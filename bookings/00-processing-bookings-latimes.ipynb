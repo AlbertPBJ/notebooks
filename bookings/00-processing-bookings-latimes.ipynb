{
 "cells": [
  {
   "cell_type": "markdown",
   "metadata": {},
   "source": [
    "# Processing LAPD bookings received via email"
   ]
  },
  {
   "cell_type": "code",
   "execution_count": 1,
   "metadata": {},
   "outputs": [],
   "source": [
    "import pandas as pd\n",
    "import pyarrow\n",
    "import geopandas as gpd\n",
    "import matplotlib\n",
    "import matplotlib.pyplot as plt\n",
    "import geojson\n",
    "import json\n",
    "import jenkspy\n",
    "import sqlalchemy\n",
    "import dateutil\n",
    "import numpy as np\n",
    "from earthpy import clip as cl\n",
    "from altair import datum\n",
    "import weightedcalcs as wc\n",
    "import altair as alt\n",
    "import psycopg2 as pg\n",
    "import pandas.io.sql as psql\n",
    "alt.renderers.enable('notebook')\n",
    "import altair_latimes as lat\n",
    "alt.themes.register('latimes', lat.theme)\n",
    "alt.themes.enable('latimes')\n",
    "pd.options.display.max_columns = 50\n",
    "pd.options.display.max_rows = 1000\n",
    "pd.options.display.float_format = '{:.0f}'.format"
   ]
  },
  {
   "cell_type": "code",
   "execution_count": 2,
   "metadata": {},
   "outputs": [],
   "source": [
    "# read csv we've exported from postgres database with bookings\n",
    "src = pd.read_csv('/Users/mhustiles/data/data/LA/latimes_bookings.csv',low_memory=False)"
   ]
  },
  {
   "cell_type": "code",
   "execution_count": 3,
   "metadata": {},
   "outputs": [],
   "source": [
    "src.columns = src.columns.str.strip().str.lower().str.replace(' ', '_')\\\n",
    "                    .str.replace('(', '').str.replace(')', '').str.replace('-','_')"
   ]
  },
  {
   "cell_type": "code",
   "execution_count": 4,
   "metadata": {},
   "outputs": [],
   "source": [
    "src = src.astype({'id':'object', \n",
    "            'attachment_id':'object', \n",
    "            'booking_num':'object', \n",
    "            'jail':'object', \n",
    "            'arrest_zipcode':'object'})"
   ]
  },
  {
   "cell_type": "code",
   "execution_count": 5,
   "metadata": {},
   "outputs": [],
   "source": [
    "src.drop_duplicates(inplace=True)"
   ]
  },
  {
   "cell_type": "code",
   "execution_count": 6,
   "metadata": {},
   "outputs": [],
   "source": [
    "bookings = pd.DataFrame(src)"
   ]
  },
  {
   "cell_type": "code",
   "execution_count": 7,
   "metadata": {},
   "outputs": [],
   "source": [
    "bookings['nu_booking_date'] = bookings['booking_date']\\\n",
    "    .str.replace(':00-08', ':00', regex=False).str.replace(':00-07', ':00', regex=False)\n",
    "\n",
    "bookings['nu_booking_date'] = pd.to_datetime(bookings['nu_booking_date'], format='%Y-%m-%d %H:%M:%S')"
   ]
  },
  {
   "cell_type": "code",
   "execution_count": 8,
   "metadata": {},
   "outputs": [],
   "source": [
    "bookings['nu_arrest_date'] = bookings['arrest_date']\\\n",
    "    .str.replace(':00-08', ':00', regex=False).str.replace(':00-07', ':00', regex=False)\n",
    "\n",
    "bookings['nu_arrest_date'] = pd.to_datetime(bookings['nu_arrest_date'], format='%Y-%m-%d %H:%M:%S')"
   ]
  },
  {
   "cell_type": "code",
   "execution_count": 9,
   "metadata": {},
   "outputs": [],
   "source": [
    "bookings['nu_release_date'] = bookings['release_date']\\\n",
    "    .str.replace(':00-08', ':00', regex=False).str.replace(':00-07', ':00', regex=False)\n",
    "\n",
    "bookings['nu_release_date'] = pd.to_datetime(bookings['nu_release_date'], format='%Y-%m-%d %H:%M:%S')"
   ]
  },
  {
   "cell_type": "code",
   "execution_count": 10,
   "metadata": {},
   "outputs": [],
   "source": [
    "bookings['arrest_year'] = bookings['nu_arrest_date'].dt.year\n",
    "bookings['arrest_day'] = bookings['nu_arrest_date'].dt.day\n",
    "bookings['arrest_month'] = bookings['nu_arrest_date'].dt.month\n",
    "bookings['arrest_weekday'] = bookings['nu_arrest_date'].dt.weekday_name\n",
    "bookings['arrest_monthname'] = bookings['nu_arrest_date'].dt.month_name()\n",
    "bookings['arrest_hour'] = bookings['nu_arrest_date'].dt.hour.astype(object)"
   ]
  },
  {
   "cell_type": "code",
   "execution_count": 11,
   "metadata": {},
   "outputs": [
    {
     "data": {
      "text/plain": [
       "id                             object\n",
       "attachment_id                  object\n",
       "booking_num                    object\n",
       "booking_date                   object\n",
       "jail                           object\n",
       "first_name                     object\n",
       "middle_name                    object\n",
       "last_name                      object\n",
       "suffix                         object\n",
       "gender                         object\n",
       "race                           object\n",
       "hair_color                     object\n",
       "eye_color                      object\n",
       "height                        float64\n",
       "weight                        float64\n",
       "date_of_birth                  object\n",
       "occupation                     object\n",
       "arrestee_address               object\n",
       "arrestee_city                  object\n",
       "arrestee_state                 object\n",
       "arrest_date                    object\n",
       "arrest_address                 object\n",
       "arrest_zipcode                 object\n",
       "charge_string                  object\n",
       "total_bail                    float64\n",
       "no_bail                        object\n",
       "release_date                   object\n",
       "release_reason                 object\n",
       "release_location               object\n",
       "release_agency                 object\n",
       "has_been_amended               object\n",
       "arr_div                        object\n",
       "arrest_cross_street            object\n",
       "nu_booking_date        datetime64[ns]\n",
       "nu_arrest_date         datetime64[ns]\n",
       "nu_release_date        datetime64[ns]\n",
       "arrest_year                   float64\n",
       "arrest_day                    float64\n",
       "arrest_month                  float64\n",
       "arrest_weekday                 object\n",
       "arrest_monthname               object\n",
       "arrest_hour                    object\n",
       "dtype: object"
      ]
     },
     "execution_count": 11,
     "metadata": {},
     "output_type": "execute_result"
    }
   ],
   "source": [
    "bookings.dtypes"
   ]
  },
  {
   "cell_type": "markdown",
   "metadata": {},
   "source": [
    "---"
   ]
  },
  {
   "cell_type": "code",
   "execution_count": 12,
   "metadata": {},
   "outputs": [],
   "source": [
    "bookings.arrestee_address = bookings.arrestee_address.fillna('')\n",
    "bookings.booking_num = bookings.booking_num.astype(str)"
   ]
  },
  {
   "cell_type": "code",
   "execution_count": 13,
   "metadata": {},
   "outputs": [],
   "source": [
    "bookings['homeless'] = bookings['arrestee_address'].str.contains('1942 TRANSIENT')"
   ]
  },
  {
   "cell_type": "code",
   "execution_count": 14,
   "metadata": {},
   "outputs": [],
   "source": [
    "bookings = bookings.fillna('')"
   ]
  },
  {
   "cell_type": "code",
   "execution_count": 15,
   "metadata": {},
   "outputs": [
    {
     "data": {
      "text/plain": [
       "id                                             41825\n",
       "attachment_id                                    156\n",
       "booking_num                                  2660329\n",
       "booking_date                  2011-03-02 16:20:00-08\n",
       "jail                                            4279\n",
       "first_name                                    DAREON\n",
       "middle_name                                   JOSHUA\n",
       "last_name                                   WILLIAMS\n",
       "suffix                                              \n",
       "gender                                             M\n",
       "race                                               B\n",
       "hair_color                                       BLK\n",
       "eye_color                                        BRO\n",
       "height                                           509\n",
       "weight                                           150\n",
       "date_of_birth                             1986-06-13\n",
       "occupation                                  SECURITY\n",
       "arrestee_address                      608 COLEMAN ST\n",
       "arrestee_city                            LOS ANGELES\n",
       "arrestee_state                                    CA\n",
       "arrest_date                   2011-03-02 13:20:00-08\n",
       "arrest_address                        11465 AMBOY AV\n",
       "arrest_zipcode                                 91340\n",
       "charge_string          BETTERY AGAINST FORMER SPOUSE\n",
       "total_bail                                     30000\n",
       "no_bail                                            f\n",
       "release_date                                        \n",
       "release_reason                                      \n",
       "release_location                                    \n",
       "release_agency                                      \n",
       "has_been_amended                                   f\n",
       "arr_div                                             \n",
       "arrest_cross_street                                 \n",
       "nu_booking_date                  2011-03-02 16:20:00\n",
       "nu_arrest_date                   2011-03-02 13:20:00\n",
       "nu_release_date                                     \n",
       "arrest_year                                     2011\n",
       "arrest_day                                         2\n",
       "arrest_month                                       3\n",
       "arrest_weekday                             Wednesday\n",
       "arrest_monthname                               March\n",
       "arrest_hour                                       13\n",
       "homeless                                       False\n",
       "Name: 0, dtype: object"
      ]
     },
     "execution_count": 15,
     "metadata": {},
     "output_type": "execute_result"
    }
   ],
   "source": [
    "bookings.loc[0]"
   ]
  },
  {
   "cell_type": "markdown",
   "metadata": {},
   "source": [
    "---"
   ]
  },
  {
   "cell_type": "code",
   "execution_count": 16,
   "metadata": {},
   "outputs": [],
   "source": [
    "years = bookings.groupby(['homeless', 'arrest_year'])\\\n",
    "    .agg('size').reset_index(name='bookings').drop([0,1,12,13,14,15,26,27])"
   ]
  },
  {
   "cell_type": "code",
   "execution_count": 17,
   "metadata": {},
   "outputs": [
    {
     "data": {
      "application/javascript": [
       "const spec = {\"config\": {\"view\": {\"width\": 800, \"height\": 450}, \"background\": \"#ffffff\", \"title\": {\"anchor\": \"start\", \"font\": \"Benton Gothic Bold, sans\", \"fontColor\": \"#000000\", \"fontSize\": 22, \"fontWeight\": \"normal\"}, \"arc\": {\"fill\": \"#82c6df\"}, \"area\": {\"fill\": \"#82c6df\"}, \"line\": {\"stroke\": \"#82c6df\", \"strokeWidth\": 3}, \"path\": {\"stroke\": \"#82c6df\"}, \"rect\": {\"fill\": \"#82c6df\"}, \"shape\": {\"stroke\": \"#82c6df\"}, \"bar\": {\"fill\": \"#82c6df\"}, \"point\": {\"stroke\": \"#82c6df\"}, \"symbol\": {\"fill\": \"#82c6df\", \"size\": 30}, \"axis\": {\"titleFont\": \"Benton Gothic Bold, sans\", \"titleFontSize\": 13, \"titleFontWeight\": \"normal\", \"labelFont\": \"Benton Gothic, sans\", \"labelFontSize\": 11.5, \"labelFontWeight\": \"normal\"}, \"axisX\": {\"labelAngle\": 0, \"labelPadding\": 4, \"tickSize\": 3}, \"axisY\": {\"labelBaseline\": \"middle\", \"maxExtent\": 45, \"minExtent\": 45, \"tickSize\": 2, \"titleAlign\": \"left\", \"titleAngle\": 0, \"titleX\": -45, \"titleY\": -11}, \"legend\": {\"titleFont\": \"Benton Gothic Bold, sans\", \"titleFontSize\": 13, \"titleFontWeight\": \"normal\", \"symbolType\": \"square\", \"labelFont\": \"Benton Gothic, sans\", \"labelFontSize\": 11.5}, \"range\": {\"category\": [\"#3580b1\", \"#ec8431\", \"#ab7fb4\", \"#c89d29\", \"#adc839\", \"#829eb1\"], \"diverging\": [\"#e68a4f\", \"#f4bb6a\", \"#f9e39c\", \"#dadfe2\", \"#a6b7c6\", \"#849eae\"], \"heatmap\": [\"#fbf2c7\", \"#f9e39c\", \"#f8d36e\", \"#f4bb6a\", \"#e68a4f\", \"#d15a40\", \"#ab4232\"], \"ordinal\": [\"#fbf2c7\", \"#f9e39c\", \"#f8d36e\", \"#f4bb6a\", \"#e68a4f\", \"#d15a40\", \"#ab4232\"], \"ramp\": [\"#fbf2c7\", \"#f9e39c\", \"#f8d36e\", \"#f4bb6a\", \"#e68a4f\", \"#d15a40\", \"#ab4232\"]}}, \"data\": {\"name\": \"data-f72fadd62ba649f0e74c1ea4217307b0\"}, \"mark\": \"bar\", \"encoding\": {\"color\": {\"type\": \"nominal\", \"field\": \"homeless\"}, \"x\": {\"type\": \"quantitative\", \"aggregate\": \"sum\", \"field\": \"bookings\", \"stack\": \"normalize\"}, \"y\": {\"type\": \"nominal\", \"field\": \"arrest_year\"}}, \"$schema\": \"https://vega.github.io/schema/vega-lite/v3.4.0.json\", \"datasets\": {\"data-f72fadd62ba649f0e74c1ea4217307b0\": [{\"homeless\": false, \"arrest_year\": 2010.0, \"bookings\": 84232}, {\"homeless\": false, \"arrest_year\": 2011.0, \"bookings\": 86375}, {\"homeless\": false, \"arrest_year\": 2012.0, \"bookings\": 88985}, {\"homeless\": false, \"arrest_year\": 2013.0, \"bookings\": 85540}, {\"homeless\": false, \"arrest_year\": 2014.0, \"bookings\": 80839}, {\"homeless\": false, \"arrest_year\": 2015.0, \"bookings\": 73629}, {\"homeless\": false, \"arrest_year\": 2016.0, \"bookings\": 52121}, {\"homeless\": false, \"arrest_year\": 2017.0, \"bookings\": 54387}, {\"homeless\": false, \"arrest_year\": 2018.0, \"bookings\": 58712}, {\"homeless\": false, \"arrest_year\": 2019.0, \"bookings\": 56154}, {\"homeless\": true, \"arrest_year\": 2010.0, \"bookings\": 9433}, {\"homeless\": true, \"arrest_year\": 2011.0, \"bookings\": 10300}, {\"homeless\": true, \"arrest_year\": 2012.0, \"bookings\": 11532}, {\"homeless\": true, \"arrest_year\": 2013.0, \"bookings\": 11965}, {\"homeless\": true, \"arrest_year\": 2014.0, \"bookings\": 12369}, {\"homeless\": true, \"arrest_year\": 2015.0, \"bookings\": 13208}, {\"homeless\": true, \"arrest_year\": 2016.0, \"bookings\": 10262}, {\"homeless\": true, \"arrest_year\": 2017.0, \"bookings\": 13627}, {\"homeless\": true, \"arrest_year\": 2018.0, \"bookings\": 16337}, {\"homeless\": true, \"arrest_year\": 2019.0, \"bookings\": 16614}]}};\n",
       "const opt = {};\n",
       "const type = \"vega-lite\";\n",
       "const id = \"e03f690f-57d4-4c47-a7da-c7e425775adb\";\n",
       "\n",
       "const output_area = this;\n",
       "\n",
       "require([\"nbextensions/jupyter-vega/index\"], function(vega) {\n",
       "  const target = document.createElement(\"div\");\n",
       "  target.id = id;\n",
       "  target.className = \"vega-embed\";\n",
       "\n",
       "  const style = document.createElement(\"style\");\n",
       "  style.textContent = [\n",
       "    \".vega-embed .error p {\",\n",
       "    \"  color: firebrick;\",\n",
       "    \"  font-size: 14px;\",\n",
       "    \"}\",\n",
       "  ].join(\"\\\\n\");\n",
       "\n",
       "  // element is a jQuery wrapped DOM element inside the output area\n",
       "  // see http://ipython.readthedocs.io/en/stable/api/generated/\\\n",
       "  // IPython.display.html#IPython.display.Javascript.__init__\n",
       "  element[0].appendChild(target);\n",
       "  element[0].appendChild(style);\n",
       "\n",
       "  vega.render(\"#\" + id, spec, type, opt, output_area);\n",
       "}, function (err) {\n",
       "  if (err.requireType !== \"scripterror\") {\n",
       "    throw(err);\n",
       "  }\n",
       "});\n"
      ],
      "text/plain": [
       "<vega.vegalite.VegaLite at 0x1321405f8>"
      ]
     },
     "metadata": {
      "jupyter-vega": "#e03f690f-57d4-4c47-a7da-c7e425775adb"
     },
     "output_type": "display_data"
    },
    {
     "data": {
      "text/plain": []
     },
     "execution_count": 17,
     "metadata": {},
     "output_type": "execute_result"
    },
    {
     "data": {
      "image/png": "[encoded data removed]"
     },
     "metadata": {
      "jupyter-vega": "#e03f690f-57d4-4c47-a7da-c7e425775adb"
     },
     "output_type": "display_data"
    }
   ],
   "source": [
    "alt.Chart(years).mark_bar().encode(\n",
    "    x=alt.X('sum(bookings)', stack=\"normalize\"),\n",
    "    y='arrest_year:N',\n",
    "    color='homeless'\n",
    ")"
   ]
  },
  {
   "cell_type": "code",
   "execution_count": 18,
   "metadata": {},
   "outputs": [],
   "source": [
    "years_pivot = pd.DataFrame(years.pivot(index='arrest_year', \\\n",
    "                                       columns='homeless', values='bookings').reset_index())"
   ]
  },
  {
   "cell_type": "code",
   "execution_count": 19,
   "metadata": {},
   "outputs": [],
   "source": [
    "years_pivot = pd.pivot_table(years, index='arrest_year', \n",
    "                       columns=['homeless'],\n",
    "                       values = 'bookings',\n",
    "                       aggfunc=np.sum,\n",
    "                       margins=True).reset_index()"
   ]
  },
  {
   "cell_type": "code",
   "execution_count": 20,
   "metadata": {},
   "outputs": [],
   "source": [
    "years_pivot.to_csv('output/years_pivot.csv')"
   ]
  },
  {
   "cell_type": "code",
   "execution_count": 21,
   "metadata": {},
   "outputs": [
    {
     "data": {
      "text/html": [
       "<div>\n",
       "<style scoped>\n",
       "    .dataframe tbody tr th:only-of-type {\n",
       "        vertical-align: middle;\n",
       "    }\n",
       "\n",
       "    .dataframe tbody tr th {\n",
       "        vertical-align: top;\n",
       "    }\n",
       "\n",
       "    .dataframe thead th {\n",
       "        text-align: right;\n",
       "    }\n",
       "</style>\n",
       "<table border=\"1\" class=\"dataframe\">\n",
       "  <thead>\n",
       "    <tr style=\"text-align: right;\">\n",
       "      <th>homeless</th>\n",
       "      <th>arrest_year</th>\n",
       "      <th>False</th>\n",
       "      <th>True</th>\n",
       "      <th>All</th>\n",
       "    </tr>\n",
       "  </thead>\n",
       "  <tbody>\n",
       "    <tr>\n",
       "      <th>0</th>\n",
       "      <td>2010</td>\n",
       "      <td>84232</td>\n",
       "      <td>9433</td>\n",
       "      <td>93665</td>\n",
       "    </tr>\n",
       "    <tr>\n",
       "      <th>1</th>\n",
       "      <td>2011</td>\n",
       "      <td>86375</td>\n",
       "      <td>10300</td>\n",
       "      <td>96675</td>\n",
       "    </tr>\n",
       "    <tr>\n",
       "      <th>2</th>\n",
       "      <td>2012</td>\n",
       "      <td>88985</td>\n",
       "      <td>11532</td>\n",
       "      <td>100517</td>\n",
       "    </tr>\n",
       "    <tr>\n",
       "      <th>3</th>\n",
       "      <td>2013</td>\n",
       "      <td>85540</td>\n",
       "      <td>11965</td>\n",
       "      <td>97505</td>\n",
       "    </tr>\n",
       "    <tr>\n",
       "      <th>4</th>\n",
       "      <td>2014</td>\n",
       "      <td>80839</td>\n",
       "      <td>12369</td>\n",
       "      <td>93208</td>\n",
       "    </tr>\n",
       "    <tr>\n",
       "      <th>5</th>\n",
       "      <td>2015</td>\n",
       "      <td>73629</td>\n",
       "      <td>13208</td>\n",
       "      <td>86837</td>\n",
       "    </tr>\n",
       "    <tr>\n",
       "      <th>6</th>\n",
       "      <td>2016</td>\n",
       "      <td>52121</td>\n",
       "      <td>10262</td>\n",
       "      <td>62383</td>\n",
       "    </tr>\n",
       "    <tr>\n",
       "      <th>7</th>\n",
       "      <td>2017</td>\n",
       "      <td>54387</td>\n",
       "      <td>13627</td>\n",
       "      <td>68014</td>\n",
       "    </tr>\n",
       "    <tr>\n",
       "      <th>8</th>\n",
       "      <td>2018</td>\n",
       "      <td>58712</td>\n",
       "      <td>16337</td>\n",
       "      <td>75049</td>\n",
       "    </tr>\n",
       "    <tr>\n",
       "      <th>9</th>\n",
       "      <td>2019</td>\n",
       "      <td>56154</td>\n",
       "      <td>16614</td>\n",
       "      <td>72768</td>\n",
       "    </tr>\n",
       "    <tr>\n",
       "      <th>10</th>\n",
       "      <td>All</td>\n",
       "      <td>720974</td>\n",
       "      <td>125647</td>\n",
       "      <td>846621</td>\n",
       "    </tr>\n",
       "  </tbody>\n",
       "</table>\n",
       "</div>"
      ],
      "text/plain": [
       "homeless arrest_year   False    True     All\n",
       "0               2010   84232    9433   93665\n",
       "1               2011   86375   10300   96675\n",
       "2               2012   88985   11532  100517\n",
       "3               2013   85540   11965   97505\n",
       "4               2014   80839   12369   93208\n",
       "5               2015   73629   13208   86837\n",
       "6               2016   52121   10262   62383\n",
       "7               2017   54387   13627   68014\n",
       "8               2018   58712   16337   75049\n",
       "9               2019   56154   16614   72768\n",
       "10               All  720974  125647  846621"
      ]
     },
     "execution_count": 21,
     "metadata": {},
     "output_type": "execute_result"
    }
   ],
   "source": [
    "years_pivot"
   ]
  },
  {
   "cell_type": "code",
   "execution_count": null,
   "metadata": {},
   "outputs": [],
   "source": []
  }
 ],
 "metadata": {
  "kernelspec": {
   "display_name": "Python 3",
   "language": "python",
   "name": "python3"
  },
  "language_info": {
   "codemirror_mode": {
    "name": "ipython",
    "version": 3
   },
   "file_extension": ".py",
   "mimetype": "text/x-python",
   "name": "python",
   "nbconvert_exporter": "python",
   "pygments_lexer": "ipython3",
   "version": "3.7.3"
  }
 },
 "nbformat": 4,
 "nbformat_minor": 2
}
