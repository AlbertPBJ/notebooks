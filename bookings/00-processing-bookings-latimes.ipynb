{
 "cells": [
  {
   "cell_type": "markdown",
   "metadata": {},
   "source": [
    "# Processing LAPD bookings received via email"
   ]
  },
  {
   "cell_type": "code",
   "execution_count": 1,
   "metadata": {},
   "outputs": [],
   "source": [
    "import pandas as pd\n",
    "import geopandas as gpd\n",
    "import matplotlib\n",
    "import matplotlib.pyplot as plt\n",
    "import geojson\n",
    "import json\n",
    "import jenkspy\n",
    "import numpy as np\n",
    "from altair import datum\n",
    "import altair as alt\n",
    "alt.renderers.enable('notebook')\n",
    "import altair_latimes as lat\n",
    "alt.themes.register('latimes', lat.theme)\n",
    "alt.themes.enable('latimes')\n",
    "pd.options.display.max_columns = 50\n",
    "pd.options.display.max_rows = 100\n",
    "pd.options.display.float_format = '{:.0f}'.format"
   ]
  },
  {
   "cell_type": "code",
   "execution_count": 2,
   "metadata": {},
   "outputs": [],
   "source": [
    "# read csv we've exported from postgres database with bookings\n",
    "src = pd.read_csv('/Users/mhustiles/data/data/LA/latimes_bookings.csv',low_memory=False)"
   ]
  },
  {
   "cell_type": "code",
   "execution_count": 3,
   "metadata": {},
   "outputs": [],
   "source": [
    "src.columns = src.columns.str.strip().str.lower().str.replace(' ', '_')\\\n",
    "                    .str.replace('(', '').str.replace(')', '').str.replace('-','_')"
   ]
  },
  {
   "cell_type": "code",
   "execution_count": 4,
   "metadata": {},
   "outputs": [],
   "source": [
    "src = src.astype({'id':'object', \n",
    "            'attachment_id':'object', \n",
    "            'booking_num':'object', \n",
    "            'jail':'object', \n",
    "            'arrest_zipcode':'object'})"
   ]
  },
  {
   "cell_type": "code",
   "execution_count": 5,
   "metadata": {},
   "outputs": [],
   "source": [
    "src.drop_duplicates(inplace=True)"
   ]
  },
  {
   "cell_type": "code",
   "execution_count": 6,
   "metadata": {},
   "outputs": [],
   "source": [
    "bookings = pd.DataFrame(src)"
   ]
  },
  {
   "cell_type": "code",
   "execution_count": 7,
   "metadata": {},
   "outputs": [],
   "source": [
    "bookings['nu_booking_date'] = bookings['booking_date']\\\n",
    "    .str.replace(':00-08', ':00', regex=False).str.replace(':00-07', ':00', regex=False)\n",
    "\n",
    "bookings['nu_booking_date'] = pd.to_datetime(bookings['nu_booking_date'], format='%Y-%m-%d %H:%M:%S')"
   ]
  },
  {
   "cell_type": "code",
   "execution_count": 8,
   "metadata": {},
   "outputs": [],
   "source": [
    "bookings['nu_arrest_date'] = bookings['arrest_date']\\\n",
    "    .str.replace(':00-08', ':00', regex=False).str.replace(':00-07', ':00', regex=False)\n",
    "\n",
    "bookings['nu_arrest_date'] = pd.to_datetime(bookings['nu_arrest_date'], format='%Y-%m-%d %H:%M:%S')"
   ]
  },
  {
   "cell_type": "code",
   "execution_count": 9,
   "metadata": {},
   "outputs": [],
   "source": [
    "bookings['nu_release_date'] = bookings['release_date']\\\n",
    "    .str.replace(':00-08', ':00', regex=False).str.replace(':00-07', ':00', regex=False)\n",
    "\n",
    "bookings['nu_release_date'] = pd.to_datetime(bookings['nu_release_date'], format='%Y-%m-%d %H:%M:%S')"
   ]
  },
  {
   "cell_type": "code",
   "execution_count": 10,
   "metadata": {},
   "outputs": [],
   "source": [
    "bookings['arrest_year'] = bookings['nu_arrest_date'].dt.year\n",
    "bookings['arrest_day'] = bookings['nu_arrest_date'].dt.day\n",
    "bookings['arrest_month'] = bookings['nu_arrest_date'].dt.month\n",
    "bookings['arrest_weekday'] = bookings['nu_arrest_date'].dt.weekday_name\n",
    "bookings['arrest_monthname'] = bookings['nu_arrest_date'].dt.month_name()\n",
    "bookings['arrest_hour'] = bookings['nu_arrest_date'].dt.hour.astype(object)"
   ]
  },
  {
   "cell_type": "code",
   "execution_count": 11,
   "metadata": {},
   "outputs": [
    {
     "data": {
      "text/plain": [
       "id                             object\n",
       "attachment_id                  object\n",
       "booking_num                    object\n",
       "booking_date                   object\n",
       "jail                           object\n",
       "first_name                     object\n",
       "middle_name                    object\n",
       "last_name                      object\n",
       "suffix                         object\n",
       "gender                         object\n",
       "race                           object\n",
       "hair_color                     object\n",
       "eye_color                      object\n",
       "height                        float64\n",
       "weight                        float64\n",
       "date_of_birth                  object\n",
       "occupation                     object\n",
       "arrestee_address               object\n",
       "arrestee_city                  object\n",
       "arrestee_state                 object\n",
       "arrest_date                    object\n",
       "arrest_address                 object\n",
       "arrest_zipcode                 object\n",
       "charge_string                  object\n",
       "total_bail                    float64\n",
       "no_bail                        object\n",
       "release_date                   object\n",
       "release_reason                 object\n",
       "release_location               object\n",
       "release_agency                 object\n",
       "has_been_amended               object\n",
       "arr_div                        object\n",
       "arrest_cross_street            object\n",
       "nu_booking_date        datetime64[ns]\n",
       "nu_arrest_date         datetime64[ns]\n",
       "nu_release_date        datetime64[ns]\n",
       "arrest_year                   float64\n",
       "arrest_day                    float64\n",
       "arrest_month                  float64\n",
       "arrest_weekday                 object\n",
       "arrest_monthname               object\n",
       "arrest_hour                    object\n",
       "dtype: object"
      ]
     },
     "execution_count": 11,
     "metadata": {},
     "output_type": "execute_result"
    }
   ],
   "source": [
    "bookings.dtypes"
   ]
  },
  {
   "cell_type": "markdown",
   "metadata": {},
   "source": [
    "---"
   ]
  },
  {
   "cell_type": "code",
   "execution_count": 12,
   "metadata": {},
   "outputs": [],
   "source": [
    "bookings.arrestee_address = bookings.arrestee_address.fillna('')\n",
    "bookings.booking_num = bookings.booking_num.astype(str)"
   ]
  },
  {
   "cell_type": "code",
   "execution_count": 13,
   "metadata": {},
   "outputs": [],
   "source": [
    "bookings['homeless'] = bookings['arrestee_address'].str.contains('1942 TRANSIENT')"
   ]
  },
  {
   "cell_type": "code",
   "execution_count": null,
   "metadata": {},
   "outputs": [],
   "source": [
    "booleanDict = {True: 'Homeless', False: 'Not homeless'}\n",
    "bookings = bookings.replace(booleanDict)"
   ]
  },
  {
   "cell_type": "code",
   "execution_count": null,
   "metadata": {},
   "outputs": [],
   "source": [
    "bookings = bookings.fillna('')"
   ]
  },
  {
   "cell_type": "code",
   "execution_count": null,
   "metadata": {},
   "outputs": [],
   "source": [
    "bookings.loc[0]"
   ]
  },
  {
   "cell_type": "markdown",
   "metadata": {},
   "source": [
    "---"
   ]
  },
  {
   "cell_type": "markdown",
   "metadata": {},
   "source": [
    "## Arrests trends for homeless and non-homeless LA residents"
   ]
  },
  {
   "cell_type": "markdown",
   "metadata": {},
   "source": [
    "### Count arrests by year and type. Drop '09, '20 & and handful of missing years"
   ]
  },
  {
   "cell_type": "code",
   "execution_count": null,
   "metadata": {},
   "outputs": [],
   "source": [
    "years = bookings.groupby(['homeless', 'arrest_year'])\\\n",
    "    .agg('size').reset_index(name='bookings').drop([0,1,12,13,14,15,26,27])"
   ]
  },
  {
   "cell_type": "code",
   "execution_count": null,
   "metadata": {},
   "outputs": [],
   "source": [
    "years.head(20)"
   ]
  },
  {
   "cell_type": "markdown",
   "metadata": {},
   "source": [
    "### What's the homeless resident arrest share — and how has that changed over time?"
   ]
  },
  {
   "cell_type": "code",
   "execution_count": null,
   "metadata": {},
   "outputs": [],
   "source": [
    "homeless_arrests_share = alt.Chart(years).mark_area().encode(\n",
    "    y=alt.Y('sum(bookings):Q', stack=\"normalize\", axis=alt.Axis(format='%', tickCount=7), title=' '),\n",
    "    x=alt.X('arrest_year:N', title=' '),\n",
    "    color=alt.Color('homeless', title=' '),\n",
    "    order=alt.Order('sum(bookings):Q', sort='ascending')\n",
    ").properties(width=600,height=300, title='Homeless share of LAPD arrests')\n",
    "\n",
    "homeless_arrests_share.configure_legend(\n",
    "    orient='top'\n",
    ")"
   ]
  },
  {
   "cell_type": "markdown",
   "metadata": {},
   "source": [
    "### How have LAPD's homeless arrest counts changed overtime?"
   ]
  },
  {
   "cell_type": "code",
   "execution_count": null,
   "metadata": {},
   "outputs": [],
   "source": [
    "homeless_arrests_trend_line = alt.Chart(years).mark_line().encode(\n",
    "    x=alt.X('arrest_year:N', title='Year'),\n",
    "    y=alt.Y('bookings:Q', axis=alt.Axis(tickCount=6, format=''), title=' '),\n",
    "    color=alt.Color('homeless', title=' ')\n",
    ")\n",
    "\n",
    "homeless_arrests_trend_line.configure_legend(\n",
    "    orient='top',\n",
    "    symbolType='stroke',\n",
    "    symbolSize=200\n",
    ").properties(width=400,height=300, title='Annual LAPD arrests, by resident type')"
   ]
  },
  {
   "cell_type": "markdown",
   "metadata": {},
   "source": [
    "### Pivot the years table for exort"
   ]
  },
  {
   "cell_type": "code",
   "execution_count": null,
   "metadata": {},
   "outputs": [],
   "source": [
    "years_pivot = pd.DataFrame(years.pivot(index='arrest_year', \\\n",
    "                                       columns='homeless', values='bookings').reset_index())"
   ]
  },
  {
   "cell_type": "code",
   "execution_count": null,
   "metadata": {},
   "outputs": [],
   "source": [
    "years_pivot = pd.pivot_table(years, index='arrest_year', \n",
    "                       columns=['homeless'],\n",
    "                       values = 'bookings',\n",
    "                       aggfunc=np.sum,\n",
    "                       margins=True).reset_index().drop(10)"
   ]
  },
  {
   "cell_type": "code",
   "execution_count": null,
   "metadata": {},
   "outputs": [],
   "source": [
    "years_pivot.rename(columns={\"arrest_year\": \"year\", 'Homeless':'homeless', \\\n",
    "                            'Not homeless':'not_homeless', \"All\": \"total\"})"
   ]
  },
  {
   "cell_type": "code",
   "execution_count": null,
   "metadata": {},
   "outputs": [],
   "source": [
    "years_pivot.to_csv('output/years_pivot.csv')"
   ]
  },
  {
   "cell_type": "markdown",
   "metadata": {},
   "source": [
    "---"
   ]
  },
  {
   "cell_type": "markdown",
   "metadata": {},
   "source": [
    "## Import Los Angeles geography"
   ]
  },
  {
   "cell_type": "markdown",
   "metadata": {},
   "source": [
    "### LAPD divisions"
   ]
  },
  {
   "cell_type": "code",
   "execution_count": null,
   "metadata": {},
   "outputs": [],
   "source": [
    "divisions_src = gpd.read_file('/Users/mhustiles/data/github/notebooks/lapd-crimes-arrests/output/lapd_divisions.json')"
   ]
  },
  {
   "cell_type": "code",
   "execution_count": null,
   "metadata": {},
   "outputs": [],
   "source": [
    "divisions_src.plot()"
   ]
  },
  {
   "cell_type": "code",
   "execution_count": null,
   "metadata": {},
   "outputs": [],
   "source": [
    "divisions_src.columns = divisions_src.columns.str.strip().str.lower().str.replace(' ', '_').str.replace('(', '').str.replace(')', '')"
   ]
  },
  {
   "cell_type": "code",
   "execution_count": null,
   "metadata": {},
   "outputs": [],
   "source": [
    "divisions = divisions_src[['aprec', 'prec', 'area', 'geometry']]"
   ]
  },
  {
   "cell_type": "markdown",
   "metadata": {},
   "source": [
    "### LA Times neighborhoods"
   ]
  },
  {
   "cell_type": "code",
   "execution_count": null,
   "metadata": {},
   "outputs": [],
   "source": [
    "hoodssrc = gpd.read_file('/Users/mhustiles/data/github/notebooks/lapd-crimes-arrests/input/custom-la-hoods-skid-row.geojson')"
   ]
  },
  {
   "cell_type": "code",
   "execution_count": null,
   "metadata": {},
   "outputs": [],
   "source": [
    "hoodssrc.columns = hoodssrc.columns.str.strip().str.lower().str.replace(' ', '_')\\\n",
    "    .str.replace('(', '').str.replace(')', '')"
   ]
  },
  {
   "cell_type": "markdown",
   "metadata": {},
   "source": [
    "### Trim the neighborhoods dataframe"
   ]
  },
  {
   "cell_type": "code",
   "execution_count": null,
   "metadata": {},
   "outputs": [],
   "source": [
    "hoods = hoodssrc[['name', 'geometry']]"
   ]
  },
  {
   "cell_type": "code",
   "execution_count": null,
   "metadata": {},
   "outputs": [],
   "source": [
    "hoodssrc.plot()"
   ]
  },
  {
   "cell_type": "code",
   "execution_count": null,
   "metadata": {},
   "outputs": [],
   "source": []
  }
 ],
 "metadata": {
  "kernelspec": {
   "display_name": "Python 3",
   "language": "python",
   "name": "python3"
  },
  "language_info": {
   "codemirror_mode": {
    "name": "ipython",
    "version": 3
   },
   "file_extension": ".py",
   "mimetype": "text/x-python",
   "name": "python",
   "nbconvert_exporter": "python",
   "pygments_lexer": "ipython3",
   "version": "3.7.3"
  }
 },
 "nbformat": 4,
 "nbformat_minor": 2
}
