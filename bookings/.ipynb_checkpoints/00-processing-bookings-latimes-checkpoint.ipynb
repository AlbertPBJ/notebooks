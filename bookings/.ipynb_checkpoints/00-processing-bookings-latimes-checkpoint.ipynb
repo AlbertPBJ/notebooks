{
 "cells": [
  {
   "cell_type": "markdown",
   "metadata": {},
   "source": [
    "# Processing LAPD bookings received via email"
   ]
  },
  {
   "cell_type": "code",
   "execution_count": 360,
   "metadata": {},
   "outputs": [],
   "source": [
    "import pandas as pd\n",
    "import pyarrow\n",
    "import geopandas as gpd\n",
    "import matplotlib\n",
    "import matplotlib.pyplot as plt\n",
    "import geojson\n",
    "import json\n",
    "import jenkspy\n",
    "import sqlalchemy\n",
    "import dateutil\n",
    "import numpy as np\n",
    "from earthpy import clip as cl\n",
    "from altair import datum\n",
    "import weightedcalcs as wc\n",
    "import altair as alt\n",
    "import psycopg2 as pg\n",
    "import pandas.io.sql as psql\n",
    "alt.renderers.enable('notebook')\n",
    "import altair_latimes as lat\n",
    "alt.themes.register('latimes', lat.theme)\n",
    "alt.themes.enable('latimes')\n",
    "pd.options.display.max_columns = 50\n",
    "pd.options.display.max_rows = 1000\n",
    "pd.options.display.float_format = '{:.0f}'.format"
   ]
  },
  {
   "cell_type": "code",
   "execution_count": 342,
   "metadata": {},
   "outputs": [],
   "source": [
    "src = pd.read_csv('/Users/mhustiles/data/data/LA/latimes_bookings.csv',low_memory=False)"
   ]
  },
  {
   "cell_type": "code",
   "execution_count": 343,
   "metadata": {},
   "outputs": [],
   "source": [
    "src.columns = src.columns.str.strip().str.lower().str.replace(' ', '_')\\\n",
    "                    .str.replace('(', '').str.replace(')', '').str.replace('-','_')"
   ]
  },
  {
   "cell_type": "code",
   "execution_count": 344,
   "metadata": {},
   "outputs": [],
   "source": [
    "src = src.astype({'id':'object', \n",
    "            'attachment_id':'object', \n",
    "            'booking_num':'object', \n",
    "            'jail':'object', \n",
    "            'arrest_zipcode':'object'})"
   ]
  },
  {
   "cell_type": "code",
   "execution_count": 345,
   "metadata": {},
   "outputs": [],
   "source": [
    "arrests = pd.DataFrame(src)"
   ]
  },
  {
   "cell_type": "code",
   "execution_count": 346,
   "metadata": {},
   "outputs": [],
   "source": [
    "arrests['nu_booking_date'] = arrests['booking_date']\\\n",
    "    .str.replace(':00-08', ':00', regex=False).str.replace(':00-07', ':00', regex=False)\n",
    "\n",
    "arrests['nu_booking_date'] = pd.to_datetime(arrests['nu_booking_date'], format='%Y-%m-%d %H:%M:%S')"
   ]
  },
  {
   "cell_type": "code",
   "execution_count": 347,
   "metadata": {},
   "outputs": [],
   "source": [
    "arrests['nu_arrest_date'] = arrests['arrest_date']\\\n",
    "    .str.replace(':00-08', ':00', regex=False).str.replace(':00-07', ':00', regex=False)\n",
    "\n",
    "arrests['nu_arrest_date'] = pd.to_datetime(arrests['nu_arrest_date'], format='%Y-%m-%d %H:%M:%S')"
   ]
  },
  {
   "cell_type": "code",
   "execution_count": 348,
   "metadata": {},
   "outputs": [],
   "source": [
    "arrests['nu_release_date'] = arrests['release_date']\\\n",
    "    .str.replace(':00-08', ':00', regex=False).str.replace(':00-07', ':00', regex=False)\n",
    "\n",
    "arrests['nu_release_date'] = pd.to_datetime(arrests['nu_release_date'], format='%Y-%m-%d %H:%M:%S')"
   ]
  },
  {
   "cell_type": "code",
   "execution_count": 349,
   "metadata": {},
   "outputs": [],
   "source": [
    "arrests['arrest_year'] = arrests['nu_arrest_date'].dt.year\n",
    "arrests['arrest_day'] = arrests['nu_arrest_date'].dt.day\n",
    "arrests['arrest_month'] = arrests['nu_arrest_date'].dt.month\n",
    "arrests['arrest_weekday'] = arrests['nu_arrest_date'].dt.weekday_name\n",
    "arrests['arrest_monthname'] = arrests['nu_arrest_date'].dt.month_name()\n",
    "arrests['arrest_hour'] = arrests['nu_arrest_date'].dt.hour.astype(object)"
   ]
  },
  {
   "cell_type": "code",
   "execution_count": 350,
   "metadata": {},
   "outputs": [
    {
     "data": {
      "text/plain": [
       "id                             object\n",
       "attachment_id                  object\n",
       "booking_num                    object\n",
       "booking_date                   object\n",
       "jail                           object\n",
       "first_name                     object\n",
       "middle_name                    object\n",
       "last_name                      object\n",
       "suffix                         object\n",
       "gender                         object\n",
       "race                           object\n",
       "hair_color                     object\n",
       "eye_color                      object\n",
       "height                        float64\n",
       "weight                        float64\n",
       "date_of_birth                  object\n",
       "occupation                     object\n",
       "arrestee_address               object\n",
       "arrestee_city                  object\n",
       "arrestee_state                 object\n",
       "arrest_date                    object\n",
       "arrest_address                 object\n",
       "arrest_zipcode                 object\n",
       "charge_string                  object\n",
       "total_bail                    float64\n",
       "no_bail                        object\n",
       "release_date                   object\n",
       "release_reason                 object\n",
       "release_location               object\n",
       "release_agency                 object\n",
       "has_been_amended               object\n",
       "arr_div                        object\n",
       "arrest_cross_street            object\n",
       "nu_booking_date        datetime64[ns]\n",
       "nu_arrest_date         datetime64[ns]\n",
       "nu_release_date        datetime64[ns]\n",
       "arrest_year                   float64\n",
       "arrest_day                    float64\n",
       "arrest_month                  float64\n",
       "arrest_weekday                 object\n",
       "arrest_monthname               object\n",
       "arrest_hour                    object\n",
       "dtype: object"
      ]
     },
     "execution_count": 350,
     "metadata": {},
     "output_type": "execute_result"
    }
   ],
   "source": [
    "arrests.dtypes"
   ]
  },
  {
   "cell_type": "markdown",
   "metadata": {},
   "source": [
    "---"
   ]
  },
  {
   "cell_type": "code",
   "execution_count": 351,
   "metadata": {},
   "outputs": [],
   "source": [
    "arrests.arrestee_address = arrests.arrestee_address.fillna('')\n",
    "arrests.booking_num = arrests.booking_num.astype(str)"
   ]
  },
  {
   "cell_type": "code",
   "execution_count": 352,
   "metadata": {},
   "outputs": [
    {
     "data": {
      "text/plain": [
       "id                                             41825\n",
       "attachment_id                                    156\n",
       "booking_num                                  2660329\n",
       "booking_date                  2011-03-02 16:20:00-08\n",
       "jail                                            4279\n",
       "first_name                                    DAREON\n",
       "middle_name                                   JOSHUA\n",
       "last_name                                   WILLIAMS\n",
       "suffix                                           NaN\n",
       "gender                                             M\n",
       "race                                               B\n",
       "hair_color                                       BLK\n",
       "eye_color                                        BRO\n",
       "height                                           509\n",
       "weight                                           150\n",
       "date_of_birth                             1986-06-13\n",
       "occupation                                  SECURITY\n",
       "arrestee_address                      608 COLEMAN ST\n",
       "arrestee_city                            LOS ANGELES\n",
       "arrestee_state                                    CA\n",
       "arrest_date                   2011-03-02 13:20:00-08\n",
       "arrest_address                        11465 AMBOY AV\n",
       "arrest_zipcode                                 91340\n",
       "charge_string          BETTERY AGAINST FORMER SPOUSE\n",
       "total_bail                                     30000\n",
       "no_bail                                            f\n",
       "release_date                                     NaN\n",
       "release_reason                                   NaN\n",
       "release_location                                 NaN\n",
       "release_agency                                   NaN\n",
       "has_been_amended                                   f\n",
       "arr_div                                          NaN\n",
       "arrest_cross_street                              NaN\n",
       "nu_booking_date                  2011-03-02 16:20:00\n",
       "nu_arrest_date                   2011-03-02 13:20:00\n",
       "nu_release_date                                  NaT\n",
       "arrest_year                                     2011\n",
       "arrest_day                                         2\n",
       "arrest_month                                       3\n",
       "arrest_weekday                             Wednesday\n",
       "arrest_monthname                               March\n",
       "arrest_hour                                       13\n",
       "Name: 0, dtype: object"
      ]
     },
     "execution_count": 352,
     "metadata": {},
     "output_type": "execute_result"
    }
   ],
   "source": [
    "arrests.loc[0]"
   ]
  },
  {
   "cell_type": "code",
   "execution_count": 353,
   "metadata": {},
   "outputs": [],
   "source": [
    "homeless = arrests[arrests['arrestee_address'].str.contains('1942 TRANSIENT')]"
   ]
  },
  {
   "cell_type": "code",
   "execution_count": 354,
   "metadata": {},
   "outputs": [
    {
     "data": {
      "text/plain": [
       "144520"
      ]
     },
     "execution_count": 354,
     "metadata": {},
     "output_type": "execute_result"
    }
   ],
   "source": [
    "len(homeless)"
   ]
  },
  {
   "cell_type": "code",
   "execution_count": 355,
   "metadata": {},
   "outputs": [
    {
     "data": {
      "text/plain": [
       "1022531"
      ]
     },
     "execution_count": 355,
     "metadata": {},
     "output_type": "execute_result"
    }
   ],
   "source": [
    "len(arrests)"
   ]
  },
  {
   "cell_type": "code",
   "execution_count": 356,
   "metadata": {},
   "outputs": [
    {
     "data": {
      "text/plain": [
       "74807"
      ]
     },
     "execution_count": 356,
     "metadata": {},
     "output_type": "execute_result"
    }
   ],
   "source": [
    "len(arrests[arrests['booking_date'] > '2018/12/31'])"
   ]
  },
  {
   "cell_type": "code",
   "execution_count": 357,
   "metadata": {},
   "outputs": [
    {
     "data": {
      "text/plain": [
       "0.14133556831039842"
      ]
     },
     "execution_count": 357,
     "metadata": {},
     "output_type": "execute_result"
    }
   ],
   "source": [
    "len(homeless) / len(arrests)"
   ]
  },
  {
   "cell_type": "markdown",
   "metadata": {},
   "source": [
    "---"
   ]
  },
  {
   "cell_type": "code",
   "execution_count": 358,
   "metadata": {},
   "outputs": [],
   "source": [
    "arrests['homeless'] = arrests['arrestee_address'].str.contains('1942 TRANSIENT')"
   ]
  },
  {
   "cell_type": "code",
   "execution_count": 359,
   "metadata": {},
   "outputs": [],
   "source": [
    "arrests = arrests.fillna('')"
   ]
  }
 ],
 "metadata": {
  "kernelspec": {
   "display_name": "Python 3",
   "language": "python",
   "name": "python3"
  },
  "language_info": {
   "codemirror_mode": {
    "name": "ipython",
    "version": 3
   },
   "file_extension": ".py",
   "mimetype": "text/x-python",
   "name": "python",
   "nbconvert_exporter": "python",
   "pygments_lexer": "ipython3",
   "version": "3.7.3"
  }
 },
 "nbformat": 4,
 "nbformat_minor": 2
}
