{
 "cells": [
  {
   "cell_type": "code",
   "execution_count": 1,
   "metadata": {},
   "outputs": [],
   "source": [
    "import pandas as pd\n",
    "import matplotlib as mpl\n",
    "import geopandas as gpd\n",
    "import descartes\n",
    "import geojson\n",
    "import json\n",
    "import altair as alt\n",
    "import altair_latimes as lat\n",
    "import os, ssl\n",
    "if (not os.environ.get('PYTHONHTTPSVERIFY', '') and\n",
    "    getattr(ssl, '_create_unverified_context', None)): \n",
    "    ssl._create_default_https_context = ssl._create_unverified_context  \n",
    "alt.renderers.enable('notebook')\n",
    "alt.themes.register('latimes', lat.theme)\n",
    "alt.themes.enable('latimes')\n",
    "pd.options.display.float_format = '{:,}'.format"
   ]
  },
  {
   "cell_type": "code",
   "execution_count": 2,
   "metadata": {},
   "outputs": [],
   "source": [
    "src = pd.read_json(\"https://data.lacity.org/resource/yru6-6re4.json?$$app_token=FEV5dz8YLqrKftXTsNdLBztDz\")"
   ]
  },
  {
   "cell_type": "code",
   "execution_count": 3,
   "metadata": {},
   "outputs": [],
   "source": [
    "src.drop(columns=[':@computed_region_2dna_qi2s', ':@computed_region_k96s_3jcv',\n",
    "       ':@computed_region_kqwf_mjcx', ':@computed_region_qz3q_ghft',\n",
    "       ':@computed_region_tatf_ua23', ':@computed_region_ur2y_g4cx'], inplace=True)\n",
    "src['latitude'] = src.location_1.apply(dict).apply(lambda x: x.get('latitude'))\n",
    "src['longitude'] = src.location_1.apply(dict).apply(lambda x: x.get('longitude'))"
   ]
  },
  {
   "cell_type": "code",
   "execution_count": 4,
   "metadata": {
    "scrolled": true
   },
   "outputs": [],
   "source": [
    "arrests = pd.read_csv('/Users/mhustiles/Desktop/data/LA/Arrest_Data_from_2010_to_Present.csv')\n",
    "arrests.columns = arrests.columns.str.strip().str.lower().str.replace(' ', '_').str.replace('(', '').str.replace(')', '')"
   ]
  },
  {
   "cell_type": "code",
   "execution_count": 5,
   "metadata": {},
   "outputs": [
    {
     "data": {
      "text/plain": [
       "Index(['report_id', 'arrest_date', 'time', 'area_id', 'area_name',\n",
       "       'reporting_district', 'age', 'sex_code', 'descent_code',\n",
       "       'charge_group_code', 'charge_group_description', 'arrest_type_code',\n",
       "       'charge', 'charge_description', 'address', 'cross_street', 'location'],\n",
       "      dtype='object')"
      ]
     },
     "execution_count": 5,
     "metadata": {},
     "output_type": "execute_result"
    }
   ],
   "source": [
    "arrests.columns"
   ]
  },
  {
   "cell_type": "code",
   "execution_count": 6,
   "metadata": {},
   "outputs": [],
   "source": [
    "arrests['report_id'] = arrests['report_id'].astype(object)\n",
    "arrests['time'] = arrests['time'].astype(object)\n",
    "arrests['area_id'] = arrests['area_id'].astype(object)\n",
    "arrests['time'] = arrests['time'].astype(str)\n",
    "arrests['charge_group_code'] = arrests['charge_group_code'].astype(object)\n",
    "arrests['reporting_district'] = arrests['reporting_district'].astype(object)\n",
    "arrests['arrest_date'] = pd.to_datetime(arrests['arrest_date'], format='%m/%d/%Y')\n",
    "arrests['year'] = arrests['arrest_date'].dt.year\n",
    "arrests['month'] = arrests['arrest_date'].dt.month\n",
    "arrests['year'] = arrests['arrest_date'].dt.year\n",
    "arrests['weekday'] = arrests['arrest_date'].dt.weekday_name"
   ]
  },
  {
   "cell_type": "code",
   "execution_count": 7,
   "metadata": {
    "scrolled": true
   },
   "outputs": [],
   "source": [
    "charges = arrests.groupby(['charge', 'charge_description']).agg('size').sort_values(ascending=False).reset_index()"
   ]
  },
  {
   "cell_type": "code",
   "execution_count": 8,
   "metadata": {},
   "outputs": [],
   "source": [
    "charges_homeless = arrests[arrests.charge == '41.18DLAMC']"
   ]
  },
  {
   "cell_type": "code",
   "execution_count": 9,
   "metadata": {
    "scrolled": false
   },
   "outputs": [
    {
     "data": {
      "text/html": [
       "<div>\n",
       "<style scoped>\n",
       "    .dataframe tbody tr th:only-of-type {\n",
       "        vertical-align: middle;\n",
       "    }\n",
       "\n",
       "    .dataframe tbody tr th {\n",
       "        vertical-align: top;\n",
       "    }\n",
       "\n",
       "    .dataframe thead th {\n",
       "        text-align: right;\n",
       "    }\n",
       "</style>\n",
       "<table border=\"1\" class=\"dataframe\">\n",
       "  <thead>\n",
       "    <tr style=\"text-align: right;\">\n",
       "      <th></th>\n",
       "      <th>report_id</th>\n",
       "      <th>arrest_date</th>\n",
       "      <th>time</th>\n",
       "      <th>area_id</th>\n",
       "      <th>area_name</th>\n",
       "      <th>reporting_district</th>\n",
       "      <th>age</th>\n",
       "      <th>sex_code</th>\n",
       "      <th>descent_code</th>\n",
       "      <th>charge_group_code</th>\n",
       "      <th>charge_group_description</th>\n",
       "      <th>arrest_type_code</th>\n",
       "      <th>charge</th>\n",
       "      <th>charge_description</th>\n",
       "      <th>address</th>\n",
       "      <th>cross_street</th>\n",
       "      <th>location</th>\n",
       "      <th>year</th>\n",
       "      <th>month</th>\n",
       "      <th>weekday</th>\n",
       "    </tr>\n",
       "  </thead>\n",
       "  <tbody>\n",
       "    <tr>\n",
       "      <th>172</th>\n",
       "      <td>190618578</td>\n",
       "      <td>2019-09-05</td>\n",
       "      <td>1000.0</td>\n",
       "      <td>6</td>\n",
       "      <td>Hollywood</td>\n",
       "      <td>637</td>\n",
       "      <td>33</td>\n",
       "      <td>M</td>\n",
       "      <td>W</td>\n",
       "      <td>20.0</td>\n",
       "      <td>Disorderly Conduct</td>\n",
       "      <td>M</td>\n",
       "      <td>41.18DLAMC</td>\n",
       "      <td>SIT/LIE/SLEEP SIDEWALK OR STREET</td>\n",
       "      <td>1700    TAMARIND                     AV</td>\n",
       "      <td>NaN</td>\n",
       "      <td>(34.103, -118.3196)</td>\n",
       "      <td>2019</td>\n",
       "      <td>9</td>\n",
       "      <td>Thursday</td>\n",
       "    </tr>\n",
       "    <tr>\n",
       "      <th>419</th>\n",
       "      <td>190122466</td>\n",
       "      <td>2019-09-04</td>\n",
       "      <td>2145.0</td>\n",
       "      <td>1</td>\n",
       "      <td>Central</td>\n",
       "      <td>192</td>\n",
       "      <td>42</td>\n",
       "      <td>F</td>\n",
       "      <td>O</td>\n",
       "      <td>20.0</td>\n",
       "      <td>Disorderly Conduct</td>\n",
       "      <td>M</td>\n",
       "      <td>41.18DLAMC</td>\n",
       "      <td>SIT/LIE/SLEEP SIDEWALK OR STREET</td>\n",
       "      <td>HILL</td>\n",
       "      <td>PICO</td>\n",
       "      <td>(34.0377, -118.2621)</td>\n",
       "      <td>2019</td>\n",
       "      <td>9</td>\n",
       "      <td>Wednesday</td>\n",
       "    </tr>\n",
       "    <tr>\n",
       "      <th>572</th>\n",
       "      <td>190122462</td>\n",
       "      <td>2019-09-03</td>\n",
       "      <td>2045.0</td>\n",
       "      <td>1</td>\n",
       "      <td>Central</td>\n",
       "      <td>163</td>\n",
       "      <td>41</td>\n",
       "      <td>M</td>\n",
       "      <td>O</td>\n",
       "      <td>20.0</td>\n",
       "      <td>Disorderly Conduct</td>\n",
       "      <td>M</td>\n",
       "      <td>41.18DLAMC</td>\n",
       "      <td>SIT/LIE/SLEEP SIDEWALK OR STREET</td>\n",
       "      <td>9TH</td>\n",
       "      <td>HILL</td>\n",
       "      <td>(34.043, -118.2571)</td>\n",
       "      <td>2019</td>\n",
       "      <td>9</td>\n",
       "      <td>Tuesday</td>\n",
       "    </tr>\n",
       "    <tr>\n",
       "      <th>1209</th>\n",
       "      <td>191516619</td>\n",
       "      <td>2019-09-01</td>\n",
       "      <td>1010.0</td>\n",
       "      <td>15</td>\n",
       "      <td>N Hollywood</td>\n",
       "      <td>1511</td>\n",
       "      <td>51</td>\n",
       "      <td>M</td>\n",
       "      <td>W</td>\n",
       "      <td>20.0</td>\n",
       "      <td>Disorderly Conduct</td>\n",
       "      <td>M</td>\n",
       "      <td>41.18DLAMC</td>\n",
       "      <td>SIT/LIE/SLEEP SIDEWALK OR STREET</td>\n",
       "      <td>13300    RAYMER                       ST</td>\n",
       "      <td>NaN</td>\n",
       "      <td>(34.2063, -118.4225)</td>\n",
       "      <td>2019</td>\n",
       "      <td>9</td>\n",
       "      <td>Sunday</td>\n",
       "    </tr>\n",
       "    <tr>\n",
       "      <th>1629</th>\n",
       "      <td>190122040</td>\n",
       "      <td>2019-08-30</td>\n",
       "      <td>1900.0</td>\n",
       "      <td>1</td>\n",
       "      <td>Central</td>\n",
       "      <td>164</td>\n",
       "      <td>30</td>\n",
       "      <td>M</td>\n",
       "      <td>H</td>\n",
       "      <td>20.0</td>\n",
       "      <td>Disorderly Conduct</td>\n",
       "      <td>M</td>\n",
       "      <td>41.18DLAMC</td>\n",
       "      <td>SIT/LIE/SLEEP SIDEWALK OR STREET</td>\n",
       "      <td>8TH</td>\n",
       "      <td>HOPE</td>\n",
       "      <td>(34.0446, -118.2507)</td>\n",
       "      <td>2019</td>\n",
       "      <td>8</td>\n",
       "      <td>Friday</td>\n",
       "    </tr>\n",
       "  </tbody>\n",
       "</table>\n",
       "</div>"
      ],
      "text/plain": [
       "      report_id arrest_date    time area_id    area_name reporting_district  \\\n",
       "172   190618578  2019-09-05  1000.0       6    Hollywood                637   \n",
       "419   190122466  2019-09-04  2145.0       1      Central                192   \n",
       "572   190122462  2019-09-03  2045.0       1      Central                163   \n",
       "1209  191516619  2019-09-01  1010.0      15  N Hollywood               1511   \n",
       "1629  190122040  2019-08-30  1900.0       1      Central                164   \n",
       "\n",
       "      age sex_code descent_code charge_group_code charge_group_description  \\\n",
       "172    33        M            W              20.0       Disorderly Conduct   \n",
       "419    42        F            O              20.0       Disorderly Conduct   \n",
       "572    41        M            O              20.0       Disorderly Conduct   \n",
       "1209   51        M            W              20.0       Disorderly Conduct   \n",
       "1629   30        M            H              20.0       Disorderly Conduct   \n",
       "\n",
       "     arrest_type_code      charge                charge_description  \\\n",
       "172                 M  41.18DLAMC  SIT/LIE/SLEEP SIDEWALK OR STREET   \n",
       "419                 M  41.18DLAMC  SIT/LIE/SLEEP SIDEWALK OR STREET   \n",
       "572                 M  41.18DLAMC  SIT/LIE/SLEEP SIDEWALK OR STREET   \n",
       "1209                M  41.18DLAMC  SIT/LIE/SLEEP SIDEWALK OR STREET   \n",
       "1629                M  41.18DLAMC  SIT/LIE/SLEEP SIDEWALK OR STREET   \n",
       "\n",
       "                                       address cross_street  \\\n",
       "172    1700    TAMARIND                     AV          NaN   \n",
       "419                                       HILL         PICO   \n",
       "572                                        9TH         HILL   \n",
       "1209  13300    RAYMER                       ST          NaN   \n",
       "1629                                       8TH         HOPE   \n",
       "\n",
       "                  location  year  month    weekday  \n",
       "172    (34.103, -118.3196)  2019      9   Thursday  \n",
       "419   (34.0377, -118.2621)  2019      9  Wednesday  \n",
       "572    (34.043, -118.2571)  2019      9    Tuesday  \n",
       "1209  (34.2063, -118.4225)  2019      9     Sunday  \n",
       "1629  (34.0446, -118.2507)  2019      8     Friday  "
      ]
     },
     "execution_count": 9,
     "metadata": {},
     "output_type": "execute_result"
    }
   ],
   "source": [
    "charges_homeless.head()"
   ]
  },
  {
   "cell_type": "markdown",
   "metadata": {},
   "source": [
    "### Clean up location field so lat/lon separated"
   ]
  },
  {
   "cell_type": "code",
   "execution_count": 10,
   "metadata": {},
   "outputs": [],
   "source": [
    "arrests['location'] = arrests.location.str.replace('(', '').str.replace(')', '')\n",
    "\n",
    "lat = []\n",
    "lon = []\n",
    "\n",
    "for row in arrests['location']:\n",
    "    try:\n",
    "        lat.append(row.split(',')[0])\n",
    "        lon.append(row.split(',')[1])\n",
    "    except:\n",
    "        lat.append(np.NaN)\n",
    "        lon.append(np.NaN)\n",
    "\n",
    "arrests['latitude'] = lat\n",
    "arrests['longitude'] = lon"
   ]
  },
  {
   "cell_type": "code",
   "execution_count": 11,
   "metadata": {},
   "outputs": [],
   "source": [
    "arrests.drop('location', axis=1, inplace=True)\n",
    "arrests.drop('cross_street', axis=1, inplace=True)"
   ]
  },
  {
   "cell_type": "code",
   "execution_count": 12,
   "metadata": {},
   "outputs": [
    {
     "data": {
      "text/html": [
       "<div>\n",
       "<style scoped>\n",
       "    .dataframe tbody tr th:only-of-type {\n",
       "        vertical-align: middle;\n",
       "    }\n",
       "\n",
       "    .dataframe tbody tr th {\n",
       "        vertical-align: top;\n",
       "    }\n",
       "\n",
       "    .dataframe thead th {\n",
       "        text-align: right;\n",
       "    }\n",
       "</style>\n",
       "<table border=\"1\" class=\"dataframe\">\n",
       "  <thead>\n",
       "    <tr style=\"text-align: right;\">\n",
       "      <th></th>\n",
       "      <th>report_id</th>\n",
       "      <th>arrest_date</th>\n",
       "      <th>time</th>\n",
       "      <th>area_id</th>\n",
       "      <th>area_name</th>\n",
       "      <th>reporting_district</th>\n",
       "      <th>age</th>\n",
       "      <th>sex_code</th>\n",
       "      <th>descent_code</th>\n",
       "      <th>charge_group_code</th>\n",
       "      <th>charge_group_description</th>\n",
       "      <th>arrest_type_code</th>\n",
       "      <th>charge</th>\n",
       "      <th>charge_description</th>\n",
       "      <th>address</th>\n",
       "      <th>year</th>\n",
       "      <th>month</th>\n",
       "      <th>weekday</th>\n",
       "      <th>latitude</th>\n",
       "      <th>longitude</th>\n",
       "    </tr>\n",
       "  </thead>\n",
       "  <tbody>\n",
       "    <tr>\n",
       "      <th>0</th>\n",
       "      <td>192115378</td>\n",
       "      <td>2019-09-07</td>\n",
       "      <td>1330.0</td>\n",
       "      <td>21</td>\n",
       "      <td>Topanga</td>\n",
       "      <td>2134</td>\n",
       "      <td>70</td>\n",
       "      <td>M</td>\n",
       "      <td>W</td>\n",
       "      <td>16.0</td>\n",
       "      <td>Narcotic Drug Laws</td>\n",
       "      <td>M</td>\n",
       "      <td>11364HS</td>\n",
       "      <td>POSSESSION CNTL SUBSTANCE PARAPHERNALIA</td>\n",
       "      <td>22200    SHERMAN                      WY</td>\n",
       "      <td>2019</td>\n",
       "      <td>9</td>\n",
       "      <td>Saturday</td>\n",
       "      <td>34.201</td>\n",
       "      <td>-118.6103</td>\n",
       "    </tr>\n",
       "    <tr>\n",
       "      <th>1</th>\n",
       "      <td>191222114</td>\n",
       "      <td>2019-09-07</td>\n",
       "      <td>558.0</td>\n",
       "      <td>12</td>\n",
       "      <td>77th Street</td>\n",
       "      <td>1249</td>\n",
       "      <td>20</td>\n",
       "      <td>F</td>\n",
       "      <td>B</td>\n",
       "      <td>13.0</td>\n",
       "      <td>Prostitution/Allied</td>\n",
       "      <td>M</td>\n",
       "      <td>647(B)PC</td>\n",
       "      <td>PROSTITUTION</td>\n",
       "      <td>6900    DENVER                       AV</td>\n",
       "      <td>2019</td>\n",
       "      <td>9</td>\n",
       "      <td>Saturday</td>\n",
       "      <td>33.9774</td>\n",
       "      <td>-118.2838</td>\n",
       "    </tr>\n",
       "    <tr>\n",
       "      <th>2</th>\n",
       "      <td>5740147</td>\n",
       "      <td>2019-09-07</td>\n",
       "      <td>1500.0</td>\n",
       "      <td>14</td>\n",
       "      <td>Pacific</td>\n",
       "      <td>1431</td>\n",
       "      <td>56</td>\n",
       "      <td>F</td>\n",
       "      <td>W</td>\n",
       "      <td>8.0</td>\n",
       "      <td>Other Assaults</td>\n",
       "      <td>M</td>\n",
       "      <td>243(E)(1)PC</td>\n",
       "      <td>BATT EX-SPOUSE/FIANCEE/PERSN W/DATING REL</td>\n",
       "      <td>1700    PACIFIC                      AV</td>\n",
       "      <td>2019</td>\n",
       "      <td>9</td>\n",
       "      <td>Saturday</td>\n",
       "      <td>33.9872</td>\n",
       "      <td>-118.4718</td>\n",
       "    </tr>\n",
       "    <tr>\n",
       "      <th>3</th>\n",
       "      <td>5739903</td>\n",
       "      <td>2019-09-07</td>\n",
       "      <td>340.0</td>\n",
       "      <td>2</td>\n",
       "      <td>Rampart</td>\n",
       "      <td>246</td>\n",
       "      <td>27</td>\n",
       "      <td>M</td>\n",
       "      <td>H</td>\n",
       "      <td>8.0</td>\n",
       "      <td>Other Assaults</td>\n",
       "      <td>M</td>\n",
       "      <td>243(A)PC</td>\n",
       "      <td>BATTERY ON PERSON</td>\n",
       "      <td>400 S  BONNIE BRAE                  ST</td>\n",
       "      <td>2019</td>\n",
       "      <td>9</td>\n",
       "      <td>Saturday</td>\n",
       "      <td>34.0598</td>\n",
       "      <td>-118.2734</td>\n",
       "    </tr>\n",
       "    <tr>\n",
       "      <th>4</th>\n",
       "      <td>5739905</td>\n",
       "      <td>2019-09-07</td>\n",
       "      <td>240.0</td>\n",
       "      <td>5</td>\n",
       "      <td>Harbor</td>\n",
       "      <td>517</td>\n",
       "      <td>45</td>\n",
       "      <td>F</td>\n",
       "      <td>H</td>\n",
       "      <td>22.0</td>\n",
       "      <td>Driving Under Influence</td>\n",
       "      <td>M</td>\n",
       "      <td>23152(A)VC</td>\n",
       "      <td>DRUNK DRIVING ALCOHOL/DRUGS</td>\n",
       "      <td>1000 N  AVALON                       BL</td>\n",
       "      <td>2019</td>\n",
       "      <td>9</td>\n",
       "      <td>Saturday</td>\n",
       "      <td>33.7829</td>\n",
       "      <td>-118.2627</td>\n",
       "    </tr>\n",
       "  </tbody>\n",
       "</table>\n",
       "</div>"
      ],
      "text/plain": [
       "   report_id arrest_date    time area_id    area_name reporting_district  age  \\\n",
       "0  192115378  2019-09-07  1330.0      21      Topanga               2134   70   \n",
       "1  191222114  2019-09-07   558.0      12  77th Street               1249   20   \n",
       "2    5740147  2019-09-07  1500.0      14      Pacific               1431   56   \n",
       "3    5739903  2019-09-07   340.0       2      Rampart                246   27   \n",
       "4    5739905  2019-09-07   240.0       5       Harbor                517   45   \n",
       "\n",
       "  sex_code descent_code charge_group_code charge_group_description  \\\n",
       "0        M            W              16.0       Narcotic Drug Laws   \n",
       "1        F            B              13.0      Prostitution/Allied   \n",
       "2        F            W               8.0           Other Assaults   \n",
       "3        M            H               8.0           Other Assaults   \n",
       "4        F            H              22.0  Driving Under Influence   \n",
       "\n",
       "  arrest_type_code       charge                         charge_description  \\\n",
       "0                M      11364HS    POSSESSION CNTL SUBSTANCE PARAPHERNALIA   \n",
       "1                M     647(B)PC                               PROSTITUTION   \n",
       "2                M  243(E)(1)PC  BATT EX-SPOUSE/FIANCEE/PERSN W/DATING REL   \n",
       "3                M     243(A)PC                          BATTERY ON PERSON   \n",
       "4                M   23152(A)VC                DRUNK DRIVING ALCOHOL/DRUGS   \n",
       "\n",
       "                                    address  year  month   weekday latitude  \\\n",
       "0  22200    SHERMAN                      WY  2019      9  Saturday   34.201   \n",
       "1   6900    DENVER                       AV  2019      9  Saturday  33.9774   \n",
       "2   1700    PACIFIC                      AV  2019      9  Saturday  33.9872   \n",
       "3    400 S  BONNIE BRAE                  ST  2019      9  Saturday  34.0598   \n",
       "4   1000 N  AVALON                       BL  2019      9  Saturday  33.7829   \n",
       "\n",
       "    longitude  \n",
       "0   -118.6103  \n",
       "1   -118.2838  \n",
       "2   -118.4718  \n",
       "3   -118.2734  \n",
       "4   -118.2627  "
      ]
     },
     "execution_count": 12,
     "metadata": {},
     "output_type": "execute_result"
    }
   ],
   "source": [
    "arrests.head()"
   ]
  },
  {
   "cell_type": "markdown",
   "metadata": {},
   "source": [
    "### What's the average age for men and women who get arrested? "
   ]
  },
  {
   "cell_type": "code",
   "execution_count": 13,
   "metadata": {},
   "outputs": [],
   "source": [
    "mean_age = arrests['age'].groupby(arrests['sex_code'])"
   ]
  },
  {
   "cell_type": "code",
   "execution_count": 14,
   "metadata": {
    "scrolled": true
   },
   "outputs": [
    {
     "data": {
      "text/plain": [
       "sex_code\n",
       "F   31.811035978518742\n",
       "M     34.8370015796835\n",
       "Name: age, dtype: float64"
      ]
     },
     "execution_count": 14,
     "metadata": {},
     "output_type": "execute_result"
    }
   ],
   "source": [
    "mean_age.mean()"
   ]
  },
  {
   "cell_type": "markdown",
   "metadata": {},
   "source": [
    "### What's the max age of arrestee for each charge type?"
   ]
  },
  {
   "cell_type": "code",
   "execution_count": 15,
   "metadata": {},
   "outputs": [],
   "source": [
    "age_charge = arrests['age'].groupby(arrests['charge_description'])"
   ]
  },
  {
   "cell_type": "code",
   "execution_count": 16,
   "metadata": {
    "scrolled": true
   },
   "outputs": [
    {
     "data": {
      "text/plain": [
       "charge_description\n",
       "PARK REGULATIONS                              96\n",
       "MURDER:FIRST DEGREE:SHOOT FROM VEHICLE        96\n",
       "POSSESSION BURGLARY TOOLS                     96\n",
       "DRINKING IN PUBLIC                            94\n",
       "TRESPASS W/PRIOR WARNING 24HRS                94\n",
       "THEFT FROM VEHICLE                            94\n",
       "CORPORAL INJURY ON SPOUSE/COHABITANT/ETC      94\n",
       "DRINKING ALCOHOL*******                       93\n",
       "ADW, NOT FIREARM, W/GBI                       93\n",
       "DRUNK DRIVING ALCOHOL/DRUGS                   92\n",
       "DRIVE W/LIC SUSPEND/REVOKE 4 OTHER REASON     92\n",
       "PROSTITUTION                                  92\n",
       "TERRORIZE CAUSING FEAR                        92\n",
       "ILLEGAL POSSESSION OF SHOPPING CART           92\n",
       "DISP/ETC DANG DRUG/DEVICE                     91\n",
       "OPEN ALCOHOLIC BEV IN PUBLIC PARK/PLACE       91\n",
       "HIT AND RUN:PROP DAMAGE                       90\n",
       "FTA AFTER WRITTEN PROMISE                     90\n",
       "LOS ANGELES MUNICIPAL CODE                    90\n",
       "PRESENT IN PARK AFTER HOURS                   90\n",
       "BATTERY ON PERSON                             90\n",
       "AVOID REGISTRATION COMPLIANCE                 90\n",
       "SEX REGISTRATION VIOLATION                    89\n",
       "RECEIVING KNOWN STOLEN PROPERTY >$950         89\n",
       "BATT EX-SPOUSE/FIANCEE/PERSN W/DATING REL     89\n",
       "CONSPIRACY TO COMMIT ANY CRIME                89\n",
       "TRESPASSING                                   89\n",
       "CONTRACTING W/O A LICENSE                     89\n",
       "VIOL DOMESTIC VIOL PROTECT/STAY AWAY ORD      89\n",
       "SIT/LIE/SLEEP SIDEWALK OR STREET              88\n",
       "                                              ..\n",
       "CRUELTY                                       16\n",
       "MAKE FALSE ENTRIES IN RECORDS/RETURNS         16\n",
       "STOPLAMP VIOLATIONS                           16\n",
       "OPER BICYCLE AT NIGHT W/O REAR REFLECTOR      16\n",
       "FAILURE TO WEAR SEATBELT                      16\n",
       "WEAR HEADSET/COVERS BOTH EARS                 16\n",
       "BICYCLIST ALLOW RIDER ON OTHER THAN SEAT      16\n",
       "ATTEMPT - ROBBERY OF COMMON CARRIER           16\n",
       "CHILD UNDER 5 SEVERE PHYSICAL ABUSE           15\n",
       "MINOR POSSESS TEAR GAS WEAPON W/O CONSENT     15\n",
       "TRANSFER PROB SUPV/COURT JURISDICTION         15\n",
       "PROT CUST/ENDANGER SIBLINGS/UNFIT HOME****    15\n",
       "BIGAMY                                        15\n",
       "POSSESSION OF MARIJUANA IN SCHOOL             15\n",
       "ILLEGAL POSS OF TEAR GAS/TEAR GAS WEAPON      15\n",
       "UNBELTED TOT 4+:PARNT VEH                     15\n",
       "ATTEMPT INFLICT BOD HARM/DEATH ADLT ELDER     15\n",
       "FAIL TO YIELD:PED:XWALKS                      15\n",
       "MATERIAL WITNESS/CIVIL CONTEMPT               15\n",
       "OPERATE VEH PAINTED 2 RESEMBLE POLICE VEH     15\n",
       "ACCESS/DELETE COMPUTER DATA                   15\n",
       "FAIL TO USE CHILD RESTRAINT SYSTEM            14\n",
       "DANGER OF LEADING IMMORAL LIFE                14\n",
       "CLIMB ON ELECTRICAL POWER POLES/TOWERS        14\n",
       "BATT PRSN ON SCHOOL PROP                      14\n",
       "POSSESSION OF OPEN CONTAINER                  13\n",
       "GIV DANG DRUG/ETC:NO PRSC                     13\n",
       "HIRE/EMPLOY MINR TO DISTR OBSCENE MATTER      13\n",
       "VIOL/ETC:REPRODUCTIVE HLTH SRV CLIENT:CA F    12\n",
       "DRAW WATER FROM CLOSED WORKS                  12\n",
       "Name: age, Length: 2352, dtype: int64"
      ]
     },
     "execution_count": 16,
     "metadata": {},
     "output_type": "execute_result"
    }
   ],
   "source": [
    "age_charge.max().round(0).sort_values(ascending=False)"
   ]
  },
  {
   "cell_type": "code",
   "execution_count": 18,
   "metadata": {},
   "outputs": [],
   "source": [
    "month = arrests['month'].groupby(arrests['year'])"
   ]
  },
  {
   "cell_type": "code",
   "execution_count": 19,
   "metadata": {},
   "outputs": [
    {
     "data": {
      "text/plain": [
       "year\n",
       "2010    162418\n",
       "2011    157641\n",
       "2012    163315\n",
       "2013    152679\n",
       "2014    139385\n",
       "2015    126162\n",
       "2016    118142\n",
       "2017    107677\n",
       "2018    104283\n",
       "2019     65908\n",
       "Name: month, dtype: int64"
      ]
     },
     "execution_count": 19,
     "metadata": {},
     "output_type": "execute_result"
    }
   ],
   "source": [
    "month.count()"
   ]
  },
  {
   "cell_type": "code",
   "execution_count": null,
   "metadata": {},
   "outputs": [],
   "source": []
  }
 ],
 "metadata": {
  "kernelspec": {
   "display_name": "Python 3",
   "language": "python",
   "name": "python3"
  },
  "language_info": {
   "codemirror_mode": {
    "name": "ipython",
    "version": 3
   },
   "file_extension": ".py",
   "mimetype": "text/x-python",
   "name": "python",
   "nbconvert_exporter": "python",
   "pygments_lexer": "ipython3",
   "version": "3.6.3rc1"
  }
 },
 "nbformat": 4,
 "nbformat_minor": 2
}
