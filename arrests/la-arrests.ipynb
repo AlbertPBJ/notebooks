{
 "cells": [
  {
   "cell_type": "markdown",
   "metadata": {},
   "source": [
    "# Analyzing 'sit-lie' arrests by LAPD: 2010-19"
   ]
  },
  {
   "cell_type": "markdown",
   "metadata": {},
   "source": [
    " Load Python tools"
   ]
  },
  {
   "cell_type": "code",
   "execution_count": 1,
   "metadata": {},
   "outputs": [],
   "source": [
    "import pandas as pd\n",
    "import geopandas as gpd\n",
    "import matplotlib\n",
    "import geojson\n",
    "import json\n",
    "import jenkspy\n",
    "import numpy as np\n",
    "from altair import datum\n",
    "import altair as alt\n",
    "alt.renderers.enable('notebook')\n",
    "import altair_latimes as lat\n",
    "alt.themes.register('latimes', lat.theme)\n",
    "alt.themes.enable('latimes')\n",
    "pd.options.display.max_columns = 50\n",
    "pd.options.display.max_rows = 1000"
   ]
  },
  {
   "cell_type": "markdown",
   "metadata": {},
   "source": [
    "#### Read in arrests data from city portal"
   ]
  },
  {
   "cell_type": "code",
   "execution_count": 2,
   "metadata": {},
   "outputs": [],
   "source": [
    "# https://data.lacity.org/api/views/yru6-6re4/rows.csv?accessType=DOWNLOAD\n",
    "arrests = pd.read_csv('/Users/mhustiles/data/data/LA/Arrest_Data_from_2010_to_Present.csv')"
   ]
  },
  {
   "cell_type": "markdown",
   "metadata": {},
   "source": [
    "#### How many arrest cases are in the database?"
   ]
  },
  {
   "cell_type": "code",
   "execution_count": 3,
   "metadata": {},
   "outputs": [
    {
     "data": {
      "text/plain": [
       "1297610"
      ]
     },
     "execution_count": 3,
     "metadata": {},
     "output_type": "execute_result"
    }
   ],
   "source": [
    "len(arrests)"
   ]
  },
  {
   "cell_type": "markdown",
   "metadata": {
    "scrolled": true
   },
   "source": [
    "#### Clean up arrests DataFrame"
   ]
  },
  {
   "cell_type": "code",
   "execution_count": 4,
   "metadata": {},
   "outputs": [],
   "source": [
    "arrests.columns = arrests.columns.str.strip().str.lower().str.replace(' ', '_').str.replace('(', '').str.replace(')', '')\n",
    "arrests['arrest_date'] = pd.to_datetime(arrests['arrest_date'], format='%m/%d/%Y')\n",
    "arrests['year'] = arrests['arrest_date'].dt.year\n",
    "arrests['day'] = arrests['arrest_date'].dt.day\n",
    "arrests['month'] = arrests['arrest_date'].dt.month\n",
    "arrests['monthname'] = arrests['arrest_date'].dt.month_name()\n",
    "arrests[['report_id', 'time', 'area_id', 'charge_group_code', 'reporting_district', 'year', 'month', 'day']] = \\\n",
    "arrests[['report_id', 'time', 'area_id', 'charge_group_code', 'reporting_district', 'year', 'month','day']].astype(str)\n",
    "arrests['charge_group_code'] = arrests['charge_group_code'].str.replace('.0', '', regex=False)\n",
    "arrests['weekday'] = arrests['arrest_date'].dt.weekday_name\n",
    "arrests['time'] = arrests['time'].str.replace('.0','', regex=False)\n",
    "arrests['time'] = arrests['time'].str.zfill(4)\n",
    "arrests['hour'] = arrests['time'].str[:2]\n",
    "arrests['minute'] = arrests['time'].str[2:]\n",
    "arrests = arrests[arrests['hour'] != '0n']\n",
    "arrests = arrests[arrests['hour'] != '24']\n",
    "arrests.drop('cross_street', axis=1, inplace=True)"
   ]
  },
  {
   "cell_type": "markdown",
   "metadata": {},
   "source": [
    "#### Highlight nighttime hours"
   ]
  },
  {
   "cell_type": "code",
   "execution_count": 5,
   "metadata": {},
   "outputs": [],
   "source": [
    "night = ['01', '02', '03', '04', '05', '22', '23', '00']\n",
    "arrests['night'] = arrests['hour'].isin(night)\n",
    "night_arrests = arrests[arrests['hour'].isin(night)]"
   ]
  },
  {
   "cell_type": "code",
   "execution_count": 6,
   "metadata": {},
   "outputs": [
    {
     "data": {
      "text/plain": [
       "336087"
      ]
     },
     "execution_count": 6,
     "metadata": {},
     "output_type": "execute_result"
    }
   ],
   "source": [
    "len(night_arrests)"
   ]
  },
  {
   "cell_type": "markdown",
   "metadata": {},
   "source": [
    "#### Separate location field into lat/lon"
   ]
  },
  {
   "cell_type": "code",
   "execution_count": 7,
   "metadata": {},
   "outputs": [],
   "source": [
    "arrests['location'] = arrests.location.str.replace('(', '').str.replace(')', '')\n",
    "\n",
    "lat = []\n",
    "lon = []\n",
    "\n",
    "for row in arrests['location']:\n",
    "    try:\n",
    "        lat.append(row.split(',')[0])\n",
    "        lon.append(row.split(',')[1])\n",
    "    except:\n",
    "        lat.append(np.NaN)\n",
    "        lon.append(np.NaN)\n",
    "\n",
    "arrests['latitude'] = lat\n",
    "arrests['longitude'] = lon\n",
    "arrests['latitude'] = arrests['latitude'].astype(float)\n",
    "arrests['longitude'] = arrests['longitude'].astype(float)"
   ]
  },
  {
   "cell_type": "markdown",
   "metadata": {},
   "source": [
    "#### Recode descent names into something useful"
   ]
  },
  {
   "cell_type": "code",
   "execution_count": 8,
   "metadata": {},
   "outputs": [],
   "source": [
    "descent_recode ={'A':\"Asian\",'B':\"Black\",'C':\"Asian\",'D':\"Asian\",'F':\"Asian\",'G':\"Asian\",'H':\"Hispanic\",'I':\"American Indian/Alaskan Native\",'J':\"Asian\",'K':\"Asian\",'L':\"Asian\",'O':\"Other\",'P':\"Asian\",'S':\"Asian\",'U':\"Asian\",'V':\"Asian\",'W':\"White\",'X':\"Other\",'Z':\"Asian\"}"
   ]
  },
  {
   "cell_type": "code",
   "execution_count": 9,
   "metadata": {},
   "outputs": [],
   "source": [
    "arrests['descent_description'] = arrests['descent_code'].map(descent_recode)"
   ]
  },
  {
   "cell_type": "markdown",
   "metadata": {},
   "source": [
    "#### Count the arrests by charge type"
   ]
  },
  {
   "cell_type": "code",
   "execution_count": 10,
   "metadata": {
    "scrolled": true
   },
   "outputs": [],
   "source": [
    "charges_grouped = arrests.groupby(['charge', 'charge_description']).agg('size').sort_values(ascending=False).reset_index(name='total')"
   ]
  },
  {
   "cell_type": "markdown",
   "metadata": {},
   "source": [
    "#### Top 10 arrest charges 2010-2019"
   ]
  },
  {
   "cell_type": "code",
   "execution_count": 11,
   "metadata": {},
   "outputs": [
    {
     "data": {
      "text/html": [
       "<div>\n",
       "<style scoped>\n",
       "    .dataframe tbody tr th:only-of-type {\n",
       "        vertical-align: middle;\n",
       "    }\n",
       "\n",
       "    .dataframe tbody tr th {\n",
       "        vertical-align: top;\n",
       "    }\n",
       "\n",
       "    .dataframe thead th {\n",
       "        text-align: right;\n",
       "    }\n",
       "</style>\n",
       "<table border=\"1\" class=\"dataframe\">\n",
       "  <thead>\n",
       "    <tr style=\"text-align: right;\">\n",
       "      <th></th>\n",
       "      <th>charge</th>\n",
       "      <th>charge_description</th>\n",
       "      <th>total</th>\n",
       "    </tr>\n",
       "  </thead>\n",
       "  <tbody>\n",
       "    <tr>\n",
       "      <th>0</th>\n",
       "      <td>23152(A)VC</td>\n",
       "      <td>DRUNK DRIVING ALCOHOL/DRUGS</td>\n",
       "      <td>96828</td>\n",
       "    </tr>\n",
       "    <tr>\n",
       "      <th>1</th>\n",
       "      <td>41.27CLAMC</td>\n",
       "      <td>DRINKING IN PUBLIC</td>\n",
       "      <td>93369</td>\n",
       "    </tr>\n",
       "    <tr>\n",
       "      <th>2</th>\n",
       "      <td>273.5(A)PC</td>\n",
       "      <td>CORPORAL INJURY ON SPOUSE/COHABITANT/ETC</td>\n",
       "      <td>45889</td>\n",
       "    </tr>\n",
       "    <tr>\n",
       "      <th>3</th>\n",
       "      <td>11377(A)HS</td>\n",
       "      <td>POSSESSION CONTROLLED SUBSTANCE</td>\n",
       "      <td>40611</td>\n",
       "    </tr>\n",
       "    <tr>\n",
       "      <th>4</th>\n",
       "      <td>853.7PC</td>\n",
       "      <td>FTA AFTER WRITTEN PROMISE</td>\n",
       "      <td>31414</td>\n",
       "    </tr>\n",
       "    <tr>\n",
       "      <th>5</th>\n",
       "      <td>11350(A)HS</td>\n",
       "      <td>POSSESSION NARCOTIC CONTROLLED SUBSTANCE</td>\n",
       "      <td>29348</td>\n",
       "    </tr>\n",
       "    <tr>\n",
       "      <th>6</th>\n",
       "      <td>647(B)PC</td>\n",
       "      <td>PROSTITUTION</td>\n",
       "      <td>26500</td>\n",
       "    </tr>\n",
       "    <tr>\n",
       "      <th>7</th>\n",
       "      <td>25620BP</td>\n",
       "      <td>OPEN ALCOHOLIC BEV IN PUBLIC PARK/PLACE</td>\n",
       "      <td>25884</td>\n",
       "    </tr>\n",
       "    <tr>\n",
       "      <th>8</th>\n",
       "      <td>41.18DLAMC</td>\n",
       "      <td>SIT/LIE/SLEEP SIDEWALK OR STREET</td>\n",
       "      <td>25688</td>\n",
       "    </tr>\n",
       "    <tr>\n",
       "      <th>9</th>\n",
       "      <td>LAMC</td>\n",
       "      <td>LOS ANGELES MUNICIPAL CODE</td>\n",
       "      <td>24523</td>\n",
       "    </tr>\n",
       "  </tbody>\n",
       "</table>\n",
       "</div>"
      ],
      "text/plain": [
       "       charge                        charge_description  total\n",
       "0  23152(A)VC               DRUNK DRIVING ALCOHOL/DRUGS  96828\n",
       "1  41.27CLAMC                        DRINKING IN PUBLIC  93369\n",
       "2  273.5(A)PC  CORPORAL INJURY ON SPOUSE/COHABITANT/ETC  45889\n",
       "3  11377(A)HS           POSSESSION CONTROLLED SUBSTANCE  40611\n",
       "4     853.7PC                 FTA AFTER WRITTEN PROMISE  31414\n",
       "5  11350(A)HS  POSSESSION NARCOTIC CONTROLLED SUBSTANCE  29348\n",
       "6    647(B)PC                              PROSTITUTION  26500\n",
       "7     25620BP   OPEN ALCOHOLIC BEV IN PUBLIC PARK/PLACE  25884\n",
       "8  41.18DLAMC          SIT/LIE/SLEEP SIDEWALK OR STREET  25688\n",
       "9        LAMC                LOS ANGELES MUNICIPAL CODE  24523"
      ]
     },
     "execution_count": 11,
     "metadata": {},
     "output_type": "execute_result"
    }
   ],
   "source": [
    "charges_grouped.head(10)"
   ]
  },
  {
   "cell_type": "markdown",
   "metadata": {},
   "source": [
    "#### Isolate all 'sit-lie' cases and just 41.18D"
   ]
  },
  {
   "cell_type": "code",
   "execution_count": 12,
   "metadata": {},
   "outputs": [],
   "source": [
    "sit_lie_all = arrests[arrests.charge.str.contains('41.18')]\n",
    "sit_lie_d = arrests[arrests['charge'] == '41.18DLAMC']\n",
    "sit_lie_test = arrests[arrests.charge.str.contains('4118')]"
   ]
  },
  {
   "cell_type": "code",
   "execution_count": 13,
   "metadata": {},
   "outputs": [
    {
     "data": {
      "text/plain": [
       "91"
      ]
     },
     "execution_count": 13,
     "metadata": {},
     "output_type": "execute_result"
    }
   ],
   "source": [
    "len(sit_lie_test)"
   ]
  },
  {
   "cell_type": "code",
   "execution_count": 14,
   "metadata": {},
   "outputs": [
    {
     "data": {
      "text/plain": [
       "36888"
      ]
     },
     "execution_count": 14,
     "metadata": {},
     "output_type": "execute_result"
    }
   ],
   "source": [
    "# How many 'sit-lie' cases total?\n",
    "len(sit_lie_all)"
   ]
  },
  {
   "cell_type": "code",
   "execution_count": 15,
   "metadata": {},
   "outputs": [
    {
     "data": {
      "text/plain": [
       "28683"
      ]
     },
     "execution_count": 15,
     "metadata": {},
     "output_type": "execute_result"
    }
   ],
   "source": [
    "# How many '41.18D' cases total?\n",
    "len(sit_lie_d)"
   ]
  },
  {
   "cell_type": "markdown",
   "metadata": {},
   "source": [
    "---"
   ]
  },
  {
   "cell_type": "markdown",
   "metadata": {},
   "source": [
    "#### Descriptives on 'sit-lie' cases"
   ]
  },
  {
   "cell_type": "code",
   "execution_count": 16,
   "metadata": {},
   "outputs": [
    {
     "data": {
      "text/plain": [
       "M    74.11\n",
       "F    25.89\n",
       "Name: sex_code, dtype: float64"
      ]
     },
     "execution_count": 16,
     "metadata": {},
     "output_type": "execute_result"
    }
   ],
   "source": [
    "sit_lie_all['sex_code'].value_counts('normalize').round(4)*100"
   ]
  },
  {
   "cell_type": "code",
   "execution_count": 17,
   "metadata": {},
   "outputs": [
    {
     "data": {
      "text/plain": [
       "2013    4859\n",
       "2016    4631\n",
       "2014    4118\n",
       "2015    4045\n",
       "2017    3934\n",
       "2012    3593\n",
       "2018    1460\n",
       "2011    1034\n",
       "2010     750\n",
       "2019     259\n",
       "Name: year, dtype: int64"
      ]
     },
     "execution_count": 17,
     "metadata": {},
     "output_type": "execute_result"
    }
   ],
   "source": [
    "sit_lie_d['year'].value_counts()"
   ]
  },
  {
   "cell_type": "code",
   "execution_count": 18,
   "metadata": {},
   "outputs": [
    {
     "data": {
      "text/plain": [
       "Black                             43.66\n",
       "White                             33.15\n",
       "Hispanic                          20.26\n",
       "Other                              2.37\n",
       "Asian                              0.54\n",
       "American Indian/Alaskan Native     0.02\n",
       "Name: descent_description, dtype: float64"
      ]
     },
     "execution_count": 18,
     "metadata": {},
     "output_type": "execute_result"
    }
   ],
   "source": [
    "sit_lie_all['descent_description'].value_counts('normalize').round(4)*100"
   ]
  },
  {
   "cell_type": "code",
   "execution_count": 19,
   "metadata": {},
   "outputs": [
    {
     "data": {
      "text/plain": [
       "False    95.42\n",
       "True      4.58\n",
       "Name: night, dtype: float64"
      ]
     },
     "execution_count": 19,
     "metadata": {},
     "output_type": "execute_result"
    }
   ],
   "source": [
    "sit_lie_all['night'].value_counts('normalize').round(4)*100"
   ]
  },
  {
   "cell_type": "code",
   "execution_count": 20,
   "metadata": {},
   "outputs": [
    {
     "data": {
      "text/html": [
       "<div>\n",
       "<style scoped>\n",
       "    .dataframe tbody tr th:only-of-type {\n",
       "        vertical-align: middle;\n",
       "    }\n",
       "\n",
       "    .dataframe tbody tr th {\n",
       "        vertical-align: top;\n",
       "    }\n",
       "\n",
       "    .dataframe thead th {\n",
       "        text-align: right;\n",
       "    }\n",
       "</style>\n",
       "<table border=\"1\" class=\"dataframe\">\n",
       "  <thead>\n",
       "    <tr style=\"text-align: right;\">\n",
       "      <th></th>\n",
       "      <th>report_id</th>\n",
       "      <th>arrest_date</th>\n",
       "      <th>time</th>\n",
       "      <th>area_id</th>\n",
       "      <th>area_name</th>\n",
       "      <th>reporting_district</th>\n",
       "      <th>age</th>\n",
       "      <th>sex_code</th>\n",
       "      <th>descent_code</th>\n",
       "      <th>charge_group_code</th>\n",
       "      <th>charge_group_description</th>\n",
       "      <th>arrest_type_code</th>\n",
       "      <th>charge</th>\n",
       "      <th>charge_description</th>\n",
       "      <th>address</th>\n",
       "      <th>location</th>\n",
       "      <th>year</th>\n",
       "      <th>day</th>\n",
       "      <th>month</th>\n",
       "      <th>monthname</th>\n",
       "      <th>weekday</th>\n",
       "      <th>hour</th>\n",
       "      <th>minute</th>\n",
       "      <th>night</th>\n",
       "      <th>latitude</th>\n",
       "      <th>longitude</th>\n",
       "      <th>descent_description</th>\n",
       "    </tr>\n",
       "  </thead>\n",
       "  <tbody>\n",
       "    <tr>\n",
       "      <th>172</th>\n",
       "      <td>190618578</td>\n",
       "      <td>2019-09-05</td>\n",
       "      <td>1000</td>\n",
       "      <td>6</td>\n",
       "      <td>Hollywood</td>\n",
       "      <td>637</td>\n",
       "      <td>33</td>\n",
       "      <td>M</td>\n",
       "      <td>W</td>\n",
       "      <td>20</td>\n",
       "      <td>Disorderly Conduct</td>\n",
       "      <td>M</td>\n",
       "      <td>41.18DLAMC</td>\n",
       "      <td>SIT/LIE/SLEEP SIDEWALK OR STREET</td>\n",
       "      <td>1700    TAMARIND                     AV</td>\n",
       "      <td>34.103, -118.3196</td>\n",
       "      <td>2019</td>\n",
       "      <td>5</td>\n",
       "      <td>9</td>\n",
       "      <td>September</td>\n",
       "      <td>Thursday</td>\n",
       "      <td>10</td>\n",
       "      <td>00</td>\n",
       "      <td>False</td>\n",
       "      <td>34.1030</td>\n",
       "      <td>-118.3196</td>\n",
       "      <td>White</td>\n",
       "    </tr>\n",
       "    <tr>\n",
       "      <th>309</th>\n",
       "      <td>191116167</td>\n",
       "      <td>2019-09-05</td>\n",
       "      <td>1315</td>\n",
       "      <td>11</td>\n",
       "      <td>Northeast</td>\n",
       "      <td>1172</td>\n",
       "      <td>55</td>\n",
       "      <td>M</td>\n",
       "      <td>W</td>\n",
       "      <td>20</td>\n",
       "      <td>Disorderly Conduct</td>\n",
       "      <td>M</td>\n",
       "      <td>41.18(A)LAM</td>\n",
       "      <td>LOITER/OBSTRUCT STREET/SIDEWALK/ETC****</td>\n",
       "      <td>SCOTT</td>\n",
       "      <td>34.0818, -118.2609</td>\n",
       "      <td>2019</td>\n",
       "      <td>5</td>\n",
       "      <td>9</td>\n",
       "      <td>September</td>\n",
       "      <td>Thursday</td>\n",
       "      <td>13</td>\n",
       "      <td>15</td>\n",
       "      <td>False</td>\n",
       "      <td>34.0818</td>\n",
       "      <td>-118.2609</td>\n",
       "      <td>White</td>\n",
       "    </tr>\n",
       "    <tr>\n",
       "      <th>392</th>\n",
       "      <td>190122474</td>\n",
       "      <td>2019-09-04</td>\n",
       "      <td>1850</td>\n",
       "      <td>1</td>\n",
       "      <td>Central</td>\n",
       "      <td>156</td>\n",
       "      <td>49</td>\n",
       "      <td>M</td>\n",
       "      <td>B</td>\n",
       "      <td>20</td>\n",
       "      <td>Disorderly Conduct</td>\n",
       "      <td>M</td>\n",
       "      <td>41.18ALAMC</td>\n",
       "      <td>LOITER/OBSTRUCT STREET/SIDEWALK/ETC</td>\n",
       "      <td>6TH</td>\n",
       "      <td>34.0428, -118.2461</td>\n",
       "      <td>2019</td>\n",
       "      <td>4</td>\n",
       "      <td>9</td>\n",
       "      <td>September</td>\n",
       "      <td>Wednesday</td>\n",
       "      <td>18</td>\n",
       "      <td>50</td>\n",
       "      <td>False</td>\n",
       "      <td>34.0428</td>\n",
       "      <td>-118.2461</td>\n",
       "      <td>Black</td>\n",
       "    </tr>\n",
       "    <tr>\n",
       "      <th>419</th>\n",
       "      <td>190122466</td>\n",
       "      <td>2019-09-04</td>\n",
       "      <td>2145</td>\n",
       "      <td>1</td>\n",
       "      <td>Central</td>\n",
       "      <td>192</td>\n",
       "      <td>42</td>\n",
       "      <td>F</td>\n",
       "      <td>O</td>\n",
       "      <td>20</td>\n",
       "      <td>Disorderly Conduct</td>\n",
       "      <td>M</td>\n",
       "      <td>41.18DLAMC</td>\n",
       "      <td>SIT/LIE/SLEEP SIDEWALK OR STREET</td>\n",
       "      <td>HILL</td>\n",
       "      <td>34.0377, -118.2621</td>\n",
       "      <td>2019</td>\n",
       "      <td>4</td>\n",
       "      <td>9</td>\n",
       "      <td>September</td>\n",
       "      <td>Wednesday</td>\n",
       "      <td>21</td>\n",
       "      <td>45</td>\n",
       "      <td>False</td>\n",
       "      <td>34.0377</td>\n",
       "      <td>-118.2621</td>\n",
       "      <td>Other</td>\n",
       "    </tr>\n",
       "    <tr>\n",
       "      <th>572</th>\n",
       "      <td>190122462</td>\n",
       "      <td>2019-09-03</td>\n",
       "      <td>2045</td>\n",
       "      <td>1</td>\n",
       "      <td>Central</td>\n",
       "      <td>163</td>\n",
       "      <td>41</td>\n",
       "      <td>M</td>\n",
       "      <td>O</td>\n",
       "      <td>20</td>\n",
       "      <td>Disorderly Conduct</td>\n",
       "      <td>M</td>\n",
       "      <td>41.18DLAMC</td>\n",
       "      <td>SIT/LIE/SLEEP SIDEWALK OR STREET</td>\n",
       "      <td>9TH</td>\n",
       "      <td>34.043, -118.2571</td>\n",
       "      <td>2019</td>\n",
       "      <td>3</td>\n",
       "      <td>9</td>\n",
       "      <td>September</td>\n",
       "      <td>Tuesday</td>\n",
       "      <td>20</td>\n",
       "      <td>45</td>\n",
       "      <td>False</td>\n",
       "      <td>34.0430</td>\n",
       "      <td>-118.2571</td>\n",
       "      <td>Other</td>\n",
       "    </tr>\n",
       "  </tbody>\n",
       "</table>\n",
       "</div>"
      ],
      "text/plain": [
       "     report_id arrest_date  time area_id  area_name reporting_district  age  \\\n",
       "172  190618578  2019-09-05  1000       6  Hollywood                637   33   \n",
       "309  191116167  2019-09-05  1315      11  Northeast               1172   55   \n",
       "392  190122474  2019-09-04  1850       1    Central                156   49   \n",
       "419  190122466  2019-09-04  2145       1    Central                192   42   \n",
       "572  190122462  2019-09-03  2045       1    Central                163   41   \n",
       "\n",
       "    sex_code descent_code charge_group_code charge_group_description  \\\n",
       "172        M            W                20       Disorderly Conduct   \n",
       "309        M            W                20       Disorderly Conduct   \n",
       "392        M            B                20       Disorderly Conduct   \n",
       "419        F            O                20       Disorderly Conduct   \n",
       "572        M            O                20       Disorderly Conduct   \n",
       "\n",
       "    arrest_type_code       charge                       charge_description  \\\n",
       "172                M   41.18DLAMC         SIT/LIE/SLEEP SIDEWALK OR STREET   \n",
       "309                M  41.18(A)LAM  LOITER/OBSTRUCT STREET/SIDEWALK/ETC****   \n",
       "392                M   41.18ALAMC      LOITER/OBSTRUCT STREET/SIDEWALK/ETC   \n",
       "419                M   41.18DLAMC         SIT/LIE/SLEEP SIDEWALK OR STREET   \n",
       "572                M   41.18DLAMC         SIT/LIE/SLEEP SIDEWALK OR STREET   \n",
       "\n",
       "                                     address            location  year day  \\\n",
       "172  1700    TAMARIND                     AV   34.103, -118.3196  2019   5   \n",
       "309                                    SCOTT  34.0818, -118.2609  2019   5   \n",
       "392                                      6TH  34.0428, -118.2461  2019   4   \n",
       "419                                     HILL  34.0377, -118.2621  2019   4   \n",
       "572                                      9TH   34.043, -118.2571  2019   3   \n",
       "\n",
       "    month  monthname    weekday hour minute  night  latitude  longitude  \\\n",
       "172     9  September   Thursday   10     00  False   34.1030  -118.3196   \n",
       "309     9  September   Thursday   13     15  False   34.0818  -118.2609   \n",
       "392     9  September  Wednesday   18     50  False   34.0428  -118.2461   \n",
       "419     9  September  Wednesday   21     45  False   34.0377  -118.2621   \n",
       "572     9  September    Tuesday   20     45  False   34.0430  -118.2571   \n",
       "\n",
       "    descent_description  \n",
       "172               White  \n",
       "309               White  \n",
       "392               Black  \n",
       "419               Other  \n",
       "572               Other  "
      ]
     },
     "execution_count": 20,
     "metadata": {},
     "output_type": "execute_result"
    }
   ],
   "source": [
    "sit_lie_all.head()"
   ]
  },
  {
   "cell_type": "code",
   "execution_count": 21,
   "metadata": {},
   "outputs": [],
   "source": [
    "sit_lit_years = sit_lie_all.groupby(['year'])\\\n",
    ".agg('size').sort_values(ascending=False).reset_index(name='total')\n",
    "sit_lit_years.sort_values(by='year', inplace=True)"
   ]
  },
  {
   "cell_type": "markdown",
   "metadata": {},
   "source": [
    "#### Chart the years"
   ]
  },
  {
   "cell_type": "code",
   "execution_count": 22,
   "metadata": {},
   "outputs": [
    {
     "data": {
      "application/javascript": [
       "var spec = {\"config\": {\"view\": {\"width\": 800, \"height\": 450}, \"background\": \"#ffffff\", \"title\": {\"anchor\": \"start\", \"font\": \"Benton Gothic Bold, sans\", \"fontColor\": \"#000000\", \"fontSize\": 22, \"fontWeight\": \"normal\"}, \"arc\": {\"fill\": \"#82c6df\"}, \"area\": {\"fill\": \"#82c6df\"}, \"line\": {\"stroke\": \"#82c6df\", \"strokeWidth\": 3}, \"path\": {\"stroke\": \"#82c6df\"}, \"rect\": {\"fill\": \"#82c6df\"}, \"shape\": {\"stroke\": \"#82c6df\"}, \"bar\": {\"fill\": \"#82c6df\"}, \"point\": {\"stroke\": \"#82c6df\"}, \"symbol\": {\"fill\": \"#82c6df\", \"size\": 30}, \"axis\": {\"titleFont\": \"Benton Gothic Bold, sans\", \"titleFontSize\": 13, \"titleFontWeight\": \"normal\", \"labelFont\": \"Benton Gothic, sans\", \"labelFontSize\": 11.5, \"labelFontWeight\": \"normal\"}, \"axisX\": {\"labelAngle\": 0, \"labelPadding\": 4, \"tickSize\": 3}, \"axisY\": {\"labelBaseline\": \"middle\", \"maxExtent\": 45, \"minExtent\": 45, \"tickSize\": 2, \"titleAlign\": \"left\", \"titleAngle\": 0, \"titleX\": -45, \"titleY\": -11}, \"legend\": {\"titleFont\": \"Benton Gothic Bold, sans\", \"titleFontSize\": 13, \"titleFontWeight\": \"normal\", \"symbolType\": \"square\", \"labelFont\": \"Benton Gothic, sans\", \"labelFontSize\": 11.5}, \"range\": {\"category\": [\"#3580b1\", \"#ec8431\", \"#ab7fb4\", \"#c89d29\", \"#adc839\", \"#829eb1\"], \"diverging\": [\"#e68a4f\", \"#f4bb6a\", \"#f9e39c\", \"#dadfe2\", \"#a6b7c6\", \"#849eae\"], \"heatmap\": [\"#fbf2c7\", \"#f9e39c\", \"#f8d36e\", \"#f4bb6a\", \"#e68a4f\", \"#d15a40\", \"#ab4232\"], \"ordinal\": [\"#fbf2c7\", \"#f9e39c\", \"#f8d36e\", \"#f4bb6a\", \"#e68a4f\", \"#d15a40\", \"#ab4232\"], \"ramp\": [\"#fbf2c7\", \"#f9e39c\", \"#f8d36e\", \"#f4bb6a\", \"#e68a4f\", \"#d15a40\", \"#ab4232\"]}}, \"data\": {\"name\": \"data-cea35efcd7e8c7c9ed6b5f530047d548\"}, \"mark\": \"bar\", \"encoding\": {\"facet\": {\"type\": \"nominal\", \"field\": \"area_name\"}, \"x\": {\"type\": \"quantitative\", \"field\": \"total\", \"title\": \"Arrests\"}, \"y\": {\"type\": \"nominal\", \"axis\": {\"format\": \"\", \"tickCount\": 5}, \"field\": \"year\", \"title\": \"Arrests\"}}, \"height\": 200, \"width\": 600, \"$schema\": \"https://vega.github.io/schema/vega-lite/v3.4.0.json\", \"datasets\": {\"data-cea35efcd7e8c7c9ed6b5f530047d548\": [{\"year\": \"2010\", \"total\": 1395}, {\"year\": \"2011\", \"total\": 1396}, {\"year\": \"2012\", \"total\": 4072}, {\"year\": \"2013\", \"total\": 5409}, {\"year\": \"2014\", \"total\": 4581}, {\"year\": \"2015\", \"total\": 4741}, {\"year\": \"2016\", \"total\": 5439}, {\"year\": \"2017\", \"total\": 5738}, {\"year\": \"2018\", \"total\": 3453}, {\"year\": \"2019\", \"total\": 664}]}};\n",
       "var opt = {};\n",
       "var type = \"vega-lite\";\n",
       "var id = \"4147c0f1-a5bb-431d-a60a-05ebf20a6aeb\";\n",
       "\n",
       "var output_area = this;\n",
       "\n",
       "require([\"nbextensions/jupyter-vega/index\"], function(vega) {\n",
       "  var target = document.createElement(\"div\");\n",
       "  target.id = id;\n",
       "  target.className = \"vega-embed\";\n",
       "\n",
       "  var style = document.createElement(\"style\");\n",
       "  style.textContent = [\n",
       "    \".vega-embed .error p {\",\n",
       "    \"  color: firebrick;\",\n",
       "    \"  font-size: 14px;\",\n",
       "    \"}\",\n",
       "  ].join(\"\\\\n\");\n",
       "\n",
       "  // element is a jQuery wrapped DOM element inside the output area\n",
       "  // see http://ipython.readthedocs.io/en/stable/api/generated/\\\n",
       "  // IPython.display.html#IPython.display.Javascript.__init__\n",
       "  element[0].appendChild(target);\n",
       "  element[0].appendChild(style);\n",
       "\n",
       "  vega.render(\"#\" + id, spec, type, opt, output_area);\n",
       "}, function (err) {\n",
       "  if (err.requireType !== \"scripterror\") {\n",
       "    throw(err);\n",
       "  }\n",
       "});\n"
      ],
      "text/plain": [
       "<vega.vegalite.VegaLite at 0x1724cd690>"
      ]
     },
     "metadata": {
      "jupyter-vega": "#4147c0f1-a5bb-431d-a60a-05ebf20a6aeb"
     },
     "output_type": "display_data"
    },
    {
     "data": {
      "text/plain": []
     },
     "execution_count": 22,
     "metadata": {},
     "output_type": "execute_result"
    },
    {
     "data": {
      "image/png": "[encoded data removed]"
     },
     "metadata": {
      "jupyter-vega": "#4147c0f1-a5bb-431d-a60a-05ebf20a6aeb"
     },
     "output_type": "display_data"
    }
   ],
   "source": [
    "alt.Chart(sit_lit_years).mark_bar().encode(\n",
    "    y=alt.Y('year:N', title=\"Arrests\", axis=alt.Axis(format='', tickCount=5)),\n",
    "    x=alt.X(\"total:Q\", title=\"Arrests\"),\n",
    "    facet='area_name:N',\n",
    ").properties(height=200, width=600)"
   ]
  },
  {
   "cell_type": "code",
   "execution_count": 37,
   "metadata": {},
   "outputs": [],
   "source": [
    "sit_lit_dates = sit_lie_all.groupby(['month', 'year'])\\\n",
    ".agg('size').sort_values(ascending=False).reset_index(name='total')\n",
    "sit_lit_dates.sort_values(by='year', inplace=True)"
   ]
  },
  {
   "cell_type": "code",
   "execution_count": 38,
   "metadata": {},
   "outputs": [
    {
     "data": {
      "text/html": [
       "<div>\n",
       "<style scoped>\n",
       "    .dataframe tbody tr th:only-of-type {\n",
       "        vertical-align: middle;\n",
       "    }\n",
       "\n",
       "    .dataframe tbody tr th {\n",
       "        vertical-align: top;\n",
       "    }\n",
       "\n",
       "    .dataframe thead th {\n",
       "        text-align: right;\n",
       "    }\n",
       "</style>\n",
       "<table border=\"1\" class=\"dataframe\">\n",
       "  <thead>\n",
       "    <tr style=\"text-align: right;\">\n",
       "      <th></th>\n",
       "      <th>month</th>\n",
       "      <th>year</th>\n",
       "      <th>total</th>\n",
       "    </tr>\n",
       "  </thead>\n",
       "  <tbody>\n",
       "    <tr>\n",
       "      <th>96</th>\n",
       "      <td>10</td>\n",
       "      <td>2010</td>\n",
       "      <td>110</td>\n",
       "    </tr>\n",
       "    <tr>\n",
       "      <th>100</th>\n",
       "      <td>3</td>\n",
       "      <td>2010</td>\n",
       "      <td>96</td>\n",
       "    </tr>\n",
       "    <tr>\n",
       "      <th>93</th>\n",
       "      <td>8</td>\n",
       "      <td>2010</td>\n",
       "      <td>124</td>\n",
       "    </tr>\n",
       "    <tr>\n",
       "      <th>95</th>\n",
       "      <td>11</td>\n",
       "      <td>2010</td>\n",
       "      <td>111</td>\n",
       "    </tr>\n",
       "    <tr>\n",
       "      <th>90</th>\n",
       "      <td>4</td>\n",
       "      <td>2010</td>\n",
       "      <td>129</td>\n",
       "    </tr>\n",
       "    <tr>\n",
       "      <th>98</th>\n",
       "      <td>9</td>\n",
       "      <td>2010</td>\n",
       "      <td>105</td>\n",
       "    </tr>\n",
       "    <tr>\n",
       "      <th>87</th>\n",
       "      <td>6</td>\n",
       "      <td>2010</td>\n",
       "      <td>143</td>\n",
       "    </tr>\n",
       "    <tr>\n",
       "      <th>86</th>\n",
       "      <td>7</td>\n",
       "      <td>2010</td>\n",
       "      <td>146</td>\n",
       "    </tr>\n",
       "    <tr>\n",
       "      <th>113</th>\n",
       "      <td>2</td>\n",
       "      <td>2010</td>\n",
       "      <td>62</td>\n",
       "    </tr>\n",
       "    <tr>\n",
       "      <th>82</th>\n",
       "      <td>5</td>\n",
       "      <td>2010</td>\n",
       "      <td>195</td>\n",
       "    </tr>\n",
       "    <tr>\n",
       "      <th>106</th>\n",
       "      <td>12</td>\n",
       "      <td>2010</td>\n",
       "      <td>83</td>\n",
       "    </tr>\n",
       "    <tr>\n",
       "      <th>102</th>\n",
       "      <td>1</td>\n",
       "      <td>2010</td>\n",
       "      <td>91</td>\n",
       "    </tr>\n",
       "    <tr>\n",
       "      <th>103</th>\n",
       "      <td>3</td>\n",
       "      <td>2011</td>\n",
       "      <td>86</td>\n",
       "    </tr>\n",
       "    <tr>\n",
       "      <th>112</th>\n",
       "      <td>1</td>\n",
       "      <td>2011</td>\n",
       "      <td>65</td>\n",
       "    </tr>\n",
       "    <tr>\n",
       "      <th>83</th>\n",
       "      <td>10</td>\n",
       "      <td>2011</td>\n",
       "      <td>187</td>\n",
       "    </tr>\n",
       "    <tr>\n",
       "      <th>108</th>\n",
       "      <td>5</td>\n",
       "      <td>2011</td>\n",
       "      <td>82</td>\n",
       "    </tr>\n",
       "    <tr>\n",
       "      <th>84</th>\n",
       "      <td>11</td>\n",
       "      <td>2011</td>\n",
       "      <td>181</td>\n",
       "    </tr>\n",
       "    <tr>\n",
       "      <th>109</th>\n",
       "      <td>2</td>\n",
       "      <td>2011</td>\n",
       "      <td>75</td>\n",
       "    </tr>\n",
       "    <tr>\n",
       "      <th>110</th>\n",
       "      <td>4</td>\n",
       "      <td>2011</td>\n",
       "      <td>74</td>\n",
       "    </tr>\n",
       "    <tr>\n",
       "      <th>85</th>\n",
       "      <td>9</td>\n",
       "      <td>2011</td>\n",
       "      <td>152</td>\n",
       "    </tr>\n",
       "    <tr>\n",
       "      <th>89</th>\n",
       "      <td>6</td>\n",
       "      <td>2011</td>\n",
       "      <td>130</td>\n",
       "    </tr>\n",
       "    <tr>\n",
       "      <th>91</th>\n",
       "      <td>8</td>\n",
       "      <td>2011</td>\n",
       "      <td>128</td>\n",
       "    </tr>\n",
       "    <tr>\n",
       "      <th>92</th>\n",
       "      <td>12</td>\n",
       "      <td>2011</td>\n",
       "      <td>127</td>\n",
       "    </tr>\n",
       "    <tr>\n",
       "      <th>97</th>\n",
       "      <td>7</td>\n",
       "      <td>2011</td>\n",
       "      <td>109</td>\n",
       "    </tr>\n",
       "    <tr>\n",
       "      <th>43</th>\n",
       "      <td>8</td>\n",
       "      <td>2012</td>\n",
       "      <td>385</td>\n",
       "    </tr>\n",
       "    <tr>\n",
       "      <th>37</th>\n",
       "      <td>7</td>\n",
       "      <td>2012</td>\n",
       "      <td>397</td>\n",
       "    </tr>\n",
       "    <tr>\n",
       "      <th>51</th>\n",
       "      <td>9</td>\n",
       "      <td>2012</td>\n",
       "      <td>358</td>\n",
       "    </tr>\n",
       "    <tr>\n",
       "      <th>66</th>\n",
       "      <td>6</td>\n",
       "      <td>2012</td>\n",
       "      <td>295</td>\n",
       "    </tr>\n",
       "    <tr>\n",
       "      <th>40</th>\n",
       "      <td>11</td>\n",
       "      <td>2012</td>\n",
       "      <td>390</td>\n",
       "    </tr>\n",
       "    <tr>\n",
       "      <th>72</th>\n",
       "      <td>4</td>\n",
       "      <td>2012</td>\n",
       "      <td>261</td>\n",
       "    </tr>\n",
       "    <tr>\n",
       "      <th>81</th>\n",
       "      <td>1</td>\n",
       "      <td>2012</td>\n",
       "      <td>200</td>\n",
       "    </tr>\n",
       "    <tr>\n",
       "      <th>16</th>\n",
       "      <td>10</td>\n",
       "      <td>2012</td>\n",
       "      <td>492</td>\n",
       "    </tr>\n",
       "    <tr>\n",
       "      <th>73</th>\n",
       "      <td>5</td>\n",
       "      <td>2012</td>\n",
       "      <td>261</td>\n",
       "    </tr>\n",
       "    <tr>\n",
       "      <th>25</th>\n",
       "      <td>12</td>\n",
       "      <td>2012</td>\n",
       "      <td>449</td>\n",
       "    </tr>\n",
       "    <tr>\n",
       "      <th>50</th>\n",
       "      <td>3</td>\n",
       "      <td>2012</td>\n",
       "      <td>365</td>\n",
       "    </tr>\n",
       "    <tr>\n",
       "      <th>79</th>\n",
       "      <td>2</td>\n",
       "      <td>2012</td>\n",
       "      <td>219</td>\n",
       "    </tr>\n",
       "    <tr>\n",
       "      <th>33</th>\n",
       "      <td>8</td>\n",
       "      <td>2013</td>\n",
       "      <td>415</td>\n",
       "    </tr>\n",
       "    <tr>\n",
       "      <th>60</th>\n",
       "      <td>2</td>\n",
       "      <td>2013</td>\n",
       "      <td>321</td>\n",
       "    </tr>\n",
       "    <tr>\n",
       "      <th>20</th>\n",
       "      <td>1</td>\n",
       "      <td>2013</td>\n",
       "      <td>475</td>\n",
       "    </tr>\n",
       "    <tr>\n",
       "      <th>19</th>\n",
       "      <td>11</td>\n",
       "      <td>2013</td>\n",
       "      <td>480</td>\n",
       "    </tr>\n",
       "    <tr>\n",
       "      <th>17</th>\n",
       "      <td>7</td>\n",
       "      <td>2013</td>\n",
       "      <td>484</td>\n",
       "    </tr>\n",
       "    <tr>\n",
       "      <th>15</th>\n",
       "      <td>5</td>\n",
       "      <td>2013</td>\n",
       "      <td>495</td>\n",
       "    </tr>\n",
       "    <tr>\n",
       "      <th>13</th>\n",
       "      <td>6</td>\n",
       "      <td>2013</td>\n",
       "      <td>514</td>\n",
       "    </tr>\n",
       "    <tr>\n",
       "      <th>53</th>\n",
       "      <td>4</td>\n",
       "      <td>2013</td>\n",
       "      <td>357</td>\n",
       "    </tr>\n",
       "    <tr>\n",
       "      <th>12</th>\n",
       "      <td>10</td>\n",
       "      <td>2013</td>\n",
       "      <td>520</td>\n",
       "    </tr>\n",
       "    <tr>\n",
       "      <th>46</th>\n",
       "      <td>9</td>\n",
       "      <td>2013</td>\n",
       "      <td>379</td>\n",
       "    </tr>\n",
       "    <tr>\n",
       "      <th>11</th>\n",
       "      <td>3</td>\n",
       "      <td>2013</td>\n",
       "      <td>523</td>\n",
       "    </tr>\n",
       "    <tr>\n",
       "      <th>26</th>\n",
       "      <td>12</td>\n",
       "      <td>2013</td>\n",
       "      <td>446</td>\n",
       "    </tr>\n",
       "    <tr>\n",
       "      <th>56</th>\n",
       "      <td>8</td>\n",
       "      <td>2014</td>\n",
       "      <td>343</td>\n",
       "    </tr>\n",
       "    <tr>\n",
       "      <th>78</th>\n",
       "      <td>12</td>\n",
       "      <td>2014</td>\n",
       "      <td>221</td>\n",
       "    </tr>\n",
       "    <tr>\n",
       "      <th>48</th>\n",
       "      <td>11</td>\n",
       "      <td>2014</td>\n",
       "      <td>366</td>\n",
       "    </tr>\n",
       "    <tr>\n",
       "      <th>47</th>\n",
       "      <td>3</td>\n",
       "      <td>2014</td>\n",
       "      <td>378</td>\n",
       "    </tr>\n",
       "    <tr>\n",
       "      <th>49</th>\n",
       "      <td>9</td>\n",
       "      <td>2014</td>\n",
       "      <td>366</td>\n",
       "    </tr>\n",
       "    <tr>\n",
       "      <th>21</th>\n",
       "      <td>2</td>\n",
       "      <td>2014</td>\n",
       "      <td>474</td>\n",
       "    </tr>\n",
       "    <tr>\n",
       "      <th>35</th>\n",
       "      <td>7</td>\n",
       "      <td>2014</td>\n",
       "      <td>401</td>\n",
       "    </tr>\n",
       "    <tr>\n",
       "      <th>27</th>\n",
       "      <td>1</td>\n",
       "      <td>2014</td>\n",
       "      <td>439</td>\n",
       "    </tr>\n",
       "    <tr>\n",
       "      <th>38</th>\n",
       "      <td>5</td>\n",
       "      <td>2014</td>\n",
       "      <td>396</td>\n",
       "    </tr>\n",
       "    <tr>\n",
       "      <th>28</th>\n",
       "      <td>6</td>\n",
       "      <td>2014</td>\n",
       "      <td>427</td>\n",
       "    </tr>\n",
       "    <tr>\n",
       "      <th>44</th>\n",
       "      <td>10</td>\n",
       "      <td>2014</td>\n",
       "      <td>382</td>\n",
       "    </tr>\n",
       "    <tr>\n",
       "      <th>41</th>\n",
       "      <td>4</td>\n",
       "      <td>2014</td>\n",
       "      <td>388</td>\n",
       "    </tr>\n",
       "    <tr>\n",
       "      <th>39</th>\n",
       "      <td>4</td>\n",
       "      <td>2015</td>\n",
       "      <td>390</td>\n",
       "    </tr>\n",
       "    <tr>\n",
       "      <th>2</th>\n",
       "      <td>11</td>\n",
       "      <td>2015</td>\n",
       "      <td>657</td>\n",
       "    </tr>\n",
       "    <tr>\n",
       "      <th>32</th>\n",
       "      <td>12</td>\n",
       "      <td>2015</td>\n",
       "      <td>419</td>\n",
       "    </tr>\n",
       "    <tr>\n",
       "      <th>18</th>\n",
       "      <td>2</td>\n",
       "      <td>2015</td>\n",
       "      <td>483</td>\n",
       "    </tr>\n",
       "    <tr>\n",
       "      <th>14</th>\n",
       "      <td>10</td>\n",
       "      <td>2015</td>\n",
       "      <td>509</td>\n",
       "    </tr>\n",
       "    <tr>\n",
       "      <th>54</th>\n",
       "      <td>3</td>\n",
       "      <td>2015</td>\n",
       "      <td>356</td>\n",
       "    </tr>\n",
       "    <tr>\n",
       "      <th>67</th>\n",
       "      <td>7</td>\n",
       "      <td>2015</td>\n",
       "      <td>290</td>\n",
       "    </tr>\n",
       "    <tr>\n",
       "      <th>64</th>\n",
       "      <td>6</td>\n",
       "      <td>2015</td>\n",
       "      <td>310</td>\n",
       "    </tr>\n",
       "    <tr>\n",
       "      <th>62</th>\n",
       "      <td>5</td>\n",
       "      <td>2015</td>\n",
       "      <td>317</td>\n",
       "    </tr>\n",
       "    <tr>\n",
       "      <th>61</th>\n",
       "      <td>9</td>\n",
       "      <td>2015</td>\n",
       "      <td>317</td>\n",
       "    </tr>\n",
       "    <tr>\n",
       "      <th>42</th>\n",
       "      <td>1</td>\n",
       "      <td>2015</td>\n",
       "      <td>387</td>\n",
       "    </tr>\n",
       "    <tr>\n",
       "      <th>65</th>\n",
       "      <td>8</td>\n",
       "      <td>2015</td>\n",
       "      <td>306</td>\n",
       "    </tr>\n",
       "    <tr>\n",
       "      <th>8</th>\n",
       "      <td>2</td>\n",
       "      <td>2016</td>\n",
       "      <td>581</td>\n",
       "    </tr>\n",
       "    <tr>\n",
       "      <th>4</th>\n",
       "      <td>5</td>\n",
       "      <td>2016</td>\n",
       "      <td>621</td>\n",
       "    </tr>\n",
       "    <tr>\n",
       "      <th>5</th>\n",
       "      <td>4</td>\n",
       "      <td>2016</td>\n",
       "      <td>616</td>\n",
       "    </tr>\n",
       "    <tr>\n",
       "      <th>24</th>\n",
       "      <td>6</td>\n",
       "      <td>2016</td>\n",
       "      <td>452</td>\n",
       "    </tr>\n",
       "    <tr>\n",
       "      <th>6</th>\n",
       "      <td>1</td>\n",
       "      <td>2016</td>\n",
       "      <td>595</td>\n",
       "    </tr>\n",
       "    <tr>\n",
       "      <th>0</th>\n",
       "      <td>3</td>\n",
       "      <td>2016</td>\n",
       "      <td>790</td>\n",
       "    </tr>\n",
       "    <tr>\n",
       "      <th>68</th>\n",
       "      <td>7</td>\n",
       "      <td>2016</td>\n",
       "      <td>279</td>\n",
       "    </tr>\n",
       "    <tr>\n",
       "      <th>76</th>\n",
       "      <td>12</td>\n",
       "      <td>2016</td>\n",
       "      <td>240</td>\n",
       "    </tr>\n",
       "    <tr>\n",
       "      <th>75</th>\n",
       "      <td>10</td>\n",
       "      <td>2016</td>\n",
       "      <td>249</td>\n",
       "    </tr>\n",
       "    <tr>\n",
       "      <th>74</th>\n",
       "      <td>11</td>\n",
       "      <td>2016</td>\n",
       "      <td>260</td>\n",
       "    </tr>\n",
       "    <tr>\n",
       "      <th>55</th>\n",
       "      <td>9</td>\n",
       "      <td>2016</td>\n",
       "      <td>356</td>\n",
       "    </tr>\n",
       "    <tr>\n",
       "      <th>36</th>\n",
       "      <td>8</td>\n",
       "      <td>2016</td>\n",
       "      <td>400</td>\n",
       "    </tr>\n",
       "    <tr>\n",
       "      <th>1</th>\n",
       "      <td>4</td>\n",
       "      <td>2017</td>\n",
       "      <td>763</td>\n",
       "    </tr>\n",
       "    <tr>\n",
       "      <th>45</th>\n",
       "      <td>11</td>\n",
       "      <td>2017</td>\n",
       "      <td>382</td>\n",
       "    </tr>\n",
       "    <tr>\n",
       "      <th>3</th>\n",
       "      <td>5</td>\n",
       "      <td>2017</td>\n",
       "      <td>645</td>\n",
       "    </tr>\n",
       "    <tr>\n",
       "      <th>63</th>\n",
       "      <td>1</td>\n",
       "      <td>2017</td>\n",
       "      <td>310</td>\n",
       "    </tr>\n",
       "    <tr>\n",
       "      <th>29</th>\n",
       "      <td>8</td>\n",
       "      <td>2017</td>\n",
       "      <td>427</td>\n",
       "    </tr>\n",
       "    <tr>\n",
       "      <th>9</th>\n",
       "      <td>9</td>\n",
       "      <td>2017</td>\n",
       "      <td>555</td>\n",
       "    </tr>\n",
       "    <tr>\n",
       "      <th>10</th>\n",
       "      <td>7</td>\n",
       "      <td>2017</td>\n",
       "      <td>539</td>\n",
       "    </tr>\n",
       "    <tr>\n",
       "      <th>69</th>\n",
       "      <td>12</td>\n",
       "      <td>2017</td>\n",
       "      <td>278</td>\n",
       "    </tr>\n",
       "    <tr>\n",
       "      <th>34</th>\n",
       "      <td>3</td>\n",
       "      <td>2017</td>\n",
       "      <td>401</td>\n",
       "    </tr>\n",
       "    <tr>\n",
       "      <th>31</th>\n",
       "      <td>10</td>\n",
       "      <td>2017</td>\n",
       "      <td>422</td>\n",
       "    </tr>\n",
       "    <tr>\n",
       "      <th>7</th>\n",
       "      <td>6</td>\n",
       "      <td>2017</td>\n",
       "      <td>591</td>\n",
       "    </tr>\n",
       "    <tr>\n",
       "      <th>30</th>\n",
       "      <td>2</td>\n",
       "      <td>2017</td>\n",
       "      <td>425</td>\n",
       "    </tr>\n",
       "    <tr>\n",
       "      <th>101</th>\n",
       "      <td>12</td>\n",
       "      <td>2018</td>\n",
       "      <td>93</td>\n",
       "    </tr>\n",
       "    <tr>\n",
       "      <th>58</th>\n",
       "      <td>1</td>\n",
       "      <td>2018</td>\n",
       "      <td>335</td>\n",
       "    </tr>\n",
       "    <tr>\n",
       "      <th>80</th>\n",
       "      <td>10</td>\n",
       "      <td>2018</td>\n",
       "      <td>212</td>\n",
       "    </tr>\n",
       "    <tr>\n",
       "      <th>77</th>\n",
       "      <td>3</td>\n",
       "      <td>2018</td>\n",
       "      <td>227</td>\n",
       "    </tr>\n",
       "    <tr>\n",
       "      <th>71</th>\n",
       "      <td>4</td>\n",
       "      <td>2018</td>\n",
       "      <td>262</td>\n",
       "    </tr>\n",
       "    <tr>\n",
       "      <th>70</th>\n",
       "      <td>6</td>\n",
       "      <td>2018</td>\n",
       "      <td>265</td>\n",
       "    </tr>\n",
       "    <tr>\n",
       "      <th>22</th>\n",
       "      <td>2</td>\n",
       "      <td>2018</td>\n",
       "      <td>465</td>\n",
       "    </tr>\n",
       "    <tr>\n",
       "      <th>23</th>\n",
       "      <td>5</td>\n",
       "      <td>2018</td>\n",
       "      <td>453</td>\n",
       "    </tr>\n",
       "    <tr>\n",
       "      <th>59</th>\n",
       "      <td>9</td>\n",
       "      <td>2018</td>\n",
       "      <td>326</td>\n",
       "    </tr>\n",
       "    <tr>\n",
       "      <th>94</th>\n",
       "      <td>11</td>\n",
       "      <td>2018</td>\n",
       "      <td>120</td>\n",
       "    </tr>\n",
       "    <tr>\n",
       "      <th>57</th>\n",
       "      <td>7</td>\n",
       "      <td>2018</td>\n",
       "      <td>338</td>\n",
       "    </tr>\n",
       "    <tr>\n",
       "      <th>52</th>\n",
       "      <td>8</td>\n",
       "      <td>2018</td>\n",
       "      <td>357</td>\n",
       "    </tr>\n",
       "    <tr>\n",
       "      <th>88</th>\n",
       "      <td>1</td>\n",
       "      <td>2019</td>\n",
       "      <td>140</td>\n",
       "    </tr>\n",
       "    <tr>\n",
       "      <th>114</th>\n",
       "      <td>4</td>\n",
       "      <td>2019</td>\n",
       "      <td>58</td>\n",
       "    </tr>\n",
       "    <tr>\n",
       "      <th>111</th>\n",
       "      <td>3</td>\n",
       "      <td>2019</td>\n",
       "      <td>70</td>\n",
       "    </tr>\n",
       "    <tr>\n",
       "      <th>107</th>\n",
       "      <td>8</td>\n",
       "      <td>2019</td>\n",
       "      <td>82</td>\n",
       "    </tr>\n",
       "    <tr>\n",
       "      <th>105</th>\n",
       "      <td>2</td>\n",
       "      <td>2019</td>\n",
       "      <td>83</td>\n",
       "    </tr>\n",
       "    <tr>\n",
       "      <th>104</th>\n",
       "      <td>6</td>\n",
       "      <td>2019</td>\n",
       "      <td>84</td>\n",
       "    </tr>\n",
       "    <tr>\n",
       "      <th>99</th>\n",
       "      <td>7</td>\n",
       "      <td>2019</td>\n",
       "      <td>98</td>\n",
       "    </tr>\n",
       "    <tr>\n",
       "      <th>115</th>\n",
       "      <td>5</td>\n",
       "      <td>2019</td>\n",
       "      <td>41</td>\n",
       "    </tr>\n",
       "    <tr>\n",
       "      <th>116</th>\n",
       "      <td>9</td>\n",
       "      <td>2019</td>\n",
       "      <td>8</td>\n",
       "    </tr>\n",
       "  </tbody>\n",
       "</table>\n",
       "</div>"
      ],
      "text/plain": [
       "    month  year  total\n",
       "96     10  2010    110\n",
       "100     3  2010     96\n",
       "93      8  2010    124\n",
       "95     11  2010    111\n",
       "90      4  2010    129\n",
       "98      9  2010    105\n",
       "87      6  2010    143\n",
       "86      7  2010    146\n",
       "113     2  2010     62\n",
       "82      5  2010    195\n",
       "106    12  2010     83\n",
       "102     1  2010     91\n",
       "103     3  2011     86\n",
       "112     1  2011     65\n",
       "83     10  2011    187\n",
       "108     5  2011     82\n",
       "84     11  2011    181\n",
       "109     2  2011     75\n",
       "110     4  2011     74\n",
       "85      9  2011    152\n",
       "89      6  2011    130\n",
       "91      8  2011    128\n",
       "92     12  2011    127\n",
       "97      7  2011    109\n",
       "43      8  2012    385\n",
       "37      7  2012    397\n",
       "51      9  2012    358\n",
       "66      6  2012    295\n",
       "40     11  2012    390\n",
       "72      4  2012    261\n",
       "81      1  2012    200\n",
       "16     10  2012    492\n",
       "73      5  2012    261\n",
       "25     12  2012    449\n",
       "50      3  2012    365\n",
       "79      2  2012    219\n",
       "33      8  2013    415\n",
       "60      2  2013    321\n",
       "20      1  2013    475\n",
       "19     11  2013    480\n",
       "17      7  2013    484\n",
       "15      5  2013    495\n",
       "13      6  2013    514\n",
       "53      4  2013    357\n",
       "12     10  2013    520\n",
       "46      9  2013    379\n",
       "11      3  2013    523\n",
       "26     12  2013    446\n",
       "56      8  2014    343\n",
       "78     12  2014    221\n",
       "48     11  2014    366\n",
       "47      3  2014    378\n",
       "49      9  2014    366\n",
       "21      2  2014    474\n",
       "35      7  2014    401\n",
       "27      1  2014    439\n",
       "38      5  2014    396\n",
       "28      6  2014    427\n",
       "44     10  2014    382\n",
       "41      4  2014    388\n",
       "39      4  2015    390\n",
       "2      11  2015    657\n",
       "32     12  2015    419\n",
       "18      2  2015    483\n",
       "14     10  2015    509\n",
       "54      3  2015    356\n",
       "67      7  2015    290\n",
       "64      6  2015    310\n",
       "62      5  2015    317\n",
       "61      9  2015    317\n",
       "42      1  2015    387\n",
       "65      8  2015    306\n",
       "8       2  2016    581\n",
       "4       5  2016    621\n",
       "5       4  2016    616\n",
       "24      6  2016    452\n",
       "6       1  2016    595\n",
       "0       3  2016    790\n",
       "68      7  2016    279\n",
       "76     12  2016    240\n",
       "75     10  2016    249\n",
       "74     11  2016    260\n",
       "55      9  2016    356\n",
       "36      8  2016    400\n",
       "1       4  2017    763\n",
       "45     11  2017    382\n",
       "3       5  2017    645\n",
       "63      1  2017    310\n",
       "29      8  2017    427\n",
       "9       9  2017    555\n",
       "10      7  2017    539\n",
       "69     12  2017    278\n",
       "34      3  2017    401\n",
       "31     10  2017    422\n",
       "7       6  2017    591\n",
       "30      2  2017    425\n",
       "101    12  2018     93\n",
       "58      1  2018    335\n",
       "80     10  2018    212\n",
       "77      3  2018    227\n",
       "71      4  2018    262\n",
       "70      6  2018    265\n",
       "22      2  2018    465\n",
       "23      5  2018    453\n",
       "59      9  2018    326\n",
       "94     11  2018    120\n",
       "57      7  2018    338\n",
       "52      8  2018    357\n",
       "88      1  2019    140\n",
       "114     4  2019     58\n",
       "111     3  2019     70\n",
       "107     8  2019     82\n",
       "105     2  2019     83\n",
       "104     6  2019     84\n",
       "99      7  2019     98\n",
       "115     5  2019     41\n",
       "116     9  2019      8"
      ]
     },
     "execution_count": 38,
     "metadata": {},
     "output_type": "execute_result"
    }
   ],
   "source": [
    "sit_lit_dates"
   ]
  },
  {
   "cell_type": "code",
   "execution_count": 44,
   "metadata": {},
   "outputs": [
    {
     "data": {
      "application/javascript": [
       "var spec = {\"config\": {\"view\": {\"width\": 800, \"height\": 450}, \"background\": \"#ffffff\", \"title\": {\"anchor\": \"start\", \"font\": \"Benton Gothic Bold, sans\", \"fontColor\": \"#000000\", \"fontSize\": 22, \"fontWeight\": \"normal\"}, \"arc\": {\"fill\": \"#82c6df\"}, \"area\": {\"fill\": \"#82c6df\"}, \"line\": {\"stroke\": \"#82c6df\", \"strokeWidth\": 3}, \"path\": {\"stroke\": \"#82c6df\"}, \"rect\": {\"fill\": \"#82c6df\"}, \"shape\": {\"stroke\": \"#82c6df\"}, \"bar\": {\"fill\": \"#82c6df\"}, \"point\": {\"stroke\": \"#82c6df\"}, \"symbol\": {\"fill\": \"#82c6df\", \"size\": 30}, \"axis\": {\"titleFont\": \"Benton Gothic Bold, sans\", \"titleFontSize\": 13, \"titleFontWeight\": \"normal\", \"labelFont\": \"Benton Gothic, sans\", \"labelFontSize\": 11.5, \"labelFontWeight\": \"normal\"}, \"axisX\": {\"labelAngle\": 0, \"labelPadding\": 4, \"tickSize\": 3}, \"axisY\": {\"labelBaseline\": \"middle\", \"maxExtent\": 45, \"minExtent\": 45, \"tickSize\": 2, \"titleAlign\": \"left\", \"titleAngle\": 0, \"titleX\": -45, \"titleY\": -11}, \"legend\": {\"titleFont\": \"Benton Gothic Bold, sans\", \"titleFontSize\": 13, \"titleFontWeight\": \"normal\", \"symbolType\": \"square\", \"labelFont\": \"Benton Gothic, sans\", \"labelFontSize\": 11.5, \"orient\": \"top\", \"padding\": 10}, \"range\": {\"category\": [\"#3580b1\", \"#ec8431\", \"#ab7fb4\", \"#c89d29\", \"#adc839\", \"#829eb1\"], \"diverging\": [\"#e68a4f\", \"#f4bb6a\", \"#f9e39c\", \"#dadfe2\", \"#a6b7c6\", \"#849eae\"], \"heatmap\": [\"#fbf2c7\", \"#f9e39c\", \"#f8d36e\", \"#f4bb6a\", \"#e68a4f\", \"#d15a40\", \"#ab4232\"], \"ordinal\": [\"#fbf2c7\", \"#f9e39c\", \"#f8d36e\", \"#f4bb6a\", \"#e68a4f\", \"#d15a40\", \"#ab4232\"], \"ramp\": [\"#fbf2c7\", \"#f9e39c\", \"#f8d36e\", \"#f4bb6a\", \"#e68a4f\", \"#d15a40\", \"#ab4232\"]}}, \"data\": {\"name\": \"data-f72228947a58c52fc43d5e1ad9de7984\"}, \"mark\": \"rect\", \"columns\": 1, \"encoding\": {\"color\": {\"type\": \"quantitative\", \"field\": \"total\", \"scale\": {\"scheme\": \"blues\"}, \"title\": \"Arrest count\"}, \"tooltip\": [{\"type\": \"temporal\", \"field\": \"month\", \"title\": \"Date\"}, {\"type\": \"quantitative\", \"field\": \"total\", \"title\": \"Count\"}], \"x\": {\"type\": \"nominal\", \"field\": \"month\", \"title\": \" \"}, \"y\": {\"type\": \"nominal\", \"field\": \"year\", \"title\": \"\"}}, \"height\": 180, \"title\": \"Arrests by year and month\", \"width\": 600, \"$schema\": \"https://vega.github.io/schema/vega-lite/v3.4.0.json\", \"datasets\": {\"data-f72228947a58c52fc43d5e1ad9de7984\": [{\"month\": \"10\", \"year\": \"2010\", \"total\": 110}, {\"month\": \"3\", \"year\": \"2010\", \"total\": 96}, {\"month\": \"8\", \"year\": \"2010\", \"total\": 124}, {\"month\": \"11\", \"year\": \"2010\", \"total\": 111}, {\"month\": \"4\", \"year\": \"2010\", \"total\": 129}, {\"month\": \"9\", \"year\": \"2010\", \"total\": 105}, {\"month\": \"6\", \"year\": \"2010\", \"total\": 143}, {\"month\": \"7\", \"year\": \"2010\", \"total\": 146}, {\"month\": \"2\", \"year\": \"2010\", \"total\": 62}, {\"month\": \"5\", \"year\": \"2010\", \"total\": 195}, {\"month\": \"12\", \"year\": \"2010\", \"total\": 83}, {\"month\": \"1\", \"year\": \"2010\", \"total\": 91}, {\"month\": \"3\", \"year\": \"2011\", \"total\": 86}, {\"month\": \"1\", \"year\": \"2011\", \"total\": 65}, {\"month\": \"10\", \"year\": \"2011\", \"total\": 187}, {\"month\": \"5\", \"year\": \"2011\", \"total\": 82}, {\"month\": \"11\", \"year\": \"2011\", \"total\": 181}, {\"month\": \"2\", \"year\": \"2011\", \"total\": 75}, {\"month\": \"4\", \"year\": \"2011\", \"total\": 74}, {\"month\": \"9\", \"year\": \"2011\", \"total\": 152}, {\"month\": \"6\", \"year\": \"2011\", \"total\": 130}, {\"month\": \"8\", \"year\": \"2011\", \"total\": 128}, {\"month\": \"12\", \"year\": \"2011\", \"total\": 127}, {\"month\": \"7\", \"year\": \"2011\", \"total\": 109}, {\"month\": \"8\", \"year\": \"2012\", \"total\": 385}, {\"month\": \"7\", \"year\": \"2012\", \"total\": 397}, {\"month\": \"9\", \"year\": \"2012\", \"total\": 358}, {\"month\": \"6\", \"year\": \"2012\", \"total\": 295}, {\"month\": \"11\", \"year\": \"2012\", \"total\": 390}, {\"month\": \"4\", \"year\": \"2012\", \"total\": 261}, {\"month\": \"1\", \"year\": \"2012\", \"total\": 200}, {\"month\": \"10\", \"year\": \"2012\", \"total\": 492}, {\"month\": \"5\", \"year\": \"2012\", \"total\": 261}, {\"month\": \"12\", \"year\": \"2012\", \"total\": 449}, {\"month\": \"3\", \"year\": \"2012\", \"total\": 365}, {\"month\": \"2\", \"year\": \"2012\", \"total\": 219}, {\"month\": \"8\", \"year\": \"2013\", \"total\": 415}, {\"month\": \"2\", \"year\": \"2013\", \"total\": 321}, {\"month\": \"1\", \"year\": \"2013\", \"total\": 475}, {\"month\": \"11\", \"year\": \"2013\", \"total\": 480}, {\"month\": \"7\", \"year\": \"2013\", \"total\": 484}, {\"month\": \"5\", \"year\": \"2013\", \"total\": 495}, {\"month\": \"6\", \"year\": \"2013\", \"total\": 514}, {\"month\": \"4\", \"year\": \"2013\", \"total\": 357}, {\"month\": \"10\", \"year\": \"2013\", \"total\": 520}, {\"month\": \"9\", \"year\": \"2013\", \"total\": 379}, {\"month\": \"3\", \"year\": \"2013\", \"total\": 523}, {\"month\": \"12\", \"year\": \"2013\", \"total\": 446}, {\"month\": \"8\", \"year\": \"2014\", \"total\": 343}, {\"month\": \"12\", \"year\": \"2014\", \"total\": 221}, {\"month\": \"11\", \"year\": \"2014\", \"total\": 366}, {\"month\": \"3\", \"year\": \"2014\", \"total\": 378}, {\"month\": \"9\", \"year\": \"2014\", \"total\": 366}, {\"month\": \"2\", \"year\": \"2014\", \"total\": 474}, {\"month\": \"7\", \"year\": \"2014\", \"total\": 401}, {\"month\": \"1\", \"year\": \"2014\", \"total\": 439}, {\"month\": \"5\", \"year\": \"2014\", \"total\": 396}, {\"month\": \"6\", \"year\": \"2014\", \"total\": 427}, {\"month\": \"10\", \"year\": \"2014\", \"total\": 382}, {\"month\": \"4\", \"year\": \"2014\", \"total\": 388}, {\"month\": \"4\", \"year\": \"2015\", \"total\": 390}, {\"month\": \"11\", \"year\": \"2015\", \"total\": 657}, {\"month\": \"12\", \"year\": \"2015\", \"total\": 419}, {\"month\": \"2\", \"year\": \"2015\", \"total\": 483}, {\"month\": \"10\", \"year\": \"2015\", \"total\": 509}, {\"month\": \"3\", \"year\": \"2015\", \"total\": 356}, {\"month\": \"7\", \"year\": \"2015\", \"total\": 290}, {\"month\": \"6\", \"year\": \"2015\", \"total\": 310}, {\"month\": \"5\", \"year\": \"2015\", \"total\": 317}, {\"month\": \"9\", \"year\": \"2015\", \"total\": 317}, {\"month\": \"1\", \"year\": \"2015\", \"total\": 387}, {\"month\": \"8\", \"year\": \"2015\", \"total\": 306}, {\"month\": \"2\", \"year\": \"2016\", \"total\": 581}, {\"month\": \"5\", \"year\": \"2016\", \"total\": 621}, {\"month\": \"4\", \"year\": \"2016\", \"total\": 616}, {\"month\": \"6\", \"year\": \"2016\", \"total\": 452}, {\"month\": \"1\", \"year\": \"2016\", \"total\": 595}, {\"month\": \"3\", \"year\": \"2016\", \"total\": 790}, {\"month\": \"7\", \"year\": \"2016\", \"total\": 279}, {\"month\": \"12\", \"year\": \"2016\", \"total\": 240}, {\"month\": \"10\", \"year\": \"2016\", \"total\": 249}, {\"month\": \"11\", \"year\": \"2016\", \"total\": 260}, {\"month\": \"9\", \"year\": \"2016\", \"total\": 356}, {\"month\": \"8\", \"year\": \"2016\", \"total\": 400}, {\"month\": \"4\", \"year\": \"2017\", \"total\": 763}, {\"month\": \"11\", \"year\": \"2017\", \"total\": 382}, {\"month\": \"5\", \"year\": \"2017\", \"total\": 645}, {\"month\": \"1\", \"year\": \"2017\", \"total\": 310}, {\"month\": \"8\", \"year\": \"2017\", \"total\": 427}, {\"month\": \"9\", \"year\": \"2017\", \"total\": 555}, {\"month\": \"7\", \"year\": \"2017\", \"total\": 539}, {\"month\": \"12\", \"year\": \"2017\", \"total\": 278}, {\"month\": \"3\", \"year\": \"2017\", \"total\": 401}, {\"month\": \"10\", \"year\": \"2017\", \"total\": 422}, {\"month\": \"6\", \"year\": \"2017\", \"total\": 591}, {\"month\": \"2\", \"year\": \"2017\", \"total\": 425}, {\"month\": \"12\", \"year\": \"2018\", \"total\": 93}, {\"month\": \"1\", \"year\": \"2018\", \"total\": 335}, {\"month\": \"10\", \"year\": \"2018\", \"total\": 212}, {\"month\": \"3\", \"year\": \"2018\", \"total\": 227}, {\"month\": \"4\", \"year\": \"2018\", \"total\": 262}, {\"month\": \"6\", \"year\": \"2018\", \"total\": 265}, {\"month\": \"2\", \"year\": \"2018\", \"total\": 465}, {\"month\": \"5\", \"year\": \"2018\", \"total\": 453}, {\"month\": \"9\", \"year\": \"2018\", \"total\": 326}, {\"month\": \"11\", \"year\": \"2018\", \"total\": 120}, {\"month\": \"7\", \"year\": \"2018\", \"total\": 338}, {\"month\": \"8\", \"year\": \"2018\", \"total\": 357}, {\"month\": \"1\", \"year\": \"2019\", \"total\": 140}, {\"month\": \"4\", \"year\": \"2019\", \"total\": 58}, {\"month\": \"3\", \"year\": \"2019\", \"total\": 70}, {\"month\": \"8\", \"year\": \"2019\", \"total\": 82}, {\"month\": \"2\", \"year\": \"2019\", \"total\": 83}, {\"month\": \"6\", \"year\": \"2019\", \"total\": 84}, {\"month\": \"7\", \"year\": \"2019\", \"total\": 98}, {\"month\": \"5\", \"year\": \"2019\", \"total\": 41}, {\"month\": \"9\", \"year\": \"2019\", \"total\": 8}]}};\n",
       "var opt = {};\n",
       "var type = \"vega-lite\";\n",
       "var id = \"8a4cf110-d058-44ad-9aeb-9def362d0a64\";\n",
       "\n",
       "var output_area = this;\n",
       "\n",
       "require([\"nbextensions/jupyter-vega/index\"], function(vega) {\n",
       "  var target = document.createElement(\"div\");\n",
       "  target.id = id;\n",
       "  target.className = \"vega-embed\";\n",
       "\n",
       "  var style = document.createElement(\"style\");\n",
       "  style.textContent = [\n",
       "    \".vega-embed .error p {\",\n",
       "    \"  color: firebrick;\",\n",
       "    \"  font-size: 14px;\",\n",
       "    \"}\",\n",
       "  ].join(\"\\\\n\");\n",
       "\n",
       "  // element is a jQuery wrapped DOM element inside the output area\n",
       "  // see http://ipython.readthedocs.io/en/stable/api/generated/\\\n",
       "  // IPython.display.html#IPython.display.Javascript.__init__\n",
       "  element[0].appendChild(target);\n",
       "  element[0].appendChild(style);\n",
       "\n",
       "  vega.render(\"#\" + id, spec, type, opt, output_area);\n",
       "}, function (err) {\n",
       "  if (err.requireType !== \"scripterror\") {\n",
       "    throw(err);\n",
       "  }\n",
       "});\n"
      ],
      "text/plain": [
       "<vega.vegalite.VegaLite at 0x12024c710>"
      ]
     },
     "metadata": {
      "jupyter-vega": "#8a4cf110-d058-44ad-9aeb-9def362d0a64"
     },
     "output_type": "display_data"
    },
    {
     "data": {
      "text/plain": []
     },
     "execution_count": 44,
     "metadata": {},
     "output_type": "execute_result"
    },
    {
     "data": {
      "image/png": "[encoded data removed]"
     },
     "metadata": {
      "jupyter-vega": "#8a4cf110-d058-44ad-9aeb-9def362d0a64"
     },
     "output_type": "display_data"
    }
   ],
   "source": [
    "heatmap = alt.Chart(\n",
    "    sit_lit_dates,\n",
    "    title=\"Arrests by year and month\"\n",
    ").mark_rect().encode(\n",
    "    x=alt.X('month:N', title=' '),\n",
    "    y=alt.Y('year:N', title=''),\n",
    "    color=alt.Color('total:Q', title='Arrest count', scale=alt.Scale(scheme=\"blues\")),\n",
    "    tooltip=[\n",
    "        alt.Tooltip('month:T', title='Date'),\n",
    "        alt.Tooltip('total:Q', title='Count')\n",
    "    ]\n",
    "#     ,facet=alt.Facet('year(arrest_date):O', title='')\n",
    ").properties(width=600, height=180,columns=1)\n",
    "\n",
    "heatmap.configure_legend(\n",
    "    orient='top',\n",
    "    padding=10\n",
    ")"
   ]
  },
  {
   "cell_type": "markdown",
   "metadata": {},
   "source": [
    "#### Group all 'sit-lie' cases by charge, location, year — and count arrests"
   ]
  },
  {
   "cell_type": "code",
   "execution_count": null,
   "metadata": {},
   "outputs": [],
   "source": [
    "charges_grouped_sit_lie_all = sit_lie_all.groupby(['charge', 'charge_description', 'area_name', 'reporting_district', 'year']).agg('size').sort_values(ascending=False).reset_index()"
   ]
  },
  {
   "cell_type": "code",
   "execution_count": null,
   "metadata": {},
   "outputs": [],
   "source": [
    "charges_grouped_sit_lie_all.columns = ['charge', 'charge_description', 'area_name', 'reporting_district', 'year','total']\n",
    "charges_grouped_sit_lie_all['reporting_district'] = charges_grouped_sit_lie_all['reporting_district'].astype(str)"
   ]
  },
  {
   "cell_type": "code",
   "execution_count": null,
   "metadata": {},
   "outputs": [],
   "source": [
    "charges_grouped_sit_lie_all.head()"
   ]
  },
  {
   "cell_type": "code",
   "execution_count": null,
   "metadata": {},
   "outputs": [],
   "source": [
    "districts_counts_years_pivot = pd.pivot_table(charges_grouped_sit_lie_all, values='total', index=['reporting_district'], columns=['year'], aggfunc=np.sum, fill_value=0).sort_values(by='2019', ascending=False).reset_index()\n",
    "\n",
    "districts_counts_years_pivot.head()"
   ]
  },
  {
   "cell_type": "markdown",
   "metadata": {
    "scrolled": true
   },
   "source": [
    "---"
   ]
  },
  {
   "cell_type": "markdown",
   "metadata": {},
   "source": [
    "## Geography"
   ]
  },
  {
   "cell_type": "markdown",
   "metadata": {},
   "source": [
    "#### Import and clean up LAPD reporting districts"
   ]
  },
  {
   "cell_type": "code",
   "execution_count": null,
   "metadata": {},
   "outputs": [],
   "source": [
    "# convert from shp to geojson\n",
    "!mapshaper '/Users/mhustiles/data/github/notebooks/arrests/input/LAPD_Reporting_Districts/*.shp'\\\n",
    "-o format=geojson\\\n",
    "'/Users/mhustiles/data/github/notebooks/arrests/output/lapd_reporting_districts.json'\n",
    "\n",
    "reporting_districts_src = gpd.read_file('/Users/mhustiles/data/github/notebooks/arrests/output/lapd_reporting_districts.json')"
   ]
  },
  {
   "cell_type": "code",
   "execution_count": null,
   "metadata": {},
   "outputs": [],
   "source": [
    "reporting_districts_src.plot()"
   ]
  },
  {
   "cell_type": "code",
   "execution_count": null,
   "metadata": {},
   "outputs": [],
   "source": [
    "reporting_districts_src.columns = reporting_districts_src.columns.str.strip().str.lower().str.replace(' ', '_').str.replace('(', '').str.replace(')', '')\n",
    "\n",
    "reporting_districts_src = reporting_districts_src.rename(columns={\"repdist\": \"reporting_district\"})"
   ]
  },
  {
   "cell_type": "code",
   "execution_count": null,
   "metadata": {},
   "outputs": [],
   "source": [
    "districts = reporting_districts_src[['reporting_district', 'aprec', 'area', 'geometry']]"
   ]
  },
  {
   "cell_type": "code",
   "execution_count": null,
   "metadata": {},
   "outputs": [],
   "source": [
    "districts['reporting_district'] = districts['reporting_district'].astype(str)"
   ]
  },
  {
   "cell_type": "markdown",
   "metadata": {},
   "source": [
    "---"
   ]
  },
  {
   "cell_type": "markdown",
   "metadata": {},
   "source": [
    "#### Import and clean up LAPD divisions"
   ]
  },
  {
   "cell_type": "code",
   "execution_count": null,
   "metadata": {},
   "outputs": [],
   "source": [
    "# convert from shp to geojson\n",
    "!mapshaper '/Users/mhustiles/data/github/notebooks/arrests/input/LAPD_Divisions/LAPD_Divisions.shp'\\\n",
    "-o format=geojson\\\n",
    "'/Users/mhustiles/data/github/notebooks/arrests/output/lapd_divisions.json'\n",
    "\n",
    "divisions_src = gpd.read_file('/Users/mhustiles/data/github/notebooks/arrests/output/lapd_divisions.json')"
   ]
  },
  {
   "cell_type": "code",
   "execution_count": null,
   "metadata": {},
   "outputs": [],
   "source": [
    "divisions_src.plot()"
   ]
  },
  {
   "cell_type": "code",
   "execution_count": null,
   "metadata": {},
   "outputs": [],
   "source": [
    "divisions_src.columns = divisions_src.columns.str.strip().str.lower().str.replace(' ', '_').str.replace('(', '').str.replace(')', '')"
   ]
  },
  {
   "cell_type": "code",
   "execution_count": null,
   "metadata": {},
   "outputs": [],
   "source": [
    "divisions = divisions_src[['aprec', 'prec', 'area', 'geometry']]"
   ]
  },
  {
   "cell_type": "markdown",
   "metadata": {},
   "source": [
    "#### Import LA Times neighborhoods"
   ]
  },
  {
   "cell_type": "code",
   "execution_count": null,
   "metadata": {},
   "outputs": [],
   "source": [
    "hoodssrc = gpd.read_file('/Users/mhustiles/data/github/notebooks/arrests/input/custom-la-hoods-skid-row.geojson')"
   ]
  },
  {
   "cell_type": "code",
   "execution_count": null,
   "metadata": {},
   "outputs": [],
   "source": [
    "hoodssrc.columns = hoodssrc.columns.str.strip().str.lower().str.replace(' ', '_').str.replace('(', '').str.replace(')', '')\n",
    "hoodssrc.plot()"
   ]
  },
  {
   "cell_type": "markdown",
   "metadata": {},
   "source": [
    "#### Trim the dataframe"
   ]
  },
  {
   "cell_type": "code",
   "execution_count": null,
   "metadata": {},
   "outputs": [],
   "source": [
    "hoods = hoodssrc[['name', 'geometry']]"
   ]
  },
  {
   "cell_type": "code",
   "execution_count": null,
   "metadata": {},
   "outputs": [],
   "source": [
    "hoods.head()"
   ]
  },
  {
   "cell_type": "markdown",
   "metadata": {},
   "source": [
    "---"
   ]
  },
  {
   "cell_type": "markdown",
   "metadata": {},
   "source": [
    "## Merge 'sit-lie' arrests data with geography"
   ]
  },
  {
   "cell_type": "markdown",
   "metadata": {},
   "source": [
    "#### Relate all 'sit-lie' arrests to LA Times neighborhoods"
   ]
  },
  {
   "cell_type": "code",
   "execution_count": null,
   "metadata": {},
   "outputs": [],
   "source": [
    "sit_lie_all_gdf = gpd.GeoDataFrame(sit_lie_all, geometry=gpd.points_from_xy(sit_lie_all.longitude, sit_lie_all.latitude))"
   ]
  },
  {
   "cell_type": "code",
   "execution_count": null,
   "metadata": {},
   "outputs": [],
   "source": [
    "sit_lie_all_gdf.crs = {'init': \"epsg:4326\"}"
   ]
  },
  {
   "cell_type": "code",
   "execution_count": null,
   "metadata": {},
   "outputs": [],
   "source": [
    "sit_lie_all_hoods = gpd.sjoin(sit_lie_all_gdf, hoods, op='within', how=\"inner\")"
   ]
  },
  {
   "cell_type": "markdown",
   "metadata": {},
   "source": [
    "#### 'Busy' neighborhoods: Skid Row, elsewhere Downtown, Venice, Hollywood"
   ]
  },
  {
   "cell_type": "code",
   "execution_count": null,
   "metadata": {},
   "outputs": [],
   "source": [
    "busy_hoods = ['Skid Row', 'Downtown', 'Venice', 'Hollywood']"
   ]
  },
  {
   "cell_type": "code",
   "execution_count": null,
   "metadata": {},
   "outputs": [],
   "source": [
    "sit_lie_all_hoods['busy'] = sit_lie_all_hoods['name'].isin(busy_hoods)"
   ]
  },
  {
   "cell_type": "code",
   "execution_count": null,
   "metadata": {},
   "outputs": [],
   "source": [
    "sit_lie_all_hoods.iloc[10]"
   ]
  },
  {
   "cell_type": "code",
   "execution_count": null,
   "metadata": {},
   "outputs": [],
   "source": [
    "sit_lie_all_hoods_slim = sit_lie_all_hoods[['report_id','arrest_date','time','area_id','area_name','reporting_district','age','sex_code','descent_code','charge_group_code','charge_group_description','arrest_type_code','charge','charge_description','year','month','weekday','name', 'busy']]"
   ]
  },
  {
   "cell_type": "code",
   "execution_count": null,
   "metadata": {},
   "outputs": [],
   "source": [
    "sit_lie_all_hoods_slim.head()\n",
    "len(sit_lie_all_hoods_slim)"
   ]
  },
  {
   "cell_type": "markdown",
   "metadata": {},
   "source": [
    "#### Totals by neighborhood"
   ]
  },
  {
   "cell_type": "code",
   "execution_count": null,
   "metadata": {},
   "outputs": [],
   "source": [
    "hood_counts = sit_lie_all_hoods_slim.groupby(['name']).agg('size').sort_values(ascending=False).reset_index(name='total')"
   ]
  },
  {
   "cell_type": "code",
   "execution_count": null,
   "metadata": {},
   "outputs": [],
   "source": [
    "#Large neighborhoods\n",
    "hood_counts_busy = hood_counts[hood_counts['total'] > 200 ].sort_values(by='total', ascending=False)"
   ]
  },
  {
   "cell_type": "code",
   "execution_count": null,
   "metadata": {},
   "outputs": [],
   "source": [
    "hood_counts['total'].sum()"
   ]
  },
  {
   "cell_type": "code",
   "execution_count": null,
   "metadata": {},
   "outputs": [],
   "source": [
    "hood_counts['share'] = ((hood_counts['total'] / hood_counts['total'].sum())*100).round()\n",
    "hood_counts.head()"
   ]
  },
  {
   "cell_type": "code",
   "execution_count": null,
   "metadata": {},
   "outputs": [],
   "source": [
    "bars = alt.Chart(hood_counts_busy).mark_bar().encode(\n",
    "    x=alt.X('total:Q', title=\"Arrests\", axis=alt.Axis(format='', tickCount=6)), \n",
    "    y=alt.Y(\n",
    "        'name:N',\n",
    "        sort=alt.EncodingSortField(\n",
    "            field=\"total\",  # The field to use for the sort\n",
    "            order=\"descending\"  # The order to sort in\n",
    "        )\n",
    "    )\n",
    ")\n",
    "text = bars.mark_text(\n",
    "    align='left',\n",
    "    baseline='middle',\n",
    "    dx=3  # Nudges text to right so it doesn't appear on top of the bar\n",
    ").encode(\n",
    "    text='total:Q'\n",
    ")\n",
    "(bars + text).properties(height=500, width=400)"
   ]
  },
  {
   "cell_type": "code",
   "execution_count": null,
   "metadata": {},
   "outputs": [],
   "source": [
    "hood_counts_years = sit_lie_all_hoods_slim.groupby(['name', 'year', 'busy']).agg('size').sort_values(ascending=False).reset_index(name='total')"
   ]
  },
  {
   "cell_type": "code",
   "execution_count": null,
   "metadata": {},
   "outputs": [],
   "source": [
    "hood_counts_years.head()"
   ]
  },
  {
   "cell_type": "markdown",
   "metadata": {},
   "source": [
    "#### What's the share of the arrests in the 'busy' neighborhoods: Skid row, elsewhere Downtown, Venice, Hollywood?"
   ]
  },
  {
   "cell_type": "code",
   "execution_count": null,
   "metadata": {},
   "outputs": [],
   "source": [
    "hood_counts_years_grouped = sit_lie_all_hoods_slim.groupby(['year', 'busy']).agg('size').sort_values(ascending=False).reset_index(name='total')"
   ]
  },
  {
   "cell_type": "code",
   "execution_count": null,
   "metadata": {},
   "outputs": [],
   "source": [
    "alt.Chart(hood_counts_years_grouped).mark_bar().encode(\n",
    "    x=alt.X('total', axis=alt.Axis(tickCount=6)),\n",
    "    y='year',\n",
    "    color='busy'\n",
    ")"
   ]
  },
  {
   "cell_type": "markdown",
   "metadata": {},
   "source": [
    "#### Pivot on year and neighborhood"
   ]
  },
  {
   "cell_type": "code",
   "execution_count": null,
   "metadata": {},
   "outputs": [],
   "source": [
    "hood_counts_years_pivot = pd.pivot_table(hood_counts_years, values='total', index=['name'], columns=['year'], aggfunc=np.sum, fill_value=0).sort_values(by='2019', ascending=False).reset_index()\n",
    "hood_counts_years_pivot.head(10)"
   ]
  },
  {
   "cell_type": "markdown",
   "metadata": {},
   "source": [
    "#### Filter neighborhoods to the busiest: Skid Row, elsewhere downtown, Hollywood and Venice"
   ]
  },
  {
   "cell_type": "code",
   "execution_count": null,
   "metadata": {},
   "outputs": [],
   "source": [
    "hood_counts_years_busy = hood_counts_years[hood_counts_years['busy'] == True]"
   ]
  },
  {
   "cell_type": "code",
   "execution_count": null,
   "metadata": {},
   "outputs": [],
   "source": [
    "hood_counts_years_busy.head()"
   ]
  },
  {
   "cell_type": "markdown",
   "metadata": {},
   "source": [
    "#### Arrests by year in Downtown, Hollywood and Venice"
   ]
  },
  {
   "cell_type": "code",
   "execution_count": null,
   "metadata": {},
   "outputs": [],
   "source": [
    "alt.Chart(hood_counts_years_busy).mark_bar().encode(\n",
    "    y=alt.Y('total:Q', title=\"Arrests\", axis=alt.Axis(format='', tickCount=6),\n",
    "        sort=alt.EncodingSortField(\n",
    "            field=\"year\",  # The field to use for the sort\n",
    "            order=\"ascending\"  # The order to sort in\n",
    "        )), \n",
    "    x=alt.X(\n",
    "        'year:N', axis=alt.Axis(format='', title='Year')\n",
    "    ),\n",
    "    facet='name:O').properties(\n",
    "    columns=2,\n",
    "    width=350,\n",
    "    height=250\n",
    ")"
   ]
  },
  {
   "cell_type": "markdown",
   "metadata": {},
   "source": [
    "---"
   ]
  },
  {
   "cell_type": "markdown",
   "metadata": {},
   "source": [
    "#### Merge districts with pivoted arrest totals"
   ]
  },
  {
   "cell_type": "code",
   "execution_count": null,
   "metadata": {},
   "outputs": [],
   "source": [
    "districts_counts_years_pivot_geo = districts.merge(districts_counts_years_pivot, on='reporting_district').sort_values(by='2019', ascending=False)"
   ]
  },
  {
   "cell_type": "code",
   "execution_count": null,
   "metadata": {},
   "outputs": [],
   "source": [
    "districts_counts_years_pivot_geo.head()"
   ]
  },
  {
   "cell_type": "code",
   "execution_count": null,
   "metadata": {},
   "outputs": [],
   "source": [
    "districts_sit_lie_grouped_geo = districts.merge(charges_grouped_sit_lie_all, on='reporting_district').sort_values(by='year', ascending=False)"
   ]
  },
  {
   "cell_type": "code",
   "execution_count": null,
   "metadata": {},
   "outputs": [],
   "source": [
    "districts_sit_lie_grouped_geo.head()"
   ]
  },
  {
   "cell_type": "markdown",
   "metadata": {},
   "source": [
    "#### Export to GeoJSON"
   ]
  },
  {
   "cell_type": "code",
   "execution_count": null,
   "metadata": {},
   "outputs": [],
   "source": [
    "districts_counts_years_pivot_geo.to_file('/Users/mhustiles/data/github/notebooks/arrests/output/districts_counts_years_pivot_geo.json', driver='GeoJSON')"
   ]
  },
  {
   "cell_type": "markdown",
   "metadata": {},
   "source": [
    "---"
   ]
  },
  {
   "cell_type": "markdown",
   "metadata": {},
   "source": [
    "## Mapping"
   ]
  },
  {
   "cell_type": "code",
   "execution_count": null,
   "metadata": {},
   "outputs": [],
   "source": [
    "breaks = jenkspy.jenks_breaks(list(districts_sit_lie_grouped_geo.total), nb_class=5)\n",
    "breaks"
   ]
  },
  {
   "cell_type": "code",
   "execution_count": null,
   "metadata": {},
   "outputs": [],
   "source": [
    "def get_group(value):\n",
    "    for i, b in enumerate(breaks):\n",
    "        if value <= breaks[i+1]:\n",
    "            return i"
   ]
  },
  {
   "cell_type": "code",
   "execution_count": null,
   "metadata": {},
   "outputs": [],
   "source": [
    "districts_sit_lie_grouped_geo['arrest_group'] = districts_sit_lie_grouped_geo.total.apply(get_group)"
   ]
  },
  {
   "cell_type": "code",
   "execution_count": null,
   "metadata": {},
   "outputs": [],
   "source": [
    "districts_sit_lie_grouped_geo.to_file('/Users/mhustiles/data/github/notebooks/arrests/output/districts_sit_lie_grouped_geo.json', driver='GeoJSON')"
   ]
  },
  {
   "cell_type": "code",
   "execution_count": null,
   "metadata": {},
   "outputs": [],
   "source": [
    "districts_sit_lie_grouped_geo.head()"
   ]
  },
  {
   "cell_type": "code",
   "execution_count": null,
   "metadata": {},
   "outputs": [],
   "source": [
    "sit_lie_geojson = json.loads(districts_sit_lie_grouped_geo.to_json())\n",
    "sit_lie_features = alt.Data(values=sit_lie_geojson['features'])"
   ]
  },
  {
   "cell_type": "code",
   "execution_count": null,
   "metadata": {},
   "outputs": [],
   "source": [
    "districts_geojson = json.loads(districts.to_json())\n",
    "districts_features = alt.Data(values=districts_geojson['features'])"
   ]
  },
  {
   "cell_type": "code",
   "execution_count": null,
   "metadata": {},
   "outputs": [],
   "source": [
    "hoods_geojson = json.loads(hoods.to_json())\n",
    "hoods_features = alt.Data(values=hoods_geojson['features'])"
   ]
  },
  {
   "cell_type": "code",
   "execution_count": null,
   "metadata": {},
   "outputs": [],
   "source": [
    "districts_geojson_pivot = json.loads(districts_counts_years_pivot_geo.to_json())\n",
    "districts_geojson_pivot_features = alt.Data(values=districts_geojson_pivot['features'])"
   ]
  },
  {
   "cell_type": "code",
   "execution_count": null,
   "metadata": {
    "scrolled": true
   },
   "outputs": [],
   "source": [
    "basemap = alt.Chart(districts_features).mark_geoshape(\n",
    "    fill='lightgray',\n",
    "    stroke=''\n",
    ").project('mercator')\n",
    "\n",
    "groups = alt.Chart(sit_lie_features).mark_geoshape(\n",
    "    stroke='white'\n",
    ").encode(\n",
    "    color='properties.arrest_group:Q'\n",
    ").transform_filter(\n",
    "    alt.FieldEqualPredicate(field='properties.year', equal='2016')\n",
    ")\n",
    "\n",
    "hoodsmaps = alt.Chart(hoods_features).mark_geoshape(\n",
    "    fill='',\n",
    "    stroke='#999999',\n",
    "    strokeWidth=.2\n",
    ")\n",
    "\n",
    "(basemap+groups+hoodsmaps).properties(\n",
    "    width=600,\n",
    "    height=600\n",
    ")"
   ]
  },
  {
   "cell_type": "code",
   "execution_count": null,
   "metadata": {},
   "outputs": [],
   "source": [
    "variable_list = ['properties.2010','properties.2011','properties.2012','properties.2013','properties.2014','properties.2015','properties.2016','properties.2017','properties.2018','properties.2019']"
   ]
  },
  {
   "cell_type": "code",
   "execution_count": null,
   "metadata": {},
   "outputs": [],
   "source": [
    "alt.Chart(districts_features).mark_geoshape().encode(\n",
    "    alt.Color(alt.repeat('row'), type='quantitative')\n",
    ").transform_lookup(\n",
    "    lookup='properties.reporting_district',\n",
    "    from_=alt.LookupData(districts_geojson_pivot_features, 'properties.reporting_district', variable_list)\n",
    ").properties(\n",
    "    width=500,\n",
    "    height=500\n",
    ").repeat(\n",
    "    row=variable_list\n",
    ").resolve_scale(\n",
    "    color='shared'\n",
    ")"
   ]
  },
  {
   "cell_type": "markdown",
   "metadata": {},
   "source": [
    "#### Group all 'sit-lie' cases by place and time"
   ]
  },
  {
   "cell_type": "code",
   "execution_count": null,
   "metadata": {},
   "outputs": [],
   "source": [
    "time_sit_lie_hoods = sit_lie_all_hoods.groupby(['name', 'year', 'hour', 'night']).agg('size').sort_values(ascending=False).reset_index()"
   ]
  },
  {
   "cell_type": "code",
   "execution_count": null,
   "metadata": {},
   "outputs": [],
   "source": [
    "time_sit_lie_hoods.columns = ['name', 'year','hour', 'night', 'total']"
   ]
  },
  {
   "cell_type": "code",
   "execution_count": null,
   "metadata": {
    "scrolled": true
   },
   "outputs": [],
   "source": [
    "time_sit_lie_hoods.head()"
   ]
  },
  {
   "cell_type": "code",
   "execution_count": null,
   "metadata": {},
   "outputs": [],
   "source": [
    "time_sit_lie_hoods_busy = time_sit_lie_hoods[time_sit_lie_hoods['name'].isin(busy_hoods)]"
   ]
  },
  {
   "cell_type": "code",
   "execution_count": null,
   "metadata": {},
   "outputs": [],
   "source": [
    "alt.Chart(time_sit_lie_hoods).mark_bar().encode(\n",
    "    x='hour:O',\n",
    "    y=\"total:Q\",\n",
    "    color=alt.condition(\n",
    "        alt.datum.night == True,\n",
    "        alt.value('orange'), \n",
    "        alt.value('#82c6df')\n",
    "    )\n",
    ").properties(\n",
    "    title='\\'Sit-lie\\' arrests in all neighborhoods, by hour',\n",
    "    columns=2,\n",
    "    width=320,\n",
    "    height=300\n",
    ")"
   ]
  },
  {
   "cell_type": "code",
   "execution_count": null,
   "metadata": {},
   "outputs": [],
   "source": [
    "alt.Chart(time_sit_lie_hoods_busy).mark_bar().encode(\n",
    "    x='hour:O',\n",
    "    y=\"total:Q\",\n",
    "    color=alt.condition(\n",
    "        alt.datum.hour == '06',\n",
    "        alt.value('orange'), \n",
    "        alt.value('#82c6df')\n",
    "    ),\n",
    "    facet='name:O'\n",
    ").properties(\n",
    "    title='Arrests by hour and busy neighborhood w/ 6-7a.m. highlighted',\n",
    "    columns=2,\n",
    "    width=320,\n",
    "    height=200\n",
    ")"
   ]
  },
  {
   "cell_type": "markdown",
   "metadata": {},
   "source": [
    "#### How many 'sit-lit' arrests happen between 9-6 a.m.?"
   ]
  },
  {
   "cell_type": "code",
   "execution_count": null,
   "metadata": {},
   "outputs": [],
   "source": [
    "time_sit_lie_hoods_busy['night'].value_counts('normalize').round(2)"
   ]
  },
  {
   "cell_type": "code",
   "execution_count": null,
   "metadata": {},
   "outputs": [],
   "source": [
    "time_sit_lie_hoods_busy_grouped = time_sit_lie_hoods_busy.groupby(['year', 'night']).agg('size').sort_values(ascending=False).reset_index(name='total')"
   ]
  },
  {
   "cell_type": "code",
   "execution_count": null,
   "metadata": {},
   "outputs": [],
   "source": [
    "time_sit_lie_hoods_busy_grouped.head()"
   ]
  },
  {
   "cell_type": "code",
   "execution_count": null,
   "metadata": {},
   "outputs": [],
   "source": [
    "alt.Chart(time_sit_lie_hoods_busy_grouped).mark_bar().encode(\n",
    "    x=alt.X('total:Q', stack=\"normalize\", axis=alt.Axis(format='%',tickCount=6)),\n",
    "    y='year:N',\n",
    "    color='night'\n",
    ")"
   ]
  },
  {
   "cell_type": "markdown",
   "metadata": {},
   "source": [
    "#### What is the average number of arrests per month — and how has that changed over the years? "
   ]
  },
  {
   "cell_type": "code",
   "execution_count": null,
   "metadata": {},
   "outputs": [],
   "source": [
    "sit_lie_all_hoods.columns"
   ]
  },
  {
   "cell_type": "markdown",
   "metadata": {},
   "source": [
    "#### Groupby neighborhood and dates — all hoods"
   ]
  },
  {
   "cell_type": "code",
   "execution_count": null,
   "metadata": {},
   "outputs": [],
   "source": [
    "months_grouped = sit_lie_all_hoods.groupby(['name', 'monthname', 'year', 'busy']).agg('size').sort_values(ascending=False).reset_index(name='total')"
   ]
  },
  {
   "cell_type": "markdown",
   "metadata": {},
   "source": [
    "#### Groupby neighborhood and dates — busy hoods"
   ]
  },
  {
   "cell_type": "code",
   "execution_count": null,
   "metadata": {},
   "outputs": [],
   "source": [
    "months_grouped_busy = sit_lie_all_hoods[sit_lie_all_hoods['busy'] == True].groupby(['name', 'monthname']).agg('size').sort_values(ascending=False).reset_index(name='total')"
   ]
  },
  {
   "cell_type": "code",
   "execution_count": null,
   "metadata": {},
   "outputs": [],
   "source": [
    "alt.Chart(months_grouped_busy).mark_bar().encode(\n",
    "    x=alt.X('monthname:O', sort=['January','February','March','April','May','June','July','August','September','October','November','December']),\n",
    "    y=\"total:Q\",\n",
    "    color=alt.condition(\n",
    "        alt.datum.hour == '06',\n",
    "        alt.value('orange'), \n",
    "        alt.value('#82c6df')\n",
    "    ),\n",
    "    facet='name:O'\n",
    ").properties(\n",
    "    title='A decade of arrests by month and busy neighborhood',\n",
    "    columns=2,\n",
    "    width=320,\n",
    "    height=200\n",
    ")"
   ]
  },
  {
   "cell_type": "markdown",
   "metadata": {},
   "source": [
    "#### What's going on in Skid Row?"
   ]
  },
  {
   "cell_type": "code",
   "execution_count": null,
   "metadata": {},
   "outputs": [],
   "source": [
    "skidrow_months_grouped_busy = sit_lie_all_hoods[sit_lie_all_hoods['name'] == 'Skid Row'].groupby(['name', 'year','monthname']).agg('size').sort_values(ascending=False).reset_index(name='total')"
   ]
  },
  {
   "cell_type": "code",
   "execution_count": null,
   "metadata": {},
   "outputs": [],
   "source": [
    "alt.Chart(skidrow_months_grouped_busy).mark_bar().encode(\n",
    "    x=alt.X('monthname:O', sort=['January','February','March','April','May','June','July','August','September','October','November','December']),\n",
    "    y=\"total:Q\",\n",
    "    color=alt.condition(\n",
    "        alt.datum.hour == '06',\n",
    "        alt.value('orange'), \n",
    "        alt.value('#82c6df')\n",
    "    ),\n",
    "    facet='year:O'\n",
    ").properties(\n",
    "    title='Monthly arrests in skid row by year',\n",
    "    columns=5,\n",
    "    width=150,\n",
    "    height=200\n",
    ")"
   ]
  },
  {
   "cell_type": "markdown",
   "metadata": {},
   "source": [
    "#### Arrests by day"
   ]
  },
  {
   "cell_type": "code",
   "execution_count": null,
   "metadata": {},
   "outputs": [],
   "source": [
    "arrest_dates = arrests.groupby(['arrest_date', 'year', 'weekday']).agg('size').reset_index(name='total')"
   ]
  },
  {
   "cell_type": "code",
   "execution_count": null,
   "metadata": {},
   "outputs": [],
   "source": [
    "alt.Chart(arrest_dates).mark_bar().encode(\n",
    "    x=alt.X('arrest_date:T', axis=alt.Axis(format='%Y', title='', tickCount = 10)),\n",
    "    y=alt.X('total:Q', axis=alt.Axis(format='', title='', tickCount = 10)),\n",
    "    # The highlight will be set on the result of a conditional statement\n",
    "    color=alt.condition(\n",
    "        alt.datum.arrest_date == '2018-09-04',  # If the year is 1810 this test returns True,\n",
    "        alt.value('#000000'),     # which sets the bar orange.\n",
    "        alt.value('skyblue')   # And if it's not true it sets the bar steelblue.\n",
    "    )\n",
    ").properties(title='Sit-lie arrests by day', width=800)\n"
   ]
  },
  {
   "cell_type": "code",
   "execution_count": null,
   "metadata": {},
   "outputs": [],
   "source": [
    "alt.Chart(arrest_dates).mark_bar().encode(\n",
    "    x=alt.X('weekday:O', axis=alt.Axis(title='', tickCount = 10), \n",
    "            sort=['Monday','Tuesday','Wednesday','Thursday','Friday','Saturday','Sunday']),\n",
    "    y=alt.X('total:Q', axis=alt.Axis(title='', tickCount = 10)\n",
    "),\n",
    "    facet='year:O'\n",
    ").properties(\n",
    "    title='Arrests by day of the week and year',\n",
    "    columns=2,\n",
    "    width=300,\n",
    "    height=200\n",
    ")"
   ]
  },
  {
   "cell_type": "markdown",
   "metadata": {},
   "source": [
    "---"
   ]
  },
  {
   "cell_type": "markdown",
   "metadata": {},
   "source": [
    "## Homeless population estimates by LA Times neighborhoods"
   ]
  },
  {
   "cell_type": "code",
   "execution_count": null,
   "metadata": {},
   "outputs": [],
   "source": [
    "homelessbyhood = pd.read_csv('input/homeless-unsheltered-by-hood.csv')"
   ]
  },
  {
   "cell_type": "code",
   "execution_count": null,
   "metadata": {
    "scrolled": false
   },
   "outputs": [],
   "source": [
    "homelessbyhood"
   ]
  },
  {
   "cell_type": "markdown",
   "metadata": {},
   "source": [
    "#### Merge with previously pivoted arrests data with hoods spatial data — then merge population counts"
   ]
  },
  {
   "cell_type": "code",
   "execution_count": null,
   "metadata": {},
   "outputs": [],
   "source": [
    "hood_counts_years"
   ]
  },
  {
   "cell_type": "code",
   "execution_count": null,
   "metadata": {},
   "outputs": [],
   "source": [
    "hoods_counts_years_pivot_geo = hoods.merge(hood_counts_years_pivot, on='name').sort_values(by='2019', ascending=False)"
   ]
  },
  {
   "cell_type": "code",
   "execution_count": null,
   "metadata": {},
   "outputs": [],
   "source": [
    "hoods_homeless_counts_years_pivot_geo = hoods_counts_years_pivot_geo.merge(homelessbyhood, on='name').sort_values(by='2019', ascending=False)"
   ]
  },
  {
   "cell_type": "code",
   "execution_count": null,
   "metadata": {},
   "outputs": [],
   "source": [
    "hoods_homeless_counts_years_pivot_geo.head()"
   ]
  },
  {
   "cell_type": "markdown",
   "metadata": {},
   "source": [
    "#### Loop and create rate columns for each year"
   ]
  },
  {
   "cell_type": "code",
   "execution_count": null,
   "metadata": {},
   "outputs": [],
   "source": [
    "# hoods_homeless_counts_years_pivot_geo['2017-rate'] = (hoods_homeless_counts_years_pivot_geo['2017']/hoods_homeless_counts_years_pivot_geo['unsheltered'])*100\n",
    "\n",
    "for n in range(2010, 2020):\n",
    "    hoods_homeless_counts_years_pivot_geo[f'{n}_rate'] =(hoods_homeless_counts_years_pivot_geo[f'{n}']/hoods_homeless_counts_years_pivot_geo['unsheltered'])*100\n"
   ]
  },
  {
   "cell_type": "code",
   "execution_count": null,
   "metadata": {},
   "outputs": [],
   "source": [
    "hoods_homeless_counts_years_pivot_geo.head()"
   ]
  },
  {
   "cell_type": "markdown",
   "metadata": {},
   "source": [
    "#### Export GeoJSON"
   ]
  },
  {
   "cell_type": "code",
   "execution_count": null,
   "metadata": {},
   "outputs": [],
   "source": [
    "hoods_homeless_counts_years_pivot_geo.to_file('/Users/mhustiles/data/github/notebooks/arrests/output/hoods_homeless_counts_years_pivot_geo.json', driver='GeoJSON')"
   ]
  },
  {
   "cell_type": "code",
   "execution_count": null,
   "metadata": {},
   "outputs": [],
   "source": [
    "hoods_homeless_counts_years_pivot_geo.to_csv('/Users/mhustiles/data/github/notebooks/arrests/output/hoods_homeless_counts_years_pivot_geo.csv')"
   ]
  },
  {
   "cell_type": "code",
   "execution_count": null,
   "metadata": {},
   "outputs": [],
   "source": [
    "hood_counts_years_pivot = pd.pivot_table(hood_counts_years, values='total', index=['name'], columns=['year'], aggfunc=np.sum, fill_value=0).sort_values(by='2019', ascending=False).reset_index()\n"
   ]
  }
 ],
 "metadata": {
  "celltoolbar": "Raw Cell Format",
  "kernelspec": {
   "display_name": "Python",
   "language": "python",
   "name": "python3"
  },
  "language_info": {
   "codemirror_mode": {
    "name": "ipython",
    "version": 3
   },
   "file_extension": ".py",
   "mimetype": "text/x-python",
   "name": "python",
   "nbconvert_exporter": "python",
   "pygments_lexer": "ipython3",
   "version": "3.7.4"
  }
 },
 "nbformat": 4,
 "nbformat_minor": 2
}
