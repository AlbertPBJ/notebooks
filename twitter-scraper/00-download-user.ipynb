{
 "cells": [
  {
   "cell_type": "markdown",
   "id": "tribal-earthquake",
   "metadata": {},
   "source": [
    "# Scraping Twitter user data with snscrape"
   ]
  },
  {
   "cell_type": "markdown",
   "id": "dress-spiritual",
   "metadata": {},
   "source": [
    "### Import Python tools"
   ]
  },
  {
   "cell_type": "code",
   "execution_count": 1,
   "id": "modern-affiliation",
   "metadata": {},
   "outputs": [],
   "source": [
    "%load_ext lab_black"
   ]
  },
  {
   "cell_type": "code",
   "execution_count": 2,
   "id": "divine-roman",
   "metadata": {},
   "outputs": [],
   "source": [
    "import pandas as pd\n",
    "import geopandas as gpd\n",
    "import jenkspy\n",
    "import matplotlib.pyplot as plt\n",
    "import requests\n",
    "from bs4 import BeautifulSoup"
   ]
  },
  {
   "cell_type": "code",
   "execution_count": 3,
   "id": "retired-cable",
   "metadata": {},
   "outputs": [],
   "source": [
    "%matplotlib inline\n",
    "import json\n",
    "import numpy as np\n",
    "import altair as alt\n",
    "import altair_latimes as lat"
   ]
  },
  {
   "cell_type": "code",
   "execution_count": 4,
   "id": "minute-familiar",
   "metadata": {},
   "outputs": [
    {
     "data": {
      "text/plain": [
       "ThemeRegistry.enable('latimes')"
      ]
     },
     "execution_count": 4,
     "metadata": {},
     "output_type": "execute_result"
    }
   ],
   "source": [
    "alt.themes.register(\"latimes\", lat.theme)\n",
    "alt.themes.enable(\"latimes\")"
   ]
  },
  {
   "cell_type": "code",
   "execution_count": 5,
   "id": "australian-element",
   "metadata": {},
   "outputs": [],
   "source": [
    "pd.options.display.max_columns = 100\n",
    "pd.options.display.max_rows = 1000\n",
    "alt.data_transformers.disable_max_rows()\n",
    "pd.set_option(\"display.max_colwidth\", None)"
   ]
  },
  {
   "cell_type": "code",
   "execution_count": 5,
   "id": "technical-island",
   "metadata": {},
   "outputs": [],
   "source": [
    "# https://medium.com/better-programming/how-to-scrape-tweets-with-snscrape-90124ed006af"
   ]
  },
  {
   "cell_type": "code",
   "execution_count": 22,
   "id": "polyphonic-albany",
   "metadata": {},
   "outputs": [],
   "source": [
    "# https://github.com/JustAnotherArchivist/snscrape"
   ]
  },
  {
   "cell_type": "markdown",
   "id": "trying-condition",
   "metadata": {},
   "source": [
    "### Use snscrape to grab a user's timeline, in this case some dude named @stiles"
   ]
  },
  {
   "cell_type": "code",
   "execution_count": 15,
   "id": "enclosed-privilege",
   "metadata": {},
   "outputs": [],
   "source": [
    "# use --progress to see results in 100 tweet intervals"
   ]
  },
  {
   "cell_type": "code",
   "execution_count": 16,
   "id": "complimentary-routine",
   "metadata": {},
   "outputs": [],
   "source": [
    "!snscrape --jsonl twitter-search \"from:stiles\" > input/stiles-tweets.json"
   ]
  },
  {
   "cell_type": "code",
   "execution_count": 17,
   "id": "gross-potato",
   "metadata": {},
   "outputs": [],
   "source": [
    "stiles = pd.read_json(\"input/stiles-tweets.json\", lines=True)"
   ]
  },
  {
   "cell_type": "code",
   "execution_count": 21,
   "id": "healthy-badge",
   "metadata": {},
   "outputs": [
    {
     "data": {
      "text/html": [
       "<div>\n",
       "<style scoped>\n",
       "    .dataframe tbody tr th:only-of-type {\n",
       "        vertical-align: middle;\n",
       "    }\n",
       "\n",
       "    .dataframe tbody tr th {\n",
       "        vertical-align: top;\n",
       "    }\n",
       "\n",
       "    .dataframe thead th {\n",
       "        text-align: right;\n",
       "    }\n",
       "</style>\n",
       "<table border=\"1\" class=\"dataframe\">\n",
       "  <thead>\n",
       "    <tr style=\"text-align: right;\">\n",
       "      <th></th>\n",
       "      <th>date</th>\n",
       "      <th>content</th>\n",
       "      <th>url</th>\n",
       "      <th>replyCount</th>\n",
       "      <th>retweetCount</th>\n",
       "      <th>likeCount</th>\n",
       "      <th>quoteCount</th>\n",
       "    </tr>\n",
       "  </thead>\n",
       "  <tbody>\n",
       "    <tr>\n",
       "      <th>0</th>\n",
       "      <td>2021-01-25 13:50:43+00:00</td>\n",
       "      <td>\"the suit represents a point-by-point rebuke of one of the more outlandish conspiracy theories surrounding last year’s election.\" https://t.co/v7RdkXc3z4</td>\n",
       "      <td>https://twitter.com/stiles/status/1353701837552148485</td>\n",
       "      <td>0</td>\n",
       "      <td>0</td>\n",
       "      <td>2</td>\n",
       "      <td>0</td>\n",
       "    </tr>\n",
       "    <tr>\n",
       "      <th>1</th>\n",
       "      <td>2021-01-25 02:16:26+00:00</td>\n",
       "      <td>@myhlee You should teach @JohnCornyn</td>\n",
       "      <td>https://twitter.com/stiles/status/1353527114754969600</td>\n",
       "      <td>0</td>\n",
       "      <td>0</td>\n",
       "      <td>0</td>\n",
       "      <td>0</td>\n",
       "    </tr>\n",
       "    <tr>\n",
       "      <th>2</th>\n",
       "      <td>2021-01-25 02:16:00+00:00</td>\n",
       "      <td>@laura_nelson Where is the spot?</td>\n",
       "      <td>https://twitter.com/stiles/status/1353527006592307200</td>\n",
       "      <td>1</td>\n",
       "      <td>0</td>\n",
       "      <td>1</td>\n",
       "      <td>0</td>\n",
       "    </tr>\n",
       "    <tr>\n",
       "      <th>3</th>\n",
       "      <td>2021-01-24 20:14:13+00:00</td>\n",
       "      <td>When the beef bourguignon pot needs wine and you realize you don't have a wine opener. https://t.co/YL5lwjaEQs</td>\n",
       "      <td>https://twitter.com/stiles/status/1353435961028317184</td>\n",
       "      <td>4</td>\n",
       "      <td>0</td>\n",
       "      <td>21</td>\n",
       "      <td>0</td>\n",
       "    </tr>\n",
       "    <tr>\n",
       "      <th>4</th>\n",
       "      <td>2021-01-24 14:02:26+00:00</td>\n",
       "      <td>good luck today, @davelevinthal https://t.co/M4QvCwYcUK</td>\n",
       "      <td>https://twitter.com/stiles/status/1353342398999322631</td>\n",
       "      <td>1</td>\n",
       "      <td>0</td>\n",
       "      <td>2</td>\n",
       "      <td>0</td>\n",
       "    </tr>\n",
       "  </tbody>\n",
       "</table>\n",
       "</div>"
      ],
      "text/plain": [
       "                       date  \\\n",
       "0 2021-01-25 13:50:43+00:00   \n",
       "1 2021-01-25 02:16:26+00:00   \n",
       "2 2021-01-25 02:16:00+00:00   \n",
       "3 2021-01-24 20:14:13+00:00   \n",
       "4 2021-01-24 14:02:26+00:00   \n",
       "\n",
       "                                                                                                                                                     content  \\\n",
       "0  \"the suit represents a point-by-point rebuke of one of the more outlandish conspiracy theories surrounding last year’s election.\" https://t.co/v7RdkXc3z4   \n",
       "1                                                                                                                       @myhlee You should teach @JohnCornyn   \n",
       "2                                                                                                                           @laura_nelson Where is the spot?   \n",
       "3                                             When the beef bourguignon pot needs wine and you realize you don't have a wine opener. https://t.co/YL5lwjaEQs   \n",
       "4                                                                                                    good luck today, @davelevinthal https://t.co/M4QvCwYcUK   \n",
       "\n",
       "                                                     url  replyCount  \\\n",
       "0  https://twitter.com/stiles/status/1353701837552148485           0   \n",
       "1  https://twitter.com/stiles/status/1353527114754969600           0   \n",
       "2  https://twitter.com/stiles/status/1353527006592307200           1   \n",
       "3  https://twitter.com/stiles/status/1353435961028317184           4   \n",
       "4  https://twitter.com/stiles/status/1353342398999322631           1   \n",
       "\n",
       "   retweetCount  likeCount  quoteCount  \n",
       "0             0          2           0  \n",
       "1             0          0           0  \n",
       "2             0          1           0  \n",
       "3             0         21           0  \n",
       "4             0          2           0  "
      ]
     },
     "execution_count": 21,
     "metadata": {},
     "output_type": "execute_result"
    }
   ],
   "source": [
    "stiles[\n",
    "    [\"date\", \"content\", \"url\", \"replyCount\", \"retweetCount\", \"likeCount\", \"quoteCount\"]\n",
    "].head()"
   ]
  },
  {
   "cell_type": "markdown",
   "id": "polish-capture",
   "metadata": {},
   "source": [
    "---"
   ]
  },
  {
   "cell_type": "markdown",
   "id": "athletic-effectiveness",
   "metadata": {},
   "source": [
    "### Get U.S. House minority leader Kevin McCarthy's tweets"
   ]
  },
  {
   "cell_type": "code",
   "execution_count": 19,
   "id": "iraqi-lodging",
   "metadata": {},
   "outputs": [],
   "source": [
    "# !snscrape --jsonl twitter-search \"from:GOPLeader\" > input/mccarthy-tweets.json"
   ]
  },
  {
   "cell_type": "code",
   "execution_count": 20,
   "id": "greek-prophet",
   "metadata": {},
   "outputs": [],
   "source": [
    "mccarthy = pd.read_json(\"input/mccarthy-tweets.json\", lines=True)"
   ]
  },
  {
   "cell_type": "markdown",
   "id": "solved-payroll",
   "metadata": {},
   "source": [
    "### Search for a particular term"
   ]
  },
  {
   "cell_type": "code",
   "execution_count": 37,
   "id": "intellectual-scene",
   "metadata": {},
   "outputs": [
    {
     "data": {
      "text/html": [
       "<div>\n",
       "<style scoped>\n",
       "    .dataframe tbody tr th:only-of-type {\n",
       "        vertical-align: middle;\n",
       "    }\n",
       "\n",
       "    .dataframe tbody tr th {\n",
       "        vertical-align: top;\n",
       "    }\n",
       "\n",
       "    .dataframe thead th {\n",
       "        text-align: right;\n",
       "    }\n",
       "</style>\n",
       "<table border=\"1\" class=\"dataframe\">\n",
       "  <thead>\n",
       "    <tr style=\"text-align: right;\">\n",
       "      <th></th>\n",
       "      <th>date</th>\n",
       "      <th>content</th>\n",
       "      <th>url</th>\n",
       "      <th>replyCount</th>\n",
       "      <th>retweetCount</th>\n",
       "      <th>likeCount</th>\n",
       "      <th>quoteCount</th>\n",
       "    </tr>\n",
       "  </thead>\n",
       "  <tbody>\n",
       "    <tr>\n",
       "      <th>89</th>\n",
       "      <td>2020-12-09 20:27:45+00:00</td>\n",
       "      <td>YouTube is now targeting and removing videos from conservatives who expose election fraud.\\n\\nRemember how they cracked down on the Left's propaganda about Trump in 2016? No?\\n\\nApparently, speech is only \"dangerous\" if it doesn't align with Big Tech's views. https://t.co/0hWCAI2GT9</td>\n",
       "      <td>https://twitter.com/GOPLeader/status/1336769525107322884</td>\n",
       "      <td>1556</td>\n",
       "      <td>2123</td>\n",
       "      <td>6056</td>\n",
       "      <td>355</td>\n",
       "    </tr>\n",
       "    <tr>\n",
       "      <th>2078</th>\n",
       "      <td>2019-03-08 14:24:59+00:00</td>\n",
       "      <td>FACT→ #HR1 would legalize voting for convicted felons all over the country—even if they were convicted of election fraud. Does that make sense to you? Totally unconstitutional.</td>\n",
       "      <td>https://twitter.com/GOPLeader/status/1104025220699033600</td>\n",
       "      <td>155</td>\n",
       "      <td>412</td>\n",
       "      <td>866</td>\n",
       "      <td>28</td>\n",
       "    </tr>\n",
       "  </tbody>\n",
       "</table>\n",
       "</div>"
      ],
      "text/plain": [
       "                          date  \\\n",
       "89   2020-12-09 20:27:45+00:00   \n",
       "2078 2019-03-08 14:24:59+00:00   \n",
       "\n",
       "                                                                                                                                                                                                                                                                                          content  \\\n",
       "89    YouTube is now targeting and removing videos from conservatives who expose election fraud.\\n\\nRemember how they cracked down on the Left's propaganda about Trump in 2016? No?\\n\\nApparently, speech is only \"dangerous\" if it doesn't align with Big Tech's views. https://t.co/0hWCAI2GT9   \n",
       "2078                                                                                                             FACT→ #HR1 would legalize voting for convicted felons all over the country—even if they were convicted of election fraud. Does that make sense to you? Totally unconstitutional.   \n",
       "\n",
       "                                                           url  replyCount  \\\n",
       "89    https://twitter.com/GOPLeader/status/1336769525107322884        1556   \n",
       "2078  https://twitter.com/GOPLeader/status/1104025220699033600         155   \n",
       "\n",
       "      retweetCount  likeCount  quoteCount  \n",
       "89            2123       6056         355  \n",
       "2078           412        866          28  "
      ]
     },
     "execution_count": 37,
     "metadata": {},
     "output_type": "execute_result"
    }
   ],
   "source": [
    "mccarthy[mccarthy[\"content\"].str.contains(\"election fraud\")][\n",
    "    [\"date\", \"content\", \"url\", \"replyCount\", \"retweetCount\", \"likeCount\", \"quoteCount\"]\n",
    "].head()"
   ]
  },
  {
   "cell_type": "markdown",
   "id": "willing-secondary",
   "metadata": {},
   "source": [
    "---"
   ]
  }
 ],
 "metadata": {
  "kernelspec": {
   "display_name": "Python 3",
   "language": "python",
   "name": "python3"
  },
  "language_info": {
   "codemirror_mode": {
    "name": "ipython",
    "version": 3
   },
   "file_extension": ".py",
   "mimetype": "text/x-python",
   "name": "python",
   "nbconvert_exporter": "python",
   "pygments_lexer": "ipython3",
   "version": "3.7.4"
  }
 },
 "nbformat": 4,
 "nbformat_minor": 5
}
