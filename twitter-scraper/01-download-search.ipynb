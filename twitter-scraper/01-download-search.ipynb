{
 "cells": [
  {
   "cell_type": "markdown",
   "id": "advance-bracelet",
   "metadata": {},
   "source": [
    "# Scraping Twitter data with search terms using snscrape"
   ]
  },
  {
   "cell_type": "markdown",
   "id": "allied-knowing",
   "metadata": {},
   "source": [
    "### Import Python tools"
   ]
  },
  {
   "cell_type": "code",
   "execution_count": 1,
   "id": "little-ferry",
   "metadata": {},
   "outputs": [],
   "source": [
    "%load_ext lab_black"
   ]
  },
  {
   "cell_type": "code",
   "execution_count": 2,
   "id": "hired-sapphire",
   "metadata": {},
   "outputs": [],
   "source": [
    "import pandas as pd\n",
    "import geopandas as gpd\n",
    "import jenkspy\n",
    "import matplotlib.pyplot as plt\n",
    "import requests\n",
    "from bs4 import BeautifulSoup"
   ]
  },
  {
   "cell_type": "code",
   "execution_count": 3,
   "id": "induced-cabinet",
   "metadata": {},
   "outputs": [],
   "source": [
    "%matplotlib inline\n",
    "import json\n",
    "import numpy as np\n",
    "import altair as alt\n",
    "import altair_latimes as lat"
   ]
  },
  {
   "cell_type": "code",
   "execution_count": 4,
   "id": "victorian-aaron",
   "metadata": {},
   "outputs": [
    {
     "data": {
      "text/plain": [
       "ThemeRegistry.enable('latimes')"
      ]
     },
     "execution_count": 4,
     "metadata": {},
     "output_type": "execute_result"
    }
   ],
   "source": [
    "alt.themes.register(\"latimes\", lat.theme)\n",
    "alt.themes.enable(\"latimes\")"
   ]
  },
  {
   "cell_type": "code",
   "execution_count": 5,
   "id": "bridal-desire",
   "metadata": {},
   "outputs": [],
   "source": [
    "pd.options.display.max_columns = 100\n",
    "pd.options.display.max_rows = 1000\n",
    "alt.data_transformers.disable_max_rows()\n",
    "pd.set_option(\"display.max_colwidth\", None)"
   ]
  },
  {
   "cell_type": "code",
   "execution_count": 6,
   "id": "amateur-identity",
   "metadata": {},
   "outputs": [],
   "source": [
    "# https://medium.com/better-programming/how-to-scrape-tweets-with-snscrape-90124ed006af"
   ]
  },
  {
   "cell_type": "code",
   "execution_count": 7,
   "id": "colored-assumption",
   "metadata": {},
   "outputs": [],
   "source": [
    "# https://github.com/JustAnotherArchivist/snscrape"
   ]
  },
  {
   "cell_type": "markdown",
   "id": "acting-birth",
   "metadata": {},
   "source": [
    "### Use snscrape to grab tweets mentioning a search term, in this case \"doomscrolling\""
   ]
  },
  {
   "cell_type": "code",
   "execution_count": 8,
   "id": "married-postage",
   "metadata": {},
   "outputs": [],
   "source": [
    "# use --progress to see results in 100 tweet intervals"
   ]
  },
  {
   "cell_type": "code",
   "execution_count": 9,
   "id": "emerging-discretion",
   "metadata": {},
   "outputs": [],
   "source": [
    "# !snscrape --jsonl twitter-search \"doomscrolling until:2021-01-25 since:2020-01-01\" > input/search/doomscrolling-tweets.json"
   ]
  },
  {
   "cell_type": "code",
   "execution_count": 10,
   "id": "advanced-plenty",
   "metadata": {},
   "outputs": [],
   "source": [
    "src = pd.read_json(\"input/search/doomscrolling-tweets.json\", lines=True)"
   ]
  },
  {
   "cell_type": "markdown",
   "id": "consecutive-covering",
   "metadata": {},
   "source": [
    "### Process dates"
   ]
  },
  {
   "cell_type": "code",
   "execution_count": 11,
   "id": "established-better",
   "metadata": {},
   "outputs": [],
   "source": [
    "src[\"date\"] = pd.to_datetime(src[\"date\"], utc=True)\n",
    "src[\"pacific_created_at\"] = pd.to_datetime(src[\"date\"], utc=True).dt.tz_convert(\n",
    "    \"America/Los_Angeles\"\n",
    ")"
   ]
  },
  {
   "cell_type": "code",
   "execution_count": 12,
   "id": "stylish-aggregate",
   "metadata": {},
   "outputs": [],
   "source": [
    "src[\"date\"] = pd.to_datetime(src[\"pacific_created_at\"]).dt.strftime(\"%m/%d/%Y\")\n",
    "src[\"date\"] = pd.to_datetime(src[\"date\"])\n",
    "src[\"year\"] = src[\"pacific_created_at\"].dt.year\n",
    "src[\"month\"] = src[\"pacific_created_at\"].dt.month\n",
    "src[\"day\"] = src[\"pacific_created_at\"].dt.day\n",
    "src[\"hour\"] = src[\"pacific_created_at\"].dt.hour\n",
    "src[\"minute\"] = src[\"pacific_created_at\"].dt.minute\n",
    "src[\"time\"] = src[\"pacific_created_at\"].dt.time"
   ]
  },
  {
   "cell_type": "code",
   "execution_count": 13,
   "id": "certified-adult",
   "metadata": {},
   "outputs": [],
   "source": [
    "src[\"id\"] = src[\"id\"].astype(str)\n",
    "src[\"year\"] = src[\"year\"].astype(str)\n",
    "src[\"month\"] = src[\"month\"].astype(str)\n",
    "src[\"day\"] = src[\"day\"].astype(str)\n",
    "src[\"hour\"] = src[\"hour\"].astype(str)"
   ]
  },
  {
   "cell_type": "markdown",
   "id": "roman-faculty",
   "metadata": {},
   "source": [
    "### Make a copy of the dataframe and ensure the text of the tweet contains 'doomscrolling'"
   ]
  },
  {
   "cell_type": "code",
   "execution_count": 14,
   "id": "functional-gamma",
   "metadata": {},
   "outputs": [],
   "source": [
    "doomscrolling = src[src[\"content\"].str.contains(\"doomscrolling\")].copy()"
   ]
  },
  {
   "cell_type": "markdown",
   "id": "durable-element",
   "metadata": {},
   "source": [
    "### Unpack the nested json"
   ]
  },
  {
   "cell_type": "code",
   "execution_count": 15,
   "id": "athletic-helena",
   "metadata": {},
   "outputs": [],
   "source": [
    "data_dict = doomscrolling.to_dict(\"records\")"
   ]
  },
  {
   "cell_type": "code",
   "execution_count": 16,
   "id": "concerned-package",
   "metadata": {},
   "outputs": [],
   "source": [
    "doomscrolling[\"user_name\"] = pd.json_normalize(doomscrolling[\"user\"])[\"username\"]\n",
    "doomscrolling[\"user_displayname\"] = pd.json_normalize(doomscrolling[\"user\"])[\n",
    "    \"displayname\"\n",
    "]\n",
    "doomscrolling[\"user_verified\"] = pd.json_normalize(doomscrolling[\"user\"])[\"verified\"]\n",
    "doomscrolling[\"user_description\"] = pd.json_normalize(doomscrolling[\"user\"])[\n",
    "    \"description\"\n",
    "]\n",
    "doomscrolling[\"user_followersCount\"] = pd.json_normalize(doomscrolling[\"user\"])[\n",
    "    \"followersCount\"\n",
    "]\n",
    "doomscrolling[\"user_location\"] = pd.json_normalize(doomscrolling[\"user\"])[\"location\"]"
   ]
  },
  {
   "cell_type": "markdown",
   "id": "acknowledged-chancellor",
   "metadata": {},
   "source": [
    "### Slim down the dataframe"
   ]
  },
  {
   "cell_type": "code",
   "execution_count": 17,
   "id": "federal-yesterday",
   "metadata": {},
   "outputs": [],
   "source": [
    "doomscrolling_slim = doomscrolling[\n",
    "    [\n",
    "        \"date\",\n",
    "        \"content\",\n",
    "        \"url\",\n",
    "        \"replyCount\",\n",
    "        \"retweetCount\",\n",
    "        \"likeCount\",\n",
    "        \"quoteCount\",\n",
    "        \"user_name\",\n",
    "        \"user_displayname\",\n",
    "        \"user_verified\",\n",
    "        \"user_description\",\n",
    "        \"user_followersCount\",\n",
    "        \"user_location\",\n",
    "        \"month\",\n",
    "        \"day\",\n",
    "        \"hour\",\n",
    "        \"minute\",\n",
    "        \"time\",\n",
    "    ]\n",
    "]"
   ]
  },
  {
   "cell_type": "markdown",
   "id": "first-dictionary",
   "metadata": {},
   "source": [
    "### How many 'doomscrolling' tweets?"
   ]
  },
  {
   "cell_type": "code",
   "execution_count": 18,
   "id": "metropolitan-drama",
   "metadata": {},
   "outputs": [
    {
     "data": {
      "text/plain": [
       "74607"
      ]
     },
     "execution_count": 18,
     "metadata": {},
     "output_type": "execute_result"
    }
   ],
   "source": [
    "len(doomscrolling_slim)"
   ]
  },
  {
   "cell_type": "markdown",
   "id": "configured-validation",
   "metadata": {},
   "source": [
    "### How many by @karenkho? "
   ]
  },
  {
   "cell_type": "code",
   "execution_count": 19,
   "id": "surgical-approach",
   "metadata": {},
   "outputs": [
    {
     "data": {
      "text/plain": [
       "365"
      ]
     },
     "execution_count": 19,
     "metadata": {},
     "output_type": "execute_result"
    }
   ],
   "source": [
    "len(doomscrolling_slim[doomscrolling_slim[\"user_name\"] == \"karenkho\"])"
   ]
  },
  {
   "cell_type": "code",
   "execution_count": 20,
   "id": "mature-illinois",
   "metadata": {},
   "outputs": [
    {
     "data": {
      "text/html": [
       "<div>\n",
       "<style scoped>\n",
       "    .dataframe tbody tr th:only-of-type {\n",
       "        vertical-align: middle;\n",
       "    }\n",
       "\n",
       "    .dataframe tbody tr th {\n",
       "        vertical-align: top;\n",
       "    }\n",
       "\n",
       "    .dataframe thead th {\n",
       "        text-align: right;\n",
       "    }\n",
       "</style>\n",
       "<table border=\"1\" class=\"dataframe\">\n",
       "  <thead>\n",
       "    <tr style=\"text-align: right;\">\n",
       "      <th></th>\n",
       "      <th>date</th>\n",
       "      <th>content</th>\n",
       "      <th>url</th>\n",
       "      <th>replyCount</th>\n",
       "      <th>retweetCount</th>\n",
       "      <th>likeCount</th>\n",
       "      <th>quoteCount</th>\n",
       "      <th>user_name</th>\n",
       "      <th>user_displayname</th>\n",
       "      <th>user_verified</th>\n",
       "      <th>user_description</th>\n",
       "      <th>user_followersCount</th>\n",
       "      <th>user_location</th>\n",
       "      <th>month</th>\n",
       "      <th>day</th>\n",
       "      <th>hour</th>\n",
       "      <th>minute</th>\n",
       "      <th>time</th>\n",
       "    </tr>\n",
       "  </thead>\n",
       "  <tbody>\n",
       "    <tr>\n",
       "      <th>1</th>\n",
       "      <td>2021-01-24</td>\n",
       "      <td>Are you still doomscrolling? #DoomScrolling</td>\n",
       "      <td>https://twitter.com/Gingerbsoapbox/status/1353492225309634560</td>\n",
       "      <td>0</td>\n",
       "      <td>0</td>\n",
       "      <td>0</td>\n",
       "      <td>0</td>\n",
       "      <td>eclecticeden</td>\n",
       "      <td>Ollie King 🏳️‍🌈</td>\n",
       "      <td>False</td>\n",
       "      <td>Artisanal-coffee-shop-craft-beer-snob-cabincore bad. He/him/his.</td>\n",
       "      <td>699.0</td>\n",
       "      <td>Shoreditch, London</td>\n",
       "      <td>1</td>\n",
       "      <td>24</td>\n",
       "      <td>15</td>\n",
       "      <td>57</td>\n",
       "      <td>15:57:47</td>\n",
       "    </tr>\n",
       "    <tr>\n",
       "      <th>3</th>\n",
       "      <td>2021-01-24</td>\n",
       "      <td>Is doomswiping a thing? Like doomscrolling, only spending too much time hopelessly swiping right on people you know you're never going to match with.</td>\n",
       "      <td>https://twitter.com/eclecticeden/status/1353489590712229890</td>\n",
       "      <td>0</td>\n",
       "      <td>0</td>\n",
       "      <td>0</td>\n",
       "      <td>0</td>\n",
       "      <td>SproBeforeBros</td>\n",
       "      <td>Sprodo Baggins</td>\n",
       "      <td>False</td>\n",
       "      <td>Jackson O'Brien. Expert. Biscuit Troll. He/him.</td>\n",
       "      <td>901.0</td>\n",
       "      <td>Minneapolis, Minnesprota</td>\n",
       "      <td>1</td>\n",
       "      <td>24</td>\n",
       "      <td>15</td>\n",
       "      <td>47</td>\n",
       "      <td>15:47:19</td>\n",
       "    </tr>\n",
       "    <tr>\n",
       "      <th>4</th>\n",
       "      <td>2021-01-24</td>\n",
       "      <td>Whelp. Back to shouting about politics, posting unoriginal and mediocre jokes and doomscrolling.</td>\n",
       "      <td>https://twitter.com/CatFishJohnny/status/1353488676760727553</td>\n",
       "      <td>3</td>\n",
       "      <td>0</td>\n",
       "      <td>8</td>\n",
       "      <td>0</td>\n",
       "      <td>boldtransDev</td>\n",
       "      <td>boldtransgamedev</td>\n",
       "      <td>False</td>\n",
       "      <td>23 (she/her) Trans gal looking to do game dev awesomeness!\\nLevel Designer, Game Designer, Programmer. I love everything about the diff fields in game dev</td>\n",
       "      <td>239.0</td>\n",
       "      <td></td>\n",
       "      <td>1</td>\n",
       "      <td>24</td>\n",
       "      <td>15</td>\n",
       "      <td>43</td>\n",
       "      <td>15:43:41</td>\n",
       "    </tr>\n",
       "    <tr>\n",
       "      <th>5</th>\n",
       "      <td>2021-01-24</td>\n",
       "      <td>If you would like to interrupt your doomscrolling on Monday  evening and know a lot about dead actors you can come and play trivia with me on the internet! It's a real good time! 7:00 Central at this link: https://t.co/RQ7Mb2meTA</td>\n",
       "      <td>https://twitter.com/SproBeforeBros/status/1353487523234852864</td>\n",
       "      <td>1</td>\n",
       "      <td>0</td>\n",
       "      <td>3</td>\n",
       "      <td>0</td>\n",
       "      <td>the__archmage</td>\n",
       "      <td>ΛRCHMΛGΞ</td>\n",
       "      <td>False</td>\n",
       "      <td>Part time Streamer, full time Mage</td>\n",
       "      <td>34.0</td>\n",
       "      <td>Azeroth</td>\n",
       "      <td>1</td>\n",
       "      <td>24</td>\n",
       "      <td>15</td>\n",
       "      <td>39</td>\n",
       "      <td>15:39:06</td>\n",
       "    </tr>\n",
       "    <tr>\n",
       "      <th>6</th>\n",
       "      <td>2021-01-24</td>\n",
       "      <td>Oh its one of those days where half of game dev twitter becomes football twitter. Its the best way for me to stop doomscrolling and log off cause I can't understand any of it</td>\n",
       "      <td>https://twitter.com/boldtransDev/status/1353487111199072256</td>\n",
       "      <td>0</td>\n",
       "      <td>0</td>\n",
       "      <td>3</td>\n",
       "      <td>0</td>\n",
       "      <td>LukeDoesStuff</td>\n",
       "      <td>luke schwartz is nice now</td>\n",
       "      <td>True</td>\n",
       "      <td>for booking inquiries: yes please!!</td>\n",
       "      <td>1691.0</td>\n",
       "      <td>City of Angles</td>\n",
       "      <td>1</td>\n",
       "      <td>24</td>\n",
       "      <td>15</td>\n",
       "      <td>37</td>\n",
       "      <td>15:37:28</td>\n",
       "    </tr>\n",
       "  </tbody>\n",
       "</table>\n",
       "</div>"
      ],
      "text/plain": [
       "        date  \\\n",
       "1 2021-01-24   \n",
       "3 2021-01-24   \n",
       "4 2021-01-24   \n",
       "5 2021-01-24   \n",
       "6 2021-01-24   \n",
       "\n",
       "                                                                                                                                                                                                                                 content  \\\n",
       "1                                                                                                                                                                                            Are you still doomscrolling? #DoomScrolling   \n",
       "3                                                                                  Is doomswiping a thing? Like doomscrolling, only spending too much time hopelessly swiping right on people you know you're never going to match with.   \n",
       "4                                                                                                                                       Whelp. Back to shouting about politics, posting unoriginal and mediocre jokes and doomscrolling.   \n",
       "5  If you would like to interrupt your doomscrolling on Monday  evening and know a lot about dead actors you can come and play trivia with me on the internet! It's a real good time! 7:00 Central at this link: https://t.co/RQ7Mb2meTA   \n",
       "6                                                         Oh its one of those days where half of game dev twitter becomes football twitter. Its the best way for me to stop doomscrolling and log off cause I can't understand any of it   \n",
       "\n",
       "                                                             url  replyCount  \\\n",
       "1  https://twitter.com/Gingerbsoapbox/status/1353492225309634560           0   \n",
       "3    https://twitter.com/eclecticeden/status/1353489590712229890           0   \n",
       "4   https://twitter.com/CatFishJohnny/status/1353488676760727553           3   \n",
       "5  https://twitter.com/SproBeforeBros/status/1353487523234852864           1   \n",
       "6    https://twitter.com/boldtransDev/status/1353487111199072256           0   \n",
       "\n",
       "   retweetCount  likeCount  quoteCount       user_name  \\\n",
       "1             0          0           0    eclecticeden   \n",
       "3             0          0           0  SproBeforeBros   \n",
       "4             0          8           0    boldtransDev   \n",
       "5             0          3           0   the__archmage   \n",
       "6             0          3           0   LukeDoesStuff   \n",
       "\n",
       "            user_displayname user_verified  \\\n",
       "1            Ollie King 🏳️‍🌈         False   \n",
       "3             Sprodo Baggins         False   \n",
       "4           boldtransgamedev         False   \n",
       "5                   ΛRCHMΛGΞ         False   \n",
       "6  luke schwartz is nice now          True   \n",
       "\n",
       "                                                                                                                                             user_description  \\\n",
       "1                                                                                            Artisanal-coffee-shop-craft-beer-snob-cabincore bad. He/him/his.   \n",
       "3                                                                                                             Jackson O'Brien. Expert. Biscuit Troll. He/him.   \n",
       "4  23 (she/her) Trans gal looking to do game dev awesomeness!\\nLevel Designer, Game Designer, Programmer. I love everything about the diff fields in game dev   \n",
       "5                                                                                                                          Part time Streamer, full time Mage   \n",
       "6                                                                                                                         for booking inquiries: yes please!!   \n",
       "\n",
       "   user_followersCount             user_location month day hour  minute  \\\n",
       "1                699.0       Shoreditch, London      1  24   15      57   \n",
       "3                901.0  Minneapolis, Minnesprota     1  24   15      47   \n",
       "4                239.0                               1  24   15      43   \n",
       "5                 34.0                   Azeroth     1  24   15      39   \n",
       "6               1691.0            City of Angles     1  24   15      37   \n",
       "\n",
       "       time  \n",
       "1  15:57:47  \n",
       "3  15:47:19  \n",
       "4  15:43:41  \n",
       "5  15:39:06  \n",
       "6  15:37:28  "
      ]
     },
     "execution_count": 20,
     "metadata": {},
     "output_type": "execute_result"
    }
   ],
   "source": [
    "doomscrolling_slim.head()"
   ]
  },
  {
   "cell_type": "markdown",
   "id": "unavailable-draft",
   "metadata": {},
   "source": [
    "---"
   ]
  },
  {
   "cell_type": "markdown",
   "id": "little-pasta",
   "metadata": {},
   "source": [
    "### Export"
   ]
  },
  {
   "cell_type": "code",
   "execution_count": 21,
   "id": "tracked-termination",
   "metadata": {},
   "outputs": [],
   "source": [
    "doomscrolling_slim.to_csv(\"output/search/doomscrolling_slim.csv\", index=False)"
   ]
  }
 ],
 "metadata": {
  "kernelspec": {
   "display_name": "Python 3",
   "language": "python",
   "name": "python3"
  },
  "language_info": {
   "codemirror_mode": {
    "name": "ipython",
    "version": 3
   },
   "file_extension": ".py",
   "mimetype": "text/x-python",
   "name": "python",
   "nbconvert_exporter": "python",
   "pygments_lexer": "ipython3",
   "version": "3.7.4"
  }
 },
 "nbformat": 4,
 "nbformat_minor": 5
}
