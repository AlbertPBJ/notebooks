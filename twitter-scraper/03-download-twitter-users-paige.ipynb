{
 "cells": [
  {
   "cell_type": "markdown",
   "id": "employed-trader",
   "metadata": {},
   "source": [
    "# Scraping Twitter users' data with snscrape"
   ]
  },
  {
   "cell_type": "markdown",
   "id": "lucky-bullet",
   "metadata": {},
   "source": [
    "### Import Python tools"
   ]
  },
  {
   "cell_type": "code",
   "execution_count": 1,
   "id": "adolescent-trust",
   "metadata": {},
   "outputs": [],
   "source": [
    "%load_ext lab_black"
   ]
  },
  {
   "cell_type": "code",
   "execution_count": 2,
   "id": "automatic-transsexual",
   "metadata": {},
   "outputs": [],
   "source": [
    "import pandas as pd\n",
    "import geopandas as gpd\n",
    "import jenkspy\n",
    "import matplotlib.pyplot as plt\n",
    "import requests\n",
    "import glob\n",
    "import os\n",
    "from bs4 import BeautifulSoup"
   ]
  },
  {
   "cell_type": "code",
   "execution_count": 3,
   "id": "resident-reynolds",
   "metadata": {},
   "outputs": [],
   "source": [
    "from datetime import datetime"
   ]
  },
  {
   "cell_type": "code",
   "execution_count": 4,
   "id": "dying-distance",
   "metadata": {},
   "outputs": [],
   "source": [
    "%matplotlib inline\n",
    "import json\n",
    "import numpy as np\n",
    "import altair as alt\n",
    "import altair_latimes as lat"
   ]
  },
  {
   "cell_type": "code",
   "execution_count": 5,
   "id": "norwegian-oakland",
   "metadata": {},
   "outputs": [
    {
     "data": {
      "text/plain": [
       "ThemeRegistry.enable('latimes')"
      ]
     },
     "execution_count": 5,
     "metadata": {},
     "output_type": "execute_result"
    }
   ],
   "source": [
    "alt.themes.register(\"latimes\", lat.theme)\n",
    "alt.themes.enable(\"latimes\")"
   ]
  },
  {
   "cell_type": "code",
   "execution_count": 6,
   "id": "opposite-alignment",
   "metadata": {},
   "outputs": [],
   "source": [
    "pd.options.display.max_columns = 100\n",
    "pd.options.display.max_rows = 1000\n",
    "alt.data_transformers.disable_max_rows()\n",
    "pd.set_option(\"display.max_colwidth\", None)"
   ]
  },
  {
   "cell_type": "markdown",
   "id": "cooked-pittsburgh",
   "metadata": {},
   "source": [
    "### Get the date as a string to archving data"
   ]
  },
  {
   "cell_type": "code",
   "execution_count": 7,
   "id": "secret-advocate",
   "metadata": {},
   "outputs": [],
   "source": [
    "today = datetime.today().strftime(\"%Y-%m-%d\")"
   ]
  },
  {
   "cell_type": "code",
   "execution_count": 8,
   "id": "stone-fiction",
   "metadata": {},
   "outputs": [],
   "source": [
    "# https://medium.com/better-programming/how-to-scrape-tweets-with-snscrape-90124ed006af"
   ]
  },
  {
   "cell_type": "code",
   "execution_count": 9,
   "id": "cardiac-deadline",
   "metadata": {},
   "outputs": [],
   "source": [
    "# https://github.com/JustAnotherArchivist/snscrape"
   ]
  },
  {
   "cell_type": "markdown",
   "id": "downtown-detroit",
   "metadata": {},
   "source": [
    "### Use snscrape to grab users' timelines"
   ]
  },
  {
   "cell_type": "code",
   "execution_count": 10,
   "id": "moral-royal",
   "metadata": {},
   "outputs": [],
   "source": [
    "# use --progress to see results in 100 tweet intervals"
   ]
  },
  {
   "cell_type": "markdown",
   "id": "sweet-trace",
   "metadata": {},
   "source": [
    "### Define our users"
   ]
  },
  {
   "cell_type": "code",
   "execution_count": 11,
   "id": "transsexual-adoption",
   "metadata": {},
   "outputs": [],
   "source": [
    "# https://docs.google.com/spreadsheets/d/1PnPD2CLGvQEF9HOpcy8vB86xjiy0ywDLBzgQ_kozUT8/edit"
   ]
  },
  {
   "cell_type": "code",
   "execution_count": 12,
   "id": "bearing-infrared",
   "metadata": {},
   "outputs": [],
   "source": [
    "users_url = \"https://docs.google.com/spreadsheets/d/1PnPD2CLGvQEF9HOpcy8vB86xjiy0ywDLBzgQ_kozUT8/gviz/tq?tqx=out:csv\""
   ]
  },
  {
   "cell_type": "code",
   "execution_count": 13,
   "id": "killing-advocacy",
   "metadata": {},
   "outputs": [],
   "source": [
    "users_df = pd.read_csv(users_url)"
   ]
  },
  {
   "cell_type": "code",
   "execution_count": 14,
   "id": "growing-quality",
   "metadata": {},
   "outputs": [],
   "source": [
    "users_df.columns = map(str.lower, users_df.columns)"
   ]
  },
  {
   "cell_type": "code",
   "execution_count": 15,
   "id": "enclosed-comedy",
   "metadata": {},
   "outputs": [
    {
     "data": {
      "text/html": [
       "<div>\n",
       "<style scoped>\n",
       "    .dataframe tbody tr th:only-of-type {\n",
       "        vertical-align: middle;\n",
       "    }\n",
       "\n",
       "    .dataframe tbody tr th {\n",
       "        vertical-align: top;\n",
       "    }\n",
       "\n",
       "    .dataframe thead th {\n",
       "        text-align: right;\n",
       "    }\n",
       "</style>\n",
       "<table border=\"1\" class=\"dataframe\">\n",
       "  <thead>\n",
       "    <tr style=\"text-align: right;\">\n",
       "      <th></th>\n",
       "      <th>name</th>\n",
       "      <th>organization</th>\n",
       "      <th>notes</th>\n",
       "      <th>handle</th>\n",
       "      <th>account</th>\n",
       "    </tr>\n",
       "  </thead>\n",
       "  <tbody>\n",
       "    <tr>\n",
       "      <th>0</th>\n",
       "      <td>Aaron Bate</td>\n",
       "      <td>Three Percenter/Proud Boy</td>\n",
       "      <td>Recall Gavin/El Dorado County</td>\n",
       "      <td>aj.boots.3</td>\n",
       "      <td>Facebook</td>\n",
       "    </tr>\n",
       "    <tr>\n",
       "      <th>1</th>\n",
       "      <td>Aniko Bordelon</td>\n",
       "      <td>anti-vaxx</td>\n",
       "      <td>NaN</td>\n",
       "      <td>aniko.bordelon</td>\n",
       "      <td>Facebook</td>\n",
       "    </tr>\n",
       "    <tr>\n",
       "      <th>2</th>\n",
       "      <td>Aniko Bordelon</td>\n",
       "      <td>anti-vaxx</td>\n",
       "      <td>NaN</td>\n",
       "      <td>ani.gulagle</td>\n",
       "      <td>Facebook</td>\n",
       "    </tr>\n",
       "    <tr>\n",
       "      <th>3</th>\n",
       "      <td>Denise Aguilar</td>\n",
       "      <td>Freedom Angels 2.0</td>\n",
       "      <td>NaN</td>\n",
       "      <td>DenisenRae</td>\n",
       "      <td>Facebook</td>\n",
       "    </tr>\n",
       "    <tr>\n",
       "      <th>4</th>\n",
       "      <td>Jason Kraus</td>\n",
       "      <td>former LE</td>\n",
       "      <td>violent manifesto</td>\n",
       "      <td>jkraus.freedom</td>\n",
       "      <td>Facebook</td>\n",
       "    </tr>\n",
       "  </tbody>\n",
       "</table>\n",
       "</div>"
      ],
      "text/plain": [
       "             name               organization                          notes  \\\n",
       "0      Aaron Bate  Three Percenter/Proud Boy  Recall Gavin/El Dorado County   \n",
       "1  Aniko Bordelon                  anti-vaxx                            NaN   \n",
       "2  Aniko Bordelon                  anti-vaxx                            NaN   \n",
       "3  Denise Aguilar         Freedom Angels 2.0                            NaN   \n",
       "4     Jason Kraus                  former LE              violent manifesto   \n",
       "\n",
       "           handle   account  \n",
       "0      aj.boots.3  Facebook  \n",
       "1  aniko.bordelon  Facebook  \n",
       "2     ani.gulagle  Facebook  \n",
       "3      DenisenRae  Facebook  \n",
       "4  jkraus.freedom  Facebook  "
      ]
     },
     "execution_count": 15,
     "metadata": {},
     "output_type": "execute_result"
    }
   ],
   "source": [
    "users_df.head()"
   ]
  },
  {
   "cell_type": "markdown",
   "id": "adopted-turkey",
   "metadata": {},
   "source": [
    "### Get those user's from Paige's list who are on Twitter"
   ]
  },
  {
   "cell_type": "code",
   "execution_count": 16,
   "id": "stylish-military",
   "metadata": {},
   "outputs": [],
   "source": [
    "handles = list(users_df[users_df[\"account\"] == \"Twitter\"][\"handle\"])"
   ]
  },
  {
   "cell_type": "markdown",
   "id": "initial-philadelphia",
   "metadata": {},
   "source": [
    "### Loop through users and fetch their timelines"
   ]
  },
  {
   "cell_type": "code",
   "execution_count": 17,
   "id": "regulated-delight",
   "metadata": {},
   "outputs": [],
   "source": [
    "for h in handles:\n",
    "    !snscrape --jsonl twitter-search \"from:{h}\" > input/users/paige/{h}-tweets-{today}.json"
   ]
  },
  {
   "cell_type": "markdown",
   "id": "fleet-column",
   "metadata": {},
   "source": [
    "### Grab and concatenate all the users' json files"
   ]
  },
  {
   "cell_type": "code",
   "execution_count": 18,
   "id": "everyday-while",
   "metadata": {},
   "outputs": [],
   "source": [
    "path = \"input/users/paige/\"\n",
    "all_files = glob.glob(os.path.join(path, \"*.json\"))"
   ]
  },
  {
   "cell_type": "code",
   "execution_count": 19,
   "id": "limited-repository",
   "metadata": {},
   "outputs": [],
   "source": [
    "df_from_each_file = (pd.read_json(f, lines=True) for f in all_files)\n",
    "concatenated_df = pd.concat(df_from_each_file, ignore_index=True)"
   ]
  },
  {
   "cell_type": "code",
   "execution_count": 20,
   "id": "accessible-forestry",
   "metadata": {},
   "outputs": [
    {
     "data": {
      "text/plain": [
       "7881"
      ]
     },
     "execution_count": 20,
     "metadata": {},
     "output_type": "execute_result"
    }
   ],
   "source": [
    "len(concatenated_df)"
   ]
  },
  {
   "cell_type": "markdown",
   "id": "afraid-blend",
   "metadata": {},
   "source": [
    "---"
   ]
  },
  {
   "cell_type": "markdown",
   "id": "hazardous-howard",
   "metadata": {},
   "source": [
    "### Process dates (all times converted to Pacific from UTC"
   ]
  },
  {
   "cell_type": "code",
   "execution_count": 21,
   "id": "voluntary-banner",
   "metadata": {},
   "outputs": [],
   "source": [
    "concatenated_df[\"date\"] = pd.to_datetime(concatenated_df[\"date\"], utc=True)\n",
    "concatenated_df[\"pacific_created_at\"] = pd.to_datetime(\n",
    "    concatenated_df[\"date\"], utc=True\n",
    ").dt.tz_convert(\"America/Los_Angeles\")"
   ]
  },
  {
   "cell_type": "code",
   "execution_count": 22,
   "id": "mature-hunter",
   "metadata": {},
   "outputs": [],
   "source": [
    "concatenated_df[\"date\"] = pd.to_datetime(\n",
    "    concatenated_df[\"pacific_created_at\"]\n",
    ").dt.strftime(\"%m/%d/%Y\")\n",
    "concatenated_df[\"date\"] = pd.to_datetime(concatenated_df[\"date\"])\n",
    "concatenated_df[\"year\"] = concatenated_df[\"pacific_created_at\"].dt.year\n",
    "concatenated_df[\"month\"] = concatenated_df[\"pacific_created_at\"].dt.month\n",
    "concatenated_df[\"day\"] = concatenated_df[\"pacific_created_at\"].dt.day\n",
    "concatenated_df[\"hour\"] = concatenated_df[\"pacific_created_at\"].dt.hour\n",
    "concatenated_df[\"minute\"] = concatenated_df[\"pacific_created_at\"].dt.minute\n",
    "concatenated_df[\"time\"] = concatenated_df[\"pacific_created_at\"].dt.time"
   ]
  },
  {
   "cell_type": "code",
   "execution_count": 23,
   "id": "acceptable-indiana",
   "metadata": {},
   "outputs": [],
   "source": [
    "concatenated_df[\"id\"] = concatenated_df[\"id\"].astype(str)\n",
    "concatenated_df[\"year\"] = concatenated_df[\"year\"].astype(str)\n",
    "concatenated_df[\"month\"] = concatenated_df[\"month\"].astype(str)\n",
    "concatenated_df[\"day\"] = concatenated_df[\"day\"].astype(str)\n",
    "concatenated_df[\"hour\"] = concatenated_df[\"hour\"].astype(str)"
   ]
  },
  {
   "cell_type": "markdown",
   "id": "judicial-inclusion",
   "metadata": {},
   "source": [
    "---"
   ]
  },
  {
   "cell_type": "markdown",
   "id": "differential-lodging",
   "metadata": {},
   "source": [
    "### Unpack the nested user info"
   ]
  },
  {
   "cell_type": "code",
   "execution_count": 24,
   "id": "fluid-length",
   "metadata": {},
   "outputs": [],
   "source": [
    "concatenated_df[\"user_name\"] = pd.json_normalize(concatenated_df[\"user\"])[\"username\"]\n",
    "concatenated_df[\"user_displayname\"] = pd.json_normalize(concatenated_df[\"user\"])[\n",
    "    \"displayname\"\n",
    "]\n",
    "concatenated_df[\"user_verified\"] = pd.json_normalize(concatenated_df[\"user\"])[\n",
    "    \"verified\"\n",
    "]\n",
    "concatenated_df[\"user_description\"] = pd.json_normalize(concatenated_df[\"user\"])[\n",
    "    \"description\"\n",
    "]\n",
    "concatenated_df[\"user_followersCount\"] = pd.json_normalize(concatenated_df[\"user\"])[\n",
    "    \"followersCount\"\n",
    "]\n",
    "concatenated_df[\"user_location\"] = pd.json_normalize(concatenated_df[\"user\"])[\n",
    "    \"location\"\n",
    "]"
   ]
  },
  {
   "cell_type": "markdown",
   "id": "laden-turkey",
   "metadata": {},
   "source": [
    "### Need to figure out how to deal with mentioned users"
   ]
  },
  {
   "cell_type": "code",
   "execution_count": 25,
   "id": "enabling-camping",
   "metadata": {},
   "outputs": [],
   "source": [
    "# concatenated_df[\"mentioned_user\"] = pd.json_normalize(\n",
    "#     concatenated_df[\"mentionedUsers\"][0]\n",
    "# )[\"username\"]"
   ]
  },
  {
   "cell_type": "markdown",
   "id": "selective-sherman",
   "metadata": {},
   "source": [
    "### And quoted tweets"
   ]
  },
  {
   "cell_type": "markdown",
   "id": "logical-upgrade",
   "metadata": {},
   "source": [
    "???"
   ]
  },
  {
   "cell_type": "markdown",
   "id": "naval-income",
   "metadata": {},
   "source": [
    "### Make a clean copy of the dataframe for export"
   ]
  },
  {
   "cell_type": "code",
   "execution_count": 26,
   "id": "mounted-syndication",
   "metadata": {},
   "outputs": [],
   "source": [
    "df = concatenated_df[\n",
    "    [\n",
    "        \"id\",\n",
    "        \"url\",\n",
    "        \"user_name\",\n",
    "        \"user_displayname\",\n",
    "        \"user_verified\",\n",
    "        \"user_description\",\n",
    "        \"user_followersCount\",\n",
    "        \"user_location\",\n",
    "        \"date\",\n",
    "        \"time\",\n",
    "        \"content\",\n",
    "        \"replyCount\",\n",
    "        \"retweetCount\",\n",
    "        \"likeCount\",\n",
    "        \"quoteCount\",\n",
    "        \"sourceLabel\",\n",
    "        \"retweetedTweet\",\n",
    "    ]\n",
    "].copy()"
   ]
  },
  {
   "cell_type": "code",
   "execution_count": 27,
   "id": "boolean-realtor",
   "metadata": {},
   "outputs": [],
   "source": [
    "df.drop_duplicates(inplace=True)"
   ]
  },
  {
   "cell_type": "markdown",
   "id": "exterior-stopping",
   "metadata": {},
   "source": [
    "### Export"
   ]
  },
  {
   "cell_type": "code",
   "execution_count": 28,
   "id": "provincial-interest",
   "metadata": {},
   "outputs": [],
   "source": [
    "df.to_csv(\"output/users/paige/all_twitter_user_timelines.csv\", index=False)"
   ]
  },
  {
   "cell_type": "code",
   "execution_count": 29,
   "id": "clear-robin",
   "metadata": {},
   "outputs": [],
   "source": [
    "df.to_json(\n",
    "    \"output/users/paige/all_twitter_user_timelines.json\", indent=2, orient=\"records\"\n",
    ")"
   ]
  },
  {
   "cell_type": "code",
   "execution_count": 30,
   "id": "flexible-relaxation",
   "metadata": {},
   "outputs": [
    {
     "data": {
      "text/plain": [
       "7881"
      ]
     },
     "execution_count": 30,
     "metadata": {},
     "output_type": "execute_result"
    }
   ],
   "source": [
    "len(df)"
   ]
  }
 ],
 "metadata": {
  "kernelspec": {
   "display_name": "Python 3",
   "language": "python",
   "name": "python3"
  },
  "language_info": {
   "codemirror_mode": {
    "name": "ipython",
    "version": 3
   },
   "file_extension": ".py",
   "mimetype": "text/x-python",
   "name": "python",
   "nbconvert_exporter": "python",
   "pygments_lexer": "ipython3",
   "version": "3.7.4"
  }
 },
 "nbformat": 4,
 "nbformat_minor": 5
}
