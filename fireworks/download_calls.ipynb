{
 "cells": [
  {
   "cell_type": "markdown",
   "metadata": {},
   "source": [
    "# Downloading LAPD calls for service"
   ]
  },
  {
   "cell_type": "code",
   "execution_count": 103,
   "metadata": {},
   "outputs": [],
   "source": [
    "import json\n",
    "import pandas as pd\n",
    "import altair as alt\n",
    "import altair_latimes as lat\n",
    "pd.options.display.max_columns = 50\n",
    "pd.options.display.max_rows = 500\n",
    "pd.set_option('display.max_colwidth', -1)"
   ]
  },
  {
   "cell_type": "markdown",
   "metadata": {},
   "source": [
    "### URL codes for City of LA open data portal"
   ]
  },
  {
   "cell_type": "code",
   "execution_count": 114,
   "metadata": {},
   "outputs": [],
   "source": [
    "codes = ['r4ka-x5je', 'nayp-w2tw', 'ryvm-a59m', 'xwgr-xw5q', 'tss8-455b', 'mgue-vbsx', 'urhh-yf63', 'i7pm-cnmm', '4tmc-7r6g', 'iy4q-t9vr']"
   ]
  },
  {
   "cell_type": "code",
   "execution_count": 115,
   "metadata": {},
   "outputs": [],
   "source": [
    "names = ['Incident Number','Reporting District','Area Occurred','Dispatch Date','Dispatch Time','Call Type Code','Call Type Description']\n",
    "dtypes = { 'Incident Number':str, 'Area Occurred': str}"
   ]
  },
  {
   "cell_type": "markdown",
   "metadata": {},
   "source": [
    "### Get the most recent year of calls"
   ]
  },
  {
   "cell_type": "code",
   "execution_count": 116,
   "metadata": {},
   "outputs": [],
   "source": [
    "df_recent = pd.read_csv('https://data.lacity.org/api/views/84iq-i2r6/rows.csv?accessType=DOWNLOAD', names=names, dtype=dtypes)"
   ]
  },
  {
   "cell_type": "markdown",
   "metadata": {},
   "source": [
    "### Get the past years and concatenate them"
   ]
  },
  {
   "cell_type": "code",
   "execution_count": 117,
   "metadata": {},
   "outputs": [],
   "source": [
    "data = []\n",
    "for code in codes:\n",
    "    data.append('https://data.lacity.org/api/views/{}/rows.csv?accessType=DOWNLOAD'.format(code))"
   ]
  },
  {
   "cell_type": "code",
   "execution_count": 118,
   "metadata": {},
   "outputs": [],
   "source": [
    "df_past = pd.concat([pd.read_csv(d,header=0,low_memory=False,names=headers, dtype=dtypes) for d in data])"
   ]
  },
  {
   "cell_type": "code",
   "execution_count": 119,
   "metadata": {},
   "outputs": [],
   "source": [
    "df = pd.concat([df_recent, df_past]).drop([0], axis=0)"
   ]
  },
  {
   "cell_type": "code",
   "execution_count": 120,
   "metadata": {},
   "outputs": [],
   "source": [
    "df.columns = df.columns.str.strip().str.lower().str.replace(' ','_')\\\n",
    "    .str.replace('(', '').str.replace(')', '').str.replace('/','_')"
   ]
  },
  {
   "cell_type": "code",
   "execution_count": 121,
   "metadata": {},
   "outputs": [],
   "source": [
    "df['dispatch_date'] = pd.to_datetime(df['dispatch_date'])\n",
    "df['dispatch_time'] = pd.to_datetime(df['dispatch_time'])\n",
    "df['date'] = df['dispatch_date'].dt.date\n",
    "df['time'] = df['dispatch_time'].dt.time"
   ]
  },
  {
   "cell_type": "code",
   "execution_count": 122,
   "metadata": {},
   "outputs": [
    {
     "data": {
      "text/plain": [
       "incident_number          object        \n",
       "reporting_district       object        \n",
       "area_occurred            object        \n",
       "dispatch_date            datetime64[ns]\n",
       "dispatch_time            datetime64[ns]\n",
       "call_type_code           object        \n",
       "call_type_description    object        \n",
       "date                     object        \n",
       "time                     object        \n",
       "dtype: object"
      ]
     },
     "execution_count": 122,
     "metadata": {},
     "output_type": "execute_result"
    }
   ],
   "source": [
    "df.dtypes"
   ]
  },
  {
   "cell_type": "markdown",
   "metadata": {},
   "source": [
    "### Export"
   ]
  },
  {
   "cell_type": "code",
   "execution_count": 123,
   "metadata": {},
   "outputs": [],
   "source": [
    "df.to_csv('/Users/mhustiles/data/data/LA/calls/2010-2020.csv', index=None)"
   ]
  }
 ],
 "metadata": {
  "kernelspec": {
   "display_name": "Python 3",
   "language": "python",
   "name": "python3"
  },
  "language_info": {
   "codemirror_mode": {
    "name": "ipython",
    "version": 3
   },
   "file_extension": ".py",
   "mimetype": "text/x-python",
   "name": "python",
   "nbconvert_exporter": "python",
   "pygments_lexer": "ipython3",
   "version": "3.7.4"
  }
 },
 "nbformat": 4,
 "nbformat_minor": 4
}
