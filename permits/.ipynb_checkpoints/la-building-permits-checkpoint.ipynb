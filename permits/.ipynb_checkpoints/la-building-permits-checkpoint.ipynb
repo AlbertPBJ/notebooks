{
 "cells": [
  {
   "cell_type": "markdown",
   "metadata": {},
   "source": [
    "# LA Building Permits: 2013-2019"
   ]
  },
  {
   "cell_type": "code",
   "execution_count": 45,
   "metadata": {},
   "outputs": [],
   "source": [
    "import pandas as pd\n",
    "import matplotlib as mpl\n",
    "import geopandas as gpd\n",
    "import descartes\n",
    "import geojson\n",
    "import json\n",
    "import altair as alt\n",
    "import altair_latimes as lat\n",
    "import os, ssl\n",
    "if (not os.environ.get('PYTHONHTTPSVERIFY', '') and\n",
    "    getattr(ssl, '_create_unverified_context', None)): \n",
    "    ssl._create_default_https_context = ssl._create_unverified_context  \n",
    "alt.renderers.enable('notebook')\n",
    "alt.themes.register('latimes', lat.theme)\n",
    "alt.themes.enable('latimes')\n",
    "pd.options.display.float_format = '{:,}'.format"
   ]
  },
  {
   "cell_type": "markdown",
   "metadata": {},
   "source": [
    "### Read data (as of 9/9/2019), clean up column headers"
   ]
  },
  {
   "cell_type": "code",
   "execution_count": 81,
   "metadata": {},
   "outputs": [],
   "source": [
    "#https://data.lacity.org/A-Prosperous-City/Building-and-Safety-Permit-Information/yv23-pmwf\n",
    "permits = pd.read_csv('/Users/mhustiles/Desktop/data/LA/Building_and_Safety_Permit_Information.csv')\n",
    "permits.columns = permits.columns.str.strip().str.lower().str.replace(' ', '_').str.replace('(', '').str.replace(')', '')"
   ]
  },
  {
   "cell_type": "markdown",
   "metadata": {},
   "source": [
    "### Clean up data types"
   ]
  },
  {
   "cell_type": "code",
   "execution_count": 172,
   "metadata": {},
   "outputs": [],
   "source": [
    "permits['project_number'] = permits['project_number'].astype(str)\n",
    "permits['address_start'] = permits['address_start'].astype(str)\n",
    "permits['address_end'] = permits['address_end'].astype(str)\n",
    "permits['zip_code'] = permits['zip_code'].astype(str).replace('\\.0', '', regex=True)\n",
    "permits['assessor_book'] = permits['assessor_book'].astype(str).replace('\\.0', '', regex=True)\n",
    "permits['assessor_page'] = permits['assessor_page'].astype(str).replace('\\.0', '', regex=True)\n",
    "permits['license_#'] = permits['license_#'].astype(str)\n",
    "permits['census_tract'] = permits['census_tract'].astype(str)\n",
    "permits['council_district'] = permits['council_district'].astype(str)\n",
    "permits['existing_code'] = permits['existing_code'].astype(str)\n",
    "permits['proposed_code'] = permits['proposed_code'].astype(str)\n",
    "permits['issue_date'] = pd.to_datetime(permits['issue_date'], format='%m/%d/%Y')\n",
    "permits['status_date'] = pd.to_datetime(permits['status_date'], format='%m/%d/%Y')\n",
    "permits['year-issued'] = permits['issue_date'].dt.year.astype(str)\n",
    "permits['month-issued'] = permits['issue_date'].dt.month.astype(str)\n",
    "permits['year-issued'] = permits['issue_date'].dt.year.astype(str)\n",
    "permits['weekday-issued'] = permits['issue_date'].dt.weekday_name.astype(str)\n",
    "permits['year-status'] = permits['status_date'].dt.year.astype(str)\n",
    "permits['month-status'] = permits['status_date'].dt.month.astype(str)\n",
    "permits['year-status'] = permits['status_date'].dt.year.astype(str)\n",
    "permits['weekday-status'] = permits['status_date'].dt.weekday_name.astype(str)"
   ]
  },
  {
   "cell_type": "markdown",
   "metadata": {},
   "source": [
    "### How many permits total?"
   ]
  },
  {
   "cell_type": "code",
   "execution_count": 173,
   "metadata": {},
   "outputs": [
    {
     "data": {
      "text/plain": [
       "1037228"
      ]
     },
     "execution_count": 173,
     "metadata": {},
     "output_type": "execute_result"
    }
   ],
   "source": [
    "# how many? \n",
    "len(permits)"
   ]
  },
  {
   "cell_type": "markdown",
   "metadata": {},
   "source": [
    "### Filter list of all permits to just new construction on homes"
   ]
  },
  {
   "cell_type": "code",
   "execution_count": 174,
   "metadata": {},
   "outputs": [],
   "source": [
    "new_home_permits = permits[(permits['permit_type'] == 'Bldg-New') & (permits['permit_sub-type'] == '1 or 2 Family Dwelling')]"
   ]
  },
  {
   "cell_type": "code",
   "execution_count": 175,
   "metadata": {},
   "outputs": [
    {
     "data": {
      "text/plain": [
       "21354"
      ]
     },
     "execution_count": 175,
     "metadata": {},
     "output_type": "execute_result"
    }
   ],
   "source": [
    "#how many is that? \n",
    "len(new_home_permits)"
   ]
  },
  {
   "cell_type": "markdown",
   "metadata": {},
   "source": [
    "### Filter list of all permits to our zip codes"
   ]
  },
  {
   "cell_type": "code",
   "execution_count": 176,
   "metadata": {},
   "outputs": [],
   "source": [
    "ourpermits = permits[permits['zip_code'].isin(['90169', '90210', '90077', '90049', '90272'])]"
   ]
  },
  {
   "cell_type": "code",
   "execution_count": 177,
   "metadata": {},
   "outputs": [
    {
     "data": {
      "text/html": [
       "<div>\n",
       "<style scoped>\n",
       "    .dataframe tbody tr th:only-of-type {\n",
       "        vertical-align: middle;\n",
       "    }\n",
       "\n",
       "    .dataframe tbody tr th {\n",
       "        vertical-align: top;\n",
       "    }\n",
       "\n",
       "    .dataframe thead th {\n",
       "        text-align: right;\n",
       "    }\n",
       "</style>\n",
       "<table border=\"1\" class=\"dataframe\">\n",
       "  <thead>\n",
       "    <tr style=\"text-align: right;\">\n",
       "      <th></th>\n",
       "      <th>assessor_book</th>\n",
       "      <th>assessor_page</th>\n",
       "      <th>assessor_parcel</th>\n",
       "      <th>tract</th>\n",
       "      <th>block</th>\n",
       "      <th>lot</th>\n",
       "      <th>reference_#_old_permit_#</th>\n",
       "      <th>pcis_permit_#</th>\n",
       "      <th>status</th>\n",
       "      <th>status_date</th>\n",
       "      <th>...</th>\n",
       "      <th>latitude/longitude</th>\n",
       "      <th>applicant_relationship</th>\n",
       "      <th>existing_code</th>\n",
       "      <th>proposed_code</th>\n",
       "      <th>year-issued</th>\n",
       "      <th>month-issued</th>\n",
       "      <th>weekday-issued</th>\n",
       "      <th>year-status</th>\n",
       "      <th>month-status</th>\n",
       "      <th>weekday-status</th>\n",
       "    </tr>\n",
       "  </thead>\n",
       "  <tbody>\n",
       "    <tr>\n",
       "      <th>23</th>\n",
       "      <td>4414</td>\n",
       "      <td>13</td>\n",
       "      <td>020</td>\n",
       "      <td>TR 9300</td>\n",
       "      <td>131</td>\n",
       "      <td>20</td>\n",
       "      <td>NaN</td>\n",
       "      <td>17042-90000-25965</td>\n",
       "      <td>Issued</td>\n",
       "      <td>2017-10-20</td>\n",
       "      <td>...</td>\n",
       "      <td>(34.04671, -118.53835)</td>\n",
       "      <td>Net Applicant</td>\n",
       "      <td>nan</td>\n",
       "      <td>nan</td>\n",
       "      <td>2017</td>\n",
       "      <td>10</td>\n",
       "      <td>Friday</td>\n",
       "      <td>2017</td>\n",
       "      <td>10</td>\n",
       "      <td>Friday</td>\n",
       "    </tr>\n",
       "    <tr>\n",
       "      <th>55</th>\n",
       "      <td>4406</td>\n",
       "      <td>3</td>\n",
       "      <td>001</td>\n",
       "      <td>BRENTWOOD PARK</td>\n",
       "      <td>31</td>\n",
       "      <td>46</td>\n",
       "      <td>NaN</td>\n",
       "      <td>19042-10000-20034</td>\n",
       "      <td>Issued</td>\n",
       "      <td>2019-08-15</td>\n",
       "      <td>...</td>\n",
       "      <td>(34.06265, -118.49062)</td>\n",
       "      <td>Agent for Contractor</td>\n",
       "      <td>nan</td>\n",
       "      <td>nan</td>\n",
       "      <td>2019</td>\n",
       "      <td>8</td>\n",
       "      <td>Thursday</td>\n",
       "      <td>2019</td>\n",
       "      <td>8</td>\n",
       "      <td>Thursday</td>\n",
       "    </tr>\n",
       "    <tr>\n",
       "      <th>132</th>\n",
       "      <td>4490</td>\n",
       "      <td>26</td>\n",
       "      <td>***</td>\n",
       "      <td>TR 31292-C</td>\n",
       "      <td>NaN</td>\n",
       "      <td>4</td>\n",
       "      <td>NaN</td>\n",
       "      <td>14042-20000-01021</td>\n",
       "      <td>Permit Finaled</td>\n",
       "      <td>2014-02-11</td>\n",
       "      <td>...</td>\n",
       "      <td>(34.10923, -118.49495)</td>\n",
       "      <td>Contractor</td>\n",
       "      <td>nan</td>\n",
       "      <td>nan</td>\n",
       "      <td>2014</td>\n",
       "      <td>1</td>\n",
       "      <td>Friday</td>\n",
       "      <td>2014</td>\n",
       "      <td>2</td>\n",
       "      <td>Tuesday</td>\n",
       "    </tr>\n",
       "    <tr>\n",
       "      <th>195</th>\n",
       "      <td>4420</td>\n",
       "      <td>13</td>\n",
       "      <td>013</td>\n",
       "      <td>TR 17303</td>\n",
       "      <td>NaN</td>\n",
       "      <td>61</td>\n",
       "      <td>NaN</td>\n",
       "      <td>19042-30000-20090</td>\n",
       "      <td>Issued</td>\n",
       "      <td>2019-08-16</td>\n",
       "      <td>...</td>\n",
       "      <td>(34.05164, -118.54004)</td>\n",
       "      <td>Owner-Bldr</td>\n",
       "      <td>nan</td>\n",
       "      <td>nan</td>\n",
       "      <td>2019</td>\n",
       "      <td>8</td>\n",
       "      <td>Friday</td>\n",
       "      <td>2019</td>\n",
       "      <td>8</td>\n",
       "      <td>Friday</td>\n",
       "    </tr>\n",
       "    <tr>\n",
       "      <th>204</th>\n",
       "      <td>4420</td>\n",
       "      <td>13</td>\n",
       "      <td>013</td>\n",
       "      <td>TR 17303</td>\n",
       "      <td>NaN</td>\n",
       "      <td>61</td>\n",
       "      <td>NaN</td>\n",
       "      <td>19041-30000-32091</td>\n",
       "      <td>Issued</td>\n",
       "      <td>2019-08-16</td>\n",
       "      <td>...</td>\n",
       "      <td>(34.05164, -118.54004)</td>\n",
       "      <td>Owner-Bldr</td>\n",
       "      <td>nan</td>\n",
       "      <td>nan</td>\n",
       "      <td>2019</td>\n",
       "      <td>8</td>\n",
       "      <td>Friday</td>\n",
       "      <td>2019</td>\n",
       "      <td>8</td>\n",
       "      <td>Friday</td>\n",
       "    </tr>\n",
       "  </tbody>\n",
       "</table>\n",
       "<p>5 rows × 65 columns</p>\n",
       "</div>"
      ],
      "text/plain": [
       "    assessor_book assessor_page assessor_parcel           tract block lot  \\\n",
       "23           4414            13             020         TR 9300   131  20   \n",
       "55           4406             3             001  BRENTWOOD PARK    31  46   \n",
       "132          4490            26             ***      TR 31292-C   NaN   4   \n",
       "195          4420            13             013        TR 17303   NaN  61   \n",
       "204          4420            13             013        TR 17303   NaN  61   \n",
       "\n",
       "    reference_#_old_permit_#      pcis_permit_#          status status_date  \\\n",
       "23                       NaN  17042-90000-25965          Issued  2017-10-20   \n",
       "55                       NaN  19042-10000-20034          Issued  2019-08-15   \n",
       "132                      NaN  14042-20000-01021  Permit Finaled  2014-02-11   \n",
       "195                      NaN  19042-30000-20090          Issued  2019-08-16   \n",
       "204                      NaN  19041-30000-32091          Issued  2019-08-16   \n",
       "\n",
       "     ...      latitude/longitude applicant_relationship existing_code  \\\n",
       "23   ...  (34.04671, -118.53835)          Net Applicant           nan   \n",
       "55   ...  (34.06265, -118.49062)   Agent for Contractor           nan   \n",
       "132  ...  (34.10923, -118.49495)             Contractor           nan   \n",
       "195  ...  (34.05164, -118.54004)             Owner-Bldr           nan   \n",
       "204  ...  (34.05164, -118.54004)             Owner-Bldr           nan   \n",
       "\n",
       "    proposed_code year-issued month-issued weekday-issued year-status  \\\n",
       "23            nan        2017           10         Friday        2017   \n",
       "55            nan        2019            8       Thursday        2019   \n",
       "132           nan        2014            1         Friday        2014   \n",
       "195           nan        2019            8         Friday        2019   \n",
       "204           nan        2019            8         Friday        2019   \n",
       "\n",
       "    month-status weekday-status  \n",
       "23            10         Friday  \n",
       "55             8       Thursday  \n",
       "132            2        Tuesday  \n",
       "195            8         Friday  \n",
       "204            8         Friday  \n",
       "\n",
       "[5 rows x 65 columns]"
      ]
     },
     "execution_count": 177,
     "metadata": {},
     "output_type": "execute_result"
    }
   ],
   "source": [
    "ourpermits.head()"
   ]
  },
  {
   "cell_type": "markdown",
   "metadata": {},
   "source": [
    "### Basic descriptives about our permits"
   ]
  },
  {
   "cell_type": "code",
   "execution_count": 178,
   "metadata": {},
   "outputs": [
    {
     "data": {
      "text/html": [
       "<div>\n",
       "<style scoped>\n",
       "    .dataframe tbody tr th:only-of-type {\n",
       "        vertical-align: middle;\n",
       "    }\n",
       "\n",
       "    .dataframe tbody tr th {\n",
       "        vertical-align: top;\n",
       "    }\n",
       "\n",
       "    .dataframe thead th {\n",
       "        text-align: right;\n",
       "    }\n",
       "</style>\n",
       "<table border=\"1\" class=\"dataframe\">\n",
       "  <thead>\n",
       "    <tr style=\"text-align: right;\">\n",
       "      <th></th>\n",
       "      <th>valuation</th>\n",
       "      <th>floor_area-l.a._zoning_code_definition</th>\n",
       "      <th>#_of_residential_dwelling_units</th>\n",
       "      <th>#_of_accessory_dwelling_units</th>\n",
       "      <th>#_of_stories</th>\n",
       "      <th>floor_area-l.a._building_code_definition</th>\n",
       "    </tr>\n",
       "  </thead>\n",
       "  <tbody>\n",
       "    <tr>\n",
       "      <th>count</th>\n",
       "      <td>28,645.0</td>\n",
       "      <td>6,028.0</td>\n",
       "      <td>3,713.0</td>\n",
       "      <td>123.0</td>\n",
       "      <td>5,811.0</td>\n",
       "      <td>41,867.0</td>\n",
       "    </tr>\n",
       "    <tr>\n",
       "      <th>mean</th>\n",
       "      <td>111,682.0</td>\n",
       "      <td>3,638.0</td>\n",
       "      <td>0.0</td>\n",
       "      <td>1.0</td>\n",
       "      <td>2.0</td>\n",
       "      <td>287.0</td>\n",
       "    </tr>\n",
       "    <tr>\n",
       "      <th>std</th>\n",
       "      <td>678,913.0</td>\n",
       "      <td>7,758.0</td>\n",
       "      <td>3.0</td>\n",
       "      <td>0.0</td>\n",
       "      <td>61.0</td>\n",
       "      <td>3,076.0</td>\n",
       "    </tr>\n",
       "    <tr>\n",
       "      <th>min</th>\n",
       "      <td>0.0</td>\n",
       "      <td>-2,998.0</td>\n",
       "      <td>-31.0</td>\n",
       "      <td>-3.0</td>\n",
       "      <td>-2.0</td>\n",
       "      <td>-32,685.0</td>\n",
       "    </tr>\n",
       "    <tr>\n",
       "      <th>25%</th>\n",
       "      <td>852.0</td>\n",
       "      <td>67.0</td>\n",
       "      <td>0.0</td>\n",
       "      <td>1.0</td>\n",
       "      <td>0.0</td>\n",
       "      <td>0.0</td>\n",
       "    </tr>\n",
       "    <tr>\n",
       "      <th>50%</th>\n",
       "      <td>10,000.0</td>\n",
       "      <td>1,230.0</td>\n",
       "      <td>0.0</td>\n",
       "      <td>1.0</td>\n",
       "      <td>1.0</td>\n",
       "      <td>0.0</td>\n",
       "    </tr>\n",
       "    <tr>\n",
       "      <th>75%</th>\n",
       "      <td>35,000.0</td>\n",
       "      <td>4,674.0</td>\n",
       "      <td>1.0</td>\n",
       "      <td>1.0</td>\n",
       "      <td>2.0</td>\n",
       "      <td>0.0</td>\n",
       "    </tr>\n",
       "    <tr>\n",
       "      <th>max</th>\n",
       "      <td>33,750,000.0</td>\n",
       "      <td>204,600.0</td>\n",
       "      <td>81.0</td>\n",
       "      <td>2.0</td>\n",
       "      <td>4,654.0</td>\n",
       "      <td>169,920.0</td>\n",
       "    </tr>\n",
       "  </tbody>\n",
       "</table>\n",
       "</div>"
      ],
      "text/plain": [
       "         valuation  floor_area-l.a._zoning_code_definition  \\\n",
       "count     28,645.0                                 6,028.0   \n",
       "mean     111,682.0                                 3,638.0   \n",
       "std      678,913.0                                 7,758.0   \n",
       "min            0.0                                -2,998.0   \n",
       "25%          852.0                                    67.0   \n",
       "50%       10,000.0                                 1,230.0   \n",
       "75%       35,000.0                                 4,674.0   \n",
       "max   33,750,000.0                               204,600.0   \n",
       "\n",
       "       #_of_residential_dwelling_units  #_of_accessory_dwelling_units  \\\n",
       "count                          3,713.0                          123.0   \n",
       "mean                               0.0                            1.0   \n",
       "std                                3.0                            0.0   \n",
       "min                              -31.0                           -3.0   \n",
       "25%                                0.0                            1.0   \n",
       "50%                                0.0                            1.0   \n",
       "75%                                1.0                            1.0   \n",
       "max                               81.0                            2.0   \n",
       "\n",
       "       #_of_stories  floor_area-l.a._building_code_definition  \n",
       "count       5,811.0                                  41,867.0  \n",
       "mean            2.0                                     287.0  \n",
       "std            61.0                                   3,076.0  \n",
       "min            -2.0                                 -32,685.0  \n",
       "25%             0.0                                       0.0  \n",
       "50%             1.0                                       0.0  \n",
       "75%             2.0                                       0.0  \n",
       "max         4,654.0                                 169,920.0  "
      ]
     },
     "execution_count": 178,
     "metadata": {},
     "output_type": "execute_result"
    }
   ],
   "source": [
    "ourpermits.describe(include=['number']).round()"
   ]
  },
  {
   "cell_type": "code",
   "execution_count": 179,
   "metadata": {},
   "outputs": [
    {
     "data": {
      "text/plain": [
       "Index(['assessor_book', 'assessor_page', 'assessor_parcel', 'tract', 'block',\n",
       "       'lot', 'reference_#_old_permit_#', 'pcis_permit_#', 'status',\n",
       "       'status_date', 'permit_type', 'permit_sub-type', 'permit_category',\n",
       "       'project_number', 'event_code', 'initiating_office', 'issue_date',\n",
       "       'address_start', 'address_fraction_start', 'address_end',\n",
       "       'address_fraction_end', 'street_direction', 'street_name',\n",
       "       'street_suffix', 'suffix_direction', 'unit_range_start',\n",
       "       'unit_range_end', 'zip_code', 'work_description', 'valuation',\n",
       "       'floor_area-l.a._zoning_code_definition',\n",
       "       '#_of_residential_dwelling_units', '#_of_accessory_dwelling_units',\n",
       "       '#_of_stories', 'contractor's_business_name', 'contractor_address',\n",
       "       'contractor_city', 'contractor_state', 'license_type', 'license_#',\n",
       "       'principal_first_name', 'principal_middle_name', 'principal_last_name',\n",
       "       'license_expiration_date', 'applicant_first_name',\n",
       "       'applicant_last_name', 'applicant_business_name', 'applicant_address_1',\n",
       "       'applicant_address_2', 'applicant_address_3', 'zone', 'occupancy',\n",
       "       'floor_area-l.a._building_code_definition', 'census_tract',\n",
       "       'council_district', 'latitude/longitude', 'applicant_relationship',\n",
       "       'existing_code', 'proposed_code', 'year-issued', 'month-issued',\n",
       "       'weekday-issued', 'year-status', 'month-status', 'weekday-status'],\n",
       "      dtype='object')"
      ]
     },
     "execution_count": 179,
     "metadata": {},
     "output_type": "execute_result"
    }
   ],
   "source": [
    "ourpermits.columns"
   ]
  },
  {
   "cell_type": "code",
   "execution_count": 180,
   "metadata": {},
   "outputs": [],
   "source": [
    "permit_types = ourpermits.groupby(['permit_type']).agg('size').sort_values(ascending=False).reset_index()\n",
    "permit_sub_types = ourpermits.groupby(['permit_sub-type']).agg('size').sort_values(ascending=False).reset_index()"
   ]
  },
  {
   "cell_type": "code",
   "execution_count": 181,
   "metadata": {},
   "outputs": [
    {
     "data": {
      "text/html": [
       "<div>\n",
       "<style scoped>\n",
       "    .dataframe tbody tr th:only-of-type {\n",
       "        vertical-align: middle;\n",
       "    }\n",
       "\n",
       "    .dataframe tbody tr th {\n",
       "        vertical-align: top;\n",
       "    }\n",
       "\n",
       "    .dataframe thead th {\n",
       "        text-align: right;\n",
       "    }\n",
       "</style>\n",
       "<table border=\"1\" class=\"dataframe\">\n",
       "  <thead>\n",
       "    <tr style=\"text-align: right;\">\n",
       "      <th></th>\n",
       "      <th>permit_type</th>\n",
       "      <th>0</th>\n",
       "    </tr>\n",
       "  </thead>\n",
       "  <tbody>\n",
       "    <tr>\n",
       "      <th>0</th>\n",
       "      <td>Bldg-Alter/Repair</td>\n",
       "      <td>11956</td>\n",
       "    </tr>\n",
       "    <tr>\n",
       "      <th>1</th>\n",
       "      <td>Electrical</td>\n",
       "      <td>9532</td>\n",
       "    </tr>\n",
       "    <tr>\n",
       "      <th>2</th>\n",
       "      <td>Plumbing</td>\n",
       "      <td>8865</td>\n",
       "    </tr>\n",
       "    <tr>\n",
       "      <th>3</th>\n",
       "      <td>Grading</td>\n",
       "      <td>4374</td>\n",
       "    </tr>\n",
       "    <tr>\n",
       "      <th>4</th>\n",
       "      <td>HVAC</td>\n",
       "      <td>3351</td>\n",
       "    </tr>\n",
       "    <tr>\n",
       "      <th>5</th>\n",
       "      <td>Nonbldg-New</td>\n",
       "      <td>2757</td>\n",
       "    </tr>\n",
       "    <tr>\n",
       "      <th>6</th>\n",
       "      <td>Bldg-Addition</td>\n",
       "      <td>2688</td>\n",
       "    </tr>\n",
       "    <tr>\n",
       "      <th>7</th>\n",
       "      <td>Swimming-Pool/Spa</td>\n",
       "      <td>2623</td>\n",
       "    </tr>\n",
       "    <tr>\n",
       "      <th>8</th>\n",
       "      <td>Fire Sprinkler</td>\n",
       "      <td>2153</td>\n",
       "    </tr>\n",
       "    <tr>\n",
       "      <th>9</th>\n",
       "      <td>Bldg-New</td>\n",
       "      <td>1776</td>\n",
       "    </tr>\n",
       "    <tr>\n",
       "      <th>10</th>\n",
       "      <td>Bldg-Demolition</td>\n",
       "      <td>1086</td>\n",
       "    </tr>\n",
       "    <tr>\n",
       "      <th>11</th>\n",
       "      <td>Elevator</td>\n",
       "      <td>817</td>\n",
       "    </tr>\n",
       "    <tr>\n",
       "      <th>12</th>\n",
       "      <td>Nonbldg-Alter/Repair</td>\n",
       "      <td>647</td>\n",
       "    </tr>\n",
       "    <tr>\n",
       "      <th>13</th>\n",
       "      <td>Sign</td>\n",
       "      <td>211</td>\n",
       "    </tr>\n",
       "    <tr>\n",
       "      <th>14</th>\n",
       "      <td>Nonbldg-Addition</td>\n",
       "      <td>53</td>\n",
       "    </tr>\n",
       "    <tr>\n",
       "      <th>15</th>\n",
       "      <td>Pressure Vessel</td>\n",
       "      <td>43</td>\n",
       "    </tr>\n",
       "    <tr>\n",
       "      <th>16</th>\n",
       "      <td>Nonbldg-Demolition</td>\n",
       "      <td>14</td>\n",
       "    </tr>\n",
       "  </tbody>\n",
       "</table>\n",
       "</div>"
      ],
      "text/plain": [
       "             permit_type      0\n",
       "0      Bldg-Alter/Repair  11956\n",
       "1             Electrical   9532\n",
       "2               Plumbing   8865\n",
       "3                Grading   4374\n",
       "4                   HVAC   3351\n",
       "5            Nonbldg-New   2757\n",
       "6          Bldg-Addition   2688\n",
       "7      Swimming-Pool/Spa   2623\n",
       "8         Fire Sprinkler   2153\n",
       "9               Bldg-New   1776\n",
       "10       Bldg-Demolition   1086\n",
       "11              Elevator    817\n",
       "12  Nonbldg-Alter/Repair    647\n",
       "13                  Sign    211\n",
       "14      Nonbldg-Addition     53\n",
       "15       Pressure Vessel     43\n",
       "16    Nonbldg-Demolition     14"
      ]
     },
     "execution_count": 181,
     "metadata": {},
     "output_type": "execute_result"
    }
   ],
   "source": [
    "permit_types"
   ]
  },
  {
   "cell_type": "code",
   "execution_count": 182,
   "metadata": {},
   "outputs": [
    {
     "data": {
      "text/html": [
       "<div>\n",
       "<style scoped>\n",
       "    .dataframe tbody tr th:only-of-type {\n",
       "        vertical-align: middle;\n",
       "    }\n",
       "\n",
       "    .dataframe tbody tr th {\n",
       "        vertical-align: top;\n",
       "    }\n",
       "\n",
       "    .dataframe thead th {\n",
       "        text-align: right;\n",
       "    }\n",
       "</style>\n",
       "<table border=\"1\" class=\"dataframe\">\n",
       "  <thead>\n",
       "    <tr style=\"text-align: right;\">\n",
       "      <th></th>\n",
       "      <th>permit_sub-type</th>\n",
       "      <th>0</th>\n",
       "    </tr>\n",
       "  </thead>\n",
       "  <tbody>\n",
       "    <tr>\n",
       "      <th>0</th>\n",
       "      <td>1 or 2 Family Dwelling</td>\n",
       "      <td>42177</td>\n",
       "    </tr>\n",
       "    <tr>\n",
       "      <th>1</th>\n",
       "      <td>Apartment</td>\n",
       "      <td>5860</td>\n",
       "    </tr>\n",
       "    <tr>\n",
       "      <th>2</th>\n",
       "      <td>Commercial</td>\n",
       "      <td>4493</td>\n",
       "    </tr>\n",
       "    <tr>\n",
       "      <th>3</th>\n",
       "      <td>Onsite</td>\n",
       "      <td>209</td>\n",
       "    </tr>\n",
       "    <tr>\n",
       "      <th>4</th>\n",
       "      <td>Special Equipment</td>\n",
       "      <td>189</td>\n",
       "    </tr>\n",
       "    <tr>\n",
       "      <th>5</th>\n",
       "      <td>Public Safety Only</td>\n",
       "      <td>16</td>\n",
       "    </tr>\n",
       "    <tr>\n",
       "      <th>6</th>\n",
       "      <td>Offsite</td>\n",
       "      <td>2</td>\n",
       "    </tr>\n",
       "  </tbody>\n",
       "</table>\n",
       "</div>"
      ],
      "text/plain": [
       "          permit_sub-type      0\n",
       "0  1 or 2 Family Dwelling  42177\n",
       "1               Apartment   5860\n",
       "2              Commercial   4493\n",
       "3                  Onsite    209\n",
       "4       Special Equipment    189\n",
       "5      Public Safety Only     16\n",
       "6                 Offsite      2"
      ]
     },
     "execution_count": 182,
     "metadata": {},
     "output_type": "execute_result"
    }
   ],
   "source": [
    "permit_sub_types"
   ]
  },
  {
   "cell_type": "markdown",
   "metadata": {},
   "source": [
    "### How many have been issued?"
   ]
  },
  {
   "cell_type": "code",
   "execution_count": 183,
   "metadata": {},
   "outputs": [],
   "source": [
    "zip_count = ourpermits['year-issued'].groupby(ourpermits['zip_code'])\n",
    "year_count = ourpermits['zip_code'].groupby(ourpermits['year-issued'])\n",
    "license_count = ourpermits['zip_code'].groupby(ourpermits['license_type'])"
   ]
  },
  {
   "cell_type": "code",
   "execution_count": 171,
   "metadata": {},
   "outputs": [
    {
     "data": {
      "text/plain": [
       "year-issued\n",
       "2013    7189\n",
       "2014    7334\n",
       "2015    7773\n",
       "2016    7807\n",
       "2017    8277\n",
       "2018    8782\n",
       "2019    5784\n",
       "Name: zip_code, dtype: int64"
      ]
     },
     "execution_count": 171,
     "metadata": {},
     "output_type": "execute_result"
    }
   ],
   "source": [
    "year_count.count()"
   ]
  },
  {
   "cell_type": "code",
   "execution_count": 125,
   "metadata": {},
   "outputs": [
    {
     "data": {
      "text/plain": [
       "zip_code\n",
       "90049    22378\n",
       "90077     7923\n",
       "90210     7138\n",
       "90272    15507\n",
       "Name: year-issued, dtype: int64"
      ]
     },
     "execution_count": 125,
     "metadata": {},
     "output_type": "execute_result"
    }
   ],
   "source": [
    "zip_count.count()"
   ]
  },
  {
   "cell_type": "code",
   "execution_count": 126,
   "metadata": {},
   "outputs": [
    {
     "data": {
      "text/plain": [
       "license_type\n",
       "3B         1\n",
       "4          5\n",
       "6          1\n",
       "A        221\n",
       "B      21660\n",
       "C-4       17\n",
       "C-5        1\n",
       "C-6        3\n",
       "C-7       99\n",
       "C-8       35\n",
       "C-9        1\n",
       "C10     5775\n",
       "C11      814\n",
       "C12       21\n",
       "C13        9\n",
       "C15        4\n",
       "C16     2126\n",
       "C17       47\n",
       "C20     2567\n",
       "C21      152\n",
       "C23        2\n",
       "C27      146\n",
       "C29       71\n",
       "C33        4\n",
       "C34        1\n",
       "C35       15\n",
       "C36     6142\n",
       "C38       15\n",
       "C39     1242\n",
       "C42       39\n",
       "C45      186\n",
       "C46      350\n",
       "C51        2\n",
       "C53     2560\n",
       "C54        4\n",
       "C55        4\n",
       "D03       31\n",
       "D21        2\n",
       "D24        1\n",
       "D28        3\n",
       "D30        1\n",
       "D31       13\n",
       "D34       38\n",
       "D35       11\n",
       "D40        1\n",
       "D42        2\n",
       "D51        1\n",
       "D52        2\n",
       "D62        2\n",
       "D63        1\n",
       "D64        1\n",
       "PR         1\n",
       "b         22\n",
       "c10        1\n",
       "c53        1\n",
       "Name: zip_code, dtype: int64"
      ]
     },
     "execution_count": 126,
     "metadata": {},
     "output_type": "execute_result"
    }
   ],
   "source": [
    "license_count.count()"
   ]
  },
  {
   "cell_type": "code",
   "execution_count": null,
   "metadata": {},
   "outputs": [],
   "source": []
  }
 ],
 "metadata": {
  "kernelspec": {
   "display_name": "Python 3",
   "language": "python",
   "name": "python3"
  },
  "language_info": {
   "codemirror_mode": {
    "name": "ipython",
    "version": 3
   },
   "file_extension": ".py",
   "mimetype": "text/x-python",
   "name": "python",
   "nbconvert_exporter": "python",
   "pygments_lexer": "ipython3",
   "version": "3.6.3rc1"
  }
 },
 "nbformat": 4,
 "nbformat_minor": 2
}
