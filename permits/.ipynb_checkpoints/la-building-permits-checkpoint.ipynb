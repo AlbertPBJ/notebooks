{
 "cells": [
  {
   "cell_type": "markdown",
   "metadata": {},
   "source": [
    "# LA building permits: 2013-2019"
   ]
  },
  {
   "cell_type": "code",
   "execution_count": 1,
   "metadata": {},
   "outputs": [],
   "source": [
    "import pandas as pd\n",
    "import matplotlib as mpl\n",
    "import geopandas as gpd\n",
    "import descartes\n",
    "import geojson\n",
    "import json\n",
    "import numpy as np\n",
    "import altair as alt\n",
    "import altair_latimes as lat\n",
    "alt.renderers.enable('notebook')\n",
    "alt.themes.register('latimes', lat.theme)\n",
    "alt.themes.enable('latimes')\n",
    "pd.options.display.float_format = '{:,}'.format"
   ]
  },
  {
   "cell_type": "markdown",
   "metadata": {},
   "source": [
    "### Read data (as of 9/9/2019), clean up column headers"
   ]
  },
  {
   "cell_type": "code",
   "execution_count": 2,
   "metadata": {},
   "outputs": [],
   "source": [
    "#https://data.lacity.org/A-Prosperous-City/Building-and-Safety-Permit-Information/yv23-pmwf\n",
    "\n",
    "permits = pd.read_csv('/Users/mhustiles/Desktop/data/LA/Building_and_Safety_Permit_Information.csv', low_memory=False)\n",
    "permits.columns = permits.columns.str.strip().str.lower().str.replace(' ', '_').str.replace('(', '').str.replace(')', '')"
   ]
  },
  {
   "cell_type": "code",
   "execution_count": 3,
   "metadata": {},
   "outputs": [
    {
     "data": {
      "text/plain": [
       "Index(['assessor_book', 'assessor_page', 'assessor_parcel', 'tract', 'block',\n",
       "       'lot', 'reference_#_old_permit_#', 'pcis_permit_#', 'status',\n",
       "       'status_date', 'permit_type', 'permit_sub-type', 'permit_category',\n",
       "       'project_number', 'event_code', 'initiating_office', 'issue_date',\n",
       "       'address_start', 'address_fraction_start', 'address_end',\n",
       "       'address_fraction_end', 'street_direction', 'street_name',\n",
       "       'street_suffix', 'suffix_direction', 'unit_range_start',\n",
       "       'unit_range_end', 'zip_code', 'work_description', 'valuation',\n",
       "       'floor_area-l.a._zoning_code_definition',\n",
       "       '#_of_residential_dwelling_units', '#_of_accessory_dwelling_units',\n",
       "       '#_of_stories', 'contractor's_business_name', 'contractor_address',\n",
       "       'contractor_city', 'contractor_state', 'license_type', 'license_#',\n",
       "       'principal_first_name', 'principal_middle_name', 'principal_last_name',\n",
       "       'license_expiration_date', 'applicant_first_name',\n",
       "       'applicant_last_name', 'applicant_business_name', 'applicant_address_1',\n",
       "       'applicant_address_2', 'applicant_address_3', 'zone', 'occupancy',\n",
       "       'floor_area-l.a._building_code_definition', 'census_tract',\n",
       "       'council_district', 'latitude/longitude', 'applicant_relationship',\n",
       "       'existing_code', 'proposed_code'],\n",
       "      dtype='object')"
      ]
     },
     "execution_count": 3,
     "metadata": {},
     "output_type": "execute_result"
    }
   ],
   "source": [
    "permits.columns"
   ]
  },
  {
   "cell_type": "markdown",
   "metadata": {},
   "source": [
    "### Clean up data types, parse dates"
   ]
  },
  {
   "cell_type": "code",
   "execution_count": 4,
   "metadata": {},
   "outputs": [],
   "source": [
    "permits['project_number'] = permits['project_number'].astype(str)\n",
    "permits['address_start'] = permits['address_start'].astype(str)\n",
    "permits['address_end'] = permits['address_end'].astype(str)\n",
    "permits['zip_code'] = permits['zip_code'].astype(str).replace('\\.0', '', regex=True)\n",
    "permits['assessor_book'] = permits['assessor_book'].astype(str).replace('\\.0', '', regex=True)\n",
    "permits['assessor_page'] = permits['assessor_page'].astype(str).replace('\\.0', '', regex=True)\n",
    "permits['license_#'] = permits['license_#'].astype(str)\n",
    "permits['census_tract'] = permits['census_tract'].astype(str)\n",
    "permits['council_district'] = permits['council_district'].astype(str)\n",
    "permits['existing_code'] = permits['existing_code'].astype(str)\n",
    "permits['proposed_code'] = permits['proposed_code'].astype(str)\n",
    "permits['issue_date'] = pd.to_datetime(permits['issue_date'], format='%m/%d/%Y')\n",
    "permits['status_date'] = pd.to_datetime(permits['status_date'], format='%m/%d/%Y')\n",
    "permits['year-issued'] = permits['issue_date'].dt.year.astype(str)\n",
    "permits['month-issued'] = permits['issue_date'].dt.month.astype(str)\n",
    "permits['year-issued'] = permits['issue_date'].dt.year.astype(str)\n",
    "permits['weekday-issued'] = permits['issue_date'].dt.weekday_name.astype(str)\n",
    "permits['year-status'] = permits['status_date'].dt.year.astype(str)\n",
    "permits['month-status'] = permits['status_date'].dt.month.astype(str)\n",
    "permits['year-status'] = permits['status_date'].dt.year.astype(str)\n",
    "permits['weekday-status'] = permits['status_date'].dt.weekday_name.astype(str)\n",
    "permits['floor_area-l.a._zoning_code_definition'] = permits['floor_area-l.a._zoning_code_definition'].astype(float)\n",
    "permits['area'] = permits['floor_area-l.a._zoning_code_definition'].astype(float)\n",
    "permits['location'] = permits['latitude/longitude']"
   ]
  },
  {
   "cell_type": "markdown",
   "metadata": {},
   "source": [
    "### Convert 'location' into separate latitude/longitude fields"
   ]
  },
  {
   "cell_type": "code",
   "execution_count": 5,
   "metadata": {},
   "outputs": [],
   "source": [
    "permits['location'] = permits.location.str.replace('(', '').str.replace(')', '')\n",
    "\n",
    "lat = []\n",
    "lon = []\n",
    "\n",
    "for row in permits['location']:\n",
    "    try:\n",
    "        lat.append(row.split(',')[0])\n",
    "        lon.append(row.split(',')[1])\n",
    "    except:\n",
    "        lat.append(np.NaN)\n",
    "        lon.append(np.NaN)\n",
    "\n",
    "permits['latitude'] = lat\n",
    "permits['longitude'] = lon"
   ]
  },
  {
   "cell_type": "markdown",
   "metadata": {},
   "source": [
    "### How many total permits issued?"
   ]
  },
  {
   "cell_type": "code",
   "execution_count": 6,
   "metadata": {},
   "outputs": [
    {
     "data": {
      "text/plain": [
       "1037228"
      ]
     },
     "execution_count": 6,
     "metadata": {},
     "output_type": "execute_result"
    }
   ],
   "source": [
    "len(permits)"
   ]
  },
  {
   "cell_type": "markdown",
   "metadata": {},
   "source": [
    "### How many permits for just new single- or dual-family homes"
   ]
  },
  {
   "cell_type": "code",
   "execution_count": 60,
   "metadata": {},
   "outputs": [],
   "source": [
    "new_home_permits_all = permits[(permits['permit_type'] == 'Bldg-New') & (permits['permit_sub-type'] == '1 or 2 Family Dwelling') & (permits['work_description'].str.contains('DWELLING'))]"
   ]
  },
  {
   "cell_type": "code",
   "execution_count": 61,
   "metadata": {},
   "outputs": [
    {
     "data": {
      "text/plain": [
       "3821"
      ]
     },
     "execution_count": 61,
     "metadata": {},
     "output_type": "execute_result"
    }
   ],
   "source": [
    "#how many new home permits is that? \n",
    "len(new_home_permits_all)"
   ]
  },
  {
   "cell_type": "markdown",
   "metadata": {},
   "source": [
    "### Filter list of new contruction/homes to specific zip codes"
   ]
  },
  {
   "cell_type": "code",
   "execution_count": 62,
   "metadata": {},
   "outputs": [],
   "source": [
    "platinum_zips = ['90210', '90077', '90272']\n",
    "bel_air_zip = ['90077']\n",
    "\n",
    "# Platinum Triangle\n",
    "platinum_permits = new_home_permits_all[new_home_permits_all.zip_code.isin(platinum_zips)]\n",
    "# Just Bel Air\n",
    "belair_permits = new_home_permits_all[new_home_permits_all.zip_code.isin(bel_air_zip)]\n",
    "# Everything else\n",
    "rest_permits = new_home_permits_all[~new_home_permits_all.zip_code.isin(platinum_zips)]"
   ]
  },
  {
   "cell_type": "markdown",
   "metadata": {},
   "source": [
    "### How do these zip code zones compare?"
   ]
  },
  {
   "cell_type": "code",
   "execution_count": 63,
   "metadata": {},
   "outputs": [
    {
     "data": {
      "text/html": [
       "<div>\n",
       "<style scoped>\n",
       "    .dataframe tbody tr th:only-of-type {\n",
       "        vertical-align: middle;\n",
       "    }\n",
       "\n",
       "    .dataframe tbody tr th {\n",
       "        vertical-align: top;\n",
       "    }\n",
       "\n",
       "    .dataframe thead th {\n",
       "        text-align: right;\n",
       "    }\n",
       "</style>\n",
       "<table border=\"1\" class=\"dataframe\">\n",
       "  <thead>\n",
       "    <tr style=\"text-align: right;\">\n",
       "      <th></th>\n",
       "      <th>count</th>\n",
       "      <th>mean</th>\n",
       "      <th>median</th>\n",
       "      <th>max</th>\n",
       "    </tr>\n",
       "    <tr>\n",
       "      <th>zip_code</th>\n",
       "      <th></th>\n",
       "      <th></th>\n",
       "      <th></th>\n",
       "      <th></th>\n",
       "    </tr>\n",
       "  </thead>\n",
       "  <tbody>\n",
       "    <tr>\n",
       "      <th>90077</th>\n",
       "      <td>41</td>\n",
       "      <td>12,515.0</td>\n",
       "      <td>8,437.0</td>\n",
       "      <td>73,934.0</td>\n",
       "    </tr>\n",
       "  </tbody>\n",
       "</table>\n",
       "</div>"
      ],
      "text/plain": [
       "          count     mean  median      max\n",
       "zip_code                                 \n",
       "90077        41 12,515.0 8,437.0 73,934.0"
      ]
     },
     "execution_count": 63,
     "metadata": {},
     "output_type": "execute_result"
    }
   ],
   "source": [
    "# Bel Air - by square feet of construction\n",
    "belair_permits.groupby('zip_code').area.agg(['count', 'mean', 'median', 'max']).round().sort_values(by='median', ascending=False).head(10)"
   ]
  },
  {
   "cell_type": "code",
   "execution_count": 64,
   "metadata": {},
   "outputs": [
    {
     "data": {
      "text/html": [
       "<div>\n",
       "<style scoped>\n",
       "    .dataframe tbody tr th:only-of-type {\n",
       "        vertical-align: middle;\n",
       "    }\n",
       "\n",
       "    .dataframe tbody tr th {\n",
       "        vertical-align: top;\n",
       "    }\n",
       "\n",
       "    .dataframe thead th {\n",
       "        text-align: right;\n",
       "    }\n",
       "</style>\n",
       "<table border=\"1\" class=\"dataframe\">\n",
       "  <thead>\n",
       "    <tr style=\"text-align: right;\">\n",
       "      <th></th>\n",
       "      <th>count</th>\n",
       "      <th>mean</th>\n",
       "      <th>median</th>\n",
       "      <th>max</th>\n",
       "    </tr>\n",
       "    <tr>\n",
       "      <th>zip_code</th>\n",
       "      <th></th>\n",
       "      <th></th>\n",
       "      <th></th>\n",
       "      <th></th>\n",
       "    </tr>\n",
       "  </thead>\n",
       "  <tbody>\n",
       "    <tr>\n",
       "      <th>90077</th>\n",
       "      <td>41</td>\n",
       "      <td>12,515.0</td>\n",
       "      <td>8,437.0</td>\n",
       "      <td>73,934.0</td>\n",
       "    </tr>\n",
       "    <tr>\n",
       "      <th>90210</th>\n",
       "      <td>16</td>\n",
       "      <td>11,080.0</td>\n",
       "      <td>5,815.0</td>\n",
       "      <td>55,667.0</td>\n",
       "    </tr>\n",
       "    <tr>\n",
       "      <th>90272</th>\n",
       "      <td>107</td>\n",
       "      <td>5,412.0</td>\n",
       "      <td>4,812.0</td>\n",
       "      <td>17,266.0</td>\n",
       "    </tr>\n",
       "  </tbody>\n",
       "</table>\n",
       "</div>"
      ],
      "text/plain": [
       "          count     mean  median      max\n",
       "zip_code                                 \n",
       "90077        41 12,515.0 8,437.0 73,934.0\n",
       "90210        16 11,080.0 5,815.0 55,667.0\n",
       "90272       107  5,412.0 4,812.0 17,266.0"
      ]
     },
     "execution_count": 64,
     "metadata": {},
     "output_type": "execute_result"
    }
   ],
   "source": [
    "#All the Platinum Triangle zips - by square feet of construction\n",
    "platinum_permits.groupby('zip_code').area.agg(['count', 'mean', 'median', 'max']).round().sort_values(by='median', ascending=False).head(10)"
   ]
  },
  {
   "cell_type": "code",
   "execution_count": 65,
   "metadata": {},
   "outputs": [
    {
     "data": {
      "text/html": [
       "<div>\n",
       "<style scoped>\n",
       "    .dataframe tbody tr th:only-of-type {\n",
       "        vertical-align: middle;\n",
       "    }\n",
       "\n",
       "    .dataframe tbody tr th {\n",
       "        vertical-align: top;\n",
       "    }\n",
       "\n",
       "    .dataframe thead th {\n",
       "        text-align: right;\n",
       "    }\n",
       "</style>\n",
       "<table border=\"1\" class=\"dataframe\">\n",
       "  <thead>\n",
       "    <tr style=\"text-align: right;\">\n",
       "      <th></th>\n",
       "      <th>count</th>\n",
       "      <th>mean</th>\n",
       "      <th>median</th>\n",
       "      <th>max</th>\n",
       "    </tr>\n",
       "    <tr>\n",
       "      <th>zip_code</th>\n",
       "      <th></th>\n",
       "      <th></th>\n",
       "      <th></th>\n",
       "      <th></th>\n",
       "    </tr>\n",
       "  </thead>\n",
       "  <tbody>\n",
       "    <tr>\n",
       "      <th>90069</th>\n",
       "      <td>35</td>\n",
       "      <td>7,085.0</td>\n",
       "      <td>6,437.0</td>\n",
       "      <td>21,495.0</td>\n",
       "    </tr>\n",
       "    <tr>\n",
       "      <th>90049</th>\n",
       "      <td>92</td>\n",
       "      <td>6,718.0</td>\n",
       "      <td>6,040.0</td>\n",
       "      <td>23,030.0</td>\n",
       "    </tr>\n",
       "    <tr>\n",
       "      <th>90067</th>\n",
       "      <td>2</td>\n",
       "      <td>5,963.0</td>\n",
       "      <td>5,963.0</td>\n",
       "      <td>6,049.0</td>\n",
       "    </tr>\n",
       "    <tr>\n",
       "      <th>91436</th>\n",
       "      <td>65</td>\n",
       "      <td>5,216.0</td>\n",
       "      <td>4,894.0</td>\n",
       "      <td>13,137.0</td>\n",
       "    </tr>\n",
       "    <tr>\n",
       "      <th>90212</th>\n",
       "      <td>1</td>\n",
       "      <td>4,621.0</td>\n",
       "      <td>4,621.0</td>\n",
       "      <td>4,621.0</td>\n",
       "    </tr>\n",
       "    <tr>\n",
       "      <th>90094</th>\n",
       "      <td>1</td>\n",
       "      <td>4,288.0</td>\n",
       "      <td>4,288.0</td>\n",
       "      <td>4,288.0</td>\n",
       "    </tr>\n",
       "    <tr>\n",
       "      <th>90024</th>\n",
       "      <td>24</td>\n",
       "      <td>4,816.0</td>\n",
       "      <td>4,265.0</td>\n",
       "      <td>9,829.0</td>\n",
       "    </tr>\n",
       "    <tr>\n",
       "      <th>91423</th>\n",
       "      <td>56</td>\n",
       "      <td>4,146.0</td>\n",
       "      <td>4,245.0</td>\n",
       "      <td>10,248.0</td>\n",
       "    </tr>\n",
       "    <tr>\n",
       "      <th>91356</th>\n",
       "      <td>44</td>\n",
       "      <td>3,913.0</td>\n",
       "      <td>4,185.0</td>\n",
       "      <td>8,689.0</td>\n",
       "    </tr>\n",
       "    <tr>\n",
       "      <th>90046</th>\n",
       "      <td>64</td>\n",
       "      <td>4,045.0</td>\n",
       "      <td>4,164.0</td>\n",
       "      <td>15,633.0</td>\n",
       "    </tr>\n",
       "  </tbody>\n",
       "</table>\n",
       "</div>"
      ],
      "text/plain": [
       "          count    mean  median      max\n",
       "zip_code                                \n",
       "90069        35 7,085.0 6,437.0 21,495.0\n",
       "90049        92 6,718.0 6,040.0 23,030.0\n",
       "90067         2 5,963.0 5,963.0  6,049.0\n",
       "91436        65 5,216.0 4,894.0 13,137.0\n",
       "90212         1 4,621.0 4,621.0  4,621.0\n",
       "90094         1 4,288.0 4,288.0  4,288.0\n",
       "90024        24 4,816.0 4,265.0  9,829.0\n",
       "91423        56 4,146.0 4,245.0 10,248.0\n",
       "91356        44 3,913.0 4,185.0  8,689.0\n",
       "90046        64 4,045.0 4,164.0 15,633.0"
      ]
     },
     "execution_count": 65,
     "metadata": {},
     "output_type": "execute_result"
    }
   ],
   "source": [
    "#Top 10 of everything else in the city - by square feet of construction\n",
    "rest_permits.groupby('zip_code').area.agg(['count', 'mean', 'median', 'max']).round().sort_values(by='median', ascending=False).head(10)"
   ]
  },
  {
   "cell_type": "markdown",
   "metadata": {},
   "source": [
    "### Median area (square feet) of new_home_permits by place"
   ]
  },
  {
   "cell_type": "code",
   "execution_count": 66,
   "metadata": {},
   "outputs": [
    {
     "data": {
      "text/plain": [
       "5499.99"
      ]
     },
     "execution_count": 66,
     "metadata": {},
     "output_type": "execute_result"
    }
   ],
   "source": [
    "# Platinum Triangle\n",
    "platinum_permits.area.median()"
   ]
  },
  {
   "cell_type": "code",
   "execution_count": 67,
   "metadata": {},
   "outputs": [
    {
     "data": {
      "text/plain": [
       "8437.0"
      ]
     },
     "execution_count": 67,
     "metadata": {},
     "output_type": "execute_result"
    }
   ],
   "source": [
    "# Bel Air\n",
    "belair_permits.area.median()"
   ]
  },
  {
   "cell_type": "code",
   "execution_count": 68,
   "metadata": {},
   "outputs": [
    {
     "data": {
      "text/plain": [
       "1627.0"
      ]
     },
     "execution_count": 68,
     "metadata": {},
     "output_type": "execute_result"
    }
   ],
   "source": [
    "# Rest of the city\n",
    "rest_permits.area.median()"
   ]
  },
  {
   "cell_type": "markdown",
   "metadata": {},
   "source": [
    "### Top 10: new home permits by all zip codes, with count and average, median and max for square feet"
   ]
  },
  {
   "cell_type": "code",
   "execution_count": 69,
   "metadata": {},
   "outputs": [
    {
     "data": {
      "text/html": [
       "<div>\n",
       "<style scoped>\n",
       "    .dataframe tbody tr th:only-of-type {\n",
       "        vertical-align: middle;\n",
       "    }\n",
       "\n",
       "    .dataframe tbody tr th {\n",
       "        vertical-align: top;\n",
       "    }\n",
       "\n",
       "    .dataframe thead th {\n",
       "        text-align: right;\n",
       "    }\n",
       "</style>\n",
       "<table border=\"1\" class=\"dataframe\">\n",
       "  <thead>\n",
       "    <tr style=\"text-align: right;\">\n",
       "      <th></th>\n",
       "      <th>size</th>\n",
       "      <th>mean</th>\n",
       "      <th>median</th>\n",
       "      <th>max</th>\n",
       "    </tr>\n",
       "    <tr>\n",
       "      <th>zip_code</th>\n",
       "      <th></th>\n",
       "      <th></th>\n",
       "      <th></th>\n",
       "      <th></th>\n",
       "    </tr>\n",
       "  </thead>\n",
       "  <tbody>\n",
       "    <tr>\n",
       "      <th>90077</th>\n",
       "      <td>41</td>\n",
       "      <td>12,515.0</td>\n",
       "      <td>8,437.0</td>\n",
       "      <td>73,934.0</td>\n",
       "    </tr>\n",
       "    <tr>\n",
       "      <th>90069</th>\n",
       "      <td>35</td>\n",
       "      <td>7,085.0</td>\n",
       "      <td>6,437.0</td>\n",
       "      <td>21,495.0</td>\n",
       "    </tr>\n",
       "    <tr>\n",
       "      <th>90049</th>\n",
       "      <td>92</td>\n",
       "      <td>6,718.0</td>\n",
       "      <td>6,040.0</td>\n",
       "      <td>23,030.0</td>\n",
       "    </tr>\n",
       "    <tr>\n",
       "      <th>90067</th>\n",
       "      <td>2</td>\n",
       "      <td>5,963.0</td>\n",
       "      <td>5,963.0</td>\n",
       "      <td>6,049.0</td>\n",
       "    </tr>\n",
       "    <tr>\n",
       "      <th>90210</th>\n",
       "      <td>16</td>\n",
       "      <td>11,080.0</td>\n",
       "      <td>5,815.0</td>\n",
       "      <td>55,667.0</td>\n",
       "    </tr>\n",
       "    <tr>\n",
       "      <th>91436</th>\n",
       "      <td>65</td>\n",
       "      <td>5,216.0</td>\n",
       "      <td>4,894.0</td>\n",
       "      <td>13,137.0</td>\n",
       "    </tr>\n",
       "    <tr>\n",
       "      <th>90272</th>\n",
       "      <td>108</td>\n",
       "      <td>5,412.0</td>\n",
       "      <td>4,812.0</td>\n",
       "      <td>17,266.0</td>\n",
       "    </tr>\n",
       "    <tr>\n",
       "      <th>90212</th>\n",
       "      <td>1</td>\n",
       "      <td>4,621.0</td>\n",
       "      <td>4,621.0</td>\n",
       "      <td>4,621.0</td>\n",
       "    </tr>\n",
       "    <tr>\n",
       "      <th>90094</th>\n",
       "      <td>1</td>\n",
       "      <td>4,288.0</td>\n",
       "      <td>4,288.0</td>\n",
       "      <td>4,288.0</td>\n",
       "    </tr>\n",
       "    <tr>\n",
       "      <th>90024</th>\n",
       "      <td>24</td>\n",
       "      <td>4,816.0</td>\n",
       "      <td>4,265.0</td>\n",
       "      <td>9,829.0</td>\n",
       "    </tr>\n",
       "  </tbody>\n",
       "</table>\n",
       "</div>"
      ],
      "text/plain": [
       "          size     mean  median      max\n",
       "zip_code                                \n",
       "90077       41 12,515.0 8,437.0 73,934.0\n",
       "90069       35  7,085.0 6,437.0 21,495.0\n",
       "90049       92  6,718.0 6,040.0 23,030.0\n",
       "90067        2  5,963.0 5,963.0  6,049.0\n",
       "90210       16 11,080.0 5,815.0 55,667.0\n",
       "91436       65  5,216.0 4,894.0 13,137.0\n",
       "90272      108  5,412.0 4,812.0 17,266.0\n",
       "90212        1  4,621.0 4,621.0  4,621.0\n",
       "90094        1  4,288.0 4,288.0  4,288.0\n",
       "90024       24  4,816.0 4,265.0  9,829.0"
      ]
     },
     "execution_count": 69,
     "metadata": {},
     "output_type": "execute_result"
    }
   ],
   "source": [
    "new_home_permits_all.groupby('zip_code').area.agg(['size', 'mean', 'median', 'max']).round().sort_values(by='median', ascending=False).head(10)"
   ]
  },
  {
   "cell_type": "code",
   "execution_count": null,
   "metadata": {},
   "outputs": [],
   "source": []
  },
  {
   "cell_type": "markdown",
   "metadata": {},
   "source": [
    "### Pivot table with counts by year and zip"
   ]
  },
  {
   "cell_type": "code",
   "execution_count": 70,
   "metadata": {},
   "outputs": [
    {
     "data": {
      "text/html": [
       "<div>\n",
       "<style scoped>\n",
       "    .dataframe tbody tr th:only-of-type {\n",
       "        vertical-align: middle;\n",
       "    }\n",
       "\n",
       "    .dataframe tbody tr th {\n",
       "        vertical-align: top;\n",
       "    }\n",
       "\n",
       "    .dataframe thead th {\n",
       "        text-align: right;\n",
       "    }\n",
       "</style>\n",
       "<table border=\"1\" class=\"dataframe\">\n",
       "  <thead>\n",
       "    <tr style=\"text-align: right;\">\n",
       "      <th></th>\n",
       "      <th>min</th>\n",
       "      <th>max</th>\n",
       "      <th>mean</th>\n",
       "      <th>median</th>\n",
       "    </tr>\n",
       "  </thead>\n",
       "  <tbody>\n",
       "    <tr>\n",
       "      <th>area</th>\n",
       "      <td>142.0</td>\n",
       "      <td>73,934.0</td>\n",
       "      <td>12,515.0</td>\n",
       "      <td>8,437.0</td>\n",
       "    </tr>\n",
       "  </tbody>\n",
       "</table>\n",
       "</div>"
      ],
      "text/plain": [
       "       min      max     mean  median\n",
       "area 142.0 73,934.0 12,515.0 8,437.0"
      ]
     },
     "execution_count": 70,
     "metadata": {},
     "output_type": "execute_result"
    }
   ],
   "source": [
    "belair_permits_agg = belair_permits.agg({'area': ['min', 'max', 'mean', 'median']})\n",
    "belair_permits_agg.T.round(0)"
   ]
  },
  {
   "cell_type": "code",
   "execution_count": 71,
   "metadata": {},
   "outputs": [],
   "source": [
    "belair_permits_grouped_area = belair_permits.groupby(['year-issued', 'zip_code']).median()[['area']].round(0).sort_values(by='area', ascending=False).reset_index()"
   ]
  },
  {
   "cell_type": "code",
   "execution_count": 72,
   "metadata": {},
   "outputs": [
    {
     "data": {
      "text/html": [
       "<div>\n",
       "<style scoped>\n",
       "    .dataframe tbody tr th:only-of-type {\n",
       "        vertical-align: middle;\n",
       "    }\n",
       "\n",
       "    .dataframe tbody tr th {\n",
       "        vertical-align: top;\n",
       "    }\n",
       "\n",
       "    .dataframe thead th {\n",
       "        text-align: right;\n",
       "    }\n",
       "</style>\n",
       "<table border=\"1\" class=\"dataframe\">\n",
       "  <thead>\n",
       "    <tr style=\"text-align: right;\">\n",
       "      <th></th>\n",
       "      <th>year-issued</th>\n",
       "      <th>zip_code</th>\n",
       "      <th>area</th>\n",
       "    </tr>\n",
       "  </thead>\n",
       "  <tbody>\n",
       "    <tr>\n",
       "      <th>0</th>\n",
       "      <td>2015</td>\n",
       "      <td>90077</td>\n",
       "      <td>18,998.0</td>\n",
       "    </tr>\n",
       "    <tr>\n",
       "      <th>1</th>\n",
       "      <td>2016</td>\n",
       "      <td>90077</td>\n",
       "      <td>9,810.0</td>\n",
       "    </tr>\n",
       "    <tr>\n",
       "      <th>2</th>\n",
       "      <td>2013</td>\n",
       "      <td>90077</td>\n",
       "      <td>8,437.0</td>\n",
       "    </tr>\n",
       "    <tr>\n",
       "      <th>3</th>\n",
       "      <td>2014</td>\n",
       "      <td>90077</td>\n",
       "      <td>8,436.0</td>\n",
       "    </tr>\n",
       "    <tr>\n",
       "      <th>4</th>\n",
       "      <td>2018</td>\n",
       "      <td>90077</td>\n",
       "      <td>8,206.0</td>\n",
       "    </tr>\n",
       "    <tr>\n",
       "      <th>5</th>\n",
       "      <td>2017</td>\n",
       "      <td>90077</td>\n",
       "      <td>7,444.0</td>\n",
       "    </tr>\n",
       "    <tr>\n",
       "      <th>6</th>\n",
       "      <td>2019</td>\n",
       "      <td>90077</td>\n",
       "      <td>5,701.0</td>\n",
       "    </tr>\n",
       "  </tbody>\n",
       "</table>\n",
       "</div>"
      ],
      "text/plain": [
       "  year-issued zip_code     area\n",
       "0        2015    90077 18,998.0\n",
       "1        2016    90077  9,810.0\n",
       "2        2013    90077  8,437.0\n",
       "3        2014    90077  8,436.0\n",
       "4        2018    90077  8,206.0\n",
       "5        2017    90077  7,444.0\n",
       "6        2019    90077  5,701.0"
      ]
     },
     "execution_count": 72,
     "metadata": {},
     "output_type": "execute_result"
    }
   ],
   "source": [
    "belair_permits_grouped_area.head(10)"
   ]
  },
  {
   "cell_type": "code",
   "execution_count": 73,
   "metadata": {},
   "outputs": [
    {
     "data": {
      "text/html": [
       "<div>\n",
       "<style scoped>\n",
       "    .dataframe tbody tr th:only-of-type {\n",
       "        vertical-align: middle;\n",
       "    }\n",
       "\n",
       "    .dataframe tbody tr th {\n",
       "        vertical-align: top;\n",
       "    }\n",
       "\n",
       "    .dataframe thead th {\n",
       "        text-align: right;\n",
       "    }\n",
       "</style>\n",
       "<table border=\"1\" class=\"dataframe\">\n",
       "  <thead>\n",
       "    <tr style=\"text-align: right;\">\n",
       "      <th>year-issued</th>\n",
       "      <th>zip_code</th>\n",
       "      <th>2013</th>\n",
       "      <th>2014</th>\n",
       "      <th>2015</th>\n",
       "      <th>2016</th>\n",
       "      <th>2017</th>\n",
       "      <th>2018</th>\n",
       "      <th>2019</th>\n",
       "    </tr>\n",
       "  </thead>\n",
       "  <tbody>\n",
       "    <tr>\n",
       "      <th>0</th>\n",
       "      <td>90077</td>\n",
       "      <td>8,437.0</td>\n",
       "      <td>8,436.0</td>\n",
       "      <td>18,998.0</td>\n",
       "      <td>9,810.0</td>\n",
       "      <td>7,444.0</td>\n",
       "      <td>8,206.0</td>\n",
       "      <td>5,701.0</td>\n",
       "    </tr>\n",
       "  </tbody>\n",
       "</table>\n",
       "</div>"
      ],
      "text/plain": [
       "year-issued zip_code    2013    2014     2015    2016    2017    2018    2019\n",
       "0              90077 8,437.0 8,436.0 18,998.0 9,810.0 7,444.0 8,206.0 5,701.0"
      ]
     },
     "execution_count": 73,
     "metadata": {},
     "output_type": "execute_result"
    }
   ],
   "source": [
    "belair_permits_grouped_area.pivot(index='zip_code', columns='year-issued', values='area').reset_index()"
   ]
  },
  {
   "cell_type": "code",
   "execution_count": null,
   "metadata": {},
   "outputs": [],
   "source": []
  },
  {
   "cell_type": "code",
   "execution_count": 74,
   "metadata": {},
   "outputs": [
    {
     "data": {
      "text/html": [
       "<div>\n",
       "<style scoped>\n",
       "    .dataframe tbody tr th:only-of-type {\n",
       "        vertical-align: middle;\n",
       "    }\n",
       "\n",
       "    .dataframe tbody tr th {\n",
       "        vertical-align: top;\n",
       "    }\n",
       "\n",
       "    .dataframe thead th {\n",
       "        text-align: right;\n",
       "    }\n",
       "</style>\n",
       "<table border=\"1\" class=\"dataframe\">\n",
       "  <thead>\n",
       "    <tr style=\"text-align: right;\">\n",
       "      <th></th>\n",
       "      <th></th>\n",
       "      <th>area</th>\n",
       "    </tr>\n",
       "    <tr>\n",
       "      <th>year-issued</th>\n",
       "      <th>zip_code</th>\n",
       "      <th></th>\n",
       "    </tr>\n",
       "  </thead>\n",
       "  <tbody>\n",
       "    <tr>\n",
       "      <th>2018</th>\n",
       "      <th>90210</th>\n",
       "      <td>28,028.0</td>\n",
       "    </tr>\n",
       "    <tr>\n",
       "      <th>2015</th>\n",
       "      <th>90077</th>\n",
       "      <td>18,998.0</td>\n",
       "    </tr>\n",
       "    <tr>\n",
       "      <th>2016</th>\n",
       "      <th>90077</th>\n",
       "      <td>9,810.0</td>\n",
       "    </tr>\n",
       "    <tr>\n",
       "      <th>2013</th>\n",
       "      <th>90077</th>\n",
       "      <td>8,437.0</td>\n",
       "    </tr>\n",
       "    <tr>\n",
       "      <th>2014</th>\n",
       "      <th>90077</th>\n",
       "      <td>8,436.0</td>\n",
       "    </tr>\n",
       "    <tr>\n",
       "      <th>2016</th>\n",
       "      <th>90210</th>\n",
       "      <td>8,351.0</td>\n",
       "    </tr>\n",
       "    <tr>\n",
       "      <th>2018</th>\n",
       "      <th>90077</th>\n",
       "      <td>8,206.0</td>\n",
       "    </tr>\n",
       "    <tr>\n",
       "      <th rowspan=\"2\" valign=\"top\">2017</th>\n",
       "      <th>90077</th>\n",
       "      <td>7,444.0</td>\n",
       "    </tr>\n",
       "    <tr>\n",
       "      <th>90210</th>\n",
       "      <td>6,277.0</td>\n",
       "    </tr>\n",
       "    <tr>\n",
       "      <th>2019</th>\n",
       "      <th>90077</th>\n",
       "      <td>5,701.0</td>\n",
       "    </tr>\n",
       "    <tr>\n",
       "      <th>2018</th>\n",
       "      <th>90272</th>\n",
       "      <td>5,651.0</td>\n",
       "    </tr>\n",
       "    <tr>\n",
       "      <th>2015</th>\n",
       "      <th>90210</th>\n",
       "      <td>5,502.0</td>\n",
       "    </tr>\n",
       "    <tr>\n",
       "      <th>2013</th>\n",
       "      <th>90210</th>\n",
       "      <td>5,294.0</td>\n",
       "    </tr>\n",
       "    <tr>\n",
       "      <th>2017</th>\n",
       "      <th>90272</th>\n",
       "      <td>5,198.0</td>\n",
       "    </tr>\n",
       "    <tr>\n",
       "      <th>2015</th>\n",
       "      <th>90272</th>\n",
       "      <td>5,039.0</td>\n",
       "    </tr>\n",
       "    <tr>\n",
       "      <th>2014</th>\n",
       "      <th>90272</th>\n",
       "      <td>4,826.0</td>\n",
       "    </tr>\n",
       "    <tr>\n",
       "      <th>2016</th>\n",
       "      <th>90272</th>\n",
       "      <td>4,348.0</td>\n",
       "    </tr>\n",
       "    <tr>\n",
       "      <th rowspan=\"2\" valign=\"top\">2019</th>\n",
       "      <th>90210</th>\n",
       "      <td>4,333.0</td>\n",
       "    </tr>\n",
       "    <tr>\n",
       "      <th>90272</th>\n",
       "      <td>4,296.0</td>\n",
       "    </tr>\n",
       "    <tr>\n",
       "      <th>2013</th>\n",
       "      <th>90272</th>\n",
       "      <td>3,566.0</td>\n",
       "    </tr>\n",
       "  </tbody>\n",
       "</table>\n",
       "</div>"
      ],
      "text/plain": [
       "                         area\n",
       "year-issued zip_code         \n",
       "2018        90210    28,028.0\n",
       "2015        90077    18,998.0\n",
       "2016        90077     9,810.0\n",
       "2013        90077     8,437.0\n",
       "2014        90077     8,436.0\n",
       "2016        90210     8,351.0\n",
       "2018        90077     8,206.0\n",
       "2017        90077     7,444.0\n",
       "            90210     6,277.0\n",
       "2019        90077     5,701.0\n",
       "2018        90272     5,651.0\n",
       "2015        90210     5,502.0\n",
       "2013        90210     5,294.0\n",
       "2017        90272     5,198.0\n",
       "2015        90272     5,039.0\n",
       "2014        90272     4,826.0\n",
       "2016        90272     4,348.0\n",
       "2019        90210     4,333.0\n",
       "            90272     4,296.0\n",
       "2013        90272     3,566.0"
      ]
     },
     "execution_count": 74,
     "metadata": {},
     "output_type": "execute_result"
    }
   ],
   "source": [
    "platinum_permits.groupby(['year-issued', 'zip_code']).median()[['area']].round(0).sort_values(by='area', ascending=False)"
   ]
  },
  {
   "cell_type": "code",
   "execution_count": 75,
   "metadata": {},
   "outputs": [
    {
     "data": {
      "text/html": [
       "<div>\n",
       "<style scoped>\n",
       "    .dataframe tbody tr th:only-of-type {\n",
       "        vertical-align: middle;\n",
       "    }\n",
       "\n",
       "    .dataframe tbody tr th {\n",
       "        vertical-align: top;\n",
       "    }\n",
       "\n",
       "    .dataframe thead th {\n",
       "        text-align: right;\n",
       "    }\n",
       "</style>\n",
       "<table border=\"1\" class=\"dataframe\">\n",
       "  <thead>\n",
       "    <tr style=\"text-align: right;\">\n",
       "      <th></th>\n",
       "      <th>year-issued</th>\n",
       "      <th>address_start</th>\n",
       "      <th>street_name</th>\n",
       "      <th>area</th>\n",
       "    </tr>\n",
       "  </thead>\n",
       "  <tbody>\n",
       "    <tr>\n",
       "      <th>690283</th>\n",
       "      <td>2014</td>\n",
       "      <td>944.0</td>\n",
       "      <td>AIROLE</td>\n",
       "      <td>73,934.0</td>\n",
       "    </tr>\n",
       "    <tr>\n",
       "      <th>367841</th>\n",
       "      <td>2016</td>\n",
       "      <td>800.0</td>\n",
       "      <td>TORTUOSO</td>\n",
       "      <td>56,797.0</td>\n",
       "    </tr>\n",
       "    <tr>\n",
       "      <th>600220</th>\n",
       "      <td>2015</td>\n",
       "      <td>800.0</td>\n",
       "      <td>STRADELLA</td>\n",
       "      <td>25,832.0</td>\n",
       "    </tr>\n",
       "    <tr>\n",
       "      <th>147975</th>\n",
       "      <td>2016</td>\n",
       "      <td>642.0</td>\n",
       "      <td>SAINT CLOUD</td>\n",
       "      <td>21,669.0</td>\n",
       "    </tr>\n",
       "    <tr>\n",
       "      <th>847239</th>\n",
       "      <td>2015</td>\n",
       "      <td>454.0</td>\n",
       "      <td>CUESTA</td>\n",
       "      <td>21,058.0</td>\n",
       "    </tr>\n",
       "    <tr>\n",
       "      <th>343720</th>\n",
       "      <td>2015</td>\n",
       "      <td>10701.0</td>\n",
       "      <td>BELLAGIO</td>\n",
       "      <td>20,196.0</td>\n",
       "    </tr>\n",
       "    <tr>\n",
       "      <th>81261</th>\n",
       "      <td>2016</td>\n",
       "      <td>805.0</td>\n",
       "      <td>NIMES</td>\n",
       "      <td>18,584.0</td>\n",
       "    </tr>\n",
       "    <tr>\n",
       "      <th>749551</th>\n",
       "      <td>2015</td>\n",
       "      <td>1516.0</td>\n",
       "      <td>STONE CANYON</td>\n",
       "      <td>17,800.0</td>\n",
       "    </tr>\n",
       "    <tr>\n",
       "      <th>439601</th>\n",
       "      <td>2014</td>\n",
       "      <td>10460.0</td>\n",
       "      <td>REVUELTA</td>\n",
       "      <td>17,481.0</td>\n",
       "    </tr>\n",
       "    <tr>\n",
       "      <th>965488</th>\n",
       "      <td>2017</td>\n",
       "      <td>10830.0</td>\n",
       "      <td>CHALON</td>\n",
       "      <td>16,536.0</td>\n",
       "    </tr>\n",
       "    <tr>\n",
       "      <th>693641</th>\n",
       "      <td>2015</td>\n",
       "      <td>10451.0</td>\n",
       "      <td>BELLAGIO</td>\n",
       "      <td>14,645.0</td>\n",
       "    </tr>\n",
       "    <tr>\n",
       "      <th>857762</th>\n",
       "      <td>2013</td>\n",
       "      <td>1210.0</td>\n",
       "      <td>CHANTILLY</td>\n",
       "      <td>12,163.0</td>\n",
       "    </tr>\n",
       "    <tr>\n",
       "      <th>761724</th>\n",
       "      <td>2017</td>\n",
       "      <td>1475.0</td>\n",
       "      <td>BEL-AIR</td>\n",
       "      <td>12,076.38</td>\n",
       "    </tr>\n",
       "    <tr>\n",
       "      <th>661885</th>\n",
       "      <td>2013</td>\n",
       "      <td>670.0</td>\n",
       "      <td>PERUGIA</td>\n",
       "      <td>11,562.0</td>\n",
       "    </tr>\n",
       "    <tr>\n",
       "      <th>716205</th>\n",
       "      <td>2018</td>\n",
       "      <td>1047.0</td>\n",
       "      <td>SOMERA</td>\n",
       "      <td>11,228.0</td>\n",
       "    </tr>\n",
       "    <tr>\n",
       "      <th>967368</th>\n",
       "      <td>2014</td>\n",
       "      <td>320.0</td>\n",
       "      <td>CAROLWOOD</td>\n",
       "      <td>9,971.0</td>\n",
       "    </tr>\n",
       "    <tr>\n",
       "      <th>180936</th>\n",
       "      <td>2016</td>\n",
       "      <td>929.0</td>\n",
       "      <td>STONE CANYON</td>\n",
       "      <td>9,810.0</td>\n",
       "    </tr>\n",
       "    <tr>\n",
       "      <th>716154</th>\n",
       "      <td>2018</td>\n",
       "      <td>761.0</td>\n",
       "      <td>BEL-AIR</td>\n",
       "      <td>9,654.0</td>\n",
       "    </tr>\n",
       "    <tr>\n",
       "      <th>120053</th>\n",
       "      <td>2018</td>\n",
       "      <td>2010.0</td>\n",
       "      <td>STRADELLA</td>\n",
       "      <td>9,586.0</td>\n",
       "    </tr>\n",
       "    <tr>\n",
       "      <th>85766</th>\n",
       "      <td>2017</td>\n",
       "      <td>10649.0</td>\n",
       "      <td>CAPELLO</td>\n",
       "      <td>8,842.0</td>\n",
       "    </tr>\n",
       "    <tr>\n",
       "      <th>830358</th>\n",
       "      <td>2013</td>\n",
       "      <td>10720.0</td>\n",
       "      <td>CHALON</td>\n",
       "      <td>8,437.0</td>\n",
       "    </tr>\n",
       "    <tr>\n",
       "      <th>115960</th>\n",
       "      <td>2014</td>\n",
       "      <td>944.0</td>\n",
       "      <td>AIROLE</td>\n",
       "      <td>8,436.0</td>\n",
       "    </tr>\n",
       "    <tr>\n",
       "      <th>627339</th>\n",
       "      <td>2016</td>\n",
       "      <td>930.0</td>\n",
       "      <td>ROSCOMARE</td>\n",
       "      <td>7,994.0</td>\n",
       "    </tr>\n",
       "    <tr>\n",
       "      <th>109002</th>\n",
       "      <td>2017</td>\n",
       "      <td>2150.0</td>\n",
       "      <td>STRADELLA</td>\n",
       "      <td>7,667.0</td>\n",
       "    </tr>\n",
       "    <tr>\n",
       "      <th>739269</th>\n",
       "      <td>2016</td>\n",
       "      <td>10901.0</td>\n",
       "      <td>CHALON</td>\n",
       "      <td>7,471.0</td>\n",
       "    </tr>\n",
       "    <tr>\n",
       "      <th>418521</th>\n",
       "      <td>2017</td>\n",
       "      <td>10960.0</td>\n",
       "      <td>VERANO</td>\n",
       "      <td>7,444.0</td>\n",
       "    </tr>\n",
       "    <tr>\n",
       "      <th>900358</th>\n",
       "      <td>2017</td>\n",
       "      <td>15482.0</td>\n",
       "      <td>MILLDALE</td>\n",
       "      <td>7,025.0</td>\n",
       "    </tr>\n",
       "    <tr>\n",
       "      <th>208135</th>\n",
       "      <td>2014</td>\n",
       "      <td>2770.0</td>\n",
       "      <td>ROSCOMARE</td>\n",
       "      <td>7,018.0</td>\n",
       "    </tr>\n",
       "    <tr>\n",
       "      <th>85903</th>\n",
       "      <td>2018</td>\n",
       "      <td>1030.0</td>\n",
       "      <td>SOMERA</td>\n",
       "      <td>6,827.0</td>\n",
       "    </tr>\n",
       "    <tr>\n",
       "      <th>422347</th>\n",
       "      <td>2018</td>\n",
       "      <td>10888.0</td>\n",
       "      <td>CHALON</td>\n",
       "      <td>6,291.0</td>\n",
       "    </tr>\n",
       "    <tr>\n",
       "      <th>270783</th>\n",
       "      <td>2017</td>\n",
       "      <td>10870.0</td>\n",
       "      <td>VICENZA</td>\n",
       "      <td>6,290.0</td>\n",
       "    </tr>\n",
       "    <tr>\n",
       "      <th>485304</th>\n",
       "      <td>2019</td>\n",
       "      <td>982.0</td>\n",
       "      <td>STONE CANYON</td>\n",
       "      <td>5,701.0</td>\n",
       "    </tr>\n",
       "    <tr>\n",
       "      <th>603381</th>\n",
       "      <td>2017</td>\n",
       "      <td>10825.0</td>\n",
       "      <td>VICENZA</td>\n",
       "      <td>5,665.0</td>\n",
       "    </tr>\n",
       "    <tr>\n",
       "      <th>124253</th>\n",
       "      <td>2015</td>\n",
       "      <td>1749.0</td>\n",
       "      <td>STONE CANYON</td>\n",
       "      <td>4,741.0</td>\n",
       "    </tr>\n",
       "    <tr>\n",
       "      <th>397390</th>\n",
       "      <td>2013</td>\n",
       "      <td>10111.0</td>\n",
       "      <td>ANGELO</td>\n",
       "      <td>4,476.0</td>\n",
       "    </tr>\n",
       "    <tr>\n",
       "      <th>438160</th>\n",
       "      <td>2018</td>\n",
       "      <td>1624.0</td>\n",
       "      <td>BEVERLY GLEN</td>\n",
       "      <td>4,400.0</td>\n",
       "    </tr>\n",
       "    <tr>\n",
       "      <th>540930</th>\n",
       "      <td>2014</td>\n",
       "      <td>1979.0</td>\n",
       "      <td>STRADELLA</td>\n",
       "      <td>3,892.0</td>\n",
       "    </tr>\n",
       "    <tr>\n",
       "      <th>677411</th>\n",
       "      <td>2014</td>\n",
       "      <td>2064.0</td>\n",
       "      <td>BEVERLY GLEN</td>\n",
       "      <td>2,323.0</td>\n",
       "    </tr>\n",
       "    <tr>\n",
       "      <th>188842</th>\n",
       "      <td>2013</td>\n",
       "      <td>721.0</td>\n",
       "      <td>DOLO</td>\n",
       "      <td>1,049.0</td>\n",
       "    </tr>\n",
       "    <tr>\n",
       "      <th>467410</th>\n",
       "      <td>2016</td>\n",
       "      <td>10451.0</td>\n",
       "      <td>BELLAGIO</td>\n",
       "      <td>399.0</td>\n",
       "    </tr>\n",
       "    <tr>\n",
       "      <th>230756</th>\n",
       "      <td>2017</td>\n",
       "      <td>944.0</td>\n",
       "      <td>AIROLE</td>\n",
       "      <td>142.0</td>\n",
       "    </tr>\n",
       "  </tbody>\n",
       "</table>\n",
       "</div>"
      ],
      "text/plain": [
       "       year-issued address_start   street_name      area\n",
       "690283        2014         944.0        AIROLE  73,934.0\n",
       "367841        2016         800.0      TORTUOSO  56,797.0\n",
       "600220        2015         800.0     STRADELLA  25,832.0\n",
       "147975        2016         642.0   SAINT CLOUD  21,669.0\n",
       "847239        2015         454.0        CUESTA  21,058.0\n",
       "343720        2015       10701.0      BELLAGIO  20,196.0\n",
       "81261         2016         805.0         NIMES  18,584.0\n",
       "749551        2015        1516.0  STONE CANYON  17,800.0\n",
       "439601        2014       10460.0      REVUELTA  17,481.0\n",
       "965488        2017       10830.0        CHALON  16,536.0\n",
       "693641        2015       10451.0      BELLAGIO  14,645.0\n",
       "857762        2013        1210.0     CHANTILLY  12,163.0\n",
       "761724        2017        1475.0       BEL-AIR 12,076.38\n",
       "661885        2013         670.0       PERUGIA  11,562.0\n",
       "716205        2018        1047.0        SOMERA  11,228.0\n",
       "967368        2014         320.0     CAROLWOOD   9,971.0\n",
       "180936        2016         929.0  STONE CANYON   9,810.0\n",
       "716154        2018         761.0       BEL-AIR   9,654.0\n",
       "120053        2018        2010.0     STRADELLA   9,586.0\n",
       "85766         2017       10649.0       CAPELLO   8,842.0\n",
       "830358        2013       10720.0        CHALON   8,437.0\n",
       "115960        2014         944.0        AIROLE   8,436.0\n",
       "627339        2016         930.0     ROSCOMARE   7,994.0\n",
       "109002        2017        2150.0     STRADELLA   7,667.0\n",
       "739269        2016       10901.0        CHALON   7,471.0\n",
       "418521        2017       10960.0        VERANO   7,444.0\n",
       "900358        2017       15482.0      MILLDALE   7,025.0\n",
       "208135        2014        2770.0     ROSCOMARE   7,018.0\n",
       "85903         2018        1030.0        SOMERA   6,827.0\n",
       "422347        2018       10888.0        CHALON   6,291.0\n",
       "270783        2017       10870.0       VICENZA   6,290.0\n",
       "485304        2019         982.0  STONE CANYON   5,701.0\n",
       "603381        2017       10825.0       VICENZA   5,665.0\n",
       "124253        2015        1749.0  STONE CANYON   4,741.0\n",
       "397390        2013       10111.0        ANGELO   4,476.0\n",
       "438160        2018        1624.0  BEVERLY GLEN   4,400.0\n",
       "540930        2014        1979.0     STRADELLA   3,892.0\n",
       "677411        2014        2064.0  BEVERLY GLEN   2,323.0\n",
       "188842        2013         721.0          DOLO   1,049.0\n",
       "467410        2016       10451.0      BELLAGIO     399.0\n",
       "230756        2017         944.0        AIROLE     142.0"
      ]
     },
     "execution_count": 75,
     "metadata": {},
     "output_type": "execute_result"
    }
   ],
   "source": [
    "belair_permits[['year-issued', 'address_start', 'street_name', 'area']].sort_values(by='area', ascending=False)"
   ]
  },
  {
   "cell_type": "code",
   "execution_count": 79,
   "metadata": {},
   "outputs": [
    {
     "data": {
      "text/plain": [
       "assessor_book                                                                           4370\n",
       "assessor_page                                                                            021\n",
       "assessor_parcel                                                                          020\n",
       "tract                                                                                BEL-AIR\n",
       "block                                                                                    NaN\n",
       "lot                                                                                     LT L\n",
       "reference_#_old_permit_#                                                           19WL98595\n",
       "pcis_permit_#                                                              18010-30000-03707\n",
       "status                                                                                Issued\n",
       "status_date                                                              2019-05-01 00:00:00\n",
       "permit_type                                                                         Bldg-New\n",
       "permit_sub-type                                                       1 or 2 Family Dwelling\n",
       "permit_category                                                                   Plan Check\n",
       "project_number                                                                           nan\n",
       "event_code                                                                               NaN\n",
       "initiating_office                                                                    WEST LA\n",
       "issue_date                                                               2019-05-01 00:00:00\n",
       "address_start                                                                          982.0\n",
       "address_fraction_start                                                                   NaN\n",
       "address_end                                                                            982.0\n",
       "address_fraction_end                                                                     NaN\n",
       "street_direction                                                                           N\n",
       "street_name                                                                     STONE CANYON\n",
       "street_suffix                                                                           ROAD\n",
       "suffix_direction                                                                         NaN\n",
       "unit_range_start                                                                         NaN\n",
       "unit_range_end                                                                           NaN\n",
       "zip_code                                                                               90077\n",
       "work_description                            NEW SINGLE FAMILY DWELLING WITH ATTACHED GARAGE.\n",
       "valuation                                                                        2,000,000.0\n",
       "                                                                  ...                       \n",
       "license_#                                                                           488695.0\n",
       "principal_first_name                                                                    GARY\n",
       "principal_middle_name                                                                 STEFEN\n",
       "principal_last_name                                                               SILVERSTON\n",
       "license_expiration_date                                                           03/31/2020\n",
       "applicant_first_name                                                                    GARY\n",
       "applicant_last_name                                                               SILVERSTON\n",
       "applicant_business_name                                                                  NaN\n",
       "applicant_address_1                                                                        -\n",
       "applicant_address_2                                                                        -\n",
       "applicant_address_3                                                                        -\n",
       "zone                                                                            RE20-1-H-HCR\n",
       "occupancy                                                                                NaN\n",
       "floor_area-l.a._building_code_definition                                             6,759.9\n",
       "census_tract                                                                          2621.0\n",
       "council_district                                                                         5.0\n",
       "latitude/longitude                                                    (34.09207, -118.44794)\n",
       "applicant_relationship                                                       Agent for Owner\n",
       "existing_code                                                                            nan\n",
       "proposed_code                                                                            1.0\n",
       "year-issued                                                                             2019\n",
       "month-issued                                                                               5\n",
       "weekday-issued                                                                     Wednesday\n",
       "year-status                                                                             2019\n",
       "month-status                                                                               5\n",
       "weekday-status                                                                     Wednesday\n",
       "area                                                                                 5,701.0\n",
       "location                                                                34.09207, -118.44794\n",
       "latitude                                                                            34.09207\n",
       "longitude                                                                         -118.44794\n",
       "Name: 485304, Length: 69, dtype: object"
      ]
     },
     "execution_count": 79,
     "metadata": {},
     "output_type": "execute_result"
    }
   ],
   "source": [
    "belair_permits.loc[485304]"
   ]
  },
  {
   "cell_type": "markdown",
   "metadata": {},
   "source": [
    "### Median area for new homes in all zip codes"
   ]
  },
  {
   "cell_type": "code",
   "execution_count": null,
   "metadata": {},
   "outputs": [],
   "source": [
    "median_area_all = new_home_permits_all.groupby('zip_code').mean()[['area']].round(0).sort_values(by='area', ascending=False)"
   ]
  },
  {
   "cell_type": "markdown",
   "metadata": {},
   "source": [
    "### Median area for new homes in all zip codes, top 10"
   ]
  },
  {
   "cell_type": "code",
   "execution_count": null,
   "metadata": {},
   "outputs": [],
   "source": [
    "median_area_all.head(10)"
   ]
  },
  {
   "cell_type": "markdown",
   "metadata": {},
   "source": [
    "### Basic descriptives about platinum/bel air zip code permits"
   ]
  },
  {
   "cell_type": "code",
   "execution_count": null,
   "metadata": {
    "scrolled": true
   },
   "outputs": [],
   "source": [
    "platinum_permits.describe(include=['number']).round()\n",
    "belair_permits.describe(include=['number']).round()"
   ]
  },
  {
   "cell_type": "code",
   "execution_count": null,
   "metadata": {},
   "outputs": [],
   "source": [
    "belair_permits['area'].median()"
   ]
  },
  {
   "cell_type": "code",
   "execution_count": null,
   "metadata": {},
   "outputs": [],
   "source": [
    "permit_types = belair_permits.groupby(['permit_type']).agg('size').sort_values(ascending=False).reset_index()"
   ]
  },
  {
   "cell_type": "code",
   "execution_count": null,
   "metadata": {},
   "outputs": [],
   "source": [
    "permit_sub_types = belair_permits.groupby(['permit_sub-type']).agg('size').sort_values(ascending=False).reset_index()"
   ]
  },
  {
   "cell_type": "code",
   "execution_count": null,
   "metadata": {},
   "outputs": [],
   "source": [
    "permit_types"
   ]
  },
  {
   "cell_type": "code",
   "execution_count": null,
   "metadata": {},
   "outputs": [],
   "source": [
    "permit_sub_types"
   ]
  },
  {
   "cell_type": "markdown",
   "metadata": {},
   "source": [
    "### How many have been issued?"
   ]
  },
  {
   "cell_type": "code",
   "execution_count": null,
   "metadata": {},
   "outputs": [],
   "source": [
    "zip_count = platinum_permits['year-issued'].groupby(platinum_permits['zip_code'])\n",
    "year_count = platinum_permits['zip_code'].groupby(platinum_permits['year-issued'])\n",
    "license_count = platinum_permits['zip_code'].groupby(platinum_permits['license_type'])"
   ]
  },
  {
   "cell_type": "code",
   "execution_count": null,
   "metadata": {},
   "outputs": [],
   "source": [
    "year_count.count()"
   ]
  },
  {
   "cell_type": "code",
   "execution_count": null,
   "metadata": {},
   "outputs": [],
   "source": [
    "zip_count.count()"
   ]
  },
  {
   "cell_type": "code",
   "execution_count": null,
   "metadata": {},
   "outputs": [],
   "source": [
    "license_count.count()"
   ]
  },
  {
   "cell_type": "code",
   "execution_count": null,
   "metadata": {},
   "outputs": [],
   "source": []
  },
  {
   "cell_type": "code",
   "execution_count": null,
   "metadata": {},
   "outputs": [],
   "source": []
  },
  {
   "cell_type": "code",
   "execution_count": null,
   "metadata": {},
   "outputs": [],
   "source": []
  }
 ],
 "metadata": {
  "kernelspec": {
   "display_name": "Python 3",
   "language": "python",
   "name": "python3"
  },
  "language_info": {
   "codemirror_mode": {
    "name": "ipython",
    "version": 3
   },
   "file_extension": ".py",
   "mimetype": "text/x-python",
   "name": "python",
   "nbconvert_exporter": "python",
   "pygments_lexer": "ipython3",
   "version": "3.6.3rc1"
  }
 },
 "nbformat": 4,
 "nbformat_minor": 2
}
