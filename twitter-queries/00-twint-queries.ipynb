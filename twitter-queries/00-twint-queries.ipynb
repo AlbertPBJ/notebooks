{
 "cells": [
  {
   "cell_type": "code",
   "execution_count": 2,
   "metadata": {},
   "outputs": [],
   "source": [
    "import twint\n",
    "import nest_asyncio\n",
    "nest_asyncio.apply()"
   ]
  },
  {
   "cell_type": "code",
   "execution_count": 3,
   "metadata": {},
   "outputs": [],
   "source": [
    "c = twint.Config()"
   ]
  },
  {
   "cell_type": "code",
   "execution_count": 4,
   "metadata": {},
   "outputs": [],
   "source": [
    "c.Username = \"stiles\""
   ]
  },
  {
   "cell_type": "code",
   "execution_count": null,
   "metadata": {},
   "outputs": [
    {
     "name": "stderr",
     "output_type": "stream",
     "text": [
      "CRITICAL:root:twint.run:Twint:Feed:noDataExpecting value: line 1 column 1 (char 0)\n",
      "CRITICAL:root:twint.run:Twint:Feed:noDataExpecting value: line 1 column 1 (char 0)\n",
      "CRITICAL:root:twint.run:Twint:Feed:noDataExpecting value: line 1 column 1 (char 0)\n",
      "CRITICAL:root:twint.run:Twint:Feed:noDataExpecting value: line 1 column 1 (char 0)\n",
      "CRITICAL:root:twint.run:Twint:Feed:noDataExpecting value: line 1 column 1 (char 0)\n",
      "CRITICAL:root:twint.run:Twint:Feed:noDataExpecting value: line 1 column 1 (char 0)\n",
      "CRITICAL:root:twint.run:Twint:Feed:noDataExpecting value: line 1 column 1 (char 0)\n",
      "CRITICAL:root:twint.run:Twint:Feed:noDataExpecting value: line 1 column 1 (char 0)\n"
     ]
    },
    {
     "name": "stdout",
     "output_type": "stream",
     "text": [
      "1200623581593399299 2019-11-29 19:52:23 PST <stiles> \"No Adobe Illustrator...\" https://twitter.com/palewire/status/1200086925140316160 …\n",
      "1200239402137473024 2019-11-28 18:25:47 PST <stiles> So 15 years ago, an editor made me write this when I drew the short straw during a Thanksgiving shift. pic.twitter.com/CjIVA7IqrY\n",
      "1200215748737519617 2019-11-28 16:51:48 PST <stiles> NOM pic.twitter.com/7dkzakhdo9\n",
      "1200092093797896192 2019-11-28 08:40:26 PST <stiles> One of L.A.’s most powerful politicians is searching for his homeless son — cameras in tow https://www.latimes.com/california/story/2019-11-28/herb-wesson-son-homeless-campaign-ad-doug …\n",
      "1199703005576085505 2019-11-27 06:54:20 PST <stiles> Strained by wildfires, L.A. County firefighters want voters to approve a tax increase https://www.latimes.com/california/story/2019-11-27/parcel-tax-increase-wildfire-county-fire-department …\n",
      "1199557226089734144 2019-11-26 21:15:04 PST <stiles> 👀 https://twitter.com/gtconway3d/status/1199556634428739584 …\n",
      "1199549247915298816 2019-11-26 20:43:21 PST <stiles> (Sorry, it's the first 'quid pro quo' tweet by a verified user).\n",
      "1199548097233211392 2019-11-26 20:38:47 PST <stiles> I could be wrong, but this is the first tweet I can find that mentions \"quid pro quo\" ... https://twitter.com/chrismessina/status/69014752 …\n",
      "1199483093792354305 2019-11-26 16:20:29 PST <stiles> “I don’t think I’ve ever been called a ‘lying motherfucker’ before.” - Pete Buttigieg to @michaelharriot:  https://www.theroot.com/pete-buttigieg-called-me-heres-what-happened-1840055464 … pic.twitter.com/Xydh4LtW0a\n",
      "1199440932048756736 2019-11-26 13:32:57 PST <stiles> 🎵🎶 Hello again, @BeaccchHoussse 🎵🎶  https://play.google.com/music/listen?u=0#/album/B6p2lr346dljby3pjvnvkblgbre/Beach+House/Bloom … pic.twitter.com/Kb0yUKhMSl\n",
      "1199059166788124672 2019-11-25 12:15:57 PST <stiles> Well that's unfortunate. pic.twitter.com/q05A4EQhc9\n",
      "1198620514064846849 2019-11-24 07:12:54 PST <stiles> \"The president’s shortsighted policy represents anything but the 'steadfast and strong' support for South Korea he promised before his inauguration.\" https://www.washingtonpost.com/opinions/american-steadfastness-is-in-doubt-in-south-korea-thanks-to-trumps-policies/2019/11/23/efdaf63c-0bc4-11ea-97ac-a7ccc8dd1ebc_story.html …\n",
      "1198264737584181249 2019-11-23 07:39:10 PST <stiles> Overnight I downloaded two months of @devinnunes mentions on Twitter, which is more than 700,000 tweets.   That guy just gets pummeled... pic.twitter.com/ojF28qYMvS\n",
      "1198106725884157952 2019-11-22 21:11:17 PST <stiles> A significant winter storm is on the menu for Thanksgiving week in Southern California. Map by @CartoonKahuna  https://www.latimes.com/california/story/2019-11-22/a-significant-winter-storm-may-be-on-the-menu-for-turkey-day-in-southern-cali … pic.twitter.com/0StwGIV5YN\n",
      "1198077726281760769 2019-11-22 19:16:03 PST <stiles> In which my awesome daughters introduce the latest episode of @NPRItsBeenAMin. They're naturals:  https://www.npr.org/2019/11/22/782057805/weekly-wrap-dems-debate-mister-rogers-and-wework … pic.twitter.com/MsIKu3d4Ah\n",
      "1198016481197342720 2019-11-22 15:12:41 PST <stiles> Frozen II tickets in South Korea are super fancy.  https://www.reddit.com/r/mildlyinteresting/comments/e077dg/frozen_2_tickets_in_korea/ … pic.twitter.com/99ZtdXGXyV\n",
      "1198000334498451457 2019-11-22 14:08:32 PST <stiles> Released late on a Friday, of course...  Justice Dept. watchdog finds political bias did not taint top officials running the FBI’s Russia probe but documents other errors  https://www.washingtonpost.com/national-security/justice-dept-watchdog-finds-political-bias-did-not-taint-top-officials-running-the-fbis-russia-probe-but-documents-other-errors/2019/11/22/4b2f51de-0d48-11ea-97ac-a7ccc8dd1ebc_story.html … pic.twitter.com/I109ANN5fk\n",
      "1197976492724015105 2019-11-22 12:33:47 PST <stiles> I just saw a squirrel safely project himself off a 105 freeway overpass onto a grassy embankment below as I sped past. Wild. I know it's not a coyote sighting, but I can probably count this as LA wildlife rite of passage. – at 105 Freeway\n",
      "1197622413254488064 2019-11-21 13:06:48 PST <stiles> Frozen II gets the @ManohlaDargis treatment. A \"diverting, prettily animated musical\"...  https://www.nytimes.com/2019/11/21/movies/frozen-2-review.html …   cc @jeremybowers pic.twitter.com/RHWdUIMLTl\n",
      "1197257940341841923 2019-11-20 12:58:31 PST <stiles> RAINBOW! @ Los Angeles Times  https://www.instagram.com/p/B5GfvKDlNdy/?igshid=117esejqvoor5 …\n",
      "1197223161483251712 2019-11-20 10:40:19 PST <stiles> “I know that members of this committee have frequently framed these complicated issues in the form of a simple question: Was there a quid pro quo? ... with regard to the requested White House call and White House meeting, the answer is yes.”  https://www.washingtonpost.com/politics/2019/11/20/gordon-sondlands-testimony-torpedoes-republican-defenses-trump/ … pic.twitter.com/Bk9HLlNg5C\n",
      "1197004066032717824 2019-11-19 20:09:43 PST <stiles> \"Even for a president who rarely spares the rhetorical howitzer, that represents a new level of bombardment.\" — @peterbakernyt's take on @realDonaldTrump's decision to attack his own aides: https://www.nytimes.com/2019/11/19/us/politics/trump-alexander-vindman-jennifer-williams.html …\n",
      "1196943661285564421 2019-11-19 16:09:41 PST <stiles> oh hai el segundo pic.twitter.com/o695ShRjO4\n",
      "1196843161164713985 2019-11-19 09:30:20 PST <stiles> SHIP IT. pic.twitter.com/kHaF0BOOJf\n",
      "1196601178907267075 2019-11-18 17:28:47 PST <stiles> Parents, this free @DisneyFrozen coloring/activity booklet it a must this week. Enjoy:  http://bit.ly/2KvqNlS   cc @jeremybowers @beckybowers pic.twitter.com/spI6VKuFdF\n",
      "1196596458297806849 2019-11-18 17:10:02 PST <stiles> Noooooooooo. https://twitter.com/vicjkim/status/1196592058963619840 …\n",
      "1196112959581245440 2019-11-17 09:08:46 PST <stiles> Weekend highlight: Fancy new @mcdon Play Place on Sepulveda in Culver City.  So play. Such fun. Many fats. Wow. pic.twitter.com/pNC4nIUHt5\n",
      "1196088328979791874 2019-11-17 07:30:54 PST <stiles> @DaveSchmerler? https://twitter.com/JacobBogle/status/1196075799532703744 …\n",
      "1195817432813723648 2019-11-16 13:34:27 PST <stiles> Insta continues tweaking the user experience. Now they've removed the ❤️ count.   No more depression about my poor filter choices falling flat! pic.twitter.com/SQHKK9mH6M\n",
      "1195749133958598656 2019-11-16 09:03:04 PST <stiles> I'm at Starbucks, and I just noticed a guy next to me googling \"guerilla marketing\". I think he justed copy/pasted a paragraph from the results into a doc he's titled \"business plan\". Now he's pacing and talking on his phone with airpods.  Surrounded by animals.\n",
      "1195464268495241217 2019-11-15 14:11:06 PST <stiles> “The sea levels are rising, and Venice is Exhibit A of a treasure threatened by climate change.” -- Chico Harlan, Rome bureau chief for the @washingtonpost. The story:  https://www.washingtonpost.com/world/europe/venice-partly-submerged-by-highest-tides-in-half-a-century/2019/11/13/fa36566e-05fa-11ea-8292-c46ee8cb3dce_story.html … pic.twitter.com/RtRBYoqNva\n",
      "1195403550743904256 2019-11-15 10:09:50 PST <stiles> Yeah, if I remember correctly, she said she never thought Carlyle Group would actually sell the masters to these stingy dudes.\n",
      "1195191405250924544 2019-11-14 20:06:51 PST <stiles> This is shitty. I can't think of a better way to describe it. https://twitter.com/taylorswift13/status/1195123215657508867 …\n",
      "1195160124072939520 2019-11-14 18:02:33 PST <stiles> Easy. Thompson submachine guns.\n",
      "1195158688832589824 2019-11-14 17:56:51 PST <stiles> Like @realDonaldTrump, the authors of the the constitution also liked to capitalized random nouns.   An example: \"... Bribery, or other high Crimes and Misdemeanors.\"  Nice line by @zbyronwolf in today's CNN #ImpeachmentWatch newsletter:  http://bit.ly/32TaINr  pic.twitter.com/o9HYTCIgyV\n",
      "1195048866581630976 2019-11-14 10:40:27 PST <stiles> Homelessness is now an all-consuming issue in Los Angeles County, with 95% of voters calling it a serious or very serious problem, according to a new poll by @latimes and @labctweets.  https://www.latimes.com/california/story/2019-11-14/homeless-housing-poll-opinion … pic.twitter.com/Vy4n49TzjM\n",
      "1194701947955109888 2019-11-13 11:41:55 PST <stiles> Here are @GoogleTrends data on 'quid pro quo' since 2014:  https://trends.google.com/trends/explore?date=today%205-y&geo=US&q=%22quid%20pro%20quo%22#TIMESERIES …. The recent spike makes sense, but what about 2016?   That was the since-forgotten 'quid pro quo' scandal involving @HillaryClinton's emails:  https://www.google.com/search?q=quid+pro+quo&rlz=1C5CHFA_enUS869US869&sxsrf=ACYBGNRc-gEKqbkVAbB-czmnbY1j9DKevg%3A1573673661961&source=lnt&tbs=cdr%3A1%2Ccd_min%3A10%2F1%2F2016%2Ccd_max%3A10%2F30%2F2016&tbm= …  And around and around we go... pic.twitter.com/474BpcTABO\n",
      "1194697292772560899 2019-11-13 11:23:25 PST <stiles> Wow. Good point. https://twitter.com/ChrisLKellerLAT/status/1194691366564950016 …\n",
      "1194675224827973633 2019-11-13 09:55:44 PST <stiles> I wish I had take a picture of the pony tail I gave Eva's hair this morning. It was perfection. She looked like a @KoreanAir flight attendant.\n",
      "1194669197659213824 2019-11-13 09:31:47 PST <stiles> When given this choice, there's no question really. pic.twitter.com/nodylYsKGn\n"
     ]
    },
    {
     "name": "stdout",
     "output_type": "stream",
     "text": [
      "1194659780767318016 2019-11-13 08:54:22 PST <stiles> Excellent 404 error page, @CountyofLA.   This link is dead. Where can I find the budget now?  cc @LACountyCEO pic.twitter.com/gVbq80OJuu\n",
      "1194656997641080832 2019-11-13 08:43:18 PST <stiles> EXCLUSIVE: New Details Reveal How Two Social Workers Fought, But Failed, to Save 4-Year-Old Noah Cuatro:  https://chronicleofsocialchange.org/los-angeles/exclusive-new-details-reveal-how-two-social-workers-fought-but-failed-to-save-4-year-old-noah-cuatro/39063 … via @dheimpel\n",
      "1194491889807790080 2019-11-12 21:47:13 PST <stiles> “None of it made any sense to me. What we’re seeing right now is not only disarray but almost jaw-dropping incompetence.\"  Aides are counseling Trump not to fire Mulvaney, as acting chief of staff changes course again https://www.washingtonpost.com/politics/mulvaney-says-he-will-no-longer-seek-judges-ruling-on-impeachment-inquiry-testimony-will-follow-trumps-order-not-to-cooperate/2019/11/12/df671698-0564-11ea-ac12-3325d49eacaa_story.html …\n",
      "1193578692020035584 2019-11-10 09:18:30 PST <stiles> I defy you to read the first six graphs of this fabulous story by @susrust and not be hooked. Great team effort by @LoElebee, @seangreene89, @Carolyn_Cole, @anaarikibandooq. 'How the U.S. betrayed the Marshall Islands, kindling the next nuclear disaster.' https://www.latimes.com/projects/marshall-islands-nuclear-testing-sea-level-rise …\n",
      "1193573842863542273 2019-11-10 08:59:14 PST <stiles> Buried in CA's state data portal. I would check with your state's vehicle licensing bureau. Might have to ask them for aggregates by ZIP or county to avoid a fight.\n",
      "1193432828605648896 2019-11-09 23:38:53 PST <stiles> Super useful chart by @LaurenLeatherby on the shift in partisan political power in Virginia over the last two decades:  https://www.nytimes.com/2019/11/09/us/politics/virginia-elections-democrats-republicans.html … pic.twitter.com/UfEUJp4pkE\n",
      "1193416815243718656 2019-11-09 22:35:16 PST <stiles> 10/ Let me know if you have thoughts about how I could look at this data — or how my early sketches here fail miserably. More to come when there's more time.   Data:  https://data.ca.gov/dataset/vehicle-fuel-type-count-by-zip-code …  Code:  https://github.com/stiles/notebooks/tree/master/california-fuel-vehicles …  Thanks for indulging a thread.\n",
      "1193416812232245249 2019-11-09 22:35:15 PST <stiles> 9/ The dataset also has model years, among other variables, that could be useful — especially when compared across locations. Which places have the highest share of older vehicles, for example? How does the distribution vary by place? pic.twitter.com/rTyBiyiirA\n",
      "1193416807903707137 2019-11-09 22:35:14 PST <stiles> 8/ There's still a lot to do with this dataset, starting with firming up the code and determining if any of this is useful info — or just eye candy. I'm also eager to visualize how the share of these alternative fuel vehicles compares with traditional vehicles, by location.\n",
      "1193416805777166336 2019-11-09 22:35:13 PST <stiles> 7/ And here's the map for the Los Angeles metro area, where a clear divide exists between the gas hybrids (orange) in the northern and the Westside areas — and the central and south areas, where flex-fuel (green) vehicles are the most common. pic.twitter.com/ySwksGNpbJ\n",
      "1193416792850329600 2019-11-09 22:35:10 PST <stiles> 6/ This proportional symbols method eliminates the noise created from rural areas with fewer vehicles. Here's the map for the San Francisco Bay area. Again, the oranges represent ZIP codes in which hybrid gasoline vehicles are the most common among those with alternative sources. pic.twitter.com/0irkecd3vF\n",
      "1193416781634736128 2019-11-09 22:35:08 PST <stiles> 5/ Another way to map this is with proportional symbols at the center of the ZIP codes. The colors represent the fuels types, but the symbols represent the number of total vehicles in proportion. Orange=gas hybrid. Green=flex-fuel. Pink=diesel & diesel hybrid.   The state... pic.twitter.com/bc2RBAwLMe\n",
      "1193416772176633856 2019-11-09 22:35:05 PST <stiles> 4/ BTW: I'm using Python, Pandas and a Jupyter Notebook to analyze the data, which are here (  https://data.ca.gov/dataset/vehicle-fuel-type-count-by-zip-code …), and a light base layer from @Mapbox and @openstreetmap  for the sketches. The code from my quick pass through the data is here:  https://github.com/stiles/notebooks/tree/master/california-fuel-vehicles …\n",
      "1193416768988954624 2019-11-09 22:35:04 PST <stiles> 3/ Mapping the figures is challenging at the statewide level, because ZIP codes (recorded by the DMV in licensing) in cities are tiny at wide zooms. Geographic trends emerge. Hybrids (orange) are common in big cities. Flex-fuels (green) and diesel/diesel hybrids top rural areas. pic.twitter.com/TaeqWCP1q7\n",
      "1193416754921263107 2019-11-09 22:35:01 PST <stiles> 2/ The 90045 ZIP code — the area around LAX in Los Angeles — has the most vehicles (127,000) and the most that don't rely solely on gasoline (18,000). In the later fuel group, that's followed by ZIP codes around John Wayne Airport and San Francisco Int'l Airport. Fleet vehicles? pic.twitter.com/bnJD1dpLfi\n",
      "1193416749116358656 2019-11-09 22:35:00 PST <stiles> Sketching on a fascinating new dataset tonight. It has counts of all registered CA vehicles, broken down by ZIP code, model year, fuel type, make and duty. There are 19 million — and 3.2 use an alternative fuel type (hybrid, battery, flex, diesel, etc).   A THREAD... pic.twitter.com/CxOBRtwbFB\n",
      "1193268435364397056 2019-11-09 12:45:39 PST <stiles> I'm at a New York-themed pizzeria in Del Rey, and this guy is on the wall.   Remember him? What's he up to these days? pic.twitter.com/BHkTgFtsbo – at Pizzarito\n",
      "1193237317483413507 2019-11-09 10:42:00 PST <stiles> Livin' the dream. (at @ChuckECheeseS in Los Angeles, CA) https://www.swarmapp.com/c/af641FVuaNw \n",
      "1192941266029273088 2019-11-08 15:05:36 PST <stiles> Update. Some kind soul cleaned the eggsplosion.  https://twitter.com/stiles/status/1192561033811918849 … pic.twitter.com/aa4W2AKe49\n",
      "1192683719661764609 2019-11-07 22:02:12 PST <stiles> Lawler's Law was in effect tonight, @ryanvmenezes. #clippers  https://www.latimes.com/sports/clippers/la-sp-col1-basketball-clippers-lawlers-law-20190416-htmlstory.html … pic.twitter.com/00HZrr0r7m\n",
      "1192663302469349376 2019-11-07 20:41:04 PST <stiles> Good advice... https://twitter.com/scottbraddock/status/1192616511107665920 …\n",
      "1192661485052448768 2019-11-07 20:33:51 PST <stiles> “These are just words. A bunch of words. It doesn’t mean anything.” -- @jenszalai, using a @realDonaldTrump quote to sum up \"A Warning\", the \"bland, methodical\" new book by the anonymous administration official who wrote the bombshell @nytimes op/ed last year.\n",
      "1192561664152879105 2019-11-07 13:57:12 PST <stiles> It appears so.   There's clearly evidence of an explosion.\n",
      "1192561033811918849 2019-11-07 13:54:41 PST <stiles> This is a picture of a microwave in the @latimes newsroom right now.   So elitist.  https://twitter.com/laura_nelson/status/1192558908964868096 … pic.twitter.com/jueOaE7AJk\n",
      "1192558970860261377 2019-11-07 13:46:29 PST <stiles>  https://twitter.com/seancarlson/status/1192555058354958347 … pic.twitter.com/w3OPkyOnm6\n",
      "1192550423346860033 2019-11-07 13:12:32 PST <stiles> This is all that remains of the massive bag of Halloween candy in the @latimes metro newsroom. Sorry @3musketeers and @milkyway. You are too fluffy and too nougat-y, I guess. pic.twitter.com/q9D7AGI7iT\n",
      "1192502892416004096 2019-11-07 10:03:39 PST <stiles> He wanted a pet monkey but stole a lemur instead. Then he bragged about it, FBI says  https://www.latimes.com/california/story/2019-11-07/he-wanted-a-pet-monkey-but-stole-a-lemur-instead-then-he-bragged-about-it-fbi-says … pic.twitter.com/uY8LQjzufL\n",
      "1192461393993195520 2019-11-07 07:18:45 PST <stiles> Who says campaign finance stories have to be boring? This celebrity donation tracker for the 2020 presidential field is fun -- but it also has some smart data journalism under the hood. Nice work, @andyroberson22, @maloym, @kyleykim, et al.  https://www.latimes.com/projects/2020-election-celebrity-endorsements/ … pic.twitter.com/EXIykZswBP\n",
      "1192218798482325504 2019-11-06 15:14:46 PST <stiles> Here's A1 of the @latimes on Nov. 6, 1913. It's framed in our our @CountyofLA bureau. I've always wonder what a high-quality picture of this moment would look like. pic.twitter.com/Md1XWqOPNT\n",
      "1191959394579337224 2019-11-05 22:03:59 PST <stiles> \"Saying 'read the transcript is a bit like asking people to judge Watergate by reading the arrest report from the hotel break-in.\" -@pbump https://www.washingtonpost.com/politics/2019/11/05/apparent-quid-pro-quo-sitting-just-outside-rough-transcript/ …\n",
      "1191814611537817601 2019-11-05 12:28:40 PST <stiles> my hero 👇 https://twitter.com/ryansholin/status/1191814418415394818 …\n",
      "1191814170859061248 2019-11-05 12:26:55 PST <stiles> Lovely... pic.twitter.com/uRmUmkKP2q\n",
      "1191813548113948672 2019-11-05 12:24:27 PST <stiles> Yeah, I noticed that, too. Poor.\n",
      "1191812677477134336 2019-11-05 12:20:59 PST <stiles> Hmmmn. These interesting little infotabs just showed up in Chrome for me today. pic.twitter.com/iBfNEXXDVf\n",
      "1191364714913136640 2019-11-04 06:40:57 PST <stiles> You can't coach football at Florida State and not win. Period. https://www.tallahassee.com/story/sports/college/fsu/football/2019/11/03/florida-state-football-how-we-got-here-what-brought-willie-taggart-downfall-fsu-walt-bell-barnett/4149853002/ …\n",
      "1191243901576732673 2019-11-03 22:40:53 PST <stiles> Hey, where do y'all keep the knives stashed?\n",
      "1191103003069046784 2019-11-03 13:21:00 PST <stiles> This remote helicopter base in the Santa Monicas known as 69 Bravo helps protect the 11,000 structures — home to roughly 30,000 residents — in the Topanga area. My latest story (and map) on how a wealthy Santa Monica man made it possible:  https://lat.ms/2CkfYyN  pic.twitter.com/FtSlqhxDeY\n",
      "1191068558299582464 2019-11-03 11:04:07 PST <stiles> This might be the cutest thing on the Internet today. https://twitter.com/yashar/status/1191068297535643648 …\n",
      "1191066828530806784 2019-11-03 10:57:15 PST <stiles> Discovered this remote mountain water base for @CountyofLA fire helicopters while reporting on the Woolsey Fire with @JosephSerna. Turns out the story is more interesting than just the view, which is also fabulous:  https://www.latimes.com/california/story/2019-11-03/fire-helicopter-water-base-santa-monica-mountains-simon-t … pic.twitter.com/evcrl3XR3Y\n",
      "1190680021297270785 2019-11-02 10:20:13 PST <stiles> Me: \"Hop in the car. It's starting to rain.\"  Daughter, 4: \"No it's not. It doesn't rain in California.\" pic.twitter.com/I9eKydK2J0\n"
     ]
    },
    {
     "name": "stdout",
     "output_type": "stream",
     "text": [
      "1190464887895408641 2019-11-01 20:05:21 PST <stiles>  https://twitter.com/elisewho/status/1190442198946332673 … pic.twitter.com/spFJ3meXtR\n",
      "1190464501457440768 2019-11-01 20:03:49 PST <stiles> \"So enough with the judgment, OK? I won’t judge your danger if you won’t judge mine.\"   Love this piece by my fab editor, @Erika_D_Smith.   News Analysis: A humbled California isn't quite as special as we like to believe  https://www.latimes.com/california/story/2019-11-01/california-fires-rebuild-housing-climate-change … pic.twitter.com/lo2tCulji8\n",
      "1190376183256371202 2019-11-01 14:12:52 PST <stiles> I wonder if Trump should get a Medium account, too... https://twitter.com/realDonaldTrump/status/1190375828099674113 …\n",
      "1190120998378463232 2019-10-31 21:18:52 PST <stiles> What is happening here, @JosephSerna?!\n",
      "1190080045663916032 2019-10-31 18:36:08 PST <stiles> The pumpkins are getting political on the Westside. pic.twitter.com/aQRuKlHSp2 – at City of Los Angeles\n",
      "1189999935527108608 2019-10-31 13:17:48 PST <stiles> Love this thread. 👇 https://twitter.com/WillOremus/status/1189910885122428929 …\n",
      "1189957361571516416 2019-10-31 10:28:37 PST <stiles> Treemaps that work on mobile! Nice, @jshkatz.   \"Why ‘Medicare for All’ Could Both Raise Taxes and Lower Costs\"  https://nyti.ms/36njIgo  pic.twitter.com/ZejhOjpH3V\n",
      "1189639686488129536 2019-10-30 13:26:18 PST <stiles> Often the Internet is horrible and awesome at the same time, like this comment to @jack's announcement about the decision to stop all political ads on @Twitter. https://twitter.com/ComfortablySmug/status/1189635994250895365 …\n",
      "1189589630523338752 2019-10-30 10:07:24 PST <stiles> Oh my. Check out this amazing photo by @WallySkalij of the wildfire burning outside the Reagan presidential library in Simi Valley.  https://www.latimes.com/california/story/2019-10-30/large-brush-fire-erupts-in-simi-valley-near-reevacuations-in-simi-valley … (h/t @bj_terhune) pic.twitter.com/0TQb7izH5M\n",
      "1189018428650057731 2019-10-28 20:17:38 PST <stiles> Hmmmn.   Taiwan has the best food in the world, so I'm torn. This seems wrong, though.   How do we feel about this, Internet? https://twitter.com/TaiwanNews886/status/1188733868032970752 …\n",
      "1188975754874257408 2019-10-28 17:28:04 PST <stiles> The AP is uncertain about @marcorubio.  https://www.washingtonpost.com/local/trump-attends-world-series-after-big-national-security-win/2019/10/27/e8071a40-f91c-11e9-9e02-1d45cb3dfa8f_story.html … pic.twitter.com/Aet5fxaFzk\n",
      "1188923595486941184 2019-10-28 14:00:48 PST <stiles> Those were a bridge too far for me.\n",
      "1188890545709436928 2019-10-28 11:49:29 PST <stiles> Not that I've seen.\n",
      "1188880539966525441 2019-10-28 11:09:43 PST <stiles> The box says 'hot & sweet' but they're mostly just sweet.\n",
      "1188879871331536896 2019-10-28 11:07:04 PST <stiles> Gochujang-flavored chocolates. @vicjkim is my hero. pic.twitter.com/NtlACeKGrP – at Los Angeles Times\n",
      "1188632801643397120 2019-10-27 18:45:18 PST <stiles> Totally.\n",
      "1188630286193418240 2019-10-27 18:35:18 PST <stiles> In his 900-word speech about Abu Bakr al-Baghdadi, @realDonaldTrump used 'very' 10 times. Poetry:  https://www.nytimes.com/2019/10/27/us/trump-transcript-isis-al-baghdadi.html … pic.twitter.com/gKBLrZecyg\n",
      "1188576511818752000 2019-10-27 15:01:37 PST <stiles> Louis CK emailed his fans this morning to announce that his website is coming back (as are announcements for new road dates). But his fan email list now includes this prominent disclaimer... pic.twitter.com/W9emRzxmcR\n",
      "1188466787626520577 2019-10-27 07:45:37 PST <stiles> Ack, the writing... \"completely destroyed\"... \"he was saying some very bad things about people\" https://twitter.com/realDonaldTrump/status/1188463248670109696 …\n",
      "1188347187077369857 2019-10-26 23:50:22 PST <stiles> Thanks, Deep State.  https://www.nytimes.com/2019/10/27/us/politics/special-operations-raid-terrorist-syria.html … pic.twitter.com/m9kxlsgPiG\n",
      "1188265660020711424 2019-10-26 18:26:24 PST <stiles>  https://twitter.com/realDonaldTrump/status/1188264965930700801 … pic.twitter.com/67uMZpHphT\n",
      "1188203821446520832 2019-10-26 14:20:41 PST <stiles> Annotation is powerful. '[V]irtually every piece of information that the public first learned from the whistle-blower’s complaint has been corroborated by the White House’s reconstructed transcript ... or by the congressional testimony and documents'  https://www.nytimes.com/interactive/2019/10/26/opinion/trump-whistleblower-letter.html … pic.twitter.com/TPY2NdeQTs\n",
      "1188178273244594176 2019-10-26 12:39:10 PST <stiles> Sometimes the walk from the sidewalk to the elevator is just too much... pic.twitter.com/P2EdcCRcTR – at Los Angeles Convention Center\n",
      "1188084555967680512 2019-10-26 06:26:46 PST <stiles> One-in-five U.S. newsroom employees live in New York, Los Angeles or D.C. https://pewrsr.ch/2oc2MZf \n",
      "1187930832503107585 2019-10-25 20:15:55 PST <stiles> This picture shows an aerial attack on the Bel Air Fire in 1961. That blaze burned 484 homes & 16,000 acres. It led to a ban on wood-shingle roofs in L.A. This is a B-17 bomber dropping borate, which we now know is toxic.  https://tessa.lapl.org/cdm/singleitem/collection/photos/id/58766/rec/1 … (via TESSA   @LAPublicLibrary ) pic.twitter.com/HCMPPW9H6I\n",
      "1187568952496406532 2019-10-24 20:17:56 PST <stiles> Jelly\n",
      "1187462640328527872 2019-10-24 13:15:30 PST <stiles> I realize there are kinds of geographic and societal differences between LA and NYC, but contrast this clearly defined strategy on reforming a large jail system with what's happening @countyofLA:  https://rikers.cityofnewyork.us  pic.twitter.com/LC1CnHxqXo\n",
      "1187137197004115968 2019-10-23 15:42:18 PST <stiles> He's a Texan. I'm a Texan. It was bound to happen.\n",
      "1187131619485704195 2019-10-23 15:20:08 PST <stiles> Just got this alert. Peak Signal? pic.twitter.com/lhAJSF8hpa\n",
      "1187114218262122496 2019-10-23 14:10:59 PST <stiles> Today's story about the release of the Woolsey Fire report reminds me of this fun maps project I did last year @ryanvmenezes & @gaufre: \"A century of Malibu wildfires in 30 maps\". It nails in a glance how the fire's size made it a monster:  https://www.latimes.com/projects/la-me-malibu-wildfire-history/ … pic.twitter.com/tWeLN0x9lW\n",
      "1187056480207302656 2019-10-23 10:21:33 PST <stiles> A key and heartbreaking comment from the new Woolsey fire report, which you can read here:  https://www.documentcloud.org/documents/6509012-Citygate-Working-Draft-Woolsey-Fire-Incident-AAR.html … pic.twitter.com/sqGkcP2CuM\n",
      "1187055896041414658 2019-10-23 10:19:14 PST <stiles> As part of the Woolsey report, @LACOFD released some dramatic video showing the conditions firefighters faced during the fast-moving blaze. The scene from inside a fire engine in which the wind whips embers and debris around is terrifying:  https://www.youtube.com/watch?v=h3K2KPIZXEM&feature=youtu.be … pic.twitter.com/BbUW5HIEgW\n",
      "1187054952968908802 2019-10-23 10:15:29 PST <stiles> A long-awaited report on the response to the last year's devastating Woolsey fire says inadequate disaster preparation and a lack of fire resources hampered the effort to fight and flee a blaze of 'epic proportions'. My latest story, with @JosephSerna:  https://www.latimes.com/california/story/2019-10-23/woolsey-fire-cause-report-malibu … pic.twitter.com/t1kRafu5i5\n",
      "1186762689340563456 2019-10-22 14:54:08 PST <stiles> Excuse me, Canada, is that your polygon are you just happy someone is making a choropleth map?\n",
      "1186693430971265024 2019-10-22 10:18:56 PST <stiles> Sometimes I'm bummed about LA County's awkward geographic shape and peculiar population distribution, which isn't always pretty in maps.   IT COULD BE WORSE, THOUGH.  https://newsinteractives.cbc.ca/elections/federal/2019/results/ … pic.twitter.com/QyGDLvy34R\n",
      "1186661375134683136 2019-10-22 08:11:33 PST <stiles> TFW you realize The Daily' is about Syria again. Can't it just be @nytmike talking about Trump/Giuliani shenanigans everyday?\n",
      "1186118686207180801 2019-10-20 20:15:06 PST <stiles> 😬\n",
      "1186043590151000064 2019-10-20 15:16:42 PST <stiles> \"Even for Mr. Trump, who often lards his online missives with typos, caps-lock abuses, occasional gibberish and errant exclamation points, Sunday’s missive contained an outsize number of errors.\"   https://www.nytimes.com/2019/10/20/us/politics/mark-esperanto-trump-tweet.html … pic.twitter.com/afKvEpnJ0L\n",
      "1186002617643593728 2019-10-20 12:33:53 PST <stiles> Good times. pic.twitter.com/HxaAMG73L7\n",
      "1185694007113977862 2019-10-19 16:07:35 PST <stiles> For fans of the @UnderpantsCapt children's books, I turned Pippy P. Poopypants' name-change chart (from Vol. 5) into a spreadsheet lesson for my daughter.   Type in your initials for a book-themed name. I'm \"Pinky Toiletfanny, for example.  Try it:  https://docs.google.com/spreadsheets/d/1j94eBezpxqeskTcaFFCl1ysXyehZ4Cxz3MTsiWNBxnU/edit?usp=sharing … pic.twitter.com/NzDpCLyFWM\n"
     ]
    },
    {
     "name": "stdout",
     "output_type": "stream",
     "text": [
      "1185618553782722560 2019-10-19 11:07:45 PST <stiles> @amara_media My GIF from your session. Support for impeachment, according to @pewresearch:  https://datagifmaker.withgoogle.com/gif/ahxzfmd3ZWItbmV3c2xhYi1kYXRhLXZpei10b29schULEghEb3dubG9hZBiAgIDit_-HCgw … Source:  https://www.people-press.org/2019/10/17/modest-changes-in-views-of-impeachment-proceedings-since-early-september/ … #jacc\n",
      "1185574880445485056 2019-10-19 08:14:13 PST <stiles> A majority of Americans now support the impeachment inquiry, though most people remain skeptical that the process will be fair. They trust the Democrats on that question slightly more than Republicans:  https://www.people-press.org/2019/10/17/modest-changes-in-views-of-impeachment-proceedings-since-early-september/ … pic.twitter.com/DLyDl4uXtj\n",
      "1185574392526303232 2019-10-19 08:12:16 PST <stiles> Those who shifted toward impeachment are Democrats and Democratic-leaning independents (61%); about a third (32%) are Republicans and Republican leaners. pic.twitter.com/GyOz0pJXXl\n",
      "1185573695944679424 2019-10-19 08:09:30 PST <stiles> About one in 10 Americans who previously opposed impeachment proceedings against @realdonaldtrump changed their minds in recent weeks, according to @pewresearch.   https://www.people-press.org/2019/10/17/modest-changes-in-views-of-impeachment-proceedings-since-early-september/ … pic.twitter.com/1gO46O1vRd\n",
      "1185311270972481538 2019-10-18 14:46:43 PST <stiles>  pic.twitter.com/HoB3KohLE4\n",
      "1185310623241883648 2019-10-18 14:44:09 PST <stiles> It's 2:45 pm PST, and the 405 Freeway is already a hellscape. pic.twitter.com/z7NX2O6xkA\n",
      "1185292354636283905 2019-10-18 13:31:33 PST <stiles> 👀 indeed... https://twitter.com/mcpli/status/1185189358787158016 …\n",
      "1185290041901207553 2019-10-18 13:22:22 PST <stiles> I can't believe I've gone three years oblivious to the existence of this EP by The Strokes.  https://play.google.com/store/music/album/The_Strokes_Future_Present_Past?id=B3f44otplbfcrp3qqtrri374el4&hl=en_US …  It's a treasure... pic.twitter.com/NjP3ftuOtX\n",
      "1185256603328532480 2019-10-18 11:09:29 PST <stiles> On day 1,001, Trump made it clear: Being ‘presidential’ is boring  https://www.nytimes.com/2019/10/18/us/politics/trump-presidency.html … pic.twitter.com/fRa7ptQQQP\n",
      "1185239525078908928 2019-10-18 10:01:38 PST <stiles> Why do I never get a 'mouse battery sorta getting low you might want to charge it tonight' message instead of the 'mouse battery very low you're doomed now' message?\n",
      "1185051669781864454 2019-10-17 21:35:09 PST <stiles> \"His answer ignored the distinction — raised by many of the president’s critics — between holding up foreign aid to further American interests and holding up foreign aid to further Mr. Trump’s personal interests.\" https://www.nytimes.com/2019/10/17/us/politics/mick-mulvaney-trump-ukraine.html …\n",
      "1184954807808712704 2019-10-17 15:10:16 PST <stiles> The 15 most iconic Harry Bosch haunts across L.A. https://www.latimes.com/entertainment-arts/books/story/2019-10-16/michael-connelly-the-night-fire-harry-bosch-los-angeles-tour …\n",
      "1184951074190286848 2019-10-17 14:55:26 PST <stiles> “[T]hings have gone from very, very bad to much, much worse.” — @RepAdamSchiff  https://www.wsj.com/articles/mulvaney-says-holdup-of-ukraine-aid-was-related-to-trumps-demand-for-2016-election-probe-11571338443 … pic.twitter.com/0ZKa57W3WZ\n",
      "1184918270735831040 2019-10-17 12:45:05 PST <stiles> It's unbelievable.\n",
      "1184883410235318272 2019-10-17 10:26:33 PST <stiles> I hacked the business card form @latimes so data journalists can include @GitHub accounts.   cc @datagraphics pic.twitter.com/q9EAvIm3Y3\n",
      "1184872432852590592 2019-10-17 09:42:56 PST <stiles> Everyone in L.A. politics knows the term \"Democratic donor\" about Ed Buck, who's now facing charges related to drug overdoses at his W. Hollywood apt.   @maloym & @swetha_kan of @datagraphics have compiled a useful list of politicians who took his 💰:  https://www.latimes.com/projects/ed-buck-donations/ … pic.twitter.com/1kYtwFOv6U\n",
      "1184676743149309953 2019-10-16 20:45:20 PST <stiles> How a K-pop star’s death reveals the truth about South Korean society. Great piece by @Haekoko:   https://www.washingtonpost.com/opinions/2019/10/15/how-k-pop-stars-death-reveals-truth-about-our-society/ … pic.twitter.com/Dav4uFGIUB\n",
      "1184649936991768577 2019-10-16 18:58:49 PST <stiles> Los Angeles Times reaches historic agreement with its newsroom union https://www.latimes.com/california/story/2019-10-16/los-angeles-times-first-guild-contract …\n",
      "1184546523008258048 2019-10-16 12:07:53 PST <stiles> Another example... https://twitter.com/AlastairGale/status/1183730139206545410 …\n",
      "1184546111870005248 2019-10-16 12:06:15 PST <stiles> I've always had trouble 1) understanding radar graphs & 2) justifying their use over, say, stacked bar chars. But relations between Japan & South Korea have gotten SO bad that this one is useful. Source: Interesting paper by @jjkim091, @snydersas, et al.:  http://en.asaninst.org/contents/south-korean-caution-and-concern-about-china/ … pic.twitter.com/vOyBf5Vjh5\n"
     ]
    }
   ],
   "source": [
    "twint.run.Search(c)"
   ]
  },
  {
   "cell_type": "code",
   "execution_count": null,
   "metadata": {},
   "outputs": [],
   "source": []
  }
 ],
 "metadata": {
  "kernelspec": {
   "display_name": "Python 3",
   "language": "python",
   "name": "python3"
  },
  "language_info": {
   "codemirror_mode": {
    "name": "ipython",
    "version": 3
   },
   "file_extension": ".py",
   "mimetype": "text/x-python",
   "name": "python",
   "nbconvert_exporter": "python",
   "pygments_lexer": "ipython3",
   "version": "3.7.3"
  }
 },
 "nbformat": 4,
 "nbformat_minor": 2
}
