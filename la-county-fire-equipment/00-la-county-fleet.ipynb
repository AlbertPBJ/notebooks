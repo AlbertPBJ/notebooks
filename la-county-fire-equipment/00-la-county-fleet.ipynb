{
 "cells": [
  {
   "cell_type": "markdown",
   "metadata": {},
   "source": [
    "# Los Angeles County Fire Department Fleet"
   ]
  },
  {
   "cell_type": "markdown",
   "metadata": {},
   "source": [
    "### Import Python tools"
   ]
  },
  {
   "cell_type": "code",
   "execution_count": 11,
   "metadata": {},
   "outputs": [],
   "source": [
    "import pandas as pd\n",
    "import geopandas as gpd\n",
    "import squarify\n",
    "import matplotlib\n",
    "import matplotlib.pyplot as plt\n",
    "import geojson\n",
    "import json\n",
    "import jenkspy\n",
    "import numpy as np\n",
    "from earthpy import clip as cl\n",
    "from altair import datum\n",
    "import weightedcalcs as wc\n",
    "import altair as alt\n",
    "alt.renderers.enable('notebook')\n",
    "import altair_latimes as lat\n",
    "alt.themes.register('latimes', lat.theme)\n",
    "alt.themes.enable('latimes')\n",
    "pd.options.display.max_columns = 50\n",
    "pd.options.display.max_rows = 1000"
   ]
  },
  {
   "cell_type": "code",
   "execution_count": 23,
   "metadata": {},
   "outputs": [],
   "source": [
    "# data received via CPRA\n",
    "src = pd.read_excel('/Users/mhustiles/data/data/lacounty/Fleet_Apparatus_Listing_12-20-18.xlsx').fillna('')"
   ]
  },
  {
   "cell_type": "code",
   "execution_count": 24,
   "metadata": {},
   "outputs": [],
   "source": [
    "src.columns = src.columns.str.strip().str.lower().str.replace(' ', '_')\\\n",
    "                    .str.replace('(', '').str.replace(')', '').str.replace('-','_')"
   ]
  },
  {
   "cell_type": "code",
   "execution_count": 27,
   "metadata": {},
   "outputs": [],
   "source": [
    "fleet = pd.DataFrame(src)"
   ]
  },
  {
   "cell_type": "markdown",
   "metadata": {},
   "source": [
    "### What's the model year breakdown of their vehicles?"
   ]
  },
  {
   "cell_type": "code",
   "execution_count": 28,
   "metadata": {},
   "outputs": [
    {
     "data": {
      "text/html": [
       "<div>\n",
       "<style scoped>\n",
       "    .dataframe tbody tr th:only-of-type {\n",
       "        vertical-align: middle;\n",
       "    }\n",
       "\n",
       "    .dataframe tbody tr th {\n",
       "        vertical-align: top;\n",
       "    }\n",
       "\n",
       "    .dataframe thead th {\n",
       "        text-align: right;\n",
       "    }\n",
       "</style>\n",
       "<table border=\"1\" class=\"dataframe\">\n",
       "  <thead>\n",
       "    <tr style=\"text-align: right;\">\n",
       "      <th></th>\n",
       "      <th>vehicle_#</th>\n",
       "      <th>make</th>\n",
       "      <th>model</th>\n",
       "      <th>year</th>\n",
       "      <th>stat_summary_catagory</th>\n",
       "      <th>type</th>\n",
       "    </tr>\n",
       "  </thead>\n",
       "  <tbody>\n",
       "    <tr>\n",
       "      <th>0</th>\n",
       "      <td>F2867</td>\n",
       "      <td>FREIGHTLINER</td>\n",
       "      <td>CASCADIA</td>\n",
       "      <td>2019</td>\n",
       "      <td></td>\n",
       "      <td>TRUCK TRACTOR</td>\n",
       "    </tr>\n",
       "    <tr>\n",
       "      <th>1</th>\n",
       "      <td>F2868</td>\n",
       "      <td>FREIGHTLINER</td>\n",
       "      <td>CASCADIA</td>\n",
       "      <td>2019</td>\n",
       "      <td></td>\n",
       "      <td>TRUCK TRACTOR</td>\n",
       "    </tr>\n",
       "    <tr>\n",
       "      <th>2</th>\n",
       "      <td>F2869</td>\n",
       "      <td>FREIGHTLINER</td>\n",
       "      <td>CASCADIA</td>\n",
       "      <td>2019</td>\n",
       "      <td></td>\n",
       "      <td>TRUCK TRACTOR</td>\n",
       "    </tr>\n",
       "    <tr>\n",
       "      <th>3</th>\n",
       "      <td>F2826</td>\n",
       "      <td>RAM</td>\n",
       "      <td>4500</td>\n",
       "      <td>2017</td>\n",
       "      <td></td>\n",
       "      <td>AMBULANCE</td>\n",
       "    </tr>\n",
       "    <tr>\n",
       "      <th>4</th>\n",
       "      <td>49030</td>\n",
       "      <td>DODGE</td>\n",
       "      <td>D 200</td>\n",
       "      <td>1974</td>\n",
       "      <td></td>\n",
       "      <td>RESCUE STD CAB</td>\n",
       "    </tr>\n",
       "  </tbody>\n",
       "</table>\n",
       "</div>"
      ],
      "text/plain": [
       "  vehicle_#          make     model  year stat_summary_catagory  \\\n",
       "0     F2867  FREIGHTLINER  CASCADIA  2019                         \n",
       "1     F2868  FREIGHTLINER  CASCADIA  2019                         \n",
       "2     F2869  FREIGHTLINER  CASCADIA  2019                         \n",
       "3     F2826           RAM      4500  2017                         \n",
       "4     49030         DODGE     D 200  1974                         \n",
       "\n",
       "             type  \n",
       "0   TRUCK TRACTOR  \n",
       "1   TRUCK TRACTOR  \n",
       "2   TRUCK TRACTOR  \n",
       "3       AMBULANCE  \n",
       "4  RESCUE STD CAB  "
      ]
     },
     "execution_count": 28,
     "metadata": {},
     "output_type": "execute_result"
    }
   ],
   "source": [
    "fleet.head()"
   ]
  },
  {
   "cell_type": "code",
   "execution_count": 30,
   "metadata": {},
   "outputs": [],
   "source": [
    "years = fleet.groupby('year').agg('size').reset_index(name='vehicles')"
   ]
  },
  {
   "cell_type": "code",
   "execution_count": 67,
   "metadata": {},
   "outputs": [],
   "source": [
    "makes = fleet.groupby('make', 'year').agg('size').reset_index(name='vehicles')"
   ]
  },
  {
   "cell_type": "code",
   "execution_count": 87,
   "metadata": {},
   "outputs": [],
   "source": [
    "engines = fleet[fleet['stat_summary_catagory'].str.contains('ENGINE')]\\\n",
    "    .groupby(['type', 'year']).agg('size').reset_index(name='vehicles')"
   ]
  },
  {
   "cell_type": "code",
   "execution_count": 88,
   "metadata": {},
   "outputs": [
    {
     "data": {
      "text/html": [
       "<div>\n",
       "<style scoped>\n",
       "    .dataframe tbody tr th:only-of-type {\n",
       "        vertical-align: middle;\n",
       "    }\n",
       "\n",
       "    .dataframe tbody tr th {\n",
       "        vertical-align: top;\n",
       "    }\n",
       "\n",
       "    .dataframe thead th {\n",
       "        text-align: right;\n",
       "    }\n",
       "</style>\n",
       "<table border=\"1\" class=\"dataframe\">\n",
       "  <thead>\n",
       "    <tr style=\"text-align: right;\">\n",
       "      <th></th>\n",
       "      <th>type</th>\n",
       "      <th>year</th>\n",
       "      <th>vehicles</th>\n",
       "    </tr>\n",
       "  </thead>\n",
       "  <tbody>\n",
       "    <tr>\n",
       "      <th>0</th>\n",
       "      <td>PUMPER</td>\n",
       "      <td>1972.0</td>\n",
       "      <td>1</td>\n",
       "    </tr>\n",
       "    <tr>\n",
       "      <th>1</th>\n",
       "      <td>PUMPER</td>\n",
       "      <td>1976.0</td>\n",
       "      <td>1</td>\n",
       "    </tr>\n",
       "    <tr>\n",
       "      <th>2</th>\n",
       "      <td>PUMPER</td>\n",
       "      <td>1977.0</td>\n",
       "      <td>1</td>\n",
       "    </tr>\n",
       "    <tr>\n",
       "      <th>3</th>\n",
       "      <td>PUMPER</td>\n",
       "      <td>1985.0</td>\n",
       "      <td>1</td>\n",
       "    </tr>\n",
       "    <tr>\n",
       "      <th>4</th>\n",
       "      <td>PUMPER</td>\n",
       "      <td>1990.0</td>\n",
       "      <td>2</td>\n",
       "    </tr>\n",
       "  </tbody>\n",
       "</table>\n",
       "</div>"
      ],
      "text/plain": [
       "     type    year  vehicles\n",
       "0  PUMPER  1972.0         1\n",
       "1  PUMPER  1976.0         1\n",
       "2  PUMPER  1977.0         1\n",
       "3  PUMPER  1985.0         1\n",
       "4  PUMPER  1990.0         2"
      ]
     },
     "execution_count": 88,
     "metadata": {},
     "output_type": "execute_result"
    }
   ],
   "source": [
    "engines.head()"
   ]
  },
  {
   "cell_type": "code",
   "execution_count": 89,
   "metadata": {},
   "outputs": [
    {
     "data": {
      "text/plain": [
       "32"
      ]
     },
     "execution_count": 89,
     "metadata": {},
     "output_type": "execute_result"
    }
   ],
   "source": [
    "len(engines)"
   ]
  },
  {
   "cell_type": "code",
   "execution_count": 90,
   "metadata": {},
   "outputs": [
    {
     "data": {
      "application/javascript": [
       "const spec = {\"config\": {\"view\": {\"width\": 800, \"height\": 450}, \"background\": \"#ffffff\", \"title\": {\"anchor\": \"start\", \"font\": \"Benton Gothic Bold, sans\", \"fontColor\": \"#000000\", \"fontSize\": 22, \"fontWeight\": \"normal\"}, \"arc\": {\"fill\": \"#82c6df\"}, \"area\": {\"fill\": \"#82c6df\"}, \"line\": {\"stroke\": \"#82c6df\", \"strokeWidth\": 3}, \"path\": {\"stroke\": \"#82c6df\"}, \"rect\": {\"fill\": \"#82c6df\"}, \"shape\": {\"stroke\": \"#82c6df\"}, \"bar\": {\"fill\": \"#82c6df\"}, \"point\": {\"stroke\": \"#82c6df\"}, \"symbol\": {\"fill\": \"#82c6df\", \"size\": 30}, \"axis\": {\"titleFont\": \"Benton Gothic Bold, sans\", \"titleFontSize\": 13, \"titleFontWeight\": \"normal\", \"labelFont\": \"Benton Gothic, sans\", \"labelFontSize\": 11.5, \"labelFontWeight\": \"normal\"}, \"axisX\": {\"labelAngle\": 0, \"labelPadding\": 4, \"tickSize\": 3}, \"axisY\": {\"labelBaseline\": \"middle\", \"maxExtent\": 45, \"minExtent\": 45, \"tickSize\": 2, \"titleAlign\": \"left\", \"titleAngle\": 0, \"titleX\": -45, \"titleY\": -11}, \"legend\": {\"titleFont\": \"Benton Gothic Bold, sans\", \"titleFontSize\": 13, \"titleFontWeight\": \"normal\", \"symbolType\": \"square\", \"labelFont\": \"Benton Gothic, sans\", \"labelFontSize\": 11.5}, \"range\": {\"category\": [\"#3580b1\", \"#ec8431\", \"#ab7fb4\", \"#c89d29\", \"#adc839\", \"#829eb1\"], \"diverging\": [\"#e68a4f\", \"#f4bb6a\", \"#f9e39c\", \"#dadfe2\", \"#a6b7c6\", \"#849eae\"], \"heatmap\": [\"#fbf2c7\", \"#f9e39c\", \"#f8d36e\", \"#f4bb6a\", \"#e68a4f\", \"#d15a40\", \"#ab4232\"], \"ordinal\": [\"#fbf2c7\", \"#f9e39c\", \"#f8d36e\", \"#f4bb6a\", \"#e68a4f\", \"#d15a40\", \"#ab4232\"], \"ramp\": [\"#fbf2c7\", \"#f9e39c\", \"#f8d36e\", \"#f4bb6a\", \"#e68a4f\", \"#d15a40\", \"#ab4232\"]}}, \"data\": {\"name\": \"data-2011aec95f8e302655582cfd6b294c26\"}, \"mark\": \"bar\", \"encoding\": {\"x\": {\"type\": \"nominal\", \"field\": \"year\"}, \"y\": {\"type\": \"quantitative\", \"field\": \"vehicles\"}}, \"width\": 800, \"$schema\": \"https://vega.github.io/schema/vega-lite/v3.4.0.json\", \"datasets\": {\"data-2011aec95f8e302655582cfd6b294c26\": [{\"type\": \"PUMPER\", \"year\": 1972.0, \"vehicles\": 1}, {\"type\": \"PUMPER\", \"year\": 1976.0, \"vehicles\": 1}, {\"type\": \"PUMPER\", \"year\": 1977.0, \"vehicles\": 1}, {\"type\": \"PUMPER\", \"year\": 1985.0, \"vehicles\": 1}, {\"type\": \"PUMPER\", \"year\": 1990.0, \"vehicles\": 2}, {\"type\": \"PUMPER\", \"year\": 1991.0, \"vehicles\": 13}, {\"type\": \"PUMPER\", \"year\": 1993.0, \"vehicles\": 9}, {\"type\": \"PUMPER\", \"year\": 1994.0, \"vehicles\": 1}, {\"type\": \"PUMPER\", \"year\": 1995.0, \"vehicles\": 11}, {\"type\": \"PUMPER\", \"year\": 1998.0, \"vehicles\": 18}, {\"type\": \"PUMPER\", \"year\": 1999.0, \"vehicles\": 22}, {\"type\": \"PUMPER\", \"year\": 2006.0, \"vehicles\": 56}, {\"type\": \"PUMPER\", \"year\": 2007.0, \"vehicles\": 36}, {\"type\": \"PUMPER\", \"year\": 2011.0, \"vehicles\": 15}, {\"type\": \"PUMPER\", \"year\": 2012.0, \"vehicles\": 7}, {\"type\": \"PUMPER\", \"year\": 2013.0, \"vehicles\": 11}, {\"type\": \"PUMPER\", \"year\": 2014.0, \"vehicles\": 4}, {\"type\": \"PUMPER\", \"year\": 2015.0, \"vehicles\": 1}, {\"type\": \"PUMPER\", \"year\": 2018.0, \"vehicles\": 20}, {\"type\": \"PUMPER\", \"year\": 2019.0, \"vehicles\": 9}, {\"type\": \"PUMPER CAFS\", \"year\": 1995.0, \"vehicles\": 3}, {\"type\": \"PUMPER CAFS\", \"year\": 1998.0, \"vehicles\": 11}, {\"type\": \"PUMPER CAFS\", \"year\": 1999.0, \"vehicles\": 5}, {\"type\": \"PUMPER CAFS\", \"year\": 2006.0, \"vehicles\": 1}, {\"type\": \"PUMPER CAFS\", \"year\": 2007.0, \"vehicles\": 3}, {\"type\": \"PUMPER CAFS\", \"year\": 2012.0, \"vehicles\": 5}, {\"type\": \"PUMPER CAFS\", \"year\": 2014.0, \"vehicles\": 2}, {\"type\": \"PUMPER TYPE 2\", \"year\": 1992.0, \"vehicles\": 1}, {\"type\": \"PUMPER TYPE 3\", \"year\": 1996.0, \"vehicles\": 1}, {\"type\": \"PUMPER TYPE 3\", \"year\": 2008.0, \"vehicles\": 5}, {\"type\": \"PUMPER TYPE 3\", \"year\": 2012.0, \"vehicles\": 1}, {\"type\": \"PUMPER TYPE 3\", \"year\": 2016.0, \"vehicles\": 1}]}};\n",
       "const opt = {};\n",
       "const type = \"vega-lite\";\n",
       "const id = \"57f17773-7555-4dc2-ad08-b778c40fcab6\";\n",
       "\n",
       "const output_area = this;\n",
       "\n",
       "require([\"nbextensions/jupyter-vega/index\"], function(vega) {\n",
       "  const target = document.createElement(\"div\");\n",
       "  target.id = id;\n",
       "  target.className = \"vega-embed\";\n",
       "\n",
       "  const style = document.createElement(\"style\");\n",
       "  style.textContent = [\n",
       "    \".vega-embed .error p {\",\n",
       "    \"  color: firebrick;\",\n",
       "    \"  font-size: 14px;\",\n",
       "    \"}\",\n",
       "  ].join(\"\\\\n\");\n",
       "\n",
       "  // element is a jQuery wrapped DOM element inside the output area\n",
       "  // see http://ipython.readthedocs.io/en/stable/api/generated/\\\n",
       "  // IPython.display.html#IPython.display.Javascript.__init__\n",
       "  element[0].appendChild(target);\n",
       "  element[0].appendChild(style);\n",
       "\n",
       "  vega.render(\"#\" + id, spec, type, opt, output_area);\n",
       "}, function (err) {\n",
       "  if (err.requireType !== \"scripterror\") {\n",
       "    throw(err);\n",
       "  }\n",
       "});\n"
      ],
      "text/plain": [
       "<vega.vegalite.VegaLite at 0x125932908>"
      ]
     },
     "metadata": {
      "jupyter-vega": "#57f17773-7555-4dc2-ad08-b778c40fcab6"
     },
     "output_type": "display_data"
    },
    {
     "data": {
      "text/plain": []
     },
     "execution_count": 90,
     "metadata": {},
     "output_type": "execute_result"
    },
    {
     "data": {
      "image/png": "[encoded data removed]"
     },
     "metadata": {
      "jupyter-vega": "#57f17773-7555-4dc2-ad08-b778c40fcab6"
     },
     "output_type": "display_data"
    }
   ],
   "source": [
    "alt.Chart(engines).mark_bar().encode(\n",
    "    x='year:N',\n",
    "    y='vehicles:Q'\n",
    ").properties(width=800)"
   ]
  },
  {
   "cell_type": "code",
   "execution_count": null,
   "metadata": {},
   "outputs": [],
   "source": []
  }
 ],
 "metadata": {
  "kernelspec": {
   "display_name": "Python 3",
   "language": "python",
   "name": "python3"
  },
  "language_info": {
   "codemirror_mode": {
    "name": "ipython",
    "version": 3
   },
   "file_extension": ".py",
   "mimetype": "text/x-python",
   "name": "python",
   "nbconvert_exporter": "python",
   "pygments_lexer": "ipython3",
   "version": "3.7.3"
  }
 },
 "nbformat": 4,
 "nbformat_minor": 2
}
