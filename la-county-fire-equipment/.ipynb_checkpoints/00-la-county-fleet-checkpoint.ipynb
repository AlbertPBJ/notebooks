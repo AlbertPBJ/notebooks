{
 "cells": [
  {
   "cell_type": "code",
   "execution_count": 1,
   "metadata": {},
   "outputs": [],
   "source": [
    "import pandas as pd\n",
    "import geopandas as gpd\n",
    "import squarify\n",
    "import matplotlib\n",
    "import matplotlib.pyplot as plt\n",
    "import geojson\n",
    "import json\n",
    "import jenkspy\n",
    "import numpy as np\n",
    "from earthpy import clip as cl\n",
    "from altair import datum\n",
    "import weightedcalcs as wc\n",
    "import altair as alt\n",
    "alt.renderers.enable('notebook')\n",
    "import altair_latimes as lat\n",
    "alt.themes.register('latimes', lat.theme)\n",
    "alt.themes.enable('latimes')\n",
    "pd.options.display.max_columns = 50\n",
    "pd.options.display.max_rows = 1000"
   ]
  },
  {
   "cell_type": "code",
   "execution_count": 4,
   "metadata": {},
   "outputs": [],
   "source": [
    "# data received via CPRA\n",
    "src = pd.read_excel('/Users/mhustiles/data/data/lacounty/Fleet_Apparatus_Listing_12-20-18.xlsx')"
   ]
  },
  {
   "cell_type": "code",
   "execution_count": 6,
   "metadata": {},
   "outputs": [
    {
     "data": {
      "text/html": [
       "<div>\n",
       "<style scoped>\n",
       "    .dataframe tbody tr th:only-of-type {\n",
       "        vertical-align: middle;\n",
       "    }\n",
       "\n",
       "    .dataframe tbody tr th {\n",
       "        vertical-align: top;\n",
       "    }\n",
       "\n",
       "    .dataframe thead th {\n",
       "        text-align: right;\n",
       "    }\n",
       "</style>\n",
       "<table border=\"1\" class=\"dataframe\">\n",
       "  <thead>\n",
       "    <tr style=\"text-align: right;\">\n",
       "      <th></th>\n",
       "      <th>Vehicle #</th>\n",
       "      <th>Make</th>\n",
       "      <th>Model</th>\n",
       "      <th>Year</th>\n",
       "      <th>Stat Summary Catagory</th>\n",
       "      <th>Type</th>\n",
       "    </tr>\n",
       "  </thead>\n",
       "  <tbody>\n",
       "    <tr>\n",
       "      <th>0</th>\n",
       "      <td>F2867</td>\n",
       "      <td>FREIGHTLINER</td>\n",
       "      <td>CASCADIA</td>\n",
       "      <td>2019.0</td>\n",
       "      <td>NaN</td>\n",
       "      <td>TRUCK TRACTOR</td>\n",
       "    </tr>\n",
       "    <tr>\n",
       "      <th>1</th>\n",
       "      <td>F2868</td>\n",
       "      <td>FREIGHTLINER</td>\n",
       "      <td>CASCADIA</td>\n",
       "      <td>2019.0</td>\n",
       "      <td>NaN</td>\n",
       "      <td>TRUCK TRACTOR</td>\n",
       "    </tr>\n",
       "    <tr>\n",
       "      <th>2</th>\n",
       "      <td>F2869</td>\n",
       "      <td>FREIGHTLINER</td>\n",
       "      <td>CASCADIA</td>\n",
       "      <td>2019.0</td>\n",
       "      <td>NaN</td>\n",
       "      <td>TRUCK TRACTOR</td>\n",
       "    </tr>\n",
       "    <tr>\n",
       "      <th>3</th>\n",
       "      <td>F2826</td>\n",
       "      <td>RAM</td>\n",
       "      <td>4500</td>\n",
       "      <td>2017.0</td>\n",
       "      <td>NaN</td>\n",
       "      <td>AMBULANCE</td>\n",
       "    </tr>\n",
       "    <tr>\n",
       "      <th>4</th>\n",
       "      <td>49030</td>\n",
       "      <td>DODGE</td>\n",
       "      <td>D 200</td>\n",
       "      <td>1974.0</td>\n",
       "      <td>NaN</td>\n",
       "      <td>RESCUE STD CAB</td>\n",
       "    </tr>\n",
       "  </tbody>\n",
       "</table>\n",
       "</div>"
      ],
      "text/plain": [
       "  Vehicle #          Make     Model    Year Stat Summary Catagory  \\\n",
       "0     F2867  FREIGHTLINER  CASCADIA  2019.0                   NaN   \n",
       "1     F2868  FREIGHTLINER  CASCADIA  2019.0                   NaN   \n",
       "2     F2869  FREIGHTLINER  CASCADIA  2019.0                   NaN   \n",
       "3     F2826           RAM      4500  2017.0                   NaN   \n",
       "4     49030         DODGE     D 200  1974.0                   NaN   \n",
       "\n",
       "             Type  \n",
       "0   TRUCK TRACTOR  \n",
       "1   TRUCK TRACTOR  \n",
       "2   TRUCK TRACTOR  \n",
       "3       AMBULANCE  \n",
       "4  RESCUE STD CAB  "
      ]
     },
     "execution_count": 6,
     "metadata": {},
     "output_type": "execute_result"
    }
   ],
   "source": [
    "src.head()"
   ]
  },
  {
   "cell_type": "code",
   "execution_count": null,
   "metadata": {},
   "outputs": [],
   "source": []
  }
 ],
 "metadata": {
  "kernelspec": {
   "display_name": "Python 3",
   "language": "python",
   "name": "python3"
  },
  "language_info": {
   "codemirror_mode": {
    "name": "ipython",
    "version": 3
   },
   "file_extension": ".py",
   "mimetype": "text/x-python",
   "name": "python",
   "nbconvert_exporter": "python",
   "pygments_lexer": "ipython3",
   "version": "3.7.3"
  }
 },
 "nbformat": 4,
 "nbformat_minor": 2
}
