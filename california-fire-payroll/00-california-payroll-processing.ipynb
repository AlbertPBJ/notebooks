{
 "cells": [
  {
   "cell_type": "markdown",
   "metadata": {},
   "source": [
    "# Processing California's public payrolls"
   ]
  },
  {
   "cell_type": "markdown",
   "metadata": {},
   "source": [
    "This notebook processess government payroll [data](https://publicpay.ca.gov/Reports/RawExport.aspx) compiled and released annually by the California state controller's office. The data include anonymized salary information for all employees at cities, counties, special districts and state government. "
   ]
  },
  {
   "cell_type": "markdown",
   "metadata": {},
   "source": [
    "---"
   ]
  },
  {
   "cell_type": "markdown",
   "metadata": {},
   "source": [
    "### Load python tools"
   ]
  },
  {
   "cell_type": "code",
   "execution_count": 1,
   "metadata": {},
   "outputs": [],
   "source": [
    "import pandas as pd\n",
    "import zipfile\n",
    "from urllib.request import urlopen \n",
    "import pyarrow\n",
    "import os\n",
    "import cpi\n",
    "import glob\n",
    "import requests\n",
    "import matplotlib\n",
    "import json\n",
    "import numpy as np\n",
    "from altair import datum\n",
    "import altair as alt\n",
    "import altair_latimes as lat\n",
    "alt.themes.register('latimes', lat.theme)\n",
    "alt.themes.enable('latimes')\n",
    "pd.options.display.float_format = '{:,.0f}'.format"
   ]
  },
  {
   "cell_type": "markdown",
   "metadata": {},
   "source": [
    "### Download zipped salary tables by year and agency type"
   ]
  },
  {
   "cell_type": "code",
   "execution_count": 2,
   "metadata": {},
   "outputs": [],
   "source": [
    "cpi.update()"
   ]
  },
  {
   "cell_type": "code",
   "execution_count": 3,
   "metadata": {},
   "outputs": [],
   "source": [
    "os.chdir('/Users/mhustiles/data/data/controller/input/')"
   ]
  },
  {
   "cell_type": "code",
   "execution_count": 4,
   "metadata": {},
   "outputs": [],
   "source": [
    "formaturl = lambda x: 'https://publicpay.ca.gov/RawExport/' + f'{x[1]}_' + f'{x[0]}' + '.zip'"
   ]
  },
  {
   "cell_type": "code",
   "execution_count": 5,
   "metadata": {},
   "outputs": [],
   "source": [
    "metadata = []\n",
    "for y in range(2009,2020):\n",
    "    for e in ['City', 'County', 'SpecialDistrict', 'StateDepartment']:\n",
    "#     for e in ['City', 'County']:\n",
    "        metadata.append(dict(entity = e, year = y, url = formaturl((e, y))))"
   ]
  },
  {
   "cell_type": "markdown",
   "metadata": {},
   "source": [
    "### Extract CSVs from .zip files, and then discard the .zip files"
   ]
  },
  {
   "cell_type": "code",
   "execution_count": 6,
   "metadata": {},
   "outputs": [
    {
     "name": "stdout",
     "output_type": "stream",
     "text": [
      "--2020-10-12 13:04:25--  https://publicpay.ca.gov/RawExport/2009_City.zip\n",
      "Resolving publicpay.ca.gov (publicpay.ca.gov)... 67.157.158.198\n",
      "Connecting to publicpay.ca.gov (publicpay.ca.gov)|67.157.158.198|:443... connected.\n",
      "HTTP request sent, awaiting response... 200 OK\n",
      "Length: 5052183 (4.8M) [application/x-zip-compressed]\n",
      "Saving to: ‘2009_City.zip’\n",
      "\n",
      "2009_City.zip       100%[===================>]   4.82M  1.65MB/s    in 2.9s    \n",
      "\n",
      "2020-10-12 13:04:29 (1.65 MB/s) - ‘2009_City.zip’ saved [5052183/5052183]\n",
      "\n",
      "Archive:  2009_City.zip\n",
      "  inflating: 2009_City.csv           \n",
      "--2020-10-12 13:04:29--  https://publicpay.ca.gov/RawExport/2009_County.zip\n",
      "Resolving publicpay.ca.gov (publicpay.ca.gov)... 67.157.158.198\n",
      "Connecting to publicpay.ca.gov (publicpay.ca.gov)|67.157.158.198|:443... connected.\n",
      "HTTP request sent, awaiting response... 200 OK\n",
      "Length: 5856004 (5.6M) [application/x-zip-compressed]\n",
      "Saving to: ‘2009_County.zip’\n",
      "\n",
      "2009_County.zip     100%[===================>]   5.58M  1.73MB/s    in 3.3s    \n",
      "\n",
      "2020-10-12 13:04:33 (1.67 MB/s) - ‘2009_County.zip’ saved [5856004/5856004]\n",
      "\n",
      "Archive:  2009_County.zip\n",
      "  inflating: 2009_County.csv         \n",
      "--2020-10-12 13:04:33--  https://publicpay.ca.gov/RawExport/2009_SpecialDistrict.zip\n",
      "Resolving publicpay.ca.gov (publicpay.ca.gov)... 67.157.158.198\n",
      "Connecting to publicpay.ca.gov (publicpay.ca.gov)|67.157.158.198|:443... connected.\n",
      "HTTP request sent, awaiting response... 200 OK\n",
      "Length: 2452377 (2.3M) [application/x-zip-compressed]\n",
      "Saving to: ‘2009_SpecialDistrict.zip’\n",
      "\n",
      "2009_SpecialDistric 100%[===================>]   2.34M  1.12MB/s    in 2.1s    \n",
      "\n",
      "2020-10-12 13:04:36 (1.12 MB/s) - ‘2009_SpecialDistrict.zip’ saved [2452377/2452377]\n",
      "\n",
      "Archive:  2009_SpecialDistrict.zip\n",
      "  inflating: 2009_SpecialDistrict.csv  \n",
      "--2020-10-12 13:04:36--  https://publicpay.ca.gov/RawExport/2009_StateDepartment.zip\n",
      "Resolving publicpay.ca.gov (publicpay.ca.gov)... 67.157.158.198\n",
      "Connecting to publicpay.ca.gov (publicpay.ca.gov)|67.157.158.198|:443... connected.\n",
      "HTTP request sent, awaiting response... 200 OK\n",
      "Length: 6657503 (6.3M) [application/x-zip-compressed]\n",
      "Saving to: ‘2009_StateDepartment.zip’\n",
      "\n",
      "2009_StateDepartmen 100%[===================>]   6.35M  1.73MB/s    in 4.2s    \n",
      "\n",
      "2020-10-12 13:04:41 (1.53 MB/s) - ‘2009_StateDepartment.zip’ saved [6657503/6657503]\n",
      "\n",
      "Archive:  2009_StateDepartment.zip\n",
      "  inflating: 2009_StateDepartment.csv  \n",
      "--2020-10-12 13:04:41--  https://publicpay.ca.gov/RawExport/2010_City.zip\n",
      "Resolving publicpay.ca.gov (publicpay.ca.gov)... 67.157.158.198\n",
      "Connecting to publicpay.ca.gov (publicpay.ca.gov)|67.157.158.198|:443... connected.\n",
      "HTTP request sent, awaiting response... 200 OK\n",
      "Length: 4891413 (4.7M) [application/x-zip-compressed]\n",
      "Saving to: ‘2010_City.zip’\n",
      "\n",
      "2010_City.zip       100%[===================>]   4.66M  1.44MB/s    in 3.2s    \n",
      "\n",
      "2020-10-12 13:04:45 (1.44 MB/s) - ‘2010_City.zip’ saved [4891413/4891413]\n",
      "\n",
      "Archive:  2010_City.zip\n",
      "  inflating: 2010_City.csv           \n",
      "--2020-10-12 13:04:45--  https://publicpay.ca.gov/RawExport/2010_County.zip\n",
      "Resolving publicpay.ca.gov (publicpay.ca.gov)... 67.157.158.198\n",
      "Connecting to publicpay.ca.gov (publicpay.ca.gov)|67.157.158.198|:443... connected.\n",
      "HTTP request sent, awaiting response... 200 OK\n",
      "Length: 5734288 (5.5M) [application/x-zip-compressed]\n",
      "Saving to: ‘2010_County.zip’\n",
      "\n",
      "2010_County.zip     100%[===================>]   5.47M  1.58MB/s    in 3.8s    \n",
      "\n",
      "2020-10-12 13:04:49 (1.43 MB/s) - ‘2010_County.zip’ saved [5734288/5734288]\n",
      "\n",
      "Archive:  2010_County.zip\n",
      "  inflating: 2010_County.csv         \n",
      "--2020-10-12 13:04:50--  https://publicpay.ca.gov/RawExport/2010_SpecialDistrict.zip\n",
      "Resolving publicpay.ca.gov (publicpay.ca.gov)... 67.157.158.198\n",
      "Connecting to publicpay.ca.gov (publicpay.ca.gov)|67.157.158.198|:443... connected.\n",
      "HTTP request sent, awaiting response... 200 OK\n",
      "Length: 2634581 (2.5M) [application/x-zip-compressed]\n",
      "Saving to: ‘2010_SpecialDistrict.zip’\n",
      "\n",
      "2010_SpecialDistric 100%[===================>]   2.51M  1.23MB/s    in 2.0s    \n",
      "\n",
      "2020-10-12 13:04:52 (1.23 MB/s) - ‘2010_SpecialDistrict.zip’ saved [2634581/2634581]\n",
      "\n",
      "Archive:  2010_SpecialDistrict.zip\n",
      "  inflating: 2010_SpecialDistrict.csv  \n",
      "--2020-10-12 13:04:53--  https://publicpay.ca.gov/RawExport/2010_StateDepartment.zip\n",
      "Resolving publicpay.ca.gov (publicpay.ca.gov)... 67.157.158.198\n",
      "Connecting to publicpay.ca.gov (publicpay.ca.gov)|67.157.158.198|:443... connected.\n",
      "HTTP request sent, awaiting response... 200 OK\n",
      "Length: 6470163 (6.2M) [application/x-zip-compressed]\n",
      "Saving to: ‘2010_StateDepartment.zip’\n",
      "\n",
      "2010_StateDepartmen 100%[===================>]   6.17M  1.60MB/s    in 4.3s    \n",
      "\n",
      "2020-10-12 13:04:57 (1.43 MB/s) - ‘2010_StateDepartment.zip’ saved [6470163/6470163]\n",
      "\n",
      "Archive:  2010_StateDepartment.zip\n",
      "  inflating: 2010_StateDepartment.csv  \n",
      "--2020-10-12 13:04:58--  https://publicpay.ca.gov/RawExport/2011_City.zip\n",
      "Resolving publicpay.ca.gov (publicpay.ca.gov)... 67.157.158.198\n",
      "Connecting to publicpay.ca.gov (publicpay.ca.gov)|67.157.158.198|:443... connected.\n",
      "HTTP request sent, awaiting response... 200 OK\n",
      "Length: 6419927 (6.1M) [application/x-zip-compressed]\n",
      "Saving to: ‘2011_City.zip’\n",
      "\n",
      "2011_City.zip       100%[===================>]   6.12M  9.94MB/s    in 0.6s    \n",
      "\n",
      "2020-10-12 13:04:59 (9.94 MB/s) - ‘2011_City.zip’ saved [6419927/6419927]\n",
      "\n",
      "Archive:  2011_City.zip\n",
      "  inflating: 2011_City.csv           \n",
      "--2020-10-12 13:05:00--  https://publicpay.ca.gov/RawExport/2011_County.zip\n",
      "Resolving publicpay.ca.gov (publicpay.ca.gov)... 67.157.158.198\n",
      "Connecting to publicpay.ca.gov (publicpay.ca.gov)|67.157.158.198|:443... connected.\n",
      "HTTP request sent, awaiting response... 200 OK\n",
      "Length: 7978664 (7.6M) [application/x-zip-compressed]\n",
      "Saving to: ‘2011_County.zip’\n",
      "\n",
      "2011_County.zip     100%[===================>]   7.61M  1.53MB/s    in 5.6s    \n",
      "\n",
      "2020-10-12 13:05:06 (1.36 MB/s) - ‘2011_County.zip’ saved [7978664/7978664]\n",
      "\n",
      "Archive:  2011_County.zip\n",
      "  inflating: 2011_County.csv         \n",
      "--2020-10-12 13:05:06--  https://publicpay.ca.gov/RawExport/2011_SpecialDistrict.zip\n",
      "Resolving publicpay.ca.gov (publicpay.ca.gov)... 67.157.158.198\n",
      "Connecting to publicpay.ca.gov (publicpay.ca.gov)|67.157.158.198|:443... connected.\n",
      "HTTP request sent, awaiting response... 200 OK\n",
      "Length: 3344964 (3.2M) [application/x-zip-compressed]\n",
      "Saving to: ‘2011_SpecialDistrict.zip’\n",
      "\n",
      "2011_SpecialDistric 100%[===================>]   3.19M  1.31MB/s    in 2.4s    \n",
      "\n",
      "2020-10-12 13:05:09 (1.31 MB/s) - ‘2011_SpecialDistrict.zip’ saved [3344964/3344964]\n",
      "\n",
      "Archive:  2011_SpecialDistrict.zip\n",
      "  inflating: 2011_SpecialDistrict.csv  \n",
      "--2020-10-12 13:05:10--  https://publicpay.ca.gov/RawExport/2011_StateDepartment.zip\n",
      "Resolving publicpay.ca.gov (publicpay.ca.gov)... 67.157.158.198\n",
      "Connecting to publicpay.ca.gov (publicpay.ca.gov)|67.157.158.198|:443... connected.\n",
      "HTTP request sent, awaiting response... 200 OK\n",
      "Length: 6055717 (5.8M) [application/x-zip-compressed]\n",
      "Saving to: ‘2011_StateDepartment.zip’\n",
      "\n",
      "2011_StateDepartmen 100%[===================>]   5.77M  1.45MB/s    in 4.4s    \n",
      "\n",
      "2020-10-12 13:05:14 (1.32 MB/s) - ‘2011_StateDepartment.zip’ saved [6055717/6055717]\n",
      "\n",
      "Archive:  2011_StateDepartment.zip\n",
      "  inflating: 2011_StateDepartment.csv  \n",
      "--2020-10-12 13:05:15--  https://publicpay.ca.gov/RawExport/2012_City.zip\n",
      "Resolving publicpay.ca.gov (publicpay.ca.gov)... 67.157.158.198\n",
      "Connecting to publicpay.ca.gov (publicpay.ca.gov)|67.157.158.198|:443... connected.\n",
      "HTTP request sent, awaiting response... 200 OK\n",
      "Length: 6316535 (6.0M) [application/x-zip-compressed]\n",
      "Saving to: ‘2012_City.zip’\n",
      "\n",
      "2012_City.zip       100%[===================>]   6.02M  1.45MB/s    in 4.8s    \n",
      "\n",
      "2020-10-12 13:05:20 (1.25 MB/s) - ‘2012_City.zip’ saved [6316535/6316535]\n",
      "\n",
      "Archive:  2012_City.zip\n",
      "  inflating: 2012_City.csv           \n",
      "--2020-10-12 13:05:21--  https://publicpay.ca.gov/RawExport/2012_County.zip\n",
      "Resolving publicpay.ca.gov (publicpay.ca.gov)... 67.157.158.198\n",
      "Connecting to publicpay.ca.gov (publicpay.ca.gov)|67.157.158.198|:443... connected.\n",
      "HTTP request sent, awaiting response... 200 OK\n",
      "Length: 7977293 (7.6M) [application/x-zip-compressed]\n",
      "Saving to: ‘2012_County.zip’\n",
      "\n",
      "2012_County.zip     100%[===================>]   7.61M  2.87MB/s    in 2.7s    \n",
      "\n",
      "2020-10-12 13:05:24 (2.87 MB/s) - ‘2012_County.zip’ saved [7977293/7977293]\n",
      "\n",
      "Archive:  2012_County.zip\n",
      "  inflating: 2012_County.csv         \n",
      "--2020-10-12 13:05:25--  https://publicpay.ca.gov/RawExport/2012_SpecialDistrict.zip\n",
      "Resolving publicpay.ca.gov (publicpay.ca.gov)... 67.157.158.198\n",
      "Connecting to publicpay.ca.gov (publicpay.ca.gov)|67.157.158.198|:443... connected.\n",
      "HTTP request sent, awaiting response... 200 OK\n",
      "Length: 3358399 (3.2M) [application/x-zip-compressed]\n",
      "Saving to: ‘2012_SpecialDistrict.zip’\n",
      "\n",
      "2012_SpecialDistric 100%[===================>]   3.20M  1.51MB/s    in 2.1s    \n",
      "\n",
      "2020-10-12 13:05:27 (1.51 MB/s) - ‘2012_SpecialDistrict.zip’ saved [3358399/3358399]\n",
      "\n",
      "Archive:  2012_SpecialDistrict.zip\n",
      "  inflating: 2012_SpecialDistrict.csv  \n",
      "--2020-10-12 13:05:28--  https://publicpay.ca.gov/RawExport/2012_StateDepartment.zip\n",
      "Resolving publicpay.ca.gov (publicpay.ca.gov)... 67.157.158.198\n",
      "Connecting to publicpay.ca.gov (publicpay.ca.gov)|67.157.158.198|:443... connected.\n",
      "HTTP request sent, awaiting response... 200 OK\n",
      "Length: 5972180 (5.7M) [application/x-zip-compressed]\n",
      "Saving to: ‘2012_StateDepartment.zip’\n",
      "\n",
      "2012_StateDepartmen 100%[===================>]   5.70M  1.72MB/s    in 3.3s    \n",
      "\n",
      "2020-10-12 13:05:31 (1.72 MB/s) - ‘2012_StateDepartment.zip’ saved [5972180/5972180]\n",
      "\n",
      "Archive:  2012_StateDepartment.zip\n",
      "  inflating: 2012_StateDepartment.csv  \n",
      "--2020-10-12 13:05:32--  https://publicpay.ca.gov/RawExport/2013_City.zip\n",
      "Resolving publicpay.ca.gov (publicpay.ca.gov)... 67.157.158.198\n",
      "Connecting to publicpay.ca.gov (publicpay.ca.gov)|67.157.158.198|:443... connected.\n",
      "HTTP request sent, awaiting response... 200 OK\n",
      "Length: 6550196 (6.2M) [application/x-zip-compressed]\n",
      "Saving to: ‘2013_City.zip’\n",
      "\n",
      "2013_City.zip       100%[===================>]   6.25M  1.90MB/s    in 3.4s    \n",
      "\n",
      "2020-10-12 13:05:36 (1.83 MB/s) - ‘2013_City.zip’ saved [6550196/6550196]\n",
      "\n",
      "Archive:  2013_City.zip\n",
      "  inflating: 2013_City.csv           \n",
      "--2020-10-12 13:05:36--  https://publicpay.ca.gov/RawExport/2013_County.zip\n",
      "Resolving publicpay.ca.gov (publicpay.ca.gov)... 67.157.158.198\n",
      "Connecting to publicpay.ca.gov (publicpay.ca.gov)|67.157.158.198|:443... connected.\n",
      "HTTP request sent, awaiting response... 200 OK\n",
      "Length: 8132587 (7.8M) [application/x-zip-compressed]\n",
      "Saving to: ‘2013_County.zip’\n",
      "\n",
      "2013_County.zip     100%[===================>]   7.75M  2.17MB/s    in 4.2s    \n",
      "\n",
      "2020-10-12 13:05:41 (1.87 MB/s) - ‘2013_County.zip’ saved [8132587/8132587]\n",
      "\n",
      "Archive:  2013_County.zip\n",
      "  inflating: 2013_County.csv         \n",
      "--2020-10-12 13:05:42--  https://publicpay.ca.gov/RawExport/2013_SpecialDistrict.zip\n",
      "Resolving publicpay.ca.gov (publicpay.ca.gov)... 67.157.158.198\n",
      "Connecting to publicpay.ca.gov (publicpay.ca.gov)|67.157.158.198|:443... connected.\n",
      "HTTP request sent, awaiting response... 200 OK\n",
      "Length: 3480358 (3.3M) [application/x-zip-compressed]\n",
      "Saving to: ‘2013_SpecialDistrict.zip’\n",
      "\n",
      "2013_SpecialDistric 100%[===================>]   3.32M  1.23MB/s    in 2.7s    \n",
      "\n",
      "2020-10-12 13:05:45 (1.23 MB/s) - ‘2013_SpecialDistrict.zip’ saved [3480358/3480358]\n",
      "\n",
      "Archive:  2013_SpecialDistrict.zip\n",
      "  inflating: 2013_SpecialDistrict.csv  \n",
      "--2020-10-12 13:05:45--  https://publicpay.ca.gov/RawExport/2013_StateDepartment.zip\n",
      "Resolving publicpay.ca.gov (publicpay.ca.gov)... 67.157.158.198\n",
      "Connecting to publicpay.ca.gov (publicpay.ca.gov)|67.157.158.198|:443... connected.\n",
      "HTTP request sent, awaiting response... 200 OK\n",
      "Length: 5984643 (5.7M) [application/x-zip-compressed]\n",
      "Saving to: ‘2013_StateDepartment.zip’\n",
      "\n",
      "2013_StateDepartmen 100%[===================>]   5.71M  1.41MB/s    in 4.4s    \n",
      "\n",
      "2020-10-12 13:05:50 (1.30 MB/s) - ‘2013_StateDepartment.zip’ saved [5984643/5984643]\n",
      "\n",
      "Archive:  2013_StateDepartment.zip\n",
      "  inflating: 2013_StateDepartment.csv  \n",
      "--2020-10-12 13:05:51--  https://publicpay.ca.gov/RawExport/2014_City.zip\n",
      "Resolving publicpay.ca.gov (publicpay.ca.gov)... 67.157.158.198\n",
      "Connecting to publicpay.ca.gov (publicpay.ca.gov)|67.157.158.198|:443... connected.\n",
      "HTTP request sent, awaiting response... 200 OK\n",
      "Length: 6618620 (6.3M) [application/x-zip-compressed]\n",
      "Saving to: ‘2014_City.zip’\n",
      "\n",
      "2014_City.zip       100%[===================>]   6.31M  1.69MB/s    in 4.2s    \n",
      "\n",
      "2020-10-12 13:05:55 (1.49 MB/s) - ‘2014_City.zip’ saved [6618620/6618620]\n",
      "\n",
      "Archive:  2014_City.zip\n",
      "  inflating: 2014_City.csv           \n",
      "--2020-10-12 13:05:56--  https://publicpay.ca.gov/RawExport/2014_County.zip\n",
      "Resolving publicpay.ca.gov (publicpay.ca.gov)... 67.157.158.198\n",
      "Connecting to publicpay.ca.gov (publicpay.ca.gov)|67.157.158.198|:443... connected.\n",
      "HTTP request sent, awaiting response... 200 OK\n",
      "Length: 8193271 (7.8M) [application/x-zip-compressed]\n",
      "Saving to: ‘2014_County.zip’\n",
      "\n",
      "2014_County.zip     100%[===================>]   7.81M  1.84MB/s    in 4.9s    \n",
      "\n",
      "2020-10-12 13:06:01 (1.61 MB/s) - ‘2014_County.zip’ saved [8193271/8193271]\n",
      "\n",
      "Archive:  2014_County.zip\n",
      "  inflating: 2014_County.csv         \n",
      "--2020-10-12 13:06:02--  https://publicpay.ca.gov/RawExport/2014_SpecialDistrict.zip\n",
      "Resolving publicpay.ca.gov (publicpay.ca.gov)... 67.157.158.198\n",
      "Connecting to publicpay.ca.gov (publicpay.ca.gov)|67.157.158.198|:443... connected.\n",
      "HTTP request sent, awaiting response... 200 OK\n",
      "Length: 3447444 (3.3M) [application/x-zip-compressed]\n",
      "Saving to: ‘2014_SpecialDistrict.zip’\n",
      "\n",
      "2014_SpecialDistric 100%[===================>]   3.29M  1.19MB/s    in 2.8s    \n",
      "\n",
      "2020-10-12 13:06:05 (1.19 MB/s) - ‘2014_SpecialDistrict.zip’ saved [3447444/3447444]\n",
      "\n",
      "Archive:  2014_SpecialDistrict.zip\n",
      "  inflating: 2014_SpecialDistrict.csv  \n",
      "--2020-10-12 13:06:06--  https://publicpay.ca.gov/RawExport/2014_StateDepartment.zip\n",
      "Resolving publicpay.ca.gov (publicpay.ca.gov)... 67.157.158.198\n",
      "Connecting to publicpay.ca.gov (publicpay.ca.gov)|67.157.158.198|:443... connected.\n",
      "HTTP request sent, awaiting response... 200 OK\n",
      "Length: 6253604 (6.0M) [application/x-zip-compressed]\n",
      "Saving to: ‘2014_StateDepartment.zip’\n",
      "\n",
      "2014_StateDepartmen 100%[===================>]   5.96M  4.51MB/s    in 1.3s    \n",
      "\n",
      "2020-10-12 13:06:09 (4.51 MB/s) - ‘2014_StateDepartment.zip’ saved [6253604/6253604]\n",
      "\n",
      "Archive:  2014_StateDepartment.zip\n",
      "  inflating: 2014_StateDepartment.csv  \n",
      "--2020-10-12 13:06:09--  https://publicpay.ca.gov/RawExport/2015_City.zip\n",
      "Resolving publicpay.ca.gov (publicpay.ca.gov)... 67.157.158.198\n",
      "Connecting to publicpay.ca.gov (publicpay.ca.gov)|67.157.158.198|:443... connected.\n",
      "HTTP request sent, awaiting response... 200 OK\n",
      "Length: 6911922 (6.6M) [application/x-zip-compressed]\n",
      "Saving to: ‘2015_City.zip’\n",
      "\n",
      "2015_City.zip       100%[===================>]   6.59M  1.94MB/s    in 3.7s    \n",
      "\n",
      "2020-10-12 13:06:13 (1.76 MB/s) - ‘2015_City.zip’ saved [6911922/6911922]\n",
      "\n",
      "Archive:  2015_City.zip\n",
      "  inflating: 2015_City.csv           \n",
      "--2020-10-12 13:06:14--  https://publicpay.ca.gov/RawExport/2015_County.zip\n",
      "Resolving publicpay.ca.gov (publicpay.ca.gov)... 67.157.158.198\n",
      "Connecting to publicpay.ca.gov (publicpay.ca.gov)|67.157.158.198|:443... connected.\n",
      "HTTP request sent, awaiting response... 200 OK\n",
      "Length: 8368289 (8.0M) [application/x-zip-compressed]\n",
      "Saving to: ‘2015_County.zip’\n",
      "\n",
      "2015_County.zip     100%[===================>]   7.98M  1.88MB/s    in 5.3s    \n",
      "\n",
      "2020-10-12 13:06:20 (1.51 MB/s) - ‘2015_County.zip’ saved [8368289/8368289]\n",
      "\n",
      "Archive:  2015_County.zip\n",
      "  inflating: 2015_County.csv         \n",
      "--2020-10-12 13:06:21--  https://publicpay.ca.gov/RawExport/2015_SpecialDistrict.zip\n",
      "Resolving publicpay.ca.gov (publicpay.ca.gov)... 67.157.158.198\n",
      "Connecting to publicpay.ca.gov (publicpay.ca.gov)|67.157.158.198|:443... connected.\n",
      "HTTP request sent, awaiting response... 200 OK\n",
      "Length: 3773540 (3.6M) [application/x-zip-compressed]\n",
      "Saving to: ‘2015_SpecialDistrict.zip’\n",
      "\n",
      "2015_SpecialDistric 100%[===================>]   3.60M  6.71MB/s    in 0.5s    \n",
      "\n",
      "2020-10-12 13:06:21 (6.71 MB/s) - ‘2015_SpecialDistrict.zip’ saved [3773540/3773540]\n",
      "\n",
      "Archive:  2015_SpecialDistrict.zip\n",
      "  inflating: 2015_SpecialDistrict.csv  \n",
      "--2020-10-12 13:06:22--  https://publicpay.ca.gov/RawExport/2015_StateDepartment.zip\n",
      "Resolving publicpay.ca.gov (publicpay.ca.gov)... 67.157.158.198\n",
      "Connecting to publicpay.ca.gov (publicpay.ca.gov)|67.157.158.198|:443... connected.\n",
      "HTTP request sent, awaiting response... 200 OK\n",
      "Length: 6398683 (6.1M) [application/x-zip-compressed]\n",
      "Saving to: ‘2015_StateDepartment.zip’\n",
      "\n",
      "2015_StateDepartmen 100%[===================>]   6.10M  8.50MB/s    in 0.7s    \n",
      "\n",
      "2020-10-12 13:06:23 (8.50 MB/s) - ‘2015_StateDepartment.zip’ saved [6398683/6398683]\n",
      "\n",
      "Archive:  2015_StateDepartment.zip\n",
      "  inflating: 2015_StateDepartment.csv  \n",
      "--2020-10-12 13:06:24--  https://publicpay.ca.gov/RawExport/2016_City.zip\n",
      "Resolving publicpay.ca.gov (publicpay.ca.gov)... 67.157.158.198\n",
      "Connecting to publicpay.ca.gov (publicpay.ca.gov)|67.157.158.198|:443... connected.\n",
      "HTTP request sent, awaiting response... 200 OK\n",
      "Length: 7039193 (6.7M) [application/x-zip-compressed]\n",
      "Saving to: ‘2016_City.zip’\n",
      "\n",
      "2016_City.zip       100%[===================>]   6.71M  1.99MB/s    in 3.8s    \n",
      "\n",
      "2020-10-12 13:06:32 (1.75 MB/s) - ‘2016_City.zip’ saved [7039193/7039193]\n",
      "\n",
      "Archive:  2016_City.zip\n",
      "  inflating: 2016_City.csv           \n",
      "--2020-10-12 13:06:33--  https://publicpay.ca.gov/RawExport/2016_County.zip\n",
      "Resolving publicpay.ca.gov (publicpay.ca.gov)... 67.157.158.198\n",
      "Connecting to publicpay.ca.gov (publicpay.ca.gov)|67.157.158.198|:443... connected.\n",
      "HTTP request sent, awaiting response... 200 OK\n",
      "Length: 8457804 (8.1M) [application/x-zip-compressed]\n",
      "Saving to: ‘2016_County.zip’\n",
      "\n",
      "2016_County.zip     100%[===================>]   8.07M  1.96MB/s    in 4.7s    \n",
      "\n",
      "2020-10-12 13:06:38 (1.71 MB/s) - ‘2016_County.zip’ saved [8457804/8457804]\n",
      "\n",
      "Archive:  2016_County.zip\n",
      "  inflating: 2016_County.csv         \n",
      "--2020-10-12 13:06:39--  https://publicpay.ca.gov/RawExport/2016_SpecialDistrict.zip\n",
      "Resolving publicpay.ca.gov (publicpay.ca.gov)... 67.157.158.198\n",
      "Connecting to publicpay.ca.gov (publicpay.ca.gov)|67.157.158.198|:443... connected.\n",
      "HTTP request sent, awaiting response... 200 OK\n",
      "Length: 3831278 (3.7M) [application/x-zip-compressed]\n",
      "Saving to: ‘2016_SpecialDistrict.zip’\n",
      "\n",
      "2016_SpecialDistric 100%[===================>]   3.65M  1.45MB/s    in 2.5s    \n",
      "\n",
      "2020-10-12 13:06:42 (1.45 MB/s) - ‘2016_SpecialDistrict.zip’ saved [3831278/3831278]\n",
      "\n",
      "Archive:  2016_SpecialDistrict.zip\n",
      "  inflating: 2016_SpecialDistrict.csv  \n",
      "--2020-10-12 13:06:42--  https://publicpay.ca.gov/RawExport/2016_StateDepartment.zip\n",
      "Resolving publicpay.ca.gov (publicpay.ca.gov)... 67.157.158.198\n",
      "Connecting to publicpay.ca.gov (publicpay.ca.gov)|67.157.158.198|:443... connected.\n",
      "HTTP request sent, awaiting response... 200 OK\n",
      "Length: 6550220 (6.2M) [application/x-zip-compressed]\n",
      "Saving to: ‘2016_StateDepartment.zip’\n",
      "\n",
      "2016_StateDepartmen 100%[===================>]   6.25M  1.74MB/s    in 4.0s    \n",
      "\n",
      "2020-10-12 13:06:47 (1.57 MB/s) - ‘2016_StateDepartment.zip’ saved [6550220/6550220]\n",
      "\n",
      "Archive:  2016_StateDepartment.zip\n",
      "  inflating: 2016_StateDepartment.csv  \n",
      "--2020-10-12 13:06:47--  https://publicpay.ca.gov/RawExport/2017_City.zip\n",
      "Resolving publicpay.ca.gov (publicpay.ca.gov)... 67.157.158.198\n",
      "Connecting to publicpay.ca.gov (publicpay.ca.gov)|67.157.158.198|:443... connected.\n",
      "HTTP request sent, awaiting response... 200 OK\n",
      "Length: 7159132 (6.8M) [application/x-zip-compressed]\n",
      "Saving to: ‘2017_City.zip’\n",
      "\n",
      "2017_City.zip       100%[===================>]   6.83M  1.59MB/s    in 4.7s    \n",
      "\n",
      "2020-10-12 13:06:52 (1.46 MB/s) - ‘2017_City.zip’ saved [7159132/7159132]\n",
      "\n",
      "Archive:  2017_City.zip\n",
      "  inflating: 2017_City.csv           \n",
      "--2020-10-12 13:06:53--  https://publicpay.ca.gov/RawExport/2017_County.zip\n",
      "Resolving publicpay.ca.gov (publicpay.ca.gov)... 67.157.158.198\n",
      "Connecting to publicpay.ca.gov (publicpay.ca.gov)|67.157.158.198|:443... connected.\n",
      "HTTP request sent, awaiting response... 200 OK\n",
      "Length: 8589796 (8.2M) [application/x-zip-compressed]\n",
      "Saving to: ‘2017_County.zip’\n",
      "\n",
      "2017_County.zip     100%[===================>]   8.19M  2.08MB/s    in 4.7s    \n",
      "\n",
      "2020-10-12 13:06:58 (1.74 MB/s) - ‘2017_County.zip’ saved [8589796/8589796]\n",
      "\n",
      "Archive:  2017_County.zip\n",
      "  inflating: 2017_County.csv         \n",
      "--2020-10-12 13:06:59--  https://publicpay.ca.gov/RawExport/2017_SpecialDistrict.zip\n",
      "Resolving publicpay.ca.gov (publicpay.ca.gov)... 67.157.158.198\n",
      "Connecting to publicpay.ca.gov (publicpay.ca.gov)|67.157.158.198|:443... connected.\n",
      "HTTP request sent, awaiting response... 200 OK\n",
      "Length: 4009216 (3.8M) [application/x-zip-compressed]\n",
      "Saving to: ‘2017_SpecialDistrict.zip’\n",
      "\n",
      "2017_SpecialDistric 100%[===================>]   3.82M  1.37MB/s    in 2.8s    \n",
      "\n",
      "2020-10-12 13:07:03 (1.37 MB/s) - ‘2017_SpecialDistrict.zip’ saved [4009216/4009216]\n",
      "\n",
      "Archive:  2017_SpecialDistrict.zip\n",
      "  inflating: 2017_SpecialDistrict.csv  \n",
      "--2020-10-12 13:07:03--  https://publicpay.ca.gov/RawExport/2017_StateDepartment.zip\n",
      "Resolving publicpay.ca.gov (publicpay.ca.gov)... 67.157.158.198\n",
      "Connecting to publicpay.ca.gov (publicpay.ca.gov)|67.157.158.198|:443... connected.\n",
      "HTTP request sent, awaiting response... 200 OK\n",
      "Length: 6816992 (6.5M) [application/x-zip-compressed]\n",
      "Saving to: ‘2017_StateDepartment.zip’\n",
      "\n",
      "2017_StateDepartmen 100%[===================>]   6.50M  1.81MB/s    in 4.2s    \n",
      "\n",
      "2020-10-12 13:07:08 (1.56 MB/s) - ‘2017_StateDepartment.zip’ saved [6816992/6816992]\n",
      "\n",
      "Archive:  2017_StateDepartment.zip\n",
      "  inflating: 2017_StateDepartment.csv  \n",
      "--2020-10-12 13:07:08--  https://publicpay.ca.gov/RawExport/2018_City.zip\n",
      "Resolving publicpay.ca.gov (publicpay.ca.gov)... 67.157.158.198\n",
      "Connecting to publicpay.ca.gov (publicpay.ca.gov)|67.157.158.198|:443... connected.\n",
      "HTTP request sent, awaiting response... 200 OK\n",
      "Length: 7598753 (7.2M) [application/x-zip-compressed]\n",
      "Saving to: ‘2018_City.zip’\n",
      "\n",
      "2018_City.zip       100%[===================>]   7.25M  1.61MB/s    in 4.9s    \n",
      "\n",
      "2020-10-12 13:07:14 (1.47 MB/s) - ‘2018_City.zip’ saved [7598753/7598753]\n",
      "\n",
      "Archive:  2018_City.zip\n",
      "  inflating: 2018_City.csv           \n",
      "--2020-10-12 13:07:15--  https://publicpay.ca.gov/RawExport/2018_County.zip\n",
      "Resolving publicpay.ca.gov (publicpay.ca.gov)... 67.157.158.198\n",
      "Connecting to publicpay.ca.gov (publicpay.ca.gov)|67.157.158.198|:443... connected.\n",
      "HTTP request sent, awaiting response... 200 OK\n",
      "Length: 8858801 (8.4M) [application/x-zip-compressed]\n",
      "Saving to: ‘2018_County.zip’\n",
      "\n",
      "2018_County.zip     100%[===================>]   8.45M  1.59MB/s    in 5.6s    \n",
      "\n",
      "2020-10-12 13:07:21 (1.50 MB/s) - ‘2018_County.zip’ saved [8858801/8858801]\n",
      "\n",
      "Archive:  2018_County.zip\n",
      "  inflating: 2018_County.csv         \n",
      "--2020-10-12 13:07:22--  https://publicpay.ca.gov/RawExport/2018_SpecialDistrict.zip\n",
      "Resolving publicpay.ca.gov (publicpay.ca.gov)... 67.157.158.198\n",
      "Connecting to publicpay.ca.gov (publicpay.ca.gov)|67.157.158.198|:443... connected.\n",
      "HTTP request sent, awaiting response... 200 OK\n",
      "Length: 4063009 (3.9M) [application/x-zip-compressed]\n",
      "Saving to: ‘2018_SpecialDistrict.zip’\n",
      "\n",
      "2018_SpecialDistric 100%[===================>]   3.87M  1.47MB/s    in 2.6s    \n",
      "\n",
      "2020-10-12 13:07:24 (1.47 MB/s) - ‘2018_SpecialDistrict.zip’ saved [4063009/4063009]\n",
      "\n",
      "Archive:  2018_SpecialDistrict.zip\n",
      "  inflating: 2018_SpecialDistrict.csv  \n",
      "--2020-10-12 13:07:25--  https://publicpay.ca.gov/RawExport/2018_StateDepartment.zip\n",
      "Resolving publicpay.ca.gov (publicpay.ca.gov)... 67.157.158.198\n",
      "Connecting to publicpay.ca.gov (publicpay.ca.gov)|67.157.158.198|:443... connected.\n",
      "HTTP request sent, awaiting response... 200 OK\n",
      "Length: 7020975 (6.7M) [application/x-zip-compressed]\n",
      "Saving to: ‘2018_StateDepartment.zip’\n",
      "\n",
      "2018_StateDepartmen 100%[===================>]   6.70M  1.62MB/s    in 4.6s    \n",
      "\n",
      "2020-10-12 13:07:30 (1.46 MB/s) - ‘2018_StateDepartment.zip’ saved [7020975/7020975]\n",
      "\n",
      "Archive:  2018_StateDepartment.zip\n",
      "  inflating: 2018_StateDepartment.csv  \n",
      "--2020-10-12 13:07:31--  https://publicpay.ca.gov/RawExport/2019_City.zip\n",
      "Resolving publicpay.ca.gov (publicpay.ca.gov)... 67.157.158.198\n",
      "Connecting to publicpay.ca.gov (publicpay.ca.gov)|67.157.158.198|:443... connected.\n",
      "HTTP request sent, awaiting response... 200 OK\n",
      "Length: 7846067 (7.5M) [application/x-zip-compressed]\n",
      "Saving to: ‘2019_City.zip’\n",
      "\n",
      "2019_City.zip       100%[===================>]   7.48M  2.17MB/s    in 3.9s    \n",
      "\n",
      "2020-10-12 13:07:35 (1.93 MB/s) - ‘2019_City.zip’ saved [7846067/7846067]\n",
      "\n",
      "Archive:  2019_City.zip\n",
      "  inflating: 2019_City.csv           \n",
      "--2020-10-12 13:07:36--  https://publicpay.ca.gov/RawExport/2019_County.zip\n",
      "Resolving publicpay.ca.gov (publicpay.ca.gov)... 67.157.158.198\n",
      "Connecting to publicpay.ca.gov (publicpay.ca.gov)|67.157.158.198|:443... connected.\n",
      "HTTP request sent, awaiting response... 200 OK\n",
      "Length: 8961904 (8.5M) [application/x-zip-compressed]\n",
      "Saving to: ‘2019_County.zip’\n",
      "\n",
      "2019_County.zip     100%[===================>]   8.55M  1.77MB/s    in 5.3s    \n",
      "\n",
      "2020-10-12 13:07:41 (1.60 MB/s) - ‘2019_County.zip’ saved [8961904/8961904]\n",
      "\n",
      "Archive:  2019_County.zip\n",
      "  inflating: 2019_County.csv         \n",
      "--2020-10-12 13:07:42--  https://publicpay.ca.gov/RawExport/2019_SpecialDistrict.zip\n",
      "Resolving publicpay.ca.gov (publicpay.ca.gov)... 67.157.158.198\n",
      "Connecting to publicpay.ca.gov (publicpay.ca.gov)|67.157.158.198|:443... connected.\n",
      "HTTP request sent, awaiting response... 200 OK\n",
      "Length: 3984691 (3.8M) [application/x-zip-compressed]\n",
      "Saving to: ‘2019_SpecialDistrict.zip’\n",
      "\n",
      "2019_SpecialDistric 100%[===================>]   3.80M  1.40MB/s    in 2.7s    \n",
      "\n",
      "2020-10-12 13:07:45 (1.40 MB/s) - ‘2019_SpecialDistrict.zip’ saved [3984691/3984691]\n",
      "\n",
      "Archive:  2019_SpecialDistrict.zip\n",
      "  inflating: 2019_SpecialDistrict.csv  \n",
      "--2020-10-12 13:07:46--  https://publicpay.ca.gov/RawExport/2019_StateDepartment.zip\n",
      "Resolving publicpay.ca.gov (publicpay.ca.gov)... 67.157.158.198\n",
      "Connecting to publicpay.ca.gov (publicpay.ca.gov)|67.157.158.198|:443... connected.\n",
      "HTTP request sent, awaiting response... 200 OK\n",
      "Length: 7189728 (6.9M) [application/x-zip-compressed]\n",
      "Saving to: ‘2019_StateDepartment.zip’\n",
      "\n",
      "2019_StateDepartmen 100%[===================>]   6.86M  1.82MB/s    in 4.2s    \n",
      "\n",
      "2020-10-12 13:07:50 (1.61 MB/s) - ‘2019_StateDepartment.zip’ saved [7189728/7189728]\n",
      "\n",
      "Archive:  2019_StateDepartment.zip\n",
      "  inflating: 2019_StateDepartment.csv  \n"
     ]
    }
   ],
   "source": [
    "for m in metadata:\n",
    "    !wget '{m['url']}'\n",
    "    !unzip \\*.zip\n",
    "    !rm -f *.zip"
   ]
  },
  {
   "cell_type": "markdown",
   "metadata": {},
   "source": [
    "---"
   ]
  },
  {
   "cell_type": "markdown",
   "metadata": {},
   "source": [
    "### Read all the text files, loop and store them in a dataframe"
   ]
  },
  {
   "cell_type": "code",
   "execution_count": 7,
   "metadata": {},
   "outputs": [],
   "source": [
    "path = '/Users/mhustiles/data/data/controller/input/'\n",
    "all_files = glob.glob(os.path.join(path, \"*.csv\"))\n",
    "\n",
    "df_from_each_file = (pd.read_csv(f, encoding = \"ISO-8859-1\", \\\n",
    "            low_memory=False, dtype = {'DepartmentOrSubdivision': 'object', 'Year': 'object'}) for f in all_files)\n",
    "concatenated_df = pd.concat(df_from_each_file, ignore_index=True)"
   ]
  },
  {
   "cell_type": "markdown",
   "metadata": {},
   "source": [
    "### Trim the dataframe to the columns we need"
   ]
  },
  {
   "cell_type": "code",
   "execution_count": 8,
   "metadata": {},
   "outputs": [],
   "source": [
    "payroll = \\\n",
    "pd.DataFrame(concatenated_df[['Year','EmployerType','EmployerPopulation','EmployerName','DepartmentOrSubdivision',\\\n",
    "                 'Position','OvertimePay','TotalWages', 'TotalRetirementAndHealthContribution', 'EmployerCounty']])"
   ]
  },
  {
   "cell_type": "markdown",
   "metadata": {},
   "source": [
    "### Not everyone reports (or pays) overtime"
   ]
  },
  {
   "cell_type": "code",
   "execution_count": 9,
   "metadata": {},
   "outputs": [],
   "source": [
    "payroll['OvertimePay'].fillna(0, inplace = True)\n",
    "payroll['DepartmentOrSubdivision'].fillna('NOT LISTED', inplace = True)\n",
    "payroll['EmployerPopulation'].fillna(0, inplace = True)"
   ]
  },
  {
   "cell_type": "markdown",
   "metadata": {},
   "source": [
    "### Clean up column headers"
   ]
  },
  {
   "cell_type": "code",
   "execution_count": 10,
   "metadata": {},
   "outputs": [],
   "source": [
    "payroll.columns = payroll.columns.str.strip().str.lower().str.replace(' ', '_')\\\n",
    "                    .str.replace('(', '').str.replace(')', '').str.replace('-','_')"
   ]
  },
  {
   "cell_type": "code",
   "execution_count": 11,
   "metadata": {},
   "outputs": [],
   "source": [
    "payroll.rename(columns = {\n",
    "'employertype':'type',\n",
    "'employerpopulation':'population',\n",
    "'employername':'employer',\n",
    "'departmentorsubdivision':'department',\n",
    "'overtimepay':'overtime',\n",
    "'totalretirementandhealthcontribution':'benefits',\n",
    "'totalwages':'wages',\n",
    " }, inplace = True)"
   ]
  },
  {
   "cell_type": "markdown",
   "metadata": {},
   "source": [
    "### Uppercase everything because their title casing across hundreds of agencies is janky"
   ]
  },
  {
   "cell_type": "code",
   "execution_count": 12,
   "metadata": {},
   "outputs": [],
   "source": [
    "payroll = payroll.apply(lambda x: x.astype(str).str.upper())"
   ]
  },
  {
   "cell_type": "markdown",
   "metadata": {},
   "source": [
    "### Convert year column to datetime year for CPI function"
   ]
  },
  {
   "cell_type": "code",
   "execution_count": 13,
   "metadata": {},
   "outputs": [],
   "source": [
    "payroll['year'] = pd.to_datetime(payroll['year'])"
   ]
  },
  {
   "cell_type": "code",
   "execution_count": 14,
   "metadata": {},
   "outputs": [],
   "source": [
    "payroll['year'] = payroll['year'].dt.year"
   ]
  },
  {
   "cell_type": "markdown",
   "metadata": {},
   "source": [
    "### Adjust overtime on each row for CPI according to its respective year"
   ]
  },
  {
   "cell_type": "code",
   "execution_count": 15,
   "metadata": {},
   "outputs": [],
   "source": [
    "payroll[['overtime', 'population', 'wages', 'benefits']] = \\\n",
    "payroll[['overtime', 'population', 'wages', 'benefits']].astype(float)"
   ]
  },
  {
   "cell_type": "code",
   "execution_count": 16,
   "metadata": {},
   "outputs": [],
   "source": [
    "payroll['basewages'] = (payroll['wages'] - payroll['overtime']).astype(float)"
   ]
  },
  {
   "cell_type": "code",
   "execution_count": 17,
   "metadata": {},
   "outputs": [],
   "source": [
    "payroll['adjusted_overtime'] = payroll.apply(lambda x: cpi.inflate(x.overtime, x.year), axis=1)"
   ]
  },
  {
   "cell_type": "code",
   "execution_count": 18,
   "metadata": {},
   "outputs": [],
   "source": [
    "payroll['adjusted_wages'] = payroll.apply(lambda x: cpi.inflate(x.wages, x.year), axis=1)"
   ]
  },
  {
   "cell_type": "code",
   "execution_count": 19,
   "metadata": {},
   "outputs": [],
   "source": [
    "payroll['adjusted_benefits'] = payroll.apply(lambda x: cpi.inflate(x.benefits, x.year), axis=1)"
   ]
  },
  {
   "cell_type": "code",
   "execution_count": 20,
   "metadata": {},
   "outputs": [],
   "source": [
    "payroll['adjusted_basewages'] = payroll.apply(lambda x: cpi.inflate(x.basewages, x.year), axis=1)"
   ]
  },
  {
   "cell_type": "markdown",
   "metadata": {},
   "source": [
    "### How does the dataframe look? "
   ]
  },
  {
   "cell_type": "code",
   "execution_count": 21,
   "metadata": {},
   "outputs": [
    {
     "data": {
      "text/html": [
       "<div>\n",
       "<style scoped>\n",
       "    .dataframe tbody tr th:only-of-type {\n",
       "        vertical-align: middle;\n",
       "    }\n",
       "\n",
       "    .dataframe tbody tr th {\n",
       "        vertical-align: top;\n",
       "    }\n",
       "\n",
       "    .dataframe thead th {\n",
       "        text-align: right;\n",
       "    }\n",
       "</style>\n",
       "<table border=\"1\" class=\"dataframe\">\n",
       "  <thead>\n",
       "    <tr style=\"text-align: right;\">\n",
       "      <th></th>\n",
       "      <th>year</th>\n",
       "      <th>type</th>\n",
       "      <th>population</th>\n",
       "      <th>employer</th>\n",
       "      <th>department</th>\n",
       "      <th>position</th>\n",
       "      <th>overtime</th>\n",
       "      <th>wages</th>\n",
       "      <th>benefits</th>\n",
       "      <th>employercounty</th>\n",
       "      <th>basewages</th>\n",
       "      <th>adjusted_overtime</th>\n",
       "      <th>adjusted_wages</th>\n",
       "      <th>adjusted_benefits</th>\n",
       "      <th>adjusted_basewages</th>\n",
       "    </tr>\n",
       "  </thead>\n",
       "  <tbody>\n",
       "    <tr>\n",
       "      <th>0</th>\n",
       "      <td>2010</td>\n",
       "      <td>COUNTY</td>\n",
       "      <td>1,517,756</td>\n",
       "      <td>ALAMEDA</td>\n",
       "      <td>AC CENTRAL COLLECTIONS</td>\n",
       "      <td>ACCOUNTANT-AUDITOR</td>\n",
       "      <td>0</td>\n",
       "      <td>4,120</td>\n",
       "      <td>1,088</td>\n",
       "      <td>ALAMEDA</td>\n",
       "      <td>4,120</td>\n",
       "      <td>0</td>\n",
       "      <td>4,830</td>\n",
       "      <td>1,276</td>\n",
       "      <td>4,830</td>\n",
       "    </tr>\n",
       "    <tr>\n",
       "      <th>1</th>\n",
       "      <td>2010</td>\n",
       "      <td>COUNTY</td>\n",
       "      <td>1,517,756</td>\n",
       "      <td>ALAMEDA</td>\n",
       "      <td>AC CENTRAL COLLECTIONS</td>\n",
       "      <td>ACCOUNTING TECHNICIAN</td>\n",
       "      <td>0</td>\n",
       "      <td>54,438</td>\n",
       "      <td>14,031</td>\n",
       "      <td>ALAMEDA</td>\n",
       "      <td>54,438</td>\n",
       "      <td>0</td>\n",
       "      <td>63,825</td>\n",
       "      <td>16,450</td>\n",
       "      <td>63,825</td>\n",
       "    </tr>\n",
       "    <tr>\n",
       "      <th>2</th>\n",
       "      <td>2010</td>\n",
       "      <td>COUNTY</td>\n",
       "      <td>1,517,756</td>\n",
       "      <td>ALAMEDA</td>\n",
       "      <td>AC CENTRAL COLLECTIONS</td>\n",
       "      <td>ADMIN SPECIALIST II</td>\n",
       "      <td>0</td>\n",
       "      <td>25,376</td>\n",
       "      <td>5,486</td>\n",
       "      <td>ALAMEDA</td>\n",
       "      <td>25,376</td>\n",
       "      <td>0</td>\n",
       "      <td>29,752</td>\n",
       "      <td>6,432</td>\n",
       "      <td>29,752</td>\n",
       "    </tr>\n",
       "    <tr>\n",
       "      <th>3</th>\n",
       "      <td>2010</td>\n",
       "      <td>COUNTY</td>\n",
       "      <td>1,517,756</td>\n",
       "      <td>ALAMEDA</td>\n",
       "      <td>AC CENTRAL COLLECTIONS</td>\n",
       "      <td>AUDITOR ASSOCIATE I</td>\n",
       "      <td>0</td>\n",
       "      <td>31,225</td>\n",
       "      <td>8,710</td>\n",
       "      <td>ALAMEDA</td>\n",
       "      <td>31,225</td>\n",
       "      <td>0</td>\n",
       "      <td>36,609</td>\n",
       "      <td>10,212</td>\n",
       "      <td>36,609</td>\n",
       "    </tr>\n",
       "    <tr>\n",
       "      <th>4</th>\n",
       "      <td>2010</td>\n",
       "      <td>COUNTY</td>\n",
       "      <td>1,517,756</td>\n",
       "      <td>ALAMEDA</td>\n",
       "      <td>AC CENTRAL COLLECTIONS</td>\n",
       "      <td>AUDITOR ASSOCIATE I</td>\n",
       "      <td>0</td>\n",
       "      <td>27,677</td>\n",
       "      <td>4,916</td>\n",
       "      <td>ALAMEDA</td>\n",
       "      <td>27,677</td>\n",
       "      <td>0</td>\n",
       "      <td>32,450</td>\n",
       "      <td>5,764</td>\n",
       "      <td>32,450</td>\n",
       "    </tr>\n",
       "  </tbody>\n",
       "</table>\n",
       "</div>"
      ],
      "text/plain": [
       "   year    type  population employer              department  \\\n",
       "0  2010  COUNTY   1,517,756  ALAMEDA  AC CENTRAL COLLECTIONS   \n",
       "1  2010  COUNTY   1,517,756  ALAMEDA  AC CENTRAL COLLECTIONS   \n",
       "2  2010  COUNTY   1,517,756  ALAMEDA  AC CENTRAL COLLECTIONS   \n",
       "3  2010  COUNTY   1,517,756  ALAMEDA  AC CENTRAL COLLECTIONS   \n",
       "4  2010  COUNTY   1,517,756  ALAMEDA  AC CENTRAL COLLECTIONS   \n",
       "\n",
       "                position  overtime  wages  benefits employercounty  basewages  \\\n",
       "0     ACCOUNTANT-AUDITOR         0  4,120     1,088        ALAMEDA      4,120   \n",
       "1  ACCOUNTING TECHNICIAN         0 54,438    14,031        ALAMEDA     54,438   \n",
       "2    ADMIN SPECIALIST II         0 25,376     5,486        ALAMEDA     25,376   \n",
       "3    AUDITOR ASSOCIATE I         0 31,225     8,710        ALAMEDA     31,225   \n",
       "4    AUDITOR ASSOCIATE I         0 27,677     4,916        ALAMEDA     27,677   \n",
       "\n",
       "   adjusted_overtime  adjusted_wages  adjusted_benefits  adjusted_basewages  \n",
       "0                  0           4,830              1,276               4,830  \n",
       "1                  0          63,825             16,450              63,825  \n",
       "2                  0          29,752              6,432              29,752  \n",
       "3                  0          36,609             10,212              36,609  \n",
       "4                  0          32,450              5,764              32,450  "
      ]
     },
     "execution_count": 21,
     "metadata": {},
     "output_type": "execute_result"
    }
   ],
   "source": [
    "payroll.head()"
   ]
  },
  {
   "cell_type": "markdown",
   "metadata": {},
   "source": [
    "### How many records do we have here?"
   ]
  },
  {
   "cell_type": "code",
   "execution_count": 22,
   "metadata": {},
   "outputs": [
    {
     "data": {
      "text/plain": [
       "11984248"
      ]
     },
     "execution_count": 22,
     "metadata": {},
     "output_type": "execute_result"
    }
   ],
   "source": [
    "# How many records?\n",
    "len(payroll)"
   ]
  },
  {
   "cell_type": "markdown",
   "metadata": {},
   "source": [
    "### Clean up some employer names"
   ]
  },
  {
   "cell_type": "code",
   "execution_count": 23,
   "metadata": {},
   "outputs": [],
   "source": [
    "payroll['employer']\\\n",
    "    .replace('SACRAMENTO METROPOLITAN FIRE DISTRICT', 'SACRAMENTO METRO FIRE', inplace=True)"
   ]
  },
  {
   "cell_type": "code",
   "execution_count": 24,
   "metadata": {},
   "outputs": [],
   "source": [
    "payroll['employer']\\\n",
    "    .replace('FORESTRY & FIRE PROTECTION, CALIFORNIA DEPARTMENT OF', 'CALFIRE', inplace=True)"
   ]
  },
  {
   "cell_type": "code",
   "execution_count": 25,
   "metadata": {},
   "outputs": [],
   "source": [
    "payroll['type']\\\n",
    "    .replace('STATE DEPARTMENT', 'STATE', inplace=True)"
   ]
  },
  {
   "cell_type": "code",
   "execution_count": 26,
   "metadata": {},
   "outputs": [],
   "source": [
    "payroll['employer']\\\n",
    "    .replace('ORANGE COUNTY FIRE AUTHORITY', 'OC FIRE AUTHORITY', inplace=True)"
   ]
  },
  {
   "cell_type": "markdown",
   "metadata": {},
   "source": [
    "### Export table of all titles to help ID fire roles"
   ]
  },
  {
   "cell_type": "code",
   "execution_count": 27,
   "metadata": {},
   "outputs": [],
   "source": [
    "positions_all = payroll.groupby(['position', 'employer', 'type', 'department'])\\\n",
    "    .agg('size').reset_index()"
   ]
  },
  {
   "cell_type": "code",
   "execution_count": 28,
   "metadata": {},
   "outputs": [],
   "source": [
    "positions_all['position'] = positions_all['position']\\\n",
    "                            .str.replace('!ST ', '', regex=False)\\\n",
    "                            .str.replace('1ST ', '', regex=False)\\\n",
    "                            .str.replace('2ND', '', regex=False)\\\n",
    "                            .str.replace('.E.', '', regex=False)\\\n",
    "                            .str.replace(' - ', '', regex=False)\\\n",
    "                            .str.replace('\\d', '')\\\n",
    "                            .str.replace('[.!?\\\\-]', '')"
   ]
  },
  {
   "cell_type": "code",
   "execution_count": 29,
   "metadata": {},
   "outputs": [],
   "source": [
    "positions_fire = positions_all[ (positions_all['position'].str.contains('FIRE')) |\\\n",
    "                                       (positions_all['type'].str.contains('FIRE')) |\\\n",
    "                                       (positions_all['department'].str.contains('FIRE')) |\\\n",
    "                                       (positions_all['employer'].str.contains('FIRE'))]"
   ]
  },
  {
   "cell_type": "code",
   "execution_count": 30,
   "metadata": {},
   "outputs": [],
   "source": [
    "positions_fire_grouped = positions_fire.groupby(['position']).agg('size')"
   ]
  },
  {
   "cell_type": "code",
   "execution_count": 32,
   "metadata": {},
   "outputs": [],
   "source": [
    "positions_fire_grouped.to_csv('/Users/mhustiles/data/github/notebooks/california-fire-payroll/input/positions_fire_grouped.csv', header=True)"
   ]
  },
  {
   "cell_type": "markdown",
   "metadata": {},
   "source": [
    "---"
   ]
  },
  {
   "cell_type": "markdown",
   "metadata": {},
   "source": [
    "### Export to a lightweight format"
   ]
  },
  {
   "cell_type": "code",
   "execution_count": 33,
   "metadata": {},
   "outputs": [],
   "source": [
    "payroll.reset_index().to_feather('/Users/mhustiles/data/data/controller/output/payroll.feather')"
   ]
  },
  {
   "cell_type": "code",
   "execution_count": 34,
   "metadata": {},
   "outputs": [],
   "source": [
    "payroll.reset_index().to_csv('/Users/mhustiles/data/data/controller/output/payroll.csv')"
   ]
  },
  {
   "cell_type": "markdown",
   "metadata": {},
   "source": [
    "---"
   ]
  },
  {
   "cell_type": "markdown",
   "metadata": {},
   "source": [
    "Data source: https://publicpay.ca.gov/Reports/RawExport.aspx"
   ]
  }
 ],
 "metadata": {
  "kernelspec": {
   "display_name": "Python 3",
   "language": "python",
   "name": "python3"
  },
  "language_info": {
   "codemirror_mode": {
    "name": "ipython",
    "version": 3
   },
   "file_extension": ".py",
   "mimetype": "text/x-python",
   "name": "python",
   "nbconvert_exporter": "python",
   "pygments_lexer": "ipython3",
   "version": "3.7.4"
  }
 },
 "nbformat": 4,
 "nbformat_minor": 4
}
