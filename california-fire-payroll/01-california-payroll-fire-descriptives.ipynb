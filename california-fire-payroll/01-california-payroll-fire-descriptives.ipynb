{
 "cells": [
  {
   "cell_type": "markdown",
   "metadata": {},
   "source": [
    "# Analyzing fire department payrolls in California: 2011-2018"
   ]
  },
  {
   "cell_type": "markdown",
   "metadata": {},
   "source": [
    "This notebook analyzes government payroll [data](https://publicpay.ca.gov/Reports/RawExport.aspx) compiled and released annually by the California state controller's office. The data include anonymized salary information for all employees at cities, counties, special districts and state government."
   ]
  },
  {
   "cell_type": "markdown",
   "metadata": {},
   "source": [
    "---"
   ]
  },
  {
   "cell_type": "markdown",
   "metadata": {},
   "source": [
    "### Load python tools"
   ]
  },
  {
   "cell_type": "code",
   "execution_count": 1,
   "metadata": {},
   "outputs": [],
   "source": [
    "import pandas as pd\n",
    "import geopandas as gpd\n",
    "import cpi\n",
    "from urllib.request import urlopen \n",
    "import pyarrow\n",
    "import jenkspy\n",
    "import matplotlib.pyplot as plt\n",
    "%matplotlib inline\n",
    "import json\n",
    "import numpy as np\n",
    "from altair import datum\n",
    "import altair as alt\n",
    "import altair_latimes as lat\n",
    "alt.themes.register('latimes', lat.theme)\n",
    "alt.themes.enable('latimes')\n",
    "pd.options.display.float_format = '{:,.0f}'.format"
   ]
  },
  {
   "cell_type": "markdown",
   "metadata": {},
   "source": [
    "### Read controller payroll data"
   ]
  },
  {
   "cell_type": "code",
   "execution_count": 2,
   "metadata": {},
   "outputs": [],
   "source": [
    "# processed here: 00-california-payroll-processing\n",
    "src = pd.read_feather('/Users/mhustiles/data/data/controller/output/payroll.feather')"
   ]
  },
  {
   "cell_type": "code",
   "execution_count": 3,
   "metadata": {},
   "outputs": [],
   "source": [
    "src['year'] = src['year'].astype(str)"
   ]
  },
  {
   "cell_type": "code",
   "execution_count": 4,
   "metadata": {},
   "outputs": [],
   "source": [
    "payroll = pd.DataFrame(src[(src['year'] != '2009') & (src['year'] != '2010')])"
   ]
  },
  {
   "cell_type": "markdown",
   "metadata": {},
   "source": [
    "### How many records, years in the dataframe? "
   ]
  },
  {
   "cell_type": "code",
   "execution_count": 5,
   "metadata": {},
   "outputs": [
    {
     "data": {
      "text/plain": [
       "9756210"
      ]
     },
     "execution_count": 5,
     "metadata": {},
     "output_type": "execute_result"
    }
   ],
   "source": [
    "len(payroll)"
   ]
  },
  {
   "cell_type": "code",
   "execution_count": 6,
   "metadata": {},
   "outputs": [
    {
     "data": {
      "text/html": [
       "<div>\n",
       "<style scoped>\n",
       "    .dataframe tbody tr th:only-of-type {\n",
       "        vertical-align: middle;\n",
       "    }\n",
       "\n",
       "    .dataframe tbody tr th {\n",
       "        vertical-align: top;\n",
       "    }\n",
       "\n",
       "    .dataframe thead th {\n",
       "        text-align: right;\n",
       "    }\n",
       "</style>\n",
       "<table border=\"1\" class=\"dataframe\">\n",
       "  <thead>\n",
       "    <tr style=\"text-align: right;\">\n",
       "      <th></th>\n",
       "      <th>index</th>\n",
       "      <th>year</th>\n",
       "      <th>type</th>\n",
       "      <th>population</th>\n",
       "      <th>employer</th>\n",
       "      <th>department</th>\n",
       "      <th>position</th>\n",
       "      <th>overtime</th>\n",
       "      <th>wages</th>\n",
       "      <th>benefits</th>\n",
       "      <th>employercounty</th>\n",
       "      <th>basewages</th>\n",
       "      <th>adjusted_overtime</th>\n",
       "      <th>adjusted_wages</th>\n",
       "      <th>adjusted_benefits</th>\n",
       "      <th>adjusted_basewages</th>\n",
       "    </tr>\n",
       "  </thead>\n",
       "  <tbody>\n",
       "    <tr>\n",
       "      <th>374773</th>\n",
       "      <td>374773</td>\n",
       "      <td>2017</td>\n",
       "      <td>STATE</td>\n",
       "      <td>0</td>\n",
       "      <td>ADMINISTRATIVE LAW, OFFICE OF</td>\n",
       "      <td>NOT LISTED</td>\n",
       "      <td>ASSISTANT CHIEF COUNSEL</td>\n",
       "      <td>0</td>\n",
       "      <td>169,110</td>\n",
       "      <td>46,725</td>\n",
       "      <td>NAN</td>\n",
       "      <td>169,110</td>\n",
       "      <td>0</td>\n",
       "      <td>176,379</td>\n",
       "      <td>48,733</td>\n",
       "      <td>176,379</td>\n",
       "    </tr>\n",
       "  </tbody>\n",
       "</table>\n",
       "</div>"
      ],
      "text/plain": [
       "         index  year   type  population                       employer  \\\n",
       "374773  374773  2017  STATE           0  ADMINISTRATIVE LAW, OFFICE OF   \n",
       "\n",
       "        department                 position  overtime   wages  benefits  \\\n",
       "374773  NOT LISTED  ASSISTANT CHIEF COUNSEL         0 169,110    46,725   \n",
       "\n",
       "       employercounty  basewages  adjusted_overtime  adjusted_wages  \\\n",
       "374773            NAN    169,110                  0         176,379   \n",
       "\n",
       "        adjusted_benefits  adjusted_basewages  \n",
       "374773             48,733             176,379  "
      ]
     },
     "execution_count": 6,
     "metadata": {},
     "output_type": "execute_result"
    }
   ],
   "source": [
    "payroll.head(1)"
   ]
  },
  {
   "cell_type": "markdown",
   "metadata": {},
   "source": [
    "### Combine employer name, type (ie \"Los Angeles\" vs. \"Los Angeles County\""
   ]
  },
  {
   "cell_type": "code",
   "execution_count": 7,
   "metadata": {},
   "outputs": [],
   "source": [
    "payroll['employerfull'] = (payroll['employer'] + '_' + payroll['type']).str.replace(' ','_')"
   ]
  },
  {
   "cell_type": "markdown",
   "metadata": {},
   "source": [
    "### Read in our processed table of fire titles, convert to a list"
   ]
  },
  {
   "cell_type": "code",
   "execution_count": 8,
   "metadata": {},
   "outputs": [],
   "source": [
    "positions = pd.read_csv('input/positions.csv')"
   ]
  },
  {
   "cell_type": "code",
   "execution_count": 9,
   "metadata": {},
   "outputs": [],
   "source": [
    "positions_list = positions[positions['category'] == 'firefighter']['position'].tolist()"
   ]
  },
  {
   "cell_type": "markdown",
   "metadata": {},
   "source": [
    "### Tag each record it the employee's title matches our 'firefighter' list"
   ]
  },
  {
   "cell_type": "code",
   "execution_count": 10,
   "metadata": {},
   "outputs": [],
   "source": [
    "# payroll['fire'] = \\\n",
    "#     (payroll['position'].isin(positions_list) & payroll['department'].str.contains('FIRE')) | \\\n",
    "#     (payroll['position'].isin(positions_list) & payroll['employer'].str.contains('FIRE'))"
   ]
  },
  {
   "cell_type": "code",
   "execution_count": 11,
   "metadata": {},
   "outputs": [],
   "source": [
    "payroll_fire = pd.DataFrame(payroll[(payroll['position'].isin(positions_list) &\\\n",
    "                                     payroll['department'].str.contains('FIRE')) |\\\n",
    "                                    (payroll['position'].isin(positions_list) &\\\n",
    "                                     payroll['employer'].str.contains('FIRE')) |\\\n",
    "                                   (payroll['position'].isin(positions_list) &\\\n",
    "                                     payroll['position'].str.contains('FIRE'))])"
   ]
  },
  {
   "cell_type": "code",
   "execution_count": 12,
   "metadata": {},
   "outputs": [
    {
     "data": {
      "text/plain": [
       "347574"
      ]
     },
     "execution_count": 12,
     "metadata": {},
     "output_type": "execute_result"
    }
   ],
   "source": [
    "len(payroll_fire)"
   ]
  },
  {
   "cell_type": "markdown",
   "metadata": {},
   "source": [
    "### Read just the 'firefighter' payroll records that included some amount of overtime into a dataframe"
   ]
  },
  {
   "cell_type": "code",
   "execution_count": 13,
   "metadata": {},
   "outputs": [],
   "source": [
    "# payroll_fire = pd.DataFrame(payroll[(payroll['fire'] == True)])\n",
    "# non_payroll_fire = pd.DataFrame(payroll[(payroll['fire'] == False)])"
   ]
  },
  {
   "cell_type": "markdown",
   "metadata": {},
   "source": [
    "### How many fire agenies"
   ]
  },
  {
   "cell_type": "code",
   "execution_count": 14,
   "metadata": {},
   "outputs": [],
   "source": [
    "entities = payroll_fire.groupby(['employer']).agg('size')\n",
    "years = payroll_fire.groupby(['year']).agg('size')"
   ]
  },
  {
   "cell_type": "code",
   "execution_count": 15,
   "metadata": {},
   "outputs": [
    {
     "data": {
      "text/plain": [
       "year\n",
       "2011    37726\n",
       "2012    37671\n",
       "2013    37562\n",
       "2014    37417\n",
       "2015    38441\n",
       "dtype: int64"
      ]
     },
     "execution_count": 15,
     "metadata": {},
     "output_type": "execute_result"
    }
   ],
   "source": [
    "years.head()"
   ]
  },
  {
   "cell_type": "code",
   "execution_count": 16,
   "metadata": {},
   "outputs": [
    {
     "data": {
      "text/plain": [
       "586"
      ]
     },
     "execution_count": 16,
     "metadata": {},
     "output_type": "execute_result"
    }
   ],
   "source": [
    "len(entities)"
   ]
  },
  {
   "cell_type": "markdown",
   "metadata": {},
   "source": [
    "### Export fire payroll dataframe to csv "
   ]
  },
  {
   "cell_type": "code",
   "execution_count": 17,
   "metadata": {},
   "outputs": [],
   "source": [
    "payroll_fire.to_csv('/Users/mhustiles/data/data/controller/output/payroll_fire.csv')"
   ]
  },
  {
   "cell_type": "markdown",
   "metadata": {},
   "source": [
    "---"
   ]
  },
  {
   "cell_type": "markdown",
   "metadata": {},
   "source": [
    "### Statewide aggregates"
   ]
  },
  {
   "cell_type": "code",
   "execution_count": 18,
   "metadata": {},
   "outputs": [],
   "source": [
    "state = payroll_fire.groupby(['year']).agg({'adjusted_overtime':'sum', \\\n",
    "                                            'adjusted_overtime':'sum', \\\n",
    "                                            'adjusted_wages':'sum', \\\n",
    "                                            'adjusted_basewages':'sum', \\\n",
    "                                            'adjusted_benefits':'sum'}).reset_index()"
   ]
  },
  {
   "cell_type": "code",
   "execution_count": 19,
   "metadata": {},
   "outputs": [
    {
     "data": {
      "text/html": [
       "<div>\n",
       "<style scoped>\n",
       "    .dataframe tbody tr th:only-of-type {\n",
       "        vertical-align: middle;\n",
       "    }\n",
       "\n",
       "    .dataframe tbody tr th {\n",
       "        vertical-align: top;\n",
       "    }\n",
       "\n",
       "    .dataframe thead th {\n",
       "        text-align: right;\n",
       "    }\n",
       "</style>\n",
       "<table border=\"1\" class=\"dataframe\">\n",
       "  <thead>\n",
       "    <tr style=\"text-align: right;\">\n",
       "      <th></th>\n",
       "      <th>year</th>\n",
       "      <th>adjusted_overtime</th>\n",
       "      <th>adjusted_wages</th>\n",
       "      <th>adjusted_basewages</th>\n",
       "      <th>adjusted_benefits</th>\n",
       "    </tr>\n",
       "  </thead>\n",
       "  <tbody>\n",
       "    <tr>\n",
       "      <th>0</th>\n",
       "      <td>2011</td>\n",
       "      <td>838,877,369</td>\n",
       "      <td>4,182,727,880</td>\n",
       "      <td>3,343,850,511</td>\n",
       "      <td>1,294,307,252</td>\n",
       "    </tr>\n",
       "    <tr>\n",
       "      <th>1</th>\n",
       "      <td>2012</td>\n",
       "      <td>951,936,641</td>\n",
       "      <td>4,255,059,134</td>\n",
       "      <td>3,303,122,494</td>\n",
       "      <td>1,346,184,409</td>\n",
       "    </tr>\n",
       "    <tr>\n",
       "      <th>2</th>\n",
       "      <td>2013</td>\n",
       "      <td>1,021,348,278</td>\n",
       "      <td>4,264,986,368</td>\n",
       "      <td>3,243,638,090</td>\n",
       "      <td>1,403,209,497</td>\n",
       "    </tr>\n",
       "    <tr>\n",
       "      <th>3</th>\n",
       "      <td>2014</td>\n",
       "      <td>1,094,546,068</td>\n",
       "      <td>4,268,715,795</td>\n",
       "      <td>3,174,169,727</td>\n",
       "      <td>1,464,576,166</td>\n",
       "    </tr>\n",
       "    <tr>\n",
       "      <th>4</th>\n",
       "      <td>2015</td>\n",
       "      <td>1,221,411,273</td>\n",
       "      <td>4,619,236,939</td>\n",
       "      <td>3,397,825,665</td>\n",
       "      <td>1,577,961,644</td>\n",
       "    </tr>\n",
       "    <tr>\n",
       "      <th>5</th>\n",
       "      <td>2016</td>\n",
       "      <td>1,269,955,539</td>\n",
       "      <td>4,770,777,111</td>\n",
       "      <td>3,500,821,572</td>\n",
       "      <td>1,648,770,858</td>\n",
       "    </tr>\n",
       "    <tr>\n",
       "      <th>6</th>\n",
       "      <td>2017</td>\n",
       "      <td>1,354,261,182</td>\n",
       "      <td>4,905,734,068</td>\n",
       "      <td>3,551,472,886</td>\n",
       "      <td>1,542,622,657</td>\n",
       "    </tr>\n",
       "    <tr>\n",
       "      <th>7</th>\n",
       "      <td>2018</td>\n",
       "      <td>1,388,759,908</td>\n",
       "      <td>4,989,322,946</td>\n",
       "      <td>3,600,563,038</td>\n",
       "      <td>1,610,651,254</td>\n",
       "    </tr>\n",
       "  </tbody>\n",
       "</table>\n",
       "</div>"
      ],
      "text/plain": [
       "   year  adjusted_overtime  adjusted_wages  adjusted_basewages  \\\n",
       "0  2011        838,877,369   4,182,727,880       3,343,850,511   \n",
       "1  2012        951,936,641   4,255,059,134       3,303,122,494   \n",
       "2  2013      1,021,348,278   4,264,986,368       3,243,638,090   \n",
       "3  2014      1,094,546,068   4,268,715,795       3,174,169,727   \n",
       "4  2015      1,221,411,273   4,619,236,939       3,397,825,665   \n",
       "5  2016      1,269,955,539   4,770,777,111       3,500,821,572   \n",
       "6  2017      1,354,261,182   4,905,734,068       3,551,472,886   \n",
       "7  2018      1,388,759,908   4,989,322,946       3,600,563,038   \n",
       "\n",
       "   adjusted_benefits  \n",
       "0      1,294,307,252  \n",
       "1      1,346,184,409  \n",
       "2      1,403,209,497  \n",
       "3      1,464,576,166  \n",
       "4      1,577,961,644  \n",
       "5      1,648,770,858  \n",
       "6      1,542,622,657  \n",
       "7      1,610,651,254  "
      ]
     },
     "execution_count": 19,
     "metadata": {},
     "output_type": "execute_result"
    }
   ],
   "source": [
    "state.head(8)"
   ]
  },
  {
   "cell_type": "markdown",
   "metadata": {},
   "source": [
    "### How much has overtime increased statewide? "
   ]
  },
  {
   "cell_type": "code",
   "execution_count": 20,
   "metadata": {},
   "outputs": [
    {
     "data": {
      "text/plain": [
       "'66%'"
      ]
     },
     "execution_count": 20,
     "metadata": {},
     "output_type": "execute_result"
    }
   ],
   "source": [
    "'{:,.0f}%'.format((((state.iloc[7,1] - state.iloc[0,1]) / state.iloc[0,1])*100).round(2))"
   ]
  },
  {
   "cell_type": "code",
   "execution_count": 21,
   "metadata": {},
   "outputs": [
    {
     "data": {
      "text/plain": [
       "'$549,882,539'"
      ]
     },
     "execution_count": 21,
     "metadata": {},
     "output_type": "execute_result"
    }
   ],
   "source": [
    "'${:,.0f}'.format((state.iloc[7,1] - state.iloc[0,1]))"
   ]
  },
  {
   "cell_type": "code",
   "execution_count": 22,
   "metadata": {},
   "outputs": [],
   "source": [
    "state_bar = alt.Chart(state).mark_bar().encode(\n",
    "    x=alt.X('year:N', axis=alt.Axis(format='', tickCount=5)),\n",
    "    y=alt.Y(\"sum(adjusted_overtime):Q\", title=\" \", axis=alt.Axis(format='$,N', tickCount=6))\n",
    ")"
   ]
  },
  {
   "cell_type": "code",
   "execution_count": 23,
   "metadata": {},
   "outputs": [],
   "source": [
    "state_bar_text = state_bar.mark_text(\n",
    "    align='center',\n",
    "    baseline='top',\n",
    "    dx=0,\n",
    "    dy=-20 # Nudges text to right so it doesn't appear on top of the bar\n",
    ").encode(\n",
    "    text=alt.Text('sum(adjusted_overtime):Q', format=\"$,.3s\"))"
   ]
  },
  {
   "cell_type": "code",
   "execution_count": 24,
   "metadata": {},
   "outputs": [
    {
     "data": {
      "text/html": [
       "\n",
       "<div id=\"altair-viz-a310dc3d8e674a0daa23dd3c97dc782c\"></div>\n",
       "<script type=\"text/javascript\">\n",
       "  (function(spec, embedOpt){\n",
       "    let outputDiv = document.currentScript.previousElementSibling;\n",
       "    if (outputDiv.id !== \"altair-viz-a310dc3d8e674a0daa23dd3c97dc782c\") {\n",
       "      outputDiv = document.getElementById(\"altair-viz-a310dc3d8e674a0daa23dd3c97dc782c\");\n",
       "    }\n",
       "    const paths = {\n",
       "      \"vega\": \"https://cdn.jsdelivr.net/npm//vega@5?noext\",\n",
       "      \"vega-lib\": \"https://cdn.jsdelivr.net/npm//vega-lib?noext\",\n",
       "      \"vega-lite\": \"https://cdn.jsdelivr.net/npm//vega-lite@4.8.1?noext\",\n",
       "      \"vega-embed\": \"https://cdn.jsdelivr.net/npm//vega-embed@6?noext\",\n",
       "    };\n",
       "\n",
       "    function loadScript(lib) {\n",
       "      return new Promise(function(resolve, reject) {\n",
       "        var s = document.createElement('script');\n",
       "        s.src = paths[lib];\n",
       "        s.async = true;\n",
       "        s.onload = () => resolve(paths[lib]);\n",
       "        s.onerror = () => reject(`Error loading script: ${paths[lib]}`);\n",
       "        document.getElementsByTagName(\"head\")[0].appendChild(s);\n",
       "      });\n",
       "    }\n",
       "\n",
       "    function showError(err) {\n",
       "      outputDiv.innerHTML = `<div class=\"error\" style=\"color:red;\">${err}</div>`;\n",
       "      throw err;\n",
       "    }\n",
       "\n",
       "    function displayChart(vegaEmbed) {\n",
       "      vegaEmbed(outputDiv, spec, embedOpt)\n",
       "        .catch(err => showError(`Javascript Error: ${err.message}<br>This usually means there's a typo in your chart specification. See the javascript console for the full traceback.`));\n",
       "    }\n",
       "\n",
       "    if(typeof define === \"function\" && define.amd) {\n",
       "      requirejs.config({paths});\n",
       "      require([\"vega-embed\"], displayChart, err => showError(`Error loading script: ${err.message}`));\n",
       "    } else if (typeof vegaEmbed === \"function\") {\n",
       "      displayChart(vegaEmbed);\n",
       "    } else {\n",
       "      loadScript(\"vega\")\n",
       "        .then(() => loadScript(\"vega-lite\"))\n",
       "        .then(() => loadScript(\"vega-embed\"))\n",
       "        .catch(showError)\n",
       "        .then(() => displayChart(vegaEmbed));\n",
       "    }\n",
       "  })({\"config\": {\"view\": {\"width\": 800, \"height\": 450}, \"background\": \"#ffffff\", \"title\": {\"anchor\": \"start\", \"font\": \"Benton Gothic Bold, sans\", \"fontColor\": \"#000000\", \"fontSize\": 22, \"fontWeight\": \"normal\"}, \"arc\": {\"fill\": \"#82c6df\"}, \"area\": {\"fill\": \"#82c6df\"}, \"line\": {\"stroke\": \"#82c6df\", \"strokeWidth\": 3}, \"path\": {\"stroke\": \"#82c6df\"}, \"rect\": {\"fill\": \"#82c6df\"}, \"shape\": {\"stroke\": \"#82c6df\"}, \"bar\": {\"fill\": \"#82c6df\"}, \"point\": {\"stroke\": \"#82c6df\"}, \"symbol\": {\"fill\": \"#82c6df\", \"size\": 30}, \"axis\": {\"titleFont\": \"Benton Gothic Bold, sans\", \"titleFontSize\": 13, \"titleFontWeight\": \"normal\", \"labelFont\": \"Benton Gothic, sans\", \"labelFontSize\": 11.5, \"labelFontWeight\": \"normal\"}, \"axisX\": {\"labelAngle\": 0, \"labelPadding\": 4, \"tickSize\": 3}, \"axisY\": {\"labelBaseline\": \"middle\", \"maxExtent\": 45, \"minExtent\": 45, \"tickSize\": 2, \"titleAlign\": \"left\", \"titleAngle\": 0, \"titleX\": -45, \"titleY\": -11}, \"legend\": {\"titleFont\": \"Benton Gothic Bold, sans\", \"titleFontSize\": 13, \"titleFontWeight\": \"normal\", \"symbolType\": \"square\", \"labelFont\": \"Benton Gothic, sans\", \"labelFontSize\": 11.5}, \"range\": {\"category\": [\"#3580b1\", \"#ec8431\", \"#ab7fb4\", \"#c89d29\", \"#adc839\", \"#829eb1\"], \"diverging\": [\"#e68a4f\", \"#f4bb6a\", \"#f9e39c\", \"#dadfe2\", \"#a6b7c6\", \"#849eae\"], \"heatmap\": [\"#fbf2c7\", \"#f9e39c\", \"#f8d36e\", \"#f4bb6a\", \"#e68a4f\", \"#d15a40\", \"#ab4232\"], \"ordinal\": [\"#fbf2c7\", \"#f9e39c\", \"#f8d36e\", \"#f4bb6a\", \"#e68a4f\", \"#d15a40\", \"#ab4232\"], \"ramp\": [\"#fbf2c7\", \"#f9e39c\", \"#f8d36e\", \"#f4bb6a\", \"#e68a4f\", \"#d15a40\", \"#ab4232\"]}}, \"layer\": [{\"mark\": \"bar\", \"encoding\": {\"x\": {\"type\": \"nominal\", \"axis\": {\"format\": \"\", \"tickCount\": 5}, \"field\": \"year\"}, \"y\": {\"type\": \"quantitative\", \"aggregate\": \"sum\", \"axis\": {\"format\": \"$,N\", \"tickCount\": 6}, \"field\": \"adjusted_overtime\", \"title\": \" \"}}}, {\"mark\": {\"type\": \"text\", \"align\": \"center\", \"baseline\": \"top\", \"dx\": 0, \"dy\": -20}, \"encoding\": {\"text\": {\"type\": \"quantitative\", \"aggregate\": \"sum\", \"field\": \"adjusted_overtime\", \"format\": \"$,.3s\"}, \"x\": {\"type\": \"nominal\", \"axis\": {\"format\": \"\", \"tickCount\": 5}, \"field\": \"year\"}, \"y\": {\"type\": \"quantitative\", \"aggregate\": \"sum\", \"axis\": {\"format\": \"$,N\", \"tickCount\": 6}, \"field\": \"adjusted_overtime\", \"title\": \" \"}}}], \"data\": {\"name\": \"data-91f766f3de87f56c9896a63ce73ce65a\"}, \"height\": 400, \"title\": \"Statewide firefighter overtime spending, 2011-19\", \"width\": 600, \"$schema\": \"https://vega.github.io/schema/vega-lite/v4.8.1.json\", \"datasets\": {\"data-91f766f3de87f56c9896a63ce73ce65a\": [{\"year\": \"2011\", \"adjusted_overtime\": 838877368.844011, \"adjusted_wages\": 4182727879.732572, \"adjusted_basewages\": 3343850510.8885436, \"adjusted_benefits\": 1294307251.6803472}, {\"year\": \"2012\", \"adjusted_overtime\": 951936640.5180783, \"adjusted_wages\": 4255059134.2880735, \"adjusted_basewages\": 3303122493.76997, \"adjusted_benefits\": 1346184409.0152497}, {\"year\": \"2013\", \"adjusted_overtime\": 1021348278.2936391, \"adjusted_wages\": 4264986368.122973, \"adjusted_basewages\": 3243638089.8293233, \"adjusted_benefits\": 1403209497.3860824}, {\"year\": \"2014\", \"adjusted_overtime\": 1094546067.864946, \"adjusted_wages\": 4268715794.7475696, \"adjusted_basewages\": 3174169726.882605, \"adjusted_benefits\": 1464576166.3030877}, {\"year\": \"2015\", \"adjusted_overtime\": 1221411273.439411, \"adjusted_wages\": 4619236938.881642, \"adjusted_basewages\": 3397825665.442222, \"adjusted_benefits\": 1577961643.5482512}, {\"year\": \"2016\", \"adjusted_overtime\": 1269955538.7168217, \"adjusted_wages\": 4770777110.813347, \"adjusted_basewages\": 3500821572.0965676, \"adjusted_benefits\": 1648770858.1644874}, {\"year\": \"2017\", \"adjusted_overtime\": 1354261181.5325458, \"adjusted_wages\": 4905734067.537582, \"adjusted_basewages\": 3551472886.0050383, \"adjusted_benefits\": 1542622656.5650096}, {\"year\": \"2018\", \"adjusted_overtime\": 1388759907.949862, \"adjusted_wages\": 4989322945.643692, \"adjusted_basewages\": 3600563037.69385, \"adjusted_benefits\": 1610651254.344341}, {\"year\": \"2019\", \"adjusted_overtime\": 1274720053.2800004, \"adjusted_wages\": 4890389033.369995, \"adjusted_basewages\": 3615668980.090012, \"adjusted_benefits\": 1656297659.7299948}]}}, {\"mode\": \"vega-lite\"});\n",
       "</script>"
      ],
      "text/plain": [
       "alt.LayerChart(...)"
      ]
     },
     "execution_count": 24,
     "metadata": {},
     "output_type": "execute_result"
    }
   ],
   "source": [
    "(state_bar + state_bar_text)\\\n",
    ".properties(height=400, width=600, title='Statewide firefighter overtime spending, 2011-19')"
   ]
  },
  {
   "cell_type": "markdown",
   "metadata": {},
   "source": [
    "---"
   ]
  },
  {
   "cell_type": "markdown",
   "metadata": {},
   "source": [
    "### Group by employer/type and sum overtime expenses by year"
   ]
  },
  {
   "cell_type": "code",
   "execution_count": 25,
   "metadata": {},
   "outputs": [],
   "source": [
    "payroll_fire_mean = payroll_fire.groupby(['year', 'type']).agg({'adjusted_overtime':'mean', 'adjusted_basewages':'mean'}).reset_index()"
   ]
  },
  {
   "cell_type": "code",
   "execution_count": 26,
   "metadata": {},
   "outputs": [
    {
     "data": {
      "text/html": [
       "<div>\n",
       "<style scoped>\n",
       "    .dataframe tbody tr th:only-of-type {\n",
       "        vertical-align: middle;\n",
       "    }\n",
       "\n",
       "    .dataframe tbody tr th {\n",
       "        vertical-align: top;\n",
       "    }\n",
       "\n",
       "    .dataframe thead th {\n",
       "        text-align: right;\n",
       "    }\n",
       "</style>\n",
       "<table border=\"1\" class=\"dataframe\">\n",
       "  <thead>\n",
       "    <tr style=\"text-align: right;\">\n",
       "      <th></th>\n",
       "      <th>year</th>\n",
       "      <th>type</th>\n",
       "      <th>adjusted_overtime</th>\n",
       "      <th>adjusted_basewages</th>\n",
       "    </tr>\n",
       "  </thead>\n",
       "  <tbody>\n",
       "    <tr>\n",
       "      <th>0</th>\n",
       "      <td>2011</td>\n",
       "      <td>CITY</td>\n",
       "      <td>23,962</td>\n",
       "      <td>105,657</td>\n",
       "    </tr>\n",
       "    <tr>\n",
       "      <th>1</th>\n",
       "      <td>2011</td>\n",
       "      <td>COUNTY</td>\n",
       "      <td>33,913</td>\n",
       "      <td>89,702</td>\n",
       "    </tr>\n",
       "    <tr>\n",
       "      <th>2</th>\n",
       "      <td>2011</td>\n",
       "      <td>SPECIAL DISTRICT</td>\n",
       "      <td>14,664</td>\n",
       "      <td>65,147</td>\n",
       "    </tr>\n",
       "    <tr>\n",
       "      <th>3</th>\n",
       "      <td>2011</td>\n",
       "      <td>STATE</td>\n",
       "      <td>12,787</td>\n",
       "      <td>59,215</td>\n",
       "    </tr>\n",
       "    <tr>\n",
       "      <th>4</th>\n",
       "      <td>2012</td>\n",
       "      <td>CITY</td>\n",
       "      <td>27,840</td>\n",
       "      <td>104,543</td>\n",
       "    </tr>\n",
       "    <tr>\n",
       "      <th>5</th>\n",
       "      <td>2012</td>\n",
       "      <td>COUNTY</td>\n",
       "      <td>33,225</td>\n",
       "      <td>82,974</td>\n",
       "    </tr>\n",
       "    <tr>\n",
       "      <th>6</th>\n",
       "      <td>2012</td>\n",
       "      <td>SPECIAL DISTRICT</td>\n",
       "      <td>15,588</td>\n",
       "      <td>63,790</td>\n",
       "    </tr>\n",
       "    <tr>\n",
       "      <th>7</th>\n",
       "      <td>2012</td>\n",
       "      <td>STATE</td>\n",
       "      <td>18,575</td>\n",
       "      <td>64,370</td>\n",
       "    </tr>\n",
       "    <tr>\n",
       "      <th>8</th>\n",
       "      <td>2013</td>\n",
       "      <td>CITY</td>\n",
       "      <td>30,863</td>\n",
       "      <td>103,929</td>\n",
       "    </tr>\n",
       "    <tr>\n",
       "      <th>9</th>\n",
       "      <td>2013</td>\n",
       "      <td>COUNTY</td>\n",
       "      <td>36,545</td>\n",
       "      <td>82,445</td>\n",
       "    </tr>\n",
       "    <tr>\n",
       "      <th>10</th>\n",
       "      <td>2013</td>\n",
       "      <td>SPECIAL DISTRICT</td>\n",
       "      <td>15,185</td>\n",
       "      <td>61,832</td>\n",
       "    </tr>\n",
       "    <tr>\n",
       "      <th>11</th>\n",
       "      <td>2013</td>\n",
       "      <td>STATE</td>\n",
       "      <td>19,100</td>\n",
       "      <td>63,221</td>\n",
       "    </tr>\n",
       "    <tr>\n",
       "      <th>12</th>\n",
       "      <td>2014</td>\n",
       "      <td>CITY</td>\n",
       "      <td>33,081</td>\n",
       "      <td>102,231</td>\n",
       "    </tr>\n",
       "    <tr>\n",
       "      <th>13</th>\n",
       "      <td>2014</td>\n",
       "      <td>COUNTY</td>\n",
       "      <td>38,581</td>\n",
       "      <td>79,565</td>\n",
       "    </tr>\n",
       "    <tr>\n",
       "      <th>14</th>\n",
       "      <td>2014</td>\n",
       "      <td>SPECIAL DISTRICT</td>\n",
       "      <td>17,292</td>\n",
       "      <td>62,601</td>\n",
       "    </tr>\n",
       "    <tr>\n",
       "      <th>15</th>\n",
       "      <td>2014</td>\n",
       "      <td>STATE</td>\n",
       "      <td>21,572</td>\n",
       "      <td>63,297</td>\n",
       "    </tr>\n",
       "    <tr>\n",
       "      <th>16</th>\n",
       "      <td>2015</td>\n",
       "      <td>CITY</td>\n",
       "      <td>36,494</td>\n",
       "      <td>106,149</td>\n",
       "    </tr>\n",
       "    <tr>\n",
       "      <th>17</th>\n",
       "      <td>2015</td>\n",
       "      <td>COUNTY</td>\n",
       "      <td>42,511</td>\n",
       "      <td>86,253</td>\n",
       "    </tr>\n",
       "    <tr>\n",
       "      <th>18</th>\n",
       "      <td>2015</td>\n",
       "      <td>SPECIAL DISTRICT</td>\n",
       "      <td>18,659</td>\n",
       "      <td>65,054</td>\n",
       "    </tr>\n",
       "    <tr>\n",
       "      <th>19</th>\n",
       "      <td>2015</td>\n",
       "      <td>STATE</td>\n",
       "      <td>21,863</td>\n",
       "      <td>65,052</td>\n",
       "    </tr>\n",
       "    <tr>\n",
       "      <th>20</th>\n",
       "      <td>2016</td>\n",
       "      <td>CITY</td>\n",
       "      <td>36,335</td>\n",
       "      <td>104,927</td>\n",
       "    </tr>\n",
       "    <tr>\n",
       "      <th>21</th>\n",
       "      <td>2016</td>\n",
       "      <td>COUNTY</td>\n",
       "      <td>46,739</td>\n",
       "      <td>91,049</td>\n",
       "    </tr>\n",
       "    <tr>\n",
       "      <th>22</th>\n",
       "      <td>2016</td>\n",
       "      <td>SPECIAL DISTRICT</td>\n",
       "      <td>18,994</td>\n",
       "      <td>65,706</td>\n",
       "    </tr>\n",
       "    <tr>\n",
       "      <th>23</th>\n",
       "      <td>2016</td>\n",
       "      <td>STATE</td>\n",
       "      <td>20,058</td>\n",
       "      <td>64,689</td>\n",
       "    </tr>\n",
       "    <tr>\n",
       "      <th>24</th>\n",
       "      <td>2017</td>\n",
       "      <td>CITY</td>\n",
       "      <td>37,891</td>\n",
       "      <td>105,619</td>\n",
       "    </tr>\n",
       "    <tr>\n",
       "      <th>25</th>\n",
       "      <td>2017</td>\n",
       "      <td>COUNTY</td>\n",
       "      <td>48,338</td>\n",
       "      <td>90,192</td>\n",
       "    </tr>\n",
       "    <tr>\n",
       "      <th>26</th>\n",
       "      <td>2017</td>\n",
       "      <td>SPECIAL DISTRICT</td>\n",
       "      <td>22,065</td>\n",
       "      <td>66,290</td>\n",
       "    </tr>\n",
       "    <tr>\n",
       "      <th>27</th>\n",
       "      <td>2017</td>\n",
       "      <td>STATE</td>\n",
       "      <td>23,871</td>\n",
       "      <td>70,660</td>\n",
       "    </tr>\n",
       "    <tr>\n",
       "      <th>28</th>\n",
       "      <td>2018</td>\n",
       "      <td>CITY</td>\n",
       "      <td>38,254</td>\n",
       "      <td>107,078</td>\n",
       "    </tr>\n",
       "    <tr>\n",
       "      <th>29</th>\n",
       "      <td>2018</td>\n",
       "      <td>COUNTY</td>\n",
       "      <td>47,438</td>\n",
       "      <td>90,154</td>\n",
       "    </tr>\n",
       "    <tr>\n",
       "      <th>30</th>\n",
       "      <td>2018</td>\n",
       "      <td>SPECIAL DISTRICT</td>\n",
       "      <td>22,663</td>\n",
       "      <td>65,719</td>\n",
       "    </tr>\n",
       "    <tr>\n",
       "      <th>31</th>\n",
       "      <td>2018</td>\n",
       "      <td>STATE</td>\n",
       "      <td>27,120</td>\n",
       "      <td>73,364</td>\n",
       "    </tr>\n",
       "    <tr>\n",
       "      <th>32</th>\n",
       "      <td>2019</td>\n",
       "      <td>CITY</td>\n",
       "      <td>35,373</td>\n",
       "      <td>105,399</td>\n",
       "    </tr>\n",
       "    <tr>\n",
       "      <th>33</th>\n",
       "      <td>2019</td>\n",
       "      <td>COUNTY</td>\n",
       "      <td>45,746</td>\n",
       "      <td>90,289</td>\n",
       "    </tr>\n",
       "    <tr>\n",
       "      <th>34</th>\n",
       "      <td>2019</td>\n",
       "      <td>SPECIAL DISTRICT</td>\n",
       "      <td>22,005</td>\n",
       "      <td>68,672</td>\n",
       "    </tr>\n",
       "    <tr>\n",
       "      <th>35</th>\n",
       "      <td>2019</td>\n",
       "      <td>STATE</td>\n",
       "      <td>19,357</td>\n",
       "      <td>71,119</td>\n",
       "    </tr>\n",
       "  </tbody>\n",
       "</table>\n",
       "</div>"
      ],
      "text/plain": [
       "    year              type  adjusted_overtime  adjusted_basewages\n",
       "0   2011              CITY             23,962             105,657\n",
       "1   2011            COUNTY             33,913              89,702\n",
       "2   2011  SPECIAL DISTRICT             14,664              65,147\n",
       "3   2011             STATE             12,787              59,215\n",
       "4   2012              CITY             27,840             104,543\n",
       "5   2012            COUNTY             33,225              82,974\n",
       "6   2012  SPECIAL DISTRICT             15,588              63,790\n",
       "7   2012             STATE             18,575              64,370\n",
       "8   2013              CITY             30,863             103,929\n",
       "9   2013            COUNTY             36,545              82,445\n",
       "10  2013  SPECIAL DISTRICT             15,185              61,832\n",
       "11  2013             STATE             19,100              63,221\n",
       "12  2014              CITY             33,081             102,231\n",
       "13  2014            COUNTY             38,581              79,565\n",
       "14  2014  SPECIAL DISTRICT             17,292              62,601\n",
       "15  2014             STATE             21,572              63,297\n",
       "16  2015              CITY             36,494             106,149\n",
       "17  2015            COUNTY             42,511              86,253\n",
       "18  2015  SPECIAL DISTRICT             18,659              65,054\n",
       "19  2015             STATE             21,863              65,052\n",
       "20  2016              CITY             36,335             104,927\n",
       "21  2016            COUNTY             46,739              91,049\n",
       "22  2016  SPECIAL DISTRICT             18,994              65,706\n",
       "23  2016             STATE             20,058              64,689\n",
       "24  2017              CITY             37,891             105,619\n",
       "25  2017            COUNTY             48,338              90,192\n",
       "26  2017  SPECIAL DISTRICT             22,065              66,290\n",
       "27  2017             STATE             23,871              70,660\n",
       "28  2018              CITY             38,254             107,078\n",
       "29  2018            COUNTY             47,438              90,154\n",
       "30  2018  SPECIAL DISTRICT             22,663              65,719\n",
       "31  2018             STATE             27,120              73,364\n",
       "32  2019              CITY             35,373             105,399\n",
       "33  2019            COUNTY             45,746              90,289\n",
       "34  2019  SPECIAL DISTRICT             22,005              68,672\n",
       "35  2019             STATE             19,357              71,119"
      ]
     },
     "execution_count": 26,
     "metadata": {},
     "output_type": "execute_result"
    }
   ],
   "source": [
    "payroll_fire_mean.head(100)"
   ]
  },
  {
   "cell_type": "markdown",
   "metadata": {},
   "source": [
    "### Pivot on employer type and widen the dataframe across the years"
   ]
  },
  {
   "cell_type": "code",
   "execution_count": 27,
   "metadata": {},
   "outputs": [],
   "source": [
    "payroll_fire_mean_pivot = pd.pivot_table(payroll_fire_mean, \\\n",
    "                            values='adjusted_overtime', index=['type'], columns=['year']).reset_index().fillna(0)"
   ]
  },
  {
   "cell_type": "code",
   "execution_count": 28,
   "metadata": {},
   "outputs": [],
   "source": [
    "payroll_fire_mean_pivot.columns = payroll_fire_mean_pivot.columns.map(str)"
   ]
  },
  {
   "cell_type": "code",
   "execution_count": 29,
   "metadata": {},
   "outputs": [
    {
     "data": {
      "text/html": [
       "<div>\n",
       "<style scoped>\n",
       "    .dataframe tbody tr th:only-of-type {\n",
       "        vertical-align: middle;\n",
       "    }\n",
       "\n",
       "    .dataframe tbody tr th {\n",
       "        vertical-align: top;\n",
       "    }\n",
       "\n",
       "    .dataframe thead th {\n",
       "        text-align: right;\n",
       "    }\n",
       "</style>\n",
       "<table border=\"1\" class=\"dataframe\">\n",
       "  <thead>\n",
       "    <tr style=\"text-align: right;\">\n",
       "      <th>year</th>\n",
       "      <th>type</th>\n",
       "      <th>2011</th>\n",
       "      <th>2012</th>\n",
       "      <th>2013</th>\n",
       "      <th>2014</th>\n",
       "      <th>2015</th>\n",
       "      <th>2016</th>\n",
       "      <th>2017</th>\n",
       "      <th>2018</th>\n",
       "      <th>2019</th>\n",
       "    </tr>\n",
       "  </thead>\n",
       "  <tbody>\n",
       "    <tr>\n",
       "      <th>0</th>\n",
       "      <td>CITY</td>\n",
       "      <td>23,962</td>\n",
       "      <td>27,840</td>\n",
       "      <td>30,863</td>\n",
       "      <td>33,081</td>\n",
       "      <td>36,494</td>\n",
       "      <td>36,335</td>\n",
       "      <td>37,891</td>\n",
       "      <td>38,254</td>\n",
       "      <td>35,373</td>\n",
       "    </tr>\n",
       "    <tr>\n",
       "      <th>1</th>\n",
       "      <td>COUNTY</td>\n",
       "      <td>33,913</td>\n",
       "      <td>33,225</td>\n",
       "      <td>36,545</td>\n",
       "      <td>38,581</td>\n",
       "      <td>42,511</td>\n",
       "      <td>46,739</td>\n",
       "      <td>48,338</td>\n",
       "      <td>47,438</td>\n",
       "      <td>45,746</td>\n",
       "    </tr>\n",
       "    <tr>\n",
       "      <th>2</th>\n",
       "      <td>SPECIAL DISTRICT</td>\n",
       "      <td>14,664</td>\n",
       "      <td>15,588</td>\n",
       "      <td>15,185</td>\n",
       "      <td>17,292</td>\n",
       "      <td>18,659</td>\n",
       "      <td>18,994</td>\n",
       "      <td>22,065</td>\n",
       "      <td>22,663</td>\n",
       "      <td>22,005</td>\n",
       "    </tr>\n",
       "    <tr>\n",
       "      <th>3</th>\n",
       "      <td>STATE</td>\n",
       "      <td>12,787</td>\n",
       "      <td>18,575</td>\n",
       "      <td>19,100</td>\n",
       "      <td>21,572</td>\n",
       "      <td>21,863</td>\n",
       "      <td>20,058</td>\n",
       "      <td>23,871</td>\n",
       "      <td>27,120</td>\n",
       "      <td>19,357</td>\n",
       "    </tr>\n",
       "  </tbody>\n",
       "</table>\n",
       "</div>"
      ],
      "text/plain": [
       "year              type   2011   2012   2013   2014   2015   2016   2017  \\\n",
       "0                 CITY 23,962 27,840 30,863 33,081 36,494 36,335 37,891   \n",
       "1               COUNTY 33,913 33,225 36,545 38,581 42,511 46,739 48,338   \n",
       "2     SPECIAL DISTRICT 14,664 15,588 15,185 17,292 18,659 18,994 22,065   \n",
       "3                STATE 12,787 18,575 19,100 21,572 21,863 20,058 23,871   \n",
       "\n",
       "year   2018   2019  \n",
       "0    38,254 35,373  \n",
       "1    47,438 45,746  \n",
       "2    22,663 22,005  \n",
       "3    27,120 19,357  "
      ]
     },
     "execution_count": 29,
     "metadata": {},
     "output_type": "execute_result"
    }
   ],
   "source": [
    "payroll_fire_mean_pivot.head()"
   ]
  },
  {
   "cell_type": "markdown",
   "metadata": {},
   "source": [
    "### Trim the data set to early, middle and current years"
   ]
  },
  {
   "cell_type": "code",
   "execution_count": 30,
   "metadata": {},
   "outputs": [],
   "source": [
    "fire_pivot = payroll_fire_mean_pivot[['type', '2011','2014','2019']].reset_index()"
   ]
  },
  {
   "cell_type": "markdown",
   "metadata": {},
   "source": [
    "### Select only those places that had some over time"
   ]
  },
  {
   "cell_type": "code",
   "execution_count": 31,
   "metadata": {},
   "outputs": [],
   "source": [
    "fire_pivot = fire_pivot[(fire_pivot['2011'] > 1) &\\\n",
    "                        (fire_pivot['2014'] > 1) &\\\n",
    "                        (fire_pivot['2019'] > 1)]"
   ]
  },
  {
   "cell_type": "code",
   "execution_count": 32,
   "metadata": {},
   "outputs": [],
   "source": [
    "fire_pivot = fire_pivot[['type','2011','2014','2019']]"
   ]
  },
  {
   "cell_type": "markdown",
   "metadata": {},
   "source": [
    "### What was the percentage increase in adjusted overtime, by place?"
   ]
  },
  {
   "cell_type": "code",
   "execution_count": 33,
   "metadata": {},
   "outputs": [],
   "source": [
    "fire_pivot['increase_adjusted_pct'] = (((fire_pivot['2019'] - \\\n",
    "                                    fire_pivot['2011'])/fire_pivot['2011'])*100).astype(int)"
   ]
  },
  {
   "cell_type": "code",
   "execution_count": 34,
   "metadata": {},
   "outputs": [
    {
     "data": {
      "text/html": [
       "<div>\n",
       "<style scoped>\n",
       "    .dataframe tbody tr th:only-of-type {\n",
       "        vertical-align: middle;\n",
       "    }\n",
       "\n",
       "    .dataframe tbody tr th {\n",
       "        vertical-align: top;\n",
       "    }\n",
       "\n",
       "    .dataframe thead th {\n",
       "        text-align: right;\n",
       "    }\n",
       "</style>\n",
       "<table border=\"1\" class=\"dataframe\">\n",
       "  <thead>\n",
       "    <tr style=\"text-align: right;\">\n",
       "      <th>year</th>\n",
       "      <th>type</th>\n",
       "      <th>2011</th>\n",
       "      <th>2014</th>\n",
       "      <th>2019</th>\n",
       "      <th>increase_adjusted_pct</th>\n",
       "    </tr>\n",
       "  </thead>\n",
       "  <tbody>\n",
       "    <tr>\n",
       "      <th>3</th>\n",
       "      <td>STATE</td>\n",
       "      <td>12,787</td>\n",
       "      <td>21,572</td>\n",
       "      <td>19,357</td>\n",
       "      <td>51</td>\n",
       "    </tr>\n",
       "    <tr>\n",
       "      <th>2</th>\n",
       "      <td>SPECIAL DISTRICT</td>\n",
       "      <td>14,664</td>\n",
       "      <td>17,292</td>\n",
       "      <td>22,005</td>\n",
       "      <td>50</td>\n",
       "    </tr>\n",
       "    <tr>\n",
       "      <th>0</th>\n",
       "      <td>CITY</td>\n",
       "      <td>23,962</td>\n",
       "      <td>33,081</td>\n",
       "      <td>35,373</td>\n",
       "      <td>47</td>\n",
       "    </tr>\n",
       "    <tr>\n",
       "      <th>1</th>\n",
       "      <td>COUNTY</td>\n",
       "      <td>33,913</td>\n",
       "      <td>38,581</td>\n",
       "      <td>45,746</td>\n",
       "      <td>34</td>\n",
       "    </tr>\n",
       "  </tbody>\n",
       "</table>\n",
       "</div>"
      ],
      "text/plain": [
       "year              type   2011   2014   2019  increase_adjusted_pct\n",
       "3                STATE 12,787 21,572 19,357                     51\n",
       "2     SPECIAL DISTRICT 14,664 17,292 22,005                     50\n",
       "0                 CITY 23,962 33,081 35,373                     47\n",
       "1               COUNTY 33,913 38,581 45,746                     34"
      ]
     },
     "execution_count": 34,
     "metadata": {},
     "output_type": "execute_result"
    }
   ],
   "source": [
    "fire_pivot.sort_values(by='increase_adjusted_pct', ascending=False).head(10)"
   ]
  },
  {
   "cell_type": "code",
   "execution_count": 35,
   "metadata": {},
   "outputs": [],
   "source": [
    "fire_pivot.to_csv('output/fire_pivot.csv')"
   ]
  },
  {
   "cell_type": "markdown",
   "metadata": {},
   "source": [
    "### How much did overtime, in adjusted dollars, go up for each agency type?"
   ]
  },
  {
   "cell_type": "code",
   "execution_count": 36,
   "metadata": {},
   "outputs": [],
   "source": [
    "employers_grouped = payroll_fire.groupby(['type','year']).agg({'overtime': 'mean'}).reset_index()"
   ]
  },
  {
   "cell_type": "code",
   "execution_count": 37,
   "metadata": {},
   "outputs": [
    {
     "data": {
      "text/plain": [
       "type         object\n",
       "year         object\n",
       "overtime    float64\n",
       "dtype: object"
      ]
     },
     "execution_count": 37,
     "metadata": {},
     "output_type": "execute_result"
    }
   ],
   "source": [
    "employers_grouped.dtypes"
   ]
  },
  {
   "cell_type": "code",
   "execution_count": 38,
   "metadata": {},
   "outputs": [],
   "source": [
    "chart = alt.Chart(employers_grouped).mark_bar().encode(\n",
    "    x=alt.X('year:N', title='', axis=alt.Axis(format='', tickCount=6)),\n",
    "    y=alt.Y('overtime:Q', title='', axis=alt.Axis(format='$,N', tickCount=6)),\n",
    "    facet=alt.Facet('type:N', title='Average firefighter overtime, by CA fire agency type and year')\n",
    ").properties(width=250,height=250)"
   ]
  },
  {
   "cell_type": "code",
   "execution_count": 39,
   "metadata": {},
   "outputs": [
    {
     "data": {
      "text/html": [
       "\n",
       "<div id=\"altair-viz-08621ebdc5e14deda90f55413fc7be59\"></div>\n",
       "<script type=\"text/javascript\">\n",
       "  (function(spec, embedOpt){\n",
       "    let outputDiv = document.currentScript.previousElementSibling;\n",
       "    if (outputDiv.id !== \"altair-viz-08621ebdc5e14deda90f55413fc7be59\") {\n",
       "      outputDiv = document.getElementById(\"altair-viz-08621ebdc5e14deda90f55413fc7be59\");\n",
       "    }\n",
       "    const paths = {\n",
       "      \"vega\": \"https://cdn.jsdelivr.net/npm//vega@5?noext\",\n",
       "      \"vega-lib\": \"https://cdn.jsdelivr.net/npm//vega-lib?noext\",\n",
       "      \"vega-lite\": \"https://cdn.jsdelivr.net/npm//vega-lite@4.8.1?noext\",\n",
       "      \"vega-embed\": \"https://cdn.jsdelivr.net/npm//vega-embed@6?noext\",\n",
       "    };\n",
       "\n",
       "    function loadScript(lib) {\n",
       "      return new Promise(function(resolve, reject) {\n",
       "        var s = document.createElement('script');\n",
       "        s.src = paths[lib];\n",
       "        s.async = true;\n",
       "        s.onload = () => resolve(paths[lib]);\n",
       "        s.onerror = () => reject(`Error loading script: ${paths[lib]}`);\n",
       "        document.getElementsByTagName(\"head\")[0].appendChild(s);\n",
       "      });\n",
       "    }\n",
       "\n",
       "    function showError(err) {\n",
       "      outputDiv.innerHTML = `<div class=\"error\" style=\"color:red;\">${err}</div>`;\n",
       "      throw err;\n",
       "    }\n",
       "\n",
       "    function displayChart(vegaEmbed) {\n",
       "      vegaEmbed(outputDiv, spec, embedOpt)\n",
       "        .catch(err => showError(`Javascript Error: ${err.message}<br>This usually means there's a typo in your chart specification. See the javascript console for the full traceback.`));\n",
       "    }\n",
       "\n",
       "    if(typeof define === \"function\" && define.amd) {\n",
       "      requirejs.config({paths});\n",
       "      require([\"vega-embed\"], displayChart, err => showError(`Error loading script: ${err.message}`));\n",
       "    } else if (typeof vegaEmbed === \"function\") {\n",
       "      displayChart(vegaEmbed);\n",
       "    } else {\n",
       "      loadScript(\"vega\")\n",
       "        .then(() => loadScript(\"vega-lite\"))\n",
       "        .then(() => loadScript(\"vega-embed\"))\n",
       "        .catch(showError)\n",
       "        .then(() => displayChart(vegaEmbed));\n",
       "    }\n",
       "  })({\"config\": {\"view\": {\"width\": 800, \"height\": 450}, \"background\": \"#ffffff\", \"title\": {\"anchor\": \"start\", \"font\": \"Benton Gothic Bold, sans\", \"fontColor\": \"#000000\", \"fontSize\": 22, \"fontWeight\": \"normal\"}, \"arc\": {\"fill\": \"#82c6df\"}, \"area\": {\"fill\": \"#82c6df\"}, \"line\": {\"stroke\": \"#82c6df\", \"strokeWidth\": 3}, \"path\": {\"stroke\": \"#82c6df\"}, \"rect\": {\"fill\": \"#82c6df\"}, \"shape\": {\"stroke\": \"#82c6df\"}, \"bar\": {\"fill\": \"#82c6df\"}, \"point\": {\"stroke\": \"#82c6df\"}, \"symbol\": {\"fill\": \"#82c6df\", \"size\": 30}, \"axis\": {\"titleFont\": \"Benton Gothic Bold, sans\", \"titleFontSize\": 13, \"titleFontWeight\": \"normal\", \"labelFont\": \"Benton Gothic, sans\", \"labelFontSize\": 11.5, \"labelFontWeight\": \"normal\"}, \"axisX\": {\"labelAngle\": 0, \"labelPadding\": 4, \"tickSize\": 3}, \"axisY\": {\"labelBaseline\": \"middle\", \"maxExtent\": 45, \"minExtent\": 45, \"tickSize\": 2, \"titleAlign\": \"left\", \"titleAngle\": 0, \"titleX\": -45, \"titleY\": -11}, \"legend\": {\"titleFont\": \"Benton Gothic Bold, sans\", \"titleFontSize\": 13, \"titleFontWeight\": \"normal\", \"symbolType\": \"square\", \"labelFont\": \"Benton Gothic, sans\", \"labelFontSize\": 11.5}, \"range\": {\"category\": [\"#3580b1\", \"#ec8431\", \"#ab7fb4\", \"#c89d29\", \"#adc839\", \"#829eb1\"], \"diverging\": [\"#e68a4f\", \"#f4bb6a\", \"#f9e39c\", \"#dadfe2\", \"#a6b7c6\", \"#849eae\"], \"heatmap\": [\"#fbf2c7\", \"#f9e39c\", \"#f8d36e\", \"#f4bb6a\", \"#e68a4f\", \"#d15a40\", \"#ab4232\"], \"ordinal\": [\"#fbf2c7\", \"#f9e39c\", \"#f8d36e\", \"#f4bb6a\", \"#e68a4f\", \"#d15a40\", \"#ab4232\"], \"ramp\": [\"#fbf2c7\", \"#f9e39c\", \"#f8d36e\", \"#f4bb6a\", \"#e68a4f\", \"#d15a40\", \"#ab4232\"]}, \"header\": {\"labelColor\": \"Black\", \"labelFontSize\": 11, \"titleColor\": \"Black\", \"titleFontSize\": 18}}, \"data\": {\"name\": \"data-ae9e52b258dd470c4a86e24b89222cc4\"}, \"mark\": \"bar\", \"encoding\": {\"facet\": {\"type\": \"nominal\", \"field\": \"type\", \"title\": \"Average firefighter overtime, by CA fire agency type and year\"}, \"x\": {\"type\": \"nominal\", \"axis\": {\"format\": \"\", \"tickCount\": 6}, \"field\": \"year\", \"title\": \"\"}, \"y\": {\"type\": \"quantitative\", \"axis\": {\"format\": \"$,N\", \"tickCount\": 6}, \"field\": \"overtime\", \"title\": \"\"}}, \"height\": 250, \"width\": 250, \"$schema\": \"https://vega.github.io/schema/vega-lite/v4.8.1.json\", \"datasets\": {\"data-ae9e52b258dd470c4a86e24b89222cc4\": [{\"type\": \"CITY\", \"year\": \"2011\", \"overtime\": 21083.26640963474}, {\"type\": \"CITY\", \"year\": \"2012\", \"overtime\": 25001.856126083287}, {\"type\": \"CITY\", \"year\": \"2013\", \"overtime\": 28122.805983827493}, {\"type\": \"CITY\", \"year\": \"2014\", \"overtime\": 30633.078733600494}, {\"type\": \"CITY\", \"year\": \"2015\", \"overtime\": 33832.79443905595}, {\"type\": \"CITY\", \"year\": \"2016\", \"overtime\": 34110.94775531635}, {\"type\": \"CITY\", \"year\": \"2017\", \"overtime\": 36329.4831689369}, {\"type\": \"CITY\", \"year\": \"2018\", \"overtime\": 37572.7923456}, {\"type\": \"CITY\", \"year\": \"2019\", \"overtime\": 35372.789098158544}, {\"type\": \"COUNTY\", \"year\": \"2011\", \"overtime\": 29838.374683766113}, {\"type\": \"COUNTY\", \"year\": \"2012\", \"overtime\": 29838.21005962391}, {\"type\": \"COUNTY\", \"year\": \"2013\", \"overtime\": 33300.45225574492}, {\"type\": \"COUNTY\", \"year\": \"2014\", \"overtime\": 35725.57878641558}, {\"type\": \"COUNTY\", \"year\": \"2015\", \"overtime\": 39411.441116191076}, {\"type\": \"COUNTY\", \"year\": \"2016\", \"overtime\": 43878.091504263095}, {\"type\": \"COUNTY\", \"year\": \"2017\", \"overtime\": 46345.894909431605}, {\"type\": \"COUNTY\", \"year\": \"2018\", \"overtime\": 46593.72700119474}, {\"type\": \"COUNTY\", \"year\": \"2019\", \"overtime\": 45746.085701191565}, {\"type\": \"SPECIAL DISTRICT\", \"year\": \"2011\", \"overtime\": 12901.953060577229}, {\"type\": \"SPECIAL DISTRICT\", \"year\": \"2012\", \"overtime\": 13999.048202866592}, {\"type\": \"SPECIAL DISTRICT\", \"year\": \"2013\", \"overtime\": 13836.788200514136}, {\"type\": \"SPECIAL DISTRICT\", \"year\": \"2014\", \"overtime\": 16012.4310670545}, {\"type\": \"SPECIAL DISTRICT\", \"year\": \"2015\", \"overtime\": 17299.022498137936}, {\"type\": \"SPECIAL DISTRICT\", \"year\": \"2016\", \"overtime\": 17830.852320675105}, {\"type\": \"SPECIAL DISTRICT\", \"year\": \"2017\", \"overtime\": 21155.79845626072}, {\"type\": \"SPECIAL DISTRICT\", \"year\": \"2018\", \"overtime\": 22259.201105736007}, {\"type\": \"SPECIAL DISTRICT\", \"year\": \"2019\", \"overtime\": 22005.236437617892}, {\"type\": \"STATE\", \"year\": \"2011\", \"overtime\": 11250.49966257697}, {\"type\": \"STATE\", \"year\": \"2012\", \"overtime\": 16681.657815212606}, {\"type\": \"STATE\", \"year\": \"2013\", \"overtime\": 17403.89560313229}, {\"type\": \"STATE\", \"year\": \"2014\", \"overtime\": 19975.281913245442}, {\"type\": \"STATE\", \"year\": \"2015\", \"overtime\": 20268.61569064008}, {\"type\": \"STATE\", \"year\": \"2016\", \"overtime\": 18830.120308527326}, {\"type\": \"STATE\", \"year\": \"2017\", \"overtime\": 22886.893863141053}, {\"type\": \"STATE\", \"year\": \"2018\", \"overtime\": 26637.672416452435}, {\"type\": \"STATE\", \"year\": \"2019\", \"overtime\": 19356.56149001955}]}}, {\"mode\": \"vega-lite\"});\n",
       "</script>"
      ],
      "text/plain": [
       "alt.Chart(...)"
      ]
     },
     "execution_count": 39,
     "metadata": {},
     "output_type": "execute_result"
    }
   ],
   "source": [
    "chart.configure_header(\n",
    "    titleColor='Black',\n",
    "    titleFontSize=18,\n",
    "    labelColor='Black',\n",
    "    labelFontSize=11\n",
    ")"
   ]
  },
  {
   "cell_type": "markdown",
   "metadata": {},
   "source": [
    "### How much has each agency spent — in CPI-inflated dollars — on overtime in the past decade? "
   ]
  },
  {
   "cell_type": "code",
   "execution_count": 40,
   "metadata": {},
   "outputs": [],
   "source": [
    "agency_overtime = payroll_fire.groupby(['employerfull', 'type', 'employercounty','year'])\\\n",
    "                    .agg({'adjusted_overtime':'sum', \\\n",
    "                          'adjusted_wages':'sum',\\\n",
    "                          'adjusted_basewages':'sum',\\\n",
    "                          'overtime':'sum', \\\n",
    "                          'wages':'sum'}).reset_index()"
   ]
  },
  {
   "cell_type": "code",
   "execution_count": 41,
   "metadata": {},
   "outputs": [
    {
     "data": {
      "text/html": [
       "<div>\n",
       "<style scoped>\n",
       "    .dataframe tbody tr th:only-of-type {\n",
       "        vertical-align: middle;\n",
       "    }\n",
       "\n",
       "    .dataframe tbody tr th {\n",
       "        vertical-align: top;\n",
       "    }\n",
       "\n",
       "    .dataframe thead th {\n",
       "        text-align: right;\n",
       "    }\n",
       "</style>\n",
       "<table border=\"1\" class=\"dataframe\">\n",
       "  <thead>\n",
       "    <tr style=\"text-align: right;\">\n",
       "      <th></th>\n",
       "      <th>employerfull</th>\n",
       "      <th>type</th>\n",
       "      <th>employercounty</th>\n",
       "      <th>year</th>\n",
       "      <th>adjusted_overtime</th>\n",
       "      <th>adjusted_wages</th>\n",
       "      <th>adjusted_basewages</th>\n",
       "      <th>overtime</th>\n",
       "      <th>wages</th>\n",
       "    </tr>\n",
       "  </thead>\n",
       "  <tbody>\n",
       "    <tr>\n",
       "      <th>0</th>\n",
       "      <td>ALAMEDA_CITY</td>\n",
       "      <td>CITY</td>\n",
       "      <td>ALAMEDA</td>\n",
       "      <td>2011</td>\n",
       "      <td>803,203</td>\n",
       "      <td>14,023,072</td>\n",
       "      <td>13,219,868</td>\n",
       "      <td>706,696</td>\n",
       "      <td>12,338,155</td>\n",
       "    </tr>\n",
       "    <tr>\n",
       "      <th>1</th>\n",
       "      <td>ALAMEDA_CITY</td>\n",
       "      <td>CITY</td>\n",
       "      <td>ALAMEDA</td>\n",
       "      <td>2012</td>\n",
       "      <td>557,327</td>\n",
       "      <td>13,023,898</td>\n",
       "      <td>12,466,571</td>\n",
       "      <td>500,510</td>\n",
       "      <td>11,696,174</td>\n",
       "    </tr>\n",
       "    <tr>\n",
       "      <th>2</th>\n",
       "      <td>ALAMEDA_CITY</td>\n",
       "      <td>CITY</td>\n",
       "      <td>ALAMEDA</td>\n",
       "      <td>2013</td>\n",
       "      <td>638,283</td>\n",
       "      <td>13,825,347</td>\n",
       "      <td>13,187,065</td>\n",
       "      <td>581,609</td>\n",
       "      <td>12,597,783</td>\n",
       "    </tr>\n",
       "    <tr>\n",
       "      <th>3</th>\n",
       "      <td>ALAMEDA_CITY</td>\n",
       "      <td>CITY</td>\n",
       "      <td>ALAMEDA</td>\n",
       "      <td>2014</td>\n",
       "      <td>1,259,160</td>\n",
       "      <td>14,540,816</td>\n",
       "      <td>13,281,656</td>\n",
       "      <td>1,165,970</td>\n",
       "      <td>13,464,660</td>\n",
       "    </tr>\n",
       "    <tr>\n",
       "      <th>4</th>\n",
       "      <td>ALAMEDA_CITY</td>\n",
       "      <td>CITY</td>\n",
       "      <td>ALAMEDA</td>\n",
       "      <td>2015</td>\n",
       "      <td>2,342,254</td>\n",
       "      <td>15,850,867</td>\n",
       "      <td>13,508,612</td>\n",
       "      <td>2,171,480</td>\n",
       "      <td>14,695,177</td>\n",
       "    </tr>\n",
       "  </tbody>\n",
       "</table>\n",
       "</div>"
      ],
      "text/plain": [
       "   employerfull  type employercounty  year  adjusted_overtime  adjusted_wages  \\\n",
       "0  ALAMEDA_CITY  CITY        ALAMEDA  2011            803,203      14,023,072   \n",
       "1  ALAMEDA_CITY  CITY        ALAMEDA  2012            557,327      13,023,898   \n",
       "2  ALAMEDA_CITY  CITY        ALAMEDA  2013            638,283      13,825,347   \n",
       "3  ALAMEDA_CITY  CITY        ALAMEDA  2014          1,259,160      14,540,816   \n",
       "4  ALAMEDA_CITY  CITY        ALAMEDA  2015          2,342,254      15,850,867   \n",
       "\n",
       "   adjusted_basewages  overtime      wages  \n",
       "0          13,219,868   706,696 12,338,155  \n",
       "1          12,466,571   500,510 11,696,174  \n",
       "2          13,187,065   581,609 12,597,783  \n",
       "3          13,281,656 1,165,970 13,464,660  \n",
       "4          13,508,612 2,171,480 14,695,177  "
      ]
     },
     "execution_count": 41,
     "metadata": {},
     "output_type": "execute_result"
    }
   ],
   "source": [
    "agency_overtime.head()"
   ]
  },
  {
   "cell_type": "markdown",
   "metadata": {},
   "source": [
    "### What's the share of each agency's wages that is overtime?"
   ]
  },
  {
   "cell_type": "code",
   "execution_count": 42,
   "metadata": {},
   "outputs": [],
   "source": [
    "agency_overtime['ot_share_wages'] = ((agency_overtime['overtime'] /\\\n",
    "                                      agency_overtime['wages'])*100).round(2)"
   ]
  },
  {
   "cell_type": "code",
   "execution_count": 43,
   "metadata": {},
   "outputs": [],
   "source": [
    "agency_overtime = pd.DataFrame(agency_overtime\\\n",
    "#                                [agency_overtime['adjusted_overtime'] > 0]\\\n",
    "                              )"
   ]
  },
  {
   "cell_type": "code",
   "execution_count": 44,
   "metadata": {},
   "outputs": [],
   "source": [
    "agency_overtime.to_csv('/Users/mhustiles/data/data/controller/output/agency_overtime.csv')"
   ]
  },
  {
   "cell_type": "markdown",
   "metadata": {},
   "source": [
    "### What about agencies in our area? "
   ]
  },
  {
   "cell_type": "code",
   "execution_count": 45,
   "metadata": {},
   "outputs": [],
   "source": [
    "area_counties = ['LOS ANGELES', 'ORANGE', 'KERN', 'VENTURA', 'RIVERSIDE', 'SAN BERNARDINO']"
   ]
  },
  {
   "cell_type": "code",
   "execution_count": 46,
   "metadata": {},
   "outputs": [],
   "source": [
    "la_agency_overtime = agency_overtime[(agency_overtime['employercounty'] == 'LOS ANGELES') &\\\n",
    "                                         (agency_overtime['type'] != 'SPECIAL DISTRICT')]"
   ]
  },
  {
   "cell_type": "code",
   "execution_count": 47,
   "metadata": {},
   "outputs": [],
   "source": [
    "la_area_agency_overtime = agency_overtime[(agency_overtime['employercounty'].isin(area_counties)) &\\\n",
    "                                         (agency_overtime['type'] != 'SPECIAL DISTRICT')]"
   ]
  },
  {
   "cell_type": "code",
   "execution_count": 48,
   "metadata": {},
   "outputs": [
    {
     "data": {
      "text/html": [
       "<div>\n",
       "<style scoped>\n",
       "    .dataframe tbody tr th:only-of-type {\n",
       "        vertical-align: middle;\n",
       "    }\n",
       "\n",
       "    .dataframe tbody tr th {\n",
       "        vertical-align: top;\n",
       "    }\n",
       "\n",
       "    .dataframe thead th {\n",
       "        text-align: right;\n",
       "    }\n",
       "</style>\n",
       "<table border=\"1\" class=\"dataframe\">\n",
       "  <thead>\n",
       "    <tr style=\"text-align: right;\">\n",
       "      <th></th>\n",
       "      <th>employerfull</th>\n",
       "      <th>type</th>\n",
       "      <th>employercounty</th>\n",
       "      <th>year</th>\n",
       "      <th>adjusted_overtime</th>\n",
       "      <th>adjusted_wages</th>\n",
       "      <th>adjusted_basewages</th>\n",
       "      <th>overtime</th>\n",
       "      <th>wages</th>\n",
       "      <th>ot_share_wages</th>\n",
       "    </tr>\n",
       "  </thead>\n",
       "  <tbody>\n",
       "    <tr>\n",
       "      <th>26</th>\n",
       "      <td>ALHAMBRA_CITY</td>\n",
       "      <td>CITY</td>\n",
       "      <td>LOS ANGELES</td>\n",
       "      <td>2011</td>\n",
       "      <td>2,422,368</td>\n",
       "      <td>8,747,377</td>\n",
       "      <td>6,325,009</td>\n",
       "      <td>2,131,313</td>\n",
       "      <td>7,696,352</td>\n",
       "      <td>28</td>\n",
       "    </tr>\n",
       "    <tr>\n",
       "      <th>27</th>\n",
       "      <td>ALHAMBRA_CITY</td>\n",
       "      <td>CITY</td>\n",
       "      <td>LOS ANGELES</td>\n",
       "      <td>2012</td>\n",
       "      <td>2,620,875</td>\n",
       "      <td>8,626,075</td>\n",
       "      <td>6,005,200</td>\n",
       "      <td>2,353,689</td>\n",
       "      <td>7,746,688</td>\n",
       "      <td>30</td>\n",
       "    </tr>\n",
       "    <tr>\n",
       "      <th>28</th>\n",
       "      <td>ALHAMBRA_CITY</td>\n",
       "      <td>CITY</td>\n",
       "      <td>LOS ANGELES</td>\n",
       "      <td>2013</td>\n",
       "      <td>2,478,488</td>\n",
       "      <td>8,716,864</td>\n",
       "      <td>6,238,376</td>\n",
       "      <td>2,258,421</td>\n",
       "      <td>7,942,886</td>\n",
       "      <td>28</td>\n",
       "    </tr>\n",
       "    <tr>\n",
       "      <th>29</th>\n",
       "      <td>ALHAMBRA_CITY</td>\n",
       "      <td>CITY</td>\n",
       "      <td>LOS ANGELES</td>\n",
       "      <td>2014</td>\n",
       "      <td>2,548,421</td>\n",
       "      <td>8,531,589</td>\n",
       "      <td>5,983,168</td>\n",
       "      <td>2,359,814</td>\n",
       "      <td>7,900,172</td>\n",
       "      <td>30</td>\n",
       "    </tr>\n",
       "    <tr>\n",
       "      <th>30</th>\n",
       "      <td>ALHAMBRA_CITY</td>\n",
       "      <td>CITY</td>\n",
       "      <td>LOS ANGELES</td>\n",
       "      <td>2015</td>\n",
       "      <td>2,214,889</td>\n",
       "      <td>8,262,582</td>\n",
       "      <td>6,047,693</td>\n",
       "      <td>2,053,401</td>\n",
       "      <td>7,660,156</td>\n",
       "      <td>27</td>\n",
       "    </tr>\n",
       "  </tbody>\n",
       "</table>\n",
       "</div>"
      ],
      "text/plain": [
       "     employerfull  type employercounty  year  adjusted_overtime  \\\n",
       "26  ALHAMBRA_CITY  CITY    LOS ANGELES  2011          2,422,368   \n",
       "27  ALHAMBRA_CITY  CITY    LOS ANGELES  2012          2,620,875   \n",
       "28  ALHAMBRA_CITY  CITY    LOS ANGELES  2013          2,478,488   \n",
       "29  ALHAMBRA_CITY  CITY    LOS ANGELES  2014          2,548,421   \n",
       "30  ALHAMBRA_CITY  CITY    LOS ANGELES  2015          2,214,889   \n",
       "\n",
       "    adjusted_wages  adjusted_basewages  overtime     wages  ot_share_wages  \n",
       "26       8,747,377           6,325,009 2,131,313 7,696,352              28  \n",
       "27       8,626,075           6,005,200 2,353,689 7,746,688              30  \n",
       "28       8,716,864           6,238,376 2,258,421 7,942,886              28  \n",
       "29       8,531,589           5,983,168 2,359,814 7,900,172              30  \n",
       "30       8,262,582           6,047,693 2,053,401 7,660,156              27  "
      ]
     },
     "execution_count": 48,
     "metadata": {},
     "output_type": "execute_result"
    }
   ],
   "source": [
    "la_agency_overtime.head(5)"
   ]
  },
  {
   "cell_type": "code",
   "execution_count": 49,
   "metadata": {},
   "outputs": [
    {
     "data": {
      "text/html": [
       "<div>\n",
       "<style scoped>\n",
       "    .dataframe tbody tr th:only-of-type {\n",
       "        vertical-align: middle;\n",
       "    }\n",
       "\n",
       "    .dataframe tbody tr th {\n",
       "        vertical-align: top;\n",
       "    }\n",
       "\n",
       "    .dataframe thead th {\n",
       "        text-align: right;\n",
       "    }\n",
       "</style>\n",
       "<table border=\"1\" class=\"dataframe\">\n",
       "  <thead>\n",
       "    <tr style=\"text-align: right;\">\n",
       "      <th></th>\n",
       "      <th>employerfull</th>\n",
       "      <th>type</th>\n",
       "      <th>employercounty</th>\n",
       "      <th>year</th>\n",
       "      <th>adjusted_overtime</th>\n",
       "      <th>adjusted_wages</th>\n",
       "      <th>adjusted_basewages</th>\n",
       "      <th>overtime</th>\n",
       "      <th>wages</th>\n",
       "      <th>ot_share_wages</th>\n",
       "    </tr>\n",
       "  </thead>\n",
       "  <tbody>\n",
       "    <tr>\n",
       "      <th>2223</th>\n",
       "      <td>LOS_ANGELES_CITY</td>\n",
       "      <td>CITY</td>\n",
       "      <td>LOS ANGELES</td>\n",
       "      <td>2019</td>\n",
       "      <td>207,856,755</td>\n",
       "      <td>628,542,751</td>\n",
       "      <td>420,685,996</td>\n",
       "      <td>207,856,755</td>\n",
       "      <td>628,542,751</td>\n",
       "      <td>33</td>\n",
       "    </tr>\n",
       "    <tr>\n",
       "      <th>2232</th>\n",
       "      <td>LOS_ANGELES_COUNTY</td>\n",
       "      <td>COUNTY</td>\n",
       "      <td>LOS ANGELES</td>\n",
       "      <td>2019</td>\n",
       "      <td>206,244,625</td>\n",
       "      <td>552,503,321</td>\n",
       "      <td>346,258,696</td>\n",
       "      <td>206,244,625</td>\n",
       "      <td>552,503,321</td>\n",
       "      <td>37</td>\n",
       "    </tr>\n",
       "    <tr>\n",
       "      <th>2231</th>\n",
       "      <td>LOS_ANGELES_COUNTY</td>\n",
       "      <td>COUNTY</td>\n",
       "      <td>LOS ANGELES</td>\n",
       "      <td>2018</td>\n",
       "      <td>203,838,869</td>\n",
       "      <td>547,049,838</td>\n",
       "      <td>343,210,969</td>\n",
       "      <td>200,211,091</td>\n",
       "      <td>537,313,837</td>\n",
       "      <td>37</td>\n",
       "    </tr>\n",
       "    <tr>\n",
       "      <th>2230</th>\n",
       "      <td>LOS_ANGELES_COUNTY</td>\n",
       "      <td>COUNTY</td>\n",
       "      <td>LOS ANGELES</td>\n",
       "      <td>2017</td>\n",
       "      <td>206,097,766</td>\n",
       "      <td>544,509,701</td>\n",
       "      <td>338,411,935</td>\n",
       "      <td>197,603,369</td>\n",
       "      <td>522,067,528</td>\n",
       "      <td>38</td>\n",
       "    </tr>\n",
       "    <tr>\n",
       "      <th>2221</th>\n",
       "      <td>LOS_ANGELES_CITY</td>\n",
       "      <td>CITY</td>\n",
       "      <td>LOS ANGELES</td>\n",
       "      <td>2017</td>\n",
       "      <td>204,805,434</td>\n",
       "      <td>612,039,575</td>\n",
       "      <td>407,234,140</td>\n",
       "      <td>196,364,301</td>\n",
       "      <td>586,814,132</td>\n",
       "      <td>33</td>\n",
       "    </tr>\n",
       "    <tr>\n",
       "      <th>2222</th>\n",
       "      <td>LOS_ANGELES_CITY</td>\n",
       "      <td>CITY</td>\n",
       "      <td>LOS ANGELES</td>\n",
       "      <td>2018</td>\n",
       "      <td>198,411,726</td>\n",
       "      <td>606,685,551</td>\n",
       "      <td>408,273,826</td>\n",
       "      <td>194,880,536</td>\n",
       "      <td>595,888,197</td>\n",
       "      <td>33</td>\n",
       "    </tr>\n",
       "    <tr>\n",
       "      <th>2229</th>\n",
       "      <td>LOS_ANGELES_COUNTY</td>\n",
       "      <td>COUNTY</td>\n",
       "      <td>LOS ANGELES</td>\n",
       "      <td>2016</td>\n",
       "      <td>200,750,586</td>\n",
       "      <td>529,889,247</td>\n",
       "      <td>329,138,660</td>\n",
       "      <td>188,461,673</td>\n",
       "      <td>497,452,166</td>\n",
       "      <td>38</td>\n",
       "    </tr>\n",
       "    <tr>\n",
       "      <th>2220</th>\n",
       "      <td>LOS_ANGELES_CITY</td>\n",
       "      <td>CITY</td>\n",
       "      <td>LOS ANGELES</td>\n",
       "      <td>2016</td>\n",
       "      <td>198,223,610</td>\n",
       "      <td>583,796,306</td>\n",
       "      <td>385,572,696</td>\n",
       "      <td>186,089,385</td>\n",
       "      <td>548,059,314</td>\n",
       "      <td>34</td>\n",
       "    </tr>\n",
       "    <tr>\n",
       "      <th>2219</th>\n",
       "      <td>LOS_ANGELES_CITY</td>\n",
       "      <td>CITY</td>\n",
       "      <td>LOS ANGELES</td>\n",
       "      <td>2015</td>\n",
       "      <td>199,022,322</td>\n",
       "      <td>582,418,739</td>\n",
       "      <td>383,396,417</td>\n",
       "      <td>184,511,567</td>\n",
       "      <td>539,954,479</td>\n",
       "      <td>34</td>\n",
       "    </tr>\n",
       "    <tr>\n",
       "      <th>506</th>\n",
       "      <td>CALFIRE_STATE</td>\n",
       "      <td>STATE</td>\n",
       "      <td>NAN</td>\n",
       "      <td>2018</td>\n",
       "      <td>185,538,996</td>\n",
       "      <td>686,704,325</td>\n",
       "      <td>501,165,329</td>\n",
       "      <td>182,236,906</td>\n",
       "      <td>674,482,853</td>\n",
       "      <td>27</td>\n",
       "    </tr>\n",
       "  </tbody>\n",
       "</table>\n",
       "</div>"
      ],
      "text/plain": [
       "            employerfull    type employercounty  year  adjusted_overtime  \\\n",
       "2223    LOS_ANGELES_CITY    CITY    LOS ANGELES  2019        207,856,755   \n",
       "2232  LOS_ANGELES_COUNTY  COUNTY    LOS ANGELES  2019        206,244,625   \n",
       "2231  LOS_ANGELES_COUNTY  COUNTY    LOS ANGELES  2018        203,838,869   \n",
       "2230  LOS_ANGELES_COUNTY  COUNTY    LOS ANGELES  2017        206,097,766   \n",
       "2221    LOS_ANGELES_CITY    CITY    LOS ANGELES  2017        204,805,434   \n",
       "2222    LOS_ANGELES_CITY    CITY    LOS ANGELES  2018        198,411,726   \n",
       "2229  LOS_ANGELES_COUNTY  COUNTY    LOS ANGELES  2016        200,750,586   \n",
       "2220    LOS_ANGELES_CITY    CITY    LOS ANGELES  2016        198,223,610   \n",
       "2219    LOS_ANGELES_CITY    CITY    LOS ANGELES  2015        199,022,322   \n",
       "506        CALFIRE_STATE   STATE            NAN  2018        185,538,996   \n",
       "\n",
       "      adjusted_wages  adjusted_basewages    overtime       wages  \\\n",
       "2223     628,542,751         420,685,996 207,856,755 628,542,751   \n",
       "2232     552,503,321         346,258,696 206,244,625 552,503,321   \n",
       "2231     547,049,838         343,210,969 200,211,091 537,313,837   \n",
       "2230     544,509,701         338,411,935 197,603,369 522,067,528   \n",
       "2221     612,039,575         407,234,140 196,364,301 586,814,132   \n",
       "2222     606,685,551         408,273,826 194,880,536 595,888,197   \n",
       "2229     529,889,247         329,138,660 188,461,673 497,452,166   \n",
       "2220     583,796,306         385,572,696 186,089,385 548,059,314   \n",
       "2219     582,418,739         383,396,417 184,511,567 539,954,479   \n",
       "506      686,704,325         501,165,329 182,236,906 674,482,853   \n",
       "\n",
       "      ot_share_wages  \n",
       "2223              33  \n",
       "2232              37  \n",
       "2231              37  \n",
       "2230              38  \n",
       "2221              33  \n",
       "2222              33  \n",
       "2229              38  \n",
       "2220              34  \n",
       "2219              34  \n",
       "506               27  "
      ]
     },
     "execution_count": 49,
     "metadata": {},
     "output_type": "execute_result"
    }
   ],
   "source": [
    "agency_overtime[agency_overtime.employerfull.str.contains('')].\\\n",
    "    sort_values(by='overtime', ascending=False).head(10)"
   ]
  },
  {
   "cell_type": "code",
   "execution_count": 50,
   "metadata": {},
   "outputs": [
    {
     "data": {
      "text/html": [
       "<div>\n",
       "<style scoped>\n",
       "    .dataframe tbody tr th:only-of-type {\n",
       "        vertical-align: middle;\n",
       "    }\n",
       "\n",
       "    .dataframe tbody tr th {\n",
       "        vertical-align: top;\n",
       "    }\n",
       "\n",
       "    .dataframe thead th {\n",
       "        text-align: right;\n",
       "    }\n",
       "</style>\n",
       "<table border=\"1\" class=\"dataframe\">\n",
       "  <thead>\n",
       "    <tr style=\"text-align: right;\">\n",
       "      <th></th>\n",
       "      <th>employerfull</th>\n",
       "      <th>type</th>\n",
       "      <th>employercounty</th>\n",
       "      <th>year</th>\n",
       "      <th>adjusted_overtime</th>\n",
       "      <th>adjusted_wages</th>\n",
       "      <th>adjusted_basewages</th>\n",
       "      <th>overtime</th>\n",
       "      <th>wages</th>\n",
       "      <th>ot_share_wages</th>\n",
       "    </tr>\n",
       "  </thead>\n",
       "  <tbody>\n",
       "    <tr>\n",
       "      <th>2223</th>\n",
       "      <td>LOS_ANGELES_CITY</td>\n",
       "      <td>CITY</td>\n",
       "      <td>LOS ANGELES</td>\n",
       "      <td>2019</td>\n",
       "      <td>207,856,755</td>\n",
       "      <td>628,542,751</td>\n",
       "      <td>420,685,996</td>\n",
       "      <td>207,856,755</td>\n",
       "      <td>628,542,751</td>\n",
       "      <td>33</td>\n",
       "    </tr>\n",
       "    <tr>\n",
       "      <th>2221</th>\n",
       "      <td>LOS_ANGELES_CITY</td>\n",
       "      <td>CITY</td>\n",
       "      <td>LOS ANGELES</td>\n",
       "      <td>2017</td>\n",
       "      <td>204,805,434</td>\n",
       "      <td>612,039,575</td>\n",
       "      <td>407,234,140</td>\n",
       "      <td>196,364,301</td>\n",
       "      <td>586,814,132</td>\n",
       "      <td>33</td>\n",
       "    </tr>\n",
       "    <tr>\n",
       "      <th>2219</th>\n",
       "      <td>LOS_ANGELES_CITY</td>\n",
       "      <td>CITY</td>\n",
       "      <td>LOS ANGELES</td>\n",
       "      <td>2015</td>\n",
       "      <td>199,022,322</td>\n",
       "      <td>582,418,739</td>\n",
       "      <td>383,396,417</td>\n",
       "      <td>184,511,567</td>\n",
       "      <td>539,954,479</td>\n",
       "      <td>34</td>\n",
       "    </tr>\n",
       "    <tr>\n",
       "      <th>2222</th>\n",
       "      <td>LOS_ANGELES_CITY</td>\n",
       "      <td>CITY</td>\n",
       "      <td>LOS ANGELES</td>\n",
       "      <td>2018</td>\n",
       "      <td>198,411,726</td>\n",
       "      <td>606,685,551</td>\n",
       "      <td>408,273,826</td>\n",
       "      <td>194,880,536</td>\n",
       "      <td>595,888,197</td>\n",
       "      <td>33</td>\n",
       "    </tr>\n",
       "    <tr>\n",
       "      <th>2220</th>\n",
       "      <td>LOS_ANGELES_CITY</td>\n",
       "      <td>CITY</td>\n",
       "      <td>LOS ANGELES</td>\n",
       "      <td>2016</td>\n",
       "      <td>198,223,610</td>\n",
       "      <td>583,796,306</td>\n",
       "      <td>385,572,696</td>\n",
       "      <td>186,089,385</td>\n",
       "      <td>548,059,314</td>\n",
       "      <td>34</td>\n",
       "    </tr>\n",
       "    <tr>\n",
       "      <th>2218</th>\n",
       "      <td>LOS_ANGELES_CITY</td>\n",
       "      <td>CITY</td>\n",
       "      <td>LOS ANGELES</td>\n",
       "      <td>2014</td>\n",
       "      <td>174,201,837</td>\n",
       "      <td>514,491,846</td>\n",
       "      <td>340,290,009</td>\n",
       "      <td>161,309,278</td>\n",
       "      <td>476,414,656</td>\n",
       "      <td>34</td>\n",
       "    </tr>\n",
       "    <tr>\n",
       "      <th>2217</th>\n",
       "      <td>LOS_ANGELES_CITY</td>\n",
       "      <td>CITY</td>\n",
       "      <td>LOS ANGELES</td>\n",
       "      <td>2013</td>\n",
       "      <td>154,272,930</td>\n",
       "      <td>534,463,557</td>\n",
       "      <td>380,190,626</td>\n",
       "      <td>140,574,907</td>\n",
       "      <td>487,008,088</td>\n",
       "      <td>29</td>\n",
       "    </tr>\n",
       "    <tr>\n",
       "      <th>2216</th>\n",
       "      <td>LOS_ANGELES_CITY</td>\n",
       "      <td>CITY</td>\n",
       "      <td>LOS ANGELES</td>\n",
       "      <td>2012</td>\n",
       "      <td>125,749,783</td>\n",
       "      <td>511,540,078</td>\n",
       "      <td>385,790,295</td>\n",
       "      <td>112,930,198</td>\n",
       "      <td>459,391,030</td>\n",
       "      <td>25</td>\n",
       "    </tr>\n",
       "    <tr>\n",
       "      <th>2215</th>\n",
       "      <td>LOS_ANGELES_CITY</td>\n",
       "      <td>CITY</td>\n",
       "      <td>LOS ANGELES</td>\n",
       "      <td>2011</td>\n",
       "      <td>109,199,314</td>\n",
       "      <td>514,016,858</td>\n",
       "      <td>404,817,544</td>\n",
       "      <td>96,078,670</td>\n",
       "      <td>452,256,101</td>\n",
       "      <td>21</td>\n",
       "    </tr>\n",
       "    <tr>\n",
       "      <th>3655</th>\n",
       "      <td>SAN_FRANCISCO_CITY</td>\n",
       "      <td>CITY</td>\n",
       "      <td>SAN FRANCISCO</td>\n",
       "      <td>2013</td>\n",
       "      <td>48,060,755</td>\n",
       "      <td>256,643,251</td>\n",
       "      <td>208,582,496</td>\n",
       "      <td>43,793,400</td>\n",
       "      <td>233,855,681</td>\n",
       "      <td>19</td>\n",
       "    </tr>\n",
       "  </tbody>\n",
       "</table>\n",
       "</div>"
      ],
      "text/plain": [
       "            employerfull  type employercounty  year  adjusted_overtime  \\\n",
       "2223    LOS_ANGELES_CITY  CITY    LOS ANGELES  2019        207,856,755   \n",
       "2221    LOS_ANGELES_CITY  CITY    LOS ANGELES  2017        204,805,434   \n",
       "2219    LOS_ANGELES_CITY  CITY    LOS ANGELES  2015        199,022,322   \n",
       "2222    LOS_ANGELES_CITY  CITY    LOS ANGELES  2018        198,411,726   \n",
       "2220    LOS_ANGELES_CITY  CITY    LOS ANGELES  2016        198,223,610   \n",
       "2218    LOS_ANGELES_CITY  CITY    LOS ANGELES  2014        174,201,837   \n",
       "2217    LOS_ANGELES_CITY  CITY    LOS ANGELES  2013        154,272,930   \n",
       "2216    LOS_ANGELES_CITY  CITY    LOS ANGELES  2012        125,749,783   \n",
       "2215    LOS_ANGELES_CITY  CITY    LOS ANGELES  2011        109,199,314   \n",
       "3655  SAN_FRANCISCO_CITY  CITY  SAN FRANCISCO  2013         48,060,755   \n",
       "\n",
       "      adjusted_wages  adjusted_basewages    overtime       wages  \\\n",
       "2223     628,542,751         420,685,996 207,856,755 628,542,751   \n",
       "2221     612,039,575         407,234,140 196,364,301 586,814,132   \n",
       "2219     582,418,739         383,396,417 184,511,567 539,954,479   \n",
       "2222     606,685,551         408,273,826 194,880,536 595,888,197   \n",
       "2220     583,796,306         385,572,696 186,089,385 548,059,314   \n",
       "2218     514,491,846         340,290,009 161,309,278 476,414,656   \n",
       "2217     534,463,557         380,190,626 140,574,907 487,008,088   \n",
       "2216     511,540,078         385,790,295 112,930,198 459,391,030   \n",
       "2215     514,016,858         404,817,544  96,078,670 452,256,101   \n",
       "3655     256,643,251         208,582,496  43,793,400 233,855,681   \n",
       "\n",
       "      ot_share_wages  \n",
       "2223              33  \n",
       "2221              33  \n",
       "2219              34  \n",
       "2222              33  \n",
       "2220              34  \n",
       "2218              34  \n",
       "2217              29  \n",
       "2216              25  \n",
       "2215              21  \n",
       "3655              19  "
      ]
     },
     "execution_count": 50,
     "metadata": {},
     "output_type": "execute_result"
    }
   ],
   "source": [
    "agency_overtime[agency_overtime.type == 'CITY'].sort_values(by='adjusted_overtime', ascending=False).head(10)"
   ]
  },
  {
   "cell_type": "code",
   "execution_count": 51,
   "metadata": {},
   "outputs": [],
   "source": [
    "agency_overtime.to_csv('output/agency_overtime_share_ot.csv')"
   ]
  },
  {
   "cell_type": "code",
   "execution_count": 52,
   "metadata": {},
   "outputs": [],
   "source": [
    "novato = agency_overtime[agency_overtime['employerfull'].str.contains('NOVATO')]"
   ]
  },
  {
   "cell_type": "code",
   "execution_count": 53,
   "metadata": {},
   "outputs": [
    {
     "data": {
      "text/html": [
       "<div>\n",
       "<style scoped>\n",
       "    .dataframe tbody tr th:only-of-type {\n",
       "        vertical-align: middle;\n",
       "    }\n",
       "\n",
       "    .dataframe tbody tr th {\n",
       "        vertical-align: top;\n",
       "    }\n",
       "\n",
       "    .dataframe thead th {\n",
       "        text-align: right;\n",
       "    }\n",
       "</style>\n",
       "<table border=\"1\" class=\"dataframe\">\n",
       "  <thead>\n",
       "    <tr style=\"text-align: right;\">\n",
       "      <th></th>\n",
       "      <th>employerfull</th>\n",
       "      <th>type</th>\n",
       "      <th>employercounty</th>\n",
       "      <th>year</th>\n",
       "      <th>adjusted_overtime</th>\n",
       "      <th>adjusted_wages</th>\n",
       "      <th>adjusted_basewages</th>\n",
       "      <th>overtime</th>\n",
       "      <th>wages</th>\n",
       "      <th>ot_share_wages</th>\n",
       "    </tr>\n",
       "  </thead>\n",
       "  <tbody>\n",
       "    <tr>\n",
       "      <th>2837</th>\n",
       "      <td>NOVATO_FIRE_PROTECTION_DISTRICT_SPECIAL_DISTRICT</td>\n",
       "      <td>SPECIAL DISTRICT</td>\n",
       "      <td>MARIN</td>\n",
       "      <td>2011</td>\n",
       "      <td>1,213,118</td>\n",
       "      <td>7,245,158</td>\n",
       "      <td>6,032,040</td>\n",
       "      <td>1,067,358</td>\n",
       "      <td>6,374,629</td>\n",
       "      <td>17</td>\n",
       "    </tr>\n",
       "    <tr>\n",
       "      <th>2838</th>\n",
       "      <td>NOVATO_FIRE_PROTECTION_DISTRICT_SPECIAL_DISTRICT</td>\n",
       "      <td>SPECIAL DISTRICT</td>\n",
       "      <td>MARIN</td>\n",
       "      <td>2012</td>\n",
       "      <td>1,572,424</td>\n",
       "      <td>6,504,211</td>\n",
       "      <td>4,931,787</td>\n",
       "      <td>1,412,123</td>\n",
       "      <td>5,841,138</td>\n",
       "      <td>24</td>\n",
       "    </tr>\n",
       "    <tr>\n",
       "      <th>2839</th>\n",
       "      <td>NOVATO_FIRE_PROTECTION_DISTRICT_SPECIAL_DISTRICT</td>\n",
       "      <td>SPECIAL DISTRICT</td>\n",
       "      <td>MARIN</td>\n",
       "      <td>2013</td>\n",
       "      <td>2,268,955</td>\n",
       "      <td>9,772,383</td>\n",
       "      <td>7,503,428</td>\n",
       "      <td>2,067,493</td>\n",
       "      <td>8,904,685</td>\n",
       "      <td>23</td>\n",
       "    </tr>\n",
       "    <tr>\n",
       "      <th>2840</th>\n",
       "      <td>NOVATO_FIRE_PROTECTION_DISTRICT_SPECIAL_DISTRICT</td>\n",
       "      <td>SPECIAL DISTRICT</td>\n",
       "      <td>MARIN</td>\n",
       "      <td>2014</td>\n",
       "      <td>2,435,562</td>\n",
       "      <td>10,452,658</td>\n",
       "      <td>8,017,096</td>\n",
       "      <td>2,255,308</td>\n",
       "      <td>9,679,064</td>\n",
       "      <td>23</td>\n",
       "    </tr>\n",
       "    <tr>\n",
       "      <th>2841</th>\n",
       "      <td>NOVATO_FIRE_PROTECTION_DISTRICT_SPECIAL_DISTRICT</td>\n",
       "      <td>SPECIAL DISTRICT</td>\n",
       "      <td>MARIN</td>\n",
       "      <td>2015</td>\n",
       "      <td>3,071,860</td>\n",
       "      <td>11,025,250</td>\n",
       "      <td>7,953,390</td>\n",
       "      <td>2,847,890</td>\n",
       "      <td>10,221,397</td>\n",
       "      <td>28</td>\n",
       "    </tr>\n",
       "    <tr>\n",
       "      <th>2842</th>\n",
       "      <td>NOVATO_FIRE_PROTECTION_DISTRICT_SPECIAL_DISTRICT</td>\n",
       "      <td>SPECIAL DISTRICT</td>\n",
       "      <td>MARIN</td>\n",
       "      <td>2016</td>\n",
       "      <td>3,617,766</td>\n",
       "      <td>11,539,930</td>\n",
       "      <td>7,922,164</td>\n",
       "      <td>3,396,305</td>\n",
       "      <td>10,833,515</td>\n",
       "      <td>31</td>\n",
       "    </tr>\n",
       "    <tr>\n",
       "      <th>2843</th>\n",
       "      <td>NOVATO_FIRE_PROTECTION_DISTRICT_SPECIAL_DISTRICT</td>\n",
       "      <td>SPECIAL DISTRICT</td>\n",
       "      <td>MARIN</td>\n",
       "      <td>2017</td>\n",
       "      <td>4,014,726</td>\n",
       "      <td>11,914,247</td>\n",
       "      <td>7,899,521</td>\n",
       "      <td>3,849,258</td>\n",
       "      <td>11,423,197</td>\n",
       "      <td>34</td>\n",
       "    </tr>\n",
       "    <tr>\n",
       "      <th>2844</th>\n",
       "      <td>NOVATO_FIRE_PROTECTION_DISTRICT_SPECIAL_DISTRICT</td>\n",
       "      <td>SPECIAL DISTRICT</td>\n",
       "      <td>MARIN</td>\n",
       "      <td>2018</td>\n",
       "      <td>3,937,495</td>\n",
       "      <td>11,634,550</td>\n",
       "      <td>7,697,056</td>\n",
       "      <td>3,867,418</td>\n",
       "      <td>11,427,487</td>\n",
       "      <td>34</td>\n",
       "    </tr>\n",
       "    <tr>\n",
       "      <th>2845</th>\n",
       "      <td>NOVATO_FIRE_PROTECTION_DISTRICT_SPECIAL_DISTRICT</td>\n",
       "      <td>SPECIAL DISTRICT</td>\n",
       "      <td>MARIN</td>\n",
       "      <td>2019</td>\n",
       "      <td>3,306,306</td>\n",
       "      <td>11,378,702</td>\n",
       "      <td>8,072,396</td>\n",
       "      <td>3,306,306</td>\n",
       "      <td>11,378,702</td>\n",
       "      <td>29</td>\n",
       "    </tr>\n",
       "  </tbody>\n",
       "</table>\n",
       "</div>"
      ],
      "text/plain": [
       "                                          employerfull              type  \\\n",
       "2837  NOVATO_FIRE_PROTECTION_DISTRICT_SPECIAL_DISTRICT  SPECIAL DISTRICT   \n",
       "2838  NOVATO_FIRE_PROTECTION_DISTRICT_SPECIAL_DISTRICT  SPECIAL DISTRICT   \n",
       "2839  NOVATO_FIRE_PROTECTION_DISTRICT_SPECIAL_DISTRICT  SPECIAL DISTRICT   \n",
       "2840  NOVATO_FIRE_PROTECTION_DISTRICT_SPECIAL_DISTRICT  SPECIAL DISTRICT   \n",
       "2841  NOVATO_FIRE_PROTECTION_DISTRICT_SPECIAL_DISTRICT  SPECIAL DISTRICT   \n",
       "2842  NOVATO_FIRE_PROTECTION_DISTRICT_SPECIAL_DISTRICT  SPECIAL DISTRICT   \n",
       "2843  NOVATO_FIRE_PROTECTION_DISTRICT_SPECIAL_DISTRICT  SPECIAL DISTRICT   \n",
       "2844  NOVATO_FIRE_PROTECTION_DISTRICT_SPECIAL_DISTRICT  SPECIAL DISTRICT   \n",
       "2845  NOVATO_FIRE_PROTECTION_DISTRICT_SPECIAL_DISTRICT  SPECIAL DISTRICT   \n",
       "\n",
       "     employercounty  year  adjusted_overtime  adjusted_wages  \\\n",
       "2837          MARIN  2011          1,213,118       7,245,158   \n",
       "2838          MARIN  2012          1,572,424       6,504,211   \n",
       "2839          MARIN  2013          2,268,955       9,772,383   \n",
       "2840          MARIN  2014          2,435,562      10,452,658   \n",
       "2841          MARIN  2015          3,071,860      11,025,250   \n",
       "2842          MARIN  2016          3,617,766      11,539,930   \n",
       "2843          MARIN  2017          4,014,726      11,914,247   \n",
       "2844          MARIN  2018          3,937,495      11,634,550   \n",
       "2845          MARIN  2019          3,306,306      11,378,702   \n",
       "\n",
       "      adjusted_basewages  overtime      wages  ot_share_wages  \n",
       "2837           6,032,040 1,067,358  6,374,629              17  \n",
       "2838           4,931,787 1,412,123  5,841,138              24  \n",
       "2839           7,503,428 2,067,493  8,904,685              23  \n",
       "2840           8,017,096 2,255,308  9,679,064              23  \n",
       "2841           7,953,390 2,847,890 10,221,397              28  \n",
       "2842           7,922,164 3,396,305 10,833,515              31  \n",
       "2843           7,899,521 3,849,258 11,423,197              34  \n",
       "2844           7,697,056 3,867,418 11,427,487              34  \n",
       "2845           8,072,396 3,306,306 11,378,702              29  "
      ]
     },
     "execution_count": 53,
     "metadata": {},
     "output_type": "execute_result"
    }
   ],
   "source": [
    "novato.head(10)"
   ]
  },
  {
   "cell_type": "code",
   "execution_count": 54,
   "metadata": {},
   "outputs": [
    {
     "data": {
      "text/plain": [
       "3937494.707937253"
      ]
     },
     "execution_count": 54,
     "metadata": {},
     "output_type": "execute_result"
    }
   ],
   "source": [
    "novato.iloc[7,4] "
   ]
  },
  {
   "cell_type": "code",
   "execution_count": 55,
   "metadata": {},
   "outputs": [
    {
     "data": {
      "text/plain": [
       "'225%'"
      ]
     },
     "execution_count": 55,
     "metadata": {},
     "output_type": "execute_result"
    }
   ],
   "source": [
    "'{:,.0f}%'.format((((novato.iloc[7,4] - novato.iloc[0,4]) / novato.iloc[0,4])*100).round(2))"
   ]
  },
  {
   "cell_type": "markdown",
   "metadata": {},
   "source": [
    "---"
   ]
  },
  {
   "cell_type": "markdown",
   "metadata": {},
   "source": [
    "### Slice out specific large employer to CSVs to share for interviews"
   ]
  },
  {
   "cell_type": "markdown",
   "metadata": {},
   "source": [
    "adjust this so it only gets the biggest departments, not just the biggest cities, counties"
   ]
  },
  {
   "cell_type": "code",
   "execution_count": 56,
   "metadata": {},
   "outputs": [],
   "source": [
    "agencies_totals = agency_overtime.groupby('employerfull').agg({'adjusted_overtime':'sum'})\\\n",
    "    .sort_values(by='adjusted_overtime', ascending=False).reset_index().head(30)"
   ]
  },
  {
   "cell_type": "code",
   "execution_count": 57,
   "metadata": {},
   "outputs": [
    {
     "data": {
      "text/html": [
       "<div>\n",
       "<style scoped>\n",
       "    .dataframe tbody tr th:only-of-type {\n",
       "        vertical-align: middle;\n",
       "    }\n",
       "\n",
       "    .dataframe tbody tr th {\n",
       "        vertical-align: top;\n",
       "    }\n",
       "\n",
       "    .dataframe thead th {\n",
       "        text-align: right;\n",
       "    }\n",
       "</style>\n",
       "<table border=\"1\" class=\"dataframe\">\n",
       "  <thead>\n",
       "    <tr style=\"text-align: right;\">\n",
       "      <th></th>\n",
       "      <th>employerfull</th>\n",
       "      <th>adjusted_overtime</th>\n",
       "    </tr>\n",
       "  </thead>\n",
       "  <tbody>\n",
       "    <tr>\n",
       "      <th>0</th>\n",
       "      <td>LOS_ANGELES_COUNTY</td>\n",
       "      <td>1,614,796,620</td>\n",
       "    </tr>\n",
       "    <tr>\n",
       "      <th>1</th>\n",
       "      <td>LOS_ANGELES_CITY</td>\n",
       "      <td>1,571,743,711</td>\n",
       "    </tr>\n",
       "    <tr>\n",
       "      <th>2</th>\n",
       "      <td>CALFIRE_STATE</td>\n",
       "      <td>1,194,523,149</td>\n",
       "    </tr>\n",
       "    <tr>\n",
       "      <th>3</th>\n",
       "      <td>OC_FIRE_AUTHORITY_SPECIAL_DISTRICT</td>\n",
       "      <td>403,808,457</td>\n",
       "    </tr>\n",
       "    <tr>\n",
       "      <th>4</th>\n",
       "      <td>SAN_FRANCISCO_CITY</td>\n",
       "      <td>360,208,960</td>\n",
       "    </tr>\n",
       "    <tr>\n",
       "      <th>5</th>\n",
       "      <td>SAN_DIEGO_CITY</td>\n",
       "      <td>323,278,734</td>\n",
       "    </tr>\n",
       "    <tr>\n",
       "      <th>6</th>\n",
       "      <td>KERN_COUNTY</td>\n",
       "      <td>193,652,296</td>\n",
       "    </tr>\n",
       "    <tr>\n",
       "      <th>7</th>\n",
       "      <td>VENTURA_COUNTY</td>\n",
       "      <td>179,788,937</td>\n",
       "    </tr>\n",
       "    <tr>\n",
       "      <th>8</th>\n",
       "      <td>SACRAMENTO_METRO_FIRE_SPECIAL_DISTRICT</td>\n",
       "      <td>177,971,688</td>\n",
       "    </tr>\n",
       "    <tr>\n",
       "      <th>9</th>\n",
       "      <td>OAKLAND_CITY</td>\n",
       "      <td>165,893,983</td>\n",
       "    </tr>\n",
       "    <tr>\n",
       "      <th>10</th>\n",
       "      <td>LONG_BEACH_CITY</td>\n",
       "      <td>162,219,595</td>\n",
       "    </tr>\n",
       "    <tr>\n",
       "      <th>11</th>\n",
       "      <td>SACRAMENTO_CITY</td>\n",
       "      <td>121,242,965</td>\n",
       "    </tr>\n",
       "    <tr>\n",
       "      <th>12</th>\n",
       "      <td>CONTRA_COSTA_COUNTY</td>\n",
       "      <td>99,908,487</td>\n",
       "    </tr>\n",
       "    <tr>\n",
       "      <th>13</th>\n",
       "      <td>SAN_JOSE_CITY</td>\n",
       "      <td>98,053,515</td>\n",
       "    </tr>\n",
       "    <tr>\n",
       "      <th>14</th>\n",
       "      <td>ANAHEIM_CITY</td>\n",
       "      <td>92,156,791</td>\n",
       "    </tr>\n",
       "    <tr>\n",
       "      <th>15</th>\n",
       "      <td>SANTA_BARBARA_COUNTY</td>\n",
       "      <td>84,753,233</td>\n",
       "    </tr>\n",
       "    <tr>\n",
       "      <th>16</th>\n",
       "      <td>SAN_BERNARDINO_COUNTY</td>\n",
       "      <td>70,061,178</td>\n",
       "    </tr>\n",
       "    <tr>\n",
       "      <th>17</th>\n",
       "      <td>ALAMEDA_COUNTY</td>\n",
       "      <td>67,380,158</td>\n",
       "    </tr>\n",
       "    <tr>\n",
       "      <th>18</th>\n",
       "      <td>GLENDALE_CITY</td>\n",
       "      <td>64,948,274</td>\n",
       "    </tr>\n",
       "    <tr>\n",
       "      <th>19</th>\n",
       "      <td>FRESNO_CITY</td>\n",
       "      <td>61,865,274</td>\n",
       "    </tr>\n",
       "    <tr>\n",
       "      <th>20</th>\n",
       "      <td>PASADENA_CITY</td>\n",
       "      <td>60,895,409</td>\n",
       "    </tr>\n",
       "    <tr>\n",
       "      <th>21</th>\n",
       "      <td>SAN_RAMON_VALLEY_FIRE_PROTECTION_SPECIAL_DISTRICT</td>\n",
       "      <td>59,072,677</td>\n",
       "    </tr>\n",
       "    <tr>\n",
       "      <th>22</th>\n",
       "      <td>SANTA_MONICA_CITY</td>\n",
       "      <td>57,672,063</td>\n",
       "    </tr>\n",
       "    <tr>\n",
       "      <th>23</th>\n",
       "      <td>RIVERSIDE_CITY</td>\n",
       "      <td>57,108,804</td>\n",
       "    </tr>\n",
       "    <tr>\n",
       "      <th>24</th>\n",
       "      <td>CORONA_CITY</td>\n",
       "      <td>51,888,189</td>\n",
       "    </tr>\n",
       "    <tr>\n",
       "      <th>25</th>\n",
       "      <td>HUNTINGTON_BEACH_CITY</td>\n",
       "      <td>50,766,431</td>\n",
       "    </tr>\n",
       "    <tr>\n",
       "      <th>26</th>\n",
       "      <td>FREMONT_CITY</td>\n",
       "      <td>50,228,497</td>\n",
       "    </tr>\n",
       "    <tr>\n",
       "      <th>27</th>\n",
       "      <td>PLEASANTON_CITY</td>\n",
       "      <td>44,703,681</td>\n",
       "    </tr>\n",
       "    <tr>\n",
       "      <th>28</th>\n",
       "      <td>CHINO_VALLEY_INDEPENDENT_FIRE_DISTRICT_SPECIAL...</td>\n",
       "      <td>44,450,176</td>\n",
       "    </tr>\n",
       "    <tr>\n",
       "      <th>29</th>\n",
       "      <td>BURBANK_CITY</td>\n",
       "      <td>44,082,224</td>\n",
       "    </tr>\n",
       "  </tbody>\n",
       "</table>\n",
       "</div>"
      ],
      "text/plain": [
       "                                         employerfull  adjusted_overtime\n",
       "0                                  LOS_ANGELES_COUNTY      1,614,796,620\n",
       "1                                    LOS_ANGELES_CITY      1,571,743,711\n",
       "2                                       CALFIRE_STATE      1,194,523,149\n",
       "3                  OC_FIRE_AUTHORITY_SPECIAL_DISTRICT        403,808,457\n",
       "4                                  SAN_FRANCISCO_CITY        360,208,960\n",
       "5                                      SAN_DIEGO_CITY        323,278,734\n",
       "6                                         KERN_COUNTY        193,652,296\n",
       "7                                      VENTURA_COUNTY        179,788,937\n",
       "8              SACRAMENTO_METRO_FIRE_SPECIAL_DISTRICT        177,971,688\n",
       "9                                        OAKLAND_CITY        165,893,983\n",
       "10                                    LONG_BEACH_CITY        162,219,595\n",
       "11                                    SACRAMENTO_CITY        121,242,965\n",
       "12                                CONTRA_COSTA_COUNTY         99,908,487\n",
       "13                                      SAN_JOSE_CITY         98,053,515\n",
       "14                                       ANAHEIM_CITY         92,156,791\n",
       "15                               SANTA_BARBARA_COUNTY         84,753,233\n",
       "16                              SAN_BERNARDINO_COUNTY         70,061,178\n",
       "17                                     ALAMEDA_COUNTY         67,380,158\n",
       "18                                      GLENDALE_CITY         64,948,274\n",
       "19                                        FRESNO_CITY         61,865,274\n",
       "20                                      PASADENA_CITY         60,895,409\n",
       "21  SAN_RAMON_VALLEY_FIRE_PROTECTION_SPECIAL_DISTRICT         59,072,677\n",
       "22                                  SANTA_MONICA_CITY         57,672,063\n",
       "23                                     RIVERSIDE_CITY         57,108,804\n",
       "24                                        CORONA_CITY         51,888,189\n",
       "25                              HUNTINGTON_BEACH_CITY         50,766,431\n",
       "26                                       FREMONT_CITY         50,228,497\n",
       "27                                    PLEASANTON_CITY         44,703,681\n",
       "28  CHINO_VALLEY_INDEPENDENT_FIRE_DISTRICT_SPECIAL...         44,450,176\n",
       "29                                       BURBANK_CITY         44,082,224"
      ]
     },
     "execution_count": 57,
     "metadata": {},
     "output_type": "execute_result"
    }
   ],
   "source": [
    "agencies_totals"
   ]
  },
  {
   "cell_type": "code",
   "execution_count": 58,
   "metadata": {},
   "outputs": [],
   "source": [
    "lg_agencies_list = list(agencies_totals.employerfull)"
   ]
  },
  {
   "cell_type": "code",
   "execution_count": 59,
   "metadata": {},
   "outputs": [],
   "source": [
    "lg_agencies_list = ['LOS_ANGELES_COUNTY',\n",
    " 'LOS_ANGELES_CITY',\n",
    " 'CALFIRE_STATE',\n",
    " 'OC_FIRE_AUTHORITY_SPECIAL_DISTRICT',\n",
    " 'SAN_FRANCISCO_CITY',\n",
    " 'SAN_DIEGO_CITY',\n",
    " 'KERN_COUNTY',\n",
    " 'VENTURA_COUNTY',\n",
    " 'SACRAMENTO_METRO_FIRE_SPECIAL_DISTRICT',\n",
    " 'LONG_BEACH_CITY',\n",
    " 'OAKLAND_CITY',\n",
    " 'SACRAMENTO_CITY',\n",
    " 'CONTRA_COSTA_COUNTY',\n",
    " 'SAN_JOSE_CITY',\n",
    " 'ANAHEIM_CITY',\n",
    " 'SANTA_BARBARA_COUNTY',\n",
    " 'PASADENA_CITY',\n",
    " 'GLENDALE_CITY',\n",
    " 'SAN_RAMON_VALLEY_FIRE_PROTECTION_SPECIAL_DISTRICT',\n",
    " 'RIVERSIDE_CITY',\n",
    " 'ALAMEDA_COUNTY',\n",
    " 'FRESNO_CITY',\n",
    " 'ONTARIO_CITY',\n",
    " 'SANTA_MONICA_CITY',\n",
    " 'HUNTINGTON_BEACH_CITY',\n",
    " 'CORONA_CITY',\n",
    " 'SANTA_CLARA_COUNTY',\n",
    " 'FREMONT_CITY',\n",
    " 'CHULA_VISTA_CITY',\n",
    " 'NEWPORT_BEACH_CITY',\n",
    "'EL_SEGUNDO_CITY']"
   ]
  },
  {
   "cell_type": "code",
   "execution_count": 60,
   "metadata": {},
   "outputs": [],
   "source": [
    "large_places = payroll_fire[(payroll_fire['population'] > 100000)]\\\n",
    ".groupby('employerfull').agg('size').reset_index(name='count')"
   ]
  },
  {
   "cell_type": "code",
   "execution_count": 61,
   "metadata": {},
   "outputs": [
    {
     "data": {
      "text/html": [
       "<div>\n",
       "<style scoped>\n",
       "    .dataframe tbody tr th:only-of-type {\n",
       "        vertical-align: middle;\n",
       "    }\n",
       "\n",
       "    .dataframe tbody tr th {\n",
       "        vertical-align: top;\n",
       "    }\n",
       "\n",
       "    .dataframe thead th {\n",
       "        text-align: right;\n",
       "    }\n",
       "</style>\n",
       "<table border=\"1\" class=\"dataframe\">\n",
       "  <thead>\n",
       "    <tr style=\"text-align: right;\">\n",
       "      <th></th>\n",
       "      <th>employerfull</th>\n",
       "      <th>count</th>\n",
       "    </tr>\n",
       "  </thead>\n",
       "  <tbody>\n",
       "    <tr>\n",
       "      <th>0</th>\n",
       "      <td>ALAMEDA_COUNTY</td>\n",
       "      <td>1479</td>\n",
       "    </tr>\n",
       "    <tr>\n",
       "      <th>1</th>\n",
       "      <td>ANAHEIM_CITY</td>\n",
       "      <td>1948</td>\n",
       "    </tr>\n",
       "    <tr>\n",
       "      <th>2</th>\n",
       "      <td>BAKERSFIELD_CITY</td>\n",
       "      <td>1647</td>\n",
       "    </tr>\n",
       "    <tr>\n",
       "      <th>3</th>\n",
       "      <td>BERKELEY_CITY</td>\n",
       "      <td>1187</td>\n",
       "    </tr>\n",
       "    <tr>\n",
       "      <th>4</th>\n",
       "      <td>BURBANK_CITY</td>\n",
       "      <td>1104</td>\n",
       "    </tr>\n",
       "  </tbody>\n",
       "</table>\n",
       "</div>"
      ],
      "text/plain": [
       "       employerfull  count\n",
       "0    ALAMEDA_COUNTY   1479\n",
       "1      ANAHEIM_CITY   1948\n",
       "2  BAKERSFIELD_CITY   1647\n",
       "3     BERKELEY_CITY   1187\n",
       "4      BURBANK_CITY   1104"
      ]
     },
     "execution_count": 61,
     "metadata": {},
     "output_type": "execute_result"
    }
   ],
   "source": [
    "large_places.head(5)"
   ]
  },
  {
   "cell_type": "code",
   "execution_count": 62,
   "metadata": {},
   "outputs": [],
   "source": [
    "locations = []\n",
    "for p in lg_agencies_list:\n",
    "    locations.append(dict(location = p))"
   ]
  },
  {
   "cell_type": "code",
   "execution_count": 63,
   "metadata": {},
   "outputs": [],
   "source": [
    "df = pd.DataFrame()\n",
    "\n",
    "for l in locations:\n",
    "    d = l['location']\n",
    "    place = payroll_fire[payroll_fire['employerfull'] == d]\n",
    "    place.to_csv(f'output/places/' + d.lower() + '_employee_list' + '.csv' , sep=',', index=False)\n",
    "    place_slim = pd.DataFrame(place[['employer', 'type', 'overtime', 'wages', 'adjusted_overtime', 'year']])\n",
    "    place_slim_grouped = place_slim.groupby(['employer', 'type', 'year'])\\\n",
    "                .agg({'overtime': 'sum', 'adjusted_overtime': 'sum', 'wages': 'sum'}).reset_index()\n",
    "    place_slim_grouped.to_csv(f'output/places/' + d.lower() + '_summary' + '.csv' , sep=',', index=False)\n",
    "    place_slim_grouped_pivot = pd.pivot_table(place_slim_grouped, \\\n",
    "                values='adjusted_overtime', index=['employer', 'type'], columns=['year']).reset_index().fillna(0)\n",
    "    place_slim_grouped_pivot_slim = pd.DataFrame(place_slim_grouped_pivot[['employer','type','2011','2018']])\n",
    "    place_slim_grouped_pivot_slim['adjusted_ot_pct_change'] = \\\n",
    "                ((place_slim_grouped_pivot_slim['2018']-place_slim_grouped_pivot_slim['2011'])/\\\n",
    "                 place_slim_grouped_pivot_slim['2011'])*100\n",
    "    place_slim_grouped_pivot_slim.to_csv(f'output/places/' + d.lower() + '_pivot' + '.csv' , sep=',', index=False)"
   ]
  },
  {
   "cell_type": "markdown",
   "metadata": {},
   "source": [
    "### Create a dataframe combining and pivoting listing all the large places"
   ]
  },
  {
   "cell_type": "code",
   "execution_count": 64,
   "metadata": {},
   "outputs": [],
   "source": [
    "large_places_df = payroll_fire[(payroll_fire['population'] > 10000) \\\n",
    "                               & (payroll_fire['employer'] != 'FRESNO')].groupby(['employer', 'type', 'year'])\\\n",
    "                .agg({'adjusted_overtime': 'sum'}).reset_index()"
   ]
  },
  {
   "cell_type": "code",
   "execution_count": 65,
   "metadata": {},
   "outputs": [],
   "source": [
    "large_places_df_pivot = pd.DataFrame(pd.pivot_table(large_places_df, \\\n",
    "                values='adjusted_overtime', index=['employer', 'type'], columns=['year']).reset_index().fillna(0))"
   ]
  },
  {
   "cell_type": "code",
   "execution_count": 66,
   "metadata": {},
   "outputs": [],
   "source": [
    "large_places_df_pivot['adjusted_ot_pct_change'] = \\\n",
    "                ((large_places_df_pivot['2019']-large_places_df_pivot['2011'])/\\\n",
    "                 large_places_df_pivot['2011'])*100"
   ]
  },
  {
   "cell_type": "code",
   "execution_count": 67,
   "metadata": {},
   "outputs": [],
   "source": [
    "places = large_places_df_pivot[(large_places_df_pivot['2011'] > 10000) & (large_places_df_pivot['2019'] > 10000)]"
   ]
  },
  {
   "cell_type": "code",
   "execution_count": 68,
   "metadata": {},
   "outputs": [
    {
     "data": {
      "text/html": [
       "<div>\n",
       "<style scoped>\n",
       "    .dataframe tbody tr th:only-of-type {\n",
       "        vertical-align: middle;\n",
       "    }\n",
       "\n",
       "    .dataframe tbody tr th {\n",
       "        vertical-align: top;\n",
       "    }\n",
       "\n",
       "    .dataframe thead th {\n",
       "        text-align: right;\n",
       "    }\n",
       "</style>\n",
       "<table border=\"1\" class=\"dataframe\">\n",
       "  <thead>\n",
       "    <tr style=\"text-align: right;\">\n",
       "      <th>year</th>\n",
       "      <th>employer</th>\n",
       "      <th>type</th>\n",
       "      <th>2011</th>\n",
       "      <th>2012</th>\n",
       "      <th>2013</th>\n",
       "      <th>2014</th>\n",
       "      <th>2015</th>\n",
       "      <th>2016</th>\n",
       "      <th>2017</th>\n",
       "      <th>2018</th>\n",
       "      <th>2019</th>\n",
       "      <th>adjusted_ot_pct_change</th>\n",
       "    </tr>\n",
       "  </thead>\n",
       "  <tbody>\n",
       "    <tr>\n",
       "      <th>0</th>\n",
       "      <td>ALAMEDA</td>\n",
       "      <td>CITY</td>\n",
       "      <td>803,203</td>\n",
       "      <td>557,327</td>\n",
       "      <td>638,283</td>\n",
       "      <td>1,259,160</td>\n",
       "      <td>2,342,254</td>\n",
       "      <td>1,370,063</td>\n",
       "      <td>1,443,485</td>\n",
       "      <td>2,032,825</td>\n",
       "      <td>2,676,033</td>\n",
       "      <td>233</td>\n",
       "    </tr>\n",
       "    <tr>\n",
       "      <th>1</th>\n",
       "      <td>ALAMEDA</td>\n",
       "      <td>COUNTY</td>\n",
       "      <td>0</td>\n",
       "      <td>0</td>\n",
       "      <td>0</td>\n",
       "      <td>0</td>\n",
       "      <td>14,208,990</td>\n",
       "      <td>16,152,871</td>\n",
       "      <td>3,503,457</td>\n",
       "      <td>17,187,372</td>\n",
       "      <td>16,327,468</td>\n",
       "      <td>inf</td>\n",
       "    </tr>\n",
       "    <tr>\n",
       "      <th>2</th>\n",
       "      <td>ALBANY</td>\n",
       "      <td>CITY</td>\n",
       "      <td>582,145</td>\n",
       "      <td>784,939</td>\n",
       "      <td>649,931</td>\n",
       "      <td>615,708</td>\n",
       "      <td>660,770</td>\n",
       "      <td>0</td>\n",
       "      <td>809,076</td>\n",
       "      <td>941,092</td>\n",
       "      <td>913,016</td>\n",
       "      <td>57</td>\n",
       "    </tr>\n",
       "    <tr>\n",
       "      <th>3</th>\n",
       "      <td>ALHAMBRA</td>\n",
       "      <td>CITY</td>\n",
       "      <td>2,422,368</td>\n",
       "      <td>2,620,875</td>\n",
       "      <td>2,478,488</td>\n",
       "      <td>2,548,421</td>\n",
       "      <td>2,214,889</td>\n",
       "      <td>3,013,562</td>\n",
       "      <td>3,504,914</td>\n",
       "      <td>3,780,845</td>\n",
       "      <td>2,818,008</td>\n",
       "      <td>16</td>\n",
       "    </tr>\n",
       "    <tr>\n",
       "      <th>4</th>\n",
       "      <td>AMADOR</td>\n",
       "      <td>COUNTY</td>\n",
       "      <td>0</td>\n",
       "      <td>0</td>\n",
       "      <td>0</td>\n",
       "      <td>0</td>\n",
       "      <td>0</td>\n",
       "      <td>0</td>\n",
       "      <td>510,179</td>\n",
       "      <td>470,262</td>\n",
       "      <td>401,231</td>\n",
       "      <td>inf</td>\n",
       "    </tr>\n",
       "  </tbody>\n",
       "</table>\n",
       "</div>"
      ],
      "text/plain": [
       "year  employer    type      2011      2012      2013      2014       2015  \\\n",
       "0      ALAMEDA    CITY   803,203   557,327   638,283 1,259,160  2,342,254   \n",
       "1      ALAMEDA  COUNTY         0         0         0         0 14,208,990   \n",
       "2       ALBANY    CITY   582,145   784,939   649,931   615,708    660,770   \n",
       "3     ALHAMBRA    CITY 2,422,368 2,620,875 2,478,488 2,548,421  2,214,889   \n",
       "4       AMADOR  COUNTY         0         0         0         0          0   \n",
       "\n",
       "year       2016      2017       2018       2019  adjusted_ot_pct_change  \n",
       "0     1,370,063 1,443,485  2,032,825  2,676,033                     233  \n",
       "1    16,152,871 3,503,457 17,187,372 16,327,468                     inf  \n",
       "2             0   809,076    941,092    913,016                      57  \n",
       "3     3,013,562 3,504,914  3,780,845  2,818,008                      16  \n",
       "4             0   510,179    470,262    401,231                     inf  "
      ]
     },
     "execution_count": 68,
     "metadata": {},
     "output_type": "execute_result"
    }
   ],
   "source": [
    "large_places_df_pivot.head()"
   ]
  },
  {
   "cell_type": "code",
   "execution_count": 69,
   "metadata": {},
   "outputs": [],
   "source": [
    "large_places_df_pivot['adjusted_ot_pct_change'] = \\\n",
    "                ((large_places_df_pivot['2019']-large_places_df_pivot['2011'])/\\\n",
    "                 large_places_df_pivot['2014'])*100"
   ]
  },
  {
   "cell_type": "code",
   "execution_count": 70,
   "metadata": {},
   "outputs": [],
   "source": [
    "places = large_places_df_pivot[(large_places_df_pivot['2014'] > 0) & (large_places_df_pivot['2019'] > 0)]"
   ]
  },
  {
   "cell_type": "code",
   "execution_count": 71,
   "metadata": {},
   "outputs": [
    {
     "data": {
      "text/html": [
       "<div>\n",
       "<style scoped>\n",
       "    .dataframe tbody tr th:only-of-type {\n",
       "        vertical-align: middle;\n",
       "    }\n",
       "\n",
       "    .dataframe tbody tr th {\n",
       "        vertical-align: top;\n",
       "    }\n",
       "\n",
       "    .dataframe thead th {\n",
       "        text-align: right;\n",
       "    }\n",
       "</style>\n",
       "<table border=\"1\" class=\"dataframe\">\n",
       "  <thead>\n",
       "    <tr style=\"text-align: right;\">\n",
       "      <th>year</th>\n",
       "      <th>employer</th>\n",
       "      <th>type</th>\n",
       "      <th>2011</th>\n",
       "      <th>2012</th>\n",
       "      <th>2013</th>\n",
       "      <th>2014</th>\n",
       "      <th>2015</th>\n",
       "      <th>2016</th>\n",
       "      <th>2017</th>\n",
       "      <th>2018</th>\n",
       "      <th>2019</th>\n",
       "      <th>adjusted_ot_pct_change</th>\n",
       "    </tr>\n",
       "  </thead>\n",
       "  <tbody>\n",
       "    <tr>\n",
       "      <th>92</th>\n",
       "      <td>LOS ANGELES</td>\n",
       "      <td>CITY</td>\n",
       "      <td>109,199,314</td>\n",
       "      <td>125,749,783</td>\n",
       "      <td>154,272,930</td>\n",
       "      <td>174,201,837</td>\n",
       "      <td>199,022,322</td>\n",
       "      <td>198,223,610</td>\n",
       "      <td>204,805,434</td>\n",
       "      <td>198,411,726</td>\n",
       "      <td>207,856,755</td>\n",
       "      <td>57</td>\n",
       "    </tr>\n",
       "    <tr>\n",
       "      <th>93</th>\n",
       "      <td>LOS ANGELES</td>\n",
       "      <td>COUNTY</td>\n",
       "      <td>143,138,158</td>\n",
       "      <td>147,633,267</td>\n",
       "      <td>162,505,150</td>\n",
       "      <td>165,835,905</td>\n",
       "      <td>178,752,293</td>\n",
       "      <td>200,750,586</td>\n",
       "      <td>206,097,766</td>\n",
       "      <td>203,838,869</td>\n",
       "      <td>206,244,625</td>\n",
       "      <td>38</td>\n",
       "    </tr>\n",
       "    <tr>\n",
       "      <th>165</th>\n",
       "      <td>SAN DIEGO</td>\n",
       "      <td>CITY</td>\n",
       "      <td>22,423,000</td>\n",
       "      <td>34,272,611</td>\n",
       "      <td>34,778,859</td>\n",
       "      <td>34,848,758</td>\n",
       "      <td>33,382,613</td>\n",
       "      <td>35,550,931</td>\n",
       "      <td>40,670,330</td>\n",
       "      <td>44,342,226</td>\n",
       "      <td>43,009,407</td>\n",
       "      <td>59</td>\n",
       "    </tr>\n",
       "    <tr>\n",
       "      <th>167</th>\n",
       "      <td>SAN FRANCISCO</td>\n",
       "      <td>CITY</td>\n",
       "      <td>33,152,175</td>\n",
       "      <td>44,611,341</td>\n",
       "      <td>48,060,755</td>\n",
       "      <td>40,919,023</td>\n",
       "      <td>42,820,606</td>\n",
       "      <td>44,492,970</td>\n",
       "      <td>36,227,255</td>\n",
       "      <td>34,856,055</td>\n",
       "      <td>35,068,780</td>\n",
       "      <td>5</td>\n",
       "    </tr>\n",
       "    <tr>\n",
       "      <th>125</th>\n",
       "      <td>OAKLAND</td>\n",
       "      <td>CITY</td>\n",
       "      <td>187,966</td>\n",
       "      <td>16,571,623</td>\n",
       "      <td>18,161,242</td>\n",
       "      <td>22,341,243</td>\n",
       "      <td>23,179,979</td>\n",
       "      <td>23,263,548</td>\n",
       "      <td>20,376,972</td>\n",
       "      <td>19,384,231</td>\n",
       "      <td>22,427,180</td>\n",
       "      <td>100</td>\n",
       "    </tr>\n",
       "  </tbody>\n",
       "</table>\n",
       "</div>"
      ],
      "text/plain": [
       "year       employer    type        2011        2012        2013        2014  \\\n",
       "92      LOS ANGELES    CITY 109,199,314 125,749,783 154,272,930 174,201,837   \n",
       "93      LOS ANGELES  COUNTY 143,138,158 147,633,267 162,505,150 165,835,905   \n",
       "165       SAN DIEGO    CITY  22,423,000  34,272,611  34,778,859  34,848,758   \n",
       "167   SAN FRANCISCO    CITY  33,152,175  44,611,341  48,060,755  40,919,023   \n",
       "125         OAKLAND    CITY     187,966  16,571,623  18,161,242  22,341,243   \n",
       "\n",
       "year        2015        2016        2017        2018        2019  \\\n",
       "92   199,022,322 198,223,610 204,805,434 198,411,726 207,856,755   \n",
       "93   178,752,293 200,750,586 206,097,766 203,838,869 206,244,625   \n",
       "165   33,382,613  35,550,931  40,670,330  44,342,226  43,009,407   \n",
       "167   42,820,606  44,492,970  36,227,255  34,856,055  35,068,780   \n",
       "125   23,179,979  23,263,548  20,376,972  19,384,231  22,427,180   \n",
       "\n",
       "year  adjusted_ot_pct_change  \n",
       "92                        57  \n",
       "93                        38  \n",
       "165                       59  \n",
       "167                        5  \n",
       "125                      100  "
      ]
     },
     "execution_count": 71,
     "metadata": {},
     "output_type": "execute_result"
    }
   ],
   "source": [
    "places.sort_values(by='2019', ascending=False).head()"
   ]
  },
  {
   "cell_type": "code",
   "execution_count": 72,
   "metadata": {},
   "outputs": [],
   "source": [
    "places.to_csv('output/places/large_places.csv')"
   ]
  },
  {
   "cell_type": "markdown",
   "metadata": {},
   "source": [
    "---"
   ]
  },
  {
   "cell_type": "markdown",
   "metadata": {},
   "source": [
    "### Aggregating agencies by county"
   ]
  },
  {
   "cell_type": "code",
   "execution_count": 73,
   "metadata": {},
   "outputs": [],
   "source": [
    "counties = agency_overtime[agency_overtime['employercounty'] != 'NAN'].\\\n",
    "                           groupby(['employercounty', 'year']).agg({'adjusted_overtime':'sum'}).reset_index()"
   ]
  },
  {
   "cell_type": "code",
   "execution_count": 74,
   "metadata": {},
   "outputs": [],
   "source": [
    "counties_pivot = pd.pivot_table(counties, \\\n",
    "                            values='adjusted_overtime',\\\n",
    "                            index=['employercounty'], \\\n",
    "                            columns=['year']).reset_index().fillna(0)"
   ]
  },
  {
   "cell_type": "code",
   "execution_count": 75,
   "metadata": {},
   "outputs": [],
   "source": [
    "counties_pivot.columns = counties_pivot.columns.map(str)"
   ]
  },
  {
   "cell_type": "code",
   "execution_count": 76,
   "metadata": {},
   "outputs": [],
   "source": [
    "counties_pivot.to_csv('output/counties_pivot.csv')"
   ]
  },
  {
   "cell_type": "code",
   "execution_count": 77,
   "metadata": {},
   "outputs": [],
   "source": [
    "counties_pivot_trim = pd.DataFrame(counties_pivot[(counties_pivot['2011'] > 0) & (counties_pivot['2019'] > 0)])"
   ]
  },
  {
   "cell_type": "code",
   "execution_count": 78,
   "metadata": {},
   "outputs": [],
   "source": [
    "counties_pivot_trim['pct_increase'] = ((((counties_pivot_trim['2019'] - counties_pivot_trim['2011']) \\\n",
    "                               / counties_pivot_trim['2011'])*100).round(2)).astype(int)"
   ]
  },
  {
   "cell_type": "code",
   "execution_count": 79,
   "metadata": {},
   "outputs": [
    {
     "data": {
      "text/html": [
       "<div>\n",
       "<style scoped>\n",
       "    .dataframe tbody tr th:only-of-type {\n",
       "        vertical-align: middle;\n",
       "    }\n",
       "\n",
       "    .dataframe tbody tr th {\n",
       "        vertical-align: top;\n",
       "    }\n",
       "\n",
       "    .dataframe thead th {\n",
       "        text-align: right;\n",
       "    }\n",
       "</style>\n",
       "<table border=\"1\" class=\"dataframe\">\n",
       "  <thead>\n",
       "    <tr style=\"text-align: right;\">\n",
       "      <th>year</th>\n",
       "      <th>employercounty</th>\n",
       "      <th>2011</th>\n",
       "      <th>2012</th>\n",
       "      <th>2013</th>\n",
       "      <th>2014</th>\n",
       "      <th>2015</th>\n",
       "      <th>2016</th>\n",
       "      <th>2017</th>\n",
       "      <th>2018</th>\n",
       "      <th>2019</th>\n",
       "      <th>pct_increase</th>\n",
       "    </tr>\n",
       "  </thead>\n",
       "  <tbody>\n",
       "    <tr>\n",
       "      <th>46</th>\n",
       "      <td>SISKIYOU</td>\n",
       "      <td>589</td>\n",
       "      <td>2,499</td>\n",
       "      <td>10,995</td>\n",
       "      <td>98,201</td>\n",
       "      <td>123,143</td>\n",
       "      <td>133,053</td>\n",
       "      <td>22,190</td>\n",
       "      <td>63,410</td>\n",
       "      <td>42,048</td>\n",
       "      <td>7042</td>\n",
       "    </tr>\n",
       "    <tr>\n",
       "      <th>17</th>\n",
       "      <td>LASSEN</td>\n",
       "      <td>11,060</td>\n",
       "      <td>82,916</td>\n",
       "      <td>61,651</td>\n",
       "      <td>60,923</td>\n",
       "      <td>81,526</td>\n",
       "      <td>79,224</td>\n",
       "      <td>72,508</td>\n",
       "      <td>134,199</td>\n",
       "      <td>109,819</td>\n",
       "      <td>892</td>\n",
       "    </tr>\n",
       "    <tr>\n",
       "      <th>2</th>\n",
       "      <td>AMADOR</td>\n",
       "      <td>51,839</td>\n",
       "      <td>6,889</td>\n",
       "      <td>79,018</td>\n",
       "      <td>87,354</td>\n",
       "      <td>77,556</td>\n",
       "      <td>67,548</td>\n",
       "      <td>557,894</td>\n",
       "      <td>577,878</td>\n",
       "      <td>496,375</td>\n",
       "      <td>857</td>\n",
       "    </tr>\n",
       "    <tr>\n",
       "      <th>0</th>\n",
       "      <td>ALAMEDA</td>\n",
       "      <td>13,115,421</td>\n",
       "      <td>32,949,541</td>\n",
       "      <td>31,405,543</td>\n",
       "      <td>35,227,669</td>\n",
       "      <td>57,706,039</td>\n",
       "      <td>58,608,590</td>\n",
       "      <td>44,373,626</td>\n",
       "      <td>58,631,691</td>\n",
       "      <td>60,332,524</td>\n",
       "      <td>360</td>\n",
       "    </tr>\n",
       "    <tr>\n",
       "      <th>34</th>\n",
       "      <td>SAN BENITO</td>\n",
       "      <td>329,078</td>\n",
       "      <td>248,813</td>\n",
       "      <td>533,575</td>\n",
       "      <td>362,562</td>\n",
       "      <td>313,089</td>\n",
       "      <td>649,259</td>\n",
       "      <td>1,111,315</td>\n",
       "      <td>1,636,208</td>\n",
       "      <td>1,454,117</td>\n",
       "      <td>341</td>\n",
       "    </tr>\n",
       "    <tr>\n",
       "      <th>57</th>\n",
       "      <td>YUBA</td>\n",
       "      <td>108,668</td>\n",
       "      <td>163,692</td>\n",
       "      <td>218,380</td>\n",
       "      <td>273,936</td>\n",
       "      <td>355,351</td>\n",
       "      <td>356,981</td>\n",
       "      <td>620,753</td>\n",
       "      <td>836,230</td>\n",
       "      <td>441,818</td>\n",
       "      <td>306</td>\n",
       "    </tr>\n",
       "    <tr>\n",
       "      <th>9</th>\n",
       "      <td>FRESNO</td>\n",
       "      <td>3,411,184</td>\n",
       "      <td>4,253,048</td>\n",
       "      <td>6,162,108</td>\n",
       "      <td>8,135,120</td>\n",
       "      <td>11,441,704</td>\n",
       "      <td>12,347,859</td>\n",
       "      <td>13,087,641</td>\n",
       "      <td>14,290,071</td>\n",
       "      <td>11,052,194</td>\n",
       "      <td>224</td>\n",
       "    </tr>\n",
       "    <tr>\n",
       "      <th>15</th>\n",
       "      <td>KINGS</td>\n",
       "      <td>688,088</td>\n",
       "      <td>762,687</td>\n",
       "      <td>1,035,041</td>\n",
       "      <td>1,688,639</td>\n",
       "      <td>1,837,310</td>\n",
       "      <td>1,998,167</td>\n",
       "      <td>2,439,275</td>\n",
       "      <td>2,581,892</td>\n",
       "      <td>2,169,583</td>\n",
       "      <td>215</td>\n",
       "    </tr>\n",
       "    <tr>\n",
       "      <th>39</th>\n",
       "      <td>SAN LUIS OBISPO</td>\n",
       "      <td>1,053,795</td>\n",
       "      <td>1,175,645</td>\n",
       "      <td>3,463,727</td>\n",
       "      <td>3,497,022</td>\n",
       "      <td>3,596,145</td>\n",
       "      <td>4,267,473</td>\n",
       "      <td>4,448,278</td>\n",
       "      <td>4,453,278</td>\n",
       "      <td>3,315,199</td>\n",
       "      <td>214</td>\n",
       "    </tr>\n",
       "    <tr>\n",
       "      <th>47</th>\n",
       "      <td>SOLANO</td>\n",
       "      <td>3,566,697</td>\n",
       "      <td>6,153,356</td>\n",
       "      <td>5,459,485</td>\n",
       "      <td>7,366,730</td>\n",
       "      <td>8,792,127</td>\n",
       "      <td>8,503,254</td>\n",
       "      <td>11,508,399</td>\n",
       "      <td>12,037,461</td>\n",
       "      <td>10,580,617</td>\n",
       "      <td>196</td>\n",
       "    </tr>\n",
       "  </tbody>\n",
       "</table>\n",
       "</div>"
      ],
      "text/plain": [
       "year   employercounty       2011       2012       2013       2014       2015  \\\n",
       "46           SISKIYOU        589      2,499     10,995     98,201    123,143   \n",
       "17             LASSEN     11,060     82,916     61,651     60,923     81,526   \n",
       "2              AMADOR     51,839      6,889     79,018     87,354     77,556   \n",
       "0             ALAMEDA 13,115,421 32,949,541 31,405,543 35,227,669 57,706,039   \n",
       "34         SAN BENITO    329,078    248,813    533,575    362,562    313,089   \n",
       "57               YUBA    108,668    163,692    218,380    273,936    355,351   \n",
       "9              FRESNO  3,411,184  4,253,048  6,162,108  8,135,120 11,441,704   \n",
       "15              KINGS    688,088    762,687  1,035,041  1,688,639  1,837,310   \n",
       "39    SAN LUIS OBISPO  1,053,795  1,175,645  3,463,727  3,497,022  3,596,145   \n",
       "47             SOLANO  3,566,697  6,153,356  5,459,485  7,366,730  8,792,127   \n",
       "\n",
       "year       2016       2017       2018       2019  pct_increase  \n",
       "46      133,053     22,190     63,410     42,048          7042  \n",
       "17       79,224     72,508    134,199    109,819           892  \n",
       "2        67,548    557,894    577,878    496,375           857  \n",
       "0    58,608,590 44,373,626 58,631,691 60,332,524           360  \n",
       "34      649,259  1,111,315  1,636,208  1,454,117           341  \n",
       "57      356,981    620,753    836,230    441,818           306  \n",
       "9    12,347,859 13,087,641 14,290,071 11,052,194           224  \n",
       "15    1,998,167  2,439,275  2,581,892  2,169,583           215  \n",
       "39    4,267,473  4,448,278  4,453,278  3,315,199           214  \n",
       "47    8,503,254 11,508,399 12,037,461 10,580,617           196  "
      ]
     },
     "execution_count": 79,
     "metadata": {},
     "output_type": "execute_result"
    }
   ],
   "source": [
    "counties_pivot_trim.sort_values(by='pct_increase', ascending=False).head(10)"
   ]
  },
  {
   "cell_type": "code",
   "execution_count": 80,
   "metadata": {},
   "outputs": [],
   "source": [
    "counties_pivot_trim['year2019'] = (counties_pivot_trim['2019']).round(0).astype(int)"
   ]
  },
  {
   "cell_type": "code",
   "execution_count": 81,
   "metadata": {},
   "outputs": [
    {
     "data": {
      "text/plain": [
       "year\n",
       "employercounty     object\n",
       "2011              float64\n",
       "2012              float64\n",
       "2013              float64\n",
       "2014              float64\n",
       "2015              float64\n",
       "2016              float64\n",
       "2017              float64\n",
       "2018              float64\n",
       "2019              float64\n",
       "pct_increase        int64\n",
       "year2019            int64\n",
       "dtype: object"
      ]
     },
     "execution_count": 81,
     "metadata": {},
     "output_type": "execute_result"
    }
   ],
   "source": [
    "counties_pivot_trim.dtypes"
   ]
  },
  {
   "cell_type": "code",
   "execution_count": 82,
   "metadata": {},
   "outputs": [],
   "source": [
    "breaks_increase = jenkspy.jenks_breaks(list(counties_pivot_trim.pct_increase), nb_class=7)"
   ]
  },
  {
   "cell_type": "code",
   "execution_count": 83,
   "metadata": {},
   "outputs": [
    {
     "ename": "AttributeError",
     "evalue": "'DataFrame' object has no attribute 'year2018'",
     "output_type": "error",
     "traceback": [
      "\u001b[0;31m---------------------------------------------------------------------------\u001b[0m",
      "\u001b[0;31mAttributeError\u001b[0m                            Traceback (most recent call last)",
      "\u001b[0;32m<ipython-input-83-151535b9f432>\u001b[0m in \u001b[0;36m<module>\u001b[0;34m\u001b[0m\n\u001b[0;32m----> 1\u001b[0;31m \u001b[0mbreaks_2018\u001b[0m \u001b[0;34m=\u001b[0m \u001b[0mjenkspy\u001b[0m\u001b[0;34m.\u001b[0m\u001b[0mjenks_breaks\u001b[0m\u001b[0;34m(\u001b[0m\u001b[0mlist\u001b[0m\u001b[0;34m(\u001b[0m\u001b[0mcounties_pivot_trim\u001b[0m\u001b[0;34m.\u001b[0m\u001b[0myear2018\u001b[0m\u001b[0;34m)\u001b[0m\u001b[0;34m,\u001b[0m \u001b[0mnb_class\u001b[0m\u001b[0;34m=\u001b[0m\u001b[0;36m7\u001b[0m\u001b[0;34m)\u001b[0m\u001b[0;34m\u001b[0m\u001b[0;34m\u001b[0m\u001b[0m\n\u001b[0m",
      "\u001b[0;32m~/.virtualenvs/notebooks-hnoN6uG0/lib/python3.7/site-packages/pandas/core/generic.py\u001b[0m in \u001b[0;36m__getattr__\u001b[0;34m(self, name)\u001b[0m\n\u001b[1;32m   5137\u001b[0m             \u001b[0;32mif\u001b[0m \u001b[0mself\u001b[0m\u001b[0;34m.\u001b[0m\u001b[0m_info_axis\u001b[0m\u001b[0;34m.\u001b[0m\u001b[0m_can_hold_identifiers_and_holds_name\u001b[0m\u001b[0;34m(\u001b[0m\u001b[0mname\u001b[0m\u001b[0;34m)\u001b[0m\u001b[0;34m:\u001b[0m\u001b[0;34m\u001b[0m\u001b[0;34m\u001b[0m\u001b[0m\n\u001b[1;32m   5138\u001b[0m                 \u001b[0;32mreturn\u001b[0m \u001b[0mself\u001b[0m\u001b[0;34m[\u001b[0m\u001b[0mname\u001b[0m\u001b[0;34m]\u001b[0m\u001b[0;34m\u001b[0m\u001b[0;34m\u001b[0m\u001b[0m\n\u001b[0;32m-> 5139\u001b[0;31m             \u001b[0;32mreturn\u001b[0m \u001b[0mobject\u001b[0m\u001b[0;34m.\u001b[0m\u001b[0m__getattribute__\u001b[0m\u001b[0;34m(\u001b[0m\u001b[0mself\u001b[0m\u001b[0;34m,\u001b[0m \u001b[0mname\u001b[0m\u001b[0;34m)\u001b[0m\u001b[0;34m\u001b[0m\u001b[0;34m\u001b[0m\u001b[0m\n\u001b[0m\u001b[1;32m   5140\u001b[0m \u001b[0;34m\u001b[0m\u001b[0m\n\u001b[1;32m   5141\u001b[0m     \u001b[0;32mdef\u001b[0m \u001b[0m__setattr__\u001b[0m\u001b[0;34m(\u001b[0m\u001b[0mself\u001b[0m\u001b[0;34m,\u001b[0m \u001b[0mname\u001b[0m\u001b[0;34m:\u001b[0m \u001b[0mstr\u001b[0m\u001b[0;34m,\u001b[0m \u001b[0mvalue\u001b[0m\u001b[0;34m)\u001b[0m \u001b[0;34m->\u001b[0m \u001b[0;32mNone\u001b[0m\u001b[0;34m:\u001b[0m\u001b[0;34m\u001b[0m\u001b[0;34m\u001b[0m\u001b[0m\n",
      "\u001b[0;31mAttributeError\u001b[0m: 'DataFrame' object has no attribute 'year2018'"
     ]
    }
   ],
   "source": [
    "breaks_2018 = jenkspy.jenks_breaks(list(counties_pivot_trim.year2018), nb_class=7)"
   ]
  },
  {
   "cell_type": "code",
   "execution_count": null,
   "metadata": {},
   "outputs": [],
   "source": [
    "def group_breaks_increase(breaks_increase_value):\n",
    "    for i, b in enumerate(breaks_increase):\n",
    "        if breaks_increase_value <= breaks_increase[i+1]:\n",
    "            return i"
   ]
  },
  {
   "cell_type": "code",
   "execution_count": null,
   "metadata": {},
   "outputs": [],
   "source": [
    "def get_group(value):\n",
    "    for i, b in enumerate(breaks_2018):\n",
    "        if value <= breaks_2018[i+1]:\n",
    "            return i"
   ]
  },
  {
   "cell_type": "code",
   "execution_count": null,
   "metadata": {},
   "outputs": [],
   "source": [
    "counties_pivot_trim['increase_group'] = counties_pivot_trim.pct_increase.apply(group_breaks_increase)"
   ]
  },
  {
   "cell_type": "code",
   "execution_count": null,
   "metadata": {},
   "outputs": [],
   "source": [
    "counties_pivot_trim['2018_group'] = counties_pivot_trim.year2018.apply(get_group)"
   ]
  },
  {
   "cell_type": "code",
   "execution_count": null,
   "metadata": {},
   "outputs": [],
   "source": [
    "counties_pivot_trim.head(10)"
   ]
  },
  {
   "cell_type": "markdown",
   "metadata": {},
   "source": [
    "### Add counties geodataframe"
   ]
  },
  {
   "cell_type": "code",
   "execution_count": null,
   "metadata": {},
   "outputs": [],
   "source": [
    "counties = gpd.read_file('http://s3-us-west-2.amazonaws.com/boundaries.\\\n",
    "latimes.com/archive/1.0/boundary-set/counties-2012.geojson')"
   ]
  },
  {
   "cell_type": "code",
   "execution_count": null,
   "metadata": {},
   "outputs": [],
   "source": [
    "counties.plot()"
   ]
  },
  {
   "cell_type": "code",
   "execution_count": null,
   "metadata": {},
   "outputs": [],
   "source": [
    "counties = counties.rename(columns={'name':'employercounty'})\n",
    "counties['employercounty'] = counties['employercounty'].str.upper()"
   ]
  },
  {
   "cell_type": "code",
   "execution_count": null,
   "metadata": {},
   "outputs": [],
   "source": [
    "counties_overtime = counties.merge(counties_pivot_trim, on='employercounty', how='left')"
   ]
  },
  {
   "cell_type": "code",
   "execution_count": null,
   "metadata": {},
   "outputs": [],
   "source": [
    "counties_overtime.head()"
   ]
  },
  {
   "cell_type": "code",
   "execution_count": null,
   "metadata": {},
   "outputs": [],
   "source": [
    "lat.palette['schemes'] = {\n",
    "    'div_fire': ['#fdd0a2','#dadaeb','#bcbddc','#9e9ac8','#807dba','#6a51a3','#4a1486'],\n",
    "    'category-6': ['#3580b1','#ec8431','#ab7fb4','#c89d29','#adc839','#829eb1'],\n",
    "    'category-6': ['#3580b1','#ec8431','#ab7fb4','#c89d29','#adc839','#829eb1'],\n",
    "    'fire-7': ['#fbf2c7','#f9e39c','#f8d36e','#f4bb6a','#e68a4f','#d15a40','#ab4232'],\n",
    "    'fireandice-6': ['#e68a4f','#f4bb6a','#f9e39c','#dadfe2','#a6b7c6','#849eae'],\n",
    "    'ice-7': ['#edefee','#dadfe2','#c4ccd2','#a6b7c6','#849eae','#607785','#47525d']}"
   ]
  },
  {
   "cell_type": "code",
   "execution_count": null,
   "metadata": {},
   "outputs": [],
   "source": [
    "counties_overtime.to_file('output/counties_overtime.geojson', driver='GeoJSON')"
   ]
  },
  {
   "cell_type": "code",
   "execution_count": null,
   "metadata": {},
   "outputs": [],
   "source": [
    "geojson = json.loads(counties_overtime.to_json())"
   ]
  },
  {
   "cell_type": "code",
   "execution_count": null,
   "metadata": {},
   "outputs": [],
   "source": [
    "features = alt.Data(values=geojson['features'])"
   ]
  },
  {
   "cell_type": "code",
   "execution_count": null,
   "metadata": {},
   "outputs": [],
   "source": [
    "geoshape = alt.Chart(features).mark_geoshape(fill='#e6e6e6', stroke='white')"
   ]
  },
  {
   "cell_type": "code",
   "execution_count": null,
   "metadata": {},
   "outputs": [],
   "source": [
    "base = alt.Chart(features).mark_geoshape( fill='#e6e6e6', stroke='white', strokeWidth=0.1)\\\n",
    "        .encode().properties(\n",
    "    width=400,\n",
    "    height=500\n",
    ")"
   ]
  },
  {
   "cell_type": "code",
   "execution_count": null,
   "metadata": {},
   "outputs": [],
   "source": [
    "increase = geoshape.encode( color=alt.Color( \"properties.increase_group:N\", \n",
    "      scale=alt.Scale(\n",
    "      domain=[0,1, 2, 3, 4, 5, 6],\n",
    "      range=lat.palette['schemes']['div_fire']\n",
    "        ),legend=None),)"
   ]
  },
  {
   "cell_type": "code",
   "execution_count": null,
   "metadata": {},
   "outputs": [],
   "source": [
    "year2018 = geoshape.encode( color=alt.Color( \"properties.2018_group:N\", \n",
    "      scale=alt.Scale(\n",
    "      domain=[0,1, 2, 3, 4, 5, 6],\n",
    "      range=lat.palette['schemes']['fire-7']\n",
    "        ),legend=None),)"
   ]
  },
  {
   "cell_type": "code",
   "execution_count": null,
   "metadata": {},
   "outputs": [],
   "source": [
    "change = (base + increase).properties(title=\"Increase in overtime spending\")"
   ]
  },
  {
   "cell_type": "code",
   "execution_count": null,
   "metadata": {},
   "outputs": [],
   "source": [
    "total = (base + year2018).properties(title=\"Overtime spending, by county\")"
   ]
  },
  {
   "cell_type": "code",
   "execution_count": null,
   "metadata": {},
   "outputs": [],
   "source": [
    "total | change"
   ]
  },
  {
   "cell_type": "markdown",
   "metadata": {},
   "source": [
    "---"
   ]
  },
  {
   "cell_type": "code",
   "execution_count": null,
   "metadata": {},
   "outputs": [],
   "source": [
    "labars = pd.DataFrame(la_agency_overtime[['employerfull', 'year', 'ot_share_wages']])\n",
    "labars.head()"
   ]
  },
  {
   "cell_type": "code",
   "execution_count": null,
   "metadata": {},
   "outputs": [],
   "source": [
    "alt.Chart(labars).mark_area().encode(\n",
    "    x=alt.X('year:N', title='', axis=alt.Axis(format='', tickCount=2, values=(2011,2019))),\n",
    "    y=alt.Y(\"ot_share_wages:Q\", title=\"\", axis=alt.Axis(format='', tickCount=10)),\n",
    "    facet=alt.Facet('employerfull:N', columns=7)\n",
    ").properties(height=100, width=100, title='')"
   ]
  },
  {
   "cell_type": "markdown",
   "metadata": {},
   "source": [
    "Data source: https://publicpay.ca.gov/Reports/RawExport.aspx"
   ]
  },
  {
   "cell_type": "markdown",
   "metadata": {},
   "source": [
    "---"
   ]
  },
  {
   "cell_type": "markdown",
   "metadata": {},
   "source": [
    "### How many firefighters outside L.A. received six-figure salaries? "
   ]
  },
  {
   "cell_type": "code",
   "execution_count": null,
   "metadata": {},
   "outputs": [],
   "source": [
    "state_high = payroll_fire[(payroll_fire['overtime'] > 100000) &\\\n",
    "                             (~payroll_fire['employer'].str.contains('LOS ANGELES'))].reset_index()"
   ]
  },
  {
   "cell_type": "code",
   "execution_count": null,
   "metadata": {},
   "outputs": [],
   "source": [
    "state_highest = payroll_fire[(payroll_fire['overtime'] > 200000) &\\\n",
    "                             (~payroll_fire['employer'].str.contains('LOS ANGELES'))].reset_index()"
   ]
  },
  {
   "cell_type": "code",
   "execution_count": null,
   "metadata": {},
   "outputs": [],
   "source": [
    "print('$200k:',len(state_highest),'| $100k:',len(state_high))"
   ]
  },
  {
   "cell_type": "code",
   "execution_count": null,
   "metadata": {
    "scrolled": true
   },
   "outputs": [],
   "source": [
    "state_high.sort_values(by='adjusted_overtime', ascending=False).head()"
   ]
  },
  {
   "cell_type": "code",
   "execution_count": null,
   "metadata": {},
   "outputs": [],
   "source": [
    "state_highest_years = state_highest.groupby(['year', 'type']).agg('size').reset_index(name='count')\n",
    "state_highest_years.sort_values(by='count', ascending=False).head()"
   ]
  },
  {
   "cell_type": "code",
   "execution_count": null,
   "metadata": {},
   "outputs": [],
   "source": [
    "state_high_years = state_high.groupby(['year', 'type']).agg('size').reset_index(name='count')\n",
    "state_high_years.sort_values(by='count', ascending=False).head()"
   ]
  },
  {
   "cell_type": "code",
   "execution_count": null,
   "metadata": {},
   "outputs": [],
   "source": [
    "alt.Chart(state_high_years).mark_bar().encode(\n",
    "    x=alt.X(\"year:N\", title=' ', axis=alt.Axis(values=(2011, 2019))),\n",
    "    y=alt.Y(\"count:Q\", title=' ', axis=alt.Axis(tickCount=6, format='2f')),\n",
    "    facet='type:O'\n",
    ").properties(width=200, height=200, title='Calif. $100,000 overtime firefighters, by agency type')"
   ]
  },
  {
   "cell_type": "markdown",
   "metadata": {},
   "source": [
    "---"
   ]
  },
  {
   "cell_type": "markdown",
   "metadata": {},
   "source": [
    "Data source: https://publicpay.ca.gov/Reports/RawExport.aspx"
   ]
  }
 ],
 "metadata": {
  "kernelspec": {
   "display_name": "Python 3",
   "language": "python",
   "name": "python3"
  },
  "language_info": {
   "codemirror_mode": {
    "name": "ipython",
    "version": 3
   },
   "file_extension": ".py",
   "mimetype": "text/x-python",
   "name": "python",
   "nbconvert_exporter": "python",
   "pygments_lexer": "ipython3",
   "version": "3.7.4"
  }
 },
 "nbformat": 4,
 "nbformat_minor": 4
}
