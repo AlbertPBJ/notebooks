{
 "cells": [
  {
   "cell_type": "markdown",
   "metadata": {},
   "source": [
    "# Analyzing fire payrolls in L.A.: 2011-2018"
   ]
  },
  {
   "cell_type": "markdown",
   "metadata": {},
   "source": [
    "This notebook processess government payroll [data](https://publicpay.ca.gov/Reports/RawExport.aspx) compiled and released annually by the California state controller's office. The data include anonymized salary information for all employees at cities, counties, special districts and state government. "
   ]
  },
  {
   "cell_type": "markdown",
   "metadata": {},
   "source": [
    "---"
   ]
  },
  {
   "cell_type": "markdown",
   "metadata": {},
   "source": [
    "### Load python tools"
   ]
  },
  {
   "cell_type": "code",
   "execution_count": null,
   "metadata": {},
   "outputs": [],
   "source": [
    "import altair as alt\n",
    "import altair_latimes as lat\n",
    "import pandas as pd\n",
    "import geopandas as gpd\n",
    "import cpi\n",
    "from urllib.request import urlopen \n",
    "import pyarrow\n",
    "import jenkspy\n",
    "import matplotlib.pyplot as plt\n",
    "%matplotlib inline\n",
    "import json\n",
    "import numpy as np\n",
    "from altair import datum\n",
    "alt.renderers.enable('notebook')\n",
    "import altair_latimes as lat\n",
    "alt.themes.register('latimes', lat.theme)\n",
    "alt.themes.enable('latimes')\n",
    "pd.options.display.float_format = '{:,.0f}'.format\n",
    "cpi.update()"
   ]
  },
  {
   "cell_type": "markdown",
   "metadata": {},
   "source": [
    "### Import fire payroll data"
   ]
  },
  {
   "cell_type": "code",
   "execution_count": null,
   "metadata": {},
   "outputs": [],
   "source": [
    "# processed in 01-california-payroll-descriptives\n",
    "agency_ot = pd.read_csv('output/agency_overtime.csv')\n",
    "agency_ot_share = pd.read_csv('output/agency_overtime_share_ot.csv')\n",
    "payroll_fire = pd.read_csv('/Users/mhustiles/data/data/controller/output/payroll_fire.csv')"
   ]
  },
  {
   "cell_type": "markdown",
   "metadata": {},
   "source": [
    "---"
   ]
  },
  {
   "cell_type": "markdown",
   "metadata": {},
   "source": [
    "### Filter dataframe to include only Los Angeles city and county fire"
   ]
  },
  {
   "cell_type": "code",
   "execution_count": null,
   "metadata": {},
   "outputs": [],
   "source": [
    "la = pd.DataFrame(payroll_fire[payroll_fire['employer'] == 'LOS ANGELES'])"
   ]
  },
  {
   "cell_type": "code",
   "execution_count": null,
   "metadata": {},
   "outputs": [],
   "source": [
    "la.employerfull = la.employerfull.str.replace('_', ' ')"
   ]
  },
  {
   "cell_type": "code",
   "execution_count": null,
   "metadata": {},
   "outputs": [],
   "source": [
    "la_agencies = la.groupby(['employerfull', 'year', 'type'])\\\n",
    "    .agg({'adjusted_overtime':'sum'}).reset_index()"
   ]
  },
  {
   "cell_type": "code",
   "execution_count": null,
   "metadata": {},
   "outputs": [],
   "source": [
    "la_agencies"
   ]
  },
  {
   "cell_type": "code",
   "execution_count": null,
   "metadata": {},
   "outputs": [],
   "source": [
    "alt.Chart(la_agencies).mark_line().encode(\n",
    "    x='year:O',\n",
    "    y='adjusted_overtime',\n",
    "    color='employerfull'\n",
    ")"
   ]
  },
  {
   "cell_type": "code",
   "execution_count": null,
   "metadata": {},
   "outputs": [],
   "source": [
    "la_agencies.to_csv('output/la_agencies.csv')"
   ]
  },
  {
   "cell_type": "markdown",
   "metadata": {},
   "source": [
    "---"
   ]
  },
  {
   "cell_type": "markdown",
   "metadata": {},
   "source": [
    "### Create a dataframe combining and pivoting listing all the large places"
   ]
  },
  {
   "cell_type": "code",
   "execution_count": null,
   "metadata": {},
   "outputs": [],
   "source": [
    "la_pivot_ot = pd.DataFrame(pd.pivot_table(la_agencies, \\\n",
    "                values='adjusted_overtime', index=['employerfull', 'type'], columns=['year']).reset_index().fillna(0))"
   ]
  },
  {
   "cell_type": "code",
   "execution_count": null,
   "metadata": {},
   "outputs": [],
   "source": [
    "la_pivot_ot.columns = la_pivot_ot.columns.map(str)"
   ]
  },
  {
   "cell_type": "markdown",
   "metadata": {},
   "source": [
    "### What did each fire department pay in overtime (just to firefighter titles) each year? "
   ]
  },
  {
   "cell_type": "code",
   "execution_count": null,
   "metadata": {},
   "outputs": [],
   "source": [
    "la_pivot_ot['ot_pct_change'] = \\\n",
    "                ((la_pivot_ot['2018']-la_pivot_ot['2011'])/\\\n",
    "                 la_pivot_ot['2011'])*100"
   ]
  },
  {
   "cell_type": "code",
   "execution_count": null,
   "metadata": {},
   "outputs": [],
   "source": [
    "la_pivot_ot.head()"
   ]
  },
  {
   "cell_type": "code",
   "execution_count": null,
   "metadata": {},
   "outputs": [],
   "source": [
    "#2011\n",
    "'${:,.0f}'.format((la_pivot_ot.iloc[1,2] + la_pivot_ot.iloc[0,2]))"
   ]
  },
  {
   "cell_type": "code",
   "execution_count": null,
   "metadata": {},
   "outputs": [],
   "source": [
    "#2018\n",
    "'${:,.0f}'.format((la_pivot_ot.iloc[1,9] + la_pivot_ot.iloc[0,9]))"
   ]
  },
  {
   "cell_type": "code",
   "execution_count": null,
   "metadata": {},
   "outputs": [],
   "source": [
    "'{:,.2f}%'.format(((la_pivot_ot.iloc[1,9] + la_pivot_ot.iloc[0,9])-(la_pivot_ot.iloc[1,2] + la_pivot_ot.iloc[0,2]))\\\n",
    "        / (la_pivot_ot.iloc[1,2] + la_pivot_ot.iloc[0,2])*100)"
   ]
  },
  {
   "cell_type": "code",
   "execution_count": null,
   "metadata": {},
   "outputs": [],
   "source": [
    "la_pivot_ot.to_csv('output/la_city_county.csv')"
   ]
  },
  {
   "cell_type": "markdown",
   "metadata": {},
   "source": [
    "---"
   ]
  },
  {
   "cell_type": "markdown",
   "metadata": {},
   "source": [
    "### Charting firefighter wages and benefits in Los Angeles"
   ]
  },
  {
   "cell_type": "code",
   "execution_count": null,
   "metadata": {},
   "outputs": [],
   "source": [
    "la_all = la.groupby(['year', 'employerfull']).agg({'adjusted_overtime':'sum', \\\n",
    "                                            'adjusted_basewages':'sum', \\\n",
    "                                        'adjusted_wages':'sum', \\\n",
    "                                            'adjusted_benefits':'sum'\\\n",
    "                                            }).reset_index()"
   ]
  },
  {
   "cell_type": "markdown",
   "metadata": {},
   "source": [
    "### Clean up the column names"
   ]
  },
  {
   "cell_type": "code",
   "execution_count": null,
   "metadata": {},
   "outputs": [],
   "source": [
    "la_all.rename(columns={'adjusted_overtime': 'Overtime',\\\n",
    "                    'adjusted_basewages': 'BaseWages',\\\n",
    "                   'adjusted_wages': 'Wages',\\\n",
    "                   'adjusted_benefits':'Benefits',\\\n",
    "                     'year': 'Year',\n",
    "                      'employerfull': 'Place'}, inplace=True)"
   ]
  },
  {
   "cell_type": "markdown",
   "metadata": {},
   "source": [
    "### Melt the dataframe for charting"
   ]
  },
  {
   "cell_type": "code",
   "execution_count": null,
   "metadata": {},
   "outputs": [],
   "source": [
    "la_melt = pd.melt(la_all,id_vars=['Year', 'Place'], value_vars=['Overtime','BaseWages'],\\\n",
    "        var_name='Compensation', value_name='Total')"
   ]
  },
  {
   "cell_type": "markdown",
   "metadata": {},
   "source": [
    "### Chart the overtime amount in annual dollars"
   ]
  },
  {
   "cell_type": "code",
   "execution_count": null,
   "metadata": {
    "scrolled": false
   },
   "outputs": [],
   "source": [
    "otdollars = alt.Chart(la_melt).mark_area().encode(\n",
    "    x=alt.X(\"Year:N\", title=' '),\n",
    "    y=alt.Y(\"Total:Q\", title=' ', axis=alt.Axis(tickCount=6, format='$,s')),\n",
    "    color=alt.Color(\"Compensation:N\", title=''),\n",
    "    order=alt.Order(\n",
    "      # Sort the segments of the bars by this field\n",
    "      'Compensation',\n",
    "      sort='ascending'\n",
    "    ),\n",
    "    facet=alt.Facet('Place:N', title='Overtime in inflation-adjusted dollars')\n",
    ").properties(width=300, height=300, columns=2, title='Fireighter pay')\n",
    "\n",
    "otdollars.configure_header(\n",
    "    titleColor='gray',\n",
    "    titleFontSize=14,\n",
    "    titleFontWeight = 'normal',\n",
    "    titleOrient = 'top',\n",
    "    titleAnchor='middle',\n",
    "    titlePadding=10,\n",
    "    labelFontSize=11\n",
    ").configure_legend(\n",
    "    orient='right'\n",
    ")"
   ]
  },
  {
   "cell_type": "code",
   "execution_count": null,
   "metadata": {},
   "outputs": [],
   "source": [
    "la_melt.sort_values(by=['Place', 'Compensation', 'Year'], ascending=True)"
   ]
  },
  {
   "cell_type": "markdown",
   "metadata": {},
   "source": [
    "### Normalized version"
   ]
  },
  {
   "cell_type": "code",
   "execution_count": null,
   "metadata": {},
   "outputs": [],
   "source": [
    "otshare = alt.Chart(la_melt).mark_area().encode(\n",
    "    x=alt.X(\"Year:N\", title=' '),\n",
    "    y=alt.Y(\"Total:Q\", stack=\"normalize\", title=' ', axis=alt.Axis(tickCount=6, format='%')),\n",
    "    color=\"Compensation:N\",\n",
    "    order=alt.Order(\n",
    "      # Sort the segments of the bars by this field\n",
    "      'Compensation',\n",
    "      sort='ascending'\n",
    "    ),\n",
    "    facet=alt.Facet('Place:N', title=' ')\n",
    ").properties(width=300, height=300, columns=2, title='Firefighter compensation in Los Angeles')\n",
    "\n",
    "otshare.configure_header(\n",
    "    titleColor='gray',\n",
    "    titleFontSize=14,\n",
    "    titleFontWeight = 'normal',\n",
    "    titleOrient = 'top',\n",
    "    titleAnchor='middle',\n",
    "    titlePadding=10,\n",
    "    labelFontSize=11\n",
    ").configure_legend(\n",
    "    orient='right'\n",
    ")"
   ]
  },
  {
   "cell_type": "code",
   "execution_count": null,
   "metadata": {},
   "outputs": [],
   "source": [
    "la_melt.sort_values(by=['Place', 'Compensation']).to_csv('output/la_melt.csv')"
   ]
  },
  {
   "cell_type": "markdown",
   "metadata": {},
   "source": [
    "---"
   ]
  },
  {
   "cell_type": "markdown",
   "metadata": {},
   "source": [
    "### How many firefighters received six-figure amounts of overtime in a year?"
   ]
  },
  {
   "cell_type": "code",
   "execution_count": null,
   "metadata": {},
   "outputs": [],
   "source": [
    "la_highest = la[la['overtime'] > 200000]"
   ]
  },
  {
   "cell_type": "code",
   "execution_count": null,
   "metadata": {},
   "outputs": [],
   "source": [
    "la_high = la[la['overtime'] > 100000]"
   ]
  },
  {
   "cell_type": "code",
   "execution_count": null,
   "metadata": {},
   "outputs": [],
   "source": [
    "print('$200k:',len(la_highest),'| $100k:',len(la_high)) "
   ]
  },
  {
   "cell_type": "markdown",
   "metadata": {},
   "source": [
    "### Group by agency type and year and count recipients of $100k overtime"
   ]
  },
  {
   "cell_type": "code",
   "execution_count": null,
   "metadata": {},
   "outputs": [],
   "source": [
    "la_high_years = la_high.groupby(['year','type']).agg('size').reset_index(name='count')\n",
    "la_high_years.sort_values(by='type', ascending=False).head(25)"
   ]
  },
  {
   "cell_type": "markdown",
   "metadata": {},
   "source": [
    "### Group by agency type and year and count recipients of $200k overtime"
   ]
  },
  {
   "cell_type": "code",
   "execution_count": null,
   "metadata": {},
   "outputs": [],
   "source": [
    "la_highest_years = la_highest.groupby(['year','type']).agg('size').reset_index(name='count')\n",
    "la_highest_years.sort_values(by='type', ascending=False).head(25)"
   ]
  },
  {
   "cell_type": "markdown",
   "metadata": {},
   "source": [
    "### Group by agency type and year and count recipients of $200k overtime "
   ]
  },
  {
   "cell_type": "code",
   "execution_count": null,
   "metadata": {},
   "outputs": [],
   "source": [
    "la_highest_years = la_highest.groupby(['year','type']).agg('size').reset_index(name='count')"
   ]
  },
  {
   "cell_type": "code",
   "execution_count": null,
   "metadata": {},
   "outputs": [],
   "source": [
    "alt.Chart(la_highest_years).mark_bar().encode(\n",
    "    x=alt.X(\"year:N\", title=' '),\n",
    "    y=alt.Y(\"mean(count):Q\", title=' ', axis=alt.Axis(tickCount=6, format='')),\n",
    "    facet='type:O'\n",
    ").properties(width=300, height=300, columns=2, title='L.A. firefighters > $200k OT')"
   ]
  },
  {
   "cell_type": "code",
   "execution_count": null,
   "metadata": {},
   "outputs": [],
   "source": [
    "la_highest_years.sort_values(by=['type','year'], ascending=False).head(20)"
   ]
  },
  {
   "cell_type": "code",
   "execution_count": null,
   "metadata": {},
   "outputs": [],
   "source": [
    "la_high_positions = la_high.groupby('position').agg({'adjusted_overtime':'sum', \\\n",
    "    'adjusted_basewages':'sum', \\\n",
    "    'adjusted_wages':'sum', \\\n",
    "    'adjusted_benefits':'sum'\\\n",
    "}).reset_index()"
   ]
  },
  {
   "cell_type": "markdown",
   "metadata": {},
   "source": [
    "### Payroll by title"
   ]
  },
  {
   "cell_type": "code",
   "execution_count": null,
   "metadata": {},
   "outputs": [],
   "source": [
    "la_high_positions.sort_values(by='adjusted_overtime', ascending=False)"
   ]
  },
  {
   "cell_type": "markdown",
   "metadata": {},
   "source": [
    "---"
   ]
  },
  {
   "cell_type": "markdown",
   "metadata": {},
   "source": [
    "### $300,000 salaries"
   ]
  },
  {
   "cell_type": "code",
   "execution_count": null,
   "metadata": {},
   "outputs": [],
   "source": [
    "threehundred = payroll_fire[(payroll_fire.adjusted_wages > 300000) &\\\n",
    "                            (payroll_fire.year == 2011) &\\\n",
    "                            (payroll_fire.employer.str.contains('LOS ANGELES'))]"
   ]
  },
  {
   "cell_type": "code",
   "execution_count": null,
   "metadata": {},
   "outputs": [],
   "source": [
    "threehundred.head()"
   ]
  },
  {
   "cell_type": "markdown",
   "metadata": {},
   "source": [
    "---"
   ]
  },
  {
   "cell_type": "markdown",
   "metadata": {},
   "source": [
    "Data source: https://publicpay.ca.gov/Reports/RawExport.aspx"
   ]
  }
 ],
 "metadata": {
  "kernelspec": {
   "display_name": "Python 3",
   "language": "python",
   "name": "python3"
  },
  "language_info": {
   "codemirror_mode": {
    "name": "ipython",
    "version": 3
   },
   "file_extension": ".py",
   "mimetype": "text/x-python",
   "name": "python",
   "nbconvert_exporter": "python",
   "pygments_lexer": "ipython3",
   "version": "3.7.3"
  }
 },
 "nbformat": 4,
 "nbformat_minor": 2
}
