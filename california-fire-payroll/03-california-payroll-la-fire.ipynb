{
 "cells": [
  {
   "cell_type": "markdown",
   "metadata": {},
   "source": [
    "# Analyzing fire payrolls in L.A.: 2011-2018"
   ]
  },
  {
   "cell_type": "markdown",
   "metadata": {},
   "source": [
    "This notebook processess government payroll [data](https://publicpay.ca.gov/Reports/RawExport.aspx) compiled and released annually by the California state controller's office. The data include anonymized salary information for all employees at cities, counties, special districts and state government. "
   ]
  },
  {
   "cell_type": "markdown",
   "metadata": {},
   "source": [
    "---"
   ]
  },
  {
   "cell_type": "markdown",
   "metadata": {},
   "source": [
    "### Load python tools"
   ]
  },
  {
   "cell_type": "code",
   "execution_count": 1,
   "metadata": {},
   "outputs": [],
   "source": [
    "import altair as alt\n",
    "import altair_latimes as lat\n",
    "import pandas as pd\n",
    "import geopandas as gpd\n",
    "import cpi\n",
    "from urllib.request import urlopen \n",
    "import pyarrow\n",
    "import jenkspy\n",
    "import matplotlib.pyplot as plt\n",
    "%matplotlib inline\n",
    "import json\n",
    "import numpy as np\n",
    "from altair import datum\n",
    "alt.renderers.enable('notebook')\n",
    "import altair_latimes as lat\n",
    "alt.themes.register('latimes', lat.theme)\n",
    "alt.themes.enable('latimes')\n",
    "pd.options.display.float_format = '{:,.0f}'.format\n",
    "cpi.update()"
   ]
  },
  {
   "cell_type": "markdown",
   "metadata": {},
   "source": [
    "### Import fire payroll data"
   ]
  },
  {
   "cell_type": "code",
   "execution_count": 2,
   "metadata": {},
   "outputs": [],
   "source": [
    "# processed in 01-california-payroll-descriptives\n",
    "agency_ot = pd.read_csv('output/agency_overtime.csv')\n",
    "agency_ot_share = pd.read_csv('output/agency_overtime_share_ot.csv')\n",
    "payroll_fire = pd.read_csv('/Users/mhustiles/data/data/controller/output/payroll_fire.csv')"
   ]
  },
  {
   "cell_type": "markdown",
   "metadata": {},
   "source": [
    "---"
   ]
  },
  {
   "cell_type": "markdown",
   "metadata": {},
   "source": [
    "### Filter dataframe to include only Los Angeles city and county fire"
   ]
  },
  {
   "cell_type": "code",
   "execution_count": 3,
   "metadata": {},
   "outputs": [],
   "source": [
    "la = pd.DataFrame(payroll_fire[payroll_fire['employer'] == 'LOS ANGELES'])"
   ]
  },
  {
   "cell_type": "code",
   "execution_count": 4,
   "metadata": {},
   "outputs": [],
   "source": [
    "la.employerfull = la.employerfull.str.replace('_', ' ')"
   ]
  },
  {
   "cell_type": "code",
   "execution_count": 5,
   "metadata": {},
   "outputs": [],
   "source": [
    "la_agencies = la.groupby(['employerfull', 'year', 'type'])\\\n",
    "    .agg({'adjusted_overtime':'sum'}).reset_index()"
   ]
  },
  {
   "cell_type": "code",
   "execution_count": 6,
   "metadata": {},
   "outputs": [
    {
     "data": {
      "text/html": [
       "<div>\n",
       "<style scoped>\n",
       "    .dataframe tbody tr th:only-of-type {\n",
       "        vertical-align: middle;\n",
       "    }\n",
       "\n",
       "    .dataframe tbody tr th {\n",
       "        vertical-align: top;\n",
       "    }\n",
       "\n",
       "    .dataframe thead th {\n",
       "        text-align: right;\n",
       "    }\n",
       "</style>\n",
       "<table border=\"1\" class=\"dataframe\">\n",
       "  <thead>\n",
       "    <tr style=\"text-align: right;\">\n",
       "      <th></th>\n",
       "      <th>employerfull</th>\n",
       "      <th>year</th>\n",
       "      <th>type</th>\n",
       "      <th>adjusted_overtime</th>\n",
       "    </tr>\n",
       "  </thead>\n",
       "  <tbody>\n",
       "    <tr>\n",
       "      <th>0</th>\n",
       "      <td>LOS ANGELES CITY</td>\n",
       "      <td>2011</td>\n",
       "      <td>CITY</td>\n",
       "      <td>107,255,863</td>\n",
       "    </tr>\n",
       "    <tr>\n",
       "      <th>1</th>\n",
       "      <td>LOS ANGELES CITY</td>\n",
       "      <td>2012</td>\n",
       "      <td>CITY</td>\n",
       "      <td>123,511,778</td>\n",
       "    </tr>\n",
       "    <tr>\n",
       "      <th>2</th>\n",
       "      <td>LOS ANGELES CITY</td>\n",
       "      <td>2013</td>\n",
       "      <td>CITY</td>\n",
       "      <td>151,527,291</td>\n",
       "    </tr>\n",
       "    <tr>\n",
       "      <th>3</th>\n",
       "      <td>LOS ANGELES CITY</td>\n",
       "      <td>2014</td>\n",
       "      <td>CITY</td>\n",
       "      <td>171,101,518</td>\n",
       "    </tr>\n",
       "    <tr>\n",
       "      <th>4</th>\n",
       "      <td>LOS ANGELES CITY</td>\n",
       "      <td>2015</td>\n",
       "      <td>CITY</td>\n",
       "      <td>195,480,265</td>\n",
       "    </tr>\n",
       "    <tr>\n",
       "      <th>5</th>\n",
       "      <td>LOS ANGELES CITY</td>\n",
       "      <td>2016</td>\n",
       "      <td>CITY</td>\n",
       "      <td>194,695,768</td>\n",
       "    </tr>\n",
       "    <tr>\n",
       "      <th>6</th>\n",
       "      <td>LOS ANGELES CITY</td>\n",
       "      <td>2017</td>\n",
       "      <td>CITY</td>\n",
       "      <td>201,160,454</td>\n",
       "    </tr>\n",
       "    <tr>\n",
       "      <th>7</th>\n",
       "      <td>LOS ANGELES CITY</td>\n",
       "      <td>2018</td>\n",
       "      <td>CITY</td>\n",
       "      <td>194,880,536</td>\n",
       "    </tr>\n",
       "    <tr>\n",
       "      <th>8</th>\n",
       "      <td>LOS ANGELES COUNTY</td>\n",
       "      <td>2011</td>\n",
       "      <td>COUNTY</td>\n",
       "      <td>140,590,688</td>\n",
       "    </tr>\n",
       "    <tr>\n",
       "      <th>9</th>\n",
       "      <td>LOS ANGELES COUNTY</td>\n",
       "      <td>2012</td>\n",
       "      <td>COUNTY</td>\n",
       "      <td>145,005,796</td>\n",
       "    </tr>\n",
       "    <tr>\n",
       "      <th>10</th>\n",
       "      <td>LOS ANGELES COUNTY</td>\n",
       "      <td>2013</td>\n",
       "      <td>COUNTY</td>\n",
       "      <td>159,613,000</td>\n",
       "    </tr>\n",
       "    <tr>\n",
       "      <th>11</th>\n",
       "      <td>LOS ANGELES COUNTY</td>\n",
       "      <td>2014</td>\n",
       "      <td>COUNTY</td>\n",
       "      <td>162,884,477</td>\n",
       "    </tr>\n",
       "    <tr>\n",
       "      <th>12</th>\n",
       "      <td>LOS ANGELES COUNTY</td>\n",
       "      <td>2015</td>\n",
       "      <td>COUNTY</td>\n",
       "      <td>175,570,988</td>\n",
       "    </tr>\n",
       "    <tr>\n",
       "      <th>13</th>\n",
       "      <td>LOS ANGELES COUNTY</td>\n",
       "      <td>2016</td>\n",
       "      <td>COUNTY</td>\n",
       "      <td>197,177,771</td>\n",
       "    </tr>\n",
       "    <tr>\n",
       "      <th>14</th>\n",
       "      <td>LOS ANGELES COUNTY</td>\n",
       "      <td>2017</td>\n",
       "      <td>COUNTY</td>\n",
       "      <td>202,429,786</td>\n",
       "    </tr>\n",
       "    <tr>\n",
       "      <th>15</th>\n",
       "      <td>LOS ANGELES COUNTY</td>\n",
       "      <td>2018</td>\n",
       "      <td>COUNTY</td>\n",
       "      <td>200,211,091</td>\n",
       "    </tr>\n",
       "  </tbody>\n",
       "</table>\n",
       "</div>"
      ],
      "text/plain": [
       "          employerfull  year    type  adjusted_overtime\n",
       "0     LOS ANGELES CITY  2011    CITY        107,255,863\n",
       "1     LOS ANGELES CITY  2012    CITY        123,511,778\n",
       "2     LOS ANGELES CITY  2013    CITY        151,527,291\n",
       "3     LOS ANGELES CITY  2014    CITY        171,101,518\n",
       "4     LOS ANGELES CITY  2015    CITY        195,480,265\n",
       "5     LOS ANGELES CITY  2016    CITY        194,695,768\n",
       "6     LOS ANGELES CITY  2017    CITY        201,160,454\n",
       "7     LOS ANGELES CITY  2018    CITY        194,880,536\n",
       "8   LOS ANGELES COUNTY  2011  COUNTY        140,590,688\n",
       "9   LOS ANGELES COUNTY  2012  COUNTY        145,005,796\n",
       "10  LOS ANGELES COUNTY  2013  COUNTY        159,613,000\n",
       "11  LOS ANGELES COUNTY  2014  COUNTY        162,884,477\n",
       "12  LOS ANGELES COUNTY  2015  COUNTY        175,570,988\n",
       "13  LOS ANGELES COUNTY  2016  COUNTY        197,177,771\n",
       "14  LOS ANGELES COUNTY  2017  COUNTY        202,429,786\n",
       "15  LOS ANGELES COUNTY  2018  COUNTY        200,211,091"
      ]
     },
     "execution_count": 6,
     "metadata": {},
     "output_type": "execute_result"
    }
   ],
   "source": [
    "la_agencies"
   ]
  },
  {
   "cell_type": "code",
   "execution_count": 7,
   "metadata": {},
   "outputs": [
    {
     "data": {
      "application/javascript": [
       "const spec = {\"config\": {\"view\": {\"width\": 800, \"height\": 450}, \"background\": \"#ffffff\", \"title\": {\"anchor\": \"start\", \"font\": \"Benton Gothic Bold, sans\", \"fontColor\": \"#000000\", \"fontSize\": 22, \"fontWeight\": \"normal\"}, \"arc\": {\"fill\": \"#82c6df\"}, \"area\": {\"fill\": \"#82c6df\"}, \"line\": {\"stroke\": \"#82c6df\", \"strokeWidth\": 3}, \"path\": {\"stroke\": \"#82c6df\"}, \"rect\": {\"fill\": \"#82c6df\"}, \"shape\": {\"stroke\": \"#82c6df\"}, \"bar\": {\"fill\": \"#82c6df\"}, \"point\": {\"stroke\": \"#82c6df\"}, \"symbol\": {\"fill\": \"#82c6df\", \"size\": 30}, \"axis\": {\"titleFont\": \"Benton Gothic Bold, sans\", \"titleFontSize\": 13, \"titleFontWeight\": \"normal\", \"labelFont\": \"Benton Gothic, sans\", \"labelFontSize\": 11.5, \"labelFontWeight\": \"normal\"}, \"axisX\": {\"labelAngle\": 0, \"labelPadding\": 4, \"tickSize\": 3}, \"axisY\": {\"labelBaseline\": \"middle\", \"maxExtent\": 45, \"minExtent\": 45, \"tickSize\": 2, \"titleAlign\": \"left\", \"titleAngle\": 0, \"titleX\": -45, \"titleY\": -11}, \"legend\": {\"titleFont\": \"Benton Gothic Bold, sans\", \"titleFontSize\": 13, \"titleFontWeight\": \"normal\", \"symbolType\": \"square\", \"labelFont\": \"Benton Gothic, sans\", \"labelFontSize\": 11.5}, \"range\": {\"category\": [\"#3580b1\", \"#ec8431\", \"#ab7fb4\", \"#c89d29\", \"#adc839\", \"#829eb1\"], \"diverging\": [\"#e68a4f\", \"#f4bb6a\", \"#f9e39c\", \"#dadfe2\", \"#a6b7c6\", \"#849eae\"], \"heatmap\": [\"#fbf2c7\", \"#f9e39c\", \"#f8d36e\", \"#f4bb6a\", \"#e68a4f\", \"#d15a40\", \"#ab4232\"], \"ordinal\": [\"#fbf2c7\", \"#f9e39c\", \"#f8d36e\", \"#f4bb6a\", \"#e68a4f\", \"#d15a40\", \"#ab4232\"], \"ramp\": [\"#fbf2c7\", \"#f9e39c\", \"#f8d36e\", \"#f4bb6a\", \"#e68a4f\", \"#d15a40\", \"#ab4232\"]}}, \"data\": {\"name\": \"data-d9a6950a79ede1714047037bf25ba234\"}, \"mark\": \"line\", \"encoding\": {\"color\": {\"type\": \"nominal\", \"field\": \"employerfull\"}, \"x\": {\"type\": \"ordinal\", \"field\": \"year\"}, \"y\": {\"type\": \"quantitative\", \"field\": \"adjusted_overtime\"}}, \"$schema\": \"https://vega.github.io/schema/vega-lite/v3.4.0.json\", \"datasets\": {\"data-d9a6950a79ede1714047037bf25ba234\": [{\"employerfull\": \"LOS ANGELES CITY\", \"year\": 2011, \"type\": \"CITY\", \"adjusted_overtime\": 107255863.09039328}, {\"employerfull\": \"LOS ANGELES CITY\", \"year\": 2012, \"type\": \"CITY\", \"adjusted_overtime\": 123511778.30947654}, {\"employerfull\": \"LOS ANGELES CITY\", \"year\": 2013, \"type\": \"CITY\", \"adjusted_overtime\": 151527291.18270347}, {\"employerfull\": \"LOS ANGELES CITY\", \"year\": 2014, \"type\": \"CITY\", \"adjusted_overtime\": 171101517.60081297}, {\"employerfull\": \"LOS ANGELES CITY\", \"year\": 2015, \"type\": \"CITY\", \"adjusted_overtime\": 195480265.35931614}, {\"employerfull\": \"LOS ANGELES CITY\", \"year\": 2016, \"type\": \"CITY\", \"adjusted_overtime\": 194695768.03674474}, {\"employerfull\": \"LOS ANGELES CITY\", \"year\": 2017, \"type\": \"CITY\", \"adjusted_overtime\": 201160454.19062924}, {\"employerfull\": \"LOS ANGELES CITY\", \"year\": 2018, \"type\": \"CITY\", \"adjusted_overtime\": 194880536.0}, {\"employerfull\": \"LOS ANGELES COUNTY\", \"year\": 2011, \"type\": \"COUNTY\", \"adjusted_overtime\": 140590687.68411908}, {\"employerfull\": \"LOS ANGELES COUNTY\", \"year\": 2012, \"type\": \"COUNTY\", \"adjusted_overtime\": 145005795.54327133}, {\"employerfull\": \"LOS ANGELES COUNTY\", \"year\": 2013, \"type\": \"COUNTY\", \"adjusted_overtime\": 159612999.74831033}, {\"employerfull\": \"LOS ANGELES COUNTY\", \"year\": 2014, \"type\": \"COUNTY\", \"adjusted_overtime\": 162884476.55118388}, {\"employerfull\": \"LOS ANGELES COUNTY\", \"year\": 2015, \"type\": \"COUNTY\", \"adjusted_overtime\": 175570988.19498208}, {\"employerfull\": \"LOS ANGELES COUNTY\", \"year\": 2016, \"type\": \"COUNTY\", \"adjusted_overtime\": 197177771.15672123}, {\"employerfull\": \"LOS ANGELES COUNTY\", \"year\": 2017, \"type\": \"COUNTY\", \"adjusted_overtime\": 202429786.1434522}, {\"employerfull\": \"LOS ANGELES COUNTY\", \"year\": 2018, \"type\": \"COUNTY\", \"adjusted_overtime\": 200211091.0}]}};\n",
       "const opt = {};\n",
       "const type = \"vega-lite\";\n",
       "const id = \"6d15c9a4-3669-46fc-afdc-8e14689bea7b\";\n",
       "\n",
       "const output_area = this;\n",
       "\n",
       "require([\"nbextensions/jupyter-vega/index\"], function(vega) {\n",
       "  const target = document.createElement(\"div\");\n",
       "  target.id = id;\n",
       "  target.className = \"vega-embed\";\n",
       "\n",
       "  const style = document.createElement(\"style\");\n",
       "  style.textContent = [\n",
       "    \".vega-embed .error p {\",\n",
       "    \"  color: firebrick;\",\n",
       "    \"  font-size: 14px;\",\n",
       "    \"}\",\n",
       "  ].join(\"\\\\n\");\n",
       "\n",
       "  // element is a jQuery wrapped DOM element inside the output area\n",
       "  // see http://ipython.readthedocs.io/en/stable/api/generated/\\\n",
       "  // IPython.display.html#IPython.display.Javascript.__init__\n",
       "  element[0].appendChild(target);\n",
       "  element[0].appendChild(style);\n",
       "\n",
       "  vega.render(\"#\" + id, spec, type, opt, output_area);\n",
       "}, function (err) {\n",
       "  if (err.requireType !== \"scripterror\") {\n",
       "    throw(err);\n",
       "  }\n",
       "});\n"
      ],
      "text/plain": [
       "<vega.vegalite.VegaLite at 0x12d72a320>"
      ]
     },
     "metadata": {
      "jupyter-vega": "#6d15c9a4-3669-46fc-afdc-8e14689bea7b"
     },
     "output_type": "display_data"
    },
    {
     "data": {
      "text/plain": []
     },
     "execution_count": 7,
     "metadata": {},
     "output_type": "execute_result"
    },
    {
     "data": {
      "image/png": "[encoded data removed]"
     },
     "metadata": {
      "jupyter-vega": "#6d15c9a4-3669-46fc-afdc-8e14689bea7b"
     },
     "output_type": "display_data"
    }
   ],
   "source": [
    "alt.Chart(la_agencies).mark_line().encode(\n",
    "    x='year:O',\n",
    "    y='adjusted_overtime',\n",
    "    color='employerfull'\n",
    ")"
   ]
  },
  {
   "cell_type": "code",
   "execution_count": 8,
   "metadata": {},
   "outputs": [],
   "source": [
    "la_agencies.to_csv('output/la_agencies.csv')"
   ]
  },
  {
   "cell_type": "markdown",
   "metadata": {},
   "source": [
    "---"
   ]
  },
  {
   "cell_type": "markdown",
   "metadata": {},
   "source": [
    "### Create a dataframe combining and pivoting listing all the large places"
   ]
  },
  {
   "cell_type": "code",
   "execution_count": 9,
   "metadata": {},
   "outputs": [],
   "source": [
    "la_pivot_ot = pd.DataFrame(pd.pivot_table(la_agencies, \\\n",
    "                values='adjusted_overtime', index=['employerfull', 'type'], columns=['year']).reset_index().fillna(0))"
   ]
  },
  {
   "cell_type": "code",
   "execution_count": 10,
   "metadata": {},
   "outputs": [],
   "source": [
    "la_pivot_ot.columns = la_pivot_ot.columns.map(str)"
   ]
  },
  {
   "cell_type": "markdown",
   "metadata": {},
   "source": [
    "### What did each fire department pay in overtime (just to firefighter titles) each year? "
   ]
  },
  {
   "cell_type": "code",
   "execution_count": 11,
   "metadata": {},
   "outputs": [],
   "source": [
    "la_pivot_ot['ot_pct_change'] = \\\n",
    "                ((la_pivot_ot['2018']-la_pivot_ot['2011'])/\\\n",
    "                 la_pivot_ot['2011'])*100"
   ]
  },
  {
   "cell_type": "code",
   "execution_count": 12,
   "metadata": {},
   "outputs": [
    {
     "data": {
      "text/html": [
       "<div>\n",
       "<style scoped>\n",
       "    .dataframe tbody tr th:only-of-type {\n",
       "        vertical-align: middle;\n",
       "    }\n",
       "\n",
       "    .dataframe tbody tr th {\n",
       "        vertical-align: top;\n",
       "    }\n",
       "\n",
       "    .dataframe thead th {\n",
       "        text-align: right;\n",
       "    }\n",
       "</style>\n",
       "<table border=\"1\" class=\"dataframe\">\n",
       "  <thead>\n",
       "    <tr style=\"text-align: right;\">\n",
       "      <th>year</th>\n",
       "      <th>employerfull</th>\n",
       "      <th>type</th>\n",
       "      <th>2011</th>\n",
       "      <th>2012</th>\n",
       "      <th>2013</th>\n",
       "      <th>2014</th>\n",
       "      <th>2015</th>\n",
       "      <th>2016</th>\n",
       "      <th>2017</th>\n",
       "      <th>2018</th>\n",
       "      <th>ot_pct_change</th>\n",
       "    </tr>\n",
       "  </thead>\n",
       "  <tbody>\n",
       "    <tr>\n",
       "      <th>0</th>\n",
       "      <td>LOS ANGELES CITY</td>\n",
       "      <td>CITY</td>\n",
       "      <td>107,255,863</td>\n",
       "      <td>123,511,778</td>\n",
       "      <td>151,527,291</td>\n",
       "      <td>171,101,518</td>\n",
       "      <td>195,480,265</td>\n",
       "      <td>194,695,768</td>\n",
       "      <td>201,160,454</td>\n",
       "      <td>194,880,536</td>\n",
       "      <td>82</td>\n",
       "    </tr>\n",
       "    <tr>\n",
       "      <th>1</th>\n",
       "      <td>LOS ANGELES COUNTY</td>\n",
       "      <td>COUNTY</td>\n",
       "      <td>140,590,688</td>\n",
       "      <td>145,005,796</td>\n",
       "      <td>159,613,000</td>\n",
       "      <td>162,884,477</td>\n",
       "      <td>175,570,988</td>\n",
       "      <td>197,177,771</td>\n",
       "      <td>202,429,786</td>\n",
       "      <td>200,211,091</td>\n",
       "      <td>42</td>\n",
       "    </tr>\n",
       "  </tbody>\n",
       "</table>\n",
       "</div>"
      ],
      "text/plain": [
       "year        employerfull    type        2011        2012        2013  \\\n",
       "0       LOS ANGELES CITY    CITY 107,255,863 123,511,778 151,527,291   \n",
       "1     LOS ANGELES COUNTY  COUNTY 140,590,688 145,005,796 159,613,000   \n",
       "\n",
       "year        2014        2015        2016        2017        2018  \\\n",
       "0    171,101,518 195,480,265 194,695,768 201,160,454 194,880,536   \n",
       "1    162,884,477 175,570,988 197,177,771 202,429,786 200,211,091   \n",
       "\n",
       "year  ot_pct_change  \n",
       "0                82  \n",
       "1                42  "
      ]
     },
     "execution_count": 12,
     "metadata": {},
     "output_type": "execute_result"
    }
   ],
   "source": [
    "la_pivot_ot.head()"
   ]
  },
  {
   "cell_type": "code",
   "execution_count": 13,
   "metadata": {},
   "outputs": [
    {
     "data": {
      "text/plain": [
       "'$247,846,551'"
      ]
     },
     "execution_count": 13,
     "metadata": {},
     "output_type": "execute_result"
    }
   ],
   "source": [
    "#2011\n",
    "'${:,.0f}'.format((la_pivot_ot.iloc[1,2] + la_pivot_ot.iloc[0,2]))"
   ]
  },
  {
   "cell_type": "code",
   "execution_count": 14,
   "metadata": {},
   "outputs": [
    {
     "data": {
      "text/plain": [
       "'$395,091,627'"
      ]
     },
     "execution_count": 14,
     "metadata": {},
     "output_type": "execute_result"
    }
   ],
   "source": [
    "#2018\n",
    "'${:,.0f}'.format((la_pivot_ot.iloc[1,9] + la_pivot_ot.iloc[0,9]))"
   ]
  },
  {
   "cell_type": "code",
   "execution_count": 15,
   "metadata": {},
   "outputs": [
    {
     "data": {
      "text/plain": [
       "'59.41%'"
      ]
     },
     "execution_count": 15,
     "metadata": {},
     "output_type": "execute_result"
    }
   ],
   "source": [
    "'{:,.2f}%'.format(((la_pivot_ot.iloc[1,9] + la_pivot_ot.iloc[0,9])-(la_pivot_ot.iloc[1,2] + la_pivot_ot.iloc[0,2]))\\\n",
    "        / (la_pivot_ot.iloc[1,2] + la_pivot_ot.iloc[0,2])*100)"
   ]
  },
  {
   "cell_type": "code",
   "execution_count": 16,
   "metadata": {},
   "outputs": [],
   "source": [
    "la_pivot_ot.to_csv('output/la_city_county.csv')"
   ]
  },
  {
   "cell_type": "markdown",
   "metadata": {},
   "source": [
    "---"
   ]
  },
  {
   "cell_type": "markdown",
   "metadata": {},
   "source": [
    "### Charting firefighter wages and benefits in Los Angeles"
   ]
  },
  {
   "cell_type": "code",
   "execution_count": 17,
   "metadata": {},
   "outputs": [],
   "source": [
    "la_all = la.groupby(['year', 'employerfull']).agg({'adjusted_overtime':'sum', \\\n",
    "                                            'adjusted_basewages':'sum', \\\n",
    "                                        'adjusted_wages':'sum', \\\n",
    "                                            'adjusted_benefits':'sum'\\\n",
    "                                            }).reset_index()"
   ]
  },
  {
   "cell_type": "markdown",
   "metadata": {},
   "source": [
    "### Clean up the column names"
   ]
  },
  {
   "cell_type": "code",
   "execution_count": 18,
   "metadata": {},
   "outputs": [],
   "source": [
    "la_all.rename(columns={'adjusted_overtime': 'Overtime',\\\n",
    "                    'adjusted_basewages': 'BaseWages',\\\n",
    "                   'adjusted_wages': 'Wages',\\\n",
    "                   'adjusted_benefits':'Benefits',\\\n",
    "                     'year': 'Year',\n",
    "                      'employerfull': 'Place'}, inplace=True)"
   ]
  },
  {
   "cell_type": "markdown",
   "metadata": {},
   "source": [
    "### Melt the dataframe for charting"
   ]
  },
  {
   "cell_type": "code",
   "execution_count": 19,
   "metadata": {},
   "outputs": [],
   "source": [
    "la_melt = pd.melt(la_all,id_vars=['Year', 'Place'], value_vars=['Overtime','BaseWages'],\\\n",
    "        var_name='Compensation', value_name='Total')"
   ]
  },
  {
   "cell_type": "markdown",
   "metadata": {},
   "source": [
    "### Chart the overtime amount in annual dollars"
   ]
  },
  {
   "cell_type": "code",
   "execution_count": 20,
   "metadata": {
    "scrolled": false
   },
   "outputs": [
    {
     "data": {
      "application/javascript": [
       "const spec = {\"config\": {\"view\": {\"width\": 800, \"height\": 450}, \"background\": \"#ffffff\", \"title\": {\"anchor\": \"start\", \"font\": \"Benton Gothic Bold, sans\", \"fontColor\": \"#000000\", \"fontSize\": 22, \"fontWeight\": \"normal\"}, \"arc\": {\"fill\": \"#82c6df\"}, \"area\": {\"fill\": \"#82c6df\"}, \"line\": {\"stroke\": \"#82c6df\", \"strokeWidth\": 3}, \"path\": {\"stroke\": \"#82c6df\"}, \"rect\": {\"fill\": \"#82c6df\"}, \"shape\": {\"stroke\": \"#82c6df\"}, \"bar\": {\"fill\": \"#82c6df\"}, \"point\": {\"stroke\": \"#82c6df\"}, \"symbol\": {\"fill\": \"#82c6df\", \"size\": 30}, \"axis\": {\"titleFont\": \"Benton Gothic Bold, sans\", \"titleFontSize\": 13, \"titleFontWeight\": \"normal\", \"labelFont\": \"Benton Gothic, sans\", \"labelFontSize\": 11.5, \"labelFontWeight\": \"normal\"}, \"axisX\": {\"labelAngle\": 0, \"labelPadding\": 4, \"tickSize\": 3}, \"axisY\": {\"labelBaseline\": \"middle\", \"maxExtent\": 45, \"minExtent\": 45, \"tickSize\": 2, \"titleAlign\": \"left\", \"titleAngle\": 0, \"titleX\": -45, \"titleY\": -11}, \"legend\": {\"titleFont\": \"Benton Gothic Bold, sans\", \"titleFontSize\": 13, \"titleFontWeight\": \"normal\", \"symbolType\": \"square\", \"labelFont\": \"Benton Gothic, sans\", \"labelFontSize\": 11.5, \"orient\": \"right\"}, \"range\": {\"category\": [\"#3580b1\", \"#ec8431\", \"#ab7fb4\", \"#c89d29\", \"#adc839\", \"#829eb1\"], \"diverging\": [\"#e68a4f\", \"#f4bb6a\", \"#f9e39c\", \"#dadfe2\", \"#a6b7c6\", \"#849eae\"], \"heatmap\": [\"#fbf2c7\", \"#f9e39c\", \"#f8d36e\", \"#f4bb6a\", \"#e68a4f\", \"#d15a40\", \"#ab4232\"], \"ordinal\": [\"#fbf2c7\", \"#f9e39c\", \"#f8d36e\", \"#f4bb6a\", \"#e68a4f\", \"#d15a40\", \"#ab4232\"], \"ramp\": [\"#fbf2c7\", \"#f9e39c\", \"#f8d36e\", \"#f4bb6a\", \"#e68a4f\", \"#d15a40\", \"#ab4232\"]}, \"header\": {\"labelFontSize\": 11, \"titleAnchor\": \"middle\", \"titleColor\": \"gray\", \"titleFontSize\": 14, \"titleFontWeight\": \"normal\", \"titleOrient\": \"top\", \"titlePadding\": 10}}, \"data\": {\"name\": \"data-7aa3eafeb82b18ffa9eca56833a3c6e2\"}, \"mark\": \"area\", \"columns\": 2, \"encoding\": {\"color\": {\"type\": \"nominal\", \"field\": \"Compensation\", \"title\": \"\"}, \"facet\": {\"type\": \"nominal\", \"field\": \"Place\", \"title\": \"Overtime in inflation-adjusted dollars\"}, \"order\": {\"type\": \"nominal\", \"field\": \"Compensation\", \"sort\": \"ascending\"}, \"x\": {\"type\": \"nominal\", \"field\": \"Year\", \"title\": \" \"}, \"y\": {\"type\": \"quantitative\", \"axis\": {\"format\": \"$,s\", \"tickCount\": 6}, \"field\": \"Total\", \"title\": \" \"}}, \"height\": 300, \"title\": \"Fireighter pay\", \"width\": 300, \"$schema\": \"https://vega.github.io/schema/vega-lite/v3.4.0.json\", \"datasets\": {\"data-7aa3eafeb82b18ffa9eca56833a3c6e2\": [{\"Year\": 2011, \"Place\": \"LOS ANGELES CITY\", \"Compensation\": \"Overtime\", \"Total\": 107255863.09039328}, {\"Year\": 2011, \"Place\": \"LOS ANGELES COUNTY\", \"Compensation\": \"Overtime\", \"Total\": 140590687.68411908}, {\"Year\": 2012, \"Place\": \"LOS ANGELES CITY\", \"Compensation\": \"Overtime\", \"Total\": 123511778.30947654}, {\"Year\": 2012, \"Place\": \"LOS ANGELES COUNTY\", \"Compensation\": \"Overtime\", \"Total\": 145005795.54327133}, {\"Year\": 2013, \"Place\": \"LOS ANGELES CITY\", \"Compensation\": \"Overtime\", \"Total\": 151527291.18270347}, {\"Year\": 2013, \"Place\": \"LOS ANGELES COUNTY\", \"Compensation\": \"Overtime\", \"Total\": 159612999.74831033}, {\"Year\": 2014, \"Place\": \"LOS ANGELES CITY\", \"Compensation\": \"Overtime\", \"Total\": 171101517.60081297}, {\"Year\": 2014, \"Place\": \"LOS ANGELES COUNTY\", \"Compensation\": \"Overtime\", \"Total\": 162884476.55118388}, {\"Year\": 2015, \"Place\": \"LOS ANGELES CITY\", \"Compensation\": \"Overtime\", \"Total\": 195480265.35931614}, {\"Year\": 2015, \"Place\": \"LOS ANGELES COUNTY\", \"Compensation\": \"Overtime\", \"Total\": 175570988.19498208}, {\"Year\": 2016, \"Place\": \"LOS ANGELES CITY\", \"Compensation\": \"Overtime\", \"Total\": 194695768.03674474}, {\"Year\": 2016, \"Place\": \"LOS ANGELES COUNTY\", \"Compensation\": \"Overtime\", \"Total\": 197177771.15672123}, {\"Year\": 2017, \"Place\": \"LOS ANGELES CITY\", \"Compensation\": \"Overtime\", \"Total\": 201160454.19062924}, {\"Year\": 2017, \"Place\": \"LOS ANGELES COUNTY\", \"Compensation\": \"Overtime\", \"Total\": 202429786.1434522}, {\"Year\": 2018, \"Place\": \"LOS ANGELES CITY\", \"Compensation\": \"Overtime\", \"Total\": 194880536.0}, {\"Year\": 2018, \"Place\": \"LOS ANGELES COUNTY\", \"Compensation\": \"Overtime\", \"Total\": 200211091.0}, {\"Year\": 2011, \"Place\": \"LOS ANGELES CITY\", \"Compensation\": \"BaseWages\", \"Total\": 397612891.344396}, {\"Year\": 2011, \"Place\": \"LOS ANGELES COUNTY\", \"Compensation\": \"BaseWages\", \"Total\": 326725499.32254267}, {\"Year\": 2012, \"Place\": \"LOS ANGELES CITY\", \"Compensation\": \"BaseWages\", \"Total\": 378924275.63884157}, {\"Year\": 2012, \"Place\": \"LOS ANGELES COUNTY\", \"Compensation\": \"BaseWages\", \"Total\": 320094773.81709844}, {\"Year\": 2013, \"Place\": \"LOS ANGELES CITY\", \"Compensation\": \"BaseWages\", \"Total\": 373424266.2009166}, {\"Year\": 2013, \"Place\": \"LOS ANGELES COUNTY\", \"Compensation\": \"BaseWages\", \"Total\": 308778660.40810853}, {\"Year\": 2014, \"Place\": \"LOS ANGELES CITY\", \"Compensation\": \"BaseWages\", \"Total\": 334233771.59978}, {\"Year\": 2014, \"Place\": \"LOS ANGELES COUNTY\", \"Compensation\": \"BaseWages\", \"Total\": 309057951.7529856}, {\"Year\": 2015, \"Place\": \"LOS ANGELES CITY\", \"Compensation\": \"BaseWages\", \"Total\": 376573002.37360185}, {\"Year\": 2015, \"Place\": \"LOS ANGELES COUNTY\", \"Compensation\": \"BaseWages\", \"Total\": 314359588.0021936}, {\"Year\": 2016, \"Place\": \"LOS ANGELES CITY\", \"Compensation\": \"BaseWages\", \"Total\": 378710549.94814}, {\"Year\": 2016, \"Place\": \"LOS ANGELES COUNTY\", \"Compensation\": \"BaseWages\", \"Total\": 323280886.498106}, {\"Year\": 2017, \"Place\": \"LOS ANGELES CITY\", \"Compensation\": \"BaseWages\", \"Total\": 399986478.9201899}, {\"Year\": 2017, \"Place\": \"LOS ANGELES COUNTY\", \"Compensation\": \"BaseWages\", \"Total\": 332389121.9566454}, {\"Year\": 2018, \"Place\": \"LOS ANGELES CITY\", \"Compensation\": \"BaseWages\", \"Total\": 401007661.0}, {\"Year\": 2018, \"Place\": \"LOS ANGELES COUNTY\", \"Compensation\": \"BaseWages\", \"Total\": 337102746.0}]}};\n",
       "const opt = {};\n",
       "const type = \"vega-lite\";\n",
       "const id = \"217a43f1-3764-4694-b692-2b00a387448e\";\n",
       "\n",
       "const output_area = this;\n",
       "\n",
       "require([\"nbextensions/jupyter-vega/index\"], function(vega) {\n",
       "  const target = document.createElement(\"div\");\n",
       "  target.id = id;\n",
       "  target.className = \"vega-embed\";\n",
       "\n",
       "  const style = document.createElement(\"style\");\n",
       "  style.textContent = [\n",
       "    \".vega-embed .error p {\",\n",
       "    \"  color: firebrick;\",\n",
       "    \"  font-size: 14px;\",\n",
       "    \"}\",\n",
       "  ].join(\"\\\\n\");\n",
       "\n",
       "  // element is a jQuery wrapped DOM element inside the output area\n",
       "  // see http://ipython.readthedocs.io/en/stable/api/generated/\\\n",
       "  // IPython.display.html#IPython.display.Javascript.__init__\n",
       "  element[0].appendChild(target);\n",
       "  element[0].appendChild(style);\n",
       "\n",
       "  vega.render(\"#\" + id, spec, type, opt, output_area);\n",
       "}, function (err) {\n",
       "  if (err.requireType !== \"scripterror\") {\n",
       "    throw(err);\n",
       "  }\n",
       "});\n"
      ],
      "text/plain": [
       "<vega.vegalite.VegaLite at 0x131522390>"
      ]
     },
     "metadata": {
      "jupyter-vega": "#217a43f1-3764-4694-b692-2b00a387448e"
     },
     "output_type": "display_data"
    },
    {
     "data": {
      "text/plain": []
     },
     "execution_count": 20,
     "metadata": {},
     "output_type": "execute_result"
    },
    {
     "data": {
      "image/png": "[encoded data removed]"
     },
     "metadata": {
      "jupyter-vega": "#217a43f1-3764-4694-b692-2b00a387448e"
     },
     "output_type": "display_data"
    }
   ],
   "source": [
    "otdollars = alt.Chart(la_melt).mark_area().encode(\n",
    "    x=alt.X(\"Year:N\", title=' '),\n",
    "    y=alt.Y(\"Total:Q\", title=' ', axis=alt.Axis(tickCount=6, format='$,s')),\n",
    "    color=alt.Color(\"Compensation:N\", title=''),\n",
    "    order=alt.Order(\n",
    "      # Sort the segments of the bars by this field\n",
    "      'Compensation',\n",
    "      sort='ascending'\n",
    "    ),\n",
    "    facet=alt.Facet('Place:N', title='Overtime in inflation-adjusted dollars')\n",
    ").properties(width=300, height=300, columns=2, title='Fireighter pay')\n",
    "\n",
    "otdollars.configure_header(\n",
    "    titleColor='gray',\n",
    "    titleFontSize=14,\n",
    "    titleFontWeight = 'normal',\n",
    "    titleOrient = 'top',\n",
    "    titleAnchor='middle',\n",
    "    titlePadding=10,\n",
    "    labelFontSize=11\n",
    ").configure_legend(\n",
    "    orient='right'\n",
    ")"
   ]
  },
  {
   "cell_type": "code",
   "execution_count": 21,
   "metadata": {},
   "outputs": [
    {
     "data": {
      "text/html": [
       "<div>\n",
       "<style scoped>\n",
       "    .dataframe tbody tr th:only-of-type {\n",
       "        vertical-align: middle;\n",
       "    }\n",
       "\n",
       "    .dataframe tbody tr th {\n",
       "        vertical-align: top;\n",
       "    }\n",
       "\n",
       "    .dataframe thead th {\n",
       "        text-align: right;\n",
       "    }\n",
       "</style>\n",
       "<table border=\"1\" class=\"dataframe\">\n",
       "  <thead>\n",
       "    <tr style=\"text-align: right;\">\n",
       "      <th></th>\n",
       "      <th>Year</th>\n",
       "      <th>Place</th>\n",
       "      <th>Compensation</th>\n",
       "      <th>Total</th>\n",
       "    </tr>\n",
       "  </thead>\n",
       "  <tbody>\n",
       "    <tr>\n",
       "      <th>16</th>\n",
       "      <td>2011</td>\n",
       "      <td>LOS ANGELES CITY</td>\n",
       "      <td>BaseWages</td>\n",
       "      <td>397,612,891</td>\n",
       "    </tr>\n",
       "    <tr>\n",
       "      <th>18</th>\n",
       "      <td>2012</td>\n",
       "      <td>LOS ANGELES CITY</td>\n",
       "      <td>BaseWages</td>\n",
       "      <td>378,924,276</td>\n",
       "    </tr>\n",
       "    <tr>\n",
       "      <th>20</th>\n",
       "      <td>2013</td>\n",
       "      <td>LOS ANGELES CITY</td>\n",
       "      <td>BaseWages</td>\n",
       "      <td>373,424,266</td>\n",
       "    </tr>\n",
       "    <tr>\n",
       "      <th>22</th>\n",
       "      <td>2014</td>\n",
       "      <td>LOS ANGELES CITY</td>\n",
       "      <td>BaseWages</td>\n",
       "      <td>334,233,772</td>\n",
       "    </tr>\n",
       "    <tr>\n",
       "      <th>24</th>\n",
       "      <td>2015</td>\n",
       "      <td>LOS ANGELES CITY</td>\n",
       "      <td>BaseWages</td>\n",
       "      <td>376,573,002</td>\n",
       "    </tr>\n",
       "    <tr>\n",
       "      <th>26</th>\n",
       "      <td>2016</td>\n",
       "      <td>LOS ANGELES CITY</td>\n",
       "      <td>BaseWages</td>\n",
       "      <td>378,710,550</td>\n",
       "    </tr>\n",
       "    <tr>\n",
       "      <th>28</th>\n",
       "      <td>2017</td>\n",
       "      <td>LOS ANGELES CITY</td>\n",
       "      <td>BaseWages</td>\n",
       "      <td>399,986,479</td>\n",
       "    </tr>\n",
       "    <tr>\n",
       "      <th>30</th>\n",
       "      <td>2018</td>\n",
       "      <td>LOS ANGELES CITY</td>\n",
       "      <td>BaseWages</td>\n",
       "      <td>401,007,661</td>\n",
       "    </tr>\n",
       "    <tr>\n",
       "      <th>0</th>\n",
       "      <td>2011</td>\n",
       "      <td>LOS ANGELES CITY</td>\n",
       "      <td>Overtime</td>\n",
       "      <td>107,255,863</td>\n",
       "    </tr>\n",
       "    <tr>\n",
       "      <th>2</th>\n",
       "      <td>2012</td>\n",
       "      <td>LOS ANGELES CITY</td>\n",
       "      <td>Overtime</td>\n",
       "      <td>123,511,778</td>\n",
       "    </tr>\n",
       "    <tr>\n",
       "      <th>4</th>\n",
       "      <td>2013</td>\n",
       "      <td>LOS ANGELES CITY</td>\n",
       "      <td>Overtime</td>\n",
       "      <td>151,527,291</td>\n",
       "    </tr>\n",
       "    <tr>\n",
       "      <th>6</th>\n",
       "      <td>2014</td>\n",
       "      <td>LOS ANGELES CITY</td>\n",
       "      <td>Overtime</td>\n",
       "      <td>171,101,518</td>\n",
       "    </tr>\n",
       "    <tr>\n",
       "      <th>8</th>\n",
       "      <td>2015</td>\n",
       "      <td>LOS ANGELES CITY</td>\n",
       "      <td>Overtime</td>\n",
       "      <td>195,480,265</td>\n",
       "    </tr>\n",
       "    <tr>\n",
       "      <th>10</th>\n",
       "      <td>2016</td>\n",
       "      <td>LOS ANGELES CITY</td>\n",
       "      <td>Overtime</td>\n",
       "      <td>194,695,768</td>\n",
       "    </tr>\n",
       "    <tr>\n",
       "      <th>12</th>\n",
       "      <td>2017</td>\n",
       "      <td>LOS ANGELES CITY</td>\n",
       "      <td>Overtime</td>\n",
       "      <td>201,160,454</td>\n",
       "    </tr>\n",
       "    <tr>\n",
       "      <th>14</th>\n",
       "      <td>2018</td>\n",
       "      <td>LOS ANGELES CITY</td>\n",
       "      <td>Overtime</td>\n",
       "      <td>194,880,536</td>\n",
       "    </tr>\n",
       "    <tr>\n",
       "      <th>17</th>\n",
       "      <td>2011</td>\n",
       "      <td>LOS ANGELES COUNTY</td>\n",
       "      <td>BaseWages</td>\n",
       "      <td>326,725,499</td>\n",
       "    </tr>\n",
       "    <tr>\n",
       "      <th>19</th>\n",
       "      <td>2012</td>\n",
       "      <td>LOS ANGELES COUNTY</td>\n",
       "      <td>BaseWages</td>\n",
       "      <td>320,094,774</td>\n",
       "    </tr>\n",
       "    <tr>\n",
       "      <th>21</th>\n",
       "      <td>2013</td>\n",
       "      <td>LOS ANGELES COUNTY</td>\n",
       "      <td>BaseWages</td>\n",
       "      <td>308,778,660</td>\n",
       "    </tr>\n",
       "    <tr>\n",
       "      <th>23</th>\n",
       "      <td>2014</td>\n",
       "      <td>LOS ANGELES COUNTY</td>\n",
       "      <td>BaseWages</td>\n",
       "      <td>309,057,952</td>\n",
       "    </tr>\n",
       "    <tr>\n",
       "      <th>25</th>\n",
       "      <td>2015</td>\n",
       "      <td>LOS ANGELES COUNTY</td>\n",
       "      <td>BaseWages</td>\n",
       "      <td>314,359,588</td>\n",
       "    </tr>\n",
       "    <tr>\n",
       "      <th>27</th>\n",
       "      <td>2016</td>\n",
       "      <td>LOS ANGELES COUNTY</td>\n",
       "      <td>BaseWages</td>\n",
       "      <td>323,280,886</td>\n",
       "    </tr>\n",
       "    <tr>\n",
       "      <th>29</th>\n",
       "      <td>2017</td>\n",
       "      <td>LOS ANGELES COUNTY</td>\n",
       "      <td>BaseWages</td>\n",
       "      <td>332,389,122</td>\n",
       "    </tr>\n",
       "    <tr>\n",
       "      <th>31</th>\n",
       "      <td>2018</td>\n",
       "      <td>LOS ANGELES COUNTY</td>\n",
       "      <td>BaseWages</td>\n",
       "      <td>337,102,746</td>\n",
       "    </tr>\n",
       "    <tr>\n",
       "      <th>1</th>\n",
       "      <td>2011</td>\n",
       "      <td>LOS ANGELES COUNTY</td>\n",
       "      <td>Overtime</td>\n",
       "      <td>140,590,688</td>\n",
       "    </tr>\n",
       "    <tr>\n",
       "      <th>3</th>\n",
       "      <td>2012</td>\n",
       "      <td>LOS ANGELES COUNTY</td>\n",
       "      <td>Overtime</td>\n",
       "      <td>145,005,796</td>\n",
       "    </tr>\n",
       "    <tr>\n",
       "      <th>5</th>\n",
       "      <td>2013</td>\n",
       "      <td>LOS ANGELES COUNTY</td>\n",
       "      <td>Overtime</td>\n",
       "      <td>159,613,000</td>\n",
       "    </tr>\n",
       "    <tr>\n",
       "      <th>7</th>\n",
       "      <td>2014</td>\n",
       "      <td>LOS ANGELES COUNTY</td>\n",
       "      <td>Overtime</td>\n",
       "      <td>162,884,477</td>\n",
       "    </tr>\n",
       "    <tr>\n",
       "      <th>9</th>\n",
       "      <td>2015</td>\n",
       "      <td>LOS ANGELES COUNTY</td>\n",
       "      <td>Overtime</td>\n",
       "      <td>175,570,988</td>\n",
       "    </tr>\n",
       "    <tr>\n",
       "      <th>11</th>\n",
       "      <td>2016</td>\n",
       "      <td>LOS ANGELES COUNTY</td>\n",
       "      <td>Overtime</td>\n",
       "      <td>197,177,771</td>\n",
       "    </tr>\n",
       "    <tr>\n",
       "      <th>13</th>\n",
       "      <td>2017</td>\n",
       "      <td>LOS ANGELES COUNTY</td>\n",
       "      <td>Overtime</td>\n",
       "      <td>202,429,786</td>\n",
       "    </tr>\n",
       "    <tr>\n",
       "      <th>15</th>\n",
       "      <td>2018</td>\n",
       "      <td>LOS ANGELES COUNTY</td>\n",
       "      <td>Overtime</td>\n",
       "      <td>200,211,091</td>\n",
       "    </tr>\n",
       "  </tbody>\n",
       "</table>\n",
       "</div>"
      ],
      "text/plain": [
       "    Year               Place Compensation       Total\n",
       "16  2011    LOS ANGELES CITY    BaseWages 397,612,891\n",
       "18  2012    LOS ANGELES CITY    BaseWages 378,924,276\n",
       "20  2013    LOS ANGELES CITY    BaseWages 373,424,266\n",
       "22  2014    LOS ANGELES CITY    BaseWages 334,233,772\n",
       "24  2015    LOS ANGELES CITY    BaseWages 376,573,002\n",
       "26  2016    LOS ANGELES CITY    BaseWages 378,710,550\n",
       "28  2017    LOS ANGELES CITY    BaseWages 399,986,479\n",
       "30  2018    LOS ANGELES CITY    BaseWages 401,007,661\n",
       "0   2011    LOS ANGELES CITY     Overtime 107,255,863\n",
       "2   2012    LOS ANGELES CITY     Overtime 123,511,778\n",
       "4   2013    LOS ANGELES CITY     Overtime 151,527,291\n",
       "6   2014    LOS ANGELES CITY     Overtime 171,101,518\n",
       "8   2015    LOS ANGELES CITY     Overtime 195,480,265\n",
       "10  2016    LOS ANGELES CITY     Overtime 194,695,768\n",
       "12  2017    LOS ANGELES CITY     Overtime 201,160,454\n",
       "14  2018    LOS ANGELES CITY     Overtime 194,880,536\n",
       "17  2011  LOS ANGELES COUNTY    BaseWages 326,725,499\n",
       "19  2012  LOS ANGELES COUNTY    BaseWages 320,094,774\n",
       "21  2013  LOS ANGELES COUNTY    BaseWages 308,778,660\n",
       "23  2014  LOS ANGELES COUNTY    BaseWages 309,057,952\n",
       "25  2015  LOS ANGELES COUNTY    BaseWages 314,359,588\n",
       "27  2016  LOS ANGELES COUNTY    BaseWages 323,280,886\n",
       "29  2017  LOS ANGELES COUNTY    BaseWages 332,389,122\n",
       "31  2018  LOS ANGELES COUNTY    BaseWages 337,102,746\n",
       "1   2011  LOS ANGELES COUNTY     Overtime 140,590,688\n",
       "3   2012  LOS ANGELES COUNTY     Overtime 145,005,796\n",
       "5   2013  LOS ANGELES COUNTY     Overtime 159,613,000\n",
       "7   2014  LOS ANGELES COUNTY     Overtime 162,884,477\n",
       "9   2015  LOS ANGELES COUNTY     Overtime 175,570,988\n",
       "11  2016  LOS ANGELES COUNTY     Overtime 197,177,771\n",
       "13  2017  LOS ANGELES COUNTY     Overtime 202,429,786\n",
       "15  2018  LOS ANGELES COUNTY     Overtime 200,211,091"
      ]
     },
     "execution_count": 21,
     "metadata": {},
     "output_type": "execute_result"
    }
   ],
   "source": [
    "la_melt.sort_values(by=['Place', 'Compensation', 'Year'], ascending=True)"
   ]
  },
  {
   "cell_type": "markdown",
   "metadata": {},
   "source": [
    "### Normalized version"
   ]
  },
  {
   "cell_type": "code",
   "execution_count": 22,
   "metadata": {},
   "outputs": [
    {
     "data": {
      "application/javascript": [
       "const spec = {\"config\": {\"view\": {\"width\": 800, \"height\": 450}, \"background\": \"#ffffff\", \"title\": {\"anchor\": \"start\", \"font\": \"Benton Gothic Bold, sans\", \"fontColor\": \"#000000\", \"fontSize\": 22, \"fontWeight\": \"normal\"}, \"arc\": {\"fill\": \"#82c6df\"}, \"area\": {\"fill\": \"#82c6df\"}, \"line\": {\"stroke\": \"#82c6df\", \"strokeWidth\": 3}, \"path\": {\"stroke\": \"#82c6df\"}, \"rect\": {\"fill\": \"#82c6df\"}, \"shape\": {\"stroke\": \"#82c6df\"}, \"bar\": {\"fill\": \"#82c6df\"}, \"point\": {\"stroke\": \"#82c6df\"}, \"symbol\": {\"fill\": \"#82c6df\", \"size\": 30}, \"axis\": {\"titleFont\": \"Benton Gothic Bold, sans\", \"titleFontSize\": 13, \"titleFontWeight\": \"normal\", \"labelFont\": \"Benton Gothic, sans\", \"labelFontSize\": 11.5, \"labelFontWeight\": \"normal\"}, \"axisX\": {\"labelAngle\": 0, \"labelPadding\": 4, \"tickSize\": 3}, \"axisY\": {\"labelBaseline\": \"middle\", \"maxExtent\": 45, \"minExtent\": 45, \"tickSize\": 2, \"titleAlign\": \"left\", \"titleAngle\": 0, \"titleX\": -45, \"titleY\": -11}, \"legend\": {\"titleFont\": \"Benton Gothic Bold, sans\", \"titleFontSize\": 13, \"titleFontWeight\": \"normal\", \"symbolType\": \"square\", \"labelFont\": \"Benton Gothic, sans\", \"labelFontSize\": 11.5, \"orient\": \"right\"}, \"range\": {\"category\": [\"#3580b1\", \"#ec8431\", \"#ab7fb4\", \"#c89d29\", \"#adc839\", \"#829eb1\"], \"diverging\": [\"#e68a4f\", \"#f4bb6a\", \"#f9e39c\", \"#dadfe2\", \"#a6b7c6\", \"#849eae\"], \"heatmap\": [\"#fbf2c7\", \"#f9e39c\", \"#f8d36e\", \"#f4bb6a\", \"#e68a4f\", \"#d15a40\", \"#ab4232\"], \"ordinal\": [\"#fbf2c7\", \"#f9e39c\", \"#f8d36e\", \"#f4bb6a\", \"#e68a4f\", \"#d15a40\", \"#ab4232\"], \"ramp\": [\"#fbf2c7\", \"#f9e39c\", \"#f8d36e\", \"#f4bb6a\", \"#e68a4f\", \"#d15a40\", \"#ab4232\"]}, \"header\": {\"labelFontSize\": 11, \"titleAnchor\": \"middle\", \"titleColor\": \"gray\", \"titleFontSize\": 14, \"titleFontWeight\": \"normal\", \"titleOrient\": \"top\", \"titlePadding\": 10}}, \"data\": {\"name\": \"data-7aa3eafeb82b18ffa9eca56833a3c6e2\"}, \"mark\": \"area\", \"columns\": 2, \"encoding\": {\"color\": {\"type\": \"nominal\", \"field\": \"Compensation\"}, \"facet\": {\"type\": \"nominal\", \"field\": \"Place\", \"title\": \" \"}, \"order\": {\"type\": \"nominal\", \"field\": \"Compensation\", \"sort\": \"ascending\"}, \"x\": {\"type\": \"nominal\", \"field\": \"Year\", \"title\": \" \"}, \"y\": {\"type\": \"quantitative\", \"axis\": {\"format\": \"%\", \"tickCount\": 6}, \"field\": \"Total\", \"stack\": \"normalize\", \"title\": \" \"}}, \"height\": 300, \"title\": \"Firefighter compensation in Los Angeles\", \"width\": 300, \"$schema\": \"https://vega.github.io/schema/vega-lite/v3.4.0.json\", \"datasets\": {\"data-7aa3eafeb82b18ffa9eca56833a3c6e2\": [{\"Year\": 2011, \"Place\": \"LOS ANGELES CITY\", \"Compensation\": \"Overtime\", \"Total\": 107255863.09039328}, {\"Year\": 2011, \"Place\": \"LOS ANGELES COUNTY\", \"Compensation\": \"Overtime\", \"Total\": 140590687.68411908}, {\"Year\": 2012, \"Place\": \"LOS ANGELES CITY\", \"Compensation\": \"Overtime\", \"Total\": 123511778.30947654}, {\"Year\": 2012, \"Place\": \"LOS ANGELES COUNTY\", \"Compensation\": \"Overtime\", \"Total\": 145005795.54327133}, {\"Year\": 2013, \"Place\": \"LOS ANGELES CITY\", \"Compensation\": \"Overtime\", \"Total\": 151527291.18270347}, {\"Year\": 2013, \"Place\": \"LOS ANGELES COUNTY\", \"Compensation\": \"Overtime\", \"Total\": 159612999.74831033}, {\"Year\": 2014, \"Place\": \"LOS ANGELES CITY\", \"Compensation\": \"Overtime\", \"Total\": 171101517.60081297}, {\"Year\": 2014, \"Place\": \"LOS ANGELES COUNTY\", \"Compensation\": \"Overtime\", \"Total\": 162884476.55118388}, {\"Year\": 2015, \"Place\": \"LOS ANGELES CITY\", \"Compensation\": \"Overtime\", \"Total\": 195480265.35931614}, {\"Year\": 2015, \"Place\": \"LOS ANGELES COUNTY\", \"Compensation\": \"Overtime\", \"Total\": 175570988.19498208}, {\"Year\": 2016, \"Place\": \"LOS ANGELES CITY\", \"Compensation\": \"Overtime\", \"Total\": 194695768.03674474}, {\"Year\": 2016, \"Place\": \"LOS ANGELES COUNTY\", \"Compensation\": \"Overtime\", \"Total\": 197177771.15672123}, {\"Year\": 2017, \"Place\": \"LOS ANGELES CITY\", \"Compensation\": \"Overtime\", \"Total\": 201160454.19062924}, {\"Year\": 2017, \"Place\": \"LOS ANGELES COUNTY\", \"Compensation\": \"Overtime\", \"Total\": 202429786.1434522}, {\"Year\": 2018, \"Place\": \"LOS ANGELES CITY\", \"Compensation\": \"Overtime\", \"Total\": 194880536.0}, {\"Year\": 2018, \"Place\": \"LOS ANGELES COUNTY\", \"Compensation\": \"Overtime\", \"Total\": 200211091.0}, {\"Year\": 2011, \"Place\": \"LOS ANGELES CITY\", \"Compensation\": \"BaseWages\", \"Total\": 397612891.344396}, {\"Year\": 2011, \"Place\": \"LOS ANGELES COUNTY\", \"Compensation\": \"BaseWages\", \"Total\": 326725499.32254267}, {\"Year\": 2012, \"Place\": \"LOS ANGELES CITY\", \"Compensation\": \"BaseWages\", \"Total\": 378924275.63884157}, {\"Year\": 2012, \"Place\": \"LOS ANGELES COUNTY\", \"Compensation\": \"BaseWages\", \"Total\": 320094773.81709844}, {\"Year\": 2013, \"Place\": \"LOS ANGELES CITY\", \"Compensation\": \"BaseWages\", \"Total\": 373424266.2009166}, {\"Year\": 2013, \"Place\": \"LOS ANGELES COUNTY\", \"Compensation\": \"BaseWages\", \"Total\": 308778660.40810853}, {\"Year\": 2014, \"Place\": \"LOS ANGELES CITY\", \"Compensation\": \"BaseWages\", \"Total\": 334233771.59978}, {\"Year\": 2014, \"Place\": \"LOS ANGELES COUNTY\", \"Compensation\": \"BaseWages\", \"Total\": 309057951.7529856}, {\"Year\": 2015, \"Place\": \"LOS ANGELES CITY\", \"Compensation\": \"BaseWages\", \"Total\": 376573002.37360185}, {\"Year\": 2015, \"Place\": \"LOS ANGELES COUNTY\", \"Compensation\": \"BaseWages\", \"Total\": 314359588.0021936}, {\"Year\": 2016, \"Place\": \"LOS ANGELES CITY\", \"Compensation\": \"BaseWages\", \"Total\": 378710549.94814}, {\"Year\": 2016, \"Place\": \"LOS ANGELES COUNTY\", \"Compensation\": \"BaseWages\", \"Total\": 323280886.498106}, {\"Year\": 2017, \"Place\": \"LOS ANGELES CITY\", \"Compensation\": \"BaseWages\", \"Total\": 399986478.9201899}, {\"Year\": 2017, \"Place\": \"LOS ANGELES COUNTY\", \"Compensation\": \"BaseWages\", \"Total\": 332389121.9566454}, {\"Year\": 2018, \"Place\": \"LOS ANGELES CITY\", \"Compensation\": \"BaseWages\", \"Total\": 401007661.0}, {\"Year\": 2018, \"Place\": \"LOS ANGELES COUNTY\", \"Compensation\": \"BaseWages\", \"Total\": 337102746.0}]}};\n",
       "const opt = {};\n",
       "const type = \"vega-lite\";\n",
       "const id = \"1ce9bde4-7a5e-4537-9d24-4e423a019ee6\";\n",
       "\n",
       "const output_area = this;\n",
       "\n",
       "require([\"nbextensions/jupyter-vega/index\"], function(vega) {\n",
       "  const target = document.createElement(\"div\");\n",
       "  target.id = id;\n",
       "  target.className = \"vega-embed\";\n",
       "\n",
       "  const style = document.createElement(\"style\");\n",
       "  style.textContent = [\n",
       "    \".vega-embed .error p {\",\n",
       "    \"  color: firebrick;\",\n",
       "    \"  font-size: 14px;\",\n",
       "    \"}\",\n",
       "  ].join(\"\\\\n\");\n",
       "\n",
       "  // element is a jQuery wrapped DOM element inside the output area\n",
       "  // see http://ipython.readthedocs.io/en/stable/api/generated/\\\n",
       "  // IPython.display.html#IPython.display.Javascript.__init__\n",
       "  element[0].appendChild(target);\n",
       "  element[0].appendChild(style);\n",
       "\n",
       "  vega.render(\"#\" + id, spec, type, opt, output_area);\n",
       "}, function (err) {\n",
       "  if (err.requireType !== \"scripterror\") {\n",
       "    throw(err);\n",
       "  }\n",
       "});\n"
      ],
      "text/plain": [
       "<vega.vegalite.VegaLite at 0x131522ef0>"
      ]
     },
     "metadata": {
      "jupyter-vega": "#1ce9bde4-7a5e-4537-9d24-4e423a019ee6"
     },
     "output_type": "display_data"
    },
    {
     "data": {
      "text/plain": []
     },
     "execution_count": 22,
     "metadata": {},
     "output_type": "execute_result"
    },
    {
     "data": {
      "image/png": "[encoded data removed]"
     },
     "metadata": {
      "jupyter-vega": "#1ce9bde4-7a5e-4537-9d24-4e423a019ee6"
     },
     "output_type": "display_data"
    }
   ],
   "source": [
    "otshare = alt.Chart(la_melt).mark_area().encode(\n",
    "    x=alt.X(\"Year:N\", title=' '),\n",
    "    y=alt.Y(\"Total:Q\", stack=\"normalize\", title=' ', axis=alt.Axis(tickCount=6, format='%')),\n",
    "    color=\"Compensation:N\",\n",
    "    order=alt.Order(\n",
    "      # Sort the segments of the bars by this field\n",
    "      'Compensation',\n",
    "      sort='ascending'\n",
    "    ),\n",
    "    facet=alt.Facet('Place:N', title=' ')\n",
    ").properties(width=300, height=300, columns=2, title='Firefighter compensation in Los Angeles')\n",
    "\n",
    "otshare.configure_header(\n",
    "    titleColor='gray',\n",
    "    titleFontSize=14,\n",
    "    titleFontWeight = 'normal',\n",
    "    titleOrient = 'top',\n",
    "    titleAnchor='middle',\n",
    "    titlePadding=10,\n",
    "    labelFontSize=11\n",
    ").configure_legend(\n",
    "    orient='right'\n",
    ")"
   ]
  },
  {
   "cell_type": "code",
   "execution_count": 23,
   "metadata": {},
   "outputs": [],
   "source": [
    "la_melt.sort_values(by=['Place', 'Compensation']).to_csv('output/la_melt.csv')"
   ]
  },
  {
   "cell_type": "markdown",
   "metadata": {},
   "source": [
    "---"
   ]
  },
  {
   "cell_type": "markdown",
   "metadata": {},
   "source": [
    "### How many firefighters received six-figure amounts of overtime in a year?"
   ]
  },
  {
   "cell_type": "code",
   "execution_count": 24,
   "metadata": {},
   "outputs": [],
   "source": [
    "la_highest = la[la['overtime'] > 200000]"
   ]
  },
  {
   "cell_type": "code",
   "execution_count": 25,
   "metadata": {},
   "outputs": [],
   "source": [
    "la_high = la[la['overtime'] > 100000]"
   ]
  },
  {
   "cell_type": "code",
   "execution_count": 26,
   "metadata": {},
   "outputs": [
    {
     "name": "stdout",
     "output_type": "stream",
     "text": [
      "$200k: 165 | $100k: 5042\n"
     ]
    }
   ],
   "source": [
    "print('$200k:',len(la_highest),'| $100k:',len(la_high)) "
   ]
  },
  {
   "cell_type": "markdown",
   "metadata": {},
   "source": [
    "### Group by agency type and year and count recipients of $100k overtime"
   ]
  },
  {
   "cell_type": "code",
   "execution_count": 27,
   "metadata": {},
   "outputs": [
    {
     "data": {
      "text/html": [
       "<div>\n",
       "<style scoped>\n",
       "    .dataframe tbody tr th:only-of-type {\n",
       "        vertical-align: middle;\n",
       "    }\n",
       "\n",
       "    .dataframe tbody tr th {\n",
       "        vertical-align: top;\n",
       "    }\n",
       "\n",
       "    .dataframe thead th {\n",
       "        text-align: right;\n",
       "    }\n",
       "</style>\n",
       "<table border=\"1\" class=\"dataframe\">\n",
       "  <thead>\n",
       "    <tr style=\"text-align: right;\">\n",
       "      <th></th>\n",
       "      <th>year</th>\n",
       "      <th>type</th>\n",
       "      <th>count</th>\n",
       "    </tr>\n",
       "  </thead>\n",
       "  <tbody>\n",
       "    <tr>\n",
       "      <th>1</th>\n",
       "      <td>2011</td>\n",
       "      <td>COUNTY</td>\n",
       "      <td>20</td>\n",
       "    </tr>\n",
       "    <tr>\n",
       "      <th>3</th>\n",
       "      <td>2012</td>\n",
       "      <td>COUNTY</td>\n",
       "      <td>58</td>\n",
       "    </tr>\n",
       "    <tr>\n",
       "      <th>5</th>\n",
       "      <td>2013</td>\n",
       "      <td>COUNTY</td>\n",
       "      <td>161</td>\n",
       "    </tr>\n",
       "    <tr>\n",
       "      <th>7</th>\n",
       "      <td>2014</td>\n",
       "      <td>COUNTY</td>\n",
       "      <td>220</td>\n",
       "    </tr>\n",
       "    <tr>\n",
       "      <th>9</th>\n",
       "      <td>2015</td>\n",
       "      <td>COUNTY</td>\n",
       "      <td>408</td>\n",
       "    </tr>\n",
       "    <tr>\n",
       "      <th>11</th>\n",
       "      <td>2016</td>\n",
       "      <td>COUNTY</td>\n",
       "      <td>577</td>\n",
       "    </tr>\n",
       "    <tr>\n",
       "      <th>13</th>\n",
       "      <td>2017</td>\n",
       "      <td>COUNTY</td>\n",
       "      <td>631</td>\n",
       "    </tr>\n",
       "    <tr>\n",
       "      <th>15</th>\n",
       "      <td>2018</td>\n",
       "      <td>COUNTY</td>\n",
       "      <td>611</td>\n",
       "    </tr>\n",
       "    <tr>\n",
       "      <th>0</th>\n",
       "      <td>2011</td>\n",
       "      <td>CITY</td>\n",
       "      <td>21</td>\n",
       "    </tr>\n",
       "    <tr>\n",
       "      <th>2</th>\n",
       "      <td>2012</td>\n",
       "      <td>CITY</td>\n",
       "      <td>51</td>\n",
       "    </tr>\n",
       "    <tr>\n",
       "      <th>4</th>\n",
       "      <td>2013</td>\n",
       "      <td>CITY</td>\n",
       "      <td>158</td>\n",
       "    </tr>\n",
       "    <tr>\n",
       "      <th>6</th>\n",
       "      <td>2014</td>\n",
       "      <td>CITY</td>\n",
       "      <td>282</td>\n",
       "    </tr>\n",
       "    <tr>\n",
       "      <th>8</th>\n",
       "      <td>2015</td>\n",
       "      <td>CITY</td>\n",
       "      <td>419</td>\n",
       "    </tr>\n",
       "    <tr>\n",
       "      <th>10</th>\n",
       "      <td>2016</td>\n",
       "      <td>CITY</td>\n",
       "      <td>438</td>\n",
       "    </tr>\n",
       "    <tr>\n",
       "      <th>12</th>\n",
       "      <td>2017</td>\n",
       "      <td>CITY</td>\n",
       "      <td>511</td>\n",
       "    </tr>\n",
       "    <tr>\n",
       "      <th>14</th>\n",
       "      <td>2018</td>\n",
       "      <td>CITY</td>\n",
       "      <td>476</td>\n",
       "    </tr>\n",
       "  </tbody>\n",
       "</table>\n",
       "</div>"
      ],
      "text/plain": [
       "    year    type  count\n",
       "1   2011  COUNTY     20\n",
       "3   2012  COUNTY     58\n",
       "5   2013  COUNTY    161\n",
       "7   2014  COUNTY    220\n",
       "9   2015  COUNTY    408\n",
       "11  2016  COUNTY    577\n",
       "13  2017  COUNTY    631\n",
       "15  2018  COUNTY    611\n",
       "0   2011    CITY     21\n",
       "2   2012    CITY     51\n",
       "4   2013    CITY    158\n",
       "6   2014    CITY    282\n",
       "8   2015    CITY    419\n",
       "10  2016    CITY    438\n",
       "12  2017    CITY    511\n",
       "14  2018    CITY    476"
      ]
     },
     "execution_count": 27,
     "metadata": {},
     "output_type": "execute_result"
    }
   ],
   "source": [
    "la_high_years = la_high.groupby(['year','type']).agg('size').reset_index(name='count')\n",
    "la_high_years.sort_values(by='type', ascending=False).head(25)"
   ]
  },
  {
   "cell_type": "markdown",
   "metadata": {},
   "source": [
    "### Group by agency type and year and count recipients of $200k overtime"
   ]
  },
  {
   "cell_type": "code",
   "execution_count": 28,
   "metadata": {},
   "outputs": [
    {
     "data": {
      "text/html": [
       "<div>\n",
       "<style scoped>\n",
       "    .dataframe tbody tr th:only-of-type {\n",
       "        vertical-align: middle;\n",
       "    }\n",
       "\n",
       "    .dataframe tbody tr th {\n",
       "        vertical-align: top;\n",
       "    }\n",
       "\n",
       "    .dataframe thead th {\n",
       "        text-align: right;\n",
       "    }\n",
       "</style>\n",
       "<table border=\"1\" class=\"dataframe\">\n",
       "  <thead>\n",
       "    <tr style=\"text-align: right;\">\n",
       "      <th></th>\n",
       "      <th>year</th>\n",
       "      <th>type</th>\n",
       "      <th>count</th>\n",
       "    </tr>\n",
       "  </thead>\n",
       "  <tbody>\n",
       "    <tr>\n",
       "      <th>4</th>\n",
       "      <td>2016</td>\n",
       "      <td>COUNTY</td>\n",
       "      <td>19</td>\n",
       "    </tr>\n",
       "    <tr>\n",
       "      <th>6</th>\n",
       "      <td>2017</td>\n",
       "      <td>COUNTY</td>\n",
       "      <td>25</td>\n",
       "    </tr>\n",
       "    <tr>\n",
       "      <th>8</th>\n",
       "      <td>2018</td>\n",
       "      <td>COUNTY</td>\n",
       "      <td>20</td>\n",
       "    </tr>\n",
       "    <tr>\n",
       "      <th>0</th>\n",
       "      <td>2013</td>\n",
       "      <td>CITY</td>\n",
       "      <td>5</td>\n",
       "    </tr>\n",
       "    <tr>\n",
       "      <th>1</th>\n",
       "      <td>2014</td>\n",
       "      <td>CITY</td>\n",
       "      <td>6</td>\n",
       "    </tr>\n",
       "    <tr>\n",
       "      <th>2</th>\n",
       "      <td>2015</td>\n",
       "      <td>CITY</td>\n",
       "      <td>19</td>\n",
       "    </tr>\n",
       "    <tr>\n",
       "      <th>3</th>\n",
       "      <td>2016</td>\n",
       "      <td>CITY</td>\n",
       "      <td>22</td>\n",
       "    </tr>\n",
       "    <tr>\n",
       "      <th>5</th>\n",
       "      <td>2017</td>\n",
       "      <td>CITY</td>\n",
       "      <td>26</td>\n",
       "    </tr>\n",
       "    <tr>\n",
       "      <th>7</th>\n",
       "      <td>2018</td>\n",
       "      <td>CITY</td>\n",
       "      <td>23</td>\n",
       "    </tr>\n",
       "  </tbody>\n",
       "</table>\n",
       "</div>"
      ],
      "text/plain": [
       "   year    type  count\n",
       "4  2016  COUNTY     19\n",
       "6  2017  COUNTY     25\n",
       "8  2018  COUNTY     20\n",
       "0  2013    CITY      5\n",
       "1  2014    CITY      6\n",
       "2  2015    CITY     19\n",
       "3  2016    CITY     22\n",
       "5  2017    CITY     26\n",
       "7  2018    CITY     23"
      ]
     },
     "execution_count": 28,
     "metadata": {},
     "output_type": "execute_result"
    }
   ],
   "source": [
    "la_highest_years = la_highest.groupby(['year','type']).agg('size').reset_index(name='count')\n",
    "la_highest_years.sort_values(by='type', ascending=False).head(25)"
   ]
  },
  {
   "cell_type": "markdown",
   "metadata": {},
   "source": [
    "### Group by agency type and year and count recipients of $200k overtime "
   ]
  },
  {
   "cell_type": "code",
   "execution_count": 29,
   "metadata": {},
   "outputs": [],
   "source": [
    "la_highest_years = la_highest.groupby(['year','type']).agg('size').reset_index(name='count')"
   ]
  },
  {
   "cell_type": "code",
   "execution_count": 30,
   "metadata": {},
   "outputs": [
    {
     "data": {
      "application/javascript": [
       "const spec = {\"config\": {\"view\": {\"width\": 800, \"height\": 450}, \"background\": \"#ffffff\", \"title\": {\"anchor\": \"start\", \"font\": \"Benton Gothic Bold, sans\", \"fontColor\": \"#000000\", \"fontSize\": 22, \"fontWeight\": \"normal\"}, \"arc\": {\"fill\": \"#82c6df\"}, \"area\": {\"fill\": \"#82c6df\"}, \"line\": {\"stroke\": \"#82c6df\", \"strokeWidth\": 3}, \"path\": {\"stroke\": \"#82c6df\"}, \"rect\": {\"fill\": \"#82c6df\"}, \"shape\": {\"stroke\": \"#82c6df\"}, \"bar\": {\"fill\": \"#82c6df\"}, \"point\": {\"stroke\": \"#82c6df\"}, \"symbol\": {\"fill\": \"#82c6df\", \"size\": 30}, \"axis\": {\"titleFont\": \"Benton Gothic Bold, sans\", \"titleFontSize\": 13, \"titleFontWeight\": \"normal\", \"labelFont\": \"Benton Gothic, sans\", \"labelFontSize\": 11.5, \"labelFontWeight\": \"normal\"}, \"axisX\": {\"labelAngle\": 0, \"labelPadding\": 4, \"tickSize\": 3}, \"axisY\": {\"labelBaseline\": \"middle\", \"maxExtent\": 45, \"minExtent\": 45, \"tickSize\": 2, \"titleAlign\": \"left\", \"titleAngle\": 0, \"titleX\": -45, \"titleY\": -11}, \"legend\": {\"titleFont\": \"Benton Gothic Bold, sans\", \"titleFontSize\": 13, \"titleFontWeight\": \"normal\", \"symbolType\": \"square\", \"labelFont\": \"Benton Gothic, sans\", \"labelFontSize\": 11.5}, \"range\": {\"category\": [\"#3580b1\", \"#ec8431\", \"#ab7fb4\", \"#c89d29\", \"#adc839\", \"#829eb1\"], \"diverging\": [\"#e68a4f\", \"#f4bb6a\", \"#f9e39c\", \"#dadfe2\", \"#a6b7c6\", \"#849eae\"], \"heatmap\": [\"#fbf2c7\", \"#f9e39c\", \"#f8d36e\", \"#f4bb6a\", \"#e68a4f\", \"#d15a40\", \"#ab4232\"], \"ordinal\": [\"#fbf2c7\", \"#f9e39c\", \"#f8d36e\", \"#f4bb6a\", \"#e68a4f\", \"#d15a40\", \"#ab4232\"], \"ramp\": [\"#fbf2c7\", \"#f9e39c\", \"#f8d36e\", \"#f4bb6a\", \"#e68a4f\", \"#d15a40\", \"#ab4232\"]}}, \"data\": {\"name\": \"data-183658f251871a6093fbf735bad0e922\"}, \"mark\": \"bar\", \"columns\": 2, \"encoding\": {\"facet\": {\"type\": \"ordinal\", \"field\": \"type\"}, \"x\": {\"type\": \"nominal\", \"field\": \"year\", \"title\": \" \"}, \"y\": {\"type\": \"quantitative\", \"aggregate\": \"mean\", \"axis\": {\"format\": \"\", \"tickCount\": 6}, \"field\": \"count\", \"title\": \" \"}}, \"height\": 300, \"title\": \"L.A. firefighters > $200k OT\", \"width\": 300, \"$schema\": \"https://vega.github.io/schema/vega-lite/v3.4.0.json\", \"datasets\": {\"data-183658f251871a6093fbf735bad0e922\": [{\"year\": 2013, \"type\": \"CITY\", \"count\": 5}, {\"year\": 2014, \"type\": \"CITY\", \"count\": 6}, {\"year\": 2015, \"type\": \"CITY\", \"count\": 19}, {\"year\": 2016, \"type\": \"CITY\", \"count\": 22}, {\"year\": 2016, \"type\": \"COUNTY\", \"count\": 19}, {\"year\": 2017, \"type\": \"CITY\", \"count\": 26}, {\"year\": 2017, \"type\": \"COUNTY\", \"count\": 25}, {\"year\": 2018, \"type\": \"CITY\", \"count\": 23}, {\"year\": 2018, \"type\": \"COUNTY\", \"count\": 20}]}};\n",
       "const opt = {};\n",
       "const type = \"vega-lite\";\n",
       "const id = \"47d877b1-45ff-496c-b19c-a9cc5579ce8c\";\n",
       "\n",
       "const output_area = this;\n",
       "\n",
       "require([\"nbextensions/jupyter-vega/index\"], function(vega) {\n",
       "  const target = document.createElement(\"div\");\n",
       "  target.id = id;\n",
       "  target.className = \"vega-embed\";\n",
       "\n",
       "  const style = document.createElement(\"style\");\n",
       "  style.textContent = [\n",
       "    \".vega-embed .error p {\",\n",
       "    \"  color: firebrick;\",\n",
       "    \"  font-size: 14px;\",\n",
       "    \"}\",\n",
       "  ].join(\"\\\\n\");\n",
       "\n",
       "  // element is a jQuery wrapped DOM element inside the output area\n",
       "  // see http://ipython.readthedocs.io/en/stable/api/generated/\\\n",
       "  // IPython.display.html#IPython.display.Javascript.__init__\n",
       "  element[0].appendChild(target);\n",
       "  element[0].appendChild(style);\n",
       "\n",
       "  vega.render(\"#\" + id, spec, type, opt, output_area);\n",
       "}, function (err) {\n",
       "  if (err.requireType !== \"scripterror\") {\n",
       "    throw(err);\n",
       "  }\n",
       "});\n"
      ],
      "text/plain": [
       "<vega.vegalite.VegaLite at 0x131556dd8>"
      ]
     },
     "metadata": {
      "jupyter-vega": "#47d877b1-45ff-496c-b19c-a9cc5579ce8c"
     },
     "output_type": "display_data"
    },
    {
     "data": {
      "text/plain": []
     },
     "execution_count": 30,
     "metadata": {},
     "output_type": "execute_result"
    },
    {
     "data": {
      "image/png": "[encoded data removed]"
     },
     "metadata": {
      "jupyter-vega": "#47d877b1-45ff-496c-b19c-a9cc5579ce8c"
     },
     "output_type": "display_data"
    }
   ],
   "source": [
    "alt.Chart(la_highest_years).mark_bar().encode(\n",
    "    x=alt.X(\"year:N\", title=' '),\n",
    "    y=alt.Y(\"mean(count):Q\", title=' ', axis=alt.Axis(tickCount=6, format='')),\n",
    "    facet='type:O'\n",
    ").properties(width=300, height=300, columns=2, title='L.A. firefighters > $200k OT')"
   ]
  },
  {
   "cell_type": "code",
   "execution_count": 31,
   "metadata": {},
   "outputs": [
    {
     "data": {
      "text/html": [
       "<div>\n",
       "<style scoped>\n",
       "    .dataframe tbody tr th:only-of-type {\n",
       "        vertical-align: middle;\n",
       "    }\n",
       "\n",
       "    .dataframe tbody tr th {\n",
       "        vertical-align: top;\n",
       "    }\n",
       "\n",
       "    .dataframe thead th {\n",
       "        text-align: right;\n",
       "    }\n",
       "</style>\n",
       "<table border=\"1\" class=\"dataframe\">\n",
       "  <thead>\n",
       "    <tr style=\"text-align: right;\">\n",
       "      <th></th>\n",
       "      <th>year</th>\n",
       "      <th>type</th>\n",
       "      <th>count</th>\n",
       "    </tr>\n",
       "  </thead>\n",
       "  <tbody>\n",
       "    <tr>\n",
       "      <th>8</th>\n",
       "      <td>2018</td>\n",
       "      <td>COUNTY</td>\n",
       "      <td>20</td>\n",
       "    </tr>\n",
       "    <tr>\n",
       "      <th>6</th>\n",
       "      <td>2017</td>\n",
       "      <td>COUNTY</td>\n",
       "      <td>25</td>\n",
       "    </tr>\n",
       "    <tr>\n",
       "      <th>4</th>\n",
       "      <td>2016</td>\n",
       "      <td>COUNTY</td>\n",
       "      <td>19</td>\n",
       "    </tr>\n",
       "    <tr>\n",
       "      <th>7</th>\n",
       "      <td>2018</td>\n",
       "      <td>CITY</td>\n",
       "      <td>23</td>\n",
       "    </tr>\n",
       "    <tr>\n",
       "      <th>5</th>\n",
       "      <td>2017</td>\n",
       "      <td>CITY</td>\n",
       "      <td>26</td>\n",
       "    </tr>\n",
       "    <tr>\n",
       "      <th>3</th>\n",
       "      <td>2016</td>\n",
       "      <td>CITY</td>\n",
       "      <td>22</td>\n",
       "    </tr>\n",
       "    <tr>\n",
       "      <th>2</th>\n",
       "      <td>2015</td>\n",
       "      <td>CITY</td>\n",
       "      <td>19</td>\n",
       "    </tr>\n",
       "    <tr>\n",
       "      <th>1</th>\n",
       "      <td>2014</td>\n",
       "      <td>CITY</td>\n",
       "      <td>6</td>\n",
       "    </tr>\n",
       "    <tr>\n",
       "      <th>0</th>\n",
       "      <td>2013</td>\n",
       "      <td>CITY</td>\n",
       "      <td>5</td>\n",
       "    </tr>\n",
       "  </tbody>\n",
       "</table>\n",
       "</div>"
      ],
      "text/plain": [
       "   year    type  count\n",
       "8  2018  COUNTY     20\n",
       "6  2017  COUNTY     25\n",
       "4  2016  COUNTY     19\n",
       "7  2018    CITY     23\n",
       "5  2017    CITY     26\n",
       "3  2016    CITY     22\n",
       "2  2015    CITY     19\n",
       "1  2014    CITY      6\n",
       "0  2013    CITY      5"
      ]
     },
     "execution_count": 31,
     "metadata": {},
     "output_type": "execute_result"
    }
   ],
   "source": [
    "la_highest_years.sort_values(by=['type','year'], ascending=False).head(20)"
   ]
  },
  {
   "cell_type": "code",
   "execution_count": 32,
   "metadata": {},
   "outputs": [],
   "source": [
    "la_high_positions = la_high.groupby('position').agg({'adjusted_overtime':'sum', \\\n",
    "    'adjusted_basewages':'sum', \\\n",
    "    'adjusted_wages':'sum', \\\n",
    "    'adjusted_benefits':'sum'\\\n",
    "}).reset_index()"
   ]
  },
  {
   "cell_type": "markdown",
   "metadata": {},
   "source": [
    "### Payroll by title"
   ]
  },
  {
   "cell_type": "code",
   "execution_count": 33,
   "metadata": {},
   "outputs": [
    {
     "data": {
      "text/html": [
       "<div>\n",
       "<style scoped>\n",
       "    .dataframe tbody tr th:only-of-type {\n",
       "        vertical-align: middle;\n",
       "    }\n",
       "\n",
       "    .dataframe tbody tr th {\n",
       "        vertical-align: top;\n",
       "    }\n",
       "\n",
       "    .dataframe thead th {\n",
       "        text-align: right;\n",
       "    }\n",
       "</style>\n",
       "<table border=\"1\" class=\"dataframe\">\n",
       "  <thead>\n",
       "    <tr style=\"text-align: right;\">\n",
       "      <th></th>\n",
       "      <th>position</th>\n",
       "      <th>adjusted_overtime</th>\n",
       "      <th>adjusted_basewages</th>\n",
       "      <th>adjusted_wages</th>\n",
       "      <th>adjusted_benefits</th>\n",
       "    </tr>\n",
       "  </thead>\n",
       "  <tbody>\n",
       "    <tr>\n",
       "      <th>5</th>\n",
       "      <td>FIRE CAPTAIN (56 HOUR)</td>\n",
       "      <td>171,225,657</td>\n",
       "      <td>176,960,584</td>\n",
       "      <td>348,186,241</td>\n",
       "      <td>77,528,270</td>\n",
       "    </tr>\n",
       "    <tr>\n",
       "      <th>21</th>\n",
       "      <td>FIREFIGHTER III</td>\n",
       "      <td>93,816,710</td>\n",
       "      <td>84,380,423</td>\n",
       "      <td>178,197,133</td>\n",
       "      <td>18,463,642</td>\n",
       "    </tr>\n",
       "    <tr>\n",
       "      <th>6</th>\n",
       "      <td>FIRE CAPTAIN I</td>\n",
       "      <td>84,006,030</td>\n",
       "      <td>83,818,995</td>\n",
       "      <td>167,825,025</td>\n",
       "      <td>16,675,768</td>\n",
       "    </tr>\n",
       "    <tr>\n",
       "      <th>10</th>\n",
       "      <td>FIRE FIGHTER (56 HOUR)</td>\n",
       "      <td>77,656,073</td>\n",
       "      <td>71,935,684</td>\n",
       "      <td>149,591,757</td>\n",
       "      <td>32,927,554</td>\n",
       "    </tr>\n",
       "    <tr>\n",
       "      <th>11</th>\n",
       "      <td>FIRE FIGHTER SPECIALIST (56 HOUR)</td>\n",
       "      <td>74,232,854</td>\n",
       "      <td>71,203,733</td>\n",
       "      <td>145,436,587</td>\n",
       "      <td>32,292,546</td>\n",
       "    </tr>\n",
       "    <tr>\n",
       "      <th>7</th>\n",
       "      <td>FIRE CAPTAIN II</td>\n",
       "      <td>37,298,594</td>\n",
       "      <td>38,764,605</td>\n",
       "      <td>76,063,199</td>\n",
       "      <td>7,839,441</td>\n",
       "    </tr>\n",
       "    <tr>\n",
       "      <th>1</th>\n",
       "      <td>BATTALION CHIEF/56 HOURS/</td>\n",
       "      <td>31,975,392</td>\n",
       "      <td>40,562,865</td>\n",
       "      <td>72,538,257</td>\n",
       "      <td>19,664,151</td>\n",
       "    </tr>\n",
       "    <tr>\n",
       "      <th>2</th>\n",
       "      <td>ENGINEER OF FIRE DEPARTMENT</td>\n",
       "      <td>29,327,375</td>\n",
       "      <td>27,134,117</td>\n",
       "      <td>56,461,492</td>\n",
       "      <td>5,456,447</td>\n",
       "    </tr>\n",
       "    <tr>\n",
       "      <th>4</th>\n",
       "      <td>FIRE BATTALION CHIEF</td>\n",
       "      <td>15,743,671</td>\n",
       "      <td>20,729,379</td>\n",
       "      <td>36,473,050</td>\n",
       "      <td>3,715,047</td>\n",
       "    </tr>\n",
       "    <tr>\n",
       "      <th>16</th>\n",
       "      <td>FIRE INSPECTOR I</td>\n",
       "      <td>14,522,499</td>\n",
       "      <td>13,690,186</td>\n",
       "      <td>28,212,685</td>\n",
       "      <td>3,365,769</td>\n",
       "    </tr>\n",
       "    <tr>\n",
       "      <th>0</th>\n",
       "      <td>APPARATUS OPERATOR</td>\n",
       "      <td>12,821,127</td>\n",
       "      <td>11,847,686</td>\n",
       "      <td>24,668,813</td>\n",
       "      <td>2,563,132</td>\n",
       "    </tr>\n",
       "    <tr>\n",
       "      <th>8</th>\n",
       "      <td>FIRE CAPTAIN III</td>\n",
       "      <td>7,599,785</td>\n",
       "      <td>7,957,654</td>\n",
       "      <td>15,557,439</td>\n",
       "      <td>860,194</td>\n",
       "    </tr>\n",
       "    <tr>\n",
       "      <th>17</th>\n",
       "      <td>FIRE INSPECTOR II</td>\n",
       "      <td>7,544,194</td>\n",
       "      <td>6,593,965</td>\n",
       "      <td>14,138,159</td>\n",
       "      <td>1,696,462</td>\n",
       "    </tr>\n",
       "    <tr>\n",
       "      <th>20</th>\n",
       "      <td>FIREBOAT PILOT</td>\n",
       "      <td>3,551,932</td>\n",
       "      <td>3,290,276</td>\n",
       "      <td>6,842,208</td>\n",
       "      <td>559,517</td>\n",
       "    </tr>\n",
       "    <tr>\n",
       "      <th>19</th>\n",
       "      <td>FIREBOAT MATE</td>\n",
       "      <td>2,792,569</td>\n",
       "      <td>2,354,433</td>\n",
       "      <td>5,147,002</td>\n",
       "      <td>411,014</td>\n",
       "    </tr>\n",
       "    <tr>\n",
       "      <th>13</th>\n",
       "      <td>FIRE HELICOPTER PILOT III</td>\n",
       "      <td>2,767,741</td>\n",
       "      <td>2,962,098</td>\n",
       "      <td>5,729,839</td>\n",
       "      <td>519,400</td>\n",
       "    </tr>\n",
       "    <tr>\n",
       "      <th>14</th>\n",
       "      <td>FIRE HELICOPTER PILOT IV</td>\n",
       "      <td>2,047,406</td>\n",
       "      <td>2,267,318</td>\n",
       "      <td>4,314,724</td>\n",
       "      <td>441,728</td>\n",
       "    </tr>\n",
       "    <tr>\n",
       "      <th>3</th>\n",
       "      <td>FIRE ASSISTANT CHIEF</td>\n",
       "      <td>1,201,637</td>\n",
       "      <td>2,090,728</td>\n",
       "      <td>3,292,365</td>\n",
       "      <td>628,553</td>\n",
       "    </tr>\n",
       "    <tr>\n",
       "      <th>15</th>\n",
       "      <td>FIRE HELICOPTER PILOT V</td>\n",
       "      <td>1,075,493</td>\n",
       "      <td>1,065,444</td>\n",
       "      <td>2,140,937</td>\n",
       "      <td>175,476</td>\n",
       "    </tr>\n",
       "    <tr>\n",
       "      <th>9</th>\n",
       "      <td>FIRE CAPTAIN L</td>\n",
       "      <td>391,226</td>\n",
       "      <td>420,177</td>\n",
       "      <td>811,403</td>\n",
       "      <td>44,769</td>\n",
       "    </tr>\n",
       "    <tr>\n",
       "      <th>18</th>\n",
       "      <td>FIRE INSPECTOR L</td>\n",
       "      <td>350,569</td>\n",
       "      <td>359,564</td>\n",
       "      <td>710,133</td>\n",
       "      <td>44,769</td>\n",
       "    </tr>\n",
       "    <tr>\n",
       "      <th>12</th>\n",
       "      <td>FIRE HELICOPTER PILOT II</td>\n",
       "      <td>157,504</td>\n",
       "      <td>112,887</td>\n",
       "      <td>270,391</td>\n",
       "      <td>14,529</td>\n",
       "    </tr>\n",
       "  </tbody>\n",
       "</table>\n",
       "</div>"
      ],
      "text/plain": [
       "                             position  adjusted_overtime  adjusted_basewages  \\\n",
       "5              FIRE CAPTAIN (56 HOUR)        171,225,657         176,960,584   \n",
       "21                    FIREFIGHTER III         93,816,710          84,380,423   \n",
       "6                      FIRE CAPTAIN I         84,006,030          83,818,995   \n",
       "10             FIRE FIGHTER (56 HOUR)         77,656,073          71,935,684   \n",
       "11  FIRE FIGHTER SPECIALIST (56 HOUR)         74,232,854          71,203,733   \n",
       "7                     FIRE CAPTAIN II         37,298,594          38,764,605   \n",
       "1           BATTALION CHIEF/56 HOURS/         31,975,392          40,562,865   \n",
       "2         ENGINEER OF FIRE DEPARTMENT         29,327,375          27,134,117   \n",
       "4                FIRE BATTALION CHIEF         15,743,671          20,729,379   \n",
       "16                   FIRE INSPECTOR I         14,522,499          13,690,186   \n",
       "0                  APPARATUS OPERATOR         12,821,127          11,847,686   \n",
       "8                    FIRE CAPTAIN III          7,599,785           7,957,654   \n",
       "17                  FIRE INSPECTOR II          7,544,194           6,593,965   \n",
       "20                     FIREBOAT PILOT          3,551,932           3,290,276   \n",
       "19                      FIREBOAT MATE          2,792,569           2,354,433   \n",
       "13          FIRE HELICOPTER PILOT III          2,767,741           2,962,098   \n",
       "14           FIRE HELICOPTER PILOT IV          2,047,406           2,267,318   \n",
       "3                FIRE ASSISTANT CHIEF          1,201,637           2,090,728   \n",
       "15            FIRE HELICOPTER PILOT V          1,075,493           1,065,444   \n",
       "9                      FIRE CAPTAIN L            391,226             420,177   \n",
       "18                   FIRE INSPECTOR L            350,569             359,564   \n",
       "12           FIRE HELICOPTER PILOT II            157,504             112,887   \n",
       "\n",
       "    adjusted_wages  adjusted_benefits  \n",
       "5      348,186,241         77,528,270  \n",
       "21     178,197,133         18,463,642  \n",
       "6      167,825,025         16,675,768  \n",
       "10     149,591,757         32,927,554  \n",
       "11     145,436,587         32,292,546  \n",
       "7       76,063,199          7,839,441  \n",
       "1       72,538,257         19,664,151  \n",
       "2       56,461,492          5,456,447  \n",
       "4       36,473,050          3,715,047  \n",
       "16      28,212,685          3,365,769  \n",
       "0       24,668,813          2,563,132  \n",
       "8       15,557,439            860,194  \n",
       "17      14,138,159          1,696,462  \n",
       "20       6,842,208            559,517  \n",
       "19       5,147,002            411,014  \n",
       "13       5,729,839            519,400  \n",
       "14       4,314,724            441,728  \n",
       "3        3,292,365            628,553  \n",
       "15       2,140,937            175,476  \n",
       "9          811,403             44,769  \n",
       "18         710,133             44,769  \n",
       "12         270,391             14,529  "
      ]
     },
     "execution_count": 33,
     "metadata": {},
     "output_type": "execute_result"
    }
   ],
   "source": [
    "la_high_positions.sort_values(by='adjusted_overtime', ascending=False)"
   ]
  },
  {
   "cell_type": "markdown",
   "metadata": {},
   "source": [
    "---"
   ]
  },
  {
   "cell_type": "markdown",
   "metadata": {},
   "source": [
    "### $300,000 salaries"
   ]
  },
  {
   "cell_type": "code",
   "execution_count": 34,
   "metadata": {},
   "outputs": [],
   "source": [
    "threehundred = payroll_fire[(payroll_fire.adjusted_wages > 300000) &\\\n",
    "                            (payroll_fire.year == 2011) &\\\n",
    "                            (payroll_fire.employer.str.contains('LOS ANGELES'))]"
   ]
  },
  {
   "cell_type": "code",
   "execution_count": 35,
   "metadata": {},
   "outputs": [
    {
     "data": {
      "text/html": [
       "<div>\n",
       "<style scoped>\n",
       "    .dataframe tbody tr th:only-of-type {\n",
       "        vertical-align: middle;\n",
       "    }\n",
       "\n",
       "    .dataframe tbody tr th {\n",
       "        vertical-align: top;\n",
       "    }\n",
       "\n",
       "    .dataframe thead th {\n",
       "        text-align: right;\n",
       "    }\n",
       "</style>\n",
       "<table border=\"1\" class=\"dataframe\">\n",
       "  <thead>\n",
       "    <tr style=\"text-align: right;\">\n",
       "      <th></th>\n",
       "      <th>Unnamed: 0</th>\n",
       "      <th>index</th>\n",
       "      <th>year</th>\n",
       "      <th>type</th>\n",
       "      <th>population</th>\n",
       "      <th>employer</th>\n",
       "      <th>department</th>\n",
       "      <th>position</th>\n",
       "      <th>overtime</th>\n",
       "      <th>wages</th>\n",
       "      <th>benefits</th>\n",
       "      <th>employercounty</th>\n",
       "      <th>basewages</th>\n",
       "      <th>adjusted_overtime</th>\n",
       "      <th>adjusted_wages</th>\n",
       "      <th>adjusted_benefits</th>\n",
       "      <th>adjusted_basewages</th>\n",
       "      <th>employerfull</th>\n",
       "    </tr>\n",
       "  </thead>\n",
       "  <tbody>\n",
       "    <tr>\n",
       "      <th>178574</th>\n",
       "      <td>7017506</td>\n",
       "      <td>7017506</td>\n",
       "      <td>2011</td>\n",
       "      <td>COUNTY</td>\n",
       "      <td>9,889,520</td>\n",
       "      <td>LOS ANGELES</td>\n",
       "      <td>FIRE DEPARTMENT</td>\n",
       "      <td>COUNTY FORESTER &amp; FIRE WARDEN</td>\n",
       "      <td>0</td>\n",
       "      <td>317,126</td>\n",
       "      <td>105,478</td>\n",
       "      <td>LOS ANGELES</td>\n",
       "      <td>317,126</td>\n",
       "      <td>0</td>\n",
       "      <td>354,018</td>\n",
       "      <td>117,749</td>\n",
       "      <td>354,018</td>\n",
       "      <td>LOS_ANGELES_COUNTY</td>\n",
       "    </tr>\n",
       "    <tr>\n",
       "      <th>197211</th>\n",
       "      <td>7874903</td>\n",
       "      <td>7874903</td>\n",
       "      <td>2011</td>\n",
       "      <td>CITY</td>\n",
       "      <td>3,827,172</td>\n",
       "      <td>LOS ANGELES</td>\n",
       "      <td>LOS ANGELES FIRE DEPARTMENT</td>\n",
       "      <td>FIRE CAPTAIN L</td>\n",
       "      <td>148,172</td>\n",
       "      <td>270,622</td>\n",
       "      <td>13,368</td>\n",
       "      <td>LOS ANGELES</td>\n",
       "      <td>122,450</td>\n",
       "      <td>165,409</td>\n",
       "      <td>302,104</td>\n",
       "      <td>14,923</td>\n",
       "      <td>136,695</td>\n",
       "      <td>LOS_ANGELES_CITY</td>\n",
       "    </tr>\n",
       "    <tr>\n",
       "      <th>197601</th>\n",
       "      <td>7875293</td>\n",
       "      <td>7875293</td>\n",
       "      <td>2011</td>\n",
       "      <td>CITY</td>\n",
       "      <td>3,827,172</td>\n",
       "      <td>LOS ANGELES</td>\n",
       "      <td>LOS ANGELES FIRE DEPARTMENT</td>\n",
       "      <td>FIRE DEPUTY CHIEF</td>\n",
       "      <td>28,546</td>\n",
       "      <td>294,742</td>\n",
       "      <td>13,368</td>\n",
       "      <td>LOS ANGELES</td>\n",
       "      <td>266,196</td>\n",
       "      <td>31,867</td>\n",
       "      <td>329,030</td>\n",
       "      <td>14,923</td>\n",
       "      <td>297,164</td>\n",
       "      <td>LOS_ANGELES_CITY</td>\n",
       "    </tr>\n",
       "  </tbody>\n",
       "</table>\n",
       "</div>"
      ],
      "text/plain": [
       "        Unnamed: 0    index  year    type  population     employer  \\\n",
       "178574     7017506  7017506  2011  COUNTY   9,889,520  LOS ANGELES   \n",
       "197211     7874903  7874903  2011    CITY   3,827,172  LOS ANGELES   \n",
       "197601     7875293  7875293  2011    CITY   3,827,172  LOS ANGELES   \n",
       "\n",
       "                         department                       position  overtime  \\\n",
       "178574              FIRE DEPARTMENT  COUNTY FORESTER & FIRE WARDEN         0   \n",
       "197211  LOS ANGELES FIRE DEPARTMENT                 FIRE CAPTAIN L   148,172   \n",
       "197601  LOS ANGELES FIRE DEPARTMENT              FIRE DEPUTY CHIEF    28,546   \n",
       "\n",
       "         wages  benefits employercounty  basewages  adjusted_overtime  \\\n",
       "178574 317,126   105,478    LOS ANGELES    317,126                  0   \n",
       "197211 270,622    13,368    LOS ANGELES    122,450            165,409   \n",
       "197601 294,742    13,368    LOS ANGELES    266,196             31,867   \n",
       "\n",
       "        adjusted_wages  adjusted_benefits  adjusted_basewages  \\\n",
       "178574         354,018            117,749             354,018   \n",
       "197211         302,104             14,923             136,695   \n",
       "197601         329,030             14,923             297,164   \n",
       "\n",
       "              employerfull  \n",
       "178574  LOS_ANGELES_COUNTY  \n",
       "197211    LOS_ANGELES_CITY  \n",
       "197601    LOS_ANGELES_CITY  "
      ]
     },
     "execution_count": 35,
     "metadata": {},
     "output_type": "execute_result"
    }
   ],
   "source": [
    "threehundred.head()"
   ]
  },
  {
   "cell_type": "markdown",
   "metadata": {},
   "source": [
    "---"
   ]
  },
  {
   "cell_type": "markdown",
   "metadata": {},
   "source": [
    "Data source: https://publicpay.ca.gov/Reports/RawExport.aspx"
   ]
  }
 ],
 "metadata": {
  "kernelspec": {
   "display_name": "Python 3",
   "language": "python",
   "name": "python3"
  },
  "language_info": {
   "codemirror_mode": {
    "name": "ipython",
    "version": 3
   },
   "file_extension": ".py",
   "mimetype": "text/x-python",
   "name": "python",
   "nbconvert_exporter": "python",
   "pygments_lexer": "ipython3",
   "version": "3.7.3"
  }
 },
 "nbformat": 4,
 "nbformat_minor": 2
}
