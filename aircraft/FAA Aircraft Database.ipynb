{
 "cells": [
  {
   "cell_type": "markdown",
   "metadata": {},
   "source": [
    "# FAA Aircraft Registration Database"
   ]
  },
  {
   "cell_type": "code",
   "execution_count": 1,
   "metadata": {},
   "outputs": [],
   "source": [
    "import pandas as pd\n",
    "import requests\n",
    "import matplotlib as mpl\n",
    "import geopandas as gpd\n",
    "import descartes\n",
    "import geojson\n",
    "import json\n",
    "import numpy as np\n",
    "import altair as alt\n",
    "import altair_latimes as lat\n",
    "alt.themes.register('latimes', lat.theme)\n",
    "alt.themes.enable('latimes')\n",
    "pd.options.display.float_format = '{:,.0f}'.format\n",
    "pd.set_option('display.max_colwidth', 100)"
   ]
  },
  {
   "cell_type": "code",
   "execution_count": 2,
   "metadata": {},
   "outputs": [],
   "source": [
    "# https://www.faa.gov/licenses_certificates/aircraft_certification/aircraft_registry/releasable_aircraft_download/"
   ]
  },
  {
   "cell_type": "code",
   "execution_count": 3,
   "metadata": {},
   "outputs": [],
   "source": [
    "master = pd.read_csv('/Users/mhustiles/data/data/FAA_Aircraft_Database/MASTER.txt', low_memory=False)"
   ]
  },
  {
   "cell_type": "code",
   "execution_count": 4,
   "metadata": {},
   "outputs": [],
   "source": [
    "reference = pd.read_csv('/Users/mhustiles/data/data/FAA_Aircraft_Database/ACFTREF.txt', low_memory=False)"
   ]
  },
  {
   "cell_type": "code",
   "execution_count": 5,
   "metadata": {},
   "outputs": [],
   "source": [
    "master.columns = master.columns.str.strip().str.lower().str.replace(' ', '_')\\\n",
    "                    .str.replace('(', '').str.replace(')', '').str.replace('-','_')"
   ]
  },
  {
   "cell_type": "code",
   "execution_count": 6,
   "metadata": {},
   "outputs": [],
   "source": [
    "reference.columns = reference.columns.str.strip().str.lower().str.replace(' ', '_')\\\n",
    "                    .str.replace('(', '').str.replace(')', '').str.replace('-','_')"
   ]
  },
  {
   "cell_type": "code",
   "execution_count": 7,
   "metadata": {},
   "outputs": [
    {
     "data": {
      "text/plain": [
       "code                                     0563500\n",
       "mfr               GREGORY T HEDDERLY            \n",
       "model                       PJ260 SENIOR AERO SP\n",
       "type_acft                                      4\n",
       "type_eng                                       8\n",
       "ac_cat                                         1\n",
       "build_cert_ind                                 1\n",
       "no_eng                                         1\n",
       "no_seats                                       2\n",
       "ac_weight                                CLASS 1\n",
       "speed                                          0\n",
       "unnamed:_11                                  NaN\n",
       "Name: 44307, dtype: object"
      ]
     },
     "execution_count": 7,
     "metadata": {},
     "output_type": "execute_result"
    }
   ],
   "source": [
    "reference.loc[44307]"
   ]
  },
  {
   "cell_type": "code",
   "execution_count": 8,
   "metadata": {},
   "outputs": [],
   "source": [
    "master.name = master.name.str.strip()\n",
    "master.certification = master.certification.str.strip()\n",
    "master.type_registrant = master.type_registrant.str.strip()"
   ]
  },
  {
   "cell_type": "code",
   "execution_count": 9,
   "metadata": {},
   "outputs": [],
   "source": [
    "owners = master.groupby(['name', 'type_registrant', 'certification']).agg('size').reset_index(name='planes')"
   ]
  },
  {
   "cell_type": "code",
   "execution_count": 10,
   "metadata": {},
   "outputs": [
    {
     "data": {
      "text/html": [
       "<div>\n",
       "<style scoped>\n",
       "    .dataframe tbody tr th:only-of-type {\n",
       "        vertical-align: middle;\n",
       "    }\n",
       "\n",
       "    .dataframe tbody tr th {\n",
       "        vertical-align: top;\n",
       "    }\n",
       "\n",
       "    .dataframe thead th {\n",
       "        text-align: right;\n",
       "    }\n",
       "</style>\n",
       "<table border=\"1\" class=\"dataframe\">\n",
       "  <thead>\n",
       "    <tr style=\"text-align: right;\">\n",
       "      <th></th>\n",
       "      <th>name</th>\n",
       "      <th>type_registrant</th>\n",
       "      <th>certification</th>\n",
       "      <th>planes</th>\n",
       "    </tr>\n",
       "  </thead>\n",
       "  <tbody>\n",
       "    <tr>\n",
       "      <th>0</th>\n",
       "      <td></td>\n",
       "      <td></td>\n",
       "      <td></td>\n",
       "      <td>160</td>\n",
       "    </tr>\n",
       "    <tr>\n",
       "      <th>1</th>\n",
       "      <td></td>\n",
       "      <td></td>\n",
       "      <td>1</td>\n",
       "      <td>33</td>\n",
       "    </tr>\n",
       "    <tr>\n",
       "      <th>2</th>\n",
       "      <td></td>\n",
       "      <td></td>\n",
       "      <td>1B</td>\n",
       "      <td>2</td>\n",
       "    </tr>\n",
       "    <tr>\n",
       "      <th>3</th>\n",
       "      <td></td>\n",
       "      <td></td>\n",
       "      <td>1N</td>\n",
       "      <td>37</td>\n",
       "    </tr>\n",
       "    <tr>\n",
       "      <th>4</th>\n",
       "      <td></td>\n",
       "      <td></td>\n",
       "      <td>1NA</td>\n",
       "      <td>2</td>\n",
       "    </tr>\n",
       "  </tbody>\n",
       "</table>\n",
       "</div>"
      ],
      "text/plain": [
       "  name type_registrant certification  planes\n",
       "0                                        160\n",
       "1                                  1      33\n",
       "2                                 1B       2\n",
       "3                                 1N      37\n",
       "4                                1NA       2"
      ]
     },
     "execution_count": 10,
     "metadata": {},
     "output_type": "execute_result"
    }
   ],
   "source": [
    "owners.head()"
   ]
  },
  {
   "cell_type": "code",
   "execution_count": 11,
   "metadata": {},
   "outputs": [],
   "source": [
    "corptrans = owners[(owners['planes'] > 20) & (owners['certification'] == '1T')]"
   ]
  },
  {
   "cell_type": "code",
   "execution_count": 12,
   "metadata": {},
   "outputs": [],
   "source": [
    "airlines = ['DELTA AIR LINES INC', 'AMERICAN AIRLINES INC', 'SKYWEST AIRLINES INC', 'SWIFT AIR LLC',\\\n",
    "'UNITED AIRLINES INC', 'SOUTHWEST AIRLINES CO', 'JETBLUE AIRWAYS CORP', 'HORIZON AIR INDUSTRIES',\\\n",
    "'ALASKA AIRLINES INC', 'REPUBLIC AIRWAYS INC', 'SPIRIT AIRLINES INC', 'MESA AIRLINES INC']"
   ]
  },
  {
   "cell_type": "code",
   "execution_count": 13,
   "metadata": {},
   "outputs": [
    {
     "data": {
      "text/plain": [
       "['DELTA AIR LINES INC',\n",
       " 'AMERICAN AIRLINES INC',\n",
       " 'SKYWEST AIRLINES INC',\n",
       " 'SWIFT AIR LLC',\n",
       " 'UNITED AIRLINES INC',\n",
       " 'SOUTHWEST AIRLINES CO',\n",
       " 'JETBLUE AIRWAYS CORP',\n",
       " 'HORIZON AIR INDUSTRIES',\n",
       " 'ALASKA AIRLINES INC',\n",
       " 'REPUBLIC AIRWAYS INC',\n",
       " 'SPIRIT AIRLINES INC',\n",
       " 'MESA AIRLINES INC']"
      ]
     },
     "execution_count": 13,
     "metadata": {},
     "output_type": "execute_result"
    }
   ],
   "source": [
    "airlines"
   ]
  },
  {
   "cell_type": "code",
   "execution_count": 14,
   "metadata": {},
   "outputs": [],
   "source": [
    "cargo = ['UNITED PARCEL SERVICE CO','FEDERAL EXPRESS CORP', 'FEDERAL EXPRESS CORPORATION',\\\n",
    "            'CARGO AIRCRAFT MANAGEMENT INC', 'ATLAS AIR INC']"
   ]
  },
  {
   "cell_type": "code",
   "execution_count": 15,
   "metadata": {},
   "outputs": [
    {
     "data": {
      "text/plain": [
       "['UNITED PARCEL SERVICE CO',\n",
       " 'FEDERAL EXPRESS CORP',\n",
       " 'FEDERAL EXPRESS CORPORATION',\n",
       " 'CARGO AIRCRAFT MANAGEMENT INC',\n",
       " 'ATLAS AIR INC']"
      ]
     },
     "execution_count": 15,
     "metadata": {},
     "output_type": "execute_result"
    }
   ],
   "source": [
    "cargo"
   ]
  },
  {
   "cell_type": "code",
   "execution_count": 16,
   "metadata": {},
   "outputs": [],
   "source": [
    "private = ['NETJETS SALES INC', 'FLEXJET LLC']"
   ]
  },
  {
   "cell_type": "code",
   "execution_count": 17,
   "metadata": {},
   "outputs": [
    {
     "data": {
      "text/html": [
       "<div>\n",
       "<style scoped>\n",
       "    .dataframe tbody tr th:only-of-type {\n",
       "        vertical-align: middle;\n",
       "    }\n",
       "\n",
       "    .dataframe tbody tr th {\n",
       "        vertical-align: top;\n",
       "    }\n",
       "\n",
       "    .dataframe thead th {\n",
       "        text-align: right;\n",
       "    }\n",
       "</style>\n",
       "<table border=\"1\" class=\"dataframe\">\n",
       "  <thead>\n",
       "    <tr style=\"text-align: right;\">\n",
       "      <th></th>\n",
       "      <th>name</th>\n",
       "      <th>type_registrant</th>\n",
       "      <th>certification</th>\n",
       "      <th>planes</th>\n",
       "    </tr>\n",
       "  </thead>\n",
       "  <tbody>\n",
       "    <tr>\n",
       "      <th>220089</th>\n",
       "      <td>WELLS FARGO TRUST CO NA TRUSTEE</td>\n",
       "      <td>3</td>\n",
       "      <td>1T</td>\n",
       "      <td>1231</td>\n",
       "    </tr>\n",
       "    <tr>\n",
       "      <th>54055</th>\n",
       "      <td>DELTA AIR LINES INC</td>\n",
       "      <td>3</td>\n",
       "      <td>1T</td>\n",
       "      <td>979</td>\n",
       "    </tr>\n",
       "    <tr>\n",
       "      <th>8943</th>\n",
       "      <td>AMERICAN AIRLINES INC</td>\n",
       "      <td>3</td>\n",
       "      <td>1T</td>\n",
       "      <td>910</td>\n",
       "    </tr>\n",
       "    <tr>\n",
       "      <th>211582</th>\n",
       "      <td>UNITED AIRLINES INC</td>\n",
       "      <td>3</td>\n",
       "      <td>1T</td>\n",
       "      <td>861</td>\n",
       "    </tr>\n",
       "    <tr>\n",
       "      <th>16036</th>\n",
       "      <td>BANK OF UTAH TRUSTEE</td>\n",
       "      <td>3</td>\n",
       "      <td>1T</td>\n",
       "      <td>787</td>\n",
       "    </tr>\n",
       "  </tbody>\n",
       "</table>\n",
       "</div>"
      ],
      "text/plain": [
       "                                   name type_registrant certification  planes\n",
       "220089  WELLS FARGO TRUST CO NA TRUSTEE               3            1T    1231\n",
       "54055               DELTA AIR LINES INC               3            1T     979\n",
       "8943              AMERICAN AIRLINES INC               3            1T     910\n",
       "211582              UNITED AIRLINES INC               3            1T     861\n",
       "16036              BANK OF UTAH TRUSTEE               3            1T     787"
      ]
     },
     "execution_count": 17,
     "metadata": {},
     "output_type": "execute_result"
    }
   ],
   "source": [
    "corptrans.sort_values(by='planes', ascending=False).head()"
   ]
  },
  {
   "cell_type": "code",
   "execution_count": 18,
   "metadata": {},
   "outputs": [],
   "source": [
    "airline_planes = master"
   ]
  },
  {
   "cell_type": "code",
   "execution_count": 19,
   "metadata": {},
   "outputs": [],
   "source": [
    "airline_planes_slim = airline_planes[['name','n_number']]"
   ]
  },
  {
   "cell_type": "code",
   "execution_count": 20,
   "metadata": {},
   "outputs": [],
   "source": [
    "airline_planes_slim.to_csv('output/airline_planes.csv', index=False)"
   ]
  },
  {
   "cell_type": "markdown",
   "metadata": {},
   "source": [
    "### Airline planes"
   ]
  },
  {
   "cell_type": "code",
   "execution_count": 21,
   "metadata": {},
   "outputs": [],
   "source": [
    "american = master[master['name'].str.contains('AMERICAN AIRLINES')]"
   ]
  },
  {
   "cell_type": "code",
   "execution_count": 22,
   "metadata": {},
   "outputs": [
    {
     "data": {
      "text/plain": [
       "n_number                                                         766AN\n",
       "serial_number                           32880                         \n",
       "mfr_mdl_code                                                   1385213\n",
       "eng_mfr_mdl                                                      54555\n",
       "year_mfr                                                          2003\n",
       "type_registrant                                                      3\n",
       "name                                             AMERICAN AIRLINES INC\n",
       "street                               1 SKYVIEW DR                     \n",
       "street2                              MD 8B369                         \n",
       "city                                                FORT WORTH        \n",
       "state                                                               TX\n",
       "zip_code                                                    76155     \n",
       "region                                                               2\n",
       "county                                                             439\n",
       "country                                                             US\n",
       "last_action_date                                              20190801\n",
       "cert_issue_date                                               20030702\n",
       "certification                                                       1T\n",
       "type_aircraft                                                        5\n",
       "type_engine                                                          5\n",
       "status_code                                                         V \n",
       "mode_s_code                                                   52453737\n",
       "fract_owner                                                           \n",
       "air_worth_date                                                20030627\n",
       "other_names1                                                          \n",
       "other_names2                                                          \n",
       "other_names3                                                          \n",
       "other_names4                                                          \n",
       "other_names5                                                          \n",
       "expiration_date                                               20201231\n",
       "unique_id                                                       573827\n",
       "kit_mfr                                                               \n",
       "kit_model                                                             \n",
       "mode_s_code_hex                                             AA57DF    \n",
       "unnamed:_34                                                        NaN\n",
       "Name: 220253, dtype: object"
      ]
     },
     "execution_count": 22,
     "metadata": {},
     "output_type": "execute_result"
    }
   ],
   "source": [
    "american.iloc[583]"
   ]
  },
  {
   "cell_type": "code",
   "execution_count": 23,
   "metadata": {},
   "outputs": [],
   "source": [
    "master['n_number'] = 'N' + master['n_number']"
   ]
  },
  {
   "cell_type": "code",
   "execution_count": 24,
   "metadata": {},
   "outputs": [],
   "source": [
    "src = master.merge(reference, left_on='mfr_mdl_code', right_on='code')"
   ]
  },
  {
   "cell_type": "code",
   "execution_count": 25,
   "metadata": {},
   "outputs": [
    {
     "data": {
      "text/html": [
       "<div>\n",
       "<style scoped>\n",
       "    .dataframe tbody tr th:only-of-type {\n",
       "        vertical-align: middle;\n",
       "    }\n",
       "\n",
       "    .dataframe tbody tr th {\n",
       "        vertical-align: top;\n",
       "    }\n",
       "\n",
       "    .dataframe thead th {\n",
       "        text-align: right;\n",
       "    }\n",
       "</style>\n",
       "<table border=\"1\" class=\"dataframe\">\n",
       "  <thead>\n",
       "    <tr style=\"text-align: right;\">\n",
       "      <th></th>\n",
       "      <th>n_number</th>\n",
       "      <th>serial_number</th>\n",
       "      <th>mfr_mdl_code</th>\n",
       "      <th>eng_mfr_mdl</th>\n",
       "      <th>year_mfr</th>\n",
       "      <th>type_registrant</th>\n",
       "      <th>name</th>\n",
       "      <th>street</th>\n",
       "      <th>street2</th>\n",
       "      <th>city</th>\n",
       "      <th>...</th>\n",
       "      <th>model</th>\n",
       "      <th>type_acft</th>\n",
       "      <th>type_eng</th>\n",
       "      <th>ac_cat</th>\n",
       "      <th>build_cert_ind</th>\n",
       "      <th>no_eng</th>\n",
       "      <th>no_seats</th>\n",
       "      <th>ac_weight</th>\n",
       "      <th>speed</th>\n",
       "      <th>unnamed:_11</th>\n",
       "    </tr>\n",
       "  </thead>\n",
       "  <tbody>\n",
       "    <tr>\n",
       "      <th>207667</th>\n",
       "      <td>N302FD</td>\n",
       "      <td>41239</td>\n",
       "      <td>0260106</td>\n",
       "      <td>52174</td>\n",
       "      <td>2011</td>\n",
       "      <td>5</td>\n",
       "      <td>LOS ANGELES CITY</td>\n",
       "      <td>C/O LOS ANGELES FIRE DEPARTMENT</td>\n",
       "      <td>AIR OPS SECTION 16617 ARMINTA ST</td>\n",
       "      <td>VAN NUYS</td>\n",
       "      <td>...</td>\n",
       "      <td>AW139</td>\n",
       "      <td>6</td>\n",
       "      <td>3</td>\n",
       "      <td>1</td>\n",
       "      <td>0</td>\n",
       "      <td>2</td>\n",
       "      <td>17</td>\n",
       "      <td>CLASS 3</td>\n",
       "      <td>0</td>\n",
       "      <td>nan</td>\n",
       "    </tr>\n",
       "  </tbody>\n",
       "</table>\n",
       "<p>1 rows × 47 columns</p>\n",
       "</div>"
      ],
      "text/plain": [
       "       n_number                   serial_number mfr_mdl_code eng_mfr_mdl  \\\n",
       "207667   N302FD  41239                               0260106       52174   \n",
       "\n",
       "       year_mfr type_registrant              name  \\\n",
       "207667     2011               5  LOS ANGELES CITY   \n",
       "\n",
       "                                   street                            street2  \\\n",
       "207667  C/O LOS ANGELES FIRE DEPARTMENT    AIR OPS SECTION 16617 ARMINTA ST    \n",
       "\n",
       "                      city  ...                 model type_acft type_eng  \\\n",
       "207667  VAN NUYS            ...  AW139                        6        3   \n",
       "\n",
       "       ac_cat build_cert_ind  no_eng no_seats ac_weight speed  unnamed:_11  \n",
       "207667      1              0       2       17   CLASS 3     0          nan  \n",
       "\n",
       "[1 rows x 47 columns]"
      ]
     },
     "execution_count": 25,
     "metadata": {},
     "output_type": "execute_result"
    }
   ],
   "source": [
    "src[src['n_number'] == 'N302FD']"
   ]
  },
  {
   "cell_type": "code",
   "execution_count": 26,
   "metadata": {},
   "outputs": [],
   "source": [
    "lapd = ['AIR SUPPORT DIVISION', \n",
    "        'LAPD', \n",
    "        'LOS ANGELES POLICE', 'LOS ANGELES POLICE DEPT AIR SUPPORT DIVISION']"
   ]
  },
  {
   "cell_type": "code",
   "execution_count": 27,
   "metadata": {},
   "outputs": [],
   "source": [
    "lapd_county = ['LOS ANGELES COUNTY',\n",
    "               'LOS ANGELES CITY',\n",
    "        'LA COUNTY',\n",
    "        'CONSOLIDATED FIRE PROTECTION', \n",
    "        'LACOUNTY', \n",
    "        'LAPD', \n",
    "        'LOS ANGELES POLICE',\n",
    "               'LOS ANGELES POLICE DEPT AIR SUPPORT DIVISION',\n",
    "       'COUNTY OF LOS ANGELES',\n",
    "       'COUNTY OF LA',\n",
    "              'CITY OF LOS ANGELES',\n",
    "              'LOS ANGELES FIRE',\n",
    "              'LOS ANGELES FIRE DEPARTMENT',\n",
    "              'LOS ANGELES CITY']"
   ]
  },
  {
   "cell_type": "code",
   "execution_count": 28,
   "metadata": {},
   "outputs": [],
   "source": [
    "la_cops_choppers = src[(src['name'].str.contains('|'.join(lapd_county))) \\\n",
    "                       & (src['state'] == 'CA') \\\n",
    "              & (src['type_aircraft'] == '6')]"
   ]
  },
  {
   "cell_type": "code",
   "execution_count": 29,
   "metadata": {},
   "outputs": [],
   "source": [
    "la_safety_choppers_slim = la_cops_choppers\\\n",
    "    [[ 'n_number', 'name', 'mfr','model','street','city','year_mfr','no_seats' ]]"
   ]
  },
  {
   "cell_type": "code",
   "execution_count": 30,
   "metadata": {},
   "outputs": [
    {
     "data": {
      "text/plain": [
       "55"
      ]
     },
     "execution_count": 30,
     "metadata": {},
     "output_type": "execute_result"
    }
   ],
   "source": [
    "len(la_cops_choppers)"
   ]
  },
  {
   "cell_type": "code",
   "execution_count": 31,
   "metadata": {},
   "outputs": [],
   "source": [
    "la_cops_choppers.to_csv('output/la_safety_choppers_slim.csv', index=False)"
   ]
  },
  {
   "cell_type": "code",
   "execution_count": 32,
   "metadata": {},
   "outputs": [
    {
     "data": {
      "text/plain": [
       "['N306FD',\n",
       " 'N664PD',\n",
       " 'N3202Q',\n",
       " 'N601CC',\n",
       " 'N120LA',\n",
       " 'N73985',\n",
       " 'N213PF',\n",
       " 'N221LA',\n",
       " 'N223LA',\n",
       " 'N267LA',\n",
       " 'N472LA',\n",
       " 'N703WP',\n",
       " 'N704WP',\n",
       " 'N110LA',\n",
       " 'N14LA ',\n",
       " 'N21844',\n",
       " 'N228LA',\n",
       " 'N229LA',\n",
       " 'N232LA',\n",
       " 'N233LA',\n",
       " 'N661PD',\n",
       " 'N662PD',\n",
       " 'N665PD',\n",
       " 'N913WB',\n",
       " 'N961SD',\n",
       " 'N963SD',\n",
       " 'N966SD',\n",
       " 'N301FD',\n",
       " 'N304FD',\n",
       " 'N303FD',\n",
       " 'N305FD',\n",
       " 'N950LA',\n",
       " 'N951LA',\n",
       " 'N953LA',\n",
       " 'N954LA',\n",
       " 'N955LA',\n",
       " 'N956LA',\n",
       " 'N957LA',\n",
       " 'N958LA',\n",
       " 'N959LA',\n",
       " 'N960LA',\n",
       " 'N961LA',\n",
       " 'N962LA',\n",
       " 'N302FD',\n",
       " 'N668PD',\n",
       " 'N17LA ',\n",
       " 'N18LA ',\n",
       " 'N15LA ',\n",
       " 'N160LA',\n",
       " 'N190LA',\n",
       " 'N821LA',\n",
       " 'N822LA',\n",
       " 'N950SG',\n",
       " 'N951LB',\n",
       " 'N952JH']"
      ]
     },
     "execution_count": 32,
     "metadata": {},
     "output_type": "execute_result"
    }
   ],
   "source": [
    "la_cops_choppers.n_number.unique().tolist()"
   ]
  },
  {
   "cell_type": "code",
   "execution_count": null,
   "metadata": {},
   "outputs": [],
   "source": []
  },
  {
   "cell_type": "markdown",
   "metadata": {},
   "source": [
    "---"
   ]
  },
  {
   "cell_type": "markdown",
   "metadata": {},
   "source": [
    "### Bobcat fire aircraft"
   ]
  },
  {
   "cell_type": "code",
   "execution_count": 35,
   "metadata": {},
   "outputs": [],
   "source": [
    "bobcat_src = pd.read_csv('input/aircraft.csv')"
   ]
  },
  {
   "cell_type": "code",
   "execution_count": 38,
   "metadata": {},
   "outputs": [
    {
     "data": {
      "text/plain": [
       "n_number                                                        N100  \n",
       "serial_number                           5334                          \n",
       "mfr_mdl_code                                                   7100510\n",
       "eng_mfr_mdl                                                      17003\n",
       "year_mfr                                                          1940\n",
       "type_registrant                                                      1\n",
       "name                                                       BENE MARY D\n",
       "street                               PO BOX 329                       \n",
       "street2                                                               \n",
       "city                                                KETCHUM           \n",
       "state                                                               OK\n",
       "zip_code                                                    743490329 \n",
       "region                                                               2\n",
       "county                                                             097\n",
       "country                                                             US\n",
       "last_action_date                                              20200105\n",
       "cert_issue_date                                               20050506\n",
       "certification                                                        1\n",
       "type_aircraft                                                        4\n",
       "type_engine                                                          1\n",
       "status_code                                                         V \n",
       "mode_s_code                                                   50002263\n",
       "fract_owner                                                           \n",
       "air_worth_date                                                19540430\n",
       "other_names1                                                          \n",
       "other_names2                                                          \n",
       "other_names3                                                          \n",
       "other_names4                                                          \n",
       "other_names5                                                          \n",
       "expiration_date                                               20230430\n",
       "unique_id                                                       600060\n",
       "kit_mfr                                                               \n",
       "kit_model                                                             \n",
       "mode_s_code_hex                                             A004B3    \n",
       "unnamed:_34                                                        NaN\n",
       "Name: 0, dtype: object"
      ]
     },
     "execution_count": 38,
     "metadata": {},
     "output_type": "execute_result"
    }
   ],
   "source": [
    "master.iloc[0]"
   ]
  },
  {
   "cell_type": "code",
   "execution_count": null,
   "metadata": {},
   "outputs": [],
   "source": [
    "src = master.merge(reference, left_on='mfr_mdl_code', right_on='code')"
   ]
  }
 ],
 "metadata": {
  "kernelspec": {
   "display_name": "Python 3",
   "language": "python",
   "name": "python3"
  },
  "language_info": {
   "codemirror_mode": {
    "name": "ipython",
    "version": 3
   },
   "file_extension": ".py",
   "mimetype": "text/x-python",
   "name": "python",
   "nbconvert_exporter": "python",
   "pygments_lexer": "ipython3",
   "version": "3.7.4"
  }
 },
 "nbformat": 4,
 "nbformat_minor": 4
}
