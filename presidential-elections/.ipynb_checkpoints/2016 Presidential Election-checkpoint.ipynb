{
 "cells": [
  {
   "cell_type": "markdown",
   "metadata": {},
   "source": [
    "# 2016 Presidential Election Results"
   ]
  },
  {
   "cell_type": "markdown",
   "metadata": {},
   "source": [
    "### Load python tools"
   ]
  },
  {
   "cell_type": "code",
   "execution_count": 177,
   "metadata": {},
   "outputs": [],
   "source": [
    "import pandas as pd\n",
    "import geopandas as gpd\n",
    "import matplotlib\n",
    "import matplotlib.pyplot as plt\n",
    "import geojson\n",
    "import json\n",
    "import jenkspy\n",
    "import numpy as np\n",
    "from earthpy import clip as cl\n",
    "from altair import datum\n",
    "import altair as alt\n",
    "alt.renderers.enable('notebook')\n",
    "import altair_latimes as lat\n",
    "alt.themes.register('latimes', lat.theme)\n",
    "alt.themes.enable('latimes')\n",
    "pd.options.display.max_columns = 50\n",
    "pd.options.display.max_rows = 1000"
   ]
  },
  {
   "cell_type": "markdown",
   "metadata": {},
   "source": [
    "### Read and clean up dataframe"
   ]
  },
  {
   "cell_type": "code",
   "execution_count": 234,
   "metadata": {},
   "outputs": [],
   "source": [
    "elections = pd.read_csv('input/2016_US_County_Level_Presidential_Results.csv', \\\n",
    "dtype={'votes_dem': (int),'votes_gop':(int), 'total_votes': (int), 'per_dem': (str), \\\n",
    "        'per_gop': (str), 'diff': (str), 'per_point_diff': (str), 'combined_fips': (str)})\n",
    "elections['diff'] = elections['diff'].str.replace(',','').astype(int)\n",
    "elections['per_dem'] = ((elections['votes_dem']/elections['total_votes'])*100).round(2).astype(float)\n",
    "elections['per_gop'] = ((elections['votes_gop']/elections['total_votes'])*100).round(2).astype(float)\n",
    "elections['per_point_diff'] = (elections['per_point_diff'].str.replace('%','').str.replace('.','').astype(int) / 100)\n",
    "elections = elections.drop(columns=['Unnamed: 0'])\n",
    "elections['fips'] = elections['combined_fips']\n",
    "elections = elections.drop(columns=['combined_fips'])\n",
    "elections['fips'] = elections['fips'].str.zfill(5)"
   ]
  },
  {
   "cell_type": "markdown",
   "metadata": {},
   "source": [
    "### Who won each place? "
   ]
  },
  {
   "cell_type": "code",
   "execution_count": 235,
   "metadata": {},
   "outputs": [],
   "source": [
    "elections['winner'] = (elections[['per_dem','per_gop']].idxmax(axis = 1)).str.replace('per_','')"
   ]
  },
  {
   "cell_type": "code",
   "execution_count": 236,
   "metadata": {},
   "outputs": [
    {
     "data": {
      "text/html": [
       "<div>\n",
       "<style scoped>\n",
       "    .dataframe tbody tr th:only-of-type {\n",
       "        vertical-align: middle;\n",
       "    }\n",
       "\n",
       "    .dataframe tbody tr th {\n",
       "        vertical-align: top;\n",
       "    }\n",
       "\n",
       "    .dataframe thead th {\n",
       "        text-align: right;\n",
       "    }\n",
       "</style>\n",
       "<table border=\"1\" class=\"dataframe\">\n",
       "  <thead>\n",
       "    <tr style=\"text-align: right;\">\n",
       "      <th></th>\n",
       "      <th>votes_dem</th>\n",
       "      <th>votes_gop</th>\n",
       "      <th>total_votes</th>\n",
       "      <th>per_dem</th>\n",
       "      <th>per_gop</th>\n",
       "      <th>diff</th>\n",
       "      <th>per_point_diff</th>\n",
       "      <th>state_abbr</th>\n",
       "      <th>county_name</th>\n",
       "      <th>fips</th>\n",
       "      <th>winner</th>\n",
       "    </tr>\n",
       "  </thead>\n",
       "  <tbody>\n",
       "    <tr>\n",
       "      <th>0</th>\n",
       "      <td>93003</td>\n",
       "      <td>130413</td>\n",
       "      <td>246588</td>\n",
       "      <td>37.72</td>\n",
       "      <td>52.89</td>\n",
       "      <td>37410</td>\n",
       "      <td>15.17</td>\n",
       "      <td>AK</td>\n",
       "      <td>Alaska</td>\n",
       "      <td>02013</td>\n",
       "      <td>gop</td>\n",
       "    </tr>\n",
       "    <tr>\n",
       "      <th>1</th>\n",
       "      <td>93003</td>\n",
       "      <td>130413</td>\n",
       "      <td>246588</td>\n",
       "      <td>37.72</td>\n",
       "      <td>52.89</td>\n",
       "      <td>37410</td>\n",
       "      <td>15.17</td>\n",
       "      <td>AK</td>\n",
       "      <td>Alaska</td>\n",
       "      <td>02016</td>\n",
       "      <td>gop</td>\n",
       "    </tr>\n",
       "    <tr>\n",
       "      <th>2</th>\n",
       "      <td>93003</td>\n",
       "      <td>130413</td>\n",
       "      <td>246588</td>\n",
       "      <td>37.72</td>\n",
       "      <td>52.89</td>\n",
       "      <td>37410</td>\n",
       "      <td>15.17</td>\n",
       "      <td>AK</td>\n",
       "      <td>Alaska</td>\n",
       "      <td>02020</td>\n",
       "      <td>gop</td>\n",
       "    </tr>\n",
       "    <tr>\n",
       "      <th>3</th>\n",
       "      <td>93003</td>\n",
       "      <td>130413</td>\n",
       "      <td>246588</td>\n",
       "      <td>37.72</td>\n",
       "      <td>52.89</td>\n",
       "      <td>37410</td>\n",
       "      <td>15.17</td>\n",
       "      <td>AK</td>\n",
       "      <td>Alaska</td>\n",
       "      <td>02050</td>\n",
       "      <td>gop</td>\n",
       "    </tr>\n",
       "    <tr>\n",
       "      <th>4</th>\n",
       "      <td>93003</td>\n",
       "      <td>130413</td>\n",
       "      <td>246588</td>\n",
       "      <td>37.72</td>\n",
       "      <td>52.89</td>\n",
       "      <td>37410</td>\n",
       "      <td>15.17</td>\n",
       "      <td>AK</td>\n",
       "      <td>Alaska</td>\n",
       "      <td>02060</td>\n",
       "      <td>gop</td>\n",
       "    </tr>\n",
       "  </tbody>\n",
       "</table>\n",
       "</div>"
      ],
      "text/plain": [
       "   votes_dem  votes_gop  total_votes  per_dem  per_gop   diff  per_point_diff  \\\n",
       "0      93003     130413       246588    37.72    52.89  37410           15.17   \n",
       "1      93003     130413       246588    37.72    52.89  37410           15.17   \n",
       "2      93003     130413       246588    37.72    52.89  37410           15.17   \n",
       "3      93003     130413       246588    37.72    52.89  37410           15.17   \n",
       "4      93003     130413       246588    37.72    52.89  37410           15.17   \n",
       "\n",
       "  state_abbr county_name   fips winner  \n",
       "0         AK      Alaska  02013    gop  \n",
       "1         AK      Alaska  02016    gop  \n",
       "2         AK      Alaska  02020    gop  \n",
       "3         AK      Alaska  02050    gop  \n",
       "4         AK      Alaska  02060    gop  "
      ]
     },
     "execution_count": 236,
     "metadata": {},
     "output_type": "execute_result"
    }
   ],
   "source": [
    "elections.head()"
   ]
  },
  {
   "cell_type": "markdown",
   "metadata": {},
   "source": [
    "### Merge with county geography"
   ]
  },
  {
   "cell_type": "code",
   "execution_count": 360,
   "metadata": {},
   "outputs": [],
   "source": [
    "counties = gpd.read_file('input/us_counties.geojson')\n",
    "counties = counties.rename(str.lower, axis='columns')"
   ]
  },
  {
   "cell_type": "code",
   "execution_count": 361,
   "metadata": {},
   "outputs": [],
   "source": [
    "results = gpd.GeoDataFrame(elections.merge(counties, on='fips'))"
   ]
  },
  {
   "cell_type": "code",
   "execution_count": 362,
   "metadata": {},
   "outputs": [],
   "source": [
    "results.crs = {'init': \"epsg:4326\"}"
   ]
  },
  {
   "cell_type": "code",
   "execution_count": 363,
   "metadata": {},
   "outputs": [],
   "source": [
    "results['area'] = results['geometry'].to_crs({'init': 'epsg:3310'})\\\n",
    "               .map(lambda p: p.area / 2.59e+6).round(2)"
   ]
  },
  {
   "cell_type": "code",
   "execution_count": 364,
   "metadata": {},
   "outputs": [
    {
     "data": {
      "text/plain": [
       "Index(['votes_dem', 'votes_gop', 'total_votes', 'per_dem', 'per_gop', 'diff',\n",
       "       'per_point_diff', 'state_abbr', 'county_name', 'fips', 'winner', 'name',\n",
       "       'state_name', 'state_fips', 'cnty_fips', 'pop2010', 'pop10_sqmi',\n",
       "       'white', 'black', 'asian', 'hispanic', 'age_under5', 'med_age',\n",
       "       'households', 'families', 'ave_fam_sz', 'hse_units', 'vacant',\n",
       "       'owner_occ', 'renter_occ', 'geometry', 'area'],\n",
       "      dtype='object')"
      ]
     },
     "execution_count": 364,
     "metadata": {},
     "output_type": "execute_result"
    }
   ],
   "source": [
    "results.columns"
   ]
  },
  {
   "cell_type": "code",
   "execution_count": 374,
   "metadata": {},
   "outputs": [
    {
     "ename": "AttributeError",
     "evalue": "'function' object has no attribute 'winner'",
     "output_type": "error",
     "traceback": [
      "\u001b[0;31m---------------------------------------------------------------------------\u001b[0m",
      "\u001b[0;31mAttributeError\u001b[0m                            Traceback (most recent call last)",
      "\u001b[0;32m<ipython-input-374-4009371fba61>\u001b[0m in \u001b[0;36m<module>\u001b[0;34m\u001b[0m\n\u001b[0;32m----> 1\u001b[0;31m \u001b[0mresults\u001b[0m\u001b[0;34m.\u001b[0m\u001b[0mgroupby\u001b[0m\u001b[0;34m.\u001b[0m\u001b[0mwinner\u001b[0m\u001b[0;34m\u001b[0m\u001b[0;34m\u001b[0m\u001b[0m\n\u001b[0m",
      "\u001b[0;31mAttributeError\u001b[0m: 'function' object has no attribute 'winner'"
     ]
    }
   ],
   "source": [
    "results.groupby"
   ]
  },
  {
   "cell_type": "code",
   "execution_count": null,
   "metadata": {},
   "outputs": [],
   "source": []
  },
  {
   "cell_type": "code",
   "execution_count": null,
   "metadata": {},
   "outputs": [],
   "source": []
  },
  {
   "cell_type": "code",
   "execution_count": null,
   "metadata": {},
   "outputs": [],
   "source": []
  },
  {
   "cell_type": "code",
   "execution_count": null,
   "metadata": {},
   "outputs": [],
   "source": []
  },
  {
   "cell_type": "code",
   "execution_count": null,
   "metadata": {},
   "outputs": [],
   "source": []
  },
  {
   "cell_type": "code",
   "execution_count": null,
   "metadata": {},
   "outputs": [],
   "source": []
  }
 ],
 "metadata": {
  "kernelspec": {
   "display_name": "Python 3",
   "language": "python",
   "name": "python3"
  },
  "language_info": {
   "codemirror_mode": {
    "name": "ipython",
    "version": 3
   },
   "file_extension": ".py",
   "mimetype": "text/x-python",
   "name": "python",
   "nbconvert_exporter": "python",
   "pygments_lexer": "ipython3",
   "version": "3.7.3"
  }
 },
 "nbformat": 4,
 "nbformat_minor": 2
}
