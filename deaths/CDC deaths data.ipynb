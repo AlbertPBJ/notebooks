{
 "cells": [
  {
   "cell_type": "markdown",
   "metadata": {},
   "source": [
    "# Analyzing deaths in California during Covid-19 pandemic"
   ]
  },
  {
   "cell_type": "code",
   "execution_count": 1,
   "metadata": {},
   "outputs": [
    {
     "data": {
      "text/plain": [
       "DataTransformerRegistry.enable('default')"
      ]
     },
     "execution_count": 1,
     "metadata": {},
     "output_type": "execute_result"
    }
   ],
   "source": [
    "import pandas as pd\n",
    "import geopandas as gpd\n",
    "import jenkspy\n",
    "import matplotlib.pyplot as plt\n",
    "%matplotlib inline\n",
    "import json\n",
    "import numpy as np\n",
    "from altair import datum\n",
    "import altair as alt\n",
    "import altair_latimes as lat\n",
    "alt.themes.register('latimes', lat.theme)\n",
    "alt.themes.enable('latimes')\n",
    "pd.options.display.max_columns = 50\n",
    "pd.options.display.max_rows = 1000\n",
    "alt.data_transformers.disable_max_rows()"
   ]
  },
  {
   "cell_type": "markdown",
   "metadata": {},
   "source": [
    "### Load deaths data from past years and 2020"
   ]
  },
  {
   "cell_type": "code",
   "execution_count": 2,
   "metadata": {},
   "outputs": [],
   "source": [
    "deathsold = pd.read_csv('input/Weekly_Counts_of_Deaths_by_State_and_Select_Causes__2014-2018.csv')"
   ]
  },
  {
   "cell_type": "code",
   "execution_count": 3,
   "metadata": {},
   "outputs": [],
   "source": [
    "deathsnu = pd.read_csv('input/Weekly_Counts_of_Deaths_by_State_and_Select_Causes__2019-2020.csv')"
   ]
  },
  {
   "cell_type": "code",
   "execution_count": 4,
   "metadata": {},
   "outputs": [],
   "source": [
    "deathsnu.columns = deathsnu.columns.str.strip().str.lower().str.replace(' ', '_')\\\n",
    "                    .str.replace('__', '_').str.replace('(', '').str.replace(')', '').str.replace('-','_')\n",
    "deathsold.columns = deathsold.columns.str.strip().str.lower().str.replace(' ', '_')\\\n",
    "                    .str.replace('__', '_').str.replace('(', '').str.replace(')', '').str.replace('-','_')"
   ]
  },
  {
   "cell_type": "markdown",
   "metadata": {},
   "source": [
    "### Combine the tables into one deaths dataframe"
   ]
  },
  {
   "cell_type": "code",
   "execution_count": 5,
   "metadata": {},
   "outputs": [],
   "source": [
    "deaths = pd.concat([deathsold, deathsnu], ignore_index=True)"
   ]
  },
  {
   "cell_type": "markdown",
   "metadata": {},
   "source": [
    "### Make the data tall"
   ]
  },
  {
   "cell_type": "code",
   "execution_count": 6,
   "metadata": {},
   "outputs": [],
   "source": [
    "deaths_melt = pd.melt(deaths, id_vars=['jurisdiction_of_occurrence', 'mmwr_year', 'mmwr_week', 'week_ending_date']\\\n",
    "                      , value_vars=['all_cause', 'natural_cause', 'septicemia_a40_a41',\n",
    "       'malignant_neoplasms_c00_c97', 'diabetes_mellitus_e10_e14',\n",
    "       'alzheimer_disease_g30', 'influenza_and_pneumonia_j10_j18',\n",
    "       'chronic_lower_respiratory_diseases_j40_j47',\n",
    "       'other_diseases_of_respiratory_system_j00_j06,j30_j39,j67,j70_j98',\n",
    "       'nephritis,_nephrotic_syndrome_and_nephrosis_n00_n07,n17_n19,n25_n27',\n",
    "       'symptoms,_signs_and_abnormal_clinical_and_laboratory_findings,_not_elsewhere_classified_r00_r99',\n",
    "       'diseases_of_heart_i00_i09,i11,i13,i20_i51',\n",
    "       'cerebrovascular_diseases_i60_i69'],\n",
    "        var_name='cause', value_name='count')"
   ]
  },
  {
   "cell_type": "code",
   "execution_count": 7,
   "metadata": {},
   "outputs": [],
   "source": [
    "deaths_melt['mmwr_year'] = deaths_melt['mmwr_year'].astype(str)\n",
    "deaths_melt['mmwr_week'] = deaths_melt['mmwr_week'].astype(int)"
   ]
  },
  {
   "cell_type": "markdown",
   "metadata": {},
   "source": [
    "### Just California"
   ]
  },
  {
   "cell_type": "code",
   "execution_count": 8,
   "metadata": {},
   "outputs": [],
   "source": [
    "ca_deaths = deaths_melt[deaths_melt['jurisdiction_of_occurrence'] == 'California']"
   ]
  },
  {
   "cell_type": "markdown",
   "metadata": {},
   "source": [
    "### What's the mean number of deaths per week, 2014-2019?"
   ]
  },
  {
   "cell_type": "code",
   "execution_count": 9,
   "metadata": {},
   "outputs": [
    {
     "data": {
      "text/html": [
       "<div>\n",
       "<style scoped>\n",
       "    .dataframe tbody tr th:only-of-type {\n",
       "        vertical-align: middle;\n",
       "    }\n",
       "\n",
       "    .dataframe tbody tr th {\n",
       "        vertical-align: top;\n",
       "    }\n",
       "\n",
       "    .dataframe thead th {\n",
       "        text-align: right;\n",
       "    }\n",
       "</style>\n",
       "<table border=\"1\" class=\"dataframe\">\n",
       "  <thead>\n",
       "    <tr style=\"text-align: right;\">\n",
       "      <th></th>\n",
       "      <th>jurisdiction_of_occurrence</th>\n",
       "      <th>mmwr_year</th>\n",
       "      <th>mmwr_week</th>\n",
       "      <th>week_ending_date</th>\n",
       "      <th>cause</th>\n",
       "      <th>count</th>\n",
       "    </tr>\n",
       "  </thead>\n",
       "  <tbody>\n",
       "    <tr>\n",
       "      <td>1044</td>\n",
       "      <td>California</td>\n",
       "      <td>2014</td>\n",
       "      <td>1</td>\n",
       "      <td>01/04/2014</td>\n",
       "      <td>all_cause</td>\n",
       "      <td>3142.0</td>\n",
       "    </tr>\n",
       "    <tr>\n",
       "      <td>1045</td>\n",
       "      <td>California</td>\n",
       "      <td>2014</td>\n",
       "      <td>2</td>\n",
       "      <td>01/11/2014</td>\n",
       "      <td>all_cause</td>\n",
       "      <td>5371.0</td>\n",
       "    </tr>\n",
       "    <tr>\n",
       "      <td>1046</td>\n",
       "      <td>California</td>\n",
       "      <td>2014</td>\n",
       "      <td>3</td>\n",
       "      <td>01/18/2014</td>\n",
       "      <td>all_cause</td>\n",
       "      <td>5522.0</td>\n",
       "    </tr>\n",
       "    <tr>\n",
       "      <td>1047</td>\n",
       "      <td>California</td>\n",
       "      <td>2014</td>\n",
       "      <td>4</td>\n",
       "      <td>01/25/2014</td>\n",
       "      <td>all_cause</td>\n",
       "      <td>5337.0</td>\n",
       "    </tr>\n",
       "    <tr>\n",
       "      <td>1048</td>\n",
       "      <td>California</td>\n",
       "      <td>2014</td>\n",
       "      <td>5</td>\n",
       "      <td>02/01/2014</td>\n",
       "      <td>all_cause</td>\n",
       "      <td>5197.0</td>\n",
       "    </tr>\n",
       "    <tr>\n",
       "      <td>1049</td>\n",
       "      <td>California</td>\n",
       "      <td>2014</td>\n",
       "      <td>6</td>\n",
       "      <td>02/08/2014</td>\n",
       "      <td>all_cause</td>\n",
       "      <td>5186.0</td>\n",
       "    </tr>\n",
       "    <tr>\n",
       "      <td>1050</td>\n",
       "      <td>California</td>\n",
       "      <td>2014</td>\n",
       "      <td>7</td>\n",
       "      <td>02/15/2014</td>\n",
       "      <td>all_cause</td>\n",
       "      <td>5089.0</td>\n",
       "    </tr>\n",
       "    <tr>\n",
       "      <td>1051</td>\n",
       "      <td>California</td>\n",
       "      <td>2014</td>\n",
       "      <td>8</td>\n",
       "      <td>02/22/2014</td>\n",
       "      <td>all_cause</td>\n",
       "      <td>4939.0</td>\n",
       "    </tr>\n",
       "    <tr>\n",
       "      <td>1052</td>\n",
       "      <td>California</td>\n",
       "      <td>2014</td>\n",
       "      <td>9</td>\n",
       "      <td>03/01/2014</td>\n",
       "      <td>all_cause</td>\n",
       "      <td>4759.0</td>\n",
       "    </tr>\n",
       "    <tr>\n",
       "      <td>1053</td>\n",
       "      <td>California</td>\n",
       "      <td>2014</td>\n",
       "      <td>10</td>\n",
       "      <td>03/08/2014</td>\n",
       "      <td>all_cause</td>\n",
       "      <td>4756.0</td>\n",
       "    </tr>\n",
       "  </tbody>\n",
       "</table>\n",
       "</div>"
      ],
      "text/plain": [
       "     jurisdiction_of_occurrence mmwr_year  mmwr_week week_ending_date  \\\n",
       "1044                 California      2014          1       01/04/2014   \n",
       "1045                 California      2014          2       01/11/2014   \n",
       "1046                 California      2014          3       01/18/2014   \n",
       "1047                 California      2014          4       01/25/2014   \n",
       "1048                 California      2014          5       02/01/2014   \n",
       "1049                 California      2014          6       02/08/2014   \n",
       "1050                 California      2014          7       02/15/2014   \n",
       "1051                 California      2014          8       02/22/2014   \n",
       "1052                 California      2014          9       03/01/2014   \n",
       "1053                 California      2014         10       03/08/2014   \n",
       "\n",
       "          cause   count  \n",
       "1044  all_cause  3142.0  \n",
       "1045  all_cause  5371.0  \n",
       "1046  all_cause  5522.0  \n",
       "1047  all_cause  5337.0  \n",
       "1048  all_cause  5197.0  \n",
       "1049  all_cause  5186.0  \n",
       "1050  all_cause  5089.0  \n",
       "1051  all_cause  4939.0  \n",
       "1052  all_cause  4759.0  \n",
       "1053  all_cause  4756.0  "
      ]
     },
     "execution_count": 9,
     "metadata": {},
     "output_type": "execute_result"
    }
   ],
   "source": [
    "ca_deaths.head(10)"
   ]
  },
  {
   "cell_type": "code",
   "execution_count": 10,
   "metadata": {},
   "outputs": [],
   "source": [
    "all_ca_deaths_then = ca_deaths[(ca_deaths['mmwr_year'] != '2020') & (ca_deaths['cause'] == 'natural_cause')]"
   ]
  },
  {
   "cell_type": "code",
   "execution_count": 11,
   "metadata": {},
   "outputs": [],
   "source": [
    "all_ca_deaths_now = ca_deaths[(ca_deaths['mmwr_year'] == '2020') & (ca_deaths['cause'] == 'natural_cause')] "
   ]
  },
  {
   "cell_type": "code",
   "execution_count": 12,
   "metadata": {},
   "outputs": [],
   "source": [
    "ca_deaths_then_grouped = all_ca_deaths_then.groupby(['mmwr_week']).agg({'count':'mean'}).reset_index()"
   ]
  },
  {
   "cell_type": "code",
   "execution_count": 13,
   "metadata": {},
   "outputs": [],
   "source": [
    "ca_deaths_now_grouped = all_ca_deaths_now.groupby(['mmwr_week', 'week_ending_date']).agg({'count':'mean'}).reset_index()"
   ]
  },
  {
   "cell_type": "code",
   "execution_count": 14,
   "metadata": {},
   "outputs": [],
   "source": [
    "ca_deaths_then_grouped['count'] = ca_deaths_then_grouped['count'].astype(int)"
   ]
  },
  {
   "cell_type": "code",
   "execution_count": 15,
   "metadata": {},
   "outputs": [],
   "source": [
    "then_now = ca_deaths_then_grouped.merge(ca_deaths_now_grouped, on='mmwr_week', how='inner')"
   ]
  },
  {
   "cell_type": "code",
   "execution_count": 16,
   "metadata": {},
   "outputs": [],
   "source": [
    "then_now.rename(columns={\"mmwr_week\": \"week\", \"count_x\": \"historical\", \"count_y\": \"this_year\"}, inplace=True)"
   ]
  },
  {
   "cell_type": "code",
   "execution_count": 17,
   "metadata": {},
   "outputs": [],
   "source": [
    "then_now_15 = pd.DataFrame(then_now[(then_now['week'] < 16) & (then_now['week'] > 9)])"
   ]
  },
  {
   "cell_type": "code",
   "execution_count": 18,
   "metadata": {},
   "outputs": [
    {
     "data": {
      "text/html": [
       "<div>\n",
       "<style scoped>\n",
       "    .dataframe tbody tr th:only-of-type {\n",
       "        vertical-align: middle;\n",
       "    }\n",
       "\n",
       "    .dataframe tbody tr th {\n",
       "        vertical-align: top;\n",
       "    }\n",
       "\n",
       "    .dataframe thead th {\n",
       "        text-align: right;\n",
       "    }\n",
       "</style>\n",
       "<table border=\"1\" class=\"dataframe\">\n",
       "  <thead>\n",
       "    <tr style=\"text-align: right;\">\n",
       "      <th></th>\n",
       "      <th>week</th>\n",
       "      <th>historical</th>\n",
       "      <th>week_ending_date</th>\n",
       "      <th>this_year</th>\n",
       "    </tr>\n",
       "  </thead>\n",
       "  <tbody>\n",
       "    <tr>\n",
       "      <td>9</td>\n",
       "      <td>10</td>\n",
       "      <td>5008</td>\n",
       "      <td>03/07/2020</td>\n",
       "      <td>5340.0</td>\n",
       "    </tr>\n",
       "    <tr>\n",
       "      <td>10</td>\n",
       "      <td>11</td>\n",
       "      <td>4993</td>\n",
       "      <td>03/14/2020</td>\n",
       "      <td>5107.0</td>\n",
       "    </tr>\n",
       "    <tr>\n",
       "      <td>11</td>\n",
       "      <td>12</td>\n",
       "      <td>4811</td>\n",
       "      <td>03/21/2020</td>\n",
       "      <td>5302.0</td>\n",
       "    </tr>\n",
       "    <tr>\n",
       "      <td>12</td>\n",
       "      <td>13</td>\n",
       "      <td>4747</td>\n",
       "      <td>03/28/2020</td>\n",
       "      <td>5313.0</td>\n",
       "    </tr>\n",
       "    <tr>\n",
       "      <td>13</td>\n",
       "      <td>14</td>\n",
       "      <td>4768</td>\n",
       "      <td>04/04/2020</td>\n",
       "      <td>5515.0</td>\n",
       "    </tr>\n",
       "    <tr>\n",
       "      <td>14</td>\n",
       "      <td>15</td>\n",
       "      <td>4676</td>\n",
       "      <td>04/11/2020</td>\n",
       "      <td>5249.0</td>\n",
       "    </tr>\n",
       "  </tbody>\n",
       "</table>\n",
       "</div>"
      ],
      "text/plain": [
       "    week  historical week_ending_date  this_year\n",
       "9     10        5008       03/07/2020     5340.0\n",
       "10    11        4993       03/14/2020     5107.0\n",
       "11    12        4811       03/21/2020     5302.0\n",
       "12    13        4747       03/28/2020     5313.0\n",
       "13    14        4768       04/04/2020     5515.0\n",
       "14    15        4676       04/11/2020     5249.0"
      ]
     },
     "execution_count": 18,
     "metadata": {},
     "output_type": "execute_result"
    }
   ],
   "source": [
    "then_now_15"
   ]
  },
  {
   "cell_type": "code",
   "execution_count": 19,
   "metadata": {},
   "outputs": [],
   "source": [
    "then_now_15_melt = pd.melt(then_now_15, id_vars=['week', 'week_ending_date']\\\n",
    "                      , value_vars=['historical', 'this_year'],\n",
    "        var_name='year', value_name='count')"
   ]
  },
  {
   "cell_type": "code",
   "execution_count": 20,
   "metadata": {},
   "outputs": [],
   "source": [
    "then_now_15_melt['week_ending_date'] = then_now_15_melt['week_ending_date'].astype('datetime64[ns]')"
   ]
  },
  {
   "cell_type": "code",
   "execution_count": 21,
   "metadata": {},
   "outputs": [
    {
     "data": {
      "text/plain": [
       "week                         int64\n",
       "week_ending_date    datetime64[ns]\n",
       "year                        object\n",
       "count                      float64\n",
       "dtype: object"
      ]
     },
     "execution_count": 21,
     "metadata": {},
     "output_type": "execute_result"
    }
   ],
   "source": [
    "then_now_15_melt.dtypes"
   ]
  },
  {
   "cell_type": "code",
   "execution_count": 22,
   "metadata": {},
   "outputs": [],
   "source": [
    "then_now_15_melt.to_csv('output/then_now_15_melt.csv', index=False)"
   ]
  },
  {
   "cell_type": "code",
   "execution_count": 23,
   "metadata": {},
   "outputs": [
    {
     "data": {
      "text/html": [
       "\n",
       "<div id=\"altair-viz-fe9b41a6a49e460ba98c6ab2f9723b16\"></div>\n",
       "<script type=\"text/javascript\">\n",
       "  (function(spec, embedOpt){\n",
       "    const outputDiv = document.getElementById(\"altair-viz-fe9b41a6a49e460ba98c6ab2f9723b16\");\n",
       "    const paths = {\n",
       "      \"vega\": \"https://cdn.jsdelivr.net/npm//vega@5?noext\",\n",
       "      \"vega-lib\": \"https://cdn.jsdelivr.net/npm//vega-lib?noext\",\n",
       "      \"vega-lite\": \"https://cdn.jsdelivr.net/npm//vega-lite@4.0.2?noext\",\n",
       "      \"vega-embed\": \"https://cdn.jsdelivr.net/npm//vega-embed@6?noext\",\n",
       "    };\n",
       "\n",
       "    function loadScript(lib) {\n",
       "      return new Promise(function(resolve, reject) {\n",
       "        var s = document.createElement('script');\n",
       "        s.src = paths[lib];\n",
       "        s.async = true;\n",
       "        s.onload = () => resolve(paths[lib]);\n",
       "        s.onerror = () => reject(`Error loading script: ${paths[lib]}`);\n",
       "        document.getElementsByTagName(\"head\")[0].appendChild(s);\n",
       "      });\n",
       "    }\n",
       "\n",
       "    function showError(err) {\n",
       "      outputDiv.innerHTML = `<div class=\"error\" style=\"color:red;\">${err}</div>`;\n",
       "      throw err;\n",
       "    }\n",
       "\n",
       "    function displayChart(vegaEmbed) {\n",
       "      vegaEmbed(outputDiv, spec, embedOpt)\n",
       "        .catch(err => showError(`Javascript Error: ${err.message}<br>This usually means there's a typo in your chart specification. See the javascript console for the full traceback.`));\n",
       "    }\n",
       "\n",
       "    if(typeof define === \"function\" && define.amd) {\n",
       "      requirejs.config({paths});\n",
       "      require([\"vega-embed\"], displayChart, err => showError(`Error loading script: ${err.message}`));\n",
       "    } else if (typeof vegaEmbed === \"function\") {\n",
       "      displayChart(vegaEmbed);\n",
       "    } else {\n",
       "      loadScript(\"vega\")\n",
       "        .then(() => loadScript(\"vega-lite\"))\n",
       "        .then(() => loadScript(\"vega-embed\"))\n",
       "        .catch(showError)\n",
       "        .then(() => displayChart(vegaEmbed));\n",
       "    }\n",
       "  })({\"config\": {\"view\": {\"width\": 800, \"height\": 450, \"strokeOpacity\": 0}, \"background\": \"#ffffff\", \"title\": {\"anchor\": \"start\", \"font\": \"Benton Gothic Bold, sans\", \"fontColor\": \"#000000\", \"fontSize\": 22, \"fontWeight\": \"normal\"}, \"arc\": {\"fill\": \"#82c6df\"}, \"area\": {\"fill\": \"#82c6df\"}, \"line\": {\"stroke\": \"#82c6df\", \"strokeWidth\": 3}, \"path\": {\"stroke\": \"#82c6df\"}, \"rect\": {\"fill\": \"#82c6df\"}, \"shape\": {\"stroke\": \"#82c6df\"}, \"bar\": {\"fill\": \"#82c6df\"}, \"point\": {\"stroke\": \"#82c6df\"}, \"symbol\": {\"fill\": \"#82c6df\", \"size\": 30}, \"axis\": {\"titleFont\": \"Benton Gothic Bold, sans\", \"titleFontSize\": 13, \"titleFontWeight\": \"normal\", \"labelFont\": \"Benton Gothic, sans\", \"labelFontSize\": 11.5, \"labelFontWeight\": \"normal\"}, \"axisX\": {\"labelAngle\": 0, \"labelPadding\": 4, \"tickSize\": 3}, \"axisY\": {\"labelBaseline\": \"middle\", \"maxExtent\": 45, \"minExtent\": 45, \"tickSize\": 2, \"titleAlign\": \"left\", \"titleAngle\": 0, \"titleX\": -45, \"titleY\": -11}, \"legend\": {\"titleFont\": \"Benton Gothic Bold, sans\", \"titleFontSize\": 13, \"titleFontWeight\": \"normal\", \"symbolType\": \"stroke\", \"labelFont\": \"Benton Gothic, sans\", \"labelFontSize\": 11.5, \"orient\": \"top\"}, \"range\": {\"category\": [\"#3580b1\", \"#ec8431\", \"#ab7fb4\", \"#c89d29\", \"#adc839\", \"#829eb1\"], \"diverging\": [\"#e68a4f\", \"#f4bb6a\", \"#f9e39c\", \"#dadfe2\", \"#a6b7c6\", \"#849eae\"], \"heatmap\": [\"#fbf2c7\", \"#f9e39c\", \"#f8d36e\", \"#f4bb6a\", \"#e68a4f\", \"#d15a40\", \"#ab4232\"], \"ordinal\": [\"#fbf2c7\", \"#f9e39c\", \"#f8d36e\", \"#f4bb6a\", \"#e68a4f\", \"#d15a40\", \"#ab4232\"], \"ramp\": [\"#fbf2c7\", \"#f9e39c\", \"#f8d36e\", \"#f4bb6a\", \"#e68a4f\", \"#d15a40\", \"#ab4232\"]}}, \"data\": {\"name\": \"data-be448633615dfb87798f279fc8b5769f\"}, \"mark\": {\"type\": \"line\", \"size\": 4}, \"encoding\": {\"color\": {\"type\": \"nominal\", \"field\": \"year\", \"title\": \"\"}, \"x\": {\"type\": \"temporal\", \"axis\": {\"format\": \"%b. %-d\", \"grid\": false, \"tickCount\": 4}, \"field\": \"week_ending_date\", \"title\": \"\"}, \"y\": {\"type\": \"quantitative\", \"axis\": {\"domainOpacity\": 0, \"format\": \"\", \"gridColor\": \"#dddddd\", \"gridWidth\": 0.6, \"offset\": 4, \"tickCount\": 4, \"tickSize\": 0}, \"field\": \"count\", \"scale\": {\"domain\": [3000, 6000]}, \"title\": \"\"}}, \"height\": 320, \"title\": \"Historical California deaths vs. 2020\", \"width\": 600, \"$schema\": \"https://vega.github.io/schema/vega-lite/v4.0.2.json\", \"datasets\": {\"data-be448633615dfb87798f279fc8b5769f\": [{\"week\": 10, \"week_ending_date\": \"2020-03-07T00:00:00\", \"year\": \"historical\", \"count\": 5008.0}, {\"week\": 11, \"week_ending_date\": \"2020-03-14T00:00:00\", \"year\": \"historical\", \"count\": 4993.0}, {\"week\": 12, \"week_ending_date\": \"2020-03-21T00:00:00\", \"year\": \"historical\", \"count\": 4811.0}, {\"week\": 13, \"week_ending_date\": \"2020-03-28T00:00:00\", \"year\": \"historical\", \"count\": 4747.0}, {\"week\": 14, \"week_ending_date\": \"2020-04-04T00:00:00\", \"year\": \"historical\", \"count\": 4768.0}, {\"week\": 15, \"week_ending_date\": \"2020-04-11T00:00:00\", \"year\": \"historical\", \"count\": 4676.0}, {\"week\": 10, \"week_ending_date\": \"2020-03-07T00:00:00\", \"year\": \"this_year\", \"count\": 5340.0}, {\"week\": 11, \"week_ending_date\": \"2020-03-14T00:00:00\", \"year\": \"this_year\", \"count\": 5107.0}, {\"week\": 12, \"week_ending_date\": \"2020-03-21T00:00:00\", \"year\": \"this_year\", \"count\": 5302.0}, {\"week\": 13, \"week_ending_date\": \"2020-03-28T00:00:00\", \"year\": \"this_year\", \"count\": 5313.0}, {\"week\": 14, \"week_ending_date\": \"2020-04-04T00:00:00\", \"year\": \"this_year\", \"count\": 5515.0}, {\"week\": 15, \"week_ending_date\": \"2020-04-11T00:00:00\", \"year\": \"this_year\", \"count\": 5249.0}]}}, {\"mode\": \"vega-lite\"});\n",
       "</script>"
      ],
      "text/plain": [
       "alt.Chart(...)"
      ]
     },
     "execution_count": 23,
     "metadata": {},
     "output_type": "execute_result"
    }
   ],
   "source": [
    "alt.Chart(then_now_15_melt).mark_line(size=4).encode(\n",
    "    x=alt.X('week_ending_date:T', title='',axis=alt.Axis(format='%b. %-d', tickCount=4, grid=False)),\n",
    "    y=alt.Y('count', title='', axis=alt.Axis(tickSize=0,domainOpacity=0,\\\n",
    "                                   tickCount=4,offset=4, gridWidth=.6, gridColor='#dddddd', format=''), \\\n",
    "            scale=alt.Scale(domain=(3000,6000))),\n",
    "    color=alt.Color('year', title='')\n",
    ").properties(width=600, height=320,\n",
    "    title='Historical California deaths vs. 2020'\n",
    " ).configure_view(strokeOpacity=0).configure_legend(\n",
    "    orient='top',\n",
    "    symbolType='stroke'\n",
    ")"
   ]
  },
  {
   "cell_type": "code",
   "execution_count": 24,
   "metadata": {},
   "outputs": [
    {
     "data": {
      "text/plain": [
       "29003"
      ]
     },
     "execution_count": 24,
     "metadata": {},
     "output_type": "execute_result"
    }
   ],
   "source": [
    "then_now_15.historical.sum().round(0)"
   ]
  },
  {
   "cell_type": "code",
   "execution_count": 25,
   "metadata": {},
   "outputs": [
    {
     "data": {
      "text/plain": [
       "31826.0"
      ]
     },
     "execution_count": 25,
     "metadata": {},
     "output_type": "execute_result"
    }
   ],
   "source": [
    "then_now_15.this_year.sum().round(0)"
   ]
  },
  {
   "cell_type": "code",
   "execution_count": 26,
   "metadata": {},
   "outputs": [
    {
     "data": {
      "text/plain": [
       "2823.0"
      ]
     },
     "execution_count": 26,
     "metadata": {},
     "output_type": "execute_result"
    }
   ],
   "source": [
    "then_now_15.this_year.sum() - then_now_15.historical.sum()"
   ]
  },
  {
   "cell_type": "code",
   "execution_count": 27,
   "metadata": {},
   "outputs": [
    {
     "data": {
      "text/plain": [
       "9.73"
      ]
     },
     "execution_count": 27,
     "metadata": {},
     "output_type": "execute_result"
    }
   ],
   "source": [
    "(((then_now_15.this_year.sum() - then_now_15.historical.sum()) / then_now_15.historical.sum())*100).round(2)"
   ]
  },
  {
   "cell_type": "code",
   "execution_count": 28,
   "metadata": {},
   "outputs": [],
   "source": [
    "then_now_15['change'] = (((then_now_15['this_year']-then_now_15['historical'])/then_now_15['historical'])*100).round(2)"
   ]
  },
  {
   "cell_type": "code",
   "execution_count": 29,
   "metadata": {},
   "outputs": [
    {
     "data": {
      "text/html": [
       "<div>\n",
       "<style scoped>\n",
       "    .dataframe tbody tr th:only-of-type {\n",
       "        vertical-align: middle;\n",
       "    }\n",
       "\n",
       "    .dataframe tbody tr th {\n",
       "        vertical-align: top;\n",
       "    }\n",
       "\n",
       "    .dataframe thead th {\n",
       "        text-align: right;\n",
       "    }\n",
       "</style>\n",
       "<table border=\"1\" class=\"dataframe\">\n",
       "  <thead>\n",
       "    <tr style=\"text-align: right;\">\n",
       "      <th></th>\n",
       "      <th>week</th>\n",
       "      <th>historical</th>\n",
       "      <th>week_ending_date</th>\n",
       "      <th>this_year</th>\n",
       "      <th>change</th>\n",
       "    </tr>\n",
       "  </thead>\n",
       "  <tbody>\n",
       "    <tr>\n",
       "      <td>9</td>\n",
       "      <td>10</td>\n",
       "      <td>5008</td>\n",
       "      <td>03/07/2020</td>\n",
       "      <td>5340.0</td>\n",
       "      <td>6.63</td>\n",
       "    </tr>\n",
       "    <tr>\n",
       "      <td>10</td>\n",
       "      <td>11</td>\n",
       "      <td>4993</td>\n",
       "      <td>03/14/2020</td>\n",
       "      <td>5107.0</td>\n",
       "      <td>2.28</td>\n",
       "    </tr>\n",
       "    <tr>\n",
       "      <td>11</td>\n",
       "      <td>12</td>\n",
       "      <td>4811</td>\n",
       "      <td>03/21/2020</td>\n",
       "      <td>5302.0</td>\n",
       "      <td>10.21</td>\n",
       "    </tr>\n",
       "    <tr>\n",
       "      <td>12</td>\n",
       "      <td>13</td>\n",
       "      <td>4747</td>\n",
       "      <td>03/28/2020</td>\n",
       "      <td>5313.0</td>\n",
       "      <td>11.92</td>\n",
       "    </tr>\n",
       "    <tr>\n",
       "      <td>13</td>\n",
       "      <td>14</td>\n",
       "      <td>4768</td>\n",
       "      <td>04/04/2020</td>\n",
       "      <td>5515.0</td>\n",
       "      <td>15.67</td>\n",
       "    </tr>\n",
       "    <tr>\n",
       "      <td>14</td>\n",
       "      <td>15</td>\n",
       "      <td>4676</td>\n",
       "      <td>04/11/2020</td>\n",
       "      <td>5249.0</td>\n",
       "      <td>12.25</td>\n",
       "    </tr>\n",
       "  </tbody>\n",
       "</table>\n",
       "</div>"
      ],
      "text/plain": [
       "    week  historical week_ending_date  this_year  change\n",
       "9     10        5008       03/07/2020     5340.0    6.63\n",
       "10    11        4993       03/14/2020     5107.0    2.28\n",
       "11    12        4811       03/21/2020     5302.0   10.21\n",
       "12    13        4747       03/28/2020     5313.0   11.92\n",
       "13    14        4768       04/04/2020     5515.0   15.67\n",
       "14    15        4676       04/11/2020     5249.0   12.25"
      ]
     },
     "execution_count": 29,
     "metadata": {},
     "output_type": "execute_result"
    }
   ],
   "source": [
    "then_now_15.sort_values(by='week', ascending=True)"
   ]
  },
  {
   "cell_type": "markdown",
   "metadata": {},
   "source": [
    "---"
   ]
  },
  {
   "cell_type": "code",
   "execution_count": 30,
   "metadata": {},
   "outputs": [],
   "source": [
    "covid_deaths_counties = pd.read_csv('input/Provisional_COVID-19_Death_Counts_in_the_United_States_by_County.csv')"
   ]
  },
  {
   "cell_type": "code",
   "execution_count": 31,
   "metadata": {},
   "outputs": [],
   "source": [
    "covid_deaths_counties.columns = covid_deaths_counties.columns.str.strip().str.lower().str.replace(' ', '_')\\\n",
    "                    .str.replace('(', '').str.replace(')', '').str.replace('-','_')"
   ]
  },
  {
   "cell_type": "code",
   "execution_count": 32,
   "metadata": {},
   "outputs": [
    {
     "data": {
      "text/html": [
       "<div>\n",
       "<style scoped>\n",
       "    .dataframe tbody tr th:only-of-type {\n",
       "        vertical-align: middle;\n",
       "    }\n",
       "\n",
       "    .dataframe tbody tr th {\n",
       "        vertical-align: top;\n",
       "    }\n",
       "\n",
       "    .dataframe thead th {\n",
       "        text-align: right;\n",
       "    }\n",
       "</style>\n",
       "<table border=\"1\" class=\"dataframe\">\n",
       "  <thead>\n",
       "    <tr style=\"text-align: right;\">\n",
       "      <th></th>\n",
       "      <th>date_as_of</th>\n",
       "      <th>first_week</th>\n",
       "      <th>last_week</th>\n",
       "      <th>state</th>\n",
       "      <th>county_name</th>\n",
       "      <th>fips_county_code</th>\n",
       "      <th>deaths_involving_covid_19</th>\n",
       "      <th>deaths_from_all_causes</th>\n",
       "    </tr>\n",
       "  </thead>\n",
       "  <tbody>\n",
       "    <tr>\n",
       "      <td>0</td>\n",
       "      <td>04/28/2020</td>\n",
       "      <td>02/01/2020</td>\n",
       "      <td>04/25/2020</td>\n",
       "      <td>AL</td>\n",
       "      <td>Etowah County</td>\n",
       "      <td>1055</td>\n",
       "      <td>10</td>\n",
       "      <td>346</td>\n",
       "    </tr>\n",
       "    <tr>\n",
       "      <td>1</td>\n",
       "      <td>04/28/2020</td>\n",
       "      <td>02/01/2020</td>\n",
       "      <td>04/25/2020</td>\n",
       "      <td>AL</td>\n",
       "      <td>Houston County</td>\n",
       "      <td>1069</td>\n",
       "      <td>13</td>\n",
       "      <td>432</td>\n",
       "    </tr>\n",
       "    <tr>\n",
       "      <td>2</td>\n",
       "      <td>04/28/2020</td>\n",
       "      <td>02/01/2020</td>\n",
       "      <td>04/25/2020</td>\n",
       "      <td>AL</td>\n",
       "      <td>Jefferson County</td>\n",
       "      <td>1073</td>\n",
       "      <td>29</td>\n",
       "      <td>2052</td>\n",
       "    </tr>\n",
       "    <tr>\n",
       "      <td>3</td>\n",
       "      <td>04/28/2020</td>\n",
       "      <td>02/01/2020</td>\n",
       "      <td>04/25/2020</td>\n",
       "      <td>AL</td>\n",
       "      <td>Lee County</td>\n",
       "      <td>1081</td>\n",
       "      <td>24</td>\n",
       "      <td>262</td>\n",
       "    </tr>\n",
       "    <tr>\n",
       "      <td>4</td>\n",
       "      <td>04/28/2020</td>\n",
       "      <td>02/01/2020</td>\n",
       "      <td>04/25/2020</td>\n",
       "      <td>AL</td>\n",
       "      <td>Mobile County</td>\n",
       "      <td>1097</td>\n",
       "      <td>27</td>\n",
       "      <td>1103</td>\n",
       "    </tr>\n",
       "  </tbody>\n",
       "</table>\n",
       "</div>"
      ],
      "text/plain": [
       "   date_as_of  first_week   last_week state       county_name  \\\n",
       "0  04/28/2020  02/01/2020  04/25/2020    AL     Etowah County   \n",
       "1  04/28/2020  02/01/2020  04/25/2020    AL    Houston County   \n",
       "2  04/28/2020  02/01/2020  04/25/2020    AL  Jefferson County   \n",
       "3  04/28/2020  02/01/2020  04/25/2020    AL        Lee County   \n",
       "4  04/28/2020  02/01/2020  04/25/2020    AL     Mobile County   \n",
       "\n",
       "   fips_county_code  deaths_involving_covid_19  deaths_from_all_causes  \n",
       "0              1055                         10                     346  \n",
       "1              1069                         13                     432  \n",
       "2              1073                         29                    2052  \n",
       "3              1081                         24                     262  \n",
       "4              1097                         27                    1103  "
      ]
     },
     "execution_count": 32,
     "metadata": {},
     "output_type": "execute_result"
    }
   ],
   "source": [
    "covid_deaths_counties.head()"
   ]
  },
  {
   "cell_type": "code",
   "execution_count": 33,
   "metadata": {},
   "outputs": [],
   "source": [
    "ca_covid_deaths = pd.DataFrame(covid_deaths_counties[covid_deaths_counties['state'] == 'CA'])"
   ]
  },
  {
   "cell_type": "code",
   "execution_count": 34,
   "metadata": {},
   "outputs": [],
   "source": [
    "ca_covid_deaths['covid_pct'] = ((ca_covid_deaths['deaths_involving_covid_19']\\\n",
    "                                /ca_covid_deaths['deaths_from_all_causes'])*100).round(2)"
   ]
  },
  {
   "cell_type": "code",
   "execution_count": 35,
   "metadata": {},
   "outputs": [
    {
     "data": {
      "text/html": [
       "<div>\n",
       "<style scoped>\n",
       "    .dataframe tbody tr th:only-of-type {\n",
       "        vertical-align: middle;\n",
       "    }\n",
       "\n",
       "    .dataframe tbody tr th {\n",
       "        vertical-align: top;\n",
       "    }\n",
       "\n",
       "    .dataframe thead th {\n",
       "        text-align: right;\n",
       "    }\n",
       "</style>\n",
       "<table border=\"1\" class=\"dataframe\">\n",
       "  <thead>\n",
       "    <tr style=\"text-align: right;\">\n",
       "      <th></th>\n",
       "      <th>date_as_of</th>\n",
       "      <th>first_week</th>\n",
       "      <th>last_week</th>\n",
       "      <th>state</th>\n",
       "      <th>county_name</th>\n",
       "      <th>fips_county_code</th>\n",
       "      <th>deaths_involving_covid_19</th>\n",
       "      <th>deaths_from_all_causes</th>\n",
       "      <th>covid_pct</th>\n",
       "    </tr>\n",
       "  </thead>\n",
       "  <tbody>\n",
       "    <tr>\n",
       "      <td>20</td>\n",
       "      <td>04/28/2020</td>\n",
       "      <td>02/01/2020</td>\n",
       "      <td>04/25/2020</td>\n",
       "      <td>CA</td>\n",
       "      <td>San Mateo County</td>\n",
       "      <td>6081</td>\n",
       "      <td>34</td>\n",
       "      <td>1188</td>\n",
       "      <td>2.86</td>\n",
       "    </tr>\n",
       "    <tr>\n",
       "      <td>11</td>\n",
       "      <td>04/28/2020</td>\n",
       "      <td>02/01/2020</td>\n",
       "      <td>04/25/2020</td>\n",
       "      <td>CA</td>\n",
       "      <td>Los Angeles County</td>\n",
       "      <td>6037</td>\n",
       "      <td>459</td>\n",
       "      <td>16747</td>\n",
       "      <td>2.74</td>\n",
       "    </tr>\n",
       "    <tr>\n",
       "      <td>21</td>\n",
       "      <td>04/28/2020</td>\n",
       "      <td>02/01/2020</td>\n",
       "      <td>04/25/2020</td>\n",
       "      <td>CA</td>\n",
       "      <td>Santa Clara County</td>\n",
       "      <td>6085</td>\n",
       "      <td>62</td>\n",
       "      <td>2799</td>\n",
       "      <td>2.22</td>\n",
       "    </tr>\n",
       "    <tr>\n",
       "      <td>22</td>\n",
       "      <td>04/28/2020</td>\n",
       "      <td>02/01/2020</td>\n",
       "      <td>04/25/2020</td>\n",
       "      <td>CA</td>\n",
       "      <td>Tulare County</td>\n",
       "      <td>6107</td>\n",
       "      <td>16</td>\n",
       "      <td>766</td>\n",
       "      <td>2.09</td>\n",
       "    </tr>\n",
       "    <tr>\n",
       "      <td>9</td>\n",
       "      <td>04/28/2020</td>\n",
       "      <td>02/01/2020</td>\n",
       "      <td>04/25/2020</td>\n",
       "      <td>CA</td>\n",
       "      <td>Alameda County</td>\n",
       "      <td>6001</td>\n",
       "      <td>43</td>\n",
       "      <td>2615</td>\n",
       "      <td>1.64</td>\n",
       "    </tr>\n",
       "    <tr>\n",
       "      <td>14</td>\n",
       "      <td>04/28/2020</td>\n",
       "      <td>02/01/2020</td>\n",
       "      <td>04/25/2020</td>\n",
       "      <td>CA</td>\n",
       "      <td>Riverside County</td>\n",
       "      <td>6065</td>\n",
       "      <td>65</td>\n",
       "      <td>4313</td>\n",
       "      <td>1.51</td>\n",
       "    </tr>\n",
       "    <tr>\n",
       "      <td>16</td>\n",
       "      <td>04/28/2020</td>\n",
       "      <td>02/01/2020</td>\n",
       "      <td>04/25/2020</td>\n",
       "      <td>CA</td>\n",
       "      <td>San Bernardino County</td>\n",
       "      <td>6071</td>\n",
       "      <td>52</td>\n",
       "      <td>3492</td>\n",
       "      <td>1.49</td>\n",
       "    </tr>\n",
       "    <tr>\n",
       "      <td>17</td>\n",
       "      <td>04/28/2020</td>\n",
       "      <td>02/01/2020</td>\n",
       "      <td>04/25/2020</td>\n",
       "      <td>CA</td>\n",
       "      <td>San Diego County</td>\n",
       "      <td>6073</td>\n",
       "      <td>81</td>\n",
       "      <td>5637</td>\n",
       "      <td>1.44</td>\n",
       "    </tr>\n",
       "    <tr>\n",
       "      <td>18</td>\n",
       "      <td>04/28/2020</td>\n",
       "      <td>02/01/2020</td>\n",
       "      <td>04/25/2020</td>\n",
       "      <td>CA</td>\n",
       "      <td>San Francisco County</td>\n",
       "      <td>6075</td>\n",
       "      <td>20</td>\n",
       "      <td>1499</td>\n",
       "      <td>1.33</td>\n",
       "    </tr>\n",
       "    <tr>\n",
       "      <td>13</td>\n",
       "      <td>04/28/2020</td>\n",
       "      <td>02/01/2020</td>\n",
       "      <td>04/25/2020</td>\n",
       "      <td>CA</td>\n",
       "      <td>Placer County</td>\n",
       "      <td>6061</td>\n",
       "      <td>12</td>\n",
       "      <td>968</td>\n",
       "      <td>1.24</td>\n",
       "    </tr>\n",
       "    <tr>\n",
       "      <td>23</td>\n",
       "      <td>04/28/2020</td>\n",
       "      <td>02/01/2020</td>\n",
       "      <td>04/25/2020</td>\n",
       "      <td>CA</td>\n",
       "      <td>Ventura County</td>\n",
       "      <td>6111</td>\n",
       "      <td>16</td>\n",
       "      <td>1429</td>\n",
       "      <td>1.12</td>\n",
       "    </tr>\n",
       "    <tr>\n",
       "      <td>19</td>\n",
       "      <td>04/28/2020</td>\n",
       "      <td>02/01/2020</td>\n",
       "      <td>04/25/2020</td>\n",
       "      <td>CA</td>\n",
       "      <td>San Joaquin County</td>\n",
       "      <td>6077</td>\n",
       "      <td>13</td>\n",
       "      <td>1317</td>\n",
       "      <td>0.99</td>\n",
       "    </tr>\n",
       "    <tr>\n",
       "      <td>15</td>\n",
       "      <td>04/28/2020</td>\n",
       "      <td>02/01/2020</td>\n",
       "      <td>04/25/2020</td>\n",
       "      <td>CA</td>\n",
       "      <td>Sacramento County</td>\n",
       "      <td>6067</td>\n",
       "      <td>28</td>\n",
       "      <td>2954</td>\n",
       "      <td>0.95</td>\n",
       "    </tr>\n",
       "    <tr>\n",
       "      <td>10</td>\n",
       "      <td>04/28/2020</td>\n",
       "      <td>02/01/2020</td>\n",
       "      <td>04/25/2020</td>\n",
       "      <td>CA</td>\n",
       "      <td>Contra Costa County</td>\n",
       "      <td>6013</td>\n",
       "      <td>19</td>\n",
       "      <td>2028</td>\n",
       "      <td>0.94</td>\n",
       "    </tr>\n",
       "    <tr>\n",
       "      <td>12</td>\n",
       "      <td>04/28/2020</td>\n",
       "      <td>02/01/2020</td>\n",
       "      <td>04/25/2020</td>\n",
       "      <td>CA</td>\n",
       "      <td>Orange County</td>\n",
       "      <td>6059</td>\n",
       "      <td>30</td>\n",
       "      <td>5092</td>\n",
       "      <td>0.59</td>\n",
       "    </tr>\n",
       "  </tbody>\n",
       "</table>\n",
       "</div>"
      ],
      "text/plain": [
       "    date_as_of  first_week   last_week state            county_name  \\\n",
       "20  04/28/2020  02/01/2020  04/25/2020    CA       San Mateo County   \n",
       "11  04/28/2020  02/01/2020  04/25/2020    CA     Los Angeles County   \n",
       "21  04/28/2020  02/01/2020  04/25/2020    CA     Santa Clara County   \n",
       "22  04/28/2020  02/01/2020  04/25/2020    CA          Tulare County   \n",
       "9   04/28/2020  02/01/2020  04/25/2020    CA         Alameda County   \n",
       "14  04/28/2020  02/01/2020  04/25/2020    CA       Riverside County   \n",
       "16  04/28/2020  02/01/2020  04/25/2020    CA  San Bernardino County   \n",
       "17  04/28/2020  02/01/2020  04/25/2020    CA       San Diego County   \n",
       "18  04/28/2020  02/01/2020  04/25/2020    CA   San Francisco County   \n",
       "13  04/28/2020  02/01/2020  04/25/2020    CA          Placer County   \n",
       "23  04/28/2020  02/01/2020  04/25/2020    CA         Ventura County   \n",
       "19  04/28/2020  02/01/2020  04/25/2020    CA     San Joaquin County   \n",
       "15  04/28/2020  02/01/2020  04/25/2020    CA      Sacramento County   \n",
       "10  04/28/2020  02/01/2020  04/25/2020    CA    Contra Costa County   \n",
       "12  04/28/2020  02/01/2020  04/25/2020    CA          Orange County   \n",
       "\n",
       "    fips_county_code  deaths_involving_covid_19  deaths_from_all_causes  \\\n",
       "20              6081                         34                    1188   \n",
       "11              6037                        459                   16747   \n",
       "21              6085                         62                    2799   \n",
       "22              6107                         16                     766   \n",
       "9               6001                         43                    2615   \n",
       "14              6065                         65                    4313   \n",
       "16              6071                         52                    3492   \n",
       "17              6073                         81                    5637   \n",
       "18              6075                         20                    1499   \n",
       "13              6061                         12                     968   \n",
       "23              6111                         16                    1429   \n",
       "19              6077                         13                    1317   \n",
       "15              6067                         28                    2954   \n",
       "10              6013                         19                    2028   \n",
       "12              6059                         30                    5092   \n",
       "\n",
       "    covid_pct  \n",
       "20       2.86  \n",
       "11       2.74  \n",
       "21       2.22  \n",
       "22       2.09  \n",
       "9        1.64  \n",
       "14       1.51  \n",
       "16       1.49  \n",
       "17       1.44  \n",
       "18       1.33  \n",
       "13       1.24  \n",
       "23       1.12  \n",
       "19       0.99  \n",
       "15       0.95  \n",
       "10       0.94  \n",
       "12       0.59  "
      ]
     },
     "execution_count": 35,
     "metadata": {},
     "output_type": "execute_result"
    }
   ],
   "source": [
    "ca_covid_deaths.sort_values(by='covid_pct', ascending=False)"
   ]
  },
  {
   "cell_type": "code",
   "execution_count": 36,
   "metadata": {},
   "outputs": [
    {
     "data": {
      "text/plain": [
       "950"
      ]
     },
     "execution_count": 36,
     "metadata": {},
     "output_type": "execute_result"
    }
   ],
   "source": [
    "ca_covid_deaths.deaths_involving_covid_19.sum()"
   ]
  },
  {
   "cell_type": "code",
   "execution_count": null,
   "metadata": {},
   "outputs": [],
   "source": []
  }
 ],
 "metadata": {
  "kernelspec": {
   "display_name": "Python 3",
   "language": "python",
   "name": "python3"
  },
  "language_info": {
   "codemirror_mode": {
    "name": "ipython",
    "version": 3
   },
   "file_extension": ".py",
   "mimetype": "text/x-python",
   "name": "python",
   "nbconvert_exporter": "python",
   "pygments_lexer": "ipython3",
   "version": "3.7.4"
  }
 },
 "nbformat": 4,
 "nbformat_minor": 2
}
