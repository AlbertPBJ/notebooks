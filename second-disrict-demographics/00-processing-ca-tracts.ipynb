{
 "cells": [
  {
   "cell_type": "markdown",
   "metadata": {},
   "source": [
    "# 2nd District Demographics"
   ]
  },
  {
   "cell_type": "code",
   "execution_count": 1,
   "metadata": {},
   "outputs": [],
   "source": [
    "import pandas as pd\n",
    "import geopandas as gpd\n",
    "from urllib.request import urlopen \n",
    "import pyarrow\n",
    "import jenkspy\n",
    "import matplotlib.pyplot as plt\n",
    "%matplotlib inline\n",
    "import json\n",
    "import numpy as np\n",
    "from altair import datum\n",
    "import altair as alt\n",
    "import altair_latimes as lat\n",
    "import math "
   ]
  },
  {
   "cell_type": "code",
   "execution_count": 2,
   "metadata": {},
   "outputs": [],
   "source": [
    "# for y in range(2009,2018):\n",
    "#     !censusdatadownloader --data-dir input --year {y} race tracts"
   ]
  },
  {
   "cell_type": "code",
   "execution_count": 3,
   "metadata": {},
   "outputs": [],
   "source": [
    "# !censusdatadownloader --data-dir input --year 2011 race tracts\n",
    "# !censusdatadownloader --data-dir input --year 2018 race tracts"
   ]
  },
  {
   "cell_type": "code",
   "execution_count": 4,
   "metadata": {},
   "outputs": [],
   "source": [
    "tracts2017 = pd.read_csv('input/processed/acs5_2017_race_tracts.csv', low_memory=False, \n",
    "    dtype={'geoid': 'str','name':'object','universe':'int','universe_moe':'int','white_alone':'int',\\\n",
    "           'white_alone_moe':'float','black_alone':'int','black_alone_moe':'float',\\\n",
    "           'american_indian_and_alaska_native':'int','american_indian_and_alaska_native_moe':'float',\\\n",
    "           'asian_alone':'int','asian_alone_moe':'float','native_hawaiian_and_pacific_islander':'int',\\\n",
    "           'native_hawaiian_and_pacific_islander_moe':'float','other_alone':'int','other_alone_moe':'float',\\\n",
    "           'two_or_more_races':'int','two_or_more_races_moe':'float','latino_alone':'int',\\\n",
    "           'latino_alone_moe':'float','county':'object','state':'object','tract':'object',\n",
    "          },\n",
    "    usecols=['name','geoid','county','state','tract','universe','white_alone','black_alone',\\\n",
    "             'asian_alone','latino_alone', 'white_alone_moe','black_alone_moe',\\\n",
    "             'asian_alone_moe','latino_alone_moe',])\\\n",
    "        .dropna(axis='columns')"
   ]
  },
  {
   "cell_type": "code",
   "execution_count": null,
   "metadata": {},
   "outputs": [],
   "source": []
  },
  {
   "cell_type": "code",
   "execution_count": 5,
   "metadata": {},
   "outputs": [],
   "source": [
    "tracts2017['white_pct'] = ((tracts2017['white_alone']/tracts2017['universe'])*100).round(3)\n",
    "tracts2017['black_pct'] = ((tracts2017['black_alone']/tracts2017['universe'])*100).round(3)\n",
    "tracts2017['asian_pct'] = ((tracts2017['asian_alone']/tracts2017['universe'])*100).round(3)\n",
    "tracts2017['latino_pct'] = ((tracts2017['latino_alone']/tracts2017['universe'])*100).round(3)"
   ]
  },
  {
   "cell_type": "code",
   "execution_count": 6,
   "metadata": {},
   "outputs": [],
   "source": [
    "tracts2017[['tract_display', 'place_name', 'state_name']] = tracts2017['name'].str.split(', ', n=2, expand=True)"
   ]
  },
  {
   "cell_type": "code",
   "execution_count": 7,
   "metadata": {},
   "outputs": [],
   "source": [
    "tracts17 = tracts2017[['geoid','tract','state', 'county', 'place_name', 'state_name',\\\n",
    "                       'universe','white_alone','white_pct','black_alone','black_pct',\\\n",
    "                       'asian_alone','asian_pct','latino_alone','latino_pct',\\\n",
    "                       'white_alone_moe','black_alone_moe','asian_alone_moe','latino_alone_moe']]"
   ]
  },
  {
   "cell_type": "code",
   "execution_count": 8,
   "metadata": {},
   "outputs": [
    {
     "data": {
      "text/plain": [
       "geoid                  01071951100\n",
       "tract                       951100\n",
       "state                           01\n",
       "county                         071\n",
       "place_name          Jackson County\n",
       "state_name                 Alabama\n",
       "universe                      6993\n",
       "white_alone                   6446\n",
       "white_pct                   92.178\n",
       "black_alone                     55\n",
       "black_pct                    0.787\n",
       "asian_alone                     33\n",
       "asian_pct                    0.472\n",
       "latino_alone                    69\n",
       "latino_pct                   0.987\n",
       "white_alone_moe                692\n",
       "black_alone_moe                 49\n",
       "asian_alone_moe                 40\n",
       "latino_alone_moe                84\n",
       "Name: 0, dtype: object"
      ]
     },
     "execution_count": 8,
     "metadata": {},
     "output_type": "execute_result"
    }
   ],
   "source": [
    "tracts17.loc[0]"
   ]
  },
  {
   "cell_type": "markdown",
   "metadata": {},
   "source": [
    "---"
   ]
  },
  {
   "cell_type": "code",
   "execution_count": 9,
   "metadata": {},
   "outputs": [],
   "source": [
    "tracts2010 = pd.read_csv('input/processed/acs5_2010_race_tracts.csv', low_memory=False, \n",
    "    dtype={'geoid': 'str','name':'object','universe':'int','universe_moe':'int','white_alone':'int',\\\n",
    "           'white_alone_moe':'float','black_alone':'int','black_alone_moe':'float',\\\n",
    "           'american_indian_and_alaska_native':'int','american_indian_and_alaska_native_moe':'float',\\\n",
    "           'asian_alone':'int','asian_alone_moe':'float','native_hawaiian_and_pacific_islander':'int',\\\n",
    "           'native_hawaiian_and_pacific_islander_moe':'float','other_alone':'int','other_alone_moe':'float',\\\n",
    "           'two_or_more_races':'int','two_or_more_races_moe':'float','latino_alone':'int',\\\n",
    "           'latino_alone_moe':'float','county':'object','state':'object','tract':'object',\n",
    "          },\n",
    "    usecols=['name','geoid','county','state','tract','universe','white_alone','black_alone',\\\n",
    "             'asian_alone','latino_alone', 'white_alone_moe','black_alone_moe',\\\n",
    "             'asian_alone_moe','latino_alone_moe',])\\\n",
    "        .dropna(axis='columns')"
   ]
  },
  {
   "cell_type": "code",
   "execution_count": 10,
   "metadata": {},
   "outputs": [],
   "source": [
    "tracts2010['white_pct'] = ((tracts2010['white_alone']/tracts2010['universe'])*100).round(3)\n",
    "tracts2010['black_pct'] = ((tracts2010['black_alone']/tracts2010['universe'])*100).round(3)\n",
    "tracts2010['asian_pct'] = ((tracts2010['asian_alone']/tracts2010['universe'])*100).round(3)\n",
    "tracts2010['latino_pct'] = ((tracts2010['latino_alone']/tracts2010['universe'])*100).round(3)"
   ]
  },
  {
   "cell_type": "code",
   "execution_count": 11,
   "metadata": {},
   "outputs": [],
   "source": [
    "tracts2010[['tract_display', 'place_name', 'state_name']] = tracts2010['name'].str.split(', ', n=2, expand=True)"
   ]
  },
  {
   "cell_type": "code",
   "execution_count": 12,
   "metadata": {},
   "outputs": [],
   "source": [
    "tracts10 = tracts2010[['geoid','tract','state', 'county', 'place_name', 'state_name',\\\n",
    "                       'universe','white_alone','white_pct','black_alone','black_pct',\\\n",
    "                       'asian_alone','asian_pct','latino_alone','latino_pct',\\\n",
    "                       'white_alone_moe','black_alone_moe','asian_alone_moe','latino_alone_moe']]"
   ]
  },
  {
   "cell_type": "code",
   "execution_count": 13,
   "metadata": {},
   "outputs": [
    {
     "data": {
      "text/plain": [
       "geoid                 01097002900\n",
       "tract                      002900\n",
       "state                          01\n",
       "county                        097\n",
       "place_name          Mobile County\n",
       "state_name                Alabama\n",
       "universe                     3622\n",
       "white_alone                  1813\n",
       "white_pct                  50.055\n",
       "black_alone                  1513\n",
       "black_pct                  41.773\n",
       "asian_alone                     0\n",
       "asian_pct                       0\n",
       "latino_alone                  215\n",
       "latino_pct                  5.936\n",
       "white_alone_moe               280\n",
       "black_alone_moe               379\n",
       "asian_alone_moe               119\n",
       "latino_alone_moe              175\n",
       "Name: 0, dtype: object"
      ]
     },
     "execution_count": 13,
     "metadata": {},
     "output_type": "execute_result"
    }
   ],
   "source": [
    "tracts10.loc[0]"
   ]
  },
  {
   "cell_type": "markdown",
   "metadata": {},
   "source": [
    "---"
   ]
  },
  {
   "cell_type": "code",
   "execution_count": 14,
   "metadata": {},
   "outputs": [],
   "source": [
    "tracts10ca = tracts10[tracts10.state_name == 'California']\n",
    "tracts17ca = tracts17[tracts17.state_name == 'California']"
   ]
  },
  {
   "cell_type": "code",
   "execution_count": 15,
   "metadata": {},
   "outputs": [],
   "source": [
    "tracts10la = tracts10[tracts10.place_name == 'Los Angeles County']\n",
    "tracts17la = tracts17[tracts17.place_name == 'Los Angeles County']"
   ]
  },
  {
   "cell_type": "code",
   "execution_count": 16,
   "metadata": {},
   "outputs": [
    {
     "data": {
      "text/plain": [
       "8057"
      ]
     },
     "execution_count": 16,
     "metadata": {},
     "output_type": "execute_result"
    }
   ],
   "source": [
    "# There should be 8,057 in CA, and 2,346 in LA\n",
    "len(tracts17ca)"
   ]
  },
  {
   "cell_type": "code",
   "execution_count": 17,
   "metadata": {},
   "outputs": [
    {
     "data": {
      "text/plain": [
       "2346"
      ]
     },
     "execution_count": 17,
     "metadata": {},
     "output_type": "execute_result"
    }
   ],
   "source": [
    "# There should be 8,057 in CA, and 2,346 in LA\n",
    "len(tracts10la)"
   ]
  },
  {
   "cell_type": "code",
   "execution_count": 18,
   "metadata": {},
   "outputs": [],
   "source": [
    "tracts10la.to_csv('output/tracts10la.csv')\n",
    "tracts17la.to_csv('output/tracts17la.csv')"
   ]
  },
  {
   "cell_type": "code",
   "execution_count": 19,
   "metadata": {},
   "outputs": [],
   "source": [
    "tracts10ca.to_csv('output/tracts10ca.csv')\n",
    "tracts17ca.to_csv('output/tracts17ca.csv')"
   ]
  },
  {
   "cell_type": "markdown",
   "metadata": {},
   "source": [
    "---"
   ]
  },
  {
   "cell_type": "markdown",
   "metadata": {},
   "source": [
    "### Merge different years in L.A."
   ]
  },
  {
   "cell_type": "code",
   "execution_count": 20,
   "metadata": {},
   "outputs": [],
   "source": [
    "merged = tracts10ca.merge(tracts17ca, on='geoid')"
   ]
  },
  {
   "cell_type": "code",
   "execution_count": 21,
   "metadata": {},
   "outputs": [],
   "source": [
    "merged.columns = ['geoid', 'tract10', 'state10', 'county10', 'place_name10',\n",
    "       'state_name10', 'universe10', 'white_alone10', 'white_pct10',\n",
    "       'black_alone10', 'black_pct10', 'asian_alone10', 'asian_pct10',\n",
    "       'latino_alone10', 'latino_pct10', 'white_alone_moe_10',\n",
    "       'black_alone_moe_10', 'asian_alone_moe_10', 'latino_alone_moe_10',\n",
    "        'tract17', 'state17', 'county17', 'place_name17', 'state_name17', 'universe17', 'white_alone17',\n",
    "       'white_pct17', 'black_alone17', 'black_pct17', 'asian_alone17',\n",
    "       'asian_pct17', 'latino_alone17', 'latino_pct17','white_alone_moe_17', 'black_alone_moe_17',\n",
    "       'asian_alone_moe_17', 'latino_alone_moe_17']"
   ]
  },
  {
   "cell_type": "code",
   "execution_count": 22,
   "metadata": {},
   "outputs": [],
   "source": [
    "merged['black_change'] = ((( merged['black_alone17']-merged['black_alone10'] ) \\\n",
    "                           / merged['black_alone10'])*100).round(2)\\\n",
    "                            .replace([np.inf, -np.inf], np.nan).fillna('0').astype(int)"
   ]
  },
  {
   "cell_type": "code",
   "execution_count": 23,
   "metadata": {},
   "outputs": [],
   "source": [
    "merged['white_change'] = ((( merged['white_alone17']-merged['white_alone10'] ) \\\n",
    "                           / merged['white_alone10'])*100).round(2)\\\n",
    "                            .replace([np.inf, -np.inf], np.nan).fillna('0').astype(int)"
   ]
  },
  {
   "cell_type": "code",
   "execution_count": 24,
   "metadata": {},
   "outputs": [],
   "source": [
    "merged['latino_change'] = ((( merged['latino_alone17']-merged['latino_alone10'] ) \\\n",
    "                           / merged['latino_alone10'])*100).round(2)\\\n",
    "                            .replace([np.inf, -np.inf], np.nan).fillna('0').astype(int)"
   ]
  },
  {
   "cell_type": "code",
   "execution_count": 25,
   "metadata": {},
   "outputs": [],
   "source": [
    "merged['asian_change'] = ((( merged['asian_alone17']-merged['asian_alone10'] ) \\\n",
    "                           / merged['asian_alone10'])*100).round(2)\\\n",
    "                            .replace([np.inf, -np.inf], np.nan).fillna('0').astype(int)"
   ]
  },
  {
   "cell_type": "code",
   "execution_count": 26,
   "metadata": {},
   "outputs": [
    {
     "data": {
      "text/plain": [
       "geoid                   object\n",
       "tract10                 object\n",
       "state10                 object\n",
       "county10                object\n",
       "place_name10            object\n",
       "state_name10            object\n",
       "universe10               int64\n",
       "white_alone10            int64\n",
       "white_pct10            float64\n",
       "black_alone10            int64\n",
       "black_pct10            float64\n",
       "asian_alone10            int64\n",
       "asian_pct10            float64\n",
       "latino_alone10           int64\n",
       "latino_pct10           float64\n",
       "white_alone_moe_10     float64\n",
       "black_alone_moe_10     float64\n",
       "asian_alone_moe_10     float64\n",
       "latino_alone_moe_10    float64\n",
       "tract17                 object\n",
       "state17                 object\n",
       "county17                object\n",
       "place_name17            object\n",
       "state_name17            object\n",
       "universe17               int64\n",
       "white_alone17            int64\n",
       "white_pct17            float64\n",
       "black_alone17            int64\n",
       "black_pct17            float64\n",
       "asian_alone17            int64\n",
       "asian_pct17            float64\n",
       "latino_alone17           int64\n",
       "latino_pct17           float64\n",
       "white_alone_moe_17     float64\n",
       "black_alone_moe_17     float64\n",
       "asian_alone_moe_17     float64\n",
       "latino_alone_moe_17    float64\n",
       "black_change             int64\n",
       "white_change             int64\n",
       "latino_change            int64\n",
       "asian_change             int64\n",
       "dtype: object"
      ]
     },
     "execution_count": 26,
     "metadata": {},
     "output_type": "execute_result"
    }
   ],
   "source": [
    "merged.dtypes"
   ]
  },
  {
   "cell_type": "code",
   "execution_count": 27,
   "metadata": {},
   "outputs": [],
   "source": [
    "merged['black_significant'] = (abs( merged.black_alone17 - merged.black_alone10) \\\n",
    "                               / np.sqrt(pow(merged.black_alone_moe_17, 2) \\\n",
    "                                           + pow(merged.black_alone_moe_10, 2))) > 1"
   ]
  },
  {
   "cell_type": "code",
   "execution_count": 28,
   "metadata": {},
   "outputs": [
    {
     "data": {
      "text/plain": [
       "8056"
      ]
     },
     "execution_count": 28,
     "metadata": {},
     "output_type": "execute_result"
    }
   ],
   "source": [
    "len(merged)"
   ]
  },
  {
   "cell_type": "markdown",
   "metadata": {},
   "source": [
    "---"
   ]
  },
  {
   "cell_type": "markdown",
   "metadata": {},
   "source": [
    "## Geography"
   ]
  },
  {
   "cell_type": "code",
   "execution_count": 29,
   "metadata": {},
   "outputs": [],
   "source": [
    "second_district = gpd.read_file('input/district-two.geojson')"
   ]
  },
  {
   "cell_type": "code",
   "execution_count": 30,
   "metadata": {},
   "outputs": [
    {
     "data": {
      "text/plain": [
       "<matplotlib.axes._subplots.AxesSubplot at 0x13515d9b0>"
      ]
     },
     "execution_count": 30,
     "metadata": {},
     "output_type": "execute_result"
    },
    {
     "data": {
      "image/png": "[encoded data removed]",
      "text/plain": [
       "<Figure size 432x288 with 1 Axes>"
      ]
     },
     "metadata": {
      "needs_background": "light"
     },
     "output_type": "display_data"
    }
   ],
   "source": [
    "second_district.plot()"
   ]
  },
  {
   "cell_type": "code",
   "execution_count": 31,
   "metadata": {},
   "outputs": [],
   "source": [
    "tracts_geo_2010 = gpd.read_file('input/la_county_gis_2010_tracts_demographics.geojson')"
   ]
  },
  {
   "cell_type": "code",
   "execution_count": 32,
   "metadata": {},
   "outputs": [],
   "source": [
    "tracts_geo_all = tracts_geo_2010.rename(columns={\"CT10\": \"tract\"})"
   ]
  },
  {
   "cell_type": "code",
   "execution_count": 33,
   "metadata": {},
   "outputs": [],
   "source": [
    "tracts = gpd.GeoDataFrame(tracts_geo_all[['tract','geometry']])"
   ]
  },
  {
   "cell_type": "code",
   "execution_count": 34,
   "metadata": {},
   "outputs": [
    {
     "data": {
      "text/html": [
       "<div>\n",
       "<style scoped>\n",
       "    .dataframe tbody tr th:only-of-type {\n",
       "        vertical-align: middle;\n",
       "    }\n",
       "\n",
       "    .dataframe tbody tr th {\n",
       "        vertical-align: top;\n",
       "    }\n",
       "\n",
       "    .dataframe thead th {\n",
       "        text-align: right;\n",
       "    }\n",
       "</style>\n",
       "<table border=\"1\" class=\"dataframe\">\n",
       "  <thead>\n",
       "    <tr style=\"text-align: right;\">\n",
       "      <th></th>\n",
       "      <th>tract</th>\n",
       "      <th>geometry</th>\n",
       "    </tr>\n",
       "  </thead>\n",
       "  <tbody>\n",
       "    <tr>\n",
       "      <th>0</th>\n",
       "      <td>911001</td>\n",
       "      <td>POLYGON ((-117.6671332452937 34.55801308359693...</td>\n",
       "    </tr>\n",
       "    <tr>\n",
       "      <th>1</th>\n",
       "      <td>576301</td>\n",
       "      <td>POLYGON ((-118.1850281556962 33.78260182938705...</td>\n",
       "    </tr>\n",
       "    <tr>\n",
       "      <th>2</th>\n",
       "      <td>670500</td>\n",
       "      <td>POLYGON ((-118.3327911797125 33.77182581960497...</td>\n",
       "    </tr>\n",
       "    <tr>\n",
       "      <th>3</th>\n",
       "      <td>651302</td>\n",
       "      <td>POLYGON ((-118.3544121862991 33.80635582293712...</td>\n",
       "    </tr>\n",
       "    <tr>\n",
       "      <th>4</th>\n",
       "      <td>575402</td>\n",
       "      <td>POLYGON ((-118.1893761568088 33.78986182983371...</td>\n",
       "    </tr>\n",
       "  </tbody>\n",
       "</table>\n",
       "</div>"
      ],
      "text/plain": [
       "    tract                                           geometry\n",
       "0  911001  POLYGON ((-117.6671332452937 34.55801308359693...\n",
       "1  576301  POLYGON ((-118.1850281556962 33.78260182938705...\n",
       "2  670500  POLYGON ((-118.3327911797125 33.77182581960497...\n",
       "3  651302  POLYGON ((-118.3544121862991 33.80635582293712...\n",
       "4  575402  POLYGON ((-118.1893761568088 33.78986182983371..."
      ]
     },
     "execution_count": 34,
     "metadata": {},
     "output_type": "execute_result"
    }
   ],
   "source": [
    "tracts.head()"
   ]
  },
  {
   "cell_type": "code",
   "execution_count": 35,
   "metadata": {},
   "outputs": [],
   "source": [
    "tracts_change = tracts.merge(merged, left_on='tract', right_on='tract10')"
   ]
  },
  {
   "cell_type": "code",
   "execution_count": 36,
   "metadata": {},
   "outputs": [],
   "source": [
    "tracts_change.crs = {'init':'epsg:4326'}"
   ]
  },
  {
   "cell_type": "code",
   "execution_count": 37,
   "metadata": {},
   "outputs": [
    {
     "data": {
      "text/html": [
       "<div>\n",
       "<style scoped>\n",
       "    .dataframe tbody tr th:only-of-type {\n",
       "        vertical-align: middle;\n",
       "    }\n",
       "\n",
       "    .dataframe tbody tr th {\n",
       "        vertical-align: top;\n",
       "    }\n",
       "\n",
       "    .dataframe thead th {\n",
       "        text-align: right;\n",
       "    }\n",
       "</style>\n",
       "<table border=\"1\" class=\"dataframe\">\n",
       "  <thead>\n",
       "    <tr style=\"text-align: right;\">\n",
       "      <th></th>\n",
       "      <th>tract</th>\n",
       "      <th>geometry</th>\n",
       "      <th>geoid</th>\n",
       "      <th>tract10</th>\n",
       "      <th>state10</th>\n",
       "      <th>county10</th>\n",
       "      <th>place_name10</th>\n",
       "      <th>state_name10</th>\n",
       "      <th>universe10</th>\n",
       "      <th>white_alone10</th>\n",
       "      <th>...</th>\n",
       "      <th>latino_pct17</th>\n",
       "      <th>white_alone_moe_17</th>\n",
       "      <th>black_alone_moe_17</th>\n",
       "      <th>asian_alone_moe_17</th>\n",
       "      <th>latino_alone_moe_17</th>\n",
       "      <th>black_change</th>\n",
       "      <th>white_change</th>\n",
       "      <th>latino_change</th>\n",
       "      <th>asian_change</th>\n",
       "      <th>black_significant</th>\n",
       "    </tr>\n",
       "  </thead>\n",
       "  <tbody>\n",
       "    <tr>\n",
       "      <th>0</th>\n",
       "      <td>911001</td>\n",
       "      <td>POLYGON ((-117.6671332452937 34.55801308359693...</td>\n",
       "      <td>06037911001</td>\n",
       "      <td>911001</td>\n",
       "      <td>06</td>\n",
       "      <td>037</td>\n",
       "      <td>Los Angeles County</td>\n",
       "      <td>California</td>\n",
       "      <td>3978</td>\n",
       "      <td>2590</td>\n",
       "      <td>...</td>\n",
       "      <td>40.401</td>\n",
       "      <td>318.0</td>\n",
       "      <td>203.0</td>\n",
       "      <td>16.0</td>\n",
       "      <td>582.0</td>\n",
       "      <td>43</td>\n",
       "      <td>-21</td>\n",
       "      <td>68</td>\n",
       "      <td>-85</td>\n",
       "      <td>False</td>\n",
       "    </tr>\n",
       "    <tr>\n",
       "      <th>1</th>\n",
       "      <td>576301</td>\n",
       "      <td>POLYGON ((-118.1850281556962 33.78260182938705...</td>\n",
       "      <td>06037576301</td>\n",
       "      <td>576301</td>\n",
       "      <td>06</td>\n",
       "      <td>037</td>\n",
       "      <td>Los Angeles County</td>\n",
       "      <td>California</td>\n",
       "      <td>3912</td>\n",
       "      <td>562</td>\n",
       "      <td>...</td>\n",
       "      <td>50.487</td>\n",
       "      <td>144.0</td>\n",
       "      <td>206.0</td>\n",
       "      <td>193.0</td>\n",
       "      <td>235.0</td>\n",
       "      <td>14</td>\n",
       "      <td>-7</td>\n",
       "      <td>-10</td>\n",
       "      <td>61</td>\n",
       "      <td>False</td>\n",
       "    </tr>\n",
       "    <tr>\n",
       "      <th>2</th>\n",
       "      <td>670500</td>\n",
       "      <td>POLYGON ((-118.3327911797125 33.77182581960497...</td>\n",
       "      <td>06037670500</td>\n",
       "      <td>670500</td>\n",
       "      <td>06</td>\n",
       "      <td>037</td>\n",
       "      <td>Los Angeles County</td>\n",
       "      <td>California</td>\n",
       "      <td>1808</td>\n",
       "      <td>1218</td>\n",
       "      <td>...</td>\n",
       "      <td>6.295</td>\n",
       "      <td>138.0</td>\n",
       "      <td>11.0</td>\n",
       "      <td>56.0</td>\n",
       "      <td>62.0</td>\n",
       "      <td>-35</td>\n",
       "      <td>0</td>\n",
       "      <td>-17</td>\n",
       "      <td>-27</td>\n",
       "      <td>False</td>\n",
       "    </tr>\n",
       "    <tr>\n",
       "      <th>3</th>\n",
       "      <td>651302</td>\n",
       "      <td>POLYGON ((-118.3544121862991 33.80635582293712...</td>\n",
       "      <td>06037651302</td>\n",
       "      <td>651302</td>\n",
       "      <td>06</td>\n",
       "      <td>037</td>\n",
       "      <td>Los Angeles County</td>\n",
       "      <td>California</td>\n",
       "      <td>6049</td>\n",
       "      <td>4132</td>\n",
       "      <td>...</td>\n",
       "      <td>12.024</td>\n",
       "      <td>384.0</td>\n",
       "      <td>6.0</td>\n",
       "      <td>155.0</td>\n",
       "      <td>199.0</td>\n",
       "      <td>0</td>\n",
       "      <td>3</td>\n",
       "      <td>-14</td>\n",
       "      <td>-19</td>\n",
       "      <td>False</td>\n",
       "    </tr>\n",
       "    <tr>\n",
       "      <th>4</th>\n",
       "      <td>575402</td>\n",
       "      <td>POLYGON ((-118.1893761568088 33.78986182983371...</td>\n",
       "      <td>06037575402</td>\n",
       "      <td>575402</td>\n",
       "      <td>06</td>\n",
       "      <td>037</td>\n",
       "      <td>Los Angeles County</td>\n",
       "      <td>California</td>\n",
       "      <td>3448</td>\n",
       "      <td>156</td>\n",
       "      <td>...</td>\n",
       "      <td>83.529</td>\n",
       "      <td>131.0</td>\n",
       "      <td>102.0</td>\n",
       "      <td>92.0</td>\n",
       "      <td>307.0</td>\n",
       "      <td>-48</td>\n",
       "      <td>14</td>\n",
       "      <td>35</td>\n",
       "      <td>52</td>\n",
       "      <td>True</td>\n",
       "    </tr>\n",
       "  </tbody>\n",
       "</table>\n",
       "<p>5 rows × 44 columns</p>\n",
       "</div>"
      ],
      "text/plain": [
       "    tract                                           geometry        geoid  \\\n",
       "0  911001  POLYGON ((-117.6671332452937 34.55801308359693...  06037911001   \n",
       "1  576301  POLYGON ((-118.1850281556962 33.78260182938705...  06037576301   \n",
       "2  670500  POLYGON ((-118.3327911797125 33.77182581960497...  06037670500   \n",
       "3  651302  POLYGON ((-118.3544121862991 33.80635582293712...  06037651302   \n",
       "4  575402  POLYGON ((-118.1893761568088 33.78986182983371...  06037575402   \n",
       "\n",
       "  tract10 state10 county10        place_name10 state_name10  universe10  \\\n",
       "0  911001      06      037  Los Angeles County   California        3978   \n",
       "1  576301      06      037  Los Angeles County   California        3912   \n",
       "2  670500      06      037  Los Angeles County   California        1808   \n",
       "3  651302      06      037  Los Angeles County   California        6049   \n",
       "4  575402      06      037  Los Angeles County   California        3448   \n",
       "\n",
       "   white_alone10  ...  latino_pct17  white_alone_moe_17  black_alone_moe_17  \\\n",
       "0           2590  ...        40.401               318.0               203.0   \n",
       "1            562  ...        50.487               144.0               206.0   \n",
       "2           1218  ...         6.295               138.0                11.0   \n",
       "3           4132  ...        12.024               384.0                 6.0   \n",
       "4            156  ...        83.529               131.0               102.0   \n",
       "\n",
       "   asian_alone_moe_17  latino_alone_moe_17  black_change  white_change  \\\n",
       "0                16.0                582.0            43           -21   \n",
       "1               193.0                235.0            14            -7   \n",
       "2                56.0                 62.0           -35             0   \n",
       "3               155.0                199.0             0             3   \n",
       "4                92.0                307.0           -48            14   \n",
       "\n",
       "   latino_change  asian_change  black_significant  \n",
       "0             68           -85              False  \n",
       "1            -10            61              False  \n",
       "2            -17           -27              False  \n",
       "3            -14           -19              False  \n",
       "4             35            52               True  \n",
       "\n",
       "[5 rows x 44 columns]"
      ]
     },
     "execution_count": 37,
     "metadata": {},
     "output_type": "execute_result"
    }
   ],
   "source": [
    "tracts_change.to_crs({'init':'epsg:4326'}).head()"
   ]
  },
  {
   "cell_type": "code",
   "execution_count": 38,
   "metadata": {},
   "outputs": [
    {
     "data": {
      "text/plain": [
       "False    2124\n",
       "True      321\n",
       "Name: black_significant, dtype: int64"
      ]
     },
     "execution_count": 38,
     "metadata": {},
     "output_type": "execute_result"
    }
   ],
   "source": [
    "tracts_change.black_significant.value_counts()"
   ]
  },
  {
   "cell_type": "code",
   "execution_count": null,
   "metadata": {},
   "outputs": [],
   "source": [
    "tracts_change.to_file('output/tracts_change.geojson' , driver='GeoJSON')"
   ]
  },
  {
   "cell_type": "code",
   "execution_count": null,
   "metadata": {},
   "outputs": [],
   "source": [
    "tracts_change_second = gpd.sjoin(tracts_change, second_district, how=\"inner\", op='within')"
   ]
  },
  {
   "cell_type": "code",
   "execution_count": null,
   "metadata": {},
   "outputs": [],
   "source": [
    "tracts_change_second.plot()"
   ]
  },
  {
   "cell_type": "code",
   "execution_count": null,
   "metadata": {},
   "outputs": [],
   "source": [
    "tracts_change_second.columns"
   ]
  },
  {
   "cell_type": "code",
   "execution_count": null,
   "metadata": {},
   "outputs": [],
   "source": [
    "tracts_change_second.to_file('output/tracts_change_second.geojson' , driver='GeoJSON')"
   ]
  },
  {
   "cell_type": "code",
   "execution_count": null,
   "metadata": {},
   "outputs": [],
   "source": [
    "sig_change_black = tracts_change_second[tracts_change_second['black_significant'] == True]"
   ]
  },
  {
   "cell_type": "code",
   "execution_count": null,
   "metadata": {},
   "outputs": [],
   "source": [
    "len(sig_change_black)"
   ]
  },
  {
   "cell_type": "code",
   "execution_count": null,
   "metadata": {},
   "outputs": [],
   "source": [
    "tracts_change_slim = tracts_change_second[['tract','geoid','black_alone10','black_alone17','black_change'\\\n",
    "                                           ,'white_change','latino_change', 'black_significant']]"
   ]
  },
  {
   "cell_type": "code",
   "execution_count": null,
   "metadata": {},
   "outputs": [],
   "source": [
    "tracts_change_slim.to_csv('output/tracts_change_slim.csv')\n",
    "sig_change_black.to_csv('output/sig_change_black.csv')"
   ]
  },
  {
   "cell_type": "code",
   "execution_count": null,
   "metadata": {},
   "outputs": [],
   "source": [
    "tracts_change_slim.sort_values(by='black_change', ascending=False).head(20)"
   ]
  },
  {
   "cell_type": "code",
   "execution_count": null,
   "metadata": {},
   "outputs": [],
   "source": []
  }
 ],
 "metadata": {
  "kernelspec": {
   "display_name": "Python 3",
   "language": "python",
   "name": "python3"
  },
  "language_info": {
   "codemirror_mode": {
    "name": "ipython",
    "version": 3
   },
   "file_extension": ".py",
   "mimetype": "text/x-python",
   "name": "python",
   "nbconvert_exporter": "python",
   "pygments_lexer": "ipython3",
   "version": "3.7.3"
  }
 },
 "nbformat": 4,
 "nbformat_minor": 2
}
