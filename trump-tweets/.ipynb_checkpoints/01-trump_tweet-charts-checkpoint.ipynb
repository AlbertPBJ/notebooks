{
 "cells": [
  {
   "cell_type": "markdown",
   "metadata": {},
   "source": [
    "# How often does @realDonaldTrump tweet each day?"
   ]
  },
  {
   "cell_type": "code",
   "execution_count": 1,
   "metadata": {},
   "outputs": [],
   "source": [
    "# https://github.com/dnanhkhoa/nb_black\n",
    "%load_ext lab_black"
   ]
  },
  {
   "cell_type": "code",
   "execution_count": 2,
   "metadata": {},
   "outputs": [
    {
     "data": {
      "text/plain": [
       "ThemeRegistry.enable('latimes')"
      ]
     },
     "execution_count": 2,
     "metadata": {},
     "output_type": "execute_result"
    }
   ],
   "source": [
    "import altair as alt\n",
    "import pandas as pd\n",
    "import matplotlib as mpl\n",
    "import numpy as np\n",
    "import json\n",
    "import pytz\n",
    "from datetime import datetime\n",
    "import altair_latimes as lat\n",
    "\n",
    "alt.themes.register(\"latimes\", lat.theme)\n",
    "alt.themes.enable(\"latimes\")"
   ]
  },
  {
   "cell_type": "code",
   "execution_count": 3,
   "metadata": {},
   "outputs": [],
   "source": [
    "pd.set_option(\"display.max_colwidth\", None)\n",
    "pd.set_option(\"display.max_rows\", None)"
   ]
  },
  {
   "cell_type": "markdown",
   "metadata": {},
   "source": [
    "### Read dump downloaded from trumptweetarchive.com"
   ]
  },
  {
   "cell_type": "code",
   "execution_count": 4,
   "metadata": {},
   "outputs": [],
   "source": [
    "%run '00-trump-tweets-processing.ipynb'"
   ]
  },
  {
   "cell_type": "code",
   "execution_count": 5,
   "metadata": {},
   "outputs": [],
   "source": [
    "src = pd.read_csv(\n",
    "    \"/Users/mhustiles/data/github/notebooks/\\\n",
    "trump-tweets/output/realdonaldtrump.csv\",\n",
    "    dtype={\"id\": str},\n",
    "    low_memory=False,\n",
    ")"
   ]
  },
  {
   "cell_type": "code",
   "execution_count": 6,
   "metadata": {},
   "outputs": [],
   "source": [
    "src[\"user\"] = \"realDonaldTrump\""
   ]
  },
  {
   "cell_type": "markdown",
   "metadata": {},
   "source": [
    "### How many tweets since May 2009?"
   ]
  },
  {
   "cell_type": "code",
   "execution_count": 7,
   "metadata": {},
   "outputs": [
    {
     "data": {
      "text/plain": [
       "56118"
      ]
     },
     "execution_count": 7,
     "metadata": {},
     "output_type": "execute_result"
    }
   ],
   "source": [
    "len(src)"
   ]
  },
  {
   "cell_type": "markdown",
   "metadata": {},
   "source": [
    "### Clean up dates"
   ]
  },
  {
   "cell_type": "code",
   "execution_count": 8,
   "metadata": {},
   "outputs": [],
   "source": [
    "src[\"id\"] = src[\"id\"].astype(str)\n",
    "src[\"year\"] = src[\"year\"].astype(str)\n",
    "src[\"month\"] = src[\"month\"].astype(str)\n",
    "src[\"day\"] = src[\"day\"].astype(str)\n",
    "src[\"hour\"] = src[\"hour\"].astype(str)\n",
    "src[\"date\"] = pd.to_datetime(src[\"date\"])"
   ]
  },
  {
   "cell_type": "markdown",
   "metadata": {},
   "source": [
    "### Most popular tweets"
   ]
  },
  {
   "cell_type": "code",
   "execution_count": 9,
   "metadata": {},
   "outputs": [
    {
     "data": {
      "text/html": [
       "<div>\n",
       "<style scoped>\n",
       "    .dataframe tbody tr th:only-of-type {\n",
       "        vertical-align: middle;\n",
       "    }\n",
       "\n",
       "    .dataframe tbody tr th {\n",
       "        vertical-align: top;\n",
       "    }\n",
       "\n",
       "    .dataframe thead th {\n",
       "        text-align: right;\n",
       "    }\n",
       "</style>\n",
       "<table border=\"1\" class=\"dataframe\">\n",
       "  <thead>\n",
       "    <tr style=\"text-align: right;\">\n",
       "      <th></th>\n",
       "      <th>id</th>\n",
       "      <th>date</th>\n",
       "      <th>text</th>\n",
       "      <th>favorites</th>\n",
       "    </tr>\n",
       "  </thead>\n",
       "  <tbody>\n",
       "    <tr>\n",
       "      <th>11089</th>\n",
       "      <td>1311892190680014800</td>\n",
       "      <td>2020-10-01</td>\n",
       "      <td>Tonight, @FLOTUS and I tested positive for COVID-19. We will begin our quarantine and recovery process immediately. We will get through this TOGETHER!</td>\n",
       "      <td>1869706</td>\n",
       "    </tr>\n",
       "    <tr>\n",
       "      <th>11137</th>\n",
       "      <td>1312233807991496700</td>\n",
       "      <td>2020-10-02</td>\n",
       "      <td>Going welI, I think! Thank you to all. LOVE!!!</td>\n",
       "      <td>1219870</td>\n",
       "    </tr>\n",
       "    <tr>\n",
       "      <th>56088</th>\n",
       "      <td>1325099845045071872</td>\n",
       "      <td>2020-11-07</td>\n",
       "      <td>I WON THIS ELECTION, BY A LOT!</td>\n",
       "      <td>1188311</td>\n",
       "    </tr>\n",
       "    <tr>\n",
       "      <th>56031</th>\n",
       "      <td>1326158760826560512</td>\n",
       "      <td>2020-11-10</td>\n",
       "      <td>WE WILL WIN!</td>\n",
       "      <td>1023598</td>\n",
       "    </tr>\n",
       "    <tr>\n",
       "      <th>56086</th>\n",
       "      <td>1325195021339987968</td>\n",
       "      <td>2020-11-07</td>\n",
       "      <td>71,000,000 Legal Votes. The most EVER for a sitting President!</td>\n",
       "      <td>978022</td>\n",
       "    </tr>\n",
       "  </tbody>\n",
       "</table>\n",
       "</div>"
      ],
      "text/plain": [
       "                        id       date  \\\n",
       "11089  1311892190680014800 2020-10-01   \n",
       "11137  1312233807991496700 2020-10-02   \n",
       "56088  1325099845045071872 2020-11-07   \n",
       "56031  1326158760826560512 2020-11-10   \n",
       "56086  1325195021339987968 2020-11-07   \n",
       "\n",
       "                                                                                                                                                         text  \\\n",
       "11089  Tonight, @FLOTUS and I tested positive for COVID-19. We will begin our quarantine and recovery process immediately. We will get through this TOGETHER!   \n",
       "11137                                                                                                          Going welI, I think! Thank you to all. LOVE!!!   \n",
       "56088                                                                                                                          I WON THIS ELECTION, BY A LOT!   \n",
       "56031                                                                                                                                            WE WILL WIN!   \n",
       "56086                                                                                          71,000,000 Legal Votes. The most EVER for a sitting President!   \n",
       "\n",
       "       favorites  \n",
       "11089    1869706  \n",
       "11137    1219870  \n",
       "56088    1188311  \n",
       "56031    1023598  \n",
       "56086     978022  "
      ]
     },
     "execution_count": 9,
     "metadata": {},
     "output_type": "execute_result"
    }
   ],
   "source": [
    "src[[\"id\", \"date\", \"text\", \"favorites\"]].sort_values(\"favorites\", ascending=False).head(\n",
    "    5\n",
    ")"
   ]
  },
  {
   "cell_type": "code",
   "execution_count": 10,
   "metadata": {},
   "outputs": [
    {
     "data": {
      "text/html": [
       "<div>\n",
       "<style scoped>\n",
       "    .dataframe tbody tr th:only-of-type {\n",
       "        vertical-align: middle;\n",
       "    }\n",
       "\n",
       "    .dataframe tbody tr th {\n",
       "        vertical-align: top;\n",
       "    }\n",
       "\n",
       "    .dataframe thead th {\n",
       "        text-align: right;\n",
       "    }\n",
       "</style>\n",
       "<table border=\"1\" class=\"dataframe\">\n",
       "  <thead>\n",
       "    <tr style=\"text-align: right;\">\n",
       "      <th></th>\n",
       "      <th>id</th>\n",
       "      <th>date</th>\n",
       "      <th>text</th>\n",
       "      <th>retweets</th>\n",
       "    </tr>\n",
       "  </thead>\n",
       "  <tbody>\n",
       "    <tr>\n",
       "      <th>11089</th>\n",
       "      <td>1311892190680014800</td>\n",
       "      <td>2020-10-01</td>\n",
       "      <td>Tonight, @FLOTUS and I tested positive for COVID-19. We will begin our quarantine and recovery process immediately. We will get through this TOGETHER!</td>\n",
       "      <td>408866</td>\n",
       "    </tr>\n",
       "    <tr>\n",
       "      <th>34864</th>\n",
       "      <td>881503147168071700</td>\n",
       "      <td>2017-07-02</td>\n",
       "      <td>#FraudNewsCNN #FNN https://t.co/WYUnHjjUjg</td>\n",
       "      <td>293109</td>\n",
       "    </tr>\n",
       "    <tr>\n",
       "      <th>38552</th>\n",
       "      <td>795954831718498300</td>\n",
       "      <td>2016-11-08</td>\n",
       "      <td>TODAY WE MAKE AMERICA GREAT AGAIN!</td>\n",
       "      <td>281289</td>\n",
       "    </tr>\n",
       "    <tr>\n",
       "      <th>28862</th>\n",
       "      <td>474134260149157900</td>\n",
       "      <td>2014-06-04</td>\n",
       "      <td>Are you allowed to impeach a president for gross incompetence?</td>\n",
       "      <td>237674</td>\n",
       "    </tr>\n",
       "    <tr>\n",
       "      <th>8421</th>\n",
       "      <td>1267637602724839400</td>\n",
       "      <td>2020-06-01</td>\n",
       "      <td>RT @SpaceX: Liftoff! https://t.co/DRBfdUM7JA</td>\n",
       "      <td>235250</td>\n",
       "    </tr>\n",
       "  </tbody>\n",
       "</table>\n",
       "</div>"
      ],
      "text/plain": [
       "                        id       date  \\\n",
       "11089  1311892190680014800 2020-10-01   \n",
       "34864   881503147168071700 2017-07-02   \n",
       "38552   795954831718498300 2016-11-08   \n",
       "28862   474134260149157900 2014-06-04   \n",
       "8421   1267637602724839400 2020-06-01   \n",
       "\n",
       "                                                                                                                                                         text  \\\n",
       "11089  Tonight, @FLOTUS and I tested positive for COVID-19. We will begin our quarantine and recovery process immediately. We will get through this TOGETHER!   \n",
       "34864                                                                                                              #FraudNewsCNN #FNN https://t.co/WYUnHjjUjg   \n",
       "38552                                                                                                                      TODAY WE MAKE AMERICA GREAT AGAIN!   \n",
       "28862                                                                                          Are you allowed to impeach a president for gross incompetence?   \n",
       "8421                                                                                                             RT @SpaceX: Liftoff! https://t.co/DRBfdUM7JA   \n",
       "\n",
       "       retweets  \n",
       "11089    408866  \n",
       "34864    293109  \n",
       "38552    281289  \n",
       "28862    237674  \n",
       "8421     235250  "
      ]
     },
     "execution_count": 10,
     "metadata": {},
     "output_type": "execute_result"
    }
   ],
   "source": [
    "src[[\"id\", \"date\", \"text\", \"retweets\"]].sort_values(\"retweets\", ascending=False).head(5)"
   ]
  },
  {
   "cell_type": "code",
   "execution_count": 11,
   "metadata": {},
   "outputs": [],
   "source": [
    "src.to_csv(\"output/trump-tweets-all.csv\", index=False)"
   ]
  },
  {
   "cell_type": "markdown",
   "metadata": {},
   "source": [
    "### Since he took office"
   ]
  },
  {
   "cell_type": "code",
   "execution_count": 12,
   "metadata": {},
   "outputs": [],
   "source": [
    "trumppres = pd.DataFrame(src[src.date >= \"01/20/2017\"]).sort_values(\n",
    "    \"date\", ascending=True\n",
    ")"
   ]
  },
  {
   "cell_type": "markdown",
   "metadata": {},
   "source": [
    "---"
   ]
  },
  {
   "cell_type": "markdown",
   "metadata": {},
   "source": [
    "### Devices used for tweets as president"
   ]
  },
  {
   "cell_type": "code",
   "execution_count": 13,
   "metadata": {},
   "outputs": [],
   "source": [
    "trumppres_devices = (\n",
    "    trumppres.groupby([\"device\"])\n",
    "    .agg({\"id\": \"count\"})\n",
    "    .reset_index()\n",
    "    .rename(columns={\"id\": \"count\"})\n",
    ")"
   ]
  },
  {
   "cell_type": "code",
   "execution_count": 14,
   "metadata": {},
   "outputs": [],
   "source": [
    "for i in trumppres_devices:\n",
    "    trumppres_devices[\"pct\"] = round(\n",
    "        (trumppres_devices[\"count\"] / trumppres_devices[\"count\"].sum()) * 100, 2\n",
    "    )"
   ]
  },
  {
   "cell_type": "code",
   "execution_count": 15,
   "metadata": {},
   "outputs": [
    {
     "data": {
      "text/html": [
       "<div>\n",
       "<style scoped>\n",
       "    .dataframe tbody tr th:only-of-type {\n",
       "        vertical-align: middle;\n",
       "    }\n",
       "\n",
       "    .dataframe tbody tr th {\n",
       "        vertical-align: top;\n",
       "    }\n",
       "\n",
       "    .dataframe thead th {\n",
       "        text-align: right;\n",
       "    }\n",
       "</style>\n",
       "<table border=\"1\" class=\"dataframe\">\n",
       "  <thead>\n",
       "    <tr style=\"text-align: right;\">\n",
       "      <th></th>\n",
       "      <th>device</th>\n",
       "      <th>count</th>\n",
       "      <th>pct</th>\n",
       "    </tr>\n",
       "  </thead>\n",
       "  <tbody>\n",
       "    <tr>\n",
       "      <th>7</th>\n",
       "      <td>Twitter for iPhone</td>\n",
       "      <td>24754</td>\n",
       "      <td>97.35</td>\n",
       "    </tr>\n",
       "    <tr>\n",
       "      <th>2</th>\n",
       "      <td>Twitter Media Studio</td>\n",
       "      <td>372</td>\n",
       "      <td>1.46</td>\n",
       "    </tr>\n",
       "    <tr>\n",
       "      <th>5</th>\n",
       "      <td>Twitter for Android</td>\n",
       "      <td>173</td>\n",
       "      <td>0.68</td>\n",
       "    </tr>\n",
       "    <tr>\n",
       "      <th>4</th>\n",
       "      <td>Twitter Web Client</td>\n",
       "      <td>48</td>\n",
       "      <td>0.19</td>\n",
       "    </tr>\n",
       "    <tr>\n",
       "      <th>6</th>\n",
       "      <td>Twitter for iPad</td>\n",
       "      <td>38</td>\n",
       "      <td>0.15</td>\n",
       "    </tr>\n",
       "  </tbody>\n",
       "</table>\n",
       "</div>"
      ],
      "text/plain": [
       "                 device  count    pct\n",
       "7    Twitter for iPhone  24754  97.35\n",
       "2  Twitter Media Studio    372   1.46\n",
       "5   Twitter for Android    173   0.68\n",
       "4    Twitter Web Client     48   0.19\n",
       "6      Twitter for iPad     38   0.15"
      ]
     },
     "execution_count": 15,
     "metadata": {},
     "output_type": "execute_result"
    }
   ],
   "source": [
    "trumppres_devices.sort_values(\"count\", ascending=False).head()"
   ]
  },
  {
   "cell_type": "markdown",
   "metadata": {},
   "source": [
    "### How many not from an iPhone since president? "
   ]
  },
  {
   "cell_type": "code",
   "execution_count": 16,
   "metadata": {},
   "outputs": [],
   "source": [
    "trumppres_notiphone = trumppres[trumppres[\"device\"] != \"Twitter for iPhone\"]"
   ]
  },
  {
   "cell_type": "code",
   "execution_count": 17,
   "metadata": {},
   "outputs": [
    {
     "data": {
      "text/plain": [
       "1154"
      ]
     },
     "execution_count": 17,
     "metadata": {},
     "output_type": "execute_result"
    }
   ],
   "source": [
    "len(trumppres_notiphone)"
   ]
  },
  {
   "cell_type": "markdown",
   "metadata": {},
   "source": [
    "### Time difference between tweets"
   ]
  },
  {
   "cell_type": "code",
   "execution_count": 18,
   "metadata": {},
   "outputs": [],
   "source": [
    "trumppres = pd.DataFrame(src[src.date >= \"01/20/2017\"]).sort_values(\n",
    "    \"date\", ascending=True\n",
    ")"
   ]
  },
  {
   "cell_type": "code",
   "execution_count": 19,
   "metadata": {},
   "outputs": [],
   "source": [
    "trumppres[\"diff\"] = (trumppres[\"date\"] - trumppres[\"date\"].shift(1)).astype(\n",
    "    \"timedelta64[h]\"\n",
    ")"
   ]
  },
  {
   "cell_type": "code",
   "execution_count": 20,
   "metadata": {},
   "outputs": [
    {
     "data": {
      "text/html": [
       "<div>\n",
       "<style scoped>\n",
       "    .dataframe tbody tr th:only-of-type {\n",
       "        vertical-align: middle;\n",
       "    }\n",
       "\n",
       "    .dataframe tbody tr th {\n",
       "        vertical-align: top;\n",
       "    }\n",
       "\n",
       "    .dataframe thead th {\n",
       "        text-align: right;\n",
       "    }\n",
       "</style>\n",
       "<table border=\"1\" class=\"dataframe\">\n",
       "  <thead>\n",
       "    <tr style=\"text-align: right;\">\n",
       "      <th></th>\n",
       "      <th>index</th>\n",
       "      <th>id</th>\n",
       "      <th>text</th>\n",
       "      <th>isRetweet</th>\n",
       "      <th>isDeleted</th>\n",
       "      <th>device</th>\n",
       "      <th>favorites</th>\n",
       "      <th>retweets</th>\n",
       "      <th>date</th>\n",
       "      <th>isFlagged</th>\n",
       "      <th>year</th>\n",
       "      <th>month</th>\n",
       "      <th>day</th>\n",
       "      <th>hour</th>\n",
       "      <th>minute</th>\n",
       "      <th>time</th>\n",
       "      <th>user</th>\n",
       "      <th>diff</th>\n",
       "    </tr>\n",
       "  </thead>\n",
       "  <tbody>\n",
       "    <tr>\n",
       "      <th>0</th>\n",
       "      <td>0</td>\n",
       "      <td>1347569870578266115</td>\n",
       "      <td>To all of those who have asked, I will not be going to the Inauguration on January 20th.</td>\n",
       "      <td>False</td>\n",
       "      <td>False</td>\n",
       "      <td>Twitter for iPhone</td>\n",
       "      <td>510761</td>\n",
       "      <td>83532</td>\n",
       "      <td>2021-01-08</td>\n",
       "      <td>False</td>\n",
       "      <td>2021</td>\n",
       "      <td>1</td>\n",
       "      <td>8</td>\n",
       "      <td>7</td>\n",
       "      <td>44</td>\n",
       "      <td>07:44:28</td>\n",
       "      <td>realDonaldTrump</td>\n",
       "      <td>0.0</td>\n",
       "    </tr>\n",
       "    <tr>\n",
       "      <th>1</th>\n",
       "      <td>1</td>\n",
       "      <td>1347555316863553542</td>\n",
       "      <td>The 75,000,000 great American Patriots who voted for me, AMERICA FIRST, and MAKE AMERICA GREAT AGAIN, will have a GIANT VOICE long into the future. They will not be disrespected or treated unfairly in any way, shape or form!!!</td>\n",
       "      <td>False</td>\n",
       "      <td>False</td>\n",
       "      <td>Twitter for iPhone</td>\n",
       "      <td>480997</td>\n",
       "      <td>108844</td>\n",
       "      <td>2021-01-08</td>\n",
       "      <td>False</td>\n",
       "      <td>2021</td>\n",
       "      <td>1</td>\n",
       "      <td>8</td>\n",
       "      <td>6</td>\n",
       "      <td>46</td>\n",
       "      <td>06:46:38</td>\n",
       "      <td>realDonaldTrump</td>\n",
       "      <td>24.0</td>\n",
       "    </tr>\n",
       "    <tr>\n",
       "      <th>2</th>\n",
       "      <td>2</td>\n",
       "      <td>1347334804052844550</td>\n",
       "      <td>https://t.co/csX07ZVWGe</td>\n",
       "      <td>False</td>\n",
       "      <td>False</td>\n",
       "      <td>Twitter Media Studio</td>\n",
       "      <td>629326</td>\n",
       "      <td>154877</td>\n",
       "      <td>2021-01-07</td>\n",
       "      <td>False</td>\n",
       "      <td>2021</td>\n",
       "      <td>1</td>\n",
       "      <td>7</td>\n",
       "      <td>16</td>\n",
       "      <td>10</td>\n",
       "      <td>16:10:24</td>\n",
       "      <td>realDonaldTrump</td>\n",
       "      <td>24.0</td>\n",
       "    </tr>\n",
       "    <tr>\n",
       "      <th>12</th>\n",
       "      <td>12</td>\n",
       "      <td>1346818855298072576</td>\n",
       "      <td>They just happened to find 50,000 ballots late last night. The USA is embarrassed by fools. Our Election Process is worse than that of third world countries!</td>\n",
       "      <td>False</td>\n",
       "      <td>False</td>\n",
       "      <td>Twitter for iPhone</td>\n",
       "      <td>377295</td>\n",
       "      <td>92437</td>\n",
       "      <td>2021-01-06</td>\n",
       "      <td>False</td>\n",
       "      <td>2021</td>\n",
       "      <td>1</td>\n",
       "      <td>6</td>\n",
       "      <td>6</td>\n",
       "      <td>0</td>\n",
       "      <td>06:00:12</td>\n",
       "      <td>realDonaldTrump</td>\n",
       "      <td>0.0</td>\n",
       "    </tr>\n",
       "    <tr>\n",
       "      <th>7</th>\n",
       "      <td>7</td>\n",
       "      <td>1346900434540240897</td>\n",
       "      <td>Mike Pence didn’t have the courage to do what should have been done to protect our Country and our Constitution, giving States a chance to certify a corrected set of facts, not the fraudulent or inaccurate ones which they were asked to previously certify. USA demands the truth!</td>\n",
       "      <td>False</td>\n",
       "      <td>True</td>\n",
       "      <td>Twitter for iPhone</td>\n",
       "      <td>0</td>\n",
       "      <td>0</td>\n",
       "      <td>2021-01-06</td>\n",
       "      <td>False</td>\n",
       "      <td>2021</td>\n",
       "      <td>1</td>\n",
       "      <td>6</td>\n",
       "      <td>11</td>\n",
       "      <td>24</td>\n",
       "      <td>11:24:22</td>\n",
       "      <td>realDonaldTrump</td>\n",
       "      <td>24.0</td>\n",
       "    </tr>\n",
       "  </tbody>\n",
       "</table>\n",
       "</div>"
      ],
      "text/plain": [
       "    index                   id  \\\n",
       "0       0  1347569870578266115   \n",
       "1       1  1347555316863553542   \n",
       "2       2  1347334804052844550   \n",
       "12     12  1346818855298072576   \n",
       "7       7  1346900434540240897   \n",
       "\n",
       "                                                                                                                                                                                                                                                                                      text  \\\n",
       "0                                                                                                                                                                                                 To all of those who have asked, I will not be going to the Inauguration on January 20th.   \n",
       "1                                                       The 75,000,000 great American Patriots who voted for me, AMERICA FIRST, and MAKE AMERICA GREAT AGAIN, will have a GIANT VOICE long into the future. They will not be disrespected or treated unfairly in any way, shape or form!!!   \n",
       "2                                                                                                                                                                                                                                                                  https://t.co/csX07ZVWGe   \n",
       "12                                                                                                                           They just happened to find 50,000 ballots late last night. The USA is embarrassed by fools. Our Election Process is worse than that of third world countries!   \n",
       "7   Mike Pence didn’t have the courage to do what should have been done to protect our Country and our Constitution, giving States a chance to certify a corrected set of facts, not the fraudulent or inaccurate ones which they were asked to previously certify. USA demands the truth!   \n",
       "\n",
       "   isRetweet isDeleted                device  favorites  retweets       date  \\\n",
       "0      False     False    Twitter for iPhone     510761     83532 2021-01-08   \n",
       "1      False     False    Twitter for iPhone     480997    108844 2021-01-08   \n",
       "2      False     False  Twitter Media Studio     629326    154877 2021-01-07   \n",
       "12     False     False    Twitter for iPhone     377295     92437 2021-01-06   \n",
       "7      False      True    Twitter for iPhone          0         0 2021-01-06   \n",
       "\n",
       "   isFlagged  year month day hour  minute      time             user  diff  \n",
       "0      False  2021     1   8    7      44  07:44:28  realDonaldTrump   0.0  \n",
       "1      False  2021     1   8    6      46  06:46:38  realDonaldTrump  24.0  \n",
       "2      False  2021     1   7   16      10  16:10:24  realDonaldTrump  24.0  \n",
       "12     False  2021     1   6    6       0  06:00:12  realDonaldTrump   0.0  \n",
       "7      False  2021     1   6   11      24  11:24:22  realDonaldTrump  24.0  "
      ]
     },
     "execution_count": 20,
     "metadata": {},
     "output_type": "execute_result"
    }
   ],
   "source": [
    "trumppres.sort_values(\"date\", ascending=False).head()"
   ]
  },
  {
   "cell_type": "code",
   "execution_count": 21,
   "metadata": {},
   "outputs": [
    {
     "data": {
      "text/plain": [
       "1.342339908132937"
      ]
     },
     "execution_count": 21,
     "metadata": {},
     "output_type": "execute_result"
    }
   ],
   "source": [
    "trumppres[\"diff\"].mean()"
   ]
  },
  {
   "cell_type": "markdown",
   "metadata": {},
   "source": [
    "### Tweets per month, year"
   ]
  },
  {
   "cell_type": "code",
   "execution_count": 22,
   "metadata": {},
   "outputs": [],
   "source": [
    "trump_years = src.groupby([\"year\", \"month\"]).agg({\"date\": \"count\"}).reset_index()"
   ]
  },
  {
   "cell_type": "code",
   "execution_count": 23,
   "metadata": {},
   "outputs": [
    {
     "data": {
      "text/html": [
       "<div>\n",
       "<style scoped>\n",
       "    .dataframe tbody tr th:only-of-type {\n",
       "        vertical-align: middle;\n",
       "    }\n",
       "\n",
       "    .dataframe tbody tr th {\n",
       "        vertical-align: top;\n",
       "    }\n",
       "\n",
       "    .dataframe thead th {\n",
       "        text-align: right;\n",
       "    }\n",
       "</style>\n",
       "<table border=\"1\" class=\"dataframe\">\n",
       "  <thead>\n",
       "    <tr style=\"text-align: right;\">\n",
       "      <th></th>\n",
       "      <th>year</th>\n",
       "      <th>month</th>\n",
       "      <th>date</th>\n",
       "    </tr>\n",
       "  </thead>\n",
       "  <tbody>\n",
       "    <tr>\n",
       "      <th>136</th>\n",
       "      <td>2020</td>\n",
       "      <td>6</td>\n",
       "      <td>1112</td>\n",
       "    </tr>\n",
       "    <tr>\n",
       "      <th>137</th>\n",
       "      <td>2020</td>\n",
       "      <td>7</td>\n",
       "      <td>834</td>\n",
       "    </tr>\n",
       "    <tr>\n",
       "      <th>138</th>\n",
       "      <td>2020</td>\n",
       "      <td>8</td>\n",
       "      <td>1119</td>\n",
       "    </tr>\n",
       "    <tr>\n",
       "      <th>139</th>\n",
       "      <td>2020</td>\n",
       "      <td>9</td>\n",
       "      <td>1341</td>\n",
       "    </tr>\n",
       "    <tr>\n",
       "      <th>140</th>\n",
       "      <td>2021</td>\n",
       "      <td>1</td>\n",
       "      <td>150</td>\n",
       "    </tr>\n",
       "  </tbody>\n",
       "</table>\n",
       "</div>"
      ],
      "text/plain": [
       "     year month  date\n",
       "136  2020     6  1112\n",
       "137  2020     7   834\n",
       "138  2020     8  1119\n",
       "139  2020     9  1341\n",
       "140  2021     1   150"
      ]
     },
     "execution_count": 23,
     "metadata": {},
     "output_type": "execute_result"
    }
   ],
   "source": [
    "trump_years.tail()"
   ]
  },
  {
   "cell_type": "markdown",
   "metadata": {},
   "source": [
    "### What did he average each day in retweets, likes and replies"
   ]
  },
  {
   "cell_type": "code",
   "execution_count": 24,
   "metadata": {},
   "outputs": [],
   "source": [
    "trump_engagements_day = (\n",
    "    src.groupby([\"month\", \"year\"])\n",
    "    .agg({\"id\": \"size\", \"retweets\": [\"sum\", \"mean\"], \"favorites\": [\"sum\", \"mean\"]})\n",
    "    .round()\n",
    "    .reset_index()\n",
    ")"
   ]
  },
  {
   "cell_type": "code",
   "execution_count": 25,
   "metadata": {},
   "outputs": [],
   "source": [
    "trump_engagements_day.columns = (\n",
    "    trump_engagements_day.columns.map(\"_\".join).str.strip().str.rstrip(\"_\")\n",
    ")"
   ]
  },
  {
   "cell_type": "code",
   "execution_count": 26,
   "metadata": {},
   "outputs": [
    {
     "data": {
      "text/html": [
       "<div>\n",
       "<style scoped>\n",
       "    .dataframe tbody tr th:only-of-type {\n",
       "        vertical-align: middle;\n",
       "    }\n",
       "\n",
       "    .dataframe tbody tr th {\n",
       "        vertical-align: top;\n",
       "    }\n",
       "\n",
       "    .dataframe thead th {\n",
       "        text-align: right;\n",
       "    }\n",
       "</style>\n",
       "<table border=\"1\" class=\"dataframe\">\n",
       "  <thead>\n",
       "    <tr style=\"text-align: right;\">\n",
       "      <th></th>\n",
       "      <th>month</th>\n",
       "      <th>year</th>\n",
       "      <th>id_size</th>\n",
       "      <th>retweets_sum</th>\n",
       "      <th>retweets_mean</th>\n",
       "      <th>favorites_sum</th>\n",
       "      <th>favorites_mean</th>\n",
       "    </tr>\n",
       "  </thead>\n",
       "  <tbody>\n",
       "    <tr>\n",
       "      <th>136</th>\n",
       "      <td>9</td>\n",
       "      <td>2016</td>\n",
       "      <td>287</td>\n",
       "      <td>2151751</td>\n",
       "      <td>7497.0</td>\n",
       "      <td>5663059</td>\n",
       "      <td>19732.0</td>\n",
       "    </tr>\n",
       "    <tr>\n",
       "      <th>137</th>\n",
       "      <td>9</td>\n",
       "      <td>2017</td>\n",
       "      <td>307</td>\n",
       "      <td>4012787</td>\n",
       "      <td>13071.0</td>\n",
       "      <td>16392461</td>\n",
       "      <td>53396.0</td>\n",
       "    </tr>\n",
       "    <tr>\n",
       "      <th>138</th>\n",
       "      <td>9</td>\n",
       "      <td>2018</td>\n",
       "      <td>375</td>\n",
       "      <td>5094550</td>\n",
       "      <td>13585.0</td>\n",
       "      <td>18775513</td>\n",
       "      <td>50068.0</td>\n",
       "    </tr>\n",
       "    <tr>\n",
       "      <th>139</th>\n",
       "      <td>9</td>\n",
       "      <td>2019</td>\n",
       "      <td>788</td>\n",
       "      <td>9396138</td>\n",
       "      <td>11924.0</td>\n",
       "      <td>30182716</td>\n",
       "      <td>38303.0</td>\n",
       "    </tr>\n",
       "    <tr>\n",
       "      <th>140</th>\n",
       "      <td>9</td>\n",
       "      <td>2020</td>\n",
       "      <td>1341</td>\n",
       "      <td>21154617</td>\n",
       "      <td>15775.0</td>\n",
       "      <td>57707686</td>\n",
       "      <td>43033.0</td>\n",
       "    </tr>\n",
       "  </tbody>\n",
       "</table>\n",
       "</div>"
      ],
      "text/plain": [
       "    month  year  id_size  retweets_sum  retweets_mean  favorites_sum  \\\n",
       "136     9  2016      287       2151751         7497.0        5663059   \n",
       "137     9  2017      307       4012787        13071.0       16392461   \n",
       "138     9  2018      375       5094550        13585.0       18775513   \n",
       "139     9  2019      788       9396138        11924.0       30182716   \n",
       "140     9  2020     1341      21154617        15775.0       57707686   \n",
       "\n",
       "     favorites_mean  \n",
       "136         19732.0  \n",
       "137         53396.0  \n",
       "138         50068.0  \n",
       "139         38303.0  \n",
       "140         43033.0  "
      ]
     },
     "execution_count": 26,
     "metadata": {},
     "output_type": "execute_result"
    }
   ],
   "source": [
    "trump_engagements_day.tail()"
   ]
  },
  {
   "cell_type": "code",
   "execution_count": 27,
   "metadata": {},
   "outputs": [
    {
     "data": {
      "text/html": [
       "\n",
       "<div id=\"altair-viz-8754e11105d84ac38716ef627bbbbd2a\"></div>\n",
       "<script type=\"text/javascript\">\n",
       "  (function(spec, embedOpt){\n",
       "    let outputDiv = document.currentScript.previousElementSibling;\n",
       "    if (outputDiv.id !== \"altair-viz-8754e11105d84ac38716ef627bbbbd2a\") {\n",
       "      outputDiv = document.getElementById(\"altair-viz-8754e11105d84ac38716ef627bbbbd2a\");\n",
       "    }\n",
       "    const paths = {\n",
       "      \"vega\": \"https://cdn.jsdelivr.net/npm//vega@5?noext\",\n",
       "      \"vega-lib\": \"https://cdn.jsdelivr.net/npm//vega-lib?noext\",\n",
       "      \"vega-lite\": \"https://cdn.jsdelivr.net/npm//vega-lite@4.8.1?noext\",\n",
       "      \"vega-embed\": \"https://cdn.jsdelivr.net/npm//vega-embed@6?noext\",\n",
       "    };\n",
       "\n",
       "    function loadScript(lib) {\n",
       "      return new Promise(function(resolve, reject) {\n",
       "        var s = document.createElement('script');\n",
       "        s.src = paths[lib];\n",
       "        s.async = true;\n",
       "        s.onload = () => resolve(paths[lib]);\n",
       "        s.onerror = () => reject(`Error loading script: ${paths[lib]}`);\n",
       "        document.getElementsByTagName(\"head\")[0].appendChild(s);\n",
       "      });\n",
       "    }\n",
       "\n",
       "    function showError(err) {\n",
       "      outputDiv.innerHTML = `<div class=\"error\" style=\"color:red;\">${err}</div>`;\n",
       "      throw err;\n",
       "    }\n",
       "\n",
       "    function displayChart(vegaEmbed) {\n",
       "      vegaEmbed(outputDiv, spec, embedOpt)\n",
       "        .catch(err => showError(`Javascript Error: ${err.message}<br>This usually means there's a typo in your chart specification. See the javascript console for the full traceback.`));\n",
       "    }\n",
       "\n",
       "    if(typeof define === \"function\" && define.amd) {\n",
       "      requirejs.config({paths});\n",
       "      require([\"vega-embed\"], displayChart, err => showError(`Error loading script: ${err.message}`));\n",
       "    } else if (typeof vegaEmbed === \"function\") {\n",
       "      displayChart(vegaEmbed);\n",
       "    } else {\n",
       "      loadScript(\"vega\")\n",
       "        .then(() => loadScript(\"vega-lite\"))\n",
       "        .then(() => loadScript(\"vega-embed\"))\n",
       "        .catch(showError)\n",
       "        .then(() => displayChart(vegaEmbed));\n",
       "    }\n",
       "  })({\"config\": {\"view\": {\"width\": 800, \"height\": 450, \"strokeOpacity\": 0}, \"background\": \"#ffffff\", \"title\": {\"anchor\": \"start\", \"font\": \"Benton Gothic Bold, sans\", \"fontColor\": \"#000000\", \"fontSize\": 22, \"fontWeight\": \"normal\"}, \"arc\": {\"fill\": \"#82c6df\"}, \"area\": {\"fill\": \"#82c6df\"}, \"line\": {\"stroke\": \"#82c6df\", \"strokeWidth\": 3}, \"path\": {\"stroke\": \"#82c6df\"}, \"rect\": {\"fill\": \"#82c6df\"}, \"shape\": {\"stroke\": \"#82c6df\"}, \"bar\": {\"fill\": \"#82c6df\"}, \"point\": {\"stroke\": \"#82c6df\"}, \"symbol\": {\"fill\": \"#82c6df\", \"size\": 30}, \"axis\": {\"titleFont\": \"Benton Gothic Bold, sans\", \"titleFontSize\": 13, \"titleFontWeight\": \"normal\", \"labelFont\": \"Benton Gothic, sans\", \"labelFontSize\": 11.5, \"labelFontWeight\": \"normal\"}, \"axisX\": {\"labelAngle\": 0, \"labelPadding\": 4, \"tickSize\": 3}, \"axisY\": {\"labelBaseline\": \"middle\", \"maxExtent\": 45, \"minExtent\": 45, \"tickSize\": 2, \"titleAlign\": \"left\", \"titleAngle\": 0, \"titleX\": -45, \"titleY\": -11}, \"legend\": {\"titleFont\": \"Benton Gothic Bold, sans\", \"titleFontSize\": 13, \"titleFontWeight\": \"normal\", \"symbolType\": \"square\", \"labelFont\": \"Benton Gothic, sans\", \"labelFontSize\": 11.5}, \"range\": {\"category\": [\"#3580b1\", \"#ec8431\", \"#ab7fb4\", \"#c89d29\", \"#adc839\", \"#829eb1\"], \"diverging\": [\"#e68a4f\", \"#f4bb6a\", \"#f9e39c\", \"#dadfe2\", \"#a6b7c6\", \"#849eae\"], \"heatmap\": [\"#fbf2c7\", \"#f9e39c\", \"#f8d36e\", \"#f4bb6a\", \"#e68a4f\", \"#d15a40\", \"#ab4232\"], \"ordinal\": [\"#fbf2c7\", \"#f9e39c\", \"#f8d36e\", \"#f4bb6a\", \"#e68a4f\", \"#d15a40\", \"#ab4232\"], \"ramp\": [\"#fbf2c7\", \"#f9e39c\", \"#f8d36e\", \"#f4bb6a\", \"#e68a4f\", \"#d15a40\", \"#ab4232\"]}}, \"data\": {\"name\": \"data-d8c0ec6f43b464d94ed9d35eaf058994\"}, \"mark\": {\"type\": \"bar\", \"opacity\": 1, \"size\": 10}, \"encoding\": {\"facet\": {\"type\": \"nominal\", \"columns\": 4, \"field\": \"year\", \"title\": \" \"}, \"x\": {\"type\": \"temporal\", \"axis\": {\"format\": \"%b\", \"grid\": false, \"tickCount\": 1, \"values\": [\"1\", \"12\"]}, \"field\": \"month\", \"title\": \" \"}, \"y\": {\"type\": \"quantitative\", \"axis\": {\"domainOpacity\": 0, \"format\": \"2,f\", \"gridColor\": \"#dddddd\", \"gridWidth\": 0.6, \"offset\": 6, \"tickCount\": 2, \"tickSize\": 0}, \"field\": \"id_size\", \"scale\": {\"domain\": [0, 1500]}, \"stack\": null, \"title\": \" \"}}, \"height\": 100, \"title\": \"Monthly tweets by @realDonaldTrump\", \"width\": 150, \"$schema\": \"https://vega.github.io/schema/vega-lite/v4.8.1.json\", \"datasets\": {\"data-d8c0ec6f43b464d94ed9d35eaf058994\": [{\"month\": \"1\", \"year\": \"2017\", \"id_size\": 210, \"retweets_sum\": 3577248, \"retweets_mean\": 17035.0, \"favorites_sum\": 16939344, \"favorites_mean\": 80664.0}, {\"month\": \"1\", \"year\": \"2018\", \"id_size\": 203, \"retweets_sum\": 3960963, \"retweets_mean\": 19512.0, \"favorites_sum\": 16509283, \"favorites_mean\": 81327.0}, {\"month\": \"1\", \"year\": \"2019\", \"id_size\": 363, \"retweets_sum\": 7625147, \"retweets_mean\": 21006.0, \"favorites_sum\": 30207448, \"favorites_mean\": 83216.0}, {\"month\": \"1\", \"year\": \"2020\", \"id_size\": 928, \"retweets_sum\": 13932478, \"retweets_mean\": 15013.0, \"favorites_sum\": 38786596, \"favorites_mean\": 41796.0}, {\"month\": \"1\", \"year\": \"2021\", \"id_size\": 150, \"retweets_sum\": 5797637, \"retweets_mean\": 38651.0, \"favorites_sum\": 20804049, \"favorites_mean\": 138694.0}, {\"month\": \"10\", \"year\": \"2017\", \"id_size\": 290, \"retweets_sum\": 3727113, \"retweets_mean\": 12852.0, \"favorites_sum\": 16282554, \"favorites_mean\": 56147.0}, {\"month\": \"10\", \"year\": \"2018\", \"id_size\": 388, \"retweets_sum\": 5744713, \"retweets_mean\": 14806.0, \"favorites_sum\": 22446559, \"favorites_mean\": 57852.0}, {\"month\": \"10\", \"year\": \"2019\", \"id_size\": 1017, \"retweets_sum\": 14399398, \"retweets_mean\": 14159.0, \"favorites_sum\": 40537483, \"favorites_mean\": 39860.0}, {\"month\": \"10\", \"year\": \"2020\", \"id_size\": 1409, \"retweets_sum\": 29346734, \"retweets_mean\": 20828.0, \"favorites_sum\": 101132449, \"favorites_mean\": 71776.0}, {\"month\": \"11\", \"year\": \"2017\", \"id_size\": 261, \"retweets_sum\": 3915522, \"retweets_mean\": 15002.0, \"favorites_sum\": 16062346, \"favorites_mean\": 61542.0}, {\"month\": \"11\", \"year\": \"2018\", \"id_size\": 337, \"retweets_sum\": 5710010, \"retweets_mean\": 16944.0, \"favorites_sum\": 20123241, \"favorites_mean\": 59713.0}, {\"month\": \"11\", \"year\": \"2019\", \"id_size\": 839, \"retweets_sum\": 11249733, \"retweets_mean\": 13409.0, \"favorites_sum\": 27462643, \"favorites_mean\": 32733.0}, {\"month\": \"11\", \"year\": \"2020\", \"id_size\": 895, \"retweets_sum\": 29567562, \"retweets_mean\": 33036.0, \"favorites_sum\": 118564780, \"favorites_mean\": 132475.0}, {\"month\": \"12\", \"year\": \"2017\", \"id_size\": 195, \"retweets_sum\": 3211892, \"retweets_mean\": 16471.0, \"favorites_sum\": 13489086, \"favorites_mean\": 69175.0}, {\"month\": \"12\", \"year\": \"2018\", \"id_size\": 291, \"retweets_sum\": 5372604, \"retweets_mean\": 18463.0, \"favorites_sum\": 24266012, \"favorites_mean\": 83388.0}, {\"month\": \"12\", \"year\": \"2019\", \"id_size\": 1129, \"retweets_sum\": 14345288, \"retweets_mean\": 12706.0, \"favorites_sum\": 32539263, \"favorites_mean\": 28821.0}, {\"month\": \"12\", \"year\": \"2020\", \"id_size\": 629, \"retweets_sum\": 20622463, \"retweets_mean\": 32786.0, \"favorites_sum\": 77372088, \"favorites_mean\": 123008.0}, {\"month\": \"2\", \"year\": \"2017\", \"id_size\": 152, \"retweets_sum\": 2759559, \"retweets_mean\": 18155.0, \"favorites_sum\": 13800406, \"favorites_mean\": 90792.0}, {\"month\": \"2\", \"year\": \"2018\", \"id_size\": 174, \"retweets_sum\": 3151792, \"retweets_mean\": 18114.0, \"favorites_sum\": 13996025, \"favorites_mean\": 80437.0}, {\"month\": \"2\", \"year\": \"2019\", \"id_size\": 249, \"retweets_sum\": 5118482, \"retweets_mean\": 20556.0, \"favorites_sum\": 20004759, \"favorites_mean\": 80340.0}, {\"month\": \"2\", \"year\": \"2020\", \"id_size\": 884, \"retweets_sum\": 12077764, \"retweets_mean\": 13663.0, \"favorites_sum\": 31895882, \"favorites_mean\": 36081.0}, {\"month\": \"3\", \"year\": \"2017\", \"id_size\": 146, \"retweets_sum\": 2046838, \"retweets_mean\": 14019.0, \"favorites_sum\": 9116905, \"favorites_mean\": 62445.0}, {\"month\": \"3\", \"year\": \"2018\", \"id_size\": 171, \"retweets_sum\": 2745315, \"retweets_mean\": 16054.0, \"favorites_sum\": 12127177, \"favorites_mean\": 70919.0}, {\"month\": \"3\", \"year\": \"2019\", \"id_size\": 393, \"retweets_sum\": 6707499, \"retweets_mean\": 17067.0, \"favorites_sum\": 23928380, \"favorites_mean\": 60886.0}, {\"month\": \"3\", \"year\": \"2020\", \"id_size\": 959, \"retweets_sum\": 13557644, \"retweets_mean\": 14137.0, \"favorites_sum\": 42176070, \"favorites_mean\": 43979.0}, {\"month\": \"4\", \"year\": \"2017\", \"id_size\": 151, \"retweets_sum\": 1706605, \"retweets_mean\": 11302.0, \"favorites_sum\": 7680535, \"favorites_mean\": 50864.0}, {\"month\": \"4\", \"year\": \"2018\", \"id_size\": 253, \"retweets_sum\": 4010767, \"retweets_mean\": 15853.0, \"favorites_sum\": 17008320, \"favorites_mean\": 67227.0}, {\"month\": \"4\", \"year\": \"2019\", \"id_size\": 427, \"retweets_sum\": 7318613, \"retweets_mean\": 17140.0, \"favorites_sum\": 27034619, \"favorites_mean\": 63313.0}, {\"month\": \"4\", \"year\": \"2020\", \"id_size\": 837, \"retweets_sum\": 13912140, \"retweets_mean\": 16621.0, \"favorites_sum\": 41826894, \"favorites_mean\": 49972.0}, {\"month\": \"5\", \"year\": \"2017\", \"id_size\": 156, \"retweets_sum\": 2108946, \"retweets_mean\": 13519.0, \"favorites_sum\": 8352549, \"favorites_mean\": 53542.0}, {\"month\": \"5\", \"year\": \"2018\", \"id_size\": 258, \"retweets_sum\": 4216666, \"retweets_mean\": 16344.0, \"favorites_sum\": 18259678, \"favorites_mean\": 70774.0}, {\"month\": \"5\", \"year\": \"2019\", \"id_size\": 677, \"retweets_sum\": 9124308, \"retweets_mean\": 13478.0, \"favorites_sum\": 29484476, \"favorites_mean\": 43552.0}, {\"month\": \"5\", \"year\": \"2020\", \"id_size\": 1091, \"retweets_sum\": 19644196, \"retweets_mean\": 18006.0, \"favorites_sum\": 54120105, \"favorites_mean\": 49606.0}, {\"month\": \"6\", \"year\": \"2017\", \"id_size\": 208, \"retweets_sum\": 3101123, \"retweets_mean\": 14909.0, \"favorites_sum\": 12233035, \"favorites_mean\": 58813.0}, {\"month\": \"6\", \"year\": \"2018\", \"id_size\": 385, \"retweets_sum\": 6041385, \"retweets_mean\": 15692.0, \"favorites_sum\": 24289298, \"favorites_mean\": 63089.0}, {\"month\": \"6\", \"year\": \"2019\", \"id_size\": 480, \"retweets_sum\": 6884806, \"retweets_mean\": 14343.0, \"favorites_sum\": 26796352, \"favorites_mean\": 55826.0}, {\"month\": \"6\", \"year\": \"2020\", \"id_size\": 1112, \"retweets_sum\": 21889240, \"retweets_mean\": 19685.0, \"favorites_sum\": 58557491, \"favorites_mean\": 52660.0}, {\"month\": \"7\", \"year\": \"2017\", \"id_size\": 245, \"retweets_sum\": 4070761, \"retweets_mean\": 16615.0, \"favorites_sum\": 16723386, \"favorites_mean\": 68259.0}, {\"month\": \"7\", \"year\": \"2018\", \"id_size\": 337, \"retweets_sum\": 5453767, \"retweets_mean\": 16183.0, \"favorites_sum\": 20800240, \"favorites_mean\": 61722.0}, {\"month\": \"7\", \"year\": \"2019\", \"id_size\": 679, \"retweets_sum\": 10542091, \"retweets_mean\": 15526.0, \"favorites_sum\": 39759882, \"favorites_mean\": 58557.0}, {\"month\": \"7\", \"year\": \"2020\", \"id_size\": 834, \"retweets_sum\": 14018531, \"retweets_mean\": 16809.0, \"favorites_sum\": 37683610, \"favorites_mean\": 45184.0}, {\"month\": \"8\", \"year\": \"2017\", \"id_size\": 265, \"retweets_sum\": 3551652, \"retweets_mean\": 13402.0, \"favorites_sum\": 13635361, \"favorites_mean\": 51454.0}, {\"month\": \"8\", \"year\": \"2018\", \"id_size\": 381, \"retweets_sum\": 6107339, \"retweets_mean\": 16030.0, \"favorites_sum\": 24861170, \"favorites_mean\": 65252.0}, {\"month\": \"8\", \"year\": \"2019\", \"id_size\": 677, \"retweets_sum\": 8941667, \"retweets_mean\": 13208.0, \"favorites_sum\": 30754706, \"favorites_mean\": 45428.0}, {\"month\": \"8\", \"year\": \"2020\", \"id_size\": 1119, \"retweets_sum\": 18446960, \"retweets_mean\": 16485.0, \"favorites_sum\": 50508531, \"favorites_mean\": 45137.0}, {\"month\": \"9\", \"year\": \"2017\", \"id_size\": 307, \"retweets_sum\": 4012787, \"retweets_mean\": 13071.0, \"favorites_sum\": 16392461, \"favorites_mean\": 53396.0}, {\"month\": \"9\", \"year\": \"2018\", \"id_size\": 375, \"retweets_sum\": 5094550, \"retweets_mean\": 13585.0, \"favorites_sum\": 18775513, \"favorites_mean\": 50068.0}, {\"month\": \"9\", \"year\": \"2019\", \"id_size\": 788, \"retweets_sum\": 9396138, \"retweets_mean\": 11924.0, \"favorites_sum\": 30182716, \"favorites_mean\": 38303.0}, {\"month\": \"9\", \"year\": \"2020\", \"id_size\": 1341, \"retweets_sum\": 21154617, \"retweets_mean\": 15775.0, \"favorites_sum\": 57707686, \"favorites_mean\": 43033.0}]}}, {\"mode\": \"vega-lite\"});\n",
       "</script>"
      ],
      "text/plain": [
       "alt.Chart(...)"
      ]
     },
     "execution_count": 27,
     "metadata": {},
     "output_type": "execute_result"
    }
   ],
   "source": [
    "chart = (\n",
    "    alt.Chart((trump_engagements_day.query('year > \"2016\"')))\n",
    "    .mark_bar(size=10, opacity=1)\n",
    "    .encode(\n",
    "        x=alt.X(\n",
    "            \"month:T\",\n",
    "            title=\" \",\n",
    "            axis=alt.Axis(values=[\"1\", \"12\"], grid=False, tickCount=1, format=\"%b\"),\n",
    "        ),\n",
    "        y=alt.Y(\n",
    "            \"id_size:Q\",\n",
    "            stack=None,\n",
    "            title=\" \",\n",
    "            axis=alt.Axis(\n",
    "                gridWidth=0.6,\n",
    "                gridColor=\"#dddddd\",\n",
    "                offset=6,\n",
    "                tickSize=0,\n",
    "                domainOpacity=0,\n",
    "                tickCount=2,\n",
    "                format=\"2,f\",\n",
    "            ),\n",
    "            scale=alt.Scale(domain=(0, 1500)),\n",
    "        ),\n",
    "        facet=alt.Facet(\"year:N\", columns=4, title=\" \"),\n",
    "    )\n",
    "    .properties(width=150, height=100, title=\"Monthly tweets by @realDonaldTrump\")\n",
    ")\n",
    "\n",
    "chart.configure_view(strokeOpacity=0).configure_legend(\n",
    "    orient=\"top\", symbolType=\"stroke\"\n",
    ").configure_legend(symbolType=\"square\")"
   ]
  },
  {
   "cell_type": "code",
   "execution_count": 28,
   "metadata": {},
   "outputs": [
    {
     "data": {
      "text/html": [
       "\n",
       "<div id=\"altair-viz-48054c5ee32943f9805d3587d05da00b\"></div>\n",
       "<script type=\"text/javascript\">\n",
       "  (function(spec, embedOpt){\n",
       "    let outputDiv = document.currentScript.previousElementSibling;\n",
       "    if (outputDiv.id !== \"altair-viz-48054c5ee32943f9805d3587d05da00b\") {\n",
       "      outputDiv = document.getElementById(\"altair-viz-48054c5ee32943f9805d3587d05da00b\");\n",
       "    }\n",
       "    const paths = {\n",
       "      \"vega\": \"https://cdn.jsdelivr.net/npm//vega@5?noext\",\n",
       "      \"vega-lib\": \"https://cdn.jsdelivr.net/npm//vega-lib?noext\",\n",
       "      \"vega-lite\": \"https://cdn.jsdelivr.net/npm//vega-lite@4.8.1?noext\",\n",
       "      \"vega-embed\": \"https://cdn.jsdelivr.net/npm//vega-embed@6?noext\",\n",
       "    };\n",
       "\n",
       "    function loadScript(lib) {\n",
       "      return new Promise(function(resolve, reject) {\n",
       "        var s = document.createElement('script');\n",
       "        s.src = paths[lib];\n",
       "        s.async = true;\n",
       "        s.onload = () => resolve(paths[lib]);\n",
       "        s.onerror = () => reject(`Error loading script: ${paths[lib]}`);\n",
       "        document.getElementsByTagName(\"head\")[0].appendChild(s);\n",
       "      });\n",
       "    }\n",
       "\n",
       "    function showError(err) {\n",
       "      outputDiv.innerHTML = `<div class=\"error\" style=\"color:red;\">${err}</div>`;\n",
       "      throw err;\n",
       "    }\n",
       "\n",
       "    function displayChart(vegaEmbed) {\n",
       "      vegaEmbed(outputDiv, spec, embedOpt)\n",
       "        .catch(err => showError(`Javascript Error: ${err.message}<br>This usually means there's a typo in your chart specification. See the javascript console for the full traceback.`));\n",
       "    }\n",
       "\n",
       "    if(typeof define === \"function\" && define.amd) {\n",
       "      requirejs.config({paths});\n",
       "      require([\"vega-embed\"], displayChart, err => showError(`Error loading script: ${err.message}`));\n",
       "    } else if (typeof vegaEmbed === \"function\") {\n",
       "      displayChart(vegaEmbed);\n",
       "    } else {\n",
       "      loadScript(\"vega\")\n",
       "        .then(() => loadScript(\"vega-lite\"))\n",
       "        .then(() => loadScript(\"vega-embed\"))\n",
       "        .catch(showError)\n",
       "        .then(() => displayChart(vegaEmbed));\n",
       "    }\n",
       "  })({\"config\": {\"view\": {\"width\": 800, \"height\": 450, \"strokeOpacity\": 0}, \"background\": \"#ffffff\", \"title\": {\"anchor\": \"start\", \"font\": \"Benton Gothic Bold, sans\", \"fontColor\": \"#000000\", \"fontSize\": 22, \"fontWeight\": \"normal\"}, \"arc\": {\"fill\": \"#82c6df\"}, \"area\": {\"fill\": \"#82c6df\"}, \"line\": {\"stroke\": \"#82c6df\", \"strokeWidth\": 3}, \"path\": {\"stroke\": \"#82c6df\"}, \"rect\": {\"fill\": \"#82c6df\"}, \"shape\": {\"stroke\": \"#82c6df\"}, \"bar\": {\"fill\": \"#82c6df\"}, \"point\": {\"stroke\": \"#82c6df\"}, \"symbol\": {\"fill\": \"#82c6df\", \"size\": 30}, \"axis\": {\"titleFont\": \"Benton Gothic Bold, sans\", \"titleFontSize\": 13, \"titleFontWeight\": \"normal\", \"labelFont\": \"Benton Gothic, sans\", \"labelFontSize\": 11.5, \"labelFontWeight\": \"normal\"}, \"axisX\": {\"labelAngle\": 0, \"labelPadding\": 4, \"tickSize\": 3}, \"axisY\": {\"labelBaseline\": \"middle\", \"maxExtent\": 45, \"minExtent\": 45, \"tickSize\": 2, \"titleAlign\": \"left\", \"titleAngle\": 0, \"titleX\": -45, \"titleY\": -11}, \"legend\": {\"titleFont\": \"Benton Gothic Bold, sans\", \"titleFontSize\": 13, \"titleFontWeight\": \"normal\", \"symbolType\": \"square\", \"labelFont\": \"Benton Gothic, sans\", \"labelFontSize\": 11.5}, \"range\": {\"category\": [\"#3580b1\", \"#ec8431\", \"#ab7fb4\", \"#c89d29\", \"#adc839\", \"#829eb1\"], \"diverging\": [\"#e68a4f\", \"#f4bb6a\", \"#f9e39c\", \"#dadfe2\", \"#a6b7c6\", \"#849eae\"], \"heatmap\": [\"#fbf2c7\", \"#f9e39c\", \"#f8d36e\", \"#f4bb6a\", \"#e68a4f\", \"#d15a40\", \"#ab4232\"], \"ordinal\": [\"#fbf2c7\", \"#f9e39c\", \"#f8d36e\", \"#f4bb6a\", \"#e68a4f\", \"#d15a40\", \"#ab4232\"], \"ramp\": [\"#fbf2c7\", \"#f9e39c\", \"#f8d36e\", \"#f4bb6a\", \"#e68a4f\", \"#d15a40\", \"#ab4232\"]}}, \"data\": {\"name\": \"data-d8c0ec6f43b464d94ed9d35eaf058994\"}, \"mark\": {\"type\": \"bar\", \"opacity\": 1, \"size\": 10}, \"encoding\": {\"facet\": {\"type\": \"nominal\", \"columns\": 4, \"field\": \"year\", \"title\": \" \"}, \"x\": {\"type\": \"temporal\", \"axis\": {\"format\": \"%b\", \"grid\": false, \"tickCount\": 1, \"values\": [\"1\", \"12\"]}, \"field\": \"month\", \"title\": \" \"}, \"y\": {\"type\": \"quantitative\", \"axis\": {\"domainOpacity\": 0, \"format\": \"1,s\", \"gridColor\": \"#dddddd\", \"gridWidth\": 0.6, \"offset\": 6, \"tickCount\": 2, \"tickSize\": 0}, \"field\": \"favorites_mean\", \"scale\": {\"domain\": [0, 120000]}, \"stack\": null, \"title\": \" \"}}, \"height\": 100, \"title\": \"Mean monthly likes of @realDonaldTrump\", \"width\": 150, \"$schema\": \"https://vega.github.io/schema/vega-lite/v4.8.1.json\", \"datasets\": {\"data-d8c0ec6f43b464d94ed9d35eaf058994\": [{\"month\": \"1\", \"year\": \"2017\", \"id_size\": 210, \"retweets_sum\": 3577248, \"retweets_mean\": 17035.0, \"favorites_sum\": 16939344, \"favorites_mean\": 80664.0}, {\"month\": \"1\", \"year\": \"2018\", \"id_size\": 203, \"retweets_sum\": 3960963, \"retweets_mean\": 19512.0, \"favorites_sum\": 16509283, \"favorites_mean\": 81327.0}, {\"month\": \"1\", \"year\": \"2019\", \"id_size\": 363, \"retweets_sum\": 7625147, \"retweets_mean\": 21006.0, \"favorites_sum\": 30207448, \"favorites_mean\": 83216.0}, {\"month\": \"1\", \"year\": \"2020\", \"id_size\": 928, \"retweets_sum\": 13932478, \"retweets_mean\": 15013.0, \"favorites_sum\": 38786596, \"favorites_mean\": 41796.0}, {\"month\": \"1\", \"year\": \"2021\", \"id_size\": 150, \"retweets_sum\": 5797637, \"retweets_mean\": 38651.0, \"favorites_sum\": 20804049, \"favorites_mean\": 138694.0}, {\"month\": \"10\", \"year\": \"2017\", \"id_size\": 290, \"retweets_sum\": 3727113, \"retweets_mean\": 12852.0, \"favorites_sum\": 16282554, \"favorites_mean\": 56147.0}, {\"month\": \"10\", \"year\": \"2018\", \"id_size\": 388, \"retweets_sum\": 5744713, \"retweets_mean\": 14806.0, \"favorites_sum\": 22446559, \"favorites_mean\": 57852.0}, {\"month\": \"10\", \"year\": \"2019\", \"id_size\": 1017, \"retweets_sum\": 14399398, \"retweets_mean\": 14159.0, \"favorites_sum\": 40537483, \"favorites_mean\": 39860.0}, {\"month\": \"10\", \"year\": \"2020\", \"id_size\": 1409, \"retweets_sum\": 29346734, \"retweets_mean\": 20828.0, \"favorites_sum\": 101132449, \"favorites_mean\": 71776.0}, {\"month\": \"11\", \"year\": \"2017\", \"id_size\": 261, \"retweets_sum\": 3915522, \"retweets_mean\": 15002.0, \"favorites_sum\": 16062346, \"favorites_mean\": 61542.0}, {\"month\": \"11\", \"year\": \"2018\", \"id_size\": 337, \"retweets_sum\": 5710010, \"retweets_mean\": 16944.0, \"favorites_sum\": 20123241, \"favorites_mean\": 59713.0}, {\"month\": \"11\", \"year\": \"2019\", \"id_size\": 839, \"retweets_sum\": 11249733, \"retweets_mean\": 13409.0, \"favorites_sum\": 27462643, \"favorites_mean\": 32733.0}, {\"month\": \"11\", \"year\": \"2020\", \"id_size\": 895, \"retweets_sum\": 29567562, \"retweets_mean\": 33036.0, \"favorites_sum\": 118564780, \"favorites_mean\": 132475.0}, {\"month\": \"12\", \"year\": \"2017\", \"id_size\": 195, \"retweets_sum\": 3211892, \"retweets_mean\": 16471.0, \"favorites_sum\": 13489086, \"favorites_mean\": 69175.0}, {\"month\": \"12\", \"year\": \"2018\", \"id_size\": 291, \"retweets_sum\": 5372604, \"retweets_mean\": 18463.0, \"favorites_sum\": 24266012, \"favorites_mean\": 83388.0}, {\"month\": \"12\", \"year\": \"2019\", \"id_size\": 1129, \"retweets_sum\": 14345288, \"retweets_mean\": 12706.0, \"favorites_sum\": 32539263, \"favorites_mean\": 28821.0}, {\"month\": \"12\", \"year\": \"2020\", \"id_size\": 629, \"retweets_sum\": 20622463, \"retweets_mean\": 32786.0, \"favorites_sum\": 77372088, \"favorites_mean\": 123008.0}, {\"month\": \"2\", \"year\": \"2017\", \"id_size\": 152, \"retweets_sum\": 2759559, \"retweets_mean\": 18155.0, \"favorites_sum\": 13800406, \"favorites_mean\": 90792.0}, {\"month\": \"2\", \"year\": \"2018\", \"id_size\": 174, \"retweets_sum\": 3151792, \"retweets_mean\": 18114.0, \"favorites_sum\": 13996025, \"favorites_mean\": 80437.0}, {\"month\": \"2\", \"year\": \"2019\", \"id_size\": 249, \"retweets_sum\": 5118482, \"retweets_mean\": 20556.0, \"favorites_sum\": 20004759, \"favorites_mean\": 80340.0}, {\"month\": \"2\", \"year\": \"2020\", \"id_size\": 884, \"retweets_sum\": 12077764, \"retweets_mean\": 13663.0, \"favorites_sum\": 31895882, \"favorites_mean\": 36081.0}, {\"month\": \"3\", \"year\": \"2017\", \"id_size\": 146, \"retweets_sum\": 2046838, \"retweets_mean\": 14019.0, \"favorites_sum\": 9116905, \"favorites_mean\": 62445.0}, {\"month\": \"3\", \"year\": \"2018\", \"id_size\": 171, \"retweets_sum\": 2745315, \"retweets_mean\": 16054.0, \"favorites_sum\": 12127177, \"favorites_mean\": 70919.0}, {\"month\": \"3\", \"year\": \"2019\", \"id_size\": 393, \"retweets_sum\": 6707499, \"retweets_mean\": 17067.0, \"favorites_sum\": 23928380, \"favorites_mean\": 60886.0}, {\"month\": \"3\", \"year\": \"2020\", \"id_size\": 959, \"retweets_sum\": 13557644, \"retweets_mean\": 14137.0, \"favorites_sum\": 42176070, \"favorites_mean\": 43979.0}, {\"month\": \"4\", \"year\": \"2017\", \"id_size\": 151, \"retweets_sum\": 1706605, \"retweets_mean\": 11302.0, \"favorites_sum\": 7680535, \"favorites_mean\": 50864.0}, {\"month\": \"4\", \"year\": \"2018\", \"id_size\": 253, \"retweets_sum\": 4010767, \"retweets_mean\": 15853.0, \"favorites_sum\": 17008320, \"favorites_mean\": 67227.0}, {\"month\": \"4\", \"year\": \"2019\", \"id_size\": 427, \"retweets_sum\": 7318613, \"retweets_mean\": 17140.0, \"favorites_sum\": 27034619, \"favorites_mean\": 63313.0}, {\"month\": \"4\", \"year\": \"2020\", \"id_size\": 837, \"retweets_sum\": 13912140, \"retweets_mean\": 16621.0, \"favorites_sum\": 41826894, \"favorites_mean\": 49972.0}, {\"month\": \"5\", \"year\": \"2017\", \"id_size\": 156, \"retweets_sum\": 2108946, \"retweets_mean\": 13519.0, \"favorites_sum\": 8352549, \"favorites_mean\": 53542.0}, {\"month\": \"5\", \"year\": \"2018\", \"id_size\": 258, \"retweets_sum\": 4216666, \"retweets_mean\": 16344.0, \"favorites_sum\": 18259678, \"favorites_mean\": 70774.0}, {\"month\": \"5\", \"year\": \"2019\", \"id_size\": 677, \"retweets_sum\": 9124308, \"retweets_mean\": 13478.0, \"favorites_sum\": 29484476, \"favorites_mean\": 43552.0}, {\"month\": \"5\", \"year\": \"2020\", \"id_size\": 1091, \"retweets_sum\": 19644196, \"retweets_mean\": 18006.0, \"favorites_sum\": 54120105, \"favorites_mean\": 49606.0}, {\"month\": \"6\", \"year\": \"2017\", \"id_size\": 208, \"retweets_sum\": 3101123, \"retweets_mean\": 14909.0, \"favorites_sum\": 12233035, \"favorites_mean\": 58813.0}, {\"month\": \"6\", \"year\": \"2018\", \"id_size\": 385, \"retweets_sum\": 6041385, \"retweets_mean\": 15692.0, \"favorites_sum\": 24289298, \"favorites_mean\": 63089.0}, {\"month\": \"6\", \"year\": \"2019\", \"id_size\": 480, \"retweets_sum\": 6884806, \"retweets_mean\": 14343.0, \"favorites_sum\": 26796352, \"favorites_mean\": 55826.0}, {\"month\": \"6\", \"year\": \"2020\", \"id_size\": 1112, \"retweets_sum\": 21889240, \"retweets_mean\": 19685.0, \"favorites_sum\": 58557491, \"favorites_mean\": 52660.0}, {\"month\": \"7\", \"year\": \"2017\", \"id_size\": 245, \"retweets_sum\": 4070761, \"retweets_mean\": 16615.0, \"favorites_sum\": 16723386, \"favorites_mean\": 68259.0}, {\"month\": \"7\", \"year\": \"2018\", \"id_size\": 337, \"retweets_sum\": 5453767, \"retweets_mean\": 16183.0, \"favorites_sum\": 20800240, \"favorites_mean\": 61722.0}, {\"month\": \"7\", \"year\": \"2019\", \"id_size\": 679, \"retweets_sum\": 10542091, \"retweets_mean\": 15526.0, \"favorites_sum\": 39759882, \"favorites_mean\": 58557.0}, {\"month\": \"7\", \"year\": \"2020\", \"id_size\": 834, \"retweets_sum\": 14018531, \"retweets_mean\": 16809.0, \"favorites_sum\": 37683610, \"favorites_mean\": 45184.0}, {\"month\": \"8\", \"year\": \"2017\", \"id_size\": 265, \"retweets_sum\": 3551652, \"retweets_mean\": 13402.0, \"favorites_sum\": 13635361, \"favorites_mean\": 51454.0}, {\"month\": \"8\", \"year\": \"2018\", \"id_size\": 381, \"retweets_sum\": 6107339, \"retweets_mean\": 16030.0, \"favorites_sum\": 24861170, \"favorites_mean\": 65252.0}, {\"month\": \"8\", \"year\": \"2019\", \"id_size\": 677, \"retweets_sum\": 8941667, \"retweets_mean\": 13208.0, \"favorites_sum\": 30754706, \"favorites_mean\": 45428.0}, {\"month\": \"8\", \"year\": \"2020\", \"id_size\": 1119, \"retweets_sum\": 18446960, \"retweets_mean\": 16485.0, \"favorites_sum\": 50508531, \"favorites_mean\": 45137.0}, {\"month\": \"9\", \"year\": \"2017\", \"id_size\": 307, \"retweets_sum\": 4012787, \"retweets_mean\": 13071.0, \"favorites_sum\": 16392461, \"favorites_mean\": 53396.0}, {\"month\": \"9\", \"year\": \"2018\", \"id_size\": 375, \"retweets_sum\": 5094550, \"retweets_mean\": 13585.0, \"favorites_sum\": 18775513, \"favorites_mean\": 50068.0}, {\"month\": \"9\", \"year\": \"2019\", \"id_size\": 788, \"retweets_sum\": 9396138, \"retweets_mean\": 11924.0, \"favorites_sum\": 30182716, \"favorites_mean\": 38303.0}, {\"month\": \"9\", \"year\": \"2020\", \"id_size\": 1341, \"retweets_sum\": 21154617, \"retweets_mean\": 15775.0, \"favorites_sum\": 57707686, \"favorites_mean\": 43033.0}]}}, {\"mode\": \"vega-lite\"});\n",
       "</script>"
      ],
      "text/plain": [
       "alt.Chart(...)"
      ]
     },
     "execution_count": 28,
     "metadata": {},
     "output_type": "execute_result"
    }
   ],
   "source": [
    "chart = (\n",
    "    alt.Chart((trump_engagements_day.query('year > \"2016\"')))\n",
    "    .mark_bar(size=10, opacity=1)\n",
    "    .encode(\n",
    "        x=alt.X(\n",
    "            \"month:T\",\n",
    "            title=\" \",\n",
    "            axis=alt.Axis(values=[\"1\", \"12\"], grid=False, tickCount=1, format=\"%b\"),\n",
    "        ),\n",
    "        y=alt.Y(\n",
    "            \"favorites_mean:Q\",\n",
    "            stack=None,\n",
    "            title=\" \",\n",
    "            axis=alt.Axis(\n",
    "                gridWidth=0.6,\n",
    "                gridColor=\"#dddddd\",\n",
    "                offset=6,\n",
    "                tickSize=0,\n",
    "                domainOpacity=0,\n",
    "                tickCount=2,\n",
    "                format=\"1,s\",\n",
    "            ),\n",
    "            scale=alt.Scale(domain=(0, 120000)),\n",
    "        ),\n",
    "        facet=alt.Facet(\"year:N\", columns=4, title=\" \"),\n",
    "    )\n",
    "    .properties(width=150, height=100, title=\"Mean monthly likes of @realDonaldTrump\")\n",
    ")\n",
    "\n",
    "chart.configure_view(strokeOpacity=0).configure_legend(\n",
    "    orient=\"top\", symbolType=\"stroke\"\n",
    ").configure_legend(symbolType=\"square\")"
   ]
  },
  {
   "cell_type": "code",
   "execution_count": 29,
   "metadata": {},
   "outputs": [
    {
     "data": {
      "text/html": [
       "\n",
       "<div id=\"altair-viz-dbffdd02a92244fdba1912e97697c7f2\"></div>\n",
       "<script type=\"text/javascript\">\n",
       "  (function(spec, embedOpt){\n",
       "    let outputDiv = document.currentScript.previousElementSibling;\n",
       "    if (outputDiv.id !== \"altair-viz-dbffdd02a92244fdba1912e97697c7f2\") {\n",
       "      outputDiv = document.getElementById(\"altair-viz-dbffdd02a92244fdba1912e97697c7f2\");\n",
       "    }\n",
       "    const paths = {\n",
       "      \"vega\": \"https://cdn.jsdelivr.net/npm//vega@5?noext\",\n",
       "      \"vega-lib\": \"https://cdn.jsdelivr.net/npm//vega-lib?noext\",\n",
       "      \"vega-lite\": \"https://cdn.jsdelivr.net/npm//vega-lite@4.8.1?noext\",\n",
       "      \"vega-embed\": \"https://cdn.jsdelivr.net/npm//vega-embed@6?noext\",\n",
       "    };\n",
       "\n",
       "    function loadScript(lib) {\n",
       "      return new Promise(function(resolve, reject) {\n",
       "        var s = document.createElement('script');\n",
       "        s.src = paths[lib];\n",
       "        s.async = true;\n",
       "        s.onload = () => resolve(paths[lib]);\n",
       "        s.onerror = () => reject(`Error loading script: ${paths[lib]}`);\n",
       "        document.getElementsByTagName(\"head\")[0].appendChild(s);\n",
       "      });\n",
       "    }\n",
       "\n",
       "    function showError(err) {\n",
       "      outputDiv.innerHTML = `<div class=\"error\" style=\"color:red;\">${err}</div>`;\n",
       "      throw err;\n",
       "    }\n",
       "\n",
       "    function displayChart(vegaEmbed) {\n",
       "      vegaEmbed(outputDiv, spec, embedOpt)\n",
       "        .catch(err => showError(`Javascript Error: ${err.message}<br>This usually means there's a typo in your chart specification. See the javascript console for the full traceback.`));\n",
       "    }\n",
       "\n",
       "    if(typeof define === \"function\" && define.amd) {\n",
       "      requirejs.config({paths});\n",
       "      require([\"vega-embed\"], displayChart, err => showError(`Error loading script: ${err.message}`));\n",
       "    } else if (typeof vegaEmbed === \"function\") {\n",
       "      displayChart(vegaEmbed);\n",
       "    } else {\n",
       "      loadScript(\"vega\")\n",
       "        .then(() => loadScript(\"vega-lite\"))\n",
       "        .then(() => loadScript(\"vega-embed\"))\n",
       "        .catch(showError)\n",
       "        .then(() => displayChart(vegaEmbed));\n",
       "    }\n",
       "  })({\"config\": {\"view\": {\"width\": 800, \"height\": 450, \"strokeOpacity\": 0}, \"background\": \"#ffffff\", \"title\": {\"anchor\": \"start\", \"font\": \"Benton Gothic Bold, sans\", \"fontColor\": \"#000000\", \"fontSize\": 22, \"fontWeight\": \"normal\"}, \"arc\": {\"fill\": \"#82c6df\"}, \"area\": {\"fill\": \"#82c6df\"}, \"line\": {\"stroke\": \"#82c6df\", \"strokeWidth\": 3}, \"path\": {\"stroke\": \"#82c6df\"}, \"rect\": {\"fill\": \"#82c6df\"}, \"shape\": {\"stroke\": \"#82c6df\"}, \"bar\": {\"fill\": \"#82c6df\"}, \"point\": {\"stroke\": \"#82c6df\"}, \"symbol\": {\"fill\": \"#82c6df\", \"size\": 30}, \"axis\": {\"titleFont\": \"Benton Gothic Bold, sans\", \"titleFontSize\": 13, \"titleFontWeight\": \"normal\", \"labelFont\": \"Benton Gothic, sans\", \"labelFontSize\": 11.5, \"labelFontWeight\": \"normal\"}, \"axisX\": {\"labelAngle\": 0, \"labelPadding\": 4, \"tickSize\": 3}, \"axisY\": {\"labelBaseline\": \"middle\", \"maxExtent\": 45, \"minExtent\": 45, \"tickSize\": 2, \"titleAlign\": \"left\", \"titleAngle\": 0, \"titleX\": -45, \"titleY\": -11}, \"legend\": {\"titleFont\": \"Benton Gothic Bold, sans\", \"titleFontSize\": 13, \"titleFontWeight\": \"normal\", \"symbolType\": \"square\", \"labelFont\": \"Benton Gothic, sans\", \"labelFontSize\": 11.5}, \"range\": {\"category\": [\"#3580b1\", \"#ec8431\", \"#ab7fb4\", \"#c89d29\", \"#adc839\", \"#829eb1\"], \"diverging\": [\"#e68a4f\", \"#f4bb6a\", \"#f9e39c\", \"#dadfe2\", \"#a6b7c6\", \"#849eae\"], \"heatmap\": [\"#fbf2c7\", \"#f9e39c\", \"#f8d36e\", \"#f4bb6a\", \"#e68a4f\", \"#d15a40\", \"#ab4232\"], \"ordinal\": [\"#fbf2c7\", \"#f9e39c\", \"#f8d36e\", \"#f4bb6a\", \"#e68a4f\", \"#d15a40\", \"#ab4232\"], \"ramp\": [\"#fbf2c7\", \"#f9e39c\", \"#f8d36e\", \"#f4bb6a\", \"#e68a4f\", \"#d15a40\", \"#ab4232\"]}}, \"data\": {\"name\": \"data-d8c0ec6f43b464d94ed9d35eaf058994\"}, \"mark\": {\"type\": \"bar\", \"opacity\": 1, \"size\": 10}, \"encoding\": {\"facet\": {\"type\": \"nominal\", \"columns\": 5, \"field\": \"year\", \"title\": \" \"}, \"x\": {\"type\": \"temporal\", \"axis\": {\"format\": \"%B\", \"grid\": false, \"tickCount\": 1, \"values\": [\"1\", \"7\"]}, \"field\": \"month\", \"title\": \" \"}, \"y\": {\"type\": \"quantitative\", \"axis\": {\"domainOpacity\": 0, \"format\": \"1,s\", \"gridColor\": \"#dddddd\", \"gridWidth\": 0.6, \"offset\": 6, \"tickCount\": 2, \"tickSize\": 0}, \"field\": \"retweets_mean\", \"scale\": {\"domain\": [0, 50000]}, \"stack\": null, \"title\": \" \"}}, \"height\": 100, \"title\": \"Mean monthly retweets of @realDonaldTrump\", \"width\": 150, \"$schema\": \"https://vega.github.io/schema/vega-lite/v4.8.1.json\", \"datasets\": {\"data-d8c0ec6f43b464d94ed9d35eaf058994\": [{\"month\": \"1\", \"year\": \"2017\", \"id_size\": 210, \"retweets_sum\": 3577248, \"retweets_mean\": 17035.0, \"favorites_sum\": 16939344, \"favorites_mean\": 80664.0}, {\"month\": \"1\", \"year\": \"2018\", \"id_size\": 203, \"retweets_sum\": 3960963, \"retweets_mean\": 19512.0, \"favorites_sum\": 16509283, \"favorites_mean\": 81327.0}, {\"month\": \"1\", \"year\": \"2019\", \"id_size\": 363, \"retweets_sum\": 7625147, \"retweets_mean\": 21006.0, \"favorites_sum\": 30207448, \"favorites_mean\": 83216.0}, {\"month\": \"1\", \"year\": \"2020\", \"id_size\": 928, \"retweets_sum\": 13932478, \"retweets_mean\": 15013.0, \"favorites_sum\": 38786596, \"favorites_mean\": 41796.0}, {\"month\": \"1\", \"year\": \"2021\", \"id_size\": 150, \"retweets_sum\": 5797637, \"retweets_mean\": 38651.0, \"favorites_sum\": 20804049, \"favorites_mean\": 138694.0}, {\"month\": \"10\", \"year\": \"2017\", \"id_size\": 290, \"retweets_sum\": 3727113, \"retweets_mean\": 12852.0, \"favorites_sum\": 16282554, \"favorites_mean\": 56147.0}, {\"month\": \"10\", \"year\": \"2018\", \"id_size\": 388, \"retweets_sum\": 5744713, \"retweets_mean\": 14806.0, \"favorites_sum\": 22446559, \"favorites_mean\": 57852.0}, {\"month\": \"10\", \"year\": \"2019\", \"id_size\": 1017, \"retweets_sum\": 14399398, \"retweets_mean\": 14159.0, \"favorites_sum\": 40537483, \"favorites_mean\": 39860.0}, {\"month\": \"10\", \"year\": \"2020\", \"id_size\": 1409, \"retweets_sum\": 29346734, \"retweets_mean\": 20828.0, \"favorites_sum\": 101132449, \"favorites_mean\": 71776.0}, {\"month\": \"11\", \"year\": \"2017\", \"id_size\": 261, \"retweets_sum\": 3915522, \"retweets_mean\": 15002.0, \"favorites_sum\": 16062346, \"favorites_mean\": 61542.0}, {\"month\": \"11\", \"year\": \"2018\", \"id_size\": 337, \"retweets_sum\": 5710010, \"retweets_mean\": 16944.0, \"favorites_sum\": 20123241, \"favorites_mean\": 59713.0}, {\"month\": \"11\", \"year\": \"2019\", \"id_size\": 839, \"retweets_sum\": 11249733, \"retweets_mean\": 13409.0, \"favorites_sum\": 27462643, \"favorites_mean\": 32733.0}, {\"month\": \"11\", \"year\": \"2020\", \"id_size\": 895, \"retweets_sum\": 29567562, \"retweets_mean\": 33036.0, \"favorites_sum\": 118564780, \"favorites_mean\": 132475.0}, {\"month\": \"12\", \"year\": \"2017\", \"id_size\": 195, \"retweets_sum\": 3211892, \"retweets_mean\": 16471.0, \"favorites_sum\": 13489086, \"favorites_mean\": 69175.0}, {\"month\": \"12\", \"year\": \"2018\", \"id_size\": 291, \"retweets_sum\": 5372604, \"retweets_mean\": 18463.0, \"favorites_sum\": 24266012, \"favorites_mean\": 83388.0}, {\"month\": \"12\", \"year\": \"2019\", \"id_size\": 1129, \"retweets_sum\": 14345288, \"retweets_mean\": 12706.0, \"favorites_sum\": 32539263, \"favorites_mean\": 28821.0}, {\"month\": \"12\", \"year\": \"2020\", \"id_size\": 629, \"retweets_sum\": 20622463, \"retweets_mean\": 32786.0, \"favorites_sum\": 77372088, \"favorites_mean\": 123008.0}, {\"month\": \"2\", \"year\": \"2017\", \"id_size\": 152, \"retweets_sum\": 2759559, \"retweets_mean\": 18155.0, \"favorites_sum\": 13800406, \"favorites_mean\": 90792.0}, {\"month\": \"2\", \"year\": \"2018\", \"id_size\": 174, \"retweets_sum\": 3151792, \"retweets_mean\": 18114.0, \"favorites_sum\": 13996025, \"favorites_mean\": 80437.0}, {\"month\": \"2\", \"year\": \"2019\", \"id_size\": 249, \"retweets_sum\": 5118482, \"retweets_mean\": 20556.0, \"favorites_sum\": 20004759, \"favorites_mean\": 80340.0}, {\"month\": \"2\", \"year\": \"2020\", \"id_size\": 884, \"retweets_sum\": 12077764, \"retweets_mean\": 13663.0, \"favorites_sum\": 31895882, \"favorites_mean\": 36081.0}, {\"month\": \"3\", \"year\": \"2017\", \"id_size\": 146, \"retweets_sum\": 2046838, \"retweets_mean\": 14019.0, \"favorites_sum\": 9116905, \"favorites_mean\": 62445.0}, {\"month\": \"3\", \"year\": \"2018\", \"id_size\": 171, \"retweets_sum\": 2745315, \"retweets_mean\": 16054.0, \"favorites_sum\": 12127177, \"favorites_mean\": 70919.0}, {\"month\": \"3\", \"year\": \"2019\", \"id_size\": 393, \"retweets_sum\": 6707499, \"retweets_mean\": 17067.0, \"favorites_sum\": 23928380, \"favorites_mean\": 60886.0}, {\"month\": \"3\", \"year\": \"2020\", \"id_size\": 959, \"retweets_sum\": 13557644, \"retweets_mean\": 14137.0, \"favorites_sum\": 42176070, \"favorites_mean\": 43979.0}, {\"month\": \"4\", \"year\": \"2017\", \"id_size\": 151, \"retweets_sum\": 1706605, \"retweets_mean\": 11302.0, \"favorites_sum\": 7680535, \"favorites_mean\": 50864.0}, {\"month\": \"4\", \"year\": \"2018\", \"id_size\": 253, \"retweets_sum\": 4010767, \"retweets_mean\": 15853.0, \"favorites_sum\": 17008320, \"favorites_mean\": 67227.0}, {\"month\": \"4\", \"year\": \"2019\", \"id_size\": 427, \"retweets_sum\": 7318613, \"retweets_mean\": 17140.0, \"favorites_sum\": 27034619, \"favorites_mean\": 63313.0}, {\"month\": \"4\", \"year\": \"2020\", \"id_size\": 837, \"retweets_sum\": 13912140, \"retweets_mean\": 16621.0, \"favorites_sum\": 41826894, \"favorites_mean\": 49972.0}, {\"month\": \"5\", \"year\": \"2017\", \"id_size\": 156, \"retweets_sum\": 2108946, \"retweets_mean\": 13519.0, \"favorites_sum\": 8352549, \"favorites_mean\": 53542.0}, {\"month\": \"5\", \"year\": \"2018\", \"id_size\": 258, \"retweets_sum\": 4216666, \"retweets_mean\": 16344.0, \"favorites_sum\": 18259678, \"favorites_mean\": 70774.0}, {\"month\": \"5\", \"year\": \"2019\", \"id_size\": 677, \"retweets_sum\": 9124308, \"retweets_mean\": 13478.0, \"favorites_sum\": 29484476, \"favorites_mean\": 43552.0}, {\"month\": \"5\", \"year\": \"2020\", \"id_size\": 1091, \"retweets_sum\": 19644196, \"retweets_mean\": 18006.0, \"favorites_sum\": 54120105, \"favorites_mean\": 49606.0}, {\"month\": \"6\", \"year\": \"2017\", \"id_size\": 208, \"retweets_sum\": 3101123, \"retweets_mean\": 14909.0, \"favorites_sum\": 12233035, \"favorites_mean\": 58813.0}, {\"month\": \"6\", \"year\": \"2018\", \"id_size\": 385, \"retweets_sum\": 6041385, \"retweets_mean\": 15692.0, \"favorites_sum\": 24289298, \"favorites_mean\": 63089.0}, {\"month\": \"6\", \"year\": \"2019\", \"id_size\": 480, \"retweets_sum\": 6884806, \"retweets_mean\": 14343.0, \"favorites_sum\": 26796352, \"favorites_mean\": 55826.0}, {\"month\": \"6\", \"year\": \"2020\", \"id_size\": 1112, \"retweets_sum\": 21889240, \"retweets_mean\": 19685.0, \"favorites_sum\": 58557491, \"favorites_mean\": 52660.0}, {\"month\": \"7\", \"year\": \"2017\", \"id_size\": 245, \"retweets_sum\": 4070761, \"retweets_mean\": 16615.0, \"favorites_sum\": 16723386, \"favorites_mean\": 68259.0}, {\"month\": \"7\", \"year\": \"2018\", \"id_size\": 337, \"retweets_sum\": 5453767, \"retweets_mean\": 16183.0, \"favorites_sum\": 20800240, \"favorites_mean\": 61722.0}, {\"month\": \"7\", \"year\": \"2019\", \"id_size\": 679, \"retweets_sum\": 10542091, \"retweets_mean\": 15526.0, \"favorites_sum\": 39759882, \"favorites_mean\": 58557.0}, {\"month\": \"7\", \"year\": \"2020\", \"id_size\": 834, \"retweets_sum\": 14018531, \"retweets_mean\": 16809.0, \"favorites_sum\": 37683610, \"favorites_mean\": 45184.0}, {\"month\": \"8\", \"year\": \"2017\", \"id_size\": 265, \"retweets_sum\": 3551652, \"retweets_mean\": 13402.0, \"favorites_sum\": 13635361, \"favorites_mean\": 51454.0}, {\"month\": \"8\", \"year\": \"2018\", \"id_size\": 381, \"retweets_sum\": 6107339, \"retweets_mean\": 16030.0, \"favorites_sum\": 24861170, \"favorites_mean\": 65252.0}, {\"month\": \"8\", \"year\": \"2019\", \"id_size\": 677, \"retweets_sum\": 8941667, \"retweets_mean\": 13208.0, \"favorites_sum\": 30754706, \"favorites_mean\": 45428.0}, {\"month\": \"8\", \"year\": \"2020\", \"id_size\": 1119, \"retweets_sum\": 18446960, \"retweets_mean\": 16485.0, \"favorites_sum\": 50508531, \"favorites_mean\": 45137.0}, {\"month\": \"9\", \"year\": \"2017\", \"id_size\": 307, \"retweets_sum\": 4012787, \"retweets_mean\": 13071.0, \"favorites_sum\": 16392461, \"favorites_mean\": 53396.0}, {\"month\": \"9\", \"year\": \"2018\", \"id_size\": 375, \"retweets_sum\": 5094550, \"retweets_mean\": 13585.0, \"favorites_sum\": 18775513, \"favorites_mean\": 50068.0}, {\"month\": \"9\", \"year\": \"2019\", \"id_size\": 788, \"retweets_sum\": 9396138, \"retweets_mean\": 11924.0, \"favorites_sum\": 30182716, \"favorites_mean\": 38303.0}, {\"month\": \"9\", \"year\": \"2020\", \"id_size\": 1341, \"retweets_sum\": 21154617, \"retweets_mean\": 15775.0, \"favorites_sum\": 57707686, \"favorites_mean\": 43033.0}]}}, {\"mode\": \"vega-lite\"});\n",
       "</script>"
      ],
      "text/plain": [
       "alt.Chart(...)"
      ]
     },
     "execution_count": 29,
     "metadata": {},
     "output_type": "execute_result"
    }
   ],
   "source": [
    "chart = (\n",
    "    alt.Chart((trump_engagements_day.query('year > \"2016\"')))\n",
    "    .mark_bar(size=10, opacity=1)\n",
    "    .encode(\n",
    "        x=alt.X(\n",
    "            \"month:T\",\n",
    "            title=\" \",\n",
    "            axis=alt.Axis(values=[\"1\", \"7\"], grid=False, tickCount=1, format=\"%B\"),\n",
    "        ),\n",
    "        y=alt.Y(\n",
    "            \"retweets_mean:Q\",\n",
    "            stack=None,\n",
    "            title=\" \",\n",
    "            axis=alt.Axis(\n",
    "                gridWidth=0.6,\n",
    "                gridColor=\"#dddddd\",\n",
    "                offset=6,\n",
    "                tickSize=0,\n",
    "                domainOpacity=0,\n",
    "                tickCount=2,\n",
    "                format=\"1,s\",\n",
    "            ),\n",
    "            scale=alt.Scale(domain=(0, 50000)),\n",
    "        ),\n",
    "        facet=alt.Facet(\"year:N\", columns=5, title=\" \"),\n",
    "    )\n",
    "    .properties(\n",
    "        width=150, height=100, title=\"Mean monthly retweets of @realDonaldTrump\"\n",
    "    )\n",
    ")\n",
    "\n",
    "chart.configure_view(strokeOpacity=0).configure_legend(\n",
    "    orient=\"top\", symbolType=\"stroke\"\n",
    ").configure_legend(symbolType=\"square\")"
   ]
  },
  {
   "cell_type": "markdown",
   "metadata": {},
   "source": [
    "---"
   ]
  },
  {
   "cell_type": "markdown",
   "metadata": {},
   "source": [
    "### Dump monthly engagements"
   ]
  },
  {
   "cell_type": "code",
   "execution_count": 30,
   "metadata": {},
   "outputs": [],
   "source": [
    "df_dt = trumppres.copy()"
   ]
  },
  {
   "cell_type": "code",
   "execution_count": 31,
   "metadata": {},
   "outputs": [],
   "source": [
    "df_dt = df_dt.set_index(\"date\")"
   ]
  },
  {
   "cell_type": "code",
   "execution_count": 32,
   "metadata": {},
   "outputs": [],
   "source": [
    "g = df_dt.groupby(pd.Grouper(freq=\"MS\"))"
   ]
  },
  {
   "cell_type": "code",
   "execution_count": 33,
   "metadata": {},
   "outputs": [],
   "source": [
    "trump_engagements_month = g.mean().reset_index()"
   ]
  },
  {
   "cell_type": "code",
   "execution_count": 34,
   "metadata": {},
   "outputs": [
    {
     "data": {
      "text/html": [
       "<div>\n",
       "<style scoped>\n",
       "    .dataframe tbody tr th:only-of-type {\n",
       "        vertical-align: middle;\n",
       "    }\n",
       "\n",
       "    .dataframe tbody tr th {\n",
       "        vertical-align: top;\n",
       "    }\n",
       "\n",
       "    .dataframe thead th {\n",
       "        text-align: right;\n",
       "    }\n",
       "</style>\n",
       "<table border=\"1\" class=\"dataframe\">\n",
       "  <thead>\n",
       "    <tr style=\"text-align: right;\">\n",
       "      <th></th>\n",
       "      <th>date</th>\n",
       "      <th>index</th>\n",
       "      <th>favorites</th>\n",
       "      <th>retweets</th>\n",
       "      <th>minute</th>\n",
       "      <th>diff</th>\n",
       "    </tr>\n",
       "  </thead>\n",
       "  <tbody>\n",
       "    <tr>\n",
       "      <th>44</th>\n",
       "      <td>2020-09-01</td>\n",
       "      <td>7721.973154</td>\n",
       "      <td>43033.322893</td>\n",
       "      <td>15775.255034</td>\n",
       "      <td>29.014914</td>\n",
       "      <td>0.536913</td>\n",
       "    </tr>\n",
       "    <tr>\n",
       "      <th>45</th>\n",
       "      <td>2020-10-01</td>\n",
       "      <td>4665.328602</td>\n",
       "      <td>71776.046132</td>\n",
       "      <td>20828.058197</td>\n",
       "      <td>29.669269</td>\n",
       "      <td>0.528034</td>\n",
       "    </tr>\n",
       "    <tr>\n",
       "      <th>46</th>\n",
       "      <td>2020-11-01</td>\n",
       "      <td>1095.652514</td>\n",
       "      <td>132474.614525</td>\n",
       "      <td>33036.382123</td>\n",
       "      <td>30.557542</td>\n",
       "      <td>0.804469</td>\n",
       "    </tr>\n",
       "    <tr>\n",
       "      <th>47</th>\n",
       "      <td>2020-12-01</td>\n",
       "      <td>467.432432</td>\n",
       "      <td>123008.089030</td>\n",
       "      <td>32786.109698</td>\n",
       "      <td>31.157393</td>\n",
       "      <td>1.182830</td>\n",
       "    </tr>\n",
       "    <tr>\n",
       "      <th>48</th>\n",
       "      <td>2021-01-01</td>\n",
       "      <td>74.533333</td>\n",
       "      <td>138693.660000</td>\n",
       "      <td>38650.913333</td>\n",
       "      <td>27.833333</td>\n",
       "      <td>1.280000</td>\n",
       "    </tr>\n",
       "  </tbody>\n",
       "</table>\n",
       "</div>"
      ],
      "text/plain": [
       "         date        index      favorites      retweets     minute      diff\n",
       "44 2020-09-01  7721.973154   43033.322893  15775.255034  29.014914  0.536913\n",
       "45 2020-10-01  4665.328602   71776.046132  20828.058197  29.669269  0.528034\n",
       "46 2020-11-01  1095.652514  132474.614525  33036.382123  30.557542  0.804469\n",
       "47 2020-12-01   467.432432  123008.089030  32786.109698  31.157393  1.182830\n",
       "48 2021-01-01    74.533333  138693.660000  38650.913333  27.833333  1.280000"
      ]
     },
     "execution_count": 34,
     "metadata": {},
     "output_type": "execute_result"
    }
   ],
   "source": [
    "trump_engagements_month.tail()"
   ]
  },
  {
   "cell_type": "code",
   "execution_count": 35,
   "metadata": {},
   "outputs": [],
   "source": [
    "# trump_engagements_month = (\n",
    "#     src.groupby([\"month\", \"year\"])\n",
    "#     .agg({\"id\": \"size\", \"retweets\": sum, \"favorites\": sum})\n",
    "#     .round()\n",
    "#     .reset_index()\n",
    "# )"
   ]
  },
  {
   "cell_type": "code",
   "execution_count": 36,
   "metadata": {},
   "outputs": [],
   "source": [
    "trump_engagements_month[[\"date\", \"favorites\", \"retweets\"]].to_csv(\n",
    "    \"output/trump_engagements_month.csv\", index=False\n",
    ")"
   ]
  },
  {
   "cell_type": "markdown",
   "metadata": {},
   "source": [
    "---"
   ]
  },
  {
   "cell_type": "markdown",
   "metadata": {},
   "source": [
    "### Limit data to when Trump took office. How many tweets since then?"
   ]
  },
  {
   "cell_type": "code",
   "execution_count": 37,
   "metadata": {},
   "outputs": [
    {
     "data": {
      "text/plain": [
       "25908"
      ]
     },
     "execution_count": 37,
     "metadata": {},
     "output_type": "execute_result"
    }
   ],
   "source": [
    "trumpall_prez = src[src.date >= \"01/20/2017\"]\n",
    "len(trumpall_prez)"
   ]
  },
  {
   "cell_type": "code",
   "execution_count": 38,
   "metadata": {},
   "outputs": [
    {
     "data": {
      "text/html": [
       "<div>\n",
       "<style scoped>\n",
       "    .dataframe tbody tr th:only-of-type {\n",
       "        vertical-align: middle;\n",
       "    }\n",
       "\n",
       "    .dataframe tbody tr th {\n",
       "        vertical-align: top;\n",
       "    }\n",
       "\n",
       "    .dataframe thead th {\n",
       "        text-align: right;\n",
       "    }\n",
       "</style>\n",
       "<table border=\"1\" class=\"dataframe\">\n",
       "  <thead>\n",
       "    <tr style=\"text-align: right;\">\n",
       "      <th></th>\n",
       "      <th>index</th>\n",
       "      <th>id</th>\n",
       "      <th>text</th>\n",
       "      <th>isRetweet</th>\n",
       "      <th>isDeleted</th>\n",
       "      <th>device</th>\n",
       "      <th>favorites</th>\n",
       "      <th>retweets</th>\n",
       "      <th>date</th>\n",
       "      <th>isFlagged</th>\n",
       "      <th>year</th>\n",
       "      <th>month</th>\n",
       "      <th>day</th>\n",
       "      <th>hour</th>\n",
       "      <th>minute</th>\n",
       "      <th>time</th>\n",
       "      <th>user</th>\n",
       "    </tr>\n",
       "  </thead>\n",
       "  <tbody>\n",
       "    <tr>\n",
       "      <th>0</th>\n",
       "      <td>0</td>\n",
       "      <td>1347569870578266115</td>\n",
       "      <td>To all of those who have asked, I will not be going to the Inauguration on January 20th.</td>\n",
       "      <td>False</td>\n",
       "      <td>False</td>\n",
       "      <td>Twitter for iPhone</td>\n",
       "      <td>510761</td>\n",
       "      <td>83532</td>\n",
       "      <td>2021-01-08</td>\n",
       "      <td>False</td>\n",
       "      <td>2021</td>\n",
       "      <td>1</td>\n",
       "      <td>8</td>\n",
       "      <td>7</td>\n",
       "      <td>44</td>\n",
       "      <td>07:44:28</td>\n",
       "      <td>realDonaldTrump</td>\n",
       "    </tr>\n",
       "    <tr>\n",
       "      <th>1</th>\n",
       "      <td>1</td>\n",
       "      <td>1347555316863553542</td>\n",
       "      <td>The 75,000,000 great American Patriots who voted for me, AMERICA FIRST, and MAKE AMERICA GREAT AGAIN, will have a GIANT VOICE long into the future. They will not be disrespected or treated unfairly in any way, shape or form!!!</td>\n",
       "      <td>False</td>\n",
       "      <td>False</td>\n",
       "      <td>Twitter for iPhone</td>\n",
       "      <td>480997</td>\n",
       "      <td>108844</td>\n",
       "      <td>2021-01-08</td>\n",
       "      <td>False</td>\n",
       "      <td>2021</td>\n",
       "      <td>1</td>\n",
       "      <td>8</td>\n",
       "      <td>6</td>\n",
       "      <td>46</td>\n",
       "      <td>06:46:38</td>\n",
       "      <td>realDonaldTrump</td>\n",
       "    </tr>\n",
       "    <tr>\n",
       "      <th>2</th>\n",
       "      <td>2</td>\n",
       "      <td>1347334804052844550</td>\n",
       "      <td>https://t.co/csX07ZVWGe</td>\n",
       "      <td>False</td>\n",
       "      <td>False</td>\n",
       "      <td>Twitter Media Studio</td>\n",
       "      <td>629326</td>\n",
       "      <td>154877</td>\n",
       "      <td>2021-01-07</td>\n",
       "      <td>False</td>\n",
       "      <td>2021</td>\n",
       "      <td>1</td>\n",
       "      <td>7</td>\n",
       "      <td>16</td>\n",
       "      <td>10</td>\n",
       "      <td>16:10:24</td>\n",
       "      <td>realDonaldTrump</td>\n",
       "    </tr>\n",
       "    <tr>\n",
       "      <th>3</th>\n",
       "      <td>3</td>\n",
       "      <td>1346954970910707712</td>\n",
       "      <td>These are the things and events that happen when a sacred landslide election victory is so unceremoniously &amp;amp; viciously stripped away from great patriots who have been badly &amp;amp; unfairly treated for so long. Go home with love &amp;amp; in peace. Remember this day forever!</td>\n",
       "      <td>False</td>\n",
       "      <td>True</td>\n",
       "      <td>Twitter for iPhone</td>\n",
       "      <td>0</td>\n",
       "      <td>0</td>\n",
       "      <td>2021-01-06</td>\n",
       "      <td>False</td>\n",
       "      <td>2021</td>\n",
       "      <td>1</td>\n",
       "      <td>6</td>\n",
       "      <td>15</td>\n",
       "      <td>1</td>\n",
       "      <td>15:01:04</td>\n",
       "      <td>realDonaldTrump</td>\n",
       "    </tr>\n",
       "    <tr>\n",
       "      <th>4</th>\n",
       "      <td>4</td>\n",
       "      <td>1346928882595885058</td>\n",
       "      <td>https://t.co/Pm2PKV0Fp3</td>\n",
       "      <td>False</td>\n",
       "      <td>True</td>\n",
       "      <td>Twitter for iPhone</td>\n",
       "      <td>0</td>\n",
       "      <td>0</td>\n",
       "      <td>2021-01-06</td>\n",
       "      <td>False</td>\n",
       "      <td>2021</td>\n",
       "      <td>1</td>\n",
       "      <td>6</td>\n",
       "      <td>13</td>\n",
       "      <td>17</td>\n",
       "      <td>13:17:24</td>\n",
       "      <td>realDonaldTrump</td>\n",
       "    </tr>\n",
       "  </tbody>\n",
       "</table>\n",
       "</div>"
      ],
      "text/plain": [
       "   index                   id  \\\n",
       "0      0  1347569870578266115   \n",
       "1      1  1347555316863553542   \n",
       "2      2  1347334804052844550   \n",
       "3      3  1346954970910707712   \n",
       "4      4  1346928882595885058   \n",
       "\n",
       "                                                                                                                                                                                                                                                                                text  \\\n",
       "0                                                                                                                                                                                           To all of those who have asked, I will not be going to the Inauguration on January 20th.   \n",
       "1                                                 The 75,000,000 great American Patriots who voted for me, AMERICA FIRST, and MAKE AMERICA GREAT AGAIN, will have a GIANT VOICE long into the future. They will not be disrespected or treated unfairly in any way, shape or form!!!   \n",
       "2                                                                                                                                                                                                                                                            https://t.co/csX07ZVWGe   \n",
       "3  These are the things and events that happen when a sacred landslide election victory is so unceremoniously &amp; viciously stripped away from great patriots who have been badly &amp; unfairly treated for so long. Go home with love &amp; in peace. Remember this day forever!   \n",
       "4                                                                                                                                                                                                                                                            https://t.co/Pm2PKV0Fp3   \n",
       "\n",
       "  isRetweet isDeleted                device  favorites  retweets       date  \\\n",
       "0     False     False    Twitter for iPhone     510761     83532 2021-01-08   \n",
       "1     False     False    Twitter for iPhone     480997    108844 2021-01-08   \n",
       "2     False     False  Twitter Media Studio     629326    154877 2021-01-07   \n",
       "3     False      True    Twitter for iPhone          0         0 2021-01-06   \n",
       "4     False      True    Twitter for iPhone          0         0 2021-01-06   \n",
       "\n",
       "  isFlagged  year month day hour  minute      time             user  \n",
       "0     False  2021     1   8    7      44  07:44:28  realDonaldTrump  \n",
       "1     False  2021     1   8    6      46  06:46:38  realDonaldTrump  \n",
       "2     False  2021     1   7   16      10  16:10:24  realDonaldTrump  \n",
       "3     False  2021     1   6   15       1  15:01:04  realDonaldTrump  \n",
       "4     False  2021     1   6   13      17  13:17:24  realDonaldTrump  "
      ]
     },
     "execution_count": 38,
     "metadata": {},
     "output_type": "execute_result"
    }
   ],
   "source": [
    "trumpall_prez.head()"
   ]
  },
  {
   "cell_type": "markdown",
   "metadata": {},
   "source": [
    "### Limit data to month Trump announced candidacy. How many tweets since then?"
   ]
  },
  {
   "cell_type": "code",
   "execution_count": 39,
   "metadata": {},
   "outputs": [
    {
     "data": {
      "text/plain": [
       "34292"
      ]
     },
     "execution_count": 39,
     "metadata": {},
     "output_type": "execute_result"
    }
   ],
   "source": [
    "trumpall_running = src[src.date >= \"06/01/2015\"]\n",
    "len(trumpall_running)"
   ]
  },
  {
   "cell_type": "markdown",
   "metadata": {},
   "source": [
    "### Count daily tweets since candidacy, create dataframe with results"
   ]
  },
  {
   "cell_type": "code",
   "execution_count": 40,
   "metadata": {},
   "outputs": [],
   "source": [
    "trump_tweets_day_candidacy = trumpall_running.groupby([\"date\"]).size()"
   ]
  },
  {
   "cell_type": "code",
   "execution_count": 41,
   "metadata": {},
   "outputs": [
    {
     "data": {
      "text/plain": [
       "date\n",
       "2021-01-04    13\n",
       "2021-01-05    27\n",
       "2021-01-06    13\n",
       "2021-01-07     1\n",
       "2021-01-08     2\n",
       "dtype: int64"
      ]
     },
     "execution_count": 41,
     "metadata": {},
     "output_type": "execute_result"
    }
   ],
   "source": [
    "trump_tweets_day_candidacy.tail()"
   ]
  },
  {
   "cell_type": "code",
   "execution_count": 42,
   "metadata": {},
   "outputs": [],
   "source": [
    "trump_tweets_day_candidacy_df = pd.DataFrame(\n",
    "    {\n",
    "        \"date\": trump_tweets_day_candidacy.index,\n",
    "        \"count\": trump_tweets_day_candidacy.values,\n",
    "    }\n",
    ")"
   ]
  },
  {
   "cell_type": "code",
   "execution_count": 43,
   "metadata": {},
   "outputs": [],
   "source": [
    "trump_tweets_day_candidacy_df.to_csv(\"output/trump_tweets_day_candidacy.csv\")"
   ]
  },
  {
   "cell_type": "markdown",
   "metadata": {},
   "source": [
    "### Count daily tweets since inaguration, create dataframe with results"
   ]
  },
  {
   "cell_type": "code",
   "execution_count": 44,
   "metadata": {},
   "outputs": [],
   "source": [
    "trump_tweets_day_prez = trumpall_prez.groupby([\"date\"]).size()\n",
    "trump_tweets_day_prez_df = pd.DataFrame(\n",
    "    {\"date\": trump_tweets_day_prez.index, \"count\": trump_tweets_day_prez.values}\n",
    ")"
   ]
  },
  {
   "cell_type": "code",
   "execution_count": 45,
   "metadata": {},
   "outputs": [],
   "source": [
    "trump_tweets_day_prez_df.to_csv(\"output/trump_tweets_day_prez.csv\")"
   ]
  },
  {
   "cell_type": "markdown",
   "metadata": {},
   "source": [
    "### Count daily tweets from the beginning, create dataframe with results"
   ]
  },
  {
   "cell_type": "code",
   "execution_count": 46,
   "metadata": {},
   "outputs": [
    {
     "data": {
      "text/html": [
       "<div>\n",
       "<style scoped>\n",
       "    .dataframe tbody tr th:only-of-type {\n",
       "        vertical-align: middle;\n",
       "    }\n",
       "\n",
       "    .dataframe tbody tr th {\n",
       "        vertical-align: top;\n",
       "    }\n",
       "\n",
       "    .dataframe thead th {\n",
       "        text-align: right;\n",
       "    }\n",
       "</style>\n",
       "<table border=\"1\" class=\"dataframe\">\n",
       "  <thead>\n",
       "    <tr style=\"text-align: right;\">\n",
       "      <th></th>\n",
       "      <th>date</th>\n",
       "      <th>count</th>\n",
       "    </tr>\n",
       "  </thead>\n",
       "  <tbody>\n",
       "    <tr>\n",
       "      <th>3493</th>\n",
       "      <td>2020-12-30</td>\n",
       "      <td>15</td>\n",
       "    </tr>\n",
       "    <tr>\n",
       "      <th>3494</th>\n",
       "      <td>2020-12-31</td>\n",
       "      <td>5</td>\n",
       "    </tr>\n",
       "    <tr>\n",
       "      <th>3495</th>\n",
       "      <td>2021-01-01</td>\n",
       "      <td>28</td>\n",
       "    </tr>\n",
       "    <tr>\n",
       "      <th>3496</th>\n",
       "      <td>2021-01-02</td>\n",
       "      <td>26</td>\n",
       "    </tr>\n",
       "    <tr>\n",
       "      <th>3497</th>\n",
       "      <td>2021-01-03</td>\n",
       "      <td>40</td>\n",
       "    </tr>\n",
       "    <tr>\n",
       "      <th>3498</th>\n",
       "      <td>2021-01-04</td>\n",
       "      <td>13</td>\n",
       "    </tr>\n",
       "    <tr>\n",
       "      <th>3499</th>\n",
       "      <td>2021-01-05</td>\n",
       "      <td>27</td>\n",
       "    </tr>\n",
       "    <tr>\n",
       "      <th>3500</th>\n",
       "      <td>2021-01-06</td>\n",
       "      <td>13</td>\n",
       "    </tr>\n",
       "    <tr>\n",
       "      <th>3501</th>\n",
       "      <td>2021-01-07</td>\n",
       "      <td>1</td>\n",
       "    </tr>\n",
       "    <tr>\n",
       "      <th>3502</th>\n",
       "      <td>2021-01-08</td>\n",
       "      <td>2</td>\n",
       "    </tr>\n",
       "  </tbody>\n",
       "</table>\n",
       "</div>"
      ],
      "text/plain": [
       "           date  count\n",
       "3493 2020-12-30     15\n",
       "3494 2020-12-31      5\n",
       "3495 2021-01-01     28\n",
       "3496 2021-01-02     26\n",
       "3497 2021-01-03     40\n",
       "3498 2021-01-04     13\n",
       "3499 2021-01-05     27\n",
       "3500 2021-01-06     13\n",
       "3501 2021-01-07      1\n",
       "3502 2021-01-08      2"
      ]
     },
     "execution_count": 46,
     "metadata": {},
     "output_type": "execute_result"
    }
   ],
   "source": [
    "trump_tweets_day = src.groupby([\"date\"]).agg(\"size\").reset_index(name=\"count\")\n",
    "trump_tweets_day.tail(10)"
   ]
  },
  {
   "cell_type": "code",
   "execution_count": 47,
   "metadata": {},
   "outputs": [],
   "source": [
    "trump_tweets_day.to_csv(\"output/trump_tweets_day.csv\")"
   ]
  },
  {
   "cell_type": "markdown",
   "metadata": {},
   "source": [
    "---"
   ]
  },
  {
   "cell_type": "markdown",
   "metadata": {},
   "source": [
    "### Sort table for top tweet days during presidency"
   ]
  },
  {
   "cell_type": "code",
   "execution_count": 48,
   "metadata": {},
   "outputs": [],
   "source": [
    "trump_freq_inauguration = trump_tweets_day_prez_df.sort_values(\n",
    "    [\"count\"], ascending=False\n",
    ")"
   ]
  },
  {
   "cell_type": "code",
   "execution_count": 49,
   "metadata": {},
   "outputs": [
    {
     "data": {
      "text/html": [
       "<div>\n",
       "<style scoped>\n",
       "    .dataframe tbody tr th:only-of-type {\n",
       "        vertical-align: middle;\n",
       "    }\n",
       "\n",
       "    .dataframe tbody tr th {\n",
       "        vertical-align: top;\n",
       "    }\n",
       "\n",
       "    .dataframe thead th {\n",
       "        text-align: right;\n",
       "    }\n",
       "</style>\n",
       "<table border=\"1\" class=\"dataframe\">\n",
       "  <thead>\n",
       "    <tr style=\"text-align: right;\">\n",
       "      <th></th>\n",
       "      <th>date</th>\n",
       "      <th>count</th>\n",
       "    </tr>\n",
       "  </thead>\n",
       "  <tbody>\n",
       "    <tr>\n",
       "      <th>1225</th>\n",
       "      <td>2020-06-05</td>\n",
       "      <td>198</td>\n",
       "    </tr>\n",
       "    <tr>\n",
       "      <th>1199</th>\n",
       "      <td>2020-05-10</td>\n",
       "      <td>124</td>\n",
       "    </tr>\n",
       "    <tr>\n",
       "      <th>1049</th>\n",
       "      <td>2019-12-12</td>\n",
       "      <td>122</td>\n",
       "    </tr>\n",
       "    <tr>\n",
       "      <th>1354</th>\n",
       "      <td>2020-10-12</td>\n",
       "      <td>117</td>\n",
       "    </tr>\n",
       "    <tr>\n",
       "      <th>1311</th>\n",
       "      <td>2020-08-30</td>\n",
       "      <td>109</td>\n",
       "    </tr>\n",
       "  </tbody>\n",
       "</table>\n",
       "</div>"
      ],
      "text/plain": [
       "           date  count\n",
       "1225 2020-06-05    198\n",
       "1199 2020-05-10    124\n",
       "1049 2019-12-12    122\n",
       "1354 2020-10-12    117\n",
       "1311 2020-08-30    109"
      ]
     },
     "execution_count": 49,
     "metadata": {},
     "output_type": "execute_result"
    }
   ],
   "source": [
    "trump_freq_inauguration.head(5)"
   ]
  },
  {
   "cell_type": "markdown",
   "metadata": {},
   "source": [
    "### Read all from today"
   ]
  },
  {
   "cell_type": "code",
   "execution_count": 50,
   "metadata": {},
   "outputs": [],
   "source": [
    "today = pd.Timestamp.today().strftime(\"%Y-%m-%d\")"
   ]
  },
  {
   "cell_type": "code",
   "execution_count": 51,
   "metadata": {},
   "outputs": [
    {
     "data": {
      "text/plain": [
       "10"
      ]
     },
     "execution_count": 51,
     "metadata": {},
     "output_type": "execute_result"
    }
   ],
   "source": [
    "len(today)"
   ]
  },
  {
   "cell_type": "code",
   "execution_count": 52,
   "metadata": {},
   "outputs": [],
   "source": [
    "trump_tweets_today = trumpall_prez[trumpall_prez.date == today]"
   ]
  },
  {
   "cell_type": "code",
   "execution_count": 53,
   "metadata": {},
   "outputs": [
    {
     "data": {
      "text/html": [
       "<div>\n",
       "<style scoped>\n",
       "    .dataframe tbody tr th:only-of-type {\n",
       "        vertical-align: middle;\n",
       "    }\n",
       "\n",
       "    .dataframe tbody tr th {\n",
       "        vertical-align: top;\n",
       "    }\n",
       "\n",
       "    .dataframe thead th {\n",
       "        text-align: right;\n",
       "    }\n",
       "</style>\n",
       "<table border=\"1\" class=\"dataframe\">\n",
       "  <thead>\n",
       "    <tr style=\"text-align: right;\">\n",
       "      <th></th>\n",
       "      <th>index</th>\n",
       "      <th>id</th>\n",
       "      <th>text</th>\n",
       "      <th>isRetweet</th>\n",
       "      <th>isDeleted</th>\n",
       "      <th>device</th>\n",
       "      <th>favorites</th>\n",
       "      <th>retweets</th>\n",
       "      <th>date</th>\n",
       "      <th>isFlagged</th>\n",
       "      <th>year</th>\n",
       "      <th>month</th>\n",
       "      <th>day</th>\n",
       "      <th>hour</th>\n",
       "      <th>minute</th>\n",
       "      <th>time</th>\n",
       "      <th>user</th>\n",
       "    </tr>\n",
       "  </thead>\n",
       "  <tbody>\n",
       "  </tbody>\n",
       "</table>\n",
       "</div>"
      ],
      "text/plain": [
       "Empty DataFrame\n",
       "Columns: [index, id, text, isRetweet, isDeleted, device, favorites, retweets, date, isFlagged, year, month, day, hour, minute, time, user]\n",
       "Index: []"
      ]
     },
     "execution_count": 53,
     "metadata": {},
     "output_type": "execute_result"
    }
   ],
   "source": [
    "trump_tweets_today.head()"
   ]
  },
  {
   "cell_type": "markdown",
   "metadata": {},
   "source": [
    "---"
   ]
  },
  {
   "cell_type": "markdown",
   "metadata": {},
   "source": [
    "### RT vs Tweet"
   ]
  },
  {
   "cell_type": "code",
   "execution_count": 54,
   "metadata": {},
   "outputs": [],
   "source": [
    "rt_tweet = src.groupby([\"date\", \"isRetweet\"]).agg(\"size\").reset_index(name=\"count\")\n",
    "rt_tweet_recent = (\n",
    "    src[src[\"date\"] > \"2019-01-01\"]\n",
    "    .groupby([\"date\", \"isRetweet\"])\n",
    "    .agg(\"size\")\n",
    "    .reset_index(name=\"count\")\n",
    ")"
   ]
  },
  {
   "cell_type": "code",
   "execution_count": 55,
   "metadata": {},
   "outputs": [],
   "source": [
    "rt_pivot = pd.DataFrame(\n",
    "    pd.pivot_table(\n",
    "        rt_tweet, values=\"count\", index=[\"date\"], columns=[\"isRetweet\"], aggfunc=np.sum\n",
    "    )\n",
    "    .rename(columns={\"isRetweet\": \"id\", False: \"tweet\", True: \"retweet\"})\n",
    "    .reset_index()\n",
    "    .fillna(\"\")\n",
    ")"
   ]
  },
  {
   "cell_type": "code",
   "execution_count": 56,
   "metadata": {},
   "outputs": [],
   "source": [
    "rt_pivot.to_csv(\"output/rt_pivot.csv\")"
   ]
  },
  {
   "cell_type": "markdown",
   "metadata": {},
   "source": [
    "---"
   ]
  },
  {
   "cell_type": "markdown",
   "metadata": {},
   "source": [
    "### Chart it!"
   ]
  },
  {
   "cell_type": "code",
   "execution_count": 57,
   "metadata": {},
   "outputs": [
    {
     "data": {
      "text/html": [
       "\n",
       "<div id=\"altair-viz-c9505c5231564ae7b1be8dfe8bf7cc57\"></div>\n",
       "<script type=\"text/javascript\">\n",
       "  (function(spec, embedOpt){\n",
       "    let outputDiv = document.currentScript.previousElementSibling;\n",
       "    if (outputDiv.id !== \"altair-viz-c9505c5231564ae7b1be8dfe8bf7cc57\") {\n",
       "      outputDiv = document.getElementById(\"altair-viz-c9505c5231564ae7b1be8dfe8bf7cc57\");\n",
       "    }\n",
       "    const paths = {\n",
       "      \"vega\": \"https://cdn.jsdelivr.net/npm//vega@5?noext\",\n",
       "      \"vega-lib\": \"https://cdn.jsdelivr.net/npm//vega-lib?noext\",\n",
       "      \"vega-lite\": \"https://cdn.jsdelivr.net/npm//vega-lite@4.8.1?noext\",\n",
       "      \"vega-embed\": \"https://cdn.jsdelivr.net/npm//vega-embed@6?noext\",\n",
       "    };\n",
       "\n",
       "    function loadScript(lib) {\n",
       "      return new Promise(function(resolve, reject) {\n",
       "        var s = document.createElement('script');\n",
       "        s.src = paths[lib];\n",
       "        s.async = true;\n",
       "        s.onload = () => resolve(paths[lib]);\n",
       "        s.onerror = () => reject(`Error loading script: ${paths[lib]}`);\n",
       "        document.getElementsByTagName(\"head\")[0].appendChild(s);\n",
       "      });\n",
       "    }\n",
       "\n",
       "    function showError(err) {\n",
       "      outputDiv.innerHTML = `<div class=\"error\" style=\"color:red;\">${err}</div>`;\n",
       "      throw err;\n",
       "    }\n",
       "\n",
       "    function displayChart(vegaEmbed) {\n",
       "      vegaEmbed(outputDiv, spec, embedOpt)\n",
       "        .catch(err => showError(`Javascript Error: ${err.message}<br>This usually means there's a typo in your chart specification. See the javascript console for the full traceback.`));\n",
       "    }\n",
       "\n",
       "    if(typeof define === \"function\" && define.amd) {\n",
       "      requirejs.config({paths});\n",
       "      require([\"vega-embed\"], displayChart, err => showError(`Error loading script: ${err.message}`));\n",
       "    } else if (typeof vegaEmbed === \"function\") {\n",
       "      displayChart(vegaEmbed);\n",
       "    } else {\n",
       "      loadScript(\"vega\")\n",
       "        .then(() => loadScript(\"vega-lite\"))\n",
       "        .then(() => loadScript(\"vega-embed\"))\n",
       "        .catch(showError)\n",
       "        .then(() => displayChart(vegaEmbed));\n",
       "    }\n",
       "  })({\"config\": {\"view\": {\"width\": 800, \"height\": 450, \"strokeOpacity\": 0}, \"background\": \"#ffffff\", \"title\": {\"anchor\": \"start\", \"font\": \"Benton Gothic Bold, sans\", \"fontColor\": \"#000000\", \"fontSize\": 22, \"fontWeight\": \"normal\"}, \"arc\": {\"fill\": \"#82c6df\"}, \"area\": {\"fill\": \"#82c6df\"}, \"line\": {\"stroke\": \"#82c6df\", \"strokeWidth\": 3}, \"path\": {\"stroke\": \"#82c6df\"}, \"rect\": {\"fill\": \"#82c6df\"}, \"shape\": {\"stroke\": \"#82c6df\"}, \"bar\": {\"fill\": \"#82c6df\"}, \"point\": {\"stroke\": \"#82c6df\"}, \"symbol\": {\"fill\": \"#82c6df\", \"size\": 30}, \"axis\": {\"titleFont\": \"Benton Gothic Bold, sans\", \"titleFontSize\": 13, \"titleFontWeight\": \"normal\", \"labelFont\": \"Benton Gothic, sans\", \"labelFontSize\": 11.5, \"labelFontWeight\": \"normal\"}, \"axisX\": {\"labelAngle\": 0, \"labelPadding\": 4, \"tickSize\": 3}, \"axisY\": {\"labelBaseline\": \"middle\", \"maxExtent\": 45, \"minExtent\": 45, \"tickSize\": 2, \"titleAlign\": \"left\", \"titleAngle\": 0, \"titleX\": -45, \"titleY\": -11}, \"legend\": {\"titleFont\": \"Benton Gothic Bold, sans\", \"titleFontSize\": 13, \"titleFontWeight\": \"normal\", \"symbolType\": \"square\", \"labelFont\": \"Benton Gothic, sans\", \"labelFontSize\": 11.5}, \"range\": {\"category\": [\"#3580b1\", \"#ec8431\", \"#ab7fb4\", \"#c89d29\", \"#adc839\", \"#829eb1\"], \"diverging\": [\"#e68a4f\", \"#f4bb6a\", \"#f9e39c\", \"#dadfe2\", \"#a6b7c6\", \"#849eae\"], \"heatmap\": [\"#fbf2c7\", \"#f9e39c\", \"#f8d36e\", \"#f4bb6a\", \"#e68a4f\", \"#d15a40\", \"#ab4232\"], \"ordinal\": [\"#fbf2c7\", \"#f9e39c\", \"#f8d36e\", \"#f4bb6a\", \"#e68a4f\", \"#d15a40\", \"#ab4232\"], \"ramp\": [\"#fbf2c7\", \"#f9e39c\", \"#f8d36e\", \"#f4bb6a\", \"#e68a4f\", \"#d15a40\", \"#ab4232\"]}}, \"layer\": [{\"mark\": {\"type\": \"bar\", \"size\": 2}, \"encoding\": {\"x\": {\"type\": \"temporal\", \"axis\": {\"format\": \"%b. %Y\", \"grid\": false, \"tickCount\": 6, \"title\": \"\"}, \"field\": \"date\"}, \"y\": {\"type\": \"quantitative\", \"axis\": {\"domainOpacity\": 0, \"gridColor\": \"#dddddd\", \"offset\": 6, \"tickCount\": 6, \"tickSize\": 0, \"title\": \"Daily tweet counts and mean\"}, \"field\": \"count\", \"scale\": {\"domain\": [0, 200]}}}, \"title\": \"@realDonaldTrump tweet frequency since candidacy announcement\"}, {\"mark\": {\"type\": \"rule\", \"color\": \"red\"}, \"encoding\": {\"y\": {\"type\": \"quantitative\", \"aggregate\": \"mean\", \"field\": \"count\"}}}, {\"mark\": {\"type\": \"text\", \"align\": \"center\", \"baseline\": \"middle\", \"dx\": 200, \"dy\": 10, \"fontWeight\": \"bold\"}, \"encoding\": {\"text\": {\"type\": \"quantitative\", \"aggregate\": \"mean\", \"field\": \"count\", \"format\": \".2\"}, \"y\": {\"type\": \"quantitative\", \"aggregate\": \"mean\", \"field\": \"count\"}}}], \"data\": {\"name\": \"data-4805d24ecd16c65b7bd843c602a71db6\"}, \"height\": 400, \"width\": 800, \"$schema\": \"https://vega.github.io/schema/vega-lite/v4.8.1.json\", \"datasets\": {\"data-4805d24ecd16c65b7bd843c602a71db6\": [{\"date\": \"2015-06-01T00:00:00\", \"count\": 33}, {\"date\": \"2015-06-02T00:00:00\", \"count\": 8}, {\"date\": \"2015-06-03T00:00:00\", \"count\": 14}, {\"date\": \"2015-06-04T00:00:00\", \"count\": 23}, {\"date\": \"2015-06-05T00:00:00\", \"count\": 27}, {\"date\": \"2015-06-06T00:00:00\", \"count\": 14}, {\"date\": \"2015-06-07T00:00:00\", \"count\": 9}, {\"date\": \"2015-06-08T00:00:00\", \"count\": 2}, {\"date\": \"2015-06-09T00:00:00\", \"count\": 8}, {\"date\": \"2015-06-10T00:00:00\", \"count\": 1}, {\"date\": \"2015-06-11T00:00:00\", \"count\": 19}, {\"date\": \"2015-06-12T00:00:00\", \"count\": 33}, {\"date\": \"2015-06-13T00:00:00\", \"count\": 5}, {\"date\": \"2015-06-14T00:00:00\", \"count\": 10}, {\"date\": \"2015-06-15T00:00:00\", \"count\": 16}, {\"date\": \"2015-06-16T00:00:00\", \"count\": 35}, {\"date\": \"2015-06-17T00:00:00\", \"count\": 6}, {\"date\": \"2015-06-18T00:00:00\", \"count\": 7}, {\"date\": \"2015-06-19T00:00:00\", \"count\": 29}, {\"date\": \"2015-06-20T00:00:00\", \"count\": 10}, {\"date\": \"2015-06-21T00:00:00\", \"count\": 35}, {\"date\": \"2015-06-22T00:00:00\", \"count\": 29}, {\"date\": \"2015-06-23T00:00:00\", \"count\": 9}, {\"date\": \"2015-06-24T00:00:00\", \"count\": 27}, {\"date\": \"2015-06-25T00:00:00\", \"count\": 8}, {\"date\": \"2015-06-26T00:00:00\", \"count\": 5}, {\"date\": \"2015-06-27T00:00:00\", \"count\": 14}, {\"date\": \"2015-06-28T00:00:00\", \"count\": 34}, {\"date\": \"2015-06-29T00:00:00\", \"count\": 37}, {\"date\": \"2015-06-30T00:00:00\", \"count\": 15}, {\"date\": \"2015-07-01T00:00:00\", \"count\": 16}, {\"date\": \"2015-07-02T00:00:00\", \"count\": 60}, {\"date\": \"2015-07-03T00:00:00\", \"count\": 42}, {\"date\": \"2015-07-04T00:00:00\", \"count\": 45}, {\"date\": \"2015-07-05T00:00:00\", \"count\": 21}, {\"date\": \"2015-07-06T00:00:00\", \"count\": 11}, {\"date\": \"2015-07-07T00:00:00\", \"count\": 10}, {\"date\": \"2015-07-08T00:00:00\", \"count\": 17}, {\"date\": \"2015-07-09T00:00:00\", \"count\": 37}, {\"date\": \"2015-07-10T00:00:00\", \"count\": 14}, {\"date\": \"2015-07-11T00:00:00\", \"count\": 25}, {\"date\": \"2015-07-12T00:00:00\", \"count\": 10}, {\"date\": \"2015-07-13T00:00:00\", \"count\": 16}, {\"date\": \"2015-07-14T00:00:00\", \"count\": 20}, {\"date\": \"2015-07-15T00:00:00\", \"count\": 8}, {\"date\": \"2015-07-16T00:00:00\", \"count\": 38}, {\"date\": \"2015-07-17T00:00:00\", \"count\": 25}, {\"date\": \"2015-07-18T00:00:00\", \"count\": 28}, {\"date\": \"2015-07-19T00:00:00\", \"count\": 23}, {\"date\": \"2015-07-20T00:00:00\", \"count\": 55}, {\"date\": \"2015-07-21T00:00:00\", \"count\": 30}, {\"date\": \"2015-07-22T00:00:00\", \"count\": 29}, {\"date\": \"2015-07-23T00:00:00\", \"count\": 25}, {\"date\": \"2015-07-24T00:00:00\", \"count\": 23}, {\"date\": \"2015-07-25T00:00:00\", \"count\": 45}, {\"date\": \"2015-07-26T00:00:00\", \"count\": 25}, {\"date\": \"2015-07-27T00:00:00\", \"count\": 34}, {\"date\": \"2015-07-28T00:00:00\", \"count\": 17}, {\"date\": \"2015-07-29T00:00:00\", \"count\": 24}, {\"date\": \"2015-07-30T00:00:00\", \"count\": 10}, {\"date\": \"2015-07-31T00:00:00\", \"count\": 6}, {\"date\": \"2015-08-01T00:00:00\", \"count\": 1}, {\"date\": \"2015-08-02T00:00:00\", \"count\": 21}, {\"date\": \"2015-08-03T00:00:00\", \"count\": 27}, {\"date\": \"2015-08-04T00:00:00\", \"count\": 15}, {\"date\": \"2015-08-05T00:00:00\", \"count\": 30}, {\"date\": \"2015-08-06T00:00:00\", \"count\": 10}, {\"date\": \"2015-08-07T00:00:00\", \"count\": 40}, {\"date\": \"2015-08-08T00:00:00\", \"count\": 6}, {\"date\": \"2015-08-09T00:00:00\", \"count\": 12}, {\"date\": \"2015-08-10T00:00:00\", \"count\": 17}, {\"date\": \"2015-08-11T00:00:00\", \"count\": 7}, {\"date\": \"2015-08-12T00:00:00\", \"count\": 2}, {\"date\": \"2015-08-13T00:00:00\", \"count\": 4}, {\"date\": \"2015-08-14T00:00:00\", \"count\": 1}, {\"date\": \"2015-08-15T00:00:00\", \"count\": 5}, {\"date\": \"2015-08-17T00:00:00\", \"count\": 14}, {\"date\": \"2015-08-18T00:00:00\", \"count\": 14}, {\"date\": \"2015-08-19T00:00:00\", \"count\": 7}, {\"date\": \"2015-08-20T00:00:00\", \"count\": 9}, {\"date\": \"2015-08-21T00:00:00\", \"count\": 10}, {\"date\": \"2015-08-22T00:00:00\", \"count\": 11}, {\"date\": \"2015-08-23T00:00:00\", \"count\": 2}, {\"date\": \"2015-08-24T00:00:00\", \"count\": 28}, {\"date\": \"2015-08-25T00:00:00\", \"count\": 21}, {\"date\": \"2015-08-26T00:00:00\", \"count\": 4}, {\"date\": \"2015-08-27T00:00:00\", \"count\": 13}, {\"date\": \"2015-08-28T00:00:00\", \"count\": 7}, {\"date\": \"2015-08-29T00:00:00\", \"count\": 7}, {\"date\": \"2015-08-31T00:00:00\", \"count\": 11}, {\"date\": \"2015-09-01T00:00:00\", \"count\": 17}, {\"date\": \"2015-09-02T00:00:00\", \"count\": 14}, {\"date\": \"2015-09-03T00:00:00\", \"count\": 6}, {\"date\": \"2015-09-04T00:00:00\", \"count\": 5}, {\"date\": \"2015-09-05T00:00:00\", \"count\": 11}, {\"date\": \"2015-09-06T00:00:00\", \"count\": 28}, {\"date\": \"2015-09-07T00:00:00\", \"count\": 8}, {\"date\": \"2015-09-08T00:00:00\", \"count\": 16}, {\"date\": \"2015-09-09T00:00:00\", \"count\": 5}, {\"date\": \"2015-09-10T00:00:00\", \"count\": 4}, {\"date\": \"2015-09-11T00:00:00\", \"count\": 15}, {\"date\": \"2015-09-12T00:00:00\", \"count\": 40}, {\"date\": \"2015-09-13T00:00:00\", \"count\": 1}, {\"date\": \"2015-09-14T00:00:00\", \"count\": 11}, {\"date\": \"2015-09-15T00:00:00\", \"count\": 18}, {\"date\": \"2015-09-16T00:00:00\", \"count\": 7}, {\"date\": \"2015-09-17T00:00:00\", \"count\": 5}, {\"date\": \"2015-09-18T00:00:00\", \"count\": 5}, {\"date\": \"2015-09-19T00:00:00\", \"count\": 9}, {\"date\": \"2015-09-20T00:00:00\", \"count\": 9}, {\"date\": \"2015-09-21T00:00:00\", \"count\": 62}, {\"date\": \"2015-09-22T00:00:00\", \"count\": 20}, {\"date\": \"2015-09-23T00:00:00\", \"count\": 7}, {\"date\": \"2015-09-24T00:00:00\", \"count\": 16}, {\"date\": \"2015-09-25T00:00:00\", \"count\": 14}, {\"date\": \"2015-09-26T00:00:00\", \"count\": 11}, {\"date\": \"2015-09-27T00:00:00\", \"count\": 13}, {\"date\": \"2015-09-28T00:00:00\", \"count\": 12}, {\"date\": \"2015-09-29T00:00:00\", \"count\": 5}, {\"date\": \"2015-09-30T00:00:00\", \"count\": 19}, {\"date\": \"2015-10-01T00:00:00\", \"count\": 20}, {\"date\": \"2015-10-02T00:00:00\", \"count\": 23}, {\"date\": \"2015-10-03T00:00:00\", \"count\": 17}, {\"date\": \"2015-10-04T00:00:00\", \"count\": 21}, {\"date\": \"2015-10-05T00:00:00\", \"count\": 17}, {\"date\": \"2015-10-06T00:00:00\", \"count\": 38}, {\"date\": \"2015-10-07T00:00:00\", \"count\": 17}, {\"date\": \"2015-10-08T00:00:00\", \"count\": 24}, {\"date\": \"2015-10-09T00:00:00\", \"count\": 32}, {\"date\": \"2015-10-10T00:00:00\", \"count\": 13}, {\"date\": \"2015-10-11T00:00:00\", \"count\": 6}, {\"date\": \"2015-10-12T00:00:00\", \"count\": 12}, {\"date\": \"2015-10-13T00:00:00\", \"count\": 93}, {\"date\": \"2015-10-14T00:00:00\", \"count\": 17}, {\"date\": \"2015-10-15T00:00:00\", \"count\": 18}, {\"date\": \"2015-10-16T00:00:00\", \"count\": 21}, {\"date\": \"2015-10-17T00:00:00\", \"count\": 15}, {\"date\": \"2015-10-18T00:00:00\", \"count\": 69}, {\"date\": \"2015-10-19T00:00:00\", \"count\": 13}, {\"date\": \"2015-10-20T00:00:00\", \"count\": 28}, {\"date\": \"2015-10-21T00:00:00\", \"count\": 11}, {\"date\": \"2015-10-22T00:00:00\", \"count\": 10}, {\"date\": \"2015-10-23T00:00:00\", \"count\": 3}, {\"date\": \"2015-10-24T00:00:00\", \"count\": 25}, {\"date\": \"2015-10-25T00:00:00\", \"count\": 46}, {\"date\": \"2015-10-26T00:00:00\", \"count\": 11}, {\"date\": \"2015-10-27T00:00:00\", \"count\": 20}, {\"date\": \"2015-10-28T00:00:00\", \"count\": 32}, {\"date\": \"2015-10-29T00:00:00\", \"count\": 45}, {\"date\": \"2015-10-30T00:00:00\", \"count\": 25}, {\"date\": \"2015-10-31T00:00:00\", \"count\": 44}, {\"date\": \"2015-11-01T00:00:00\", \"count\": 20}, {\"date\": \"2015-11-02T00:00:00\", \"count\": 19}, {\"date\": \"2015-11-03T00:00:00\", \"count\": 32}, {\"date\": \"2015-11-04T00:00:00\", \"count\": 5}, {\"date\": \"2015-11-05T00:00:00\", \"count\": 15}, {\"date\": \"2015-11-06T00:00:00\", \"count\": 38}, {\"date\": \"2015-11-07T00:00:00\", \"count\": 23}, {\"date\": \"2015-11-08T00:00:00\", \"count\": 37}, {\"date\": \"2015-11-09T00:00:00\", \"count\": 16}, {\"date\": \"2015-11-10T00:00:00\", \"count\": 16}, {\"date\": \"2015-11-11T00:00:00\", \"count\": 14}, {\"date\": \"2015-11-12T00:00:00\", \"count\": 20}, {\"date\": \"2015-11-13T00:00:00\", \"count\": 13}, {\"date\": \"2015-11-14T00:00:00\", \"count\": 23}, {\"date\": \"2015-11-15T00:00:00\", \"count\": 23}, {\"date\": \"2015-11-16T00:00:00\", \"count\": 12}, {\"date\": \"2015-11-17T00:00:00\", \"count\": 12}, {\"date\": \"2015-11-18T00:00:00\", \"count\": 6}, {\"date\": \"2015-11-19T00:00:00\", \"count\": 21}, {\"date\": \"2015-11-20T00:00:00\", \"count\": 42}, {\"date\": \"2015-11-21T00:00:00\", \"count\": 28}, {\"date\": \"2015-11-22T00:00:00\", \"count\": 19}, {\"date\": \"2015-11-23T00:00:00\", \"count\": 18}, {\"date\": \"2015-11-24T00:00:00\", \"count\": 17}, {\"date\": \"2015-11-25T00:00:00\", \"count\": 20}, {\"date\": \"2015-11-26T00:00:00\", \"count\": 9}, {\"date\": \"2015-11-27T00:00:00\", \"count\": 8}, {\"date\": \"2015-11-28T00:00:00\", \"count\": 18}, {\"date\": \"2015-11-29T00:00:00\", \"count\": 17}, {\"date\": \"2015-11-30T00:00:00\", \"count\": 12}, {\"date\": \"2015-12-01T00:00:00\", \"count\": 20}, {\"date\": \"2015-12-02T00:00:00\", \"count\": 20}, {\"date\": \"2015-12-03T00:00:00\", \"count\": 34}, {\"date\": \"2015-12-04T00:00:00\", \"count\": 25}, {\"date\": \"2015-12-05T00:00:00\", \"count\": 10}, {\"date\": \"2015-12-06T00:00:00\", \"count\": 39}, {\"date\": \"2015-12-07T00:00:00\", \"count\": 29}, {\"date\": \"2015-12-08T00:00:00\", \"count\": 15}, {\"date\": \"2015-12-09T00:00:00\", \"count\": 31}, {\"date\": \"2015-12-10T00:00:00\", \"count\": 20}, {\"date\": \"2015-12-11T00:00:00\", \"count\": 19}, {\"date\": \"2015-12-12T00:00:00\", \"count\": 23}, {\"date\": \"2015-12-13T00:00:00\", \"count\": 32}, {\"date\": \"2015-12-14T00:00:00\", \"count\": 17}, {\"date\": \"2015-12-15T00:00:00\", \"count\": 27}, {\"date\": \"2015-12-16T00:00:00\", \"count\": 19}, {\"date\": \"2015-12-17T00:00:00\", \"count\": 6}, {\"date\": \"2015-12-18T00:00:00\", \"count\": 12}, {\"date\": \"2015-12-19T00:00:00\", \"count\": 11}, {\"date\": \"2015-12-20T00:00:00\", \"count\": 14}, {\"date\": \"2015-12-21T00:00:00\", \"count\": 16}, {\"date\": \"2015-12-22T00:00:00\", \"count\": 28}, {\"date\": \"2015-12-23T00:00:00\", \"count\": 13}, {\"date\": \"2015-12-24T00:00:00\", \"count\": 16}, {\"date\": \"2015-12-25T00:00:00\", \"count\": 13}, {\"date\": \"2015-12-26T00:00:00\", \"count\": 8}, {\"date\": \"2015-12-27T00:00:00\", \"count\": 11}, {\"date\": \"2015-12-28T00:00:00\", \"count\": 15}, {\"date\": \"2015-12-29T00:00:00\", \"count\": 10}, {\"date\": \"2015-12-30T00:00:00\", \"count\": 19}, {\"date\": \"2015-12-31T00:00:00\", \"count\": 23}, {\"date\": \"2016-01-01T00:00:00\", \"count\": 12}, {\"date\": \"2016-01-02T00:00:00\", \"count\": 15}, {\"date\": \"2016-01-03T00:00:00\", \"count\": 13}, {\"date\": \"2016-01-04T00:00:00\", \"count\": 14}, {\"date\": \"2016-01-05T00:00:00\", \"count\": 15}, {\"date\": \"2016-01-06T00:00:00\", \"count\": 7}, {\"date\": \"2016-01-07T00:00:00\", \"count\": 19}, {\"date\": \"2016-01-08T00:00:00\", \"count\": 9}, {\"date\": \"2016-01-09T00:00:00\", \"count\": 12}, {\"date\": \"2016-01-10T00:00:00\", \"count\": 11}, {\"date\": \"2016-01-11T00:00:00\", \"count\": 18}, {\"date\": \"2016-01-12T00:00:00\", \"count\": 11}, {\"date\": \"2016-01-13T00:00:00\", \"count\": 13}, {\"date\": \"2016-01-14T00:00:00\", \"count\": 9}, {\"date\": \"2016-01-15T00:00:00\", \"count\": 11}, {\"date\": \"2016-01-16T00:00:00\", \"count\": 17}, {\"date\": \"2016-01-17T00:00:00\", \"count\": 6}, {\"date\": \"2016-01-18T00:00:00\", \"count\": 10}, {\"date\": \"2016-01-19T00:00:00\", \"count\": 16}, {\"date\": \"2016-01-20T00:00:00\", \"count\": 10}, {\"date\": \"2016-01-21T00:00:00\", \"count\": 21}, {\"date\": \"2016-01-22T00:00:00\", \"count\": 32}, {\"date\": \"2016-01-23T00:00:00\", \"count\": 21}, {\"date\": \"2016-01-24T00:00:00\", \"count\": 21}, {\"date\": \"2016-01-25T00:00:00\", \"count\": 27}, {\"date\": \"2016-01-26T00:00:00\", \"count\": 24}, {\"date\": \"2016-01-27T00:00:00\", \"count\": 13}, {\"date\": \"2016-01-28T00:00:00\", \"count\": 35}, {\"date\": \"2016-01-29T00:00:00\", \"count\": 23}, {\"date\": \"2016-01-30T00:00:00\", \"count\": 4}, {\"date\": \"2016-01-31T00:00:00\", \"count\": 18}, {\"date\": \"2016-02-01T00:00:00\", \"count\": 4}, {\"date\": \"2016-02-02T00:00:00\", \"count\": 16}, {\"date\": \"2016-02-03T00:00:00\", \"count\": 20}, {\"date\": \"2016-02-04T00:00:00\", \"count\": 5}, {\"date\": \"2016-02-05T00:00:00\", \"count\": 20}, {\"date\": \"2016-02-06T00:00:00\", \"count\": 14}, {\"date\": \"2016-02-07T00:00:00\", \"count\": 22}, {\"date\": \"2016-02-08T00:00:00\", \"count\": 13}, {\"date\": \"2016-02-09T00:00:00\", \"count\": 15}, {\"date\": \"2016-02-10T00:00:00\", \"count\": 10}, {\"date\": \"2016-02-11T00:00:00\", \"count\": 14}, {\"date\": \"2016-02-12T00:00:00\", \"count\": 19}, {\"date\": \"2016-02-13T00:00:00\", \"count\": 31}, {\"date\": \"2016-02-14T00:00:00\", \"count\": 10}, {\"date\": \"2016-02-15T00:00:00\", \"count\": 11}, {\"date\": \"2016-02-16T00:00:00\", \"count\": 14}, {\"date\": \"2016-02-17T00:00:00\", \"count\": 13}, {\"date\": \"2016-02-18T00:00:00\", \"count\": 17}, {\"date\": \"2016-02-19T00:00:00\", \"count\": 14}, {\"date\": \"2016-02-20T00:00:00\", \"count\": 21}, {\"date\": \"2016-02-21T00:00:00\", \"count\": 8}, {\"date\": \"2016-02-22T00:00:00\", \"count\": 31}, {\"date\": \"2016-02-23T00:00:00\", \"count\": 23}, {\"date\": \"2016-02-24T00:00:00\", \"count\": 27}, {\"date\": \"2016-02-25T00:00:00\", \"count\": 21}, {\"date\": \"2016-02-26T00:00:00\", \"count\": 23}, {\"date\": \"2016-02-27T00:00:00\", \"count\": 16}, {\"date\": \"2016-02-28T00:00:00\", \"count\": 28}, {\"date\": \"2016-02-29T00:00:00\", \"count\": 14}, {\"date\": \"2016-03-01T00:00:00\", \"count\": 15}, {\"date\": \"2016-03-02T00:00:00\", \"count\": 23}, {\"date\": \"2016-03-03T00:00:00\", \"count\": 17}, {\"date\": \"2016-03-04T00:00:00\", \"count\": 11}, {\"date\": \"2016-03-05T00:00:00\", \"count\": 21}, {\"date\": \"2016-03-06T00:00:00\", \"count\": 14}, {\"date\": \"2016-03-07T00:00:00\", \"count\": 18}, {\"date\": \"2016-03-08T00:00:00\", \"count\": 22}, {\"date\": \"2016-03-09T00:00:00\", \"count\": 3}, {\"date\": \"2016-03-10T00:00:00\", \"count\": 6}, {\"date\": \"2016-03-11T00:00:00\", \"count\": 12}, {\"date\": \"2016-03-12T00:00:00\", \"count\": 17}, {\"date\": \"2016-03-13T00:00:00\", \"count\": 11}, {\"date\": \"2016-03-14T00:00:00\", \"count\": 13}, {\"date\": \"2016-03-15T00:00:00\", \"count\": 31}, {\"date\": \"2016-03-16T00:00:00\", \"count\": 16}, {\"date\": \"2016-03-17T00:00:00\", \"count\": 13}, {\"date\": \"2016-03-18T00:00:00\", \"count\": 27}, {\"date\": \"2016-03-19T00:00:00\", \"count\": 20}, {\"date\": \"2016-03-20T00:00:00\", \"count\": 9}, {\"date\": \"2016-03-22T00:00:00\", \"count\": 17}, {\"date\": \"2016-03-23T00:00:00\", \"count\": 13}, {\"date\": \"2016-03-24T00:00:00\", \"count\": 21}, {\"date\": \"2016-03-25T00:00:00\", \"count\": 4}, {\"date\": \"2016-03-26T00:00:00\", \"count\": 10}, {\"date\": \"2016-03-27T00:00:00\", \"count\": 10}, {\"date\": \"2016-03-28T00:00:00\", \"count\": 12}, {\"date\": \"2016-03-29T00:00:00\", \"count\": 14}, {\"date\": \"2016-03-30T00:00:00\", \"count\": 7}, {\"date\": \"2016-03-31T00:00:00\", \"count\": 8}, {\"date\": \"2016-04-01T00:00:00\", \"count\": 10}, {\"date\": \"2016-04-02T00:00:00\", \"count\": 8}, {\"date\": \"2016-04-03T00:00:00\", \"count\": 14}, {\"date\": \"2016-04-04T00:00:00\", \"count\": 11}, {\"date\": \"2016-04-05T00:00:00\", \"count\": 7}, {\"date\": \"2016-04-06T00:00:00\", \"count\": 4}, {\"date\": \"2016-04-07T00:00:00\", \"count\": 6}, {\"date\": \"2016-04-08T00:00:00\", \"count\": 17}, {\"date\": \"2016-04-09T00:00:00\", \"count\": 14}, {\"date\": \"2016-04-10T00:00:00\", \"count\": 7}, {\"date\": \"2016-04-11T00:00:00\", \"count\": 13}, {\"date\": \"2016-04-12T00:00:00\", \"count\": 7}, {\"date\": \"2016-04-13T00:00:00\", \"count\": 6}, {\"date\": \"2016-04-14T00:00:00\", \"count\": 2}, {\"date\": \"2016-04-15T00:00:00\", \"count\": 6}, {\"date\": \"2016-04-16T00:00:00\", \"count\": 13}, {\"date\": \"2016-04-17T00:00:00\", \"count\": 7}, {\"date\": \"2016-04-18T00:00:00\", \"count\": 7}, {\"date\": \"2016-04-19T00:00:00\", \"count\": 20}, {\"date\": \"2016-04-20T00:00:00\", \"count\": 7}, {\"date\": \"2016-04-21T00:00:00\", \"count\": 4}, {\"date\": \"2016-04-22T00:00:00\", \"count\": 6}, {\"date\": \"2016-04-23T00:00:00\", \"count\": 12}, {\"date\": \"2016-04-24T00:00:00\", \"count\": 8}, {\"date\": \"2016-04-25T00:00:00\", \"count\": 9}, {\"date\": \"2016-04-26T00:00:00\", \"count\": 17}, {\"date\": \"2016-04-27T00:00:00\", \"count\": 15}, {\"date\": \"2016-04-28T00:00:00\", \"count\": 14}, {\"date\": \"2016-04-29T00:00:00\", \"count\": 5}, {\"date\": \"2016-04-30T00:00:00\", \"count\": 6}, {\"date\": \"2016-05-01T00:00:00\", \"count\": 8}, {\"date\": \"2016-05-02T00:00:00\", \"count\": 14}, {\"date\": \"2016-05-03T00:00:00\", \"count\": 11}, {\"date\": \"2016-05-04T00:00:00\", \"count\": 5}, {\"date\": \"2016-05-05T00:00:00\", \"count\": 7}, {\"date\": \"2016-05-06T00:00:00\", \"count\": 17}, {\"date\": \"2016-05-07T00:00:00\", \"count\": 6}, {\"date\": \"2016-05-08T00:00:00\", \"count\": 6}, {\"date\": \"2016-05-09T00:00:00\", \"count\": 20}, {\"date\": \"2016-05-10T00:00:00\", \"count\": 18}, {\"date\": \"2016-05-11T00:00:00\", \"count\": 13}, {\"date\": \"2016-05-12T00:00:00\", \"count\": 3}, {\"date\": \"2016-05-13T00:00:00\", \"count\": 3}, {\"date\": \"2016-05-14T00:00:00\", \"count\": 3}, {\"date\": \"2016-05-15T00:00:00\", \"count\": 15}, {\"date\": \"2016-05-16T00:00:00\", \"count\": 16}, {\"date\": \"2016-05-17T00:00:00\", \"count\": 54}, {\"date\": \"2016-05-18T00:00:00\", \"count\": 7}, {\"date\": \"2016-05-19T00:00:00\", \"count\": 3}, {\"date\": \"2016-05-20T00:00:00\", \"count\": 18}, {\"date\": \"2016-05-21T00:00:00\", \"count\": 9}, {\"date\": \"2016-05-22T00:00:00\", \"count\": 9}, {\"date\": \"2016-05-23T00:00:00\", \"count\": 8}, {\"date\": \"2016-05-24T00:00:00\", \"count\": 18}, {\"date\": \"2016-05-25T00:00:00\", \"count\": 6}, {\"date\": \"2016-05-26T00:00:00\", \"count\": 9}, {\"date\": \"2016-05-27T00:00:00\", \"count\": 8}, {\"date\": \"2016-05-28T00:00:00\", \"count\": 7}, {\"date\": \"2016-05-29T00:00:00\", \"count\": 6}, {\"date\": \"2016-05-30T00:00:00\", \"count\": 13}, {\"date\": \"2016-05-31T00:00:00\", \"count\": 9}, {\"date\": \"2016-06-01T00:00:00\", \"count\": 7}, {\"date\": \"2016-06-02T00:00:00\", \"count\": 29}, {\"date\": \"2016-06-03T00:00:00\", \"count\": 10}, {\"date\": \"2016-06-04T00:00:00\", \"count\": 7}, {\"date\": \"2016-06-05T00:00:00\", \"count\": 3}, {\"date\": \"2016-06-06T00:00:00\", \"count\": 12}, {\"date\": \"2016-06-07T00:00:00\", \"count\": 8}, {\"date\": \"2016-06-08T00:00:00\", \"count\": 19}, {\"date\": \"2016-06-09T00:00:00\", \"count\": 8}, {\"date\": \"2016-06-10T00:00:00\", \"count\": 13}, {\"date\": \"2016-06-11T00:00:00\", \"count\": 10}, {\"date\": \"2016-06-12T00:00:00\", \"count\": 8}, {\"date\": \"2016-06-13T00:00:00\", \"count\": 13}, {\"date\": \"2016-06-14T00:00:00\", \"count\": 6}, {\"date\": \"2016-06-15T00:00:00\", \"count\": 9}, {\"date\": \"2016-06-16T00:00:00\", \"count\": 7}, {\"date\": \"2016-06-17T00:00:00\", \"count\": 12}, {\"date\": \"2016-06-18T00:00:00\", \"count\": 9}, {\"date\": \"2016-06-19T00:00:00\", \"count\": 2}, {\"date\": \"2016-06-20T00:00:00\", \"count\": 1}, {\"date\": \"2016-06-21T00:00:00\", \"count\": 14}, {\"date\": \"2016-06-22T00:00:00\", \"count\": 6}, {\"date\": \"2016-06-23T00:00:00\", \"count\": 17}, {\"date\": \"2016-06-24T00:00:00\", \"count\": 13}, {\"date\": \"2016-06-25T00:00:00\", \"count\": 9}, {\"date\": \"2016-06-26T00:00:00\", \"count\": 15}, {\"date\": \"2016-06-27T00:00:00\", \"count\": 3}, {\"date\": \"2016-06-28T00:00:00\", \"count\": 13}, {\"date\": \"2016-06-29T00:00:00\", \"count\": 11}, {\"date\": \"2016-06-30T00:00:00\", \"count\": 9}, {\"date\": \"2016-07-01T00:00:00\", \"count\": 11}, {\"date\": \"2016-07-02T00:00:00\", \"count\": 12}, {\"date\": \"2016-07-03T00:00:00\", \"count\": 8}, {\"date\": \"2016-07-04T00:00:00\", \"count\": 13}, {\"date\": \"2016-07-05T00:00:00\", \"count\": 10}, {\"date\": \"2016-07-06T00:00:00\", \"count\": 12}, {\"date\": \"2016-07-07T00:00:00\", \"count\": 6}, {\"date\": \"2016-07-08T00:00:00\", \"count\": 5}, {\"date\": \"2016-07-09T00:00:00\", \"count\": 2}, {\"date\": \"2016-07-10T00:00:00\", \"count\": 4}, {\"date\": \"2016-07-11T00:00:00\", \"count\": 6}, {\"date\": \"2016-07-12T00:00:00\", \"count\": 14}, {\"date\": \"2016-07-13T00:00:00\", \"count\": 14}, {\"date\": \"2016-07-14T00:00:00\", \"count\": 6}, {\"date\": \"2016-07-15T00:00:00\", \"count\": 4}, {\"date\": \"2016-07-16T00:00:00\", \"count\": 13}, {\"date\": \"2016-07-17T00:00:00\", \"count\": 12}, {\"date\": \"2016-07-18T00:00:00\", \"count\": 8}, {\"date\": \"2016-07-19T00:00:00\", \"count\": 5}, {\"date\": \"2016-07-20T00:00:00\", \"count\": 23}, {\"date\": \"2016-07-21T00:00:00\", \"count\": 14}, {\"date\": \"2016-07-22T00:00:00\", \"count\": 7}, {\"date\": \"2016-07-23T00:00:00\", \"count\": 14}, {\"date\": \"2016-07-24T00:00:00\", \"count\": 17}, {\"date\": \"2016-07-25T00:00:00\", \"count\": 22}, {\"date\": \"2016-07-26T00:00:00\", \"count\": 19}, {\"date\": \"2016-07-27T00:00:00\", \"count\": 21}, {\"date\": \"2016-07-28T00:00:00\", \"count\": 21}, {\"date\": \"2016-07-29T00:00:00\", \"count\": 27}, {\"date\": \"2016-07-30T00:00:00\", \"count\": 23}, {\"date\": \"2016-07-31T00:00:00\", \"count\": 5}, {\"date\": \"2016-08-01T00:00:00\", \"count\": 25}, {\"date\": \"2016-08-02T00:00:00\", \"count\": 14}, {\"date\": \"2016-08-03T00:00:00\", \"count\": 7}, {\"date\": \"2016-08-04T00:00:00\", \"count\": 8}, {\"date\": \"2016-08-05T00:00:00\", \"count\": 34}, {\"date\": \"2016-08-06T00:00:00\", \"count\": 10}, {\"date\": \"2016-08-07T00:00:00\", \"count\": 5}, {\"date\": \"2016-08-08T00:00:00\", \"count\": 14}, {\"date\": \"2016-08-09T00:00:00\", \"count\": 19}, {\"date\": \"2016-08-10T00:00:00\", \"count\": 13}, {\"date\": \"2016-08-11T00:00:00\", \"count\": 7}, {\"date\": \"2016-08-12T00:00:00\", \"count\": 13}, {\"date\": \"2016-08-13T00:00:00\", \"count\": 7}, {\"date\": \"2016-08-14T00:00:00\", \"count\": 10}, {\"date\": \"2016-08-15T00:00:00\", \"count\": 3}, {\"date\": \"2016-08-16T00:00:00\", \"count\": 7}, {\"date\": \"2016-08-17T00:00:00\", \"count\": 8}, {\"date\": \"2016-08-18T00:00:00\", \"count\": 4}, {\"date\": \"2016-08-19T00:00:00\", \"count\": 10}, {\"date\": \"2016-08-20T00:00:00\", \"count\": 8}, {\"date\": \"2016-08-21T00:00:00\", \"count\": 7}, {\"date\": \"2016-08-22T00:00:00\", \"count\": 9}, {\"date\": \"2016-08-23T00:00:00\", \"count\": 8}, {\"date\": \"2016-08-24T00:00:00\", \"count\": 10}, {\"date\": \"2016-08-25T00:00:00\", \"count\": 12}, {\"date\": \"2016-08-26T00:00:00\", \"count\": 14}, {\"date\": \"2016-08-27T00:00:00\", \"count\": 10}, {\"date\": \"2016-08-28T00:00:00\", \"count\": 6}, {\"date\": \"2016-08-29T00:00:00\", \"count\": 13}, {\"date\": \"2016-08-30T00:00:00\", \"count\": 8}, {\"date\": \"2016-08-31T00:00:00\", \"count\": 10}, {\"date\": \"2016-09-01T00:00:00\", \"count\": 6}, {\"date\": \"2016-09-02T00:00:00\", \"count\": 5}, {\"date\": \"2016-09-03T00:00:00\", \"count\": 5}, {\"date\": \"2016-09-04T00:00:00\", \"count\": 14}, {\"date\": \"2016-09-05T00:00:00\", \"count\": 6}, {\"date\": \"2016-09-06T00:00:00\", \"count\": 13}, {\"date\": \"2016-09-07T00:00:00\", \"count\": 5}, {\"date\": \"2016-09-08T00:00:00\", \"count\": 15}, {\"date\": \"2016-09-09T00:00:00\", \"count\": 12}, {\"date\": \"2016-09-10T00:00:00\", \"count\": 8}, {\"date\": \"2016-09-11T00:00:00\", \"count\": 1}, {\"date\": \"2016-09-12T00:00:00\", \"count\": 5}, {\"date\": \"2016-09-13T00:00:00\", \"count\": 13}, {\"date\": \"2016-09-14T00:00:00\", \"count\": 11}, {\"date\": \"2016-09-15T00:00:00\", \"count\": 12}, {\"date\": \"2016-09-16T00:00:00\", \"count\": 9}, {\"date\": \"2016-09-17T00:00:00\", \"count\": 8}, {\"date\": \"2016-09-18T00:00:00\", \"count\": 5}, {\"date\": \"2016-09-19T00:00:00\", \"count\": 10}, {\"date\": \"2016-09-20T00:00:00\", \"count\": 8}, {\"date\": \"2016-09-21T00:00:00\", \"count\": 9}, {\"date\": \"2016-09-22T00:00:00\", \"count\": 4}, {\"date\": \"2016-09-23T00:00:00\", \"count\": 6}, {\"date\": \"2016-09-24T00:00:00\", \"count\": 6}, {\"date\": \"2016-09-25T00:00:00\", \"count\": 6}, {\"date\": \"2016-09-26T00:00:00\", \"count\": 36}, {\"date\": \"2016-09-27T00:00:00\", \"count\": 21}, {\"date\": \"2016-09-28T00:00:00\", \"count\": 11}, {\"date\": \"2016-09-29T00:00:00\", \"count\": 5}, {\"date\": \"2016-09-30T00:00:00\", \"count\": 12}, {\"date\": \"2016-10-01T00:00:00\", \"count\": 5}, {\"date\": \"2016-10-02T00:00:00\", \"count\": 6}, {\"date\": \"2016-10-03T00:00:00\", \"count\": 5}, {\"date\": \"2016-10-04T00:00:00\", \"count\": 56}, {\"date\": \"2016-10-05T00:00:00\", \"count\": 16}, {\"date\": \"2016-10-06T00:00:00\", \"count\": 9}, {\"date\": \"2016-10-07T00:00:00\", \"count\": 1}, {\"date\": \"2016-10-08T00:00:00\", \"count\": 5}, {\"date\": \"2016-10-09T00:00:00\", \"count\": 68}, {\"date\": \"2016-10-10T00:00:00\", \"count\": 7}, {\"date\": \"2016-10-11T00:00:00\", \"count\": 17}, {\"date\": \"2016-10-12T00:00:00\", \"count\": 6}, {\"date\": \"2016-10-13T00:00:00\", \"count\": 12}, {\"date\": \"2016-10-14T00:00:00\", \"count\": 5}, {\"date\": \"2016-10-15T00:00:00\", \"count\": 14}, {\"date\": \"2016-10-16T00:00:00\", \"count\": 16}, {\"date\": \"2016-10-17T00:00:00\", \"count\": 26}, {\"date\": \"2016-10-18T00:00:00\", \"count\": 15}, {\"date\": \"2016-10-19T00:00:00\", \"count\": 87}, {\"date\": \"2016-10-20T00:00:00\", \"count\": 15}, {\"date\": \"2016-10-21T00:00:00\", \"count\": 16}, {\"date\": \"2016-10-22T00:00:00\", \"count\": 16}, {\"date\": \"2016-10-23T00:00:00\", \"count\": 11}, {\"date\": \"2016-10-24T00:00:00\", \"count\": 18}, {\"date\": \"2016-10-25T00:00:00\", \"count\": 17}, {\"date\": \"2016-10-26T00:00:00\", \"count\": 5}, {\"date\": \"2016-10-27T00:00:00\", \"count\": 22}, {\"date\": \"2016-10-28T00:00:00\", \"count\": 10}, {\"date\": \"2016-10-29T00:00:00\", \"count\": 8}, {\"date\": \"2016-10-30T00:00:00\", \"count\": 9}, {\"date\": \"2016-10-31T00:00:00\", \"count\": 6}, {\"date\": \"2016-11-01T00:00:00\", \"count\": 16}, {\"date\": \"2016-11-02T00:00:00\", \"count\": 14}, {\"date\": \"2016-11-03T00:00:00\", \"count\": 9}, {\"date\": \"2016-11-04T00:00:00\", \"count\": 13}, {\"date\": \"2016-11-05T00:00:00\", \"count\": 12}, {\"date\": \"2016-11-06T00:00:00\", \"count\": 9}, {\"date\": \"2016-11-07T00:00:00\", \"count\": 16}, {\"date\": \"2016-11-08T00:00:00\", \"count\": 12}, {\"date\": \"2016-11-09T00:00:00\", \"count\": 1}, {\"date\": \"2016-11-10T00:00:00\", \"count\": 3}, {\"date\": \"2016-11-11T00:00:00\", \"count\": 3}, {\"date\": \"2016-11-12T00:00:00\", \"count\": 1}, {\"date\": \"2016-11-13T00:00:00\", \"count\": 8}, {\"date\": \"2016-11-15T00:00:00\", \"count\": 3}, {\"date\": \"2016-11-16T00:00:00\", \"count\": 4}, {\"date\": \"2016-11-17T00:00:00\", \"count\": 4}, {\"date\": \"2016-11-18T00:00:00\", \"count\": 1}, {\"date\": \"2016-11-19T00:00:00\", \"count\": 4}, {\"date\": \"2016-11-20T00:00:00\", \"count\": 5}, {\"date\": \"2016-11-21T00:00:00\", \"count\": 3}, {\"date\": \"2016-11-22T00:00:00\", \"count\": 9}, {\"date\": \"2016-11-23T00:00:00\", \"count\": 2}, {\"date\": \"2016-11-24T00:00:00\", \"count\": 1}, {\"date\": \"2016-11-26T00:00:00\", \"count\": 3}, {\"date\": \"2016-11-27T00:00:00\", \"count\": 11}, {\"date\": \"2016-11-28T00:00:00\", \"count\": 7}, {\"date\": \"2016-11-29T00:00:00\", \"count\": 9}, {\"date\": \"2016-11-30T00:00:00\", \"count\": 10}, {\"date\": \"2016-12-01T00:00:00\", \"count\": 4}, {\"date\": \"2016-12-02T00:00:00\", \"count\": 3}, {\"date\": \"2016-12-03T00:00:00\", \"count\": 4}, {\"date\": \"2016-12-04T00:00:00\", \"count\": 10}, {\"date\": \"2016-12-05T00:00:00\", \"count\": 3}, {\"date\": \"2016-12-06T00:00:00\", \"count\": 6}, {\"date\": \"2016-12-07T00:00:00\", \"count\": 5}, {\"date\": \"2016-12-08T00:00:00\", \"count\": 4}, {\"date\": \"2016-12-09T00:00:00\", \"count\": 3}, {\"date\": \"2016-12-10T00:00:00\", \"count\": 8}, {\"date\": \"2016-12-11T00:00:00\", \"count\": 6}, {\"date\": \"2016-12-12T00:00:00\", \"count\": 9}, {\"date\": \"2016-12-13T00:00:00\", \"count\": 6}, {\"date\": \"2016-12-14T00:00:00\", \"count\": 1}, {\"date\": \"2016-12-15T00:00:00\", \"count\": 6}, {\"date\": \"2016-12-16T00:00:00\", \"count\": 4}, {\"date\": \"2016-12-17T00:00:00\", \"count\": 7}, {\"date\": \"2016-12-18T00:00:00\", \"count\": 1}, {\"date\": \"2016-12-19T00:00:00\", \"count\": 5}, {\"date\": \"2016-12-20T00:00:00\", \"count\": 3}, {\"date\": \"2016-12-21T00:00:00\", \"count\": 4}, {\"date\": \"2016-12-22T00:00:00\", \"count\": 5}, {\"date\": \"2016-12-23T00:00:00\", \"count\": 6}, {\"date\": \"2016-12-24T00:00:00\", \"count\": 3}, {\"date\": \"2016-12-25T00:00:00\", \"count\": 3}, {\"date\": \"2016-12-26T00:00:00\", \"count\": 5}, {\"date\": \"2016-12-27T00:00:00\", \"count\": 2}, {\"date\": \"2016-12-28T00:00:00\", \"count\": 4}, {\"date\": \"2016-12-29T00:00:00\", \"count\": 1}, {\"date\": \"2016-12-30T00:00:00\", \"count\": 3}, {\"date\": \"2016-12-31T00:00:00\", \"count\": 9}, {\"date\": \"2017-01-02T00:00:00\", \"count\": 7}, {\"date\": \"2017-01-03T00:00:00\", \"count\": 11}, {\"date\": \"2017-01-04T00:00:00\", \"count\": 9}, {\"date\": \"2017-01-05T00:00:00\", \"count\": 9}, {\"date\": \"2017-01-06T00:00:00\", \"count\": 11}, {\"date\": \"2017-01-07T00:00:00\", \"count\": 7}, {\"date\": \"2017-01-08T00:00:00\", \"count\": 6}, {\"date\": \"2017-01-09T00:00:00\", \"count\": 8}, {\"date\": \"2017-01-10T00:00:00\", \"count\": 6}, {\"date\": \"2017-01-11T00:00:00\", \"count\": 6}, {\"date\": \"2017-01-12T00:00:00\", \"count\": 4}, {\"date\": \"2017-01-13T00:00:00\", \"count\": 8}, {\"date\": \"2017-01-14T00:00:00\", \"count\": 5}, {\"date\": \"2017-01-15T00:00:00\", \"count\": 8}, {\"date\": \"2017-01-16T00:00:00\", \"count\": 4}, {\"date\": \"2017-01-17T00:00:00\", \"count\": 10}, {\"date\": \"2017-01-18T00:00:00\", \"count\": 10}, {\"date\": \"2017-01-19T00:00:00\", \"count\": 8}, {\"date\": \"2017-01-20T00:00:00\", \"count\": 12}, {\"date\": \"2017-01-21T00:00:00\", \"count\": 2}, {\"date\": \"2017-01-22T00:00:00\", \"count\": 4}, {\"date\": \"2017-01-23T00:00:00\", \"count\": 1}, {\"date\": \"2017-01-24T00:00:00\", \"count\": 8}, {\"date\": \"2017-01-25T00:00:00\", \"count\": 9}, {\"date\": \"2017-01-26T00:00:00\", \"count\": 6}, {\"date\": \"2017-01-27T00:00:00\", \"count\": 7}, {\"date\": \"2017-01-28T00:00:00\", \"count\": 4}, {\"date\": \"2017-01-29T00:00:00\", \"count\": 7}, {\"date\": \"2017-01-30T00:00:00\", \"count\": 8}, {\"date\": \"2017-01-31T00:00:00\", \"count\": 5}, {\"date\": \"2017-02-01T00:00:00\", \"count\": 3}, {\"date\": \"2017-02-02T00:00:00\", \"count\": 6}, {\"date\": \"2017-02-03T00:00:00\", \"count\": 8}, {\"date\": \"2017-02-04T00:00:00\", \"count\": 9}, {\"date\": \"2017-02-05T00:00:00\", \"count\": 6}, {\"date\": \"2017-02-06T00:00:00\", \"count\": 6}, {\"date\": \"2017-02-07T00:00:00\", \"count\": 4}, {\"date\": \"2017-02-08T00:00:00\", \"count\": 11}, {\"date\": \"2017-02-09T00:00:00\", \"count\": 7}, {\"date\": \"2017-02-10T00:00:00\", \"count\": 3}, {\"date\": \"2017-02-11T00:00:00\", \"count\": 11}, {\"date\": \"2017-02-12T00:00:00\", \"count\": 7}, {\"date\": \"2017-02-13T00:00:00\", \"count\": 5}, {\"date\": \"2017-02-14T00:00:00\", \"count\": 4}, {\"date\": \"2017-02-15T00:00:00\", \"count\": 11}, {\"date\": \"2017-02-16T00:00:00\", \"count\": 6}, {\"date\": \"2017-02-17T00:00:00\", \"count\": 9}, {\"date\": \"2017-02-18T00:00:00\", \"count\": 3}, {\"date\": \"2017-02-19T00:00:00\", \"count\": 2}, {\"date\": \"2017-02-20T00:00:00\", \"count\": 4}, {\"date\": \"2017-02-21T00:00:00\", \"count\": 2}, {\"date\": \"2017-02-22T00:00:00\", \"count\": 2}, {\"date\": \"2017-02-23T00:00:00\", \"count\": 3}, {\"date\": \"2017-02-24T00:00:00\", \"count\": 5}, {\"date\": \"2017-02-25T00:00:00\", \"count\": 6}, {\"date\": \"2017-02-26T00:00:00\", \"count\": 4}, {\"date\": \"2017-02-27T00:00:00\", \"count\": 3}, {\"date\": \"2017-02-28T00:00:00\", \"count\": 2}, {\"date\": \"2017-03-01T00:00:00\", \"count\": 1}, {\"date\": \"2017-03-02T00:00:00\", \"count\": 5}, {\"date\": \"2017-03-03T00:00:00\", \"count\": 9}, {\"date\": \"2017-03-04T00:00:00\", \"count\": 7}, {\"date\": \"2017-03-05T00:00:00\", \"count\": 3}, {\"date\": \"2017-03-06T00:00:00\", \"count\": 6}, {\"date\": \"2017-03-07T00:00:00\", \"count\": 7}, {\"date\": \"2017-03-08T00:00:00\", \"count\": 6}, {\"date\": \"2017-03-09T00:00:00\", \"count\": 4}, {\"date\": \"2017-03-10T00:00:00\", \"count\": 2}, {\"date\": \"2017-03-11T00:00:00\", \"count\": 1}, {\"date\": \"2017-03-12T00:00:00\", \"count\": 1}, {\"date\": \"2017-03-13T00:00:00\", \"count\": 5}, {\"date\": \"2017-03-14T00:00:00\", \"count\": 2}, {\"date\": \"2017-03-15T00:00:00\", \"count\": 9}, {\"date\": \"2017-03-16T00:00:00\", \"count\": 5}, {\"date\": \"2017-03-17T00:00:00\", \"count\": 9}, {\"date\": \"2017-03-18T00:00:00\", \"count\": 2}, {\"date\": \"2017-03-19T00:00:00\", \"count\": 1}, {\"date\": \"2017-03-20T00:00:00\", \"count\": 8}, {\"date\": \"2017-03-21T00:00:00\", \"count\": 3}, {\"date\": \"2017-03-22T00:00:00\", \"count\": 4}, {\"date\": \"2017-03-23T00:00:00\", \"count\": 4}, {\"date\": \"2017-03-24T00:00:00\", \"count\": 4}, {\"date\": \"2017-03-25T00:00:00\", \"count\": 4}, {\"date\": \"2017-03-26T00:00:00\", \"count\": 2}, {\"date\": \"2017-03-27T00:00:00\", \"count\": 4}, {\"date\": \"2017-03-28T00:00:00\", \"count\": 6}, {\"date\": \"2017-03-29T00:00:00\", \"count\": 5}, {\"date\": \"2017-03-30T00:00:00\", \"count\": 9}, {\"date\": \"2017-03-31T00:00:00\", \"count\": 8}, {\"date\": \"2017-04-01T00:00:00\", \"count\": 7}, {\"date\": \"2017-04-02T00:00:00\", \"count\": 4}, {\"date\": \"2017-04-03T00:00:00\", \"count\": 7}, {\"date\": \"2017-04-04T00:00:00\", \"count\": 4}, {\"date\": \"2017-04-05T00:00:00\", \"count\": 2}, {\"date\": \"2017-04-06T00:00:00\", \"count\": 1}, {\"date\": \"2017-04-07T00:00:00\", \"count\": 1}, {\"date\": \"2017-04-08T00:00:00\", \"count\": 5}, {\"date\": \"2017-04-09T00:00:00\", \"count\": 3}, {\"date\": \"2017-04-10T00:00:00\", \"count\": 2}, {\"date\": \"2017-04-11T00:00:00\", \"count\": 6}, {\"date\": \"2017-04-12T00:00:00\", \"count\": 6}, {\"date\": \"2017-04-13T00:00:00\", \"count\": 4}, {\"date\": \"2017-04-14T00:00:00\", \"count\": 2}, {\"date\": \"2017-04-16T00:00:00\", \"count\": 7}, {\"date\": \"2017-04-17T00:00:00\", \"count\": 7}, {\"date\": \"2017-04-18T00:00:00\", \"count\": 7}, {\"date\": \"2017-04-19T00:00:00\", \"count\": 4}, {\"date\": \"2017-04-20T00:00:00\", \"count\": 3}, {\"date\": \"2017-04-21T00:00:00\", \"count\": 8}, {\"date\": \"2017-04-22T00:00:00\", \"count\": 7}, {\"date\": \"2017-04-23T00:00:00\", \"count\": 8}, {\"date\": \"2017-04-24T00:00:00\", \"count\": 6}, {\"date\": \"2017-04-25T00:00:00\", \"count\": 5}, {\"date\": \"2017-04-26T00:00:00\", \"count\": 9}, {\"date\": \"2017-04-27T00:00:00\", \"count\": 12}, {\"date\": \"2017-04-28T00:00:00\", \"count\": 6}, {\"date\": \"2017-04-29T00:00:00\", \"count\": 3}, {\"date\": \"2017-04-30T00:00:00\", \"count\": 5}, {\"date\": \"2017-05-01T00:00:00\", \"count\": 3}, {\"date\": \"2017-05-02T00:00:00\", \"count\": 5}, {\"date\": \"2017-05-03T00:00:00\", \"count\": 2}, {\"date\": \"2017-05-04T00:00:00\", \"count\": 12}, {\"date\": \"2017-05-05T00:00:00\", \"count\": 8}, {\"date\": \"2017-05-06T00:00:00\", \"count\": 1}, {\"date\": \"2017-05-07T00:00:00\", \"count\": 6}, {\"date\": \"2017-05-08T00:00:00\", \"count\": 10}, {\"date\": \"2017-05-09T00:00:00\", \"count\": 3}, {\"date\": \"2017-05-10T00:00:00\", \"count\": 11}, {\"date\": \"2017-05-11T00:00:00\", \"count\": 5}, {\"date\": \"2017-05-12T00:00:00\", \"count\": 11}, {\"date\": \"2017-05-13T00:00:00\", \"count\": 2}, {\"date\": \"2017-05-14T00:00:00\", \"count\": 1}, {\"date\": \"2017-05-15T00:00:00\", \"count\": 2}, {\"date\": \"2017-05-16T00:00:00\", \"count\": 5}, {\"date\": \"2017-05-17T00:00:00\", \"count\": 1}, {\"date\": \"2017-05-18T00:00:00\", \"count\": 5}, {\"date\": \"2017-05-19T00:00:00\", \"count\": 2}, {\"date\": \"2017-05-20T00:00:00\", \"count\": 2}, {\"date\": \"2017-05-21T00:00:00\", \"count\": 3}, {\"date\": \"2017-05-22T00:00:00\", \"count\": 2}, {\"date\": \"2017-05-23T00:00:00\", \"count\": 4}, {\"date\": \"2017-05-24T00:00:00\", \"count\": 2}, {\"date\": \"2017-05-25T00:00:00\", \"count\": 4}, {\"date\": \"2017-05-26T00:00:00\", \"count\": 4}, {\"date\": \"2017-05-27T00:00:00\", \"count\": 7}, {\"date\": \"2017-05-28T00:00:00\", \"count\": 13}, {\"date\": \"2017-05-29T00:00:00\", \"count\": 4}, {\"date\": \"2017-05-30T00:00:00\", \"count\": 6}, {\"date\": \"2017-05-31T00:00:00\", \"count\": 10}, {\"date\": \"2017-06-01T00:00:00\", \"count\": 3}, {\"date\": \"2017-06-02T00:00:00\", \"count\": 9}, {\"date\": \"2017-06-03T00:00:00\", \"count\": 4}, {\"date\": \"2017-06-04T00:00:00\", \"count\": 3}, {\"date\": \"2017-06-05T00:00:00\", \"count\": 9}, {\"date\": \"2017-06-06T00:00:00\", \"count\": 12}, {\"date\": \"2017-06-07T00:00:00\", \"count\": 2}, {\"date\": \"2017-06-09T00:00:00\", \"count\": 8}, {\"date\": \"2017-06-10T00:00:00\", \"count\": 1}, {\"date\": \"2017-06-11T00:00:00\", \"count\": 8}, {\"date\": \"2017-06-12T00:00:00\", \"count\": 5}, {\"date\": \"2017-06-13T00:00:00\", \"count\": 11}, {\"date\": \"2017-06-14T00:00:00\", \"count\": 3}, {\"date\": \"2017-06-15T00:00:00\", \"count\": 6}, {\"date\": \"2017-06-16T00:00:00\", \"count\": 9}, {\"date\": \"2017-06-17T00:00:00\", \"count\": 1}, {\"date\": \"2017-06-18T00:00:00\", \"count\": 7}, {\"date\": \"2017-06-19T00:00:00\", \"count\": 14}, {\"date\": \"2017-06-20T00:00:00\", \"count\": 11}, {\"date\": \"2017-06-21T00:00:00\", \"count\": 3}, {\"date\": \"2017-06-22T00:00:00\", \"count\": 16}, {\"date\": \"2017-06-23T00:00:00\", \"count\": 5}, {\"date\": \"2017-06-24T00:00:00\", \"count\": 4}, {\"date\": \"2017-06-25T00:00:00\", \"count\": 2}, {\"date\": \"2017-06-26T00:00:00\", \"count\": 12}, {\"date\": \"2017-06-27T00:00:00\", \"count\": 11}, {\"date\": \"2017-06-28T00:00:00\", \"count\": 10}, {\"date\": \"2017-06-29T00:00:00\", \"count\": 13}, {\"date\": \"2017-06-30T00:00:00\", \"count\": 6}, {\"date\": \"2017-07-01T00:00:00\", \"count\": 12}, {\"date\": \"2017-07-02T00:00:00\", \"count\": 4}, {\"date\": \"2017-07-03T00:00:00\", \"count\": 12}, {\"date\": \"2017-07-04T00:00:00\", \"count\": 4}, {\"date\": \"2017-07-05T00:00:00\", \"count\": 4}, {\"date\": \"2017-07-06T00:00:00\", \"count\": 5}, {\"date\": \"2017-07-07T00:00:00\", \"count\": 6}, {\"date\": \"2017-07-08T00:00:00\", \"count\": 5}, {\"date\": \"2017-07-09T00:00:00\", \"count\": 11}, {\"date\": \"2017-07-10T00:00:00\", \"count\": 10}, {\"date\": \"2017-07-11T00:00:00\", \"count\": 8}, {\"date\": \"2017-07-12T00:00:00\", \"count\": 13}, {\"date\": \"2017-07-13T00:00:00\", \"count\": 4}, {\"date\": \"2017-07-14T00:00:00\", \"count\": 13}, {\"date\": \"2017-07-15T00:00:00\", \"count\": 7}, {\"date\": \"2017-07-16T00:00:00\", \"count\": 9}, {\"date\": \"2017-07-17T00:00:00\", \"count\": 2}, {\"date\": \"2017-07-18T00:00:00\", \"count\": 7}, {\"date\": \"2017-07-19T00:00:00\", \"count\": 3}, {\"date\": \"2017-07-20T00:00:00\", \"count\": 3}, {\"date\": \"2017-07-21T00:00:00\", \"count\": 7}, {\"date\": \"2017-07-22T00:00:00\", \"count\": 14}, {\"date\": \"2017-07-23T00:00:00\", \"count\": 6}, {\"date\": \"2017-07-24T00:00:00\", \"count\": 11}, {\"date\": \"2017-07-25T00:00:00\", \"count\": 17}, {\"date\": \"2017-07-26T00:00:00\", \"count\": 11}, {\"date\": \"2017-07-27T00:00:00\", \"count\": 11}, {\"date\": \"2017-07-28T00:00:00\", \"count\": 8}, {\"date\": \"2017-07-29T00:00:00\", \"count\": 13}, {\"date\": \"2017-07-30T00:00:00\", \"count\": 1}, {\"date\": \"2017-07-31T00:00:00\", \"count\": 4}, {\"date\": \"2017-08-01T00:00:00\", \"count\": 3}, {\"date\": \"2017-08-02T00:00:00\", \"count\": 5}, {\"date\": \"2017-08-03T00:00:00\", \"count\": 10}, {\"date\": \"2017-08-04T00:00:00\", \"count\": 15}, {\"date\": \"2017-08-05T00:00:00\", \"count\": 9}, {\"date\": \"2017-08-06T00:00:00\", \"count\": 5}, {\"date\": \"2017-08-07T00:00:00\", \"count\": 13}, {\"date\": \"2017-08-08T00:00:00\", \"count\": 9}, {\"date\": \"2017-08-09T00:00:00\", \"count\": 13}, {\"date\": \"2017-08-10T00:00:00\", \"count\": 6}, {\"date\": \"2017-08-11T00:00:00\", \"count\": 9}, {\"date\": \"2017-08-12T00:00:00\", \"count\": 8}, {\"date\": \"2017-08-13T00:00:00\", \"count\": 4}, {\"date\": \"2017-08-14T00:00:00\", \"count\": 12}, {\"date\": \"2017-08-15T00:00:00\", \"count\": 8}, {\"date\": \"2017-08-16T00:00:00\", \"count\": 15}, {\"date\": \"2017-08-17T00:00:00\", \"count\": 10}, {\"date\": \"2017-08-18T00:00:00\", \"count\": 10}, {\"date\": \"2017-08-19T00:00:00\", \"count\": 8}, {\"date\": \"2017-08-20T00:00:00\", \"count\": 2}, {\"date\": \"2017-08-21T00:00:00\", \"count\": 6}, {\"date\": \"2017-08-22T00:00:00\", \"count\": 8}, {\"date\": \"2017-08-23T00:00:00\", \"count\": 8}, {\"date\": \"2017-08-24T00:00:00\", \"count\": 14}, {\"date\": \"2017-08-25T00:00:00\", \"count\": 16}, {\"date\": \"2017-08-26T00:00:00\", \"count\": 8}, {\"date\": \"2017-08-27T00:00:00\", \"count\": 12}, {\"date\": \"2017-08-28T00:00:00\", \"count\": 3}, {\"date\": \"2017-08-29T00:00:00\", \"count\": 6}, {\"date\": \"2017-08-30T00:00:00\", \"count\": 8}, {\"date\": \"2017-08-31T00:00:00\", \"count\": 2}, {\"date\": \"2017-09-01T00:00:00\", \"count\": 9}, {\"date\": \"2017-09-02T00:00:00\", \"count\": 10}, {\"date\": \"2017-09-03T00:00:00\", \"count\": 5}, {\"date\": \"2017-09-04T00:00:00\", \"count\": 2}, {\"date\": \"2017-09-05T00:00:00\", \"count\": 6}, {\"date\": \"2017-09-06T00:00:00\", \"count\": 10}, {\"date\": \"2017-09-07T00:00:00\", \"count\": 11}, {\"date\": \"2017-09-08T00:00:00\", \"count\": 7}, {\"date\": \"2017-09-09T00:00:00\", \"count\": 4}, {\"date\": \"2017-09-10T00:00:00\", \"count\": 9}, {\"date\": \"2017-09-11T00:00:00\", \"count\": 2}, {\"date\": \"2017-09-12T00:00:00\", \"count\": 5}, {\"date\": \"2017-09-13T00:00:00\", \"count\": 6}, {\"date\": \"2017-09-14T00:00:00\", \"count\": 11}, {\"date\": \"2017-09-15T00:00:00\", \"count\": 13}, {\"date\": \"2017-09-16T00:00:00\", \"count\": 3}, {\"date\": \"2017-09-17T00:00:00\", \"count\": 15}, {\"date\": \"2017-09-18T00:00:00\", \"count\": 8}, {\"date\": \"2017-09-19T00:00:00\", \"count\": 11}, {\"date\": \"2017-09-20T00:00:00\", \"count\": 24}, {\"date\": \"2017-09-21T00:00:00\", \"count\": 6}, {\"date\": \"2017-09-22T00:00:00\", \"count\": 11}, {\"date\": \"2017-09-23T00:00:00\", \"count\": 14}, {\"date\": \"2017-09-24T00:00:00\", \"count\": 10}, {\"date\": \"2017-09-25T00:00:00\", \"count\": 15}, {\"date\": \"2017-09-26T00:00:00\", \"count\": 19}, {\"date\": \"2017-09-27T00:00:00\", \"count\": 9}, {\"date\": \"2017-09-28T00:00:00\", \"count\": 10}, {\"date\": \"2017-09-29T00:00:00\", \"count\": 16}, {\"date\": \"2017-09-30T00:00:00\", \"count\": 26}, {\"date\": \"2017-10-01T00:00:00\", \"count\": 8}, {\"date\": \"2017-10-02T00:00:00\", \"count\": 1}, {\"date\": \"2017-10-03T00:00:00\", \"count\": 10}, {\"date\": \"2017-10-04T00:00:00\", \"count\": 8}, {\"date\": \"2017-10-05T00:00:00\", \"count\": 12}, {\"date\": \"2017-10-07T00:00:00\", \"count\": 12}, {\"date\": \"2017-10-08T00:00:00\", \"count\": 11}, {\"date\": \"2017-10-09T00:00:00\", \"count\": 6}, {\"date\": \"2017-10-10T00:00:00\", \"count\": 10}, {\"date\": \"2017-10-11T00:00:00\", \"count\": 16}, {\"date\": \"2017-10-12T00:00:00\", \"count\": 10}, {\"date\": \"2017-10-13T00:00:00\", \"count\": 16}, {\"date\": \"2017-10-14T00:00:00\", \"count\": 9}, {\"date\": \"2017-10-15T00:00:00\", \"count\": 4}, {\"date\": \"2017-10-16T00:00:00\", \"count\": 7}, {\"date\": \"2017-10-17T00:00:00\", \"count\": 11}, {\"date\": \"2017-10-18T00:00:00\", \"count\": 16}, {\"date\": \"2017-10-19T00:00:00\", \"count\": 10}, {\"date\": \"2017-10-20T00:00:00\", \"count\": 8}, {\"date\": \"2017-10-21T00:00:00\", \"count\": 13}, {\"date\": \"2017-10-22T00:00:00\", \"count\": 3}, {\"date\": \"2017-10-23T00:00:00\", \"count\": 4}, {\"date\": \"2017-10-24T00:00:00\", \"count\": 8}, {\"date\": \"2017-10-25T00:00:00\", \"count\": 17}, {\"date\": \"2017-10-26T00:00:00\", \"count\": 8}, {\"date\": \"2017-10-27T00:00:00\", \"count\": 16}, {\"date\": \"2017-10-28T00:00:00\", \"count\": 9}, {\"date\": \"2017-10-29T00:00:00\", \"count\": 6}, {\"date\": \"2017-10-30T00:00:00\", \"count\": 4}, {\"date\": \"2017-10-31T00:00:00\", \"count\": 17}, {\"date\": \"2017-11-01T00:00:00\", \"count\": 19}, {\"date\": \"2017-11-02T00:00:00\", \"count\": 13}, {\"date\": \"2017-11-03T00:00:00\", \"count\": 16}, {\"date\": \"2017-11-04T00:00:00\", \"count\": 7}, {\"date\": \"2017-11-05T00:00:00\", \"count\": 4}, {\"date\": \"2017-11-06T00:00:00\", \"count\": 9}, {\"date\": \"2017-11-07T00:00:00\", \"count\": 16}, {\"date\": \"2017-11-08T00:00:00\", \"count\": 5}, {\"date\": \"2017-11-09T00:00:00\", \"count\": 5}, {\"date\": \"2017-11-10T00:00:00\", \"count\": 7}, {\"date\": \"2017-11-11T00:00:00\", \"count\": 8}, {\"date\": \"2017-11-12T00:00:00\", \"count\": 4}, {\"date\": \"2017-11-13T00:00:00\", \"count\": 9}, {\"date\": \"2017-11-14T00:00:00\", \"count\": 5}, {\"date\": \"2017-11-15T00:00:00\", \"count\": 15}, {\"date\": \"2017-11-16T00:00:00\", \"count\": 8}, {\"date\": \"2017-11-17T00:00:00\", \"count\": 5}, {\"date\": \"2017-11-18T00:00:00\", \"count\": 3}, {\"date\": \"2017-11-19T00:00:00\", \"count\": 6}, {\"date\": \"2017-11-20T00:00:00\", \"count\": 2}, {\"date\": \"2017-11-21T00:00:00\", \"count\": 2}, {\"date\": \"2017-11-22T00:00:00\", \"count\": 12}, {\"date\": \"2017-11-23T00:00:00\", \"count\": 10}, {\"date\": \"2017-11-24T00:00:00\", \"count\": 6}, {\"date\": \"2017-11-25T00:00:00\", \"count\": 5}, {\"date\": \"2017-11-26T00:00:00\", \"count\": 4}, {\"date\": \"2017-11-27T00:00:00\", \"count\": 5}, {\"date\": \"2017-11-28T00:00:00\", \"count\": 19}, {\"date\": \"2017-11-29T00:00:00\", \"count\": 20}, {\"date\": \"2017-11-30T00:00:00\", \"count\": 12}, {\"date\": \"2017-12-01T00:00:00\", \"count\": 7}, {\"date\": \"2017-12-02T00:00:00\", \"count\": 7}, {\"date\": \"2017-12-03T00:00:00\", \"count\": 10}, {\"date\": \"2017-12-04T00:00:00\", \"count\": 4}, {\"date\": \"2017-12-05T00:00:00\", \"count\": 2}, {\"date\": \"2017-12-06T00:00:00\", \"count\": 5}, {\"date\": \"2017-12-07T00:00:00\", \"count\": 10}, {\"date\": \"2017-12-08T00:00:00\", \"count\": 9}, {\"date\": \"2017-12-09T00:00:00\", \"count\": 12}, {\"date\": \"2017-12-10T00:00:00\", \"count\": 3}, {\"date\": \"2017-12-11T00:00:00\", \"count\": 1}, {\"date\": \"2017-12-12T00:00:00\", \"count\": 6}, {\"date\": \"2017-12-13T00:00:00\", \"count\": 4}, {\"date\": \"2017-12-14T00:00:00\", \"count\": 7}, {\"date\": \"2017-12-15T00:00:00\", \"count\": 9}, {\"date\": \"2017-12-16T00:00:00\", \"count\": 3}, {\"date\": \"2017-12-17T00:00:00\", \"count\": 3}, {\"date\": \"2017-12-18T00:00:00\", \"count\": 13}, {\"date\": \"2017-12-19T00:00:00\", \"count\": 5}, {\"date\": \"2017-12-20T00:00:00\", \"count\": 5}, {\"date\": \"2017-12-21T00:00:00\", \"count\": 5}, {\"date\": \"2017-12-22T00:00:00\", \"count\": 11}, {\"date\": \"2017-12-23T00:00:00\", \"count\": 6}, {\"date\": \"2017-12-24T00:00:00\", \"count\": 6}, {\"date\": \"2017-12-25T00:00:00\", \"count\": 3}, {\"date\": \"2017-12-26T00:00:00\", \"count\": 3}, {\"date\": \"2017-12-27T00:00:00\", \"count\": 4}, {\"date\": \"2017-12-28T00:00:00\", \"count\": 10}, {\"date\": \"2017-12-29T00:00:00\", \"count\": 8}, {\"date\": \"2017-12-30T00:00:00\", \"count\": 6}, {\"date\": \"2017-12-31T00:00:00\", \"count\": 8}, {\"date\": \"2018-01-01T00:00:00\", \"count\": 3}, {\"date\": \"2018-01-02T00:00:00\", \"count\": 16}, {\"date\": \"2018-01-03T00:00:00\", \"count\": 4}, {\"date\": \"2018-01-04T00:00:00\", \"count\": 9}, {\"date\": \"2018-01-05T00:00:00\", \"count\": 5}, {\"date\": \"2018-01-06T00:00:00\", \"count\": 5}, {\"date\": \"2018-01-07T00:00:00\", \"count\": 7}, {\"date\": \"2018-01-08T00:00:00\", \"count\": 5}, {\"date\": \"2018-01-09T00:00:00\", \"count\": 8}, {\"date\": \"2018-01-10T00:00:00\", \"count\": 8}, {\"date\": \"2018-01-11T00:00:00\", \"count\": 14}, {\"date\": \"2018-01-12T00:00:00\", \"count\": 8}, {\"date\": \"2018-01-13T00:00:00\", \"count\": 8}, {\"date\": \"2018-01-14T00:00:00\", \"count\": 7}, {\"date\": \"2018-01-15T00:00:00\", \"count\": 12}, {\"date\": \"2018-01-16T00:00:00\", \"count\": 9}, {\"date\": \"2018-01-17T00:00:00\", \"count\": 8}, {\"date\": \"2018-01-18T00:00:00\", \"count\": 9}, {\"date\": \"2018-01-19T00:00:00\", \"count\": 7}, {\"date\": \"2018-01-20T00:00:00\", \"count\": 14}, {\"date\": \"2018-01-21T00:00:00\", \"count\": 3}, {\"date\": \"2018-01-22T00:00:00\", \"count\": 4}, {\"date\": \"2018-01-23T00:00:00\", \"count\": 7}, {\"date\": \"2018-01-24T00:00:00\", \"count\": 4}, {\"date\": \"2018-01-25T00:00:00\", \"count\": 3}, {\"date\": \"2018-01-26T00:00:00\", \"count\": 7}, {\"date\": \"2018-01-27T00:00:00\", \"count\": 5}, {\"date\": \"2018-01-28T00:00:00\", \"count\": 2}, {\"date\": \"2018-01-29T00:00:00\", \"count\": 1}, {\"date\": \"2018-01-30T00:00:00\", \"count\": 1}, {\"date\": \"2018-02-01T00:00:00\", \"count\": 4}, {\"date\": \"2018-02-02T00:00:00\", \"count\": 5}, {\"date\": \"2018-02-03T00:00:00\", \"count\": 7}, {\"date\": \"2018-02-04T00:00:00\", \"count\": 2}, {\"date\": \"2018-02-05T00:00:00\", \"count\": 6}, {\"date\": \"2018-02-06T00:00:00\", \"count\": 7}, {\"date\": \"2018-02-07T00:00:00\", \"count\": 5}, {\"date\": \"2018-02-08T00:00:00\", \"count\": 6}, {\"date\": \"2018-02-09T00:00:00\", \"count\": 3}, {\"date\": \"2018-02-10T00:00:00\", \"count\": 9}, {\"date\": \"2018-02-11T00:00:00\", \"count\": 4}, {\"date\": \"2018-02-12T00:00:00\", \"count\": 3}, {\"date\": \"2018-02-13T00:00:00\", \"count\": 2}, {\"date\": \"2018-02-14T00:00:00\", \"count\": 4}, {\"date\": \"2018-02-15T00:00:00\", \"count\": 7}, {\"date\": \"2018-02-16T00:00:00\", \"count\": 4}, {\"date\": \"2018-02-17T00:00:00\", \"count\": 9}, {\"date\": \"2018-02-18T00:00:00\", \"count\": 11}, {\"date\": \"2018-02-19T00:00:00\", \"count\": 5}, {\"date\": \"2018-02-20T00:00:00\", \"count\": 14}, {\"date\": \"2018-02-21T00:00:00\", \"count\": 5}, {\"date\": \"2018-02-22T00:00:00\", \"count\": 10}, {\"date\": \"2018-02-23T00:00:00\", \"count\": 9}, {\"date\": \"2018-02-24T00:00:00\", \"count\": 15}, {\"date\": \"2018-02-25T00:00:00\", \"count\": 1}, {\"date\": \"2018-02-27T00:00:00\", \"count\": 9}, {\"date\": \"2018-02-28T00:00:00\", \"count\": 8}, {\"date\": \"2018-03-01T00:00:00\", \"count\": 11}, {\"date\": \"2018-03-02T00:00:00\", \"count\": 8}, {\"date\": \"2018-03-03T00:00:00\", \"count\": 4}, {\"date\": \"2018-03-04T00:00:00\", \"count\": 2}, {\"date\": \"2018-03-05T00:00:00\", \"count\": 5}, {\"date\": \"2018-03-06T00:00:00\", \"count\": 9}, {\"date\": \"2018-03-07T00:00:00\", \"count\": 5}, {\"date\": \"2018-03-08T00:00:00\", \"count\": 6}, {\"date\": \"2018-03-09T00:00:00\", \"count\": 6}, {\"date\": \"2018-03-10T00:00:00\", \"count\": 10}, {\"date\": \"2018-03-11T00:00:00\", \"count\": 5}, {\"date\": \"2018-03-12T00:00:00\", \"count\": 7}, {\"date\": \"2018-03-13T00:00:00\", \"count\": 9}, {\"date\": \"2018-03-14T00:00:00\", \"count\": 9}, {\"date\": \"2018-03-15T00:00:00\", \"count\": 6}, {\"date\": \"2018-03-16T00:00:00\", \"count\": 4}, {\"date\": \"2018-03-17T00:00:00\", \"count\": 4}, {\"date\": \"2018-03-18T00:00:00\", \"count\": 3}, {\"date\": \"2018-03-19T00:00:00\", \"count\": 4}, {\"date\": \"2018-03-20T00:00:00\", \"count\": 1}, {\"date\": \"2018-03-21T00:00:00\", \"count\": 9}, {\"date\": \"2018-03-22T00:00:00\", \"count\": 6}, {\"date\": \"2018-03-23T00:00:00\", \"count\": 6}, {\"date\": \"2018-03-24T00:00:00\", \"count\": 1}, {\"date\": \"2018-03-25T00:00:00\", \"count\": 8}, {\"date\": \"2018-03-26T00:00:00\", \"count\": 5}, {\"date\": \"2018-03-27T00:00:00\", \"count\": 1}, {\"date\": \"2018-03-28T00:00:00\", \"count\": 9}, {\"date\": \"2018-03-29T00:00:00\", \"count\": 4}, {\"date\": \"2018-03-30T00:00:00\", \"count\": 1}, {\"date\": \"2018-03-31T00:00:00\", \"count\": 3}, {\"date\": \"2018-04-01T00:00:00\", \"count\": 3}, {\"date\": \"2018-04-02T00:00:00\", \"count\": 14}, {\"date\": \"2018-04-03T00:00:00\", \"count\": 8}, {\"date\": \"2018-04-04T00:00:00\", \"count\": 6}, {\"date\": \"2018-04-05T00:00:00\", \"count\": 4}, {\"date\": \"2018-04-06T00:00:00\", \"count\": 7}, {\"date\": \"2018-04-07T00:00:00\", \"count\": 7}, {\"date\": \"2018-04-08T00:00:00\", \"count\": 8}, {\"date\": \"2018-04-09T00:00:00\", \"count\": 5}, {\"date\": \"2018-04-10T00:00:00\", \"count\": 5}, {\"date\": \"2018-04-11T00:00:00\", \"count\": 13}, {\"date\": \"2018-04-12T00:00:00\", \"count\": 9}, {\"date\": \"2018-04-13T00:00:00\", \"count\": 6}, {\"date\": \"2018-04-14T00:00:00\", \"count\": 3}, {\"date\": \"2018-04-15T00:00:00\", \"count\": 9}, {\"date\": \"2018-04-16T00:00:00\", \"count\": 8}, {\"date\": \"2018-04-17T00:00:00\", \"count\": 22}, {\"date\": \"2018-04-18T00:00:00\", \"count\": 15}, {\"date\": \"2018-04-19T00:00:00\", \"count\": 13}, {\"date\": \"2018-04-20T00:00:00\", \"count\": 10}, {\"date\": \"2018-04-21T00:00:00\", \"count\": 14}, {\"date\": \"2018-04-22T00:00:00\", \"count\": 8}, {\"date\": \"2018-04-23T00:00:00\", \"count\": 4}, {\"date\": \"2018-04-24T00:00:00\", \"count\": 10}, {\"date\": \"2018-04-25T00:00:00\", \"count\": 7}, {\"date\": \"2018-04-26T00:00:00\", \"count\": 2}, {\"date\": \"2018-04-27T00:00:00\", \"count\": 13}, {\"date\": \"2018-04-28T00:00:00\", \"count\": 7}, {\"date\": \"2018-04-29T00:00:00\", \"count\": 6}, {\"date\": \"2018-04-30T00:00:00\", \"count\": 7}, {\"date\": \"2018-05-01T00:00:00\", \"count\": 7}, {\"date\": \"2018-05-02T00:00:00\", \"count\": 10}, {\"date\": \"2018-05-03T00:00:00\", \"count\": 6}, {\"date\": \"2018-05-04T00:00:00\", \"count\": 13}, {\"date\": \"2018-05-05T00:00:00\", \"count\": 1}, {\"date\": \"2018-05-07T00:00:00\", \"count\": 11}, {\"date\": \"2018-05-08T00:00:00\", \"count\": 7}, {\"date\": \"2018-05-09T00:00:00\", \"count\": 9}, {\"date\": \"2018-05-10T00:00:00\", \"count\": 5}, {\"date\": \"2018-05-11T00:00:00\", \"count\": 4}, {\"date\": \"2018-05-12T00:00:00\", \"count\": 3}, {\"date\": \"2018-05-13T00:00:00\", \"count\": 5}, {\"date\": \"2018-05-14T00:00:00\", \"count\": 6}, {\"date\": \"2018-05-15T00:00:00\", \"count\": 9}, {\"date\": \"2018-05-16T00:00:00\", \"count\": 10}, {\"date\": \"2018-05-17T00:00:00\", \"count\": 11}, {\"date\": \"2018-05-18T00:00:00\", \"count\": 12}, {\"date\": \"2018-05-19T00:00:00\", \"count\": 4}, {\"date\": \"2018-05-20T00:00:00\", \"count\": 9}, {\"date\": \"2018-05-21T00:00:00\", \"count\": 10}, {\"date\": \"2018-05-22T00:00:00\", \"count\": 5}, {\"date\": \"2018-05-23T00:00:00\", \"count\": 17}, {\"date\": \"2018-05-24T00:00:00\", \"count\": 8}, {\"date\": \"2018-05-25T00:00:00\", \"count\": 18}, {\"date\": \"2018-05-26T00:00:00\", \"count\": 10}, {\"date\": \"2018-05-27T00:00:00\", \"count\": 5}, {\"date\": \"2018-05-28T00:00:00\", \"count\": 10}, {\"date\": \"2018-05-29T00:00:00\", \"count\": 7}, {\"date\": \"2018-05-30T00:00:00\", \"count\": 14}, {\"date\": \"2018-05-31T00:00:00\", \"count\": 12}, {\"date\": \"2018-06-01T00:00:00\", \"count\": 7}, {\"date\": \"2018-06-02T00:00:00\", \"count\": 17}, {\"date\": \"2018-06-03T00:00:00\", \"count\": 5}, {\"date\": \"2018-06-04T00:00:00\", \"count\": 13}, {\"date\": \"2018-06-05T00:00:00\", \"count\": 25}, {\"date\": \"2018-06-06T00:00:00\", \"count\": 10}, {\"date\": \"2018-06-07T00:00:00\", \"count\": 20}, {\"date\": \"2018-06-08T00:00:00\", \"count\": 8}, {\"date\": \"2018-06-09T00:00:00\", \"count\": 10}, {\"date\": \"2018-06-10T00:00:00\", \"count\": 7}, {\"date\": \"2018-06-11T00:00:00\", \"count\": 6}, {\"date\": \"2018-06-12T00:00:00\", \"count\": 14}, {\"date\": \"2018-06-13T00:00:00\", \"count\": 12}, {\"date\": \"2018-06-14T00:00:00\", \"count\": 7}, {\"date\": \"2018-06-15T00:00:00\", \"count\": 20}, {\"date\": \"2018-06-16T00:00:00\", \"count\": 5}, {\"date\": \"2018-06-17T00:00:00\", \"count\": 18}, {\"date\": \"2018-06-18T00:00:00\", \"count\": 8}, {\"date\": \"2018-06-19T00:00:00\", \"count\": 12}, {\"date\": \"2018-06-20T00:00:00\", \"count\": 16}, {\"date\": \"2018-06-21T00:00:00\", \"count\": 18}, {\"date\": \"2018-06-22T00:00:00\", \"count\": 16}, {\"date\": \"2018-06-23T00:00:00\", \"count\": 24}, {\"date\": \"2018-06-24T00:00:00\", \"count\": 7}, {\"date\": \"2018-06-25T00:00:00\", \"count\": 19}, {\"date\": \"2018-06-26T00:00:00\", \"count\": 19}, {\"date\": \"2018-06-27T00:00:00\", \"count\": 12}, {\"date\": \"2018-06-28T00:00:00\", \"count\": 11}, {\"date\": \"2018-06-29T00:00:00\", \"count\": 5}, {\"date\": \"2018-06-30T00:00:00\", \"count\": 14}, {\"date\": \"2018-07-01T00:00:00\", \"count\": 5}, {\"date\": \"2018-07-02T00:00:00\", \"count\": 3}, {\"date\": \"2018-07-03T00:00:00\", \"count\": 20}, {\"date\": \"2018-07-04T00:00:00\", \"count\": 4}, {\"date\": \"2018-07-05T00:00:00\", \"count\": 9}, {\"date\": \"2018-07-06T00:00:00\", \"count\": 2}, {\"date\": \"2018-07-07T00:00:00\", \"count\": 9}, {\"date\": \"2018-07-08T00:00:00\", \"count\": 5}, {\"date\": \"2018-07-09T00:00:00\", \"count\": 9}, {\"date\": \"2018-07-10T00:00:00\", \"count\": 17}, {\"date\": \"2018-07-11T00:00:00\", \"count\": 20}, {\"date\": \"2018-07-12T00:00:00\", \"count\": 9}, {\"date\": \"2018-07-13T00:00:00\", \"count\": 2}, {\"date\": \"2018-07-14T00:00:00\", \"count\": 12}, {\"date\": \"2018-07-15T00:00:00\", \"count\": 18}, {\"date\": \"2018-07-16T00:00:00\", \"count\": 7}, {\"date\": \"2018-07-17T00:00:00\", \"count\": 8}, {\"date\": \"2018-07-18T00:00:00\", \"count\": 14}, {\"date\": \"2018-07-19T00:00:00\", \"count\": 11}, {\"date\": \"2018-07-20T00:00:00\", \"count\": 14}, {\"date\": \"2018-07-21T00:00:00\", \"count\": 6}, {\"date\": \"2018-07-22T00:00:00\", \"count\": 9}, {\"date\": \"2018-07-23T00:00:00\", \"count\": 12}, {\"date\": \"2018-07-24T00:00:00\", \"count\": 15}, {\"date\": \"2018-07-25T00:00:00\", \"count\": 16}, {\"date\": \"2018-07-26T00:00:00\", \"count\": 10}, {\"date\": \"2018-07-27T00:00:00\", \"count\": 16}, {\"date\": \"2018-07-28T00:00:00\", \"count\": 1}, {\"date\": \"2018-07-29T00:00:00\", \"count\": 18}, {\"date\": \"2018-07-30T00:00:00\", \"count\": 16}, {\"date\": \"2018-07-31T00:00:00\", \"count\": 20}, {\"date\": \"2018-08-01T00:00:00\", \"count\": 16}, {\"date\": \"2018-08-02T00:00:00\", \"count\": 9}, {\"date\": \"2018-08-03T00:00:00\", \"count\": 25}, {\"date\": \"2018-08-04T00:00:00\", \"count\": 13}, {\"date\": \"2018-08-05T00:00:00\", \"count\": 10}, {\"date\": \"2018-08-06T00:00:00\", \"count\": 10}, {\"date\": \"2018-08-07T00:00:00\", \"count\": 9}, {\"date\": \"2018-08-08T00:00:00\", \"count\": 5}, {\"date\": \"2018-08-09T00:00:00\", \"count\": 6}, {\"date\": \"2018-08-10T00:00:00\", \"count\": 8}, {\"date\": \"2018-08-11T00:00:00\", \"count\": 9}, {\"date\": \"2018-08-12T00:00:00\", \"count\": 4}, {\"date\": \"2018-08-13T00:00:00\", \"count\": 19}, {\"date\": \"2018-08-14T00:00:00\", \"count\": 13}, {\"date\": \"2018-08-15T00:00:00\", \"count\": 22}, {\"date\": \"2018-08-16T00:00:00\", \"count\": 17}, {\"date\": \"2018-08-17T00:00:00\", \"count\": 15}, {\"date\": \"2018-08-18T00:00:00\", \"count\": 12}, {\"date\": \"2018-08-19T00:00:00\", \"count\": 6}, {\"date\": \"2018-08-20T00:00:00\", \"count\": 13}, {\"date\": \"2018-08-21T00:00:00\", \"count\": 11}, {\"date\": \"2018-08-22T00:00:00\", \"count\": 17}, {\"date\": \"2018-08-23T00:00:00\", \"count\": 9}, {\"date\": \"2018-08-24T00:00:00\", \"count\": 16}, {\"date\": \"2018-08-25T00:00:00\", \"count\": 9}, {\"date\": \"2018-08-26T00:00:00\", \"count\": 8}, {\"date\": \"2018-08-27T00:00:00\", \"count\": 10}, {\"date\": \"2018-08-28T00:00:00\", \"count\": 16}, {\"date\": \"2018-08-29T00:00:00\", \"count\": 20}, {\"date\": \"2018-08-30T00:00:00\", \"count\": 15}, {\"date\": \"2018-08-31T00:00:00\", \"count\": 9}, {\"date\": \"2018-09-01T00:00:00\", \"count\": 16}, {\"date\": \"2018-09-02T00:00:00\", \"count\": 3}, {\"date\": \"2018-09-03T00:00:00\", \"count\": 15}, {\"date\": \"2018-09-04T00:00:00\", \"count\": 16}, {\"date\": \"2018-09-05T00:00:00\", \"count\": 12}, {\"date\": \"2018-09-06T00:00:00\", \"count\": 10}, {\"date\": \"2018-09-07T00:00:00\", \"count\": 10}, {\"date\": \"2018-09-08T00:00:00\", \"count\": 13}, {\"date\": \"2018-09-09T00:00:00\", \"count\": 10}, {\"date\": \"2018-09-10T00:00:00\", \"count\": 23}, {\"date\": \"2018-09-11T00:00:00\", \"count\": 15}, {\"date\": \"2018-09-12T00:00:00\", \"count\": 9}, {\"date\": \"2018-09-13T00:00:00\", \"count\": 22}, {\"date\": \"2018-09-14T00:00:00\", \"count\": 31}, {\"date\": \"2018-09-15T00:00:00\", \"count\": 12}, {\"date\": \"2018-09-16T00:00:00\", \"count\": 7}, {\"date\": \"2018-09-17T00:00:00\", \"count\": 30}, {\"date\": \"2018-09-18T00:00:00\", \"count\": 14}, {\"date\": \"2018-09-19T00:00:00\", \"count\": 7}, {\"date\": \"2018-09-20T00:00:00\", \"count\": 20}, {\"date\": \"2018-09-21T00:00:00\", \"count\": 25}, {\"date\": \"2018-09-22T00:00:00\", \"count\": 3}, {\"date\": \"2018-09-23T00:00:00\", \"count\": 3}, {\"date\": \"2018-09-24T00:00:00\", \"count\": 14}, {\"date\": \"2018-09-25T00:00:00\", \"count\": 13}, {\"date\": \"2018-09-26T00:00:00\", \"count\": 12}, {\"date\": \"2018-09-27T00:00:00\", \"count\": 1}, {\"date\": \"2018-09-28T00:00:00\", \"count\": 1}, {\"date\": \"2018-09-29T00:00:00\", \"count\": 5}, {\"date\": \"2018-09-30T00:00:00\", \"count\": 3}, {\"date\": \"2018-10-01T00:00:00\", \"count\": 8}, {\"date\": \"2018-10-02T00:00:00\", \"count\": 14}, {\"date\": \"2018-10-03T00:00:00\", \"count\": 13}, {\"date\": \"2018-10-04T00:00:00\", \"count\": 11}, {\"date\": \"2018-10-05T00:00:00\", \"count\": 10}, {\"date\": \"2018-10-06T00:00:00\", \"count\": 7}, {\"date\": \"2018-10-07T00:00:00\", \"count\": 2}, {\"date\": \"2018-10-08T00:00:00\", \"count\": 9}, {\"date\": \"2018-10-09T00:00:00\", \"count\": 21}, {\"date\": \"2018-10-10T00:00:00\", \"count\": 24}, {\"date\": \"2018-10-11T00:00:00\", \"count\": 6}, {\"date\": \"2018-10-12T00:00:00\", \"count\": 14}, {\"date\": \"2018-10-13T00:00:00\", \"count\": 13}, {\"date\": \"2018-10-14T00:00:00\", \"count\": 7}, {\"date\": \"2018-10-15T00:00:00\", \"count\": 10}, {\"date\": \"2018-10-16T00:00:00\", \"count\": 22}, {\"date\": \"2018-10-17T00:00:00\", \"count\": 20}, {\"date\": \"2018-10-18T00:00:00\", \"count\": 18}, {\"date\": \"2018-10-19T00:00:00\", \"count\": 10}, {\"date\": \"2018-10-20T00:00:00\", \"count\": 10}, {\"date\": \"2018-10-21T00:00:00\", \"count\": 5}, {\"date\": \"2018-10-22T00:00:00\", \"count\": 20}, {\"date\": \"2018-10-23T00:00:00\", \"count\": 8}, {\"date\": \"2018-10-24T00:00:00\", \"count\": 8}, {\"date\": \"2018-10-25T00:00:00\", \"count\": 17}, {\"date\": \"2018-10-26T00:00:00\", \"count\": 12}, {\"date\": \"2018-10-27T00:00:00\", \"count\": 17}, {\"date\": \"2018-10-28T00:00:00\", \"count\": 3}, {\"date\": \"2018-10-29T00:00:00\", \"count\": 21}, {\"date\": \"2018-10-30T00:00:00\", \"count\": 9}, {\"date\": \"2018-10-31T00:00:00\", \"count\": 19}, {\"date\": \"2018-11-01T00:00:00\", \"count\": 9}, {\"date\": \"2018-11-02T00:00:00\", \"count\": 12}, {\"date\": \"2018-11-03T00:00:00\", \"count\": 21}, {\"date\": \"2018-11-04T00:00:00\", \"count\": 31}, {\"date\": \"2018-11-05T00:00:00\", \"count\": 23}, {\"date\": \"2018-11-06T00:00:00\", \"count\": 29}, {\"date\": \"2018-11-07T00:00:00\", \"count\": 10}, {\"date\": \"2018-11-08T00:00:00\", \"count\": 3}, {\"date\": \"2018-11-09T00:00:00\", \"count\": 13}, {\"date\": \"2018-11-10T00:00:00\", \"count\": 7}, {\"date\": \"2018-11-11T00:00:00\", \"count\": 7}, {\"date\": \"2018-11-12T00:00:00\", \"count\": 10}, {\"date\": \"2018-11-13T00:00:00\", \"count\": 12}, {\"date\": \"2018-11-14T00:00:00\", \"count\": 5}, {\"date\": \"2018-11-15T00:00:00\", \"count\": 10}, {\"date\": \"2018-11-16T00:00:00\", \"count\": 8}, {\"date\": \"2018-11-17T00:00:00\", \"count\": 7}, {\"date\": \"2018-11-18T00:00:00\", \"count\": 7}, {\"date\": \"2018-11-19T00:00:00\", \"count\": 8}, {\"date\": \"2018-11-20T00:00:00\", \"count\": 3}, {\"date\": \"2018-11-21T00:00:00\", \"count\": 11}, {\"date\": \"2018-11-22T00:00:00\", \"count\": 8}, {\"date\": \"2018-11-23T00:00:00\", \"count\": 5}, {\"date\": \"2018-11-24T00:00:00\", \"count\": 3}, {\"date\": \"2018-11-25T00:00:00\", \"count\": 11}, {\"date\": \"2018-11-26T00:00:00\", \"count\": 11}, {\"date\": \"2018-11-27T00:00:00\", \"count\": 15}, {\"date\": \"2018-11-28T00:00:00\", \"count\": 8}, {\"date\": \"2018-11-29T00:00:00\", \"count\": 17}, {\"date\": \"2018-11-30T00:00:00\", \"count\": 13}, {\"date\": \"2018-12-01T00:00:00\", \"count\": 3}, {\"date\": \"2018-12-02T00:00:00\", \"count\": 2}, {\"date\": \"2018-12-03T00:00:00\", \"count\": 12}, {\"date\": \"2018-12-04T00:00:00\", \"count\": 11}, {\"date\": \"2018-12-05T00:00:00\", \"count\": 9}, {\"date\": \"2018-12-06T00:00:00\", \"count\": 8}, {\"date\": \"2018-12-07T00:00:00\", \"count\": 18}, {\"date\": \"2018-12-08T00:00:00\", \"count\": 12}, {\"date\": \"2018-12-09T00:00:00\", \"count\": 4}, {\"date\": \"2018-12-10T00:00:00\", \"count\": 4}, {\"date\": \"2018-12-11T00:00:00\", \"count\": 11}, {\"date\": \"2018-12-12T00:00:00\", \"count\": 4}, {\"date\": \"2018-12-13T00:00:00\", \"count\": 13}, {\"date\": \"2018-12-14T00:00:00\", \"count\": 9}, {\"date\": \"2018-12-15T00:00:00\", \"count\": 5}, {\"date\": \"2018-12-16T00:00:00\", \"count\": 12}, {\"date\": \"2018-12-17T00:00:00\", \"count\": 5}, {\"date\": \"2018-12-18T00:00:00\", \"count\": 16}, {\"date\": \"2018-12-19T00:00:00\", \"count\": 11}, {\"date\": \"2018-12-20T00:00:00\", \"count\": 16}, {\"date\": \"2018-12-21T00:00:00\", \"count\": 21}, {\"date\": \"2018-12-22T00:00:00\", \"count\": 10}, {\"date\": \"2018-12-23T00:00:00\", \"count\": 13}, {\"date\": \"2018-12-24T00:00:00\", \"count\": 14}, {\"date\": \"2018-12-25T00:00:00\", \"count\": 2}, {\"date\": \"2018-12-26T00:00:00\", \"count\": 2}, {\"date\": \"2018-12-27T00:00:00\", \"count\": 11}, {\"date\": \"2018-12-28T00:00:00\", \"count\": 5}, {\"date\": \"2018-12-29T00:00:00\", \"count\": 9}, {\"date\": \"2018-12-30T00:00:00\", \"count\": 4}, {\"date\": \"2018-12-31T00:00:00\", \"count\": 15}, {\"date\": \"2019-01-01T00:00:00\", \"count\": 17}, {\"date\": \"2019-01-02T00:00:00\", \"count\": 5}, {\"date\": \"2019-01-03T00:00:00\", \"count\": 8}, {\"date\": \"2019-01-04T00:00:00\", \"count\": 6}, {\"date\": \"2019-01-05T00:00:00\", \"count\": 16}, {\"date\": \"2019-01-06T00:00:00\", \"count\": 7}, {\"date\": \"2019-01-07T00:00:00\", \"count\": 7}, {\"date\": \"2019-01-08T00:00:00\", \"count\": 7}, {\"date\": \"2019-01-09T00:00:00\", \"count\": 12}, {\"date\": \"2019-01-10T00:00:00\", \"count\": 12}, {\"date\": \"2019-01-11T00:00:00\", \"count\": 10}, {\"date\": \"2019-01-12T00:00:00\", \"count\": 14}, {\"date\": \"2019-01-13T00:00:00\", \"count\": 14}, {\"date\": \"2019-01-14T00:00:00\", \"count\": 19}, {\"date\": \"2019-01-15T00:00:00\", \"count\": 19}, {\"date\": \"2019-01-16T00:00:00\", \"count\": 2}, {\"date\": \"2019-01-17T00:00:00\", \"count\": 7}, {\"date\": \"2019-01-18T00:00:00\", \"count\": 25}, {\"date\": \"2019-01-19T00:00:00\", \"count\": 7}, {\"date\": \"2019-01-20T00:00:00\", \"count\": 41}, {\"date\": \"2019-01-21T00:00:00\", \"count\": 11}, {\"date\": \"2019-01-22T00:00:00\", \"count\": 13}, {\"date\": \"2019-01-23T00:00:00\", \"count\": 8}, {\"date\": \"2019-01-24T00:00:00\", \"count\": 10}, {\"date\": \"2019-01-25T00:00:00\", \"count\": 3}, {\"date\": \"2019-01-26T00:00:00\", \"count\": 12}, {\"date\": \"2019-01-27T00:00:00\", \"count\": 10}, {\"date\": \"2019-01-28T00:00:00\", \"count\": 7}, {\"date\": \"2019-01-29T00:00:00\", \"count\": 2}, {\"date\": \"2019-01-30T00:00:00\", \"count\": 11}, {\"date\": \"2019-01-31T00:00:00\", \"count\": 21}, {\"date\": \"2019-02-01T00:00:00\", \"count\": 8}, {\"date\": \"2019-02-02T00:00:00\", \"count\": 4}, {\"date\": \"2019-02-03T00:00:00\", \"count\": 3}, {\"date\": \"2019-02-04T00:00:00\", \"count\": 1}, {\"date\": \"2019-02-05T00:00:00\", \"count\": 6}, {\"date\": \"2019-02-06T00:00:00\", \"count\": 1}, {\"date\": \"2019-02-07T00:00:00\", \"count\": 9}, {\"date\": \"2019-02-08T00:00:00\", \"count\": 12}, {\"date\": \"2019-02-09T00:00:00\", \"count\": 11}, {\"date\": \"2019-02-10T00:00:00\", \"count\": 14}, {\"date\": \"2019-02-11T00:00:00\", \"count\": 13}, {\"date\": \"2019-02-12T00:00:00\", \"count\": 9}, {\"date\": \"2019-02-13T00:00:00\", \"count\": 9}, {\"date\": \"2019-02-14T00:00:00\", \"count\": 8}, {\"date\": \"2019-02-15T00:00:00\", \"count\": 2}, {\"date\": \"2019-02-16T00:00:00\", \"count\": 10}, {\"date\": \"2019-02-17T00:00:00\", \"count\": 14}, {\"date\": \"2019-02-18T00:00:00\", \"count\": 17}, {\"date\": \"2019-02-19T00:00:00\", \"count\": 10}, {\"date\": \"2019-02-20T00:00:00\", \"count\": 9}, {\"date\": \"2019-02-21T00:00:00\", \"count\": 7}, {\"date\": \"2019-02-22T00:00:00\", \"count\": 6}, {\"date\": \"2019-02-23T00:00:00\", \"count\": 14}, {\"date\": \"2019-02-24T00:00:00\", \"count\": 10}, {\"date\": \"2019-02-25T00:00:00\", \"count\": 20}, {\"date\": \"2019-02-26T00:00:00\", \"count\": 7}, {\"date\": \"2019-02-27T00:00:00\", \"count\": 8}, {\"date\": \"2019-02-28T00:00:00\", \"count\": 7}, {\"date\": \"2019-03-01T00:00:00\", \"count\": 10}, {\"date\": \"2019-03-02T00:00:00\", \"count\": 13}, {\"date\": \"2019-03-03T00:00:00\", \"count\": 16}, {\"date\": \"2019-03-04T00:00:00\", \"count\": 13}, {\"date\": \"2019-03-05T00:00:00\", \"count\": 18}, {\"date\": \"2019-03-06T00:00:00\", \"count\": 6}, {\"date\": \"2019-03-07T00:00:00\", \"count\": 3}, {\"date\": \"2019-03-08T00:00:00\", \"count\": 34}, {\"date\": \"2019-03-09T00:00:00\", \"count\": 17}, {\"date\": \"2019-03-10T00:00:00\", \"count\": 14}, {\"date\": \"2019-03-11T00:00:00\", \"count\": 5}, {\"date\": \"2019-03-12T00:00:00\", \"count\": 24}, {\"date\": \"2019-03-13T00:00:00\", \"count\": 17}, {\"date\": \"2019-03-14T00:00:00\", \"count\": 14}, {\"date\": \"2019-03-15T00:00:00\", \"count\": 11}, {\"date\": \"2019-03-16T00:00:00\", \"count\": 21}, {\"date\": \"2019-03-17T00:00:00\", \"count\": 30}, {\"date\": \"2019-03-18T00:00:00\", \"count\": 15}, {\"date\": \"2019-03-19T00:00:00\", \"count\": 13}, {\"date\": \"2019-03-20T00:00:00\", \"count\": 10}, {\"date\": \"2019-03-21T00:00:00\", \"count\": 7}, {\"date\": \"2019-03-22T00:00:00\", \"count\": 11}, {\"date\": \"2019-03-24T00:00:00\", \"count\": 2}, {\"date\": \"2019-03-25T00:00:00\", \"count\": 17}, {\"date\": \"2019-03-26T00:00:00\", \"count\": 11}, {\"date\": \"2019-03-27T00:00:00\", \"count\": 8}, {\"date\": \"2019-03-28T00:00:00\", \"count\": 16}, {\"date\": \"2019-03-29T00:00:00\", \"count\": 10}, {\"date\": \"2019-03-30T00:00:00\", \"count\": 4}, {\"date\": \"2019-03-31T00:00:00\", \"count\": 3}, {\"date\": \"2019-04-01T00:00:00\", \"count\": 14}, {\"date\": \"2019-04-02T00:00:00\", \"count\": 11}, {\"date\": \"2019-04-03T00:00:00\", \"count\": 4}, {\"date\": \"2019-04-04T00:00:00\", \"count\": 11}, {\"date\": \"2019-04-05T00:00:00\", \"count\": 20}, {\"date\": \"2019-04-06T00:00:00\", \"count\": 19}, {\"date\": \"2019-04-07T00:00:00\", \"count\": 8}, {\"date\": \"2019-04-08T00:00:00\", \"count\": 13}, {\"date\": \"2019-04-09T00:00:00\", \"count\": 19}, {\"date\": \"2019-04-10T00:00:00\", \"count\": 9}, {\"date\": \"2019-04-11T00:00:00\", \"count\": 11}, {\"date\": \"2019-04-12T00:00:00\", \"count\": 20}, {\"date\": \"2019-04-13T00:00:00\", \"count\": 11}, {\"date\": \"2019-04-14T00:00:00\", \"count\": 10}, {\"date\": \"2019-04-15T00:00:00\", \"count\": 16}, {\"date\": \"2019-04-16T00:00:00\", \"count\": 11}, {\"date\": \"2019-04-17T00:00:00\", \"count\": 7}, {\"date\": \"2019-04-18T00:00:00\", \"count\": 20}, {\"date\": \"2019-04-19T00:00:00\", \"count\": 13}, {\"date\": \"2019-04-20T00:00:00\", \"count\": 21}, {\"date\": \"2019-04-21T00:00:00\", \"count\": 10}, {\"date\": \"2019-04-22T00:00:00\", \"count\": 43}, {\"date\": \"2019-04-23T00:00:00\", \"count\": 18}, {\"date\": \"2019-04-24T00:00:00\", \"count\": 15}, {\"date\": \"2019-04-25T00:00:00\", \"count\": 22}, {\"date\": \"2019-04-26T00:00:00\", \"count\": 12}, {\"date\": \"2019-04-27T00:00:00\", \"count\": 16}, {\"date\": \"2019-04-28T00:00:00\", \"count\": 1}, {\"date\": \"2019-04-29T00:00:00\", \"count\": 13}, {\"date\": \"2019-04-30T00:00:00\", \"count\": 9}, {\"date\": \"2019-05-01T00:00:00\", \"count\": 82}, {\"date\": \"2019-05-02T00:00:00\", \"count\": 13}, {\"date\": \"2019-05-03T00:00:00\", \"count\": 20}, {\"date\": \"2019-05-04T00:00:00\", \"count\": 27}, {\"date\": \"2019-05-05T00:00:00\", \"count\": 27}, {\"date\": \"2019-05-06T00:00:00\", \"count\": 9}, {\"date\": \"2019-05-07T00:00:00\", \"count\": 14}, {\"date\": \"2019-05-08T00:00:00\", \"count\": 30}, {\"date\": \"2019-05-09T00:00:00\", \"count\": 13}, {\"date\": \"2019-05-10T00:00:00\", \"count\": 25}, {\"date\": \"2019-05-11T00:00:00\", \"count\": 72}, {\"date\": \"2019-05-12T00:00:00\", \"count\": 29}, {\"date\": \"2019-05-13T00:00:00\", \"count\": 24}, {\"date\": \"2019-05-14T00:00:00\", \"count\": 18}, {\"date\": \"2019-05-15T00:00:00\", \"count\": 8}, {\"date\": \"2019-05-16T00:00:00\", \"count\": 8}, {\"date\": \"2019-05-17T00:00:00\", \"count\": 14}, {\"date\": \"2019-05-18T00:00:00\", \"count\": 16}, {\"date\": \"2019-05-19T00:00:00\", \"count\": 19}, {\"date\": \"2019-05-20T00:00:00\", \"count\": 19}, {\"date\": \"2019-05-21T00:00:00\", \"count\": 17}, {\"date\": \"2019-05-22T00:00:00\", \"count\": 34}, {\"date\": \"2019-05-23T00:00:00\", \"count\": 29}, {\"date\": \"2019-05-24T00:00:00\", \"count\": 13}, {\"date\": \"2019-05-25T00:00:00\", \"count\": 23}, {\"date\": \"2019-05-26T00:00:00\", \"count\": 8}, {\"date\": \"2019-05-27T00:00:00\", \"count\": 17}, {\"date\": \"2019-05-28T00:00:00\", \"count\": 10}, {\"date\": \"2019-05-29T00:00:00\", \"count\": 8}, {\"date\": \"2019-05-30T00:00:00\", \"count\": 19}, {\"date\": \"2019-05-31T00:00:00\", \"count\": 12}, {\"date\": \"2019-06-01T00:00:00\", \"count\": 24}, {\"date\": \"2019-06-02T00:00:00\", \"count\": 15}, {\"date\": \"2019-06-03T00:00:00\", \"count\": 19}, {\"date\": \"2019-06-04T00:00:00\", \"count\": 14}, {\"date\": \"2019-06-05T00:00:00\", \"count\": 11}, {\"date\": \"2019-06-06T00:00:00\", \"count\": 11}, {\"date\": \"2019-06-07T00:00:00\", \"count\": 15}, {\"date\": \"2019-06-08T00:00:00\", \"count\": 18}, {\"date\": \"2019-06-09T00:00:00\", \"count\": 22}, {\"date\": \"2019-06-10T00:00:00\", \"count\": 20}, {\"date\": \"2019-06-11T00:00:00\", \"count\": 19}, {\"date\": \"2019-06-12T00:00:00\", \"count\": 22}, {\"date\": \"2019-06-13T00:00:00\", \"count\": 21}, {\"date\": \"2019-06-14T00:00:00\", \"count\": 13}, {\"date\": \"2019-06-15T00:00:00\", \"count\": 44}, {\"date\": \"2019-06-16T00:00:00\", \"count\": 19}, {\"date\": \"2019-06-17T00:00:00\", \"count\": 11}, {\"date\": \"2019-06-18T00:00:00\", \"count\": 15}, {\"date\": \"2019-06-19T00:00:00\", \"count\": 11}, {\"date\": \"2019-06-20T00:00:00\", \"count\": 5}, {\"date\": \"2019-06-21T00:00:00\", \"count\": 10}, {\"date\": \"2019-06-22T00:00:00\", \"count\": 16}, {\"date\": \"2019-06-23T00:00:00\", \"count\": 5}, {\"date\": \"2019-06-24T00:00:00\", \"count\": 12}, {\"date\": \"2019-06-25T00:00:00\", \"count\": 14}, {\"date\": \"2019-06-26T00:00:00\", \"count\": 45}, {\"date\": \"2019-06-27T00:00:00\", \"count\": 7}, {\"date\": \"2019-06-28T00:00:00\", \"count\": 4}, {\"date\": \"2019-06-29T00:00:00\", \"count\": 11}, {\"date\": \"2019-06-30T00:00:00\", \"count\": 7}, {\"date\": \"2019-07-01T00:00:00\", \"count\": 14}, {\"date\": \"2019-07-02T00:00:00\", \"count\": 21}, {\"date\": \"2019-07-03T00:00:00\", \"count\": 14}, {\"date\": \"2019-07-04T00:00:00\", \"count\": 46}, {\"date\": \"2019-07-05T00:00:00\", \"count\": 6}, {\"date\": \"2019-07-06T00:00:00\", \"count\": 15}, {\"date\": \"2019-07-07T00:00:00\", \"count\": 16}, {\"date\": \"2019-07-08T00:00:00\", \"count\": 11}, {\"date\": \"2019-07-09T00:00:00\", \"count\": 24}, {\"date\": \"2019-07-10T00:00:00\", \"count\": 18}, {\"date\": \"2019-07-11T00:00:00\", \"count\": 43}, {\"date\": \"2019-07-12T00:00:00\", \"count\": 45}, {\"date\": \"2019-07-13T00:00:00\", \"count\": 31}, {\"date\": \"2019-07-14T00:00:00\", \"count\": 34}, {\"date\": \"2019-07-15T00:00:00\", \"count\": 15}, {\"date\": \"2019-07-16T00:00:00\", \"count\": 14}, {\"date\": \"2019-07-17T00:00:00\", \"count\": 17}, {\"date\": \"2019-07-18T00:00:00\", \"count\": 11}, {\"date\": \"2019-07-19T00:00:00\", \"count\": 20}, {\"date\": \"2019-07-20T00:00:00\", \"count\": 31}, {\"date\": \"2019-07-21T00:00:00\", \"count\": 13}, {\"date\": \"2019-07-22T00:00:00\", \"count\": 18}, {\"date\": \"2019-07-23T00:00:00\", \"count\": 19}, {\"date\": \"2019-07-24T00:00:00\", \"count\": 40}, {\"date\": \"2019-07-25T00:00:00\", \"count\": 17}, {\"date\": \"2019-07-26T00:00:00\", \"count\": 15}, {\"date\": \"2019-07-27T00:00:00\", \"count\": 25}, {\"date\": \"2019-07-28T00:00:00\", \"count\": 13}, {\"date\": \"2019-07-29T00:00:00\", \"count\": 25}, {\"date\": \"2019-07-30T00:00:00\", \"count\": 25}, {\"date\": \"2019-07-31T00:00:00\", \"count\": 23}, {\"date\": \"2019-08-01T00:00:00\", \"count\": 16}, {\"date\": \"2019-08-02T00:00:00\", \"count\": 9}, {\"date\": \"2019-08-03T00:00:00\", \"count\": 18}, {\"date\": \"2019-08-04T00:00:00\", \"count\": 5}, {\"date\": \"2019-08-05T00:00:00\", \"count\": 13}, {\"date\": \"2019-08-06T00:00:00\", \"count\": 18}, {\"date\": \"2019-08-07T00:00:00\", \"count\": 25}, {\"date\": \"2019-08-08T00:00:00\", \"count\": 12}, {\"date\": \"2019-08-09T00:00:00\", \"count\": 8}, {\"date\": \"2019-08-10T00:00:00\", \"count\": 13}, {\"date\": \"2019-08-11T00:00:00\", \"count\": 9}, {\"date\": \"2019-08-12T00:00:00\", \"count\": 13}, {\"date\": \"2019-08-13T00:00:00\", \"count\": 48}, {\"date\": \"2019-08-14T00:00:00\", \"count\": 16}, {\"date\": \"2019-08-15T00:00:00\", \"count\": 36}, {\"date\": \"2019-08-16T00:00:00\", \"count\": 25}, {\"date\": \"2019-08-17T00:00:00\", \"count\": 30}, {\"date\": \"2019-08-18T00:00:00\", \"count\": 19}, {\"date\": \"2019-08-19T00:00:00\", \"count\": 15}, {\"date\": \"2019-08-20T00:00:00\", \"count\": 32}, {\"date\": \"2019-08-21T00:00:00\", \"count\": 26}, {\"date\": \"2019-08-22T00:00:00\", \"count\": 38}, {\"date\": \"2019-08-23T00:00:00\", \"count\": 38}, {\"date\": \"2019-08-24T00:00:00\", \"count\": 17}, {\"date\": \"2019-08-25T00:00:00\", \"count\": 38}, {\"date\": \"2019-08-26T00:00:00\", \"count\": 11}, {\"date\": \"2019-08-27T00:00:00\", \"count\": 17}, {\"date\": \"2019-08-28T00:00:00\", \"count\": 18}, {\"date\": \"2019-08-29T00:00:00\", \"count\": 10}, {\"date\": \"2019-08-30T00:00:00\", \"count\": 26}, {\"date\": \"2019-08-31T00:00:00\", \"count\": 58}, {\"date\": \"2019-09-01T00:00:00\", \"count\": 37}, {\"date\": \"2019-09-02T00:00:00\", \"count\": 33}, {\"date\": \"2019-09-03T00:00:00\", \"count\": 25}, {\"date\": \"2019-09-04T00:00:00\", \"count\": 24}, {\"date\": \"2019-09-05T00:00:00\", \"count\": 29}, {\"date\": \"2019-09-06T00:00:00\", \"count\": 23}, {\"date\": \"2019-09-07T00:00:00\", \"count\": 26}, {\"date\": \"2019-09-08T00:00:00\", \"count\": 15}, {\"date\": \"2019-09-09T00:00:00\", \"count\": 33}, {\"date\": \"2019-09-10T00:00:00\", \"count\": 34}, {\"date\": \"2019-09-11T00:00:00\", \"count\": 37}, {\"date\": \"2019-09-12T00:00:00\", \"count\": 15}, {\"date\": \"2019-09-13T00:00:00\", \"count\": 9}, {\"date\": \"2019-09-14T00:00:00\", \"count\": 21}, {\"date\": \"2019-09-15T00:00:00\", \"count\": 19}, {\"date\": \"2019-09-16T00:00:00\", \"count\": 35}, {\"date\": \"2019-09-17T00:00:00\", \"count\": 8}, {\"date\": \"2019-09-18T00:00:00\", \"count\": 45}, {\"date\": \"2019-09-19T00:00:00\", \"count\": 12}, {\"date\": \"2019-09-20T00:00:00\", \"count\": 10}, {\"date\": \"2019-09-21T00:00:00\", \"count\": 22}, {\"date\": \"2019-09-22T00:00:00\", \"count\": 18}, {\"date\": \"2019-09-23T00:00:00\", \"count\": 16}, {\"date\": \"2019-09-24T00:00:00\", \"count\": 19}, {\"date\": \"2019-09-25T00:00:00\", \"count\": 33}, {\"date\": \"2019-09-26T00:00:00\", \"count\": 59}, {\"date\": \"2019-09-27T00:00:00\", \"count\": 23}, {\"date\": \"2019-09-28T00:00:00\", \"count\": 43}, {\"date\": \"2019-09-29T00:00:00\", \"count\": 39}, {\"date\": \"2019-09-30T00:00:00\", \"count\": 26}, {\"date\": \"2019-10-01T00:00:00\", \"count\": 29}, {\"date\": \"2019-10-02T00:00:00\", \"count\": 25}, {\"date\": \"2019-10-03T00:00:00\", \"count\": 51}, {\"date\": \"2019-10-04T00:00:00\", \"count\": 48}, {\"date\": \"2019-10-05T00:00:00\", \"count\": 23}, {\"date\": \"2019-10-06T00:00:00\", \"count\": 41}, {\"date\": \"2019-10-07T00:00:00\", \"count\": 53}, {\"date\": \"2019-10-08T00:00:00\", \"count\": 35}, {\"date\": \"2019-10-09T00:00:00\", \"count\": 42}, {\"date\": \"2019-10-10T00:00:00\", \"count\": 21}, {\"date\": \"2019-10-11T00:00:00\", \"count\": 60}, {\"date\": \"2019-10-12T00:00:00\", \"count\": 24}, {\"date\": \"2019-10-13T00:00:00\", \"count\": 21}, {\"date\": \"2019-10-14T00:00:00\", \"count\": 33}, {\"date\": \"2019-10-15T00:00:00\", \"count\": 21}, {\"date\": \"2019-10-16T00:00:00\", \"count\": 31}, {\"date\": \"2019-10-17T00:00:00\", \"count\": 22}, {\"date\": \"2019-10-18T00:00:00\", \"count\": 25}, {\"date\": \"2019-10-19T00:00:00\", \"count\": 58}, {\"date\": \"2019-10-20T00:00:00\", \"count\": 23}, {\"date\": \"2019-10-21T00:00:00\", \"count\": 27}, {\"date\": \"2019-10-22T00:00:00\", \"count\": 31}, {\"date\": \"2019-10-23T00:00:00\", \"count\": 41}, {\"date\": \"2019-10-24T00:00:00\", \"count\": 14}, {\"date\": \"2019-10-25T00:00:00\", \"count\": 46}, {\"date\": \"2019-10-26T00:00:00\", \"count\": 23}, {\"date\": \"2019-10-27T00:00:00\", \"count\": 6}, {\"date\": \"2019-10-28T00:00:00\", \"count\": 19}, {\"date\": \"2019-10-29T00:00:00\", \"count\": 55}, {\"date\": \"2019-10-30T00:00:00\", \"count\": 25}, {\"date\": \"2019-10-31T00:00:00\", \"count\": 44}, {\"date\": \"2019-11-01T00:00:00\", \"count\": 31}, {\"date\": \"2019-11-02T00:00:00\", \"count\": 31}, {\"date\": \"2019-11-03T00:00:00\", \"count\": 42}, {\"date\": \"2019-11-04T00:00:00\", \"count\": 20}, {\"date\": \"2019-11-05T00:00:00\", \"count\": 44}, {\"date\": \"2019-11-06T00:00:00\", \"count\": 20}, {\"date\": \"2019-11-07T00:00:00\", \"count\": 11}, {\"date\": \"2019-11-08T00:00:00\", \"count\": 9}, {\"date\": \"2019-11-09T00:00:00\", \"count\": 78}, {\"date\": \"2019-11-10T00:00:00\", \"count\": 22}, {\"date\": \"2019-11-11T00:00:00\", \"count\": 28}, {\"date\": \"2019-11-12T00:00:00\", \"count\": 19}, {\"date\": \"2019-11-13T00:00:00\", \"count\": 49}, {\"date\": \"2019-11-14T00:00:00\", \"count\": 30}, {\"date\": \"2019-11-15T00:00:00\", \"count\": 40}, {\"date\": \"2019-11-16T00:00:00\", \"count\": 24}, {\"date\": \"2019-11-17T00:00:00\", \"count\": 48}, {\"date\": \"2019-11-18T00:00:00\", \"count\": 16}, {\"date\": \"2019-11-19T00:00:00\", \"count\": 40}, {\"date\": \"2019-11-20T00:00:00\", \"count\": 35}, {\"date\": \"2019-11-21T00:00:00\", \"count\": 47}, {\"date\": \"2019-11-22T00:00:00\", \"count\": 16}, {\"date\": \"2019-11-23T00:00:00\", \"count\": 18}, {\"date\": \"2019-11-24T00:00:00\", \"count\": 48}, {\"date\": \"2019-11-25T00:00:00\", \"count\": 17}, {\"date\": \"2019-11-26T00:00:00\", \"count\": 18}, {\"date\": \"2019-11-27T00:00:00\", \"count\": 9}, {\"date\": \"2019-11-28T00:00:00\", \"count\": 7}, {\"date\": \"2019-11-29T00:00:00\", \"count\": 1}, {\"date\": \"2019-11-30T00:00:00\", \"count\": 21}, {\"date\": \"2019-12-01T00:00:00\", \"count\": 4}, {\"date\": \"2019-12-02T00:00:00\", \"count\": 35}, {\"date\": \"2019-12-03T00:00:00\", \"count\": 35}, {\"date\": \"2019-12-04T00:00:00\", \"count\": 40}, {\"date\": \"2019-12-05T00:00:00\", \"count\": 16}, {\"date\": \"2019-12-06T00:00:00\", \"count\": 48}, {\"date\": \"2019-12-07T00:00:00\", \"count\": 23}, {\"date\": \"2019-12-08T00:00:00\", \"count\": 105}, {\"date\": \"2019-12-09T00:00:00\", \"count\": 17}, {\"date\": \"2019-12-10T00:00:00\", \"count\": 43}, {\"date\": \"2019-12-11T00:00:00\", \"count\": 73}, {\"date\": \"2019-12-12T00:00:00\", \"count\": 122}, {\"date\": \"2019-12-13T00:00:00\", \"count\": 25}, {\"date\": \"2019-12-14T00:00:00\", \"count\": 26}, {\"date\": \"2019-12-15T00:00:00\", \"count\": 35}, {\"date\": \"2019-12-16T00:00:00\", \"count\": 42}, {\"date\": \"2019-12-17T00:00:00\", \"count\": 20}, {\"date\": \"2019-12-18T00:00:00\", \"count\": 75}, {\"date\": \"2019-12-19T00:00:00\", \"count\": 67}, {\"date\": \"2019-12-20T00:00:00\", \"count\": 48}, {\"date\": \"2019-12-21T00:00:00\", \"count\": 5}, {\"date\": \"2019-12-22T00:00:00\", \"count\": 9}, {\"date\": \"2019-12-23T00:00:00\", \"count\": 29}, {\"date\": \"2019-12-24T00:00:00\", \"count\": 11}, {\"date\": \"2019-12-25T00:00:00\", \"count\": 12}, {\"date\": \"2019-12-26T00:00:00\", \"count\": 34}, {\"date\": \"2019-12-27T00:00:00\", \"count\": 55}, {\"date\": \"2019-12-28T00:00:00\", \"count\": 14}, {\"date\": \"2019-12-29T00:00:00\", \"count\": 3}, {\"date\": \"2019-12-30T00:00:00\", \"count\": 5}, {\"date\": \"2019-12-31T00:00:00\", \"count\": 53}, {\"date\": \"2020-01-01T00:00:00\", \"count\": 14}, {\"date\": \"2020-01-02T00:00:00\", \"count\": 9}, {\"date\": \"2020-01-03T00:00:00\", \"count\": 27}, {\"date\": \"2020-01-04T00:00:00\", \"count\": 6}, {\"date\": \"2020-01-05T00:00:00\", \"count\": 1}, {\"date\": \"2020-01-06T00:00:00\", \"count\": 23}, {\"date\": \"2020-01-07T00:00:00\", \"count\": 19}, {\"date\": \"2020-01-08T00:00:00\", \"count\": 2}, {\"date\": \"2020-01-09T00:00:00\", \"count\": 30}, {\"date\": \"2020-01-10T00:00:00\", \"count\": 40}, {\"date\": \"2020-01-11T00:00:00\", \"count\": 15}, {\"date\": \"2020-01-12T00:00:00\", \"count\": 29}, {\"date\": \"2020-01-13T00:00:00\", \"count\": 26}, {\"date\": \"2020-01-14T00:00:00\", \"count\": 36}, {\"date\": \"2020-01-15T00:00:00\", \"count\": 7}, {\"date\": \"2020-01-16T00:00:00\", \"count\": 25}, {\"date\": \"2020-01-17T00:00:00\", \"count\": 31}, {\"date\": \"2020-01-18T00:00:00\", \"count\": 22}, {\"date\": \"2020-01-19T00:00:00\", \"count\": 8}, {\"date\": \"2020-01-20T00:00:00\", \"count\": 27}, {\"date\": \"2020-01-21T00:00:00\", \"count\": 53}, {\"date\": \"2020-01-22T00:00:00\", \"count\": 93}, {\"date\": \"2020-01-23T00:00:00\", \"count\": 29}, {\"date\": \"2020-01-24T00:00:00\", \"count\": 75}, {\"date\": \"2020-01-25T00:00:00\", \"count\": 79}, {\"date\": \"2020-01-26T00:00:00\", \"count\": 34}, {\"date\": \"2020-01-27T00:00:00\", \"count\": 46}, {\"date\": \"2020-01-28T00:00:00\", \"count\": 35}, {\"date\": \"2020-01-29T00:00:00\", \"count\": 28}, {\"date\": \"2020-01-30T00:00:00\", \"count\": 43}, {\"date\": \"2020-01-31T00:00:00\", \"count\": 16}, {\"date\": \"2020-02-01T00:00:00\", \"count\": 60}, {\"date\": \"2020-02-02T00:00:00\", \"count\": 26}, {\"date\": \"2020-02-03T00:00:00\", \"count\": 33}, {\"date\": \"2020-02-04T00:00:00\", \"count\": 29}, {\"date\": \"2020-02-05T00:00:00\", \"count\": 37}, {\"date\": \"2020-02-06T00:00:00\", \"count\": 13}, {\"date\": \"2020-02-07T00:00:00\", \"count\": 58}, {\"date\": \"2020-02-08T00:00:00\", \"count\": 72}, {\"date\": \"2020-02-09T00:00:00\", \"count\": 53}, {\"date\": \"2020-02-10T00:00:00\", \"count\": 31}, {\"date\": \"2020-02-11T00:00:00\", \"count\": 31}, {\"date\": \"2020-02-12T00:00:00\", \"count\": 17}, {\"date\": \"2020-02-13T00:00:00\", \"count\": 10}, {\"date\": \"2020-02-14T00:00:00\", \"count\": 20}, {\"date\": \"2020-02-15T00:00:00\", \"count\": 45}, {\"date\": \"2020-02-16T00:00:00\", \"count\": 3}, {\"date\": \"2020-02-17T00:00:00\", \"count\": 18}, {\"date\": \"2020-02-18T00:00:00\", \"count\": 28}, {\"date\": \"2020-02-19T00:00:00\", \"count\": 45}, {\"date\": \"2020-02-20T00:00:00\", \"count\": 31}, {\"date\": \"2020-02-21T00:00:00\", \"count\": 45}, {\"date\": \"2020-02-22T00:00:00\", \"count\": 13}, {\"date\": \"2020-02-23T00:00:00\", \"count\": 12}, {\"date\": \"2020-02-24T00:00:00\", \"count\": 39}, {\"date\": \"2020-02-25T00:00:00\", \"count\": 45}, {\"date\": \"2020-02-26T00:00:00\", \"count\": 27}, {\"date\": \"2020-02-27T00:00:00\", \"count\": 10}, {\"date\": \"2020-02-28T00:00:00\", \"count\": 21}, {\"date\": \"2020-02-29T00:00:00\", \"count\": 12}, {\"date\": \"2020-03-01T00:00:00\", \"count\": 26}, {\"date\": \"2020-03-02T00:00:00\", \"count\": 50}, {\"date\": \"2020-03-03T00:00:00\", \"count\": 41}, {\"date\": \"2020-03-04T00:00:00\", \"count\": 30}, {\"date\": \"2020-03-05T00:00:00\", \"count\": 43}, {\"date\": \"2020-03-06T00:00:00\", \"count\": 12}, {\"date\": \"2020-03-07T00:00:00\", \"count\": 16}, {\"date\": \"2020-03-08T00:00:00\", \"count\": 5}, {\"date\": \"2020-03-09T00:00:00\", \"count\": 36}, {\"date\": \"2020-03-10T00:00:00\", \"count\": 33}, {\"date\": \"2020-03-11T00:00:00\", \"count\": 22}, {\"date\": \"2020-03-12T00:00:00\", \"count\": 46}, {\"date\": \"2020-03-13T00:00:00\", \"count\": 30}, {\"date\": \"2020-03-14T00:00:00\", \"count\": 20}, {\"date\": \"2020-03-15T00:00:00\", \"count\": 30}, {\"date\": \"2020-03-16T00:00:00\", \"count\": 26}, {\"date\": \"2020-03-17T00:00:00\", \"count\": 47}, {\"date\": \"2020-03-18T00:00:00\", \"count\": 20}, {\"date\": \"2020-03-19T00:00:00\", \"count\": 62}, {\"date\": \"2020-03-20T00:00:00\", \"count\": 9}, {\"date\": \"2020-03-21T00:00:00\", \"count\": 23}, {\"date\": \"2020-03-22T00:00:00\", \"count\": 80}, {\"date\": \"2020-03-23T00:00:00\", \"count\": 52}, {\"date\": \"2020-03-24T00:00:00\", \"count\": 27}, {\"date\": \"2020-03-25T00:00:00\", \"count\": 32}, {\"date\": \"2020-03-26T00:00:00\", \"count\": 9}, {\"date\": \"2020-03-27T00:00:00\", \"count\": 42}, {\"date\": \"2020-03-28T00:00:00\", \"count\": 16}, {\"date\": \"2020-03-29T00:00:00\", \"count\": 36}, {\"date\": \"2020-03-30T00:00:00\", \"count\": 12}, {\"date\": \"2020-03-31T00:00:00\", \"count\": 26}, {\"date\": \"2020-04-01T00:00:00\", \"count\": 5}, {\"date\": \"2020-04-02T00:00:00\", \"count\": 19}, {\"date\": \"2020-04-03T00:00:00\", \"count\": 11}, {\"date\": \"2020-04-04T00:00:00\", \"count\": 70}, {\"date\": \"2020-04-05T00:00:00\", \"count\": 23}, {\"date\": \"2020-04-06T00:00:00\", \"count\": 24}, {\"date\": \"2020-04-07T00:00:00\", \"count\": 12}, {\"date\": \"2020-04-08T00:00:00\", \"count\": 20}, {\"date\": \"2020-04-09T00:00:00\", \"count\": 56}, {\"date\": \"2020-04-10T00:00:00\", \"count\": 32}, {\"date\": \"2020-04-11T00:00:00\", \"count\": 30}, {\"date\": \"2020-04-12T00:00:00\", \"count\": 44}, {\"date\": \"2020-04-13T00:00:00\", \"count\": 16}, {\"date\": \"2020-04-14T00:00:00\", \"count\": 9}, {\"date\": \"2020-04-15T00:00:00\", \"count\": 11}, {\"date\": \"2020-04-16T00:00:00\", \"count\": 8}, {\"date\": \"2020-04-17T00:00:00\", \"count\": 35}, {\"date\": \"2020-04-18T00:00:00\", \"count\": 55}, {\"date\": \"2020-04-19T00:00:00\", \"count\": 31}, {\"date\": \"2020-04-20T00:00:00\", \"count\": 32}, {\"date\": \"2020-04-21T00:00:00\", \"count\": 18}, {\"date\": \"2020-04-22T00:00:00\", \"count\": 15}, {\"date\": \"2020-04-23T00:00:00\", \"count\": 40}, {\"date\": \"2020-04-24T00:00:00\", \"count\": 21}, {\"date\": \"2020-04-25T00:00:00\", \"count\": 28}, {\"date\": \"2020-04-26T00:00:00\", \"count\": 44}, {\"date\": \"2020-04-27T00:00:00\", \"count\": 16}, {\"date\": \"2020-04-28T00:00:00\", \"count\": 18}, {\"date\": \"2020-04-29T00:00:00\", \"count\": 30}, {\"date\": \"2020-04-30T00:00:00\", \"count\": 64}, {\"date\": \"2020-05-01T00:00:00\", \"count\": 28}, {\"date\": \"2020-05-02T00:00:00\", \"count\": 40}, {\"date\": \"2020-05-03T00:00:00\", \"count\": 31}, {\"date\": \"2020-05-04T00:00:00\", \"count\": 14}, {\"date\": \"2020-05-05T00:00:00\", \"count\": 32}, {\"date\": \"2020-05-06T00:00:00\", \"count\": 9}, {\"date\": \"2020-05-07T00:00:00\", \"count\": 10}, {\"date\": \"2020-05-08T00:00:00\", \"count\": 9}, {\"date\": \"2020-05-09T00:00:00\", \"count\": 26}, {\"date\": \"2020-05-10T00:00:00\", \"count\": 124}, {\"date\": \"2020-05-11T00:00:00\", \"count\": 51}, {\"date\": \"2020-05-12T00:00:00\", \"count\": 47}, {\"date\": \"2020-05-13T00:00:00\", \"count\": 15}, {\"date\": \"2020-05-14T00:00:00\", \"count\": 44}, {\"date\": \"2020-05-15T00:00:00\", \"count\": 28}, {\"date\": \"2020-05-16T00:00:00\", \"count\": 51}, {\"date\": \"2020-05-17T00:00:00\", \"count\": 36}, {\"date\": \"2020-05-18T00:00:00\", \"count\": 39}, {\"date\": \"2020-05-19T00:00:00\", \"count\": 45}, {\"date\": \"2020-05-20T00:00:00\", \"count\": 29}, {\"date\": \"2020-05-21T00:00:00\", \"count\": 38}, {\"date\": \"2020-05-22T00:00:00\", \"count\": 27}, {\"date\": \"2020-05-23T00:00:00\", \"count\": 57}, {\"date\": \"2020-05-24T00:00:00\", \"count\": 33}, {\"date\": \"2020-05-25T00:00:00\", \"count\": 25}, {\"date\": \"2020-05-26T00:00:00\", \"count\": 38}, {\"date\": \"2020-05-27T00:00:00\", \"count\": 39}, {\"date\": \"2020-05-28T00:00:00\", \"count\": 52}, {\"date\": \"2020-05-29T00:00:00\", \"count\": 21}, {\"date\": \"2020-05-30T00:00:00\", \"count\": 36}, {\"date\": \"2020-05-31T00:00:00\", \"count\": 17}, {\"date\": \"2020-06-01T00:00:00\", \"count\": 63}, {\"date\": \"2020-06-02T00:00:00\", \"count\": 37}, {\"date\": \"2020-06-03T00:00:00\", \"count\": 84}, {\"date\": \"2020-06-04T00:00:00\", \"count\": 58}, {\"date\": \"2020-06-05T00:00:00\", \"count\": 198}, {\"date\": \"2020-06-06T00:00:00\", \"count\": 13}, {\"date\": \"2020-06-07T00:00:00\", \"count\": 36}, {\"date\": \"2020-06-08T00:00:00\", \"count\": 12}, {\"date\": \"2020-06-09T00:00:00\", \"count\": 47}, {\"date\": \"2020-06-10T00:00:00\", \"count\": 24}, {\"date\": \"2020-06-11T00:00:00\", \"count\": 33}, {\"date\": \"2020-06-12T00:00:00\", \"count\": 37}, {\"date\": \"2020-06-13T00:00:00\", \"count\": 46}, {\"date\": \"2020-06-14T00:00:00\", \"count\": 13}, {\"date\": \"2020-06-15T00:00:00\", \"count\": 11}, {\"date\": \"2020-06-16T00:00:00\", \"count\": 27}, {\"date\": \"2020-06-17T00:00:00\", \"count\": 8}, {\"date\": \"2020-06-18T00:00:00\", \"count\": 45}, {\"date\": \"2020-06-19T00:00:00\", \"count\": 36}, {\"date\": \"2020-06-20T00:00:00\", \"count\": 15}, {\"date\": \"2020-06-21T00:00:00\", \"count\": 8}, {\"date\": \"2020-06-22T00:00:00\", \"count\": 30}, {\"date\": \"2020-06-23T00:00:00\", \"count\": 22}, {\"date\": \"2020-06-24T00:00:00\", \"count\": 21}, {\"date\": \"2020-06-25T00:00:00\", \"count\": 23}, {\"date\": \"2020-06-26T00:00:00\", \"count\": 6}, {\"date\": \"2020-06-27T00:00:00\", \"count\": 41}, {\"date\": \"2020-06-28T00:00:00\", \"count\": 30}, {\"date\": \"2020-06-29T00:00:00\", \"count\": 45}, {\"date\": \"2020-06-30T00:00:00\", \"count\": 43}, {\"date\": \"2020-07-01T00:00:00\", \"count\": 29}, {\"date\": \"2020-07-02T00:00:00\", \"count\": 38}, {\"date\": \"2020-07-03T00:00:00\", \"count\": 22}, {\"date\": \"2020-07-04T00:00:00\", \"count\": 65}, {\"date\": \"2020-07-05T00:00:00\", \"count\": 7}, {\"date\": \"2020-07-06T00:00:00\", \"count\": 27}, {\"date\": \"2020-07-07T00:00:00\", \"count\": 5}, {\"date\": \"2020-07-08T00:00:00\", \"count\": 14}, {\"date\": \"2020-07-09T00:00:00\", \"count\": 20}, {\"date\": \"2020-07-10T00:00:00\", \"count\": 30}, {\"date\": \"2020-07-11T00:00:00\", \"count\": 41}, {\"date\": \"2020-07-12T00:00:00\", \"count\": 11}, {\"date\": \"2020-07-13T00:00:00\", \"count\": 35}, {\"date\": \"2020-07-14T00:00:00\", \"count\": 18}, {\"date\": \"2020-07-15T00:00:00\", \"count\": 27}, {\"date\": \"2020-07-16T00:00:00\", \"count\": 18}, {\"date\": \"2020-07-17T00:00:00\", \"count\": 57}, {\"date\": \"2020-07-18T00:00:00\", \"count\": 11}, {\"date\": \"2020-07-19T00:00:00\", \"count\": 3}, {\"date\": \"2020-07-20T00:00:00\", \"count\": 3}, {\"date\": \"2020-07-21T00:00:00\", \"count\": 13}, {\"date\": \"2020-07-22T00:00:00\", \"count\": 12}, {\"date\": \"2020-07-23T00:00:00\", \"count\": 57}, {\"date\": \"2020-07-24T00:00:00\", \"count\": 23}, {\"date\": \"2020-07-25T00:00:00\", \"count\": 19}, {\"date\": \"2020-07-26T00:00:00\", \"count\": 62}, {\"date\": \"2020-07-27T00:00:00\", \"count\": 65}, {\"date\": \"2020-07-28T00:00:00\", \"count\": 17}, {\"date\": \"2020-07-29T00:00:00\", \"count\": 47}, {\"date\": \"2020-07-30T00:00:00\", \"count\": 17}, {\"date\": \"2020-07-31T00:00:00\", \"count\": 21}, {\"date\": \"2020-08-01T00:00:00\", \"count\": 51}, {\"date\": \"2020-08-02T00:00:00\", \"count\": 36}, {\"date\": \"2020-08-03T00:00:00\", \"count\": 33}, {\"date\": \"2020-08-04T00:00:00\", \"count\": 24}, {\"date\": \"2020-08-05T00:00:00\", \"count\": 34}, {\"date\": \"2020-08-06T00:00:00\", \"count\": 21}, {\"date\": \"2020-08-07T00:00:00\", \"count\": 31}, {\"date\": \"2020-08-08T00:00:00\", \"count\": 14}, {\"date\": \"2020-08-09T00:00:00\", \"count\": 5}, {\"date\": \"2020-08-10T00:00:00\", \"count\": 23}, {\"date\": \"2020-08-11T00:00:00\", \"count\": 13}, {\"date\": \"2020-08-12T00:00:00\", \"count\": 29}, {\"date\": \"2020-08-13T00:00:00\", \"count\": 26}, {\"date\": \"2020-08-14T00:00:00\", \"count\": 87}, {\"date\": \"2020-08-15T00:00:00\", \"count\": 40}, {\"date\": \"2020-08-16T00:00:00\", \"count\": 55}, {\"date\": \"2020-08-17T00:00:00\", \"count\": 44}, {\"date\": \"2020-08-18T00:00:00\", \"count\": 55}, {\"date\": \"2020-08-19T00:00:00\", \"count\": 17}, {\"date\": \"2020-08-20T00:00:00\", \"count\": 45}, {\"date\": \"2020-08-21T00:00:00\", \"count\": 4}, {\"date\": \"2020-08-22T00:00:00\", \"count\": 21}, {\"date\": \"2020-08-23T00:00:00\", \"count\": 17}, {\"date\": \"2020-08-24T00:00:00\", \"count\": 53}, {\"date\": \"2020-08-25T00:00:00\", \"count\": 53}, {\"date\": \"2020-08-26T00:00:00\", \"count\": 43}, {\"date\": \"2020-08-27T00:00:00\", \"count\": 27}, {\"date\": \"2020-08-28T00:00:00\", \"count\": 31}, {\"date\": \"2020-08-29T00:00:00\", \"count\": 50}, {\"date\": \"2020-08-30T00:00:00\", \"count\": 109}, {\"date\": \"2020-08-31T00:00:00\", \"count\": 28}, {\"date\": \"2020-09-01T00:00:00\", \"count\": 30}, {\"date\": \"2020-09-02T00:00:00\", \"count\": 44}, {\"date\": \"2020-09-03T00:00:00\", \"count\": 31}, {\"date\": \"2020-09-04T00:00:00\", \"count\": 54}, {\"date\": \"2020-09-05T00:00:00\", \"count\": 46}, {\"date\": \"2020-09-06T00:00:00\", \"count\": 35}, {\"date\": \"2020-09-07T00:00:00\", \"count\": 70}, {\"date\": \"2020-09-08T00:00:00\", \"count\": 108}, {\"date\": \"2020-09-09T00:00:00\", \"count\": 52}, {\"date\": \"2020-09-10T00:00:00\", \"count\": 60}, {\"date\": \"2020-09-11T00:00:00\", \"count\": 33}, {\"date\": \"2020-09-12T00:00:00\", \"count\": 37}, {\"date\": \"2020-09-13T00:00:00\", \"count\": 58}, {\"date\": \"2020-09-14T00:00:00\", \"count\": 85}, {\"date\": \"2020-09-15T00:00:00\", \"count\": 30}, {\"date\": \"2020-09-16T00:00:00\", \"count\": 20}, {\"date\": \"2020-09-17T00:00:00\", \"count\": 43}, {\"date\": \"2020-09-18T00:00:00\", \"count\": 27}, {\"date\": \"2020-09-19T00:00:00\", \"count\": 11}, {\"date\": \"2020-09-20T00:00:00\", \"count\": 35}, {\"date\": \"2020-09-21T00:00:00\", \"count\": 38}, {\"date\": \"2020-09-22T00:00:00\", \"count\": 35}, {\"date\": \"2020-09-23T00:00:00\", \"count\": 42}, {\"date\": \"2020-09-24T00:00:00\", \"count\": 44}, {\"date\": \"2020-09-25T00:00:00\", \"count\": 66}, {\"date\": \"2020-09-26T00:00:00\", \"count\": 39}, {\"date\": \"2020-09-27T00:00:00\", \"count\": 20}, {\"date\": \"2020-09-28T00:00:00\", \"count\": 37}, {\"date\": \"2020-09-29T00:00:00\", \"count\": 56}, {\"date\": \"2020-09-30T00:00:00\", \"count\": 55}, {\"date\": \"2020-10-01T00:00:00\", \"count\": 50}, {\"date\": \"2020-10-02T00:00:00\", \"count\": 2}, {\"date\": \"2020-10-03T00:00:00\", \"count\": 3}, {\"date\": \"2020-10-04T00:00:00\", \"count\": 8}, {\"date\": \"2020-10-05T00:00:00\", \"count\": 29}, {\"date\": \"2020-10-06T00:00:00\", \"count\": 65}, {\"date\": \"2020-10-07T00:00:00\", \"count\": 82}, {\"date\": \"2020-10-08T00:00:00\", \"count\": 37}, {\"date\": \"2020-10-09T00:00:00\", \"count\": 24}, {\"date\": \"2020-10-10T00:00:00\", \"count\": 19}, {\"date\": \"2020-10-11T00:00:00\", \"count\": 23}, {\"date\": \"2020-10-12T00:00:00\", \"count\": 117}, {\"date\": \"2020-10-13T00:00:00\", \"count\": 96}, {\"date\": \"2020-10-14T00:00:00\", \"count\": 26}, {\"date\": \"2020-10-15T00:00:00\", \"count\": 56}, {\"date\": \"2020-10-16T00:00:00\", \"count\": 68}, {\"date\": \"2020-10-17T00:00:00\", \"count\": 58}, {\"date\": \"2020-10-18T00:00:00\", \"count\": 21}, {\"date\": \"2020-10-19T00:00:00\", \"count\": 23}, {\"date\": \"2020-10-20T00:00:00\", \"count\": 9}, {\"date\": \"2020-10-21T00:00:00\", \"count\": 45}, {\"date\": \"2020-10-22T00:00:00\", \"count\": 47}, {\"date\": \"2020-10-23T00:00:00\", \"count\": 31}, {\"date\": \"2020-10-24T00:00:00\", \"count\": 72}, {\"date\": \"2020-10-25T00:00:00\", \"count\": 34}, {\"date\": \"2020-10-26T00:00:00\", \"count\": 43}, {\"date\": \"2020-10-27T00:00:00\", \"count\": 108}, {\"date\": \"2020-10-28T00:00:00\", \"count\": 31}, {\"date\": \"2020-10-29T00:00:00\", \"count\": 43}, {\"date\": \"2020-10-30T00:00:00\", \"count\": 65}, {\"date\": \"2020-10-31T00:00:00\", \"count\": 74}, {\"date\": \"2020-11-01T00:00:00\", \"count\": 60}, {\"date\": \"2020-11-02T00:00:00\", \"count\": 85}, {\"date\": \"2020-11-03T00:00:00\", \"count\": 18}, {\"date\": \"2020-11-04T00:00:00\", \"count\": 14}, {\"date\": \"2020-11-05T00:00:00\", \"count\": 17}, {\"date\": \"2020-11-06T00:00:00\", \"count\": 27}, {\"date\": \"2020-11-07T00:00:00\", \"count\": 12}, {\"date\": \"2020-11-08T00:00:00\", \"count\": 19}, {\"date\": \"2020-11-09T00:00:00\", \"count\": 32}, {\"date\": \"2020-11-10T00:00:00\", \"count\": 37}, {\"date\": \"2020-11-11T00:00:00\", \"count\": 24}, {\"date\": \"2020-11-12T00:00:00\", \"count\": 48}, {\"date\": \"2020-11-13T00:00:00\", \"count\": 41}, {\"date\": \"2020-11-14T00:00:00\", \"count\": 38}, {\"date\": \"2020-11-15T00:00:00\", \"count\": 45}, {\"date\": \"2020-11-16T00:00:00\", \"count\": 41}, {\"date\": \"2020-11-17T00:00:00\", \"count\": 22}, {\"date\": \"2020-11-18T00:00:00\", \"count\": 26}, {\"date\": \"2020-11-19T00:00:00\", \"count\": 22}, {\"date\": \"2020-11-20T00:00:00\", \"count\": 24}, {\"date\": \"2020-11-21T00:00:00\", \"count\": 38}, {\"date\": \"2020-11-22T00:00:00\", \"count\": 17}, {\"date\": \"2020-11-23T00:00:00\", \"count\": 4}, {\"date\": \"2020-11-24T00:00:00\", \"count\": 41}, {\"date\": \"2020-11-25T00:00:00\", \"count\": 43}, {\"date\": \"2020-11-26T00:00:00\", \"count\": 14}, {\"date\": \"2020-11-27T00:00:00\", \"count\": 33}, {\"date\": \"2020-11-28T00:00:00\", \"count\": 8}, {\"date\": \"2020-11-29T00:00:00\", \"count\": 16}, {\"date\": \"2020-11-30T00:00:00\", \"count\": 29}, {\"date\": \"2020-12-01T00:00:00\", \"count\": 50}, {\"date\": \"2020-12-02T00:00:00\", \"count\": 21}, {\"date\": \"2020-12-03T00:00:00\", \"count\": 19}, {\"date\": \"2020-12-04T00:00:00\", \"count\": 30}, {\"date\": \"2020-12-05T00:00:00\", \"count\": 55}, {\"date\": \"2020-12-06T00:00:00\", \"count\": 24}, {\"date\": \"2020-12-07T00:00:00\", \"count\": 14}, {\"date\": \"2020-12-08T00:00:00\", \"count\": 35}, {\"date\": \"2020-12-09T00:00:00\", \"count\": 15}, {\"date\": \"2020-12-10T00:00:00\", \"count\": 35}, {\"date\": \"2020-12-11T00:00:00\", \"count\": 23}, {\"date\": \"2020-12-12T00:00:00\", \"count\": 18}, {\"date\": \"2020-12-13T00:00:00\", \"count\": 22}, {\"date\": \"2020-12-14T00:00:00\", \"count\": 15}, {\"date\": \"2020-12-15T00:00:00\", \"count\": 17}, {\"date\": \"2020-12-16T00:00:00\", \"count\": 10}, {\"date\": \"2020-12-17T00:00:00\", \"count\": 16}, {\"date\": \"2020-12-18T00:00:00\", \"count\": 21}, {\"date\": \"2020-12-19T00:00:00\", \"count\": 28}, {\"date\": \"2020-12-20T00:00:00\", \"count\": 19}, {\"date\": \"2020-12-21T00:00:00\", \"count\": 20}, {\"date\": \"2020-12-22T00:00:00\", \"count\": 8}, {\"date\": \"2020-12-23T00:00:00\", \"count\": 9}, {\"date\": \"2020-12-24T00:00:00\", \"count\": 10}, {\"date\": \"2020-12-25T00:00:00\", \"count\": 8}, {\"date\": \"2020-12-26T00:00:00\", \"count\": 30}, {\"date\": \"2020-12-27T00:00:00\", \"count\": 3}, {\"date\": \"2020-12-28T00:00:00\", \"count\": 12}, {\"date\": \"2020-12-29T00:00:00\", \"count\": 22}, {\"date\": \"2020-12-30T00:00:00\", \"count\": 15}, {\"date\": \"2020-12-31T00:00:00\", \"count\": 5}, {\"date\": \"2021-01-01T00:00:00\", \"count\": 28}, {\"date\": \"2021-01-02T00:00:00\", \"count\": 26}, {\"date\": \"2021-01-03T00:00:00\", \"count\": 40}, {\"date\": \"2021-01-04T00:00:00\", \"count\": 13}, {\"date\": \"2021-01-05T00:00:00\", \"count\": 27}, {\"date\": \"2021-01-06T00:00:00\", \"count\": 13}, {\"date\": \"2021-01-07T00:00:00\", \"count\": 1}, {\"date\": \"2021-01-08T00:00:00\", \"count\": 2}]}}, {\"mode\": \"vega-lite\"});\n",
       "</script>"
      ],
      "text/plain": [
       "alt.LayerChart(...)"
      ]
     },
     "execution_count": 57,
     "metadata": {},
     "output_type": "execute_result"
    }
   ],
   "source": [
    "# bars\n",
    "\n",
    "lines = (\n",
    "    alt.Chart(\n",
    "        trump_tweets_day_candidacy_df,\n",
    "        title=\"@realDonaldTrump tweet frequency since candidacy announcement\",\n",
    "    )\n",
    "    .mark_bar(size=2)\n",
    "    .encode(\n",
    "        x=alt.X(\n",
    "            \"date:T\",\n",
    "            axis=alt.Axis(grid=False, title=\"\", tickCount=6, format=(\"%b. %Y\")),\n",
    "        ),\n",
    "        y=alt.Y(\n",
    "            \"count:Q\",\n",
    "            scale=alt.Scale(domain=(0, 200)),\n",
    "            axis=alt.Axis(\n",
    "                gridColor=\"#dddddd\",\n",
    "                offset=6,\n",
    "                tickSize=0,\n",
    "                domainOpacity=0,\n",
    "                tickCount=6,\n",
    "                title=\"Daily tweet counts and mean\",\n",
    "            ),\n",
    "        ),\n",
    "    )\n",
    ")\n",
    "\n",
    "# rule showing mean\n",
    "\n",
    "rule = (\n",
    "    alt.Chart(trump_tweets_day_candidacy_df)\n",
    "    .mark_rule(color=\"red\")\n",
    "    .encode(y=\"mean(count):Q\")\n",
    ")\n",
    "\n",
    "# rule label -- would like to add \"Average: \" annotation\n",
    "text = rule.mark_text(\n",
    "    align=\"center\",\n",
    "    baseline=\"middle\",\n",
    "    dx=200,\n",
    "    dy=10,\n",
    "    fontWeight=\"bold\",\n",
    ").encode(text=alt.Text(\"mean(count):Q\", format=\".2\"))\n",
    "\n",
    "# go\n",
    "(lines + rule + text).properties(height=400, width=800).configure_view(strokeOpacity=0)"
   ]
  },
  {
   "cell_type": "code",
   "execution_count": 58,
   "metadata": {},
   "outputs": [
    {
     "data": {
      "text/html": [
       "\n",
       "<div id=\"altair-viz-5372ba282b9a4e7db8d716cc64ef4ad0\"></div>\n",
       "<script type=\"text/javascript\">\n",
       "  (function(spec, embedOpt){\n",
       "    let outputDiv = document.currentScript.previousElementSibling;\n",
       "    if (outputDiv.id !== \"altair-viz-5372ba282b9a4e7db8d716cc64ef4ad0\") {\n",
       "      outputDiv = document.getElementById(\"altair-viz-5372ba282b9a4e7db8d716cc64ef4ad0\");\n",
       "    }\n",
       "    const paths = {\n",
       "      \"vega\": \"https://cdn.jsdelivr.net/npm//vega@5?noext\",\n",
       "      \"vega-lib\": \"https://cdn.jsdelivr.net/npm//vega-lib?noext\",\n",
       "      \"vega-lite\": \"https://cdn.jsdelivr.net/npm//vega-lite@4.8.1?noext\",\n",
       "      \"vega-embed\": \"https://cdn.jsdelivr.net/npm//vega-embed@6?noext\",\n",
       "    };\n",
       "\n",
       "    function loadScript(lib) {\n",
       "      return new Promise(function(resolve, reject) {\n",
       "        var s = document.createElement('script');\n",
       "        s.src = paths[lib];\n",
       "        s.async = true;\n",
       "        s.onload = () => resolve(paths[lib]);\n",
       "        s.onerror = () => reject(`Error loading script: ${paths[lib]}`);\n",
       "        document.getElementsByTagName(\"head\")[0].appendChild(s);\n",
       "      });\n",
       "    }\n",
       "\n",
       "    function showError(err) {\n",
       "      outputDiv.innerHTML = `<div class=\"error\" style=\"color:red;\">${err}</div>`;\n",
       "      throw err;\n",
       "    }\n",
       "\n",
       "    function displayChart(vegaEmbed) {\n",
       "      vegaEmbed(outputDiv, spec, embedOpt)\n",
       "        .catch(err => showError(`Javascript Error: ${err.message}<br>This usually means there's a typo in your chart specification. See the javascript console for the full traceback.`));\n",
       "    }\n",
       "\n",
       "    if(typeof define === \"function\" && define.amd) {\n",
       "      requirejs.config({paths});\n",
       "      require([\"vega-embed\"], displayChart, err => showError(`Error loading script: ${err.message}`));\n",
       "    } else if (typeof vegaEmbed === \"function\") {\n",
       "      displayChart(vegaEmbed);\n",
       "    } else {\n",
       "      loadScript(\"vega\")\n",
       "        .then(() => loadScript(\"vega-lite\"))\n",
       "        .then(() => loadScript(\"vega-embed\"))\n",
       "        .catch(showError)\n",
       "        .then(() => displayChart(vegaEmbed));\n",
       "    }\n",
       "  })({\"config\": {\"view\": {\"width\": 800, \"height\": 450, \"strokeOpacity\": 0}, \"background\": \"#ffffff\", \"title\": {\"anchor\": \"start\", \"font\": \"Benton Gothic Bold, sans\", \"fontColor\": \"#000000\", \"fontSize\": 22, \"fontWeight\": \"normal\"}, \"arc\": {\"fill\": \"#82c6df\"}, \"area\": {\"fill\": \"#82c6df\"}, \"line\": {\"stroke\": \"#82c6df\", \"strokeWidth\": 3}, \"path\": {\"stroke\": \"#82c6df\"}, \"rect\": {\"fill\": \"#82c6df\"}, \"shape\": {\"stroke\": \"#82c6df\"}, \"bar\": {\"fill\": \"#82c6df\"}, \"point\": {\"stroke\": \"#82c6df\"}, \"symbol\": {\"fill\": \"#82c6df\", \"size\": 30}, \"axis\": {\"titleFont\": \"Benton Gothic Bold, sans\", \"titleFontSize\": 13, \"titleFontWeight\": \"normal\", \"labelFont\": \"Benton Gothic, sans\", \"labelFontSize\": 11.5, \"labelFontWeight\": \"normal\"}, \"axisX\": {\"labelAngle\": 0, \"labelPadding\": 4, \"tickSize\": 3}, \"axisY\": {\"labelBaseline\": \"middle\", \"maxExtent\": 45, \"minExtent\": 45, \"tickSize\": 2, \"titleAlign\": \"left\", \"titleAngle\": 0, \"titleX\": -45, \"titleY\": -11}, \"legend\": {\"titleFont\": \"Benton Gothic Bold, sans\", \"titleFontSize\": 13, \"titleFontWeight\": \"normal\", \"symbolType\": \"square\", \"labelFont\": \"Benton Gothic, sans\", \"labelFontSize\": 11.5}, \"range\": {\"category\": [\"#3580b1\", \"#ec8431\", \"#ab7fb4\", \"#c89d29\", \"#adc839\", \"#829eb1\"], \"diverging\": [\"#e68a4f\", \"#f4bb6a\", \"#f9e39c\", \"#dadfe2\", \"#a6b7c6\", \"#849eae\"], \"heatmap\": [\"#fbf2c7\", \"#f9e39c\", \"#f8d36e\", \"#f4bb6a\", \"#e68a4f\", \"#d15a40\", \"#ab4232\"], \"ordinal\": [\"#fbf2c7\", \"#f9e39c\", \"#f8d36e\", \"#f4bb6a\", \"#e68a4f\", \"#d15a40\", \"#ab4232\"], \"ramp\": [\"#fbf2c7\", \"#f9e39c\", \"#f8d36e\", \"#f4bb6a\", \"#e68a4f\", \"#d15a40\", \"#ab4232\"]}}, \"layer\": [{\"mark\": {\"type\": \"bar\", \"size\": 2}, \"encoding\": {\"x\": {\"type\": \"temporal\", \"axis\": {\"format\": \"%b. %Y\", \"grid\": false, \"tickCount\": 6, \"title\": \"\"}, \"field\": \"date\"}, \"y\": {\"type\": \"quantitative\", \"axis\": {\"domainOpacity\": 0, \"gridColor\": \"#dddddd\", \"offset\": 6, \"tickCount\": 6, \"tickSize\": 0, \"title\": \"Daily tweet counts and mean\"}, \"field\": \"count\", \"scale\": {\"domain\": [0, 200]}}}, \"title\": \"@realDonaldTrump tweet frequency since inauguration\"}, {\"mark\": {\"type\": \"rule\", \"color\": \"red\"}, \"encoding\": {\"y\": {\"type\": \"quantitative\", \"aggregate\": \"mean\", \"field\": \"count\"}}}, {\"mark\": {\"type\": \"text\", \"align\": \"center\", \"baseline\": \"middle\", \"dx\": 200, \"dy\": 10, \"fontWeight\": \"bold\"}, \"encoding\": {\"text\": {\"type\": \"quantitative\", \"aggregate\": \"mean\", \"field\": \"count\", \"format\": \".2\"}, \"y\": {\"type\": \"quantitative\", \"aggregate\": \"mean\", \"field\": \"count\"}}}], \"data\": {\"name\": \"data-726a6afc28352fa1eb162a23e919a387\"}, \"height\": 400, \"width\": 800, \"$schema\": \"https://vega.github.io/schema/vega-lite/v4.8.1.json\", \"datasets\": {\"data-726a6afc28352fa1eb162a23e919a387\": [{\"date\": \"2020-06-05T00:00:00\", \"count\": 198}, {\"date\": \"2020-05-10T00:00:00\", \"count\": 124}, {\"date\": \"2019-12-12T00:00:00\", \"count\": 122}, {\"date\": \"2020-10-12T00:00:00\", \"count\": 117}, {\"date\": \"2020-08-30T00:00:00\", \"count\": 109}, {\"date\": \"2020-09-08T00:00:00\", \"count\": 108}, {\"date\": \"2020-10-27T00:00:00\", \"count\": 108}, {\"date\": \"2019-12-08T00:00:00\", \"count\": 105}, {\"date\": \"2020-10-13T00:00:00\", \"count\": 96}, {\"date\": \"2020-01-22T00:00:00\", \"count\": 93}, {\"date\": \"2020-08-14T00:00:00\", \"count\": 87}, {\"date\": \"2020-09-14T00:00:00\", \"count\": 85}, {\"date\": \"2020-11-02T00:00:00\", \"count\": 85}, {\"date\": \"2020-06-03T00:00:00\", \"count\": 84}, {\"date\": \"2020-10-07T00:00:00\", \"count\": 82}, {\"date\": \"2019-05-01T00:00:00\", \"count\": 82}, {\"date\": \"2020-03-22T00:00:00\", \"count\": 80}, {\"date\": \"2020-01-25T00:00:00\", \"count\": 79}, {\"date\": \"2019-11-09T00:00:00\", \"count\": 78}, {\"date\": \"2020-01-24T00:00:00\", \"count\": 75}, {\"date\": \"2019-12-18T00:00:00\", \"count\": 75}, {\"date\": \"2020-10-31T00:00:00\", \"count\": 74}, {\"date\": \"2019-12-11T00:00:00\", \"count\": 73}, {\"date\": \"2020-10-24T00:00:00\", \"count\": 72}, {\"date\": \"2019-05-11T00:00:00\", \"count\": 72}, {\"date\": \"2020-02-08T00:00:00\", \"count\": 72}, {\"date\": \"2020-04-04T00:00:00\", \"count\": 70}, {\"date\": \"2020-09-07T00:00:00\", \"count\": 70}, {\"date\": \"2020-10-16T00:00:00\", \"count\": 68}, {\"date\": \"2019-12-19T00:00:00\", \"count\": 67}, {\"date\": \"2020-09-25T00:00:00\", \"count\": 66}, {\"date\": \"2020-07-04T00:00:00\", \"count\": 65}, {\"date\": \"2020-07-27T00:00:00\", \"count\": 65}, {\"date\": \"2020-10-30T00:00:00\", \"count\": 65}, {\"date\": \"2020-10-06T00:00:00\", \"count\": 65}, {\"date\": \"2020-04-30T00:00:00\", \"count\": 64}, {\"date\": \"2020-06-01T00:00:00\", \"count\": 63}, {\"date\": \"2020-07-26T00:00:00\", \"count\": 62}, {\"date\": \"2020-03-19T00:00:00\", \"count\": 62}, {\"date\": \"2020-09-10T00:00:00\", \"count\": 60}, {\"date\": \"2020-02-01T00:00:00\", \"count\": 60}, {\"date\": \"2019-10-11T00:00:00\", \"count\": 60}, {\"date\": \"2020-11-01T00:00:00\", \"count\": 60}, {\"date\": \"2019-09-26T00:00:00\", \"count\": 59}, {\"date\": \"2020-06-04T00:00:00\", \"count\": 58}, {\"date\": \"2020-10-17T00:00:00\", \"count\": 58}, {\"date\": \"2019-10-19T00:00:00\", \"count\": 58}, {\"date\": \"2020-09-13T00:00:00\", \"count\": 58}, {\"date\": \"2020-02-07T00:00:00\", \"count\": 58}, {\"date\": \"2019-08-31T00:00:00\", \"count\": 58}, {\"date\": \"2020-05-23T00:00:00\", \"count\": 57}, {\"date\": \"2020-07-17T00:00:00\", \"count\": 57}, {\"date\": \"2020-07-23T00:00:00\", \"count\": 57}, {\"date\": \"2020-10-15T00:00:00\", \"count\": 56}, {\"date\": \"2020-04-09T00:00:00\", \"count\": 56}, {\"date\": \"2020-09-29T00:00:00\", \"count\": 56}, {\"date\": \"2019-10-29T00:00:00\", \"count\": 55}, {\"date\": \"2020-09-30T00:00:00\", \"count\": 55}, {\"date\": \"2020-08-16T00:00:00\", \"count\": 55}, {\"date\": \"2020-08-18T00:00:00\", \"count\": 55}, {\"date\": \"2019-12-27T00:00:00\", \"count\": 55}, {\"date\": \"2020-04-18T00:00:00\", \"count\": 55}, {\"date\": \"2020-12-05T00:00:00\", \"count\": 55}, {\"date\": \"2020-09-04T00:00:00\", \"count\": 54}, {\"date\": \"2019-12-31T00:00:00\", \"count\": 53}, {\"date\": \"2020-01-21T00:00:00\", \"count\": 53}, {\"date\": \"2019-10-07T00:00:00\", \"count\": 53}, {\"date\": \"2020-08-24T00:00:00\", \"count\": 53}, {\"date\": \"2020-02-09T00:00:00\", \"count\": 53}, {\"date\": \"2020-08-25T00:00:00\", \"count\": 53}, {\"date\": \"2020-09-09T00:00:00\", \"count\": 52}, {\"date\": \"2020-03-23T00:00:00\", \"count\": 52}, {\"date\": \"2020-05-28T00:00:00\", \"count\": 52}, {\"date\": \"2020-08-01T00:00:00\", \"count\": 51}, {\"date\": \"2019-10-03T00:00:00\", \"count\": 51}, {\"date\": \"2020-05-16T00:00:00\", \"count\": 51}, {\"date\": \"2020-05-11T00:00:00\", \"count\": 51}, {\"date\": \"2020-08-29T00:00:00\", \"count\": 50}, {\"date\": \"2020-10-01T00:00:00\", \"count\": 50}, {\"date\": \"2020-03-02T00:00:00\", \"count\": 50}, {\"date\": \"2020-12-01T00:00:00\", \"count\": 50}, {\"date\": \"2019-11-13T00:00:00\", \"count\": 49}, {\"date\": \"2019-08-13T00:00:00\", \"count\": 48}, {\"date\": \"2019-12-20T00:00:00\", \"count\": 48}, {\"date\": \"2019-11-24T00:00:00\", \"count\": 48}, {\"date\": \"2019-11-17T00:00:00\", \"count\": 48}, {\"date\": \"2019-12-06T00:00:00\", \"count\": 48}, {\"date\": \"2020-11-12T00:00:00\", \"count\": 48}, {\"date\": \"2019-10-04T00:00:00\", \"count\": 48}, {\"date\": \"2020-07-29T00:00:00\", \"count\": 47}, {\"date\": \"2020-05-12T00:00:00\", \"count\": 47}, {\"date\": \"2020-10-22T00:00:00\", \"count\": 47}, {\"date\": \"2019-11-21T00:00:00\", \"count\": 47}, {\"date\": \"2020-06-09T00:00:00\", \"count\": 47}, {\"date\": \"2020-03-17T00:00:00\", \"count\": 47}, {\"date\": \"2020-03-12T00:00:00\", \"count\": 46}, {\"date\": \"2020-09-05T00:00:00\", \"count\": 46}, {\"date\": \"2020-06-13T00:00:00\", \"count\": 46}, {\"date\": \"2019-10-25T00:00:00\", \"count\": 46}, {\"date\": \"2019-07-04T00:00:00\", \"count\": 46}, {\"date\": \"2020-01-27T00:00:00\", \"count\": 46}, {\"date\": \"2020-02-19T00:00:00\", \"count\": 45}, {\"date\": \"2020-02-25T00:00:00\", \"count\": 45}, {\"date\": \"2019-07-12T00:00:00\", \"count\": 45}, {\"date\": \"2020-06-18T00:00:00\", \"count\": 45}, {\"date\": \"2020-11-15T00:00:00\", \"count\": 45}, {\"date\": \"2019-09-18T00:00:00\", \"count\": 45}, {\"date\": \"2020-06-29T00:00:00\", \"count\": 45}, {\"date\": \"2020-02-15T00:00:00\", \"count\": 45}, {\"date\": \"2020-05-19T00:00:00\", \"count\": 45}, {\"date\": \"2020-08-20T00:00:00\", \"count\": 45}, {\"date\": \"2020-10-21T00:00:00\", \"count\": 45}, {\"date\": \"2019-06-26T00:00:00\", \"count\": 45}, {\"date\": \"2020-02-21T00:00:00\", \"count\": 45}, {\"date\": \"2020-08-17T00:00:00\", \"count\": 44}, {\"date\": \"2020-09-24T00:00:00\", \"count\": 44}, {\"date\": \"2020-09-02T00:00:00\", \"count\": 44}, {\"date\": \"2020-04-26T00:00:00\", \"count\": 44}, {\"date\": \"2019-10-31T00:00:00\", \"count\": 44}, {\"date\": \"2019-06-15T00:00:00\", \"count\": 44}, {\"date\": \"2020-04-12T00:00:00\", \"count\": 44}, {\"date\": \"2019-11-05T00:00:00\", \"count\": 44}, {\"date\": \"2020-05-14T00:00:00\", \"count\": 44}, {\"date\": \"2020-06-30T00:00:00\", \"count\": 43}, {\"date\": \"2020-10-29T00:00:00\", \"count\": 43}, {\"date\": \"2020-08-26T00:00:00\", \"count\": 43}, {\"date\": \"2020-03-05T00:00:00\", \"count\": 43}, {\"date\": \"2019-09-28T00:00:00\", \"count\": 43}, {\"date\": \"2019-12-10T00:00:00\", \"count\": 43}, {\"date\": \"2020-10-26T00:00:00\", \"count\": 43}, {\"date\": \"2019-04-22T00:00:00\", \"count\": 43}, {\"date\": \"2019-07-11T00:00:00\", \"count\": 43}, {\"date\": \"2020-01-30T00:00:00\", \"count\": 43}, {\"date\": \"2020-09-17T00:00:00\", \"count\": 43}, {\"date\": \"2020-11-25T00:00:00\", \"count\": 43}, {\"date\": \"2019-10-09T00:00:00\", \"count\": 42}, {\"date\": \"2019-11-03T00:00:00\", \"count\": 42}, {\"date\": \"2020-03-27T00:00:00\", \"count\": 42}, {\"date\": \"2019-12-16T00:00:00\", \"count\": 42}, {\"date\": \"2020-09-23T00:00:00\", \"count\": 42}, {\"date\": \"2020-11-16T00:00:00\", \"count\": 41}, {\"date\": \"2020-11-24T00:00:00\", \"count\": 41}, {\"date\": \"2020-11-13T00:00:00\", \"count\": 41}, {\"date\": \"2019-01-20T00:00:00\", \"count\": 41}, {\"date\": \"2019-10-06T00:00:00\", \"count\": 41}, {\"date\": \"2019-10-23T00:00:00\", \"count\": 41}, {\"date\": \"2020-06-27T00:00:00\", \"count\": 41}, {\"date\": \"2020-07-11T00:00:00\", \"count\": 41}, {\"date\": \"2020-03-03T00:00:00\", \"count\": 41}, {\"date\": \"2019-12-04T00:00:00\", \"count\": 40}, {\"date\": \"2020-05-02T00:00:00\", \"count\": 40}, {\"date\": \"2020-04-23T00:00:00\", \"count\": 40}, {\"date\": \"2020-08-15T00:00:00\", \"count\": 40}, {\"date\": \"2020-01-10T00:00:00\", \"count\": 40}, {\"date\": \"2019-07-24T00:00:00\", \"count\": 40}, {\"date\": \"2019-11-15T00:00:00\", \"count\": 40}, {\"date\": \"2021-01-03T00:00:00\", \"count\": 40}, {\"date\": \"2019-11-19T00:00:00\", \"count\": 40}, {\"date\": \"2020-05-27T00:00:00\", \"count\": 39}, {\"date\": \"2020-02-24T00:00:00\", \"count\": 39}, {\"date\": \"2020-09-26T00:00:00\", \"count\": 39}, {\"date\": \"2019-09-29T00:00:00\", \"count\": 39}, {\"date\": \"2020-05-18T00:00:00\", \"count\": 39}, {\"date\": \"2020-07-02T00:00:00\", \"count\": 38}, {\"date\": \"2019-08-23T00:00:00\", \"count\": 38}, {\"date\": \"2019-08-25T00:00:00\", \"count\": 38}, {\"date\": \"2020-05-26T00:00:00\", \"count\": 38}, {\"date\": \"2020-11-14T00:00:00\", \"count\": 38}, {\"date\": \"2019-08-22T00:00:00\", \"count\": 38}, {\"date\": \"2020-11-21T00:00:00\", \"count\": 38}, {\"date\": \"2020-05-21T00:00:00\", \"count\": 38}, {\"date\": \"2020-09-21T00:00:00\", \"count\": 38}, {\"date\": \"2020-10-08T00:00:00\", \"count\": 37}, {\"date\": \"2020-09-28T00:00:00\", \"count\": 37}, {\"date\": \"2020-09-12T00:00:00\", \"count\": 37}, {\"date\": \"2019-09-01T00:00:00\", \"count\": 37}, {\"date\": \"2020-11-10T00:00:00\", \"count\": 37}, {\"date\": \"2019-09-11T00:00:00\", \"count\": 37}, {\"date\": \"2020-06-12T00:00:00\", \"count\": 37}, {\"date\": \"2020-06-02T00:00:00\", \"count\": 37}, {\"date\": \"2020-02-05T00:00:00\", \"count\": 37}, {\"date\": \"2020-06-07T00:00:00\", \"count\": 36}, {\"date\": \"2020-08-02T00:00:00\", \"count\": 36}, {\"date\": \"2020-03-09T00:00:00\", \"count\": 36}, {\"date\": \"2020-05-30T00:00:00\", \"count\": 36}, {\"date\": \"2020-03-29T00:00:00\", \"count\": 36}, {\"date\": \"2020-06-19T00:00:00\", \"count\": 36}, {\"date\": \"2020-05-17T00:00:00\", \"count\": 36}, {\"date\": \"2019-08-15T00:00:00\", \"count\": 36}, {\"date\": \"2020-01-14T00:00:00\", \"count\": 36}, {\"date\": \"2019-12-02T00:00:00\", \"count\": 35}, {\"date\": \"2020-12-08T00:00:00\", \"count\": 35}, {\"date\": \"2020-04-17T00:00:00\", \"count\": 35}, {\"date\": \"2019-11-20T00:00:00\", \"count\": 35}, {\"date\": \"2019-10-08T00:00:00\", \"count\": 35}, {\"date\": \"2020-09-06T00:00:00\", \"count\": 35}, {\"date\": \"2020-01-28T00:00:00\", \"count\": 35}, {\"date\": \"2019-09-16T00:00:00\", \"count\": 35}, {\"date\": \"2020-07-13T00:00:00\", \"count\": 35}, {\"date\": \"2020-12-10T00:00:00\", \"count\": 35}, {\"date\": \"2019-12-03T00:00:00\", \"count\": 35}, {\"date\": \"2019-12-15T00:00:00\", \"count\": 35}, {\"date\": \"2020-09-20T00:00:00\", \"count\": 35}, {\"date\": \"2020-09-22T00:00:00\", \"count\": 35}, {\"date\": \"2019-12-26T00:00:00\", \"count\": 34}, {\"date\": \"2019-07-14T00:00:00\", \"count\": 34}, {\"date\": \"2020-01-26T00:00:00\", \"count\": 34}, {\"date\": \"2020-08-05T00:00:00\", \"count\": 34}, {\"date\": \"2019-09-10T00:00:00\", \"count\": 34}, {\"date\": \"2020-10-25T00:00:00\", \"count\": 34}, {\"date\": \"2019-05-22T00:00:00\", \"count\": 34}, {\"date\": \"2019-03-08T00:00:00\", \"count\": 34}, {\"date\": \"2020-05-24T00:00:00\", \"count\": 33}, {\"date\": \"2019-09-02T00:00:00\", \"count\": 33}, {\"date\": \"2020-06-11T00:00:00\", \"count\": 33}, {\"date\": \"2020-08-03T00:00:00\", \"count\": 33}, {\"date\": \"2020-02-03T00:00:00\", \"count\": 33}, {\"date\": \"2019-09-09T00:00:00\", \"count\": 33}, {\"date\": \"2019-09-25T00:00:00\", \"count\": 33}, {\"date\": \"2020-03-10T00:00:00\", \"count\": 33}, {\"date\": \"2020-09-11T00:00:00\", \"count\": 33}, {\"date\": \"2020-11-27T00:00:00\", \"count\": 33}, {\"date\": \"2019-10-14T00:00:00\", \"count\": 33}, {\"date\": \"2020-04-20T00:00:00\", \"count\": 32}, {\"date\": \"2020-04-10T00:00:00\", \"count\": 32}, {\"date\": \"2019-08-20T00:00:00\", \"count\": 32}, {\"date\": \"2020-11-09T00:00:00\", \"count\": 32}, {\"date\": \"2020-05-05T00:00:00\", \"count\": 32}, {\"date\": \"2020-03-25T00:00:00\", \"count\": 32}, {\"date\": \"2019-11-02T00:00:00\", \"count\": 31}, {\"date\": \"2020-10-23T00:00:00\", \"count\": 31}, {\"date\": \"2020-09-03T00:00:00\", \"count\": 31}, {\"date\": \"2019-07-20T00:00:00\", \"count\": 31}, {\"date\": \"2018-09-14T00:00:00\", \"count\": 31}, {\"date\": \"2019-10-16T00:00:00\", \"count\": 31}, {\"date\": \"2020-02-10T00:00:00\", \"count\": 31}, {\"date\": \"2020-02-20T00:00:00\", \"count\": 31}, {\"date\": \"2019-11-01T00:00:00\", \"count\": 31}, {\"date\": \"2020-02-11T00:00:00\", \"count\": 31}, {\"date\": \"2019-07-13T00:00:00\", \"count\": 31}, {\"date\": \"2020-05-03T00:00:00\", \"count\": 31}, {\"date\": \"2019-10-22T00:00:00\", \"count\": 31}, {\"date\": \"2020-08-28T00:00:00\", \"count\": 31}, {\"date\": \"2020-08-07T00:00:00\", \"count\": 31}, {\"date\": \"2020-10-28T00:00:00\", \"count\": 31}, {\"date\": \"2018-11-04T00:00:00\", \"count\": 31}, {\"date\": \"2020-01-17T00:00:00\", \"count\": 31}, {\"date\": \"2020-04-19T00:00:00\", \"count\": 31}, {\"date\": \"2019-03-17T00:00:00\", \"count\": 30}, {\"date\": \"2020-01-09T00:00:00\", \"count\": 30}, {\"date\": \"2020-07-10T00:00:00\", \"count\": 30}, {\"date\": \"2020-04-29T00:00:00\", \"count\": 30}, {\"date\": \"2020-03-04T00:00:00\", \"count\": 30}, {\"date\": \"2020-04-11T00:00:00\", \"count\": 30}, {\"date\": \"2018-09-17T00:00:00\", \"count\": 30}, {\"date\": \"2019-08-17T00:00:00\", \"count\": 30}, {\"date\": \"2020-09-15T00:00:00\", \"count\": 30}, {\"date\": \"2020-06-28T00:00:00\", \"count\": 30}, {\"date\": \"2020-03-13T00:00:00\", \"count\": 30}, {\"date\": \"2019-11-14T00:00:00\", \"count\": 30}, {\"date\": \"2020-06-22T00:00:00\", \"count\": 30}, {\"date\": \"2020-12-26T00:00:00\", \"count\": 30}, {\"date\": \"2019-05-08T00:00:00\", \"count\": 30}, {\"date\": \"2020-09-01T00:00:00\", \"count\": 30}, {\"date\": \"2020-03-15T00:00:00\", \"count\": 30}, {\"date\": \"2020-12-04T00:00:00\", \"count\": 30}, {\"date\": \"2019-05-12T00:00:00\", \"count\": 29}, {\"date\": \"2019-09-05T00:00:00\", \"count\": 29}, {\"date\": \"2020-11-30T00:00:00\", \"count\": 29}, {\"date\": \"2020-08-12T00:00:00\", \"count\": 29}, {\"date\": \"2019-12-23T00:00:00\", \"count\": 29}, {\"date\": \"2020-10-05T00:00:00\", \"count\": 29}, {\"date\": \"2020-01-23T00:00:00\", \"count\": 29}, {\"date\": \"2019-10-01T00:00:00\", \"count\": 29}, {\"date\": \"2018-11-06T00:00:00\", \"count\": 29}, {\"date\": \"2020-01-12T00:00:00\", \"count\": 29}, {\"date\": \"2020-07-01T00:00:00\", \"count\": 29}, {\"date\": \"2019-05-23T00:00:00\", \"count\": 29}, {\"date\": \"2020-02-04T00:00:00\", \"count\": 29}, {\"date\": \"2020-05-20T00:00:00\", \"count\": 29}, {\"date\": \"2020-05-01T00:00:00\", \"count\": 28}, {\"date\": \"2021-01-01T00:00:00\", \"count\": 28}, {\"date\": \"2019-11-11T00:00:00\", \"count\": 28}, {\"date\": \"2020-05-15T00:00:00\", \"count\": 28}, {\"date\": \"2020-02-18T00:00:00\", \"count\": 28}, {\"date\": \"2020-04-25T00:00:00\", \"count\": 28}, {\"date\": \"2020-08-31T00:00:00\", \"count\": 28}, {\"date\": \"2020-01-29T00:00:00\", \"count\": 28}, {\"date\": \"2020-12-19T00:00:00\", \"count\": 28}, {\"date\": \"2019-10-21T00:00:00\", \"count\": 27}, {\"date\": \"2020-06-16T00:00:00\", \"count\": 27}, {\"date\": \"2020-03-24T00:00:00\", \"count\": 27}, {\"date\": \"2020-09-18T00:00:00\", \"count\": 27}, {\"date\": \"2020-11-06T00:00:00\", \"count\": 27}, {\"date\": \"2019-05-05T00:00:00\", \"count\": 27}, {\"date\": \"2020-01-20T00:00:00\", \"count\": 27}, {\"date\": \"2019-05-04T00:00:00\", \"count\": 27}, {\"date\": \"2021-01-05T00:00:00\", \"count\": 27}, {\"date\": \"2020-01-03T00:00:00\", \"count\": 27}, {\"date\": \"2020-07-06T00:00:00\", \"count\": 27}, {\"date\": \"2020-05-22T00:00:00\", \"count\": 27}, {\"date\": \"2020-07-15T00:00:00\", \"count\": 27}, {\"date\": \"2020-08-27T00:00:00\", \"count\": 27}, {\"date\": \"2020-02-26T00:00:00\", \"count\": 27}, {\"date\": \"2020-08-13T00:00:00\", \"count\": 26}, {\"date\": \"2020-02-02T00:00:00\", \"count\": 26}, {\"date\": \"2020-03-16T00:00:00\", \"count\": 26}, {\"date\": \"2019-08-21T00:00:00\", \"count\": 26}, {\"date\": \"2020-05-09T00:00:00\", \"count\": 26}, {\"date\": \"2019-08-30T00:00:00\", \"count\": 26}, {\"date\": \"2017-09-30T00:00:00\", \"count\": 26}, {\"date\": \"2019-09-07T00:00:00\", \"count\": 26}, {\"date\": \"2020-10-14T00:00:00\", \"count\": 26}, {\"date\": \"2020-03-01T00:00:00\", \"count\": 26}, {\"date\": \"2020-03-31T00:00:00\", \"count\": 26}, {\"date\": \"2019-09-30T00:00:00\", \"count\": 26}, {\"date\": \"2020-01-13T00:00:00\", \"count\": 26}, {\"date\": \"2021-01-02T00:00:00\", \"count\": 26}, {\"date\": \"2020-11-18T00:00:00\", \"count\": 26}, {\"date\": \"2019-12-14T00:00:00\", \"count\": 26}, {\"date\": \"2018-08-03T00:00:00\", \"count\": 25}, {\"date\": \"2019-12-13T00:00:00\", \"count\": 25}, {\"date\": \"2019-05-10T00:00:00\", \"count\": 25}, {\"date\": \"2019-10-18T00:00:00\", \"count\": 25}, {\"date\": \"2020-01-16T00:00:00\", \"count\": 25}, {\"date\": \"2018-06-05T00:00:00\", \"count\": 25}, {\"date\": \"2019-10-02T00:00:00\", \"count\": 25}, {\"date\": \"2019-09-03T00:00:00\", \"count\": 25}, {\"date\": \"2020-05-25T00:00:00\", \"count\": 25}, {\"date\": \"2019-10-30T00:00:00\", \"count\": 25}, {\"date\": \"2019-07-27T00:00:00\", \"count\": 25}, {\"date\": \"2019-07-29T00:00:00\", \"count\": 25}, {\"date\": \"2019-08-07T00:00:00\", \"count\": 25}, {\"date\": \"2019-07-30T00:00:00\", \"count\": 25}, {\"date\": \"2018-09-21T00:00:00\", \"count\": 25}, {\"date\": \"2019-08-16T00:00:00\", \"count\": 25}, {\"date\": \"2019-01-18T00:00:00\", \"count\": 25}, {\"date\": \"2020-11-20T00:00:00\", \"count\": 24}, {\"date\": \"2020-10-09T00:00:00\", \"count\": 24}, {\"date\": \"2020-04-06T00:00:00\", \"count\": 24}, {\"date\": \"2019-07-09T00:00:00\", \"count\": 24}, {\"date\": \"2020-06-10T00:00:00\", \"count\": 24}, {\"date\": \"2019-06-01T00:00:00\", \"count\": 24}, {\"date\": \"2020-11-11T00:00:00\", \"count\": 24}, {\"date\": \"2019-10-12T00:00:00\", \"count\": 24}, {\"date\": \"2018-06-23T00:00:00\", \"count\": 24}, {\"date\": \"2018-10-10T00:00:00\", \"count\": 24}, {\"date\": \"2019-11-16T00:00:00\", \"count\": 24}, {\"date\": \"2019-09-04T00:00:00\", \"count\": 24}, {\"date\": \"2019-03-12T00:00:00\", \"count\": 24}, {\"date\": \"2020-08-04T00:00:00\", \"count\": 24}, {\"date\": \"2017-09-20T00:00:00\", \"count\": 24}, {\"date\": \"2019-05-13T00:00:00\", \"count\": 24}, {\"date\": \"2020-12-06T00:00:00\", \"count\": 24}, {\"date\": \"2019-07-31T00:00:00\", \"count\": 23}, {\"date\": \"2019-05-25T00:00:00\", \"count\": 23}, {\"date\": \"2019-10-20T00:00:00\", \"count\": 23}, {\"date\": \"2020-10-19T00:00:00\", \"count\": 23}, {\"date\": \"2020-03-21T00:00:00\", \"count\": 23}, {\"date\": \"2020-07-24T00:00:00\", \"count\": 23}, {\"date\": \"2020-06-25T00:00:00\", \"count\": 23}, {\"date\": \"2018-11-05T00:00:00\", \"count\": 23}, {\"date\": \"2018-09-10T00:00:00\", \"count\": 23}, {\"date\": \"2019-10-26T00:00:00\", \"count\": 23}, {\"date\": \"2019-09-06T00:00:00\", \"count\": 23}, {\"date\": \"2020-10-11T00:00:00\", \"count\": 23}, {\"date\": \"2019-10-05T00:00:00\", \"count\": 23}, {\"date\": \"2020-04-05T00:00:00\", \"count\": 23}, {\"date\": \"2019-09-27T00:00:00\", \"count\": 23}, {\"date\": \"2020-08-10T00:00:00\", \"count\": 23}, {\"date\": \"2019-12-07T00:00:00\", \"count\": 23}, {\"date\": \"2020-12-11T00:00:00\", \"count\": 23}, {\"date\": \"2020-01-06T00:00:00\", \"count\": 23}, {\"date\": \"2019-11-10T00:00:00\", \"count\": 22}, {\"date\": \"2020-01-18T00:00:00\", \"count\": 22}, {\"date\": \"2020-11-19T00:00:00\", \"count\": 22}, {\"date\": \"2019-09-21T00:00:00\", \"count\": 22}, {\"date\": \"2019-06-12T00:00:00\", \"count\": 22}, {\"date\": \"2020-11-17T00:00:00\", \"count\": 22}, {\"date\": \"2020-12-29T00:00:00\", \"count\": 22}, {\"date\": \"2019-04-25T00:00:00\", \"count\": 22}, {\"date\": \"2018-10-16T00:00:00\", \"count\": 22}, {\"date\": \"2020-06-23T00:00:00\", \"count\": 22}, {\"date\": \"2019-10-17T00:00:00\", \"count\": 22}, {\"date\": \"2020-03-11T00:00:00\", \"count\": 22}, {\"date\": \"2018-09-13T00:00:00\", \"count\": 22}, {\"date\": \"2019-06-09T00:00:00\", \"count\": 22}, {\"date\": \"2018-04-17T00:00:00\", \"count\": 22}, {\"date\": \"2018-08-15T00:00:00\", \"count\": 22}, {\"date\": \"2020-07-03T00:00:00\", \"count\": 22}, {\"date\": \"2020-12-13T00:00:00\", \"count\": 22}, {\"date\": \"2018-11-03T00:00:00\", \"count\": 21}, {\"date\": \"2019-04-20T00:00:00\", \"count\": 21}, {\"date\": \"2018-12-21T00:00:00\", \"count\": 21}, {\"date\": \"2019-11-30T00:00:00\", \"count\": 21}, {\"date\": \"2020-02-28T00:00:00\", \"count\": 21}, {\"date\": \"2019-01-31T00:00:00\", \"count\": 21}, {\"date\": \"2020-04-24T00:00:00\", \"count\": 21}, {\"date\": \"2018-10-29T00:00:00\", \"count\": 21}, {\"date\": \"2019-03-16T00:00:00\", \"count\": 21}, {\"date\": \"2019-06-13T00:00:00\", \"count\": 21}, {\"date\": \"2020-12-18T00:00:00\", \"count\": 21}, {\"date\": \"2018-10-09T00:00:00\", \"count\": 21}, {\"date\": \"2020-12-02T00:00:00\", \"count\": 21}, {\"date\": \"2020-08-22T00:00:00\", \"count\": 21}, {\"date\": \"2020-06-24T00:00:00\", \"count\": 21}, {\"date\": \"2020-08-06T00:00:00\", \"count\": 21}, {\"date\": \"2020-05-29T00:00:00\", \"count\": 21}, {\"date\": \"2020-10-18T00:00:00\", \"count\": 21}, {\"date\": \"2019-10-13T00:00:00\", \"count\": 21}, {\"date\": \"2019-10-10T00:00:00\", \"count\": 21}, {\"date\": \"2019-07-02T00:00:00\", \"count\": 21}, {\"date\": \"2020-07-31T00:00:00\", \"count\": 21}, {\"date\": \"2019-10-15T00:00:00\", \"count\": 21}, {\"date\": \"2019-09-14T00:00:00\", \"count\": 21}, {\"date\": \"2020-09-27T00:00:00\", \"count\": 20}, {\"date\": \"2018-06-15T00:00:00\", \"count\": 20}, {\"date\": \"2018-07-03T00:00:00\", \"count\": 20}, {\"date\": \"2020-07-09T00:00:00\", \"count\": 20}, {\"date\": \"2018-07-11T00:00:00\", \"count\": 20}, {\"date\": \"2019-04-18T00:00:00\", \"count\": 20}, {\"date\": \"2018-07-31T00:00:00\", \"count\": 20}, {\"date\": \"2019-04-12T00:00:00\", \"count\": 20}, {\"date\": \"2020-04-08T00:00:00\", \"count\": 20}, {\"date\": \"2019-04-05T00:00:00\", \"count\": 20}, {\"date\": \"2019-07-19T00:00:00\", \"count\": 20}, {\"date\": \"2019-06-10T00:00:00\", \"count\": 20}, {\"date\": \"2019-12-17T00:00:00\", \"count\": 20}, {\"date\": \"2018-08-29T00:00:00\", \"count\": 20}, {\"date\": \"2017-11-29T00:00:00\", \"count\": 20}, {\"date\": \"2020-09-16T00:00:00\", \"count\": 20}, {\"date\": \"2020-03-18T00:00:00\", \"count\": 20}, {\"date\": \"2020-03-14T00:00:00\", \"count\": 20}, {\"date\": \"2019-11-06T00:00:00\", \"count\": 20}, {\"date\": \"2019-02-25T00:00:00\", \"count\": 20}, {\"date\": \"2018-10-22T00:00:00\", \"count\": 20}, {\"date\": \"2018-10-17T00:00:00\", \"count\": 20}, {\"date\": \"2020-02-14T00:00:00\", \"count\": 20}, {\"date\": \"2020-12-21T00:00:00\", \"count\": 20}, {\"date\": \"2018-06-07T00:00:00\", \"count\": 20}, {\"date\": \"2019-05-03T00:00:00\", \"count\": 20}, {\"date\": \"2018-09-20T00:00:00\", \"count\": 20}, {\"date\": \"2019-11-04T00:00:00\", \"count\": 20}, {\"date\": \"2019-05-19T00:00:00\", \"count\": 19}, {\"date\": \"2019-07-23T00:00:00\", \"count\": 19}, {\"date\": \"2017-11-28T00:00:00\", \"count\": 19}, {\"date\": \"2020-12-03T00:00:00\", \"count\": 19}, {\"date\": \"2019-11-12T00:00:00\", \"count\": 19}, {\"date\": \"2018-08-13T00:00:00\", \"count\": 19}, {\"date\": \"2018-06-25T00:00:00\", \"count\": 19}, {\"date\": \"2018-06-26T00:00:00\", \"count\": 19}, {\"date\": \"2019-04-09T00:00:00\", \"count\": 19}, {\"date\": \"2017-11-01T00:00:00\", \"count\": 19}, {\"date\": \"2020-07-25T00:00:00\", \"count\": 19}, {\"date\": \"2019-08-18T00:00:00\", \"count\": 19}, {\"date\": \"2020-12-20T00:00:00\", \"count\": 19}, {\"date\": \"2017-09-26T00:00:00\", \"count\": 19}, {\"date\": \"2018-10-31T00:00:00\", \"count\": 19}, {\"date\": \"2019-09-15T00:00:00\", \"count\": 19}, {\"date\": \"2020-01-07T00:00:00\", \"count\": 19}, {\"date\": \"2019-09-24T00:00:00\", \"count\": 19}, {\"date\": \"2019-01-15T00:00:00\", \"count\": 19}, {\"date\": \"2019-01-14T00:00:00\", \"count\": 19}, {\"date\": \"2019-05-20T00:00:00\", \"count\": 19}, {\"date\": \"2019-04-06T00:00:00\", \"count\": 19}, {\"date\": \"2019-10-28T00:00:00\", \"count\": 19}, {\"date\": \"2019-05-30T00:00:00\", \"count\": 19}, {\"date\": \"2020-04-02T00:00:00\", \"count\": 19}, {\"date\": \"2019-06-16T00:00:00\", \"count\": 19}, {\"date\": \"2020-10-10T00:00:00\", \"count\": 19}, {\"date\": \"2019-06-11T00:00:00\", \"count\": 19}, {\"date\": \"2019-06-03T00:00:00\", \"count\": 19}, {\"date\": \"2020-11-08T00:00:00\", \"count\": 19}, {\"date\": \"2019-06-08T00:00:00\", \"count\": 18}, {\"date\": \"2018-07-29T00:00:00\", \"count\": 18}, {\"date\": \"2019-11-23T00:00:00\", \"count\": 18}, {\"date\": \"2019-07-10T00:00:00\", \"count\": 18}, {\"date\": \"2019-04-23T00:00:00\", \"count\": 18}, {\"date\": \"2020-07-14T00:00:00\", \"count\": 18}, {\"date\": \"2020-04-28T00:00:00\", \"count\": 18}, {\"date\": \"2019-09-22T00:00:00\", \"count\": 18}, {\"date\": \"2018-06-17T00:00:00\", \"count\": 18}, {\"date\": \"2018-07-15T00:00:00\", \"count\": 18}, {\"date\": \"2018-12-07T00:00:00\", \"count\": 18}, {\"date\": \"2019-08-06T00:00:00\", \"count\": 18}, {\"date\": \"2020-07-16T00:00:00\", \"count\": 18}, {\"date\": \"2019-07-22T00:00:00\", \"count\": 18}, {\"date\": \"2018-05-25T00:00:00\", \"count\": 18}, {\"date\": \"2019-11-26T00:00:00\", \"count\": 18}, {\"date\": \"2018-06-21T00:00:00\", \"count\": 18}, {\"date\": \"2020-11-03T00:00:00\", \"count\": 18}, {\"date\": \"2019-05-14T00:00:00\", \"count\": 18}, {\"date\": \"2019-08-28T00:00:00\", \"count\": 18}, {\"date\": \"2020-12-12T00:00:00\", \"count\": 18}, {\"date\": \"2020-02-17T00:00:00\", \"count\": 18}, {\"date\": \"2018-10-18T00:00:00\", \"count\": 18}, {\"date\": \"2020-04-21T00:00:00\", \"count\": 18}, {\"date\": \"2019-08-03T00:00:00\", \"count\": 18}, {\"date\": \"2019-03-05T00:00:00\", \"count\": 18}, {\"date\": \"2020-05-31T00:00:00\", \"count\": 17}, {\"date\": \"2018-07-10T00:00:00\", \"count\": 17}, {\"date\": \"2017-10-31T00:00:00\", \"count\": 17}, {\"date\": \"2018-08-16T00:00:00\", \"count\": 17}, {\"date\": \"2019-11-25T00:00:00\", \"count\": 17}, {\"date\": \"2017-10-25T00:00:00\", \"count\": 17}, {\"date\": \"2020-02-12T00:00:00\", \"count\": 17}, {\"date\": \"2019-08-27T00:00:00\", \"count\": 17}, {\"date\": \"2019-03-09T00:00:00\", \"count\": 17}, {\"date\": \"2020-11-05T00:00:00\", \"count\": 17}, {\"date\": \"2020-11-22T00:00:00\", \"count\": 17}, {\"date\": \"2018-10-25T00:00:00\", \"count\": 17}, {\"date\": \"2019-03-13T00:00:00\", \"count\": 17}, {\"date\": \"2020-07-28T00:00:00\", \"count\": 17}, {\"date\": \"2018-10-27T00:00:00\", \"count\": 17}, {\"date\": \"2019-03-25T00:00:00\", \"count\": 17}, {\"date\": \"2018-08-22T00:00:00\", \"count\": 17}, {\"date\": \"2019-02-18T00:00:00\", \"count\": 17}, {\"date\": \"2020-07-30T00:00:00\", \"count\": 17}, {\"date\": \"2020-12-15T00:00:00\", \"count\": 17}, {\"date\": \"2018-11-29T00:00:00\", \"count\": 17}, {\"date\": \"2019-08-24T00:00:00\", \"count\": 17}, {\"date\": \"2019-05-27T00:00:00\", \"count\": 17}, {\"date\": \"2019-07-17T00:00:00\", \"count\": 17}, {\"date\": \"2018-06-02T00:00:00\", \"count\": 17}, {\"date\": \"2020-08-23T00:00:00\", \"count\": 17}, {\"date\": \"2017-07-25T00:00:00\", \"count\": 17}, {\"date\": \"2018-05-23T00:00:00\", \"count\": 17}, {\"date\": \"2020-08-19T00:00:00\", \"count\": 17}, {\"date\": \"2019-05-21T00:00:00\", \"count\": 17}, {\"date\": \"2019-07-25T00:00:00\", \"count\": 17}, {\"date\": \"2019-01-01T00:00:00\", \"count\": 17}, {\"date\": \"2019-12-09T00:00:00\", \"count\": 17}, {\"date\": \"2018-01-02T00:00:00\", \"count\": 16}, {\"date\": \"2020-04-27T00:00:00\", \"count\": 16}, {\"date\": \"2017-11-03T00:00:00\", \"count\": 16}, {\"date\": \"2019-01-05T00:00:00\", \"count\": 16}, {\"date\": \"2020-12-17T00:00:00\", \"count\": 16}, {\"date\": \"2017-10-11T00:00:00\", \"count\": 16}, {\"date\": \"2019-03-28T00:00:00\", \"count\": 16}, {\"date\": \"2018-08-24T00:00:00\", \"count\": 16}, {\"date\": \"2018-12-20T00:00:00\", \"count\": 16}, {\"date\": \"2020-04-13T00:00:00\", \"count\": 16}, {\"date\": \"2018-08-28T00:00:00\", \"count\": 16}, {\"date\": \"2018-09-01T00:00:00\", \"count\": 16}, {\"date\": \"2018-09-04T00:00:00\", \"count\": 16}, {\"date\": \"2017-10-13T00:00:00\", \"count\": 16}, {\"date\": \"2019-08-14T00:00:00\", \"count\": 16}, {\"date\": \"2017-10-27T00:00:00\", \"count\": 16}, {\"date\": \"2017-06-22T00:00:00\", \"count\": 16}, {\"date\": \"2019-11-22T00:00:00\", \"count\": 16}, {\"date\": \"2020-03-28T00:00:00\", \"count\": 16}, {\"date\": \"2019-11-18T00:00:00\", \"count\": 16}, {\"date\": \"2017-09-29T00:00:00\", \"count\": 16}, {\"date\": \"2017-10-18T00:00:00\", \"count\": 16}, {\"date\": \"2019-05-18T00:00:00\", \"count\": 16}, {\"date\": \"2019-03-03T00:00:00\", \"count\": 16}, {\"date\": \"2020-11-29T00:00:00\", \"count\": 16}, {\"date\": \"2017-08-25T00:00:00\", \"count\": 16}, {\"date\": \"2018-12-18T00:00:00\", \"count\": 16}, {\"date\": \"2018-06-22T00:00:00\", \"count\": 16}, {\"date\": \"2017-11-07T00:00:00\", \"count\": 16}, {\"date\": \"2019-04-15T00:00:00\", \"count\": 16}, {\"date\": \"2019-06-22T00:00:00\", \"count\": 16}, {\"date\": \"2018-07-30T00:00:00\", \"count\": 16}, {\"date\": \"2018-08-01T00:00:00\", \"count\": 16}, {\"date\": \"2018-07-25T00:00:00\", \"count\": 16}, {\"date\": \"2018-06-20T00:00:00\", \"count\": 16}, {\"date\": \"2018-07-27T00:00:00\", \"count\": 16}, {\"date\": \"2019-08-01T00:00:00\", \"count\": 16}, {\"date\": \"2019-07-07T00:00:00\", \"count\": 16}, {\"date\": \"2019-04-27T00:00:00\", \"count\": 16}, {\"date\": \"2020-01-31T00:00:00\", \"count\": 16}, {\"date\": \"2019-09-23T00:00:00\", \"count\": 16}, {\"date\": \"2019-12-05T00:00:00\", \"count\": 16}, {\"date\": \"2020-03-07T00:00:00\", \"count\": 16}, {\"date\": \"2020-12-30T00:00:00\", \"count\": 15}, {\"date\": \"2017-08-16T00:00:00\", \"count\": 15}, {\"date\": \"2020-04-22T00:00:00\", \"count\": 15}, {\"date\": \"2019-06-02T00:00:00\", \"count\": 15}, {\"date\": \"2019-07-26T00:00:00\", \"count\": 15}, {\"date\": \"2019-08-19T00:00:00\", \"count\": 15}, {\"date\": \"2018-04-18T00:00:00\", \"count\": 15}, {\"date\": \"2020-05-13T00:00:00\", \"count\": 15}, {\"date\": \"2019-04-24T00:00:00\", \"count\": 15}, {\"date\": \"2017-11-15T00:00:00\", \"count\": 15}, {\"date\": \"2018-12-31T00:00:00\", \"count\": 15}, {\"date\": \"2019-09-12T00:00:00\", \"count\": 15}, {\"date\": \"2018-11-27T00:00:00\", \"count\": 15}, {\"date\": \"2017-08-04T00:00:00\", \"count\": 15}, {\"date\": \"2018-09-11T00:00:00\", \"count\": 15}, {\"date\": \"2019-06-07T00:00:00\", \"count\": 15}, {\"date\": \"2020-01-11T00:00:00\", \"count\": 15}, {\"date\": \"2017-09-25T00:00:00\", \"count\": 15}, {\"date\": \"2017-09-17T00:00:00\", \"count\": 15}, {\"date\": \"2020-06-20T00:00:00\", \"count\": 15}, {\"date\": \"2020-12-09T00:00:00\", \"count\": 15}, {\"date\": \"2020-12-14T00:00:00\", \"count\": 15}, {\"date\": \"2019-07-06T00:00:00\", \"count\": 15}, {\"date\": \"2018-08-30T00:00:00\", \"count\": 15}, {\"date\": \"2019-06-18T00:00:00\", \"count\": 15}, {\"date\": \"2018-02-24T00:00:00\", \"count\": 15}, {\"date\": \"2018-09-03T00:00:00\", \"count\": 15}, {\"date\": \"2018-07-24T00:00:00\", \"count\": 15}, {\"date\": \"2019-03-18T00:00:00\", \"count\": 15}, {\"date\": \"2019-07-15T00:00:00\", \"count\": 15}, {\"date\": \"2019-09-08T00:00:00\", \"count\": 15}, {\"date\": \"2018-08-17T00:00:00\", \"count\": 15}, {\"date\": \"2017-07-22T00:00:00\", \"count\": 14}, {\"date\": \"2019-02-17T00:00:00\", \"count\": 14}, {\"date\": \"2018-10-12T00:00:00\", \"count\": 14}, {\"date\": \"2019-02-10T00:00:00\", \"count\": 14}, {\"date\": \"2017-08-24T00:00:00\", \"count\": 14}, {\"date\": \"2019-02-23T00:00:00\", \"count\": 14}, {\"date\": \"2020-08-08T00:00:00\", \"count\": 14}, {\"date\": \"2019-01-12T00:00:00\", \"count\": 14}, {\"date\": \"2019-12-28T00:00:00\", \"count\": 14}, {\"date\": \"2017-09-23T00:00:00\", \"count\": 14}, {\"date\": \"2019-01-13T00:00:00\", \"count\": 14}, {\"date\": \"2018-12-24T00:00:00\", \"count\": 14}, {\"date\": \"2020-01-01T00:00:00\", \"count\": 14}, {\"date\": \"2019-07-01T00:00:00\", \"count\": 14}, {\"date\": \"2019-06-25T00:00:00\", \"count\": 14}, {\"date\": \"2018-04-21T00:00:00\", \"count\": 14}, {\"date\": \"2019-06-04T00:00:00\", \"count\": 14}, {\"date\": \"2018-09-18T00:00:00\", \"count\": 14}, {\"date\": \"2018-06-12T00:00:00\", \"count\": 14}, {\"date\": \"2019-05-07T00:00:00\", \"count\": 14}, {\"date\": \"2020-11-26T00:00:00\", \"count\": 14}, {\"date\": \"2018-01-20T00:00:00\", \"count\": 14}, {\"date\": \"2018-05-30T00:00:00\", \"count\": 14}, {\"date\": \"2019-04-01T00:00:00\", \"count\": 14}, {\"date\": \"2018-04-02T00:00:00\", \"count\": 14}, {\"date\": \"2018-07-20T00:00:00\", \"count\": 14}, {\"date\": \"2020-12-07T00:00:00\", \"count\": 14}, {\"date\": \"2018-07-18T00:00:00\", \"count\": 14}, {\"date\": \"2017-06-19T00:00:00\", \"count\": 14}, {\"date\": \"2019-03-14T00:00:00\", \"count\": 14}, {\"date\": \"2019-05-17T00:00:00\", \"count\": 14}, {\"date\": \"2018-01-11T00:00:00\", \"count\": 14}, {\"date\": \"2019-07-16T00:00:00\", \"count\": 14}, {\"date\": \"2020-07-08T00:00:00\", \"count\": 14}, {\"date\": \"2018-06-30T00:00:00\", \"count\": 14}, {\"date\": \"2018-10-02T00:00:00\", \"count\": 14}, {\"date\": \"2019-03-10T00:00:00\", \"count\": 14}, {\"date\": \"2019-07-03T00:00:00\", \"count\": 14}, {\"date\": \"2019-10-24T00:00:00\", \"count\": 14}, {\"date\": \"2018-09-24T00:00:00\", \"count\": 14}, {\"date\": \"2020-11-04T00:00:00\", \"count\": 14}, {\"date\": \"2018-02-20T00:00:00\", \"count\": 14}, {\"date\": \"2020-05-04T00:00:00\", \"count\": 14}, {\"date\": \"2019-01-22T00:00:00\", \"count\": 13}, {\"date\": \"2019-05-02T00:00:00\", \"count\": 13}, {\"date\": \"2018-12-13T00:00:00\", \"count\": 13}, {\"date\": \"2018-04-19T00:00:00\", \"count\": 13}, {\"date\": \"2021-01-04T00:00:00\", \"count\": 13}, {\"date\": \"2019-04-29T00:00:00\", \"count\": 13}, {\"date\": \"2017-06-29T00:00:00\", \"count\": 13}, {\"date\": \"2019-07-28T00:00:00\", \"count\": 13}, {\"date\": \"2018-06-04T00:00:00\", \"count\": 13}, {\"date\": \"2019-05-09T00:00:00\", \"count\": 13}, {\"date\": \"2017-12-18T00:00:00\", \"count\": 13}, {\"date\": \"2018-11-30T00:00:00\", \"count\": 13}, {\"date\": \"2020-06-14T00:00:00\", \"count\": 13}, {\"date\": \"2018-12-23T00:00:00\", \"count\": 13}, {\"date\": \"2019-07-21T00:00:00\", \"count\": 13}, {\"date\": \"2021-01-06T00:00:00\", \"count\": 13}, {\"date\": \"2017-08-09T00:00:00\", \"count\": 13}, {\"date\": \"2017-08-07T00:00:00\", \"count\": 13}, {\"date\": \"2018-05-04T00:00:00\", \"count\": 13}, {\"date\": \"2020-06-06T00:00:00\", \"count\": 13}, {\"date\": \"2017-07-29T00:00:00\", \"count\": 13}, {\"date\": \"2017-05-28T00:00:00\", \"count\": 13}, {\"date\": \"2018-04-27T00:00:00\", \"count\": 13}, {\"date\": \"2017-07-14T00:00:00\", \"count\": 13}, {\"date\": \"2019-08-05T00:00:00\", \"count\": 13}, {\"date\": \"2018-09-08T00:00:00\", \"count\": 13}, {\"date\": \"2020-08-11T00:00:00\", \"count\": 13}, {\"date\": \"2018-08-14T00:00:00\", \"count\": 13}, {\"date\": \"2017-11-02T00:00:00\", \"count\": 13}, {\"date\": \"2018-08-20T00:00:00\", \"count\": 13}, {\"date\": \"2019-03-19T00:00:00\", \"count\": 13}, {\"date\": \"2020-02-22T00:00:00\", \"count\": 13}, {\"date\": \"2017-10-21T00:00:00\", \"count\": 13}, {\"date\": \"2020-02-06T00:00:00\", \"count\": 13}, {\"date\": \"2019-06-14T00:00:00\", \"count\": 13}, {\"date\": \"2019-03-02T00:00:00\", \"count\": 13}, {\"date\": \"2018-09-25T00:00:00\", \"count\": 13}, {\"date\": \"2019-03-04T00:00:00\", \"count\": 13}, {\"date\": \"2018-10-03T00:00:00\", \"count\": 13}, {\"date\": \"2018-10-13T00:00:00\", \"count\": 13}, {\"date\": \"2020-07-21T00:00:00\", \"count\": 13}, {\"date\": \"2017-09-15T00:00:00\", \"count\": 13}, {\"date\": \"2018-11-09T00:00:00\", \"count\": 13}, {\"date\": \"2018-08-04T00:00:00\", \"count\": 13}, {\"date\": \"2019-04-19T00:00:00\", \"count\": 13}, {\"date\": \"2018-04-11T00:00:00\", \"count\": 13}, {\"date\": \"2019-08-12T00:00:00\", \"count\": 13}, {\"date\": \"2019-08-10T00:00:00\", \"count\": 13}, {\"date\": \"2019-04-08T00:00:00\", \"count\": 13}, {\"date\": \"2019-02-11T00:00:00\", \"count\": 13}, {\"date\": \"2017-07-12T00:00:00\", \"count\": 13}, {\"date\": \"2019-05-24T00:00:00\", \"count\": 13}, {\"date\": \"2019-12-25T00:00:00\", \"count\": 12}, {\"date\": \"2019-02-08T00:00:00\", \"count\": 12}, {\"date\": \"2019-06-24T00:00:00\", \"count\": 12}, {\"date\": \"2019-09-19T00:00:00\", \"count\": 12}, {\"date\": \"2019-05-31T00:00:00\", \"count\": 12}, {\"date\": \"2019-08-08T00:00:00\", \"count\": 12}, {\"date\": \"2019-01-10T00:00:00\", \"count\": 12}, {\"date\": \"2019-01-26T00:00:00\", \"count\": 12}, {\"date\": \"2019-04-26T00:00:00\", \"count\": 12}, {\"date\": \"2019-01-09T00:00:00\", \"count\": 12}, {\"date\": \"2017-01-20T00:00:00\", \"count\": 12}, {\"date\": \"2017-06-26T00:00:00\", \"count\": 12}, {\"date\": \"2018-10-26T00:00:00\", \"count\": 12}, {\"date\": \"2017-06-06T00:00:00\", \"count\": 12}, {\"date\": \"2020-02-29T00:00:00\", \"count\": 12}, {\"date\": \"2018-01-15T00:00:00\", \"count\": 12}, {\"date\": \"2020-06-08T00:00:00\", \"count\": 12}, {\"date\": \"2018-11-13T00:00:00\", \"count\": 12}, {\"date\": \"2018-09-05T00:00:00\", \"count\": 12}, {\"date\": \"2017-07-01T00:00:00\", \"count\": 12}, {\"date\": \"2017-07-03T00:00:00\", \"count\": 12}, {\"date\": \"2018-07-23T00:00:00\", \"count\": 12}, {\"date\": \"2018-11-02T00:00:00\", \"count\": 12}, {\"date\": \"2017-12-09T00:00:00\", \"count\": 12}, {\"date\": \"2020-03-06T00:00:00\", \"count\": 12}, {\"date\": \"2017-08-14T00:00:00\", \"count\": 12}, {\"date\": \"2017-11-30T00:00:00\", \"count\": 12}, {\"date\": \"2017-11-22T00:00:00\", \"count\": 12}, {\"date\": \"2017-08-27T00:00:00\", \"count\": 12}, {\"date\": \"2018-08-18T00:00:00\", \"count\": 12}, {\"date\": \"2020-02-23T00:00:00\", \"count\": 12}, {\"date\": \"2020-07-22T00:00:00\", \"count\": 12}, {\"date\": \"2018-09-26T00:00:00\", \"count\": 12}, {\"date\": \"2018-09-15T00:00:00\", \"count\": 12}, {\"date\": \"2017-10-07T00:00:00\", \"count\": 12}, {\"date\": \"2018-07-14T00:00:00\", \"count\": 12}, {\"date\": \"2017-10-05T00:00:00\", \"count\": 12}, {\"date\": \"2018-12-08T00:00:00\", \"count\": 12}, {\"date\": \"2017-05-04T00:00:00\", \"count\": 12}, {\"date\": \"2020-04-07T00:00:00\", \"count\": 12}, {\"date\": \"2018-05-31T00:00:00\", \"count\": 12}, {\"date\": \"2018-05-18T00:00:00\", \"count\": 12}, {\"date\": \"2020-11-07T00:00:00\", \"count\": 12}, {\"date\": \"2018-12-16T00:00:00\", \"count\": 12}, {\"date\": \"2020-03-30T00:00:00\", \"count\": 12}, {\"date\": \"2017-04-27T00:00:00\", \"count\": 12}, {\"date\": \"2018-12-03T00:00:00\", \"count\": 12}, {\"date\": \"2018-06-13T00:00:00\", \"count\": 12}, {\"date\": \"2018-06-19T00:00:00\", \"count\": 12}, {\"date\": \"2018-06-27T00:00:00\", \"count\": 12}, {\"date\": \"2020-12-28T00:00:00\", \"count\": 12}, {\"date\": \"2019-03-22T00:00:00\", \"count\": 11}, {\"date\": \"2019-03-26T00:00:00\", \"count\": 11}, {\"date\": \"2017-10-08T00:00:00\", \"count\": 11}, {\"date\": \"2018-05-17T00:00:00\", \"count\": 11}, {\"date\": \"2017-10-17T00:00:00\", \"count\": 11}, {\"date\": \"2018-08-21T00:00:00\", \"count\": 11}, {\"date\": \"2020-04-03T00:00:00\", \"count\": 11}, {\"date\": \"2019-06-05T00:00:00\", \"count\": 11}, {\"date\": \"2019-04-02T00:00:00\", \"count\": 11}, {\"date\": \"2020-07-18T00:00:00\", \"count\": 11}, {\"date\": \"2019-04-04T00:00:00\", \"count\": 11}, {\"date\": \"2018-02-18T00:00:00\", \"count\": 11}, {\"date\": \"2020-07-12T00:00:00\", \"count\": 11}, {\"date\": \"2019-06-06T00:00:00\", \"count\": 11}, {\"date\": \"2019-04-11T00:00:00\", \"count\": 11}, {\"date\": \"2019-07-08T00:00:00\", \"count\": 11}, {\"date\": \"2020-04-15T00:00:00\", \"count\": 11}, {\"date\": \"2019-04-13T00:00:00\", \"count\": 11}, {\"date\": \"2017-12-22T00:00:00\", \"count\": 11}, {\"date\": \"2020-06-15T00:00:00\", \"count\": 11}, {\"date\": \"2019-04-16T00:00:00\", \"count\": 11}, {\"date\": \"2019-06-17T00:00:00\", \"count\": 11}, {\"date\": \"2019-06-19T00:00:00\", \"count\": 11}, {\"date\": \"2019-07-18T00:00:00\", \"count\": 11}, {\"date\": \"2018-07-19T00:00:00\", \"count\": 11}, {\"date\": \"2018-03-01T00:00:00\", \"count\": 11}, {\"date\": \"2019-06-29T00:00:00\", \"count\": 11}, {\"date\": \"2018-06-28T00:00:00\", \"count\": 11}, {\"date\": \"2019-03-15T00:00:00\", \"count\": 11}, {\"date\": \"2019-08-26T00:00:00\", \"count\": 11}, {\"date\": \"2017-07-27T00:00:00\", \"count\": 11}, {\"date\": \"2017-07-24T00:00:00\", \"count\": 11}, {\"date\": \"2017-07-09T00:00:00\", \"count\": 11}, {\"date\": \"2017-06-20T00:00:00\", \"count\": 11}, {\"date\": \"2019-02-09T00:00:00\", \"count\": 11}, {\"date\": \"2017-06-13T00:00:00\", \"count\": 11}, {\"date\": \"2020-09-19T00:00:00\", \"count\": 11}, {\"date\": \"2018-11-21T00:00:00\", \"count\": 11}, {\"date\": \"2017-05-12T00:00:00\", \"count\": 11}, {\"date\": \"2018-11-25T00:00:00\", \"count\": 11}, {\"date\": \"2017-05-10T00:00:00\", \"count\": 11}, {\"date\": \"2018-11-26T00:00:00\", \"count\": 11}, {\"date\": \"2019-01-30T00:00:00\", \"count\": 11}, {\"date\": \"2018-12-04T00:00:00\", \"count\": 11}, {\"date\": \"2019-11-07T00:00:00\", \"count\": 11}, {\"date\": \"2019-01-21T00:00:00\", \"count\": 11}, {\"date\": \"2018-12-11T00:00:00\", \"count\": 11}, {\"date\": \"2017-02-15T00:00:00\", \"count\": 11}, {\"date\": \"2018-12-19T00:00:00\", \"count\": 11}, {\"date\": \"2017-02-11T00:00:00\", \"count\": 11}, {\"date\": \"2018-12-27T00:00:00\", \"count\": 11}, {\"date\": \"2017-02-08T00:00:00\", \"count\": 11}, {\"date\": \"2017-07-26T00:00:00\", \"count\": 11}, {\"date\": \"2017-06-27T00:00:00\", \"count\": 11}, {\"date\": \"2017-09-14T00:00:00\", \"count\": 11}, {\"date\": \"2017-09-22T00:00:00\", \"count\": 11}, {\"date\": \"2019-12-24T00:00:00\", \"count\": 11}, {\"date\": \"2017-09-07T00:00:00\", \"count\": 11}, {\"date\": \"2018-10-04T00:00:00\", \"count\": 11}, {\"date\": \"2017-09-19T00:00:00\", \"count\": 11}, {\"date\": \"2018-05-07T00:00:00\", \"count\": 11}, {\"date\": \"2017-10-10T00:00:00\", \"count\": 10}, {\"date\": \"2018-04-24T00:00:00\", \"count\": 10}, {\"date\": \"2018-04-20T00:00:00\", \"count\": 10}, {\"date\": \"2017-10-12T00:00:00\", \"count\": 10}, {\"date\": \"2017-05-08T00:00:00\", \"count\": 10}, {\"date\": \"2017-09-24T00:00:00\", \"count\": 10}, {\"date\": \"2017-10-19T00:00:00\", \"count\": 10}, {\"date\": \"2020-12-16T00:00:00\", \"count\": 10}, {\"date\": \"2019-05-28T00:00:00\", \"count\": 10}, {\"date\": \"2019-08-29T00:00:00\", \"count\": 10}, {\"date\": \"2018-03-10T00:00:00\", \"count\": 10}, {\"date\": \"2020-12-24T00:00:00\", \"count\": 10}, {\"date\": \"2017-09-28T00:00:00\", \"count\": 10}, {\"date\": \"2017-08-03T00:00:00\", \"count\": 10}, {\"date\": \"2017-09-06T00:00:00\", \"count\": 10}, {\"date\": \"2017-09-02T00:00:00\", \"count\": 10}, {\"date\": \"2018-02-22T00:00:00\", \"count\": 10}, {\"date\": \"2020-05-07T00:00:00\", \"count\": 10}, {\"date\": \"2017-05-31T00:00:00\", \"count\": 10}, {\"date\": \"2019-09-20T00:00:00\", \"count\": 10}, {\"date\": \"2017-08-18T00:00:00\", \"count\": 10}, {\"date\": \"2017-11-23T00:00:00\", \"count\": 10}, {\"date\": \"2017-08-17T00:00:00\", \"count\": 10}, {\"date\": \"2017-12-03T00:00:00\", \"count\": 10}, {\"date\": \"2017-10-03T00:00:00\", \"count\": 10}, {\"date\": \"2017-06-28T00:00:00\", \"count\": 10}, {\"date\": \"2017-12-07T00:00:00\", \"count\": 10}, {\"date\": \"2017-12-28T00:00:00\", \"count\": 10}, {\"date\": \"2017-07-10T00:00:00\", \"count\": 10}, {\"date\": \"2018-05-02T00:00:00\", \"count\": 10}, {\"date\": \"2019-06-21T00:00:00\", \"count\": 10}, {\"date\": \"2018-09-06T00:00:00\", \"count\": 10}, {\"date\": \"2018-11-15T00:00:00\", \"count\": 10}, {\"date\": \"2018-09-09T00:00:00\", \"count\": 10}, {\"date\": \"2018-10-20T00:00:00\", \"count\": 10}, {\"date\": \"2019-01-27T00:00:00\", \"count\": 10}, {\"date\": \"2019-04-14T00:00:00\", \"count\": 10}, {\"date\": \"2020-02-27T00:00:00\", \"count\": 10}, {\"date\": \"2018-07-26T00:00:00\", \"count\": 10}, {\"date\": \"2020-02-13T00:00:00\", \"count\": 10}, {\"date\": \"2018-06-09T00:00:00\", \"count\": 10}, {\"date\": \"2018-10-05T00:00:00\", \"count\": 10}, {\"date\": \"2018-06-06T00:00:00\", \"count\": 10}, {\"date\": \"2018-11-12T00:00:00\", \"count\": 10}, {\"date\": \"2019-02-16T00:00:00\", \"count\": 10}, {\"date\": \"2018-11-07T00:00:00\", \"count\": 10}, {\"date\": \"2019-02-19T00:00:00\", \"count\": 10}, {\"date\": \"2019-04-21T00:00:00\", \"count\": 10}, {\"date\": \"2018-10-15T00:00:00\", \"count\": 10}, {\"date\": \"2019-02-24T00:00:00\", \"count\": 10}, {\"date\": \"2018-10-19T00:00:00\", \"count\": 10}, {\"date\": \"2018-09-07T00:00:00\", \"count\": 10}, {\"date\": \"2019-03-01T00:00:00\", \"count\": 10}, {\"date\": \"2019-01-24T00:00:00\", \"count\": 10}, {\"date\": \"2018-08-06T00:00:00\", \"count\": 10}, {\"date\": \"2019-03-29T00:00:00\", \"count\": 10}, {\"date\": \"2019-01-11T00:00:00\", \"count\": 10}, {\"date\": \"2018-05-16T00:00:00\", \"count\": 10}, {\"date\": \"2018-05-21T00:00:00\", \"count\": 10}, {\"date\": \"2018-08-27T00:00:00\", \"count\": 10}, {\"date\": \"2018-12-22T00:00:00\", \"count\": 10}, {\"date\": \"2019-03-20T00:00:00\", \"count\": 10}, {\"date\": \"2018-05-26T00:00:00\", \"count\": 10}, {\"date\": \"2018-05-28T00:00:00\", \"count\": 10}, {\"date\": \"2018-08-05T00:00:00\", \"count\": 10}, {\"date\": \"2017-09-10T00:00:00\", \"count\": 9}, {\"date\": \"2019-09-13T00:00:00\", \"count\": 9}, {\"date\": \"2017-09-01T00:00:00\", \"count\": 9}, {\"date\": \"2018-08-11T00:00:00\", \"count\": 9}, {\"date\": \"2018-08-31T00:00:00\", \"count\": 9}, {\"date\": \"2018-10-08T00:00:00\", \"count\": 9}, {\"date\": \"2017-09-27T00:00:00\", \"count\": 9}, {\"date\": \"2017-10-28T00:00:00\", \"count\": 9}, {\"date\": \"2018-08-23T00:00:00\", \"count\": 9}, {\"date\": \"2017-10-14T00:00:00\", \"count\": 9}, {\"date\": \"2020-03-20T00:00:00\", \"count\": 9}, {\"date\": \"2019-12-22T00:00:00\", \"count\": 9}, {\"date\": \"2018-08-25T00:00:00\", \"count\": 9}, {\"date\": \"2018-09-12T00:00:00\", \"count\": 9}, {\"date\": \"2017-07-16T00:00:00\", \"count\": 9}, {\"date\": \"2017-08-11T00:00:00\", \"count\": 9}, {\"date\": \"2017-08-08T00:00:00\", \"count\": 9}, {\"date\": \"2019-11-27T00:00:00\", \"count\": 9}, {\"date\": \"2017-01-25T00:00:00\", \"count\": 9}, {\"date\": \"2017-02-04T00:00:00\", \"count\": 9}, {\"date\": \"2018-12-29T00:00:00\", \"count\": 9}, {\"date\": \"2020-12-23T00:00:00\", \"count\": 9}, {\"date\": \"2018-12-14T00:00:00\", \"count\": 9}, {\"date\": \"2017-02-17T00:00:00\", \"count\": 9}, {\"date\": \"2017-03-03T00:00:00\", \"count\": 9}, {\"date\": \"2017-03-15T00:00:00\", \"count\": 9}, {\"date\": \"2017-03-17T00:00:00\", \"count\": 9}, {\"date\": \"2019-11-08T00:00:00\", \"count\": 9}, {\"date\": \"2017-03-30T00:00:00\", \"count\": 9}, {\"date\": \"2020-10-20T00:00:00\", \"count\": 9}, {\"date\": \"2017-04-26T00:00:00\", \"count\": 9}, {\"date\": \"2018-12-05T00:00:00\", \"count\": 9}, {\"date\": \"2020-01-02T00:00:00\", \"count\": 9}, {\"date\": \"2017-06-02T00:00:00\", \"count\": 9}, {\"date\": \"2017-06-05T00:00:00\", \"count\": 9}, {\"date\": \"2019-02-07T00:00:00\", \"count\": 9}, {\"date\": \"2017-06-16T00:00:00\", \"count\": 9}, {\"date\": \"2019-02-12T00:00:00\", \"count\": 9}, {\"date\": \"2019-02-13T00:00:00\", \"count\": 9}, {\"date\": \"2017-11-06T00:00:00\", \"count\": 9}, {\"date\": \"2019-02-20T00:00:00\", \"count\": 9}, {\"date\": \"2018-11-01T00:00:00\", \"count\": 9}, {\"date\": \"2018-10-30T00:00:00\", \"count\": 9}, {\"date\": \"2017-08-05T00:00:00\", \"count\": 9}, {\"date\": \"2019-08-11T00:00:00\", \"count\": 9}, {\"date\": \"2018-05-09T00:00:00\", \"count\": 9}, {\"date\": \"2018-03-13T00:00:00\", \"count\": 9}, {\"date\": \"2019-04-30T00:00:00\", \"count\": 9}, {\"date\": \"2018-02-23T00:00:00\", \"count\": 9}, {\"date\": \"2018-07-05T00:00:00\", \"count\": 9}, {\"date\": \"2018-07-07T00:00:00\", \"count\": 9}, {\"date\": \"2018-07-22T00:00:00\", \"count\": 9}, {\"date\": \"2018-04-15T00:00:00\", \"count\": 9}, {\"date\": \"2018-01-04T00:00:00\", \"count\": 9}, {\"date\": \"2020-05-08T00:00:00\", \"count\": 9}, {\"date\": \"2018-04-12T00:00:00\", \"count\": 9}, {\"date\": \"2018-07-09T00:00:00\", \"count\": 9}, {\"date\": \"2018-02-17T00:00:00\", \"count\": 9}, {\"date\": \"2018-02-10T00:00:00\", \"count\": 9}, {\"date\": \"2018-01-16T00:00:00\", \"count\": 9}, {\"date\": \"2018-01-18T00:00:00\", \"count\": 9}, {\"date\": \"2020-04-14T00:00:00\", \"count\": 9}, {\"date\": \"2018-03-21T00:00:00\", \"count\": 9}, {\"date\": \"2018-03-28T00:00:00\", \"count\": 9}, {\"date\": \"2018-05-20T00:00:00\", \"count\": 9}, {\"date\": \"2017-12-15T00:00:00\", \"count\": 9}, {\"date\": \"2019-08-02T00:00:00\", \"count\": 9}, {\"date\": \"2017-11-13T00:00:00\", \"count\": 9}, {\"date\": \"2019-05-06T00:00:00\", \"count\": 9}, {\"date\": \"2020-03-26T00:00:00\", \"count\": 9}, {\"date\": \"2018-05-15T00:00:00\", \"count\": 9}, {\"date\": \"2018-03-06T00:00:00\", \"count\": 9}, {\"date\": \"2018-08-07T00:00:00\", \"count\": 9}, {\"date\": \"2018-03-14T00:00:00\", \"count\": 9}, {\"date\": \"2018-02-27T00:00:00\", \"count\": 9}, {\"date\": \"2019-04-10T00:00:00\", \"count\": 9}, {\"date\": \"2017-12-08T00:00:00\", \"count\": 9}, {\"date\": \"2018-08-02T00:00:00\", \"count\": 9}, {\"date\": \"2020-05-06T00:00:00\", \"count\": 9}, {\"date\": \"2018-07-12T00:00:00\", \"count\": 9}, {\"date\": \"2018-11-22T00:00:00\", \"count\": 8}, {\"date\": \"2019-02-01T00:00:00\", \"count\": 8}, {\"date\": \"2018-06-08T00:00:00\", \"count\": 8}, {\"date\": \"2020-10-04T00:00:00\", \"count\": 8}, {\"date\": \"2018-11-19T00:00:00\", \"count\": 8}, {\"date\": \"2018-11-28T00:00:00\", \"count\": 8}, {\"date\": \"2017-05-05T00:00:00\", \"count\": 8}, {\"date\": \"2018-03-25T00:00:00\", \"count\": 8}, {\"date\": \"2019-08-09T00:00:00\", \"count\": 8}, {\"date\": \"2020-04-16T00:00:00\", \"count\": 8}, {\"date\": \"2017-04-23T00:00:00\", \"count\": 8}, {\"date\": \"2017-01-24T00:00:00\", \"count\": 8}, {\"date\": \"2017-01-30T00:00:00\", \"count\": 8}, {\"date\": \"2019-05-26T00:00:00\", \"count\": 8}, {\"date\": \"2017-02-03T00:00:00\", \"count\": 8}, {\"date\": \"2019-05-16T00:00:00\", \"count\": 8}, {\"date\": \"2020-12-25T00:00:00\", \"count\": 8}, {\"date\": \"2019-05-29T00:00:00\", \"count\": 8}, {\"date\": \"2020-01-19T00:00:00\", \"count\": 8}, {\"date\": \"2019-05-15T00:00:00\", \"count\": 8}, {\"date\": \"2020-12-22T00:00:00\", \"count\": 8}, {\"date\": \"2018-04-22T00:00:00\", \"count\": 8}, {\"date\": \"2018-04-16T00:00:00\", \"count\": 8}, {\"date\": \"2018-12-06T00:00:00\", \"count\": 8}, {\"date\": \"2020-11-28T00:00:00\", \"count\": 8}, {\"date\": \"2018-05-24T00:00:00\", \"count\": 8}, {\"date\": \"2018-04-08T00:00:00\", \"count\": 8}, {\"date\": \"2019-01-23T00:00:00\", \"count\": 8}, {\"date\": \"2017-06-09T00:00:00\", \"count\": 8}, {\"date\": \"2018-04-03T00:00:00\", \"count\": 8}, {\"date\": \"2017-03-31T00:00:00\", \"count\": 8}, {\"date\": \"2017-04-21T00:00:00\", \"count\": 8}, {\"date\": \"2017-03-20T00:00:00\", \"count\": 8}, {\"date\": \"2017-07-11T00:00:00\", \"count\": 8}, {\"date\": \"2017-06-11T00:00:00\", \"count\": 8}, {\"date\": \"2020-06-21T00:00:00\", \"count\": 8}, {\"date\": \"2018-01-10T00:00:00\", \"count\": 8}, {\"date\": \"2018-01-09T00:00:00\", \"count\": 8}, {\"date\": \"2017-09-18T00:00:00\", \"count\": 8}, {\"date\": \"2018-10-01T00:00:00\", \"count\": 8}, {\"date\": \"2017-12-31T00:00:00\", \"count\": 8}, {\"date\": \"2017-12-29T00:00:00\", \"count\": 8}, {\"date\": \"2020-06-17T00:00:00\", \"count\": 8}, {\"date\": \"2017-10-01T00:00:00\", \"count\": 8}, {\"date\": \"2017-10-04T00:00:00\", \"count\": 8}, {\"date\": \"2018-11-16T00:00:00\", \"count\": 8}, {\"date\": \"2018-08-26T00:00:00\", \"count\": 8}, {\"date\": \"2019-04-07T00:00:00\", \"count\": 8}, {\"date\": \"2019-03-27T00:00:00\", \"count\": 8}, {\"date\": \"2017-10-20T00:00:00\", \"count\": 8}, {\"date\": \"2017-10-24T00:00:00\", \"count\": 8}, {\"date\": \"2017-10-26T00:00:00\", \"count\": 8}, {\"date\": \"2018-08-10T00:00:00\", \"count\": 8}, {\"date\": \"2017-11-16T00:00:00\", \"count\": 8}, {\"date\": \"2018-01-12T00:00:00\", \"count\": 8}, {\"date\": \"2018-01-13T00:00:00\", \"count\": 8}, {\"date\": \"2018-07-17T00:00:00\", \"count\": 8}, {\"date\": \"2017-08-30T00:00:00\", \"count\": 8}, {\"date\": \"2019-01-03T00:00:00\", \"count\": 8}, {\"date\": \"2018-03-02T00:00:00\", \"count\": 8}, {\"date\": \"2018-06-18T00:00:00\", \"count\": 8}, {\"date\": \"2019-02-14T00:00:00\", \"count\": 8}, {\"date\": \"2018-02-28T00:00:00\", \"count\": 8}, {\"date\": \"2017-11-11T00:00:00\", \"count\": 8}, {\"date\": \"2017-07-28T00:00:00\", \"count\": 8}, {\"date\": \"2017-08-12T00:00:00\", \"count\": 8}, {\"date\": \"2018-10-24T00:00:00\", \"count\": 8}, {\"date\": \"2017-08-15T00:00:00\", \"count\": 8}, {\"date\": \"2019-02-27T00:00:00\", \"count\": 8}, {\"date\": \"2018-10-23T00:00:00\", \"count\": 8}, {\"date\": \"2017-08-19T00:00:00\", \"count\": 8}, {\"date\": \"2017-08-22T00:00:00\", \"count\": 8}, {\"date\": \"2019-09-17T00:00:00\", \"count\": 8}, {\"date\": \"2017-08-23T00:00:00\", \"count\": 8}, {\"date\": \"2017-08-26T00:00:00\", \"count\": 8}, {\"date\": \"2018-01-17T00:00:00\", \"count\": 8}, {\"date\": \"2020-07-05T00:00:00\", \"count\": 7}, {\"date\": \"2020-01-15T00:00:00\", \"count\": 7}, {\"date\": \"2019-01-17T00:00:00\", \"count\": 7}, {\"date\": \"2018-06-10T00:00:00\", \"count\": 7}, {\"date\": \"2017-12-02T00:00:00\", \"count\": 7}, {\"date\": \"2018-01-19T00:00:00\", \"count\": 7}, {\"date\": \"2018-01-14T00:00:00\", \"count\": 7}, {\"date\": \"2018-01-07T00:00:00\", \"count\": 7}, {\"date\": \"2018-06-01T00:00:00\", \"count\": 7}, {\"date\": \"2017-04-22T00:00:00\", \"count\": 7}, {\"date\": \"2017-02-12T00:00:00\", \"count\": 7}, {\"date\": \"2018-09-16T00:00:00\", \"count\": 7}, {\"date\": \"2017-03-07T00:00:00\", \"count\": 7}, {\"date\": \"2017-06-18T00:00:00\", \"count\": 7}, {\"date\": \"2019-01-06T00:00:00\", \"count\": 7}, {\"date\": \"2019-01-07T00:00:00\", \"count\": 7}, {\"date\": \"2019-01-08T00:00:00\", \"count\": 7}, {\"date\": \"2017-12-14T00:00:00\", \"count\": 7}, {\"date\": \"2017-02-09T00:00:00\", \"count\": 7}, {\"date\": \"2019-01-19T00:00:00\", \"count\": 7}, {\"date\": \"2018-01-23T00:00:00\", \"count\": 7}, {\"date\": \"2017-04-18T00:00:00\", \"count\": 7}, {\"date\": \"2018-01-26T00:00:00\", \"count\": 7}, {\"date\": \"2017-04-01T00:00:00\", \"count\": 7}, {\"date\": \"2017-04-03T00:00:00\", \"count\": 7}, {\"date\": \"2018-10-06T00:00:00\", \"count\": 7}, {\"date\": \"2018-02-15T00:00:00\", \"count\": 7}, {\"date\": \"2017-03-04T00:00:00\", \"count\": 7}, {\"date\": \"2018-10-14T00:00:00\", \"count\": 7}, {\"date\": \"2018-02-06T00:00:00\", \"count\": 7}, {\"date\": \"2018-11-10T00:00:00\", \"count\": 7}, {\"date\": \"2017-04-17T00:00:00\", \"count\": 7}, {\"date\": \"2018-11-11T00:00:00\", \"count\": 7}, {\"date\": \"2018-09-19T00:00:00\", \"count\": 7}, {\"date\": \"2018-11-17T00:00:00\", \"count\": 7}, {\"date\": \"2018-11-18T00:00:00\", \"count\": 7}, {\"date\": \"2018-02-03T00:00:00\", \"count\": 7}, {\"date\": \"2017-04-16T00:00:00\", \"count\": 7}, {\"date\": \"2019-01-28T00:00:00\", \"count\": 7}, {\"date\": \"2018-03-12T00:00:00\", \"count\": 7}, {\"date\": \"2017-12-01T00:00:00\", \"count\": 7}, {\"date\": \"2017-07-21T00:00:00\", \"count\": 7}, {\"date\": \"2019-03-21T00:00:00\", \"count\": 7}, {\"date\": \"2017-01-27T00:00:00\", \"count\": 7}, {\"date\": \"2017-05-27T00:00:00\", \"count\": 7}, {\"date\": \"2018-05-08T00:00:00\", \"count\": 7}, {\"date\": \"2019-04-17T00:00:00\", \"count\": 7}, {\"date\": \"2018-06-24T00:00:00\", \"count\": 7}, {\"date\": \"2019-06-27T00:00:00\", \"count\": 7}, {\"date\": \"2017-09-08T00:00:00\", \"count\": 7}, {\"date\": \"2017-07-18T00:00:00\", \"count\": 7}, {\"date\": \"2019-06-30T00:00:00\", \"count\": 7}, {\"date\": \"2017-07-15T00:00:00\", \"count\": 7}, {\"date\": \"2018-06-14T00:00:00\", \"count\": 7}, {\"date\": \"2018-05-29T00:00:00\", \"count\": 7}, {\"date\": \"2019-11-28T00:00:00\", \"count\": 7}, {\"date\": \"2018-05-01T00:00:00\", \"count\": 7}, {\"date\": \"2018-04-30T00:00:00\", \"count\": 7}, {\"date\": \"2017-11-10T00:00:00\", \"count\": 7}, {\"date\": \"2019-02-28T00:00:00\", \"count\": 7}, {\"date\": \"2019-02-26T00:00:00\", \"count\": 7}, {\"date\": \"2018-04-28T00:00:00\", \"count\": 7}, {\"date\": \"2019-02-21T00:00:00\", \"count\": 7}, {\"date\": \"2017-01-29T00:00:00\", \"count\": 7}, {\"date\": \"2018-04-25T00:00:00\", \"count\": 7}, {\"date\": \"2017-10-16T00:00:00\", \"count\": 7}, {\"date\": \"2018-04-06T00:00:00\", \"count\": 7}, {\"date\": \"2018-04-07T00:00:00\", \"count\": 7}, {\"date\": \"2018-07-16T00:00:00\", \"count\": 7}, {\"date\": \"2017-11-04T00:00:00\", \"count\": 7}, {\"date\": \"2018-04-29T00:00:00\", \"count\": 6}, {\"date\": \"2017-03-28T00:00:00\", \"count\": 6}, {\"date\": \"2018-05-14T00:00:00\", \"count\": 6}, {\"date\": \"2018-03-15T00:00:00\", \"count\": 6}, {\"date\": \"2018-04-13T00:00:00\", \"count\": 6}, {\"date\": \"2018-03-23T00:00:00\", \"count\": 6}, {\"date\": \"2018-03-09T00:00:00\", \"count\": 6}, {\"date\": \"2018-05-03T00:00:00\", \"count\": 6}, {\"date\": \"2018-04-04T00:00:00\", \"count\": 6}, {\"date\": \"2018-03-22T00:00:00\", \"count\": 6}, {\"date\": \"2018-03-08T00:00:00\", \"count\": 6}, {\"date\": \"2017-10-29T00:00:00\", \"count\": 6}, {\"date\": \"2017-06-30T00:00:00\", \"count\": 6}, {\"date\": \"2017-07-07T00:00:00\", \"count\": 6}, {\"date\": \"2017-07-23T00:00:00\", \"count\": 6}, {\"date\": \"2017-05-30T00:00:00\", \"count\": 6}, {\"date\": \"2017-08-10T00:00:00\", \"count\": 6}, {\"date\": \"2017-08-21T00:00:00\", \"count\": 6}, {\"date\": \"2017-08-29T00:00:00\", \"count\": 6}, {\"date\": \"2017-09-05T00:00:00\", \"count\": 6}, {\"date\": \"2017-09-13T00:00:00\", \"count\": 6}, {\"date\": \"2017-09-21T00:00:00\", \"count\": 6}, {\"date\": \"2017-10-09T00:00:00\", \"count\": 6}, {\"date\": \"2017-11-19T00:00:00\", \"count\": 6}, {\"date\": \"2017-04-11T00:00:00\", \"count\": 6}, {\"date\": \"2017-05-07T00:00:00\", \"count\": 6}, {\"date\": \"2017-11-24T00:00:00\", \"count\": 6}, {\"date\": \"2020-06-26T00:00:00\", \"count\": 6}, {\"date\": \"2017-12-12T00:00:00\", \"count\": 6}, {\"date\": \"2017-04-28T00:00:00\", \"count\": 6}, {\"date\": \"2017-12-23T00:00:00\", \"count\": 6}, {\"date\": \"2017-12-24T00:00:00\", \"count\": 6}, {\"date\": \"2017-04-24T00:00:00\", \"count\": 6}, {\"date\": \"2017-04-12T00:00:00\", \"count\": 6}, {\"date\": \"2018-02-05T00:00:00\", \"count\": 6}, {\"date\": \"2018-02-08T00:00:00\", \"count\": 6}, {\"date\": \"2017-12-30T00:00:00\", \"count\": 6}, {\"date\": \"2017-06-15T00:00:00\", \"count\": 6}, {\"date\": \"2018-08-09T00:00:00\", \"count\": 6}, {\"date\": \"2017-01-26T00:00:00\", \"count\": 6}, {\"date\": \"2017-02-02T00:00:00\", \"count\": 6}, {\"date\": \"2020-01-04T00:00:00\", \"count\": 6}, {\"date\": \"2017-02-05T00:00:00\", \"count\": 6}, {\"date\": \"2017-02-06T00:00:00\", \"count\": 6}, {\"date\": \"2019-02-05T00:00:00\", \"count\": 6}, {\"date\": \"2017-03-08T00:00:00\", \"count\": 6}, {\"date\": \"2018-07-21T00:00:00\", \"count\": 6}, {\"date\": \"2019-01-04T00:00:00\", \"count\": 6}, {\"date\": \"2019-02-22T00:00:00\", \"count\": 6}, {\"date\": \"2017-03-06T00:00:00\", \"count\": 6}, {\"date\": \"2018-06-11T00:00:00\", \"count\": 6}, {\"date\": \"2019-03-06T00:00:00\", \"count\": 6}, {\"date\": \"2019-07-05T00:00:00\", \"count\": 6}, {\"date\": \"2017-02-25T00:00:00\", \"count\": 6}, {\"date\": \"2019-10-27T00:00:00\", \"count\": 6}, {\"date\": \"2017-02-16T00:00:00\", \"count\": 6}, {\"date\": \"2018-10-11T00:00:00\", \"count\": 6}, {\"date\": \"2018-08-19T00:00:00\", \"count\": 6}, {\"date\": \"2018-01-06T00:00:00\", \"count\": 5}, {\"date\": \"2017-12-20T00:00:00\", \"count\": 5}, {\"date\": \"2020-07-07T00:00:00\", \"count\": 5}, {\"date\": \"2018-11-23T00:00:00\", \"count\": 5}, {\"date\": \"2018-12-28T00:00:00\", \"count\": 5}, {\"date\": \"2017-11-25T00:00:00\", \"count\": 5}, {\"date\": \"2017-11-27T00:00:00\", \"count\": 5}, {\"date\": \"2018-01-27T00:00:00\", \"count\": 5}, {\"date\": \"2017-12-06T00:00:00\", \"count\": 5}, {\"date\": \"2017-04-30T00:00:00\", \"count\": 5}, {\"date\": \"2019-01-02T00:00:00\", \"count\": 5}, {\"date\": \"2017-12-21T00:00:00\", \"count\": 5}, {\"date\": \"2018-01-05T00:00:00\", \"count\": 5}, {\"date\": \"2018-01-08T00:00:00\", \"count\": 5}, {\"date\": \"2018-12-15T00:00:00\", \"count\": 5}, {\"date\": \"2017-04-25T00:00:00\", \"count\": 5}, {\"date\": \"2017-12-19T00:00:00\", \"count\": 5}, {\"date\": \"2018-12-17T00:00:00\", \"count\": 5}, {\"date\": \"2018-06-03T00:00:00\", \"count\": 5}, {\"date\": \"2017-05-02T00:00:00\", \"count\": 5}, {\"date\": \"2017-09-03T00:00:00\", \"count\": 5}, {\"date\": \"2017-06-23T00:00:00\", \"count\": 5}, {\"date\": \"2017-07-06T00:00:00\", \"count\": 5}, {\"date\": \"2019-08-04T00:00:00\", \"count\": 5}, {\"date\": \"2017-07-08T00:00:00\", \"count\": 5}, {\"date\": \"2017-06-12T00:00:00\", \"count\": 5}, {\"date\": \"2019-06-23T00:00:00\", \"count\": 5}, {\"date\": \"2019-06-20T00:00:00\", \"count\": 5}, {\"date\": \"2017-08-02T00:00:00\", \"count\": 5}, {\"date\": \"2017-08-06T00:00:00\", \"count\": 5}, {\"date\": \"2019-03-11T00:00:00\", \"count\": 5}, {\"date\": \"2020-08-09T00:00:00\", \"count\": 5}, {\"date\": \"2019-12-21T00:00:00\", \"count\": 5}, {\"date\": \"2017-11-17T00:00:00\", \"count\": 5}, {\"date\": \"2017-09-12T00:00:00\", \"count\": 5}, {\"date\": \"2020-12-31T00:00:00\", \"count\": 5}, {\"date\": \"2017-01-31T00:00:00\", \"count\": 5}, {\"date\": \"2017-05-18T00:00:00\", \"count\": 5}, {\"date\": \"2019-12-30T00:00:00\", \"count\": 5}, {\"date\": \"2017-05-16T00:00:00\", \"count\": 5}, {\"date\": \"2017-05-11T00:00:00\", \"count\": 5}, {\"date\": \"2017-11-08T00:00:00\", \"count\": 5}, {\"date\": \"2017-11-09T00:00:00\", \"count\": 5}, {\"date\": \"2017-11-14T00:00:00\", \"count\": 5}, {\"date\": \"2018-11-14T00:00:00\", \"count\": 5}, {\"date\": \"2018-02-02T00:00:00\", \"count\": 5}, {\"date\": \"2017-02-13T00:00:00\", \"count\": 5}, {\"date\": \"2018-03-07T00:00:00\", \"count\": 5}, {\"date\": \"2018-03-26T00:00:00\", \"count\": 5}, {\"date\": \"2017-03-02T00:00:00\", \"count\": 5}, {\"date\": \"2018-03-11T00:00:00\", \"count\": 5}, {\"date\": \"2018-07-01T00:00:00\", \"count\": 5}, {\"date\": \"2020-04-01T00:00:00\", \"count\": 5}, {\"date\": \"2018-09-29T00:00:00\", \"count\": 5}, {\"date\": \"2018-08-08T00:00:00\", \"count\": 5}, {\"date\": \"2018-03-05T00:00:00\", \"count\": 5}, {\"date\": \"2018-06-29T00:00:00\", \"count\": 5}, {\"date\": \"2018-07-08T00:00:00\", \"count\": 5}, {\"date\": \"2018-02-21T00:00:00\", \"count\": 5}, {\"date\": \"2018-02-19T00:00:00\", \"count\": 5}, {\"date\": \"2020-03-08T00:00:00\", \"count\": 5}, {\"date\": \"2017-03-29T00:00:00\", \"count\": 5}, {\"date\": \"2017-04-08T00:00:00\", \"count\": 5}, {\"date\": \"2018-05-10T00:00:00\", \"count\": 5}, {\"date\": \"2017-03-16T00:00:00\", \"count\": 5}, {\"date\": \"2018-04-10T00:00:00\", \"count\": 5}, {\"date\": \"2018-05-27T00:00:00\", \"count\": 5}, {\"date\": \"2017-02-24T00:00:00\", \"count\": 5}, {\"date\": \"2018-05-22T00:00:00\", \"count\": 5}, {\"date\": \"2018-02-07T00:00:00\", \"count\": 5}, {\"date\": \"2018-10-21T00:00:00\", \"count\": 5}, {\"date\": \"2018-04-09T00:00:00\", \"count\": 5}, {\"date\": \"2017-03-13T00:00:00\", \"count\": 5}, {\"date\": \"2018-06-16T00:00:00\", \"count\": 5}, {\"date\": \"2018-05-13T00:00:00\", \"count\": 5}, {\"date\": \"2017-03-22T00:00:00\", \"count\": 4}, {\"date\": \"2017-10-23T00:00:00\", \"count\": 4}, {\"date\": \"2017-03-23T00:00:00\", \"count\": 4}, {\"date\": \"2017-03-09T00:00:00\", \"count\": 4}, {\"date\": \"2018-04-23T00:00:00\", \"count\": 4}, {\"date\": \"2017-09-09T00:00:00\", \"count\": 4}, {\"date\": \"2018-07-04T00:00:00\", \"count\": 4}, {\"date\": \"2017-01-28T00:00:00\", \"count\": 4}, {\"date\": \"2017-05-25T00:00:00\", \"count\": 4}, {\"date\": \"2017-10-30T00:00:00\", \"count\": 4}, {\"date\": \"2017-10-15T00:00:00\", \"count\": 4}, {\"date\": \"2017-05-23T00:00:00\", \"count\": 4}, {\"date\": \"2017-02-20T00:00:00\", \"count\": 4}, {\"date\": \"2017-05-26T00:00:00\", \"count\": 4}, {\"date\": \"2019-06-28T00:00:00\", \"count\": 4}, {\"date\": \"2017-06-24T00:00:00\", \"count\": 4}, {\"date\": \"2017-07-02T00:00:00\", \"count\": 4}, {\"date\": \"2017-07-04T00:00:00\", \"count\": 4}, {\"date\": \"2017-07-05T00:00:00\", \"count\": 4}, {\"date\": \"2018-05-19T00:00:00\", \"count\": 4}, {\"date\": \"2017-07-13T00:00:00\", \"count\": 4}, {\"date\": \"2018-05-11T00:00:00\", \"count\": 4}, {\"date\": \"2017-06-03T00:00:00\", \"count\": 4}, {\"date\": \"2020-11-23T00:00:00\", \"count\": 4}, {\"date\": \"2020-08-21T00:00:00\", \"count\": 4}, {\"date\": \"2017-07-31T00:00:00\", \"count\": 4}, {\"date\": \"2017-01-22T00:00:00\", \"count\": 4}, {\"date\": \"2019-04-03T00:00:00\", \"count\": 4}, {\"date\": \"2017-08-13T00:00:00\", \"count\": 4}, {\"date\": \"2017-05-29T00:00:00\", \"count\": 4}, {\"date\": \"2019-03-30T00:00:00\", \"count\": 4}, {\"date\": \"2018-04-05T00:00:00\", \"count\": 4}, {\"date\": \"2017-03-27T00:00:00\", \"count\": 4}, {\"date\": \"2017-03-24T00:00:00\", \"count\": 4}, {\"date\": \"2018-02-11T00:00:00\", \"count\": 4}, {\"date\": \"2017-11-05T00:00:00\", \"count\": 4}, {\"date\": \"2018-03-03T00:00:00\", \"count\": 4}, {\"date\": \"2017-04-04T00:00:00\", \"count\": 4}, {\"date\": \"2018-12-30T00:00:00\", \"count\": 4}, {\"date\": \"2017-12-27T00:00:00\", \"count\": 4}, {\"date\": \"2018-02-16T00:00:00\", \"count\": 4}, {\"date\": \"2018-01-03T00:00:00\", \"count\": 4}, {\"date\": \"2018-02-14T00:00:00\", \"count\": 4}, {\"date\": \"2018-12-12T00:00:00\", \"count\": 4}, {\"date\": \"2017-02-07T00:00:00\", \"count\": 4}, {\"date\": \"2018-12-10T00:00:00\", \"count\": 4}, {\"date\": \"2017-04-19T00:00:00\", \"count\": 4}, {\"date\": \"2018-01-22T00:00:00\", \"count\": 4}, {\"date\": \"2018-12-09T00:00:00\", \"count\": 4}, {\"date\": \"2018-01-24T00:00:00\", \"count\": 4}, {\"date\": \"2017-02-14T00:00:00\", \"count\": 4}, {\"date\": \"2017-04-13T00:00:00\", \"count\": 4}, {\"date\": \"2018-02-01T00:00:00\", \"count\": 4}, {\"date\": \"2017-12-13T00:00:00\", \"count\": 4}, {\"date\": \"2017-02-26T00:00:00\", \"count\": 4}, {\"date\": \"2018-03-19T00:00:00\", \"count\": 4}, {\"date\": \"2017-11-26T00:00:00\", \"count\": 4}, {\"date\": \"2017-03-25T00:00:00\", \"count\": 4}, {\"date\": \"2017-11-12T00:00:00\", \"count\": 4}, {\"date\": \"2018-03-29T00:00:00\", \"count\": 4}, {\"date\": \"2019-02-02T00:00:00\", \"count\": 4}, {\"date\": \"2018-08-12T00:00:00\", \"count\": 4}, {\"date\": \"2017-04-02T00:00:00\", \"count\": 4}, {\"date\": \"2018-03-17T00:00:00\", \"count\": 4}, {\"date\": \"2019-12-01T00:00:00\", \"count\": 4}, {\"date\": \"2018-03-16T00:00:00\", \"count\": 4}, {\"date\": \"2017-12-04T00:00:00\", \"count\": 4}, {\"date\": \"2017-06-01T00:00:00\", \"count\": 3}, {\"date\": \"2017-05-01T00:00:00\", \"count\": 3}, {\"date\": \"2017-02-23T00:00:00\", \"count\": 3}, {\"date\": \"2017-06-14T00:00:00\", \"count\": 3}, {\"date\": \"2017-02-18T00:00:00\", \"count\": 3}, {\"date\": \"2017-02-01T00:00:00\", \"count\": 3}, {\"date\": \"2017-02-10T00:00:00\", \"count\": 3}, {\"date\": \"2017-05-09T00:00:00\", \"count\": 3}, {\"date\": \"2020-10-03T00:00:00\", \"count\": 3}, {\"date\": \"2017-03-05T00:00:00\", \"count\": 3}, {\"date\": \"2017-05-21T00:00:00\", \"count\": 3}, {\"date\": \"2017-03-21T00:00:00\", \"count\": 3}, {\"date\": \"2017-04-09T00:00:00\", \"count\": 3}, {\"date\": \"2017-02-27T00:00:00\", \"count\": 3}, {\"date\": \"2017-06-04T00:00:00\", \"count\": 3}, {\"date\": \"2020-12-27T00:00:00\", \"count\": 3}, {\"date\": \"2017-04-20T00:00:00\", \"count\": 3}, {\"date\": \"2017-04-29T00:00:00\", \"count\": 3}, {\"date\": \"2017-12-17T00:00:00\", \"count\": 3}, {\"date\": \"2020-07-19T00:00:00\", \"count\": 3}, {\"date\": \"2018-01-01T00:00:00\", \"count\": 3}, {\"date\": \"2018-03-18T00:00:00\", \"count\": 3}, {\"date\": \"2017-11-18T00:00:00\", \"count\": 3}, {\"date\": \"2019-03-07T00:00:00\", \"count\": 3}, {\"date\": \"2018-07-02T00:00:00\", \"count\": 3}, {\"date\": \"2018-05-12T00:00:00\", \"count\": 3}, {\"date\": \"2017-12-10T00:00:00\", \"count\": 3}, {\"date\": \"2017-12-16T00:00:00\", \"count\": 3}, {\"date\": \"2017-12-25T00:00:00\", \"count\": 3}, {\"date\": \"2017-12-26T00:00:00\", \"count\": 3}, {\"date\": \"2018-01-21T00:00:00\", \"count\": 3}, {\"date\": \"2019-03-31T00:00:00\", \"count\": 3}, {\"date\": \"2018-01-25T00:00:00\", \"count\": 3}, {\"date\": \"2019-12-29T00:00:00\", \"count\": 3}, {\"date\": \"2018-04-14T00:00:00\", \"count\": 3}, {\"date\": \"2018-04-01T00:00:00\", \"count\": 3}, {\"date\": \"2018-03-31T00:00:00\", \"count\": 3}, {\"date\": \"2018-02-09T00:00:00\", \"count\": 3}, {\"date\": \"2018-02-12T00:00:00\", \"count\": 3}, {\"date\": \"2019-02-03T00:00:00\", \"count\": 3}, {\"date\": \"2019-01-25T00:00:00\", \"count\": 3}, {\"date\": \"2020-07-20T00:00:00\", \"count\": 3}, {\"date\": \"2017-06-21T00:00:00\", \"count\": 3}, {\"date\": \"2017-10-22T00:00:00\", \"count\": 3}, {\"date\": \"2018-09-23T00:00:00\", \"count\": 3}, {\"date\": \"2018-11-08T00:00:00\", \"count\": 3}, {\"date\": \"2018-10-28T00:00:00\", \"count\": 3}, {\"date\": \"2018-09-30T00:00:00\", \"count\": 3}, {\"date\": \"2017-07-19T00:00:00\", \"count\": 3}, {\"date\": \"2017-07-20T00:00:00\", \"count\": 3}, {\"date\": \"2018-11-20T00:00:00\", \"count\": 3}, {\"date\": \"2017-08-01T00:00:00\", \"count\": 3}, {\"date\": \"2017-08-28T00:00:00\", \"count\": 3}, {\"date\": \"2018-11-24T00:00:00\", \"count\": 3}, {\"date\": \"2020-02-16T00:00:00\", \"count\": 3}, {\"date\": \"2018-12-01T00:00:00\", \"count\": 3}, {\"date\": \"2017-09-16T00:00:00\", \"count\": 3}, {\"date\": \"2018-09-02T00:00:00\", \"count\": 3}, {\"date\": \"2018-09-22T00:00:00\", \"count\": 3}, {\"date\": \"2018-07-13T00:00:00\", \"count\": 2}, {\"date\": \"2020-01-08T00:00:00\", \"count\": 2}, {\"date\": \"2018-12-25T00:00:00\", \"count\": 2}, {\"date\": \"2018-07-06T00:00:00\", \"count\": 2}, {\"date\": \"2017-01-21T00:00:00\", \"count\": 2}, {\"date\": \"2018-10-07T00:00:00\", \"count\": 2}, {\"date\": \"2017-03-26T00:00:00\", \"count\": 2}, {\"date\": \"2017-03-10T00:00:00\", \"count\": 2}, {\"date\": \"2018-12-26T00:00:00\", \"count\": 2}, {\"date\": \"2017-03-14T00:00:00\", \"count\": 2}, {\"date\": \"2018-04-26T00:00:00\", \"count\": 2}, {\"date\": \"2017-02-28T00:00:00\", \"count\": 2}, {\"date\": \"2017-02-19T00:00:00\", \"count\": 2}, {\"date\": \"2018-12-02T00:00:00\", \"count\": 2}, {\"date\": \"2017-03-18T00:00:00\", \"count\": 2}, {\"date\": \"2019-01-16T00:00:00\", \"count\": 2}, {\"date\": \"2021-01-08T00:00:00\", \"count\": 2}, {\"date\": \"2017-04-14T00:00:00\", \"count\": 2}, {\"date\": \"2018-03-04T00:00:00\", \"count\": 2}, {\"date\": \"2017-05-13T00:00:00\", \"count\": 2}, {\"date\": \"2017-06-25T00:00:00\", \"count\": 2}, {\"date\": \"2017-07-17T00:00:00\", \"count\": 2}, {\"date\": \"2017-06-07T00:00:00\", \"count\": 2}, {\"date\": \"2017-08-20T00:00:00\", \"count\": 2}, {\"date\": \"2017-08-31T00:00:00\", \"count\": 2}, {\"date\": \"2017-09-04T00:00:00\", \"count\": 2}, {\"date\": \"2017-05-24T00:00:00\", \"count\": 2}, {\"date\": \"2017-09-11T00:00:00\", \"count\": 2}, {\"date\": \"2017-05-22T00:00:00\", \"count\": 2}, {\"date\": \"2017-05-20T00:00:00\", \"count\": 2}, {\"date\": \"2017-05-19T00:00:00\", \"count\": 2}, {\"date\": \"2020-10-02T00:00:00\", \"count\": 2}, {\"date\": \"2017-05-15T00:00:00\", \"count\": 2}, {\"date\": \"2019-01-29T00:00:00\", \"count\": 2}, {\"date\": \"2019-03-24T00:00:00\", \"count\": 2}, {\"date\": \"2017-11-20T00:00:00\", \"count\": 2}, {\"date\": \"2017-02-21T00:00:00\", \"count\": 2}, {\"date\": \"2017-04-05T00:00:00\", \"count\": 2}, {\"date\": \"2018-02-13T00:00:00\", \"count\": 2}, {\"date\": \"2017-04-10T00:00:00\", \"count\": 2}, {\"date\": \"2018-02-04T00:00:00\", \"count\": 2}, {\"date\": \"2017-05-03T00:00:00\", \"count\": 2}, {\"date\": \"2017-02-22T00:00:00\", \"count\": 2}, {\"date\": \"2018-01-28T00:00:00\", \"count\": 2}, {\"date\": \"2019-02-15T00:00:00\", \"count\": 2}, {\"date\": \"2017-12-05T00:00:00\", \"count\": 2}, {\"date\": \"2017-11-21T00:00:00\", \"count\": 2}, {\"date\": \"2019-02-06T00:00:00\", \"count\": 1}, {\"date\": \"2019-04-28T00:00:00\", \"count\": 1}, {\"date\": \"2021-01-07T00:00:00\", \"count\": 1}, {\"date\": \"2020-01-05T00:00:00\", \"count\": 1}, {\"date\": \"2017-01-23T00:00:00\", \"count\": 1}, {\"date\": \"2019-02-04T00:00:00\", \"count\": 1}, {\"date\": \"2017-06-17T00:00:00\", \"count\": 1}, {\"date\": \"2018-09-28T00:00:00\", \"count\": 1}, {\"date\": \"2017-04-07T00:00:00\", \"count\": 1}, {\"date\": \"2017-06-10T00:00:00\", \"count\": 1}, {\"date\": \"2017-07-30T00:00:00\", \"count\": 1}, {\"date\": \"2017-10-02T00:00:00\", \"count\": 1}, {\"date\": \"2017-05-17T00:00:00\", \"count\": 1}, {\"date\": \"2017-05-14T00:00:00\", \"count\": 1}, {\"date\": \"2017-05-06T00:00:00\", \"count\": 1}, {\"date\": \"2017-12-11T00:00:00\", \"count\": 1}, {\"date\": \"2019-11-29T00:00:00\", \"count\": 1}, {\"date\": \"2018-01-29T00:00:00\", \"count\": 1}, {\"date\": \"2018-01-30T00:00:00\", \"count\": 1}, {\"date\": \"2017-04-06T00:00:00\", \"count\": 1}, {\"date\": \"2017-03-01T00:00:00\", \"count\": 1}, {\"date\": \"2018-02-25T00:00:00\", \"count\": 1}, {\"date\": \"2018-03-24T00:00:00\", \"count\": 1}, {\"date\": \"2018-03-27T00:00:00\", \"count\": 1}, {\"date\": \"2018-03-30T00:00:00\", \"count\": 1}, {\"date\": \"2018-05-05T00:00:00\", \"count\": 1}, {\"date\": \"2017-03-19T00:00:00\", \"count\": 1}, {\"date\": \"2017-03-12T00:00:00\", \"count\": 1}, {\"date\": \"2017-03-11T00:00:00\", \"count\": 1}, {\"date\": \"2018-07-28T00:00:00\", \"count\": 1}, {\"date\": \"2018-09-27T00:00:00\", \"count\": 1}, {\"date\": \"2018-03-20T00:00:00\", \"count\": 1}]}}, {\"mode\": \"vega-lite\"});\n",
       "</script>"
      ],
      "text/plain": [
       "alt.LayerChart(...)"
      ]
     },
     "execution_count": 58,
     "metadata": {},
     "output_type": "execute_result"
    }
   ],
   "source": [
    "# bars\n",
    "\n",
    "bars = (\n",
    "    alt.Chart(\n",
    "        trump_freq_inauguration,\n",
    "        title=\"@realDonaldTrump tweet frequency since inauguration\",\n",
    "    )\n",
    "    .mark_bar(size=2)\n",
    "    .encode(\n",
    "        x=alt.X(\n",
    "            \"date:T\",\n",
    "            axis=alt.Axis(grid=False, title=\"\", tickCount=6, format=(\"%b. %Y\")),\n",
    "        ),\n",
    "        y=alt.Y(\n",
    "            \"count:Q\",\n",
    "            scale=alt.Scale(domain=(0, 200)),\n",
    "            axis=alt.Axis(\n",
    "                gridColor=\"#dddddd\",\n",
    "                offset=6,\n",
    "                tickSize=0,\n",
    "                domainOpacity=0,\n",
    "                tickCount=6,\n",
    "                title=\"Daily tweet counts and mean\",\n",
    "            ),\n",
    "        ),\n",
    "    )\n",
    ")\n",
    "\n",
    "# rule showing mean\n",
    "\n",
    "rule = (\n",
    "    alt.Chart(trump_freq_inauguration).mark_rule(color=\"red\").encode(y=\"mean(count):Q\")\n",
    ")\n",
    "\n",
    "# rule label -- would like to add \"Average: \" annotation\n",
    "text = rule.mark_text(\n",
    "    align=\"center\",\n",
    "    baseline=\"middle\",\n",
    "    dx=200,\n",
    "    dy=10,\n",
    "    fontWeight=\"bold\",\n",
    ").encode(text=alt.Text(\"mean(count):Q\", format=\".2\"))\n",
    "\n",
    "# go\n",
    "(bars + rule + text).properties(height=400, width=800).configure_view(strokeOpacity=0)"
   ]
  },
  {
   "cell_type": "code",
   "execution_count": 59,
   "metadata": {},
   "outputs": [
    {
     "data": {
      "text/html": [
       "\n",
       "<div id=\"altair-viz-bde2385174d34a5aa3916fd8b83a1aa3\"></div>\n",
       "<script type=\"text/javascript\">\n",
       "  (function(spec, embedOpt){\n",
       "    let outputDiv = document.currentScript.previousElementSibling;\n",
       "    if (outputDiv.id !== \"altair-viz-bde2385174d34a5aa3916fd8b83a1aa3\") {\n",
       "      outputDiv = document.getElementById(\"altair-viz-bde2385174d34a5aa3916fd8b83a1aa3\");\n",
       "    }\n",
       "    const paths = {\n",
       "      \"vega\": \"https://cdn.jsdelivr.net/npm//vega@5?noext\",\n",
       "      \"vega-lib\": \"https://cdn.jsdelivr.net/npm//vega-lib?noext\",\n",
       "      \"vega-lite\": \"https://cdn.jsdelivr.net/npm//vega-lite@4.8.1?noext\",\n",
       "      \"vega-embed\": \"https://cdn.jsdelivr.net/npm//vega-embed@6?noext\",\n",
       "    };\n",
       "\n",
       "    function loadScript(lib) {\n",
       "      return new Promise(function(resolve, reject) {\n",
       "        var s = document.createElement('script');\n",
       "        s.src = paths[lib];\n",
       "        s.async = true;\n",
       "        s.onload = () => resolve(paths[lib]);\n",
       "        s.onerror = () => reject(`Error loading script: ${paths[lib]}`);\n",
       "        document.getElementsByTagName(\"head\")[0].appendChild(s);\n",
       "      });\n",
       "    }\n",
       "\n",
       "    function showError(err) {\n",
       "      outputDiv.innerHTML = `<div class=\"error\" style=\"color:red;\">${err}</div>`;\n",
       "      throw err;\n",
       "    }\n",
       "\n",
       "    function displayChart(vegaEmbed) {\n",
       "      vegaEmbed(outputDiv, spec, embedOpt)\n",
       "        .catch(err => showError(`Javascript Error: ${err.message}<br>This usually means there's a typo in your chart specification. See the javascript console for the full traceback.`));\n",
       "    }\n",
       "\n",
       "    if(typeof define === \"function\" && define.amd) {\n",
       "      requirejs.config({paths});\n",
       "      require([\"vega-embed\"], displayChart, err => showError(`Error loading script: ${err.message}`));\n",
       "    } else if (typeof vegaEmbed === \"function\") {\n",
       "      displayChart(vegaEmbed);\n",
       "    } else {\n",
       "      loadScript(\"vega\")\n",
       "        .then(() => loadScript(\"vega-lite\"))\n",
       "        .then(() => loadScript(\"vega-embed\"))\n",
       "        .catch(showError)\n",
       "        .then(() => displayChart(vegaEmbed));\n",
       "    }\n",
       "  })({\"config\": {\"view\": {\"width\": 800, \"height\": 450, \"strokeOpacity\": 0}, \"background\": \"#ffffff\", \"title\": {\"anchor\": \"start\", \"font\": \"Benton Gothic Bold, sans\", \"fontColor\": \"#000000\", \"fontSize\": 22, \"fontWeight\": \"normal\"}, \"arc\": {\"fill\": \"#82c6df\"}, \"area\": {\"fill\": \"#82c6df\"}, \"line\": {\"stroke\": \"#82c6df\", \"strokeWidth\": 3}, \"path\": {\"stroke\": \"#82c6df\"}, \"rect\": {\"fill\": \"#82c6df\"}, \"shape\": {\"stroke\": \"#82c6df\"}, \"bar\": {\"fill\": \"#82c6df\"}, \"point\": {\"stroke\": \"#82c6df\"}, \"symbol\": {\"fill\": \"#82c6df\", \"size\": 30}, \"axis\": {\"titleFont\": \"Benton Gothic Bold, sans\", \"titleFontSize\": 13, \"titleFontWeight\": \"normal\", \"labelFont\": \"Benton Gothic, sans\", \"labelFontSize\": 11.5, \"labelFontWeight\": \"normal\"}, \"axisX\": {\"labelAngle\": 0, \"labelPadding\": 4, \"tickSize\": 3}, \"axisY\": {\"labelBaseline\": \"middle\", \"maxExtent\": 45, \"minExtent\": 45, \"tickSize\": 2, \"titleAlign\": \"left\", \"titleAngle\": 0, \"titleX\": -45, \"titleY\": -11}, \"legend\": {\"titleFont\": \"Benton Gothic Bold, sans\", \"titleFontSize\": 13, \"titleFontWeight\": \"normal\", \"symbolType\": \"square\", \"labelFont\": \"Benton Gothic, sans\", \"labelFontSize\": 11.5, \"orient\": \"top\", \"padding\": 10}, \"range\": {\"category\": [\"#3580b1\", \"#ec8431\", \"#ab7fb4\", \"#c89d29\", \"#adc839\", \"#829eb1\"], \"diverging\": [\"#e68a4f\", \"#f4bb6a\", \"#f9e39c\", \"#dadfe2\", \"#a6b7c6\", \"#849eae\"], \"heatmap\": [\"#fbf2c7\", \"#f9e39c\", \"#f8d36e\", \"#f4bb6a\", \"#e68a4f\", \"#d15a40\", \"#ab4232\"], \"ordinal\": [\"#fbf2c7\", \"#f9e39c\", \"#f8d36e\", \"#f4bb6a\", \"#e68a4f\", \"#d15a40\", \"#ab4232\"], \"ramp\": [\"#fbf2c7\", \"#f9e39c\", \"#f8d36e\", \"#f4bb6a\", \"#e68a4f\", \"#d15a40\", \"#ab4232\"]}}, \"data\": {\"name\": \"data-726a6afc28352fa1eb162a23e919a387\"}, \"mark\": \"rect\", \"encoding\": {\"color\": {\"type\": \"quantitative\", \"field\": \"count\", \"title\": \"Tweet count\"}, \"facet\": {\"type\": \"ordinal\", \"columns\": 1, \"field\": \"date\", \"timeUnit\": \"year\", \"title\": \"\"}, \"tooltip\": [{\"type\": \"temporal\", \"field\": \"date\", \"timeUnit\": \"monthdate\", \"title\": \"Date\"}, {\"type\": \"quantitative\", \"field\": \"count\", \"title\": \"Tweets\"}], \"x\": {\"type\": \"ordinal\", \"field\": \"date\", \"timeUnit\": \"date\", \"title\": \" \"}, \"y\": {\"type\": \"ordinal\", \"field\": \"date\", \"timeUnit\": \"month\", \"title\": \"\"}}, \"height\": 200, \"title\": \"@realDonaldTrump daily tweet frequency since inauguration\", \"width\": 600, \"$schema\": \"https://vega.github.io/schema/vega-lite/v4.8.1.json\", \"datasets\": {\"data-726a6afc28352fa1eb162a23e919a387\": [{\"date\": \"2020-06-05T00:00:00\", \"count\": 198}, {\"date\": \"2020-05-10T00:00:00\", \"count\": 124}, {\"date\": \"2019-12-12T00:00:00\", \"count\": 122}, {\"date\": \"2020-10-12T00:00:00\", \"count\": 117}, {\"date\": \"2020-08-30T00:00:00\", \"count\": 109}, {\"date\": \"2020-09-08T00:00:00\", \"count\": 108}, {\"date\": \"2020-10-27T00:00:00\", \"count\": 108}, {\"date\": \"2019-12-08T00:00:00\", \"count\": 105}, {\"date\": \"2020-10-13T00:00:00\", \"count\": 96}, {\"date\": \"2020-01-22T00:00:00\", \"count\": 93}, {\"date\": \"2020-08-14T00:00:00\", \"count\": 87}, {\"date\": \"2020-09-14T00:00:00\", \"count\": 85}, {\"date\": \"2020-11-02T00:00:00\", \"count\": 85}, {\"date\": \"2020-06-03T00:00:00\", \"count\": 84}, {\"date\": \"2020-10-07T00:00:00\", \"count\": 82}, {\"date\": \"2019-05-01T00:00:00\", \"count\": 82}, {\"date\": \"2020-03-22T00:00:00\", \"count\": 80}, {\"date\": \"2020-01-25T00:00:00\", \"count\": 79}, {\"date\": \"2019-11-09T00:00:00\", \"count\": 78}, {\"date\": \"2020-01-24T00:00:00\", \"count\": 75}, {\"date\": \"2019-12-18T00:00:00\", \"count\": 75}, {\"date\": \"2020-10-31T00:00:00\", \"count\": 74}, {\"date\": \"2019-12-11T00:00:00\", \"count\": 73}, {\"date\": \"2020-10-24T00:00:00\", \"count\": 72}, {\"date\": \"2019-05-11T00:00:00\", \"count\": 72}, {\"date\": \"2020-02-08T00:00:00\", \"count\": 72}, {\"date\": \"2020-04-04T00:00:00\", \"count\": 70}, {\"date\": \"2020-09-07T00:00:00\", \"count\": 70}, {\"date\": \"2020-10-16T00:00:00\", \"count\": 68}, {\"date\": \"2019-12-19T00:00:00\", \"count\": 67}, {\"date\": \"2020-09-25T00:00:00\", \"count\": 66}, {\"date\": \"2020-07-04T00:00:00\", \"count\": 65}, {\"date\": \"2020-07-27T00:00:00\", \"count\": 65}, {\"date\": \"2020-10-30T00:00:00\", \"count\": 65}, {\"date\": \"2020-10-06T00:00:00\", \"count\": 65}, {\"date\": \"2020-04-30T00:00:00\", \"count\": 64}, {\"date\": \"2020-06-01T00:00:00\", \"count\": 63}, {\"date\": \"2020-07-26T00:00:00\", \"count\": 62}, {\"date\": \"2020-03-19T00:00:00\", \"count\": 62}, {\"date\": \"2020-09-10T00:00:00\", \"count\": 60}, {\"date\": \"2020-02-01T00:00:00\", \"count\": 60}, {\"date\": \"2019-10-11T00:00:00\", \"count\": 60}, {\"date\": \"2020-11-01T00:00:00\", \"count\": 60}, {\"date\": \"2019-09-26T00:00:00\", \"count\": 59}, {\"date\": \"2020-06-04T00:00:00\", \"count\": 58}, {\"date\": \"2020-10-17T00:00:00\", \"count\": 58}, {\"date\": \"2019-10-19T00:00:00\", \"count\": 58}, {\"date\": \"2020-09-13T00:00:00\", \"count\": 58}, {\"date\": \"2020-02-07T00:00:00\", \"count\": 58}, {\"date\": \"2019-08-31T00:00:00\", \"count\": 58}, {\"date\": \"2020-05-23T00:00:00\", \"count\": 57}, {\"date\": \"2020-07-17T00:00:00\", \"count\": 57}, {\"date\": \"2020-07-23T00:00:00\", \"count\": 57}, {\"date\": \"2020-10-15T00:00:00\", \"count\": 56}, {\"date\": \"2020-04-09T00:00:00\", \"count\": 56}, {\"date\": \"2020-09-29T00:00:00\", \"count\": 56}, {\"date\": \"2019-10-29T00:00:00\", \"count\": 55}, {\"date\": \"2020-09-30T00:00:00\", \"count\": 55}, {\"date\": \"2020-08-16T00:00:00\", \"count\": 55}, {\"date\": \"2020-08-18T00:00:00\", \"count\": 55}, {\"date\": \"2019-12-27T00:00:00\", \"count\": 55}, {\"date\": \"2020-04-18T00:00:00\", \"count\": 55}, {\"date\": \"2020-12-05T00:00:00\", \"count\": 55}, {\"date\": \"2020-09-04T00:00:00\", \"count\": 54}, {\"date\": \"2019-12-31T00:00:00\", \"count\": 53}, {\"date\": \"2020-01-21T00:00:00\", \"count\": 53}, {\"date\": \"2019-10-07T00:00:00\", \"count\": 53}, {\"date\": \"2020-08-24T00:00:00\", \"count\": 53}, {\"date\": \"2020-02-09T00:00:00\", \"count\": 53}, {\"date\": \"2020-08-25T00:00:00\", \"count\": 53}, {\"date\": \"2020-09-09T00:00:00\", \"count\": 52}, {\"date\": \"2020-03-23T00:00:00\", \"count\": 52}, {\"date\": \"2020-05-28T00:00:00\", \"count\": 52}, {\"date\": \"2020-08-01T00:00:00\", \"count\": 51}, {\"date\": \"2019-10-03T00:00:00\", \"count\": 51}, {\"date\": \"2020-05-16T00:00:00\", \"count\": 51}, {\"date\": \"2020-05-11T00:00:00\", \"count\": 51}, {\"date\": \"2020-08-29T00:00:00\", \"count\": 50}, {\"date\": \"2020-10-01T00:00:00\", \"count\": 50}, {\"date\": \"2020-03-02T00:00:00\", \"count\": 50}, {\"date\": \"2020-12-01T00:00:00\", \"count\": 50}, {\"date\": \"2019-11-13T00:00:00\", \"count\": 49}, {\"date\": \"2019-08-13T00:00:00\", \"count\": 48}, {\"date\": \"2019-12-20T00:00:00\", \"count\": 48}, {\"date\": \"2019-11-24T00:00:00\", \"count\": 48}, {\"date\": \"2019-11-17T00:00:00\", \"count\": 48}, {\"date\": \"2019-12-06T00:00:00\", \"count\": 48}, {\"date\": \"2020-11-12T00:00:00\", \"count\": 48}, {\"date\": \"2019-10-04T00:00:00\", \"count\": 48}, {\"date\": \"2020-07-29T00:00:00\", \"count\": 47}, {\"date\": \"2020-05-12T00:00:00\", \"count\": 47}, {\"date\": \"2020-10-22T00:00:00\", \"count\": 47}, {\"date\": \"2019-11-21T00:00:00\", \"count\": 47}, {\"date\": \"2020-06-09T00:00:00\", \"count\": 47}, {\"date\": \"2020-03-17T00:00:00\", \"count\": 47}, {\"date\": \"2020-03-12T00:00:00\", \"count\": 46}, {\"date\": \"2020-09-05T00:00:00\", \"count\": 46}, {\"date\": \"2020-06-13T00:00:00\", \"count\": 46}, {\"date\": \"2019-10-25T00:00:00\", \"count\": 46}, {\"date\": \"2019-07-04T00:00:00\", \"count\": 46}, {\"date\": \"2020-01-27T00:00:00\", \"count\": 46}, {\"date\": \"2020-02-19T00:00:00\", \"count\": 45}, {\"date\": \"2020-02-25T00:00:00\", \"count\": 45}, {\"date\": \"2019-07-12T00:00:00\", \"count\": 45}, {\"date\": \"2020-06-18T00:00:00\", \"count\": 45}, {\"date\": \"2020-11-15T00:00:00\", \"count\": 45}, {\"date\": \"2019-09-18T00:00:00\", \"count\": 45}, {\"date\": \"2020-06-29T00:00:00\", \"count\": 45}, {\"date\": \"2020-02-15T00:00:00\", \"count\": 45}, {\"date\": \"2020-05-19T00:00:00\", \"count\": 45}, {\"date\": \"2020-08-20T00:00:00\", \"count\": 45}, {\"date\": \"2020-10-21T00:00:00\", \"count\": 45}, {\"date\": \"2019-06-26T00:00:00\", \"count\": 45}, {\"date\": \"2020-02-21T00:00:00\", \"count\": 45}, {\"date\": \"2020-08-17T00:00:00\", \"count\": 44}, {\"date\": \"2020-09-24T00:00:00\", \"count\": 44}, {\"date\": \"2020-09-02T00:00:00\", \"count\": 44}, {\"date\": \"2020-04-26T00:00:00\", \"count\": 44}, {\"date\": \"2019-10-31T00:00:00\", \"count\": 44}, {\"date\": \"2019-06-15T00:00:00\", \"count\": 44}, {\"date\": \"2020-04-12T00:00:00\", \"count\": 44}, {\"date\": \"2019-11-05T00:00:00\", \"count\": 44}, {\"date\": \"2020-05-14T00:00:00\", \"count\": 44}, {\"date\": \"2020-06-30T00:00:00\", \"count\": 43}, {\"date\": \"2020-10-29T00:00:00\", \"count\": 43}, {\"date\": \"2020-08-26T00:00:00\", \"count\": 43}, {\"date\": \"2020-03-05T00:00:00\", \"count\": 43}, {\"date\": \"2019-09-28T00:00:00\", \"count\": 43}, {\"date\": \"2019-12-10T00:00:00\", \"count\": 43}, {\"date\": \"2020-10-26T00:00:00\", \"count\": 43}, {\"date\": \"2019-04-22T00:00:00\", \"count\": 43}, {\"date\": \"2019-07-11T00:00:00\", \"count\": 43}, {\"date\": \"2020-01-30T00:00:00\", \"count\": 43}, {\"date\": \"2020-09-17T00:00:00\", \"count\": 43}, {\"date\": \"2020-11-25T00:00:00\", \"count\": 43}, {\"date\": \"2019-10-09T00:00:00\", \"count\": 42}, {\"date\": \"2019-11-03T00:00:00\", \"count\": 42}, {\"date\": \"2020-03-27T00:00:00\", \"count\": 42}, {\"date\": \"2019-12-16T00:00:00\", \"count\": 42}, {\"date\": \"2020-09-23T00:00:00\", \"count\": 42}, {\"date\": \"2020-11-16T00:00:00\", \"count\": 41}, {\"date\": \"2020-11-24T00:00:00\", \"count\": 41}, {\"date\": \"2020-11-13T00:00:00\", \"count\": 41}, {\"date\": \"2019-01-20T00:00:00\", \"count\": 41}, {\"date\": \"2019-10-06T00:00:00\", \"count\": 41}, {\"date\": \"2019-10-23T00:00:00\", \"count\": 41}, {\"date\": \"2020-06-27T00:00:00\", \"count\": 41}, {\"date\": \"2020-07-11T00:00:00\", \"count\": 41}, {\"date\": \"2020-03-03T00:00:00\", \"count\": 41}, {\"date\": \"2019-12-04T00:00:00\", \"count\": 40}, {\"date\": \"2020-05-02T00:00:00\", \"count\": 40}, {\"date\": \"2020-04-23T00:00:00\", \"count\": 40}, {\"date\": \"2020-08-15T00:00:00\", \"count\": 40}, {\"date\": \"2020-01-10T00:00:00\", \"count\": 40}, {\"date\": \"2019-07-24T00:00:00\", \"count\": 40}, {\"date\": \"2019-11-15T00:00:00\", \"count\": 40}, {\"date\": \"2021-01-03T00:00:00\", \"count\": 40}, {\"date\": \"2019-11-19T00:00:00\", \"count\": 40}, {\"date\": \"2020-05-27T00:00:00\", \"count\": 39}, {\"date\": \"2020-02-24T00:00:00\", \"count\": 39}, {\"date\": \"2020-09-26T00:00:00\", \"count\": 39}, {\"date\": \"2019-09-29T00:00:00\", \"count\": 39}, {\"date\": \"2020-05-18T00:00:00\", \"count\": 39}, {\"date\": \"2020-07-02T00:00:00\", \"count\": 38}, {\"date\": \"2019-08-23T00:00:00\", \"count\": 38}, {\"date\": \"2019-08-25T00:00:00\", \"count\": 38}, {\"date\": \"2020-05-26T00:00:00\", \"count\": 38}, {\"date\": \"2020-11-14T00:00:00\", \"count\": 38}, {\"date\": \"2019-08-22T00:00:00\", \"count\": 38}, {\"date\": \"2020-11-21T00:00:00\", \"count\": 38}, {\"date\": \"2020-05-21T00:00:00\", \"count\": 38}, {\"date\": \"2020-09-21T00:00:00\", \"count\": 38}, {\"date\": \"2020-10-08T00:00:00\", \"count\": 37}, {\"date\": \"2020-09-28T00:00:00\", \"count\": 37}, {\"date\": \"2020-09-12T00:00:00\", \"count\": 37}, {\"date\": \"2019-09-01T00:00:00\", \"count\": 37}, {\"date\": \"2020-11-10T00:00:00\", \"count\": 37}, {\"date\": \"2019-09-11T00:00:00\", \"count\": 37}, {\"date\": \"2020-06-12T00:00:00\", \"count\": 37}, {\"date\": \"2020-06-02T00:00:00\", \"count\": 37}, {\"date\": \"2020-02-05T00:00:00\", \"count\": 37}, {\"date\": \"2020-06-07T00:00:00\", \"count\": 36}, {\"date\": \"2020-08-02T00:00:00\", \"count\": 36}, {\"date\": \"2020-03-09T00:00:00\", \"count\": 36}, {\"date\": \"2020-05-30T00:00:00\", \"count\": 36}, {\"date\": \"2020-03-29T00:00:00\", \"count\": 36}, {\"date\": \"2020-06-19T00:00:00\", \"count\": 36}, {\"date\": \"2020-05-17T00:00:00\", \"count\": 36}, {\"date\": \"2019-08-15T00:00:00\", \"count\": 36}, {\"date\": \"2020-01-14T00:00:00\", \"count\": 36}, {\"date\": \"2019-12-02T00:00:00\", \"count\": 35}, {\"date\": \"2020-12-08T00:00:00\", \"count\": 35}, {\"date\": \"2020-04-17T00:00:00\", \"count\": 35}, {\"date\": \"2019-11-20T00:00:00\", \"count\": 35}, {\"date\": \"2019-10-08T00:00:00\", \"count\": 35}, {\"date\": \"2020-09-06T00:00:00\", \"count\": 35}, {\"date\": \"2020-01-28T00:00:00\", \"count\": 35}, {\"date\": \"2019-09-16T00:00:00\", \"count\": 35}, {\"date\": \"2020-07-13T00:00:00\", \"count\": 35}, {\"date\": \"2020-12-10T00:00:00\", \"count\": 35}, {\"date\": \"2019-12-03T00:00:00\", \"count\": 35}, {\"date\": \"2019-12-15T00:00:00\", \"count\": 35}, {\"date\": \"2020-09-20T00:00:00\", \"count\": 35}, {\"date\": \"2020-09-22T00:00:00\", \"count\": 35}, {\"date\": \"2019-12-26T00:00:00\", \"count\": 34}, {\"date\": \"2019-07-14T00:00:00\", \"count\": 34}, {\"date\": \"2020-01-26T00:00:00\", \"count\": 34}, {\"date\": \"2020-08-05T00:00:00\", \"count\": 34}, {\"date\": \"2019-09-10T00:00:00\", \"count\": 34}, {\"date\": \"2020-10-25T00:00:00\", \"count\": 34}, {\"date\": \"2019-05-22T00:00:00\", \"count\": 34}, {\"date\": \"2019-03-08T00:00:00\", \"count\": 34}, {\"date\": \"2020-05-24T00:00:00\", \"count\": 33}, {\"date\": \"2019-09-02T00:00:00\", \"count\": 33}, {\"date\": \"2020-06-11T00:00:00\", \"count\": 33}, {\"date\": \"2020-08-03T00:00:00\", \"count\": 33}, {\"date\": \"2020-02-03T00:00:00\", \"count\": 33}, {\"date\": \"2019-09-09T00:00:00\", \"count\": 33}, {\"date\": \"2019-09-25T00:00:00\", \"count\": 33}, {\"date\": \"2020-03-10T00:00:00\", \"count\": 33}, {\"date\": \"2020-09-11T00:00:00\", \"count\": 33}, {\"date\": \"2020-11-27T00:00:00\", \"count\": 33}, {\"date\": \"2019-10-14T00:00:00\", \"count\": 33}, {\"date\": \"2020-04-20T00:00:00\", \"count\": 32}, {\"date\": \"2020-04-10T00:00:00\", \"count\": 32}, {\"date\": \"2019-08-20T00:00:00\", \"count\": 32}, {\"date\": \"2020-11-09T00:00:00\", \"count\": 32}, {\"date\": \"2020-05-05T00:00:00\", \"count\": 32}, {\"date\": \"2020-03-25T00:00:00\", \"count\": 32}, {\"date\": \"2019-11-02T00:00:00\", \"count\": 31}, {\"date\": \"2020-10-23T00:00:00\", \"count\": 31}, {\"date\": \"2020-09-03T00:00:00\", \"count\": 31}, {\"date\": \"2019-07-20T00:00:00\", \"count\": 31}, {\"date\": \"2018-09-14T00:00:00\", \"count\": 31}, {\"date\": \"2019-10-16T00:00:00\", \"count\": 31}, {\"date\": \"2020-02-10T00:00:00\", \"count\": 31}, {\"date\": \"2020-02-20T00:00:00\", \"count\": 31}, {\"date\": \"2019-11-01T00:00:00\", \"count\": 31}, {\"date\": \"2020-02-11T00:00:00\", \"count\": 31}, {\"date\": \"2019-07-13T00:00:00\", \"count\": 31}, {\"date\": \"2020-05-03T00:00:00\", \"count\": 31}, {\"date\": \"2019-10-22T00:00:00\", \"count\": 31}, {\"date\": \"2020-08-28T00:00:00\", \"count\": 31}, {\"date\": \"2020-08-07T00:00:00\", \"count\": 31}, {\"date\": \"2020-10-28T00:00:00\", \"count\": 31}, {\"date\": \"2018-11-04T00:00:00\", \"count\": 31}, {\"date\": \"2020-01-17T00:00:00\", \"count\": 31}, {\"date\": \"2020-04-19T00:00:00\", \"count\": 31}, {\"date\": \"2019-03-17T00:00:00\", \"count\": 30}, {\"date\": \"2020-01-09T00:00:00\", \"count\": 30}, {\"date\": \"2020-07-10T00:00:00\", \"count\": 30}, {\"date\": \"2020-04-29T00:00:00\", \"count\": 30}, {\"date\": \"2020-03-04T00:00:00\", \"count\": 30}, {\"date\": \"2020-04-11T00:00:00\", \"count\": 30}, {\"date\": \"2018-09-17T00:00:00\", \"count\": 30}, {\"date\": \"2019-08-17T00:00:00\", \"count\": 30}, {\"date\": \"2020-09-15T00:00:00\", \"count\": 30}, {\"date\": \"2020-06-28T00:00:00\", \"count\": 30}, {\"date\": \"2020-03-13T00:00:00\", \"count\": 30}, {\"date\": \"2019-11-14T00:00:00\", \"count\": 30}, {\"date\": \"2020-06-22T00:00:00\", \"count\": 30}, {\"date\": \"2020-12-26T00:00:00\", \"count\": 30}, {\"date\": \"2019-05-08T00:00:00\", \"count\": 30}, {\"date\": \"2020-09-01T00:00:00\", \"count\": 30}, {\"date\": \"2020-03-15T00:00:00\", \"count\": 30}, {\"date\": \"2020-12-04T00:00:00\", \"count\": 30}, {\"date\": \"2019-05-12T00:00:00\", \"count\": 29}, {\"date\": \"2019-09-05T00:00:00\", \"count\": 29}, {\"date\": \"2020-11-30T00:00:00\", \"count\": 29}, {\"date\": \"2020-08-12T00:00:00\", \"count\": 29}, {\"date\": \"2019-12-23T00:00:00\", \"count\": 29}, {\"date\": \"2020-10-05T00:00:00\", \"count\": 29}, {\"date\": \"2020-01-23T00:00:00\", \"count\": 29}, {\"date\": \"2019-10-01T00:00:00\", \"count\": 29}, {\"date\": \"2018-11-06T00:00:00\", \"count\": 29}, {\"date\": \"2020-01-12T00:00:00\", \"count\": 29}, {\"date\": \"2020-07-01T00:00:00\", \"count\": 29}, {\"date\": \"2019-05-23T00:00:00\", \"count\": 29}, {\"date\": \"2020-02-04T00:00:00\", \"count\": 29}, {\"date\": \"2020-05-20T00:00:00\", \"count\": 29}, {\"date\": \"2020-05-01T00:00:00\", \"count\": 28}, {\"date\": \"2021-01-01T00:00:00\", \"count\": 28}, {\"date\": \"2019-11-11T00:00:00\", \"count\": 28}, {\"date\": \"2020-05-15T00:00:00\", \"count\": 28}, {\"date\": \"2020-02-18T00:00:00\", \"count\": 28}, {\"date\": \"2020-04-25T00:00:00\", \"count\": 28}, {\"date\": \"2020-08-31T00:00:00\", \"count\": 28}, {\"date\": \"2020-01-29T00:00:00\", \"count\": 28}, {\"date\": \"2020-12-19T00:00:00\", \"count\": 28}, {\"date\": \"2019-10-21T00:00:00\", \"count\": 27}, {\"date\": \"2020-06-16T00:00:00\", \"count\": 27}, {\"date\": \"2020-03-24T00:00:00\", \"count\": 27}, {\"date\": \"2020-09-18T00:00:00\", \"count\": 27}, {\"date\": \"2020-11-06T00:00:00\", \"count\": 27}, {\"date\": \"2019-05-05T00:00:00\", \"count\": 27}, {\"date\": \"2020-01-20T00:00:00\", \"count\": 27}, {\"date\": \"2019-05-04T00:00:00\", \"count\": 27}, {\"date\": \"2021-01-05T00:00:00\", \"count\": 27}, {\"date\": \"2020-01-03T00:00:00\", \"count\": 27}, {\"date\": \"2020-07-06T00:00:00\", \"count\": 27}, {\"date\": \"2020-05-22T00:00:00\", \"count\": 27}, {\"date\": \"2020-07-15T00:00:00\", \"count\": 27}, {\"date\": \"2020-08-27T00:00:00\", \"count\": 27}, {\"date\": \"2020-02-26T00:00:00\", \"count\": 27}, {\"date\": \"2020-08-13T00:00:00\", \"count\": 26}, {\"date\": \"2020-02-02T00:00:00\", \"count\": 26}, {\"date\": \"2020-03-16T00:00:00\", \"count\": 26}, {\"date\": \"2019-08-21T00:00:00\", \"count\": 26}, {\"date\": \"2020-05-09T00:00:00\", \"count\": 26}, {\"date\": \"2019-08-30T00:00:00\", \"count\": 26}, {\"date\": \"2017-09-30T00:00:00\", \"count\": 26}, {\"date\": \"2019-09-07T00:00:00\", \"count\": 26}, {\"date\": \"2020-10-14T00:00:00\", \"count\": 26}, {\"date\": \"2020-03-01T00:00:00\", \"count\": 26}, {\"date\": \"2020-03-31T00:00:00\", \"count\": 26}, {\"date\": \"2019-09-30T00:00:00\", \"count\": 26}, {\"date\": \"2020-01-13T00:00:00\", \"count\": 26}, {\"date\": \"2021-01-02T00:00:00\", \"count\": 26}, {\"date\": \"2020-11-18T00:00:00\", \"count\": 26}, {\"date\": \"2019-12-14T00:00:00\", \"count\": 26}, {\"date\": \"2018-08-03T00:00:00\", \"count\": 25}, {\"date\": \"2019-12-13T00:00:00\", \"count\": 25}, {\"date\": \"2019-05-10T00:00:00\", \"count\": 25}, {\"date\": \"2019-10-18T00:00:00\", \"count\": 25}, {\"date\": \"2020-01-16T00:00:00\", \"count\": 25}, {\"date\": \"2018-06-05T00:00:00\", \"count\": 25}, {\"date\": \"2019-10-02T00:00:00\", \"count\": 25}, {\"date\": \"2019-09-03T00:00:00\", \"count\": 25}, {\"date\": \"2020-05-25T00:00:00\", \"count\": 25}, {\"date\": \"2019-10-30T00:00:00\", \"count\": 25}, {\"date\": \"2019-07-27T00:00:00\", \"count\": 25}, {\"date\": \"2019-07-29T00:00:00\", \"count\": 25}, {\"date\": \"2019-08-07T00:00:00\", \"count\": 25}, {\"date\": \"2019-07-30T00:00:00\", \"count\": 25}, {\"date\": \"2018-09-21T00:00:00\", \"count\": 25}, {\"date\": \"2019-08-16T00:00:00\", \"count\": 25}, {\"date\": \"2019-01-18T00:00:00\", \"count\": 25}, {\"date\": \"2020-11-20T00:00:00\", \"count\": 24}, {\"date\": \"2020-10-09T00:00:00\", \"count\": 24}, {\"date\": \"2020-04-06T00:00:00\", \"count\": 24}, {\"date\": \"2019-07-09T00:00:00\", \"count\": 24}, {\"date\": \"2020-06-10T00:00:00\", \"count\": 24}, {\"date\": \"2019-06-01T00:00:00\", \"count\": 24}, {\"date\": \"2020-11-11T00:00:00\", \"count\": 24}, {\"date\": \"2019-10-12T00:00:00\", \"count\": 24}, {\"date\": \"2018-06-23T00:00:00\", \"count\": 24}, {\"date\": \"2018-10-10T00:00:00\", \"count\": 24}, {\"date\": \"2019-11-16T00:00:00\", \"count\": 24}, {\"date\": \"2019-09-04T00:00:00\", \"count\": 24}, {\"date\": \"2019-03-12T00:00:00\", \"count\": 24}, {\"date\": \"2020-08-04T00:00:00\", \"count\": 24}, {\"date\": \"2017-09-20T00:00:00\", \"count\": 24}, {\"date\": \"2019-05-13T00:00:00\", \"count\": 24}, {\"date\": \"2020-12-06T00:00:00\", \"count\": 24}, {\"date\": \"2019-07-31T00:00:00\", \"count\": 23}, {\"date\": \"2019-05-25T00:00:00\", \"count\": 23}, {\"date\": \"2019-10-20T00:00:00\", \"count\": 23}, {\"date\": \"2020-10-19T00:00:00\", \"count\": 23}, {\"date\": \"2020-03-21T00:00:00\", \"count\": 23}, {\"date\": \"2020-07-24T00:00:00\", \"count\": 23}, {\"date\": \"2020-06-25T00:00:00\", \"count\": 23}, {\"date\": \"2018-11-05T00:00:00\", \"count\": 23}, {\"date\": \"2018-09-10T00:00:00\", \"count\": 23}, {\"date\": \"2019-10-26T00:00:00\", \"count\": 23}, {\"date\": \"2019-09-06T00:00:00\", \"count\": 23}, {\"date\": \"2020-10-11T00:00:00\", \"count\": 23}, {\"date\": \"2019-10-05T00:00:00\", \"count\": 23}, {\"date\": \"2020-04-05T00:00:00\", \"count\": 23}, {\"date\": \"2019-09-27T00:00:00\", \"count\": 23}, {\"date\": \"2020-08-10T00:00:00\", \"count\": 23}, {\"date\": \"2019-12-07T00:00:00\", \"count\": 23}, {\"date\": \"2020-12-11T00:00:00\", \"count\": 23}, {\"date\": \"2020-01-06T00:00:00\", \"count\": 23}, {\"date\": \"2019-11-10T00:00:00\", \"count\": 22}, {\"date\": \"2020-01-18T00:00:00\", \"count\": 22}, {\"date\": \"2020-11-19T00:00:00\", \"count\": 22}, {\"date\": \"2019-09-21T00:00:00\", \"count\": 22}, {\"date\": \"2019-06-12T00:00:00\", \"count\": 22}, {\"date\": \"2020-11-17T00:00:00\", \"count\": 22}, {\"date\": \"2020-12-29T00:00:00\", \"count\": 22}, {\"date\": \"2019-04-25T00:00:00\", \"count\": 22}, {\"date\": \"2018-10-16T00:00:00\", \"count\": 22}, {\"date\": \"2020-06-23T00:00:00\", \"count\": 22}, {\"date\": \"2019-10-17T00:00:00\", \"count\": 22}, {\"date\": \"2020-03-11T00:00:00\", \"count\": 22}, {\"date\": \"2018-09-13T00:00:00\", \"count\": 22}, {\"date\": \"2019-06-09T00:00:00\", \"count\": 22}, {\"date\": \"2018-04-17T00:00:00\", \"count\": 22}, {\"date\": \"2018-08-15T00:00:00\", \"count\": 22}, {\"date\": \"2020-07-03T00:00:00\", \"count\": 22}, {\"date\": \"2020-12-13T00:00:00\", \"count\": 22}, {\"date\": \"2018-11-03T00:00:00\", \"count\": 21}, {\"date\": \"2019-04-20T00:00:00\", \"count\": 21}, {\"date\": \"2018-12-21T00:00:00\", \"count\": 21}, {\"date\": \"2019-11-30T00:00:00\", \"count\": 21}, {\"date\": \"2020-02-28T00:00:00\", \"count\": 21}, {\"date\": \"2019-01-31T00:00:00\", \"count\": 21}, {\"date\": \"2020-04-24T00:00:00\", \"count\": 21}, {\"date\": \"2018-10-29T00:00:00\", \"count\": 21}, {\"date\": \"2019-03-16T00:00:00\", \"count\": 21}, {\"date\": \"2019-06-13T00:00:00\", \"count\": 21}, {\"date\": \"2020-12-18T00:00:00\", \"count\": 21}, {\"date\": \"2018-10-09T00:00:00\", \"count\": 21}, {\"date\": \"2020-12-02T00:00:00\", \"count\": 21}, {\"date\": \"2020-08-22T00:00:00\", \"count\": 21}, {\"date\": \"2020-06-24T00:00:00\", \"count\": 21}, {\"date\": \"2020-08-06T00:00:00\", \"count\": 21}, {\"date\": \"2020-05-29T00:00:00\", \"count\": 21}, {\"date\": \"2020-10-18T00:00:00\", \"count\": 21}, {\"date\": \"2019-10-13T00:00:00\", \"count\": 21}, {\"date\": \"2019-10-10T00:00:00\", \"count\": 21}, {\"date\": \"2019-07-02T00:00:00\", \"count\": 21}, {\"date\": \"2020-07-31T00:00:00\", \"count\": 21}, {\"date\": \"2019-10-15T00:00:00\", \"count\": 21}, {\"date\": \"2019-09-14T00:00:00\", \"count\": 21}, {\"date\": \"2020-09-27T00:00:00\", \"count\": 20}, {\"date\": \"2018-06-15T00:00:00\", \"count\": 20}, {\"date\": \"2018-07-03T00:00:00\", \"count\": 20}, {\"date\": \"2020-07-09T00:00:00\", \"count\": 20}, {\"date\": \"2018-07-11T00:00:00\", \"count\": 20}, {\"date\": \"2019-04-18T00:00:00\", \"count\": 20}, {\"date\": \"2018-07-31T00:00:00\", \"count\": 20}, {\"date\": \"2019-04-12T00:00:00\", \"count\": 20}, {\"date\": \"2020-04-08T00:00:00\", \"count\": 20}, {\"date\": \"2019-04-05T00:00:00\", \"count\": 20}, {\"date\": \"2019-07-19T00:00:00\", \"count\": 20}, {\"date\": \"2019-06-10T00:00:00\", \"count\": 20}, {\"date\": \"2019-12-17T00:00:00\", \"count\": 20}, {\"date\": \"2018-08-29T00:00:00\", \"count\": 20}, {\"date\": \"2017-11-29T00:00:00\", \"count\": 20}, {\"date\": \"2020-09-16T00:00:00\", \"count\": 20}, {\"date\": \"2020-03-18T00:00:00\", \"count\": 20}, {\"date\": \"2020-03-14T00:00:00\", \"count\": 20}, {\"date\": \"2019-11-06T00:00:00\", \"count\": 20}, {\"date\": \"2019-02-25T00:00:00\", \"count\": 20}, {\"date\": \"2018-10-22T00:00:00\", \"count\": 20}, {\"date\": \"2018-10-17T00:00:00\", \"count\": 20}, {\"date\": \"2020-02-14T00:00:00\", \"count\": 20}, {\"date\": \"2020-12-21T00:00:00\", \"count\": 20}, {\"date\": \"2018-06-07T00:00:00\", \"count\": 20}, {\"date\": \"2019-05-03T00:00:00\", \"count\": 20}, {\"date\": \"2018-09-20T00:00:00\", \"count\": 20}, {\"date\": \"2019-11-04T00:00:00\", \"count\": 20}, {\"date\": \"2019-05-19T00:00:00\", \"count\": 19}, {\"date\": \"2019-07-23T00:00:00\", \"count\": 19}, {\"date\": \"2017-11-28T00:00:00\", \"count\": 19}, {\"date\": \"2020-12-03T00:00:00\", \"count\": 19}, {\"date\": \"2019-11-12T00:00:00\", \"count\": 19}, {\"date\": \"2018-08-13T00:00:00\", \"count\": 19}, {\"date\": \"2018-06-25T00:00:00\", \"count\": 19}, {\"date\": \"2018-06-26T00:00:00\", \"count\": 19}, {\"date\": \"2019-04-09T00:00:00\", \"count\": 19}, {\"date\": \"2017-11-01T00:00:00\", \"count\": 19}, {\"date\": \"2020-07-25T00:00:00\", \"count\": 19}, {\"date\": \"2019-08-18T00:00:00\", \"count\": 19}, {\"date\": \"2020-12-20T00:00:00\", \"count\": 19}, {\"date\": \"2017-09-26T00:00:00\", \"count\": 19}, {\"date\": \"2018-10-31T00:00:00\", \"count\": 19}, {\"date\": \"2019-09-15T00:00:00\", \"count\": 19}, {\"date\": \"2020-01-07T00:00:00\", \"count\": 19}, {\"date\": \"2019-09-24T00:00:00\", \"count\": 19}, {\"date\": \"2019-01-15T00:00:00\", \"count\": 19}, {\"date\": \"2019-01-14T00:00:00\", \"count\": 19}, {\"date\": \"2019-05-20T00:00:00\", \"count\": 19}, {\"date\": \"2019-04-06T00:00:00\", \"count\": 19}, {\"date\": \"2019-10-28T00:00:00\", \"count\": 19}, {\"date\": \"2019-05-30T00:00:00\", \"count\": 19}, {\"date\": \"2020-04-02T00:00:00\", \"count\": 19}, {\"date\": \"2019-06-16T00:00:00\", \"count\": 19}, {\"date\": \"2020-10-10T00:00:00\", \"count\": 19}, {\"date\": \"2019-06-11T00:00:00\", \"count\": 19}, {\"date\": \"2019-06-03T00:00:00\", \"count\": 19}, {\"date\": \"2020-11-08T00:00:00\", \"count\": 19}, {\"date\": \"2019-06-08T00:00:00\", \"count\": 18}, {\"date\": \"2018-07-29T00:00:00\", \"count\": 18}, {\"date\": \"2019-11-23T00:00:00\", \"count\": 18}, {\"date\": \"2019-07-10T00:00:00\", \"count\": 18}, {\"date\": \"2019-04-23T00:00:00\", \"count\": 18}, {\"date\": \"2020-07-14T00:00:00\", \"count\": 18}, {\"date\": \"2020-04-28T00:00:00\", \"count\": 18}, {\"date\": \"2019-09-22T00:00:00\", \"count\": 18}, {\"date\": \"2018-06-17T00:00:00\", \"count\": 18}, {\"date\": \"2018-07-15T00:00:00\", \"count\": 18}, {\"date\": \"2018-12-07T00:00:00\", \"count\": 18}, {\"date\": \"2019-08-06T00:00:00\", \"count\": 18}, {\"date\": \"2020-07-16T00:00:00\", \"count\": 18}, {\"date\": \"2019-07-22T00:00:00\", \"count\": 18}, {\"date\": \"2018-05-25T00:00:00\", \"count\": 18}, {\"date\": \"2019-11-26T00:00:00\", \"count\": 18}, {\"date\": \"2018-06-21T00:00:00\", \"count\": 18}, {\"date\": \"2020-11-03T00:00:00\", \"count\": 18}, {\"date\": \"2019-05-14T00:00:00\", \"count\": 18}, {\"date\": \"2019-08-28T00:00:00\", \"count\": 18}, {\"date\": \"2020-12-12T00:00:00\", \"count\": 18}, {\"date\": \"2020-02-17T00:00:00\", \"count\": 18}, {\"date\": \"2018-10-18T00:00:00\", \"count\": 18}, {\"date\": \"2020-04-21T00:00:00\", \"count\": 18}, {\"date\": \"2019-08-03T00:00:00\", \"count\": 18}, {\"date\": \"2019-03-05T00:00:00\", \"count\": 18}, {\"date\": \"2020-05-31T00:00:00\", \"count\": 17}, {\"date\": \"2018-07-10T00:00:00\", \"count\": 17}, {\"date\": \"2017-10-31T00:00:00\", \"count\": 17}, {\"date\": \"2018-08-16T00:00:00\", \"count\": 17}, {\"date\": \"2019-11-25T00:00:00\", \"count\": 17}, {\"date\": \"2017-10-25T00:00:00\", \"count\": 17}, {\"date\": \"2020-02-12T00:00:00\", \"count\": 17}, {\"date\": \"2019-08-27T00:00:00\", \"count\": 17}, {\"date\": \"2019-03-09T00:00:00\", \"count\": 17}, {\"date\": \"2020-11-05T00:00:00\", \"count\": 17}, {\"date\": \"2020-11-22T00:00:00\", \"count\": 17}, {\"date\": \"2018-10-25T00:00:00\", \"count\": 17}, {\"date\": \"2019-03-13T00:00:00\", \"count\": 17}, {\"date\": \"2020-07-28T00:00:00\", \"count\": 17}, {\"date\": \"2018-10-27T00:00:00\", \"count\": 17}, {\"date\": \"2019-03-25T00:00:00\", \"count\": 17}, {\"date\": \"2018-08-22T00:00:00\", \"count\": 17}, {\"date\": \"2019-02-18T00:00:00\", \"count\": 17}, {\"date\": \"2020-07-30T00:00:00\", \"count\": 17}, {\"date\": \"2020-12-15T00:00:00\", \"count\": 17}, {\"date\": \"2018-11-29T00:00:00\", \"count\": 17}, {\"date\": \"2019-08-24T00:00:00\", \"count\": 17}, {\"date\": \"2019-05-27T00:00:00\", \"count\": 17}, {\"date\": \"2019-07-17T00:00:00\", \"count\": 17}, {\"date\": \"2018-06-02T00:00:00\", \"count\": 17}, {\"date\": \"2020-08-23T00:00:00\", \"count\": 17}, {\"date\": \"2017-07-25T00:00:00\", \"count\": 17}, {\"date\": \"2018-05-23T00:00:00\", \"count\": 17}, {\"date\": \"2020-08-19T00:00:00\", \"count\": 17}, {\"date\": \"2019-05-21T00:00:00\", \"count\": 17}, {\"date\": \"2019-07-25T00:00:00\", \"count\": 17}, {\"date\": \"2019-01-01T00:00:00\", \"count\": 17}, {\"date\": \"2019-12-09T00:00:00\", \"count\": 17}, {\"date\": \"2018-01-02T00:00:00\", \"count\": 16}, {\"date\": \"2020-04-27T00:00:00\", \"count\": 16}, {\"date\": \"2017-11-03T00:00:00\", \"count\": 16}, {\"date\": \"2019-01-05T00:00:00\", \"count\": 16}, {\"date\": \"2020-12-17T00:00:00\", \"count\": 16}, {\"date\": \"2017-10-11T00:00:00\", \"count\": 16}, {\"date\": \"2019-03-28T00:00:00\", \"count\": 16}, {\"date\": \"2018-08-24T00:00:00\", \"count\": 16}, {\"date\": \"2018-12-20T00:00:00\", \"count\": 16}, {\"date\": \"2020-04-13T00:00:00\", \"count\": 16}, {\"date\": \"2018-08-28T00:00:00\", \"count\": 16}, {\"date\": \"2018-09-01T00:00:00\", \"count\": 16}, {\"date\": \"2018-09-04T00:00:00\", \"count\": 16}, {\"date\": \"2017-10-13T00:00:00\", \"count\": 16}, {\"date\": \"2019-08-14T00:00:00\", \"count\": 16}, {\"date\": \"2017-10-27T00:00:00\", \"count\": 16}, {\"date\": \"2017-06-22T00:00:00\", \"count\": 16}, {\"date\": \"2019-11-22T00:00:00\", \"count\": 16}, {\"date\": \"2020-03-28T00:00:00\", \"count\": 16}, {\"date\": \"2019-11-18T00:00:00\", \"count\": 16}, {\"date\": \"2017-09-29T00:00:00\", \"count\": 16}, {\"date\": \"2017-10-18T00:00:00\", \"count\": 16}, {\"date\": \"2019-05-18T00:00:00\", \"count\": 16}, {\"date\": \"2019-03-03T00:00:00\", \"count\": 16}, {\"date\": \"2020-11-29T00:00:00\", \"count\": 16}, {\"date\": \"2017-08-25T00:00:00\", \"count\": 16}, {\"date\": \"2018-12-18T00:00:00\", \"count\": 16}, {\"date\": \"2018-06-22T00:00:00\", \"count\": 16}, {\"date\": \"2017-11-07T00:00:00\", \"count\": 16}, {\"date\": \"2019-04-15T00:00:00\", \"count\": 16}, {\"date\": \"2019-06-22T00:00:00\", \"count\": 16}, {\"date\": \"2018-07-30T00:00:00\", \"count\": 16}, {\"date\": \"2018-08-01T00:00:00\", \"count\": 16}, {\"date\": \"2018-07-25T00:00:00\", \"count\": 16}, {\"date\": \"2018-06-20T00:00:00\", \"count\": 16}, {\"date\": \"2018-07-27T00:00:00\", \"count\": 16}, {\"date\": \"2019-08-01T00:00:00\", \"count\": 16}, {\"date\": \"2019-07-07T00:00:00\", \"count\": 16}, {\"date\": \"2019-04-27T00:00:00\", \"count\": 16}, {\"date\": \"2020-01-31T00:00:00\", \"count\": 16}, {\"date\": \"2019-09-23T00:00:00\", \"count\": 16}, {\"date\": \"2019-12-05T00:00:00\", \"count\": 16}, {\"date\": \"2020-03-07T00:00:00\", \"count\": 16}, {\"date\": \"2020-12-30T00:00:00\", \"count\": 15}, {\"date\": \"2017-08-16T00:00:00\", \"count\": 15}, {\"date\": \"2020-04-22T00:00:00\", \"count\": 15}, {\"date\": \"2019-06-02T00:00:00\", \"count\": 15}, {\"date\": \"2019-07-26T00:00:00\", \"count\": 15}, {\"date\": \"2019-08-19T00:00:00\", \"count\": 15}, {\"date\": \"2018-04-18T00:00:00\", \"count\": 15}, {\"date\": \"2020-05-13T00:00:00\", \"count\": 15}, {\"date\": \"2019-04-24T00:00:00\", \"count\": 15}, {\"date\": \"2017-11-15T00:00:00\", \"count\": 15}, {\"date\": \"2018-12-31T00:00:00\", \"count\": 15}, {\"date\": \"2019-09-12T00:00:00\", \"count\": 15}, {\"date\": \"2018-11-27T00:00:00\", \"count\": 15}, {\"date\": \"2017-08-04T00:00:00\", \"count\": 15}, {\"date\": \"2018-09-11T00:00:00\", \"count\": 15}, {\"date\": \"2019-06-07T00:00:00\", \"count\": 15}, {\"date\": \"2020-01-11T00:00:00\", \"count\": 15}, {\"date\": \"2017-09-25T00:00:00\", \"count\": 15}, {\"date\": \"2017-09-17T00:00:00\", \"count\": 15}, {\"date\": \"2020-06-20T00:00:00\", \"count\": 15}, {\"date\": \"2020-12-09T00:00:00\", \"count\": 15}, {\"date\": \"2020-12-14T00:00:00\", \"count\": 15}, {\"date\": \"2019-07-06T00:00:00\", \"count\": 15}, {\"date\": \"2018-08-30T00:00:00\", \"count\": 15}, {\"date\": \"2019-06-18T00:00:00\", \"count\": 15}, {\"date\": \"2018-02-24T00:00:00\", \"count\": 15}, {\"date\": \"2018-09-03T00:00:00\", \"count\": 15}, {\"date\": \"2018-07-24T00:00:00\", \"count\": 15}, {\"date\": \"2019-03-18T00:00:00\", \"count\": 15}, {\"date\": \"2019-07-15T00:00:00\", \"count\": 15}, {\"date\": \"2019-09-08T00:00:00\", \"count\": 15}, {\"date\": \"2018-08-17T00:00:00\", \"count\": 15}, {\"date\": \"2017-07-22T00:00:00\", \"count\": 14}, {\"date\": \"2019-02-17T00:00:00\", \"count\": 14}, {\"date\": \"2018-10-12T00:00:00\", \"count\": 14}, {\"date\": \"2019-02-10T00:00:00\", \"count\": 14}, {\"date\": \"2017-08-24T00:00:00\", \"count\": 14}, {\"date\": \"2019-02-23T00:00:00\", \"count\": 14}, {\"date\": \"2020-08-08T00:00:00\", \"count\": 14}, {\"date\": \"2019-01-12T00:00:00\", \"count\": 14}, {\"date\": \"2019-12-28T00:00:00\", \"count\": 14}, {\"date\": \"2017-09-23T00:00:00\", \"count\": 14}, {\"date\": \"2019-01-13T00:00:00\", \"count\": 14}, {\"date\": \"2018-12-24T00:00:00\", \"count\": 14}, {\"date\": \"2020-01-01T00:00:00\", \"count\": 14}, {\"date\": \"2019-07-01T00:00:00\", \"count\": 14}, {\"date\": \"2019-06-25T00:00:00\", \"count\": 14}, {\"date\": \"2018-04-21T00:00:00\", \"count\": 14}, {\"date\": \"2019-06-04T00:00:00\", \"count\": 14}, {\"date\": \"2018-09-18T00:00:00\", \"count\": 14}, {\"date\": \"2018-06-12T00:00:00\", \"count\": 14}, {\"date\": \"2019-05-07T00:00:00\", \"count\": 14}, {\"date\": \"2020-11-26T00:00:00\", \"count\": 14}, {\"date\": \"2018-01-20T00:00:00\", \"count\": 14}, {\"date\": \"2018-05-30T00:00:00\", \"count\": 14}, {\"date\": \"2019-04-01T00:00:00\", \"count\": 14}, {\"date\": \"2018-04-02T00:00:00\", \"count\": 14}, {\"date\": \"2018-07-20T00:00:00\", \"count\": 14}, {\"date\": \"2020-12-07T00:00:00\", \"count\": 14}, {\"date\": \"2018-07-18T00:00:00\", \"count\": 14}, {\"date\": \"2017-06-19T00:00:00\", \"count\": 14}, {\"date\": \"2019-03-14T00:00:00\", \"count\": 14}, {\"date\": \"2019-05-17T00:00:00\", \"count\": 14}, {\"date\": \"2018-01-11T00:00:00\", \"count\": 14}, {\"date\": \"2019-07-16T00:00:00\", \"count\": 14}, {\"date\": \"2020-07-08T00:00:00\", \"count\": 14}, {\"date\": \"2018-06-30T00:00:00\", \"count\": 14}, {\"date\": \"2018-10-02T00:00:00\", \"count\": 14}, {\"date\": \"2019-03-10T00:00:00\", \"count\": 14}, {\"date\": \"2019-07-03T00:00:00\", \"count\": 14}, {\"date\": \"2019-10-24T00:00:00\", \"count\": 14}, {\"date\": \"2018-09-24T00:00:00\", \"count\": 14}, {\"date\": \"2020-11-04T00:00:00\", \"count\": 14}, {\"date\": \"2018-02-20T00:00:00\", \"count\": 14}, {\"date\": \"2020-05-04T00:00:00\", \"count\": 14}, {\"date\": \"2019-01-22T00:00:00\", \"count\": 13}, {\"date\": \"2019-05-02T00:00:00\", \"count\": 13}, {\"date\": \"2018-12-13T00:00:00\", \"count\": 13}, {\"date\": \"2018-04-19T00:00:00\", \"count\": 13}, {\"date\": \"2021-01-04T00:00:00\", \"count\": 13}, {\"date\": \"2019-04-29T00:00:00\", \"count\": 13}, {\"date\": \"2017-06-29T00:00:00\", \"count\": 13}, {\"date\": \"2019-07-28T00:00:00\", \"count\": 13}, {\"date\": \"2018-06-04T00:00:00\", \"count\": 13}, {\"date\": \"2019-05-09T00:00:00\", \"count\": 13}, {\"date\": \"2017-12-18T00:00:00\", \"count\": 13}, {\"date\": \"2018-11-30T00:00:00\", \"count\": 13}, {\"date\": \"2020-06-14T00:00:00\", \"count\": 13}, {\"date\": \"2018-12-23T00:00:00\", \"count\": 13}, {\"date\": \"2019-07-21T00:00:00\", \"count\": 13}, {\"date\": \"2021-01-06T00:00:00\", \"count\": 13}, {\"date\": \"2017-08-09T00:00:00\", \"count\": 13}, {\"date\": \"2017-08-07T00:00:00\", \"count\": 13}, {\"date\": \"2018-05-04T00:00:00\", \"count\": 13}, {\"date\": \"2020-06-06T00:00:00\", \"count\": 13}, {\"date\": \"2017-07-29T00:00:00\", \"count\": 13}, {\"date\": \"2017-05-28T00:00:00\", \"count\": 13}, {\"date\": \"2018-04-27T00:00:00\", \"count\": 13}, {\"date\": \"2017-07-14T00:00:00\", \"count\": 13}, {\"date\": \"2019-08-05T00:00:00\", \"count\": 13}, {\"date\": \"2018-09-08T00:00:00\", \"count\": 13}, {\"date\": \"2020-08-11T00:00:00\", \"count\": 13}, {\"date\": \"2018-08-14T00:00:00\", \"count\": 13}, {\"date\": \"2017-11-02T00:00:00\", \"count\": 13}, {\"date\": \"2018-08-20T00:00:00\", \"count\": 13}, {\"date\": \"2019-03-19T00:00:00\", \"count\": 13}, {\"date\": \"2020-02-22T00:00:00\", \"count\": 13}, {\"date\": \"2017-10-21T00:00:00\", \"count\": 13}, {\"date\": \"2020-02-06T00:00:00\", \"count\": 13}, {\"date\": \"2019-06-14T00:00:00\", \"count\": 13}, {\"date\": \"2019-03-02T00:00:00\", \"count\": 13}, {\"date\": \"2018-09-25T00:00:00\", \"count\": 13}, {\"date\": \"2019-03-04T00:00:00\", \"count\": 13}, {\"date\": \"2018-10-03T00:00:00\", \"count\": 13}, {\"date\": \"2018-10-13T00:00:00\", \"count\": 13}, {\"date\": \"2020-07-21T00:00:00\", \"count\": 13}, {\"date\": \"2017-09-15T00:00:00\", \"count\": 13}, {\"date\": \"2018-11-09T00:00:00\", \"count\": 13}, {\"date\": \"2018-08-04T00:00:00\", \"count\": 13}, {\"date\": \"2019-04-19T00:00:00\", \"count\": 13}, {\"date\": \"2018-04-11T00:00:00\", \"count\": 13}, {\"date\": \"2019-08-12T00:00:00\", \"count\": 13}, {\"date\": \"2019-08-10T00:00:00\", \"count\": 13}, {\"date\": \"2019-04-08T00:00:00\", \"count\": 13}, {\"date\": \"2019-02-11T00:00:00\", \"count\": 13}, {\"date\": \"2017-07-12T00:00:00\", \"count\": 13}, {\"date\": \"2019-05-24T00:00:00\", \"count\": 13}, {\"date\": \"2019-12-25T00:00:00\", \"count\": 12}, {\"date\": \"2019-02-08T00:00:00\", \"count\": 12}, {\"date\": \"2019-06-24T00:00:00\", \"count\": 12}, {\"date\": \"2019-09-19T00:00:00\", \"count\": 12}, {\"date\": \"2019-05-31T00:00:00\", \"count\": 12}, {\"date\": \"2019-08-08T00:00:00\", \"count\": 12}, {\"date\": \"2019-01-10T00:00:00\", \"count\": 12}, {\"date\": \"2019-01-26T00:00:00\", \"count\": 12}, {\"date\": \"2019-04-26T00:00:00\", \"count\": 12}, {\"date\": \"2019-01-09T00:00:00\", \"count\": 12}, {\"date\": \"2017-01-20T00:00:00\", \"count\": 12}, {\"date\": \"2017-06-26T00:00:00\", \"count\": 12}, {\"date\": \"2018-10-26T00:00:00\", \"count\": 12}, {\"date\": \"2017-06-06T00:00:00\", \"count\": 12}, {\"date\": \"2020-02-29T00:00:00\", \"count\": 12}, {\"date\": \"2018-01-15T00:00:00\", \"count\": 12}, {\"date\": \"2020-06-08T00:00:00\", \"count\": 12}, {\"date\": \"2018-11-13T00:00:00\", \"count\": 12}, {\"date\": \"2018-09-05T00:00:00\", \"count\": 12}, {\"date\": \"2017-07-01T00:00:00\", \"count\": 12}, {\"date\": \"2017-07-03T00:00:00\", \"count\": 12}, {\"date\": \"2018-07-23T00:00:00\", \"count\": 12}, {\"date\": \"2018-11-02T00:00:00\", \"count\": 12}, {\"date\": \"2017-12-09T00:00:00\", \"count\": 12}, {\"date\": \"2020-03-06T00:00:00\", \"count\": 12}, {\"date\": \"2017-08-14T00:00:00\", \"count\": 12}, {\"date\": \"2017-11-30T00:00:00\", \"count\": 12}, {\"date\": \"2017-11-22T00:00:00\", \"count\": 12}, {\"date\": \"2017-08-27T00:00:00\", \"count\": 12}, {\"date\": \"2018-08-18T00:00:00\", \"count\": 12}, {\"date\": \"2020-02-23T00:00:00\", \"count\": 12}, {\"date\": \"2020-07-22T00:00:00\", \"count\": 12}, {\"date\": \"2018-09-26T00:00:00\", \"count\": 12}, {\"date\": \"2018-09-15T00:00:00\", \"count\": 12}, {\"date\": \"2017-10-07T00:00:00\", \"count\": 12}, {\"date\": \"2018-07-14T00:00:00\", \"count\": 12}, {\"date\": \"2017-10-05T00:00:00\", \"count\": 12}, {\"date\": \"2018-12-08T00:00:00\", \"count\": 12}, {\"date\": \"2017-05-04T00:00:00\", \"count\": 12}, {\"date\": \"2020-04-07T00:00:00\", \"count\": 12}, {\"date\": \"2018-05-31T00:00:00\", \"count\": 12}, {\"date\": \"2018-05-18T00:00:00\", \"count\": 12}, {\"date\": \"2020-11-07T00:00:00\", \"count\": 12}, {\"date\": \"2018-12-16T00:00:00\", \"count\": 12}, {\"date\": \"2020-03-30T00:00:00\", \"count\": 12}, {\"date\": \"2017-04-27T00:00:00\", \"count\": 12}, {\"date\": \"2018-12-03T00:00:00\", \"count\": 12}, {\"date\": \"2018-06-13T00:00:00\", \"count\": 12}, {\"date\": \"2018-06-19T00:00:00\", \"count\": 12}, {\"date\": \"2018-06-27T00:00:00\", \"count\": 12}, {\"date\": \"2020-12-28T00:00:00\", \"count\": 12}, {\"date\": \"2019-03-22T00:00:00\", \"count\": 11}, {\"date\": \"2019-03-26T00:00:00\", \"count\": 11}, {\"date\": \"2017-10-08T00:00:00\", \"count\": 11}, {\"date\": \"2018-05-17T00:00:00\", \"count\": 11}, {\"date\": \"2017-10-17T00:00:00\", \"count\": 11}, {\"date\": \"2018-08-21T00:00:00\", \"count\": 11}, {\"date\": \"2020-04-03T00:00:00\", \"count\": 11}, {\"date\": \"2019-06-05T00:00:00\", \"count\": 11}, {\"date\": \"2019-04-02T00:00:00\", \"count\": 11}, {\"date\": \"2020-07-18T00:00:00\", \"count\": 11}, {\"date\": \"2019-04-04T00:00:00\", \"count\": 11}, {\"date\": \"2018-02-18T00:00:00\", \"count\": 11}, {\"date\": \"2020-07-12T00:00:00\", \"count\": 11}, {\"date\": \"2019-06-06T00:00:00\", \"count\": 11}, {\"date\": \"2019-04-11T00:00:00\", \"count\": 11}, {\"date\": \"2019-07-08T00:00:00\", \"count\": 11}, {\"date\": \"2020-04-15T00:00:00\", \"count\": 11}, {\"date\": \"2019-04-13T00:00:00\", \"count\": 11}, {\"date\": \"2017-12-22T00:00:00\", \"count\": 11}, {\"date\": \"2020-06-15T00:00:00\", \"count\": 11}, {\"date\": \"2019-04-16T00:00:00\", \"count\": 11}, {\"date\": \"2019-06-17T00:00:00\", \"count\": 11}, {\"date\": \"2019-06-19T00:00:00\", \"count\": 11}, {\"date\": \"2019-07-18T00:00:00\", \"count\": 11}, {\"date\": \"2018-07-19T00:00:00\", \"count\": 11}, {\"date\": \"2018-03-01T00:00:00\", \"count\": 11}, {\"date\": \"2019-06-29T00:00:00\", \"count\": 11}, {\"date\": \"2018-06-28T00:00:00\", \"count\": 11}, {\"date\": \"2019-03-15T00:00:00\", \"count\": 11}, {\"date\": \"2019-08-26T00:00:00\", \"count\": 11}, {\"date\": \"2017-07-27T00:00:00\", \"count\": 11}, {\"date\": \"2017-07-24T00:00:00\", \"count\": 11}, {\"date\": \"2017-07-09T00:00:00\", \"count\": 11}, {\"date\": \"2017-06-20T00:00:00\", \"count\": 11}, {\"date\": \"2019-02-09T00:00:00\", \"count\": 11}, {\"date\": \"2017-06-13T00:00:00\", \"count\": 11}, {\"date\": \"2020-09-19T00:00:00\", \"count\": 11}, {\"date\": \"2018-11-21T00:00:00\", \"count\": 11}, {\"date\": \"2017-05-12T00:00:00\", \"count\": 11}, {\"date\": \"2018-11-25T00:00:00\", \"count\": 11}, {\"date\": \"2017-05-10T00:00:00\", \"count\": 11}, {\"date\": \"2018-11-26T00:00:00\", \"count\": 11}, {\"date\": \"2019-01-30T00:00:00\", \"count\": 11}, {\"date\": \"2018-12-04T00:00:00\", \"count\": 11}, {\"date\": \"2019-11-07T00:00:00\", \"count\": 11}, {\"date\": \"2019-01-21T00:00:00\", \"count\": 11}, {\"date\": \"2018-12-11T00:00:00\", \"count\": 11}, {\"date\": \"2017-02-15T00:00:00\", \"count\": 11}, {\"date\": \"2018-12-19T00:00:00\", \"count\": 11}, {\"date\": \"2017-02-11T00:00:00\", \"count\": 11}, {\"date\": \"2018-12-27T00:00:00\", \"count\": 11}, {\"date\": \"2017-02-08T00:00:00\", \"count\": 11}, {\"date\": \"2017-07-26T00:00:00\", \"count\": 11}, {\"date\": \"2017-06-27T00:00:00\", \"count\": 11}, {\"date\": \"2017-09-14T00:00:00\", \"count\": 11}, {\"date\": \"2017-09-22T00:00:00\", \"count\": 11}, {\"date\": \"2019-12-24T00:00:00\", \"count\": 11}, {\"date\": \"2017-09-07T00:00:00\", \"count\": 11}, {\"date\": \"2018-10-04T00:00:00\", \"count\": 11}, {\"date\": \"2017-09-19T00:00:00\", \"count\": 11}, {\"date\": \"2018-05-07T00:00:00\", \"count\": 11}, {\"date\": \"2017-10-10T00:00:00\", \"count\": 10}, {\"date\": \"2018-04-24T00:00:00\", \"count\": 10}, {\"date\": \"2018-04-20T00:00:00\", \"count\": 10}, {\"date\": \"2017-10-12T00:00:00\", \"count\": 10}, {\"date\": \"2017-05-08T00:00:00\", \"count\": 10}, {\"date\": \"2017-09-24T00:00:00\", \"count\": 10}, {\"date\": \"2017-10-19T00:00:00\", \"count\": 10}, {\"date\": \"2020-12-16T00:00:00\", \"count\": 10}, {\"date\": \"2019-05-28T00:00:00\", \"count\": 10}, {\"date\": \"2019-08-29T00:00:00\", \"count\": 10}, {\"date\": \"2018-03-10T00:00:00\", \"count\": 10}, {\"date\": \"2020-12-24T00:00:00\", \"count\": 10}, {\"date\": \"2017-09-28T00:00:00\", \"count\": 10}, {\"date\": \"2017-08-03T00:00:00\", \"count\": 10}, {\"date\": \"2017-09-06T00:00:00\", \"count\": 10}, {\"date\": \"2017-09-02T00:00:00\", \"count\": 10}, {\"date\": \"2018-02-22T00:00:00\", \"count\": 10}, {\"date\": \"2020-05-07T00:00:00\", \"count\": 10}, {\"date\": \"2017-05-31T00:00:00\", \"count\": 10}, {\"date\": \"2019-09-20T00:00:00\", \"count\": 10}, {\"date\": \"2017-08-18T00:00:00\", \"count\": 10}, {\"date\": \"2017-11-23T00:00:00\", \"count\": 10}, {\"date\": \"2017-08-17T00:00:00\", \"count\": 10}, {\"date\": \"2017-12-03T00:00:00\", \"count\": 10}, {\"date\": \"2017-10-03T00:00:00\", \"count\": 10}, {\"date\": \"2017-06-28T00:00:00\", \"count\": 10}, {\"date\": \"2017-12-07T00:00:00\", \"count\": 10}, {\"date\": \"2017-12-28T00:00:00\", \"count\": 10}, {\"date\": \"2017-07-10T00:00:00\", \"count\": 10}, {\"date\": \"2018-05-02T00:00:00\", \"count\": 10}, {\"date\": \"2019-06-21T00:00:00\", \"count\": 10}, {\"date\": \"2018-09-06T00:00:00\", \"count\": 10}, {\"date\": \"2018-11-15T00:00:00\", \"count\": 10}, {\"date\": \"2018-09-09T00:00:00\", \"count\": 10}, {\"date\": \"2018-10-20T00:00:00\", \"count\": 10}, {\"date\": \"2019-01-27T00:00:00\", \"count\": 10}, {\"date\": \"2019-04-14T00:00:00\", \"count\": 10}, {\"date\": \"2020-02-27T00:00:00\", \"count\": 10}, {\"date\": \"2018-07-26T00:00:00\", \"count\": 10}, {\"date\": \"2020-02-13T00:00:00\", \"count\": 10}, {\"date\": \"2018-06-09T00:00:00\", \"count\": 10}, {\"date\": \"2018-10-05T00:00:00\", \"count\": 10}, {\"date\": \"2018-06-06T00:00:00\", \"count\": 10}, {\"date\": \"2018-11-12T00:00:00\", \"count\": 10}, {\"date\": \"2019-02-16T00:00:00\", \"count\": 10}, {\"date\": \"2018-11-07T00:00:00\", \"count\": 10}, {\"date\": \"2019-02-19T00:00:00\", \"count\": 10}, {\"date\": \"2019-04-21T00:00:00\", \"count\": 10}, {\"date\": \"2018-10-15T00:00:00\", \"count\": 10}, {\"date\": \"2019-02-24T00:00:00\", \"count\": 10}, {\"date\": \"2018-10-19T00:00:00\", \"count\": 10}, {\"date\": \"2018-09-07T00:00:00\", \"count\": 10}, {\"date\": \"2019-03-01T00:00:00\", \"count\": 10}, {\"date\": \"2019-01-24T00:00:00\", \"count\": 10}, {\"date\": \"2018-08-06T00:00:00\", \"count\": 10}, {\"date\": \"2019-03-29T00:00:00\", \"count\": 10}, {\"date\": \"2019-01-11T00:00:00\", \"count\": 10}, {\"date\": \"2018-05-16T00:00:00\", \"count\": 10}, {\"date\": \"2018-05-21T00:00:00\", \"count\": 10}, {\"date\": \"2018-08-27T00:00:00\", \"count\": 10}, {\"date\": \"2018-12-22T00:00:00\", \"count\": 10}, {\"date\": \"2019-03-20T00:00:00\", \"count\": 10}, {\"date\": \"2018-05-26T00:00:00\", \"count\": 10}, {\"date\": \"2018-05-28T00:00:00\", \"count\": 10}, {\"date\": \"2018-08-05T00:00:00\", \"count\": 10}, {\"date\": \"2017-09-10T00:00:00\", \"count\": 9}, {\"date\": \"2019-09-13T00:00:00\", \"count\": 9}, {\"date\": \"2017-09-01T00:00:00\", \"count\": 9}, {\"date\": \"2018-08-11T00:00:00\", \"count\": 9}, {\"date\": \"2018-08-31T00:00:00\", \"count\": 9}, {\"date\": \"2018-10-08T00:00:00\", \"count\": 9}, {\"date\": \"2017-09-27T00:00:00\", \"count\": 9}, {\"date\": \"2017-10-28T00:00:00\", \"count\": 9}, {\"date\": \"2018-08-23T00:00:00\", \"count\": 9}, {\"date\": \"2017-10-14T00:00:00\", \"count\": 9}, {\"date\": \"2020-03-20T00:00:00\", \"count\": 9}, {\"date\": \"2019-12-22T00:00:00\", \"count\": 9}, {\"date\": \"2018-08-25T00:00:00\", \"count\": 9}, {\"date\": \"2018-09-12T00:00:00\", \"count\": 9}, {\"date\": \"2017-07-16T00:00:00\", \"count\": 9}, {\"date\": \"2017-08-11T00:00:00\", \"count\": 9}, {\"date\": \"2017-08-08T00:00:00\", \"count\": 9}, {\"date\": \"2019-11-27T00:00:00\", \"count\": 9}, {\"date\": \"2017-01-25T00:00:00\", \"count\": 9}, {\"date\": \"2017-02-04T00:00:00\", \"count\": 9}, {\"date\": \"2018-12-29T00:00:00\", \"count\": 9}, {\"date\": \"2020-12-23T00:00:00\", \"count\": 9}, {\"date\": \"2018-12-14T00:00:00\", \"count\": 9}, {\"date\": \"2017-02-17T00:00:00\", \"count\": 9}, {\"date\": \"2017-03-03T00:00:00\", \"count\": 9}, {\"date\": \"2017-03-15T00:00:00\", \"count\": 9}, {\"date\": \"2017-03-17T00:00:00\", \"count\": 9}, {\"date\": \"2019-11-08T00:00:00\", \"count\": 9}, {\"date\": \"2017-03-30T00:00:00\", \"count\": 9}, {\"date\": \"2020-10-20T00:00:00\", \"count\": 9}, {\"date\": \"2017-04-26T00:00:00\", \"count\": 9}, {\"date\": \"2018-12-05T00:00:00\", \"count\": 9}, {\"date\": \"2020-01-02T00:00:00\", \"count\": 9}, {\"date\": \"2017-06-02T00:00:00\", \"count\": 9}, {\"date\": \"2017-06-05T00:00:00\", \"count\": 9}, {\"date\": \"2019-02-07T00:00:00\", \"count\": 9}, {\"date\": \"2017-06-16T00:00:00\", \"count\": 9}, {\"date\": \"2019-02-12T00:00:00\", \"count\": 9}, {\"date\": \"2019-02-13T00:00:00\", \"count\": 9}, {\"date\": \"2017-11-06T00:00:00\", \"count\": 9}, {\"date\": \"2019-02-20T00:00:00\", \"count\": 9}, {\"date\": \"2018-11-01T00:00:00\", \"count\": 9}, {\"date\": \"2018-10-30T00:00:00\", \"count\": 9}, {\"date\": \"2017-08-05T00:00:00\", \"count\": 9}, {\"date\": \"2019-08-11T00:00:00\", \"count\": 9}, {\"date\": \"2018-05-09T00:00:00\", \"count\": 9}, {\"date\": \"2018-03-13T00:00:00\", \"count\": 9}, {\"date\": \"2019-04-30T00:00:00\", \"count\": 9}, {\"date\": \"2018-02-23T00:00:00\", \"count\": 9}, {\"date\": \"2018-07-05T00:00:00\", \"count\": 9}, {\"date\": \"2018-07-07T00:00:00\", \"count\": 9}, {\"date\": \"2018-07-22T00:00:00\", \"count\": 9}, {\"date\": \"2018-04-15T00:00:00\", \"count\": 9}, {\"date\": \"2018-01-04T00:00:00\", \"count\": 9}, {\"date\": \"2020-05-08T00:00:00\", \"count\": 9}, {\"date\": \"2018-04-12T00:00:00\", \"count\": 9}, {\"date\": \"2018-07-09T00:00:00\", \"count\": 9}, {\"date\": \"2018-02-17T00:00:00\", \"count\": 9}, {\"date\": \"2018-02-10T00:00:00\", \"count\": 9}, {\"date\": \"2018-01-16T00:00:00\", \"count\": 9}, {\"date\": \"2018-01-18T00:00:00\", \"count\": 9}, {\"date\": \"2020-04-14T00:00:00\", \"count\": 9}, {\"date\": \"2018-03-21T00:00:00\", \"count\": 9}, {\"date\": \"2018-03-28T00:00:00\", \"count\": 9}, {\"date\": \"2018-05-20T00:00:00\", \"count\": 9}, {\"date\": \"2017-12-15T00:00:00\", \"count\": 9}, {\"date\": \"2019-08-02T00:00:00\", \"count\": 9}, {\"date\": \"2017-11-13T00:00:00\", \"count\": 9}, {\"date\": \"2019-05-06T00:00:00\", \"count\": 9}, {\"date\": \"2020-03-26T00:00:00\", \"count\": 9}, {\"date\": \"2018-05-15T00:00:00\", \"count\": 9}, {\"date\": \"2018-03-06T00:00:00\", \"count\": 9}, {\"date\": \"2018-08-07T00:00:00\", \"count\": 9}, {\"date\": \"2018-03-14T00:00:00\", \"count\": 9}, {\"date\": \"2018-02-27T00:00:00\", \"count\": 9}, {\"date\": \"2019-04-10T00:00:00\", \"count\": 9}, {\"date\": \"2017-12-08T00:00:00\", \"count\": 9}, {\"date\": \"2018-08-02T00:00:00\", \"count\": 9}, {\"date\": \"2020-05-06T00:00:00\", \"count\": 9}, {\"date\": \"2018-07-12T00:00:00\", \"count\": 9}, {\"date\": \"2018-11-22T00:00:00\", \"count\": 8}, {\"date\": \"2019-02-01T00:00:00\", \"count\": 8}, {\"date\": \"2018-06-08T00:00:00\", \"count\": 8}, {\"date\": \"2020-10-04T00:00:00\", \"count\": 8}, {\"date\": \"2018-11-19T00:00:00\", \"count\": 8}, {\"date\": \"2018-11-28T00:00:00\", \"count\": 8}, {\"date\": \"2017-05-05T00:00:00\", \"count\": 8}, {\"date\": \"2018-03-25T00:00:00\", \"count\": 8}, {\"date\": \"2019-08-09T00:00:00\", \"count\": 8}, {\"date\": \"2020-04-16T00:00:00\", \"count\": 8}, {\"date\": \"2017-04-23T00:00:00\", \"count\": 8}, {\"date\": \"2017-01-24T00:00:00\", \"count\": 8}, {\"date\": \"2017-01-30T00:00:00\", \"count\": 8}, {\"date\": \"2019-05-26T00:00:00\", \"count\": 8}, {\"date\": \"2017-02-03T00:00:00\", \"count\": 8}, {\"date\": \"2019-05-16T00:00:00\", \"count\": 8}, {\"date\": \"2020-12-25T00:00:00\", \"count\": 8}, {\"date\": \"2019-05-29T00:00:00\", \"count\": 8}, {\"date\": \"2020-01-19T00:00:00\", \"count\": 8}, {\"date\": \"2019-05-15T00:00:00\", \"count\": 8}, {\"date\": \"2020-12-22T00:00:00\", \"count\": 8}, {\"date\": \"2018-04-22T00:00:00\", \"count\": 8}, {\"date\": \"2018-04-16T00:00:00\", \"count\": 8}, {\"date\": \"2018-12-06T00:00:00\", \"count\": 8}, {\"date\": \"2020-11-28T00:00:00\", \"count\": 8}, {\"date\": \"2018-05-24T00:00:00\", \"count\": 8}, {\"date\": \"2018-04-08T00:00:00\", \"count\": 8}, {\"date\": \"2019-01-23T00:00:00\", \"count\": 8}, {\"date\": \"2017-06-09T00:00:00\", \"count\": 8}, {\"date\": \"2018-04-03T00:00:00\", \"count\": 8}, {\"date\": \"2017-03-31T00:00:00\", \"count\": 8}, {\"date\": \"2017-04-21T00:00:00\", \"count\": 8}, {\"date\": \"2017-03-20T00:00:00\", \"count\": 8}, {\"date\": \"2017-07-11T00:00:00\", \"count\": 8}, {\"date\": \"2017-06-11T00:00:00\", \"count\": 8}, {\"date\": \"2020-06-21T00:00:00\", \"count\": 8}, {\"date\": \"2018-01-10T00:00:00\", \"count\": 8}, {\"date\": \"2018-01-09T00:00:00\", \"count\": 8}, {\"date\": \"2017-09-18T00:00:00\", \"count\": 8}, {\"date\": \"2018-10-01T00:00:00\", \"count\": 8}, {\"date\": \"2017-12-31T00:00:00\", \"count\": 8}, {\"date\": \"2017-12-29T00:00:00\", \"count\": 8}, {\"date\": \"2020-06-17T00:00:00\", \"count\": 8}, {\"date\": \"2017-10-01T00:00:00\", \"count\": 8}, {\"date\": \"2017-10-04T00:00:00\", \"count\": 8}, {\"date\": \"2018-11-16T00:00:00\", \"count\": 8}, {\"date\": \"2018-08-26T00:00:00\", \"count\": 8}, {\"date\": \"2019-04-07T00:00:00\", \"count\": 8}, {\"date\": \"2019-03-27T00:00:00\", \"count\": 8}, {\"date\": \"2017-10-20T00:00:00\", \"count\": 8}, {\"date\": \"2017-10-24T00:00:00\", \"count\": 8}, {\"date\": \"2017-10-26T00:00:00\", \"count\": 8}, {\"date\": \"2018-08-10T00:00:00\", \"count\": 8}, {\"date\": \"2017-11-16T00:00:00\", \"count\": 8}, {\"date\": \"2018-01-12T00:00:00\", \"count\": 8}, {\"date\": \"2018-01-13T00:00:00\", \"count\": 8}, {\"date\": \"2018-07-17T00:00:00\", \"count\": 8}, {\"date\": \"2017-08-30T00:00:00\", \"count\": 8}, {\"date\": \"2019-01-03T00:00:00\", \"count\": 8}, {\"date\": \"2018-03-02T00:00:00\", \"count\": 8}, {\"date\": \"2018-06-18T00:00:00\", \"count\": 8}, {\"date\": \"2019-02-14T00:00:00\", \"count\": 8}, {\"date\": \"2018-02-28T00:00:00\", \"count\": 8}, {\"date\": \"2017-11-11T00:00:00\", \"count\": 8}, {\"date\": \"2017-07-28T00:00:00\", \"count\": 8}, {\"date\": \"2017-08-12T00:00:00\", \"count\": 8}, {\"date\": \"2018-10-24T00:00:00\", \"count\": 8}, {\"date\": \"2017-08-15T00:00:00\", \"count\": 8}, {\"date\": \"2019-02-27T00:00:00\", \"count\": 8}, {\"date\": \"2018-10-23T00:00:00\", \"count\": 8}, {\"date\": \"2017-08-19T00:00:00\", \"count\": 8}, {\"date\": \"2017-08-22T00:00:00\", \"count\": 8}, {\"date\": \"2019-09-17T00:00:00\", \"count\": 8}, {\"date\": \"2017-08-23T00:00:00\", \"count\": 8}, {\"date\": \"2017-08-26T00:00:00\", \"count\": 8}, {\"date\": \"2018-01-17T00:00:00\", \"count\": 8}, {\"date\": \"2020-07-05T00:00:00\", \"count\": 7}, {\"date\": \"2020-01-15T00:00:00\", \"count\": 7}, {\"date\": \"2019-01-17T00:00:00\", \"count\": 7}, {\"date\": \"2018-06-10T00:00:00\", \"count\": 7}, {\"date\": \"2017-12-02T00:00:00\", \"count\": 7}, {\"date\": \"2018-01-19T00:00:00\", \"count\": 7}, {\"date\": \"2018-01-14T00:00:00\", \"count\": 7}, {\"date\": \"2018-01-07T00:00:00\", \"count\": 7}, {\"date\": \"2018-06-01T00:00:00\", \"count\": 7}, {\"date\": \"2017-04-22T00:00:00\", \"count\": 7}, {\"date\": \"2017-02-12T00:00:00\", \"count\": 7}, {\"date\": \"2018-09-16T00:00:00\", \"count\": 7}, {\"date\": \"2017-03-07T00:00:00\", \"count\": 7}, {\"date\": \"2017-06-18T00:00:00\", \"count\": 7}, {\"date\": \"2019-01-06T00:00:00\", \"count\": 7}, {\"date\": \"2019-01-07T00:00:00\", \"count\": 7}, {\"date\": \"2019-01-08T00:00:00\", \"count\": 7}, {\"date\": \"2017-12-14T00:00:00\", \"count\": 7}, {\"date\": \"2017-02-09T00:00:00\", \"count\": 7}, {\"date\": \"2019-01-19T00:00:00\", \"count\": 7}, {\"date\": \"2018-01-23T00:00:00\", \"count\": 7}, {\"date\": \"2017-04-18T00:00:00\", \"count\": 7}, {\"date\": \"2018-01-26T00:00:00\", \"count\": 7}, {\"date\": \"2017-04-01T00:00:00\", \"count\": 7}, {\"date\": \"2017-04-03T00:00:00\", \"count\": 7}, {\"date\": \"2018-10-06T00:00:00\", \"count\": 7}, {\"date\": \"2018-02-15T00:00:00\", \"count\": 7}, {\"date\": \"2017-03-04T00:00:00\", \"count\": 7}, {\"date\": \"2018-10-14T00:00:00\", \"count\": 7}, {\"date\": \"2018-02-06T00:00:00\", \"count\": 7}, {\"date\": \"2018-11-10T00:00:00\", \"count\": 7}, {\"date\": \"2017-04-17T00:00:00\", \"count\": 7}, {\"date\": \"2018-11-11T00:00:00\", \"count\": 7}, {\"date\": \"2018-09-19T00:00:00\", \"count\": 7}, {\"date\": \"2018-11-17T00:00:00\", \"count\": 7}, {\"date\": \"2018-11-18T00:00:00\", \"count\": 7}, {\"date\": \"2018-02-03T00:00:00\", \"count\": 7}, {\"date\": \"2017-04-16T00:00:00\", \"count\": 7}, {\"date\": \"2019-01-28T00:00:00\", \"count\": 7}, {\"date\": \"2018-03-12T00:00:00\", \"count\": 7}, {\"date\": \"2017-12-01T00:00:00\", \"count\": 7}, {\"date\": \"2017-07-21T00:00:00\", \"count\": 7}, {\"date\": \"2019-03-21T00:00:00\", \"count\": 7}, {\"date\": \"2017-01-27T00:00:00\", \"count\": 7}, {\"date\": \"2017-05-27T00:00:00\", \"count\": 7}, {\"date\": \"2018-05-08T00:00:00\", \"count\": 7}, {\"date\": \"2019-04-17T00:00:00\", \"count\": 7}, {\"date\": \"2018-06-24T00:00:00\", \"count\": 7}, {\"date\": \"2019-06-27T00:00:00\", \"count\": 7}, {\"date\": \"2017-09-08T00:00:00\", \"count\": 7}, {\"date\": \"2017-07-18T00:00:00\", \"count\": 7}, {\"date\": \"2019-06-30T00:00:00\", \"count\": 7}, {\"date\": \"2017-07-15T00:00:00\", \"count\": 7}, {\"date\": \"2018-06-14T00:00:00\", \"count\": 7}, {\"date\": \"2018-05-29T00:00:00\", \"count\": 7}, {\"date\": \"2019-11-28T00:00:00\", \"count\": 7}, {\"date\": \"2018-05-01T00:00:00\", \"count\": 7}, {\"date\": \"2018-04-30T00:00:00\", \"count\": 7}, {\"date\": \"2017-11-10T00:00:00\", \"count\": 7}, {\"date\": \"2019-02-28T00:00:00\", \"count\": 7}, {\"date\": \"2019-02-26T00:00:00\", \"count\": 7}, {\"date\": \"2018-04-28T00:00:00\", \"count\": 7}, {\"date\": \"2019-02-21T00:00:00\", \"count\": 7}, {\"date\": \"2017-01-29T00:00:00\", \"count\": 7}, {\"date\": \"2018-04-25T00:00:00\", \"count\": 7}, {\"date\": \"2017-10-16T00:00:00\", \"count\": 7}, {\"date\": \"2018-04-06T00:00:00\", \"count\": 7}, {\"date\": \"2018-04-07T00:00:00\", \"count\": 7}, {\"date\": \"2018-07-16T00:00:00\", \"count\": 7}, {\"date\": \"2017-11-04T00:00:00\", \"count\": 7}, {\"date\": \"2018-04-29T00:00:00\", \"count\": 6}, {\"date\": \"2017-03-28T00:00:00\", \"count\": 6}, {\"date\": \"2018-05-14T00:00:00\", \"count\": 6}, {\"date\": \"2018-03-15T00:00:00\", \"count\": 6}, {\"date\": \"2018-04-13T00:00:00\", \"count\": 6}, {\"date\": \"2018-03-23T00:00:00\", \"count\": 6}, {\"date\": \"2018-03-09T00:00:00\", \"count\": 6}, {\"date\": \"2018-05-03T00:00:00\", \"count\": 6}, {\"date\": \"2018-04-04T00:00:00\", \"count\": 6}, {\"date\": \"2018-03-22T00:00:00\", \"count\": 6}, {\"date\": \"2018-03-08T00:00:00\", \"count\": 6}, {\"date\": \"2017-10-29T00:00:00\", \"count\": 6}, {\"date\": \"2017-06-30T00:00:00\", \"count\": 6}, {\"date\": \"2017-07-07T00:00:00\", \"count\": 6}, {\"date\": \"2017-07-23T00:00:00\", \"count\": 6}, {\"date\": \"2017-05-30T00:00:00\", \"count\": 6}, {\"date\": \"2017-08-10T00:00:00\", \"count\": 6}, {\"date\": \"2017-08-21T00:00:00\", \"count\": 6}, {\"date\": \"2017-08-29T00:00:00\", \"count\": 6}, {\"date\": \"2017-09-05T00:00:00\", \"count\": 6}, {\"date\": \"2017-09-13T00:00:00\", \"count\": 6}, {\"date\": \"2017-09-21T00:00:00\", \"count\": 6}, {\"date\": \"2017-10-09T00:00:00\", \"count\": 6}, {\"date\": \"2017-11-19T00:00:00\", \"count\": 6}, {\"date\": \"2017-04-11T00:00:00\", \"count\": 6}, {\"date\": \"2017-05-07T00:00:00\", \"count\": 6}, {\"date\": \"2017-11-24T00:00:00\", \"count\": 6}, {\"date\": \"2020-06-26T00:00:00\", \"count\": 6}, {\"date\": \"2017-12-12T00:00:00\", \"count\": 6}, {\"date\": \"2017-04-28T00:00:00\", \"count\": 6}, {\"date\": \"2017-12-23T00:00:00\", \"count\": 6}, {\"date\": \"2017-12-24T00:00:00\", \"count\": 6}, {\"date\": \"2017-04-24T00:00:00\", \"count\": 6}, {\"date\": \"2017-04-12T00:00:00\", \"count\": 6}, {\"date\": \"2018-02-05T00:00:00\", \"count\": 6}, {\"date\": \"2018-02-08T00:00:00\", \"count\": 6}, {\"date\": \"2017-12-30T00:00:00\", \"count\": 6}, {\"date\": \"2017-06-15T00:00:00\", \"count\": 6}, {\"date\": \"2018-08-09T00:00:00\", \"count\": 6}, {\"date\": \"2017-01-26T00:00:00\", \"count\": 6}, {\"date\": \"2017-02-02T00:00:00\", \"count\": 6}, {\"date\": \"2020-01-04T00:00:00\", \"count\": 6}, {\"date\": \"2017-02-05T00:00:00\", \"count\": 6}, {\"date\": \"2017-02-06T00:00:00\", \"count\": 6}, {\"date\": \"2019-02-05T00:00:00\", \"count\": 6}, {\"date\": \"2017-03-08T00:00:00\", \"count\": 6}, {\"date\": \"2018-07-21T00:00:00\", \"count\": 6}, {\"date\": \"2019-01-04T00:00:00\", \"count\": 6}, {\"date\": \"2019-02-22T00:00:00\", \"count\": 6}, {\"date\": \"2017-03-06T00:00:00\", \"count\": 6}, {\"date\": \"2018-06-11T00:00:00\", \"count\": 6}, {\"date\": \"2019-03-06T00:00:00\", \"count\": 6}, {\"date\": \"2019-07-05T00:00:00\", \"count\": 6}, {\"date\": \"2017-02-25T00:00:00\", \"count\": 6}, {\"date\": \"2019-10-27T00:00:00\", \"count\": 6}, {\"date\": \"2017-02-16T00:00:00\", \"count\": 6}, {\"date\": \"2018-10-11T00:00:00\", \"count\": 6}, {\"date\": \"2018-08-19T00:00:00\", \"count\": 6}, {\"date\": \"2018-01-06T00:00:00\", \"count\": 5}, {\"date\": \"2017-12-20T00:00:00\", \"count\": 5}, {\"date\": \"2020-07-07T00:00:00\", \"count\": 5}, {\"date\": \"2018-11-23T00:00:00\", \"count\": 5}, {\"date\": \"2018-12-28T00:00:00\", \"count\": 5}, {\"date\": \"2017-11-25T00:00:00\", \"count\": 5}, {\"date\": \"2017-11-27T00:00:00\", \"count\": 5}, {\"date\": \"2018-01-27T00:00:00\", \"count\": 5}, {\"date\": \"2017-12-06T00:00:00\", \"count\": 5}, {\"date\": \"2017-04-30T00:00:00\", \"count\": 5}, {\"date\": \"2019-01-02T00:00:00\", \"count\": 5}, {\"date\": \"2017-12-21T00:00:00\", \"count\": 5}, {\"date\": \"2018-01-05T00:00:00\", \"count\": 5}, {\"date\": \"2018-01-08T00:00:00\", \"count\": 5}, {\"date\": \"2018-12-15T00:00:00\", \"count\": 5}, {\"date\": \"2017-04-25T00:00:00\", \"count\": 5}, {\"date\": \"2017-12-19T00:00:00\", \"count\": 5}, {\"date\": \"2018-12-17T00:00:00\", \"count\": 5}, {\"date\": \"2018-06-03T00:00:00\", \"count\": 5}, {\"date\": \"2017-05-02T00:00:00\", \"count\": 5}, {\"date\": \"2017-09-03T00:00:00\", \"count\": 5}, {\"date\": \"2017-06-23T00:00:00\", \"count\": 5}, {\"date\": \"2017-07-06T00:00:00\", \"count\": 5}, {\"date\": \"2019-08-04T00:00:00\", \"count\": 5}, {\"date\": \"2017-07-08T00:00:00\", \"count\": 5}, {\"date\": \"2017-06-12T00:00:00\", \"count\": 5}, {\"date\": \"2019-06-23T00:00:00\", \"count\": 5}, {\"date\": \"2019-06-20T00:00:00\", \"count\": 5}, {\"date\": \"2017-08-02T00:00:00\", \"count\": 5}, {\"date\": \"2017-08-06T00:00:00\", \"count\": 5}, {\"date\": \"2019-03-11T00:00:00\", \"count\": 5}, {\"date\": \"2020-08-09T00:00:00\", \"count\": 5}, {\"date\": \"2019-12-21T00:00:00\", \"count\": 5}, {\"date\": \"2017-11-17T00:00:00\", \"count\": 5}, {\"date\": \"2017-09-12T00:00:00\", \"count\": 5}, {\"date\": \"2020-12-31T00:00:00\", \"count\": 5}, {\"date\": \"2017-01-31T00:00:00\", \"count\": 5}, {\"date\": \"2017-05-18T00:00:00\", \"count\": 5}, {\"date\": \"2019-12-30T00:00:00\", \"count\": 5}, {\"date\": \"2017-05-16T00:00:00\", \"count\": 5}, {\"date\": \"2017-05-11T00:00:00\", \"count\": 5}, {\"date\": \"2017-11-08T00:00:00\", \"count\": 5}, {\"date\": \"2017-11-09T00:00:00\", \"count\": 5}, {\"date\": \"2017-11-14T00:00:00\", \"count\": 5}, {\"date\": \"2018-11-14T00:00:00\", \"count\": 5}, {\"date\": \"2018-02-02T00:00:00\", \"count\": 5}, {\"date\": \"2017-02-13T00:00:00\", \"count\": 5}, {\"date\": \"2018-03-07T00:00:00\", \"count\": 5}, {\"date\": \"2018-03-26T00:00:00\", \"count\": 5}, {\"date\": \"2017-03-02T00:00:00\", \"count\": 5}, {\"date\": \"2018-03-11T00:00:00\", \"count\": 5}, {\"date\": \"2018-07-01T00:00:00\", \"count\": 5}, {\"date\": \"2020-04-01T00:00:00\", \"count\": 5}, {\"date\": \"2018-09-29T00:00:00\", \"count\": 5}, {\"date\": \"2018-08-08T00:00:00\", \"count\": 5}, {\"date\": \"2018-03-05T00:00:00\", \"count\": 5}, {\"date\": \"2018-06-29T00:00:00\", \"count\": 5}, {\"date\": \"2018-07-08T00:00:00\", \"count\": 5}, {\"date\": \"2018-02-21T00:00:00\", \"count\": 5}, {\"date\": \"2018-02-19T00:00:00\", \"count\": 5}, {\"date\": \"2020-03-08T00:00:00\", \"count\": 5}, {\"date\": \"2017-03-29T00:00:00\", \"count\": 5}, {\"date\": \"2017-04-08T00:00:00\", \"count\": 5}, {\"date\": \"2018-05-10T00:00:00\", \"count\": 5}, {\"date\": \"2017-03-16T00:00:00\", \"count\": 5}, {\"date\": \"2018-04-10T00:00:00\", \"count\": 5}, {\"date\": \"2018-05-27T00:00:00\", \"count\": 5}, {\"date\": \"2017-02-24T00:00:00\", \"count\": 5}, {\"date\": \"2018-05-22T00:00:00\", \"count\": 5}, {\"date\": \"2018-02-07T00:00:00\", \"count\": 5}, {\"date\": \"2018-10-21T00:00:00\", \"count\": 5}, {\"date\": \"2018-04-09T00:00:00\", \"count\": 5}, {\"date\": \"2017-03-13T00:00:00\", \"count\": 5}, {\"date\": \"2018-06-16T00:00:00\", \"count\": 5}, {\"date\": \"2018-05-13T00:00:00\", \"count\": 5}, {\"date\": \"2017-03-22T00:00:00\", \"count\": 4}, {\"date\": \"2017-10-23T00:00:00\", \"count\": 4}, {\"date\": \"2017-03-23T00:00:00\", \"count\": 4}, {\"date\": \"2017-03-09T00:00:00\", \"count\": 4}, {\"date\": \"2018-04-23T00:00:00\", \"count\": 4}, {\"date\": \"2017-09-09T00:00:00\", \"count\": 4}, {\"date\": \"2018-07-04T00:00:00\", \"count\": 4}, {\"date\": \"2017-01-28T00:00:00\", \"count\": 4}, {\"date\": \"2017-05-25T00:00:00\", \"count\": 4}, {\"date\": \"2017-10-30T00:00:00\", \"count\": 4}, {\"date\": \"2017-10-15T00:00:00\", \"count\": 4}, {\"date\": \"2017-05-23T00:00:00\", \"count\": 4}, {\"date\": \"2017-02-20T00:00:00\", \"count\": 4}, {\"date\": \"2017-05-26T00:00:00\", \"count\": 4}, {\"date\": \"2019-06-28T00:00:00\", \"count\": 4}, {\"date\": \"2017-06-24T00:00:00\", \"count\": 4}, {\"date\": \"2017-07-02T00:00:00\", \"count\": 4}, {\"date\": \"2017-07-04T00:00:00\", \"count\": 4}, {\"date\": \"2017-07-05T00:00:00\", \"count\": 4}, {\"date\": \"2018-05-19T00:00:00\", \"count\": 4}, {\"date\": \"2017-07-13T00:00:00\", \"count\": 4}, {\"date\": \"2018-05-11T00:00:00\", \"count\": 4}, {\"date\": \"2017-06-03T00:00:00\", \"count\": 4}, {\"date\": \"2020-11-23T00:00:00\", \"count\": 4}, {\"date\": \"2020-08-21T00:00:00\", \"count\": 4}, {\"date\": \"2017-07-31T00:00:00\", \"count\": 4}, {\"date\": \"2017-01-22T00:00:00\", \"count\": 4}, {\"date\": \"2019-04-03T00:00:00\", \"count\": 4}, {\"date\": \"2017-08-13T00:00:00\", \"count\": 4}, {\"date\": \"2017-05-29T00:00:00\", \"count\": 4}, {\"date\": \"2019-03-30T00:00:00\", \"count\": 4}, {\"date\": \"2018-04-05T00:00:00\", \"count\": 4}, {\"date\": \"2017-03-27T00:00:00\", \"count\": 4}, {\"date\": \"2017-03-24T00:00:00\", \"count\": 4}, {\"date\": \"2018-02-11T00:00:00\", \"count\": 4}, {\"date\": \"2017-11-05T00:00:00\", \"count\": 4}, {\"date\": \"2018-03-03T00:00:00\", \"count\": 4}, {\"date\": \"2017-04-04T00:00:00\", \"count\": 4}, {\"date\": \"2018-12-30T00:00:00\", \"count\": 4}, {\"date\": \"2017-12-27T00:00:00\", \"count\": 4}, {\"date\": \"2018-02-16T00:00:00\", \"count\": 4}, {\"date\": \"2018-01-03T00:00:00\", \"count\": 4}, {\"date\": \"2018-02-14T00:00:00\", \"count\": 4}, {\"date\": \"2018-12-12T00:00:00\", \"count\": 4}, {\"date\": \"2017-02-07T00:00:00\", \"count\": 4}, {\"date\": \"2018-12-10T00:00:00\", \"count\": 4}, {\"date\": \"2017-04-19T00:00:00\", \"count\": 4}, {\"date\": \"2018-01-22T00:00:00\", \"count\": 4}, {\"date\": \"2018-12-09T00:00:00\", \"count\": 4}, {\"date\": \"2018-01-24T00:00:00\", \"count\": 4}, {\"date\": \"2017-02-14T00:00:00\", \"count\": 4}, {\"date\": \"2017-04-13T00:00:00\", \"count\": 4}, {\"date\": \"2018-02-01T00:00:00\", \"count\": 4}, {\"date\": \"2017-12-13T00:00:00\", \"count\": 4}, {\"date\": \"2017-02-26T00:00:00\", \"count\": 4}, {\"date\": \"2018-03-19T00:00:00\", \"count\": 4}, {\"date\": \"2017-11-26T00:00:00\", \"count\": 4}, {\"date\": \"2017-03-25T00:00:00\", \"count\": 4}, {\"date\": \"2017-11-12T00:00:00\", \"count\": 4}, {\"date\": \"2018-03-29T00:00:00\", \"count\": 4}, {\"date\": \"2019-02-02T00:00:00\", \"count\": 4}, {\"date\": \"2018-08-12T00:00:00\", \"count\": 4}, {\"date\": \"2017-04-02T00:00:00\", \"count\": 4}, {\"date\": \"2018-03-17T00:00:00\", \"count\": 4}, {\"date\": \"2019-12-01T00:00:00\", \"count\": 4}, {\"date\": \"2018-03-16T00:00:00\", \"count\": 4}, {\"date\": \"2017-12-04T00:00:00\", \"count\": 4}, {\"date\": \"2017-06-01T00:00:00\", \"count\": 3}, {\"date\": \"2017-05-01T00:00:00\", \"count\": 3}, {\"date\": \"2017-02-23T00:00:00\", \"count\": 3}, {\"date\": \"2017-06-14T00:00:00\", \"count\": 3}, {\"date\": \"2017-02-18T00:00:00\", \"count\": 3}, {\"date\": \"2017-02-01T00:00:00\", \"count\": 3}, {\"date\": \"2017-02-10T00:00:00\", \"count\": 3}, {\"date\": \"2017-05-09T00:00:00\", \"count\": 3}, {\"date\": \"2020-10-03T00:00:00\", \"count\": 3}, {\"date\": \"2017-03-05T00:00:00\", \"count\": 3}, {\"date\": \"2017-05-21T00:00:00\", \"count\": 3}, {\"date\": \"2017-03-21T00:00:00\", \"count\": 3}, {\"date\": \"2017-04-09T00:00:00\", \"count\": 3}, {\"date\": \"2017-02-27T00:00:00\", \"count\": 3}, {\"date\": \"2017-06-04T00:00:00\", \"count\": 3}, {\"date\": \"2020-12-27T00:00:00\", \"count\": 3}, {\"date\": \"2017-04-20T00:00:00\", \"count\": 3}, {\"date\": \"2017-04-29T00:00:00\", \"count\": 3}, {\"date\": \"2017-12-17T00:00:00\", \"count\": 3}, {\"date\": \"2020-07-19T00:00:00\", \"count\": 3}, {\"date\": \"2018-01-01T00:00:00\", \"count\": 3}, {\"date\": \"2018-03-18T00:00:00\", \"count\": 3}, {\"date\": \"2017-11-18T00:00:00\", \"count\": 3}, {\"date\": \"2019-03-07T00:00:00\", \"count\": 3}, {\"date\": \"2018-07-02T00:00:00\", \"count\": 3}, {\"date\": \"2018-05-12T00:00:00\", \"count\": 3}, {\"date\": \"2017-12-10T00:00:00\", \"count\": 3}, {\"date\": \"2017-12-16T00:00:00\", \"count\": 3}, {\"date\": \"2017-12-25T00:00:00\", \"count\": 3}, {\"date\": \"2017-12-26T00:00:00\", \"count\": 3}, {\"date\": \"2018-01-21T00:00:00\", \"count\": 3}, {\"date\": \"2019-03-31T00:00:00\", \"count\": 3}, {\"date\": \"2018-01-25T00:00:00\", \"count\": 3}, {\"date\": \"2019-12-29T00:00:00\", \"count\": 3}, {\"date\": \"2018-04-14T00:00:00\", \"count\": 3}, {\"date\": \"2018-04-01T00:00:00\", \"count\": 3}, {\"date\": \"2018-03-31T00:00:00\", \"count\": 3}, {\"date\": \"2018-02-09T00:00:00\", \"count\": 3}, {\"date\": \"2018-02-12T00:00:00\", \"count\": 3}, {\"date\": \"2019-02-03T00:00:00\", \"count\": 3}, {\"date\": \"2019-01-25T00:00:00\", \"count\": 3}, {\"date\": \"2020-07-20T00:00:00\", \"count\": 3}, {\"date\": \"2017-06-21T00:00:00\", \"count\": 3}, {\"date\": \"2017-10-22T00:00:00\", \"count\": 3}, {\"date\": \"2018-09-23T00:00:00\", \"count\": 3}, {\"date\": \"2018-11-08T00:00:00\", \"count\": 3}, {\"date\": \"2018-10-28T00:00:00\", \"count\": 3}, {\"date\": \"2018-09-30T00:00:00\", \"count\": 3}, {\"date\": \"2017-07-19T00:00:00\", \"count\": 3}, {\"date\": \"2017-07-20T00:00:00\", \"count\": 3}, {\"date\": \"2018-11-20T00:00:00\", \"count\": 3}, {\"date\": \"2017-08-01T00:00:00\", \"count\": 3}, {\"date\": \"2017-08-28T00:00:00\", \"count\": 3}, {\"date\": \"2018-11-24T00:00:00\", \"count\": 3}, {\"date\": \"2020-02-16T00:00:00\", \"count\": 3}, {\"date\": \"2018-12-01T00:00:00\", \"count\": 3}, {\"date\": \"2017-09-16T00:00:00\", \"count\": 3}, {\"date\": \"2018-09-02T00:00:00\", \"count\": 3}, {\"date\": \"2018-09-22T00:00:00\", \"count\": 3}, {\"date\": \"2018-07-13T00:00:00\", \"count\": 2}, {\"date\": \"2020-01-08T00:00:00\", \"count\": 2}, {\"date\": \"2018-12-25T00:00:00\", \"count\": 2}, {\"date\": \"2018-07-06T00:00:00\", \"count\": 2}, {\"date\": \"2017-01-21T00:00:00\", \"count\": 2}, {\"date\": \"2018-10-07T00:00:00\", \"count\": 2}, {\"date\": \"2017-03-26T00:00:00\", \"count\": 2}, {\"date\": \"2017-03-10T00:00:00\", \"count\": 2}, {\"date\": \"2018-12-26T00:00:00\", \"count\": 2}, {\"date\": \"2017-03-14T00:00:00\", \"count\": 2}, {\"date\": \"2018-04-26T00:00:00\", \"count\": 2}, {\"date\": \"2017-02-28T00:00:00\", \"count\": 2}, {\"date\": \"2017-02-19T00:00:00\", \"count\": 2}, {\"date\": \"2018-12-02T00:00:00\", \"count\": 2}, {\"date\": \"2017-03-18T00:00:00\", \"count\": 2}, {\"date\": \"2019-01-16T00:00:00\", \"count\": 2}, {\"date\": \"2021-01-08T00:00:00\", \"count\": 2}, {\"date\": \"2017-04-14T00:00:00\", \"count\": 2}, {\"date\": \"2018-03-04T00:00:00\", \"count\": 2}, {\"date\": \"2017-05-13T00:00:00\", \"count\": 2}, {\"date\": \"2017-06-25T00:00:00\", \"count\": 2}, {\"date\": \"2017-07-17T00:00:00\", \"count\": 2}, {\"date\": \"2017-06-07T00:00:00\", \"count\": 2}, {\"date\": \"2017-08-20T00:00:00\", \"count\": 2}, {\"date\": \"2017-08-31T00:00:00\", \"count\": 2}, {\"date\": \"2017-09-04T00:00:00\", \"count\": 2}, {\"date\": \"2017-05-24T00:00:00\", \"count\": 2}, {\"date\": \"2017-09-11T00:00:00\", \"count\": 2}, {\"date\": \"2017-05-22T00:00:00\", \"count\": 2}, {\"date\": \"2017-05-20T00:00:00\", \"count\": 2}, {\"date\": \"2017-05-19T00:00:00\", \"count\": 2}, {\"date\": \"2020-10-02T00:00:00\", \"count\": 2}, {\"date\": \"2017-05-15T00:00:00\", \"count\": 2}, {\"date\": \"2019-01-29T00:00:00\", \"count\": 2}, {\"date\": \"2019-03-24T00:00:00\", \"count\": 2}, {\"date\": \"2017-11-20T00:00:00\", \"count\": 2}, {\"date\": \"2017-02-21T00:00:00\", \"count\": 2}, {\"date\": \"2017-04-05T00:00:00\", \"count\": 2}, {\"date\": \"2018-02-13T00:00:00\", \"count\": 2}, {\"date\": \"2017-04-10T00:00:00\", \"count\": 2}, {\"date\": \"2018-02-04T00:00:00\", \"count\": 2}, {\"date\": \"2017-05-03T00:00:00\", \"count\": 2}, {\"date\": \"2017-02-22T00:00:00\", \"count\": 2}, {\"date\": \"2018-01-28T00:00:00\", \"count\": 2}, {\"date\": \"2019-02-15T00:00:00\", \"count\": 2}, {\"date\": \"2017-12-05T00:00:00\", \"count\": 2}, {\"date\": \"2017-11-21T00:00:00\", \"count\": 2}, {\"date\": \"2019-02-06T00:00:00\", \"count\": 1}, {\"date\": \"2019-04-28T00:00:00\", \"count\": 1}, {\"date\": \"2021-01-07T00:00:00\", \"count\": 1}, {\"date\": \"2020-01-05T00:00:00\", \"count\": 1}, {\"date\": \"2017-01-23T00:00:00\", \"count\": 1}, {\"date\": \"2019-02-04T00:00:00\", \"count\": 1}, {\"date\": \"2017-06-17T00:00:00\", \"count\": 1}, {\"date\": \"2018-09-28T00:00:00\", \"count\": 1}, {\"date\": \"2017-04-07T00:00:00\", \"count\": 1}, {\"date\": \"2017-06-10T00:00:00\", \"count\": 1}, {\"date\": \"2017-07-30T00:00:00\", \"count\": 1}, {\"date\": \"2017-10-02T00:00:00\", \"count\": 1}, {\"date\": \"2017-05-17T00:00:00\", \"count\": 1}, {\"date\": \"2017-05-14T00:00:00\", \"count\": 1}, {\"date\": \"2017-05-06T00:00:00\", \"count\": 1}, {\"date\": \"2017-12-11T00:00:00\", \"count\": 1}, {\"date\": \"2019-11-29T00:00:00\", \"count\": 1}, {\"date\": \"2018-01-29T00:00:00\", \"count\": 1}, {\"date\": \"2018-01-30T00:00:00\", \"count\": 1}, {\"date\": \"2017-04-06T00:00:00\", \"count\": 1}, {\"date\": \"2017-03-01T00:00:00\", \"count\": 1}, {\"date\": \"2018-02-25T00:00:00\", \"count\": 1}, {\"date\": \"2018-03-24T00:00:00\", \"count\": 1}, {\"date\": \"2018-03-27T00:00:00\", \"count\": 1}, {\"date\": \"2018-03-30T00:00:00\", \"count\": 1}, {\"date\": \"2018-05-05T00:00:00\", \"count\": 1}, {\"date\": \"2017-03-19T00:00:00\", \"count\": 1}, {\"date\": \"2017-03-12T00:00:00\", \"count\": 1}, {\"date\": \"2017-03-11T00:00:00\", \"count\": 1}, {\"date\": \"2018-07-28T00:00:00\", \"count\": 1}, {\"date\": \"2018-09-27T00:00:00\", \"count\": 1}, {\"date\": \"2018-03-20T00:00:00\", \"count\": 1}]}}, {\"mode\": \"vega-lite\"});\n",
       "</script>"
      ],
      "text/plain": [
       "alt.Chart(...)"
      ]
     },
     "execution_count": 59,
     "metadata": {},
     "output_type": "execute_result"
    }
   ],
   "source": [
    "heatmap = (\n",
    "    alt.Chart(\n",
    "        trump_freq_inauguration,\n",
    "        title=\"@realDonaldTrump daily tweet frequency since inauguration\",\n",
    "    )\n",
    "    .mark_rect()\n",
    "    .encode(\n",
    "        x=alt.X(\"date(date):O\", title=\" \"),\n",
    "        y=alt.Y(\"month(date):O\", title=\"\"),\n",
    "        color=alt.Color(\"count:Q\", title=\"Tweet count\"),\n",
    "        tooltip=[\n",
    "            alt.Tooltip(\"monthdate(date):T\", title=\"Date\"),\n",
    "            alt.Tooltip(\"count:Q\", title=\"Tweets\"),\n",
    "        ],\n",
    "        facet=alt.Facet(\"year(date):O\", title=\"\", columns=1),\n",
    "    )\n",
    "    .properties(width=600, height=200)\n",
    ")\n",
    "\n",
    "heatmap.configure_legend(orient=\"top\", padding=10).configure_view(strokeOpacity=0)"
   ]
  },
  {
   "cell_type": "code",
   "execution_count": 60,
   "metadata": {},
   "outputs": [],
   "source": [
    "trump_RT_freq_inauguration = trump_tweets_day_prez_df.sort_values(\n",
    "    [\"count\"], ascending=False\n",
    ")"
   ]
  },
  {
   "cell_type": "code",
   "execution_count": 61,
   "metadata": {},
   "outputs": [],
   "source": [
    "trumpall_prez_rt = trumpall_prez[\n",
    "    (trumpall_prez[\"isRetweet\"] == True) | (trumpall_prez[\"isRetweet\"] == \"t\")\n",
    "]\n",
    "trumpall_prez_no_rt = trumpall_prez[\n",
    "    (trumpall_prez[\"isRetweet\"] == False) | (trumpall_prez[\"isRetweet\"] == \"f\")\n",
    "]"
   ]
  },
  {
   "cell_type": "code",
   "execution_count": 62,
   "metadata": {},
   "outputs": [
    {
     "data": {
      "text/plain": [
       "9033"
      ]
     },
     "execution_count": 62,
     "metadata": {},
     "output_type": "execute_result"
    }
   ],
   "source": [
    "len(trumpall_prez_rt)"
   ]
  },
  {
   "cell_type": "markdown",
   "metadata": {},
   "source": [
    "### Retweets"
   ]
  },
  {
   "cell_type": "code",
   "execution_count": 63,
   "metadata": {},
   "outputs": [],
   "source": [
    "trump_tweets_day_prez_rt = trumpall_prez_rt.groupby([\"date\"]).size()\n",
    "trump_tweets_day_prez_rt_df = pd.DataFrame(\n",
    "    {\"date\": trump_tweets_day_prez_rt.index, \"count\": trump_tweets_day_prez_rt.values}\n",
    ")"
   ]
  },
  {
   "cell_type": "code",
   "execution_count": 64,
   "metadata": {},
   "outputs": [
    {
     "data": {
      "text/html": [
       "<div>\n",
       "<style scoped>\n",
       "    .dataframe tbody tr th:only-of-type {\n",
       "        vertical-align: middle;\n",
       "    }\n",
       "\n",
       "    .dataframe tbody tr th {\n",
       "        vertical-align: top;\n",
       "    }\n",
       "\n",
       "    .dataframe thead th {\n",
       "        text-align: right;\n",
       "    }\n",
       "</style>\n",
       "<table border=\"1\" class=\"dataframe\">\n",
       "  <thead>\n",
       "    <tr style=\"text-align: right;\">\n",
       "      <th></th>\n",
       "      <th>date</th>\n",
       "      <th>count</th>\n",
       "    </tr>\n",
       "  </thead>\n",
       "  <tbody>\n",
       "    <tr>\n",
       "      <th>844</th>\n",
       "      <td>2020-11-05</td>\n",
       "      <td>2</td>\n",
       "    </tr>\n",
       "    <tr>\n",
       "      <th>843</th>\n",
       "      <td>2020-11-04</td>\n",
       "      <td>2</td>\n",
       "    </tr>\n",
       "    <tr>\n",
       "      <th>842</th>\n",
       "      <td>2020-11-03</td>\n",
       "      <td>8</td>\n",
       "    </tr>\n",
       "    <tr>\n",
       "      <th>841</th>\n",
       "      <td>2020-11-02</td>\n",
       "      <td>14</td>\n",
       "    </tr>\n",
       "    <tr>\n",
       "      <th>840</th>\n",
       "      <td>2020-11-01</td>\n",
       "      <td>3</td>\n",
       "    </tr>\n",
       "  </tbody>\n",
       "</table>\n",
       "</div>"
      ],
      "text/plain": [
       "          date  count\n",
       "844 2020-11-05      2\n",
       "843 2020-11-04      2\n",
       "842 2020-11-03      8\n",
       "841 2020-11-02     14\n",
       "840 2020-11-01      3"
      ]
     },
     "execution_count": 64,
     "metadata": {},
     "output_type": "execute_result"
    }
   ],
   "source": [
    "trump_tweets_day_prez_rt_df.sort_values(by=\"date\", ascending=False).head()"
   ]
  },
  {
   "cell_type": "markdown",
   "metadata": {},
   "source": [
    "### No retweets"
   ]
  },
  {
   "cell_type": "code",
   "execution_count": 65,
   "metadata": {},
   "outputs": [],
   "source": [
    "trump_tweets_day_prez_no_rt = trumpall_prez_no_rt.groupby([\"date\"]).size()\n",
    "trump_tweets_day_prez_no_rt_df = pd.DataFrame(\n",
    "    {\n",
    "        \"date\": trump_tweets_day_prez_no_rt.index,\n",
    "        \"count\": trump_tweets_day_prez_no_rt.values,\n",
    "    }\n",
    ")"
   ]
  },
  {
   "cell_type": "code",
   "execution_count": 66,
   "metadata": {},
   "outputs": [],
   "source": [
    "# retweets\n",
    "trump_rt_freq_inauguration = trump_tweets_day_prez_rt_df.sort_values(\n",
    "    [\"count\"], ascending=False\n",
    ")\n",
    "# no retweets\n",
    "trump_no_rt_freq_inauguration = trump_tweets_day_prez_no_rt_df.sort_values(\n",
    "    [\"count\"], ascending=False\n",
    ")"
   ]
  },
  {
   "cell_type": "code",
   "execution_count": 67,
   "metadata": {},
   "outputs": [
    {
     "data": {
      "text/html": [
       "<div>\n",
       "<style scoped>\n",
       "    .dataframe tbody tr th:only-of-type {\n",
       "        vertical-align: middle;\n",
       "    }\n",
       "\n",
       "    .dataframe tbody tr th {\n",
       "        vertical-align: top;\n",
       "    }\n",
       "\n",
       "    .dataframe thead th {\n",
       "        text-align: right;\n",
       "    }\n",
       "</style>\n",
       "<table border=\"1\" class=\"dataframe\">\n",
       "  <thead>\n",
       "    <tr style=\"text-align: right;\">\n",
       "      <th></th>\n",
       "      <th>date</th>\n",
       "      <th>count</th>\n",
       "    </tr>\n",
       "  </thead>\n",
       "  <tbody>\n",
       "    <tr>\n",
       "      <th>840</th>\n",
       "      <td>2020-11-01</td>\n",
       "      <td>3</td>\n",
       "    </tr>\n",
       "    <tr>\n",
       "      <th>841</th>\n",
       "      <td>2020-11-02</td>\n",
       "      <td>14</td>\n",
       "    </tr>\n",
       "    <tr>\n",
       "      <th>842</th>\n",
       "      <td>2020-11-03</td>\n",
       "      <td>8</td>\n",
       "    </tr>\n",
       "    <tr>\n",
       "      <th>843</th>\n",
       "      <td>2020-11-04</td>\n",
       "      <td>2</td>\n",
       "    </tr>\n",
       "    <tr>\n",
       "      <th>844</th>\n",
       "      <td>2020-11-05</td>\n",
       "      <td>2</td>\n",
       "    </tr>\n",
       "  </tbody>\n",
       "</table>\n",
       "</div>"
      ],
      "text/plain": [
       "          date  count\n",
       "840 2020-11-01      3\n",
       "841 2020-11-02     14\n",
       "842 2020-11-03      8\n",
       "843 2020-11-04      2\n",
       "844 2020-11-05      2"
      ]
     },
     "execution_count": 67,
     "metadata": {},
     "output_type": "execute_result"
    }
   ],
   "source": [
    "trump_tweets_day_prez_rt_df.tail()"
   ]
  },
  {
   "cell_type": "code",
   "execution_count": 68,
   "metadata": {},
   "outputs": [
    {
     "data": {
      "text/html": [
       "\n",
       "<div id=\"altair-viz-61417809c72341de9aa5e3f51aad6ec1\"></div>\n",
       "<script type=\"text/javascript\">\n",
       "  (function(spec, embedOpt){\n",
       "    let outputDiv = document.currentScript.previousElementSibling;\n",
       "    if (outputDiv.id !== \"altair-viz-61417809c72341de9aa5e3f51aad6ec1\") {\n",
       "      outputDiv = document.getElementById(\"altair-viz-61417809c72341de9aa5e3f51aad6ec1\");\n",
       "    }\n",
       "    const paths = {\n",
       "      \"vega\": \"https://cdn.jsdelivr.net/npm//vega@5?noext\",\n",
       "      \"vega-lib\": \"https://cdn.jsdelivr.net/npm//vega-lib?noext\",\n",
       "      \"vega-lite\": \"https://cdn.jsdelivr.net/npm//vega-lite@4.8.1?noext\",\n",
       "      \"vega-embed\": \"https://cdn.jsdelivr.net/npm//vega-embed@6?noext\",\n",
       "    };\n",
       "\n",
       "    function loadScript(lib) {\n",
       "      return new Promise(function(resolve, reject) {\n",
       "        var s = document.createElement('script');\n",
       "        s.src = paths[lib];\n",
       "        s.async = true;\n",
       "        s.onload = () => resolve(paths[lib]);\n",
       "        s.onerror = () => reject(`Error loading script: ${paths[lib]}`);\n",
       "        document.getElementsByTagName(\"head\")[0].appendChild(s);\n",
       "      });\n",
       "    }\n",
       "\n",
       "    function showError(err) {\n",
       "      outputDiv.innerHTML = `<div class=\"error\" style=\"color:red;\">${err}</div>`;\n",
       "      throw err;\n",
       "    }\n",
       "\n",
       "    function displayChart(vegaEmbed) {\n",
       "      vegaEmbed(outputDiv, spec, embedOpt)\n",
       "        .catch(err => showError(`Javascript Error: ${err.message}<br>This usually means there's a typo in your chart specification. See the javascript console for the full traceback.`));\n",
       "    }\n",
       "\n",
       "    if(typeof define === \"function\" && define.amd) {\n",
       "      requirejs.config({paths});\n",
       "      require([\"vega-embed\"], displayChart, err => showError(`Error loading script: ${err.message}`));\n",
       "    } else if (typeof vegaEmbed === \"function\") {\n",
       "      displayChart(vegaEmbed);\n",
       "    } else {\n",
       "      loadScript(\"vega\")\n",
       "        .then(() => loadScript(\"vega-lite\"))\n",
       "        .then(() => loadScript(\"vega-embed\"))\n",
       "        .catch(showError)\n",
       "        .then(() => displayChart(vegaEmbed));\n",
       "    }\n",
       "  })({\"config\": {\"view\": {\"width\": 800, \"height\": 450, \"strokeOpacity\": 0}, \"background\": \"#ffffff\", \"title\": {\"anchor\": \"start\", \"font\": \"Benton Gothic Bold, sans\", \"fontColor\": \"#000000\", \"fontSize\": 22, \"fontWeight\": \"normal\"}, \"arc\": {\"fill\": \"#82c6df\"}, \"area\": {\"fill\": \"#82c6df\"}, \"line\": {\"stroke\": \"#82c6df\", \"strokeWidth\": 3}, \"path\": {\"stroke\": \"#82c6df\"}, \"rect\": {\"fill\": \"#82c6df\"}, \"shape\": {\"stroke\": \"#82c6df\"}, \"bar\": {\"fill\": \"#82c6df\"}, \"point\": {\"stroke\": \"#82c6df\"}, \"symbol\": {\"fill\": \"#82c6df\", \"size\": 30}, \"axis\": {\"titleFont\": \"Benton Gothic Bold, sans\", \"titleFontSize\": 13, \"titleFontWeight\": \"normal\", \"labelFont\": \"Benton Gothic, sans\", \"labelFontSize\": 11.5, \"labelFontWeight\": \"normal\"}, \"axisX\": {\"labelAngle\": 0, \"labelPadding\": 4, \"tickSize\": 3}, \"axisY\": {\"labelBaseline\": \"middle\", \"maxExtent\": 45, \"minExtent\": 45, \"tickSize\": 2, \"titleAlign\": \"left\", \"titleAngle\": 0, \"titleX\": -45, \"titleY\": -11}, \"legend\": {\"titleFont\": \"Benton Gothic Bold, sans\", \"titleFontSize\": 13, \"titleFontWeight\": \"normal\", \"symbolType\": \"square\", \"labelFont\": \"Benton Gothic, sans\", \"labelFontSize\": 11.5, \"orient\": \"top\", \"padding\": 10}, \"range\": {\"category\": [\"#3580b1\", \"#ec8431\", \"#ab7fb4\", \"#c89d29\", \"#adc839\", \"#829eb1\"], \"diverging\": [\"#e68a4f\", \"#f4bb6a\", \"#f9e39c\", \"#dadfe2\", \"#a6b7c6\", \"#849eae\"], \"heatmap\": [\"#fbf2c7\", \"#f9e39c\", \"#f8d36e\", \"#f4bb6a\", \"#e68a4f\", \"#d15a40\", \"#ab4232\"], \"ordinal\": [\"#fbf2c7\", \"#f9e39c\", \"#f8d36e\", \"#f4bb6a\", \"#e68a4f\", \"#d15a40\", \"#ab4232\"], \"ramp\": [\"#fbf2c7\", \"#f9e39c\", \"#f8d36e\", \"#f4bb6a\", \"#e68a4f\", \"#d15a40\", \"#ab4232\"]}}, \"data\": {\"name\": \"data-79ed9c763677de760566297265bbe0cc\"}, \"mark\": \"rect\", \"encoding\": {\"color\": {\"type\": \"quantitative\", \"field\": \"count\", \"scale\": {\"scheme\": \"blues\"}, \"title\": \"Tweet count\"}, \"facet\": {\"type\": \"ordinal\", \"columns\": 1, \"field\": \"date\", \"timeUnit\": \"year\", \"title\": \"\"}, \"tooltip\": [{\"type\": \"temporal\", \"field\": \"date\", \"timeUnit\": \"monthdate\", \"title\": \"Date\"}, {\"type\": \"quantitative\", \"field\": \"count\", \"title\": \"Tweets\"}], \"x\": {\"type\": \"ordinal\", \"field\": \"date\", \"timeUnit\": \"date\", \"title\": \" \"}, \"y\": {\"type\": \"ordinal\", \"field\": \"date\", \"timeUnit\": \"month\", \"title\": \"\"}}, \"height\": 180, \"title\": \"@realDonaldTrump daily tweet (without RT) frequency since inauguration\", \"width\": 600, \"$schema\": \"https://vega.github.io/schema/vega-lite/v4.8.1.json\", \"datasets\": {\"data-79ed9c763677de760566297265bbe0cc\": [{\"date\": \"2020-11-02T00:00:00\", \"count\": 71}, {\"date\": \"2020-10-12T00:00:00\", \"count\": 63}, {\"date\": \"2020-10-31T00:00:00\", \"count\": 62}, {\"date\": \"2020-10-27T00:00:00\", \"count\": 59}, {\"date\": \"2020-11-01T00:00:00\", \"count\": 57}, {\"date\": \"2020-10-30T00:00:00\", \"count\": 52}, {\"date\": \"2020-10-07T00:00:00\", \"count\": 49}, {\"date\": \"2020-09-08T00:00:00\", \"count\": 48}, {\"date\": \"2020-10-13T00:00:00\", \"count\": 46}, {\"date\": \"2020-08-25T00:00:00\", \"count\": 46}, {\"date\": \"2020-08-24T00:00:00\", \"count\": 43}, {\"date\": \"2020-06-18T00:00:00\", \"count\": 42}, {\"date\": \"2020-10-29T00:00:00\", \"count\": 41}, {\"date\": \"2020-09-17T00:00:00\", \"count\": 39}, {\"date\": \"2020-09-10T00:00:00\", \"count\": 39}, {\"date\": \"2020-10-21T00:00:00\", \"count\": 39}, {\"date\": \"2020-09-30T00:00:00\", \"count\": 39}, {\"date\": \"2020-08-26T00:00:00\", \"count\": 37}, {\"date\": \"2020-10-24T00:00:00\", \"count\": 37}, {\"date\": \"2020-10-17T00:00:00\", \"count\": 37}, {\"date\": \"2020-06-04T00:00:00\", \"count\": 37}, {\"date\": \"2020-09-14T00:00:00\", \"count\": 37}, {\"date\": \"2020-06-05T00:00:00\", \"count\": 36}, {\"date\": \"2020-09-29T00:00:00\", \"count\": 36}, {\"date\": \"2020-10-06T00:00:00\", \"count\": 36}, {\"date\": \"2019-10-03T00:00:00\", \"count\": 36}, {\"date\": \"2019-07-11T00:00:00\", \"count\": 36}, {\"date\": \"2019-11-17T00:00:00\", \"count\": 35}, {\"date\": \"2020-09-09T00:00:00\", \"count\": 35}, {\"date\": \"2019-10-04T00:00:00\", \"count\": 35}, {\"date\": \"2020-06-02T00:00:00\", \"count\": 34}, {\"date\": \"2019-12-20T00:00:00\", \"count\": 33}, {\"date\": \"2019-10-14T00:00:00\", \"count\": 32}, {\"date\": \"2019-07-24T00:00:00\", \"count\": 32}, {\"date\": \"2019-05-01T00:00:00\", \"count\": 32}, {\"date\": \"2019-10-09T00:00:00\", \"count\": 31}, {\"date\": \"2020-08-30T00:00:00\", \"count\": 31}, {\"date\": \"2020-09-12T00:00:00\", \"count\": 31}, {\"date\": \"2020-05-28T00:00:00\", \"count\": 30}, {\"date\": \"2020-03-03T00:00:00\", \"count\": 30}, {\"date\": \"2019-12-12T00:00:00\", \"count\": 30}, {\"date\": \"2020-10-05T00:00:00\", \"count\": 29}, {\"date\": \"2019-10-08T00:00:00\", \"count\": 29}, {\"date\": \"2019-12-31T00:00:00\", \"count\": 29}, {\"date\": \"2019-06-26T00:00:00\", \"count\": 29}, {\"date\": \"2020-01-23T00:00:00\", \"count\": 28}, {\"date\": \"2019-09-16T00:00:00\", \"count\": 28}, {\"date\": \"2019-11-03T00:00:00\", \"count\": 28}, {\"date\": \"2020-10-26T00:00:00\", \"count\": 28}, {\"date\": \"2019-08-23T00:00:00\", \"count\": 28}, {\"date\": \"2020-09-13T00:00:00\", \"count\": 27}, {\"date\": \"2020-07-29T00:00:00\", \"count\": 27}, {\"date\": \"2020-10-28T00:00:00\", \"count\": 27}, {\"date\": \"2020-06-27T00:00:00\", \"count\": 27}, {\"date\": \"2020-06-19T00:00:00\", \"count\": 27}, {\"date\": \"2020-06-07T00:00:00\", \"count\": 27}, {\"date\": \"2020-08-14T00:00:00\", \"count\": 27}, {\"date\": \"2020-09-02T00:00:00\", \"count\": 27}, {\"date\": \"2020-10-16T00:00:00\", \"count\": 27}, {\"date\": \"2020-03-10T00:00:00\", \"count\": 26}, {\"date\": \"2020-05-12T00:00:00\", \"count\": 26}, {\"date\": \"2020-09-24T00:00:00\", \"count\": 26}, {\"date\": \"2019-12-02T00:00:00\", \"count\": 26}, {\"date\": \"2020-07-02T00:00:00\", \"count\": 25}, {\"date\": \"2020-03-02T00:00:00\", \"count\": 25}, {\"date\": \"2020-04-23T00:00:00\", \"count\": 25}, {\"date\": \"2020-06-22T00:00:00\", \"count\": 25}, {\"date\": \"2019-09-09T00:00:00\", \"count\": 25}, {\"date\": \"2019-10-11T00:00:00\", \"count\": 25}, {\"date\": \"2020-02-18T00:00:00\", \"count\": 25}, {\"date\": \"2020-03-27T00:00:00\", \"count\": 25}, {\"date\": \"2020-05-22T00:00:00\", \"count\": 24}, {\"date\": \"2020-01-12T00:00:00\", \"count\": 24}, {\"date\": \"2019-09-30T00:00:00\", \"count\": 24}, {\"date\": \"2020-06-11T00:00:00\", \"count\": 24}, {\"date\": \"2019-11-09T00:00:00\", \"count\": 24}, {\"date\": \"2020-06-03T00:00:00\", \"count\": 24}, {\"date\": \"2020-05-27T00:00:00\", \"count\": 24}, {\"date\": \"2020-03-04T00:00:00\", \"count\": 24}, {\"date\": \"2020-05-20T00:00:00\", \"count\": 24}, {\"date\": \"2020-10-22T00:00:00\", \"count\": 24}, {\"date\": \"2020-05-17T00:00:00\", \"count\": 24}, {\"date\": \"2020-05-16T00:00:00\", \"count\": 24}, {\"date\": \"2019-05-08T00:00:00\", \"count\": 24}, {\"date\": \"2019-07-27T00:00:00\", \"count\": 24}, {\"date\": \"2019-09-29T00:00:00\", \"count\": 24}, {\"date\": \"2019-08-21T00:00:00\", \"count\": 24}, {\"date\": \"2019-10-16T00:00:00\", \"count\": 24}, {\"date\": \"2020-05-18T00:00:00\", \"count\": 24}, {\"date\": \"2019-12-08T00:00:00\", \"count\": 24}, {\"date\": \"2020-09-18T00:00:00\", \"count\": 24}, {\"date\": \"2020-09-22T00:00:00\", \"count\": 24}, {\"date\": \"2020-08-29T00:00:00\", \"count\": 24}, {\"date\": \"2020-09-04T00:00:00\", \"count\": 24}, {\"date\": \"2020-08-12T00:00:00\", \"count\": 24}, {\"date\": \"2019-09-06T00:00:00\", \"count\": 23}, {\"date\": \"2020-08-27T00:00:00\", \"count\": 23}, {\"date\": \"2020-08-20T00:00:00\", \"count\": 23}, {\"date\": \"2019-11-21T00:00:00\", \"count\": 23}, {\"date\": \"2019-08-31T00:00:00\", \"count\": 23}, {\"date\": \"2020-09-07T00:00:00\", \"count\": 23}, {\"date\": \"2019-08-07T00:00:00\", \"count\": 23}, {\"date\": \"2019-12-18T00:00:00\", \"count\": 23}, {\"date\": \"2020-04-12T00:00:00\", \"count\": 23}, {\"date\": \"2019-11-01T00:00:00\", \"count\": 23}, {\"date\": \"2020-07-06T00:00:00\", \"count\": 23}, {\"date\": \"2020-09-03T00:00:00\", \"count\": 23}, {\"date\": \"2019-09-26T00:00:00\", \"count\": 23}, {\"date\": \"2019-07-09T00:00:00\", \"count\": 22}, {\"date\": \"2019-08-13T00:00:00\", \"count\": 22}, {\"date\": \"2020-01-29T00:00:00\", \"count\": 22}, {\"date\": \"2020-09-23T00:00:00\", \"count\": 22}, {\"date\": \"2018-06-05T00:00:00\", \"count\": 22}, {\"date\": \"2020-08-28T00:00:00\", \"count\": 22}, {\"date\": \"2020-01-26T00:00:00\", \"count\": 22}, {\"date\": \"2020-04-26T00:00:00\", \"count\": 22}, {\"date\": \"2019-10-07T00:00:00\", \"count\": 22}, {\"date\": \"2019-10-06T00:00:00\", \"count\": 22}, {\"date\": \"2020-08-18T00:00:00\", \"count\": 22}, {\"date\": \"2019-10-25T00:00:00\", \"count\": 22}, {\"date\": \"2019-05-23T00:00:00\", \"count\": 22}, {\"date\": \"2019-09-18T00:00:00\", \"count\": 22}, {\"date\": \"2020-10-08T00:00:00\", \"count\": 22}, {\"date\": \"2019-10-30T00:00:00\", \"count\": 22}, {\"date\": \"2019-07-31T00:00:00\", \"count\": 22}, {\"date\": \"2019-12-27T00:00:00\", \"count\": 22}, {\"date\": \"2017-09-30T00:00:00\", \"count\": 22}, {\"date\": \"2019-09-02T00:00:00\", \"count\": 22}, {\"date\": \"2019-07-12T00:00:00\", \"count\": 21}, {\"date\": \"2019-10-31T00:00:00\", \"count\": 21}, {\"date\": \"2019-05-13T00:00:00\", \"count\": 21}, {\"date\": \"2019-08-25T00:00:00\", \"count\": 21}, {\"date\": \"2020-06-09T00:00:00\", \"count\": 21}, {\"date\": \"2019-10-19T00:00:00\", \"count\": 21}, {\"date\": \"2019-01-31T00:00:00\", \"count\": 21}, {\"date\": \"2019-07-29T00:00:00\", \"count\": 21}, {\"date\": \"2020-03-05T00:00:00\", \"count\": 21}, {\"date\": \"2019-10-23T00:00:00\", \"count\": 21}, {\"date\": \"2020-10-14T00:00:00\", \"count\": 21}, {\"date\": \"2019-12-15T00:00:00\", \"count\": 21}, {\"date\": \"2020-07-04T00:00:00\", \"count\": 21}, {\"date\": \"2019-05-12T00:00:00\", \"count\": 21}, {\"date\": \"2019-06-13T00:00:00\", \"count\": 21}, {\"date\": \"2020-05-26T00:00:00\", \"count\": 21}, {\"date\": \"2018-08-15T00:00:00\", \"count\": 21}, {\"date\": \"2019-05-22T00:00:00\", \"count\": 21}, {\"date\": \"2019-09-10T00:00:00\", \"count\": 21}, {\"date\": \"2020-05-21T00:00:00\", \"count\": 21}, {\"date\": \"2019-11-15T00:00:00\", \"count\": 20}, {\"date\": \"2020-04-11T00:00:00\", \"count\": 20}, {\"date\": \"2019-10-26T00:00:00\", \"count\": 20}, {\"date\": \"2019-07-02T00:00:00\", \"count\": 20}, {\"date\": \"2019-08-15T00:00:00\", \"count\": 20}, {\"date\": \"2019-11-05T00:00:00\", \"count\": 20}, {\"date\": \"2019-11-11T00:00:00\", \"count\": 20}, {\"date\": \"2018-06-07T00:00:00\", \"count\": 20}, {\"date\": \"2020-02-08T00:00:00\", \"count\": 20}, {\"date\": \"2020-05-03T00:00:00\", \"count\": 20}, {\"date\": \"2020-05-10T00:00:00\", \"count\": 20}, {\"date\": \"2020-01-30T00:00:00\", \"count\": 20}, {\"date\": \"2020-05-24T00:00:00\", \"count\": 20}, {\"date\": \"2019-12-13T00:00:00\", \"count\": 20}, {\"date\": \"2019-12-14T00:00:00\", \"count\": 20}, {\"date\": \"2018-10-16T00:00:00\", \"count\": 20}, {\"date\": \"2019-12-17T00:00:00\", \"count\": 20}, {\"date\": \"2018-08-29T00:00:00\", \"count\": 20}, {\"date\": \"2020-09-11T00:00:00\", \"count\": 20}, {\"date\": \"2018-10-22T00:00:00\", \"count\": 20}, {\"date\": \"2019-09-21T00:00:00\", \"count\": 20}, {\"date\": \"2018-10-29T00:00:00\", \"count\": 20}, {\"date\": \"2020-09-25T00:00:00\", \"count\": 20}, {\"date\": \"2019-08-30T00:00:00\", \"count\": 20}, {\"date\": \"2018-11-03T00:00:00\", \"count\": 20}, {\"date\": \"2018-12-21T00:00:00\", \"count\": 20}, {\"date\": \"2018-11-05T00:00:00\", \"count\": 20}, {\"date\": \"2020-10-23T00:00:00\", \"count\": 20}, {\"date\": \"2020-05-11T00:00:00\", \"count\": 20}, {\"date\": \"2019-05-10T00:00:00\", \"count\": 20}, {\"date\": \"2020-10-25T00:00:00\", \"count\": 19}, {\"date\": \"2020-02-19T00:00:00\", \"count\": 19}, {\"date\": \"2019-12-19T00:00:00\", \"count\": 19}, {\"date\": \"2020-09-20T00:00:00\", \"count\": 19}, {\"date\": \"2019-05-20T00:00:00\", \"count\": 19}, {\"date\": \"2019-12-06T00:00:00\", \"count\": 19}, {\"date\": \"2019-07-30T00:00:00\", \"count\": 19}, {\"date\": \"2019-06-11T00:00:00\", \"count\": 19}, {\"date\": \"2020-01-24T00:00:00\", \"count\": 19}, {\"date\": \"2020-02-07T00:00:00\", \"count\": 19}, {\"date\": \"2020-02-11T00:00:00\", \"count\": 19}, {\"date\": \"2019-09-28T00:00:00\", \"count\": 19}, {\"date\": \"2020-03-29T00:00:00\", \"count\": 19}, {\"date\": \"2020-07-01T00:00:00\", \"count\": 19}, {\"date\": \"2020-05-30T00:00:00\", \"count\": 19}, {\"date\": \"2020-08-05T00:00:00\", \"count\": 19}, {\"date\": \"2019-10-13T00:00:00\", \"count\": 19}, {\"date\": \"2020-04-17T00:00:00\", \"count\": 19}, {\"date\": \"2019-09-25T00:00:00\", \"count\": 19}, {\"date\": \"2019-07-23T00:00:00\", \"count\": 19}, {\"date\": \"2017-11-01T00:00:00\", \"count\": 19}, {\"date\": \"2020-08-13T00:00:00\", \"count\": 19}, {\"date\": \"2018-07-03T00:00:00\", \"count\": 19}, {\"date\": \"2020-03-09T00:00:00\", \"count\": 19}, {\"date\": \"2018-09-20T00:00:00\", \"count\": 18}, {\"date\": \"2019-09-27T00:00:00\", \"count\": 18}, {\"date\": \"2019-10-05T00:00:00\", \"count\": 18}, {\"date\": \"2018-10-18T00:00:00\", \"count\": 18}, {\"date\": \"2020-08-01T00:00:00\", \"count\": 18}, {\"date\": \"2019-10-02T00:00:00\", \"count\": 18}, {\"date\": \"2020-07-11T00:00:00\", \"count\": 18}, {\"date\": \"2017-09-26T00:00:00\", \"count\": 18}, {\"date\": \"2020-06-10T00:00:00\", \"count\": 18}, {\"date\": \"2020-09-28T00:00:00\", \"count\": 18}, {\"date\": \"2019-11-24T00:00:00\", \"count\": 18}, {\"date\": \"2019-06-15T00:00:00\", \"count\": 18}, {\"date\": \"2020-05-25T00:00:00\", \"count\": 18}, {\"date\": \"2019-09-24T00:00:00\", \"count\": 18}, {\"date\": \"2020-02-28T00:00:00\", \"count\": 18}, {\"date\": \"2019-01-20T00:00:00\", \"count\": 18}, {\"date\": \"2020-01-28T00:00:00\", \"count\": 18}, {\"date\": \"2020-10-18T00:00:00\", \"count\": 18}, {\"date\": \"2019-04-23T00:00:00\", \"count\": 18}, {\"date\": \"2020-02-14T00:00:00\", \"count\": 18}, {\"date\": \"2019-07-22T00:00:00\", \"count\": 18}, {\"date\": \"2019-10-20T00:00:00\", \"count\": 18}, {\"date\": \"2019-10-18T00:00:00\", \"count\": 18}, {\"date\": \"2019-09-11T00:00:00\", \"count\": 18}, {\"date\": \"2020-01-25T00:00:00\", \"count\": 18}, {\"date\": \"2019-10-10T00:00:00\", \"count\": 18}, {\"date\": \"2020-05-02T00:00:00\", \"count\": 18}, {\"date\": \"2020-01-20T00:00:00\", \"count\": 18}, {\"date\": \"2019-09-07T00:00:00\", \"count\": 17}, {\"date\": \"2019-10-01T00:00:00\", \"count\": 17}, {\"date\": \"2019-09-15T00:00:00\", \"count\": 17}, {\"date\": \"2019-10-15T00:00:00\", \"count\": 17}, {\"date\": \"2019-07-17T00:00:00\", \"count\": 17}, {\"date\": \"2019-09-03T00:00:00\", \"count\": 17}, {\"date\": \"2019-09-04T00:00:00\", \"count\": 17}, {\"date\": \"2019-09-05T00:00:00\", \"count\": 17}, {\"date\": \"2019-11-20T00:00:00\", \"count\": 17}, {\"date\": \"2020-03-18T00:00:00\", \"count\": 17}, {\"date\": \"2017-07-25T00:00:00\", \"count\": 17}, {\"date\": \"2020-06-13T00:00:00\", \"count\": 17}, {\"date\": \"2020-03-01T00:00:00\", \"count\": 17}, {\"date\": \"2020-08-17T00:00:00\", \"count\": 17}, {\"date\": \"2018-06-21T00:00:00\", \"count\": 17}, {\"date\": \"2020-08-10T00:00:00\", \"count\": 17}, {\"date\": \"2020-07-31T00:00:00\", \"count\": 17}, {\"date\": \"2019-04-12T00:00:00\", \"count\": 17}, {\"date\": \"2018-10-17T00:00:00\", \"count\": 17}, {\"date\": \"2018-10-25T00:00:00\", \"count\": 17}, {\"date\": \"2020-02-20T00:00:00\", \"count\": 17}, {\"date\": \"2020-04-04T00:00:00\", \"count\": 17}, {\"date\": \"2019-03-08T00:00:00\", \"count\": 17}, {\"date\": \"2020-05-23T00:00:00\", \"count\": 17}, {\"date\": \"2019-02-25T00:00:00\", \"count\": 17}, {\"date\": \"2019-12-10T00:00:00\", \"count\": 17}, {\"date\": \"2018-10-31T00:00:00\", \"count\": 17}, {\"date\": \"2018-11-29T00:00:00\", \"count\": 17}, {\"date\": \"2018-06-26T00:00:00\", \"count\": 17}, {\"date\": \"2020-05-14T00:00:00\", \"count\": 17}, {\"date\": \"2018-08-16T00:00:00\", \"count\": 17}, {\"date\": \"2019-05-14T00:00:00\", \"count\": 17}, {\"date\": \"2019-05-19T00:00:00\", \"count\": 17}, {\"date\": \"2020-10-19T00:00:00\", \"count\": 17}, {\"date\": \"2020-01-09T00:00:00\", \"count\": 17}, {\"date\": \"2020-02-09T00:00:00\", \"count\": 17}, {\"date\": \"2018-08-13T00:00:00\", \"count\": 17}, {\"date\": \"2017-09-20T00:00:00\", \"count\": 17}, {\"date\": \"2018-07-27T00:00:00\", \"count\": 16}, {\"date\": \"2020-05-19T00:00:00\", \"count\": 16}, {\"date\": \"2018-01-02T00:00:00\", \"count\": 16}, {\"date\": \"2017-11-29T00:00:00\", \"count\": 16}, {\"date\": \"2019-08-06T00:00:00\", \"count\": 16}, {\"date\": \"2020-10-15T00:00:00\", \"count\": 16}, {\"date\": \"2019-08-01T00:00:00\", \"count\": 16}, {\"date\": \"2020-06-12T00:00:00\", \"count\": 16}, {\"date\": \"2020-10-11T00:00:00\", \"count\": 16}, {\"date\": \"2019-08-27T00:00:00\", \"count\": 16}, {\"date\": \"2018-05-23T00:00:00\", \"count\": 16}, {\"date\": \"2018-09-10T00:00:00\", \"count\": 16}, {\"date\": \"2020-07-09T00:00:00\", \"count\": 16}, {\"date\": \"2020-09-05T00:00:00\", \"count\": 16}, {\"date\": \"2018-09-04T00:00:00\", \"count\": 16}, {\"date\": \"2019-08-28T00:00:00\", \"count\": 16}, {\"date\": \"2020-07-26T00:00:00\", \"count\": 16}, {\"date\": \"2019-09-22T00:00:00\", \"count\": 16}, {\"date\": \"2018-08-28T00:00:00\", \"count\": 16}, {\"date\": \"2018-07-31T00:00:00\", \"count\": 16}, {\"date\": \"2020-10-09T00:00:00\", \"count\": 16}, {\"date\": \"2020-05-09T00:00:00\", \"count\": 16}, {\"date\": \"2018-08-24T00:00:00\", \"count\": 16}, {\"date\": \"2020-08-22T00:00:00\", \"count\": 16}, {\"date\": \"2018-08-22T00:00:00\", \"count\": 16}, {\"date\": \"2019-06-12T00:00:00\", \"count\": 16}, {\"date\": \"2019-01-05T00:00:00\", \"count\": 16}, {\"date\": \"2020-05-05T00:00:00\", \"count\": 16}, {\"date\": \"2019-04-15T00:00:00\", \"count\": 16}, {\"date\": \"2019-12-26T00:00:00\", \"count\": 16}, {\"date\": \"2019-06-16T00:00:00\", \"count\": 16}, {\"date\": \"2020-01-17T00:00:00\", \"count\": 16}, {\"date\": \"2020-01-22T00:00:00\", \"count\": 16}, {\"date\": \"2019-11-14T00:00:00\", \"count\": 16}, {\"date\": \"2019-07-04T00:00:00\", \"count\": 16}, {\"date\": \"2020-02-12T00:00:00\", \"count\": 16}, {\"date\": \"2020-02-24T00:00:00\", \"count\": 16}, {\"date\": \"2017-10-18T00:00:00\", \"count\": 16}, {\"date\": \"2019-11-04T00:00:00\", \"count\": 16}, {\"date\": \"2020-04-30T00:00:00\", \"count\": 16}, {\"date\": \"2019-04-22T00:00:00\", \"count\": 16}, {\"date\": \"2020-03-13T00:00:00\", \"count\": 16}, {\"date\": \"2017-10-27T00:00:00\", \"count\": 16}, {\"date\": \"2019-08-16T00:00:00\", \"count\": 16}, {\"date\": \"2019-10-22T00:00:00\", \"count\": 16}, {\"date\": \"2019-03-28T00:00:00\", \"count\": 16}, {\"date\": \"2019-03-17T00:00:00\", \"count\": 16}, {\"date\": \"2017-10-31T00:00:00\", \"count\": 16}, {\"date\": \"2020-03-15T00:00:00\", \"count\": 16}, {\"date\": \"2018-12-07T00:00:00\", \"count\": 16}, {\"date\": \"2019-04-05T00:00:00\", \"count\": 16}, {\"date\": \"2017-11-07T00:00:00\", \"count\": 16}, {\"date\": \"2017-11-03T00:00:00\", \"count\": 16}, {\"date\": \"2020-04-08T00:00:00\", \"count\": 16}, {\"date\": \"2019-06-18T00:00:00\", \"count\": 15}, {\"date\": \"2019-02-18T00:00:00\", \"count\": 15}, {\"date\": \"2019-05-30T00:00:00\", \"count\": 15}, {\"date\": \"2019-06-07T00:00:00\", \"count\": 15}, {\"date\": \"2018-07-25T00:00:00\", \"count\": 15}, {\"date\": \"2019-06-08T00:00:00\", \"count\": 15}, {\"date\": \"2019-05-21T00:00:00\", \"count\": 15}, {\"date\": \"2018-08-30T00:00:00\", \"count\": 15}, {\"date\": \"2019-03-18T00:00:00\", \"count\": 15}, {\"date\": \"2018-08-01T00:00:00\", \"count\": 15}, {\"date\": \"2019-07-10T00:00:00\", \"count\": 15}, {\"date\": \"2018-08-17T00:00:00\", \"count\": 15}, {\"date\": \"2019-05-05T00:00:00\", \"count\": 15}, {\"date\": \"2018-06-25T00:00:00\", \"count\": 15}, {\"date\": \"2019-04-09T00:00:00\", \"count\": 15}, {\"date\": \"2019-04-24T00:00:00\", \"count\": 15}, {\"date\": \"2018-06-23T00:00:00\", \"count\": 15}, {\"date\": \"2019-07-15T00:00:00\", \"count\": 15}, {\"date\": \"2019-07-14T00:00:00\", \"count\": 15}, {\"date\": \"2018-12-20T00:00:00\", \"count\": 15}, {\"date\": \"2020-04-18T00:00:00\", \"count\": 15}, {\"date\": \"2019-10-12T00:00:00\", \"count\": 15}, {\"date\": \"2020-02-21T00:00:00\", \"count\": 15}, {\"date\": \"2020-02-26T00:00:00\", \"count\": 15}, {\"date\": \"2020-03-23T00:00:00\", \"count\": 15}, {\"date\": \"2020-03-24T00:00:00\", \"count\": 15}, {\"date\": \"2020-04-06T00:00:00\", \"count\": 15}, {\"date\": \"2019-11-16T00:00:00\", \"count\": 15}, {\"date\": \"2020-06-01T00:00:00\", \"count\": 15}, {\"date\": \"2019-11-06T00:00:00\", \"count\": 15}, {\"date\": \"2017-10-25T00:00:00\", \"count\": 15}, {\"date\": \"2020-07-15T00:00:00\", \"count\": 15}, {\"date\": \"2020-07-30T00:00:00\", \"count\": 15}, {\"date\": \"2017-10-13T00:00:00\", \"count\": 15}, {\"date\": \"2020-02-10T00:00:00\", \"count\": 15}, {\"date\": \"2020-08-15T00:00:00\", \"count\": 15}, {\"date\": \"2020-08-07T00:00:00\", \"count\": 15}, {\"date\": \"2020-09-06T00:00:00\", \"count\": 15}, {\"date\": \"2020-09-15T00:00:00\", \"count\": 15}, {\"date\": \"2020-08-31T00:00:00\", \"count\": 15}, {\"date\": \"2019-08-20T00:00:00\", \"count\": 15}, {\"date\": \"2019-08-19T00:00:00\", \"count\": 15}, {\"date\": \"2020-11-05T00:00:00\", \"count\": 15}, {\"date\": \"2017-07-22T00:00:00\", \"count\": 14}, {\"date\": \"2019-04-18T00:00:00\", \"count\": 14}, {\"date\": \"2020-03-14T00:00:00\", \"count\": 14}, {\"date\": \"2019-04-06T00:00:00\", \"count\": 14}, {\"date\": \"2019-01-12T00:00:00\", \"count\": 14}, {\"date\": \"2019-05-03T00:00:00\", \"count\": 14}, {\"date\": \"2018-07-29T00:00:00\", \"count\": 14}, {\"date\": \"2020-03-25T00:00:00\", \"count\": 14}, {\"date\": \"2018-04-02T00:00:00\", \"count\": 14}, {\"date\": \"2019-03-14T00:00:00\", \"count\": 14}, {\"date\": \"2019-01-18T00:00:00\", \"count\": 14}, {\"date\": \"2018-04-17T00:00:00\", \"count\": 14}, {\"date\": \"2020-02-25T00:00:00\", \"count\": 14}, {\"date\": \"2019-01-13T00:00:00\", \"count\": 14}, {\"date\": \"2020-08-02T00:00:00\", \"count\": 14}, {\"date\": \"2018-12-31T00:00:00\", \"count\": 14}, {\"date\": \"2018-09-21T00:00:00\", \"count\": 14}, {\"date\": \"2018-06-15T00:00:00\", \"count\": 14}, {\"date\": \"2018-09-01T00:00:00\", \"count\": 14}, {\"date\": \"2018-09-11T00:00:00\", \"count\": 14}, {\"date\": \"2018-09-13T00:00:00\", \"count\": 14}, {\"date\": \"2020-07-10T00:00:00\", \"count\": 14}, {\"date\": \"2018-09-18T00:00:00\", \"count\": 14}, {\"date\": \"2020-08-19T00:00:00\", \"count\": 14}, {\"date\": \"2018-05-25T00:00:00\", \"count\": 14}, {\"date\": \"2020-04-25T00:00:00\", \"count\": 14}, {\"date\": \"2020-06-30T00:00:00\", \"count\": 14}, {\"date\": \"2019-05-17T00:00:00\", \"count\": 14}, {\"date\": \"2020-06-25T00:00:00\", \"count\": 14}, {\"date\": \"2020-06-23T00:00:00\", \"count\": 14}, {\"date\": \"2020-09-01T00:00:00\", \"count\": 14}, {\"date\": \"2018-10-27T00:00:00\", \"count\": 14}, {\"date\": \"2017-06-22T00:00:00\", \"count\": 14}, {\"date\": \"2018-12-18T00:00:00\", \"count\": 14}, {\"date\": \"2019-08-14T00:00:00\", \"count\": 14}, {\"date\": \"2020-01-11T00:00:00\", \"count\": 14}, {\"date\": \"2019-08-24T00:00:00\", \"count\": 14}, {\"date\": \"2019-07-19T00:00:00\", \"count\": 14}, {\"date\": \"2018-02-20T00:00:00\", \"count\": 14}, {\"date\": \"2019-10-17T00:00:00\", \"count\": 14}, {\"date\": \"2019-07-25T00:00:00\", \"count\": 14}, {\"date\": \"2019-07-26T00:00:00\", \"count\": 14}, {\"date\": \"2017-10-11T00:00:00\", \"count\": 14}, {\"date\": \"2019-06-10T00:00:00\", \"count\": 14}, {\"date\": \"2017-09-23T00:00:00\", \"count\": 14}, {\"date\": \"2019-07-03T00:00:00\", \"count\": 14}, {\"date\": \"2018-01-11T00:00:00\", \"count\": 14}, {\"date\": \"2019-07-01T00:00:00\", \"count\": 14}, {\"date\": \"2017-08-25T00:00:00\", \"count\": 14}, {\"date\": \"2017-09-25T00:00:00\", \"count\": 14}, {\"date\": \"2019-11-23T00:00:00\", \"count\": 14}, {\"date\": \"2017-08-07T00:00:00\", \"count\": 13}, {\"date\": \"2018-05-04T00:00:00\", \"count\": 13}, {\"date\": \"2020-07-03T00:00:00\", \"count\": 13}, {\"date\": \"2017-10-21T00:00:00\", \"count\": 13}, {\"date\": \"2018-05-30T00:00:00\", \"count\": 13}, {\"date\": \"2018-09-25T00:00:00\", \"count\": 13}, {\"date\": \"2018-10-09T00:00:00\", \"count\": 13}, {\"date\": \"2018-11-09T00:00:00\", \"count\": 13}, {\"date\": \"2018-10-13T00:00:00\", \"count\": 13}, {\"date\": \"2020-06-28T00:00:00\", \"count\": 13}, {\"date\": \"2020-05-01T00:00:00\", \"count\": 13}, {\"date\": \"2020-05-04T00:00:00\", \"count\": 13}, {\"date\": \"2017-05-28T00:00:00\", \"count\": 13}, {\"date\": \"2018-06-02T00:00:00\", \"count\": 13}, {\"date\": \"2020-02-01T00:00:00\", \"count\": 13}, {\"date\": \"2018-06-04T00:00:00\", \"count\": 13}, {\"date\": \"2020-08-23T00:00:00\", \"count\": 13}, {\"date\": \"2018-07-24T00:00:00\", \"count\": 13}, {\"date\": \"2019-08-05T00:00:00\", \"count\": 13}, {\"date\": \"2018-07-30T00:00:00\", \"count\": 13}, {\"date\": \"2020-10-01T00:00:00\", \"count\": 13}, {\"date\": \"2018-08-14T00:00:00\", \"count\": 13}, {\"date\": \"2020-09-21T00:00:00\", \"count\": 13}, {\"date\": \"2019-08-03T00:00:00\", \"count\": 13}, {\"date\": \"2018-08-20T00:00:00\", \"count\": 13}, {\"date\": \"2017-12-18T00:00:00\", \"count\": 13}, {\"date\": \"2019-10-29T00:00:00\", \"count\": 13}, {\"date\": \"2017-11-28T00:00:00\", \"count\": 13}, {\"date\": \"2018-06-22T00:00:00\", \"count\": 13}, {\"date\": \"2018-06-20T00:00:00\", \"count\": 13}, {\"date\": \"2019-07-28T00:00:00\", \"count\": 13}, {\"date\": \"2018-06-17T00:00:00\", \"count\": 13}, {\"date\": \"2017-11-02T00:00:00\", \"count\": 13}, {\"date\": \"2018-06-12T00:00:00\", \"count\": 13}, {\"date\": \"2019-06-22T00:00:00\", \"count\": 13}, {\"date\": \"2018-12-13T00:00:00\", \"count\": 13}, {\"date\": \"2020-05-15T00:00:00\", \"count\": 13}, {\"date\": \"2019-03-16T00:00:00\", \"count\": 13}, {\"date\": \"2018-04-19T00:00:00\", \"count\": 13}, {\"date\": \"2019-04-27T00:00:00\", \"count\": 13}, {\"date\": \"2019-08-17T00:00:00\", \"count\": 13}, {\"date\": \"2019-03-03T00:00:00\", \"count\": 13}, {\"date\": \"2017-07-29T00:00:00\", \"count\": 13}, {\"date\": \"2019-01-22T00:00:00\", \"count\": 13}, {\"date\": \"2019-05-27T00:00:00\", \"count\": 13}, {\"date\": \"2019-03-13T00:00:00\", \"count\": 13}, {\"date\": \"2017-09-15T00:00:00\", \"count\": 13}, {\"date\": \"2019-12-07T00:00:00\", \"count\": 13}, {\"date\": \"2017-07-14T00:00:00\", \"count\": 13}, {\"date\": \"2018-04-21T00:00:00\", \"count\": 13}, {\"date\": \"2020-04-24T00:00:00\", \"count\": 13}, {\"date\": \"2019-01-01T00:00:00\", \"count\": 13}, {\"date\": \"2020-01-18T00:00:00\", \"count\": 13}, {\"date\": \"2018-12-23T00:00:00\", \"count\": 13}, {\"date\": \"2020-01-27T00:00:00\", \"count\": 13}, {\"date\": \"2017-06-29T00:00:00\", \"count\": 13}, {\"date\": \"2020-03-22T00:00:00\", \"count\": 12}, {\"date\": \"2019-09-01T00:00:00\", \"count\": 12}, {\"date\": \"2020-08-11T00:00:00\", \"count\": 12}, {\"date\": \"2020-01-13T00:00:00\", \"count\": 12}, {\"date\": \"2019-05-31T00:00:00\", \"count\": 12}, {\"date\": \"2019-06-01T00:00:00\", \"count\": 12}, {\"date\": \"2019-04-20T00:00:00\", \"count\": 12}, {\"date\": \"2019-04-01T00:00:00\", \"count\": 12}, {\"date\": \"2020-03-11T00:00:00\", \"count\": 12}, {\"date\": \"2020-09-16T00:00:00\", \"count\": 12}, {\"date\": \"2020-03-06T00:00:00\", \"count\": 12}, {\"date\": \"2019-05-25T00:00:00\", \"count\": 12}, {\"date\": \"2018-08-18T00:00:00\", \"count\": 12}, {\"date\": \"2019-04-29T00:00:00\", \"count\": 12}, {\"date\": \"2019-03-19T00:00:00\", \"count\": 12}, {\"date\": \"2020-01-14T00:00:00\", \"count\": 12}, {\"date\": \"2020-09-27T00:00:00\", \"count\": 12}, {\"date\": \"2018-08-04T00:00:00\", \"count\": 12}, {\"date\": \"2018-08-03T00:00:00\", \"count\": 12}, {\"date\": \"2019-05-04T00:00:00\", \"count\": 12}, {\"date\": \"2020-10-10T00:00:00\", \"count\": 12}, {\"date\": \"2020-02-29T00:00:00\", \"count\": 12}, {\"date\": \"2020-11-04T00:00:00\", \"count\": 12}, {\"date\": \"2019-08-10T00:00:00\", \"count\": 12}, {\"date\": \"2019-06-02T00:00:00\", \"count\": 12}, {\"date\": \"2018-12-16T00:00:00\", \"count\": 12}, {\"date\": \"2020-07-25T00:00:00\", \"count\": 12}, {\"date\": \"2020-03-31T00:00:00\", \"count\": 12}, {\"date\": \"2018-12-08T00:00:00\", \"count\": 12}, {\"date\": \"2018-12-03T00:00:00\", \"count\": 12}, {\"date\": \"2018-12-24T00:00:00\", \"count\": 12}, {\"date\": \"2020-04-29T00:00:00\", \"count\": 12}, {\"date\": \"2018-11-13T00:00:00\", \"count\": 12}, {\"date\": \"2018-11-02T00:00:00\", \"count\": 12}, {\"date\": \"2019-11-12T00:00:00\", \"count\": 12}, {\"date\": \"2018-10-26T00:00:00\", \"count\": 12}, {\"date\": \"2020-06-08T00:00:00\", \"count\": 12}, {\"date\": \"2020-04-20T00:00:00\", \"count\": 12}, {\"date\": \"2019-07-07T00:00:00\", \"count\": 12}, {\"date\": \"2019-01-26T00:00:00\", \"count\": 12}, {\"date\": \"2018-10-12T00:00:00\", \"count\": 12}, {\"date\": \"2019-11-10T00:00:00\", \"count\": 12}, {\"date\": \"2018-07-18T00:00:00\", \"count\": 12}, {\"date\": \"2018-10-03T00:00:00\", \"count\": 12}, {\"date\": \"2018-10-02T00:00:00\", \"count\": 12}, {\"date\": \"2019-02-08T00:00:00\", \"count\": 12}, {\"date\": \"2018-09-24T00:00:00\", \"count\": 12}, {\"date\": \"2020-04-10T00:00:00\", \"count\": 12}, {\"date\": \"2019-03-05T00:00:00\", \"count\": 12}, {\"date\": \"2019-07-16T00:00:00\", \"count\": 12}, {\"date\": \"2019-12-16T00:00:00\", \"count\": 12}, {\"date\": \"2018-09-17T00:00:00\", \"count\": 12}, {\"date\": \"2019-11-18T00:00:00\", \"count\": 12}, {\"date\": \"2019-07-21T00:00:00\", \"count\": 12}, {\"date\": \"2019-10-28T00:00:00\", \"count\": 12}, {\"date\": \"2020-07-23T00:00:00\", \"count\": 12}, {\"date\": \"2018-09-05T00:00:00\", \"count\": 12}, {\"date\": \"2018-07-23T00:00:00\", \"count\": 12}, {\"date\": \"2017-01-20T00:00:00\", \"count\": 12}, {\"date\": \"2017-06-19T00:00:00\", \"count\": 12}, {\"date\": \"2018-07-11T00:00:00\", \"count\": 12}, {\"date\": \"2018-06-19T00:00:00\", \"count\": 12}, {\"date\": \"2017-04-27T00:00:00\", \"count\": 12}, {\"date\": \"2018-06-13T00:00:00\", \"count\": 12}, {\"date\": \"2018-04-11T00:00:00\", \"count\": 12}, {\"date\": \"2018-06-27T00:00:00\", \"count\": 12}, {\"date\": \"2017-11-30T00:00:00\", \"count\": 12}, {\"date\": \"2017-12-09T00:00:00\", \"count\": 12}, {\"date\": \"2017-07-01T00:00:00\", \"count\": 12}, {\"date\": \"2017-08-24T00:00:00\", \"count\": 12}, {\"date\": \"2017-10-07T00:00:00\", \"count\": 12}, {\"date\": \"2019-08-08T00:00:00\", \"count\": 11}, {\"date\": \"2020-04-02T00:00:00\", \"count\": 11}, {\"date\": \"2018-11-25T00:00:00\", \"count\": 11}, {\"date\": \"2017-07-24T00:00:00\", \"count\": 11}, {\"date\": \"2017-05-12T00:00:00\", \"count\": 11}, {\"date\": \"2019-06-19T00:00:00\", \"count\": 11}, {\"date\": \"2019-02-10T00:00:00\", \"count\": 11}, {\"date\": \"2019-06-17T00:00:00\", \"count\": 11}, {\"date\": \"2018-05-18T00:00:00\", \"count\": 11}, {\"date\": \"2020-05-29T00:00:00\", \"count\": 11}, {\"date\": \"2020-03-21T00:00:00\", \"count\": 11}, {\"date\": \"2019-08-22T00:00:00\", \"count\": 11}, {\"date\": \"2017-07-09T00:00:00\", \"count\": 11}, {\"date\": \"2019-06-14T00:00:00\", \"count\": 11}, {\"date\": \"2017-07-12T00:00:00\", \"count\": 11}, {\"date\": \"2019-03-04T00:00:00\", \"count\": 11}, {\"date\": \"2017-08-16T00:00:00\", \"count\": 11}, {\"date\": \"2019-08-26T00:00:00\", \"count\": 11}, {\"date\": \"2019-02-17T00:00:00\", \"count\": 11}, {\"date\": \"2019-09-14T00:00:00\", \"count\": 11}, {\"date\": \"2019-06-25T00:00:00\", \"count\": 11}, {\"date\": \"2019-06-29T00:00:00\", \"count\": 11}, {\"date\": \"2017-08-27T00:00:00\", \"count\": 11}, {\"date\": \"2018-05-07T00:00:00\", \"count\": 11}, {\"date\": \"2019-07-18T00:00:00\", \"count\": 11}, {\"date\": \"2019-03-15T00:00:00\", \"count\": 11}, {\"date\": \"2019-07-20T00:00:00\", \"count\": 11}, {\"date\": \"2017-12-22T00:00:00\", \"count\": 11}, {\"date\": \"2018-10-04T00:00:00\", \"count\": 11}, {\"date\": \"2020-04-13T00:00:00\", \"count\": 11}, {\"date\": \"2018-11-06T00:00:00\", \"count\": 11}, {\"date\": \"2017-11-15T00:00:00\", \"count\": 11}, {\"date\": \"2020-03-16T00:00:00\", \"count\": 11}, {\"date\": \"2017-05-04T00:00:00\", \"count\": 11}, {\"date\": \"2019-06-03T00:00:00\", \"count\": 11}, {\"date\": \"2018-04-27T00:00:00\", \"count\": 11}, {\"date\": \"2019-05-24T00:00:00\", \"count\": 11}, {\"date\": \"2019-06-09T00:00:00\", \"count\": 11}, {\"date\": \"2017-02-15T00:00:00\", \"count\": 11}, {\"date\": \"2019-12-23T00:00:00\", \"count\": 11}, {\"date\": \"2018-12-27T00:00:00\", \"count\": 11}, {\"date\": \"2017-02-08T00:00:00\", \"count\": 11}, {\"date\": \"2017-09-14T00:00:00\", \"count\": 11}, {\"date\": \"2018-07-10T00:00:00\", \"count\": 11}, {\"date\": \"2019-11-22T00:00:00\", \"count\": 11}, {\"date\": \"2019-12-05T00:00:00\", \"count\": 11}, {\"date\": \"2019-11-26T00:00:00\", \"count\": 11}, {\"date\": \"2019-01-14T00:00:00\", \"count\": 11}, {\"date\": \"2019-01-10T00:00:00\", \"count\": 11}, {\"date\": \"2018-07-19T00:00:00\", \"count\": 11}, {\"date\": \"2018-02-24T00:00:00\", \"count\": 11}, {\"date\": \"2019-11-07T00:00:00\", \"count\": 11}, {\"date\": \"2019-04-02T00:00:00\", \"count\": 11}, {\"date\": \"2020-01-16T00:00:00\", \"count\": 11}, {\"date\": \"2019-04-04T00:00:00\", \"count\": 11}, {\"date\": \"2019-06-05T00:00:00\", \"count\": 11}, {\"date\": \"2018-08-21T00:00:00\", \"count\": 11}, {\"date\": \"2019-01-30T00:00:00\", \"count\": 11}, {\"date\": \"2018-06-28T00:00:00\", \"count\": 11}, {\"date\": \"2020-08-03T00:00:00\", \"count\": 11}, {\"date\": \"2018-12-11T00:00:00\", \"count\": 11}, {\"date\": \"2020-03-12T00:00:00\", \"count\": 10}, {\"date\": \"2019-03-01T00:00:00\", \"count\": 10}, {\"date\": \"2019-08-18T00:00:00\", \"count\": 10}, {\"date\": \"2019-11-30T00:00:00\", \"count\": 10}, {\"date\": \"2019-05-02T00:00:00\", \"count\": 10}, {\"date\": \"2018-12-04T00:00:00\", \"count\": 10}, {\"date\": \"2020-01-10T00:00:00\", \"count\": 10}, {\"date\": \"2017-07-26T00:00:00\", \"count\": 10}, {\"date\": \"2019-11-13T00:00:00\", \"count\": 10}, {\"date\": \"2017-09-19T00:00:00\", \"count\": 10}, {\"date\": \"2017-08-17T00:00:00\", \"count\": 10}, {\"date\": \"2018-12-19T00:00:00\", \"count\": 10}, {\"date\": \"2017-07-27T00:00:00\", \"count\": 10}, {\"date\": \"2018-11-07T00:00:00\", \"count\": 10}, {\"date\": \"2017-10-17T00:00:00\", \"count\": 10}, {\"date\": \"2019-02-24T00:00:00\", \"count\": 10}, {\"date\": \"2020-02-27T00:00:00\", \"count\": 10}, {\"date\": \"2019-02-11T00:00:00\", \"count\": 10}, {\"date\": \"2018-11-12T00:00:00\", \"count\": 10}, {\"date\": \"2017-10-12T00:00:00\", \"count\": 10}, {\"date\": \"2019-01-24T00:00:00\", \"count\": 10}, {\"date\": \"2019-09-23T00:00:00\", \"count\": 10}, {\"date\": \"2018-12-22T00:00:00\", \"count\": 10}, {\"date\": \"2020-02-23T00:00:00\", \"count\": 10}, {\"date\": \"2018-11-15T00:00:00\", \"count\": 10}, {\"date\": \"2019-11-02T00:00:00\", \"count\": 10}, {\"date\": \"2018-11-21T00:00:00\", \"count\": 10}, {\"date\": \"2018-05-02T00:00:00\", \"count\": 10}, {\"date\": \"2017-07-03T00:00:00\", \"count\": 10}, {\"date\": \"2018-09-06T00:00:00\", \"count\": 10}, {\"date\": \"2020-05-13T00:00:00\", \"count\": 10}, {\"date\": \"2019-03-20T00:00:00\", \"count\": 10}, {\"date\": \"2018-06-06T00:00:00\", \"count\": 10}, {\"date\": \"2020-05-31T00:00:00\", \"count\": 10}, {\"date\": \"2018-09-15T00:00:00\", \"count\": 10}, {\"date\": \"2018-09-14T00:00:00\", \"count\": 10}, {\"date\": \"2018-06-09T00:00:00\", \"count\": 10}, {\"date\": \"2019-03-22T00:00:00\", \"count\": 10}, {\"date\": \"2018-09-08T00:00:00\", \"count\": 10}, {\"date\": \"2018-03-10T00:00:00\", \"count\": 10}, {\"date\": \"2018-05-16T00:00:00\", \"count\": 10}, {\"date\": \"2019-03-26T00:00:00\", \"count\": 10}, {\"date\": \"2018-09-03T00:00:00\", \"count\": 10}, {\"date\": \"2019-04-21T00:00:00\", \"count\": 10}, {\"date\": \"2019-03-29T00:00:00\", \"count\": 10}, {\"date\": \"2018-02-18T00:00:00\", \"count\": 10}, {\"date\": \"2017-02-11T00:00:00\", \"count\": 10}, {\"date\": \"2019-06-06T00:00:00\", \"count\": 10}, {\"date\": \"2019-06-04T00:00:00\", \"count\": 10}, {\"date\": \"2020-08-04T00:00:00\", \"count\": 10}, {\"date\": \"2019-04-16T00:00:00\", \"count\": 10}, {\"date\": \"2018-02-22T00:00:00\", \"count\": 10}, {\"date\": \"2017-06-06T00:00:00\", \"count\": 10}, {\"date\": \"2017-05-31T00:00:00\", \"count\": 10}, {\"date\": \"2019-04-13T00:00:00\", \"count\": 10}, {\"date\": \"2018-10-19T00:00:00\", \"count\": 10}, {\"date\": \"2018-10-10T00:00:00\", \"count\": 10}, {\"date\": \"2018-04-20T00:00:00\", \"count\": 10}, {\"date\": \"2018-07-26T00:00:00\", \"count\": 10}, {\"date\": \"2019-03-12T00:00:00\", \"count\": 10}, {\"date\": \"2020-04-05T00:00:00\", \"count\": 10}, {\"date\": \"2020-04-19T00:00:00\", \"count\": 10}, {\"date\": \"2018-05-21T00:00:00\", \"count\": 10}, {\"date\": \"2018-05-26T00:00:00\", \"count\": 10}, {\"date\": \"2017-06-20T00:00:00\", \"count\": 10}, {\"date\": \"2018-05-28T00:00:00\", \"count\": 10}, {\"date\": \"2018-10-20T00:00:00\", \"count\": 10}, {\"date\": \"2020-03-28T00:00:00\", \"count\": 10}, {\"date\": \"2018-07-14T00:00:00\", \"count\": 10}, {\"date\": \"2019-04-26T00:00:00\", \"count\": 10}, {\"date\": \"2018-05-17T00:00:00\", \"count\": 10}, {\"date\": \"2020-11-03T00:00:00\", \"count\": 10}, {\"date\": \"2018-03-01T00:00:00\", \"count\": 9}, {\"date\": \"2018-03-21T00:00:00\", \"count\": 9}, {\"date\": \"2017-10-08T00:00:00\", \"count\": 9}, {\"date\": \"2019-05-11T00:00:00\", \"count\": 9}, {\"date\": \"2018-03-14T00:00:00\", \"count\": 9}, {\"date\": \"2017-10-10T00:00:00\", \"count\": 9}, {\"date\": \"2019-01-21T00:00:00\", \"count\": 9}, {\"date\": \"2019-05-06T00:00:00\", \"count\": 9}, {\"date\": \"2019-01-15T00:00:00\", \"count\": 9}, {\"date\": \"2019-04-25T00:00:00\", \"count\": 9}, {\"date\": \"2018-02-27T00:00:00\", \"count\": 9}, {\"date\": \"2018-03-13T00:00:00\", \"count\": 9}, {\"date\": \"2018-01-04T00:00:00\", \"count\": 9}, {\"date\": \"2018-02-23T00:00:00\", \"count\": 9}, {\"date\": \"2019-02-19T00:00:00\", \"count\": 9}, {\"date\": \"2019-08-29T00:00:00\", \"count\": 9}, {\"date\": \"2018-01-16T00:00:00\", \"count\": 9}, {\"date\": \"2018-01-18T00:00:00\", \"count\": 9}, {\"date\": \"2018-01-20T00:00:00\", \"count\": 9}, {\"date\": \"2018-02-10T00:00:00\", \"count\": 9}, {\"date\": \"2019-09-08T00:00:00\", \"count\": 9}, {\"date\": \"2019-09-13T00:00:00\", \"count\": 9}, {\"date\": \"2019-02-20T00:00:00\", \"count\": 9}, {\"date\": \"2017-12-08T00:00:00\", \"count\": 9}, {\"date\": \"2017-10-19T00:00:00\", \"count\": 9}, {\"date\": \"2019-03-25T00:00:00\", \"count\": 9}, {\"date\": \"2019-02-07T00:00:00\", \"count\": 9}, {\"date\": \"2017-11-22T00:00:00\", \"count\": 9}, {\"date\": \"2017-11-13T00:00:00\", \"count\": 9}, {\"date\": \"2018-02-17T00:00:00\", \"count\": 9}, {\"date\": \"2018-03-28T00:00:00\", \"count\": 9}, {\"date\": \"2017-10-28T00:00:00\", \"count\": 9}, {\"date\": \"2018-04-12T00:00:00\", \"count\": 9}, {\"date\": \"2018-04-18T00:00:00\", \"count\": 9}, {\"date\": \"2019-09-12T00:00:00\", \"count\": 9}, {\"date\": \"2017-09-29T00:00:00\", \"count\": 9}, {\"date\": \"2020-04-22T00:00:00\", \"count\": 9}, {\"date\": \"2017-05-08T00:00:00\", \"count\": 9}, {\"date\": \"2020-06-20T00:00:00\", \"count\": 9}, {\"date\": \"2018-09-09T00:00:00\", \"count\": 9}, {\"date\": \"2017-05-10T00:00:00\", \"count\": 9}, {\"date\": \"2018-09-12T00:00:00\", \"count\": 9}, {\"date\": \"2017-06-05T00:00:00\", \"count\": 9}, {\"date\": \"2017-06-13T00:00:00\", \"count\": 9}, {\"date\": \"2020-04-28T00:00:00\", \"count\": 9}, {\"date\": \"2020-04-21T00:00:00\", \"count\": 9}, {\"date\": \"2018-08-31T00:00:00\", \"count\": 9}, {\"date\": \"2017-06-26T00:00:00\", \"count\": 9}, {\"date\": \"2017-06-28T00:00:00\", \"count\": 9}, {\"date\": \"2018-10-08T00:00:00\", \"count\": 9}, {\"date\": \"2020-04-09T00:00:00\", \"count\": 9}, {\"date\": \"2020-04-07T00:00:00\", \"count\": 9}, {\"date\": \"2017-07-16T00:00:00\", \"count\": 9}, {\"date\": \"2018-10-30T00:00:00\", \"count\": 9}, {\"date\": \"2018-11-01T00:00:00\", \"count\": 9}, {\"date\": \"2020-06-24T00:00:00\", \"count\": 9}, {\"date\": \"2020-06-29T00:00:00\", \"count\": 9}, {\"date\": \"2018-05-09T00:00:00\", \"count\": 9}, {\"date\": \"2017-03-03T00:00:00\", \"count\": 9}, {\"date\": \"2018-07-22T00:00:00\", \"count\": 9}, {\"date\": \"2017-01-25T00:00:00\", \"count\": 9}, {\"date\": \"2017-02-04T00:00:00\", \"count\": 9}, {\"date\": \"2020-10-20T00:00:00\", \"count\": 9}, {\"date\": \"2018-08-02T00:00:00\", \"count\": 9}, {\"date\": \"2017-02-17T00:00:00\", \"count\": 9}, {\"date\": \"2018-08-06T00:00:00\", \"count\": 9}, {\"date\": \"2020-09-26T00:00:00\", \"count\": 9}, {\"date\": \"2017-03-15T00:00:00\", \"count\": 9}, {\"date\": \"2018-08-27T00:00:00\", \"count\": 9}, {\"date\": \"2018-08-11T00:00:00\", \"count\": 9}, {\"date\": \"2017-03-30T00:00:00\", \"count\": 9}, {\"date\": \"2018-07-05T00:00:00\", \"count\": 9}, {\"date\": \"2018-06-30T00:00:00\", \"count\": 9}, {\"date\": \"2020-07-17T00:00:00\", \"count\": 9}, {\"date\": \"2020-07-13T00:00:00\", \"count\": 9}, {\"date\": \"2017-04-26T00:00:00\", \"count\": 9}, {\"date\": \"2018-08-25T00:00:00\", \"count\": 9}, {\"date\": \"2018-11-04T00:00:00\", \"count\": 9}, {\"date\": \"2019-04-30T00:00:00\", \"count\": 9}, {\"date\": \"2018-11-27T00:00:00\", \"count\": 9}, {\"date\": \"2017-08-14T00:00:00\", \"count\": 9}, {\"date\": \"2018-12-14T00:00:00\", \"count\": 9}, {\"date\": \"2017-09-01T00:00:00\", \"count\": 9}, {\"date\": \"2020-01-03T00:00:00\", \"count\": 9}, {\"date\": \"2017-09-06T00:00:00\", \"count\": 9}, {\"date\": \"2019-12-28T00:00:00\", \"count\": 9}, {\"date\": \"2018-12-05T00:00:00\", \"count\": 9}, {\"date\": \"2019-12-25T00:00:00\", \"count\": 9}, {\"date\": \"2018-11-30T00:00:00\", \"count\": 9}, {\"date\": \"2020-02-02T00:00:00\", \"count\": 9}, {\"date\": \"2019-12-24T00:00:00\", \"count\": 9}, {\"date\": \"2018-12-29T00:00:00\", \"count\": 9}, {\"date\": \"2020-02-05T00:00:00\", \"count\": 9}, {\"date\": \"2020-01-06T00:00:00\", \"count\": 9}, {\"date\": \"2019-12-04T00:00:00\", \"count\": 9}, {\"date\": \"2017-09-27T00:00:00\", \"count\": 9}, {\"date\": \"2017-09-22T00:00:00\", \"count\": 9}, {\"date\": \"2020-02-15T00:00:00\", \"count\": 9}, {\"date\": \"2019-05-18T00:00:00\", \"count\": 8}, {\"date\": \"2019-05-28T00:00:00\", \"count\": 8}, {\"date\": \"2017-01-24T00:00:00\", \"count\": 8}, {\"date\": \"2020-08-06T00:00:00\", \"count\": 8}, {\"date\": \"2017-01-30T00:00:00\", \"count\": 8}, {\"date\": \"2017-09-07T00:00:00\", \"count\": 8}, {\"date\": \"2017-02-03T00:00:00\", \"count\": 8}, {\"date\": \"2017-03-20T00:00:00\", \"count\": 8}, {\"date\": \"2018-03-02T00:00:00\", \"count\": 8}, {\"date\": \"2019-11-19T00:00:00\", \"count\": 8}, {\"date\": \"2017-09-24T00:00:00\", \"count\": 8}, {\"date\": \"2018-03-06T00:00:00\", \"count\": 8}, {\"date\": \"2018-02-28T00:00:00\", \"count\": 8}, {\"date\": \"2019-12-11T00:00:00\", \"count\": 8}, {\"date\": \"2017-04-23T00:00:00\", \"count\": 8}, {\"date\": \"2017-09-18T00:00:00\", \"count\": 8}, {\"date\": \"2017-07-28T00:00:00\", \"count\": 8}, {\"date\": \"2017-08-23T00:00:00\", \"count\": 8}, {\"date\": \"2017-10-24T00:00:00\", \"count\": 8}, {\"date\": \"2017-11-11T00:00:00\", \"count\": 8}, {\"date\": \"2017-12-31T00:00:00\", \"count\": 8}, {\"date\": \"2020-02-22T00:00:00\", \"count\": 8}, {\"date\": \"2020-02-17T00:00:00\", \"count\": 8}, {\"date\": \"2020-03-19T00:00:00\", \"count\": 8}, {\"date\": \"2020-02-13T00:00:00\", \"count\": 8}, {\"date\": \"2018-01-10T00:00:00\", \"count\": 8}, {\"date\": \"2019-11-25T00:00:00\", \"count\": 8}, {\"date\": \"2019-08-02T00:00:00\", \"count\": 8}, {\"date\": \"2017-08-12T00:00:00\", \"count\": 8}, {\"date\": \"2018-01-17T00:00:00\", \"count\": 8}, {\"date\": \"2020-04-14T00:00:00\", \"count\": 8}, {\"date\": \"2020-02-04T00:00:00\", \"count\": 8}, {\"date\": \"2017-12-07T00:00:00\", \"count\": 8}, {\"date\": \"2017-06-16T00:00:00\", \"count\": 8}, {\"date\": \"2020-05-08T00:00:00\", \"count\": 8}, {\"date\": \"2020-02-03T00:00:00\", \"count\": 8}, {\"date\": \"2017-11-23T00:00:00\", \"count\": 8}, {\"date\": \"2017-08-18T00:00:00\", \"count\": 8}, {\"date\": \"2017-08-19T00:00:00\", \"count\": 8}, {\"date\": \"2017-11-16T00:00:00\", \"count\": 8}, {\"date\": \"2017-05-05T00:00:00\", \"count\": 8}, {\"date\": \"2017-08-22T00:00:00\", \"count\": 8}, {\"date\": \"2017-08-03T00:00:00\", \"count\": 8}, {\"date\": \"2018-01-12T00:00:00\", \"count\": 8}, {\"date\": \"2018-07-17T00:00:00\", \"count\": 8}, {\"date\": \"2019-03-02T00:00:00\", \"count\": 8}, {\"date\": \"2019-03-27T00:00:00\", \"count\": 8}, {\"date\": \"2019-04-11T00:00:00\", \"count\": 8}, {\"date\": \"2019-04-10T00:00:00\", \"count\": 8}, {\"date\": \"2018-03-25T00:00:00\", \"count\": 8}, {\"date\": \"2018-06-18T00:00:00\", \"count\": 8}, {\"date\": \"2018-11-26T00:00:00\", \"count\": 8}, {\"date\": \"2019-01-23T00:00:00\", \"count\": 8}, {\"date\": \"2018-04-15T00:00:00\", \"count\": 8}, {\"date\": \"2019-01-11T00:00:00\", \"count\": 8}, {\"date\": \"2018-04-03T00:00:00\", \"count\": 8}, {\"date\": \"2018-10-01T00:00:00\", \"count\": 8}, {\"date\": \"2018-08-23T00:00:00\", \"count\": 8}, {\"date\": \"2018-04-22T00:00:00\", \"count\": 8}, {\"date\": \"2019-01-03T00:00:00\", \"count\": 8}, {\"date\": \"2018-04-24T00:00:00\", \"count\": 8}, {\"date\": \"2018-10-15T00:00:00\", \"count\": 8}, {\"date\": \"2018-05-20T00:00:00\", \"count\": 8}, {\"date\": \"2018-04-08T00:00:00\", \"count\": 8}, {\"date\": \"2018-10-24T00:00:00\", \"count\": 8}, {\"date\": \"2018-11-16T00:00:00\", \"count\": 8}, {\"date\": \"2018-12-06T00:00:00\", \"count\": 8}, {\"date\": \"2019-03-09T00:00:00\", \"count\": 8}, {\"date\": \"2019-01-27T00:00:00\", \"count\": 8}, {\"date\": \"2019-04-14T00:00:00\", \"count\": 8}, {\"date\": \"2019-04-19T00:00:00\", \"count\": 8}, {\"date\": \"2018-07-15T00:00:00\", \"count\": 8}, {\"date\": \"2018-07-09T00:00:00\", \"count\": 8}, {\"date\": \"2018-08-05T00:00:00\", \"count\": 8}, {\"date\": \"2018-08-07T00:00:00\", \"count\": 8}, {\"date\": \"2018-08-10T00:00:00\", \"count\": 8}, {\"date\": \"2018-11-22T00:00:00\", \"count\": 8}, {\"date\": \"2017-10-16T00:00:00\", \"count\": 7}, {\"date\": \"2017-11-06T00:00:00\", \"count\": 7}, {\"date\": \"2019-02-23T00:00:00\", \"count\": 7}, {\"date\": \"2018-05-01T00:00:00\", \"count\": 7}, {\"date\": \"2017-10-26T00:00:00\", \"count\": 7}, {\"date\": \"2018-04-30T00:00:00\", \"count\": 7}, {\"date\": \"2017-09-02T00:00:00\", \"count\": 7}, {\"date\": \"2020-01-02T00:00:00\", \"count\": 7}, {\"date\": \"2018-04-28T00:00:00\", \"count\": 7}, {\"date\": \"2018-07-16T00:00:00\", \"count\": 7}, {\"date\": \"2019-09-17T00:00:00\", \"count\": 7}, {\"date\": \"2017-09-08T00:00:00\", \"count\": 7}, {\"date\": \"2017-10-20T00:00:00\", \"count\": 7}, {\"date\": \"2019-09-19T00:00:00\", \"count\": 7}, {\"date\": \"2019-09-20T00:00:00\", \"count\": 7}, {\"date\": \"2019-02-01T00:00:00\", \"count\": 7}, {\"date\": \"2019-10-24T00:00:00\", \"count\": 7}, {\"date\": \"2019-02-14T00:00:00\", \"count\": 7}, {\"date\": \"2017-09-28T00:00:00\", \"count\": 7}, {\"date\": \"2019-01-28T00:00:00\", \"count\": 7}, {\"date\": \"2019-01-07T00:00:00\", \"count\": 7}, {\"date\": \"2019-01-08T00:00:00\", \"count\": 7}, {\"date\": \"2017-12-02T00:00:00\", \"count\": 7}, {\"date\": \"2019-01-09T00:00:00\", \"count\": 7}, {\"date\": \"2019-10-21T00:00:00\", \"count\": 7}, {\"date\": \"2017-10-01T00:00:00\", \"count\": 7}, {\"date\": \"2017-10-04T00:00:00\", \"count\": 7}, {\"date\": \"2019-01-19T00:00:00\", \"count\": 7}, {\"date\": \"2017-11-10T00:00:00\", \"count\": 7}, {\"date\": \"2019-02-13T00:00:00\", \"count\": 7}, {\"date\": \"2018-11-28T00:00:00\", \"count\": 7}, {\"date\": \"2020-02-06T00:00:00\", \"count\": 7}, {\"date\": \"2017-04-01T00:00:00\", \"count\": 7}, {\"date\": \"2018-06-14T00:00:00\", \"count\": 7}, {\"date\": \"2020-07-08T00:00:00\", \"count\": 7}, {\"date\": \"2018-06-24T00:00:00\", \"count\": 7}, {\"date\": \"2020-07-21T00:00:00\", \"count\": 7}, {\"date\": \"2020-07-24T00:00:00\", \"count\": 7}, {\"date\": \"2017-04-18T00:00:00\", \"count\": 7}, {\"date\": \"2017-04-17T00:00:00\", \"count\": 7}, {\"date\": \"2017-04-03T00:00:00\", \"count\": 7}, {\"date\": \"2017-03-31T00:00:00\", \"count\": 7}, {\"date\": \"2017-08-05T00:00:00\", \"count\": 7}, {\"date\": \"2017-03-07T00:00:00\", \"count\": 7}, {\"date\": \"2017-03-04T00:00:00\", \"count\": 7}, {\"date\": \"2020-09-19T00:00:00\", \"count\": 7}, {\"date\": \"2017-02-12T00:00:00\", \"count\": 7}, {\"date\": \"2017-02-09T00:00:00\", \"count\": 7}, {\"date\": \"2017-01-29T00:00:00\", \"count\": 7}, {\"date\": \"2017-01-27T00:00:00\", \"count\": 7}, {\"date\": \"2018-07-20T00:00:00\", \"count\": 7}, {\"date\": \"2020-06-21T00:00:00\", \"count\": 7}, {\"date\": \"2020-06-17T00:00:00\", \"count\": 7}, {\"date\": \"2020-06-16T00:00:00\", \"count\": 7}, {\"date\": \"2020-06-15T00:00:00\", \"count\": 7}, {\"date\": \"2017-08-04T00:00:00\", \"count\": 7}, {\"date\": \"2018-11-10T00:00:00\", \"count\": 7}, {\"date\": \"2017-07-21T00:00:00\", \"count\": 7}, {\"date\": \"2017-07-15T00:00:00\", \"count\": 7}, {\"date\": \"2018-05-15T00:00:00\", \"count\": 7}, {\"date\": \"2020-03-30T00:00:00\", \"count\": 7}, {\"date\": \"2018-05-24T00:00:00\", \"count\": 7}, {\"date\": \"2020-04-16T00:00:00\", \"count\": 7}, {\"date\": \"2018-10-06T00:00:00\", \"count\": 7}, {\"date\": \"2018-09-26T00:00:00\", \"count\": 7}, {\"date\": \"2018-05-29T00:00:00\", \"count\": 7}, {\"date\": \"2017-06-09T00:00:00\", \"count\": 7}, {\"date\": \"2018-05-31T00:00:00\", \"count\": 7}, {\"date\": \"2018-09-19T00:00:00\", \"count\": 7}, {\"date\": \"2017-05-27T00:00:00\", \"count\": 7}, {\"date\": \"2018-06-08T00:00:00\", \"count\": 7}, {\"date\": \"2020-06-14T00:00:00\", \"count\": 7}, {\"date\": \"2018-10-23T00:00:00\", \"count\": 7}, {\"date\": \"2020-11-06T00:00:00\", \"count\": 7}, {\"date\": \"2018-01-26T00:00:00\", \"count\": 7}, {\"date\": \"2019-06-27T00:00:00\", \"count\": 7}, {\"date\": \"2018-04-07T00:00:00\", \"count\": 7}, {\"date\": \"2018-01-23T00:00:00\", \"count\": 7}, {\"date\": \"2019-06-21T00:00:00\", \"count\": 7}, {\"date\": \"2018-01-09T00:00:00\", \"count\": 7}, {\"date\": \"2018-01-19T00:00:00\", \"count\": 7}, {\"date\": \"2019-04-08T00:00:00\", \"count\": 7}, {\"date\": \"2018-01-07T00:00:00\", \"count\": 7}, {\"date\": \"2018-03-12T00:00:00\", \"count\": 7}, {\"date\": \"2019-07-08T00:00:00\", \"count\": 7}, {\"date\": \"2018-02-06T00:00:00\", \"count\": 7}, {\"date\": \"2017-11-04T00:00:00\", \"count\": 6}, {\"date\": \"2018-02-15T00:00:00\", \"count\": 6}, {\"date\": \"2019-03-06T00:00:00\", \"count\": 6}, {\"date\": \"2017-10-03T00:00:00\", \"count\": 6}, {\"date\": \"2018-06-01T00:00:00\", \"count\": 6}, {\"date\": \"2017-04-24T00:00:00\", \"count\": 6}, {\"date\": \"2017-10-05T00:00:00\", \"count\": 6}, {\"date\": \"2018-09-16T00:00:00\", \"count\": 6}, {\"date\": \"2019-05-26T00:00:00\", \"count\": 6}, {\"date\": \"2018-06-10T00:00:00\", \"count\": 6}, {\"date\": \"2020-06-06T00:00:00\", \"count\": 6}, {\"date\": \"2018-04-06T00:00:00\", \"count\": 6}, {\"date\": \"2018-09-07T00:00:00\", \"count\": 6}, {\"date\": \"2019-04-07T00:00:00\", \"count\": 6}, {\"date\": \"2020-07-12T00:00:00\", \"count\": 6}, {\"date\": \"2017-06-11T00:00:00\", \"count\": 6}, {\"date\": \"2018-01-14T00:00:00\", \"count\": 6}, {\"date\": \"2017-10-29T00:00:00\", \"count\": 6}, {\"date\": \"2019-05-29T00:00:00\", \"count\": 6}, {\"date\": \"2018-04-13T00:00:00\", \"count\": 6}, {\"date\": \"2018-06-11T00:00:00\", \"count\": 6}, {\"date\": \"2018-04-04T00:00:00\", \"count\": 6}, {\"date\": \"2018-05-14T00:00:00\", \"count\": 6}, {\"date\": \"2020-01-19T00:00:00\", \"count\": 6}, {\"date\": \"2017-08-30T00:00:00\", \"count\": 6}, {\"date\": \"2018-05-03T00:00:00\", \"count\": 6}, {\"date\": \"2018-02-05T00:00:00\", \"count\": 6}, {\"date\": \"2018-11-17T00:00:00\", \"count\": 6}, {\"date\": \"2018-04-29T00:00:00\", \"count\": 6}, {\"date\": \"2018-02-08T00:00:00\", \"count\": 6}, {\"date\": \"2020-01-04T00:00:00\", \"count\": 6}, {\"date\": \"2019-06-30T00:00:00\", \"count\": 6}, {\"date\": \"2018-04-25T00:00:00\", \"count\": 6}, {\"date\": \"2017-07-18T00:00:00\", \"count\": 6}, {\"date\": \"2019-06-24T00:00:00\", \"count\": 6}, {\"date\": \"2020-05-07T00:00:00\", \"count\": 6}, {\"date\": \"2017-09-13T00:00:00\", \"count\": 6}, {\"date\": \"2020-03-26T00:00:00\", \"count\": 6}, {\"date\": \"2017-07-07T00:00:00\", \"count\": 6}, {\"date\": \"2020-04-03T00:00:00\", \"count\": 6}, {\"date\": \"2017-09-21T00:00:00\", \"count\": 6}, {\"date\": \"2019-01-04T00:00:00\", \"count\": 6}, {\"date\": \"2017-06-30T00:00:00\", \"count\": 6}, {\"date\": \"2020-04-27T00:00:00\", \"count\": 6}, {\"date\": \"2017-06-15T00:00:00\", \"count\": 6}, {\"date\": \"2020-05-06T00:00:00\", \"count\": 6}, {\"date\": \"2018-03-23T00:00:00\", \"count\": 6}, {\"date\": \"2018-08-19T00:00:00\", \"count\": 6}, {\"date\": \"2019-07-06T00:00:00\", \"count\": 6}, {\"date\": \"2017-12-03T00:00:00\", \"count\": 6}, {\"date\": \"2019-02-16T00:00:00\", \"count\": 6}, {\"date\": \"2017-02-02T00:00:00\", \"count\": 6}, {\"date\": \"2018-07-12T00:00:00\", \"count\": 6}, {\"date\": \"2017-12-01T00:00:00\", \"count\": 6}, {\"date\": \"2017-02-05T00:00:00\", \"count\": 6}, {\"date\": \"2017-02-25T00:00:00\", \"count\": 6}, {\"date\": \"2017-03-28T00:00:00\", \"count\": 6}, {\"date\": \"2018-08-09T00:00:00\", \"count\": 6}, {\"date\": \"2019-08-09T00:00:00\", \"count\": 6}, {\"date\": \"2017-03-06T00:00:00\", \"count\": 6}, {\"date\": \"2020-08-16T00:00:00\", \"count\": 6}, {\"date\": \"2019-02-21T00:00:00\", \"count\": 6}, {\"date\": \"2017-02-06T00:00:00\", \"count\": 6}, {\"date\": \"2018-03-08T00:00:00\", \"count\": 6}, {\"date\": \"2019-05-09T00:00:00\", \"count\": 6}, {\"date\": \"2017-12-12T00:00:00\", \"count\": 6}, {\"date\": \"2017-02-16T00:00:00\", \"count\": 6}, {\"date\": \"2018-03-09T00:00:00\", \"count\": 6}, {\"date\": \"2017-12-14T00:00:00\", \"count\": 6}, {\"date\": \"2019-02-12T00:00:00\", \"count\": 6}, {\"date\": \"2017-12-15T00:00:00\", \"count\": 6}, {\"date\": \"2017-04-12T00:00:00\", \"count\": 6}, {\"date\": \"2019-02-05T00:00:00\", \"count\": 6}, {\"date\": \"2019-02-28T00:00:00\", \"count\": 6}, {\"date\": \"2017-12-30T00:00:00\", \"count\": 6}, {\"date\": \"2018-07-21T00:00:00\", \"count\": 6}, {\"date\": \"2017-01-26T00:00:00\", \"count\": 6}, {\"date\": \"2017-11-19T00:00:00\", \"count\": 6}, {\"date\": \"2017-12-28T00:00:00\", \"count\": 6}, {\"date\": \"2019-02-09T00:00:00\", \"count\": 6}, {\"date\": \"2017-04-21T00:00:00\", \"count\": 6}, {\"date\": \"2017-11-24T00:00:00\", \"count\": 6}, {\"date\": \"2017-04-16T00:00:00\", \"count\": 6}, {\"date\": \"2017-07-11T00:00:00\", \"count\": 5}, {\"date\": \"2017-02-13T00:00:00\", \"count\": 5}, {\"date\": \"2019-06-23T00:00:00\", \"count\": 5}, {\"date\": \"2019-07-05T00:00:00\", \"count\": 5}, {\"date\": \"2017-08-21T00:00:00\", \"count\": 5}, {\"date\": \"2020-03-17T00:00:00\", \"count\": 5}, {\"date\": \"2018-05-13T00:00:00\", \"count\": 5}, {\"date\": \"2018-07-07T00:00:00\", \"count\": 5}, {\"date\": \"2017-02-24T00:00:00\", \"count\": 5}, {\"date\": \"2020-03-07T00:00:00\", \"count\": 5}, {\"date\": \"2018-11-18T00:00:00\", \"count\": 5}, {\"date\": \"2017-07-23T00:00:00\", \"count\": 5}, {\"date\": \"2017-01-31T00:00:00\", \"count\": 5}, {\"date\": \"2018-05-10T00:00:00\", \"count\": 5}, {\"date\": \"2018-05-08T00:00:00\", \"count\": 5}, {\"date\": \"2017-08-02T00:00:00\", \"count\": 5}, {\"date\": \"2020-01-31T00:00:00\", \"count\": 5}, {\"date\": \"2018-11-11T00:00:00\", \"count\": 5}, {\"date\": \"2018-11-14T00:00:00\", \"count\": 5}, {\"date\": \"2018-03-11T00:00:00\", \"count\": 5}, {\"date\": \"2019-05-07T00:00:00\", \"count\": 5}, {\"date\": \"2018-02-07T00:00:00\", \"count\": 5}, {\"date\": \"2017-08-11T00:00:00\", \"count\": 5}, {\"date\": \"2018-11-19T00:00:00\", \"count\": 5}, {\"date\": \"2017-08-08T00:00:00\", \"count\": 5}, {\"date\": \"2019-04-17T00:00:00\", \"count\": 5}, {\"date\": \"2020-04-15T00:00:00\", \"count\": 5}, {\"date\": \"2018-10-21T00:00:00\", \"count\": 5}, {\"date\": \"2017-05-02T00:00:00\", \"count\": 5}, {\"date\": \"2017-05-11T00:00:00\", \"count\": 5}, {\"date\": \"2018-02-19T00:00:00\", \"count\": 5}, {\"date\": \"2018-03-05T00:00:00\", \"count\": 5}, {\"date\": \"2017-04-08T00:00:00\", \"count\": 5}, {\"date\": \"2017-08-26T00:00:00\", \"count\": 5}, {\"date\": \"2020-06-26T00:00:00\", \"count\": 5}, {\"date\": \"2018-02-21T00:00:00\", \"count\": 5}, {\"date\": \"2017-04-30T00:00:00\", \"count\": 5}, {\"date\": \"2017-07-06T00:00:00\", \"count\": 5}, {\"date\": \"2017-04-11T00:00:00\", \"count\": 5}, {\"date\": \"2020-07-05T00:00:00\", \"count\": 5}, {\"date\": \"2020-07-07T00:00:00\", \"count\": 5}, {\"date\": \"2018-03-22T00:00:00\", \"count\": 5}, {\"date\": \"2017-04-25T00:00:00\", \"count\": 5}, {\"date\": \"2020-07-27T00:00:00\", \"count\": 5}, {\"date\": \"2020-07-14T00:00:00\", \"count\": 5}, {\"date\": \"2017-05-16T00:00:00\", \"count\": 5}, {\"date\": \"2017-05-18T00:00:00\", \"count\": 5}, {\"date\": \"2018-06-03T00:00:00\", \"count\": 5}, {\"date\": \"2017-03-29T00:00:00\", \"count\": 5}, {\"date\": \"2017-03-02T00:00:00\", \"count\": 5}, {\"date\": \"2019-06-20T00:00:00\", \"count\": 5}, {\"date\": \"2018-10-14T00:00:00\", \"count\": 5}, {\"date\": \"2018-05-22T00:00:00\", \"count\": 5}, {\"date\": \"2018-08-08T00:00:00\", \"count\": 5}, {\"date\": \"2017-04-22T00:00:00\", \"count\": 5}, {\"date\": \"2017-06-27T00:00:00\", \"count\": 5}, {\"date\": \"2018-05-27T00:00:00\", \"count\": 5}, {\"date\": \"2017-06-23T00:00:00\", \"count\": 5}, {\"date\": \"2018-09-29T00:00:00\", \"count\": 5}, {\"date\": \"2018-03-07T00:00:00\", \"count\": 5}, {\"date\": \"2019-05-15T00:00:00\", \"count\": 5}, {\"date\": \"2017-06-12T00:00:00\", \"count\": 5}, {\"date\": \"2017-03-08T00:00:00\", \"count\": 5}, {\"date\": \"2017-03-13T00:00:00\", \"count\": 5}, {\"date\": \"2017-07-08T00:00:00\", \"count\": 5}, {\"date\": \"2018-03-15T00:00:00\", \"count\": 5}, {\"date\": \"2017-11-25T00:00:00\", \"count\": 5}, {\"date\": \"2019-08-04T00:00:00\", \"count\": 5}, {\"date\": \"2018-02-03T00:00:00\", \"count\": 5}, {\"date\": \"2020-01-01T00:00:00\", \"count\": 5}, {\"date\": \"2018-02-02T00:00:00\", \"count\": 5}, {\"date\": \"2018-01-08T00:00:00\", \"count\": 5}, {\"date\": \"2017-11-27T00:00:00\", \"count\": 5}, {\"date\": \"2017-11-17T00:00:00\", \"count\": 5}, {\"date\": \"2017-11-14T00:00:00\", \"count\": 5}, {\"date\": \"2017-11-09T00:00:00\", \"count\": 5}, {\"date\": \"2017-11-08T00:00:00\", \"count\": 5}, {\"date\": \"2018-12-28T00:00:00\", \"count\": 5}, {\"date\": \"2019-02-22T00:00:00\", \"count\": 5}, {\"date\": \"2017-09-17T00:00:00\", \"count\": 5}, {\"date\": \"2017-10-09T00:00:00\", \"count\": 5}, {\"date\": \"2019-12-09T00:00:00\", \"count\": 5}, {\"date\": \"2019-01-02T00:00:00\", \"count\": 5}, {\"date\": \"2019-07-13T00:00:00\", \"count\": 5}, {\"date\": \"2019-01-06T00:00:00\", \"count\": 5}, {\"date\": \"2019-01-17T00:00:00\", \"count\": 5}, {\"date\": \"2019-12-03T00:00:00\", \"count\": 5}, {\"date\": \"2019-11-27T00:00:00\", \"count\": 5}, {\"date\": \"2018-04-10T00:00:00\", \"count\": 5}, {\"date\": \"2018-01-27T00:00:00\", \"count\": 5}, {\"date\": \"2018-01-05T00:00:00\", \"count\": 5}, {\"date\": \"2019-02-27T00:00:00\", \"count\": 5}, {\"date\": \"2017-12-21T00:00:00\", \"count\": 5}, {\"date\": \"2017-12-24T00:00:00\", \"count\": 5}, {\"date\": \"2017-12-23T00:00:00\", \"count\": 5}, {\"date\": \"2017-12-19T00:00:00\", \"count\": 5}, {\"date\": \"2018-12-15T00:00:00\", \"count\": 5}, {\"date\": \"2017-12-20T00:00:00\", \"count\": 5}, {\"date\": \"2017-09-03T00:00:00\", \"count\": 5}, {\"date\": \"2018-01-06T00:00:00\", \"count\": 5}, {\"date\": \"2019-02-26T00:00:00\", \"count\": 4}, {\"date\": \"2018-04-05T00:00:00\", \"count\": 4}, {\"date\": \"2019-04-03T00:00:00\", \"count\": 4}, {\"date\": \"2020-10-04T00:00:00\", \"count\": 4}, {\"date\": \"2018-12-10T00:00:00\", \"count\": 4}, {\"date\": \"2018-03-26T00:00:00\", \"count\": 4}, {\"date\": \"2017-12-27T00:00:00\", \"count\": 4}, {\"date\": \"2017-05-07T00:00:00\", \"count\": 4}, {\"date\": \"2017-10-23T00:00:00\", \"count\": 4}, {\"date\": \"2018-01-13T00:00:00\", \"count\": 4}, {\"date\": \"2018-01-22T00:00:00\", \"count\": 4}, {\"date\": \"2017-05-23T00:00:00\", \"count\": 4}, {\"date\": \"2017-01-28T00:00:00\", \"count\": 4}, {\"date\": \"2018-03-17T00:00:00\", \"count\": 4}, {\"date\": \"2018-04-09T00:00:00\", \"count\": 4}, {\"date\": \"2017-05-26T00:00:00\", \"count\": 4}, {\"date\": \"2019-03-30T00:00:00\", \"count\": 4}, {\"date\": \"2017-05-29T00:00:00\", \"count\": 4}, {\"date\": \"2017-05-30T00:00:00\", \"count\": 4}, {\"date\": \"2018-03-29T00:00:00\", \"count\": 4}, {\"date\": \"2017-12-29T00:00:00\", \"count\": 4}, {\"date\": \"2018-02-16T00:00:00\", \"count\": 4}, {\"date\": \"2018-01-24T00:00:00\", \"count\": 4}, {\"date\": \"2018-02-14T00:00:00\", \"count\": 4}, {\"date\": \"2017-01-22T00:00:00\", \"count\": 4}, {\"date\": \"2017-06-18T00:00:00\", \"count\": 4}, {\"date\": \"2017-04-28T00:00:00\", \"count\": 4}, {\"date\": \"2017-11-05T00:00:00\", \"count\": 4}, {\"date\": \"2019-10-27T00:00:00\", \"count\": 4}, {\"date\": \"2017-10-30T00:00:00\", \"count\": 4}, {\"date\": \"2017-12-13T00:00:00\", \"count\": 4}, {\"date\": \"2019-08-12T00:00:00\", \"count\": 4}, {\"date\": \"2017-02-20T00:00:00\", \"count\": 4}, {\"date\": \"2019-08-11T00:00:00\", \"count\": 4}, {\"date\": \"2017-02-14T00:00:00\", \"count\": 4}, {\"date\": \"2017-03-16T00:00:00\", \"count\": 4}, {\"date\": \"2017-03-17T00:00:00\", \"count\": 4}, {\"date\": \"2019-05-16T00:00:00\", \"count\": 4}, {\"date\": \"2017-03-23T00:00:00\", \"count\": 4}, {\"date\": \"2017-03-24T00:00:00\", \"count\": 4}, {\"date\": \"2017-03-25T00:00:00\", \"count\": 4}, {\"date\": \"2017-03-27T00:00:00\", \"count\": 4}, {\"date\": \"2017-12-04T00:00:00\", \"count\": 4}, {\"date\": \"2018-08-12T00:00:00\", \"count\": 4}, {\"date\": \"2017-04-02T00:00:00\", \"count\": 4}, {\"date\": \"2017-11-26T00:00:00\", \"count\": 4}, {\"date\": \"2019-12-01T00:00:00\", \"count\": 4}, {\"date\": \"2018-07-04T00:00:00\", \"count\": 4}, {\"date\": \"2018-07-01T00:00:00\", \"count\": 4}, {\"date\": \"2018-03-03T00:00:00\", \"count\": 4}, {\"date\": \"2017-04-19T00:00:00\", \"count\": 4}, {\"date\": \"2017-11-12T00:00:00\", \"count\": 4}, {\"date\": \"2019-02-02T00:00:00\", \"count\": 4}, {\"date\": \"2018-07-08T00:00:00\", \"count\": 4}, {\"date\": \"2017-02-07T00:00:00\", \"count\": 4}, {\"date\": \"2017-02-26T00:00:00\", \"count\": 4}, {\"date\": \"2018-08-26T00:00:00\", \"count\": 4}, {\"date\": \"2018-12-09T00:00:00\", \"count\": 4}, {\"date\": \"2018-01-03T00:00:00\", \"count\": 4}, {\"date\": \"2018-05-11T00:00:00\", \"count\": 4}, {\"date\": \"2017-07-05T00:00:00\", \"count\": 4}, {\"date\": \"2018-02-11T00:00:00\", \"count\": 4}, {\"date\": \"2018-11-23T00:00:00\", \"count\": 4}, {\"date\": \"2017-07-02T00:00:00\", \"count\": 4}, {\"date\": \"2017-07-04T00:00:00\", \"count\": 4}, {\"date\": \"2017-08-10T00:00:00\", \"count\": 4}, {\"date\": \"2018-04-23T00:00:00\", \"count\": 4}, {\"date\": \"2017-08-09T00:00:00\", \"count\": 4}, {\"date\": \"2017-09-05T00:00:00\", \"count\": 4}, {\"date\": \"2017-07-13T00:00:00\", \"count\": 4}, {\"date\": \"2019-06-28T00:00:00\", \"count\": 4}, {\"date\": \"2018-12-17T00:00:00\", \"count\": 4}, {\"date\": \"2019-12-21T00:00:00\", \"count\": 4}, {\"date\": \"2020-03-20T00:00:00\", \"count\": 4}, {\"date\": \"2017-09-09T00:00:00\", \"count\": 4}, {\"date\": \"2017-07-10T00:00:00\", \"count\": 4}, {\"date\": \"2018-12-30T00:00:00\", \"count\": 4}, {\"date\": \"2017-09-12T00:00:00\", \"count\": 4}, {\"date\": \"2020-01-07T00:00:00\", \"count\": 4}, {\"date\": \"2017-06-24T00:00:00\", \"count\": 4}, {\"date\": \"2017-08-15T00:00:00\", \"count\": 4}, {\"date\": \"2018-10-05T00:00:00\", \"count\": 4}, {\"date\": \"2020-01-21T00:00:00\", \"count\": 4}, {\"date\": \"2018-03-16T00:00:00\", \"count\": 4}, {\"date\": \"2018-02-01T00:00:00\", \"count\": 4}, {\"date\": \"2020-03-08T00:00:00\", \"count\": 4}, {\"date\": \"2018-12-12T00:00:00\", \"count\": 4}, {\"date\": \"2017-08-01T00:00:00\", \"count\": 3}, {\"date\": \"2018-03-31T00:00:00\", \"count\": 3}, {\"date\": \"2020-07-18T00:00:00\", \"count\": 3}, {\"date\": \"2019-12-30T00:00:00\", \"count\": 3}, {\"date\": \"2017-07-20T00:00:00\", \"count\": 3}, {\"date\": \"2018-11-08T00:00:00\", \"count\": 3}, {\"date\": \"2017-04-04T00:00:00\", \"count\": 3}, {\"date\": \"2019-12-29T00:00:00\", \"count\": 3}, {\"date\": \"2017-08-06T00:00:00\", \"count\": 3}, {\"date\": \"2019-03-07T00:00:00\", \"count\": 3}, {\"date\": \"2020-07-19T00:00:00\", \"count\": 3}, {\"date\": \"2020-08-21T00:00:00\", \"count\": 3}, {\"date\": \"2018-01-01T00:00:00\", \"count\": 3}, {\"date\": \"2017-09-16T00:00:00\", \"count\": 3}, {\"date\": \"2017-02-27T00:00:00\", \"count\": 3}, {\"date\": \"2017-07-19T00:00:00\", \"count\": 3}, {\"date\": \"2019-12-22T00:00:00\", \"count\": 3}, {\"date\": \"2017-03-05T00:00:00\", \"count\": 3}, {\"date\": \"2018-05-12T00:00:00\", \"count\": 3}, {\"date\": \"2017-12-06T00:00:00\", \"count\": 3}, {\"date\": \"2017-03-09T00:00:00\", \"count\": 3}, {\"date\": \"2017-04-20T00:00:00\", \"count\": 3}, {\"date\": \"2017-07-31T00:00:00\", \"count\": 3}, {\"date\": \"2020-07-28T00:00:00\", \"count\": 3}, {\"date\": \"2018-02-09T00:00:00\", \"count\": 3}, {\"date\": \"2017-12-16T00:00:00\", \"count\": 3}, {\"date\": \"2018-04-01T00:00:00\", \"count\": 3}, {\"date\": \"2017-04-13T00:00:00\", \"count\": 3}, {\"date\": \"2020-08-08T00:00:00\", \"count\": 3}, {\"date\": \"2018-10-28T00:00:00\", \"count\": 3}, {\"date\": \"2019-02-03T00:00:00\", \"count\": 3}, {\"date\": \"2018-06-29T00:00:00\", \"count\": 3}, {\"date\": \"2020-08-09T00:00:00\", \"count\": 3}, {\"date\": \"2017-03-21T00:00:00\", \"count\": 3}, {\"date\": \"2017-12-10T00:00:00\", \"count\": 3}, {\"date\": \"2017-04-09T00:00:00\", \"count\": 3}, {\"date\": \"2017-05-01T00:00:00\", \"count\": 3}, {\"date\": \"2017-06-21T00:00:00\", \"count\": 3}, {\"date\": \"2017-12-17T00:00:00\", \"count\": 3}, {\"date\": \"2018-03-19T00:00:00\", \"count\": 3}, {\"date\": \"2017-02-10T00:00:00\", \"count\": 3}, {\"date\": \"2017-05-25T00:00:00\", \"count\": 3}, {\"date\": \"2017-10-22T00:00:00\", \"count\": 3}, {\"date\": \"2019-03-21T00:00:00\", \"count\": 3}, {\"date\": \"2017-06-01T00:00:00\", \"count\": 3}, {\"date\": \"2017-06-03T00:00:00\", \"count\": 3}, {\"date\": \"2017-06-04T00:00:00\", \"count\": 3}, {\"date\": \"2018-09-22T00:00:00\", \"count\": 3}, {\"date\": \"2017-02-01T00:00:00\", \"count\": 3}, {\"date\": \"2017-12-26T00:00:00\", \"count\": 3}, {\"date\": \"2018-09-23T00:00:00\", \"count\": 3}, {\"date\": \"2018-02-12T00:00:00\", \"count\": 3}, {\"date\": \"2018-01-25T00:00:00\", \"count\": 3}, {\"date\": \"2018-09-30T00:00:00\", \"count\": 3}, {\"date\": \"2017-06-14T00:00:00\", \"count\": 3}, {\"date\": \"2019-11-28T00:00:00\", \"count\": 3}, {\"date\": \"2018-12-01T00:00:00\", \"count\": 3}, {\"date\": \"2018-03-18T00:00:00\", \"count\": 3}, {\"date\": \"2018-10-11T00:00:00\", \"count\": 3}, {\"date\": \"2017-02-23T00:00:00\", \"count\": 3}, {\"date\": \"2017-02-18T00:00:00\", \"count\": 3}, {\"date\": \"2019-03-11T00:00:00\", \"count\": 3}, {\"date\": \"2019-01-25T00:00:00\", \"count\": 3}, {\"date\": \"2019-03-31T00:00:00\", \"count\": 3}, {\"date\": \"2017-10-14T00:00:00\", \"count\": 3}, {\"date\": \"2020-02-16T00:00:00\", \"count\": 3}, {\"date\": \"2018-05-19T00:00:00\", \"count\": 3}, {\"date\": \"2017-05-09T00:00:00\", \"count\": 3}, {\"date\": \"2018-06-16T00:00:00\", \"count\": 3}, {\"date\": \"2020-10-03T00:00:00\", \"count\": 3}, {\"date\": \"2018-01-15T00:00:00\", \"count\": 3}, {\"date\": \"2019-03-10T00:00:00\", \"count\": 3}, {\"date\": \"2017-12-05T00:00:00\", \"count\": 2}, {\"date\": \"2017-02-22T00:00:00\", \"count\": 2}, {\"date\": \"2018-12-02T00:00:00\", \"count\": 2}, {\"date\": \"2017-03-22T00:00:00\", \"count\": 2}, {\"date\": \"2017-08-20T00:00:00\", \"count\": 2}, {\"date\": \"2017-08-29T00:00:00\", \"count\": 2}, {\"date\": \"2017-03-26T00:00:00\", \"count\": 2}, {\"date\": \"2017-02-28T00:00:00\", \"count\": 2}, {\"date\": \"2018-07-06T00:00:00\", \"count\": 2}, {\"date\": \"2018-07-13T00:00:00\", \"count\": 2}, {\"date\": \"2017-03-18T00:00:00\", \"count\": 2}, {\"date\": \"2017-09-04T00:00:00\", \"count\": 2}, {\"date\": \"2017-12-25T00:00:00\", \"count\": 2}, {\"date\": \"2020-01-15T00:00:00\", \"count\": 2}, {\"date\": \"2020-10-02T00:00:00\", \"count\": 2}, {\"date\": \"2017-03-14T00:00:00\", \"count\": 2}, {\"date\": \"2018-11-24T00:00:00\", \"count\": 2}, {\"date\": \"2018-02-04T00:00:00\", \"count\": 2}, {\"date\": \"2017-02-19T00:00:00\", \"count\": 2}, {\"date\": \"2018-11-20T00:00:00\", \"count\": 2}, {\"date\": \"2017-02-21T00:00:00\", \"count\": 2}, {\"date\": \"2017-07-17T00:00:00\", \"count\": 2}, {\"date\": \"2019-11-08T00:00:00\", \"count\": 2}, {\"date\": \"2017-10-15T00:00:00\", \"count\": 2}, {\"date\": \"2017-06-07T00:00:00\", \"count\": 2}, {\"date\": \"2017-09-11T00:00:00\", \"count\": 2}, {\"date\": \"2017-04-29T00:00:00\", \"count\": 2}, {\"date\": \"2019-01-29T00:00:00\", \"count\": 2}, {\"date\": \"2019-03-24T00:00:00\", \"count\": 2}, {\"date\": \"2017-05-03T00:00:00\", \"count\": 2}, {\"date\": \"2018-09-02T00:00:00\", \"count\": 2}, {\"date\": \"2018-04-26T00:00:00\", \"count\": 2}, {\"date\": \"2020-04-01T00:00:00\", \"count\": 2}, {\"date\": \"2020-07-22T00:00:00\", \"count\": 2}, {\"date\": \"2017-05-13T00:00:00\", \"count\": 2}, {\"date\": \"2017-05-24T00:00:00\", \"count\": 2}, {\"date\": \"2017-05-15T00:00:00\", \"count\": 2}, {\"date\": \"2018-04-14T00:00:00\", \"count\": 2}, {\"date\": \"2018-04-16T00:00:00\", \"count\": 2}, {\"date\": \"2018-01-21T00:00:00\", \"count\": 2}, {\"date\": \"2017-05-19T00:00:00\", \"count\": 2}, {\"date\": \"2017-05-20T00:00:00\", \"count\": 2}, {\"date\": \"2020-07-20T00:00:00\", \"count\": 2}, {\"date\": \"2017-05-21T00:00:00\", \"count\": 2}, {\"date\": \"2019-01-16T00:00:00\", \"count\": 2}, {\"date\": \"2017-06-25T00:00:00\", \"count\": 2}, {\"date\": \"2018-03-04T00:00:00\", \"count\": 2}, {\"date\": \"2017-04-05T00:00:00\", \"count\": 2}, {\"date\": \"2017-04-10T00:00:00\", \"count\": 2}, {\"date\": \"2017-11-21T00:00:00\", \"count\": 2}, {\"date\": \"2018-12-25T00:00:00\", \"count\": 2}, {\"date\": \"2017-11-20T00:00:00\", \"count\": 2}, {\"date\": \"2018-07-02T00:00:00\", \"count\": 2}, {\"date\": \"2018-02-13T00:00:00\", \"count\": 2}, {\"date\": \"2018-12-26T00:00:00\", \"count\": 2}, {\"date\": \"2018-01-28T00:00:00\", \"count\": 2}, {\"date\": \"2017-06-17T00:00:00\", \"count\": 1}, {\"date\": \"2019-04-28T00:00:00\", \"count\": 1}, {\"date\": \"2019-11-29T00:00:00\", \"count\": 1}, {\"date\": \"2017-05-22T00:00:00\", \"count\": 1}, {\"date\": \"2017-10-02T00:00:00\", \"count\": 1}, {\"date\": \"2017-01-23T00:00:00\", \"count\": 1}, {\"date\": \"2018-07-28T00:00:00\", \"count\": 1}, {\"date\": \"2018-09-27T00:00:00\", \"count\": 1}, {\"date\": \"2018-09-28T00:00:00\", \"count\": 1}, {\"date\": \"2017-06-02T00:00:00\", \"count\": 1}, {\"date\": \"2018-01-29T00:00:00\", \"count\": 1}, {\"date\": \"2017-08-31T00:00:00\", \"count\": 1}, {\"date\": \"2017-06-10T00:00:00\", \"count\": 1}, {\"date\": \"2018-10-07T00:00:00\", \"count\": 1}, {\"date\": \"2018-05-05T00:00:00\", \"count\": 1}, {\"date\": \"2017-01-21T00:00:00\", \"count\": 1}, {\"date\": \"2017-05-17T00:00:00\", \"count\": 1}, {\"date\": \"2019-02-15T00:00:00\", \"count\": 1}, {\"date\": \"2018-03-20T00:00:00\", \"count\": 1}, {\"date\": \"2017-04-06T00:00:00\", \"count\": 1}, {\"date\": \"2019-02-06T00:00:00\", \"count\": 1}, {\"date\": \"2017-07-30T00:00:00\", \"count\": 1}, {\"date\": \"2017-03-19T00:00:00\", \"count\": 1}, {\"date\": \"2017-04-14T00:00:00\", \"count\": 1}, {\"date\": \"2017-11-18T00:00:00\", \"count\": 1}, {\"date\": \"2017-03-11T00:00:00\", \"count\": 1}, {\"date\": \"2017-03-10T00:00:00\", \"count\": 1}, {\"date\": \"2019-02-04T00:00:00\", \"count\": 1}, {\"date\": \"2017-05-14T00:00:00\", \"count\": 1}, {\"date\": \"2020-07-16T00:00:00\", \"count\": 1}, {\"date\": \"2020-01-05T00:00:00\", \"count\": 1}, {\"date\": \"2017-12-11T00:00:00\", \"count\": 1}, {\"date\": \"2018-03-24T00:00:00\", \"count\": 1}, {\"date\": \"2017-03-01T00:00:00\", \"count\": 1}, {\"date\": \"2020-01-08T00:00:00\", \"count\": 1}, {\"date\": \"2018-03-30T00:00:00\", \"count\": 1}, {\"date\": \"2017-05-06T00:00:00\", \"count\": 1}, {\"date\": \"2018-01-30T00:00:00\", \"count\": 1}, {\"date\": \"2018-03-27T00:00:00\", \"count\": 1}]}}, {\"mode\": \"vega-lite\"});\n",
       "</script>"
      ],
      "text/plain": [
       "alt.Chart(...)"
      ]
     },
     "execution_count": 68,
     "metadata": {},
     "output_type": "execute_result"
    }
   ],
   "source": [
    "### Try a different color scheme\n",
    "\n",
    "heatmap = (\n",
    "    alt.Chart(\n",
    "        trump_no_rt_freq_inauguration,\n",
    "        title=\"@realDonaldTrump daily tweet (without RT) frequency since inauguration\",\n",
    "    )\n",
    "    .mark_rect()\n",
    "    .encode(\n",
    "        x=alt.X(\"date(date):O\", title=\" \"),\n",
    "        y=alt.Y(\"month(date):O\", title=\"\"),\n",
    "        color=alt.Color(\n",
    "            \"count:Q\", title=\"Tweet count\", scale=alt.Scale(scheme=\"blues\")\n",
    "        ),\n",
    "        tooltip=[\n",
    "            alt.Tooltip(\"monthdate(date):T\", title=\"Date\"),\n",
    "            alt.Tooltip(\"count:Q\", title=\"Tweets\"),\n",
    "        ],\n",
    "        facet=alt.Facet(\"year(date):O\", title=\"\", columns=1),\n",
    "    )\n",
    "    .properties(width=600, height=180)\n",
    ")\n",
    "\n",
    "heatmap.configure_legend(orient=\"top\", padding=10).configure_view(strokeOpacity=0)"
   ]
  },
  {
   "cell_type": "code",
   "execution_count": 69,
   "metadata": {},
   "outputs": [
    {
     "data": {
      "text/html": [
       "\n",
       "<div id=\"altair-viz-2f75379306414e32af8c8dab0b0f058b\"></div>\n",
       "<script type=\"text/javascript\">\n",
       "  (function(spec, embedOpt){\n",
       "    let outputDiv = document.currentScript.previousElementSibling;\n",
       "    if (outputDiv.id !== \"altair-viz-2f75379306414e32af8c8dab0b0f058b\") {\n",
       "      outputDiv = document.getElementById(\"altair-viz-2f75379306414e32af8c8dab0b0f058b\");\n",
       "    }\n",
       "    const paths = {\n",
       "      \"vega\": \"https://cdn.jsdelivr.net/npm//vega@5?noext\",\n",
       "      \"vega-lib\": \"https://cdn.jsdelivr.net/npm//vega-lib?noext\",\n",
       "      \"vega-lite\": \"https://cdn.jsdelivr.net/npm//vega-lite@4.8.1?noext\",\n",
       "      \"vega-embed\": \"https://cdn.jsdelivr.net/npm//vega-embed@6?noext\",\n",
       "    };\n",
       "\n",
       "    function loadScript(lib) {\n",
       "      return new Promise(function(resolve, reject) {\n",
       "        var s = document.createElement('script');\n",
       "        s.src = paths[lib];\n",
       "        s.async = true;\n",
       "        s.onload = () => resolve(paths[lib]);\n",
       "        s.onerror = () => reject(`Error loading script: ${paths[lib]}`);\n",
       "        document.getElementsByTagName(\"head\")[0].appendChild(s);\n",
       "      });\n",
       "    }\n",
       "\n",
       "    function showError(err) {\n",
       "      outputDiv.innerHTML = `<div class=\"error\" style=\"color:red;\">${err}</div>`;\n",
       "      throw err;\n",
       "    }\n",
       "\n",
       "    function displayChart(vegaEmbed) {\n",
       "      vegaEmbed(outputDiv, spec, embedOpt)\n",
       "        .catch(err => showError(`Javascript Error: ${err.message}<br>This usually means there's a typo in your chart specification. See the javascript console for the full traceback.`));\n",
       "    }\n",
       "\n",
       "    if(typeof define === \"function\" && define.amd) {\n",
       "      requirejs.config({paths});\n",
       "      require([\"vega-embed\"], displayChart, err => showError(`Error loading script: ${err.message}`));\n",
       "    } else if (typeof vegaEmbed === \"function\") {\n",
       "      displayChart(vegaEmbed);\n",
       "    } else {\n",
       "      loadScript(\"vega\")\n",
       "        .then(() => loadScript(\"vega-lite\"))\n",
       "        .then(() => loadScript(\"vega-embed\"))\n",
       "        .catch(showError)\n",
       "        .then(() => displayChart(vegaEmbed));\n",
       "    }\n",
       "  })({\"config\": {\"view\": {\"width\": 800, \"height\": 450, \"strokeOpacity\": 0}, \"background\": \"#ffffff\", \"title\": {\"anchor\": \"start\", \"font\": \"Benton Gothic Bold, sans\", \"fontColor\": \"#000000\", \"fontSize\": 22, \"fontWeight\": \"normal\"}, \"arc\": {\"fill\": \"#82c6df\"}, \"area\": {\"fill\": \"#82c6df\"}, \"line\": {\"stroke\": \"#82c6df\", \"strokeWidth\": 3}, \"path\": {\"stroke\": \"#82c6df\"}, \"rect\": {\"fill\": \"#82c6df\"}, \"shape\": {\"stroke\": \"#82c6df\"}, \"bar\": {\"fill\": \"#82c6df\"}, \"point\": {\"stroke\": \"#82c6df\"}, \"symbol\": {\"fill\": \"#82c6df\", \"size\": 30}, \"axis\": {\"titleFont\": \"Benton Gothic Bold, sans\", \"titleFontSize\": 13, \"titleFontWeight\": \"normal\", \"labelFont\": \"Benton Gothic, sans\", \"labelFontSize\": 11.5, \"labelFontWeight\": \"normal\"}, \"axisX\": {\"labelAngle\": 0, \"labelPadding\": 4, \"tickSize\": 3}, \"axisY\": {\"labelBaseline\": \"middle\", \"maxExtent\": 45, \"minExtent\": 45, \"tickSize\": 2, \"titleAlign\": \"left\", \"titleAngle\": 0, \"titleX\": -45, \"titleY\": -11}, \"legend\": {\"titleFont\": \"Benton Gothic Bold, sans\", \"titleFontSize\": 13, \"titleFontWeight\": \"normal\", \"symbolType\": \"square\", \"labelFont\": \"Benton Gothic, sans\", \"labelFontSize\": 11.5}, \"range\": {\"category\": [\"#3580b1\", \"#ec8431\", \"#ab7fb4\", \"#c89d29\", \"#adc839\", \"#829eb1\"], \"diverging\": [\"#e68a4f\", \"#f4bb6a\", \"#f9e39c\", \"#dadfe2\", \"#a6b7c6\", \"#849eae\"], \"heatmap\": [\"#fbf2c7\", \"#f9e39c\", \"#f8d36e\", \"#f4bb6a\", \"#e68a4f\", \"#d15a40\", \"#ab4232\"], \"ordinal\": [\"#fbf2c7\", \"#f9e39c\", \"#f8d36e\", \"#f4bb6a\", \"#e68a4f\", \"#d15a40\", \"#ab4232\"], \"ramp\": [\"#fbf2c7\", \"#f9e39c\", \"#f8d36e\", \"#f4bb6a\", \"#e68a4f\", \"#d15a40\", \"#ab4232\"]}}, \"layer\": [{\"mark\": {\"type\": \"bar\", \"size\": 2}, \"encoding\": {\"x\": {\"type\": \"temporal\", \"axis\": {\"format\": \"%B %Y\", \"grid\": false, \"tickCount\": 6, \"title\": \"\"}, \"field\": \"date\"}, \"y\": {\"type\": \"quantitative\", \"axis\": {\"domainOpacity\": 0, \"gridColor\": \"#dddddd\", \"offset\": 6, \"tickCount\": 5, \"tickSize\": 0, \"title\": \"Daily tweet counts and mean (without retweets) since inauguration\"}, \"field\": \"count\", \"scale\": {\"domain\": [0, 70]}}}, \"title\": \"@realDonaldTrump tweet frequency\"}, {\"mark\": {\"type\": \"rule\", \"color\": \"red\"}, \"encoding\": {\"y\": {\"type\": \"quantitative\", \"aggregate\": \"mean\", \"field\": \"count\"}}}, {\"mark\": {\"type\": \"text\", \"align\": \"center\", \"baseline\": \"middle\", \"dx\": 50, \"dy\": 10, \"fontWeight\": \"bold\"}, \"encoding\": {\"text\": {\"type\": \"quantitative\", \"aggregate\": \"mean\", \"field\": \"count\", \"format\": \".2\"}, \"y\": {\"type\": \"quantitative\", \"aggregate\": \"mean\", \"field\": \"count\"}}}], \"data\": {\"name\": \"data-79ed9c763677de760566297265bbe0cc\"}, \"height\": 400, \"width\": 620, \"$schema\": \"https://vega.github.io/schema/vega-lite/v4.8.1.json\", \"datasets\": {\"data-79ed9c763677de760566297265bbe0cc\": [{\"date\": \"2020-11-02T00:00:00\", \"count\": 71}, {\"date\": \"2020-10-12T00:00:00\", \"count\": 63}, {\"date\": \"2020-10-31T00:00:00\", \"count\": 62}, {\"date\": \"2020-10-27T00:00:00\", \"count\": 59}, {\"date\": \"2020-11-01T00:00:00\", \"count\": 57}, {\"date\": \"2020-10-30T00:00:00\", \"count\": 52}, {\"date\": \"2020-10-07T00:00:00\", \"count\": 49}, {\"date\": \"2020-09-08T00:00:00\", \"count\": 48}, {\"date\": \"2020-10-13T00:00:00\", \"count\": 46}, {\"date\": \"2020-08-25T00:00:00\", \"count\": 46}, {\"date\": \"2020-08-24T00:00:00\", \"count\": 43}, {\"date\": \"2020-06-18T00:00:00\", \"count\": 42}, {\"date\": \"2020-10-29T00:00:00\", \"count\": 41}, {\"date\": \"2020-09-17T00:00:00\", \"count\": 39}, {\"date\": \"2020-09-10T00:00:00\", \"count\": 39}, {\"date\": \"2020-10-21T00:00:00\", \"count\": 39}, {\"date\": \"2020-09-30T00:00:00\", \"count\": 39}, {\"date\": \"2020-08-26T00:00:00\", \"count\": 37}, {\"date\": \"2020-10-24T00:00:00\", \"count\": 37}, {\"date\": \"2020-10-17T00:00:00\", \"count\": 37}, {\"date\": \"2020-06-04T00:00:00\", \"count\": 37}, {\"date\": \"2020-09-14T00:00:00\", \"count\": 37}, {\"date\": \"2020-06-05T00:00:00\", \"count\": 36}, {\"date\": \"2020-09-29T00:00:00\", \"count\": 36}, {\"date\": \"2020-10-06T00:00:00\", \"count\": 36}, {\"date\": \"2019-10-03T00:00:00\", \"count\": 36}, {\"date\": \"2019-07-11T00:00:00\", \"count\": 36}, {\"date\": \"2019-11-17T00:00:00\", \"count\": 35}, {\"date\": \"2020-09-09T00:00:00\", \"count\": 35}, {\"date\": \"2019-10-04T00:00:00\", \"count\": 35}, {\"date\": \"2020-06-02T00:00:00\", \"count\": 34}, {\"date\": \"2019-12-20T00:00:00\", \"count\": 33}, {\"date\": \"2019-10-14T00:00:00\", \"count\": 32}, {\"date\": \"2019-07-24T00:00:00\", \"count\": 32}, {\"date\": \"2019-05-01T00:00:00\", \"count\": 32}, {\"date\": \"2019-10-09T00:00:00\", \"count\": 31}, {\"date\": \"2020-08-30T00:00:00\", \"count\": 31}, {\"date\": \"2020-09-12T00:00:00\", \"count\": 31}, {\"date\": \"2020-05-28T00:00:00\", \"count\": 30}, {\"date\": \"2020-03-03T00:00:00\", \"count\": 30}, {\"date\": \"2019-12-12T00:00:00\", \"count\": 30}, {\"date\": \"2020-10-05T00:00:00\", \"count\": 29}, {\"date\": \"2019-10-08T00:00:00\", \"count\": 29}, {\"date\": \"2019-12-31T00:00:00\", \"count\": 29}, {\"date\": \"2019-06-26T00:00:00\", \"count\": 29}, {\"date\": \"2020-01-23T00:00:00\", \"count\": 28}, {\"date\": \"2019-09-16T00:00:00\", \"count\": 28}, {\"date\": \"2019-11-03T00:00:00\", \"count\": 28}, {\"date\": \"2020-10-26T00:00:00\", \"count\": 28}, {\"date\": \"2019-08-23T00:00:00\", \"count\": 28}, {\"date\": \"2020-09-13T00:00:00\", \"count\": 27}, {\"date\": \"2020-07-29T00:00:00\", \"count\": 27}, {\"date\": \"2020-10-28T00:00:00\", \"count\": 27}, {\"date\": \"2020-06-27T00:00:00\", \"count\": 27}, {\"date\": \"2020-06-19T00:00:00\", \"count\": 27}, {\"date\": \"2020-06-07T00:00:00\", \"count\": 27}, {\"date\": \"2020-08-14T00:00:00\", \"count\": 27}, {\"date\": \"2020-09-02T00:00:00\", \"count\": 27}, {\"date\": \"2020-10-16T00:00:00\", \"count\": 27}, {\"date\": \"2020-03-10T00:00:00\", \"count\": 26}, {\"date\": \"2020-05-12T00:00:00\", \"count\": 26}, {\"date\": \"2020-09-24T00:00:00\", \"count\": 26}, {\"date\": \"2019-12-02T00:00:00\", \"count\": 26}, {\"date\": \"2020-07-02T00:00:00\", \"count\": 25}, {\"date\": \"2020-03-02T00:00:00\", \"count\": 25}, {\"date\": \"2020-04-23T00:00:00\", \"count\": 25}, {\"date\": \"2020-06-22T00:00:00\", \"count\": 25}, {\"date\": \"2019-09-09T00:00:00\", \"count\": 25}, {\"date\": \"2019-10-11T00:00:00\", \"count\": 25}, {\"date\": \"2020-02-18T00:00:00\", \"count\": 25}, {\"date\": \"2020-03-27T00:00:00\", \"count\": 25}, {\"date\": \"2020-05-22T00:00:00\", \"count\": 24}, {\"date\": \"2020-01-12T00:00:00\", \"count\": 24}, {\"date\": \"2019-09-30T00:00:00\", \"count\": 24}, {\"date\": \"2020-06-11T00:00:00\", \"count\": 24}, {\"date\": \"2019-11-09T00:00:00\", \"count\": 24}, {\"date\": \"2020-06-03T00:00:00\", \"count\": 24}, {\"date\": \"2020-05-27T00:00:00\", \"count\": 24}, {\"date\": \"2020-03-04T00:00:00\", \"count\": 24}, {\"date\": \"2020-05-20T00:00:00\", \"count\": 24}, {\"date\": \"2020-10-22T00:00:00\", \"count\": 24}, {\"date\": \"2020-05-17T00:00:00\", \"count\": 24}, {\"date\": \"2020-05-16T00:00:00\", \"count\": 24}, {\"date\": \"2019-05-08T00:00:00\", \"count\": 24}, {\"date\": \"2019-07-27T00:00:00\", \"count\": 24}, {\"date\": \"2019-09-29T00:00:00\", \"count\": 24}, {\"date\": \"2019-08-21T00:00:00\", \"count\": 24}, {\"date\": \"2019-10-16T00:00:00\", \"count\": 24}, {\"date\": \"2020-05-18T00:00:00\", \"count\": 24}, {\"date\": \"2019-12-08T00:00:00\", \"count\": 24}, {\"date\": \"2020-09-18T00:00:00\", \"count\": 24}, {\"date\": \"2020-09-22T00:00:00\", \"count\": 24}, {\"date\": \"2020-08-29T00:00:00\", \"count\": 24}, {\"date\": \"2020-09-04T00:00:00\", \"count\": 24}, {\"date\": \"2020-08-12T00:00:00\", \"count\": 24}, {\"date\": \"2019-09-06T00:00:00\", \"count\": 23}, {\"date\": \"2020-08-27T00:00:00\", \"count\": 23}, {\"date\": \"2020-08-20T00:00:00\", \"count\": 23}, {\"date\": \"2019-11-21T00:00:00\", \"count\": 23}, {\"date\": \"2019-08-31T00:00:00\", \"count\": 23}, {\"date\": \"2020-09-07T00:00:00\", \"count\": 23}, {\"date\": \"2019-08-07T00:00:00\", \"count\": 23}, {\"date\": \"2019-12-18T00:00:00\", \"count\": 23}, {\"date\": \"2020-04-12T00:00:00\", \"count\": 23}, {\"date\": \"2019-11-01T00:00:00\", \"count\": 23}, {\"date\": \"2020-07-06T00:00:00\", \"count\": 23}, {\"date\": \"2020-09-03T00:00:00\", \"count\": 23}, {\"date\": \"2019-09-26T00:00:00\", \"count\": 23}, {\"date\": \"2019-07-09T00:00:00\", \"count\": 22}, {\"date\": \"2019-08-13T00:00:00\", \"count\": 22}, {\"date\": \"2020-01-29T00:00:00\", \"count\": 22}, {\"date\": \"2020-09-23T00:00:00\", \"count\": 22}, {\"date\": \"2018-06-05T00:00:00\", \"count\": 22}, {\"date\": \"2020-08-28T00:00:00\", \"count\": 22}, {\"date\": \"2020-01-26T00:00:00\", \"count\": 22}, {\"date\": \"2020-04-26T00:00:00\", \"count\": 22}, {\"date\": \"2019-10-07T00:00:00\", \"count\": 22}, {\"date\": \"2019-10-06T00:00:00\", \"count\": 22}, {\"date\": \"2020-08-18T00:00:00\", \"count\": 22}, {\"date\": \"2019-10-25T00:00:00\", \"count\": 22}, {\"date\": \"2019-05-23T00:00:00\", \"count\": 22}, {\"date\": \"2019-09-18T00:00:00\", \"count\": 22}, {\"date\": \"2020-10-08T00:00:00\", \"count\": 22}, {\"date\": \"2019-10-30T00:00:00\", \"count\": 22}, {\"date\": \"2019-07-31T00:00:00\", \"count\": 22}, {\"date\": \"2019-12-27T00:00:00\", \"count\": 22}, {\"date\": \"2017-09-30T00:00:00\", \"count\": 22}, {\"date\": \"2019-09-02T00:00:00\", \"count\": 22}, {\"date\": \"2019-07-12T00:00:00\", \"count\": 21}, {\"date\": \"2019-10-31T00:00:00\", \"count\": 21}, {\"date\": \"2019-05-13T00:00:00\", \"count\": 21}, {\"date\": \"2019-08-25T00:00:00\", \"count\": 21}, {\"date\": \"2020-06-09T00:00:00\", \"count\": 21}, {\"date\": \"2019-10-19T00:00:00\", \"count\": 21}, {\"date\": \"2019-01-31T00:00:00\", \"count\": 21}, {\"date\": \"2019-07-29T00:00:00\", \"count\": 21}, {\"date\": \"2020-03-05T00:00:00\", \"count\": 21}, {\"date\": \"2019-10-23T00:00:00\", \"count\": 21}, {\"date\": \"2020-10-14T00:00:00\", \"count\": 21}, {\"date\": \"2019-12-15T00:00:00\", \"count\": 21}, {\"date\": \"2020-07-04T00:00:00\", \"count\": 21}, {\"date\": \"2019-05-12T00:00:00\", \"count\": 21}, {\"date\": \"2019-06-13T00:00:00\", \"count\": 21}, {\"date\": \"2020-05-26T00:00:00\", \"count\": 21}, {\"date\": \"2018-08-15T00:00:00\", \"count\": 21}, {\"date\": \"2019-05-22T00:00:00\", \"count\": 21}, {\"date\": \"2019-09-10T00:00:00\", \"count\": 21}, {\"date\": \"2020-05-21T00:00:00\", \"count\": 21}, {\"date\": \"2019-11-15T00:00:00\", \"count\": 20}, {\"date\": \"2020-04-11T00:00:00\", \"count\": 20}, {\"date\": \"2019-10-26T00:00:00\", \"count\": 20}, {\"date\": \"2019-07-02T00:00:00\", \"count\": 20}, {\"date\": \"2019-08-15T00:00:00\", \"count\": 20}, {\"date\": \"2019-11-05T00:00:00\", \"count\": 20}, {\"date\": \"2019-11-11T00:00:00\", \"count\": 20}, {\"date\": \"2018-06-07T00:00:00\", \"count\": 20}, {\"date\": \"2020-02-08T00:00:00\", \"count\": 20}, {\"date\": \"2020-05-03T00:00:00\", \"count\": 20}, {\"date\": \"2020-05-10T00:00:00\", \"count\": 20}, {\"date\": \"2020-01-30T00:00:00\", \"count\": 20}, {\"date\": \"2020-05-24T00:00:00\", \"count\": 20}, {\"date\": \"2019-12-13T00:00:00\", \"count\": 20}, {\"date\": \"2019-12-14T00:00:00\", \"count\": 20}, {\"date\": \"2018-10-16T00:00:00\", \"count\": 20}, {\"date\": \"2019-12-17T00:00:00\", \"count\": 20}, {\"date\": \"2018-08-29T00:00:00\", \"count\": 20}, {\"date\": \"2020-09-11T00:00:00\", \"count\": 20}, {\"date\": \"2018-10-22T00:00:00\", \"count\": 20}, {\"date\": \"2019-09-21T00:00:00\", \"count\": 20}, {\"date\": \"2018-10-29T00:00:00\", \"count\": 20}, {\"date\": \"2020-09-25T00:00:00\", \"count\": 20}, {\"date\": \"2019-08-30T00:00:00\", \"count\": 20}, {\"date\": \"2018-11-03T00:00:00\", \"count\": 20}, {\"date\": \"2018-12-21T00:00:00\", \"count\": 20}, {\"date\": \"2018-11-05T00:00:00\", \"count\": 20}, {\"date\": \"2020-10-23T00:00:00\", \"count\": 20}, {\"date\": \"2020-05-11T00:00:00\", \"count\": 20}, {\"date\": \"2019-05-10T00:00:00\", \"count\": 20}, {\"date\": \"2020-10-25T00:00:00\", \"count\": 19}, {\"date\": \"2020-02-19T00:00:00\", \"count\": 19}, {\"date\": \"2019-12-19T00:00:00\", \"count\": 19}, {\"date\": \"2020-09-20T00:00:00\", \"count\": 19}, {\"date\": \"2019-05-20T00:00:00\", \"count\": 19}, {\"date\": \"2019-12-06T00:00:00\", \"count\": 19}, {\"date\": \"2019-07-30T00:00:00\", \"count\": 19}, {\"date\": \"2019-06-11T00:00:00\", \"count\": 19}, {\"date\": \"2020-01-24T00:00:00\", \"count\": 19}, {\"date\": \"2020-02-07T00:00:00\", \"count\": 19}, {\"date\": \"2020-02-11T00:00:00\", \"count\": 19}, {\"date\": \"2019-09-28T00:00:00\", \"count\": 19}, {\"date\": \"2020-03-29T00:00:00\", \"count\": 19}, {\"date\": \"2020-07-01T00:00:00\", \"count\": 19}, {\"date\": \"2020-05-30T00:00:00\", \"count\": 19}, {\"date\": \"2020-08-05T00:00:00\", \"count\": 19}, {\"date\": \"2019-10-13T00:00:00\", \"count\": 19}, {\"date\": \"2020-04-17T00:00:00\", \"count\": 19}, {\"date\": \"2019-09-25T00:00:00\", \"count\": 19}, {\"date\": \"2019-07-23T00:00:00\", \"count\": 19}, {\"date\": \"2017-11-01T00:00:00\", \"count\": 19}, {\"date\": \"2020-08-13T00:00:00\", \"count\": 19}, {\"date\": \"2018-07-03T00:00:00\", \"count\": 19}, {\"date\": \"2020-03-09T00:00:00\", \"count\": 19}, {\"date\": \"2018-09-20T00:00:00\", \"count\": 18}, {\"date\": \"2019-09-27T00:00:00\", \"count\": 18}, {\"date\": \"2019-10-05T00:00:00\", \"count\": 18}, {\"date\": \"2018-10-18T00:00:00\", \"count\": 18}, {\"date\": \"2020-08-01T00:00:00\", \"count\": 18}, {\"date\": \"2019-10-02T00:00:00\", \"count\": 18}, {\"date\": \"2020-07-11T00:00:00\", \"count\": 18}, {\"date\": \"2017-09-26T00:00:00\", \"count\": 18}, {\"date\": \"2020-06-10T00:00:00\", \"count\": 18}, {\"date\": \"2020-09-28T00:00:00\", \"count\": 18}, {\"date\": \"2019-11-24T00:00:00\", \"count\": 18}, {\"date\": \"2019-06-15T00:00:00\", \"count\": 18}, {\"date\": \"2020-05-25T00:00:00\", \"count\": 18}, {\"date\": \"2019-09-24T00:00:00\", \"count\": 18}, {\"date\": \"2020-02-28T00:00:00\", \"count\": 18}, {\"date\": \"2019-01-20T00:00:00\", \"count\": 18}, {\"date\": \"2020-01-28T00:00:00\", \"count\": 18}, {\"date\": \"2020-10-18T00:00:00\", \"count\": 18}, {\"date\": \"2019-04-23T00:00:00\", \"count\": 18}, {\"date\": \"2020-02-14T00:00:00\", \"count\": 18}, {\"date\": \"2019-07-22T00:00:00\", \"count\": 18}, {\"date\": \"2019-10-20T00:00:00\", \"count\": 18}, {\"date\": \"2019-10-18T00:00:00\", \"count\": 18}, {\"date\": \"2019-09-11T00:00:00\", \"count\": 18}, {\"date\": \"2020-01-25T00:00:00\", \"count\": 18}, {\"date\": \"2019-10-10T00:00:00\", \"count\": 18}, {\"date\": \"2020-05-02T00:00:00\", \"count\": 18}, {\"date\": \"2020-01-20T00:00:00\", \"count\": 18}, {\"date\": \"2019-09-07T00:00:00\", \"count\": 17}, {\"date\": \"2019-10-01T00:00:00\", \"count\": 17}, {\"date\": \"2019-09-15T00:00:00\", \"count\": 17}, {\"date\": \"2019-10-15T00:00:00\", \"count\": 17}, {\"date\": \"2019-07-17T00:00:00\", \"count\": 17}, {\"date\": \"2019-09-03T00:00:00\", \"count\": 17}, {\"date\": \"2019-09-04T00:00:00\", \"count\": 17}, {\"date\": \"2019-09-05T00:00:00\", \"count\": 17}, {\"date\": \"2019-11-20T00:00:00\", \"count\": 17}, {\"date\": \"2020-03-18T00:00:00\", \"count\": 17}, {\"date\": \"2017-07-25T00:00:00\", \"count\": 17}, {\"date\": \"2020-06-13T00:00:00\", \"count\": 17}, {\"date\": \"2020-03-01T00:00:00\", \"count\": 17}, {\"date\": \"2020-08-17T00:00:00\", \"count\": 17}, {\"date\": \"2018-06-21T00:00:00\", \"count\": 17}, {\"date\": \"2020-08-10T00:00:00\", \"count\": 17}, {\"date\": \"2020-07-31T00:00:00\", \"count\": 17}, {\"date\": \"2019-04-12T00:00:00\", \"count\": 17}, {\"date\": \"2018-10-17T00:00:00\", \"count\": 17}, {\"date\": \"2018-10-25T00:00:00\", \"count\": 17}, {\"date\": \"2020-02-20T00:00:00\", \"count\": 17}, {\"date\": \"2020-04-04T00:00:00\", \"count\": 17}, {\"date\": \"2019-03-08T00:00:00\", \"count\": 17}, {\"date\": \"2020-05-23T00:00:00\", \"count\": 17}, {\"date\": \"2019-02-25T00:00:00\", \"count\": 17}, {\"date\": \"2019-12-10T00:00:00\", \"count\": 17}, {\"date\": \"2018-10-31T00:00:00\", \"count\": 17}, {\"date\": \"2018-11-29T00:00:00\", \"count\": 17}, {\"date\": \"2018-06-26T00:00:00\", \"count\": 17}, {\"date\": \"2020-05-14T00:00:00\", \"count\": 17}, {\"date\": \"2018-08-16T00:00:00\", \"count\": 17}, {\"date\": \"2019-05-14T00:00:00\", \"count\": 17}, {\"date\": \"2019-05-19T00:00:00\", \"count\": 17}, {\"date\": \"2020-10-19T00:00:00\", \"count\": 17}, {\"date\": \"2020-01-09T00:00:00\", \"count\": 17}, {\"date\": \"2020-02-09T00:00:00\", \"count\": 17}, {\"date\": \"2018-08-13T00:00:00\", \"count\": 17}, {\"date\": \"2017-09-20T00:00:00\", \"count\": 17}, {\"date\": \"2018-07-27T00:00:00\", \"count\": 16}, {\"date\": \"2020-05-19T00:00:00\", \"count\": 16}, {\"date\": \"2018-01-02T00:00:00\", \"count\": 16}, {\"date\": \"2017-11-29T00:00:00\", \"count\": 16}, {\"date\": \"2019-08-06T00:00:00\", \"count\": 16}, {\"date\": \"2020-10-15T00:00:00\", \"count\": 16}, {\"date\": \"2019-08-01T00:00:00\", \"count\": 16}, {\"date\": \"2020-06-12T00:00:00\", \"count\": 16}, {\"date\": \"2020-10-11T00:00:00\", \"count\": 16}, {\"date\": \"2019-08-27T00:00:00\", \"count\": 16}, {\"date\": \"2018-05-23T00:00:00\", \"count\": 16}, {\"date\": \"2018-09-10T00:00:00\", \"count\": 16}, {\"date\": \"2020-07-09T00:00:00\", \"count\": 16}, {\"date\": \"2020-09-05T00:00:00\", \"count\": 16}, {\"date\": \"2018-09-04T00:00:00\", \"count\": 16}, {\"date\": \"2019-08-28T00:00:00\", \"count\": 16}, {\"date\": \"2020-07-26T00:00:00\", \"count\": 16}, {\"date\": \"2019-09-22T00:00:00\", \"count\": 16}, {\"date\": \"2018-08-28T00:00:00\", \"count\": 16}, {\"date\": \"2018-07-31T00:00:00\", \"count\": 16}, {\"date\": \"2020-10-09T00:00:00\", \"count\": 16}, {\"date\": \"2020-05-09T00:00:00\", \"count\": 16}, {\"date\": \"2018-08-24T00:00:00\", \"count\": 16}, {\"date\": \"2020-08-22T00:00:00\", \"count\": 16}, {\"date\": \"2018-08-22T00:00:00\", \"count\": 16}, {\"date\": \"2019-06-12T00:00:00\", \"count\": 16}, {\"date\": \"2019-01-05T00:00:00\", \"count\": 16}, {\"date\": \"2020-05-05T00:00:00\", \"count\": 16}, {\"date\": \"2019-04-15T00:00:00\", \"count\": 16}, {\"date\": \"2019-12-26T00:00:00\", \"count\": 16}, {\"date\": \"2019-06-16T00:00:00\", \"count\": 16}, {\"date\": \"2020-01-17T00:00:00\", \"count\": 16}, {\"date\": \"2020-01-22T00:00:00\", \"count\": 16}, {\"date\": \"2019-11-14T00:00:00\", \"count\": 16}, {\"date\": \"2019-07-04T00:00:00\", \"count\": 16}, {\"date\": \"2020-02-12T00:00:00\", \"count\": 16}, {\"date\": \"2020-02-24T00:00:00\", \"count\": 16}, {\"date\": \"2017-10-18T00:00:00\", \"count\": 16}, {\"date\": \"2019-11-04T00:00:00\", \"count\": 16}, {\"date\": \"2020-04-30T00:00:00\", \"count\": 16}, {\"date\": \"2019-04-22T00:00:00\", \"count\": 16}, {\"date\": \"2020-03-13T00:00:00\", \"count\": 16}, {\"date\": \"2017-10-27T00:00:00\", \"count\": 16}, {\"date\": \"2019-08-16T00:00:00\", \"count\": 16}, {\"date\": \"2019-10-22T00:00:00\", \"count\": 16}, {\"date\": \"2019-03-28T00:00:00\", \"count\": 16}, {\"date\": \"2019-03-17T00:00:00\", \"count\": 16}, {\"date\": \"2017-10-31T00:00:00\", \"count\": 16}, {\"date\": \"2020-03-15T00:00:00\", \"count\": 16}, {\"date\": \"2018-12-07T00:00:00\", \"count\": 16}, {\"date\": \"2019-04-05T00:00:00\", \"count\": 16}, {\"date\": \"2017-11-07T00:00:00\", \"count\": 16}, {\"date\": \"2017-11-03T00:00:00\", \"count\": 16}, {\"date\": \"2020-04-08T00:00:00\", \"count\": 16}, {\"date\": \"2019-06-18T00:00:00\", \"count\": 15}, {\"date\": \"2019-02-18T00:00:00\", \"count\": 15}, {\"date\": \"2019-05-30T00:00:00\", \"count\": 15}, {\"date\": \"2019-06-07T00:00:00\", \"count\": 15}, {\"date\": \"2018-07-25T00:00:00\", \"count\": 15}, {\"date\": \"2019-06-08T00:00:00\", \"count\": 15}, {\"date\": \"2019-05-21T00:00:00\", \"count\": 15}, {\"date\": \"2018-08-30T00:00:00\", \"count\": 15}, {\"date\": \"2019-03-18T00:00:00\", \"count\": 15}, {\"date\": \"2018-08-01T00:00:00\", \"count\": 15}, {\"date\": \"2019-07-10T00:00:00\", \"count\": 15}, {\"date\": \"2018-08-17T00:00:00\", \"count\": 15}, {\"date\": \"2019-05-05T00:00:00\", \"count\": 15}, {\"date\": \"2018-06-25T00:00:00\", \"count\": 15}, {\"date\": \"2019-04-09T00:00:00\", \"count\": 15}, {\"date\": \"2019-04-24T00:00:00\", \"count\": 15}, {\"date\": \"2018-06-23T00:00:00\", \"count\": 15}, {\"date\": \"2019-07-15T00:00:00\", \"count\": 15}, {\"date\": \"2019-07-14T00:00:00\", \"count\": 15}, {\"date\": \"2018-12-20T00:00:00\", \"count\": 15}, {\"date\": \"2020-04-18T00:00:00\", \"count\": 15}, {\"date\": \"2019-10-12T00:00:00\", \"count\": 15}, {\"date\": \"2020-02-21T00:00:00\", \"count\": 15}, {\"date\": \"2020-02-26T00:00:00\", \"count\": 15}, {\"date\": \"2020-03-23T00:00:00\", \"count\": 15}, {\"date\": \"2020-03-24T00:00:00\", \"count\": 15}, {\"date\": \"2020-04-06T00:00:00\", \"count\": 15}, {\"date\": \"2019-11-16T00:00:00\", \"count\": 15}, {\"date\": \"2020-06-01T00:00:00\", \"count\": 15}, {\"date\": \"2019-11-06T00:00:00\", \"count\": 15}, {\"date\": \"2017-10-25T00:00:00\", \"count\": 15}, {\"date\": \"2020-07-15T00:00:00\", \"count\": 15}, {\"date\": \"2020-07-30T00:00:00\", \"count\": 15}, {\"date\": \"2017-10-13T00:00:00\", \"count\": 15}, {\"date\": \"2020-02-10T00:00:00\", \"count\": 15}, {\"date\": \"2020-08-15T00:00:00\", \"count\": 15}, {\"date\": \"2020-08-07T00:00:00\", \"count\": 15}, {\"date\": \"2020-09-06T00:00:00\", \"count\": 15}, {\"date\": \"2020-09-15T00:00:00\", \"count\": 15}, {\"date\": \"2020-08-31T00:00:00\", \"count\": 15}, {\"date\": \"2019-08-20T00:00:00\", \"count\": 15}, {\"date\": \"2019-08-19T00:00:00\", \"count\": 15}, {\"date\": \"2020-11-05T00:00:00\", \"count\": 15}, {\"date\": \"2017-07-22T00:00:00\", \"count\": 14}, {\"date\": \"2019-04-18T00:00:00\", \"count\": 14}, {\"date\": \"2020-03-14T00:00:00\", \"count\": 14}, {\"date\": \"2019-04-06T00:00:00\", \"count\": 14}, {\"date\": \"2019-01-12T00:00:00\", \"count\": 14}, {\"date\": \"2019-05-03T00:00:00\", \"count\": 14}, {\"date\": \"2018-07-29T00:00:00\", \"count\": 14}, {\"date\": \"2020-03-25T00:00:00\", \"count\": 14}, {\"date\": \"2018-04-02T00:00:00\", \"count\": 14}, {\"date\": \"2019-03-14T00:00:00\", \"count\": 14}, {\"date\": \"2019-01-18T00:00:00\", \"count\": 14}, {\"date\": \"2018-04-17T00:00:00\", \"count\": 14}, {\"date\": \"2020-02-25T00:00:00\", \"count\": 14}, {\"date\": \"2019-01-13T00:00:00\", \"count\": 14}, {\"date\": \"2020-08-02T00:00:00\", \"count\": 14}, {\"date\": \"2018-12-31T00:00:00\", \"count\": 14}, {\"date\": \"2018-09-21T00:00:00\", \"count\": 14}, {\"date\": \"2018-06-15T00:00:00\", \"count\": 14}, {\"date\": \"2018-09-01T00:00:00\", \"count\": 14}, {\"date\": \"2018-09-11T00:00:00\", \"count\": 14}, {\"date\": \"2018-09-13T00:00:00\", \"count\": 14}, {\"date\": \"2020-07-10T00:00:00\", \"count\": 14}, {\"date\": \"2018-09-18T00:00:00\", \"count\": 14}, {\"date\": \"2020-08-19T00:00:00\", \"count\": 14}, {\"date\": \"2018-05-25T00:00:00\", \"count\": 14}, {\"date\": \"2020-04-25T00:00:00\", \"count\": 14}, {\"date\": \"2020-06-30T00:00:00\", \"count\": 14}, {\"date\": \"2019-05-17T00:00:00\", \"count\": 14}, {\"date\": \"2020-06-25T00:00:00\", \"count\": 14}, {\"date\": \"2020-06-23T00:00:00\", \"count\": 14}, {\"date\": \"2020-09-01T00:00:00\", \"count\": 14}, {\"date\": \"2018-10-27T00:00:00\", \"count\": 14}, {\"date\": \"2017-06-22T00:00:00\", \"count\": 14}, {\"date\": \"2018-12-18T00:00:00\", \"count\": 14}, {\"date\": \"2019-08-14T00:00:00\", \"count\": 14}, {\"date\": \"2020-01-11T00:00:00\", \"count\": 14}, {\"date\": \"2019-08-24T00:00:00\", \"count\": 14}, {\"date\": \"2019-07-19T00:00:00\", \"count\": 14}, {\"date\": \"2018-02-20T00:00:00\", \"count\": 14}, {\"date\": \"2019-10-17T00:00:00\", \"count\": 14}, {\"date\": \"2019-07-25T00:00:00\", \"count\": 14}, {\"date\": \"2019-07-26T00:00:00\", \"count\": 14}, {\"date\": \"2017-10-11T00:00:00\", \"count\": 14}, {\"date\": \"2019-06-10T00:00:00\", \"count\": 14}, {\"date\": \"2017-09-23T00:00:00\", \"count\": 14}, {\"date\": \"2019-07-03T00:00:00\", \"count\": 14}, {\"date\": \"2018-01-11T00:00:00\", \"count\": 14}, {\"date\": \"2019-07-01T00:00:00\", \"count\": 14}, {\"date\": \"2017-08-25T00:00:00\", \"count\": 14}, {\"date\": \"2017-09-25T00:00:00\", \"count\": 14}, {\"date\": \"2019-11-23T00:00:00\", \"count\": 14}, {\"date\": \"2017-08-07T00:00:00\", \"count\": 13}, {\"date\": \"2018-05-04T00:00:00\", \"count\": 13}, {\"date\": \"2020-07-03T00:00:00\", \"count\": 13}, {\"date\": \"2017-10-21T00:00:00\", \"count\": 13}, {\"date\": \"2018-05-30T00:00:00\", \"count\": 13}, {\"date\": \"2018-09-25T00:00:00\", \"count\": 13}, {\"date\": \"2018-10-09T00:00:00\", \"count\": 13}, {\"date\": \"2018-11-09T00:00:00\", \"count\": 13}, {\"date\": \"2018-10-13T00:00:00\", \"count\": 13}, {\"date\": \"2020-06-28T00:00:00\", \"count\": 13}, {\"date\": \"2020-05-01T00:00:00\", \"count\": 13}, {\"date\": \"2020-05-04T00:00:00\", \"count\": 13}, {\"date\": \"2017-05-28T00:00:00\", \"count\": 13}, {\"date\": \"2018-06-02T00:00:00\", \"count\": 13}, {\"date\": \"2020-02-01T00:00:00\", \"count\": 13}, {\"date\": \"2018-06-04T00:00:00\", \"count\": 13}, {\"date\": \"2020-08-23T00:00:00\", \"count\": 13}, {\"date\": \"2018-07-24T00:00:00\", \"count\": 13}, {\"date\": \"2019-08-05T00:00:00\", \"count\": 13}, {\"date\": \"2018-07-30T00:00:00\", \"count\": 13}, {\"date\": \"2020-10-01T00:00:00\", \"count\": 13}, {\"date\": \"2018-08-14T00:00:00\", \"count\": 13}, {\"date\": \"2020-09-21T00:00:00\", \"count\": 13}, {\"date\": \"2019-08-03T00:00:00\", \"count\": 13}, {\"date\": \"2018-08-20T00:00:00\", \"count\": 13}, {\"date\": \"2017-12-18T00:00:00\", \"count\": 13}, {\"date\": \"2019-10-29T00:00:00\", \"count\": 13}, {\"date\": \"2017-11-28T00:00:00\", \"count\": 13}, {\"date\": \"2018-06-22T00:00:00\", \"count\": 13}, {\"date\": \"2018-06-20T00:00:00\", \"count\": 13}, {\"date\": \"2019-07-28T00:00:00\", \"count\": 13}, {\"date\": \"2018-06-17T00:00:00\", \"count\": 13}, {\"date\": \"2017-11-02T00:00:00\", \"count\": 13}, {\"date\": \"2018-06-12T00:00:00\", \"count\": 13}, {\"date\": \"2019-06-22T00:00:00\", \"count\": 13}, {\"date\": \"2018-12-13T00:00:00\", \"count\": 13}, {\"date\": \"2020-05-15T00:00:00\", \"count\": 13}, {\"date\": \"2019-03-16T00:00:00\", \"count\": 13}, {\"date\": \"2018-04-19T00:00:00\", \"count\": 13}, {\"date\": \"2019-04-27T00:00:00\", \"count\": 13}, {\"date\": \"2019-08-17T00:00:00\", \"count\": 13}, {\"date\": \"2019-03-03T00:00:00\", \"count\": 13}, {\"date\": \"2017-07-29T00:00:00\", \"count\": 13}, {\"date\": \"2019-01-22T00:00:00\", \"count\": 13}, {\"date\": \"2019-05-27T00:00:00\", \"count\": 13}, {\"date\": \"2019-03-13T00:00:00\", \"count\": 13}, {\"date\": \"2017-09-15T00:00:00\", \"count\": 13}, {\"date\": \"2019-12-07T00:00:00\", \"count\": 13}, {\"date\": \"2017-07-14T00:00:00\", \"count\": 13}, {\"date\": \"2018-04-21T00:00:00\", \"count\": 13}, {\"date\": \"2020-04-24T00:00:00\", \"count\": 13}, {\"date\": \"2019-01-01T00:00:00\", \"count\": 13}, {\"date\": \"2020-01-18T00:00:00\", \"count\": 13}, {\"date\": \"2018-12-23T00:00:00\", \"count\": 13}, {\"date\": \"2020-01-27T00:00:00\", \"count\": 13}, {\"date\": \"2017-06-29T00:00:00\", \"count\": 13}, {\"date\": \"2020-03-22T00:00:00\", \"count\": 12}, {\"date\": \"2019-09-01T00:00:00\", \"count\": 12}, {\"date\": \"2020-08-11T00:00:00\", \"count\": 12}, {\"date\": \"2020-01-13T00:00:00\", \"count\": 12}, {\"date\": \"2019-05-31T00:00:00\", \"count\": 12}, {\"date\": \"2019-06-01T00:00:00\", \"count\": 12}, {\"date\": \"2019-04-20T00:00:00\", \"count\": 12}, {\"date\": \"2019-04-01T00:00:00\", \"count\": 12}, {\"date\": \"2020-03-11T00:00:00\", \"count\": 12}, {\"date\": \"2020-09-16T00:00:00\", \"count\": 12}, {\"date\": \"2020-03-06T00:00:00\", \"count\": 12}, {\"date\": \"2019-05-25T00:00:00\", \"count\": 12}, {\"date\": \"2018-08-18T00:00:00\", \"count\": 12}, {\"date\": \"2019-04-29T00:00:00\", \"count\": 12}, {\"date\": \"2019-03-19T00:00:00\", \"count\": 12}, {\"date\": \"2020-01-14T00:00:00\", \"count\": 12}, {\"date\": \"2020-09-27T00:00:00\", \"count\": 12}, {\"date\": \"2018-08-04T00:00:00\", \"count\": 12}, {\"date\": \"2018-08-03T00:00:00\", \"count\": 12}, {\"date\": \"2019-05-04T00:00:00\", \"count\": 12}, {\"date\": \"2020-10-10T00:00:00\", \"count\": 12}, {\"date\": \"2020-02-29T00:00:00\", \"count\": 12}, {\"date\": \"2020-11-04T00:00:00\", \"count\": 12}, {\"date\": \"2019-08-10T00:00:00\", \"count\": 12}, {\"date\": \"2019-06-02T00:00:00\", \"count\": 12}, {\"date\": \"2018-12-16T00:00:00\", \"count\": 12}, {\"date\": \"2020-07-25T00:00:00\", \"count\": 12}, {\"date\": \"2020-03-31T00:00:00\", \"count\": 12}, {\"date\": \"2018-12-08T00:00:00\", \"count\": 12}, {\"date\": \"2018-12-03T00:00:00\", \"count\": 12}, {\"date\": \"2018-12-24T00:00:00\", \"count\": 12}, {\"date\": \"2020-04-29T00:00:00\", \"count\": 12}, {\"date\": \"2018-11-13T00:00:00\", \"count\": 12}, {\"date\": \"2018-11-02T00:00:00\", \"count\": 12}, {\"date\": \"2019-11-12T00:00:00\", \"count\": 12}, {\"date\": \"2018-10-26T00:00:00\", \"count\": 12}, {\"date\": \"2020-06-08T00:00:00\", \"count\": 12}, {\"date\": \"2020-04-20T00:00:00\", \"count\": 12}, {\"date\": \"2019-07-07T00:00:00\", \"count\": 12}, {\"date\": \"2019-01-26T00:00:00\", \"count\": 12}, {\"date\": \"2018-10-12T00:00:00\", \"count\": 12}, {\"date\": \"2019-11-10T00:00:00\", \"count\": 12}, {\"date\": \"2018-07-18T00:00:00\", \"count\": 12}, {\"date\": \"2018-10-03T00:00:00\", \"count\": 12}, {\"date\": \"2018-10-02T00:00:00\", \"count\": 12}, {\"date\": \"2019-02-08T00:00:00\", \"count\": 12}, {\"date\": \"2018-09-24T00:00:00\", \"count\": 12}, {\"date\": \"2020-04-10T00:00:00\", \"count\": 12}, {\"date\": \"2019-03-05T00:00:00\", \"count\": 12}, {\"date\": \"2019-07-16T00:00:00\", \"count\": 12}, {\"date\": \"2019-12-16T00:00:00\", \"count\": 12}, {\"date\": \"2018-09-17T00:00:00\", \"count\": 12}, {\"date\": \"2019-11-18T00:00:00\", \"count\": 12}, {\"date\": \"2019-07-21T00:00:00\", \"count\": 12}, {\"date\": \"2019-10-28T00:00:00\", \"count\": 12}, {\"date\": \"2020-07-23T00:00:00\", \"count\": 12}, {\"date\": \"2018-09-05T00:00:00\", \"count\": 12}, {\"date\": \"2018-07-23T00:00:00\", \"count\": 12}, {\"date\": \"2017-01-20T00:00:00\", \"count\": 12}, {\"date\": \"2017-06-19T00:00:00\", \"count\": 12}, {\"date\": \"2018-07-11T00:00:00\", \"count\": 12}, {\"date\": \"2018-06-19T00:00:00\", \"count\": 12}, {\"date\": \"2017-04-27T00:00:00\", \"count\": 12}, {\"date\": \"2018-06-13T00:00:00\", \"count\": 12}, {\"date\": \"2018-04-11T00:00:00\", \"count\": 12}, {\"date\": \"2018-06-27T00:00:00\", \"count\": 12}, {\"date\": \"2017-11-30T00:00:00\", \"count\": 12}, {\"date\": \"2017-12-09T00:00:00\", \"count\": 12}, {\"date\": \"2017-07-01T00:00:00\", \"count\": 12}, {\"date\": \"2017-08-24T00:00:00\", \"count\": 12}, {\"date\": \"2017-10-07T00:00:00\", \"count\": 12}, {\"date\": \"2019-08-08T00:00:00\", \"count\": 11}, {\"date\": \"2020-04-02T00:00:00\", \"count\": 11}, {\"date\": \"2018-11-25T00:00:00\", \"count\": 11}, {\"date\": \"2017-07-24T00:00:00\", \"count\": 11}, {\"date\": \"2017-05-12T00:00:00\", \"count\": 11}, {\"date\": \"2019-06-19T00:00:00\", \"count\": 11}, {\"date\": \"2019-02-10T00:00:00\", \"count\": 11}, {\"date\": \"2019-06-17T00:00:00\", \"count\": 11}, {\"date\": \"2018-05-18T00:00:00\", \"count\": 11}, {\"date\": \"2020-05-29T00:00:00\", \"count\": 11}, {\"date\": \"2020-03-21T00:00:00\", \"count\": 11}, {\"date\": \"2019-08-22T00:00:00\", \"count\": 11}, {\"date\": \"2017-07-09T00:00:00\", \"count\": 11}, {\"date\": \"2019-06-14T00:00:00\", \"count\": 11}, {\"date\": \"2017-07-12T00:00:00\", \"count\": 11}, {\"date\": \"2019-03-04T00:00:00\", \"count\": 11}, {\"date\": \"2017-08-16T00:00:00\", \"count\": 11}, {\"date\": \"2019-08-26T00:00:00\", \"count\": 11}, {\"date\": \"2019-02-17T00:00:00\", \"count\": 11}, {\"date\": \"2019-09-14T00:00:00\", \"count\": 11}, {\"date\": \"2019-06-25T00:00:00\", \"count\": 11}, {\"date\": \"2019-06-29T00:00:00\", \"count\": 11}, {\"date\": \"2017-08-27T00:00:00\", \"count\": 11}, {\"date\": \"2018-05-07T00:00:00\", \"count\": 11}, {\"date\": \"2019-07-18T00:00:00\", \"count\": 11}, {\"date\": \"2019-03-15T00:00:00\", \"count\": 11}, {\"date\": \"2019-07-20T00:00:00\", \"count\": 11}, {\"date\": \"2017-12-22T00:00:00\", \"count\": 11}, {\"date\": \"2018-10-04T00:00:00\", \"count\": 11}, {\"date\": \"2020-04-13T00:00:00\", \"count\": 11}, {\"date\": \"2018-11-06T00:00:00\", \"count\": 11}, {\"date\": \"2017-11-15T00:00:00\", \"count\": 11}, {\"date\": \"2020-03-16T00:00:00\", \"count\": 11}, {\"date\": \"2017-05-04T00:00:00\", \"count\": 11}, {\"date\": \"2019-06-03T00:00:00\", \"count\": 11}, {\"date\": \"2018-04-27T00:00:00\", \"count\": 11}, {\"date\": \"2019-05-24T00:00:00\", \"count\": 11}, {\"date\": \"2019-06-09T00:00:00\", \"count\": 11}, {\"date\": \"2017-02-15T00:00:00\", \"count\": 11}, {\"date\": \"2019-12-23T00:00:00\", \"count\": 11}, {\"date\": \"2018-12-27T00:00:00\", \"count\": 11}, {\"date\": \"2017-02-08T00:00:00\", \"count\": 11}, {\"date\": \"2017-09-14T00:00:00\", \"count\": 11}, {\"date\": \"2018-07-10T00:00:00\", \"count\": 11}, {\"date\": \"2019-11-22T00:00:00\", \"count\": 11}, {\"date\": \"2019-12-05T00:00:00\", \"count\": 11}, {\"date\": \"2019-11-26T00:00:00\", \"count\": 11}, {\"date\": \"2019-01-14T00:00:00\", \"count\": 11}, {\"date\": \"2019-01-10T00:00:00\", \"count\": 11}, {\"date\": \"2018-07-19T00:00:00\", \"count\": 11}, {\"date\": \"2018-02-24T00:00:00\", \"count\": 11}, {\"date\": \"2019-11-07T00:00:00\", \"count\": 11}, {\"date\": \"2019-04-02T00:00:00\", \"count\": 11}, {\"date\": \"2020-01-16T00:00:00\", \"count\": 11}, {\"date\": \"2019-04-04T00:00:00\", \"count\": 11}, {\"date\": \"2019-06-05T00:00:00\", \"count\": 11}, {\"date\": \"2018-08-21T00:00:00\", \"count\": 11}, {\"date\": \"2019-01-30T00:00:00\", \"count\": 11}, {\"date\": \"2018-06-28T00:00:00\", \"count\": 11}, {\"date\": \"2020-08-03T00:00:00\", \"count\": 11}, {\"date\": \"2018-12-11T00:00:00\", \"count\": 11}, {\"date\": \"2020-03-12T00:00:00\", \"count\": 10}, {\"date\": \"2019-03-01T00:00:00\", \"count\": 10}, {\"date\": \"2019-08-18T00:00:00\", \"count\": 10}, {\"date\": \"2019-11-30T00:00:00\", \"count\": 10}, {\"date\": \"2019-05-02T00:00:00\", \"count\": 10}, {\"date\": \"2018-12-04T00:00:00\", \"count\": 10}, {\"date\": \"2020-01-10T00:00:00\", \"count\": 10}, {\"date\": \"2017-07-26T00:00:00\", \"count\": 10}, {\"date\": \"2019-11-13T00:00:00\", \"count\": 10}, {\"date\": \"2017-09-19T00:00:00\", \"count\": 10}, {\"date\": \"2017-08-17T00:00:00\", \"count\": 10}, {\"date\": \"2018-12-19T00:00:00\", \"count\": 10}, {\"date\": \"2017-07-27T00:00:00\", \"count\": 10}, {\"date\": \"2018-11-07T00:00:00\", \"count\": 10}, {\"date\": \"2017-10-17T00:00:00\", \"count\": 10}, {\"date\": \"2019-02-24T00:00:00\", \"count\": 10}, {\"date\": \"2020-02-27T00:00:00\", \"count\": 10}, {\"date\": \"2019-02-11T00:00:00\", \"count\": 10}, {\"date\": \"2018-11-12T00:00:00\", \"count\": 10}, {\"date\": \"2017-10-12T00:00:00\", \"count\": 10}, {\"date\": \"2019-01-24T00:00:00\", \"count\": 10}, {\"date\": \"2019-09-23T00:00:00\", \"count\": 10}, {\"date\": \"2018-12-22T00:00:00\", \"count\": 10}, {\"date\": \"2020-02-23T00:00:00\", \"count\": 10}, {\"date\": \"2018-11-15T00:00:00\", \"count\": 10}, {\"date\": \"2019-11-02T00:00:00\", \"count\": 10}, {\"date\": \"2018-11-21T00:00:00\", \"count\": 10}, {\"date\": \"2018-05-02T00:00:00\", \"count\": 10}, {\"date\": \"2017-07-03T00:00:00\", \"count\": 10}, {\"date\": \"2018-09-06T00:00:00\", \"count\": 10}, {\"date\": \"2020-05-13T00:00:00\", \"count\": 10}, {\"date\": \"2019-03-20T00:00:00\", \"count\": 10}, {\"date\": \"2018-06-06T00:00:00\", \"count\": 10}, {\"date\": \"2020-05-31T00:00:00\", \"count\": 10}, {\"date\": \"2018-09-15T00:00:00\", \"count\": 10}, {\"date\": \"2018-09-14T00:00:00\", \"count\": 10}, {\"date\": \"2018-06-09T00:00:00\", \"count\": 10}, {\"date\": \"2019-03-22T00:00:00\", \"count\": 10}, {\"date\": \"2018-09-08T00:00:00\", \"count\": 10}, {\"date\": \"2018-03-10T00:00:00\", \"count\": 10}, {\"date\": \"2018-05-16T00:00:00\", \"count\": 10}, {\"date\": \"2019-03-26T00:00:00\", \"count\": 10}, {\"date\": \"2018-09-03T00:00:00\", \"count\": 10}, {\"date\": \"2019-04-21T00:00:00\", \"count\": 10}, {\"date\": \"2019-03-29T00:00:00\", \"count\": 10}, {\"date\": \"2018-02-18T00:00:00\", \"count\": 10}, {\"date\": \"2017-02-11T00:00:00\", \"count\": 10}, {\"date\": \"2019-06-06T00:00:00\", \"count\": 10}, {\"date\": \"2019-06-04T00:00:00\", \"count\": 10}, {\"date\": \"2020-08-04T00:00:00\", \"count\": 10}, {\"date\": \"2019-04-16T00:00:00\", \"count\": 10}, {\"date\": \"2018-02-22T00:00:00\", \"count\": 10}, {\"date\": \"2017-06-06T00:00:00\", \"count\": 10}, {\"date\": \"2017-05-31T00:00:00\", \"count\": 10}, {\"date\": \"2019-04-13T00:00:00\", \"count\": 10}, {\"date\": \"2018-10-19T00:00:00\", \"count\": 10}, {\"date\": \"2018-10-10T00:00:00\", \"count\": 10}, {\"date\": \"2018-04-20T00:00:00\", \"count\": 10}, {\"date\": \"2018-07-26T00:00:00\", \"count\": 10}, {\"date\": \"2019-03-12T00:00:00\", \"count\": 10}, {\"date\": \"2020-04-05T00:00:00\", \"count\": 10}, {\"date\": \"2020-04-19T00:00:00\", \"count\": 10}, {\"date\": \"2018-05-21T00:00:00\", \"count\": 10}, {\"date\": \"2018-05-26T00:00:00\", \"count\": 10}, {\"date\": \"2017-06-20T00:00:00\", \"count\": 10}, {\"date\": \"2018-05-28T00:00:00\", \"count\": 10}, {\"date\": \"2018-10-20T00:00:00\", \"count\": 10}, {\"date\": \"2020-03-28T00:00:00\", \"count\": 10}, {\"date\": \"2018-07-14T00:00:00\", \"count\": 10}, {\"date\": \"2019-04-26T00:00:00\", \"count\": 10}, {\"date\": \"2018-05-17T00:00:00\", \"count\": 10}, {\"date\": \"2020-11-03T00:00:00\", \"count\": 10}, {\"date\": \"2018-03-01T00:00:00\", \"count\": 9}, {\"date\": \"2018-03-21T00:00:00\", \"count\": 9}, {\"date\": \"2017-10-08T00:00:00\", \"count\": 9}, {\"date\": \"2019-05-11T00:00:00\", \"count\": 9}, {\"date\": \"2018-03-14T00:00:00\", \"count\": 9}, {\"date\": \"2017-10-10T00:00:00\", \"count\": 9}, {\"date\": \"2019-01-21T00:00:00\", \"count\": 9}, {\"date\": \"2019-05-06T00:00:00\", \"count\": 9}, {\"date\": \"2019-01-15T00:00:00\", \"count\": 9}, {\"date\": \"2019-04-25T00:00:00\", \"count\": 9}, {\"date\": \"2018-02-27T00:00:00\", \"count\": 9}, {\"date\": \"2018-03-13T00:00:00\", \"count\": 9}, {\"date\": \"2018-01-04T00:00:00\", \"count\": 9}, {\"date\": \"2018-02-23T00:00:00\", \"count\": 9}, {\"date\": \"2019-02-19T00:00:00\", \"count\": 9}, {\"date\": \"2019-08-29T00:00:00\", \"count\": 9}, {\"date\": \"2018-01-16T00:00:00\", \"count\": 9}, {\"date\": \"2018-01-18T00:00:00\", \"count\": 9}, {\"date\": \"2018-01-20T00:00:00\", \"count\": 9}, {\"date\": \"2018-02-10T00:00:00\", \"count\": 9}, {\"date\": \"2019-09-08T00:00:00\", \"count\": 9}, {\"date\": \"2019-09-13T00:00:00\", \"count\": 9}, {\"date\": \"2019-02-20T00:00:00\", \"count\": 9}, {\"date\": \"2017-12-08T00:00:00\", \"count\": 9}, {\"date\": \"2017-10-19T00:00:00\", \"count\": 9}, {\"date\": \"2019-03-25T00:00:00\", \"count\": 9}, {\"date\": \"2019-02-07T00:00:00\", \"count\": 9}, {\"date\": \"2017-11-22T00:00:00\", \"count\": 9}, {\"date\": \"2017-11-13T00:00:00\", \"count\": 9}, {\"date\": \"2018-02-17T00:00:00\", \"count\": 9}, {\"date\": \"2018-03-28T00:00:00\", \"count\": 9}, {\"date\": \"2017-10-28T00:00:00\", \"count\": 9}, {\"date\": \"2018-04-12T00:00:00\", \"count\": 9}, {\"date\": \"2018-04-18T00:00:00\", \"count\": 9}, {\"date\": \"2019-09-12T00:00:00\", \"count\": 9}, {\"date\": \"2017-09-29T00:00:00\", \"count\": 9}, {\"date\": \"2020-04-22T00:00:00\", \"count\": 9}, {\"date\": \"2017-05-08T00:00:00\", \"count\": 9}, {\"date\": \"2020-06-20T00:00:00\", \"count\": 9}, {\"date\": \"2018-09-09T00:00:00\", \"count\": 9}, {\"date\": \"2017-05-10T00:00:00\", \"count\": 9}, {\"date\": \"2018-09-12T00:00:00\", \"count\": 9}, {\"date\": \"2017-06-05T00:00:00\", \"count\": 9}, {\"date\": \"2017-06-13T00:00:00\", \"count\": 9}, {\"date\": \"2020-04-28T00:00:00\", \"count\": 9}, {\"date\": \"2020-04-21T00:00:00\", \"count\": 9}, {\"date\": \"2018-08-31T00:00:00\", \"count\": 9}, {\"date\": \"2017-06-26T00:00:00\", \"count\": 9}, {\"date\": \"2017-06-28T00:00:00\", \"count\": 9}, {\"date\": \"2018-10-08T00:00:00\", \"count\": 9}, {\"date\": \"2020-04-09T00:00:00\", \"count\": 9}, {\"date\": \"2020-04-07T00:00:00\", \"count\": 9}, {\"date\": \"2017-07-16T00:00:00\", \"count\": 9}, {\"date\": \"2018-10-30T00:00:00\", \"count\": 9}, {\"date\": \"2018-11-01T00:00:00\", \"count\": 9}, {\"date\": \"2020-06-24T00:00:00\", \"count\": 9}, {\"date\": \"2020-06-29T00:00:00\", \"count\": 9}, {\"date\": \"2018-05-09T00:00:00\", \"count\": 9}, {\"date\": \"2017-03-03T00:00:00\", \"count\": 9}, {\"date\": \"2018-07-22T00:00:00\", \"count\": 9}, {\"date\": \"2017-01-25T00:00:00\", \"count\": 9}, {\"date\": \"2017-02-04T00:00:00\", \"count\": 9}, {\"date\": \"2020-10-20T00:00:00\", \"count\": 9}, {\"date\": \"2018-08-02T00:00:00\", \"count\": 9}, {\"date\": \"2017-02-17T00:00:00\", \"count\": 9}, {\"date\": \"2018-08-06T00:00:00\", \"count\": 9}, {\"date\": \"2020-09-26T00:00:00\", \"count\": 9}, {\"date\": \"2017-03-15T00:00:00\", \"count\": 9}, {\"date\": \"2018-08-27T00:00:00\", \"count\": 9}, {\"date\": \"2018-08-11T00:00:00\", \"count\": 9}, {\"date\": \"2017-03-30T00:00:00\", \"count\": 9}, {\"date\": \"2018-07-05T00:00:00\", \"count\": 9}, {\"date\": \"2018-06-30T00:00:00\", \"count\": 9}, {\"date\": \"2020-07-17T00:00:00\", \"count\": 9}, {\"date\": \"2020-07-13T00:00:00\", \"count\": 9}, {\"date\": \"2017-04-26T00:00:00\", \"count\": 9}, {\"date\": \"2018-08-25T00:00:00\", \"count\": 9}, {\"date\": \"2018-11-04T00:00:00\", \"count\": 9}, {\"date\": \"2019-04-30T00:00:00\", \"count\": 9}, {\"date\": \"2018-11-27T00:00:00\", \"count\": 9}, {\"date\": \"2017-08-14T00:00:00\", \"count\": 9}, {\"date\": \"2018-12-14T00:00:00\", \"count\": 9}, {\"date\": \"2017-09-01T00:00:00\", \"count\": 9}, {\"date\": \"2020-01-03T00:00:00\", \"count\": 9}, {\"date\": \"2017-09-06T00:00:00\", \"count\": 9}, {\"date\": \"2019-12-28T00:00:00\", \"count\": 9}, {\"date\": \"2018-12-05T00:00:00\", \"count\": 9}, {\"date\": \"2019-12-25T00:00:00\", \"count\": 9}, {\"date\": \"2018-11-30T00:00:00\", \"count\": 9}, {\"date\": \"2020-02-02T00:00:00\", \"count\": 9}, {\"date\": \"2019-12-24T00:00:00\", \"count\": 9}, {\"date\": \"2018-12-29T00:00:00\", \"count\": 9}, {\"date\": \"2020-02-05T00:00:00\", \"count\": 9}, {\"date\": \"2020-01-06T00:00:00\", \"count\": 9}, {\"date\": \"2019-12-04T00:00:00\", \"count\": 9}, {\"date\": \"2017-09-27T00:00:00\", \"count\": 9}, {\"date\": \"2017-09-22T00:00:00\", \"count\": 9}, {\"date\": \"2020-02-15T00:00:00\", \"count\": 9}, {\"date\": \"2019-05-18T00:00:00\", \"count\": 8}, {\"date\": \"2019-05-28T00:00:00\", \"count\": 8}, {\"date\": \"2017-01-24T00:00:00\", \"count\": 8}, {\"date\": \"2020-08-06T00:00:00\", \"count\": 8}, {\"date\": \"2017-01-30T00:00:00\", \"count\": 8}, {\"date\": \"2017-09-07T00:00:00\", \"count\": 8}, {\"date\": \"2017-02-03T00:00:00\", \"count\": 8}, {\"date\": \"2017-03-20T00:00:00\", \"count\": 8}, {\"date\": \"2018-03-02T00:00:00\", \"count\": 8}, {\"date\": \"2019-11-19T00:00:00\", \"count\": 8}, {\"date\": \"2017-09-24T00:00:00\", \"count\": 8}, {\"date\": \"2018-03-06T00:00:00\", \"count\": 8}, {\"date\": \"2018-02-28T00:00:00\", \"count\": 8}, {\"date\": \"2019-12-11T00:00:00\", \"count\": 8}, {\"date\": \"2017-04-23T00:00:00\", \"count\": 8}, {\"date\": \"2017-09-18T00:00:00\", \"count\": 8}, {\"date\": \"2017-07-28T00:00:00\", \"count\": 8}, {\"date\": \"2017-08-23T00:00:00\", \"count\": 8}, {\"date\": \"2017-10-24T00:00:00\", \"count\": 8}, {\"date\": \"2017-11-11T00:00:00\", \"count\": 8}, {\"date\": \"2017-12-31T00:00:00\", \"count\": 8}, {\"date\": \"2020-02-22T00:00:00\", \"count\": 8}, {\"date\": \"2020-02-17T00:00:00\", \"count\": 8}, {\"date\": \"2020-03-19T00:00:00\", \"count\": 8}, {\"date\": \"2020-02-13T00:00:00\", \"count\": 8}, {\"date\": \"2018-01-10T00:00:00\", \"count\": 8}, {\"date\": \"2019-11-25T00:00:00\", \"count\": 8}, {\"date\": \"2019-08-02T00:00:00\", \"count\": 8}, {\"date\": \"2017-08-12T00:00:00\", \"count\": 8}, {\"date\": \"2018-01-17T00:00:00\", \"count\": 8}, {\"date\": \"2020-04-14T00:00:00\", \"count\": 8}, {\"date\": \"2020-02-04T00:00:00\", \"count\": 8}, {\"date\": \"2017-12-07T00:00:00\", \"count\": 8}, {\"date\": \"2017-06-16T00:00:00\", \"count\": 8}, {\"date\": \"2020-05-08T00:00:00\", \"count\": 8}, {\"date\": \"2020-02-03T00:00:00\", \"count\": 8}, {\"date\": \"2017-11-23T00:00:00\", \"count\": 8}, {\"date\": \"2017-08-18T00:00:00\", \"count\": 8}, {\"date\": \"2017-08-19T00:00:00\", \"count\": 8}, {\"date\": \"2017-11-16T00:00:00\", \"count\": 8}, {\"date\": \"2017-05-05T00:00:00\", \"count\": 8}, {\"date\": \"2017-08-22T00:00:00\", \"count\": 8}, {\"date\": \"2017-08-03T00:00:00\", \"count\": 8}, {\"date\": \"2018-01-12T00:00:00\", \"count\": 8}, {\"date\": \"2018-07-17T00:00:00\", \"count\": 8}, {\"date\": \"2019-03-02T00:00:00\", \"count\": 8}, {\"date\": \"2019-03-27T00:00:00\", \"count\": 8}, {\"date\": \"2019-04-11T00:00:00\", \"count\": 8}, {\"date\": \"2019-04-10T00:00:00\", \"count\": 8}, {\"date\": \"2018-03-25T00:00:00\", \"count\": 8}, {\"date\": \"2018-06-18T00:00:00\", \"count\": 8}, {\"date\": \"2018-11-26T00:00:00\", \"count\": 8}, {\"date\": \"2019-01-23T00:00:00\", \"count\": 8}, {\"date\": \"2018-04-15T00:00:00\", \"count\": 8}, {\"date\": \"2019-01-11T00:00:00\", \"count\": 8}, {\"date\": \"2018-04-03T00:00:00\", \"count\": 8}, {\"date\": \"2018-10-01T00:00:00\", \"count\": 8}, {\"date\": \"2018-08-23T00:00:00\", \"count\": 8}, {\"date\": \"2018-04-22T00:00:00\", \"count\": 8}, {\"date\": \"2019-01-03T00:00:00\", \"count\": 8}, {\"date\": \"2018-04-24T00:00:00\", \"count\": 8}, {\"date\": \"2018-10-15T00:00:00\", \"count\": 8}, {\"date\": \"2018-05-20T00:00:00\", \"count\": 8}, {\"date\": \"2018-04-08T00:00:00\", \"count\": 8}, {\"date\": \"2018-10-24T00:00:00\", \"count\": 8}, {\"date\": \"2018-11-16T00:00:00\", \"count\": 8}, {\"date\": \"2018-12-06T00:00:00\", \"count\": 8}, {\"date\": \"2019-03-09T00:00:00\", \"count\": 8}, {\"date\": \"2019-01-27T00:00:00\", \"count\": 8}, {\"date\": \"2019-04-14T00:00:00\", \"count\": 8}, {\"date\": \"2019-04-19T00:00:00\", \"count\": 8}, {\"date\": \"2018-07-15T00:00:00\", \"count\": 8}, {\"date\": \"2018-07-09T00:00:00\", \"count\": 8}, {\"date\": \"2018-08-05T00:00:00\", \"count\": 8}, {\"date\": \"2018-08-07T00:00:00\", \"count\": 8}, {\"date\": \"2018-08-10T00:00:00\", \"count\": 8}, {\"date\": \"2018-11-22T00:00:00\", \"count\": 8}, {\"date\": \"2017-10-16T00:00:00\", \"count\": 7}, {\"date\": \"2017-11-06T00:00:00\", \"count\": 7}, {\"date\": \"2019-02-23T00:00:00\", \"count\": 7}, {\"date\": \"2018-05-01T00:00:00\", \"count\": 7}, {\"date\": \"2017-10-26T00:00:00\", \"count\": 7}, {\"date\": \"2018-04-30T00:00:00\", \"count\": 7}, {\"date\": \"2017-09-02T00:00:00\", \"count\": 7}, {\"date\": \"2020-01-02T00:00:00\", \"count\": 7}, {\"date\": \"2018-04-28T00:00:00\", \"count\": 7}, {\"date\": \"2018-07-16T00:00:00\", \"count\": 7}, {\"date\": \"2019-09-17T00:00:00\", \"count\": 7}, {\"date\": \"2017-09-08T00:00:00\", \"count\": 7}, {\"date\": \"2017-10-20T00:00:00\", \"count\": 7}, {\"date\": \"2019-09-19T00:00:00\", \"count\": 7}, {\"date\": \"2019-09-20T00:00:00\", \"count\": 7}, {\"date\": \"2019-02-01T00:00:00\", \"count\": 7}, {\"date\": \"2019-10-24T00:00:00\", \"count\": 7}, {\"date\": \"2019-02-14T00:00:00\", \"count\": 7}, {\"date\": \"2017-09-28T00:00:00\", \"count\": 7}, {\"date\": \"2019-01-28T00:00:00\", \"count\": 7}, {\"date\": \"2019-01-07T00:00:00\", \"count\": 7}, {\"date\": \"2019-01-08T00:00:00\", \"count\": 7}, {\"date\": \"2017-12-02T00:00:00\", \"count\": 7}, {\"date\": \"2019-01-09T00:00:00\", \"count\": 7}, {\"date\": \"2019-10-21T00:00:00\", \"count\": 7}, {\"date\": \"2017-10-01T00:00:00\", \"count\": 7}, {\"date\": \"2017-10-04T00:00:00\", \"count\": 7}, {\"date\": \"2019-01-19T00:00:00\", \"count\": 7}, {\"date\": \"2017-11-10T00:00:00\", \"count\": 7}, {\"date\": \"2019-02-13T00:00:00\", \"count\": 7}, {\"date\": \"2018-11-28T00:00:00\", \"count\": 7}, {\"date\": \"2020-02-06T00:00:00\", \"count\": 7}, {\"date\": \"2017-04-01T00:00:00\", \"count\": 7}, {\"date\": \"2018-06-14T00:00:00\", \"count\": 7}, {\"date\": \"2020-07-08T00:00:00\", \"count\": 7}, {\"date\": \"2018-06-24T00:00:00\", \"count\": 7}, {\"date\": \"2020-07-21T00:00:00\", \"count\": 7}, {\"date\": \"2020-07-24T00:00:00\", \"count\": 7}, {\"date\": \"2017-04-18T00:00:00\", \"count\": 7}, {\"date\": \"2017-04-17T00:00:00\", \"count\": 7}, {\"date\": \"2017-04-03T00:00:00\", \"count\": 7}, {\"date\": \"2017-03-31T00:00:00\", \"count\": 7}, {\"date\": \"2017-08-05T00:00:00\", \"count\": 7}, {\"date\": \"2017-03-07T00:00:00\", \"count\": 7}, {\"date\": \"2017-03-04T00:00:00\", \"count\": 7}, {\"date\": \"2020-09-19T00:00:00\", \"count\": 7}, {\"date\": \"2017-02-12T00:00:00\", \"count\": 7}, {\"date\": \"2017-02-09T00:00:00\", \"count\": 7}, {\"date\": \"2017-01-29T00:00:00\", \"count\": 7}, {\"date\": \"2017-01-27T00:00:00\", \"count\": 7}, {\"date\": \"2018-07-20T00:00:00\", \"count\": 7}, {\"date\": \"2020-06-21T00:00:00\", \"count\": 7}, {\"date\": \"2020-06-17T00:00:00\", \"count\": 7}, {\"date\": \"2020-06-16T00:00:00\", \"count\": 7}, {\"date\": \"2020-06-15T00:00:00\", \"count\": 7}, {\"date\": \"2017-08-04T00:00:00\", \"count\": 7}, {\"date\": \"2018-11-10T00:00:00\", \"count\": 7}, {\"date\": \"2017-07-21T00:00:00\", \"count\": 7}, {\"date\": \"2017-07-15T00:00:00\", \"count\": 7}, {\"date\": \"2018-05-15T00:00:00\", \"count\": 7}, {\"date\": \"2020-03-30T00:00:00\", \"count\": 7}, {\"date\": \"2018-05-24T00:00:00\", \"count\": 7}, {\"date\": \"2020-04-16T00:00:00\", \"count\": 7}, {\"date\": \"2018-10-06T00:00:00\", \"count\": 7}, {\"date\": \"2018-09-26T00:00:00\", \"count\": 7}, {\"date\": \"2018-05-29T00:00:00\", \"count\": 7}, {\"date\": \"2017-06-09T00:00:00\", \"count\": 7}, {\"date\": \"2018-05-31T00:00:00\", \"count\": 7}, {\"date\": \"2018-09-19T00:00:00\", \"count\": 7}, {\"date\": \"2017-05-27T00:00:00\", \"count\": 7}, {\"date\": \"2018-06-08T00:00:00\", \"count\": 7}, {\"date\": \"2020-06-14T00:00:00\", \"count\": 7}, {\"date\": \"2018-10-23T00:00:00\", \"count\": 7}, {\"date\": \"2020-11-06T00:00:00\", \"count\": 7}, {\"date\": \"2018-01-26T00:00:00\", \"count\": 7}, {\"date\": \"2019-06-27T00:00:00\", \"count\": 7}, {\"date\": \"2018-04-07T00:00:00\", \"count\": 7}, {\"date\": \"2018-01-23T00:00:00\", \"count\": 7}, {\"date\": \"2019-06-21T00:00:00\", \"count\": 7}, {\"date\": \"2018-01-09T00:00:00\", \"count\": 7}, {\"date\": \"2018-01-19T00:00:00\", \"count\": 7}, {\"date\": \"2019-04-08T00:00:00\", \"count\": 7}, {\"date\": \"2018-01-07T00:00:00\", \"count\": 7}, {\"date\": \"2018-03-12T00:00:00\", \"count\": 7}, {\"date\": \"2019-07-08T00:00:00\", \"count\": 7}, {\"date\": \"2018-02-06T00:00:00\", \"count\": 7}, {\"date\": \"2017-11-04T00:00:00\", \"count\": 6}, {\"date\": \"2018-02-15T00:00:00\", \"count\": 6}, {\"date\": \"2019-03-06T00:00:00\", \"count\": 6}, {\"date\": \"2017-10-03T00:00:00\", \"count\": 6}, {\"date\": \"2018-06-01T00:00:00\", \"count\": 6}, {\"date\": \"2017-04-24T00:00:00\", \"count\": 6}, {\"date\": \"2017-10-05T00:00:00\", \"count\": 6}, {\"date\": \"2018-09-16T00:00:00\", \"count\": 6}, {\"date\": \"2019-05-26T00:00:00\", \"count\": 6}, {\"date\": \"2018-06-10T00:00:00\", \"count\": 6}, {\"date\": \"2020-06-06T00:00:00\", \"count\": 6}, {\"date\": \"2018-04-06T00:00:00\", \"count\": 6}, {\"date\": \"2018-09-07T00:00:00\", \"count\": 6}, {\"date\": \"2019-04-07T00:00:00\", \"count\": 6}, {\"date\": \"2020-07-12T00:00:00\", \"count\": 6}, {\"date\": \"2017-06-11T00:00:00\", \"count\": 6}, {\"date\": \"2018-01-14T00:00:00\", \"count\": 6}, {\"date\": \"2017-10-29T00:00:00\", \"count\": 6}, {\"date\": \"2019-05-29T00:00:00\", \"count\": 6}, {\"date\": \"2018-04-13T00:00:00\", \"count\": 6}, {\"date\": \"2018-06-11T00:00:00\", \"count\": 6}, {\"date\": \"2018-04-04T00:00:00\", \"count\": 6}, {\"date\": \"2018-05-14T00:00:00\", \"count\": 6}, {\"date\": \"2020-01-19T00:00:00\", \"count\": 6}, {\"date\": \"2017-08-30T00:00:00\", \"count\": 6}, {\"date\": \"2018-05-03T00:00:00\", \"count\": 6}, {\"date\": \"2018-02-05T00:00:00\", \"count\": 6}, {\"date\": \"2018-11-17T00:00:00\", \"count\": 6}, {\"date\": \"2018-04-29T00:00:00\", \"count\": 6}, {\"date\": \"2018-02-08T00:00:00\", \"count\": 6}, {\"date\": \"2020-01-04T00:00:00\", \"count\": 6}, {\"date\": \"2019-06-30T00:00:00\", \"count\": 6}, {\"date\": \"2018-04-25T00:00:00\", \"count\": 6}, {\"date\": \"2017-07-18T00:00:00\", \"count\": 6}, {\"date\": \"2019-06-24T00:00:00\", \"count\": 6}, {\"date\": \"2020-05-07T00:00:00\", \"count\": 6}, {\"date\": \"2017-09-13T00:00:00\", \"count\": 6}, {\"date\": \"2020-03-26T00:00:00\", \"count\": 6}, {\"date\": \"2017-07-07T00:00:00\", \"count\": 6}, {\"date\": \"2020-04-03T00:00:00\", \"count\": 6}, {\"date\": \"2017-09-21T00:00:00\", \"count\": 6}, {\"date\": \"2019-01-04T00:00:00\", \"count\": 6}, {\"date\": \"2017-06-30T00:00:00\", \"count\": 6}, {\"date\": \"2020-04-27T00:00:00\", \"count\": 6}, {\"date\": \"2017-06-15T00:00:00\", \"count\": 6}, {\"date\": \"2020-05-06T00:00:00\", \"count\": 6}, {\"date\": \"2018-03-23T00:00:00\", \"count\": 6}, {\"date\": \"2018-08-19T00:00:00\", \"count\": 6}, {\"date\": \"2019-07-06T00:00:00\", \"count\": 6}, {\"date\": \"2017-12-03T00:00:00\", \"count\": 6}, {\"date\": \"2019-02-16T00:00:00\", \"count\": 6}, {\"date\": \"2017-02-02T00:00:00\", \"count\": 6}, {\"date\": \"2018-07-12T00:00:00\", \"count\": 6}, {\"date\": \"2017-12-01T00:00:00\", \"count\": 6}, {\"date\": \"2017-02-05T00:00:00\", \"count\": 6}, {\"date\": \"2017-02-25T00:00:00\", \"count\": 6}, {\"date\": \"2017-03-28T00:00:00\", \"count\": 6}, {\"date\": \"2018-08-09T00:00:00\", \"count\": 6}, {\"date\": \"2019-08-09T00:00:00\", \"count\": 6}, {\"date\": \"2017-03-06T00:00:00\", \"count\": 6}, {\"date\": \"2020-08-16T00:00:00\", \"count\": 6}, {\"date\": \"2019-02-21T00:00:00\", \"count\": 6}, {\"date\": \"2017-02-06T00:00:00\", \"count\": 6}, {\"date\": \"2018-03-08T00:00:00\", \"count\": 6}, {\"date\": \"2019-05-09T00:00:00\", \"count\": 6}, {\"date\": \"2017-12-12T00:00:00\", \"count\": 6}, {\"date\": \"2017-02-16T00:00:00\", \"count\": 6}, {\"date\": \"2018-03-09T00:00:00\", \"count\": 6}, {\"date\": \"2017-12-14T00:00:00\", \"count\": 6}, {\"date\": \"2019-02-12T00:00:00\", \"count\": 6}, {\"date\": \"2017-12-15T00:00:00\", \"count\": 6}, {\"date\": \"2017-04-12T00:00:00\", \"count\": 6}, {\"date\": \"2019-02-05T00:00:00\", \"count\": 6}, {\"date\": \"2019-02-28T00:00:00\", \"count\": 6}, {\"date\": \"2017-12-30T00:00:00\", \"count\": 6}, {\"date\": \"2018-07-21T00:00:00\", \"count\": 6}, {\"date\": \"2017-01-26T00:00:00\", \"count\": 6}, {\"date\": \"2017-11-19T00:00:00\", \"count\": 6}, {\"date\": \"2017-12-28T00:00:00\", \"count\": 6}, {\"date\": \"2019-02-09T00:00:00\", \"count\": 6}, {\"date\": \"2017-04-21T00:00:00\", \"count\": 6}, {\"date\": \"2017-11-24T00:00:00\", \"count\": 6}, {\"date\": \"2017-04-16T00:00:00\", \"count\": 6}, {\"date\": \"2017-07-11T00:00:00\", \"count\": 5}, {\"date\": \"2017-02-13T00:00:00\", \"count\": 5}, {\"date\": \"2019-06-23T00:00:00\", \"count\": 5}, {\"date\": \"2019-07-05T00:00:00\", \"count\": 5}, {\"date\": \"2017-08-21T00:00:00\", \"count\": 5}, {\"date\": \"2020-03-17T00:00:00\", \"count\": 5}, {\"date\": \"2018-05-13T00:00:00\", \"count\": 5}, {\"date\": \"2018-07-07T00:00:00\", \"count\": 5}, {\"date\": \"2017-02-24T00:00:00\", \"count\": 5}, {\"date\": \"2020-03-07T00:00:00\", \"count\": 5}, {\"date\": \"2018-11-18T00:00:00\", \"count\": 5}, {\"date\": \"2017-07-23T00:00:00\", \"count\": 5}, {\"date\": \"2017-01-31T00:00:00\", \"count\": 5}, {\"date\": \"2018-05-10T00:00:00\", \"count\": 5}, {\"date\": \"2018-05-08T00:00:00\", \"count\": 5}, {\"date\": \"2017-08-02T00:00:00\", \"count\": 5}, {\"date\": \"2020-01-31T00:00:00\", \"count\": 5}, {\"date\": \"2018-11-11T00:00:00\", \"count\": 5}, {\"date\": \"2018-11-14T00:00:00\", \"count\": 5}, {\"date\": \"2018-03-11T00:00:00\", \"count\": 5}, {\"date\": \"2019-05-07T00:00:00\", \"count\": 5}, {\"date\": \"2018-02-07T00:00:00\", \"count\": 5}, {\"date\": \"2017-08-11T00:00:00\", \"count\": 5}, {\"date\": \"2018-11-19T00:00:00\", \"count\": 5}, {\"date\": \"2017-08-08T00:00:00\", \"count\": 5}, {\"date\": \"2019-04-17T00:00:00\", \"count\": 5}, {\"date\": \"2020-04-15T00:00:00\", \"count\": 5}, {\"date\": \"2018-10-21T00:00:00\", \"count\": 5}, {\"date\": \"2017-05-02T00:00:00\", \"count\": 5}, {\"date\": \"2017-05-11T00:00:00\", \"count\": 5}, {\"date\": \"2018-02-19T00:00:00\", \"count\": 5}, {\"date\": \"2018-03-05T00:00:00\", \"count\": 5}, {\"date\": \"2017-04-08T00:00:00\", \"count\": 5}, {\"date\": \"2017-08-26T00:00:00\", \"count\": 5}, {\"date\": \"2020-06-26T00:00:00\", \"count\": 5}, {\"date\": \"2018-02-21T00:00:00\", \"count\": 5}, {\"date\": \"2017-04-30T00:00:00\", \"count\": 5}, {\"date\": \"2017-07-06T00:00:00\", \"count\": 5}, {\"date\": \"2017-04-11T00:00:00\", \"count\": 5}, {\"date\": \"2020-07-05T00:00:00\", \"count\": 5}, {\"date\": \"2020-07-07T00:00:00\", \"count\": 5}, {\"date\": \"2018-03-22T00:00:00\", \"count\": 5}, {\"date\": \"2017-04-25T00:00:00\", \"count\": 5}, {\"date\": \"2020-07-27T00:00:00\", \"count\": 5}, {\"date\": \"2020-07-14T00:00:00\", \"count\": 5}, {\"date\": \"2017-05-16T00:00:00\", \"count\": 5}, {\"date\": \"2017-05-18T00:00:00\", \"count\": 5}, {\"date\": \"2018-06-03T00:00:00\", \"count\": 5}, {\"date\": \"2017-03-29T00:00:00\", \"count\": 5}, {\"date\": \"2017-03-02T00:00:00\", \"count\": 5}, {\"date\": \"2019-06-20T00:00:00\", \"count\": 5}, {\"date\": \"2018-10-14T00:00:00\", \"count\": 5}, {\"date\": \"2018-05-22T00:00:00\", \"count\": 5}, {\"date\": \"2018-08-08T00:00:00\", \"count\": 5}, {\"date\": \"2017-04-22T00:00:00\", \"count\": 5}, {\"date\": \"2017-06-27T00:00:00\", \"count\": 5}, {\"date\": \"2018-05-27T00:00:00\", \"count\": 5}, {\"date\": \"2017-06-23T00:00:00\", \"count\": 5}, {\"date\": \"2018-09-29T00:00:00\", \"count\": 5}, {\"date\": \"2018-03-07T00:00:00\", \"count\": 5}, {\"date\": \"2019-05-15T00:00:00\", \"count\": 5}, {\"date\": \"2017-06-12T00:00:00\", \"count\": 5}, {\"date\": \"2017-03-08T00:00:00\", \"count\": 5}, {\"date\": \"2017-03-13T00:00:00\", \"count\": 5}, {\"date\": \"2017-07-08T00:00:00\", \"count\": 5}, {\"date\": \"2018-03-15T00:00:00\", \"count\": 5}, {\"date\": \"2017-11-25T00:00:00\", \"count\": 5}, {\"date\": \"2019-08-04T00:00:00\", \"count\": 5}, {\"date\": \"2018-02-03T00:00:00\", \"count\": 5}, {\"date\": \"2020-01-01T00:00:00\", \"count\": 5}, {\"date\": \"2018-02-02T00:00:00\", \"count\": 5}, {\"date\": \"2018-01-08T00:00:00\", \"count\": 5}, {\"date\": \"2017-11-27T00:00:00\", \"count\": 5}, {\"date\": \"2017-11-17T00:00:00\", \"count\": 5}, {\"date\": \"2017-11-14T00:00:00\", \"count\": 5}, {\"date\": \"2017-11-09T00:00:00\", \"count\": 5}, {\"date\": \"2017-11-08T00:00:00\", \"count\": 5}, {\"date\": \"2018-12-28T00:00:00\", \"count\": 5}, {\"date\": \"2019-02-22T00:00:00\", \"count\": 5}, {\"date\": \"2017-09-17T00:00:00\", \"count\": 5}, {\"date\": \"2017-10-09T00:00:00\", \"count\": 5}, {\"date\": \"2019-12-09T00:00:00\", \"count\": 5}, {\"date\": \"2019-01-02T00:00:00\", \"count\": 5}, {\"date\": \"2019-07-13T00:00:00\", \"count\": 5}, {\"date\": \"2019-01-06T00:00:00\", \"count\": 5}, {\"date\": \"2019-01-17T00:00:00\", \"count\": 5}, {\"date\": \"2019-12-03T00:00:00\", \"count\": 5}, {\"date\": \"2019-11-27T00:00:00\", \"count\": 5}, {\"date\": \"2018-04-10T00:00:00\", \"count\": 5}, {\"date\": \"2018-01-27T00:00:00\", \"count\": 5}, {\"date\": \"2018-01-05T00:00:00\", \"count\": 5}, {\"date\": \"2019-02-27T00:00:00\", \"count\": 5}, {\"date\": \"2017-12-21T00:00:00\", \"count\": 5}, {\"date\": \"2017-12-24T00:00:00\", \"count\": 5}, {\"date\": \"2017-12-23T00:00:00\", \"count\": 5}, {\"date\": \"2017-12-19T00:00:00\", \"count\": 5}, {\"date\": \"2018-12-15T00:00:00\", \"count\": 5}, {\"date\": \"2017-12-20T00:00:00\", \"count\": 5}, {\"date\": \"2017-09-03T00:00:00\", \"count\": 5}, {\"date\": \"2018-01-06T00:00:00\", \"count\": 5}, {\"date\": \"2019-02-26T00:00:00\", \"count\": 4}, {\"date\": \"2018-04-05T00:00:00\", \"count\": 4}, {\"date\": \"2019-04-03T00:00:00\", \"count\": 4}, {\"date\": \"2020-10-04T00:00:00\", \"count\": 4}, {\"date\": \"2018-12-10T00:00:00\", \"count\": 4}, {\"date\": \"2018-03-26T00:00:00\", \"count\": 4}, {\"date\": \"2017-12-27T00:00:00\", \"count\": 4}, {\"date\": \"2017-05-07T00:00:00\", \"count\": 4}, {\"date\": \"2017-10-23T00:00:00\", \"count\": 4}, {\"date\": \"2018-01-13T00:00:00\", \"count\": 4}, {\"date\": \"2018-01-22T00:00:00\", \"count\": 4}, {\"date\": \"2017-05-23T00:00:00\", \"count\": 4}, {\"date\": \"2017-01-28T00:00:00\", \"count\": 4}, {\"date\": \"2018-03-17T00:00:00\", \"count\": 4}, {\"date\": \"2018-04-09T00:00:00\", \"count\": 4}, {\"date\": \"2017-05-26T00:00:00\", \"count\": 4}, {\"date\": \"2019-03-30T00:00:00\", \"count\": 4}, {\"date\": \"2017-05-29T00:00:00\", \"count\": 4}, {\"date\": \"2017-05-30T00:00:00\", \"count\": 4}, {\"date\": \"2018-03-29T00:00:00\", \"count\": 4}, {\"date\": \"2017-12-29T00:00:00\", \"count\": 4}, {\"date\": \"2018-02-16T00:00:00\", \"count\": 4}, {\"date\": \"2018-01-24T00:00:00\", \"count\": 4}, {\"date\": \"2018-02-14T00:00:00\", \"count\": 4}, {\"date\": \"2017-01-22T00:00:00\", \"count\": 4}, {\"date\": \"2017-06-18T00:00:00\", \"count\": 4}, {\"date\": \"2017-04-28T00:00:00\", \"count\": 4}, {\"date\": \"2017-11-05T00:00:00\", \"count\": 4}, {\"date\": \"2019-10-27T00:00:00\", \"count\": 4}, {\"date\": \"2017-10-30T00:00:00\", \"count\": 4}, {\"date\": \"2017-12-13T00:00:00\", \"count\": 4}, {\"date\": \"2019-08-12T00:00:00\", \"count\": 4}, {\"date\": \"2017-02-20T00:00:00\", \"count\": 4}, {\"date\": \"2019-08-11T00:00:00\", \"count\": 4}, {\"date\": \"2017-02-14T00:00:00\", \"count\": 4}, {\"date\": \"2017-03-16T00:00:00\", \"count\": 4}, {\"date\": \"2017-03-17T00:00:00\", \"count\": 4}, {\"date\": \"2019-05-16T00:00:00\", \"count\": 4}, {\"date\": \"2017-03-23T00:00:00\", \"count\": 4}, {\"date\": \"2017-03-24T00:00:00\", \"count\": 4}, {\"date\": \"2017-03-25T00:00:00\", \"count\": 4}, {\"date\": \"2017-03-27T00:00:00\", \"count\": 4}, {\"date\": \"2017-12-04T00:00:00\", \"count\": 4}, {\"date\": \"2018-08-12T00:00:00\", \"count\": 4}, {\"date\": \"2017-04-02T00:00:00\", \"count\": 4}, {\"date\": \"2017-11-26T00:00:00\", \"count\": 4}, {\"date\": \"2019-12-01T00:00:00\", \"count\": 4}, {\"date\": \"2018-07-04T00:00:00\", \"count\": 4}, {\"date\": \"2018-07-01T00:00:00\", \"count\": 4}, {\"date\": \"2018-03-03T00:00:00\", \"count\": 4}, {\"date\": \"2017-04-19T00:00:00\", \"count\": 4}, {\"date\": \"2017-11-12T00:00:00\", \"count\": 4}, {\"date\": \"2019-02-02T00:00:00\", \"count\": 4}, {\"date\": \"2018-07-08T00:00:00\", \"count\": 4}, {\"date\": \"2017-02-07T00:00:00\", \"count\": 4}, {\"date\": \"2017-02-26T00:00:00\", \"count\": 4}, {\"date\": \"2018-08-26T00:00:00\", \"count\": 4}, {\"date\": \"2018-12-09T00:00:00\", \"count\": 4}, {\"date\": \"2018-01-03T00:00:00\", \"count\": 4}, {\"date\": \"2018-05-11T00:00:00\", \"count\": 4}, {\"date\": \"2017-07-05T00:00:00\", \"count\": 4}, {\"date\": \"2018-02-11T00:00:00\", \"count\": 4}, {\"date\": \"2018-11-23T00:00:00\", \"count\": 4}, {\"date\": \"2017-07-02T00:00:00\", \"count\": 4}, {\"date\": \"2017-07-04T00:00:00\", \"count\": 4}, {\"date\": \"2017-08-10T00:00:00\", \"count\": 4}, {\"date\": \"2018-04-23T00:00:00\", \"count\": 4}, {\"date\": \"2017-08-09T00:00:00\", \"count\": 4}, {\"date\": \"2017-09-05T00:00:00\", \"count\": 4}, {\"date\": \"2017-07-13T00:00:00\", \"count\": 4}, {\"date\": \"2019-06-28T00:00:00\", \"count\": 4}, {\"date\": \"2018-12-17T00:00:00\", \"count\": 4}, {\"date\": \"2019-12-21T00:00:00\", \"count\": 4}, {\"date\": \"2020-03-20T00:00:00\", \"count\": 4}, {\"date\": \"2017-09-09T00:00:00\", \"count\": 4}, {\"date\": \"2017-07-10T00:00:00\", \"count\": 4}, {\"date\": \"2018-12-30T00:00:00\", \"count\": 4}, {\"date\": \"2017-09-12T00:00:00\", \"count\": 4}, {\"date\": \"2020-01-07T00:00:00\", \"count\": 4}, {\"date\": \"2017-06-24T00:00:00\", \"count\": 4}, {\"date\": \"2017-08-15T00:00:00\", \"count\": 4}, {\"date\": \"2018-10-05T00:00:00\", \"count\": 4}, {\"date\": \"2020-01-21T00:00:00\", \"count\": 4}, {\"date\": \"2018-03-16T00:00:00\", \"count\": 4}, {\"date\": \"2018-02-01T00:00:00\", \"count\": 4}, {\"date\": \"2020-03-08T00:00:00\", \"count\": 4}, {\"date\": \"2018-12-12T00:00:00\", \"count\": 4}, {\"date\": \"2017-08-01T00:00:00\", \"count\": 3}, {\"date\": \"2018-03-31T00:00:00\", \"count\": 3}, {\"date\": \"2020-07-18T00:00:00\", \"count\": 3}, {\"date\": \"2019-12-30T00:00:00\", \"count\": 3}, {\"date\": \"2017-07-20T00:00:00\", \"count\": 3}, {\"date\": \"2018-11-08T00:00:00\", \"count\": 3}, {\"date\": \"2017-04-04T00:00:00\", \"count\": 3}, {\"date\": \"2019-12-29T00:00:00\", \"count\": 3}, {\"date\": \"2017-08-06T00:00:00\", \"count\": 3}, {\"date\": \"2019-03-07T00:00:00\", \"count\": 3}, {\"date\": \"2020-07-19T00:00:00\", \"count\": 3}, {\"date\": \"2020-08-21T00:00:00\", \"count\": 3}, {\"date\": \"2018-01-01T00:00:00\", \"count\": 3}, {\"date\": \"2017-09-16T00:00:00\", \"count\": 3}, {\"date\": \"2017-02-27T00:00:00\", \"count\": 3}, {\"date\": \"2017-07-19T00:00:00\", \"count\": 3}, {\"date\": \"2019-12-22T00:00:00\", \"count\": 3}, {\"date\": \"2017-03-05T00:00:00\", \"count\": 3}, {\"date\": \"2018-05-12T00:00:00\", \"count\": 3}, {\"date\": \"2017-12-06T00:00:00\", \"count\": 3}, {\"date\": \"2017-03-09T00:00:00\", \"count\": 3}, {\"date\": \"2017-04-20T00:00:00\", \"count\": 3}, {\"date\": \"2017-07-31T00:00:00\", \"count\": 3}, {\"date\": \"2020-07-28T00:00:00\", \"count\": 3}, {\"date\": \"2018-02-09T00:00:00\", \"count\": 3}, {\"date\": \"2017-12-16T00:00:00\", \"count\": 3}, {\"date\": \"2018-04-01T00:00:00\", \"count\": 3}, {\"date\": \"2017-04-13T00:00:00\", \"count\": 3}, {\"date\": \"2020-08-08T00:00:00\", \"count\": 3}, {\"date\": \"2018-10-28T00:00:00\", \"count\": 3}, {\"date\": \"2019-02-03T00:00:00\", \"count\": 3}, {\"date\": \"2018-06-29T00:00:00\", \"count\": 3}, {\"date\": \"2020-08-09T00:00:00\", \"count\": 3}, {\"date\": \"2017-03-21T00:00:00\", \"count\": 3}, {\"date\": \"2017-12-10T00:00:00\", \"count\": 3}, {\"date\": \"2017-04-09T00:00:00\", \"count\": 3}, {\"date\": \"2017-05-01T00:00:00\", \"count\": 3}, {\"date\": \"2017-06-21T00:00:00\", \"count\": 3}, {\"date\": \"2017-12-17T00:00:00\", \"count\": 3}, {\"date\": \"2018-03-19T00:00:00\", \"count\": 3}, {\"date\": \"2017-02-10T00:00:00\", \"count\": 3}, {\"date\": \"2017-05-25T00:00:00\", \"count\": 3}, {\"date\": \"2017-10-22T00:00:00\", \"count\": 3}, {\"date\": \"2019-03-21T00:00:00\", \"count\": 3}, {\"date\": \"2017-06-01T00:00:00\", \"count\": 3}, {\"date\": \"2017-06-03T00:00:00\", \"count\": 3}, {\"date\": \"2017-06-04T00:00:00\", \"count\": 3}, {\"date\": \"2018-09-22T00:00:00\", \"count\": 3}, {\"date\": \"2017-02-01T00:00:00\", \"count\": 3}, {\"date\": \"2017-12-26T00:00:00\", \"count\": 3}, {\"date\": \"2018-09-23T00:00:00\", \"count\": 3}, {\"date\": \"2018-02-12T00:00:00\", \"count\": 3}, {\"date\": \"2018-01-25T00:00:00\", \"count\": 3}, {\"date\": \"2018-09-30T00:00:00\", \"count\": 3}, {\"date\": \"2017-06-14T00:00:00\", \"count\": 3}, {\"date\": \"2019-11-28T00:00:00\", \"count\": 3}, {\"date\": \"2018-12-01T00:00:00\", \"count\": 3}, {\"date\": \"2018-03-18T00:00:00\", \"count\": 3}, {\"date\": \"2018-10-11T00:00:00\", \"count\": 3}, {\"date\": \"2017-02-23T00:00:00\", \"count\": 3}, {\"date\": \"2017-02-18T00:00:00\", \"count\": 3}, {\"date\": \"2019-03-11T00:00:00\", \"count\": 3}, {\"date\": \"2019-01-25T00:00:00\", \"count\": 3}, {\"date\": \"2019-03-31T00:00:00\", \"count\": 3}, {\"date\": \"2017-10-14T00:00:00\", \"count\": 3}, {\"date\": \"2020-02-16T00:00:00\", \"count\": 3}, {\"date\": \"2018-05-19T00:00:00\", \"count\": 3}, {\"date\": \"2017-05-09T00:00:00\", \"count\": 3}, {\"date\": \"2018-06-16T00:00:00\", \"count\": 3}, {\"date\": \"2020-10-03T00:00:00\", \"count\": 3}, {\"date\": \"2018-01-15T00:00:00\", \"count\": 3}, {\"date\": \"2019-03-10T00:00:00\", \"count\": 3}, {\"date\": \"2017-12-05T00:00:00\", \"count\": 2}, {\"date\": \"2017-02-22T00:00:00\", \"count\": 2}, {\"date\": \"2018-12-02T00:00:00\", \"count\": 2}, {\"date\": \"2017-03-22T00:00:00\", \"count\": 2}, {\"date\": \"2017-08-20T00:00:00\", \"count\": 2}, {\"date\": \"2017-08-29T00:00:00\", \"count\": 2}, {\"date\": \"2017-03-26T00:00:00\", \"count\": 2}, {\"date\": \"2017-02-28T00:00:00\", \"count\": 2}, {\"date\": \"2018-07-06T00:00:00\", \"count\": 2}, {\"date\": \"2018-07-13T00:00:00\", \"count\": 2}, {\"date\": \"2017-03-18T00:00:00\", \"count\": 2}, {\"date\": \"2017-09-04T00:00:00\", \"count\": 2}, {\"date\": \"2017-12-25T00:00:00\", \"count\": 2}, {\"date\": \"2020-01-15T00:00:00\", \"count\": 2}, {\"date\": \"2020-10-02T00:00:00\", \"count\": 2}, {\"date\": \"2017-03-14T00:00:00\", \"count\": 2}, {\"date\": \"2018-11-24T00:00:00\", \"count\": 2}, {\"date\": \"2018-02-04T00:00:00\", \"count\": 2}, {\"date\": \"2017-02-19T00:00:00\", \"count\": 2}, {\"date\": \"2018-11-20T00:00:00\", \"count\": 2}, {\"date\": \"2017-02-21T00:00:00\", \"count\": 2}, {\"date\": \"2017-07-17T00:00:00\", \"count\": 2}, {\"date\": \"2019-11-08T00:00:00\", \"count\": 2}, {\"date\": \"2017-10-15T00:00:00\", \"count\": 2}, {\"date\": \"2017-06-07T00:00:00\", \"count\": 2}, {\"date\": \"2017-09-11T00:00:00\", \"count\": 2}, {\"date\": \"2017-04-29T00:00:00\", \"count\": 2}, {\"date\": \"2019-01-29T00:00:00\", \"count\": 2}, {\"date\": \"2019-03-24T00:00:00\", \"count\": 2}, {\"date\": \"2017-05-03T00:00:00\", \"count\": 2}, {\"date\": \"2018-09-02T00:00:00\", \"count\": 2}, {\"date\": \"2018-04-26T00:00:00\", \"count\": 2}, {\"date\": \"2020-04-01T00:00:00\", \"count\": 2}, {\"date\": \"2020-07-22T00:00:00\", \"count\": 2}, {\"date\": \"2017-05-13T00:00:00\", \"count\": 2}, {\"date\": \"2017-05-24T00:00:00\", \"count\": 2}, {\"date\": \"2017-05-15T00:00:00\", \"count\": 2}, {\"date\": \"2018-04-14T00:00:00\", \"count\": 2}, {\"date\": \"2018-04-16T00:00:00\", \"count\": 2}, {\"date\": \"2018-01-21T00:00:00\", \"count\": 2}, {\"date\": \"2017-05-19T00:00:00\", \"count\": 2}, {\"date\": \"2017-05-20T00:00:00\", \"count\": 2}, {\"date\": \"2020-07-20T00:00:00\", \"count\": 2}, {\"date\": \"2017-05-21T00:00:00\", \"count\": 2}, {\"date\": \"2019-01-16T00:00:00\", \"count\": 2}, {\"date\": \"2017-06-25T00:00:00\", \"count\": 2}, {\"date\": \"2018-03-04T00:00:00\", \"count\": 2}, {\"date\": \"2017-04-05T00:00:00\", \"count\": 2}, {\"date\": \"2017-04-10T00:00:00\", \"count\": 2}, {\"date\": \"2017-11-21T00:00:00\", \"count\": 2}, {\"date\": \"2018-12-25T00:00:00\", \"count\": 2}, {\"date\": \"2017-11-20T00:00:00\", \"count\": 2}, {\"date\": \"2018-07-02T00:00:00\", \"count\": 2}, {\"date\": \"2018-02-13T00:00:00\", \"count\": 2}, {\"date\": \"2018-12-26T00:00:00\", \"count\": 2}, {\"date\": \"2018-01-28T00:00:00\", \"count\": 2}, {\"date\": \"2017-06-17T00:00:00\", \"count\": 1}, {\"date\": \"2019-04-28T00:00:00\", \"count\": 1}, {\"date\": \"2019-11-29T00:00:00\", \"count\": 1}, {\"date\": \"2017-05-22T00:00:00\", \"count\": 1}, {\"date\": \"2017-10-02T00:00:00\", \"count\": 1}, {\"date\": \"2017-01-23T00:00:00\", \"count\": 1}, {\"date\": \"2018-07-28T00:00:00\", \"count\": 1}, {\"date\": \"2018-09-27T00:00:00\", \"count\": 1}, {\"date\": \"2018-09-28T00:00:00\", \"count\": 1}, {\"date\": \"2017-06-02T00:00:00\", \"count\": 1}, {\"date\": \"2018-01-29T00:00:00\", \"count\": 1}, {\"date\": \"2017-08-31T00:00:00\", \"count\": 1}, {\"date\": \"2017-06-10T00:00:00\", \"count\": 1}, {\"date\": \"2018-10-07T00:00:00\", \"count\": 1}, {\"date\": \"2018-05-05T00:00:00\", \"count\": 1}, {\"date\": \"2017-01-21T00:00:00\", \"count\": 1}, {\"date\": \"2017-05-17T00:00:00\", \"count\": 1}, {\"date\": \"2019-02-15T00:00:00\", \"count\": 1}, {\"date\": \"2018-03-20T00:00:00\", \"count\": 1}, {\"date\": \"2017-04-06T00:00:00\", \"count\": 1}, {\"date\": \"2019-02-06T00:00:00\", \"count\": 1}, {\"date\": \"2017-07-30T00:00:00\", \"count\": 1}, {\"date\": \"2017-03-19T00:00:00\", \"count\": 1}, {\"date\": \"2017-04-14T00:00:00\", \"count\": 1}, {\"date\": \"2017-11-18T00:00:00\", \"count\": 1}, {\"date\": \"2017-03-11T00:00:00\", \"count\": 1}, {\"date\": \"2017-03-10T00:00:00\", \"count\": 1}, {\"date\": \"2019-02-04T00:00:00\", \"count\": 1}, {\"date\": \"2017-05-14T00:00:00\", \"count\": 1}, {\"date\": \"2020-07-16T00:00:00\", \"count\": 1}, {\"date\": \"2020-01-05T00:00:00\", \"count\": 1}, {\"date\": \"2017-12-11T00:00:00\", \"count\": 1}, {\"date\": \"2018-03-24T00:00:00\", \"count\": 1}, {\"date\": \"2017-03-01T00:00:00\", \"count\": 1}, {\"date\": \"2020-01-08T00:00:00\", \"count\": 1}, {\"date\": \"2018-03-30T00:00:00\", \"count\": 1}, {\"date\": \"2017-05-06T00:00:00\", \"count\": 1}, {\"date\": \"2018-01-30T00:00:00\", \"count\": 1}, {\"date\": \"2018-03-27T00:00:00\", \"count\": 1}]}}, {\"mode\": \"vega-lite\"});\n",
       "</script>"
      ],
      "text/plain": [
       "alt.LayerChart(...)"
      ]
     },
     "execution_count": 69,
     "metadata": {},
     "output_type": "execute_result"
    }
   ],
   "source": [
    "# bars\n",
    "bars = (\n",
    "    alt.Chart(trump_no_rt_freq_inauguration, title=\"@realDonaldTrump tweet frequency\")\n",
    "    .mark_bar(size=2)\n",
    "    .encode(\n",
    "        x=alt.X(\n",
    "            \"date:T\", axis=alt.Axis(grid=False, title=\"\", tickCount=6, format=(\"%B %Y\"))\n",
    "        ),\n",
    "        y=alt.Y(\n",
    "            \"count:Q\",\n",
    "            scale=alt.Scale(domain=(0, 70)),\n",
    "            axis=alt.Axis(\n",
    "                gridColor=\"#dddddd\",\n",
    "                offset=6,\n",
    "                tickSize=0,\n",
    "                domainOpacity=0,\n",
    "                tickCount=5,\n",
    "                title=\"Daily tweet counts and mean (without retweets) since inauguration\",\n",
    "            ),\n",
    "        ),\n",
    "    )\n",
    ")\n",
    "\n",
    "# rule showing mean\n",
    "rule = (\n",
    "    alt.Chart(trump_no_rt_freq_inauguration)\n",
    "    .mark_rule(color=\"red\")\n",
    "    .encode(y=\"mean(count):Q\")\n",
    ")\n",
    "\n",
    "# rule label -- would like to add \"Average: \" annotation\n",
    "text = rule.mark_text(\n",
    "    align=\"center\",\n",
    "    baseline=\"middle\",\n",
    "    dx=50,\n",
    "    dy=10,\n",
    "    fontWeight=\"bold\",\n",
    ").encode(text=alt.Text(\"mean(count):Q\", format=\".2\"))\n",
    "\n",
    "# go\n",
    "(bars + rule + text).properties(height=400, width=620).configure_view(strokeOpacity=0)"
   ]
  },
  {
   "cell_type": "code",
   "execution_count": null,
   "metadata": {},
   "outputs": [],
   "source": []
  },
  {
   "cell_type": "code",
   "execution_count": null,
   "metadata": {},
   "outputs": [],
   "source": []
  },
  {
   "cell_type": "code",
   "execution_count": null,
   "metadata": {},
   "outputs": [],
   "source": []
  },
  {
   "cell_type": "code",
   "execution_count": null,
   "metadata": {},
   "outputs": [],
   "source": []
  },
  {
   "cell_type": "code",
   "execution_count": 70,
   "metadata": {},
   "outputs": [
    {
     "data": {
      "text/html": [
       "<div>\n",
       "<style scoped>\n",
       "    .dataframe tbody tr th:only-of-type {\n",
       "        vertical-align: middle;\n",
       "    }\n",
       "\n",
       "    .dataframe tbody tr th {\n",
       "        vertical-align: top;\n",
       "    }\n",
       "\n",
       "    .dataframe thead th {\n",
       "        text-align: right;\n",
       "    }\n",
       "</style>\n",
       "<table border=\"1\" class=\"dataframe\">\n",
       "  <thead>\n",
       "    <tr style=\"text-align: right;\">\n",
       "      <th></th>\n",
       "      <th>index</th>\n",
       "      <th>id</th>\n",
       "      <th>text</th>\n",
       "      <th>isRetweet</th>\n",
       "      <th>isDeleted</th>\n",
       "      <th>device</th>\n",
       "      <th>favorites</th>\n",
       "      <th>retweets</th>\n",
       "      <th>date</th>\n",
       "      <th>isFlagged</th>\n",
       "      <th>year</th>\n",
       "      <th>month</th>\n",
       "      <th>day</th>\n",
       "      <th>hour</th>\n",
       "      <th>minute</th>\n",
       "      <th>time</th>\n",
       "      <th>user</th>\n",
       "      <th>diff</th>\n",
       "    </tr>\n",
       "  </thead>\n",
       "  <tbody>\n",
       "    <tr>\n",
       "      <th>54097</th>\n",
       "      <td>53528</td>\n",
       "      <td>1124454991341793300</td>\n",
       "      <td>So surprised to see Conservative thinkers like James Woods banned from Twitter, and Paul Watson banned from Facebook! https://t.co/eHX3Z5CMXb</td>\n",
       "      <td>f</td>\n",
       "      <td>f</td>\n",
       "      <td>Twitter for iPhone</td>\n",
       "      <td>106722</td>\n",
       "      <td>37811</td>\n",
       "      <td>2019-05-03</td>\n",
       "      <td>NaN</td>\n",
       "      <td>2019</td>\n",
       "      <td>5</td>\n",
       "      <td>3</td>\n",
       "      <td>16</td>\n",
       "      <td>25</td>\n",
       "      <td>16:25:35</td>\n",
       "      <td>realDonaldTrump</td>\n",
       "      <td>0.0</td>\n",
       "    </tr>\n",
       "    <tr>\n",
       "      <th>54072</th>\n",
       "      <td>53503</td>\n",
       "      <td>1124743267873116200</td>\n",
       "      <td>How can it be possible that James Woods (and many others), a strong but responsible Conservative Voice, is banned from Twitter? Social Media &amp;amp, Fake News Media, together with their partner, the Democrat Party, have no idea the problems they are causing for themselves. VERY UNFAIR!</td>\n",
       "      <td>f</td>\n",
       "      <td>f</td>\n",
       "      <td>Twitter for iPhone</td>\n",
       "      <td>144190</td>\n",
       "      <td>39310</td>\n",
       "      <td>2019-05-04</td>\n",
       "      <td>NaN</td>\n",
       "      <td>2019</td>\n",
       "      <td>5</td>\n",
       "      <td>4</td>\n",
       "      <td>11</td>\n",
       "      <td>31</td>\n",
       "      <td>11:31:06</td>\n",
       "      <td>realDonaldTrump</td>\n",
       "      <td>0.0</td>\n",
       "    </tr>\n",
       "    <tr>\n",
       "      <th>53893</th>\n",
       "      <td>53314</td>\n",
       "      <td>1127188110410952700</td>\n",
       "      <td>RT @nedryun: Reminder: this guy is still on Twitter. Laura Loomer is not. The solution is not to ban this anti-Semite. The goal is to have...</td>\n",
       "      <td>t</td>\n",
       "      <td>f</td>\n",
       "      <td>Twitter for iPhone</td>\n",
       "      <td>0</td>\n",
       "      <td>7588</td>\n",
       "      <td>2019-05-11</td>\n",
       "      <td>NaN</td>\n",
       "      <td>2019</td>\n",
       "      <td>5</td>\n",
       "      <td>11</td>\n",
       "      <td>5</td>\n",
       "      <td>26</td>\n",
       "      <td>05:26:02</td>\n",
       "      <td>realDonaldTrump</td>\n",
       "      <td>0.0</td>\n",
       "    </tr>\n",
       "    <tr>\n",
       "      <th>53400</th>\n",
       "      <td>52818</td>\n",
       "      <td>1137702218835136500</td>\n",
       "      <td>Twitter should let the banned Conservative Voices back onto their platform, without restriction. It’s called Freedom of Speech, remember. You are making a Giant Mistake!</td>\n",
       "      <td>f</td>\n",
       "      <td>f</td>\n",
       "      <td>Twitter for iPhone</td>\n",
       "      <td>157575</td>\n",
       "      <td>45210</td>\n",
       "      <td>2019-06-09</td>\n",
       "      <td>NaN</td>\n",
       "      <td>2019</td>\n",
       "      <td>6</td>\n",
       "      <td>9</td>\n",
       "      <td>5</td>\n",
       "      <td>45</td>\n",
       "      <td>05:45:21</td>\n",
       "      <td>realDonaldTrump</td>\n",
       "      <td>24.0</td>\n",
       "    </tr>\n",
       "    <tr>\n",
       "      <th>53378</th>\n",
       "      <td>52796</td>\n",
       "      <td>1138024129616142300</td>\n",
       "      <td>RT @realDonaldTrump: Twitter should let the banned Conservative Voices back onto their platform, without restriction. It’s called Freedom o...</td>\n",
       "      <td>t</td>\n",
       "      <td>f</td>\n",
       "      <td>Twitter for iPhone</td>\n",
       "      <td>0</td>\n",
       "      <td>45210</td>\n",
       "      <td>2019-06-10</td>\n",
       "      <td>NaN</td>\n",
       "      <td>2019</td>\n",
       "      <td>6</td>\n",
       "      <td>10</td>\n",
       "      <td>3</td>\n",
       "      <td>4</td>\n",
       "      <td>03:04:30</td>\n",
       "      <td>realDonaldTrump</td>\n",
       "      <td>0.0</td>\n",
       "    </tr>\n",
       "    <tr>\n",
       "      <th>5919</th>\n",
       "      <td>4996</td>\n",
       "      <td>1316709525525856300</td>\n",
       "      <td>RT @scrowder: Shortly after the @Facebook Communications director admitted they were shadow banning today's Biden exposé, @Twitter has now…</td>\n",
       "      <td>t</td>\n",
       "      <td>f</td>\n",
       "      <td>Twitter for iPhone</td>\n",
       "      <td>0</td>\n",
       "      <td>10837</td>\n",
       "      <td>2020-10-15</td>\n",
       "      <td>NaN</td>\n",
       "      <td>2020</td>\n",
       "      <td>10</td>\n",
       "      <td>15</td>\n",
       "      <td>4</td>\n",
       "      <td>56</td>\n",
       "      <td>04:56:28</td>\n",
       "      <td>realDonaldTrump</td>\n",
       "      <td>0.0</td>\n",
       "    </tr>\n",
       "    <tr>\n",
       "      <th>859</th>\n",
       "      <td>865</td>\n",
       "      <td>1332317394165968899</td>\n",
       "      <td>Wow! Twitter bans highly respected Pennsylvania State Senator Doug Mastriano after he did a great job of leading a hearing on the 2020 Election fraud. They and the Fake News, working together, want to SILENCE THE TRUTH. Can’t let that happen. This is what Communist countries do!</td>\n",
       "      <td>False</td>\n",
       "      <td>False</td>\n",
       "      <td>Twitter for iPhone</td>\n",
       "      <td>277136</td>\n",
       "      <td>73437</td>\n",
       "      <td>2020-11-27</td>\n",
       "      <td>True</td>\n",
       "      <td>2020</td>\n",
       "      <td>11</td>\n",
       "      <td>27</td>\n",
       "      <td>5</td>\n",
       "      <td>36</td>\n",
       "      <td>05:36:34</td>\n",
       "      <td>realDonaldTrump</td>\n",
       "      <td>0.0</td>\n",
       "    </tr>\n",
       "    <tr>\n",
       "      <th>161</th>\n",
       "      <td>163</td>\n",
       "      <td>1344359034716106755</td>\n",
       "      <td>Twitter is shadow banning like never before. A disgrace that our weak and ineffective political leadership refuses to do anything about Big Tech. They’re either afraid or stupid, nobody really knows!</td>\n",
       "      <td>False</td>\n",
       "      <td>False</td>\n",
       "      <td>Twitter for iPhone</td>\n",
       "      <td>259126</td>\n",
       "      <td>63698</td>\n",
       "      <td>2020-12-30</td>\n",
       "      <td>False</td>\n",
       "      <td>2020</td>\n",
       "      <td>12</td>\n",
       "      <td>30</td>\n",
       "      <td>11</td>\n",
       "      <td>5</td>\n",
       "      <td>11:05:45</td>\n",
       "      <td>realDonaldTrump</td>\n",
       "      <td>0.0</td>\n",
       "    </tr>\n",
       "  </tbody>\n",
       "</table>\n",
       "</div>"
      ],
      "text/plain": [
       "       index                   id  \\\n",
       "54097  53528  1124454991341793300   \n",
       "54072  53503  1124743267873116200   \n",
       "53893  53314  1127188110410952700   \n",
       "53400  52818  1137702218835136500   \n",
       "53378  52796  1138024129616142300   \n",
       "5919    4996  1316709525525856300   \n",
       "859      865  1332317394165968899   \n",
       "161      163  1344359034716106755   \n",
       "\n",
       "                                                                                                                                                                                                                                                                                               text  \\\n",
       "54097                                                                                                                                                 So surprised to see Conservative thinkers like James Woods banned from Twitter, and Paul Watson banned from Facebook! https://t.co/eHX3Z5CMXb   \n",
       "54072  How can it be possible that James Woods (and many others), a strong but responsible Conservative Voice, is banned from Twitter? Social Media &amp, Fake News Media, together with their partner, the Democrat Party, have no idea the problems they are causing for themselves. VERY UNFAIR!   \n",
       "53893                                                                                                                                                 RT @nedryun: Reminder: this guy is still on Twitter. Laura Loomer is not. The solution is not to ban this anti-Semite. The goal is to have...   \n",
       "53400                                                                                                                     Twitter should let the banned Conservative Voices back onto their platform, without restriction. It’s called Freedom of Speech, remember. You are making a Giant Mistake!   \n",
       "53378                                                                                                                                                RT @realDonaldTrump: Twitter should let the banned Conservative Voices back onto their platform, without restriction. It’s called Freedom o...   \n",
       "5919                                                                                                                                                    RT @scrowder: Shortly after the @Facebook Communications director admitted they were shadow banning today's Biden exposé, @Twitter has now…   \n",
       "859         Wow! Twitter bans highly respected Pennsylvania State Senator Doug Mastriano after he did a great job of leading a hearing on the 2020 Election fraud. They and the Fake News, working together, want to SILENCE THE TRUTH. Can’t let that happen. This is what Communist countries do!   \n",
       "161                                                                                         Twitter is shadow banning like never before. A disgrace that our weak and ineffective political leadership refuses to do anything about Big Tech. They’re either afraid or stupid, nobody really knows!   \n",
       "\n",
       "      isRetweet isDeleted              device  favorites  retweets       date  \\\n",
       "54097         f         f  Twitter for iPhone     106722     37811 2019-05-03   \n",
       "54072         f         f  Twitter for iPhone     144190     39310 2019-05-04   \n",
       "53893         t         f  Twitter for iPhone          0      7588 2019-05-11   \n",
       "53400         f         f  Twitter for iPhone     157575     45210 2019-06-09   \n",
       "53378         t         f  Twitter for iPhone          0     45210 2019-06-10   \n",
       "5919          t         f  Twitter for iPhone          0     10837 2020-10-15   \n",
       "859       False     False  Twitter for iPhone     277136     73437 2020-11-27   \n",
       "161       False     False  Twitter for iPhone     259126     63698 2020-12-30   \n",
       "\n",
       "      isFlagged  year month day hour  minute      time             user  diff  \n",
       "54097       NaN  2019     5   3   16      25  16:25:35  realDonaldTrump   0.0  \n",
       "54072       NaN  2019     5   4   11      31  11:31:06  realDonaldTrump   0.0  \n",
       "53893       NaN  2019     5  11    5      26  05:26:02  realDonaldTrump   0.0  \n",
       "53400       NaN  2019     6   9    5      45  05:45:21  realDonaldTrump  24.0  \n",
       "53378       NaN  2019     6  10    3       4  03:04:30  realDonaldTrump   0.0  \n",
       "5919        NaN  2020    10  15    4      56  04:56:28  realDonaldTrump   0.0  \n",
       "859        True  2020    11  27    5      36  05:36:34  realDonaldTrump   0.0  \n",
       "161       False  2020    12  30   11       5  11:05:45  realDonaldTrump   0.0  "
      ]
     },
     "execution_count": 70,
     "metadata": {},
     "output_type": "execute_result"
    }
   ],
   "source": [
    "trumppres[\n",
    "    (trumppres[\"text\"].str.contains(\"ban\"))\n",
    "    & (trumppres[\"text\"].str.contains(\"Twitter\"))\n",
    "]"
   ]
  },
  {
   "cell_type": "code",
   "execution_count": 71,
   "metadata": {},
   "outputs": [
    {
     "data": {
      "text/html": [
       "<div>\n",
       "<style scoped>\n",
       "    .dataframe tbody tr th:only-of-type {\n",
       "        vertical-align: middle;\n",
       "    }\n",
       "\n",
       "    .dataframe tbody tr th {\n",
       "        vertical-align: top;\n",
       "    }\n",
       "\n",
       "    .dataframe thead th {\n",
       "        text-align: right;\n",
       "    }\n",
       "</style>\n",
       "<table border=\"1\" class=\"dataframe\">\n",
       "  <thead>\n",
       "    <tr style=\"text-align: right;\">\n",
       "      <th></th>\n",
       "      <th>user</th>\n",
       "      <th>text</th>\n",
       "    </tr>\n",
       "  </thead>\n",
       "  <tbody>\n",
       "    <tr>\n",
       "      <th>53400</th>\n",
       "      <td>realDonaldTrump</td>\n",
       "      <td>Twitter should let the banned Conservative Voices back onto their platform, without restriction. It’s called Freedom of Speech, remember. You are making a Giant Mistake!</td>\n",
       "    </tr>\n",
       "  </tbody>\n",
       "</table>\n",
       "</div>"
      ],
      "text/plain": [
       "                  user  \\\n",
       "53400  realDonaldTrump   \n",
       "\n",
       "                                                                                                                                                                            text  \n",
       "53400  Twitter should let the banned Conservative Voices back onto their platform, without restriction. It’s called Freedom of Speech, remember. You are making a Giant Mistake!  "
      ]
     },
     "execution_count": 71,
     "metadata": {},
     "output_type": "execute_result"
    }
   ],
   "source": [
    "trumppres[trumppres[\"id\"] == \"1137702218835136500\"][[\"user\", \"text\"]]"
   ]
  },
  {
   "cell_type": "markdown",
   "metadata": {},
   "source": [
    "---"
   ]
  },
  {
   "cell_type": "code",
   "execution_count": null,
   "metadata": {},
   "outputs": [],
   "source": []
  }
 ],
 "metadata": {
  "kernelspec": {
   "display_name": "Python 3",
   "language": "python",
   "name": "python3"
  },
  "language_info": {
   "codemirror_mode": {
    "name": "ipython",
    "version": 3
   },
   "file_extension": ".py",
   "mimetype": "text/x-python",
   "name": "python",
   "nbconvert_exporter": "python",
   "pygments_lexer": "ipython3",
   "version": "3.7.4"
  }
 },
 "nbformat": 4,
 "nbformat_minor": 4
}
