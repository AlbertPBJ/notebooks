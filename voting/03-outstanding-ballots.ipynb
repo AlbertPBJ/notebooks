{
 "cells": [
  {
   "cell_type": "markdown",
   "metadata": {},
   "source": [
    "# Outstanding ballots in CA"
   ]
  },
  {
   "cell_type": "code",
   "execution_count": 1,
   "metadata": {},
   "outputs": [],
   "source": [
    "import tabula \n",
    "import json\n",
    "import os\n",
    "import glob\n",
    "import numpy as np\n",
    "import pandas as pd\n",
    "import geopandas as gpd\n",
    "from pandas.io.json import json_normalize\n",
    "import bs4 as BeautifulSoup\n",
    "from altair_saver import save\n",
    "from altair import datum\n",
    "import altair as alt\n",
    "import altair_latimes as lat\n",
    "import re\n",
    "import urllib\n",
    "from bs4 import BeautifulSoup\n",
    "alt.themes.register(\"latimes\", lat.theme)\n",
    "alt.themes.enable(\"latimes\")\n",
    "pd.options.display.max_columns = 50\n",
    "pd.options.display.max_rows = 34000\n",
    "pd.set_option('display.max_colwidth', None)"
   ]
  },
  {
   "cell_type": "code",
   "execution_count": 2,
   "metadata": {},
   "outputs": [
    {
     "name": "stdout",
     "output_type": "stream",
     "text": [
      "--2020-11-09 08:09:47--  https://elections.cdn.sos.ca.gov/statewide-elections/2020-general/unprocessed-ballots-report.pdf\n",
      "Resolving elections.cdn.sos.ca.gov (elections.cdn.sos.ca.gov)... 204.147.113.115\n",
      "Connecting to elections.cdn.sos.ca.gov (elections.cdn.sos.ca.gov)|204.147.113.115|:443... connected.\n",
      "HTTP request sent, awaiting response... 200 OK\n",
      "Length: 117992 (115K) [application/pdf]\n",
      "Saving to: ‘voting/input/unprocessed-ballots-report.pdf.1’\n",
      "\n",
      "unprocessed-ballots 100%[===================>] 115.23K  --.-KB/s    in 0.08s   \n",
      "\n",
      "2020-11-09 08:09:47 (1.38 MB/s) - ‘voting/input/unprocessed-ballots-report.pdf.1’ saved [117992/117992]\n",
      "\n"
     ]
    }
   ],
   "source": [
    "!wget 'https://elections.cdn.sos.ca.gov/statewide-elections/2020-general/unprocessed-ballots-report.pdf' -P voting/input/"
   ]
  },
  {
   "cell_type": "code",
   "execution_count": null,
   "metadata": {},
   "outputs": [],
   "source": []
  }
 ],
 "metadata": {
  "kernelspec": {
   "display_name": "Python 3",
   "language": "python",
   "name": "python3"
  },
  "language_info": {
   "codemirror_mode": {
    "name": "ipython",
    "version": 3
   },
   "file_extension": ".py",
   "mimetype": "text/x-python",
   "name": "python",
   "nbconvert_exporter": "python",
   "pygments_lexer": "ipython3",
   "version": "3.7.4"
  }
 },
 "nbformat": 4,
 "nbformat_minor": 4
}
