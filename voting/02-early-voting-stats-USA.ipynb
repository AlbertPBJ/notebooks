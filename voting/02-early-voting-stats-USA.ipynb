{
 "cells": [
  {
   "cell_type": "markdown",
   "metadata": {},
   "source": [
    "# Early voting statistics in battleground states"
   ]
  },
  {
   "cell_type": "code",
   "execution_count": 1,
   "metadata": {},
   "outputs": [],
   "source": [
    "import json\n",
    "import os\n",
    "import glob\n",
    "import numpy as np\n",
    "import pandas as pd\n",
    "import geopandas as gpd\n",
    "from pandas.io.json import json_normalize\n",
    "import bs4 as BeautifulSoup\n",
    "from altair_saver import save\n",
    "from altair import datum\n",
    "import altair as alt\n",
    "import altair_latimes as lat\n",
    "import re\n",
    "import urllib\n",
    "from bs4 import BeautifulSoup\n",
    "alt.themes.register(\"latimes\", lat.theme)\n",
    "alt.themes.enable(\"latimes\")\n",
    "pd.options.display.max_columns = 50\n",
    "pd.options.display.max_rows = 34000\n",
    "pd.set_option('display.max_colwidth', None)"
   ]
  },
  {
   "cell_type": "markdown",
   "metadata": {},
   "source": [
    "### North Carolina"
   ]
  },
  {
   "cell_type": "code",
   "execution_count": 2,
   "metadata": {},
   "outputs": [],
   "source": [
    "url = 'https://electproject.github.io/Early-Vote-2020G/NC.html'\n",
    "from selenium import webdriver\n",
    "options = webdriver.ChromeOptions()\n",
    "options.add_argument('headless')\n",
    "driver = webdriver.Chrome('/Users/mhustiles/Desktop/chromedriver', options=options)\n",
    "driver.get(\"https://electproject.github.io/Early-Vote-2020G/NC.html\")\n",
    "html_table = driver.page_source\n",
    "soup = BeautifulSoup(html_table)\n",
    "json_data = soup.find_all(\"script\", type='application/json')[5].string"
   ]
  },
  {
   "cell_type": "code",
   "execution_count": 3,
   "metadata": {},
   "outputs": [],
   "source": [
    "nc_counties = pd.DataFrame(json.loads(json_data)['x']['data']).transpose()"
   ]
  },
  {
   "cell_type": "code",
   "execution_count": 4,
   "metadata": {},
   "outputs": [],
   "source": [
    "nc_counties = nc_counties.rename(columns={0:'county', 1:'mail_returned', 2:'mail_rejected', 3:'rejected_pct'}).fillna('0')"
   ]
  },
  {
   "cell_type": "code",
   "execution_count": 5,
   "metadata": {},
   "outputs": [],
   "source": [
    "nc_counties['rejected_pct'] = nc_counties['rejected_pct']*100"
   ]
  },
  {
   "cell_type": "code",
   "execution_count": 6,
   "metadata": {},
   "outputs": [],
   "source": [
    "nc_counties['state'] = 'NC'"
   ]
  },
  {
   "cell_type": "code",
   "execution_count": 7,
   "metadata": {},
   "outputs": [],
   "source": [
    "nc_counties[['mail_returned', 'mail_rejected', 'rejected_pct']] = nc_counties[['mail_returned', 'mail_rejected', 'rejected_pct']].astype(float)"
   ]
  },
  {
   "cell_type": "code",
   "execution_count": 8,
   "metadata": {},
   "outputs": [],
   "source": [
    "nc_counties.sort_values('rejected_pct', ascending=False).to_csv('output/rejected/nc_counties.csv', index=False)"
   ]
  },
  {
   "cell_type": "code",
   "execution_count": 9,
   "metadata": {},
   "outputs": [],
   "source": [
    "df_nc = pd.read_html(url)"
   ]
  },
  {
   "cell_type": "markdown",
   "metadata": {},
   "source": [
    "#### Summary tables for mail ballots, by race and party"
   ]
  },
  {
   "cell_type": "code",
   "execution_count": 10,
   "metadata": {},
   "outputs": [
    {
     "data": {
      "text/html": [
       "<div>\n",
       "<style scoped>\n",
       "    .dataframe tbody tr th:only-of-type {\n",
       "        vertical-align: middle;\n",
       "    }\n",
       "\n",
       "    .dataframe tbody tr th {\n",
       "        vertical-align: top;\n",
       "    }\n",
       "\n",
       "    .dataframe thead th {\n",
       "        text-align: right;\n",
       "    }\n",
       "</style>\n",
       "<table border=\"1\" class=\"dataframe\">\n",
       "  <thead>\n",
       "    <tr style=\"text-align: right;\">\n",
       "      <th></th>\n",
       "      <th>party</th>\n",
       "      <th>rejected</th>\n",
       "      <th>electorate_share</th>\n",
       "      <th>ballots</th>\n",
       "      <th>reject_rate</th>\n",
       "    </tr>\n",
       "  </thead>\n",
       "  <tbody>\n",
       "    <tr>\n",
       "      <th>0</th>\n",
       "      <td>Democrats</td>\n",
       "      <td>4067</td>\n",
       "      <td>51.5</td>\n",
       "      <td>411439</td>\n",
       "      <td>1.0</td>\n",
       "    </tr>\n",
       "    <tr>\n",
       "      <th>1</th>\n",
       "      <td>Republicans</td>\n",
       "      <td>1447</td>\n",
       "      <td>18.3</td>\n",
       "      <td>179782</td>\n",
       "      <td>0.8</td>\n",
       "    </tr>\n",
       "    <tr>\n",
       "      <th>2</th>\n",
       "      <td>Minor</td>\n",
       "      <td>36</td>\n",
       "      <td>0.5</td>\n",
       "      <td>4330</td>\n",
       "      <td>0.8</td>\n",
       "    </tr>\n",
       "    <tr>\n",
       "      <th>3</th>\n",
       "      <td>No Party Affiliation</td>\n",
       "      <td>2348</td>\n",
       "      <td>29.7</td>\n",
       "      <td>296311</td>\n",
       "      <td>0.8</td>\n",
       "    </tr>\n",
       "    <tr>\n",
       "      <th>4</th>\n",
       "      <td>TOTAL</td>\n",
       "      <td>7898</td>\n",
       "      <td>100.0</td>\n",
       "      <td>891862</td>\n",
       "      <td>0.9</td>\n",
       "    </tr>\n",
       "  </tbody>\n",
       "</table>\n",
       "</div>"
      ],
      "text/plain": [
       "                  party  rejected  electorate_share  ballots  reject_rate\n",
       "0             Democrats      4067              51.5   411439          1.0\n",
       "1           Republicans      1447              18.3   179782          0.8\n",
       "2                 Minor        36               0.5     4330          0.8\n",
       "3  No Party Affiliation      2348              29.7   296311          0.8\n",
       "4                 TOTAL      7898             100.0   891862          0.9"
      ]
     },
     "execution_count": 10,
     "metadata": {},
     "output_type": "execute_result"
    }
   ],
   "source": [
    "nc_rejected_party = df_nc[11]\n",
    "nc_rejected_party.rename(columns={ 'Party':'party','Rejected Ballots':'rejected','Freq. Distribution':'electorate_share','All Returned Ballots':'ballots', 'Rejection Rate':'reject_rate' })"
   ]
  },
  {
   "cell_type": "code",
   "execution_count": 11,
   "metadata": {
    "jupyter": {
     "source_hidden": true
    }
   },
   "outputs": [
    {
     "data": {
      "text/html": [
       "<div>\n",
       "<style scoped>\n",
       "    .dataframe tbody tr th:only-of-type {\n",
       "        vertical-align: middle;\n",
       "    }\n",
       "\n",
       "    .dataframe tbody tr th {\n",
       "        vertical-align: top;\n",
       "    }\n",
       "\n",
       "    .dataframe thead th {\n",
       "        text-align: right;\n",
       "    }\n",
       "</style>\n",
       "<table border=\"1\" class=\"dataframe\">\n",
       "  <thead>\n",
       "    <tr style=\"text-align: right;\">\n",
       "      <th></th>\n",
       "      <th>race/ethnicity</th>\n",
       "      <th>rejected</th>\n",
       "      <th>electorate_share</th>\n",
       "      <th>ballots</th>\n",
       "      <th>reject_rate</th>\n",
       "    </tr>\n",
       "  </thead>\n",
       "  <tbody>\n",
       "    <tr>\n",
       "      <th>0</th>\n",
       "      <td>Non-Hispanic White</td>\n",
       "      <td>3468</td>\n",
       "      <td>43.9</td>\n",
       "      <td>611241</td>\n",
       "      <td>0.6</td>\n",
       "    </tr>\n",
       "    <tr>\n",
       "      <th>1</th>\n",
       "      <td>Non-Hispanic Black</td>\n",
       "      <td>2572</td>\n",
       "      <td>32.6</td>\n",
       "      <td>136449</td>\n",
       "      <td>1.9</td>\n",
       "    </tr>\n",
       "    <tr>\n",
       "      <th>2</th>\n",
       "      <td>Hispanic</td>\n",
       "      <td>422</td>\n",
       "      <td>5.3</td>\n",
       "      <td>20670</td>\n",
       "      <td>2.0</td>\n",
       "    </tr>\n",
       "    <tr>\n",
       "      <th>3</th>\n",
       "      <td>Non-Hispanic Asian American</td>\n",
       "      <td>360</td>\n",
       "      <td>4.6</td>\n",
       "      <td>23103</td>\n",
       "      <td>1.6</td>\n",
       "    </tr>\n",
       "    <tr>\n",
       "      <th>4</th>\n",
       "      <td>Non-Hispanic Native American</td>\n",
       "      <td>100</td>\n",
       "      <td>1.3</td>\n",
       "      <td>3353</td>\n",
       "      <td>3.0</td>\n",
       "    </tr>\n",
       "    <tr>\n",
       "      <th>5</th>\n",
       "      <td>Other/Multiple/Unknown</td>\n",
       "      <td>976</td>\n",
       "      <td>12.4</td>\n",
       "      <td>97031</td>\n",
       "      <td>1.0</td>\n",
       "    </tr>\n",
       "    <tr>\n",
       "      <th>6</th>\n",
       "      <td>TOTAL</td>\n",
       "      <td>7898</td>\n",
       "      <td>100.0</td>\n",
       "      <td>891862</td>\n",
       "      <td>0.9</td>\n",
       "    </tr>\n",
       "  </tbody>\n",
       "</table>\n",
       "</div>"
      ],
      "text/plain": [
       "                 race/ethnicity  rejected  electorate_share  ballots  \\\n",
       "0            Non-Hispanic White      3468              43.9   611241   \n",
       "1            Non-Hispanic Black      2572              32.6   136449   \n",
       "2                      Hispanic       422               5.3    20670   \n",
       "3   Non-Hispanic Asian American       360               4.6    23103   \n",
       "4  Non-Hispanic Native American       100               1.3     3353   \n",
       "5        Other/Multiple/Unknown       976              12.4    97031   \n",
       "6                         TOTAL      7898             100.0   891862   \n",
       "\n",
       "   reject_rate  \n",
       "0          0.6  \n",
       "1          1.9  \n",
       "2          2.0  \n",
       "3          1.6  \n",
       "4          3.0  \n",
       "5          1.0  \n",
       "6          0.9  "
      ]
     },
     "execution_count": 11,
     "metadata": {},
     "output_type": "execute_result"
    }
   ],
   "source": [
    "nc_rejected_race = df_nc[12]\n",
    "nc_rejected_race.rename(columns={ 'Race/Ethnicity':'race/ethnicity','Rejected Ballots':'rejected','Freq. Distribution':'electorate_share','All Returned Ballots':'ballots', 'Rejection Rate':'reject_rate' })"
   ]
  },
  {
   "cell_type": "markdown",
   "metadata": {},
   "source": [
    "---"
   ]
  },
  {
   "cell_type": "markdown",
   "metadata": {},
   "source": [
    "## Pennsylvania"
   ]
  },
  {
   "cell_type": "markdown",
   "metadata": {},
   "source": [
    "#### Read data"
   ]
  },
  {
   "cell_type": "code",
   "execution_count": 12,
   "metadata": {},
   "outputs": [],
   "source": [
    "df_pa = pd.read_html('https://electproject.github.io/Early-Vote-2020G/PA.html')"
   ]
  },
  {
   "cell_type": "markdown",
   "metadata": {},
   "source": [
    "#### Summary table for mail ballots"
   ]
  },
  {
   "cell_type": "code",
   "execution_count": 13,
   "metadata": {},
   "outputs": [
    {
     "data": {
      "text/html": [
       "<div>\n",
       "<style scoped>\n",
       "    .dataframe tbody tr th:only-of-type {\n",
       "        vertical-align: middle;\n",
       "    }\n",
       "\n",
       "    .dataframe tbody tr th {\n",
       "        vertical-align: top;\n",
       "    }\n",
       "\n",
       "    .dataframe thead th {\n",
       "        text-align: right;\n",
       "    }\n",
       "</style>\n",
       "<table border=\"1\" class=\"dataframe\">\n",
       "  <thead>\n",
       "    <tr style=\"text-align: right;\">\n",
       "      <th></th>\n",
       "      <th>Party</th>\n",
       "      <th>Returned Ballots</th>\n",
       "      <th>Freq. Distribution</th>\n",
       "      <th>Requested Ballots</th>\n",
       "      <th>Return Rate</th>\n",
       "    </tr>\n",
       "  </thead>\n",
       "  <tbody>\n",
       "    <tr>\n",
       "      <th>0</th>\n",
       "      <td>Democrats</td>\n",
       "      <td>1429082</td>\n",
       "      <td>67.6</td>\n",
       "      <td>1947782</td>\n",
       "      <td>73.4</td>\n",
       "    </tr>\n",
       "    <tr>\n",
       "      <th>1</th>\n",
       "      <td>Republicans</td>\n",
       "      <td>466954</td>\n",
       "      <td>22.1</td>\n",
       "      <td>787009</td>\n",
       "      <td>59.3</td>\n",
       "    </tr>\n",
       "    <tr>\n",
       "      <th>2</th>\n",
       "      <td>Minor</td>\n",
       "      <td>14273</td>\n",
       "      <td>0.7</td>\n",
       "      <td>25550</td>\n",
       "      <td>55.9</td>\n",
       "    </tr>\n",
       "    <tr>\n",
       "      <th>3</th>\n",
       "      <td>No Party Affiliation</td>\n",
       "      <td>202686</td>\n",
       "      <td>9.6</td>\n",
       "      <td>337549</td>\n",
       "      <td>60.0</td>\n",
       "    </tr>\n",
       "    <tr>\n",
       "      <th>4</th>\n",
       "      <td>TOTAL</td>\n",
       "      <td>2112995</td>\n",
       "      <td>100.0</td>\n",
       "      <td>3097890</td>\n",
       "      <td>68.2</td>\n",
       "    </tr>\n",
       "  </tbody>\n",
       "</table>\n",
       "</div>"
      ],
      "text/plain": [
       "                  Party  Returned Ballots  Freq. Distribution  \\\n",
       "0             Democrats           1429082                67.6   \n",
       "1           Republicans            466954                22.1   \n",
       "2                 Minor             14273                 0.7   \n",
       "3  No Party Affiliation            202686                 9.6   \n",
       "4                 TOTAL           2112995               100.0   \n",
       "\n",
       "   Requested Ballots  Return Rate  \n",
       "0            1947782         73.4  \n",
       "1             787009         59.3  \n",
       "2              25550         55.9  \n",
       "3             337549         60.0  \n",
       "4            3097890         68.2  "
      ]
     },
     "execution_count": 13,
     "metadata": {},
     "output_type": "execute_result"
    }
   ],
   "source": [
    "df_pa[0]"
   ]
  },
  {
   "cell_type": "markdown",
   "metadata": {},
   "source": [
    "#### Get detailed data for counties"
   ]
  },
  {
   "cell_type": "code",
   "execution_count": 14,
   "metadata": {},
   "outputs": [],
   "source": [
    "url = 'https://electproject.github.io/Early-Vote-2020G/PA.html'\n",
    "from selenium import webdriver\n",
    "options = webdriver.ChromeOptions()\n",
    "options.add_argument('headless')\n",
    "driver = webdriver.Chrome('/Users/mhustiles/Desktop/chromedriver', options=options)\n",
    "driver.get(\"https://electproject.github.io/Early-Vote-2020G/PA.html\")\n",
    "html_table = driver.page_source\n",
    "soup = BeautifulSoup(html_table)\n",
    "json_data = soup.find_all(\"script\", type='application/json')[3].string"
   ]
  },
  {
   "cell_type": "code",
   "execution_count": 15,
   "metadata": {},
   "outputs": [],
   "source": [
    "pa_counties = pd.DataFrame(json.loads(json_data)['x']['data']).transpose()"
   ]
  },
  {
   "cell_type": "code",
   "execution_count": 16,
   "metadata": {},
   "outputs": [],
   "source": [
    "pa_counties = pa_counties.rename(columns={0:'county', 1:'mail_returned', 2:'mail_rejected', 3:'rejected_pct'}).fillna('0')"
   ]
  },
  {
   "cell_type": "code",
   "execution_count": 17,
   "metadata": {},
   "outputs": [],
   "source": [
    "pa_counties['rejected_pct'] = pa_counties['rejected_pct']*100"
   ]
  },
  {
   "cell_type": "code",
   "execution_count": 18,
   "metadata": {},
   "outputs": [],
   "source": [
    "pa_counties['state'] = 'PA'"
   ]
  },
  {
   "cell_type": "code",
   "execution_count": 19,
   "metadata": {},
   "outputs": [],
   "source": [
    "pa_counties[['mail_returned', 'mail_rejected', 'rejected_pct']] = pa_counties[['mail_returned', 'mail_rejected', 'rejected_pct']].astype(float)"
   ]
  },
  {
   "cell_type": "code",
   "execution_count": 20,
   "metadata": {},
   "outputs": [],
   "source": [
    "pa_counties.sort_values('rejected_pct', ascending=False).to_csv('output/rejected/pa_counties.csv', index=False)"
   ]
  },
  {
   "cell_type": "markdown",
   "metadata": {},
   "source": [
    "---"
   ]
  },
  {
   "cell_type": "markdown",
   "metadata": {},
   "source": [
    "### Iowa"
   ]
  },
  {
   "cell_type": "code",
   "execution_count": 21,
   "metadata": {},
   "outputs": [],
   "source": [
    "url = 'https://electproject.github.io/Early-Vote-2020G/IA.html'\n",
    "from selenium import webdriver\n",
    "options = webdriver.ChromeOptions()\n",
    "options.add_argument('headless')\n",
    "driver = webdriver.Chrome('/Users/mhustiles/Desktop/chromedriver', options=options)\n",
    "driver.get(\"https://electproject.github.io/Early-Vote-2020G/IA.html\")\n",
    "html_table = driver.page_source\n",
    "soup = BeautifulSoup(html_table)\n",
    "json_data = soup.find_all(\"script\", type='application/json')[3].string"
   ]
  },
  {
   "cell_type": "code",
   "execution_count": 22,
   "metadata": {},
   "outputs": [],
   "source": [
    "ia_counties = pd.DataFrame(json.loads(json_data)['x']['data']).transpose()"
   ]
  },
  {
   "cell_type": "code",
   "execution_count": 23,
   "metadata": {},
   "outputs": [],
   "source": [
    "ia_counties = ia_counties.rename(columns={0:'county', 1:'mail_returned', 2:'mail_rejected', 3:'rejected_pct'}).fillna('0')"
   ]
  },
  {
   "cell_type": "code",
   "execution_count": 24,
   "metadata": {},
   "outputs": [],
   "source": [
    "ia_counties['rejected_pct'] = ia_counties['rejected_pct']*100"
   ]
  },
  {
   "cell_type": "code",
   "execution_count": 25,
   "metadata": {},
   "outputs": [],
   "source": [
    "ia_counties['state'] = 'IA'"
   ]
  },
  {
   "cell_type": "code",
   "execution_count": 26,
   "metadata": {},
   "outputs": [],
   "source": [
    "ia_counties[['mail_returned', 'mail_rejected', 'rejected_pct']] = ia_counties[['mail_returned', 'mail_rejected', 'rejected_pct']].astype(float)"
   ]
  },
  {
   "cell_type": "code",
   "execution_count": 27,
   "metadata": {},
   "outputs": [],
   "source": [
    "ia_counties.sort_values('rejected_pct', ascending=False).to_csv('output/rejected/ia_counties.csv', index=False)"
   ]
  },
  {
   "cell_type": "markdown",
   "metadata": {},
   "source": [
    "---"
   ]
  },
  {
   "cell_type": "markdown",
   "metadata": {},
   "source": [
    "### Michigan"
   ]
  },
  {
   "cell_type": "code",
   "execution_count": 28,
   "metadata": {},
   "outputs": [],
   "source": [
    "url = 'https://electproject.github.io/Early-Vote-2020G/MI.html'\n",
    "from selenium import webdriver\n",
    "options = webdriver.ChromeOptions()\n",
    "options.add_argument('headless')\n",
    "driver = webdriver.Chrome('/Users/mhustiles/Desktop/chromedriver', options=options)\n",
    "driver.get(\"https://electproject.github.io/Early-Vote-2020G/MI.html\")\n",
    "html_table = driver.page_source\n",
    "soup = BeautifulSoup(html_table)\n",
    "json_data = soup.find_all(\"script\", type='application/json')[3].string"
   ]
  },
  {
   "cell_type": "code",
   "execution_count": 29,
   "metadata": {},
   "outputs": [],
   "source": [
    "mi_counties = pd.DataFrame(json.loads(json_data)['x']['data']).transpose()"
   ]
  },
  {
   "cell_type": "code",
   "execution_count": 30,
   "metadata": {},
   "outputs": [],
   "source": [
    "mi_counties = mi_counties.rename(columns={0:'county', 1:'mail_returned', 2:'mail_rejected', 3:'rejected_pct'}).fillna('0')"
   ]
  },
  {
   "cell_type": "code",
   "execution_count": 31,
   "metadata": {},
   "outputs": [],
   "source": [
    "mi_counties['rejected_pct'] = mi_counties['rejected_pct']*100"
   ]
  },
  {
   "cell_type": "code",
   "execution_count": 32,
   "metadata": {},
   "outputs": [],
   "source": [
    "mi_counties['state'] = 'MI'"
   ]
  },
  {
   "cell_type": "code",
   "execution_count": 33,
   "metadata": {},
   "outputs": [],
   "source": [
    "mi_counties[['mail_returned', 'mail_rejected', 'rejected_pct']] = mi_counties[['mail_returned', 'mail_rejected', 'rejected_pct']].astype(float)"
   ]
  },
  {
   "cell_type": "code",
   "execution_count": 34,
   "metadata": {},
   "outputs": [],
   "source": [
    "mi_counties.sort_values('rejected_pct', ascending=False).to_csv('output/rejected/mi_counties.csv', index=False)"
   ]
  },
  {
   "cell_type": "markdown",
   "metadata": {},
   "source": [
    "---"
   ]
  },
  {
   "cell_type": "markdown",
   "metadata": {},
   "source": [
    "### Georgia"
   ]
  },
  {
   "cell_type": "code",
   "execution_count": 35,
   "metadata": {},
   "outputs": [],
   "source": [
    "url = 'https://electproject.github.io/Early-Vote-2020G/GA.html'\n",
    "from selenium import webdriver\n",
    "options = webdriver.ChromeOptions()\n",
    "options.add_argument('headless')\n",
    "driver = webdriver.Chrome('/Users/mhustiles/Desktop/chromedriver', options=options)\n",
    "driver.get(\"https://electproject.github.io/Early-Vote-2020G/GA.html\")\n",
    "html_table = driver.page_source\n",
    "soup = BeautifulSoup(html_table)\n",
    "json_data = soup.find_all(\"script\", type='application/json')[5].string"
   ]
  },
  {
   "cell_type": "code",
   "execution_count": 36,
   "metadata": {},
   "outputs": [],
   "source": [
    "ga_counties = pd.DataFrame(json.loads(json_data)['x']['data']).transpose()"
   ]
  },
  {
   "cell_type": "code",
   "execution_count": 37,
   "metadata": {},
   "outputs": [],
   "source": [
    "ga_counties = ga_counties.rename(columns={0:'county', 1:'mail_returned', 2:'mail_rejected', 3:'rejected_pct'}).fillna('0')"
   ]
  },
  {
   "cell_type": "code",
   "execution_count": 38,
   "metadata": {},
   "outputs": [],
   "source": [
    "ga_counties['rejected_pct'] = ga_counties['rejected_pct']*100"
   ]
  },
  {
   "cell_type": "code",
   "execution_count": 39,
   "metadata": {},
   "outputs": [],
   "source": [
    "ga_counties['state'] = 'GA'"
   ]
  },
  {
   "cell_type": "code",
   "execution_count": 40,
   "metadata": {},
   "outputs": [],
   "source": [
    "ga_counties[['mail_returned', 'mail_rejected', 'rejected_pct']] = ga_counties[['mail_returned', 'mail_rejected', 'rejected_pct']].astype(float)"
   ]
  },
  {
   "cell_type": "code",
   "execution_count": 41,
   "metadata": {},
   "outputs": [],
   "source": [
    "ga_counties.sort_values('rejected_pct', ascending=False).to_csv('output/rejected/ga_counties.csv', index=False)"
   ]
  },
  {
   "cell_type": "markdown",
   "metadata": {},
   "source": [
    "---"
   ]
  },
  {
   "cell_type": "markdown",
   "metadata": {},
   "source": [
    "## Aggregate"
   ]
  },
  {
   "cell_type": "code",
   "execution_count": 42,
   "metadata": {},
   "outputs": [],
   "source": [
    "counties = pd.concat([ga_counties, mi_counties, ia_counties, pa_counties, nc_counties])"
   ]
  },
  {
   "cell_type": "code",
   "execution_count": 43,
   "metadata": {},
   "outputs": [],
   "source": [
    "counties.sort_values('rejected_pct', ascending=False).to_csv('output/rejected/all_counties.csv', index=False)"
   ]
  },
  {
   "cell_type": "code",
   "execution_count": null,
   "metadata": {},
   "outputs": [],
   "source": []
  },
  {
   "cell_type": "code",
   "execution_count": null,
   "metadata": {},
   "outputs": [],
   "source": []
  }
 ],
 "metadata": {
  "kernelspec": {
   "display_name": "Python 3",
   "language": "python",
   "name": "python3"
  },
  "language_info": {
   "codemirror_mode": {
    "name": "ipython",
    "version": 3
   },
   "file_extension": ".py",
   "mimetype": "text/x-python",
   "name": "python",
   "nbconvert_exporter": "python",
   "pygments_lexer": "ipython3",
   "version": "3.7.4"
  }
 },
 "nbformat": 4,
 "nbformat_minor": 4
}
