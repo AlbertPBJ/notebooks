{
 "cells": [
  {
   "cell_type": "markdown",
   "metadata": {},
   "source": [
    "# Outstanding ballots in CA"
   ]
  },
  {
   "cell_type": "code",
   "execution_count": 1,
   "metadata": {},
   "outputs": [],
   "source": [
    "import pandas as pd\n",
    "import geopandas as gpd\n",
    "from altair_saver import save\n",
    "import altair as alt\n",
    "import altair_latimes as lat\n",
    "alt.themes.register(\"latimes\", lat.theme)\n",
    "alt.themes.enable(\"latimes\")\n",
    "pd.options.display.max_columns = 50\n",
    "pd.options.display.max_rows = 34000\n",
    "pd.set_option('display.max_colwidth', None)"
   ]
  },
  {
   "cell_type": "markdown",
   "metadata": {},
   "source": [
    "### What day is it? "
   ]
  },
  {
   "cell_type": "code",
   "execution_count": 30,
   "metadata": {},
   "outputs": [],
   "source": [
    "now = pd.Timestamp('today')"
   ]
  },
  {
   "cell_type": "markdown",
   "metadata": {},
   "source": [
    "### Define our metro area"
   ]
  },
  {
   "cell_type": "code",
   "execution_count": 2,
   "metadata": {},
   "outputs": [],
   "source": [
    "socal = [ 'Riverside','Los Angeles','Ventura','San Bernardino','Orange' ]"
   ]
  },
  {
   "cell_type": "markdown",
   "metadata": {},
   "source": [
    "---"
   ]
  },
  {
   "cell_type": "markdown",
   "metadata": {},
   "source": [
    "### Get latest results from Secretary of State"
   ]
  },
  {
   "cell_type": "code",
   "execution_count": 3,
   "metadata": {},
   "outputs": [],
   "source": [
    "url = 'https://electionresults.sos.ca.gov/returns/status'"
   ]
  },
  {
   "cell_type": "code",
   "execution_count": 4,
   "metadata": {},
   "outputs": [],
   "source": [
    "tables = pd.read_html(url, parse_dates=True)"
   ]
  },
  {
   "cell_type": "markdown",
   "metadata": {},
   "source": [
    "### Clean up results"
   ]
  },
  {
   "cell_type": "code",
   "execution_count": 5,
   "metadata": {},
   "outputs": [],
   "source": [
    "results_src = tables[0].drop([58,59], axis=0)"
   ]
  },
  {
   "cell_type": "code",
   "execution_count": 6,
   "metadata": {},
   "outputs": [],
   "source": [
    "results = results_src.rename(columns={'County Name':'county', 'TotalPrecincts':'total_pcts','PrecinctsPartiallyReporting *':'precincts_partially','% PartiallyReporting **':'reporting_pct',\\\n",
    "                            'RegisteredVoters':'voters', 'Ballots Cast':'ballots_cast','% Turnout ***':'turnout_pct','FirstReportDate-Time':'first_report','Last Report Date-Time':'last_report','ReportType****':'report_type'})"
   ]
  },
  {
   "cell_type": "code",
   "execution_count": 7,
   "metadata": {},
   "outputs": [],
   "source": [
    "results.reporting_pct = results.reporting_pct.str.replace('%', '', regex=False)"
   ]
  },
  {
   "cell_type": "code",
   "execution_count": 8,
   "metadata": {},
   "outputs": [],
   "source": [
    "results.turnout_pct = results.turnout_pct.str.replace('%', '', regex=False)"
   ]
  },
  {
   "cell_type": "code",
   "execution_count": 9,
   "metadata": {},
   "outputs": [],
   "source": [
    "results[['total_pcts', 'precincts_partially', 'voters', 'ballots_cast', 'turnout_pct']] = \\\n",
    "results[['total_pcts', 'precincts_partially', 'voters', 'ballots_cast', 'turnout_pct']].astype(int)"
   ]
  },
  {
   "cell_type": "markdown",
   "metadata": {},
   "source": [
    "### Results in our counties"
   ]
  },
  {
   "cell_type": "code",
   "execution_count": 10,
   "metadata": {},
   "outputs": [],
   "source": [
    "socal_results = results[results['county'].isin(socal)]"
   ]
  },
  {
   "cell_type": "code",
   "execution_count": 11,
   "metadata": {},
   "outputs": [
    {
     "data": {
      "text/html": [
       "<div>\n",
       "<style scoped>\n",
       "    .dataframe tbody tr th:only-of-type {\n",
       "        vertical-align: middle;\n",
       "    }\n",
       "\n",
       "    .dataframe tbody tr th {\n",
       "        vertical-align: top;\n",
       "    }\n",
       "\n",
       "    .dataframe thead th {\n",
       "        text-align: right;\n",
       "    }\n",
       "</style>\n",
       "<table border=\"1\" class=\"dataframe\">\n",
       "  <thead>\n",
       "    <tr style=\"text-align: right;\">\n",
       "      <th></th>\n",
       "      <th>county</th>\n",
       "      <th>total_pcts</th>\n",
       "      <th>precincts_partially</th>\n",
       "      <th>reporting_pct</th>\n",
       "      <th>voters</th>\n",
       "      <th>ballots_cast</th>\n",
       "      <th>turnout_pct</th>\n",
       "      <th>first_report</th>\n",
       "      <th>last_report</th>\n",
       "      <th>report_type</th>\n",
       "    </tr>\n",
       "  </thead>\n",
       "  <tbody>\n",
       "    <tr>\n",
       "      <th>18</th>\n",
       "      <td>Los Angeles</td>\n",
       "      <td>3383</td>\n",
       "      <td>3383</td>\n",
       "      <td>100.0</td>\n",
       "      <td>5813333</td>\n",
       "      <td>4153568</td>\n",
       "      <td>71</td>\n",
       "      <td>Nov 38:21 p.m.</td>\n",
       "      <td>Nov 94:18 p.m.</td>\n",
       "      <td>U</td>\n",
       "    </tr>\n",
       "    <tr>\n",
       "      <th>29</th>\n",
       "      <td>Orange</td>\n",
       "      <td>1795</td>\n",
       "      <td>1795</td>\n",
       "      <td>100.0</td>\n",
       "      <td>1772700</td>\n",
       "      <td>1507977</td>\n",
       "      <td>85</td>\n",
       "      <td>Nov 38:33 p.m.</td>\n",
       "      <td>Nov 95:30 p.m.</td>\n",
       "      <td>U</td>\n",
       "    </tr>\n",
       "    <tr>\n",
       "      <th>32</th>\n",
       "      <td>Riverside</td>\n",
       "      <td>864</td>\n",
       "      <td>864</td>\n",
       "      <td>100.0</td>\n",
       "      <td>1241552</td>\n",
       "      <td>622695</td>\n",
       "      <td>50</td>\n",
       "      <td>Nov 38:47 p.m.</td>\n",
       "      <td>Nov 95:44 p.m.</td>\n",
       "      <td>U</td>\n",
       "    </tr>\n",
       "    <tr>\n",
       "      <th>35</th>\n",
       "      <td>San Bernardino</td>\n",
       "      <td>2327</td>\n",
       "      <td>2327</td>\n",
       "      <td>100.0</td>\n",
       "      <td>1102687</td>\n",
       "      <td>628806</td>\n",
       "      <td>57</td>\n",
       "      <td>Nov 310:07 p.m.</td>\n",
       "      <td>Nov 94:04 p.m.</td>\n",
       "      <td>U</td>\n",
       "    </tr>\n",
       "    <tr>\n",
       "      <th>55</th>\n",
       "      <td>Ventura</td>\n",
       "      <td>695</td>\n",
       "      <td>695</td>\n",
       "      <td>100.0</td>\n",
       "      <td>500442</td>\n",
       "      <td>364308</td>\n",
       "      <td>72</td>\n",
       "      <td>Nov 38:31 p.m.</td>\n",
       "      <td>Nov 54:16 p.m.</td>\n",
       "      <td>U</td>\n",
       "    </tr>\n",
       "  </tbody>\n",
       "</table>\n",
       "</div>"
      ],
      "text/plain": [
       "            county  total_pcts  precincts_partially reporting_pct   voters  \\\n",
       "18     Los Angeles        3383                 3383         100.0  5813333   \n",
       "29          Orange        1795                 1795         100.0  1772700   \n",
       "32       Riverside         864                  864         100.0  1241552   \n",
       "35  San Bernardino        2327                 2327         100.0  1102687   \n",
       "55         Ventura         695                  695         100.0   500442   \n",
       "\n",
       "    ballots_cast  turnout_pct     first_report     last_report report_type  \n",
       "18       4153568           71   Nov 38:21 p.m.  Nov 94:18 p.m.           U  \n",
       "29       1507977           85   Nov 38:33 p.m.  Nov 95:30 p.m.           U  \n",
       "32        622695           50   Nov 38:47 p.m.  Nov 95:44 p.m.           U  \n",
       "35        628806           57  Nov 310:07 p.m.  Nov 94:04 p.m.           U  \n",
       "55        364308           72   Nov 38:31 p.m.  Nov 54:16 p.m.           U  "
      ]
     },
     "execution_count": 11,
     "metadata": {},
     "output_type": "execute_result"
    }
   ],
   "source": [
    "socal_results.head()"
   ]
  },
  {
   "cell_type": "markdown",
   "metadata": {},
   "source": [
    "### Turnout (so far) in SoCal"
   ]
  },
  {
   "cell_type": "code",
   "execution_count": 12,
   "metadata": {},
   "outputs": [
    {
     "data": {
      "text/plain": [
       "69.77"
      ]
     },
     "execution_count": 12,
     "metadata": {},
     "output_type": "execute_result"
    }
   ],
   "source": [
    "round(socal_results.ballots_cast.sum() / socal_results.voters.sum()*100,2)"
   ]
  },
  {
   "cell_type": "markdown",
   "metadata": {},
   "source": [
    "---"
   ]
  },
  {
   "cell_type": "markdown",
   "metadata": {},
   "source": [
    "### Download latest outstanding ballots report from Secretary of State"
   ]
  },
  {
   "cell_type": "code",
   "execution_count": 13,
   "metadata": {},
   "outputs": [
    {
     "name": "stdout",
     "output_type": "stream",
     "text": [
      "--2020-11-10 09:13:25--  https://elections.cdn.sos.ca.gov/statewide-elections/2020-general/unprocessed-ballots-report.pdf\n",
      "Resolving elections.cdn.sos.ca.gov (elections.cdn.sos.ca.gov)... 204.147.113.115\n",
      "Connecting to elections.cdn.sos.ca.gov (elections.cdn.sos.ca.gov)|204.147.113.115|:443... connected.\n",
      "HTTP request sent, awaiting response... 200 OK\n",
      "Length: 117783 (115K) [application/pdf]\n",
      "Saving to: ‘input/unprocessed-ballots-report.pdf’\n",
      "\n",
      "input/unprocessed-b 100%[===================>] 115.02K  --.-KB/s    in 0.1s    \n",
      "\n",
      "2020-11-10 09:13:26 (1.04 MB/s) - ‘input/unprocessed-ballots-report.pdf’ saved [117783/117783]\n",
      "\n"
     ]
    }
   ],
   "source": [
    "!wget 'https://elections.cdn.sos.ca.gov/statewide-elections/2020-general/unprocessed-ballots-report.pdf' -F -O input/unprocessed-ballots-report.pdf"
   ]
  },
  {
   "cell_type": "markdown",
   "metadata": {},
   "source": [
    "### Export text from PDF and read into dataframe"
   ]
  },
  {
   "cell_type": "code",
   "execution_count": 14,
   "metadata": {},
   "outputs": [],
   "source": [
    "!PDFtoText -layout 'input/unprocessed-ballots-report.pdf'"
   ]
  },
  {
   "cell_type": "code",
   "execution_count": 15,
   "metadata": {},
   "outputs": [],
   "source": [
    "src = pd.read_fwf('input/unprocessed-ballots-report.txt', skiprows=6, skipfooter=7, infer_nrows=60, header=None).dropna(axis=1)"
   ]
  },
  {
   "cell_type": "markdown",
   "metadata": {},
   "source": [
    "### When was this updated? "
   ]
  },
  {
   "cell_type": "code",
   "execution_count": 31,
   "metadata": {},
   "outputs": [],
   "source": [
    "updated_date = pd.read_fwf('input/unprocessed-ballots-report.txt', skiprows=69, skipfooter=1, header=None, infer_nrows=3)"
   ]
  },
  {
   "cell_type": "code",
   "execution_count": 32,
   "metadata": {},
   "outputs": [],
   "source": [
    "updated = updated_date.drop([0,1,4], axis=1).rename(columns={2:'date', 3:'time'})"
   ]
  },
  {
   "cell_type": "code",
   "execution_count": 33,
   "metadata": {},
   "outputs": [
    {
     "data": {
      "text/html": [
       "<div>\n",
       "<style scoped>\n",
       "    .dataframe tbody tr th:only-of-type {\n",
       "        vertical-align: middle;\n",
       "    }\n",
       "\n",
       "    .dataframe tbody tr th {\n",
       "        vertical-align: top;\n",
       "    }\n",
       "\n",
       "    .dataframe thead th {\n",
       "        text-align: right;\n",
       "    }\n",
       "</style>\n",
       "<table border=\"1\" class=\"dataframe\">\n",
       "  <thead>\n",
       "    <tr style=\"text-align: right;\">\n",
       "      <th></th>\n",
       "      <th>date</th>\n",
       "      <th>time</th>\n",
       "    </tr>\n",
       "  </thead>\n",
       "  <tbody>\n",
       "    <tr>\n",
       "      <th>0</th>\n",
       "      <td>11/09/20</td>\n",
       "      <td>5:00</td>\n",
       "    </tr>\n",
       "  </tbody>\n",
       "</table>\n",
       "</div>"
      ],
      "text/plain": [
       "       date  time\n",
       "0  11/09/20  5:00"
      ]
     },
     "execution_count": 33,
     "metadata": {},
     "output_type": "execute_result"
    }
   ],
   "source": [
    "updated"
   ]
  },
  {
   "cell_type": "markdown",
   "metadata": {},
   "source": [
    "---"
   ]
  },
  {
   "cell_type": "markdown",
   "metadata": {},
   "source": [
    "### Clean up headers, parse columns"
   ]
  },
  {
   "cell_type": "code",
   "execution_count": 19,
   "metadata": {},
   "outputs": [],
   "source": [
    "outstanding = src.rename(columns={0:'county', 1:'mail_out',4:'provisional_out',7:'cond_prov_out',8:'other_out',11:'total_out', 13:'updated'})"
   ]
  },
  {
   "cell_type": "code",
   "execution_count": 20,
   "metadata": {},
   "outputs": [],
   "source": [
    "outstanding.county = outstanding.county.str.replace('**', '', regex=False)"
   ]
  },
  {
   "cell_type": "code",
   "execution_count": 21,
   "metadata": {},
   "outputs": [],
   "source": [
    "str_cols = ['mail_out','provisional_out','cond_prov_out','other_out','total_out']\n",
    "outstanding[str_cols] = outstanding[str_cols].replace(',', '', regex=True)"
   ]
  },
  {
   "cell_type": "code",
   "execution_count": 22,
   "metadata": {},
   "outputs": [],
   "source": [
    "outstanding[str_cols] = outstanding[str_cols].astype(int)"
   ]
  },
  {
   "cell_type": "code",
   "execution_count": 23,
   "metadata": {},
   "outputs": [],
   "source": [
    "outstanding.updated = pd.to_datetime(outstanding.updated)"
   ]
  },
  {
   "cell_type": "markdown",
   "metadata": {},
   "source": [
    "### Outstanding in SoCal"
   ]
  },
  {
   "cell_type": "code",
   "execution_count": 29,
   "metadata": {},
   "outputs": [
    {
     "data": {
      "text/html": [
       "<div>\n",
       "<style scoped>\n",
       "    .dataframe tbody tr th:only-of-type {\n",
       "        vertical-align: middle;\n",
       "    }\n",
       "\n",
       "    .dataframe tbody tr th {\n",
       "        vertical-align: top;\n",
       "    }\n",
       "\n",
       "    .dataframe thead th {\n",
       "        text-align: right;\n",
       "    }\n",
       "</style>\n",
       "<table border=\"1\" class=\"dataframe\">\n",
       "  <thead>\n",
       "    <tr style=\"text-align: right;\">\n",
       "      <th></th>\n",
       "      <th>county</th>\n",
       "      <th>mail_out</th>\n",
       "      <th>provisional_out</th>\n",
       "      <th>cond_prov_out</th>\n",
       "      <th>other_out</th>\n",
       "      <th>total_out</th>\n",
       "      <th>updated</th>\n",
       "    </tr>\n",
       "  </thead>\n",
       "  <tbody>\n",
       "    <tr>\n",
       "      <th>18</th>\n",
       "      <td>Los Angeles</td>\n",
       "      <td>512600</td>\n",
       "      <td>2000</td>\n",
       "      <td>87000</td>\n",
       "      <td>9200</td>\n",
       "      <td>610800</td>\n",
       "      <td>2020-11-06 16:28:00</td>\n",
       "    </tr>\n",
       "    <tr>\n",
       "      <th>29</th>\n",
       "      <td>Orange</td>\n",
       "      <td>7564</td>\n",
       "      <td>0</td>\n",
       "      <td>23686</td>\n",
       "      <td>1826</td>\n",
       "      <td>33076</td>\n",
       "      <td>2020-11-07 17:02:00</td>\n",
       "    </tr>\n",
       "    <tr>\n",
       "      <th>32</th>\n",
       "      <td>Riverside</td>\n",
       "      <td>272000</td>\n",
       "      <td>0</td>\n",
       "      <td>25000</td>\n",
       "      <td>0</td>\n",
       "      <td>297000</td>\n",
       "      <td>2020-11-07 17:08:00</td>\n",
       "    </tr>\n",
       "    <tr>\n",
       "      <th>35</th>\n",
       "      <td>San Bernardino</td>\n",
       "      <td>210000</td>\n",
       "      <td>19000</td>\n",
       "      <td>0</td>\n",
       "      <td>600</td>\n",
       "      <td>229600</td>\n",
       "      <td>2020-11-09 16:04:00</td>\n",
       "    </tr>\n",
       "    <tr>\n",
       "      <th>55</th>\n",
       "      <td>Ventura</td>\n",
       "      <td>25631</td>\n",
       "      <td>467</td>\n",
       "      <td>2520</td>\n",
       "      <td>4292</td>\n",
       "      <td>32910</td>\n",
       "      <td>2020-11-05 14:46:00</td>\n",
       "    </tr>\n",
       "  </tbody>\n",
       "</table>\n",
       "</div>"
      ],
      "text/plain": [
       "            county  mail_out  provisional_out  cond_prov_out  other_out  \\\n",
       "18     Los Angeles    512600             2000          87000       9200   \n",
       "29          Orange      7564                0          23686       1826   \n",
       "32       Riverside    272000                0          25000          0   \n",
       "35  San Bernardino    210000            19000              0        600   \n",
       "55         Ventura     25631              467           2520       4292   \n",
       "\n",
       "    total_out             updated  \n",
       "18     610800 2020-11-06 16:28:00  \n",
       "29      33076 2020-11-07 17:02:00  \n",
       "32     297000 2020-11-07 17:08:00  \n",
       "35     229600 2020-11-09 16:04:00  \n",
       "55      32910 2020-11-05 14:46:00  "
      ]
     },
     "execution_count": 29,
     "metadata": {},
     "output_type": "execute_result"
    }
   ],
   "source": [
    "outstanding[outstanding['county'].isin(socal)]"
   ]
  },
  {
   "cell_type": "markdown",
   "metadata": {},
   "source": [
    "### Export to csv"
   ]
  },
  {
   "cell_type": "code",
   "execution_count": 26,
   "metadata": {},
   "outputs": [],
   "source": [
    "outstanding.to_csv('output/outstanding/' + f'counties_outstanding_ballots_{now:%m%d%Y_%H:%M}.csv', index=False)\n",
    "results.to_csv('output/results/' + f'results_{now:%m%d%Y_%H:%M}.csv', index=False)"
   ]
  },
  {
   "cell_type": "markdown",
   "metadata": {},
   "source": [
    "---"
   ]
  },
  {
   "cell_type": "markdown",
   "metadata": {},
   "source": [
    "### Aggregate"
   ]
  },
  {
   "cell_type": "code",
   "execution_count": 27,
   "metadata": {},
   "outputs": [],
   "source": [
    "totals = outstanding.agg({'mail_out':sum, 'total_out':sum}).reset_index(name='count').rename(columns={'index':'type'})"
   ]
  },
  {
   "cell_type": "code",
   "execution_count": 28,
   "metadata": {},
   "outputs": [
    {
     "data": {
      "text/html": [
       "<div>\n",
       "<style scoped>\n",
       "    .dataframe tbody tr th:only-of-type {\n",
       "        vertical-align: middle;\n",
       "    }\n",
       "\n",
       "    .dataframe tbody tr th {\n",
       "        vertical-align: top;\n",
       "    }\n",
       "\n",
       "    .dataframe thead th {\n",
       "        text-align: right;\n",
       "    }\n",
       "</style>\n",
       "<table border=\"1\" class=\"dataframe\">\n",
       "  <thead>\n",
       "    <tr style=\"text-align: right;\">\n",
       "      <th></th>\n",
       "      <th>type</th>\n",
       "      <th>count</th>\n",
       "    </tr>\n",
       "  </thead>\n",
       "  <tbody>\n",
       "    <tr>\n",
       "      <th>0</th>\n",
       "      <td>mail_out</td>\n",
       "      <td>2326430</td>\n",
       "    </tr>\n",
       "    <tr>\n",
       "      <th>1</th>\n",
       "      <td>total_out</td>\n",
       "      <td>2740845</td>\n",
       "    </tr>\n",
       "  </tbody>\n",
       "</table>\n",
       "</div>"
      ],
      "text/plain": [
       "        type    count\n",
       "0   mail_out  2326430\n",
       "1  total_out  2740845"
      ]
     },
     "execution_count": 28,
     "metadata": {},
     "output_type": "execute_result"
    }
   ],
   "source": [
    "totals"
   ]
  },
  {
   "cell_type": "markdown",
   "metadata": {},
   "source": [
    "---"
   ]
  },
  {
   "cell_type": "markdown",
   "metadata": {},
   "source": [
    "## Geography tk"
   ]
  }
 ],
 "metadata": {
  "kernelspec": {
   "display_name": "Python 3",
   "language": "python",
   "name": "python3"
  },
  "language_info": {
   "codemirror_mode": {
    "name": "ipython",
    "version": 3
   },
   "file_extension": ".py",
   "mimetype": "text/x-python",
   "name": "python",
   "nbconvert_exporter": "python",
   "pygments_lexer": "ipython3",
   "version": "3.7.4"
  }
 },
 "nbformat": 4,
 "nbformat_minor": 4
}
