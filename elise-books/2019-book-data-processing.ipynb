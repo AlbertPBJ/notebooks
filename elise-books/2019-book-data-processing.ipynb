{
 "cells": [
  {
   "cell_type": "markdown",
   "metadata": {},
   "source": [
    "# Elise Hu: 2019 books"
   ]
  },
  {
   "cell_type": "markdown",
   "metadata": {},
   "source": [
    "Quick analysis of the 52 books she read last year. Published [here](http://heyelise.com/2020/01/01/52-books-i-read-in-2019-charted/). "
   ]
  },
  {
   "cell_type": "markdown",
   "metadata": {},
   "source": [
    "### Load Python tools "
   ]
  },
  {
   "cell_type": "code",
   "execution_count": 1,
   "metadata": {},
   "outputs": [],
   "source": [
    "import pandas as pd\n",
    "import geopandas as gpd\n",
    "from urllib.request import urlopen \n",
    "import pyarrow\n",
    "import jenkspy\n",
    "import matplotlib.pyplot as plt\n",
    "%matplotlib inline\n",
    "import json\n",
    "import numpy as np\n",
    "from altair import datum\n",
    "import altair as alt\n",
    "import altair_latimes as lat"
   ]
  },
  {
   "cell_type": "code",
   "execution_count": 2,
   "metadata": {},
   "outputs": [
    {
     "data": {
      "text/plain": [
       "ThemeRegistry.enable('latimes')"
      ]
     },
     "execution_count": 2,
     "metadata": {},
     "output_type": "execute_result"
    }
   ],
   "source": [
    "alt.themes.register('latimes', lat.theme)\n",
    "alt.themes.enable('latimes')"
   ]
  },
  {
   "cell_type": "code",
   "execution_count": 3,
   "metadata": {},
   "outputs": [],
   "source": [
    "plt.rcParams['figure.figsize'] = (16,8)"
   ]
  },
  {
   "cell_type": "code",
   "execution_count": 4,
   "metadata": {},
   "outputs": [
    {
     "data": {
      "text/plain": [
       "DataTransformerRegistry.enable('default')"
      ]
     },
     "execution_count": 4,
     "metadata": {},
     "output_type": "execute_result"
    }
   ],
   "source": [
    "pd.options.display.max_columns = 50\n",
    "pd.options.display.max_rows = 1000\n",
    "alt.data_transformers.disable_max_rows()"
   ]
  },
  {
   "cell_type": "code",
   "execution_count": 5,
   "metadata": {},
   "outputs": [],
   "source": [
    "pd.options.display.float_format = '{:,.2f}'.format"
   ]
  },
  {
   "cell_type": "markdown",
   "metadata": {},
   "source": [
    "### Read book data from Elise"
   ]
  },
  {
   "cell_type": "code",
   "execution_count": 6,
   "metadata": {},
   "outputs": [],
   "source": [
    "src = pd.read_excel('input/elise-2019-books.xlsx')"
   ]
  },
  {
   "cell_type": "code",
   "execution_count": 7,
   "metadata": {},
   "outputs": [
    {
     "data": {
      "text/plain": [
       "Order                            int64\n",
       "Title                           object\n",
       "Author                          object\n",
       "Pages                            int64\n",
       "URL                             object\n",
       "gender                          object\n",
       "type                            object\n",
       "Subgenre                        object\n",
       "Avg GoodReads Rating           float64\n",
       "Started                 datetime64[ns]\n",
       "date                    datetime64[ns]\n",
       "Faves                           object\n",
       "dtype: object"
      ]
     },
     "execution_count": 7,
     "metadata": {},
     "output_type": "execute_result"
    }
   ],
   "source": [
    "src.dtypes"
   ]
  },
  {
   "cell_type": "markdown",
   "metadata": {},
   "source": [
    "### Clean up field headers, data types"
   ]
  },
  {
   "cell_type": "code",
   "execution_count": 8,
   "metadata": {},
   "outputs": [],
   "source": [
    "src.columns = src.columns.str.strip().str.lower().str.replace(' ', '_')\\\n",
    "                    .str.replace('(', '').str.replace(')', '').str.replace('-','_')"
   ]
  },
  {
   "cell_type": "code",
   "execution_count": 9,
   "metadata": {},
   "outputs": [],
   "source": [
    "src['year'] = src['date'].dt.year.astype(str).str.replace('.0','',regex=False)"
   ]
  },
  {
   "cell_type": "code",
   "execution_count": 10,
   "metadata": {},
   "outputs": [],
   "source": [
    "src['type'] = src['type'].str.replace(' ', '-')"
   ]
  },
  {
   "cell_type": "code",
   "execution_count": 11,
   "metadata": {},
   "outputs": [],
   "source": [
    "src['days_to_read'] = src['date'] - src['started']"
   ]
  },
  {
   "cell_type": "markdown",
   "metadata": {},
   "source": [
    "### Make gender more descriptive, calculate number of reading days"
   ]
  },
  {
   "cell_type": "code",
   "execution_count": 12,
   "metadata": {},
   "outputs": [],
   "source": [
    "src['gender_description'] = src.gender.replace({'M': 'Male', 'F': 'Female'})"
   ]
  },
  {
   "cell_type": "code",
   "execution_count": 13,
   "metadata": {},
   "outputs": [],
   "source": [
    "src['days_to_read'] = src['days_to_read'].dt.days"
   ]
  },
  {
   "cell_type": "markdown",
   "metadata": {},
   "source": [
    "### Now start fresh with a dataframe called 'books'"
   ]
  },
  {
   "cell_type": "code",
   "execution_count": 14,
   "metadata": {},
   "outputs": [],
   "source": [
    "books = pd.DataFrame(src)"
   ]
  },
  {
   "cell_type": "markdown",
   "metadata": {},
   "source": [
    "### When did Elise finish her books?"
   ]
  },
  {
   "cell_type": "code",
   "execution_count": 15,
   "metadata": {
    "scrolled": true
   },
   "outputs": [
    {
     "data": {
      "text/html": [
       "\n",
       "<div id=\"altair-viz-836f1155fecb457a86c37d73b017c246\"></div>\n",
       "<script type=\"text/javascript\">\n",
       "  (function(spec, embedOpt){\n",
       "    const outputDiv = document.getElementById(\"altair-viz-836f1155fecb457a86c37d73b017c246\");\n",
       "    const paths = {\n",
       "      \"vega\": \"https://cdn.jsdelivr.net/npm//vega@5?noext\",\n",
       "      \"vega-lib\": \"https://cdn.jsdelivr.net/npm//vega-lib?noext\",\n",
       "      \"vega-lite\": \"https://cdn.jsdelivr.net/npm//vega-lite@4.0.2?noext\",\n",
       "      \"vega-embed\": \"https://cdn.jsdelivr.net/npm//vega-embed@6?noext\",\n",
       "    };\n",
       "\n",
       "    function loadScript(lib) {\n",
       "      return new Promise(function(resolve, reject) {\n",
       "        var s = document.createElement('script');\n",
       "        s.src = paths[lib];\n",
       "        s.async = true;\n",
       "        s.onload = () => resolve(paths[lib]);\n",
       "        s.onerror = () => reject(`Error loading script: ${paths[lib]}`);\n",
       "        document.getElementsByTagName(\"head\")[0].appendChild(s);\n",
       "      });\n",
       "    }\n",
       "\n",
       "    function showError(err) {\n",
       "      outputDiv.innerHTML = `<div class=\"error\" style=\"color:red;\">${err}</div>`;\n",
       "      throw err;\n",
       "    }\n",
       "\n",
       "    function displayChart(vegaEmbed) {\n",
       "      vegaEmbed(outputDiv, spec, embedOpt)\n",
       "        .catch(err => showError(`Javascript Error: ${err.message}<br>This usually means there's a typo in your chart specification. See the javascript console for the full traceback.`));\n",
       "    }\n",
       "\n",
       "    if(typeof define === \"function\" && define.amd) {\n",
       "      requirejs.config({paths});\n",
       "      require([\"vega-embed\"], displayChart, err => showError(`Error loading script: ${err.message}`));\n",
       "    } else if (typeof vegaEmbed === \"function\") {\n",
       "      displayChart(vegaEmbed);\n",
       "    } else {\n",
       "      loadScript(\"vega\")\n",
       "        .then(() => loadScript(\"vega-lite\"))\n",
       "        .then(() => loadScript(\"vega-embed\"))\n",
       "        .catch(showError)\n",
       "        .then(() => displayChart(vegaEmbed));\n",
       "    }\n",
       "  })({\"config\": {\"view\": {\"width\": 800, \"height\": 450}, \"background\": \"#ffffff\", \"title\": {\"anchor\": \"start\", \"font\": \"Benton Gothic Bold, sans\", \"fontColor\": \"#000000\", \"fontSize\": 22, \"fontWeight\": \"normal\"}, \"arc\": {\"fill\": \"#82c6df\"}, \"area\": {\"fill\": \"#82c6df\"}, \"line\": {\"stroke\": \"#82c6df\", \"strokeWidth\": 3}, \"path\": {\"stroke\": \"#82c6df\"}, \"rect\": {\"fill\": \"#82c6df\"}, \"shape\": {\"stroke\": \"#82c6df\"}, \"bar\": {\"fill\": \"#82c6df\"}, \"point\": {\"stroke\": \"#82c6df\"}, \"symbol\": {\"fill\": \"#82c6df\", \"size\": 30}, \"axis\": {\"titleFont\": \"Benton Gothic Bold, sans\", \"titleFontSize\": 13, \"titleFontWeight\": \"normal\", \"labelFont\": \"Benton Gothic, sans\", \"labelFontSize\": 11.5, \"labelFontWeight\": \"normal\", \"grid\": false}, \"axisX\": {\"labelAngle\": 0, \"labelPadding\": 4, \"tickSize\": 3}, \"axisY\": {\"labelBaseline\": \"middle\", \"maxExtent\": 45, \"minExtent\": 45, \"tickSize\": 2, \"titleAlign\": \"left\", \"titleAngle\": 0, \"titleX\": -45, \"titleY\": -11}, \"legend\": {\"titleFont\": \"Benton Gothic Bold, sans\", \"titleFontSize\": 13, \"titleFontWeight\": \"normal\", \"symbolType\": \"square\", \"labelFont\": \"Benton Gothic, sans\", \"labelFontSize\": 11.5}, \"range\": {\"category\": [\"#3580b1\", \"#ec8431\", \"#ab7fb4\", \"#c89d29\", \"#adc839\", \"#829eb1\"], \"diverging\": [\"#e68a4f\", \"#f4bb6a\", \"#f9e39c\", \"#dadfe2\", \"#a6b7c6\", \"#849eae\"], \"heatmap\": [\"#fbf2c7\", \"#f9e39c\", \"#f8d36e\", \"#f4bb6a\", \"#e68a4f\", \"#d15a40\", \"#ab4232\"], \"ordinal\": [\"#fbf2c7\", \"#f9e39c\", \"#f8d36e\", \"#f4bb6a\", \"#e68a4f\", \"#d15a40\", \"#ab4232\"], \"ramp\": [\"#fbf2c7\", \"#f9e39c\", \"#f8d36e\", \"#f4bb6a\", \"#e68a4f\", \"#d15a40\", \"#ab4232\"]}}, \"data\": {\"name\": \"data-7c8b8837e3db213cb2339b0fa7827d31\"}, \"mark\": {\"type\": \"tick\", \"size\": 20, \"thickness\": 2}, \"encoding\": {\"x\": {\"type\": \"temporal\", \"axis\": {\"format\": \"%b\", \"tickColor\": \"#ffffff\", \"tickCount\": 12}, \"field\": \"date\", \"title\": \"\"}, \"y\": {\"type\": \"nominal\", \"axis\": {\"tickColor\": \"#ffffff\", \"tickCount\": 0}, \"field\": \"year\", \"title\": \" \"}}, \"height\": 40, \"width\": 700, \"$schema\": \"https://vega.github.io/schema/vega-lite/v4.0.2.json\", \"datasets\": {\"data-7c8b8837e3db213cb2339b0fa7827d31\": [{\"order\": 1, \"title\": \"Brotopia\", \"author\": \"Emily Chang\", \"pages\": 317, \"url\": \"https://www.goodreads.com/book/show/36288143-brotopia\", \"gender\": \"F\", \"type\": \"Non-Fiction\", \"subgenre\": \"Business\", \"avg_goodreads_rating\": 4.04, \"started\": \"2018-12-26T00:00:00\", \"date\": \"2019-01-06T00:00:00\", \"faves\": null, \"year\": \"2019\", \"days_to_read\": 11, \"gender_description\": \"Female\"}, {\"order\": 2, \"title\": \"The Human Stain\", \"author\": \"Philip Roth\", \"pages\": 384, \"url\": \"https://www.goodreads.com/book/show/11734.The_Human_Stain?from_search=true\", \"gender\": \"M\", \"type\": \"Fiction\", \"subgenre\": \"Literature\", \"avg_goodreads_rating\": 3.87, \"started\": \"2019-01-06T00:00:00\", \"date\": \"2019-01-16T00:00:00\", \"faves\": \"Y\", \"year\": \"2019\", \"days_to_read\": 10, \"gender_description\": \"Male\"}, {\"order\": 3, \"title\": \"You Know You Want This\", \"author\": \"Kristen Roupenian\", \"pages\": 225, \"url\": \"https://www.goodreads.com/book/show/40539045-you-know-you-want-this\", \"gender\": \"F\", \"type\": \"Fiction\", \"subgenre\": \"Short Stories\", \"avg_goodreads_rating\": 3.86, \"started\": \"2019-01-16T00:00:00\", \"date\": \"2019-01-19T00:00:00\", \"faves\": null, \"year\": \"2019\", \"days_to_read\": 3, \"gender_description\": \"Female\"}, {\"order\": 4, \"title\": \"Why Buddhism is True\", \"author\": \"Robert Wright\", \"pages\": 336, \"url\": \"https://www.goodreads.com/book/show/32895535-why-buddhism-is-true?from_search=true\", \"gender\": \"M\", \"type\": \"Non-Fiction\", \"subgenre\": \"Religion\", \"avg_goodreads_rating\": 4.05, \"started\": \"2019-01-18T00:00:00\", \"date\": \"2019-04-02T00:00:00\", \"faves\": null, \"year\": \"2019\", \"days_to_read\": 74, \"gender_description\": \"Male\"}, {\"order\": 5, \"title\": \"If Beale Street Could Talk\", \"author\": \"James Baldwin\", \"pages\": 197, \"url\": \"https://www.goodreads.com/book/show/38463.If_Beale_Street_Could_Talk\", \"gender\": \"M\", \"type\": \"Fiction\", \"subgenre\": \"Classics\", \"avg_goodreads_rating\": 4.29, \"started\": \"2019-01-22T00:00:00\", \"date\": \"2019-01-28T00:00:00\", \"faves\": null, \"year\": \"2019\", \"days_to_read\": 6, \"gender_description\": \"Male\"}, {\"order\": 6, \"title\": \"Nobody Cares\", \"author\": \"Anne Donahue\", \"pages\": 240, \"url\": \"https://www.goodreads.com/book/show/36360167-nobody-cares\", \"gender\": \"F\", \"type\": \"Non-Fiction\", \"subgenre\": \"Essays\", \"avg_goodreads_rating\": 3.67, \"started\": \"2019-02-03T00:00:00\", \"date\": \"2019-02-25T00:00:00\", \"faves\": null, \"year\": \"2019\", \"days_to_read\": 22, \"gender_description\": \"Female\"}, {\"order\": 7, \"title\": \"Acts of Infidelity\", \"author\": \"Lena Andersson\", \"pages\": 366, \"url\": \"https://www.goodreads.com/book/show/22601256-utan-personligt-ansvar\", \"gender\": \"F\", \"type\": \"Fiction\", \"subgenre\": \"Swedish Lit\", \"avg_goodreads_rating\": 3.66, \"started\": \"2019-02-01T00:00:00\", \"date\": \"2019-02-08T00:00:00\", \"faves\": null, \"year\": \"2019\", \"days_to_read\": 7, \"gender_description\": \"Female\"}, {\"order\": 8, \"title\": \"There Will Be No Miracles Here\", \"author\": \"Casey Gerald\", \"pages\": 394, \"url\": \"https://www.goodreads.com/book/show/38650651-there-will-be-no-miracles-here?from_search=true\", \"gender\": \"M\", \"type\": \"Non-Fiction\", \"subgenre\": \"Memoir\", \"avg_goodreads_rating\": 3.72, \"started\": \"2019-01-27T00:00:00\", \"date\": \"2019-02-11T00:00:00\", \"faves\": null, \"year\": \"2019\", \"days_to_read\": 15, \"gender_description\": \"Male\"}, {\"order\": 9, \"title\": \"The Unbearable Lightness of Being\", \"author\": \"Milan Kundera\", \"pages\": 320, \"url\": \"https://www.goodreads.com/book/show/9717.The_Unbearable_Lightness_of_Being?from_search=true\", \"gender\": \"M\", \"type\": \"Fiction\", \"subgenre\": \"Classics\", \"avg_goodreads_rating\": 4.09, \"started\": \"2019-02-16T00:00:00\", \"date\": \"2019-02-23T00:00:00\", \"faves\": null, \"year\": \"2019\", \"days_to_read\": 7, \"gender_description\": \"Male\"}, {\"order\": 10, \"title\": \"The Beauty Myth\", \"author\": \"Naomi Wolf\", \"pages\": 368, \"url\": \"https://www.goodreads.com/book/show/39926.The_Beauty_Myth\", \"gender\": \"F\", \"type\": \"Non-Fiction\", \"subgenre\": \"Feminism\", \"avg_goodreads_rating\": 3.9, \"started\": \"2019-02-12T00:00:00\", \"date\": \"2019-11-04T00:00:00\", \"faves\": null, \"year\": \"2019\", \"days_to_read\": 265, \"gender_description\": \"Female\"}, {\"order\": 11, \"title\": \"LOT\", \"author\": \"Bryan Washington\", \"pages\": 240, \"url\": \"https://www.goodreads.com/book/show/40749395-lot\", \"gender\": \"M\", \"type\": \"Fiction\", \"subgenre\": \"Short Stories\", \"avg_goodreads_rating\": 3.74, \"started\": \"2019-02-28T00:00:00\", \"date\": \"2019-03-15T00:00:00\", \"faves\": \"Y\", \"year\": \"2019\", \"days_to_read\": 15, \"gender_description\": \"Male\"}, {\"order\": 12, \"title\": \"Oculus\", \"author\": \"Sally Wen Mao\", \"pages\": 119, \"url\": \"https://www.goodreads.com/book/show/40121999-oculus\", \"gender\": \"F\", \"type\": \"Poetry\", \"subgenre\": \"Contemporary\", \"avg_goodreads_rating\": 4.22, \"started\": \"2019-03-03T00:00:00\", \"date\": \"2019-03-11T00:00:00\", \"faves\": null, \"year\": \"2019\", \"days_to_read\": 8, \"gender_description\": \"Female\"}, {\"order\": 13, \"title\": \"Homo Deus: A Brief History of Tomorrow\", \"author\": \"Yuval Harari\", \"pages\": 450, \"url\": \"https://www.goodreads.com/book/show/31138556-homo-deus?from_search=true\", \"gender\": \"M\", \"type\": \"Non-Fiction\", \"subgenre\": \"History\", \"avg_goodreads_rating\": 4.29, \"started\": \"2019-03-22T00:00:00\", \"date\": \"2019-04-19T00:00:00\", \"faves\": null, \"year\": \"2019\", \"days_to_read\": 28, \"gender_description\": \"Male\"}, {\"order\": 14, \"title\": \"Heart Berries\", \"author\": \"Terese Marie Mailhot\", \"pages\": 143, \"url\": \"https://www.goodreads.com/book/show/35840657-heart-berries\", \"gender\": \"F\", \"type\": \"Non-Fiction\", \"subgenre\": \"Memoir\", \"avg_goodreads_rating\": 3.89, \"started\": \"2019-04-03T00:00:00\", \"date\": \"2019-04-06T00:00:00\", \"faves\": null, \"year\": \"2019\", \"days_to_read\": 3, \"gender_description\": \"Female\"}, {\"order\": 15, \"title\": \"Lake Success\", \"author\": \"Gary Schneyngart\", \"pages\": 339, \"url\": \"https://www.goodreads.com/book/show/36739942-lake-success\", \"gender\": \"M\", \"type\": \"Fiction\", \"subgenre\": \"Contemporary\", \"avg_goodreads_rating\": 3.64, \"started\": \"2019-04-21T00:00:00\", \"date\": \"2019-12-07T00:00:00\", \"faves\": null, \"year\": \"2019\", \"days_to_read\": 230, \"gender_description\": \"Male\"}, {\"order\": 16, \"title\": \"Normal People\", \"author\": \"Sally Rooney\", \"pages\": 266, \"url\": \"https://www.goodreads.com/book/show/37539457-normal-people\", \"gender\": \"F\", \"type\": \"Fiction\", \"subgenre\": \"Contemporary\", \"avg_goodreads_rating\": 3.89, \"started\": \"2019-04-20T00:00:00\", \"date\": \"2019-04-21T00:00:00\", \"faves\": \"Y\", \"year\": \"2019\", \"days_to_read\": 1, \"gender_description\": \"Female\"}, {\"order\": 17, \"title\": \"Less\", \"author\": \"Andrew Sean Greer\", \"pages\": 273, \"url\": \"https://www.goodreads.com/book/show/39927096-less\", \"gender\": \"M\", \"type\": \"Fiction\", \"subgenre\": \"Contemporary\", \"avg_goodreads_rating\": 3.76, \"started\": \"2019-04-25T00:00:00\", \"date\": \"2019-05-08T00:00:00\", \"faves\": null, \"year\": \"2019\", \"days_to_read\": 13, \"gender_description\": \"Male\"}, {\"order\": 18, \"title\": \"Nobody is Ever Missing\", \"author\": \"Catherine Lacey\", \"pages\": 244, \"url\": \"https://www.goodreads.com/book/show/18490560-nobody-is-ever-missing?from_search=true\", \"gender\": \"F\", \"type\": \"Fiction\", \"subgenre\": \"Contemporary\", \"avg_goodreads_rating\": 3.27, \"started\": \"2019-05-08T00:00:00\", \"date\": \"2019-05-13T00:00:00\", \"faves\": null, \"year\": \"2019\", \"days_to_read\": 5, \"gender_description\": \"Female\"}, {\"order\": 19, \"title\": \"The New Me\", \"author\": \"Halle Butler\", \"pages\": 208, \"url\": \"https://www.goodreads.com/book/show/36342706-the-new-me\", \"gender\": \"F\", \"type\": \"Fiction\", \"subgenre\": \"Contemporary\", \"avg_goodreads_rating\": 3.6, \"started\": \"2019-05-13T00:00:00\", \"date\": \"2019-05-18T00:00:00\", \"faves\": \"Nope\", \"year\": \"2019\", \"days_to_read\": 5, \"gender_description\": \"Female\"}, {\"order\": 20, \"title\": \"The Empathy Exams\", \"author\": \"Leslie Jamison\", \"pages\": 226, \"url\": \"https://www.goodreads.com/en/book/show/17934655\", \"gender\": \"F\", \"type\": \"Non-Fiction\", \"subgenre\": \"Essays\", \"avg_goodreads_rating\": 3.64, \"started\": \"2019-05-18T00:00:00\", \"date\": \"2019-05-27T00:00:00\", \"faves\": null, \"year\": \"2019\", \"days_to_read\": 9, \"gender_description\": \"Female\"}, {\"order\": 21, \"title\": \"Bad Blood\", \"author\": \"John Carreyou\", \"pages\": 339, \"url\": \"https://www.goodreads.com/book/show/37976541-bad-blood?from_search=true\", \"gender\": \"M\", \"type\": \"Non-Fiction\", \"subgenre\": \"True Crime\", \"avg_goodreads_rating\": 4.48, \"started\": \"2019-06-01T00:00:00\", \"date\": \"2019-06-12T00:00:00\", \"faves\": null, \"year\": \"2019\", \"days_to_read\": 11, \"gender_description\": \"Male\"}, {\"order\": 22, \"title\": \"The Recovering: Intoxication and its Aftermath\", \"author\": \"Leslie Jamison\", \"pages\": 545, \"url\": \"https://www.goodreads.com/book/show/35959632-the-recovering\", \"gender\": \"F\", \"type\": \"Non-Fiction\", \"subgenre\": \"Memoir\", \"avg_goodreads_rating\": 3.96, \"started\": \"2019-05-27T00:00:00\", \"date\": \"2019-06-01T00:00:00\", \"faves\": \"Y\", \"year\": \"2019\", \"days_to_read\": 5, \"gender_description\": \"Female\"}, {\"order\": 23, \"title\": \"Evvie Drake Starts Over\", \"author\": \"Linda Holmes\", \"pages\": 304, \"url\": \"https://www.goodreads.com/book/show/40514431-evvie-drake-starts-over?ac=1&from_search=true\", \"gender\": \"F\", \"type\": \"Fiction\", \"subgenre\": \"Young Adult\", \"avg_goodreads_rating\": 4.22, \"started\": \"2019-06-30T00:00:00\", \"date\": \"2019-06-30T00:00:00\", \"faves\": null, \"year\": \"2019\", \"days_to_read\": 0, \"gender_description\": \"Female\"}, {\"order\": 24, \"title\": \"How to Change Your Mind\", \"author\": \"Michael Pollan\", \"pages\": 480, \"url\": \"https://www.goodreads.com/book/show/36613747-how-to-change-your-mind?from_search=true\", \"gender\": \"M\", \"type\": \"Non-Fiction\", \"subgenre\": \"Science\", \"avg_goodreads_rating\": 4.31, \"started\": \"2019-06-12T00:00:00\", \"date\": \"2019-10-18T00:00:00\", \"faves\": null, \"year\": \"2019\", \"days_to_read\": 128, \"gender_description\": \"Male\"}, {\"order\": 25, \"title\": \"Trust Exercise\", \"author\": \"Susan Choi\", \"pages\": 257, \"url\": \"https://www.goodreads.com/en/book/show/40046059\", \"gender\": \"F\", \"type\": \"Fiction\", \"subgenre\": \"Contemporary\", \"avg_goodreads_rating\": 3.23, \"started\": \"2019-06-12T00:00:00\", \"date\": \"2019-06-14T00:00:00\", \"faves\": \"Y\", \"year\": \"2019\", \"days_to_read\": 2, \"gender_description\": \"Female\"}, {\"order\": 26, \"title\": \"Trick Mirror\", \"author\": \"Jia Tolentino\", \"pages\": 256, \"url\": \"https://www.goodreads.com/book/show/43126457-trick-mirror?from_search=true\", \"gender\": \"F\", \"type\": \"Non-Fiction\", \"subgenre\": \"Essays\", \"avg_goodreads_rating\": 4.33, \"started\": \"2019-06-15T00:00:00\", \"date\": \"2019-06-30T00:00:00\", \"faves\": \"Y\", \"year\": \"2019\", \"days_to_read\": 15, \"gender_description\": \"Female\"}, {\"order\": 27, \"title\": \"Territory of Light\", \"author\": \"Yuko Tsushima\", \"pages\": 122, \"url\": \"https://www.goodreads.com/book/show/33871745-territory-of-light\", \"gender\": \"F\", \"type\": \"Fiction\", \"subgenre\": \"Japanese Lit\", \"avg_goodreads_rating\": 3.66, \"started\": \"2019-07-01T00:00:00\", \"date\": \"2019-07-06T00:00:00\", \"faves\": null, \"year\": \"2019\", \"days_to_read\": 5, \"gender_description\": \"Female\"}, {\"order\": 28, \"title\": \"Unclaimed Baggage\", \"author\": \"Jen Doll\", \"pages\": 384, \"url\": \"https://www.goodreads.com/book/show/36949992-unclaimed-baggage?ac=1&from_search=true\", \"gender\": \"F\", \"type\": \"Fiction\", \"subgenre\": \"Young Adult\", \"avg_goodreads_rating\": 3.73, \"started\": \"2019-01-08T00:00:00\", \"date\": \"2019-07-11T00:00:00\", \"faves\": null, \"year\": \"2019\", \"days_to_read\": 184, \"gender_description\": \"Female\"}, {\"order\": 29, \"title\": \"Fleishman Is In Trouble\", \"author\": \"Taffy Brodesser-Akner\", \"pages\": 384, \"url\": \"https://www.goodreads.com/book/show/41880602-fleishman-is-in-trouble?ac=1&from_search=true\", \"gender\": \"F\", \"type\": \"Fiction\", \"subgenre\": \"Contemporary\", \"avg_goodreads_rating\": 4.1, \"started\": \"2019-06-17T00:00:00\", \"date\": \"2019-06-28T00:00:00\", \"faves\": \"Y\", \"year\": \"2019\", \"days_to_read\": 11, \"gender_description\": \"Female\"}, {\"order\": 30, \"title\": \"Lifespan\", \"author\": \"David Sinclair\", \"pages\": 432, \"url\": \"https://www.goodreads.com/book/show/43723901-lifespan?ac=1&from_search=true\", \"gender\": \"M\", \"type\": \"Non-Fiction\", \"subgenre\": \"Science\", \"avg_goodreads_rating\": 4.27, \"started\": \"2019-07-01T00:00:00\", \"date\": \"2019-07-18T00:00:00\", \"faves\": null, \"year\": \"2019\", \"days_to_read\": 17, \"gender_description\": \"Male\"}, {\"order\": 31, \"title\": \"Uncanny Valley\", \"author\": \"Anna Wiener\", \"pages\": 304, \"url\": \"https://www.goodreads.com/book/show/45186565-uncanny-valley?ac=1&from_search=true\", \"gender\": \"F\", \"type\": \"Non-Fiction\", \"subgenre\": \"Memoir\", \"avg_goodreads_rating\": 4.2, \"started\": \"2019-07-19T00:00:00\", \"date\": \"2019-07-21T00:00:00\", \"faves\": \"y\", \"year\": \"2019\", \"days_to_read\": 2, \"gender_description\": \"Female\"}, {\"order\": 32, \"title\": \"Hit Makers\", \"author\": \"Derek Thompson\", \"pages\": 352, \"url\": \"https://www.goodreads.com/book/show/30901608-hit-makers\", \"gender\": \"M\", \"type\": \"Non-Fiction\", \"subgenre\": \"Pop Culture\", \"avg_goodreads_rating\": 3.95, \"started\": \"2019-07-20T00:00:00\", \"date\": \"2019-08-06T00:00:00\", \"faves\": null, \"year\": \"2019\", \"days_to_read\": 17, \"gender_description\": \"Male\"}, {\"order\": 33, \"title\": \"Genghis Khan and the Making of the Modern World\", \"author\": \"Jack Weatherford\", \"pages\": 352, \"url\": \"https://www.goodreads.com/book/show/40718726-genghis-khan-and-the-making-of-the-modern-world?ac=1&from_search=true\", \"gender\": \"M\", \"type\": \"Non-Fiction\", \"subgenre\": \"History\", \"avg_goodreads_rating\": 4.02, \"started\": \"2019-07-25T00:00:00\", \"date\": \"2019-09-07T00:00:00\", \"faves\": null, \"year\": \"2019\", \"days_to_read\": 44, \"gender_description\": \"Male\"}, {\"order\": 34, \"title\": \"For the Love of Men: A New Vision for Mindful Masculinity\", \"author\": \"Liz Plank\", \"pages\": 300, \"url\": \"https://www.goodreads.com/book/show/43263540-for-the-love-of-men\", \"gender\": \"F\", \"type\": \"Non-Fiction\", \"subgenre\": \"Feminism\", \"avg_goodreads_rating\": 4.38, \"started\": \"2019-07-23T00:00:00\", \"date\": \"2019-08-02T00:00:00\", \"faves\": null, \"year\": \"2019\", \"days_to_read\": 10, \"gender_description\": \"Female\"}, {\"order\": 35, \"title\": \"Three Women\", \"author\": \"Lisa Taddeo\", \"pages\": 304, \"url\": \"https://www.goodreads.com/book/show/42201100-three-women\", \"gender\": \"F\", \"type\": \"Non-Fiction\", \"subgenre\": \"Feminism\", \"avg_goodreads_rating\": 3.87, \"started\": \"2019-08-15T00:00:00\", \"date\": \"2019-08-22T00:00:00\", \"faves\": \"y\", \"year\": \"2019\", \"days_to_read\": 7, \"gender_description\": \"Female\"}, {\"order\": 36, \"title\": \"Brave New World\", \"author\": \"Aldous Huxley\", \"pages\": 288, \"url\": \"https://www.goodreads.com/book/show/5129.Brave_New_World?ac=1&from_search=true\", \"gender\": \"M\", \"type\": \"Fiction\", \"subgenre\": \"Science \", \"avg_goodreads_rating\": 3.98, \"started\": \"2019-09-15T00:00:00\", \"date\": \"2019-09-16T00:00:00\", \"faves\": null, \"year\": \"2019\", \"days_to_read\": 1, \"gender_description\": \"Male\"}, {\"order\": 37, \"title\": \"Permanent Record\", \"author\": \"Mary HK Choi\", \"pages\": 400, \"url\": \"https://www.goodreads.com/book/show/43562239-permanent-record?from_search=true\", \"gender\": \"F\", \"type\": \"Fiction\", \"subgenre\": \"Young Adult\", \"avg_goodreads_rating\": 3.84, \"started\": \"2019-09-07T00:00:00\", \"date\": \"2019-09-11T00:00:00\", \"faves\": null, \"year\": \"2019\", \"days_to_read\": 4, \"gender_description\": \"Female\"}, {\"order\": 38, \"title\": \"I Was Their American Dream\", \"author\": \"Malaka Gharib\", \"pages\": 160, \"url\": \"https://www.goodreads.com/book/show/40909448-i-was-their-american-dream?from_search=true\", \"gender\": \"F\", \"type\": \"Non-Fiction\", \"subgenre\": \"Graphic Novel\", \"avg_goodreads_rating\": 4.3, \"started\": \"2019-09-05T00:00:00\", \"date\": \"2019-09-12T00:00:00\", \"faves\": null, \"year\": \"2019\", \"days_to_read\": 7, \"gender_description\": \"Female\"}, {\"order\": 39, \"title\": \"Men Without Women\", \"author\": \"Haruki Murakami\", \"pages\": 242, \"url\": \"https://www.goodreads.com/book/show/31950871-men-without-women\", \"gender\": \"M\", \"type\": \"Fiction\", \"subgenre\": \"Short Stories\", \"avg_goodreads_rating\": 3.77, \"started\": \"2019-09-18T00:00:00\", \"date\": \"2019-09-25T00:00:00\", \"faves\": null, \"year\": \"2019\", \"days_to_read\": 7, \"gender_description\": \"Male\"}, {\"order\": 40, \"title\": \"Make it Scream Make it Burn\", \"author\": \"Leslie Jamison\", \"pages\": 272, \"url\": \"https://www.goodreads.com/book/show/43521617-make-it-scream-make-it-burn?from_search=true\", \"gender\": \"F\", \"type\": \"Non-Fiction\", \"subgenre\": \"Essays\", \"avg_goodreads_rating\": 4.13, \"started\": \"2019-10-02T00:00:00\", \"date\": \"2019-10-06T00:00:00\", \"faves\": null, \"year\": \"2019\", \"days_to_read\": 4, \"gender_description\": \"Female\"}, {\"order\": 41, \"title\": \"How to Talk So Your Kids Will Listen\", \"author\": \"Adele Faber and Elaine Mazlish\", \"pages\": 368, \"url\": \"https://www.goodreads.com/book/show/12371502-how-to-talk-so-kids-will-listen-listen-so-kids-will-talk\", \"gender\": \"F\", \"type\": \"Non-Fiction\", \"subgenre\": \"Parenting\", \"avg_goodreads_rating\": 4.26, \"started\": \"2019-09-28T00:00:00\", \"date\": \"2019-10-02T00:00:00\", \"faves\": \"Y\", \"year\": \"2019\", \"days_to_read\": 4, \"gender_description\": \"Female\"}, {\"order\": 43, \"title\": \"Maybe You Should Talk to Somebody\", \"author\": \"Lori Gottlieb\", \"pages\": 432, \"url\": \"https://www.goodreads.com/book/show/37570546-maybe-you-should-talk-to-someone?from_search=true\", \"gender\": \"F\", \"type\": \"Non-Fiction\", \"subgenre\": \"Memoir\", \"avg_goodreads_rating\": 4.4, \"started\": \"2019-10-18T00:00:00\", \"date\": \"2019-11-25T00:00:00\", \"faves\": \"Y\", \"year\": \"2019\", \"days_to_read\": 38, \"gender_description\": \"Female\"}, {\"order\": 44, \"title\": \"Think Like Your Editor\", \"author\": \"Susan Rabiner\", \"pages\": 288, \"url\": \"https://www.goodreads.com/book/show/18988615-thinking-like-your-editor?utm_content=review_cta_book_image&utm_medium=email&utm_source=bookend\", \"gender\": \"F\", \"type\": \"Non-Fiction\", \"subgenre\": \"Writing\", \"avg_goodreads_rating\": 4.04, \"started\": \"2019-10-24T00:00:00\", \"date\": \"2019-10-28T00:00:00\", \"faves\": null, \"year\": \"2019\", \"days_to_read\": 4, \"gender_description\": \"Female\"}, {\"order\": 45, \"title\": \"Kim Ji Young Born 1982\", \"author\": \"Cho Nam-joo\", \"pages\": 144, \"url\": \"https://www.goodreads.com/book/show/47320138-kim-ji-young-born-1982?ac=1&from_search=true\", \"gender\": \"F\", \"type\": \"Fiction\", \"subgenre\": \"Feminism\", \"avg_goodreads_rating\": 4.17, \"started\": \"2019-10-28T00:00:00\", \"date\": \"2019-10-31T00:00:00\", \"faves\": null, \"year\": \"2019\", \"days_to_read\": 3, \"gender_description\": \"Female\"}, {\"order\": 46, \"title\": \"Superman vs the KKK\", \"author\": \"Rick Bowers\", \"pages\": 160, \"url\": \"https://www.goodreads.com/book/show/11407829-superman-versus-the-ku-klux-klan?from_search=true\", \"gender\": \"M\", \"type\": \"Non-Fiction\", \"subgenre\": \"History\", \"avg_goodreads_rating\": 3.66, \"started\": \"2019-10-28T00:00:00\", \"date\": \"2019-10-29T00:00:00\", \"faves\": null, \"year\": \"2019\", \"days_to_read\": 1, \"gender_description\": \"Male\"}, {\"order\": 47, \"title\": \"The Likeability Trap\", \"author\": \"Alicia Menendez\", \"pages\": 240, \"url\": \"https://www.goodreads.com/book/show/46408581-the-likeability-trap?from_search=true&qid=oURYa3fiGo&rank=1\", \"gender\": \"F\", \"type\": \"Non-Fiction\", \"subgenre\": \"Feminism\", \"avg_goodreads_rating\": 3.7, \"started\": \"2019-11-08T00:00:00\", \"date\": \"2019-11-13T00:00:00\", \"faves\": null, \"year\": \"2019\", \"days_to_read\": 5, \"gender_description\": \"Female\"}, {\"order\": 48, \"title\": \"A Short HIstory of Progress\", \"author\": \"Ronald Wright\", \"pages\": 224, \"url\": \"https://www.goodreads.com/book/show/331227.A_Short_History_of_Progress?from_search=true&qid=supt2TGSOt&rank=1\", \"gender\": \"M\", \"type\": \"Non-Fiction\", \"subgenre\": \"History\", \"avg_goodreads_rating\": 4.1, \"started\": \"2019-11-13T00:00:00\", \"date\": \"2019-11-29T00:00:00\", \"faves\": null, \"year\": \"2019\", \"days_to_read\": 16, \"gender_description\": \"Male\"}, {\"order\": 49, \"title\": \"The Last Romantics\", \"author\": \"Tara Conklin\", \"pages\": 368, \"url\": \"https://www.goodreads.com/book/show/35068465-the-last-romantics?ac=1&from_search=true&qid=dert731j6D&rank=1\", \"gender\": \"F\", \"type\": \"Fiction\", \"subgenre\": \"Contemporary\", \"avg_goodreads_rating\": 3.78, \"started\": \"2019-11-29T00:00:00\", \"date\": \"2019-12-02T00:00:00\", \"faves\": \"Y\", \"year\": \"2019\", \"days_to_read\": 3, \"gender_description\": \"Female\"}, {\"order\": 50, \"title\": \"Four Soldiers\", \"author\": \"Hubert Mingarelli\", \"pages\": 160, \"url\": \"https://www.goodreads.com/book/show/41557466-four-soldiers?from_search=true&qid=tFOQALgbWg&rank=1\", \"gender\": \"F\", \"type\": \"Fiction\", \"subgenre\": \"Historical\", \"avg_goodreads_rating\": 3.78, \"started\": \"2019-11-29T00:00:00\", \"date\": \"2019-12-03T00:00:00\", \"faves\": null, \"year\": \"2019\", \"days_to_read\": 4, \"gender_description\": \"Female\"}, {\"order\": 51, \"title\": \"Working\", \"author\": \"Robert Caro\", \"pages\": 231, \"url\": \"https://www.goodreads.com/book/show/43205240-working?from_search=true&qid=51xloY5uTL&rank=1\", \"gender\": \"M\", \"type\": \"Non-Fiction\", \"subgenre\": \"Writing\", \"avg_goodreads_rating\": 4.43, \"started\": \"2019-12-15T00:00:00\", \"date\": \"2019-12-18T00:00:00\", \"faves\": null, \"year\": \"2019\", \"days_to_read\": 3, \"gender_description\": \"Male\"}, {\"order\": 52, \"title\": \"The Incendiaries\", \"author\": \"R.O. Kwon\", \"pages\": 214, \"url\": \"https://www.goodreads.com/book/show/36679056-the-incendiaries\", \"gender\": \"F\", \"type\": \"Fiction\", \"subgenre\": \"Contemporary\", \"avg_goodreads_rating\": 3.28, \"started\": \"2019-12-19T00:00:00\", \"date\": \"2019-12-19T00:00:00\", \"faves\": null, \"year\": \"2019\", \"days_to_read\": 0, \"gender_description\": \"Female\"}, {\"order\": 53, \"title\": \"Wedding Toasts I'll Never Give\", \"author\": \"Ada Calhoun\", \"pages\": 192, \"url\": \"https://www.goodreads.com/book/show/36236126-wedding-toasts-i-ll-never-give\", \"gender\": \"F\", \"type\": \"Non-Fiction\", \"subgenre\": \"Essays\", \"avg_goodreads_rating\": 3.86, \"started\": \"2019-12-26T00:00:00\", \"date\": \"2019-12-27T00:00:00\", \"faves\": null, \"year\": \"2019\", \"days_to_read\": 1, \"gender_description\": \"Female\"}]}}, {\"mode\": \"vega-lite\"});\n",
       "</script>"
      ],
      "text/plain": [
       "alt.Chart(...)"
      ]
     },
     "execution_count": 15,
     "metadata": {},
     "output_type": "execute_result"
    }
   ],
   "source": [
    "# DESKTOP \n",
    "alt.Chart(books).mark_tick(thickness=2,size=20).encode(\n",
    "    x=alt.X('date',axis=alt.Axis(tickCount=12, format='%b', tickColor='#ffffff'), title=''),\n",
    "    y=alt.Y('year',axis=alt.Axis(tickCount=0, tickColor='#ffffff'), title=' ')\n",
    ").configure_axis(\n",
    "    grid=False).properties(height=40, width=700)"
   ]
  },
  {
   "cell_type": "code",
   "execution_count": 16,
   "metadata": {},
   "outputs": [
    {
     "data": {
      "text/html": [
       "\n",
       "<div id=\"altair-viz-f3177a1e515c4109bfc070eff5c93a83\"></div>\n",
       "<script type=\"text/javascript\">\n",
       "  (function(spec, embedOpt){\n",
       "    const outputDiv = document.getElementById(\"altair-viz-f3177a1e515c4109bfc070eff5c93a83\");\n",
       "    const paths = {\n",
       "      \"vega\": \"https://cdn.jsdelivr.net/npm//vega@5?noext\",\n",
       "      \"vega-lib\": \"https://cdn.jsdelivr.net/npm//vega-lib?noext\",\n",
       "      \"vega-lite\": \"https://cdn.jsdelivr.net/npm//vega-lite@4.0.2?noext\",\n",
       "      \"vega-embed\": \"https://cdn.jsdelivr.net/npm//vega-embed@6?noext\",\n",
       "    };\n",
       "\n",
       "    function loadScript(lib) {\n",
       "      return new Promise(function(resolve, reject) {\n",
       "        var s = document.createElement('script');\n",
       "        s.src = paths[lib];\n",
       "        s.async = true;\n",
       "        s.onload = () => resolve(paths[lib]);\n",
       "        s.onerror = () => reject(`Error loading script: ${paths[lib]}`);\n",
       "        document.getElementsByTagName(\"head\")[0].appendChild(s);\n",
       "      });\n",
       "    }\n",
       "\n",
       "    function showError(err) {\n",
       "      outputDiv.innerHTML = `<div class=\"error\" style=\"color:red;\">${err}</div>`;\n",
       "      throw err;\n",
       "    }\n",
       "\n",
       "    function displayChart(vegaEmbed) {\n",
       "      vegaEmbed(outputDiv, spec, embedOpt)\n",
       "        .catch(err => showError(`Javascript Error: ${err.message}<br>This usually means there's a typo in your chart specification. See the javascript console for the full traceback.`));\n",
       "    }\n",
       "\n",
       "    if(typeof define === \"function\" && define.amd) {\n",
       "      requirejs.config({paths});\n",
       "      require([\"vega-embed\"], displayChart, err => showError(`Error loading script: ${err.message}`));\n",
       "    } else if (typeof vegaEmbed === \"function\") {\n",
       "      displayChart(vegaEmbed);\n",
       "    } else {\n",
       "      loadScript(\"vega\")\n",
       "        .then(() => loadScript(\"vega-lite\"))\n",
       "        .then(() => loadScript(\"vega-embed\"))\n",
       "        .catch(showError)\n",
       "        .then(() => displayChart(vegaEmbed));\n",
       "    }\n",
       "  })({\"config\": {\"view\": {\"width\": 800, \"height\": 450}, \"background\": \"#ffffff\", \"title\": {\"anchor\": \"start\", \"font\": \"Benton Gothic Bold, sans\", \"fontColor\": \"#000000\", \"fontSize\": 22, \"fontWeight\": \"normal\"}, \"arc\": {\"fill\": \"#82c6df\"}, \"area\": {\"fill\": \"#82c6df\"}, \"line\": {\"stroke\": \"#82c6df\", \"strokeWidth\": 3}, \"path\": {\"stroke\": \"#82c6df\"}, \"rect\": {\"fill\": \"#82c6df\"}, \"shape\": {\"stroke\": \"#82c6df\"}, \"bar\": {\"fill\": \"#82c6df\"}, \"point\": {\"stroke\": \"#82c6df\"}, \"symbol\": {\"fill\": \"#82c6df\", \"size\": 30}, \"axis\": {\"titleFont\": \"Benton Gothic Bold, sans\", \"titleFontSize\": 13, \"titleFontWeight\": \"normal\", \"labelFont\": \"Benton Gothic, sans\", \"labelFontSize\": 11.5, \"labelFontWeight\": \"normal\", \"grid\": false}, \"axisX\": {\"labelAngle\": 0, \"labelPadding\": 4, \"tickSize\": 3}, \"axisY\": {\"labelBaseline\": \"middle\", \"maxExtent\": 45, \"minExtent\": 45, \"tickSize\": 2, \"titleAlign\": \"left\", \"titleAngle\": 0, \"titleX\": -45, \"titleY\": -11}, \"legend\": {\"titleFont\": \"Benton Gothic Bold, sans\", \"titleFontSize\": 13, \"titleFontWeight\": \"normal\", \"symbolType\": \"square\", \"labelFont\": \"Benton Gothic, sans\", \"labelFontSize\": 11.5}, \"range\": {\"category\": [\"#3580b1\", \"#ec8431\", \"#ab7fb4\", \"#c89d29\", \"#adc839\", \"#829eb1\"], \"diverging\": [\"#e68a4f\", \"#f4bb6a\", \"#f9e39c\", \"#dadfe2\", \"#a6b7c6\", \"#849eae\"], \"heatmap\": [\"#fbf2c7\", \"#f9e39c\", \"#f8d36e\", \"#f4bb6a\", \"#e68a4f\", \"#d15a40\", \"#ab4232\"], \"ordinal\": [\"#fbf2c7\", \"#f9e39c\", \"#f8d36e\", \"#f4bb6a\", \"#e68a4f\", \"#d15a40\", \"#ab4232\"], \"ramp\": [\"#fbf2c7\", \"#f9e39c\", \"#f8d36e\", \"#f4bb6a\", \"#e68a4f\", \"#d15a40\", \"#ab4232\"]}}, \"data\": {\"name\": \"data-7c8b8837e3db213cb2339b0fa7827d31\"}, \"mark\": {\"type\": \"tick\", \"size\": 20, \"thickness\": 2}, \"encoding\": {\"x\": {\"type\": \"temporal\", \"axis\": {\"format\": \"%b\", \"tickColor\": \"#ffffff\", \"tickCount\": 12}, \"field\": \"date\", \"title\": \"\"}, \"y\": {\"type\": \"nominal\", \"axis\": {\"tickColor\": \"#ffffff\", \"tickCount\": 0}, \"field\": \"year\", \"title\": \" \"}}, \"height\": 40, \"width\": 320, \"$schema\": \"https://vega.github.io/schema/vega-lite/v4.0.2.json\", \"datasets\": {\"data-7c8b8837e3db213cb2339b0fa7827d31\": [{\"order\": 1, \"title\": \"Brotopia\", \"author\": \"Emily Chang\", \"pages\": 317, \"url\": \"https://www.goodreads.com/book/show/36288143-brotopia\", \"gender\": \"F\", \"type\": \"Non-Fiction\", \"subgenre\": \"Business\", \"avg_goodreads_rating\": 4.04, \"started\": \"2018-12-26T00:00:00\", \"date\": \"2019-01-06T00:00:00\", \"faves\": null, \"year\": \"2019\", \"days_to_read\": 11, \"gender_description\": \"Female\"}, {\"order\": 2, \"title\": \"The Human Stain\", \"author\": \"Philip Roth\", \"pages\": 384, \"url\": \"https://www.goodreads.com/book/show/11734.The_Human_Stain?from_search=true\", \"gender\": \"M\", \"type\": \"Fiction\", \"subgenre\": \"Literature\", \"avg_goodreads_rating\": 3.87, \"started\": \"2019-01-06T00:00:00\", \"date\": \"2019-01-16T00:00:00\", \"faves\": \"Y\", \"year\": \"2019\", \"days_to_read\": 10, \"gender_description\": \"Male\"}, {\"order\": 3, \"title\": \"You Know You Want This\", \"author\": \"Kristen Roupenian\", \"pages\": 225, \"url\": \"https://www.goodreads.com/book/show/40539045-you-know-you-want-this\", \"gender\": \"F\", \"type\": \"Fiction\", \"subgenre\": \"Short Stories\", \"avg_goodreads_rating\": 3.86, \"started\": \"2019-01-16T00:00:00\", \"date\": \"2019-01-19T00:00:00\", \"faves\": null, \"year\": \"2019\", \"days_to_read\": 3, \"gender_description\": \"Female\"}, {\"order\": 4, \"title\": \"Why Buddhism is True\", \"author\": \"Robert Wright\", \"pages\": 336, \"url\": \"https://www.goodreads.com/book/show/32895535-why-buddhism-is-true?from_search=true\", \"gender\": \"M\", \"type\": \"Non-Fiction\", \"subgenre\": \"Religion\", \"avg_goodreads_rating\": 4.05, \"started\": \"2019-01-18T00:00:00\", \"date\": \"2019-04-02T00:00:00\", \"faves\": null, \"year\": \"2019\", \"days_to_read\": 74, \"gender_description\": \"Male\"}, {\"order\": 5, \"title\": \"If Beale Street Could Talk\", \"author\": \"James Baldwin\", \"pages\": 197, \"url\": \"https://www.goodreads.com/book/show/38463.If_Beale_Street_Could_Talk\", \"gender\": \"M\", \"type\": \"Fiction\", \"subgenre\": \"Classics\", \"avg_goodreads_rating\": 4.29, \"started\": \"2019-01-22T00:00:00\", \"date\": \"2019-01-28T00:00:00\", \"faves\": null, \"year\": \"2019\", \"days_to_read\": 6, \"gender_description\": \"Male\"}, {\"order\": 6, \"title\": \"Nobody Cares\", \"author\": \"Anne Donahue\", \"pages\": 240, \"url\": \"https://www.goodreads.com/book/show/36360167-nobody-cares\", \"gender\": \"F\", \"type\": \"Non-Fiction\", \"subgenre\": \"Essays\", \"avg_goodreads_rating\": 3.67, \"started\": \"2019-02-03T00:00:00\", \"date\": \"2019-02-25T00:00:00\", \"faves\": null, \"year\": \"2019\", \"days_to_read\": 22, \"gender_description\": \"Female\"}, {\"order\": 7, \"title\": \"Acts of Infidelity\", \"author\": \"Lena Andersson\", \"pages\": 366, \"url\": \"https://www.goodreads.com/book/show/22601256-utan-personligt-ansvar\", \"gender\": \"F\", \"type\": \"Fiction\", \"subgenre\": \"Swedish Lit\", \"avg_goodreads_rating\": 3.66, \"started\": \"2019-02-01T00:00:00\", \"date\": \"2019-02-08T00:00:00\", \"faves\": null, \"year\": \"2019\", \"days_to_read\": 7, \"gender_description\": \"Female\"}, {\"order\": 8, \"title\": \"There Will Be No Miracles Here\", \"author\": \"Casey Gerald\", \"pages\": 394, \"url\": \"https://www.goodreads.com/book/show/38650651-there-will-be-no-miracles-here?from_search=true\", \"gender\": \"M\", \"type\": \"Non-Fiction\", \"subgenre\": \"Memoir\", \"avg_goodreads_rating\": 3.72, \"started\": \"2019-01-27T00:00:00\", \"date\": \"2019-02-11T00:00:00\", \"faves\": null, \"year\": \"2019\", \"days_to_read\": 15, \"gender_description\": \"Male\"}, {\"order\": 9, \"title\": \"The Unbearable Lightness of Being\", \"author\": \"Milan Kundera\", \"pages\": 320, \"url\": \"https://www.goodreads.com/book/show/9717.The_Unbearable_Lightness_of_Being?from_search=true\", \"gender\": \"M\", \"type\": \"Fiction\", \"subgenre\": \"Classics\", \"avg_goodreads_rating\": 4.09, \"started\": \"2019-02-16T00:00:00\", \"date\": \"2019-02-23T00:00:00\", \"faves\": null, \"year\": \"2019\", \"days_to_read\": 7, \"gender_description\": \"Male\"}, {\"order\": 10, \"title\": \"The Beauty Myth\", \"author\": \"Naomi Wolf\", \"pages\": 368, \"url\": \"https://www.goodreads.com/book/show/39926.The_Beauty_Myth\", \"gender\": \"F\", \"type\": \"Non-Fiction\", \"subgenre\": \"Feminism\", \"avg_goodreads_rating\": 3.9, \"started\": \"2019-02-12T00:00:00\", \"date\": \"2019-11-04T00:00:00\", \"faves\": null, \"year\": \"2019\", \"days_to_read\": 265, \"gender_description\": \"Female\"}, {\"order\": 11, \"title\": \"LOT\", \"author\": \"Bryan Washington\", \"pages\": 240, \"url\": \"https://www.goodreads.com/book/show/40749395-lot\", \"gender\": \"M\", \"type\": \"Fiction\", \"subgenre\": \"Short Stories\", \"avg_goodreads_rating\": 3.74, \"started\": \"2019-02-28T00:00:00\", \"date\": \"2019-03-15T00:00:00\", \"faves\": \"Y\", \"year\": \"2019\", \"days_to_read\": 15, \"gender_description\": \"Male\"}, {\"order\": 12, \"title\": \"Oculus\", \"author\": \"Sally Wen Mao\", \"pages\": 119, \"url\": \"https://www.goodreads.com/book/show/40121999-oculus\", \"gender\": \"F\", \"type\": \"Poetry\", \"subgenre\": \"Contemporary\", \"avg_goodreads_rating\": 4.22, \"started\": \"2019-03-03T00:00:00\", \"date\": \"2019-03-11T00:00:00\", \"faves\": null, \"year\": \"2019\", \"days_to_read\": 8, \"gender_description\": \"Female\"}, {\"order\": 13, \"title\": \"Homo Deus: A Brief History of Tomorrow\", \"author\": \"Yuval Harari\", \"pages\": 450, \"url\": \"https://www.goodreads.com/book/show/31138556-homo-deus?from_search=true\", \"gender\": \"M\", \"type\": \"Non-Fiction\", \"subgenre\": \"History\", \"avg_goodreads_rating\": 4.29, \"started\": \"2019-03-22T00:00:00\", \"date\": \"2019-04-19T00:00:00\", \"faves\": null, \"year\": \"2019\", \"days_to_read\": 28, \"gender_description\": \"Male\"}, {\"order\": 14, \"title\": \"Heart Berries\", \"author\": \"Terese Marie Mailhot\", \"pages\": 143, \"url\": \"https://www.goodreads.com/book/show/35840657-heart-berries\", \"gender\": \"F\", \"type\": \"Non-Fiction\", \"subgenre\": \"Memoir\", \"avg_goodreads_rating\": 3.89, \"started\": \"2019-04-03T00:00:00\", \"date\": \"2019-04-06T00:00:00\", \"faves\": null, \"year\": \"2019\", \"days_to_read\": 3, \"gender_description\": \"Female\"}, {\"order\": 15, \"title\": \"Lake Success\", \"author\": \"Gary Schneyngart\", \"pages\": 339, \"url\": \"https://www.goodreads.com/book/show/36739942-lake-success\", \"gender\": \"M\", \"type\": \"Fiction\", \"subgenre\": \"Contemporary\", \"avg_goodreads_rating\": 3.64, \"started\": \"2019-04-21T00:00:00\", \"date\": \"2019-12-07T00:00:00\", \"faves\": null, \"year\": \"2019\", \"days_to_read\": 230, \"gender_description\": \"Male\"}, {\"order\": 16, \"title\": \"Normal People\", \"author\": \"Sally Rooney\", \"pages\": 266, \"url\": \"https://www.goodreads.com/book/show/37539457-normal-people\", \"gender\": \"F\", \"type\": \"Fiction\", \"subgenre\": \"Contemporary\", \"avg_goodreads_rating\": 3.89, \"started\": \"2019-04-20T00:00:00\", \"date\": \"2019-04-21T00:00:00\", \"faves\": \"Y\", \"year\": \"2019\", \"days_to_read\": 1, \"gender_description\": \"Female\"}, {\"order\": 17, \"title\": \"Less\", \"author\": \"Andrew Sean Greer\", \"pages\": 273, \"url\": \"https://www.goodreads.com/book/show/39927096-less\", \"gender\": \"M\", \"type\": \"Fiction\", \"subgenre\": \"Contemporary\", \"avg_goodreads_rating\": 3.76, \"started\": \"2019-04-25T00:00:00\", \"date\": \"2019-05-08T00:00:00\", \"faves\": null, \"year\": \"2019\", \"days_to_read\": 13, \"gender_description\": \"Male\"}, {\"order\": 18, \"title\": \"Nobody is Ever Missing\", \"author\": \"Catherine Lacey\", \"pages\": 244, \"url\": \"https://www.goodreads.com/book/show/18490560-nobody-is-ever-missing?from_search=true\", \"gender\": \"F\", \"type\": \"Fiction\", \"subgenre\": \"Contemporary\", \"avg_goodreads_rating\": 3.27, \"started\": \"2019-05-08T00:00:00\", \"date\": \"2019-05-13T00:00:00\", \"faves\": null, \"year\": \"2019\", \"days_to_read\": 5, \"gender_description\": \"Female\"}, {\"order\": 19, \"title\": \"The New Me\", \"author\": \"Halle Butler\", \"pages\": 208, \"url\": \"https://www.goodreads.com/book/show/36342706-the-new-me\", \"gender\": \"F\", \"type\": \"Fiction\", \"subgenre\": \"Contemporary\", \"avg_goodreads_rating\": 3.6, \"started\": \"2019-05-13T00:00:00\", \"date\": \"2019-05-18T00:00:00\", \"faves\": \"Nope\", \"year\": \"2019\", \"days_to_read\": 5, \"gender_description\": \"Female\"}, {\"order\": 20, \"title\": \"The Empathy Exams\", \"author\": \"Leslie Jamison\", \"pages\": 226, \"url\": \"https://www.goodreads.com/en/book/show/17934655\", \"gender\": \"F\", \"type\": \"Non-Fiction\", \"subgenre\": \"Essays\", \"avg_goodreads_rating\": 3.64, \"started\": \"2019-05-18T00:00:00\", \"date\": \"2019-05-27T00:00:00\", \"faves\": null, \"year\": \"2019\", \"days_to_read\": 9, \"gender_description\": \"Female\"}, {\"order\": 21, \"title\": \"Bad Blood\", \"author\": \"John Carreyou\", \"pages\": 339, \"url\": \"https://www.goodreads.com/book/show/37976541-bad-blood?from_search=true\", \"gender\": \"M\", \"type\": \"Non-Fiction\", \"subgenre\": \"True Crime\", \"avg_goodreads_rating\": 4.48, \"started\": \"2019-06-01T00:00:00\", \"date\": \"2019-06-12T00:00:00\", \"faves\": null, \"year\": \"2019\", \"days_to_read\": 11, \"gender_description\": \"Male\"}, {\"order\": 22, \"title\": \"The Recovering: Intoxication and its Aftermath\", \"author\": \"Leslie Jamison\", \"pages\": 545, \"url\": \"https://www.goodreads.com/book/show/35959632-the-recovering\", \"gender\": \"F\", \"type\": \"Non-Fiction\", \"subgenre\": \"Memoir\", \"avg_goodreads_rating\": 3.96, \"started\": \"2019-05-27T00:00:00\", \"date\": \"2019-06-01T00:00:00\", \"faves\": \"Y\", \"year\": \"2019\", \"days_to_read\": 5, \"gender_description\": \"Female\"}, {\"order\": 23, \"title\": \"Evvie Drake Starts Over\", \"author\": \"Linda Holmes\", \"pages\": 304, \"url\": \"https://www.goodreads.com/book/show/40514431-evvie-drake-starts-over?ac=1&from_search=true\", \"gender\": \"F\", \"type\": \"Fiction\", \"subgenre\": \"Young Adult\", \"avg_goodreads_rating\": 4.22, \"started\": \"2019-06-30T00:00:00\", \"date\": \"2019-06-30T00:00:00\", \"faves\": null, \"year\": \"2019\", \"days_to_read\": 0, \"gender_description\": \"Female\"}, {\"order\": 24, \"title\": \"How to Change Your Mind\", \"author\": \"Michael Pollan\", \"pages\": 480, \"url\": \"https://www.goodreads.com/book/show/36613747-how-to-change-your-mind?from_search=true\", \"gender\": \"M\", \"type\": \"Non-Fiction\", \"subgenre\": \"Science\", \"avg_goodreads_rating\": 4.31, \"started\": \"2019-06-12T00:00:00\", \"date\": \"2019-10-18T00:00:00\", \"faves\": null, \"year\": \"2019\", \"days_to_read\": 128, \"gender_description\": \"Male\"}, {\"order\": 25, \"title\": \"Trust Exercise\", \"author\": \"Susan Choi\", \"pages\": 257, \"url\": \"https://www.goodreads.com/en/book/show/40046059\", \"gender\": \"F\", \"type\": \"Fiction\", \"subgenre\": \"Contemporary\", \"avg_goodreads_rating\": 3.23, \"started\": \"2019-06-12T00:00:00\", \"date\": \"2019-06-14T00:00:00\", \"faves\": \"Y\", \"year\": \"2019\", \"days_to_read\": 2, \"gender_description\": \"Female\"}, {\"order\": 26, \"title\": \"Trick Mirror\", \"author\": \"Jia Tolentino\", \"pages\": 256, \"url\": \"https://www.goodreads.com/book/show/43126457-trick-mirror?from_search=true\", \"gender\": \"F\", \"type\": \"Non-Fiction\", \"subgenre\": \"Essays\", \"avg_goodreads_rating\": 4.33, \"started\": \"2019-06-15T00:00:00\", \"date\": \"2019-06-30T00:00:00\", \"faves\": \"Y\", \"year\": \"2019\", \"days_to_read\": 15, \"gender_description\": \"Female\"}, {\"order\": 27, \"title\": \"Territory of Light\", \"author\": \"Yuko Tsushima\", \"pages\": 122, \"url\": \"https://www.goodreads.com/book/show/33871745-territory-of-light\", \"gender\": \"F\", \"type\": \"Fiction\", \"subgenre\": \"Japanese Lit\", \"avg_goodreads_rating\": 3.66, \"started\": \"2019-07-01T00:00:00\", \"date\": \"2019-07-06T00:00:00\", \"faves\": null, \"year\": \"2019\", \"days_to_read\": 5, \"gender_description\": \"Female\"}, {\"order\": 28, \"title\": \"Unclaimed Baggage\", \"author\": \"Jen Doll\", \"pages\": 384, \"url\": \"https://www.goodreads.com/book/show/36949992-unclaimed-baggage?ac=1&from_search=true\", \"gender\": \"F\", \"type\": \"Fiction\", \"subgenre\": \"Young Adult\", \"avg_goodreads_rating\": 3.73, \"started\": \"2019-01-08T00:00:00\", \"date\": \"2019-07-11T00:00:00\", \"faves\": null, \"year\": \"2019\", \"days_to_read\": 184, \"gender_description\": \"Female\"}, {\"order\": 29, \"title\": \"Fleishman Is In Trouble\", \"author\": \"Taffy Brodesser-Akner\", \"pages\": 384, \"url\": \"https://www.goodreads.com/book/show/41880602-fleishman-is-in-trouble?ac=1&from_search=true\", \"gender\": \"F\", \"type\": \"Fiction\", \"subgenre\": \"Contemporary\", \"avg_goodreads_rating\": 4.1, \"started\": \"2019-06-17T00:00:00\", \"date\": \"2019-06-28T00:00:00\", \"faves\": \"Y\", \"year\": \"2019\", \"days_to_read\": 11, \"gender_description\": \"Female\"}, {\"order\": 30, \"title\": \"Lifespan\", \"author\": \"David Sinclair\", \"pages\": 432, \"url\": \"https://www.goodreads.com/book/show/43723901-lifespan?ac=1&from_search=true\", \"gender\": \"M\", \"type\": \"Non-Fiction\", \"subgenre\": \"Science\", \"avg_goodreads_rating\": 4.27, \"started\": \"2019-07-01T00:00:00\", \"date\": \"2019-07-18T00:00:00\", \"faves\": null, \"year\": \"2019\", \"days_to_read\": 17, \"gender_description\": \"Male\"}, {\"order\": 31, \"title\": \"Uncanny Valley\", \"author\": \"Anna Wiener\", \"pages\": 304, \"url\": \"https://www.goodreads.com/book/show/45186565-uncanny-valley?ac=1&from_search=true\", \"gender\": \"F\", \"type\": \"Non-Fiction\", \"subgenre\": \"Memoir\", \"avg_goodreads_rating\": 4.2, \"started\": \"2019-07-19T00:00:00\", \"date\": \"2019-07-21T00:00:00\", \"faves\": \"y\", \"year\": \"2019\", \"days_to_read\": 2, \"gender_description\": \"Female\"}, {\"order\": 32, \"title\": \"Hit Makers\", \"author\": \"Derek Thompson\", \"pages\": 352, \"url\": \"https://www.goodreads.com/book/show/30901608-hit-makers\", \"gender\": \"M\", \"type\": \"Non-Fiction\", \"subgenre\": \"Pop Culture\", \"avg_goodreads_rating\": 3.95, \"started\": \"2019-07-20T00:00:00\", \"date\": \"2019-08-06T00:00:00\", \"faves\": null, \"year\": \"2019\", \"days_to_read\": 17, \"gender_description\": \"Male\"}, {\"order\": 33, \"title\": \"Genghis Khan and the Making of the Modern World\", \"author\": \"Jack Weatherford\", \"pages\": 352, \"url\": \"https://www.goodreads.com/book/show/40718726-genghis-khan-and-the-making-of-the-modern-world?ac=1&from_search=true\", \"gender\": \"M\", \"type\": \"Non-Fiction\", \"subgenre\": \"History\", \"avg_goodreads_rating\": 4.02, \"started\": \"2019-07-25T00:00:00\", \"date\": \"2019-09-07T00:00:00\", \"faves\": null, \"year\": \"2019\", \"days_to_read\": 44, \"gender_description\": \"Male\"}, {\"order\": 34, \"title\": \"For the Love of Men: A New Vision for Mindful Masculinity\", \"author\": \"Liz Plank\", \"pages\": 300, \"url\": \"https://www.goodreads.com/book/show/43263540-for-the-love-of-men\", \"gender\": \"F\", \"type\": \"Non-Fiction\", \"subgenre\": \"Feminism\", \"avg_goodreads_rating\": 4.38, \"started\": \"2019-07-23T00:00:00\", \"date\": \"2019-08-02T00:00:00\", \"faves\": null, \"year\": \"2019\", \"days_to_read\": 10, \"gender_description\": \"Female\"}, {\"order\": 35, \"title\": \"Three Women\", \"author\": \"Lisa Taddeo\", \"pages\": 304, \"url\": \"https://www.goodreads.com/book/show/42201100-three-women\", \"gender\": \"F\", \"type\": \"Non-Fiction\", \"subgenre\": \"Feminism\", \"avg_goodreads_rating\": 3.87, \"started\": \"2019-08-15T00:00:00\", \"date\": \"2019-08-22T00:00:00\", \"faves\": \"y\", \"year\": \"2019\", \"days_to_read\": 7, \"gender_description\": \"Female\"}, {\"order\": 36, \"title\": \"Brave New World\", \"author\": \"Aldous Huxley\", \"pages\": 288, \"url\": \"https://www.goodreads.com/book/show/5129.Brave_New_World?ac=1&from_search=true\", \"gender\": \"M\", \"type\": \"Fiction\", \"subgenre\": \"Science \", \"avg_goodreads_rating\": 3.98, \"started\": \"2019-09-15T00:00:00\", \"date\": \"2019-09-16T00:00:00\", \"faves\": null, \"year\": \"2019\", \"days_to_read\": 1, \"gender_description\": \"Male\"}, {\"order\": 37, \"title\": \"Permanent Record\", \"author\": \"Mary HK Choi\", \"pages\": 400, \"url\": \"https://www.goodreads.com/book/show/43562239-permanent-record?from_search=true\", \"gender\": \"F\", \"type\": \"Fiction\", \"subgenre\": \"Young Adult\", \"avg_goodreads_rating\": 3.84, \"started\": \"2019-09-07T00:00:00\", \"date\": \"2019-09-11T00:00:00\", \"faves\": null, \"year\": \"2019\", \"days_to_read\": 4, \"gender_description\": \"Female\"}, {\"order\": 38, \"title\": \"I Was Their American Dream\", \"author\": \"Malaka Gharib\", \"pages\": 160, \"url\": \"https://www.goodreads.com/book/show/40909448-i-was-their-american-dream?from_search=true\", \"gender\": \"F\", \"type\": \"Non-Fiction\", \"subgenre\": \"Graphic Novel\", \"avg_goodreads_rating\": 4.3, \"started\": \"2019-09-05T00:00:00\", \"date\": \"2019-09-12T00:00:00\", \"faves\": null, \"year\": \"2019\", \"days_to_read\": 7, \"gender_description\": \"Female\"}, {\"order\": 39, \"title\": \"Men Without Women\", \"author\": \"Haruki Murakami\", \"pages\": 242, \"url\": \"https://www.goodreads.com/book/show/31950871-men-without-women\", \"gender\": \"M\", \"type\": \"Fiction\", \"subgenre\": \"Short Stories\", \"avg_goodreads_rating\": 3.77, \"started\": \"2019-09-18T00:00:00\", \"date\": \"2019-09-25T00:00:00\", \"faves\": null, \"year\": \"2019\", \"days_to_read\": 7, \"gender_description\": \"Male\"}, {\"order\": 40, \"title\": \"Make it Scream Make it Burn\", \"author\": \"Leslie Jamison\", \"pages\": 272, \"url\": \"https://www.goodreads.com/book/show/43521617-make-it-scream-make-it-burn?from_search=true\", \"gender\": \"F\", \"type\": \"Non-Fiction\", \"subgenre\": \"Essays\", \"avg_goodreads_rating\": 4.13, \"started\": \"2019-10-02T00:00:00\", \"date\": \"2019-10-06T00:00:00\", \"faves\": null, \"year\": \"2019\", \"days_to_read\": 4, \"gender_description\": \"Female\"}, {\"order\": 41, \"title\": \"How to Talk So Your Kids Will Listen\", \"author\": \"Adele Faber and Elaine Mazlish\", \"pages\": 368, \"url\": \"https://www.goodreads.com/book/show/12371502-how-to-talk-so-kids-will-listen-listen-so-kids-will-talk\", \"gender\": \"F\", \"type\": \"Non-Fiction\", \"subgenre\": \"Parenting\", \"avg_goodreads_rating\": 4.26, \"started\": \"2019-09-28T00:00:00\", \"date\": \"2019-10-02T00:00:00\", \"faves\": \"Y\", \"year\": \"2019\", \"days_to_read\": 4, \"gender_description\": \"Female\"}, {\"order\": 43, \"title\": \"Maybe You Should Talk to Somebody\", \"author\": \"Lori Gottlieb\", \"pages\": 432, \"url\": \"https://www.goodreads.com/book/show/37570546-maybe-you-should-talk-to-someone?from_search=true\", \"gender\": \"F\", \"type\": \"Non-Fiction\", \"subgenre\": \"Memoir\", \"avg_goodreads_rating\": 4.4, \"started\": \"2019-10-18T00:00:00\", \"date\": \"2019-11-25T00:00:00\", \"faves\": \"Y\", \"year\": \"2019\", \"days_to_read\": 38, \"gender_description\": \"Female\"}, {\"order\": 44, \"title\": \"Think Like Your Editor\", \"author\": \"Susan Rabiner\", \"pages\": 288, \"url\": \"https://www.goodreads.com/book/show/18988615-thinking-like-your-editor?utm_content=review_cta_book_image&utm_medium=email&utm_source=bookend\", \"gender\": \"F\", \"type\": \"Non-Fiction\", \"subgenre\": \"Writing\", \"avg_goodreads_rating\": 4.04, \"started\": \"2019-10-24T00:00:00\", \"date\": \"2019-10-28T00:00:00\", \"faves\": null, \"year\": \"2019\", \"days_to_read\": 4, \"gender_description\": \"Female\"}, {\"order\": 45, \"title\": \"Kim Ji Young Born 1982\", \"author\": \"Cho Nam-joo\", \"pages\": 144, \"url\": \"https://www.goodreads.com/book/show/47320138-kim-ji-young-born-1982?ac=1&from_search=true\", \"gender\": \"F\", \"type\": \"Fiction\", \"subgenre\": \"Feminism\", \"avg_goodreads_rating\": 4.17, \"started\": \"2019-10-28T00:00:00\", \"date\": \"2019-10-31T00:00:00\", \"faves\": null, \"year\": \"2019\", \"days_to_read\": 3, \"gender_description\": \"Female\"}, {\"order\": 46, \"title\": \"Superman vs the KKK\", \"author\": \"Rick Bowers\", \"pages\": 160, \"url\": \"https://www.goodreads.com/book/show/11407829-superman-versus-the-ku-klux-klan?from_search=true\", \"gender\": \"M\", \"type\": \"Non-Fiction\", \"subgenre\": \"History\", \"avg_goodreads_rating\": 3.66, \"started\": \"2019-10-28T00:00:00\", \"date\": \"2019-10-29T00:00:00\", \"faves\": null, \"year\": \"2019\", \"days_to_read\": 1, \"gender_description\": \"Male\"}, {\"order\": 47, \"title\": \"The Likeability Trap\", \"author\": \"Alicia Menendez\", \"pages\": 240, \"url\": \"https://www.goodreads.com/book/show/46408581-the-likeability-trap?from_search=true&qid=oURYa3fiGo&rank=1\", \"gender\": \"F\", \"type\": \"Non-Fiction\", \"subgenre\": \"Feminism\", \"avg_goodreads_rating\": 3.7, \"started\": \"2019-11-08T00:00:00\", \"date\": \"2019-11-13T00:00:00\", \"faves\": null, \"year\": \"2019\", \"days_to_read\": 5, \"gender_description\": \"Female\"}, {\"order\": 48, \"title\": \"A Short HIstory of Progress\", \"author\": \"Ronald Wright\", \"pages\": 224, \"url\": \"https://www.goodreads.com/book/show/331227.A_Short_History_of_Progress?from_search=true&qid=supt2TGSOt&rank=1\", \"gender\": \"M\", \"type\": \"Non-Fiction\", \"subgenre\": \"History\", \"avg_goodreads_rating\": 4.1, \"started\": \"2019-11-13T00:00:00\", \"date\": \"2019-11-29T00:00:00\", \"faves\": null, \"year\": \"2019\", \"days_to_read\": 16, \"gender_description\": \"Male\"}, {\"order\": 49, \"title\": \"The Last Romantics\", \"author\": \"Tara Conklin\", \"pages\": 368, \"url\": \"https://www.goodreads.com/book/show/35068465-the-last-romantics?ac=1&from_search=true&qid=dert731j6D&rank=1\", \"gender\": \"F\", \"type\": \"Fiction\", \"subgenre\": \"Contemporary\", \"avg_goodreads_rating\": 3.78, \"started\": \"2019-11-29T00:00:00\", \"date\": \"2019-12-02T00:00:00\", \"faves\": \"Y\", \"year\": \"2019\", \"days_to_read\": 3, \"gender_description\": \"Female\"}, {\"order\": 50, \"title\": \"Four Soldiers\", \"author\": \"Hubert Mingarelli\", \"pages\": 160, \"url\": \"https://www.goodreads.com/book/show/41557466-four-soldiers?from_search=true&qid=tFOQALgbWg&rank=1\", \"gender\": \"F\", \"type\": \"Fiction\", \"subgenre\": \"Historical\", \"avg_goodreads_rating\": 3.78, \"started\": \"2019-11-29T00:00:00\", \"date\": \"2019-12-03T00:00:00\", \"faves\": null, \"year\": \"2019\", \"days_to_read\": 4, \"gender_description\": \"Female\"}, {\"order\": 51, \"title\": \"Working\", \"author\": \"Robert Caro\", \"pages\": 231, \"url\": \"https://www.goodreads.com/book/show/43205240-working?from_search=true&qid=51xloY5uTL&rank=1\", \"gender\": \"M\", \"type\": \"Non-Fiction\", \"subgenre\": \"Writing\", \"avg_goodreads_rating\": 4.43, \"started\": \"2019-12-15T00:00:00\", \"date\": \"2019-12-18T00:00:00\", \"faves\": null, \"year\": \"2019\", \"days_to_read\": 3, \"gender_description\": \"Male\"}, {\"order\": 52, \"title\": \"The Incendiaries\", \"author\": \"R.O. Kwon\", \"pages\": 214, \"url\": \"https://www.goodreads.com/book/show/36679056-the-incendiaries\", \"gender\": \"F\", \"type\": \"Fiction\", \"subgenre\": \"Contemporary\", \"avg_goodreads_rating\": 3.28, \"started\": \"2019-12-19T00:00:00\", \"date\": \"2019-12-19T00:00:00\", \"faves\": null, \"year\": \"2019\", \"days_to_read\": 0, \"gender_description\": \"Female\"}, {\"order\": 53, \"title\": \"Wedding Toasts I'll Never Give\", \"author\": \"Ada Calhoun\", \"pages\": 192, \"url\": \"https://www.goodreads.com/book/show/36236126-wedding-toasts-i-ll-never-give\", \"gender\": \"F\", \"type\": \"Non-Fiction\", \"subgenre\": \"Essays\", \"avg_goodreads_rating\": 3.86, \"started\": \"2019-12-26T00:00:00\", \"date\": \"2019-12-27T00:00:00\", \"faves\": null, \"year\": \"2019\", \"days_to_read\": 1, \"gender_description\": \"Female\"}]}}, {\"mode\": \"vega-lite\"});\n",
       "</script>"
      ],
      "text/plain": [
       "alt.Chart(...)"
      ]
     },
     "execution_count": 16,
     "metadata": {},
     "output_type": "execute_result"
    }
   ],
   "source": [
    "# MOBILE \n",
    "alt.Chart(books).mark_tick(thickness=2,size=20).encode(\n",
    "    x=alt.X('date',axis=alt.Axis(tickCount=12, format='%b', tickColor='#ffffff'), title=''),\n",
    "    y=alt.Y('year',axis=alt.Axis(tickCount=0, tickColor='#ffffff'), title=' ')\n",
    ").configure_axis(\n",
    "    grid=False).properties(height=40, width=320)"
   ]
  },
  {
   "cell_type": "markdown",
   "metadata": {},
   "source": [
    "### Tinkering with more designs for books read by subgenre and month"
   ]
  },
  {
   "cell_type": "code",
   "execution_count": 17,
   "metadata": {},
   "outputs": [
    {
     "data": {
      "text/html": [
       "\n",
       "<div id=\"altair-viz-0596f9d6518f4cc0b0e6d474fe5542ff\"></div>\n",
       "<script type=\"text/javascript\">\n",
       "  (function(spec, embedOpt){\n",
       "    const outputDiv = document.getElementById(\"altair-viz-0596f9d6518f4cc0b0e6d474fe5542ff\");\n",
       "    const paths = {\n",
       "      \"vega\": \"https://cdn.jsdelivr.net/npm//vega@5?noext\",\n",
       "      \"vega-lib\": \"https://cdn.jsdelivr.net/npm//vega-lib?noext\",\n",
       "      \"vega-lite\": \"https://cdn.jsdelivr.net/npm//vega-lite@4.0.2?noext\",\n",
       "      \"vega-embed\": \"https://cdn.jsdelivr.net/npm//vega-embed@6?noext\",\n",
       "    };\n",
       "\n",
       "    function loadScript(lib) {\n",
       "      return new Promise(function(resolve, reject) {\n",
       "        var s = document.createElement('script');\n",
       "        s.src = paths[lib];\n",
       "        s.async = true;\n",
       "        s.onload = () => resolve(paths[lib]);\n",
       "        s.onerror = () => reject(`Error loading script: ${paths[lib]}`);\n",
       "        document.getElementsByTagName(\"head\")[0].appendChild(s);\n",
       "      });\n",
       "    }\n",
       "\n",
       "    function showError(err) {\n",
       "      outputDiv.innerHTML = `<div class=\"error\" style=\"color:red;\">${err}</div>`;\n",
       "      throw err;\n",
       "    }\n",
       "\n",
       "    function displayChart(vegaEmbed) {\n",
       "      vegaEmbed(outputDiv, spec, embedOpt)\n",
       "        .catch(err => showError(`Javascript Error: ${err.message}<br>This usually means there's a typo in your chart specification. See the javascript console for the full traceback.`));\n",
       "    }\n",
       "\n",
       "    if(typeof define === \"function\" && define.amd) {\n",
       "      requirejs.config({paths});\n",
       "      require([\"vega-embed\"], displayChart, err => showError(`Error loading script: ${err.message}`));\n",
       "    } else if (typeof vegaEmbed === \"function\") {\n",
       "      displayChart(vegaEmbed);\n",
       "    } else {\n",
       "      loadScript(\"vega\")\n",
       "        .then(() => loadScript(\"vega-lite\"))\n",
       "        .then(() => loadScript(\"vega-embed\"))\n",
       "        .catch(showError)\n",
       "        .then(() => displayChart(vegaEmbed));\n",
       "    }\n",
       "  })({\"config\": {\"view\": {\"width\": 800, \"height\": 450}, \"background\": \"#ffffff\", \"title\": {\"anchor\": \"start\", \"font\": \"Benton Gothic Bold, sans\", \"fontColor\": \"#000000\", \"fontSize\": 22, \"fontWeight\": \"normal\"}, \"arc\": {\"fill\": \"#82c6df\"}, \"area\": {\"fill\": \"#82c6df\"}, \"line\": {\"stroke\": \"#82c6df\", \"strokeWidth\": 3}, \"path\": {\"stroke\": \"#82c6df\"}, \"rect\": {\"fill\": \"#82c6df\"}, \"shape\": {\"stroke\": \"#82c6df\"}, \"bar\": {\"fill\": \"#82c6df\"}, \"point\": {\"stroke\": \"#82c6df\"}, \"symbol\": {\"fill\": \"#82c6df\", \"size\": 30}, \"axis\": {\"titleFont\": \"Benton Gothic Bold, sans\", \"titleFontSize\": 13, \"titleFontWeight\": \"normal\", \"labelFont\": \"Benton Gothic, sans\", \"labelFontSize\": 11.5, \"labelFontWeight\": \"normal\", \"grid\": false}, \"axisX\": {\"labelAngle\": 0, \"labelPadding\": 4, \"tickSize\": 3}, \"axisY\": {\"labelBaseline\": \"middle\", \"maxExtent\": 45, \"minExtent\": 45, \"tickSize\": 2, \"titleAlign\": \"left\", \"titleAngle\": 0, \"titleX\": -45, \"titleY\": -11}, \"legend\": {\"titleFont\": \"Benton Gothic Bold, sans\", \"titleFontSize\": 13, \"titleFontWeight\": \"normal\", \"symbolType\": \"square\", \"labelFont\": \"Benton Gothic, sans\", \"labelFontSize\": 11.5}, \"range\": {\"category\": [\"#3580b1\", \"#ec8431\", \"#ab7fb4\", \"#c89d29\", \"#adc839\", \"#829eb1\"], \"diverging\": [\"#e68a4f\", \"#f4bb6a\", \"#f9e39c\", \"#dadfe2\", \"#a6b7c6\", \"#849eae\"], \"heatmap\": [\"#fbf2c7\", \"#f9e39c\", \"#f8d36e\", \"#f4bb6a\", \"#e68a4f\", \"#d15a40\", \"#ab4232\"], \"ordinal\": [\"#fbf2c7\", \"#f9e39c\", \"#f8d36e\", \"#f4bb6a\", \"#e68a4f\", \"#d15a40\", \"#ab4232\"], \"ramp\": [\"#fbf2c7\", \"#f9e39c\", \"#f8d36e\", \"#f4bb6a\", \"#e68a4f\", \"#d15a40\", \"#ab4232\"]}}, \"data\": {\"name\": \"data-7c8b8837e3db213cb2339b0fa7827d31\"}, \"mark\": {\"type\": \"tick\", \"size\": 10, \"thickness\": 3}, \"encoding\": {\"x\": {\"type\": \"temporal\", \"axis\": {\"format\": \"%b\", \"tickColor\": \"#ffffff\", \"tickCount\": 12}, \"field\": \"date\", \"title\": \"\"}, \"y\": {\"type\": \"nominal\", \"axis\": {\"tickColor\": \"#ffffff\", \"tickCount\": 0}, \"field\": \"subgenre\", \"title\": \" \"}}, \"height\": 400, \"width\": 700, \"$schema\": \"https://vega.github.io/schema/vega-lite/v4.0.2.json\", \"datasets\": {\"data-7c8b8837e3db213cb2339b0fa7827d31\": [{\"order\": 1, \"title\": \"Brotopia\", \"author\": \"Emily Chang\", \"pages\": 317, \"url\": \"https://www.goodreads.com/book/show/36288143-brotopia\", \"gender\": \"F\", \"type\": \"Non-Fiction\", \"subgenre\": \"Business\", \"avg_goodreads_rating\": 4.04, \"started\": \"2018-12-26T00:00:00\", \"date\": \"2019-01-06T00:00:00\", \"faves\": null, \"year\": \"2019\", \"days_to_read\": 11, \"gender_description\": \"Female\"}, {\"order\": 2, \"title\": \"The Human Stain\", \"author\": \"Philip Roth\", \"pages\": 384, \"url\": \"https://www.goodreads.com/book/show/11734.The_Human_Stain?from_search=true\", \"gender\": \"M\", \"type\": \"Fiction\", \"subgenre\": \"Literature\", \"avg_goodreads_rating\": 3.87, \"started\": \"2019-01-06T00:00:00\", \"date\": \"2019-01-16T00:00:00\", \"faves\": \"Y\", \"year\": \"2019\", \"days_to_read\": 10, \"gender_description\": \"Male\"}, {\"order\": 3, \"title\": \"You Know You Want This\", \"author\": \"Kristen Roupenian\", \"pages\": 225, \"url\": \"https://www.goodreads.com/book/show/40539045-you-know-you-want-this\", \"gender\": \"F\", \"type\": \"Fiction\", \"subgenre\": \"Short Stories\", \"avg_goodreads_rating\": 3.86, \"started\": \"2019-01-16T00:00:00\", \"date\": \"2019-01-19T00:00:00\", \"faves\": null, \"year\": \"2019\", \"days_to_read\": 3, \"gender_description\": \"Female\"}, {\"order\": 4, \"title\": \"Why Buddhism is True\", \"author\": \"Robert Wright\", \"pages\": 336, \"url\": \"https://www.goodreads.com/book/show/32895535-why-buddhism-is-true?from_search=true\", \"gender\": \"M\", \"type\": \"Non-Fiction\", \"subgenre\": \"Religion\", \"avg_goodreads_rating\": 4.05, \"started\": \"2019-01-18T00:00:00\", \"date\": \"2019-04-02T00:00:00\", \"faves\": null, \"year\": \"2019\", \"days_to_read\": 74, \"gender_description\": \"Male\"}, {\"order\": 5, \"title\": \"If Beale Street Could Talk\", \"author\": \"James Baldwin\", \"pages\": 197, \"url\": \"https://www.goodreads.com/book/show/38463.If_Beale_Street_Could_Talk\", \"gender\": \"M\", \"type\": \"Fiction\", \"subgenre\": \"Classics\", \"avg_goodreads_rating\": 4.29, \"started\": \"2019-01-22T00:00:00\", \"date\": \"2019-01-28T00:00:00\", \"faves\": null, \"year\": \"2019\", \"days_to_read\": 6, \"gender_description\": \"Male\"}, {\"order\": 6, \"title\": \"Nobody Cares\", \"author\": \"Anne Donahue\", \"pages\": 240, \"url\": \"https://www.goodreads.com/book/show/36360167-nobody-cares\", \"gender\": \"F\", \"type\": \"Non-Fiction\", \"subgenre\": \"Essays\", \"avg_goodreads_rating\": 3.67, \"started\": \"2019-02-03T00:00:00\", \"date\": \"2019-02-25T00:00:00\", \"faves\": null, \"year\": \"2019\", \"days_to_read\": 22, \"gender_description\": \"Female\"}, {\"order\": 7, \"title\": \"Acts of Infidelity\", \"author\": \"Lena Andersson\", \"pages\": 366, \"url\": \"https://www.goodreads.com/book/show/22601256-utan-personligt-ansvar\", \"gender\": \"F\", \"type\": \"Fiction\", \"subgenre\": \"Swedish Lit\", \"avg_goodreads_rating\": 3.66, \"started\": \"2019-02-01T00:00:00\", \"date\": \"2019-02-08T00:00:00\", \"faves\": null, \"year\": \"2019\", \"days_to_read\": 7, \"gender_description\": \"Female\"}, {\"order\": 8, \"title\": \"There Will Be No Miracles Here\", \"author\": \"Casey Gerald\", \"pages\": 394, \"url\": \"https://www.goodreads.com/book/show/38650651-there-will-be-no-miracles-here?from_search=true\", \"gender\": \"M\", \"type\": \"Non-Fiction\", \"subgenre\": \"Memoir\", \"avg_goodreads_rating\": 3.72, \"started\": \"2019-01-27T00:00:00\", \"date\": \"2019-02-11T00:00:00\", \"faves\": null, \"year\": \"2019\", \"days_to_read\": 15, \"gender_description\": \"Male\"}, {\"order\": 9, \"title\": \"The Unbearable Lightness of Being\", \"author\": \"Milan Kundera\", \"pages\": 320, \"url\": \"https://www.goodreads.com/book/show/9717.The_Unbearable_Lightness_of_Being?from_search=true\", \"gender\": \"M\", \"type\": \"Fiction\", \"subgenre\": \"Classics\", \"avg_goodreads_rating\": 4.09, \"started\": \"2019-02-16T00:00:00\", \"date\": \"2019-02-23T00:00:00\", \"faves\": null, \"year\": \"2019\", \"days_to_read\": 7, \"gender_description\": \"Male\"}, {\"order\": 10, \"title\": \"The Beauty Myth\", \"author\": \"Naomi Wolf\", \"pages\": 368, \"url\": \"https://www.goodreads.com/book/show/39926.The_Beauty_Myth\", \"gender\": \"F\", \"type\": \"Non-Fiction\", \"subgenre\": \"Feminism\", \"avg_goodreads_rating\": 3.9, \"started\": \"2019-02-12T00:00:00\", \"date\": \"2019-11-04T00:00:00\", \"faves\": null, \"year\": \"2019\", \"days_to_read\": 265, \"gender_description\": \"Female\"}, {\"order\": 11, \"title\": \"LOT\", \"author\": \"Bryan Washington\", \"pages\": 240, \"url\": \"https://www.goodreads.com/book/show/40749395-lot\", \"gender\": \"M\", \"type\": \"Fiction\", \"subgenre\": \"Short Stories\", \"avg_goodreads_rating\": 3.74, \"started\": \"2019-02-28T00:00:00\", \"date\": \"2019-03-15T00:00:00\", \"faves\": \"Y\", \"year\": \"2019\", \"days_to_read\": 15, \"gender_description\": \"Male\"}, {\"order\": 12, \"title\": \"Oculus\", \"author\": \"Sally Wen Mao\", \"pages\": 119, \"url\": \"https://www.goodreads.com/book/show/40121999-oculus\", \"gender\": \"F\", \"type\": \"Poetry\", \"subgenre\": \"Contemporary\", \"avg_goodreads_rating\": 4.22, \"started\": \"2019-03-03T00:00:00\", \"date\": \"2019-03-11T00:00:00\", \"faves\": null, \"year\": \"2019\", \"days_to_read\": 8, \"gender_description\": \"Female\"}, {\"order\": 13, \"title\": \"Homo Deus: A Brief History of Tomorrow\", \"author\": \"Yuval Harari\", \"pages\": 450, \"url\": \"https://www.goodreads.com/book/show/31138556-homo-deus?from_search=true\", \"gender\": \"M\", \"type\": \"Non-Fiction\", \"subgenre\": \"History\", \"avg_goodreads_rating\": 4.29, \"started\": \"2019-03-22T00:00:00\", \"date\": \"2019-04-19T00:00:00\", \"faves\": null, \"year\": \"2019\", \"days_to_read\": 28, \"gender_description\": \"Male\"}, {\"order\": 14, \"title\": \"Heart Berries\", \"author\": \"Terese Marie Mailhot\", \"pages\": 143, \"url\": \"https://www.goodreads.com/book/show/35840657-heart-berries\", \"gender\": \"F\", \"type\": \"Non-Fiction\", \"subgenre\": \"Memoir\", \"avg_goodreads_rating\": 3.89, \"started\": \"2019-04-03T00:00:00\", \"date\": \"2019-04-06T00:00:00\", \"faves\": null, \"year\": \"2019\", \"days_to_read\": 3, \"gender_description\": \"Female\"}, {\"order\": 15, \"title\": \"Lake Success\", \"author\": \"Gary Schneyngart\", \"pages\": 339, \"url\": \"https://www.goodreads.com/book/show/36739942-lake-success\", \"gender\": \"M\", \"type\": \"Fiction\", \"subgenre\": \"Contemporary\", \"avg_goodreads_rating\": 3.64, \"started\": \"2019-04-21T00:00:00\", \"date\": \"2019-12-07T00:00:00\", \"faves\": null, \"year\": \"2019\", \"days_to_read\": 230, \"gender_description\": \"Male\"}, {\"order\": 16, \"title\": \"Normal People\", \"author\": \"Sally Rooney\", \"pages\": 266, \"url\": \"https://www.goodreads.com/book/show/37539457-normal-people\", \"gender\": \"F\", \"type\": \"Fiction\", \"subgenre\": \"Contemporary\", \"avg_goodreads_rating\": 3.89, \"started\": \"2019-04-20T00:00:00\", \"date\": \"2019-04-21T00:00:00\", \"faves\": \"Y\", \"year\": \"2019\", \"days_to_read\": 1, \"gender_description\": \"Female\"}, {\"order\": 17, \"title\": \"Less\", \"author\": \"Andrew Sean Greer\", \"pages\": 273, \"url\": \"https://www.goodreads.com/book/show/39927096-less\", \"gender\": \"M\", \"type\": \"Fiction\", \"subgenre\": \"Contemporary\", \"avg_goodreads_rating\": 3.76, \"started\": \"2019-04-25T00:00:00\", \"date\": \"2019-05-08T00:00:00\", \"faves\": null, \"year\": \"2019\", \"days_to_read\": 13, \"gender_description\": \"Male\"}, {\"order\": 18, \"title\": \"Nobody is Ever Missing\", \"author\": \"Catherine Lacey\", \"pages\": 244, \"url\": \"https://www.goodreads.com/book/show/18490560-nobody-is-ever-missing?from_search=true\", \"gender\": \"F\", \"type\": \"Fiction\", \"subgenre\": \"Contemporary\", \"avg_goodreads_rating\": 3.27, \"started\": \"2019-05-08T00:00:00\", \"date\": \"2019-05-13T00:00:00\", \"faves\": null, \"year\": \"2019\", \"days_to_read\": 5, \"gender_description\": \"Female\"}, {\"order\": 19, \"title\": \"The New Me\", \"author\": \"Halle Butler\", \"pages\": 208, \"url\": \"https://www.goodreads.com/book/show/36342706-the-new-me\", \"gender\": \"F\", \"type\": \"Fiction\", \"subgenre\": \"Contemporary\", \"avg_goodreads_rating\": 3.6, \"started\": \"2019-05-13T00:00:00\", \"date\": \"2019-05-18T00:00:00\", \"faves\": \"Nope\", \"year\": \"2019\", \"days_to_read\": 5, \"gender_description\": \"Female\"}, {\"order\": 20, \"title\": \"The Empathy Exams\", \"author\": \"Leslie Jamison\", \"pages\": 226, \"url\": \"https://www.goodreads.com/en/book/show/17934655\", \"gender\": \"F\", \"type\": \"Non-Fiction\", \"subgenre\": \"Essays\", \"avg_goodreads_rating\": 3.64, \"started\": \"2019-05-18T00:00:00\", \"date\": \"2019-05-27T00:00:00\", \"faves\": null, \"year\": \"2019\", \"days_to_read\": 9, \"gender_description\": \"Female\"}, {\"order\": 21, \"title\": \"Bad Blood\", \"author\": \"John Carreyou\", \"pages\": 339, \"url\": \"https://www.goodreads.com/book/show/37976541-bad-blood?from_search=true\", \"gender\": \"M\", \"type\": \"Non-Fiction\", \"subgenre\": \"True Crime\", \"avg_goodreads_rating\": 4.48, \"started\": \"2019-06-01T00:00:00\", \"date\": \"2019-06-12T00:00:00\", \"faves\": null, \"year\": \"2019\", \"days_to_read\": 11, \"gender_description\": \"Male\"}, {\"order\": 22, \"title\": \"The Recovering: Intoxication and its Aftermath\", \"author\": \"Leslie Jamison\", \"pages\": 545, \"url\": \"https://www.goodreads.com/book/show/35959632-the-recovering\", \"gender\": \"F\", \"type\": \"Non-Fiction\", \"subgenre\": \"Memoir\", \"avg_goodreads_rating\": 3.96, \"started\": \"2019-05-27T00:00:00\", \"date\": \"2019-06-01T00:00:00\", \"faves\": \"Y\", \"year\": \"2019\", \"days_to_read\": 5, \"gender_description\": \"Female\"}, {\"order\": 23, \"title\": \"Evvie Drake Starts Over\", \"author\": \"Linda Holmes\", \"pages\": 304, \"url\": \"https://www.goodreads.com/book/show/40514431-evvie-drake-starts-over?ac=1&from_search=true\", \"gender\": \"F\", \"type\": \"Fiction\", \"subgenre\": \"Young Adult\", \"avg_goodreads_rating\": 4.22, \"started\": \"2019-06-30T00:00:00\", \"date\": \"2019-06-30T00:00:00\", \"faves\": null, \"year\": \"2019\", \"days_to_read\": 0, \"gender_description\": \"Female\"}, {\"order\": 24, \"title\": \"How to Change Your Mind\", \"author\": \"Michael Pollan\", \"pages\": 480, \"url\": \"https://www.goodreads.com/book/show/36613747-how-to-change-your-mind?from_search=true\", \"gender\": \"M\", \"type\": \"Non-Fiction\", \"subgenre\": \"Science\", \"avg_goodreads_rating\": 4.31, \"started\": \"2019-06-12T00:00:00\", \"date\": \"2019-10-18T00:00:00\", \"faves\": null, \"year\": \"2019\", \"days_to_read\": 128, \"gender_description\": \"Male\"}, {\"order\": 25, \"title\": \"Trust Exercise\", \"author\": \"Susan Choi\", \"pages\": 257, \"url\": \"https://www.goodreads.com/en/book/show/40046059\", \"gender\": \"F\", \"type\": \"Fiction\", \"subgenre\": \"Contemporary\", \"avg_goodreads_rating\": 3.23, \"started\": \"2019-06-12T00:00:00\", \"date\": \"2019-06-14T00:00:00\", \"faves\": \"Y\", \"year\": \"2019\", \"days_to_read\": 2, \"gender_description\": \"Female\"}, {\"order\": 26, \"title\": \"Trick Mirror\", \"author\": \"Jia Tolentino\", \"pages\": 256, \"url\": \"https://www.goodreads.com/book/show/43126457-trick-mirror?from_search=true\", \"gender\": \"F\", \"type\": \"Non-Fiction\", \"subgenre\": \"Essays\", \"avg_goodreads_rating\": 4.33, \"started\": \"2019-06-15T00:00:00\", \"date\": \"2019-06-30T00:00:00\", \"faves\": \"Y\", \"year\": \"2019\", \"days_to_read\": 15, \"gender_description\": \"Female\"}, {\"order\": 27, \"title\": \"Territory of Light\", \"author\": \"Yuko Tsushima\", \"pages\": 122, \"url\": \"https://www.goodreads.com/book/show/33871745-territory-of-light\", \"gender\": \"F\", \"type\": \"Fiction\", \"subgenre\": \"Japanese Lit\", \"avg_goodreads_rating\": 3.66, \"started\": \"2019-07-01T00:00:00\", \"date\": \"2019-07-06T00:00:00\", \"faves\": null, \"year\": \"2019\", \"days_to_read\": 5, \"gender_description\": \"Female\"}, {\"order\": 28, \"title\": \"Unclaimed Baggage\", \"author\": \"Jen Doll\", \"pages\": 384, \"url\": \"https://www.goodreads.com/book/show/36949992-unclaimed-baggage?ac=1&from_search=true\", \"gender\": \"F\", \"type\": \"Fiction\", \"subgenre\": \"Young Adult\", \"avg_goodreads_rating\": 3.73, \"started\": \"2019-01-08T00:00:00\", \"date\": \"2019-07-11T00:00:00\", \"faves\": null, \"year\": \"2019\", \"days_to_read\": 184, \"gender_description\": \"Female\"}, {\"order\": 29, \"title\": \"Fleishman Is In Trouble\", \"author\": \"Taffy Brodesser-Akner\", \"pages\": 384, \"url\": \"https://www.goodreads.com/book/show/41880602-fleishman-is-in-trouble?ac=1&from_search=true\", \"gender\": \"F\", \"type\": \"Fiction\", \"subgenre\": \"Contemporary\", \"avg_goodreads_rating\": 4.1, \"started\": \"2019-06-17T00:00:00\", \"date\": \"2019-06-28T00:00:00\", \"faves\": \"Y\", \"year\": \"2019\", \"days_to_read\": 11, \"gender_description\": \"Female\"}, {\"order\": 30, \"title\": \"Lifespan\", \"author\": \"David Sinclair\", \"pages\": 432, \"url\": \"https://www.goodreads.com/book/show/43723901-lifespan?ac=1&from_search=true\", \"gender\": \"M\", \"type\": \"Non-Fiction\", \"subgenre\": \"Science\", \"avg_goodreads_rating\": 4.27, \"started\": \"2019-07-01T00:00:00\", \"date\": \"2019-07-18T00:00:00\", \"faves\": null, \"year\": \"2019\", \"days_to_read\": 17, \"gender_description\": \"Male\"}, {\"order\": 31, \"title\": \"Uncanny Valley\", \"author\": \"Anna Wiener\", \"pages\": 304, \"url\": \"https://www.goodreads.com/book/show/45186565-uncanny-valley?ac=1&from_search=true\", \"gender\": \"F\", \"type\": \"Non-Fiction\", \"subgenre\": \"Memoir\", \"avg_goodreads_rating\": 4.2, \"started\": \"2019-07-19T00:00:00\", \"date\": \"2019-07-21T00:00:00\", \"faves\": \"y\", \"year\": \"2019\", \"days_to_read\": 2, \"gender_description\": \"Female\"}, {\"order\": 32, \"title\": \"Hit Makers\", \"author\": \"Derek Thompson\", \"pages\": 352, \"url\": \"https://www.goodreads.com/book/show/30901608-hit-makers\", \"gender\": \"M\", \"type\": \"Non-Fiction\", \"subgenre\": \"Pop Culture\", \"avg_goodreads_rating\": 3.95, \"started\": \"2019-07-20T00:00:00\", \"date\": \"2019-08-06T00:00:00\", \"faves\": null, \"year\": \"2019\", \"days_to_read\": 17, \"gender_description\": \"Male\"}, {\"order\": 33, \"title\": \"Genghis Khan and the Making of the Modern World\", \"author\": \"Jack Weatherford\", \"pages\": 352, \"url\": \"https://www.goodreads.com/book/show/40718726-genghis-khan-and-the-making-of-the-modern-world?ac=1&from_search=true\", \"gender\": \"M\", \"type\": \"Non-Fiction\", \"subgenre\": \"History\", \"avg_goodreads_rating\": 4.02, \"started\": \"2019-07-25T00:00:00\", \"date\": \"2019-09-07T00:00:00\", \"faves\": null, \"year\": \"2019\", \"days_to_read\": 44, \"gender_description\": \"Male\"}, {\"order\": 34, \"title\": \"For the Love of Men: A New Vision for Mindful Masculinity\", \"author\": \"Liz Plank\", \"pages\": 300, \"url\": \"https://www.goodreads.com/book/show/43263540-for-the-love-of-men\", \"gender\": \"F\", \"type\": \"Non-Fiction\", \"subgenre\": \"Feminism\", \"avg_goodreads_rating\": 4.38, \"started\": \"2019-07-23T00:00:00\", \"date\": \"2019-08-02T00:00:00\", \"faves\": null, \"year\": \"2019\", \"days_to_read\": 10, \"gender_description\": \"Female\"}, {\"order\": 35, \"title\": \"Three Women\", \"author\": \"Lisa Taddeo\", \"pages\": 304, \"url\": \"https://www.goodreads.com/book/show/42201100-three-women\", \"gender\": \"F\", \"type\": \"Non-Fiction\", \"subgenre\": \"Feminism\", \"avg_goodreads_rating\": 3.87, \"started\": \"2019-08-15T00:00:00\", \"date\": \"2019-08-22T00:00:00\", \"faves\": \"y\", \"year\": \"2019\", \"days_to_read\": 7, \"gender_description\": \"Female\"}, {\"order\": 36, \"title\": \"Brave New World\", \"author\": \"Aldous Huxley\", \"pages\": 288, \"url\": \"https://www.goodreads.com/book/show/5129.Brave_New_World?ac=1&from_search=true\", \"gender\": \"M\", \"type\": \"Fiction\", \"subgenre\": \"Science \", \"avg_goodreads_rating\": 3.98, \"started\": \"2019-09-15T00:00:00\", \"date\": \"2019-09-16T00:00:00\", \"faves\": null, \"year\": \"2019\", \"days_to_read\": 1, \"gender_description\": \"Male\"}, {\"order\": 37, \"title\": \"Permanent Record\", \"author\": \"Mary HK Choi\", \"pages\": 400, \"url\": \"https://www.goodreads.com/book/show/43562239-permanent-record?from_search=true\", \"gender\": \"F\", \"type\": \"Fiction\", \"subgenre\": \"Young Adult\", \"avg_goodreads_rating\": 3.84, \"started\": \"2019-09-07T00:00:00\", \"date\": \"2019-09-11T00:00:00\", \"faves\": null, \"year\": \"2019\", \"days_to_read\": 4, \"gender_description\": \"Female\"}, {\"order\": 38, \"title\": \"I Was Their American Dream\", \"author\": \"Malaka Gharib\", \"pages\": 160, \"url\": \"https://www.goodreads.com/book/show/40909448-i-was-their-american-dream?from_search=true\", \"gender\": \"F\", \"type\": \"Non-Fiction\", \"subgenre\": \"Graphic Novel\", \"avg_goodreads_rating\": 4.3, \"started\": \"2019-09-05T00:00:00\", \"date\": \"2019-09-12T00:00:00\", \"faves\": null, \"year\": \"2019\", \"days_to_read\": 7, \"gender_description\": \"Female\"}, {\"order\": 39, \"title\": \"Men Without Women\", \"author\": \"Haruki Murakami\", \"pages\": 242, \"url\": \"https://www.goodreads.com/book/show/31950871-men-without-women\", \"gender\": \"M\", \"type\": \"Fiction\", \"subgenre\": \"Short Stories\", \"avg_goodreads_rating\": 3.77, \"started\": \"2019-09-18T00:00:00\", \"date\": \"2019-09-25T00:00:00\", \"faves\": null, \"year\": \"2019\", \"days_to_read\": 7, \"gender_description\": \"Male\"}, {\"order\": 40, \"title\": \"Make it Scream Make it Burn\", \"author\": \"Leslie Jamison\", \"pages\": 272, \"url\": \"https://www.goodreads.com/book/show/43521617-make-it-scream-make-it-burn?from_search=true\", \"gender\": \"F\", \"type\": \"Non-Fiction\", \"subgenre\": \"Essays\", \"avg_goodreads_rating\": 4.13, \"started\": \"2019-10-02T00:00:00\", \"date\": \"2019-10-06T00:00:00\", \"faves\": null, \"year\": \"2019\", \"days_to_read\": 4, \"gender_description\": \"Female\"}, {\"order\": 41, \"title\": \"How to Talk So Your Kids Will Listen\", \"author\": \"Adele Faber and Elaine Mazlish\", \"pages\": 368, \"url\": \"https://www.goodreads.com/book/show/12371502-how-to-talk-so-kids-will-listen-listen-so-kids-will-talk\", \"gender\": \"F\", \"type\": \"Non-Fiction\", \"subgenre\": \"Parenting\", \"avg_goodreads_rating\": 4.26, \"started\": \"2019-09-28T00:00:00\", \"date\": \"2019-10-02T00:00:00\", \"faves\": \"Y\", \"year\": \"2019\", \"days_to_read\": 4, \"gender_description\": \"Female\"}, {\"order\": 43, \"title\": \"Maybe You Should Talk to Somebody\", \"author\": \"Lori Gottlieb\", \"pages\": 432, \"url\": \"https://www.goodreads.com/book/show/37570546-maybe-you-should-talk-to-someone?from_search=true\", \"gender\": \"F\", \"type\": \"Non-Fiction\", \"subgenre\": \"Memoir\", \"avg_goodreads_rating\": 4.4, \"started\": \"2019-10-18T00:00:00\", \"date\": \"2019-11-25T00:00:00\", \"faves\": \"Y\", \"year\": \"2019\", \"days_to_read\": 38, \"gender_description\": \"Female\"}, {\"order\": 44, \"title\": \"Think Like Your Editor\", \"author\": \"Susan Rabiner\", \"pages\": 288, \"url\": \"https://www.goodreads.com/book/show/18988615-thinking-like-your-editor?utm_content=review_cta_book_image&utm_medium=email&utm_source=bookend\", \"gender\": \"F\", \"type\": \"Non-Fiction\", \"subgenre\": \"Writing\", \"avg_goodreads_rating\": 4.04, \"started\": \"2019-10-24T00:00:00\", \"date\": \"2019-10-28T00:00:00\", \"faves\": null, \"year\": \"2019\", \"days_to_read\": 4, \"gender_description\": \"Female\"}, {\"order\": 45, \"title\": \"Kim Ji Young Born 1982\", \"author\": \"Cho Nam-joo\", \"pages\": 144, \"url\": \"https://www.goodreads.com/book/show/47320138-kim-ji-young-born-1982?ac=1&from_search=true\", \"gender\": \"F\", \"type\": \"Fiction\", \"subgenre\": \"Feminism\", \"avg_goodreads_rating\": 4.17, \"started\": \"2019-10-28T00:00:00\", \"date\": \"2019-10-31T00:00:00\", \"faves\": null, \"year\": \"2019\", \"days_to_read\": 3, \"gender_description\": \"Female\"}, {\"order\": 46, \"title\": \"Superman vs the KKK\", \"author\": \"Rick Bowers\", \"pages\": 160, \"url\": \"https://www.goodreads.com/book/show/11407829-superman-versus-the-ku-klux-klan?from_search=true\", \"gender\": \"M\", \"type\": \"Non-Fiction\", \"subgenre\": \"History\", \"avg_goodreads_rating\": 3.66, \"started\": \"2019-10-28T00:00:00\", \"date\": \"2019-10-29T00:00:00\", \"faves\": null, \"year\": \"2019\", \"days_to_read\": 1, \"gender_description\": \"Male\"}, {\"order\": 47, \"title\": \"The Likeability Trap\", \"author\": \"Alicia Menendez\", \"pages\": 240, \"url\": \"https://www.goodreads.com/book/show/46408581-the-likeability-trap?from_search=true&qid=oURYa3fiGo&rank=1\", \"gender\": \"F\", \"type\": \"Non-Fiction\", \"subgenre\": \"Feminism\", \"avg_goodreads_rating\": 3.7, \"started\": \"2019-11-08T00:00:00\", \"date\": \"2019-11-13T00:00:00\", \"faves\": null, \"year\": \"2019\", \"days_to_read\": 5, \"gender_description\": \"Female\"}, {\"order\": 48, \"title\": \"A Short HIstory of Progress\", \"author\": \"Ronald Wright\", \"pages\": 224, \"url\": \"https://www.goodreads.com/book/show/331227.A_Short_History_of_Progress?from_search=true&qid=supt2TGSOt&rank=1\", \"gender\": \"M\", \"type\": \"Non-Fiction\", \"subgenre\": \"History\", \"avg_goodreads_rating\": 4.1, \"started\": \"2019-11-13T00:00:00\", \"date\": \"2019-11-29T00:00:00\", \"faves\": null, \"year\": \"2019\", \"days_to_read\": 16, \"gender_description\": \"Male\"}, {\"order\": 49, \"title\": \"The Last Romantics\", \"author\": \"Tara Conklin\", \"pages\": 368, \"url\": \"https://www.goodreads.com/book/show/35068465-the-last-romantics?ac=1&from_search=true&qid=dert731j6D&rank=1\", \"gender\": \"F\", \"type\": \"Fiction\", \"subgenre\": \"Contemporary\", \"avg_goodreads_rating\": 3.78, \"started\": \"2019-11-29T00:00:00\", \"date\": \"2019-12-02T00:00:00\", \"faves\": \"Y\", \"year\": \"2019\", \"days_to_read\": 3, \"gender_description\": \"Female\"}, {\"order\": 50, \"title\": \"Four Soldiers\", \"author\": \"Hubert Mingarelli\", \"pages\": 160, \"url\": \"https://www.goodreads.com/book/show/41557466-four-soldiers?from_search=true&qid=tFOQALgbWg&rank=1\", \"gender\": \"F\", \"type\": \"Fiction\", \"subgenre\": \"Historical\", \"avg_goodreads_rating\": 3.78, \"started\": \"2019-11-29T00:00:00\", \"date\": \"2019-12-03T00:00:00\", \"faves\": null, \"year\": \"2019\", \"days_to_read\": 4, \"gender_description\": \"Female\"}, {\"order\": 51, \"title\": \"Working\", \"author\": \"Robert Caro\", \"pages\": 231, \"url\": \"https://www.goodreads.com/book/show/43205240-working?from_search=true&qid=51xloY5uTL&rank=1\", \"gender\": \"M\", \"type\": \"Non-Fiction\", \"subgenre\": \"Writing\", \"avg_goodreads_rating\": 4.43, \"started\": \"2019-12-15T00:00:00\", \"date\": \"2019-12-18T00:00:00\", \"faves\": null, \"year\": \"2019\", \"days_to_read\": 3, \"gender_description\": \"Male\"}, {\"order\": 52, \"title\": \"The Incendiaries\", \"author\": \"R.O. Kwon\", \"pages\": 214, \"url\": \"https://www.goodreads.com/book/show/36679056-the-incendiaries\", \"gender\": \"F\", \"type\": \"Fiction\", \"subgenre\": \"Contemporary\", \"avg_goodreads_rating\": 3.28, \"started\": \"2019-12-19T00:00:00\", \"date\": \"2019-12-19T00:00:00\", \"faves\": null, \"year\": \"2019\", \"days_to_read\": 0, \"gender_description\": \"Female\"}, {\"order\": 53, \"title\": \"Wedding Toasts I'll Never Give\", \"author\": \"Ada Calhoun\", \"pages\": 192, \"url\": \"https://www.goodreads.com/book/show/36236126-wedding-toasts-i-ll-never-give\", \"gender\": \"F\", \"type\": \"Non-Fiction\", \"subgenre\": \"Essays\", \"avg_goodreads_rating\": 3.86, \"started\": \"2019-12-26T00:00:00\", \"date\": \"2019-12-27T00:00:00\", \"faves\": null, \"year\": \"2019\", \"days_to_read\": 1, \"gender_description\": \"Female\"}]}}, {\"mode\": \"vega-lite\"});\n",
       "</script>"
      ],
      "text/plain": [
       "alt.Chart(...)"
      ]
     },
     "execution_count": 17,
     "metadata": {},
     "output_type": "execute_result"
    }
   ],
   "source": [
    "#DESKTOP\n",
    "alt.Chart(books).mark_tick(thickness=3,size=10).encode(\n",
    "    x=alt.X('date',axis=alt.Axis(tickCount=12, format='%b', tickColor='#ffffff'), title=''),\n",
    "    y=alt.Y('subgenre',axis=alt.Axis(tickCount=0, tickColor='#ffffff'), title=' ')\n",
    ").configure_axis(grid=False).properties(height=400, width=700)"
   ]
  },
  {
   "cell_type": "code",
   "execution_count": 18,
   "metadata": {},
   "outputs": [
    {
     "data": {
      "text/html": [
       "\n",
       "<div id=\"altair-viz-ec5c8cff3aa54db290604013ca757806\"></div>\n",
       "<script type=\"text/javascript\">\n",
       "  (function(spec, embedOpt){\n",
       "    const outputDiv = document.getElementById(\"altair-viz-ec5c8cff3aa54db290604013ca757806\");\n",
       "    const paths = {\n",
       "      \"vega\": \"https://cdn.jsdelivr.net/npm//vega@5?noext\",\n",
       "      \"vega-lib\": \"https://cdn.jsdelivr.net/npm//vega-lib?noext\",\n",
       "      \"vega-lite\": \"https://cdn.jsdelivr.net/npm//vega-lite@4.0.2?noext\",\n",
       "      \"vega-embed\": \"https://cdn.jsdelivr.net/npm//vega-embed@6?noext\",\n",
       "    };\n",
       "\n",
       "    function loadScript(lib) {\n",
       "      return new Promise(function(resolve, reject) {\n",
       "        var s = document.createElement('script');\n",
       "        s.src = paths[lib];\n",
       "        s.async = true;\n",
       "        s.onload = () => resolve(paths[lib]);\n",
       "        s.onerror = () => reject(`Error loading script: ${paths[lib]}`);\n",
       "        document.getElementsByTagName(\"head\")[0].appendChild(s);\n",
       "      });\n",
       "    }\n",
       "\n",
       "    function showError(err) {\n",
       "      outputDiv.innerHTML = `<div class=\"error\" style=\"color:red;\">${err}</div>`;\n",
       "      throw err;\n",
       "    }\n",
       "\n",
       "    function displayChart(vegaEmbed) {\n",
       "      vegaEmbed(outputDiv, spec, embedOpt)\n",
       "        .catch(err => showError(`Javascript Error: ${err.message}<br>This usually means there's a typo in your chart specification. See the javascript console for the full traceback.`));\n",
       "    }\n",
       "\n",
       "    if(typeof define === \"function\" && define.amd) {\n",
       "      requirejs.config({paths});\n",
       "      require([\"vega-embed\"], displayChart, err => showError(`Error loading script: ${err.message}`));\n",
       "    } else if (typeof vegaEmbed === \"function\") {\n",
       "      displayChart(vegaEmbed);\n",
       "    } else {\n",
       "      loadScript(\"vega\")\n",
       "        .then(() => loadScript(\"vega-lite\"))\n",
       "        .then(() => loadScript(\"vega-embed\"))\n",
       "        .catch(showError)\n",
       "        .then(() => displayChart(vegaEmbed));\n",
       "    }\n",
       "  })({\"config\": {\"view\": {\"width\": 800, \"height\": 450}, \"background\": \"#ffffff\", \"title\": {\"anchor\": \"start\", \"font\": \"Benton Gothic Bold, sans\", \"fontColor\": \"#000000\", \"fontSize\": 22, \"fontWeight\": \"normal\"}, \"arc\": {\"fill\": \"#82c6df\"}, \"area\": {\"fill\": \"#82c6df\"}, \"line\": {\"stroke\": \"#82c6df\", \"strokeWidth\": 3}, \"path\": {\"stroke\": \"#82c6df\"}, \"rect\": {\"fill\": \"#82c6df\"}, \"shape\": {\"stroke\": \"#82c6df\"}, \"bar\": {\"fill\": \"#82c6df\"}, \"point\": {\"stroke\": \"#82c6df\"}, \"symbol\": {\"fill\": \"#82c6df\", \"size\": 30}, \"axis\": {\"titleFont\": \"Benton Gothic Bold, sans\", \"titleFontSize\": 13, \"titleFontWeight\": \"normal\", \"labelFont\": \"Benton Gothic, sans\", \"labelFontSize\": 11.5, \"labelFontWeight\": \"normal\", \"grid\": false}, \"axisX\": {\"labelAngle\": 0, \"labelPadding\": 4, \"tickSize\": 3}, \"axisY\": {\"labelBaseline\": \"middle\", \"maxExtent\": 45, \"minExtent\": 45, \"tickSize\": 2, \"titleAlign\": \"left\", \"titleAngle\": 0, \"titleX\": -45, \"titleY\": -11}, \"legend\": {\"titleFont\": \"Benton Gothic Bold, sans\", \"titleFontSize\": 13, \"titleFontWeight\": \"normal\", \"symbolType\": \"square\", \"labelFont\": \"Benton Gothic, sans\", \"labelFontSize\": 11.5}, \"range\": {\"category\": [\"#3580b1\", \"#ec8431\", \"#ab7fb4\", \"#c89d29\", \"#adc839\", \"#829eb1\"], \"diverging\": [\"#e68a4f\", \"#f4bb6a\", \"#f9e39c\", \"#dadfe2\", \"#a6b7c6\", \"#849eae\"], \"heatmap\": [\"#fbf2c7\", \"#f9e39c\", \"#f8d36e\", \"#f4bb6a\", \"#e68a4f\", \"#d15a40\", \"#ab4232\"], \"ordinal\": [\"#fbf2c7\", \"#f9e39c\", \"#f8d36e\", \"#f4bb6a\", \"#e68a4f\", \"#d15a40\", \"#ab4232\"], \"ramp\": [\"#fbf2c7\", \"#f9e39c\", \"#f8d36e\", \"#f4bb6a\", \"#e68a4f\", \"#d15a40\", \"#ab4232\"]}}, \"data\": {\"name\": \"data-7c8b8837e3db213cb2339b0fa7827d31\"}, \"mark\": {\"type\": \"tick\", \"size\": 10, \"thickness\": 2}, \"encoding\": {\"x\": {\"type\": \"temporal\", \"axis\": {\"format\": \"%b\", \"tickColor\": \"#ffffff\", \"tickCount\": 12}, \"field\": \"date\", \"title\": \"\"}, \"y\": {\"type\": \"nominal\", \"axis\": {\"tickColor\": \"#ffffff\", \"tickCount\": 0}, \"field\": \"subgenre\", \"title\": \" \"}}, \"height\": 400, \"width\": 320, \"$schema\": \"https://vega.github.io/schema/vega-lite/v4.0.2.json\", \"datasets\": {\"data-7c8b8837e3db213cb2339b0fa7827d31\": [{\"order\": 1, \"title\": \"Brotopia\", \"author\": \"Emily Chang\", \"pages\": 317, \"url\": \"https://www.goodreads.com/book/show/36288143-brotopia\", \"gender\": \"F\", \"type\": \"Non-Fiction\", \"subgenre\": \"Business\", \"avg_goodreads_rating\": 4.04, \"started\": \"2018-12-26T00:00:00\", \"date\": \"2019-01-06T00:00:00\", \"faves\": null, \"year\": \"2019\", \"days_to_read\": 11, \"gender_description\": \"Female\"}, {\"order\": 2, \"title\": \"The Human Stain\", \"author\": \"Philip Roth\", \"pages\": 384, \"url\": \"https://www.goodreads.com/book/show/11734.The_Human_Stain?from_search=true\", \"gender\": \"M\", \"type\": \"Fiction\", \"subgenre\": \"Literature\", \"avg_goodreads_rating\": 3.87, \"started\": \"2019-01-06T00:00:00\", \"date\": \"2019-01-16T00:00:00\", \"faves\": \"Y\", \"year\": \"2019\", \"days_to_read\": 10, \"gender_description\": \"Male\"}, {\"order\": 3, \"title\": \"You Know You Want This\", \"author\": \"Kristen Roupenian\", \"pages\": 225, \"url\": \"https://www.goodreads.com/book/show/40539045-you-know-you-want-this\", \"gender\": \"F\", \"type\": \"Fiction\", \"subgenre\": \"Short Stories\", \"avg_goodreads_rating\": 3.86, \"started\": \"2019-01-16T00:00:00\", \"date\": \"2019-01-19T00:00:00\", \"faves\": null, \"year\": \"2019\", \"days_to_read\": 3, \"gender_description\": \"Female\"}, {\"order\": 4, \"title\": \"Why Buddhism is True\", \"author\": \"Robert Wright\", \"pages\": 336, \"url\": \"https://www.goodreads.com/book/show/32895535-why-buddhism-is-true?from_search=true\", \"gender\": \"M\", \"type\": \"Non-Fiction\", \"subgenre\": \"Religion\", \"avg_goodreads_rating\": 4.05, \"started\": \"2019-01-18T00:00:00\", \"date\": \"2019-04-02T00:00:00\", \"faves\": null, \"year\": \"2019\", \"days_to_read\": 74, \"gender_description\": \"Male\"}, {\"order\": 5, \"title\": \"If Beale Street Could Talk\", \"author\": \"James Baldwin\", \"pages\": 197, \"url\": \"https://www.goodreads.com/book/show/38463.If_Beale_Street_Could_Talk\", \"gender\": \"M\", \"type\": \"Fiction\", \"subgenre\": \"Classics\", \"avg_goodreads_rating\": 4.29, \"started\": \"2019-01-22T00:00:00\", \"date\": \"2019-01-28T00:00:00\", \"faves\": null, \"year\": \"2019\", \"days_to_read\": 6, \"gender_description\": \"Male\"}, {\"order\": 6, \"title\": \"Nobody Cares\", \"author\": \"Anne Donahue\", \"pages\": 240, \"url\": \"https://www.goodreads.com/book/show/36360167-nobody-cares\", \"gender\": \"F\", \"type\": \"Non-Fiction\", \"subgenre\": \"Essays\", \"avg_goodreads_rating\": 3.67, \"started\": \"2019-02-03T00:00:00\", \"date\": \"2019-02-25T00:00:00\", \"faves\": null, \"year\": \"2019\", \"days_to_read\": 22, \"gender_description\": \"Female\"}, {\"order\": 7, \"title\": \"Acts of Infidelity\", \"author\": \"Lena Andersson\", \"pages\": 366, \"url\": \"https://www.goodreads.com/book/show/22601256-utan-personligt-ansvar\", \"gender\": \"F\", \"type\": \"Fiction\", \"subgenre\": \"Swedish Lit\", \"avg_goodreads_rating\": 3.66, \"started\": \"2019-02-01T00:00:00\", \"date\": \"2019-02-08T00:00:00\", \"faves\": null, \"year\": \"2019\", \"days_to_read\": 7, \"gender_description\": \"Female\"}, {\"order\": 8, \"title\": \"There Will Be No Miracles Here\", \"author\": \"Casey Gerald\", \"pages\": 394, \"url\": \"https://www.goodreads.com/book/show/38650651-there-will-be-no-miracles-here?from_search=true\", \"gender\": \"M\", \"type\": \"Non-Fiction\", \"subgenre\": \"Memoir\", \"avg_goodreads_rating\": 3.72, \"started\": \"2019-01-27T00:00:00\", \"date\": \"2019-02-11T00:00:00\", \"faves\": null, \"year\": \"2019\", \"days_to_read\": 15, \"gender_description\": \"Male\"}, {\"order\": 9, \"title\": \"The Unbearable Lightness of Being\", \"author\": \"Milan Kundera\", \"pages\": 320, \"url\": \"https://www.goodreads.com/book/show/9717.The_Unbearable_Lightness_of_Being?from_search=true\", \"gender\": \"M\", \"type\": \"Fiction\", \"subgenre\": \"Classics\", \"avg_goodreads_rating\": 4.09, \"started\": \"2019-02-16T00:00:00\", \"date\": \"2019-02-23T00:00:00\", \"faves\": null, \"year\": \"2019\", \"days_to_read\": 7, \"gender_description\": \"Male\"}, {\"order\": 10, \"title\": \"The Beauty Myth\", \"author\": \"Naomi Wolf\", \"pages\": 368, \"url\": \"https://www.goodreads.com/book/show/39926.The_Beauty_Myth\", \"gender\": \"F\", \"type\": \"Non-Fiction\", \"subgenre\": \"Feminism\", \"avg_goodreads_rating\": 3.9, \"started\": \"2019-02-12T00:00:00\", \"date\": \"2019-11-04T00:00:00\", \"faves\": null, \"year\": \"2019\", \"days_to_read\": 265, \"gender_description\": \"Female\"}, {\"order\": 11, \"title\": \"LOT\", \"author\": \"Bryan Washington\", \"pages\": 240, \"url\": \"https://www.goodreads.com/book/show/40749395-lot\", \"gender\": \"M\", \"type\": \"Fiction\", \"subgenre\": \"Short Stories\", \"avg_goodreads_rating\": 3.74, \"started\": \"2019-02-28T00:00:00\", \"date\": \"2019-03-15T00:00:00\", \"faves\": \"Y\", \"year\": \"2019\", \"days_to_read\": 15, \"gender_description\": \"Male\"}, {\"order\": 12, \"title\": \"Oculus\", \"author\": \"Sally Wen Mao\", \"pages\": 119, \"url\": \"https://www.goodreads.com/book/show/40121999-oculus\", \"gender\": \"F\", \"type\": \"Poetry\", \"subgenre\": \"Contemporary\", \"avg_goodreads_rating\": 4.22, \"started\": \"2019-03-03T00:00:00\", \"date\": \"2019-03-11T00:00:00\", \"faves\": null, \"year\": \"2019\", \"days_to_read\": 8, \"gender_description\": \"Female\"}, {\"order\": 13, \"title\": \"Homo Deus: A Brief History of Tomorrow\", \"author\": \"Yuval Harari\", \"pages\": 450, \"url\": \"https://www.goodreads.com/book/show/31138556-homo-deus?from_search=true\", \"gender\": \"M\", \"type\": \"Non-Fiction\", \"subgenre\": \"History\", \"avg_goodreads_rating\": 4.29, \"started\": \"2019-03-22T00:00:00\", \"date\": \"2019-04-19T00:00:00\", \"faves\": null, \"year\": \"2019\", \"days_to_read\": 28, \"gender_description\": \"Male\"}, {\"order\": 14, \"title\": \"Heart Berries\", \"author\": \"Terese Marie Mailhot\", \"pages\": 143, \"url\": \"https://www.goodreads.com/book/show/35840657-heart-berries\", \"gender\": \"F\", \"type\": \"Non-Fiction\", \"subgenre\": \"Memoir\", \"avg_goodreads_rating\": 3.89, \"started\": \"2019-04-03T00:00:00\", \"date\": \"2019-04-06T00:00:00\", \"faves\": null, \"year\": \"2019\", \"days_to_read\": 3, \"gender_description\": \"Female\"}, {\"order\": 15, \"title\": \"Lake Success\", \"author\": \"Gary Schneyngart\", \"pages\": 339, \"url\": \"https://www.goodreads.com/book/show/36739942-lake-success\", \"gender\": \"M\", \"type\": \"Fiction\", \"subgenre\": \"Contemporary\", \"avg_goodreads_rating\": 3.64, \"started\": \"2019-04-21T00:00:00\", \"date\": \"2019-12-07T00:00:00\", \"faves\": null, \"year\": \"2019\", \"days_to_read\": 230, \"gender_description\": \"Male\"}, {\"order\": 16, \"title\": \"Normal People\", \"author\": \"Sally Rooney\", \"pages\": 266, \"url\": \"https://www.goodreads.com/book/show/37539457-normal-people\", \"gender\": \"F\", \"type\": \"Fiction\", \"subgenre\": \"Contemporary\", \"avg_goodreads_rating\": 3.89, \"started\": \"2019-04-20T00:00:00\", \"date\": \"2019-04-21T00:00:00\", \"faves\": \"Y\", \"year\": \"2019\", \"days_to_read\": 1, \"gender_description\": \"Female\"}, {\"order\": 17, \"title\": \"Less\", \"author\": \"Andrew Sean Greer\", \"pages\": 273, \"url\": \"https://www.goodreads.com/book/show/39927096-less\", \"gender\": \"M\", \"type\": \"Fiction\", \"subgenre\": \"Contemporary\", \"avg_goodreads_rating\": 3.76, \"started\": \"2019-04-25T00:00:00\", \"date\": \"2019-05-08T00:00:00\", \"faves\": null, \"year\": \"2019\", \"days_to_read\": 13, \"gender_description\": \"Male\"}, {\"order\": 18, \"title\": \"Nobody is Ever Missing\", \"author\": \"Catherine Lacey\", \"pages\": 244, \"url\": \"https://www.goodreads.com/book/show/18490560-nobody-is-ever-missing?from_search=true\", \"gender\": \"F\", \"type\": \"Fiction\", \"subgenre\": \"Contemporary\", \"avg_goodreads_rating\": 3.27, \"started\": \"2019-05-08T00:00:00\", \"date\": \"2019-05-13T00:00:00\", \"faves\": null, \"year\": \"2019\", \"days_to_read\": 5, \"gender_description\": \"Female\"}, {\"order\": 19, \"title\": \"The New Me\", \"author\": \"Halle Butler\", \"pages\": 208, \"url\": \"https://www.goodreads.com/book/show/36342706-the-new-me\", \"gender\": \"F\", \"type\": \"Fiction\", \"subgenre\": \"Contemporary\", \"avg_goodreads_rating\": 3.6, \"started\": \"2019-05-13T00:00:00\", \"date\": \"2019-05-18T00:00:00\", \"faves\": \"Nope\", \"year\": \"2019\", \"days_to_read\": 5, \"gender_description\": \"Female\"}, {\"order\": 20, \"title\": \"The Empathy Exams\", \"author\": \"Leslie Jamison\", \"pages\": 226, \"url\": \"https://www.goodreads.com/en/book/show/17934655\", \"gender\": \"F\", \"type\": \"Non-Fiction\", \"subgenre\": \"Essays\", \"avg_goodreads_rating\": 3.64, \"started\": \"2019-05-18T00:00:00\", \"date\": \"2019-05-27T00:00:00\", \"faves\": null, \"year\": \"2019\", \"days_to_read\": 9, \"gender_description\": \"Female\"}, {\"order\": 21, \"title\": \"Bad Blood\", \"author\": \"John Carreyou\", \"pages\": 339, \"url\": \"https://www.goodreads.com/book/show/37976541-bad-blood?from_search=true\", \"gender\": \"M\", \"type\": \"Non-Fiction\", \"subgenre\": \"True Crime\", \"avg_goodreads_rating\": 4.48, \"started\": \"2019-06-01T00:00:00\", \"date\": \"2019-06-12T00:00:00\", \"faves\": null, \"year\": \"2019\", \"days_to_read\": 11, \"gender_description\": \"Male\"}, {\"order\": 22, \"title\": \"The Recovering: Intoxication and its Aftermath\", \"author\": \"Leslie Jamison\", \"pages\": 545, \"url\": \"https://www.goodreads.com/book/show/35959632-the-recovering\", \"gender\": \"F\", \"type\": \"Non-Fiction\", \"subgenre\": \"Memoir\", \"avg_goodreads_rating\": 3.96, \"started\": \"2019-05-27T00:00:00\", \"date\": \"2019-06-01T00:00:00\", \"faves\": \"Y\", \"year\": \"2019\", \"days_to_read\": 5, \"gender_description\": \"Female\"}, {\"order\": 23, \"title\": \"Evvie Drake Starts Over\", \"author\": \"Linda Holmes\", \"pages\": 304, \"url\": \"https://www.goodreads.com/book/show/40514431-evvie-drake-starts-over?ac=1&from_search=true\", \"gender\": \"F\", \"type\": \"Fiction\", \"subgenre\": \"Young Adult\", \"avg_goodreads_rating\": 4.22, \"started\": \"2019-06-30T00:00:00\", \"date\": \"2019-06-30T00:00:00\", \"faves\": null, \"year\": \"2019\", \"days_to_read\": 0, \"gender_description\": \"Female\"}, {\"order\": 24, \"title\": \"How to Change Your Mind\", \"author\": \"Michael Pollan\", \"pages\": 480, \"url\": \"https://www.goodreads.com/book/show/36613747-how-to-change-your-mind?from_search=true\", \"gender\": \"M\", \"type\": \"Non-Fiction\", \"subgenre\": \"Science\", \"avg_goodreads_rating\": 4.31, \"started\": \"2019-06-12T00:00:00\", \"date\": \"2019-10-18T00:00:00\", \"faves\": null, \"year\": \"2019\", \"days_to_read\": 128, \"gender_description\": \"Male\"}, {\"order\": 25, \"title\": \"Trust Exercise\", \"author\": \"Susan Choi\", \"pages\": 257, \"url\": \"https://www.goodreads.com/en/book/show/40046059\", \"gender\": \"F\", \"type\": \"Fiction\", \"subgenre\": \"Contemporary\", \"avg_goodreads_rating\": 3.23, \"started\": \"2019-06-12T00:00:00\", \"date\": \"2019-06-14T00:00:00\", \"faves\": \"Y\", \"year\": \"2019\", \"days_to_read\": 2, \"gender_description\": \"Female\"}, {\"order\": 26, \"title\": \"Trick Mirror\", \"author\": \"Jia Tolentino\", \"pages\": 256, \"url\": \"https://www.goodreads.com/book/show/43126457-trick-mirror?from_search=true\", \"gender\": \"F\", \"type\": \"Non-Fiction\", \"subgenre\": \"Essays\", \"avg_goodreads_rating\": 4.33, \"started\": \"2019-06-15T00:00:00\", \"date\": \"2019-06-30T00:00:00\", \"faves\": \"Y\", \"year\": \"2019\", \"days_to_read\": 15, \"gender_description\": \"Female\"}, {\"order\": 27, \"title\": \"Territory of Light\", \"author\": \"Yuko Tsushima\", \"pages\": 122, \"url\": \"https://www.goodreads.com/book/show/33871745-territory-of-light\", \"gender\": \"F\", \"type\": \"Fiction\", \"subgenre\": \"Japanese Lit\", \"avg_goodreads_rating\": 3.66, \"started\": \"2019-07-01T00:00:00\", \"date\": \"2019-07-06T00:00:00\", \"faves\": null, \"year\": \"2019\", \"days_to_read\": 5, \"gender_description\": \"Female\"}, {\"order\": 28, \"title\": \"Unclaimed Baggage\", \"author\": \"Jen Doll\", \"pages\": 384, \"url\": \"https://www.goodreads.com/book/show/36949992-unclaimed-baggage?ac=1&from_search=true\", \"gender\": \"F\", \"type\": \"Fiction\", \"subgenre\": \"Young Adult\", \"avg_goodreads_rating\": 3.73, \"started\": \"2019-01-08T00:00:00\", \"date\": \"2019-07-11T00:00:00\", \"faves\": null, \"year\": \"2019\", \"days_to_read\": 184, \"gender_description\": \"Female\"}, {\"order\": 29, \"title\": \"Fleishman Is In Trouble\", \"author\": \"Taffy Brodesser-Akner\", \"pages\": 384, \"url\": \"https://www.goodreads.com/book/show/41880602-fleishman-is-in-trouble?ac=1&from_search=true\", \"gender\": \"F\", \"type\": \"Fiction\", \"subgenre\": \"Contemporary\", \"avg_goodreads_rating\": 4.1, \"started\": \"2019-06-17T00:00:00\", \"date\": \"2019-06-28T00:00:00\", \"faves\": \"Y\", \"year\": \"2019\", \"days_to_read\": 11, \"gender_description\": \"Female\"}, {\"order\": 30, \"title\": \"Lifespan\", \"author\": \"David Sinclair\", \"pages\": 432, \"url\": \"https://www.goodreads.com/book/show/43723901-lifespan?ac=1&from_search=true\", \"gender\": \"M\", \"type\": \"Non-Fiction\", \"subgenre\": \"Science\", \"avg_goodreads_rating\": 4.27, \"started\": \"2019-07-01T00:00:00\", \"date\": \"2019-07-18T00:00:00\", \"faves\": null, \"year\": \"2019\", \"days_to_read\": 17, \"gender_description\": \"Male\"}, {\"order\": 31, \"title\": \"Uncanny Valley\", \"author\": \"Anna Wiener\", \"pages\": 304, \"url\": \"https://www.goodreads.com/book/show/45186565-uncanny-valley?ac=1&from_search=true\", \"gender\": \"F\", \"type\": \"Non-Fiction\", \"subgenre\": \"Memoir\", \"avg_goodreads_rating\": 4.2, \"started\": \"2019-07-19T00:00:00\", \"date\": \"2019-07-21T00:00:00\", \"faves\": \"y\", \"year\": \"2019\", \"days_to_read\": 2, \"gender_description\": \"Female\"}, {\"order\": 32, \"title\": \"Hit Makers\", \"author\": \"Derek Thompson\", \"pages\": 352, \"url\": \"https://www.goodreads.com/book/show/30901608-hit-makers\", \"gender\": \"M\", \"type\": \"Non-Fiction\", \"subgenre\": \"Pop Culture\", \"avg_goodreads_rating\": 3.95, \"started\": \"2019-07-20T00:00:00\", \"date\": \"2019-08-06T00:00:00\", \"faves\": null, \"year\": \"2019\", \"days_to_read\": 17, \"gender_description\": \"Male\"}, {\"order\": 33, \"title\": \"Genghis Khan and the Making of the Modern World\", \"author\": \"Jack Weatherford\", \"pages\": 352, \"url\": \"https://www.goodreads.com/book/show/40718726-genghis-khan-and-the-making-of-the-modern-world?ac=1&from_search=true\", \"gender\": \"M\", \"type\": \"Non-Fiction\", \"subgenre\": \"History\", \"avg_goodreads_rating\": 4.02, \"started\": \"2019-07-25T00:00:00\", \"date\": \"2019-09-07T00:00:00\", \"faves\": null, \"year\": \"2019\", \"days_to_read\": 44, \"gender_description\": \"Male\"}, {\"order\": 34, \"title\": \"For the Love of Men: A New Vision for Mindful Masculinity\", \"author\": \"Liz Plank\", \"pages\": 300, \"url\": \"https://www.goodreads.com/book/show/43263540-for-the-love-of-men\", \"gender\": \"F\", \"type\": \"Non-Fiction\", \"subgenre\": \"Feminism\", \"avg_goodreads_rating\": 4.38, \"started\": \"2019-07-23T00:00:00\", \"date\": \"2019-08-02T00:00:00\", \"faves\": null, \"year\": \"2019\", \"days_to_read\": 10, \"gender_description\": \"Female\"}, {\"order\": 35, \"title\": \"Three Women\", \"author\": \"Lisa Taddeo\", \"pages\": 304, \"url\": \"https://www.goodreads.com/book/show/42201100-three-women\", \"gender\": \"F\", \"type\": \"Non-Fiction\", \"subgenre\": \"Feminism\", \"avg_goodreads_rating\": 3.87, \"started\": \"2019-08-15T00:00:00\", \"date\": \"2019-08-22T00:00:00\", \"faves\": \"y\", \"year\": \"2019\", \"days_to_read\": 7, \"gender_description\": \"Female\"}, {\"order\": 36, \"title\": \"Brave New World\", \"author\": \"Aldous Huxley\", \"pages\": 288, \"url\": \"https://www.goodreads.com/book/show/5129.Brave_New_World?ac=1&from_search=true\", \"gender\": \"M\", \"type\": \"Fiction\", \"subgenre\": \"Science \", \"avg_goodreads_rating\": 3.98, \"started\": \"2019-09-15T00:00:00\", \"date\": \"2019-09-16T00:00:00\", \"faves\": null, \"year\": \"2019\", \"days_to_read\": 1, \"gender_description\": \"Male\"}, {\"order\": 37, \"title\": \"Permanent Record\", \"author\": \"Mary HK Choi\", \"pages\": 400, \"url\": \"https://www.goodreads.com/book/show/43562239-permanent-record?from_search=true\", \"gender\": \"F\", \"type\": \"Fiction\", \"subgenre\": \"Young Adult\", \"avg_goodreads_rating\": 3.84, \"started\": \"2019-09-07T00:00:00\", \"date\": \"2019-09-11T00:00:00\", \"faves\": null, \"year\": \"2019\", \"days_to_read\": 4, \"gender_description\": \"Female\"}, {\"order\": 38, \"title\": \"I Was Their American Dream\", \"author\": \"Malaka Gharib\", \"pages\": 160, \"url\": \"https://www.goodreads.com/book/show/40909448-i-was-their-american-dream?from_search=true\", \"gender\": \"F\", \"type\": \"Non-Fiction\", \"subgenre\": \"Graphic Novel\", \"avg_goodreads_rating\": 4.3, \"started\": \"2019-09-05T00:00:00\", \"date\": \"2019-09-12T00:00:00\", \"faves\": null, \"year\": \"2019\", \"days_to_read\": 7, \"gender_description\": \"Female\"}, {\"order\": 39, \"title\": \"Men Without Women\", \"author\": \"Haruki Murakami\", \"pages\": 242, \"url\": \"https://www.goodreads.com/book/show/31950871-men-without-women\", \"gender\": \"M\", \"type\": \"Fiction\", \"subgenre\": \"Short Stories\", \"avg_goodreads_rating\": 3.77, \"started\": \"2019-09-18T00:00:00\", \"date\": \"2019-09-25T00:00:00\", \"faves\": null, \"year\": \"2019\", \"days_to_read\": 7, \"gender_description\": \"Male\"}, {\"order\": 40, \"title\": \"Make it Scream Make it Burn\", \"author\": \"Leslie Jamison\", \"pages\": 272, \"url\": \"https://www.goodreads.com/book/show/43521617-make-it-scream-make-it-burn?from_search=true\", \"gender\": \"F\", \"type\": \"Non-Fiction\", \"subgenre\": \"Essays\", \"avg_goodreads_rating\": 4.13, \"started\": \"2019-10-02T00:00:00\", \"date\": \"2019-10-06T00:00:00\", \"faves\": null, \"year\": \"2019\", \"days_to_read\": 4, \"gender_description\": \"Female\"}, {\"order\": 41, \"title\": \"How to Talk So Your Kids Will Listen\", \"author\": \"Adele Faber and Elaine Mazlish\", \"pages\": 368, \"url\": \"https://www.goodreads.com/book/show/12371502-how-to-talk-so-kids-will-listen-listen-so-kids-will-talk\", \"gender\": \"F\", \"type\": \"Non-Fiction\", \"subgenre\": \"Parenting\", \"avg_goodreads_rating\": 4.26, \"started\": \"2019-09-28T00:00:00\", \"date\": \"2019-10-02T00:00:00\", \"faves\": \"Y\", \"year\": \"2019\", \"days_to_read\": 4, \"gender_description\": \"Female\"}, {\"order\": 43, \"title\": \"Maybe You Should Talk to Somebody\", \"author\": \"Lori Gottlieb\", \"pages\": 432, \"url\": \"https://www.goodreads.com/book/show/37570546-maybe-you-should-talk-to-someone?from_search=true\", \"gender\": \"F\", \"type\": \"Non-Fiction\", \"subgenre\": \"Memoir\", \"avg_goodreads_rating\": 4.4, \"started\": \"2019-10-18T00:00:00\", \"date\": \"2019-11-25T00:00:00\", \"faves\": \"Y\", \"year\": \"2019\", \"days_to_read\": 38, \"gender_description\": \"Female\"}, {\"order\": 44, \"title\": \"Think Like Your Editor\", \"author\": \"Susan Rabiner\", \"pages\": 288, \"url\": \"https://www.goodreads.com/book/show/18988615-thinking-like-your-editor?utm_content=review_cta_book_image&utm_medium=email&utm_source=bookend\", \"gender\": \"F\", \"type\": \"Non-Fiction\", \"subgenre\": \"Writing\", \"avg_goodreads_rating\": 4.04, \"started\": \"2019-10-24T00:00:00\", \"date\": \"2019-10-28T00:00:00\", \"faves\": null, \"year\": \"2019\", \"days_to_read\": 4, \"gender_description\": \"Female\"}, {\"order\": 45, \"title\": \"Kim Ji Young Born 1982\", \"author\": \"Cho Nam-joo\", \"pages\": 144, \"url\": \"https://www.goodreads.com/book/show/47320138-kim-ji-young-born-1982?ac=1&from_search=true\", \"gender\": \"F\", \"type\": \"Fiction\", \"subgenre\": \"Feminism\", \"avg_goodreads_rating\": 4.17, \"started\": \"2019-10-28T00:00:00\", \"date\": \"2019-10-31T00:00:00\", \"faves\": null, \"year\": \"2019\", \"days_to_read\": 3, \"gender_description\": \"Female\"}, {\"order\": 46, \"title\": \"Superman vs the KKK\", \"author\": \"Rick Bowers\", \"pages\": 160, \"url\": \"https://www.goodreads.com/book/show/11407829-superman-versus-the-ku-klux-klan?from_search=true\", \"gender\": \"M\", \"type\": \"Non-Fiction\", \"subgenre\": \"History\", \"avg_goodreads_rating\": 3.66, \"started\": \"2019-10-28T00:00:00\", \"date\": \"2019-10-29T00:00:00\", \"faves\": null, \"year\": \"2019\", \"days_to_read\": 1, \"gender_description\": \"Male\"}, {\"order\": 47, \"title\": \"The Likeability Trap\", \"author\": \"Alicia Menendez\", \"pages\": 240, \"url\": \"https://www.goodreads.com/book/show/46408581-the-likeability-trap?from_search=true&qid=oURYa3fiGo&rank=1\", \"gender\": \"F\", \"type\": \"Non-Fiction\", \"subgenre\": \"Feminism\", \"avg_goodreads_rating\": 3.7, \"started\": \"2019-11-08T00:00:00\", \"date\": \"2019-11-13T00:00:00\", \"faves\": null, \"year\": \"2019\", \"days_to_read\": 5, \"gender_description\": \"Female\"}, {\"order\": 48, \"title\": \"A Short HIstory of Progress\", \"author\": \"Ronald Wright\", \"pages\": 224, \"url\": \"https://www.goodreads.com/book/show/331227.A_Short_History_of_Progress?from_search=true&qid=supt2TGSOt&rank=1\", \"gender\": \"M\", \"type\": \"Non-Fiction\", \"subgenre\": \"History\", \"avg_goodreads_rating\": 4.1, \"started\": \"2019-11-13T00:00:00\", \"date\": \"2019-11-29T00:00:00\", \"faves\": null, \"year\": \"2019\", \"days_to_read\": 16, \"gender_description\": \"Male\"}, {\"order\": 49, \"title\": \"The Last Romantics\", \"author\": \"Tara Conklin\", \"pages\": 368, \"url\": \"https://www.goodreads.com/book/show/35068465-the-last-romantics?ac=1&from_search=true&qid=dert731j6D&rank=1\", \"gender\": \"F\", \"type\": \"Fiction\", \"subgenre\": \"Contemporary\", \"avg_goodreads_rating\": 3.78, \"started\": \"2019-11-29T00:00:00\", \"date\": \"2019-12-02T00:00:00\", \"faves\": \"Y\", \"year\": \"2019\", \"days_to_read\": 3, \"gender_description\": \"Female\"}, {\"order\": 50, \"title\": \"Four Soldiers\", \"author\": \"Hubert Mingarelli\", \"pages\": 160, \"url\": \"https://www.goodreads.com/book/show/41557466-four-soldiers?from_search=true&qid=tFOQALgbWg&rank=1\", \"gender\": \"F\", \"type\": \"Fiction\", \"subgenre\": \"Historical\", \"avg_goodreads_rating\": 3.78, \"started\": \"2019-11-29T00:00:00\", \"date\": \"2019-12-03T00:00:00\", \"faves\": null, \"year\": \"2019\", \"days_to_read\": 4, \"gender_description\": \"Female\"}, {\"order\": 51, \"title\": \"Working\", \"author\": \"Robert Caro\", \"pages\": 231, \"url\": \"https://www.goodreads.com/book/show/43205240-working?from_search=true&qid=51xloY5uTL&rank=1\", \"gender\": \"M\", \"type\": \"Non-Fiction\", \"subgenre\": \"Writing\", \"avg_goodreads_rating\": 4.43, \"started\": \"2019-12-15T00:00:00\", \"date\": \"2019-12-18T00:00:00\", \"faves\": null, \"year\": \"2019\", \"days_to_read\": 3, \"gender_description\": \"Male\"}, {\"order\": 52, \"title\": \"The Incendiaries\", \"author\": \"R.O. Kwon\", \"pages\": 214, \"url\": \"https://www.goodreads.com/book/show/36679056-the-incendiaries\", \"gender\": \"F\", \"type\": \"Fiction\", \"subgenre\": \"Contemporary\", \"avg_goodreads_rating\": 3.28, \"started\": \"2019-12-19T00:00:00\", \"date\": \"2019-12-19T00:00:00\", \"faves\": null, \"year\": \"2019\", \"days_to_read\": 0, \"gender_description\": \"Female\"}, {\"order\": 53, \"title\": \"Wedding Toasts I'll Never Give\", \"author\": \"Ada Calhoun\", \"pages\": 192, \"url\": \"https://www.goodreads.com/book/show/36236126-wedding-toasts-i-ll-never-give\", \"gender\": \"F\", \"type\": \"Non-Fiction\", \"subgenre\": \"Essays\", \"avg_goodreads_rating\": 3.86, \"started\": \"2019-12-26T00:00:00\", \"date\": \"2019-12-27T00:00:00\", \"faves\": null, \"year\": \"2019\", \"days_to_read\": 1, \"gender_description\": \"Female\"}]}}, {\"mode\": \"vega-lite\"});\n",
       "</script>"
      ],
      "text/plain": [
       "alt.Chart(...)"
      ]
     },
     "execution_count": 18,
     "metadata": {},
     "output_type": "execute_result"
    }
   ],
   "source": [
    "# mobile\n",
    "alt.Chart(books).mark_tick(thickness=2,size=10).encode(\n",
    "    x=alt.X('date',axis=alt.Axis(tickCount=12, format='%b', tickColor='#ffffff'), title=''),\n",
    "    y=alt.Y('subgenre',axis=alt.Axis(tickCount=0, tickColor='#ffffff'), title=' ')\n",
    ").configure_axis(grid=False).properties(height=400, width=320)"
   ]
  },
  {
   "cell_type": "markdown",
   "metadata": {},
   "source": [
    "---"
   ]
  },
  {
   "cell_type": "markdown",
   "metadata": {},
   "source": [
    "### Let's try books by author gender and month"
   ]
  },
  {
   "cell_type": "code",
   "execution_count": 19,
   "metadata": {
    "scrolled": true
   },
   "outputs": [
    {
     "data": {
      "text/html": [
       "\n",
       "<div id=\"altair-viz-4ed396e238524075830e60c6ed25b5a4\"></div>\n",
       "<script type=\"text/javascript\">\n",
       "  (function(spec, embedOpt){\n",
       "    const outputDiv = document.getElementById(\"altair-viz-4ed396e238524075830e60c6ed25b5a4\");\n",
       "    const paths = {\n",
       "      \"vega\": \"https://cdn.jsdelivr.net/npm//vega@5?noext\",\n",
       "      \"vega-lib\": \"https://cdn.jsdelivr.net/npm//vega-lib?noext\",\n",
       "      \"vega-lite\": \"https://cdn.jsdelivr.net/npm//vega-lite@4.0.2?noext\",\n",
       "      \"vega-embed\": \"https://cdn.jsdelivr.net/npm//vega-embed@6?noext\",\n",
       "    };\n",
       "\n",
       "    function loadScript(lib) {\n",
       "      return new Promise(function(resolve, reject) {\n",
       "        var s = document.createElement('script');\n",
       "        s.src = paths[lib];\n",
       "        s.async = true;\n",
       "        s.onload = () => resolve(paths[lib]);\n",
       "        s.onerror = () => reject(`Error loading script: ${paths[lib]}`);\n",
       "        document.getElementsByTagName(\"head\")[0].appendChild(s);\n",
       "      });\n",
       "    }\n",
       "\n",
       "    function showError(err) {\n",
       "      outputDiv.innerHTML = `<div class=\"error\" style=\"color:red;\">${err}</div>`;\n",
       "      throw err;\n",
       "    }\n",
       "\n",
       "    function displayChart(vegaEmbed) {\n",
       "      vegaEmbed(outputDiv, spec, embedOpt)\n",
       "        .catch(err => showError(`Javascript Error: ${err.message}<br>This usually means there's a typo in your chart specification. See the javascript console for the full traceback.`));\n",
       "    }\n",
       "\n",
       "    if(typeof define === \"function\" && define.amd) {\n",
       "      requirejs.config({paths});\n",
       "      require([\"vega-embed\"], displayChart, err => showError(`Error loading script: ${err.message}`));\n",
       "    } else if (typeof vegaEmbed === \"function\") {\n",
       "      displayChart(vegaEmbed);\n",
       "    } else {\n",
       "      loadScript(\"vega\")\n",
       "        .then(() => loadScript(\"vega-lite\"))\n",
       "        .then(() => loadScript(\"vega-embed\"))\n",
       "        .catch(showError)\n",
       "        .then(() => displayChart(vegaEmbed));\n",
       "    }\n",
       "  })({\"config\": {\"view\": {\"width\": 800, \"height\": 450}, \"background\": \"#ffffff\", \"title\": {\"anchor\": \"start\", \"font\": \"Benton Gothic Bold, sans\", \"fontColor\": \"#000000\", \"fontSize\": 22, \"fontWeight\": \"normal\"}, \"arc\": {\"fill\": \"#82c6df\"}, \"area\": {\"fill\": \"#82c6df\"}, \"line\": {\"stroke\": \"#82c6df\", \"strokeWidth\": 3}, \"path\": {\"stroke\": \"#82c6df\"}, \"rect\": {\"fill\": \"#82c6df\"}, \"shape\": {\"stroke\": \"#82c6df\"}, \"bar\": {\"fill\": \"#82c6df\"}, \"point\": {\"stroke\": \"#82c6df\"}, \"symbol\": {\"fill\": \"#82c6df\", \"size\": 30}, \"axis\": {\"titleFont\": \"Benton Gothic Bold, sans\", \"titleFontSize\": 13, \"titleFontWeight\": \"normal\", \"labelFont\": \"Benton Gothic, sans\", \"labelFontSize\": 11.5, \"labelFontWeight\": \"normal\", \"grid\": false}, \"axisX\": {\"labelAngle\": 0, \"labelPadding\": 4, \"tickSize\": 3}, \"axisY\": {\"labelBaseline\": \"middle\", \"maxExtent\": 45, \"minExtent\": 45, \"tickSize\": 2, \"titleAlign\": \"left\", \"titleAngle\": 0, \"titleX\": -45, \"titleY\": -11}, \"legend\": {\"titleFont\": \"Benton Gothic Bold, sans\", \"titleFontSize\": 13, \"titleFontWeight\": \"normal\", \"symbolType\": \"square\", \"labelFont\": \"Benton Gothic, sans\", \"labelFontSize\": 11.5}, \"range\": {\"category\": [\"#3580b1\", \"#ec8431\", \"#ab7fb4\", \"#c89d29\", \"#adc839\", \"#829eb1\"], \"diverging\": [\"#e68a4f\", \"#f4bb6a\", \"#f9e39c\", \"#dadfe2\", \"#a6b7c6\", \"#849eae\"], \"heatmap\": [\"#fbf2c7\", \"#f9e39c\", \"#f8d36e\", \"#f4bb6a\", \"#e68a4f\", \"#d15a40\", \"#ab4232\"], \"ordinal\": [\"#fbf2c7\", \"#f9e39c\", \"#f8d36e\", \"#f4bb6a\", \"#e68a4f\", \"#d15a40\", \"#ab4232\"], \"ramp\": [\"#fbf2c7\", \"#f9e39c\", \"#f8d36e\", \"#f4bb6a\", \"#e68a4f\", \"#d15a40\", \"#ab4232\"]}}, \"data\": {\"name\": \"data-7c8b8837e3db213cb2339b0fa7827d31\"}, \"mark\": {\"type\": \"tick\", \"size\": 20, \"thickness\": 4}, \"encoding\": {\"color\": {\"type\": \"nominal\", \"field\": \"gender_description\", \"legend\": null}, \"x\": {\"type\": \"temporal\", \"axis\": {\"format\": \"%b\", \"tickColor\": \"#ffffff\", \"tickCount\": 12}, \"field\": \"date\", \"title\": \"\"}, \"y\": {\"type\": \"nominal\", \"axis\": {\"tickColor\": \"#ffffff\", \"tickCount\": 0}, \"field\": \"gender_description\", \"title\": \" \"}}, \"height\": 100, \"width\": 700, \"$schema\": \"https://vega.github.io/schema/vega-lite/v4.0.2.json\", \"datasets\": {\"data-7c8b8837e3db213cb2339b0fa7827d31\": [{\"order\": 1, \"title\": \"Brotopia\", \"author\": \"Emily Chang\", \"pages\": 317, \"url\": \"https://www.goodreads.com/book/show/36288143-brotopia\", \"gender\": \"F\", \"type\": \"Non-Fiction\", \"subgenre\": \"Business\", \"avg_goodreads_rating\": 4.04, \"started\": \"2018-12-26T00:00:00\", \"date\": \"2019-01-06T00:00:00\", \"faves\": null, \"year\": \"2019\", \"days_to_read\": 11, \"gender_description\": \"Female\"}, {\"order\": 2, \"title\": \"The Human Stain\", \"author\": \"Philip Roth\", \"pages\": 384, \"url\": \"https://www.goodreads.com/book/show/11734.The_Human_Stain?from_search=true\", \"gender\": \"M\", \"type\": \"Fiction\", \"subgenre\": \"Literature\", \"avg_goodreads_rating\": 3.87, \"started\": \"2019-01-06T00:00:00\", \"date\": \"2019-01-16T00:00:00\", \"faves\": \"Y\", \"year\": \"2019\", \"days_to_read\": 10, \"gender_description\": \"Male\"}, {\"order\": 3, \"title\": \"You Know You Want This\", \"author\": \"Kristen Roupenian\", \"pages\": 225, \"url\": \"https://www.goodreads.com/book/show/40539045-you-know-you-want-this\", \"gender\": \"F\", \"type\": \"Fiction\", \"subgenre\": \"Short Stories\", \"avg_goodreads_rating\": 3.86, \"started\": \"2019-01-16T00:00:00\", \"date\": \"2019-01-19T00:00:00\", \"faves\": null, \"year\": \"2019\", \"days_to_read\": 3, \"gender_description\": \"Female\"}, {\"order\": 4, \"title\": \"Why Buddhism is True\", \"author\": \"Robert Wright\", \"pages\": 336, \"url\": \"https://www.goodreads.com/book/show/32895535-why-buddhism-is-true?from_search=true\", \"gender\": \"M\", \"type\": \"Non-Fiction\", \"subgenre\": \"Religion\", \"avg_goodreads_rating\": 4.05, \"started\": \"2019-01-18T00:00:00\", \"date\": \"2019-04-02T00:00:00\", \"faves\": null, \"year\": \"2019\", \"days_to_read\": 74, \"gender_description\": \"Male\"}, {\"order\": 5, \"title\": \"If Beale Street Could Talk\", \"author\": \"James Baldwin\", \"pages\": 197, \"url\": \"https://www.goodreads.com/book/show/38463.If_Beale_Street_Could_Talk\", \"gender\": \"M\", \"type\": \"Fiction\", \"subgenre\": \"Classics\", \"avg_goodreads_rating\": 4.29, \"started\": \"2019-01-22T00:00:00\", \"date\": \"2019-01-28T00:00:00\", \"faves\": null, \"year\": \"2019\", \"days_to_read\": 6, \"gender_description\": \"Male\"}, {\"order\": 6, \"title\": \"Nobody Cares\", \"author\": \"Anne Donahue\", \"pages\": 240, \"url\": \"https://www.goodreads.com/book/show/36360167-nobody-cares\", \"gender\": \"F\", \"type\": \"Non-Fiction\", \"subgenre\": \"Essays\", \"avg_goodreads_rating\": 3.67, \"started\": \"2019-02-03T00:00:00\", \"date\": \"2019-02-25T00:00:00\", \"faves\": null, \"year\": \"2019\", \"days_to_read\": 22, \"gender_description\": \"Female\"}, {\"order\": 7, \"title\": \"Acts of Infidelity\", \"author\": \"Lena Andersson\", \"pages\": 366, \"url\": \"https://www.goodreads.com/book/show/22601256-utan-personligt-ansvar\", \"gender\": \"F\", \"type\": \"Fiction\", \"subgenre\": \"Swedish Lit\", \"avg_goodreads_rating\": 3.66, \"started\": \"2019-02-01T00:00:00\", \"date\": \"2019-02-08T00:00:00\", \"faves\": null, \"year\": \"2019\", \"days_to_read\": 7, \"gender_description\": \"Female\"}, {\"order\": 8, \"title\": \"There Will Be No Miracles Here\", \"author\": \"Casey Gerald\", \"pages\": 394, \"url\": \"https://www.goodreads.com/book/show/38650651-there-will-be-no-miracles-here?from_search=true\", \"gender\": \"M\", \"type\": \"Non-Fiction\", \"subgenre\": \"Memoir\", \"avg_goodreads_rating\": 3.72, \"started\": \"2019-01-27T00:00:00\", \"date\": \"2019-02-11T00:00:00\", \"faves\": null, \"year\": \"2019\", \"days_to_read\": 15, \"gender_description\": \"Male\"}, {\"order\": 9, \"title\": \"The Unbearable Lightness of Being\", \"author\": \"Milan Kundera\", \"pages\": 320, \"url\": \"https://www.goodreads.com/book/show/9717.The_Unbearable_Lightness_of_Being?from_search=true\", \"gender\": \"M\", \"type\": \"Fiction\", \"subgenre\": \"Classics\", \"avg_goodreads_rating\": 4.09, \"started\": \"2019-02-16T00:00:00\", \"date\": \"2019-02-23T00:00:00\", \"faves\": null, \"year\": \"2019\", \"days_to_read\": 7, \"gender_description\": \"Male\"}, {\"order\": 10, \"title\": \"The Beauty Myth\", \"author\": \"Naomi Wolf\", \"pages\": 368, \"url\": \"https://www.goodreads.com/book/show/39926.The_Beauty_Myth\", \"gender\": \"F\", \"type\": \"Non-Fiction\", \"subgenre\": \"Feminism\", \"avg_goodreads_rating\": 3.9, \"started\": \"2019-02-12T00:00:00\", \"date\": \"2019-11-04T00:00:00\", \"faves\": null, \"year\": \"2019\", \"days_to_read\": 265, \"gender_description\": \"Female\"}, {\"order\": 11, \"title\": \"LOT\", \"author\": \"Bryan Washington\", \"pages\": 240, \"url\": \"https://www.goodreads.com/book/show/40749395-lot\", \"gender\": \"M\", \"type\": \"Fiction\", \"subgenre\": \"Short Stories\", \"avg_goodreads_rating\": 3.74, \"started\": \"2019-02-28T00:00:00\", \"date\": \"2019-03-15T00:00:00\", \"faves\": \"Y\", \"year\": \"2019\", \"days_to_read\": 15, \"gender_description\": \"Male\"}, {\"order\": 12, \"title\": \"Oculus\", \"author\": \"Sally Wen Mao\", \"pages\": 119, \"url\": \"https://www.goodreads.com/book/show/40121999-oculus\", \"gender\": \"F\", \"type\": \"Poetry\", \"subgenre\": \"Contemporary\", \"avg_goodreads_rating\": 4.22, \"started\": \"2019-03-03T00:00:00\", \"date\": \"2019-03-11T00:00:00\", \"faves\": null, \"year\": \"2019\", \"days_to_read\": 8, \"gender_description\": \"Female\"}, {\"order\": 13, \"title\": \"Homo Deus: A Brief History of Tomorrow\", \"author\": \"Yuval Harari\", \"pages\": 450, \"url\": \"https://www.goodreads.com/book/show/31138556-homo-deus?from_search=true\", \"gender\": \"M\", \"type\": \"Non-Fiction\", \"subgenre\": \"History\", \"avg_goodreads_rating\": 4.29, \"started\": \"2019-03-22T00:00:00\", \"date\": \"2019-04-19T00:00:00\", \"faves\": null, \"year\": \"2019\", \"days_to_read\": 28, \"gender_description\": \"Male\"}, {\"order\": 14, \"title\": \"Heart Berries\", \"author\": \"Terese Marie Mailhot\", \"pages\": 143, \"url\": \"https://www.goodreads.com/book/show/35840657-heart-berries\", \"gender\": \"F\", \"type\": \"Non-Fiction\", \"subgenre\": \"Memoir\", \"avg_goodreads_rating\": 3.89, \"started\": \"2019-04-03T00:00:00\", \"date\": \"2019-04-06T00:00:00\", \"faves\": null, \"year\": \"2019\", \"days_to_read\": 3, \"gender_description\": \"Female\"}, {\"order\": 15, \"title\": \"Lake Success\", \"author\": \"Gary Schneyngart\", \"pages\": 339, \"url\": \"https://www.goodreads.com/book/show/36739942-lake-success\", \"gender\": \"M\", \"type\": \"Fiction\", \"subgenre\": \"Contemporary\", \"avg_goodreads_rating\": 3.64, \"started\": \"2019-04-21T00:00:00\", \"date\": \"2019-12-07T00:00:00\", \"faves\": null, \"year\": \"2019\", \"days_to_read\": 230, \"gender_description\": \"Male\"}, {\"order\": 16, \"title\": \"Normal People\", \"author\": \"Sally Rooney\", \"pages\": 266, \"url\": \"https://www.goodreads.com/book/show/37539457-normal-people\", \"gender\": \"F\", \"type\": \"Fiction\", \"subgenre\": \"Contemporary\", \"avg_goodreads_rating\": 3.89, \"started\": \"2019-04-20T00:00:00\", \"date\": \"2019-04-21T00:00:00\", \"faves\": \"Y\", \"year\": \"2019\", \"days_to_read\": 1, \"gender_description\": \"Female\"}, {\"order\": 17, \"title\": \"Less\", \"author\": \"Andrew Sean Greer\", \"pages\": 273, \"url\": \"https://www.goodreads.com/book/show/39927096-less\", \"gender\": \"M\", \"type\": \"Fiction\", \"subgenre\": \"Contemporary\", \"avg_goodreads_rating\": 3.76, \"started\": \"2019-04-25T00:00:00\", \"date\": \"2019-05-08T00:00:00\", \"faves\": null, \"year\": \"2019\", \"days_to_read\": 13, \"gender_description\": \"Male\"}, {\"order\": 18, \"title\": \"Nobody is Ever Missing\", \"author\": \"Catherine Lacey\", \"pages\": 244, \"url\": \"https://www.goodreads.com/book/show/18490560-nobody-is-ever-missing?from_search=true\", \"gender\": \"F\", \"type\": \"Fiction\", \"subgenre\": \"Contemporary\", \"avg_goodreads_rating\": 3.27, \"started\": \"2019-05-08T00:00:00\", \"date\": \"2019-05-13T00:00:00\", \"faves\": null, \"year\": \"2019\", \"days_to_read\": 5, \"gender_description\": \"Female\"}, {\"order\": 19, \"title\": \"The New Me\", \"author\": \"Halle Butler\", \"pages\": 208, \"url\": \"https://www.goodreads.com/book/show/36342706-the-new-me\", \"gender\": \"F\", \"type\": \"Fiction\", \"subgenre\": \"Contemporary\", \"avg_goodreads_rating\": 3.6, \"started\": \"2019-05-13T00:00:00\", \"date\": \"2019-05-18T00:00:00\", \"faves\": \"Nope\", \"year\": \"2019\", \"days_to_read\": 5, \"gender_description\": \"Female\"}, {\"order\": 20, \"title\": \"The Empathy Exams\", \"author\": \"Leslie Jamison\", \"pages\": 226, \"url\": \"https://www.goodreads.com/en/book/show/17934655\", \"gender\": \"F\", \"type\": \"Non-Fiction\", \"subgenre\": \"Essays\", \"avg_goodreads_rating\": 3.64, \"started\": \"2019-05-18T00:00:00\", \"date\": \"2019-05-27T00:00:00\", \"faves\": null, \"year\": \"2019\", \"days_to_read\": 9, \"gender_description\": \"Female\"}, {\"order\": 21, \"title\": \"Bad Blood\", \"author\": \"John Carreyou\", \"pages\": 339, \"url\": \"https://www.goodreads.com/book/show/37976541-bad-blood?from_search=true\", \"gender\": \"M\", \"type\": \"Non-Fiction\", \"subgenre\": \"True Crime\", \"avg_goodreads_rating\": 4.48, \"started\": \"2019-06-01T00:00:00\", \"date\": \"2019-06-12T00:00:00\", \"faves\": null, \"year\": \"2019\", \"days_to_read\": 11, \"gender_description\": \"Male\"}, {\"order\": 22, \"title\": \"The Recovering: Intoxication and its Aftermath\", \"author\": \"Leslie Jamison\", \"pages\": 545, \"url\": \"https://www.goodreads.com/book/show/35959632-the-recovering\", \"gender\": \"F\", \"type\": \"Non-Fiction\", \"subgenre\": \"Memoir\", \"avg_goodreads_rating\": 3.96, \"started\": \"2019-05-27T00:00:00\", \"date\": \"2019-06-01T00:00:00\", \"faves\": \"Y\", \"year\": \"2019\", \"days_to_read\": 5, \"gender_description\": \"Female\"}, {\"order\": 23, \"title\": \"Evvie Drake Starts Over\", \"author\": \"Linda Holmes\", \"pages\": 304, \"url\": \"https://www.goodreads.com/book/show/40514431-evvie-drake-starts-over?ac=1&from_search=true\", \"gender\": \"F\", \"type\": \"Fiction\", \"subgenre\": \"Young Adult\", \"avg_goodreads_rating\": 4.22, \"started\": \"2019-06-30T00:00:00\", \"date\": \"2019-06-30T00:00:00\", \"faves\": null, \"year\": \"2019\", \"days_to_read\": 0, \"gender_description\": \"Female\"}, {\"order\": 24, \"title\": \"How to Change Your Mind\", \"author\": \"Michael Pollan\", \"pages\": 480, \"url\": \"https://www.goodreads.com/book/show/36613747-how-to-change-your-mind?from_search=true\", \"gender\": \"M\", \"type\": \"Non-Fiction\", \"subgenre\": \"Science\", \"avg_goodreads_rating\": 4.31, \"started\": \"2019-06-12T00:00:00\", \"date\": \"2019-10-18T00:00:00\", \"faves\": null, \"year\": \"2019\", \"days_to_read\": 128, \"gender_description\": \"Male\"}, {\"order\": 25, \"title\": \"Trust Exercise\", \"author\": \"Susan Choi\", \"pages\": 257, \"url\": \"https://www.goodreads.com/en/book/show/40046059\", \"gender\": \"F\", \"type\": \"Fiction\", \"subgenre\": \"Contemporary\", \"avg_goodreads_rating\": 3.23, \"started\": \"2019-06-12T00:00:00\", \"date\": \"2019-06-14T00:00:00\", \"faves\": \"Y\", \"year\": \"2019\", \"days_to_read\": 2, \"gender_description\": \"Female\"}, {\"order\": 26, \"title\": \"Trick Mirror\", \"author\": \"Jia Tolentino\", \"pages\": 256, \"url\": \"https://www.goodreads.com/book/show/43126457-trick-mirror?from_search=true\", \"gender\": \"F\", \"type\": \"Non-Fiction\", \"subgenre\": \"Essays\", \"avg_goodreads_rating\": 4.33, \"started\": \"2019-06-15T00:00:00\", \"date\": \"2019-06-30T00:00:00\", \"faves\": \"Y\", \"year\": \"2019\", \"days_to_read\": 15, \"gender_description\": \"Female\"}, {\"order\": 27, \"title\": \"Territory of Light\", \"author\": \"Yuko Tsushima\", \"pages\": 122, \"url\": \"https://www.goodreads.com/book/show/33871745-territory-of-light\", \"gender\": \"F\", \"type\": \"Fiction\", \"subgenre\": \"Japanese Lit\", \"avg_goodreads_rating\": 3.66, \"started\": \"2019-07-01T00:00:00\", \"date\": \"2019-07-06T00:00:00\", \"faves\": null, \"year\": \"2019\", \"days_to_read\": 5, \"gender_description\": \"Female\"}, {\"order\": 28, \"title\": \"Unclaimed Baggage\", \"author\": \"Jen Doll\", \"pages\": 384, \"url\": \"https://www.goodreads.com/book/show/36949992-unclaimed-baggage?ac=1&from_search=true\", \"gender\": \"F\", \"type\": \"Fiction\", \"subgenre\": \"Young Adult\", \"avg_goodreads_rating\": 3.73, \"started\": \"2019-01-08T00:00:00\", \"date\": \"2019-07-11T00:00:00\", \"faves\": null, \"year\": \"2019\", \"days_to_read\": 184, \"gender_description\": \"Female\"}, {\"order\": 29, \"title\": \"Fleishman Is In Trouble\", \"author\": \"Taffy Brodesser-Akner\", \"pages\": 384, \"url\": \"https://www.goodreads.com/book/show/41880602-fleishman-is-in-trouble?ac=1&from_search=true\", \"gender\": \"F\", \"type\": \"Fiction\", \"subgenre\": \"Contemporary\", \"avg_goodreads_rating\": 4.1, \"started\": \"2019-06-17T00:00:00\", \"date\": \"2019-06-28T00:00:00\", \"faves\": \"Y\", \"year\": \"2019\", \"days_to_read\": 11, \"gender_description\": \"Female\"}, {\"order\": 30, \"title\": \"Lifespan\", \"author\": \"David Sinclair\", \"pages\": 432, \"url\": \"https://www.goodreads.com/book/show/43723901-lifespan?ac=1&from_search=true\", \"gender\": \"M\", \"type\": \"Non-Fiction\", \"subgenre\": \"Science\", \"avg_goodreads_rating\": 4.27, \"started\": \"2019-07-01T00:00:00\", \"date\": \"2019-07-18T00:00:00\", \"faves\": null, \"year\": \"2019\", \"days_to_read\": 17, \"gender_description\": \"Male\"}, {\"order\": 31, \"title\": \"Uncanny Valley\", \"author\": \"Anna Wiener\", \"pages\": 304, \"url\": \"https://www.goodreads.com/book/show/45186565-uncanny-valley?ac=1&from_search=true\", \"gender\": \"F\", \"type\": \"Non-Fiction\", \"subgenre\": \"Memoir\", \"avg_goodreads_rating\": 4.2, \"started\": \"2019-07-19T00:00:00\", \"date\": \"2019-07-21T00:00:00\", \"faves\": \"y\", \"year\": \"2019\", \"days_to_read\": 2, \"gender_description\": \"Female\"}, {\"order\": 32, \"title\": \"Hit Makers\", \"author\": \"Derek Thompson\", \"pages\": 352, \"url\": \"https://www.goodreads.com/book/show/30901608-hit-makers\", \"gender\": \"M\", \"type\": \"Non-Fiction\", \"subgenre\": \"Pop Culture\", \"avg_goodreads_rating\": 3.95, \"started\": \"2019-07-20T00:00:00\", \"date\": \"2019-08-06T00:00:00\", \"faves\": null, \"year\": \"2019\", \"days_to_read\": 17, \"gender_description\": \"Male\"}, {\"order\": 33, \"title\": \"Genghis Khan and the Making of the Modern World\", \"author\": \"Jack Weatherford\", \"pages\": 352, \"url\": \"https://www.goodreads.com/book/show/40718726-genghis-khan-and-the-making-of-the-modern-world?ac=1&from_search=true\", \"gender\": \"M\", \"type\": \"Non-Fiction\", \"subgenre\": \"History\", \"avg_goodreads_rating\": 4.02, \"started\": \"2019-07-25T00:00:00\", \"date\": \"2019-09-07T00:00:00\", \"faves\": null, \"year\": \"2019\", \"days_to_read\": 44, \"gender_description\": \"Male\"}, {\"order\": 34, \"title\": \"For the Love of Men: A New Vision for Mindful Masculinity\", \"author\": \"Liz Plank\", \"pages\": 300, \"url\": \"https://www.goodreads.com/book/show/43263540-for-the-love-of-men\", \"gender\": \"F\", \"type\": \"Non-Fiction\", \"subgenre\": \"Feminism\", \"avg_goodreads_rating\": 4.38, \"started\": \"2019-07-23T00:00:00\", \"date\": \"2019-08-02T00:00:00\", \"faves\": null, \"year\": \"2019\", \"days_to_read\": 10, \"gender_description\": \"Female\"}, {\"order\": 35, \"title\": \"Three Women\", \"author\": \"Lisa Taddeo\", \"pages\": 304, \"url\": \"https://www.goodreads.com/book/show/42201100-three-women\", \"gender\": \"F\", \"type\": \"Non-Fiction\", \"subgenre\": \"Feminism\", \"avg_goodreads_rating\": 3.87, \"started\": \"2019-08-15T00:00:00\", \"date\": \"2019-08-22T00:00:00\", \"faves\": \"y\", \"year\": \"2019\", \"days_to_read\": 7, \"gender_description\": \"Female\"}, {\"order\": 36, \"title\": \"Brave New World\", \"author\": \"Aldous Huxley\", \"pages\": 288, \"url\": \"https://www.goodreads.com/book/show/5129.Brave_New_World?ac=1&from_search=true\", \"gender\": \"M\", \"type\": \"Fiction\", \"subgenre\": \"Science \", \"avg_goodreads_rating\": 3.98, \"started\": \"2019-09-15T00:00:00\", \"date\": \"2019-09-16T00:00:00\", \"faves\": null, \"year\": \"2019\", \"days_to_read\": 1, \"gender_description\": \"Male\"}, {\"order\": 37, \"title\": \"Permanent Record\", \"author\": \"Mary HK Choi\", \"pages\": 400, \"url\": \"https://www.goodreads.com/book/show/43562239-permanent-record?from_search=true\", \"gender\": \"F\", \"type\": \"Fiction\", \"subgenre\": \"Young Adult\", \"avg_goodreads_rating\": 3.84, \"started\": \"2019-09-07T00:00:00\", \"date\": \"2019-09-11T00:00:00\", \"faves\": null, \"year\": \"2019\", \"days_to_read\": 4, \"gender_description\": \"Female\"}, {\"order\": 38, \"title\": \"I Was Their American Dream\", \"author\": \"Malaka Gharib\", \"pages\": 160, \"url\": \"https://www.goodreads.com/book/show/40909448-i-was-their-american-dream?from_search=true\", \"gender\": \"F\", \"type\": \"Non-Fiction\", \"subgenre\": \"Graphic Novel\", \"avg_goodreads_rating\": 4.3, \"started\": \"2019-09-05T00:00:00\", \"date\": \"2019-09-12T00:00:00\", \"faves\": null, \"year\": \"2019\", \"days_to_read\": 7, \"gender_description\": \"Female\"}, {\"order\": 39, \"title\": \"Men Without Women\", \"author\": \"Haruki Murakami\", \"pages\": 242, \"url\": \"https://www.goodreads.com/book/show/31950871-men-without-women\", \"gender\": \"M\", \"type\": \"Fiction\", \"subgenre\": \"Short Stories\", \"avg_goodreads_rating\": 3.77, \"started\": \"2019-09-18T00:00:00\", \"date\": \"2019-09-25T00:00:00\", \"faves\": null, \"year\": \"2019\", \"days_to_read\": 7, \"gender_description\": \"Male\"}, {\"order\": 40, \"title\": \"Make it Scream Make it Burn\", \"author\": \"Leslie Jamison\", \"pages\": 272, \"url\": \"https://www.goodreads.com/book/show/43521617-make-it-scream-make-it-burn?from_search=true\", \"gender\": \"F\", \"type\": \"Non-Fiction\", \"subgenre\": \"Essays\", \"avg_goodreads_rating\": 4.13, \"started\": \"2019-10-02T00:00:00\", \"date\": \"2019-10-06T00:00:00\", \"faves\": null, \"year\": \"2019\", \"days_to_read\": 4, \"gender_description\": \"Female\"}, {\"order\": 41, \"title\": \"How to Talk So Your Kids Will Listen\", \"author\": \"Adele Faber and Elaine Mazlish\", \"pages\": 368, \"url\": \"https://www.goodreads.com/book/show/12371502-how-to-talk-so-kids-will-listen-listen-so-kids-will-talk\", \"gender\": \"F\", \"type\": \"Non-Fiction\", \"subgenre\": \"Parenting\", \"avg_goodreads_rating\": 4.26, \"started\": \"2019-09-28T00:00:00\", \"date\": \"2019-10-02T00:00:00\", \"faves\": \"Y\", \"year\": \"2019\", \"days_to_read\": 4, \"gender_description\": \"Female\"}, {\"order\": 43, \"title\": \"Maybe You Should Talk to Somebody\", \"author\": \"Lori Gottlieb\", \"pages\": 432, \"url\": \"https://www.goodreads.com/book/show/37570546-maybe-you-should-talk-to-someone?from_search=true\", \"gender\": \"F\", \"type\": \"Non-Fiction\", \"subgenre\": \"Memoir\", \"avg_goodreads_rating\": 4.4, \"started\": \"2019-10-18T00:00:00\", \"date\": \"2019-11-25T00:00:00\", \"faves\": \"Y\", \"year\": \"2019\", \"days_to_read\": 38, \"gender_description\": \"Female\"}, {\"order\": 44, \"title\": \"Think Like Your Editor\", \"author\": \"Susan Rabiner\", \"pages\": 288, \"url\": \"https://www.goodreads.com/book/show/18988615-thinking-like-your-editor?utm_content=review_cta_book_image&utm_medium=email&utm_source=bookend\", \"gender\": \"F\", \"type\": \"Non-Fiction\", \"subgenre\": \"Writing\", \"avg_goodreads_rating\": 4.04, \"started\": \"2019-10-24T00:00:00\", \"date\": \"2019-10-28T00:00:00\", \"faves\": null, \"year\": \"2019\", \"days_to_read\": 4, \"gender_description\": \"Female\"}, {\"order\": 45, \"title\": \"Kim Ji Young Born 1982\", \"author\": \"Cho Nam-joo\", \"pages\": 144, \"url\": \"https://www.goodreads.com/book/show/47320138-kim-ji-young-born-1982?ac=1&from_search=true\", \"gender\": \"F\", \"type\": \"Fiction\", \"subgenre\": \"Feminism\", \"avg_goodreads_rating\": 4.17, \"started\": \"2019-10-28T00:00:00\", \"date\": \"2019-10-31T00:00:00\", \"faves\": null, \"year\": \"2019\", \"days_to_read\": 3, \"gender_description\": \"Female\"}, {\"order\": 46, \"title\": \"Superman vs the KKK\", \"author\": \"Rick Bowers\", \"pages\": 160, \"url\": \"https://www.goodreads.com/book/show/11407829-superman-versus-the-ku-klux-klan?from_search=true\", \"gender\": \"M\", \"type\": \"Non-Fiction\", \"subgenre\": \"History\", \"avg_goodreads_rating\": 3.66, \"started\": \"2019-10-28T00:00:00\", \"date\": \"2019-10-29T00:00:00\", \"faves\": null, \"year\": \"2019\", \"days_to_read\": 1, \"gender_description\": \"Male\"}, {\"order\": 47, \"title\": \"The Likeability Trap\", \"author\": \"Alicia Menendez\", \"pages\": 240, \"url\": \"https://www.goodreads.com/book/show/46408581-the-likeability-trap?from_search=true&qid=oURYa3fiGo&rank=1\", \"gender\": \"F\", \"type\": \"Non-Fiction\", \"subgenre\": \"Feminism\", \"avg_goodreads_rating\": 3.7, \"started\": \"2019-11-08T00:00:00\", \"date\": \"2019-11-13T00:00:00\", \"faves\": null, \"year\": \"2019\", \"days_to_read\": 5, \"gender_description\": \"Female\"}, {\"order\": 48, \"title\": \"A Short HIstory of Progress\", \"author\": \"Ronald Wright\", \"pages\": 224, \"url\": \"https://www.goodreads.com/book/show/331227.A_Short_History_of_Progress?from_search=true&qid=supt2TGSOt&rank=1\", \"gender\": \"M\", \"type\": \"Non-Fiction\", \"subgenre\": \"History\", \"avg_goodreads_rating\": 4.1, \"started\": \"2019-11-13T00:00:00\", \"date\": \"2019-11-29T00:00:00\", \"faves\": null, \"year\": \"2019\", \"days_to_read\": 16, \"gender_description\": \"Male\"}, {\"order\": 49, \"title\": \"The Last Romantics\", \"author\": \"Tara Conklin\", \"pages\": 368, \"url\": \"https://www.goodreads.com/book/show/35068465-the-last-romantics?ac=1&from_search=true&qid=dert731j6D&rank=1\", \"gender\": \"F\", \"type\": \"Fiction\", \"subgenre\": \"Contemporary\", \"avg_goodreads_rating\": 3.78, \"started\": \"2019-11-29T00:00:00\", \"date\": \"2019-12-02T00:00:00\", \"faves\": \"Y\", \"year\": \"2019\", \"days_to_read\": 3, \"gender_description\": \"Female\"}, {\"order\": 50, \"title\": \"Four Soldiers\", \"author\": \"Hubert Mingarelli\", \"pages\": 160, \"url\": \"https://www.goodreads.com/book/show/41557466-four-soldiers?from_search=true&qid=tFOQALgbWg&rank=1\", \"gender\": \"F\", \"type\": \"Fiction\", \"subgenre\": \"Historical\", \"avg_goodreads_rating\": 3.78, \"started\": \"2019-11-29T00:00:00\", \"date\": \"2019-12-03T00:00:00\", \"faves\": null, \"year\": \"2019\", \"days_to_read\": 4, \"gender_description\": \"Female\"}, {\"order\": 51, \"title\": \"Working\", \"author\": \"Robert Caro\", \"pages\": 231, \"url\": \"https://www.goodreads.com/book/show/43205240-working?from_search=true&qid=51xloY5uTL&rank=1\", \"gender\": \"M\", \"type\": \"Non-Fiction\", \"subgenre\": \"Writing\", \"avg_goodreads_rating\": 4.43, \"started\": \"2019-12-15T00:00:00\", \"date\": \"2019-12-18T00:00:00\", \"faves\": null, \"year\": \"2019\", \"days_to_read\": 3, \"gender_description\": \"Male\"}, {\"order\": 52, \"title\": \"The Incendiaries\", \"author\": \"R.O. Kwon\", \"pages\": 214, \"url\": \"https://www.goodreads.com/book/show/36679056-the-incendiaries\", \"gender\": \"F\", \"type\": \"Fiction\", \"subgenre\": \"Contemporary\", \"avg_goodreads_rating\": 3.28, \"started\": \"2019-12-19T00:00:00\", \"date\": \"2019-12-19T00:00:00\", \"faves\": null, \"year\": \"2019\", \"days_to_read\": 0, \"gender_description\": \"Female\"}, {\"order\": 53, \"title\": \"Wedding Toasts I'll Never Give\", \"author\": \"Ada Calhoun\", \"pages\": 192, \"url\": \"https://www.goodreads.com/book/show/36236126-wedding-toasts-i-ll-never-give\", \"gender\": \"F\", \"type\": \"Non-Fiction\", \"subgenre\": \"Essays\", \"avg_goodreads_rating\": 3.86, \"started\": \"2019-12-26T00:00:00\", \"date\": \"2019-12-27T00:00:00\", \"faves\": null, \"year\": \"2019\", \"days_to_read\": 1, \"gender_description\": \"Female\"}]}}, {\"mode\": \"vega-lite\"});\n",
       "</script>"
      ],
      "text/plain": [
       "alt.Chart(...)"
      ]
     },
     "execution_count": 19,
     "metadata": {},
     "output_type": "execute_result"
    }
   ],
   "source": [
    "#DESKTOP\n",
    "alt.Chart(books).mark_tick(thickness=4,size=20).encode(\n",
    "    x=alt.X('date',axis=alt.Axis(tickCount=12, format='%b', tickColor='#ffffff'), title=''),\n",
    "    y=alt.Y('gender_description',axis=alt.Axis(tickCount=0, tickColor='#ffffff'), title=' '),\n",
    "    color=alt.Color('gender_description', legend=None)\n",
    ").configure_axis(\n",
    "    grid=False).properties(height=100, width=700)"
   ]
  },
  {
   "cell_type": "code",
   "execution_count": 20,
   "metadata": {
    "scrolled": true
   },
   "outputs": [
    {
     "data": {
      "text/html": [
       "\n",
       "<div id=\"altair-viz-a7f9b1e806d847db819866f77c68514d\"></div>\n",
       "<script type=\"text/javascript\">\n",
       "  (function(spec, embedOpt){\n",
       "    const outputDiv = document.getElementById(\"altair-viz-a7f9b1e806d847db819866f77c68514d\");\n",
       "    const paths = {\n",
       "      \"vega\": \"https://cdn.jsdelivr.net/npm//vega@5?noext\",\n",
       "      \"vega-lib\": \"https://cdn.jsdelivr.net/npm//vega-lib?noext\",\n",
       "      \"vega-lite\": \"https://cdn.jsdelivr.net/npm//vega-lite@4.0.2?noext\",\n",
       "      \"vega-embed\": \"https://cdn.jsdelivr.net/npm//vega-embed@6?noext\",\n",
       "    };\n",
       "\n",
       "    function loadScript(lib) {\n",
       "      return new Promise(function(resolve, reject) {\n",
       "        var s = document.createElement('script');\n",
       "        s.src = paths[lib];\n",
       "        s.async = true;\n",
       "        s.onload = () => resolve(paths[lib]);\n",
       "        s.onerror = () => reject(`Error loading script: ${paths[lib]}`);\n",
       "        document.getElementsByTagName(\"head\")[0].appendChild(s);\n",
       "      });\n",
       "    }\n",
       "\n",
       "    function showError(err) {\n",
       "      outputDiv.innerHTML = `<div class=\"error\" style=\"color:red;\">${err}</div>`;\n",
       "      throw err;\n",
       "    }\n",
       "\n",
       "    function displayChart(vegaEmbed) {\n",
       "      vegaEmbed(outputDiv, spec, embedOpt)\n",
       "        .catch(err => showError(`Javascript Error: ${err.message}<br>This usually means there's a typo in your chart specification. See the javascript console for the full traceback.`));\n",
       "    }\n",
       "\n",
       "    if(typeof define === \"function\" && define.amd) {\n",
       "      requirejs.config({paths});\n",
       "      require([\"vega-embed\"], displayChart, err => showError(`Error loading script: ${err.message}`));\n",
       "    } else if (typeof vegaEmbed === \"function\") {\n",
       "      displayChart(vegaEmbed);\n",
       "    } else {\n",
       "      loadScript(\"vega\")\n",
       "        .then(() => loadScript(\"vega-lite\"))\n",
       "        .then(() => loadScript(\"vega-embed\"))\n",
       "        .catch(showError)\n",
       "        .then(() => displayChart(vegaEmbed));\n",
       "    }\n",
       "  })({\"config\": {\"view\": {\"width\": 800, \"height\": 450}, \"background\": \"#ffffff\", \"title\": {\"anchor\": \"start\", \"font\": \"Benton Gothic Bold, sans\", \"fontColor\": \"#000000\", \"fontSize\": 22, \"fontWeight\": \"normal\"}, \"arc\": {\"fill\": \"#82c6df\"}, \"area\": {\"fill\": \"#82c6df\"}, \"line\": {\"stroke\": \"#82c6df\", \"strokeWidth\": 3}, \"path\": {\"stroke\": \"#82c6df\"}, \"rect\": {\"fill\": \"#82c6df\"}, \"shape\": {\"stroke\": \"#82c6df\"}, \"bar\": {\"fill\": \"#82c6df\"}, \"point\": {\"stroke\": \"#82c6df\"}, \"symbol\": {\"fill\": \"#82c6df\", \"size\": 30}, \"axis\": {\"titleFont\": \"Benton Gothic Bold, sans\", \"titleFontSize\": 13, \"titleFontWeight\": \"normal\", \"labelFont\": \"Benton Gothic, sans\", \"labelFontSize\": 11.5, \"labelFontWeight\": \"normal\", \"grid\": false}, \"axisX\": {\"labelAngle\": 0, \"labelPadding\": 4, \"tickSize\": 3}, \"axisY\": {\"labelBaseline\": \"middle\", \"maxExtent\": 45, \"minExtent\": 45, \"tickSize\": 2, \"titleAlign\": \"left\", \"titleAngle\": 0, \"titleX\": -45, \"titleY\": -11}, \"legend\": {\"titleFont\": \"Benton Gothic Bold, sans\", \"titleFontSize\": 13, \"titleFontWeight\": \"normal\", \"symbolType\": \"square\", \"labelFont\": \"Benton Gothic, sans\", \"labelFontSize\": 11.5}, \"range\": {\"category\": [\"#3580b1\", \"#ec8431\", \"#ab7fb4\", \"#c89d29\", \"#adc839\", \"#829eb1\"], \"diverging\": [\"#e68a4f\", \"#f4bb6a\", \"#f9e39c\", \"#dadfe2\", \"#a6b7c6\", \"#849eae\"], \"heatmap\": [\"#fbf2c7\", \"#f9e39c\", \"#f8d36e\", \"#f4bb6a\", \"#e68a4f\", \"#d15a40\", \"#ab4232\"], \"ordinal\": [\"#fbf2c7\", \"#f9e39c\", \"#f8d36e\", \"#f4bb6a\", \"#e68a4f\", \"#d15a40\", \"#ab4232\"], \"ramp\": [\"#fbf2c7\", \"#f9e39c\", \"#f8d36e\", \"#f4bb6a\", \"#e68a4f\", \"#d15a40\", \"#ab4232\"]}}, \"data\": {\"name\": \"data-7c8b8837e3db213cb2339b0fa7827d31\"}, \"mark\": {\"type\": \"tick\", \"size\": 20, \"thickness\": 2}, \"encoding\": {\"color\": {\"type\": \"nominal\", \"field\": \"gender_description\", \"legend\": null}, \"x\": {\"type\": \"temporal\", \"axis\": {\"format\": \"%b\", \"tickColor\": \"#ffffff\", \"tickCount\": 12}, \"field\": \"date\", \"title\": \"\"}, \"y\": {\"type\": \"nominal\", \"axis\": {\"tickColor\": \"#ffffff\", \"tickCount\": 0}, \"field\": \"gender_description\", \"title\": \" \"}}, \"height\": 100, \"width\": 320, \"$schema\": \"https://vega.github.io/schema/vega-lite/v4.0.2.json\", \"datasets\": {\"data-7c8b8837e3db213cb2339b0fa7827d31\": [{\"order\": 1, \"title\": \"Brotopia\", \"author\": \"Emily Chang\", \"pages\": 317, \"url\": \"https://www.goodreads.com/book/show/36288143-brotopia\", \"gender\": \"F\", \"type\": \"Non-Fiction\", \"subgenre\": \"Business\", \"avg_goodreads_rating\": 4.04, \"started\": \"2018-12-26T00:00:00\", \"date\": \"2019-01-06T00:00:00\", \"faves\": null, \"year\": \"2019\", \"days_to_read\": 11, \"gender_description\": \"Female\"}, {\"order\": 2, \"title\": \"The Human Stain\", \"author\": \"Philip Roth\", \"pages\": 384, \"url\": \"https://www.goodreads.com/book/show/11734.The_Human_Stain?from_search=true\", \"gender\": \"M\", \"type\": \"Fiction\", \"subgenre\": \"Literature\", \"avg_goodreads_rating\": 3.87, \"started\": \"2019-01-06T00:00:00\", \"date\": \"2019-01-16T00:00:00\", \"faves\": \"Y\", \"year\": \"2019\", \"days_to_read\": 10, \"gender_description\": \"Male\"}, {\"order\": 3, \"title\": \"You Know You Want This\", \"author\": \"Kristen Roupenian\", \"pages\": 225, \"url\": \"https://www.goodreads.com/book/show/40539045-you-know-you-want-this\", \"gender\": \"F\", \"type\": \"Fiction\", \"subgenre\": \"Short Stories\", \"avg_goodreads_rating\": 3.86, \"started\": \"2019-01-16T00:00:00\", \"date\": \"2019-01-19T00:00:00\", \"faves\": null, \"year\": \"2019\", \"days_to_read\": 3, \"gender_description\": \"Female\"}, {\"order\": 4, \"title\": \"Why Buddhism is True\", \"author\": \"Robert Wright\", \"pages\": 336, \"url\": \"https://www.goodreads.com/book/show/32895535-why-buddhism-is-true?from_search=true\", \"gender\": \"M\", \"type\": \"Non-Fiction\", \"subgenre\": \"Religion\", \"avg_goodreads_rating\": 4.05, \"started\": \"2019-01-18T00:00:00\", \"date\": \"2019-04-02T00:00:00\", \"faves\": null, \"year\": \"2019\", \"days_to_read\": 74, \"gender_description\": \"Male\"}, {\"order\": 5, \"title\": \"If Beale Street Could Talk\", \"author\": \"James Baldwin\", \"pages\": 197, \"url\": \"https://www.goodreads.com/book/show/38463.If_Beale_Street_Could_Talk\", \"gender\": \"M\", \"type\": \"Fiction\", \"subgenre\": \"Classics\", \"avg_goodreads_rating\": 4.29, \"started\": \"2019-01-22T00:00:00\", \"date\": \"2019-01-28T00:00:00\", \"faves\": null, \"year\": \"2019\", \"days_to_read\": 6, \"gender_description\": \"Male\"}, {\"order\": 6, \"title\": \"Nobody Cares\", \"author\": \"Anne Donahue\", \"pages\": 240, \"url\": \"https://www.goodreads.com/book/show/36360167-nobody-cares\", \"gender\": \"F\", \"type\": \"Non-Fiction\", \"subgenre\": \"Essays\", \"avg_goodreads_rating\": 3.67, \"started\": \"2019-02-03T00:00:00\", \"date\": \"2019-02-25T00:00:00\", \"faves\": null, \"year\": \"2019\", \"days_to_read\": 22, \"gender_description\": \"Female\"}, {\"order\": 7, \"title\": \"Acts of Infidelity\", \"author\": \"Lena Andersson\", \"pages\": 366, \"url\": \"https://www.goodreads.com/book/show/22601256-utan-personligt-ansvar\", \"gender\": \"F\", \"type\": \"Fiction\", \"subgenre\": \"Swedish Lit\", \"avg_goodreads_rating\": 3.66, \"started\": \"2019-02-01T00:00:00\", \"date\": \"2019-02-08T00:00:00\", \"faves\": null, \"year\": \"2019\", \"days_to_read\": 7, \"gender_description\": \"Female\"}, {\"order\": 8, \"title\": \"There Will Be No Miracles Here\", \"author\": \"Casey Gerald\", \"pages\": 394, \"url\": \"https://www.goodreads.com/book/show/38650651-there-will-be-no-miracles-here?from_search=true\", \"gender\": \"M\", \"type\": \"Non-Fiction\", \"subgenre\": \"Memoir\", \"avg_goodreads_rating\": 3.72, \"started\": \"2019-01-27T00:00:00\", \"date\": \"2019-02-11T00:00:00\", \"faves\": null, \"year\": \"2019\", \"days_to_read\": 15, \"gender_description\": \"Male\"}, {\"order\": 9, \"title\": \"The Unbearable Lightness of Being\", \"author\": \"Milan Kundera\", \"pages\": 320, \"url\": \"https://www.goodreads.com/book/show/9717.The_Unbearable_Lightness_of_Being?from_search=true\", \"gender\": \"M\", \"type\": \"Fiction\", \"subgenre\": \"Classics\", \"avg_goodreads_rating\": 4.09, \"started\": \"2019-02-16T00:00:00\", \"date\": \"2019-02-23T00:00:00\", \"faves\": null, \"year\": \"2019\", \"days_to_read\": 7, \"gender_description\": \"Male\"}, {\"order\": 10, \"title\": \"The Beauty Myth\", \"author\": \"Naomi Wolf\", \"pages\": 368, \"url\": \"https://www.goodreads.com/book/show/39926.The_Beauty_Myth\", \"gender\": \"F\", \"type\": \"Non-Fiction\", \"subgenre\": \"Feminism\", \"avg_goodreads_rating\": 3.9, \"started\": \"2019-02-12T00:00:00\", \"date\": \"2019-11-04T00:00:00\", \"faves\": null, \"year\": \"2019\", \"days_to_read\": 265, \"gender_description\": \"Female\"}, {\"order\": 11, \"title\": \"LOT\", \"author\": \"Bryan Washington\", \"pages\": 240, \"url\": \"https://www.goodreads.com/book/show/40749395-lot\", \"gender\": \"M\", \"type\": \"Fiction\", \"subgenre\": \"Short Stories\", \"avg_goodreads_rating\": 3.74, \"started\": \"2019-02-28T00:00:00\", \"date\": \"2019-03-15T00:00:00\", \"faves\": \"Y\", \"year\": \"2019\", \"days_to_read\": 15, \"gender_description\": \"Male\"}, {\"order\": 12, \"title\": \"Oculus\", \"author\": \"Sally Wen Mao\", \"pages\": 119, \"url\": \"https://www.goodreads.com/book/show/40121999-oculus\", \"gender\": \"F\", \"type\": \"Poetry\", \"subgenre\": \"Contemporary\", \"avg_goodreads_rating\": 4.22, \"started\": \"2019-03-03T00:00:00\", \"date\": \"2019-03-11T00:00:00\", \"faves\": null, \"year\": \"2019\", \"days_to_read\": 8, \"gender_description\": \"Female\"}, {\"order\": 13, \"title\": \"Homo Deus: A Brief History of Tomorrow\", \"author\": \"Yuval Harari\", \"pages\": 450, \"url\": \"https://www.goodreads.com/book/show/31138556-homo-deus?from_search=true\", \"gender\": \"M\", \"type\": \"Non-Fiction\", \"subgenre\": \"History\", \"avg_goodreads_rating\": 4.29, \"started\": \"2019-03-22T00:00:00\", \"date\": \"2019-04-19T00:00:00\", \"faves\": null, \"year\": \"2019\", \"days_to_read\": 28, \"gender_description\": \"Male\"}, {\"order\": 14, \"title\": \"Heart Berries\", \"author\": \"Terese Marie Mailhot\", \"pages\": 143, \"url\": \"https://www.goodreads.com/book/show/35840657-heart-berries\", \"gender\": \"F\", \"type\": \"Non-Fiction\", \"subgenre\": \"Memoir\", \"avg_goodreads_rating\": 3.89, \"started\": \"2019-04-03T00:00:00\", \"date\": \"2019-04-06T00:00:00\", \"faves\": null, \"year\": \"2019\", \"days_to_read\": 3, \"gender_description\": \"Female\"}, {\"order\": 15, \"title\": \"Lake Success\", \"author\": \"Gary Schneyngart\", \"pages\": 339, \"url\": \"https://www.goodreads.com/book/show/36739942-lake-success\", \"gender\": \"M\", \"type\": \"Fiction\", \"subgenre\": \"Contemporary\", \"avg_goodreads_rating\": 3.64, \"started\": \"2019-04-21T00:00:00\", \"date\": \"2019-12-07T00:00:00\", \"faves\": null, \"year\": \"2019\", \"days_to_read\": 230, \"gender_description\": \"Male\"}, {\"order\": 16, \"title\": \"Normal People\", \"author\": \"Sally Rooney\", \"pages\": 266, \"url\": \"https://www.goodreads.com/book/show/37539457-normal-people\", \"gender\": \"F\", \"type\": \"Fiction\", \"subgenre\": \"Contemporary\", \"avg_goodreads_rating\": 3.89, \"started\": \"2019-04-20T00:00:00\", \"date\": \"2019-04-21T00:00:00\", \"faves\": \"Y\", \"year\": \"2019\", \"days_to_read\": 1, \"gender_description\": \"Female\"}, {\"order\": 17, \"title\": \"Less\", \"author\": \"Andrew Sean Greer\", \"pages\": 273, \"url\": \"https://www.goodreads.com/book/show/39927096-less\", \"gender\": \"M\", \"type\": \"Fiction\", \"subgenre\": \"Contemporary\", \"avg_goodreads_rating\": 3.76, \"started\": \"2019-04-25T00:00:00\", \"date\": \"2019-05-08T00:00:00\", \"faves\": null, \"year\": \"2019\", \"days_to_read\": 13, \"gender_description\": \"Male\"}, {\"order\": 18, \"title\": \"Nobody is Ever Missing\", \"author\": \"Catherine Lacey\", \"pages\": 244, \"url\": \"https://www.goodreads.com/book/show/18490560-nobody-is-ever-missing?from_search=true\", \"gender\": \"F\", \"type\": \"Fiction\", \"subgenre\": \"Contemporary\", \"avg_goodreads_rating\": 3.27, \"started\": \"2019-05-08T00:00:00\", \"date\": \"2019-05-13T00:00:00\", \"faves\": null, \"year\": \"2019\", \"days_to_read\": 5, \"gender_description\": \"Female\"}, {\"order\": 19, \"title\": \"The New Me\", \"author\": \"Halle Butler\", \"pages\": 208, \"url\": \"https://www.goodreads.com/book/show/36342706-the-new-me\", \"gender\": \"F\", \"type\": \"Fiction\", \"subgenre\": \"Contemporary\", \"avg_goodreads_rating\": 3.6, \"started\": \"2019-05-13T00:00:00\", \"date\": \"2019-05-18T00:00:00\", \"faves\": \"Nope\", \"year\": \"2019\", \"days_to_read\": 5, \"gender_description\": \"Female\"}, {\"order\": 20, \"title\": \"The Empathy Exams\", \"author\": \"Leslie Jamison\", \"pages\": 226, \"url\": \"https://www.goodreads.com/en/book/show/17934655\", \"gender\": \"F\", \"type\": \"Non-Fiction\", \"subgenre\": \"Essays\", \"avg_goodreads_rating\": 3.64, \"started\": \"2019-05-18T00:00:00\", \"date\": \"2019-05-27T00:00:00\", \"faves\": null, \"year\": \"2019\", \"days_to_read\": 9, \"gender_description\": \"Female\"}, {\"order\": 21, \"title\": \"Bad Blood\", \"author\": \"John Carreyou\", \"pages\": 339, \"url\": \"https://www.goodreads.com/book/show/37976541-bad-blood?from_search=true\", \"gender\": \"M\", \"type\": \"Non-Fiction\", \"subgenre\": \"True Crime\", \"avg_goodreads_rating\": 4.48, \"started\": \"2019-06-01T00:00:00\", \"date\": \"2019-06-12T00:00:00\", \"faves\": null, \"year\": \"2019\", \"days_to_read\": 11, \"gender_description\": \"Male\"}, {\"order\": 22, \"title\": \"The Recovering: Intoxication and its Aftermath\", \"author\": \"Leslie Jamison\", \"pages\": 545, \"url\": \"https://www.goodreads.com/book/show/35959632-the-recovering\", \"gender\": \"F\", \"type\": \"Non-Fiction\", \"subgenre\": \"Memoir\", \"avg_goodreads_rating\": 3.96, \"started\": \"2019-05-27T00:00:00\", \"date\": \"2019-06-01T00:00:00\", \"faves\": \"Y\", \"year\": \"2019\", \"days_to_read\": 5, \"gender_description\": \"Female\"}, {\"order\": 23, \"title\": \"Evvie Drake Starts Over\", \"author\": \"Linda Holmes\", \"pages\": 304, \"url\": \"https://www.goodreads.com/book/show/40514431-evvie-drake-starts-over?ac=1&from_search=true\", \"gender\": \"F\", \"type\": \"Fiction\", \"subgenre\": \"Young Adult\", \"avg_goodreads_rating\": 4.22, \"started\": \"2019-06-30T00:00:00\", \"date\": \"2019-06-30T00:00:00\", \"faves\": null, \"year\": \"2019\", \"days_to_read\": 0, \"gender_description\": \"Female\"}, {\"order\": 24, \"title\": \"How to Change Your Mind\", \"author\": \"Michael Pollan\", \"pages\": 480, \"url\": \"https://www.goodreads.com/book/show/36613747-how-to-change-your-mind?from_search=true\", \"gender\": \"M\", \"type\": \"Non-Fiction\", \"subgenre\": \"Science\", \"avg_goodreads_rating\": 4.31, \"started\": \"2019-06-12T00:00:00\", \"date\": \"2019-10-18T00:00:00\", \"faves\": null, \"year\": \"2019\", \"days_to_read\": 128, \"gender_description\": \"Male\"}, {\"order\": 25, \"title\": \"Trust Exercise\", \"author\": \"Susan Choi\", \"pages\": 257, \"url\": \"https://www.goodreads.com/en/book/show/40046059\", \"gender\": \"F\", \"type\": \"Fiction\", \"subgenre\": \"Contemporary\", \"avg_goodreads_rating\": 3.23, \"started\": \"2019-06-12T00:00:00\", \"date\": \"2019-06-14T00:00:00\", \"faves\": \"Y\", \"year\": \"2019\", \"days_to_read\": 2, \"gender_description\": \"Female\"}, {\"order\": 26, \"title\": \"Trick Mirror\", \"author\": \"Jia Tolentino\", \"pages\": 256, \"url\": \"https://www.goodreads.com/book/show/43126457-trick-mirror?from_search=true\", \"gender\": \"F\", \"type\": \"Non-Fiction\", \"subgenre\": \"Essays\", \"avg_goodreads_rating\": 4.33, \"started\": \"2019-06-15T00:00:00\", \"date\": \"2019-06-30T00:00:00\", \"faves\": \"Y\", \"year\": \"2019\", \"days_to_read\": 15, \"gender_description\": \"Female\"}, {\"order\": 27, \"title\": \"Territory of Light\", \"author\": \"Yuko Tsushima\", \"pages\": 122, \"url\": \"https://www.goodreads.com/book/show/33871745-territory-of-light\", \"gender\": \"F\", \"type\": \"Fiction\", \"subgenre\": \"Japanese Lit\", \"avg_goodreads_rating\": 3.66, \"started\": \"2019-07-01T00:00:00\", \"date\": \"2019-07-06T00:00:00\", \"faves\": null, \"year\": \"2019\", \"days_to_read\": 5, \"gender_description\": \"Female\"}, {\"order\": 28, \"title\": \"Unclaimed Baggage\", \"author\": \"Jen Doll\", \"pages\": 384, \"url\": \"https://www.goodreads.com/book/show/36949992-unclaimed-baggage?ac=1&from_search=true\", \"gender\": \"F\", \"type\": \"Fiction\", \"subgenre\": \"Young Adult\", \"avg_goodreads_rating\": 3.73, \"started\": \"2019-01-08T00:00:00\", \"date\": \"2019-07-11T00:00:00\", \"faves\": null, \"year\": \"2019\", \"days_to_read\": 184, \"gender_description\": \"Female\"}, {\"order\": 29, \"title\": \"Fleishman Is In Trouble\", \"author\": \"Taffy Brodesser-Akner\", \"pages\": 384, \"url\": \"https://www.goodreads.com/book/show/41880602-fleishman-is-in-trouble?ac=1&from_search=true\", \"gender\": \"F\", \"type\": \"Fiction\", \"subgenre\": \"Contemporary\", \"avg_goodreads_rating\": 4.1, \"started\": \"2019-06-17T00:00:00\", \"date\": \"2019-06-28T00:00:00\", \"faves\": \"Y\", \"year\": \"2019\", \"days_to_read\": 11, \"gender_description\": \"Female\"}, {\"order\": 30, \"title\": \"Lifespan\", \"author\": \"David Sinclair\", \"pages\": 432, \"url\": \"https://www.goodreads.com/book/show/43723901-lifespan?ac=1&from_search=true\", \"gender\": \"M\", \"type\": \"Non-Fiction\", \"subgenre\": \"Science\", \"avg_goodreads_rating\": 4.27, \"started\": \"2019-07-01T00:00:00\", \"date\": \"2019-07-18T00:00:00\", \"faves\": null, \"year\": \"2019\", \"days_to_read\": 17, \"gender_description\": \"Male\"}, {\"order\": 31, \"title\": \"Uncanny Valley\", \"author\": \"Anna Wiener\", \"pages\": 304, \"url\": \"https://www.goodreads.com/book/show/45186565-uncanny-valley?ac=1&from_search=true\", \"gender\": \"F\", \"type\": \"Non-Fiction\", \"subgenre\": \"Memoir\", \"avg_goodreads_rating\": 4.2, \"started\": \"2019-07-19T00:00:00\", \"date\": \"2019-07-21T00:00:00\", \"faves\": \"y\", \"year\": \"2019\", \"days_to_read\": 2, \"gender_description\": \"Female\"}, {\"order\": 32, \"title\": \"Hit Makers\", \"author\": \"Derek Thompson\", \"pages\": 352, \"url\": \"https://www.goodreads.com/book/show/30901608-hit-makers\", \"gender\": \"M\", \"type\": \"Non-Fiction\", \"subgenre\": \"Pop Culture\", \"avg_goodreads_rating\": 3.95, \"started\": \"2019-07-20T00:00:00\", \"date\": \"2019-08-06T00:00:00\", \"faves\": null, \"year\": \"2019\", \"days_to_read\": 17, \"gender_description\": \"Male\"}, {\"order\": 33, \"title\": \"Genghis Khan and the Making of the Modern World\", \"author\": \"Jack Weatherford\", \"pages\": 352, \"url\": \"https://www.goodreads.com/book/show/40718726-genghis-khan-and-the-making-of-the-modern-world?ac=1&from_search=true\", \"gender\": \"M\", \"type\": \"Non-Fiction\", \"subgenre\": \"History\", \"avg_goodreads_rating\": 4.02, \"started\": \"2019-07-25T00:00:00\", \"date\": \"2019-09-07T00:00:00\", \"faves\": null, \"year\": \"2019\", \"days_to_read\": 44, \"gender_description\": \"Male\"}, {\"order\": 34, \"title\": \"For the Love of Men: A New Vision for Mindful Masculinity\", \"author\": \"Liz Plank\", \"pages\": 300, \"url\": \"https://www.goodreads.com/book/show/43263540-for-the-love-of-men\", \"gender\": \"F\", \"type\": \"Non-Fiction\", \"subgenre\": \"Feminism\", \"avg_goodreads_rating\": 4.38, \"started\": \"2019-07-23T00:00:00\", \"date\": \"2019-08-02T00:00:00\", \"faves\": null, \"year\": \"2019\", \"days_to_read\": 10, \"gender_description\": \"Female\"}, {\"order\": 35, \"title\": \"Three Women\", \"author\": \"Lisa Taddeo\", \"pages\": 304, \"url\": \"https://www.goodreads.com/book/show/42201100-three-women\", \"gender\": \"F\", \"type\": \"Non-Fiction\", \"subgenre\": \"Feminism\", \"avg_goodreads_rating\": 3.87, \"started\": \"2019-08-15T00:00:00\", \"date\": \"2019-08-22T00:00:00\", \"faves\": \"y\", \"year\": \"2019\", \"days_to_read\": 7, \"gender_description\": \"Female\"}, {\"order\": 36, \"title\": \"Brave New World\", \"author\": \"Aldous Huxley\", \"pages\": 288, \"url\": \"https://www.goodreads.com/book/show/5129.Brave_New_World?ac=1&from_search=true\", \"gender\": \"M\", \"type\": \"Fiction\", \"subgenre\": \"Science \", \"avg_goodreads_rating\": 3.98, \"started\": \"2019-09-15T00:00:00\", \"date\": \"2019-09-16T00:00:00\", \"faves\": null, \"year\": \"2019\", \"days_to_read\": 1, \"gender_description\": \"Male\"}, {\"order\": 37, \"title\": \"Permanent Record\", \"author\": \"Mary HK Choi\", \"pages\": 400, \"url\": \"https://www.goodreads.com/book/show/43562239-permanent-record?from_search=true\", \"gender\": \"F\", \"type\": \"Fiction\", \"subgenre\": \"Young Adult\", \"avg_goodreads_rating\": 3.84, \"started\": \"2019-09-07T00:00:00\", \"date\": \"2019-09-11T00:00:00\", \"faves\": null, \"year\": \"2019\", \"days_to_read\": 4, \"gender_description\": \"Female\"}, {\"order\": 38, \"title\": \"I Was Their American Dream\", \"author\": \"Malaka Gharib\", \"pages\": 160, \"url\": \"https://www.goodreads.com/book/show/40909448-i-was-their-american-dream?from_search=true\", \"gender\": \"F\", \"type\": \"Non-Fiction\", \"subgenre\": \"Graphic Novel\", \"avg_goodreads_rating\": 4.3, \"started\": \"2019-09-05T00:00:00\", \"date\": \"2019-09-12T00:00:00\", \"faves\": null, \"year\": \"2019\", \"days_to_read\": 7, \"gender_description\": \"Female\"}, {\"order\": 39, \"title\": \"Men Without Women\", \"author\": \"Haruki Murakami\", \"pages\": 242, \"url\": \"https://www.goodreads.com/book/show/31950871-men-without-women\", \"gender\": \"M\", \"type\": \"Fiction\", \"subgenre\": \"Short Stories\", \"avg_goodreads_rating\": 3.77, \"started\": \"2019-09-18T00:00:00\", \"date\": \"2019-09-25T00:00:00\", \"faves\": null, \"year\": \"2019\", \"days_to_read\": 7, \"gender_description\": \"Male\"}, {\"order\": 40, \"title\": \"Make it Scream Make it Burn\", \"author\": \"Leslie Jamison\", \"pages\": 272, \"url\": \"https://www.goodreads.com/book/show/43521617-make-it-scream-make-it-burn?from_search=true\", \"gender\": \"F\", \"type\": \"Non-Fiction\", \"subgenre\": \"Essays\", \"avg_goodreads_rating\": 4.13, \"started\": \"2019-10-02T00:00:00\", \"date\": \"2019-10-06T00:00:00\", \"faves\": null, \"year\": \"2019\", \"days_to_read\": 4, \"gender_description\": \"Female\"}, {\"order\": 41, \"title\": \"How to Talk So Your Kids Will Listen\", \"author\": \"Adele Faber and Elaine Mazlish\", \"pages\": 368, \"url\": \"https://www.goodreads.com/book/show/12371502-how-to-talk-so-kids-will-listen-listen-so-kids-will-talk\", \"gender\": \"F\", \"type\": \"Non-Fiction\", \"subgenre\": \"Parenting\", \"avg_goodreads_rating\": 4.26, \"started\": \"2019-09-28T00:00:00\", \"date\": \"2019-10-02T00:00:00\", \"faves\": \"Y\", \"year\": \"2019\", \"days_to_read\": 4, \"gender_description\": \"Female\"}, {\"order\": 43, \"title\": \"Maybe You Should Talk to Somebody\", \"author\": \"Lori Gottlieb\", \"pages\": 432, \"url\": \"https://www.goodreads.com/book/show/37570546-maybe-you-should-talk-to-someone?from_search=true\", \"gender\": \"F\", \"type\": \"Non-Fiction\", \"subgenre\": \"Memoir\", \"avg_goodreads_rating\": 4.4, \"started\": \"2019-10-18T00:00:00\", \"date\": \"2019-11-25T00:00:00\", \"faves\": \"Y\", \"year\": \"2019\", \"days_to_read\": 38, \"gender_description\": \"Female\"}, {\"order\": 44, \"title\": \"Think Like Your Editor\", \"author\": \"Susan Rabiner\", \"pages\": 288, \"url\": \"https://www.goodreads.com/book/show/18988615-thinking-like-your-editor?utm_content=review_cta_book_image&utm_medium=email&utm_source=bookend\", \"gender\": \"F\", \"type\": \"Non-Fiction\", \"subgenre\": \"Writing\", \"avg_goodreads_rating\": 4.04, \"started\": \"2019-10-24T00:00:00\", \"date\": \"2019-10-28T00:00:00\", \"faves\": null, \"year\": \"2019\", \"days_to_read\": 4, \"gender_description\": \"Female\"}, {\"order\": 45, \"title\": \"Kim Ji Young Born 1982\", \"author\": \"Cho Nam-joo\", \"pages\": 144, \"url\": \"https://www.goodreads.com/book/show/47320138-kim-ji-young-born-1982?ac=1&from_search=true\", \"gender\": \"F\", \"type\": \"Fiction\", \"subgenre\": \"Feminism\", \"avg_goodreads_rating\": 4.17, \"started\": \"2019-10-28T00:00:00\", \"date\": \"2019-10-31T00:00:00\", \"faves\": null, \"year\": \"2019\", \"days_to_read\": 3, \"gender_description\": \"Female\"}, {\"order\": 46, \"title\": \"Superman vs the KKK\", \"author\": \"Rick Bowers\", \"pages\": 160, \"url\": \"https://www.goodreads.com/book/show/11407829-superman-versus-the-ku-klux-klan?from_search=true\", \"gender\": \"M\", \"type\": \"Non-Fiction\", \"subgenre\": \"History\", \"avg_goodreads_rating\": 3.66, \"started\": \"2019-10-28T00:00:00\", \"date\": \"2019-10-29T00:00:00\", \"faves\": null, \"year\": \"2019\", \"days_to_read\": 1, \"gender_description\": \"Male\"}, {\"order\": 47, \"title\": \"The Likeability Trap\", \"author\": \"Alicia Menendez\", \"pages\": 240, \"url\": \"https://www.goodreads.com/book/show/46408581-the-likeability-trap?from_search=true&qid=oURYa3fiGo&rank=1\", \"gender\": \"F\", \"type\": \"Non-Fiction\", \"subgenre\": \"Feminism\", \"avg_goodreads_rating\": 3.7, \"started\": \"2019-11-08T00:00:00\", \"date\": \"2019-11-13T00:00:00\", \"faves\": null, \"year\": \"2019\", \"days_to_read\": 5, \"gender_description\": \"Female\"}, {\"order\": 48, \"title\": \"A Short HIstory of Progress\", \"author\": \"Ronald Wright\", \"pages\": 224, \"url\": \"https://www.goodreads.com/book/show/331227.A_Short_History_of_Progress?from_search=true&qid=supt2TGSOt&rank=1\", \"gender\": \"M\", \"type\": \"Non-Fiction\", \"subgenre\": \"History\", \"avg_goodreads_rating\": 4.1, \"started\": \"2019-11-13T00:00:00\", \"date\": \"2019-11-29T00:00:00\", \"faves\": null, \"year\": \"2019\", \"days_to_read\": 16, \"gender_description\": \"Male\"}, {\"order\": 49, \"title\": \"The Last Romantics\", \"author\": \"Tara Conklin\", \"pages\": 368, \"url\": \"https://www.goodreads.com/book/show/35068465-the-last-romantics?ac=1&from_search=true&qid=dert731j6D&rank=1\", \"gender\": \"F\", \"type\": \"Fiction\", \"subgenre\": \"Contemporary\", \"avg_goodreads_rating\": 3.78, \"started\": \"2019-11-29T00:00:00\", \"date\": \"2019-12-02T00:00:00\", \"faves\": \"Y\", \"year\": \"2019\", \"days_to_read\": 3, \"gender_description\": \"Female\"}, {\"order\": 50, \"title\": \"Four Soldiers\", \"author\": \"Hubert Mingarelli\", \"pages\": 160, \"url\": \"https://www.goodreads.com/book/show/41557466-four-soldiers?from_search=true&qid=tFOQALgbWg&rank=1\", \"gender\": \"F\", \"type\": \"Fiction\", \"subgenre\": \"Historical\", \"avg_goodreads_rating\": 3.78, \"started\": \"2019-11-29T00:00:00\", \"date\": \"2019-12-03T00:00:00\", \"faves\": null, \"year\": \"2019\", \"days_to_read\": 4, \"gender_description\": \"Female\"}, {\"order\": 51, \"title\": \"Working\", \"author\": \"Robert Caro\", \"pages\": 231, \"url\": \"https://www.goodreads.com/book/show/43205240-working?from_search=true&qid=51xloY5uTL&rank=1\", \"gender\": \"M\", \"type\": \"Non-Fiction\", \"subgenre\": \"Writing\", \"avg_goodreads_rating\": 4.43, \"started\": \"2019-12-15T00:00:00\", \"date\": \"2019-12-18T00:00:00\", \"faves\": null, \"year\": \"2019\", \"days_to_read\": 3, \"gender_description\": \"Male\"}, {\"order\": 52, \"title\": \"The Incendiaries\", \"author\": \"R.O. Kwon\", \"pages\": 214, \"url\": \"https://www.goodreads.com/book/show/36679056-the-incendiaries\", \"gender\": \"F\", \"type\": \"Fiction\", \"subgenre\": \"Contemporary\", \"avg_goodreads_rating\": 3.28, \"started\": \"2019-12-19T00:00:00\", \"date\": \"2019-12-19T00:00:00\", \"faves\": null, \"year\": \"2019\", \"days_to_read\": 0, \"gender_description\": \"Female\"}, {\"order\": 53, \"title\": \"Wedding Toasts I'll Never Give\", \"author\": \"Ada Calhoun\", \"pages\": 192, \"url\": \"https://www.goodreads.com/book/show/36236126-wedding-toasts-i-ll-never-give\", \"gender\": \"F\", \"type\": \"Non-Fiction\", \"subgenre\": \"Essays\", \"avg_goodreads_rating\": 3.86, \"started\": \"2019-12-26T00:00:00\", \"date\": \"2019-12-27T00:00:00\", \"faves\": null, \"year\": \"2019\", \"days_to_read\": 1, \"gender_description\": \"Female\"}]}}, {\"mode\": \"vega-lite\"});\n",
       "</script>"
      ],
      "text/plain": [
       "alt.Chart(...)"
      ]
     },
     "execution_count": 20,
     "metadata": {},
     "output_type": "execute_result"
    }
   ],
   "source": [
    "# MOBILE\n",
    "alt.Chart(books).mark_tick(thickness=2,size=20).encode(\n",
    "    x=alt.X('date',axis=alt.Axis(tickCount=12, format='%b', tickColor='#ffffff'), title=''),\n",
    "    y=alt.Y('gender_description',axis=alt.Axis(tickCount=0, tickColor='#ffffff'), title=' '),\n",
    "    color=alt.Color('gender_description', legend=None)\n",
    ").configure_axis(\n",
    "    grid=False).properties(height=100, width=320)"
   ]
  },
  {
   "cell_type": "markdown",
   "metadata": {},
   "source": [
    "### Books by type and month"
   ]
  },
  {
   "cell_type": "code",
   "execution_count": 21,
   "metadata": {},
   "outputs": [
    {
     "data": {
      "text/html": [
       "\n",
       "<div id=\"altair-viz-acbc2c64447c48e6abce3a17d3f2284d\"></div>\n",
       "<script type=\"text/javascript\">\n",
       "  (function(spec, embedOpt){\n",
       "    const outputDiv = document.getElementById(\"altair-viz-acbc2c64447c48e6abce3a17d3f2284d\");\n",
       "    const paths = {\n",
       "      \"vega\": \"https://cdn.jsdelivr.net/npm//vega@5?noext\",\n",
       "      \"vega-lib\": \"https://cdn.jsdelivr.net/npm//vega-lib?noext\",\n",
       "      \"vega-lite\": \"https://cdn.jsdelivr.net/npm//vega-lite@4.0.2?noext\",\n",
       "      \"vega-embed\": \"https://cdn.jsdelivr.net/npm//vega-embed@6?noext\",\n",
       "    };\n",
       "\n",
       "    function loadScript(lib) {\n",
       "      return new Promise(function(resolve, reject) {\n",
       "        var s = document.createElement('script');\n",
       "        s.src = paths[lib];\n",
       "        s.async = true;\n",
       "        s.onload = () => resolve(paths[lib]);\n",
       "        s.onerror = () => reject(`Error loading script: ${paths[lib]}`);\n",
       "        document.getElementsByTagName(\"head\")[0].appendChild(s);\n",
       "      });\n",
       "    }\n",
       "\n",
       "    function showError(err) {\n",
       "      outputDiv.innerHTML = `<div class=\"error\" style=\"color:red;\">${err}</div>`;\n",
       "      throw err;\n",
       "    }\n",
       "\n",
       "    function displayChart(vegaEmbed) {\n",
       "      vegaEmbed(outputDiv, spec, embedOpt)\n",
       "        .catch(err => showError(`Javascript Error: ${err.message}<br>This usually means there's a typo in your chart specification. See the javascript console for the full traceback.`));\n",
       "    }\n",
       "\n",
       "    if(typeof define === \"function\" && define.amd) {\n",
       "      requirejs.config({paths});\n",
       "      require([\"vega-embed\"], displayChart, err => showError(`Error loading script: ${err.message}`));\n",
       "    } else if (typeof vegaEmbed === \"function\") {\n",
       "      displayChart(vegaEmbed);\n",
       "    } else {\n",
       "      loadScript(\"vega\")\n",
       "        .then(() => loadScript(\"vega-lite\"))\n",
       "        .then(() => loadScript(\"vega-embed\"))\n",
       "        .catch(showError)\n",
       "        .then(() => displayChart(vegaEmbed));\n",
       "    }\n",
       "  })({\"config\": {\"view\": {\"width\": 800, \"height\": 450}, \"background\": \"#ffffff\", \"title\": {\"anchor\": \"start\", \"font\": \"Benton Gothic Bold, sans\", \"fontColor\": \"#000000\", \"fontSize\": 22, \"fontWeight\": \"normal\"}, \"arc\": {\"fill\": \"#82c6df\"}, \"area\": {\"fill\": \"#82c6df\"}, \"line\": {\"stroke\": \"#82c6df\", \"strokeWidth\": 3}, \"path\": {\"stroke\": \"#82c6df\"}, \"rect\": {\"fill\": \"#82c6df\"}, \"shape\": {\"stroke\": \"#82c6df\"}, \"bar\": {\"fill\": \"#82c6df\"}, \"point\": {\"stroke\": \"#82c6df\"}, \"symbol\": {\"fill\": \"#82c6df\", \"size\": 30}, \"axis\": {\"titleFont\": \"Benton Gothic Bold, sans\", \"titleFontSize\": 13, \"titleFontWeight\": \"normal\", \"labelFont\": \"Benton Gothic, sans\", \"labelFontSize\": 11.5, \"labelFontWeight\": \"normal\", \"grid\": false}, \"axisX\": {\"labelAngle\": 0, \"labelPadding\": 4, \"tickSize\": 3}, \"axisY\": {\"labelBaseline\": \"middle\", \"maxExtent\": 45, \"minExtent\": 45, \"tickSize\": 2, \"titleAlign\": \"left\", \"titleAngle\": 0, \"titleX\": -45, \"titleY\": -11}, \"legend\": {\"titleFont\": \"Benton Gothic Bold, sans\", \"titleFontSize\": 13, \"titleFontWeight\": \"normal\", \"symbolType\": \"square\", \"labelFont\": \"Benton Gothic, sans\", \"labelFontSize\": 11.5}, \"range\": {\"category\": [\"#3580b1\", \"#ec8431\", \"#ab7fb4\", \"#c89d29\", \"#adc839\", \"#829eb1\"], \"diverging\": [\"#e68a4f\", \"#f4bb6a\", \"#f9e39c\", \"#dadfe2\", \"#a6b7c6\", \"#849eae\"], \"heatmap\": [\"#fbf2c7\", \"#f9e39c\", \"#f8d36e\", \"#f4bb6a\", \"#e68a4f\", \"#d15a40\", \"#ab4232\"], \"ordinal\": [\"#fbf2c7\", \"#f9e39c\", \"#f8d36e\", \"#f4bb6a\", \"#e68a4f\", \"#d15a40\", \"#ab4232\"], \"ramp\": [\"#fbf2c7\", \"#f9e39c\", \"#f8d36e\", \"#f4bb6a\", \"#e68a4f\", \"#d15a40\", \"#ab4232\"]}}, \"data\": {\"name\": \"data-7c8b8837e3db213cb2339b0fa7827d31\"}, \"mark\": {\"type\": \"tick\", \"size\": 20, \"thickness\": 3}, \"encoding\": {\"color\": {\"type\": \"nominal\", \"field\": \"type\", \"legend\": null}, \"x\": {\"type\": \"temporal\", \"axis\": {\"format\": \"%b\", \"tickColor\": \"#ffffff\", \"tickCount\": 12}, \"field\": \"date\", \"title\": \"\"}, \"y\": {\"type\": \"nominal\", \"axis\": {\"tickColor\": \"#ffffff\", \"tickCount\": 0}, \"field\": \"type\", \"title\": \" \"}}, \"height\": 200, \"title\": \"Books, by type and date finished\", \"width\": 700, \"$schema\": \"https://vega.github.io/schema/vega-lite/v4.0.2.json\", \"datasets\": {\"data-7c8b8837e3db213cb2339b0fa7827d31\": [{\"order\": 1, \"title\": \"Brotopia\", \"author\": \"Emily Chang\", \"pages\": 317, \"url\": \"https://www.goodreads.com/book/show/36288143-brotopia\", \"gender\": \"F\", \"type\": \"Non-Fiction\", \"subgenre\": \"Business\", \"avg_goodreads_rating\": 4.04, \"started\": \"2018-12-26T00:00:00\", \"date\": \"2019-01-06T00:00:00\", \"faves\": null, \"year\": \"2019\", \"days_to_read\": 11, \"gender_description\": \"Female\"}, {\"order\": 2, \"title\": \"The Human Stain\", \"author\": \"Philip Roth\", \"pages\": 384, \"url\": \"https://www.goodreads.com/book/show/11734.The_Human_Stain?from_search=true\", \"gender\": \"M\", \"type\": \"Fiction\", \"subgenre\": \"Literature\", \"avg_goodreads_rating\": 3.87, \"started\": \"2019-01-06T00:00:00\", \"date\": \"2019-01-16T00:00:00\", \"faves\": \"Y\", \"year\": \"2019\", \"days_to_read\": 10, \"gender_description\": \"Male\"}, {\"order\": 3, \"title\": \"You Know You Want This\", \"author\": \"Kristen Roupenian\", \"pages\": 225, \"url\": \"https://www.goodreads.com/book/show/40539045-you-know-you-want-this\", \"gender\": \"F\", \"type\": \"Fiction\", \"subgenre\": \"Short Stories\", \"avg_goodreads_rating\": 3.86, \"started\": \"2019-01-16T00:00:00\", \"date\": \"2019-01-19T00:00:00\", \"faves\": null, \"year\": \"2019\", \"days_to_read\": 3, \"gender_description\": \"Female\"}, {\"order\": 4, \"title\": \"Why Buddhism is True\", \"author\": \"Robert Wright\", \"pages\": 336, \"url\": \"https://www.goodreads.com/book/show/32895535-why-buddhism-is-true?from_search=true\", \"gender\": \"M\", \"type\": \"Non-Fiction\", \"subgenre\": \"Religion\", \"avg_goodreads_rating\": 4.05, \"started\": \"2019-01-18T00:00:00\", \"date\": \"2019-04-02T00:00:00\", \"faves\": null, \"year\": \"2019\", \"days_to_read\": 74, \"gender_description\": \"Male\"}, {\"order\": 5, \"title\": \"If Beale Street Could Talk\", \"author\": \"James Baldwin\", \"pages\": 197, \"url\": \"https://www.goodreads.com/book/show/38463.If_Beale_Street_Could_Talk\", \"gender\": \"M\", \"type\": \"Fiction\", \"subgenre\": \"Classics\", \"avg_goodreads_rating\": 4.29, \"started\": \"2019-01-22T00:00:00\", \"date\": \"2019-01-28T00:00:00\", \"faves\": null, \"year\": \"2019\", \"days_to_read\": 6, \"gender_description\": \"Male\"}, {\"order\": 6, \"title\": \"Nobody Cares\", \"author\": \"Anne Donahue\", \"pages\": 240, \"url\": \"https://www.goodreads.com/book/show/36360167-nobody-cares\", \"gender\": \"F\", \"type\": \"Non-Fiction\", \"subgenre\": \"Essays\", \"avg_goodreads_rating\": 3.67, \"started\": \"2019-02-03T00:00:00\", \"date\": \"2019-02-25T00:00:00\", \"faves\": null, \"year\": \"2019\", \"days_to_read\": 22, \"gender_description\": \"Female\"}, {\"order\": 7, \"title\": \"Acts of Infidelity\", \"author\": \"Lena Andersson\", \"pages\": 366, \"url\": \"https://www.goodreads.com/book/show/22601256-utan-personligt-ansvar\", \"gender\": \"F\", \"type\": \"Fiction\", \"subgenre\": \"Swedish Lit\", \"avg_goodreads_rating\": 3.66, \"started\": \"2019-02-01T00:00:00\", \"date\": \"2019-02-08T00:00:00\", \"faves\": null, \"year\": \"2019\", \"days_to_read\": 7, \"gender_description\": \"Female\"}, {\"order\": 8, \"title\": \"There Will Be No Miracles Here\", \"author\": \"Casey Gerald\", \"pages\": 394, \"url\": \"https://www.goodreads.com/book/show/38650651-there-will-be-no-miracles-here?from_search=true\", \"gender\": \"M\", \"type\": \"Non-Fiction\", \"subgenre\": \"Memoir\", \"avg_goodreads_rating\": 3.72, \"started\": \"2019-01-27T00:00:00\", \"date\": \"2019-02-11T00:00:00\", \"faves\": null, \"year\": \"2019\", \"days_to_read\": 15, \"gender_description\": \"Male\"}, {\"order\": 9, \"title\": \"The Unbearable Lightness of Being\", \"author\": \"Milan Kundera\", \"pages\": 320, \"url\": \"https://www.goodreads.com/book/show/9717.The_Unbearable_Lightness_of_Being?from_search=true\", \"gender\": \"M\", \"type\": \"Fiction\", \"subgenre\": \"Classics\", \"avg_goodreads_rating\": 4.09, \"started\": \"2019-02-16T00:00:00\", \"date\": \"2019-02-23T00:00:00\", \"faves\": null, \"year\": \"2019\", \"days_to_read\": 7, \"gender_description\": \"Male\"}, {\"order\": 10, \"title\": \"The Beauty Myth\", \"author\": \"Naomi Wolf\", \"pages\": 368, \"url\": \"https://www.goodreads.com/book/show/39926.The_Beauty_Myth\", \"gender\": \"F\", \"type\": \"Non-Fiction\", \"subgenre\": \"Feminism\", \"avg_goodreads_rating\": 3.9, \"started\": \"2019-02-12T00:00:00\", \"date\": \"2019-11-04T00:00:00\", \"faves\": null, \"year\": \"2019\", \"days_to_read\": 265, \"gender_description\": \"Female\"}, {\"order\": 11, \"title\": \"LOT\", \"author\": \"Bryan Washington\", \"pages\": 240, \"url\": \"https://www.goodreads.com/book/show/40749395-lot\", \"gender\": \"M\", \"type\": \"Fiction\", \"subgenre\": \"Short Stories\", \"avg_goodreads_rating\": 3.74, \"started\": \"2019-02-28T00:00:00\", \"date\": \"2019-03-15T00:00:00\", \"faves\": \"Y\", \"year\": \"2019\", \"days_to_read\": 15, \"gender_description\": \"Male\"}, {\"order\": 12, \"title\": \"Oculus\", \"author\": \"Sally Wen Mao\", \"pages\": 119, \"url\": \"https://www.goodreads.com/book/show/40121999-oculus\", \"gender\": \"F\", \"type\": \"Poetry\", \"subgenre\": \"Contemporary\", \"avg_goodreads_rating\": 4.22, \"started\": \"2019-03-03T00:00:00\", \"date\": \"2019-03-11T00:00:00\", \"faves\": null, \"year\": \"2019\", \"days_to_read\": 8, \"gender_description\": \"Female\"}, {\"order\": 13, \"title\": \"Homo Deus: A Brief History of Tomorrow\", \"author\": \"Yuval Harari\", \"pages\": 450, \"url\": \"https://www.goodreads.com/book/show/31138556-homo-deus?from_search=true\", \"gender\": \"M\", \"type\": \"Non-Fiction\", \"subgenre\": \"History\", \"avg_goodreads_rating\": 4.29, \"started\": \"2019-03-22T00:00:00\", \"date\": \"2019-04-19T00:00:00\", \"faves\": null, \"year\": \"2019\", \"days_to_read\": 28, \"gender_description\": \"Male\"}, {\"order\": 14, \"title\": \"Heart Berries\", \"author\": \"Terese Marie Mailhot\", \"pages\": 143, \"url\": \"https://www.goodreads.com/book/show/35840657-heart-berries\", \"gender\": \"F\", \"type\": \"Non-Fiction\", \"subgenre\": \"Memoir\", \"avg_goodreads_rating\": 3.89, \"started\": \"2019-04-03T00:00:00\", \"date\": \"2019-04-06T00:00:00\", \"faves\": null, \"year\": \"2019\", \"days_to_read\": 3, \"gender_description\": \"Female\"}, {\"order\": 15, \"title\": \"Lake Success\", \"author\": \"Gary Schneyngart\", \"pages\": 339, \"url\": \"https://www.goodreads.com/book/show/36739942-lake-success\", \"gender\": \"M\", \"type\": \"Fiction\", \"subgenre\": \"Contemporary\", \"avg_goodreads_rating\": 3.64, \"started\": \"2019-04-21T00:00:00\", \"date\": \"2019-12-07T00:00:00\", \"faves\": null, \"year\": \"2019\", \"days_to_read\": 230, \"gender_description\": \"Male\"}, {\"order\": 16, \"title\": \"Normal People\", \"author\": \"Sally Rooney\", \"pages\": 266, \"url\": \"https://www.goodreads.com/book/show/37539457-normal-people\", \"gender\": \"F\", \"type\": \"Fiction\", \"subgenre\": \"Contemporary\", \"avg_goodreads_rating\": 3.89, \"started\": \"2019-04-20T00:00:00\", \"date\": \"2019-04-21T00:00:00\", \"faves\": \"Y\", \"year\": \"2019\", \"days_to_read\": 1, \"gender_description\": \"Female\"}, {\"order\": 17, \"title\": \"Less\", \"author\": \"Andrew Sean Greer\", \"pages\": 273, \"url\": \"https://www.goodreads.com/book/show/39927096-less\", \"gender\": \"M\", \"type\": \"Fiction\", \"subgenre\": \"Contemporary\", \"avg_goodreads_rating\": 3.76, \"started\": \"2019-04-25T00:00:00\", \"date\": \"2019-05-08T00:00:00\", \"faves\": null, \"year\": \"2019\", \"days_to_read\": 13, \"gender_description\": \"Male\"}, {\"order\": 18, \"title\": \"Nobody is Ever Missing\", \"author\": \"Catherine Lacey\", \"pages\": 244, \"url\": \"https://www.goodreads.com/book/show/18490560-nobody-is-ever-missing?from_search=true\", \"gender\": \"F\", \"type\": \"Fiction\", \"subgenre\": \"Contemporary\", \"avg_goodreads_rating\": 3.27, \"started\": \"2019-05-08T00:00:00\", \"date\": \"2019-05-13T00:00:00\", \"faves\": null, \"year\": \"2019\", \"days_to_read\": 5, \"gender_description\": \"Female\"}, {\"order\": 19, \"title\": \"The New Me\", \"author\": \"Halle Butler\", \"pages\": 208, \"url\": \"https://www.goodreads.com/book/show/36342706-the-new-me\", \"gender\": \"F\", \"type\": \"Fiction\", \"subgenre\": \"Contemporary\", \"avg_goodreads_rating\": 3.6, \"started\": \"2019-05-13T00:00:00\", \"date\": \"2019-05-18T00:00:00\", \"faves\": \"Nope\", \"year\": \"2019\", \"days_to_read\": 5, \"gender_description\": \"Female\"}, {\"order\": 20, \"title\": \"The Empathy Exams\", \"author\": \"Leslie Jamison\", \"pages\": 226, \"url\": \"https://www.goodreads.com/en/book/show/17934655\", \"gender\": \"F\", \"type\": \"Non-Fiction\", \"subgenre\": \"Essays\", \"avg_goodreads_rating\": 3.64, \"started\": \"2019-05-18T00:00:00\", \"date\": \"2019-05-27T00:00:00\", \"faves\": null, \"year\": \"2019\", \"days_to_read\": 9, \"gender_description\": \"Female\"}, {\"order\": 21, \"title\": \"Bad Blood\", \"author\": \"John Carreyou\", \"pages\": 339, \"url\": \"https://www.goodreads.com/book/show/37976541-bad-blood?from_search=true\", \"gender\": \"M\", \"type\": \"Non-Fiction\", \"subgenre\": \"True Crime\", \"avg_goodreads_rating\": 4.48, \"started\": \"2019-06-01T00:00:00\", \"date\": \"2019-06-12T00:00:00\", \"faves\": null, \"year\": \"2019\", \"days_to_read\": 11, \"gender_description\": \"Male\"}, {\"order\": 22, \"title\": \"The Recovering: Intoxication and its Aftermath\", \"author\": \"Leslie Jamison\", \"pages\": 545, \"url\": \"https://www.goodreads.com/book/show/35959632-the-recovering\", \"gender\": \"F\", \"type\": \"Non-Fiction\", \"subgenre\": \"Memoir\", \"avg_goodreads_rating\": 3.96, \"started\": \"2019-05-27T00:00:00\", \"date\": \"2019-06-01T00:00:00\", \"faves\": \"Y\", \"year\": \"2019\", \"days_to_read\": 5, \"gender_description\": \"Female\"}, {\"order\": 23, \"title\": \"Evvie Drake Starts Over\", \"author\": \"Linda Holmes\", \"pages\": 304, \"url\": \"https://www.goodreads.com/book/show/40514431-evvie-drake-starts-over?ac=1&from_search=true\", \"gender\": \"F\", \"type\": \"Fiction\", \"subgenre\": \"Young Adult\", \"avg_goodreads_rating\": 4.22, \"started\": \"2019-06-30T00:00:00\", \"date\": \"2019-06-30T00:00:00\", \"faves\": null, \"year\": \"2019\", \"days_to_read\": 0, \"gender_description\": \"Female\"}, {\"order\": 24, \"title\": \"How to Change Your Mind\", \"author\": \"Michael Pollan\", \"pages\": 480, \"url\": \"https://www.goodreads.com/book/show/36613747-how-to-change-your-mind?from_search=true\", \"gender\": \"M\", \"type\": \"Non-Fiction\", \"subgenre\": \"Science\", \"avg_goodreads_rating\": 4.31, \"started\": \"2019-06-12T00:00:00\", \"date\": \"2019-10-18T00:00:00\", \"faves\": null, \"year\": \"2019\", \"days_to_read\": 128, \"gender_description\": \"Male\"}, {\"order\": 25, \"title\": \"Trust Exercise\", \"author\": \"Susan Choi\", \"pages\": 257, \"url\": \"https://www.goodreads.com/en/book/show/40046059\", \"gender\": \"F\", \"type\": \"Fiction\", \"subgenre\": \"Contemporary\", \"avg_goodreads_rating\": 3.23, \"started\": \"2019-06-12T00:00:00\", \"date\": \"2019-06-14T00:00:00\", \"faves\": \"Y\", \"year\": \"2019\", \"days_to_read\": 2, \"gender_description\": \"Female\"}, {\"order\": 26, \"title\": \"Trick Mirror\", \"author\": \"Jia Tolentino\", \"pages\": 256, \"url\": \"https://www.goodreads.com/book/show/43126457-trick-mirror?from_search=true\", \"gender\": \"F\", \"type\": \"Non-Fiction\", \"subgenre\": \"Essays\", \"avg_goodreads_rating\": 4.33, \"started\": \"2019-06-15T00:00:00\", \"date\": \"2019-06-30T00:00:00\", \"faves\": \"Y\", \"year\": \"2019\", \"days_to_read\": 15, \"gender_description\": \"Female\"}, {\"order\": 27, \"title\": \"Territory of Light\", \"author\": \"Yuko Tsushima\", \"pages\": 122, \"url\": \"https://www.goodreads.com/book/show/33871745-territory-of-light\", \"gender\": \"F\", \"type\": \"Fiction\", \"subgenre\": \"Japanese Lit\", \"avg_goodreads_rating\": 3.66, \"started\": \"2019-07-01T00:00:00\", \"date\": \"2019-07-06T00:00:00\", \"faves\": null, \"year\": \"2019\", \"days_to_read\": 5, \"gender_description\": \"Female\"}, {\"order\": 28, \"title\": \"Unclaimed Baggage\", \"author\": \"Jen Doll\", \"pages\": 384, \"url\": \"https://www.goodreads.com/book/show/36949992-unclaimed-baggage?ac=1&from_search=true\", \"gender\": \"F\", \"type\": \"Fiction\", \"subgenre\": \"Young Adult\", \"avg_goodreads_rating\": 3.73, \"started\": \"2019-01-08T00:00:00\", \"date\": \"2019-07-11T00:00:00\", \"faves\": null, \"year\": \"2019\", \"days_to_read\": 184, \"gender_description\": \"Female\"}, {\"order\": 29, \"title\": \"Fleishman Is In Trouble\", \"author\": \"Taffy Brodesser-Akner\", \"pages\": 384, \"url\": \"https://www.goodreads.com/book/show/41880602-fleishman-is-in-trouble?ac=1&from_search=true\", \"gender\": \"F\", \"type\": \"Fiction\", \"subgenre\": \"Contemporary\", \"avg_goodreads_rating\": 4.1, \"started\": \"2019-06-17T00:00:00\", \"date\": \"2019-06-28T00:00:00\", \"faves\": \"Y\", \"year\": \"2019\", \"days_to_read\": 11, \"gender_description\": \"Female\"}, {\"order\": 30, \"title\": \"Lifespan\", \"author\": \"David Sinclair\", \"pages\": 432, \"url\": \"https://www.goodreads.com/book/show/43723901-lifespan?ac=1&from_search=true\", \"gender\": \"M\", \"type\": \"Non-Fiction\", \"subgenre\": \"Science\", \"avg_goodreads_rating\": 4.27, \"started\": \"2019-07-01T00:00:00\", \"date\": \"2019-07-18T00:00:00\", \"faves\": null, \"year\": \"2019\", \"days_to_read\": 17, \"gender_description\": \"Male\"}, {\"order\": 31, \"title\": \"Uncanny Valley\", \"author\": \"Anna Wiener\", \"pages\": 304, \"url\": \"https://www.goodreads.com/book/show/45186565-uncanny-valley?ac=1&from_search=true\", \"gender\": \"F\", \"type\": \"Non-Fiction\", \"subgenre\": \"Memoir\", \"avg_goodreads_rating\": 4.2, \"started\": \"2019-07-19T00:00:00\", \"date\": \"2019-07-21T00:00:00\", \"faves\": \"y\", \"year\": \"2019\", \"days_to_read\": 2, \"gender_description\": \"Female\"}, {\"order\": 32, \"title\": \"Hit Makers\", \"author\": \"Derek Thompson\", \"pages\": 352, \"url\": \"https://www.goodreads.com/book/show/30901608-hit-makers\", \"gender\": \"M\", \"type\": \"Non-Fiction\", \"subgenre\": \"Pop Culture\", \"avg_goodreads_rating\": 3.95, \"started\": \"2019-07-20T00:00:00\", \"date\": \"2019-08-06T00:00:00\", \"faves\": null, \"year\": \"2019\", \"days_to_read\": 17, \"gender_description\": \"Male\"}, {\"order\": 33, \"title\": \"Genghis Khan and the Making of the Modern World\", \"author\": \"Jack Weatherford\", \"pages\": 352, \"url\": \"https://www.goodreads.com/book/show/40718726-genghis-khan-and-the-making-of-the-modern-world?ac=1&from_search=true\", \"gender\": \"M\", \"type\": \"Non-Fiction\", \"subgenre\": \"History\", \"avg_goodreads_rating\": 4.02, \"started\": \"2019-07-25T00:00:00\", \"date\": \"2019-09-07T00:00:00\", \"faves\": null, \"year\": \"2019\", \"days_to_read\": 44, \"gender_description\": \"Male\"}, {\"order\": 34, \"title\": \"For the Love of Men: A New Vision for Mindful Masculinity\", \"author\": \"Liz Plank\", \"pages\": 300, \"url\": \"https://www.goodreads.com/book/show/43263540-for-the-love-of-men\", \"gender\": \"F\", \"type\": \"Non-Fiction\", \"subgenre\": \"Feminism\", \"avg_goodreads_rating\": 4.38, \"started\": \"2019-07-23T00:00:00\", \"date\": \"2019-08-02T00:00:00\", \"faves\": null, \"year\": \"2019\", \"days_to_read\": 10, \"gender_description\": \"Female\"}, {\"order\": 35, \"title\": \"Three Women\", \"author\": \"Lisa Taddeo\", \"pages\": 304, \"url\": \"https://www.goodreads.com/book/show/42201100-three-women\", \"gender\": \"F\", \"type\": \"Non-Fiction\", \"subgenre\": \"Feminism\", \"avg_goodreads_rating\": 3.87, \"started\": \"2019-08-15T00:00:00\", \"date\": \"2019-08-22T00:00:00\", \"faves\": \"y\", \"year\": \"2019\", \"days_to_read\": 7, \"gender_description\": \"Female\"}, {\"order\": 36, \"title\": \"Brave New World\", \"author\": \"Aldous Huxley\", \"pages\": 288, \"url\": \"https://www.goodreads.com/book/show/5129.Brave_New_World?ac=1&from_search=true\", \"gender\": \"M\", \"type\": \"Fiction\", \"subgenre\": \"Science \", \"avg_goodreads_rating\": 3.98, \"started\": \"2019-09-15T00:00:00\", \"date\": \"2019-09-16T00:00:00\", \"faves\": null, \"year\": \"2019\", \"days_to_read\": 1, \"gender_description\": \"Male\"}, {\"order\": 37, \"title\": \"Permanent Record\", \"author\": \"Mary HK Choi\", \"pages\": 400, \"url\": \"https://www.goodreads.com/book/show/43562239-permanent-record?from_search=true\", \"gender\": \"F\", \"type\": \"Fiction\", \"subgenre\": \"Young Adult\", \"avg_goodreads_rating\": 3.84, \"started\": \"2019-09-07T00:00:00\", \"date\": \"2019-09-11T00:00:00\", \"faves\": null, \"year\": \"2019\", \"days_to_read\": 4, \"gender_description\": \"Female\"}, {\"order\": 38, \"title\": \"I Was Their American Dream\", \"author\": \"Malaka Gharib\", \"pages\": 160, \"url\": \"https://www.goodreads.com/book/show/40909448-i-was-their-american-dream?from_search=true\", \"gender\": \"F\", \"type\": \"Non-Fiction\", \"subgenre\": \"Graphic Novel\", \"avg_goodreads_rating\": 4.3, \"started\": \"2019-09-05T00:00:00\", \"date\": \"2019-09-12T00:00:00\", \"faves\": null, \"year\": \"2019\", \"days_to_read\": 7, \"gender_description\": \"Female\"}, {\"order\": 39, \"title\": \"Men Without Women\", \"author\": \"Haruki Murakami\", \"pages\": 242, \"url\": \"https://www.goodreads.com/book/show/31950871-men-without-women\", \"gender\": \"M\", \"type\": \"Fiction\", \"subgenre\": \"Short Stories\", \"avg_goodreads_rating\": 3.77, \"started\": \"2019-09-18T00:00:00\", \"date\": \"2019-09-25T00:00:00\", \"faves\": null, \"year\": \"2019\", \"days_to_read\": 7, \"gender_description\": \"Male\"}, {\"order\": 40, \"title\": \"Make it Scream Make it Burn\", \"author\": \"Leslie Jamison\", \"pages\": 272, \"url\": \"https://www.goodreads.com/book/show/43521617-make-it-scream-make-it-burn?from_search=true\", \"gender\": \"F\", \"type\": \"Non-Fiction\", \"subgenre\": \"Essays\", \"avg_goodreads_rating\": 4.13, \"started\": \"2019-10-02T00:00:00\", \"date\": \"2019-10-06T00:00:00\", \"faves\": null, \"year\": \"2019\", \"days_to_read\": 4, \"gender_description\": \"Female\"}, {\"order\": 41, \"title\": \"How to Talk So Your Kids Will Listen\", \"author\": \"Adele Faber and Elaine Mazlish\", \"pages\": 368, \"url\": \"https://www.goodreads.com/book/show/12371502-how-to-talk-so-kids-will-listen-listen-so-kids-will-talk\", \"gender\": \"F\", \"type\": \"Non-Fiction\", \"subgenre\": \"Parenting\", \"avg_goodreads_rating\": 4.26, \"started\": \"2019-09-28T00:00:00\", \"date\": \"2019-10-02T00:00:00\", \"faves\": \"Y\", \"year\": \"2019\", \"days_to_read\": 4, \"gender_description\": \"Female\"}, {\"order\": 43, \"title\": \"Maybe You Should Talk to Somebody\", \"author\": \"Lori Gottlieb\", \"pages\": 432, \"url\": \"https://www.goodreads.com/book/show/37570546-maybe-you-should-talk-to-someone?from_search=true\", \"gender\": \"F\", \"type\": \"Non-Fiction\", \"subgenre\": \"Memoir\", \"avg_goodreads_rating\": 4.4, \"started\": \"2019-10-18T00:00:00\", \"date\": \"2019-11-25T00:00:00\", \"faves\": \"Y\", \"year\": \"2019\", \"days_to_read\": 38, \"gender_description\": \"Female\"}, {\"order\": 44, \"title\": \"Think Like Your Editor\", \"author\": \"Susan Rabiner\", \"pages\": 288, \"url\": \"https://www.goodreads.com/book/show/18988615-thinking-like-your-editor?utm_content=review_cta_book_image&utm_medium=email&utm_source=bookend\", \"gender\": \"F\", \"type\": \"Non-Fiction\", \"subgenre\": \"Writing\", \"avg_goodreads_rating\": 4.04, \"started\": \"2019-10-24T00:00:00\", \"date\": \"2019-10-28T00:00:00\", \"faves\": null, \"year\": \"2019\", \"days_to_read\": 4, \"gender_description\": \"Female\"}, {\"order\": 45, \"title\": \"Kim Ji Young Born 1982\", \"author\": \"Cho Nam-joo\", \"pages\": 144, \"url\": \"https://www.goodreads.com/book/show/47320138-kim-ji-young-born-1982?ac=1&from_search=true\", \"gender\": \"F\", \"type\": \"Fiction\", \"subgenre\": \"Feminism\", \"avg_goodreads_rating\": 4.17, \"started\": \"2019-10-28T00:00:00\", \"date\": \"2019-10-31T00:00:00\", \"faves\": null, \"year\": \"2019\", \"days_to_read\": 3, \"gender_description\": \"Female\"}, {\"order\": 46, \"title\": \"Superman vs the KKK\", \"author\": \"Rick Bowers\", \"pages\": 160, \"url\": \"https://www.goodreads.com/book/show/11407829-superman-versus-the-ku-klux-klan?from_search=true\", \"gender\": \"M\", \"type\": \"Non-Fiction\", \"subgenre\": \"History\", \"avg_goodreads_rating\": 3.66, \"started\": \"2019-10-28T00:00:00\", \"date\": \"2019-10-29T00:00:00\", \"faves\": null, \"year\": \"2019\", \"days_to_read\": 1, \"gender_description\": \"Male\"}, {\"order\": 47, \"title\": \"The Likeability Trap\", \"author\": \"Alicia Menendez\", \"pages\": 240, \"url\": \"https://www.goodreads.com/book/show/46408581-the-likeability-trap?from_search=true&qid=oURYa3fiGo&rank=1\", \"gender\": \"F\", \"type\": \"Non-Fiction\", \"subgenre\": \"Feminism\", \"avg_goodreads_rating\": 3.7, \"started\": \"2019-11-08T00:00:00\", \"date\": \"2019-11-13T00:00:00\", \"faves\": null, \"year\": \"2019\", \"days_to_read\": 5, \"gender_description\": \"Female\"}, {\"order\": 48, \"title\": \"A Short HIstory of Progress\", \"author\": \"Ronald Wright\", \"pages\": 224, \"url\": \"https://www.goodreads.com/book/show/331227.A_Short_History_of_Progress?from_search=true&qid=supt2TGSOt&rank=1\", \"gender\": \"M\", \"type\": \"Non-Fiction\", \"subgenre\": \"History\", \"avg_goodreads_rating\": 4.1, \"started\": \"2019-11-13T00:00:00\", \"date\": \"2019-11-29T00:00:00\", \"faves\": null, \"year\": \"2019\", \"days_to_read\": 16, \"gender_description\": \"Male\"}, {\"order\": 49, \"title\": \"The Last Romantics\", \"author\": \"Tara Conklin\", \"pages\": 368, \"url\": \"https://www.goodreads.com/book/show/35068465-the-last-romantics?ac=1&from_search=true&qid=dert731j6D&rank=1\", \"gender\": \"F\", \"type\": \"Fiction\", \"subgenre\": \"Contemporary\", \"avg_goodreads_rating\": 3.78, \"started\": \"2019-11-29T00:00:00\", \"date\": \"2019-12-02T00:00:00\", \"faves\": \"Y\", \"year\": \"2019\", \"days_to_read\": 3, \"gender_description\": \"Female\"}, {\"order\": 50, \"title\": \"Four Soldiers\", \"author\": \"Hubert Mingarelli\", \"pages\": 160, \"url\": \"https://www.goodreads.com/book/show/41557466-four-soldiers?from_search=true&qid=tFOQALgbWg&rank=1\", \"gender\": \"F\", \"type\": \"Fiction\", \"subgenre\": \"Historical\", \"avg_goodreads_rating\": 3.78, \"started\": \"2019-11-29T00:00:00\", \"date\": \"2019-12-03T00:00:00\", \"faves\": null, \"year\": \"2019\", \"days_to_read\": 4, \"gender_description\": \"Female\"}, {\"order\": 51, \"title\": \"Working\", \"author\": \"Robert Caro\", \"pages\": 231, \"url\": \"https://www.goodreads.com/book/show/43205240-working?from_search=true&qid=51xloY5uTL&rank=1\", \"gender\": \"M\", \"type\": \"Non-Fiction\", \"subgenre\": \"Writing\", \"avg_goodreads_rating\": 4.43, \"started\": \"2019-12-15T00:00:00\", \"date\": \"2019-12-18T00:00:00\", \"faves\": null, \"year\": \"2019\", \"days_to_read\": 3, \"gender_description\": \"Male\"}, {\"order\": 52, \"title\": \"The Incendiaries\", \"author\": \"R.O. Kwon\", \"pages\": 214, \"url\": \"https://www.goodreads.com/book/show/36679056-the-incendiaries\", \"gender\": \"F\", \"type\": \"Fiction\", \"subgenre\": \"Contemporary\", \"avg_goodreads_rating\": 3.28, \"started\": \"2019-12-19T00:00:00\", \"date\": \"2019-12-19T00:00:00\", \"faves\": null, \"year\": \"2019\", \"days_to_read\": 0, \"gender_description\": \"Female\"}, {\"order\": 53, \"title\": \"Wedding Toasts I'll Never Give\", \"author\": \"Ada Calhoun\", \"pages\": 192, \"url\": \"https://www.goodreads.com/book/show/36236126-wedding-toasts-i-ll-never-give\", \"gender\": \"F\", \"type\": \"Non-Fiction\", \"subgenre\": \"Essays\", \"avg_goodreads_rating\": 3.86, \"started\": \"2019-12-26T00:00:00\", \"date\": \"2019-12-27T00:00:00\", \"faves\": null, \"year\": \"2019\", \"days_to_read\": 1, \"gender_description\": \"Female\"}]}}, {\"mode\": \"vega-lite\"});\n",
       "</script>"
      ],
      "text/plain": [
       "alt.Chart(...)"
      ]
     },
     "execution_count": 21,
     "metadata": {},
     "output_type": "execute_result"
    }
   ],
   "source": [
    "# DESKTOP \n",
    "alt.Chart(books).mark_tick(thickness=3,size=20).encode(\n",
    "    x=alt.X('date',axis=alt.Axis(tickCount=12, format='%b', tickColor='#ffffff'), title=''),\n",
    "    y=alt.Y('type',axis=alt.Axis(tickCount=0, tickColor='#ffffff'), title=' '),\n",
    "    color=alt.Color('type', legend=None)\n",
    ").configure_axis(\n",
    "    grid=False).properties(height=200, width=700, title='Books, by type and date finished')"
   ]
  },
  {
   "cell_type": "code",
   "execution_count": 22,
   "metadata": {},
   "outputs": [
    {
     "data": {
      "text/html": [
       "\n",
       "<div id=\"altair-viz-dc75334b6cf84cde98b04bded3e52acd\"></div>\n",
       "<script type=\"text/javascript\">\n",
       "  (function(spec, embedOpt){\n",
       "    const outputDiv = document.getElementById(\"altair-viz-dc75334b6cf84cde98b04bded3e52acd\");\n",
       "    const paths = {\n",
       "      \"vega\": \"https://cdn.jsdelivr.net/npm//vega@5?noext\",\n",
       "      \"vega-lib\": \"https://cdn.jsdelivr.net/npm//vega-lib?noext\",\n",
       "      \"vega-lite\": \"https://cdn.jsdelivr.net/npm//vega-lite@4.0.2?noext\",\n",
       "      \"vega-embed\": \"https://cdn.jsdelivr.net/npm//vega-embed@6?noext\",\n",
       "    };\n",
       "\n",
       "    function loadScript(lib) {\n",
       "      return new Promise(function(resolve, reject) {\n",
       "        var s = document.createElement('script');\n",
       "        s.src = paths[lib];\n",
       "        s.async = true;\n",
       "        s.onload = () => resolve(paths[lib]);\n",
       "        s.onerror = () => reject(`Error loading script: ${paths[lib]}`);\n",
       "        document.getElementsByTagName(\"head\")[0].appendChild(s);\n",
       "      });\n",
       "    }\n",
       "\n",
       "    function showError(err) {\n",
       "      outputDiv.innerHTML = `<div class=\"error\" style=\"color:red;\">${err}</div>`;\n",
       "      throw err;\n",
       "    }\n",
       "\n",
       "    function displayChart(vegaEmbed) {\n",
       "      vegaEmbed(outputDiv, spec, embedOpt)\n",
       "        .catch(err => showError(`Javascript Error: ${err.message}<br>This usually means there's a typo in your chart specification. See the javascript console for the full traceback.`));\n",
       "    }\n",
       "\n",
       "    if(typeof define === \"function\" && define.amd) {\n",
       "      requirejs.config({paths});\n",
       "      require([\"vega-embed\"], displayChart, err => showError(`Error loading script: ${err.message}`));\n",
       "    } else if (typeof vegaEmbed === \"function\") {\n",
       "      displayChart(vegaEmbed);\n",
       "    } else {\n",
       "      loadScript(\"vega\")\n",
       "        .then(() => loadScript(\"vega-lite\"))\n",
       "        .then(() => loadScript(\"vega-embed\"))\n",
       "        .catch(showError)\n",
       "        .then(() => displayChart(vegaEmbed));\n",
       "    }\n",
       "  })({\"config\": {\"view\": {\"width\": 800, \"height\": 450}, \"background\": \"#ffffff\", \"title\": {\"anchor\": \"start\", \"font\": \"Benton Gothic Bold, sans\", \"fontColor\": \"#000000\", \"fontSize\": 22, \"fontWeight\": \"normal\"}, \"arc\": {\"fill\": \"#82c6df\"}, \"area\": {\"fill\": \"#82c6df\"}, \"line\": {\"stroke\": \"#82c6df\", \"strokeWidth\": 3}, \"path\": {\"stroke\": \"#82c6df\"}, \"rect\": {\"fill\": \"#82c6df\"}, \"shape\": {\"stroke\": \"#82c6df\"}, \"bar\": {\"fill\": \"#82c6df\"}, \"point\": {\"stroke\": \"#82c6df\"}, \"symbol\": {\"fill\": \"#82c6df\", \"size\": 30}, \"axis\": {\"titleFont\": \"Benton Gothic Bold, sans\", \"titleFontSize\": 13, \"titleFontWeight\": \"normal\", \"labelFont\": \"Benton Gothic, sans\", \"labelFontSize\": 11.5, \"labelFontWeight\": \"normal\", \"grid\": false}, \"axisX\": {\"labelAngle\": 0, \"labelPadding\": 4, \"tickSize\": 3}, \"axisY\": {\"labelBaseline\": \"middle\", \"maxExtent\": 45, \"minExtent\": 45, \"tickSize\": 2, \"titleAlign\": \"left\", \"titleAngle\": 0, \"titleX\": -45, \"titleY\": -11}, \"legend\": {\"titleFont\": \"Benton Gothic Bold, sans\", \"titleFontSize\": 13, \"titleFontWeight\": \"normal\", \"symbolType\": \"square\", \"labelFont\": \"Benton Gothic, sans\", \"labelFontSize\": 11.5}, \"range\": {\"category\": [\"#3580b1\", \"#ec8431\", \"#ab7fb4\", \"#c89d29\", \"#adc839\", \"#829eb1\"], \"diverging\": [\"#e68a4f\", \"#f4bb6a\", \"#f9e39c\", \"#dadfe2\", \"#a6b7c6\", \"#849eae\"], \"heatmap\": [\"#fbf2c7\", \"#f9e39c\", \"#f8d36e\", \"#f4bb6a\", \"#e68a4f\", \"#d15a40\", \"#ab4232\"], \"ordinal\": [\"#fbf2c7\", \"#f9e39c\", \"#f8d36e\", \"#f4bb6a\", \"#e68a4f\", \"#d15a40\", \"#ab4232\"], \"ramp\": [\"#fbf2c7\", \"#f9e39c\", \"#f8d36e\", \"#f4bb6a\", \"#e68a4f\", \"#d15a40\", \"#ab4232\"]}}, \"data\": {\"name\": \"data-7c8b8837e3db213cb2339b0fa7827d31\"}, \"mark\": {\"type\": \"tick\", \"size\": 20, \"thickness\": 2}, \"encoding\": {\"color\": {\"type\": \"nominal\", \"field\": \"type\", \"legend\": null}, \"x\": {\"type\": \"temporal\", \"axis\": {\"format\": \"%b\", \"tickColor\": \"#ffffff\", \"tickCount\": 12}, \"field\": \"date\", \"title\": \"\"}, \"y\": {\"type\": \"nominal\", \"axis\": {\"tickColor\": \"#ffffff\", \"tickCount\": 0}, \"field\": \"type\", \"title\": \" \"}}, \"height\": 200, \"title\": \"Books, by type and date finished\", \"width\": 320, \"$schema\": \"https://vega.github.io/schema/vega-lite/v4.0.2.json\", \"datasets\": {\"data-7c8b8837e3db213cb2339b0fa7827d31\": [{\"order\": 1, \"title\": \"Brotopia\", \"author\": \"Emily Chang\", \"pages\": 317, \"url\": \"https://www.goodreads.com/book/show/36288143-brotopia\", \"gender\": \"F\", \"type\": \"Non-Fiction\", \"subgenre\": \"Business\", \"avg_goodreads_rating\": 4.04, \"started\": \"2018-12-26T00:00:00\", \"date\": \"2019-01-06T00:00:00\", \"faves\": null, \"year\": \"2019\", \"days_to_read\": 11, \"gender_description\": \"Female\"}, {\"order\": 2, \"title\": \"The Human Stain\", \"author\": \"Philip Roth\", \"pages\": 384, \"url\": \"https://www.goodreads.com/book/show/11734.The_Human_Stain?from_search=true\", \"gender\": \"M\", \"type\": \"Fiction\", \"subgenre\": \"Literature\", \"avg_goodreads_rating\": 3.87, \"started\": \"2019-01-06T00:00:00\", \"date\": \"2019-01-16T00:00:00\", \"faves\": \"Y\", \"year\": \"2019\", \"days_to_read\": 10, \"gender_description\": \"Male\"}, {\"order\": 3, \"title\": \"You Know You Want This\", \"author\": \"Kristen Roupenian\", \"pages\": 225, \"url\": \"https://www.goodreads.com/book/show/40539045-you-know-you-want-this\", \"gender\": \"F\", \"type\": \"Fiction\", \"subgenre\": \"Short Stories\", \"avg_goodreads_rating\": 3.86, \"started\": \"2019-01-16T00:00:00\", \"date\": \"2019-01-19T00:00:00\", \"faves\": null, \"year\": \"2019\", \"days_to_read\": 3, \"gender_description\": \"Female\"}, {\"order\": 4, \"title\": \"Why Buddhism is True\", \"author\": \"Robert Wright\", \"pages\": 336, \"url\": \"https://www.goodreads.com/book/show/32895535-why-buddhism-is-true?from_search=true\", \"gender\": \"M\", \"type\": \"Non-Fiction\", \"subgenre\": \"Religion\", \"avg_goodreads_rating\": 4.05, \"started\": \"2019-01-18T00:00:00\", \"date\": \"2019-04-02T00:00:00\", \"faves\": null, \"year\": \"2019\", \"days_to_read\": 74, \"gender_description\": \"Male\"}, {\"order\": 5, \"title\": \"If Beale Street Could Talk\", \"author\": \"James Baldwin\", \"pages\": 197, \"url\": \"https://www.goodreads.com/book/show/38463.If_Beale_Street_Could_Talk\", \"gender\": \"M\", \"type\": \"Fiction\", \"subgenre\": \"Classics\", \"avg_goodreads_rating\": 4.29, \"started\": \"2019-01-22T00:00:00\", \"date\": \"2019-01-28T00:00:00\", \"faves\": null, \"year\": \"2019\", \"days_to_read\": 6, \"gender_description\": \"Male\"}, {\"order\": 6, \"title\": \"Nobody Cares\", \"author\": \"Anne Donahue\", \"pages\": 240, \"url\": \"https://www.goodreads.com/book/show/36360167-nobody-cares\", \"gender\": \"F\", \"type\": \"Non-Fiction\", \"subgenre\": \"Essays\", \"avg_goodreads_rating\": 3.67, \"started\": \"2019-02-03T00:00:00\", \"date\": \"2019-02-25T00:00:00\", \"faves\": null, \"year\": \"2019\", \"days_to_read\": 22, \"gender_description\": \"Female\"}, {\"order\": 7, \"title\": \"Acts of Infidelity\", \"author\": \"Lena Andersson\", \"pages\": 366, \"url\": \"https://www.goodreads.com/book/show/22601256-utan-personligt-ansvar\", \"gender\": \"F\", \"type\": \"Fiction\", \"subgenre\": \"Swedish Lit\", \"avg_goodreads_rating\": 3.66, \"started\": \"2019-02-01T00:00:00\", \"date\": \"2019-02-08T00:00:00\", \"faves\": null, \"year\": \"2019\", \"days_to_read\": 7, \"gender_description\": \"Female\"}, {\"order\": 8, \"title\": \"There Will Be No Miracles Here\", \"author\": \"Casey Gerald\", \"pages\": 394, \"url\": \"https://www.goodreads.com/book/show/38650651-there-will-be-no-miracles-here?from_search=true\", \"gender\": \"M\", \"type\": \"Non-Fiction\", \"subgenre\": \"Memoir\", \"avg_goodreads_rating\": 3.72, \"started\": \"2019-01-27T00:00:00\", \"date\": \"2019-02-11T00:00:00\", \"faves\": null, \"year\": \"2019\", \"days_to_read\": 15, \"gender_description\": \"Male\"}, {\"order\": 9, \"title\": \"The Unbearable Lightness of Being\", \"author\": \"Milan Kundera\", \"pages\": 320, \"url\": \"https://www.goodreads.com/book/show/9717.The_Unbearable_Lightness_of_Being?from_search=true\", \"gender\": \"M\", \"type\": \"Fiction\", \"subgenre\": \"Classics\", \"avg_goodreads_rating\": 4.09, \"started\": \"2019-02-16T00:00:00\", \"date\": \"2019-02-23T00:00:00\", \"faves\": null, \"year\": \"2019\", \"days_to_read\": 7, \"gender_description\": \"Male\"}, {\"order\": 10, \"title\": \"The Beauty Myth\", \"author\": \"Naomi Wolf\", \"pages\": 368, \"url\": \"https://www.goodreads.com/book/show/39926.The_Beauty_Myth\", \"gender\": \"F\", \"type\": \"Non-Fiction\", \"subgenre\": \"Feminism\", \"avg_goodreads_rating\": 3.9, \"started\": \"2019-02-12T00:00:00\", \"date\": \"2019-11-04T00:00:00\", \"faves\": null, \"year\": \"2019\", \"days_to_read\": 265, \"gender_description\": \"Female\"}, {\"order\": 11, \"title\": \"LOT\", \"author\": \"Bryan Washington\", \"pages\": 240, \"url\": \"https://www.goodreads.com/book/show/40749395-lot\", \"gender\": \"M\", \"type\": \"Fiction\", \"subgenre\": \"Short Stories\", \"avg_goodreads_rating\": 3.74, \"started\": \"2019-02-28T00:00:00\", \"date\": \"2019-03-15T00:00:00\", \"faves\": \"Y\", \"year\": \"2019\", \"days_to_read\": 15, \"gender_description\": \"Male\"}, {\"order\": 12, \"title\": \"Oculus\", \"author\": \"Sally Wen Mao\", \"pages\": 119, \"url\": \"https://www.goodreads.com/book/show/40121999-oculus\", \"gender\": \"F\", \"type\": \"Poetry\", \"subgenre\": \"Contemporary\", \"avg_goodreads_rating\": 4.22, \"started\": \"2019-03-03T00:00:00\", \"date\": \"2019-03-11T00:00:00\", \"faves\": null, \"year\": \"2019\", \"days_to_read\": 8, \"gender_description\": \"Female\"}, {\"order\": 13, \"title\": \"Homo Deus: A Brief History of Tomorrow\", \"author\": \"Yuval Harari\", \"pages\": 450, \"url\": \"https://www.goodreads.com/book/show/31138556-homo-deus?from_search=true\", \"gender\": \"M\", \"type\": \"Non-Fiction\", \"subgenre\": \"History\", \"avg_goodreads_rating\": 4.29, \"started\": \"2019-03-22T00:00:00\", \"date\": \"2019-04-19T00:00:00\", \"faves\": null, \"year\": \"2019\", \"days_to_read\": 28, \"gender_description\": \"Male\"}, {\"order\": 14, \"title\": \"Heart Berries\", \"author\": \"Terese Marie Mailhot\", \"pages\": 143, \"url\": \"https://www.goodreads.com/book/show/35840657-heart-berries\", \"gender\": \"F\", \"type\": \"Non-Fiction\", \"subgenre\": \"Memoir\", \"avg_goodreads_rating\": 3.89, \"started\": \"2019-04-03T00:00:00\", \"date\": \"2019-04-06T00:00:00\", \"faves\": null, \"year\": \"2019\", \"days_to_read\": 3, \"gender_description\": \"Female\"}, {\"order\": 15, \"title\": \"Lake Success\", \"author\": \"Gary Schneyngart\", \"pages\": 339, \"url\": \"https://www.goodreads.com/book/show/36739942-lake-success\", \"gender\": \"M\", \"type\": \"Fiction\", \"subgenre\": \"Contemporary\", \"avg_goodreads_rating\": 3.64, \"started\": \"2019-04-21T00:00:00\", \"date\": \"2019-12-07T00:00:00\", \"faves\": null, \"year\": \"2019\", \"days_to_read\": 230, \"gender_description\": \"Male\"}, {\"order\": 16, \"title\": \"Normal People\", \"author\": \"Sally Rooney\", \"pages\": 266, \"url\": \"https://www.goodreads.com/book/show/37539457-normal-people\", \"gender\": \"F\", \"type\": \"Fiction\", \"subgenre\": \"Contemporary\", \"avg_goodreads_rating\": 3.89, \"started\": \"2019-04-20T00:00:00\", \"date\": \"2019-04-21T00:00:00\", \"faves\": \"Y\", \"year\": \"2019\", \"days_to_read\": 1, \"gender_description\": \"Female\"}, {\"order\": 17, \"title\": \"Less\", \"author\": \"Andrew Sean Greer\", \"pages\": 273, \"url\": \"https://www.goodreads.com/book/show/39927096-less\", \"gender\": \"M\", \"type\": \"Fiction\", \"subgenre\": \"Contemporary\", \"avg_goodreads_rating\": 3.76, \"started\": \"2019-04-25T00:00:00\", \"date\": \"2019-05-08T00:00:00\", \"faves\": null, \"year\": \"2019\", \"days_to_read\": 13, \"gender_description\": \"Male\"}, {\"order\": 18, \"title\": \"Nobody is Ever Missing\", \"author\": \"Catherine Lacey\", \"pages\": 244, \"url\": \"https://www.goodreads.com/book/show/18490560-nobody-is-ever-missing?from_search=true\", \"gender\": \"F\", \"type\": \"Fiction\", \"subgenre\": \"Contemporary\", \"avg_goodreads_rating\": 3.27, \"started\": \"2019-05-08T00:00:00\", \"date\": \"2019-05-13T00:00:00\", \"faves\": null, \"year\": \"2019\", \"days_to_read\": 5, \"gender_description\": \"Female\"}, {\"order\": 19, \"title\": \"The New Me\", \"author\": \"Halle Butler\", \"pages\": 208, \"url\": \"https://www.goodreads.com/book/show/36342706-the-new-me\", \"gender\": \"F\", \"type\": \"Fiction\", \"subgenre\": \"Contemporary\", \"avg_goodreads_rating\": 3.6, \"started\": \"2019-05-13T00:00:00\", \"date\": \"2019-05-18T00:00:00\", \"faves\": \"Nope\", \"year\": \"2019\", \"days_to_read\": 5, \"gender_description\": \"Female\"}, {\"order\": 20, \"title\": \"The Empathy Exams\", \"author\": \"Leslie Jamison\", \"pages\": 226, \"url\": \"https://www.goodreads.com/en/book/show/17934655\", \"gender\": \"F\", \"type\": \"Non-Fiction\", \"subgenre\": \"Essays\", \"avg_goodreads_rating\": 3.64, \"started\": \"2019-05-18T00:00:00\", \"date\": \"2019-05-27T00:00:00\", \"faves\": null, \"year\": \"2019\", \"days_to_read\": 9, \"gender_description\": \"Female\"}, {\"order\": 21, \"title\": \"Bad Blood\", \"author\": \"John Carreyou\", \"pages\": 339, \"url\": \"https://www.goodreads.com/book/show/37976541-bad-blood?from_search=true\", \"gender\": \"M\", \"type\": \"Non-Fiction\", \"subgenre\": \"True Crime\", \"avg_goodreads_rating\": 4.48, \"started\": \"2019-06-01T00:00:00\", \"date\": \"2019-06-12T00:00:00\", \"faves\": null, \"year\": \"2019\", \"days_to_read\": 11, \"gender_description\": \"Male\"}, {\"order\": 22, \"title\": \"The Recovering: Intoxication and its Aftermath\", \"author\": \"Leslie Jamison\", \"pages\": 545, \"url\": \"https://www.goodreads.com/book/show/35959632-the-recovering\", \"gender\": \"F\", \"type\": \"Non-Fiction\", \"subgenre\": \"Memoir\", \"avg_goodreads_rating\": 3.96, \"started\": \"2019-05-27T00:00:00\", \"date\": \"2019-06-01T00:00:00\", \"faves\": \"Y\", \"year\": \"2019\", \"days_to_read\": 5, \"gender_description\": \"Female\"}, {\"order\": 23, \"title\": \"Evvie Drake Starts Over\", \"author\": \"Linda Holmes\", \"pages\": 304, \"url\": \"https://www.goodreads.com/book/show/40514431-evvie-drake-starts-over?ac=1&from_search=true\", \"gender\": \"F\", \"type\": \"Fiction\", \"subgenre\": \"Young Adult\", \"avg_goodreads_rating\": 4.22, \"started\": \"2019-06-30T00:00:00\", \"date\": \"2019-06-30T00:00:00\", \"faves\": null, \"year\": \"2019\", \"days_to_read\": 0, \"gender_description\": \"Female\"}, {\"order\": 24, \"title\": \"How to Change Your Mind\", \"author\": \"Michael Pollan\", \"pages\": 480, \"url\": \"https://www.goodreads.com/book/show/36613747-how-to-change-your-mind?from_search=true\", \"gender\": \"M\", \"type\": \"Non-Fiction\", \"subgenre\": \"Science\", \"avg_goodreads_rating\": 4.31, \"started\": \"2019-06-12T00:00:00\", \"date\": \"2019-10-18T00:00:00\", \"faves\": null, \"year\": \"2019\", \"days_to_read\": 128, \"gender_description\": \"Male\"}, {\"order\": 25, \"title\": \"Trust Exercise\", \"author\": \"Susan Choi\", \"pages\": 257, \"url\": \"https://www.goodreads.com/en/book/show/40046059\", \"gender\": \"F\", \"type\": \"Fiction\", \"subgenre\": \"Contemporary\", \"avg_goodreads_rating\": 3.23, \"started\": \"2019-06-12T00:00:00\", \"date\": \"2019-06-14T00:00:00\", \"faves\": \"Y\", \"year\": \"2019\", \"days_to_read\": 2, \"gender_description\": \"Female\"}, {\"order\": 26, \"title\": \"Trick Mirror\", \"author\": \"Jia Tolentino\", \"pages\": 256, \"url\": \"https://www.goodreads.com/book/show/43126457-trick-mirror?from_search=true\", \"gender\": \"F\", \"type\": \"Non-Fiction\", \"subgenre\": \"Essays\", \"avg_goodreads_rating\": 4.33, \"started\": \"2019-06-15T00:00:00\", \"date\": \"2019-06-30T00:00:00\", \"faves\": \"Y\", \"year\": \"2019\", \"days_to_read\": 15, \"gender_description\": \"Female\"}, {\"order\": 27, \"title\": \"Territory of Light\", \"author\": \"Yuko Tsushima\", \"pages\": 122, \"url\": \"https://www.goodreads.com/book/show/33871745-territory-of-light\", \"gender\": \"F\", \"type\": \"Fiction\", \"subgenre\": \"Japanese Lit\", \"avg_goodreads_rating\": 3.66, \"started\": \"2019-07-01T00:00:00\", \"date\": \"2019-07-06T00:00:00\", \"faves\": null, \"year\": \"2019\", \"days_to_read\": 5, \"gender_description\": \"Female\"}, {\"order\": 28, \"title\": \"Unclaimed Baggage\", \"author\": \"Jen Doll\", \"pages\": 384, \"url\": \"https://www.goodreads.com/book/show/36949992-unclaimed-baggage?ac=1&from_search=true\", \"gender\": \"F\", \"type\": \"Fiction\", \"subgenre\": \"Young Adult\", \"avg_goodreads_rating\": 3.73, \"started\": \"2019-01-08T00:00:00\", \"date\": \"2019-07-11T00:00:00\", \"faves\": null, \"year\": \"2019\", \"days_to_read\": 184, \"gender_description\": \"Female\"}, {\"order\": 29, \"title\": \"Fleishman Is In Trouble\", \"author\": \"Taffy Brodesser-Akner\", \"pages\": 384, \"url\": \"https://www.goodreads.com/book/show/41880602-fleishman-is-in-trouble?ac=1&from_search=true\", \"gender\": \"F\", \"type\": \"Fiction\", \"subgenre\": \"Contemporary\", \"avg_goodreads_rating\": 4.1, \"started\": \"2019-06-17T00:00:00\", \"date\": \"2019-06-28T00:00:00\", \"faves\": \"Y\", \"year\": \"2019\", \"days_to_read\": 11, \"gender_description\": \"Female\"}, {\"order\": 30, \"title\": \"Lifespan\", \"author\": \"David Sinclair\", \"pages\": 432, \"url\": \"https://www.goodreads.com/book/show/43723901-lifespan?ac=1&from_search=true\", \"gender\": \"M\", \"type\": \"Non-Fiction\", \"subgenre\": \"Science\", \"avg_goodreads_rating\": 4.27, \"started\": \"2019-07-01T00:00:00\", \"date\": \"2019-07-18T00:00:00\", \"faves\": null, \"year\": \"2019\", \"days_to_read\": 17, \"gender_description\": \"Male\"}, {\"order\": 31, \"title\": \"Uncanny Valley\", \"author\": \"Anna Wiener\", \"pages\": 304, \"url\": \"https://www.goodreads.com/book/show/45186565-uncanny-valley?ac=1&from_search=true\", \"gender\": \"F\", \"type\": \"Non-Fiction\", \"subgenre\": \"Memoir\", \"avg_goodreads_rating\": 4.2, \"started\": \"2019-07-19T00:00:00\", \"date\": \"2019-07-21T00:00:00\", \"faves\": \"y\", \"year\": \"2019\", \"days_to_read\": 2, \"gender_description\": \"Female\"}, {\"order\": 32, \"title\": \"Hit Makers\", \"author\": \"Derek Thompson\", \"pages\": 352, \"url\": \"https://www.goodreads.com/book/show/30901608-hit-makers\", \"gender\": \"M\", \"type\": \"Non-Fiction\", \"subgenre\": \"Pop Culture\", \"avg_goodreads_rating\": 3.95, \"started\": \"2019-07-20T00:00:00\", \"date\": \"2019-08-06T00:00:00\", \"faves\": null, \"year\": \"2019\", \"days_to_read\": 17, \"gender_description\": \"Male\"}, {\"order\": 33, \"title\": \"Genghis Khan and the Making of the Modern World\", \"author\": \"Jack Weatherford\", \"pages\": 352, \"url\": \"https://www.goodreads.com/book/show/40718726-genghis-khan-and-the-making-of-the-modern-world?ac=1&from_search=true\", \"gender\": \"M\", \"type\": \"Non-Fiction\", \"subgenre\": \"History\", \"avg_goodreads_rating\": 4.02, \"started\": \"2019-07-25T00:00:00\", \"date\": \"2019-09-07T00:00:00\", \"faves\": null, \"year\": \"2019\", \"days_to_read\": 44, \"gender_description\": \"Male\"}, {\"order\": 34, \"title\": \"For the Love of Men: A New Vision for Mindful Masculinity\", \"author\": \"Liz Plank\", \"pages\": 300, \"url\": \"https://www.goodreads.com/book/show/43263540-for-the-love-of-men\", \"gender\": \"F\", \"type\": \"Non-Fiction\", \"subgenre\": \"Feminism\", \"avg_goodreads_rating\": 4.38, \"started\": \"2019-07-23T00:00:00\", \"date\": \"2019-08-02T00:00:00\", \"faves\": null, \"year\": \"2019\", \"days_to_read\": 10, \"gender_description\": \"Female\"}, {\"order\": 35, \"title\": \"Three Women\", \"author\": \"Lisa Taddeo\", \"pages\": 304, \"url\": \"https://www.goodreads.com/book/show/42201100-three-women\", \"gender\": \"F\", \"type\": \"Non-Fiction\", \"subgenre\": \"Feminism\", \"avg_goodreads_rating\": 3.87, \"started\": \"2019-08-15T00:00:00\", \"date\": \"2019-08-22T00:00:00\", \"faves\": \"y\", \"year\": \"2019\", \"days_to_read\": 7, \"gender_description\": \"Female\"}, {\"order\": 36, \"title\": \"Brave New World\", \"author\": \"Aldous Huxley\", \"pages\": 288, \"url\": \"https://www.goodreads.com/book/show/5129.Brave_New_World?ac=1&from_search=true\", \"gender\": \"M\", \"type\": \"Fiction\", \"subgenre\": \"Science \", \"avg_goodreads_rating\": 3.98, \"started\": \"2019-09-15T00:00:00\", \"date\": \"2019-09-16T00:00:00\", \"faves\": null, \"year\": \"2019\", \"days_to_read\": 1, \"gender_description\": \"Male\"}, {\"order\": 37, \"title\": \"Permanent Record\", \"author\": \"Mary HK Choi\", \"pages\": 400, \"url\": \"https://www.goodreads.com/book/show/43562239-permanent-record?from_search=true\", \"gender\": \"F\", \"type\": \"Fiction\", \"subgenre\": \"Young Adult\", \"avg_goodreads_rating\": 3.84, \"started\": \"2019-09-07T00:00:00\", \"date\": \"2019-09-11T00:00:00\", \"faves\": null, \"year\": \"2019\", \"days_to_read\": 4, \"gender_description\": \"Female\"}, {\"order\": 38, \"title\": \"I Was Their American Dream\", \"author\": \"Malaka Gharib\", \"pages\": 160, \"url\": \"https://www.goodreads.com/book/show/40909448-i-was-their-american-dream?from_search=true\", \"gender\": \"F\", \"type\": \"Non-Fiction\", \"subgenre\": \"Graphic Novel\", \"avg_goodreads_rating\": 4.3, \"started\": \"2019-09-05T00:00:00\", \"date\": \"2019-09-12T00:00:00\", \"faves\": null, \"year\": \"2019\", \"days_to_read\": 7, \"gender_description\": \"Female\"}, {\"order\": 39, \"title\": \"Men Without Women\", \"author\": \"Haruki Murakami\", \"pages\": 242, \"url\": \"https://www.goodreads.com/book/show/31950871-men-without-women\", \"gender\": \"M\", \"type\": \"Fiction\", \"subgenre\": \"Short Stories\", \"avg_goodreads_rating\": 3.77, \"started\": \"2019-09-18T00:00:00\", \"date\": \"2019-09-25T00:00:00\", \"faves\": null, \"year\": \"2019\", \"days_to_read\": 7, \"gender_description\": \"Male\"}, {\"order\": 40, \"title\": \"Make it Scream Make it Burn\", \"author\": \"Leslie Jamison\", \"pages\": 272, \"url\": \"https://www.goodreads.com/book/show/43521617-make-it-scream-make-it-burn?from_search=true\", \"gender\": \"F\", \"type\": \"Non-Fiction\", \"subgenre\": \"Essays\", \"avg_goodreads_rating\": 4.13, \"started\": \"2019-10-02T00:00:00\", \"date\": \"2019-10-06T00:00:00\", \"faves\": null, \"year\": \"2019\", \"days_to_read\": 4, \"gender_description\": \"Female\"}, {\"order\": 41, \"title\": \"How to Talk So Your Kids Will Listen\", \"author\": \"Adele Faber and Elaine Mazlish\", \"pages\": 368, \"url\": \"https://www.goodreads.com/book/show/12371502-how-to-talk-so-kids-will-listen-listen-so-kids-will-talk\", \"gender\": \"F\", \"type\": \"Non-Fiction\", \"subgenre\": \"Parenting\", \"avg_goodreads_rating\": 4.26, \"started\": \"2019-09-28T00:00:00\", \"date\": \"2019-10-02T00:00:00\", \"faves\": \"Y\", \"year\": \"2019\", \"days_to_read\": 4, \"gender_description\": \"Female\"}, {\"order\": 43, \"title\": \"Maybe You Should Talk to Somebody\", \"author\": \"Lori Gottlieb\", \"pages\": 432, \"url\": \"https://www.goodreads.com/book/show/37570546-maybe-you-should-talk-to-someone?from_search=true\", \"gender\": \"F\", \"type\": \"Non-Fiction\", \"subgenre\": \"Memoir\", \"avg_goodreads_rating\": 4.4, \"started\": \"2019-10-18T00:00:00\", \"date\": \"2019-11-25T00:00:00\", \"faves\": \"Y\", \"year\": \"2019\", \"days_to_read\": 38, \"gender_description\": \"Female\"}, {\"order\": 44, \"title\": \"Think Like Your Editor\", \"author\": \"Susan Rabiner\", \"pages\": 288, \"url\": \"https://www.goodreads.com/book/show/18988615-thinking-like-your-editor?utm_content=review_cta_book_image&utm_medium=email&utm_source=bookend\", \"gender\": \"F\", \"type\": \"Non-Fiction\", \"subgenre\": \"Writing\", \"avg_goodreads_rating\": 4.04, \"started\": \"2019-10-24T00:00:00\", \"date\": \"2019-10-28T00:00:00\", \"faves\": null, \"year\": \"2019\", \"days_to_read\": 4, \"gender_description\": \"Female\"}, {\"order\": 45, \"title\": \"Kim Ji Young Born 1982\", \"author\": \"Cho Nam-joo\", \"pages\": 144, \"url\": \"https://www.goodreads.com/book/show/47320138-kim-ji-young-born-1982?ac=1&from_search=true\", \"gender\": \"F\", \"type\": \"Fiction\", \"subgenre\": \"Feminism\", \"avg_goodreads_rating\": 4.17, \"started\": \"2019-10-28T00:00:00\", \"date\": \"2019-10-31T00:00:00\", \"faves\": null, \"year\": \"2019\", \"days_to_read\": 3, \"gender_description\": \"Female\"}, {\"order\": 46, \"title\": \"Superman vs the KKK\", \"author\": \"Rick Bowers\", \"pages\": 160, \"url\": \"https://www.goodreads.com/book/show/11407829-superman-versus-the-ku-klux-klan?from_search=true\", \"gender\": \"M\", \"type\": \"Non-Fiction\", \"subgenre\": \"History\", \"avg_goodreads_rating\": 3.66, \"started\": \"2019-10-28T00:00:00\", \"date\": \"2019-10-29T00:00:00\", \"faves\": null, \"year\": \"2019\", \"days_to_read\": 1, \"gender_description\": \"Male\"}, {\"order\": 47, \"title\": \"The Likeability Trap\", \"author\": \"Alicia Menendez\", \"pages\": 240, \"url\": \"https://www.goodreads.com/book/show/46408581-the-likeability-trap?from_search=true&qid=oURYa3fiGo&rank=1\", \"gender\": \"F\", \"type\": \"Non-Fiction\", \"subgenre\": \"Feminism\", \"avg_goodreads_rating\": 3.7, \"started\": \"2019-11-08T00:00:00\", \"date\": \"2019-11-13T00:00:00\", \"faves\": null, \"year\": \"2019\", \"days_to_read\": 5, \"gender_description\": \"Female\"}, {\"order\": 48, \"title\": \"A Short HIstory of Progress\", \"author\": \"Ronald Wright\", \"pages\": 224, \"url\": \"https://www.goodreads.com/book/show/331227.A_Short_History_of_Progress?from_search=true&qid=supt2TGSOt&rank=1\", \"gender\": \"M\", \"type\": \"Non-Fiction\", \"subgenre\": \"History\", \"avg_goodreads_rating\": 4.1, \"started\": \"2019-11-13T00:00:00\", \"date\": \"2019-11-29T00:00:00\", \"faves\": null, \"year\": \"2019\", \"days_to_read\": 16, \"gender_description\": \"Male\"}, {\"order\": 49, \"title\": \"The Last Romantics\", \"author\": \"Tara Conklin\", \"pages\": 368, \"url\": \"https://www.goodreads.com/book/show/35068465-the-last-romantics?ac=1&from_search=true&qid=dert731j6D&rank=1\", \"gender\": \"F\", \"type\": \"Fiction\", \"subgenre\": \"Contemporary\", \"avg_goodreads_rating\": 3.78, \"started\": \"2019-11-29T00:00:00\", \"date\": \"2019-12-02T00:00:00\", \"faves\": \"Y\", \"year\": \"2019\", \"days_to_read\": 3, \"gender_description\": \"Female\"}, {\"order\": 50, \"title\": \"Four Soldiers\", \"author\": \"Hubert Mingarelli\", \"pages\": 160, \"url\": \"https://www.goodreads.com/book/show/41557466-four-soldiers?from_search=true&qid=tFOQALgbWg&rank=1\", \"gender\": \"F\", \"type\": \"Fiction\", \"subgenre\": \"Historical\", \"avg_goodreads_rating\": 3.78, \"started\": \"2019-11-29T00:00:00\", \"date\": \"2019-12-03T00:00:00\", \"faves\": null, \"year\": \"2019\", \"days_to_read\": 4, \"gender_description\": \"Female\"}, {\"order\": 51, \"title\": \"Working\", \"author\": \"Robert Caro\", \"pages\": 231, \"url\": \"https://www.goodreads.com/book/show/43205240-working?from_search=true&qid=51xloY5uTL&rank=1\", \"gender\": \"M\", \"type\": \"Non-Fiction\", \"subgenre\": \"Writing\", \"avg_goodreads_rating\": 4.43, \"started\": \"2019-12-15T00:00:00\", \"date\": \"2019-12-18T00:00:00\", \"faves\": null, \"year\": \"2019\", \"days_to_read\": 3, \"gender_description\": \"Male\"}, {\"order\": 52, \"title\": \"The Incendiaries\", \"author\": \"R.O. Kwon\", \"pages\": 214, \"url\": \"https://www.goodreads.com/book/show/36679056-the-incendiaries\", \"gender\": \"F\", \"type\": \"Fiction\", \"subgenre\": \"Contemporary\", \"avg_goodreads_rating\": 3.28, \"started\": \"2019-12-19T00:00:00\", \"date\": \"2019-12-19T00:00:00\", \"faves\": null, \"year\": \"2019\", \"days_to_read\": 0, \"gender_description\": \"Female\"}, {\"order\": 53, \"title\": \"Wedding Toasts I'll Never Give\", \"author\": \"Ada Calhoun\", \"pages\": 192, \"url\": \"https://www.goodreads.com/book/show/36236126-wedding-toasts-i-ll-never-give\", \"gender\": \"F\", \"type\": \"Non-Fiction\", \"subgenre\": \"Essays\", \"avg_goodreads_rating\": 3.86, \"started\": \"2019-12-26T00:00:00\", \"date\": \"2019-12-27T00:00:00\", \"faves\": null, \"year\": \"2019\", \"days_to_read\": 1, \"gender_description\": \"Female\"}]}}, {\"mode\": \"vega-lite\"});\n",
       "</script>"
      ],
      "text/plain": [
       "alt.Chart(...)"
      ]
     },
     "execution_count": 22,
     "metadata": {},
     "output_type": "execute_result"
    }
   ],
   "source": [
    "# MOBILE\n",
    "alt.Chart(books).mark_tick(thickness=2,size=20).encode(\n",
    "    x=alt.X('date',axis=alt.Axis(tickCount=12, format='%b', tickColor='#ffffff'), title=''),\n",
    "    y=alt.Y('type',axis=alt.Axis(tickCount=0, tickColor='#ffffff'), title=' '),\n",
    "    color=alt.Color('type', legend=None)\n",
    ").configure_axis(\n",
    "    grid=False).properties(height=200, width=320, title='Books, by type and date finished')"
   ]
  },
  {
   "cell_type": "markdown",
   "metadata": {},
   "source": [
    "---"
   ]
  },
  {
   "cell_type": "markdown",
   "metadata": {},
   "source": [
    "### Is there a strong relationship between the number of pages and days to read? No"
   ]
  },
  {
   "cell_type": "code",
   "execution_count": 23,
   "metadata": {},
   "outputs": [],
   "source": [
    "# Remove handful of books that took months to finish\n",
    "books_month = books[books['days_to_read'] < 30]"
   ]
  },
  {
   "cell_type": "code",
   "execution_count": 24,
   "metadata": {},
   "outputs": [],
   "source": [
    "books_corr = books_month[['pages', 'days_to_read']]"
   ]
  },
  {
   "cell_type": "code",
   "execution_count": 25,
   "metadata": {},
   "outputs": [],
   "source": [
    "corr = books_corr.corr(method ='pearson')"
   ]
  },
  {
   "cell_type": "code",
   "execution_count": 26,
   "metadata": {},
   "outputs": [
    {
     "name": "stdout",
     "output_type": "stream",
     "text": [
      "              pages  days_to_read\n",
      "pages          1.00          0.34\n",
      "days_to_read   0.34          1.00\n"
     ]
    }
   ],
   "source": [
    "print(corr)"
   ]
  },
  {
   "cell_type": "code",
   "execution_count": 27,
   "metadata": {},
   "outputs": [
    {
     "data": {
      "text/html": [
       "\n",
       "<div id=\"altair-viz-54f3fbf6ae2a42188fece03ff2b86464\"></div>\n",
       "<script type=\"text/javascript\">\n",
       "  (function(spec, embedOpt){\n",
       "    const outputDiv = document.getElementById(\"altair-viz-54f3fbf6ae2a42188fece03ff2b86464\");\n",
       "    const paths = {\n",
       "      \"vega\": \"https://cdn.jsdelivr.net/npm//vega@5?noext\",\n",
       "      \"vega-lib\": \"https://cdn.jsdelivr.net/npm//vega-lib?noext\",\n",
       "      \"vega-lite\": \"https://cdn.jsdelivr.net/npm//vega-lite@4.0.2?noext\",\n",
       "      \"vega-embed\": \"https://cdn.jsdelivr.net/npm//vega-embed@6?noext\",\n",
       "    };\n",
       "\n",
       "    function loadScript(lib) {\n",
       "      return new Promise(function(resolve, reject) {\n",
       "        var s = document.createElement('script');\n",
       "        s.src = paths[lib];\n",
       "        s.async = true;\n",
       "        s.onload = () => resolve(paths[lib]);\n",
       "        s.onerror = () => reject(`Error loading script: ${paths[lib]}`);\n",
       "        document.getElementsByTagName(\"head\")[0].appendChild(s);\n",
       "      });\n",
       "    }\n",
       "\n",
       "    function showError(err) {\n",
       "      outputDiv.innerHTML = `<div class=\"error\" style=\"color:red;\">${err}</div>`;\n",
       "      throw err;\n",
       "    }\n",
       "\n",
       "    function displayChart(vegaEmbed) {\n",
       "      vegaEmbed(outputDiv, spec, embedOpt)\n",
       "        .catch(err => showError(`Javascript Error: ${err.message}<br>This usually means there's a typo in your chart specification. See the javascript console for the full traceback.`));\n",
       "    }\n",
       "\n",
       "    if(typeof define === \"function\" && define.amd) {\n",
       "      requirejs.config({paths});\n",
       "      require([\"vega-embed\"], displayChart, err => showError(`Error loading script: ${err.message}`));\n",
       "    } else if (typeof vegaEmbed === \"function\") {\n",
       "      displayChart(vegaEmbed);\n",
       "    } else {\n",
       "      loadScript(\"vega\")\n",
       "        .then(() => loadScript(\"vega-lite\"))\n",
       "        .then(() => loadScript(\"vega-embed\"))\n",
       "        .catch(showError)\n",
       "        .then(() => displayChart(vegaEmbed));\n",
       "    }\n",
       "  })({\"config\": {\"view\": {\"width\": 800, \"height\": 450}, \"background\": \"#ffffff\", \"title\": {\"anchor\": \"start\", \"font\": \"Benton Gothic Bold, sans\", \"fontColor\": \"#000000\", \"fontSize\": 22, \"fontWeight\": \"normal\"}, \"arc\": {\"fill\": \"#82c6df\"}, \"area\": {\"fill\": \"#82c6df\"}, \"line\": {\"stroke\": \"#82c6df\", \"strokeWidth\": 3}, \"path\": {\"stroke\": \"#82c6df\"}, \"rect\": {\"fill\": \"#82c6df\"}, \"shape\": {\"stroke\": \"#82c6df\"}, \"bar\": {\"fill\": \"#82c6df\"}, \"point\": {\"stroke\": \"#82c6df\"}, \"symbol\": {\"fill\": \"#82c6df\", \"size\": 30}, \"axis\": {\"titleFont\": \"Benton Gothic Bold, sans\", \"titleFontSize\": 13, \"titleFontWeight\": \"normal\", \"labelFont\": \"Benton Gothic, sans\", \"labelFontSize\": 11.5, \"labelFontWeight\": \"normal\"}, \"axisX\": {\"labelAngle\": 0, \"labelPadding\": 4, \"tickSize\": 3}, \"axisY\": {\"labelBaseline\": \"middle\", \"maxExtent\": 45, \"minExtent\": 45, \"tickSize\": 2, \"titleAlign\": \"left\", \"titleAngle\": 0, \"titleX\": -45, \"titleY\": -11}, \"legend\": {\"titleFont\": \"Benton Gothic Bold, sans\", \"titleFontSize\": 13, \"titleFontWeight\": \"normal\", \"symbolType\": \"square\", \"labelFont\": \"Benton Gothic, sans\", \"labelFontSize\": 11.5}, \"range\": {\"category\": [\"#3580b1\", \"#ec8431\", \"#ab7fb4\", \"#c89d29\", \"#adc839\", \"#829eb1\"], \"diverging\": [\"#e68a4f\", \"#f4bb6a\", \"#f9e39c\", \"#dadfe2\", \"#a6b7c6\", \"#849eae\"], \"heatmap\": [\"#fbf2c7\", \"#f9e39c\", \"#f8d36e\", \"#f4bb6a\", \"#e68a4f\", \"#d15a40\", \"#ab4232\"], \"ordinal\": [\"#fbf2c7\", \"#f9e39c\", \"#f8d36e\", \"#f4bb6a\", \"#e68a4f\", \"#d15a40\", \"#ab4232\"], \"ramp\": [\"#fbf2c7\", \"#f9e39c\", \"#f8d36e\", \"#f4bb6a\", \"#e68a4f\", \"#d15a40\", \"#ab4232\"]}}, \"data\": {\"name\": \"data-60f804e90f49b1d647d042471ccb35fe\"}, \"mark\": {\"type\": \"circle\", \"size\": 60}, \"encoding\": {\"tooltip\": [{\"type\": \"nominal\", \"field\": \"title\"}, {\"type\": \"ordinal\", \"field\": \"author\"}, {\"type\": \"quantitative\", \"field\": \"avg_goodreads_rating\"}, {\"type\": \"quantitative\", \"field\": \"days_to_read\"}], \"x\": {\"type\": \"quantitative\", \"axis\": {\"tickCount\": 6}, \"field\": \"days_to_read\", \"title\": \"Days to read\"}, \"y\": {\"type\": \"quantitative\", \"axis\": {\"tickCount\": 5}, \"field\": \"pages\", \"title\": \"Number of pages\"}}, \"height\": 500, \"width\": 500, \"$schema\": \"https://vega.github.io/schema/vega-lite/v4.0.2.json\", \"datasets\": {\"data-60f804e90f49b1d647d042471ccb35fe\": [{\"order\": 1, \"title\": \"Brotopia\", \"author\": \"Emily Chang\", \"pages\": 317, \"url\": \"https://www.goodreads.com/book/show/36288143-brotopia\", \"gender\": \"F\", \"type\": \"Non-Fiction\", \"subgenre\": \"Business\", \"avg_goodreads_rating\": 4.04, \"started\": \"2018-12-26T00:00:00\", \"date\": \"2019-01-06T00:00:00\", \"faves\": null, \"year\": \"2019\", \"days_to_read\": 11, \"gender_description\": \"Female\"}, {\"order\": 2, \"title\": \"The Human Stain\", \"author\": \"Philip Roth\", \"pages\": 384, \"url\": \"https://www.goodreads.com/book/show/11734.The_Human_Stain?from_search=true\", \"gender\": \"M\", \"type\": \"Fiction\", \"subgenre\": \"Literature\", \"avg_goodreads_rating\": 3.87, \"started\": \"2019-01-06T00:00:00\", \"date\": \"2019-01-16T00:00:00\", \"faves\": \"Y\", \"year\": \"2019\", \"days_to_read\": 10, \"gender_description\": \"Male\"}, {\"order\": 3, \"title\": \"You Know You Want This\", \"author\": \"Kristen Roupenian\", \"pages\": 225, \"url\": \"https://www.goodreads.com/book/show/40539045-you-know-you-want-this\", \"gender\": \"F\", \"type\": \"Fiction\", \"subgenre\": \"Short Stories\", \"avg_goodreads_rating\": 3.86, \"started\": \"2019-01-16T00:00:00\", \"date\": \"2019-01-19T00:00:00\", \"faves\": null, \"year\": \"2019\", \"days_to_read\": 3, \"gender_description\": \"Female\"}, {\"order\": 5, \"title\": \"If Beale Street Could Talk\", \"author\": \"James Baldwin\", \"pages\": 197, \"url\": \"https://www.goodreads.com/book/show/38463.If_Beale_Street_Could_Talk\", \"gender\": \"M\", \"type\": \"Fiction\", \"subgenre\": \"Classics\", \"avg_goodreads_rating\": 4.29, \"started\": \"2019-01-22T00:00:00\", \"date\": \"2019-01-28T00:00:00\", \"faves\": null, \"year\": \"2019\", \"days_to_read\": 6, \"gender_description\": \"Male\"}, {\"order\": 6, \"title\": \"Nobody Cares\", \"author\": \"Anne Donahue\", \"pages\": 240, \"url\": \"https://www.goodreads.com/book/show/36360167-nobody-cares\", \"gender\": \"F\", \"type\": \"Non-Fiction\", \"subgenre\": \"Essays\", \"avg_goodreads_rating\": 3.67, \"started\": \"2019-02-03T00:00:00\", \"date\": \"2019-02-25T00:00:00\", \"faves\": null, \"year\": \"2019\", \"days_to_read\": 22, \"gender_description\": \"Female\"}, {\"order\": 7, \"title\": \"Acts of Infidelity\", \"author\": \"Lena Andersson\", \"pages\": 366, \"url\": \"https://www.goodreads.com/book/show/22601256-utan-personligt-ansvar\", \"gender\": \"F\", \"type\": \"Fiction\", \"subgenre\": \"Swedish Lit\", \"avg_goodreads_rating\": 3.66, \"started\": \"2019-02-01T00:00:00\", \"date\": \"2019-02-08T00:00:00\", \"faves\": null, \"year\": \"2019\", \"days_to_read\": 7, \"gender_description\": \"Female\"}, {\"order\": 8, \"title\": \"There Will Be No Miracles Here\", \"author\": \"Casey Gerald\", \"pages\": 394, \"url\": \"https://www.goodreads.com/book/show/38650651-there-will-be-no-miracles-here?from_search=true\", \"gender\": \"M\", \"type\": \"Non-Fiction\", \"subgenre\": \"Memoir\", \"avg_goodreads_rating\": 3.72, \"started\": \"2019-01-27T00:00:00\", \"date\": \"2019-02-11T00:00:00\", \"faves\": null, \"year\": \"2019\", \"days_to_read\": 15, \"gender_description\": \"Male\"}, {\"order\": 9, \"title\": \"The Unbearable Lightness of Being\", \"author\": \"Milan Kundera\", \"pages\": 320, \"url\": \"https://www.goodreads.com/book/show/9717.The_Unbearable_Lightness_of_Being?from_search=true\", \"gender\": \"M\", \"type\": \"Fiction\", \"subgenre\": \"Classics\", \"avg_goodreads_rating\": 4.09, \"started\": \"2019-02-16T00:00:00\", \"date\": \"2019-02-23T00:00:00\", \"faves\": null, \"year\": \"2019\", \"days_to_read\": 7, \"gender_description\": \"Male\"}, {\"order\": 11, \"title\": \"LOT\", \"author\": \"Bryan Washington\", \"pages\": 240, \"url\": \"https://www.goodreads.com/book/show/40749395-lot\", \"gender\": \"M\", \"type\": \"Fiction\", \"subgenre\": \"Short Stories\", \"avg_goodreads_rating\": 3.74, \"started\": \"2019-02-28T00:00:00\", \"date\": \"2019-03-15T00:00:00\", \"faves\": \"Y\", \"year\": \"2019\", \"days_to_read\": 15, \"gender_description\": \"Male\"}, {\"order\": 12, \"title\": \"Oculus\", \"author\": \"Sally Wen Mao\", \"pages\": 119, \"url\": \"https://www.goodreads.com/book/show/40121999-oculus\", \"gender\": \"F\", \"type\": \"Poetry\", \"subgenre\": \"Contemporary\", \"avg_goodreads_rating\": 4.22, \"started\": \"2019-03-03T00:00:00\", \"date\": \"2019-03-11T00:00:00\", \"faves\": null, \"year\": \"2019\", \"days_to_read\": 8, \"gender_description\": \"Female\"}, {\"order\": 13, \"title\": \"Homo Deus: A Brief History of Tomorrow\", \"author\": \"Yuval Harari\", \"pages\": 450, \"url\": \"https://www.goodreads.com/book/show/31138556-homo-deus?from_search=true\", \"gender\": \"M\", \"type\": \"Non-Fiction\", \"subgenre\": \"History\", \"avg_goodreads_rating\": 4.29, \"started\": \"2019-03-22T00:00:00\", \"date\": \"2019-04-19T00:00:00\", \"faves\": null, \"year\": \"2019\", \"days_to_read\": 28, \"gender_description\": \"Male\"}, {\"order\": 14, \"title\": \"Heart Berries\", \"author\": \"Terese Marie Mailhot\", \"pages\": 143, \"url\": \"https://www.goodreads.com/book/show/35840657-heart-berries\", \"gender\": \"F\", \"type\": \"Non-Fiction\", \"subgenre\": \"Memoir\", \"avg_goodreads_rating\": 3.89, \"started\": \"2019-04-03T00:00:00\", \"date\": \"2019-04-06T00:00:00\", \"faves\": null, \"year\": \"2019\", \"days_to_read\": 3, \"gender_description\": \"Female\"}, {\"order\": 16, \"title\": \"Normal People\", \"author\": \"Sally Rooney\", \"pages\": 266, \"url\": \"https://www.goodreads.com/book/show/37539457-normal-people\", \"gender\": \"F\", \"type\": \"Fiction\", \"subgenre\": \"Contemporary\", \"avg_goodreads_rating\": 3.89, \"started\": \"2019-04-20T00:00:00\", \"date\": \"2019-04-21T00:00:00\", \"faves\": \"Y\", \"year\": \"2019\", \"days_to_read\": 1, \"gender_description\": \"Female\"}, {\"order\": 17, \"title\": \"Less\", \"author\": \"Andrew Sean Greer\", \"pages\": 273, \"url\": \"https://www.goodreads.com/book/show/39927096-less\", \"gender\": \"M\", \"type\": \"Fiction\", \"subgenre\": \"Contemporary\", \"avg_goodreads_rating\": 3.76, \"started\": \"2019-04-25T00:00:00\", \"date\": \"2019-05-08T00:00:00\", \"faves\": null, \"year\": \"2019\", \"days_to_read\": 13, \"gender_description\": \"Male\"}, {\"order\": 18, \"title\": \"Nobody is Ever Missing\", \"author\": \"Catherine Lacey\", \"pages\": 244, \"url\": \"https://www.goodreads.com/book/show/18490560-nobody-is-ever-missing?from_search=true\", \"gender\": \"F\", \"type\": \"Fiction\", \"subgenre\": \"Contemporary\", \"avg_goodreads_rating\": 3.27, \"started\": \"2019-05-08T00:00:00\", \"date\": \"2019-05-13T00:00:00\", \"faves\": null, \"year\": \"2019\", \"days_to_read\": 5, \"gender_description\": \"Female\"}, {\"order\": 19, \"title\": \"The New Me\", \"author\": \"Halle Butler\", \"pages\": 208, \"url\": \"https://www.goodreads.com/book/show/36342706-the-new-me\", \"gender\": \"F\", \"type\": \"Fiction\", \"subgenre\": \"Contemporary\", \"avg_goodreads_rating\": 3.6, \"started\": \"2019-05-13T00:00:00\", \"date\": \"2019-05-18T00:00:00\", \"faves\": \"Nope\", \"year\": \"2019\", \"days_to_read\": 5, \"gender_description\": \"Female\"}, {\"order\": 20, \"title\": \"The Empathy Exams\", \"author\": \"Leslie Jamison\", \"pages\": 226, \"url\": \"https://www.goodreads.com/en/book/show/17934655\", \"gender\": \"F\", \"type\": \"Non-Fiction\", \"subgenre\": \"Essays\", \"avg_goodreads_rating\": 3.64, \"started\": \"2019-05-18T00:00:00\", \"date\": \"2019-05-27T00:00:00\", \"faves\": null, \"year\": \"2019\", \"days_to_read\": 9, \"gender_description\": \"Female\"}, {\"order\": 21, \"title\": \"Bad Blood\", \"author\": \"John Carreyou\", \"pages\": 339, \"url\": \"https://www.goodreads.com/book/show/37976541-bad-blood?from_search=true\", \"gender\": \"M\", \"type\": \"Non-Fiction\", \"subgenre\": \"True Crime\", \"avg_goodreads_rating\": 4.48, \"started\": \"2019-06-01T00:00:00\", \"date\": \"2019-06-12T00:00:00\", \"faves\": null, \"year\": \"2019\", \"days_to_read\": 11, \"gender_description\": \"Male\"}, {\"order\": 22, \"title\": \"The Recovering: Intoxication and its Aftermath\", \"author\": \"Leslie Jamison\", \"pages\": 545, \"url\": \"https://www.goodreads.com/book/show/35959632-the-recovering\", \"gender\": \"F\", \"type\": \"Non-Fiction\", \"subgenre\": \"Memoir\", \"avg_goodreads_rating\": 3.96, \"started\": \"2019-05-27T00:00:00\", \"date\": \"2019-06-01T00:00:00\", \"faves\": \"Y\", \"year\": \"2019\", \"days_to_read\": 5, \"gender_description\": \"Female\"}, {\"order\": 23, \"title\": \"Evvie Drake Starts Over\", \"author\": \"Linda Holmes\", \"pages\": 304, \"url\": \"https://www.goodreads.com/book/show/40514431-evvie-drake-starts-over?ac=1&from_search=true\", \"gender\": \"F\", \"type\": \"Fiction\", \"subgenre\": \"Young Adult\", \"avg_goodreads_rating\": 4.22, \"started\": \"2019-06-30T00:00:00\", \"date\": \"2019-06-30T00:00:00\", \"faves\": null, \"year\": \"2019\", \"days_to_read\": 0, \"gender_description\": \"Female\"}, {\"order\": 25, \"title\": \"Trust Exercise\", \"author\": \"Susan Choi\", \"pages\": 257, \"url\": \"https://www.goodreads.com/en/book/show/40046059\", \"gender\": \"F\", \"type\": \"Fiction\", \"subgenre\": \"Contemporary\", \"avg_goodreads_rating\": 3.23, \"started\": \"2019-06-12T00:00:00\", \"date\": \"2019-06-14T00:00:00\", \"faves\": \"Y\", \"year\": \"2019\", \"days_to_read\": 2, \"gender_description\": \"Female\"}, {\"order\": 26, \"title\": \"Trick Mirror\", \"author\": \"Jia Tolentino\", \"pages\": 256, \"url\": \"https://www.goodreads.com/book/show/43126457-trick-mirror?from_search=true\", \"gender\": \"F\", \"type\": \"Non-Fiction\", \"subgenre\": \"Essays\", \"avg_goodreads_rating\": 4.33, \"started\": \"2019-06-15T00:00:00\", \"date\": \"2019-06-30T00:00:00\", \"faves\": \"Y\", \"year\": \"2019\", \"days_to_read\": 15, \"gender_description\": \"Female\"}, {\"order\": 27, \"title\": \"Territory of Light\", \"author\": \"Yuko Tsushima\", \"pages\": 122, \"url\": \"https://www.goodreads.com/book/show/33871745-territory-of-light\", \"gender\": \"F\", \"type\": \"Fiction\", \"subgenre\": \"Japanese Lit\", \"avg_goodreads_rating\": 3.66, \"started\": \"2019-07-01T00:00:00\", \"date\": \"2019-07-06T00:00:00\", \"faves\": null, \"year\": \"2019\", \"days_to_read\": 5, \"gender_description\": \"Female\"}, {\"order\": 29, \"title\": \"Fleishman Is In Trouble\", \"author\": \"Taffy Brodesser-Akner\", \"pages\": 384, \"url\": \"https://www.goodreads.com/book/show/41880602-fleishman-is-in-trouble?ac=1&from_search=true\", \"gender\": \"F\", \"type\": \"Fiction\", \"subgenre\": \"Contemporary\", \"avg_goodreads_rating\": 4.1, \"started\": \"2019-06-17T00:00:00\", \"date\": \"2019-06-28T00:00:00\", \"faves\": \"Y\", \"year\": \"2019\", \"days_to_read\": 11, \"gender_description\": \"Female\"}, {\"order\": 30, \"title\": \"Lifespan\", \"author\": \"David Sinclair\", \"pages\": 432, \"url\": \"https://www.goodreads.com/book/show/43723901-lifespan?ac=1&from_search=true\", \"gender\": \"M\", \"type\": \"Non-Fiction\", \"subgenre\": \"Science\", \"avg_goodreads_rating\": 4.27, \"started\": \"2019-07-01T00:00:00\", \"date\": \"2019-07-18T00:00:00\", \"faves\": null, \"year\": \"2019\", \"days_to_read\": 17, \"gender_description\": \"Male\"}, {\"order\": 31, \"title\": \"Uncanny Valley\", \"author\": \"Anna Wiener\", \"pages\": 304, \"url\": \"https://www.goodreads.com/book/show/45186565-uncanny-valley?ac=1&from_search=true\", \"gender\": \"F\", \"type\": \"Non-Fiction\", \"subgenre\": \"Memoir\", \"avg_goodreads_rating\": 4.2, \"started\": \"2019-07-19T00:00:00\", \"date\": \"2019-07-21T00:00:00\", \"faves\": \"y\", \"year\": \"2019\", \"days_to_read\": 2, \"gender_description\": \"Female\"}, {\"order\": 32, \"title\": \"Hit Makers\", \"author\": \"Derek Thompson\", \"pages\": 352, \"url\": \"https://www.goodreads.com/book/show/30901608-hit-makers\", \"gender\": \"M\", \"type\": \"Non-Fiction\", \"subgenre\": \"Pop Culture\", \"avg_goodreads_rating\": 3.95, \"started\": \"2019-07-20T00:00:00\", \"date\": \"2019-08-06T00:00:00\", \"faves\": null, \"year\": \"2019\", \"days_to_read\": 17, \"gender_description\": \"Male\"}, {\"order\": 34, \"title\": \"For the Love of Men: A New Vision for Mindful Masculinity\", \"author\": \"Liz Plank\", \"pages\": 300, \"url\": \"https://www.goodreads.com/book/show/43263540-for-the-love-of-men\", \"gender\": \"F\", \"type\": \"Non-Fiction\", \"subgenre\": \"Feminism\", \"avg_goodreads_rating\": 4.38, \"started\": \"2019-07-23T00:00:00\", \"date\": \"2019-08-02T00:00:00\", \"faves\": null, \"year\": \"2019\", \"days_to_read\": 10, \"gender_description\": \"Female\"}, {\"order\": 35, \"title\": \"Three Women\", \"author\": \"Lisa Taddeo\", \"pages\": 304, \"url\": \"https://www.goodreads.com/book/show/42201100-three-women\", \"gender\": \"F\", \"type\": \"Non-Fiction\", \"subgenre\": \"Feminism\", \"avg_goodreads_rating\": 3.87, \"started\": \"2019-08-15T00:00:00\", \"date\": \"2019-08-22T00:00:00\", \"faves\": \"y\", \"year\": \"2019\", \"days_to_read\": 7, \"gender_description\": \"Female\"}, {\"order\": 36, \"title\": \"Brave New World\", \"author\": \"Aldous Huxley\", \"pages\": 288, \"url\": \"https://www.goodreads.com/book/show/5129.Brave_New_World?ac=1&from_search=true\", \"gender\": \"M\", \"type\": \"Fiction\", \"subgenre\": \"Science \", \"avg_goodreads_rating\": 3.98, \"started\": \"2019-09-15T00:00:00\", \"date\": \"2019-09-16T00:00:00\", \"faves\": null, \"year\": \"2019\", \"days_to_read\": 1, \"gender_description\": \"Male\"}, {\"order\": 37, \"title\": \"Permanent Record\", \"author\": \"Mary HK Choi\", \"pages\": 400, \"url\": \"https://www.goodreads.com/book/show/43562239-permanent-record?from_search=true\", \"gender\": \"F\", \"type\": \"Fiction\", \"subgenre\": \"Young Adult\", \"avg_goodreads_rating\": 3.84, \"started\": \"2019-09-07T00:00:00\", \"date\": \"2019-09-11T00:00:00\", \"faves\": null, \"year\": \"2019\", \"days_to_read\": 4, \"gender_description\": \"Female\"}, {\"order\": 38, \"title\": \"I Was Their American Dream\", \"author\": \"Malaka Gharib\", \"pages\": 160, \"url\": \"https://www.goodreads.com/book/show/40909448-i-was-their-american-dream?from_search=true\", \"gender\": \"F\", \"type\": \"Non-Fiction\", \"subgenre\": \"Graphic Novel\", \"avg_goodreads_rating\": 4.3, \"started\": \"2019-09-05T00:00:00\", \"date\": \"2019-09-12T00:00:00\", \"faves\": null, \"year\": \"2019\", \"days_to_read\": 7, \"gender_description\": \"Female\"}, {\"order\": 39, \"title\": \"Men Without Women\", \"author\": \"Haruki Murakami\", \"pages\": 242, \"url\": \"https://www.goodreads.com/book/show/31950871-men-without-women\", \"gender\": \"M\", \"type\": \"Fiction\", \"subgenre\": \"Short Stories\", \"avg_goodreads_rating\": 3.77, \"started\": \"2019-09-18T00:00:00\", \"date\": \"2019-09-25T00:00:00\", \"faves\": null, \"year\": \"2019\", \"days_to_read\": 7, \"gender_description\": \"Male\"}, {\"order\": 40, \"title\": \"Make it Scream Make it Burn\", \"author\": \"Leslie Jamison\", \"pages\": 272, \"url\": \"https://www.goodreads.com/book/show/43521617-make-it-scream-make-it-burn?from_search=true\", \"gender\": \"F\", \"type\": \"Non-Fiction\", \"subgenre\": \"Essays\", \"avg_goodreads_rating\": 4.13, \"started\": \"2019-10-02T00:00:00\", \"date\": \"2019-10-06T00:00:00\", \"faves\": null, \"year\": \"2019\", \"days_to_read\": 4, \"gender_description\": \"Female\"}, {\"order\": 41, \"title\": \"How to Talk So Your Kids Will Listen\", \"author\": \"Adele Faber and Elaine Mazlish\", \"pages\": 368, \"url\": \"https://www.goodreads.com/book/show/12371502-how-to-talk-so-kids-will-listen-listen-so-kids-will-talk\", \"gender\": \"F\", \"type\": \"Non-Fiction\", \"subgenre\": \"Parenting\", \"avg_goodreads_rating\": 4.26, \"started\": \"2019-09-28T00:00:00\", \"date\": \"2019-10-02T00:00:00\", \"faves\": \"Y\", \"year\": \"2019\", \"days_to_read\": 4, \"gender_description\": \"Female\"}, {\"order\": 44, \"title\": \"Think Like Your Editor\", \"author\": \"Susan Rabiner\", \"pages\": 288, \"url\": \"https://www.goodreads.com/book/show/18988615-thinking-like-your-editor?utm_content=review_cta_book_image&utm_medium=email&utm_source=bookend\", \"gender\": \"F\", \"type\": \"Non-Fiction\", \"subgenre\": \"Writing\", \"avg_goodreads_rating\": 4.04, \"started\": \"2019-10-24T00:00:00\", \"date\": \"2019-10-28T00:00:00\", \"faves\": null, \"year\": \"2019\", \"days_to_read\": 4, \"gender_description\": \"Female\"}, {\"order\": 45, \"title\": \"Kim Ji Young Born 1982\", \"author\": \"Cho Nam-joo\", \"pages\": 144, \"url\": \"https://www.goodreads.com/book/show/47320138-kim-ji-young-born-1982?ac=1&from_search=true\", \"gender\": \"F\", \"type\": \"Fiction\", \"subgenre\": \"Feminism\", \"avg_goodreads_rating\": 4.17, \"started\": \"2019-10-28T00:00:00\", \"date\": \"2019-10-31T00:00:00\", \"faves\": null, \"year\": \"2019\", \"days_to_read\": 3, \"gender_description\": \"Female\"}, {\"order\": 46, \"title\": \"Superman vs the KKK\", \"author\": \"Rick Bowers\", \"pages\": 160, \"url\": \"https://www.goodreads.com/book/show/11407829-superman-versus-the-ku-klux-klan?from_search=true\", \"gender\": \"M\", \"type\": \"Non-Fiction\", \"subgenre\": \"History\", \"avg_goodreads_rating\": 3.66, \"started\": \"2019-10-28T00:00:00\", \"date\": \"2019-10-29T00:00:00\", \"faves\": null, \"year\": \"2019\", \"days_to_read\": 1, \"gender_description\": \"Male\"}, {\"order\": 47, \"title\": \"The Likeability Trap\", \"author\": \"Alicia Menendez\", \"pages\": 240, \"url\": \"https://www.goodreads.com/book/show/46408581-the-likeability-trap?from_search=true&qid=oURYa3fiGo&rank=1\", \"gender\": \"F\", \"type\": \"Non-Fiction\", \"subgenre\": \"Feminism\", \"avg_goodreads_rating\": 3.7, \"started\": \"2019-11-08T00:00:00\", \"date\": \"2019-11-13T00:00:00\", \"faves\": null, \"year\": \"2019\", \"days_to_read\": 5, \"gender_description\": \"Female\"}, {\"order\": 48, \"title\": \"A Short HIstory of Progress\", \"author\": \"Ronald Wright\", \"pages\": 224, \"url\": \"https://www.goodreads.com/book/show/331227.A_Short_History_of_Progress?from_search=true&qid=supt2TGSOt&rank=1\", \"gender\": \"M\", \"type\": \"Non-Fiction\", \"subgenre\": \"History\", \"avg_goodreads_rating\": 4.1, \"started\": \"2019-11-13T00:00:00\", \"date\": \"2019-11-29T00:00:00\", \"faves\": null, \"year\": \"2019\", \"days_to_read\": 16, \"gender_description\": \"Male\"}, {\"order\": 49, \"title\": \"The Last Romantics\", \"author\": \"Tara Conklin\", \"pages\": 368, \"url\": \"https://www.goodreads.com/book/show/35068465-the-last-romantics?ac=1&from_search=true&qid=dert731j6D&rank=1\", \"gender\": \"F\", \"type\": \"Fiction\", \"subgenre\": \"Contemporary\", \"avg_goodreads_rating\": 3.78, \"started\": \"2019-11-29T00:00:00\", \"date\": \"2019-12-02T00:00:00\", \"faves\": \"Y\", \"year\": \"2019\", \"days_to_read\": 3, \"gender_description\": \"Female\"}, {\"order\": 50, \"title\": \"Four Soldiers\", \"author\": \"Hubert Mingarelli\", \"pages\": 160, \"url\": \"https://www.goodreads.com/book/show/41557466-four-soldiers?from_search=true&qid=tFOQALgbWg&rank=1\", \"gender\": \"F\", \"type\": \"Fiction\", \"subgenre\": \"Historical\", \"avg_goodreads_rating\": 3.78, \"started\": \"2019-11-29T00:00:00\", \"date\": \"2019-12-03T00:00:00\", \"faves\": null, \"year\": \"2019\", \"days_to_read\": 4, \"gender_description\": \"Female\"}, {\"order\": 51, \"title\": \"Working\", \"author\": \"Robert Caro\", \"pages\": 231, \"url\": \"https://www.goodreads.com/book/show/43205240-working?from_search=true&qid=51xloY5uTL&rank=1\", \"gender\": \"M\", \"type\": \"Non-Fiction\", \"subgenre\": \"Writing\", \"avg_goodreads_rating\": 4.43, \"started\": \"2019-12-15T00:00:00\", \"date\": \"2019-12-18T00:00:00\", \"faves\": null, \"year\": \"2019\", \"days_to_read\": 3, \"gender_description\": \"Male\"}, {\"order\": 52, \"title\": \"The Incendiaries\", \"author\": \"R.O. Kwon\", \"pages\": 214, \"url\": \"https://www.goodreads.com/book/show/36679056-the-incendiaries\", \"gender\": \"F\", \"type\": \"Fiction\", \"subgenre\": \"Contemporary\", \"avg_goodreads_rating\": 3.28, \"started\": \"2019-12-19T00:00:00\", \"date\": \"2019-12-19T00:00:00\", \"faves\": null, \"year\": \"2019\", \"days_to_read\": 0, \"gender_description\": \"Female\"}, {\"order\": 53, \"title\": \"Wedding Toasts I'll Never Give\", \"author\": \"Ada Calhoun\", \"pages\": 192, \"url\": \"https://www.goodreads.com/book/show/36236126-wedding-toasts-i-ll-never-give\", \"gender\": \"F\", \"type\": \"Non-Fiction\", \"subgenre\": \"Essays\", \"avg_goodreads_rating\": 3.86, \"started\": \"2019-12-26T00:00:00\", \"date\": \"2019-12-27T00:00:00\", \"faves\": null, \"year\": \"2019\", \"days_to_read\": 1, \"gender_description\": \"Female\"}]}}, {\"mode\": \"vega-lite\"});\n",
       "</script>"
      ],
      "text/plain": [
       "alt.Chart(...)"
      ]
     },
     "execution_count": 27,
     "metadata": {},
     "output_type": "execute_result"
    }
   ],
   "source": [
    "#DESKTOP \n",
    "alt.Chart(books_month).mark_circle(size=60).encode(\n",
    "    x=alt.X('days_to_read:Q', title='Days to read', axis=alt.Axis(tickCount=6)),\n",
    "    y=alt.Y('pages:Q', title='Number of pages', axis=alt.Axis(tickCount=5)),\n",
    "    tooltip=['title:N', 'author:O', 'avg_goodreads_rating:Q', 'days_to_read:Q']\n",
    ").properties(width=500, height=500)"
   ]
  },
  {
   "cell_type": "code",
   "execution_count": 28,
   "metadata": {},
   "outputs": [
    {
     "data": {
      "text/html": [
       "\n",
       "<div id=\"altair-viz-dbab3b11759e42c8bd0fdf859460323a\"></div>\n",
       "<script type=\"text/javascript\">\n",
       "  (function(spec, embedOpt){\n",
       "    const outputDiv = document.getElementById(\"altair-viz-dbab3b11759e42c8bd0fdf859460323a\");\n",
       "    const paths = {\n",
       "      \"vega\": \"https://cdn.jsdelivr.net/npm//vega@5?noext\",\n",
       "      \"vega-lib\": \"https://cdn.jsdelivr.net/npm//vega-lib?noext\",\n",
       "      \"vega-lite\": \"https://cdn.jsdelivr.net/npm//vega-lite@4.0.2?noext\",\n",
       "      \"vega-embed\": \"https://cdn.jsdelivr.net/npm//vega-embed@6?noext\",\n",
       "    };\n",
       "\n",
       "    function loadScript(lib) {\n",
       "      return new Promise(function(resolve, reject) {\n",
       "        var s = document.createElement('script');\n",
       "        s.src = paths[lib];\n",
       "        s.async = true;\n",
       "        s.onload = () => resolve(paths[lib]);\n",
       "        s.onerror = () => reject(`Error loading script: ${paths[lib]}`);\n",
       "        document.getElementsByTagName(\"head\")[0].appendChild(s);\n",
       "      });\n",
       "    }\n",
       "\n",
       "    function showError(err) {\n",
       "      outputDiv.innerHTML = `<div class=\"error\" style=\"color:red;\">${err}</div>`;\n",
       "      throw err;\n",
       "    }\n",
       "\n",
       "    function displayChart(vegaEmbed) {\n",
       "      vegaEmbed(outputDiv, spec, embedOpt)\n",
       "        .catch(err => showError(`Javascript Error: ${err.message}<br>This usually means there's a typo in your chart specification. See the javascript console for the full traceback.`));\n",
       "    }\n",
       "\n",
       "    if(typeof define === \"function\" && define.amd) {\n",
       "      requirejs.config({paths});\n",
       "      require([\"vega-embed\"], displayChart, err => showError(`Error loading script: ${err.message}`));\n",
       "    } else if (typeof vegaEmbed === \"function\") {\n",
       "      displayChart(vegaEmbed);\n",
       "    } else {\n",
       "      loadScript(\"vega\")\n",
       "        .then(() => loadScript(\"vega-lite\"))\n",
       "        .then(() => loadScript(\"vega-embed\"))\n",
       "        .catch(showError)\n",
       "        .then(() => displayChart(vegaEmbed));\n",
       "    }\n",
       "  })({\"config\": {\"view\": {\"width\": 800, \"height\": 450}, \"background\": \"#ffffff\", \"title\": {\"anchor\": \"start\", \"font\": \"Benton Gothic Bold, sans\", \"fontColor\": \"#000000\", \"fontSize\": 22, \"fontWeight\": \"normal\"}, \"arc\": {\"fill\": \"#82c6df\"}, \"area\": {\"fill\": \"#82c6df\"}, \"line\": {\"stroke\": \"#82c6df\", \"strokeWidth\": 3}, \"path\": {\"stroke\": \"#82c6df\"}, \"rect\": {\"fill\": \"#82c6df\"}, \"shape\": {\"stroke\": \"#82c6df\"}, \"bar\": {\"fill\": \"#82c6df\"}, \"point\": {\"stroke\": \"#82c6df\"}, \"symbol\": {\"fill\": \"#82c6df\", \"size\": 30}, \"axis\": {\"titleFont\": \"Benton Gothic Bold, sans\", \"titleFontSize\": 13, \"titleFontWeight\": \"normal\", \"labelFont\": \"Benton Gothic, sans\", \"labelFontSize\": 11.5, \"labelFontWeight\": \"normal\"}, \"axisX\": {\"labelAngle\": 0, \"labelPadding\": 4, \"tickSize\": 3}, \"axisY\": {\"labelBaseline\": \"middle\", \"maxExtent\": 45, \"minExtent\": 45, \"tickSize\": 2, \"titleAlign\": \"left\", \"titleAngle\": 0, \"titleX\": -45, \"titleY\": -11}, \"legend\": {\"titleFont\": \"Benton Gothic Bold, sans\", \"titleFontSize\": 13, \"titleFontWeight\": \"normal\", \"symbolType\": \"square\", \"labelFont\": \"Benton Gothic, sans\", \"labelFontSize\": 11.5}, \"range\": {\"category\": [\"#3580b1\", \"#ec8431\", \"#ab7fb4\", \"#c89d29\", \"#adc839\", \"#829eb1\"], \"diverging\": [\"#e68a4f\", \"#f4bb6a\", \"#f9e39c\", \"#dadfe2\", \"#a6b7c6\", \"#849eae\"], \"heatmap\": [\"#fbf2c7\", \"#f9e39c\", \"#f8d36e\", \"#f4bb6a\", \"#e68a4f\", \"#d15a40\", \"#ab4232\"], \"ordinal\": [\"#fbf2c7\", \"#f9e39c\", \"#f8d36e\", \"#f4bb6a\", \"#e68a4f\", \"#d15a40\", \"#ab4232\"], \"ramp\": [\"#fbf2c7\", \"#f9e39c\", \"#f8d36e\", \"#f4bb6a\", \"#e68a4f\", \"#d15a40\", \"#ab4232\"]}}, \"data\": {\"name\": \"data-60f804e90f49b1d647d042471ccb35fe\"}, \"mark\": {\"type\": \"circle\", \"size\": 60}, \"encoding\": {\"tooltip\": [{\"type\": \"nominal\", \"field\": \"title\"}, {\"type\": \"ordinal\", \"field\": \"author\"}, {\"type\": \"quantitative\", \"field\": \"avg_goodreads_rating\"}, {\"type\": \"quantitative\", \"field\": \"days_to_read\"}], \"x\": {\"type\": \"quantitative\", \"axis\": {\"tickCount\": 6}, \"field\": \"days_to_read\", \"title\": \"Days to read\"}, \"y\": {\"type\": \"quantitative\", \"axis\": {\"tickCount\": 5}, \"field\": \"pages\", \"title\": \"Number of pages\"}}, \"height\": 320, \"width\": 320, \"$schema\": \"https://vega.github.io/schema/vega-lite/v4.0.2.json\", \"datasets\": {\"data-60f804e90f49b1d647d042471ccb35fe\": [{\"order\": 1, \"title\": \"Brotopia\", \"author\": \"Emily Chang\", \"pages\": 317, \"url\": \"https://www.goodreads.com/book/show/36288143-brotopia\", \"gender\": \"F\", \"type\": \"Non-Fiction\", \"subgenre\": \"Business\", \"avg_goodreads_rating\": 4.04, \"started\": \"2018-12-26T00:00:00\", \"date\": \"2019-01-06T00:00:00\", \"faves\": null, \"year\": \"2019\", \"days_to_read\": 11, \"gender_description\": \"Female\"}, {\"order\": 2, \"title\": \"The Human Stain\", \"author\": \"Philip Roth\", \"pages\": 384, \"url\": \"https://www.goodreads.com/book/show/11734.The_Human_Stain?from_search=true\", \"gender\": \"M\", \"type\": \"Fiction\", \"subgenre\": \"Literature\", \"avg_goodreads_rating\": 3.87, \"started\": \"2019-01-06T00:00:00\", \"date\": \"2019-01-16T00:00:00\", \"faves\": \"Y\", \"year\": \"2019\", \"days_to_read\": 10, \"gender_description\": \"Male\"}, {\"order\": 3, \"title\": \"You Know You Want This\", \"author\": \"Kristen Roupenian\", \"pages\": 225, \"url\": \"https://www.goodreads.com/book/show/40539045-you-know-you-want-this\", \"gender\": \"F\", \"type\": \"Fiction\", \"subgenre\": \"Short Stories\", \"avg_goodreads_rating\": 3.86, \"started\": \"2019-01-16T00:00:00\", \"date\": \"2019-01-19T00:00:00\", \"faves\": null, \"year\": \"2019\", \"days_to_read\": 3, \"gender_description\": \"Female\"}, {\"order\": 5, \"title\": \"If Beale Street Could Talk\", \"author\": \"James Baldwin\", \"pages\": 197, \"url\": \"https://www.goodreads.com/book/show/38463.If_Beale_Street_Could_Talk\", \"gender\": \"M\", \"type\": \"Fiction\", \"subgenre\": \"Classics\", \"avg_goodreads_rating\": 4.29, \"started\": \"2019-01-22T00:00:00\", \"date\": \"2019-01-28T00:00:00\", \"faves\": null, \"year\": \"2019\", \"days_to_read\": 6, \"gender_description\": \"Male\"}, {\"order\": 6, \"title\": \"Nobody Cares\", \"author\": \"Anne Donahue\", \"pages\": 240, \"url\": \"https://www.goodreads.com/book/show/36360167-nobody-cares\", \"gender\": \"F\", \"type\": \"Non-Fiction\", \"subgenre\": \"Essays\", \"avg_goodreads_rating\": 3.67, \"started\": \"2019-02-03T00:00:00\", \"date\": \"2019-02-25T00:00:00\", \"faves\": null, \"year\": \"2019\", \"days_to_read\": 22, \"gender_description\": \"Female\"}, {\"order\": 7, \"title\": \"Acts of Infidelity\", \"author\": \"Lena Andersson\", \"pages\": 366, \"url\": \"https://www.goodreads.com/book/show/22601256-utan-personligt-ansvar\", \"gender\": \"F\", \"type\": \"Fiction\", \"subgenre\": \"Swedish Lit\", \"avg_goodreads_rating\": 3.66, \"started\": \"2019-02-01T00:00:00\", \"date\": \"2019-02-08T00:00:00\", \"faves\": null, \"year\": \"2019\", \"days_to_read\": 7, \"gender_description\": \"Female\"}, {\"order\": 8, \"title\": \"There Will Be No Miracles Here\", \"author\": \"Casey Gerald\", \"pages\": 394, \"url\": \"https://www.goodreads.com/book/show/38650651-there-will-be-no-miracles-here?from_search=true\", \"gender\": \"M\", \"type\": \"Non-Fiction\", \"subgenre\": \"Memoir\", \"avg_goodreads_rating\": 3.72, \"started\": \"2019-01-27T00:00:00\", \"date\": \"2019-02-11T00:00:00\", \"faves\": null, \"year\": \"2019\", \"days_to_read\": 15, \"gender_description\": \"Male\"}, {\"order\": 9, \"title\": \"The Unbearable Lightness of Being\", \"author\": \"Milan Kundera\", \"pages\": 320, \"url\": \"https://www.goodreads.com/book/show/9717.The_Unbearable_Lightness_of_Being?from_search=true\", \"gender\": \"M\", \"type\": \"Fiction\", \"subgenre\": \"Classics\", \"avg_goodreads_rating\": 4.09, \"started\": \"2019-02-16T00:00:00\", \"date\": \"2019-02-23T00:00:00\", \"faves\": null, \"year\": \"2019\", \"days_to_read\": 7, \"gender_description\": \"Male\"}, {\"order\": 11, \"title\": \"LOT\", \"author\": \"Bryan Washington\", \"pages\": 240, \"url\": \"https://www.goodreads.com/book/show/40749395-lot\", \"gender\": \"M\", \"type\": \"Fiction\", \"subgenre\": \"Short Stories\", \"avg_goodreads_rating\": 3.74, \"started\": \"2019-02-28T00:00:00\", \"date\": \"2019-03-15T00:00:00\", \"faves\": \"Y\", \"year\": \"2019\", \"days_to_read\": 15, \"gender_description\": \"Male\"}, {\"order\": 12, \"title\": \"Oculus\", \"author\": \"Sally Wen Mao\", \"pages\": 119, \"url\": \"https://www.goodreads.com/book/show/40121999-oculus\", \"gender\": \"F\", \"type\": \"Poetry\", \"subgenre\": \"Contemporary\", \"avg_goodreads_rating\": 4.22, \"started\": \"2019-03-03T00:00:00\", \"date\": \"2019-03-11T00:00:00\", \"faves\": null, \"year\": \"2019\", \"days_to_read\": 8, \"gender_description\": \"Female\"}, {\"order\": 13, \"title\": \"Homo Deus: A Brief History of Tomorrow\", \"author\": \"Yuval Harari\", \"pages\": 450, \"url\": \"https://www.goodreads.com/book/show/31138556-homo-deus?from_search=true\", \"gender\": \"M\", \"type\": \"Non-Fiction\", \"subgenre\": \"History\", \"avg_goodreads_rating\": 4.29, \"started\": \"2019-03-22T00:00:00\", \"date\": \"2019-04-19T00:00:00\", \"faves\": null, \"year\": \"2019\", \"days_to_read\": 28, \"gender_description\": \"Male\"}, {\"order\": 14, \"title\": \"Heart Berries\", \"author\": \"Terese Marie Mailhot\", \"pages\": 143, \"url\": \"https://www.goodreads.com/book/show/35840657-heart-berries\", \"gender\": \"F\", \"type\": \"Non-Fiction\", \"subgenre\": \"Memoir\", \"avg_goodreads_rating\": 3.89, \"started\": \"2019-04-03T00:00:00\", \"date\": \"2019-04-06T00:00:00\", \"faves\": null, \"year\": \"2019\", \"days_to_read\": 3, \"gender_description\": \"Female\"}, {\"order\": 16, \"title\": \"Normal People\", \"author\": \"Sally Rooney\", \"pages\": 266, \"url\": \"https://www.goodreads.com/book/show/37539457-normal-people\", \"gender\": \"F\", \"type\": \"Fiction\", \"subgenre\": \"Contemporary\", \"avg_goodreads_rating\": 3.89, \"started\": \"2019-04-20T00:00:00\", \"date\": \"2019-04-21T00:00:00\", \"faves\": \"Y\", \"year\": \"2019\", \"days_to_read\": 1, \"gender_description\": \"Female\"}, {\"order\": 17, \"title\": \"Less\", \"author\": \"Andrew Sean Greer\", \"pages\": 273, \"url\": \"https://www.goodreads.com/book/show/39927096-less\", \"gender\": \"M\", \"type\": \"Fiction\", \"subgenre\": \"Contemporary\", \"avg_goodreads_rating\": 3.76, \"started\": \"2019-04-25T00:00:00\", \"date\": \"2019-05-08T00:00:00\", \"faves\": null, \"year\": \"2019\", \"days_to_read\": 13, \"gender_description\": \"Male\"}, {\"order\": 18, \"title\": \"Nobody is Ever Missing\", \"author\": \"Catherine Lacey\", \"pages\": 244, \"url\": \"https://www.goodreads.com/book/show/18490560-nobody-is-ever-missing?from_search=true\", \"gender\": \"F\", \"type\": \"Fiction\", \"subgenre\": \"Contemporary\", \"avg_goodreads_rating\": 3.27, \"started\": \"2019-05-08T00:00:00\", \"date\": \"2019-05-13T00:00:00\", \"faves\": null, \"year\": \"2019\", \"days_to_read\": 5, \"gender_description\": \"Female\"}, {\"order\": 19, \"title\": \"The New Me\", \"author\": \"Halle Butler\", \"pages\": 208, \"url\": \"https://www.goodreads.com/book/show/36342706-the-new-me\", \"gender\": \"F\", \"type\": \"Fiction\", \"subgenre\": \"Contemporary\", \"avg_goodreads_rating\": 3.6, \"started\": \"2019-05-13T00:00:00\", \"date\": \"2019-05-18T00:00:00\", \"faves\": \"Nope\", \"year\": \"2019\", \"days_to_read\": 5, \"gender_description\": \"Female\"}, {\"order\": 20, \"title\": \"The Empathy Exams\", \"author\": \"Leslie Jamison\", \"pages\": 226, \"url\": \"https://www.goodreads.com/en/book/show/17934655\", \"gender\": \"F\", \"type\": \"Non-Fiction\", \"subgenre\": \"Essays\", \"avg_goodreads_rating\": 3.64, \"started\": \"2019-05-18T00:00:00\", \"date\": \"2019-05-27T00:00:00\", \"faves\": null, \"year\": \"2019\", \"days_to_read\": 9, \"gender_description\": \"Female\"}, {\"order\": 21, \"title\": \"Bad Blood\", \"author\": \"John Carreyou\", \"pages\": 339, \"url\": \"https://www.goodreads.com/book/show/37976541-bad-blood?from_search=true\", \"gender\": \"M\", \"type\": \"Non-Fiction\", \"subgenre\": \"True Crime\", \"avg_goodreads_rating\": 4.48, \"started\": \"2019-06-01T00:00:00\", \"date\": \"2019-06-12T00:00:00\", \"faves\": null, \"year\": \"2019\", \"days_to_read\": 11, \"gender_description\": \"Male\"}, {\"order\": 22, \"title\": \"The Recovering: Intoxication and its Aftermath\", \"author\": \"Leslie Jamison\", \"pages\": 545, \"url\": \"https://www.goodreads.com/book/show/35959632-the-recovering\", \"gender\": \"F\", \"type\": \"Non-Fiction\", \"subgenre\": \"Memoir\", \"avg_goodreads_rating\": 3.96, \"started\": \"2019-05-27T00:00:00\", \"date\": \"2019-06-01T00:00:00\", \"faves\": \"Y\", \"year\": \"2019\", \"days_to_read\": 5, \"gender_description\": \"Female\"}, {\"order\": 23, \"title\": \"Evvie Drake Starts Over\", \"author\": \"Linda Holmes\", \"pages\": 304, \"url\": \"https://www.goodreads.com/book/show/40514431-evvie-drake-starts-over?ac=1&from_search=true\", \"gender\": \"F\", \"type\": \"Fiction\", \"subgenre\": \"Young Adult\", \"avg_goodreads_rating\": 4.22, \"started\": \"2019-06-30T00:00:00\", \"date\": \"2019-06-30T00:00:00\", \"faves\": null, \"year\": \"2019\", \"days_to_read\": 0, \"gender_description\": \"Female\"}, {\"order\": 25, \"title\": \"Trust Exercise\", \"author\": \"Susan Choi\", \"pages\": 257, \"url\": \"https://www.goodreads.com/en/book/show/40046059\", \"gender\": \"F\", \"type\": \"Fiction\", \"subgenre\": \"Contemporary\", \"avg_goodreads_rating\": 3.23, \"started\": \"2019-06-12T00:00:00\", \"date\": \"2019-06-14T00:00:00\", \"faves\": \"Y\", \"year\": \"2019\", \"days_to_read\": 2, \"gender_description\": \"Female\"}, {\"order\": 26, \"title\": \"Trick Mirror\", \"author\": \"Jia Tolentino\", \"pages\": 256, \"url\": \"https://www.goodreads.com/book/show/43126457-trick-mirror?from_search=true\", \"gender\": \"F\", \"type\": \"Non-Fiction\", \"subgenre\": \"Essays\", \"avg_goodreads_rating\": 4.33, \"started\": \"2019-06-15T00:00:00\", \"date\": \"2019-06-30T00:00:00\", \"faves\": \"Y\", \"year\": \"2019\", \"days_to_read\": 15, \"gender_description\": \"Female\"}, {\"order\": 27, \"title\": \"Territory of Light\", \"author\": \"Yuko Tsushima\", \"pages\": 122, \"url\": \"https://www.goodreads.com/book/show/33871745-territory-of-light\", \"gender\": \"F\", \"type\": \"Fiction\", \"subgenre\": \"Japanese Lit\", \"avg_goodreads_rating\": 3.66, \"started\": \"2019-07-01T00:00:00\", \"date\": \"2019-07-06T00:00:00\", \"faves\": null, \"year\": \"2019\", \"days_to_read\": 5, \"gender_description\": \"Female\"}, {\"order\": 29, \"title\": \"Fleishman Is In Trouble\", \"author\": \"Taffy Brodesser-Akner\", \"pages\": 384, \"url\": \"https://www.goodreads.com/book/show/41880602-fleishman-is-in-trouble?ac=1&from_search=true\", \"gender\": \"F\", \"type\": \"Fiction\", \"subgenre\": \"Contemporary\", \"avg_goodreads_rating\": 4.1, \"started\": \"2019-06-17T00:00:00\", \"date\": \"2019-06-28T00:00:00\", \"faves\": \"Y\", \"year\": \"2019\", \"days_to_read\": 11, \"gender_description\": \"Female\"}, {\"order\": 30, \"title\": \"Lifespan\", \"author\": \"David Sinclair\", \"pages\": 432, \"url\": \"https://www.goodreads.com/book/show/43723901-lifespan?ac=1&from_search=true\", \"gender\": \"M\", \"type\": \"Non-Fiction\", \"subgenre\": \"Science\", \"avg_goodreads_rating\": 4.27, \"started\": \"2019-07-01T00:00:00\", \"date\": \"2019-07-18T00:00:00\", \"faves\": null, \"year\": \"2019\", \"days_to_read\": 17, \"gender_description\": \"Male\"}, {\"order\": 31, \"title\": \"Uncanny Valley\", \"author\": \"Anna Wiener\", \"pages\": 304, \"url\": \"https://www.goodreads.com/book/show/45186565-uncanny-valley?ac=1&from_search=true\", \"gender\": \"F\", \"type\": \"Non-Fiction\", \"subgenre\": \"Memoir\", \"avg_goodreads_rating\": 4.2, \"started\": \"2019-07-19T00:00:00\", \"date\": \"2019-07-21T00:00:00\", \"faves\": \"y\", \"year\": \"2019\", \"days_to_read\": 2, \"gender_description\": \"Female\"}, {\"order\": 32, \"title\": \"Hit Makers\", \"author\": \"Derek Thompson\", \"pages\": 352, \"url\": \"https://www.goodreads.com/book/show/30901608-hit-makers\", \"gender\": \"M\", \"type\": \"Non-Fiction\", \"subgenre\": \"Pop Culture\", \"avg_goodreads_rating\": 3.95, \"started\": \"2019-07-20T00:00:00\", \"date\": \"2019-08-06T00:00:00\", \"faves\": null, \"year\": \"2019\", \"days_to_read\": 17, \"gender_description\": \"Male\"}, {\"order\": 34, \"title\": \"For the Love of Men: A New Vision for Mindful Masculinity\", \"author\": \"Liz Plank\", \"pages\": 300, \"url\": \"https://www.goodreads.com/book/show/43263540-for-the-love-of-men\", \"gender\": \"F\", \"type\": \"Non-Fiction\", \"subgenre\": \"Feminism\", \"avg_goodreads_rating\": 4.38, \"started\": \"2019-07-23T00:00:00\", \"date\": \"2019-08-02T00:00:00\", \"faves\": null, \"year\": \"2019\", \"days_to_read\": 10, \"gender_description\": \"Female\"}, {\"order\": 35, \"title\": \"Three Women\", \"author\": \"Lisa Taddeo\", \"pages\": 304, \"url\": \"https://www.goodreads.com/book/show/42201100-three-women\", \"gender\": \"F\", \"type\": \"Non-Fiction\", \"subgenre\": \"Feminism\", \"avg_goodreads_rating\": 3.87, \"started\": \"2019-08-15T00:00:00\", \"date\": \"2019-08-22T00:00:00\", \"faves\": \"y\", \"year\": \"2019\", \"days_to_read\": 7, \"gender_description\": \"Female\"}, {\"order\": 36, \"title\": \"Brave New World\", \"author\": \"Aldous Huxley\", \"pages\": 288, \"url\": \"https://www.goodreads.com/book/show/5129.Brave_New_World?ac=1&from_search=true\", \"gender\": \"M\", \"type\": \"Fiction\", \"subgenre\": \"Science \", \"avg_goodreads_rating\": 3.98, \"started\": \"2019-09-15T00:00:00\", \"date\": \"2019-09-16T00:00:00\", \"faves\": null, \"year\": \"2019\", \"days_to_read\": 1, \"gender_description\": \"Male\"}, {\"order\": 37, \"title\": \"Permanent Record\", \"author\": \"Mary HK Choi\", \"pages\": 400, \"url\": \"https://www.goodreads.com/book/show/43562239-permanent-record?from_search=true\", \"gender\": \"F\", \"type\": \"Fiction\", \"subgenre\": \"Young Adult\", \"avg_goodreads_rating\": 3.84, \"started\": \"2019-09-07T00:00:00\", \"date\": \"2019-09-11T00:00:00\", \"faves\": null, \"year\": \"2019\", \"days_to_read\": 4, \"gender_description\": \"Female\"}, {\"order\": 38, \"title\": \"I Was Their American Dream\", \"author\": \"Malaka Gharib\", \"pages\": 160, \"url\": \"https://www.goodreads.com/book/show/40909448-i-was-their-american-dream?from_search=true\", \"gender\": \"F\", \"type\": \"Non-Fiction\", \"subgenre\": \"Graphic Novel\", \"avg_goodreads_rating\": 4.3, \"started\": \"2019-09-05T00:00:00\", \"date\": \"2019-09-12T00:00:00\", \"faves\": null, \"year\": \"2019\", \"days_to_read\": 7, \"gender_description\": \"Female\"}, {\"order\": 39, \"title\": \"Men Without Women\", \"author\": \"Haruki Murakami\", \"pages\": 242, \"url\": \"https://www.goodreads.com/book/show/31950871-men-without-women\", \"gender\": \"M\", \"type\": \"Fiction\", \"subgenre\": \"Short Stories\", \"avg_goodreads_rating\": 3.77, \"started\": \"2019-09-18T00:00:00\", \"date\": \"2019-09-25T00:00:00\", \"faves\": null, \"year\": \"2019\", \"days_to_read\": 7, \"gender_description\": \"Male\"}, {\"order\": 40, \"title\": \"Make it Scream Make it Burn\", \"author\": \"Leslie Jamison\", \"pages\": 272, \"url\": \"https://www.goodreads.com/book/show/43521617-make-it-scream-make-it-burn?from_search=true\", \"gender\": \"F\", \"type\": \"Non-Fiction\", \"subgenre\": \"Essays\", \"avg_goodreads_rating\": 4.13, \"started\": \"2019-10-02T00:00:00\", \"date\": \"2019-10-06T00:00:00\", \"faves\": null, \"year\": \"2019\", \"days_to_read\": 4, \"gender_description\": \"Female\"}, {\"order\": 41, \"title\": \"How to Talk So Your Kids Will Listen\", \"author\": \"Adele Faber and Elaine Mazlish\", \"pages\": 368, \"url\": \"https://www.goodreads.com/book/show/12371502-how-to-talk-so-kids-will-listen-listen-so-kids-will-talk\", \"gender\": \"F\", \"type\": \"Non-Fiction\", \"subgenre\": \"Parenting\", \"avg_goodreads_rating\": 4.26, \"started\": \"2019-09-28T00:00:00\", \"date\": \"2019-10-02T00:00:00\", \"faves\": \"Y\", \"year\": \"2019\", \"days_to_read\": 4, \"gender_description\": \"Female\"}, {\"order\": 44, \"title\": \"Think Like Your Editor\", \"author\": \"Susan Rabiner\", \"pages\": 288, \"url\": \"https://www.goodreads.com/book/show/18988615-thinking-like-your-editor?utm_content=review_cta_book_image&utm_medium=email&utm_source=bookend\", \"gender\": \"F\", \"type\": \"Non-Fiction\", \"subgenre\": \"Writing\", \"avg_goodreads_rating\": 4.04, \"started\": \"2019-10-24T00:00:00\", \"date\": \"2019-10-28T00:00:00\", \"faves\": null, \"year\": \"2019\", \"days_to_read\": 4, \"gender_description\": \"Female\"}, {\"order\": 45, \"title\": \"Kim Ji Young Born 1982\", \"author\": \"Cho Nam-joo\", \"pages\": 144, \"url\": \"https://www.goodreads.com/book/show/47320138-kim-ji-young-born-1982?ac=1&from_search=true\", \"gender\": \"F\", \"type\": \"Fiction\", \"subgenre\": \"Feminism\", \"avg_goodreads_rating\": 4.17, \"started\": \"2019-10-28T00:00:00\", \"date\": \"2019-10-31T00:00:00\", \"faves\": null, \"year\": \"2019\", \"days_to_read\": 3, \"gender_description\": \"Female\"}, {\"order\": 46, \"title\": \"Superman vs the KKK\", \"author\": \"Rick Bowers\", \"pages\": 160, \"url\": \"https://www.goodreads.com/book/show/11407829-superman-versus-the-ku-klux-klan?from_search=true\", \"gender\": \"M\", \"type\": \"Non-Fiction\", \"subgenre\": \"History\", \"avg_goodreads_rating\": 3.66, \"started\": \"2019-10-28T00:00:00\", \"date\": \"2019-10-29T00:00:00\", \"faves\": null, \"year\": \"2019\", \"days_to_read\": 1, \"gender_description\": \"Male\"}, {\"order\": 47, \"title\": \"The Likeability Trap\", \"author\": \"Alicia Menendez\", \"pages\": 240, \"url\": \"https://www.goodreads.com/book/show/46408581-the-likeability-trap?from_search=true&qid=oURYa3fiGo&rank=1\", \"gender\": \"F\", \"type\": \"Non-Fiction\", \"subgenre\": \"Feminism\", \"avg_goodreads_rating\": 3.7, \"started\": \"2019-11-08T00:00:00\", \"date\": \"2019-11-13T00:00:00\", \"faves\": null, \"year\": \"2019\", \"days_to_read\": 5, \"gender_description\": \"Female\"}, {\"order\": 48, \"title\": \"A Short HIstory of Progress\", \"author\": \"Ronald Wright\", \"pages\": 224, \"url\": \"https://www.goodreads.com/book/show/331227.A_Short_History_of_Progress?from_search=true&qid=supt2TGSOt&rank=1\", \"gender\": \"M\", \"type\": \"Non-Fiction\", \"subgenre\": \"History\", \"avg_goodreads_rating\": 4.1, \"started\": \"2019-11-13T00:00:00\", \"date\": \"2019-11-29T00:00:00\", \"faves\": null, \"year\": \"2019\", \"days_to_read\": 16, \"gender_description\": \"Male\"}, {\"order\": 49, \"title\": \"The Last Romantics\", \"author\": \"Tara Conklin\", \"pages\": 368, \"url\": \"https://www.goodreads.com/book/show/35068465-the-last-romantics?ac=1&from_search=true&qid=dert731j6D&rank=1\", \"gender\": \"F\", \"type\": \"Fiction\", \"subgenre\": \"Contemporary\", \"avg_goodreads_rating\": 3.78, \"started\": \"2019-11-29T00:00:00\", \"date\": \"2019-12-02T00:00:00\", \"faves\": \"Y\", \"year\": \"2019\", \"days_to_read\": 3, \"gender_description\": \"Female\"}, {\"order\": 50, \"title\": \"Four Soldiers\", \"author\": \"Hubert Mingarelli\", \"pages\": 160, \"url\": \"https://www.goodreads.com/book/show/41557466-four-soldiers?from_search=true&qid=tFOQALgbWg&rank=1\", \"gender\": \"F\", \"type\": \"Fiction\", \"subgenre\": \"Historical\", \"avg_goodreads_rating\": 3.78, \"started\": \"2019-11-29T00:00:00\", \"date\": \"2019-12-03T00:00:00\", \"faves\": null, \"year\": \"2019\", \"days_to_read\": 4, \"gender_description\": \"Female\"}, {\"order\": 51, \"title\": \"Working\", \"author\": \"Robert Caro\", \"pages\": 231, \"url\": \"https://www.goodreads.com/book/show/43205240-working?from_search=true&qid=51xloY5uTL&rank=1\", \"gender\": \"M\", \"type\": \"Non-Fiction\", \"subgenre\": \"Writing\", \"avg_goodreads_rating\": 4.43, \"started\": \"2019-12-15T00:00:00\", \"date\": \"2019-12-18T00:00:00\", \"faves\": null, \"year\": \"2019\", \"days_to_read\": 3, \"gender_description\": \"Male\"}, {\"order\": 52, \"title\": \"The Incendiaries\", \"author\": \"R.O. Kwon\", \"pages\": 214, \"url\": \"https://www.goodreads.com/book/show/36679056-the-incendiaries\", \"gender\": \"F\", \"type\": \"Fiction\", \"subgenre\": \"Contemporary\", \"avg_goodreads_rating\": 3.28, \"started\": \"2019-12-19T00:00:00\", \"date\": \"2019-12-19T00:00:00\", \"faves\": null, \"year\": \"2019\", \"days_to_read\": 0, \"gender_description\": \"Female\"}, {\"order\": 53, \"title\": \"Wedding Toasts I'll Never Give\", \"author\": \"Ada Calhoun\", \"pages\": 192, \"url\": \"https://www.goodreads.com/book/show/36236126-wedding-toasts-i-ll-never-give\", \"gender\": \"F\", \"type\": \"Non-Fiction\", \"subgenre\": \"Essays\", \"avg_goodreads_rating\": 3.86, \"started\": \"2019-12-26T00:00:00\", \"date\": \"2019-12-27T00:00:00\", \"faves\": null, \"year\": \"2019\", \"days_to_read\": 1, \"gender_description\": \"Female\"}]}}, {\"mode\": \"vega-lite\"});\n",
       "</script>"
      ],
      "text/plain": [
       "alt.Chart(...)"
      ]
     },
     "execution_count": 28,
     "metadata": {},
     "output_type": "execute_result"
    }
   ],
   "source": [
    "# MOBILE\n",
    "alt.Chart(books_month).mark_circle(size=60).encode(\n",
    "    x=alt.X('days_to_read:Q', title='Days to read', axis=alt.Axis(tickCount=6)),\n",
    "    y=alt.Y('pages:Q', title='Number of pages', axis=alt.Axis(tickCount=5)),\n",
    "    tooltip=['title:N', 'author:O', 'avg_goodreads_rating:Q', 'days_to_read:Q']\n",
    ").properties(width=320, height=320)"
   ]
  },
  {
   "cell_type": "markdown",
   "metadata": {},
   "source": [
    "---"
   ]
  },
  {
   "cell_type": "markdown",
   "metadata": {},
   "source": [
    "### Which types of books did Elise read most?"
   ]
  },
  {
   "cell_type": "code",
   "execution_count": 29,
   "metadata": {},
   "outputs": [],
   "source": [
    "book_type = books.groupby(['type', 'year']).agg('size').reset_index(name='count').sort_values(by='count', ascending=False)"
   ]
  },
  {
   "cell_type": "code",
   "execution_count": 30,
   "metadata": {},
   "outputs": [
    {
     "data": {
      "text/html": [
       "<div>\n",
       "<style scoped>\n",
       "    .dataframe tbody tr th:only-of-type {\n",
       "        vertical-align: middle;\n",
       "    }\n",
       "\n",
       "    .dataframe tbody tr th {\n",
       "        vertical-align: top;\n",
       "    }\n",
       "\n",
       "    .dataframe thead th {\n",
       "        text-align: right;\n",
       "    }\n",
       "</style>\n",
       "<table border=\"1\" class=\"dataframe\">\n",
       "  <thead>\n",
       "    <tr style=\"text-align: right;\">\n",
       "      <th></th>\n",
       "      <th>type</th>\n",
       "      <th>year</th>\n",
       "      <th>count</th>\n",
       "    </tr>\n",
       "  </thead>\n",
       "  <tbody>\n",
       "    <tr>\n",
       "      <th>1</th>\n",
       "      <td>Non-Fiction</td>\n",
       "      <td>2019</td>\n",
       "      <td>28</td>\n",
       "    </tr>\n",
       "    <tr>\n",
       "      <th>0</th>\n",
       "      <td>Fiction</td>\n",
       "      <td>2019</td>\n",
       "      <td>23</td>\n",
       "    </tr>\n",
       "    <tr>\n",
       "      <th>2</th>\n",
       "      <td>Poetry</td>\n",
       "      <td>2019</td>\n",
       "      <td>1</td>\n",
       "    </tr>\n",
       "  </tbody>\n",
       "</table>\n",
       "</div>"
      ],
      "text/plain": [
       "          type  year  count\n",
       "1  Non-Fiction  2019     28\n",
       "0      Fiction  2019     23\n",
       "2       Poetry  2019      1"
      ]
     },
     "execution_count": 30,
     "metadata": {},
     "output_type": "execute_result"
    }
   ],
   "source": [
    "book_type.head()"
   ]
  },
  {
   "cell_type": "code",
   "execution_count": 31,
   "metadata": {},
   "outputs": [],
   "source": [
    "book_type['share'] = (book_type['count'] / 52)*100"
   ]
  },
  {
   "cell_type": "code",
   "execution_count": 32,
   "metadata": {},
   "outputs": [
    {
     "data": {
      "text/html": [
       "<div>\n",
       "<style scoped>\n",
       "    .dataframe tbody tr th:only-of-type {\n",
       "        vertical-align: middle;\n",
       "    }\n",
       "\n",
       "    .dataframe tbody tr th {\n",
       "        vertical-align: top;\n",
       "    }\n",
       "\n",
       "    .dataframe thead th {\n",
       "        text-align: right;\n",
       "    }\n",
       "</style>\n",
       "<table border=\"1\" class=\"dataframe\">\n",
       "  <thead>\n",
       "    <tr style=\"text-align: right;\">\n",
       "      <th></th>\n",
       "      <th>type</th>\n",
       "      <th>year</th>\n",
       "      <th>count</th>\n",
       "      <th>share</th>\n",
       "    </tr>\n",
       "  </thead>\n",
       "  <tbody>\n",
       "    <tr>\n",
       "      <th>1</th>\n",
       "      <td>Non-Fiction</td>\n",
       "      <td>2019</td>\n",
       "      <td>28</td>\n",
       "      <td>53.85</td>\n",
       "    </tr>\n",
       "    <tr>\n",
       "      <th>0</th>\n",
       "      <td>Fiction</td>\n",
       "      <td>2019</td>\n",
       "      <td>23</td>\n",
       "      <td>44.23</td>\n",
       "    </tr>\n",
       "    <tr>\n",
       "      <th>2</th>\n",
       "      <td>Poetry</td>\n",
       "      <td>2019</td>\n",
       "      <td>1</td>\n",
       "      <td>1.92</td>\n",
       "    </tr>\n",
       "  </tbody>\n",
       "</table>\n",
       "</div>"
      ],
      "text/plain": [
       "          type  year  count  share\n",
       "1  Non-Fiction  2019     28  53.85\n",
       "0      Fiction  2019     23  44.23\n",
       "2       Poetry  2019      1   1.92"
      ]
     },
     "execution_count": 32,
     "metadata": {},
     "output_type": "execute_result"
    }
   ],
   "source": [
    "book_type.head()"
   ]
  },
  {
   "cell_type": "code",
   "execution_count": 33,
   "metadata": {},
   "outputs": [
    {
     "data": {
      "text/html": [
       "\n",
       "<div id=\"altair-viz-a01490b812ea4670ac27a929a33cdc89\"></div>\n",
       "<script type=\"text/javascript\">\n",
       "  (function(spec, embedOpt){\n",
       "    const outputDiv = document.getElementById(\"altair-viz-a01490b812ea4670ac27a929a33cdc89\");\n",
       "    const paths = {\n",
       "      \"vega\": \"https://cdn.jsdelivr.net/npm//vega@5?noext\",\n",
       "      \"vega-lib\": \"https://cdn.jsdelivr.net/npm//vega-lib?noext\",\n",
       "      \"vega-lite\": \"https://cdn.jsdelivr.net/npm//vega-lite@4.0.2?noext\",\n",
       "      \"vega-embed\": \"https://cdn.jsdelivr.net/npm//vega-embed@6?noext\",\n",
       "    };\n",
       "\n",
       "    function loadScript(lib) {\n",
       "      return new Promise(function(resolve, reject) {\n",
       "        var s = document.createElement('script');\n",
       "        s.src = paths[lib];\n",
       "        s.async = true;\n",
       "        s.onload = () => resolve(paths[lib]);\n",
       "        s.onerror = () => reject(`Error loading script: ${paths[lib]}`);\n",
       "        document.getElementsByTagName(\"head\")[0].appendChild(s);\n",
       "      });\n",
       "    }\n",
       "\n",
       "    function showError(err) {\n",
       "      outputDiv.innerHTML = `<div class=\"error\" style=\"color:red;\">${err}</div>`;\n",
       "      throw err;\n",
       "    }\n",
       "\n",
       "    function displayChart(vegaEmbed) {\n",
       "      vegaEmbed(outputDiv, spec, embedOpt)\n",
       "        .catch(err => showError(`Javascript Error: ${err.message}<br>This usually means there's a typo in your chart specification. See the javascript console for the full traceback.`));\n",
       "    }\n",
       "\n",
       "    if(typeof define === \"function\" && define.amd) {\n",
       "      requirejs.config({paths});\n",
       "      require([\"vega-embed\"], displayChart, err => showError(`Error loading script: ${err.message}`));\n",
       "    } else if (typeof vegaEmbed === \"function\") {\n",
       "      displayChart(vegaEmbed);\n",
       "    } else {\n",
       "      loadScript(\"vega\")\n",
       "        .then(() => loadScript(\"vega-lite\"))\n",
       "        .then(() => loadScript(\"vega-embed\"))\n",
       "        .catch(showError)\n",
       "        .then(() => displayChart(vegaEmbed));\n",
       "    }\n",
       "  })({\"config\": {\"view\": {\"width\": 800, \"height\": 450}, \"background\": \"#ffffff\", \"title\": {\"anchor\": \"start\", \"font\": \"Benton Gothic Bold, sans\", \"fontColor\": \"#000000\", \"fontSize\": 22, \"fontWeight\": \"normal\"}, \"arc\": {\"fill\": \"#82c6df\"}, \"area\": {\"fill\": \"#82c6df\"}, \"line\": {\"stroke\": \"#82c6df\", \"strokeWidth\": 3}, \"path\": {\"stroke\": \"#82c6df\"}, \"rect\": {\"fill\": \"#82c6df\"}, \"shape\": {\"stroke\": \"#82c6df\"}, \"bar\": {\"fill\": \"#82c6df\"}, \"point\": {\"stroke\": \"#82c6df\"}, \"symbol\": {\"fill\": \"#82c6df\", \"size\": 30}, \"axis\": {\"titleFont\": \"Benton Gothic Bold, sans\", \"titleFontSize\": 13, \"titleFontWeight\": \"normal\", \"labelFont\": \"Benton Gothic, sans\", \"labelFontSize\": 11.5, \"labelFontWeight\": \"normal\"}, \"axisX\": {\"labelAngle\": 0, \"labelPadding\": 4, \"tickSize\": 3}, \"axisY\": {\"labelBaseline\": \"middle\", \"maxExtent\": 45, \"minExtent\": 45, \"tickSize\": 2, \"titleAlign\": \"left\", \"titleAngle\": 0, \"titleX\": -45, \"titleY\": -11}, \"legend\": {\"titleFont\": \"Benton Gothic Bold, sans\", \"titleFontSize\": 13, \"titleFontWeight\": \"normal\", \"symbolType\": \"square\", \"labelFont\": \"Benton Gothic, sans\", \"labelFontSize\": 11.5}, \"range\": {\"category\": [\"#3580b1\", \"#ec8431\", \"#ab7fb4\", \"#c89d29\", \"#adc839\", \"#829eb1\"], \"diverging\": [\"#e68a4f\", \"#f4bb6a\", \"#f9e39c\", \"#dadfe2\", \"#a6b7c6\", \"#849eae\"], \"heatmap\": [\"#fbf2c7\", \"#f9e39c\", \"#f8d36e\", \"#f4bb6a\", \"#e68a4f\", \"#d15a40\", \"#ab4232\"], \"ordinal\": [\"#fbf2c7\", \"#f9e39c\", \"#f8d36e\", \"#f4bb6a\", \"#e68a4f\", \"#d15a40\", \"#ab4232\"], \"ramp\": [\"#fbf2c7\", \"#f9e39c\", \"#f8d36e\", \"#f4bb6a\", \"#e68a4f\", \"#d15a40\", \"#ab4232\"]}}, \"data\": {\"name\": \"data-f336542d788e46ba1c9dbfd9676df30e\"}, \"mark\": \"bar\", \"encoding\": {\"color\": {\"type\": \"nominal\", \"field\": \"type\", \"legend\": {\"orient\": \"top\", \"title\": \"Book type\"}}, \"order\": {\"type\": \"nominal\", \"field\": \"type\", \"sort\": \"ascending\"}, \"x\": {\"type\": \"quantitative\", \"aggregate\": \"sum\", \"axis\": {\"format\": \"%\", \"tickCount\": 6}, \"field\": \"count\", \"stack\": \"normalize\", \"title\": \"Share of books read by genre\"}, \"y\": {\"type\": \"nominal\", \"field\": \"year\", \"title\": \"\"}}, \"height\": 40, \"width\": 700, \"$schema\": \"https://vega.github.io/schema/vega-lite/v4.0.2.json\", \"datasets\": {\"data-f336542d788e46ba1c9dbfd9676df30e\": [{\"type\": \"Non-Fiction\", \"year\": \"2019\", \"count\": 28, \"share\": 53.84615384615385}, {\"type\": \"Fiction\", \"year\": \"2019\", \"count\": 23, \"share\": 44.230769230769226}, {\"type\": \"Poetry\", \"year\": \"2019\", \"count\": 1, \"share\": 1.9230769230769231}]}}, {\"mode\": \"vega-lite\"});\n",
       "</script>"
      ],
      "text/plain": [
       "alt.Chart(...)"
      ]
     },
     "execution_count": 33,
     "metadata": {},
     "output_type": "execute_result"
    }
   ],
   "source": [
    "book_type_chart = alt.Chart(book_type).mark_bar().encode(\n",
    "    x=alt.X('sum(count)', stack=\"normalize\",  title='Share of books read by genre', \\\n",
    "            axis=alt.Axis(format='%',tickCount=6)),\n",
    "    y=alt.Y('year',title=''),\n",
    "    order=alt.Order(\n",
    "      # Sort the segments of the bars by this field\n",
    "      'type',\n",
    "      sort='ascending'\n",
    "    ),\n",
    "    color=alt.Color('type', legend=alt.Legend(orient=\"top\", title='Book type'))\n",
    ")\n",
    "\n",
    "(book_type_chart).properties(height=40,width=700)"
   ]
  },
  {
   "cell_type": "code",
   "execution_count": 34,
   "metadata": {},
   "outputs": [
    {
     "data": {
      "text/html": [
       "\n",
       "<div id=\"altair-viz-e1f4d909309f4638a718825cb833f3e3\"></div>\n",
       "<script type=\"text/javascript\">\n",
       "  (function(spec, embedOpt){\n",
       "    const outputDiv = document.getElementById(\"altair-viz-e1f4d909309f4638a718825cb833f3e3\");\n",
       "    const paths = {\n",
       "      \"vega\": \"https://cdn.jsdelivr.net/npm//vega@5?noext\",\n",
       "      \"vega-lib\": \"https://cdn.jsdelivr.net/npm//vega-lib?noext\",\n",
       "      \"vega-lite\": \"https://cdn.jsdelivr.net/npm//vega-lite@4.0.2?noext\",\n",
       "      \"vega-embed\": \"https://cdn.jsdelivr.net/npm//vega-embed@6?noext\",\n",
       "    };\n",
       "\n",
       "    function loadScript(lib) {\n",
       "      return new Promise(function(resolve, reject) {\n",
       "        var s = document.createElement('script');\n",
       "        s.src = paths[lib];\n",
       "        s.async = true;\n",
       "        s.onload = () => resolve(paths[lib]);\n",
       "        s.onerror = () => reject(`Error loading script: ${paths[lib]}`);\n",
       "        document.getElementsByTagName(\"head\")[0].appendChild(s);\n",
       "      });\n",
       "    }\n",
       "\n",
       "    function showError(err) {\n",
       "      outputDiv.innerHTML = `<div class=\"error\" style=\"color:red;\">${err}</div>`;\n",
       "      throw err;\n",
       "    }\n",
       "\n",
       "    function displayChart(vegaEmbed) {\n",
       "      vegaEmbed(outputDiv, spec, embedOpt)\n",
       "        .catch(err => showError(`Javascript Error: ${err.message}<br>This usually means there's a typo in your chart specification. See the javascript console for the full traceback.`));\n",
       "    }\n",
       "\n",
       "    if(typeof define === \"function\" && define.amd) {\n",
       "      requirejs.config({paths});\n",
       "      require([\"vega-embed\"], displayChart, err => showError(`Error loading script: ${err.message}`));\n",
       "    } else if (typeof vegaEmbed === \"function\") {\n",
       "      displayChart(vegaEmbed);\n",
       "    } else {\n",
       "      loadScript(\"vega\")\n",
       "        .then(() => loadScript(\"vega-lite\"))\n",
       "        .then(() => loadScript(\"vega-embed\"))\n",
       "        .catch(showError)\n",
       "        .then(() => displayChart(vegaEmbed));\n",
       "    }\n",
       "  })({\"config\": {\"view\": {\"width\": 800, \"height\": 450}, \"background\": \"#ffffff\", \"title\": {\"anchor\": \"start\", \"font\": \"Benton Gothic Bold, sans\", \"fontColor\": \"#000000\", \"fontSize\": 22, \"fontWeight\": \"normal\"}, \"arc\": {\"fill\": \"#82c6df\"}, \"area\": {\"fill\": \"#82c6df\"}, \"line\": {\"stroke\": \"#82c6df\", \"strokeWidth\": 3}, \"path\": {\"stroke\": \"#82c6df\"}, \"rect\": {\"fill\": \"#82c6df\"}, \"shape\": {\"stroke\": \"#82c6df\"}, \"bar\": {\"fill\": \"#82c6df\"}, \"point\": {\"stroke\": \"#82c6df\"}, \"symbol\": {\"fill\": \"#82c6df\", \"size\": 30}, \"axis\": {\"titleFont\": \"Benton Gothic Bold, sans\", \"titleFontSize\": 13, \"titleFontWeight\": \"normal\", \"labelFont\": \"Benton Gothic, sans\", \"labelFontSize\": 11.5, \"labelFontWeight\": \"normal\"}, \"axisX\": {\"labelAngle\": 0, \"labelPadding\": 4, \"tickSize\": 3}, \"axisY\": {\"labelBaseline\": \"middle\", \"maxExtent\": 45, \"minExtent\": 45, \"tickSize\": 2, \"titleAlign\": \"left\", \"titleAngle\": 0, \"titleX\": -45, \"titleY\": -11}, \"legend\": {\"titleFont\": \"Benton Gothic Bold, sans\", \"titleFontSize\": 13, \"titleFontWeight\": \"normal\", \"symbolType\": \"square\", \"labelFont\": \"Benton Gothic, sans\", \"labelFontSize\": 11.5}, \"range\": {\"category\": [\"#3580b1\", \"#ec8431\", \"#ab7fb4\", \"#c89d29\", \"#adc839\", \"#829eb1\"], \"diverging\": [\"#e68a4f\", \"#f4bb6a\", \"#f9e39c\", \"#dadfe2\", \"#a6b7c6\", \"#849eae\"], \"heatmap\": [\"#fbf2c7\", \"#f9e39c\", \"#f8d36e\", \"#f4bb6a\", \"#e68a4f\", \"#d15a40\", \"#ab4232\"], \"ordinal\": [\"#fbf2c7\", \"#f9e39c\", \"#f8d36e\", \"#f4bb6a\", \"#e68a4f\", \"#d15a40\", \"#ab4232\"], \"ramp\": [\"#fbf2c7\", \"#f9e39c\", \"#f8d36e\", \"#f4bb6a\", \"#e68a4f\", \"#d15a40\", \"#ab4232\"]}}, \"data\": {\"name\": \"data-f336542d788e46ba1c9dbfd9676df30e\"}, \"mark\": \"bar\", \"encoding\": {\"color\": {\"type\": \"nominal\", \"field\": \"type\", \"legend\": {\"orient\": \"top\", \"title\": \"Book type\"}}, \"order\": {\"type\": \"nominal\", \"field\": \"type\", \"sort\": \"ascending\"}, \"x\": {\"type\": \"quantitative\", \"aggregate\": \"sum\", \"axis\": {\"format\": \"%\", \"tickCount\": 6}, \"field\": \"count\", \"stack\": \"normalize\", \"title\": \"Share of books read by genre\"}, \"y\": {\"type\": \"nominal\", \"field\": \"year\", \"title\": \"\"}}, \"height\": 40, \"width\": 320, \"$schema\": \"https://vega.github.io/schema/vega-lite/v4.0.2.json\", \"datasets\": {\"data-f336542d788e46ba1c9dbfd9676df30e\": [{\"type\": \"Non-Fiction\", \"year\": \"2019\", \"count\": 28, \"share\": 53.84615384615385}, {\"type\": \"Fiction\", \"year\": \"2019\", \"count\": 23, \"share\": 44.230769230769226}, {\"type\": \"Poetry\", \"year\": \"2019\", \"count\": 1, \"share\": 1.9230769230769231}]}}, {\"mode\": \"vega-lite\"});\n",
       "</script>"
      ],
      "text/plain": [
       "alt.Chart(...)"
      ]
     },
     "execution_count": 34,
     "metadata": {},
     "output_type": "execute_result"
    }
   ],
   "source": [
    "(book_type_chart).properties(height=40,width=320)"
   ]
  },
  {
   "cell_type": "markdown",
   "metadata": {},
   "source": [
    "---"
   ]
  },
  {
   "cell_type": "markdown",
   "metadata": {},
   "source": [
    "### Which genre of books did Elise read most?"
   ]
  },
  {
   "cell_type": "code",
   "execution_count": 35,
   "metadata": {},
   "outputs": [
    {
     "data": {
      "text/html": [
       "<div>\n",
       "<style scoped>\n",
       "    .dataframe tbody tr th:only-of-type {\n",
       "        vertical-align: middle;\n",
       "    }\n",
       "\n",
       "    .dataframe tbody tr th {\n",
       "        vertical-align: top;\n",
       "    }\n",
       "\n",
       "    .dataframe thead th {\n",
       "        text-align: right;\n",
       "    }\n",
       "</style>\n",
       "<table border=\"1\" class=\"dataframe\">\n",
       "  <thead>\n",
       "    <tr style=\"text-align: right;\">\n",
       "      <th></th>\n",
       "      <th>subgenre</th>\n",
       "      <th>count</th>\n",
       "    </tr>\n",
       "  </thead>\n",
       "  <tbody>\n",
       "    <tr>\n",
       "      <th>2</th>\n",
       "      <td>Contemporary</td>\n",
       "      <td>10</td>\n",
       "    </tr>\n",
       "    <tr>\n",
       "      <th>10</th>\n",
       "      <td>Memoir</td>\n",
       "      <td>5</td>\n",
       "    </tr>\n",
       "    <tr>\n",
       "      <th>3</th>\n",
       "      <td>Essays</td>\n",
       "      <td>5</td>\n",
       "    </tr>\n",
       "    <tr>\n",
       "      <th>4</th>\n",
       "      <td>Feminism</td>\n",
       "      <td>5</td>\n",
       "    </tr>\n",
       "    <tr>\n",
       "      <th>7</th>\n",
       "      <td>History</td>\n",
       "      <td>4</td>\n",
       "    </tr>\n",
       "  </tbody>\n",
       "</table>\n",
       "</div>"
      ],
      "text/plain": [
       "        subgenre  count\n",
       "2   Contemporary     10\n",
       "10        Memoir      5\n",
       "3         Essays      5\n",
       "4       Feminism      5\n",
       "7        History      4"
      ]
     },
     "execution_count": 35,
     "metadata": {},
     "output_type": "execute_result"
    }
   ],
   "source": [
    "book_genre = books.groupby('subgenre').agg('size').reset_index(name='count')\\\n",
    ".sort_values(by='count', ascending=False)\n",
    "book_genre.head()"
   ]
  },
  {
   "cell_type": "markdown",
   "metadata": {},
   "source": [
    "### Books read by sub-genre"
   ]
  },
  {
   "cell_type": "code",
   "execution_count": 36,
   "metadata": {
    "scrolled": true
   },
   "outputs": [
    {
     "data": {
      "text/html": [
       "\n",
       "<div id=\"altair-viz-add427c318d14eafbab7f7bb6a0c57db\"></div>\n",
       "<script type=\"text/javascript\">\n",
       "  (function(spec, embedOpt){\n",
       "    const outputDiv = document.getElementById(\"altair-viz-add427c318d14eafbab7f7bb6a0c57db\");\n",
       "    const paths = {\n",
       "      \"vega\": \"https://cdn.jsdelivr.net/npm//vega@5?noext\",\n",
       "      \"vega-lib\": \"https://cdn.jsdelivr.net/npm//vega-lib?noext\",\n",
       "      \"vega-lite\": \"https://cdn.jsdelivr.net/npm//vega-lite@4.0.2?noext\",\n",
       "      \"vega-embed\": \"https://cdn.jsdelivr.net/npm//vega-embed@6?noext\",\n",
       "    };\n",
       "\n",
       "    function loadScript(lib) {\n",
       "      return new Promise(function(resolve, reject) {\n",
       "        var s = document.createElement('script');\n",
       "        s.src = paths[lib];\n",
       "        s.async = true;\n",
       "        s.onload = () => resolve(paths[lib]);\n",
       "        s.onerror = () => reject(`Error loading script: ${paths[lib]}`);\n",
       "        document.getElementsByTagName(\"head\")[0].appendChild(s);\n",
       "      });\n",
       "    }\n",
       "\n",
       "    function showError(err) {\n",
       "      outputDiv.innerHTML = `<div class=\"error\" style=\"color:red;\">${err}</div>`;\n",
       "      throw err;\n",
       "    }\n",
       "\n",
       "    function displayChart(vegaEmbed) {\n",
       "      vegaEmbed(outputDiv, spec, embedOpt)\n",
       "        .catch(err => showError(`Javascript Error: ${err.message}<br>This usually means there's a typo in your chart specification. See the javascript console for the full traceback.`));\n",
       "    }\n",
       "\n",
       "    if(typeof define === \"function\" && define.amd) {\n",
       "      requirejs.config({paths});\n",
       "      require([\"vega-embed\"], displayChart, err => showError(`Error loading script: ${err.message}`));\n",
       "    } else if (typeof vegaEmbed === \"function\") {\n",
       "      displayChart(vegaEmbed);\n",
       "    } else {\n",
       "      loadScript(\"vega\")\n",
       "        .then(() => loadScript(\"vega-lite\"))\n",
       "        .then(() => loadScript(\"vega-embed\"))\n",
       "        .catch(showError)\n",
       "        .then(() => displayChart(vegaEmbed));\n",
       "    }\n",
       "  })({\"config\": {\"view\": {\"width\": 800, \"height\": 450}, \"background\": \"#ffffff\", \"title\": {\"anchor\": \"start\", \"font\": \"Benton Gothic Bold, sans\", \"fontColor\": \"#000000\", \"fontSize\": 22, \"fontWeight\": \"normal\"}, \"arc\": {\"fill\": \"#82c6df\"}, \"area\": {\"fill\": \"#82c6df\"}, \"line\": {\"stroke\": \"#82c6df\", \"strokeWidth\": 3}, \"path\": {\"stroke\": \"#82c6df\"}, \"rect\": {\"fill\": \"#82c6df\"}, \"shape\": {\"stroke\": \"#82c6df\"}, \"bar\": {\"fill\": \"#82c6df\"}, \"point\": {\"stroke\": \"#82c6df\"}, \"symbol\": {\"fill\": \"#82c6df\", \"size\": 30}, \"axis\": {\"titleFont\": \"Benton Gothic Bold, sans\", \"titleFontSize\": 13, \"titleFontWeight\": \"normal\", \"labelFont\": \"Benton Gothic, sans\", \"labelFontSize\": 11.5, \"labelFontWeight\": \"normal\"}, \"axisX\": {\"labelAngle\": 0, \"labelPadding\": 4, \"tickSize\": 3}, \"axisY\": {\"labelBaseline\": \"middle\", \"maxExtent\": 45, \"minExtent\": 45, \"tickSize\": 2, \"titleAlign\": \"left\", \"titleAngle\": 0, \"titleX\": -45, \"titleY\": -11}, \"legend\": {\"titleFont\": \"Benton Gothic Bold, sans\", \"titleFontSize\": 13, \"titleFontWeight\": \"normal\", \"symbolType\": \"square\", \"labelFont\": \"Benton Gothic, sans\", \"labelFontSize\": 11.5}, \"range\": {\"category\": [\"#3580b1\", \"#ec8431\", \"#ab7fb4\", \"#c89d29\", \"#adc839\", \"#829eb1\"], \"diverging\": [\"#e68a4f\", \"#f4bb6a\", \"#f9e39c\", \"#dadfe2\", \"#a6b7c6\", \"#849eae\"], \"heatmap\": [\"#fbf2c7\", \"#f9e39c\", \"#f8d36e\", \"#f4bb6a\", \"#e68a4f\", \"#d15a40\", \"#ab4232\"], \"ordinal\": [\"#fbf2c7\", \"#f9e39c\", \"#f8d36e\", \"#f4bb6a\", \"#e68a4f\", \"#d15a40\", \"#ab4232\"], \"ramp\": [\"#fbf2c7\", \"#f9e39c\", \"#f8d36e\", \"#f4bb6a\", \"#e68a4f\", \"#d15a40\", \"#ab4232\"]}}, \"data\": {\"name\": \"data-beffdd9ad55cc784d493a171502eed9a\"}, \"mark\": \"bar\", \"encoding\": {\"x\": {\"type\": \"quantitative\", \"axis\": {\"format\": \"\", \"tickCount\": 6}, \"field\": \"count\", \"title\": \" \"}, \"y\": {\"type\": \"nominal\", \"field\": \"subgenre\", \"sort\": {\"field\": \"count:Q\", \"op\": \"sum\", \"order\": \"ascending\"}, \"title\": \" \"}}, \"height\": 500, \"title\": \"\", \"width\": 700, \"$schema\": \"https://vega.github.io/schema/vega-lite/v4.0.2.json\", \"datasets\": {\"data-beffdd9ad55cc784d493a171502eed9a\": [{\"subgenre\": \"Contemporary\", \"count\": 10}, {\"subgenre\": \"Memoir\", \"count\": 5}, {\"subgenre\": \"Essays\", \"count\": 5}, {\"subgenre\": \"Feminism\", \"count\": 5}, {\"subgenre\": \"History\", \"count\": 4}, {\"subgenre\": \"Short Stories\", \"count\": 3}, {\"subgenre\": \"Young Adult\", \"count\": 3}, {\"subgenre\": \"Classics\", \"count\": 2}, {\"subgenre\": \"Science\", \"count\": 2}, {\"subgenre\": \"Writing\", \"count\": 2}, {\"subgenre\": \"Historical\", \"count\": 1}, {\"subgenre\": \"Japanese Lit\", \"count\": 1}, {\"subgenre\": \"Literature\", \"count\": 1}, {\"subgenre\": \"Parenting\", \"count\": 1}, {\"subgenre\": \"Pop Culture\", \"count\": 1}, {\"subgenre\": \"Religion\", \"count\": 1}, {\"subgenre\": \"Science \", \"count\": 1}, {\"subgenre\": \"Graphic Novel\", \"count\": 1}, {\"subgenre\": \"Swedish Lit\", \"count\": 1}, {\"subgenre\": \"True Crime\", \"count\": 1}, {\"subgenre\": \"Business\", \"count\": 1}]}}, {\"mode\": \"vega-lite\"});\n",
       "</script>"
      ],
      "text/plain": [
       "alt.Chart(...)"
      ]
     },
     "execution_count": 36,
     "metadata": {},
     "output_type": "execute_result"
    }
   ],
   "source": [
    "#DESKTOP\n",
    "book_genre_chart = alt.Chart(book_genre).mark_bar().encode(\n",
    "    y=alt.Y(\"subgenre:N\", title=' ',\n",
    "           sort=alt.EncodingSortField(\n",
    "            field=\"count:Q\",  # The field to use for the sort\n",
    "            op=\"sum\",  # The operation to run on the field prior to sorting\n",
    "            order=\"ascending\"  # The order to sort in\n",
    "        )),\n",
    "    x=alt.X(\"count:Q\", title=' ', axis=alt.Axis(tickCount=6, format=''))\n",
    ")\n",
    "\n",
    "book_genre_chart.properties(height=500, width=700, title='')"
   ]
  },
  {
   "cell_type": "code",
   "execution_count": 37,
   "metadata": {},
   "outputs": [
    {
     "data": {
      "text/html": [
       "\n",
       "<div id=\"altair-viz-fadba1bcdca5405b8b9b4695056df9ef\"></div>\n",
       "<script type=\"text/javascript\">\n",
       "  (function(spec, embedOpt){\n",
       "    const outputDiv = document.getElementById(\"altair-viz-fadba1bcdca5405b8b9b4695056df9ef\");\n",
       "    const paths = {\n",
       "      \"vega\": \"https://cdn.jsdelivr.net/npm//vega@5?noext\",\n",
       "      \"vega-lib\": \"https://cdn.jsdelivr.net/npm//vega-lib?noext\",\n",
       "      \"vega-lite\": \"https://cdn.jsdelivr.net/npm//vega-lite@4.0.2?noext\",\n",
       "      \"vega-embed\": \"https://cdn.jsdelivr.net/npm//vega-embed@6?noext\",\n",
       "    };\n",
       "\n",
       "    function loadScript(lib) {\n",
       "      return new Promise(function(resolve, reject) {\n",
       "        var s = document.createElement('script');\n",
       "        s.src = paths[lib];\n",
       "        s.async = true;\n",
       "        s.onload = () => resolve(paths[lib]);\n",
       "        s.onerror = () => reject(`Error loading script: ${paths[lib]}`);\n",
       "        document.getElementsByTagName(\"head\")[0].appendChild(s);\n",
       "      });\n",
       "    }\n",
       "\n",
       "    function showError(err) {\n",
       "      outputDiv.innerHTML = `<div class=\"error\" style=\"color:red;\">${err}</div>`;\n",
       "      throw err;\n",
       "    }\n",
       "\n",
       "    function displayChart(vegaEmbed) {\n",
       "      vegaEmbed(outputDiv, spec, embedOpt)\n",
       "        .catch(err => showError(`Javascript Error: ${err.message}<br>This usually means there's a typo in your chart specification. See the javascript console for the full traceback.`));\n",
       "    }\n",
       "\n",
       "    if(typeof define === \"function\" && define.amd) {\n",
       "      requirejs.config({paths});\n",
       "      require([\"vega-embed\"], displayChart, err => showError(`Error loading script: ${err.message}`));\n",
       "    } else if (typeof vegaEmbed === \"function\") {\n",
       "      displayChart(vegaEmbed);\n",
       "    } else {\n",
       "      loadScript(\"vega\")\n",
       "        .then(() => loadScript(\"vega-lite\"))\n",
       "        .then(() => loadScript(\"vega-embed\"))\n",
       "        .catch(showError)\n",
       "        .then(() => displayChart(vegaEmbed));\n",
       "    }\n",
       "  })({\"config\": {\"view\": {\"width\": 800, \"height\": 450}, \"background\": \"#ffffff\", \"title\": {\"anchor\": \"start\", \"font\": \"Benton Gothic Bold, sans\", \"fontColor\": \"#000000\", \"fontSize\": 22, \"fontWeight\": \"normal\"}, \"arc\": {\"fill\": \"#82c6df\"}, \"area\": {\"fill\": \"#82c6df\"}, \"line\": {\"stroke\": \"#82c6df\", \"strokeWidth\": 3}, \"path\": {\"stroke\": \"#82c6df\"}, \"rect\": {\"fill\": \"#82c6df\"}, \"shape\": {\"stroke\": \"#82c6df\"}, \"bar\": {\"fill\": \"#82c6df\"}, \"point\": {\"stroke\": \"#82c6df\"}, \"symbol\": {\"fill\": \"#82c6df\", \"size\": 30}, \"axis\": {\"titleFont\": \"Benton Gothic Bold, sans\", \"titleFontSize\": 13, \"titleFontWeight\": \"normal\", \"labelFont\": \"Benton Gothic, sans\", \"labelFontSize\": 11.5, \"labelFontWeight\": \"normal\"}, \"axisX\": {\"labelAngle\": 0, \"labelPadding\": 4, \"tickSize\": 3}, \"axisY\": {\"labelBaseline\": \"middle\", \"maxExtent\": 45, \"minExtent\": 45, \"tickSize\": 2, \"titleAlign\": \"left\", \"titleAngle\": 0, \"titleX\": -45, \"titleY\": -11}, \"legend\": {\"titleFont\": \"Benton Gothic Bold, sans\", \"titleFontSize\": 13, \"titleFontWeight\": \"normal\", \"symbolType\": \"square\", \"labelFont\": \"Benton Gothic, sans\", \"labelFontSize\": 11.5}, \"range\": {\"category\": [\"#3580b1\", \"#ec8431\", \"#ab7fb4\", \"#c89d29\", \"#adc839\", \"#829eb1\"], \"diverging\": [\"#e68a4f\", \"#f4bb6a\", \"#f9e39c\", \"#dadfe2\", \"#a6b7c6\", \"#849eae\"], \"heatmap\": [\"#fbf2c7\", \"#f9e39c\", \"#f8d36e\", \"#f4bb6a\", \"#e68a4f\", \"#d15a40\", \"#ab4232\"], \"ordinal\": [\"#fbf2c7\", \"#f9e39c\", \"#f8d36e\", \"#f4bb6a\", \"#e68a4f\", \"#d15a40\", \"#ab4232\"], \"ramp\": [\"#fbf2c7\", \"#f9e39c\", \"#f8d36e\", \"#f4bb6a\", \"#e68a4f\", \"#d15a40\", \"#ab4232\"]}}, \"data\": {\"name\": \"data-beffdd9ad55cc784d493a171502eed9a\"}, \"mark\": \"bar\", \"encoding\": {\"x\": {\"type\": \"quantitative\", \"axis\": {\"format\": \"\", \"tickCount\": 6}, \"field\": \"count\", \"title\": \" \"}, \"y\": {\"type\": \"nominal\", \"field\": \"subgenre\", \"sort\": {\"field\": \"count:Q\", \"op\": \"sum\", \"order\": \"ascending\"}, \"title\": \" \"}}, \"height\": 500, \"title\": \"\", \"width\": 320, \"$schema\": \"https://vega.github.io/schema/vega-lite/v4.0.2.json\", \"datasets\": {\"data-beffdd9ad55cc784d493a171502eed9a\": [{\"subgenre\": \"Contemporary\", \"count\": 10}, {\"subgenre\": \"Memoir\", \"count\": 5}, {\"subgenre\": \"Essays\", \"count\": 5}, {\"subgenre\": \"Feminism\", \"count\": 5}, {\"subgenre\": \"History\", \"count\": 4}, {\"subgenre\": \"Short Stories\", \"count\": 3}, {\"subgenre\": \"Young Adult\", \"count\": 3}, {\"subgenre\": \"Classics\", \"count\": 2}, {\"subgenre\": \"Science\", \"count\": 2}, {\"subgenre\": \"Writing\", \"count\": 2}, {\"subgenre\": \"Historical\", \"count\": 1}, {\"subgenre\": \"Japanese Lit\", \"count\": 1}, {\"subgenre\": \"Literature\", \"count\": 1}, {\"subgenre\": \"Parenting\", \"count\": 1}, {\"subgenre\": \"Pop Culture\", \"count\": 1}, {\"subgenre\": \"Religion\", \"count\": 1}, {\"subgenre\": \"Science \", \"count\": 1}, {\"subgenre\": \"Graphic Novel\", \"count\": 1}, {\"subgenre\": \"Swedish Lit\", \"count\": 1}, {\"subgenre\": \"True Crime\", \"count\": 1}, {\"subgenre\": \"Business\", \"count\": 1}]}}, {\"mode\": \"vega-lite\"});\n",
       "</script>"
      ],
      "text/plain": [
       "alt.Chart(...)"
      ]
     },
     "execution_count": 37,
     "metadata": {},
     "output_type": "execute_result"
    }
   ],
   "source": [
    "#MOBILE \n",
    "book_genre_chart.properties(height=500, width=320, title='')"
   ]
  },
  {
   "cell_type": "markdown",
   "metadata": {},
   "source": [
    "---"
   ]
  },
  {
   "cell_type": "markdown",
   "metadata": {},
   "source": [
    "### Memior as share of all non-fiction books read"
   ]
  },
  {
   "cell_type": "code",
   "execution_count": 38,
   "metadata": {},
   "outputs": [
    {
     "data": {
      "text/html": [
       "<div>\n",
       "<style scoped>\n",
       "    .dataframe tbody tr th:only-of-type {\n",
       "        vertical-align: middle;\n",
       "    }\n",
       "\n",
       "    .dataframe tbody tr th {\n",
       "        vertical-align: top;\n",
       "    }\n",
       "\n",
       "    .dataframe thead th {\n",
       "        text-align: right;\n",
       "    }\n",
       "</style>\n",
       "<table border=\"1\" class=\"dataframe\">\n",
       "  <thead>\n",
       "    <tr style=\"text-align: right;\">\n",
       "      <th></th>\n",
       "      <th>subgenre</th>\n",
       "      <th>count</th>\n",
       "    </tr>\n",
       "  </thead>\n",
       "  <tbody>\n",
       "    <tr>\n",
       "      <th>1</th>\n",
       "      <td>Essays</td>\n",
       "      <td>5</td>\n",
       "    </tr>\n",
       "    <tr>\n",
       "      <th>5</th>\n",
       "      <td>Memoir</td>\n",
       "      <td>5</td>\n",
       "    </tr>\n",
       "    <tr>\n",
       "      <th>2</th>\n",
       "      <td>Feminism</td>\n",
       "      <td>4</td>\n",
       "    </tr>\n",
       "    <tr>\n",
       "      <th>4</th>\n",
       "      <td>History</td>\n",
       "      <td>4</td>\n",
       "    </tr>\n",
       "    <tr>\n",
       "      <th>9</th>\n",
       "      <td>Science</td>\n",
       "      <td>2</td>\n",
       "    </tr>\n",
       "    <tr>\n",
       "      <th>11</th>\n",
       "      <td>Writing</td>\n",
       "      <td>2</td>\n",
       "    </tr>\n",
       "    <tr>\n",
       "      <th>0</th>\n",
       "      <td>Business</td>\n",
       "      <td>1</td>\n",
       "    </tr>\n",
       "    <tr>\n",
       "      <th>3</th>\n",
       "      <td>Graphic Novel</td>\n",
       "      <td>1</td>\n",
       "    </tr>\n",
       "    <tr>\n",
       "      <th>6</th>\n",
       "      <td>Parenting</td>\n",
       "      <td>1</td>\n",
       "    </tr>\n",
       "    <tr>\n",
       "      <th>7</th>\n",
       "      <td>Pop Culture</td>\n",
       "      <td>1</td>\n",
       "    </tr>\n",
       "    <tr>\n",
       "      <th>8</th>\n",
       "      <td>Religion</td>\n",
       "      <td>1</td>\n",
       "    </tr>\n",
       "    <tr>\n",
       "      <th>10</th>\n",
       "      <td>True Crime</td>\n",
       "      <td>1</td>\n",
       "    </tr>\n",
       "  </tbody>\n",
       "</table>\n",
       "</div>"
      ],
      "text/plain": [
       "         subgenre  count\n",
       "1          Essays      5\n",
       "5          Memoir      5\n",
       "2        Feminism      4\n",
       "4         History      4\n",
       "9         Science      2\n",
       "11        Writing      2\n",
       "0        Business      1\n",
       "3   Graphic Novel      1\n",
       "6       Parenting      1\n",
       "7     Pop Culture      1\n",
       "8        Religion      1\n",
       "10     True Crime      1"
      ]
     },
     "execution_count": 38,
     "metadata": {},
     "output_type": "execute_result"
    }
   ],
   "source": [
    "nonfiction = books[books['type'] == 'Non-Fiction'].groupby('subgenre').agg('size').reset_index(name='count')\\\n",
    ".sort_values(by='count', ascending=False)\n",
    "nonfiction.head(20)"
   ]
  },
  {
   "cell_type": "code",
   "execution_count": 39,
   "metadata": {},
   "outputs": [],
   "source": [
    "nonfiction['share'] = (nonfiction['count'] / 28) * 100"
   ]
  },
  {
   "cell_type": "code",
   "execution_count": 40,
   "metadata": {},
   "outputs": [
    {
     "data": {
      "text/html": [
       "<div>\n",
       "<style scoped>\n",
       "    .dataframe tbody tr th:only-of-type {\n",
       "        vertical-align: middle;\n",
       "    }\n",
       "\n",
       "    .dataframe tbody tr th {\n",
       "        vertical-align: top;\n",
       "    }\n",
       "\n",
       "    .dataframe thead th {\n",
       "        text-align: right;\n",
       "    }\n",
       "</style>\n",
       "<table border=\"1\" class=\"dataframe\">\n",
       "  <thead>\n",
       "    <tr style=\"text-align: right;\">\n",
       "      <th></th>\n",
       "      <th>subgenre</th>\n",
       "      <th>count</th>\n",
       "      <th>share</th>\n",
       "    </tr>\n",
       "  </thead>\n",
       "  <tbody>\n",
       "    <tr>\n",
       "      <th>1</th>\n",
       "      <td>Essays</td>\n",
       "      <td>5</td>\n",
       "      <td>17.86</td>\n",
       "    </tr>\n",
       "    <tr>\n",
       "      <th>5</th>\n",
       "      <td>Memoir</td>\n",
       "      <td>5</td>\n",
       "      <td>17.86</td>\n",
       "    </tr>\n",
       "    <tr>\n",
       "      <th>2</th>\n",
       "      <td>Feminism</td>\n",
       "      <td>4</td>\n",
       "      <td>14.29</td>\n",
       "    </tr>\n",
       "    <tr>\n",
       "      <th>4</th>\n",
       "      <td>History</td>\n",
       "      <td>4</td>\n",
       "      <td>14.29</td>\n",
       "    </tr>\n",
       "    <tr>\n",
       "      <th>9</th>\n",
       "      <td>Science</td>\n",
       "      <td>2</td>\n",
       "      <td>7.14</td>\n",
       "    </tr>\n",
       "  </tbody>\n",
       "</table>\n",
       "</div>"
      ],
      "text/plain": [
       "   subgenre  count  share\n",
       "1    Essays      5  17.86\n",
       "5    Memoir      5  17.86\n",
       "2  Feminism      4  14.29\n",
       "4   History      4  14.29\n",
       "9   Science      2   7.14"
      ]
     },
     "execution_count": 40,
     "metadata": {},
     "output_type": "execute_result"
    }
   ],
   "source": [
    "nonfiction.head()"
   ]
  },
  {
   "cell_type": "markdown",
   "metadata": {},
   "source": [
    "### What share of the books Elise read were by female authors? "
   ]
  },
  {
   "cell_type": "code",
   "execution_count": 41,
   "metadata": {},
   "outputs": [],
   "source": [
    "book_gender = books.groupby(['gender_description', 'year'])\\\n",
    ".agg('size').reset_index(name='count').sort_values(by='count', ascending=False)"
   ]
  },
  {
   "cell_type": "code",
   "execution_count": 42,
   "metadata": {},
   "outputs": [
    {
     "data": {
      "text/html": [
       "<div>\n",
       "<style scoped>\n",
       "    .dataframe tbody tr th:only-of-type {\n",
       "        vertical-align: middle;\n",
       "    }\n",
       "\n",
       "    .dataframe tbody tr th {\n",
       "        vertical-align: top;\n",
       "    }\n",
       "\n",
       "    .dataframe thead th {\n",
       "        text-align: right;\n",
       "    }\n",
       "</style>\n",
       "<table border=\"1\" class=\"dataframe\">\n",
       "  <thead>\n",
       "    <tr style=\"text-align: right;\">\n",
       "      <th></th>\n",
       "      <th>gender_description</th>\n",
       "      <th>year</th>\n",
       "      <th>count</th>\n",
       "    </tr>\n",
       "  </thead>\n",
       "  <tbody>\n",
       "    <tr>\n",
       "      <th>0</th>\n",
       "      <td>Female</td>\n",
       "      <td>2019</td>\n",
       "      <td>33</td>\n",
       "    </tr>\n",
       "    <tr>\n",
       "      <th>1</th>\n",
       "      <td>Male</td>\n",
       "      <td>2019</td>\n",
       "      <td>19</td>\n",
       "    </tr>\n",
       "  </tbody>\n",
       "</table>\n",
       "</div>"
      ],
      "text/plain": [
       "  gender_description  year  count\n",
       "0             Female  2019     33\n",
       "1               Male  2019     19"
      ]
     },
     "execution_count": 42,
     "metadata": {},
     "output_type": "execute_result"
    }
   ],
   "source": [
    "book_gender.head()"
   ]
  },
  {
   "cell_type": "code",
   "execution_count": 43,
   "metadata": {},
   "outputs": [],
   "source": [
    "book_gender['share'] = (book_gender['count'] / 52)*100"
   ]
  },
  {
   "cell_type": "markdown",
   "metadata": {},
   "source": [
    "### How does that gender breakdown look in a bar chart?"
   ]
  },
  {
   "cell_type": "code",
   "execution_count": 44,
   "metadata": {},
   "outputs": [
    {
     "data": {
      "text/html": [
       "\n",
       "<div id=\"altair-viz-15529c2229b44db08773f02cacca371c\"></div>\n",
       "<script type=\"text/javascript\">\n",
       "  (function(spec, embedOpt){\n",
       "    const outputDiv = document.getElementById(\"altair-viz-15529c2229b44db08773f02cacca371c\");\n",
       "    const paths = {\n",
       "      \"vega\": \"https://cdn.jsdelivr.net/npm//vega@5?noext\",\n",
       "      \"vega-lib\": \"https://cdn.jsdelivr.net/npm//vega-lib?noext\",\n",
       "      \"vega-lite\": \"https://cdn.jsdelivr.net/npm//vega-lite@4.0.2?noext\",\n",
       "      \"vega-embed\": \"https://cdn.jsdelivr.net/npm//vega-embed@6?noext\",\n",
       "    };\n",
       "\n",
       "    function loadScript(lib) {\n",
       "      return new Promise(function(resolve, reject) {\n",
       "        var s = document.createElement('script');\n",
       "        s.src = paths[lib];\n",
       "        s.async = true;\n",
       "        s.onload = () => resolve(paths[lib]);\n",
       "        s.onerror = () => reject(`Error loading script: ${paths[lib]}`);\n",
       "        document.getElementsByTagName(\"head\")[0].appendChild(s);\n",
       "      });\n",
       "    }\n",
       "\n",
       "    function showError(err) {\n",
       "      outputDiv.innerHTML = `<div class=\"error\" style=\"color:red;\">${err}</div>`;\n",
       "      throw err;\n",
       "    }\n",
       "\n",
       "    function displayChart(vegaEmbed) {\n",
       "      vegaEmbed(outputDiv, spec, embedOpt)\n",
       "        .catch(err => showError(`Javascript Error: ${err.message}<br>This usually means there's a typo in your chart specification. See the javascript console for the full traceback.`));\n",
       "    }\n",
       "\n",
       "    if(typeof define === \"function\" && define.amd) {\n",
       "      requirejs.config({paths});\n",
       "      require([\"vega-embed\"], displayChart, err => showError(`Error loading script: ${err.message}`));\n",
       "    } else if (typeof vegaEmbed === \"function\") {\n",
       "      displayChart(vegaEmbed);\n",
       "    } else {\n",
       "      loadScript(\"vega\")\n",
       "        .then(() => loadScript(\"vega-lite\"))\n",
       "        .then(() => loadScript(\"vega-embed\"))\n",
       "        .catch(showError)\n",
       "        .then(() => displayChart(vegaEmbed));\n",
       "    }\n",
       "  })({\"config\": {\"view\": {\"width\": 800, \"height\": 450}, \"background\": \"#ffffff\", \"title\": {\"anchor\": \"start\", \"font\": \"Benton Gothic Bold, sans\", \"fontColor\": \"#000000\", \"fontSize\": 22, \"fontWeight\": \"normal\"}, \"arc\": {\"fill\": \"#82c6df\"}, \"area\": {\"fill\": \"#82c6df\"}, \"line\": {\"stroke\": \"#82c6df\", \"strokeWidth\": 3}, \"path\": {\"stroke\": \"#82c6df\"}, \"rect\": {\"fill\": \"#82c6df\"}, \"shape\": {\"stroke\": \"#82c6df\"}, \"bar\": {\"fill\": \"#82c6df\"}, \"point\": {\"stroke\": \"#82c6df\"}, \"symbol\": {\"fill\": \"#82c6df\", \"size\": 30}, \"axis\": {\"titleFont\": \"Benton Gothic Bold, sans\", \"titleFontSize\": 13, \"titleFontWeight\": \"normal\", \"labelFont\": \"Benton Gothic, sans\", \"labelFontSize\": 11.5, \"labelFontWeight\": \"normal\"}, \"axisX\": {\"labelAngle\": 0, \"labelPadding\": 4, \"tickSize\": 3}, \"axisY\": {\"labelBaseline\": \"middle\", \"maxExtent\": 45, \"minExtent\": 45, \"tickSize\": 2, \"titleAlign\": \"left\", \"titleAngle\": 0, \"titleX\": -45, \"titleY\": -11}, \"legend\": {\"titleFont\": \"Benton Gothic Bold, sans\", \"titleFontSize\": 13, \"titleFontWeight\": \"normal\", \"symbolType\": \"square\", \"labelFont\": \"Benton Gothic, sans\", \"labelFontSize\": 11.5}, \"range\": {\"category\": [\"#3580b1\", \"#ec8431\", \"#ab7fb4\", \"#c89d29\", \"#adc839\", \"#829eb1\"], \"diverging\": [\"#e68a4f\", \"#f4bb6a\", \"#f9e39c\", \"#dadfe2\", \"#a6b7c6\", \"#849eae\"], \"heatmap\": [\"#fbf2c7\", \"#f9e39c\", \"#f8d36e\", \"#f4bb6a\", \"#e68a4f\", \"#d15a40\", \"#ab4232\"], \"ordinal\": [\"#fbf2c7\", \"#f9e39c\", \"#f8d36e\", \"#f4bb6a\", \"#e68a4f\", \"#d15a40\", \"#ab4232\"], \"ramp\": [\"#fbf2c7\", \"#f9e39c\", \"#f8d36e\", \"#f4bb6a\", \"#e68a4f\", \"#d15a40\", \"#ab4232\"]}}, \"layer\": [{\"mark\": \"bar\", \"encoding\": {\"color\": {\"type\": \"nominal\", \"field\": \"gender_description\", \"legend\": null}, \"x\": {\"type\": \"quantitative\", \"aggregate\": \"sum\", \"axis\": {\"format\": \"%\", \"tickCount\": 6}, \"field\": \"count\", \"stack\": \"normalize\", \"title\": \"Share of books read by author gender\"}, \"y\": {\"type\": \"nominal\", \"field\": \"year\", \"sort\": {\"field\": \"count:N\", \"op\": \"count\", \"order\": \"descending\"}, \"title\": \"\"}}}, {\"mark\": {\"type\": \"text\", \"align\": \"right\", \"baseline\": \"middle\", \"dx\": -10}, \"encoding\": {\"color\": {\"condition\": {\"value\": \"white\", \"test\": \"(datum.year === '2019')\"}, \"value\": \"white\"}, \"text\": {\"type\": \"nominal\", \"field\": \"gender_description\"}, \"x\": {\"type\": \"quantitative\", \"aggregate\": \"sum\", \"axis\": {\"format\": \"%\", \"tickCount\": 6}, \"field\": \"count\", \"stack\": \"normalize\", \"title\": \"Share of books read by author gender\"}, \"y\": {\"type\": \"nominal\", \"field\": \"year\", \"sort\": {\"field\": \"count:N\", \"op\": \"count\", \"order\": \"descending\"}, \"title\": \"\"}}}], \"data\": {\"name\": \"data-da47e4ae7155fb35d02f6f9dc84384fb\"}, \"height\": 30, \"width\": 700, \"$schema\": \"https://vega.github.io/schema/vega-lite/v4.0.2.json\", \"datasets\": {\"data-da47e4ae7155fb35d02f6f9dc84384fb\": [{\"gender_description\": \"Female\", \"year\": \"2019\", \"count\": 33, \"share\": 63.46153846153846}, {\"gender_description\": \"Male\", \"year\": \"2019\", \"count\": 19, \"share\": 36.53846153846153}]}}, {\"mode\": \"vega-lite\"});\n",
       "</script>"
      ],
      "text/plain": [
       "alt.LayerChart(...)"
      ]
     },
     "execution_count": 44,
     "metadata": {},
     "output_type": "execute_result"
    }
   ],
   "source": [
    "book_gender_chart = alt.Chart(book_gender).mark_bar().encode(\n",
    "    x=alt.X('sum(count)', stack=\"normalize\",  title='Share of books read by author gender',\\\n",
    "            axis=alt.Axis(format='%',tickCount=6)),\n",
    "    y=alt.Y('year',title='',\n",
    "            sort=alt.EncodingSortField(\n",
    "            field=\"count:N\",  # The field to use for the sort\n",
    "            op=\"count\",  # The operation to run on the field prior to sorting\n",
    "            order=\"descending\"  # The order to sort in)\n",
    "            )),\n",
    "    color=alt.Color('gender_description', legend=None)\n",
    ")\n",
    "\n",
    "book_gender_chart_text = book_gender_chart.mark_text(\n",
    "    align='right',\n",
    "    baseline='middle',\n",
    "    dx=-10\n",
    ").encode(text=alt.Text('gender_description'), \n",
    "    color=alt.condition(\n",
    "        alt.datum.year == '2019',\n",
    "        alt.value('white'),\n",
    "        alt.value('white')\n",
    "    )\n",
    ")\n",
    "\n",
    "(book_gender_chart + book_gender_chart_text).properties(height=30,width=700)"
   ]
  },
  {
   "cell_type": "code",
   "execution_count": 45,
   "metadata": {},
   "outputs": [
    {
     "data": {
      "text/html": [
       "\n",
       "<div id=\"altair-viz-e01f9b8743e24c1482026ca9ace6578b\"></div>\n",
       "<script type=\"text/javascript\">\n",
       "  (function(spec, embedOpt){\n",
       "    const outputDiv = document.getElementById(\"altair-viz-e01f9b8743e24c1482026ca9ace6578b\");\n",
       "    const paths = {\n",
       "      \"vega\": \"https://cdn.jsdelivr.net/npm//vega@5?noext\",\n",
       "      \"vega-lib\": \"https://cdn.jsdelivr.net/npm//vega-lib?noext\",\n",
       "      \"vega-lite\": \"https://cdn.jsdelivr.net/npm//vega-lite@4.0.2?noext\",\n",
       "      \"vega-embed\": \"https://cdn.jsdelivr.net/npm//vega-embed@6?noext\",\n",
       "    };\n",
       "\n",
       "    function loadScript(lib) {\n",
       "      return new Promise(function(resolve, reject) {\n",
       "        var s = document.createElement('script');\n",
       "        s.src = paths[lib];\n",
       "        s.async = true;\n",
       "        s.onload = () => resolve(paths[lib]);\n",
       "        s.onerror = () => reject(`Error loading script: ${paths[lib]}`);\n",
       "        document.getElementsByTagName(\"head\")[0].appendChild(s);\n",
       "      });\n",
       "    }\n",
       "\n",
       "    function showError(err) {\n",
       "      outputDiv.innerHTML = `<div class=\"error\" style=\"color:red;\">${err}</div>`;\n",
       "      throw err;\n",
       "    }\n",
       "\n",
       "    function displayChart(vegaEmbed) {\n",
       "      vegaEmbed(outputDiv, spec, embedOpt)\n",
       "        .catch(err => showError(`Javascript Error: ${err.message}<br>This usually means there's a typo in your chart specification. See the javascript console for the full traceback.`));\n",
       "    }\n",
       "\n",
       "    if(typeof define === \"function\" && define.amd) {\n",
       "      requirejs.config({paths});\n",
       "      require([\"vega-embed\"], displayChart, err => showError(`Error loading script: ${err.message}`));\n",
       "    } else if (typeof vegaEmbed === \"function\") {\n",
       "      displayChart(vegaEmbed);\n",
       "    } else {\n",
       "      loadScript(\"vega\")\n",
       "        .then(() => loadScript(\"vega-lite\"))\n",
       "        .then(() => loadScript(\"vega-embed\"))\n",
       "        .catch(showError)\n",
       "        .then(() => displayChart(vegaEmbed));\n",
       "    }\n",
       "  })({\"config\": {\"view\": {\"width\": 800, \"height\": 450}, \"background\": \"#ffffff\", \"title\": {\"anchor\": \"start\", \"font\": \"Benton Gothic Bold, sans\", \"fontColor\": \"#000000\", \"fontSize\": 22, \"fontWeight\": \"normal\"}, \"arc\": {\"fill\": \"#82c6df\"}, \"area\": {\"fill\": \"#82c6df\"}, \"line\": {\"stroke\": \"#82c6df\", \"strokeWidth\": 3}, \"path\": {\"stroke\": \"#82c6df\"}, \"rect\": {\"fill\": \"#82c6df\"}, \"shape\": {\"stroke\": \"#82c6df\"}, \"bar\": {\"fill\": \"#82c6df\"}, \"point\": {\"stroke\": \"#82c6df\"}, \"symbol\": {\"fill\": \"#82c6df\", \"size\": 30}, \"axis\": {\"titleFont\": \"Benton Gothic Bold, sans\", \"titleFontSize\": 13, \"titleFontWeight\": \"normal\", \"labelFont\": \"Benton Gothic, sans\", \"labelFontSize\": 11.5, \"labelFontWeight\": \"normal\"}, \"axisX\": {\"labelAngle\": 0, \"labelPadding\": 4, \"tickSize\": 3}, \"axisY\": {\"labelBaseline\": \"middle\", \"maxExtent\": 45, \"minExtent\": 45, \"tickSize\": 2, \"titleAlign\": \"left\", \"titleAngle\": 0, \"titleX\": -45, \"titleY\": -11}, \"legend\": {\"titleFont\": \"Benton Gothic Bold, sans\", \"titleFontSize\": 13, \"titleFontWeight\": \"normal\", \"symbolType\": \"square\", \"labelFont\": \"Benton Gothic, sans\", \"labelFontSize\": 11.5}, \"range\": {\"category\": [\"#3580b1\", \"#ec8431\", \"#ab7fb4\", \"#c89d29\", \"#adc839\", \"#829eb1\"], \"diverging\": [\"#e68a4f\", \"#f4bb6a\", \"#f9e39c\", \"#dadfe2\", \"#a6b7c6\", \"#849eae\"], \"heatmap\": [\"#fbf2c7\", \"#f9e39c\", \"#f8d36e\", \"#f4bb6a\", \"#e68a4f\", \"#d15a40\", \"#ab4232\"], \"ordinal\": [\"#fbf2c7\", \"#f9e39c\", \"#f8d36e\", \"#f4bb6a\", \"#e68a4f\", \"#d15a40\", \"#ab4232\"], \"ramp\": [\"#fbf2c7\", \"#f9e39c\", \"#f8d36e\", \"#f4bb6a\", \"#e68a4f\", \"#d15a40\", \"#ab4232\"]}}, \"layer\": [{\"mark\": \"bar\", \"encoding\": {\"color\": {\"type\": \"nominal\", \"field\": \"gender_description\", \"legend\": null}, \"x\": {\"type\": \"quantitative\", \"aggregate\": \"sum\", \"axis\": {\"format\": \"%\", \"tickCount\": 6}, \"field\": \"count\", \"stack\": \"normalize\", \"title\": \"Share of books read by author gender\"}, \"y\": {\"type\": \"nominal\", \"field\": \"year\", \"sort\": {\"field\": \"count:N\", \"op\": \"count\", \"order\": \"descending\"}, \"title\": \"\"}}}, {\"mark\": {\"type\": \"text\", \"align\": \"right\", \"baseline\": \"middle\", \"dx\": -10}, \"encoding\": {\"color\": {\"condition\": {\"value\": \"white\", \"test\": \"(datum.year === '2019')\"}, \"value\": \"white\"}, \"text\": {\"type\": \"nominal\", \"field\": \"gender_description\"}, \"x\": {\"type\": \"quantitative\", \"aggregate\": \"sum\", \"axis\": {\"format\": \"%\", \"tickCount\": 6}, \"field\": \"count\", \"stack\": \"normalize\", \"title\": \"Share of books read by author gender\"}, \"y\": {\"type\": \"nominal\", \"field\": \"year\", \"sort\": {\"field\": \"count:N\", \"op\": \"count\", \"order\": \"descending\"}, \"title\": \"\"}}}], \"data\": {\"name\": \"data-da47e4ae7155fb35d02f6f9dc84384fb\"}, \"height\": 30, \"width\": 320, \"$schema\": \"https://vega.github.io/schema/vega-lite/v4.0.2.json\", \"datasets\": {\"data-da47e4ae7155fb35d02f6f9dc84384fb\": [{\"gender_description\": \"Female\", \"year\": \"2019\", \"count\": 33, \"share\": 63.46153846153846}, {\"gender_description\": \"Male\", \"year\": \"2019\", \"count\": 19, \"share\": 36.53846153846153}]}}, {\"mode\": \"vega-lite\"});\n",
       "</script>"
      ],
      "text/plain": [
       "alt.LayerChart(...)"
      ]
     },
     "execution_count": 45,
     "metadata": {},
     "output_type": "execute_result"
    }
   ],
   "source": [
    "(book_gender_chart + book_gender_chart_text).properties(height=30,width=320)"
   ]
  },
  {
   "cell_type": "markdown",
   "metadata": {},
   "source": [
    "---"
   ]
  },
  {
   "cell_type": "markdown",
   "metadata": {},
   "source": [
    "### Page counts by subgenre"
   ]
  },
  {
   "cell_type": "code",
   "execution_count": 46,
   "metadata": {},
   "outputs": [
    {
     "data": {
      "text/html": [
       "<div>\n",
       "<style scoped>\n",
       "    .dataframe tbody tr th:only-of-type {\n",
       "        vertical-align: middle;\n",
       "    }\n",
       "\n",
       "    .dataframe tbody tr th {\n",
       "        vertical-align: top;\n",
       "    }\n",
       "\n",
       "    .dataframe thead th {\n",
       "        text-align: right;\n",
       "    }\n",
       "</style>\n",
       "<table border=\"1\" class=\"dataframe\">\n",
       "  <thead>\n",
       "    <tr style=\"text-align: right;\">\n",
       "      <th></th>\n",
       "      <th>subgenre</th>\n",
       "      <th>pages</th>\n",
       "    </tr>\n",
       "  </thead>\n",
       "  <tbody>\n",
       "    <tr>\n",
       "      <th>2</th>\n",
       "      <td>Contemporary</td>\n",
       "      <td>2672</td>\n",
       "    </tr>\n",
       "    <tr>\n",
       "      <th>10</th>\n",
       "      <td>Memoir</td>\n",
       "      <td>1818</td>\n",
       "    </tr>\n",
       "    <tr>\n",
       "      <th>4</th>\n",
       "      <td>Feminism</td>\n",
       "      <td>1356</td>\n",
       "    </tr>\n",
       "    <tr>\n",
       "      <th>7</th>\n",
       "      <td>History</td>\n",
       "      <td>1186</td>\n",
       "    </tr>\n",
       "    <tr>\n",
       "      <th>3</th>\n",
       "      <td>Essays</td>\n",
       "      <td>1186</td>\n",
       "    </tr>\n",
       "    <tr>\n",
       "      <th>20</th>\n",
       "      <td>Young Adult</td>\n",
       "      <td>1088</td>\n",
       "    </tr>\n",
       "    <tr>\n",
       "      <th>14</th>\n",
       "      <td>Science</td>\n",
       "      <td>912</td>\n",
       "    </tr>\n",
       "    <tr>\n",
       "      <th>16</th>\n",
       "      <td>Short Stories</td>\n",
       "      <td>707</td>\n",
       "    </tr>\n",
       "    <tr>\n",
       "      <th>19</th>\n",
       "      <td>Writing</td>\n",
       "      <td>519</td>\n",
       "    </tr>\n",
       "    <tr>\n",
       "      <th>1</th>\n",
       "      <td>Classics</td>\n",
       "      <td>517</td>\n",
       "    </tr>\n",
       "  </tbody>\n",
       "</table>\n",
       "</div>"
      ],
      "text/plain": [
       "         subgenre  pages\n",
       "2    Contemporary   2672\n",
       "10         Memoir   1818\n",
       "4        Feminism   1356\n",
       "7         History   1186\n",
       "3          Essays   1186\n",
       "20    Young Adult   1088\n",
       "14        Science    912\n",
       "16  Short Stories    707\n",
       "19        Writing    519\n",
       "1        Classics    517"
      ]
     },
     "execution_count": 46,
     "metadata": {},
     "output_type": "execute_result"
    }
   ],
   "source": [
    "books.groupby(['subgenre']).agg({ 'pages': 'sum' }).reset_index()\\\n",
    ".sort_values(by='pages',ascending=False).head(10)"
   ]
  },
  {
   "cell_type": "markdown",
   "metadata": {},
   "source": [
    "### Ratings by subgenre"
   ]
  },
  {
   "cell_type": "code",
   "execution_count": 47,
   "metadata": {
    "scrolled": true
   },
   "outputs": [
    {
     "data": {
      "text/html": [
       "<div>\n",
       "<style scoped>\n",
       "    .dataframe tbody tr th:only-of-type {\n",
       "        vertical-align: middle;\n",
       "    }\n",
       "\n",
       "    .dataframe tbody tr th {\n",
       "        vertical-align: top;\n",
       "    }\n",
       "\n",
       "    .dataframe thead th {\n",
       "        text-align: right;\n",
       "    }\n",
       "</style>\n",
       "<table border=\"1\" class=\"dataframe\">\n",
       "  <thead>\n",
       "    <tr style=\"text-align: right;\">\n",
       "      <th></th>\n",
       "      <th>subgenre</th>\n",
       "      <th>avg_goodreads_rating</th>\n",
       "    </tr>\n",
       "  </thead>\n",
       "  <tbody>\n",
       "    <tr>\n",
       "      <th>18</th>\n",
       "      <td>True Crime</td>\n",
       "      <td>4.48</td>\n",
       "    </tr>\n",
       "    <tr>\n",
       "      <th>5</th>\n",
       "      <td>Graphic Novel</td>\n",
       "      <td>4.30</td>\n",
       "    </tr>\n",
       "    <tr>\n",
       "      <th>14</th>\n",
       "      <td>Science</td>\n",
       "      <td>4.29</td>\n",
       "    </tr>\n",
       "    <tr>\n",
       "      <th>11</th>\n",
       "      <td>Parenting</td>\n",
       "      <td>4.26</td>\n",
       "    </tr>\n",
       "    <tr>\n",
       "      <th>19</th>\n",
       "      <td>Writing</td>\n",
       "      <td>4.23</td>\n",
       "    </tr>\n",
       "    <tr>\n",
       "      <th>1</th>\n",
       "      <td>Classics</td>\n",
       "      <td>4.19</td>\n",
       "    </tr>\n",
       "    <tr>\n",
       "      <th>13</th>\n",
       "      <td>Religion</td>\n",
       "      <td>4.05</td>\n",
       "    </tr>\n",
       "    <tr>\n",
       "      <th>0</th>\n",
       "      <td>Business</td>\n",
       "      <td>4.04</td>\n",
       "    </tr>\n",
       "    <tr>\n",
       "      <th>10</th>\n",
       "      <td>Memoir</td>\n",
       "      <td>4.03</td>\n",
       "    </tr>\n",
       "    <tr>\n",
       "      <th>7</th>\n",
       "      <td>History</td>\n",
       "      <td>4.02</td>\n",
       "    </tr>\n",
       "  </tbody>\n",
       "</table>\n",
       "</div>"
      ],
      "text/plain": [
       "         subgenre  avg_goodreads_rating\n",
       "18     True Crime                  4.48\n",
       "5   Graphic Novel                  4.30\n",
       "14        Science                  4.29\n",
       "11      Parenting                  4.26\n",
       "19        Writing                  4.23\n",
       "1        Classics                  4.19\n",
       "13       Religion                  4.05\n",
       "0        Business                  4.04\n",
       "10         Memoir                  4.03\n",
       "7         History                  4.02"
      ]
     },
     "execution_count": 47,
     "metadata": {},
     "output_type": "execute_result"
    }
   ],
   "source": [
    "books.groupby(['subgenre']).agg({ 'avg_goodreads_rating': 'mean' }).reset_index()\\\n",
    ".sort_values(by='avg_goodreads_rating',ascending=False).head(10)"
   ]
  },
  {
   "cell_type": "markdown",
   "metadata": {},
   "source": [
    "### Favorite books by Goodreads rating"
   ]
  },
  {
   "cell_type": "code",
   "execution_count": 48,
   "metadata": {},
   "outputs": [],
   "source": [
    "books_slim = books[['author', 'title', 'type', 'avg_goodreads_rating']][books['faves'] == 'Y']\\\n",
    ".sort_values(by='avg_goodreads_rating', ascending=False).head()"
   ]
  },
  {
   "cell_type": "code",
   "execution_count": 49,
   "metadata": {},
   "outputs": [
    {
     "data": {
      "text/html": [
       "<div>\n",
       "<style scoped>\n",
       "    .dataframe tbody tr th:only-of-type {\n",
       "        vertical-align: middle;\n",
       "    }\n",
       "\n",
       "    .dataframe tbody tr th {\n",
       "        vertical-align: top;\n",
       "    }\n",
       "\n",
       "    .dataframe thead th {\n",
       "        text-align: right;\n",
       "    }\n",
       "</style>\n",
       "<table border=\"1\" class=\"dataframe\">\n",
       "  <thead>\n",
       "    <tr style=\"text-align: right;\">\n",
       "      <th></th>\n",
       "      <th>author</th>\n",
       "      <th>title</th>\n",
       "      <th>type</th>\n",
       "      <th>avg_goodreads_rating</th>\n",
       "    </tr>\n",
       "  </thead>\n",
       "  <tbody>\n",
       "    <tr>\n",
       "      <th>41</th>\n",
       "      <td>Lori Gottlieb</td>\n",
       "      <td>Maybe You Should Talk to Somebody</td>\n",
       "      <td>Non-Fiction</td>\n",
       "      <td>4.40</td>\n",
       "    </tr>\n",
       "    <tr>\n",
       "      <th>25</th>\n",
       "      <td>Jia Tolentino</td>\n",
       "      <td>Trick Mirror</td>\n",
       "      <td>Non-Fiction</td>\n",
       "      <td>4.33</td>\n",
       "    </tr>\n",
       "    <tr>\n",
       "      <th>40</th>\n",
       "      <td>Adele Faber and Elaine Mazlish</td>\n",
       "      <td>How to Talk So Your Kids Will Listen</td>\n",
       "      <td>Non-Fiction</td>\n",
       "      <td>4.26</td>\n",
       "    </tr>\n",
       "    <tr>\n",
       "      <th>28</th>\n",
       "      <td>Taffy Brodesser-Akner</td>\n",
       "      <td>Fleishman Is In Trouble</td>\n",
       "      <td>Fiction</td>\n",
       "      <td>4.10</td>\n",
       "    </tr>\n",
       "    <tr>\n",
       "      <th>21</th>\n",
       "      <td>Leslie Jamison</td>\n",
       "      <td>The Recovering: Intoxication and its Aftermath</td>\n",
       "      <td>Non-Fiction</td>\n",
       "      <td>3.96</td>\n",
       "    </tr>\n",
       "  </tbody>\n",
       "</table>\n",
       "</div>"
      ],
      "text/plain": [
       "                            author  \\\n",
       "41                   Lori Gottlieb   \n",
       "25                   Jia Tolentino   \n",
       "40  Adele Faber and Elaine Mazlish   \n",
       "28           Taffy Brodesser-Akner   \n",
       "21                  Leslie Jamison   \n",
       "\n",
       "                                             title         type  \\\n",
       "41               Maybe You Should Talk to Somebody  Non-Fiction   \n",
       "25                                    Trick Mirror  Non-Fiction   \n",
       "40            How to Talk So Your Kids Will Listen  Non-Fiction   \n",
       "28                         Fleishman Is In Trouble      Fiction   \n",
       "21  The Recovering: Intoxication and its Aftermath  Non-Fiction   \n",
       "\n",
       "    avg_goodreads_rating  \n",
       "41                  4.40  \n",
       "25                  4.33  \n",
       "40                  4.26  \n",
       "28                  4.10  \n",
       "21                  3.96  "
      ]
     },
     "execution_count": 49,
     "metadata": {},
     "output_type": "execute_result"
    }
   ],
   "source": [
    "books_slim"
   ]
  },
  {
   "cell_type": "code",
   "execution_count": 50,
   "metadata": {},
   "outputs": [],
   "source": [
    "book_ratings = books.groupby(['type']).agg({'avg_goodreads_rating': 'mean'}).reset_index()"
   ]
  },
  {
   "cell_type": "code",
   "execution_count": 51,
   "metadata": {},
   "outputs": [
    {
     "data": {
      "text/html": [
       "<div>\n",
       "<style scoped>\n",
       "    .dataframe tbody tr th:only-of-type {\n",
       "        vertical-align: middle;\n",
       "    }\n",
       "\n",
       "    .dataframe tbody tr th {\n",
       "        vertical-align: top;\n",
       "    }\n",
       "\n",
       "    .dataframe thead th {\n",
       "        text-align: right;\n",
       "    }\n",
       "</style>\n",
       "<table border=\"1\" class=\"dataframe\">\n",
       "  <thead>\n",
       "    <tr style=\"text-align: right;\">\n",
       "      <th></th>\n",
       "      <th>type</th>\n",
       "      <th>avg_goodreads_rating</th>\n",
       "    </tr>\n",
       "  </thead>\n",
       "  <tbody>\n",
       "    <tr>\n",
       "      <th>0</th>\n",
       "      <td>Fiction</td>\n",
       "      <td>3.79</td>\n",
       "    </tr>\n",
       "    <tr>\n",
       "      <th>1</th>\n",
       "      <td>Non-Fiction</td>\n",
       "      <td>4.07</td>\n",
       "    </tr>\n",
       "    <tr>\n",
       "      <th>2</th>\n",
       "      <td>Poetry</td>\n",
       "      <td>4.22</td>\n",
       "    </tr>\n",
       "  </tbody>\n",
       "</table>\n",
       "</div>"
      ],
      "text/plain": [
       "          type  avg_goodreads_rating\n",
       "0      Fiction                  3.79\n",
       "1  Non-Fiction                  4.07\n",
       "2       Poetry                  4.22"
      ]
     },
     "execution_count": 51,
     "metadata": {},
     "output_type": "execute_result"
    }
   ],
   "source": [
    "book_ratings"
   ]
  },
  {
   "cell_type": "markdown",
   "metadata": {},
   "source": [
    "---"
   ]
  },
  {
   "cell_type": "markdown",
   "metadata": {},
   "source": [
    "### Export books list to CSV"
   ]
  },
  {
   "cell_type": "code",
   "execution_count": 52,
   "metadata": {},
   "outputs": [],
   "source": [
    "books.to_csv('output/books.csv')"
   ]
  }
 ],
 "metadata": {
  "kernelspec": {
   "display_name": "Python 3",
   "language": "python",
   "name": "python3"
  },
  "language_info": {
   "codemirror_mode": {
    "name": "ipython",
    "version": 3
   },
   "file_extension": ".py",
   "mimetype": "text/x-python",
   "name": "python",
   "nbconvert_exporter": "python",
   "pygments_lexer": "ipython3",
   "version": "3.7.4"
  }
 },
 "nbformat": 4,
 "nbformat_minor": 4
}
