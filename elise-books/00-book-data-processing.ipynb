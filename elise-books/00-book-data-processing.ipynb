{
 "cells": [
  {
   "cell_type": "markdown",
   "metadata": {},
   "source": [
    "# Elise Hu: 2019 books"
   ]
  },
  {
   "cell_type": "markdown",
   "metadata": {},
   "source": [
    "### Load Python tools "
   ]
  },
  {
   "cell_type": "code",
   "execution_count": 1,
   "metadata": {},
   "outputs": [],
   "source": [
    "import pandas as pd\n",
    "import geopandas as gpd\n",
    "from urllib.request import urlopen \n",
    "import pyarrow\n",
    "import jenkspy\n",
    "import matplotlib.pyplot as plt\n",
    "%matplotlib inline\n",
    "import json\n",
    "import numpy as np\n",
    "from altair import datum\n",
    "import altair as alt\n",
    "import altair_latimes as lat"
   ]
  },
  {
   "cell_type": "code",
   "execution_count": 2,
   "metadata": {},
   "outputs": [
    {
     "data": {
      "text/plain": [
       "ThemeRegistry.enable('latimes')"
      ]
     },
     "execution_count": 2,
     "metadata": {},
     "output_type": "execute_result"
    }
   ],
   "source": [
    "alt.renderers.enable('notebook')\n",
    "alt.themes.register('latimes', lat.theme)\n",
    "alt.themes.enable('latimes')"
   ]
  },
  {
   "cell_type": "code",
   "execution_count": 3,
   "metadata": {},
   "outputs": [
    {
     "data": {
      "text/plain": [
       "DataTransformerRegistry.enable('default')"
      ]
     },
     "execution_count": 3,
     "metadata": {},
     "output_type": "execute_result"
    }
   ],
   "source": [
    "plt.rcParams['figure.figsize'] = (16,8)\n",
    "pd.options.display.max_columns = 50\n",
    "pd.options.display.max_rows = 1000\n",
    "pd.options.display.float_format = '{:,.2f}'.format\n",
    "alt.data_transformers.disable_max_rows()"
   ]
  },
  {
   "cell_type": "code",
   "execution_count": 4,
   "metadata": {},
   "outputs": [],
   "source": [
    "src = pd.read_excel('input/elise-2019-books.xlsx')"
   ]
  },
  {
   "cell_type": "code",
   "execution_count": null,
   "metadata": {},
   "outputs": [
    {
     "data": {
      "text/plain": [
       "Order                            int64\n",
       "Title                           object\n",
       "Author                          object\n",
       "Pages                            int64\n",
       "URL                             object\n",
       "gender                          object\n",
       "type                            object\n",
       "Subgenre                        object\n",
       "Avg GoodReads Rating           float64\n",
       "Started                 datetime64[ns]\n",
       "date                    datetime64[ns]\n",
       "Faves                           object\n",
       "dtype: object"
      ]
     },
     "execution_count": 5,
     "metadata": {},
     "output_type": "execute_result"
    }
   ],
   "source": [
    "src.dtypes"
   ]
  },
  {
   "cell_type": "code",
   "execution_count": null,
   "metadata": {},
   "outputs": [],
   "source": [
    "src.columns = src.columns.str.strip().str.lower().str.replace(' ', '_')\\\n",
    "                    .str.replace('(', '').str.replace(')', '').str.replace('-','_')"
   ]
  },
  {
   "cell_type": "code",
   "execution_count": null,
   "metadata": {},
   "outputs": [],
   "source": [
    "src['year'] = src['date'].dt.year.astype(str).str.replace('.0','',regex=False)"
   ]
  },
  {
   "cell_type": "code",
   "execution_count": null,
   "metadata": {},
   "outputs": [],
   "source": [
    "src['type'] = src['type'].str.replace(' ', '-')"
   ]
  },
  {
   "cell_type": "code",
   "execution_count": null,
   "metadata": {},
   "outputs": [],
   "source": [
    "src['days_to_read'] = src['date'] - src['started']"
   ]
  },
  {
   "cell_type": "code",
   "execution_count": null,
   "metadata": {},
   "outputs": [],
   "source": [
    "src['gender_description'] = src.gender.replace({'M': 'Male', 'F': 'Female'})"
   ]
  },
  {
   "cell_type": "code",
   "execution_count": null,
   "metadata": {},
   "outputs": [],
   "source": [
    "src.dtypes"
   ]
  },
  {
   "cell_type": "code",
   "execution_count": null,
   "metadata": {},
   "outputs": [],
   "source": [
    "src['days_to_read'] = src['days_to_read'].dt.days"
   ]
  },
  {
   "cell_type": "code",
   "execution_count": null,
   "metadata": {
    "scrolled": true
   },
   "outputs": [],
   "source": [
    "alt.Chart(src).mark_tick().encode(\n",
    "    x=alt.X('date',axis=alt.Axis(tickCount=12, format='%b', tickColor='#ffffff'), title=''),\n",
    "    y=alt.Y('gender_description',axis=alt.Axis(tickCount=0, tickColor='#ffffff'), title=' '),\n",
    "    color=alt.Color('gender_description', legend=None)\n",
    ").configure_axis(\n",
    "    grid=False).properties(height=100, width=320)"
   ]
  },
  {
   "cell_type": "code",
   "execution_count": null,
   "metadata": {},
   "outputs": [],
   "source": [
    "books = pd.DataFrame(src)"
   ]
  },
  {
   "cell_type": "markdown",
   "metadata": {},
   "source": [
    "---"
   ]
  },
  {
   "cell_type": "markdown",
   "metadata": {},
   "source": [
    "### No relationship between Goodreads score and time it took to read"
   ]
  },
  {
   "cell_type": "code",
   "execution_count": null,
   "metadata": {},
   "outputs": [],
   "source": [
    "books_quick = books[ (books['days_to_read'] < 30) & (books['avg_goodreads_rating'] > 2) ]"
   ]
  },
  {
   "cell_type": "code",
   "execution_count": null,
   "metadata": {},
   "outputs": [],
   "source": [
    "books_corr = books_quick[['avg_goodreads_rating', 'days_to_read']]"
   ]
  },
  {
   "cell_type": "code",
   "execution_count": null,
   "metadata": {},
   "outputs": [],
   "source": [
    "corr = books_corr.corr(method ='pearson')"
   ]
  },
  {
   "cell_type": "code",
   "execution_count": null,
   "metadata": {},
   "outputs": [],
   "source": [
    "print(corr)"
   ]
  },
  {
   "cell_type": "code",
   "execution_count": null,
   "metadata": {},
   "outputs": [],
   "source": [
    "alt.Chart(books_quick).mark_circle(size=60).encode(\n",
    "    x=alt.X('avg_goodreads_rating:Q', title='Avg goodreads rating', axis=alt.Axis(tickCount=6), scale=alt.Scale(domain=(3, 5))),\n",
    "    y=alt.Y('days_to_read:Q', title='Days to read', axis=alt.Axis(tickCount=5)),\n",
    "    tooltip=['title:N', 'author:O', 'avg_goodreads_rating:Q', 'days_to_read:Q']\n",
    ").properties(width=500, height=500)"
   ]
  },
  {
   "cell_type": "markdown",
   "metadata": {},
   "source": [
    "---"
   ]
  },
  {
   "cell_type": "code",
   "execution_count": null,
   "metadata": {},
   "outputs": [],
   "source": [
    "books.head()"
   ]
  },
  {
   "cell_type": "code",
   "execution_count": null,
   "metadata": {},
   "outputs": [],
   "source": [
    "book_type = books.groupby(['type', 'year']).agg('size').reset_index(name='count').sort_values(by='count', ascending=False)\n",
    "book_type.head()"
   ]
  },
  {
   "cell_type": "code",
   "execution_count": null,
   "metadata": {},
   "outputs": [],
   "source": [
    "book_type_chart = alt.Chart(book_type).mark_bar().encode(\n",
    "    x=alt.X('sum(count)', stack=\"normalize\",  title='Share of books read by genre', \\\n",
    "            axis=alt.Axis(format='%',tickCount=6)),\n",
    "    y=alt.Y('year',title=''),\n",
    "    order=alt.Order(\n",
    "      # Sort the segments of the bars by this field\n",
    "      'type',\n",
    "      sort='ascending'\n",
    "    ),\n",
    "    color=alt.Color('type', legend=alt.Legend(orient=\"top\", title='Book type'))\n",
    ")\n",
    "\n",
    "(book_type_chart).properties(height=30,width=700)"
   ]
  },
  {
   "cell_type": "code",
   "execution_count": null,
   "metadata": {},
   "outputs": [],
   "source": [
    "book_genre = books.groupby('subgenre').agg('size').reset_index(name='count')\\\n",
    ".sort_values(by='count', ascending=False)\n",
    "book_genre.head()"
   ]
  },
  {
   "cell_type": "code",
   "execution_count": null,
   "metadata": {
    "scrolled": true
   },
   "outputs": [],
   "source": [
    "alt.Chart(book_genre).mark_bar().encode(\n",
    "    y=alt.Y(\"subgenre:N\", title=' ',\n",
    "           sort=alt.EncodingSortField(\n",
    "            field=\"count:Q\",  # The field to use for the sort\n",
    "            op=\"sum\",  # The operation to run on the field prior to sorting\n",
    "            order=\"ascending\"  # The order to sort in\n",
    "        )),\n",
    "    x=alt.X(\"count:Q\", title=' ', axis=alt.Axis(tickCount=6, format=''))\n",
    ").properties(height=500, width=700, title='Books read, by subgenre')"
   ]
  },
  {
   "cell_type": "markdown",
   "metadata": {},
   "source": [
    "---"
   ]
  },
  {
   "cell_type": "code",
   "execution_count": null,
   "metadata": {},
   "outputs": [],
   "source": [
    "book_gender = books.groupby(['gender_description', 'year']).agg('size').reset_index(name='count').sort_values(by='count', ascending=False)\n",
    "book_gender.head()"
   ]
  },
  {
   "cell_type": "code",
   "execution_count": null,
   "metadata": {},
   "outputs": [],
   "source": [
    "book_gender_chart = alt.Chart(book_gender).mark_bar().encode(\n",
    "    x=alt.X('sum(count)', stack=\"normalize\",  title='Share of books read by author gender',\\\n",
    "            axis=alt.Axis(format='%',tickCount=6)),\n",
    "    y=alt.Y('year',title='',\n",
    "            sort=alt.EncodingSortField(\n",
    "            field=\"count:N\",  # The field to use for the sort\n",
    "            op=\"count\",  # The operation to run on the field prior to sorting\n",
    "            order=\"descending\"  # The order to sort in)\n",
    "            )),\n",
    "    color=alt.Color('gender_description', legend=None)\n",
    ")\n",
    "\n",
    "book_gender_chart_text = book_gender_chart.mark_text(\n",
    "    align='right',\n",
    "    baseline='middle',\n",
    "    dx=-10\n",
    ").encode(text=alt.Text('gender_description'), \n",
    "    color=alt.condition(\n",
    "        alt.datum.year == '2019',\n",
    "        alt.value('white'),\n",
    "        alt.value('white')\n",
    "    )\n",
    ")\n",
    "\n",
    "\n",
    "(book_gender_chart + book_gender_chart_text).properties(height=30,width=700)"
   ]
  },
  {
   "cell_type": "markdown",
   "metadata": {},
   "source": [
    "---"
   ]
  },
  {
   "cell_type": "markdown",
   "metadata": {},
   "source": [
    "### Ratings by subgenre"
   ]
  },
  {
   "cell_type": "code",
   "execution_count": null,
   "metadata": {},
   "outputs": [],
   "source": [
    "books.groupby(['subgenre', 'gender_description']).agg({ 'avg_goodreads_rating': 'mean' }).reset_index()\\\n",
    ".sort_values(by='avg_goodreads_rating',ascending=False)"
   ]
  }
 ],
 "metadata": {
  "kernelspec": {
   "display_name": "Python 3",
   "language": "python",
   "name": "python3"
  },
  "language_info": {
   "codemirror_mode": {
    "name": "ipython",
    "version": 3
   },
   "file_extension": ".py",
   "mimetype": "text/x-python",
   "name": "python",
   "nbconvert_exporter": "python",
   "pygments_lexer": "ipython3",
   "version": "3.7.3"
  }
 },
 "nbformat": 4,
 "nbformat_minor": 2
}
