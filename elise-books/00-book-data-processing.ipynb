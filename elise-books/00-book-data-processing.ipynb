{
 "cells": [
  {
   "cell_type": "markdown",
   "metadata": {},
   "source": [
    "# Elise Hu: 2019 books"
   ]
  },
  {
   "cell_type": "markdown",
   "metadata": {},
   "source": [
    "### Load Python tools "
   ]
  },
  {
   "cell_type": "code",
   "execution_count": 1,
   "metadata": {},
   "outputs": [],
   "source": [
    "import pandas as pd\n",
    "import geopandas as gpd\n",
    "from urllib.request import urlopen \n",
    "import pyarrow\n",
    "import jenkspy\n",
    "import matplotlib.pyplot as plt\n",
    "%matplotlib inline\n",
    "import json\n",
    "import numpy as np\n",
    "from altair import datum\n",
    "import altair as alt\n",
    "import altair_latimes as lat"
   ]
  },
  {
   "cell_type": "code",
   "execution_count": 2,
   "metadata": {},
   "outputs": [
    {
     "data": {
      "text/plain": [
       "ThemeRegistry.enable('latimes')"
      ]
     },
     "execution_count": 2,
     "metadata": {},
     "output_type": "execute_result"
    }
   ],
   "source": [
    "alt.renderers.enable('notebook')\n",
    "alt.themes.register('latimes', lat.theme)\n",
    "alt.themes.enable('latimes')"
   ]
  },
  {
   "cell_type": "code",
   "execution_count": 3,
   "metadata": {},
   "outputs": [
    {
     "data": {
      "text/plain": [
       "DataTransformerRegistry.enable('default')"
      ]
     },
     "execution_count": 3,
     "metadata": {},
     "output_type": "execute_result"
    }
   ],
   "source": [
    "plt.rcParams['figure.figsize'] = (16,8)\n",
    "pd.options.display.max_columns = 50\n",
    "pd.options.display.max_rows = 1000\n",
    "pd.options.display.float_format = '{:,.2f}'.format\n",
    "alt.data_transformers.disable_max_rows()"
   ]
  },
  {
   "cell_type": "code",
   "execution_count": 4,
   "metadata": {},
   "outputs": [],
   "source": [
    "src = pd.read_excel('input/elise-2019-books.xlsx')"
   ]
  },
  {
   "cell_type": "code",
   "execution_count": 5,
   "metadata": {},
   "outputs": [
    {
     "data": {
      "text/plain": [
       "Order                            int64\n",
       "Title                           object\n",
       "Author                          object\n",
       "Pages                            int64\n",
       "URL                             object\n",
       "gender                          object\n",
       "type                            object\n",
       "Subgenre                        object\n",
       "Avg GoodReads Rating           float64\n",
       "Started                 datetime64[ns]\n",
       "date                    datetime64[ns]\n",
       "Faves                           object\n",
       "dtype: object"
      ]
     },
     "execution_count": 5,
     "metadata": {},
     "output_type": "execute_result"
    }
   ],
   "source": [
    "src.dtypes"
   ]
  },
  {
   "cell_type": "code",
   "execution_count": 6,
   "metadata": {},
   "outputs": [],
   "source": [
    "src.columns = src.columns.str.strip().str.lower().str.replace(' ', '_')\\\n",
    "                    .str.replace('(', '').str.replace(')', '').str.replace('-','_')"
   ]
  },
  {
   "cell_type": "code",
   "execution_count": 7,
   "metadata": {},
   "outputs": [],
   "source": [
    "src['year'] = src['date'].dt.year.astype(str).str.replace('.0','',regex=False)"
   ]
  },
  {
   "cell_type": "code",
   "execution_count": 8,
   "metadata": {},
   "outputs": [],
   "source": [
    "src['type'] = src['type'].str.replace(' ', '-')"
   ]
  },
  {
   "cell_type": "code",
   "execution_count": 9,
   "metadata": {},
   "outputs": [],
   "source": [
    "src['days_to_read'] = src['date'] - src['started']"
   ]
  },
  {
   "cell_type": "code",
   "execution_count": 10,
   "metadata": {},
   "outputs": [],
   "source": [
    "src['gender_description'] = src.gender.replace({'M': 'Male', 'F': 'Female'})"
   ]
  },
  {
   "cell_type": "code",
   "execution_count": 11,
   "metadata": {},
   "outputs": [
    {
     "data": {
      "text/plain": [
       "order                             int64\n",
       "title                            object\n",
       "author                           object\n",
       "pages                             int64\n",
       "url                              object\n",
       "gender                           object\n",
       "type                             object\n",
       "subgenre                         object\n",
       "avg_goodreads_rating            float64\n",
       "started                  datetime64[ns]\n",
       "date                     datetime64[ns]\n",
       "faves                            object\n",
       "year                             object\n",
       "days_to_read            timedelta64[ns]\n",
       "gender_description               object\n",
       "dtype: object"
      ]
     },
     "execution_count": 11,
     "metadata": {},
     "output_type": "execute_result"
    }
   ],
   "source": [
    "src.dtypes"
   ]
  },
  {
   "cell_type": "code",
   "execution_count": 12,
   "metadata": {},
   "outputs": [],
   "source": [
    "src['days_to_read'] = src['days_to_read'].dt.days"
   ]
  },
  {
   "cell_type": "code",
   "execution_count": 14,
   "metadata": {},
   "outputs": [],
   "source": [
    "books = pd.DataFrame(src)"
   ]
  },
  {
   "cell_type": "code",
   "execution_count": 34,
   "metadata": {
    "scrolled": true
   },
   "outputs": [
    {
     "data": {
      "application/javascript": [
       "const spec = {\"config\": {\"view\": {\"width\": 800, \"height\": 450}, \"background\": \"#ffffff\", \"title\": {\"anchor\": \"start\", \"font\": \"Benton Gothic Bold, sans\", \"fontColor\": \"#000000\", \"fontSize\": 22, \"fontWeight\": \"normal\"}, \"arc\": {\"fill\": \"#82c6df\"}, \"area\": {\"fill\": \"#82c6df\"}, \"line\": {\"stroke\": \"#82c6df\", \"strokeWidth\": 3}, \"path\": {\"stroke\": \"#82c6df\"}, \"rect\": {\"fill\": \"#82c6df\"}, \"shape\": {\"stroke\": \"#82c6df\"}, \"bar\": {\"fill\": \"#82c6df\"}, \"point\": {\"stroke\": \"#82c6df\"}, \"symbol\": {\"fill\": \"#82c6df\", \"size\": 30}, \"axis\": {\"titleFont\": \"Benton Gothic Bold, sans\", \"titleFontSize\": 13, \"titleFontWeight\": \"normal\", \"labelFont\": \"Benton Gothic, sans\", \"labelFontSize\": 11.5, \"labelFontWeight\": \"normal\", \"grid\": false}, \"axisX\": {\"labelAngle\": 0, \"labelPadding\": 4, \"tickSize\": 3}, \"axisY\": {\"labelBaseline\": \"middle\", \"maxExtent\": 45, \"minExtent\": 45, \"tickSize\": 2, \"titleAlign\": \"left\", \"titleAngle\": 0, \"titleX\": -45, \"titleY\": -11}, \"legend\": {\"titleFont\": \"Benton Gothic Bold, sans\", \"titleFontSize\": 13, \"titleFontWeight\": \"normal\", \"symbolType\": \"square\", \"labelFont\": \"Benton Gothic, sans\", \"labelFontSize\": 11.5}, \"range\": {\"category\": [\"#3580b1\", \"#ec8431\", \"#ab7fb4\", \"#c89d29\", \"#adc839\", \"#829eb1\"], \"diverging\": [\"#e68a4f\", \"#f4bb6a\", \"#f9e39c\", \"#dadfe2\", \"#a6b7c6\", \"#849eae\"], \"heatmap\": [\"#fbf2c7\", \"#f9e39c\", \"#f8d36e\", \"#f4bb6a\", \"#e68a4f\", \"#d15a40\", \"#ab4232\"], \"ordinal\": [\"#fbf2c7\", \"#f9e39c\", \"#f8d36e\", \"#f4bb6a\", \"#e68a4f\", \"#d15a40\", \"#ab4232\"], \"ramp\": [\"#fbf2c7\", \"#f9e39c\", \"#f8d36e\", \"#f4bb6a\", \"#e68a4f\", \"#d15a40\", \"#ab4232\"]}}, \"data\": {\"name\": \"data-7c8b8837e3db213cb2339b0fa7827d31\"}, \"mark\": {\"type\": \"tick\", \"size\": 20}, \"encoding\": {\"color\": {\"type\": \"nominal\", \"field\": \"gender_description\", \"legend\": null}, \"x\": {\"type\": \"temporal\", \"axis\": {\"format\": \"%b\", \"tickColor\": \"#ffffff\", \"tickCount\": 12}, \"field\": \"date\", \"title\": \"\"}, \"y\": {\"type\": \"nominal\", \"axis\": {\"tickColor\": \"#ffffff\", \"tickCount\": 0}, \"field\": \"gender_description\", \"title\": \" \"}}, \"height\": 100, \"width\": 320, \"$schema\": \"https://vega.github.io/schema/vega-lite/v3.4.0.json\", \"datasets\": {\"data-7c8b8837e3db213cb2339b0fa7827d31\": [{\"order\": 1, \"title\": \"Brotopia\", \"author\": \"Emily Chang\", \"pages\": 317, \"url\": \"https://www.goodreads.com/book/show/36288143-brotopia\", \"gender\": \"F\", \"type\": \"Non-Fiction\", \"subgenre\": \"Business\", \"avg_goodreads_rating\": 4.04, \"started\": \"2018-12-26T00:00:00\", \"date\": \"2019-01-06T00:00:00\", \"faves\": null, \"year\": \"2019\", \"days_to_read\": 11, \"gender_description\": \"Female\"}, {\"order\": 2, \"title\": \"The Human Stain\", \"author\": \"Philip Roth\", \"pages\": 384, \"url\": \"https://www.goodreads.com/book/show/11734.The_Human_Stain?from_search=true\", \"gender\": \"M\", \"type\": \"Fiction\", \"subgenre\": \"Literature\", \"avg_goodreads_rating\": 3.87, \"started\": \"2019-01-06T00:00:00\", \"date\": \"2019-01-16T00:00:00\", \"faves\": \"Y\", \"year\": \"2019\", \"days_to_read\": 10, \"gender_description\": \"Male\"}, {\"order\": 3, \"title\": \"You Know You Want This\", \"author\": \"Kristen Roupenian\", \"pages\": 225, \"url\": \"https://www.goodreads.com/book/show/40539045-you-know-you-want-this\", \"gender\": \"F\", \"type\": \"Fiction\", \"subgenre\": \"Short Stories\", \"avg_goodreads_rating\": 3.86, \"started\": \"2019-01-16T00:00:00\", \"date\": \"2019-01-19T00:00:00\", \"faves\": null, \"year\": \"2019\", \"days_to_read\": 3, \"gender_description\": \"Female\"}, {\"order\": 4, \"title\": \"Why Buddhism is True\", \"author\": \"Robert Wright\", \"pages\": 336, \"url\": \"https://www.goodreads.com/book/show/32895535-why-buddhism-is-true?from_search=true\", \"gender\": \"M\", \"type\": \"Non-Fiction\", \"subgenre\": \"Religion\", \"avg_goodreads_rating\": 4.05, \"started\": \"2019-01-18T00:00:00\", \"date\": \"2019-04-02T00:00:00\", \"faves\": null, \"year\": \"2019\", \"days_to_read\": 74, \"gender_description\": \"Male\"}, {\"order\": 5, \"title\": \"If Beale Street Could Talk\", \"author\": \"James Baldwin\", \"pages\": 197, \"url\": \"https://www.goodreads.com/book/show/38463.If_Beale_Street_Could_Talk\", \"gender\": \"M\", \"type\": \"Fiction\", \"subgenre\": \"Classics\", \"avg_goodreads_rating\": 4.29, \"started\": \"2019-01-22T00:00:00\", \"date\": \"2019-01-28T00:00:00\", \"faves\": null, \"year\": \"2019\", \"days_to_read\": 6, \"gender_description\": \"Male\"}, {\"order\": 6, \"title\": \"Nobody Cares\", \"author\": \"Anne Donahue\", \"pages\": 240, \"url\": \"https://www.goodreads.com/book/show/36360167-nobody-cares\", \"gender\": \"F\", \"type\": \"Non-Fiction\", \"subgenre\": \"Essays\", \"avg_goodreads_rating\": 3.67, \"started\": \"2019-02-03T00:00:00\", \"date\": \"2019-02-25T00:00:00\", \"faves\": null, \"year\": \"2019\", \"days_to_read\": 22, \"gender_description\": \"Female\"}, {\"order\": 7, \"title\": \"Acts of Infidelity\", \"author\": \"Lena Andersson\", \"pages\": 366, \"url\": \"https://www.goodreads.com/book/show/22601256-utan-personligt-ansvar\", \"gender\": \"F\", \"type\": \"Fiction\", \"subgenre\": \"Swedish Lit\", \"avg_goodreads_rating\": 3.66, \"started\": \"2019-02-01T00:00:00\", \"date\": \"2019-02-08T00:00:00\", \"faves\": null, \"year\": \"2019\", \"days_to_read\": 7, \"gender_description\": \"Female\"}, {\"order\": 8, \"title\": \"There Will Be No Miracles Here\", \"author\": \"Casey Gerald\", \"pages\": 394, \"url\": \"https://www.goodreads.com/book/show/38650651-there-will-be-no-miracles-here?from_search=true\", \"gender\": \"M\", \"type\": \"Non-Fiction\", \"subgenre\": \"Memoir\", \"avg_goodreads_rating\": 3.72, \"started\": \"2019-01-27T00:00:00\", \"date\": \"2019-02-11T00:00:00\", \"faves\": null, \"year\": \"2019\", \"days_to_read\": 15, \"gender_description\": \"Male\"}, {\"order\": 9, \"title\": \"The Unbearable Lightness of Being\", \"author\": \"Milan Kundera\", \"pages\": 320, \"url\": \"https://www.goodreads.com/book/show/9717.The_Unbearable_Lightness_of_Being?from_search=true\", \"gender\": \"M\", \"type\": \"Fiction\", \"subgenre\": \"Classics\", \"avg_goodreads_rating\": 4.09, \"started\": \"2019-02-16T00:00:00\", \"date\": \"2019-02-23T00:00:00\", \"faves\": null, \"year\": \"2019\", \"days_to_read\": 7, \"gender_description\": \"Male\"}, {\"order\": 10, \"title\": \"The Beauty Myth\", \"author\": \"Naomi Wolf\", \"pages\": 368, \"url\": \"https://www.goodreads.com/book/show/39926.The_Beauty_Myth\", \"gender\": \"F\", \"type\": \"Non-Fiction\", \"subgenre\": \"Feminism\", \"avg_goodreads_rating\": 3.9, \"started\": \"2019-02-12T00:00:00\", \"date\": \"2019-11-04T00:00:00\", \"faves\": null, \"year\": \"2019\", \"days_to_read\": 265, \"gender_description\": \"Female\"}, {\"order\": 11, \"title\": \"LOT\", \"author\": \"Bryan Washington\", \"pages\": 240, \"url\": \"https://www.goodreads.com/book/show/40749395-lot\", \"gender\": \"M\", \"type\": \"Fiction\", \"subgenre\": \"Short Stories\", \"avg_goodreads_rating\": 3.74, \"started\": \"2019-02-28T00:00:00\", \"date\": \"2019-03-15T00:00:00\", \"faves\": \"Y\", \"year\": \"2019\", \"days_to_read\": 15, \"gender_description\": \"Male\"}, {\"order\": 12, \"title\": \"Oculus\", \"author\": \"Sally Wen Mao\", \"pages\": 119, \"url\": \"https://www.goodreads.com/book/show/40121999-oculus\", \"gender\": \"F\", \"type\": \"Poetry\", \"subgenre\": \"Contemporary\", \"avg_goodreads_rating\": 4.22, \"started\": \"2019-03-03T00:00:00\", \"date\": \"2019-03-11T00:00:00\", \"faves\": null, \"year\": \"2019\", \"days_to_read\": 8, \"gender_description\": \"Female\"}, {\"order\": 13, \"title\": \"Homo Deus: A Brief History of Tomorrow\", \"author\": \"Yuval Harari\", \"pages\": 450, \"url\": \"https://www.goodreads.com/book/show/31138556-homo-deus?from_search=true\", \"gender\": \"M\", \"type\": \"Non-Fiction\", \"subgenre\": \"History\", \"avg_goodreads_rating\": 4.29, \"started\": \"2019-03-22T00:00:00\", \"date\": \"2019-04-19T00:00:00\", \"faves\": null, \"year\": \"2019\", \"days_to_read\": 28, \"gender_description\": \"Male\"}, {\"order\": 14, \"title\": \"Heart Berries\", \"author\": \"Terese Marie Mailhot\", \"pages\": 143, \"url\": \"https://www.goodreads.com/book/show/35840657-heart-berries\", \"gender\": \"F\", \"type\": \"Non-Fiction\", \"subgenre\": \"Memoir\", \"avg_goodreads_rating\": 3.89, \"started\": \"2019-04-03T00:00:00\", \"date\": \"2019-04-06T00:00:00\", \"faves\": null, \"year\": \"2019\", \"days_to_read\": 3, \"gender_description\": \"Female\"}, {\"order\": 15, \"title\": \"Lake Success\", \"author\": \"Gary Schneyngart\", \"pages\": 339, \"url\": \"https://www.goodreads.com/book/show/36739942-lake-success\", \"gender\": \"M\", \"type\": \"Fiction\", \"subgenre\": \"Contemporary\", \"avg_goodreads_rating\": 3.64, \"started\": \"2019-04-21T00:00:00\", \"date\": \"2019-12-07T00:00:00\", \"faves\": null, \"year\": \"2019\", \"days_to_read\": 230, \"gender_description\": \"Male\"}, {\"order\": 16, \"title\": \"Normal People\", \"author\": \"Sally Rooney\", \"pages\": 266, \"url\": \"https://www.goodreads.com/book/show/37539457-normal-people\", \"gender\": \"F\", \"type\": \"Fiction\", \"subgenre\": \"Contemporary\", \"avg_goodreads_rating\": 3.89, \"started\": \"2019-04-20T00:00:00\", \"date\": \"2019-04-21T00:00:00\", \"faves\": \"Y\", \"year\": \"2019\", \"days_to_read\": 1, \"gender_description\": \"Female\"}, {\"order\": 17, \"title\": \"Less\", \"author\": \"Andrew Sean Greer\", \"pages\": 273, \"url\": \"https://www.goodreads.com/book/show/39927096-less\", \"gender\": \"M\", \"type\": \"Fiction\", \"subgenre\": \"Contemporary\", \"avg_goodreads_rating\": 3.76, \"started\": \"2019-04-25T00:00:00\", \"date\": \"2019-05-08T00:00:00\", \"faves\": null, \"year\": \"2019\", \"days_to_read\": 13, \"gender_description\": \"Male\"}, {\"order\": 18, \"title\": \"Nobody is Ever Missing\", \"author\": \"Catherine Lacey\", \"pages\": 244, \"url\": \"https://www.goodreads.com/book/show/18490560-nobody-is-ever-missing?from_search=true\", \"gender\": \"F\", \"type\": \"Fiction\", \"subgenre\": \"Contemporary\", \"avg_goodreads_rating\": 3.27, \"started\": \"2019-05-08T00:00:00\", \"date\": \"2019-05-13T00:00:00\", \"faves\": null, \"year\": \"2019\", \"days_to_read\": 5, \"gender_description\": \"Female\"}, {\"order\": 19, \"title\": \"The New Me\", \"author\": \"Halle Butler\", \"pages\": 208, \"url\": \"https://www.goodreads.com/book/show/36342706-the-new-me\", \"gender\": \"F\", \"type\": \"Fiction\", \"subgenre\": \"Contemporary\", \"avg_goodreads_rating\": 3.6, \"started\": \"2019-05-13T00:00:00\", \"date\": \"2019-05-18T00:00:00\", \"faves\": \"Nope\", \"year\": \"2019\", \"days_to_read\": 5, \"gender_description\": \"Female\"}, {\"order\": 20, \"title\": \"The Empathy Exams\", \"author\": \"Leslie Jamison\", \"pages\": 226, \"url\": \"https://www.goodreads.com/en/book/show/17934655\", \"gender\": \"F\", \"type\": \"Non-Fiction\", \"subgenre\": \"Essays\", \"avg_goodreads_rating\": 3.64, \"started\": \"2019-05-18T00:00:00\", \"date\": \"2019-05-27T00:00:00\", \"faves\": null, \"year\": \"2019\", \"days_to_read\": 9, \"gender_description\": \"Female\"}, {\"order\": 21, \"title\": \"Bad Blood\", \"author\": \"John Carreyou\", \"pages\": 339, \"url\": \"https://www.goodreads.com/book/show/37976541-bad-blood?from_search=true\", \"gender\": \"M\", \"type\": \"Non-Fiction\", \"subgenre\": \"True Crime\", \"avg_goodreads_rating\": 4.48, \"started\": \"2019-06-01T00:00:00\", \"date\": \"2019-06-12T00:00:00\", \"faves\": null, \"year\": \"2019\", \"days_to_read\": 11, \"gender_description\": \"Male\"}, {\"order\": 22, \"title\": \"The Recovering: Intoxication and its Aftermath\", \"author\": \"Leslie Jamison\", \"pages\": 545, \"url\": \"https://www.goodreads.com/book/show/35959632-the-recovering\", \"gender\": \"F\", \"type\": \"Non-Fiction\", \"subgenre\": \"Memoir\", \"avg_goodreads_rating\": 3.96, \"started\": \"2019-05-27T00:00:00\", \"date\": \"2019-06-01T00:00:00\", \"faves\": \"Y\", \"year\": \"2019\", \"days_to_read\": 5, \"gender_description\": \"Female\"}, {\"order\": 23, \"title\": \"Evvie Drake Starts Over\", \"author\": \"Linda Holmes\", \"pages\": 304, \"url\": \"https://www.goodreads.com/book/show/40514431-evvie-drake-starts-over?ac=1&from_search=true\", \"gender\": \"F\", \"type\": \"Fiction\", \"subgenre\": \"Young Adult\", \"avg_goodreads_rating\": 4.22, \"started\": \"2019-06-30T00:00:00\", \"date\": \"2019-06-30T00:00:00\", \"faves\": null, \"year\": \"2019\", \"days_to_read\": 0, \"gender_description\": \"Female\"}, {\"order\": 24, \"title\": \"How to Change Your Mind\", \"author\": \"Michael Pollan\", \"pages\": 480, \"url\": \"https://www.goodreads.com/book/show/36613747-how-to-change-your-mind?from_search=true\", \"gender\": \"M\", \"type\": \"Non-Fiction\", \"subgenre\": \"Science\", \"avg_goodreads_rating\": 4.31, \"started\": \"2019-06-12T00:00:00\", \"date\": \"2019-10-18T00:00:00\", \"faves\": null, \"year\": \"2019\", \"days_to_read\": 128, \"gender_description\": \"Male\"}, {\"order\": 25, \"title\": \"Trust Exercise\", \"author\": \"Susan Choi\", \"pages\": 257, \"url\": \"https://www.goodreads.com/en/book/show/40046059\", \"gender\": \"F\", \"type\": \"Fiction\", \"subgenre\": \"Contemporary\", \"avg_goodreads_rating\": 3.23, \"started\": \"2019-06-12T00:00:00\", \"date\": \"2019-06-14T00:00:00\", \"faves\": \"Y\", \"year\": \"2019\", \"days_to_read\": 2, \"gender_description\": \"Female\"}, {\"order\": 26, \"title\": \"Trick Mirror\", \"author\": \"Jia Tolentino\", \"pages\": 256, \"url\": \"https://www.goodreads.com/book/show/43126457-trick-mirror?from_search=true\", \"gender\": \"F\", \"type\": \"Non-Fiction\", \"subgenre\": \"Essays\", \"avg_goodreads_rating\": 4.33, \"started\": \"2019-06-15T00:00:00\", \"date\": \"2019-06-30T00:00:00\", \"faves\": \"Y\", \"year\": \"2019\", \"days_to_read\": 15, \"gender_description\": \"Female\"}, {\"order\": 27, \"title\": \"Territory of Light\", \"author\": \"Yuko Tsushima\", \"pages\": 122, \"url\": \"https://www.goodreads.com/book/show/33871745-territory-of-light\", \"gender\": \"F\", \"type\": \"Fiction\", \"subgenre\": \"Japanese Lit\", \"avg_goodreads_rating\": 3.66, \"started\": \"2019-07-01T00:00:00\", \"date\": \"2019-07-06T00:00:00\", \"faves\": null, \"year\": \"2019\", \"days_to_read\": 5, \"gender_description\": \"Female\"}, {\"order\": 28, \"title\": \"Unclaimed Baggage\", \"author\": \"Jen Doll\", \"pages\": 384, \"url\": \"https://www.goodreads.com/book/show/36949992-unclaimed-baggage?ac=1&from_search=true\", \"gender\": \"F\", \"type\": \"Fiction\", \"subgenre\": \"Young Adult\", \"avg_goodreads_rating\": 3.73, \"started\": \"2019-01-08T00:00:00\", \"date\": \"2019-07-11T00:00:00\", \"faves\": null, \"year\": \"2019\", \"days_to_read\": 184, \"gender_description\": \"Female\"}, {\"order\": 29, \"title\": \"Fleishman Is In Trouble\", \"author\": \"Taffy Brodesser-Akner\", \"pages\": 384, \"url\": \"https://www.goodreads.com/book/show/41880602-fleishman-is-in-trouble?ac=1&from_search=true\", \"gender\": \"F\", \"type\": \"Fiction\", \"subgenre\": \"Contemporary\", \"avg_goodreads_rating\": 4.1, \"started\": \"2019-06-17T00:00:00\", \"date\": \"2019-06-28T00:00:00\", \"faves\": \"Y\", \"year\": \"2019\", \"days_to_read\": 11, \"gender_description\": \"Female\"}, {\"order\": 30, \"title\": \"Lifespan\", \"author\": \"David Sinclair\", \"pages\": 432, \"url\": \"https://www.goodreads.com/book/show/43723901-lifespan?ac=1&from_search=true\", \"gender\": \"M\", \"type\": \"Non-Fiction\", \"subgenre\": \"Science\", \"avg_goodreads_rating\": 4.27, \"started\": \"2019-07-01T00:00:00\", \"date\": \"2019-07-18T00:00:00\", \"faves\": null, \"year\": \"2019\", \"days_to_read\": 17, \"gender_description\": \"Male\"}, {\"order\": 31, \"title\": \"Uncanny Valley\", \"author\": \"Anna Wiener\", \"pages\": 304, \"url\": \"https://www.goodreads.com/book/show/45186565-uncanny-valley?ac=1&from_search=true\", \"gender\": \"F\", \"type\": \"Non-Fiction\", \"subgenre\": \"Memoir\", \"avg_goodreads_rating\": 4.2, \"started\": \"2019-07-19T00:00:00\", \"date\": \"2019-07-21T00:00:00\", \"faves\": \"y\", \"year\": \"2019\", \"days_to_read\": 2, \"gender_description\": \"Female\"}, {\"order\": 32, \"title\": \"Hit Makers\", \"author\": \"Derek Thompson\", \"pages\": 352, \"url\": \"https://www.goodreads.com/book/show/30901608-hit-makers\", \"gender\": \"M\", \"type\": \"Non-Fiction\", \"subgenre\": \"Pop Culture\", \"avg_goodreads_rating\": 3.95, \"started\": \"2019-07-20T00:00:00\", \"date\": \"2019-08-06T00:00:00\", \"faves\": null, \"year\": \"2019\", \"days_to_read\": 17, \"gender_description\": \"Male\"}, {\"order\": 33, \"title\": \"Genghis Khan and the Making of the Modern World\", \"author\": \"Jack Weatherford\", \"pages\": 352, \"url\": \"https://www.goodreads.com/book/show/40718726-genghis-khan-and-the-making-of-the-modern-world?ac=1&from_search=true\", \"gender\": \"M\", \"type\": \"Non-Fiction\", \"subgenre\": \"History\", \"avg_goodreads_rating\": 4.02, \"started\": \"2019-07-25T00:00:00\", \"date\": \"2019-09-07T00:00:00\", \"faves\": null, \"year\": \"2019\", \"days_to_read\": 44, \"gender_description\": \"Male\"}, {\"order\": 34, \"title\": \"For the Love of Men: A New Vision for Mindful Masculinity\", \"author\": \"Liz Plank\", \"pages\": 300, \"url\": \"https://www.goodreads.com/book/show/43263540-for-the-love-of-men\", \"gender\": \"F\", \"type\": \"Non-Fiction\", \"subgenre\": \"Feminism\", \"avg_goodreads_rating\": 4.38, \"started\": \"2019-07-23T00:00:00\", \"date\": \"2019-08-02T00:00:00\", \"faves\": null, \"year\": \"2019\", \"days_to_read\": 10, \"gender_description\": \"Female\"}, {\"order\": 35, \"title\": \"Three Women\", \"author\": \"Lisa Taddeo\", \"pages\": 304, \"url\": \"https://www.goodreads.com/book/show/42201100-three-women\", \"gender\": \"F\", \"type\": \"Non-Fiction\", \"subgenre\": \"Feminism\", \"avg_goodreads_rating\": 3.87, \"started\": \"2019-08-15T00:00:00\", \"date\": \"2019-08-22T00:00:00\", \"faves\": \"y\", \"year\": \"2019\", \"days_to_read\": 7, \"gender_description\": \"Female\"}, {\"order\": 36, \"title\": \"Brave New World\", \"author\": \"Aldous Huxley\", \"pages\": 288, \"url\": \"https://www.goodreads.com/book/show/5129.Brave_New_World?ac=1&from_search=true\", \"gender\": \"M\", \"type\": \"Fiction\", \"subgenre\": \"Science \", \"avg_goodreads_rating\": 3.98, \"started\": \"2019-09-15T00:00:00\", \"date\": \"2019-09-16T00:00:00\", \"faves\": null, \"year\": \"2019\", \"days_to_read\": 1, \"gender_description\": \"Male\"}, {\"order\": 37, \"title\": \"Permanent Record\", \"author\": \"Mary HK Choi\", \"pages\": 400, \"url\": \"https://www.goodreads.com/book/show/43562239-permanent-record?from_search=true\", \"gender\": \"F\", \"type\": \"Fiction\", \"subgenre\": \"Young Adult\", \"avg_goodreads_rating\": 3.84, \"started\": \"2019-09-07T00:00:00\", \"date\": \"2019-09-11T00:00:00\", \"faves\": null, \"year\": \"2019\", \"days_to_read\": 4, \"gender_description\": \"Female\"}, {\"order\": 38, \"title\": \"I Was Their American Dream\", \"author\": \"Malaka Gharib\", \"pages\": 160, \"url\": \"https://www.goodreads.com/book/show/40909448-i-was-their-american-dream?from_search=true\", \"gender\": \"F\", \"type\": \"Non-Fiction\", \"subgenre\": \"Graphic Novel\", \"avg_goodreads_rating\": 4.3, \"started\": \"2019-09-05T00:00:00\", \"date\": \"2019-09-12T00:00:00\", \"faves\": null, \"year\": \"2019\", \"days_to_read\": 7, \"gender_description\": \"Female\"}, {\"order\": 39, \"title\": \"Men Without Women\", \"author\": \"Haruki Murakami\", \"pages\": 242, \"url\": \"https://www.goodreads.com/book/show/31950871-men-without-women\", \"gender\": \"M\", \"type\": \"Fiction\", \"subgenre\": \"Short Stories\", \"avg_goodreads_rating\": 3.77, \"started\": \"2019-09-18T00:00:00\", \"date\": \"2019-09-25T00:00:00\", \"faves\": null, \"year\": \"2019\", \"days_to_read\": 7, \"gender_description\": \"Male\"}, {\"order\": 40, \"title\": \"Make it Scream Make it Burn\", \"author\": \"Leslie Jamison\", \"pages\": 272, \"url\": \"https://www.goodreads.com/book/show/43521617-make-it-scream-make-it-burn?from_search=true\", \"gender\": \"F\", \"type\": \"Non-Fiction\", \"subgenre\": \"Essays\", \"avg_goodreads_rating\": 4.13, \"started\": \"2019-10-02T00:00:00\", \"date\": \"2019-10-06T00:00:00\", \"faves\": null, \"year\": \"2019\", \"days_to_read\": 4, \"gender_description\": \"Female\"}, {\"order\": 41, \"title\": \"How to Talk So Your Kids Will Listen\", \"author\": \"Adele Faber and Elaine Mazlish\", \"pages\": 368, \"url\": \"https://www.goodreads.com/book/show/12371502-how-to-talk-so-kids-will-listen-listen-so-kids-will-talk\", \"gender\": \"F\", \"type\": \"Non-Fiction\", \"subgenre\": \"Parenting\", \"avg_goodreads_rating\": 4.26, \"started\": \"2019-09-28T00:00:00\", \"date\": \"2019-10-02T00:00:00\", \"faves\": \"Y\", \"year\": \"2019\", \"days_to_read\": 4, \"gender_description\": \"Female\"}, {\"order\": 43, \"title\": \"Maybe You Should Talk to Somebody\", \"author\": \"Lori Gottlieb\", \"pages\": 432, \"url\": \"https://www.goodreads.com/book/show/37570546-maybe-you-should-talk-to-someone?from_search=true\", \"gender\": \"F\", \"type\": \"Non-Fiction\", \"subgenre\": \"Memoir\", \"avg_goodreads_rating\": 4.4, \"started\": \"2019-10-18T00:00:00\", \"date\": \"2019-11-25T00:00:00\", \"faves\": \"Y\", \"year\": \"2019\", \"days_to_read\": 38, \"gender_description\": \"Female\"}, {\"order\": 44, \"title\": \"Think Like Your Editor\", \"author\": \"Susan Rabiner\", \"pages\": 288, \"url\": \"https://www.goodreads.com/book/show/18988615-thinking-like-your-editor?utm_content=review_cta_book_image&utm_medium=email&utm_source=bookend\", \"gender\": \"F\", \"type\": \"Non-Fiction\", \"subgenre\": \"Writing\", \"avg_goodreads_rating\": 4.04, \"started\": \"2019-10-24T00:00:00\", \"date\": \"2019-10-28T00:00:00\", \"faves\": null, \"year\": \"2019\", \"days_to_read\": 4, \"gender_description\": \"Female\"}, {\"order\": 45, \"title\": \"Kim Ji Young Born 1982\", \"author\": \"Cho Nam-joo\", \"pages\": 144, \"url\": \"https://www.goodreads.com/book/show/47320138-kim-ji-young-born-1982?ac=1&from_search=true\", \"gender\": \"F\", \"type\": \"Fiction\", \"subgenre\": \"Feminism\", \"avg_goodreads_rating\": 4.17, \"started\": \"2019-10-28T00:00:00\", \"date\": \"2019-10-31T00:00:00\", \"faves\": null, \"year\": \"2019\", \"days_to_read\": 3, \"gender_description\": \"Female\"}, {\"order\": 46, \"title\": \"Superman vs the KKK\", \"author\": \"Rick Bowers\", \"pages\": 160, \"url\": \"https://www.goodreads.com/book/show/11407829-superman-versus-the-ku-klux-klan?from_search=true\", \"gender\": \"M\", \"type\": \"Non-Fiction\", \"subgenre\": \"History\", \"avg_goodreads_rating\": 3.66, \"started\": \"2019-10-28T00:00:00\", \"date\": \"2019-10-29T00:00:00\", \"faves\": null, \"year\": \"2019\", \"days_to_read\": 1, \"gender_description\": \"Male\"}, {\"order\": 47, \"title\": \"The Likeability Trap\", \"author\": \"Alicia Menendez\", \"pages\": 240, \"url\": \"https://www.goodreads.com/book/show/46408581-the-likeability-trap?from_search=true&qid=oURYa3fiGo&rank=1\", \"gender\": \"F\", \"type\": \"Non-Fiction\", \"subgenre\": \"Feminism\", \"avg_goodreads_rating\": 3.7, \"started\": \"2019-11-08T00:00:00\", \"date\": \"2019-11-13T00:00:00\", \"faves\": null, \"year\": \"2019\", \"days_to_read\": 5, \"gender_description\": \"Female\"}, {\"order\": 48, \"title\": \"A Short HIstory of Progress\", \"author\": \"Ronald Wright\", \"pages\": 224, \"url\": \"https://www.goodreads.com/book/show/331227.A_Short_History_of_Progress?from_search=true&qid=supt2TGSOt&rank=1\", \"gender\": \"M\", \"type\": \"Non-Fiction\", \"subgenre\": \"History\", \"avg_goodreads_rating\": 4.1, \"started\": \"2019-11-13T00:00:00\", \"date\": \"2019-11-29T00:00:00\", \"faves\": null, \"year\": \"2019\", \"days_to_read\": 16, \"gender_description\": \"Male\"}, {\"order\": 49, \"title\": \"The Last Romantics\", \"author\": \"Tara Conklin\", \"pages\": 368, \"url\": \"https://www.goodreads.com/book/show/35068465-the-last-romantics?ac=1&from_search=true&qid=dert731j6D&rank=1\", \"gender\": \"F\", \"type\": \"Fiction\", \"subgenre\": \"Contemporary\", \"avg_goodreads_rating\": 3.78, \"started\": \"2019-11-29T00:00:00\", \"date\": \"2019-12-02T00:00:00\", \"faves\": \"Y\", \"year\": \"2019\", \"days_to_read\": 3, \"gender_description\": \"Female\"}, {\"order\": 50, \"title\": \"Four Soldiers\", \"author\": \"Hubert Mingarelli\", \"pages\": 160, \"url\": \"https://www.goodreads.com/book/show/41557466-four-soldiers?from_search=true&qid=tFOQALgbWg&rank=1\", \"gender\": \"F\", \"type\": \"Fiction\", \"subgenre\": \"Historical\", \"avg_goodreads_rating\": 3.78, \"started\": \"2019-11-29T00:00:00\", \"date\": \"2019-12-03T00:00:00\", \"faves\": null, \"year\": \"2019\", \"days_to_read\": 4, \"gender_description\": \"Female\"}, {\"order\": 51, \"title\": \"Working\", \"author\": \"Robert Caro\", \"pages\": 231, \"url\": \"https://www.goodreads.com/book/show/43205240-working?from_search=true&qid=51xloY5uTL&rank=1\", \"gender\": \"M\", \"type\": \"Non-Fiction\", \"subgenre\": \"Writing\", \"avg_goodreads_rating\": 4.43, \"started\": \"2019-12-15T00:00:00\", \"date\": \"2019-12-18T00:00:00\", \"faves\": null, \"year\": \"2019\", \"days_to_read\": 3, \"gender_description\": \"Male\"}, {\"order\": 52, \"title\": \"The Incendiaries\", \"author\": \"R.O. Kwon\", \"pages\": 214, \"url\": \"https://www.goodreads.com/book/show/36679056-the-incendiaries\", \"gender\": \"F\", \"type\": \"Fiction\", \"subgenre\": \"Contemporary\", \"avg_goodreads_rating\": 3.28, \"started\": \"2019-12-19T00:00:00\", \"date\": \"2019-12-19T00:00:00\", \"faves\": null, \"year\": \"2019\", \"days_to_read\": 0, \"gender_description\": \"Female\"}, {\"order\": 53, \"title\": \"Wedding Toasts I'll Never Give\", \"author\": \"Ada Calhoun\", \"pages\": 192, \"url\": \"https://www.goodreads.com/book/show/36236126-wedding-toasts-i-ll-never-give\", \"gender\": \"F\", \"type\": \"Non-Fiction\", \"subgenre\": \"Essays\", \"avg_goodreads_rating\": 3.86, \"started\": \"2019-12-26T00:00:00\", \"date\": \"2019-12-27T00:00:00\", \"faves\": null, \"year\": \"2019\", \"days_to_read\": 1, \"gender_description\": \"Female\"}]}};\n",
       "const opt = {};\n",
       "const type = \"vega-lite\";\n",
       "const id = \"54f465a3-e59f-4b1e-9f11-dda2026f65c5\";\n",
       "\n",
       "const output_area = this;\n",
       "\n",
       "require([\"nbextensions/jupyter-vega/index\"], function(vega) {\n",
       "  const target = document.createElement(\"div\");\n",
       "  target.id = id;\n",
       "  target.className = \"vega-embed\";\n",
       "\n",
       "  const style = document.createElement(\"style\");\n",
       "  style.textContent = [\n",
       "    \".vega-embed .error p {\",\n",
       "    \"  color: firebrick;\",\n",
       "    \"  font-size: 14px;\",\n",
       "    \"}\",\n",
       "  ].join(\"\\\\n\");\n",
       "\n",
       "  // element is a jQuery wrapped DOM element inside the output area\n",
       "  // see http://ipython.readthedocs.io/en/stable/api/generated/\\\n",
       "  // IPython.display.html#IPython.display.Javascript.__init__\n",
       "  element[0].appendChild(target);\n",
       "  element[0].appendChild(style);\n",
       "\n",
       "  vega.render(\"#\" + id, spec, type, opt, output_area);\n",
       "}, function (err) {\n",
       "  if (err.requireType !== \"scripterror\") {\n",
       "    throw(err);\n",
       "  }\n",
       "});\n"
      ],
      "text/plain": [
       "<vega.vegalite.VegaLite at 0x12c363860>"
      ]
     },
     "metadata": {
      "jupyter-vega": "#54f465a3-e59f-4b1e-9f11-dda2026f65c5"
     },
     "output_type": "display_data"
    },
    {
     "data": {
      "text/plain": []
     },
     "execution_count": 34,
     "metadata": {},
     "output_type": "execute_result"
    },
    {
     "data": {
      "image/png": "[encoded data removed]"
     },
     "metadata": {
      "jupyter-vega": "#54f465a3-e59f-4b1e-9f11-dda2026f65c5"
     },
     "output_type": "display_data"
    }
   ],
   "source": [
    "alt.Chart(books).mark_tick(size=20).encode(\n",
    "    x=alt.X('date',axis=alt.Axis(tickCount=12, format='%b', tickColor='#ffffff'), title=''),\n",
    "    y=alt.Y('gender_description',axis=alt.Axis(tickCount=0, tickColor='#ffffff'), title=' '),\n",
    "    color=alt.Color('gender_description', legend=None)\n",
    ").configure_axis(\n",
    "    grid=False).properties(height=100, width=320)"
   ]
  },
  {
   "cell_type": "code",
   "execution_count": 33,
   "metadata": {},
   "outputs": [
    {
     "data": {
      "application/javascript": [
       "const spec = {\"config\": {\"view\": {\"width\": 800, \"height\": 450}, \"background\": \"#ffffff\", \"title\": {\"anchor\": \"start\", \"font\": \"Benton Gothic Bold, sans\", \"fontColor\": \"#000000\", \"fontSize\": 22, \"fontWeight\": \"normal\"}, \"arc\": {\"fill\": \"#82c6df\"}, \"area\": {\"fill\": \"#82c6df\"}, \"line\": {\"stroke\": \"#82c6df\", \"strokeWidth\": 3}, \"path\": {\"stroke\": \"#82c6df\"}, \"rect\": {\"fill\": \"#82c6df\"}, \"shape\": {\"stroke\": \"#82c6df\"}, \"bar\": {\"fill\": \"#82c6df\"}, \"point\": {\"stroke\": \"#82c6df\"}, \"symbol\": {\"fill\": \"#82c6df\", \"size\": 30}, \"axis\": {\"titleFont\": \"Benton Gothic Bold, sans\", \"titleFontSize\": 13, \"titleFontWeight\": \"normal\", \"labelFont\": \"Benton Gothic, sans\", \"labelFontSize\": 11.5, \"labelFontWeight\": \"normal\", \"grid\": false}, \"axisX\": {\"labelAngle\": 0, \"labelPadding\": 4, \"tickSize\": 3}, \"axisY\": {\"labelBaseline\": \"middle\", \"maxExtent\": 45, \"minExtent\": 45, \"tickSize\": 2, \"titleAlign\": \"left\", \"titleAngle\": 0, \"titleX\": -45, \"titleY\": -11}, \"legend\": {\"titleFont\": \"Benton Gothic Bold, sans\", \"titleFontSize\": 13, \"titleFontWeight\": \"normal\", \"symbolType\": \"square\", \"labelFont\": \"Benton Gothic, sans\", \"labelFontSize\": 11.5}, \"range\": {\"category\": [\"#3580b1\", \"#ec8431\", \"#ab7fb4\", \"#c89d29\", \"#adc839\", \"#829eb1\"], \"diverging\": [\"#e68a4f\", \"#f4bb6a\", \"#f9e39c\", \"#dadfe2\", \"#a6b7c6\", \"#849eae\"], \"heatmap\": [\"#fbf2c7\", \"#f9e39c\", \"#f8d36e\", \"#f4bb6a\", \"#e68a4f\", \"#d15a40\", \"#ab4232\"], \"ordinal\": [\"#fbf2c7\", \"#f9e39c\", \"#f8d36e\", \"#f4bb6a\", \"#e68a4f\", \"#d15a40\", \"#ab4232\"], \"ramp\": [\"#fbf2c7\", \"#f9e39c\", \"#f8d36e\", \"#f4bb6a\", \"#e68a4f\", \"#d15a40\", \"#ab4232\"]}}, \"data\": {\"name\": \"data-7c8b8837e3db213cb2339b0fa7827d31\"}, \"mark\": {\"type\": \"tick\", \"size\": 20}, \"encoding\": {\"color\": {\"type\": \"nominal\", \"field\": \"type\", \"legend\": null}, \"x\": {\"type\": \"temporal\", \"axis\": {\"format\": \"%b\", \"tickColor\": \"#ffffff\", \"tickCount\": 12}, \"field\": \"date\", \"title\": \"\"}, \"y\": {\"type\": \"nominal\", \"axis\": {\"tickColor\": \"#ffffff\", \"tickCount\": 0}, \"field\": \"type\", \"title\": \" \"}}, \"height\": 100, \"width\": 320, \"$schema\": \"https://vega.github.io/schema/vega-lite/v3.4.0.json\", \"datasets\": {\"data-7c8b8837e3db213cb2339b0fa7827d31\": [{\"order\": 1, \"title\": \"Brotopia\", \"author\": \"Emily Chang\", \"pages\": 317, \"url\": \"https://www.goodreads.com/book/show/36288143-brotopia\", \"gender\": \"F\", \"type\": \"Non-Fiction\", \"subgenre\": \"Business\", \"avg_goodreads_rating\": 4.04, \"started\": \"2018-12-26T00:00:00\", \"date\": \"2019-01-06T00:00:00\", \"faves\": null, \"year\": \"2019\", \"days_to_read\": 11, \"gender_description\": \"Female\"}, {\"order\": 2, \"title\": \"The Human Stain\", \"author\": \"Philip Roth\", \"pages\": 384, \"url\": \"https://www.goodreads.com/book/show/11734.The_Human_Stain?from_search=true\", \"gender\": \"M\", \"type\": \"Fiction\", \"subgenre\": \"Literature\", \"avg_goodreads_rating\": 3.87, \"started\": \"2019-01-06T00:00:00\", \"date\": \"2019-01-16T00:00:00\", \"faves\": \"Y\", \"year\": \"2019\", \"days_to_read\": 10, \"gender_description\": \"Male\"}, {\"order\": 3, \"title\": \"You Know You Want This\", \"author\": \"Kristen Roupenian\", \"pages\": 225, \"url\": \"https://www.goodreads.com/book/show/40539045-you-know-you-want-this\", \"gender\": \"F\", \"type\": \"Fiction\", \"subgenre\": \"Short Stories\", \"avg_goodreads_rating\": 3.86, \"started\": \"2019-01-16T00:00:00\", \"date\": \"2019-01-19T00:00:00\", \"faves\": null, \"year\": \"2019\", \"days_to_read\": 3, \"gender_description\": \"Female\"}, {\"order\": 4, \"title\": \"Why Buddhism is True\", \"author\": \"Robert Wright\", \"pages\": 336, \"url\": \"https://www.goodreads.com/book/show/32895535-why-buddhism-is-true?from_search=true\", \"gender\": \"M\", \"type\": \"Non-Fiction\", \"subgenre\": \"Religion\", \"avg_goodreads_rating\": 4.05, \"started\": \"2019-01-18T00:00:00\", \"date\": \"2019-04-02T00:00:00\", \"faves\": null, \"year\": \"2019\", \"days_to_read\": 74, \"gender_description\": \"Male\"}, {\"order\": 5, \"title\": \"If Beale Street Could Talk\", \"author\": \"James Baldwin\", \"pages\": 197, \"url\": \"https://www.goodreads.com/book/show/38463.If_Beale_Street_Could_Talk\", \"gender\": \"M\", \"type\": \"Fiction\", \"subgenre\": \"Classics\", \"avg_goodreads_rating\": 4.29, \"started\": \"2019-01-22T00:00:00\", \"date\": \"2019-01-28T00:00:00\", \"faves\": null, \"year\": \"2019\", \"days_to_read\": 6, \"gender_description\": \"Male\"}, {\"order\": 6, \"title\": \"Nobody Cares\", \"author\": \"Anne Donahue\", \"pages\": 240, \"url\": \"https://www.goodreads.com/book/show/36360167-nobody-cares\", \"gender\": \"F\", \"type\": \"Non-Fiction\", \"subgenre\": \"Essays\", \"avg_goodreads_rating\": 3.67, \"started\": \"2019-02-03T00:00:00\", \"date\": \"2019-02-25T00:00:00\", \"faves\": null, \"year\": \"2019\", \"days_to_read\": 22, \"gender_description\": \"Female\"}, {\"order\": 7, \"title\": \"Acts of Infidelity\", \"author\": \"Lena Andersson\", \"pages\": 366, \"url\": \"https://www.goodreads.com/book/show/22601256-utan-personligt-ansvar\", \"gender\": \"F\", \"type\": \"Fiction\", \"subgenre\": \"Swedish Lit\", \"avg_goodreads_rating\": 3.66, \"started\": \"2019-02-01T00:00:00\", \"date\": \"2019-02-08T00:00:00\", \"faves\": null, \"year\": \"2019\", \"days_to_read\": 7, \"gender_description\": \"Female\"}, {\"order\": 8, \"title\": \"There Will Be No Miracles Here\", \"author\": \"Casey Gerald\", \"pages\": 394, \"url\": \"https://www.goodreads.com/book/show/38650651-there-will-be-no-miracles-here?from_search=true\", \"gender\": \"M\", \"type\": \"Non-Fiction\", \"subgenre\": \"Memoir\", \"avg_goodreads_rating\": 3.72, \"started\": \"2019-01-27T00:00:00\", \"date\": \"2019-02-11T00:00:00\", \"faves\": null, \"year\": \"2019\", \"days_to_read\": 15, \"gender_description\": \"Male\"}, {\"order\": 9, \"title\": \"The Unbearable Lightness of Being\", \"author\": \"Milan Kundera\", \"pages\": 320, \"url\": \"https://www.goodreads.com/book/show/9717.The_Unbearable_Lightness_of_Being?from_search=true\", \"gender\": \"M\", \"type\": \"Fiction\", \"subgenre\": \"Classics\", \"avg_goodreads_rating\": 4.09, \"started\": \"2019-02-16T00:00:00\", \"date\": \"2019-02-23T00:00:00\", \"faves\": null, \"year\": \"2019\", \"days_to_read\": 7, \"gender_description\": \"Male\"}, {\"order\": 10, \"title\": \"The Beauty Myth\", \"author\": \"Naomi Wolf\", \"pages\": 368, \"url\": \"https://www.goodreads.com/book/show/39926.The_Beauty_Myth\", \"gender\": \"F\", \"type\": \"Non-Fiction\", \"subgenre\": \"Feminism\", \"avg_goodreads_rating\": 3.9, \"started\": \"2019-02-12T00:00:00\", \"date\": \"2019-11-04T00:00:00\", \"faves\": null, \"year\": \"2019\", \"days_to_read\": 265, \"gender_description\": \"Female\"}, {\"order\": 11, \"title\": \"LOT\", \"author\": \"Bryan Washington\", \"pages\": 240, \"url\": \"https://www.goodreads.com/book/show/40749395-lot\", \"gender\": \"M\", \"type\": \"Fiction\", \"subgenre\": \"Short Stories\", \"avg_goodreads_rating\": 3.74, \"started\": \"2019-02-28T00:00:00\", \"date\": \"2019-03-15T00:00:00\", \"faves\": \"Y\", \"year\": \"2019\", \"days_to_read\": 15, \"gender_description\": \"Male\"}, {\"order\": 12, \"title\": \"Oculus\", \"author\": \"Sally Wen Mao\", \"pages\": 119, \"url\": \"https://www.goodreads.com/book/show/40121999-oculus\", \"gender\": \"F\", \"type\": \"Poetry\", \"subgenre\": \"Contemporary\", \"avg_goodreads_rating\": 4.22, \"started\": \"2019-03-03T00:00:00\", \"date\": \"2019-03-11T00:00:00\", \"faves\": null, \"year\": \"2019\", \"days_to_read\": 8, \"gender_description\": \"Female\"}, {\"order\": 13, \"title\": \"Homo Deus: A Brief History of Tomorrow\", \"author\": \"Yuval Harari\", \"pages\": 450, \"url\": \"https://www.goodreads.com/book/show/31138556-homo-deus?from_search=true\", \"gender\": \"M\", \"type\": \"Non-Fiction\", \"subgenre\": \"History\", \"avg_goodreads_rating\": 4.29, \"started\": \"2019-03-22T00:00:00\", \"date\": \"2019-04-19T00:00:00\", \"faves\": null, \"year\": \"2019\", \"days_to_read\": 28, \"gender_description\": \"Male\"}, {\"order\": 14, \"title\": \"Heart Berries\", \"author\": \"Terese Marie Mailhot\", \"pages\": 143, \"url\": \"https://www.goodreads.com/book/show/35840657-heart-berries\", \"gender\": \"F\", \"type\": \"Non-Fiction\", \"subgenre\": \"Memoir\", \"avg_goodreads_rating\": 3.89, \"started\": \"2019-04-03T00:00:00\", \"date\": \"2019-04-06T00:00:00\", \"faves\": null, \"year\": \"2019\", \"days_to_read\": 3, \"gender_description\": \"Female\"}, {\"order\": 15, \"title\": \"Lake Success\", \"author\": \"Gary Schneyngart\", \"pages\": 339, \"url\": \"https://www.goodreads.com/book/show/36739942-lake-success\", \"gender\": \"M\", \"type\": \"Fiction\", \"subgenre\": \"Contemporary\", \"avg_goodreads_rating\": 3.64, \"started\": \"2019-04-21T00:00:00\", \"date\": \"2019-12-07T00:00:00\", \"faves\": null, \"year\": \"2019\", \"days_to_read\": 230, \"gender_description\": \"Male\"}, {\"order\": 16, \"title\": \"Normal People\", \"author\": \"Sally Rooney\", \"pages\": 266, \"url\": \"https://www.goodreads.com/book/show/37539457-normal-people\", \"gender\": \"F\", \"type\": \"Fiction\", \"subgenre\": \"Contemporary\", \"avg_goodreads_rating\": 3.89, \"started\": \"2019-04-20T00:00:00\", \"date\": \"2019-04-21T00:00:00\", \"faves\": \"Y\", \"year\": \"2019\", \"days_to_read\": 1, \"gender_description\": \"Female\"}, {\"order\": 17, \"title\": \"Less\", \"author\": \"Andrew Sean Greer\", \"pages\": 273, \"url\": \"https://www.goodreads.com/book/show/39927096-less\", \"gender\": \"M\", \"type\": \"Fiction\", \"subgenre\": \"Contemporary\", \"avg_goodreads_rating\": 3.76, \"started\": \"2019-04-25T00:00:00\", \"date\": \"2019-05-08T00:00:00\", \"faves\": null, \"year\": \"2019\", \"days_to_read\": 13, \"gender_description\": \"Male\"}, {\"order\": 18, \"title\": \"Nobody is Ever Missing\", \"author\": \"Catherine Lacey\", \"pages\": 244, \"url\": \"https://www.goodreads.com/book/show/18490560-nobody-is-ever-missing?from_search=true\", \"gender\": \"F\", \"type\": \"Fiction\", \"subgenre\": \"Contemporary\", \"avg_goodreads_rating\": 3.27, \"started\": \"2019-05-08T00:00:00\", \"date\": \"2019-05-13T00:00:00\", \"faves\": null, \"year\": \"2019\", \"days_to_read\": 5, \"gender_description\": \"Female\"}, {\"order\": 19, \"title\": \"The New Me\", \"author\": \"Halle Butler\", \"pages\": 208, \"url\": \"https://www.goodreads.com/book/show/36342706-the-new-me\", \"gender\": \"F\", \"type\": \"Fiction\", \"subgenre\": \"Contemporary\", \"avg_goodreads_rating\": 3.6, \"started\": \"2019-05-13T00:00:00\", \"date\": \"2019-05-18T00:00:00\", \"faves\": \"Nope\", \"year\": \"2019\", \"days_to_read\": 5, \"gender_description\": \"Female\"}, {\"order\": 20, \"title\": \"The Empathy Exams\", \"author\": \"Leslie Jamison\", \"pages\": 226, \"url\": \"https://www.goodreads.com/en/book/show/17934655\", \"gender\": \"F\", \"type\": \"Non-Fiction\", \"subgenre\": \"Essays\", \"avg_goodreads_rating\": 3.64, \"started\": \"2019-05-18T00:00:00\", \"date\": \"2019-05-27T00:00:00\", \"faves\": null, \"year\": \"2019\", \"days_to_read\": 9, \"gender_description\": \"Female\"}, {\"order\": 21, \"title\": \"Bad Blood\", \"author\": \"John Carreyou\", \"pages\": 339, \"url\": \"https://www.goodreads.com/book/show/37976541-bad-blood?from_search=true\", \"gender\": \"M\", \"type\": \"Non-Fiction\", \"subgenre\": \"True Crime\", \"avg_goodreads_rating\": 4.48, \"started\": \"2019-06-01T00:00:00\", \"date\": \"2019-06-12T00:00:00\", \"faves\": null, \"year\": \"2019\", \"days_to_read\": 11, \"gender_description\": \"Male\"}, {\"order\": 22, \"title\": \"The Recovering: Intoxication and its Aftermath\", \"author\": \"Leslie Jamison\", \"pages\": 545, \"url\": \"https://www.goodreads.com/book/show/35959632-the-recovering\", \"gender\": \"F\", \"type\": \"Non-Fiction\", \"subgenre\": \"Memoir\", \"avg_goodreads_rating\": 3.96, \"started\": \"2019-05-27T00:00:00\", \"date\": \"2019-06-01T00:00:00\", \"faves\": \"Y\", \"year\": \"2019\", \"days_to_read\": 5, \"gender_description\": \"Female\"}, {\"order\": 23, \"title\": \"Evvie Drake Starts Over\", \"author\": \"Linda Holmes\", \"pages\": 304, \"url\": \"https://www.goodreads.com/book/show/40514431-evvie-drake-starts-over?ac=1&from_search=true\", \"gender\": \"F\", \"type\": \"Fiction\", \"subgenre\": \"Young Adult\", \"avg_goodreads_rating\": 4.22, \"started\": \"2019-06-30T00:00:00\", \"date\": \"2019-06-30T00:00:00\", \"faves\": null, \"year\": \"2019\", \"days_to_read\": 0, \"gender_description\": \"Female\"}, {\"order\": 24, \"title\": \"How to Change Your Mind\", \"author\": \"Michael Pollan\", \"pages\": 480, \"url\": \"https://www.goodreads.com/book/show/36613747-how-to-change-your-mind?from_search=true\", \"gender\": \"M\", \"type\": \"Non-Fiction\", \"subgenre\": \"Science\", \"avg_goodreads_rating\": 4.31, \"started\": \"2019-06-12T00:00:00\", \"date\": \"2019-10-18T00:00:00\", \"faves\": null, \"year\": \"2019\", \"days_to_read\": 128, \"gender_description\": \"Male\"}, {\"order\": 25, \"title\": \"Trust Exercise\", \"author\": \"Susan Choi\", \"pages\": 257, \"url\": \"https://www.goodreads.com/en/book/show/40046059\", \"gender\": \"F\", \"type\": \"Fiction\", \"subgenre\": \"Contemporary\", \"avg_goodreads_rating\": 3.23, \"started\": \"2019-06-12T00:00:00\", \"date\": \"2019-06-14T00:00:00\", \"faves\": \"Y\", \"year\": \"2019\", \"days_to_read\": 2, \"gender_description\": \"Female\"}, {\"order\": 26, \"title\": \"Trick Mirror\", \"author\": \"Jia Tolentino\", \"pages\": 256, \"url\": \"https://www.goodreads.com/book/show/43126457-trick-mirror?from_search=true\", \"gender\": \"F\", \"type\": \"Non-Fiction\", \"subgenre\": \"Essays\", \"avg_goodreads_rating\": 4.33, \"started\": \"2019-06-15T00:00:00\", \"date\": \"2019-06-30T00:00:00\", \"faves\": \"Y\", \"year\": \"2019\", \"days_to_read\": 15, \"gender_description\": \"Female\"}, {\"order\": 27, \"title\": \"Territory of Light\", \"author\": \"Yuko Tsushima\", \"pages\": 122, \"url\": \"https://www.goodreads.com/book/show/33871745-territory-of-light\", \"gender\": \"F\", \"type\": \"Fiction\", \"subgenre\": \"Japanese Lit\", \"avg_goodreads_rating\": 3.66, \"started\": \"2019-07-01T00:00:00\", \"date\": \"2019-07-06T00:00:00\", \"faves\": null, \"year\": \"2019\", \"days_to_read\": 5, \"gender_description\": \"Female\"}, {\"order\": 28, \"title\": \"Unclaimed Baggage\", \"author\": \"Jen Doll\", \"pages\": 384, \"url\": \"https://www.goodreads.com/book/show/36949992-unclaimed-baggage?ac=1&from_search=true\", \"gender\": \"F\", \"type\": \"Fiction\", \"subgenre\": \"Young Adult\", \"avg_goodreads_rating\": 3.73, \"started\": \"2019-01-08T00:00:00\", \"date\": \"2019-07-11T00:00:00\", \"faves\": null, \"year\": \"2019\", \"days_to_read\": 184, \"gender_description\": \"Female\"}, {\"order\": 29, \"title\": \"Fleishman Is In Trouble\", \"author\": \"Taffy Brodesser-Akner\", \"pages\": 384, \"url\": \"https://www.goodreads.com/book/show/41880602-fleishman-is-in-trouble?ac=1&from_search=true\", \"gender\": \"F\", \"type\": \"Fiction\", \"subgenre\": \"Contemporary\", \"avg_goodreads_rating\": 4.1, \"started\": \"2019-06-17T00:00:00\", \"date\": \"2019-06-28T00:00:00\", \"faves\": \"Y\", \"year\": \"2019\", \"days_to_read\": 11, \"gender_description\": \"Female\"}, {\"order\": 30, \"title\": \"Lifespan\", \"author\": \"David Sinclair\", \"pages\": 432, \"url\": \"https://www.goodreads.com/book/show/43723901-lifespan?ac=1&from_search=true\", \"gender\": \"M\", \"type\": \"Non-Fiction\", \"subgenre\": \"Science\", \"avg_goodreads_rating\": 4.27, \"started\": \"2019-07-01T00:00:00\", \"date\": \"2019-07-18T00:00:00\", \"faves\": null, \"year\": \"2019\", \"days_to_read\": 17, \"gender_description\": \"Male\"}, {\"order\": 31, \"title\": \"Uncanny Valley\", \"author\": \"Anna Wiener\", \"pages\": 304, \"url\": \"https://www.goodreads.com/book/show/45186565-uncanny-valley?ac=1&from_search=true\", \"gender\": \"F\", \"type\": \"Non-Fiction\", \"subgenre\": \"Memoir\", \"avg_goodreads_rating\": 4.2, \"started\": \"2019-07-19T00:00:00\", \"date\": \"2019-07-21T00:00:00\", \"faves\": \"y\", \"year\": \"2019\", \"days_to_read\": 2, \"gender_description\": \"Female\"}, {\"order\": 32, \"title\": \"Hit Makers\", \"author\": \"Derek Thompson\", \"pages\": 352, \"url\": \"https://www.goodreads.com/book/show/30901608-hit-makers\", \"gender\": \"M\", \"type\": \"Non-Fiction\", \"subgenre\": \"Pop Culture\", \"avg_goodreads_rating\": 3.95, \"started\": \"2019-07-20T00:00:00\", \"date\": \"2019-08-06T00:00:00\", \"faves\": null, \"year\": \"2019\", \"days_to_read\": 17, \"gender_description\": \"Male\"}, {\"order\": 33, \"title\": \"Genghis Khan and the Making of the Modern World\", \"author\": \"Jack Weatherford\", \"pages\": 352, \"url\": \"https://www.goodreads.com/book/show/40718726-genghis-khan-and-the-making-of-the-modern-world?ac=1&from_search=true\", \"gender\": \"M\", \"type\": \"Non-Fiction\", \"subgenre\": \"History\", \"avg_goodreads_rating\": 4.02, \"started\": \"2019-07-25T00:00:00\", \"date\": \"2019-09-07T00:00:00\", \"faves\": null, \"year\": \"2019\", \"days_to_read\": 44, \"gender_description\": \"Male\"}, {\"order\": 34, \"title\": \"For the Love of Men: A New Vision for Mindful Masculinity\", \"author\": \"Liz Plank\", \"pages\": 300, \"url\": \"https://www.goodreads.com/book/show/43263540-for-the-love-of-men\", \"gender\": \"F\", \"type\": \"Non-Fiction\", \"subgenre\": \"Feminism\", \"avg_goodreads_rating\": 4.38, \"started\": \"2019-07-23T00:00:00\", \"date\": \"2019-08-02T00:00:00\", \"faves\": null, \"year\": \"2019\", \"days_to_read\": 10, \"gender_description\": \"Female\"}, {\"order\": 35, \"title\": \"Three Women\", \"author\": \"Lisa Taddeo\", \"pages\": 304, \"url\": \"https://www.goodreads.com/book/show/42201100-three-women\", \"gender\": \"F\", \"type\": \"Non-Fiction\", \"subgenre\": \"Feminism\", \"avg_goodreads_rating\": 3.87, \"started\": \"2019-08-15T00:00:00\", \"date\": \"2019-08-22T00:00:00\", \"faves\": \"y\", \"year\": \"2019\", \"days_to_read\": 7, \"gender_description\": \"Female\"}, {\"order\": 36, \"title\": \"Brave New World\", \"author\": \"Aldous Huxley\", \"pages\": 288, \"url\": \"https://www.goodreads.com/book/show/5129.Brave_New_World?ac=1&from_search=true\", \"gender\": \"M\", \"type\": \"Fiction\", \"subgenre\": \"Science \", \"avg_goodreads_rating\": 3.98, \"started\": \"2019-09-15T00:00:00\", \"date\": \"2019-09-16T00:00:00\", \"faves\": null, \"year\": \"2019\", \"days_to_read\": 1, \"gender_description\": \"Male\"}, {\"order\": 37, \"title\": \"Permanent Record\", \"author\": \"Mary HK Choi\", \"pages\": 400, \"url\": \"https://www.goodreads.com/book/show/43562239-permanent-record?from_search=true\", \"gender\": \"F\", \"type\": \"Fiction\", \"subgenre\": \"Young Adult\", \"avg_goodreads_rating\": 3.84, \"started\": \"2019-09-07T00:00:00\", \"date\": \"2019-09-11T00:00:00\", \"faves\": null, \"year\": \"2019\", \"days_to_read\": 4, \"gender_description\": \"Female\"}, {\"order\": 38, \"title\": \"I Was Their American Dream\", \"author\": \"Malaka Gharib\", \"pages\": 160, \"url\": \"https://www.goodreads.com/book/show/40909448-i-was-their-american-dream?from_search=true\", \"gender\": \"F\", \"type\": \"Non-Fiction\", \"subgenre\": \"Graphic Novel\", \"avg_goodreads_rating\": 4.3, \"started\": \"2019-09-05T00:00:00\", \"date\": \"2019-09-12T00:00:00\", \"faves\": null, \"year\": \"2019\", \"days_to_read\": 7, \"gender_description\": \"Female\"}, {\"order\": 39, \"title\": \"Men Without Women\", \"author\": \"Haruki Murakami\", \"pages\": 242, \"url\": \"https://www.goodreads.com/book/show/31950871-men-without-women\", \"gender\": \"M\", \"type\": \"Fiction\", \"subgenre\": \"Short Stories\", \"avg_goodreads_rating\": 3.77, \"started\": \"2019-09-18T00:00:00\", \"date\": \"2019-09-25T00:00:00\", \"faves\": null, \"year\": \"2019\", \"days_to_read\": 7, \"gender_description\": \"Male\"}, {\"order\": 40, \"title\": \"Make it Scream Make it Burn\", \"author\": \"Leslie Jamison\", \"pages\": 272, \"url\": \"https://www.goodreads.com/book/show/43521617-make-it-scream-make-it-burn?from_search=true\", \"gender\": \"F\", \"type\": \"Non-Fiction\", \"subgenre\": \"Essays\", \"avg_goodreads_rating\": 4.13, \"started\": \"2019-10-02T00:00:00\", \"date\": \"2019-10-06T00:00:00\", \"faves\": null, \"year\": \"2019\", \"days_to_read\": 4, \"gender_description\": \"Female\"}, {\"order\": 41, \"title\": \"How to Talk So Your Kids Will Listen\", \"author\": \"Adele Faber and Elaine Mazlish\", \"pages\": 368, \"url\": \"https://www.goodreads.com/book/show/12371502-how-to-talk-so-kids-will-listen-listen-so-kids-will-talk\", \"gender\": \"F\", \"type\": \"Non-Fiction\", \"subgenre\": \"Parenting\", \"avg_goodreads_rating\": 4.26, \"started\": \"2019-09-28T00:00:00\", \"date\": \"2019-10-02T00:00:00\", \"faves\": \"Y\", \"year\": \"2019\", \"days_to_read\": 4, \"gender_description\": \"Female\"}, {\"order\": 43, \"title\": \"Maybe You Should Talk to Somebody\", \"author\": \"Lori Gottlieb\", \"pages\": 432, \"url\": \"https://www.goodreads.com/book/show/37570546-maybe-you-should-talk-to-someone?from_search=true\", \"gender\": \"F\", \"type\": \"Non-Fiction\", \"subgenre\": \"Memoir\", \"avg_goodreads_rating\": 4.4, \"started\": \"2019-10-18T00:00:00\", \"date\": \"2019-11-25T00:00:00\", \"faves\": \"Y\", \"year\": \"2019\", \"days_to_read\": 38, \"gender_description\": \"Female\"}, {\"order\": 44, \"title\": \"Think Like Your Editor\", \"author\": \"Susan Rabiner\", \"pages\": 288, \"url\": \"https://www.goodreads.com/book/show/18988615-thinking-like-your-editor?utm_content=review_cta_book_image&utm_medium=email&utm_source=bookend\", \"gender\": \"F\", \"type\": \"Non-Fiction\", \"subgenre\": \"Writing\", \"avg_goodreads_rating\": 4.04, \"started\": \"2019-10-24T00:00:00\", \"date\": \"2019-10-28T00:00:00\", \"faves\": null, \"year\": \"2019\", \"days_to_read\": 4, \"gender_description\": \"Female\"}, {\"order\": 45, \"title\": \"Kim Ji Young Born 1982\", \"author\": \"Cho Nam-joo\", \"pages\": 144, \"url\": \"https://www.goodreads.com/book/show/47320138-kim-ji-young-born-1982?ac=1&from_search=true\", \"gender\": \"F\", \"type\": \"Fiction\", \"subgenre\": \"Feminism\", \"avg_goodreads_rating\": 4.17, \"started\": \"2019-10-28T00:00:00\", \"date\": \"2019-10-31T00:00:00\", \"faves\": null, \"year\": \"2019\", \"days_to_read\": 3, \"gender_description\": \"Female\"}, {\"order\": 46, \"title\": \"Superman vs the KKK\", \"author\": \"Rick Bowers\", \"pages\": 160, \"url\": \"https://www.goodreads.com/book/show/11407829-superman-versus-the-ku-klux-klan?from_search=true\", \"gender\": \"M\", \"type\": \"Non-Fiction\", \"subgenre\": \"History\", \"avg_goodreads_rating\": 3.66, \"started\": \"2019-10-28T00:00:00\", \"date\": \"2019-10-29T00:00:00\", \"faves\": null, \"year\": \"2019\", \"days_to_read\": 1, \"gender_description\": \"Male\"}, {\"order\": 47, \"title\": \"The Likeability Trap\", \"author\": \"Alicia Menendez\", \"pages\": 240, \"url\": \"https://www.goodreads.com/book/show/46408581-the-likeability-trap?from_search=true&qid=oURYa3fiGo&rank=1\", \"gender\": \"F\", \"type\": \"Non-Fiction\", \"subgenre\": \"Feminism\", \"avg_goodreads_rating\": 3.7, \"started\": \"2019-11-08T00:00:00\", \"date\": \"2019-11-13T00:00:00\", \"faves\": null, \"year\": \"2019\", \"days_to_read\": 5, \"gender_description\": \"Female\"}, {\"order\": 48, \"title\": \"A Short HIstory of Progress\", \"author\": \"Ronald Wright\", \"pages\": 224, \"url\": \"https://www.goodreads.com/book/show/331227.A_Short_History_of_Progress?from_search=true&qid=supt2TGSOt&rank=1\", \"gender\": \"M\", \"type\": \"Non-Fiction\", \"subgenre\": \"History\", \"avg_goodreads_rating\": 4.1, \"started\": \"2019-11-13T00:00:00\", \"date\": \"2019-11-29T00:00:00\", \"faves\": null, \"year\": \"2019\", \"days_to_read\": 16, \"gender_description\": \"Male\"}, {\"order\": 49, \"title\": \"The Last Romantics\", \"author\": \"Tara Conklin\", \"pages\": 368, \"url\": \"https://www.goodreads.com/book/show/35068465-the-last-romantics?ac=1&from_search=true&qid=dert731j6D&rank=1\", \"gender\": \"F\", \"type\": \"Fiction\", \"subgenre\": \"Contemporary\", \"avg_goodreads_rating\": 3.78, \"started\": \"2019-11-29T00:00:00\", \"date\": \"2019-12-02T00:00:00\", \"faves\": \"Y\", \"year\": \"2019\", \"days_to_read\": 3, \"gender_description\": \"Female\"}, {\"order\": 50, \"title\": \"Four Soldiers\", \"author\": \"Hubert Mingarelli\", \"pages\": 160, \"url\": \"https://www.goodreads.com/book/show/41557466-four-soldiers?from_search=true&qid=tFOQALgbWg&rank=1\", \"gender\": \"F\", \"type\": \"Fiction\", \"subgenre\": \"Historical\", \"avg_goodreads_rating\": 3.78, \"started\": \"2019-11-29T00:00:00\", \"date\": \"2019-12-03T00:00:00\", \"faves\": null, \"year\": \"2019\", \"days_to_read\": 4, \"gender_description\": \"Female\"}, {\"order\": 51, \"title\": \"Working\", \"author\": \"Robert Caro\", \"pages\": 231, \"url\": \"https://www.goodreads.com/book/show/43205240-working?from_search=true&qid=51xloY5uTL&rank=1\", \"gender\": \"M\", \"type\": \"Non-Fiction\", \"subgenre\": \"Writing\", \"avg_goodreads_rating\": 4.43, \"started\": \"2019-12-15T00:00:00\", \"date\": \"2019-12-18T00:00:00\", \"faves\": null, \"year\": \"2019\", \"days_to_read\": 3, \"gender_description\": \"Male\"}, {\"order\": 52, \"title\": \"The Incendiaries\", \"author\": \"R.O. Kwon\", \"pages\": 214, \"url\": \"https://www.goodreads.com/book/show/36679056-the-incendiaries\", \"gender\": \"F\", \"type\": \"Fiction\", \"subgenre\": \"Contemporary\", \"avg_goodreads_rating\": 3.28, \"started\": \"2019-12-19T00:00:00\", \"date\": \"2019-12-19T00:00:00\", \"faves\": null, \"year\": \"2019\", \"days_to_read\": 0, \"gender_description\": \"Female\"}, {\"order\": 53, \"title\": \"Wedding Toasts I'll Never Give\", \"author\": \"Ada Calhoun\", \"pages\": 192, \"url\": \"https://www.goodreads.com/book/show/36236126-wedding-toasts-i-ll-never-give\", \"gender\": \"F\", \"type\": \"Non-Fiction\", \"subgenre\": \"Essays\", \"avg_goodreads_rating\": 3.86, \"started\": \"2019-12-26T00:00:00\", \"date\": \"2019-12-27T00:00:00\", \"faves\": null, \"year\": \"2019\", \"days_to_read\": 1, \"gender_description\": \"Female\"}]}};\n",
       "const opt = {};\n",
       "const type = \"vega-lite\";\n",
       "const id = \"19b1b729-593c-4aa5-905a-edb48723d72e\";\n",
       "\n",
       "const output_area = this;\n",
       "\n",
       "require([\"nbextensions/jupyter-vega/index\"], function(vega) {\n",
       "  const target = document.createElement(\"div\");\n",
       "  target.id = id;\n",
       "  target.className = \"vega-embed\";\n",
       "\n",
       "  const style = document.createElement(\"style\");\n",
       "  style.textContent = [\n",
       "    \".vega-embed .error p {\",\n",
       "    \"  color: firebrick;\",\n",
       "    \"  font-size: 14px;\",\n",
       "    \"}\",\n",
       "  ].join(\"\\\\n\");\n",
       "\n",
       "  // element is a jQuery wrapped DOM element inside the output area\n",
       "  // see http://ipython.readthedocs.io/en/stable/api/generated/\\\n",
       "  // IPython.display.html#IPython.display.Javascript.__init__\n",
       "  element[0].appendChild(target);\n",
       "  element[0].appendChild(style);\n",
       "\n",
       "  vega.render(\"#\" + id, spec, type, opt, output_area);\n",
       "}, function (err) {\n",
       "  if (err.requireType !== \"scripterror\") {\n",
       "    throw(err);\n",
       "  }\n",
       "});\n"
      ],
      "text/plain": [
       "<vega.vegalite.VegaLite at 0x12c35f5c0>"
      ]
     },
     "metadata": {
      "jupyter-vega": "#19b1b729-593c-4aa5-905a-edb48723d72e"
     },
     "output_type": "display_data"
    },
    {
     "data": {
      "text/plain": []
     },
     "execution_count": 33,
     "metadata": {},
     "output_type": "execute_result"
    },
    {
     "data": {
      "image/png": "[encoded data removed]"
     },
     "metadata": {
      "jupyter-vega": "#19b1b729-593c-4aa5-905a-edb48723d72e"
     },
     "output_type": "display_data"
    }
   ],
   "source": [
    "alt.Chart(books).mark_tick(size=20).encode(\n",
    "    x=alt.X('date',axis=alt.Axis(tickCount=12, format='%b', tickColor='#ffffff'), title=''),\n",
    "    y=alt.Y('type',axis=alt.Axis(tickCount=0, tickColor='#ffffff'), title=' '),\n",
    "    color=alt.Color('type', legend=None)\n",
    ").configure_axis(\n",
    "    grid=False).properties(height=100, width=320)"
   ]
  },
  {
   "cell_type": "markdown",
   "metadata": {},
   "source": [
    "---"
   ]
  },
  {
   "cell_type": "markdown",
   "metadata": {},
   "source": [
    "### No relationship between Goodreads score and time it took to read"
   ]
  },
  {
   "cell_type": "code",
   "execution_count": 15,
   "metadata": {},
   "outputs": [],
   "source": [
    "books_quick = books[ (books['days_to_read'] < 30) & (books['avg_goodreads_rating'] > 2) ]"
   ]
  },
  {
   "cell_type": "code",
   "execution_count": 16,
   "metadata": {},
   "outputs": [],
   "source": [
    "books_corr = books_quick[['avg_goodreads_rating', 'days_to_read']]"
   ]
  },
  {
   "cell_type": "code",
   "execution_count": 17,
   "metadata": {},
   "outputs": [],
   "source": [
    "corr = books_corr.corr(method ='pearson')"
   ]
  },
  {
   "cell_type": "code",
   "execution_count": 18,
   "metadata": {},
   "outputs": [
    {
     "name": "stdout",
     "output_type": "stream",
     "text": [
      "                      avg_goodreads_rating  days_to_read\n",
      "avg_goodreads_rating                  1.00          0.22\n",
      "days_to_read                          0.22          1.00\n"
     ]
    }
   ],
   "source": [
    "print(corr)"
   ]
  },
  {
   "cell_type": "code",
   "execution_count": 19,
   "metadata": {},
   "outputs": [
    {
     "data": {
      "application/javascript": [
       "const spec = {\"config\": {\"view\": {\"width\": 800, \"height\": 450}, \"background\": \"#ffffff\", \"title\": {\"anchor\": \"start\", \"font\": \"Benton Gothic Bold, sans\", \"fontColor\": \"#000000\", \"fontSize\": 22, \"fontWeight\": \"normal\"}, \"arc\": {\"fill\": \"#82c6df\"}, \"area\": {\"fill\": \"#82c6df\"}, \"line\": {\"stroke\": \"#82c6df\", \"strokeWidth\": 3}, \"path\": {\"stroke\": \"#82c6df\"}, \"rect\": {\"fill\": \"#82c6df\"}, \"shape\": {\"stroke\": \"#82c6df\"}, \"bar\": {\"fill\": \"#82c6df\"}, \"point\": {\"stroke\": \"#82c6df\"}, \"symbol\": {\"fill\": \"#82c6df\", \"size\": 30}, \"axis\": {\"titleFont\": \"Benton Gothic Bold, sans\", \"titleFontSize\": 13, \"titleFontWeight\": \"normal\", \"labelFont\": \"Benton Gothic, sans\", \"labelFontSize\": 11.5, \"labelFontWeight\": \"normal\"}, \"axisX\": {\"labelAngle\": 0, \"labelPadding\": 4, \"tickSize\": 3}, \"axisY\": {\"labelBaseline\": \"middle\", \"maxExtent\": 45, \"minExtent\": 45, \"tickSize\": 2, \"titleAlign\": \"left\", \"titleAngle\": 0, \"titleX\": -45, \"titleY\": -11}, \"legend\": {\"titleFont\": \"Benton Gothic Bold, sans\", \"titleFontSize\": 13, \"titleFontWeight\": \"normal\", \"symbolType\": \"square\", \"labelFont\": \"Benton Gothic, sans\", \"labelFontSize\": 11.5}, \"range\": {\"category\": [\"#3580b1\", \"#ec8431\", \"#ab7fb4\", \"#c89d29\", \"#adc839\", \"#829eb1\"], \"diverging\": [\"#e68a4f\", \"#f4bb6a\", \"#f9e39c\", \"#dadfe2\", \"#a6b7c6\", \"#849eae\"], \"heatmap\": [\"#fbf2c7\", \"#f9e39c\", \"#f8d36e\", \"#f4bb6a\", \"#e68a4f\", \"#d15a40\", \"#ab4232\"], \"ordinal\": [\"#fbf2c7\", \"#f9e39c\", \"#f8d36e\", \"#f4bb6a\", \"#e68a4f\", \"#d15a40\", \"#ab4232\"], \"ramp\": [\"#fbf2c7\", \"#f9e39c\", \"#f8d36e\", \"#f4bb6a\", \"#e68a4f\", \"#d15a40\", \"#ab4232\"]}}, \"data\": {\"name\": \"data-60f804e90f49b1d647d042471ccb35fe\"}, \"mark\": {\"type\": \"circle\", \"size\": 60}, \"encoding\": {\"tooltip\": [{\"type\": \"nominal\", \"field\": \"title\"}, {\"type\": \"ordinal\", \"field\": \"author\"}, {\"type\": \"quantitative\", \"field\": \"avg_goodreads_rating\"}, {\"type\": \"quantitative\", \"field\": \"days_to_read\"}], \"x\": {\"type\": \"quantitative\", \"axis\": {\"tickCount\": 6}, \"field\": \"avg_goodreads_rating\", \"scale\": {\"domain\": [3, 5]}, \"title\": \"Avg goodreads rating\"}, \"y\": {\"type\": \"quantitative\", \"axis\": {\"tickCount\": 5}, \"field\": \"days_to_read\", \"title\": \"Days to read\"}}, \"height\": 500, \"width\": 500, \"$schema\": \"https://vega.github.io/schema/vega-lite/v3.4.0.json\", \"datasets\": {\"data-60f804e90f49b1d647d042471ccb35fe\": [{\"order\": 1, \"title\": \"Brotopia\", \"author\": \"Emily Chang\", \"pages\": 317, \"url\": \"https://www.goodreads.com/book/show/36288143-brotopia\", \"gender\": \"F\", \"type\": \"Non-Fiction\", \"subgenre\": \"Business\", \"avg_goodreads_rating\": 4.04, \"started\": \"2018-12-26T00:00:00\", \"date\": \"2019-01-06T00:00:00\", \"faves\": null, \"year\": \"2019\", \"days_to_read\": 11, \"gender_description\": \"Female\"}, {\"order\": 2, \"title\": \"The Human Stain\", \"author\": \"Philip Roth\", \"pages\": 384, \"url\": \"https://www.goodreads.com/book/show/11734.The_Human_Stain?from_search=true\", \"gender\": \"M\", \"type\": \"Fiction\", \"subgenre\": \"Literature\", \"avg_goodreads_rating\": 3.87, \"started\": \"2019-01-06T00:00:00\", \"date\": \"2019-01-16T00:00:00\", \"faves\": \"Y\", \"year\": \"2019\", \"days_to_read\": 10, \"gender_description\": \"Male\"}, {\"order\": 3, \"title\": \"You Know You Want This\", \"author\": \"Kristen Roupenian\", \"pages\": 225, \"url\": \"https://www.goodreads.com/book/show/40539045-you-know-you-want-this\", \"gender\": \"F\", \"type\": \"Fiction\", \"subgenre\": \"Short Stories\", \"avg_goodreads_rating\": 3.86, \"started\": \"2019-01-16T00:00:00\", \"date\": \"2019-01-19T00:00:00\", \"faves\": null, \"year\": \"2019\", \"days_to_read\": 3, \"gender_description\": \"Female\"}, {\"order\": 5, \"title\": \"If Beale Street Could Talk\", \"author\": \"James Baldwin\", \"pages\": 197, \"url\": \"https://www.goodreads.com/book/show/38463.If_Beale_Street_Could_Talk\", \"gender\": \"M\", \"type\": \"Fiction\", \"subgenre\": \"Classics\", \"avg_goodreads_rating\": 4.29, \"started\": \"2019-01-22T00:00:00\", \"date\": \"2019-01-28T00:00:00\", \"faves\": null, \"year\": \"2019\", \"days_to_read\": 6, \"gender_description\": \"Male\"}, {\"order\": 6, \"title\": \"Nobody Cares\", \"author\": \"Anne Donahue\", \"pages\": 240, \"url\": \"https://www.goodreads.com/book/show/36360167-nobody-cares\", \"gender\": \"F\", \"type\": \"Non-Fiction\", \"subgenre\": \"Essays\", \"avg_goodreads_rating\": 3.67, \"started\": \"2019-02-03T00:00:00\", \"date\": \"2019-02-25T00:00:00\", \"faves\": null, \"year\": \"2019\", \"days_to_read\": 22, \"gender_description\": \"Female\"}, {\"order\": 7, \"title\": \"Acts of Infidelity\", \"author\": \"Lena Andersson\", \"pages\": 366, \"url\": \"https://www.goodreads.com/book/show/22601256-utan-personligt-ansvar\", \"gender\": \"F\", \"type\": \"Fiction\", \"subgenre\": \"Swedish Lit\", \"avg_goodreads_rating\": 3.66, \"started\": \"2019-02-01T00:00:00\", \"date\": \"2019-02-08T00:00:00\", \"faves\": null, \"year\": \"2019\", \"days_to_read\": 7, \"gender_description\": \"Female\"}, {\"order\": 8, \"title\": \"There Will Be No Miracles Here\", \"author\": \"Casey Gerald\", \"pages\": 394, \"url\": \"https://www.goodreads.com/book/show/38650651-there-will-be-no-miracles-here?from_search=true\", \"gender\": \"M\", \"type\": \"Non-Fiction\", \"subgenre\": \"Memoir\", \"avg_goodreads_rating\": 3.72, \"started\": \"2019-01-27T00:00:00\", \"date\": \"2019-02-11T00:00:00\", \"faves\": null, \"year\": \"2019\", \"days_to_read\": 15, \"gender_description\": \"Male\"}, {\"order\": 9, \"title\": \"The Unbearable Lightness of Being\", \"author\": \"Milan Kundera\", \"pages\": 320, \"url\": \"https://www.goodreads.com/book/show/9717.The_Unbearable_Lightness_of_Being?from_search=true\", \"gender\": \"M\", \"type\": \"Fiction\", \"subgenre\": \"Classics\", \"avg_goodreads_rating\": 4.09, \"started\": \"2019-02-16T00:00:00\", \"date\": \"2019-02-23T00:00:00\", \"faves\": null, \"year\": \"2019\", \"days_to_read\": 7, \"gender_description\": \"Male\"}, {\"order\": 11, \"title\": \"LOT\", \"author\": \"Bryan Washington\", \"pages\": 240, \"url\": \"https://www.goodreads.com/book/show/40749395-lot\", \"gender\": \"M\", \"type\": \"Fiction\", \"subgenre\": \"Short Stories\", \"avg_goodreads_rating\": 3.74, \"started\": \"2019-02-28T00:00:00\", \"date\": \"2019-03-15T00:00:00\", \"faves\": \"Y\", \"year\": \"2019\", \"days_to_read\": 15, \"gender_description\": \"Male\"}, {\"order\": 12, \"title\": \"Oculus\", \"author\": \"Sally Wen Mao\", \"pages\": 119, \"url\": \"https://www.goodreads.com/book/show/40121999-oculus\", \"gender\": \"F\", \"type\": \"Poetry\", \"subgenre\": \"Contemporary\", \"avg_goodreads_rating\": 4.22, \"started\": \"2019-03-03T00:00:00\", \"date\": \"2019-03-11T00:00:00\", \"faves\": null, \"year\": \"2019\", \"days_to_read\": 8, \"gender_description\": \"Female\"}, {\"order\": 13, \"title\": \"Homo Deus: A Brief History of Tomorrow\", \"author\": \"Yuval Harari\", \"pages\": 450, \"url\": \"https://www.goodreads.com/book/show/31138556-homo-deus?from_search=true\", \"gender\": \"M\", \"type\": \"Non-Fiction\", \"subgenre\": \"History\", \"avg_goodreads_rating\": 4.29, \"started\": \"2019-03-22T00:00:00\", \"date\": \"2019-04-19T00:00:00\", \"faves\": null, \"year\": \"2019\", \"days_to_read\": 28, \"gender_description\": \"Male\"}, {\"order\": 14, \"title\": \"Heart Berries\", \"author\": \"Terese Marie Mailhot\", \"pages\": 143, \"url\": \"https://www.goodreads.com/book/show/35840657-heart-berries\", \"gender\": \"F\", \"type\": \"Non-Fiction\", \"subgenre\": \"Memoir\", \"avg_goodreads_rating\": 3.89, \"started\": \"2019-04-03T00:00:00\", \"date\": \"2019-04-06T00:00:00\", \"faves\": null, \"year\": \"2019\", \"days_to_read\": 3, \"gender_description\": \"Female\"}, {\"order\": 16, \"title\": \"Normal People\", \"author\": \"Sally Rooney\", \"pages\": 266, \"url\": \"https://www.goodreads.com/book/show/37539457-normal-people\", \"gender\": \"F\", \"type\": \"Fiction\", \"subgenre\": \"Contemporary\", \"avg_goodreads_rating\": 3.89, \"started\": \"2019-04-20T00:00:00\", \"date\": \"2019-04-21T00:00:00\", \"faves\": \"Y\", \"year\": \"2019\", \"days_to_read\": 1, \"gender_description\": \"Female\"}, {\"order\": 17, \"title\": \"Less\", \"author\": \"Andrew Sean Greer\", \"pages\": 273, \"url\": \"https://www.goodreads.com/book/show/39927096-less\", \"gender\": \"M\", \"type\": \"Fiction\", \"subgenre\": \"Contemporary\", \"avg_goodreads_rating\": 3.76, \"started\": \"2019-04-25T00:00:00\", \"date\": \"2019-05-08T00:00:00\", \"faves\": null, \"year\": \"2019\", \"days_to_read\": 13, \"gender_description\": \"Male\"}, {\"order\": 18, \"title\": \"Nobody is Ever Missing\", \"author\": \"Catherine Lacey\", \"pages\": 244, \"url\": \"https://www.goodreads.com/book/show/18490560-nobody-is-ever-missing?from_search=true\", \"gender\": \"F\", \"type\": \"Fiction\", \"subgenre\": \"Contemporary\", \"avg_goodreads_rating\": 3.27, \"started\": \"2019-05-08T00:00:00\", \"date\": \"2019-05-13T00:00:00\", \"faves\": null, \"year\": \"2019\", \"days_to_read\": 5, \"gender_description\": \"Female\"}, {\"order\": 19, \"title\": \"The New Me\", \"author\": \"Halle Butler\", \"pages\": 208, \"url\": \"https://www.goodreads.com/book/show/36342706-the-new-me\", \"gender\": \"F\", \"type\": \"Fiction\", \"subgenre\": \"Contemporary\", \"avg_goodreads_rating\": 3.6, \"started\": \"2019-05-13T00:00:00\", \"date\": \"2019-05-18T00:00:00\", \"faves\": \"Nope\", \"year\": \"2019\", \"days_to_read\": 5, \"gender_description\": \"Female\"}, {\"order\": 20, \"title\": \"The Empathy Exams\", \"author\": \"Leslie Jamison\", \"pages\": 226, \"url\": \"https://www.goodreads.com/en/book/show/17934655\", \"gender\": \"F\", \"type\": \"Non-Fiction\", \"subgenre\": \"Essays\", \"avg_goodreads_rating\": 3.64, \"started\": \"2019-05-18T00:00:00\", \"date\": \"2019-05-27T00:00:00\", \"faves\": null, \"year\": \"2019\", \"days_to_read\": 9, \"gender_description\": \"Female\"}, {\"order\": 21, \"title\": \"Bad Blood\", \"author\": \"John Carreyou\", \"pages\": 339, \"url\": \"https://www.goodreads.com/book/show/37976541-bad-blood?from_search=true\", \"gender\": \"M\", \"type\": \"Non-Fiction\", \"subgenre\": \"True Crime\", \"avg_goodreads_rating\": 4.48, \"started\": \"2019-06-01T00:00:00\", \"date\": \"2019-06-12T00:00:00\", \"faves\": null, \"year\": \"2019\", \"days_to_read\": 11, \"gender_description\": \"Male\"}, {\"order\": 22, \"title\": \"The Recovering: Intoxication and its Aftermath\", \"author\": \"Leslie Jamison\", \"pages\": 545, \"url\": \"https://www.goodreads.com/book/show/35959632-the-recovering\", \"gender\": \"F\", \"type\": \"Non-Fiction\", \"subgenre\": \"Memoir\", \"avg_goodreads_rating\": 3.96, \"started\": \"2019-05-27T00:00:00\", \"date\": \"2019-06-01T00:00:00\", \"faves\": \"Y\", \"year\": \"2019\", \"days_to_read\": 5, \"gender_description\": \"Female\"}, {\"order\": 23, \"title\": \"Evvie Drake Starts Over\", \"author\": \"Linda Holmes\", \"pages\": 304, \"url\": \"https://www.goodreads.com/book/show/40514431-evvie-drake-starts-over?ac=1&from_search=true\", \"gender\": \"F\", \"type\": \"Fiction\", \"subgenre\": \"Young Adult\", \"avg_goodreads_rating\": 4.22, \"started\": \"2019-06-30T00:00:00\", \"date\": \"2019-06-30T00:00:00\", \"faves\": null, \"year\": \"2019\", \"days_to_read\": 0, \"gender_description\": \"Female\"}, {\"order\": 25, \"title\": \"Trust Exercise\", \"author\": \"Susan Choi\", \"pages\": 257, \"url\": \"https://www.goodreads.com/en/book/show/40046059\", \"gender\": \"F\", \"type\": \"Fiction\", \"subgenre\": \"Contemporary\", \"avg_goodreads_rating\": 3.23, \"started\": \"2019-06-12T00:00:00\", \"date\": \"2019-06-14T00:00:00\", \"faves\": \"Y\", \"year\": \"2019\", \"days_to_read\": 2, \"gender_description\": \"Female\"}, {\"order\": 26, \"title\": \"Trick Mirror\", \"author\": \"Jia Tolentino\", \"pages\": 256, \"url\": \"https://www.goodreads.com/book/show/43126457-trick-mirror?from_search=true\", \"gender\": \"F\", \"type\": \"Non-Fiction\", \"subgenre\": \"Essays\", \"avg_goodreads_rating\": 4.33, \"started\": \"2019-06-15T00:00:00\", \"date\": \"2019-06-30T00:00:00\", \"faves\": \"Y\", \"year\": \"2019\", \"days_to_read\": 15, \"gender_description\": \"Female\"}, {\"order\": 27, \"title\": \"Territory of Light\", \"author\": \"Yuko Tsushima\", \"pages\": 122, \"url\": \"https://www.goodreads.com/book/show/33871745-territory-of-light\", \"gender\": \"F\", \"type\": \"Fiction\", \"subgenre\": \"Japanese Lit\", \"avg_goodreads_rating\": 3.66, \"started\": \"2019-07-01T00:00:00\", \"date\": \"2019-07-06T00:00:00\", \"faves\": null, \"year\": \"2019\", \"days_to_read\": 5, \"gender_description\": \"Female\"}, {\"order\": 29, \"title\": \"Fleishman Is In Trouble\", \"author\": \"Taffy Brodesser-Akner\", \"pages\": 384, \"url\": \"https://www.goodreads.com/book/show/41880602-fleishman-is-in-trouble?ac=1&from_search=true\", \"gender\": \"F\", \"type\": \"Fiction\", \"subgenre\": \"Contemporary\", \"avg_goodreads_rating\": 4.1, \"started\": \"2019-06-17T00:00:00\", \"date\": \"2019-06-28T00:00:00\", \"faves\": \"Y\", \"year\": \"2019\", \"days_to_read\": 11, \"gender_description\": \"Female\"}, {\"order\": 30, \"title\": \"Lifespan\", \"author\": \"David Sinclair\", \"pages\": 432, \"url\": \"https://www.goodreads.com/book/show/43723901-lifespan?ac=1&from_search=true\", \"gender\": \"M\", \"type\": \"Non-Fiction\", \"subgenre\": \"Science\", \"avg_goodreads_rating\": 4.27, \"started\": \"2019-07-01T00:00:00\", \"date\": \"2019-07-18T00:00:00\", \"faves\": null, \"year\": \"2019\", \"days_to_read\": 17, \"gender_description\": \"Male\"}, {\"order\": 31, \"title\": \"Uncanny Valley\", \"author\": \"Anna Wiener\", \"pages\": 304, \"url\": \"https://www.goodreads.com/book/show/45186565-uncanny-valley?ac=1&from_search=true\", \"gender\": \"F\", \"type\": \"Non-Fiction\", \"subgenre\": \"Memoir\", \"avg_goodreads_rating\": 4.2, \"started\": \"2019-07-19T00:00:00\", \"date\": \"2019-07-21T00:00:00\", \"faves\": \"y\", \"year\": \"2019\", \"days_to_read\": 2, \"gender_description\": \"Female\"}, {\"order\": 32, \"title\": \"Hit Makers\", \"author\": \"Derek Thompson\", \"pages\": 352, \"url\": \"https://www.goodreads.com/book/show/30901608-hit-makers\", \"gender\": \"M\", \"type\": \"Non-Fiction\", \"subgenre\": \"Pop Culture\", \"avg_goodreads_rating\": 3.95, \"started\": \"2019-07-20T00:00:00\", \"date\": \"2019-08-06T00:00:00\", \"faves\": null, \"year\": \"2019\", \"days_to_read\": 17, \"gender_description\": \"Male\"}, {\"order\": 34, \"title\": \"For the Love of Men: A New Vision for Mindful Masculinity\", \"author\": \"Liz Plank\", \"pages\": 300, \"url\": \"https://www.goodreads.com/book/show/43263540-for-the-love-of-men\", \"gender\": \"F\", \"type\": \"Non-Fiction\", \"subgenre\": \"Feminism\", \"avg_goodreads_rating\": 4.38, \"started\": \"2019-07-23T00:00:00\", \"date\": \"2019-08-02T00:00:00\", \"faves\": null, \"year\": \"2019\", \"days_to_read\": 10, \"gender_description\": \"Female\"}, {\"order\": 35, \"title\": \"Three Women\", \"author\": \"Lisa Taddeo\", \"pages\": 304, \"url\": \"https://www.goodreads.com/book/show/42201100-three-women\", \"gender\": \"F\", \"type\": \"Non-Fiction\", \"subgenre\": \"Feminism\", \"avg_goodreads_rating\": 3.87, \"started\": \"2019-08-15T00:00:00\", \"date\": \"2019-08-22T00:00:00\", \"faves\": \"y\", \"year\": \"2019\", \"days_to_read\": 7, \"gender_description\": \"Female\"}, {\"order\": 36, \"title\": \"Brave New World\", \"author\": \"Aldous Huxley\", \"pages\": 288, \"url\": \"https://www.goodreads.com/book/show/5129.Brave_New_World?ac=1&from_search=true\", \"gender\": \"M\", \"type\": \"Fiction\", \"subgenre\": \"Science \", \"avg_goodreads_rating\": 3.98, \"started\": \"2019-09-15T00:00:00\", \"date\": \"2019-09-16T00:00:00\", \"faves\": null, \"year\": \"2019\", \"days_to_read\": 1, \"gender_description\": \"Male\"}, {\"order\": 37, \"title\": \"Permanent Record\", \"author\": \"Mary HK Choi\", \"pages\": 400, \"url\": \"https://www.goodreads.com/book/show/43562239-permanent-record?from_search=true\", \"gender\": \"F\", \"type\": \"Fiction\", \"subgenre\": \"Young Adult\", \"avg_goodreads_rating\": 3.84, \"started\": \"2019-09-07T00:00:00\", \"date\": \"2019-09-11T00:00:00\", \"faves\": null, \"year\": \"2019\", \"days_to_read\": 4, \"gender_description\": \"Female\"}, {\"order\": 38, \"title\": \"I Was Their American Dream\", \"author\": \"Malaka Gharib\", \"pages\": 160, \"url\": \"https://www.goodreads.com/book/show/40909448-i-was-their-american-dream?from_search=true\", \"gender\": \"F\", \"type\": \"Non-Fiction\", \"subgenre\": \"Graphic Novel\", \"avg_goodreads_rating\": 4.3, \"started\": \"2019-09-05T00:00:00\", \"date\": \"2019-09-12T00:00:00\", \"faves\": null, \"year\": \"2019\", \"days_to_read\": 7, \"gender_description\": \"Female\"}, {\"order\": 39, \"title\": \"Men Without Women\", \"author\": \"Haruki Murakami\", \"pages\": 242, \"url\": \"https://www.goodreads.com/book/show/31950871-men-without-women\", \"gender\": \"M\", \"type\": \"Fiction\", \"subgenre\": \"Short Stories\", \"avg_goodreads_rating\": 3.77, \"started\": \"2019-09-18T00:00:00\", \"date\": \"2019-09-25T00:00:00\", \"faves\": null, \"year\": \"2019\", \"days_to_read\": 7, \"gender_description\": \"Male\"}, {\"order\": 40, \"title\": \"Make it Scream Make it Burn\", \"author\": \"Leslie Jamison\", \"pages\": 272, \"url\": \"https://www.goodreads.com/book/show/43521617-make-it-scream-make-it-burn?from_search=true\", \"gender\": \"F\", \"type\": \"Non-Fiction\", \"subgenre\": \"Essays\", \"avg_goodreads_rating\": 4.13, \"started\": \"2019-10-02T00:00:00\", \"date\": \"2019-10-06T00:00:00\", \"faves\": null, \"year\": \"2019\", \"days_to_read\": 4, \"gender_description\": \"Female\"}, {\"order\": 41, \"title\": \"How to Talk So Your Kids Will Listen\", \"author\": \"Adele Faber and Elaine Mazlish\", \"pages\": 368, \"url\": \"https://www.goodreads.com/book/show/12371502-how-to-talk-so-kids-will-listen-listen-so-kids-will-talk\", \"gender\": \"F\", \"type\": \"Non-Fiction\", \"subgenre\": \"Parenting\", \"avg_goodreads_rating\": 4.26, \"started\": \"2019-09-28T00:00:00\", \"date\": \"2019-10-02T00:00:00\", \"faves\": \"Y\", \"year\": \"2019\", \"days_to_read\": 4, \"gender_description\": \"Female\"}, {\"order\": 44, \"title\": \"Think Like Your Editor\", \"author\": \"Susan Rabiner\", \"pages\": 288, \"url\": \"https://www.goodreads.com/book/show/18988615-thinking-like-your-editor?utm_content=review_cta_book_image&utm_medium=email&utm_source=bookend\", \"gender\": \"F\", \"type\": \"Non-Fiction\", \"subgenre\": \"Writing\", \"avg_goodreads_rating\": 4.04, \"started\": \"2019-10-24T00:00:00\", \"date\": \"2019-10-28T00:00:00\", \"faves\": null, \"year\": \"2019\", \"days_to_read\": 4, \"gender_description\": \"Female\"}, {\"order\": 45, \"title\": \"Kim Ji Young Born 1982\", \"author\": \"Cho Nam-joo\", \"pages\": 144, \"url\": \"https://www.goodreads.com/book/show/47320138-kim-ji-young-born-1982?ac=1&from_search=true\", \"gender\": \"F\", \"type\": \"Fiction\", \"subgenre\": \"Feminism\", \"avg_goodreads_rating\": 4.17, \"started\": \"2019-10-28T00:00:00\", \"date\": \"2019-10-31T00:00:00\", \"faves\": null, \"year\": \"2019\", \"days_to_read\": 3, \"gender_description\": \"Female\"}, {\"order\": 46, \"title\": \"Superman vs the KKK\", \"author\": \"Rick Bowers\", \"pages\": 160, \"url\": \"https://www.goodreads.com/book/show/11407829-superman-versus-the-ku-klux-klan?from_search=true\", \"gender\": \"M\", \"type\": \"Non-Fiction\", \"subgenre\": \"History\", \"avg_goodreads_rating\": 3.66, \"started\": \"2019-10-28T00:00:00\", \"date\": \"2019-10-29T00:00:00\", \"faves\": null, \"year\": \"2019\", \"days_to_read\": 1, \"gender_description\": \"Male\"}, {\"order\": 47, \"title\": \"The Likeability Trap\", \"author\": \"Alicia Menendez\", \"pages\": 240, \"url\": \"https://www.goodreads.com/book/show/46408581-the-likeability-trap?from_search=true&qid=oURYa3fiGo&rank=1\", \"gender\": \"F\", \"type\": \"Non-Fiction\", \"subgenre\": \"Feminism\", \"avg_goodreads_rating\": 3.7, \"started\": \"2019-11-08T00:00:00\", \"date\": \"2019-11-13T00:00:00\", \"faves\": null, \"year\": \"2019\", \"days_to_read\": 5, \"gender_description\": \"Female\"}, {\"order\": 48, \"title\": \"A Short HIstory of Progress\", \"author\": \"Ronald Wright\", \"pages\": 224, \"url\": \"https://www.goodreads.com/book/show/331227.A_Short_History_of_Progress?from_search=true&qid=supt2TGSOt&rank=1\", \"gender\": \"M\", \"type\": \"Non-Fiction\", \"subgenre\": \"History\", \"avg_goodreads_rating\": 4.1, \"started\": \"2019-11-13T00:00:00\", \"date\": \"2019-11-29T00:00:00\", \"faves\": null, \"year\": \"2019\", \"days_to_read\": 16, \"gender_description\": \"Male\"}, {\"order\": 49, \"title\": \"The Last Romantics\", \"author\": \"Tara Conklin\", \"pages\": 368, \"url\": \"https://www.goodreads.com/book/show/35068465-the-last-romantics?ac=1&from_search=true&qid=dert731j6D&rank=1\", \"gender\": \"F\", \"type\": \"Fiction\", \"subgenre\": \"Contemporary\", \"avg_goodreads_rating\": 3.78, \"started\": \"2019-11-29T00:00:00\", \"date\": \"2019-12-02T00:00:00\", \"faves\": \"Y\", \"year\": \"2019\", \"days_to_read\": 3, \"gender_description\": \"Female\"}, {\"order\": 50, \"title\": \"Four Soldiers\", \"author\": \"Hubert Mingarelli\", \"pages\": 160, \"url\": \"https://www.goodreads.com/book/show/41557466-four-soldiers?from_search=true&qid=tFOQALgbWg&rank=1\", \"gender\": \"F\", \"type\": \"Fiction\", \"subgenre\": \"Historical\", \"avg_goodreads_rating\": 3.78, \"started\": \"2019-11-29T00:00:00\", \"date\": \"2019-12-03T00:00:00\", \"faves\": null, \"year\": \"2019\", \"days_to_read\": 4, \"gender_description\": \"Female\"}, {\"order\": 51, \"title\": \"Working\", \"author\": \"Robert Caro\", \"pages\": 231, \"url\": \"https://www.goodreads.com/book/show/43205240-working?from_search=true&qid=51xloY5uTL&rank=1\", \"gender\": \"M\", \"type\": \"Non-Fiction\", \"subgenre\": \"Writing\", \"avg_goodreads_rating\": 4.43, \"started\": \"2019-12-15T00:00:00\", \"date\": \"2019-12-18T00:00:00\", \"faves\": null, \"year\": \"2019\", \"days_to_read\": 3, \"gender_description\": \"Male\"}, {\"order\": 52, \"title\": \"The Incendiaries\", \"author\": \"R.O. Kwon\", \"pages\": 214, \"url\": \"https://www.goodreads.com/book/show/36679056-the-incendiaries\", \"gender\": \"F\", \"type\": \"Fiction\", \"subgenre\": \"Contemporary\", \"avg_goodreads_rating\": 3.28, \"started\": \"2019-12-19T00:00:00\", \"date\": \"2019-12-19T00:00:00\", \"faves\": null, \"year\": \"2019\", \"days_to_read\": 0, \"gender_description\": \"Female\"}, {\"order\": 53, \"title\": \"Wedding Toasts I'll Never Give\", \"author\": \"Ada Calhoun\", \"pages\": 192, \"url\": \"https://www.goodreads.com/book/show/36236126-wedding-toasts-i-ll-never-give\", \"gender\": \"F\", \"type\": \"Non-Fiction\", \"subgenre\": \"Essays\", \"avg_goodreads_rating\": 3.86, \"started\": \"2019-12-26T00:00:00\", \"date\": \"2019-12-27T00:00:00\", \"faves\": null, \"year\": \"2019\", \"days_to_read\": 1, \"gender_description\": \"Female\"}]}};\n",
       "const opt = {};\n",
       "const type = \"vega-lite\";\n",
       "const id = \"b4b881b2-db4b-473d-a8b0-bca3e1ecb021\";\n",
       "\n",
       "const output_area = this;\n",
       "\n",
       "require([\"nbextensions/jupyter-vega/index\"], function(vega) {\n",
       "  const target = document.createElement(\"div\");\n",
       "  target.id = id;\n",
       "  target.className = \"vega-embed\";\n",
       "\n",
       "  const style = document.createElement(\"style\");\n",
       "  style.textContent = [\n",
       "    \".vega-embed .error p {\",\n",
       "    \"  color: firebrick;\",\n",
       "    \"  font-size: 14px;\",\n",
       "    \"}\",\n",
       "  ].join(\"\\\\n\");\n",
       "\n",
       "  // element is a jQuery wrapped DOM element inside the output area\n",
       "  // see http://ipython.readthedocs.io/en/stable/api/generated/\\\n",
       "  // IPython.display.html#IPython.display.Javascript.__init__\n",
       "  element[0].appendChild(target);\n",
       "  element[0].appendChild(style);\n",
       "\n",
       "  vega.render(\"#\" + id, spec, type, opt, output_area);\n",
       "}, function (err) {\n",
       "  if (err.requireType !== \"scripterror\") {\n",
       "    throw(err);\n",
       "  }\n",
       "});\n"
      ],
      "text/plain": [
       "<vega.vegalite.VegaLite at 0x123d9acf8>"
      ]
     },
     "metadata": {
      "jupyter-vega": "#b4b881b2-db4b-473d-a8b0-bca3e1ecb021"
     },
     "output_type": "display_data"
    },
    {
     "data": {
      "text/plain": []
     },
     "execution_count": 19,
     "metadata": {},
     "output_type": "execute_result"
    },
    {
     "data": {
      "image/png": "[encoded data removed]"
     },
     "metadata": {
      "jupyter-vega": "#b4b881b2-db4b-473d-a8b0-bca3e1ecb021"
     },
     "output_type": "display_data"
    }
   ],
   "source": [
    "alt.Chart(books_quick).mark_circle(size=60).encode(\n",
    "    x=alt.X('avg_goodreads_rating:Q', title='Avg goodreads rating', axis=alt.Axis(tickCount=6), scale=alt.Scale(domain=(3, 5))),\n",
    "    y=alt.Y('days_to_read:Q', title='Days to read', axis=alt.Axis(tickCount=5)),\n",
    "    tooltip=['title:N', 'author:O', 'avg_goodreads_rating:Q', 'days_to_read:Q']\n",
    ").properties(width=500, height=500)"
   ]
  },
  {
   "cell_type": "markdown",
   "metadata": {},
   "source": [
    "---"
   ]
  },
  {
   "cell_type": "code",
   "execution_count": 20,
   "metadata": {},
   "outputs": [
    {
     "data": {
      "text/html": [
       "<div>\n",
       "<style scoped>\n",
       "    .dataframe tbody tr th:only-of-type {\n",
       "        vertical-align: middle;\n",
       "    }\n",
       "\n",
       "    .dataframe tbody tr th {\n",
       "        vertical-align: top;\n",
       "    }\n",
       "\n",
       "    .dataframe thead th {\n",
       "        text-align: right;\n",
       "    }\n",
       "</style>\n",
       "<table border=\"1\" class=\"dataframe\">\n",
       "  <thead>\n",
       "    <tr style=\"text-align: right;\">\n",
       "      <th></th>\n",
       "      <th>order</th>\n",
       "      <th>title</th>\n",
       "      <th>author</th>\n",
       "      <th>pages</th>\n",
       "      <th>url</th>\n",
       "      <th>gender</th>\n",
       "      <th>type</th>\n",
       "      <th>subgenre</th>\n",
       "      <th>avg_goodreads_rating</th>\n",
       "      <th>started</th>\n",
       "      <th>date</th>\n",
       "      <th>faves</th>\n",
       "      <th>year</th>\n",
       "      <th>days_to_read</th>\n",
       "      <th>gender_description</th>\n",
       "    </tr>\n",
       "  </thead>\n",
       "  <tbody>\n",
       "    <tr>\n",
       "      <th>0</th>\n",
       "      <td>1</td>\n",
       "      <td>Brotopia</td>\n",
       "      <td>Emily Chang</td>\n",
       "      <td>317</td>\n",
       "      <td>https://www.goodreads.com/book/show/36288143-b...</td>\n",
       "      <td>F</td>\n",
       "      <td>Non-Fiction</td>\n",
       "      <td>Business</td>\n",
       "      <td>4.04</td>\n",
       "      <td>2018-12-26</td>\n",
       "      <td>2019-01-06</td>\n",
       "      <td>NaN</td>\n",
       "      <td>2019</td>\n",
       "      <td>11</td>\n",
       "      <td>Female</td>\n",
       "    </tr>\n",
       "    <tr>\n",
       "      <th>1</th>\n",
       "      <td>2</td>\n",
       "      <td>The Human Stain</td>\n",
       "      <td>Philip Roth</td>\n",
       "      <td>384</td>\n",
       "      <td>https://www.goodreads.com/book/show/11734.The_...</td>\n",
       "      <td>M</td>\n",
       "      <td>Fiction</td>\n",
       "      <td>Literature</td>\n",
       "      <td>3.87</td>\n",
       "      <td>2019-01-06</td>\n",
       "      <td>2019-01-16</td>\n",
       "      <td>Y</td>\n",
       "      <td>2019</td>\n",
       "      <td>10</td>\n",
       "      <td>Male</td>\n",
       "    </tr>\n",
       "    <tr>\n",
       "      <th>2</th>\n",
       "      <td>3</td>\n",
       "      <td>You Know You Want This</td>\n",
       "      <td>Kristen Roupenian</td>\n",
       "      <td>225</td>\n",
       "      <td>https://www.goodreads.com/book/show/40539045-y...</td>\n",
       "      <td>F</td>\n",
       "      <td>Fiction</td>\n",
       "      <td>Short Stories</td>\n",
       "      <td>3.86</td>\n",
       "      <td>2019-01-16</td>\n",
       "      <td>2019-01-19</td>\n",
       "      <td>NaN</td>\n",
       "      <td>2019</td>\n",
       "      <td>3</td>\n",
       "      <td>Female</td>\n",
       "    </tr>\n",
       "    <tr>\n",
       "      <th>3</th>\n",
       "      <td>4</td>\n",
       "      <td>Why Buddhism is True</td>\n",
       "      <td>Robert Wright</td>\n",
       "      <td>336</td>\n",
       "      <td>https://www.goodreads.com/book/show/32895535-w...</td>\n",
       "      <td>M</td>\n",
       "      <td>Non-Fiction</td>\n",
       "      <td>Religion</td>\n",
       "      <td>4.05</td>\n",
       "      <td>2019-01-18</td>\n",
       "      <td>2019-04-02</td>\n",
       "      <td>NaN</td>\n",
       "      <td>2019</td>\n",
       "      <td>74</td>\n",
       "      <td>Male</td>\n",
       "    </tr>\n",
       "    <tr>\n",
       "      <th>4</th>\n",
       "      <td>5</td>\n",
       "      <td>If Beale Street Could Talk</td>\n",
       "      <td>James Baldwin</td>\n",
       "      <td>197</td>\n",
       "      <td>https://www.goodreads.com/book/show/38463.If_B...</td>\n",
       "      <td>M</td>\n",
       "      <td>Fiction</td>\n",
       "      <td>Classics</td>\n",
       "      <td>4.29</td>\n",
       "      <td>2019-01-22</td>\n",
       "      <td>2019-01-28</td>\n",
       "      <td>NaN</td>\n",
       "      <td>2019</td>\n",
       "      <td>6</td>\n",
       "      <td>Male</td>\n",
       "    </tr>\n",
       "  </tbody>\n",
       "</table>\n",
       "</div>"
      ],
      "text/plain": [
       "   order                       title             author  pages  \\\n",
       "0      1                    Brotopia        Emily Chang    317   \n",
       "1      2             The Human Stain        Philip Roth    384   \n",
       "2      3      You Know You Want This  Kristen Roupenian    225   \n",
       "3      4        Why Buddhism is True      Robert Wright    336   \n",
       "4      5  If Beale Street Could Talk      James Baldwin    197   \n",
       "\n",
       "                                                 url gender         type  \\\n",
       "0  https://www.goodreads.com/book/show/36288143-b...      F  Non-Fiction   \n",
       "1  https://www.goodreads.com/book/show/11734.The_...      M      Fiction   \n",
       "2  https://www.goodreads.com/book/show/40539045-y...      F      Fiction   \n",
       "3  https://www.goodreads.com/book/show/32895535-w...      M  Non-Fiction   \n",
       "4  https://www.goodreads.com/book/show/38463.If_B...      M      Fiction   \n",
       "\n",
       "        subgenre  avg_goodreads_rating    started       date faves  year  \\\n",
       "0       Business                  4.04 2018-12-26 2019-01-06   NaN  2019   \n",
       "1     Literature                  3.87 2019-01-06 2019-01-16     Y  2019   \n",
       "2  Short Stories                  3.86 2019-01-16 2019-01-19   NaN  2019   \n",
       "3       Religion                  4.05 2019-01-18 2019-04-02   NaN  2019   \n",
       "4       Classics                  4.29 2019-01-22 2019-01-28   NaN  2019   \n",
       "\n",
       "   days_to_read gender_description  \n",
       "0            11             Female  \n",
       "1            10               Male  \n",
       "2             3             Female  \n",
       "3            74               Male  \n",
       "4             6               Male  "
      ]
     },
     "execution_count": 20,
     "metadata": {},
     "output_type": "execute_result"
    }
   ],
   "source": [
    "books.head()"
   ]
  },
  {
   "cell_type": "code",
   "execution_count": 21,
   "metadata": {},
   "outputs": [
    {
     "data": {
      "text/html": [
       "<div>\n",
       "<style scoped>\n",
       "    .dataframe tbody tr th:only-of-type {\n",
       "        vertical-align: middle;\n",
       "    }\n",
       "\n",
       "    .dataframe tbody tr th {\n",
       "        vertical-align: top;\n",
       "    }\n",
       "\n",
       "    .dataframe thead th {\n",
       "        text-align: right;\n",
       "    }\n",
       "</style>\n",
       "<table border=\"1\" class=\"dataframe\">\n",
       "  <thead>\n",
       "    <tr style=\"text-align: right;\">\n",
       "      <th></th>\n",
       "      <th>type</th>\n",
       "      <th>year</th>\n",
       "      <th>count</th>\n",
       "    </tr>\n",
       "  </thead>\n",
       "  <tbody>\n",
       "    <tr>\n",
       "      <th>1</th>\n",
       "      <td>Non-Fiction</td>\n",
       "      <td>2019</td>\n",
       "      <td>28</td>\n",
       "    </tr>\n",
       "    <tr>\n",
       "      <th>0</th>\n",
       "      <td>Fiction</td>\n",
       "      <td>2019</td>\n",
       "      <td>23</td>\n",
       "    </tr>\n",
       "    <tr>\n",
       "      <th>2</th>\n",
       "      <td>Poetry</td>\n",
       "      <td>2019</td>\n",
       "      <td>1</td>\n",
       "    </tr>\n",
       "  </tbody>\n",
       "</table>\n",
       "</div>"
      ],
      "text/plain": [
       "          type  year  count\n",
       "1  Non-Fiction  2019     28\n",
       "0      Fiction  2019     23\n",
       "2       Poetry  2019      1"
      ]
     },
     "execution_count": 21,
     "metadata": {},
     "output_type": "execute_result"
    }
   ],
   "source": [
    "book_type = books.groupby(['type', 'year']).agg('size').reset_index(name='count').sort_values(by='count', ascending=False)\n",
    "book_type.head()"
   ]
  },
  {
   "cell_type": "code",
   "execution_count": 22,
   "metadata": {},
   "outputs": [
    {
     "data": {
      "application/javascript": [
       "const spec = {\"config\": {\"view\": {\"width\": 800, \"height\": 450}, \"background\": \"#ffffff\", \"title\": {\"anchor\": \"start\", \"font\": \"Benton Gothic Bold, sans\", \"fontColor\": \"#000000\", \"fontSize\": 22, \"fontWeight\": \"normal\"}, \"arc\": {\"fill\": \"#82c6df\"}, \"area\": {\"fill\": \"#82c6df\"}, \"line\": {\"stroke\": \"#82c6df\", \"strokeWidth\": 3}, \"path\": {\"stroke\": \"#82c6df\"}, \"rect\": {\"fill\": \"#82c6df\"}, \"shape\": {\"stroke\": \"#82c6df\"}, \"bar\": {\"fill\": \"#82c6df\"}, \"point\": {\"stroke\": \"#82c6df\"}, \"symbol\": {\"fill\": \"#82c6df\", \"size\": 30}, \"axis\": {\"titleFont\": \"Benton Gothic Bold, sans\", \"titleFontSize\": 13, \"titleFontWeight\": \"normal\", \"labelFont\": \"Benton Gothic, sans\", \"labelFontSize\": 11.5, \"labelFontWeight\": \"normal\"}, \"axisX\": {\"labelAngle\": 0, \"labelPadding\": 4, \"tickSize\": 3}, \"axisY\": {\"labelBaseline\": \"middle\", \"maxExtent\": 45, \"minExtent\": 45, \"tickSize\": 2, \"titleAlign\": \"left\", \"titleAngle\": 0, \"titleX\": -45, \"titleY\": -11}, \"legend\": {\"titleFont\": \"Benton Gothic Bold, sans\", \"titleFontSize\": 13, \"titleFontWeight\": \"normal\", \"symbolType\": \"square\", \"labelFont\": \"Benton Gothic, sans\", \"labelFontSize\": 11.5}, \"range\": {\"category\": [\"#3580b1\", \"#ec8431\", \"#ab7fb4\", \"#c89d29\", \"#adc839\", \"#829eb1\"], \"diverging\": [\"#e68a4f\", \"#f4bb6a\", \"#f9e39c\", \"#dadfe2\", \"#a6b7c6\", \"#849eae\"], \"heatmap\": [\"#fbf2c7\", \"#f9e39c\", \"#f8d36e\", \"#f4bb6a\", \"#e68a4f\", \"#d15a40\", \"#ab4232\"], \"ordinal\": [\"#fbf2c7\", \"#f9e39c\", \"#f8d36e\", \"#f4bb6a\", \"#e68a4f\", \"#d15a40\", \"#ab4232\"], \"ramp\": [\"#fbf2c7\", \"#f9e39c\", \"#f8d36e\", \"#f4bb6a\", \"#e68a4f\", \"#d15a40\", \"#ab4232\"]}}, \"data\": {\"name\": \"data-e98a10b2e20bb5872246e16a6bf97be0\"}, \"mark\": \"bar\", \"encoding\": {\"color\": {\"type\": \"nominal\", \"field\": \"type\", \"legend\": {\"orient\": \"top\", \"title\": \"Book type\"}}, \"order\": {\"type\": \"nominal\", \"field\": \"type\", \"sort\": \"ascending\"}, \"x\": {\"type\": \"quantitative\", \"aggregate\": \"sum\", \"axis\": {\"format\": \"%\", \"tickCount\": 6}, \"field\": \"count\", \"stack\": \"normalize\", \"title\": \"Share of books read by genre\"}, \"y\": {\"type\": \"nominal\", \"field\": \"year\", \"title\": \"\"}}, \"height\": 30, \"width\": 700, \"$schema\": \"https://vega.github.io/schema/vega-lite/v3.4.0.json\", \"datasets\": {\"data-e98a10b2e20bb5872246e16a6bf97be0\": [{\"type\": \"Non-Fiction\", \"year\": \"2019\", \"count\": 28}, {\"type\": \"Fiction\", \"year\": \"2019\", \"count\": 23}, {\"type\": \"Poetry\", \"year\": \"2019\", \"count\": 1}]}};\n",
       "const opt = {};\n",
       "const type = \"vega-lite\";\n",
       "const id = \"de3d3fa9-c31b-4093-bdfd-c1921ffb69ee\";\n",
       "\n",
       "const output_area = this;\n",
       "\n",
       "require([\"nbextensions/jupyter-vega/index\"], function(vega) {\n",
       "  const target = document.createElement(\"div\");\n",
       "  target.id = id;\n",
       "  target.className = \"vega-embed\";\n",
       "\n",
       "  const style = document.createElement(\"style\");\n",
       "  style.textContent = [\n",
       "    \".vega-embed .error p {\",\n",
       "    \"  color: firebrick;\",\n",
       "    \"  font-size: 14px;\",\n",
       "    \"}\",\n",
       "  ].join(\"\\\\n\");\n",
       "\n",
       "  // element is a jQuery wrapped DOM element inside the output area\n",
       "  // see http://ipython.readthedocs.io/en/stable/api/generated/\\\n",
       "  // IPython.display.html#IPython.display.Javascript.__init__\n",
       "  element[0].appendChild(target);\n",
       "  element[0].appendChild(style);\n",
       "\n",
       "  vega.render(\"#\" + id, spec, type, opt, output_area);\n",
       "}, function (err) {\n",
       "  if (err.requireType !== \"scripterror\") {\n",
       "    throw(err);\n",
       "  }\n",
       "});\n"
      ],
      "text/plain": [
       "<vega.vegalite.VegaLite at 0x12c316278>"
      ]
     },
     "metadata": {
      "jupyter-vega": "#de3d3fa9-c31b-4093-bdfd-c1921ffb69ee"
     },
     "output_type": "display_data"
    },
    {
     "data": {
      "text/plain": []
     },
     "execution_count": 22,
     "metadata": {},
     "output_type": "execute_result"
    },
    {
     "data": {
      "image/png": "[encoded data removed]"
     },
     "metadata": {
      "jupyter-vega": "#de3d3fa9-c31b-4093-bdfd-c1921ffb69ee"
     },
     "output_type": "display_data"
    }
   ],
   "source": [
    "book_type_chart = alt.Chart(book_type).mark_bar().encode(\n",
    "    x=alt.X('sum(count)', stack=\"normalize\",  title='Share of books read by genre', \\\n",
    "            axis=alt.Axis(format='%',tickCount=6)),\n",
    "    y=alt.Y('year',title=''),\n",
    "    order=alt.Order(\n",
    "      # Sort the segments of the bars by this field\n",
    "      'type',\n",
    "      sort='ascending'\n",
    "    ),\n",
    "    color=alt.Color('type', legend=alt.Legend(orient=\"top\", title='Book type'))\n",
    ")\n",
    "\n",
    "(book_type_chart).properties(height=30,width=700)"
   ]
  },
  {
   "cell_type": "code",
   "execution_count": 23,
   "metadata": {},
   "outputs": [
    {
     "data": {
      "text/html": [
       "<div>\n",
       "<style scoped>\n",
       "    .dataframe tbody tr th:only-of-type {\n",
       "        vertical-align: middle;\n",
       "    }\n",
       "\n",
       "    .dataframe tbody tr th {\n",
       "        vertical-align: top;\n",
       "    }\n",
       "\n",
       "    .dataframe thead th {\n",
       "        text-align: right;\n",
       "    }\n",
       "</style>\n",
       "<table border=\"1\" class=\"dataframe\">\n",
       "  <thead>\n",
       "    <tr style=\"text-align: right;\">\n",
       "      <th></th>\n",
       "      <th>subgenre</th>\n",
       "      <th>count</th>\n",
       "    </tr>\n",
       "  </thead>\n",
       "  <tbody>\n",
       "    <tr>\n",
       "      <th>2</th>\n",
       "      <td>Contemporary</td>\n",
       "      <td>10</td>\n",
       "    </tr>\n",
       "    <tr>\n",
       "      <th>10</th>\n",
       "      <td>Memoir</td>\n",
       "      <td>5</td>\n",
       "    </tr>\n",
       "    <tr>\n",
       "      <th>3</th>\n",
       "      <td>Essays</td>\n",
       "      <td>5</td>\n",
       "    </tr>\n",
       "    <tr>\n",
       "      <th>4</th>\n",
       "      <td>Feminism</td>\n",
       "      <td>5</td>\n",
       "    </tr>\n",
       "    <tr>\n",
       "      <th>7</th>\n",
       "      <td>History</td>\n",
       "      <td>4</td>\n",
       "    </tr>\n",
       "  </tbody>\n",
       "</table>\n",
       "</div>"
      ],
      "text/plain": [
       "        subgenre  count\n",
       "2   Contemporary     10\n",
       "10        Memoir      5\n",
       "3         Essays      5\n",
       "4       Feminism      5\n",
       "7        History      4"
      ]
     },
     "execution_count": 23,
     "metadata": {},
     "output_type": "execute_result"
    }
   ],
   "source": [
    "book_genre = books.groupby('subgenre').agg('size').reset_index(name='count')\\\n",
    ".sort_values(by='count', ascending=False)\n",
    "book_genre.head()"
   ]
  },
  {
   "cell_type": "code",
   "execution_count": 24,
   "metadata": {
    "scrolled": true
   },
   "outputs": [
    {
     "data": {
      "application/javascript": [
       "const spec = {\"config\": {\"view\": {\"width\": 800, \"height\": 450}, \"background\": \"#ffffff\", \"title\": {\"anchor\": \"start\", \"font\": \"Benton Gothic Bold, sans\", \"fontColor\": \"#000000\", \"fontSize\": 22, \"fontWeight\": \"normal\"}, \"arc\": {\"fill\": \"#82c6df\"}, \"area\": {\"fill\": \"#82c6df\"}, \"line\": {\"stroke\": \"#82c6df\", \"strokeWidth\": 3}, \"path\": {\"stroke\": \"#82c6df\"}, \"rect\": {\"fill\": \"#82c6df\"}, \"shape\": {\"stroke\": \"#82c6df\"}, \"bar\": {\"fill\": \"#82c6df\"}, \"point\": {\"stroke\": \"#82c6df\"}, \"symbol\": {\"fill\": \"#82c6df\", \"size\": 30}, \"axis\": {\"titleFont\": \"Benton Gothic Bold, sans\", \"titleFontSize\": 13, \"titleFontWeight\": \"normal\", \"labelFont\": \"Benton Gothic, sans\", \"labelFontSize\": 11.5, \"labelFontWeight\": \"normal\"}, \"axisX\": {\"labelAngle\": 0, \"labelPadding\": 4, \"tickSize\": 3}, \"axisY\": {\"labelBaseline\": \"middle\", \"maxExtent\": 45, \"minExtent\": 45, \"tickSize\": 2, \"titleAlign\": \"left\", \"titleAngle\": 0, \"titleX\": -45, \"titleY\": -11}, \"legend\": {\"titleFont\": \"Benton Gothic Bold, sans\", \"titleFontSize\": 13, \"titleFontWeight\": \"normal\", \"symbolType\": \"square\", \"labelFont\": \"Benton Gothic, sans\", \"labelFontSize\": 11.5}, \"range\": {\"category\": [\"#3580b1\", \"#ec8431\", \"#ab7fb4\", \"#c89d29\", \"#adc839\", \"#829eb1\"], \"diverging\": [\"#e68a4f\", \"#f4bb6a\", \"#f9e39c\", \"#dadfe2\", \"#a6b7c6\", \"#849eae\"], \"heatmap\": [\"#fbf2c7\", \"#f9e39c\", \"#f8d36e\", \"#f4bb6a\", \"#e68a4f\", \"#d15a40\", \"#ab4232\"], \"ordinal\": [\"#fbf2c7\", \"#f9e39c\", \"#f8d36e\", \"#f4bb6a\", \"#e68a4f\", \"#d15a40\", \"#ab4232\"], \"ramp\": [\"#fbf2c7\", \"#f9e39c\", \"#f8d36e\", \"#f4bb6a\", \"#e68a4f\", \"#d15a40\", \"#ab4232\"]}}, \"data\": {\"name\": \"data-beffdd9ad55cc784d493a171502eed9a\"}, \"mark\": \"bar\", \"encoding\": {\"x\": {\"type\": \"quantitative\", \"axis\": {\"format\": \"\", \"tickCount\": 6}, \"field\": \"count\", \"title\": \" \"}, \"y\": {\"type\": \"nominal\", \"field\": \"subgenre\", \"sort\": {\"field\": \"count:Q\", \"op\": \"sum\", \"order\": \"ascending\"}, \"title\": \" \"}}, \"height\": 500, \"title\": \"Books read, by subgenre\", \"width\": 700, \"$schema\": \"https://vega.github.io/schema/vega-lite/v3.4.0.json\", \"datasets\": {\"data-beffdd9ad55cc784d493a171502eed9a\": [{\"subgenre\": \"Contemporary\", \"count\": 10}, {\"subgenre\": \"Memoir\", \"count\": 5}, {\"subgenre\": \"Essays\", \"count\": 5}, {\"subgenre\": \"Feminism\", \"count\": 5}, {\"subgenre\": \"History\", \"count\": 4}, {\"subgenre\": \"Short Stories\", \"count\": 3}, {\"subgenre\": \"Young Adult\", \"count\": 3}, {\"subgenre\": \"Classics\", \"count\": 2}, {\"subgenre\": \"Science\", \"count\": 2}, {\"subgenre\": \"Writing\", \"count\": 2}, {\"subgenre\": \"Historical\", \"count\": 1}, {\"subgenre\": \"Japanese Lit\", \"count\": 1}, {\"subgenre\": \"Literature\", \"count\": 1}, {\"subgenre\": \"Parenting\", \"count\": 1}, {\"subgenre\": \"Pop Culture\", \"count\": 1}, {\"subgenre\": \"Religion\", \"count\": 1}, {\"subgenre\": \"Science \", \"count\": 1}, {\"subgenre\": \"Graphic Novel\", \"count\": 1}, {\"subgenre\": \"Swedish Lit\", \"count\": 1}, {\"subgenre\": \"True Crime\", \"count\": 1}, {\"subgenre\": \"Business\", \"count\": 1}]}};\n",
       "const opt = {};\n",
       "const type = \"vega-lite\";\n",
       "const id = \"0e019e09-eeaa-4fab-8e94-e526daab835d\";\n",
       "\n",
       "const output_area = this;\n",
       "\n",
       "require([\"nbextensions/jupyter-vega/index\"], function(vega) {\n",
       "  const target = document.createElement(\"div\");\n",
       "  target.id = id;\n",
       "  target.className = \"vega-embed\";\n",
       "\n",
       "  const style = document.createElement(\"style\");\n",
       "  style.textContent = [\n",
       "    \".vega-embed .error p {\",\n",
       "    \"  color: firebrick;\",\n",
       "    \"  font-size: 14px;\",\n",
       "    \"}\",\n",
       "  ].join(\"\\\\n\");\n",
       "\n",
       "  // element is a jQuery wrapped DOM element inside the output area\n",
       "  // see http://ipython.readthedocs.io/en/stable/api/generated/\\\n",
       "  // IPython.display.html#IPython.display.Javascript.__init__\n",
       "  element[0].appendChild(target);\n",
       "  element[0].appendChild(style);\n",
       "\n",
       "  vega.render(\"#\" + id, spec, type, opt, output_area);\n",
       "}, function (err) {\n",
       "  if (err.requireType !== \"scripterror\") {\n",
       "    throw(err);\n",
       "  }\n",
       "});\n"
      ],
      "text/plain": [
       "<vega.vegalite.VegaLite at 0x12c31df60>"
      ]
     },
     "metadata": {
      "jupyter-vega": "#0e019e09-eeaa-4fab-8e94-e526daab835d"
     },
     "output_type": "display_data"
    },
    {
     "data": {
      "text/plain": []
     },
     "execution_count": 24,
     "metadata": {},
     "output_type": "execute_result"
    },
    {
     "data": {
      "image/png": "[encoded data removed]"
     },
     "metadata": {
      "jupyter-vega": "#0e019e09-eeaa-4fab-8e94-e526daab835d"
     },
     "output_type": "display_data"
    }
   ],
   "source": [
    "alt.Chart(book_genre).mark_bar().encode(\n",
    "    y=alt.Y(\"subgenre:N\", title=' ',\n",
    "           sort=alt.EncodingSortField(\n",
    "            field=\"count:Q\",  # The field to use for the sort\n",
    "            op=\"sum\",  # The operation to run on the field prior to sorting\n",
    "            order=\"ascending\"  # The order to sort in\n",
    "        )),\n",
    "    x=alt.X(\"count:Q\", title=' ', axis=alt.Axis(tickCount=6, format=''))\n",
    ").properties(height=500, width=700, title='Books read, by subgenre')"
   ]
  },
  {
   "cell_type": "markdown",
   "metadata": {},
   "source": [
    "---"
   ]
  },
  {
   "cell_type": "code",
   "execution_count": 25,
   "metadata": {},
   "outputs": [
    {
     "data": {
      "text/html": [
       "<div>\n",
       "<style scoped>\n",
       "    .dataframe tbody tr th:only-of-type {\n",
       "        vertical-align: middle;\n",
       "    }\n",
       "\n",
       "    .dataframe tbody tr th {\n",
       "        vertical-align: top;\n",
       "    }\n",
       "\n",
       "    .dataframe thead th {\n",
       "        text-align: right;\n",
       "    }\n",
       "</style>\n",
       "<table border=\"1\" class=\"dataframe\">\n",
       "  <thead>\n",
       "    <tr style=\"text-align: right;\">\n",
       "      <th></th>\n",
       "      <th>gender_description</th>\n",
       "      <th>year</th>\n",
       "      <th>count</th>\n",
       "    </tr>\n",
       "  </thead>\n",
       "  <tbody>\n",
       "    <tr>\n",
       "      <th>0</th>\n",
       "      <td>Female</td>\n",
       "      <td>2019</td>\n",
       "      <td>33</td>\n",
       "    </tr>\n",
       "    <tr>\n",
       "      <th>1</th>\n",
       "      <td>Male</td>\n",
       "      <td>2019</td>\n",
       "      <td>19</td>\n",
       "    </tr>\n",
       "  </tbody>\n",
       "</table>\n",
       "</div>"
      ],
      "text/plain": [
       "  gender_description  year  count\n",
       "0             Female  2019     33\n",
       "1               Male  2019     19"
      ]
     },
     "execution_count": 25,
     "metadata": {},
     "output_type": "execute_result"
    }
   ],
   "source": [
    "book_gender = books.groupby(['gender_description', 'year']).agg('size').reset_index(name='count').sort_values(by='count', ascending=False)\n",
    "book_gender.head()"
   ]
  },
  {
   "cell_type": "code",
   "execution_count": 26,
   "metadata": {},
   "outputs": [
    {
     "data": {
      "application/javascript": [
       "const spec = {\"config\": {\"view\": {\"width\": 800, \"height\": 450}, \"background\": \"#ffffff\", \"title\": {\"anchor\": \"start\", \"font\": \"Benton Gothic Bold, sans\", \"fontColor\": \"#000000\", \"fontSize\": 22, \"fontWeight\": \"normal\"}, \"arc\": {\"fill\": \"#82c6df\"}, \"area\": {\"fill\": \"#82c6df\"}, \"line\": {\"stroke\": \"#82c6df\", \"strokeWidth\": 3}, \"path\": {\"stroke\": \"#82c6df\"}, \"rect\": {\"fill\": \"#82c6df\"}, \"shape\": {\"stroke\": \"#82c6df\"}, \"bar\": {\"fill\": \"#82c6df\"}, \"point\": {\"stroke\": \"#82c6df\"}, \"symbol\": {\"fill\": \"#82c6df\", \"size\": 30}, \"axis\": {\"titleFont\": \"Benton Gothic Bold, sans\", \"titleFontSize\": 13, \"titleFontWeight\": \"normal\", \"labelFont\": \"Benton Gothic, sans\", \"labelFontSize\": 11.5, \"labelFontWeight\": \"normal\"}, \"axisX\": {\"labelAngle\": 0, \"labelPadding\": 4, \"tickSize\": 3}, \"axisY\": {\"labelBaseline\": \"middle\", \"maxExtent\": 45, \"minExtent\": 45, \"tickSize\": 2, \"titleAlign\": \"left\", \"titleAngle\": 0, \"titleX\": -45, \"titleY\": -11}, \"legend\": {\"titleFont\": \"Benton Gothic Bold, sans\", \"titleFontSize\": 13, \"titleFontWeight\": \"normal\", \"symbolType\": \"square\", \"labelFont\": \"Benton Gothic, sans\", \"labelFontSize\": 11.5}, \"range\": {\"category\": [\"#3580b1\", \"#ec8431\", \"#ab7fb4\", \"#c89d29\", \"#adc839\", \"#829eb1\"], \"diverging\": [\"#e68a4f\", \"#f4bb6a\", \"#f9e39c\", \"#dadfe2\", \"#a6b7c6\", \"#849eae\"], \"heatmap\": [\"#fbf2c7\", \"#f9e39c\", \"#f8d36e\", \"#f4bb6a\", \"#e68a4f\", \"#d15a40\", \"#ab4232\"], \"ordinal\": [\"#fbf2c7\", \"#f9e39c\", \"#f8d36e\", \"#f4bb6a\", \"#e68a4f\", \"#d15a40\", \"#ab4232\"], \"ramp\": [\"#fbf2c7\", \"#f9e39c\", \"#f8d36e\", \"#f4bb6a\", \"#e68a4f\", \"#d15a40\", \"#ab4232\"]}}, \"layer\": [{\"mark\": \"bar\", \"encoding\": {\"color\": {\"type\": \"nominal\", \"field\": \"gender_description\", \"legend\": null}, \"x\": {\"type\": \"quantitative\", \"aggregate\": \"sum\", \"axis\": {\"format\": \"%\", \"tickCount\": 6}, \"field\": \"count\", \"stack\": \"normalize\", \"title\": \"Share of books read by author gender\"}, \"y\": {\"type\": \"nominal\", \"field\": \"year\", \"sort\": {\"field\": \"count:N\", \"op\": \"count\", \"order\": \"descending\"}, \"title\": \"\"}}}, {\"mark\": {\"type\": \"text\", \"align\": \"right\", \"baseline\": \"middle\", \"dx\": -10}, \"encoding\": {\"color\": {\"condition\": {\"value\": \"white\", \"test\": \"(datum.year === '2019')\"}, \"value\": \"white\"}, \"text\": {\"type\": \"nominal\", \"field\": \"gender_description\"}, \"x\": {\"type\": \"quantitative\", \"aggregate\": \"sum\", \"axis\": {\"format\": \"%\", \"tickCount\": 6}, \"field\": \"count\", \"stack\": \"normalize\", \"title\": \"Share of books read by author gender\"}, \"y\": {\"type\": \"nominal\", \"field\": \"year\", \"sort\": {\"field\": \"count:N\", \"op\": \"count\", \"order\": \"descending\"}, \"title\": \"\"}}}], \"data\": {\"name\": \"data-52f5f522536f77600377b89b2831c3e6\"}, \"height\": 30, \"width\": 700, \"$schema\": \"https://vega.github.io/schema/vega-lite/v3.4.0.json\", \"datasets\": {\"data-52f5f522536f77600377b89b2831c3e6\": [{\"gender_description\": \"Female\", \"year\": \"2019\", \"count\": 33}, {\"gender_description\": \"Male\", \"year\": \"2019\", \"count\": 19}]}};\n",
       "const opt = {};\n",
       "const type = \"vega-lite\";\n",
       "const id = \"21c6c065-6916-4945-9676-a14a66727c21\";\n",
       "\n",
       "const output_area = this;\n",
       "\n",
       "require([\"nbextensions/jupyter-vega/index\"], function(vega) {\n",
       "  const target = document.createElement(\"div\");\n",
       "  target.id = id;\n",
       "  target.className = \"vega-embed\";\n",
       "\n",
       "  const style = document.createElement(\"style\");\n",
       "  style.textContent = [\n",
       "    \".vega-embed .error p {\",\n",
       "    \"  color: firebrick;\",\n",
       "    \"  font-size: 14px;\",\n",
       "    \"}\",\n",
       "  ].join(\"\\\\n\");\n",
       "\n",
       "  // element is a jQuery wrapped DOM element inside the output area\n",
       "  // see http://ipython.readthedocs.io/en/stable/api/generated/\\\n",
       "  // IPython.display.html#IPython.display.Javascript.__init__\n",
       "  element[0].appendChild(target);\n",
       "  element[0].appendChild(style);\n",
       "\n",
       "  vega.render(\"#\" + id, spec, type, opt, output_area);\n",
       "}, function (err) {\n",
       "  if (err.requireType !== \"scripterror\") {\n",
       "    throw(err);\n",
       "  }\n",
       "});\n"
      ],
      "text/plain": [
       "<vega.vegalite.VegaLite at 0x123d9aa20>"
      ]
     },
     "metadata": {
      "jupyter-vega": "#21c6c065-6916-4945-9676-a14a66727c21"
     },
     "output_type": "display_data"
    },
    {
     "data": {
      "text/plain": []
     },
     "execution_count": 26,
     "metadata": {},
     "output_type": "execute_result"
    },
    {
     "data": {
      "image/png": "[encoded data removed]"
     },
     "metadata": {
      "jupyter-vega": "#21c6c065-6916-4945-9676-a14a66727c21"
     },
     "output_type": "display_data"
    }
   ],
   "source": [
    "book_gender_chart = alt.Chart(book_gender).mark_bar().encode(\n",
    "    x=alt.X('sum(count)', stack=\"normalize\",  title='Share of books read by author gender',\\\n",
    "            axis=alt.Axis(format='%',tickCount=6)),\n",
    "    y=alt.Y('year',title='',\n",
    "            sort=alt.EncodingSortField(\n",
    "            field=\"count:N\",  # The field to use for the sort\n",
    "            op=\"count\",  # The operation to run on the field prior to sorting\n",
    "            order=\"descending\"  # The order to sort in)\n",
    "            )),\n",
    "    color=alt.Color('gender_description', legend=None)\n",
    ")\n",
    "\n",
    "book_gender_chart_text = book_gender_chart.mark_text(\n",
    "    align='right',\n",
    "    baseline='middle',\n",
    "    dx=-10\n",
    ").encode(text=alt.Text('gender_description'), \n",
    "    color=alt.condition(\n",
    "        alt.datum.year == '2019',\n",
    "        alt.value('white'),\n",
    "        alt.value('white')\n",
    "    )\n",
    ")\n",
    "\n",
    "\n",
    "(book_gender_chart + book_gender_chart_text).properties(height=30,width=700)"
   ]
  },
  {
   "cell_type": "markdown",
   "metadata": {},
   "source": [
    "---"
   ]
  },
  {
   "cell_type": "markdown",
   "metadata": {},
   "source": [
    "### Ratings by subgenre"
   ]
  },
  {
   "cell_type": "code",
   "execution_count": 27,
   "metadata": {},
   "outputs": [
    {
     "data": {
      "text/html": [
       "<div>\n",
       "<style scoped>\n",
       "    .dataframe tbody tr th:only-of-type {\n",
       "        vertical-align: middle;\n",
       "    }\n",
       "\n",
       "    .dataframe tbody tr th {\n",
       "        vertical-align: top;\n",
       "    }\n",
       "\n",
       "    .dataframe thead th {\n",
       "        text-align: right;\n",
       "    }\n",
       "</style>\n",
       "<table border=\"1\" class=\"dataframe\">\n",
       "  <thead>\n",
       "    <tr style=\"text-align: right;\">\n",
       "      <th></th>\n",
       "      <th>subgenre</th>\n",
       "      <th>gender_description</th>\n",
       "      <th>avg_goodreads_rating</th>\n",
       "    </tr>\n",
       "  </thead>\n",
       "  <tbody>\n",
       "    <tr>\n",
       "      <th>21</th>\n",
       "      <td>True Crime</td>\n",
       "      <td>Male</td>\n",
       "      <td>4.48</td>\n",
       "    </tr>\n",
       "    <tr>\n",
       "      <th>23</th>\n",
       "      <td>Writing</td>\n",
       "      <td>Male</td>\n",
       "      <td>4.43</td>\n",
       "    </tr>\n",
       "    <tr>\n",
       "      <th>6</th>\n",
       "      <td>Graphic Novel</td>\n",
       "      <td>Female</td>\n",
       "      <td>4.30</td>\n",
       "    </tr>\n",
       "    <tr>\n",
       "      <th>16</th>\n",
       "      <td>Science</td>\n",
       "      <td>Male</td>\n",
       "      <td>4.29</td>\n",
       "    </tr>\n",
       "    <tr>\n",
       "      <th>13</th>\n",
       "      <td>Parenting</td>\n",
       "      <td>Female</td>\n",
       "      <td>4.26</td>\n",
       "    </tr>\n",
       "    <tr>\n",
       "      <th>1</th>\n",
       "      <td>Classics</td>\n",
       "      <td>Male</td>\n",
       "      <td>4.19</td>\n",
       "    </tr>\n",
       "    <tr>\n",
       "      <th>11</th>\n",
       "      <td>Memoir</td>\n",
       "      <td>Female</td>\n",
       "      <td>4.11</td>\n",
       "    </tr>\n",
       "    <tr>\n",
       "      <th>15</th>\n",
       "      <td>Religion</td>\n",
       "      <td>Male</td>\n",
       "      <td>4.05</td>\n",
       "    </tr>\n",
       "    <tr>\n",
       "      <th>0</th>\n",
       "      <td>Business</td>\n",
       "      <td>Female</td>\n",
       "      <td>4.04</td>\n",
       "    </tr>\n",
       "    <tr>\n",
       "      <th>22</th>\n",
       "      <td>Writing</td>\n",
       "      <td>Female</td>\n",
       "      <td>4.04</td>\n",
       "    </tr>\n",
       "    <tr>\n",
       "      <th>8</th>\n",
       "      <td>History</td>\n",
       "      <td>Male</td>\n",
       "      <td>4.02</td>\n",
       "    </tr>\n",
       "    <tr>\n",
       "      <th>5</th>\n",
       "      <td>Feminism</td>\n",
       "      <td>Female</td>\n",
       "      <td>4.00</td>\n",
       "    </tr>\n",
       "    <tr>\n",
       "      <th>17</th>\n",
       "      <td>Science</td>\n",
       "      <td>Male</td>\n",
       "      <td>3.98</td>\n",
       "    </tr>\n",
       "    <tr>\n",
       "      <th>14</th>\n",
       "      <td>Pop Culture</td>\n",
       "      <td>Male</td>\n",
       "      <td>3.95</td>\n",
       "    </tr>\n",
       "    <tr>\n",
       "      <th>24</th>\n",
       "      <td>Young Adult</td>\n",
       "      <td>Female</td>\n",
       "      <td>3.93</td>\n",
       "    </tr>\n",
       "    <tr>\n",
       "      <th>4</th>\n",
       "      <td>Essays</td>\n",
       "      <td>Female</td>\n",
       "      <td>3.93</td>\n",
       "    </tr>\n",
       "    <tr>\n",
       "      <th>10</th>\n",
       "      <td>Literature</td>\n",
       "      <td>Male</td>\n",
       "      <td>3.87</td>\n",
       "    </tr>\n",
       "    <tr>\n",
       "      <th>18</th>\n",
       "      <td>Short Stories</td>\n",
       "      <td>Female</td>\n",
       "      <td>3.86</td>\n",
       "    </tr>\n",
       "    <tr>\n",
       "      <th>7</th>\n",
       "      <td>Historical</td>\n",
       "      <td>Female</td>\n",
       "      <td>3.78</td>\n",
       "    </tr>\n",
       "    <tr>\n",
       "      <th>19</th>\n",
       "      <td>Short Stories</td>\n",
       "      <td>Male</td>\n",
       "      <td>3.75</td>\n",
       "    </tr>\n",
       "    <tr>\n",
       "      <th>12</th>\n",
       "      <td>Memoir</td>\n",
       "      <td>Male</td>\n",
       "      <td>3.72</td>\n",
       "    </tr>\n",
       "    <tr>\n",
       "      <th>3</th>\n",
       "      <td>Contemporary</td>\n",
       "      <td>Male</td>\n",
       "      <td>3.70</td>\n",
       "    </tr>\n",
       "    <tr>\n",
       "      <th>2</th>\n",
       "      <td>Contemporary</td>\n",
       "      <td>Female</td>\n",
       "      <td>3.67</td>\n",
       "    </tr>\n",
       "    <tr>\n",
       "      <th>9</th>\n",
       "      <td>Japanese Lit</td>\n",
       "      <td>Female</td>\n",
       "      <td>3.66</td>\n",
       "    </tr>\n",
       "    <tr>\n",
       "      <th>20</th>\n",
       "      <td>Swedish Lit</td>\n",
       "      <td>Female</td>\n",
       "      <td>3.66</td>\n",
       "    </tr>\n",
       "  </tbody>\n",
       "</table>\n",
       "</div>"
      ],
      "text/plain": [
       "         subgenre gender_description  avg_goodreads_rating\n",
       "21     True Crime               Male                  4.48\n",
       "23        Writing               Male                  4.43\n",
       "6   Graphic Novel             Female                  4.30\n",
       "16        Science               Male                  4.29\n",
       "13      Parenting             Female                  4.26\n",
       "1        Classics               Male                  4.19\n",
       "11         Memoir             Female                  4.11\n",
       "15       Religion               Male                  4.05\n",
       "0        Business             Female                  4.04\n",
       "22        Writing             Female                  4.04\n",
       "8         History               Male                  4.02\n",
       "5        Feminism             Female                  4.00\n",
       "17       Science                Male                  3.98\n",
       "14    Pop Culture               Male                  3.95\n",
       "24    Young Adult             Female                  3.93\n",
       "4          Essays             Female                  3.93\n",
       "10     Literature               Male                  3.87\n",
       "18  Short Stories             Female                  3.86\n",
       "7      Historical             Female                  3.78\n",
       "19  Short Stories               Male                  3.75\n",
       "12         Memoir               Male                  3.72\n",
       "3    Contemporary               Male                  3.70\n",
       "2    Contemporary             Female                  3.67\n",
       "9    Japanese Lit             Female                  3.66\n",
       "20    Swedish Lit             Female                  3.66"
      ]
     },
     "execution_count": 27,
     "metadata": {},
     "output_type": "execute_result"
    }
   ],
   "source": [
    "books.groupby(['subgenre', 'gender_description']).agg({ 'avg_goodreads_rating': 'mean' }).reset_index()\\\n",
    ".sort_values(by='avg_goodreads_rating',ascending=False)"
   ]
  }
 ],
 "metadata": {
  "kernelspec": {
   "display_name": "Python 3",
   "language": "python",
   "name": "python3"
  },
  "language_info": {
   "codemirror_mode": {
    "name": "ipython",
    "version": 3
   },
   "file_extension": ".py",
   "mimetype": "text/x-python",
   "name": "python",
   "nbconvert_exporter": "python",
   "pygments_lexer": "ipython3",
   "version": "3.7.3"
  }
 },
 "nbformat": 4,
 "nbformat_minor": 2
}
