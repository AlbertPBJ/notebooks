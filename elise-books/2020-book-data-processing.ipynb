{
 "cells": [
  {
   "cell_type": "markdown",
   "metadata": {},
   "source": [
    "# Elise Hu: 2020 books"
   ]
  },
  {
   "cell_type": "markdown",
   "metadata": {},
   "source": [
    "Quick analysis of the books she read last year."
   ]
  },
  {
   "cell_type": "markdown",
   "metadata": {},
   "source": [
    "### Load Python tools "
   ]
  },
  {
   "cell_type": "code",
   "execution_count": 1,
   "metadata": {},
   "outputs": [],
   "source": [
    "import pandas as pd\n",
    "import geopandas as gpd\n",
    "from urllib.request import urlopen \n",
    "import pyarrow\n",
    "import jenkspy\n",
    "import matplotlib.pyplot as plt\n",
    "%matplotlib inline\n",
    "import json\n",
    "import numpy as np\n",
    "from altair import datum\n",
    "import altair as alt"
   ]
  },
  {
   "cell_type": "code",
   "execution_count": 2,
   "metadata": {},
   "outputs": [
    {
     "data": {
      "text/plain": [
       "ThemeRegistry.enable('vox')"
      ]
     },
     "execution_count": 2,
     "metadata": {},
     "output_type": "execute_result"
    }
   ],
   "source": [
    "alt.themes.enable('vox')"
   ]
  },
  {
   "cell_type": "code",
   "execution_count": 3,
   "metadata": {},
   "outputs": [],
   "source": [
    "plt.rcParams['figure.figsize'] = (16,8)"
   ]
  },
  {
   "cell_type": "code",
   "execution_count": 4,
   "metadata": {},
   "outputs": [
    {
     "data": {
      "text/plain": [
       "DataTransformerRegistry.enable('default')"
      ]
     },
     "execution_count": 4,
     "metadata": {},
     "output_type": "execute_result"
    }
   ],
   "source": [
    "pd.options.display.max_columns = 50\n",
    "pd.options.display.max_rows = 1000\n",
    "alt.data_transformers.disable_max_rows()"
   ]
  },
  {
   "cell_type": "code",
   "execution_count": 5,
   "metadata": {},
   "outputs": [],
   "source": [
    "pd.options.display.float_format = '{:,.2f}'.format"
   ]
  },
  {
   "cell_type": "markdown",
   "metadata": {},
   "source": [
    "### Read book data from Elise"
   ]
  },
  {
   "cell_type": "code",
   "execution_count": 6,
   "metadata": {},
   "outputs": [],
   "source": [
    "url = 'https://spreadsheets.google.com/feeds/download/spreadsheets/Export?key=1Y2lvWJE1pRjvG6e-mJcpXDeANh9EK0nWHJEQIoJrOHM&exportFormat=csv'"
   ]
  },
  {
   "cell_type": "code",
   "execution_count": 7,
   "metadata": {},
   "outputs": [],
   "source": [
    "# src = pd.read_csv(url, parse_dates=True, infer_datetime_format=True)"
   ]
  },
  {
   "cell_type": "code",
   "execution_count": 8,
   "metadata": {},
   "outputs": [],
   "source": [
    "src = pd.read_excel('input/elise-2020-books.xls')"
   ]
  },
  {
   "cell_type": "code",
   "execution_count": 9,
   "metadata": {},
   "outputs": [
    {
     "data": {
      "text/plain": [
       "Order                            int64\n",
       "Title                           object\n",
       "Author                          object\n",
       "Pages                          float64\n",
       "URL                             object\n",
       "gender                          object\n",
       "type                            object\n",
       "Subgenre                        object\n",
       "Avg GoodReads Rating           float64\n",
       "Started                 datetime64[ns]\n",
       "date                    datetime64[ns]\n",
       "Faves                           object\n",
       "dtype: object"
      ]
     },
     "execution_count": 9,
     "metadata": {},
     "output_type": "execute_result"
    }
   ],
   "source": [
    "src.dtypes"
   ]
  },
  {
   "cell_type": "markdown",
   "metadata": {},
   "source": [
    "### Clean up field headers, data types"
   ]
  },
  {
   "cell_type": "code",
   "execution_count": 10,
   "metadata": {},
   "outputs": [
    {
     "name": "stderr",
     "output_type": "stream",
     "text": [
      "/Users/mhustiles/.virtualenvs/notebooks-hnoN6uG0/lib/python3.7/site-packages/ipykernel_launcher.py:1: FutureWarning: The default value of regex will change from True to False in a future version. In addition, single character regular expressions will*not* be treated as literal strings when regex=True.\n",
      "  \"\"\"Entry point for launching an IPython kernel.\n"
     ]
    }
   ],
   "source": [
    "src.columns = src.columns.str.strip().str.lower().str.replace(' ', '_').str.replace('(', '').str.replace(')', '').str.replace('-','_')"
   ]
  },
  {
   "cell_type": "code",
   "execution_count": 11,
   "metadata": {},
   "outputs": [],
   "source": [
    "src['year'] = src['date'].dt.year.astype(str).str.replace('.0','',regex=False)"
   ]
  },
  {
   "cell_type": "code",
   "execution_count": 12,
   "metadata": {},
   "outputs": [],
   "source": [
    "src['type'] = src['type'].str.replace(' ', '-')"
   ]
  },
  {
   "cell_type": "code",
   "execution_count": 13,
   "metadata": {},
   "outputs": [],
   "source": [
    "src['days_to_read'] = src['date'] - src['started']"
   ]
  },
  {
   "cell_type": "markdown",
   "metadata": {},
   "source": [
    "### Make gender more descriptive, calculate number of reading days"
   ]
  },
  {
   "cell_type": "code",
   "execution_count": 14,
   "metadata": {},
   "outputs": [],
   "source": [
    "src['gender_description'] = src.gender.replace({'M': 'Male', 'F': 'Female'})"
   ]
  },
  {
   "cell_type": "code",
   "execution_count": 15,
   "metadata": {},
   "outputs": [],
   "source": [
    "src['days_to_read'] = src['days_to_read'].dt.days"
   ]
  },
  {
   "cell_type": "markdown",
   "metadata": {},
   "source": [
    "### Now start fresh with a dataframe called 'books'"
   ]
  },
  {
   "cell_type": "code",
   "execution_count": 16,
   "metadata": {},
   "outputs": [],
   "source": [
    "books = pd.DataFrame(src)"
   ]
  },
  {
   "cell_type": "markdown",
   "metadata": {},
   "source": [
    "### When did Elise finish her books?"
   ]
  },
  {
   "cell_type": "code",
   "execution_count": 17,
   "metadata": {},
   "outputs": [
    {
     "data": {
      "text/html": [
       "\n",
       "<div id=\"altair-viz-bd5f39b6ef0f498cbf540b7a47038bf5\"></div>\n",
       "<script type=\"text/javascript\">\n",
       "  (function(spec, embedOpt){\n",
       "    let outputDiv = document.currentScript.previousElementSibling;\n",
       "    if (outputDiv.id !== \"altair-viz-bd5f39b6ef0f498cbf540b7a47038bf5\") {\n",
       "      outputDiv = document.getElementById(\"altair-viz-bd5f39b6ef0f498cbf540b7a47038bf5\");\n",
       "    }\n",
       "    const paths = {\n",
       "      \"vega\": \"https://cdn.jsdelivr.net/npm//vega@5?noext\",\n",
       "      \"vega-lib\": \"https://cdn.jsdelivr.net/npm//vega-lib?noext\",\n",
       "      \"vega-lite\": \"https://cdn.jsdelivr.net/npm//vega-lite@4.8.1?noext\",\n",
       "      \"vega-embed\": \"https://cdn.jsdelivr.net/npm//vega-embed@6?noext\",\n",
       "    };\n",
       "\n",
       "    function loadScript(lib) {\n",
       "      return new Promise(function(resolve, reject) {\n",
       "        var s = document.createElement('script');\n",
       "        s.src = paths[lib];\n",
       "        s.async = true;\n",
       "        s.onload = () => resolve(paths[lib]);\n",
       "        s.onerror = () => reject(`Error loading script: ${paths[lib]}`);\n",
       "        document.getElementsByTagName(\"head\")[0].appendChild(s);\n",
       "      });\n",
       "    }\n",
       "\n",
       "    function showError(err) {\n",
       "      outputDiv.innerHTML = `<div class=\"error\" style=\"color:red;\">${err}</div>`;\n",
       "      throw err;\n",
       "    }\n",
       "\n",
       "    function displayChart(vegaEmbed) {\n",
       "      vegaEmbed(outputDiv, spec, embedOpt)\n",
       "        .catch(err => showError(`Javascript Error: ${err.message}<br>This usually means there's a typo in your chart specification. See the javascript console for the full traceback.`));\n",
       "    }\n",
       "\n",
       "    if(typeof define === \"function\" && define.amd) {\n",
       "      requirejs.config({paths});\n",
       "      require([\"vega-embed\"], displayChart, err => showError(`Error loading script: ${err.message}`));\n",
       "    } else if (typeof vegaEmbed === \"function\") {\n",
       "      displayChart(vegaEmbed);\n",
       "    } else {\n",
       "      loadScript(\"vega\")\n",
       "        .then(() => loadScript(\"vega-lite\"))\n",
       "        .then(() => loadScript(\"vega-embed\"))\n",
       "        .catch(showError)\n",
       "        .then(() => displayChart(vegaEmbed));\n",
       "    }\n",
       "  })({\"usermeta\": {\"embedOptions\": {\"theme\": \"vox\"}}, \"config\": {\"view\": {\"continuousWidth\": 400, \"continuousHeight\": 300}, \"axis\": {\"grid\": false}}, \"data\": {\"name\": \"data-8e391cabd5bc49dcb5a9fe358321c344\"}, \"mark\": {\"type\": \"tick\", \"size\": 20, \"thickness\": 2}, \"encoding\": {\"x\": {\"type\": \"temporal\", \"axis\": {\"format\": \"%b\", \"tickColor\": \"#ffffff\", \"tickCount\": 12}, \"field\": \"date\", \"title\": \"\"}, \"y\": {\"type\": \"nominal\", \"axis\": {\"tickColor\": \"#ffffff\", \"tickCount\": 0}, \"field\": \"year\", \"title\": \" \"}}, \"height\": 40, \"width\": 700, \"$schema\": \"https://vega.github.io/schema/vega-lite/v4.8.1.json\", \"datasets\": {\"data-8e391cabd5bc49dcb5a9fe358321c344\": [{\"order\": 1, \"title\": \"How to Do Nothing\", \"author\": \"Jenny Odell\", \"pages\": 240.0, \"url\": \"https://www.goodreads.com/author/show/18614151.Jenny_Odell\", \"gender\": \"F\", \"type\": \"Non-Fiction\", \"subgenre\": \"Self Help\", \"avg_goodreads_rating\": 3.97, \"started\": \"2019-12-25T00:00:00\", \"date\": \"2020-01-06T00:00:00\", \"faves\": null, \"year\": \"2020\", \"days_to_read\": 12, \"gender_description\": \"Female\"}, {\"order\": 2, \"title\": \"Becoming Wise\", \"author\": \"Krista Tippett\", \"pages\": 288.0, \"url\": \"https://www.goodreads.com/book/show/25894085-becoming-wise\", \"gender\": \"F\", \"type\": \"Non-Fiction\", \"subgenre\": \"Spirituality\", \"avg_goodreads_rating\": 4.15, \"started\": \"2020-01-01T00:00:00\", \"date\": \"2020-01-12T00:00:00\", \"faves\": \"Y\", \"year\": \"2020\", \"days_to_read\": 11, \"gender_description\": \"Female\"}, {\"order\": 3, \"title\": \"Rework \", \"author\": \"Jason Fried, David Hansson\", \"pages\": 279.0, \"url\": \"https://www.goodreads.com/book/show/6732019-rework?from_search=true&qid=TeHru4l6OG&rank=1\", \"gender\": \"M\", \"type\": \"Non-Fiction\", \"subgenre\": \"Business\", \"avg_goodreads_rating\": 3.94, \"started\": \"2020-01-12T00:00:00\", \"date\": \"2020-01-17T00:00:00\", \"faves\": null, \"year\": \"2020\", \"days_to_read\": 5, \"gender_description\": \"Male\"}, {\"order\": 4, \"title\": \"Minor Feelings\", \"author\": \"Cathy Park Hong\", \"pages\": 224.0, \"url\": \"https://www.goodreads.com/book/show/47544177-minor-feelings?from_search=true&qid=YwgnVM0MaX&rank=1\", \"gender\": \"F\", \"type\": \"Non-Fiction\", \"subgenre\": \"Essays\", \"avg_goodreads_rating\": 4.53, \"started\": \"2020-01-14T00:00:00\", \"date\": \"2020-01-26T00:00:00\", \"faves\": null, \"year\": \"2020\", \"days_to_read\": 12, \"gender_description\": \"Female\"}, {\"order\": 5, \"title\": \"The Idiot\", \"author\": \"Elif Batuman\", \"pages\": 423.0, \"url\": \"https://www.goodreads.com/book/show/30962053-the-idiot\", \"gender\": \"F\", \"type\": \"Fiction\", \"subgenre\": \"historical\", \"avg_goodreads_rating\": 3.63, \"started\": \"2020-01-25T00:00:00\", \"date\": \"2020-02-02T00:00:00\", \"faves\": null, \"year\": \"2020\", \"days_to_read\": 8, \"gender_description\": \"Female\"}, {\"order\": 6, \"title\": \"If I Had Your Face\", \"author\": \"Frances Cha\", \"pages\": 288.0, \"url\": \"https://www.goodreads.com/book/show/47548925-if-i-had-your-face?from_search=true&qid=c3Iw9aiNTi&rank=1\", \"gender\": \"F\", \"type\": \"Fiction\", \"subgenre\": \"Contemporary\", \"avg_goodreads_rating\": 3.97, \"started\": \"2020-02-02T00:00:00\", \"date\": \"2020-02-06T00:00:00\", \"faves\": null, \"year\": \"2020\", \"days_to_read\": 4, \"gender_description\": \"Female\"}, {\"order\": 7, \"title\": \"Topics of Conversation\", \"author\": \"Miranda Popkey\", \"pages\": 224.0, \"url\": \"https://www.goodreads.com/book/show/45754997-topics-of-conversation?from_search=true&qid=F1d5R6meaf&rank=1\", \"gender\": \"F\", \"type\": \"Fiction\", \"subgenre\": \"Contemporary\", \"avg_goodreads_rating\": 2.83, \"started\": \"2020-02-06T00:00:00\", \"date\": \"2020-02-12T00:00:00\", \"faves\": null, \"year\": \"2020\", \"days_to_read\": 6, \"gender_description\": \"Female\"}, {\"order\": 8, \"title\": \"Bluets\", \"author\": \"Maggie Nelson\", \"pages\": 98.0, \"url\": \"https://www.goodreads.com/book/show/6798263-bluets\", \"gender\": \"F\", \"type\": \"Non-Fiction\", \"subgenre\": \"Poetry\", \"avg_goodreads_rating\": 4.26, \"started\": \"2020-02-12T00:00:00\", \"date\": \"2020-02-16T00:00:00\", \"faves\": null, \"year\": \"2020\", \"days_to_read\": 4, \"gender_description\": \"Female\"}, {\"order\": 9, \"title\": \"I Believe in a Thing Called Love\", \"author\": \"Maurene Goo\", \"pages\": 336.0, \"url\": \"https://www.goodreads.com/book/show/31145133-i-believe-in-a-thing-called-love\", \"gender\": \"F\", \"type\": \"Fiction\", \"subgenre\": \"Young Adult\", \"avg_goodreads_rating\": 3.66, \"started\": \"2020-02-23T00:00:00\", \"date\": \"2020-03-11T00:00:00\", \"faves\": null, \"year\": \"2020\", \"days_to_read\": 17, \"gender_description\": \"Female\"}, {\"order\": 10, \"title\": \"Untamed\", \"author\": \"Glennon Doyle\", \"pages\": 352.0, \"url\": \"https://www.goodreads.com/book/show/52129515-untamed\", \"gender\": \"F\", \"type\": \"Non-Fiction\", \"subgenre\": \"Memoir\", \"avg_goodreads_rating\": 4.46, \"started\": \"2020-03-07T00:00:00\", \"date\": \"2020-03-12T00:00:00\", \"faves\": null, \"year\": \"2020\", \"days_to_read\": 5, \"gender_description\": \"Female\"}, {\"order\": 11, \"title\": \"Red, White and Royal Blue\", \"author\": \"Casey McQuiston\", \"pages\": 421.0, \"url\": \"https://www.goodreads.com/book/show/41150487-red-white-royal-blue\", \"gender\": \"F\", \"type\": \"Fiction\", \"subgenre\": \"Romance\", \"avg_goodreads_rating\": 4.31, \"started\": \"2020-03-12T00:00:00\", \"date\": \"2020-03-20T00:00:00\", \"faves\": null, \"year\": \"2020\", \"days_to_read\": 8, \"gender_description\": \"Female\"}, {\"order\": 12, \"title\": \"Bird by Bird: Some Instructions on Writing and Life\", \"author\": \"Anne Lamott\", \"pages\": 237.0, \"url\": \"https://www.goodreads.com/book/show/12543.Bird_by_Bird\", \"gender\": \"F\", \"type\": \"Non-Fiction\", \"subgenre\": \"Writing\", \"avg_goodreads_rating\": 4.23, \"started\": \"2020-03-21T00:00:00\", \"date\": \"2020-03-31T00:00:00\", \"faves\": \"Y\", \"year\": \"2020\", \"days_to_read\": 10, \"gender_description\": \"Female\"}, {\"order\": 13, \"title\": \"Cleanness\", \"author\": \"Garth Greenwell\", \"pages\": 240.0, \"url\": \"https://www.goodreads.com/book/show/45892271-cleanness?ac=1&from_search=true&qid=ornMVFsX93&rank=2\", \"gender\": \"M\", \"type\": \"Fiction\", \"subgenre\": \"Contemporary\", \"avg_goodreads_rating\": 4.05, \"started\": \"2020-03-31T00:00:00\", \"date\": \"2020-04-06T00:00:00\", \"faves\": null, \"year\": \"2020\", \"days_to_read\": 6, \"gender_description\": \"Male\"}, {\"order\": 14, \"title\": \"The Bridges of Madison County\", \"author\": \"Robert James Waller\", \"pages\": 221.0, \"url\": \"https://www.goodreads.com/book/show/83674.The_Bridges_of_Madison_County\", \"gender\": \"M\", \"type\": \"Fiction\", \"subgenre\": \"Contemporary\", \"avg_goodreads_rating\": 3.61, \"started\": \"2020-04-08T00:00:00\", \"date\": \"2020-04-11T00:00:00\", \"faves\": null, \"year\": \"2020\", \"days_to_read\": 3, \"gender_description\": \"Male\"}, {\"order\": 15, \"title\": \"Super Attractor\", \"author\": \"Gabrielle Bernstein\", \"pages\": 248.0, \"url\": \"https://www.goodreads.com/book/show/43496426-super-attractor?from_search=true&from_srp=true&qid=sRtfi9Txub&rank=1\", \"gender\": \"F\", \"type\": \"Non-Fiction\", \"subgenre\": \"Self Help\", \"avg_goodreads_rating\": 4.18, \"started\": \"2020-04-11T00:00:00\", \"date\": \"2020-04-22T00:00:00\", \"faves\": null, \"year\": \"2020\", \"days_to_read\": 11, \"gender_description\": \"Female\"}, {\"order\": 16, \"title\": \"Felix Ever After\", \"author\": \"Kacen Callender\", \"pages\": 354.0, \"url\": \"https://www.goodreads.com/book/show/51931067-felix-ever-after?from_search=true&from_srp=true&qid=ssQYTzSgHg&rank=1\", \"gender\": \"M\", \"type\": \"Fiction\", \"subgenre\": \"Young Adult\", \"avg_goodreads_rating\": 4.46, \"started\": \"2020-05-12T00:00:00\", \"date\": \"2020-05-14T00:00:00\", \"faves\": null, \"year\": \"2020\", \"days_to_read\": 2, \"gender_description\": \"Male\"}, {\"order\": 17, \"title\": \"Days of Distraction\", \"author\": \"Alexandra Chang\", \"pages\": 312.0, \"url\": \"https://www.goodreads.com/book/show/52973514-days-of-distraction?from_search=true&from_srp=true&qid=zLGt916iHW&rank=1\", \"gender\": \"F\", \"type\": \"Fiction\", \"subgenre\": \"Contemporary\", \"avg_goodreads_rating\": 3.66, \"started\": \"2020-04-12T00:00:00\", \"date\": \"2020-05-17T00:00:00\", \"faves\": null, \"year\": \"2020\", \"days_to_read\": 35, \"gender_description\": \"Female\"}, {\"order\": 18, \"title\": \"wow, no thank you.\", \"author\": \"Samantha Irby\", \"pages\": 288.0, \"url\": \"https://www.goodreads.com/book/show/52844646-wow-no-thank-you\", \"gender\": \"F\", \"type\": \"Non-Fiction\", \"subgenre\": \"Essays\", \"avg_goodreads_rating\": 4.13, \"started\": \"2020-04-05T00:00:00\", \"date\": \"2020-06-15T00:00:00\", \"faves\": \"Y\", \"year\": \"2020\", \"days_to_read\": 71, \"gender_description\": \"Female\"}, {\"order\": 19, \"title\": \"How Much of These Hills Is Gold\", \"author\": \"C. Pam Zhang\", \"pages\": 288.0, \"url\": \"https://www.goodreads.com/book/show/45895362-how-much-of-these-hills-is-gold?from_search=true&from_srp=true&qid=rMvIru31RB&rank=1\", \"gender\": \"F\", \"type\": \"Fiction\", \"subgenre\": \"historical\", \"avg_goodreads_rating\": 3.86, \"started\": \"2020-05-22T00:00:00\", \"date\": \"2020-06-01T00:00:00\", \"faves\": null, \"year\": \"2020\", \"days_to_read\": 10, \"gender_description\": \"Female\"}, {\"order\": 20, \"title\": \"Between the World and Me\", \"author\": \"Tanehisi Coates\", \"pages\": 152.0, \"url\": \"https://www.goodreads.com/book/show/25489625-between-the-world-and-me?from_search=true&from_srp=true&qid=xvQajzPDjC&rank=1\", \"gender\": \"M\", \"type\": \"Non-Fiction\", \"subgenre\": \"Current Events\", \"avg_goodreads_rating\": 4.52, \"started\": \"2020-06-15T00:00:00\", \"date\": \"2020-06-24T00:00:00\", \"faves\": \"Y\", \"year\": \"2020\", \"days_to_read\": 9, \"gender_description\": \"Male\"}, {\"order\": 21, \"title\": \"Where the Crawdads Sing\", \"author\": \"Delia Owens\", \"pages\": 384.0, \"url\": \"https://www.goodreads.com/book/show/36809135-where-the-crawdads-sing?ac=1&from_search=true&qid=TifR2MzIpW&rank=1\", \"gender\": \"F\", \"type\": \"Fiction\", \"subgenre\": \"Contemporary\", \"avg_goodreads_rating\": 4.47, \"started\": \"2020-06-22T00:00:00\", \"date\": \"2020-06-29T00:00:00\", \"faves\": null, \"year\": \"2020\", \"days_to_read\": 7, \"gender_description\": \"Female\"}, {\"order\": 22, \"title\": \"Boys and Sex\", \"author\": \"Peggy Ornstein\", \"pages\": 304.0, \"url\": \"https://www.goodreads.com/book/show/43452877-boys-sex?from_search=true&from_srp=true&qid=TwPIaowNSU&rank=1\", \"gender\": \"F\", \"type\": \"Non-Fiction\", \"subgenre\": \"Current Events\", \"avg_goodreads_rating\": 4.24, \"started\": \"2020-04-12T00:00:00\", \"date\": \"2020-07-03T00:00:00\", \"faves\": null, \"year\": \"2020\", \"days_to_read\": 82, \"gender_description\": \"Female\"}, {\"order\": 23, \"title\": \"Someone Who Will Love You In All Your Damaged Glory\", \"author\": \"Rafael Bob Waksberg\", \"pages\": 256.0, \"url\": \"https://www.goodreads.com/book/show/41949311-someone-who-will-love-you-in-all-your-damaged-glory?ac=1&from_search=true&qid=Kr9sKqWCXh&rank=1\", \"gender\": \"M\", \"type\": \"Fiction\", \"subgenre\": \"Short Stories\", \"avg_goodreads_rating\": 4.16, \"started\": \"2020-07-08T00:00:00\", \"date\": \"2020-07-10T00:00:00\", \"faves\": \"Y\", \"year\": \"2020\", \"days_to_read\": 2, \"gender_description\": \"Male\"}, {\"order\": 24, \"title\": \"The Masters Tools Will Never DIsmantle The Master's House\", \"author\": \"Audre Lorde\", \"pages\": 64.0, \"url\": \"https://www.goodreads.com/en/book/show/38598541-the-master-s-tools-will-never-dismantle-the-master-s-house\", \"gender\": \"F\", \"type\": \"Non-Fiction\", \"subgenre\": \"Essays\", \"avg_goodreads_rating\": 4.46, \"started\": \"2020-07-15T00:00:00\", \"date\": \"2020-07-17T00:00:00\", \"faves\": \"Y\", \"year\": \"2020\", \"days_to_read\": 2, \"gender_description\": \"Female\"}, {\"order\": 25, \"title\": \"Attached\", \"author\": \"Amir Levine, Rachel SF Heller\", \"pages\": 304.0, \"url\": \"https://www.goodreads.com/book/show/9547888-attached?from_search=true&from_srp=true&qid=kdP4IdRQnC&rank=1\", \"gender\": \"F\", \"type\": \"Non-Fiction\", \"subgenre\": \"Psychology\", \"avg_goodreads_rating\": 4.14, \"started\": \"2020-07-31T00:00:00\", \"date\": \"2020-08-03T00:00:00\", \"faves\": null, \"year\": \"2020\", \"days_to_read\": 3, \"gender_description\": \"Female\"}, {\"order\": 26, \"title\": \"Listen to the Marriage\", \"author\": \"John Jay Osborn\", \"pages\": 256.0, \"url\": \"https://www.goodreads.com/book/show/37941728-listen-to-the-marriage?ac=1&from_search=true&qid=iy2rwd6WTj&rank=1\", \"gender\": \"M\", \"type\": \"Fiction\", \"subgenre\": \"Contemporary\", \"avg_goodreads_rating\": 3.51, \"started\": \"2020-08-06T00:00:00\", \"date\": \"2020-08-15T00:00:00\", \"faves\": null, \"year\": \"2020\", \"days_to_read\": 9, \"gender_description\": \"Male\"}, {\"order\": 27, \"title\": \"Jung: A Very Short Introduction\", \"author\": \"Andrew Stevens\", \"pages\": 192.0, \"url\": \"https://www.goodreads.com/book/show/297554.Jung?from_search=true&from_srp=true&qid=Jim8gejEr2&rank=1\", \"gender\": \"M\", \"type\": \"Non-Fiction\", \"subgenre\": \"History\", \"avg_goodreads_rating\": 4.07, \"started\": \"2020-09-07T00:00:00\", \"date\": \"2020-09-16T00:00:00\", \"faves\": null, \"year\": \"2020\", \"days_to_read\": 9, \"gender_description\": \"Male\"}, {\"order\": 28, \"title\": \"The First Bad Man\", \"author\": \"Miranda July\", \"pages\": 288.0, \"url\": \"https://www.goodreads.com/book/show/21412400-the-first-bad-man?from_search=true&from_srp=true&qid=8h7sxqtWHM&rank=1\", \"gender\": \"F\", \"type\": \"Fiction\", \"subgenre\": \"Contemporary\", \"avg_goodreads_rating\": 3.62, \"started\": \"2020-09-16T00:00:00\", \"date\": \"2020-09-20T00:00:00\", \"faves\": \"Y\", \"year\": \"2020\", \"days_to_read\": 4, \"gender_description\": \"Female\"}, {\"order\": 29, \"title\": \"The Drama of the Gifted Child\", \"author\": \"Alice Miller\", \"pages\": 144.0, \"url\": \"https://www.goodreads.com/book/show/24204222-the-drama-of-the-gifted-child?utm_content=review_cta_book_image&utm_medium=email&utm_source=bookend&ref_=pe_7171740_474197500\", \"gender\": \"F\", \"type\": \"Non-Fiction\", \"subgenre\": \"Psychology\", \"avg_goodreads_rating\": 4.1, \"started\": \"2020-09-27T00:00:00\", \"date\": \"2020-10-01T00:00:00\", \"faves\": null, \"year\": \"2020\", \"days_to_read\": 4, \"gender_description\": \"Female\"}, {\"order\": 30, \"title\": \"Don't Call us Dead: Poems\", \"author\": \"Danez Smith\", \"pages\": 101.0, \"url\": \"https://www.goodreads.com/book/show/35422441-don-t-call-us-dead?from_search=true&from_srp=true&qid=8qdAhd4Vlp&rank=1\", \"gender\": \"M\", \"type\": \"Poetry\", \"subgenre\": \"LGBT\", \"avg_goodreads_rating\": 4.52, \"started\": \"2020-10-01T00:00:00\", \"date\": \"2020-10-06T00:00:00\", \"faves\": \"Y\", \"year\": \"2020\", \"days_to_read\": 5, \"gender_description\": \"Male\"}, {\"order\": 31, \"title\": \"Tender is the Night\", \"author\": \"F. Scott Fitzgerald\", \"pages\": 315.0, \"url\": \"https://www.goodreads.com/book/show/46164.Tender_Is_the_Night?from_search=true&from_srp=true&qid=B8eLWQQKSX&rank=1\", \"gender\": \"M\", \"type\": \"Fiction\", \"subgenre\": \"Classic\", \"avg_goodreads_rating\": 3.81, \"started\": \"2020-10-10T00:00:00\", \"date\": \"2020-11-07T00:00:00\", \"faves\": \"Y\", \"year\": \"2020\", \"days_to_read\": 28, \"gender_description\": \"Male\"}, {\"order\": 32, \"title\": \"Heather, The Totality\", \"author\": \"Matthew Weiner\", \"pages\": 144.0, \"url\": \"https://www.goodreads.com/book/show/31933063-heather-the-totality?ac=1&from_search=true&qid=MvG8rzSUME&rank=1\", \"gender\": \"M\", \"type\": \"Fiction\", \"subgenre\": \"Contemporary\", \"avg_goodreads_rating\": 2.93, \"started\": \"2020-11-07T00:00:00\", \"date\": \"2020-11-09T00:00:00\", \"faves\": null, \"year\": \"2020\", \"days_to_read\": 2, \"gender_description\": \"Male\"}, {\"order\": 33, \"title\": \"What We Talk About When We Talk About Love\", \"author\": \"Raymond Carver\", \"pages\": 159.0, \"url\": \"https://www.goodreads.com/book/show/11438.What_We_Talk_About_When_We_Talk_About_Love?from_search=true&from_srp=true&qid=5G4xkS3EQg&rank=1\", \"gender\": \"M\", \"type\": \"Fiction\", \"subgenre\": \"Short Stories\", \"avg_goodreads_rating\": 4.15, \"started\": \"2020-10-06T00:00:00\", \"date\": \"2020-10-31T00:00:00\", \"faves\": null, \"year\": \"2020\", \"days_to_read\": 25, \"gender_description\": \"Male\"}, {\"order\": 34, \"title\": \"Never Split the Difference\", \"author\": \"Chris Voss\", \"pages\": 274.0, \"url\": \"https://www.goodreads.com/book/show/26156469-never-split-the-difference?from_search=true&from_srp=true&qid=umiLanQLHO&rank=1\", \"gender\": \"M\", \"type\": \"Non-Fiction\", \"subgenre\": \"Business\", \"avg_goodreads_rating\": 4.4, \"started\": \"2020-11-11T00:00:00\", \"date\": \"2020-11-26T00:00:00\", \"faves\": null, \"year\": \"2020\", \"days_to_read\": 15, \"gender_description\": \"Male\"}, {\"order\": 35, \"title\": \"Rapture\", \"author\": \"Susan Minot\", \"pages\": null, \"url\": \"https://www.goodreads.com/book/show/40056.Rapture\", \"gender\": \"F\", \"type\": \"Fiction\", \"subgenre\": \"Romance\", \"avg_goodreads_rating\": 2.96, \"started\": \"2020-12-02T00:00:00\", \"date\": \"2020-12-03T00:00:00\", \"faves\": null, \"year\": \"2020\", \"days_to_read\": 1, \"gender_description\": \"Female\"}, {\"order\": 36, \"title\": \"The Middle Passage\", \"author\": \"James Hollis\", \"pages\": 127.0, \"url\": \"https://www.goodreads.com/book/show/47849.The_Middle_Passage?from_search=true&from_srp=true&qid=ot6aI40sSB&rank=1\", \"gender\": \"M\", \"type\": \"Non-Fiction\", \"subgenre\": \"Psychology\", \"avg_goodreads_rating\": 4.44, \"started\": \"2020-12-15T00:00:00\", \"date\": \"2020-12-18T00:00:00\", \"faves\": \"Y\", \"year\": \"2020\", \"days_to_read\": 3, \"gender_description\": \"Male\"}, {\"order\": 37, \"title\": \"Intimacy\", \"author\": \"Hanif Kureishi\", \"pages\": 155.0, \"url\": \"https://www.goodreads.com/book/show/153418.Intimacy\", \"gender\": \"M\", \"type\": \"Fiction\", \"subgenre\": \"Contemporary\", \"avg_goodreads_rating\": 3.6, \"started\": \"2020-12-21T00:00:00\", \"date\": \"2020-12-22T00:00:00\", \"faves\": null, \"year\": \"2020\", \"days_to_read\": 1, \"gender_description\": \"Male\"}, {\"order\": 38, \"title\": \"No One Asked for This: Essays\", \"author\": \"Cazzie David\", \"pages\": 352.0, \"url\": \"https://www.goodreads.com/book/show/48930274-no-one-asked-for-this?from_search=true&from_srp=true&qid=oVY5dHZfxR&rank=1\", \"gender\": \"F\", \"type\": \"Non-Fiction\", \"subgenre\": \"Essays\", \"avg_goodreads_rating\": 3.53, \"started\": \"2020-11-27T00:00:00\", \"date\": \"2020-12-25T00:00:00\", \"faves\": null, \"year\": \"2020\", \"days_to_read\": 28, \"gender_description\": \"Female\"}, {\"order\": 39, \"title\": \"Self-Help\", \"author\": \"Lorrie Moore\", \"pages\": 163.0, \"url\": \"https://www.goodreads.com/book/show/90872.Self_Help\", \"gender\": \"F\", \"type\": \"Fiction\", \"subgenre\": \"Short Stories\", \"avg_goodreads_rating\": 4.19, \"started\": \"2020-12-26T00:00:00\", \"date\": \"2020-12-27T00:00:00\", \"faves\": \"Y\", \"year\": \"2020\", \"days_to_read\": 1, \"gender_description\": \"Female\"}]}}, {\"mode\": \"vega-lite\"});\n",
       "</script>"
      ],
      "text/plain": [
       "alt.Chart(...)"
      ]
     },
     "execution_count": 17,
     "metadata": {},
     "output_type": "execute_result"
    }
   ],
   "source": [
    "# DESKTOP \n",
    "alt.Chart(books).mark_tick(thickness=2,size=20).encode(\n",
    "    x=alt.X('date',axis=alt.Axis(tickCount=12, format='%b', tickColor='#ffffff'), title=''),\n",
    "    y=alt.Y('year',axis=alt.Axis(tickCount=0, tickColor='#ffffff'), title=' ')\n",
    ").configure_axis(\n",
    "    grid=False).properties(height=40, width=700)"
   ]
  },
  {
   "cell_type": "code",
   "execution_count": 18,
   "metadata": {},
   "outputs": [
    {
     "data": {
      "text/html": [
       "\n",
       "<div id=\"altair-viz-c77ec7396eaf430ba88ffe9e45ec2e9d\"></div>\n",
       "<script type=\"text/javascript\">\n",
       "  (function(spec, embedOpt){\n",
       "    let outputDiv = document.currentScript.previousElementSibling;\n",
       "    if (outputDiv.id !== \"altair-viz-c77ec7396eaf430ba88ffe9e45ec2e9d\") {\n",
       "      outputDiv = document.getElementById(\"altair-viz-c77ec7396eaf430ba88ffe9e45ec2e9d\");\n",
       "    }\n",
       "    const paths = {\n",
       "      \"vega\": \"https://cdn.jsdelivr.net/npm//vega@5?noext\",\n",
       "      \"vega-lib\": \"https://cdn.jsdelivr.net/npm//vega-lib?noext\",\n",
       "      \"vega-lite\": \"https://cdn.jsdelivr.net/npm//vega-lite@4.8.1?noext\",\n",
       "      \"vega-embed\": \"https://cdn.jsdelivr.net/npm//vega-embed@6?noext\",\n",
       "    };\n",
       "\n",
       "    function loadScript(lib) {\n",
       "      return new Promise(function(resolve, reject) {\n",
       "        var s = document.createElement('script');\n",
       "        s.src = paths[lib];\n",
       "        s.async = true;\n",
       "        s.onload = () => resolve(paths[lib]);\n",
       "        s.onerror = () => reject(`Error loading script: ${paths[lib]}`);\n",
       "        document.getElementsByTagName(\"head\")[0].appendChild(s);\n",
       "      });\n",
       "    }\n",
       "\n",
       "    function showError(err) {\n",
       "      outputDiv.innerHTML = `<div class=\"error\" style=\"color:red;\">${err}</div>`;\n",
       "      throw err;\n",
       "    }\n",
       "\n",
       "    function displayChart(vegaEmbed) {\n",
       "      vegaEmbed(outputDiv, spec, embedOpt)\n",
       "        .catch(err => showError(`Javascript Error: ${err.message}<br>This usually means there's a typo in your chart specification. See the javascript console for the full traceback.`));\n",
       "    }\n",
       "\n",
       "    if(typeof define === \"function\" && define.amd) {\n",
       "      requirejs.config({paths});\n",
       "      require([\"vega-embed\"], displayChart, err => showError(`Error loading script: ${err.message}`));\n",
       "    } else if (typeof vegaEmbed === \"function\") {\n",
       "      displayChart(vegaEmbed);\n",
       "    } else {\n",
       "      loadScript(\"vega\")\n",
       "        .then(() => loadScript(\"vega-lite\"))\n",
       "        .then(() => loadScript(\"vega-embed\"))\n",
       "        .catch(showError)\n",
       "        .then(() => displayChart(vegaEmbed));\n",
       "    }\n",
       "  })({\"usermeta\": {\"embedOptions\": {\"theme\": \"vox\"}}, \"config\": {\"view\": {\"continuousWidth\": 400, \"continuousHeight\": 300}, \"axis\": {\"grid\": false}}, \"data\": {\"name\": \"data-8e391cabd5bc49dcb5a9fe358321c344\"}, \"mark\": {\"type\": \"tick\", \"size\": 20, \"thickness\": 2}, \"encoding\": {\"x\": {\"type\": \"temporal\", \"axis\": {\"format\": \"%b\", \"tickColor\": \"#ffffff\", \"tickCount\": 12}, \"field\": \"date\", \"title\": \"\"}, \"y\": {\"type\": \"nominal\", \"axis\": {\"tickColor\": \"#ffffff\", \"tickCount\": 0}, \"field\": \"year\", \"title\": \" \"}}, \"height\": 40, \"width\": 320, \"$schema\": \"https://vega.github.io/schema/vega-lite/v4.8.1.json\", \"datasets\": {\"data-8e391cabd5bc49dcb5a9fe358321c344\": [{\"order\": 1, \"title\": \"How to Do Nothing\", \"author\": \"Jenny Odell\", \"pages\": 240.0, \"url\": \"https://www.goodreads.com/author/show/18614151.Jenny_Odell\", \"gender\": \"F\", \"type\": \"Non-Fiction\", \"subgenre\": \"Self Help\", \"avg_goodreads_rating\": 3.97, \"started\": \"2019-12-25T00:00:00\", \"date\": \"2020-01-06T00:00:00\", \"faves\": null, \"year\": \"2020\", \"days_to_read\": 12, \"gender_description\": \"Female\"}, {\"order\": 2, \"title\": \"Becoming Wise\", \"author\": \"Krista Tippett\", \"pages\": 288.0, \"url\": \"https://www.goodreads.com/book/show/25894085-becoming-wise\", \"gender\": \"F\", \"type\": \"Non-Fiction\", \"subgenre\": \"Spirituality\", \"avg_goodreads_rating\": 4.15, \"started\": \"2020-01-01T00:00:00\", \"date\": \"2020-01-12T00:00:00\", \"faves\": \"Y\", \"year\": \"2020\", \"days_to_read\": 11, \"gender_description\": \"Female\"}, {\"order\": 3, \"title\": \"Rework \", \"author\": \"Jason Fried, David Hansson\", \"pages\": 279.0, \"url\": \"https://www.goodreads.com/book/show/6732019-rework?from_search=true&qid=TeHru4l6OG&rank=1\", \"gender\": \"M\", \"type\": \"Non-Fiction\", \"subgenre\": \"Business\", \"avg_goodreads_rating\": 3.94, \"started\": \"2020-01-12T00:00:00\", \"date\": \"2020-01-17T00:00:00\", \"faves\": null, \"year\": \"2020\", \"days_to_read\": 5, \"gender_description\": \"Male\"}, {\"order\": 4, \"title\": \"Minor Feelings\", \"author\": \"Cathy Park Hong\", \"pages\": 224.0, \"url\": \"https://www.goodreads.com/book/show/47544177-minor-feelings?from_search=true&qid=YwgnVM0MaX&rank=1\", \"gender\": \"F\", \"type\": \"Non-Fiction\", \"subgenre\": \"Essays\", \"avg_goodreads_rating\": 4.53, \"started\": \"2020-01-14T00:00:00\", \"date\": \"2020-01-26T00:00:00\", \"faves\": null, \"year\": \"2020\", \"days_to_read\": 12, \"gender_description\": \"Female\"}, {\"order\": 5, \"title\": \"The Idiot\", \"author\": \"Elif Batuman\", \"pages\": 423.0, \"url\": \"https://www.goodreads.com/book/show/30962053-the-idiot\", \"gender\": \"F\", \"type\": \"Fiction\", \"subgenre\": \"historical\", \"avg_goodreads_rating\": 3.63, \"started\": \"2020-01-25T00:00:00\", \"date\": \"2020-02-02T00:00:00\", \"faves\": null, \"year\": \"2020\", \"days_to_read\": 8, \"gender_description\": \"Female\"}, {\"order\": 6, \"title\": \"If I Had Your Face\", \"author\": \"Frances Cha\", \"pages\": 288.0, \"url\": \"https://www.goodreads.com/book/show/47548925-if-i-had-your-face?from_search=true&qid=c3Iw9aiNTi&rank=1\", \"gender\": \"F\", \"type\": \"Fiction\", \"subgenre\": \"Contemporary\", \"avg_goodreads_rating\": 3.97, \"started\": \"2020-02-02T00:00:00\", \"date\": \"2020-02-06T00:00:00\", \"faves\": null, \"year\": \"2020\", \"days_to_read\": 4, \"gender_description\": \"Female\"}, {\"order\": 7, \"title\": \"Topics of Conversation\", \"author\": \"Miranda Popkey\", \"pages\": 224.0, \"url\": \"https://www.goodreads.com/book/show/45754997-topics-of-conversation?from_search=true&qid=F1d5R6meaf&rank=1\", \"gender\": \"F\", \"type\": \"Fiction\", \"subgenre\": \"Contemporary\", \"avg_goodreads_rating\": 2.83, \"started\": \"2020-02-06T00:00:00\", \"date\": \"2020-02-12T00:00:00\", \"faves\": null, \"year\": \"2020\", \"days_to_read\": 6, \"gender_description\": \"Female\"}, {\"order\": 8, \"title\": \"Bluets\", \"author\": \"Maggie Nelson\", \"pages\": 98.0, \"url\": \"https://www.goodreads.com/book/show/6798263-bluets\", \"gender\": \"F\", \"type\": \"Non-Fiction\", \"subgenre\": \"Poetry\", \"avg_goodreads_rating\": 4.26, \"started\": \"2020-02-12T00:00:00\", \"date\": \"2020-02-16T00:00:00\", \"faves\": null, \"year\": \"2020\", \"days_to_read\": 4, \"gender_description\": \"Female\"}, {\"order\": 9, \"title\": \"I Believe in a Thing Called Love\", \"author\": \"Maurene Goo\", \"pages\": 336.0, \"url\": \"https://www.goodreads.com/book/show/31145133-i-believe-in-a-thing-called-love\", \"gender\": \"F\", \"type\": \"Fiction\", \"subgenre\": \"Young Adult\", \"avg_goodreads_rating\": 3.66, \"started\": \"2020-02-23T00:00:00\", \"date\": \"2020-03-11T00:00:00\", \"faves\": null, \"year\": \"2020\", \"days_to_read\": 17, \"gender_description\": \"Female\"}, {\"order\": 10, \"title\": \"Untamed\", \"author\": \"Glennon Doyle\", \"pages\": 352.0, \"url\": \"https://www.goodreads.com/book/show/52129515-untamed\", \"gender\": \"F\", \"type\": \"Non-Fiction\", \"subgenre\": \"Memoir\", \"avg_goodreads_rating\": 4.46, \"started\": \"2020-03-07T00:00:00\", \"date\": \"2020-03-12T00:00:00\", \"faves\": null, \"year\": \"2020\", \"days_to_read\": 5, \"gender_description\": \"Female\"}, {\"order\": 11, \"title\": \"Red, White and Royal Blue\", \"author\": \"Casey McQuiston\", \"pages\": 421.0, \"url\": \"https://www.goodreads.com/book/show/41150487-red-white-royal-blue\", \"gender\": \"F\", \"type\": \"Fiction\", \"subgenre\": \"Romance\", \"avg_goodreads_rating\": 4.31, \"started\": \"2020-03-12T00:00:00\", \"date\": \"2020-03-20T00:00:00\", \"faves\": null, \"year\": \"2020\", \"days_to_read\": 8, \"gender_description\": \"Female\"}, {\"order\": 12, \"title\": \"Bird by Bird: Some Instructions on Writing and Life\", \"author\": \"Anne Lamott\", \"pages\": 237.0, \"url\": \"https://www.goodreads.com/book/show/12543.Bird_by_Bird\", \"gender\": \"F\", \"type\": \"Non-Fiction\", \"subgenre\": \"Writing\", \"avg_goodreads_rating\": 4.23, \"started\": \"2020-03-21T00:00:00\", \"date\": \"2020-03-31T00:00:00\", \"faves\": \"Y\", \"year\": \"2020\", \"days_to_read\": 10, \"gender_description\": \"Female\"}, {\"order\": 13, \"title\": \"Cleanness\", \"author\": \"Garth Greenwell\", \"pages\": 240.0, \"url\": \"https://www.goodreads.com/book/show/45892271-cleanness?ac=1&from_search=true&qid=ornMVFsX93&rank=2\", \"gender\": \"M\", \"type\": \"Fiction\", \"subgenre\": \"Contemporary\", \"avg_goodreads_rating\": 4.05, \"started\": \"2020-03-31T00:00:00\", \"date\": \"2020-04-06T00:00:00\", \"faves\": null, \"year\": \"2020\", \"days_to_read\": 6, \"gender_description\": \"Male\"}, {\"order\": 14, \"title\": \"The Bridges of Madison County\", \"author\": \"Robert James Waller\", \"pages\": 221.0, \"url\": \"https://www.goodreads.com/book/show/83674.The_Bridges_of_Madison_County\", \"gender\": \"M\", \"type\": \"Fiction\", \"subgenre\": \"Contemporary\", \"avg_goodreads_rating\": 3.61, \"started\": \"2020-04-08T00:00:00\", \"date\": \"2020-04-11T00:00:00\", \"faves\": null, \"year\": \"2020\", \"days_to_read\": 3, \"gender_description\": \"Male\"}, {\"order\": 15, \"title\": \"Super Attractor\", \"author\": \"Gabrielle Bernstein\", \"pages\": 248.0, \"url\": \"https://www.goodreads.com/book/show/43496426-super-attractor?from_search=true&from_srp=true&qid=sRtfi9Txub&rank=1\", \"gender\": \"F\", \"type\": \"Non-Fiction\", \"subgenre\": \"Self Help\", \"avg_goodreads_rating\": 4.18, \"started\": \"2020-04-11T00:00:00\", \"date\": \"2020-04-22T00:00:00\", \"faves\": null, \"year\": \"2020\", \"days_to_read\": 11, \"gender_description\": \"Female\"}, {\"order\": 16, \"title\": \"Felix Ever After\", \"author\": \"Kacen Callender\", \"pages\": 354.0, \"url\": \"https://www.goodreads.com/book/show/51931067-felix-ever-after?from_search=true&from_srp=true&qid=ssQYTzSgHg&rank=1\", \"gender\": \"M\", \"type\": \"Fiction\", \"subgenre\": \"Young Adult\", \"avg_goodreads_rating\": 4.46, \"started\": \"2020-05-12T00:00:00\", \"date\": \"2020-05-14T00:00:00\", \"faves\": null, \"year\": \"2020\", \"days_to_read\": 2, \"gender_description\": \"Male\"}, {\"order\": 17, \"title\": \"Days of Distraction\", \"author\": \"Alexandra Chang\", \"pages\": 312.0, \"url\": \"https://www.goodreads.com/book/show/52973514-days-of-distraction?from_search=true&from_srp=true&qid=zLGt916iHW&rank=1\", \"gender\": \"F\", \"type\": \"Fiction\", \"subgenre\": \"Contemporary\", \"avg_goodreads_rating\": 3.66, \"started\": \"2020-04-12T00:00:00\", \"date\": \"2020-05-17T00:00:00\", \"faves\": null, \"year\": \"2020\", \"days_to_read\": 35, \"gender_description\": \"Female\"}, {\"order\": 18, \"title\": \"wow, no thank you.\", \"author\": \"Samantha Irby\", \"pages\": 288.0, \"url\": \"https://www.goodreads.com/book/show/52844646-wow-no-thank-you\", \"gender\": \"F\", \"type\": \"Non-Fiction\", \"subgenre\": \"Essays\", \"avg_goodreads_rating\": 4.13, \"started\": \"2020-04-05T00:00:00\", \"date\": \"2020-06-15T00:00:00\", \"faves\": \"Y\", \"year\": \"2020\", \"days_to_read\": 71, \"gender_description\": \"Female\"}, {\"order\": 19, \"title\": \"How Much of These Hills Is Gold\", \"author\": \"C. Pam Zhang\", \"pages\": 288.0, \"url\": \"https://www.goodreads.com/book/show/45895362-how-much-of-these-hills-is-gold?from_search=true&from_srp=true&qid=rMvIru31RB&rank=1\", \"gender\": \"F\", \"type\": \"Fiction\", \"subgenre\": \"historical\", \"avg_goodreads_rating\": 3.86, \"started\": \"2020-05-22T00:00:00\", \"date\": \"2020-06-01T00:00:00\", \"faves\": null, \"year\": \"2020\", \"days_to_read\": 10, \"gender_description\": \"Female\"}, {\"order\": 20, \"title\": \"Between the World and Me\", \"author\": \"Tanehisi Coates\", \"pages\": 152.0, \"url\": \"https://www.goodreads.com/book/show/25489625-between-the-world-and-me?from_search=true&from_srp=true&qid=xvQajzPDjC&rank=1\", \"gender\": \"M\", \"type\": \"Non-Fiction\", \"subgenre\": \"Current Events\", \"avg_goodreads_rating\": 4.52, \"started\": \"2020-06-15T00:00:00\", \"date\": \"2020-06-24T00:00:00\", \"faves\": \"Y\", \"year\": \"2020\", \"days_to_read\": 9, \"gender_description\": \"Male\"}, {\"order\": 21, \"title\": \"Where the Crawdads Sing\", \"author\": \"Delia Owens\", \"pages\": 384.0, \"url\": \"https://www.goodreads.com/book/show/36809135-where-the-crawdads-sing?ac=1&from_search=true&qid=TifR2MzIpW&rank=1\", \"gender\": \"F\", \"type\": \"Fiction\", \"subgenre\": \"Contemporary\", \"avg_goodreads_rating\": 4.47, \"started\": \"2020-06-22T00:00:00\", \"date\": \"2020-06-29T00:00:00\", \"faves\": null, \"year\": \"2020\", \"days_to_read\": 7, \"gender_description\": \"Female\"}, {\"order\": 22, \"title\": \"Boys and Sex\", \"author\": \"Peggy Ornstein\", \"pages\": 304.0, \"url\": \"https://www.goodreads.com/book/show/43452877-boys-sex?from_search=true&from_srp=true&qid=TwPIaowNSU&rank=1\", \"gender\": \"F\", \"type\": \"Non-Fiction\", \"subgenre\": \"Current Events\", \"avg_goodreads_rating\": 4.24, \"started\": \"2020-04-12T00:00:00\", \"date\": \"2020-07-03T00:00:00\", \"faves\": null, \"year\": \"2020\", \"days_to_read\": 82, \"gender_description\": \"Female\"}, {\"order\": 23, \"title\": \"Someone Who Will Love You In All Your Damaged Glory\", \"author\": \"Rafael Bob Waksberg\", \"pages\": 256.0, \"url\": \"https://www.goodreads.com/book/show/41949311-someone-who-will-love-you-in-all-your-damaged-glory?ac=1&from_search=true&qid=Kr9sKqWCXh&rank=1\", \"gender\": \"M\", \"type\": \"Fiction\", \"subgenre\": \"Short Stories\", \"avg_goodreads_rating\": 4.16, \"started\": \"2020-07-08T00:00:00\", \"date\": \"2020-07-10T00:00:00\", \"faves\": \"Y\", \"year\": \"2020\", \"days_to_read\": 2, \"gender_description\": \"Male\"}, {\"order\": 24, \"title\": \"The Masters Tools Will Never DIsmantle The Master's House\", \"author\": \"Audre Lorde\", \"pages\": 64.0, \"url\": \"https://www.goodreads.com/en/book/show/38598541-the-master-s-tools-will-never-dismantle-the-master-s-house\", \"gender\": \"F\", \"type\": \"Non-Fiction\", \"subgenre\": \"Essays\", \"avg_goodreads_rating\": 4.46, \"started\": \"2020-07-15T00:00:00\", \"date\": \"2020-07-17T00:00:00\", \"faves\": \"Y\", \"year\": \"2020\", \"days_to_read\": 2, \"gender_description\": \"Female\"}, {\"order\": 25, \"title\": \"Attached\", \"author\": \"Amir Levine, Rachel SF Heller\", \"pages\": 304.0, \"url\": \"https://www.goodreads.com/book/show/9547888-attached?from_search=true&from_srp=true&qid=kdP4IdRQnC&rank=1\", \"gender\": \"F\", \"type\": \"Non-Fiction\", \"subgenre\": \"Psychology\", \"avg_goodreads_rating\": 4.14, \"started\": \"2020-07-31T00:00:00\", \"date\": \"2020-08-03T00:00:00\", \"faves\": null, \"year\": \"2020\", \"days_to_read\": 3, \"gender_description\": \"Female\"}, {\"order\": 26, \"title\": \"Listen to the Marriage\", \"author\": \"John Jay Osborn\", \"pages\": 256.0, \"url\": \"https://www.goodreads.com/book/show/37941728-listen-to-the-marriage?ac=1&from_search=true&qid=iy2rwd6WTj&rank=1\", \"gender\": \"M\", \"type\": \"Fiction\", \"subgenre\": \"Contemporary\", \"avg_goodreads_rating\": 3.51, \"started\": \"2020-08-06T00:00:00\", \"date\": \"2020-08-15T00:00:00\", \"faves\": null, \"year\": \"2020\", \"days_to_read\": 9, \"gender_description\": \"Male\"}, {\"order\": 27, \"title\": \"Jung: A Very Short Introduction\", \"author\": \"Andrew Stevens\", \"pages\": 192.0, \"url\": \"https://www.goodreads.com/book/show/297554.Jung?from_search=true&from_srp=true&qid=Jim8gejEr2&rank=1\", \"gender\": \"M\", \"type\": \"Non-Fiction\", \"subgenre\": \"History\", \"avg_goodreads_rating\": 4.07, \"started\": \"2020-09-07T00:00:00\", \"date\": \"2020-09-16T00:00:00\", \"faves\": null, \"year\": \"2020\", \"days_to_read\": 9, \"gender_description\": \"Male\"}, {\"order\": 28, \"title\": \"The First Bad Man\", \"author\": \"Miranda July\", \"pages\": 288.0, \"url\": \"https://www.goodreads.com/book/show/21412400-the-first-bad-man?from_search=true&from_srp=true&qid=8h7sxqtWHM&rank=1\", \"gender\": \"F\", \"type\": \"Fiction\", \"subgenre\": \"Contemporary\", \"avg_goodreads_rating\": 3.62, \"started\": \"2020-09-16T00:00:00\", \"date\": \"2020-09-20T00:00:00\", \"faves\": \"Y\", \"year\": \"2020\", \"days_to_read\": 4, \"gender_description\": \"Female\"}, {\"order\": 29, \"title\": \"The Drama of the Gifted Child\", \"author\": \"Alice Miller\", \"pages\": 144.0, \"url\": \"https://www.goodreads.com/book/show/24204222-the-drama-of-the-gifted-child?utm_content=review_cta_book_image&utm_medium=email&utm_source=bookend&ref_=pe_7171740_474197500\", \"gender\": \"F\", \"type\": \"Non-Fiction\", \"subgenre\": \"Psychology\", \"avg_goodreads_rating\": 4.1, \"started\": \"2020-09-27T00:00:00\", \"date\": \"2020-10-01T00:00:00\", \"faves\": null, \"year\": \"2020\", \"days_to_read\": 4, \"gender_description\": \"Female\"}, {\"order\": 30, \"title\": \"Don't Call us Dead: Poems\", \"author\": \"Danez Smith\", \"pages\": 101.0, \"url\": \"https://www.goodreads.com/book/show/35422441-don-t-call-us-dead?from_search=true&from_srp=true&qid=8qdAhd4Vlp&rank=1\", \"gender\": \"M\", \"type\": \"Poetry\", \"subgenre\": \"LGBT\", \"avg_goodreads_rating\": 4.52, \"started\": \"2020-10-01T00:00:00\", \"date\": \"2020-10-06T00:00:00\", \"faves\": \"Y\", \"year\": \"2020\", \"days_to_read\": 5, \"gender_description\": \"Male\"}, {\"order\": 31, \"title\": \"Tender is the Night\", \"author\": \"F. Scott Fitzgerald\", \"pages\": 315.0, \"url\": \"https://www.goodreads.com/book/show/46164.Tender_Is_the_Night?from_search=true&from_srp=true&qid=B8eLWQQKSX&rank=1\", \"gender\": \"M\", \"type\": \"Fiction\", \"subgenre\": \"Classic\", \"avg_goodreads_rating\": 3.81, \"started\": \"2020-10-10T00:00:00\", \"date\": \"2020-11-07T00:00:00\", \"faves\": \"Y\", \"year\": \"2020\", \"days_to_read\": 28, \"gender_description\": \"Male\"}, {\"order\": 32, \"title\": \"Heather, The Totality\", \"author\": \"Matthew Weiner\", \"pages\": 144.0, \"url\": \"https://www.goodreads.com/book/show/31933063-heather-the-totality?ac=1&from_search=true&qid=MvG8rzSUME&rank=1\", \"gender\": \"M\", \"type\": \"Fiction\", \"subgenre\": \"Contemporary\", \"avg_goodreads_rating\": 2.93, \"started\": \"2020-11-07T00:00:00\", \"date\": \"2020-11-09T00:00:00\", \"faves\": null, \"year\": \"2020\", \"days_to_read\": 2, \"gender_description\": \"Male\"}, {\"order\": 33, \"title\": \"What We Talk About When We Talk About Love\", \"author\": \"Raymond Carver\", \"pages\": 159.0, \"url\": \"https://www.goodreads.com/book/show/11438.What_We_Talk_About_When_We_Talk_About_Love?from_search=true&from_srp=true&qid=5G4xkS3EQg&rank=1\", \"gender\": \"M\", \"type\": \"Fiction\", \"subgenre\": \"Short Stories\", \"avg_goodreads_rating\": 4.15, \"started\": \"2020-10-06T00:00:00\", \"date\": \"2020-10-31T00:00:00\", \"faves\": null, \"year\": \"2020\", \"days_to_read\": 25, \"gender_description\": \"Male\"}, {\"order\": 34, \"title\": \"Never Split the Difference\", \"author\": \"Chris Voss\", \"pages\": 274.0, \"url\": \"https://www.goodreads.com/book/show/26156469-never-split-the-difference?from_search=true&from_srp=true&qid=umiLanQLHO&rank=1\", \"gender\": \"M\", \"type\": \"Non-Fiction\", \"subgenre\": \"Business\", \"avg_goodreads_rating\": 4.4, \"started\": \"2020-11-11T00:00:00\", \"date\": \"2020-11-26T00:00:00\", \"faves\": null, \"year\": \"2020\", \"days_to_read\": 15, \"gender_description\": \"Male\"}, {\"order\": 35, \"title\": \"Rapture\", \"author\": \"Susan Minot\", \"pages\": null, \"url\": \"https://www.goodreads.com/book/show/40056.Rapture\", \"gender\": \"F\", \"type\": \"Fiction\", \"subgenre\": \"Romance\", \"avg_goodreads_rating\": 2.96, \"started\": \"2020-12-02T00:00:00\", \"date\": \"2020-12-03T00:00:00\", \"faves\": null, \"year\": \"2020\", \"days_to_read\": 1, \"gender_description\": \"Female\"}, {\"order\": 36, \"title\": \"The Middle Passage\", \"author\": \"James Hollis\", \"pages\": 127.0, \"url\": \"https://www.goodreads.com/book/show/47849.The_Middle_Passage?from_search=true&from_srp=true&qid=ot6aI40sSB&rank=1\", \"gender\": \"M\", \"type\": \"Non-Fiction\", \"subgenre\": \"Psychology\", \"avg_goodreads_rating\": 4.44, \"started\": \"2020-12-15T00:00:00\", \"date\": \"2020-12-18T00:00:00\", \"faves\": \"Y\", \"year\": \"2020\", \"days_to_read\": 3, \"gender_description\": \"Male\"}, {\"order\": 37, \"title\": \"Intimacy\", \"author\": \"Hanif Kureishi\", \"pages\": 155.0, \"url\": \"https://www.goodreads.com/book/show/153418.Intimacy\", \"gender\": \"M\", \"type\": \"Fiction\", \"subgenre\": \"Contemporary\", \"avg_goodreads_rating\": 3.6, \"started\": \"2020-12-21T00:00:00\", \"date\": \"2020-12-22T00:00:00\", \"faves\": null, \"year\": \"2020\", \"days_to_read\": 1, \"gender_description\": \"Male\"}, {\"order\": 38, \"title\": \"No One Asked for This: Essays\", \"author\": \"Cazzie David\", \"pages\": 352.0, \"url\": \"https://www.goodreads.com/book/show/48930274-no-one-asked-for-this?from_search=true&from_srp=true&qid=oVY5dHZfxR&rank=1\", \"gender\": \"F\", \"type\": \"Non-Fiction\", \"subgenre\": \"Essays\", \"avg_goodreads_rating\": 3.53, \"started\": \"2020-11-27T00:00:00\", \"date\": \"2020-12-25T00:00:00\", \"faves\": null, \"year\": \"2020\", \"days_to_read\": 28, \"gender_description\": \"Female\"}, {\"order\": 39, \"title\": \"Self-Help\", \"author\": \"Lorrie Moore\", \"pages\": 163.0, \"url\": \"https://www.goodreads.com/book/show/90872.Self_Help\", \"gender\": \"F\", \"type\": \"Fiction\", \"subgenre\": \"Short Stories\", \"avg_goodreads_rating\": 4.19, \"started\": \"2020-12-26T00:00:00\", \"date\": \"2020-12-27T00:00:00\", \"faves\": \"Y\", \"year\": \"2020\", \"days_to_read\": 1, \"gender_description\": \"Female\"}]}}, {\"mode\": \"vega-lite\"});\n",
       "</script>"
      ],
      "text/plain": [
       "alt.Chart(...)"
      ]
     },
     "execution_count": 18,
     "metadata": {},
     "output_type": "execute_result"
    }
   ],
   "source": [
    "# MOBILE \n",
    "alt.Chart(books).mark_tick(thickness=2,size=20).encode(\n",
    "    x=alt.X('date',axis=alt.Axis(tickCount=12, format='%b', tickColor='#ffffff'), title=''),\n",
    "    y=alt.Y('year',axis=alt.Axis(tickCount=0, tickColor='#ffffff'), title=' ')\n",
    ").configure_axis(\n",
    "    grid=False).properties(height=40, width=320)"
   ]
  },
  {
   "cell_type": "markdown",
   "metadata": {},
   "source": [
    "### Tinkering with more designs for books read by subgenre and month"
   ]
  },
  {
   "cell_type": "code",
   "execution_count": 19,
   "metadata": {},
   "outputs": [
    {
     "data": {
      "text/html": [
       "\n",
       "<div id=\"altair-viz-6fe1627d95c0455c9fccd5da076d8b12\"></div>\n",
       "<script type=\"text/javascript\">\n",
       "  (function(spec, embedOpt){\n",
       "    let outputDiv = document.currentScript.previousElementSibling;\n",
       "    if (outputDiv.id !== \"altair-viz-6fe1627d95c0455c9fccd5da076d8b12\") {\n",
       "      outputDiv = document.getElementById(\"altair-viz-6fe1627d95c0455c9fccd5da076d8b12\");\n",
       "    }\n",
       "    const paths = {\n",
       "      \"vega\": \"https://cdn.jsdelivr.net/npm//vega@5?noext\",\n",
       "      \"vega-lib\": \"https://cdn.jsdelivr.net/npm//vega-lib?noext\",\n",
       "      \"vega-lite\": \"https://cdn.jsdelivr.net/npm//vega-lite@4.8.1?noext\",\n",
       "      \"vega-embed\": \"https://cdn.jsdelivr.net/npm//vega-embed@6?noext\",\n",
       "    };\n",
       "\n",
       "    function loadScript(lib) {\n",
       "      return new Promise(function(resolve, reject) {\n",
       "        var s = document.createElement('script');\n",
       "        s.src = paths[lib];\n",
       "        s.async = true;\n",
       "        s.onload = () => resolve(paths[lib]);\n",
       "        s.onerror = () => reject(`Error loading script: ${paths[lib]}`);\n",
       "        document.getElementsByTagName(\"head\")[0].appendChild(s);\n",
       "      });\n",
       "    }\n",
       "\n",
       "    function showError(err) {\n",
       "      outputDiv.innerHTML = `<div class=\"error\" style=\"color:red;\">${err}</div>`;\n",
       "      throw err;\n",
       "    }\n",
       "\n",
       "    function displayChart(vegaEmbed) {\n",
       "      vegaEmbed(outputDiv, spec, embedOpt)\n",
       "        .catch(err => showError(`Javascript Error: ${err.message}<br>This usually means there's a typo in your chart specification. See the javascript console for the full traceback.`));\n",
       "    }\n",
       "\n",
       "    if(typeof define === \"function\" && define.amd) {\n",
       "      requirejs.config({paths});\n",
       "      require([\"vega-embed\"], displayChart, err => showError(`Error loading script: ${err.message}`));\n",
       "    } else if (typeof vegaEmbed === \"function\") {\n",
       "      displayChart(vegaEmbed);\n",
       "    } else {\n",
       "      loadScript(\"vega\")\n",
       "        .then(() => loadScript(\"vega-lite\"))\n",
       "        .then(() => loadScript(\"vega-embed\"))\n",
       "        .catch(showError)\n",
       "        .then(() => displayChart(vegaEmbed));\n",
       "    }\n",
       "  })({\"usermeta\": {\"embedOptions\": {\"theme\": \"vox\"}}, \"config\": {\"view\": {\"continuousWidth\": 400, \"continuousHeight\": 300}, \"axis\": {\"grid\": false}}, \"data\": {\"name\": \"data-8e391cabd5bc49dcb5a9fe358321c344\"}, \"mark\": {\"type\": \"tick\", \"size\": 10, \"thickness\": 3}, \"encoding\": {\"x\": {\"type\": \"temporal\", \"axis\": {\"format\": \"%b\", \"tickColor\": \"#ffffff\", \"tickCount\": 12}, \"field\": \"date\", \"title\": \"\"}, \"y\": {\"type\": \"nominal\", \"axis\": {\"tickColor\": \"#ffffff\", \"tickCount\": 0}, \"field\": \"subgenre\", \"title\": \" \"}}, \"height\": 400, \"width\": 700, \"$schema\": \"https://vega.github.io/schema/vega-lite/v4.8.1.json\", \"datasets\": {\"data-8e391cabd5bc49dcb5a9fe358321c344\": [{\"order\": 1, \"title\": \"How to Do Nothing\", \"author\": \"Jenny Odell\", \"pages\": 240.0, \"url\": \"https://www.goodreads.com/author/show/18614151.Jenny_Odell\", \"gender\": \"F\", \"type\": \"Non-Fiction\", \"subgenre\": \"Self Help\", \"avg_goodreads_rating\": 3.97, \"started\": \"2019-12-25T00:00:00\", \"date\": \"2020-01-06T00:00:00\", \"faves\": null, \"year\": \"2020\", \"days_to_read\": 12, \"gender_description\": \"Female\"}, {\"order\": 2, \"title\": \"Becoming Wise\", \"author\": \"Krista Tippett\", \"pages\": 288.0, \"url\": \"https://www.goodreads.com/book/show/25894085-becoming-wise\", \"gender\": \"F\", \"type\": \"Non-Fiction\", \"subgenre\": \"Spirituality\", \"avg_goodreads_rating\": 4.15, \"started\": \"2020-01-01T00:00:00\", \"date\": \"2020-01-12T00:00:00\", \"faves\": \"Y\", \"year\": \"2020\", \"days_to_read\": 11, \"gender_description\": \"Female\"}, {\"order\": 3, \"title\": \"Rework \", \"author\": \"Jason Fried, David Hansson\", \"pages\": 279.0, \"url\": \"https://www.goodreads.com/book/show/6732019-rework?from_search=true&qid=TeHru4l6OG&rank=1\", \"gender\": \"M\", \"type\": \"Non-Fiction\", \"subgenre\": \"Business\", \"avg_goodreads_rating\": 3.94, \"started\": \"2020-01-12T00:00:00\", \"date\": \"2020-01-17T00:00:00\", \"faves\": null, \"year\": \"2020\", \"days_to_read\": 5, \"gender_description\": \"Male\"}, {\"order\": 4, \"title\": \"Minor Feelings\", \"author\": \"Cathy Park Hong\", \"pages\": 224.0, \"url\": \"https://www.goodreads.com/book/show/47544177-minor-feelings?from_search=true&qid=YwgnVM0MaX&rank=1\", \"gender\": \"F\", \"type\": \"Non-Fiction\", \"subgenre\": \"Essays\", \"avg_goodreads_rating\": 4.53, \"started\": \"2020-01-14T00:00:00\", \"date\": \"2020-01-26T00:00:00\", \"faves\": null, \"year\": \"2020\", \"days_to_read\": 12, \"gender_description\": \"Female\"}, {\"order\": 5, \"title\": \"The Idiot\", \"author\": \"Elif Batuman\", \"pages\": 423.0, \"url\": \"https://www.goodreads.com/book/show/30962053-the-idiot\", \"gender\": \"F\", \"type\": \"Fiction\", \"subgenre\": \"historical\", \"avg_goodreads_rating\": 3.63, \"started\": \"2020-01-25T00:00:00\", \"date\": \"2020-02-02T00:00:00\", \"faves\": null, \"year\": \"2020\", \"days_to_read\": 8, \"gender_description\": \"Female\"}, {\"order\": 6, \"title\": \"If I Had Your Face\", \"author\": \"Frances Cha\", \"pages\": 288.0, \"url\": \"https://www.goodreads.com/book/show/47548925-if-i-had-your-face?from_search=true&qid=c3Iw9aiNTi&rank=1\", \"gender\": \"F\", \"type\": \"Fiction\", \"subgenre\": \"Contemporary\", \"avg_goodreads_rating\": 3.97, \"started\": \"2020-02-02T00:00:00\", \"date\": \"2020-02-06T00:00:00\", \"faves\": null, \"year\": \"2020\", \"days_to_read\": 4, \"gender_description\": \"Female\"}, {\"order\": 7, \"title\": \"Topics of Conversation\", \"author\": \"Miranda Popkey\", \"pages\": 224.0, \"url\": \"https://www.goodreads.com/book/show/45754997-topics-of-conversation?from_search=true&qid=F1d5R6meaf&rank=1\", \"gender\": \"F\", \"type\": \"Fiction\", \"subgenre\": \"Contemporary\", \"avg_goodreads_rating\": 2.83, \"started\": \"2020-02-06T00:00:00\", \"date\": \"2020-02-12T00:00:00\", \"faves\": null, \"year\": \"2020\", \"days_to_read\": 6, \"gender_description\": \"Female\"}, {\"order\": 8, \"title\": \"Bluets\", \"author\": \"Maggie Nelson\", \"pages\": 98.0, \"url\": \"https://www.goodreads.com/book/show/6798263-bluets\", \"gender\": \"F\", \"type\": \"Non-Fiction\", \"subgenre\": \"Poetry\", \"avg_goodreads_rating\": 4.26, \"started\": \"2020-02-12T00:00:00\", \"date\": \"2020-02-16T00:00:00\", \"faves\": null, \"year\": \"2020\", \"days_to_read\": 4, \"gender_description\": \"Female\"}, {\"order\": 9, \"title\": \"I Believe in a Thing Called Love\", \"author\": \"Maurene Goo\", \"pages\": 336.0, \"url\": \"https://www.goodreads.com/book/show/31145133-i-believe-in-a-thing-called-love\", \"gender\": \"F\", \"type\": \"Fiction\", \"subgenre\": \"Young Adult\", \"avg_goodreads_rating\": 3.66, \"started\": \"2020-02-23T00:00:00\", \"date\": \"2020-03-11T00:00:00\", \"faves\": null, \"year\": \"2020\", \"days_to_read\": 17, \"gender_description\": \"Female\"}, {\"order\": 10, \"title\": \"Untamed\", \"author\": \"Glennon Doyle\", \"pages\": 352.0, \"url\": \"https://www.goodreads.com/book/show/52129515-untamed\", \"gender\": \"F\", \"type\": \"Non-Fiction\", \"subgenre\": \"Memoir\", \"avg_goodreads_rating\": 4.46, \"started\": \"2020-03-07T00:00:00\", \"date\": \"2020-03-12T00:00:00\", \"faves\": null, \"year\": \"2020\", \"days_to_read\": 5, \"gender_description\": \"Female\"}, {\"order\": 11, \"title\": \"Red, White and Royal Blue\", \"author\": \"Casey McQuiston\", \"pages\": 421.0, \"url\": \"https://www.goodreads.com/book/show/41150487-red-white-royal-blue\", \"gender\": \"F\", \"type\": \"Fiction\", \"subgenre\": \"Romance\", \"avg_goodreads_rating\": 4.31, \"started\": \"2020-03-12T00:00:00\", \"date\": \"2020-03-20T00:00:00\", \"faves\": null, \"year\": \"2020\", \"days_to_read\": 8, \"gender_description\": \"Female\"}, {\"order\": 12, \"title\": \"Bird by Bird: Some Instructions on Writing and Life\", \"author\": \"Anne Lamott\", \"pages\": 237.0, \"url\": \"https://www.goodreads.com/book/show/12543.Bird_by_Bird\", \"gender\": \"F\", \"type\": \"Non-Fiction\", \"subgenre\": \"Writing\", \"avg_goodreads_rating\": 4.23, \"started\": \"2020-03-21T00:00:00\", \"date\": \"2020-03-31T00:00:00\", \"faves\": \"Y\", \"year\": \"2020\", \"days_to_read\": 10, \"gender_description\": \"Female\"}, {\"order\": 13, \"title\": \"Cleanness\", \"author\": \"Garth Greenwell\", \"pages\": 240.0, \"url\": \"https://www.goodreads.com/book/show/45892271-cleanness?ac=1&from_search=true&qid=ornMVFsX93&rank=2\", \"gender\": \"M\", \"type\": \"Fiction\", \"subgenre\": \"Contemporary\", \"avg_goodreads_rating\": 4.05, \"started\": \"2020-03-31T00:00:00\", \"date\": \"2020-04-06T00:00:00\", \"faves\": null, \"year\": \"2020\", \"days_to_read\": 6, \"gender_description\": \"Male\"}, {\"order\": 14, \"title\": \"The Bridges of Madison County\", \"author\": \"Robert James Waller\", \"pages\": 221.0, \"url\": \"https://www.goodreads.com/book/show/83674.The_Bridges_of_Madison_County\", \"gender\": \"M\", \"type\": \"Fiction\", \"subgenre\": \"Contemporary\", \"avg_goodreads_rating\": 3.61, \"started\": \"2020-04-08T00:00:00\", \"date\": \"2020-04-11T00:00:00\", \"faves\": null, \"year\": \"2020\", \"days_to_read\": 3, \"gender_description\": \"Male\"}, {\"order\": 15, \"title\": \"Super Attractor\", \"author\": \"Gabrielle Bernstein\", \"pages\": 248.0, \"url\": \"https://www.goodreads.com/book/show/43496426-super-attractor?from_search=true&from_srp=true&qid=sRtfi9Txub&rank=1\", \"gender\": \"F\", \"type\": \"Non-Fiction\", \"subgenre\": \"Self Help\", \"avg_goodreads_rating\": 4.18, \"started\": \"2020-04-11T00:00:00\", \"date\": \"2020-04-22T00:00:00\", \"faves\": null, \"year\": \"2020\", \"days_to_read\": 11, \"gender_description\": \"Female\"}, {\"order\": 16, \"title\": \"Felix Ever After\", \"author\": \"Kacen Callender\", \"pages\": 354.0, \"url\": \"https://www.goodreads.com/book/show/51931067-felix-ever-after?from_search=true&from_srp=true&qid=ssQYTzSgHg&rank=1\", \"gender\": \"M\", \"type\": \"Fiction\", \"subgenre\": \"Young Adult\", \"avg_goodreads_rating\": 4.46, \"started\": \"2020-05-12T00:00:00\", \"date\": \"2020-05-14T00:00:00\", \"faves\": null, \"year\": \"2020\", \"days_to_read\": 2, \"gender_description\": \"Male\"}, {\"order\": 17, \"title\": \"Days of Distraction\", \"author\": \"Alexandra Chang\", \"pages\": 312.0, \"url\": \"https://www.goodreads.com/book/show/52973514-days-of-distraction?from_search=true&from_srp=true&qid=zLGt916iHW&rank=1\", \"gender\": \"F\", \"type\": \"Fiction\", \"subgenre\": \"Contemporary\", \"avg_goodreads_rating\": 3.66, \"started\": \"2020-04-12T00:00:00\", \"date\": \"2020-05-17T00:00:00\", \"faves\": null, \"year\": \"2020\", \"days_to_read\": 35, \"gender_description\": \"Female\"}, {\"order\": 18, \"title\": \"wow, no thank you.\", \"author\": \"Samantha Irby\", \"pages\": 288.0, \"url\": \"https://www.goodreads.com/book/show/52844646-wow-no-thank-you\", \"gender\": \"F\", \"type\": \"Non-Fiction\", \"subgenre\": \"Essays\", \"avg_goodreads_rating\": 4.13, \"started\": \"2020-04-05T00:00:00\", \"date\": \"2020-06-15T00:00:00\", \"faves\": \"Y\", \"year\": \"2020\", \"days_to_read\": 71, \"gender_description\": \"Female\"}, {\"order\": 19, \"title\": \"How Much of These Hills Is Gold\", \"author\": \"C. Pam Zhang\", \"pages\": 288.0, \"url\": \"https://www.goodreads.com/book/show/45895362-how-much-of-these-hills-is-gold?from_search=true&from_srp=true&qid=rMvIru31RB&rank=1\", \"gender\": \"F\", \"type\": \"Fiction\", \"subgenre\": \"historical\", \"avg_goodreads_rating\": 3.86, \"started\": \"2020-05-22T00:00:00\", \"date\": \"2020-06-01T00:00:00\", \"faves\": null, \"year\": \"2020\", \"days_to_read\": 10, \"gender_description\": \"Female\"}, {\"order\": 20, \"title\": \"Between the World and Me\", \"author\": \"Tanehisi Coates\", \"pages\": 152.0, \"url\": \"https://www.goodreads.com/book/show/25489625-between-the-world-and-me?from_search=true&from_srp=true&qid=xvQajzPDjC&rank=1\", \"gender\": \"M\", \"type\": \"Non-Fiction\", \"subgenre\": \"Current Events\", \"avg_goodreads_rating\": 4.52, \"started\": \"2020-06-15T00:00:00\", \"date\": \"2020-06-24T00:00:00\", \"faves\": \"Y\", \"year\": \"2020\", \"days_to_read\": 9, \"gender_description\": \"Male\"}, {\"order\": 21, \"title\": \"Where the Crawdads Sing\", \"author\": \"Delia Owens\", \"pages\": 384.0, \"url\": \"https://www.goodreads.com/book/show/36809135-where-the-crawdads-sing?ac=1&from_search=true&qid=TifR2MzIpW&rank=1\", \"gender\": \"F\", \"type\": \"Fiction\", \"subgenre\": \"Contemporary\", \"avg_goodreads_rating\": 4.47, \"started\": \"2020-06-22T00:00:00\", \"date\": \"2020-06-29T00:00:00\", \"faves\": null, \"year\": \"2020\", \"days_to_read\": 7, \"gender_description\": \"Female\"}, {\"order\": 22, \"title\": \"Boys and Sex\", \"author\": \"Peggy Ornstein\", \"pages\": 304.0, \"url\": \"https://www.goodreads.com/book/show/43452877-boys-sex?from_search=true&from_srp=true&qid=TwPIaowNSU&rank=1\", \"gender\": \"F\", \"type\": \"Non-Fiction\", \"subgenre\": \"Current Events\", \"avg_goodreads_rating\": 4.24, \"started\": \"2020-04-12T00:00:00\", \"date\": \"2020-07-03T00:00:00\", \"faves\": null, \"year\": \"2020\", \"days_to_read\": 82, \"gender_description\": \"Female\"}, {\"order\": 23, \"title\": \"Someone Who Will Love You In All Your Damaged Glory\", \"author\": \"Rafael Bob Waksberg\", \"pages\": 256.0, \"url\": \"https://www.goodreads.com/book/show/41949311-someone-who-will-love-you-in-all-your-damaged-glory?ac=1&from_search=true&qid=Kr9sKqWCXh&rank=1\", \"gender\": \"M\", \"type\": \"Fiction\", \"subgenre\": \"Short Stories\", \"avg_goodreads_rating\": 4.16, \"started\": \"2020-07-08T00:00:00\", \"date\": \"2020-07-10T00:00:00\", \"faves\": \"Y\", \"year\": \"2020\", \"days_to_read\": 2, \"gender_description\": \"Male\"}, {\"order\": 24, \"title\": \"The Masters Tools Will Never DIsmantle The Master's House\", \"author\": \"Audre Lorde\", \"pages\": 64.0, \"url\": \"https://www.goodreads.com/en/book/show/38598541-the-master-s-tools-will-never-dismantle-the-master-s-house\", \"gender\": \"F\", \"type\": \"Non-Fiction\", \"subgenre\": \"Essays\", \"avg_goodreads_rating\": 4.46, \"started\": \"2020-07-15T00:00:00\", \"date\": \"2020-07-17T00:00:00\", \"faves\": \"Y\", \"year\": \"2020\", \"days_to_read\": 2, \"gender_description\": \"Female\"}, {\"order\": 25, \"title\": \"Attached\", \"author\": \"Amir Levine, Rachel SF Heller\", \"pages\": 304.0, \"url\": \"https://www.goodreads.com/book/show/9547888-attached?from_search=true&from_srp=true&qid=kdP4IdRQnC&rank=1\", \"gender\": \"F\", \"type\": \"Non-Fiction\", \"subgenre\": \"Psychology\", \"avg_goodreads_rating\": 4.14, \"started\": \"2020-07-31T00:00:00\", \"date\": \"2020-08-03T00:00:00\", \"faves\": null, \"year\": \"2020\", \"days_to_read\": 3, \"gender_description\": \"Female\"}, {\"order\": 26, \"title\": \"Listen to the Marriage\", \"author\": \"John Jay Osborn\", \"pages\": 256.0, \"url\": \"https://www.goodreads.com/book/show/37941728-listen-to-the-marriage?ac=1&from_search=true&qid=iy2rwd6WTj&rank=1\", \"gender\": \"M\", \"type\": \"Fiction\", \"subgenre\": \"Contemporary\", \"avg_goodreads_rating\": 3.51, \"started\": \"2020-08-06T00:00:00\", \"date\": \"2020-08-15T00:00:00\", \"faves\": null, \"year\": \"2020\", \"days_to_read\": 9, \"gender_description\": \"Male\"}, {\"order\": 27, \"title\": \"Jung: A Very Short Introduction\", \"author\": \"Andrew Stevens\", \"pages\": 192.0, \"url\": \"https://www.goodreads.com/book/show/297554.Jung?from_search=true&from_srp=true&qid=Jim8gejEr2&rank=1\", \"gender\": \"M\", \"type\": \"Non-Fiction\", \"subgenre\": \"History\", \"avg_goodreads_rating\": 4.07, \"started\": \"2020-09-07T00:00:00\", \"date\": \"2020-09-16T00:00:00\", \"faves\": null, \"year\": \"2020\", \"days_to_read\": 9, \"gender_description\": \"Male\"}, {\"order\": 28, \"title\": \"The First Bad Man\", \"author\": \"Miranda July\", \"pages\": 288.0, \"url\": \"https://www.goodreads.com/book/show/21412400-the-first-bad-man?from_search=true&from_srp=true&qid=8h7sxqtWHM&rank=1\", \"gender\": \"F\", \"type\": \"Fiction\", \"subgenre\": \"Contemporary\", \"avg_goodreads_rating\": 3.62, \"started\": \"2020-09-16T00:00:00\", \"date\": \"2020-09-20T00:00:00\", \"faves\": \"Y\", \"year\": \"2020\", \"days_to_read\": 4, \"gender_description\": \"Female\"}, {\"order\": 29, \"title\": \"The Drama of the Gifted Child\", \"author\": \"Alice Miller\", \"pages\": 144.0, \"url\": \"https://www.goodreads.com/book/show/24204222-the-drama-of-the-gifted-child?utm_content=review_cta_book_image&utm_medium=email&utm_source=bookend&ref_=pe_7171740_474197500\", \"gender\": \"F\", \"type\": \"Non-Fiction\", \"subgenre\": \"Psychology\", \"avg_goodreads_rating\": 4.1, \"started\": \"2020-09-27T00:00:00\", \"date\": \"2020-10-01T00:00:00\", \"faves\": null, \"year\": \"2020\", \"days_to_read\": 4, \"gender_description\": \"Female\"}, {\"order\": 30, \"title\": \"Don't Call us Dead: Poems\", \"author\": \"Danez Smith\", \"pages\": 101.0, \"url\": \"https://www.goodreads.com/book/show/35422441-don-t-call-us-dead?from_search=true&from_srp=true&qid=8qdAhd4Vlp&rank=1\", \"gender\": \"M\", \"type\": \"Poetry\", \"subgenre\": \"LGBT\", \"avg_goodreads_rating\": 4.52, \"started\": \"2020-10-01T00:00:00\", \"date\": \"2020-10-06T00:00:00\", \"faves\": \"Y\", \"year\": \"2020\", \"days_to_read\": 5, \"gender_description\": \"Male\"}, {\"order\": 31, \"title\": \"Tender is the Night\", \"author\": \"F. Scott Fitzgerald\", \"pages\": 315.0, \"url\": \"https://www.goodreads.com/book/show/46164.Tender_Is_the_Night?from_search=true&from_srp=true&qid=B8eLWQQKSX&rank=1\", \"gender\": \"M\", \"type\": \"Fiction\", \"subgenre\": \"Classic\", \"avg_goodreads_rating\": 3.81, \"started\": \"2020-10-10T00:00:00\", \"date\": \"2020-11-07T00:00:00\", \"faves\": \"Y\", \"year\": \"2020\", \"days_to_read\": 28, \"gender_description\": \"Male\"}, {\"order\": 32, \"title\": \"Heather, The Totality\", \"author\": \"Matthew Weiner\", \"pages\": 144.0, \"url\": \"https://www.goodreads.com/book/show/31933063-heather-the-totality?ac=1&from_search=true&qid=MvG8rzSUME&rank=1\", \"gender\": \"M\", \"type\": \"Fiction\", \"subgenre\": \"Contemporary\", \"avg_goodreads_rating\": 2.93, \"started\": \"2020-11-07T00:00:00\", \"date\": \"2020-11-09T00:00:00\", \"faves\": null, \"year\": \"2020\", \"days_to_read\": 2, \"gender_description\": \"Male\"}, {\"order\": 33, \"title\": \"What We Talk About When We Talk About Love\", \"author\": \"Raymond Carver\", \"pages\": 159.0, \"url\": \"https://www.goodreads.com/book/show/11438.What_We_Talk_About_When_We_Talk_About_Love?from_search=true&from_srp=true&qid=5G4xkS3EQg&rank=1\", \"gender\": \"M\", \"type\": \"Fiction\", \"subgenre\": \"Short Stories\", \"avg_goodreads_rating\": 4.15, \"started\": \"2020-10-06T00:00:00\", \"date\": \"2020-10-31T00:00:00\", \"faves\": null, \"year\": \"2020\", \"days_to_read\": 25, \"gender_description\": \"Male\"}, {\"order\": 34, \"title\": \"Never Split the Difference\", \"author\": \"Chris Voss\", \"pages\": 274.0, \"url\": \"https://www.goodreads.com/book/show/26156469-never-split-the-difference?from_search=true&from_srp=true&qid=umiLanQLHO&rank=1\", \"gender\": \"M\", \"type\": \"Non-Fiction\", \"subgenre\": \"Business\", \"avg_goodreads_rating\": 4.4, \"started\": \"2020-11-11T00:00:00\", \"date\": \"2020-11-26T00:00:00\", \"faves\": null, \"year\": \"2020\", \"days_to_read\": 15, \"gender_description\": \"Male\"}, {\"order\": 35, \"title\": \"Rapture\", \"author\": \"Susan Minot\", \"pages\": null, \"url\": \"https://www.goodreads.com/book/show/40056.Rapture\", \"gender\": \"F\", \"type\": \"Fiction\", \"subgenre\": \"Romance\", \"avg_goodreads_rating\": 2.96, \"started\": \"2020-12-02T00:00:00\", \"date\": \"2020-12-03T00:00:00\", \"faves\": null, \"year\": \"2020\", \"days_to_read\": 1, \"gender_description\": \"Female\"}, {\"order\": 36, \"title\": \"The Middle Passage\", \"author\": \"James Hollis\", \"pages\": 127.0, \"url\": \"https://www.goodreads.com/book/show/47849.The_Middle_Passage?from_search=true&from_srp=true&qid=ot6aI40sSB&rank=1\", \"gender\": \"M\", \"type\": \"Non-Fiction\", \"subgenre\": \"Psychology\", \"avg_goodreads_rating\": 4.44, \"started\": \"2020-12-15T00:00:00\", \"date\": \"2020-12-18T00:00:00\", \"faves\": \"Y\", \"year\": \"2020\", \"days_to_read\": 3, \"gender_description\": \"Male\"}, {\"order\": 37, \"title\": \"Intimacy\", \"author\": \"Hanif Kureishi\", \"pages\": 155.0, \"url\": \"https://www.goodreads.com/book/show/153418.Intimacy\", \"gender\": \"M\", \"type\": \"Fiction\", \"subgenre\": \"Contemporary\", \"avg_goodreads_rating\": 3.6, \"started\": \"2020-12-21T00:00:00\", \"date\": \"2020-12-22T00:00:00\", \"faves\": null, \"year\": \"2020\", \"days_to_read\": 1, \"gender_description\": \"Male\"}, {\"order\": 38, \"title\": \"No One Asked for This: Essays\", \"author\": \"Cazzie David\", \"pages\": 352.0, \"url\": \"https://www.goodreads.com/book/show/48930274-no-one-asked-for-this?from_search=true&from_srp=true&qid=oVY5dHZfxR&rank=1\", \"gender\": \"F\", \"type\": \"Non-Fiction\", \"subgenre\": \"Essays\", \"avg_goodreads_rating\": 3.53, \"started\": \"2020-11-27T00:00:00\", \"date\": \"2020-12-25T00:00:00\", \"faves\": null, \"year\": \"2020\", \"days_to_read\": 28, \"gender_description\": \"Female\"}, {\"order\": 39, \"title\": \"Self-Help\", \"author\": \"Lorrie Moore\", \"pages\": 163.0, \"url\": \"https://www.goodreads.com/book/show/90872.Self_Help\", \"gender\": \"F\", \"type\": \"Fiction\", \"subgenre\": \"Short Stories\", \"avg_goodreads_rating\": 4.19, \"started\": \"2020-12-26T00:00:00\", \"date\": \"2020-12-27T00:00:00\", \"faves\": \"Y\", \"year\": \"2020\", \"days_to_read\": 1, \"gender_description\": \"Female\"}]}}, {\"mode\": \"vega-lite\"});\n",
       "</script>"
      ],
      "text/plain": [
       "alt.Chart(...)"
      ]
     },
     "execution_count": 19,
     "metadata": {},
     "output_type": "execute_result"
    }
   ],
   "source": [
    "#DESKTOP\n",
    "alt.Chart(books).mark_tick(thickness=3,size=10).encode(\n",
    "    x=alt.X('date',axis=alt.Axis(tickCount=12, format='%b', tickColor='#ffffff'), title=''),\n",
    "    y=alt.Y('subgenre',axis=alt.Axis(tickCount=0, tickColor='#ffffff'), title=' ')\n",
    ").configure_axis(grid=False).properties(height=400, width=700)"
   ]
  },
  {
   "cell_type": "code",
   "execution_count": 20,
   "metadata": {},
   "outputs": [
    {
     "data": {
      "text/html": [
       "\n",
       "<div id=\"altair-viz-998d6acf5ed7484e8f3815d123a7c865\"></div>\n",
       "<script type=\"text/javascript\">\n",
       "  (function(spec, embedOpt){\n",
       "    let outputDiv = document.currentScript.previousElementSibling;\n",
       "    if (outputDiv.id !== \"altair-viz-998d6acf5ed7484e8f3815d123a7c865\") {\n",
       "      outputDiv = document.getElementById(\"altair-viz-998d6acf5ed7484e8f3815d123a7c865\");\n",
       "    }\n",
       "    const paths = {\n",
       "      \"vega\": \"https://cdn.jsdelivr.net/npm//vega@5?noext\",\n",
       "      \"vega-lib\": \"https://cdn.jsdelivr.net/npm//vega-lib?noext\",\n",
       "      \"vega-lite\": \"https://cdn.jsdelivr.net/npm//vega-lite@4.8.1?noext\",\n",
       "      \"vega-embed\": \"https://cdn.jsdelivr.net/npm//vega-embed@6?noext\",\n",
       "    };\n",
       "\n",
       "    function loadScript(lib) {\n",
       "      return new Promise(function(resolve, reject) {\n",
       "        var s = document.createElement('script');\n",
       "        s.src = paths[lib];\n",
       "        s.async = true;\n",
       "        s.onload = () => resolve(paths[lib]);\n",
       "        s.onerror = () => reject(`Error loading script: ${paths[lib]}`);\n",
       "        document.getElementsByTagName(\"head\")[0].appendChild(s);\n",
       "      });\n",
       "    }\n",
       "\n",
       "    function showError(err) {\n",
       "      outputDiv.innerHTML = `<div class=\"error\" style=\"color:red;\">${err}</div>`;\n",
       "      throw err;\n",
       "    }\n",
       "\n",
       "    function displayChart(vegaEmbed) {\n",
       "      vegaEmbed(outputDiv, spec, embedOpt)\n",
       "        .catch(err => showError(`Javascript Error: ${err.message}<br>This usually means there's a typo in your chart specification. See the javascript console for the full traceback.`));\n",
       "    }\n",
       "\n",
       "    if(typeof define === \"function\" && define.amd) {\n",
       "      requirejs.config({paths});\n",
       "      require([\"vega-embed\"], displayChart, err => showError(`Error loading script: ${err.message}`));\n",
       "    } else if (typeof vegaEmbed === \"function\") {\n",
       "      displayChart(vegaEmbed);\n",
       "    } else {\n",
       "      loadScript(\"vega\")\n",
       "        .then(() => loadScript(\"vega-lite\"))\n",
       "        .then(() => loadScript(\"vega-embed\"))\n",
       "        .catch(showError)\n",
       "        .then(() => displayChart(vegaEmbed));\n",
       "    }\n",
       "  })({\"usermeta\": {\"embedOptions\": {\"theme\": \"vox\"}}, \"config\": {\"view\": {\"continuousWidth\": 400, \"continuousHeight\": 300}, \"axis\": {\"grid\": false}}, \"data\": {\"name\": \"data-8e391cabd5bc49dcb5a9fe358321c344\"}, \"mark\": {\"type\": \"tick\", \"size\": 10, \"thickness\": 2}, \"encoding\": {\"x\": {\"type\": \"temporal\", \"axis\": {\"format\": \"%b\", \"tickColor\": \"#ffffff\", \"tickCount\": 12}, \"field\": \"date\", \"title\": \"\"}, \"y\": {\"type\": \"nominal\", \"axis\": {\"tickColor\": \"#ffffff\", \"tickCount\": 0}, \"field\": \"subgenre\", \"title\": \" \"}}, \"height\": 400, \"width\": 320, \"$schema\": \"https://vega.github.io/schema/vega-lite/v4.8.1.json\", \"datasets\": {\"data-8e391cabd5bc49dcb5a9fe358321c344\": [{\"order\": 1, \"title\": \"How to Do Nothing\", \"author\": \"Jenny Odell\", \"pages\": 240.0, \"url\": \"https://www.goodreads.com/author/show/18614151.Jenny_Odell\", \"gender\": \"F\", \"type\": \"Non-Fiction\", \"subgenre\": \"Self Help\", \"avg_goodreads_rating\": 3.97, \"started\": \"2019-12-25T00:00:00\", \"date\": \"2020-01-06T00:00:00\", \"faves\": null, \"year\": \"2020\", \"days_to_read\": 12, \"gender_description\": \"Female\"}, {\"order\": 2, \"title\": \"Becoming Wise\", \"author\": \"Krista Tippett\", \"pages\": 288.0, \"url\": \"https://www.goodreads.com/book/show/25894085-becoming-wise\", \"gender\": \"F\", \"type\": \"Non-Fiction\", \"subgenre\": \"Spirituality\", \"avg_goodreads_rating\": 4.15, \"started\": \"2020-01-01T00:00:00\", \"date\": \"2020-01-12T00:00:00\", \"faves\": \"Y\", \"year\": \"2020\", \"days_to_read\": 11, \"gender_description\": \"Female\"}, {\"order\": 3, \"title\": \"Rework \", \"author\": \"Jason Fried, David Hansson\", \"pages\": 279.0, \"url\": \"https://www.goodreads.com/book/show/6732019-rework?from_search=true&qid=TeHru4l6OG&rank=1\", \"gender\": \"M\", \"type\": \"Non-Fiction\", \"subgenre\": \"Business\", \"avg_goodreads_rating\": 3.94, \"started\": \"2020-01-12T00:00:00\", \"date\": \"2020-01-17T00:00:00\", \"faves\": null, \"year\": \"2020\", \"days_to_read\": 5, \"gender_description\": \"Male\"}, {\"order\": 4, \"title\": \"Minor Feelings\", \"author\": \"Cathy Park Hong\", \"pages\": 224.0, \"url\": \"https://www.goodreads.com/book/show/47544177-minor-feelings?from_search=true&qid=YwgnVM0MaX&rank=1\", \"gender\": \"F\", \"type\": \"Non-Fiction\", \"subgenre\": \"Essays\", \"avg_goodreads_rating\": 4.53, \"started\": \"2020-01-14T00:00:00\", \"date\": \"2020-01-26T00:00:00\", \"faves\": null, \"year\": \"2020\", \"days_to_read\": 12, \"gender_description\": \"Female\"}, {\"order\": 5, \"title\": \"The Idiot\", \"author\": \"Elif Batuman\", \"pages\": 423.0, \"url\": \"https://www.goodreads.com/book/show/30962053-the-idiot\", \"gender\": \"F\", \"type\": \"Fiction\", \"subgenre\": \"historical\", \"avg_goodreads_rating\": 3.63, \"started\": \"2020-01-25T00:00:00\", \"date\": \"2020-02-02T00:00:00\", \"faves\": null, \"year\": \"2020\", \"days_to_read\": 8, \"gender_description\": \"Female\"}, {\"order\": 6, \"title\": \"If I Had Your Face\", \"author\": \"Frances Cha\", \"pages\": 288.0, \"url\": \"https://www.goodreads.com/book/show/47548925-if-i-had-your-face?from_search=true&qid=c3Iw9aiNTi&rank=1\", \"gender\": \"F\", \"type\": \"Fiction\", \"subgenre\": \"Contemporary\", \"avg_goodreads_rating\": 3.97, \"started\": \"2020-02-02T00:00:00\", \"date\": \"2020-02-06T00:00:00\", \"faves\": null, \"year\": \"2020\", \"days_to_read\": 4, \"gender_description\": \"Female\"}, {\"order\": 7, \"title\": \"Topics of Conversation\", \"author\": \"Miranda Popkey\", \"pages\": 224.0, \"url\": \"https://www.goodreads.com/book/show/45754997-topics-of-conversation?from_search=true&qid=F1d5R6meaf&rank=1\", \"gender\": \"F\", \"type\": \"Fiction\", \"subgenre\": \"Contemporary\", \"avg_goodreads_rating\": 2.83, \"started\": \"2020-02-06T00:00:00\", \"date\": \"2020-02-12T00:00:00\", \"faves\": null, \"year\": \"2020\", \"days_to_read\": 6, \"gender_description\": \"Female\"}, {\"order\": 8, \"title\": \"Bluets\", \"author\": \"Maggie Nelson\", \"pages\": 98.0, \"url\": \"https://www.goodreads.com/book/show/6798263-bluets\", \"gender\": \"F\", \"type\": \"Non-Fiction\", \"subgenre\": \"Poetry\", \"avg_goodreads_rating\": 4.26, \"started\": \"2020-02-12T00:00:00\", \"date\": \"2020-02-16T00:00:00\", \"faves\": null, \"year\": \"2020\", \"days_to_read\": 4, \"gender_description\": \"Female\"}, {\"order\": 9, \"title\": \"I Believe in a Thing Called Love\", \"author\": \"Maurene Goo\", \"pages\": 336.0, \"url\": \"https://www.goodreads.com/book/show/31145133-i-believe-in-a-thing-called-love\", \"gender\": \"F\", \"type\": \"Fiction\", \"subgenre\": \"Young Adult\", \"avg_goodreads_rating\": 3.66, \"started\": \"2020-02-23T00:00:00\", \"date\": \"2020-03-11T00:00:00\", \"faves\": null, \"year\": \"2020\", \"days_to_read\": 17, \"gender_description\": \"Female\"}, {\"order\": 10, \"title\": \"Untamed\", \"author\": \"Glennon Doyle\", \"pages\": 352.0, \"url\": \"https://www.goodreads.com/book/show/52129515-untamed\", \"gender\": \"F\", \"type\": \"Non-Fiction\", \"subgenre\": \"Memoir\", \"avg_goodreads_rating\": 4.46, \"started\": \"2020-03-07T00:00:00\", \"date\": \"2020-03-12T00:00:00\", \"faves\": null, \"year\": \"2020\", \"days_to_read\": 5, \"gender_description\": \"Female\"}, {\"order\": 11, \"title\": \"Red, White and Royal Blue\", \"author\": \"Casey McQuiston\", \"pages\": 421.0, \"url\": \"https://www.goodreads.com/book/show/41150487-red-white-royal-blue\", \"gender\": \"F\", \"type\": \"Fiction\", \"subgenre\": \"Romance\", \"avg_goodreads_rating\": 4.31, \"started\": \"2020-03-12T00:00:00\", \"date\": \"2020-03-20T00:00:00\", \"faves\": null, \"year\": \"2020\", \"days_to_read\": 8, \"gender_description\": \"Female\"}, {\"order\": 12, \"title\": \"Bird by Bird: Some Instructions on Writing and Life\", \"author\": \"Anne Lamott\", \"pages\": 237.0, \"url\": \"https://www.goodreads.com/book/show/12543.Bird_by_Bird\", \"gender\": \"F\", \"type\": \"Non-Fiction\", \"subgenre\": \"Writing\", \"avg_goodreads_rating\": 4.23, \"started\": \"2020-03-21T00:00:00\", \"date\": \"2020-03-31T00:00:00\", \"faves\": \"Y\", \"year\": \"2020\", \"days_to_read\": 10, \"gender_description\": \"Female\"}, {\"order\": 13, \"title\": \"Cleanness\", \"author\": \"Garth Greenwell\", \"pages\": 240.0, \"url\": \"https://www.goodreads.com/book/show/45892271-cleanness?ac=1&from_search=true&qid=ornMVFsX93&rank=2\", \"gender\": \"M\", \"type\": \"Fiction\", \"subgenre\": \"Contemporary\", \"avg_goodreads_rating\": 4.05, \"started\": \"2020-03-31T00:00:00\", \"date\": \"2020-04-06T00:00:00\", \"faves\": null, \"year\": \"2020\", \"days_to_read\": 6, \"gender_description\": \"Male\"}, {\"order\": 14, \"title\": \"The Bridges of Madison County\", \"author\": \"Robert James Waller\", \"pages\": 221.0, \"url\": \"https://www.goodreads.com/book/show/83674.The_Bridges_of_Madison_County\", \"gender\": \"M\", \"type\": \"Fiction\", \"subgenre\": \"Contemporary\", \"avg_goodreads_rating\": 3.61, \"started\": \"2020-04-08T00:00:00\", \"date\": \"2020-04-11T00:00:00\", \"faves\": null, \"year\": \"2020\", \"days_to_read\": 3, \"gender_description\": \"Male\"}, {\"order\": 15, \"title\": \"Super Attractor\", \"author\": \"Gabrielle Bernstein\", \"pages\": 248.0, \"url\": \"https://www.goodreads.com/book/show/43496426-super-attractor?from_search=true&from_srp=true&qid=sRtfi9Txub&rank=1\", \"gender\": \"F\", \"type\": \"Non-Fiction\", \"subgenre\": \"Self Help\", \"avg_goodreads_rating\": 4.18, \"started\": \"2020-04-11T00:00:00\", \"date\": \"2020-04-22T00:00:00\", \"faves\": null, \"year\": \"2020\", \"days_to_read\": 11, \"gender_description\": \"Female\"}, {\"order\": 16, \"title\": \"Felix Ever After\", \"author\": \"Kacen Callender\", \"pages\": 354.0, \"url\": \"https://www.goodreads.com/book/show/51931067-felix-ever-after?from_search=true&from_srp=true&qid=ssQYTzSgHg&rank=1\", \"gender\": \"M\", \"type\": \"Fiction\", \"subgenre\": \"Young Adult\", \"avg_goodreads_rating\": 4.46, \"started\": \"2020-05-12T00:00:00\", \"date\": \"2020-05-14T00:00:00\", \"faves\": null, \"year\": \"2020\", \"days_to_read\": 2, \"gender_description\": \"Male\"}, {\"order\": 17, \"title\": \"Days of Distraction\", \"author\": \"Alexandra Chang\", \"pages\": 312.0, \"url\": \"https://www.goodreads.com/book/show/52973514-days-of-distraction?from_search=true&from_srp=true&qid=zLGt916iHW&rank=1\", \"gender\": \"F\", \"type\": \"Fiction\", \"subgenre\": \"Contemporary\", \"avg_goodreads_rating\": 3.66, \"started\": \"2020-04-12T00:00:00\", \"date\": \"2020-05-17T00:00:00\", \"faves\": null, \"year\": \"2020\", \"days_to_read\": 35, \"gender_description\": \"Female\"}, {\"order\": 18, \"title\": \"wow, no thank you.\", \"author\": \"Samantha Irby\", \"pages\": 288.0, \"url\": \"https://www.goodreads.com/book/show/52844646-wow-no-thank-you\", \"gender\": \"F\", \"type\": \"Non-Fiction\", \"subgenre\": \"Essays\", \"avg_goodreads_rating\": 4.13, \"started\": \"2020-04-05T00:00:00\", \"date\": \"2020-06-15T00:00:00\", \"faves\": \"Y\", \"year\": \"2020\", \"days_to_read\": 71, \"gender_description\": \"Female\"}, {\"order\": 19, \"title\": \"How Much of These Hills Is Gold\", \"author\": \"C. Pam Zhang\", \"pages\": 288.0, \"url\": \"https://www.goodreads.com/book/show/45895362-how-much-of-these-hills-is-gold?from_search=true&from_srp=true&qid=rMvIru31RB&rank=1\", \"gender\": \"F\", \"type\": \"Fiction\", \"subgenre\": \"historical\", \"avg_goodreads_rating\": 3.86, \"started\": \"2020-05-22T00:00:00\", \"date\": \"2020-06-01T00:00:00\", \"faves\": null, \"year\": \"2020\", \"days_to_read\": 10, \"gender_description\": \"Female\"}, {\"order\": 20, \"title\": \"Between the World and Me\", \"author\": \"Tanehisi Coates\", \"pages\": 152.0, \"url\": \"https://www.goodreads.com/book/show/25489625-between-the-world-and-me?from_search=true&from_srp=true&qid=xvQajzPDjC&rank=1\", \"gender\": \"M\", \"type\": \"Non-Fiction\", \"subgenre\": \"Current Events\", \"avg_goodreads_rating\": 4.52, \"started\": \"2020-06-15T00:00:00\", \"date\": \"2020-06-24T00:00:00\", \"faves\": \"Y\", \"year\": \"2020\", \"days_to_read\": 9, \"gender_description\": \"Male\"}, {\"order\": 21, \"title\": \"Where the Crawdads Sing\", \"author\": \"Delia Owens\", \"pages\": 384.0, \"url\": \"https://www.goodreads.com/book/show/36809135-where-the-crawdads-sing?ac=1&from_search=true&qid=TifR2MzIpW&rank=1\", \"gender\": \"F\", \"type\": \"Fiction\", \"subgenre\": \"Contemporary\", \"avg_goodreads_rating\": 4.47, \"started\": \"2020-06-22T00:00:00\", \"date\": \"2020-06-29T00:00:00\", \"faves\": null, \"year\": \"2020\", \"days_to_read\": 7, \"gender_description\": \"Female\"}, {\"order\": 22, \"title\": \"Boys and Sex\", \"author\": \"Peggy Ornstein\", \"pages\": 304.0, \"url\": \"https://www.goodreads.com/book/show/43452877-boys-sex?from_search=true&from_srp=true&qid=TwPIaowNSU&rank=1\", \"gender\": \"F\", \"type\": \"Non-Fiction\", \"subgenre\": \"Current Events\", \"avg_goodreads_rating\": 4.24, \"started\": \"2020-04-12T00:00:00\", \"date\": \"2020-07-03T00:00:00\", \"faves\": null, \"year\": \"2020\", \"days_to_read\": 82, \"gender_description\": \"Female\"}, {\"order\": 23, \"title\": \"Someone Who Will Love You In All Your Damaged Glory\", \"author\": \"Rafael Bob Waksberg\", \"pages\": 256.0, \"url\": \"https://www.goodreads.com/book/show/41949311-someone-who-will-love-you-in-all-your-damaged-glory?ac=1&from_search=true&qid=Kr9sKqWCXh&rank=1\", \"gender\": \"M\", \"type\": \"Fiction\", \"subgenre\": \"Short Stories\", \"avg_goodreads_rating\": 4.16, \"started\": \"2020-07-08T00:00:00\", \"date\": \"2020-07-10T00:00:00\", \"faves\": \"Y\", \"year\": \"2020\", \"days_to_read\": 2, \"gender_description\": \"Male\"}, {\"order\": 24, \"title\": \"The Masters Tools Will Never DIsmantle The Master's House\", \"author\": \"Audre Lorde\", \"pages\": 64.0, \"url\": \"https://www.goodreads.com/en/book/show/38598541-the-master-s-tools-will-never-dismantle-the-master-s-house\", \"gender\": \"F\", \"type\": \"Non-Fiction\", \"subgenre\": \"Essays\", \"avg_goodreads_rating\": 4.46, \"started\": \"2020-07-15T00:00:00\", \"date\": \"2020-07-17T00:00:00\", \"faves\": \"Y\", \"year\": \"2020\", \"days_to_read\": 2, \"gender_description\": \"Female\"}, {\"order\": 25, \"title\": \"Attached\", \"author\": \"Amir Levine, Rachel SF Heller\", \"pages\": 304.0, \"url\": \"https://www.goodreads.com/book/show/9547888-attached?from_search=true&from_srp=true&qid=kdP4IdRQnC&rank=1\", \"gender\": \"F\", \"type\": \"Non-Fiction\", \"subgenre\": \"Psychology\", \"avg_goodreads_rating\": 4.14, \"started\": \"2020-07-31T00:00:00\", \"date\": \"2020-08-03T00:00:00\", \"faves\": null, \"year\": \"2020\", \"days_to_read\": 3, \"gender_description\": \"Female\"}, {\"order\": 26, \"title\": \"Listen to the Marriage\", \"author\": \"John Jay Osborn\", \"pages\": 256.0, \"url\": \"https://www.goodreads.com/book/show/37941728-listen-to-the-marriage?ac=1&from_search=true&qid=iy2rwd6WTj&rank=1\", \"gender\": \"M\", \"type\": \"Fiction\", \"subgenre\": \"Contemporary\", \"avg_goodreads_rating\": 3.51, \"started\": \"2020-08-06T00:00:00\", \"date\": \"2020-08-15T00:00:00\", \"faves\": null, \"year\": \"2020\", \"days_to_read\": 9, \"gender_description\": \"Male\"}, {\"order\": 27, \"title\": \"Jung: A Very Short Introduction\", \"author\": \"Andrew Stevens\", \"pages\": 192.0, \"url\": \"https://www.goodreads.com/book/show/297554.Jung?from_search=true&from_srp=true&qid=Jim8gejEr2&rank=1\", \"gender\": \"M\", \"type\": \"Non-Fiction\", \"subgenre\": \"History\", \"avg_goodreads_rating\": 4.07, \"started\": \"2020-09-07T00:00:00\", \"date\": \"2020-09-16T00:00:00\", \"faves\": null, \"year\": \"2020\", \"days_to_read\": 9, \"gender_description\": \"Male\"}, {\"order\": 28, \"title\": \"The First Bad Man\", \"author\": \"Miranda July\", \"pages\": 288.0, \"url\": \"https://www.goodreads.com/book/show/21412400-the-first-bad-man?from_search=true&from_srp=true&qid=8h7sxqtWHM&rank=1\", \"gender\": \"F\", \"type\": \"Fiction\", \"subgenre\": \"Contemporary\", \"avg_goodreads_rating\": 3.62, \"started\": \"2020-09-16T00:00:00\", \"date\": \"2020-09-20T00:00:00\", \"faves\": \"Y\", \"year\": \"2020\", \"days_to_read\": 4, \"gender_description\": \"Female\"}, {\"order\": 29, \"title\": \"The Drama of the Gifted Child\", \"author\": \"Alice Miller\", \"pages\": 144.0, \"url\": \"https://www.goodreads.com/book/show/24204222-the-drama-of-the-gifted-child?utm_content=review_cta_book_image&utm_medium=email&utm_source=bookend&ref_=pe_7171740_474197500\", \"gender\": \"F\", \"type\": \"Non-Fiction\", \"subgenre\": \"Psychology\", \"avg_goodreads_rating\": 4.1, \"started\": \"2020-09-27T00:00:00\", \"date\": \"2020-10-01T00:00:00\", \"faves\": null, \"year\": \"2020\", \"days_to_read\": 4, \"gender_description\": \"Female\"}, {\"order\": 30, \"title\": \"Don't Call us Dead: Poems\", \"author\": \"Danez Smith\", \"pages\": 101.0, \"url\": \"https://www.goodreads.com/book/show/35422441-don-t-call-us-dead?from_search=true&from_srp=true&qid=8qdAhd4Vlp&rank=1\", \"gender\": \"M\", \"type\": \"Poetry\", \"subgenre\": \"LGBT\", \"avg_goodreads_rating\": 4.52, \"started\": \"2020-10-01T00:00:00\", \"date\": \"2020-10-06T00:00:00\", \"faves\": \"Y\", \"year\": \"2020\", \"days_to_read\": 5, \"gender_description\": \"Male\"}, {\"order\": 31, \"title\": \"Tender is the Night\", \"author\": \"F. Scott Fitzgerald\", \"pages\": 315.0, \"url\": \"https://www.goodreads.com/book/show/46164.Tender_Is_the_Night?from_search=true&from_srp=true&qid=B8eLWQQKSX&rank=1\", \"gender\": \"M\", \"type\": \"Fiction\", \"subgenre\": \"Classic\", \"avg_goodreads_rating\": 3.81, \"started\": \"2020-10-10T00:00:00\", \"date\": \"2020-11-07T00:00:00\", \"faves\": \"Y\", \"year\": \"2020\", \"days_to_read\": 28, \"gender_description\": \"Male\"}, {\"order\": 32, \"title\": \"Heather, The Totality\", \"author\": \"Matthew Weiner\", \"pages\": 144.0, \"url\": \"https://www.goodreads.com/book/show/31933063-heather-the-totality?ac=1&from_search=true&qid=MvG8rzSUME&rank=1\", \"gender\": \"M\", \"type\": \"Fiction\", \"subgenre\": \"Contemporary\", \"avg_goodreads_rating\": 2.93, \"started\": \"2020-11-07T00:00:00\", \"date\": \"2020-11-09T00:00:00\", \"faves\": null, \"year\": \"2020\", \"days_to_read\": 2, \"gender_description\": \"Male\"}, {\"order\": 33, \"title\": \"What We Talk About When We Talk About Love\", \"author\": \"Raymond Carver\", \"pages\": 159.0, \"url\": \"https://www.goodreads.com/book/show/11438.What_We_Talk_About_When_We_Talk_About_Love?from_search=true&from_srp=true&qid=5G4xkS3EQg&rank=1\", \"gender\": \"M\", \"type\": \"Fiction\", \"subgenre\": \"Short Stories\", \"avg_goodreads_rating\": 4.15, \"started\": \"2020-10-06T00:00:00\", \"date\": \"2020-10-31T00:00:00\", \"faves\": null, \"year\": \"2020\", \"days_to_read\": 25, \"gender_description\": \"Male\"}, {\"order\": 34, \"title\": \"Never Split the Difference\", \"author\": \"Chris Voss\", \"pages\": 274.0, \"url\": \"https://www.goodreads.com/book/show/26156469-never-split-the-difference?from_search=true&from_srp=true&qid=umiLanQLHO&rank=1\", \"gender\": \"M\", \"type\": \"Non-Fiction\", \"subgenre\": \"Business\", \"avg_goodreads_rating\": 4.4, \"started\": \"2020-11-11T00:00:00\", \"date\": \"2020-11-26T00:00:00\", \"faves\": null, \"year\": \"2020\", \"days_to_read\": 15, \"gender_description\": \"Male\"}, {\"order\": 35, \"title\": \"Rapture\", \"author\": \"Susan Minot\", \"pages\": null, \"url\": \"https://www.goodreads.com/book/show/40056.Rapture\", \"gender\": \"F\", \"type\": \"Fiction\", \"subgenre\": \"Romance\", \"avg_goodreads_rating\": 2.96, \"started\": \"2020-12-02T00:00:00\", \"date\": \"2020-12-03T00:00:00\", \"faves\": null, \"year\": \"2020\", \"days_to_read\": 1, \"gender_description\": \"Female\"}, {\"order\": 36, \"title\": \"The Middle Passage\", \"author\": \"James Hollis\", \"pages\": 127.0, \"url\": \"https://www.goodreads.com/book/show/47849.The_Middle_Passage?from_search=true&from_srp=true&qid=ot6aI40sSB&rank=1\", \"gender\": \"M\", \"type\": \"Non-Fiction\", \"subgenre\": \"Psychology\", \"avg_goodreads_rating\": 4.44, \"started\": \"2020-12-15T00:00:00\", \"date\": \"2020-12-18T00:00:00\", \"faves\": \"Y\", \"year\": \"2020\", \"days_to_read\": 3, \"gender_description\": \"Male\"}, {\"order\": 37, \"title\": \"Intimacy\", \"author\": \"Hanif Kureishi\", \"pages\": 155.0, \"url\": \"https://www.goodreads.com/book/show/153418.Intimacy\", \"gender\": \"M\", \"type\": \"Fiction\", \"subgenre\": \"Contemporary\", \"avg_goodreads_rating\": 3.6, \"started\": \"2020-12-21T00:00:00\", \"date\": \"2020-12-22T00:00:00\", \"faves\": null, \"year\": \"2020\", \"days_to_read\": 1, \"gender_description\": \"Male\"}, {\"order\": 38, \"title\": \"No One Asked for This: Essays\", \"author\": \"Cazzie David\", \"pages\": 352.0, \"url\": \"https://www.goodreads.com/book/show/48930274-no-one-asked-for-this?from_search=true&from_srp=true&qid=oVY5dHZfxR&rank=1\", \"gender\": \"F\", \"type\": \"Non-Fiction\", \"subgenre\": \"Essays\", \"avg_goodreads_rating\": 3.53, \"started\": \"2020-11-27T00:00:00\", \"date\": \"2020-12-25T00:00:00\", \"faves\": null, \"year\": \"2020\", \"days_to_read\": 28, \"gender_description\": \"Female\"}, {\"order\": 39, \"title\": \"Self-Help\", \"author\": \"Lorrie Moore\", \"pages\": 163.0, \"url\": \"https://www.goodreads.com/book/show/90872.Self_Help\", \"gender\": \"F\", \"type\": \"Fiction\", \"subgenre\": \"Short Stories\", \"avg_goodreads_rating\": 4.19, \"started\": \"2020-12-26T00:00:00\", \"date\": \"2020-12-27T00:00:00\", \"faves\": \"Y\", \"year\": \"2020\", \"days_to_read\": 1, \"gender_description\": \"Female\"}]}}, {\"mode\": \"vega-lite\"});\n",
       "</script>"
      ],
      "text/plain": [
       "alt.Chart(...)"
      ]
     },
     "execution_count": 20,
     "metadata": {},
     "output_type": "execute_result"
    }
   ],
   "source": [
    "# mobile\n",
    "alt.Chart(books).mark_tick(thickness=2,size=10).encode(\n",
    "    x=alt.X('date',axis=alt.Axis(tickCount=12, format='%b', tickColor='#ffffff'), title=''),\n",
    "    y=alt.Y('subgenre',axis=alt.Axis(tickCount=0, tickColor='#ffffff'), title=' ')\n",
    ").configure_axis(grid=False).properties(height=400, width=320)"
   ]
  },
  {
   "cell_type": "markdown",
   "metadata": {},
   "source": [
    "---"
   ]
  },
  {
   "cell_type": "markdown",
   "metadata": {},
   "source": [
    "### Let's try books by author gender and month"
   ]
  },
  {
   "cell_type": "code",
   "execution_count": 21,
   "metadata": {
    "scrolled": true
   },
   "outputs": [
    {
     "data": {
      "text/html": [
       "\n",
       "<div id=\"altair-viz-37a4fbbf8c65404f94b874de34d397ad\"></div>\n",
       "<script type=\"text/javascript\">\n",
       "  (function(spec, embedOpt){\n",
       "    let outputDiv = document.currentScript.previousElementSibling;\n",
       "    if (outputDiv.id !== \"altair-viz-37a4fbbf8c65404f94b874de34d397ad\") {\n",
       "      outputDiv = document.getElementById(\"altair-viz-37a4fbbf8c65404f94b874de34d397ad\");\n",
       "    }\n",
       "    const paths = {\n",
       "      \"vega\": \"https://cdn.jsdelivr.net/npm//vega@5?noext\",\n",
       "      \"vega-lib\": \"https://cdn.jsdelivr.net/npm//vega-lib?noext\",\n",
       "      \"vega-lite\": \"https://cdn.jsdelivr.net/npm//vega-lite@4.8.1?noext\",\n",
       "      \"vega-embed\": \"https://cdn.jsdelivr.net/npm//vega-embed@6?noext\",\n",
       "    };\n",
       "\n",
       "    function loadScript(lib) {\n",
       "      return new Promise(function(resolve, reject) {\n",
       "        var s = document.createElement('script');\n",
       "        s.src = paths[lib];\n",
       "        s.async = true;\n",
       "        s.onload = () => resolve(paths[lib]);\n",
       "        s.onerror = () => reject(`Error loading script: ${paths[lib]}`);\n",
       "        document.getElementsByTagName(\"head\")[0].appendChild(s);\n",
       "      });\n",
       "    }\n",
       "\n",
       "    function showError(err) {\n",
       "      outputDiv.innerHTML = `<div class=\"error\" style=\"color:red;\">${err}</div>`;\n",
       "      throw err;\n",
       "    }\n",
       "\n",
       "    function displayChart(vegaEmbed) {\n",
       "      vegaEmbed(outputDiv, spec, embedOpt)\n",
       "        .catch(err => showError(`Javascript Error: ${err.message}<br>This usually means there's a typo in your chart specification. See the javascript console for the full traceback.`));\n",
       "    }\n",
       "\n",
       "    if(typeof define === \"function\" && define.amd) {\n",
       "      requirejs.config({paths});\n",
       "      require([\"vega-embed\"], displayChart, err => showError(`Error loading script: ${err.message}`));\n",
       "    } else if (typeof vegaEmbed === \"function\") {\n",
       "      displayChart(vegaEmbed);\n",
       "    } else {\n",
       "      loadScript(\"vega\")\n",
       "        .then(() => loadScript(\"vega-lite\"))\n",
       "        .then(() => loadScript(\"vega-embed\"))\n",
       "        .catch(showError)\n",
       "        .then(() => displayChart(vegaEmbed));\n",
       "    }\n",
       "  })({\"usermeta\": {\"embedOptions\": {\"theme\": \"vox\"}}, \"config\": {\"view\": {\"continuousWidth\": 400, \"continuousHeight\": 300}, \"axis\": {\"grid\": false}}, \"data\": {\"name\": \"data-8e391cabd5bc49dcb5a9fe358321c344\"}, \"mark\": {\"type\": \"tick\", \"size\": 20, \"thickness\": 4}, \"encoding\": {\"color\": {\"type\": \"nominal\", \"field\": \"gender_description\", \"legend\": null}, \"x\": {\"type\": \"temporal\", \"axis\": {\"format\": \"%b\", \"tickColor\": \"#ffffff\", \"tickCount\": 12}, \"field\": \"date\", \"title\": \"\"}, \"y\": {\"type\": \"nominal\", \"axis\": {\"tickColor\": \"#ffffff\", \"tickCount\": 0}, \"field\": \"gender_description\", \"title\": \" \"}}, \"height\": 100, \"width\": 700, \"$schema\": \"https://vega.github.io/schema/vega-lite/v4.8.1.json\", \"datasets\": {\"data-8e391cabd5bc49dcb5a9fe358321c344\": [{\"order\": 1, \"title\": \"How to Do Nothing\", \"author\": \"Jenny Odell\", \"pages\": 240.0, \"url\": \"https://www.goodreads.com/author/show/18614151.Jenny_Odell\", \"gender\": \"F\", \"type\": \"Non-Fiction\", \"subgenre\": \"Self Help\", \"avg_goodreads_rating\": 3.97, \"started\": \"2019-12-25T00:00:00\", \"date\": \"2020-01-06T00:00:00\", \"faves\": null, \"year\": \"2020\", \"days_to_read\": 12, \"gender_description\": \"Female\"}, {\"order\": 2, \"title\": \"Becoming Wise\", \"author\": \"Krista Tippett\", \"pages\": 288.0, \"url\": \"https://www.goodreads.com/book/show/25894085-becoming-wise\", \"gender\": \"F\", \"type\": \"Non-Fiction\", \"subgenre\": \"Spirituality\", \"avg_goodreads_rating\": 4.15, \"started\": \"2020-01-01T00:00:00\", \"date\": \"2020-01-12T00:00:00\", \"faves\": \"Y\", \"year\": \"2020\", \"days_to_read\": 11, \"gender_description\": \"Female\"}, {\"order\": 3, \"title\": \"Rework \", \"author\": \"Jason Fried, David Hansson\", \"pages\": 279.0, \"url\": \"https://www.goodreads.com/book/show/6732019-rework?from_search=true&qid=TeHru4l6OG&rank=1\", \"gender\": \"M\", \"type\": \"Non-Fiction\", \"subgenre\": \"Business\", \"avg_goodreads_rating\": 3.94, \"started\": \"2020-01-12T00:00:00\", \"date\": \"2020-01-17T00:00:00\", \"faves\": null, \"year\": \"2020\", \"days_to_read\": 5, \"gender_description\": \"Male\"}, {\"order\": 4, \"title\": \"Minor Feelings\", \"author\": \"Cathy Park Hong\", \"pages\": 224.0, \"url\": \"https://www.goodreads.com/book/show/47544177-minor-feelings?from_search=true&qid=YwgnVM0MaX&rank=1\", \"gender\": \"F\", \"type\": \"Non-Fiction\", \"subgenre\": \"Essays\", \"avg_goodreads_rating\": 4.53, \"started\": \"2020-01-14T00:00:00\", \"date\": \"2020-01-26T00:00:00\", \"faves\": null, \"year\": \"2020\", \"days_to_read\": 12, \"gender_description\": \"Female\"}, {\"order\": 5, \"title\": \"The Idiot\", \"author\": \"Elif Batuman\", \"pages\": 423.0, \"url\": \"https://www.goodreads.com/book/show/30962053-the-idiot\", \"gender\": \"F\", \"type\": \"Fiction\", \"subgenre\": \"historical\", \"avg_goodreads_rating\": 3.63, \"started\": \"2020-01-25T00:00:00\", \"date\": \"2020-02-02T00:00:00\", \"faves\": null, \"year\": \"2020\", \"days_to_read\": 8, \"gender_description\": \"Female\"}, {\"order\": 6, \"title\": \"If I Had Your Face\", \"author\": \"Frances Cha\", \"pages\": 288.0, \"url\": \"https://www.goodreads.com/book/show/47548925-if-i-had-your-face?from_search=true&qid=c3Iw9aiNTi&rank=1\", \"gender\": \"F\", \"type\": \"Fiction\", \"subgenre\": \"Contemporary\", \"avg_goodreads_rating\": 3.97, \"started\": \"2020-02-02T00:00:00\", \"date\": \"2020-02-06T00:00:00\", \"faves\": null, \"year\": \"2020\", \"days_to_read\": 4, \"gender_description\": \"Female\"}, {\"order\": 7, \"title\": \"Topics of Conversation\", \"author\": \"Miranda Popkey\", \"pages\": 224.0, \"url\": \"https://www.goodreads.com/book/show/45754997-topics-of-conversation?from_search=true&qid=F1d5R6meaf&rank=1\", \"gender\": \"F\", \"type\": \"Fiction\", \"subgenre\": \"Contemporary\", \"avg_goodreads_rating\": 2.83, \"started\": \"2020-02-06T00:00:00\", \"date\": \"2020-02-12T00:00:00\", \"faves\": null, \"year\": \"2020\", \"days_to_read\": 6, \"gender_description\": \"Female\"}, {\"order\": 8, \"title\": \"Bluets\", \"author\": \"Maggie Nelson\", \"pages\": 98.0, \"url\": \"https://www.goodreads.com/book/show/6798263-bluets\", \"gender\": \"F\", \"type\": \"Non-Fiction\", \"subgenre\": \"Poetry\", \"avg_goodreads_rating\": 4.26, \"started\": \"2020-02-12T00:00:00\", \"date\": \"2020-02-16T00:00:00\", \"faves\": null, \"year\": \"2020\", \"days_to_read\": 4, \"gender_description\": \"Female\"}, {\"order\": 9, \"title\": \"I Believe in a Thing Called Love\", \"author\": \"Maurene Goo\", \"pages\": 336.0, \"url\": \"https://www.goodreads.com/book/show/31145133-i-believe-in-a-thing-called-love\", \"gender\": \"F\", \"type\": \"Fiction\", \"subgenre\": \"Young Adult\", \"avg_goodreads_rating\": 3.66, \"started\": \"2020-02-23T00:00:00\", \"date\": \"2020-03-11T00:00:00\", \"faves\": null, \"year\": \"2020\", \"days_to_read\": 17, \"gender_description\": \"Female\"}, {\"order\": 10, \"title\": \"Untamed\", \"author\": \"Glennon Doyle\", \"pages\": 352.0, \"url\": \"https://www.goodreads.com/book/show/52129515-untamed\", \"gender\": \"F\", \"type\": \"Non-Fiction\", \"subgenre\": \"Memoir\", \"avg_goodreads_rating\": 4.46, \"started\": \"2020-03-07T00:00:00\", \"date\": \"2020-03-12T00:00:00\", \"faves\": null, \"year\": \"2020\", \"days_to_read\": 5, \"gender_description\": \"Female\"}, {\"order\": 11, \"title\": \"Red, White and Royal Blue\", \"author\": \"Casey McQuiston\", \"pages\": 421.0, \"url\": \"https://www.goodreads.com/book/show/41150487-red-white-royal-blue\", \"gender\": \"F\", \"type\": \"Fiction\", \"subgenre\": \"Romance\", \"avg_goodreads_rating\": 4.31, \"started\": \"2020-03-12T00:00:00\", \"date\": \"2020-03-20T00:00:00\", \"faves\": null, \"year\": \"2020\", \"days_to_read\": 8, \"gender_description\": \"Female\"}, {\"order\": 12, \"title\": \"Bird by Bird: Some Instructions on Writing and Life\", \"author\": \"Anne Lamott\", \"pages\": 237.0, \"url\": \"https://www.goodreads.com/book/show/12543.Bird_by_Bird\", \"gender\": \"F\", \"type\": \"Non-Fiction\", \"subgenre\": \"Writing\", \"avg_goodreads_rating\": 4.23, \"started\": \"2020-03-21T00:00:00\", \"date\": \"2020-03-31T00:00:00\", \"faves\": \"Y\", \"year\": \"2020\", \"days_to_read\": 10, \"gender_description\": \"Female\"}, {\"order\": 13, \"title\": \"Cleanness\", \"author\": \"Garth Greenwell\", \"pages\": 240.0, \"url\": \"https://www.goodreads.com/book/show/45892271-cleanness?ac=1&from_search=true&qid=ornMVFsX93&rank=2\", \"gender\": \"M\", \"type\": \"Fiction\", \"subgenre\": \"Contemporary\", \"avg_goodreads_rating\": 4.05, \"started\": \"2020-03-31T00:00:00\", \"date\": \"2020-04-06T00:00:00\", \"faves\": null, \"year\": \"2020\", \"days_to_read\": 6, \"gender_description\": \"Male\"}, {\"order\": 14, \"title\": \"The Bridges of Madison County\", \"author\": \"Robert James Waller\", \"pages\": 221.0, \"url\": \"https://www.goodreads.com/book/show/83674.The_Bridges_of_Madison_County\", \"gender\": \"M\", \"type\": \"Fiction\", \"subgenre\": \"Contemporary\", \"avg_goodreads_rating\": 3.61, \"started\": \"2020-04-08T00:00:00\", \"date\": \"2020-04-11T00:00:00\", \"faves\": null, \"year\": \"2020\", \"days_to_read\": 3, \"gender_description\": \"Male\"}, {\"order\": 15, \"title\": \"Super Attractor\", \"author\": \"Gabrielle Bernstein\", \"pages\": 248.0, \"url\": \"https://www.goodreads.com/book/show/43496426-super-attractor?from_search=true&from_srp=true&qid=sRtfi9Txub&rank=1\", \"gender\": \"F\", \"type\": \"Non-Fiction\", \"subgenre\": \"Self Help\", \"avg_goodreads_rating\": 4.18, \"started\": \"2020-04-11T00:00:00\", \"date\": \"2020-04-22T00:00:00\", \"faves\": null, \"year\": \"2020\", \"days_to_read\": 11, \"gender_description\": \"Female\"}, {\"order\": 16, \"title\": \"Felix Ever After\", \"author\": \"Kacen Callender\", \"pages\": 354.0, \"url\": \"https://www.goodreads.com/book/show/51931067-felix-ever-after?from_search=true&from_srp=true&qid=ssQYTzSgHg&rank=1\", \"gender\": \"M\", \"type\": \"Fiction\", \"subgenre\": \"Young Adult\", \"avg_goodreads_rating\": 4.46, \"started\": \"2020-05-12T00:00:00\", \"date\": \"2020-05-14T00:00:00\", \"faves\": null, \"year\": \"2020\", \"days_to_read\": 2, \"gender_description\": \"Male\"}, {\"order\": 17, \"title\": \"Days of Distraction\", \"author\": \"Alexandra Chang\", \"pages\": 312.0, \"url\": \"https://www.goodreads.com/book/show/52973514-days-of-distraction?from_search=true&from_srp=true&qid=zLGt916iHW&rank=1\", \"gender\": \"F\", \"type\": \"Fiction\", \"subgenre\": \"Contemporary\", \"avg_goodreads_rating\": 3.66, \"started\": \"2020-04-12T00:00:00\", \"date\": \"2020-05-17T00:00:00\", \"faves\": null, \"year\": \"2020\", \"days_to_read\": 35, \"gender_description\": \"Female\"}, {\"order\": 18, \"title\": \"wow, no thank you.\", \"author\": \"Samantha Irby\", \"pages\": 288.0, \"url\": \"https://www.goodreads.com/book/show/52844646-wow-no-thank-you\", \"gender\": \"F\", \"type\": \"Non-Fiction\", \"subgenre\": \"Essays\", \"avg_goodreads_rating\": 4.13, \"started\": \"2020-04-05T00:00:00\", \"date\": \"2020-06-15T00:00:00\", \"faves\": \"Y\", \"year\": \"2020\", \"days_to_read\": 71, \"gender_description\": \"Female\"}, {\"order\": 19, \"title\": \"How Much of These Hills Is Gold\", \"author\": \"C. Pam Zhang\", \"pages\": 288.0, \"url\": \"https://www.goodreads.com/book/show/45895362-how-much-of-these-hills-is-gold?from_search=true&from_srp=true&qid=rMvIru31RB&rank=1\", \"gender\": \"F\", \"type\": \"Fiction\", \"subgenre\": \"historical\", \"avg_goodreads_rating\": 3.86, \"started\": \"2020-05-22T00:00:00\", \"date\": \"2020-06-01T00:00:00\", \"faves\": null, \"year\": \"2020\", \"days_to_read\": 10, \"gender_description\": \"Female\"}, {\"order\": 20, \"title\": \"Between the World and Me\", \"author\": \"Tanehisi Coates\", \"pages\": 152.0, \"url\": \"https://www.goodreads.com/book/show/25489625-between-the-world-and-me?from_search=true&from_srp=true&qid=xvQajzPDjC&rank=1\", \"gender\": \"M\", \"type\": \"Non-Fiction\", \"subgenre\": \"Current Events\", \"avg_goodreads_rating\": 4.52, \"started\": \"2020-06-15T00:00:00\", \"date\": \"2020-06-24T00:00:00\", \"faves\": \"Y\", \"year\": \"2020\", \"days_to_read\": 9, \"gender_description\": \"Male\"}, {\"order\": 21, \"title\": \"Where the Crawdads Sing\", \"author\": \"Delia Owens\", \"pages\": 384.0, \"url\": \"https://www.goodreads.com/book/show/36809135-where-the-crawdads-sing?ac=1&from_search=true&qid=TifR2MzIpW&rank=1\", \"gender\": \"F\", \"type\": \"Fiction\", \"subgenre\": \"Contemporary\", \"avg_goodreads_rating\": 4.47, \"started\": \"2020-06-22T00:00:00\", \"date\": \"2020-06-29T00:00:00\", \"faves\": null, \"year\": \"2020\", \"days_to_read\": 7, \"gender_description\": \"Female\"}, {\"order\": 22, \"title\": \"Boys and Sex\", \"author\": \"Peggy Ornstein\", \"pages\": 304.0, \"url\": \"https://www.goodreads.com/book/show/43452877-boys-sex?from_search=true&from_srp=true&qid=TwPIaowNSU&rank=1\", \"gender\": \"F\", \"type\": \"Non-Fiction\", \"subgenre\": \"Current Events\", \"avg_goodreads_rating\": 4.24, \"started\": \"2020-04-12T00:00:00\", \"date\": \"2020-07-03T00:00:00\", \"faves\": null, \"year\": \"2020\", \"days_to_read\": 82, \"gender_description\": \"Female\"}, {\"order\": 23, \"title\": \"Someone Who Will Love You In All Your Damaged Glory\", \"author\": \"Rafael Bob Waksberg\", \"pages\": 256.0, \"url\": \"https://www.goodreads.com/book/show/41949311-someone-who-will-love-you-in-all-your-damaged-glory?ac=1&from_search=true&qid=Kr9sKqWCXh&rank=1\", \"gender\": \"M\", \"type\": \"Fiction\", \"subgenre\": \"Short Stories\", \"avg_goodreads_rating\": 4.16, \"started\": \"2020-07-08T00:00:00\", \"date\": \"2020-07-10T00:00:00\", \"faves\": \"Y\", \"year\": \"2020\", \"days_to_read\": 2, \"gender_description\": \"Male\"}, {\"order\": 24, \"title\": \"The Masters Tools Will Never DIsmantle The Master's House\", \"author\": \"Audre Lorde\", \"pages\": 64.0, \"url\": \"https://www.goodreads.com/en/book/show/38598541-the-master-s-tools-will-never-dismantle-the-master-s-house\", \"gender\": \"F\", \"type\": \"Non-Fiction\", \"subgenre\": \"Essays\", \"avg_goodreads_rating\": 4.46, \"started\": \"2020-07-15T00:00:00\", \"date\": \"2020-07-17T00:00:00\", \"faves\": \"Y\", \"year\": \"2020\", \"days_to_read\": 2, \"gender_description\": \"Female\"}, {\"order\": 25, \"title\": \"Attached\", \"author\": \"Amir Levine, Rachel SF Heller\", \"pages\": 304.0, \"url\": \"https://www.goodreads.com/book/show/9547888-attached?from_search=true&from_srp=true&qid=kdP4IdRQnC&rank=1\", \"gender\": \"F\", \"type\": \"Non-Fiction\", \"subgenre\": \"Psychology\", \"avg_goodreads_rating\": 4.14, \"started\": \"2020-07-31T00:00:00\", \"date\": \"2020-08-03T00:00:00\", \"faves\": null, \"year\": \"2020\", \"days_to_read\": 3, \"gender_description\": \"Female\"}, {\"order\": 26, \"title\": \"Listen to the Marriage\", \"author\": \"John Jay Osborn\", \"pages\": 256.0, \"url\": \"https://www.goodreads.com/book/show/37941728-listen-to-the-marriage?ac=1&from_search=true&qid=iy2rwd6WTj&rank=1\", \"gender\": \"M\", \"type\": \"Fiction\", \"subgenre\": \"Contemporary\", \"avg_goodreads_rating\": 3.51, \"started\": \"2020-08-06T00:00:00\", \"date\": \"2020-08-15T00:00:00\", \"faves\": null, \"year\": \"2020\", \"days_to_read\": 9, \"gender_description\": \"Male\"}, {\"order\": 27, \"title\": \"Jung: A Very Short Introduction\", \"author\": \"Andrew Stevens\", \"pages\": 192.0, \"url\": \"https://www.goodreads.com/book/show/297554.Jung?from_search=true&from_srp=true&qid=Jim8gejEr2&rank=1\", \"gender\": \"M\", \"type\": \"Non-Fiction\", \"subgenre\": \"History\", \"avg_goodreads_rating\": 4.07, \"started\": \"2020-09-07T00:00:00\", \"date\": \"2020-09-16T00:00:00\", \"faves\": null, \"year\": \"2020\", \"days_to_read\": 9, \"gender_description\": \"Male\"}, {\"order\": 28, \"title\": \"The First Bad Man\", \"author\": \"Miranda July\", \"pages\": 288.0, \"url\": \"https://www.goodreads.com/book/show/21412400-the-first-bad-man?from_search=true&from_srp=true&qid=8h7sxqtWHM&rank=1\", \"gender\": \"F\", \"type\": \"Fiction\", \"subgenre\": \"Contemporary\", \"avg_goodreads_rating\": 3.62, \"started\": \"2020-09-16T00:00:00\", \"date\": \"2020-09-20T00:00:00\", \"faves\": \"Y\", \"year\": \"2020\", \"days_to_read\": 4, \"gender_description\": \"Female\"}, {\"order\": 29, \"title\": \"The Drama of the Gifted Child\", \"author\": \"Alice Miller\", \"pages\": 144.0, \"url\": \"https://www.goodreads.com/book/show/24204222-the-drama-of-the-gifted-child?utm_content=review_cta_book_image&utm_medium=email&utm_source=bookend&ref_=pe_7171740_474197500\", \"gender\": \"F\", \"type\": \"Non-Fiction\", \"subgenre\": \"Psychology\", \"avg_goodreads_rating\": 4.1, \"started\": \"2020-09-27T00:00:00\", \"date\": \"2020-10-01T00:00:00\", \"faves\": null, \"year\": \"2020\", \"days_to_read\": 4, \"gender_description\": \"Female\"}, {\"order\": 30, \"title\": \"Don't Call us Dead: Poems\", \"author\": \"Danez Smith\", \"pages\": 101.0, \"url\": \"https://www.goodreads.com/book/show/35422441-don-t-call-us-dead?from_search=true&from_srp=true&qid=8qdAhd4Vlp&rank=1\", \"gender\": \"M\", \"type\": \"Poetry\", \"subgenre\": \"LGBT\", \"avg_goodreads_rating\": 4.52, \"started\": \"2020-10-01T00:00:00\", \"date\": \"2020-10-06T00:00:00\", \"faves\": \"Y\", \"year\": \"2020\", \"days_to_read\": 5, \"gender_description\": \"Male\"}, {\"order\": 31, \"title\": \"Tender is the Night\", \"author\": \"F. Scott Fitzgerald\", \"pages\": 315.0, \"url\": \"https://www.goodreads.com/book/show/46164.Tender_Is_the_Night?from_search=true&from_srp=true&qid=B8eLWQQKSX&rank=1\", \"gender\": \"M\", \"type\": \"Fiction\", \"subgenre\": \"Classic\", \"avg_goodreads_rating\": 3.81, \"started\": \"2020-10-10T00:00:00\", \"date\": \"2020-11-07T00:00:00\", \"faves\": \"Y\", \"year\": \"2020\", \"days_to_read\": 28, \"gender_description\": \"Male\"}, {\"order\": 32, \"title\": \"Heather, The Totality\", \"author\": \"Matthew Weiner\", \"pages\": 144.0, \"url\": \"https://www.goodreads.com/book/show/31933063-heather-the-totality?ac=1&from_search=true&qid=MvG8rzSUME&rank=1\", \"gender\": \"M\", \"type\": \"Fiction\", \"subgenre\": \"Contemporary\", \"avg_goodreads_rating\": 2.93, \"started\": \"2020-11-07T00:00:00\", \"date\": \"2020-11-09T00:00:00\", \"faves\": null, \"year\": \"2020\", \"days_to_read\": 2, \"gender_description\": \"Male\"}, {\"order\": 33, \"title\": \"What We Talk About When We Talk About Love\", \"author\": \"Raymond Carver\", \"pages\": 159.0, \"url\": \"https://www.goodreads.com/book/show/11438.What_We_Talk_About_When_We_Talk_About_Love?from_search=true&from_srp=true&qid=5G4xkS3EQg&rank=1\", \"gender\": \"M\", \"type\": \"Fiction\", \"subgenre\": \"Short Stories\", \"avg_goodreads_rating\": 4.15, \"started\": \"2020-10-06T00:00:00\", \"date\": \"2020-10-31T00:00:00\", \"faves\": null, \"year\": \"2020\", \"days_to_read\": 25, \"gender_description\": \"Male\"}, {\"order\": 34, \"title\": \"Never Split the Difference\", \"author\": \"Chris Voss\", \"pages\": 274.0, \"url\": \"https://www.goodreads.com/book/show/26156469-never-split-the-difference?from_search=true&from_srp=true&qid=umiLanQLHO&rank=1\", \"gender\": \"M\", \"type\": \"Non-Fiction\", \"subgenre\": \"Business\", \"avg_goodreads_rating\": 4.4, \"started\": \"2020-11-11T00:00:00\", \"date\": \"2020-11-26T00:00:00\", \"faves\": null, \"year\": \"2020\", \"days_to_read\": 15, \"gender_description\": \"Male\"}, {\"order\": 35, \"title\": \"Rapture\", \"author\": \"Susan Minot\", \"pages\": null, \"url\": \"https://www.goodreads.com/book/show/40056.Rapture\", \"gender\": \"F\", \"type\": \"Fiction\", \"subgenre\": \"Romance\", \"avg_goodreads_rating\": 2.96, \"started\": \"2020-12-02T00:00:00\", \"date\": \"2020-12-03T00:00:00\", \"faves\": null, \"year\": \"2020\", \"days_to_read\": 1, \"gender_description\": \"Female\"}, {\"order\": 36, \"title\": \"The Middle Passage\", \"author\": \"James Hollis\", \"pages\": 127.0, \"url\": \"https://www.goodreads.com/book/show/47849.The_Middle_Passage?from_search=true&from_srp=true&qid=ot6aI40sSB&rank=1\", \"gender\": \"M\", \"type\": \"Non-Fiction\", \"subgenre\": \"Psychology\", \"avg_goodreads_rating\": 4.44, \"started\": \"2020-12-15T00:00:00\", \"date\": \"2020-12-18T00:00:00\", \"faves\": \"Y\", \"year\": \"2020\", \"days_to_read\": 3, \"gender_description\": \"Male\"}, {\"order\": 37, \"title\": \"Intimacy\", \"author\": \"Hanif Kureishi\", \"pages\": 155.0, \"url\": \"https://www.goodreads.com/book/show/153418.Intimacy\", \"gender\": \"M\", \"type\": \"Fiction\", \"subgenre\": \"Contemporary\", \"avg_goodreads_rating\": 3.6, \"started\": \"2020-12-21T00:00:00\", \"date\": \"2020-12-22T00:00:00\", \"faves\": null, \"year\": \"2020\", \"days_to_read\": 1, \"gender_description\": \"Male\"}, {\"order\": 38, \"title\": \"No One Asked for This: Essays\", \"author\": \"Cazzie David\", \"pages\": 352.0, \"url\": \"https://www.goodreads.com/book/show/48930274-no-one-asked-for-this?from_search=true&from_srp=true&qid=oVY5dHZfxR&rank=1\", \"gender\": \"F\", \"type\": \"Non-Fiction\", \"subgenre\": \"Essays\", \"avg_goodreads_rating\": 3.53, \"started\": \"2020-11-27T00:00:00\", \"date\": \"2020-12-25T00:00:00\", \"faves\": null, \"year\": \"2020\", \"days_to_read\": 28, \"gender_description\": \"Female\"}, {\"order\": 39, \"title\": \"Self-Help\", \"author\": \"Lorrie Moore\", \"pages\": 163.0, \"url\": \"https://www.goodreads.com/book/show/90872.Self_Help\", \"gender\": \"F\", \"type\": \"Fiction\", \"subgenre\": \"Short Stories\", \"avg_goodreads_rating\": 4.19, \"started\": \"2020-12-26T00:00:00\", \"date\": \"2020-12-27T00:00:00\", \"faves\": \"Y\", \"year\": \"2020\", \"days_to_read\": 1, \"gender_description\": \"Female\"}]}}, {\"mode\": \"vega-lite\"});\n",
       "</script>"
      ],
      "text/plain": [
       "alt.Chart(...)"
      ]
     },
     "execution_count": 21,
     "metadata": {},
     "output_type": "execute_result"
    }
   ],
   "source": [
    "#DESKTOP\n",
    "alt.Chart(books).mark_tick(thickness=4,size=20).encode(\n",
    "    x=alt.X('date',axis=alt.Axis(tickCount=12, format='%b', tickColor='#ffffff'), title=''),\n",
    "    y=alt.Y('gender_description',axis=alt.Axis(tickCount=0, tickColor='#ffffff'), title=' '),\n",
    "    color=alt.Color('gender_description', legend=None)\n",
    ").configure_axis(\n",
    "    grid=False).properties(height=100, width=700)"
   ]
  },
  {
   "cell_type": "code",
   "execution_count": 22,
   "metadata": {
    "scrolled": true
   },
   "outputs": [
    {
     "data": {
      "text/html": [
       "\n",
       "<div id=\"altair-viz-80c2c10da3ea4c28b9116f9bafa4ae95\"></div>\n",
       "<script type=\"text/javascript\">\n",
       "  (function(spec, embedOpt){\n",
       "    let outputDiv = document.currentScript.previousElementSibling;\n",
       "    if (outputDiv.id !== \"altair-viz-80c2c10da3ea4c28b9116f9bafa4ae95\") {\n",
       "      outputDiv = document.getElementById(\"altair-viz-80c2c10da3ea4c28b9116f9bafa4ae95\");\n",
       "    }\n",
       "    const paths = {\n",
       "      \"vega\": \"https://cdn.jsdelivr.net/npm//vega@5?noext\",\n",
       "      \"vega-lib\": \"https://cdn.jsdelivr.net/npm//vega-lib?noext\",\n",
       "      \"vega-lite\": \"https://cdn.jsdelivr.net/npm//vega-lite@4.8.1?noext\",\n",
       "      \"vega-embed\": \"https://cdn.jsdelivr.net/npm//vega-embed@6?noext\",\n",
       "    };\n",
       "\n",
       "    function loadScript(lib) {\n",
       "      return new Promise(function(resolve, reject) {\n",
       "        var s = document.createElement('script');\n",
       "        s.src = paths[lib];\n",
       "        s.async = true;\n",
       "        s.onload = () => resolve(paths[lib]);\n",
       "        s.onerror = () => reject(`Error loading script: ${paths[lib]}`);\n",
       "        document.getElementsByTagName(\"head\")[0].appendChild(s);\n",
       "      });\n",
       "    }\n",
       "\n",
       "    function showError(err) {\n",
       "      outputDiv.innerHTML = `<div class=\"error\" style=\"color:red;\">${err}</div>`;\n",
       "      throw err;\n",
       "    }\n",
       "\n",
       "    function displayChart(vegaEmbed) {\n",
       "      vegaEmbed(outputDiv, spec, embedOpt)\n",
       "        .catch(err => showError(`Javascript Error: ${err.message}<br>This usually means there's a typo in your chart specification. See the javascript console for the full traceback.`));\n",
       "    }\n",
       "\n",
       "    if(typeof define === \"function\" && define.amd) {\n",
       "      requirejs.config({paths});\n",
       "      require([\"vega-embed\"], displayChart, err => showError(`Error loading script: ${err.message}`));\n",
       "    } else if (typeof vegaEmbed === \"function\") {\n",
       "      displayChart(vegaEmbed);\n",
       "    } else {\n",
       "      loadScript(\"vega\")\n",
       "        .then(() => loadScript(\"vega-lite\"))\n",
       "        .then(() => loadScript(\"vega-embed\"))\n",
       "        .catch(showError)\n",
       "        .then(() => displayChart(vegaEmbed));\n",
       "    }\n",
       "  })({\"usermeta\": {\"embedOptions\": {\"theme\": \"vox\"}}, \"config\": {\"view\": {\"continuousWidth\": 400, \"continuousHeight\": 300}, \"axis\": {\"grid\": false}}, \"data\": {\"name\": \"data-8e391cabd5bc49dcb5a9fe358321c344\"}, \"mark\": {\"type\": \"tick\", \"size\": 20, \"thickness\": 2}, \"encoding\": {\"color\": {\"type\": \"nominal\", \"field\": \"gender_description\", \"legend\": null}, \"x\": {\"type\": \"temporal\", \"axis\": {\"format\": \"%b\", \"tickColor\": \"#ffffff\", \"tickCount\": 12}, \"field\": \"date\", \"title\": \"\"}, \"y\": {\"type\": \"nominal\", \"axis\": {\"tickColor\": \"#ffffff\", \"tickCount\": 0}, \"field\": \"gender_description\", \"title\": \" \"}}, \"height\": 100, \"width\": 320, \"$schema\": \"https://vega.github.io/schema/vega-lite/v4.8.1.json\", \"datasets\": {\"data-8e391cabd5bc49dcb5a9fe358321c344\": [{\"order\": 1, \"title\": \"How to Do Nothing\", \"author\": \"Jenny Odell\", \"pages\": 240.0, \"url\": \"https://www.goodreads.com/author/show/18614151.Jenny_Odell\", \"gender\": \"F\", \"type\": \"Non-Fiction\", \"subgenre\": \"Self Help\", \"avg_goodreads_rating\": 3.97, \"started\": \"2019-12-25T00:00:00\", \"date\": \"2020-01-06T00:00:00\", \"faves\": null, \"year\": \"2020\", \"days_to_read\": 12, \"gender_description\": \"Female\"}, {\"order\": 2, \"title\": \"Becoming Wise\", \"author\": \"Krista Tippett\", \"pages\": 288.0, \"url\": \"https://www.goodreads.com/book/show/25894085-becoming-wise\", \"gender\": \"F\", \"type\": \"Non-Fiction\", \"subgenre\": \"Spirituality\", \"avg_goodreads_rating\": 4.15, \"started\": \"2020-01-01T00:00:00\", \"date\": \"2020-01-12T00:00:00\", \"faves\": \"Y\", \"year\": \"2020\", \"days_to_read\": 11, \"gender_description\": \"Female\"}, {\"order\": 3, \"title\": \"Rework \", \"author\": \"Jason Fried, David Hansson\", \"pages\": 279.0, \"url\": \"https://www.goodreads.com/book/show/6732019-rework?from_search=true&qid=TeHru4l6OG&rank=1\", \"gender\": \"M\", \"type\": \"Non-Fiction\", \"subgenre\": \"Business\", \"avg_goodreads_rating\": 3.94, \"started\": \"2020-01-12T00:00:00\", \"date\": \"2020-01-17T00:00:00\", \"faves\": null, \"year\": \"2020\", \"days_to_read\": 5, \"gender_description\": \"Male\"}, {\"order\": 4, \"title\": \"Minor Feelings\", \"author\": \"Cathy Park Hong\", \"pages\": 224.0, \"url\": \"https://www.goodreads.com/book/show/47544177-minor-feelings?from_search=true&qid=YwgnVM0MaX&rank=1\", \"gender\": \"F\", \"type\": \"Non-Fiction\", \"subgenre\": \"Essays\", \"avg_goodreads_rating\": 4.53, \"started\": \"2020-01-14T00:00:00\", \"date\": \"2020-01-26T00:00:00\", \"faves\": null, \"year\": \"2020\", \"days_to_read\": 12, \"gender_description\": \"Female\"}, {\"order\": 5, \"title\": \"The Idiot\", \"author\": \"Elif Batuman\", \"pages\": 423.0, \"url\": \"https://www.goodreads.com/book/show/30962053-the-idiot\", \"gender\": \"F\", \"type\": \"Fiction\", \"subgenre\": \"historical\", \"avg_goodreads_rating\": 3.63, \"started\": \"2020-01-25T00:00:00\", \"date\": \"2020-02-02T00:00:00\", \"faves\": null, \"year\": \"2020\", \"days_to_read\": 8, \"gender_description\": \"Female\"}, {\"order\": 6, \"title\": \"If I Had Your Face\", \"author\": \"Frances Cha\", \"pages\": 288.0, \"url\": \"https://www.goodreads.com/book/show/47548925-if-i-had-your-face?from_search=true&qid=c3Iw9aiNTi&rank=1\", \"gender\": \"F\", \"type\": \"Fiction\", \"subgenre\": \"Contemporary\", \"avg_goodreads_rating\": 3.97, \"started\": \"2020-02-02T00:00:00\", \"date\": \"2020-02-06T00:00:00\", \"faves\": null, \"year\": \"2020\", \"days_to_read\": 4, \"gender_description\": \"Female\"}, {\"order\": 7, \"title\": \"Topics of Conversation\", \"author\": \"Miranda Popkey\", \"pages\": 224.0, \"url\": \"https://www.goodreads.com/book/show/45754997-topics-of-conversation?from_search=true&qid=F1d5R6meaf&rank=1\", \"gender\": \"F\", \"type\": \"Fiction\", \"subgenre\": \"Contemporary\", \"avg_goodreads_rating\": 2.83, \"started\": \"2020-02-06T00:00:00\", \"date\": \"2020-02-12T00:00:00\", \"faves\": null, \"year\": \"2020\", \"days_to_read\": 6, \"gender_description\": \"Female\"}, {\"order\": 8, \"title\": \"Bluets\", \"author\": \"Maggie Nelson\", \"pages\": 98.0, \"url\": \"https://www.goodreads.com/book/show/6798263-bluets\", \"gender\": \"F\", \"type\": \"Non-Fiction\", \"subgenre\": \"Poetry\", \"avg_goodreads_rating\": 4.26, \"started\": \"2020-02-12T00:00:00\", \"date\": \"2020-02-16T00:00:00\", \"faves\": null, \"year\": \"2020\", \"days_to_read\": 4, \"gender_description\": \"Female\"}, {\"order\": 9, \"title\": \"I Believe in a Thing Called Love\", \"author\": \"Maurene Goo\", \"pages\": 336.0, \"url\": \"https://www.goodreads.com/book/show/31145133-i-believe-in-a-thing-called-love\", \"gender\": \"F\", \"type\": \"Fiction\", \"subgenre\": \"Young Adult\", \"avg_goodreads_rating\": 3.66, \"started\": \"2020-02-23T00:00:00\", \"date\": \"2020-03-11T00:00:00\", \"faves\": null, \"year\": \"2020\", \"days_to_read\": 17, \"gender_description\": \"Female\"}, {\"order\": 10, \"title\": \"Untamed\", \"author\": \"Glennon Doyle\", \"pages\": 352.0, \"url\": \"https://www.goodreads.com/book/show/52129515-untamed\", \"gender\": \"F\", \"type\": \"Non-Fiction\", \"subgenre\": \"Memoir\", \"avg_goodreads_rating\": 4.46, \"started\": \"2020-03-07T00:00:00\", \"date\": \"2020-03-12T00:00:00\", \"faves\": null, \"year\": \"2020\", \"days_to_read\": 5, \"gender_description\": \"Female\"}, {\"order\": 11, \"title\": \"Red, White and Royal Blue\", \"author\": \"Casey McQuiston\", \"pages\": 421.0, \"url\": \"https://www.goodreads.com/book/show/41150487-red-white-royal-blue\", \"gender\": \"F\", \"type\": \"Fiction\", \"subgenre\": \"Romance\", \"avg_goodreads_rating\": 4.31, \"started\": \"2020-03-12T00:00:00\", \"date\": \"2020-03-20T00:00:00\", \"faves\": null, \"year\": \"2020\", \"days_to_read\": 8, \"gender_description\": \"Female\"}, {\"order\": 12, \"title\": \"Bird by Bird: Some Instructions on Writing and Life\", \"author\": \"Anne Lamott\", \"pages\": 237.0, \"url\": \"https://www.goodreads.com/book/show/12543.Bird_by_Bird\", \"gender\": \"F\", \"type\": \"Non-Fiction\", \"subgenre\": \"Writing\", \"avg_goodreads_rating\": 4.23, \"started\": \"2020-03-21T00:00:00\", \"date\": \"2020-03-31T00:00:00\", \"faves\": \"Y\", \"year\": \"2020\", \"days_to_read\": 10, \"gender_description\": \"Female\"}, {\"order\": 13, \"title\": \"Cleanness\", \"author\": \"Garth Greenwell\", \"pages\": 240.0, \"url\": \"https://www.goodreads.com/book/show/45892271-cleanness?ac=1&from_search=true&qid=ornMVFsX93&rank=2\", \"gender\": \"M\", \"type\": \"Fiction\", \"subgenre\": \"Contemporary\", \"avg_goodreads_rating\": 4.05, \"started\": \"2020-03-31T00:00:00\", \"date\": \"2020-04-06T00:00:00\", \"faves\": null, \"year\": \"2020\", \"days_to_read\": 6, \"gender_description\": \"Male\"}, {\"order\": 14, \"title\": \"The Bridges of Madison County\", \"author\": \"Robert James Waller\", \"pages\": 221.0, \"url\": \"https://www.goodreads.com/book/show/83674.The_Bridges_of_Madison_County\", \"gender\": \"M\", \"type\": \"Fiction\", \"subgenre\": \"Contemporary\", \"avg_goodreads_rating\": 3.61, \"started\": \"2020-04-08T00:00:00\", \"date\": \"2020-04-11T00:00:00\", \"faves\": null, \"year\": \"2020\", \"days_to_read\": 3, \"gender_description\": \"Male\"}, {\"order\": 15, \"title\": \"Super Attractor\", \"author\": \"Gabrielle Bernstein\", \"pages\": 248.0, \"url\": \"https://www.goodreads.com/book/show/43496426-super-attractor?from_search=true&from_srp=true&qid=sRtfi9Txub&rank=1\", \"gender\": \"F\", \"type\": \"Non-Fiction\", \"subgenre\": \"Self Help\", \"avg_goodreads_rating\": 4.18, \"started\": \"2020-04-11T00:00:00\", \"date\": \"2020-04-22T00:00:00\", \"faves\": null, \"year\": \"2020\", \"days_to_read\": 11, \"gender_description\": \"Female\"}, {\"order\": 16, \"title\": \"Felix Ever After\", \"author\": \"Kacen Callender\", \"pages\": 354.0, \"url\": \"https://www.goodreads.com/book/show/51931067-felix-ever-after?from_search=true&from_srp=true&qid=ssQYTzSgHg&rank=1\", \"gender\": \"M\", \"type\": \"Fiction\", \"subgenre\": \"Young Adult\", \"avg_goodreads_rating\": 4.46, \"started\": \"2020-05-12T00:00:00\", \"date\": \"2020-05-14T00:00:00\", \"faves\": null, \"year\": \"2020\", \"days_to_read\": 2, \"gender_description\": \"Male\"}, {\"order\": 17, \"title\": \"Days of Distraction\", \"author\": \"Alexandra Chang\", \"pages\": 312.0, \"url\": \"https://www.goodreads.com/book/show/52973514-days-of-distraction?from_search=true&from_srp=true&qid=zLGt916iHW&rank=1\", \"gender\": \"F\", \"type\": \"Fiction\", \"subgenre\": \"Contemporary\", \"avg_goodreads_rating\": 3.66, \"started\": \"2020-04-12T00:00:00\", \"date\": \"2020-05-17T00:00:00\", \"faves\": null, \"year\": \"2020\", \"days_to_read\": 35, \"gender_description\": \"Female\"}, {\"order\": 18, \"title\": \"wow, no thank you.\", \"author\": \"Samantha Irby\", \"pages\": 288.0, \"url\": \"https://www.goodreads.com/book/show/52844646-wow-no-thank-you\", \"gender\": \"F\", \"type\": \"Non-Fiction\", \"subgenre\": \"Essays\", \"avg_goodreads_rating\": 4.13, \"started\": \"2020-04-05T00:00:00\", \"date\": \"2020-06-15T00:00:00\", \"faves\": \"Y\", \"year\": \"2020\", \"days_to_read\": 71, \"gender_description\": \"Female\"}, {\"order\": 19, \"title\": \"How Much of These Hills Is Gold\", \"author\": \"C. Pam Zhang\", \"pages\": 288.0, \"url\": \"https://www.goodreads.com/book/show/45895362-how-much-of-these-hills-is-gold?from_search=true&from_srp=true&qid=rMvIru31RB&rank=1\", \"gender\": \"F\", \"type\": \"Fiction\", \"subgenre\": \"historical\", \"avg_goodreads_rating\": 3.86, \"started\": \"2020-05-22T00:00:00\", \"date\": \"2020-06-01T00:00:00\", \"faves\": null, \"year\": \"2020\", \"days_to_read\": 10, \"gender_description\": \"Female\"}, {\"order\": 20, \"title\": \"Between the World and Me\", \"author\": \"Tanehisi Coates\", \"pages\": 152.0, \"url\": \"https://www.goodreads.com/book/show/25489625-between-the-world-and-me?from_search=true&from_srp=true&qid=xvQajzPDjC&rank=1\", \"gender\": \"M\", \"type\": \"Non-Fiction\", \"subgenre\": \"Current Events\", \"avg_goodreads_rating\": 4.52, \"started\": \"2020-06-15T00:00:00\", \"date\": \"2020-06-24T00:00:00\", \"faves\": \"Y\", \"year\": \"2020\", \"days_to_read\": 9, \"gender_description\": \"Male\"}, {\"order\": 21, \"title\": \"Where the Crawdads Sing\", \"author\": \"Delia Owens\", \"pages\": 384.0, \"url\": \"https://www.goodreads.com/book/show/36809135-where-the-crawdads-sing?ac=1&from_search=true&qid=TifR2MzIpW&rank=1\", \"gender\": \"F\", \"type\": \"Fiction\", \"subgenre\": \"Contemporary\", \"avg_goodreads_rating\": 4.47, \"started\": \"2020-06-22T00:00:00\", \"date\": \"2020-06-29T00:00:00\", \"faves\": null, \"year\": \"2020\", \"days_to_read\": 7, \"gender_description\": \"Female\"}, {\"order\": 22, \"title\": \"Boys and Sex\", \"author\": \"Peggy Ornstein\", \"pages\": 304.0, \"url\": \"https://www.goodreads.com/book/show/43452877-boys-sex?from_search=true&from_srp=true&qid=TwPIaowNSU&rank=1\", \"gender\": \"F\", \"type\": \"Non-Fiction\", \"subgenre\": \"Current Events\", \"avg_goodreads_rating\": 4.24, \"started\": \"2020-04-12T00:00:00\", \"date\": \"2020-07-03T00:00:00\", \"faves\": null, \"year\": \"2020\", \"days_to_read\": 82, \"gender_description\": \"Female\"}, {\"order\": 23, \"title\": \"Someone Who Will Love You In All Your Damaged Glory\", \"author\": \"Rafael Bob Waksberg\", \"pages\": 256.0, \"url\": \"https://www.goodreads.com/book/show/41949311-someone-who-will-love-you-in-all-your-damaged-glory?ac=1&from_search=true&qid=Kr9sKqWCXh&rank=1\", \"gender\": \"M\", \"type\": \"Fiction\", \"subgenre\": \"Short Stories\", \"avg_goodreads_rating\": 4.16, \"started\": \"2020-07-08T00:00:00\", \"date\": \"2020-07-10T00:00:00\", \"faves\": \"Y\", \"year\": \"2020\", \"days_to_read\": 2, \"gender_description\": \"Male\"}, {\"order\": 24, \"title\": \"The Masters Tools Will Never DIsmantle The Master's House\", \"author\": \"Audre Lorde\", \"pages\": 64.0, \"url\": \"https://www.goodreads.com/en/book/show/38598541-the-master-s-tools-will-never-dismantle-the-master-s-house\", \"gender\": \"F\", \"type\": \"Non-Fiction\", \"subgenre\": \"Essays\", \"avg_goodreads_rating\": 4.46, \"started\": \"2020-07-15T00:00:00\", \"date\": \"2020-07-17T00:00:00\", \"faves\": \"Y\", \"year\": \"2020\", \"days_to_read\": 2, \"gender_description\": \"Female\"}, {\"order\": 25, \"title\": \"Attached\", \"author\": \"Amir Levine, Rachel SF Heller\", \"pages\": 304.0, \"url\": \"https://www.goodreads.com/book/show/9547888-attached?from_search=true&from_srp=true&qid=kdP4IdRQnC&rank=1\", \"gender\": \"F\", \"type\": \"Non-Fiction\", \"subgenre\": \"Psychology\", \"avg_goodreads_rating\": 4.14, \"started\": \"2020-07-31T00:00:00\", \"date\": \"2020-08-03T00:00:00\", \"faves\": null, \"year\": \"2020\", \"days_to_read\": 3, \"gender_description\": \"Female\"}, {\"order\": 26, \"title\": \"Listen to the Marriage\", \"author\": \"John Jay Osborn\", \"pages\": 256.0, \"url\": \"https://www.goodreads.com/book/show/37941728-listen-to-the-marriage?ac=1&from_search=true&qid=iy2rwd6WTj&rank=1\", \"gender\": \"M\", \"type\": \"Fiction\", \"subgenre\": \"Contemporary\", \"avg_goodreads_rating\": 3.51, \"started\": \"2020-08-06T00:00:00\", \"date\": \"2020-08-15T00:00:00\", \"faves\": null, \"year\": \"2020\", \"days_to_read\": 9, \"gender_description\": \"Male\"}, {\"order\": 27, \"title\": \"Jung: A Very Short Introduction\", \"author\": \"Andrew Stevens\", \"pages\": 192.0, \"url\": \"https://www.goodreads.com/book/show/297554.Jung?from_search=true&from_srp=true&qid=Jim8gejEr2&rank=1\", \"gender\": \"M\", \"type\": \"Non-Fiction\", \"subgenre\": \"History\", \"avg_goodreads_rating\": 4.07, \"started\": \"2020-09-07T00:00:00\", \"date\": \"2020-09-16T00:00:00\", \"faves\": null, \"year\": \"2020\", \"days_to_read\": 9, \"gender_description\": \"Male\"}, {\"order\": 28, \"title\": \"The First Bad Man\", \"author\": \"Miranda July\", \"pages\": 288.0, \"url\": \"https://www.goodreads.com/book/show/21412400-the-first-bad-man?from_search=true&from_srp=true&qid=8h7sxqtWHM&rank=1\", \"gender\": \"F\", \"type\": \"Fiction\", \"subgenre\": \"Contemporary\", \"avg_goodreads_rating\": 3.62, \"started\": \"2020-09-16T00:00:00\", \"date\": \"2020-09-20T00:00:00\", \"faves\": \"Y\", \"year\": \"2020\", \"days_to_read\": 4, \"gender_description\": \"Female\"}, {\"order\": 29, \"title\": \"The Drama of the Gifted Child\", \"author\": \"Alice Miller\", \"pages\": 144.0, \"url\": \"https://www.goodreads.com/book/show/24204222-the-drama-of-the-gifted-child?utm_content=review_cta_book_image&utm_medium=email&utm_source=bookend&ref_=pe_7171740_474197500\", \"gender\": \"F\", \"type\": \"Non-Fiction\", \"subgenre\": \"Psychology\", \"avg_goodreads_rating\": 4.1, \"started\": \"2020-09-27T00:00:00\", \"date\": \"2020-10-01T00:00:00\", \"faves\": null, \"year\": \"2020\", \"days_to_read\": 4, \"gender_description\": \"Female\"}, {\"order\": 30, \"title\": \"Don't Call us Dead: Poems\", \"author\": \"Danez Smith\", \"pages\": 101.0, \"url\": \"https://www.goodreads.com/book/show/35422441-don-t-call-us-dead?from_search=true&from_srp=true&qid=8qdAhd4Vlp&rank=1\", \"gender\": \"M\", \"type\": \"Poetry\", \"subgenre\": \"LGBT\", \"avg_goodreads_rating\": 4.52, \"started\": \"2020-10-01T00:00:00\", \"date\": \"2020-10-06T00:00:00\", \"faves\": \"Y\", \"year\": \"2020\", \"days_to_read\": 5, \"gender_description\": \"Male\"}, {\"order\": 31, \"title\": \"Tender is the Night\", \"author\": \"F. Scott Fitzgerald\", \"pages\": 315.0, \"url\": \"https://www.goodreads.com/book/show/46164.Tender_Is_the_Night?from_search=true&from_srp=true&qid=B8eLWQQKSX&rank=1\", \"gender\": \"M\", \"type\": \"Fiction\", \"subgenre\": \"Classic\", \"avg_goodreads_rating\": 3.81, \"started\": \"2020-10-10T00:00:00\", \"date\": \"2020-11-07T00:00:00\", \"faves\": \"Y\", \"year\": \"2020\", \"days_to_read\": 28, \"gender_description\": \"Male\"}, {\"order\": 32, \"title\": \"Heather, The Totality\", \"author\": \"Matthew Weiner\", \"pages\": 144.0, \"url\": \"https://www.goodreads.com/book/show/31933063-heather-the-totality?ac=1&from_search=true&qid=MvG8rzSUME&rank=1\", \"gender\": \"M\", \"type\": \"Fiction\", \"subgenre\": \"Contemporary\", \"avg_goodreads_rating\": 2.93, \"started\": \"2020-11-07T00:00:00\", \"date\": \"2020-11-09T00:00:00\", \"faves\": null, \"year\": \"2020\", \"days_to_read\": 2, \"gender_description\": \"Male\"}, {\"order\": 33, \"title\": \"What We Talk About When We Talk About Love\", \"author\": \"Raymond Carver\", \"pages\": 159.0, \"url\": \"https://www.goodreads.com/book/show/11438.What_We_Talk_About_When_We_Talk_About_Love?from_search=true&from_srp=true&qid=5G4xkS3EQg&rank=1\", \"gender\": \"M\", \"type\": \"Fiction\", \"subgenre\": \"Short Stories\", \"avg_goodreads_rating\": 4.15, \"started\": \"2020-10-06T00:00:00\", \"date\": \"2020-10-31T00:00:00\", \"faves\": null, \"year\": \"2020\", \"days_to_read\": 25, \"gender_description\": \"Male\"}, {\"order\": 34, \"title\": \"Never Split the Difference\", \"author\": \"Chris Voss\", \"pages\": 274.0, \"url\": \"https://www.goodreads.com/book/show/26156469-never-split-the-difference?from_search=true&from_srp=true&qid=umiLanQLHO&rank=1\", \"gender\": \"M\", \"type\": \"Non-Fiction\", \"subgenre\": \"Business\", \"avg_goodreads_rating\": 4.4, \"started\": \"2020-11-11T00:00:00\", \"date\": \"2020-11-26T00:00:00\", \"faves\": null, \"year\": \"2020\", \"days_to_read\": 15, \"gender_description\": \"Male\"}, {\"order\": 35, \"title\": \"Rapture\", \"author\": \"Susan Minot\", \"pages\": null, \"url\": \"https://www.goodreads.com/book/show/40056.Rapture\", \"gender\": \"F\", \"type\": \"Fiction\", \"subgenre\": \"Romance\", \"avg_goodreads_rating\": 2.96, \"started\": \"2020-12-02T00:00:00\", \"date\": \"2020-12-03T00:00:00\", \"faves\": null, \"year\": \"2020\", \"days_to_read\": 1, \"gender_description\": \"Female\"}, {\"order\": 36, \"title\": \"The Middle Passage\", \"author\": \"James Hollis\", \"pages\": 127.0, \"url\": \"https://www.goodreads.com/book/show/47849.The_Middle_Passage?from_search=true&from_srp=true&qid=ot6aI40sSB&rank=1\", \"gender\": \"M\", \"type\": \"Non-Fiction\", \"subgenre\": \"Psychology\", \"avg_goodreads_rating\": 4.44, \"started\": \"2020-12-15T00:00:00\", \"date\": \"2020-12-18T00:00:00\", \"faves\": \"Y\", \"year\": \"2020\", \"days_to_read\": 3, \"gender_description\": \"Male\"}, {\"order\": 37, \"title\": \"Intimacy\", \"author\": \"Hanif Kureishi\", \"pages\": 155.0, \"url\": \"https://www.goodreads.com/book/show/153418.Intimacy\", \"gender\": \"M\", \"type\": \"Fiction\", \"subgenre\": \"Contemporary\", \"avg_goodreads_rating\": 3.6, \"started\": \"2020-12-21T00:00:00\", \"date\": \"2020-12-22T00:00:00\", \"faves\": null, \"year\": \"2020\", \"days_to_read\": 1, \"gender_description\": \"Male\"}, {\"order\": 38, \"title\": \"No One Asked for This: Essays\", \"author\": \"Cazzie David\", \"pages\": 352.0, \"url\": \"https://www.goodreads.com/book/show/48930274-no-one-asked-for-this?from_search=true&from_srp=true&qid=oVY5dHZfxR&rank=1\", \"gender\": \"F\", \"type\": \"Non-Fiction\", \"subgenre\": \"Essays\", \"avg_goodreads_rating\": 3.53, \"started\": \"2020-11-27T00:00:00\", \"date\": \"2020-12-25T00:00:00\", \"faves\": null, \"year\": \"2020\", \"days_to_read\": 28, \"gender_description\": \"Female\"}, {\"order\": 39, \"title\": \"Self-Help\", \"author\": \"Lorrie Moore\", \"pages\": 163.0, \"url\": \"https://www.goodreads.com/book/show/90872.Self_Help\", \"gender\": \"F\", \"type\": \"Fiction\", \"subgenre\": \"Short Stories\", \"avg_goodreads_rating\": 4.19, \"started\": \"2020-12-26T00:00:00\", \"date\": \"2020-12-27T00:00:00\", \"faves\": \"Y\", \"year\": \"2020\", \"days_to_read\": 1, \"gender_description\": \"Female\"}]}}, {\"mode\": \"vega-lite\"});\n",
       "</script>"
      ],
      "text/plain": [
       "alt.Chart(...)"
      ]
     },
     "execution_count": 22,
     "metadata": {},
     "output_type": "execute_result"
    }
   ],
   "source": [
    "# MOBILE\n",
    "alt.Chart(books).mark_tick(thickness=2,size=20).encode(\n",
    "    x=alt.X('date',axis=alt.Axis(tickCount=12, format='%b', tickColor='#ffffff'), title=''),\n",
    "    y=alt.Y('gender_description',axis=alt.Axis(tickCount=0, tickColor='#ffffff'), title=' '),\n",
    "    color=alt.Color('gender_description', legend=None)\n",
    ").configure_axis(\n",
    "    grid=False).properties(height=100, width=320)"
   ]
  },
  {
   "cell_type": "markdown",
   "metadata": {},
   "source": [
    "### Books by type and month"
   ]
  },
  {
   "cell_type": "code",
   "execution_count": 23,
   "metadata": {},
   "outputs": [
    {
     "data": {
      "text/html": [
       "\n",
       "<div id=\"altair-viz-62baf6b295184aa18eae8699af72aa94\"></div>\n",
       "<script type=\"text/javascript\">\n",
       "  (function(spec, embedOpt){\n",
       "    let outputDiv = document.currentScript.previousElementSibling;\n",
       "    if (outputDiv.id !== \"altair-viz-62baf6b295184aa18eae8699af72aa94\") {\n",
       "      outputDiv = document.getElementById(\"altair-viz-62baf6b295184aa18eae8699af72aa94\");\n",
       "    }\n",
       "    const paths = {\n",
       "      \"vega\": \"https://cdn.jsdelivr.net/npm//vega@5?noext\",\n",
       "      \"vega-lib\": \"https://cdn.jsdelivr.net/npm//vega-lib?noext\",\n",
       "      \"vega-lite\": \"https://cdn.jsdelivr.net/npm//vega-lite@4.8.1?noext\",\n",
       "      \"vega-embed\": \"https://cdn.jsdelivr.net/npm//vega-embed@6?noext\",\n",
       "    };\n",
       "\n",
       "    function loadScript(lib) {\n",
       "      return new Promise(function(resolve, reject) {\n",
       "        var s = document.createElement('script');\n",
       "        s.src = paths[lib];\n",
       "        s.async = true;\n",
       "        s.onload = () => resolve(paths[lib]);\n",
       "        s.onerror = () => reject(`Error loading script: ${paths[lib]}`);\n",
       "        document.getElementsByTagName(\"head\")[0].appendChild(s);\n",
       "      });\n",
       "    }\n",
       "\n",
       "    function showError(err) {\n",
       "      outputDiv.innerHTML = `<div class=\"error\" style=\"color:red;\">${err}</div>`;\n",
       "      throw err;\n",
       "    }\n",
       "\n",
       "    function displayChart(vegaEmbed) {\n",
       "      vegaEmbed(outputDiv, spec, embedOpt)\n",
       "        .catch(err => showError(`Javascript Error: ${err.message}<br>This usually means there's a typo in your chart specification. See the javascript console for the full traceback.`));\n",
       "    }\n",
       "\n",
       "    if(typeof define === \"function\" && define.amd) {\n",
       "      requirejs.config({paths});\n",
       "      require([\"vega-embed\"], displayChart, err => showError(`Error loading script: ${err.message}`));\n",
       "    } else if (typeof vegaEmbed === \"function\") {\n",
       "      displayChart(vegaEmbed);\n",
       "    } else {\n",
       "      loadScript(\"vega\")\n",
       "        .then(() => loadScript(\"vega-lite\"))\n",
       "        .then(() => loadScript(\"vega-embed\"))\n",
       "        .catch(showError)\n",
       "        .then(() => displayChart(vegaEmbed));\n",
       "    }\n",
       "  })({\"usermeta\": {\"embedOptions\": {\"theme\": \"vox\"}}, \"config\": {\"view\": {\"continuousWidth\": 400, \"continuousHeight\": 300}, \"axis\": {\"grid\": false}}, \"data\": {\"name\": \"data-8e391cabd5bc49dcb5a9fe358321c344\"}, \"mark\": {\"type\": \"tick\", \"size\": 20, \"thickness\": 3}, \"encoding\": {\"color\": {\"type\": \"nominal\", \"field\": \"type\", \"legend\": null}, \"x\": {\"type\": \"temporal\", \"axis\": {\"format\": \"%B\", \"tickColor\": \"#ffffff\", \"tickCount\": 7}, \"field\": \"date\", \"title\": \"\"}, \"y\": {\"type\": \"nominal\", \"axis\": {\"tickColor\": \"#ffffff\", \"tickCount\": 0}, \"field\": \"type\", \"title\": \" \"}}, \"height\": 200, \"title\": \"Books, by type and date finished\", \"width\": 700, \"$schema\": \"https://vega.github.io/schema/vega-lite/v4.8.1.json\", \"datasets\": {\"data-8e391cabd5bc49dcb5a9fe358321c344\": [{\"order\": 1, \"title\": \"How to Do Nothing\", \"author\": \"Jenny Odell\", \"pages\": 240.0, \"url\": \"https://www.goodreads.com/author/show/18614151.Jenny_Odell\", \"gender\": \"F\", \"type\": \"Non-Fiction\", \"subgenre\": \"Self Help\", \"avg_goodreads_rating\": 3.97, \"started\": \"2019-12-25T00:00:00\", \"date\": \"2020-01-06T00:00:00\", \"faves\": null, \"year\": \"2020\", \"days_to_read\": 12, \"gender_description\": \"Female\"}, {\"order\": 2, \"title\": \"Becoming Wise\", \"author\": \"Krista Tippett\", \"pages\": 288.0, \"url\": \"https://www.goodreads.com/book/show/25894085-becoming-wise\", \"gender\": \"F\", \"type\": \"Non-Fiction\", \"subgenre\": \"Spirituality\", \"avg_goodreads_rating\": 4.15, \"started\": \"2020-01-01T00:00:00\", \"date\": \"2020-01-12T00:00:00\", \"faves\": \"Y\", \"year\": \"2020\", \"days_to_read\": 11, \"gender_description\": \"Female\"}, {\"order\": 3, \"title\": \"Rework \", \"author\": \"Jason Fried, David Hansson\", \"pages\": 279.0, \"url\": \"https://www.goodreads.com/book/show/6732019-rework?from_search=true&qid=TeHru4l6OG&rank=1\", \"gender\": \"M\", \"type\": \"Non-Fiction\", \"subgenre\": \"Business\", \"avg_goodreads_rating\": 3.94, \"started\": \"2020-01-12T00:00:00\", \"date\": \"2020-01-17T00:00:00\", \"faves\": null, \"year\": \"2020\", \"days_to_read\": 5, \"gender_description\": \"Male\"}, {\"order\": 4, \"title\": \"Minor Feelings\", \"author\": \"Cathy Park Hong\", \"pages\": 224.0, \"url\": \"https://www.goodreads.com/book/show/47544177-minor-feelings?from_search=true&qid=YwgnVM0MaX&rank=1\", \"gender\": \"F\", \"type\": \"Non-Fiction\", \"subgenre\": \"Essays\", \"avg_goodreads_rating\": 4.53, \"started\": \"2020-01-14T00:00:00\", \"date\": \"2020-01-26T00:00:00\", \"faves\": null, \"year\": \"2020\", \"days_to_read\": 12, \"gender_description\": \"Female\"}, {\"order\": 5, \"title\": \"The Idiot\", \"author\": \"Elif Batuman\", \"pages\": 423.0, \"url\": \"https://www.goodreads.com/book/show/30962053-the-idiot\", \"gender\": \"F\", \"type\": \"Fiction\", \"subgenre\": \"historical\", \"avg_goodreads_rating\": 3.63, \"started\": \"2020-01-25T00:00:00\", \"date\": \"2020-02-02T00:00:00\", \"faves\": null, \"year\": \"2020\", \"days_to_read\": 8, \"gender_description\": \"Female\"}, {\"order\": 6, \"title\": \"If I Had Your Face\", \"author\": \"Frances Cha\", \"pages\": 288.0, \"url\": \"https://www.goodreads.com/book/show/47548925-if-i-had-your-face?from_search=true&qid=c3Iw9aiNTi&rank=1\", \"gender\": \"F\", \"type\": \"Fiction\", \"subgenre\": \"Contemporary\", \"avg_goodreads_rating\": 3.97, \"started\": \"2020-02-02T00:00:00\", \"date\": \"2020-02-06T00:00:00\", \"faves\": null, \"year\": \"2020\", \"days_to_read\": 4, \"gender_description\": \"Female\"}, {\"order\": 7, \"title\": \"Topics of Conversation\", \"author\": \"Miranda Popkey\", \"pages\": 224.0, \"url\": \"https://www.goodreads.com/book/show/45754997-topics-of-conversation?from_search=true&qid=F1d5R6meaf&rank=1\", \"gender\": \"F\", \"type\": \"Fiction\", \"subgenre\": \"Contemporary\", \"avg_goodreads_rating\": 2.83, \"started\": \"2020-02-06T00:00:00\", \"date\": \"2020-02-12T00:00:00\", \"faves\": null, \"year\": \"2020\", \"days_to_read\": 6, \"gender_description\": \"Female\"}, {\"order\": 8, \"title\": \"Bluets\", \"author\": \"Maggie Nelson\", \"pages\": 98.0, \"url\": \"https://www.goodreads.com/book/show/6798263-bluets\", \"gender\": \"F\", \"type\": \"Non-Fiction\", \"subgenre\": \"Poetry\", \"avg_goodreads_rating\": 4.26, \"started\": \"2020-02-12T00:00:00\", \"date\": \"2020-02-16T00:00:00\", \"faves\": null, \"year\": \"2020\", \"days_to_read\": 4, \"gender_description\": \"Female\"}, {\"order\": 9, \"title\": \"I Believe in a Thing Called Love\", \"author\": \"Maurene Goo\", \"pages\": 336.0, \"url\": \"https://www.goodreads.com/book/show/31145133-i-believe-in-a-thing-called-love\", \"gender\": \"F\", \"type\": \"Fiction\", \"subgenre\": \"Young Adult\", \"avg_goodreads_rating\": 3.66, \"started\": \"2020-02-23T00:00:00\", \"date\": \"2020-03-11T00:00:00\", \"faves\": null, \"year\": \"2020\", \"days_to_read\": 17, \"gender_description\": \"Female\"}, {\"order\": 10, \"title\": \"Untamed\", \"author\": \"Glennon Doyle\", \"pages\": 352.0, \"url\": \"https://www.goodreads.com/book/show/52129515-untamed\", \"gender\": \"F\", \"type\": \"Non-Fiction\", \"subgenre\": \"Memoir\", \"avg_goodreads_rating\": 4.46, \"started\": \"2020-03-07T00:00:00\", \"date\": \"2020-03-12T00:00:00\", \"faves\": null, \"year\": \"2020\", \"days_to_read\": 5, \"gender_description\": \"Female\"}, {\"order\": 11, \"title\": \"Red, White and Royal Blue\", \"author\": \"Casey McQuiston\", \"pages\": 421.0, \"url\": \"https://www.goodreads.com/book/show/41150487-red-white-royal-blue\", \"gender\": \"F\", \"type\": \"Fiction\", \"subgenre\": \"Romance\", \"avg_goodreads_rating\": 4.31, \"started\": \"2020-03-12T00:00:00\", \"date\": \"2020-03-20T00:00:00\", \"faves\": null, \"year\": \"2020\", \"days_to_read\": 8, \"gender_description\": \"Female\"}, {\"order\": 12, \"title\": \"Bird by Bird: Some Instructions on Writing and Life\", \"author\": \"Anne Lamott\", \"pages\": 237.0, \"url\": \"https://www.goodreads.com/book/show/12543.Bird_by_Bird\", \"gender\": \"F\", \"type\": \"Non-Fiction\", \"subgenre\": \"Writing\", \"avg_goodreads_rating\": 4.23, \"started\": \"2020-03-21T00:00:00\", \"date\": \"2020-03-31T00:00:00\", \"faves\": \"Y\", \"year\": \"2020\", \"days_to_read\": 10, \"gender_description\": \"Female\"}, {\"order\": 13, \"title\": \"Cleanness\", \"author\": \"Garth Greenwell\", \"pages\": 240.0, \"url\": \"https://www.goodreads.com/book/show/45892271-cleanness?ac=1&from_search=true&qid=ornMVFsX93&rank=2\", \"gender\": \"M\", \"type\": \"Fiction\", \"subgenre\": \"Contemporary\", \"avg_goodreads_rating\": 4.05, \"started\": \"2020-03-31T00:00:00\", \"date\": \"2020-04-06T00:00:00\", \"faves\": null, \"year\": \"2020\", \"days_to_read\": 6, \"gender_description\": \"Male\"}, {\"order\": 14, \"title\": \"The Bridges of Madison County\", \"author\": \"Robert James Waller\", \"pages\": 221.0, \"url\": \"https://www.goodreads.com/book/show/83674.The_Bridges_of_Madison_County\", \"gender\": \"M\", \"type\": \"Fiction\", \"subgenre\": \"Contemporary\", \"avg_goodreads_rating\": 3.61, \"started\": \"2020-04-08T00:00:00\", \"date\": \"2020-04-11T00:00:00\", \"faves\": null, \"year\": \"2020\", \"days_to_read\": 3, \"gender_description\": \"Male\"}, {\"order\": 15, \"title\": \"Super Attractor\", \"author\": \"Gabrielle Bernstein\", \"pages\": 248.0, \"url\": \"https://www.goodreads.com/book/show/43496426-super-attractor?from_search=true&from_srp=true&qid=sRtfi9Txub&rank=1\", \"gender\": \"F\", \"type\": \"Non-Fiction\", \"subgenre\": \"Self Help\", \"avg_goodreads_rating\": 4.18, \"started\": \"2020-04-11T00:00:00\", \"date\": \"2020-04-22T00:00:00\", \"faves\": null, \"year\": \"2020\", \"days_to_read\": 11, \"gender_description\": \"Female\"}, {\"order\": 16, \"title\": \"Felix Ever After\", \"author\": \"Kacen Callender\", \"pages\": 354.0, \"url\": \"https://www.goodreads.com/book/show/51931067-felix-ever-after?from_search=true&from_srp=true&qid=ssQYTzSgHg&rank=1\", \"gender\": \"M\", \"type\": \"Fiction\", \"subgenre\": \"Young Adult\", \"avg_goodreads_rating\": 4.46, \"started\": \"2020-05-12T00:00:00\", \"date\": \"2020-05-14T00:00:00\", \"faves\": null, \"year\": \"2020\", \"days_to_read\": 2, \"gender_description\": \"Male\"}, {\"order\": 17, \"title\": \"Days of Distraction\", \"author\": \"Alexandra Chang\", \"pages\": 312.0, \"url\": \"https://www.goodreads.com/book/show/52973514-days-of-distraction?from_search=true&from_srp=true&qid=zLGt916iHW&rank=1\", \"gender\": \"F\", \"type\": \"Fiction\", \"subgenre\": \"Contemporary\", \"avg_goodreads_rating\": 3.66, \"started\": \"2020-04-12T00:00:00\", \"date\": \"2020-05-17T00:00:00\", \"faves\": null, \"year\": \"2020\", \"days_to_read\": 35, \"gender_description\": \"Female\"}, {\"order\": 18, \"title\": \"wow, no thank you.\", \"author\": \"Samantha Irby\", \"pages\": 288.0, \"url\": \"https://www.goodreads.com/book/show/52844646-wow-no-thank-you\", \"gender\": \"F\", \"type\": \"Non-Fiction\", \"subgenre\": \"Essays\", \"avg_goodreads_rating\": 4.13, \"started\": \"2020-04-05T00:00:00\", \"date\": \"2020-06-15T00:00:00\", \"faves\": \"Y\", \"year\": \"2020\", \"days_to_read\": 71, \"gender_description\": \"Female\"}, {\"order\": 19, \"title\": \"How Much of These Hills Is Gold\", \"author\": \"C. Pam Zhang\", \"pages\": 288.0, \"url\": \"https://www.goodreads.com/book/show/45895362-how-much-of-these-hills-is-gold?from_search=true&from_srp=true&qid=rMvIru31RB&rank=1\", \"gender\": \"F\", \"type\": \"Fiction\", \"subgenre\": \"historical\", \"avg_goodreads_rating\": 3.86, \"started\": \"2020-05-22T00:00:00\", \"date\": \"2020-06-01T00:00:00\", \"faves\": null, \"year\": \"2020\", \"days_to_read\": 10, \"gender_description\": \"Female\"}, {\"order\": 20, \"title\": \"Between the World and Me\", \"author\": \"Tanehisi Coates\", \"pages\": 152.0, \"url\": \"https://www.goodreads.com/book/show/25489625-between-the-world-and-me?from_search=true&from_srp=true&qid=xvQajzPDjC&rank=1\", \"gender\": \"M\", \"type\": \"Non-Fiction\", \"subgenre\": \"Current Events\", \"avg_goodreads_rating\": 4.52, \"started\": \"2020-06-15T00:00:00\", \"date\": \"2020-06-24T00:00:00\", \"faves\": \"Y\", \"year\": \"2020\", \"days_to_read\": 9, \"gender_description\": \"Male\"}, {\"order\": 21, \"title\": \"Where the Crawdads Sing\", \"author\": \"Delia Owens\", \"pages\": 384.0, \"url\": \"https://www.goodreads.com/book/show/36809135-where-the-crawdads-sing?ac=1&from_search=true&qid=TifR2MzIpW&rank=1\", \"gender\": \"F\", \"type\": \"Fiction\", \"subgenre\": \"Contemporary\", \"avg_goodreads_rating\": 4.47, \"started\": \"2020-06-22T00:00:00\", \"date\": \"2020-06-29T00:00:00\", \"faves\": null, \"year\": \"2020\", \"days_to_read\": 7, \"gender_description\": \"Female\"}, {\"order\": 22, \"title\": \"Boys and Sex\", \"author\": \"Peggy Ornstein\", \"pages\": 304.0, \"url\": \"https://www.goodreads.com/book/show/43452877-boys-sex?from_search=true&from_srp=true&qid=TwPIaowNSU&rank=1\", \"gender\": \"F\", \"type\": \"Non-Fiction\", \"subgenre\": \"Current Events\", \"avg_goodreads_rating\": 4.24, \"started\": \"2020-04-12T00:00:00\", \"date\": \"2020-07-03T00:00:00\", \"faves\": null, \"year\": \"2020\", \"days_to_read\": 82, \"gender_description\": \"Female\"}, {\"order\": 23, \"title\": \"Someone Who Will Love You In All Your Damaged Glory\", \"author\": \"Rafael Bob Waksberg\", \"pages\": 256.0, \"url\": \"https://www.goodreads.com/book/show/41949311-someone-who-will-love-you-in-all-your-damaged-glory?ac=1&from_search=true&qid=Kr9sKqWCXh&rank=1\", \"gender\": \"M\", \"type\": \"Fiction\", \"subgenre\": \"Short Stories\", \"avg_goodreads_rating\": 4.16, \"started\": \"2020-07-08T00:00:00\", \"date\": \"2020-07-10T00:00:00\", \"faves\": \"Y\", \"year\": \"2020\", \"days_to_read\": 2, \"gender_description\": \"Male\"}, {\"order\": 24, \"title\": \"The Masters Tools Will Never DIsmantle The Master's House\", \"author\": \"Audre Lorde\", \"pages\": 64.0, \"url\": \"https://www.goodreads.com/en/book/show/38598541-the-master-s-tools-will-never-dismantle-the-master-s-house\", \"gender\": \"F\", \"type\": \"Non-Fiction\", \"subgenre\": \"Essays\", \"avg_goodreads_rating\": 4.46, \"started\": \"2020-07-15T00:00:00\", \"date\": \"2020-07-17T00:00:00\", \"faves\": \"Y\", \"year\": \"2020\", \"days_to_read\": 2, \"gender_description\": \"Female\"}, {\"order\": 25, \"title\": \"Attached\", \"author\": \"Amir Levine, Rachel SF Heller\", \"pages\": 304.0, \"url\": \"https://www.goodreads.com/book/show/9547888-attached?from_search=true&from_srp=true&qid=kdP4IdRQnC&rank=1\", \"gender\": \"F\", \"type\": \"Non-Fiction\", \"subgenre\": \"Psychology\", \"avg_goodreads_rating\": 4.14, \"started\": \"2020-07-31T00:00:00\", \"date\": \"2020-08-03T00:00:00\", \"faves\": null, \"year\": \"2020\", \"days_to_read\": 3, \"gender_description\": \"Female\"}, {\"order\": 26, \"title\": \"Listen to the Marriage\", \"author\": \"John Jay Osborn\", \"pages\": 256.0, \"url\": \"https://www.goodreads.com/book/show/37941728-listen-to-the-marriage?ac=1&from_search=true&qid=iy2rwd6WTj&rank=1\", \"gender\": \"M\", \"type\": \"Fiction\", \"subgenre\": \"Contemporary\", \"avg_goodreads_rating\": 3.51, \"started\": \"2020-08-06T00:00:00\", \"date\": \"2020-08-15T00:00:00\", \"faves\": null, \"year\": \"2020\", \"days_to_read\": 9, \"gender_description\": \"Male\"}, {\"order\": 27, \"title\": \"Jung: A Very Short Introduction\", \"author\": \"Andrew Stevens\", \"pages\": 192.0, \"url\": \"https://www.goodreads.com/book/show/297554.Jung?from_search=true&from_srp=true&qid=Jim8gejEr2&rank=1\", \"gender\": \"M\", \"type\": \"Non-Fiction\", \"subgenre\": \"History\", \"avg_goodreads_rating\": 4.07, \"started\": \"2020-09-07T00:00:00\", \"date\": \"2020-09-16T00:00:00\", \"faves\": null, \"year\": \"2020\", \"days_to_read\": 9, \"gender_description\": \"Male\"}, {\"order\": 28, \"title\": \"The First Bad Man\", \"author\": \"Miranda July\", \"pages\": 288.0, \"url\": \"https://www.goodreads.com/book/show/21412400-the-first-bad-man?from_search=true&from_srp=true&qid=8h7sxqtWHM&rank=1\", \"gender\": \"F\", \"type\": \"Fiction\", \"subgenre\": \"Contemporary\", \"avg_goodreads_rating\": 3.62, \"started\": \"2020-09-16T00:00:00\", \"date\": \"2020-09-20T00:00:00\", \"faves\": \"Y\", \"year\": \"2020\", \"days_to_read\": 4, \"gender_description\": \"Female\"}, {\"order\": 29, \"title\": \"The Drama of the Gifted Child\", \"author\": \"Alice Miller\", \"pages\": 144.0, \"url\": \"https://www.goodreads.com/book/show/24204222-the-drama-of-the-gifted-child?utm_content=review_cta_book_image&utm_medium=email&utm_source=bookend&ref_=pe_7171740_474197500\", \"gender\": \"F\", \"type\": \"Non-Fiction\", \"subgenre\": \"Psychology\", \"avg_goodreads_rating\": 4.1, \"started\": \"2020-09-27T00:00:00\", \"date\": \"2020-10-01T00:00:00\", \"faves\": null, \"year\": \"2020\", \"days_to_read\": 4, \"gender_description\": \"Female\"}, {\"order\": 30, \"title\": \"Don't Call us Dead: Poems\", \"author\": \"Danez Smith\", \"pages\": 101.0, \"url\": \"https://www.goodreads.com/book/show/35422441-don-t-call-us-dead?from_search=true&from_srp=true&qid=8qdAhd4Vlp&rank=1\", \"gender\": \"M\", \"type\": \"Poetry\", \"subgenre\": \"LGBT\", \"avg_goodreads_rating\": 4.52, \"started\": \"2020-10-01T00:00:00\", \"date\": \"2020-10-06T00:00:00\", \"faves\": \"Y\", \"year\": \"2020\", \"days_to_read\": 5, \"gender_description\": \"Male\"}, {\"order\": 31, \"title\": \"Tender is the Night\", \"author\": \"F. Scott Fitzgerald\", \"pages\": 315.0, \"url\": \"https://www.goodreads.com/book/show/46164.Tender_Is_the_Night?from_search=true&from_srp=true&qid=B8eLWQQKSX&rank=1\", \"gender\": \"M\", \"type\": \"Fiction\", \"subgenre\": \"Classic\", \"avg_goodreads_rating\": 3.81, \"started\": \"2020-10-10T00:00:00\", \"date\": \"2020-11-07T00:00:00\", \"faves\": \"Y\", \"year\": \"2020\", \"days_to_read\": 28, \"gender_description\": \"Male\"}, {\"order\": 32, \"title\": \"Heather, The Totality\", \"author\": \"Matthew Weiner\", \"pages\": 144.0, \"url\": \"https://www.goodreads.com/book/show/31933063-heather-the-totality?ac=1&from_search=true&qid=MvG8rzSUME&rank=1\", \"gender\": \"M\", \"type\": \"Fiction\", \"subgenre\": \"Contemporary\", \"avg_goodreads_rating\": 2.93, \"started\": \"2020-11-07T00:00:00\", \"date\": \"2020-11-09T00:00:00\", \"faves\": null, \"year\": \"2020\", \"days_to_read\": 2, \"gender_description\": \"Male\"}, {\"order\": 33, \"title\": \"What We Talk About When We Talk About Love\", \"author\": \"Raymond Carver\", \"pages\": 159.0, \"url\": \"https://www.goodreads.com/book/show/11438.What_We_Talk_About_When_We_Talk_About_Love?from_search=true&from_srp=true&qid=5G4xkS3EQg&rank=1\", \"gender\": \"M\", \"type\": \"Fiction\", \"subgenre\": \"Short Stories\", \"avg_goodreads_rating\": 4.15, \"started\": \"2020-10-06T00:00:00\", \"date\": \"2020-10-31T00:00:00\", \"faves\": null, \"year\": \"2020\", \"days_to_read\": 25, \"gender_description\": \"Male\"}, {\"order\": 34, \"title\": \"Never Split the Difference\", \"author\": \"Chris Voss\", \"pages\": 274.0, \"url\": \"https://www.goodreads.com/book/show/26156469-never-split-the-difference?from_search=true&from_srp=true&qid=umiLanQLHO&rank=1\", \"gender\": \"M\", \"type\": \"Non-Fiction\", \"subgenre\": \"Business\", \"avg_goodreads_rating\": 4.4, \"started\": \"2020-11-11T00:00:00\", \"date\": \"2020-11-26T00:00:00\", \"faves\": null, \"year\": \"2020\", \"days_to_read\": 15, \"gender_description\": \"Male\"}, {\"order\": 35, \"title\": \"Rapture\", \"author\": \"Susan Minot\", \"pages\": null, \"url\": \"https://www.goodreads.com/book/show/40056.Rapture\", \"gender\": \"F\", \"type\": \"Fiction\", \"subgenre\": \"Romance\", \"avg_goodreads_rating\": 2.96, \"started\": \"2020-12-02T00:00:00\", \"date\": \"2020-12-03T00:00:00\", \"faves\": null, \"year\": \"2020\", \"days_to_read\": 1, \"gender_description\": \"Female\"}, {\"order\": 36, \"title\": \"The Middle Passage\", \"author\": \"James Hollis\", \"pages\": 127.0, \"url\": \"https://www.goodreads.com/book/show/47849.The_Middle_Passage?from_search=true&from_srp=true&qid=ot6aI40sSB&rank=1\", \"gender\": \"M\", \"type\": \"Non-Fiction\", \"subgenre\": \"Psychology\", \"avg_goodreads_rating\": 4.44, \"started\": \"2020-12-15T00:00:00\", \"date\": \"2020-12-18T00:00:00\", \"faves\": \"Y\", \"year\": \"2020\", \"days_to_read\": 3, \"gender_description\": \"Male\"}, {\"order\": 37, \"title\": \"Intimacy\", \"author\": \"Hanif Kureishi\", \"pages\": 155.0, \"url\": \"https://www.goodreads.com/book/show/153418.Intimacy\", \"gender\": \"M\", \"type\": \"Fiction\", \"subgenre\": \"Contemporary\", \"avg_goodreads_rating\": 3.6, \"started\": \"2020-12-21T00:00:00\", \"date\": \"2020-12-22T00:00:00\", \"faves\": null, \"year\": \"2020\", \"days_to_read\": 1, \"gender_description\": \"Male\"}, {\"order\": 38, \"title\": \"No One Asked for This: Essays\", \"author\": \"Cazzie David\", \"pages\": 352.0, \"url\": \"https://www.goodreads.com/book/show/48930274-no-one-asked-for-this?from_search=true&from_srp=true&qid=oVY5dHZfxR&rank=1\", \"gender\": \"F\", \"type\": \"Non-Fiction\", \"subgenre\": \"Essays\", \"avg_goodreads_rating\": 3.53, \"started\": \"2020-11-27T00:00:00\", \"date\": \"2020-12-25T00:00:00\", \"faves\": null, \"year\": \"2020\", \"days_to_read\": 28, \"gender_description\": \"Female\"}, {\"order\": 39, \"title\": \"Self-Help\", \"author\": \"Lorrie Moore\", \"pages\": 163.0, \"url\": \"https://www.goodreads.com/book/show/90872.Self_Help\", \"gender\": \"F\", \"type\": \"Fiction\", \"subgenre\": \"Short Stories\", \"avg_goodreads_rating\": 4.19, \"started\": \"2020-12-26T00:00:00\", \"date\": \"2020-12-27T00:00:00\", \"faves\": \"Y\", \"year\": \"2020\", \"days_to_read\": 1, \"gender_description\": \"Female\"}]}}, {\"mode\": \"vega-lite\"});\n",
       "</script>"
      ],
      "text/plain": [
       "alt.Chart(...)"
      ]
     },
     "execution_count": 23,
     "metadata": {},
     "output_type": "execute_result"
    }
   ],
   "source": [
    "# DESKTOP \n",
    "alt.Chart(books).mark_tick(thickness=3,size=20).encode(\n",
    "    x=alt.X('date',axis=alt.Axis(format='%B', tickColor='#ffffff', tickCount=7), title=''),\n",
    "    y=alt.Y('type',axis=alt.Axis(tickCount=0, tickColor='#ffffff'), title=' '),\n",
    "    color=alt.Color('type', legend=None)\n",
    ").configure_axis(\n",
    "    grid=False).properties(height=200, width=700, title='Books, by type and date finished')"
   ]
  },
  {
   "cell_type": "code",
   "execution_count": 24,
   "metadata": {},
   "outputs": [
    {
     "data": {
      "text/html": [
       "\n",
       "<div id=\"altair-viz-6280e5917cd94771a8e498c459d37393\"></div>\n",
       "<script type=\"text/javascript\">\n",
       "  (function(spec, embedOpt){\n",
       "    let outputDiv = document.currentScript.previousElementSibling;\n",
       "    if (outputDiv.id !== \"altair-viz-6280e5917cd94771a8e498c459d37393\") {\n",
       "      outputDiv = document.getElementById(\"altair-viz-6280e5917cd94771a8e498c459d37393\");\n",
       "    }\n",
       "    const paths = {\n",
       "      \"vega\": \"https://cdn.jsdelivr.net/npm//vega@5?noext\",\n",
       "      \"vega-lib\": \"https://cdn.jsdelivr.net/npm//vega-lib?noext\",\n",
       "      \"vega-lite\": \"https://cdn.jsdelivr.net/npm//vega-lite@4.8.1?noext\",\n",
       "      \"vega-embed\": \"https://cdn.jsdelivr.net/npm//vega-embed@6?noext\",\n",
       "    };\n",
       "\n",
       "    function loadScript(lib) {\n",
       "      return new Promise(function(resolve, reject) {\n",
       "        var s = document.createElement('script');\n",
       "        s.src = paths[lib];\n",
       "        s.async = true;\n",
       "        s.onload = () => resolve(paths[lib]);\n",
       "        s.onerror = () => reject(`Error loading script: ${paths[lib]}`);\n",
       "        document.getElementsByTagName(\"head\")[0].appendChild(s);\n",
       "      });\n",
       "    }\n",
       "\n",
       "    function showError(err) {\n",
       "      outputDiv.innerHTML = `<div class=\"error\" style=\"color:red;\">${err}</div>`;\n",
       "      throw err;\n",
       "    }\n",
       "\n",
       "    function displayChart(vegaEmbed) {\n",
       "      vegaEmbed(outputDiv, spec, embedOpt)\n",
       "        .catch(err => showError(`Javascript Error: ${err.message}<br>This usually means there's a typo in your chart specification. See the javascript console for the full traceback.`));\n",
       "    }\n",
       "\n",
       "    if(typeof define === \"function\" && define.amd) {\n",
       "      requirejs.config({paths});\n",
       "      require([\"vega-embed\"], displayChart, err => showError(`Error loading script: ${err.message}`));\n",
       "    } else if (typeof vegaEmbed === \"function\") {\n",
       "      displayChart(vegaEmbed);\n",
       "    } else {\n",
       "      loadScript(\"vega\")\n",
       "        .then(() => loadScript(\"vega-lite\"))\n",
       "        .then(() => loadScript(\"vega-embed\"))\n",
       "        .catch(showError)\n",
       "        .then(() => displayChart(vegaEmbed));\n",
       "    }\n",
       "  })({\"usermeta\": {\"embedOptions\": {\"theme\": \"vox\"}}, \"config\": {\"view\": {\"continuousWidth\": 400, \"continuousHeight\": 300}, \"axis\": {\"grid\": false}}, \"data\": {\"name\": \"data-8e391cabd5bc49dcb5a9fe358321c344\"}, \"mark\": {\"type\": \"tick\", \"size\": 20, \"thickness\": 2}, \"encoding\": {\"color\": {\"type\": \"nominal\", \"field\": \"type\", \"legend\": null}, \"x\": {\"type\": \"temporal\", \"axis\": {\"format\": \"%B\", \"tickColor\": \"#ffffff\", \"tickCount\": 4}, \"field\": \"date\", \"title\": \"\"}, \"y\": {\"type\": \"nominal\", \"axis\": {\"tickColor\": \"#ffffff\", \"tickCount\": 0}, \"field\": \"type\", \"title\": \" \"}}, \"height\": 200, \"title\": \"Books, by type and date finished\", \"width\": 320, \"$schema\": \"https://vega.github.io/schema/vega-lite/v4.8.1.json\", \"datasets\": {\"data-8e391cabd5bc49dcb5a9fe358321c344\": [{\"order\": 1, \"title\": \"How to Do Nothing\", \"author\": \"Jenny Odell\", \"pages\": 240.0, \"url\": \"https://www.goodreads.com/author/show/18614151.Jenny_Odell\", \"gender\": \"F\", \"type\": \"Non-Fiction\", \"subgenre\": \"Self Help\", \"avg_goodreads_rating\": 3.97, \"started\": \"2019-12-25T00:00:00\", \"date\": \"2020-01-06T00:00:00\", \"faves\": null, \"year\": \"2020\", \"days_to_read\": 12, \"gender_description\": \"Female\"}, {\"order\": 2, \"title\": \"Becoming Wise\", \"author\": \"Krista Tippett\", \"pages\": 288.0, \"url\": \"https://www.goodreads.com/book/show/25894085-becoming-wise\", \"gender\": \"F\", \"type\": \"Non-Fiction\", \"subgenre\": \"Spirituality\", \"avg_goodreads_rating\": 4.15, \"started\": \"2020-01-01T00:00:00\", \"date\": \"2020-01-12T00:00:00\", \"faves\": \"Y\", \"year\": \"2020\", \"days_to_read\": 11, \"gender_description\": \"Female\"}, {\"order\": 3, \"title\": \"Rework \", \"author\": \"Jason Fried, David Hansson\", \"pages\": 279.0, \"url\": \"https://www.goodreads.com/book/show/6732019-rework?from_search=true&qid=TeHru4l6OG&rank=1\", \"gender\": \"M\", \"type\": \"Non-Fiction\", \"subgenre\": \"Business\", \"avg_goodreads_rating\": 3.94, \"started\": \"2020-01-12T00:00:00\", \"date\": \"2020-01-17T00:00:00\", \"faves\": null, \"year\": \"2020\", \"days_to_read\": 5, \"gender_description\": \"Male\"}, {\"order\": 4, \"title\": \"Minor Feelings\", \"author\": \"Cathy Park Hong\", \"pages\": 224.0, \"url\": \"https://www.goodreads.com/book/show/47544177-minor-feelings?from_search=true&qid=YwgnVM0MaX&rank=1\", \"gender\": \"F\", \"type\": \"Non-Fiction\", \"subgenre\": \"Essays\", \"avg_goodreads_rating\": 4.53, \"started\": \"2020-01-14T00:00:00\", \"date\": \"2020-01-26T00:00:00\", \"faves\": null, \"year\": \"2020\", \"days_to_read\": 12, \"gender_description\": \"Female\"}, {\"order\": 5, \"title\": \"The Idiot\", \"author\": \"Elif Batuman\", \"pages\": 423.0, \"url\": \"https://www.goodreads.com/book/show/30962053-the-idiot\", \"gender\": \"F\", \"type\": \"Fiction\", \"subgenre\": \"historical\", \"avg_goodreads_rating\": 3.63, \"started\": \"2020-01-25T00:00:00\", \"date\": \"2020-02-02T00:00:00\", \"faves\": null, \"year\": \"2020\", \"days_to_read\": 8, \"gender_description\": \"Female\"}, {\"order\": 6, \"title\": \"If I Had Your Face\", \"author\": \"Frances Cha\", \"pages\": 288.0, \"url\": \"https://www.goodreads.com/book/show/47548925-if-i-had-your-face?from_search=true&qid=c3Iw9aiNTi&rank=1\", \"gender\": \"F\", \"type\": \"Fiction\", \"subgenre\": \"Contemporary\", \"avg_goodreads_rating\": 3.97, \"started\": \"2020-02-02T00:00:00\", \"date\": \"2020-02-06T00:00:00\", \"faves\": null, \"year\": \"2020\", \"days_to_read\": 4, \"gender_description\": \"Female\"}, {\"order\": 7, \"title\": \"Topics of Conversation\", \"author\": \"Miranda Popkey\", \"pages\": 224.0, \"url\": \"https://www.goodreads.com/book/show/45754997-topics-of-conversation?from_search=true&qid=F1d5R6meaf&rank=1\", \"gender\": \"F\", \"type\": \"Fiction\", \"subgenre\": \"Contemporary\", \"avg_goodreads_rating\": 2.83, \"started\": \"2020-02-06T00:00:00\", \"date\": \"2020-02-12T00:00:00\", \"faves\": null, \"year\": \"2020\", \"days_to_read\": 6, \"gender_description\": \"Female\"}, {\"order\": 8, \"title\": \"Bluets\", \"author\": \"Maggie Nelson\", \"pages\": 98.0, \"url\": \"https://www.goodreads.com/book/show/6798263-bluets\", \"gender\": \"F\", \"type\": \"Non-Fiction\", \"subgenre\": \"Poetry\", \"avg_goodreads_rating\": 4.26, \"started\": \"2020-02-12T00:00:00\", \"date\": \"2020-02-16T00:00:00\", \"faves\": null, \"year\": \"2020\", \"days_to_read\": 4, \"gender_description\": \"Female\"}, {\"order\": 9, \"title\": \"I Believe in a Thing Called Love\", \"author\": \"Maurene Goo\", \"pages\": 336.0, \"url\": \"https://www.goodreads.com/book/show/31145133-i-believe-in-a-thing-called-love\", \"gender\": \"F\", \"type\": \"Fiction\", \"subgenre\": \"Young Adult\", \"avg_goodreads_rating\": 3.66, \"started\": \"2020-02-23T00:00:00\", \"date\": \"2020-03-11T00:00:00\", \"faves\": null, \"year\": \"2020\", \"days_to_read\": 17, \"gender_description\": \"Female\"}, {\"order\": 10, \"title\": \"Untamed\", \"author\": \"Glennon Doyle\", \"pages\": 352.0, \"url\": \"https://www.goodreads.com/book/show/52129515-untamed\", \"gender\": \"F\", \"type\": \"Non-Fiction\", \"subgenre\": \"Memoir\", \"avg_goodreads_rating\": 4.46, \"started\": \"2020-03-07T00:00:00\", \"date\": \"2020-03-12T00:00:00\", \"faves\": null, \"year\": \"2020\", \"days_to_read\": 5, \"gender_description\": \"Female\"}, {\"order\": 11, \"title\": \"Red, White and Royal Blue\", \"author\": \"Casey McQuiston\", \"pages\": 421.0, \"url\": \"https://www.goodreads.com/book/show/41150487-red-white-royal-blue\", \"gender\": \"F\", \"type\": \"Fiction\", \"subgenre\": \"Romance\", \"avg_goodreads_rating\": 4.31, \"started\": \"2020-03-12T00:00:00\", \"date\": \"2020-03-20T00:00:00\", \"faves\": null, \"year\": \"2020\", \"days_to_read\": 8, \"gender_description\": \"Female\"}, {\"order\": 12, \"title\": \"Bird by Bird: Some Instructions on Writing and Life\", \"author\": \"Anne Lamott\", \"pages\": 237.0, \"url\": \"https://www.goodreads.com/book/show/12543.Bird_by_Bird\", \"gender\": \"F\", \"type\": \"Non-Fiction\", \"subgenre\": \"Writing\", \"avg_goodreads_rating\": 4.23, \"started\": \"2020-03-21T00:00:00\", \"date\": \"2020-03-31T00:00:00\", \"faves\": \"Y\", \"year\": \"2020\", \"days_to_read\": 10, \"gender_description\": \"Female\"}, {\"order\": 13, \"title\": \"Cleanness\", \"author\": \"Garth Greenwell\", \"pages\": 240.0, \"url\": \"https://www.goodreads.com/book/show/45892271-cleanness?ac=1&from_search=true&qid=ornMVFsX93&rank=2\", \"gender\": \"M\", \"type\": \"Fiction\", \"subgenre\": \"Contemporary\", \"avg_goodreads_rating\": 4.05, \"started\": \"2020-03-31T00:00:00\", \"date\": \"2020-04-06T00:00:00\", \"faves\": null, \"year\": \"2020\", \"days_to_read\": 6, \"gender_description\": \"Male\"}, {\"order\": 14, \"title\": \"The Bridges of Madison County\", \"author\": \"Robert James Waller\", \"pages\": 221.0, \"url\": \"https://www.goodreads.com/book/show/83674.The_Bridges_of_Madison_County\", \"gender\": \"M\", \"type\": \"Fiction\", \"subgenre\": \"Contemporary\", \"avg_goodreads_rating\": 3.61, \"started\": \"2020-04-08T00:00:00\", \"date\": \"2020-04-11T00:00:00\", \"faves\": null, \"year\": \"2020\", \"days_to_read\": 3, \"gender_description\": \"Male\"}, {\"order\": 15, \"title\": \"Super Attractor\", \"author\": \"Gabrielle Bernstein\", \"pages\": 248.0, \"url\": \"https://www.goodreads.com/book/show/43496426-super-attractor?from_search=true&from_srp=true&qid=sRtfi9Txub&rank=1\", \"gender\": \"F\", \"type\": \"Non-Fiction\", \"subgenre\": \"Self Help\", \"avg_goodreads_rating\": 4.18, \"started\": \"2020-04-11T00:00:00\", \"date\": \"2020-04-22T00:00:00\", \"faves\": null, \"year\": \"2020\", \"days_to_read\": 11, \"gender_description\": \"Female\"}, {\"order\": 16, \"title\": \"Felix Ever After\", \"author\": \"Kacen Callender\", \"pages\": 354.0, \"url\": \"https://www.goodreads.com/book/show/51931067-felix-ever-after?from_search=true&from_srp=true&qid=ssQYTzSgHg&rank=1\", \"gender\": \"M\", \"type\": \"Fiction\", \"subgenre\": \"Young Adult\", \"avg_goodreads_rating\": 4.46, \"started\": \"2020-05-12T00:00:00\", \"date\": \"2020-05-14T00:00:00\", \"faves\": null, \"year\": \"2020\", \"days_to_read\": 2, \"gender_description\": \"Male\"}, {\"order\": 17, \"title\": \"Days of Distraction\", \"author\": \"Alexandra Chang\", \"pages\": 312.0, \"url\": \"https://www.goodreads.com/book/show/52973514-days-of-distraction?from_search=true&from_srp=true&qid=zLGt916iHW&rank=1\", \"gender\": \"F\", \"type\": \"Fiction\", \"subgenre\": \"Contemporary\", \"avg_goodreads_rating\": 3.66, \"started\": \"2020-04-12T00:00:00\", \"date\": \"2020-05-17T00:00:00\", \"faves\": null, \"year\": \"2020\", \"days_to_read\": 35, \"gender_description\": \"Female\"}, {\"order\": 18, \"title\": \"wow, no thank you.\", \"author\": \"Samantha Irby\", \"pages\": 288.0, \"url\": \"https://www.goodreads.com/book/show/52844646-wow-no-thank-you\", \"gender\": \"F\", \"type\": \"Non-Fiction\", \"subgenre\": \"Essays\", \"avg_goodreads_rating\": 4.13, \"started\": \"2020-04-05T00:00:00\", \"date\": \"2020-06-15T00:00:00\", \"faves\": \"Y\", \"year\": \"2020\", \"days_to_read\": 71, \"gender_description\": \"Female\"}, {\"order\": 19, \"title\": \"How Much of These Hills Is Gold\", \"author\": \"C. Pam Zhang\", \"pages\": 288.0, \"url\": \"https://www.goodreads.com/book/show/45895362-how-much-of-these-hills-is-gold?from_search=true&from_srp=true&qid=rMvIru31RB&rank=1\", \"gender\": \"F\", \"type\": \"Fiction\", \"subgenre\": \"historical\", \"avg_goodreads_rating\": 3.86, \"started\": \"2020-05-22T00:00:00\", \"date\": \"2020-06-01T00:00:00\", \"faves\": null, \"year\": \"2020\", \"days_to_read\": 10, \"gender_description\": \"Female\"}, {\"order\": 20, \"title\": \"Between the World and Me\", \"author\": \"Tanehisi Coates\", \"pages\": 152.0, \"url\": \"https://www.goodreads.com/book/show/25489625-between-the-world-and-me?from_search=true&from_srp=true&qid=xvQajzPDjC&rank=1\", \"gender\": \"M\", \"type\": \"Non-Fiction\", \"subgenre\": \"Current Events\", \"avg_goodreads_rating\": 4.52, \"started\": \"2020-06-15T00:00:00\", \"date\": \"2020-06-24T00:00:00\", \"faves\": \"Y\", \"year\": \"2020\", \"days_to_read\": 9, \"gender_description\": \"Male\"}, {\"order\": 21, \"title\": \"Where the Crawdads Sing\", \"author\": \"Delia Owens\", \"pages\": 384.0, \"url\": \"https://www.goodreads.com/book/show/36809135-where-the-crawdads-sing?ac=1&from_search=true&qid=TifR2MzIpW&rank=1\", \"gender\": \"F\", \"type\": \"Fiction\", \"subgenre\": \"Contemporary\", \"avg_goodreads_rating\": 4.47, \"started\": \"2020-06-22T00:00:00\", \"date\": \"2020-06-29T00:00:00\", \"faves\": null, \"year\": \"2020\", \"days_to_read\": 7, \"gender_description\": \"Female\"}, {\"order\": 22, \"title\": \"Boys and Sex\", \"author\": \"Peggy Ornstein\", \"pages\": 304.0, \"url\": \"https://www.goodreads.com/book/show/43452877-boys-sex?from_search=true&from_srp=true&qid=TwPIaowNSU&rank=1\", \"gender\": \"F\", \"type\": \"Non-Fiction\", \"subgenre\": \"Current Events\", \"avg_goodreads_rating\": 4.24, \"started\": \"2020-04-12T00:00:00\", \"date\": \"2020-07-03T00:00:00\", \"faves\": null, \"year\": \"2020\", \"days_to_read\": 82, \"gender_description\": \"Female\"}, {\"order\": 23, \"title\": \"Someone Who Will Love You In All Your Damaged Glory\", \"author\": \"Rafael Bob Waksberg\", \"pages\": 256.0, \"url\": \"https://www.goodreads.com/book/show/41949311-someone-who-will-love-you-in-all-your-damaged-glory?ac=1&from_search=true&qid=Kr9sKqWCXh&rank=1\", \"gender\": \"M\", \"type\": \"Fiction\", \"subgenre\": \"Short Stories\", \"avg_goodreads_rating\": 4.16, \"started\": \"2020-07-08T00:00:00\", \"date\": \"2020-07-10T00:00:00\", \"faves\": \"Y\", \"year\": \"2020\", \"days_to_read\": 2, \"gender_description\": \"Male\"}, {\"order\": 24, \"title\": \"The Masters Tools Will Never DIsmantle The Master's House\", \"author\": \"Audre Lorde\", \"pages\": 64.0, \"url\": \"https://www.goodreads.com/en/book/show/38598541-the-master-s-tools-will-never-dismantle-the-master-s-house\", \"gender\": \"F\", \"type\": \"Non-Fiction\", \"subgenre\": \"Essays\", \"avg_goodreads_rating\": 4.46, \"started\": \"2020-07-15T00:00:00\", \"date\": \"2020-07-17T00:00:00\", \"faves\": \"Y\", \"year\": \"2020\", \"days_to_read\": 2, \"gender_description\": \"Female\"}, {\"order\": 25, \"title\": \"Attached\", \"author\": \"Amir Levine, Rachel SF Heller\", \"pages\": 304.0, \"url\": \"https://www.goodreads.com/book/show/9547888-attached?from_search=true&from_srp=true&qid=kdP4IdRQnC&rank=1\", \"gender\": \"F\", \"type\": \"Non-Fiction\", \"subgenre\": \"Psychology\", \"avg_goodreads_rating\": 4.14, \"started\": \"2020-07-31T00:00:00\", \"date\": \"2020-08-03T00:00:00\", \"faves\": null, \"year\": \"2020\", \"days_to_read\": 3, \"gender_description\": \"Female\"}, {\"order\": 26, \"title\": \"Listen to the Marriage\", \"author\": \"John Jay Osborn\", \"pages\": 256.0, \"url\": \"https://www.goodreads.com/book/show/37941728-listen-to-the-marriage?ac=1&from_search=true&qid=iy2rwd6WTj&rank=1\", \"gender\": \"M\", \"type\": \"Fiction\", \"subgenre\": \"Contemporary\", \"avg_goodreads_rating\": 3.51, \"started\": \"2020-08-06T00:00:00\", \"date\": \"2020-08-15T00:00:00\", \"faves\": null, \"year\": \"2020\", \"days_to_read\": 9, \"gender_description\": \"Male\"}, {\"order\": 27, \"title\": \"Jung: A Very Short Introduction\", \"author\": \"Andrew Stevens\", \"pages\": 192.0, \"url\": \"https://www.goodreads.com/book/show/297554.Jung?from_search=true&from_srp=true&qid=Jim8gejEr2&rank=1\", \"gender\": \"M\", \"type\": \"Non-Fiction\", \"subgenre\": \"History\", \"avg_goodreads_rating\": 4.07, \"started\": \"2020-09-07T00:00:00\", \"date\": \"2020-09-16T00:00:00\", \"faves\": null, \"year\": \"2020\", \"days_to_read\": 9, \"gender_description\": \"Male\"}, {\"order\": 28, \"title\": \"The First Bad Man\", \"author\": \"Miranda July\", \"pages\": 288.0, \"url\": \"https://www.goodreads.com/book/show/21412400-the-first-bad-man?from_search=true&from_srp=true&qid=8h7sxqtWHM&rank=1\", \"gender\": \"F\", \"type\": \"Fiction\", \"subgenre\": \"Contemporary\", \"avg_goodreads_rating\": 3.62, \"started\": \"2020-09-16T00:00:00\", \"date\": \"2020-09-20T00:00:00\", \"faves\": \"Y\", \"year\": \"2020\", \"days_to_read\": 4, \"gender_description\": \"Female\"}, {\"order\": 29, \"title\": \"The Drama of the Gifted Child\", \"author\": \"Alice Miller\", \"pages\": 144.0, \"url\": \"https://www.goodreads.com/book/show/24204222-the-drama-of-the-gifted-child?utm_content=review_cta_book_image&utm_medium=email&utm_source=bookend&ref_=pe_7171740_474197500\", \"gender\": \"F\", \"type\": \"Non-Fiction\", \"subgenre\": \"Psychology\", \"avg_goodreads_rating\": 4.1, \"started\": \"2020-09-27T00:00:00\", \"date\": \"2020-10-01T00:00:00\", \"faves\": null, \"year\": \"2020\", \"days_to_read\": 4, \"gender_description\": \"Female\"}, {\"order\": 30, \"title\": \"Don't Call us Dead: Poems\", \"author\": \"Danez Smith\", \"pages\": 101.0, \"url\": \"https://www.goodreads.com/book/show/35422441-don-t-call-us-dead?from_search=true&from_srp=true&qid=8qdAhd4Vlp&rank=1\", \"gender\": \"M\", \"type\": \"Poetry\", \"subgenre\": \"LGBT\", \"avg_goodreads_rating\": 4.52, \"started\": \"2020-10-01T00:00:00\", \"date\": \"2020-10-06T00:00:00\", \"faves\": \"Y\", \"year\": \"2020\", \"days_to_read\": 5, \"gender_description\": \"Male\"}, {\"order\": 31, \"title\": \"Tender is the Night\", \"author\": \"F. Scott Fitzgerald\", \"pages\": 315.0, \"url\": \"https://www.goodreads.com/book/show/46164.Tender_Is_the_Night?from_search=true&from_srp=true&qid=B8eLWQQKSX&rank=1\", \"gender\": \"M\", \"type\": \"Fiction\", \"subgenre\": \"Classic\", \"avg_goodreads_rating\": 3.81, \"started\": \"2020-10-10T00:00:00\", \"date\": \"2020-11-07T00:00:00\", \"faves\": \"Y\", \"year\": \"2020\", \"days_to_read\": 28, \"gender_description\": \"Male\"}, {\"order\": 32, \"title\": \"Heather, The Totality\", \"author\": \"Matthew Weiner\", \"pages\": 144.0, \"url\": \"https://www.goodreads.com/book/show/31933063-heather-the-totality?ac=1&from_search=true&qid=MvG8rzSUME&rank=1\", \"gender\": \"M\", \"type\": \"Fiction\", \"subgenre\": \"Contemporary\", \"avg_goodreads_rating\": 2.93, \"started\": \"2020-11-07T00:00:00\", \"date\": \"2020-11-09T00:00:00\", \"faves\": null, \"year\": \"2020\", \"days_to_read\": 2, \"gender_description\": \"Male\"}, {\"order\": 33, \"title\": \"What We Talk About When We Talk About Love\", \"author\": \"Raymond Carver\", \"pages\": 159.0, \"url\": \"https://www.goodreads.com/book/show/11438.What_We_Talk_About_When_We_Talk_About_Love?from_search=true&from_srp=true&qid=5G4xkS3EQg&rank=1\", \"gender\": \"M\", \"type\": \"Fiction\", \"subgenre\": \"Short Stories\", \"avg_goodreads_rating\": 4.15, \"started\": \"2020-10-06T00:00:00\", \"date\": \"2020-10-31T00:00:00\", \"faves\": null, \"year\": \"2020\", \"days_to_read\": 25, \"gender_description\": \"Male\"}, {\"order\": 34, \"title\": \"Never Split the Difference\", \"author\": \"Chris Voss\", \"pages\": 274.0, \"url\": \"https://www.goodreads.com/book/show/26156469-never-split-the-difference?from_search=true&from_srp=true&qid=umiLanQLHO&rank=1\", \"gender\": \"M\", \"type\": \"Non-Fiction\", \"subgenre\": \"Business\", \"avg_goodreads_rating\": 4.4, \"started\": \"2020-11-11T00:00:00\", \"date\": \"2020-11-26T00:00:00\", \"faves\": null, \"year\": \"2020\", \"days_to_read\": 15, \"gender_description\": \"Male\"}, {\"order\": 35, \"title\": \"Rapture\", \"author\": \"Susan Minot\", \"pages\": null, \"url\": \"https://www.goodreads.com/book/show/40056.Rapture\", \"gender\": \"F\", \"type\": \"Fiction\", \"subgenre\": \"Romance\", \"avg_goodreads_rating\": 2.96, \"started\": \"2020-12-02T00:00:00\", \"date\": \"2020-12-03T00:00:00\", \"faves\": null, \"year\": \"2020\", \"days_to_read\": 1, \"gender_description\": \"Female\"}, {\"order\": 36, \"title\": \"The Middle Passage\", \"author\": \"James Hollis\", \"pages\": 127.0, \"url\": \"https://www.goodreads.com/book/show/47849.The_Middle_Passage?from_search=true&from_srp=true&qid=ot6aI40sSB&rank=1\", \"gender\": \"M\", \"type\": \"Non-Fiction\", \"subgenre\": \"Psychology\", \"avg_goodreads_rating\": 4.44, \"started\": \"2020-12-15T00:00:00\", \"date\": \"2020-12-18T00:00:00\", \"faves\": \"Y\", \"year\": \"2020\", \"days_to_read\": 3, \"gender_description\": \"Male\"}, {\"order\": 37, \"title\": \"Intimacy\", \"author\": \"Hanif Kureishi\", \"pages\": 155.0, \"url\": \"https://www.goodreads.com/book/show/153418.Intimacy\", \"gender\": \"M\", \"type\": \"Fiction\", \"subgenre\": \"Contemporary\", \"avg_goodreads_rating\": 3.6, \"started\": \"2020-12-21T00:00:00\", \"date\": \"2020-12-22T00:00:00\", \"faves\": null, \"year\": \"2020\", \"days_to_read\": 1, \"gender_description\": \"Male\"}, {\"order\": 38, \"title\": \"No One Asked for This: Essays\", \"author\": \"Cazzie David\", \"pages\": 352.0, \"url\": \"https://www.goodreads.com/book/show/48930274-no-one-asked-for-this?from_search=true&from_srp=true&qid=oVY5dHZfxR&rank=1\", \"gender\": \"F\", \"type\": \"Non-Fiction\", \"subgenre\": \"Essays\", \"avg_goodreads_rating\": 3.53, \"started\": \"2020-11-27T00:00:00\", \"date\": \"2020-12-25T00:00:00\", \"faves\": null, \"year\": \"2020\", \"days_to_read\": 28, \"gender_description\": \"Female\"}, {\"order\": 39, \"title\": \"Self-Help\", \"author\": \"Lorrie Moore\", \"pages\": 163.0, \"url\": \"https://www.goodreads.com/book/show/90872.Self_Help\", \"gender\": \"F\", \"type\": \"Fiction\", \"subgenre\": \"Short Stories\", \"avg_goodreads_rating\": 4.19, \"started\": \"2020-12-26T00:00:00\", \"date\": \"2020-12-27T00:00:00\", \"faves\": \"Y\", \"year\": \"2020\", \"days_to_read\": 1, \"gender_description\": \"Female\"}]}}, {\"mode\": \"vega-lite\"});\n",
       "</script>"
      ],
      "text/plain": [
       "alt.Chart(...)"
      ]
     },
     "execution_count": 24,
     "metadata": {},
     "output_type": "execute_result"
    }
   ],
   "source": [
    "# MOBILE\n",
    "alt.Chart(books).mark_tick(thickness=2,size=20).encode(\n",
    "    x=alt.X('date',axis=alt.Axis(format='%B', tickColor='#ffffff', tickCount=4), title=''),\n",
    "    y=alt.Y('type',axis=alt.Axis(tickCount=0, tickColor='#ffffff'), title=' '),\n",
    "    color=alt.Color('type', legend=None)\n",
    ").configure_axis(\n",
    "    grid=False).properties(height=200, width=320, title='Books, by type and date finished')"
   ]
  },
  {
   "cell_type": "markdown",
   "metadata": {},
   "source": [
    "---"
   ]
  },
  {
   "cell_type": "markdown",
   "metadata": {},
   "source": [
    "### Is there a strong relationship between the number of pages and days to read? No"
   ]
  },
  {
   "cell_type": "code",
   "execution_count": 25,
   "metadata": {},
   "outputs": [],
   "source": [
    "# Remove handful of books that took months to finish\n",
    "books_month = books[books['days_to_read'] < 30]"
   ]
  },
  {
   "cell_type": "code",
   "execution_count": 26,
   "metadata": {},
   "outputs": [],
   "source": [
    "books_corr = books_month[['pages', 'days_to_read']]"
   ]
  },
  {
   "cell_type": "code",
   "execution_count": 27,
   "metadata": {},
   "outputs": [],
   "source": [
    "corr = books_corr.corr(method ='pearson')"
   ]
  },
  {
   "cell_type": "code",
   "execution_count": 28,
   "metadata": {},
   "outputs": [
    {
     "name": "stdout",
     "output_type": "stream",
     "text": [
      "              pages  days_to_read\n",
      "pages          1.00          0.28\n",
      "days_to_read   0.28          1.00\n"
     ]
    }
   ],
   "source": [
    "print(corr)"
   ]
  },
  {
   "cell_type": "code",
   "execution_count": 29,
   "metadata": {},
   "outputs": [
    {
     "data": {
      "text/html": [
       "\n",
       "<div id=\"altair-viz-730f3c1d956a41bc8a9d2787f34c759b\"></div>\n",
       "<script type=\"text/javascript\">\n",
       "  (function(spec, embedOpt){\n",
       "    let outputDiv = document.currentScript.previousElementSibling;\n",
       "    if (outputDiv.id !== \"altair-viz-730f3c1d956a41bc8a9d2787f34c759b\") {\n",
       "      outputDiv = document.getElementById(\"altair-viz-730f3c1d956a41bc8a9d2787f34c759b\");\n",
       "    }\n",
       "    const paths = {\n",
       "      \"vega\": \"https://cdn.jsdelivr.net/npm//vega@5?noext\",\n",
       "      \"vega-lib\": \"https://cdn.jsdelivr.net/npm//vega-lib?noext\",\n",
       "      \"vega-lite\": \"https://cdn.jsdelivr.net/npm//vega-lite@4.8.1?noext\",\n",
       "      \"vega-embed\": \"https://cdn.jsdelivr.net/npm//vega-embed@6?noext\",\n",
       "    };\n",
       "\n",
       "    function loadScript(lib) {\n",
       "      return new Promise(function(resolve, reject) {\n",
       "        var s = document.createElement('script');\n",
       "        s.src = paths[lib];\n",
       "        s.async = true;\n",
       "        s.onload = () => resolve(paths[lib]);\n",
       "        s.onerror = () => reject(`Error loading script: ${paths[lib]}`);\n",
       "        document.getElementsByTagName(\"head\")[0].appendChild(s);\n",
       "      });\n",
       "    }\n",
       "\n",
       "    function showError(err) {\n",
       "      outputDiv.innerHTML = `<div class=\"error\" style=\"color:red;\">${err}</div>`;\n",
       "      throw err;\n",
       "    }\n",
       "\n",
       "    function displayChart(vegaEmbed) {\n",
       "      vegaEmbed(outputDiv, spec, embedOpt)\n",
       "        .catch(err => showError(`Javascript Error: ${err.message}<br>This usually means there's a typo in your chart specification. See the javascript console for the full traceback.`));\n",
       "    }\n",
       "\n",
       "    if(typeof define === \"function\" && define.amd) {\n",
       "      requirejs.config({paths});\n",
       "      require([\"vega-embed\"], displayChart, err => showError(`Error loading script: ${err.message}`));\n",
       "    } else if (typeof vegaEmbed === \"function\") {\n",
       "      displayChart(vegaEmbed);\n",
       "    } else {\n",
       "      loadScript(\"vega\")\n",
       "        .then(() => loadScript(\"vega-lite\"))\n",
       "        .then(() => loadScript(\"vega-embed\"))\n",
       "        .catch(showError)\n",
       "        .then(() => displayChart(vegaEmbed));\n",
       "    }\n",
       "  })({\"usermeta\": {\"embedOptions\": {\"theme\": \"vox\"}}, \"config\": {\"view\": {\"continuousWidth\": 400, \"continuousHeight\": 300}}, \"data\": {\"name\": \"data-586699bd18fba72282e7b65a5b20940a\"}, \"mark\": {\"type\": \"circle\", \"size\": 60}, \"encoding\": {\"tooltip\": [{\"type\": \"nominal\", \"field\": \"title\"}, {\"type\": \"ordinal\", \"field\": \"author\"}, {\"type\": \"quantitative\", \"field\": \"avg_goodreads_rating\"}, {\"type\": \"quantitative\", \"field\": \"pages\"}, {\"type\": \"quantitative\", \"field\": \"days_to_read\"}], \"x\": {\"type\": \"quantitative\", \"axis\": {\"tickCount\": 6}, \"field\": \"days_to_read\", \"title\": \"Days to read\"}, \"y\": {\"type\": \"quantitative\", \"axis\": {\"tickCount\": 5}, \"field\": \"pages\", \"title\": \"Number of pages\"}}, \"height\": 500, \"width\": 500, \"$schema\": \"https://vega.github.io/schema/vega-lite/v4.8.1.json\", \"datasets\": {\"data-586699bd18fba72282e7b65a5b20940a\": [{\"order\": 1, \"title\": \"How to Do Nothing\", \"author\": \"Jenny Odell\", \"pages\": 240.0, \"url\": \"https://www.goodreads.com/author/show/18614151.Jenny_Odell\", \"gender\": \"F\", \"type\": \"Non-Fiction\", \"subgenre\": \"Self Help\", \"avg_goodreads_rating\": 3.97, \"started\": \"2019-12-25T00:00:00\", \"date\": \"2020-01-06T00:00:00\", \"faves\": null, \"year\": \"2020\", \"days_to_read\": 12, \"gender_description\": \"Female\"}, {\"order\": 2, \"title\": \"Becoming Wise\", \"author\": \"Krista Tippett\", \"pages\": 288.0, \"url\": \"https://www.goodreads.com/book/show/25894085-becoming-wise\", \"gender\": \"F\", \"type\": \"Non-Fiction\", \"subgenre\": \"Spirituality\", \"avg_goodreads_rating\": 4.15, \"started\": \"2020-01-01T00:00:00\", \"date\": \"2020-01-12T00:00:00\", \"faves\": \"Y\", \"year\": \"2020\", \"days_to_read\": 11, \"gender_description\": \"Female\"}, {\"order\": 3, \"title\": \"Rework \", \"author\": \"Jason Fried, David Hansson\", \"pages\": 279.0, \"url\": \"https://www.goodreads.com/book/show/6732019-rework?from_search=true&qid=TeHru4l6OG&rank=1\", \"gender\": \"M\", \"type\": \"Non-Fiction\", \"subgenre\": \"Business\", \"avg_goodreads_rating\": 3.94, \"started\": \"2020-01-12T00:00:00\", \"date\": \"2020-01-17T00:00:00\", \"faves\": null, \"year\": \"2020\", \"days_to_read\": 5, \"gender_description\": \"Male\"}, {\"order\": 4, \"title\": \"Minor Feelings\", \"author\": \"Cathy Park Hong\", \"pages\": 224.0, \"url\": \"https://www.goodreads.com/book/show/47544177-minor-feelings?from_search=true&qid=YwgnVM0MaX&rank=1\", \"gender\": \"F\", \"type\": \"Non-Fiction\", \"subgenre\": \"Essays\", \"avg_goodreads_rating\": 4.53, \"started\": \"2020-01-14T00:00:00\", \"date\": \"2020-01-26T00:00:00\", \"faves\": null, \"year\": \"2020\", \"days_to_read\": 12, \"gender_description\": \"Female\"}, {\"order\": 5, \"title\": \"The Idiot\", \"author\": \"Elif Batuman\", \"pages\": 423.0, \"url\": \"https://www.goodreads.com/book/show/30962053-the-idiot\", \"gender\": \"F\", \"type\": \"Fiction\", \"subgenre\": \"historical\", \"avg_goodreads_rating\": 3.63, \"started\": \"2020-01-25T00:00:00\", \"date\": \"2020-02-02T00:00:00\", \"faves\": null, \"year\": \"2020\", \"days_to_read\": 8, \"gender_description\": \"Female\"}, {\"order\": 6, \"title\": \"If I Had Your Face\", \"author\": \"Frances Cha\", \"pages\": 288.0, \"url\": \"https://www.goodreads.com/book/show/47548925-if-i-had-your-face?from_search=true&qid=c3Iw9aiNTi&rank=1\", \"gender\": \"F\", \"type\": \"Fiction\", \"subgenre\": \"Contemporary\", \"avg_goodreads_rating\": 3.97, \"started\": \"2020-02-02T00:00:00\", \"date\": \"2020-02-06T00:00:00\", \"faves\": null, \"year\": \"2020\", \"days_to_read\": 4, \"gender_description\": \"Female\"}, {\"order\": 7, \"title\": \"Topics of Conversation\", \"author\": \"Miranda Popkey\", \"pages\": 224.0, \"url\": \"https://www.goodreads.com/book/show/45754997-topics-of-conversation?from_search=true&qid=F1d5R6meaf&rank=1\", \"gender\": \"F\", \"type\": \"Fiction\", \"subgenre\": \"Contemporary\", \"avg_goodreads_rating\": 2.83, \"started\": \"2020-02-06T00:00:00\", \"date\": \"2020-02-12T00:00:00\", \"faves\": null, \"year\": \"2020\", \"days_to_read\": 6, \"gender_description\": \"Female\"}, {\"order\": 8, \"title\": \"Bluets\", \"author\": \"Maggie Nelson\", \"pages\": 98.0, \"url\": \"https://www.goodreads.com/book/show/6798263-bluets\", \"gender\": \"F\", \"type\": \"Non-Fiction\", \"subgenre\": \"Poetry\", \"avg_goodreads_rating\": 4.26, \"started\": \"2020-02-12T00:00:00\", \"date\": \"2020-02-16T00:00:00\", \"faves\": null, \"year\": \"2020\", \"days_to_read\": 4, \"gender_description\": \"Female\"}, {\"order\": 9, \"title\": \"I Believe in a Thing Called Love\", \"author\": \"Maurene Goo\", \"pages\": 336.0, \"url\": \"https://www.goodreads.com/book/show/31145133-i-believe-in-a-thing-called-love\", \"gender\": \"F\", \"type\": \"Fiction\", \"subgenre\": \"Young Adult\", \"avg_goodreads_rating\": 3.66, \"started\": \"2020-02-23T00:00:00\", \"date\": \"2020-03-11T00:00:00\", \"faves\": null, \"year\": \"2020\", \"days_to_read\": 17, \"gender_description\": \"Female\"}, {\"order\": 10, \"title\": \"Untamed\", \"author\": \"Glennon Doyle\", \"pages\": 352.0, \"url\": \"https://www.goodreads.com/book/show/52129515-untamed\", \"gender\": \"F\", \"type\": \"Non-Fiction\", \"subgenre\": \"Memoir\", \"avg_goodreads_rating\": 4.46, \"started\": \"2020-03-07T00:00:00\", \"date\": \"2020-03-12T00:00:00\", \"faves\": null, \"year\": \"2020\", \"days_to_read\": 5, \"gender_description\": \"Female\"}, {\"order\": 11, \"title\": \"Red, White and Royal Blue\", \"author\": \"Casey McQuiston\", \"pages\": 421.0, \"url\": \"https://www.goodreads.com/book/show/41150487-red-white-royal-blue\", \"gender\": \"F\", \"type\": \"Fiction\", \"subgenre\": \"Romance\", \"avg_goodreads_rating\": 4.31, \"started\": \"2020-03-12T00:00:00\", \"date\": \"2020-03-20T00:00:00\", \"faves\": null, \"year\": \"2020\", \"days_to_read\": 8, \"gender_description\": \"Female\"}, {\"order\": 12, \"title\": \"Bird by Bird: Some Instructions on Writing and Life\", \"author\": \"Anne Lamott\", \"pages\": 237.0, \"url\": \"https://www.goodreads.com/book/show/12543.Bird_by_Bird\", \"gender\": \"F\", \"type\": \"Non-Fiction\", \"subgenre\": \"Writing\", \"avg_goodreads_rating\": 4.23, \"started\": \"2020-03-21T00:00:00\", \"date\": \"2020-03-31T00:00:00\", \"faves\": \"Y\", \"year\": \"2020\", \"days_to_read\": 10, \"gender_description\": \"Female\"}, {\"order\": 13, \"title\": \"Cleanness\", \"author\": \"Garth Greenwell\", \"pages\": 240.0, \"url\": \"https://www.goodreads.com/book/show/45892271-cleanness?ac=1&from_search=true&qid=ornMVFsX93&rank=2\", \"gender\": \"M\", \"type\": \"Fiction\", \"subgenre\": \"Contemporary\", \"avg_goodreads_rating\": 4.05, \"started\": \"2020-03-31T00:00:00\", \"date\": \"2020-04-06T00:00:00\", \"faves\": null, \"year\": \"2020\", \"days_to_read\": 6, \"gender_description\": \"Male\"}, {\"order\": 14, \"title\": \"The Bridges of Madison County\", \"author\": \"Robert James Waller\", \"pages\": 221.0, \"url\": \"https://www.goodreads.com/book/show/83674.The_Bridges_of_Madison_County\", \"gender\": \"M\", \"type\": \"Fiction\", \"subgenre\": \"Contemporary\", \"avg_goodreads_rating\": 3.61, \"started\": \"2020-04-08T00:00:00\", \"date\": \"2020-04-11T00:00:00\", \"faves\": null, \"year\": \"2020\", \"days_to_read\": 3, \"gender_description\": \"Male\"}, {\"order\": 15, \"title\": \"Super Attractor\", \"author\": \"Gabrielle Bernstein\", \"pages\": 248.0, \"url\": \"https://www.goodreads.com/book/show/43496426-super-attractor?from_search=true&from_srp=true&qid=sRtfi9Txub&rank=1\", \"gender\": \"F\", \"type\": \"Non-Fiction\", \"subgenre\": \"Self Help\", \"avg_goodreads_rating\": 4.18, \"started\": \"2020-04-11T00:00:00\", \"date\": \"2020-04-22T00:00:00\", \"faves\": null, \"year\": \"2020\", \"days_to_read\": 11, \"gender_description\": \"Female\"}, {\"order\": 16, \"title\": \"Felix Ever After\", \"author\": \"Kacen Callender\", \"pages\": 354.0, \"url\": \"https://www.goodreads.com/book/show/51931067-felix-ever-after?from_search=true&from_srp=true&qid=ssQYTzSgHg&rank=1\", \"gender\": \"M\", \"type\": \"Fiction\", \"subgenre\": \"Young Adult\", \"avg_goodreads_rating\": 4.46, \"started\": \"2020-05-12T00:00:00\", \"date\": \"2020-05-14T00:00:00\", \"faves\": null, \"year\": \"2020\", \"days_to_read\": 2, \"gender_description\": \"Male\"}, {\"order\": 19, \"title\": \"How Much of These Hills Is Gold\", \"author\": \"C. Pam Zhang\", \"pages\": 288.0, \"url\": \"https://www.goodreads.com/book/show/45895362-how-much-of-these-hills-is-gold?from_search=true&from_srp=true&qid=rMvIru31RB&rank=1\", \"gender\": \"F\", \"type\": \"Fiction\", \"subgenre\": \"historical\", \"avg_goodreads_rating\": 3.86, \"started\": \"2020-05-22T00:00:00\", \"date\": \"2020-06-01T00:00:00\", \"faves\": null, \"year\": \"2020\", \"days_to_read\": 10, \"gender_description\": \"Female\"}, {\"order\": 20, \"title\": \"Between the World and Me\", \"author\": \"Tanehisi Coates\", \"pages\": 152.0, \"url\": \"https://www.goodreads.com/book/show/25489625-between-the-world-and-me?from_search=true&from_srp=true&qid=xvQajzPDjC&rank=1\", \"gender\": \"M\", \"type\": \"Non-Fiction\", \"subgenre\": \"Current Events\", \"avg_goodreads_rating\": 4.52, \"started\": \"2020-06-15T00:00:00\", \"date\": \"2020-06-24T00:00:00\", \"faves\": \"Y\", \"year\": \"2020\", \"days_to_read\": 9, \"gender_description\": \"Male\"}, {\"order\": 21, \"title\": \"Where the Crawdads Sing\", \"author\": \"Delia Owens\", \"pages\": 384.0, \"url\": \"https://www.goodreads.com/book/show/36809135-where-the-crawdads-sing?ac=1&from_search=true&qid=TifR2MzIpW&rank=1\", \"gender\": \"F\", \"type\": \"Fiction\", \"subgenre\": \"Contemporary\", \"avg_goodreads_rating\": 4.47, \"started\": \"2020-06-22T00:00:00\", \"date\": \"2020-06-29T00:00:00\", \"faves\": null, \"year\": \"2020\", \"days_to_read\": 7, \"gender_description\": \"Female\"}, {\"order\": 23, \"title\": \"Someone Who Will Love You In All Your Damaged Glory\", \"author\": \"Rafael Bob Waksberg\", \"pages\": 256.0, \"url\": \"https://www.goodreads.com/book/show/41949311-someone-who-will-love-you-in-all-your-damaged-glory?ac=1&from_search=true&qid=Kr9sKqWCXh&rank=1\", \"gender\": \"M\", \"type\": \"Fiction\", \"subgenre\": \"Short Stories\", \"avg_goodreads_rating\": 4.16, \"started\": \"2020-07-08T00:00:00\", \"date\": \"2020-07-10T00:00:00\", \"faves\": \"Y\", \"year\": \"2020\", \"days_to_read\": 2, \"gender_description\": \"Male\"}, {\"order\": 24, \"title\": \"The Masters Tools Will Never DIsmantle The Master's House\", \"author\": \"Audre Lorde\", \"pages\": 64.0, \"url\": \"https://www.goodreads.com/en/book/show/38598541-the-master-s-tools-will-never-dismantle-the-master-s-house\", \"gender\": \"F\", \"type\": \"Non-Fiction\", \"subgenre\": \"Essays\", \"avg_goodreads_rating\": 4.46, \"started\": \"2020-07-15T00:00:00\", \"date\": \"2020-07-17T00:00:00\", \"faves\": \"Y\", \"year\": \"2020\", \"days_to_read\": 2, \"gender_description\": \"Female\"}, {\"order\": 25, \"title\": \"Attached\", \"author\": \"Amir Levine, Rachel SF Heller\", \"pages\": 304.0, \"url\": \"https://www.goodreads.com/book/show/9547888-attached?from_search=true&from_srp=true&qid=kdP4IdRQnC&rank=1\", \"gender\": \"F\", \"type\": \"Non-Fiction\", \"subgenre\": \"Psychology\", \"avg_goodreads_rating\": 4.14, \"started\": \"2020-07-31T00:00:00\", \"date\": \"2020-08-03T00:00:00\", \"faves\": null, \"year\": \"2020\", \"days_to_read\": 3, \"gender_description\": \"Female\"}, {\"order\": 26, \"title\": \"Listen to the Marriage\", \"author\": \"John Jay Osborn\", \"pages\": 256.0, \"url\": \"https://www.goodreads.com/book/show/37941728-listen-to-the-marriage?ac=1&from_search=true&qid=iy2rwd6WTj&rank=1\", \"gender\": \"M\", \"type\": \"Fiction\", \"subgenre\": \"Contemporary\", \"avg_goodreads_rating\": 3.51, \"started\": \"2020-08-06T00:00:00\", \"date\": \"2020-08-15T00:00:00\", \"faves\": null, \"year\": \"2020\", \"days_to_read\": 9, \"gender_description\": \"Male\"}, {\"order\": 27, \"title\": \"Jung: A Very Short Introduction\", \"author\": \"Andrew Stevens\", \"pages\": 192.0, \"url\": \"https://www.goodreads.com/book/show/297554.Jung?from_search=true&from_srp=true&qid=Jim8gejEr2&rank=1\", \"gender\": \"M\", \"type\": \"Non-Fiction\", \"subgenre\": \"History\", \"avg_goodreads_rating\": 4.07, \"started\": \"2020-09-07T00:00:00\", \"date\": \"2020-09-16T00:00:00\", \"faves\": null, \"year\": \"2020\", \"days_to_read\": 9, \"gender_description\": \"Male\"}, {\"order\": 28, \"title\": \"The First Bad Man\", \"author\": \"Miranda July\", \"pages\": 288.0, \"url\": \"https://www.goodreads.com/book/show/21412400-the-first-bad-man?from_search=true&from_srp=true&qid=8h7sxqtWHM&rank=1\", \"gender\": \"F\", \"type\": \"Fiction\", \"subgenre\": \"Contemporary\", \"avg_goodreads_rating\": 3.62, \"started\": \"2020-09-16T00:00:00\", \"date\": \"2020-09-20T00:00:00\", \"faves\": \"Y\", \"year\": \"2020\", \"days_to_read\": 4, \"gender_description\": \"Female\"}, {\"order\": 29, \"title\": \"The Drama of the Gifted Child\", \"author\": \"Alice Miller\", \"pages\": 144.0, \"url\": \"https://www.goodreads.com/book/show/24204222-the-drama-of-the-gifted-child?utm_content=review_cta_book_image&utm_medium=email&utm_source=bookend&ref_=pe_7171740_474197500\", \"gender\": \"F\", \"type\": \"Non-Fiction\", \"subgenre\": \"Psychology\", \"avg_goodreads_rating\": 4.1, \"started\": \"2020-09-27T00:00:00\", \"date\": \"2020-10-01T00:00:00\", \"faves\": null, \"year\": \"2020\", \"days_to_read\": 4, \"gender_description\": \"Female\"}, {\"order\": 30, \"title\": \"Don't Call us Dead: Poems\", \"author\": \"Danez Smith\", \"pages\": 101.0, \"url\": \"https://www.goodreads.com/book/show/35422441-don-t-call-us-dead?from_search=true&from_srp=true&qid=8qdAhd4Vlp&rank=1\", \"gender\": \"M\", \"type\": \"Poetry\", \"subgenre\": \"LGBT\", \"avg_goodreads_rating\": 4.52, \"started\": \"2020-10-01T00:00:00\", \"date\": \"2020-10-06T00:00:00\", \"faves\": \"Y\", \"year\": \"2020\", \"days_to_read\": 5, \"gender_description\": \"Male\"}, {\"order\": 31, \"title\": \"Tender is the Night\", \"author\": \"F. Scott Fitzgerald\", \"pages\": 315.0, \"url\": \"https://www.goodreads.com/book/show/46164.Tender_Is_the_Night?from_search=true&from_srp=true&qid=B8eLWQQKSX&rank=1\", \"gender\": \"M\", \"type\": \"Fiction\", \"subgenre\": \"Classic\", \"avg_goodreads_rating\": 3.81, \"started\": \"2020-10-10T00:00:00\", \"date\": \"2020-11-07T00:00:00\", \"faves\": \"Y\", \"year\": \"2020\", \"days_to_read\": 28, \"gender_description\": \"Male\"}, {\"order\": 32, \"title\": \"Heather, The Totality\", \"author\": \"Matthew Weiner\", \"pages\": 144.0, \"url\": \"https://www.goodreads.com/book/show/31933063-heather-the-totality?ac=1&from_search=true&qid=MvG8rzSUME&rank=1\", \"gender\": \"M\", \"type\": \"Fiction\", \"subgenre\": \"Contemporary\", \"avg_goodreads_rating\": 2.93, \"started\": \"2020-11-07T00:00:00\", \"date\": \"2020-11-09T00:00:00\", \"faves\": null, \"year\": \"2020\", \"days_to_read\": 2, \"gender_description\": \"Male\"}, {\"order\": 33, \"title\": \"What We Talk About When We Talk About Love\", \"author\": \"Raymond Carver\", \"pages\": 159.0, \"url\": \"https://www.goodreads.com/book/show/11438.What_We_Talk_About_When_We_Talk_About_Love?from_search=true&from_srp=true&qid=5G4xkS3EQg&rank=1\", \"gender\": \"M\", \"type\": \"Fiction\", \"subgenre\": \"Short Stories\", \"avg_goodreads_rating\": 4.15, \"started\": \"2020-10-06T00:00:00\", \"date\": \"2020-10-31T00:00:00\", \"faves\": null, \"year\": \"2020\", \"days_to_read\": 25, \"gender_description\": \"Male\"}, {\"order\": 34, \"title\": \"Never Split the Difference\", \"author\": \"Chris Voss\", \"pages\": 274.0, \"url\": \"https://www.goodreads.com/book/show/26156469-never-split-the-difference?from_search=true&from_srp=true&qid=umiLanQLHO&rank=1\", \"gender\": \"M\", \"type\": \"Non-Fiction\", \"subgenre\": \"Business\", \"avg_goodreads_rating\": 4.4, \"started\": \"2020-11-11T00:00:00\", \"date\": \"2020-11-26T00:00:00\", \"faves\": null, \"year\": \"2020\", \"days_to_read\": 15, \"gender_description\": \"Male\"}, {\"order\": 35, \"title\": \"Rapture\", \"author\": \"Susan Minot\", \"pages\": null, \"url\": \"https://www.goodreads.com/book/show/40056.Rapture\", \"gender\": \"F\", \"type\": \"Fiction\", \"subgenre\": \"Romance\", \"avg_goodreads_rating\": 2.96, \"started\": \"2020-12-02T00:00:00\", \"date\": \"2020-12-03T00:00:00\", \"faves\": null, \"year\": \"2020\", \"days_to_read\": 1, \"gender_description\": \"Female\"}, {\"order\": 36, \"title\": \"The Middle Passage\", \"author\": \"James Hollis\", \"pages\": 127.0, \"url\": \"https://www.goodreads.com/book/show/47849.The_Middle_Passage?from_search=true&from_srp=true&qid=ot6aI40sSB&rank=1\", \"gender\": \"M\", \"type\": \"Non-Fiction\", \"subgenre\": \"Psychology\", \"avg_goodreads_rating\": 4.44, \"started\": \"2020-12-15T00:00:00\", \"date\": \"2020-12-18T00:00:00\", \"faves\": \"Y\", \"year\": \"2020\", \"days_to_read\": 3, \"gender_description\": \"Male\"}, {\"order\": 37, \"title\": \"Intimacy\", \"author\": \"Hanif Kureishi\", \"pages\": 155.0, \"url\": \"https://www.goodreads.com/book/show/153418.Intimacy\", \"gender\": \"M\", \"type\": \"Fiction\", \"subgenre\": \"Contemporary\", \"avg_goodreads_rating\": 3.6, \"started\": \"2020-12-21T00:00:00\", \"date\": \"2020-12-22T00:00:00\", \"faves\": null, \"year\": \"2020\", \"days_to_read\": 1, \"gender_description\": \"Male\"}, {\"order\": 38, \"title\": \"No One Asked for This: Essays\", \"author\": \"Cazzie David\", \"pages\": 352.0, \"url\": \"https://www.goodreads.com/book/show/48930274-no-one-asked-for-this?from_search=true&from_srp=true&qid=oVY5dHZfxR&rank=1\", \"gender\": \"F\", \"type\": \"Non-Fiction\", \"subgenre\": \"Essays\", \"avg_goodreads_rating\": 3.53, \"started\": \"2020-11-27T00:00:00\", \"date\": \"2020-12-25T00:00:00\", \"faves\": null, \"year\": \"2020\", \"days_to_read\": 28, \"gender_description\": \"Female\"}, {\"order\": 39, \"title\": \"Self-Help\", \"author\": \"Lorrie Moore\", \"pages\": 163.0, \"url\": \"https://www.goodreads.com/book/show/90872.Self_Help\", \"gender\": \"F\", \"type\": \"Fiction\", \"subgenre\": \"Short Stories\", \"avg_goodreads_rating\": 4.19, \"started\": \"2020-12-26T00:00:00\", \"date\": \"2020-12-27T00:00:00\", \"faves\": \"Y\", \"year\": \"2020\", \"days_to_read\": 1, \"gender_description\": \"Female\"}]}}, {\"mode\": \"vega-lite\"});\n",
       "</script>"
      ],
      "text/plain": [
       "alt.Chart(...)"
      ]
     },
     "execution_count": 29,
     "metadata": {},
     "output_type": "execute_result"
    }
   ],
   "source": [
    "#DESKTOP \n",
    "alt.Chart(books_month).mark_circle(size=60).encode(\n",
    "    x=alt.X('days_to_read:Q', title='Days to read', axis=alt.Axis(tickCount=6)),\n",
    "    y=alt.Y('pages:Q', title='Number of pages', axis=alt.Axis(tickCount=5)),\n",
    "    tooltip=['title:N', 'author:O', 'avg_goodreads_rating:Q', 'pages:Q', 'days_to_read:Q']\n",
    ").properties(width=500, height=500)"
   ]
  },
  {
   "cell_type": "code",
   "execution_count": 30,
   "metadata": {},
   "outputs": [
    {
     "data": {
      "text/html": [
       "\n",
       "<div id=\"altair-viz-7c535b620d3e4b879382f68cfa3c228b\"></div>\n",
       "<script type=\"text/javascript\">\n",
       "  (function(spec, embedOpt){\n",
       "    let outputDiv = document.currentScript.previousElementSibling;\n",
       "    if (outputDiv.id !== \"altair-viz-7c535b620d3e4b879382f68cfa3c228b\") {\n",
       "      outputDiv = document.getElementById(\"altair-viz-7c535b620d3e4b879382f68cfa3c228b\");\n",
       "    }\n",
       "    const paths = {\n",
       "      \"vega\": \"https://cdn.jsdelivr.net/npm//vega@5?noext\",\n",
       "      \"vega-lib\": \"https://cdn.jsdelivr.net/npm//vega-lib?noext\",\n",
       "      \"vega-lite\": \"https://cdn.jsdelivr.net/npm//vega-lite@4.8.1?noext\",\n",
       "      \"vega-embed\": \"https://cdn.jsdelivr.net/npm//vega-embed@6?noext\",\n",
       "    };\n",
       "\n",
       "    function loadScript(lib) {\n",
       "      return new Promise(function(resolve, reject) {\n",
       "        var s = document.createElement('script');\n",
       "        s.src = paths[lib];\n",
       "        s.async = true;\n",
       "        s.onload = () => resolve(paths[lib]);\n",
       "        s.onerror = () => reject(`Error loading script: ${paths[lib]}`);\n",
       "        document.getElementsByTagName(\"head\")[0].appendChild(s);\n",
       "      });\n",
       "    }\n",
       "\n",
       "    function showError(err) {\n",
       "      outputDiv.innerHTML = `<div class=\"error\" style=\"color:red;\">${err}</div>`;\n",
       "      throw err;\n",
       "    }\n",
       "\n",
       "    function displayChart(vegaEmbed) {\n",
       "      vegaEmbed(outputDiv, spec, embedOpt)\n",
       "        .catch(err => showError(`Javascript Error: ${err.message}<br>This usually means there's a typo in your chart specification. See the javascript console for the full traceback.`));\n",
       "    }\n",
       "\n",
       "    if(typeof define === \"function\" && define.amd) {\n",
       "      requirejs.config({paths});\n",
       "      require([\"vega-embed\"], displayChart, err => showError(`Error loading script: ${err.message}`));\n",
       "    } else if (typeof vegaEmbed === \"function\") {\n",
       "      displayChart(vegaEmbed);\n",
       "    } else {\n",
       "      loadScript(\"vega\")\n",
       "        .then(() => loadScript(\"vega-lite\"))\n",
       "        .then(() => loadScript(\"vega-embed\"))\n",
       "        .catch(showError)\n",
       "        .then(() => displayChart(vegaEmbed));\n",
       "    }\n",
       "  })({\"usermeta\": {\"embedOptions\": {\"theme\": \"vox\"}}, \"config\": {\"view\": {\"continuousWidth\": 400, \"continuousHeight\": 300}}, \"data\": {\"name\": \"data-586699bd18fba72282e7b65a5b20940a\"}, \"mark\": {\"type\": \"circle\", \"size\": 60}, \"encoding\": {\"tooltip\": [{\"type\": \"nominal\", \"field\": \"title\"}, {\"type\": \"ordinal\", \"field\": \"author\"}, {\"type\": \"quantitative\", \"field\": \"avg_goodreads_rating\"}, {\"type\": \"quantitative\", \"field\": \"pages\"}, {\"type\": \"quantitative\", \"field\": \"days_to_read\"}], \"x\": {\"type\": \"quantitative\", \"axis\": {\"tickCount\": 6}, \"field\": \"days_to_read\", \"title\": \"Days to read\"}, \"y\": {\"type\": \"quantitative\", \"axis\": {\"tickCount\": 5}, \"field\": \"pages\", \"title\": \"Number of pages\"}}, \"height\": 320, \"width\": 320, \"$schema\": \"https://vega.github.io/schema/vega-lite/v4.8.1.json\", \"datasets\": {\"data-586699bd18fba72282e7b65a5b20940a\": [{\"order\": 1, \"title\": \"How to Do Nothing\", \"author\": \"Jenny Odell\", \"pages\": 240.0, \"url\": \"https://www.goodreads.com/author/show/18614151.Jenny_Odell\", \"gender\": \"F\", \"type\": \"Non-Fiction\", \"subgenre\": \"Self Help\", \"avg_goodreads_rating\": 3.97, \"started\": \"2019-12-25T00:00:00\", \"date\": \"2020-01-06T00:00:00\", \"faves\": null, \"year\": \"2020\", \"days_to_read\": 12, \"gender_description\": \"Female\"}, {\"order\": 2, \"title\": \"Becoming Wise\", \"author\": \"Krista Tippett\", \"pages\": 288.0, \"url\": \"https://www.goodreads.com/book/show/25894085-becoming-wise\", \"gender\": \"F\", \"type\": \"Non-Fiction\", \"subgenre\": \"Spirituality\", \"avg_goodreads_rating\": 4.15, \"started\": \"2020-01-01T00:00:00\", \"date\": \"2020-01-12T00:00:00\", \"faves\": \"Y\", \"year\": \"2020\", \"days_to_read\": 11, \"gender_description\": \"Female\"}, {\"order\": 3, \"title\": \"Rework \", \"author\": \"Jason Fried, David Hansson\", \"pages\": 279.0, \"url\": \"https://www.goodreads.com/book/show/6732019-rework?from_search=true&qid=TeHru4l6OG&rank=1\", \"gender\": \"M\", \"type\": \"Non-Fiction\", \"subgenre\": \"Business\", \"avg_goodreads_rating\": 3.94, \"started\": \"2020-01-12T00:00:00\", \"date\": \"2020-01-17T00:00:00\", \"faves\": null, \"year\": \"2020\", \"days_to_read\": 5, \"gender_description\": \"Male\"}, {\"order\": 4, \"title\": \"Minor Feelings\", \"author\": \"Cathy Park Hong\", \"pages\": 224.0, \"url\": \"https://www.goodreads.com/book/show/47544177-minor-feelings?from_search=true&qid=YwgnVM0MaX&rank=1\", \"gender\": \"F\", \"type\": \"Non-Fiction\", \"subgenre\": \"Essays\", \"avg_goodreads_rating\": 4.53, \"started\": \"2020-01-14T00:00:00\", \"date\": \"2020-01-26T00:00:00\", \"faves\": null, \"year\": \"2020\", \"days_to_read\": 12, \"gender_description\": \"Female\"}, {\"order\": 5, \"title\": \"The Idiot\", \"author\": \"Elif Batuman\", \"pages\": 423.0, \"url\": \"https://www.goodreads.com/book/show/30962053-the-idiot\", \"gender\": \"F\", \"type\": \"Fiction\", \"subgenre\": \"historical\", \"avg_goodreads_rating\": 3.63, \"started\": \"2020-01-25T00:00:00\", \"date\": \"2020-02-02T00:00:00\", \"faves\": null, \"year\": \"2020\", \"days_to_read\": 8, \"gender_description\": \"Female\"}, {\"order\": 6, \"title\": \"If I Had Your Face\", \"author\": \"Frances Cha\", \"pages\": 288.0, \"url\": \"https://www.goodreads.com/book/show/47548925-if-i-had-your-face?from_search=true&qid=c3Iw9aiNTi&rank=1\", \"gender\": \"F\", \"type\": \"Fiction\", \"subgenre\": \"Contemporary\", \"avg_goodreads_rating\": 3.97, \"started\": \"2020-02-02T00:00:00\", \"date\": \"2020-02-06T00:00:00\", \"faves\": null, \"year\": \"2020\", \"days_to_read\": 4, \"gender_description\": \"Female\"}, {\"order\": 7, \"title\": \"Topics of Conversation\", \"author\": \"Miranda Popkey\", \"pages\": 224.0, \"url\": \"https://www.goodreads.com/book/show/45754997-topics-of-conversation?from_search=true&qid=F1d5R6meaf&rank=1\", \"gender\": \"F\", \"type\": \"Fiction\", \"subgenre\": \"Contemporary\", \"avg_goodreads_rating\": 2.83, \"started\": \"2020-02-06T00:00:00\", \"date\": \"2020-02-12T00:00:00\", \"faves\": null, \"year\": \"2020\", \"days_to_read\": 6, \"gender_description\": \"Female\"}, {\"order\": 8, \"title\": \"Bluets\", \"author\": \"Maggie Nelson\", \"pages\": 98.0, \"url\": \"https://www.goodreads.com/book/show/6798263-bluets\", \"gender\": \"F\", \"type\": \"Non-Fiction\", \"subgenre\": \"Poetry\", \"avg_goodreads_rating\": 4.26, \"started\": \"2020-02-12T00:00:00\", \"date\": \"2020-02-16T00:00:00\", \"faves\": null, \"year\": \"2020\", \"days_to_read\": 4, \"gender_description\": \"Female\"}, {\"order\": 9, \"title\": \"I Believe in a Thing Called Love\", \"author\": \"Maurene Goo\", \"pages\": 336.0, \"url\": \"https://www.goodreads.com/book/show/31145133-i-believe-in-a-thing-called-love\", \"gender\": \"F\", \"type\": \"Fiction\", \"subgenre\": \"Young Adult\", \"avg_goodreads_rating\": 3.66, \"started\": \"2020-02-23T00:00:00\", \"date\": \"2020-03-11T00:00:00\", \"faves\": null, \"year\": \"2020\", \"days_to_read\": 17, \"gender_description\": \"Female\"}, {\"order\": 10, \"title\": \"Untamed\", \"author\": \"Glennon Doyle\", \"pages\": 352.0, \"url\": \"https://www.goodreads.com/book/show/52129515-untamed\", \"gender\": \"F\", \"type\": \"Non-Fiction\", \"subgenre\": \"Memoir\", \"avg_goodreads_rating\": 4.46, \"started\": \"2020-03-07T00:00:00\", \"date\": \"2020-03-12T00:00:00\", \"faves\": null, \"year\": \"2020\", \"days_to_read\": 5, \"gender_description\": \"Female\"}, {\"order\": 11, \"title\": \"Red, White and Royal Blue\", \"author\": \"Casey McQuiston\", \"pages\": 421.0, \"url\": \"https://www.goodreads.com/book/show/41150487-red-white-royal-blue\", \"gender\": \"F\", \"type\": \"Fiction\", \"subgenre\": \"Romance\", \"avg_goodreads_rating\": 4.31, \"started\": \"2020-03-12T00:00:00\", \"date\": \"2020-03-20T00:00:00\", \"faves\": null, \"year\": \"2020\", \"days_to_read\": 8, \"gender_description\": \"Female\"}, {\"order\": 12, \"title\": \"Bird by Bird: Some Instructions on Writing and Life\", \"author\": \"Anne Lamott\", \"pages\": 237.0, \"url\": \"https://www.goodreads.com/book/show/12543.Bird_by_Bird\", \"gender\": \"F\", \"type\": \"Non-Fiction\", \"subgenre\": \"Writing\", \"avg_goodreads_rating\": 4.23, \"started\": \"2020-03-21T00:00:00\", \"date\": \"2020-03-31T00:00:00\", \"faves\": \"Y\", \"year\": \"2020\", \"days_to_read\": 10, \"gender_description\": \"Female\"}, {\"order\": 13, \"title\": \"Cleanness\", \"author\": \"Garth Greenwell\", \"pages\": 240.0, \"url\": \"https://www.goodreads.com/book/show/45892271-cleanness?ac=1&from_search=true&qid=ornMVFsX93&rank=2\", \"gender\": \"M\", \"type\": \"Fiction\", \"subgenre\": \"Contemporary\", \"avg_goodreads_rating\": 4.05, \"started\": \"2020-03-31T00:00:00\", \"date\": \"2020-04-06T00:00:00\", \"faves\": null, \"year\": \"2020\", \"days_to_read\": 6, \"gender_description\": \"Male\"}, {\"order\": 14, \"title\": \"The Bridges of Madison County\", \"author\": \"Robert James Waller\", \"pages\": 221.0, \"url\": \"https://www.goodreads.com/book/show/83674.The_Bridges_of_Madison_County\", \"gender\": \"M\", \"type\": \"Fiction\", \"subgenre\": \"Contemporary\", \"avg_goodreads_rating\": 3.61, \"started\": \"2020-04-08T00:00:00\", \"date\": \"2020-04-11T00:00:00\", \"faves\": null, \"year\": \"2020\", \"days_to_read\": 3, \"gender_description\": \"Male\"}, {\"order\": 15, \"title\": \"Super Attractor\", \"author\": \"Gabrielle Bernstein\", \"pages\": 248.0, \"url\": \"https://www.goodreads.com/book/show/43496426-super-attractor?from_search=true&from_srp=true&qid=sRtfi9Txub&rank=1\", \"gender\": \"F\", \"type\": \"Non-Fiction\", \"subgenre\": \"Self Help\", \"avg_goodreads_rating\": 4.18, \"started\": \"2020-04-11T00:00:00\", \"date\": \"2020-04-22T00:00:00\", \"faves\": null, \"year\": \"2020\", \"days_to_read\": 11, \"gender_description\": \"Female\"}, {\"order\": 16, \"title\": \"Felix Ever After\", \"author\": \"Kacen Callender\", \"pages\": 354.0, \"url\": \"https://www.goodreads.com/book/show/51931067-felix-ever-after?from_search=true&from_srp=true&qid=ssQYTzSgHg&rank=1\", \"gender\": \"M\", \"type\": \"Fiction\", \"subgenre\": \"Young Adult\", \"avg_goodreads_rating\": 4.46, \"started\": \"2020-05-12T00:00:00\", \"date\": \"2020-05-14T00:00:00\", \"faves\": null, \"year\": \"2020\", \"days_to_read\": 2, \"gender_description\": \"Male\"}, {\"order\": 19, \"title\": \"How Much of These Hills Is Gold\", \"author\": \"C. Pam Zhang\", \"pages\": 288.0, \"url\": \"https://www.goodreads.com/book/show/45895362-how-much-of-these-hills-is-gold?from_search=true&from_srp=true&qid=rMvIru31RB&rank=1\", \"gender\": \"F\", \"type\": \"Fiction\", \"subgenre\": \"historical\", \"avg_goodreads_rating\": 3.86, \"started\": \"2020-05-22T00:00:00\", \"date\": \"2020-06-01T00:00:00\", \"faves\": null, \"year\": \"2020\", \"days_to_read\": 10, \"gender_description\": \"Female\"}, {\"order\": 20, \"title\": \"Between the World and Me\", \"author\": \"Tanehisi Coates\", \"pages\": 152.0, \"url\": \"https://www.goodreads.com/book/show/25489625-between-the-world-and-me?from_search=true&from_srp=true&qid=xvQajzPDjC&rank=1\", \"gender\": \"M\", \"type\": \"Non-Fiction\", \"subgenre\": \"Current Events\", \"avg_goodreads_rating\": 4.52, \"started\": \"2020-06-15T00:00:00\", \"date\": \"2020-06-24T00:00:00\", \"faves\": \"Y\", \"year\": \"2020\", \"days_to_read\": 9, \"gender_description\": \"Male\"}, {\"order\": 21, \"title\": \"Where the Crawdads Sing\", \"author\": \"Delia Owens\", \"pages\": 384.0, \"url\": \"https://www.goodreads.com/book/show/36809135-where-the-crawdads-sing?ac=1&from_search=true&qid=TifR2MzIpW&rank=1\", \"gender\": \"F\", \"type\": \"Fiction\", \"subgenre\": \"Contemporary\", \"avg_goodreads_rating\": 4.47, \"started\": \"2020-06-22T00:00:00\", \"date\": \"2020-06-29T00:00:00\", \"faves\": null, \"year\": \"2020\", \"days_to_read\": 7, \"gender_description\": \"Female\"}, {\"order\": 23, \"title\": \"Someone Who Will Love You In All Your Damaged Glory\", \"author\": \"Rafael Bob Waksberg\", \"pages\": 256.0, \"url\": \"https://www.goodreads.com/book/show/41949311-someone-who-will-love-you-in-all-your-damaged-glory?ac=1&from_search=true&qid=Kr9sKqWCXh&rank=1\", \"gender\": \"M\", \"type\": \"Fiction\", \"subgenre\": \"Short Stories\", \"avg_goodreads_rating\": 4.16, \"started\": \"2020-07-08T00:00:00\", \"date\": \"2020-07-10T00:00:00\", \"faves\": \"Y\", \"year\": \"2020\", \"days_to_read\": 2, \"gender_description\": \"Male\"}, {\"order\": 24, \"title\": \"The Masters Tools Will Never DIsmantle The Master's House\", \"author\": \"Audre Lorde\", \"pages\": 64.0, \"url\": \"https://www.goodreads.com/en/book/show/38598541-the-master-s-tools-will-never-dismantle-the-master-s-house\", \"gender\": \"F\", \"type\": \"Non-Fiction\", \"subgenre\": \"Essays\", \"avg_goodreads_rating\": 4.46, \"started\": \"2020-07-15T00:00:00\", \"date\": \"2020-07-17T00:00:00\", \"faves\": \"Y\", \"year\": \"2020\", \"days_to_read\": 2, \"gender_description\": \"Female\"}, {\"order\": 25, \"title\": \"Attached\", \"author\": \"Amir Levine, Rachel SF Heller\", \"pages\": 304.0, \"url\": \"https://www.goodreads.com/book/show/9547888-attached?from_search=true&from_srp=true&qid=kdP4IdRQnC&rank=1\", \"gender\": \"F\", \"type\": \"Non-Fiction\", \"subgenre\": \"Psychology\", \"avg_goodreads_rating\": 4.14, \"started\": \"2020-07-31T00:00:00\", \"date\": \"2020-08-03T00:00:00\", \"faves\": null, \"year\": \"2020\", \"days_to_read\": 3, \"gender_description\": \"Female\"}, {\"order\": 26, \"title\": \"Listen to the Marriage\", \"author\": \"John Jay Osborn\", \"pages\": 256.0, \"url\": \"https://www.goodreads.com/book/show/37941728-listen-to-the-marriage?ac=1&from_search=true&qid=iy2rwd6WTj&rank=1\", \"gender\": \"M\", \"type\": \"Fiction\", \"subgenre\": \"Contemporary\", \"avg_goodreads_rating\": 3.51, \"started\": \"2020-08-06T00:00:00\", \"date\": \"2020-08-15T00:00:00\", \"faves\": null, \"year\": \"2020\", \"days_to_read\": 9, \"gender_description\": \"Male\"}, {\"order\": 27, \"title\": \"Jung: A Very Short Introduction\", \"author\": \"Andrew Stevens\", \"pages\": 192.0, \"url\": \"https://www.goodreads.com/book/show/297554.Jung?from_search=true&from_srp=true&qid=Jim8gejEr2&rank=1\", \"gender\": \"M\", \"type\": \"Non-Fiction\", \"subgenre\": \"History\", \"avg_goodreads_rating\": 4.07, \"started\": \"2020-09-07T00:00:00\", \"date\": \"2020-09-16T00:00:00\", \"faves\": null, \"year\": \"2020\", \"days_to_read\": 9, \"gender_description\": \"Male\"}, {\"order\": 28, \"title\": \"The First Bad Man\", \"author\": \"Miranda July\", \"pages\": 288.0, \"url\": \"https://www.goodreads.com/book/show/21412400-the-first-bad-man?from_search=true&from_srp=true&qid=8h7sxqtWHM&rank=1\", \"gender\": \"F\", \"type\": \"Fiction\", \"subgenre\": \"Contemporary\", \"avg_goodreads_rating\": 3.62, \"started\": \"2020-09-16T00:00:00\", \"date\": \"2020-09-20T00:00:00\", \"faves\": \"Y\", \"year\": \"2020\", \"days_to_read\": 4, \"gender_description\": \"Female\"}, {\"order\": 29, \"title\": \"The Drama of the Gifted Child\", \"author\": \"Alice Miller\", \"pages\": 144.0, \"url\": \"https://www.goodreads.com/book/show/24204222-the-drama-of-the-gifted-child?utm_content=review_cta_book_image&utm_medium=email&utm_source=bookend&ref_=pe_7171740_474197500\", \"gender\": \"F\", \"type\": \"Non-Fiction\", \"subgenre\": \"Psychology\", \"avg_goodreads_rating\": 4.1, \"started\": \"2020-09-27T00:00:00\", \"date\": \"2020-10-01T00:00:00\", \"faves\": null, \"year\": \"2020\", \"days_to_read\": 4, \"gender_description\": \"Female\"}, {\"order\": 30, \"title\": \"Don't Call us Dead: Poems\", \"author\": \"Danez Smith\", \"pages\": 101.0, \"url\": \"https://www.goodreads.com/book/show/35422441-don-t-call-us-dead?from_search=true&from_srp=true&qid=8qdAhd4Vlp&rank=1\", \"gender\": \"M\", \"type\": \"Poetry\", \"subgenre\": \"LGBT\", \"avg_goodreads_rating\": 4.52, \"started\": \"2020-10-01T00:00:00\", \"date\": \"2020-10-06T00:00:00\", \"faves\": \"Y\", \"year\": \"2020\", \"days_to_read\": 5, \"gender_description\": \"Male\"}, {\"order\": 31, \"title\": \"Tender is the Night\", \"author\": \"F. Scott Fitzgerald\", \"pages\": 315.0, \"url\": \"https://www.goodreads.com/book/show/46164.Tender_Is_the_Night?from_search=true&from_srp=true&qid=B8eLWQQKSX&rank=1\", \"gender\": \"M\", \"type\": \"Fiction\", \"subgenre\": \"Classic\", \"avg_goodreads_rating\": 3.81, \"started\": \"2020-10-10T00:00:00\", \"date\": \"2020-11-07T00:00:00\", \"faves\": \"Y\", \"year\": \"2020\", \"days_to_read\": 28, \"gender_description\": \"Male\"}, {\"order\": 32, \"title\": \"Heather, The Totality\", \"author\": \"Matthew Weiner\", \"pages\": 144.0, \"url\": \"https://www.goodreads.com/book/show/31933063-heather-the-totality?ac=1&from_search=true&qid=MvG8rzSUME&rank=1\", \"gender\": \"M\", \"type\": \"Fiction\", \"subgenre\": \"Contemporary\", \"avg_goodreads_rating\": 2.93, \"started\": \"2020-11-07T00:00:00\", \"date\": \"2020-11-09T00:00:00\", \"faves\": null, \"year\": \"2020\", \"days_to_read\": 2, \"gender_description\": \"Male\"}, {\"order\": 33, \"title\": \"What We Talk About When We Talk About Love\", \"author\": \"Raymond Carver\", \"pages\": 159.0, \"url\": \"https://www.goodreads.com/book/show/11438.What_We_Talk_About_When_We_Talk_About_Love?from_search=true&from_srp=true&qid=5G4xkS3EQg&rank=1\", \"gender\": \"M\", \"type\": \"Fiction\", \"subgenre\": \"Short Stories\", \"avg_goodreads_rating\": 4.15, \"started\": \"2020-10-06T00:00:00\", \"date\": \"2020-10-31T00:00:00\", \"faves\": null, \"year\": \"2020\", \"days_to_read\": 25, \"gender_description\": \"Male\"}, {\"order\": 34, \"title\": \"Never Split the Difference\", \"author\": \"Chris Voss\", \"pages\": 274.0, \"url\": \"https://www.goodreads.com/book/show/26156469-never-split-the-difference?from_search=true&from_srp=true&qid=umiLanQLHO&rank=1\", \"gender\": \"M\", \"type\": \"Non-Fiction\", \"subgenre\": \"Business\", \"avg_goodreads_rating\": 4.4, \"started\": \"2020-11-11T00:00:00\", \"date\": \"2020-11-26T00:00:00\", \"faves\": null, \"year\": \"2020\", \"days_to_read\": 15, \"gender_description\": \"Male\"}, {\"order\": 35, \"title\": \"Rapture\", \"author\": \"Susan Minot\", \"pages\": null, \"url\": \"https://www.goodreads.com/book/show/40056.Rapture\", \"gender\": \"F\", \"type\": \"Fiction\", \"subgenre\": \"Romance\", \"avg_goodreads_rating\": 2.96, \"started\": \"2020-12-02T00:00:00\", \"date\": \"2020-12-03T00:00:00\", \"faves\": null, \"year\": \"2020\", \"days_to_read\": 1, \"gender_description\": \"Female\"}, {\"order\": 36, \"title\": \"The Middle Passage\", \"author\": \"James Hollis\", \"pages\": 127.0, \"url\": \"https://www.goodreads.com/book/show/47849.The_Middle_Passage?from_search=true&from_srp=true&qid=ot6aI40sSB&rank=1\", \"gender\": \"M\", \"type\": \"Non-Fiction\", \"subgenre\": \"Psychology\", \"avg_goodreads_rating\": 4.44, \"started\": \"2020-12-15T00:00:00\", \"date\": \"2020-12-18T00:00:00\", \"faves\": \"Y\", \"year\": \"2020\", \"days_to_read\": 3, \"gender_description\": \"Male\"}, {\"order\": 37, \"title\": \"Intimacy\", \"author\": \"Hanif Kureishi\", \"pages\": 155.0, \"url\": \"https://www.goodreads.com/book/show/153418.Intimacy\", \"gender\": \"M\", \"type\": \"Fiction\", \"subgenre\": \"Contemporary\", \"avg_goodreads_rating\": 3.6, \"started\": \"2020-12-21T00:00:00\", \"date\": \"2020-12-22T00:00:00\", \"faves\": null, \"year\": \"2020\", \"days_to_read\": 1, \"gender_description\": \"Male\"}, {\"order\": 38, \"title\": \"No One Asked for This: Essays\", \"author\": \"Cazzie David\", \"pages\": 352.0, \"url\": \"https://www.goodreads.com/book/show/48930274-no-one-asked-for-this?from_search=true&from_srp=true&qid=oVY5dHZfxR&rank=1\", \"gender\": \"F\", \"type\": \"Non-Fiction\", \"subgenre\": \"Essays\", \"avg_goodreads_rating\": 3.53, \"started\": \"2020-11-27T00:00:00\", \"date\": \"2020-12-25T00:00:00\", \"faves\": null, \"year\": \"2020\", \"days_to_read\": 28, \"gender_description\": \"Female\"}, {\"order\": 39, \"title\": \"Self-Help\", \"author\": \"Lorrie Moore\", \"pages\": 163.0, \"url\": \"https://www.goodreads.com/book/show/90872.Self_Help\", \"gender\": \"F\", \"type\": \"Fiction\", \"subgenre\": \"Short Stories\", \"avg_goodreads_rating\": 4.19, \"started\": \"2020-12-26T00:00:00\", \"date\": \"2020-12-27T00:00:00\", \"faves\": \"Y\", \"year\": \"2020\", \"days_to_read\": 1, \"gender_description\": \"Female\"}]}}, {\"mode\": \"vega-lite\"});\n",
       "</script>"
      ],
      "text/plain": [
       "alt.Chart(...)"
      ]
     },
     "execution_count": 30,
     "metadata": {},
     "output_type": "execute_result"
    }
   ],
   "source": [
    "# MOBILE\n",
    "alt.Chart(books_month).mark_circle(size=60).encode(\n",
    "    x=alt.X('days_to_read:Q', title='Days to read', axis=alt.Axis(tickCount=6)),\n",
    "    y=alt.Y('pages:Q', title='Number of pages', axis=alt.Axis(tickCount=5)),\n",
    "    tooltip=['title:N', 'author:O', 'avg_goodreads_rating:Q', 'pages:Q', 'days_to_read:Q']\n",
    ").properties(width=320, height=320)"
   ]
  },
  {
   "cell_type": "markdown",
   "metadata": {},
   "source": [
    "---"
   ]
  },
  {
   "cell_type": "markdown",
   "metadata": {},
   "source": [
    "### Which types of books did Elise read most?"
   ]
  },
  {
   "cell_type": "code",
   "execution_count": 31,
   "metadata": {},
   "outputs": [],
   "source": [
    "book_type = books.groupby(['type', 'year']).agg('size').reset_index(name='count').sort_values(by='count', ascending=False)"
   ]
  },
  {
   "cell_type": "code",
   "execution_count": 32,
   "metadata": {},
   "outputs": [
    {
     "data": {
      "text/html": [
       "<div>\n",
       "<style scoped>\n",
       "    .dataframe tbody tr th:only-of-type {\n",
       "        vertical-align: middle;\n",
       "    }\n",
       "\n",
       "    .dataframe tbody tr th {\n",
       "        vertical-align: top;\n",
       "    }\n",
       "\n",
       "    .dataframe thead th {\n",
       "        text-align: right;\n",
       "    }\n",
       "</style>\n",
       "<table border=\"1\" class=\"dataframe\">\n",
       "  <thead>\n",
       "    <tr style=\"text-align: right;\">\n",
       "      <th></th>\n",
       "      <th>type</th>\n",
       "      <th>year</th>\n",
       "      <th>count</th>\n",
       "    </tr>\n",
       "  </thead>\n",
       "  <tbody>\n",
       "    <tr>\n",
       "      <th>0</th>\n",
       "      <td>Fiction</td>\n",
       "      <td>2020</td>\n",
       "      <td>20</td>\n",
       "    </tr>\n",
       "    <tr>\n",
       "      <th>1</th>\n",
       "      <td>Non-Fiction</td>\n",
       "      <td>2020</td>\n",
       "      <td>18</td>\n",
       "    </tr>\n",
       "    <tr>\n",
       "      <th>2</th>\n",
       "      <td>Poetry</td>\n",
       "      <td>2020</td>\n",
       "      <td>1</td>\n",
       "    </tr>\n",
       "  </tbody>\n",
       "</table>\n",
       "</div>"
      ],
      "text/plain": [
       "          type  year  count\n",
       "0      Fiction  2020     20\n",
       "1  Non-Fiction  2020     18\n",
       "2       Poetry  2020      1"
      ]
     },
     "execution_count": 32,
     "metadata": {},
     "output_type": "execute_result"
    }
   ],
   "source": [
    "book_type.head()"
   ]
  },
  {
   "cell_type": "code",
   "execution_count": 33,
   "metadata": {},
   "outputs": [],
   "source": [
    "book_type['share'] = (book_type['count'] / 52)*100"
   ]
  },
  {
   "cell_type": "code",
   "execution_count": 34,
   "metadata": {},
   "outputs": [
    {
     "data": {
      "text/html": [
       "<div>\n",
       "<style scoped>\n",
       "    .dataframe tbody tr th:only-of-type {\n",
       "        vertical-align: middle;\n",
       "    }\n",
       "\n",
       "    .dataframe tbody tr th {\n",
       "        vertical-align: top;\n",
       "    }\n",
       "\n",
       "    .dataframe thead th {\n",
       "        text-align: right;\n",
       "    }\n",
       "</style>\n",
       "<table border=\"1\" class=\"dataframe\">\n",
       "  <thead>\n",
       "    <tr style=\"text-align: right;\">\n",
       "      <th></th>\n",
       "      <th>type</th>\n",
       "      <th>year</th>\n",
       "      <th>count</th>\n",
       "      <th>share</th>\n",
       "    </tr>\n",
       "  </thead>\n",
       "  <tbody>\n",
       "    <tr>\n",
       "      <th>0</th>\n",
       "      <td>Fiction</td>\n",
       "      <td>2020</td>\n",
       "      <td>20</td>\n",
       "      <td>38.46</td>\n",
       "    </tr>\n",
       "    <tr>\n",
       "      <th>1</th>\n",
       "      <td>Non-Fiction</td>\n",
       "      <td>2020</td>\n",
       "      <td>18</td>\n",
       "      <td>34.62</td>\n",
       "    </tr>\n",
       "    <tr>\n",
       "      <th>2</th>\n",
       "      <td>Poetry</td>\n",
       "      <td>2020</td>\n",
       "      <td>1</td>\n",
       "      <td>1.92</td>\n",
       "    </tr>\n",
       "  </tbody>\n",
       "</table>\n",
       "</div>"
      ],
      "text/plain": [
       "          type  year  count  share\n",
       "0      Fiction  2020     20  38.46\n",
       "1  Non-Fiction  2020     18  34.62\n",
       "2       Poetry  2020      1   1.92"
      ]
     },
     "execution_count": 34,
     "metadata": {},
     "output_type": "execute_result"
    }
   ],
   "source": [
    "book_type.head()"
   ]
  },
  {
   "cell_type": "code",
   "execution_count": 35,
   "metadata": {},
   "outputs": [
    {
     "data": {
      "text/html": [
       "\n",
       "<div id=\"altair-viz-93254e13902f44c7a15fc454f91b6d73\"></div>\n",
       "<script type=\"text/javascript\">\n",
       "  (function(spec, embedOpt){\n",
       "    let outputDiv = document.currentScript.previousElementSibling;\n",
       "    if (outputDiv.id !== \"altair-viz-93254e13902f44c7a15fc454f91b6d73\") {\n",
       "      outputDiv = document.getElementById(\"altair-viz-93254e13902f44c7a15fc454f91b6d73\");\n",
       "    }\n",
       "    const paths = {\n",
       "      \"vega\": \"https://cdn.jsdelivr.net/npm//vega@5?noext\",\n",
       "      \"vega-lib\": \"https://cdn.jsdelivr.net/npm//vega-lib?noext\",\n",
       "      \"vega-lite\": \"https://cdn.jsdelivr.net/npm//vega-lite@4.8.1?noext\",\n",
       "      \"vega-embed\": \"https://cdn.jsdelivr.net/npm//vega-embed@6?noext\",\n",
       "    };\n",
       "\n",
       "    function loadScript(lib) {\n",
       "      return new Promise(function(resolve, reject) {\n",
       "        var s = document.createElement('script');\n",
       "        s.src = paths[lib];\n",
       "        s.async = true;\n",
       "        s.onload = () => resolve(paths[lib]);\n",
       "        s.onerror = () => reject(`Error loading script: ${paths[lib]}`);\n",
       "        document.getElementsByTagName(\"head\")[0].appendChild(s);\n",
       "      });\n",
       "    }\n",
       "\n",
       "    function showError(err) {\n",
       "      outputDiv.innerHTML = `<div class=\"error\" style=\"color:red;\">${err}</div>`;\n",
       "      throw err;\n",
       "    }\n",
       "\n",
       "    function displayChart(vegaEmbed) {\n",
       "      vegaEmbed(outputDiv, spec, embedOpt)\n",
       "        .catch(err => showError(`Javascript Error: ${err.message}<br>This usually means there's a typo in your chart specification. See the javascript console for the full traceback.`));\n",
       "    }\n",
       "\n",
       "    if(typeof define === \"function\" && define.amd) {\n",
       "      requirejs.config({paths});\n",
       "      require([\"vega-embed\"], displayChart, err => showError(`Error loading script: ${err.message}`));\n",
       "    } else if (typeof vegaEmbed === \"function\") {\n",
       "      displayChart(vegaEmbed);\n",
       "    } else {\n",
       "      loadScript(\"vega\")\n",
       "        .then(() => loadScript(\"vega-lite\"))\n",
       "        .then(() => loadScript(\"vega-embed\"))\n",
       "        .catch(showError)\n",
       "        .then(() => displayChart(vegaEmbed));\n",
       "    }\n",
       "  })({\"usermeta\": {\"embedOptions\": {\"theme\": \"vox\"}}, \"config\": {\"view\": {\"continuousWidth\": 400, \"continuousHeight\": 300}}, \"data\": {\"name\": \"data-6ef56956c4ed5171d33009e9a855b837\"}, \"mark\": \"bar\", \"encoding\": {\"color\": {\"type\": \"nominal\", \"field\": \"type\", \"legend\": {\"orient\": \"top\", \"title\": \"Book type\"}}, \"order\": {\"type\": \"nominal\", \"field\": \"type\", \"sort\": \"ascending\"}, \"x\": {\"type\": \"quantitative\", \"aggregate\": \"sum\", \"axis\": {\"format\": \"%\", \"tickCount\": 6}, \"field\": \"count\", \"stack\": \"normalize\", \"title\": \"Share of books read by genre\"}, \"y\": {\"type\": \"nominal\", \"field\": \"year\", \"title\": \"\"}}, \"height\": 40, \"width\": 700, \"$schema\": \"https://vega.github.io/schema/vega-lite/v4.8.1.json\", \"datasets\": {\"data-6ef56956c4ed5171d33009e9a855b837\": [{\"type\": \"Fiction\", \"year\": \"2020\", \"count\": 20, \"share\": 38.46153846153847}, {\"type\": \"Non-Fiction\", \"year\": \"2020\", \"count\": 18, \"share\": 34.61538461538461}, {\"type\": \"Poetry\", \"year\": \"2020\", \"count\": 1, \"share\": 1.9230769230769231}]}}, {\"mode\": \"vega-lite\"});\n",
       "</script>"
      ],
      "text/plain": [
       "alt.Chart(...)"
      ]
     },
     "execution_count": 35,
     "metadata": {},
     "output_type": "execute_result"
    }
   ],
   "source": [
    "book_type_chart = alt.Chart(book_type).mark_bar().encode(\n",
    "    x=alt.X('sum(count)', stack=\"normalize\",  title='Share of books read by genre', \\\n",
    "            axis=alt.Axis(format='%',tickCount=6)),\n",
    "    y=alt.Y('year',title=''),\n",
    "    order=alt.Order(\n",
    "      # Sort the segments of the bars by this field\n",
    "      'type',\n",
    "      sort='ascending'\n",
    "    ),\n",
    "    color=alt.Color('type', legend=alt.Legend(orient=\"top\", title='Book type'))\n",
    ")\n",
    "\n",
    "(book_type_chart).properties(height=40,width=700)"
   ]
  },
  {
   "cell_type": "code",
   "execution_count": 36,
   "metadata": {},
   "outputs": [
    {
     "data": {
      "text/html": [
       "\n",
       "<div id=\"altair-viz-ca6dc42b2b2e4bff8efb93eda990c066\"></div>\n",
       "<script type=\"text/javascript\">\n",
       "  (function(spec, embedOpt){\n",
       "    let outputDiv = document.currentScript.previousElementSibling;\n",
       "    if (outputDiv.id !== \"altair-viz-ca6dc42b2b2e4bff8efb93eda990c066\") {\n",
       "      outputDiv = document.getElementById(\"altair-viz-ca6dc42b2b2e4bff8efb93eda990c066\");\n",
       "    }\n",
       "    const paths = {\n",
       "      \"vega\": \"https://cdn.jsdelivr.net/npm//vega@5?noext\",\n",
       "      \"vega-lib\": \"https://cdn.jsdelivr.net/npm//vega-lib?noext\",\n",
       "      \"vega-lite\": \"https://cdn.jsdelivr.net/npm//vega-lite@4.8.1?noext\",\n",
       "      \"vega-embed\": \"https://cdn.jsdelivr.net/npm//vega-embed@6?noext\",\n",
       "    };\n",
       "\n",
       "    function loadScript(lib) {\n",
       "      return new Promise(function(resolve, reject) {\n",
       "        var s = document.createElement('script');\n",
       "        s.src = paths[lib];\n",
       "        s.async = true;\n",
       "        s.onload = () => resolve(paths[lib]);\n",
       "        s.onerror = () => reject(`Error loading script: ${paths[lib]}`);\n",
       "        document.getElementsByTagName(\"head\")[0].appendChild(s);\n",
       "      });\n",
       "    }\n",
       "\n",
       "    function showError(err) {\n",
       "      outputDiv.innerHTML = `<div class=\"error\" style=\"color:red;\">${err}</div>`;\n",
       "      throw err;\n",
       "    }\n",
       "\n",
       "    function displayChart(vegaEmbed) {\n",
       "      vegaEmbed(outputDiv, spec, embedOpt)\n",
       "        .catch(err => showError(`Javascript Error: ${err.message}<br>This usually means there's a typo in your chart specification. See the javascript console for the full traceback.`));\n",
       "    }\n",
       "\n",
       "    if(typeof define === \"function\" && define.amd) {\n",
       "      requirejs.config({paths});\n",
       "      require([\"vega-embed\"], displayChart, err => showError(`Error loading script: ${err.message}`));\n",
       "    } else if (typeof vegaEmbed === \"function\") {\n",
       "      displayChart(vegaEmbed);\n",
       "    } else {\n",
       "      loadScript(\"vega\")\n",
       "        .then(() => loadScript(\"vega-lite\"))\n",
       "        .then(() => loadScript(\"vega-embed\"))\n",
       "        .catch(showError)\n",
       "        .then(() => displayChart(vegaEmbed));\n",
       "    }\n",
       "  })({\"usermeta\": {\"embedOptions\": {\"theme\": \"vox\"}}, \"config\": {\"view\": {\"continuousWidth\": 400, \"continuousHeight\": 300}}, \"data\": {\"name\": \"data-6ef56956c4ed5171d33009e9a855b837\"}, \"mark\": \"bar\", \"encoding\": {\"color\": {\"type\": \"nominal\", \"field\": \"type\", \"legend\": {\"orient\": \"top\", \"title\": \"Book type\"}}, \"order\": {\"type\": \"nominal\", \"field\": \"type\", \"sort\": \"ascending\"}, \"x\": {\"type\": \"quantitative\", \"aggregate\": \"sum\", \"axis\": {\"format\": \"%\", \"tickCount\": 6}, \"field\": \"count\", \"stack\": \"normalize\", \"title\": \"Share of books read by genre\"}, \"y\": {\"type\": \"nominal\", \"field\": \"year\", \"title\": \"\"}}, \"height\": 40, \"width\": 320, \"$schema\": \"https://vega.github.io/schema/vega-lite/v4.8.1.json\", \"datasets\": {\"data-6ef56956c4ed5171d33009e9a855b837\": [{\"type\": \"Fiction\", \"year\": \"2020\", \"count\": 20, \"share\": 38.46153846153847}, {\"type\": \"Non-Fiction\", \"year\": \"2020\", \"count\": 18, \"share\": 34.61538461538461}, {\"type\": \"Poetry\", \"year\": \"2020\", \"count\": 1, \"share\": 1.9230769230769231}]}}, {\"mode\": \"vega-lite\"});\n",
       "</script>"
      ],
      "text/plain": [
       "alt.Chart(...)"
      ]
     },
     "execution_count": 36,
     "metadata": {},
     "output_type": "execute_result"
    }
   ],
   "source": [
    "(book_type_chart).properties(height=40,width=320)"
   ]
  },
  {
   "cell_type": "markdown",
   "metadata": {},
   "source": [
    "---"
   ]
  },
  {
   "cell_type": "markdown",
   "metadata": {},
   "source": [
    "### Which genre of books did Elise read most?"
   ]
  },
  {
   "cell_type": "code",
   "execution_count": 37,
   "metadata": {},
   "outputs": [
    {
     "data": {
      "text/html": [
       "<div>\n",
       "<style scoped>\n",
       "    .dataframe tbody tr th:only-of-type {\n",
       "        vertical-align: middle;\n",
       "    }\n",
       "\n",
       "    .dataframe tbody tr th {\n",
       "        vertical-align: top;\n",
       "    }\n",
       "\n",
       "    .dataframe thead th {\n",
       "        text-align: right;\n",
       "    }\n",
       "</style>\n",
       "<table border=\"1\" class=\"dataframe\">\n",
       "  <thead>\n",
       "    <tr style=\"text-align: right;\">\n",
       "      <th></th>\n",
       "      <th>subgenre</th>\n",
       "      <th>count</th>\n",
       "    </tr>\n",
       "  </thead>\n",
       "  <tbody>\n",
       "    <tr>\n",
       "      <th>2</th>\n",
       "      <td>Contemporary</td>\n",
       "      <td>10</td>\n",
       "    </tr>\n",
       "    <tr>\n",
       "      <th>4</th>\n",
       "      <td>Essays</td>\n",
       "      <td>4</td>\n",
       "    </tr>\n",
       "    <tr>\n",
       "      <th>9</th>\n",
       "      <td>Psychology</td>\n",
       "      <td>3</td>\n",
       "    </tr>\n",
       "    <tr>\n",
       "      <th>12</th>\n",
       "      <td>Short Stories</td>\n",
       "      <td>3</td>\n",
       "    </tr>\n",
       "    <tr>\n",
       "      <th>0</th>\n",
       "      <td>Business</td>\n",
       "      <td>2</td>\n",
       "    </tr>\n",
       "  </tbody>\n",
       "</table>\n",
       "</div>"
      ],
      "text/plain": [
       "         subgenre  count\n",
       "2    Contemporary     10\n",
       "4          Essays      4\n",
       "9      Psychology      3\n",
       "12  Short Stories      3\n",
       "0        Business      2"
      ]
     },
     "execution_count": 37,
     "metadata": {},
     "output_type": "execute_result"
    }
   ],
   "source": [
    "book_genre = books.groupby('subgenre').agg('size').reset_index(name='count')\\\n",
    ".sort_values(by='count', ascending=False)\n",
    "book_genre.head()"
   ]
  },
  {
   "cell_type": "markdown",
   "metadata": {},
   "source": [
    "### Books read by sub-genre"
   ]
  },
  {
   "cell_type": "code",
   "execution_count": 38,
   "metadata": {},
   "outputs": [
    {
     "data": {
      "text/html": [
       "\n",
       "<div id=\"altair-viz-17a8002783af4f63a5375f6b4948fad4\"></div>\n",
       "<script type=\"text/javascript\">\n",
       "  (function(spec, embedOpt){\n",
       "    let outputDiv = document.currentScript.previousElementSibling;\n",
       "    if (outputDiv.id !== \"altair-viz-17a8002783af4f63a5375f6b4948fad4\") {\n",
       "      outputDiv = document.getElementById(\"altair-viz-17a8002783af4f63a5375f6b4948fad4\");\n",
       "    }\n",
       "    const paths = {\n",
       "      \"vega\": \"https://cdn.jsdelivr.net/npm//vega@5?noext\",\n",
       "      \"vega-lib\": \"https://cdn.jsdelivr.net/npm//vega-lib?noext\",\n",
       "      \"vega-lite\": \"https://cdn.jsdelivr.net/npm//vega-lite@4.8.1?noext\",\n",
       "      \"vega-embed\": \"https://cdn.jsdelivr.net/npm//vega-embed@6?noext\",\n",
       "    };\n",
       "\n",
       "    function loadScript(lib) {\n",
       "      return new Promise(function(resolve, reject) {\n",
       "        var s = document.createElement('script');\n",
       "        s.src = paths[lib];\n",
       "        s.async = true;\n",
       "        s.onload = () => resolve(paths[lib]);\n",
       "        s.onerror = () => reject(`Error loading script: ${paths[lib]}`);\n",
       "        document.getElementsByTagName(\"head\")[0].appendChild(s);\n",
       "      });\n",
       "    }\n",
       "\n",
       "    function showError(err) {\n",
       "      outputDiv.innerHTML = `<div class=\"error\" style=\"color:red;\">${err}</div>`;\n",
       "      throw err;\n",
       "    }\n",
       "\n",
       "    function displayChart(vegaEmbed) {\n",
       "      vegaEmbed(outputDiv, spec, embedOpt)\n",
       "        .catch(err => showError(`Javascript Error: ${err.message}<br>This usually means there's a typo in your chart specification. See the javascript console for the full traceback.`));\n",
       "    }\n",
       "\n",
       "    if(typeof define === \"function\" && define.amd) {\n",
       "      requirejs.config({paths});\n",
       "      require([\"vega-embed\"], displayChart, err => showError(`Error loading script: ${err.message}`));\n",
       "    } else if (typeof vegaEmbed === \"function\") {\n",
       "      displayChart(vegaEmbed);\n",
       "    } else {\n",
       "      loadScript(\"vega\")\n",
       "        .then(() => loadScript(\"vega-lite\"))\n",
       "        .then(() => loadScript(\"vega-embed\"))\n",
       "        .catch(showError)\n",
       "        .then(() => displayChart(vegaEmbed));\n",
       "    }\n",
       "  })({\"usermeta\": {\"embedOptions\": {\"theme\": \"vox\"}}, \"config\": {\"view\": {\"continuousWidth\": 400, \"continuousHeight\": 300}}, \"data\": {\"name\": \"data-ea90124ade24d3136052c6f730c0cc11\"}, \"mark\": \"bar\", \"encoding\": {\"x\": {\"type\": \"quantitative\", \"axis\": {\"format\": \"\", \"tickCount\": 6}, \"field\": \"count\", \"title\": \" \"}, \"y\": {\"type\": \"nominal\", \"field\": \"subgenre\", \"sort\": {\"field\": \"count:Q\", \"op\": \"sum\", \"order\": \"ascending\"}, \"title\": \" \"}}, \"height\": 500, \"title\": \"\", \"width\": 700, \"$schema\": \"https://vega.github.io/schema/vega-lite/v4.8.1.json\", \"datasets\": {\"data-ea90124ade24d3136052c6f730c0cc11\": [{\"subgenre\": \"Contemporary\", \"count\": 10}, {\"subgenre\": \"Essays\", \"count\": 4}, {\"subgenre\": \"Psychology\", \"count\": 3}, {\"subgenre\": \"Short Stories\", \"count\": 3}, {\"subgenre\": \"Business\", \"count\": 2}, {\"subgenre\": \"Young Adult\", \"count\": 2}, {\"subgenre\": \"Self Help\", \"count\": 2}, {\"subgenre\": \"Romance\", \"count\": 2}, {\"subgenre\": \"historical\", \"count\": 2}, {\"subgenre\": \"Current Events\", \"count\": 2}, {\"subgenre\": \"Classic\", \"count\": 1}, {\"subgenre\": \"Memoir\", \"count\": 1}, {\"subgenre\": \"LGBT\", \"count\": 1}, {\"subgenre\": \"History\", \"count\": 1}, {\"subgenre\": \"Spirituality\", \"count\": 1}, {\"subgenre\": \"Writing\", \"count\": 1}, {\"subgenre\": \"Poetry\", \"count\": 1}]}}, {\"mode\": \"vega-lite\"});\n",
       "</script>"
      ],
      "text/plain": [
       "alt.Chart(...)"
      ]
     },
     "execution_count": 38,
     "metadata": {},
     "output_type": "execute_result"
    }
   ],
   "source": [
    "#DESKTOP\n",
    "book_genre_chart = alt.Chart(book_genre).mark_bar().encode(\n",
    "    y=alt.Y(\"subgenre:N\", title=' ',\n",
    "           sort=alt.EncodingSortField(\n",
    "            field=\"count:Q\",  # The field to use for the sort\n",
    "            op=\"sum\",  # The operation to run on the field prior to sorting\n",
    "            order=\"ascending\"  # The order to sort in\n",
    "        )),\n",
    "    x=alt.X(\"count:Q\", title=' ', axis=alt.Axis(tickCount=6, format=''))\n",
    ")\n",
    "\n",
    "book_genre_chart.properties(height=500, width=700, title='')"
   ]
  },
  {
   "cell_type": "code",
   "execution_count": 39,
   "metadata": {},
   "outputs": [
    {
     "data": {
      "text/html": [
       "\n",
       "<div id=\"altair-viz-6ac6a6d1e03448b2a9ec95b9fd2f4222\"></div>\n",
       "<script type=\"text/javascript\">\n",
       "  (function(spec, embedOpt){\n",
       "    let outputDiv = document.currentScript.previousElementSibling;\n",
       "    if (outputDiv.id !== \"altair-viz-6ac6a6d1e03448b2a9ec95b9fd2f4222\") {\n",
       "      outputDiv = document.getElementById(\"altair-viz-6ac6a6d1e03448b2a9ec95b9fd2f4222\");\n",
       "    }\n",
       "    const paths = {\n",
       "      \"vega\": \"https://cdn.jsdelivr.net/npm//vega@5?noext\",\n",
       "      \"vega-lib\": \"https://cdn.jsdelivr.net/npm//vega-lib?noext\",\n",
       "      \"vega-lite\": \"https://cdn.jsdelivr.net/npm//vega-lite@4.8.1?noext\",\n",
       "      \"vega-embed\": \"https://cdn.jsdelivr.net/npm//vega-embed@6?noext\",\n",
       "    };\n",
       "\n",
       "    function loadScript(lib) {\n",
       "      return new Promise(function(resolve, reject) {\n",
       "        var s = document.createElement('script');\n",
       "        s.src = paths[lib];\n",
       "        s.async = true;\n",
       "        s.onload = () => resolve(paths[lib]);\n",
       "        s.onerror = () => reject(`Error loading script: ${paths[lib]}`);\n",
       "        document.getElementsByTagName(\"head\")[0].appendChild(s);\n",
       "      });\n",
       "    }\n",
       "\n",
       "    function showError(err) {\n",
       "      outputDiv.innerHTML = `<div class=\"error\" style=\"color:red;\">${err}</div>`;\n",
       "      throw err;\n",
       "    }\n",
       "\n",
       "    function displayChart(vegaEmbed) {\n",
       "      vegaEmbed(outputDiv, spec, embedOpt)\n",
       "        .catch(err => showError(`Javascript Error: ${err.message}<br>This usually means there's a typo in your chart specification. See the javascript console for the full traceback.`));\n",
       "    }\n",
       "\n",
       "    if(typeof define === \"function\" && define.amd) {\n",
       "      requirejs.config({paths});\n",
       "      require([\"vega-embed\"], displayChart, err => showError(`Error loading script: ${err.message}`));\n",
       "    } else if (typeof vegaEmbed === \"function\") {\n",
       "      displayChart(vegaEmbed);\n",
       "    } else {\n",
       "      loadScript(\"vega\")\n",
       "        .then(() => loadScript(\"vega-lite\"))\n",
       "        .then(() => loadScript(\"vega-embed\"))\n",
       "        .catch(showError)\n",
       "        .then(() => displayChart(vegaEmbed));\n",
       "    }\n",
       "  })({\"usermeta\": {\"embedOptions\": {\"theme\": \"vox\"}}, \"config\": {\"view\": {\"continuousWidth\": 400, \"continuousHeight\": 300}}, \"data\": {\"name\": \"data-ea90124ade24d3136052c6f730c0cc11\"}, \"mark\": \"bar\", \"encoding\": {\"x\": {\"type\": \"quantitative\", \"axis\": {\"format\": \"\", \"tickCount\": 6}, \"field\": \"count\", \"title\": \" \"}, \"y\": {\"type\": \"nominal\", \"field\": \"subgenre\", \"sort\": {\"field\": \"count:Q\", \"op\": \"sum\", \"order\": \"ascending\"}, \"title\": \" \"}}, \"height\": 500, \"title\": \"\", \"width\": 320, \"$schema\": \"https://vega.github.io/schema/vega-lite/v4.8.1.json\", \"datasets\": {\"data-ea90124ade24d3136052c6f730c0cc11\": [{\"subgenre\": \"Contemporary\", \"count\": 10}, {\"subgenre\": \"Essays\", \"count\": 4}, {\"subgenre\": \"Psychology\", \"count\": 3}, {\"subgenre\": \"Short Stories\", \"count\": 3}, {\"subgenre\": \"Business\", \"count\": 2}, {\"subgenre\": \"Young Adult\", \"count\": 2}, {\"subgenre\": \"Self Help\", \"count\": 2}, {\"subgenre\": \"Romance\", \"count\": 2}, {\"subgenre\": \"historical\", \"count\": 2}, {\"subgenre\": \"Current Events\", \"count\": 2}, {\"subgenre\": \"Classic\", \"count\": 1}, {\"subgenre\": \"Memoir\", \"count\": 1}, {\"subgenre\": \"LGBT\", \"count\": 1}, {\"subgenre\": \"History\", \"count\": 1}, {\"subgenre\": \"Spirituality\", \"count\": 1}, {\"subgenre\": \"Writing\", \"count\": 1}, {\"subgenre\": \"Poetry\", \"count\": 1}]}}, {\"mode\": \"vega-lite\"});\n",
       "</script>"
      ],
      "text/plain": [
       "alt.Chart(...)"
      ]
     },
     "execution_count": 39,
     "metadata": {},
     "output_type": "execute_result"
    }
   ],
   "source": [
    "#MOBILE \n",
    "book_genre_chart.properties(height=500, width=320, title='')"
   ]
  },
  {
   "cell_type": "markdown",
   "metadata": {},
   "source": [
    "---"
   ]
  },
  {
   "cell_type": "markdown",
   "metadata": {},
   "source": [
    "### Memior as share of all non-fiction books read"
   ]
  },
  {
   "cell_type": "code",
   "execution_count": 40,
   "metadata": {},
   "outputs": [
    {
     "data": {
      "text/html": [
       "<div>\n",
       "<style scoped>\n",
       "    .dataframe tbody tr th:only-of-type {\n",
       "        vertical-align: middle;\n",
       "    }\n",
       "\n",
       "    .dataframe tbody tr th {\n",
       "        vertical-align: top;\n",
       "    }\n",
       "\n",
       "    .dataframe thead th {\n",
       "        text-align: right;\n",
       "    }\n",
       "</style>\n",
       "<table border=\"1\" class=\"dataframe\">\n",
       "  <thead>\n",
       "    <tr style=\"text-align: right;\">\n",
       "      <th></th>\n",
       "      <th>subgenre</th>\n",
       "      <th>count</th>\n",
       "    </tr>\n",
       "  </thead>\n",
       "  <tbody>\n",
       "    <tr>\n",
       "      <th>2</th>\n",
       "      <td>Essays</td>\n",
       "      <td>4</td>\n",
       "    </tr>\n",
       "    <tr>\n",
       "      <th>6</th>\n",
       "      <td>Psychology</td>\n",
       "      <td>3</td>\n",
       "    </tr>\n",
       "    <tr>\n",
       "      <th>0</th>\n",
       "      <td>Business</td>\n",
       "      <td>2</td>\n",
       "    </tr>\n",
       "    <tr>\n",
       "      <th>1</th>\n",
       "      <td>Current Events</td>\n",
       "      <td>2</td>\n",
       "    </tr>\n",
       "    <tr>\n",
       "      <th>7</th>\n",
       "      <td>Self Help</td>\n",
       "      <td>2</td>\n",
       "    </tr>\n",
       "    <tr>\n",
       "      <th>3</th>\n",
       "      <td>History</td>\n",
       "      <td>1</td>\n",
       "    </tr>\n",
       "    <tr>\n",
       "      <th>4</th>\n",
       "      <td>Memoir</td>\n",
       "      <td>1</td>\n",
       "    </tr>\n",
       "    <tr>\n",
       "      <th>5</th>\n",
       "      <td>Poetry</td>\n",
       "      <td>1</td>\n",
       "    </tr>\n",
       "    <tr>\n",
       "      <th>8</th>\n",
       "      <td>Spirituality</td>\n",
       "      <td>1</td>\n",
       "    </tr>\n",
       "    <tr>\n",
       "      <th>9</th>\n",
       "      <td>Writing</td>\n",
       "      <td>1</td>\n",
       "    </tr>\n",
       "  </tbody>\n",
       "</table>\n",
       "</div>"
      ],
      "text/plain": [
       "         subgenre  count\n",
       "2          Essays      4\n",
       "6      Psychology      3\n",
       "0        Business      2\n",
       "1  Current Events      2\n",
       "7       Self Help      2\n",
       "3         History      1\n",
       "4          Memoir      1\n",
       "5          Poetry      1\n",
       "8    Spirituality      1\n",
       "9         Writing      1"
      ]
     },
     "execution_count": 40,
     "metadata": {},
     "output_type": "execute_result"
    }
   ],
   "source": [
    "nonfiction = books[books['type'] == 'Non-Fiction'].groupby('subgenre').agg('size').reset_index(name='count')\\\n",
    ".sort_values(by='count', ascending=False)\n",
    "nonfiction.head(20)"
   ]
  },
  {
   "cell_type": "code",
   "execution_count": 41,
   "metadata": {},
   "outputs": [],
   "source": [
    "nonfiction['share'] = (nonfiction['count'] / 28) * 100"
   ]
  },
  {
   "cell_type": "code",
   "execution_count": 42,
   "metadata": {},
   "outputs": [
    {
     "data": {
      "text/html": [
       "<div>\n",
       "<style scoped>\n",
       "    .dataframe tbody tr th:only-of-type {\n",
       "        vertical-align: middle;\n",
       "    }\n",
       "\n",
       "    .dataframe tbody tr th {\n",
       "        vertical-align: top;\n",
       "    }\n",
       "\n",
       "    .dataframe thead th {\n",
       "        text-align: right;\n",
       "    }\n",
       "</style>\n",
       "<table border=\"1\" class=\"dataframe\">\n",
       "  <thead>\n",
       "    <tr style=\"text-align: right;\">\n",
       "      <th></th>\n",
       "      <th>subgenre</th>\n",
       "      <th>count</th>\n",
       "      <th>share</th>\n",
       "    </tr>\n",
       "  </thead>\n",
       "  <tbody>\n",
       "    <tr>\n",
       "      <th>2</th>\n",
       "      <td>Essays</td>\n",
       "      <td>4</td>\n",
       "      <td>14.29</td>\n",
       "    </tr>\n",
       "    <tr>\n",
       "      <th>6</th>\n",
       "      <td>Psychology</td>\n",
       "      <td>3</td>\n",
       "      <td>10.71</td>\n",
       "    </tr>\n",
       "    <tr>\n",
       "      <th>0</th>\n",
       "      <td>Business</td>\n",
       "      <td>2</td>\n",
       "      <td>7.14</td>\n",
       "    </tr>\n",
       "    <tr>\n",
       "      <th>1</th>\n",
       "      <td>Current Events</td>\n",
       "      <td>2</td>\n",
       "      <td>7.14</td>\n",
       "    </tr>\n",
       "    <tr>\n",
       "      <th>7</th>\n",
       "      <td>Self Help</td>\n",
       "      <td>2</td>\n",
       "      <td>7.14</td>\n",
       "    </tr>\n",
       "  </tbody>\n",
       "</table>\n",
       "</div>"
      ],
      "text/plain": [
       "         subgenre  count  share\n",
       "2          Essays      4  14.29\n",
       "6      Psychology      3  10.71\n",
       "0        Business      2   7.14\n",
       "1  Current Events      2   7.14\n",
       "7       Self Help      2   7.14"
      ]
     },
     "execution_count": 42,
     "metadata": {},
     "output_type": "execute_result"
    }
   ],
   "source": [
    "nonfiction.head()"
   ]
  },
  {
   "cell_type": "markdown",
   "metadata": {},
   "source": [
    "### What share of the books Elise read were by female authors? "
   ]
  },
  {
   "cell_type": "code",
   "execution_count": 43,
   "metadata": {},
   "outputs": [],
   "source": [
    "book_gender = books.groupby(['gender_description', 'year'])\\\n",
    ".agg('size').reset_index(name='count').sort_values(by='count', ascending=False)"
   ]
  },
  {
   "cell_type": "code",
   "execution_count": 44,
   "metadata": {},
   "outputs": [
    {
     "data": {
      "text/html": [
       "<div>\n",
       "<style scoped>\n",
       "    .dataframe tbody tr th:only-of-type {\n",
       "        vertical-align: middle;\n",
       "    }\n",
       "\n",
       "    .dataframe tbody tr th {\n",
       "        vertical-align: top;\n",
       "    }\n",
       "\n",
       "    .dataframe thead th {\n",
       "        text-align: right;\n",
       "    }\n",
       "</style>\n",
       "<table border=\"1\" class=\"dataframe\">\n",
       "  <thead>\n",
       "    <tr style=\"text-align: right;\">\n",
       "      <th></th>\n",
       "      <th>gender_description</th>\n",
       "      <th>year</th>\n",
       "      <th>count</th>\n",
       "    </tr>\n",
       "  </thead>\n",
       "  <tbody>\n",
       "    <tr>\n",
       "      <th>0</th>\n",
       "      <td>Female</td>\n",
       "      <td>2020</td>\n",
       "      <td>24</td>\n",
       "    </tr>\n",
       "    <tr>\n",
       "      <th>1</th>\n",
       "      <td>Male</td>\n",
       "      <td>2020</td>\n",
       "      <td>15</td>\n",
       "    </tr>\n",
       "  </tbody>\n",
       "</table>\n",
       "</div>"
      ],
      "text/plain": [
       "  gender_description  year  count\n",
       "0             Female  2020     24\n",
       "1               Male  2020     15"
      ]
     },
     "execution_count": 44,
     "metadata": {},
     "output_type": "execute_result"
    }
   ],
   "source": [
    "book_gender.head()"
   ]
  },
  {
   "cell_type": "code",
   "execution_count": 45,
   "metadata": {},
   "outputs": [],
   "source": [
    "book_gender['share'] = (book_gender['count'] / 52)*100"
   ]
  },
  {
   "cell_type": "markdown",
   "metadata": {},
   "source": [
    "### How does that gender breakdown look in a bar chart?"
   ]
  },
  {
   "cell_type": "code",
   "execution_count": 46,
   "metadata": {},
   "outputs": [
    {
     "data": {
      "text/html": [
       "\n",
       "<div id=\"altair-viz-18de1200c8d944a0a6ef3237e0b5cc69\"></div>\n",
       "<script type=\"text/javascript\">\n",
       "  (function(spec, embedOpt){\n",
       "    let outputDiv = document.currentScript.previousElementSibling;\n",
       "    if (outputDiv.id !== \"altair-viz-18de1200c8d944a0a6ef3237e0b5cc69\") {\n",
       "      outputDiv = document.getElementById(\"altair-viz-18de1200c8d944a0a6ef3237e0b5cc69\");\n",
       "    }\n",
       "    const paths = {\n",
       "      \"vega\": \"https://cdn.jsdelivr.net/npm//vega@5?noext\",\n",
       "      \"vega-lib\": \"https://cdn.jsdelivr.net/npm//vega-lib?noext\",\n",
       "      \"vega-lite\": \"https://cdn.jsdelivr.net/npm//vega-lite@4.8.1?noext\",\n",
       "      \"vega-embed\": \"https://cdn.jsdelivr.net/npm//vega-embed@6?noext\",\n",
       "    };\n",
       "\n",
       "    function loadScript(lib) {\n",
       "      return new Promise(function(resolve, reject) {\n",
       "        var s = document.createElement('script');\n",
       "        s.src = paths[lib];\n",
       "        s.async = true;\n",
       "        s.onload = () => resolve(paths[lib]);\n",
       "        s.onerror = () => reject(`Error loading script: ${paths[lib]}`);\n",
       "        document.getElementsByTagName(\"head\")[0].appendChild(s);\n",
       "      });\n",
       "    }\n",
       "\n",
       "    function showError(err) {\n",
       "      outputDiv.innerHTML = `<div class=\"error\" style=\"color:red;\">${err}</div>`;\n",
       "      throw err;\n",
       "    }\n",
       "\n",
       "    function displayChart(vegaEmbed) {\n",
       "      vegaEmbed(outputDiv, spec, embedOpt)\n",
       "        .catch(err => showError(`Javascript Error: ${err.message}<br>This usually means there's a typo in your chart specification. See the javascript console for the full traceback.`));\n",
       "    }\n",
       "\n",
       "    if(typeof define === \"function\" && define.amd) {\n",
       "      requirejs.config({paths});\n",
       "      require([\"vega-embed\"], displayChart, err => showError(`Error loading script: ${err.message}`));\n",
       "    } else if (typeof vegaEmbed === \"function\") {\n",
       "      displayChart(vegaEmbed);\n",
       "    } else {\n",
       "      loadScript(\"vega\")\n",
       "        .then(() => loadScript(\"vega-lite\"))\n",
       "        .then(() => loadScript(\"vega-embed\"))\n",
       "        .catch(showError)\n",
       "        .then(() => displayChart(vegaEmbed));\n",
       "    }\n",
       "  })({\"usermeta\": {\"embedOptions\": {\"theme\": \"vox\"}}, \"config\": {\"view\": {\"continuousWidth\": 400, \"continuousHeight\": 300}}, \"layer\": [{\"mark\": \"bar\", \"encoding\": {\"color\": {\"type\": \"nominal\", \"field\": \"gender_description\", \"legend\": null}, \"x\": {\"type\": \"quantitative\", \"aggregate\": \"sum\", \"axis\": {\"format\": \"%\", \"tickCount\": 6}, \"field\": \"count\", \"stack\": \"normalize\", \"title\": \"Share of books read by author gender\"}, \"y\": {\"type\": \"nominal\", \"field\": \"year\", \"sort\": {\"field\": \"count:N\", \"op\": \"count\", \"order\": \"descending\"}, \"title\": \"\"}}}, {\"mark\": {\"type\": \"text\", \"align\": \"right\", \"baseline\": \"middle\", \"dx\": -10}, \"encoding\": {\"color\": {\"condition\": {\"value\": \"white\", \"test\": \"(datum.year === '2019')\"}, \"value\": \"white\"}, \"text\": {\"type\": \"nominal\", \"field\": \"gender_description\"}, \"x\": {\"type\": \"quantitative\", \"aggregate\": \"sum\", \"axis\": {\"format\": \"%\", \"tickCount\": 6}, \"field\": \"count\", \"stack\": \"normalize\", \"title\": \"Share of books read by author gender\"}, \"y\": {\"type\": \"nominal\", \"field\": \"year\", \"sort\": {\"field\": \"count:N\", \"op\": \"count\", \"order\": \"descending\"}, \"title\": \"\"}}}], \"data\": {\"name\": \"data-4a5dff54d3e27d38d5f3fa97da9ab68c\"}, \"height\": 30, \"width\": 700, \"$schema\": \"https://vega.github.io/schema/vega-lite/v4.8.1.json\", \"datasets\": {\"data-4a5dff54d3e27d38d5f3fa97da9ab68c\": [{\"gender_description\": \"Female\", \"year\": \"2020\", \"count\": 24, \"share\": 46.15384615384615}, {\"gender_description\": \"Male\", \"year\": \"2020\", \"count\": 15, \"share\": 28.846153846153843}]}}, {\"mode\": \"vega-lite\"});\n",
       "</script>"
      ],
      "text/plain": [
       "alt.LayerChart(...)"
      ]
     },
     "execution_count": 46,
     "metadata": {},
     "output_type": "execute_result"
    }
   ],
   "source": [
    "book_gender_chart = alt.Chart(book_gender).mark_bar().encode(\n",
    "    x=alt.X('sum(count)', stack=\"normalize\",  title='Share of books read by author gender',\\\n",
    "            axis=alt.Axis(format='%',tickCount=6)),\n",
    "    y=alt.Y('year',title='',\n",
    "            sort=alt.EncodingSortField(\n",
    "            field=\"count:N\",  # The field to use for the sort\n",
    "            op=\"count\",  # The operation to run on the field prior to sorting\n",
    "            order=\"descending\"  # The order to sort in)\n",
    "            )),\n",
    "    color=alt.Color('gender_description', legend=None)\n",
    ")\n",
    "\n",
    "book_gender_chart_text = book_gender_chart.mark_text(\n",
    "    align='right',\n",
    "    baseline='middle',\n",
    "    dx=-10\n",
    ").encode(text=alt.Text('gender_description'), \n",
    "    color=alt.condition(\n",
    "        alt.datum.year == '2019',\n",
    "        alt.value('white'),\n",
    "        alt.value('white')\n",
    "    )\n",
    ")\n",
    "\n",
    "(book_gender_chart + book_gender_chart_text).properties(height=30,width=700)"
   ]
  },
  {
   "cell_type": "code",
   "execution_count": 47,
   "metadata": {},
   "outputs": [
    {
     "data": {
      "text/html": [
       "\n",
       "<div id=\"altair-viz-dd7d92b1ea624c3b85ec281d9cc03ef7\"></div>\n",
       "<script type=\"text/javascript\">\n",
       "  (function(spec, embedOpt){\n",
       "    let outputDiv = document.currentScript.previousElementSibling;\n",
       "    if (outputDiv.id !== \"altair-viz-dd7d92b1ea624c3b85ec281d9cc03ef7\") {\n",
       "      outputDiv = document.getElementById(\"altair-viz-dd7d92b1ea624c3b85ec281d9cc03ef7\");\n",
       "    }\n",
       "    const paths = {\n",
       "      \"vega\": \"https://cdn.jsdelivr.net/npm//vega@5?noext\",\n",
       "      \"vega-lib\": \"https://cdn.jsdelivr.net/npm//vega-lib?noext\",\n",
       "      \"vega-lite\": \"https://cdn.jsdelivr.net/npm//vega-lite@4.8.1?noext\",\n",
       "      \"vega-embed\": \"https://cdn.jsdelivr.net/npm//vega-embed@6?noext\",\n",
       "    };\n",
       "\n",
       "    function loadScript(lib) {\n",
       "      return new Promise(function(resolve, reject) {\n",
       "        var s = document.createElement('script');\n",
       "        s.src = paths[lib];\n",
       "        s.async = true;\n",
       "        s.onload = () => resolve(paths[lib]);\n",
       "        s.onerror = () => reject(`Error loading script: ${paths[lib]}`);\n",
       "        document.getElementsByTagName(\"head\")[0].appendChild(s);\n",
       "      });\n",
       "    }\n",
       "\n",
       "    function showError(err) {\n",
       "      outputDiv.innerHTML = `<div class=\"error\" style=\"color:red;\">${err}</div>`;\n",
       "      throw err;\n",
       "    }\n",
       "\n",
       "    function displayChart(vegaEmbed) {\n",
       "      vegaEmbed(outputDiv, spec, embedOpt)\n",
       "        .catch(err => showError(`Javascript Error: ${err.message}<br>This usually means there's a typo in your chart specification. See the javascript console for the full traceback.`));\n",
       "    }\n",
       "\n",
       "    if(typeof define === \"function\" && define.amd) {\n",
       "      requirejs.config({paths});\n",
       "      require([\"vega-embed\"], displayChart, err => showError(`Error loading script: ${err.message}`));\n",
       "    } else if (typeof vegaEmbed === \"function\") {\n",
       "      displayChart(vegaEmbed);\n",
       "    } else {\n",
       "      loadScript(\"vega\")\n",
       "        .then(() => loadScript(\"vega-lite\"))\n",
       "        .then(() => loadScript(\"vega-embed\"))\n",
       "        .catch(showError)\n",
       "        .then(() => displayChart(vegaEmbed));\n",
       "    }\n",
       "  })({\"usermeta\": {\"embedOptions\": {\"theme\": \"vox\"}}, \"config\": {\"view\": {\"continuousWidth\": 400, \"continuousHeight\": 300}}, \"layer\": [{\"mark\": \"bar\", \"encoding\": {\"color\": {\"type\": \"nominal\", \"field\": \"gender_description\", \"legend\": null}, \"x\": {\"type\": \"quantitative\", \"aggregate\": \"sum\", \"axis\": {\"format\": \"%\", \"tickCount\": 6}, \"field\": \"count\", \"stack\": \"normalize\", \"title\": \"Share of books read by author gender\"}, \"y\": {\"type\": \"nominal\", \"field\": \"year\", \"sort\": {\"field\": \"count:N\", \"op\": \"count\", \"order\": \"descending\"}, \"title\": \"\"}}}, {\"mark\": {\"type\": \"text\", \"align\": \"right\", \"baseline\": \"middle\", \"dx\": -10}, \"encoding\": {\"color\": {\"condition\": {\"value\": \"white\", \"test\": \"(datum.year === '2019')\"}, \"value\": \"white\"}, \"text\": {\"type\": \"nominal\", \"field\": \"gender_description\"}, \"x\": {\"type\": \"quantitative\", \"aggregate\": \"sum\", \"axis\": {\"format\": \"%\", \"tickCount\": 6}, \"field\": \"count\", \"stack\": \"normalize\", \"title\": \"Share of books read by author gender\"}, \"y\": {\"type\": \"nominal\", \"field\": \"year\", \"sort\": {\"field\": \"count:N\", \"op\": \"count\", \"order\": \"descending\"}, \"title\": \"\"}}}], \"data\": {\"name\": \"data-4a5dff54d3e27d38d5f3fa97da9ab68c\"}, \"height\": 30, \"width\": 320, \"$schema\": \"https://vega.github.io/schema/vega-lite/v4.8.1.json\", \"datasets\": {\"data-4a5dff54d3e27d38d5f3fa97da9ab68c\": [{\"gender_description\": \"Female\", \"year\": \"2020\", \"count\": 24, \"share\": 46.15384615384615}, {\"gender_description\": \"Male\", \"year\": \"2020\", \"count\": 15, \"share\": 28.846153846153843}]}}, {\"mode\": \"vega-lite\"});\n",
       "</script>"
      ],
      "text/plain": [
       "alt.LayerChart(...)"
      ]
     },
     "execution_count": 47,
     "metadata": {},
     "output_type": "execute_result"
    }
   ],
   "source": [
    "(book_gender_chart + book_gender_chart_text).properties(height=30,width=320)"
   ]
  },
  {
   "cell_type": "markdown",
   "metadata": {},
   "source": [
    "---"
   ]
  },
  {
   "cell_type": "markdown",
   "metadata": {},
   "source": [
    "### Page counts by subgenre"
   ]
  },
  {
   "cell_type": "code",
   "execution_count": 48,
   "metadata": {},
   "outputs": [
    {
     "data": {
      "text/html": [
       "<div>\n",
       "<style scoped>\n",
       "    .dataframe tbody tr th:only-of-type {\n",
       "        vertical-align: middle;\n",
       "    }\n",
       "\n",
       "    .dataframe tbody tr th {\n",
       "        vertical-align: top;\n",
       "    }\n",
       "\n",
       "    .dataframe thead th {\n",
       "        text-align: right;\n",
       "    }\n",
       "</style>\n",
       "<table border=\"1\" class=\"dataframe\">\n",
       "  <thead>\n",
       "    <tr style=\"text-align: right;\">\n",
       "      <th></th>\n",
       "      <th>subgenre</th>\n",
       "      <th>pages</th>\n",
       "    </tr>\n",
       "  </thead>\n",
       "  <tbody>\n",
       "    <tr>\n",
       "      <th>2</th>\n",
       "      <td>Contemporary</td>\n",
       "      <td>2,512.00</td>\n",
       "    </tr>\n",
       "    <tr>\n",
       "      <th>4</th>\n",
       "      <td>Essays</td>\n",
       "      <td>928.00</td>\n",
       "    </tr>\n",
       "    <tr>\n",
       "      <th>16</th>\n",
       "      <td>historical</td>\n",
       "      <td>711.00</td>\n",
       "    </tr>\n",
       "    <tr>\n",
       "      <th>15</th>\n",
       "      <td>Young Adult</td>\n",
       "      <td>690.00</td>\n",
       "    </tr>\n",
       "    <tr>\n",
       "      <th>12</th>\n",
       "      <td>Short Stories</td>\n",
       "      <td>578.00</td>\n",
       "    </tr>\n",
       "    <tr>\n",
       "      <th>9</th>\n",
       "      <td>Psychology</td>\n",
       "      <td>575.00</td>\n",
       "    </tr>\n",
       "    <tr>\n",
       "      <th>0</th>\n",
       "      <td>Business</td>\n",
       "      <td>553.00</td>\n",
       "    </tr>\n",
       "    <tr>\n",
       "      <th>11</th>\n",
       "      <td>Self Help</td>\n",
       "      <td>488.00</td>\n",
       "    </tr>\n",
       "    <tr>\n",
       "      <th>3</th>\n",
       "      <td>Current Events</td>\n",
       "      <td>456.00</td>\n",
       "    </tr>\n",
       "    <tr>\n",
       "      <th>10</th>\n",
       "      <td>Romance</td>\n",
       "      <td>421.00</td>\n",
       "    </tr>\n",
       "  </tbody>\n",
       "</table>\n",
       "</div>"
      ],
      "text/plain": [
       "          subgenre    pages\n",
       "2     Contemporary 2,512.00\n",
       "4           Essays   928.00\n",
       "16      historical   711.00\n",
       "15     Young Adult   690.00\n",
       "12   Short Stories   578.00\n",
       "9       Psychology   575.00\n",
       "0         Business   553.00\n",
       "11       Self Help   488.00\n",
       "3   Current Events   456.00\n",
       "10         Romance   421.00"
      ]
     },
     "execution_count": 48,
     "metadata": {},
     "output_type": "execute_result"
    }
   ],
   "source": [
    "books.groupby(['subgenre']).agg({ 'pages': 'sum' }).reset_index()\\\n",
    ".sort_values(by='pages',ascending=False).head(10)"
   ]
  },
  {
   "cell_type": "markdown",
   "metadata": {},
   "source": [
    "### Ratings by subgenre"
   ]
  },
  {
   "cell_type": "code",
   "execution_count": 49,
   "metadata": {},
   "outputs": [
    {
     "data": {
      "text/html": [
       "<div>\n",
       "<style scoped>\n",
       "    .dataframe tbody tr th:only-of-type {\n",
       "        vertical-align: middle;\n",
       "    }\n",
       "\n",
       "    .dataframe tbody tr th {\n",
       "        vertical-align: top;\n",
       "    }\n",
       "\n",
       "    .dataframe thead th {\n",
       "        text-align: right;\n",
       "    }\n",
       "</style>\n",
       "<table border=\"1\" class=\"dataframe\">\n",
       "  <thead>\n",
       "    <tr style=\"text-align: right;\">\n",
       "      <th></th>\n",
       "      <th>subgenre</th>\n",
       "      <th>avg_goodreads_rating</th>\n",
       "    </tr>\n",
       "  </thead>\n",
       "  <tbody>\n",
       "    <tr>\n",
       "      <th>6</th>\n",
       "      <td>LGBT</td>\n",
       "      <td>4.52</td>\n",
       "    </tr>\n",
       "    <tr>\n",
       "      <th>7</th>\n",
       "      <td>Memoir</td>\n",
       "      <td>4.46</td>\n",
       "    </tr>\n",
       "    <tr>\n",
       "      <th>3</th>\n",
       "      <td>Current Events</td>\n",
       "      <td>4.38</td>\n",
       "    </tr>\n",
       "    <tr>\n",
       "      <th>8</th>\n",
       "      <td>Poetry</td>\n",
       "      <td>4.26</td>\n",
       "    </tr>\n",
       "    <tr>\n",
       "      <th>14</th>\n",
       "      <td>Writing</td>\n",
       "      <td>4.23</td>\n",
       "    </tr>\n",
       "    <tr>\n",
       "      <th>9</th>\n",
       "      <td>Psychology</td>\n",
       "      <td>4.23</td>\n",
       "    </tr>\n",
       "    <tr>\n",
       "      <th>0</th>\n",
       "      <td>Business</td>\n",
       "      <td>4.17</td>\n",
       "    </tr>\n",
       "    <tr>\n",
       "      <th>12</th>\n",
       "      <td>Short Stories</td>\n",
       "      <td>4.17</td>\n",
       "    </tr>\n",
       "    <tr>\n",
       "      <th>4</th>\n",
       "      <td>Essays</td>\n",
       "      <td>4.16</td>\n",
       "    </tr>\n",
       "    <tr>\n",
       "      <th>13</th>\n",
       "      <td>Spirituality</td>\n",
       "      <td>4.15</td>\n",
       "    </tr>\n",
       "  </tbody>\n",
       "</table>\n",
       "</div>"
      ],
      "text/plain": [
       "          subgenre  avg_goodreads_rating\n",
       "6             LGBT                  4.52\n",
       "7           Memoir                  4.46\n",
       "3   Current Events                  4.38\n",
       "8           Poetry                  4.26\n",
       "14         Writing                  4.23\n",
       "9       Psychology                  4.23\n",
       "0         Business                  4.17\n",
       "12   Short Stories                  4.17\n",
       "4           Essays                  4.16\n",
       "13    Spirituality                  4.15"
      ]
     },
     "execution_count": 49,
     "metadata": {},
     "output_type": "execute_result"
    }
   ],
   "source": [
    "books.groupby(['subgenre']).agg({ 'avg_goodreads_rating': 'mean' }).reset_index()\\\n",
    ".sort_values(by='avg_goodreads_rating',ascending=False).head(10)"
   ]
  },
  {
   "cell_type": "markdown",
   "metadata": {},
   "source": [
    "### Favorite books by Goodreads rating"
   ]
  },
  {
   "cell_type": "code",
   "execution_count": 50,
   "metadata": {},
   "outputs": [],
   "source": [
    "books_slim = books[['author', 'title', 'type', 'avg_goodreads_rating']][books['faves'] == 'Y']\\\n",
    ".sort_values(by='avg_goodreads_rating', ascending=False).head()"
   ]
  },
  {
   "cell_type": "code",
   "execution_count": 51,
   "metadata": {},
   "outputs": [
    {
     "data": {
      "text/html": [
       "<div>\n",
       "<style scoped>\n",
       "    .dataframe tbody tr th:only-of-type {\n",
       "        vertical-align: middle;\n",
       "    }\n",
       "\n",
       "    .dataframe tbody tr th {\n",
       "        vertical-align: top;\n",
       "    }\n",
       "\n",
       "    .dataframe thead th {\n",
       "        text-align: right;\n",
       "    }\n",
       "</style>\n",
       "<table border=\"1\" class=\"dataframe\">\n",
       "  <thead>\n",
       "    <tr style=\"text-align: right;\">\n",
       "      <th></th>\n",
       "      <th>author</th>\n",
       "      <th>title</th>\n",
       "      <th>type</th>\n",
       "      <th>avg_goodreads_rating</th>\n",
       "    </tr>\n",
       "  </thead>\n",
       "  <tbody>\n",
       "    <tr>\n",
       "      <th>19</th>\n",
       "      <td>Tanehisi Coates</td>\n",
       "      <td>Between the World and Me</td>\n",
       "      <td>Non-Fiction</td>\n",
       "      <td>4.52</td>\n",
       "    </tr>\n",
       "    <tr>\n",
       "      <th>29</th>\n",
       "      <td>Danez Smith</td>\n",
       "      <td>Don't Call us Dead: Poems</td>\n",
       "      <td>Poetry</td>\n",
       "      <td>4.52</td>\n",
       "    </tr>\n",
       "    <tr>\n",
       "      <th>23</th>\n",
       "      <td>Audre Lorde</td>\n",
       "      <td>The Masters Tools Will Never DIsmantle The Mas...</td>\n",
       "      <td>Non-Fiction</td>\n",
       "      <td>4.46</td>\n",
       "    </tr>\n",
       "    <tr>\n",
       "      <th>35</th>\n",
       "      <td>James Hollis</td>\n",
       "      <td>The Middle Passage</td>\n",
       "      <td>Non-Fiction</td>\n",
       "      <td>4.44</td>\n",
       "    </tr>\n",
       "    <tr>\n",
       "      <th>11</th>\n",
       "      <td>Anne Lamott</td>\n",
       "      <td>Bird by Bird: Some Instructions on Writing and...</td>\n",
       "      <td>Non-Fiction</td>\n",
       "      <td>4.23</td>\n",
       "    </tr>\n",
       "  </tbody>\n",
       "</table>\n",
       "</div>"
      ],
      "text/plain": [
       "             author                                              title  \\\n",
       "19  Tanehisi Coates                           Between the World and Me   \n",
       "29      Danez Smith                          Don't Call us Dead: Poems   \n",
       "23      Audre Lorde  The Masters Tools Will Never DIsmantle The Mas...   \n",
       "35     James Hollis                                 The Middle Passage   \n",
       "11      Anne Lamott  Bird by Bird: Some Instructions on Writing and...   \n",
       "\n",
       "           type  avg_goodreads_rating  \n",
       "19  Non-Fiction                  4.52  \n",
       "29       Poetry                  4.52  \n",
       "23  Non-Fiction                  4.46  \n",
       "35  Non-Fiction                  4.44  \n",
       "11  Non-Fiction                  4.23  "
      ]
     },
     "execution_count": 51,
     "metadata": {},
     "output_type": "execute_result"
    }
   ],
   "source": [
    "books_slim"
   ]
  },
  {
   "cell_type": "code",
   "execution_count": 52,
   "metadata": {},
   "outputs": [],
   "source": [
    "book_ratings = books.groupby(['type']).agg({'avg_goodreads_rating': 'mean'}).reset_index()"
   ]
  },
  {
   "cell_type": "code",
   "execution_count": 53,
   "metadata": {},
   "outputs": [
    {
     "data": {
      "text/html": [
       "<div>\n",
       "<style scoped>\n",
       "    .dataframe tbody tr th:only-of-type {\n",
       "        vertical-align: middle;\n",
       "    }\n",
       "\n",
       "    .dataframe tbody tr th {\n",
       "        vertical-align: top;\n",
       "    }\n",
       "\n",
       "    .dataframe thead th {\n",
       "        text-align: right;\n",
       "    }\n",
       "</style>\n",
       "<table border=\"1\" class=\"dataframe\">\n",
       "  <thead>\n",
       "    <tr style=\"text-align: right;\">\n",
       "      <th></th>\n",
       "      <th>type</th>\n",
       "      <th>avg_goodreads_rating</th>\n",
       "    </tr>\n",
       "  </thead>\n",
       "  <tbody>\n",
       "    <tr>\n",
       "      <th>0</th>\n",
       "      <td>Fiction</td>\n",
       "      <td>3.77</td>\n",
       "    </tr>\n",
       "    <tr>\n",
       "      <th>1</th>\n",
       "      <td>Non-Fiction</td>\n",
       "      <td>4.21</td>\n",
       "    </tr>\n",
       "    <tr>\n",
       "      <th>2</th>\n",
       "      <td>Poetry</td>\n",
       "      <td>4.52</td>\n",
       "    </tr>\n",
       "  </tbody>\n",
       "</table>\n",
       "</div>"
      ],
      "text/plain": [
       "          type  avg_goodreads_rating\n",
       "0      Fiction                  3.77\n",
       "1  Non-Fiction                  4.21\n",
       "2       Poetry                  4.52"
      ]
     },
     "execution_count": 53,
     "metadata": {},
     "output_type": "execute_result"
    }
   ],
   "source": [
    "book_ratings"
   ]
  },
  {
   "cell_type": "markdown",
   "metadata": {},
   "source": [
    "---"
   ]
  },
  {
   "cell_type": "markdown",
   "metadata": {},
   "source": [
    "### Export books list to CSV"
   ]
  },
  {
   "cell_type": "code",
   "execution_count": 54,
   "metadata": {},
   "outputs": [],
   "source": [
    "books.to_csv('output/books.csv')"
   ]
  }
 ],
 "metadata": {
  "kernelspec": {
   "display_name": "Python 3",
   "language": "python",
   "name": "python3"
  },
  "language_info": {
   "codemirror_mode": {
    "name": "ipython",
    "version": 3
   },
   "file_extension": ".py",
   "mimetype": "text/x-python",
   "name": "python",
   "nbconvert_exporter": "python",
   "pygments_lexer": "ipython3",
   "version": "3.7.4"
  }
 },
 "nbformat": 4,
 "nbformat_minor": 4
}
