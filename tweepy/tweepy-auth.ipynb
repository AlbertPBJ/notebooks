{
 "cells": [
  {
   "cell_type": "markdown",
   "metadata": {},
   "source": [
    "# Using Tweepy to sniff out Twitter bots"
   ]
  },
  {
   "cell_type": "markdown",
   "metadata": {},
   "source": [
    "### Load python tools"
   ]
  },
  {
   "cell_type": "code",
   "execution_count": 1,
   "metadata": {},
   "outputs": [],
   "source": [
    "import pandas as pd\n",
    "import numpy as np\n",
    "import tweepy\n",
    "import json"
   ]
  },
  {
   "cell_type": "markdown",
   "metadata": {},
   "source": [
    "### Get authenticated"
   ]
  },
  {
   "cell_type": "code",
   "execution_count": 2,
   "metadata": {},
   "outputs": [],
   "source": [
    "consumer_key=\"0EtWySJEum7PpQ7ubreQgLwH5\"\n",
    "consumer_secret=\"6DPNvqyx44VlJWL3AAdNj53hmkiNAh0uGrvjfVH0ixmyLLqQe7\"\n",
    "access_token=\"14790314-YvDi7tRrBMQNqPo2BEKqAx7n7lo8fBnA3InySZcg9\"\n",
    "access_token_secret=\"iKL0A2Hl5oBlbV3m0ffYGWsjK4EVnS9VxvjFRPCCfW5XZ\""
   ]
  },
  {
   "cell_type": "code",
   "execution_count": 3,
   "metadata": {},
   "outputs": [],
   "source": [
    "auth = tweepy.OAuthHandler(consumer_key, consumer_secret)\n",
    "auth.set_access_token(access_token, access_token_secret)"
   ]
  },
  {
   "cell_type": "code",
   "execution_count": 4,
   "metadata": {},
   "outputs": [],
   "source": [
    "api = tweepy.API(auth, wait_on_rate_limit=True, wait_on_rate_limit_notify=True)"
   ]
  },
  {
   "cell_type": "code",
   "execution_count": 5,
   "metadata": {},
   "outputs": [],
   "source": [
    "rt = api.retweets('1316821974115479552')"
   ]
  },
  {
   "cell_type": "code",
   "execution_count": 6,
   "metadata": {},
   "outputs": [],
   "source": [
    "ID = 1316821974115479552"
   ]
  },
  {
   "cell_type": "code",
   "execution_count": 7,
   "metadata": {},
   "outputs": [],
   "source": [
    "count = 100"
   ]
  },
  {
   "cell_type": "markdown",
   "metadata": {},
   "source": [
    "### Search results for \"VoteNoOnHolly\""
   ]
  },
  {
   "cell_type": "code",
   "execution_count": 8,
   "metadata": {},
   "outputs": [],
   "source": [
    "results = api.search(q='VoteNoOnHolly', count=100)"
   ]
  },
  {
   "cell_type": "markdown",
   "metadata": {},
   "source": [
    "### Get our list of retweets the @VoteNoOnHolly tweet"
   ]
  },
  {
   "cell_type": "code",
   "execution_count": 9,
   "metadata": {},
   "outputs": [],
   "source": [
    "retweets_list = api.retweets(ID, count)"
   ]
  },
  {
   "cell_type": "markdown",
   "metadata": {},
   "source": [
    "### Create a list of retweeters by screen_name"
   ]
  },
  {
   "cell_type": "code",
   "execution_count": 10,
   "metadata": {},
   "outputs": [],
   "source": [
    "rters = []\n",
    "\n",
    "for retweet in retweets_list: \n",
    "    rters.append(retweet.user.screen_name)"
   ]
  },
  {
   "cell_type": "markdown",
   "metadata": {},
   "source": [
    "### Get user information for each retweeter"
   ]
  },
  {
   "cell_type": "code",
   "execution_count": 11,
   "metadata": {},
   "outputs": [],
   "source": [
    "df_users = []\n",
    "\n",
    "for r in rters:\n",
    "    screen_name = r\n",
    "    user = api.get_user(screen_name)\n",
    "    df_users.append(user._json)"
   ]
  },
  {
   "cell_type": "markdown",
   "metadata": {},
   "source": [
    "### Users into a dataframe"
   ]
  },
  {
   "cell_type": "code",
   "execution_count": 12,
   "metadata": {},
   "outputs": [],
   "source": [
    "df = pd.DataFrame(df_users)"
   ]
  },
  {
   "cell_type": "code",
   "execution_count": 13,
   "metadata": {},
   "outputs": [],
   "source": [
    "dfslim = pd.DataFrame(df[['name', 'screen_name', 'location', 'description', 'followers_count','friends_count', \\\n",
    "    'created_at', 'favourites_count', 'statuses_count','profile_image_url',]])"
   ]
  },
  {
   "cell_type": "code",
   "execution_count": 14,
   "metadata": {},
   "outputs": [],
   "source": [
    "dfslim['created'] = pd.to_datetime(dfslim['created_at']).dt.date"
   ]
  },
  {
   "cell_type": "code",
   "execution_count": 15,
   "metadata": {},
   "outputs": [],
   "source": [
    "dfslim = dfslim.drop(['created_at'], axis=1)"
   ]
  },
  {
   "cell_type": "code",
   "execution_count": 16,
   "metadata": {},
   "outputs": [
    {
     "data": {
      "text/html": [
       "<div>\n",
       "<style scoped>\n",
       "    .dataframe tbody tr th:only-of-type {\n",
       "        vertical-align: middle;\n",
       "    }\n",
       "\n",
       "    .dataframe tbody tr th {\n",
       "        vertical-align: top;\n",
       "    }\n",
       "\n",
       "    .dataframe thead th {\n",
       "        text-align: right;\n",
       "    }\n",
       "</style>\n",
       "<table border=\"1\" class=\"dataframe\">\n",
       "  <thead>\n",
       "    <tr style=\"text-align: right;\">\n",
       "      <th></th>\n",
       "      <th>name</th>\n",
       "      <th>screen_name</th>\n",
       "      <th>location</th>\n",
       "      <th>description</th>\n",
       "      <th>followers_count</th>\n",
       "      <th>friends_count</th>\n",
       "      <th>favourites_count</th>\n",
       "      <th>statuses_count</th>\n",
       "      <th>profile_image_url</th>\n",
       "      <th>created</th>\n",
       "    </tr>\n",
       "  </thead>\n",
       "  <tbody>\n",
       "    <tr>\n",
       "      <th>0</th>\n",
       "      <td>Дмитрий</td>\n",
       "      <td>KNNMgw9eUKOaFMf</td>\n",
       "      <td></td>\n",
       "      <td></td>\n",
       "      <td>4</td>\n",
       "      <td>528</td>\n",
       "      <td>69</td>\n",
       "      <td>276</td>\n",
       "      <td>http://pbs.twimg.com/profile_images/1239844866...</td>\n",
       "      <td>2020-03-17</td>\n",
       "    </tr>\n",
       "    <tr>\n",
       "      <th>1</th>\n",
       "      <td>aleksandr</td>\n",
       "      <td>aleksan32030133</td>\n",
       "      <td></td>\n",
       "      <td></td>\n",
       "      <td>3</td>\n",
       "      <td>219</td>\n",
       "      <td>85</td>\n",
       "      <td>202</td>\n",
       "      <td>http://pbs.twimg.com/profile_images/1306827552...</td>\n",
       "      <td>2020-09-18</td>\n",
       "    </tr>\n",
       "    <tr>\n",
       "      <th>2</th>\n",
       "      <td>Norayr</td>\n",
       "      <td>Norayr09895905</td>\n",
       "      <td></td>\n",
       "      <td>Հայաստանը իմն է</td>\n",
       "      <td>2</td>\n",
       "      <td>184</td>\n",
       "      <td>55</td>\n",
       "      <td>141</td>\n",
       "      <td>http://pbs.twimg.com/profile_images/1276479305...</td>\n",
       "      <td>2020-06-26</td>\n",
       "    </tr>\n",
       "    <tr>\n",
       "      <th>3</th>\n",
       "      <td>Сергеи Иванов</td>\n",
       "      <td>qOb28mnrRnuR7ry</td>\n",
       "      <td></td>\n",
       "      <td>Я добрый!!</td>\n",
       "      <td>4</td>\n",
       "      <td>780</td>\n",
       "      <td>64</td>\n",
       "      <td>258</td>\n",
       "      <td>http://pbs.twimg.com/profile_images/1240943010...</td>\n",
       "      <td>2020-03-19</td>\n",
       "    </tr>\n",
       "    <tr>\n",
       "      <th>4</th>\n",
       "      <td>Svetlana Khomyak</td>\n",
       "      <td>KhomyakSvetlana</td>\n",
       "      <td></td>\n",
       "      <td>Счатливая жена и мама 2 прекрасных детей</td>\n",
       "      <td>6</td>\n",
       "      <td>423</td>\n",
       "      <td>121</td>\n",
       "      <td>292</td>\n",
       "      <td>http://pbs.twimg.com/profile_images/1286315340...</td>\n",
       "      <td>2020-07-23</td>\n",
       "    </tr>\n",
       "  </tbody>\n",
       "</table>\n",
       "</div>"
      ],
      "text/plain": [
       "               name      screen_name location  \\\n",
       "0           Дмитрий  KNNMgw9eUKOaFMf            \n",
       "1         aleksandr  aleksan32030133            \n",
       "2            Norayr   Norayr09895905            \n",
       "3     Сергеи Иванов  qOb28mnrRnuR7ry            \n",
       "4  Svetlana Khomyak  KhomyakSvetlana            \n",
       "\n",
       "                                description  followers_count  friends_count  \\\n",
       "0                                                          4            528   \n",
       "1                                                          3            219   \n",
       "2                           Հայաստանը իմն է                2            184   \n",
       "3                                Я добрый!!                4            780   \n",
       "4  Счатливая жена и мама 2 прекрасных детей                6            423   \n",
       "\n",
       "   favourites_count  statuses_count  \\\n",
       "0                69             276   \n",
       "1                85             202   \n",
       "2                55             141   \n",
       "3                64             258   \n",
       "4               121             292   \n",
       "\n",
       "                                   profile_image_url     created  \n",
       "0  http://pbs.twimg.com/profile_images/1239844866...  2020-03-17  \n",
       "1  http://pbs.twimg.com/profile_images/1306827552...  2020-09-18  \n",
       "2  http://pbs.twimg.com/profile_images/1276479305...  2020-06-26  \n",
       "3  http://pbs.twimg.com/profile_images/1240943010...  2020-03-19  \n",
       "4  http://pbs.twimg.com/profile_images/1286315340...  2020-07-23  "
      ]
     },
     "execution_count": 16,
     "metadata": {},
     "output_type": "execute_result"
    }
   ],
   "source": [
    "dfslim.head()"
   ]
  },
  {
   "cell_type": "markdown",
   "metadata": {},
   "source": [
    "---"
   ]
  },
  {
   "cell_type": "code",
   "execution_count": null,
   "metadata": {},
   "outputs": [
    {
     "name": "stderr",
     "output_type": "stream",
     "text": [
      "Rate limit reached. Sleeping for: 615\n"
     ]
    }
   ],
   "source": [
    "for user in tweepy.Cursor(api.friends, screen_name=\"qOb28mnrRnuR7ry\").items():\n",
    "    print('friend: ' + user.screen_name)"
   ]
  },
  {
   "cell_type": "code",
   "execution_count": null,
   "metadata": {},
   "outputs": [],
   "source": [
    "for user in tweepy.Cursor(api.followers, screen_name=\"qOb28mnrRnuR7ry\").items():\n",
    "    print('follower: ' + user.screen_name)"
   ]
  },
  {
   "cell_type": "code",
   "execution_count": null,
   "metadata": {},
   "outputs": [],
   "source": []
  },
  {
   "cell_type": "code",
   "execution_count": null,
   "metadata": {},
   "outputs": [],
   "source": []
  },
  {
   "cell_type": "code",
   "execution_count": null,
   "metadata": {},
   "outputs": [],
   "source": []
  },
  {
   "cell_type": "markdown",
   "metadata": {},
   "source": [
    "---"
   ]
  },
  {
   "cell_type": "markdown",
   "metadata": {},
   "source": [
    "### (Quietly) get all the photos!"
   ]
  },
  {
   "cell_type": "code",
   "execution_count": null,
   "metadata": {},
   "outputs": [],
   "source": [
    "dfslim['profile_image_url'] = dfslim['profile_image_url'].str.replace('_normal', '')"
   ]
  },
  {
   "cell_type": "code",
   "execution_count": null,
   "metadata": {},
   "outputs": [],
   "source": [
    "for photo in dfslim.profile_image_url:\n",
    "    !wget -c -q '{photo}' -P 'images/' "
   ]
  },
  {
   "cell_type": "markdown",
   "metadata": {},
   "source": [
    "---"
   ]
  },
  {
   "cell_type": "code",
   "execution_count": null,
   "metadata": {},
   "outputs": [],
   "source": []
  }
 ],
 "metadata": {
  "kernelspec": {
   "display_name": "Python 3",
   "language": "python",
   "name": "python3"
  },
  "language_info": {
   "codemirror_mode": {
    "name": "ipython",
    "version": 3
   },
   "file_extension": ".py",
   "mimetype": "text/x-python",
   "name": "python",
   "nbconvert_exporter": "python",
   "pygments_lexer": "ipython3",
   "version": "3.7.4"
  }
 },
 "nbformat": 4,
 "nbformat_minor": 4
}
