{
 "cells": [
  {
   "cell_type": "markdown",
   "id": "spoken-taste",
   "metadata": {},
   "source": [
    "# Arrests/charges stemming from the Jan. 6 riot at the U.S. Capitol"
   ]
  },
  {
   "cell_type": "markdown",
   "id": "ultimate-office",
   "metadata": {},
   "source": [
    "### Import Python tools"
   ]
  },
  {
   "cell_type": "code",
   "execution_count": 1,
   "id": "protected-radiation",
   "metadata": {},
   "outputs": [],
   "source": [
    "%load_ext lab_black"
   ]
  },
  {
   "cell_type": "code",
   "execution_count": 2,
   "id": "indie-gravity",
   "metadata": {},
   "outputs": [],
   "source": [
    "import pandas as pd\n",
    "import geopandas as gpd\n",
    "import jenkspy\n",
    "import matplotlib.pyplot as plt\n",
    "import requests\n",
    "from bs4 import BeautifulSoup"
   ]
  },
  {
   "cell_type": "code",
   "execution_count": 3,
   "id": "plain-vault",
   "metadata": {},
   "outputs": [],
   "source": [
    "%matplotlib inline\n",
    "import json\n",
    "import numpy as np\n",
    "import altair as alt\n",
    "import altair_latimes as lat"
   ]
  },
  {
   "cell_type": "code",
   "execution_count": 4,
   "id": "international-moisture",
   "metadata": {},
   "outputs": [
    {
     "data": {
      "text/plain": [
       "ThemeRegistry.enable('latimes')"
      ]
     },
     "execution_count": 4,
     "metadata": {},
     "output_type": "execute_result"
    }
   ],
   "source": [
    "alt.themes.register(\"latimes\", lat.theme)\n",
    "alt.themes.enable(\"latimes\")"
   ]
  },
  {
   "cell_type": "code",
   "execution_count": 5,
   "id": "choice-creek",
   "metadata": {},
   "outputs": [],
   "source": [
    "pd.options.display.max_columns = 100\n",
    "pd.options.display.max_rows = 1000\n",
    "alt.data_transformers.disable_max_rows()\n",
    "pd.set_option(\"display.max_colwidth\", None)"
   ]
  },
  {
   "cell_type": "markdown",
   "id": "animated-prison",
   "metadata": {},
   "source": [
    "### Local Reports"
   ]
  },
  {
   "cell_type": "code",
   "execution_count": 6,
   "id": "olympic-starter",
   "metadata": {},
   "outputs": [],
   "source": [
    "# https://www.uscp.gov/media-center/weekly-arrest-summary"
   ]
  },
  {
   "cell_type": "code",
   "execution_count": 7,
   "id": "personal-earthquake",
   "metadata": {},
   "outputs": [],
   "source": [
    "# https://github.com/wpinvestigative/us_capitol_police_reports"
   ]
  },
  {
   "cell_type": "code",
   "execution_count": 8,
   "id": "written-consideration",
   "metadata": {},
   "outputs": [],
   "source": [
    "# https://mpdc.dc.gov/page/may-2020-january-2021-unrest-related-arrests-and-persons-interest"
   ]
  },
  {
   "cell_type": "code",
   "execution_count": 9,
   "id": "immediate-console",
   "metadata": {},
   "outputs": [],
   "source": [
    "# https://mpdc.dc.gov/sites/default/files/dc/sites/mpdc/publication/attachments/Unrest-Related%20Arrest%20Data%20as%20of%20January%207%202021.pdf"
   ]
  },
  {
   "cell_type": "markdown",
   "id": "colonial-ownership",
   "metadata": {},
   "source": [
    "---"
   ]
  },
  {
   "cell_type": "markdown",
   "id": "touched-killer",
   "metadata": {},
   "source": [
    "### Justice Department list"
   ]
  },
  {
   "cell_type": "code",
   "execution_count": 10,
   "id": "hawaiian-supplier",
   "metadata": {},
   "outputs": [],
   "source": [
    "justice_url = \"https://www.justice.gov/opa/investigations-regarding-violence-capitol\""
   ]
  },
  {
   "cell_type": "code",
   "execution_count": 11,
   "id": "opposite-moment",
   "metadata": {},
   "outputs": [],
   "source": [
    "headers = {\n",
    "    \"User-Agent\": \"Mozilla/5.0 (Macintosh; Intel Mac OS X 10_15_6) AppleWebKit/537.36 (KHTML, like Gecko) Chrome/85.0.4183.102 Safari/537.36\",\n",
    "    \"Accept\": \"text/html,application/xhtml+xml,application/xml;q=0.9,image/avif,image/webp,image/apng,*/*;q=0.8,application/signed-exchange;v=b3;q=0.9\",\n",
    "}\n",
    "response_justice = requests.get(justice_url, headers=headers)"
   ]
  },
  {
   "cell_type": "markdown",
   "id": "involved-satisfaction",
   "metadata": {},
   "source": [
    "### Create a dataframe with the html table, and clean up the headers"
   ]
  },
  {
   "cell_type": "code",
   "execution_count": 12,
   "id": "broke-physiology",
   "metadata": {},
   "outputs": [],
   "source": [
    "justice = pd.read_html(response_justice.text, attrs={\"class\": \"tablesorter\"})[0]\n",
    "strings = [\",\", \"/\", \"(\", \")\", \"_\"]"
   ]
  },
  {
   "cell_type": "code",
   "execution_count": 13,
   "id": "ethical-bulgarian",
   "metadata": {},
   "outputs": [],
   "source": [
    "justice.columns = (\n",
    "    justice.columns.str.strip()\n",
    "    .str.lower()\n",
    "    .str.replace(\" \", \"_\", regex=False)\n",
    "    .str.replace(\":\", \"\", regex=False)\n",
    "    .str.replace(\"/\", \"_\", regex=False)\n",
    "    .str.replace(\",\", \"_\", regex=False)\n",
    ")"
   ]
  },
  {
   "cell_type": "code",
   "execution_count": 14,
   "id": "better-basketball",
   "metadata": {},
   "outputs": [],
   "source": [
    "# justice.rename(columns=lambda x: x.replace(\" \", \"_\").lower(), inplace=True)"
   ]
  },
  {
   "cell_type": "markdown",
   "id": "needed-possibility",
   "metadata": {},
   "source": [
    "### Make a copy of the dataframe so we can improve the original"
   ]
  },
  {
   "cell_type": "code",
   "execution_count": 15,
   "id": "exposed-drama",
   "metadata": {},
   "outputs": [],
   "source": [
    "justice_df = pd.DataFrame(justice.rename(columns={\"name\": \"fullname\"}).copy())"
   ]
  },
  {
   "cell_type": "code",
   "execution_count": 16,
   "id": "electoral-coating",
   "metadata": {},
   "outputs": [],
   "source": [
    "justice_df[\"fullname\"] = justice_df[\"fullname\"].str.replace(\n",
    "    \"BETANCUR, Bryan (aka Bryan Clooney, aka Maximo Clooney)\",\n",
    "    \"BETANCUR, Bryan\",\n",
    "    regex=False,\n",
    ")"
   ]
  },
  {
   "cell_type": "code",
   "execution_count": 17,
   "id": "collect-treasurer",
   "metadata": {},
   "outputs": [
    {
     "data": {
      "text/html": [
       "<div>\n",
       "<style scoped>\n",
       "    .dataframe tbody tr th:only-of-type {\n",
       "        vertical-align: middle;\n",
       "    }\n",
       "\n",
       "    .dataframe tbody tr th {\n",
       "        vertical-align: top;\n",
       "    }\n",
       "\n",
       "    .dataframe thead th {\n",
       "        text-align: right;\n",
       "    }\n",
       "</style>\n",
       "<table border=\"1\" class=\"dataframe\">\n",
       "  <thead>\n",
       "    <tr style=\"text-align: right;\">\n",
       "      <th></th>\n",
       "      <th>case_number</th>\n",
       "      <th>fullname</th>\n",
       "      <th>charge(s)</th>\n",
       "      <th>links_to_press_releases__charging_documents</th>\n",
       "      <th>location_of_arrest</th>\n",
       "      <th>case_status</th>\n",
       "      <th>entry_last_updated</th>\n",
       "    </tr>\n",
       "  </thead>\n",
       "  <tbody>\n",
       "    <tr>\n",
       "      <th>129</th>\n",
       "      <td>1:21-mj-119</td>\n",
       "      <td>WATKINS, Jessica</td>\n",
       "      <td>Restricted building or grounds; violent entry or disorderly conduct; obstruction of an official proceeding</td>\n",
       "      <td>Watkins - Affidavit  Watkins - Complaint</td>\n",
       "      <td>Southern District of Ohio</td>\n",
       "      <td>Arrested 1/18/21 in the Southern District of Ohio</td>\n",
       "      <td>1/21/2021</td>\n",
       "    </tr>\n",
       "    <tr>\n",
       "      <th>130</th>\n",
       "      <td>NaN</td>\n",
       "      <td>WEEKS, Bradley</td>\n",
       "      <td>Knowingly Entering or Remaining in any Restricted Building or Grounds Without Lawful Authority; Violent Entry and Disorderly Conduct on Capitol Grounds</td>\n",
       "      <td>Weeks - Complaint  Weeks - Statement of Facts</td>\n",
       "      <td>Middle District of Florida</td>\n",
       "      <td>Arrested 1/21/21 in the Middle District of Florida. Initial appearance 1/21/21 at 3:00pm.  Released on conditions. Virtual hearing set for 1/26/21 at 1:00pm in federal court in the District of Columbia.</td>\n",
       "      <td>1/22/2021</td>\n",
       "    </tr>\n",
       "    <tr>\n",
       "      <th>131</th>\n",
       "      <td>1:21-mj-30</td>\n",
       "      <td>WILLIAMS, Andrew</td>\n",
       "      <td>One count of unlawful entry of a restricted building and one count of disorderly conduct on Capitol grounds</td>\n",
       "      <td>Seven Charged in Federal Court Following Events At the United Capitol  Williams - Complaint  Williams - Affidavit for Complaint</td>\n",
       "      <td>Middle District of Florida</td>\n",
       "      <td>Arrested in the Middle District of Florida 1/13/21</td>\n",
       "      <td>1/21/2021</td>\n",
       "    </tr>\n",
       "    <tr>\n",
       "      <th>132</th>\n",
       "      <td>NaN</td>\n",
       "      <td>WILLIAMS, Riley June</td>\n",
       "      <td>Knowingly Entering or Remaining in any Restricted Building or Grounds Without Lawful Authority; Violent Entry and Disorderly Conduct on Capitol Grounds</td>\n",
       "      <td>Williams - Complaint  Williams - Statement of Facts  Williams, Riley - Amended Complaint  Williams, Riley - Amended Statement of Facts</td>\n",
       "      <td>Middle District of Pennsylvania</td>\n",
       "      <td>Arrested 1/18/21 in the Middle District of Pennsylvania  Released to home confinement on conditions. Hearing (virtual) set for 1/25/21 in federal court in the District of Columbia.</td>\n",
       "      <td>1/21/2021</td>\n",
       "    </tr>\n",
       "    <tr>\n",
       "      <th>133</th>\n",
       "      <td>1:21-mj-26</td>\n",
       "      <td>WRIGLEY, Andrew</td>\n",
       "      <td>Knowingly Entering or Remaining in any Restricted Building or Grounds Without Lawful Authority; Violent Entry and Disorderly Conduct on Capitol Grounds</td>\n",
       "      <td>Wrigley - Complaint  Wrigley - Statement of Facts</td>\n",
       "      <td>Middle District of Pennsylvania</td>\n",
       "      <td>Arrested on 1/15/21 in the Middle District of Pennsylvania.  Initial appearance via video on 1/25/21 in federal court in the District of Columbia.</td>\n",
       "      <td>1/21/2021</td>\n",
       "    </tr>\n",
       "  </tbody>\n",
       "</table>\n",
       "</div>"
      ],
      "text/plain": [
       "     case_number              fullname  \\\n",
       "129  1:21-mj-119      WATKINS, Jessica   \n",
       "130          NaN        WEEKS, Bradley   \n",
       "131   1:21-mj-30      WILLIAMS, Andrew   \n",
       "132          NaN  WILLIAMS, Riley June   \n",
       "133   1:21-mj-26       WRIGLEY, Andrew   \n",
       "\n",
       "                                                                                                                                                   charge(s)  \\\n",
       "129                                               Restricted building or grounds; violent entry or disorderly conduct; obstruction of an official proceeding   \n",
       "130  Knowingly Entering or Remaining in any Restricted Building or Grounds Without Lawful Authority; Violent Entry and Disorderly Conduct on Capitol Grounds   \n",
       "131                                              One count of unlawful entry of a restricted building and one count of disorderly conduct on Capitol grounds   \n",
       "132  Knowingly Entering or Remaining in any Restricted Building or Grounds Without Lawful Authority; Violent Entry and Disorderly Conduct on Capitol Grounds   \n",
       "133  Knowingly Entering or Remaining in any Restricted Building or Grounds Without Lawful Authority; Violent Entry and Disorderly Conduct on Capitol Grounds   \n",
       "\n",
       "                                                                                                links_to_press_releases__charging_documents  \\\n",
       "129                                                                                                Watkins - Affidavit  Watkins - Complaint   \n",
       "130                                                                                           Weeks - Complaint  Weeks - Statement of Facts   \n",
       "131         Seven Charged in Federal Court Following Events At the United Capitol  Williams - Complaint  Williams - Affidavit for Complaint   \n",
       "132  Williams - Complaint  Williams - Statement of Facts  Williams, Riley - Amended Complaint  Williams, Riley - Amended Statement of Facts   \n",
       "133                                                                                       Wrigley - Complaint  Wrigley - Statement of Facts   \n",
       "\n",
       "                  location_of_arrest  \\\n",
       "129        Southern District of Ohio   \n",
       "130       Middle District of Florida   \n",
       "131       Middle District of Florida   \n",
       "132  Middle District of Pennsylvania   \n",
       "133  Middle District of Pennsylvania   \n",
       "\n",
       "                                                                                                                                                                                                    case_status  \\\n",
       "129                                                                                                                                                           Arrested 1/18/21 in the Southern District of Ohio   \n",
       "130  Arrested 1/21/21 in the Middle District of Florida. Initial appearance 1/21/21 at 3:00pm.  Released on conditions. Virtual hearing set for 1/26/21 at 1:00pm in federal court in the District of Columbia.   \n",
       "131                                                                                                                                                          Arrested in the Middle District of Florida 1/13/21   \n",
       "132                        Arrested 1/18/21 in the Middle District of Pennsylvania  Released to home confinement on conditions. Hearing (virtual) set for 1/25/21 in federal court in the District of Columbia.   \n",
       "133                                                          Arrested on 1/15/21 in the Middle District of Pennsylvania.  Initial appearance via video on 1/25/21 in federal court in the District of Columbia.   \n",
       "\n",
       "    entry_last_updated  \n",
       "129          1/21/2021  \n",
       "130          1/22/2021  \n",
       "131          1/21/2021  \n",
       "132          1/21/2021  \n",
       "133          1/21/2021  "
      ]
     },
     "execution_count": 17,
     "metadata": {},
     "output_type": "execute_result"
    }
   ],
   "source": [
    "justice_df.tail()"
   ]
  },
  {
   "cell_type": "code",
   "execution_count": 22,
   "id": "unlike-sunday",
   "metadata": {},
   "outputs": [],
   "source": [
    "justice_df[\"fullname\"] = justice_df[\"fullname\"].str.strip()"
   ]
  },
  {
   "cell_type": "code",
   "execution_count": 23,
   "id": "english-token",
   "metadata": {},
   "outputs": [],
   "source": [
    "justice_df = justice_df[\n",
    "    [\n",
    "        \"case_number\",\n",
    "        \"fullname\",\n",
    "        \"location_of_arrest\",\n",
    "        \"charge(s)\",\n",
    "        \"links_to_press_releases__charging_documents\",\n",
    "        \"case_status\",\n",
    "        \"entry_last_updated\",\n",
    "    ]\n",
    "]"
   ]
  },
  {
   "cell_type": "markdown",
   "id": "manual-scale",
   "metadata": {},
   "source": [
    "### Get out HTML table so we can parse it"
   ]
  },
  {
   "cell_type": "code",
   "execution_count": 24,
   "id": "flying-builder",
   "metadata": {},
   "outputs": [],
   "source": [
    "response_justice = requests.get(justice_url)\n",
    "soup = BeautifulSoup(response_justice.text, \"html.parser\")\n",
    "table = soup.find(\"table\")"
   ]
  },
  {
   "cell_type": "markdown",
   "id": "surgical-airline",
   "metadata": {},
   "source": [
    "### Get the defendant document links from the table into a list"
   ]
  },
  {
   "cell_type": "code",
   "execution_count": 25,
   "id": "valid-rouge",
   "metadata": {},
   "outputs": [],
   "source": [
    "links = []\n",
    "for tr in table.findAll(\"tr\")[1:]:\n",
    "    trs = tr.findAll(\"td\")\n",
    "\n",
    "    this_row_links = []\n",
    "\n",
    "    for link in trs[3].findAll(\"a\"):\n",
    "        this_row_links.append(link[\"href\"])\n",
    "\n",
    "    links.append(this_row_links)"
   ]
  },
  {
   "cell_type": "code",
   "execution_count": 26,
   "id": "permanent-creature",
   "metadata": {},
   "outputs": [],
   "source": [
    "justice_df[\"links\"] = links"
   ]
  },
  {
   "cell_type": "markdown",
   "id": "loose-reduction",
   "metadata": {},
   "source": [
    "### Get the link descriptions from the table into a list"
   ]
  },
  {
   "cell_type": "code",
   "execution_count": 27,
   "id": "heated-connection",
   "metadata": {},
   "outputs": [],
   "source": [
    "# press_releases = []\n",
    "# for tr in table.findAll(\"tr\")[1:]:\n",
    "#     trs = tr.findAll(\"td\")\n",
    "\n",
    "#     this_row_text = []\n",
    "\n",
    "#     for p in trs[3].findAll(\"p\"):\n",
    "#         this_row_text.append(p)\n",
    "\n",
    "#     press_releases.append(this_row_text)"
   ]
  },
  {
   "cell_type": "code",
   "execution_count": 28,
   "id": "reduced-interest",
   "metadata": {},
   "outputs": [],
   "source": [
    "# justice_df[\"press_links\"] = press_releases"
   ]
  },
  {
   "cell_type": "markdown",
   "id": "productive-divorce",
   "metadata": {},
   "source": [
    "### We no longer need this column"
   ]
  },
  {
   "cell_type": "code",
   "execution_count": 29,
   "id": "hawaiian-penny",
   "metadata": {},
   "outputs": [],
   "source": [
    "# justice_df.drop([\"links_to_press_releases__charging_documents\"], axis=1, inplace=True)"
   ]
  },
  {
   "cell_type": "markdown",
   "id": "controlled-banking",
   "metadata": {},
   "source": [
    "### How's the dataframe look? "
   ]
  },
  {
   "cell_type": "code",
   "execution_count": 30,
   "id": "biblical-knife",
   "metadata": {},
   "outputs": [
    {
     "data": {
      "text/html": [
       "<div>\n",
       "<style scoped>\n",
       "    .dataframe tbody tr th:only-of-type {\n",
       "        vertical-align: middle;\n",
       "    }\n",
       "\n",
       "    .dataframe tbody tr th {\n",
       "        vertical-align: top;\n",
       "    }\n",
       "\n",
       "    .dataframe thead th {\n",
       "        text-align: right;\n",
       "    }\n",
       "</style>\n",
       "<table border=\"1\" class=\"dataframe\">\n",
       "  <thead>\n",
       "    <tr style=\"text-align: right;\">\n",
       "      <th></th>\n",
       "      <th>case_number</th>\n",
       "      <th>fullname</th>\n",
       "      <th>location_of_arrest</th>\n",
       "      <th>charge(s)</th>\n",
       "      <th>links_to_press_releases__charging_documents</th>\n",
       "      <th>case_status</th>\n",
       "      <th>entry_last_updated</th>\n",
       "      <th>links</th>\n",
       "    </tr>\n",
       "  </thead>\n",
       "  <tbody>\n",
       "    <tr>\n",
       "      <th>0</th>\n",
       "      <td>1:21-mj-100</td>\n",
       "      <td>ABUAL-RAGHEB, Rasha N.</td>\n",
       "      <td>New Jersey</td>\n",
       "      <td>Knowingly Entering or Remaining in any Restricted Building or Grounds Without Lawful Authority; Knowingly Engages in Disorderly or Disruptive Conduct in any Restricted Building or Grounds; Violent Entry and Disorderly Conduct on Capitol Grounds</td>\n",
       "      <td>Abual-Ragheb - Complaint  Abual-Ragheb - Affidavit</td>\n",
       "      <td>Arrested 1/19/21 in the District of New Jersey</td>\n",
       "      <td>1/22/2021</td>\n",
       "      <td>[/opa/page/file/1357081/download, /opa/page/file/1357076/download]</td>\n",
       "    </tr>\n",
       "    <tr>\n",
       "      <th>1</th>\n",
       "      <td>1:21-mj-81</td>\n",
       "      <td>ADAMS, Daniel Page</td>\n",
       "      <td>Eastern District of Texas</td>\n",
       "      <td>Assaulting a federal officer; obstructing law enforcement engaged in official duties incident to civil disorder; knowingly entering or remaining in any restricted building or grounds without lawful authority; violent entry and disorderly conduct on Capitol grounds</td>\n",
       "      <td>Adams Connell - Complaint  Adams Connell - Statement of Facts  Adams, Connell - Amended Statement of Facts  Adams, Connell - Amended Complaint</td>\n",
       "      <td>Arrested 1/16/21 in the Eastern District of Texas</td>\n",
       "      <td>1/22/2021</td>\n",
       "      <td>[/opa/page/file/1355881/download, /opa/page/file/1355876/download, /opa/page/file/1358936/download, /opa/page/file/1358931/download]</td>\n",
       "    </tr>\n",
       "    <tr>\n",
       "      <th>2</th>\n",
       "      <td>1:21-mj-10</td>\n",
       "      <td>ALBERTS, Christopher Michael</td>\n",
       "      <td>Maryland</td>\n",
       "      <td>Carrying or having readily accessible, on the grounds of the United States Capitol Building, a firearm and ammunition.</td>\n",
       "      <td>Thirteen Charged in Federal Court Following Riot at the United States Capitol  Alberts - Complaint  Alberts - Statement of Facts</td>\n",
       "      <td>Arrested on 1/7/21. Initial appearance / detention hearing on 1/7/21. Defendant released. Preliminary Hearing set for 1/28/21 at 2:00 p.m.</td>\n",
       "      <td>1/21/2021</td>\n",
       "      <td>[/opa/pr/thirteen-charged-federal-court-following-riot-united-states-capitol, /opa/press-release/file/1351681/download, /opa/press-release/file/1351686/download]</td>\n",
       "    </tr>\n",
       "    <tr>\n",
       "      <th>3</th>\n",
       "      <td>1:21-mj-3008</td>\n",
       "      <td>AYRES, Stephen Michael</td>\n",
       "      <td>Northern District of Ohio</td>\n",
       "      <td>Willfully and knowingly utter loud, threatening, or abusive language, or engage in disorderly or disruptive conduct, at any place in the Grounds or in any of the Capitol Buildings with the intent to impede, disrupt, or disturb the orderly conduct of a session of Congress or either House of Congress, or the orderly conduct in that building of a hearing before, or any deliberations of, a committee of Congress or either House of Congress</td>\n",
       "      <td>Ayres - Affidavit</td>\n",
       "      <td>Arrested 1/25/21 in the Northern District of Ohio</td>\n",
       "      <td>1/26/2021</td>\n",
       "      <td>[/opa/page/file/1360721/download]</td>\n",
       "    </tr>\n",
       "    <tr>\n",
       "      <th>4</th>\n",
       "      <td>1:21-mj-24</td>\n",
       "      <td>BARANYI, Thomas</td>\n",
       "      <td>New Jersey</td>\n",
       "      <td>Restricted building or grounds; violent entry or disorderly conduct</td>\n",
       "      <td>Baranyi - Affidavit  Baranyi - Complaint</td>\n",
       "      <td>Arrested on 1/12/21. Initial appearance in the District of New Jersey on 1/12/21</td>\n",
       "      <td>1/21/2021</td>\n",
       "      <td>[/opa/page/file/1355731/download, /opa/page/file/1356466/download]</td>\n",
       "    </tr>\n",
       "  </tbody>\n",
       "</table>\n",
       "</div>"
      ],
      "text/plain": [
       "    case_number                      fullname         location_of_arrest  \\\n",
       "0   1:21-mj-100        ABUAL-RAGHEB, Rasha N.                 New Jersey   \n",
       "1    1:21-mj-81            ADAMS, Daniel Page  Eastern District of Texas   \n",
       "2    1:21-mj-10  ALBERTS, Christopher Michael                   Maryland   \n",
       "3  1:21-mj-3008        AYRES, Stephen Michael  Northern District of Ohio   \n",
       "4    1:21-mj-24               BARANYI, Thomas                 New Jersey   \n",
       "\n",
       "                                                                                                                                                                                                                                                                                                                                                                                                                                                charge(s)  \\\n",
       "0                                                                                                                                                                                                    Knowingly Entering or Remaining in any Restricted Building or Grounds Without Lawful Authority; Knowingly Engages in Disorderly or Disruptive Conduct in any Restricted Building or Grounds; Violent Entry and Disorderly Conduct on Capitol Grounds   \n",
       "1                                                                                                                                                                                Assaulting a federal officer; obstructing law enforcement engaged in official duties incident to civil disorder; knowingly entering or remaining in any restricted building or grounds without lawful authority; violent entry and disorderly conduct on Capitol grounds   \n",
       "2                                                                                                                                                                                                                                                                                                                                  Carrying or having readily accessible, on the grounds of the United States Capitol Building, a firearm and ammunition.   \n",
       "3  Willfully and knowingly utter loud, threatening, or abusive language, or engage in disorderly or disruptive conduct, at any place in the Grounds or in any of the Capitol Buildings with the intent to impede, disrupt, or disturb the orderly conduct of a session of Congress or either House of Congress, or the orderly conduct in that building of a hearing before, or any deliberations of, a committee of Congress or either House of Congress   \n",
       "4                                                                                                                                                                                                                                                                                                                                                                                     Restricted building or grounds; violent entry or disorderly conduct   \n",
       "\n",
       "                                                                                                      links_to_press_releases__charging_documents  \\\n",
       "0                                                                                              Abual-Ragheb - Complaint  Abual-Ragheb - Affidavit   \n",
       "1  Adams Connell - Complaint  Adams Connell - Statement of Facts  Adams, Connell - Amended Statement of Facts  Adams, Connell - Amended Complaint   \n",
       "2                Thirteen Charged in Federal Court Following Riot at the United States Capitol  Alberts - Complaint  Alberts - Statement of Facts   \n",
       "3                                                                                                                               Ayres - Affidavit   \n",
       "4                                                                                                        Baranyi - Affidavit  Baranyi - Complaint   \n",
       "\n",
       "                                                                                                                                  case_status  \\\n",
       "0                                                                                              Arrested 1/19/21 in the District of New Jersey   \n",
       "1                                                                                           Arrested 1/16/21 in the Eastern District of Texas   \n",
       "2  Arrested on 1/7/21. Initial appearance / detention hearing on 1/7/21. Defendant released. Preliminary Hearing set for 1/28/21 at 2:00 p.m.   \n",
       "3                                                                                           Arrested 1/25/21 in the Northern District of Ohio   \n",
       "4                                                            Arrested on 1/12/21. Initial appearance in the District of New Jersey on 1/12/21   \n",
       "\n",
       "  entry_last_updated  \\\n",
       "0          1/22/2021   \n",
       "1          1/22/2021   \n",
       "2          1/21/2021   \n",
       "3          1/26/2021   \n",
       "4          1/21/2021   \n",
       "\n",
       "                                                                                                                                                               links  \n",
       "0                                                                                                 [/opa/page/file/1357081/download, /opa/page/file/1357076/download]  \n",
       "1                               [/opa/page/file/1355881/download, /opa/page/file/1355876/download, /opa/page/file/1358936/download, /opa/page/file/1358931/download]  \n",
       "2  [/opa/pr/thirteen-charged-federal-court-following-riot-united-states-capitol, /opa/press-release/file/1351681/download, /opa/press-release/file/1351686/download]  \n",
       "3                                                                                                                                  [/opa/page/file/1360721/download]  \n",
       "4                                                                                                 [/opa/page/file/1355731/download, /opa/page/file/1356466/download]  "
      ]
     },
     "execution_count": 30,
     "metadata": {},
     "output_type": "execute_result"
    }
   ],
   "source": [
    "justice_df.head()"
   ]
  },
  {
   "cell_type": "code",
   "execution_count": 31,
   "id": "obvious-browser",
   "metadata": {},
   "outputs": [
    {
     "data": {
      "text/plain": [
       "New Jersey                        6\n",
       "Middle District of Florida        6\n",
       "Eastern District of Texas         5\n",
       "Central District of California    5\n",
       "Northern District of Texas        4\n",
       "Name: location_of_arrest, dtype: int64"
      ]
     },
     "execution_count": 31,
     "metadata": {},
     "output_type": "execute_result"
    }
   ],
   "source": [
    "justice_df.location_of_arrest.value_counts().head()"
   ]
  },
  {
   "cell_type": "code",
   "execution_count": 32,
   "id": "wrong-kansas",
   "metadata": {},
   "outputs": [],
   "source": [
    "justice_df.to_json(\"processed/justice_df.json\", orient=\"records\", indent=2)"
   ]
  },
  {
   "cell_type": "code",
   "execution_count": 33,
   "id": "reliable-packing",
   "metadata": {},
   "outputs": [
    {
     "data": {
      "text/plain": [
       "134"
      ]
     },
     "execution_count": 33,
     "metadata": {},
     "output_type": "execute_result"
    }
   ],
   "source": [
    "len(justice_df)"
   ]
  },
  {
   "cell_type": "markdown",
   "id": "earned-community",
   "metadata": {},
   "source": [
    "---"
   ]
  },
  {
   "cell_type": "markdown",
   "id": "latest-colorado",
   "metadata": {},
   "source": [
    "### Ingrest data from the Program on Extremism at GW"
   ]
  },
  {
   "cell_type": "code",
   "execution_count": 34,
   "id": "informal-control",
   "metadata": {},
   "outputs": [],
   "source": [
    "# https://extremism.gwu.edu/Capitol-Hill-Cases"
   ]
  },
  {
   "cell_type": "code",
   "execution_count": 35,
   "id": "scenic-optics",
   "metadata": {},
   "outputs": [
    {
     "name": "stdout",
     "output_type": "stream",
     "text": [
      "--2021-01-27 06:52:40--  https://extremism.gwu.edu/sites/g/files/zaxdzs2191/f/CapitolHillTracker11521.xlsx\n",
      "Resolving extremism.gwu.edu (extremism.gwu.edu)... 2606:4700::6812:925, 2606:4700::6812:825, 104.18.9.37, ...\n",
      "Connecting to extremism.gwu.edu (extremism.gwu.edu)|2606:4700::6812:925|:443... connected.\n",
      "HTTP request sent, awaiting response... 200 OK\n",
      "Length: 11830 (12K) [application/vnd.openxmlformats-officedocument.spreadsheetml.sheet]\n",
      "Saving to: ‘raw/latest_extremism.xlsx’\n",
      "\n",
      "latest_extremism.xl 100%[===================>]  11.55K  --.-KB/s    in 0.001s  \n",
      "\n",
      "2021-01-27 06:52:41 (16.6 MB/s) - ‘raw/latest_extremism.xlsx’ saved [11830/11830]\n",
      "\n"
     ]
    }
   ],
   "source": [
    "!wget 'https://extremism.gwu.edu/sites/g/files/zaxdzs2191/f/CapitolHillTracker11521.xlsx' --directory-prefix=\"raw/\" --output-document=\"raw/latest_extremism.xlsx\""
   ]
  },
  {
   "cell_type": "code",
   "execution_count": 36,
   "id": "restricted-spokesman",
   "metadata": {},
   "outputs": [],
   "source": [
    "gw_df = pd.read_excel(\"raw/latest_extremism.xlsx\", skiprows=1).dropna(how=\"all\", axis=1)"
   ]
  },
  {
   "cell_type": "code",
   "execution_count": 37,
   "id": "everyday-opposition",
   "metadata": {},
   "outputs": [],
   "source": [
    "gw_df.columns = (\n",
    "    gw_df.columns.str.strip()\n",
    "    .str.lower()\n",
    "    .str.replace(\" \", \"_\", regex=False)\n",
    "    .str.replace(\":\", \"\", regex=False)\n",
    "    .str.replace(\"/\", \"_\", regex=False)\n",
    "    .str.replace(\",\", \"_\", regex=False)\n",
    ")"
   ]
  },
  {
   "cell_type": "code",
   "execution_count": 38,
   "id": "looking-floating",
   "metadata": {},
   "outputs": [],
   "source": [
    "gw_df[\"datecharged\"] = (pd.to_datetime(gw_df[\"datecharged\"]).dt.date).fillna(\"\")"
   ]
  },
  {
   "cell_type": "code",
   "execution_count": 39,
   "id": "radio-column",
   "metadata": {},
   "outputs": [
    {
     "data": {
      "text/html": [
       "<div>\n",
       "<style scoped>\n",
       "    .dataframe tbody tr th:only-of-type {\n",
       "        vertical-align: middle;\n",
       "    }\n",
       "\n",
       "    .dataframe tbody tr th {\n",
       "        vertical-align: top;\n",
       "    }\n",
       "\n",
       "    .dataframe thead th {\n",
       "        text-align: right;\n",
       "    }\n",
       "</style>\n",
       "<table border=\"1\" class=\"dataframe\">\n",
       "  <thead>\n",
       "    <tr style=\"text-align: right;\">\n",
       "      <th></th>\n",
       "      <th>name</th>\n",
       "      <th>agearrest</th>\n",
       "      <th>gender</th>\n",
       "      <th>state</th>\n",
       "      <th>datecharged</th>\n",
       "    </tr>\n",
       "  </thead>\n",
       "  <tbody>\n",
       "    <tr>\n",
       "      <th>0</th>\n",
       "      <td>ALBERTS, Christopher Michael</td>\n",
       "      <td>33</td>\n",
       "      <td>M</td>\n",
       "      <td>MD</td>\n",
       "      <td>2021-01-07</td>\n",
       "    </tr>\n",
       "    <tr>\n",
       "      <th>1</th>\n",
       "      <td>BARANYI, Thomas</td>\n",
       "      <td>28</td>\n",
       "      <td>M</td>\n",
       "      <td>NJ</td>\n",
       "      <td>2021-01-10</td>\n",
       "    </tr>\n",
       "    <tr>\n",
       "      <th>2</th>\n",
       "      <td>BARNETT, Richard</td>\n",
       "      <td>60</td>\n",
       "      <td>M</td>\n",
       "      <td>AR</td>\n",
       "      <td>2021-01-07</td>\n",
       "    </tr>\n",
       "    <tr>\n",
       "      <th>3</th>\n",
       "      <td>BAUER, Robert</td>\n",
       "      <td>Unknown</td>\n",
       "      <td>M</td>\n",
       "      <td>KY</td>\n",
       "      <td></td>\n",
       "    </tr>\n",
       "    <tr>\n",
       "      <th>4</th>\n",
       "      <td>BLACK, Joshua Matthew</td>\n",
       "      <td>44</td>\n",
       "      <td>M</td>\n",
       "      <td>AL</td>\n",
       "      <td>2021-01-13</td>\n",
       "    </tr>\n",
       "    <tr>\n",
       "      <th>5</th>\n",
       "      <td>BLEDSOE, Matthew</td>\n",
       "      <td>Unknown</td>\n",
       "      <td>M</td>\n",
       "      <td>Unknown</td>\n",
       "      <td></td>\n",
       "    </tr>\n",
       "    <tr>\n",
       "      <th>6</th>\n",
       "      <td>BROCK, Larry Rendell</td>\n",
       "      <td>54</td>\n",
       "      <td>M</td>\n",
       "      <td>TX</td>\n",
       "      <td>2021-01-09</td>\n",
       "    </tr>\n",
       "    <tr>\n",
       "      <th>7</th>\n",
       "      <td>BROWN, Terry</td>\n",
       "      <td>69</td>\n",
       "      <td>M</td>\n",
       "      <td>PA</td>\n",
       "      <td>2021-01-07</td>\n",
       "    </tr>\n",
       "    <tr>\n",
       "      <th>8</th>\n",
       "      <td>CAMARGO, Samuel</td>\n",
       "      <td>Unknown</td>\n",
       "      <td>M</td>\n",
       "      <td>FL</td>\n",
       "      <td>2021-01-15</td>\n",
       "    </tr>\n",
       "    <tr>\n",
       "      <th>9</th>\n",
       "      <td>CHANSLEY, Jacob Anthony</td>\n",
       "      <td>33</td>\n",
       "      <td>M</td>\n",
       "      <td>AZ</td>\n",
       "      <td>2021-01-11</td>\n",
       "    </tr>\n",
       "  </tbody>\n",
       "</table>\n",
       "</div>"
      ],
      "text/plain": [
       "                            name agearrest gender    state datecharged\n",
       "0  ALBERTS, Christopher Michael         33      M       MD  2021-01-07\n",
       "1                BARANYI, Thomas        28      M       NJ  2021-01-10\n",
       "2               BARNETT, Richard        60      M       AR  2021-01-07\n",
       "3                  BAUER, Robert   Unknown      M       KY            \n",
       "4          BLACK, Joshua Matthew        44      M       AL  2021-01-13\n",
       "5               BLEDSOE, Matthew   Unknown      M  Unknown            \n",
       "6           BROCK, Larry Rendell        54      M       TX  2021-01-09\n",
       "7                   BROWN, Terry        69      M       PA  2021-01-07\n",
       "8                CAMARGO, Samuel   Unknown      M       FL  2021-01-15\n",
       "9        CHANSLEY, Jacob Anthony        33      M       AZ  2021-01-11"
      ]
     },
     "execution_count": 39,
     "metadata": {},
     "output_type": "execute_result"
    }
   ],
   "source": [
    "gw_df.head(10)"
   ]
  },
  {
   "cell_type": "code",
   "execution_count": 40,
   "id": "present-terry",
   "metadata": {},
   "outputs": [],
   "source": [
    "gw_df.name = gw_df.name.str.strip()"
   ]
  },
  {
   "cell_type": "code",
   "execution_count": 41,
   "id": "tired-illness",
   "metadata": {},
   "outputs": [
    {
     "data": {
      "text/plain": [
       "58"
      ]
     },
     "execution_count": 41,
     "metadata": {},
     "output_type": "execute_result"
    }
   ],
   "source": [
    "len(gw_df)"
   ]
  },
  {
   "cell_type": "code",
   "execution_count": 42,
   "id": "approved-offer",
   "metadata": {},
   "outputs": [
    {
     "data": {
      "text/plain": [
       "VA         7\n",
       "Unknown    6\n",
       "NY         5\n",
       "TX         5\n",
       "FL         5\n",
       "AR         2\n",
       "IL         2\n",
       "PA         2\n",
       "CO         2\n",
       "AL         2\n",
       "MD         2\n",
       "DE         2\n",
       "WV         1\n",
       "NH         1\n",
       "IA         1\n",
       "LA         1\n",
       "WA         1\n",
       "WI         1\n",
       "NJ         1\n",
       "KY         1\n",
       "MO         1\n",
       "AZ         1\n",
       "UT         1\n",
       "TN         1\n",
       "ID         1\n",
       "OH         1\n",
       "HI         1\n",
       "DC         1\n",
       "Name: state, dtype: int64"
      ]
     },
     "execution_count": 42,
     "metadata": {},
     "output_type": "execute_result"
    }
   ],
   "source": [
    "gw_df.state.value_counts()"
   ]
  },
  {
   "cell_type": "markdown",
   "id": "pretty-junior",
   "metadata": {},
   "source": [
    "### Merge with Justice data"
   ]
  },
  {
   "cell_type": "code",
   "execution_count": 43,
   "id": "spare-survey",
   "metadata": {},
   "outputs": [],
   "source": [
    "# justice_gw_merge = pd.merge(\n",
    "#     justice_df, gw_df, right_on=\"name\", left_on=\"fullname\", how=\"right\"\n",
    "# )"
   ]
  },
  {
   "cell_type": "code",
   "execution_count": 44,
   "id": "published-persian",
   "metadata": {},
   "outputs": [],
   "source": [
    "# len(justice_gw_merge)"
   ]
  },
  {
   "cell_type": "code",
   "execution_count": 45,
   "id": "built-customer",
   "metadata": {},
   "outputs": [],
   "source": [
    "# justice_gw_merge.head()"
   ]
  },
  {
   "cell_type": "markdown",
   "id": "indoor-contribution",
   "metadata": {},
   "source": [
    "---"
   ]
  },
  {
   "cell_type": "markdown",
   "id": "innocent-providence",
   "metadata": {},
   "source": [
    "### Read data from the [Prosecution Project](https://theprosecutionproject.org/2021/01/14/prosecution-data-capitol-siege-of-january-6-2021/)"
   ]
  },
  {
   "cell_type": "code",
   "execution_count": 107,
   "id": "conceptual-vacation",
   "metadata": {},
   "outputs": [],
   "source": [
    "url2 = \"https://docs.google.com/spreadsheets/d/e/2PACX-1vQ-NJiMr9_MVxsqTSB1sYkzOZSfg59m6ViR7qvjXef3O4txMuWYxh7TlTVcQAxzduCjhLxKP3dlXUhX/pub?output=csv\""
   ]
  },
  {
   "cell_type": "code",
   "execution_count": 108,
   "id": "artistic-christopher",
   "metadata": {},
   "outputs": [],
   "source": [
    "cases = pd.read_csv(url2, dtype={\"age\": int})"
   ]
  },
  {
   "cell_type": "code",
   "execution_count": 109,
   "id": "thrown-yukon",
   "metadata": {},
   "outputs": [],
   "source": [
    "cases.columns = (\n",
    "    cases.columns.str.strip()\n",
    "    .str.lower()\n",
    "    .str.replace(\" \", \"_\", regex=False)\n",
    "    .str.replace(\":\", \"\", regex=False)\n",
    "    .str.replace(\"/\", \"_\", regex=False)\n",
    "    .str.replace(\"-\", \"_\", regex=False)\n",
    ")"
   ]
  },
  {
   "cell_type": "code",
   "execution_count": 110,
   "id": "beneficial-campaign",
   "metadata": {},
   "outputs": [],
   "source": [
    "cases = cases.dropna(how=\"all\")"
   ]
  },
  {
   "cell_type": "code",
   "execution_count": 111,
   "id": "global-sudan",
   "metadata": {},
   "outputs": [],
   "source": [
    "cases[\"charges\"] = cases[\"charges\"].str.upper()"
   ]
  },
  {
   "cell_type": "code",
   "execution_count": 112,
   "id": "honest-arrow",
   "metadata": {},
   "outputs": [
    {
     "data": {
      "text/html": [
       "<div>\n",
       "<style scoped>\n",
       "    .dataframe tbody tr th:only-of-type {\n",
       "        vertical-align: middle;\n",
       "    }\n",
       "\n",
       "    .dataframe tbody tr th {\n",
       "        vertical-align: top;\n",
       "    }\n",
       "\n",
       "    .dataframe thead th {\n",
       "        text-align: right;\n",
       "    }\n",
       "</style>\n",
       "<table border=\"1\" class=\"dataframe\">\n",
       "  <thead>\n",
       "    <tr style=\"text-align: right;\">\n",
       "      <th></th>\n",
       "      <th>full_legal_name</th>\n",
       "      <th>charges</th>\n",
       "    </tr>\n",
       "  </thead>\n",
       "  <tbody>\n",
       "    <tr>\n",
       "      <th>0</th>\n",
       "      <td>Henry Tarrio</td>\n",
       "      <td>7 DC CODE 2506.01(B) POSSESSION OF LARGE CAPACITY AMMUNITION FEEDING DEVICE [2 COUNTS]</td>\n",
       "    </tr>\n",
       "    <tr>\n",
       "      <th>1</th>\n",
       "      <td>Matthew Council</td>\n",
       "      <td>18:1752(A)(1)  KNOWINGLY ENTERING OR REMAINING IN ANY RESTRICTED BUILDING OR GROUNDS WITHOUT LAWFUL AUTHORITY; 40:5104(E)(2) VIOLENT ENTRY AND DISORDERLY CONDUCT ON CAPITOL GROUNDS</td>\n",
       "    </tr>\n",
       "    <tr>\n",
       "      <th>2</th>\n",
       "      <td>Bradley Rukstales</td>\n",
       "      <td>18:1752(A) KNOWINGLY ENTERING OR REMAINING IN ANY RESTRICTED BUILDING OR GROUNDS WITHOUT LAWFUL AUTHORITY, OR KNOWINGLY, WITH INTENT TO IMPEDE GOVERNMENT BUSINESS OR OFFICIAL FUNCTIONS, ENGAGING IN DISORDERLY CONDUCT ON CAPITOL GROUNDS; 40:5104(E)(2) VIOLENT ENTRY AND DISORDERLY CONDUCT ON CAPITOL GROUNDS</td>\n",
       "    </tr>\n",
       "    <tr>\n",
       "      <th>3</th>\n",
       "      <td>Michael Curzio</td>\n",
       "      <td>18:1752(A) KNOWINGLY ENTERING OR REMAINING IN ANY RESTRICTED BUILDING OR GROUNDS WITHOUT LAWFUL AUTHORITY, OR KNOWINGLY, WITH INTENT TO IMPEDE GOVERNMENT BUSINESS OR OFFICIAL FUNCTIONS, ENGAGING IN DISORDERLY CONDUCT ON CAPITOL GROUNDS; 40:5104(E)(2) VIOLENT ENTRY AND DISORDERLY CONDUCT ON CAPITOL GROUNDS</td>\n",
       "    </tr>\n",
       "    <tr>\n",
       "      <th>4</th>\n",
       "      <td>Cindy Fitchett</td>\n",
       "      <td>18:1752(A) KNOWINGLY ENTERING OR REMAINING IN ANY RESTRICTED BUILDING OR GROUNDS WITHOUT LAWFUL AUTHORITY, OR KNOWINGLY, WITH INTENT TO IMPEDE GOVERNMENT BUSINESS OR OFFICIAL FUNCTIONS, ENGAGING IN DISORDERLY CONDUCT ON CAPITOL GROUNDS; 40:5104(E)(2) VIOLENT ENTRY AND DISORDERLY CONDUCT ON CAPITOL GROUNDS</td>\n",
       "    </tr>\n",
       "  </tbody>\n",
       "</table>\n",
       "</div>"
      ],
      "text/plain": [
       "     full_legal_name  \\\n",
       "0       Henry Tarrio   \n",
       "1    Matthew Council   \n",
       "2  Bradley Rukstales   \n",
       "3     Michael Curzio   \n",
       "4    Cindy Fitchett    \n",
       "\n",
       "                                                                                                                                                                                                                                                                                                              charges  \n",
       "0                                                                                                                                                                                                                              7 DC CODE 2506.01(B) POSSESSION OF LARGE CAPACITY AMMUNITION FEEDING DEVICE [2 COUNTS]  \n",
       "1                                                                                                                                18:1752(A)(1)  KNOWINGLY ENTERING OR REMAINING IN ANY RESTRICTED BUILDING OR GROUNDS WITHOUT LAWFUL AUTHORITY; 40:5104(E)(2) VIOLENT ENTRY AND DISORDERLY CONDUCT ON CAPITOL GROUNDS  \n",
       "2  18:1752(A) KNOWINGLY ENTERING OR REMAINING IN ANY RESTRICTED BUILDING OR GROUNDS WITHOUT LAWFUL AUTHORITY, OR KNOWINGLY, WITH INTENT TO IMPEDE GOVERNMENT BUSINESS OR OFFICIAL FUNCTIONS, ENGAGING IN DISORDERLY CONDUCT ON CAPITOL GROUNDS; 40:5104(E)(2) VIOLENT ENTRY AND DISORDERLY CONDUCT ON CAPITOL GROUNDS  \n",
       "3  18:1752(A) KNOWINGLY ENTERING OR REMAINING IN ANY RESTRICTED BUILDING OR GROUNDS WITHOUT LAWFUL AUTHORITY, OR KNOWINGLY, WITH INTENT TO IMPEDE GOVERNMENT BUSINESS OR OFFICIAL FUNCTIONS, ENGAGING IN DISORDERLY CONDUCT ON CAPITOL GROUNDS; 40:5104(E)(2) VIOLENT ENTRY AND DISORDERLY CONDUCT ON CAPITOL GROUNDS  \n",
       "4  18:1752(A) KNOWINGLY ENTERING OR REMAINING IN ANY RESTRICTED BUILDING OR GROUNDS WITHOUT LAWFUL AUTHORITY, OR KNOWINGLY, WITH INTENT TO IMPEDE GOVERNMENT BUSINESS OR OFFICIAL FUNCTIONS, ENGAGING IN DISORDERLY CONDUCT ON CAPITOL GROUNDS; 40:5104(E)(2) VIOLENT ENTRY AND DISORDERLY CONDUCT ON CAPITOL GROUNDS  "
      ]
     },
     "execution_count": 112,
     "metadata": {},
     "output_type": "execute_result"
    }
   ],
   "source": [
    "cases[[\"full_legal_name\", \"charges\"]].head()"
   ]
  },
  {
   "cell_type": "markdown",
   "id": "pleased-coordinate",
   "metadata": {},
   "source": [
    "### Mean age of all arrestees related to the Capitol seige"
   ]
  },
  {
   "cell_type": "code",
   "execution_count": 113,
   "id": "excited-attachment",
   "metadata": {},
   "outputs": [
    {
     "data": {
      "text/plain": [
       "date                   object\n",
       "date_descriptor        object\n",
       "case_id                object\n",
       "group_identifier       object\n",
       "full_legal_name        object\n",
       "first_name             object\n",
       "family_name            object\n",
       "other_names_aliases    object\n",
       "co_offenders           object\n",
       "name_of_case           object\n",
       "jurisdiction           object\n",
       "location_country       object\n",
       "location_state         object\n",
       "location_city          object\n",
       "charges                object\n",
       "additional_details     object\n",
       "age                    object\n",
       "gender                 object\n",
       "racial_ethnic_group    object\n",
       "short_narrative        object\n",
       "dtype: object"
      ]
     },
     "execution_count": 113,
     "metadata": {},
     "output_type": "execute_result"
    }
   ],
   "source": [
    "cases.dtypes"
   ]
  },
  {
   "cell_type": "code",
   "execution_count": 114,
   "id": "ranging-label",
   "metadata": {},
   "outputs": [],
   "source": [
    "cases[\"age\"] = cases[\"age\"].fillna(\"0\").str.replace(\"Bledsoe\", \"0\", regex=False)"
   ]
  },
  {
   "cell_type": "code",
   "execution_count": 115,
   "id": "sporting-gardening",
   "metadata": {},
   "outputs": [],
   "source": [
    "cases[\"age\"] = cases[\"age\"].astype(int)"
   ]
  },
  {
   "cell_type": "code",
   "execution_count": 116,
   "id": "controversial-vector",
   "metadata": {},
   "outputs": [
    {
     "data": {
      "text/plain": [
       "31.223175965665234"
      ]
     },
     "execution_count": 116,
     "metadata": {},
     "output_type": "execute_result"
    }
   ],
   "source": [
    "cases[\"age\"].mean()"
   ]
  },
  {
   "cell_type": "markdown",
   "id": "curious-award",
   "metadata": {},
   "source": [
    "### Number of cases so far"
   ]
  },
  {
   "cell_type": "code",
   "execution_count": 117,
   "id": "expired-exemption",
   "metadata": {},
   "outputs": [
    {
     "data": {
      "text/plain": [
       "233"
      ]
     },
     "execution_count": 117,
     "metadata": {},
     "output_type": "execute_result"
    }
   ],
   "source": [
    "len(cases)"
   ]
  },
  {
   "cell_type": "markdown",
   "id": "welcome-poster",
   "metadata": {},
   "source": [
    "### Gender counts for those charged"
   ]
  },
  {
   "cell_type": "code",
   "execution_count": 118,
   "id": "turkish-train",
   "metadata": {},
   "outputs": [
    {
     "data": {
      "text/plain": [
       "Male               86.0\n",
       "Female             14.0\n",
       "Unknown/unclear     0.0\n",
       "Name: gender, dtype: float64"
      ]
     },
     "execution_count": 118,
     "metadata": {},
     "output_type": "execute_result"
    }
   ],
   "source": [
    "round(cases.gender.value_counts(\"normalize\") * 100)"
   ]
  },
  {
   "cell_type": "markdown",
   "id": "proof-harvey",
   "metadata": {},
   "source": [
    "### Race/ethnicity of those charged?"
   ]
  },
  {
   "cell_type": "code",
   "execution_count": 119,
   "id": "domestic-cargo",
   "metadata": {},
   "outputs": [
    {
     "data": {
      "text/plain": [
       "White/Caucasian                   91.0\n",
       "Latino/Hispanic                    4.0\n",
       "Black/African/African American     3.0\n",
       "Asian/South Asian                  1.0\n",
       "Unknown                            1.0\n",
       "Name: racial_ethnic_group, dtype: float64"
      ]
     },
     "execution_count": 119,
     "metadata": {},
     "output_type": "execute_result"
    }
   ],
   "source": [
    "round(cases.racial_ethnic_group.value_counts(\"normalize\") * 100)"
   ]
  },
  {
   "cell_type": "code",
   "execution_count": 120,
   "id": "printable-product",
   "metadata": {},
   "outputs": [],
   "source": [
    "cases_race = (\n",
    "    cases.groupby([\"racial_ethnic_group\"]).agg({\"case_id\": \"size\"}).reset_index()\n",
    ").rename(columns={\"case_id\": \"count\"})"
   ]
  },
  {
   "cell_type": "code",
   "execution_count": 121,
   "id": "consistent-somewhere",
   "metadata": {},
   "outputs": [
    {
     "data": {
      "text/html": [
       "\n",
       "<div id=\"altair-viz-cf6a4cd430334183b7947667a1dba137\"></div>\n",
       "<script type=\"text/javascript\">\n",
       "  (function(spec, embedOpt){\n",
       "    let outputDiv = document.currentScript.previousElementSibling;\n",
       "    if (outputDiv.id !== \"altair-viz-cf6a4cd430334183b7947667a1dba137\") {\n",
       "      outputDiv = document.getElementById(\"altair-viz-cf6a4cd430334183b7947667a1dba137\");\n",
       "    }\n",
       "    const paths = {\n",
       "      \"vega\": \"https://cdn.jsdelivr.net/npm//vega@5?noext\",\n",
       "      \"vega-lib\": \"https://cdn.jsdelivr.net/npm//vega-lib?noext\",\n",
       "      \"vega-lite\": \"https://cdn.jsdelivr.net/npm//vega-lite@4.8.1?noext\",\n",
       "      \"vega-embed\": \"https://cdn.jsdelivr.net/npm//vega-embed@6?noext\",\n",
       "    };\n",
       "\n",
       "    function loadScript(lib) {\n",
       "      return new Promise(function(resolve, reject) {\n",
       "        var s = document.createElement('script');\n",
       "        s.src = paths[lib];\n",
       "        s.async = true;\n",
       "        s.onload = () => resolve(paths[lib]);\n",
       "        s.onerror = () => reject(`Error loading script: ${paths[lib]}`);\n",
       "        document.getElementsByTagName(\"head\")[0].appendChild(s);\n",
       "      });\n",
       "    }\n",
       "\n",
       "    function showError(err) {\n",
       "      outputDiv.innerHTML = `<div class=\"error\" style=\"color:red;\">${err}</div>`;\n",
       "      throw err;\n",
       "    }\n",
       "\n",
       "    function displayChart(vegaEmbed) {\n",
       "      vegaEmbed(outputDiv, spec, embedOpt)\n",
       "        .catch(err => showError(`Javascript Error: ${err.message}<br>This usually means there's a typo in your chart specification. See the javascript console for the full traceback.`));\n",
       "    }\n",
       "\n",
       "    if(typeof define === \"function\" && define.amd) {\n",
       "      requirejs.config({paths});\n",
       "      require([\"vega-embed\"], displayChart, err => showError(`Error loading script: ${err.message}`));\n",
       "    } else if (typeof vegaEmbed === \"function\") {\n",
       "      displayChart(vegaEmbed);\n",
       "    } else {\n",
       "      loadScript(\"vega\")\n",
       "        .then(() => loadScript(\"vega-lite\"))\n",
       "        .then(() => loadScript(\"vega-embed\"))\n",
       "        .catch(showError)\n",
       "        .then(() => displayChart(vegaEmbed));\n",
       "    }\n",
       "  })({\"config\": {\"view\": {\"width\": 800, \"height\": 450}, \"background\": \"#ffffff\", \"title\": {\"anchor\": \"start\", \"font\": \"Benton Gothic Bold, sans\", \"fontColor\": \"#000000\", \"fontSize\": 22, \"fontWeight\": \"normal\"}, \"arc\": {\"fill\": \"#82c6df\"}, \"area\": {\"fill\": \"#82c6df\"}, \"line\": {\"stroke\": \"#82c6df\", \"strokeWidth\": 3}, \"path\": {\"stroke\": \"#82c6df\"}, \"rect\": {\"fill\": \"#82c6df\"}, \"shape\": {\"stroke\": \"#82c6df\"}, \"bar\": {\"fill\": \"#82c6df\"}, \"point\": {\"stroke\": \"#82c6df\"}, \"symbol\": {\"fill\": \"#82c6df\", \"size\": 30}, \"axis\": {\"titleFont\": \"Benton Gothic Bold, sans\", \"titleFontSize\": 13, \"titleFontWeight\": \"normal\", \"labelFont\": \"Benton Gothic, sans\", \"labelFontSize\": 11.5, \"labelFontWeight\": \"normal\"}, \"axisX\": {\"labelAngle\": 0, \"labelPadding\": 4, \"tickSize\": 3}, \"axisY\": {\"labelBaseline\": \"middle\", \"maxExtent\": 45, \"minExtent\": 45, \"tickSize\": 2, \"titleAlign\": \"left\", \"titleAngle\": 0, \"titleX\": -45, \"titleY\": -11}, \"legend\": {\"titleFont\": \"Benton Gothic Bold, sans\", \"titleFontSize\": 13, \"titleFontWeight\": \"normal\", \"symbolType\": \"square\", \"labelFont\": \"Benton Gothic, sans\", \"labelFontSize\": 11.5}, \"range\": {\"category\": [\"#3580b1\", \"#ec8431\", \"#ab7fb4\", \"#c89d29\", \"#adc839\", \"#829eb1\"], \"diverging\": [\"#e68a4f\", \"#f4bb6a\", \"#f9e39c\", \"#dadfe2\", \"#a6b7c6\", \"#849eae\"], \"heatmap\": [\"#fbf2c7\", \"#f9e39c\", \"#f8d36e\", \"#f4bb6a\", \"#e68a4f\", \"#d15a40\", \"#ab4232\"], \"ordinal\": [\"#fbf2c7\", \"#f9e39c\", \"#f8d36e\", \"#f4bb6a\", \"#e68a4f\", \"#d15a40\", \"#ab4232\"], \"ramp\": [\"#fbf2c7\", \"#f9e39c\", \"#f8d36e\", \"#f4bb6a\", \"#e68a4f\", \"#d15a40\", \"#ab4232\"]}}, \"data\": {\"name\": \"data-ea937b4d61fb03afec3605784b64a382\"}, \"mark\": \"bar\", \"encoding\": {\"x\": {\"type\": \"nominal\", \"field\": \"racial_ethnic_group\", \"title\": \"Race/ethnicity\"}, \"y\": {\"type\": \"quantitative\", \"field\": \"count\", \"title\": \"Count\"}}, \"height\": 400, \"title\": \"Cases by race/ethnicity\", \"width\": 800, \"$schema\": \"https://vega.github.io/schema/vega-lite/v4.8.1.json\", \"datasets\": {\"data-ea937b4d61fb03afec3605784b64a382\": [{\"racial_ethnic_group\": \"Asian/South Asian\", \"count\": 2}, {\"racial_ethnic_group\": \"Black/African/African American\", \"count\": 5}, {\"racial_ethnic_group\": \"Latino/Hispanic\", \"count\": 7}, {\"racial_ethnic_group\": \"Unknown\", \"count\": 1}, {\"racial_ethnic_group\": \"White/Caucasian\", \"count\": 156}]}}, {\"mode\": \"vega-lite\"});\n",
       "</script>"
      ],
      "text/plain": [
       "alt.Chart(...)"
      ]
     },
     "execution_count": 121,
     "metadata": {},
     "output_type": "execute_result"
    }
   ],
   "source": [
    "alt.Chart(cases_race).mark_bar().encode(\n",
    "    x=alt.X(\"racial_ethnic_group:N\", title=\"Race/ethnicity\"),\n",
    "    y=alt.Y(\"count:Q\", title=\"Count\"),\n",
    ").properties(width=800, height=400, title=\"Cases by race/ethnicity\")"
   ]
  },
  {
   "cell_type": "markdown",
   "id": "recognized-consolidation",
   "metadata": {},
   "source": [
    "---"
   ]
  },
  {
   "cell_type": "markdown",
   "id": "legal-insert",
   "metadata": {},
   "source": [
    "### Cases that only involve illegally entering the Capitol"
   ]
  },
  {
   "cell_type": "code",
   "execution_count": 122,
   "id": "outside-hundred",
   "metadata": {},
   "outputs": [],
   "source": [
    "capitol_entry_cases = cases[\n",
    "    cases[\"charges\"].fillna(\"\").str.contains(\"RESTRICTED BUILDING OR GROUNDS\")\n",
    "]"
   ]
  },
  {
   "cell_type": "code",
   "execution_count": 123,
   "id": "visible-damage",
   "metadata": {},
   "outputs": [
    {
     "data": {
      "text/plain": [
       "108"
      ]
     },
     "execution_count": 123,
     "metadata": {},
     "output_type": "execute_result"
    }
   ],
   "source": [
    "len(capitol_entry_cases)"
   ]
  },
  {
   "cell_type": "code",
   "execution_count": 124,
   "id": "southeast-holder",
   "metadata": {},
   "outputs": [
    {
     "data": {
      "text/plain": [
       "White/Caucasian                   93.0\n",
       "Latino/Hispanic                    5.0\n",
       "Asian/South Asian                  1.0\n",
       "Black/African/African American     1.0\n",
       "Name: racial_ethnic_group, dtype: float64"
      ]
     },
     "execution_count": 124,
     "metadata": {},
     "output_type": "execute_result"
    }
   ],
   "source": [
    "round(capitol_entry_cases.racial_ethnic_group.value_counts(\"normalize\") * 100)"
   ]
  },
  {
   "cell_type": "code",
   "execution_count": 125,
   "id": "bizarre-westminster",
   "metadata": {},
   "outputs": [
    {
     "data": {
      "text/plain": [
       "District of Columbia    100.0\n",
       "Name: location_state, dtype: float64"
      ]
     },
     "execution_count": 125,
     "metadata": {},
     "output_type": "execute_result"
    }
   ],
   "source": [
    "round(capitol_entry_cases.location_state.value_counts(\"normalize\") * 100)"
   ]
  },
  {
   "cell_type": "code",
   "execution_count": 126,
   "id": "pacific-teacher",
   "metadata": {},
   "outputs": [
    {
     "data": {
      "text/plain": [
       "Male      82.0\n",
       "Female    18.0\n",
       "Name: gender, dtype: float64"
      ]
     },
     "execution_count": 126,
     "metadata": {},
     "output_type": "execute_result"
    }
   ],
   "source": [
    "round(capitol_entry_cases.gender.value_counts(\"normalize\") * 100)"
   ]
  },
  {
   "cell_type": "markdown",
   "id": "entertaining-bracelet",
   "metadata": {},
   "source": [
    "---"
   ]
  },
  {
   "cell_type": "markdown",
   "id": "nearby-anger",
   "metadata": {},
   "source": [
    "### Export"
   ]
  },
  {
   "cell_type": "code",
   "execution_count": 127,
   "id": "continental-madagascar",
   "metadata": {},
   "outputs": [],
   "source": [
    "cases.to_csv(\"raw/cases_prosecution_project.csv\", index=False)"
   ]
  },
  {
   "cell_type": "code",
   "execution_count": null,
   "id": "small-bundle",
   "metadata": {},
   "outputs": [],
   "source": []
  }
 ],
 "metadata": {
  "kernelspec": {
   "display_name": "Python 3",
   "language": "python",
   "name": "python3"
  },
  "language_info": {
   "codemirror_mode": {
    "name": "ipython",
    "version": 3
   },
   "file_extension": ".py",
   "mimetype": "text/x-python",
   "name": "python",
   "nbconvert_exporter": "python",
   "pygments_lexer": "ipython3",
   "version": "3.7.4"
  }
 },
 "nbformat": 4,
 "nbformat_minor": 5
}
