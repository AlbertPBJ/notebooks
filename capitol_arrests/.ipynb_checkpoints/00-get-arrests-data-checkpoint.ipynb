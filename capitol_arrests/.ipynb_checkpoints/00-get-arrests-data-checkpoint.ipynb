{
 "cells": [
  {
   "cell_type": "markdown",
   "id": "aerial-victorian",
   "metadata": {},
   "source": [
    "# Arrests/charges stemming from the Jan. 6 riot at the U.S. Capitol"
   ]
  },
  {
   "cell_type": "markdown",
   "id": "responsible-street",
   "metadata": {},
   "source": [
    "### Import Python tools"
   ]
  },
  {
   "cell_type": "code",
   "execution_count": 1,
   "id": "korean-tower",
   "metadata": {},
   "outputs": [],
   "source": [
    "%load_ext lab_black"
   ]
  },
  {
   "cell_type": "code",
   "execution_count": 2,
   "id": "greek-cycling",
   "metadata": {},
   "outputs": [],
   "source": [
    "import pandas as pd\n",
    "import geopandas as gpd\n",
    "import jenkspy\n",
    "import matplotlib.pyplot as plt\n",
    "import requests\n",
    "from bs4 import BeautifulSoup"
   ]
  },
  {
   "cell_type": "code",
   "execution_count": 3,
   "id": "altered-mixture",
   "metadata": {},
   "outputs": [],
   "source": [
    "%matplotlib inline\n",
    "import json\n",
    "import numpy as np\n",
    "import altair as alt\n",
    "import altair_latimes as lat"
   ]
  },
  {
   "cell_type": "code",
   "execution_count": 4,
   "id": "dependent-causing",
   "metadata": {},
   "outputs": [
    {
     "data": {
      "text/plain": [
       "ThemeRegistry.enable('latimes')"
      ]
     },
     "execution_count": 4,
     "metadata": {},
     "output_type": "execute_result"
    }
   ],
   "source": [
    "alt.themes.register(\"latimes\", lat.theme)\n",
    "alt.themes.enable(\"latimes\")"
   ]
  },
  {
   "cell_type": "code",
   "execution_count": 5,
   "id": "hazardous-representative",
   "metadata": {},
   "outputs": [],
   "source": [
    "pd.options.display.max_columns = 100\n",
    "pd.options.display.max_rows = 1000\n",
    "alt.data_transformers.disable_max_rows()\n",
    "pd.set_option(\"display.max_colwidth\", None)"
   ]
  },
  {
   "cell_type": "markdown",
   "id": "wanted-tragedy",
   "metadata": {},
   "source": [
    "### Local Reports"
   ]
  },
  {
   "cell_type": "code",
   "execution_count": 6,
   "id": "alert-puzzle",
   "metadata": {},
   "outputs": [],
   "source": [
    "# https://www.uscp.gov/media-center/weekly-arrest-summary"
   ]
  },
  {
   "cell_type": "code",
   "execution_count": 7,
   "id": "numerical-helmet",
   "metadata": {},
   "outputs": [],
   "source": [
    "# https://github.com/wpinvestigative/us_capitol_police_reports"
   ]
  },
  {
   "cell_type": "code",
   "execution_count": 8,
   "id": "driven-national",
   "metadata": {},
   "outputs": [],
   "source": [
    "# https://mpdc.dc.gov/page/may-2020-january-2021-unrest-related-arrests-and-persons-interest"
   ]
  },
  {
   "cell_type": "code",
   "execution_count": 9,
   "id": "governing-silver",
   "metadata": {},
   "outputs": [],
   "source": [
    "# https://mpdc.dc.gov/sites/default/files/dc/sites/mpdc/publication/attachments/Unrest-Related%20Arrest%20Data%20as%20of%20January%207%202021.pdf"
   ]
  },
  {
   "cell_type": "markdown",
   "id": "imposed-reality",
   "metadata": {},
   "source": [
    "---"
   ]
  },
  {
   "cell_type": "markdown",
   "id": "normal-devices",
   "metadata": {},
   "source": [
    "### Justice Department list"
   ]
  },
  {
   "cell_type": "code",
   "execution_count": 10,
   "id": "ranging-climate",
   "metadata": {},
   "outputs": [],
   "source": [
    "justice_url = \"https://www.justice.gov/opa/investigations-regarding-violence-capitol\""
   ]
  },
  {
   "cell_type": "code",
   "execution_count": 11,
   "id": "previous-parent",
   "metadata": {},
   "outputs": [],
   "source": [
    "headers = {\n",
    "    \"User-Agent\": \"Mozilla/5.0 (Macintosh; Intel Mac OS X 10_15_6) AppleWebKit/537.36 (KHTML, like Gecko) Chrome/85.0.4183.102 Safari/537.36\",\n",
    "    \"Accept\": \"text/html,application/xhtml+xml,application/xml;q=0.9,image/avif,image/webp,image/apng,*/*;q=0.8,application/signed-exchange;v=b3;q=0.9\",\n",
    "}\n",
    "response_justice = requests.get(justice_url, headers=headers)"
   ]
  },
  {
   "cell_type": "markdown",
   "id": "planned-teddy",
   "metadata": {},
   "source": [
    "### Create a dataframe with the html table, and clean up the headers"
   ]
  },
  {
   "cell_type": "code",
   "execution_count": 12,
   "id": "frozen-formula",
   "metadata": {},
   "outputs": [],
   "source": [
    "justice = pd.read_html(response_justice.text, attrs={\"class\": \"tablesorter\"})[0]"
   ]
  },
  {
   "cell_type": "code",
   "execution_count": 13,
   "id": "seven-leather",
   "metadata": {},
   "outputs": [],
   "source": [
    "justice.columns = (\n",
    "    justice.columns.str.strip()\n",
    "    .str.lower()\n",
    "    .str.replace(\" \", \"_\", regex=False)\n",
    "    .str.replace(\":\", \"\", regex=False)\n",
    "    .str.replace(\"/\", \"_\", regex=False)\n",
    "    .str.replace(\",\", \"_\", regex=False)\n",
    ")"
   ]
  },
  {
   "cell_type": "markdown",
   "id": "basic-detective",
   "metadata": {},
   "source": [
    "### Make a copy of the dataframe so we can improve the original"
   ]
  },
  {
   "cell_type": "code",
   "execution_count": 14,
   "id": "satisfied-venue",
   "metadata": {},
   "outputs": [],
   "source": [
    "justice_df = pd.DataFrame(justice.rename(columns={\"name\": \"fullname\"}).copy())"
   ]
  },
  {
   "cell_type": "code",
   "execution_count": 15,
   "id": "geological-clear",
   "metadata": {},
   "outputs": [],
   "source": [
    "justice_df[\"fullname\"] = justice_df[\"fullname\"].str.replace(\n",
    "    \"BETANCUR, Bryan (aka Bryan Clooney, aka Maximo Clooney)\",\n",
    "    \"BETANCUR, Bryan\",\n",
    "    regex=False,\n",
    ")"
   ]
  },
  {
   "cell_type": "code",
   "execution_count": 16,
   "id": "crude-triple",
   "metadata": {},
   "outputs": [
    {
     "data": {
      "text/html": [
       "<div>\n",
       "<style scoped>\n",
       "    .dataframe tbody tr th:only-of-type {\n",
       "        vertical-align: middle;\n",
       "    }\n",
       "\n",
       "    .dataframe tbody tr th {\n",
       "        vertical-align: top;\n",
       "    }\n",
       "\n",
       "    .dataframe thead th {\n",
       "        text-align: right;\n",
       "    }\n",
       "</style>\n",
       "<table border=\"1\" class=\"dataframe\">\n",
       "  <thead>\n",
       "    <tr style=\"text-align: right;\">\n",
       "      <th></th>\n",
       "      <th>case_number</th>\n",
       "      <th>fullname</th>\n",
       "      <th>charge(s)</th>\n",
       "      <th>links_to_press_releases__charging_documents</th>\n",
       "      <th>residency</th>\n",
       "      <th>case_status</th>\n",
       "      <th>entry_last_updated</th>\n",
       "    </tr>\n",
       "  </thead>\n",
       "  <tbody>\n",
       "    <tr>\n",
       "      <th>70</th>\n",
       "      <td>1:21-mj-50</td>\n",
       "      <td>SULLIVAN, John Earl</td>\n",
       "      <td>Restricted building or grounds; civil disorders, violent entry or disorderly conduct</td>\n",
       "      <td>Utah Man Charged in Federal Court Following Events at the United States Capitol  Sullivan - Criminal Complaint  Sullivan - Complaint Affidavit</td>\n",
       "      <td>UT</td>\n",
       "      <td>Initial appearance in the District of Utah at 4pm on 1/15/2021.</td>\n",
       "      <td>1/14/2021</td>\n",
       "    </tr>\n",
       "    <tr>\n",
       "      <th>71</th>\n",
       "      <td>1:21-mj-12</td>\n",
       "      <td>SWEET, Douglas</td>\n",
       "      <td>Knowingly entering or remaining in any restricted building or grounds without lawful authority; or knowingly, with intent to impede government business or official functions, engaging in disorderly conduct on Capitol grounds; and violent entry and disorderly conduct on Capitol grounds.</td>\n",
       "      <td>Thirteen Charged in Federal Court Following Riot at the United States Capitol  Fitchett et al - Complaint  Fitchett et al - Statement of Facts</td>\n",
       "      <td>VA</td>\n",
       "      <td>NaN</td>\n",
       "      <td>1/15/2021</td>\n",
       "    </tr>\n",
       "    <tr>\n",
       "      <th>72</th>\n",
       "      <td>NaN</td>\n",
       "      <td>WATKINS, Jessica</td>\n",
       "      <td>Restricted building or grounds; violent entry or disorderly conduct; obstruction of an official proceeding</td>\n",
       "      <td>Watkins - Affidavit  Watkins - Complaint</td>\n",
       "      <td>NaN</td>\n",
       "      <td>Arrested 1/18/21 in the Southern District of Ohio</td>\n",
       "      <td>1/18/2021</td>\n",
       "    </tr>\n",
       "    <tr>\n",
       "      <th>73</th>\n",
       "      <td>1:21-mj-30</td>\n",
       "      <td>WILLIAMS, Andrew</td>\n",
       "      <td>One count of unlawful entry of a restricted building and one count of disorderly conduct on Capitol grounds</td>\n",
       "      <td>Seven Charged in Federal Court Following Events At the United Capitol  Williams - Complaint  Williams - Affidavit for Complaint</td>\n",
       "      <td>FL</td>\n",
       "      <td>Arrested in Florida 1/13/21</td>\n",
       "      <td>1/14/2021</td>\n",
       "    </tr>\n",
       "    <tr>\n",
       "      <th>74</th>\n",
       "      <td>1:21-mj-26</td>\n",
       "      <td>WRIGLEY, Andrew</td>\n",
       "      <td>Knowingly Entering or Remaining in any Restricted Building or Grounds Without Lawful Authority; Violent Entry and Disorderly Conduct on Capitol Grounds</td>\n",
       "      <td>Wrigley - Complaint  Wrigley - Statement of Facts</td>\n",
       "      <td>NaN</td>\n",
       "      <td>Arrested on 1/15/21 in the Middle District of Pennsylvania</td>\n",
       "      <td>1/17/2021</td>\n",
       "    </tr>\n",
       "  </tbody>\n",
       "</table>\n",
       "</div>"
      ],
      "text/plain": [
       "   case_number             fullname  \\\n",
       "70  1:21-mj-50  SULLIVAN, John Earl   \n",
       "71  1:21-mj-12       SWEET, Douglas   \n",
       "72         NaN     WATKINS, Jessica   \n",
       "73  1:21-mj-30     WILLIAMS, Andrew   \n",
       "74  1:21-mj-26      WRIGLEY, Andrew   \n",
       "\n",
       "                                                                                                                                                                                                                                                                                         charge(s)  \\\n",
       "70                                                                                                                                                                                                            Restricted building or grounds; civil disorders, violent entry or disorderly conduct   \n",
       "71  Knowingly entering or remaining in any restricted building or grounds without lawful authority; or knowingly, with intent to impede government business or official functions, engaging in disorderly conduct on Capitol grounds; and violent entry and disorderly conduct on Capitol grounds.   \n",
       "72                                                                                                                                                                                      Restricted building or grounds; violent entry or disorderly conduct; obstruction of an official proceeding   \n",
       "73                                                                                                                                                                                     One count of unlawful entry of a restricted building and one count of disorderly conduct on Capitol grounds   \n",
       "74                                                                                                                                         Knowingly Entering or Remaining in any Restricted Building or Grounds Without Lawful Authority; Violent Entry and Disorderly Conduct on Capitol Grounds   \n",
       "\n",
       "                                                                                                       links_to_press_releases__charging_documents  \\\n",
       "70  Utah Man Charged in Federal Court Following Events at the United States Capitol  Sullivan - Criminal Complaint  Sullivan - Complaint Affidavit   \n",
       "71  Thirteen Charged in Federal Court Following Riot at the United States Capitol  Fitchett et al - Complaint  Fitchett et al - Statement of Facts   \n",
       "72                                                                                                        Watkins - Affidavit  Watkins - Complaint   \n",
       "73                 Seven Charged in Federal Court Following Events At the United Capitol  Williams - Complaint  Williams - Affidavit for Complaint   \n",
       "74                                                                                               Wrigley - Complaint  Wrigley - Statement of Facts   \n",
       "\n",
       "   residency                                                      case_status  \\\n",
       "70        UT  Initial appearance in the District of Utah at 4pm on 1/15/2021.   \n",
       "71        VA                                                              NaN   \n",
       "72       NaN                Arrested 1/18/21 in the Southern District of Ohio   \n",
       "73        FL                                      Arrested in Florida 1/13/21   \n",
       "74       NaN       Arrested on 1/15/21 in the Middle District of Pennsylvania   \n",
       "\n",
       "   entry_last_updated  \n",
       "70          1/14/2021  \n",
       "71          1/15/2021  \n",
       "72          1/18/2021  \n",
       "73          1/14/2021  \n",
       "74          1/17/2021  "
      ]
     },
     "execution_count": 16,
     "metadata": {},
     "output_type": "execute_result"
    }
   ],
   "source": [
    "justice_df.tail()"
   ]
  },
  {
   "cell_type": "markdown",
   "id": "royal-christianity",
   "metadata": {},
   "source": [
    "### Clean up defendant names"
   ]
  },
  {
   "cell_type": "code",
   "execution_count": 17,
   "id": "sweet-turkey",
   "metadata": {},
   "outputs": [],
   "source": [
    "# justice_df[[\"namerest\"]] = justice_df.pop(\"fullname\").str.split(\n",
    "#     \",\", expand=True\n",
    "# )"
   ]
  },
  {
   "cell_type": "code",
   "execution_count": 18,
   "id": "utility-atlantic",
   "metadata": {},
   "outputs": [],
   "source": [
    "# justice_df[[\"firstname\", \"middlename\"]] = justice_df.pop(\"namerest\").str.split(\n",
    "#     expand=True\n",
    "# )"
   ]
  },
  {
   "cell_type": "code",
   "execution_count": 19,
   "id": "reflected-facial",
   "metadata": {},
   "outputs": [],
   "source": [
    "# justice_df[\"lastname\"] = justice_df[\"lastname\"].str.title()"
   ]
  },
  {
   "cell_type": "code",
   "execution_count": 20,
   "id": "immune-bunny",
   "metadata": {},
   "outputs": [
    {
     "data": {
      "text/html": [
       "<div>\n",
       "<style scoped>\n",
       "    .dataframe tbody tr th:only-of-type {\n",
       "        vertical-align: middle;\n",
       "    }\n",
       "\n",
       "    .dataframe tbody tr th {\n",
       "        vertical-align: top;\n",
       "    }\n",
       "\n",
       "    .dataframe thead th {\n",
       "        text-align: right;\n",
       "    }\n",
       "</style>\n",
       "<table border=\"1\" class=\"dataframe\">\n",
       "  <thead>\n",
       "    <tr style=\"text-align: right;\">\n",
       "      <th></th>\n",
       "      <th>case_number</th>\n",
       "      <th>fullname</th>\n",
       "      <th>charge(s)</th>\n",
       "      <th>links_to_press_releases__charging_documents</th>\n",
       "      <th>residency</th>\n",
       "      <th>case_status</th>\n",
       "      <th>entry_last_updated</th>\n",
       "    </tr>\n",
       "  </thead>\n",
       "  <tbody>\n",
       "    <tr>\n",
       "      <th>0</th>\n",
       "      <td>NaN</td>\n",
       "      <td>ADAMS, Daniel Page</td>\n",
       "      <td>Assaulting a federal officer; obstructing law enforcement engaged in official duties incident to civil disorder; knowingly entering or remaining in any restricted building or grounds without lawful authority; violent entry and disorderly conduct on Capitol grounds</td>\n",
       "      <td>Adams Connell - Complaint  Adams Connell - Statement of Facts</td>\n",
       "      <td>NaN</td>\n",
       "      <td>Arrested 1/16/21 in the Eastern District of Texas</td>\n",
       "      <td>1/17/2021</td>\n",
       "    </tr>\n",
       "    <tr>\n",
       "      <th>1</th>\n",
       "      <td>1:21-mj-10</td>\n",
       "      <td>ALBERTS, Christopher Michael</td>\n",
       "      <td>Carrying or having readily accessible, on the grounds of the United States Capitol Building, a firearm and ammunition.</td>\n",
       "      <td>Thirteen Charged in Federal Court Following Riot at the United States Capitol  Alberts - Complaint  Alberts - Statement of Facts</td>\n",
       "      <td>MD</td>\n",
       "      <td>Arrested on 1/7/21. Initial appearance / detention hearing on 1/7/21. Defendant released. Preliminary Hearing set for 1/28/21 at 2:00 p.m.</td>\n",
       "      <td>NaN</td>\n",
       "    </tr>\n",
       "    <tr>\n",
       "      <th>2</th>\n",
       "      <td>NaN</td>\n",
       "      <td>BARANYI, Thomas</td>\n",
       "      <td>Restricted building or grounds; violent entry or disorderly conduct</td>\n",
       "      <td>Baranyi - Affidavit</td>\n",
       "      <td>NaN</td>\n",
       "      <td>Arrested on 1/12/21. Initial appearance in the District of New Jersey on 1/12/21</td>\n",
       "      <td>1/15/2021</td>\n",
       "    </tr>\n",
       "    <tr>\n",
       "      <th>3</th>\n",
       "      <td>1:21-mj-13</td>\n",
       "      <td>BARNETT, Richard</td>\n",
       "      <td>Knowingly entering or remaining in any restricted building or grounds without lawful entry; violent entry and disorderly conduct on Capitol grounds; and theft of public money, property, or records. Barnett allegedly entered a restricted are of the Speaker of the House Nancy Pelosi.</td>\n",
       "      <td>Man Arrested for Illegally Entering Office of Speaker of the House  Thirteen Charged in Federal Court Following Riot at the United States Capitol  Barnett - Statement of Facts  Barnett - Amended Complaint  Barnett - Amended Statement of Facts</td>\n",
       "      <td>AR</td>\n",
       "      <td>Initial Appearance 1/12/21 at 3pm CST (virtual – WDAR District Court)</td>\n",
       "      <td>NaN</td>\n",
       "    </tr>\n",
       "    <tr>\n",
       "      <th>4</th>\n",
       "      <td>1:21-mj-59</td>\n",
       "      <td>BAUER, Robert L.</td>\n",
       "      <td>Knowingly Entering or Remaining in any Restricted Building or Grounds Without Lawful Authority; Violent Entry and Disorderly Conduct on Capitol Grounds</td>\n",
       "      <td>Bauer and Hemenway - Complaint  Bauer and Hemenway - Statement of Facts</td>\n",
       "      <td>NaN</td>\n",
       "      <td>Arrested on 1/15/21 in the Western District of Kentucky.</td>\n",
       "      <td>1/15/2021</td>\n",
       "    </tr>\n",
       "  </tbody>\n",
       "</table>\n",
       "</div>"
      ],
      "text/plain": [
       "  case_number                      fullname  \\\n",
       "0         NaN            ADAMS, Daniel Page   \n",
       "1  1:21-mj-10  ALBERTS, Christopher Michael   \n",
       "2         NaN               BARANYI, Thomas   \n",
       "3  1:21-mj-13              BARNETT, Richard   \n",
       "4  1:21-mj-59              BAUER, Robert L.   \n",
       "\n",
       "                                                                                                                                                                                                                                                                                    charge(s)  \\\n",
       "0                    Assaulting a federal officer; obstructing law enforcement engaged in official duties incident to civil disorder; knowingly entering or remaining in any restricted building or grounds without lawful authority; violent entry and disorderly conduct on Capitol grounds   \n",
       "1                                                                                                                                                                      Carrying or having readily accessible, on the grounds of the United States Capitol Building, a firearm and ammunition.   \n",
       "2                                                                                                                                                                                                                         Restricted building or grounds; violent entry or disorderly conduct   \n",
       "3  Knowingly entering or remaining in any restricted building or grounds without lawful entry; violent entry and disorderly conduct on Capitol grounds; and theft of public money, property, or records. Barnett allegedly entered a restricted are of the Speaker of the House Nancy Pelosi.   \n",
       "4                                                                                                                                     Knowingly Entering or Remaining in any Restricted Building or Grounds Without Lawful Authority; Violent Entry and Disorderly Conduct on Capitol Grounds   \n",
       "\n",
       "                                                                                                                                                                                                          links_to_press_releases__charging_documents  \\\n",
       "0                                                                                                                                                                                       Adams Connell - Complaint  Adams Connell - Statement of Facts   \n",
       "1                                                                                                                    Thirteen Charged in Federal Court Following Riot at the United States Capitol  Alberts - Complaint  Alberts - Statement of Facts   \n",
       "2                                                                                                                                                                                                                                 Baranyi - Affidavit   \n",
       "3  Man Arrested for Illegally Entering Office of Speaker of the House  Thirteen Charged in Federal Court Following Riot at the United States Capitol  Barnett - Statement of Facts  Barnett - Amended Complaint  Barnett - Amended Statement of Facts   \n",
       "4                                                                                                                                                                             Bauer and Hemenway - Complaint  Bauer and Hemenway - Statement of Facts   \n",
       "\n",
       "  residency  \\\n",
       "0       NaN   \n",
       "1        MD   \n",
       "2       NaN   \n",
       "3        AR   \n",
       "4       NaN   \n",
       "\n",
       "                                                                                                                                  case_status  \\\n",
       "0                                                                                           Arrested 1/16/21 in the Eastern District of Texas   \n",
       "1  Arrested on 1/7/21. Initial appearance / detention hearing on 1/7/21. Defendant released. Preliminary Hearing set for 1/28/21 at 2:00 p.m.   \n",
       "2                                                            Arrested on 1/12/21. Initial appearance in the District of New Jersey on 1/12/21   \n",
       "3                                                                       Initial Appearance 1/12/21 at 3pm CST (virtual – WDAR District Court)   \n",
       "4                                                                                    Arrested on 1/15/21 in the Western District of Kentucky.   \n",
       "\n",
       "  entry_last_updated  \n",
       "0          1/17/2021  \n",
       "1                NaN  \n",
       "2          1/15/2021  \n",
       "3                NaN  \n",
       "4          1/15/2021  "
      ]
     },
     "execution_count": 20,
     "metadata": {},
     "output_type": "execute_result"
    }
   ],
   "source": [
    "justice_df.head()"
   ]
  },
  {
   "cell_type": "code",
   "execution_count": 21,
   "id": "right-geometry",
   "metadata": {},
   "outputs": [],
   "source": [
    "justice_df[\"fullname\"] = justice_df[\"fullname\"].str.strip()"
   ]
  },
  {
   "cell_type": "code",
   "execution_count": 22,
   "id": "moving-apparel",
   "metadata": {},
   "outputs": [],
   "source": [
    "justice_df = justice_df[\n",
    "    [\n",
    "        \"case_number\",\n",
    "        \"fullname\",\n",
    "        #         \"firstname\",\n",
    "        #         \"middlename\",\n",
    "        #         \"lastname\",\n",
    "        \"residency\",\n",
    "        \"charge(s)\",\n",
    "        \"links_to_press_releases__charging_documents\",\n",
    "        \"case_status\",\n",
    "        \"entry_last_updated\",\n",
    "    ]\n",
    "]"
   ]
  },
  {
   "cell_type": "markdown",
   "id": "liable-purchase",
   "metadata": {},
   "source": [
    "### Get out HTML table so we can parse it"
   ]
  },
  {
   "cell_type": "code",
   "execution_count": 23,
   "id": "adult-playing",
   "metadata": {},
   "outputs": [],
   "source": [
    "response_justice = requests.get(justice_url)\n",
    "soup = BeautifulSoup(response_justice.text, \"html.parser\")\n",
    "table = soup.find(\"table\")"
   ]
  },
  {
   "cell_type": "markdown",
   "id": "blind-enemy",
   "metadata": {},
   "source": [
    "### Get the defendant document links from the table into a list"
   ]
  },
  {
   "cell_type": "code",
   "execution_count": 24,
   "id": "verbal-chart",
   "metadata": {},
   "outputs": [],
   "source": [
    "links = []\n",
    "for tr in table.findAll(\"tr\")[1:]:\n",
    "    trs = tr.findAll(\"td\")\n",
    "\n",
    "    this_row_links = []\n",
    "\n",
    "    for link in trs[3].findAll(\"a\"):\n",
    "        this_row_links.append(link[\"href\"])\n",
    "\n",
    "    links.append(this_row_links)"
   ]
  },
  {
   "cell_type": "code",
   "execution_count": 25,
   "id": "reliable-lecture",
   "metadata": {},
   "outputs": [],
   "source": [
    "justice_df[\"links\"] = links"
   ]
  },
  {
   "cell_type": "markdown",
   "id": "cathedral-screen",
   "metadata": {},
   "source": [
    "### Get the link descriptions from the table into a list"
   ]
  },
  {
   "cell_type": "code",
   "execution_count": 26,
   "id": "healthy-anger",
   "metadata": {},
   "outputs": [],
   "source": [
    "# press_releases = []\n",
    "# for tr in table.findAll(\"tr\")[1:]:\n",
    "#     trs = tr.findAll(\"td\")\n",
    "\n",
    "#     this_row_text = []\n",
    "\n",
    "#     for p in trs[3].findAll(\"p\"):\n",
    "#         this_row_text.append(p)\n",
    "\n",
    "#     press_releases.append(this_row_text)"
   ]
  },
  {
   "cell_type": "code",
   "execution_count": 27,
   "id": "daily-encoding",
   "metadata": {},
   "outputs": [],
   "source": [
    "# justice_df[\"press_links\"] = press_releases"
   ]
  },
  {
   "cell_type": "markdown",
   "id": "greater-church",
   "metadata": {},
   "source": [
    "### We no longer need this column"
   ]
  },
  {
   "cell_type": "code",
   "execution_count": 28,
   "id": "brown-virtue",
   "metadata": {},
   "outputs": [],
   "source": [
    "# justice_df.drop([\"links_to_press_releases__charging_documents\"], axis=1, inplace=True)"
   ]
  },
  {
   "cell_type": "markdown",
   "id": "level-petite",
   "metadata": {},
   "source": [
    "### How's the dataframe look? "
   ]
  },
  {
   "cell_type": "code",
   "execution_count": 29,
   "id": "exclusive-thomas",
   "metadata": {},
   "outputs": [
    {
     "data": {
      "text/html": [
       "<div>\n",
       "<style scoped>\n",
       "    .dataframe tbody tr th:only-of-type {\n",
       "        vertical-align: middle;\n",
       "    }\n",
       "\n",
       "    .dataframe tbody tr th {\n",
       "        vertical-align: top;\n",
       "    }\n",
       "\n",
       "    .dataframe thead th {\n",
       "        text-align: right;\n",
       "    }\n",
       "</style>\n",
       "<table border=\"1\" class=\"dataframe\">\n",
       "  <thead>\n",
       "    <tr style=\"text-align: right;\">\n",
       "      <th></th>\n",
       "      <th>case_number</th>\n",
       "      <th>fullname</th>\n",
       "      <th>residency</th>\n",
       "      <th>charge(s)</th>\n",
       "      <th>links_to_press_releases__charging_documents</th>\n",
       "      <th>case_status</th>\n",
       "      <th>entry_last_updated</th>\n",
       "      <th>links</th>\n",
       "    </tr>\n",
       "  </thead>\n",
       "  <tbody>\n",
       "    <tr>\n",
       "      <th>0</th>\n",
       "      <td>NaN</td>\n",
       "      <td>ADAMS, Daniel Page</td>\n",
       "      <td>NaN</td>\n",
       "      <td>Assaulting a federal officer; obstructing law enforcement engaged in official duties incident to civil disorder; knowingly entering or remaining in any restricted building or grounds without lawful authority; violent entry and disorderly conduct on Capitol grounds</td>\n",
       "      <td>Adams Connell - Complaint  Adams Connell - Statement of Facts</td>\n",
       "      <td>Arrested 1/16/21 in the Eastern District of Texas</td>\n",
       "      <td>1/17/2021</td>\n",
       "      <td>[/opa/page/file/1355881/download, /opa/page/file/1355876/download]</td>\n",
       "    </tr>\n",
       "    <tr>\n",
       "      <th>1</th>\n",
       "      <td>1:21-mj-10</td>\n",
       "      <td>ALBERTS, Christopher Michael</td>\n",
       "      <td>MD</td>\n",
       "      <td>Carrying or having readily accessible, on the grounds of the United States Capitol Building, a firearm and ammunition.</td>\n",
       "      <td>Thirteen Charged in Federal Court Following Riot at the United States Capitol  Alberts - Complaint  Alberts - Statement of Facts</td>\n",
       "      <td>Arrested on 1/7/21. Initial appearance / detention hearing on 1/7/21. Defendant released. Preliminary Hearing set for 1/28/21 at 2:00 p.m.</td>\n",
       "      <td>NaN</td>\n",
       "      <td>[/opa/pr/thirteen-charged-federal-court-following-riot-united-states-capitol, /opa/press-release/file/1351681/download, /opa/press-release/file/1351686/download]</td>\n",
       "    </tr>\n",
       "    <tr>\n",
       "      <th>2</th>\n",
       "      <td>NaN</td>\n",
       "      <td>BARANYI, Thomas</td>\n",
       "      <td>NaN</td>\n",
       "      <td>Restricted building or grounds; violent entry or disorderly conduct</td>\n",
       "      <td>Baranyi - Affidavit</td>\n",
       "      <td>Arrested on 1/12/21. Initial appearance in the District of New Jersey on 1/12/21</td>\n",
       "      <td>1/15/2021</td>\n",
       "      <td>[/opa/page/file/1355731/download]</td>\n",
       "    </tr>\n",
       "    <tr>\n",
       "      <th>3</th>\n",
       "      <td>1:21-mj-13</td>\n",
       "      <td>BARNETT, Richard</td>\n",
       "      <td>AR</td>\n",
       "      <td>Knowingly entering or remaining in any restricted building or grounds without lawful entry; violent entry and disorderly conduct on Capitol grounds; and theft of public money, property, or records. Barnett allegedly entered a restricted are of the Speaker of the House Nancy Pelosi.</td>\n",
       "      <td>Man Arrested for Illegally Entering Office of Speaker of the House  Thirteen Charged in Federal Court Following Riot at the United States Capitol  Barnett - Statement of Facts  Barnett - Amended Complaint  Barnett - Amended Statement of Facts</td>\n",
       "      <td>Initial Appearance 1/12/21 at 3pm CST (virtual – WDAR District Court)</td>\n",
       "      <td>NaN</td>\n",
       "      <td>[/opa/pr/man-arrested-illegally-entering-office-speaker-house, /opa/pr/thirteen-charged-federal-court-following-riot-united-states-capitol, /opa/press-release/file/1351656/download, /usao-dc/press-release/file/1353191/download, /usao-dc/press-release/file/1353231/download]</td>\n",
       "    </tr>\n",
       "    <tr>\n",
       "      <th>4</th>\n",
       "      <td>1:21-mj-59</td>\n",
       "      <td>BAUER, Robert L.</td>\n",
       "      <td>NaN</td>\n",
       "      <td>Knowingly Entering or Remaining in any Restricted Building or Grounds Without Lawful Authority; Violent Entry and Disorderly Conduct on Capitol Grounds</td>\n",
       "      <td>Bauer and Hemenway - Complaint  Bauer and Hemenway - Statement of Facts</td>\n",
       "      <td>Arrested on 1/15/21 in the Western District of Kentucky.</td>\n",
       "      <td>1/15/2021</td>\n",
       "      <td>[/opa/page/file/1355726/download, /opa/page/file/1355721/download]</td>\n",
       "    </tr>\n",
       "  </tbody>\n",
       "</table>\n",
       "</div>"
      ],
      "text/plain": [
       "  case_number                      fullname residency  \\\n",
       "0         NaN            ADAMS, Daniel Page       NaN   \n",
       "1  1:21-mj-10  ALBERTS, Christopher Michael        MD   \n",
       "2         NaN               BARANYI, Thomas       NaN   \n",
       "3  1:21-mj-13              BARNETT, Richard        AR   \n",
       "4  1:21-mj-59              BAUER, Robert L.       NaN   \n",
       "\n",
       "                                                                                                                                                                                                                                                                                    charge(s)  \\\n",
       "0                    Assaulting a federal officer; obstructing law enforcement engaged in official duties incident to civil disorder; knowingly entering or remaining in any restricted building or grounds without lawful authority; violent entry and disorderly conduct on Capitol grounds   \n",
       "1                                                                                                                                                                      Carrying or having readily accessible, on the grounds of the United States Capitol Building, a firearm and ammunition.   \n",
       "2                                                                                                                                                                                                                         Restricted building or grounds; violent entry or disorderly conduct   \n",
       "3  Knowingly entering or remaining in any restricted building or grounds without lawful entry; violent entry and disorderly conduct on Capitol grounds; and theft of public money, property, or records. Barnett allegedly entered a restricted are of the Speaker of the House Nancy Pelosi.   \n",
       "4                                                                                                                                     Knowingly Entering or Remaining in any Restricted Building or Grounds Without Lawful Authority; Violent Entry and Disorderly Conduct on Capitol Grounds   \n",
       "\n",
       "                                                                                                                                                                                                          links_to_press_releases__charging_documents  \\\n",
       "0                                                                                                                                                                                       Adams Connell - Complaint  Adams Connell - Statement of Facts   \n",
       "1                                                                                                                    Thirteen Charged in Federal Court Following Riot at the United States Capitol  Alberts - Complaint  Alberts - Statement of Facts   \n",
       "2                                                                                                                                                                                                                                 Baranyi - Affidavit   \n",
       "3  Man Arrested for Illegally Entering Office of Speaker of the House  Thirteen Charged in Federal Court Following Riot at the United States Capitol  Barnett - Statement of Facts  Barnett - Amended Complaint  Barnett - Amended Statement of Facts   \n",
       "4                                                                                                                                                                             Bauer and Hemenway - Complaint  Bauer and Hemenway - Statement of Facts   \n",
       "\n",
       "                                                                                                                                  case_status  \\\n",
       "0                                                                                           Arrested 1/16/21 in the Eastern District of Texas   \n",
       "1  Arrested on 1/7/21. Initial appearance / detention hearing on 1/7/21. Defendant released. Preliminary Hearing set for 1/28/21 at 2:00 p.m.   \n",
       "2                                                            Arrested on 1/12/21. Initial appearance in the District of New Jersey on 1/12/21   \n",
       "3                                                                       Initial Appearance 1/12/21 at 3pm CST (virtual – WDAR District Court)   \n",
       "4                                                                                    Arrested on 1/15/21 in the Western District of Kentucky.   \n",
       "\n",
       "  entry_last_updated  \\\n",
       "0          1/17/2021   \n",
       "1                NaN   \n",
       "2          1/15/2021   \n",
       "3                NaN   \n",
       "4          1/15/2021   \n",
       "\n",
       "                                                                                                                                                                                                                                                                               links  \n",
       "0                                                                                                                                                                                                                 [/opa/page/file/1355881/download, /opa/page/file/1355876/download]  \n",
       "1                                                                                                                  [/opa/pr/thirteen-charged-federal-court-following-riot-united-states-capitol, /opa/press-release/file/1351681/download, /opa/press-release/file/1351686/download]  \n",
       "2                                                                                                                                                                                                                                                  [/opa/page/file/1355731/download]  \n",
       "3  [/opa/pr/man-arrested-illegally-entering-office-speaker-house, /opa/pr/thirteen-charged-federal-court-following-riot-united-states-capitol, /opa/press-release/file/1351656/download, /usao-dc/press-release/file/1353191/download, /usao-dc/press-release/file/1353231/download]  \n",
       "4                                                                                                                                                                                                                 [/opa/page/file/1355726/download, /opa/page/file/1355721/download]  "
      ]
     },
     "execution_count": 29,
     "metadata": {},
     "output_type": "execute_result"
    }
   ],
   "source": [
    "justice_df.head()"
   ]
  },
  {
   "cell_type": "code",
   "execution_count": 30,
   "id": "sharing-establishment",
   "metadata": {},
   "outputs": [
    {
     "data": {
      "text/plain": [
       "FL    4\n",
       "NY    3\n",
       "VA    3\n",
       "TX    3\n",
       "AL    2\n",
       "MD    2\n",
       "AR    2\n",
       "PA    2\n",
       "WA    1\n",
       "LA    1\n",
       "TN    1\n",
       "WV    1\n",
       "UT    1\n",
       "AZ    1\n",
       "WI    1\n",
       "IA    1\n",
       "CO    1\n",
       "NH    1\n",
       "IL    1\n",
       "OH    1\n",
       "ID    1\n",
       "HI    1\n",
       "Name: residency, dtype: int64"
      ]
     },
     "execution_count": 30,
     "metadata": {},
     "output_type": "execute_result"
    }
   ],
   "source": [
    "justice_df.residency.value_counts()"
   ]
  },
  {
   "cell_type": "code",
   "execution_count": 31,
   "id": "fiscal-dublin",
   "metadata": {},
   "outputs": [],
   "source": [
    "justice_df.to_json(\"processed/justice_df.json\", orient=\"records\", indent=2)"
   ]
  },
  {
   "cell_type": "code",
   "execution_count": 32,
   "id": "forty-organic",
   "metadata": {},
   "outputs": [
    {
     "data": {
      "text/plain": [
       "75"
      ]
     },
     "execution_count": 32,
     "metadata": {},
     "output_type": "execute_result"
    }
   ],
   "source": [
    "len(justice_df)"
   ]
  },
  {
   "cell_type": "markdown",
   "id": "detected-answer",
   "metadata": {},
   "source": [
    "---"
   ]
  },
  {
   "cell_type": "markdown",
   "id": "comfortable-quality",
   "metadata": {},
   "source": [
    "### Ingrest data from the Program on Extremism at GW"
   ]
  },
  {
   "cell_type": "code",
   "execution_count": 33,
   "id": "happy-picture",
   "metadata": {},
   "outputs": [],
   "source": [
    "# https://extremism.gwu.edu/Capitol-Hill-Cases"
   ]
  },
  {
   "cell_type": "code",
   "execution_count": 34,
   "id": "broad-validity",
   "metadata": {},
   "outputs": [
    {
     "name": "stdout",
     "output_type": "stream",
     "text": [
      "--2021-01-19 06:07:20--  https://extremism.gwu.edu/sites/g/files/zaxdzs2191/f/CapitolHillTracker11521.xlsx\n",
      "Resolving extremism.gwu.edu (extremism.gwu.edu)... 2606:4700::6812:825, 2606:4700::6812:925, 104.18.8.37, ...\n",
      "Connecting to extremism.gwu.edu (extremism.gwu.edu)|2606:4700::6812:825|:443... connected.\n",
      "HTTP request sent, awaiting response... 200 OK\n",
      "Length: 11830 (12K) [application/vnd.openxmlformats-officedocument.spreadsheetml.sheet]\n",
      "Saving to: ‘raw/latest_extremism.xlsx’\n",
      "\n",
      "latest_extremism.xl 100%[===================>]  11.55K  --.-KB/s    in 0s      \n",
      "\n",
      "2021-01-19 06:07:21 (23.9 MB/s) - ‘raw/latest_extremism.xlsx’ saved [11830/11830]\n",
      "\n"
     ]
    }
   ],
   "source": [
    "!wget 'https://extremism.gwu.edu/sites/g/files/zaxdzs2191/f/CapitolHillTracker11521.xlsx' --directory-prefix=\"raw/\" --output-document=\"raw/latest_extremism.xlsx\""
   ]
  },
  {
   "cell_type": "code",
   "execution_count": 35,
   "id": "norman-cemetery",
   "metadata": {},
   "outputs": [],
   "source": [
    "gw_df = pd.read_excel(\"raw/latest_extremism.xlsx\", skiprows=1).dropna(how=\"all\", axis=1)"
   ]
  },
  {
   "cell_type": "code",
   "execution_count": 36,
   "id": "silent-impossible",
   "metadata": {},
   "outputs": [],
   "source": [
    "gw_df.columns = (\n",
    "    gw_df.columns.str.strip()\n",
    "    .str.lower()\n",
    "    .str.replace(\" \", \"_\", regex=False)\n",
    "    .str.replace(\":\", \"\", regex=False)\n",
    "    .str.replace(\"/\", \"_\", regex=False)\n",
    "    .str.replace(\",\", \"_\", regex=False)\n",
    ")"
   ]
  },
  {
   "cell_type": "code",
   "execution_count": 37,
   "id": "personalized-tiffany",
   "metadata": {},
   "outputs": [],
   "source": [
    "gw_df[\"datecharged\"] = (pd.to_datetime(gw_df[\"datecharged\"]).dt.date).fillna(\"\")"
   ]
  },
  {
   "cell_type": "code",
   "execution_count": 38,
   "id": "reliable-renaissance",
   "metadata": {},
   "outputs": [
    {
     "data": {
      "text/html": [
       "<div>\n",
       "<style scoped>\n",
       "    .dataframe tbody tr th:only-of-type {\n",
       "        vertical-align: middle;\n",
       "    }\n",
       "\n",
       "    .dataframe tbody tr th {\n",
       "        vertical-align: top;\n",
       "    }\n",
       "\n",
       "    .dataframe thead th {\n",
       "        text-align: right;\n",
       "    }\n",
       "</style>\n",
       "<table border=\"1\" class=\"dataframe\">\n",
       "  <thead>\n",
       "    <tr style=\"text-align: right;\">\n",
       "      <th></th>\n",
       "      <th>name</th>\n",
       "      <th>agearrest</th>\n",
       "      <th>gender</th>\n",
       "      <th>state</th>\n",
       "      <th>datecharged</th>\n",
       "    </tr>\n",
       "  </thead>\n",
       "  <tbody>\n",
       "    <tr>\n",
       "      <th>0</th>\n",
       "      <td>ALBERTS, Christopher Michael</td>\n",
       "      <td>33</td>\n",
       "      <td>M</td>\n",
       "      <td>MD</td>\n",
       "      <td>2021-01-07</td>\n",
       "    </tr>\n",
       "    <tr>\n",
       "      <th>1</th>\n",
       "      <td>BARANYI, Thomas</td>\n",
       "      <td>28</td>\n",
       "      <td>M</td>\n",
       "      <td>NJ</td>\n",
       "      <td>2021-01-10</td>\n",
       "    </tr>\n",
       "    <tr>\n",
       "      <th>2</th>\n",
       "      <td>BARNETT, Richard</td>\n",
       "      <td>60</td>\n",
       "      <td>M</td>\n",
       "      <td>AR</td>\n",
       "      <td>2021-01-07</td>\n",
       "    </tr>\n",
       "    <tr>\n",
       "      <th>3</th>\n",
       "      <td>BAUER, Robert</td>\n",
       "      <td>Unknown</td>\n",
       "      <td>M</td>\n",
       "      <td>KY</td>\n",
       "      <td></td>\n",
       "    </tr>\n",
       "    <tr>\n",
       "      <th>4</th>\n",
       "      <td>BLACK, Joshua Matthew</td>\n",
       "      <td>44</td>\n",
       "      <td>M</td>\n",
       "      <td>AL</td>\n",
       "      <td>2021-01-13</td>\n",
       "    </tr>\n",
       "    <tr>\n",
       "      <th>5</th>\n",
       "      <td>BLEDSOE, Matthew</td>\n",
       "      <td>Unknown</td>\n",
       "      <td>M</td>\n",
       "      <td>Unknown</td>\n",
       "      <td></td>\n",
       "    </tr>\n",
       "    <tr>\n",
       "      <th>6</th>\n",
       "      <td>BROCK, Larry Rendell</td>\n",
       "      <td>54</td>\n",
       "      <td>M</td>\n",
       "      <td>TX</td>\n",
       "      <td>2021-01-09</td>\n",
       "    </tr>\n",
       "    <tr>\n",
       "      <th>7</th>\n",
       "      <td>BROWN, Terry</td>\n",
       "      <td>69</td>\n",
       "      <td>M</td>\n",
       "      <td>PA</td>\n",
       "      <td>2021-01-07</td>\n",
       "    </tr>\n",
       "    <tr>\n",
       "      <th>8</th>\n",
       "      <td>CAMARGO, Samuel</td>\n",
       "      <td>Unknown</td>\n",
       "      <td>M</td>\n",
       "      <td>FL</td>\n",
       "      <td>2021-01-15</td>\n",
       "    </tr>\n",
       "    <tr>\n",
       "      <th>9</th>\n",
       "      <td>CHANSLEY, Jacob Anthony</td>\n",
       "      <td>33</td>\n",
       "      <td>M</td>\n",
       "      <td>AZ</td>\n",
       "      <td>2021-01-11</td>\n",
       "    </tr>\n",
       "  </tbody>\n",
       "</table>\n",
       "</div>"
      ],
      "text/plain": [
       "                            name agearrest gender    state datecharged\n",
       "0  ALBERTS, Christopher Michael         33      M       MD  2021-01-07\n",
       "1                BARANYI, Thomas        28      M       NJ  2021-01-10\n",
       "2               BARNETT, Richard        60      M       AR  2021-01-07\n",
       "3                  BAUER, Robert   Unknown      M       KY            \n",
       "4          BLACK, Joshua Matthew        44      M       AL  2021-01-13\n",
       "5               BLEDSOE, Matthew   Unknown      M  Unknown            \n",
       "6           BROCK, Larry Rendell        54      M       TX  2021-01-09\n",
       "7                   BROWN, Terry        69      M       PA  2021-01-07\n",
       "8                CAMARGO, Samuel   Unknown      M       FL  2021-01-15\n",
       "9        CHANSLEY, Jacob Anthony        33      M       AZ  2021-01-11"
      ]
     },
     "execution_count": 38,
     "metadata": {},
     "output_type": "execute_result"
    }
   ],
   "source": [
    "gw_df.head(10)"
   ]
  },
  {
   "cell_type": "code",
   "execution_count": 39,
   "id": "opening-doctor",
   "metadata": {},
   "outputs": [],
   "source": [
    "gw_df.name = gw_df.name.str.strip()"
   ]
  },
  {
   "cell_type": "code",
   "execution_count": 40,
   "id": "aerial-dialogue",
   "metadata": {},
   "outputs": [
    {
     "data": {
      "text/plain": [
       "58"
      ]
     },
     "execution_count": 40,
     "metadata": {},
     "output_type": "execute_result"
    }
   ],
   "source": [
    "len(gw_df)"
   ]
  },
  {
   "cell_type": "markdown",
   "id": "representative-quality",
   "metadata": {},
   "source": [
    "### Merge with Justice data"
   ]
  },
  {
   "cell_type": "code",
   "execution_count": 41,
   "id": "raising-baking",
   "metadata": {},
   "outputs": [],
   "source": [
    "# justice_gw_merge = pd.merge(\n",
    "#     justice_df, gw_df, right_on=\"name\", left_on=\"fullname\", how=\"right\"\n",
    "# )"
   ]
  },
  {
   "cell_type": "code",
   "execution_count": 42,
   "id": "concerned-guyana",
   "metadata": {},
   "outputs": [],
   "source": [
    "# len(justice_gw_merge)"
   ]
  },
  {
   "cell_type": "code",
   "execution_count": 43,
   "id": "sexual-trade",
   "metadata": {},
   "outputs": [],
   "source": [
    "# justice_gw_merge.head()"
   ]
  },
  {
   "cell_type": "markdown",
   "id": "excess-adams",
   "metadata": {},
   "source": [
    "---"
   ]
  },
  {
   "cell_type": "markdown",
   "id": "wicked-watts",
   "metadata": {},
   "source": [
    "### Read data from the [Prosecution Project](https://theprosecutionproject.org/2021/01/14/prosecution-data-capitol-siege-of-january-6-2021/)"
   ]
  },
  {
   "cell_type": "code",
   "execution_count": 44,
   "id": "afraid-croatia",
   "metadata": {},
   "outputs": [],
   "source": [
    "url2 = \"https://docs.google.com/spreadsheets/d/e/2PACX-1vQ-NJiMr9_MVxsqTSB1sYkzOZSfg59m6ViR7qvjXef3O4txMuWYxh7TlTVcQAxzduCjhLxKP3dlXUhX/pub?output=csv\""
   ]
  },
  {
   "cell_type": "code",
   "execution_count": 45,
   "id": "elementary-edgar",
   "metadata": {},
   "outputs": [],
   "source": [
    "cases = pd.read_csv(url2)"
   ]
  },
  {
   "cell_type": "code",
   "execution_count": 46,
   "id": "thorough-current",
   "metadata": {},
   "outputs": [],
   "source": [
    "cases.columns = (\n",
    "    cases.columns.str.strip()\n",
    "    .str.lower()\n",
    "    .str.replace(\" \", \"_\", regex=False)\n",
    "    .str.replace(\":\", \"\", regex=False)\n",
    "    .str.replace(\"/\", \"_\", regex=False)\n",
    "    .str.replace(\"-\", \"_\", regex=False)\n",
    ")"
   ]
  },
  {
   "cell_type": "code",
   "execution_count": 47,
   "id": "allied-transition",
   "metadata": {},
   "outputs": [],
   "source": [
    "cases = cases.dropna(how=\"all\")"
   ]
  },
  {
   "cell_type": "code",
   "execution_count": 48,
   "id": "gentle-wisdom",
   "metadata": {},
   "outputs": [],
   "source": [
    "cases[\"charges\"] = cases[\"charges\"].str.upper()"
   ]
  },
  {
   "cell_type": "code",
   "execution_count": 49,
   "id": "developmental-spiritual",
   "metadata": {},
   "outputs": [
    {
     "data": {
      "text/html": [
       "<div>\n",
       "<style scoped>\n",
       "    .dataframe tbody tr th:only-of-type {\n",
       "        vertical-align: middle;\n",
       "    }\n",
       "\n",
       "    .dataframe tbody tr th {\n",
       "        vertical-align: top;\n",
       "    }\n",
       "\n",
       "    .dataframe thead th {\n",
       "        text-align: right;\n",
       "    }\n",
       "</style>\n",
       "<table border=\"1\" class=\"dataframe\">\n",
       "  <thead>\n",
       "    <tr style=\"text-align: right;\">\n",
       "      <th></th>\n",
       "      <th>full_legal_name</th>\n",
       "      <th>charges</th>\n",
       "    </tr>\n",
       "  </thead>\n",
       "  <tbody>\n",
       "    <tr>\n",
       "      <th>0</th>\n",
       "      <td>Henry Tarrio</td>\n",
       "      <td>7 DC CODE 2506.01(B) POSSESSION OF LARGE CAPACITY AMMUNITION FEEDING DEVICE [2 COUNTS]</td>\n",
       "    </tr>\n",
       "    <tr>\n",
       "      <th>1</th>\n",
       "      <td>Matthew Council</td>\n",
       "      <td>18:1752(A)(1)  KNOWINGLY ENTERING OR REMAINING IN ANY RESTRICTED BUILDING OR GROUNDS WITHOUT LAWFUL AUTHORITY; 40:5104(E)(2) VIOLENT ENTRY AND DISORDERLY CONDUCT ON CAPITOL GROUNDS</td>\n",
       "    </tr>\n",
       "    <tr>\n",
       "      <th>2</th>\n",
       "      <td>Bradley Rukstales</td>\n",
       "      <td>18:1752(A) KNOWINGLY ENTERING OR REMAINING IN ANY RESTRICTED BUILDING OR GROUNDS WITHOUT LAWFUL AUTHORITY, OR KNOWINGLY, WITH INTENT TO IMPEDE GOVERNMENT BUSINESS OR OFFICIAL FUNCTIONS, ENGAGING IN DISORDERLY CONDUCT ON CAPITOL GROUNDS; 40:5104(E)(2) VIOLENT ENTRY AND DISORDERLY CONDUCT ON CAPITOL GROUNDS</td>\n",
       "    </tr>\n",
       "    <tr>\n",
       "      <th>3</th>\n",
       "      <td>Michael Curzio</td>\n",
       "      <td>18:1752(A) KNOWINGLY ENTERING OR REMAINING IN ANY RESTRICTED BUILDING OR GROUNDS WITHOUT LAWFUL AUTHORITY, OR KNOWINGLY, WITH INTENT TO IMPEDE GOVERNMENT BUSINESS OR OFFICIAL FUNCTIONS, ENGAGING IN DISORDERLY CONDUCT ON CAPITOL GROUNDS; 40:5104(E)(2) VIOLENT ENTRY AND DISORDERLY CONDUCT ON CAPITOL GROUNDS</td>\n",
       "    </tr>\n",
       "    <tr>\n",
       "      <th>4</th>\n",
       "      <td>Cindy Fitchett</td>\n",
       "      <td>18:1752(A) KNOWINGLY ENTERING OR REMAINING IN ANY RESTRICTED BUILDING OR GROUNDS WITHOUT LAWFUL AUTHORITY, OR KNOWINGLY, WITH INTENT TO IMPEDE GOVERNMENT BUSINESS OR OFFICIAL FUNCTIONS, ENGAGING IN DISORDERLY CONDUCT ON CAPITOL GROUNDS; 40:5104(E)(2) VIOLENT ENTRY AND DISORDERLY CONDUCT ON CAPITOL GROUNDS</td>\n",
       "    </tr>\n",
       "  </tbody>\n",
       "</table>\n",
       "</div>"
      ],
      "text/plain": [
       "     full_legal_name  \\\n",
       "0       Henry Tarrio   \n",
       "1    Matthew Council   \n",
       "2  Bradley Rukstales   \n",
       "3     Michael Curzio   \n",
       "4    Cindy Fitchett    \n",
       "\n",
       "                                                                                                                                                                                                                                                                                                              charges  \n",
       "0                                                                                                                                                                                                                              7 DC CODE 2506.01(B) POSSESSION OF LARGE CAPACITY AMMUNITION FEEDING DEVICE [2 COUNTS]  \n",
       "1                                                                                                                                18:1752(A)(1)  KNOWINGLY ENTERING OR REMAINING IN ANY RESTRICTED BUILDING OR GROUNDS WITHOUT LAWFUL AUTHORITY; 40:5104(E)(2) VIOLENT ENTRY AND DISORDERLY CONDUCT ON CAPITOL GROUNDS  \n",
       "2  18:1752(A) KNOWINGLY ENTERING OR REMAINING IN ANY RESTRICTED BUILDING OR GROUNDS WITHOUT LAWFUL AUTHORITY, OR KNOWINGLY, WITH INTENT TO IMPEDE GOVERNMENT BUSINESS OR OFFICIAL FUNCTIONS, ENGAGING IN DISORDERLY CONDUCT ON CAPITOL GROUNDS; 40:5104(E)(2) VIOLENT ENTRY AND DISORDERLY CONDUCT ON CAPITOL GROUNDS  \n",
       "3  18:1752(A) KNOWINGLY ENTERING OR REMAINING IN ANY RESTRICTED BUILDING OR GROUNDS WITHOUT LAWFUL AUTHORITY, OR KNOWINGLY, WITH INTENT TO IMPEDE GOVERNMENT BUSINESS OR OFFICIAL FUNCTIONS, ENGAGING IN DISORDERLY CONDUCT ON CAPITOL GROUNDS; 40:5104(E)(2) VIOLENT ENTRY AND DISORDERLY CONDUCT ON CAPITOL GROUNDS  \n",
       "4  18:1752(A) KNOWINGLY ENTERING OR REMAINING IN ANY RESTRICTED BUILDING OR GROUNDS WITHOUT LAWFUL AUTHORITY, OR KNOWINGLY, WITH INTENT TO IMPEDE GOVERNMENT BUSINESS OR OFFICIAL FUNCTIONS, ENGAGING IN DISORDERLY CONDUCT ON CAPITOL GROUNDS; 40:5104(E)(2) VIOLENT ENTRY AND DISORDERLY CONDUCT ON CAPITOL GROUNDS  "
      ]
     },
     "execution_count": 49,
     "metadata": {},
     "output_type": "execute_result"
    }
   ],
   "source": [
    "cases[[\"full_legal_name\", \"charges\"]].head()"
   ]
  },
  {
   "cell_type": "markdown",
   "id": "corrected-hypothesis",
   "metadata": {},
   "source": [
    "### Mean age of all arrestees related to the Capitol seige"
   ]
  },
  {
   "cell_type": "code",
   "execution_count": 50,
   "id": "abroad-wrapping",
   "metadata": {},
   "outputs": [
    {
     "data": {
      "text/plain": [
       "41"
      ]
     },
     "execution_count": 50,
     "metadata": {},
     "output_type": "execute_result"
    }
   ],
   "source": [
    "round(cases.age.mean())"
   ]
  },
  {
   "cell_type": "markdown",
   "id": "emerging-grammar",
   "metadata": {},
   "source": [
    "### Number of cases so far"
   ]
  },
  {
   "cell_type": "code",
   "execution_count": 51,
   "id": "abroad-logan",
   "metadata": {},
   "outputs": [
    {
     "data": {
      "text/plain": [
       "163"
      ]
     },
     "execution_count": 51,
     "metadata": {},
     "output_type": "execute_result"
    }
   ],
   "source": [
    "len(cases)"
   ]
  },
  {
   "cell_type": "markdown",
   "id": "moving-recognition",
   "metadata": {},
   "source": [
    "### Gender counts for those charged"
   ]
  },
  {
   "cell_type": "code",
   "execution_count": 52,
   "id": "theoretical-interval",
   "metadata": {},
   "outputs": [
    {
     "data": {
      "text/plain": [
       "Male               86.0\n",
       "Female             13.0\n",
       "Unknown/unclear     1.0\n",
       "Name: gender, dtype: float64"
      ]
     },
     "execution_count": 52,
     "metadata": {},
     "output_type": "execute_result"
    }
   ],
   "source": [
    "round(cases.gender.value_counts(\"normalize\") * 100)"
   ]
  },
  {
   "cell_type": "markdown",
   "id": "korean-mexican",
   "metadata": {},
   "source": [
    "### Race/ethnicity of those charged?"
   ]
  },
  {
   "cell_type": "code",
   "execution_count": 53,
   "id": "middle-edmonton",
   "metadata": {},
   "outputs": [
    {
     "data": {
      "text/plain": [
       "White/Caucasian                   94.0\n",
       "Black/African/African American     4.0\n",
       "Unknown                            1.0\n",
       "Latino/Hispanic                    1.0\n",
       "Asian/South Asian                  1.0\n",
       "Name: racial_ethnic_group, dtype: float64"
      ]
     },
     "execution_count": 53,
     "metadata": {},
     "output_type": "execute_result"
    }
   ],
   "source": [
    "round(cases.racial_ethnic_group.value_counts(\"normalize\") * 100)"
   ]
  },
  {
   "cell_type": "code",
   "execution_count": 54,
   "id": "decent-magazine",
   "metadata": {},
   "outputs": [],
   "source": [
    "cases_race = (\n",
    "    cases.groupby([\"racial_ethnic_group\"]).agg({\"case_id\": \"size\"}).reset_index()\n",
    ").rename(columns={\"case_id\": \"count\"})"
   ]
  },
  {
   "cell_type": "code",
   "execution_count": 55,
   "id": "announced-legislation",
   "metadata": {},
   "outputs": [
    {
     "data": {
      "text/html": [
       "\n",
       "<div id=\"altair-viz-14796c662e08465794951e8e3eaedca9\"></div>\n",
       "<script type=\"text/javascript\">\n",
       "  (function(spec, embedOpt){\n",
       "    let outputDiv = document.currentScript.previousElementSibling;\n",
       "    if (outputDiv.id !== \"altair-viz-14796c662e08465794951e8e3eaedca9\") {\n",
       "      outputDiv = document.getElementById(\"altair-viz-14796c662e08465794951e8e3eaedca9\");\n",
       "    }\n",
       "    const paths = {\n",
       "      \"vega\": \"https://cdn.jsdelivr.net/npm//vega@5?noext\",\n",
       "      \"vega-lib\": \"https://cdn.jsdelivr.net/npm//vega-lib?noext\",\n",
       "      \"vega-lite\": \"https://cdn.jsdelivr.net/npm//vega-lite@4.8.1?noext\",\n",
       "      \"vega-embed\": \"https://cdn.jsdelivr.net/npm//vega-embed@6?noext\",\n",
       "    };\n",
       "\n",
       "    function loadScript(lib) {\n",
       "      return new Promise(function(resolve, reject) {\n",
       "        var s = document.createElement('script');\n",
       "        s.src = paths[lib];\n",
       "        s.async = true;\n",
       "        s.onload = () => resolve(paths[lib]);\n",
       "        s.onerror = () => reject(`Error loading script: ${paths[lib]}`);\n",
       "        document.getElementsByTagName(\"head\")[0].appendChild(s);\n",
       "      });\n",
       "    }\n",
       "\n",
       "    function showError(err) {\n",
       "      outputDiv.innerHTML = `<div class=\"error\" style=\"color:red;\">${err}</div>`;\n",
       "      throw err;\n",
       "    }\n",
       "\n",
       "    function displayChart(vegaEmbed) {\n",
       "      vegaEmbed(outputDiv, spec, embedOpt)\n",
       "        .catch(err => showError(`Javascript Error: ${err.message}<br>This usually means there's a typo in your chart specification. See the javascript console for the full traceback.`));\n",
       "    }\n",
       "\n",
       "    if(typeof define === \"function\" && define.amd) {\n",
       "      requirejs.config({paths});\n",
       "      require([\"vega-embed\"], displayChart, err => showError(`Error loading script: ${err.message}`));\n",
       "    } else if (typeof vegaEmbed === \"function\") {\n",
       "      displayChart(vegaEmbed);\n",
       "    } else {\n",
       "      loadScript(\"vega\")\n",
       "        .then(() => loadScript(\"vega-lite\"))\n",
       "        .then(() => loadScript(\"vega-embed\"))\n",
       "        .catch(showError)\n",
       "        .then(() => displayChart(vegaEmbed));\n",
       "    }\n",
       "  })({\"config\": {\"view\": {\"width\": 800, \"height\": 450}, \"background\": \"#ffffff\", \"title\": {\"anchor\": \"start\", \"font\": \"Benton Gothic Bold, sans\", \"fontColor\": \"#000000\", \"fontSize\": 22, \"fontWeight\": \"normal\"}, \"arc\": {\"fill\": \"#82c6df\"}, \"area\": {\"fill\": \"#82c6df\"}, \"line\": {\"stroke\": \"#82c6df\", \"strokeWidth\": 3}, \"path\": {\"stroke\": \"#82c6df\"}, \"rect\": {\"fill\": \"#82c6df\"}, \"shape\": {\"stroke\": \"#82c6df\"}, \"bar\": {\"fill\": \"#82c6df\"}, \"point\": {\"stroke\": \"#82c6df\"}, \"symbol\": {\"fill\": \"#82c6df\", \"size\": 30}, \"axis\": {\"titleFont\": \"Benton Gothic Bold, sans\", \"titleFontSize\": 13, \"titleFontWeight\": \"normal\", \"labelFont\": \"Benton Gothic, sans\", \"labelFontSize\": 11.5, \"labelFontWeight\": \"normal\"}, \"axisX\": {\"labelAngle\": 0, \"labelPadding\": 4, \"tickSize\": 3}, \"axisY\": {\"labelBaseline\": \"middle\", \"maxExtent\": 45, \"minExtent\": 45, \"tickSize\": 2, \"titleAlign\": \"left\", \"titleAngle\": 0, \"titleX\": -45, \"titleY\": -11}, \"legend\": {\"titleFont\": \"Benton Gothic Bold, sans\", \"titleFontSize\": 13, \"titleFontWeight\": \"normal\", \"symbolType\": \"square\", \"labelFont\": \"Benton Gothic, sans\", \"labelFontSize\": 11.5}, \"range\": {\"category\": [\"#3580b1\", \"#ec8431\", \"#ab7fb4\", \"#c89d29\", \"#adc839\", \"#829eb1\"], \"diverging\": [\"#e68a4f\", \"#f4bb6a\", \"#f9e39c\", \"#dadfe2\", \"#a6b7c6\", \"#849eae\"], \"heatmap\": [\"#fbf2c7\", \"#f9e39c\", \"#f8d36e\", \"#f4bb6a\", \"#e68a4f\", \"#d15a40\", \"#ab4232\"], \"ordinal\": [\"#fbf2c7\", \"#f9e39c\", \"#f8d36e\", \"#f4bb6a\", \"#e68a4f\", \"#d15a40\", \"#ab4232\"], \"ramp\": [\"#fbf2c7\", \"#f9e39c\", \"#f8d36e\", \"#f4bb6a\", \"#e68a4f\", \"#d15a40\", \"#ab4232\"]}}, \"data\": {\"name\": \"data-ecd4dcc9ac2ba0c48b06ba08b63fd02f\"}, \"mark\": \"bar\", \"encoding\": {\"x\": {\"type\": \"nominal\", \"field\": \"racial_ethnic_group\", \"title\": \"Race/ethnicity\"}, \"y\": {\"type\": \"quantitative\", \"field\": \"count\", \"title\": \"Count\"}}, \"height\": 400, \"title\": \"Cases by race/ethnicity\", \"width\": 800, \"$schema\": \"https://vega.github.io/schema/vega-lite/v4.8.1.json\", \"datasets\": {\"data-ecd4dcc9ac2ba0c48b06ba08b63fd02f\": [{\"racial_ethnic_group\": \"Asian/South Asian\", \"count\": 1}, {\"racial_ethnic_group\": \"Black/African/African American\", \"count\": 4}, {\"racial_ethnic_group\": \"Latino/Hispanic\", \"count\": 1}, {\"racial_ethnic_group\": \"Unknown\", \"count\": 1}, {\"racial_ethnic_group\": \"White/Caucasian\", \"count\": 101}]}}, {\"mode\": \"vega-lite\"});\n",
       "</script>"
      ],
      "text/plain": [
       "alt.Chart(...)"
      ]
     },
     "execution_count": 55,
     "metadata": {},
     "output_type": "execute_result"
    }
   ],
   "source": [
    "alt.Chart(cases_race).mark_bar().encode(\n",
    "    x=alt.X(\"racial_ethnic_group:N\", title=\"Race/ethnicity\"),\n",
    "    y=alt.Y(\"count:Q\", title=\"Count\"),\n",
    ").properties(width=800, height=400, title=\"Cases by race/ethnicity\")"
   ]
  },
  {
   "cell_type": "markdown",
   "id": "fluid-margin",
   "metadata": {},
   "source": [
    "---"
   ]
  },
  {
   "cell_type": "markdown",
   "id": "quiet-teach",
   "metadata": {},
   "source": [
    "### Cases that only involve illegally entering the Capitol"
   ]
  },
  {
   "cell_type": "code",
   "execution_count": 56,
   "id": "measured-syndication",
   "metadata": {},
   "outputs": [],
   "source": [
    "capitol_entry_cases = cases[\n",
    "    cases[\"charges\"].fillna(\"\").str.contains(\"RESTRICTED BUILDING OR GROUNDS\")\n",
    "]"
   ]
  },
  {
   "cell_type": "code",
   "execution_count": 57,
   "id": "occupied-cross",
   "metadata": {},
   "outputs": [
    {
     "data": {
      "text/plain": [
       "59"
      ]
     },
     "execution_count": 57,
     "metadata": {},
     "output_type": "execute_result"
    }
   ],
   "source": [
    "len(capitol_entry_cases)"
   ]
  },
  {
   "cell_type": "code",
   "execution_count": 58,
   "id": "proof-accent",
   "metadata": {},
   "outputs": [
    {
     "data": {
      "text/plain": [
       "White/Caucasian                   98.0\n",
       "Black/African/African American     2.0\n",
       "Name: racial_ethnic_group, dtype: float64"
      ]
     },
     "execution_count": 58,
     "metadata": {},
     "output_type": "execute_result"
    }
   ],
   "source": [
    "round(capitol_entry_cases.racial_ethnic_group.value_counts(\"normalize\") * 100)"
   ]
  },
  {
   "cell_type": "code",
   "execution_count": 59,
   "id": "romantic-prize",
   "metadata": {},
   "outputs": [
    {
     "data": {
      "text/plain": [
       "District of Columbia    100.0\n",
       "Name: location_state, dtype: float64"
      ]
     },
     "execution_count": 59,
     "metadata": {},
     "output_type": "execute_result"
    }
   ],
   "source": [
    "round(capitol_entry_cases.location_state.value_counts(\"normalize\") * 100)"
   ]
  },
  {
   "cell_type": "code",
   "execution_count": 60,
   "id": "electric-article",
   "metadata": {},
   "outputs": [
    {
     "data": {
      "text/plain": [
       "Male      88.0\n",
       "Female    12.0\n",
       "Name: gender, dtype: float64"
      ]
     },
     "execution_count": 60,
     "metadata": {},
     "output_type": "execute_result"
    }
   ],
   "source": [
    "round(capitol_entry_cases.gender.value_counts(\"normalize\") * 100)"
   ]
  },
  {
   "cell_type": "markdown",
   "id": "labeled-trouble",
   "metadata": {},
   "source": [
    "---"
   ]
  },
  {
   "cell_type": "markdown",
   "id": "universal-percentage",
   "metadata": {},
   "source": [
    "### Export"
   ]
  },
  {
   "cell_type": "code",
   "execution_count": 61,
   "id": "quarterly-juice",
   "metadata": {},
   "outputs": [],
   "source": [
    "cases.to_csv(\"raw/cases_prosecution_project.csv\", index=False)"
   ]
  }
 ],
 "metadata": {
  "kernelspec": {
   "display_name": "Python 3",
   "language": "python",
   "name": "python3"
  },
  "language_info": {
   "codemirror_mode": {
    "name": "ipython",
    "version": 3
   },
   "file_extension": ".py",
   "mimetype": "text/x-python",
   "name": "python",
   "nbconvert_exporter": "python",
   "pygments_lexer": "ipython3",
   "version": "3.7.4"
  }
 },
 "nbformat": 4,
 "nbformat_minor": 5
}
