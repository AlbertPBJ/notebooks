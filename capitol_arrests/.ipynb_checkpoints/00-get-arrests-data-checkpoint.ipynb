{
 "cells": [
  {
   "cell_type": "markdown",
   "id": "private-transmission",
   "metadata": {},
   "source": [
    "# Arrests/charges stemming from the Jan. 6 riot at the U.S. Capitol"
   ]
  },
  {
   "cell_type": "markdown",
   "id": "exact-advertiser",
   "metadata": {},
   "source": [
    "### Import Python tools"
   ]
  },
  {
   "cell_type": "code",
   "execution_count": 1,
   "id": "after-idaho",
   "metadata": {},
   "outputs": [],
   "source": [
    "%load_ext lab_black"
   ]
  },
  {
   "cell_type": "code",
   "execution_count": 2,
   "id": "consolidated-divorce",
   "metadata": {},
   "outputs": [
    {
     "data": {
      "text/plain": [
       "ThemeRegistry.enable('latimes')"
      ]
     },
     "execution_count": 2,
     "metadata": {},
     "output_type": "execute_result"
    }
   ],
   "source": [
    "import pandas as pd\n",
    "import geopandas as gpd\n",
    "import jenkspy\n",
    "import matplotlib.pyplot as plt\n",
    "import requests\n",
    "\n",
    "%matplotlib inline\n",
    "import json\n",
    "import numpy as np\n",
    "import altair as alt\n",
    "import altair_latimes as lat\n",
    "\n",
    "alt.themes.register(\"latimes\", lat.theme)\n",
    "alt.themes.enable(\"latimes\")"
   ]
  },
  {
   "cell_type": "code",
   "execution_count": 3,
   "id": "limiting-exemption",
   "metadata": {},
   "outputs": [],
   "source": [
    "pd.options.display.max_columns = 100\n",
    "pd.options.display.max_rows = 1000\n",
    "alt.data_transformers.disable_max_rows()\n",
    "pd.set_option(\"display.max_colwidth\", None)"
   ]
  },
  {
   "cell_type": "markdown",
   "id": "sudden-christmas",
   "metadata": {},
   "source": [
    "### Ingrest data from the Program on Extremism at GW"
   ]
  },
  {
   "cell_type": "code",
   "execution_count": 4,
   "id": "unnecessary-behalf",
   "metadata": {},
   "outputs": [],
   "source": [
    "# https://extremism.gwu.edu/Capitol-Hill-Cases"
   ]
  },
  {
   "cell_type": "code",
   "execution_count": 35,
   "id": "funky-consequence",
   "metadata": {},
   "outputs": [],
   "source": [
    "url = \"https://extremism.gwu.edu/sites/g/files/zaxdzs2191/f/Capitol Hill Tracker%20CSV%2011521.xlsx\""
   ]
  },
  {
   "cell_type": "code",
   "execution_count": 36,
   "id": "strategic-springer",
   "metadata": {},
   "outputs": [],
   "source": [
    "headers = {\n",
    "    \"User-Agent\": \"Mozilla/5.0 (X11; Linux x86_64) AppleWebKit/537.36 (KHTML, like Gecko) Chrome/55.0.2883.87 Safari/537.36\",\n",
    "    \"Referer\": \"https://www.nseindia.com\",\n",
    "    \"Accept\": \"text/html,application/xhtml+xml,application/xml;q=0.9,image/webp,*/*;q=0.8\",\n",
    "}\n",
    "\n",
    "response = requests.get(url, headers=headers)"
   ]
  },
  {
   "cell_type": "code",
   "execution_count": 37,
   "id": "cultural-provider",
   "metadata": {},
   "outputs": [
    {
     "data": {
      "text/plain": [
       "<Response [404]>"
      ]
     },
     "execution_count": 37,
     "metadata": {},
     "output_type": "execute_result"
    }
   ],
   "source": [
    "response"
   ]
  },
  {
   "cell_type": "code",
   "execution_count": 8,
   "id": "waiting-requirement",
   "metadata": {},
   "outputs": [],
   "source": [
    "# summary_table = pd.read_html(response.text, attrs={\"class\": \"table\"})[0]\n",
    "# charges_table = pd.read_html(response.text, attrs={\"class\": \"table\"})[1]"
   ]
  },
  {
   "cell_type": "code",
   "execution_count": 9,
   "id": "recent-librarian",
   "metadata": {},
   "outputs": [],
   "source": [
    "# charges_table"
   ]
  },
  {
   "cell_type": "markdown",
   "id": "alpine-picking",
   "metadata": {},
   "source": [
    "---"
   ]
  },
  {
   "cell_type": "code",
   "execution_count": 10,
   "id": "worse-nigeria",
   "metadata": {},
   "outputs": [],
   "source": [
    "from bs4 import *\n",
    "import requests\n",
    "\n",
    "site = url\n",
    "request = requests.get(site).text\n",
    "\n",
    "soup = BeautifulSoup(request, \"html.parser\")"
   ]
  },
  {
   "cell_type": "code",
   "execution_count": 11,
   "id": "important-affairs",
   "metadata": {},
   "outputs": [],
   "source": [
    "# for a in soup.find_all(\"div\", attrs={\"class\": \"panel-body\"}):\n",
    "#     print(a)"
   ]
  },
  {
   "cell_type": "markdown",
   "id": "composite-rider",
   "metadata": {},
   "source": [
    "---"
   ]
  },
  {
   "cell_type": "markdown",
   "id": "amino-creation",
   "metadata": {},
   "source": [
    "### Read data from the [Prosecution Project](https://theprosecutionproject.org/2021/01/14/prosecution-data-capitol-siege-of-january-6-2021/)"
   ]
  },
  {
   "cell_type": "code",
   "execution_count": 12,
   "id": "vertical-pilot",
   "metadata": {},
   "outputs": [],
   "source": [
    "url2 = \"https://docs.google.com/spreadsheets/d/e/2PACX-1vQ-NJiMr9_MVxsqTSB1sYkzOZSfg59m6ViR7qvjXef3O4txMuWYxh7TlTVcQAxzduCjhLxKP3dlXUhX/pub?output=csv\""
   ]
  },
  {
   "cell_type": "code",
   "execution_count": 13,
   "id": "sharing-italy",
   "metadata": {},
   "outputs": [],
   "source": [
    "cases = pd.read_csv(url2)"
   ]
  },
  {
   "cell_type": "code",
   "execution_count": 14,
   "id": "fatty-desire",
   "metadata": {},
   "outputs": [],
   "source": [
    "cases.columns = (\n",
    "    cases.columns.str.strip()\n",
    "    .str.lower()\n",
    "    .str.replace(\" \", \"_\", regex=False)\n",
    "    .str.replace(\":\", \"\", regex=False)\n",
    "    .str.replace(\"/\", \"_\", regex=False)\n",
    "    .str.replace(\"-\", \"_\", regex=False)\n",
    ")"
   ]
  },
  {
   "cell_type": "code",
   "execution_count": 15,
   "id": "cultural-wichita",
   "metadata": {},
   "outputs": [],
   "source": [
    "cases = cases.dropna(how=\"all\")"
   ]
  },
  {
   "cell_type": "code",
   "execution_count": 16,
   "id": "broadband-citizen",
   "metadata": {},
   "outputs": [],
   "source": [
    "cases[\"charges\"] = cases[\"charges\"].str.upper()"
   ]
  },
  {
   "cell_type": "code",
   "execution_count": 17,
   "id": "capital-welcome",
   "metadata": {},
   "outputs": [
    {
     "data": {
      "text/html": [
       "<div>\n",
       "<style scoped>\n",
       "    .dataframe tbody tr th:only-of-type {\n",
       "        vertical-align: middle;\n",
       "    }\n",
       "\n",
       "    .dataframe tbody tr th {\n",
       "        vertical-align: top;\n",
       "    }\n",
       "\n",
       "    .dataframe thead th {\n",
       "        text-align: right;\n",
       "    }\n",
       "</style>\n",
       "<table border=\"1\" class=\"dataframe\">\n",
       "  <thead>\n",
       "    <tr style=\"text-align: right;\">\n",
       "      <th></th>\n",
       "      <th>full_legal_name</th>\n",
       "      <th>charges</th>\n",
       "    </tr>\n",
       "  </thead>\n",
       "  <tbody>\n",
       "    <tr>\n",
       "      <th>0</th>\n",
       "      <td>Henry Tarrio</td>\n",
       "      <td>7 DC CODE 2506.01(B) POSSESSION OF LARGE CAPACITY AMMUNITION FEEDING DEVICE [2 COUNTS]</td>\n",
       "    </tr>\n",
       "    <tr>\n",
       "      <th>1</th>\n",
       "      <td>Matthew Council</td>\n",
       "      <td>18:1752(A)(1)  KNOWINGLY ENTERING OR REMAINING IN ANY RESTRICTED BUILDING OR GROUNDS WITHOUT LAWFUL AUTHORITY; 40:5104(E)(2) VIOLENT ENTRY AND DISORDERLY CONDUCT ON CAPITOL GROUNDS</td>\n",
       "    </tr>\n",
       "    <tr>\n",
       "      <th>2</th>\n",
       "      <td>Bradley Rukstales</td>\n",
       "      <td>18:1752(A) KNOWINGLY ENTERING OR REMAINING IN ANY RESTRICTED BUILDING OR GROUNDS WITHOUT LAWFUL AUTHORITY, OR KNOWINGLY, WITH INTENT TO IMPEDE GOVERNMENT BUSINESS OR OFFICIAL FUNCTIONS, ENGAGING IN DISORDERLY CONDUCT ON CAPITOL GROUNDS; 40:5104(E)(2) VIOLENT ENTRY AND DISORDERLY CONDUCT ON CAPITOL GROUNDS</td>\n",
       "    </tr>\n",
       "    <tr>\n",
       "      <th>3</th>\n",
       "      <td>Michael Curzio</td>\n",
       "      <td>18:1752(A) KNOWINGLY ENTERING OR REMAINING IN ANY RESTRICTED BUILDING OR GROUNDS WITHOUT LAWFUL AUTHORITY, OR KNOWINGLY, WITH INTENT TO IMPEDE GOVERNMENT BUSINESS OR OFFICIAL FUNCTIONS, ENGAGING IN DISORDERLY CONDUCT ON CAPITOL GROUNDS; 40:5104(E)(2) VIOLENT ENTRY AND DISORDERLY CONDUCT ON CAPITOL GROUNDS</td>\n",
       "    </tr>\n",
       "    <tr>\n",
       "      <th>4</th>\n",
       "      <td>Cindy Fitchett</td>\n",
       "      <td>18:1752(A) KNOWINGLY ENTERING OR REMAINING IN ANY RESTRICTED BUILDING OR GROUNDS WITHOUT LAWFUL AUTHORITY, OR KNOWINGLY, WITH INTENT TO IMPEDE GOVERNMENT BUSINESS OR OFFICIAL FUNCTIONS, ENGAGING IN DISORDERLY CONDUCT ON CAPITOL GROUNDS; 40:5104(E)(2) VIOLENT ENTRY AND DISORDERLY CONDUCT ON CAPITOL GROUNDS</td>\n",
       "    </tr>\n",
       "  </tbody>\n",
       "</table>\n",
       "</div>"
      ],
      "text/plain": [
       "     full_legal_name  \\\n",
       "0       Henry Tarrio   \n",
       "1    Matthew Council   \n",
       "2  Bradley Rukstales   \n",
       "3     Michael Curzio   \n",
       "4    Cindy Fitchett    \n",
       "\n",
       "                                                                                                                                                                                                                                                                                                              charges  \n",
       "0                                                                                                                                                                                                                              7 DC CODE 2506.01(B) POSSESSION OF LARGE CAPACITY AMMUNITION FEEDING DEVICE [2 COUNTS]  \n",
       "1                                                                                                                                18:1752(A)(1)  KNOWINGLY ENTERING OR REMAINING IN ANY RESTRICTED BUILDING OR GROUNDS WITHOUT LAWFUL AUTHORITY; 40:5104(E)(2) VIOLENT ENTRY AND DISORDERLY CONDUCT ON CAPITOL GROUNDS  \n",
       "2  18:1752(A) KNOWINGLY ENTERING OR REMAINING IN ANY RESTRICTED BUILDING OR GROUNDS WITHOUT LAWFUL AUTHORITY, OR KNOWINGLY, WITH INTENT TO IMPEDE GOVERNMENT BUSINESS OR OFFICIAL FUNCTIONS, ENGAGING IN DISORDERLY CONDUCT ON CAPITOL GROUNDS; 40:5104(E)(2) VIOLENT ENTRY AND DISORDERLY CONDUCT ON CAPITOL GROUNDS  \n",
       "3  18:1752(A) KNOWINGLY ENTERING OR REMAINING IN ANY RESTRICTED BUILDING OR GROUNDS WITHOUT LAWFUL AUTHORITY, OR KNOWINGLY, WITH INTENT TO IMPEDE GOVERNMENT BUSINESS OR OFFICIAL FUNCTIONS, ENGAGING IN DISORDERLY CONDUCT ON CAPITOL GROUNDS; 40:5104(E)(2) VIOLENT ENTRY AND DISORDERLY CONDUCT ON CAPITOL GROUNDS  \n",
       "4  18:1752(A) KNOWINGLY ENTERING OR REMAINING IN ANY RESTRICTED BUILDING OR GROUNDS WITHOUT LAWFUL AUTHORITY, OR KNOWINGLY, WITH INTENT TO IMPEDE GOVERNMENT BUSINESS OR OFFICIAL FUNCTIONS, ENGAGING IN DISORDERLY CONDUCT ON CAPITOL GROUNDS; 40:5104(E)(2) VIOLENT ENTRY AND DISORDERLY CONDUCT ON CAPITOL GROUNDS  "
      ]
     },
     "execution_count": 17,
     "metadata": {},
     "output_type": "execute_result"
    }
   ],
   "source": [
    "cases[[\"full_legal_name\", \"charges\"]].head()"
   ]
  },
  {
   "cell_type": "markdown",
   "id": "incorrect-review",
   "metadata": {},
   "source": [
    "### Mean age of all arrestees related to the Capitol seige"
   ]
  },
  {
   "cell_type": "code",
   "execution_count": 18,
   "id": "social-squad",
   "metadata": {},
   "outputs": [
    {
     "data": {
      "text/plain": [
       "41"
      ]
     },
     "execution_count": 18,
     "metadata": {},
     "output_type": "execute_result"
    }
   ],
   "source": [
    "round(cases.age.mean())"
   ]
  },
  {
   "cell_type": "markdown",
   "id": "colonial-flashing",
   "metadata": {},
   "source": [
    "### Number of cases so far"
   ]
  },
  {
   "cell_type": "code",
   "execution_count": 19,
   "id": "elegant-thompson",
   "metadata": {},
   "outputs": [
    {
     "data": {
      "text/plain": [
       "145"
      ]
     },
     "execution_count": 19,
     "metadata": {},
     "output_type": "execute_result"
    }
   ],
   "source": [
    "len(cases)"
   ]
  },
  {
   "cell_type": "markdown",
   "id": "solar-dubai",
   "metadata": {},
   "source": [
    "### Gender counts for those charged"
   ]
  },
  {
   "cell_type": "code",
   "execution_count": 20,
   "id": "cardiac-antique",
   "metadata": {},
   "outputs": [
    {
     "data": {
      "text/plain": [
       "Male               86.0\n",
       "Female             13.0\n",
       "Unknown/unclear     1.0\n",
       "Name: gender, dtype: float64"
      ]
     },
     "execution_count": 20,
     "metadata": {},
     "output_type": "execute_result"
    }
   ],
   "source": [
    "round(cases.gender.value_counts(\"normalize\") * 100)"
   ]
  },
  {
   "cell_type": "markdown",
   "id": "romantic-pressing",
   "metadata": {},
   "source": [
    "### Race/ethnicity of those charged?"
   ]
  },
  {
   "cell_type": "code",
   "execution_count": 21,
   "id": "contrary-athletics",
   "metadata": {},
   "outputs": [
    {
     "data": {
      "text/plain": [
       "White/Caucasian                   92.0\n",
       "Black/African/African American     4.0\n",
       "Unknown                            1.0\n",
       "Latino/Hispanic                    1.0\n",
       "Asian/South Asian                  1.0\n",
       "Name: racial_ethnic_group, dtype: float64"
      ]
     },
     "execution_count": 21,
     "metadata": {},
     "output_type": "execute_result"
    }
   ],
   "source": [
    "round(cases.racial_ethnic_group.value_counts(\"normalize\") * 100)"
   ]
  },
  {
   "cell_type": "code",
   "execution_count": 22,
   "id": "serious-rwanda",
   "metadata": {},
   "outputs": [],
   "source": [
    "cases_race = (\n",
    "    cases.groupby([\"racial_ethnic_group\"]).agg({\"case_id\": \"size\"}).reset_index()\n",
    ").rename(columns={\"case_id\": \"count\"})"
   ]
  },
  {
   "cell_type": "code",
   "execution_count": 23,
   "id": "comparative-arrow",
   "metadata": {},
   "outputs": [
    {
     "data": {
      "text/html": [
       "\n",
       "<div id=\"altair-viz-163d3c37b40c457e92b3c8d9e728a345\"></div>\n",
       "<script type=\"text/javascript\">\n",
       "  (function(spec, embedOpt){\n",
       "    let outputDiv = document.currentScript.previousElementSibling;\n",
       "    if (outputDiv.id !== \"altair-viz-163d3c37b40c457e92b3c8d9e728a345\") {\n",
       "      outputDiv = document.getElementById(\"altair-viz-163d3c37b40c457e92b3c8d9e728a345\");\n",
       "    }\n",
       "    const paths = {\n",
       "      \"vega\": \"https://cdn.jsdelivr.net/npm//vega@5?noext\",\n",
       "      \"vega-lib\": \"https://cdn.jsdelivr.net/npm//vega-lib?noext\",\n",
       "      \"vega-lite\": \"https://cdn.jsdelivr.net/npm//vega-lite@4.8.1?noext\",\n",
       "      \"vega-embed\": \"https://cdn.jsdelivr.net/npm//vega-embed@6?noext\",\n",
       "    };\n",
       "\n",
       "    function loadScript(lib) {\n",
       "      return new Promise(function(resolve, reject) {\n",
       "        var s = document.createElement('script');\n",
       "        s.src = paths[lib];\n",
       "        s.async = true;\n",
       "        s.onload = () => resolve(paths[lib]);\n",
       "        s.onerror = () => reject(`Error loading script: ${paths[lib]}`);\n",
       "        document.getElementsByTagName(\"head\")[0].appendChild(s);\n",
       "      });\n",
       "    }\n",
       "\n",
       "    function showError(err) {\n",
       "      outputDiv.innerHTML = `<div class=\"error\" style=\"color:red;\">${err}</div>`;\n",
       "      throw err;\n",
       "    }\n",
       "\n",
       "    function displayChart(vegaEmbed) {\n",
       "      vegaEmbed(outputDiv, spec, embedOpt)\n",
       "        .catch(err => showError(`Javascript Error: ${err.message}<br>This usually means there's a typo in your chart specification. See the javascript console for the full traceback.`));\n",
       "    }\n",
       "\n",
       "    if(typeof define === \"function\" && define.amd) {\n",
       "      requirejs.config({paths});\n",
       "      require([\"vega-embed\"], displayChart, err => showError(`Error loading script: ${err.message}`));\n",
       "    } else if (typeof vegaEmbed === \"function\") {\n",
       "      displayChart(vegaEmbed);\n",
       "    } else {\n",
       "      loadScript(\"vega\")\n",
       "        .then(() => loadScript(\"vega-lite\"))\n",
       "        .then(() => loadScript(\"vega-embed\"))\n",
       "        .catch(showError)\n",
       "        .then(() => displayChart(vegaEmbed));\n",
       "    }\n",
       "  })({\"config\": {\"view\": {\"width\": 800, \"height\": 450}, \"background\": \"#ffffff\", \"title\": {\"anchor\": \"start\", \"font\": \"Benton Gothic Bold, sans\", \"fontColor\": \"#000000\", \"fontSize\": 22, \"fontWeight\": \"normal\"}, \"arc\": {\"fill\": \"#82c6df\"}, \"area\": {\"fill\": \"#82c6df\"}, \"line\": {\"stroke\": \"#82c6df\", \"strokeWidth\": 3}, \"path\": {\"stroke\": \"#82c6df\"}, \"rect\": {\"fill\": \"#82c6df\"}, \"shape\": {\"stroke\": \"#82c6df\"}, \"bar\": {\"fill\": \"#82c6df\"}, \"point\": {\"stroke\": \"#82c6df\"}, \"symbol\": {\"fill\": \"#82c6df\", \"size\": 30}, \"axis\": {\"titleFont\": \"Benton Gothic Bold, sans\", \"titleFontSize\": 13, \"titleFontWeight\": \"normal\", \"labelFont\": \"Benton Gothic, sans\", \"labelFontSize\": 11.5, \"labelFontWeight\": \"normal\"}, \"axisX\": {\"labelAngle\": 0, \"labelPadding\": 4, \"tickSize\": 3}, \"axisY\": {\"labelBaseline\": \"middle\", \"maxExtent\": 45, \"minExtent\": 45, \"tickSize\": 2, \"titleAlign\": \"left\", \"titleAngle\": 0, \"titleX\": -45, \"titleY\": -11}, \"legend\": {\"titleFont\": \"Benton Gothic Bold, sans\", \"titleFontSize\": 13, \"titleFontWeight\": \"normal\", \"symbolType\": \"square\", \"labelFont\": \"Benton Gothic, sans\", \"labelFontSize\": 11.5}, \"range\": {\"category\": [\"#3580b1\", \"#ec8431\", \"#ab7fb4\", \"#c89d29\", \"#adc839\", \"#829eb1\"], \"diverging\": [\"#e68a4f\", \"#f4bb6a\", \"#f9e39c\", \"#dadfe2\", \"#a6b7c6\", \"#849eae\"], \"heatmap\": [\"#fbf2c7\", \"#f9e39c\", \"#f8d36e\", \"#f4bb6a\", \"#e68a4f\", \"#d15a40\", \"#ab4232\"], \"ordinal\": [\"#fbf2c7\", \"#f9e39c\", \"#f8d36e\", \"#f4bb6a\", \"#e68a4f\", \"#d15a40\", \"#ab4232\"], \"ramp\": [\"#fbf2c7\", \"#f9e39c\", \"#f8d36e\", \"#f4bb6a\", \"#e68a4f\", \"#d15a40\", \"#ab4232\"]}}, \"data\": {\"name\": \"data-8c08b8793ee61d80a9dd855c1c5e36b3\"}, \"mark\": \"bar\", \"encoding\": {\"x\": {\"type\": \"nominal\", \"field\": \"racial_ethnic_group\", \"title\": \"Race/ethnicity\"}, \"y\": {\"type\": \"quantitative\", \"field\": \"count\", \"title\": \"Count\"}}, \"height\": 400, \"title\": \"Cases by race/ethnicity\", \"width\": 800, \"$schema\": \"https://vega.github.io/schema/vega-lite/v4.8.1.json\", \"datasets\": {\"data-8c08b8793ee61d80a9dd855c1c5e36b3\": [{\"racial_ethnic_group\": \"Asian/South Asian\", \"count\": 1}, {\"racial_ethnic_group\": \"Black/African/African American\", \"count\": 3}, {\"racial_ethnic_group\": \"Latino/Hispanic\", \"count\": 1}, {\"racial_ethnic_group\": \"Unknown\", \"count\": 1}, {\"racial_ethnic_group\": \"White/Caucasian\", \"count\": 65}]}}, {\"mode\": \"vega-lite\"});\n",
       "</script>"
      ],
      "text/plain": [
       "alt.Chart(...)"
      ]
     },
     "execution_count": 23,
     "metadata": {},
     "output_type": "execute_result"
    }
   ],
   "source": [
    "alt.Chart(cases_race).mark_bar().encode(\n",
    "    x=alt.X(\"racial_ethnic_group:N\", title=\"Race/ethnicity\"),\n",
    "    y=alt.Y(\"count:Q\", title=\"Count\"),\n",
    ").properties(width=800, height=400, title=\"Cases by race/ethnicity\")"
   ]
  },
  {
   "cell_type": "markdown",
   "id": "damaged-wisconsin",
   "metadata": {},
   "source": [
    "---"
   ]
  },
  {
   "cell_type": "markdown",
   "id": "instant-street",
   "metadata": {},
   "source": [
    "### Cases that only involve illegally entering the Capitol"
   ]
  },
  {
   "cell_type": "code",
   "execution_count": 24,
   "id": "documented-grave",
   "metadata": {},
   "outputs": [],
   "source": [
    "capitol_cases = cases[\n",
    "    cases[\"charges\"].fillna(\"\").str.contains(\"RESTRICTED BUILDING OR GROUNDS\")\n",
    "]"
   ]
  },
  {
   "cell_type": "code",
   "execution_count": 25,
   "id": "posted-ceremony",
   "metadata": {},
   "outputs": [
    {
     "data": {
      "text/plain": [
       "33"
      ]
     },
     "execution_count": 25,
     "metadata": {},
     "output_type": "execute_result"
    }
   ],
   "source": [
    "len(capitol_cases)"
   ]
  },
  {
   "cell_type": "code",
   "execution_count": 26,
   "id": "three-watershed",
   "metadata": {},
   "outputs": [
    {
     "data": {
      "text/plain": [
       "White/Caucasian                   97.0\n",
       "Black/African/African American     3.0\n",
       "Name: racial_ethnic_group, dtype: float64"
      ]
     },
     "execution_count": 26,
     "metadata": {},
     "output_type": "execute_result"
    }
   ],
   "source": [
    "round(capitol_cases.racial_ethnic_group.value_counts(\"normalize\") * 100)"
   ]
  },
  {
   "cell_type": "code",
   "execution_count": 27,
   "id": "abroad-victim",
   "metadata": {},
   "outputs": [
    {
     "data": {
      "text/plain": [
       "District of Columbia    100.0\n",
       "Name: location_state, dtype: float64"
      ]
     },
     "execution_count": 27,
     "metadata": {},
     "output_type": "execute_result"
    }
   ],
   "source": [
    "round(capitol_cases.location_state.value_counts(\"normalize\") * 100)"
   ]
  },
  {
   "cell_type": "code",
   "execution_count": 28,
   "id": "concrete-excuse",
   "metadata": {},
   "outputs": [
    {
     "data": {
      "text/plain": [
       "Male      91.0\n",
       "Female     9.0\n",
       "Name: gender, dtype: float64"
      ]
     },
     "execution_count": 28,
     "metadata": {},
     "output_type": "execute_result"
    }
   ],
   "source": [
    "round(capitol_cases.gender.value_counts(\"normalize\") * 100)"
   ]
  },
  {
   "cell_type": "markdown",
   "id": "thousand-kazakhstan",
   "metadata": {},
   "source": [
    "---"
   ]
  },
  {
   "cell_type": "code",
   "execution_count": 29,
   "id": "ceramic-terrorism",
   "metadata": {},
   "outputs": [],
   "source": [
    "fbi_url = \"https://www.justice.gov/opa/investigations-regarding-violence-capitol\""
   ]
  },
  {
   "cell_type": "code",
   "execution_count": 30,
   "id": "spatial-electronics",
   "metadata": {},
   "outputs": [],
   "source": [
    "headers_fbi = {\n",
    "    \"User-Agent\": \"Mozilla/5.0 (Macintosh; Intel Mac OS X 10_15_6) AppleWebKit/537.36 (KHTML, like Gecko) Chrome/85.0.4183.102 Safari/537.36\",\n",
    "    \"Accept\": \"text/html,application/xhtml+xml,application/xml;q=0.9,image/avif,image/webp,image/apng,*/*;q=0.8,application/signed-exchange;v=b3;q=0.9\",\n",
    "}\n",
    "\n",
    "response_fbi = requests.get(fbi_url, headers=headers)\n",
    "\n",
    "fbi = pd.read_html(response_fbi.text, attrs={\"class\": \"tablesorter\"})[0]"
   ]
  },
  {
   "cell_type": "code",
   "execution_count": 31,
   "id": "rubber-priority",
   "metadata": {},
   "outputs": [],
   "source": [
    "fbi.columns = (\n",
    "    fbi.columns.str.strip()\n",
    "    .str.lower()\n",
    "    .str.replace(\" \", \"_\", regex=False)\n",
    "    .str.replace(\":\", \"\", regex=False)\n",
    "    .str.replace(\"/\", \"_\", regex=False)\n",
    "    .str.replace(\",\", \"_\", regex=False)\n",
    ")"
   ]
  },
  {
   "cell_type": "code",
   "execution_count": 32,
   "id": "received-attack",
   "metadata": {},
   "outputs": [
    {
     "data": {
      "text/html": [
       "<div>\n",
       "<style scoped>\n",
       "    .dataframe tbody tr th:only-of-type {\n",
       "        vertical-align: middle;\n",
       "    }\n",
       "\n",
       "    .dataframe tbody tr th {\n",
       "        vertical-align: top;\n",
       "    }\n",
       "\n",
       "    .dataframe thead th {\n",
       "        text-align: right;\n",
       "    }\n",
       "</style>\n",
       "<table border=\"1\" class=\"dataframe\">\n",
       "  <thead>\n",
       "    <tr style=\"text-align: right;\">\n",
       "      <th></th>\n",
       "      <th>case_number</th>\n",
       "      <th>name</th>\n",
       "      <th>charge(s)</th>\n",
       "      <th>links_to_press_releases__charging_documents</th>\n",
       "      <th>residency</th>\n",
       "      <th>case_status</th>\n",
       "      <th>entry_last_updated</th>\n",
       "    </tr>\n",
       "  </thead>\n",
       "  <tbody>\n",
       "    <tr>\n",
       "      <th>0</th>\n",
       "      <td>1:21-mj-10</td>\n",
       "      <td>ALBERTS, Christopher Michael</td>\n",
       "      <td>Carrying or having readily accessible, on the grounds of the United States Capitol Building, a firearm and ammunition.</td>\n",
       "      <td>Thirteen Charged in Federal Court Following Riot at the United States Capitol  Alberts - Complaint  Alberts - Statement of Facts</td>\n",
       "      <td>MD</td>\n",
       "      <td>Arrested on 1/7/21. Initial appearance / detention hearing on 1/7/21. Defendant released. Preliminary Hearing set for 1/28/21 at 2:00 p.m.</td>\n",
       "      <td>NaN</td>\n",
       "    </tr>\n",
       "    <tr>\n",
       "      <th>1</th>\n",
       "      <td>1:21-mj-13</td>\n",
       "      <td>BARNETT, Richard</td>\n",
       "      <td>Knowingly entering or remaining in any restricted building or grounds without lawful entry; violent entry and disorderly conduct on Capitol grounds; and theft of public money, property, or records. Barnett allegedly entered a restricted are of the Speaker of the House Nancy Pelosi.</td>\n",
       "      <td>Man Arrested for Illegally Entering Office of Speaker of the House  Thirteen Charged in Federal Court Following Riot at the United States Capitol  Barnett - Statement of Facts  Barnett - Amended Complaint  Barnett - Amended Statement of Facts</td>\n",
       "      <td>AR</td>\n",
       "      <td>Initial Appearance 1/12/21 at 3pm CST (virtual – WDAR District Court)</td>\n",
       "      <td>NaN</td>\n",
       "    </tr>\n",
       "    <tr>\n",
       "      <th>2</th>\n",
       "      <td>1:21-mj-49</td>\n",
       "      <td>BLACK, Joshua Matthew</td>\n",
       "      <td>Restricted building or grounds; violent entry and disorderly conduct</td>\n",
       "      <td>Black - Complaint  Black - Affidavit in Support</td>\n",
       "      <td>AL</td>\n",
       "      <td>Arrested in Northern Alabama on 1/14/2021.  Detention, preliminary, and identity hearings set for 1/20/21 at 2:30pm.</td>\n",
       "      <td>1/14/2021</td>\n",
       "    </tr>\n",
       "    <tr>\n",
       "      <th>3</th>\n",
       "      <td>1:21-mj-48</td>\n",
       "      <td>BLEDSOE, Matthew</td>\n",
       "      <td>Knowingly Entering or Remaining in any Restricted Building or Grounds Without Lawful Authority; Violent Entry and Disorderly Conduct on Capitol Grounds</td>\n",
       "      <td>Bledsoe - Complaint  Bledsoe - Statement of Facts</td>\n",
       "      <td>NaN</td>\n",
       "      <td>Arrested in TN on 1/15/21. Video initial appearance in federal court in Memphis 1/15/21 at 11:00am CST</td>\n",
       "      <td>1/15/2021</td>\n",
       "    </tr>\n",
       "    <tr>\n",
       "      <th>4</th>\n",
       "      <td>NaN</td>\n",
       "      <td>BROCK, Larry Rendall</td>\n",
       "      <td>One count of knowingly entering or remaining in any restricted building or grounds without lawful authority and one count of violent entry and disorderly conduct on Capitol grounds</td>\n",
       "      <td>Two Men Charged in Connection with Events at U.S. Capitol  Brock - Complaint  Brock - Affidavit</td>\n",
       "      <td>TX</td>\n",
       "      <td>Initial appearance 1/12/21. (NDTX District Court)</td>\n",
       "      <td>1/15/2021</td>\n",
       "    </tr>\n",
       "  </tbody>\n",
       "</table>\n",
       "</div>"
      ],
      "text/plain": [
       "  case_number                          name  \\\n",
       "0  1:21-mj-10  ALBERTS, Christopher Michael   \n",
       "1  1:21-mj-13              BARNETT, Richard   \n",
       "2  1:21-mj-49         BLACK, Joshua Matthew   \n",
       "3  1:21-mj-48              BLEDSOE, Matthew   \n",
       "4         NaN          BROCK, Larry Rendall   \n",
       "\n",
       "                                                                                                                                                                                                                                                                                    charge(s)  \\\n",
       "0                                                                                                                                                                      Carrying or having readily accessible, on the grounds of the United States Capitol Building, a firearm and ammunition.   \n",
       "1  Knowingly entering or remaining in any restricted building or grounds without lawful entry; violent entry and disorderly conduct on Capitol grounds; and theft of public money, property, or records. Barnett allegedly entered a restricted are of the Speaker of the House Nancy Pelosi.   \n",
       "2                                                                                                                                                                                                                        Restricted building or grounds; violent entry and disorderly conduct   \n",
       "3                                                                                                                                     Knowingly Entering or Remaining in any Restricted Building or Grounds Without Lawful Authority; Violent Entry and Disorderly Conduct on Capitol Grounds   \n",
       "4                                                                                                        One count of knowingly entering or remaining in any restricted building or grounds without lawful authority and one count of violent entry and disorderly conduct on Capitol grounds   \n",
       "\n",
       "                                                                                                                                                                                                          links_to_press_releases__charging_documents  \\\n",
       "0                                                                                                                    Thirteen Charged in Federal Court Following Riot at the United States Capitol  Alberts - Complaint  Alberts - Statement of Facts   \n",
       "1  Man Arrested for Illegally Entering Office of Speaker of the House  Thirteen Charged in Federal Court Following Riot at the United States Capitol  Barnett - Statement of Facts  Barnett - Amended Complaint  Barnett - Amended Statement of Facts   \n",
       "2                                                                                                                                                                                                     Black - Complaint  Black - Affidavit in Support   \n",
       "3                                                                                                                                                                                                   Bledsoe - Complaint  Bledsoe - Statement of Facts   \n",
       "4                                                                                                                                                     Two Men Charged in Connection with Events at U.S. Capitol  Brock - Complaint  Brock - Affidavit   \n",
       "\n",
       "  residency  \\\n",
       "0        MD   \n",
       "1        AR   \n",
       "2        AL   \n",
       "3       NaN   \n",
       "4        TX   \n",
       "\n",
       "                                                                                                                                  case_status  \\\n",
       "0  Arrested on 1/7/21. Initial appearance / detention hearing on 1/7/21. Defendant released. Preliminary Hearing set for 1/28/21 at 2:00 p.m.   \n",
       "1                                                                       Initial Appearance 1/12/21 at 3pm CST (virtual – WDAR District Court)   \n",
       "2                        Arrested in Northern Alabama on 1/14/2021.  Detention, preliminary, and identity hearings set for 1/20/21 at 2:30pm.   \n",
       "3                                      Arrested in TN on 1/15/21. Video initial appearance in federal court in Memphis 1/15/21 at 11:00am CST   \n",
       "4                                                                                           Initial appearance 1/12/21. (NDTX District Court)   \n",
       "\n",
       "  entry_last_updated  \n",
       "0                NaN  \n",
       "1                NaN  \n",
       "2          1/14/2021  \n",
       "3          1/15/2021  \n",
       "4          1/15/2021  "
      ]
     },
     "execution_count": 32,
     "metadata": {},
     "output_type": "execute_result"
    }
   ],
   "source": [
    "fbi.head()"
   ]
  },
  {
   "cell_type": "markdown",
   "id": "indoor-receptor",
   "metadata": {},
   "source": [
    "---"
   ]
  },
  {
   "cell_type": "markdown",
   "id": "greenhouse-opinion",
   "metadata": {},
   "source": [
    "### Export"
   ]
  },
  {
   "cell_type": "code",
   "execution_count": 33,
   "id": "guided-negative",
   "metadata": {},
   "outputs": [],
   "source": [
    "cases.to_csv(\"raw/cases_prosecution_project.csv\", index=False)"
   ]
  },
  {
   "cell_type": "code",
   "execution_count": 34,
   "id": "assumed-tobacco",
   "metadata": {},
   "outputs": [
    {
     "ename": "NameError",
     "evalue": "name 'charges_table' is not defined",
     "output_type": "error",
     "traceback": [
      "\u001b[0;31m---------------------------------------------------------------------------\u001b[0m",
      "\u001b[0;31mNameError\u001b[0m                                 Traceback (most recent call last)",
      "\u001b[0;32m<ipython-input-34-de0c0b3cdb99>\u001b[0m in \u001b[0;36m<module>\u001b[0;34m\u001b[0m\n\u001b[0;32m----> 1\u001b[0;31m \u001b[0mcharges_table\u001b[0m\u001b[0;34m.\u001b[0m\u001b[0mto_csv\u001b[0m\u001b[0;34m(\u001b[0m\u001b[0;34m\"processed/summary_states_gw.csv\"\u001b[0m\u001b[0;34m,\u001b[0m \u001b[0mindex\u001b[0m\u001b[0;34m=\u001b[0m\u001b[0;32mFalse\u001b[0m\u001b[0;34m)\u001b[0m\u001b[0;34m\u001b[0m\u001b[0;34m\u001b[0m\u001b[0m\n\u001b[0m",
      "\u001b[0;31mNameError\u001b[0m: name 'charges_table' is not defined"
     ]
    }
   ],
   "source": [
    "charges_table.to_csv(\"processed/summary_states_gw.csv\", index=False)"
   ]
  }
 ],
 "metadata": {
  "kernelspec": {
   "display_name": "Python 3",
   "language": "python",
   "name": "python3"
  },
  "language_info": {
   "codemirror_mode": {
    "name": "ipython",
    "version": 3
   },
   "file_extension": ".py",
   "mimetype": "text/x-python",
   "name": "python",
   "nbconvert_exporter": "python",
   "pygments_lexer": "ipython3",
   "version": "3.7.4"
  }
 },
 "nbformat": 4,
 "nbformat_minor": 5
}
