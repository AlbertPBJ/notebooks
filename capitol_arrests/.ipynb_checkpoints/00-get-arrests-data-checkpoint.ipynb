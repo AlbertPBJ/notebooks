{
 "cells": [
  {
   "cell_type": "markdown",
   "id": "coupled-opening",
   "metadata": {},
   "source": [
    "# Arrests/charges stemming from the Jan. 6 riot at the U.S. Capitol"
   ]
  },
  {
   "cell_type": "markdown",
   "id": "cooked-patrol",
   "metadata": {},
   "source": [
    "### Import Python tools"
   ]
  },
  {
   "cell_type": "code",
   "execution_count": 1,
   "id": "flexible-appliance",
   "metadata": {},
   "outputs": [],
   "source": [
    "%load_ext lab_black"
   ]
  },
  {
   "cell_type": "code",
   "execution_count": 2,
   "id": "distant-caribbean",
   "metadata": {},
   "outputs": [
    {
     "data": {
      "text/plain": [
       "ThemeRegistry.enable('latimes')"
      ]
     },
     "execution_count": 2,
     "metadata": {},
     "output_type": "execute_result"
    }
   ],
   "source": [
    "import pandas as pd\n",
    "import geopandas as gpd\n",
    "import jenkspy\n",
    "import matplotlib.pyplot as plt\n",
    "import requests\n",
    "\n",
    "%matplotlib inline\n",
    "import json\n",
    "import numpy as np\n",
    "import altair as alt\n",
    "import altair_latimes as lat\n",
    "\n",
    "alt.themes.register(\"latimes\", lat.theme)\n",
    "alt.themes.enable(\"latimes\")"
   ]
  },
  {
   "cell_type": "code",
   "execution_count": 3,
   "id": "breeding-thumb",
   "metadata": {},
   "outputs": [],
   "source": [
    "pd.options.display.max_columns = 100\n",
    "pd.options.display.max_rows = 1000\n",
    "alt.data_transformers.disable_max_rows()\n",
    "pd.set_option(\"display.max_colwidth\", None)"
   ]
  },
  {
   "cell_type": "markdown",
   "id": "breathing-diversity",
   "metadata": {},
   "source": [
    "### Ingrest data from the Program on Extremism at GW"
   ]
  },
  {
   "cell_type": "code",
   "execution_count": 4,
   "id": "accessible-lambda",
   "metadata": {},
   "outputs": [],
   "source": [
    "url = \"https://extremism.gwu.edu/Capitol-Hill-Cases\""
   ]
  },
  {
   "cell_type": "code",
   "execution_count": 5,
   "id": "robust-dynamics",
   "metadata": {},
   "outputs": [],
   "source": [
    "headers = {\n",
    "    \"User-Agent\": \"Mozilla/5.0 (Macintosh; Intel Mac OS X 10_15_6) AppleWebKit/537.36 (KHTML, like Gecko) Chrome/85.0.4183.102 Safari/537.36\",\n",
    "    \"Accept\": \"text/html,application/xhtml+xml,application/xml;q=0.9,image/avif,image/webp,image/apng,*/*;q=0.8,application/signed-exchange;v=b3;q=0.9\",\n",
    "}\n",
    "\n",
    "response = requests.get(url, headers=headers)\n",
    "\n",
    "summary_table = pd.read_html(response.text, attrs={\"class\": \"table\"})[0]\n",
    "charges_table = pd.read_html(response.text, attrs={\"class\": \"table\"})[1]"
   ]
  },
  {
   "cell_type": "code",
   "execution_count": 6,
   "id": "casual-basket",
   "metadata": {},
   "outputs": [
    {
     "data": {
      "text/html": [
       "<div>\n",
       "<style scoped>\n",
       "    .dataframe tbody tr th:only-of-type {\n",
       "        vertical-align: middle;\n",
       "    }\n",
       "\n",
       "    .dataframe tbody tr th {\n",
       "        vertical-align: top;\n",
       "    }\n",
       "\n",
       "    .dataframe thead th {\n",
       "        text-align: right;\n",
       "    }\n",
       "</style>\n",
       "<table border=\"1\" class=\"dataframe\">\n",
       "  <thead>\n",
       "    <tr style=\"text-align: right;\">\n",
       "      <th></th>\n",
       "      <th>Date Updated</th>\n",
       "      <th># Individuals Charged</th>\n",
       "      <th>Max. # Charges for 1 Individual</th>\n",
       "      <th>Avg. # Charges</th>\n",
       "      <th># Federal Cases</th>\n",
       "      <th># D.C. Cases</th>\n",
       "    </tr>\n",
       "  </thead>\n",
       "  <tbody>\n",
       "    <tr>\n",
       "      <th>0</th>\n",
       "      <td>January 14, 2021</td>\n",
       "      <td>72</td>\n",
       "      <td>17</td>\n",
       "      <td>2.2</td>\n",
       "      <td>45</td>\n",
       "      <td>27</td>\n",
       "    </tr>\n",
       "  </tbody>\n",
       "</table>\n",
       "</div>"
      ],
      "text/plain": [
       "       Date Updated  # Individuals Charged  Max. # Charges for 1 Individual  \\\n",
       "0  January 14, 2021                     72                               17   \n",
       "\n",
       "   Avg. # Charges  # Federal Cases  # D.C. Cases  \n",
       "0             2.2               45            27  "
      ]
     },
     "execution_count": 6,
     "metadata": {},
     "output_type": "execute_result"
    }
   ],
   "source": [
    "summary_table"
   ]
  },
  {
   "cell_type": "code",
   "execution_count": 7,
   "id": "modern-intensity",
   "metadata": {},
   "outputs": [
    {
     "data": {
      "text/html": [
       "<div>\n",
       "<style scoped>\n",
       "    .dataframe tbody tr th:only-of-type {\n",
       "        vertical-align: middle;\n",
       "    }\n",
       "\n",
       "    .dataframe tbody tr th {\n",
       "        vertical-align: top;\n",
       "    }\n",
       "\n",
       "    .dataframe thead th {\n",
       "        text-align: right;\n",
       "    }\n",
       "</style>\n",
       "<table border=\"1\" class=\"dataframe\">\n",
       "  <thead>\n",
       "    <tr style=\"text-align: right;\">\n",
       "      <th></th>\n",
       "      <th>Charge Type</th>\n",
       "      <th>Count (Federal)</th>\n",
       "      <th>Count (D.C.)</th>\n",
       "      <th>Total</th>\n",
       "    </tr>\n",
       "  </thead>\n",
       "  <tbody>\n",
       "    <tr>\n",
       "      <th>0</th>\n",
       "      <td>Illegal Entry and Activity on Designated Ground</td>\n",
       "      <td>91</td>\n",
       "      <td>25</td>\n",
       "      <td>116</td>\n",
       "    </tr>\n",
       "    <tr>\n",
       "      <th>1</th>\n",
       "      <td>Firearms Charges</td>\n",
       "      <td>2</td>\n",
       "      <td>19</td>\n",
       "      <td>21</td>\n",
       "    </tr>\n",
       "    <tr>\n",
       "      <th>2</th>\n",
       "      <td>Civil Disorder</td>\n",
       "      <td>8</td>\n",
       "      <td>0</td>\n",
       "      <td>8</td>\n",
       "    </tr>\n",
       "    <tr>\n",
       "      <th>3</th>\n",
       "      <td>Assault</td>\n",
       "      <td>3</td>\n",
       "      <td>1</td>\n",
       "      <td>4</td>\n",
       "    </tr>\n",
       "    <tr>\n",
       "      <th>4</th>\n",
       "      <td>Theft</td>\n",
       "      <td>3</td>\n",
       "      <td>0</td>\n",
       "      <td>3</td>\n",
       "    </tr>\n",
       "    <tr>\n",
       "      <th>5</th>\n",
       "      <td>Threats</td>\n",
       "      <td>1</td>\n",
       "      <td>0</td>\n",
       "      <td>1</td>\n",
       "    </tr>\n",
       "  </tbody>\n",
       "</table>\n",
       "</div>"
      ],
      "text/plain": [
       "                                       Charge Type  Count (Federal)  \\\n",
       "0  Illegal Entry and Activity on Designated Ground               91   \n",
       "1                                 Firearms Charges                2   \n",
       "2                                   Civil Disorder                8   \n",
       "3                                          Assault                3   \n",
       "4                                            Theft                3   \n",
       "5                                          Threats                1   \n",
       "\n",
       "   Count (D.C.)  Total  \n",
       "0            25    116  \n",
       "1            19     21  \n",
       "2             0      8  \n",
       "3             1      4  \n",
       "4             0      3  \n",
       "5             0      1  "
      ]
     },
     "execution_count": 7,
     "metadata": {},
     "output_type": "execute_result"
    }
   ],
   "source": [
    "charges_table"
   ]
  },
  {
   "cell_type": "markdown",
   "id": "numerous-airplane",
   "metadata": {},
   "source": [
    "---"
   ]
  },
  {
   "cell_type": "code",
   "execution_count": 8,
   "id": "sunrise-controversy",
   "metadata": {},
   "outputs": [],
   "source": [
    "from bs4 import *\n",
    "import requests\n",
    "\n",
    "site = url\n",
    "request = requests.get(site).text\n",
    "\n",
    "soup = BeautifulSoup(request, \"html.parser\")"
   ]
  },
  {
   "cell_type": "code",
   "execution_count": 9,
   "id": "anonymous-milwaukee",
   "metadata": {},
   "outputs": [],
   "source": [
    "# for a in soup.find_all(\"div\", attrs={\"class\": \"panel-body\"}):\n",
    "#     print(a)"
   ]
  },
  {
   "cell_type": "markdown",
   "id": "stone-reservoir",
   "metadata": {},
   "source": [
    "---"
   ]
  },
  {
   "cell_type": "markdown",
   "id": "harmful-illustration",
   "metadata": {},
   "source": [
    "### Read data from the [Prosecution Project](https://theprosecutionproject.org/2021/01/14/prosecution-data-capitol-siege-of-january-6-2021/)"
   ]
  },
  {
   "cell_type": "code",
   "execution_count": 10,
   "id": "qualified-belarus",
   "metadata": {},
   "outputs": [],
   "source": [
    "url2 = \"https://docs.google.com/spreadsheets/d/e/2PACX-1vQ-NJiMr9_MVxsqTSB1sYkzOZSfg59m6ViR7qvjXef3O4txMuWYxh7TlTVcQAxzduCjhLxKP3dlXUhX/pub?output=csv\""
   ]
  },
  {
   "cell_type": "code",
   "execution_count": 11,
   "id": "formal-boring",
   "metadata": {},
   "outputs": [],
   "source": [
    "cases = pd.read_csv(url2)"
   ]
  },
  {
   "cell_type": "code",
   "execution_count": 12,
   "id": "alpha-trace",
   "metadata": {},
   "outputs": [],
   "source": [
    "cases.columns = (\n",
    "    cases.columns.str.strip()\n",
    "    .str.lower()\n",
    "    .str.replace(\" \", \"_\", regex=False)\n",
    "    .str.replace(\":\", \"\", regex=False)\n",
    "    .str.replace(\"/\", \"_\", regex=False)\n",
    "    .str.replace(\"-\", \"_\", regex=False)\n",
    ")"
   ]
  },
  {
   "cell_type": "code",
   "execution_count": 13,
   "id": "bacterial-chance",
   "metadata": {},
   "outputs": [],
   "source": [
    "cases = cases.dropna(how=\"all\")"
   ]
  },
  {
   "cell_type": "code",
   "execution_count": 14,
   "id": "convenient-greensboro",
   "metadata": {},
   "outputs": [],
   "source": [
    "cases[\"charges\"] = cases[\"charges\"].str.upper()"
   ]
  },
  {
   "cell_type": "code",
   "execution_count": 15,
   "id": "derived-gospel",
   "metadata": {},
   "outputs": [
    {
     "data": {
      "text/html": [
       "<div>\n",
       "<style scoped>\n",
       "    .dataframe tbody tr th:only-of-type {\n",
       "        vertical-align: middle;\n",
       "    }\n",
       "\n",
       "    .dataframe tbody tr th {\n",
       "        vertical-align: top;\n",
       "    }\n",
       "\n",
       "    .dataframe thead th {\n",
       "        text-align: right;\n",
       "    }\n",
       "</style>\n",
       "<table border=\"1\" class=\"dataframe\">\n",
       "  <thead>\n",
       "    <tr style=\"text-align: right;\">\n",
       "      <th></th>\n",
       "      <th>full_legal_name</th>\n",
       "      <th>charges</th>\n",
       "    </tr>\n",
       "  </thead>\n",
       "  <tbody>\n",
       "    <tr>\n",
       "      <th>0</th>\n",
       "      <td>Henry Tarrio</td>\n",
       "      <td>7 DC CODE 2506.01(B) POSSESSION OF LARGE CAPACITY AMMUNITION FEEDING DEVICE [2 COUNTS]</td>\n",
       "    </tr>\n",
       "    <tr>\n",
       "      <th>1</th>\n",
       "      <td>Matthew Council</td>\n",
       "      <td>18:1752(A)(1)  KNOWINGLY ENTERING OR REMAINING IN ANY RESTRICTED BUILDING OR GROUNDS WITHOUT LAWFUL AUTHORITY; 40:5104(E)(2) VIOLENT ENTRY AND DISORDERLY CONDUCT ON CAPITOL GROUNDS</td>\n",
       "    </tr>\n",
       "    <tr>\n",
       "      <th>2</th>\n",
       "      <td>Bradley Rukstales</td>\n",
       "      <td>18:1752(A) KNOWINGLY ENTERING OR REMAINING IN ANY RESTRICTED BUILDING OR GROUNDS WITHOUT LAWFUL AUTHORITY, OR KNOWINGLY, WITH INTENT TO IMPEDE GOVERNMENT BUSINESS OR OFFICIAL FUNCTIONS, ENGAGING IN DISORDERLY CONDUCT ON CAPITOL GROUNDS; 40:5104(E)(2) VIOLENT ENTRY AND DISORDERLY CONDUCT ON CAPITOL GROUNDS</td>\n",
       "    </tr>\n",
       "    <tr>\n",
       "      <th>3</th>\n",
       "      <td>Michael Curzio</td>\n",
       "      <td>18:1752(A) KNOWINGLY ENTERING OR REMAINING IN ANY RESTRICTED BUILDING OR GROUNDS WITHOUT LAWFUL AUTHORITY, OR KNOWINGLY, WITH INTENT TO IMPEDE GOVERNMENT BUSINESS OR OFFICIAL FUNCTIONS, ENGAGING IN DISORDERLY CONDUCT ON CAPITOL GROUNDS; 40:5104(E)(2) VIOLENT ENTRY AND DISORDERLY CONDUCT ON CAPITOL GROUNDS</td>\n",
       "    </tr>\n",
       "    <tr>\n",
       "      <th>4</th>\n",
       "      <td>Cindy Fitchett</td>\n",
       "      <td>18:1752(A) KNOWINGLY ENTERING OR REMAINING IN ANY RESTRICTED BUILDING OR GROUNDS WITHOUT LAWFUL AUTHORITY, OR KNOWINGLY, WITH INTENT TO IMPEDE GOVERNMENT BUSINESS OR OFFICIAL FUNCTIONS, ENGAGING IN DISORDERLY CONDUCT ON CAPITOL GROUNDS; 40:5104(E)(2) VIOLENT ENTRY AND DISORDERLY CONDUCT ON CAPITOL GROUNDS</td>\n",
       "    </tr>\n",
       "  </tbody>\n",
       "</table>\n",
       "</div>"
      ],
      "text/plain": [
       "     full_legal_name  \\\n",
       "0       Henry Tarrio   \n",
       "1    Matthew Council   \n",
       "2  Bradley Rukstales   \n",
       "3     Michael Curzio   \n",
       "4    Cindy Fitchett    \n",
       "\n",
       "                                                                                                                                                                                                                                                                                                              charges  \n",
       "0                                                                                                                                                                                                                              7 DC CODE 2506.01(B) POSSESSION OF LARGE CAPACITY AMMUNITION FEEDING DEVICE [2 COUNTS]  \n",
       "1                                                                                                                                18:1752(A)(1)  KNOWINGLY ENTERING OR REMAINING IN ANY RESTRICTED BUILDING OR GROUNDS WITHOUT LAWFUL AUTHORITY; 40:5104(E)(2) VIOLENT ENTRY AND DISORDERLY CONDUCT ON CAPITOL GROUNDS  \n",
       "2  18:1752(A) KNOWINGLY ENTERING OR REMAINING IN ANY RESTRICTED BUILDING OR GROUNDS WITHOUT LAWFUL AUTHORITY, OR KNOWINGLY, WITH INTENT TO IMPEDE GOVERNMENT BUSINESS OR OFFICIAL FUNCTIONS, ENGAGING IN DISORDERLY CONDUCT ON CAPITOL GROUNDS; 40:5104(E)(2) VIOLENT ENTRY AND DISORDERLY CONDUCT ON CAPITOL GROUNDS  \n",
       "3  18:1752(A) KNOWINGLY ENTERING OR REMAINING IN ANY RESTRICTED BUILDING OR GROUNDS WITHOUT LAWFUL AUTHORITY, OR KNOWINGLY, WITH INTENT TO IMPEDE GOVERNMENT BUSINESS OR OFFICIAL FUNCTIONS, ENGAGING IN DISORDERLY CONDUCT ON CAPITOL GROUNDS; 40:5104(E)(2) VIOLENT ENTRY AND DISORDERLY CONDUCT ON CAPITOL GROUNDS  \n",
       "4  18:1752(A) KNOWINGLY ENTERING OR REMAINING IN ANY RESTRICTED BUILDING OR GROUNDS WITHOUT LAWFUL AUTHORITY, OR KNOWINGLY, WITH INTENT TO IMPEDE GOVERNMENT BUSINESS OR OFFICIAL FUNCTIONS, ENGAGING IN DISORDERLY CONDUCT ON CAPITOL GROUNDS; 40:5104(E)(2) VIOLENT ENTRY AND DISORDERLY CONDUCT ON CAPITOL GROUNDS  "
      ]
     },
     "execution_count": 15,
     "metadata": {},
     "output_type": "execute_result"
    }
   ],
   "source": [
    "cases[[\"full_legal_name\", \"charges\"]].head()"
   ]
  },
  {
   "cell_type": "markdown",
   "id": "protective-disabled",
   "metadata": {},
   "source": [
    "### Mean age of all arrestees related to the Capitol seige"
   ]
  },
  {
   "cell_type": "code",
   "execution_count": 16,
   "id": "sealed-yield",
   "metadata": {},
   "outputs": [
    {
     "data": {
      "text/plain": [
       "41"
      ]
     },
     "execution_count": 16,
     "metadata": {},
     "output_type": "execute_result"
    }
   ],
   "source": [
    "round(cases.age.mean())"
   ]
  },
  {
   "cell_type": "markdown",
   "id": "going-shower",
   "metadata": {},
   "source": [
    "### Number of cases so far"
   ]
  },
  {
   "cell_type": "code",
   "execution_count": 17,
   "id": "dimensional-customs",
   "metadata": {},
   "outputs": [
    {
     "data": {
      "text/plain": [
       "145"
      ]
     },
     "execution_count": 17,
     "metadata": {},
     "output_type": "execute_result"
    }
   ],
   "source": [
    "len(cases)"
   ]
  },
  {
   "cell_type": "markdown",
   "id": "centered-crazy",
   "metadata": {},
   "source": [
    "### Gender counts for those charged"
   ]
  },
  {
   "cell_type": "code",
   "execution_count": 18,
   "id": "sufficient-blackjack",
   "metadata": {},
   "outputs": [
    {
     "data": {
      "text/plain": [
       "Male               86.0\n",
       "Female             13.0\n",
       "Unknown/unclear     1.0\n",
       "Name: gender, dtype: float64"
      ]
     },
     "execution_count": 18,
     "metadata": {},
     "output_type": "execute_result"
    }
   ],
   "source": [
    "round(cases.gender.value_counts(\"normalize\") * 100)"
   ]
  },
  {
   "cell_type": "markdown",
   "id": "hundred-egyptian",
   "metadata": {},
   "source": [
    "### Race/ethnicity of those charged?"
   ]
  },
  {
   "cell_type": "code",
   "execution_count": 19,
   "id": "swedish-drama",
   "metadata": {},
   "outputs": [
    {
     "data": {
      "text/plain": [
       "White/Caucasian                   92.0\n",
       "Black/African/African American     4.0\n",
       "Latino/Hispanic                    1.0\n",
       "Asian/South Asian                  1.0\n",
       "Unknown                            1.0\n",
       "Name: racial_ethnic_group, dtype: float64"
      ]
     },
     "execution_count": 19,
     "metadata": {},
     "output_type": "execute_result"
    }
   ],
   "source": [
    "round(cases.racial_ethnic_group.value_counts(\"normalize\") * 100)"
   ]
  },
  {
   "cell_type": "markdown",
   "id": "optical-algorithm",
   "metadata": {},
   "source": [
    "---"
   ]
  },
  {
   "cell_type": "markdown",
   "id": "frank-rochester",
   "metadata": {},
   "source": [
    "### Cases that only involve illegally entering the Capitol"
   ]
  },
  {
   "cell_type": "code",
   "execution_count": 20,
   "id": "sharing-potential",
   "metadata": {},
   "outputs": [],
   "source": [
    "capitol_cases = cases[\n",
    "    cases[\"charges\"].fillna(\"\").str.contains(\"RESTRICTED BUILDING OR GROUNDS\")\n",
    "]"
   ]
  },
  {
   "cell_type": "code",
   "execution_count": 21,
   "id": "legendary-spring",
   "metadata": {},
   "outputs": [
    {
     "data": {
      "text/plain": [
       "33"
      ]
     },
     "execution_count": 21,
     "metadata": {},
     "output_type": "execute_result"
    }
   ],
   "source": [
    "len(capitol_cases)"
   ]
  },
  {
   "cell_type": "code",
   "execution_count": 22,
   "id": "functioning-policy",
   "metadata": {},
   "outputs": [
    {
     "data": {
      "text/plain": [
       "White/Caucasian                   97.0\n",
       "Black/African/African American     3.0\n",
       "Name: racial_ethnic_group, dtype: float64"
      ]
     },
     "execution_count": 22,
     "metadata": {},
     "output_type": "execute_result"
    }
   ],
   "source": [
    "round(capitol_cases.racial_ethnic_group.value_counts(\"normalize\") * 100)"
   ]
  },
  {
   "cell_type": "code",
   "execution_count": 23,
   "id": "raised-marker",
   "metadata": {},
   "outputs": [
    {
     "data": {
      "text/plain": [
       "District of Columbia    100.0\n",
       "Name: location_state, dtype: float64"
      ]
     },
     "execution_count": 23,
     "metadata": {},
     "output_type": "execute_result"
    }
   ],
   "source": [
    "round(capitol_cases.location_state.value_counts(\"normalize\") * 100)"
   ]
  },
  {
   "cell_type": "code",
   "execution_count": 24,
   "id": "drawn-holmes",
   "metadata": {},
   "outputs": [
    {
     "data": {
      "text/plain": [
       "Male      91.0\n",
       "Female     9.0\n",
       "Name: gender, dtype: float64"
      ]
     },
     "execution_count": 24,
     "metadata": {},
     "output_type": "execute_result"
    }
   ],
   "source": [
    "round(capitol_cases.gender.value_counts(\"normalize\") * 100)"
   ]
  }
 ],
 "metadata": {
  "kernelspec": {
   "display_name": "Python 3",
   "language": "python",
   "name": "python3"
  },
  "language_info": {
   "codemirror_mode": {
    "name": "ipython",
    "version": 3
   },
   "file_extension": ".py",
   "mimetype": "text/x-python",
   "name": "python",
   "nbconvert_exporter": "python",
   "pygments_lexer": "ipython3",
   "version": "3.7.4"
  }
 },
 "nbformat": 4,
 "nbformat_minor": 5
}
