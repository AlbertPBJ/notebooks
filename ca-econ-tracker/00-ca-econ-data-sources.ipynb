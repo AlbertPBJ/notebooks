{
 "cells": [
  {
   "cell_type": "markdown",
   "metadata": {},
   "source": [
    "# Analyzing economic indicators in California after COVID-19"
   ]
  },
  {
   "cell_type": "markdown",
   "metadata": {},
   "source": [
    "### Load Python tools"
   ]
  },
  {
   "cell_type": "code",
   "execution_count": 1,
   "metadata": {},
   "outputs": [],
   "source": [
    "import pandas as pd\n",
    "from urllib.request import urlopen \n",
    "import os\n",
    "import glob\n",
    "import requests\n",
    "import matplotlib\n",
    "import numpy as np\n",
    "from altair import datum\n",
    "import altair as alt\n",
    "import altair_latimes as lat\n",
    "from sodapy import Socrata\n",
    "alt.themes.register('latimes', lat.theme)\n",
    "alt.themes.enable('latimes')\n",
    "pd.options.display.max_columns = 50\n",
    "pd.options.display.max_rows = 34000"
   ]
  },
  {
   "cell_type": "markdown",
   "metadata": {},
   "source": [
    "## Worker Adjustment and Retraining Notification Act (WARN) notices in CA"
   ]
  },
  {
   "cell_type": "markdown",
   "metadata": {},
   "source": [
    "### Read historic WARN filings pulled from PDF posted online"
   ]
  },
  {
   "cell_type": "code",
   "execution_count": 2,
   "metadata": {},
   "outputs": [],
   "source": [
    "#https://edd.ca.gov/jobs_and_Training/Layoff_Services_WARN.htm\n",
    "path = 'input/'\n",
    "files = glob.glob(os.path.join(path, \"tabula*.csv\"))"
   ]
  },
  {
   "cell_type": "code",
   "execution_count": 3,
   "metadata": {},
   "outputs": [],
   "source": [
    "file_df = (pd.read_csv(f, encoding = \"ISO-8859-1\", low_memory=False)\\\n",
    "           .assign(date=os.path.basename(f)) for f in files)"
   ]
  },
  {
   "cell_type": "markdown",
   "metadata": {},
   "source": [
    "### Concatenate the CSVs into one frame and clean up fields"
   ]
  },
  {
   "cell_type": "code",
   "execution_count": 4,
   "metadata": {},
   "outputs": [],
   "source": [
    "warn_past = pd.concat(file_df, ignore_index=True).drop(['date'], axis=1)"
   ]
  },
  {
   "cell_type": "code",
   "execution_count": 5,
   "metadata": {},
   "outputs": [],
   "source": [
    "warn_past = warn_past.rename(columns={'no._of_employees': 'employees'})\n",
    "warn_past['county'] = ''\n",
    "warn_past = warn_past[['notice_date', 'effective_date', 'received_date', 'company', 'city',\n",
    "       'county', 'employees', 'layoff_closure']]\n",
    "warn_past['effective_date'] = warn_past['effective_date'].str.replace(' ', '')"
   ]
  },
  {
   "cell_type": "markdown",
   "metadata": {},
   "source": [
    "### Read current WARN filings from Excel sheet posted online and clean up fields"
   ]
  },
  {
   "cell_type": "code",
   "execution_count": 6,
   "metadata": {},
   "outputs": [],
   "source": [
    "#https://edd.ca.gov/jobs_and_Training/Layoff_Services_WARN.htm\n",
    "warnurl = 'https://edd.ca.gov/jobs_and_Training/warn/WARN_Report.xlsx'"
   ]
  },
  {
   "cell_type": "code",
   "execution_count": 8,
   "metadata": {},
   "outputs": [
    {
     "ename": "ValueError",
     "evalue": "Your version of xlrd is 2.0.1. In xlrd >= 2.0, only the xls format is supported. Install openpyxl instead.",
     "output_type": "error",
     "traceback": [
      "\u001b[0;31m---------------------------------------------------------------------------\u001b[0m",
      "\u001b[0;31mValueError\u001b[0m                                Traceback (most recent call last)",
      "\u001b[0;32m<ipython-input-8-30276699f6e9>\u001b[0m in \u001b[0;36m<module>\u001b[0;34m\u001b[0m\n\u001b[0;32m----> 1\u001b[0;31m \u001b[0mwarn_current\u001b[0m \u001b[0;34m=\u001b[0m \u001b[0mpd\u001b[0m\u001b[0;34m.\u001b[0m\u001b[0mread_excel\u001b[0m\u001b[0;34m(\u001b[0m\u001b[0mwarnurl\u001b[0m\u001b[0;34m,\u001b[0m \u001b[0mskiprows\u001b[0m\u001b[0;34m=\u001b[0m\u001b[0;36m3\u001b[0m\u001b[0;34m)\u001b[0m\u001b[0;34m\u001b[0m\u001b[0;34m\u001b[0m\u001b[0m\n\u001b[0m",
      "\u001b[0;32m~/.virtualenvs/notebooks-hnoN6uG0/lib/python3.7/site-packages/pandas/util/_decorators.py\u001b[0m in \u001b[0;36mwrapper\u001b[0;34m(*args, **kwargs)\u001b[0m\n\u001b[1;32m    297\u001b[0m                 )\n\u001b[1;32m    298\u001b[0m                 \u001b[0mwarnings\u001b[0m\u001b[0;34m.\u001b[0m\u001b[0mwarn\u001b[0m\u001b[0;34m(\u001b[0m\u001b[0mmsg\u001b[0m\u001b[0;34m,\u001b[0m \u001b[0mFutureWarning\u001b[0m\u001b[0;34m,\u001b[0m \u001b[0mstacklevel\u001b[0m\u001b[0;34m=\u001b[0m\u001b[0mstacklevel\u001b[0m\u001b[0;34m)\u001b[0m\u001b[0;34m\u001b[0m\u001b[0;34m\u001b[0m\u001b[0m\n\u001b[0;32m--> 299\u001b[0;31m             \u001b[0;32mreturn\u001b[0m \u001b[0mfunc\u001b[0m\u001b[0;34m(\u001b[0m\u001b[0;34m*\u001b[0m\u001b[0margs\u001b[0m\u001b[0;34m,\u001b[0m \u001b[0;34m**\u001b[0m\u001b[0mkwargs\u001b[0m\u001b[0;34m)\u001b[0m\u001b[0;34m\u001b[0m\u001b[0;34m\u001b[0m\u001b[0m\n\u001b[0m\u001b[1;32m    300\u001b[0m \u001b[0;34m\u001b[0m\u001b[0m\n\u001b[1;32m    301\u001b[0m         \u001b[0;32mreturn\u001b[0m \u001b[0mwrapper\u001b[0m\u001b[0;34m\u001b[0m\u001b[0;34m\u001b[0m\u001b[0m\n",
      "\u001b[0;32m~/.virtualenvs/notebooks-hnoN6uG0/lib/python3.7/site-packages/pandas/io/excel/_base.py\u001b[0m in \u001b[0;36mread_excel\u001b[0;34m(io, sheet_name, header, names, index_col, usecols, squeeze, dtype, engine, converters, true_values, false_values, skiprows, nrows, na_values, keep_default_na, na_filter, verbose, parse_dates, date_parser, thousands, comment, skipfooter, convert_float, mangle_dupe_cols, storage_options)\u001b[0m\n\u001b[1;32m    334\u001b[0m     \u001b[0;32mif\u001b[0m \u001b[0;32mnot\u001b[0m \u001b[0misinstance\u001b[0m\u001b[0;34m(\u001b[0m\u001b[0mio\u001b[0m\u001b[0;34m,\u001b[0m \u001b[0mExcelFile\u001b[0m\u001b[0;34m)\u001b[0m\u001b[0;34m:\u001b[0m\u001b[0;34m\u001b[0m\u001b[0;34m\u001b[0m\u001b[0m\n\u001b[1;32m    335\u001b[0m         \u001b[0mshould_close\u001b[0m \u001b[0;34m=\u001b[0m \u001b[0;32mTrue\u001b[0m\u001b[0;34m\u001b[0m\u001b[0;34m\u001b[0m\u001b[0m\n\u001b[0;32m--> 336\u001b[0;31m         \u001b[0mio\u001b[0m \u001b[0;34m=\u001b[0m \u001b[0mExcelFile\u001b[0m\u001b[0;34m(\u001b[0m\u001b[0mio\u001b[0m\u001b[0;34m,\u001b[0m \u001b[0mstorage_options\u001b[0m\u001b[0;34m=\u001b[0m\u001b[0mstorage_options\u001b[0m\u001b[0;34m,\u001b[0m \u001b[0mengine\u001b[0m\u001b[0;34m=\u001b[0m\u001b[0mengine\u001b[0m\u001b[0;34m)\u001b[0m\u001b[0;34m\u001b[0m\u001b[0;34m\u001b[0m\u001b[0m\n\u001b[0m\u001b[1;32m    337\u001b[0m     \u001b[0;32melif\u001b[0m \u001b[0mengine\u001b[0m \u001b[0;32mand\u001b[0m \u001b[0mengine\u001b[0m \u001b[0;34m!=\u001b[0m \u001b[0mio\u001b[0m\u001b[0;34m.\u001b[0m\u001b[0mengine\u001b[0m\u001b[0;34m:\u001b[0m\u001b[0;34m\u001b[0m\u001b[0;34m\u001b[0m\u001b[0m\n\u001b[1;32m    338\u001b[0m         raise ValueError(\n",
      "\u001b[0;32m~/.virtualenvs/notebooks-hnoN6uG0/lib/python3.7/site-packages/pandas/io/excel/_base.py\u001b[0m in \u001b[0;36m__init__\u001b[0;34m(self, path_or_buffer, engine, storage_options)\u001b[0m\n\u001b[1;32m   1084\u001b[0m             \u001b[0;32mif\u001b[0m \u001b[0mxlrd_version\u001b[0m \u001b[0;34m>=\u001b[0m \u001b[0;34m\"2\"\u001b[0m\u001b[0;34m:\u001b[0m\u001b[0;34m\u001b[0m\u001b[0;34m\u001b[0m\u001b[0m\n\u001b[1;32m   1085\u001b[0m                 raise ValueError(\n\u001b[0;32m-> 1086\u001b[0;31m                     \u001b[0;34mf\"Your version of xlrd is {xlrd_version}. In xlrd >= 2.0, \"\u001b[0m\u001b[0;34m\u001b[0m\u001b[0;34m\u001b[0m\u001b[0m\n\u001b[0m\u001b[1;32m   1087\u001b[0m                     \u001b[0;34mf\"only the xls format is supported. Install openpyxl instead.\"\u001b[0m\u001b[0;34m\u001b[0m\u001b[0;34m\u001b[0m\u001b[0m\n\u001b[1;32m   1088\u001b[0m                 )\n",
      "\u001b[0;31mValueError\u001b[0m: Your version of xlrd is 2.0.1. In xlrd >= 2.0, only the xls format is supported. Install openpyxl instead."
     ]
    }
   ],
   "source": [
    "warn_current = pd.read_excel(warnurl, skiprows=3)"
   ]
  },
  {
   "cell_type": "code",
   "execution_count": null,
   "metadata": {},
   "outputs": [],
   "source": [
    "warn_current = warn_current[warn_current.columns.drop(list(warn_current.filter(regex='Unnamed:')))]"
   ]
  },
  {
   "cell_type": "code",
   "execution_count": null,
   "metadata": {},
   "outputs": [],
   "source": [
    "warn_current = warn_current.drop(warn_current.index[4255:4270])\n",
    "warn_current.columns = warn_current.columns.str.strip().str.lower().str.replace(' ','_')\\\n",
    "    .str.replace('(', '').str.replace(')', '').str.replace('/','_').str.replace('no._of_','')"
   ]
  },
  {
   "cell_type": "markdown",
   "metadata": {},
   "source": [
    "### Concatenate old and new tables into single dataframe"
   ]
  },
  {
   "cell_type": "code",
   "execution_count": null,
   "metadata": {},
   "outputs": [],
   "source": [
    "warnall = pd.concat([warn_current, warn_past])"
   ]
  },
  {
   "cell_type": "markdown",
   "metadata": {},
   "source": [
    "### Fix dates and remove stray characters and rows"
   ]
  },
  {
   "cell_type": "code",
   "execution_count": null,
   "metadata": {},
   "outputs": [],
   "source": [
    "warnall['county'] = warnall['county'].str.strip()\n",
    "warnall['city'] = warnall['city'].str.strip()\n",
    "warnall = warnall[warnall['notice_date'] != 'Summary by Month']\n",
    "warnall = warnall[warnall['notice_date'] != 'Total']\n",
    "warnall['notice_date'] = pd.to_datetime(warnall['notice_date'])\n",
    "warnall['effective_date'] = pd.to_datetime(warnall['effective_date'])\n",
    "warnall['effective_year'] = (warnall['effective_date'].dt.year).astype(str)"
   ]
  },
  {
   "cell_type": "markdown",
   "metadata": {},
   "source": [
    "### Export to CSV"
   ]
  },
  {
   "cell_type": "code",
   "execution_count": null,
   "metadata": {},
   "outputs": [],
   "source": [
    "warnall.to_csv('output/warnall.csv')"
   ]
  },
  {
   "cell_type": "markdown",
   "metadata": {},
   "source": [
    "### Group WARN notices by year"
   ]
  },
  {
   "cell_type": "code",
   "execution_count": null,
   "metadata": {},
   "outputs": [],
   "source": [
    "warngroup = warnall.groupby('effective_year').agg({'employees':'sum'}).reset_index()\\\n",
    ".rename(columns={'effective_year':'notices', 'employees':'employees_effected', 'effective_year':'year'})"
   ]
  },
  {
   "cell_type": "code",
   "execution_count": null,
   "metadata": {},
   "outputs": [],
   "source": [
    "warnall.head()"
   ]
  },
  {
   "cell_type": "markdown",
   "metadata": {},
   "source": [
    "### Group WARN notices by day"
   ]
  },
  {
   "cell_type": "code",
   "execution_count": null,
   "metadata": {},
   "outputs": [],
   "source": [
    "warngroupday = warnall.groupby('notice_date').agg({'employees':'sum'}).reset_index()\\\n",
    ".rename(columns={'notice_date':'date', 'employees':'employees_effected', 'effective_year':'year'})"
   ]
  },
  {
   "cell_type": "code",
   "execution_count": null,
   "metadata": {},
   "outputs": [],
   "source": [
    "warngroupday.tail(10)"
   ]
  },
  {
   "cell_type": "markdown",
   "metadata": {},
   "source": [
    "### How has the number of employees affected by WARN noticed changed?"
   ]
  },
  {
   "cell_type": "code",
   "execution_count": null,
   "metadata": {},
   "outputs": [],
   "source": [
    "warngroup = warngroup.drop(7)\n",
    "warngroup.year = warngroup.year.str.replace('.0', '', regex=False)"
   ]
  },
  {
   "cell_type": "code",
   "execution_count": null,
   "metadata": {},
   "outputs": [],
   "source": [
    "warngroup"
   ]
  },
  {
   "cell_type": "code",
   "execution_count": null,
   "metadata": {},
   "outputs": [],
   "source": [
    "warn_chart = alt.Chart((warngroup))\\\n",
    "    .mark_bar(size=30)\\\n",
    "    .encode(\n",
    "    x=alt.X('year:T', title=' ', axis=alt.Axis(grid=False, tickCount=6, format='%Y'),\\\n",
    "            scale=alt.Scale(domain=('2014-01-01', '2020-05-01'))),\n",
    "    y=alt.Y('employees_effected:Q', title=' ', axis=alt.Axis(gridWidth=.6,\\\n",
    "     gridColor='#dddddd',offset=6,tickSize=0,domainOpacity=0,tickCount=4, format=''),\\\n",
    "           scale=alt.Scale(domain=(1, 500000)))\n",
    ").properties(width=300, height=300,\n",
    "     title='Employees affected by mass layoffs'\n",
    " )\n",
    "\n",
    "warn_chart_text_today = (\n",
    "    alt.Chart((warngroup.query(\"employees_effected == employees_effected.max()\")))\\\n",
    "    .mark_text(dy=-10, color=\"#000000\", font='Benton Gothic', fontWeight='bolder', fontSize=12)\n",
    "    .encode(x=alt.X(\"year:T\"), y=alt.Y(\"employees_effected:Q\"), text=alt.Text(\"employees_effected:Q\",format=','))\n",
    ")\n",
    "\n",
    "(warn_chart + warn_chart_text_today).configure_view(strokeOpacity=0).configure_legend(\n",
    "    orient='top',\n",
    "    symbolType='stroke'\n",
    ")"
   ]
  },
  {
   "cell_type": "markdown",
   "metadata": {},
   "source": [
    "### How have WARN noticed changed in recent days? "
   ]
  },
  {
   "cell_type": "code",
   "execution_count": null,
   "metadata": {},
   "outputs": [],
   "source": [
    "warngroupday.head()"
   ]
  },
  {
   "cell_type": "code",
   "execution_count": null,
   "metadata": {},
   "outputs": [],
   "source": [
    "warn_chart = alt.Chart((warngroupday.query(\"date > '01/01/2020'\")))\\\n",
    "    .mark_bar(size=5)\\\n",
    "    .encode(\n",
    "    x=alt.X('date:T', title=' ', axis=alt.Axis(grid=False, tickCount=6, format='%b. %-d, %Y'),\\\n",
    "            scale=alt.Scale(domain=('2020-01-01', '2020-05-01'))),\n",
    "    y=alt.Y('employees_effected:Q', title=' ', axis=alt.Axis(gridWidth=.6,\\\n",
    "     gridColor='#dddddd',offset=6,tickSize=0,domainOpacity=0,tickCount=4, format=''),\\\n",
    "           scale=alt.Scale(domain=(0, 40000)))\n",
    ").properties(width=700, height=300,\n",
    "     title='Employees affected by mass layoffs'\n",
    " )\n",
    "\n",
    "warn_chart_text_today = (\n",
    "    alt.Chart((warngroupday.query(\"employees_effected == employees_effected.max()\")))\\\n",
    "    .mark_text(dy=-10, color=\"#000000\", font='Benton Gothic', fontWeight='bolder', fontSize=12)\n",
    "    .encode(x=alt.X(\"date:T\"), y=alt.Y(\"employees_effected:Q\"), text=alt.Text(\"employees_effected:Q\",format=','))\n",
    ")\n",
    "\n",
    "(warn_chart + warn_chart_text_today).configure_view(strokeOpacity=0).configure_legend(\n",
    "    orient='top',\n",
    "    symbolType='stroke'\n",
    ")"
   ]
  },
  {
   "cell_type": "markdown",
   "metadata": {},
   "source": [
    "### Share of recent WARN notices by county"
   ]
  },
  {
   "cell_type": "code",
   "execution_count": null,
   "metadata": {},
   "outputs": [],
   "source": [
    "warn_covid = warnall[warnall['effective_date'] > '2020/03/01']"
   ]
  },
  {
   "cell_type": "code",
   "execution_count": null,
   "metadata": {},
   "outputs": [],
   "source": [
    "((warn_covid['county'].value_counts('normalize')*100).round(2).astype(str) + '%').head(10)"
   ]
  },
  {
   "cell_type": "markdown",
   "metadata": {},
   "source": [
    "### Top companies issuing WARN notices statewide since March 1"
   ]
  },
  {
   "cell_type": "code",
   "execution_count": null,
   "metadata": {},
   "outputs": [],
   "source": [
    "warn_covid_companies = warn_covid.groupby(['company']).agg('sum').reset_index()\n",
    "warn_covid_companies.sort_values(by='employees', ascending=False).head(10)"
   ]
  },
  {
   "cell_type": "markdown",
   "metadata": {},
   "source": [
    "### Top companies issuing WARN notices in LA County since March 1"
   ]
  },
  {
   "cell_type": "code",
   "execution_count": null,
   "metadata": {},
   "outputs": [],
   "source": [
    "warn_covid_companies_la = warn_covid[warn_covid['county'] == 'Los Angeles County']\\\n",
    "    .groupby(['company']).agg('sum').reset_index()\n",
    "warn_covid_companies_la.sort_values(by='employees', ascending=False).head(10)"
   ]
  },
  {
   "cell_type": "code",
   "execution_count": null,
   "metadata": {},
   "outputs": [],
   "source": [
    "warn_covid.head()"
   ]
  },
  {
   "cell_type": "markdown",
   "metadata": {},
   "source": [
    "---"
   ]
  },
  {
   "cell_type": "markdown",
   "metadata": {},
   "source": [
    "### County-by-county unemployment for use later"
   ]
  },
  {
   "cell_type": "code",
   "execution_count": null,
   "metadata": {},
   "outputs": [],
   "source": [
    "### Local Area Unemployment Statistics (LAUS)"
   ]
  },
  {
   "cell_type": "code",
   "execution_count": null,
   "metadata": {},
   "outputs": [],
   "source": [
    "# https://data.edd.ca.gov/Labor-Force-and-Unemployment-Rates/Local-Area-Unemployment-Statistics-LAUS-/e6gw-gvii"
   ]
  },
  {
   "cell_type": "code",
   "execution_count": null,
   "metadata": {},
   "outputs": [],
   "source": [
    "laus_token = 'E1ZFEgt5pMsnqQvHOr7wcf1Da'\n",
    "\n",
    "client = Socrata('data.edd.ca.gov', laus_token, username=\"matt.stiles@latimes.com\", password=\"datadesk!1\")\n",
    "\n",
    "results = client.get(\"e6gw-gvii\", limit=200000)\n",
    "laus = pd.DataFrame.from_records(results)"
   ]
  },
  {
   "cell_type": "code",
   "execution_count": null,
   "metadata": {},
   "outputs": [],
   "source": [
    "laus.columns = laus.columns.str.strip().str.lower().str.replace(' ', '_')\\\n",
    "    .str.replace('(', '').str.replace(')', '').str.replace('-','_').str.replace('_&_','_')"
   ]
  },
  {
   "cell_type": "code",
   "execution_count": null,
   "metadata": {},
   "outputs": [],
   "source": [
    "laus['date'] = pd.to_datetime(laus['date'])\n",
    "laus['unemployment_rate'] = laus['unemployment_rate'].astype(float)"
   ]
  },
  {
   "cell_type": "code",
   "execution_count": null,
   "metadata": {},
   "outputs": [],
   "source": [
    "laus_state = laus[(laus['seasonally_adjusted_y_n'] == 'Y') &\\\n",
    "               (laus['area_type'] == 'State')]"
   ]
  },
  {
   "cell_type": "code",
   "execution_count": null,
   "metadata": {},
   "outputs": [],
   "source": [
    "laus_state.head()"
   ]
  },
  {
   "cell_type": "code",
   "execution_count": null,
   "metadata": {},
   "outputs": [],
   "source": [
    "laus_sa = laus[(laus['seasonally_adjusted_y_n'] == 'Y')]"
   ]
  },
  {
   "cell_type": "code",
   "execution_count": null,
   "metadata": {},
   "outputs": [],
   "source": [
    "laus_sa.head()"
   ]
  },
  {
   "cell_type": "markdown",
   "metadata": {},
   "source": [
    "---"
   ]
  },
  {
   "cell_type": "markdown",
   "metadata": {},
   "source": [
    "### Pull historic unemployment rates by county from BLS"
   ]
  },
  {
   "cell_type": "code",
   "execution_count": null,
   "metadata": {},
   "outputs": [],
   "source": [
    "formaturl = lambda x: 'https://www.bls.gov/lau/laucnty' + f'{x[0]}' + f'{x[1]}' + '.xlsx'"
   ]
  },
  {
   "cell_type": "code",
   "execution_count": null,
   "metadata": {},
   "outputs": [],
   "source": [
    "metadata = []\n",
    "for d in pd.date_range(start='01/01/1990', end='12/31/2019', freq='Y'):\n",
    "    metadata.append(dict(year = d.strftime('%y'), \\\n",
    "                         url = formaturl((d.strftime('%y')))))"
   ]
  },
  {
   "cell_type": "code",
   "execution_count": null,
   "metadata": {},
   "outputs": [],
   "source": [
    "df_list = []\n",
    "\n",
    "for m in metadata:\n",
    "    df_list.append((pd.read_excel(m['url'],skiprows=4,\\\n",
    "    dtype={'Code': str, 'Code.1': str, 'Code.2': str, 'Year': str,\\\n",
    "          'Unnamed: 5': str})).assign(date=m['year']))\n",
    "    \n",
    "df = pd.concat(df_list, sort=False)"
   ]
  },
  {
   "cell_type": "code",
   "execution_count": null,
   "metadata": {},
   "outputs": [],
   "source": [
    "df.rename(columns={\"Code\": \"laus\", \"Code.1\": \"stfips\", \"Code.2\": \"ctyfips\", \"Year\": \"year\", \"(%)\":\"rate\",\\\n",
    "                   \"County Name/State Abbreviation\": \"county\", \"Force\": \"labor_force\", \"Employed\": \"employed\",\\\n",
    "                    \"Unemployed\": \"unemployed\"}, inplace=True)"
   ]
  },
  {
   "cell_type": "code",
   "execution_count": null,
   "metadata": {},
   "outputs": [],
   "source": [
    "df = df.drop(['Unnamed: 5', 'date'], axis=1)"
   ]
  },
  {
   "cell_type": "code",
   "execution_count": null,
   "metadata": {},
   "outputs": [],
   "source": [
    "df = df.drop([0], axis=0)\n",
    "df = df.dropna()"
   ]
  },
  {
   "cell_type": "code",
   "execution_count": null,
   "metadata": {},
   "outputs": [],
   "source": [
    "counties = pd.DataFrame(df)"
   ]
  },
  {
   "cell_type": "code",
   "execution_count": null,
   "metadata": {},
   "outputs": [],
   "source": [
    "ca_cty_annual = pd.DataFrame(counties[counties['county'].str.contains(', CA')]).reset_index()"
   ]
  },
  {
   "cell_type": "code",
   "execution_count": null,
   "metadata": {},
   "outputs": [],
   "source": [
    "ca_cty_annual['county'] = ca_cty_annual['county'].str.replace(' County, CA','')\n",
    "ca_cty_annual['county'] = ca_cty_annual['county'].str.replace(' County/city, CA','')\n",
    "ca_cty_annual['rate'] = ca_cty_annual['rate'] / 100"
   ]
  },
  {
   "cell_type": "code",
   "execution_count": null,
   "metadata": {},
   "outputs": [],
   "source": [
    "ca_cty_annual.tail()"
   ]
  },
  {
   "cell_type": "markdown",
   "metadata": {},
   "source": [
    "### Annual unemployment rates, by California county: 1990-2019"
   ]
  },
  {
   "cell_type": "code",
   "execution_count": null,
   "metadata": {},
   "outputs": [],
   "source": [
    "ca_cty_annual_chart = alt.Chart(ca_cty_annual)\\\n",
    "    .mark_bar(size=3)\\\n",
    "    .encode(\n",
    "    x=alt.X('year:T', title=' ', axis=alt.Axis(grid=False, tickCount=2, format='%Y'),\\\n",
    "           scale=alt.Scale(domain=('1990-01-01', '2020-01-01'))),\n",
    "    y=alt.Y('rate:Q', title=' ', axis=alt.Axis(gridWidth=.6,\\\n",
    "     gridColor='#dddddd',offset=3,tickSize=0,domainOpacity=0,tickCount=3, format='%'),\\\n",
    "           scale=alt.Scale(domain=(0, .35)))\n",
    ").properties(width=80, height=70,\n",
    "    title='Annual unemployment rates, by California county: 1990-2019'\n",
    " ).facet(\n",
    "    facet=alt.Facet('county:N'),\n",
    "    columns=8,\n",
    "    padding={\"left\": -15, \"top\": 0, \"right\": -0, \"bottom\": 0}\n",
    ")\n",
    "\n",
    "(ca_cty_annual_chart).configure_view(strokeOpacity=0)"
   ]
  },
  {
   "cell_type": "markdown",
   "metadata": {},
   "source": [
    "---"
   ]
  },
  {
   "cell_type": "markdown",
   "metadata": {},
   "source": [
    "### Time series data from BLS for state unemployment rate"
   ]
  },
  {
   "cell_type": "code",
   "execution_count": null,
   "metadata": {},
   "outputs": [],
   "source": [
    "# https://data.edd.ca.gov/Labor-Force-and-\\\n",
    "#     Unemployment-Rates/Civilian-Unemployment-Rate-for-US-and-California/x7g9-zu4h"
   ]
  },
  {
   "cell_type": "code",
   "execution_count": null,
   "metadata": {},
   "outputs": [],
   "source": [
    "rate_token = 'E1ZFEgt5pMsnqQvHOr7wcf1Da'\n",
    "\n",
    "client = Socrata('data.edd.ca.gov', rate_token, username=\"matt.stiles@latimes.com\", password=\"datadesk!1\")\n",
    "\n",
    "results = client.get(\"x7g9-zu4h\", limit=2000000)\n",
    "unemp_rate_state = pd.DataFrame.from_records(results)"
   ]
  },
  {
   "cell_type": "code",
   "execution_count": null,
   "metadata": {},
   "outputs": [],
   "source": [
    "unemp_rate_state.columns = unemp_rate_state.columns.str.strip().str.lower().str.replace(' ', '_')\\\n",
    "    .str.replace('(', '').str.replace(')', '').str.replace('-','_').str.replace('_&_','_')"
   ]
  },
  {
   "cell_type": "code",
   "execution_count": null,
   "metadata": {},
   "outputs": [],
   "source": [
    "unemp_rate_state.date = pd.to_datetime(unemp_rate_state.date)"
   ]
  },
  {
   "cell_type": "code",
   "execution_count": null,
   "metadata": {},
   "outputs": [],
   "source": [
    "unemp_rate_state.head()"
   ]
  },
  {
   "cell_type": "code",
   "execution_count": null,
   "metadata": {},
   "outputs": [],
   "source": [
    "unemp_rate_state.rename(columns={'geographic_area':'place','seasonally_adjusted':'rate'},inplace=True)"
   ]
  },
  {
   "cell_type": "code",
   "execution_count": null,
   "metadata": {},
   "outputs": [],
   "source": [
    "unemp_rate_state = unemp_rate_state.drop(['not_seasonally_adjusted', 'area_type'], axis=1)"
   ]
  },
  {
   "cell_type": "code",
   "execution_count": null,
   "metadata": {},
   "outputs": [],
   "source": [
    "unemp_rate_state.head()"
   ]
  },
  {
   "cell_type": "code",
   "execution_count": null,
   "metadata": {},
   "outputs": [],
   "source": [
    "ca_rate_chart = alt.Chart((unemp_rate_state.query(\"date > '01/01/1990'\")))\\\n",
    "    .mark_line(size=3)\\\n",
    "    .encode(\n",
    "    x=alt.X('date:T', title='', axis=alt.Axis(grid=False, tickCount=6, format='%Y')),\n",
    "    y=alt.Y('rate:Q', title=' ', axis=alt.Axis(gridWidth=.6,\\\n",
    "     gridColor='#dddddd',offset=3,tickSize=0,domainOpacity=0,tickCount=3, format='%'),\\\n",
    "           scale=alt.Scale(domain=(0, .15))),\n",
    "    color=alt.Color('place', title=' ')\n",
    ").properties(width=800, height=200,\n",
    "     title='Unemployment rate in California, 1990 - March'\n",
    " )\n",
    "\n",
    "ca_rate_chart_text_today = (\n",
    "    alt.Chart((unemp_rate_state.query(\"rate == .122 & date == '02/01/2010'\")))\\\n",
    "    .mark_text(dy=-10, color=\"#000000\", font='Benton Gothic', fontWeight='bolder', fontSize=12)\n",
    "    .encode(x=alt.X(\"date:T\"), y=alt.Y(\"rate:Q\"), text=alt.Text(\"rate:Q\",format=',.1%'))\n",
    ")\n",
    "\n",
    "ca_rate_chart_text_max = (\n",
    "    alt.Chart((unemp_rate_state.query(\"date == '2020-03-01'\")))\\\n",
    "    .mark_text(dy=-10, color=\"#000000\", font='Benton Gothic', fontWeight='bolder', fontSize=12)\n",
    "    .encode(x=alt.X(\"date:T\"), y=alt.Y(\"rate:Q\"), text=alt.Text(\"rate:Q\",format=',.1%'))\n",
    ")\n",
    "\n",
    "(ca_rate_chart + ca_rate_chart_text_max + ca_rate_chart_text_today).configure_view(strokeOpacity=0).configure_legend(\n",
    "    orient='top',\n",
    "    symbolType='stroke'\n",
    ")"
   ]
  },
  {
   "cell_type": "code",
   "execution_count": null,
   "metadata": {},
   "outputs": [],
   "source": [
    "ca_rate_chart = alt.Chart((unemp_rate_state.query(\"date > '01/01/2019'\"))).mark_line(size=4)\\\n",
    ".encode(\n",
    "    x=alt.X('date:T', title='', axis=alt.Axis(grid=False, tickCount=6, format='%b. %-d, %Y')),\n",
    "    y=alt.Y('rate:Q', title=' ', axis=alt.Axis(gridWidth=.6,\\\n",
    "     gridColor='#dddddd',offset=3,tickSize=0,domainOpacity=0,tickCount=3, format='%'),\\\n",
    "           scale=alt.Scale(domain=(.025, .055))),\n",
    "    color=alt.Color('place', title=' ')\n",
    ").properties(width=800, height=200,\n",
    "     title='Unemployment rate in California'\n",
    ")\n",
    "\n",
    "\n",
    "ca_rate_chart_text = (\n",
    "    alt.Chart((unemp_rate_state.query(\"date == date.max()\")))\\\n",
    "    .mark_text(dy=-10, color=\"#000000\", font='Benton Gothic', fontWeight='bolder', fontSize=12)\n",
    "    .encode(x=alt.X(\"date:T\"), y=alt.Y(\"rate:Q\"), text=alt.Text(\"rate:Q\",format=',.1%'))\n",
    ")\n",
    "\n",
    "(ca_rate_chart + ca_rate_chart_text).configure_view(strokeOpacity=0).configure_legend(\n",
    "    orient='top',\n",
    "    symbolType='stroke'\n",
    ")"
   ]
  },
  {
   "cell_type": "markdown",
   "metadata": {},
   "source": [
    "---"
   ]
  },
  {
   "cell_type": "markdown",
   "metadata": {},
   "source": [
    "### Unemployment claims"
   ]
  },
  {
   "cell_type": "code",
   "execution_count": null,
   "metadata": {},
   "outputs": [],
   "source": [
    "url = 'https://oui.doleta.gov/unemploy/csv/ar539.csv'\n",
    "#https://oui.doleta.gov/dmstree/handbooks/402/402_4/4024c6/4024c6ar539.pdf\n",
    "#https://oui.doleta.gov/dmstree/handbooks/401/i_1.pdf\n",
    "raw = pd.read_csv(url,low_memory=False)"
   ]
  },
  {
   "cell_type": "code",
   "execution_count": null,
   "metadata": {},
   "outputs": [],
   "source": [
    "raw.rename(columns={'st':'state',\n",
    "'rptdate':'date',\n",
    "'c1':'week',\n",
    "'c2':'week_ending',\n",
    "'c3':'initial_claims',\n",
    "'c4':'fic',\n",
    "'c5':'xic',\n",
    "'c6':'wsic',\n",
    "'c7':'wseic',\n",
    "'c8':'continued_claims',\n",
    "'c9':'fcw',\n",
    "'c10':'xcw',\n",
    "'c11':'wscw',\n",
    "'c12':'wsecw',\n",
    "'c13':'ebt',\n",
    "'c14':'ebui',\n",
    "'c15':'abt',\n",
    "'c16':'abui',\n",
    "'c17':'at',\n",
    "'c18':'covered_unemployment',\n",
    "'c19':'rate_insured_unemployment',\n",
    "'c20':'ar',\n",
    "'c21':'p',\n",
    "'c22':'status',\n",
    "'c23':'status_change_date'\n",
    "}, inplace=True)"
   ]
  },
  {
   "cell_type": "code",
   "execution_count": null,
   "metadata": {},
   "outputs": [],
   "source": [
    "raw['date'] = pd.to_datetime(raw['date'])"
   ]
  },
  {
   "cell_type": "code",
   "execution_count": null,
   "metadata": {},
   "outputs": [],
   "source": [
    "rawca = raw[raw['state'] == 'CA'].reset_index()"
   ]
  },
  {
   "cell_type": "markdown",
   "metadata": {},
   "source": [
    "### New unemployment claims"
   ]
  },
  {
   "cell_type": "code",
   "execution_count": null,
   "metadata": {},
   "outputs": [],
   "source": [
    "ca_claims_chart = alt.Chart((rawca.query(\"date > '01/01/1990'\"))).mark_bar(size=1)\\\n",
    ".encode(\n",
    "    x=alt.X('date:T', title='', axis=alt.Axis(grid=False, tickCount=6, format='%Y')),\n",
    "    y=alt.Y('initial_claims:Q', title=' ', axis=alt.Axis(gridWidth=.6,\\\n",
    "     gridColor='#dddddd',offset=3,tickSize=0,domainOpacity=0,tickCount=3, format=''))\n",
    ").properties(width=800, height=200,\n",
    "     title='New unemployment claims in California, by week'\n",
    " )\n",
    "\n",
    "ca_claims_chart_text = (\n",
    "    alt.Chart((rawca.query(\"date == date.max()\")))\\\n",
    "    .mark_text(dy=-10, color=\"#000000\", font='Benton Gothic', fontWeight='bolder', fontSize=12)\n",
    "    .encode(x=alt.X(\"date:T\"), y=alt.Y(\"initial_claims:Q\"), text=alt.Text(\"initial_claims:Q\",format=','))\n",
    ")\n",
    "\n",
    "(ca_claims_chart + ca_claims_chart_text).configure_view(strokeOpacity=0)"
   ]
  },
  {
   "cell_type": "code",
   "execution_count": null,
   "metadata": {},
   "outputs": [],
   "source": [
    "ca_claims_chart = alt.Chart((rawca.query(\"date > '01/01/2019'\"))).mark_bar(size=10)\\\n",
    ".encode(\n",
    "    x=alt.X('date:T', title='', axis=alt.Axis(grid=False, tickCount=6, format='%b. %-d, %Y')),\n",
    "    y=alt.Y('initial_claims:Q', title=' ', axis=alt.Axis(gridWidth=.6,\\\n",
    "     gridColor='#dddddd',offset=3,tickSize=0,domainOpacity=0,tickCount=3, format=''))\n",
    ").properties(width=800, height=200,\n",
    "     title='New unemployment claims in California, by week'\n",
    " )\n",
    "\n",
    "ca_claims_chart_text = (\n",
    "    alt.Chart((rawca.query(\"initial_claims == initial_claims.max()\")))\\\n",
    "    .mark_text(dy=-10, color=\"#000000\", font='Benton Gothic', fontWeight='bolder', fontSize=12)\n",
    "    .encode(x=alt.X(\"date:T\"), y=alt.Y(\"initial_claims:Q\"), text=alt.Text(\"initial_claims:Q\",format=','))\n",
    ")\n",
    "\n",
    "(ca_claims_chart + ca_claims_chart_text).configure_view(strokeOpacity=0)"
   ]
  },
  {
   "cell_type": "code",
   "execution_count": null,
   "metadata": {},
   "outputs": [],
   "source": [
    "continued_claims_chart = alt.Chart((rawca.query(\"date > '01/01/1990'\"))).mark_bar(size=1)\\\n",
    ".encode(\n",
    "    x=alt.X('date:T', title='', axis=alt.Axis(grid=False, tickCount=6, format='%Y')),\n",
    "    y=alt.Y('continued_claims:Q', title=' ', axis=alt.Axis(gridWidth=.6,\\\n",
    "     gridColor='#dddddd',offset=3,tickSize=0,domainOpacity=0,tickCount=5, format=''))\n",
    ").properties(width=800, height=400,\n",
    "     title='Continued unemployment claims in California, by week'\n",
    " )\n",
    "\n",
    "continued_claims_chart_text = (\n",
    "    alt.Chart((rawca.query(\"continued_claims == continued_claims.max()\")))\\\n",
    "    .mark_text(dy=-14, color=\"#000000\", font='Benton Gothic', fontWeight='bolder', fontSize=12)\n",
    "    .encode(x=alt.X(\"date:T\"), y=alt.Y(\"continued_claims:Q\"), text=alt.Text(\"continued_claims:Q\",format=','))\n",
    ")\n",
    "\n",
    "(continued_claims_chart + continued_claims_chart_text).configure_view(strokeOpacity=0)"
   ]
  },
  {
   "cell_type": "code",
   "execution_count": null,
   "metadata": {},
   "outputs": [],
   "source": [
    "continued_claims_chart = alt.Chart((rawca.query(\"date > '01/01/2019'\"))).mark_bar(size=10)\\\n",
    ".encode(\n",
    "    x=alt.X('date:T', title='', axis=alt.Axis(grid=False, tickCount=6, format='%Y')),\n",
    "    y=alt.Y('continued_claims:Q', title=' ', axis=alt.Axis(gridWidth=.6,\\\n",
    "     gridColor='#dddddd',offset=3,tickSize=0,domainOpacity=0,tickCount=5, format=''))\n",
    ").properties(width=800, height=400,\n",
    "     title='Continued unemployment claims in California, by week'\n",
    " )\n",
    "\n",
    "continued_claims_chart_text = (\n",
    "    alt.Chart((rawca.query(\"continued_claims == continued_claims.max()\")))\\\n",
    "    .mark_text(dy=-14, color=\"#000000\", font='Benton Gothic', fontWeight='bolder', fontSize=12)\n",
    "    .encode(x=alt.X(\"date:T\"), y=alt.Y(\"continued_claims:Q\"), text=alt.Text(\"continued_claims:Q\",format=','))\n",
    ")\n",
    "\n",
    "(continued_claims_chart + continued_claims_chart_text).configure_view(strokeOpacity=0)"
   ]
  },
  {
   "cell_type": "code",
   "execution_count": null,
   "metadata": {},
   "outputs": [],
   "source": [
    "rawca.sort_values(by='date', ascending=False).head()"
   ]
  },
  {
   "cell_type": "markdown",
   "metadata": {},
   "source": [
    "---"
   ]
  },
  {
   "cell_type": "markdown",
   "metadata": {},
   "source": [
    "### Characteristics of the unemployment insurance claimants"
   ]
  },
  {
   "cell_type": "code",
   "execution_count": null,
   "metadata": {},
   "outputs": [],
   "source": [
    "#https://oui.doleta.gov/unemploy/chariu.asp\n",
    "claimants_url = 'https://oui.doleta.gov/unemploy/csv/ar203.csv'\n",
    "claimants = pd.read_csv(claimants_url)"
   ]
  },
  {
   "cell_type": "code",
   "execution_count": null,
   "metadata": {},
   "outputs": [],
   "source": [
    "claimants.rename(columns={'st':'state',\n",
    "'rptdate':'date',\n",
    "'c1':'population',\n",
    "'c2':'male',\n",
    "'c3':'female',\n",
    "'c4':'mf_ina',\n",
    "'c12':'<22',\n",
    "'c13':'22-24',\n",
    "'c14':'25-34',\n",
    "'c15':'35-44',\n",
    "'c16':'45-54',\n",
    "'c17':'55-59',\n",
    "'c18':'60-64',\n",
    "'c19':'>=65',\n",
    "'c20':'age_ina',\n",
    "'c40':'hisp',\n",
    "'c41':'nothisp',\n",
    "'c42':'hisp_ina',\n",
    "'c43':'ai_an',\n",
    "'c44':'asian',\n",
    "'c45':'black',\n",
    "'c46':'nh_pi',\n",
    "'c47':'white',\n",
    "'c48':'other',\n",
    "'c49':'Ag/Forestry/Fishing/Hunting',\n",
    "'c50':'Mining',\n",
    "'c51':'Utilities',\n",
    "'c52':'Construction',\n",
    "'c53':'Manufacturing',\n",
    "'c54':'Wholesale Trade',\n",
    "'c55':'Retail Trade',\n",
    "'c56':'Transportation & Warehouse',\n",
    "'c57':'Information',\n",
    "'c58':'Real Estate Rental & Leasing',\n",
    "'c59':'Professional/Scientific/ Tech.Services',             \n",
    "'c60':'Management of Companies & Enterprises',\n",
    "'c61':'Admin.&Support/Waste Mgmt./Remedia. Serv.',\n",
    "'c62':'Other Services',\n",
    "'c63':'Educational Services',\n",
    "'c64':'Health Care & Social Assistance',\n",
    "'c65':'Arts, Entertainment & Recreation',\n",
    "'c66':'Accommodation and Food Services',\n",
    "'c67':'Other',\n",
    "'c68':'Public Administration',\n",
    "'c69':'naics_ina',\n",
    "'c70':'Management',\n",
    "'c71':'Business & Financial Ops.',\n",
    "'c72':'Computer & Math',\n",
    "'c73':'Architecture & Engineering',\n",
    "'c74':'Life, Physical & Social Sciences',\n",
    "'c75':'Community & Social Services',\n",
    "'c76':'Legal',\n",
    "'c77':'Education, Training & Library',\n",
    "'c78':'Arts, Design, Entertainment Sports & Media',\n",
    "'c79':'Healthcare Practitioner & Technical',\n",
    "'c80':'Healthcare Support',\n",
    "'c81':'Protective Services ',\n",
    "'c82':'Food Prep. & Serving Related',\n",
    "'c83':'Build. & Grounds Cleaning & Maintenance',\n",
    "'c84':'Personal Care & Services',\n",
    "'c85':'Sales & Related',\n",
    "'c86':'Office & Admin. Support',\n",
    "'c87':'Farming, Fishing & Forestry',\n",
    "'c88':'Construction & Extraction',\n",
    "'c89':'Installation, Maintenance & Repair',\n",
    "'c90':'Production',\n",
    "'c91':'Transportation & Material Moving',\n",
    "'c92':'Military Specific',\n",
    "'c93':'sector_ina',\n",
    "}, inplace=True)"
   ]
  },
  {
   "cell_type": "code",
   "execution_count": null,
   "metadata": {},
   "outputs": [],
   "source": [
    "claimants.columns = claimants.columns.str.strip().str.lower().str.replace(' ', '_').str.replace('<', '')\\\n",
    "    .str.replace('(', '').str.replace(')', '').str.replace('-','_').str.replace('_&_','_').str.replace('>=','')"
   ]
  },
  {
   "cell_type": "code",
   "execution_count": null,
   "metadata": {},
   "outputs": [],
   "source": [
    "claimants['allpop'] = claimants.apply(lambda x: x['male'] + x['female'] + x['mf_ina'], axis=1)"
   ]
  },
  {
   "cell_type": "code",
   "execution_count": null,
   "metadata": {},
   "outputs": [],
   "source": [
    "claimants['date'] = pd.to_datetime(claimants['date'])"
   ]
  },
  {
   "cell_type": "code",
   "execution_count": null,
   "metadata": {},
   "outputs": [],
   "source": [
    "claimants['under35'] = claimants.apply(lambda x: x['22'] + x['22_24'] + x['25_34'], axis=1)"
   ]
  },
  {
   "cell_type": "code",
   "execution_count": null,
   "metadata": {},
   "outputs": [],
   "source": [
    "claimants.head()"
   ]
  },
  {
   "cell_type": "code",
   "execution_count": null,
   "metadata": {},
   "outputs": [],
   "source": [
    "ca_claimants = claimants[claimants['state'] == 'CA']"
   ]
  },
  {
   "cell_type": "code",
   "execution_count": null,
   "metadata": {},
   "outputs": [],
   "source": [
    "ca_claimants.tail()"
   ]
  },
  {
   "cell_type": "markdown",
   "metadata": {},
   "source": [
    "### What share of CA claimants are older?"
   ]
  },
  {
   "cell_type": "code",
   "execution_count": null,
   "metadata": {},
   "outputs": [],
   "source": [
    "ca_claimants_melt = pd.melt(ca_claimants, id_vars=['date'], \\\n",
    "                            value_vars=['22','22_24','25_34','35_44','45_54','55_59','60_64','65'],\n",
    "        var_name='age', value_name='count')"
   ]
  },
  {
   "cell_type": "code",
   "execution_count": null,
   "metadata": {},
   "outputs": [],
   "source": [
    "ca_claimants_melt_select = ca_claimants_melt[((ca_claimants_melt['date'] > '1999-12-31') \\\n",
    "                                             & (ca_claimants_melt['date']< '2001-01-31')) |\\\n",
    "                                            (ca_claimants_melt['date'] > '2018-12-31') \\\n",
    "                                             & (ca_claimants_melt['date']< '2020-01-31')]"
   ]
  },
  {
   "cell_type": "code",
   "execution_count": null,
   "metadata": {},
   "outputs": [],
   "source": [
    "ca_claim_year_mean = ca_claimants_melt.groupby(['age', (pd.DatetimeIndex(ca_claimants_melt['date']).year)])\\\n",
    "    .agg('mean').reset_index()"
   ]
  },
  {
   "cell_type": "code",
   "execution_count": null,
   "metadata": {},
   "outputs": [],
   "source": [
    "alt.Chart(ca_claimants_melt.query(\"date > '1/31/2000'\")).mark_bar(size=3).encode(\n",
    "    x=alt.X('count:Q', title=' ', stack=\"normalize\", axis=alt.Axis(tickCount=4,format='%',offset=1, grid=False)),\n",
    "    y=alt.Y('date:T', title=' ', axis=alt.Axis(tickSize=0,domainOpacity=0,format='%Y',\\\n",
    "                                               tickCount=8,offset=3, gridWidth=.6, gridColor='#dddddd',)),\n",
    "    color=alt.Color('age', title=' ', scale=alt.Scale(scheme='tableau20')),\n",
    "    order=alt.Order(\n",
    "      'age',\n",
    "      sort='ascending'\n",
    "    )\n",
    ").configure_view(strokeOpacity=0).properties(width=700, height=600,\n",
    "    title='Share of unemployment benefits recipients in California, by age'\n",
    ").configure_legend(\n",
    "    orient='top',\n",
    "    symbolType='square'\n",
    ").configure_axis(\n",
    "    labelFontSize=12)"
   ]
  },
  {
   "cell_type": "code",
   "execution_count": null,
   "metadata": {},
   "outputs": [],
   "source": []
  },
  {
   "cell_type": "code",
   "execution_count": null,
   "metadata": {},
   "outputs": [],
   "source": [
    "ca_claimants"
   ]
  },
  {
   "cell_type": "code",
   "execution_count": null,
   "metadata": {},
   "outputs": [],
   "source": [
    "ca_claim_year_mean['date'] = ca_claim_year_mean['date'].astype(str)"
   ]
  },
  {
   "cell_type": "code",
   "execution_count": null,
   "metadata": {},
   "outputs": [],
   "source": [
    "alt.Chart(ca_claim_year_mean).mark_bar(size=20).encode(\n",
    "    x=alt.X('count:Q', title=' ', stack=\"normalize\", axis=alt.Axis(tickCount=4,format='%',offset=1, grid=False)),\n",
    "    y=alt.Y('date:O', title=' ', axis=alt.Axis(tickSize=0,domainOpacity=0,format='',\\\n",
    "                                               tickCount=8,offset=3, gridWidth=.6, gridColor='#dddddd',)),\n",
    "    color=alt.Color('age', title=' ', scale=alt.Scale(scheme='tableau20')),\n",
    "    order=alt.Order(\n",
    "      'age',\n",
    "      sort='ascending'\n",
    "    )\n",
    ").configure_view(strokeOpacity=0).properties(width=700, height=500,\n",
    "    title='Share of unemployment benefits recipients in California, by age'\n",
    ").configure_legend(\n",
    "    orient='top',\n",
    "    symbolType='square'\n",
    ").configure_axis(\n",
    "    labelFontSize=10)"
   ]
  },
  {
   "cell_type": "markdown",
   "metadata": {},
   "source": [
    "---"
   ]
  },
  {
   "cell_type": "markdown",
   "metadata": {},
   "source": [
    "### Imports data from U.S. Trade Online"
   ]
  },
  {
   "cell_type": "markdown",
   "metadata": {},
   "source": [
    "#### All state-level imports"
   ]
  },
  {
   "cell_type": "code",
   "execution_count": null,
   "metadata": {},
   "outputs": [],
   "source": [
    "#https://usatrade.census.gov/data/Perspective60/View/dispview.aspx?ReportId=132784\n",
    "caimports = pd.read_csv('input/trade/CA Imports by HS Commodities.csv', skiprows=4)"
   ]
  },
  {
   "cell_type": "code",
   "execution_count": null,
   "metadata": {},
   "outputs": [],
   "source": [
    "caimports = caimports.drop(['Unnamed: 3'], axis=1)\\\n",
    "    .rename(columns={'Time':'month', 'State':'state', \\\n",
    "                     'Total Value ($US)':'value'})"
   ]
  },
  {
   "cell_type": "code",
   "execution_count": null,
   "metadata": {},
   "outputs": [],
   "source": [
    "caimports.head(30)"
   ]
  },
  {
   "cell_type": "markdown",
   "metadata": {},
   "source": [
    "#### Imports to CA ports"
   ]
  },
  {
   "cell_type": "code",
   "execution_count": null,
   "metadata": {},
   "outputs": [],
   "source": [
    "#https://usatrade.census.gov/data/Perspective60/View/dispview.aspx?ReportId=132782\n",
    "ca_port_imports = pd.read_csv('input/trade/CA port imports.csv', skiprows=4)"
   ]
  },
  {
   "cell_type": "code",
   "execution_count": null,
   "metadata": {},
   "outputs": [],
   "source": [
    "ca_port_imports = ca_port_imports.drop(['Unnamed: 3'], axis=1)\\\n",
    "    .rename(columns={'Time':'month', 'Port':'port', \\\n",
    "                     'Customs Value (Gen) ($US)':'value'})"
   ]
  },
  {
   "cell_type": "code",
   "execution_count": null,
   "metadata": {},
   "outputs": [],
   "source": [
    "ca_port_imports.value = ca_port_imports.value.str.replace(',', '', regex=False)"
   ]
  },
  {
   "cell_type": "code",
   "execution_count": null,
   "metadata": {},
   "outputs": [],
   "source": [
    "ca_port_imports['port'] = ca_port_imports['port'].str.replace(', CA (District)', '', regex=False)"
   ]
  },
  {
   "cell_type": "code",
   "execution_count": null,
   "metadata": {},
   "outputs": [],
   "source": [
    "ca_port_imports['date'] = pd.to_datetime(ca_port_imports['month'])"
   ]
  },
  {
   "cell_type": "code",
   "execution_count": null,
   "metadata": {},
   "outputs": [],
   "source": [
    "ca_port_imports['year'] = ca_port_imports['date'].dt.year"
   ]
  },
  {
   "cell_type": "code",
   "execution_count": null,
   "metadata": {},
   "outputs": [],
   "source": [
    "ca_port_imports['value'] = ca_port_imports['value'].astype(int)"
   ]
  },
  {
   "cell_type": "code",
   "execution_count": null,
   "metadata": {},
   "outputs": [],
   "source": [
    "ca_port_imports_group = ca_port_imports.groupby(['year']).agg('sum').reset_index()"
   ]
  },
  {
   "cell_type": "code",
   "execution_count": null,
   "metadata": {},
   "outputs": [],
   "source": [
    "ca_port_imports_pivot = ca_port_imports.pivot(index='date', columns='port', values='value').reset_index()"
   ]
  },
  {
   "cell_type": "code",
   "execution_count": null,
   "metadata": {},
   "outputs": [],
   "source": [
    "ca_port_imports_pivot.tail(20)"
   ]
  },
  {
   "cell_type": "code",
   "execution_count": null,
   "metadata": {},
   "outputs": [],
   "source": [
    "ca_port_imports_pivot['total'] =\\\n",
    "    ca_port_imports_pivot.apply(lambda x: x['Los Angeles'] + x['San Diego'] + x['San Francisco'], axis=1)"
   ]
  },
  {
   "cell_type": "code",
   "execution_count": null,
   "metadata": {},
   "outputs": [],
   "source": [
    "ca_port_imports_pivot"
   ]
  },
  {
   "cell_type": "code",
   "execution_count": null,
   "metadata": {},
   "outputs": [],
   "source": [
    "ca_port_imports_group"
   ]
  },
  {
   "cell_type": "code",
   "execution_count": null,
   "metadata": {},
   "outputs": [],
   "source": [
    "alt.Chart(ca_port_imports_group).mark_bar().encode(\n",
    "    x=alt.X('year:N', title=' ', axis=alt.Axis(format='')),\n",
    "    y=alt.Y('value:Q', title=' ', axis=alt.Axis(tickSize=0,domainOpacity=0,format='',\\\n",
    "                                               tickCount=5,offset=3, gridWidth=.6, gridColor='#dddddd'))\n",
    ").configure_view(strokeOpacity=0).properties(width=320, height=400,\n",
    "    title='Imports to California ports, January-March, by year'\n",
    ").configure_legend(\n",
    "    orient='top',\n",
    "    symbolType='square'\n",
    ").configure_axis(\n",
    "    labelFontSize=12)"
   ]
  },
  {
   "cell_type": "markdown",
   "metadata": {},
   "source": [
    "### Exports data from U.S. Trade Online"
   ]
  },
  {
   "cell_type": "markdown",
   "metadata": {},
   "source": [
    "#### All state-level exports"
   ]
  },
  {
   "cell_type": "code",
   "execution_count": null,
   "metadata": {},
   "outputs": [],
   "source": [
    "#https://usatrade.census.gov/data/Perspective60/View/dispview.aspx?ReportId=132783\n",
    "caexports = pd.read_csv('input/trade/CA Exports by HS Commodities.csv', skiprows=4)"
   ]
  },
  {
   "cell_type": "code",
   "execution_count": null,
   "metadata": {},
   "outputs": [],
   "source": [
    "caexports = caexports.drop(['Unnamed: 3'], axis=1)\\\n",
    "    .rename(columns={'Time':'month', 'State':'state', \\\n",
    "                     'Total Value ($US)':'value'})"
   ]
  },
  {
   "cell_type": "code",
   "execution_count": null,
   "metadata": {},
   "outputs": [],
   "source": [
    "caexports.head(30)"
   ]
  },
  {
   "cell_type": "markdown",
   "metadata": {},
   "source": [
    "#### Exports from CA ports"
   ]
  },
  {
   "cell_type": "code",
   "execution_count": null,
   "metadata": {},
   "outputs": [],
   "source": [
    "#https://usatrade.census.gov/data/Perspective60/View/dispview.aspx?ReportId=132781\n",
    "ca_port_exports = pd.read_csv('input/trade/CA port exports.csv', skiprows=4)"
   ]
  },
  {
   "cell_type": "code",
   "execution_count": null,
   "metadata": {},
   "outputs": [],
   "source": [
    "ca_port_exports = ca_port_exports.drop(['Unnamed: 3'], axis=1)\\\n",
    "    .rename(columns={'Time':'month', 'Port':'port', \\\n",
    "                     'Total Exports Value ($US)':'value'})"
   ]
  },
  {
   "cell_type": "code",
   "execution_count": null,
   "metadata": {},
   "outputs": [],
   "source": [
    "ca_port_exports.value = ca_port_exports.value.str.replace(',', '', regex=False)"
   ]
  },
  {
   "cell_type": "code",
   "execution_count": null,
   "metadata": {},
   "outputs": [],
   "source": [
    "ca_port_exports['port'] = ca_port_exports['port'].str.replace(', CA (District)', '', regex=False)"
   ]
  },
  {
   "cell_type": "code",
   "execution_count": null,
   "metadata": {},
   "outputs": [],
   "source": [
    "ca_port_exports['date'] = pd.to_datetime(ca_port_exports['month'])"
   ]
  },
  {
   "cell_type": "code",
   "execution_count": null,
   "metadata": {},
   "outputs": [],
   "source": [
    "ca_port_exports_pivot = ca_port_exports.pivot(index='date', columns='port', values='value').reset_index()"
   ]
  },
  {
   "cell_type": "code",
   "execution_count": null,
   "metadata": {},
   "outputs": [],
   "source": [
    "ca_port_exports_pivot.tail(20)"
   ]
  },
  {
   "cell_type": "code",
   "execution_count": null,
   "metadata": {},
   "outputs": [],
   "source": [
    "ca_port_exports.tail(20)"
   ]
  },
  {
   "cell_type": "code",
   "execution_count": null,
   "metadata": {},
   "outputs": [],
   "source": [
    "# alt.Chart(ca_port_exports).mark_bar().encode(\n",
    "#     x=alt.X('month:N'),\n",
    "#     y=alt.Y('value:Q'),\n",
    "#     color='port:N'\n",
    "# )"
   ]
  },
  {
   "cell_type": "code",
   "execution_count": null,
   "metadata": {},
   "outputs": [],
   "source": []
  },
  {
   "cell_type": "markdown",
   "metadata": {},
   "source": [
    "---"
   ]
  },
  {
   "cell_type": "markdown",
   "metadata": {},
   "source": [
    "### Labor force participation rate"
   ]
  },
  {
   "cell_type": "code",
   "execution_count": null,
   "metadata": {},
   "outputs": [],
   "source": [
    "# https://data.edd.ca.gov/Labor-Force-and-Unemployment-Rates/Labor-Force-Participation-Rate-US-and-California/ww59-3giz"
   ]
  },
  {
   "cell_type": "code",
   "execution_count": null,
   "metadata": {},
   "outputs": [],
   "source": [
    "labor_part_rate = pd.read_json('https://data.edd.ca.gov/resource/ww59-3giz.json')"
   ]
  },
  {
   "cell_type": "code",
   "execution_count": null,
   "metadata": {},
   "outputs": [],
   "source": [
    "labor_part_rate.columns = labor_part_rate.columns.str.strip().str.lower().str.replace(' ', '_')\\\n",
    "    .str.replace('(', '').str.replace(')', '').str.replace('-','_').str.replace('_&_','_')"
   ]
  },
  {
   "cell_type": "code",
   "execution_count": null,
   "metadata": {},
   "outputs": [],
   "source": [
    "labor_part_rate.rename(columns={'california_labor_force_participation':'California', \\\n",
    "                                'us_labor_force_participation':'United States'}, inplace=True)"
   ]
  },
  {
   "cell_type": "code",
   "execution_count": null,
   "metadata": {},
   "outputs": [],
   "source": [
    "labor_part_rate_melt = pd.melt(labor_part_rate, id_vars=['date'], \\\n",
    "                               value_vars=['California', 'United States'], var_name='place', value_name='rate')"
   ]
  },
  {
   "cell_type": "code",
   "execution_count": null,
   "metadata": {},
   "outputs": [],
   "source": [
    "ca_claims_chart = alt.Chart((labor_part_rate_melt.query(\"date > '01/01/1976'\")))\\\n",
    ".mark_line(size=2)\\\n",
    ".encode(\n",
    "    x=alt.X('date:T', title='', axis=alt.Axis(grid=False, tickCount=6, format='%Y')),\n",
    "    y=alt.Y('rate:Q', title=' ', axis=alt.Axis(gridWidth=.6,\\\n",
    "            gridColor='#dddddd',offset=3,tickSize=0,domainOpacity=0,tickCount=3, format='%'),\\\n",
    "            scale=alt.Scale(domain=(.6, .7))),\n",
    "    color=alt.Color('place', title=' ', scale=alt.Scale(\n",
    "            domain=['California', 'United States'],\n",
    "            range=['#B32F2E', '#ccc'])),\n",
    ").properties(width=800, height=200,\n",
    "     title='Labor force participation rate, by month'\n",
    " )\n",
    "\n",
    "(ca_claims_chart).configure_view(strokeOpacity=0).configure_view(strokeOpacity=0).configure_legend(\n",
    "    orient='top',\n",
    "    symbolType='stroke'\n",
    ")"
   ]
  },
  {
   "cell_type": "code",
   "execution_count": null,
   "metadata": {},
   "outputs": [],
   "source": [
    "ca_claims_chart_zoom = alt.Chart((labor_part_rate_melt.query(\"date > '01/01/2010'\")))\\\n",
    "    .mark_line(size=3)\\\n",
    "    .encode(\n",
    "    x=alt.X('date:T', title=' ', axis=alt.Axis(grid=False, tickCount=6, format='%Y')),\n",
    "    y=alt.Y('rate:Q', title=' ', axis=alt.Axis(gridWidth=.6,\\\n",
    "     gridColor='#dddddd',offset=3,tickSize=0,domainOpacity=0,tickCount=3, format='%'),\\\n",
    "           scale=alt.Scale(domain=(.6, .65))),\n",
    "     color=alt.Color('place', title=' ', scale=alt.Scale(\n",
    "            domain=['California', 'United States'],\n",
    "            range=['#B32F2E', '#ccc'])),\n",
    ").properties(width=800, height=200,\n",
    "     title='Labor force participation rate, by month'\n",
    " )\n",
    "\n",
    "(ca_claims_chart_zoom).configure_view(strokeOpacity=0).configure_legend(\n",
    "    orient='top',\n",
    "    symbolType='stroke'\n",
    ")"
   ]
  },
  {
   "cell_type": "code",
   "execution_count": null,
   "metadata": {},
   "outputs": [],
   "source": [
    "### Current employment statistics"
   ]
  },
  {
   "cell_type": "code",
   "execution_count": null,
   "metadata": {},
   "outputs": [],
   "source": [
    "#https://data.edd.ca.gov/Industry-Information-/Current-Employment-Statistics-CES-/r4zm-kdcg"
   ]
  },
  {
   "cell_type": "code",
   "execution_count": null,
   "metadata": {},
   "outputs": [],
   "source": [
    "ces_token = 'E1ZFEgt5pMsnqQvHOr7wcf1Da'\n",
    "\n",
    "client = Socrata('data.edd.ca.gov', ces_token, username=\"matt.stiles@latimes.com\", password=\"datadesk!1\")\n",
    "\n",
    "results = client.get(\"r4zm-kdcg\", limit=1600000)\n",
    "ces = pd.DataFrame.from_records(results)"
   ]
  },
  {
   "cell_type": "code",
   "execution_count": null,
   "metadata": {},
   "outputs": [],
   "source": [
    "ces.columns = ces.columns.str.strip().str.lower().str.replace(' ', '_')\\\n",
    "    .str.replace('(', '').str.replace(')', '').str.replace('-','_').str.replace('_&_','_')"
   ]
  },
  {
   "cell_type": "code",
   "execution_count": null,
   "metadata": {},
   "outputs": [],
   "source": [
    "ces['date'] = pd.to_datetime(ces['date'])\n",
    "ces['current_employment'] = ces['current_employment'].astype(int)"
   ]
  },
  {
   "cell_type": "code",
   "execution_count": null,
   "metadata": {},
   "outputs": [],
   "source": [
    "ces_state = ces[(ces['seasonally_adjusted'] == 'Y') &\\\n",
    "               (ces['area_type'] == 'State')]"
   ]
  },
  {
   "cell_type": "code",
   "execution_count": null,
   "metadata": {},
   "outputs": [],
   "source": [
    "ces_sa = ces[(ces['seasonally_adjusted'] == 'Y')]"
   ]
  },
  {
   "cell_type": "code",
   "execution_count": null,
   "metadata": {},
   "outputs": [],
   "source": [
    "ces_state.head()"
   ]
  },
  {
   "cell_type": "code",
   "execution_count": null,
   "metadata": {},
   "outputs": [],
   "source": [
    "ces_retail = pd.DataFrame(ces[(ces['industry_title'] == 'Retail Trade') &\\\n",
    "               (ces['seasonally_adjusted'] == 'Y')])"
   ]
  },
  {
   "cell_type": "code",
   "execution_count": null,
   "metadata": {},
   "outputs": [],
   "source": [
    "ces_totalnonfarm_la_metro = pd.DataFrame(ces[(ces['industry_title'] == 'Total Nonfarm') &\\\n",
    "               (ces['seasonally_adjusted'] == 'Y') &\\\n",
    "                    (ces['area_name'] == 'Los Angeles-Long Beach-Glendale MD')])"
   ]
  },
  {
   "cell_type": "code",
   "execution_count": null,
   "metadata": {},
   "outputs": [],
   "source": [
    "ca_claims_chart_zoom = alt.Chart((ces_totalnonfarm_la_metro.query(\"date > '2013-01-01'\")))\\\n",
    "    .mark_line(size=4)\\\n",
    "    .encode(\n",
    "    x=alt.X('date:T', title=' ', axis=alt.Axis(offset=20, grid=False, tickCount=8, format='%b. %-d, %Y')),\n",
    "    y=alt.Y('current_employment:Q', title=' ', axis=alt.Axis(gridWidth=.6,\\\n",
    "     gridColor='#dddddd',offset=6,tickSize=0,domainOpacity=0,tickCount=3, format=''),\\\n",
    "           scale=alt.Scale(domain=(4000000, 4700000)))\n",
    ").properties(width=800, height=200,\n",
    "     title='Total employment in California, Los Angeles metro area'\n",
    " )\n",
    "\n",
    "(ca_claims_chart_zoom).configure_view(strokeOpacity=0).configure_legend(\n",
    "    orient='top',\n",
    "    symbolType='stroke'\n",
    ")"
   ]
  },
  {
   "cell_type": "code",
   "execution_count": null,
   "metadata": {},
   "outputs": [],
   "source": [
    "ces.area_name.value_counts().head()"
   ]
  },
  {
   "cell_type": "code",
   "execution_count": null,
   "metadata": {},
   "outputs": [],
   "source": [
    "ces.industry_title.value_counts().head()"
   ]
  }
 ],
 "metadata": {
  "kernelspec": {
   "display_name": "Python 3",
   "language": "python",
   "name": "python3"
  },
  "language_info": {
   "codemirror_mode": {
    "name": "ipython",
    "version": 3
   },
   "file_extension": ".py",
   "mimetype": "text/x-python",
   "name": "python",
   "nbconvert_exporter": "python",
   "pygments_lexer": "ipython3",
   "version": "3.7.4"
  }
 },
 "nbformat": 4,
 "nbformat_minor": 4
}
