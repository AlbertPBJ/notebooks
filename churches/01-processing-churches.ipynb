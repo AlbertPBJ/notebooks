{
 "cells": [
  {
   "cell_type": "markdown",
   "id": "cooperative-trust",
   "metadata": {},
   "source": [
    "# Process the churches of L.A. County"
   ]
  },
  {
   "cell_type": "code",
   "execution_count": 1,
   "id": "growing-zealand",
   "metadata": {},
   "outputs": [],
   "source": [
    "%load_ext lab_black"
   ]
  },
  {
   "cell_type": "code",
   "execution_count": 2,
   "id": "guilty-matter",
   "metadata": {},
   "outputs": [],
   "source": [
    "import pandas as pd\n",
    "import geopandas as gpd\n",
    "import matplotlib.pyplot as plt"
   ]
  },
  {
   "cell_type": "code",
   "execution_count": 3,
   "id": "processed-thursday",
   "metadata": {},
   "outputs": [],
   "source": [
    "%matplotlib inline\n",
    "import json\n",
    "import numpy as np\n",
    "import altair as alt\n",
    "import altair_latimes as lat"
   ]
  },
  {
   "cell_type": "code",
   "execution_count": 4,
   "id": "narrow-australian",
   "metadata": {},
   "outputs": [
    {
     "data": {
      "text/plain": [
       "DataTransformerRegistry.enable('default')"
      ]
     },
     "execution_count": 4,
     "metadata": {},
     "output_type": "execute_result"
    }
   ],
   "source": [
    "alt.themes.register(\"latimes\", lat.theme)\n",
    "alt.themes.enable(\"latimes\")\n",
    "pd.options.display.max_columns = 50\n",
    "pd.options.display.max_rows = 1000\n",
    "alt.data_transformers.disable_max_rows()"
   ]
  },
  {
   "cell_type": "markdown",
   "id": "square-strike",
   "metadata": {},
   "source": [
    "### Get our download churches file"
   ]
  },
  {
   "cell_type": "code",
   "execution_count": 52,
   "id": "greek-sherman",
   "metadata": {},
   "outputs": [],
   "source": [
    "gdf = gpd.read_file(\"raw/geo/churches.geojson\")"
   ]
  },
  {
   "cell_type": "code",
   "execution_count": 53,
   "id": "liked-physiology",
   "metadata": {},
   "outputs": [
    {
     "data": {
      "text/plain": [
       "<AxesSubplot:>"
      ]
     },
     "execution_count": 53,
     "metadata": {},
     "output_type": "execute_result"
    },
    {
     "data": {
      "image/png": "[encoded data removed]",
      "text/plain": [
       "<Figure size 432x288 with 1 Axes>"
      ]
     },
     "metadata": {
      "needs_background": "light"
     },
     "output_type": "display_data"
    }
   ],
   "source": [
    "gdf.plot()"
   ]
  },
  {
   "cell_type": "markdown",
   "id": "preceding-gospel",
   "metadata": {},
   "source": [
    "### Drop columns we don't need"
   ]
  },
  {
   "cell_type": "code",
   "execution_count": 54,
   "id": "municipal-frederick",
   "metadata": {},
   "outputs": [],
   "source": [
    "gdf.drop(\n",
    "    [\n",
    "        \"source\",\n",
    "        \"org_name\",\n",
    "        \"ext_id\",\n",
    "        \"cat1\",\n",
    "        \"cat2\",\n",
    "        \"cat3\",\n",
    "        \"zip\",\n",
    "        \"link\",\n",
    "        \"use_type\",\n",
    "        \"date_updated\",\n",
    "        \"dis_status\",\n",
    "        \"POINT_X\",\n",
    "        \"POINT_Y\",\n",
    "        \"addrln1\",\n",
    "        \"addrln2\",\n",
    "        \"city\",\n",
    "        \"state\",\n",
    "        \"hours\",\n",
    "        \"phones\",\n",
    "        \"url\",\n",
    "        \"info1\",\n",
    "        \"info2\",\n",
    "        \"post_id\",\n",
    "        \"description\",\n",
    "        \"email\",\n",
    "    ],\n",
    "    axis=1,\n",
    "    inplace=True,\n",
    ")"
   ]
  },
  {
   "cell_type": "code",
   "execution_count": 73,
   "id": "gothic-accountability",
   "metadata": {},
   "outputs": [],
   "source": [
    "gdf.rename(columns={\"Name\": \"church_name\", \"OBJECTID\": \"id\"}, inplace=True)"
   ]
  },
  {
   "cell_type": "code",
   "execution_count": 74,
   "id": "solid-nature",
   "metadata": {},
   "outputs": [],
   "source": [
    "gdf[\"nuname\"] = gdf[\"church_name\"]"
   ]
  },
  {
   "cell_type": "markdown",
   "id": "incorrect-timothy",
   "metadata": {},
   "source": [
    "### Parse church types from their names"
   ]
  },
  {
   "cell_type": "code",
   "execution_count": 95,
   "id": "associate-detail",
   "metadata": {},
   "outputs": [],
   "source": [
    "types = {\n",
    "    \"christian\": (\n",
    "        \"Methodist\",\n",
    "        \"Episcopal\",\n",
    "        \"Presbyterian\",\n",
    "        \"Orthodox\",\n",
    "        \"Catholic\",\n",
    "        \"Lutheran\",\n",
    "        \"Reformed\",\n",
    "        \"Calvinist\",\n",
    "        \"Church of God\",\n",
    "        \"Pentecostal\",\n",
    "        \"Christian\",\n",
    "        \"Church of Christ\",\n",
    "        \"Evangelical\",\n",
    "        \"Independent\",\n",
    "        \"Seventh Day Adventist\",\n",
    "        \"Wesleyan\",\n",
    "    )\n",
    "}"
   ]
  },
  {
   "cell_type": "code",
   "execution_count": 95,
   "id": "similar-fever",
   "metadata": {},
   "outputs": [],
   "source": [
    "Adventist\n",
    "Baptist\n",
    "Catholic\n",
    "Jewish\n",
    "Lutheran\n",
    "Methodist\n",
    "Mormon\n",
    "Nazarene\n",
    "Presbyterian\n",
    "Unitarian-Universalist\n",
    "Other Groups"
   ]
  },
  {
   "cell_type": "code",
   "execution_count": 95,
   "id": "otherwise-negative",
   "metadata": {},
   "outputs": [],
   "source": []
  },
  {
   "cell_type": "code",
   "execution_count": 95,
   "id": "third-robert",
   "metadata": {},
   "outputs": [],
   "source": []
  },
  {
   "cell_type": "code",
   "execution_count": 95,
   "id": "standing-brass",
   "metadata": {},
   "outputs": [],
   "source": []
  },
  {
   "cell_type": "code",
   "execution_count": 96,
   "id": "nearby-spare",
   "metadata": {},
   "outputs": [],
   "source": [
    "colour = {\"red\": (\"red\", \"rose\", \"ruby\")}"
   ]
  },
  {
   "cell_type": "code",
   "execution_count": 97,
   "id": "saving-intake",
   "metadata": {},
   "outputs": [
    {
     "data": {
      "text/plain": [
       "dict_items([('christian', ('Methodist', 'Episcopal', 'Presbyterian', 'Orthodox', 'Catholic', 'Lutheran', 'Reformed', 'Calvinist', 'Church of God', 'Pentecostal', 'Christian', 'Church of Christ', 'Evangelical', 'Independent', 'Seventh Day Adventist', 'Wesleyan'))])"
      ]
     },
     "execution_count": 97,
     "metadata": {},
     "output_type": "execute_result"
    }
   ],
   "source": [
    "types.items()"
   ]
  },
  {
   "cell_type": "code",
   "execution_count": 98,
   "id": "registered-cameroon",
   "metadata": {},
   "outputs": [],
   "source": [
    "def fetchTypes(x):\n",
    "    for key, values in types.items():\n",
    "        for value in values:\n",
    "            if value in x:\n",
    "                return key\n",
    "    else:\n",
    "        return \"\"\n",
    "\n",
    "\n",
    "gdf[\"type\"] = gdf[\"church_name\"].apply(fetchTypes)"
   ]
  },
  {
   "cell_type": "code",
   "execution_count": 99,
   "id": "creative-engagement",
   "metadata": {},
   "outputs": [
    {
     "data": {
      "text/html": [
       "<div>\n",
       "<style scoped>\n",
       "    .dataframe tbody tr th:only-of-type {\n",
       "        vertical-align: middle;\n",
       "    }\n",
       "\n",
       "    .dataframe tbody tr th {\n",
       "        vertical-align: top;\n",
       "    }\n",
       "\n",
       "    .dataframe thead th {\n",
       "        text-align: right;\n",
       "    }\n",
       "</style>\n",
       "<table border=\"1\" class=\"dataframe\">\n",
       "  <thead>\n",
       "    <tr style=\"text-align: right;\">\n",
       "      <th></th>\n",
       "      <th>id</th>\n",
       "      <th>church_name</th>\n",
       "      <th>latitude</th>\n",
       "      <th>longitude</th>\n",
       "      <th>geometry</th>\n",
       "      <th>nuname</th>\n",
       "      <th>type</th>\n",
       "    </tr>\n",
       "  </thead>\n",
       "  <tbody>\n",
       "    <tr>\n",
       "      <th>0</th>\n",
       "      <td>24204</td>\n",
       "      <td>Antioch Presbyterian Church</td>\n",
       "      <td>34.216944</td>\n",
       "      <td>-118.242500</td>\n",
       "      <td>POINT (-118.24250 34.21694)</td>\n",
       "      <td>Antioch Presbyterian Church</td>\n",
       "      <td>christian</td>\n",
       "    </tr>\n",
       "    <tr>\n",
       "      <th>1</th>\n",
       "      <td>24205</td>\n",
       "      <td>Holy Gate Evangelical Church</td>\n",
       "      <td>34.216667</td>\n",
       "      <td>-118.240278</td>\n",
       "      <td>POINT (-118.24028 34.21667)</td>\n",
       "      <td>Holy Gate Evangelical Church</td>\n",
       "      <td>christian</td>\n",
       "    </tr>\n",
       "    <tr>\n",
       "      <th>2</th>\n",
       "      <td>24206</td>\n",
       "      <td>Holy Hills Baptist Church</td>\n",
       "      <td>34.217222</td>\n",
       "      <td>-118.241111</td>\n",
       "      <td>POINT (-118.24111 34.21722)</td>\n",
       "      <td>Holy Hills Baptist Church</td>\n",
       "      <td></td>\n",
       "    </tr>\n",
       "    <tr>\n",
       "      <th>3</th>\n",
       "      <td>24207</td>\n",
       "      <td>Christ Armenian Church</td>\n",
       "      <td>34.219444</td>\n",
       "      <td>-118.244722</td>\n",
       "      <td>POINT (-118.24472 34.21944)</td>\n",
       "      <td>Christ Armenian Church</td>\n",
       "      <td></td>\n",
       "    </tr>\n",
       "    <tr>\n",
       "      <th>4</th>\n",
       "      <td>24208</td>\n",
       "      <td>Christian Life Church</td>\n",
       "      <td>34.219444</td>\n",
       "      <td>-118.244722</td>\n",
       "      <td>POINT (-118.24472 34.21944)</td>\n",
       "      <td>Christian Life Church</td>\n",
       "      <td>christian</td>\n",
       "    </tr>\n",
       "  </tbody>\n",
       "</table>\n",
       "</div>"
      ],
      "text/plain": [
       "      id                   church_name   latitude   longitude  \\\n",
       "0  24204   Antioch Presbyterian Church  34.216944 -118.242500   \n",
       "1  24205  Holy Gate Evangelical Church  34.216667 -118.240278   \n",
       "2  24206     Holy Hills Baptist Church  34.217222 -118.241111   \n",
       "3  24207        Christ Armenian Church  34.219444 -118.244722   \n",
       "4  24208         Christian Life Church  34.219444 -118.244722   \n",
       "\n",
       "                      geometry                        nuname       type  \n",
       "0  POINT (-118.24250 34.21694)   Antioch Presbyterian Church  christian  \n",
       "1  POINT (-118.24028 34.21667)  Holy Gate Evangelical Church  christian  \n",
       "2  POINT (-118.24111 34.21722)     Holy Hills Baptist Church             \n",
       "3  POINT (-118.24472 34.21944)        Christ Armenian Church             \n",
       "4  POINT (-118.24472 34.21944)         Christian Life Church  christian  "
      ]
     },
     "execution_count": 99,
     "metadata": {},
     "output_type": "execute_result"
    }
   ],
   "source": [
    "gdf.head()"
   ]
  },
  {
   "cell_type": "markdown",
   "id": "revolutionary-examination",
   "metadata": {},
   "source": [
    "---"
   ]
  },
  {
   "cell_type": "code",
   "execution_count": null,
   "id": "orange-corps",
   "metadata": {},
   "outputs": [],
   "source": []
  },
  {
   "cell_type": "code",
   "execution_count": null,
   "id": "discrete-jenny",
   "metadata": {},
   "outputs": [],
   "source": []
  },
  {
   "cell_type": "code",
   "execution_count": null,
   "id": "professional-logistics",
   "metadata": {},
   "outputs": [],
   "source": []
  },
  {
   "cell_type": "code",
   "execution_count": null,
   "id": "streaming-assembly",
   "metadata": {},
   "outputs": [],
   "source": []
  },
  {
   "cell_type": "code",
   "execution_count": null,
   "id": "hollow-decade",
   "metadata": {},
   "outputs": [],
   "source": []
  },
  {
   "cell_type": "code",
   "execution_count": null,
   "id": "protected-chuck",
   "metadata": {},
   "outputs": [],
   "source": []
  },
  {
   "cell_type": "code",
   "execution_count": null,
   "id": "progressive-earth",
   "metadata": {},
   "outputs": [],
   "source": []
  },
  {
   "cell_type": "code",
   "execution_count": 83,
   "id": "effective-arthur",
   "metadata": {},
   "outputs": [],
   "source": [
    "df = pd.DataFrame(\n",
    "    {\n",
    "        \"Name\": [\n",
    "            \"Red Lace Midi Dress\",\n",
    "            \"Long Armed Sweater Azure\",\n",
    "            \"High Top Ruby Sneakers\",\n",
    "            \"Tight Indigo Jeans\",\n",
    "            \"T-Shirt Navy\",\n",
    "        ]\n",
    "    }\n",
    ")\n",
    "\n",
    "colour = {\"red\": (\"red\", \"rose\", \"ruby\"), \"blue\": (\"azure\", \"indigo\", \"navy\")}\n",
    "\n",
    "\n",
    "def fetchColours(x):\n",
    "    for key, values in colour.items():\n",
    "        for value in values:\n",
    "            if value in x.lower():\n",
    "                return key\n",
    "    else:\n",
    "        return np.nan\n",
    "\n",
    "\n",
    "df[\"Colour\"] = df[\"Name\"].apply(fetchColours)"
   ]
  },
  {
   "cell_type": "code",
   "execution_count": 88,
   "id": "short-current",
   "metadata": {},
   "outputs": [
    {
     "data": {
      "text/plain": [
       "dict_items([('red', ('red', 'rose', 'ruby')), ('blue', ('azure', 'indigo', 'navy'))])"
      ]
     },
     "execution_count": 88,
     "metadata": {},
     "output_type": "execute_result"
    }
   ],
   "source": [
    "colour.items()"
   ]
  },
  {
   "cell_type": "markdown",
   "id": "sealed-franklin",
   "metadata": {},
   "source": [
    "---"
   ]
  },
  {
   "cell_type": "code",
   "execution_count": 222,
   "id": "static-syndication",
   "metadata": {},
   "outputs": [],
   "source": [
    "denomination = pd.read_csv(\"raw/churchdb/denomination.csv\")"
   ]
  },
  {
   "cell_type": "code",
   "execution_count": 223,
   "id": "destroyed-design",
   "metadata": {},
   "outputs": [],
   "source": [
    "church = pd.read_csv(\"raw/churchdb/church.csv\")"
   ]
  },
  {
   "cell_type": "code",
   "execution_count": 224,
   "id": "skilled-middle",
   "metadata": {},
   "outputs": [],
   "source": [
    "city = pd.read_csv(\"raw/churchdb/city.csv\")"
   ]
  },
  {
   "cell_type": "code",
   "execution_count": 225,
   "id": "precious-banana",
   "metadata": {},
   "outputs": [],
   "source": [
    "add_denomination = pd.merge(\n",
    "    church, denomination, right_on=\"id\", left_on=\"denomination_id\"\n",
    ")"
   ]
  },
  {
   "cell_type": "code",
   "execution_count": 226,
   "id": "aquatic-studio",
   "metadata": {},
   "outputs": [],
   "source": [
    "churchdf = pd.merge(add_denomination, city, left_on=\"city_id\", right_on=\"id\")"
   ]
  },
  {
   "cell_type": "code",
   "execution_count": 227,
   "id": "removable-cutting",
   "metadata": {},
   "outputs": [
    {
     "data": {
      "text/html": [
       "<div>\n",
       "<style scoped>\n",
       "    .dataframe tbody tr th:only-of-type {\n",
       "        vertical-align: middle;\n",
       "    }\n",
       "\n",
       "    .dataframe tbody tr th {\n",
       "        vertical-align: top;\n",
       "    }\n",
       "\n",
       "    .dataframe thead th {\n",
       "        text-align: right;\n",
       "    }\n",
       "</style>\n",
       "<table border=\"1\" class=\"dataframe\">\n",
       "  <thead>\n",
       "    <tr style=\"text-align: right;\">\n",
       "      <th></th>\n",
       "      <th>id_x</th>\n",
       "      <th>city_id</th>\n",
       "      <th>denomination_id</th>\n",
       "      <th>title_x</th>\n",
       "      <th>address</th>\n",
       "      <th>phone</th>\n",
       "      <th>fax</th>\n",
       "      <th>web_site</th>\n",
       "      <th>average_attendance</th>\n",
       "      <th>driving_direction</th>\n",
       "      <th>major_cross_street</th>\n",
       "      <th>email_contact</th>\n",
       "      <th>local_ministry</th>\n",
       "      <th>id_y</th>\n",
       "      <th>title_y</th>\n",
       "      <th>count_x</th>\n",
       "      <th>slug_x</th>\n",
       "      <th>id</th>\n",
       "      <th>state_id</th>\n",
       "      <th>title</th>\n",
       "      <th>count_y</th>\n",
       "      <th>slug_y</th>\n",
       "    </tr>\n",
       "  </thead>\n",
       "  <tbody>\n",
       "    <tr>\n",
       "      <th>0</th>\n",
       "      <td>1</td>\n",
       "      <td>1</td>\n",
       "      <td>2</td>\n",
       "      <td>Anniston Foursquare Gospel Church</td>\n",
       "      <td>305 Embry St&amp;nbsp; Anniston, AL</td>\n",
       "      <td>(256) 235-1959</td>\n",
       "      <td>NaN</td>\n",
       "      <td>NaN</td>\n",
       "      <td>NaN</td>\n",
       "      <td>NaN</td>\n",
       "      <td>NaN</td>\n",
       "      <td>NaN</td>\n",
       "      <td>NaN</td>\n",
       "      <td>2</td>\n",
       "      <td>Foursquare</td>\n",
       "      <td>375</td>\n",
       "      <td>Foursquare_churches</td>\n",
       "      <td>1</td>\n",
       "      <td>1</td>\n",
       "      <td>Anniston, AL</td>\n",
       "      <td>312</td>\n",
       "      <td>alabama-anniston</td>\n",
       "    </tr>\n",
       "    <tr>\n",
       "      <th>1</th>\n",
       "      <td>2</td>\n",
       "      <td>1</td>\n",
       "      <td>3</td>\n",
       "      <td>Apostolic Faith Church</td>\n",
       "      <td>709 S Christine Ave&amp;nbsp; Anniston, AL</td>\n",
       "      <td>(256) 236-8505</td>\n",
       "      <td>NaN</td>\n",
       "      <td>NaN</td>\n",
       "      <td>NaN</td>\n",
       "      <td>NaN</td>\n",
       "      <td>NaN</td>\n",
       "      <td>NaN</td>\n",
       "      <td>NaN</td>\n",
       "      <td>3</td>\n",
       "      <td>Apostolic Churches</td>\n",
       "      <td>2064</td>\n",
       "      <td>Apostolic_churches</td>\n",
       "      <td>1</td>\n",
       "      <td>1</td>\n",
       "      <td>Anniston, AL</td>\n",
       "      <td>312</td>\n",
       "      <td>alabama-anniston</td>\n",
       "    </tr>\n",
       "    <tr>\n",
       "      <th>2</th>\n",
       "      <td>3</td>\n",
       "      <td>1</td>\n",
       "      <td>3</td>\n",
       "      <td>Apostolic Lighthouse</td>\n",
       "      <td>508 Booker St&amp;nbsp; Talladega, AL</td>\n",
       "      <td>(256) 761-1991</td>\n",
       "      <td>NaN</td>\n",
       "      <td>NaN</td>\n",
       "      <td>NaN</td>\n",
       "      <td>NaN</td>\n",
       "      <td>NaN</td>\n",
       "      <td>NaN</td>\n",
       "      <td>NaN</td>\n",
       "      <td>3</td>\n",
       "      <td>Apostolic Churches</td>\n",
       "      <td>2064</td>\n",
       "      <td>Apostolic_churches</td>\n",
       "      <td>1</td>\n",
       "      <td>1</td>\n",
       "      <td>Anniston, AL</td>\n",
       "      <td>312</td>\n",
       "      <td>alabama-anniston</td>\n",
       "    </tr>\n",
       "    <tr>\n",
       "      <th>3</th>\n",
       "      <td>4</td>\n",
       "      <td>1</td>\n",
       "      <td>3</td>\n",
       "      <td>New Day Apostolic Church</td>\n",
       "      <td>1315 W 17th St&amp;nbsp; Anniston, AL</td>\n",
       "      <td>(256) 237-3561</td>\n",
       "      <td>NaN</td>\n",
       "      <td>NaN</td>\n",
       "      <td>NaN</td>\n",
       "      <td>NaN</td>\n",
       "      <td>NaN</td>\n",
       "      <td>NaN</td>\n",
       "      <td>NaN</td>\n",
       "      <td>3</td>\n",
       "      <td>Apostolic Churches</td>\n",
       "      <td>2064</td>\n",
       "      <td>Apostolic_churches</td>\n",
       "      <td>1</td>\n",
       "      <td>1</td>\n",
       "      <td>Anniston, AL</td>\n",
       "      <td>312</td>\n",
       "      <td>alabama-anniston</td>\n",
       "    </tr>\n",
       "    <tr>\n",
       "      <th>4</th>\n",
       "      <td>5</td>\n",
       "      <td>1</td>\n",
       "      <td>4</td>\n",
       "      <td>Covenant Lutheran Church</td>\n",
       "      <td>406 Pelham Rd N&amp;nbsp; Jacksonville, AL</td>\n",
       "      <td>(256) 435-8678</td>\n",
       "      <td>NaN</td>\n",
       "      <td>NaN</td>\n",
       "      <td>NaN</td>\n",
       "      <td>NaN</td>\n",
       "      <td>NaN</td>\n",
       "      <td>NaN</td>\n",
       "      <td>NaN</td>\n",
       "      <td>4</td>\n",
       "      <td>Lutheran Churches</td>\n",
       "      <td>11139</td>\n",
       "      <td>Lutheran_churches</td>\n",
       "      <td>1</td>\n",
       "      <td>1</td>\n",
       "      <td>Anniston, AL</td>\n",
       "      <td>312</td>\n",
       "      <td>alabama-anniston</td>\n",
       "    </tr>\n",
       "  </tbody>\n",
       "</table>\n",
       "</div>"
      ],
      "text/plain": [
       "   id_x  city_id  denomination_id                            title_x  \\\n",
       "0     1        1                2  Anniston Foursquare Gospel Church   \n",
       "1     2        1                3             Apostolic Faith Church   \n",
       "2     3        1                3               Apostolic Lighthouse   \n",
       "3     4        1                3           New Day Apostolic Church   \n",
       "4     5        1                4           Covenant Lutheran Church   \n",
       "\n",
       "                                  address           phone  fax web_site  \\\n",
       "0         305 Embry St&nbsp; Anniston, AL  (256) 235-1959  NaN      NaN   \n",
       "1  709 S Christine Ave&nbsp; Anniston, AL  (256) 236-8505  NaN      NaN   \n",
       "2       508 Booker St&nbsp; Talladega, AL  (256) 761-1991  NaN      NaN   \n",
       "3       1315 W 17th St&nbsp; Anniston, AL  (256) 237-3561  NaN      NaN   \n",
       "4  406 Pelham Rd N&nbsp; Jacksonville, AL  (256) 435-8678  NaN      NaN   \n",
       "\n",
       "   average_attendance driving_direction major_cross_street email_contact  \\\n",
       "0                 NaN               NaN                NaN           NaN   \n",
       "1                 NaN               NaN                NaN           NaN   \n",
       "2                 NaN               NaN                NaN           NaN   \n",
       "3                 NaN               NaN                NaN           NaN   \n",
       "4                 NaN               NaN                NaN           NaN   \n",
       "\n",
       "  local_ministry  id_y             title_y  count_x               slug_x  id  \\\n",
       "0            NaN     2          Foursquare      375  Foursquare_churches   1   \n",
       "1            NaN     3  Apostolic Churches     2064   Apostolic_churches   1   \n",
       "2            NaN     3  Apostolic Churches     2064   Apostolic_churches   1   \n",
       "3            NaN     3  Apostolic Churches     2064   Apostolic_churches   1   \n",
       "4            NaN     4   Lutheran Churches    11139    Lutheran_churches   1   \n",
       "\n",
       "   state_id         title  count_y            slug_y  \n",
       "0         1  Anniston, AL      312  alabama-anniston  \n",
       "1         1  Anniston, AL      312  alabama-anniston  \n",
       "2         1  Anniston, AL      312  alabama-anniston  \n",
       "3         1  Anniston, AL      312  alabama-anniston  \n",
       "4         1  Anniston, AL      312  alabama-anniston  "
      ]
     },
     "execution_count": 227,
     "metadata": {},
     "output_type": "execute_result"
    }
   ],
   "source": [
    "churchdf.head()"
   ]
  },
  {
   "cell_type": "code",
   "execution_count": 228,
   "id": "least-briefing",
   "metadata": {},
   "outputs": [],
   "source": [
    "churchdf.drop(\n",
    "    [\n",
    "        \"id_x\",\n",
    "        \"id\",\n",
    "        \"id_y\",\n",
    "        \"city_id\",\n",
    "        \"denomination_id\",\n",
    "        \"phone\",\n",
    "        \"state_id\",\n",
    "        \"fax\",\n",
    "        \"web_site\",\n",
    "        \"average_attendance\",\n",
    "        \"driving_direction\",\n",
    "        \"major_cross_street\",\n",
    "        \"email_contact\",\n",
    "        \"local_ministry\",\n",
    "        \"slug_y\",\n",
    "        \"count_y\",\n",
    "        \"count_x\",\n",
    "        \"slug_x\",\n",
    "    ],\n",
    "    axis=1,\n",
    "    inplace=True,\n",
    ")"
   ]
  },
  {
   "cell_type": "code",
   "execution_count": 229,
   "id": "separated-operations",
   "metadata": {},
   "outputs": [],
   "source": [
    "churchdf.rename(\n",
    "    columns={\n",
    "        \"title_x\": \"church_name\",\n",
    "        \"title_y\": \"type\",\n",
    "        \"slug_y\": \"slug\",\n",
    "    },\n",
    "    inplace=True,\n",
    ")"
   ]
  },
  {
   "cell_type": "code",
   "execution_count": 230,
   "id": "comparable-figure",
   "metadata": {},
   "outputs": [],
   "source": [
    "churches = churchdf.copy()"
   ]
  },
  {
   "cell_type": "code",
   "execution_count": 231,
   "id": "future-processing",
   "metadata": {},
   "outputs": [],
   "source": [
    "churches[\"address\"] = churches[\"address\"].str.replace(\"&nbsp; \", \", \", regex=False)"
   ]
  },
  {
   "cell_type": "code",
   "execution_count": 232,
   "id": "artificial-ordering",
   "metadata": {},
   "outputs": [
    {
     "data": {
      "text/html": [
       "<div>\n",
       "<style scoped>\n",
       "    .dataframe tbody tr th:only-of-type {\n",
       "        vertical-align: middle;\n",
       "    }\n",
       "\n",
       "    .dataframe tbody tr th {\n",
       "        vertical-align: top;\n",
       "    }\n",
       "\n",
       "    .dataframe thead th {\n",
       "        text-align: right;\n",
       "    }\n",
       "</style>\n",
       "<table border=\"1\" class=\"dataframe\">\n",
       "  <thead>\n",
       "    <tr style=\"text-align: right;\">\n",
       "      <th></th>\n",
       "      <th>church_name</th>\n",
       "      <th>address</th>\n",
       "      <th>type</th>\n",
       "      <th>title</th>\n",
       "    </tr>\n",
       "  </thead>\n",
       "  <tbody>\n",
       "    <tr>\n",
       "      <th>0</th>\n",
       "      <td>Anniston Foursquare Gospel Church</td>\n",
       "      <td>305 Embry St, Anniston, AL</td>\n",
       "      <td>Foursquare</td>\n",
       "      <td>Anniston, AL</td>\n",
       "    </tr>\n",
       "    <tr>\n",
       "      <th>1</th>\n",
       "      <td>Apostolic Faith Church</td>\n",
       "      <td>709 S Christine Ave, Anniston, AL</td>\n",
       "      <td>Apostolic Churches</td>\n",
       "      <td>Anniston, AL</td>\n",
       "    </tr>\n",
       "    <tr>\n",
       "      <th>2</th>\n",
       "      <td>Apostolic Lighthouse</td>\n",
       "      <td>508 Booker St, Talladega, AL</td>\n",
       "      <td>Apostolic Churches</td>\n",
       "      <td>Anniston, AL</td>\n",
       "    </tr>\n",
       "    <tr>\n",
       "      <th>3</th>\n",
       "      <td>New Day Apostolic Church</td>\n",
       "      <td>1315 W 17th St, Anniston, AL</td>\n",
       "      <td>Apostolic Churches</td>\n",
       "      <td>Anniston, AL</td>\n",
       "    </tr>\n",
       "    <tr>\n",
       "      <th>4</th>\n",
       "      <td>Covenant Lutheran Church</td>\n",
       "      <td>406 Pelham Rd N, Jacksonville, AL</td>\n",
       "      <td>Lutheran Churches</td>\n",
       "      <td>Anniston, AL</td>\n",
       "    </tr>\n",
       "  </tbody>\n",
       "</table>\n",
       "</div>"
      ],
      "text/plain": [
       "                         church_name                            address  \\\n",
       "0  Anniston Foursquare Gospel Church         305 Embry St, Anniston, AL   \n",
       "1             Apostolic Faith Church  709 S Christine Ave, Anniston, AL   \n",
       "2               Apostolic Lighthouse       508 Booker St, Talladega, AL   \n",
       "3           New Day Apostolic Church       1315 W 17th St, Anniston, AL   \n",
       "4           Covenant Lutheran Church  406 Pelham Rd N, Jacksonville, AL   \n",
       "\n",
       "                 type         title  \n",
       "0          Foursquare  Anniston, AL  \n",
       "1  Apostolic Churches  Anniston, AL  \n",
       "2  Apostolic Churches  Anniston, AL  \n",
       "3  Apostolic Churches  Anniston, AL  \n",
       "4   Lutheran Churches  Anniston, AL  "
      ]
     },
     "execution_count": 232,
     "metadata": {},
     "output_type": "execute_result"
    }
   ],
   "source": [
    "churches.head()"
   ]
  },
  {
   "cell_type": "code",
   "execution_count": 233,
   "id": "early-territory",
   "metadata": {},
   "outputs": [
    {
     "data": {
      "text/plain": [
       "155640"
      ]
     },
     "execution_count": 233,
     "metadata": {},
     "output_type": "execute_result"
    }
   ],
   "source": [
    "len(churches)"
   ]
  },
  {
   "cell_type": "code",
   "execution_count": null,
   "id": "bound-realtor",
   "metadata": {},
   "outputs": [],
   "source": []
  },
  {
   "cell_type": "code",
   "execution_count": null,
   "id": "primary-algorithm",
   "metadata": {},
   "outputs": [],
   "source": []
  }
 ],
 "metadata": {
  "kernelspec": {
   "display_name": "Python 3",
   "language": "python",
   "name": "python3"
  },
  "language_info": {
   "codemirror_mode": {
    "name": "ipython",
    "version": 3
   },
   "file_extension": ".py",
   "mimetype": "text/x-python",
   "name": "python",
   "nbconvert_exporter": "python",
   "pygments_lexer": "ipython3",
   "version": "3.7.4"
  }
 },
 "nbformat": 4,
 "nbformat_minor": 5
}
