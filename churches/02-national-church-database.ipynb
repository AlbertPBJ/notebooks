{
 "cells": [
  {
   "cell_type": "markdown",
   "id": "strange-highland",
   "metadata": {},
   "source": [
    "# National churches database"
   ]
  },
  {
   "cell_type": "code",
   "execution_count": 5,
   "id": "signal-classification",
   "metadata": {},
   "outputs": [],
   "source": [
    "%load_ext lab_black"
   ]
  },
  {
   "cell_type": "code",
   "execution_count": 6,
   "id": "abandoned-search",
   "metadata": {},
   "outputs": [],
   "source": [
    "import pandas as pd\n",
    "import geopandas as gpd\n",
    "import matplotlib.pyplot as plt"
   ]
  },
  {
   "cell_type": "code",
   "execution_count": 7,
   "id": "express-cache",
   "metadata": {},
   "outputs": [],
   "source": [
    "%matplotlib inline\n",
    "import json\n",
    "import numpy as np\n",
    "import altair as alt\n",
    "import altair_latimes as lat"
   ]
  },
  {
   "cell_type": "code",
   "execution_count": 8,
   "id": "median-fiction",
   "metadata": {},
   "outputs": [
    {
     "data": {
      "text/plain": [
       "DataTransformerRegistry.enable('default')"
      ]
     },
     "execution_count": 8,
     "metadata": {},
     "output_type": "execute_result"
    }
   ],
   "source": [
    "alt.themes.register(\"latimes\", lat.theme)\n",
    "alt.themes.enable(\"latimes\")\n",
    "pd.options.display.max_columns = 50\n",
    "pd.options.display.max_rows = 1000\n",
    "alt.data_transformers.disable_max_rows()"
   ]
  },
  {
   "cell_type": "code",
   "execution_count": 9,
   "id": "circular-shield",
   "metadata": {},
   "outputs": [],
   "source": [
    "# https://www.usabledatabases.com/database/usa-churches-in-cities-from-states/"
   ]
  },
  {
   "cell_type": "markdown",
   "id": "capital-scholar",
   "metadata": {},
   "source": [
    "### Import three of four relational tables from the database"
   ]
  },
  {
   "cell_type": "code",
   "execution_count": 26,
   "id": "demographic-lancaster",
   "metadata": {},
   "outputs": [],
   "source": [
    "denomination = pd.read_csv(\"raw/churchdb/denomination.csv\")"
   ]
  },
  {
   "cell_type": "code",
   "execution_count": 27,
   "id": "sorted-donna",
   "metadata": {},
   "outputs": [],
   "source": [
    "church = pd.read_csv(\"raw/churchdb/church.csv\")"
   ]
  },
  {
   "cell_type": "code",
   "execution_count": 28,
   "id": "wired-uncertainty",
   "metadata": {},
   "outputs": [],
   "source": [
    "city = pd.read_csv(\"raw/churchdb/city.csv\")"
   ]
  },
  {
   "cell_type": "markdown",
   "id": "joint-dating",
   "metadata": {},
   "source": [
    "### Merge the tables"
   ]
  },
  {
   "cell_type": "code",
   "execution_count": 29,
   "id": "authentic-money",
   "metadata": {},
   "outputs": [],
   "source": [
    "add_denomination = pd.merge(\n",
    "    church, denomination, right_on=\"id\", left_on=\"denomination_id\"\n",
    ")"
   ]
  },
  {
   "cell_type": "code",
   "execution_count": 30,
   "id": "engaged-english",
   "metadata": {},
   "outputs": [],
   "source": [
    "churchdf = pd.merge(add_denomination, city, left_on=\"city_id\", right_on=\"id\")"
   ]
  },
  {
   "cell_type": "markdown",
   "id": "central-effectiveness",
   "metadata": {},
   "source": [
    "### Clean up our newly merged dataframe"
   ]
  },
  {
   "cell_type": "code",
   "execution_count": 31,
   "id": "dated-harrison",
   "metadata": {},
   "outputs": [],
   "source": [
    "churchdf.drop(\n",
    "    [\n",
    "        \"id_x\",\n",
    "        \"id\",\n",
    "        \"id_y\",\n",
    "        \"city_id\",\n",
    "        \"denomination_id\",\n",
    "        \"phone\",\n",
    "        \"state_id\",\n",
    "        \"fax\",\n",
    "        \"web_site\",\n",
    "        \"average_attendance\",\n",
    "        \"driving_direction\",\n",
    "        \"major_cross_street\",\n",
    "        \"email_contact\",\n",
    "        \"local_ministry\",\n",
    "        \"slug_y\",\n",
    "        \"count_y\",\n",
    "        \"count_x\",\n",
    "        \"slug_x\",\n",
    "        \"title\",\n",
    "    ],\n",
    "    axis=1,\n",
    "    inplace=True,\n",
    ")"
   ]
  },
  {
   "cell_type": "code",
   "execution_count": 80,
   "id": "conscious-halloween",
   "metadata": {},
   "outputs": [],
   "source": [
    "churchdf.rename(\n",
    "    columns={\n",
    "        \"title_x\": \"church_name\",\n",
    "        \"title_y\": \"type\",\n",
    "        \"slug_y\": \"slug\",\n",
    "        \"type\": \"denomination\",\n",
    "    },\n",
    "    inplace=True,\n",
    ")"
   ]
  },
  {
   "cell_type": "markdown",
   "id": "human-operation",
   "metadata": {},
   "source": [
    "### Clean up the address and type fields"
   ]
  },
  {
   "cell_type": "markdown",
   "id": "lasting-gnome",
   "metadata": {},
   "source": [
    "---"
   ]
  },
  {
   "cell_type": "code",
   "execution_count": 81,
   "id": "executive-enforcement",
   "metadata": {},
   "outputs": [],
   "source": [
    "churches = churchdf.copy()"
   ]
  },
  {
   "cell_type": "code",
   "execution_count": 82,
   "id": "dominant-essay",
   "metadata": {},
   "outputs": [],
   "source": [
    "churches[\"address\"] = churches[\"address\"].str.replace(\"&nbsp; \", \", \", regex=False)"
   ]
  },
  {
   "cell_type": "code",
   "execution_count": 84,
   "id": "yellow-litigation",
   "metadata": {},
   "outputs": [],
   "source": [
    "churches[\"denomination\"] = churches[\"denomination\"].str.replace(\n",
    "    \" Churches\", \"\", regex=False\n",
    ")"
   ]
  },
  {
   "cell_type": "code",
   "execution_count": 85,
   "id": "valid-flour",
   "metadata": {},
   "outputs": [
    {
     "data": {
      "text/html": [
       "<div>\n",
       "<style scoped>\n",
       "    .dataframe tbody tr th:only-of-type {\n",
       "        vertical-align: middle;\n",
       "    }\n",
       "\n",
       "    .dataframe tbody tr th {\n",
       "        vertical-align: top;\n",
       "    }\n",
       "\n",
       "    .dataframe thead th {\n",
       "        text-align: right;\n",
       "    }\n",
       "</style>\n",
       "<table border=\"1\" class=\"dataframe\">\n",
       "  <thead>\n",
       "    <tr style=\"text-align: right;\">\n",
       "      <th></th>\n",
       "      <th>church_name</th>\n",
       "      <th>address</th>\n",
       "      <th>denomination</th>\n",
       "    </tr>\n",
       "  </thead>\n",
       "  <tbody>\n",
       "    <tr>\n",
       "      <th>0</th>\n",
       "      <td>Anniston Foursquare Gospel Church</td>\n",
       "      <td>305 Embry St, Anniston, AL</td>\n",
       "      <td>Foursquare</td>\n",
       "    </tr>\n",
       "    <tr>\n",
       "      <th>1</th>\n",
       "      <td>Apostolic Faith Church</td>\n",
       "      <td>709 S Christine Ave, Anniston, AL</td>\n",
       "      <td>Apostolic</td>\n",
       "    </tr>\n",
       "    <tr>\n",
       "      <th>2</th>\n",
       "      <td>Apostolic Lighthouse</td>\n",
       "      <td>508 Booker St, Talladega, AL</td>\n",
       "      <td>Apostolic</td>\n",
       "    </tr>\n",
       "    <tr>\n",
       "      <th>3</th>\n",
       "      <td>New Day Apostolic Church</td>\n",
       "      <td>1315 W 17th St, Anniston, AL</td>\n",
       "      <td>Apostolic</td>\n",
       "    </tr>\n",
       "    <tr>\n",
       "      <th>4</th>\n",
       "      <td>Covenant Lutheran Church</td>\n",
       "      <td>406 Pelham Rd N, Jacksonville, AL</td>\n",
       "      <td>Lutheran</td>\n",
       "    </tr>\n",
       "  </tbody>\n",
       "</table>\n",
       "</div>"
      ],
      "text/plain": [
       "                         church_name                            address  \\\n",
       "0  Anniston Foursquare Gospel Church         305 Embry St, Anniston, AL   \n",
       "1             Apostolic Faith Church  709 S Christine Ave, Anniston, AL   \n",
       "2               Apostolic Lighthouse       508 Booker St, Talladega, AL   \n",
       "3           New Day Apostolic Church       1315 W 17th St, Anniston, AL   \n",
       "4           Covenant Lutheran Church  406 Pelham Rd N, Jacksonville, AL   \n",
       "\n",
       "  denomination  \n",
       "0   Foursquare  \n",
       "1    Apostolic  \n",
       "2    Apostolic  \n",
       "3    Apostolic  \n",
       "4     Lutheran  "
      ]
     },
     "execution_count": 85,
     "metadata": {},
     "output_type": "execute_result"
    }
   ],
   "source": [
    "churches.head()"
   ]
  },
  {
   "cell_type": "code",
   "execution_count": 62,
   "id": "adverse-combining",
   "metadata": {},
   "outputs": [],
   "source": [
    "len(churches)"
   ]
  },
  {
   "cell_type": "markdown",
   "id": "changed-television",
   "metadata": {},
   "source": [
    "---"
   ]
  },
  {
   "cell_type": "code",
   "execution_count": 104,
   "id": "attractive-syria",
   "metadata": {},
   "outputs": [],
   "source": []
  },
  {
   "cell_type": "code",
   "execution_count": 108,
   "id": "worse-saver",
   "metadata": {},
   "outputs": [],
   "source": [
    "types = {\n",
    "    \"Anglican\": [\"Anglican\"],\n",
    "    \"Apostolic\": [\"Apostolic\"],\n",
    "    \"Assembly of God\": [\"Assembly of God\"],\n",
    "    \"Baptist\": [\"Baptist\"],\n",
    "    \"Bible\": [\"Bible\"],\n",
    "    \"Brethren\": [\"Brethren\"],\n",
    "    \"Calvary Chapel\": [\"Calvary Chapel\"],\n",
    "    \"Catholic\": [\"Catholic\"],\n",
    "    \"Christian\": [\"Christian\"],\n",
    "    \"Church of Christ\": [\"Church of Christ\"],\n",
    "    \"Church of God\": [\"Church of God\"],\n",
    "    \"Congregational\": [\"Congregational\"],\n",
    "    \"Episcopal\": [\"Episcopal\"],\n",
    "    \"Evangelical\": [\"Evangelical\"],\n",
    "    \"Foursquare\": [\"Foursquare\"],\n",
    "    \"Lutheran\": [\"Lutheran\"],\n",
    "    \"Mennonite\": [\"Mennonite\"],\n",
    "    \"Messianic\": [\"Messianic\"],\n",
    "    \"Methodist\": [\"Methodist\"],\n",
    "    \"Nazarene\": [\"Nazarene\"],\n",
    "    \"Non-Denominational\": [\"Non-Denominational\"],\n",
    "    \"Orthodox\": [\"Orthodox\"],\n",
    "    \"Pentecostal\": [\"Pentecostal\"],\n",
    "    \"Presbyterian\": [\"Presbyterian\"],\n",
    "    \"Reformed\": [\"Reformed\"],\n",
    "    \"Seventh Day Adventist\": [\"Seventh Day Adventist\"],\n",
    "    \"Vineyard\": [\"Vineyard\"],\n",
    "}"
   ]
  },
  {
   "cell_type": "code",
   "execution_count": 117,
   "id": "variable-vertical",
   "metadata": {},
   "outputs": [],
   "source": [
    "from nltk.stem import *"
   ]
  },
  {
   "cell_type": "code",
   "execution_count": null,
   "id": "final-pillow",
   "metadata": {},
   "outputs": [],
   "source": []
  },
  {
   "cell_type": "code",
   "execution_count": 119,
   "id": "incredible-smooth",
   "metadata": {},
   "outputs": [
    {
     "ename": "NameError",
     "evalue": "name 'stem' is not defined",
     "output_type": "error",
     "traceback": [
      "\u001b[0;31m---------------------------------------------------------------------------\u001b[0m",
      "\u001b[0;31mNameError\u001b[0m                                 Traceback (most recent call last)",
      "\u001b[0;32m<ipython-input-119-f4fc5c2cbf74>\u001b[0m in \u001b[0;36m<module>\u001b[0;34m\u001b[0m\n\u001b[0;32m----> 1\u001b[0;31m \u001b[0mstemmer\u001b[0m \u001b[0;34m=\u001b[0m \u001b[0mstem\u001b[0m\u001b[0;34m(\u001b[0m\u001b[0;34m'en'\u001b[0m\u001b[0;34m)\u001b[0m\u001b[0;34m\u001b[0m\u001b[0;34m\u001b[0m\u001b[0m\n\u001b[0m",
      "\u001b[0;31mNameError\u001b[0m: name 'stem' is not defined"
     ]
    }
   ],
   "source": [
    "stemmer = stem('en')"
   ]
  },
  {
   "cell_type": "code",
   "execution_count": 120,
   "id": "previous-output",
   "metadata": {},
   "outputs": [
    {
     "ename": "NameError",
     "evalue": "name 'stemmer' is not defined",
     "output_type": "error",
     "traceback": [
      "\u001b[0;31m---------------------------------------------------------------------------\u001b[0m",
      "\u001b[0;31mNameError\u001b[0m                                 Traceback (most recent call last)",
      "\u001b[0;32m<ipython-input-120-1d1b75bde071>\u001b[0m in \u001b[0;36m<module>\u001b[0;34m\u001b[0m\n\u001b[1;32m      1\u001b[0m \u001b[0mdfs\u001b[0m \u001b[0;34m=\u001b[0m \u001b[0;34m[\u001b[0m\u001b[0;34m]\u001b[0m\u001b[0;34m\u001b[0m\u001b[0;34m\u001b[0m\u001b[0m\n\u001b[1;32m      2\u001b[0m \u001b[0;32mfor\u001b[0m \u001b[0mkey\u001b[0m\u001b[0;34m,\u001b[0m\u001b[0mvalues\u001b[0m \u001b[0;32min\u001b[0m \u001b[0mcategories\u001b[0m\u001b[0;34m.\u001b[0m\u001b[0mitems\u001b[0m\u001b[0;34m(\u001b[0m\u001b[0;34m)\u001b[0m\u001b[0;34m:\u001b[0m\u001b[0;34m\u001b[0m\u001b[0;34m\u001b[0m\u001b[0m\n\u001b[0;32m----> 3\u001b[0;31m     \u001b[0mwords\u001b[0m \u001b[0;34m=\u001b[0m \u001b[0mpd\u001b[0m\u001b[0;34m.\u001b[0m\u001b[0mDataFrame\u001b[0m\u001b[0;34m(\u001b[0m\u001b[0;34m{\u001b[0m\u001b[0;34m'category'\u001b[0m\u001b[0;34m:\u001b[0m \u001b[0mkey\u001b[0m\u001b[0;34m,\u001b[0m \u001b[0;34m'term'\u001b[0m\u001b[0;34m:\u001b[0m \u001b[0mstemmer\u001b[0m\u001b[0;34m.\u001b[0m\u001b[0mstemWords\u001b[0m\u001b[0;34m(\u001b[0m\u001b[0mvalues\u001b[0m\u001b[0;34m)\u001b[0m\u001b[0;34m}\u001b[0m\u001b[0;34m)\u001b[0m\u001b[0;34m\u001b[0m\u001b[0;34m\u001b[0m\u001b[0m\n\u001b[0m\u001b[1;32m      4\u001b[0m     \u001b[0mdfs\u001b[0m\u001b[0;34m.\u001b[0m\u001b[0mappend\u001b[0m\u001b[0;34m(\u001b[0m\u001b[0mwords\u001b[0m\u001b[0;34m)\u001b[0m\u001b[0;34m\u001b[0m\u001b[0;34m\u001b[0m\u001b[0m\n\u001b[1;32m      5\u001b[0m \u001b[0;34m\u001b[0m\u001b[0m\n",
      "\u001b[0;31mNameError\u001b[0m: name 'stemmer' is not defined"
     ]
    }
   ],
   "source": [
    "dfs = []\n",
    "for key,values in categories.items():\n",
    "    words = pd.DataFrame({'category': key, 'term': stemmer.stemWords(values)})\n",
    "    dfs.append(words)\n",
    "\n",
    "terms_df = pd.concat(dfs)\n",
    "\n",
    "terms_df"
   ]
  },
  {
   "cell_type": "code",
   "execution_count": null,
   "id": "wrong-willow",
   "metadata": {},
   "outputs": [],
   "source": []
  },
  {
   "cell_type": "code",
   "execution_count": null,
   "id": "announced-prior",
   "metadata": {},
   "outputs": [],
   "source": []
  },
  {
   "cell_type": "code",
   "execution_count": null,
   "id": "charged-michael",
   "metadata": {},
   "outputs": [],
   "source": []
  },
  {
   "cell_type": "markdown",
   "id": "cathedral-enhancement",
   "metadata": {},
   "source": [
    "--- "
   ]
  },
  {
   "cell_type": "markdown",
   "id": "threaded-heath",
   "metadata": {},
   "source": [
    "### California churches"
   ]
  },
  {
   "cell_type": "code",
   "execution_count": 66,
   "id": "given-cooking",
   "metadata": {},
   "outputs": [],
   "source": [
    "ca_churches = churches[churches[\"address\"].str.contains(\", CA\")]"
   ]
  },
  {
   "cell_type": "code",
   "execution_count": 67,
   "id": "potential-headquarters",
   "metadata": {},
   "outputs": [
    {
     "data": {
      "text/plain": [
       "10060"
      ]
     },
     "execution_count": 67,
     "metadata": {},
     "output_type": "execute_result"
    }
   ],
   "source": [
    "len(ca_churches)"
   ]
  },
  {
   "cell_type": "code",
   "execution_count": 69,
   "id": "sound-function",
   "metadata": {},
   "outputs": [
    {
     "data": {
      "text/html": [
       "<div>\n",
       "<style scoped>\n",
       "    .dataframe tbody tr th:only-of-type {\n",
       "        vertical-align: middle;\n",
       "    }\n",
       "\n",
       "    .dataframe tbody tr th {\n",
       "        vertical-align: top;\n",
       "    }\n",
       "\n",
       "    .dataframe thead th {\n",
       "        text-align: right;\n",
       "    }\n",
       "</style>\n",
       "<table border=\"1\" class=\"dataframe\">\n",
       "  <thead>\n",
       "    <tr style=\"text-align: right;\">\n",
       "      <th></th>\n",
       "      <th>church_name</th>\n",
       "      <th>address</th>\n",
       "      <th>type</th>\n",
       "    </tr>\n",
       "  </thead>\n",
       "  <tbody>\n",
       "    <tr>\n",
       "      <th>11720</th>\n",
       "      <td>Fort Yuma United Methodist</td>\n",
       "      <td>350 Picacho Rd, Winterhaven, CA</td>\n",
       "      <td>Methodist</td>\n",
       "    </tr>\n",
       "    <tr>\n",
       "      <th>11723</th>\n",
       "      <td>Bard Of The Nazarene</td>\n",
       "      <td>1497 Ross Rd, Winterhaven, CA</td>\n",
       "      <td>Nazarene</td>\n",
       "    </tr>\n",
       "    <tr>\n",
       "      <th>33258</th>\n",
       "      <td>Anaheim Hills Foursquare</td>\n",
       "      <td>3331 E Orangethorpe Ave, Anaheim, CA</td>\n",
       "      <td>Foursquare</td>\n",
       "    </tr>\n",
       "    <tr>\n",
       "      <th>33259</th>\n",
       "      <td>Calvary Faith Center Foursquare</td>\n",
       "      <td>323 W B St, Ontario, CA</td>\n",
       "      <td>Foursquare</td>\n",
       "    </tr>\n",
       "    <tr>\n",
       "      <th>33260</th>\n",
       "      <td>Chino Hills Foursquare</td>\n",
       "      <td>15558 Avery St, Chino Hills, CA</td>\n",
       "      <td>Foursquare</td>\n",
       "    </tr>\n",
       "  </tbody>\n",
       "</table>\n",
       "</div>"
      ],
      "text/plain": [
       "                           church_name                               address  \\\n",
       "11720       Fort Yuma United Methodist       350 Picacho Rd, Winterhaven, CA   \n",
       "11723             Bard Of The Nazarene         1497 Ross Rd, Winterhaven, CA   \n",
       "33258         Anaheim Hills Foursquare  3331 E Orangethorpe Ave, Anaheim, CA   \n",
       "33259  Calvary Faith Center Foursquare               323 W B St, Ontario, CA   \n",
       "33260           Chino Hills Foursquare       15558 Avery St, Chino Hills, CA   \n",
       "\n",
       "             type  \n",
       "11720   Methodist  \n",
       "11723    Nazarene  \n",
       "33258  Foursquare  \n",
       "33259  Foursquare  \n",
       "33260  Foursquare  "
      ]
     },
     "execution_count": 69,
     "metadata": {},
     "output_type": "execute_result"
    }
   ],
   "source": [
    "ca_churches.head(5)"
   ]
  },
  {
   "cell_type": "code",
   "execution_count": null,
   "id": "convertible-confidence",
   "metadata": {},
   "outputs": [],
   "source": []
  },
  {
   "cell_type": "code",
   "execution_count": null,
   "id": "polish-manufacturer",
   "metadata": {},
   "outputs": [],
   "source": []
  }
 ],
 "metadata": {
  "kernelspec": {
   "display_name": "Python 3",
   "language": "python",
   "name": "python3"
  },
  "language_info": {
   "codemirror_mode": {
    "name": "ipython",
    "version": 3
   },
   "file_extension": ".py",
   "mimetype": "text/x-python",
   "name": "python",
   "nbconvert_exporter": "python",
   "pygments_lexer": "ipython3",
   "version": "3.7.4"
  }
 },
 "nbformat": 4,
 "nbformat_minor": 5
}
