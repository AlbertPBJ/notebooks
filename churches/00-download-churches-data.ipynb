{
 "cells": [
  {
   "cell_type": "markdown",
   "metadata": {},
   "source": [
    "# Download the churches of L.A. County"
   ]
  },
  {
   "cell_type": "code",
   "execution_count": 1,
   "metadata": {},
   "outputs": [],
   "source": [
    "%load_ext lab_black"
   ]
  },
  {
   "cell_type": "code",
   "execution_count": 2,
   "metadata": {},
   "outputs": [],
   "source": [
    "import pandas as pd\n",
    "import geopandas as gpd\n",
    "import matplotlib.pyplot as plt"
   ]
  },
  {
   "cell_type": "code",
   "execution_count": 3,
   "metadata": {},
   "outputs": [],
   "source": [
    "%matplotlib inline\n",
    "import json\n",
    "import numpy as np\n",
    "import altair as alt\n",
    "import altair_latimes as lat"
   ]
  },
  {
   "cell_type": "code",
   "execution_count": 4,
   "metadata": {},
   "outputs": [
    {
     "data": {
      "text/plain": [
       "DataTransformerRegistry.enable('default')"
      ]
     },
     "execution_count": 4,
     "metadata": {},
     "output_type": "execute_result"
    }
   ],
   "source": [
    "alt.themes.register(\"latimes\", lat.theme)\n",
    "alt.themes.enable(\"latimes\")\n",
    "pd.options.display.max_columns = 50\n",
    "pd.options.display.max_rows = 1000\n",
    "alt.data_transformers.disable_max_rows()"
   ]
  },
  {
   "cell_type": "markdown",
   "metadata": {},
   "source": [
    "### Scrape the data from L.A. County's Esri API enpoint"
   ]
  },
  {
   "cell_type": "code",
   "execution_count": 35,
   "metadata": {},
   "outputs": [],
   "source": [
    "# LMS data server: https://public.gis.lacounty.gov/arcgis/rest/services/LACounty_Dynamic/LMS_Data_Public/MapServer"
   ]
  },
  {
   "cell_type": "code",
   "execution_count": 36,
   "metadata": {},
   "outputs": [],
   "source": [
    "# !agsout -s input/geo/services.txt -o input/geo/"
   ]
  },
  {
   "cell_type": "markdown",
   "metadata": {},
   "source": [
    "### Read the scraped file into a GeoDataFrame"
   ]
  },
  {
   "cell_type": "code",
   "execution_count": 45,
   "metadata": {},
   "outputs": [],
   "source": [
    "gdf = gpd.read_file(\n",
    "    \"raw/geo/la_county_churches/la_county_churches_1612460219298.geojson\"\n",
    ")"
   ]
  },
  {
   "cell_type": "code",
   "execution_count": 46,
   "metadata": {},
   "outputs": [
    {
     "data": {
      "text/plain": [
       "<AxesSubplot:>"
      ]
     },
     "execution_count": 46,
     "metadata": {},
     "output_type": "execute_result"
    },
    {
     "data": {
      "image/png": "[encoded data removed]",
      "text/plain": [
       "<Figure size 432x288 with 1 Axes>"
      ]
     },
     "metadata": {
      "needs_background": "light"
     },
     "output_type": "display_data"
    }
   ],
   "source": [
    "gdf.plot()"
   ]
  },
  {
   "cell_type": "markdown",
   "metadata": {},
   "source": [
    "### Which are the outlier churches? Sort by latitude"
   ]
  },
  {
   "cell_type": "code",
   "execution_count": 47,
   "metadata": {},
   "outputs": [
    {
     "data": {
      "text/html": [
       "<div>\n",
       "<style scoped>\n",
       "    .dataframe tbody tr th:only-of-type {\n",
       "        vertical-align: middle;\n",
       "    }\n",
       "\n",
       "    .dataframe tbody tr th {\n",
       "        vertical-align: top;\n",
       "    }\n",
       "\n",
       "    .dataframe thead th {\n",
       "        text-align: right;\n",
       "    }\n",
       "</style>\n",
       "<table border=\"1\" class=\"dataframe\">\n",
       "  <thead>\n",
       "    <tr style=\"text-align: right;\">\n",
       "      <th></th>\n",
       "      <th>OBJECTID</th>\n",
       "      <th>source</th>\n",
       "      <th>ext_id</th>\n",
       "      <th>cat1</th>\n",
       "      <th>cat2</th>\n",
       "      <th>cat3</th>\n",
       "      <th>org_name</th>\n",
       "      <th>Name</th>\n",
       "      <th>addrln1</th>\n",
       "      <th>addrln2</th>\n",
       "      <th>city</th>\n",
       "      <th>state</th>\n",
       "      <th>hours</th>\n",
       "      <th>phones</th>\n",
       "      <th>url</th>\n",
       "      <th>info1</th>\n",
       "      <th>info2</th>\n",
       "      <th>post_id</th>\n",
       "      <th>description</th>\n",
       "      <th>zip</th>\n",
       "      <th>link</th>\n",
       "      <th>use_type</th>\n",
       "      <th>latitude</th>\n",
       "      <th>longitude</th>\n",
       "      <th>date_updated</th>\n",
       "      <th>email</th>\n",
       "      <th>dis_status</th>\n",
       "      <th>POINT_X</th>\n",
       "      <th>POINT_Y</th>\n",
       "      <th>geometry</th>\n",
       "    </tr>\n",
       "  </thead>\n",
       "  <tbody>\n",
       "    <tr>\n",
       "      <th>201</th>\n",
       "      <td>25358</td>\n",
       "      <td>HSIP Freedom Gnis_structures</td>\n",
       "      <td>1878096</td>\n",
       "      <td>Community Groups</td>\n",
       "      <td>Churches</td>\n",
       "      <td>None</td>\n",
       "      <td>Bethany Baptist Church of West Los Angeles</td>\n",
       "      <td>Bethany Baptist Church of West Los Angeles</td>\n",
       "      <td>4115 W. Martin Luther King Blvd.</td>\n",
       "      <td>None</td>\n",
       "      <td>Los Angeles</td>\n",
       "      <td>CA</td>\n",
       "      <td>None</td>\n",
       "      <td>(323) 296 - 7223\\r\\n</td>\n",
       "      <td>None</td>\n",
       "      <td>None</td>\n",
       "      <td>None</td>\n",
       "      <td>27754</td>\n",
       "      <td></td>\n",
       "      <td>90008</td>\n",
       "      <td>http://egis3.lacounty.gov/lms/?p=27754</td>\n",
       "      <td>publish</td>\n",
       "      <td>45.553773</td>\n",
       "      <td>-122.661623</td>\n",
       "      <td>1379067370000</td>\n",
       "      <td>None</td>\n",
       "      <td>None</td>\n",
       "      <td>5.345461e+06</td>\n",
       "      <td>6.083300e+06</td>\n",
       "      <td>POINT (-122.66162 45.55377)</td>\n",
       "    </tr>\n",
       "  </tbody>\n",
       "</table>\n",
       "</div>"
      ],
      "text/plain": [
       "     OBJECTID                        source   ext_id              cat1  \\\n",
       "201     25358  HSIP Freedom Gnis_structures  1878096  Community Groups   \n",
       "\n",
       "         cat2  cat3                                    org_name  \\\n",
       "201  Churches  None  Bethany Baptist Church of West Los Angeles   \n",
       "\n",
       "                                           Name  \\\n",
       "201  Bethany Baptist Church of West Los Angeles   \n",
       "\n",
       "                               addrln1 addrln2         city state hours  \\\n",
       "201  4115 W. Martin Luther King Blvd.     None  Los Angeles    CA  None   \n",
       "\n",
       "                   phones   url info1 info2  post_id description    zip  \\\n",
       "201  (323) 296 - 7223\\r\\n  None  None  None    27754              90008   \n",
       "\n",
       "                                       link use_type   latitude   longitude  \\\n",
       "201  http://egis3.lacounty.gov/lms/?p=27754  publish  45.553773 -122.661623   \n",
       "\n",
       "      date_updated email dis_status       POINT_X       POINT_Y  \\\n",
       "201  1379067370000  None       None  5.345461e+06  6.083300e+06   \n",
       "\n",
       "                        geometry  \n",
       "201  POINT (-122.66162 45.55377)  "
      ]
     },
     "execution_count": 47,
     "metadata": {},
     "output_type": "execute_result"
    }
   ],
   "source": [
    "gdf.sort_values(\"latitude\", ascending=False).head(1)"
   ]
  },
  {
   "cell_type": "markdown",
   "metadata": {},
   "source": [
    "### Change 'Bethany Baptist Church of West Los Angeles'"
   ]
  },
  {
   "cell_type": "code",
   "execution_count": 48,
   "metadata": {},
   "outputs": [],
   "source": [
    "gdf.loc[\n",
    "    gdf.org_name == \"Bethany Baptist Church of West Los Angeles\", \"latitude\"\n",
    "] = 34.0167573"
   ]
  },
  {
   "cell_type": "code",
   "execution_count": 49,
   "metadata": {},
   "outputs": [],
   "source": [
    "gdf.loc[\n",
    "    gdf.org_name == \"Bethany Baptist Church of West Los Angeles\", \"longitude\"\n",
    "] = -118.3457184"
   ]
  },
  {
   "cell_type": "markdown",
   "metadata": {},
   "source": [
    "### Redo geometry with new coordinates"
   ]
  },
  {
   "cell_type": "code",
   "execution_count": 50,
   "metadata": {},
   "outputs": [],
   "source": [
    "gdf[\"longitude\"] = pd.to_numeric(gdf[\"longitude\"], errors=\"coerce\")\n",
    "gdf[\"latitude\"] = pd.to_numeric(gdf[\"latitude\"], errors=\"coerce\")"
   ]
  },
  {
   "cell_type": "code",
   "execution_count": 51,
   "metadata": {},
   "outputs": [],
   "source": [
    "gdf = gpd.GeoDataFrame(gdf, geometry=gpd.points_from_xy(gdf.longitude, gdf.latitude))"
   ]
  },
  {
   "cell_type": "markdown",
   "metadata": {},
   "source": [
    "### Did it work? "
   ]
  },
  {
   "cell_type": "code",
   "execution_count": 52,
   "metadata": {},
   "outputs": [
    {
     "data": {
      "text/plain": [
       "<AxesSubplot:>"
      ]
     },
     "execution_count": 52,
     "metadata": {},
     "output_type": "execute_result"
    },
    {
     "data": {
      "image/png": "[encoded data removed]",
      "text/plain": [
       "<Figure size 432x288 with 1 Axes>"
      ]
     },
     "metadata": {
      "needs_background": "light"
     },
     "output_type": "display_data"
    }
   ],
   "source": [
    "gdf.plot()"
   ]
  },
  {
   "cell_type": "markdown",
   "metadata": {},
   "source": [
    "---"
   ]
  },
  {
   "cell_type": "markdown",
   "metadata": {},
   "source": [
    "### Export"
   ]
  },
  {
   "cell_type": "code",
   "execution_count": 54,
   "metadata": {},
   "outputs": [],
   "source": [
    "gdf.to_file(\"raw/geo/churches.geojson\", driver=\"GeoJSON\")"
   ]
  }
 ],
 "metadata": {
  "kernelspec": {
   "display_name": "Python 3",
   "language": "python",
   "name": "python3"
  },
  "language_info": {
   "codemirror_mode": {
    "name": "ipython",
    "version": 3
   },
   "file_extension": ".py",
   "mimetype": "text/x-python",
   "name": "python",
   "nbconvert_exporter": "python",
   "pygments_lexer": "ipython3",
   "version": "3.7.4"
  }
 },
 "nbformat": 4,
 "nbformat_minor": 4
}
