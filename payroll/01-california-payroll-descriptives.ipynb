{
 "cells": [
  {
   "cell_type": "markdown",
   "metadata": {},
   "source": [
    "# Analyzing California's fire payrolls: 2011-2018"
   ]
  },
  {
   "cell_type": "markdown",
   "metadata": {},
   "source": [
    "This notebook analyzes annual government payroll [data](https://publicpay.ca.gov/Reports/RawExport.aspx) compiled and released annually by the California state controller's office. The data include anonymized salary information for all employees at cities, counties, special districts and state government. "
   ]
  },
  {
   "cell_type": "markdown",
   "metadata": {},
   "source": [
    "---"
   ]
  },
  {
   "cell_type": "markdown",
   "metadata": {},
   "source": [
    "### Load python tools"
   ]
  },
  {
   "cell_type": "code",
   "execution_count": 1,
   "metadata": {},
   "outputs": [],
   "source": [
    "import pandas as pd\n",
    "import cpi\n",
    "from easymoney.money import EasyPeasy\n",
    "import zipfile\n",
    "from urllib.request import urlopen \n",
    "import pyarrow\n",
    "import os\n",
    "import glob\n",
    "import io\n",
    "import requests\n",
    "import matplotlib\n",
    "import json\n",
    "import numpy as np\n",
    "from altair import datum\n",
    "import altair as alt\n",
    "alt.renderers.enable('notebook')\n",
    "import altair_latimes as lat\n",
    "alt.themes.register('latimes', lat.theme)\n",
    "alt.themes.enable('latimes')\n",
    "pd.options.display.float_format = '{:.2f}'.format\n",
    "pd.options.display.float_format = '${:,.0f}'.format"
   ]
  },
  {
   "cell_type": "markdown",
   "metadata": {},
   "source": [
    "### Read controller payroll data"
   ]
  },
  {
   "cell_type": "code",
   "execution_count": 2,
   "metadata": {},
   "outputs": [],
   "source": [
    "# processed here: 00-california-payroll-processing\n",
    "src = pd.read_feather('/Users/mhustiles/data/data/controller/output/payroll.feather')"
   ]
  },
  {
   "cell_type": "code",
   "execution_count": 3,
   "metadata": {},
   "outputs": [],
   "source": [
    "payroll = pd.DataFrame(src[(src['year'] != '2009') & (src['year'] != '2010')])"
   ]
  },
  {
   "cell_type": "markdown",
   "metadata": {},
   "source": [
    "### How many records, years in the dataframe? "
   ]
  },
  {
   "cell_type": "code",
   "execution_count": 4,
   "metadata": {},
   "outputs": [
    {
     "data": {
      "text/plain": [
       "8598441"
      ]
     },
     "execution_count": 4,
     "metadata": {},
     "output_type": "execute_result"
    }
   ],
   "source": [
    "len(payroll)"
   ]
  },
  {
   "cell_type": "code",
   "execution_count": 5,
   "metadata": {},
   "outputs": [
    {
     "data": {
      "text/plain": [
       "8"
      ]
     },
     "execution_count": 5,
     "metadata": {},
     "output_type": "execute_result"
    }
   ],
   "source": [
    "years = payroll.groupby(['year'])\n",
    "len(years)"
   ]
  },
  {
   "cell_type": "code",
   "execution_count": 6,
   "metadata": {},
   "outputs": [
    {
     "data": {
      "text/html": [
       "<div>\n",
       "<style scoped>\n",
       "    .dataframe tbody tr th:only-of-type {\n",
       "        vertical-align: middle;\n",
       "    }\n",
       "\n",
       "    .dataframe tbody tr th {\n",
       "        vertical-align: top;\n",
       "    }\n",
       "\n",
       "    .dataframe thead th {\n",
       "        text-align: right;\n",
       "    }\n",
       "</style>\n",
       "<table border=\"1\" class=\"dataframe\">\n",
       "  <thead>\n",
       "    <tr style=\"text-align: right;\">\n",
       "      <th></th>\n",
       "      <th>index</th>\n",
       "      <th>year</th>\n",
       "      <th>type</th>\n",
       "      <th>population</th>\n",
       "      <th>employer</th>\n",
       "      <th>department</th>\n",
       "      <th>position</th>\n",
       "      <th>overtime</th>\n",
       "      <th>wages</th>\n",
       "      <th>benefits</th>\n",
       "      <th>employercounty</th>\n",
       "    </tr>\n",
       "  </thead>\n",
       "  <tbody>\n",
       "    <tr>\n",
       "      <th>374773</th>\n",
       "      <td>374773</td>\n",
       "      <td>2017</td>\n",
       "      <td>STATE DEPARTMENT</td>\n",
       "      <td>0.0</td>\n",
       "      <td>ADMINISTRATIVE LAW, OFFICE OF</td>\n",
       "      <td>NOT LISTED</td>\n",
       "      <td>ASSISTANT CHIEF COUNSEL</td>\n",
       "      <td>0.0</td>\n",
       "      <td>169109.68</td>\n",
       "      <td>46724.56</td>\n",
       "      <td>NAN</td>\n",
       "    </tr>\n",
       "    <tr>\n",
       "      <th>374774</th>\n",
       "      <td>374774</td>\n",
       "      <td>2017</td>\n",
       "      <td>STATE DEPARTMENT</td>\n",
       "      <td>0.0</td>\n",
       "      <td>ADMINISTRATIVE LAW, OFFICE OF</td>\n",
       "      <td>NOT LISTED</td>\n",
       "      <td>ASSOCIATE GOVERNMENTAL PROGRAM ANALYST, RANGE A</td>\n",
       "      <td>0.0</td>\n",
       "      <td>60371.6</td>\n",
       "      <td>31928.45</td>\n",
       "      <td>NAN</td>\n",
       "    </tr>\n",
       "    <tr>\n",
       "      <th>374775</th>\n",
       "      <td>374775</td>\n",
       "      <td>2017</td>\n",
       "      <td>STATE DEPARTMENT</td>\n",
       "      <td>0.0</td>\n",
       "      <td>ADMINISTRATIVE LAW, OFFICE OF</td>\n",
       "      <td>NOT LISTED</td>\n",
       "      <td>ATTORNEY III, RANGE A</td>\n",
       "      <td>0.0</td>\n",
       "      <td>121364.52</td>\n",
       "      <td>55543.89</td>\n",
       "      <td>NAN</td>\n",
       "    </tr>\n",
       "    <tr>\n",
       "      <th>374776</th>\n",
       "      <td>374776</td>\n",
       "      <td>2017</td>\n",
       "      <td>STATE DEPARTMENT</td>\n",
       "      <td>0.0</td>\n",
       "      <td>ADMINISTRATIVE LAW, OFFICE OF</td>\n",
       "      <td>NOT LISTED</td>\n",
       "      <td>ATTORNEY III, RANGE A</td>\n",
       "      <td>0.0</td>\n",
       "      <td>100052.08</td>\n",
       "      <td>47833.55</td>\n",
       "      <td>NAN</td>\n",
       "    </tr>\n",
       "    <tr>\n",
       "      <th>374777</th>\n",
       "      <td>374777</td>\n",
       "      <td>2017</td>\n",
       "      <td>STATE DEPARTMENT</td>\n",
       "      <td>0.0</td>\n",
       "      <td>ADMINISTRATIVE LAW, OFFICE OF</td>\n",
       "      <td>NOT LISTED</td>\n",
       "      <td>ATTORNEY III, RANGE A</td>\n",
       "      <td>0.0</td>\n",
       "      <td>127915.28</td>\n",
       "      <td>43999.89</td>\n",
       "      <td>NAN</td>\n",
       "    </tr>\n",
       "  </tbody>\n",
       "</table>\n",
       "</div>"
      ],
      "text/plain": [
       "         index  year              type population  \\\n",
       "374773  374773  2017  STATE DEPARTMENT        0.0   \n",
       "374774  374774  2017  STATE DEPARTMENT        0.0   \n",
       "374775  374775  2017  STATE DEPARTMENT        0.0   \n",
       "374776  374776  2017  STATE DEPARTMENT        0.0   \n",
       "374777  374777  2017  STATE DEPARTMENT        0.0   \n",
       "\n",
       "                             employer  department  \\\n",
       "374773  ADMINISTRATIVE LAW, OFFICE OF  NOT LISTED   \n",
       "374774  ADMINISTRATIVE LAW, OFFICE OF  NOT LISTED   \n",
       "374775  ADMINISTRATIVE LAW, OFFICE OF  NOT LISTED   \n",
       "374776  ADMINISTRATIVE LAW, OFFICE OF  NOT LISTED   \n",
       "374777  ADMINISTRATIVE LAW, OFFICE OF  NOT LISTED   \n",
       "\n",
       "                                               position overtime      wages  \\\n",
       "374773                          ASSISTANT CHIEF COUNSEL      0.0  169109.68   \n",
       "374774  ASSOCIATE GOVERNMENTAL PROGRAM ANALYST, RANGE A      0.0    60371.6   \n",
       "374775                            ATTORNEY III, RANGE A      0.0  121364.52   \n",
       "374776                            ATTORNEY III, RANGE A      0.0  100052.08   \n",
       "374777                            ATTORNEY III, RANGE A      0.0  127915.28   \n",
       "\n",
       "        benefits employercounty  \n",
       "374773  46724.56            NAN  \n",
       "374774  31928.45            NAN  \n",
       "374775  55543.89            NAN  \n",
       "374776  47833.55            NAN  \n",
       "374777  43999.89            NAN  "
      ]
     },
     "execution_count": 6,
     "metadata": {},
     "output_type": "execute_result"
    }
   ],
   "source": [
    "payroll.head()"
   ]
  },
  {
   "cell_type": "markdown",
   "metadata": {},
   "source": [
    "### Read in our processed table of fire titles, convert to a list"
   ]
  },
  {
   "cell_type": "code",
   "execution_count": 7,
   "metadata": {},
   "outputs": [],
   "source": [
    "positions = pd.read_csv('input/positions.csv')"
   ]
  },
  {
   "cell_type": "code",
   "execution_count": 8,
   "metadata": {},
   "outputs": [],
   "source": [
    "positions_list = positions[positions['category'] == 'firefighter']['position'].tolist()"
   ]
  },
  {
   "cell_type": "markdown",
   "metadata": {},
   "source": [
    "### Combine employer name and type (i.e. Los Angeles City vs. Los Angeles County). "
   ]
  },
  {
   "cell_type": "code",
   "execution_count": 9,
   "metadata": {},
   "outputs": [],
   "source": [
    "payroll['employer_full'] = (payroll['employer'] + '_' + payroll['type']).str.replace(' ', '_')"
   ]
  },
  {
   "cell_type": "markdown",
   "metadata": {},
   "source": [
    "### Tag each record it the employee's title matches our 'firefighter' list"
   ]
  },
  {
   "cell_type": "code",
   "execution_count": 82,
   "metadata": {},
   "outputs": [],
   "source": [
    "payroll['fire'] = (payroll['position'].isin(positions_list)) | \\\n",
    "                    ((payroll['position'].str.contains('ENGINEER')) &\\\n",
    "                     (payroll['employer'].str.contains('FIRE')))"
   ]
  },
  {
   "cell_type": "code",
   "execution_count": 83,
   "metadata": {},
   "outputs": [
    {
     "data": {
      "text/plain": [
       "False    8299010\n",
       "True      299431\n",
       "Name: fire, dtype: int64"
      ]
     },
     "execution_count": 83,
     "metadata": {},
     "output_type": "execute_result"
    }
   ],
   "source": [
    "payroll['fire'].value_counts()"
   ]
  },
  {
   "cell_type": "markdown",
   "metadata": {},
   "source": [
    "### Read just the 'firefighter' payroll records into a dataframe"
   ]
  },
  {
   "cell_type": "code",
   "execution_count": 130,
   "metadata": {},
   "outputs": [],
   "source": [
    "payroll_fire = pd.DataFrame(payroll[payroll['fire'] == True])"
   ]
  },
  {
   "cell_type": "code",
   "execution_count": 131,
   "metadata": {},
   "outputs": [],
   "source": [
    "payroll_fire_la = pd.DataFrame(payroll[(payroll['fire'] == True) & (payroll['employercounty'] == 'LOS ANGELES')])"
   ]
  },
  {
   "cell_type": "markdown",
   "metadata": {},
   "source": [
    "### Check out individual records for one place"
   ]
  },
  {
   "cell_type": "code",
   "execution_count": 132,
   "metadata": {},
   "outputs": [],
   "source": [
    "place = payroll_fire[payroll_fire['employer'] == 'NOVATO FIRE PROTECTION DISTRICT']"
   ]
  },
  {
   "cell_type": "markdown",
   "metadata": {},
   "source": [
    "### Convert money columns, imported as strings, into numeric data types"
   ]
  },
  {
   "cell_type": "code",
   "execution_count": 133,
   "metadata": {},
   "outputs": [],
   "source": [
    "payroll_fire[['overtime', 'wages']] = payroll_fire[['overtime', 'wages']].astype(float)"
   ]
  },
  {
   "cell_type": "code",
   "execution_count": 134,
   "metadata": {},
   "outputs": [],
   "source": [
    "payroll_fire_la[['overtime', 'wages']] = payroll_fire_la[['overtime', 'wages']].astype(float)"
   ]
  },
  {
   "cell_type": "markdown",
   "metadata": {},
   "source": [
    "### Group by employer/type and sum overtime expenses by year"
   ]
  },
  {
   "cell_type": "code",
   "execution_count": 135,
   "metadata": {},
   "outputs": [],
   "source": [
    "payroll_fire_mean = payroll_fire.groupby(['employer', 'year', 'type']).agg({'overtime':'mean'}).reset_index()\n",
    "payroll_fire_sum = payroll_fire.groupby(['employer', 'year', 'type']).agg({'overtime':'sum'}).reset_index()"
   ]
  },
  {
   "cell_type": "code",
   "execution_count": 224,
   "metadata": {},
   "outputs": [
    {
     "data": {
      "text/html": [
       "<div>\n",
       "<style scoped>\n",
       "    .dataframe tbody tr th:only-of-type {\n",
       "        vertical-align: middle;\n",
       "    }\n",
       "\n",
       "    .dataframe tbody tr th {\n",
       "        vertical-align: top;\n",
       "    }\n",
       "\n",
       "    .dataframe thead th {\n",
       "        text-align: right;\n",
       "    }\n",
       "</style>\n",
       "<table border=\"1\" class=\"dataframe\">\n",
       "  <thead>\n",
       "    <tr style=\"text-align: right;\">\n",
       "      <th></th>\n",
       "      <th>overtime</th>\n",
       "    </tr>\n",
       "    <tr>\n",
       "      <th>type</th>\n",
       "      <th></th>\n",
       "    </tr>\n",
       "  </thead>\n",
       "  <tbody>\n",
       "    <tr>\n",
       "      <th>CITY</th>\n",
       "      <td>$13,688</td>\n",
       "    </tr>\n",
       "    <tr>\n",
       "      <th>COUNTY</th>\n",
       "      <td>$7,272</td>\n",
       "    </tr>\n",
       "    <tr>\n",
       "      <th>SPECIAL DISTRICT</th>\n",
       "      <td>$4,855</td>\n",
       "    </tr>\n",
       "    <tr>\n",
       "      <th>STATE DEPARTMENT</th>\n",
       "      <td>$4,589</td>\n",
       "    </tr>\n",
       "  </tbody>\n",
       "</table>\n",
       "</div>"
      ],
      "text/plain": [
       "                  overtime\n",
       "type                      \n",
       "CITY               $13,688\n",
       "COUNTY              $7,272\n",
       "SPECIAL DISTRICT    $4,855\n",
       "STATE DEPARTMENT    $4,589"
      ]
     },
     "execution_count": 224,
     "metadata": {},
     "output_type": "execute_result"
    }
   ],
   "source": [
    "payroll_fire_mean.groupby(['type']).agg('mean')"
   ]
  },
  {
   "cell_type": "markdown",
   "metadata": {},
   "source": [
    "---"
   ]
  },
  {
   "cell_type": "markdown",
   "metadata": {},
   "source": [
    "### Pivot on employer and widen the dataframe across the years"
   ]
  },
  {
   "cell_type": "code",
   "execution_count": 196,
   "metadata": {},
   "outputs": [],
   "source": [
    "payroll_fire_mean_pivot = pd.pivot_table(payroll_fire_mean, \\\n",
    "                            values='overtime', index=['employer', 'type'], columns=['year']).fillna(0)"
   ]
  },
  {
   "cell_type": "code",
   "execution_count": 210,
   "metadata": {},
   "outputs": [],
   "source": [
    "fire_pivot = payroll_fire_mean_pivot[['2011','2014','2018']].astype(float).reset_index()\n",
    "fire_pivot = fire_pivot[(fire_pivot['2011'] > 1000) &\\\n",
    "                        (fire_pivot['2014'] > 1000) &\\\n",
    "                        (fire_pivot['2018'] > 1000)]"
   ]
  },
  {
   "cell_type": "code",
   "execution_count": 211,
   "metadata": {},
   "outputs": [],
   "source": [
    "fire_pivot['2011_adjusted'] = cpi.inflate((fire_pivot['2011']), 2011).astype(float)\n",
    "fire_pivot['2014_adjusted'] = cpi.inflate((fire_pivot['2014']), 2014).astype(float)\n",
    "fire_pivot['2018_adjusted'] = cpi.inflate((fire_pivot['2018']), 2018).astype(float)"
   ]
  },
  {
   "cell_type": "code",
   "execution_count": 212,
   "metadata": {},
   "outputs": [],
   "source": [
    "fire_pivot['increase_adjusted_pct'] = (((fire_pivot['2018_adjusted'] - \\\n",
    "                                    fire_pivot['2011_adjusted'])/fire_pivot['2011_adjusted'])*100).astype(int)"
   ]
  },
  {
   "cell_type": "code",
   "execution_count": 213,
   "metadata": {},
   "outputs": [
    {
     "data": {
      "text/html": [
       "<div>\n",
       "<style scoped>\n",
       "    .dataframe tbody tr th:only-of-type {\n",
       "        vertical-align: middle;\n",
       "    }\n",
       "\n",
       "    .dataframe tbody tr th {\n",
       "        vertical-align: top;\n",
       "    }\n",
       "\n",
       "    .dataframe thead th {\n",
       "        text-align: right;\n",
       "    }\n",
       "</style>\n",
       "<table border=\"1\" class=\"dataframe\">\n",
       "  <thead>\n",
       "    <tr style=\"text-align: right;\">\n",
       "      <th>year</th>\n",
       "      <th>employer</th>\n",
       "      <th>type</th>\n",
       "      <th>2011</th>\n",
       "      <th>2014</th>\n",
       "      <th>2018</th>\n",
       "      <th>2011_adjusted</th>\n",
       "      <th>2014_adjusted</th>\n",
       "      <th>2018_adjusted</th>\n",
       "      <th>increase_adjusted_pct</th>\n",
       "    </tr>\n",
       "  </thead>\n",
       "  <tbody>\n",
       "    <tr>\n",
       "      <th>2</th>\n",
       "      <td>ALAMEDA</td>\n",
       "      <td>COUNTY</td>\n",
       "      <td>$1,752</td>\n",
       "      <td>$2,810</td>\n",
       "      <td>$43,325</td>\n",
       "      <td>$1,956</td>\n",
       "      <td>$2,981</td>\n",
       "      <td>$43,325</td>\n",
       "      <td>2115</td>\n",
       "    </tr>\n",
       "    <tr>\n",
       "      <th>521</th>\n",
       "      <td>MONTEZUMA FIRE PROTECTION DISTRICT (SOLANO)</td>\n",
       "      <td>SPECIAL DISTRICT</td>\n",
       "      <td>$2,712</td>\n",
       "      <td>$12,000</td>\n",
       "      <td>$64,092</td>\n",
       "      <td>$3,027</td>\n",
       "      <td>$12,729</td>\n",
       "      <td>$64,092</td>\n",
       "      <td>2017</td>\n",
       "    </tr>\n",
       "    <tr>\n",
       "      <th>610</th>\n",
       "      <td>PENN VALLEY FIRE PROTECTION DISTRICT</td>\n",
       "      <td>SPECIAL DISTRICT</td>\n",
       "      <td>$1,244</td>\n",
       "      <td>$13,420</td>\n",
       "      <td>$20,826</td>\n",
       "      <td>$1,389</td>\n",
       "      <td>$14,235</td>\n",
       "      <td>$20,826</td>\n",
       "      <td>1399</td>\n",
       "    </tr>\n",
       "    <tr>\n",
       "      <th>680</th>\n",
       "      <td>RUSSIAN RIVER FIRE PROTECTION DISTRICT</td>\n",
       "      <td>SPECIAL DISTRICT</td>\n",
       "      <td>$1,524</td>\n",
       "      <td>$9,902</td>\n",
       "      <td>$21,478</td>\n",
       "      <td>$1,702</td>\n",
       "      <td>$10,503</td>\n",
       "      <td>$21,478</td>\n",
       "      <td>1162</td>\n",
       "    </tr>\n",
       "    <tr>\n",
       "      <th>256</th>\n",
       "      <td>FAIRFIELD</td>\n",
       "      <td>CITY</td>\n",
       "      <td>$3,541</td>\n",
       "      <td>$21,413</td>\n",
       "      <td>$49,007</td>\n",
       "      <td>$3,953</td>\n",
       "      <td>$22,713</td>\n",
       "      <td>$49,007</td>\n",
       "      <td>1139</td>\n",
       "    </tr>\n",
       "    <tr>\n",
       "      <th>773</th>\n",
       "      <td>SEMITROPIC WATER STORAGE DISTRICT</td>\n",
       "      <td>SPECIAL DISTRICT</td>\n",
       "      <td>$1,126</td>\n",
       "      <td>$2,840</td>\n",
       "      <td>$14,495</td>\n",
       "      <td>$1,256</td>\n",
       "      <td>$3,012</td>\n",
       "      <td>$14,495</td>\n",
       "      <td>1053</td>\n",
       "    </tr>\n",
       "    <tr>\n",
       "      <th>547</th>\n",
       "      <td>NEWCASTLE FIRE PROTECTION DISTRICT</td>\n",
       "      <td>SPECIAL DISTRICT</td>\n",
       "      <td>$1,412</td>\n",
       "      <td>$3,316</td>\n",
       "      <td>$13,807</td>\n",
       "      <td>$1,576</td>\n",
       "      <td>$3,517</td>\n",
       "      <td>$13,807</td>\n",
       "      <td>776</td>\n",
       "    </tr>\n",
       "    <tr>\n",
       "      <th>426</th>\n",
       "      <td>LINCOLN</td>\n",
       "      <td>CITY</td>\n",
       "      <td>$3,390</td>\n",
       "      <td>$18,112</td>\n",
       "      <td>$32,437</td>\n",
       "      <td>$3,785</td>\n",
       "      <td>$19,212</td>\n",
       "      <td>$32,437</td>\n",
       "      <td>757</td>\n",
       "    </tr>\n",
       "    <tr>\n",
       "      <th>544</th>\n",
       "      <td>NEVADA COUNTY CONSOLIDATED FIRE DISTRICT</td>\n",
       "      <td>SPECIAL DISTRICT</td>\n",
       "      <td>$3,708</td>\n",
       "      <td>$16,358</td>\n",
       "      <td>$29,971</td>\n",
       "      <td>$4,140</td>\n",
       "      <td>$17,351</td>\n",
       "      <td>$29,971</td>\n",
       "      <td>623</td>\n",
       "    </tr>\n",
       "    <tr>\n",
       "      <th>239</th>\n",
       "      <td>EL MEDIO FIRE PROTECTION DISTRICT</td>\n",
       "      <td>SPECIAL DISTRICT</td>\n",
       "      <td>$1,337</td>\n",
       "      <td>$2,930</td>\n",
       "      <td>$10,706</td>\n",
       "      <td>$1,493</td>\n",
       "      <td>$3,108</td>\n",
       "      <td>$10,706</td>\n",
       "      <td>617</td>\n",
       "    </tr>\n",
       "  </tbody>\n",
       "</table>\n",
       "</div>"
      ],
      "text/plain": [
       "year                                     employer              type   2011  \\\n",
       "2                                         ALAMEDA            COUNTY $1,752   \n",
       "521   MONTEZUMA FIRE PROTECTION DISTRICT (SOLANO)  SPECIAL DISTRICT $2,712   \n",
       "610          PENN VALLEY FIRE PROTECTION DISTRICT  SPECIAL DISTRICT $1,244   \n",
       "680        RUSSIAN RIVER FIRE PROTECTION DISTRICT  SPECIAL DISTRICT $1,524   \n",
       "256                                     FAIRFIELD              CITY $3,541   \n",
       "773             SEMITROPIC WATER STORAGE DISTRICT  SPECIAL DISTRICT $1,126   \n",
       "547            NEWCASTLE FIRE PROTECTION DISTRICT  SPECIAL DISTRICT $1,412   \n",
       "426                                       LINCOLN              CITY $3,390   \n",
       "544      NEVADA COUNTY CONSOLIDATED FIRE DISTRICT  SPECIAL DISTRICT $3,708   \n",
       "239             EL MEDIO FIRE PROTECTION DISTRICT  SPECIAL DISTRICT $1,337   \n",
       "\n",
       "year    2014    2018  2011_adjusted  2014_adjusted  2018_adjusted  \\\n",
       "2     $2,810 $43,325         $1,956         $2,981        $43,325   \n",
       "521  $12,000 $64,092         $3,027        $12,729        $64,092   \n",
       "610  $13,420 $20,826         $1,389        $14,235        $20,826   \n",
       "680   $9,902 $21,478         $1,702        $10,503        $21,478   \n",
       "256  $21,413 $49,007         $3,953        $22,713        $49,007   \n",
       "773   $2,840 $14,495         $1,256         $3,012        $14,495   \n",
       "547   $3,316 $13,807         $1,576         $3,517        $13,807   \n",
       "426  $18,112 $32,437         $3,785        $19,212        $32,437   \n",
       "544  $16,358 $29,971         $4,140        $17,351        $29,971   \n",
       "239   $2,930 $10,706         $1,493         $3,108        $10,706   \n",
       "\n",
       "year  increase_adjusted_pct  \n",
       "2                      2115  \n",
       "521                    2017  \n",
       "610                    1399  \n",
       "680                    1162  \n",
       "256                    1139  \n",
       "773                    1053  \n",
       "547                     776  \n",
       "426                     757  \n",
       "544                     623  \n",
       "239                     617  "
      ]
     },
     "execution_count": 213,
     "metadata": {},
     "output_type": "execute_result"
    }
   ],
   "source": [
    "fire_pivot.sort_values(by='increase_adjusted_pct', ascending=False).head(10)"
   ]
  },
  {
   "cell_type": "code",
   "execution_count": 214,
   "metadata": {},
   "outputs": [],
   "source": [
    "fire_pivot_grouped = \\\n",
    "fire_pivot.groupby(['type']).agg({'2011_adjusted':'mean','2014_adjusted':'mean','2018_adjusted':'mean'}).reset_index()"
   ]
  },
  {
   "cell_type": "code",
   "execution_count": 215,
   "metadata": {},
   "outputs": [
    {
     "data": {
      "text/html": [
       "<div>\n",
       "<style scoped>\n",
       "    .dataframe tbody tr th:only-of-type {\n",
       "        vertical-align: middle;\n",
       "    }\n",
       "\n",
       "    .dataframe tbody tr th {\n",
       "        vertical-align: top;\n",
       "    }\n",
       "\n",
       "    .dataframe thead th {\n",
       "        text-align: right;\n",
       "    }\n",
       "</style>\n",
       "<table border=\"1\" class=\"dataframe\">\n",
       "  <thead>\n",
       "    <tr style=\"text-align: right;\">\n",
       "      <th></th>\n",
       "      <th>type</th>\n",
       "      <th>2011_adjusted</th>\n",
       "      <th>2014_adjusted</th>\n",
       "      <th>2018_adjusted</th>\n",
       "    </tr>\n",
       "  </thead>\n",
       "  <tbody>\n",
       "    <tr>\n",
       "      <th>0</th>\n",
       "      <td>CITY</td>\n",
       "      <td>$20,328</td>\n",
       "      <td>$24,808</td>\n",
       "      <td>$31,616</td>\n",
       "    </tr>\n",
       "    <tr>\n",
       "      <th>1</th>\n",
       "      <td>COUNTY</td>\n",
       "      <td>$13,133</td>\n",
       "      <td>$16,682</td>\n",
       "      <td>$24,073</td>\n",
       "    </tr>\n",
       "    <tr>\n",
       "      <th>2</th>\n",
       "      <td>SPECIAL DISTRICT</td>\n",
       "      <td>$11,111</td>\n",
       "      <td>$14,834</td>\n",
       "      <td>$21,260</td>\n",
       "    </tr>\n",
       "    <tr>\n",
       "      <th>3</th>\n",
       "      <td>STATE DEPARTMENT</td>\n",
       "      <td>$9,774</td>\n",
       "      <td>$13,032</td>\n",
       "      <td>$17,684</td>\n",
       "    </tr>\n",
       "  </tbody>\n",
       "</table>\n",
       "</div>"
      ],
      "text/plain": [
       "               type  2011_adjusted  2014_adjusted  2018_adjusted\n",
       "0              CITY        $20,328        $24,808        $31,616\n",
       "1            COUNTY        $13,133        $16,682        $24,073\n",
       "2  SPECIAL DISTRICT        $11,111        $14,834        $21,260\n",
       "3  STATE DEPARTMENT         $9,774        $13,032        $17,684"
      ]
     },
     "execution_count": 215,
     "metadata": {},
     "output_type": "execute_result"
    }
   ],
   "source": [
    "fire_pivot_grouped.head()"
   ]
  },
  {
   "cell_type": "code",
   "execution_count": 216,
   "metadata": {},
   "outputs": [],
   "source": [
    "fire_pivot_melt = pd.melt(fire_pivot_grouped, id_vars=['type'], value_vars=['2011_adjusted', '2018_adjusted'],\\\n",
    "                          var_name='year', value_name='mean_overtime')\n",
    "fire_pivot_melt['year'] = fire_pivot_melt['year'].str.replace('_adjusted','')"
   ]
  },
  {
   "cell_type": "code",
   "execution_count": 217,
   "metadata": {},
   "outputs": [
    {
     "data": {
      "text/html": [
       "<div>\n",
       "<style scoped>\n",
       "    .dataframe tbody tr th:only-of-type {\n",
       "        vertical-align: middle;\n",
       "    }\n",
       "\n",
       "    .dataframe tbody tr th {\n",
       "        vertical-align: top;\n",
       "    }\n",
       "\n",
       "    .dataframe thead th {\n",
       "        text-align: right;\n",
       "    }\n",
       "</style>\n",
       "<table border=\"1\" class=\"dataframe\">\n",
       "  <thead>\n",
       "    <tr style=\"text-align: right;\">\n",
       "      <th></th>\n",
       "      <th>type</th>\n",
       "      <th>year</th>\n",
       "      <th>mean_overtime</th>\n",
       "    </tr>\n",
       "  </thead>\n",
       "  <tbody>\n",
       "    <tr>\n",
       "      <th>0</th>\n",
       "      <td>CITY</td>\n",
       "      <td>2011</td>\n",
       "      <td>$20,328</td>\n",
       "    </tr>\n",
       "    <tr>\n",
       "      <th>1</th>\n",
       "      <td>COUNTY</td>\n",
       "      <td>2011</td>\n",
       "      <td>$13,133</td>\n",
       "    </tr>\n",
       "    <tr>\n",
       "      <th>2</th>\n",
       "      <td>SPECIAL DISTRICT</td>\n",
       "      <td>2011</td>\n",
       "      <td>$11,111</td>\n",
       "    </tr>\n",
       "    <tr>\n",
       "      <th>3</th>\n",
       "      <td>STATE DEPARTMENT</td>\n",
       "      <td>2011</td>\n",
       "      <td>$9,774</td>\n",
       "    </tr>\n",
       "    <tr>\n",
       "      <th>4</th>\n",
       "      <td>CITY</td>\n",
       "      <td>2018</td>\n",
       "      <td>$31,616</td>\n",
       "    </tr>\n",
       "    <tr>\n",
       "      <th>5</th>\n",
       "      <td>COUNTY</td>\n",
       "      <td>2018</td>\n",
       "      <td>$24,073</td>\n",
       "    </tr>\n",
       "    <tr>\n",
       "      <th>6</th>\n",
       "      <td>SPECIAL DISTRICT</td>\n",
       "      <td>2018</td>\n",
       "      <td>$21,260</td>\n",
       "    </tr>\n",
       "    <tr>\n",
       "      <th>7</th>\n",
       "      <td>STATE DEPARTMENT</td>\n",
       "      <td>2018</td>\n",
       "      <td>$17,684</td>\n",
       "    </tr>\n",
       "  </tbody>\n",
       "</table>\n",
       "</div>"
      ],
      "text/plain": [
       "               type  year  mean_overtime\n",
       "0              CITY  2011        $20,328\n",
       "1            COUNTY  2011        $13,133\n",
       "2  SPECIAL DISTRICT  2011        $11,111\n",
       "3  STATE DEPARTMENT  2011         $9,774\n",
       "4              CITY  2018        $31,616\n",
       "5            COUNTY  2018        $24,073\n",
       "6  SPECIAL DISTRICT  2018        $21,260\n",
       "7  STATE DEPARTMENT  2018        $17,684"
      ]
     },
     "execution_count": 217,
     "metadata": {},
     "output_type": "execute_result"
    }
   ],
   "source": [
    "fire_pivot_melt"
   ]
  },
  {
   "cell_type": "code",
   "execution_count": 222,
   "metadata": {},
   "outputs": [
    {
     "data": {
      "application/javascript": [
       "const spec = {\"config\": {\"view\": {\"width\": 800, \"height\": 450}, \"background\": \"#ffffff\", \"title\": {\"anchor\": \"start\", \"font\": \"Benton Gothic Bold, sans\", \"fontColor\": \"#000000\", \"fontSize\": 22, \"fontWeight\": \"normal\"}, \"arc\": {\"fill\": \"#82c6df\"}, \"area\": {\"fill\": \"#82c6df\"}, \"line\": {\"stroke\": \"#82c6df\", \"strokeWidth\": 3}, \"path\": {\"stroke\": \"#82c6df\"}, \"rect\": {\"fill\": \"#82c6df\"}, \"shape\": {\"stroke\": \"#82c6df\"}, \"bar\": {\"fill\": \"#82c6df\"}, \"point\": {\"stroke\": \"#82c6df\"}, \"symbol\": {\"fill\": \"#82c6df\", \"size\": 30}, \"axis\": {\"titleFont\": \"Benton Gothic Bold, sans\", \"titleFontSize\": 13, \"titleFontWeight\": \"normal\", \"labelFont\": \"Benton Gothic, sans\", \"labelFontSize\": 11.5, \"labelFontWeight\": \"normal\"}, \"axisX\": {\"labelAngle\": 0, \"labelPadding\": 4, \"tickSize\": 3}, \"axisY\": {\"labelBaseline\": \"middle\", \"maxExtent\": 45, \"minExtent\": 45, \"tickSize\": 2, \"titleAlign\": \"left\", \"titleAngle\": 0, \"titleX\": -45, \"titleY\": -11}, \"legend\": {\"titleFont\": \"Benton Gothic Bold, sans\", \"titleFontSize\": 13, \"titleFontWeight\": \"normal\", \"symbolType\": \"square\", \"labelFont\": \"Benton Gothic, sans\", \"labelFontSize\": 11.5}, \"range\": {\"category\": [\"#3580b1\", \"#ec8431\", \"#ab7fb4\", \"#c89d29\", \"#adc839\", \"#829eb1\"], \"diverging\": [\"#e68a4f\", \"#f4bb6a\", \"#f9e39c\", \"#dadfe2\", \"#a6b7c6\", \"#849eae\"], \"heatmap\": [\"#fbf2c7\", \"#f9e39c\", \"#f8d36e\", \"#f4bb6a\", \"#e68a4f\", \"#d15a40\", \"#ab4232\"], \"ordinal\": [\"#fbf2c7\", \"#f9e39c\", \"#f8d36e\", \"#f4bb6a\", \"#e68a4f\", \"#d15a40\", \"#ab4232\"], \"ramp\": [\"#fbf2c7\", \"#f9e39c\", \"#f8d36e\", \"#f4bb6a\", \"#e68a4f\", \"#d15a40\", \"#ab4232\"]}}, \"data\": {\"name\": \"data-f7f0fb68add62ca13cb8fe1cc0fd9c93\"}, \"mark\": \"line\", \"encoding\": {\"color\": {\"type\": \"nominal\", \"field\": \"type\", \"title\": \"Fire agency type\"}, \"x\": {\"type\": \"ordinal\", \"field\": \"year\", \"title\": \"\"}, \"y\": {\"type\": \"quantitative\", \"axis\": {\"format\": \"$,N\", \"tickCount\": 5}, \"field\": \"mean_overtime\", \"title\": \" \"}}, \"height\": 300, \"title\": \"Avg. overtime at agencies w/ > $1,000\", \"width\": 250, \"$schema\": \"https://vega.github.io/schema/vega-lite/v3.4.0.json\", \"datasets\": {\"data-f7f0fb68add62ca13cb8fe1cc0fd9c93\": [{\"type\": \"CITY\", \"year\": \"2011\", \"mean_overtime\": 20327.731448208047}, {\"type\": \"COUNTY\", \"year\": \"2011\", \"mean_overtime\": 13133.138784755942}, {\"type\": \"SPECIAL DISTRICT\", \"year\": \"2011\", \"mean_overtime\": 11110.995302153873}, {\"type\": \"STATE DEPARTMENT\", \"year\": \"2011\", \"mean_overtime\": 9774.31087603168}, {\"type\": \"CITY\", \"year\": \"2018\", \"mean_overtime\": 31616.00401440126}, {\"type\": \"COUNTY\", \"year\": \"2018\", \"mean_overtime\": 24073.202844342937}, {\"type\": \"SPECIAL DISTRICT\", \"year\": \"2018\", \"mean_overtime\": 21259.936632853798}, {\"type\": \"STATE DEPARTMENT\", \"year\": \"2018\", \"mean_overtime\": 17684.46297635777}]}};\n",
       "const opt = {};\n",
       "const type = \"vega-lite\";\n",
       "const id = \"e13dee2d-a6ab-42fe-85c2-6049a85a8b81\";\n",
       "\n",
       "const output_area = this;\n",
       "\n",
       "require([\"nbextensions/jupyter-vega/index\"], function(vega) {\n",
       "  const target = document.createElement(\"div\");\n",
       "  target.id = id;\n",
       "  target.className = \"vega-embed\";\n",
       "\n",
       "  const style = document.createElement(\"style\");\n",
       "  style.textContent = [\n",
       "    \".vega-embed .error p {\",\n",
       "    \"  color: firebrick;\",\n",
       "    \"  font-size: 14px;\",\n",
       "    \"}\",\n",
       "  ].join(\"\\\\n\");\n",
       "\n",
       "  // element is a jQuery wrapped DOM element inside the output area\n",
       "  // see http://ipython.readthedocs.io/en/stable/api/generated/\\\n",
       "  // IPython.display.html#IPython.display.Javascript.__init__\n",
       "  element[0].appendChild(target);\n",
       "  element[0].appendChild(style);\n",
       "\n",
       "  vega.render(\"#\" + id, spec, type, opt, output_area);\n",
       "}, function (err) {\n",
       "  if (err.requireType !== \"scripterror\") {\n",
       "    throw(err);\n",
       "  }\n",
       "});\n"
      ],
      "text/plain": [
       "<vega.vegalite.VegaLite at 0x25199a5f8>"
      ]
     },
     "metadata": {
      "jupyter-vega": "#e13dee2d-a6ab-42fe-85c2-6049a85a8b81"
     },
     "output_type": "display_data"
    },
    {
     "data": {
      "text/plain": []
     },
     "execution_count": 222,
     "metadata": {},
     "output_type": "execute_result"
    },
    {
     "data": {
      "image/png": "[encoded data removed]"
     },
     "metadata": {
      "jupyter-vega": "#e13dee2d-a6ab-42fe-85c2-6049a85a8b81"
     },
     "output_type": "display_data"
    }
   ],
   "source": [
    "alt.Chart(fire_pivot_melt).mark_line().encode(\n",
    "    x=alt.X('year:O', title=''),\n",
    "    y=alt.Y('mean_overtime', title=' ', axis=alt.Axis(tickCount=5, format='$,N')),\n",
    "    color=alt.Color('type', title='Fire agency type')\n",
    ").properties(width=250, height=300, title='Avg. overtime at agencies w/ > $1,000')"
   ]
  },
  {
   "cell_type": "markdown",
   "metadata": {},
   "source": [
    "### How much did overtime go up for each agency type?"
   ]
  },
  {
   "cell_type": "code",
   "execution_count": 191,
   "metadata": {},
   "outputs": [],
   "source": [
    "employers_grouped = payroll_fire.groupby(['type','year']).agg({'overtime': 'mean'}).reset_index()\n",
    "employers_grouped_la = payroll_fire_la.groupby(['type','year']).agg({'overtime': 'mean'}).reset_index()"
   ]
  },
  {
   "cell_type": "code",
   "execution_count": 194,
   "metadata": {},
   "outputs": [
    {
     "data": {
      "text/html": [
       "<div>\n",
       "<style scoped>\n",
       "    .dataframe tbody tr th:only-of-type {\n",
       "        vertical-align: middle;\n",
       "    }\n",
       "\n",
       "    .dataframe tbody tr th {\n",
       "        vertical-align: top;\n",
       "    }\n",
       "\n",
       "    .dataframe thead th {\n",
       "        text-align: right;\n",
       "    }\n",
       "</style>\n",
       "<table border=\"1\" class=\"dataframe\">\n",
       "  <thead>\n",
       "    <tr style=\"text-align: right;\">\n",
       "      <th></th>\n",
       "      <th>type</th>\n",
       "      <th>year</th>\n",
       "      <th>overtime</th>\n",
       "    </tr>\n",
       "  </thead>\n",
       "  <tbody>\n",
       "    <tr>\n",
       "      <th>0</th>\n",
       "      <td>CITY</td>\n",
       "      <td>2011</td>\n",
       "      <td>$19,788</td>\n",
       "    </tr>\n",
       "    <tr>\n",
       "      <th>1</th>\n",
       "      <td>CITY</td>\n",
       "      <td>2012</td>\n",
       "      <td>$23,617</td>\n",
       "    </tr>\n",
       "    <tr>\n",
       "      <th>2</th>\n",
       "      <td>CITY</td>\n",
       "      <td>2013</td>\n",
       "      <td>$26,373</td>\n",
       "    </tr>\n",
       "    <tr>\n",
       "      <th>3</th>\n",
       "      <td>CITY</td>\n",
       "      <td>2014</td>\n",
       "      <td>$28,535</td>\n",
       "    </tr>\n",
       "    <tr>\n",
       "      <th>4</th>\n",
       "      <td>CITY</td>\n",
       "      <td>2015</td>\n",
       "      <td>$31,363</td>\n",
       "    </tr>\n",
       "    <tr>\n",
       "      <th>5</th>\n",
       "      <td>CITY</td>\n",
       "      <td>2016</td>\n",
       "      <td>$31,570</td>\n",
       "    </tr>\n",
       "    <tr>\n",
       "      <th>6</th>\n",
       "      <td>CITY</td>\n",
       "      <td>2017</td>\n",
       "      <td>$33,268</td>\n",
       "    </tr>\n",
       "    <tr>\n",
       "      <th>7</th>\n",
       "      <td>CITY</td>\n",
       "      <td>2018</td>\n",
       "      <td>$34,367</td>\n",
       "    </tr>\n",
       "    <tr>\n",
       "      <th>8</th>\n",
       "      <td>COUNTY</td>\n",
       "      <td>2011</td>\n",
       "      <td>$27,775</td>\n",
       "    </tr>\n",
       "    <tr>\n",
       "      <th>9</th>\n",
       "      <td>COUNTY</td>\n",
       "      <td>2012</td>\n",
       "      <td>$29,663</td>\n",
       "    </tr>\n",
       "    <tr>\n",
       "      <th>10</th>\n",
       "      <td>COUNTY</td>\n",
       "      <td>2013</td>\n",
       "      <td>$32,158</td>\n",
       "    </tr>\n",
       "    <tr>\n",
       "      <th>11</th>\n",
       "      <td>COUNTY</td>\n",
       "      <td>2014</td>\n",
       "      <td>$34,033</td>\n",
       "    </tr>\n",
       "    <tr>\n",
       "      <th>12</th>\n",
       "      <td>COUNTY</td>\n",
       "      <td>2015</td>\n",
       "      <td>$38,236</td>\n",
       "    </tr>\n",
       "    <tr>\n",
       "      <th>13</th>\n",
       "      <td>COUNTY</td>\n",
       "      <td>2016</td>\n",
       "      <td>$40,369</td>\n",
       "    </tr>\n",
       "    <tr>\n",
       "      <th>14</th>\n",
       "      <td>COUNTY</td>\n",
       "      <td>2017</td>\n",
       "      <td>$42,725</td>\n",
       "    </tr>\n",
       "    <tr>\n",
       "      <th>15</th>\n",
       "      <td>COUNTY</td>\n",
       "      <td>2018</td>\n",
       "      <td>$42,986</td>\n",
       "    </tr>\n",
       "    <tr>\n",
       "      <th>16</th>\n",
       "      <td>SPECIAL DISTRICT</td>\n",
       "      <td>2011</td>\n",
       "      <td>$13,613</td>\n",
       "    </tr>\n",
       "    <tr>\n",
       "      <th>17</th>\n",
       "      <td>SPECIAL DISTRICT</td>\n",
       "      <td>2012</td>\n",
       "      <td>$14,558</td>\n",
       "    </tr>\n",
       "    <tr>\n",
       "      <th>18</th>\n",
       "      <td>SPECIAL DISTRICT</td>\n",
       "      <td>2013</td>\n",
       "      <td>$14,922</td>\n",
       "    </tr>\n",
       "    <tr>\n",
       "      <th>19</th>\n",
       "      <td>SPECIAL DISTRICT</td>\n",
       "      <td>2014</td>\n",
       "      <td>$16,645</td>\n",
       "    </tr>\n",
       "    <tr>\n",
       "      <th>20</th>\n",
       "      <td>SPECIAL DISTRICT</td>\n",
       "      <td>2015</td>\n",
       "      <td>$17,880</td>\n",
       "    </tr>\n",
       "    <tr>\n",
       "      <th>21</th>\n",
       "      <td>SPECIAL DISTRICT</td>\n",
       "      <td>2016</td>\n",
       "      <td>$17,743</td>\n",
       "    </tr>\n",
       "    <tr>\n",
       "      <th>22</th>\n",
       "      <td>SPECIAL DISTRICT</td>\n",
       "      <td>2017</td>\n",
       "      <td>$20,823</td>\n",
       "    </tr>\n",
       "    <tr>\n",
       "      <th>23</th>\n",
       "      <td>SPECIAL DISTRICT</td>\n",
       "      <td>2018</td>\n",
       "      <td>$22,462</td>\n",
       "    </tr>\n",
       "    <tr>\n",
       "      <th>24</th>\n",
       "      <td>STATE DEPARTMENT</td>\n",
       "      <td>2011</td>\n",
       "      <td>$8,395</td>\n",
       "    </tr>\n",
       "    <tr>\n",
       "      <th>25</th>\n",
       "      <td>STATE DEPARTMENT</td>\n",
       "      <td>2012</td>\n",
       "      <td>$13,450</td>\n",
       "    </tr>\n",
       "    <tr>\n",
       "      <th>26</th>\n",
       "      <td>STATE DEPARTMENT</td>\n",
       "      <td>2013</td>\n",
       "      <td>$13,596</td>\n",
       "    </tr>\n",
       "    <tr>\n",
       "      <th>27</th>\n",
       "      <td>STATE DEPARTMENT</td>\n",
       "      <td>2014</td>\n",
       "      <td>$15,855</td>\n",
       "    </tr>\n",
       "    <tr>\n",
       "      <th>28</th>\n",
       "      <td>STATE DEPARTMENT</td>\n",
       "      <td>2015</td>\n",
       "      <td>$16,472</td>\n",
       "    </tr>\n",
       "    <tr>\n",
       "      <th>29</th>\n",
       "      <td>STATE DEPARTMENT</td>\n",
       "      <td>2016</td>\n",
       "      <td>$14,969</td>\n",
       "    </tr>\n",
       "    <tr>\n",
       "      <th>30</th>\n",
       "      <td>STATE DEPARTMENT</td>\n",
       "      <td>2017</td>\n",
       "      <td>$18,865</td>\n",
       "    </tr>\n",
       "    <tr>\n",
       "      <th>31</th>\n",
       "      <td>STATE DEPARTMENT</td>\n",
       "      <td>2018</td>\n",
       "      <td>$22,066</td>\n",
       "    </tr>\n",
       "  </tbody>\n",
       "</table>\n",
       "</div>"
      ],
      "text/plain": [
       "                type  year  overtime\n",
       "0               CITY  2011   $19,788\n",
       "1               CITY  2012   $23,617\n",
       "2               CITY  2013   $26,373\n",
       "3               CITY  2014   $28,535\n",
       "4               CITY  2015   $31,363\n",
       "5               CITY  2016   $31,570\n",
       "6               CITY  2017   $33,268\n",
       "7               CITY  2018   $34,367\n",
       "8             COUNTY  2011   $27,775\n",
       "9             COUNTY  2012   $29,663\n",
       "10            COUNTY  2013   $32,158\n",
       "11            COUNTY  2014   $34,033\n",
       "12            COUNTY  2015   $38,236\n",
       "13            COUNTY  2016   $40,369\n",
       "14            COUNTY  2017   $42,725\n",
       "15            COUNTY  2018   $42,986\n",
       "16  SPECIAL DISTRICT  2011   $13,613\n",
       "17  SPECIAL DISTRICT  2012   $14,558\n",
       "18  SPECIAL DISTRICT  2013   $14,922\n",
       "19  SPECIAL DISTRICT  2014   $16,645\n",
       "20  SPECIAL DISTRICT  2015   $17,880\n",
       "21  SPECIAL DISTRICT  2016   $17,743\n",
       "22  SPECIAL DISTRICT  2017   $20,823\n",
       "23  SPECIAL DISTRICT  2018   $22,462\n",
       "24  STATE DEPARTMENT  2011    $8,395\n",
       "25  STATE DEPARTMENT  2012   $13,450\n",
       "26  STATE DEPARTMENT  2013   $13,596\n",
       "27  STATE DEPARTMENT  2014   $15,855\n",
       "28  STATE DEPARTMENT  2015   $16,472\n",
       "29  STATE DEPARTMENT  2016   $14,969\n",
       "30  STATE DEPARTMENT  2017   $18,865\n",
       "31  STATE DEPARTMENT  2018   $22,066"
      ]
     },
     "execution_count": 194,
     "metadata": {},
     "output_type": "execute_result"
    }
   ],
   "source": [
    "employers_grouped.head(100)"
   ]
  },
  {
   "cell_type": "code",
   "execution_count": 192,
   "metadata": {},
   "outputs": [
    {
     "data": {
      "application/javascript": [
       "const spec = {\"config\": {\"view\": {\"width\": 800, \"height\": 450}, \"background\": \"#ffffff\", \"title\": {\"anchor\": \"start\", \"font\": \"Benton Gothic Bold, sans\", \"fontColor\": \"#000000\", \"fontSize\": 22, \"fontWeight\": \"normal\"}, \"arc\": {\"fill\": \"#82c6df\"}, \"area\": {\"fill\": \"#82c6df\"}, \"line\": {\"stroke\": \"#82c6df\", \"strokeWidth\": 3}, \"path\": {\"stroke\": \"#82c6df\"}, \"rect\": {\"fill\": \"#82c6df\"}, \"shape\": {\"stroke\": \"#82c6df\"}, \"bar\": {\"fill\": \"#82c6df\"}, \"point\": {\"stroke\": \"#82c6df\"}, \"symbol\": {\"fill\": \"#82c6df\", \"size\": 30}, \"axis\": {\"titleFont\": \"Benton Gothic Bold, sans\", \"titleFontSize\": 13, \"titleFontWeight\": \"normal\", \"labelFont\": \"Benton Gothic, sans\", \"labelFontSize\": 11.5, \"labelFontWeight\": \"normal\"}, \"axisX\": {\"labelAngle\": 0, \"labelPadding\": 4, \"tickSize\": 3}, \"axisY\": {\"labelBaseline\": \"middle\", \"maxExtent\": 45, \"minExtent\": 45, \"tickSize\": 2, \"titleAlign\": \"left\", \"titleAngle\": 0, \"titleX\": -45, \"titleY\": -11}, \"legend\": {\"titleFont\": \"Benton Gothic Bold, sans\", \"titleFontSize\": 13, \"titleFontWeight\": \"normal\", \"symbolType\": \"square\", \"labelFont\": \"Benton Gothic, sans\", \"labelFontSize\": 11.5}, \"range\": {\"category\": [\"#3580b1\", \"#ec8431\", \"#ab7fb4\", \"#c89d29\", \"#adc839\", \"#829eb1\"], \"diverging\": [\"#e68a4f\", \"#f4bb6a\", \"#f9e39c\", \"#dadfe2\", \"#a6b7c6\", \"#849eae\"], \"heatmap\": [\"#fbf2c7\", \"#f9e39c\", \"#f8d36e\", \"#f4bb6a\", \"#e68a4f\", \"#d15a40\", \"#ab4232\"], \"ordinal\": [\"#fbf2c7\", \"#f9e39c\", \"#f8d36e\", \"#f4bb6a\", \"#e68a4f\", \"#d15a40\", \"#ab4232\"], \"ramp\": [\"#fbf2c7\", \"#f9e39c\", \"#f8d36e\", \"#f4bb6a\", \"#e68a4f\", \"#d15a40\", \"#ab4232\"]}, \"header\": {\"labelColor\": \"Black\", \"labelFontSize\": 11, \"titleColor\": \"Black\", \"titleFontSize\": 18}}, \"data\": {\"name\": \"data-d9baa4de42d99fc71cd42fe1c307bb6c\"}, \"mark\": \"bar\", \"columns\": 2, \"encoding\": {\"facet\": {\"type\": \"nominal\", \"field\": \"type\", \"title\": \"Average firefighter overtime, by CA fire agency type and year\"}, \"x\": {\"type\": \"nominal\", \"field\": \"year\", \"title\": \"\"}, \"y\": {\"type\": \"quantitative\", \"axis\": {\"format\": \"$,N\", \"tickCount\": 6}, \"field\": \"overtime\", \"title\": \"\"}}, \"height\": 250, \"width\": 250, \"$schema\": \"https://vega.github.io/schema/vega-lite/v3.4.0.json\", \"datasets\": {\"data-d9baa4de42d99fc71cd42fe1c307bb6c\": [{\"type\": \"CITY\", \"year\": \"2011\", \"overtime\": 19787.60013097672}, {\"type\": \"CITY\", \"year\": \"2012\", \"overtime\": 23616.58909338753}, {\"type\": \"CITY\", \"year\": \"2013\", \"overtime\": 26372.63563185717}, {\"type\": \"CITY\", \"year\": \"2014\", \"overtime\": 28535.304473228833}, {\"type\": \"CITY\", \"year\": \"2015\", \"overtime\": 31363.10123960695}, {\"type\": \"CITY\", \"year\": \"2016\", \"overtime\": 31570.498811528178}, {\"type\": \"CITY\", \"year\": \"2017\", \"overtime\": 33267.78734424627}, {\"type\": \"CITY\", \"year\": \"2018\", \"overtime\": 34367.187883394174}, {\"type\": \"COUNTY\", \"year\": \"2011\", \"overtime\": 27775.176145079295}, {\"type\": \"COUNTY\", \"year\": \"2012\", \"overtime\": 29662.82357533177}, {\"type\": \"COUNTY\", \"year\": \"2013\", \"overtime\": 32157.89149491795}, {\"type\": \"COUNTY\", \"year\": \"2014\", \"overtime\": 34032.896930173374}, {\"type\": \"COUNTY\", \"year\": \"2015\", \"overtime\": 38236.334518184645}, {\"type\": \"COUNTY\", \"year\": \"2016\", \"overtime\": 40369.03513245502}, {\"type\": \"COUNTY\", \"year\": \"2017\", \"overtime\": 42725.31538347426}, {\"type\": \"COUNTY\", \"year\": \"2018\", \"overtime\": 42986.14232157734}, {\"type\": \"SPECIAL DISTRICT\", \"year\": \"2011\", \"overtime\": 13613.331634452357}, {\"type\": \"SPECIAL DISTRICT\", \"year\": \"2012\", \"overtime\": 14557.648102444702}, {\"type\": \"SPECIAL DISTRICT\", \"year\": \"2013\", \"overtime\": 14922.038406447322}, {\"type\": \"SPECIAL DISTRICT\", \"year\": \"2014\", \"overtime\": 16645.042195280716}, {\"type\": \"SPECIAL DISTRICT\", \"year\": \"2015\", \"overtime\": 17879.846713538253}, {\"type\": \"SPECIAL DISTRICT\", \"year\": \"2016\", \"overtime\": 17742.584966815866}, {\"type\": \"SPECIAL DISTRICT\", \"year\": \"2017\", \"overtime\": 20822.69223853761}, {\"type\": \"SPECIAL DISTRICT\", \"year\": \"2018\", \"overtime\": 22462.203429923124}, {\"type\": \"STATE DEPARTMENT\", \"year\": \"2011\", \"overtime\": 8395.367884508016}, {\"type\": \"STATE DEPARTMENT\", \"year\": \"2012\", \"overtime\": 13450.316387045485}, {\"type\": \"STATE DEPARTMENT\", \"year\": \"2013\", \"overtime\": 13595.97156760776}, {\"type\": \"STATE DEPARTMENT\", \"year\": \"2014\", \"overtime\": 15854.897980055694}, {\"type\": \"STATE DEPARTMENT\", \"year\": \"2015\", \"overtime\": 16471.990680198673}, {\"type\": \"STATE DEPARTMENT\", \"year\": \"2016\", \"overtime\": 14969.214374607176}, {\"type\": \"STATE DEPARTMENT\", \"year\": \"2017\", \"overtime\": 18865.20167388478}, {\"type\": \"STATE DEPARTMENT\", \"year\": \"2018\", \"overtime\": 22065.986272574577}]}};\n",
       "const opt = {};\n",
       "const type = \"vega-lite\";\n",
       "const id = \"9b0cef43-acbd-4e71-9a58-86d61c0287e0\";\n",
       "\n",
       "const output_area = this;\n",
       "\n",
       "require([\"nbextensions/jupyter-vega/index\"], function(vega) {\n",
       "  const target = document.createElement(\"div\");\n",
       "  target.id = id;\n",
       "  target.className = \"vega-embed\";\n",
       "\n",
       "  const style = document.createElement(\"style\");\n",
       "  style.textContent = [\n",
       "    \".vega-embed .error p {\",\n",
       "    \"  color: firebrick;\",\n",
       "    \"  font-size: 14px;\",\n",
       "    \"}\",\n",
       "  ].join(\"\\\\n\");\n",
       "\n",
       "  // element is a jQuery wrapped DOM element inside the output area\n",
       "  // see http://ipython.readthedocs.io/en/stable/api/generated/\\\n",
       "  // IPython.display.html#IPython.display.Javascript.__init__\n",
       "  element[0].appendChild(target);\n",
       "  element[0].appendChild(style);\n",
       "\n",
       "  vega.render(\"#\" + id, spec, type, opt, output_area);\n",
       "}, function (err) {\n",
       "  if (err.requireType !== \"scripterror\") {\n",
       "    throw(err);\n",
       "  }\n",
       "});\n"
      ],
      "text/plain": [
       "<vega.vegalite.VegaLite at 0x2447c4be0>"
      ]
     },
     "metadata": {
      "jupyter-vega": "#9b0cef43-acbd-4e71-9a58-86d61c0287e0"
     },
     "output_type": "display_data"
    },
    {
     "data": {
      "text/plain": []
     },
     "execution_count": 192,
     "metadata": {},
     "output_type": "execute_result"
    },
    {
     "data": {
      "image/png": "[encoded data removed]"
     },
     "metadata": {
      "jupyter-vega": "#9b0cef43-acbd-4e71-9a58-86d61c0287e0"
     },
     "output_type": "display_data"
    }
   ],
   "source": [
    "chart = alt.Chart(employers_grouped).mark_bar().encode(\n",
    "    x=alt.X('year:N', title=''),\n",
    "    y=alt.Y('overtime:Q', title='', axis=alt.Axis(format='$,N', tickCount=6)),\n",
    "    facet=alt.Facet('type:N', title='Average firefighter overtime, by CA fire agency type and year')\n",
    ").properties(width=250,height=250,columns=2)\n",
    "\n",
    "chart.configure_header(\n",
    "    titleColor='Black',\n",
    "    titleFontSize=18,\n",
    "    labelColor='Black',\n",
    "    labelFontSize=11\n",
    ")"
   ]
  },
  {
   "cell_type": "code",
   "execution_count": 26,
   "metadata": {},
   "outputs": [],
   "source": [
    "cities_counties_la = employers_grouped_la[(employers_grouped_la['type'] == 'CITY') |\\\n",
    "                                          (employers_grouped_la['type'] == 'COUNTY')]"
   ]
  },
  {
   "cell_type": "code",
   "execution_count": 27,
   "metadata": {},
   "outputs": [
    {
     "data": {
      "application/javascript": [
       "const spec = {\"config\": {\"view\": {\"width\": 800, \"height\": 450}, \"background\": \"#ffffff\", \"title\": {\"anchor\": \"start\", \"font\": \"Benton Gothic Bold, sans\", \"fontColor\": \"#000000\", \"fontSize\": 22, \"fontWeight\": \"normal\"}, \"arc\": {\"fill\": \"#82c6df\"}, \"area\": {\"fill\": \"#82c6df\"}, \"line\": {\"stroke\": \"#82c6df\", \"strokeWidth\": 3}, \"path\": {\"stroke\": \"#82c6df\"}, \"rect\": {\"fill\": \"#82c6df\"}, \"shape\": {\"stroke\": \"#82c6df\"}, \"bar\": {\"fill\": \"#82c6df\"}, \"point\": {\"stroke\": \"#82c6df\"}, \"symbol\": {\"fill\": \"#82c6df\", \"size\": 30}, \"axis\": {\"titleFont\": \"Benton Gothic Bold, sans\", \"titleFontSize\": 13, \"titleFontWeight\": \"normal\", \"labelFont\": \"Benton Gothic, sans\", \"labelFontSize\": 11.5, \"labelFontWeight\": \"normal\"}, \"axisX\": {\"labelAngle\": 0, \"labelPadding\": 4, \"tickSize\": 3}, \"axisY\": {\"labelBaseline\": \"middle\", \"maxExtent\": 45, \"minExtent\": 45, \"tickSize\": 2, \"titleAlign\": \"left\", \"titleAngle\": 0, \"titleX\": -45, \"titleY\": -11}, \"legend\": {\"titleFont\": \"Benton Gothic Bold, sans\", \"titleFontSize\": 13, \"titleFontWeight\": \"normal\", \"symbolType\": \"square\", \"labelFont\": \"Benton Gothic, sans\", \"labelFontSize\": 11.5}, \"range\": {\"category\": [\"#3580b1\", \"#ec8431\", \"#ab7fb4\", \"#c89d29\", \"#adc839\", \"#829eb1\"], \"diverging\": [\"#e68a4f\", \"#f4bb6a\", \"#f9e39c\", \"#dadfe2\", \"#a6b7c6\", \"#849eae\"], \"heatmap\": [\"#fbf2c7\", \"#f9e39c\", \"#f8d36e\", \"#f4bb6a\", \"#e68a4f\", \"#d15a40\", \"#ab4232\"], \"ordinal\": [\"#fbf2c7\", \"#f9e39c\", \"#f8d36e\", \"#f4bb6a\", \"#e68a4f\", \"#d15a40\", \"#ab4232\"], \"ramp\": [\"#fbf2c7\", \"#f9e39c\", \"#f8d36e\", \"#f4bb6a\", \"#e68a4f\", \"#d15a40\", \"#ab4232\"]}, \"header\": {\"labelColor\": \"Black\", \"labelFontSize\": 11, \"titleColor\": \"Black\", \"titleFontSize\": 18}}, \"data\": {\"name\": \"data-dd96d03e2ee192db8f1b3bf81f5898f1\"}, \"mark\": \"bar\", \"columns\": 2, \"encoding\": {\"facet\": {\"type\": \"nominal\", \"field\": \"type\", \"title\": \"Average firefighter overtime, by LA agency and year\"}, \"x\": {\"type\": \"nominal\", \"field\": \"year\", \"title\": \"\"}, \"y\": {\"type\": \"quantitative\", \"axis\": {\"format\": \"$,f\", \"tickCount\": 6}, \"field\": \"overtime\", \"title\": \"\"}}, \"height\": 250, \"width\": 250, \"$schema\": \"https://vega.github.io/schema/vega-lite/v3.4.0.json\", \"datasets\": {\"data-dd96d03e2ee192db8f1b3bf81f5898f1\": [{\"type\": \"CITY\", \"year\": \"2011\", \"overtime\": 26799.21173594132}, {\"type\": \"CITY\", \"year\": \"2012\", \"overtime\": 30846.807823014773}, {\"type\": \"CITY\", \"year\": \"2013\", \"overtime\": 36599.71068325098}, {\"type\": \"CITY\", \"year\": \"2014\", \"overtime\": 41764.83891797557}, {\"type\": \"CITY\", \"year\": \"2015\", \"overtime\": 45724.956617596705}, {\"type\": \"CITY\", \"year\": \"2016\", \"overtime\": 46142.87128039449}, {\"type\": \"CITY\", \"year\": \"2017\", \"overtime\": 48671.97592592592}, {\"type\": \"CITY\", \"year\": \"2018\", \"overtime\": 49931.778824738736}, {\"type\": \"COUNTY\", \"year\": \"2011\", \"overtime\": 33052.716723549485}, {\"type\": \"COUNTY\", \"year\": \"2012\", \"overtime\": 35509.101762820515}, {\"type\": \"COUNTY\", \"year\": \"2013\", \"overtime\": 39218.79540654699}, {\"type\": \"COUNTY\", \"year\": \"2014\", \"overtime\": 40650.26661413186}, {\"type\": \"COUNTY\", \"year\": \"2015\", \"overtime\": 45642.1875}, {\"type\": \"COUNTY\", \"year\": \"2016\", \"overtime\": 47997.72283150548}, {\"type\": \"COUNTY\", \"year\": \"2017\", \"overtime\": 51480.97696785624}, {\"type\": \"COUNTY\", \"year\": \"2018\", \"overtime\": 50388.119203690214}]}};\n",
       "const opt = {};\n",
       "const type = \"vega-lite\";\n",
       "const id = \"3621d58c-b5f1-4bea-b517-c7cf2872d09d\";\n",
       "\n",
       "const output_area = this;\n",
       "\n",
       "require([\"nbextensions/jupyter-vega/index\"], function(vega) {\n",
       "  const target = document.createElement(\"div\");\n",
       "  target.id = id;\n",
       "  target.className = \"vega-embed\";\n",
       "\n",
       "  const style = document.createElement(\"style\");\n",
       "  style.textContent = [\n",
       "    \".vega-embed .error p {\",\n",
       "    \"  color: firebrick;\",\n",
       "    \"  font-size: 14px;\",\n",
       "    \"}\",\n",
       "  ].join(\"\\\\n\");\n",
       "\n",
       "  // element is a jQuery wrapped DOM element inside the output area\n",
       "  // see http://ipython.readthedocs.io/en/stable/api/generated/\\\n",
       "  // IPython.display.html#IPython.display.Javascript.__init__\n",
       "  element[0].appendChild(target);\n",
       "  element[0].appendChild(style);\n",
       "\n",
       "  vega.render(\"#\" + id, spec, type, opt, output_area);\n",
       "}, function (err) {\n",
       "  if (err.requireType !== \"scripterror\") {\n",
       "    throw(err);\n",
       "  }\n",
       "});\n"
      ],
      "text/plain": [
       "<vega.vegalite.VegaLite at 0x2643fbef0>"
      ]
     },
     "metadata": {
      "jupyter-vega": "#3621d58c-b5f1-4bea-b517-c7cf2872d09d"
     },
     "output_type": "display_data"
    },
    {
     "data": {
      "text/plain": []
     },
     "execution_count": 27,
     "metadata": {},
     "output_type": "execute_result"
    },
    {
     "data": {
      "image/png": "[encoded data removed]"
     },
     "metadata": {
      "jupyter-vega": "#3621d58c-b5f1-4bea-b517-c7cf2872d09d"
     },
     "output_type": "display_data"
    }
   ],
   "source": [
    "chart = alt.Chart(cities_counties_la).mark_bar().encode(\n",
    "    x=alt.X('year:N', title=''),\n",
    "    y=alt.Y('overtime:Q', title='', axis=alt.Axis(format='$,f', tickCount=6)),\n",
    "    facet=alt.Facet('type:N', title='Average firefighter overtime, by LA agency and year')\n",
    ").properties(width=250,height=250,columns=2)\n",
    "\n",
    "chart.configure_header(\n",
    "    titleColor='Black',\n",
    "    titleFontSize=18,\n",
    "    labelColor='Black',\n",
    "    labelFontSize=11\n",
    ")"
   ]
  },
  {
   "cell_type": "markdown",
   "metadata": {},
   "source": [
    "### How much has each agency spent on overtime in the past decade? "
   ]
  },
  {
   "cell_type": "code",
   "execution_count": 28,
   "metadata": {},
   "outputs": [],
   "source": [
    "agency_overtime = payroll_fire.groupby(['employer_full', 'type', 'employercounty','year']).agg({'overtime':'sum'}).reset_index()"
   ]
  },
  {
   "cell_type": "code",
   "execution_count": 29,
   "metadata": {},
   "outputs": [
    {
     "data": {
      "text/html": [
       "<div>\n",
       "<style scoped>\n",
       "    .dataframe tbody tr th:only-of-type {\n",
       "        vertical-align: middle;\n",
       "    }\n",
       "\n",
       "    .dataframe tbody tr th {\n",
       "        vertical-align: top;\n",
       "    }\n",
       "\n",
       "    .dataframe thead th {\n",
       "        text-align: right;\n",
       "    }\n",
       "</style>\n",
       "<table border=\"1\" class=\"dataframe\">\n",
       "  <thead>\n",
       "    <tr style=\"text-align: right;\">\n",
       "      <th></th>\n",
       "      <th>employer_full</th>\n",
       "      <th>type</th>\n",
       "      <th>employercounty</th>\n",
       "      <th>year</th>\n",
       "      <th>overtime</th>\n",
       "    </tr>\n",
       "  </thead>\n",
       "  <tbody>\n",
       "    <tr>\n",
       "      <th>0</th>\n",
       "      <td>AGOURA_HILLS_CITY</td>\n",
       "      <td>CITY</td>\n",
       "      <td>LOS ANGELES</td>\n",
       "      <td>2011</td>\n",
       "      <td>$0</td>\n",
       "    </tr>\n",
       "    <tr>\n",
       "      <th>1</th>\n",
       "      <td>AGOURA_HILLS_CITY</td>\n",
       "      <td>CITY</td>\n",
       "      <td>LOS ANGELES</td>\n",
       "      <td>2012</td>\n",
       "      <td>$0</td>\n",
       "    </tr>\n",
       "    <tr>\n",
       "      <th>2</th>\n",
       "      <td>AGOURA_HILLS_CITY</td>\n",
       "      <td>CITY</td>\n",
       "      <td>LOS ANGELES</td>\n",
       "      <td>2013</td>\n",
       "      <td>$0</td>\n",
       "    </tr>\n",
       "    <tr>\n",
       "      <th>3</th>\n",
       "      <td>ALAMEDA_CITY</td>\n",
       "      <td>CITY</td>\n",
       "      <td>ALAMEDA</td>\n",
       "      <td>2011</td>\n",
       "      <td>$543,140</td>\n",
       "    </tr>\n",
       "    <tr>\n",
       "      <th>4</th>\n",
       "      <td>ALAMEDA_CITY</td>\n",
       "      <td>CITY</td>\n",
       "      <td>ALAMEDA</td>\n",
       "      <td>2012</td>\n",
       "      <td>$378,359</td>\n",
       "    </tr>\n",
       "  </tbody>\n",
       "</table>\n",
       "</div>"
      ],
      "text/plain": [
       "       employer_full  type employercounty  year  overtime\n",
       "0  AGOURA_HILLS_CITY  CITY    LOS ANGELES  2011        $0\n",
       "1  AGOURA_HILLS_CITY  CITY    LOS ANGELES  2012        $0\n",
       "2  AGOURA_HILLS_CITY  CITY    LOS ANGELES  2013        $0\n",
       "3       ALAMEDA_CITY  CITY        ALAMEDA  2011  $543,140\n",
       "4       ALAMEDA_CITY  CITY        ALAMEDA  2012  $378,359"
      ]
     },
     "execution_count": 29,
     "metadata": {},
     "output_type": "execute_result"
    }
   ],
   "source": [
    "agency_overtime.head()"
   ]
  },
  {
   "cell_type": "markdown",
   "metadata": {},
   "source": [
    "### What about agencies in our area? "
   ]
  },
  {
   "cell_type": "code",
   "execution_count": 30,
   "metadata": {},
   "outputs": [],
   "source": [
    "area_counties = ['LOS ANGELES', 'ORANGE', 'KERN', 'VENTURA', 'RIVERSIDE', 'SAN BERNARDINO']"
   ]
  },
  {
   "cell_type": "code",
   "execution_count": 31,
   "metadata": {},
   "outputs": [],
   "source": [
    "la_agency_overtime = agency_overtime[agency_overtime['employercounty'] == 'LOS ANGELES']\n",
    "la_area_agency_overtime = agency_overtime[agency_overtime['employercounty'].isin(area_counties)]"
   ]
  },
  {
   "cell_type": "code",
   "execution_count": 32,
   "metadata": {},
   "outputs": [
    {
     "data": {
      "text/html": [
       "<div>\n",
       "<style scoped>\n",
       "    .dataframe tbody tr th:only-of-type {\n",
       "        vertical-align: middle;\n",
       "    }\n",
       "\n",
       "    .dataframe tbody tr th {\n",
       "        vertical-align: top;\n",
       "    }\n",
       "\n",
       "    .dataframe thead th {\n",
       "        text-align: right;\n",
       "    }\n",
       "</style>\n",
       "<table border=\"1\" class=\"dataframe\">\n",
       "  <thead>\n",
       "    <tr style=\"text-align: right;\">\n",
       "      <th></th>\n",
       "      <th>employer_full</th>\n",
       "      <th>type</th>\n",
       "      <th>employercounty</th>\n",
       "      <th>year</th>\n",
       "      <th>overtime</th>\n",
       "    </tr>\n",
       "  </thead>\n",
       "  <tbody>\n",
       "    <tr>\n",
       "      <th>0</th>\n",
       "      <td>AGOURA_HILLS_CITY</td>\n",
       "      <td>CITY</td>\n",
       "      <td>LOS ANGELES</td>\n",
       "      <td>2011</td>\n",
       "      <td>$0</td>\n",
       "    </tr>\n",
       "    <tr>\n",
       "      <th>1</th>\n",
       "      <td>AGOURA_HILLS_CITY</td>\n",
       "      <td>CITY</td>\n",
       "      <td>LOS ANGELES</td>\n",
       "      <td>2012</td>\n",
       "      <td>$0</td>\n",
       "    </tr>\n",
       "    <tr>\n",
       "      <th>2</th>\n",
       "      <td>AGOURA_HILLS_CITY</td>\n",
       "      <td>CITY</td>\n",
       "      <td>LOS ANGELES</td>\n",
       "      <td>2013</td>\n",
       "      <td>$0</td>\n",
       "    </tr>\n",
       "    <tr>\n",
       "      <th>35</th>\n",
       "      <td>ALHAMBRA_CITY</td>\n",
       "      <td>CITY</td>\n",
       "      <td>LOS ANGELES</td>\n",
       "      <td>2011</td>\n",
       "      <td>$2,131,313</td>\n",
       "    </tr>\n",
       "    <tr>\n",
       "      <th>36</th>\n",
       "      <td>ALHAMBRA_CITY</td>\n",
       "      <td>CITY</td>\n",
       "      <td>LOS ANGELES</td>\n",
       "      <td>2012</td>\n",
       "      <td>$2,353,689</td>\n",
       "    </tr>\n",
       "  </tbody>\n",
       "</table>\n",
       "</div>"
      ],
      "text/plain": [
       "        employer_full  type employercounty  year   overtime\n",
       "0   AGOURA_HILLS_CITY  CITY    LOS ANGELES  2011         $0\n",
       "1   AGOURA_HILLS_CITY  CITY    LOS ANGELES  2012         $0\n",
       "2   AGOURA_HILLS_CITY  CITY    LOS ANGELES  2013         $0\n",
       "35      ALHAMBRA_CITY  CITY    LOS ANGELES  2011 $2,131,313\n",
       "36      ALHAMBRA_CITY  CITY    LOS ANGELES  2012 $2,353,689"
      ]
     },
     "execution_count": 32,
     "metadata": {},
     "output_type": "execute_result"
    }
   ],
   "source": [
    "la_area_agency_overtime.head()"
   ]
  },
  {
   "cell_type": "code",
   "execution_count": 33,
   "metadata": {},
   "outputs": [
    {
     "data": {
      "text/html": [
       "<div>\n",
       "<style scoped>\n",
       "    .dataframe tbody tr th:only-of-type {\n",
       "        vertical-align: middle;\n",
       "    }\n",
       "\n",
       "    .dataframe tbody tr th {\n",
       "        vertical-align: top;\n",
       "    }\n",
       "\n",
       "    .dataframe thead th {\n",
       "        text-align: right;\n",
       "    }\n",
       "</style>\n",
       "<table border=\"1\" class=\"dataframe\">\n",
       "  <thead>\n",
       "    <tr style=\"text-align: right;\">\n",
       "      <th></th>\n",
       "      <th>employer_full</th>\n",
       "      <th>type</th>\n",
       "      <th>employercounty</th>\n",
       "      <th>year</th>\n",
       "      <th>overtime</th>\n",
       "    </tr>\n",
       "  </thead>\n",
       "  <tbody>\n",
       "    <tr>\n",
       "      <th>2884</th>\n",
       "      <td>LOS_ANGELES_COUNTY</td>\n",
       "      <td>COUNTY</td>\n",
       "      <td>LOS ANGELES</td>\n",
       "      <td>2018</td>\n",
       "      <td>$207,548,663</td>\n",
       "    </tr>\n",
       "    <tr>\n",
       "      <th>2883</th>\n",
       "      <td>LOS_ANGELES_COUNTY</td>\n",
       "      <td>COUNTY</td>\n",
       "      <td>LOS ANGELES</td>\n",
       "      <td>2017</td>\n",
       "      <td>$203,401,340</td>\n",
       "    </tr>\n",
       "    <tr>\n",
       "      <th>2882</th>\n",
       "      <td>LOS_ANGELES_COUNTY</td>\n",
       "      <td>COUNTY</td>\n",
       "      <td>LOS ANGELES</td>\n",
       "      <td>2016</td>\n",
       "      <td>$192,566,864</td>\n",
       "    </tr>\n",
       "    <tr>\n",
       "      <th>2881</th>\n",
       "      <td>LOS_ANGELES_COUNTY</td>\n",
       "      <td>COUNTY</td>\n",
       "      <td>LOS ANGELES</td>\n",
       "      <td>2015</td>\n",
       "      <td>$168,693,525</td>\n",
       "    </tr>\n",
       "    <tr>\n",
       "      <th>2880</th>\n",
       "      <td>LOS_ANGELES_COUNTY</td>\n",
       "      <td>COUNTY</td>\n",
       "      <td>LOS ANGELES</td>\n",
       "      <td>2014</td>\n",
       "      <td>$154,755,565</td>\n",
       "    </tr>\n",
       "  </tbody>\n",
       "</table>\n",
       "</div>"
      ],
      "text/plain": [
       "           employer_full    type employercounty  year     overtime\n",
       "2884  LOS_ANGELES_COUNTY  COUNTY    LOS ANGELES  2018 $207,548,663\n",
       "2883  LOS_ANGELES_COUNTY  COUNTY    LOS ANGELES  2017 $203,401,340\n",
       "2882  LOS_ANGELES_COUNTY  COUNTY    LOS ANGELES  2016 $192,566,864\n",
       "2881  LOS_ANGELES_COUNTY  COUNTY    LOS ANGELES  2015 $168,693,525\n",
       "2880  LOS_ANGELES_COUNTY  COUNTY    LOS ANGELES  2014 $154,755,565"
      ]
     },
     "execution_count": 33,
     "metadata": {},
     "output_type": "execute_result"
    }
   ],
   "source": [
    "agency_overtime[agency_overtime.type == 'COUNTY'].sort_values(by='overtime', ascending=False).head(5)"
   ]
  },
  {
   "cell_type": "code",
   "execution_count": 34,
   "metadata": {},
   "outputs": [
    {
     "data": {
      "text/html": [
       "<div>\n",
       "<style scoped>\n",
       "    .dataframe tbody tr th:only-of-type {\n",
       "        vertical-align: middle;\n",
       "    }\n",
       "\n",
       "    .dataframe tbody tr th {\n",
       "        vertical-align: top;\n",
       "    }\n",
       "\n",
       "    .dataframe thead th {\n",
       "        text-align: right;\n",
       "    }\n",
       "</style>\n",
       "<table border=\"1\" class=\"dataframe\">\n",
       "  <thead>\n",
       "    <tr style=\"text-align: right;\">\n",
       "      <th></th>\n",
       "      <th>employer_full</th>\n",
       "      <th>type</th>\n",
       "      <th>employercounty</th>\n",
       "      <th>year</th>\n",
       "      <th>overtime</th>\n",
       "    </tr>\n",
       "  </thead>\n",
       "  <tbody>\n",
       "    <tr>\n",
       "      <th>2875</th>\n",
       "      <td>LOS_ANGELES_CITY</td>\n",
       "      <td>CITY</td>\n",
       "      <td>LOS ANGELES</td>\n",
       "      <td>2017</td>\n",
       "      <td>$195,568,542</td>\n",
       "    </tr>\n",
       "    <tr>\n",
       "      <th>2876</th>\n",
       "      <td>LOS_ANGELES_CITY</td>\n",
       "      <td>CITY</td>\n",
       "      <td>LOS ANGELES</td>\n",
       "      <td>2018</td>\n",
       "      <td>$194,114,874</td>\n",
       "    </tr>\n",
       "    <tr>\n",
       "      <th>2874</th>\n",
       "      <td>LOS_ANGELES_CITY</td>\n",
       "      <td>CITY</td>\n",
       "      <td>LOS ANGELES</td>\n",
       "      <td>2016</td>\n",
       "      <td>$185,264,139</td>\n",
       "    </tr>\n",
       "    <tr>\n",
       "      <th>2873</th>\n",
       "      <td>LOS_ANGELES_CITY</td>\n",
       "      <td>CITY</td>\n",
       "      <td>LOS ANGELES</td>\n",
       "      <td>2015</td>\n",
       "      <td>$183,696,647</td>\n",
       "    </tr>\n",
       "    <tr>\n",
       "      <th>2872</th>\n",
       "      <td>LOS_ANGELES_CITY</td>\n",
       "      <td>CITY</td>\n",
       "      <td>LOS ANGELES</td>\n",
       "      <td>2014</td>\n",
       "      <td>$160,449,498</td>\n",
       "    </tr>\n",
       "  </tbody>\n",
       "</table>\n",
       "</div>"
      ],
      "text/plain": [
       "         employer_full  type employercounty  year     overtime\n",
       "2875  LOS_ANGELES_CITY  CITY    LOS ANGELES  2017 $195,568,542\n",
       "2876  LOS_ANGELES_CITY  CITY    LOS ANGELES  2018 $194,114,874\n",
       "2874  LOS_ANGELES_CITY  CITY    LOS ANGELES  2016 $185,264,139\n",
       "2873  LOS_ANGELES_CITY  CITY    LOS ANGELES  2015 $183,696,647\n",
       "2872  LOS_ANGELES_CITY  CITY    LOS ANGELES  2014 $160,449,498"
      ]
     },
     "execution_count": 34,
     "metadata": {},
     "output_type": "execute_result"
    }
   ],
   "source": [
    "agency_overtime[agency_overtime.type == 'CITY'].sort_values(by='overtime', ascending=False).head(5)"
   ]
  },
  {
   "cell_type": "markdown",
   "metadata": {},
   "source": [
    "---"
   ]
  },
  {
   "cell_type": "markdown",
   "metadata": {},
   "source": [
    "Data source: https://publicpay.ca.gov/Reports/RawExport.aspx"
   ]
  }
 ],
 "metadata": {
  "kernelspec": {
   "display_name": "Python 3",
   "language": "python",
   "name": "python3"
  },
  "language_info": {
   "codemirror_mode": {
    "name": "ipython",
    "version": 3
   },
   "file_extension": ".py",
   "mimetype": "text/x-python",
   "name": "python",
   "nbconvert_exporter": "python",
   "pygments_lexer": "ipython3",
   "version": "3.7.3"
  }
 },
 "nbformat": 4,
 "nbformat_minor": 2
}
