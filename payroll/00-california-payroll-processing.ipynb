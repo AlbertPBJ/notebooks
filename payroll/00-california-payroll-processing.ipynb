{
 "cells": [
  {
   "cell_type": "markdown",
   "metadata": {},
   "source": [
    "# Processing California's public payrolls"
   ]
  },
  {
   "cell_type": "markdown",
   "metadata": {},
   "source": [
    "This notebook processess annual government payroll [data](https://publicpay.ca.gov/Reports/RawExport.aspx) compiled and released annually by the California state controller's office. The data include anonymized salary information for all employees at cities, counties, special districts and state government. "
   ]
  },
  {
   "cell_type": "markdown",
   "metadata": {},
   "source": [
    "---"
   ]
  },
  {
   "cell_type": "markdown",
   "metadata": {},
   "source": [
    "### Load python tools"
   ]
  },
  {
   "cell_type": "code",
   "execution_count": 1,
   "metadata": {},
   "outputs": [
    {
     "data": {
      "text/plain": [
       "ThemeRegistry.enable('latimes')"
      ]
     },
     "execution_count": 1,
     "metadata": {},
     "output_type": "execute_result"
    }
   ],
   "source": [
    "import pandas as pd\n",
    "import zipfile\n",
    "from urllib.request import urlopen \n",
    "import pyarrow\n",
    "import os\n",
    "import glob\n",
    "import io\n",
    "import requests\n",
    "import matplotlib\n",
    "import json\n",
    "import numpy as np\n",
    "from altair import datum\n",
    "import altair as alt\n",
    "alt.renderers.enable('notebook')\n",
    "import altair_latimes as lat\n",
    "alt.themes.register('latimes', lat.theme)\n",
    "alt.themes.enable('latimes')"
   ]
  },
  {
   "cell_type": "markdown",
   "metadata": {},
   "source": [
    "### Download zipped salary tables by year and agency type"
   ]
  },
  {
   "cell_type": "code",
   "execution_count": 2,
   "metadata": {},
   "outputs": [],
   "source": [
    "os.chdir('/Users/mhustiles/data/data/controller/input/')"
   ]
  },
  {
   "cell_type": "code",
   "execution_count": 3,
   "metadata": {},
   "outputs": [],
   "source": [
    "formaturl = lambda x: 'https://publicpay.ca.gov/RawExport/' + f'{x[1]}_' + f'{x[0]}' + '.zip'"
   ]
  },
  {
   "cell_type": "code",
   "execution_count": 4,
   "metadata": {},
   "outputs": [],
   "source": [
    "# metadata = []\n",
    "# for y in range(2009,2019):\n",
    "#     for e in ['City', 'County', 'SpecialDistrict', 'StateDepartment']:\n",
    "# #     for e in ['City', 'County']:\n",
    "#         metadata.append(dict(entity = e, year = y, url = formaturl((e, y))))"
   ]
  },
  {
   "cell_type": "markdown",
   "metadata": {},
   "source": [
    "### Extract CSVs from .zip files, and then discard the .zip files"
   ]
  },
  {
   "cell_type": "code",
   "execution_count": 5,
   "metadata": {
    "scrolled": false
   },
   "outputs": [],
   "source": [
    "# for m in metadata:\n",
    "#     !wget '{m['url']}'\n",
    "#     !unzip \\*.zip\n",
    "#     !rm -f *.zip"
   ]
  },
  {
   "cell_type": "markdown",
   "metadata": {},
   "source": [
    "---"
   ]
  },
  {
   "cell_type": "markdown",
   "metadata": {},
   "source": [
    "### Read all the text files, loop and store them in a dataframe"
   ]
  },
  {
   "cell_type": "code",
   "execution_count": 6,
   "metadata": {},
   "outputs": [],
   "source": [
    "path = '/Users/mhustiles/data/data/controller/input/'\n",
    "all_files = glob.glob(os.path.join(path, \"*.csv\"))\n",
    "\n",
    "df_from_each_file = (pd.read_csv(f, encoding = \"ISO-8859-1\", low_memory=False, dtype = {'DepartmentOrSubdivision': 'object', 'Year': 'object'}) for f in all_files)\n",
    "concatenated_df = pd.concat(df_from_each_file, ignore_index=True)"
   ]
  },
  {
   "cell_type": "code",
   "execution_count": 7,
   "metadata": {},
   "outputs": [
    {
     "data": {
      "text/html": [
       "<div>\n",
       "<style scoped>\n",
       "    .dataframe tbody tr th:only-of-type {\n",
       "        vertical-align: middle;\n",
       "    }\n",
       "\n",
       "    .dataframe tbody tr th {\n",
       "        vertical-align: top;\n",
       "    }\n",
       "\n",
       "    .dataframe thead th {\n",
       "        text-align: right;\n",
       "    }\n",
       "</style>\n",
       "<table border=\"1\" class=\"dataframe\">\n",
       "  <thead>\n",
       "    <tr style=\"text-align: right;\">\n",
       "      <th></th>\n",
       "      <th>Year</th>\n",
       "      <th>EmployerType</th>\n",
       "      <th>EmployerName</th>\n",
       "      <th>DepartmentOrSubdivision</th>\n",
       "      <th>Position</th>\n",
       "      <th>ElectedOfficial</th>\n",
       "      <th>Judicial</th>\n",
       "      <th>OtherPositions</th>\n",
       "      <th>MinPositionSalary</th>\n",
       "      <th>MaxPositionSalary</th>\n",
       "      <th>...</th>\n",
       "      <th>HealthDentalVision</th>\n",
       "      <th>TotalRetirementAndHealthContribution</th>\n",
       "      <th>PensionFormula</th>\n",
       "      <th>EmployerURL</th>\n",
       "      <th>EmployerPopulation</th>\n",
       "      <th>LastUpdatedDate</th>\n",
       "      <th>EmployerCounty</th>\n",
       "      <th>SpecialDistrictActivities</th>\n",
       "      <th>IncludesUnfundedLiability</th>\n",
       "      <th>SpecialDistrictType</th>\n",
       "    </tr>\n",
       "  </thead>\n",
       "  <tbody>\n",
       "    <tr>\n",
       "      <th>0</th>\n",
       "      <td>2010</td>\n",
       "      <td>County</td>\n",
       "      <td>Alameda</td>\n",
       "      <td>Ac Central Collections</td>\n",
       "      <td>Accountant-Auditor</td>\n",
       "      <td>NaN</td>\n",
       "      <td>NaN</td>\n",
       "      <td>NaN</td>\n",
       "      <td>53566.0</td>\n",
       "      <td>58324.0</td>\n",
       "      <td>...</td>\n",
       "      <td>1088.0</td>\n",
       "      <td>1088.0</td>\n",
       "      <td>2%@62</td>\n",
       "      <td>www.acgov.org/hrs</td>\n",
       "      <td>1517756.0</td>\n",
       "      <td>06/06/2016</td>\n",
       "      <td>Alameda</td>\n",
       "      <td>NaN</td>\n",
       "      <td>NaN</td>\n",
       "      <td>NaN</td>\n",
       "    </tr>\n",
       "    <tr>\n",
       "      <th>1</th>\n",
       "      <td>2010</td>\n",
       "      <td>County</td>\n",
       "      <td>Alameda</td>\n",
       "      <td>Ac Central Collections</td>\n",
       "      <td>Accounting Technician</td>\n",
       "      <td>NaN</td>\n",
       "      <td>NaN</td>\n",
       "      <td>NaN</td>\n",
       "      <td>45427.0</td>\n",
       "      <td>55224.0</td>\n",
       "      <td>...</td>\n",
       "      <td>12375.0</td>\n",
       "      <td>14031.0</td>\n",
       "      <td>2%@57</td>\n",
       "      <td>www.acgov.org/hrs</td>\n",
       "      <td>1517756.0</td>\n",
       "      <td>06/06/2016</td>\n",
       "      <td>Alameda</td>\n",
       "      <td>NaN</td>\n",
       "      <td>NaN</td>\n",
       "      <td>NaN</td>\n",
       "    </tr>\n",
       "    <tr>\n",
       "      <th>2</th>\n",
       "      <td>2010</td>\n",
       "      <td>County</td>\n",
       "      <td>Alameda</td>\n",
       "      <td>Ac Central Collections</td>\n",
       "      <td>Admin Specialist II</td>\n",
       "      <td>NaN</td>\n",
       "      <td>NaN</td>\n",
       "      <td>NaN</td>\n",
       "      <td>56451.0</td>\n",
       "      <td>75608.0</td>\n",
       "      <td>...</td>\n",
       "      <td>4718.0</td>\n",
       "      <td>5486.0</td>\n",
       "      <td>2%@57</td>\n",
       "      <td>www.acgov.org/hrs</td>\n",
       "      <td>1517756.0</td>\n",
       "      <td>06/06/2016</td>\n",
       "      <td>Alameda</td>\n",
       "      <td>NaN</td>\n",
       "      <td>NaN</td>\n",
       "      <td>NaN</td>\n",
       "    </tr>\n",
       "    <tr>\n",
       "      <th>3</th>\n",
       "      <td>2010</td>\n",
       "      <td>County</td>\n",
       "      <td>Alameda</td>\n",
       "      <td>Ac Central Collections</td>\n",
       "      <td>Auditor Associate I</td>\n",
       "      <td>NaN</td>\n",
       "      <td>NaN</td>\n",
       "      <td>NaN</td>\n",
       "      <td>40033.0</td>\n",
       "      <td>47346.0</td>\n",
       "      <td>...</td>\n",
       "      <td>8710.0</td>\n",
       "      <td>8710.0</td>\n",
       "      <td>2%@62</td>\n",
       "      <td>www.acgov.org/hrs</td>\n",
       "      <td>1517756.0</td>\n",
       "      <td>06/06/2016</td>\n",
       "      <td>Alameda</td>\n",
       "      <td>NaN</td>\n",
       "      <td>NaN</td>\n",
       "      <td>NaN</td>\n",
       "    </tr>\n",
       "    <tr>\n",
       "      <th>4</th>\n",
       "      <td>2010</td>\n",
       "      <td>County</td>\n",
       "      <td>Alameda</td>\n",
       "      <td>Ac Central Collections</td>\n",
       "      <td>Auditor Associate I</td>\n",
       "      <td>NaN</td>\n",
       "      <td>NaN</td>\n",
       "      <td>NaN</td>\n",
       "      <td>40033.0</td>\n",
       "      <td>47346.0</td>\n",
       "      <td>...</td>\n",
       "      <td>4916.0</td>\n",
       "      <td>4916.0</td>\n",
       "      <td>2%@62</td>\n",
       "      <td>www.acgov.org/hrs</td>\n",
       "      <td>1517756.0</td>\n",
       "      <td>06/06/2016</td>\n",
       "      <td>Alameda</td>\n",
       "      <td>NaN</td>\n",
       "      <td>NaN</td>\n",
       "      <td>NaN</td>\n",
       "    </tr>\n",
       "  </tbody>\n",
       "</table>\n",
       "<p>5 rows × 29 columns</p>\n",
       "</div>"
      ],
      "text/plain": [
       "   Year EmployerType EmployerName DepartmentOrSubdivision  \\\n",
       "0  2010       County      Alameda  Ac Central Collections   \n",
       "1  2010       County      Alameda  Ac Central Collections   \n",
       "2  2010       County      Alameda  Ac Central Collections   \n",
       "3  2010       County      Alameda  Ac Central Collections   \n",
       "4  2010       County      Alameda  Ac Central Collections   \n",
       "\n",
       "                Position  ElectedOfficial  Judicial OtherPositions  \\\n",
       "0     Accountant-Auditor              NaN       NaN            NaN   \n",
       "1  Accounting Technician              NaN       NaN            NaN   \n",
       "2    Admin Specialist II              NaN       NaN            NaN   \n",
       "3    Auditor Associate I              NaN       NaN            NaN   \n",
       "4    Auditor Associate I              NaN       NaN            NaN   \n",
       "\n",
       "   MinPositionSalary  MaxPositionSalary  ...  HealthDentalVision  \\\n",
       "0            53566.0            58324.0  ...              1088.0   \n",
       "1            45427.0            55224.0  ...             12375.0   \n",
       "2            56451.0            75608.0  ...              4718.0   \n",
       "3            40033.0            47346.0  ...              8710.0   \n",
       "4            40033.0            47346.0  ...              4916.0   \n",
       "\n",
       "   TotalRetirementAndHealthContribution  PensionFormula        EmployerURL  \\\n",
       "0                                1088.0           2%@62  www.acgov.org/hrs   \n",
       "1                               14031.0           2%@57  www.acgov.org/hrs   \n",
       "2                                5486.0           2%@57  www.acgov.org/hrs   \n",
       "3                                8710.0           2%@62  www.acgov.org/hrs   \n",
       "4                                4916.0           2%@62  www.acgov.org/hrs   \n",
       "\n",
       "   EmployerPopulation  LastUpdatedDate  EmployerCounty  \\\n",
       "0           1517756.0       06/06/2016         Alameda   \n",
       "1           1517756.0       06/06/2016         Alameda   \n",
       "2           1517756.0       06/06/2016         Alameda   \n",
       "3           1517756.0       06/06/2016         Alameda   \n",
       "4           1517756.0       06/06/2016         Alameda   \n",
       "\n",
       "   SpecialDistrictActivities  IncludesUnfundedLiability  SpecialDistrictType  \n",
       "0                        NaN                        NaN                  NaN  \n",
       "1                        NaN                        NaN                  NaN  \n",
       "2                        NaN                        NaN                  NaN  \n",
       "3                        NaN                        NaN                  NaN  \n",
       "4                        NaN                        NaN                  NaN  \n",
       "\n",
       "[5 rows x 29 columns]"
      ]
     },
     "execution_count": 7,
     "metadata": {},
     "output_type": "execute_result"
    }
   ],
   "source": [
    "concatenated_df.head()"
   ]
  },
  {
   "cell_type": "markdown",
   "metadata": {},
   "source": [
    "### Trim the dataframe to the columns we need"
   ]
  },
  {
   "cell_type": "code",
   "execution_count": 8,
   "metadata": {},
   "outputs": [],
   "source": [
    "payroll = pd.DataFrame(concatenated_df[['Year','EmployerType','EmployerPopulation','EmployerName','DepartmentOrSubdivision',\\\n",
    "                 'Position','OvertimePay','TotalWages', 'TotalRetirementAndHealthContribution', 'EmployerCounty']])"
   ]
  },
  {
   "cell_type": "code",
   "execution_count": 9,
   "metadata": {},
   "outputs": [
    {
     "data": {
      "text/html": [
       "<div>\n",
       "<style scoped>\n",
       "    .dataframe tbody tr th:only-of-type {\n",
       "        vertical-align: middle;\n",
       "    }\n",
       "\n",
       "    .dataframe tbody tr th {\n",
       "        vertical-align: top;\n",
       "    }\n",
       "\n",
       "    .dataframe thead th {\n",
       "        text-align: right;\n",
       "    }\n",
       "</style>\n",
       "<table border=\"1\" class=\"dataframe\">\n",
       "  <thead>\n",
       "    <tr style=\"text-align: right;\">\n",
       "      <th></th>\n",
       "      <th>Year</th>\n",
       "      <th>EmployerType</th>\n",
       "      <th>EmployerPopulation</th>\n",
       "      <th>EmployerName</th>\n",
       "      <th>DepartmentOrSubdivision</th>\n",
       "      <th>Position</th>\n",
       "      <th>OvertimePay</th>\n",
       "      <th>TotalWages</th>\n",
       "      <th>TotalRetirementAndHealthContribution</th>\n",
       "      <th>EmployerCounty</th>\n",
       "    </tr>\n",
       "  </thead>\n",
       "  <tbody>\n",
       "    <tr>\n",
       "      <th>0</th>\n",
       "      <td>2010</td>\n",
       "      <td>County</td>\n",
       "      <td>1517756.0</td>\n",
       "      <td>Alameda</td>\n",
       "      <td>Ac Central Collections</td>\n",
       "      <td>Accountant-Auditor</td>\n",
       "      <td>NaN</td>\n",
       "      <td>4120.0</td>\n",
       "      <td>1088.0</td>\n",
       "      <td>Alameda</td>\n",
       "    </tr>\n",
       "    <tr>\n",
       "      <th>1</th>\n",
       "      <td>2010</td>\n",
       "      <td>County</td>\n",
       "      <td>1517756.0</td>\n",
       "      <td>Alameda</td>\n",
       "      <td>Ac Central Collections</td>\n",
       "      <td>Accounting Technician</td>\n",
       "      <td>NaN</td>\n",
       "      <td>54438.0</td>\n",
       "      <td>14031.0</td>\n",
       "      <td>Alameda</td>\n",
       "    </tr>\n",
       "    <tr>\n",
       "      <th>2</th>\n",
       "      <td>2010</td>\n",
       "      <td>County</td>\n",
       "      <td>1517756.0</td>\n",
       "      <td>Alameda</td>\n",
       "      <td>Ac Central Collections</td>\n",
       "      <td>Admin Specialist II</td>\n",
       "      <td>NaN</td>\n",
       "      <td>25376.0</td>\n",
       "      <td>5486.0</td>\n",
       "      <td>Alameda</td>\n",
       "    </tr>\n",
       "    <tr>\n",
       "      <th>3</th>\n",
       "      <td>2010</td>\n",
       "      <td>County</td>\n",
       "      <td>1517756.0</td>\n",
       "      <td>Alameda</td>\n",
       "      <td>Ac Central Collections</td>\n",
       "      <td>Auditor Associate I</td>\n",
       "      <td>NaN</td>\n",
       "      <td>31225.0</td>\n",
       "      <td>8710.0</td>\n",
       "      <td>Alameda</td>\n",
       "    </tr>\n",
       "    <tr>\n",
       "      <th>4</th>\n",
       "      <td>2010</td>\n",
       "      <td>County</td>\n",
       "      <td>1517756.0</td>\n",
       "      <td>Alameda</td>\n",
       "      <td>Ac Central Collections</td>\n",
       "      <td>Auditor Associate I</td>\n",
       "      <td>NaN</td>\n",
       "      <td>27677.0</td>\n",
       "      <td>4916.0</td>\n",
       "      <td>Alameda</td>\n",
       "    </tr>\n",
       "  </tbody>\n",
       "</table>\n",
       "</div>"
      ],
      "text/plain": [
       "   Year EmployerType  EmployerPopulation EmployerName DepartmentOrSubdivision  \\\n",
       "0  2010       County           1517756.0      Alameda  Ac Central Collections   \n",
       "1  2010       County           1517756.0      Alameda  Ac Central Collections   \n",
       "2  2010       County           1517756.0      Alameda  Ac Central Collections   \n",
       "3  2010       County           1517756.0      Alameda  Ac Central Collections   \n",
       "4  2010       County           1517756.0      Alameda  Ac Central Collections   \n",
       "\n",
       "                Position  OvertimePay  TotalWages  \\\n",
       "0     Accountant-Auditor          NaN      4120.0   \n",
       "1  Accounting Technician          NaN     54438.0   \n",
       "2    Admin Specialist II          NaN     25376.0   \n",
       "3    Auditor Associate I          NaN     31225.0   \n",
       "4    Auditor Associate I          NaN     27677.0   \n",
       "\n",
       "   TotalRetirementAndHealthContribution EmployerCounty  \n",
       "0                                1088.0        Alameda  \n",
       "1                               14031.0        Alameda  \n",
       "2                                5486.0        Alameda  \n",
       "3                                8710.0        Alameda  \n",
       "4                                4916.0        Alameda  "
      ]
     },
     "execution_count": 9,
     "metadata": {},
     "output_type": "execute_result"
    }
   ],
   "source": [
    "payroll.head()"
   ]
  },
  {
   "cell_type": "markdown",
   "metadata": {},
   "source": [
    "### Not everyone reports (or pays) overtime"
   ]
  },
  {
   "cell_type": "code",
   "execution_count": 10,
   "metadata": {},
   "outputs": [],
   "source": [
    "payroll['OvertimePay'].fillna(0, inplace = True)\n",
    "payroll['DepartmentOrSubdivision'].fillna('NOT LISTED', inplace = True)\n",
    "payroll['EmployerPopulation'].fillna(0, inplace = True)"
   ]
  },
  {
   "cell_type": "code",
   "execution_count": 11,
   "metadata": {},
   "outputs": [
    {
     "data": {
      "text/html": [
       "<div>\n",
       "<style scoped>\n",
       "    .dataframe tbody tr th:only-of-type {\n",
       "        vertical-align: middle;\n",
       "    }\n",
       "\n",
       "    .dataframe tbody tr th {\n",
       "        vertical-align: top;\n",
       "    }\n",
       "\n",
       "    .dataframe thead th {\n",
       "        text-align: right;\n",
       "    }\n",
       "</style>\n",
       "<table border=\"1\" class=\"dataframe\">\n",
       "  <thead>\n",
       "    <tr style=\"text-align: right;\">\n",
       "      <th></th>\n",
       "      <th>Year</th>\n",
       "      <th>EmployerType</th>\n",
       "      <th>EmployerPopulation</th>\n",
       "      <th>EmployerName</th>\n",
       "      <th>DepartmentOrSubdivision</th>\n",
       "      <th>Position</th>\n",
       "      <th>OvertimePay</th>\n",
       "      <th>TotalWages</th>\n",
       "      <th>TotalRetirementAndHealthContribution</th>\n",
       "      <th>EmployerCounty</th>\n",
       "    </tr>\n",
       "  </thead>\n",
       "  <tbody>\n",
       "    <tr>\n",
       "      <th>0</th>\n",
       "      <td>2010</td>\n",
       "      <td>County</td>\n",
       "      <td>1517756.0</td>\n",
       "      <td>Alameda</td>\n",
       "      <td>Ac Central Collections</td>\n",
       "      <td>Accountant-Auditor</td>\n",
       "      <td>0.0</td>\n",
       "      <td>4120.0</td>\n",
       "      <td>1088.0</td>\n",
       "      <td>Alameda</td>\n",
       "    </tr>\n",
       "    <tr>\n",
       "      <th>1</th>\n",
       "      <td>2010</td>\n",
       "      <td>County</td>\n",
       "      <td>1517756.0</td>\n",
       "      <td>Alameda</td>\n",
       "      <td>Ac Central Collections</td>\n",
       "      <td>Accounting Technician</td>\n",
       "      <td>0.0</td>\n",
       "      <td>54438.0</td>\n",
       "      <td>14031.0</td>\n",
       "      <td>Alameda</td>\n",
       "    </tr>\n",
       "    <tr>\n",
       "      <th>2</th>\n",
       "      <td>2010</td>\n",
       "      <td>County</td>\n",
       "      <td>1517756.0</td>\n",
       "      <td>Alameda</td>\n",
       "      <td>Ac Central Collections</td>\n",
       "      <td>Admin Specialist II</td>\n",
       "      <td>0.0</td>\n",
       "      <td>25376.0</td>\n",
       "      <td>5486.0</td>\n",
       "      <td>Alameda</td>\n",
       "    </tr>\n",
       "    <tr>\n",
       "      <th>3</th>\n",
       "      <td>2010</td>\n",
       "      <td>County</td>\n",
       "      <td>1517756.0</td>\n",
       "      <td>Alameda</td>\n",
       "      <td>Ac Central Collections</td>\n",
       "      <td>Auditor Associate I</td>\n",
       "      <td>0.0</td>\n",
       "      <td>31225.0</td>\n",
       "      <td>8710.0</td>\n",
       "      <td>Alameda</td>\n",
       "    </tr>\n",
       "    <tr>\n",
       "      <th>4</th>\n",
       "      <td>2010</td>\n",
       "      <td>County</td>\n",
       "      <td>1517756.0</td>\n",
       "      <td>Alameda</td>\n",
       "      <td>Ac Central Collections</td>\n",
       "      <td>Auditor Associate I</td>\n",
       "      <td>0.0</td>\n",
       "      <td>27677.0</td>\n",
       "      <td>4916.0</td>\n",
       "      <td>Alameda</td>\n",
       "    </tr>\n",
       "  </tbody>\n",
       "</table>\n",
       "</div>"
      ],
      "text/plain": [
       "   Year EmployerType  EmployerPopulation EmployerName DepartmentOrSubdivision  \\\n",
       "0  2010       County           1517756.0      Alameda  Ac Central Collections   \n",
       "1  2010       County           1517756.0      Alameda  Ac Central Collections   \n",
       "2  2010       County           1517756.0      Alameda  Ac Central Collections   \n",
       "3  2010       County           1517756.0      Alameda  Ac Central Collections   \n",
       "4  2010       County           1517756.0      Alameda  Ac Central Collections   \n",
       "\n",
       "                Position  OvertimePay  TotalWages  \\\n",
       "0     Accountant-Auditor          0.0      4120.0   \n",
       "1  Accounting Technician          0.0     54438.0   \n",
       "2    Admin Specialist II          0.0     25376.0   \n",
       "3    Auditor Associate I          0.0     31225.0   \n",
       "4    Auditor Associate I          0.0     27677.0   \n",
       "\n",
       "   TotalRetirementAndHealthContribution EmployerCounty  \n",
       "0                                1088.0        Alameda  \n",
       "1                               14031.0        Alameda  \n",
       "2                                5486.0        Alameda  \n",
       "3                                8710.0        Alameda  \n",
       "4                                4916.0        Alameda  "
      ]
     },
     "execution_count": 11,
     "metadata": {},
     "output_type": "execute_result"
    }
   ],
   "source": [
    "payroll.head()"
   ]
  },
  {
   "cell_type": "markdown",
   "metadata": {},
   "source": [
    "### Clean up column headers"
   ]
  },
  {
   "cell_type": "code",
   "execution_count": 12,
   "metadata": {},
   "outputs": [],
   "source": [
    "payroll.columns = payroll.columns.str.strip().str.lower().str.replace(' ', '_')\\\n",
    "                    .str.replace('(', '').str.replace(')', '').str.replace('-','_')"
   ]
  },
  {
   "cell_type": "code",
   "execution_count": 13,
   "metadata": {},
   "outputs": [
    {
     "data": {
      "text/html": [
       "<div>\n",
       "<style scoped>\n",
       "    .dataframe tbody tr th:only-of-type {\n",
       "        vertical-align: middle;\n",
       "    }\n",
       "\n",
       "    .dataframe tbody tr th {\n",
       "        vertical-align: top;\n",
       "    }\n",
       "\n",
       "    .dataframe thead th {\n",
       "        text-align: right;\n",
       "    }\n",
       "</style>\n",
       "<table border=\"1\" class=\"dataframe\">\n",
       "  <thead>\n",
       "    <tr style=\"text-align: right;\">\n",
       "      <th></th>\n",
       "      <th>year</th>\n",
       "      <th>employertype</th>\n",
       "      <th>employerpopulation</th>\n",
       "      <th>employername</th>\n",
       "      <th>departmentorsubdivision</th>\n",
       "      <th>position</th>\n",
       "      <th>overtimepay</th>\n",
       "      <th>totalwages</th>\n",
       "      <th>totalretirementandhealthcontribution</th>\n",
       "      <th>employercounty</th>\n",
       "    </tr>\n",
       "  </thead>\n",
       "  <tbody>\n",
       "    <tr>\n",
       "      <th>0</th>\n",
       "      <td>2010</td>\n",
       "      <td>County</td>\n",
       "      <td>1517756.0</td>\n",
       "      <td>Alameda</td>\n",
       "      <td>Ac Central Collections</td>\n",
       "      <td>Accountant-Auditor</td>\n",
       "      <td>0.0</td>\n",
       "      <td>4120.0</td>\n",
       "      <td>1088.0</td>\n",
       "      <td>Alameda</td>\n",
       "    </tr>\n",
       "    <tr>\n",
       "      <th>1</th>\n",
       "      <td>2010</td>\n",
       "      <td>County</td>\n",
       "      <td>1517756.0</td>\n",
       "      <td>Alameda</td>\n",
       "      <td>Ac Central Collections</td>\n",
       "      <td>Accounting Technician</td>\n",
       "      <td>0.0</td>\n",
       "      <td>54438.0</td>\n",
       "      <td>14031.0</td>\n",
       "      <td>Alameda</td>\n",
       "    </tr>\n",
       "    <tr>\n",
       "      <th>2</th>\n",
       "      <td>2010</td>\n",
       "      <td>County</td>\n",
       "      <td>1517756.0</td>\n",
       "      <td>Alameda</td>\n",
       "      <td>Ac Central Collections</td>\n",
       "      <td>Admin Specialist II</td>\n",
       "      <td>0.0</td>\n",
       "      <td>25376.0</td>\n",
       "      <td>5486.0</td>\n",
       "      <td>Alameda</td>\n",
       "    </tr>\n",
       "    <tr>\n",
       "      <th>3</th>\n",
       "      <td>2010</td>\n",
       "      <td>County</td>\n",
       "      <td>1517756.0</td>\n",
       "      <td>Alameda</td>\n",
       "      <td>Ac Central Collections</td>\n",
       "      <td>Auditor Associate I</td>\n",
       "      <td>0.0</td>\n",
       "      <td>31225.0</td>\n",
       "      <td>8710.0</td>\n",
       "      <td>Alameda</td>\n",
       "    </tr>\n",
       "    <tr>\n",
       "      <th>4</th>\n",
       "      <td>2010</td>\n",
       "      <td>County</td>\n",
       "      <td>1517756.0</td>\n",
       "      <td>Alameda</td>\n",
       "      <td>Ac Central Collections</td>\n",
       "      <td>Auditor Associate I</td>\n",
       "      <td>0.0</td>\n",
       "      <td>27677.0</td>\n",
       "      <td>4916.0</td>\n",
       "      <td>Alameda</td>\n",
       "    </tr>\n",
       "  </tbody>\n",
       "</table>\n",
       "</div>"
      ],
      "text/plain": [
       "   year employertype  employerpopulation employername departmentorsubdivision  \\\n",
       "0  2010       County           1517756.0      Alameda  Ac Central Collections   \n",
       "1  2010       County           1517756.0      Alameda  Ac Central Collections   \n",
       "2  2010       County           1517756.0      Alameda  Ac Central Collections   \n",
       "3  2010       County           1517756.0      Alameda  Ac Central Collections   \n",
       "4  2010       County           1517756.0      Alameda  Ac Central Collections   \n",
       "\n",
       "                position  overtimepay  totalwages  \\\n",
       "0     Accountant-Auditor          0.0      4120.0   \n",
       "1  Accounting Technician          0.0     54438.0   \n",
       "2    Admin Specialist II          0.0     25376.0   \n",
       "3    Auditor Associate I          0.0     31225.0   \n",
       "4    Auditor Associate I          0.0     27677.0   \n",
       "\n",
       "   totalretirementandhealthcontribution employercounty  \n",
       "0                                1088.0        Alameda  \n",
       "1                               14031.0        Alameda  \n",
       "2                                5486.0        Alameda  \n",
       "3                                8710.0        Alameda  \n",
       "4                                4916.0        Alameda  "
      ]
     },
     "execution_count": 13,
     "metadata": {},
     "output_type": "execute_result"
    }
   ],
   "source": [
    "payroll.head()"
   ]
  },
  {
   "cell_type": "code",
   "execution_count": 14,
   "metadata": {},
   "outputs": [],
   "source": [
    "payroll.rename(columns = {\n",
    "'employertype':'type',\n",
    "'employerpopulation':'population',\n",
    "'employername':'employer',\n",
    "'departmentorsubdivision':'department',\n",
    "'overtimepay':'overtime',\n",
    "'totalretirementandhealthcontribution':'benefits',\n",
    "'totalwages':'wages',\n",
    " }, inplace = True)"
   ]
  },
  {
   "cell_type": "markdown",
   "metadata": {},
   "source": [
    "### Uppercase everything because their title casing across hundreds of agencies is janky"
   ]
  },
  {
   "cell_type": "code",
   "execution_count": 15,
   "metadata": {},
   "outputs": [],
   "source": [
    "payroll = payroll.apply(lambda x: x.astype(str).str.upper())"
   ]
  },
  {
   "cell_type": "markdown",
   "metadata": {},
   "source": [
    "### How do the dataframes look? "
   ]
  },
  {
   "cell_type": "code",
   "execution_count": 16,
   "metadata": {},
   "outputs": [
    {
     "data": {
      "text/html": [
       "<div>\n",
       "<style scoped>\n",
       "    .dataframe tbody tr th:only-of-type {\n",
       "        vertical-align: middle;\n",
       "    }\n",
       "\n",
       "    .dataframe tbody tr th {\n",
       "        vertical-align: top;\n",
       "    }\n",
       "\n",
       "    .dataframe thead th {\n",
       "        text-align: right;\n",
       "    }\n",
       "</style>\n",
       "<table border=\"1\" class=\"dataframe\">\n",
       "  <thead>\n",
       "    <tr style=\"text-align: right;\">\n",
       "      <th></th>\n",
       "      <th>year</th>\n",
       "      <th>type</th>\n",
       "      <th>population</th>\n",
       "      <th>employer</th>\n",
       "      <th>department</th>\n",
       "      <th>position</th>\n",
       "      <th>overtime</th>\n",
       "      <th>wages</th>\n",
       "      <th>benefits</th>\n",
       "      <th>employercounty</th>\n",
       "    </tr>\n",
       "  </thead>\n",
       "  <tbody>\n",
       "    <tr>\n",
       "      <th>0</th>\n",
       "      <td>2010</td>\n",
       "      <td>COUNTY</td>\n",
       "      <td>1517756.0</td>\n",
       "      <td>ALAMEDA</td>\n",
       "      <td>AC CENTRAL COLLECTIONS</td>\n",
       "      <td>ACCOUNTANT-AUDITOR</td>\n",
       "      <td>0.0</td>\n",
       "      <td>4120.0</td>\n",
       "      <td>1088.0</td>\n",
       "      <td>ALAMEDA</td>\n",
       "    </tr>\n",
       "    <tr>\n",
       "      <th>1</th>\n",
       "      <td>2010</td>\n",
       "      <td>COUNTY</td>\n",
       "      <td>1517756.0</td>\n",
       "      <td>ALAMEDA</td>\n",
       "      <td>AC CENTRAL COLLECTIONS</td>\n",
       "      <td>ACCOUNTING TECHNICIAN</td>\n",
       "      <td>0.0</td>\n",
       "      <td>54438.0</td>\n",
       "      <td>14031.0</td>\n",
       "      <td>ALAMEDA</td>\n",
       "    </tr>\n",
       "    <tr>\n",
       "      <th>2</th>\n",
       "      <td>2010</td>\n",
       "      <td>COUNTY</td>\n",
       "      <td>1517756.0</td>\n",
       "      <td>ALAMEDA</td>\n",
       "      <td>AC CENTRAL COLLECTIONS</td>\n",
       "      <td>ADMIN SPECIALIST II</td>\n",
       "      <td>0.0</td>\n",
       "      <td>25376.0</td>\n",
       "      <td>5486.0</td>\n",
       "      <td>ALAMEDA</td>\n",
       "    </tr>\n",
       "    <tr>\n",
       "      <th>3</th>\n",
       "      <td>2010</td>\n",
       "      <td>COUNTY</td>\n",
       "      <td>1517756.0</td>\n",
       "      <td>ALAMEDA</td>\n",
       "      <td>AC CENTRAL COLLECTIONS</td>\n",
       "      <td>AUDITOR ASSOCIATE I</td>\n",
       "      <td>0.0</td>\n",
       "      <td>31225.0</td>\n",
       "      <td>8710.0</td>\n",
       "      <td>ALAMEDA</td>\n",
       "    </tr>\n",
       "    <tr>\n",
       "      <th>4</th>\n",
       "      <td>2010</td>\n",
       "      <td>COUNTY</td>\n",
       "      <td>1517756.0</td>\n",
       "      <td>ALAMEDA</td>\n",
       "      <td>AC CENTRAL COLLECTIONS</td>\n",
       "      <td>AUDITOR ASSOCIATE I</td>\n",
       "      <td>0.0</td>\n",
       "      <td>27677.0</td>\n",
       "      <td>4916.0</td>\n",
       "      <td>ALAMEDA</td>\n",
       "    </tr>\n",
       "  </tbody>\n",
       "</table>\n",
       "</div>"
      ],
      "text/plain": [
       "   year    type population employer              department  \\\n",
       "0  2010  COUNTY  1517756.0  ALAMEDA  AC CENTRAL COLLECTIONS   \n",
       "1  2010  COUNTY  1517756.0  ALAMEDA  AC CENTRAL COLLECTIONS   \n",
       "2  2010  COUNTY  1517756.0  ALAMEDA  AC CENTRAL COLLECTIONS   \n",
       "3  2010  COUNTY  1517756.0  ALAMEDA  AC CENTRAL COLLECTIONS   \n",
       "4  2010  COUNTY  1517756.0  ALAMEDA  AC CENTRAL COLLECTIONS   \n",
       "\n",
       "                position overtime    wages benefits employercounty  \n",
       "0     ACCOUNTANT-AUDITOR      0.0   4120.0   1088.0        ALAMEDA  \n",
       "1  ACCOUNTING TECHNICIAN      0.0  54438.0  14031.0        ALAMEDA  \n",
       "2    ADMIN SPECIALIST II      0.0  25376.0   5486.0        ALAMEDA  \n",
       "3    AUDITOR ASSOCIATE I      0.0  31225.0   8710.0        ALAMEDA  \n",
       "4    AUDITOR ASSOCIATE I      0.0  27677.0   4916.0        ALAMEDA  "
      ]
     },
     "execution_count": 16,
     "metadata": {},
     "output_type": "execute_result"
    }
   ],
   "source": [
    "payroll.head()"
   ]
  },
  {
   "cell_type": "markdown",
   "metadata": {},
   "source": [
    "### How many records do we have here?"
   ]
  },
  {
   "cell_type": "code",
   "execution_count": 17,
   "metadata": {},
   "outputs": [
    {
     "data": {
      "text/plain": [
       "10826479"
      ]
     },
     "execution_count": 17,
     "metadata": {},
     "output_type": "execute_result"
    }
   ],
   "source": [
    "# How many records?\n",
    "len(payroll)"
   ]
  },
  {
   "cell_type": "markdown",
   "metadata": {},
   "source": [
    "---"
   ]
  },
  {
   "cell_type": "markdown",
   "metadata": {},
   "source": [
    "### Export to a lightweight format"
   ]
  },
  {
   "cell_type": "code",
   "execution_count": 18,
   "metadata": {},
   "outputs": [],
   "source": [
    "payroll.reset_index().to_feather('/Users/mhustiles/data/data/controller/output/payroll.feather')"
   ]
  },
  {
   "cell_type": "code",
   "execution_count": 19,
   "metadata": {},
   "outputs": [],
   "source": [
    "payroll.reset_index().to_csv('/Users/mhustiles/data/data/controller/output/payroll.csv')"
   ]
  },
  {
   "cell_type": "markdown",
   "metadata": {},
   "source": [
    "---"
   ]
  },
  {
   "cell_type": "markdown",
   "metadata": {},
   "source": [
    "Data source: https://publicpay.ca.gov/Reports/RawExport.aspx"
   ]
  }
 ],
 "metadata": {
  "kernelspec": {
   "display_name": "Python 3",
   "language": "python",
   "name": "python3"
  },
  "language_info": {
   "codemirror_mode": {
    "name": "ipython",
    "version": 3
   },
   "file_extension": ".py",
   "mimetype": "text/x-python",
   "name": "python",
   "nbconvert_exporter": "python",
   "pygments_lexer": "ipython3",
   "version": "3.7.3"
  }
 },
 "nbformat": 4,
 "nbformat_minor": 2
}
