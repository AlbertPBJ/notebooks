{
 "cells": [
  {
   "cell_type": "markdown",
   "metadata": {},
   "source": [
    "# Analyzing fire department payrolls in California: 2011-2018"
   ]
  },
  {
   "cell_type": "markdown",
   "metadata": {},
   "source": [
    "This notebook analyzes annual government payroll [data](https://publicpay.ca.gov/Reports/RawExport.aspx) compiled and released annually by the California state controller's office. The data include anonymized salary information for all employees at cities, counties, special districts and state government. "
   ]
  },
  {
   "cell_type": "markdown",
   "metadata": {},
   "source": [
    "---"
   ]
  },
  {
   "cell_type": "markdown",
   "metadata": {},
   "source": [
    "### Load python tools"
   ]
  },
  {
   "cell_type": "code",
   "execution_count": null,
   "metadata": {},
   "outputs": [],
   "source": [
    "import pandas as pd\n",
    "import geopandas as gpd\n",
    "import cpi\n",
    "from urllib.request import urlopen \n",
    "import pyarrow\n",
    "import jenkspy\n",
    "import matplotlib.pyplot as plt\n",
    "%matplotlib inline\n",
    "import json\n",
    "import numpy as np\n",
    "from altair import datum\n",
    "import altair as alt\n",
    "alt.renderers.enable('notebook')\n",
    "import altair_latimes as lat\n",
    "alt.themes.register('latimes', lat.theme)\n",
    "alt.themes.enable('latimes')\n",
    "pd.options.display.float_format = '{:,.0f}'.format"
   ]
  },
  {
   "cell_type": "markdown",
   "metadata": {},
   "source": [
    "### Read the fire payroll data"
   ]
  },
  {
   "cell_type": "code",
   "execution_count": null,
   "metadata": {},
   "outputs": [],
   "source": [
    "payroll_fire = pd.read_csv('/Users/mhustiles/data/data/controller/output/payroll_fire.csv')\n",
    "agency_overtime = pd.read_csv('/Users/mhustiles/data/github/notebooks/payroll/output/agency_overtime.csv')"
   ]
  },
  {
   "cell_type": "code",
   "execution_count": null,
   "metadata": {},
   "outputs": [],
   "source": [
    "len(payroll_fire)"
   ]
  },
  {
   "cell_type": "markdown",
   "metadata": {},
   "source": [
    "---"
   ]
  },
  {
   "cell_type": "markdown",
   "metadata": {},
   "source": [
    "### What about agencies in our area? "
   ]
  },
  {
   "cell_type": "code",
   "execution_count": null,
   "metadata": {},
   "outputs": [],
   "source": [
    "area_counties = ['LOS ANGELES', 'ORANGE', 'KERN', 'VENTURA', 'RIVERSIDE', 'SAN BERNARDINO']"
   ]
  },
  {
   "cell_type": "code",
   "execution_count": null,
   "metadata": {},
   "outputs": [],
   "source": [
    "la_agency_overtime = agency_overtime[(agency_overtime['employercounty'] == 'LOS ANGELES') &\\\n",
    "                                         (agency_overtime['type'] != 'SPECIAL DISTRICT')]\n",
    "\n",
    "la_area_agency_overtime = agency_overtime[(agency_overtime['employercounty'].isin(area_counties)) &\\\n",
    "                                         (agency_overtime['type'] != 'SPECIAL DISTRICT')]"
   ]
  },
  {
   "cell_type": "code",
   "execution_count": null,
   "metadata": {
    "scrolled": true
   },
   "outputs": [],
   "source": [
    "la_agency_grouped = agency_overtime[agency_overtime['employercounty'].isin(area_counties)]\\\n",
    "    .groupby(['year']).agg({'ot_share_wages':'mean'}).reset_index()"
   ]
  },
  {
   "cell_type": "code",
   "execution_count": null,
   "metadata": {},
   "outputs": [],
   "source": [
    "la_agency_grouped"
   ]
  },
  {
   "cell_type": "markdown",
   "metadata": {},
   "source": [
    "### Just cities"
   ]
  },
  {
   "cell_type": "code",
   "execution_count": null,
   "metadata": {},
   "outputs": [],
   "source": [
    "cities_overtime = agency_overtime[(agency_overtime.type == 'CITY')]\n",
    "cities_overtime.head()"
   ]
  },
  {
   "cell_type": "markdown",
   "metadata": {},
   "source": [
    "### Statewide"
   ]
  },
  {
   "cell_type": "code",
   "execution_count": null,
   "metadata": {},
   "outputs": [],
   "source": [
    "state = payroll_fire.groupby(['year']).agg({'adjusted_overtime':'sum', \\\n",
    "                                            'adjusted_overtime':'sum', \\\n",
    "                                            'adjusted_wages':'sum', \\\n",
    "                                            'adjusted_benefits':'sum'}).reset_index()\n",
    "\n",
    "state.rename(columns={'adjusted_overtime': 'Overtime',\\\n",
    "                      'adjusted_wages': 'Wages',\\\n",
    "                      'adjusted_benefits':'Benefits',\\\n",
    "                     'year': 'Year'}, inplace=True)"
   ]
  },
  {
   "cell_type": "code",
   "execution_count": null,
   "metadata": {},
   "outputs": [],
   "source": [
    "statemelt = pd.melt(state,id_vars=['Year'], value_vars=['Overtime','Wages','Benefits'],\\\n",
    "        var_name='Compensation', value_name='Total')"
   ]
  },
  {
   "cell_type": "code",
   "execution_count": null,
   "metadata": {},
   "outputs": [],
   "source": [
    "alt.Chart(statemelt).mark_area().encode(\n",
    "    x=alt.X(\"Year:N\", title=' '),\n",
    "    y=alt.Y(\"Total:Q\", title=' ', axis=alt.Axis(tickCount=6, format='$,N')),\n",
    "    color=\"Compensation:N\"\n",
    ").properties(width=500, title='Firefighter compensation in California')"
   ]
  },
  {
   "cell_type": "markdown",
   "metadata": {},
   "source": [
    "--- "
   ]
  },
  {
   "cell_type": "markdown",
   "metadata": {},
   "source": [
    "### Charting firefighter wages and benefits in Los Angeles"
   ]
  },
  {
   "cell_type": "code",
   "execution_count": null,
   "metadata": {},
   "outputs": [],
   "source": [
    "la = payroll_fire[(payroll_fire['employerfull'].str.contains('LOS_ANGELES'))]\\\n",
    ".groupby(['year', 'employerfull']).agg({'adjusted_overtime':'sum', \\\n",
    "                                            'adjusted_wages':'sum', \\\n",
    "                                            'adjusted_benefits':'sum'\\\n",
    "                                            }).reset_index()"
   ]
  },
  {
   "cell_type": "markdown",
   "metadata": {},
   "source": [
    "### Clean up the column names"
   ]
  },
  {
   "cell_type": "code",
   "execution_count": null,
   "metadata": {},
   "outputs": [],
   "source": [
    "la.rename(columns={'adjusted_overtime': 'Overtime',\\\n",
    "                      'adjusted_wages': 'Wages',\\\n",
    "                   'adjusted_benefits':'Benefits',\\\n",
    "                     'year': 'Year',\n",
    "                      'employerfull': 'Place'}, inplace=True)"
   ]
  },
  {
   "cell_type": "markdown",
   "metadata": {},
   "source": [
    "### Melt the dataframe for charting"
   ]
  },
  {
   "cell_type": "code",
   "execution_count": null,
   "metadata": {},
   "outputs": [],
   "source": [
    "la_melt = pd.melt(la,id_vars=['Year', 'Place'], value_vars=['Overtime','Wages', 'Benefits'],\\\n",
    "        var_name='Compensation', value_name='Total')"
   ]
  },
  {
   "cell_type": "code",
   "execution_count": null,
   "metadata": {},
   "outputs": [],
   "source": [
    "alt.Chart(la_melt).mark_area().encode(\n",
    "    x=alt.X(\"Year:N\", title=' '),\n",
    "    y=alt.Y(\"Total:Q\", title=' ', axis=alt.Axis(tickCount=6, format='$,N')),\n",
    "    color=\"Compensation:N\",\n",
    "    facet='Place:N'\n",
    ").properties(width=300, height=300, columns=2, title='Firefighter compensation in Los Angeles')"
   ]
  },
  {
   "cell_type": "markdown",
   "metadata": {},
   "source": [
    "*Note: Los Angeles city [changed its methodology for reporting](https://www.dailynews.com/2019/06/14/los-angeles-finally-discloses-how-much-it-actually-pays-for-each-employees-benefits/) data in 2018, resulting in a spike.*"
   ]
  },
  {
   "cell_type": "markdown",
   "metadata": {},
   "source": [
    "---"
   ]
  },
  {
   "cell_type": "markdown",
   "metadata": {},
   "source": [
    "### Los Angeles-area fire agencies: Share of wages in overtime"
   ]
  },
  {
   "cell_type": "code",
   "execution_count": null,
   "metadata": {},
   "outputs": [],
   "source": [
    "la_area = pd.DataFrame(la_agency_overtime[la_agency_overtime['employerfull'] \\\n",
    "                                          != 'LA_HABRA_HEIGHTS_CITY'][['employerfull', 'year', 'ot_share_wages']])"
   ]
  },
  {
   "cell_type": "code",
   "execution_count": null,
   "metadata": {},
   "outputs": [],
   "source": [
    "alt.Chart(la_agency_grouped).mark_area().encode(\n",
    "    x=alt.X('year:N', title='', axis=alt.Axis(format='')),\n",
    "    y=alt.Y(\"ot_share_wages:Q\",\n",
    "        scale=alt.Scale(domain=(0, 25)), title=\"\", axis=alt.Axis(format='', tickCount=6)),\n",
    ").properties(height=500, width=500, columns=6, title='L.A. region: Overtime\\'s share of firefighter wages')"
   ]
  },
  {
   "cell_type": "code",
   "execution_count": null,
   "metadata": {},
   "outputs": [],
   "source": [
    "la_area['ot_share_wages'] = la_area['ot_share_wages']/100"
   ]
  },
  {
   "cell_type": "code",
   "execution_count": null,
   "metadata": {
    "scrolled": false
   },
   "outputs": [],
   "source": [
    "alt.Chart(la_area).mark_area().encode(\n",
    "    x=alt.X('year:N', title='', axis=alt.Axis(format='')),\n",
    "    y=alt.Y(\"ot_share_wages:Q\", title=\"\", axis=alt.Axis(format='%', tickCount=5)),\n",
    "    facet='employerfull:N'\n",
    ").properties(height=200, width=200, columns=4, \\\n",
    "             title='L.A.-area agencies: Overtime\\'s share of firefighter wages')"
   ]
  },
  {
   "cell_type": "markdown",
   "metadata": {},
   "source": [
    "### What's the rate of increase for OT, wages and benefits for each place? "
   ]
  },
  {
   "cell_type": "markdown",
   "metadata": {},
   "source": [
    "### What's the share of OT for the largest departments in the state? "
   ]
  }
 ],
 "metadata": {
  "kernelspec": {
   "display_name": "Python 3",
   "language": "python",
   "name": "python3"
  },
  "language_info": {
   "codemirror_mode": {
    "name": "ipython",
    "version": 3
   },
   "file_extension": ".py",
   "mimetype": "text/x-python",
   "name": "python",
   "nbconvert_exporter": "python",
   "pygments_lexer": "ipython3",
   "version": "3.7.3"
  }
 },
 "nbformat": 4,
 "nbformat_minor": 2
}
