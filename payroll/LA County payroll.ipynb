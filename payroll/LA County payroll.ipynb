{
 "cells": [
  {
   "cell_type": "code",
   "execution_count": 1,
   "metadata": {},
   "outputs": [
    {
     "data": {
      "text/plain": [
       "ThemeRegistry.enable('latimes')"
      ]
     },
     "execution_count": 1,
     "metadata": {},
     "output_type": "execute_result"
    }
   ],
   "source": [
    "import pandas as pd\n",
    "import matplotlib\n",
    "import json\n",
    "import numpy as np\n",
    "from altair import datum\n",
    "import altair as alt\n",
    "alt.renderers.enable('notebook')\n",
    "import altair_latimes as lat\n",
    "alt.themes.register('latimes', lat.theme)\n",
    "alt.themes.enable('latimes')"
   ]
  },
  {
   "cell_type": "code",
   "execution_count": 2,
   "metadata": {},
   "outputs": [],
   "source": [
    "# https://data.lacounty.gov/Human-Resources/LA-County-Employee-Salaries/8rdv-6nb6\n",
    "src = pd.read_csv('/Users/mhustiles/data/data/LA/LA_County_Employee_Salaries.csv')"
   ]
  },
  {
   "cell_type": "code",
   "execution_count": 3,
   "metadata": {},
   "outputs": [],
   "source": [
    "payroll = src"
   ]
  },
  {
   "cell_type": "code",
   "execution_count": 4,
   "metadata": {},
   "outputs": [],
   "source": [
    "payroll.columns = payroll.columns.str.strip().str.lower().str.replace(' ', '_')\\\n",
    "    .str.replace('(', '').str.replace(')', '')"
   ]
  },
  {
   "cell_type": "code",
   "execution_count": 5,
   "metadata": {},
   "outputs": [],
   "source": [
    "payroll_grouped = payroll.groupby(['employee_name', 'department']).agg('size')\\\n",
    "    .sort_values(ascending=False).reset_index(name='total')"
   ]
  },
  {
   "cell_type": "code",
   "execution_count": 51,
   "metadata": {},
   "outputs": [],
   "source": [
    "payroll_person = payroll[(payroll['employee_last_name'] == 'BURCIAGA') \\\n",
    "                         & (payroll['employee_first_name'] == 'SERGIO') ]"
   ]
  },
  {
   "cell_type": "code",
   "execution_count": 52,
   "metadata": {},
   "outputs": [],
   "source": [
    "payroll_person.to_csv('payroll_person.csv')"
   ]
  },
  {
   "cell_type": "code",
   "execution_count": 53,
   "metadata": {},
   "outputs": [
    {
     "data": {
      "application/javascript": [
       "const spec = {\"config\": {\"view\": {\"width\": 800, \"height\": 450}, \"background\": \"#ffffff\", \"title\": {\"anchor\": \"start\", \"font\": \"Benton Gothic Bold, sans\", \"fontColor\": \"#000000\", \"fontSize\": 22, \"fontWeight\": \"normal\"}, \"arc\": {\"fill\": \"#82c6df\"}, \"area\": {\"fill\": \"#82c6df\"}, \"line\": {\"stroke\": \"#82c6df\", \"strokeWidth\": 3}, \"path\": {\"stroke\": \"#82c6df\"}, \"rect\": {\"fill\": \"#82c6df\"}, \"shape\": {\"stroke\": \"#82c6df\"}, \"bar\": {\"fill\": \"#82c6df\"}, \"point\": {\"stroke\": \"#82c6df\"}, \"symbol\": {\"fill\": \"#82c6df\", \"size\": 30}, \"axis\": {\"titleFont\": \"Benton Gothic Bold, sans\", \"titleFontSize\": 13, \"titleFontWeight\": \"normal\", \"labelFont\": \"Benton Gothic, sans\", \"labelFontSize\": 11.5, \"labelFontWeight\": \"normal\"}, \"axisX\": {\"labelAngle\": 0, \"labelPadding\": 4, \"tickSize\": 3}, \"axisY\": {\"labelBaseline\": \"middle\", \"maxExtent\": 45, \"minExtent\": 45, \"tickSize\": 2, \"titleAlign\": \"left\", \"titleAngle\": 0, \"titleX\": -45, \"titleY\": -11}, \"legend\": {\"titleFont\": \"Benton Gothic Bold, sans\", \"titleFontSize\": 13, \"titleFontWeight\": \"normal\", \"symbolType\": \"square\", \"labelFont\": \"Benton Gothic, sans\", \"labelFontSize\": 11.5}, \"range\": {\"category\": [\"#3580b1\", \"#ec8431\", \"#ab7fb4\", \"#c89d29\", \"#adc839\", \"#829eb1\"], \"diverging\": [\"#e68a4f\", \"#f4bb6a\", \"#f9e39c\", \"#dadfe2\", \"#a6b7c6\", \"#849eae\"], \"heatmap\": [\"#fbf2c7\", \"#f9e39c\", \"#f8d36e\", \"#f4bb6a\", \"#e68a4f\", \"#d15a40\", \"#ab4232\"], \"ordinal\": [\"#fbf2c7\", \"#f9e39c\", \"#f8d36e\", \"#f4bb6a\", \"#e68a4f\", \"#d15a40\", \"#ab4232\"], \"ramp\": [\"#fbf2c7\", \"#f9e39c\", \"#f8d36e\", \"#f4bb6a\", \"#e68a4f\", \"#d15a40\", \"#ab4232\"]}}, \"data\": {\"name\": \"data-ce97ee03a4fc3854815778bcfd8111c5\"}, \"mark\": \"bar\", \"encoding\": {\"x\": {\"type\": \"nominal\", \"field\": \"year\", \"title\": \"\"}, \"y\": {\"type\": \"quantitative\", \"axis\": {\"format\": \"$,N\", \"tickCount\": 5}, \"field\": \"total_earnings\", \"title\": \"\"}}, \"height\": 300, \"title\": \"Total earnings\", \"width\": 350, \"$schema\": \"https://vega.github.io/schema/vega-lite/v3.4.0.json\", \"datasets\": {\"data-ce97ee03a4fc3854815778bcfd8111c5\": [{\"year\": 2013, \"employee_last_name\": \"BURCIAGA\", \"employee_first_name\": \"SERGIO\", \"middle_initial\": \"R\", \"position_title\": \"FIRE CAPTAIN (56 HOUR)\", \"department\": \"Fire Department\", \"base_earnings\": 122201.72, \"overtime_earnings\": 142773.91, \"other_earnings\": 2200.0, \"leave_time_payouts\": 2982.7, \"total_earnings\": 270158.33, \"medical,_dental,_vision\": 18982.56, \"retirement_surcharge\": 3684.78, \"pension_contributions\": 30954.65, \"deferred_contributions\": 0.0, \"ltd_life_&_medical_tax\": 326.48, \"other_benefits\": 75.0, \"total_benefits\": 54023.47, \"total_compensation\": 324181.8, \"employee_name\": \"SERGIO BURCIAGA\"}, {\"year\": 2014, \"employee_last_name\": \"BURCIAGA\", \"employee_first_name\": \"SERGIO\", \"middle_initial\": \"R\", \"position_title\": \"FIRE CAPTAIN (56 HOUR)\", \"department\": \"Fire Department\", \"base_earnings\": 124638.63, \"overtime_earnings\": 88442.26, \"other_earnings\": 3302.01, \"leave_time_payouts\": 15717.19, \"total_earnings\": 232100.09, \"medical,_dental,_vision\": 19477.4, \"retirement_surcharge\": 4253.58, \"pension_contributions\": 37652.02, \"deferred_contributions\": 0.0, \"ltd_life_&_medical_tax\": 318.08, \"other_benefits\": 75.0, \"total_benefits\": 61776.08, \"total_compensation\": 293876.17, \"employee_name\": \"SERGIO BURCIAGA\"}, {\"year\": 2015, \"employee_last_name\": \"BURCIAGA\", \"employee_first_name\": \"SERGIO\", \"middle_initial\": \"R\", \"position_title\": \"FIRE CAPTAIN (56 HOUR)\", \"department\": \"Fire Department\", \"base_earnings\": 129505.38, \"overtime_earnings\": 192501.55, \"other_earnings\": 2961.75, \"leave_time_payouts\": 517.15, \"total_earnings\": 325485.83, \"medical,_dental,_vision\": 21046.92, \"retirement_surcharge\": 4261.71, \"pension_contributions\": 35198.6, \"deferred_contributions\": 0.0, \"ltd_life_&_medical_tax\": 322.28, \"other_benefits\": 75.0, \"total_benefits\": 60904.51, \"total_compensation\": 386390.34, \"employee_name\": \"SERGIO BURCIAGA\"}, {\"year\": 2016, \"employee_last_name\": \"BURCIAGA\", \"employee_first_name\": \"SERGIO\", \"middle_initial\": \"R\", \"position_title\": \"FIRE CAPTAIN (56 HOUR)\", \"department\": \"Fire Department\", \"base_earnings\": 133692.0, \"overtime_earnings\": 279456.0, \"other_earnings\": 3572.0, \"leave_time_payouts\": 1087.0, \"total_earnings\": 417806.0, \"medical,_dental,_vision\": 22007.0, \"retirement_surcharge\": 4420.0, \"pension_contributions\": 34186.0, \"deferred_contributions\": 0.0, \"ltd_life_&_medical_tax\": 361.0, \"other_benefits\": 75.0, \"total_benefits\": 61049.0, \"total_compensation\": 478855.0, \"employee_name\": \"SERGIO BURCIAGA\"}, {\"year\": 2017, \"employee_last_name\": \"BURCIAGA\", \"employee_first_name\": \"SERGIO\", \"middle_initial\": \"R\", \"position_title\": \"FIRE CAPTAIN (56 HOUR)\", \"department\": \"Fire Department\", \"base_earnings\": 126362.0, \"overtime_earnings\": 322677.0, \"other_earnings\": 4208.0, \"leave_time_payouts\": 3917.0, \"total_earnings\": 457164.0, \"medical,_dental,_vision\": 21586.0, \"retirement_surcharge\": 4274.0, \"pension_contributions\": 35393.0, \"deferred_contributions\": 0.0, \"ltd_life_&_medical_tax\": 510.0, \"other_benefits\": 71.0, \"total_benefits\": 61834.0, \"total_compensation\": 518998.0, \"employee_name\": \"SERGIO BURCIAGA\"}, {\"year\": 2018, \"employee_last_name\": \"BURCIAGA\", \"employee_first_name\": \"SERGIO\", \"middle_initial\": \"R\", \"position_title\": \"FIRE CAPTAIN (56 HOUR)\", \"department\": \"FIRE DEPARTMENT\", \"base_earnings\": 140563.0, \"overtime_earnings\": 284373.0, \"other_earnings\": 4755.0, \"leave_time_payouts\": 6278.0, \"total_earnings\": 435969.0, \"medical,_dental,_vision\": 19734.0, \"retirement_surcharge\": 4822.0, \"pension_contributions\": 40138.0, \"deferred_contributions\": 0.0, \"ltd_life_&_medical_tax\": 594.0, \"other_benefits\": 0.0, \"total_benefits\": 65288.0, \"total_compensation\": 501257.0, \"employee_name\": \"SERGIO BURCIAGA\"}]}};\n",
       "const opt = {};\n",
       "const type = \"vega-lite\";\n",
       "const id = \"9de1d11e-9a6d-4a37-b88c-eeaa21fe7b87\";\n",
       "\n",
       "const output_area = this;\n",
       "\n",
       "require([\"nbextensions/jupyter-vega/index\"], function(vega) {\n",
       "  const target = document.createElement(\"div\");\n",
       "  target.id = id;\n",
       "  target.className = \"vega-embed\";\n",
       "\n",
       "  const style = document.createElement(\"style\");\n",
       "  style.textContent = [\n",
       "    \".vega-embed .error p {\",\n",
       "    \"  color: firebrick;\",\n",
       "    \"  font-size: 14px;\",\n",
       "    \"}\",\n",
       "  ].join(\"\\\\n\");\n",
       "\n",
       "  // element is a jQuery wrapped DOM element inside the output area\n",
       "  // see http://ipython.readthedocs.io/en/stable/api/generated/\\\n",
       "  // IPython.display.html#IPython.display.Javascript.__init__\n",
       "  element[0].appendChild(target);\n",
       "  element[0].appendChild(style);\n",
       "\n",
       "  vega.render(\"#\" + id, spec, type, opt, output_area);\n",
       "}, function (err) {\n",
       "  if (err.requireType !== \"scripterror\") {\n",
       "    throw(err);\n",
       "  }\n",
       "});\n"
      ],
      "text/plain": [
       "<vega.vegalite.VegaLite at 0x122bac048>"
      ]
     },
     "metadata": {
      "jupyter-vega": "#9de1d11e-9a6d-4a37-b88c-eeaa21fe7b87"
     },
     "output_type": "display_data"
    },
    {
     "data": {
      "text/plain": []
     },
     "execution_count": 53,
     "metadata": {},
     "output_type": "execute_result"
    },
    {
     "data": {
      "image/png": "[encoded data removed]"
     },
     "metadata": {
      "jupyter-vega": "#9de1d11e-9a6d-4a37-b88c-eeaa21fe7b87"
     },
     "output_type": "display_data"
    }
   ],
   "source": [
    "alt.Chart(payroll_person).mark_bar().encode(\n",
    "    x=alt.X('year:N', title=''),\n",
    "    y=alt.Y('total_earnings:Q', title='', axis=alt.Axis(format='$,N', tickCount=5))\n",
    ").properties(width=350,height=300, title='Total earnings')"
   ]
  }
 ],
 "metadata": {
  "kernelspec": {
   "display_name": "Python 3",
   "language": "python",
   "name": "python3"
  },
  "language_info": {
   "codemirror_mode": {
    "name": "ipython",
    "version": 3
   },
   "file_extension": ".py",
   "mimetype": "text/x-python",
   "name": "python",
   "nbconvert_exporter": "python",
   "pygments_lexer": "ipython3",
   "version": "3.7.3"
  }
 },
 "nbformat": 4,
 "nbformat_minor": 2
}
