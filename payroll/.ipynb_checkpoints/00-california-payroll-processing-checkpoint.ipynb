{
 "cells": [
  {
   "cell_type": "markdown",
   "metadata": {},
   "source": [
    "# Processing California's public payrolls"
   ]
  },
  {
   "cell_type": "markdown",
   "metadata": {},
   "source": [
    "This notebook processess annual government payroll [data](https://publicpay.ca.gov/Reports/RawExport.aspx) compiled and released annually by the California state controller's office. The data include anonymized salary information for all employees at cities, counties, special districts and state government. "
   ]
  },
  {
   "cell_type": "markdown",
   "metadata": {},
   "source": [
    "---"
   ]
  },
  {
   "cell_type": "markdown",
   "metadata": {},
   "source": [
    "### Load python tools"
   ]
  },
  {
   "cell_type": "code",
   "execution_count": 1,
   "metadata": {},
   "outputs": [
    {
     "data": {
      "text/plain": [
       "ThemeRegistry.enable('latimes')"
      ]
     },
     "execution_count": 1,
     "metadata": {},
     "output_type": "execute_result"
    }
   ],
   "source": [
    "import pandas as pd\n",
    "import zipfile\n",
    "from urllib.request import urlopen \n",
    "import pyarrow\n",
    "import os\n",
    "import glob\n",
    "import io\n",
    "import requests\n",
    "import matplotlib\n",
    "import json\n",
    "import numpy as np\n",
    "from altair import datum\n",
    "import altair as alt\n",
    "alt.renderers.enable('notebook')\n",
    "import altair_latimes as lat\n",
    "alt.themes.register('latimes', lat.theme)\n",
    "alt.themes.enable('latimes')"
   ]
  },
  {
   "cell_type": "markdown",
   "metadata": {},
   "source": [
    "### Download zipped salary tables by year and agency type"
   ]
  },
  {
   "cell_type": "code",
   "execution_count": 2,
   "metadata": {},
   "outputs": [],
   "source": [
    "os.chdir('/Users/mhustiles/data/data/controller/input/')"
   ]
  },
  {
   "cell_type": "code",
   "execution_count": 3,
   "metadata": {},
   "outputs": [],
   "source": [
    "formaturl = lambda x: 'https://publicpay.ca.gov/RawExport/' + f'{x[1]}_' + f'{x[0]}' + '.zip'"
   ]
  },
  {
   "cell_type": "code",
   "execution_count": 83,
   "metadata": {},
   "outputs": [],
   "source": [
    "metadata = []\n",
    "for y in range(2012,2019):\n",
    "#     for e in ['City', 'County', 'SpecialDistrict', 'StateDepartment']:\n",
    "    for e in ['City', 'County']:\n",
    "        metadata.append(dict(entity = e, year = y, url = formaturl((e, y))))"
   ]
  },
  {
   "cell_type": "markdown",
   "metadata": {},
   "source": [
    "### Extract CSVs from .zip files, and then discard the .zip files"
   ]
  },
  {
   "cell_type": "code",
   "execution_count": null,
   "metadata": {
    "scrolled": false
   },
   "outputs": [
    {
     "name": "stdout",
     "output_type": "stream",
     "text": [
      "--2019-11-07 15:06:08--  https://publicpay.ca.gov/RawExport/2012_City.zip\n",
      "Resolving publicpay.ca.gov (publicpay.ca.gov)... 67.157.158.198\n",
      "Connecting to publicpay.ca.gov (publicpay.ca.gov)|67.157.158.198|:443... connected.\n",
      "HTTP request sent, awaiting response... 200 OK\n",
      "Length: 6312863 (6.0M) [application/x-zip-compressed]\n",
      "Saving to: ‘2012_City.zip’\n",
      "\n",
      "2012_City.zip       100%[===================>]   6.02M  3.27MB/s    in 1.8s    \n",
      "\n",
      "2019-11-07 15:06:10 (3.27 MB/s) - ‘2012_City.zip’ saved [6312863/6312863]\n",
      "\n",
      "Archive:  2012_City.zip\n",
      "  inflating: 2012_City.csv           \n",
      "--2019-11-07 15:06:11--  https://publicpay.ca.gov/RawExport/2012_County.zip\n",
      "Resolving publicpay.ca.gov (publicpay.ca.gov)... 67.157.158.198\n",
      "Connecting to publicpay.ca.gov (publicpay.ca.gov)|67.157.158.198|:443... connected.\n",
      "HTTP request sent, awaiting response... 200 OK\n",
      "Length: 7975474 (7.6M) [application/x-zip-compressed]\n",
      "Saving to: ‘2012_County.zip’\n",
      "\n",
      "2012_County.zip     100%[===================>]   7.61M  3.97MB/s    in 1.9s    \n",
      "\n",
      "2019-11-07 15:06:13 (3.97 MB/s) - ‘2012_County.zip’ saved [7975474/7975474]\n",
      "\n",
      "Archive:  2012_County.zip\n",
      "  inflating: 2012_County.csv         \n",
      "--2019-11-07 15:06:14--  https://publicpay.ca.gov/RawExport/2013_City.zip\n",
      "Resolving publicpay.ca.gov (publicpay.ca.gov)... 67.157.158.198\n",
      "Connecting to publicpay.ca.gov (publicpay.ca.gov)|67.157.158.198|:443... connected.\n",
      "HTTP request sent, awaiting response... 200 OK\n",
      "Length: 6548391 (6.2M) [application/x-zip-compressed]\n",
      "Saving to: ‘2013_City.zip’\n",
      "\n",
      "2013_City.zip       100%[===================>]   6.24M  2.90MB/s    in 2.2s    \n",
      "\n",
      "2019-11-07 15:06:16 (2.90 MB/s) - ‘2013_City.zip’ saved [6548391/6548391]\n",
      "\n",
      "Archive:  2013_City.zip\n",
      "  inflating: 2013_City.csv           \n",
      "--2019-11-07 15:06:16--  https://publicpay.ca.gov/RawExport/2013_County.zip\n",
      "Resolving publicpay.ca.gov (publicpay.ca.gov)... 67.157.158.198\n",
      "Connecting to publicpay.ca.gov (publicpay.ca.gov)|67.157.158.198|:443... connected.\n",
      "HTTP request sent, awaiting response... 200 OK\n",
      "Length: 8129667 (7.8M) [application/x-zip-compressed]\n",
      "Saving to: ‘2013_County.zip’\n",
      "\n",
      "2013_County.zip     100%[===================>]   7.75M  4.39MB/s    in 1.8s    \n",
      "\n",
      "2019-11-07 15:06:18 (4.39 MB/s) - ‘2013_County.zip’ saved [8129667/8129667]\n",
      "\n",
      "Archive:  2013_County.zip\n",
      "  inflating: 2013_County.csv         \n",
      "--2019-11-07 15:06:19--  https://publicpay.ca.gov/RawExport/2014_City.zip\n",
      "Resolving publicpay.ca.gov (publicpay.ca.gov)... 67.157.158.198\n",
      "Connecting to publicpay.ca.gov (publicpay.ca.gov)|67.157.158.198|:443... connected.\n",
      "HTTP request sent, awaiting response... 200 OK\n",
      "Length: 6616410 (6.3M) [application/x-zip-compressed]\n",
      "Saving to: ‘2014_City.zip’\n",
      "\n",
      "2014_City.zip       100%[===================>]   6.31M  5.13MB/s    in 1.2s    \n",
      "\n",
      "2019-11-07 15:06:20 (5.13 MB/s) - ‘2014_City.zip’ saved [6616410/6616410]\n",
      "\n",
      "Archive:  2014_City.zip\n",
      "replace 2014_City.csv? [y]es, [n]o, [A]ll, [N]one, [r]ename: "
     ]
    }
   ],
   "source": [
    "for m in metadata:\n",
    "    !wget '{m['url']}'\n",
    "    !unzip \\*.zip\n",
    "    !rm -f *.zip"
   ]
  },
  {
   "cell_type": "markdown",
   "metadata": {},
   "source": [
    "---"
   ]
  },
  {
   "cell_type": "markdown",
   "metadata": {},
   "source": [
    "### Read all the text files, loop and store them in a dataframe"
   ]
  },
  {
   "cell_type": "code",
   "execution_count": null,
   "metadata": {},
   "outputs": [],
   "source": [
    "path = '/Users/mhustiles/data/data/controller/input/'\n",
    "all_files = glob.glob(os.path.join(path, \"*.csv\"))\n",
    "\n",
    "df_from_each_file = (pd.read_csv(f, encoding = \"ISO-8859-1\", low_memory=False, dtype = {'DepartmentOrSubdivision': 'object', 'Year': 'object'}) for f in all_files)\n",
    "concatenated_df = pd.concat(df_from_each_file, ignore_index=True)"
   ]
  },
  {
   "cell_type": "code",
   "execution_count": null,
   "metadata": {},
   "outputs": [],
   "source": [
    "concatenated_df.head()"
   ]
  },
  {
   "cell_type": "markdown",
   "metadata": {},
   "source": [
    "### Trim the dataframe to the columns we need"
   ]
  },
  {
   "cell_type": "code",
   "execution_count": null,
   "metadata": {},
   "outputs": [],
   "source": [
    "payroll = pd.DataFrame(concatenated_df[['Year','EmployerType','EmployerPopulation','EmployerName','DepartmentOrSubdivision',\\\n",
    "                 'Position','OvertimePay','TotalWages', 'TotalRetirementAndHealthContribution']])"
   ]
  },
  {
   "cell_type": "code",
   "execution_count": null,
   "metadata": {},
   "outputs": [],
   "source": [
    "payroll.head()"
   ]
  },
  {
   "cell_type": "markdown",
   "metadata": {},
   "source": [
    "### Not everyone reports (or pays) overtime"
   ]
  },
  {
   "cell_type": "code",
   "execution_count": null,
   "metadata": {},
   "outputs": [],
   "source": [
    "payroll['OvertimePay'].fillna(0, inplace = True)\n",
    "payroll['DepartmentOrSubdivision'].fillna('NOT LISTED', inplace = True)\n",
    "payroll['EmployerPopulation'].fillna(0, inplace = True)"
   ]
  },
  {
   "cell_type": "code",
   "execution_count": null,
   "metadata": {},
   "outputs": [],
   "source": [
    "payroll.head()"
   ]
  },
  {
   "cell_type": "markdown",
   "metadata": {},
   "source": [
    "### Clean up column headers"
   ]
  },
  {
   "cell_type": "code",
   "execution_count": null,
   "metadata": {},
   "outputs": [],
   "source": [
    "payroll.columns = payroll.columns.str.strip().str.lower().str.replace(' ', '_')\\\n",
    "                    .str.replace('(', '').str.replace(')', '').str.replace('-','_')"
   ]
  },
  {
   "cell_type": "code",
   "execution_count": null,
   "metadata": {},
   "outputs": [],
   "source": [
    "payroll.head()"
   ]
  },
  {
   "cell_type": "code",
   "execution_count": null,
   "metadata": {},
   "outputs": [],
   "source": [
    "payroll.rename(columns = {\n",
    "'employertype':'type',\n",
    "'employerpopulation':'population',\n",
    "'employername':'employer',\n",
    "'departmentorsubdivision':'department',\n",
    "'overtimepay':'overtime',\n",
    "'totalretirementandhealthcontribution':'benefits',\n",
    "'totalwages':'wages',\n",
    " }, inplace = True)"
   ]
  },
  {
   "cell_type": "markdown",
   "metadata": {},
   "source": [
    "### Uppercase everything because their title casing across hundreds of agencies is janky"
   ]
  },
  {
   "cell_type": "code",
   "execution_count": null,
   "metadata": {},
   "outputs": [],
   "source": [
    "payroll = payroll.apply(lambda x: x.astype(str).str.upper())"
   ]
  },
  {
   "cell_type": "markdown",
   "metadata": {},
   "source": [
    "### Crudely filter for fire jobs"
   ]
  },
  {
   "cell_type": "code",
   "execution_count": null,
   "metadata": {},
   "outputs": [],
   "source": [
    "fire_payroll = payroll.loc[(payroll['department'].str.contains('FIRE'))]"
   ]
  },
  {
   "cell_type": "markdown",
   "metadata": {},
   "source": [
    "### How do the dataframes look? "
   ]
  },
  {
   "cell_type": "code",
   "execution_count": null,
   "metadata": {},
   "outputs": [],
   "source": [
    "payroll.head()"
   ]
  },
  {
   "cell_type": "code",
   "execution_count": null,
   "metadata": {},
   "outputs": [],
   "source": [
    "fire_payroll.head()"
   ]
  },
  {
   "cell_type": "markdown",
   "metadata": {},
   "source": [
    "### How many records do we have here?"
   ]
  },
  {
   "cell_type": "code",
   "execution_count": null,
   "metadata": {},
   "outputs": [],
   "source": [
    "# How many records?\n",
    "len(payroll)"
   ]
  },
  {
   "cell_type": "code",
   "execution_count": null,
   "metadata": {},
   "outputs": [],
   "source": [
    "# How many records?\n",
    "len(fire_payroll)"
   ]
  },
  {
   "cell_type": "markdown",
   "metadata": {},
   "source": [
    "---"
   ]
  },
  {
   "cell_type": "markdown",
   "metadata": {},
   "source": [
    "### Export to a lightweight format"
   ]
  },
  {
   "cell_type": "code",
   "execution_count": null,
   "metadata": {},
   "outputs": [],
   "source": [
    "payroll.reset_index().to_feather('/Users/mhustiles/data/data/controller/output/payroll.feather')"
   ]
  },
  {
   "cell_type": "markdown",
   "metadata": {},
   "source": [
    "---"
   ]
  },
  {
   "cell_type": "markdown",
   "metadata": {},
   "source": [
    "Data source: https://publicpay.ca.gov/Reports/RawExport.aspx"
   ]
  }
 ],
 "metadata": {
  "kernelspec": {
   "display_name": "Python 3",
   "language": "python",
   "name": "python3"
  },
  "language_info": {
   "codemirror_mode": {
    "name": "ipython",
    "version": 3
   },
   "file_extension": ".py",
   "mimetype": "text/x-python",
   "name": "python",
   "nbconvert_exporter": "python",
   "pygments_lexer": "ipython3",
   "version": "3.7.3"
  }
 },
 "nbformat": 4,
 "nbformat_minor": 2
}
