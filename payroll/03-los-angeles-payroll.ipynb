{
 "cells": [
  {
   "cell_type": "markdown",
   "metadata": {},
   "source": [
    "# Analyzing fire department payrolls in L.A.: 2011-2018"
   ]
  },
  {
   "cell_type": "markdown",
   "metadata": {},
   "source": [
    "This notebook analyzes annual government payroll [data](https://publicpay.ca.gov/Reports/RawExport.aspx) compiled and released annually by the California state controller's office. The data include anonymized salary information for all employees at cities, counties, special districts and state government. "
   ]
  },
  {
   "cell_type": "markdown",
   "metadata": {},
   "source": [
    "---"
   ]
  },
  {
   "cell_type": "markdown",
   "metadata": {},
   "source": [
    "### Load python tools"
   ]
  },
  {
   "cell_type": "code",
   "execution_count": 1,
   "metadata": {},
   "outputs": [],
   "source": [
    "import pandas as pd\n",
    "import geopandas as gpd\n",
    "import cpi\n",
    "from urllib.request import urlopen \n",
    "import pyarrow\n",
    "import jenkspy\n",
    "import matplotlib.pyplot as plt\n",
    "%matplotlib inline\n",
    "import json\n",
    "import numpy as np\n",
    "from altair import datum\n",
    "import altair as alt\n",
    "alt.renderers.enable('notebook')\n",
    "import altair_latimes as lat\n",
    "alt.themes.register('latimes', lat.theme)\n",
    "alt.themes.enable('latimes')\n",
    "pd.options.display.float_format = '{:,.0f}'.format"
   ]
  },
  {
   "cell_type": "markdown",
   "metadata": {},
   "source": [
    "### Import fire payroll data"
   ]
  },
  {
   "cell_type": "code",
   "execution_count": 2,
   "metadata": {},
   "outputs": [],
   "source": [
    "# processed in 01-california-payroll-descriptives\n",
    "agency_ot = pd.read_csv('output/agency_overtime.csv')\n",
    "agency_ot_share = pd.read_csv('output/agency_overtime_share_ot.csv')\n",
    "payroll_fire = pd.read_csv('/Users/mhustiles/data/data/controller/output/payroll_fire.csv')"
   ]
  },
  {
   "cell_type": "markdown",
   "metadata": {},
   "source": [
    "---"
   ]
  },
  {
   "cell_type": "markdown",
   "metadata": {},
   "source": [
    "### Filter dataframe to include only Los Angeles city and county fire"
   ]
  },
  {
   "cell_type": "code",
   "execution_count": 3,
   "metadata": {},
   "outputs": [],
   "source": [
    "la = payroll_fire[payroll_fire['employer'] == 'LOS ANGELES']"
   ]
  },
  {
   "cell_type": "code",
   "execution_count": 4,
   "metadata": {},
   "outputs": [
    {
     "data": {
      "text/html": [
       "<div>\n",
       "<style scoped>\n",
       "    .dataframe tbody tr th:only-of-type {\n",
       "        vertical-align: middle;\n",
       "    }\n",
       "\n",
       "    .dataframe tbody tr th {\n",
       "        vertical-align: top;\n",
       "    }\n",
       "\n",
       "    .dataframe thead th {\n",
       "        text-align: right;\n",
       "    }\n",
       "</style>\n",
       "<table border=\"1\" class=\"dataframe\">\n",
       "  <thead>\n",
       "    <tr style=\"text-align: right;\">\n",
       "      <th></th>\n",
       "      <th>Unnamed: 0</th>\n",
       "      <th>index</th>\n",
       "      <th>year</th>\n",
       "      <th>type</th>\n",
       "      <th>population</th>\n",
       "      <th>employer</th>\n",
       "      <th>department</th>\n",
       "      <th>position</th>\n",
       "      <th>overtime</th>\n",
       "      <th>wages</th>\n",
       "      <th>benefits</th>\n",
       "      <th>employercounty</th>\n",
       "      <th>basewages</th>\n",
       "      <th>adjusted_overtime</th>\n",
       "      <th>adjusted_wages</th>\n",
       "      <th>adjusted_benefits</th>\n",
       "      <th>adjusted_basewages</th>\n",
       "      <th>employerfull</th>\n",
       "    </tr>\n",
       "  </thead>\n",
       "  <tbody>\n",
       "    <tr>\n",
       "      <th>18989</th>\n",
       "      <td>970571</td>\n",
       "      <td>970571</td>\n",
       "      <td>2018</td>\n",
       "      <td>CITY</td>\n",
       "      <td>4,040,079</td>\n",
       "      <td>LOS ANGELES</td>\n",
       "      <td>FIRE</td>\n",
       "      <td>APPARATUS OPERATOR</td>\n",
       "      <td>27,902</td>\n",
       "      <td>145,581</td>\n",
       "      <td>70,947</td>\n",
       "      <td>LOS ANGELES</td>\n",
       "      <td>117,679</td>\n",
       "      <td>27,902</td>\n",
       "      <td>145,581</td>\n",
       "      <td>70,947</td>\n",
       "      <td>117,679</td>\n",
       "      <td>LOS_ANGELES_CITY</td>\n",
       "    </tr>\n",
       "  </tbody>\n",
       "</table>\n",
       "</div>"
      ],
      "text/plain": [
       "       Unnamed: 0   index  year  type  population     employer department  \\\n",
       "18989      970571  970571  2018  CITY   4,040,079  LOS ANGELES       FIRE   \n",
       "\n",
       "                 position  overtime   wages  benefits employercounty  \\\n",
       "18989  APPARATUS OPERATOR    27,902 145,581    70,947    LOS ANGELES   \n",
       "\n",
       "       basewages  adjusted_overtime  adjusted_wages  adjusted_benefits  \\\n",
       "18989    117,679             27,902         145,581             70,947   \n",
       "\n",
       "       adjusted_basewages      employerfull  \n",
       "18989             117,679  LOS_ANGELES_CITY  "
      ]
     },
     "execution_count": 4,
     "metadata": {},
     "output_type": "execute_result"
    }
   ],
   "source": [
    "la.head(1)"
   ]
  },
  {
   "cell_type": "code",
   "execution_count": 5,
   "metadata": {},
   "outputs": [
    {
     "data": {
      "text/html": [
       "<div>\n",
       "<style scoped>\n",
       "    .dataframe tbody tr th:only-of-type {\n",
       "        vertical-align: middle;\n",
       "    }\n",
       "\n",
       "    .dataframe tbody tr th {\n",
       "        vertical-align: top;\n",
       "    }\n",
       "\n",
       "    .dataframe thead th {\n",
       "        text-align: right;\n",
       "    }\n",
       "</style>\n",
       "<table border=\"1\" class=\"dataframe\">\n",
       "  <thead>\n",
       "    <tr style=\"text-align: right;\">\n",
       "      <th></th>\n",
       "      <th>employerfull</th>\n",
       "      <th>year</th>\n",
       "      <th>adjusted_overtime</th>\n",
       "      <th>adjusted_basewages</th>\n",
       "    </tr>\n",
       "  </thead>\n",
       "  <tbody>\n",
       "    <tr>\n",
       "      <th>0</th>\n",
       "      <td>LOS_ANGELES_CITY</td>\n",
       "      <td>2011</td>\n",
       "      <td>106,442,381</td>\n",
       "      <td>396,306,323</td>\n",
       "    </tr>\n",
       "    <tr>\n",
       "      <th>1</th>\n",
       "      <td>LOS_ANGELES_CITY</td>\n",
       "      <td>2012</td>\n",
       "      <td>122,766,643</td>\n",
       "      <td>377,794,902</td>\n",
       "    </tr>\n",
       "    <tr>\n",
       "      <th>2</th>\n",
       "      <td>LOS_ANGELES_CITY</td>\n",
       "      <td>2013</td>\n",
       "      <td>150,689,736</td>\n",
       "      <td>372,589,009</td>\n",
       "    </tr>\n",
       "    <tr>\n",
       "      <th>3</th>\n",
       "      <td>LOS_ANGELES_CITY</td>\n",
       "      <td>2014</td>\n",
       "      <td>170,170,047</td>\n",
       "      <td>333,382,422</td>\n",
       "    </tr>\n",
       "    <tr>\n",
       "      <th>4</th>\n",
       "      <td>LOS_ANGELES_CITY</td>\n",
       "      <td>2015</td>\n",
       "      <td>194,577,723</td>\n",
       "      <td>375,669,446</td>\n",
       "    </tr>\n",
       "    <tr>\n",
       "      <th>5</th>\n",
       "      <td>LOS_ANGELES_CITY</td>\n",
       "      <td>2016</td>\n",
       "      <td>193,805,688</td>\n",
       "      <td>377,712,120</td>\n",
       "    </tr>\n",
       "    <tr>\n",
       "      <th>6</th>\n",
       "      <td>LOS_ANGELES_CITY</td>\n",
       "      <td>2017</td>\n",
       "      <td>200,297,491</td>\n",
       "      <td>398,616,488</td>\n",
       "    </tr>\n",
       "    <tr>\n",
       "      <th>7</th>\n",
       "      <td>LOS_ANGELES_CITY</td>\n",
       "      <td>2018</td>\n",
       "      <td>194,037,539</td>\n",
       "      <td>399,477,016</td>\n",
       "    </tr>\n",
       "    <tr>\n",
       "      <th>8</th>\n",
       "      <td>LOS_ANGELES_COUNTY</td>\n",
       "      <td>2011</td>\n",
       "      <td>140,594,166</td>\n",
       "      <td>329,392,322</td>\n",
       "    </tr>\n",
       "    <tr>\n",
       "      <th>9</th>\n",
       "      <td>LOS_ANGELES_COUNTY</td>\n",
       "      <td>2012</td>\n",
       "      <td>145,007,457</td>\n",
       "      <td>322,618,544</td>\n",
       "    </tr>\n",
       "    <tr>\n",
       "      <th>10</th>\n",
       "      <td>LOS_ANGELES_COUNTY</td>\n",
       "      <td>2013</td>\n",
       "      <td>159,648,826</td>\n",
       "      <td>311,267,967</td>\n",
       "    </tr>\n",
       "    <tr>\n",
       "      <th>11</th>\n",
       "      <td>LOS_ANGELES_COUNTY</td>\n",
       "      <td>2014</td>\n",
       "      <td>163,014,544</td>\n",
       "      <td>311,739,282</td>\n",
       "    </tr>\n",
       "    <tr>\n",
       "      <th>12</th>\n",
       "      <td>LOS_ANGELES_COUNTY</td>\n",
       "      <td>2015</td>\n",
       "      <td>175,704,520</td>\n",
       "      <td>317,084,095</td>\n",
       "    </tr>\n",
       "    <tr>\n",
       "      <th>13</th>\n",
       "      <td>LOS_ANGELES_COUNTY</td>\n",
       "      <td>2016</td>\n",
       "      <td>197,369,374</td>\n",
       "      <td>326,201,114</td>\n",
       "    </tr>\n",
       "    <tr>\n",
       "      <th>14</th>\n",
       "      <td>LOS_ANGELES_COUNTY</td>\n",
       "      <td>2017</td>\n",
       "      <td>202,569,406</td>\n",
       "      <td>335,269,731</td>\n",
       "    </tr>\n",
       "    <tr>\n",
       "      <th>15</th>\n",
       "      <td>LOS_ANGELES_COUNTY</td>\n",
       "      <td>2018</td>\n",
       "      <td>200,371,155</td>\n",
       "      <td>340,138,033</td>\n",
       "    </tr>\n",
       "  </tbody>\n",
       "</table>\n",
       "</div>"
      ],
      "text/plain": [
       "          employerfull  year  adjusted_overtime  adjusted_basewages\n",
       "0     LOS_ANGELES_CITY  2011        106,442,381         396,306,323\n",
       "1     LOS_ANGELES_CITY  2012        122,766,643         377,794,902\n",
       "2     LOS_ANGELES_CITY  2013        150,689,736         372,589,009\n",
       "3     LOS_ANGELES_CITY  2014        170,170,047         333,382,422\n",
       "4     LOS_ANGELES_CITY  2015        194,577,723         375,669,446\n",
       "5     LOS_ANGELES_CITY  2016        193,805,688         377,712,120\n",
       "6     LOS_ANGELES_CITY  2017        200,297,491         398,616,488\n",
       "7     LOS_ANGELES_CITY  2018        194,037,539         399,477,016\n",
       "8   LOS_ANGELES_COUNTY  2011        140,594,166         329,392,322\n",
       "9   LOS_ANGELES_COUNTY  2012        145,007,457         322,618,544\n",
       "10  LOS_ANGELES_COUNTY  2013        159,648,826         311,267,967\n",
       "11  LOS_ANGELES_COUNTY  2014        163,014,544         311,739,282\n",
       "12  LOS_ANGELES_COUNTY  2015        175,704,520         317,084,095\n",
       "13  LOS_ANGELES_COUNTY  2016        197,369,374         326,201,114\n",
       "14  LOS_ANGELES_COUNTY  2017        202,569,406         335,269,731\n",
       "15  LOS_ANGELES_COUNTY  2018        200,371,155         340,138,033"
      ]
     },
     "execution_count": 5,
     "metadata": {},
     "output_type": "execute_result"
    }
   ],
   "source": [
    "la.groupby(['employerfull', 'year']).agg({'adjusted_overtime':'sum', 'adjusted_basewages':'sum'}).reset_index()"
   ]
  },
  {
   "cell_type": "markdown",
   "metadata": {},
   "source": [
    "---"
   ]
  },
  {
   "cell_type": "markdown",
   "metadata": {},
   "source": [
    "### Create a dataframe combining and pivoting listing all the large places"
   ]
  },
  {
   "cell_type": "code",
   "execution_count": 6,
   "metadata": {},
   "outputs": [],
   "source": [
    "la_pivot_ot = pd.DataFrame(pd.pivot_table(la, \\\n",
    "                values='adjusted_overtime', index=['employer', 'type'], columns=['year']).reset_index().fillna(0))"
   ]
  },
  {
   "cell_type": "code",
   "execution_count": 7,
   "metadata": {},
   "outputs": [],
   "source": [
    "la_pivot_ot.columns = la_pivot_ot.columns.map(str)"
   ]
  },
  {
   "cell_type": "code",
   "execution_count": 8,
   "metadata": {},
   "outputs": [],
   "source": [
    "la_pivot_ot['adjusted_ot_pct_change'] = \\\n",
    "                ((la_pivot_ot['2018']-la_pivot_ot['2011'])/\\\n",
    "                 la_pivot_ot['2011'])*100"
   ]
  },
  {
   "cell_type": "code",
   "execution_count": 9,
   "metadata": {},
   "outputs": [
    {
     "data": {
      "text/html": [
       "<div>\n",
       "<style scoped>\n",
       "    .dataframe tbody tr th:only-of-type {\n",
       "        vertical-align: middle;\n",
       "    }\n",
       "\n",
       "    .dataframe tbody tr th {\n",
       "        vertical-align: top;\n",
       "    }\n",
       "\n",
       "    .dataframe thead th {\n",
       "        text-align: right;\n",
       "    }\n",
       "</style>\n",
       "<table border=\"1\" class=\"dataframe\">\n",
       "  <thead>\n",
       "    <tr style=\"text-align: right;\">\n",
       "      <th>year</th>\n",
       "      <th>employer</th>\n",
       "      <th>type</th>\n",
       "      <th>2011</th>\n",
       "      <th>2012</th>\n",
       "      <th>2013</th>\n",
       "      <th>2014</th>\n",
       "      <th>2015</th>\n",
       "      <th>2016</th>\n",
       "      <th>2017</th>\n",
       "      <th>2018</th>\n",
       "      <th>adjusted_ot_pct_change</th>\n",
       "    </tr>\n",
       "  </thead>\n",
       "  <tbody>\n",
       "    <tr>\n",
       "      <th>0</th>\n",
       "      <td>LOS ANGELES</td>\n",
       "      <td>CITY</td>\n",
       "      <td>30,300</td>\n",
       "      <td>36,214</td>\n",
       "      <td>46,026</td>\n",
       "      <td>52,425</td>\n",
       "      <td>58,118</td>\n",
       "      <td>55,105</td>\n",
       "      <td>56,279</td>\n",
       "      <td>55,582</td>\n",
       "      <td>83</td>\n",
       "    </tr>\n",
       "    <tr>\n",
       "      <th>1</th>\n",
       "      <td>LOS ANGELES</td>\n",
       "      <td>COUNTY</td>\n",
       "      <td>44,032</td>\n",
       "      <td>46,507</td>\n",
       "      <td>51,006</td>\n",
       "      <td>51,734</td>\n",
       "      <td>57,289</td>\n",
       "      <td>58,706</td>\n",
       "      <td>60,595</td>\n",
       "      <td>58,298</td>\n",
       "      <td>32</td>\n",
       "    </tr>\n",
       "  </tbody>\n",
       "</table>\n",
       "</div>"
      ],
      "text/plain": [
       "year     employer    type   2011   2012   2013   2014   2015   2016   2017  \\\n",
       "0     LOS ANGELES    CITY 30,300 36,214 46,026 52,425 58,118 55,105 56,279   \n",
       "1     LOS ANGELES  COUNTY 44,032 46,507 51,006 51,734 57,289 58,706 60,595   \n",
       "\n",
       "year   2018  adjusted_ot_pct_change  \n",
       "0    55,582                      83  \n",
       "1    58,298                      32  "
      ]
     },
     "execution_count": 9,
     "metadata": {},
     "output_type": "execute_result"
    }
   ],
   "source": [
    "la_pivot_ot.head()"
   ]
  },
  {
   "cell_type": "code",
   "execution_count": 10,
   "metadata": {},
   "outputs": [],
   "source": [
    "la_pivot_ot.to_csv('output/places/la_city_county.csv')"
   ]
  },
  {
   "cell_type": "markdown",
   "metadata": {},
   "source": [
    "---"
   ]
  },
  {
   "cell_type": "markdown",
   "metadata": {},
   "source": [
    "### Charting firefighter wages and benefits in Los Angeles"
   ]
  },
  {
   "cell_type": "code",
   "execution_count": 11,
   "metadata": {},
   "outputs": [],
   "source": [
    "la_all = payroll_fire[(payroll_fire['employerfull'].str.contains('LOS_ANGELES'))]\\\n",
    ".groupby(['year', 'employerfull']).agg({'adjusted_overtime':'sum', \\\n",
    "                                            'adjusted_basewages':'sum', \\\n",
    "                                        'adjusted_wages':'sum', \\\n",
    "                                            'adjusted_benefits':'sum'\\\n",
    "                                            }).reset_index()"
   ]
  },
  {
   "cell_type": "markdown",
   "metadata": {},
   "source": [
    "### Clean up the column names"
   ]
  },
  {
   "cell_type": "code",
   "execution_count": 12,
   "metadata": {},
   "outputs": [],
   "source": [
    "la_all.rename(columns={'adjusted_overtime': 'Overtime',\\\n",
    "                    'adjusted_basewages': 'BaseWages',\\\n",
    "                   'adjusted_wages': 'Wages',\\\n",
    "                   'adjusted_benefits':'Benefits',\\\n",
    "                     'year': 'Year',\n",
    "                      'employerfull': 'Place'}, inplace=True)"
   ]
  },
  {
   "cell_type": "markdown",
   "metadata": {},
   "source": [
    "### Melt the dataframe for charting"
   ]
  },
  {
   "cell_type": "code",
   "execution_count": 13,
   "metadata": {},
   "outputs": [],
   "source": [
    "la_melt = pd.melt(la_all,id_vars=['Year', 'Place'], value_vars=['Overtime','BaseWages'],\\\n",
    "        var_name='Compensation', value_name='Total')"
   ]
  },
  {
   "cell_type": "code",
   "execution_count": 14,
   "metadata": {
    "scrolled": false
   },
   "outputs": [
    {
     "data": {
      "application/javascript": [
       "const spec = {\"config\": {\"view\": {\"width\": 800, \"height\": 450}, \"background\": \"#ffffff\", \"title\": {\"anchor\": \"start\", \"font\": \"Benton Gothic Bold, sans\", \"fontColor\": \"#000000\", \"fontSize\": 22, \"fontWeight\": \"normal\"}, \"arc\": {\"fill\": \"#82c6df\"}, \"area\": {\"fill\": \"#82c6df\"}, \"line\": {\"stroke\": \"#82c6df\", \"strokeWidth\": 3}, \"path\": {\"stroke\": \"#82c6df\"}, \"rect\": {\"fill\": \"#82c6df\"}, \"shape\": {\"stroke\": \"#82c6df\"}, \"bar\": {\"fill\": \"#82c6df\"}, \"point\": {\"stroke\": \"#82c6df\"}, \"symbol\": {\"fill\": \"#82c6df\", \"size\": 30}, \"axis\": {\"titleFont\": \"Benton Gothic Bold, sans\", \"titleFontSize\": 13, \"titleFontWeight\": \"normal\", \"labelFont\": \"Benton Gothic, sans\", \"labelFontSize\": 11.5, \"labelFontWeight\": \"normal\"}, \"axisX\": {\"labelAngle\": 0, \"labelPadding\": 4, \"tickSize\": 3}, \"axisY\": {\"labelBaseline\": \"middle\", \"maxExtent\": 45, \"minExtent\": 45, \"tickSize\": 2, \"titleAlign\": \"left\", \"titleAngle\": 0, \"titleX\": -45, \"titleY\": -11}, \"legend\": {\"titleFont\": \"Benton Gothic Bold, sans\", \"titleFontSize\": 13, \"titleFontWeight\": \"normal\", \"symbolType\": \"square\", \"labelFont\": \"Benton Gothic, sans\", \"labelFontSize\": 11.5}, \"range\": {\"category\": [\"#3580b1\", \"#ec8431\", \"#ab7fb4\", \"#c89d29\", \"#adc839\", \"#829eb1\"], \"diverging\": [\"#e68a4f\", \"#f4bb6a\", \"#f9e39c\", \"#dadfe2\", \"#a6b7c6\", \"#849eae\"], \"heatmap\": [\"#fbf2c7\", \"#f9e39c\", \"#f8d36e\", \"#f4bb6a\", \"#e68a4f\", \"#d15a40\", \"#ab4232\"], \"ordinal\": [\"#fbf2c7\", \"#f9e39c\", \"#f8d36e\", \"#f4bb6a\", \"#e68a4f\", \"#d15a40\", \"#ab4232\"], \"ramp\": [\"#fbf2c7\", \"#f9e39c\", \"#f8d36e\", \"#f4bb6a\", \"#e68a4f\", \"#d15a40\", \"#ab4232\"]}}, \"data\": {\"name\": \"data-0833016f0f93f06c52fc54a13ba075a2\"}, \"mark\": \"area\", \"columns\": 2, \"encoding\": {\"color\": {\"type\": \"nominal\", \"field\": \"Compensation\"}, \"facet\": {\"type\": \"nominal\", \"field\": \"Place\"}, \"order\": {\"type\": \"nominal\", \"field\": \"Compensation\", \"sort\": \"ascending\"}, \"x\": {\"type\": \"nominal\", \"field\": \"Year\", \"title\": \" \"}, \"y\": {\"type\": \"quantitative\", \"axis\": {\"format\": \"$,s\", \"tickCount\": 6}, \"field\": \"Total\", \"title\": \" \"}}, \"height\": 300, \"title\": \"Dollar amount: Firefighter compensation in Los Angeles\", \"width\": 300, \"$schema\": \"https://vega.github.io/schema/vega-lite/v3.4.0.json\", \"datasets\": {\"data-0833016f0f93f06c52fc54a13ba075a2\": [{\"Year\": 2011, \"Place\": \"LOS_ANGELES_CITY\", \"Compensation\": \"Overtime\", \"Total\": 106442380.63131326}, {\"Year\": 2011, \"Place\": \"LOS_ANGELES_COUNTY\", \"Compensation\": \"Overtime\", \"Total\": 140594166.1801202}, {\"Year\": 2012, \"Place\": \"LOS_ANGELES_CITY\", \"Compensation\": \"Overtime\", \"Total\": 122766642.56165208}, {\"Year\": 2012, \"Place\": \"LOS_ANGELES_COUNTY\", \"Compensation\": \"Overtime\", \"Total\": 145007456.87385052}, {\"Year\": 2013, \"Place\": \"LOS_ANGELES_CITY\", \"Compensation\": \"Overtime\", \"Total\": 150689735.72045517}, {\"Year\": 2013, \"Place\": \"LOS_ANGELES_COUNTY\", \"Compensation\": \"Overtime\", \"Total\": 159648826.28865466}, {\"Year\": 2014, \"Place\": \"LOS_ANGELES_CITY\", \"Compensation\": \"Overtime\", \"Total\": 170170046.9950158}, {\"Year\": 2014, \"Place\": \"LOS_ANGELES_COUNTY\", \"Compensation\": \"Overtime\", \"Total\": 163014544.41060534}, {\"Year\": 2015, \"Place\": \"LOS_ANGELES_CITY\", \"Compensation\": \"Overtime\", \"Total\": 194577723.3383092}, {\"Year\": 2015, \"Place\": \"LOS_ANGELES_COUNTY\", \"Compensation\": \"Overtime\", \"Total\": 175704519.86221692}, {\"Year\": 2016, \"Place\": \"LOS_ANGELES_CITY\", \"Compensation\": \"Overtime\", \"Total\": 193805687.69056734}, {\"Year\": 2016, \"Place\": \"LOS_ANGELES_COUNTY\", \"Compensation\": \"Overtime\", \"Total\": 197369373.81093967}, {\"Year\": 2017, \"Place\": \"LOS_ANGELES_CITY\", \"Compensation\": \"Overtime\", \"Total\": 200297491.0561808}, {\"Year\": 2017, \"Place\": \"LOS_ANGELES_COUNTY\", \"Compensation\": \"Overtime\", \"Total\": 202569406.0199902}, {\"Year\": 2018, \"Place\": \"LOS_ANGELES_CITY\", \"Compensation\": \"Overtime\", \"Total\": 194037539.0}, {\"Year\": 2018, \"Place\": \"LOS_ANGELES_COUNTY\", \"Compensation\": \"Overtime\", \"Total\": 200371155.0}, {\"Year\": 2011, \"Place\": \"LOS_ANGELES_CITY\", \"Compensation\": \"BaseWages\", \"Total\": 396306323.1464846}, {\"Year\": 2011, \"Place\": \"LOS_ANGELES_COUNTY\", \"Compensation\": \"BaseWages\", \"Total\": 329392322.3746483}, {\"Year\": 2012, \"Place\": \"LOS_ANGELES_CITY\", \"Compensation\": \"BaseWages\", \"Total\": 377794902.2361439}, {\"Year\": 2012, \"Place\": \"LOS_ANGELES_COUNTY\", \"Compensation\": \"BaseWages\", \"Total\": 322618543.86363274}, {\"Year\": 2013, \"Place\": \"LOS_ANGELES_CITY\", \"Compensation\": \"BaseWages\", \"Total\": 372589008.84571797}, {\"Year\": 2013, \"Place\": \"LOS_ANGELES_COUNTY\", \"Compensation\": \"BaseWages\", \"Total\": 311267967.3774634}, {\"Year\": 2014, \"Place\": \"LOS_ANGELES_CITY\", \"Compensation\": \"BaseWages\", \"Total\": 333382422.3880759}, {\"Year\": 2014, \"Place\": \"LOS_ANGELES_COUNTY\", \"Compensation\": \"BaseWages\", \"Total\": 311739281.83684283}, {\"Year\": 2015, \"Place\": \"LOS_ANGELES_CITY\", \"Compensation\": \"BaseWages\", \"Total\": 375669446.4616123}, {\"Year\": 2015, \"Place\": \"LOS_ANGELES_COUNTY\", \"Compensation\": \"BaseWages\", \"Total\": 317084095.2971008}, {\"Year\": 2016, \"Place\": \"LOS_ANGELES_CITY\", \"Compensation\": \"BaseWages\", \"Total\": 377712120.0916566}, {\"Year\": 2016, \"Place\": \"LOS_ANGELES_COUNTY\", \"Compensation\": \"BaseWages\", \"Total\": 326201114.0043329}, {\"Year\": 2017, \"Place\": \"LOS_ANGELES_CITY\", \"Compensation\": \"BaseWages\", \"Total\": 398616488.0137401}, {\"Year\": 2017, \"Place\": \"LOS_ANGELES_COUNTY\", \"Compensation\": \"BaseWages\", \"Total\": 335269730.65563357}, {\"Year\": 2018, \"Place\": \"LOS_ANGELES_CITY\", \"Compensation\": \"BaseWages\", \"Total\": 399477016.0}, {\"Year\": 2018, \"Place\": \"LOS_ANGELES_COUNTY\", \"Compensation\": \"BaseWages\", \"Total\": 340138033.0}]}};\n",
       "const opt = {};\n",
       "const type = \"vega-lite\";\n",
       "const id = \"e75daee1-a950-470c-8f16-00a6a4f270e3\";\n",
       "\n",
       "const output_area = this;\n",
       "\n",
       "require([\"nbextensions/jupyter-vega/index\"], function(vega) {\n",
       "  const target = document.createElement(\"div\");\n",
       "  target.id = id;\n",
       "  target.className = \"vega-embed\";\n",
       "\n",
       "  const style = document.createElement(\"style\");\n",
       "  style.textContent = [\n",
       "    \".vega-embed .error p {\",\n",
       "    \"  color: firebrick;\",\n",
       "    \"  font-size: 14px;\",\n",
       "    \"}\",\n",
       "  ].join(\"\\\\n\");\n",
       "\n",
       "  // element is a jQuery wrapped DOM element inside the output area\n",
       "  // see http://ipython.readthedocs.io/en/stable/api/generated/\\\n",
       "  // IPython.display.html#IPython.display.Javascript.__init__\n",
       "  element[0].appendChild(target);\n",
       "  element[0].appendChild(style);\n",
       "\n",
       "  vega.render(\"#\" + id, spec, type, opt, output_area);\n",
       "}, function (err) {\n",
       "  if (err.requireType !== \"scripterror\") {\n",
       "    throw(err);\n",
       "  }\n",
       "});\n"
      ],
      "text/plain": [
       "<vega.vegalite.VegaLite at 0x12d674ef0>"
      ]
     },
     "metadata": {
      "jupyter-vega": "#e75daee1-a950-470c-8f16-00a6a4f270e3"
     },
     "output_type": "display_data"
    },
    {
     "data": {
      "text/plain": []
     },
     "execution_count": 14,
     "metadata": {},
     "output_type": "execute_result"
    },
    {
     "data": {
      "image/png": "[encoded data removed]"
     },
     "metadata": {
      "jupyter-vega": "#e75daee1-a950-470c-8f16-00a6a4f270e3"
     },
     "output_type": "display_data"
    }
   ],
   "source": [
    "alt.Chart(la_melt).mark_area().encode(\n",
    "    x=alt.X(\"Year:N\", title=' '),\n",
    "    y=alt.Y(\"Total:Q\", title=' ', axis=alt.Axis(tickCount=6, format='$,s')),\n",
    "    color=\"Compensation:N\",\n",
    "    order=alt.Order(\n",
    "      # Sort the segments of the bars by this field\n",
    "      'Compensation',\n",
    "      sort='ascending'\n",
    "    ),\n",
    "    facet='Place:N'\n",
    ").properties(width=300, height=300, columns=2, title='Dollar amount: Firefighter compensation in Los Angeles')"
   ]
  },
  {
   "cell_type": "markdown",
   "metadata": {},
   "source": [
    "### Normalized version"
   ]
  },
  {
   "cell_type": "code",
   "execution_count": 15,
   "metadata": {},
   "outputs": [
    {
     "data": {
      "application/javascript": [
       "const spec = {\"config\": {\"view\": {\"width\": 800, \"height\": 450}, \"background\": \"#ffffff\", \"title\": {\"anchor\": \"start\", \"font\": \"Benton Gothic Bold, sans\", \"fontColor\": \"#000000\", \"fontSize\": 22, \"fontWeight\": \"normal\"}, \"arc\": {\"fill\": \"#82c6df\"}, \"area\": {\"fill\": \"#82c6df\"}, \"line\": {\"stroke\": \"#82c6df\", \"strokeWidth\": 3}, \"path\": {\"stroke\": \"#82c6df\"}, \"rect\": {\"fill\": \"#82c6df\"}, \"shape\": {\"stroke\": \"#82c6df\"}, \"bar\": {\"fill\": \"#82c6df\"}, \"point\": {\"stroke\": \"#82c6df\"}, \"symbol\": {\"fill\": \"#82c6df\", \"size\": 30}, \"axis\": {\"titleFont\": \"Benton Gothic Bold, sans\", \"titleFontSize\": 13, \"titleFontWeight\": \"normal\", \"labelFont\": \"Benton Gothic, sans\", \"labelFontSize\": 11.5, \"labelFontWeight\": \"normal\"}, \"axisX\": {\"labelAngle\": 0, \"labelPadding\": 4, \"tickSize\": 3}, \"axisY\": {\"labelBaseline\": \"middle\", \"maxExtent\": 45, \"minExtent\": 45, \"tickSize\": 2, \"titleAlign\": \"left\", \"titleAngle\": 0, \"titleX\": -45, \"titleY\": -11}, \"legend\": {\"titleFont\": \"Benton Gothic Bold, sans\", \"titleFontSize\": 13, \"titleFontWeight\": \"normal\", \"symbolType\": \"square\", \"labelFont\": \"Benton Gothic, sans\", \"labelFontSize\": 11.5}, \"range\": {\"category\": [\"#3580b1\", \"#ec8431\", \"#ab7fb4\", \"#c89d29\", \"#adc839\", \"#829eb1\"], \"diverging\": [\"#e68a4f\", \"#f4bb6a\", \"#f9e39c\", \"#dadfe2\", \"#a6b7c6\", \"#849eae\"], \"heatmap\": [\"#fbf2c7\", \"#f9e39c\", \"#f8d36e\", \"#f4bb6a\", \"#e68a4f\", \"#d15a40\", \"#ab4232\"], \"ordinal\": [\"#fbf2c7\", \"#f9e39c\", \"#f8d36e\", \"#f4bb6a\", \"#e68a4f\", \"#d15a40\", \"#ab4232\"], \"ramp\": [\"#fbf2c7\", \"#f9e39c\", \"#f8d36e\", \"#f4bb6a\", \"#e68a4f\", \"#d15a40\", \"#ab4232\"]}}, \"data\": {\"name\": \"data-0833016f0f93f06c52fc54a13ba075a2\"}, \"mark\": \"area\", \"columns\": 2, \"encoding\": {\"color\": {\"type\": \"nominal\", \"field\": \"Compensation\"}, \"facet\": {\"type\": \"nominal\", \"field\": \"Place\"}, \"order\": {\"type\": \"nominal\", \"field\": \"Compensation\", \"sort\": \"ascending\"}, \"x\": {\"type\": \"nominal\", \"field\": \"Year\", \"title\": \" \"}, \"y\": {\"type\": \"quantitative\", \"axis\": {\"format\": \"%\", \"tickCount\": 6}, \"field\": \"Total\", \"stack\": \"normalize\", \"title\": \" \"}}, \"height\": 300, \"title\": \"Overtime share: Firefighter compensation in Los Angeles\", \"width\": 300, \"$schema\": \"https://vega.github.io/schema/vega-lite/v3.4.0.json\", \"datasets\": {\"data-0833016f0f93f06c52fc54a13ba075a2\": [{\"Year\": 2011, \"Place\": \"LOS_ANGELES_CITY\", \"Compensation\": \"Overtime\", \"Total\": 106442380.63131326}, {\"Year\": 2011, \"Place\": \"LOS_ANGELES_COUNTY\", \"Compensation\": \"Overtime\", \"Total\": 140594166.1801202}, {\"Year\": 2012, \"Place\": \"LOS_ANGELES_CITY\", \"Compensation\": \"Overtime\", \"Total\": 122766642.56165208}, {\"Year\": 2012, \"Place\": \"LOS_ANGELES_COUNTY\", \"Compensation\": \"Overtime\", \"Total\": 145007456.87385052}, {\"Year\": 2013, \"Place\": \"LOS_ANGELES_CITY\", \"Compensation\": \"Overtime\", \"Total\": 150689735.72045517}, {\"Year\": 2013, \"Place\": \"LOS_ANGELES_COUNTY\", \"Compensation\": \"Overtime\", \"Total\": 159648826.28865466}, {\"Year\": 2014, \"Place\": \"LOS_ANGELES_CITY\", \"Compensation\": \"Overtime\", \"Total\": 170170046.9950158}, {\"Year\": 2014, \"Place\": \"LOS_ANGELES_COUNTY\", \"Compensation\": \"Overtime\", \"Total\": 163014544.41060534}, {\"Year\": 2015, \"Place\": \"LOS_ANGELES_CITY\", \"Compensation\": \"Overtime\", \"Total\": 194577723.3383092}, {\"Year\": 2015, \"Place\": \"LOS_ANGELES_COUNTY\", \"Compensation\": \"Overtime\", \"Total\": 175704519.86221692}, {\"Year\": 2016, \"Place\": \"LOS_ANGELES_CITY\", \"Compensation\": \"Overtime\", \"Total\": 193805687.69056734}, {\"Year\": 2016, \"Place\": \"LOS_ANGELES_COUNTY\", \"Compensation\": \"Overtime\", \"Total\": 197369373.81093967}, {\"Year\": 2017, \"Place\": \"LOS_ANGELES_CITY\", \"Compensation\": \"Overtime\", \"Total\": 200297491.0561808}, {\"Year\": 2017, \"Place\": \"LOS_ANGELES_COUNTY\", \"Compensation\": \"Overtime\", \"Total\": 202569406.0199902}, {\"Year\": 2018, \"Place\": \"LOS_ANGELES_CITY\", \"Compensation\": \"Overtime\", \"Total\": 194037539.0}, {\"Year\": 2018, \"Place\": \"LOS_ANGELES_COUNTY\", \"Compensation\": \"Overtime\", \"Total\": 200371155.0}, {\"Year\": 2011, \"Place\": \"LOS_ANGELES_CITY\", \"Compensation\": \"BaseWages\", \"Total\": 396306323.1464846}, {\"Year\": 2011, \"Place\": \"LOS_ANGELES_COUNTY\", \"Compensation\": \"BaseWages\", \"Total\": 329392322.3746483}, {\"Year\": 2012, \"Place\": \"LOS_ANGELES_CITY\", \"Compensation\": \"BaseWages\", \"Total\": 377794902.2361439}, {\"Year\": 2012, \"Place\": \"LOS_ANGELES_COUNTY\", \"Compensation\": \"BaseWages\", \"Total\": 322618543.86363274}, {\"Year\": 2013, \"Place\": \"LOS_ANGELES_CITY\", \"Compensation\": \"BaseWages\", \"Total\": 372589008.84571797}, {\"Year\": 2013, \"Place\": \"LOS_ANGELES_COUNTY\", \"Compensation\": \"BaseWages\", \"Total\": 311267967.3774634}, {\"Year\": 2014, \"Place\": \"LOS_ANGELES_CITY\", \"Compensation\": \"BaseWages\", \"Total\": 333382422.3880759}, {\"Year\": 2014, \"Place\": \"LOS_ANGELES_COUNTY\", \"Compensation\": \"BaseWages\", \"Total\": 311739281.83684283}, {\"Year\": 2015, \"Place\": \"LOS_ANGELES_CITY\", \"Compensation\": \"BaseWages\", \"Total\": 375669446.4616123}, {\"Year\": 2015, \"Place\": \"LOS_ANGELES_COUNTY\", \"Compensation\": \"BaseWages\", \"Total\": 317084095.2971008}, {\"Year\": 2016, \"Place\": \"LOS_ANGELES_CITY\", \"Compensation\": \"BaseWages\", \"Total\": 377712120.0916566}, {\"Year\": 2016, \"Place\": \"LOS_ANGELES_COUNTY\", \"Compensation\": \"BaseWages\", \"Total\": 326201114.0043329}, {\"Year\": 2017, \"Place\": \"LOS_ANGELES_CITY\", \"Compensation\": \"BaseWages\", \"Total\": 398616488.0137401}, {\"Year\": 2017, \"Place\": \"LOS_ANGELES_COUNTY\", \"Compensation\": \"BaseWages\", \"Total\": 335269730.65563357}, {\"Year\": 2018, \"Place\": \"LOS_ANGELES_CITY\", \"Compensation\": \"BaseWages\", \"Total\": 399477016.0}, {\"Year\": 2018, \"Place\": \"LOS_ANGELES_COUNTY\", \"Compensation\": \"BaseWages\", \"Total\": 340138033.0}]}};\n",
       "const opt = {};\n",
       "const type = \"vega-lite\";\n",
       "const id = \"56b9f28b-197b-4348-8846-a68f49332e98\";\n",
       "\n",
       "const output_area = this;\n",
       "\n",
       "require([\"nbextensions/jupyter-vega/index\"], function(vega) {\n",
       "  const target = document.createElement(\"div\");\n",
       "  target.id = id;\n",
       "  target.className = \"vega-embed\";\n",
       "\n",
       "  const style = document.createElement(\"style\");\n",
       "  style.textContent = [\n",
       "    \".vega-embed .error p {\",\n",
       "    \"  color: firebrick;\",\n",
       "    \"  font-size: 14px;\",\n",
       "    \"}\",\n",
       "  ].join(\"\\\\n\");\n",
       "\n",
       "  // element is a jQuery wrapped DOM element inside the output area\n",
       "  // see http://ipython.readthedocs.io/en/stable/api/generated/\\\n",
       "  // IPython.display.html#IPython.display.Javascript.__init__\n",
       "  element[0].appendChild(target);\n",
       "  element[0].appendChild(style);\n",
       "\n",
       "  vega.render(\"#\" + id, spec, type, opt, output_area);\n",
       "}, function (err) {\n",
       "  if (err.requireType !== \"scripterror\") {\n",
       "    throw(err);\n",
       "  }\n",
       "});\n"
      ],
      "text/plain": [
       "<vega.vegalite.VegaLite at 0x12d661c88>"
      ]
     },
     "metadata": {
      "jupyter-vega": "#56b9f28b-197b-4348-8846-a68f49332e98"
     },
     "output_type": "display_data"
    },
    {
     "data": {
      "text/plain": []
     },
     "execution_count": 15,
     "metadata": {},
     "output_type": "execute_result"
    },
    {
     "data": {
      "image/png": "[encoded data removed]"
     },
     "metadata": {
      "jupyter-vega": "#56b9f28b-197b-4348-8846-a68f49332e98"
     },
     "output_type": "display_data"
    }
   ],
   "source": [
    "alt.Chart(la_melt).mark_area().encode(\n",
    "    x=alt.X(\"Year:N\", title=' '),\n",
    "    y=alt.Y(\"Total:Q\", stack=\"normalize\", title=' ', axis=alt.Axis(tickCount=6, format='%')),\n",
    "    color=\"Compensation:N\",\n",
    "    order=alt.Order(\n",
    "      # Sort the segments of the bars by this field\n",
    "      'Compensation',\n",
    "      sort='ascending'\n",
    "    ),\n",
    "    facet='Place:N'\n",
    ").properties(width=300, height=300, columns=2, title='Overtime share: Firefighter compensation in Los Angeles')"
   ]
  },
  {
   "cell_type": "code",
   "execution_count": 16,
   "metadata": {},
   "outputs": [],
   "source": [
    "la_melt.sort_values(by=['Place', 'Compensation']).to_csv('output/la_melt.csv')"
   ]
  },
  {
   "cell_type": "markdown",
   "metadata": {},
   "source": [
    "---"
   ]
  },
  {
   "cell_type": "markdown",
   "metadata": {},
   "source": [
    "### Individual overtime"
   ]
  },
  {
   "cell_type": "code",
   "execution_count": 17,
   "metadata": {},
   "outputs": [],
   "source": [
    "la_highest = la[la['overtime'] > 200000]"
   ]
  },
  {
   "cell_type": "code",
   "execution_count": 18,
   "metadata": {},
   "outputs": [
    {
     "data": {
      "text/plain": [
       "165"
      ]
     },
     "execution_count": 18,
     "metadata": {},
     "output_type": "execute_result"
    }
   ],
   "source": [
    "len(la_highest)"
   ]
  },
  {
   "cell_type": "code",
   "execution_count": 19,
   "metadata": {},
   "outputs": [],
   "source": [
    "la_high = la[la['overtime'] > 100000]"
   ]
  },
  {
   "cell_type": "code",
   "execution_count": 20,
   "metadata": {},
   "outputs": [
    {
     "data": {
      "text/plain": [
       "5022"
      ]
     },
     "execution_count": 20,
     "metadata": {},
     "output_type": "execute_result"
    }
   ],
   "source": [
    "len(la_high)"
   ]
  },
  {
   "cell_type": "code",
   "execution_count": 21,
   "metadata": {},
   "outputs": [],
   "source": [
    "la_high_years = la_high.groupby(['year','type']).agg('size').reset_index(name='count')"
   ]
  },
  {
   "cell_type": "code",
   "execution_count": 22,
   "metadata": {},
   "outputs": [
    {
     "data": {
      "text/html": [
       "<div>\n",
       "<style scoped>\n",
       "    .dataframe tbody tr th:only-of-type {\n",
       "        vertical-align: middle;\n",
       "    }\n",
       "\n",
       "    .dataframe tbody tr th {\n",
       "        vertical-align: top;\n",
       "    }\n",
       "\n",
       "    .dataframe thead th {\n",
       "        text-align: right;\n",
       "    }\n",
       "</style>\n",
       "<table border=\"1\" class=\"dataframe\">\n",
       "  <thead>\n",
       "    <tr style=\"text-align: right;\">\n",
       "      <th></th>\n",
       "      <th>year</th>\n",
       "      <th>type</th>\n",
       "      <th>count</th>\n",
       "    </tr>\n",
       "  </thead>\n",
       "  <tbody>\n",
       "    <tr>\n",
       "      <th>1</th>\n",
       "      <td>2011</td>\n",
       "      <td>COUNTY</td>\n",
       "      <td>20</td>\n",
       "    </tr>\n",
       "    <tr>\n",
       "      <th>3</th>\n",
       "      <td>2012</td>\n",
       "      <td>COUNTY</td>\n",
       "      <td>58</td>\n",
       "    </tr>\n",
       "    <tr>\n",
       "      <th>5</th>\n",
       "      <td>2013</td>\n",
       "      <td>COUNTY</td>\n",
       "      <td>161</td>\n",
       "    </tr>\n",
       "    <tr>\n",
       "      <th>7</th>\n",
       "      <td>2014</td>\n",
       "      <td>COUNTY</td>\n",
       "      <td>220</td>\n",
       "    </tr>\n",
       "    <tr>\n",
       "      <th>9</th>\n",
       "      <td>2015</td>\n",
       "      <td>COUNTY</td>\n",
       "      <td>408</td>\n",
       "    </tr>\n",
       "    <tr>\n",
       "      <th>11</th>\n",
       "      <td>2016</td>\n",
       "      <td>COUNTY</td>\n",
       "      <td>577</td>\n",
       "    </tr>\n",
       "    <tr>\n",
       "      <th>13</th>\n",
       "      <td>2017</td>\n",
       "      <td>COUNTY</td>\n",
       "      <td>631</td>\n",
       "    </tr>\n",
       "    <tr>\n",
       "      <th>15</th>\n",
       "      <td>2018</td>\n",
       "      <td>COUNTY</td>\n",
       "      <td>611</td>\n",
       "    </tr>\n",
       "    <tr>\n",
       "      <th>0</th>\n",
       "      <td>2011</td>\n",
       "      <td>CITY</td>\n",
       "      <td>21</td>\n",
       "    </tr>\n",
       "    <tr>\n",
       "      <th>2</th>\n",
       "      <td>2012</td>\n",
       "      <td>CITY</td>\n",
       "      <td>49</td>\n",
       "    </tr>\n",
       "    <tr>\n",
       "      <th>4</th>\n",
       "      <td>2013</td>\n",
       "      <td>CITY</td>\n",
       "      <td>155</td>\n",
       "    </tr>\n",
       "    <tr>\n",
       "      <th>6</th>\n",
       "      <td>2014</td>\n",
       "      <td>CITY</td>\n",
       "      <td>277</td>\n",
       "    </tr>\n",
       "    <tr>\n",
       "      <th>8</th>\n",
       "      <td>2015</td>\n",
       "      <td>CITY</td>\n",
       "      <td>416</td>\n",
       "    </tr>\n",
       "    <tr>\n",
       "      <th>10</th>\n",
       "      <td>2016</td>\n",
       "      <td>CITY</td>\n",
       "      <td>435</td>\n",
       "    </tr>\n",
       "    <tr>\n",
       "      <th>12</th>\n",
       "      <td>2017</td>\n",
       "      <td>CITY</td>\n",
       "      <td>509</td>\n",
       "    </tr>\n",
       "    <tr>\n",
       "      <th>14</th>\n",
       "      <td>2018</td>\n",
       "      <td>CITY</td>\n",
       "      <td>474</td>\n",
       "    </tr>\n",
       "  </tbody>\n",
       "</table>\n",
       "</div>"
      ],
      "text/plain": [
       "    year    type  count\n",
       "1   2011  COUNTY     20\n",
       "3   2012  COUNTY     58\n",
       "5   2013  COUNTY    161\n",
       "7   2014  COUNTY    220\n",
       "9   2015  COUNTY    408\n",
       "11  2016  COUNTY    577\n",
       "13  2017  COUNTY    631\n",
       "15  2018  COUNTY    611\n",
       "0   2011    CITY     21\n",
       "2   2012    CITY     49\n",
       "4   2013    CITY    155\n",
       "6   2014    CITY    277\n",
       "8   2015    CITY    416\n",
       "10  2016    CITY    435\n",
       "12  2017    CITY    509\n",
       "14  2018    CITY    474"
      ]
     },
     "execution_count": 22,
     "metadata": {},
     "output_type": "execute_result"
    }
   ],
   "source": [
    "la_high_years.sort_values(by='type', ascending=False).head(16)"
   ]
  },
  {
   "cell_type": "code",
   "execution_count": 23,
   "metadata": {},
   "outputs": [],
   "source": [
    "la_high_positions = la_high.groupby('position').agg({'adjusted_overtime':'sum', \\\n",
    "                                            'adjusted_basewages':'sum', \\\n",
    "                                        'adjusted_wages':'sum', \\\n",
    "                                            'adjusted_benefits':'sum'\\\n",
    "                                            }).reset_index()"
   ]
  },
  {
   "cell_type": "code",
   "execution_count": 28,
   "metadata": {},
   "outputs": [
    {
     "data": {
      "application/javascript": [
       "const spec = {\"config\": {\"view\": {\"width\": 800, \"height\": 450}, \"background\": \"#ffffff\", \"title\": {\"anchor\": \"start\", \"font\": \"Benton Gothic Bold, sans\", \"fontColor\": \"#000000\", \"fontSize\": 22, \"fontWeight\": \"normal\"}, \"arc\": {\"fill\": \"#82c6df\"}, \"area\": {\"fill\": \"#82c6df\"}, \"line\": {\"stroke\": \"#82c6df\", \"strokeWidth\": 3}, \"path\": {\"stroke\": \"#82c6df\"}, \"rect\": {\"fill\": \"#82c6df\"}, \"shape\": {\"stroke\": \"#82c6df\"}, \"bar\": {\"fill\": \"#82c6df\"}, \"point\": {\"stroke\": \"#82c6df\"}, \"symbol\": {\"fill\": \"#82c6df\", \"size\": 30}, \"axis\": {\"titleFont\": \"Benton Gothic Bold, sans\", \"titleFontSize\": 13, \"titleFontWeight\": \"normal\", \"labelFont\": \"Benton Gothic, sans\", \"labelFontSize\": 11.5, \"labelFontWeight\": \"normal\"}, \"axisX\": {\"labelAngle\": 0, \"labelPadding\": 4, \"tickSize\": 3}, \"axisY\": {\"labelBaseline\": \"middle\", \"maxExtent\": 45, \"minExtent\": 45, \"tickSize\": 2, \"titleAlign\": \"left\", \"titleAngle\": 0, \"titleX\": -45, \"titleY\": -11}, \"legend\": {\"titleFont\": \"Benton Gothic Bold, sans\", \"titleFontSize\": 13, \"titleFontWeight\": \"normal\", \"symbolType\": \"square\", \"labelFont\": \"Benton Gothic, sans\", \"labelFontSize\": 11.5}, \"range\": {\"category\": [\"#3580b1\", \"#ec8431\", \"#ab7fb4\", \"#c89d29\", \"#adc839\", \"#829eb1\"], \"diverging\": [\"#e68a4f\", \"#f4bb6a\", \"#f9e39c\", \"#dadfe2\", \"#a6b7c6\", \"#849eae\"], \"heatmap\": [\"#fbf2c7\", \"#f9e39c\", \"#f8d36e\", \"#f4bb6a\", \"#e68a4f\", \"#d15a40\", \"#ab4232\"], \"ordinal\": [\"#fbf2c7\", \"#f9e39c\", \"#f8d36e\", \"#f4bb6a\", \"#e68a4f\", \"#d15a40\", \"#ab4232\"], \"ramp\": [\"#fbf2c7\", \"#f9e39c\", \"#f8d36e\", \"#f4bb6a\", \"#e68a4f\", \"#d15a40\", \"#ab4232\"]}}, \"data\": {\"name\": \"data-acc95e1efab7f66dc2b400a996ab5c93\"}, \"mark\": \"bar\", \"columns\": 2, \"encoding\": {\"facet\": {\"type\": \"ordinal\", \"field\": \"type\"}, \"x\": {\"type\": \"nominal\", \"field\": \"year\", \"title\": \" \"}, \"y\": {\"type\": \"quantitative\", \"aggregate\": \"mean\", \"axis\": {\"format\": \"\", \"tickCount\": 6}, \"field\": \"count\", \"title\": \" \"}}, \"height\": 300, \"title\": \"L.A. firefighters > $100k OT\", \"width\": 300, \"$schema\": \"https://vega.github.io/schema/vega-lite/v3.4.0.json\", \"datasets\": {\"data-acc95e1efab7f66dc2b400a996ab5c93\": [{\"year\": 2011, \"type\": \"CITY\", \"count\": 21}, {\"year\": 2011, \"type\": \"COUNTY\", \"count\": 20}, {\"year\": 2012, \"type\": \"CITY\", \"count\": 49}, {\"year\": 2012, \"type\": \"COUNTY\", \"count\": 58}, {\"year\": 2013, \"type\": \"CITY\", \"count\": 155}, {\"year\": 2013, \"type\": \"COUNTY\", \"count\": 161}, {\"year\": 2014, \"type\": \"CITY\", \"count\": 277}, {\"year\": 2014, \"type\": \"COUNTY\", \"count\": 220}, {\"year\": 2015, \"type\": \"CITY\", \"count\": 416}, {\"year\": 2015, \"type\": \"COUNTY\", \"count\": 408}, {\"year\": 2016, \"type\": \"CITY\", \"count\": 435}, {\"year\": 2016, \"type\": \"COUNTY\", \"count\": 577}, {\"year\": 2017, \"type\": \"CITY\", \"count\": 509}, {\"year\": 2017, \"type\": \"COUNTY\", \"count\": 631}, {\"year\": 2018, \"type\": \"CITY\", \"count\": 474}, {\"year\": 2018, \"type\": \"COUNTY\", \"count\": 611}]}};\n",
       "const opt = {};\n",
       "const type = \"vega-lite\";\n",
       "const id = \"edc50925-8ae5-402d-9102-702bb76dc05a\";\n",
       "\n",
       "const output_area = this;\n",
       "\n",
       "require([\"nbextensions/jupyter-vega/index\"], function(vega) {\n",
       "  const target = document.createElement(\"div\");\n",
       "  target.id = id;\n",
       "  target.className = \"vega-embed\";\n",
       "\n",
       "  const style = document.createElement(\"style\");\n",
       "  style.textContent = [\n",
       "    \".vega-embed .error p {\",\n",
       "    \"  color: firebrick;\",\n",
       "    \"  font-size: 14px;\",\n",
       "    \"}\",\n",
       "  ].join(\"\\\\n\");\n",
       "\n",
       "  // element is a jQuery wrapped DOM element inside the output area\n",
       "  // see http://ipython.readthedocs.io/en/stable/api/generated/\\\n",
       "  // IPython.display.html#IPython.display.Javascript.__init__\n",
       "  element[0].appendChild(target);\n",
       "  element[0].appendChild(style);\n",
       "\n",
       "  vega.render(\"#\" + id, spec, type, opt, output_area);\n",
       "}, function (err) {\n",
       "  if (err.requireType !== \"scripterror\") {\n",
       "    throw(err);\n",
       "  }\n",
       "});\n"
      ],
      "text/plain": [
       "<vega.vegalite.VegaLite at 0x12f38c710>"
      ]
     },
     "metadata": {
      "jupyter-vega": "#edc50925-8ae5-402d-9102-702bb76dc05a"
     },
     "output_type": "display_data"
    },
    {
     "data": {
      "text/plain": []
     },
     "execution_count": 28,
     "metadata": {},
     "output_type": "execute_result"
    },
    {
     "data": {
      "image/png": "[encoded data removed]"
     },
     "metadata": {
      "jupyter-vega": "#edc50925-8ae5-402d-9102-702bb76dc05a"
     },
     "output_type": "display_data"
    }
   ],
   "source": [
    "alt.Chart(la_high_years).mark_bar().encode(\n",
    "    x=alt.X(\"year:N\", title=' '),\n",
    "    y=alt.Y(\"mean(count):Q\", title=' ', axis=alt.Axis(tickCount=6, format='')),\n",
    "    facet='type:O'\n",
    ").properties(width=300, height=300, columns=2, title='L.A. firefighters > $100k OT')"
   ]
  },
  {
   "cell_type": "code",
   "execution_count": 29,
   "metadata": {},
   "outputs": [
    {
     "data": {
      "text/html": [
       "<div>\n",
       "<style scoped>\n",
       "    .dataframe tbody tr th:only-of-type {\n",
       "        vertical-align: middle;\n",
       "    }\n",
       "\n",
       "    .dataframe tbody tr th {\n",
       "        vertical-align: top;\n",
       "    }\n",
       "\n",
       "    .dataframe thead th {\n",
       "        text-align: right;\n",
       "    }\n",
       "</style>\n",
       "<table border=\"1\" class=\"dataframe\">\n",
       "  <thead>\n",
       "    <tr style=\"text-align: right;\">\n",
       "      <th></th>\n",
       "      <th>position</th>\n",
       "      <th>adjusted_overtime</th>\n",
       "      <th>adjusted_basewages</th>\n",
       "      <th>adjusted_wages</th>\n",
       "      <th>adjusted_benefits</th>\n",
       "    </tr>\n",
       "  </thead>\n",
       "  <tbody>\n",
       "    <tr>\n",
       "      <th>0</th>\n",
       "      <td>APPARATUS OPERATOR</td>\n",
       "      <td>12,821,127</td>\n",
       "      <td>11,847,686</td>\n",
       "      <td>24,668,813</td>\n",
       "      <td>2,563,132</td>\n",
       "    </tr>\n",
       "    <tr>\n",
       "      <th>1</th>\n",
       "      <td>BATTALION CHIEF/56 HOURS/</td>\n",
       "      <td>31,975,392</td>\n",
       "      <td>40,562,865</td>\n",
       "      <td>72,538,257</td>\n",
       "      <td>19,664,151</td>\n",
       "    </tr>\n",
       "    <tr>\n",
       "      <th>2</th>\n",
       "      <td>ENGINEER OF FIRE DEPARTMENT</td>\n",
       "      <td>29,327,375</td>\n",
       "      <td>27,134,117</td>\n",
       "      <td>56,461,492</td>\n",
       "      <td>5,456,447</td>\n",
       "    </tr>\n",
       "    <tr>\n",
       "      <th>3</th>\n",
       "      <td>FIRE ASSISTANT CHIEF</td>\n",
       "      <td>1,201,637</td>\n",
       "      <td>2,090,728</td>\n",
       "      <td>3,292,365</td>\n",
       "      <td>628,553</td>\n",
       "    </tr>\n",
       "    <tr>\n",
       "      <th>4</th>\n",
       "      <td>FIRE BATTALION CHIEF</td>\n",
       "      <td>15,743,671</td>\n",
       "      <td>20,729,379</td>\n",
       "      <td>36,473,050</td>\n",
       "      <td>3,715,047</td>\n",
       "    </tr>\n",
       "    <tr>\n",
       "      <th>5</th>\n",
       "      <td>FIRE CAPTAIN (56 HOUR)</td>\n",
       "      <td>171,225,657</td>\n",
       "      <td>176,960,584</td>\n",
       "      <td>348,186,241</td>\n",
       "      <td>77,528,270</td>\n",
       "    </tr>\n",
       "    <tr>\n",
       "      <th>6</th>\n",
       "      <td>FIRE CAPTAIN I</td>\n",
       "      <td>84,006,030</td>\n",
       "      <td>83,818,995</td>\n",
       "      <td>167,825,025</td>\n",
       "      <td>16,675,768</td>\n",
       "    </tr>\n",
       "    <tr>\n",
       "      <th>7</th>\n",
       "      <td>FIRE CAPTAIN II</td>\n",
       "      <td>37,298,594</td>\n",
       "      <td>38,764,605</td>\n",
       "      <td>76,063,199</td>\n",
       "      <td>7,839,441</td>\n",
       "    </tr>\n",
       "    <tr>\n",
       "      <th>8</th>\n",
       "      <td>FIRE CAPTAIN III</td>\n",
       "      <td>7,599,785</td>\n",
       "      <td>7,957,654</td>\n",
       "      <td>15,557,439</td>\n",
       "      <td>860,194</td>\n",
       "    </tr>\n",
       "    <tr>\n",
       "      <th>9</th>\n",
       "      <td>FIRE CAPTAIN L</td>\n",
       "      <td>391,226</td>\n",
       "      <td>420,177</td>\n",
       "      <td>811,403</td>\n",
       "      <td>44,769</td>\n",
       "    </tr>\n",
       "  </tbody>\n",
       "</table>\n",
       "</div>"
      ],
      "text/plain": [
       "                      position  adjusted_overtime  adjusted_basewages  \\\n",
       "0           APPARATUS OPERATOR         12,821,127          11,847,686   \n",
       "1    BATTALION CHIEF/56 HOURS/         31,975,392          40,562,865   \n",
       "2  ENGINEER OF FIRE DEPARTMENT         29,327,375          27,134,117   \n",
       "3         FIRE ASSISTANT CHIEF          1,201,637           2,090,728   \n",
       "4         FIRE BATTALION CHIEF         15,743,671          20,729,379   \n",
       "5       FIRE CAPTAIN (56 HOUR)        171,225,657         176,960,584   \n",
       "6               FIRE CAPTAIN I         84,006,030          83,818,995   \n",
       "7              FIRE CAPTAIN II         37,298,594          38,764,605   \n",
       "8             FIRE CAPTAIN III          7,599,785           7,957,654   \n",
       "9               FIRE CAPTAIN L            391,226             420,177   \n",
       "\n",
       "   adjusted_wages  adjusted_benefits  \n",
       "0      24,668,813          2,563,132  \n",
       "1      72,538,257         19,664,151  \n",
       "2      56,461,492          5,456,447  \n",
       "3       3,292,365            628,553  \n",
       "4      36,473,050          3,715,047  \n",
       "5     348,186,241         77,528,270  \n",
       "6     167,825,025         16,675,768  \n",
       "7      76,063,199          7,839,441  \n",
       "8      15,557,439            860,194  \n",
       "9         811,403             44,769  "
      ]
     },
     "execution_count": 29,
     "metadata": {},
     "output_type": "execute_result"
    }
   ],
   "source": [
    "la_high_positions.head(10)"
   ]
  },
  {
   "cell_type": "code",
   "execution_count": null,
   "metadata": {},
   "outputs": [],
   "source": []
  },
  {
   "cell_type": "markdown",
   "metadata": {},
   "source": [
    "Data source: https://publicpay.ca.gov/Reports/RawExport.aspx"
   ]
  },
  {
   "cell_type": "code",
   "execution_count": null,
   "metadata": {},
   "outputs": [],
   "source": []
  }
 ],
 "metadata": {
  "kernelspec": {
   "display_name": "Python 3",
   "language": "python",
   "name": "python3"
  },
  "language_info": {
   "codemirror_mode": {
    "name": "ipython",
    "version": 3
   },
   "file_extension": ".py",
   "mimetype": "text/x-python",
   "name": "python",
   "nbconvert_exporter": "python",
   "pygments_lexer": "ipython3",
   "version": "3.7.3"
  }
 },
 "nbformat": 4,
 "nbformat_minor": 2
}
