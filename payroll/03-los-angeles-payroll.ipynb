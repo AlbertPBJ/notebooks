{
 "cells": [
  {
   "cell_type": "markdown",
   "metadata": {},
   "source": [
    "# Analyzing fire department payrolls in California: 2011-2018"
   ]
  },
  {
   "cell_type": "markdown",
   "metadata": {},
   "source": [
    "This notebook analyzes annual government payroll [data](https://publicpay.ca.gov/Reports/RawExport.aspx) compiled and released annually by the California state controller's office. The data include anonymized salary information for all employees at cities, counties, special districts and state government. "
   ]
  },
  {
   "cell_type": "markdown",
   "metadata": {},
   "source": [
    "---"
   ]
  },
  {
   "cell_type": "markdown",
   "metadata": {},
   "source": [
    "### Load python tools"
   ]
  },
  {
   "cell_type": "code",
   "execution_count": 134,
   "metadata": {},
   "outputs": [],
   "source": [
    "import pandas as pd\n",
    "import geopandas as gpd\n",
    "import cpi\n",
    "from urllib.request import urlopen \n",
    "import pyarrow\n",
    "import jenkspy\n",
    "import matplotlib.pyplot as plt\n",
    "%matplotlib inline\n",
    "import json\n",
    "import numpy as np\n",
    "from altair import datum\n",
    "import altair as alt\n",
    "alt.renderers.enable('notebook')\n",
    "import altair_latimes as lat\n",
    "alt.themes.register('latimes', lat.theme)\n",
    "alt.themes.enable('latimes')\n",
    "pd.options.display.float_format = '{:,.0f}'.format"
   ]
  },
  {
   "cell_type": "markdown",
   "metadata": {},
   "source": [
    "### Import fire payroll data"
   ]
  },
  {
   "cell_type": "code",
   "execution_count": 135,
   "metadata": {},
   "outputs": [],
   "source": [
    "# processed in 01-california-payroll-descriptives\n",
    "agency_ot = pd.read_csv('output/agency_overtime.csv')\n",
    "agency_ot_share = pd.read_csv('output/agency_overtime_share_ot.csv')"
   ]
  },
  {
   "cell_type": "code",
   "execution_count": 142,
   "metadata": {},
   "outputs": [
    {
     "data": {
      "text/html": [
       "<div>\n",
       "<style scoped>\n",
       "    .dataframe tbody tr th:only-of-type {\n",
       "        vertical-align: middle;\n",
       "    }\n",
       "\n",
       "    .dataframe tbody tr th {\n",
       "        vertical-align: top;\n",
       "    }\n",
       "\n",
       "    .dataframe thead th {\n",
       "        text-align: right;\n",
       "    }\n",
       "</style>\n",
       "<table border=\"1\" class=\"dataframe\">\n",
       "  <thead>\n",
       "    <tr style=\"text-align: right;\">\n",
       "      <th></th>\n",
       "      <th>index</th>\n",
       "      <th>year</th>\n",
       "      <th>type</th>\n",
       "      <th>population</th>\n",
       "      <th>employer</th>\n",
       "      <th>department</th>\n",
       "      <th>position</th>\n",
       "      <th>overtime</th>\n",
       "      <th>wages</th>\n",
       "      <th>benefits</th>\n",
       "      <th>employercounty</th>\n",
       "      <th>basewages</th>\n",
       "      <th>adjusted_overtime</th>\n",
       "      <th>adjusted_wages</th>\n",
       "      <th>adjusted_benefits</th>\n",
       "      <th>adjusted_basewages</th>\n",
       "      <th>fire</th>\n",
       "      <th>employerfull</th>\n",
       "    </tr>\n",
       "  </thead>\n",
       "  <tbody>\n",
       "    <tr>\n",
       "      <th>970571</th>\n",
       "      <td>970571</td>\n",
       "      <td>2018</td>\n",
       "      <td>CITY</td>\n",
       "      <td>4,040,079</td>\n",
       "      <td>LOS ANGELES</td>\n",
       "      <td>FIRE</td>\n",
       "      <td>APPARATUS OPERATOR</td>\n",
       "      <td>27,902</td>\n",
       "      <td>145,581</td>\n",
       "      <td>70,947</td>\n",
       "      <td>LOS ANGELES</td>\n",
       "      <td>117,679</td>\n",
       "      <td>27,902</td>\n",
       "      <td>145,581</td>\n",
       "      <td>70,947</td>\n",
       "      <td>117,679</td>\n",
       "      <td>True</td>\n",
       "      <td>LOS_ANGELES_CITY</td>\n",
       "    </tr>\n",
       "  </tbody>\n",
       "</table>\n",
       "</div>"
      ],
      "text/plain": [
       "         index  year  type  population     employer department  \\\n",
       "970571  970571  2018  CITY   4,040,079  LOS ANGELES       FIRE   \n",
       "\n",
       "                  position  overtime   wages  benefits employercounty  \\\n",
       "970571  APPARATUS OPERATOR    27,902 145,581    70,947    LOS ANGELES   \n",
       "\n",
       "        basewages  adjusted_overtime  adjusted_wages  adjusted_benefits  \\\n",
       "970571    117,679             27,902         145,581             70,947   \n",
       "\n",
       "        adjusted_basewages  fire      employerfull  \n",
       "970571             117,679  True  LOS_ANGELES_CITY  "
      ]
     },
     "execution_count": 142,
     "metadata": {},
     "output_type": "execute_result"
    }
   ],
   "source": [
    "la.head(1)"
   ]
  },
  {
   "cell_type": "markdown",
   "metadata": {},
   "source": [
    "---"
   ]
  },
  {
   "cell_type": "markdown",
   "metadata": {},
   "source": [
    "### What about Los Angeles city and county fire?"
   ]
  },
  {
   "cell_type": "code",
   "execution_count": 146,
   "metadata": {},
   "outputs": [],
   "source": [
    "la = payroll_fire[payroll_fire['employer'] == 'LOS ANGELES']"
   ]
  },
  {
   "cell_type": "code",
   "execution_count": 151,
   "metadata": {},
   "outputs": [
    {
     "data": {
      "text/html": [
       "<div>\n",
       "<style scoped>\n",
       "    .dataframe tbody tr th:only-of-type {\n",
       "        vertical-align: middle;\n",
       "    }\n",
       "\n",
       "    .dataframe tbody tr th {\n",
       "        vertical-align: top;\n",
       "    }\n",
       "\n",
       "    .dataframe thead th {\n",
       "        text-align: right;\n",
       "    }\n",
       "</style>\n",
       "<table border=\"1\" class=\"dataframe\">\n",
       "  <thead>\n",
       "    <tr style=\"text-align: right;\">\n",
       "      <th></th>\n",
       "      <th>employerfull</th>\n",
       "      <th>year</th>\n",
       "      <th>adjusted_overtime</th>\n",
       "      <th>adjusted_basewages</th>\n",
       "    </tr>\n",
       "  </thead>\n",
       "  <tbody>\n",
       "    <tr>\n",
       "      <th>0</th>\n",
       "      <td>LOS_ANGELES_CITY</td>\n",
       "      <td>2011</td>\n",
       "      <td>106,442,381</td>\n",
       "      <td>396,621,835</td>\n",
       "    </tr>\n",
       "    <tr>\n",
       "      <th>1</th>\n",
       "      <td>LOS_ANGELES_CITY</td>\n",
       "      <td>2012</td>\n",
       "      <td>122,766,643</td>\n",
       "      <td>377,939,538</td>\n",
       "    </tr>\n",
       "    <tr>\n",
       "      <th>2</th>\n",
       "      <td>LOS_ANGELES_CITY</td>\n",
       "      <td>2013</td>\n",
       "      <td>150,689,736</td>\n",
       "      <td>372,974,009</td>\n",
       "    </tr>\n",
       "    <tr>\n",
       "      <th>3</th>\n",
       "      <td>LOS_ANGELES_CITY</td>\n",
       "      <td>2014</td>\n",
       "      <td>170,170,047</td>\n",
       "      <td>333,744,338</td>\n",
       "    </tr>\n",
       "    <tr>\n",
       "      <th>4</th>\n",
       "      <td>LOS_ANGELES_CITY</td>\n",
       "      <td>2015</td>\n",
       "      <td>194,577,723</td>\n",
       "      <td>376,086,417</td>\n",
       "    </tr>\n",
       "    <tr>\n",
       "      <th>5</th>\n",
       "      <td>LOS_ANGELES_CITY</td>\n",
       "      <td>2016</td>\n",
       "      <td>193,805,688</td>\n",
       "      <td>378,143,097</td>\n",
       "    </tr>\n",
       "    <tr>\n",
       "      <th>6</th>\n",
       "      <td>LOS_ANGELES_CITY</td>\n",
       "      <td>2017</td>\n",
       "      <td>200,297,491</td>\n",
       "      <td>399,058,793</td>\n",
       "    </tr>\n",
       "    <tr>\n",
       "      <th>7</th>\n",
       "      <td>LOS_ANGELES_CITY</td>\n",
       "      <td>2018</td>\n",
       "      <td>194,037,539</td>\n",
       "      <td>399,924,796</td>\n",
       "    </tr>\n",
       "    <tr>\n",
       "      <th>8</th>\n",
       "      <td>LOS_ANGELES_COUNTY</td>\n",
       "      <td>2011</td>\n",
       "      <td>141,609,864</td>\n",
       "      <td>422,086,794</td>\n",
       "    </tr>\n",
       "    <tr>\n",
       "      <th>9</th>\n",
       "      <td>LOS_ANGELES_COUNTY</td>\n",
       "      <td>2012</td>\n",
       "      <td>146,737,872</td>\n",
       "      <td>415,243,036</td>\n",
       "    </tr>\n",
       "    <tr>\n",
       "      <th>10</th>\n",
       "      <td>LOS_ANGELES_COUNTY</td>\n",
       "      <td>2013</td>\n",
       "      <td>161,572,215</td>\n",
       "      <td>405,869,496</td>\n",
       "    </tr>\n",
       "    <tr>\n",
       "      <th>11</th>\n",
       "      <td>LOS_ANGELES_COUNTY</td>\n",
       "      <td>2014</td>\n",
       "      <td>165,833,687</td>\n",
       "      <td>407,397,448</td>\n",
       "    </tr>\n",
       "    <tr>\n",
       "      <th>12</th>\n",
       "      <td>LOS_ANGELES_COUNTY</td>\n",
       "      <td>2015</td>\n",
       "      <td>180,675,820</td>\n",
       "      <td>418,799,789</td>\n",
       "    </tr>\n",
       "    <tr>\n",
       "      <th>13</th>\n",
       "      <td>LOS_ANGELES_COUNTY</td>\n",
       "      <td>2016</td>\n",
       "      <td>203,715,656</td>\n",
       "      <td>432,094,449</td>\n",
       "    </tr>\n",
       "    <tr>\n",
       "      <th>14</th>\n",
       "      <td>LOS_ANGELES_COUNTY</td>\n",
       "      <td>2017</td>\n",
       "      <td>210,887,406</td>\n",
       "      <td>443,225,525</td>\n",
       "    </tr>\n",
       "    <tr>\n",
       "      <th>15</th>\n",
       "      <td>LOS_ANGELES_COUNTY</td>\n",
       "      <td>2018</td>\n",
       "      <td>209,984,568</td>\n",
       "      <td>451,986,959</td>\n",
       "    </tr>\n",
       "  </tbody>\n",
       "</table>\n",
       "</div>"
      ],
      "text/plain": [
       "          employerfull  year  adjusted_overtime  adjusted_basewages\n",
       "0     LOS_ANGELES_CITY  2011        106,442,381         396,621,835\n",
       "1     LOS_ANGELES_CITY  2012        122,766,643         377,939,538\n",
       "2     LOS_ANGELES_CITY  2013        150,689,736         372,974,009\n",
       "3     LOS_ANGELES_CITY  2014        170,170,047         333,744,338\n",
       "4     LOS_ANGELES_CITY  2015        194,577,723         376,086,417\n",
       "5     LOS_ANGELES_CITY  2016        193,805,688         378,143,097\n",
       "6     LOS_ANGELES_CITY  2017        200,297,491         399,058,793\n",
       "7     LOS_ANGELES_CITY  2018        194,037,539         399,924,796\n",
       "8   LOS_ANGELES_COUNTY  2011        141,609,864         422,086,794\n",
       "9   LOS_ANGELES_COUNTY  2012        146,737,872         415,243,036\n",
       "10  LOS_ANGELES_COUNTY  2013        161,572,215         405,869,496\n",
       "11  LOS_ANGELES_COUNTY  2014        165,833,687         407,397,448\n",
       "12  LOS_ANGELES_COUNTY  2015        180,675,820         418,799,789\n",
       "13  LOS_ANGELES_COUNTY  2016        203,715,656         432,094,449\n",
       "14  LOS_ANGELES_COUNTY  2017        210,887,406         443,225,525\n",
       "15  LOS_ANGELES_COUNTY  2018        209,984,568         451,986,959"
      ]
     },
     "execution_count": 151,
     "metadata": {},
     "output_type": "execute_result"
    }
   ],
   "source": [
    "la.groupby(['employerfull', 'year']).agg({'adjusted_overtime':'sum', 'adjusted_basewages':'sum'}).reset_index()"
   ]
  },
  {
   "cell_type": "markdown",
   "metadata": {},
   "source": [
    "---"
   ]
  },
  {
   "cell_type": "markdown",
   "metadata": {},
   "source": [
    "### Create a dataframe combining and pivoting listing all the large places"
   ]
  },
  {
   "cell_type": "code",
   "execution_count": 169,
   "metadata": {},
   "outputs": [],
   "source": [
    "large_places_df = payroll_fire[(payroll_fire['population'] > 10000) \\\n",
    "                               & (payroll_fire['employer'] != 'FRESNO')].groupby(['employer', 'type', 'year'])\\\n",
    "                .agg({'adjusted_overtime': 'sum'}).reset_index()"
   ]
  },
  {
   "cell_type": "code",
   "execution_count": 170,
   "metadata": {},
   "outputs": [],
   "source": [
    "large_places_df_pivot = pd.DataFrame(pd.pivot_table(large_places_df, \\\n",
    "                values='adjusted_overtime', index=['employer', 'type'], columns=['year']).reset_index().fillna(0))"
   ]
  },
  {
   "cell_type": "code",
   "execution_count": 171,
   "metadata": {},
   "outputs": [],
   "source": [
    "large_places_df_pivot['adjusted_ot_pct_change'] = \\\n",
    "                ((large_places_df_pivot['2018']-large_places_df_pivot['2011'])/\\\n",
    "                 large_places_df_pivot['2011'])*100"
   ]
  },
  {
   "cell_type": "code",
   "execution_count": 172,
   "metadata": {},
   "outputs": [],
   "source": [
    "places = large_places_df_pivot[(large_places_df_pivot['2011'] > 10000) & (large_places_df_pivot['2018'] > 10000)]"
   ]
  },
  {
   "cell_type": "code",
   "execution_count": 173,
   "metadata": {},
   "outputs": [
    {
     "data": {
      "text/html": [
       "<div>\n",
       "<style scoped>\n",
       "    .dataframe tbody tr th:only-of-type {\n",
       "        vertical-align: middle;\n",
       "    }\n",
       "\n",
       "    .dataframe tbody tr th {\n",
       "        vertical-align: top;\n",
       "    }\n",
       "\n",
       "    .dataframe thead th {\n",
       "        text-align: right;\n",
       "    }\n",
       "</style>\n",
       "<table border=\"1\" class=\"dataframe\">\n",
       "  <thead>\n",
       "    <tr style=\"text-align: right;\">\n",
       "      <th>year</th>\n",
       "      <th>employer</th>\n",
       "      <th>type</th>\n",
       "      <th>2011</th>\n",
       "      <th>2012</th>\n",
       "      <th>2013</th>\n",
       "      <th>2014</th>\n",
       "      <th>2015</th>\n",
       "      <th>2016</th>\n",
       "      <th>2017</th>\n",
       "      <th>2018</th>\n",
       "      <th>adjusted_ot_pct_change</th>\n",
       "    </tr>\n",
       "  </thead>\n",
       "  <tbody>\n",
       "    <tr>\n",
       "      <th>0</th>\n",
       "      <td>ALAMEDA</td>\n",
       "      <td>CITY</td>\n",
       "      <td>606,326</td>\n",
       "      <td>413,811</td>\n",
       "      <td>480,147</td>\n",
       "      <td>938,339</td>\n",
       "      <td>1,721,621</td>\n",
       "      <td>1,007,731</td>\n",
       "      <td>1,057,992</td>\n",
       "      <td>1,412,566</td>\n",
       "      <td>133</td>\n",
       "    </tr>\n",
       "    <tr>\n",
       "      <th>1</th>\n",
       "      <td>ALAMEDA</td>\n",
       "      <td>COUNTY</td>\n",
       "      <td>0</td>\n",
       "      <td>0</td>\n",
       "      <td>0</td>\n",
       "      <td>0</td>\n",
       "      <td>13,956,109</td>\n",
       "      <td>15,865,394</td>\n",
       "      <td>3,441,105</td>\n",
       "      <td>16,881,483</td>\n",
       "      <td>inf</td>\n",
       "    </tr>\n",
       "    <tr>\n",
       "      <th>2</th>\n",
       "      <td>ALBANY</td>\n",
       "      <td>CITY</td>\n",
       "      <td>571,784</td>\n",
       "      <td>770,969</td>\n",
       "      <td>638,364</td>\n",
       "      <td>604,750</td>\n",
       "      <td>649,010</td>\n",
       "      <td>0</td>\n",
       "      <td>794,677</td>\n",
       "      <td>924,343</td>\n",
       "      <td>62</td>\n",
       "    </tr>\n",
       "    <tr>\n",
       "      <th>3</th>\n",
       "      <td>ALHAMBRA</td>\n",
       "      <td>CITY</td>\n",
       "      <td>2,379,257</td>\n",
       "      <td>2,574,230</td>\n",
       "      <td>2,434,378</td>\n",
       "      <td>2,503,066</td>\n",
       "      <td>2,175,470</td>\n",
       "      <td>2,959,928</td>\n",
       "      <td>3,442,536</td>\n",
       "      <td>3,713,556</td>\n",
       "      <td>56</td>\n",
       "    </tr>\n",
       "    <tr>\n",
       "      <th>4</th>\n",
       "      <td>AMADOR</td>\n",
       "      <td>COUNTY</td>\n",
       "      <td>0</td>\n",
       "      <td>0</td>\n",
       "      <td>0</td>\n",
       "      <td>0</td>\n",
       "      <td>0</td>\n",
       "      <td>0</td>\n",
       "      <td>501,099</td>\n",
       "      <td>461,893</td>\n",
       "      <td>inf</td>\n",
       "    </tr>\n",
       "  </tbody>\n",
       "</table>\n",
       "</div>"
      ],
      "text/plain": [
       "year  employer    type      2011      2012      2013      2014       2015  \\\n",
       "0      ALAMEDA    CITY   606,326   413,811   480,147   938,339  1,721,621   \n",
       "1      ALAMEDA  COUNTY         0         0         0         0 13,956,109   \n",
       "2       ALBANY    CITY   571,784   770,969   638,364   604,750    649,010   \n",
       "3     ALHAMBRA    CITY 2,379,257 2,574,230 2,434,378 2,503,066  2,175,470   \n",
       "4       AMADOR  COUNTY         0         0         0         0          0   \n",
       "\n",
       "year       2016      2017       2018  adjusted_ot_pct_change  \n",
       "0     1,007,731 1,057,992  1,412,566                     133  \n",
       "1    15,865,394 3,441,105 16,881,483                     inf  \n",
       "2             0   794,677    924,343                      62  \n",
       "3     2,959,928 3,442,536  3,713,556                      56  \n",
       "4             0   501,099    461,893                     inf  "
      ]
     },
     "execution_count": 173,
     "metadata": {},
     "output_type": "execute_result"
    }
   ],
   "source": [
    "large_places_df_pivot.head()"
   ]
  },
  {
   "cell_type": "code",
   "execution_count": 174,
   "metadata": {},
   "outputs": [],
   "source": [
    "large_places_df_pivot['adjusted_ot_pct_change'] = \\\n",
    "                ((large_places_df_pivot['2018']-large_places_df_pivot['2011'])/\\\n",
    "                 large_places_df_pivot['2014'])*100"
   ]
  },
  {
   "cell_type": "code",
   "execution_count": 175,
   "metadata": {},
   "outputs": [],
   "source": [
    "places = large_places_df_pivot[(large_places_df_pivot['2014'] > 0) & (large_places_df_pivot['2018'] > 0)]"
   ]
  },
  {
   "cell_type": "code",
   "execution_count": 176,
   "metadata": {
    "scrolled": false
   },
   "outputs": [
    {
     "data": {
      "text/html": [
       "<div>\n",
       "<style scoped>\n",
       "    .dataframe tbody tr th:only-of-type {\n",
       "        vertical-align: middle;\n",
       "    }\n",
       "\n",
       "    .dataframe tbody tr th {\n",
       "        vertical-align: top;\n",
       "    }\n",
       "\n",
       "    .dataframe thead th {\n",
       "        text-align: right;\n",
       "    }\n",
       "</style>\n",
       "<table border=\"1\" class=\"dataframe\">\n",
       "  <thead>\n",
       "    <tr style=\"text-align: right;\">\n",
       "      <th>year</th>\n",
       "      <th>employer</th>\n",
       "      <th>type</th>\n",
       "      <th>2011</th>\n",
       "      <th>2012</th>\n",
       "      <th>2013</th>\n",
       "      <th>2014</th>\n",
       "      <th>2015</th>\n",
       "      <th>2016</th>\n",
       "      <th>2017</th>\n",
       "      <th>2018</th>\n",
       "      <th>adjusted_ot_pct_change</th>\n",
       "    </tr>\n",
       "  </thead>\n",
       "  <tbody>\n",
       "    <tr>\n",
       "      <th>91</th>\n",
       "      <td>LOS ANGELES</td>\n",
       "      <td>COUNTY</td>\n",
       "      <td>140,482,851</td>\n",
       "      <td>145,158,300</td>\n",
       "      <td>160,012,219</td>\n",
       "      <td>163,180,317</td>\n",
       "      <td>176,424,573</td>\n",
       "      <td>198,041,672</td>\n",
       "      <td>203,532,044</td>\n",
       "      <td>201,820,125</td>\n",
       "      <td>38</td>\n",
       "    </tr>\n",
       "    <tr>\n",
       "      <th>90</th>\n",
       "      <td>LOS ANGELES</td>\n",
       "      <td>CITY</td>\n",
       "      <td>106,442,381</td>\n",
       "      <td>122,766,643</td>\n",
       "      <td>150,689,736</td>\n",
       "      <td>170,170,047</td>\n",
       "      <td>194,577,723</td>\n",
       "      <td>193,805,688</td>\n",
       "      <td>200,297,491</td>\n",
       "      <td>194,037,539</td>\n",
       "      <td>51</td>\n",
       "    </tr>\n",
       "    <tr>\n",
       "      <th>157</th>\n",
       "      <td>SAN DIEGO</td>\n",
       "      <td>CITY</td>\n",
       "      <td>21,771,260</td>\n",
       "      <td>984,990</td>\n",
       "      <td>33,931,223</td>\n",
       "      <td>34,051,944</td>\n",
       "      <td>32,620,927</td>\n",
       "      <td>34,626,760</td>\n",
       "      <td>39,584,415</td>\n",
       "      <td>43,235,824</td>\n",
       "      <td>63</td>\n",
       "    </tr>\n",
       "    <tr>\n",
       "      <th>158</th>\n",
       "      <td>SAN FRANCISCO</td>\n",
       "      <td>CITY</td>\n",
       "      <td>32,605,597</td>\n",
       "      <td>44,103,503</td>\n",
       "      <td>47,549,997</td>\n",
       "      <td>40,190,776</td>\n",
       "      <td>42,090,738</td>\n",
       "      <td>43,809,245</td>\n",
       "      <td>35,791,590</td>\n",
       "      <td>34,676,006</td>\n",
       "      <td>5</td>\n",
       "    </tr>\n",
       "    <tr>\n",
       "      <th>204</th>\n",
       "      <td>VENTURA</td>\n",
       "      <td>COUNTY</td>\n",
       "      <td>17,116,105</td>\n",
       "      <td>16,796,105</td>\n",
       "      <td>17,391,128</td>\n",
       "      <td>17,945,102</td>\n",
       "      <td>19,650,785</td>\n",
       "      <td>21,168,536</td>\n",
       "      <td>23,244,233</td>\n",
       "      <td>23,703,542</td>\n",
       "      <td>37</td>\n",
       "    </tr>\n",
       "  </tbody>\n",
       "</table>\n",
       "</div>"
      ],
      "text/plain": [
       "year       employer    type        2011        2012        2013        2014  \\\n",
       "91      LOS ANGELES  COUNTY 140,482,851 145,158,300 160,012,219 163,180,317   \n",
       "90      LOS ANGELES    CITY 106,442,381 122,766,643 150,689,736 170,170,047   \n",
       "157       SAN DIEGO    CITY  21,771,260     984,990  33,931,223  34,051,944   \n",
       "158   SAN FRANCISCO    CITY  32,605,597  44,103,503  47,549,997  40,190,776   \n",
       "204         VENTURA  COUNTY  17,116,105  16,796,105  17,391,128  17,945,102   \n",
       "\n",
       "year        2015        2016        2017        2018  adjusted_ot_pct_change  \n",
       "91   176,424,573 198,041,672 203,532,044 201,820,125                      38  \n",
       "90   194,577,723 193,805,688 200,297,491 194,037,539                      51  \n",
       "157   32,620,927  34,626,760  39,584,415  43,235,824                      63  \n",
       "158   42,090,738  43,809,245  35,791,590  34,676,006                       5  \n",
       "204   19,650,785  21,168,536  23,244,233  23,703,542                      37  "
      ]
     },
     "execution_count": 176,
     "metadata": {},
     "output_type": "execute_result"
    }
   ],
   "source": [
    "places.sort_values(by='2018', ascending=False).head()"
   ]
  },
  {
   "cell_type": "code",
   "execution_count": 177,
   "metadata": {},
   "outputs": [],
   "source": [
    "places.to_csv('output/places/large_places.csv')"
   ]
  },
  {
   "cell_type": "markdown",
   "metadata": {},
   "source": [
    "---"
   ]
  },
  {
   "cell_type": "markdown",
   "metadata": {},
   "source": [
    "Data source: https://publicpay.ca.gov/Reports/RawExport.aspx"
   ]
  },
  {
   "cell_type": "code",
   "execution_count": null,
   "metadata": {},
   "outputs": [],
   "source": []
  }
 ],
 "metadata": {
  "kernelspec": {
   "display_name": "Python 3",
   "language": "python",
   "name": "python3"
  },
  "language_info": {
   "codemirror_mode": {
    "name": "ipython",
    "version": 3
   },
   "file_extension": ".py",
   "mimetype": "text/x-python",
   "name": "python",
   "nbconvert_exporter": "python",
   "pygments_lexer": "ipython3",
   "version": "3.7.3"
  }
 },
 "nbformat": 4,
 "nbformat_minor": 2
}
