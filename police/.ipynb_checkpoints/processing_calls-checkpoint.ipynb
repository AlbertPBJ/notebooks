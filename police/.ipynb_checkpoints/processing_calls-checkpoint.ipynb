{
 "cells": [
  {
   "cell_type": "markdown",
   "metadata": {},
   "source": [
    "# Processing LAPD calls for service: 2010-2020"
   ]
  },
  {
   "cell_type": "markdown",
   "metadata": {},
   "source": [
    "### Load python tools"
   ]
  },
  {
   "cell_type": "code",
   "execution_count": 182,
   "metadata": {},
   "outputs": [
    {
     "data": {
      "text/plain": [
       "DataTransformerRegistry.enable('default')"
      ]
     },
     "execution_count": 182,
     "metadata": {},
     "output_type": "execute_result"
    }
   ],
   "source": [
    "import json\n",
    "import pandas as pd\n",
    "import matplotlib\n",
    "import numpy as np\n",
    "import altair as alt\n",
    "from altair import datum\n",
    "import altair_latimes as lat\n",
    "pd.options.display.max_columns = 50\n",
    "pd.options.display.max_rows = 500\n",
    "pd.set_option('display.max_colwidth', None)\n",
    "alt.themes.register('latimes', lat.theme)\n",
    "alt.themes.enable('latimes')\n",
    "alt.renderers.enable('default')\n",
    "alt.data_transformers.disable_max_rows()"
   ]
  },
  {
   "cell_type": "markdown",
   "metadata": {},
   "source": [
    "### Download latest data from all sources"
   ]
  },
  {
   "cell_type": "code",
   "execution_count": 2,
   "metadata": {},
   "outputs": [],
   "source": [
    "# %run 'download_calls.ipynb'"
   ]
  },
  {
   "cell_type": "markdown",
   "metadata": {},
   "source": [
    "## Los Angeles Police"
   ]
  },
  {
   "cell_type": "code",
   "execution_count": 96,
   "metadata": {},
   "outputs": [],
   "source": [
    "df = pd.read_csv('/Users/mhustiles/data/data/LA/calls/la/los_angeles.csv', low_memory=False)"
   ]
  },
  {
   "cell_type": "code",
   "execution_count": 97,
   "metadata": {},
   "outputs": [
    {
     "data": {
      "text/html": [
       "<div>\n",
       "<style scoped>\n",
       "    .dataframe tbody tr th:only-of-type {\n",
       "        vertical-align: middle;\n",
       "    }\n",
       "\n",
       "    .dataframe tbody tr th {\n",
       "        vertical-align: top;\n",
       "    }\n",
       "\n",
       "    .dataframe thead th {\n",
       "        text-align: right;\n",
       "    }\n",
       "</style>\n",
       "<table border=\"1\" class=\"dataframe\">\n",
       "  <thead>\n",
       "    <tr style=\"text-align: right;\">\n",
       "      <th></th>\n",
       "      <th>incident_number</th>\n",
       "      <th>reporting_district</th>\n",
       "      <th>area_occurred</th>\n",
       "      <th>dispatch_date</th>\n",
       "      <th>dispatch_time</th>\n",
       "      <th>call_type_code</th>\n",
       "      <th>call_type_description</th>\n",
       "      <th>date</th>\n",
       "      <th>time</th>\n",
       "    </tr>\n",
       "  </thead>\n",
       "  <tbody>\n",
       "    <tr>\n",
       "      <th>0</th>\n",
       "      <td>PD20012600002716</td>\n",
       "      <td>Rampart</td>\n",
       "      <td>0245</td>\n",
       "      <td>01/26/2020</td>\n",
       "      <td>14:37:04</td>\n",
       "      <td>211S</td>\n",
       "      <td>SUSP</td>\n",
       "      <td>2020-01-26</td>\n",
       "      <td>14:37:04</td>\n",
       "    </tr>\n",
       "    <tr>\n",
       "      <th>1</th>\n",
       "      <td>PD20011400005678</td>\n",
       "      <td>Outside</td>\n",
       "      <td>NaN</td>\n",
       "      <td>01/14/2020</td>\n",
       "      <td>23:26:20</td>\n",
       "      <td>006</td>\n",
       "      <td>CODE 6</td>\n",
       "      <td>2020-01-14</td>\n",
       "      <td>23:26:20</td>\n",
       "    </tr>\n",
       "    <tr>\n",
       "      <th>2</th>\n",
       "      <td>PD20011100005314</td>\n",
       "      <td>Outside</td>\n",
       "      <td>NaN</td>\n",
       "      <td>01/11/2020</td>\n",
       "      <td>23:32:40</td>\n",
       "      <td>006</td>\n",
       "      <td>CODE 6</td>\n",
       "      <td>2020-01-11</td>\n",
       "      <td>23:32:40</td>\n",
       "    </tr>\n",
       "    <tr>\n",
       "      <th>3</th>\n",
       "      <td>PD20010100005220</td>\n",
       "      <td>Southwest</td>\n",
       "      <td>0328</td>\n",
       "      <td>01/01/2020</td>\n",
       "      <td>22:34:29</td>\n",
       "      <td>245SN</td>\n",
       "      <td>SUSP NOW</td>\n",
       "      <td>2020-01-01</td>\n",
       "      <td>22:34:29</td>\n",
       "    </tr>\n",
       "    <tr>\n",
       "      <th>4</th>\n",
       "      <td>PD20010500000660</td>\n",
       "      <td>Hollywood</td>\n",
       "      <td>0636</td>\n",
       "      <td>01/05/2020</td>\n",
       "      <td>04:04:42</td>\n",
       "      <td>907PA2</td>\n",
       "      <td>POSS AMB O/D</td>\n",
       "      <td>2020-01-05</td>\n",
       "      <td>04:04:42</td>\n",
       "    </tr>\n",
       "  </tbody>\n",
       "</table>\n",
       "</div>"
      ],
      "text/plain": [
       "    incident_number reporting_district area_occurred dispatch_date  \\\n",
       "0  PD20012600002716            Rampart          0245    01/26/2020   \n",
       "1  PD20011400005678            Outside           NaN    01/14/2020   \n",
       "2  PD20011100005314            Outside           NaN    01/11/2020   \n",
       "3  PD20010100005220          Southwest          0328    01/01/2020   \n",
       "4  PD20010500000660          Hollywood          0636    01/05/2020   \n",
       "\n",
       "  dispatch_time call_type_code call_type_description        date      time  \n",
       "0      14:37:04           211S                  SUSP  2020-01-26  14:37:04  \n",
       "1      23:26:20            006                CODE 6  2020-01-14  23:26:20  \n",
       "2      23:32:40            006                CODE 6  2020-01-11  23:32:40  \n",
       "3      22:34:29          245SN              SUSP NOW  2020-01-01  22:34:29  \n",
       "4      04:04:42         907PA2          POSS AMB O/D  2020-01-05  04:04:42  "
      ]
     },
     "execution_count": 97,
     "metadata": {},
     "output_type": "execute_result"
    }
   ],
   "source": [
    "df.head()"
   ]
  },
  {
   "cell_type": "code",
   "execution_count": 98,
   "metadata": {},
   "outputs": [],
   "source": [
    "df['date'] = pd.to_datetime(df['dispatch_date'], format='%m/%d/%Y')\n",
    "df['monthday'] = df['date'].dt.strftime('%m/%d')\n",
    "df['year'] = df['date'].dt.strftime('%Y')"
   ]
  },
  {
   "cell_type": "code",
   "execution_count": 99,
   "metadata": {},
   "outputs": [],
   "source": [
    "df['month'] = df['date'].dt.month\n",
    "df['day'] = df['date'].dt.day\n",
    "df['date'] = df['date'].dt.date"
   ]
  },
  {
   "cell_type": "code",
   "execution_count": 100,
   "metadata": {},
   "outputs": [],
   "source": [
    "df = df.drop(['dispatch_time', 'dispatch_date'], axis=1)"
   ]
  },
  {
   "cell_type": "code",
   "execution_count": 101,
   "metadata": {},
   "outputs": [],
   "source": [
    "los_angeles = df.copy()"
   ]
  },
  {
   "cell_type": "markdown",
   "metadata": {},
   "source": [
    "---"
   ]
  },
  {
   "cell_type": "code",
   "execution_count": 114,
   "metadata": {},
   "outputs": [
    {
     "data": {
      "text/html": [
       "<div>\n",
       "<style scoped>\n",
       "    .dataframe tbody tr th:only-of-type {\n",
       "        vertical-align: middle;\n",
       "    }\n",
       "\n",
       "    .dataframe tbody tr th {\n",
       "        vertical-align: top;\n",
       "    }\n",
       "\n",
       "    .dataframe thead th {\n",
       "        text-align: right;\n",
       "    }\n",
       "</style>\n",
       "<table border=\"1\" class=\"dataframe\">\n",
       "  <thead>\n",
       "    <tr style=\"text-align: right;\">\n",
       "      <th></th>\n",
       "      <th>incident_number</th>\n",
       "      <th>reporting_district</th>\n",
       "      <th>area_occurred</th>\n",
       "      <th>call_type_code</th>\n",
       "      <th>call_type_description</th>\n",
       "      <th>date</th>\n",
       "      <th>time</th>\n",
       "      <th>monthday</th>\n",
       "      <th>year</th>\n",
       "      <th>month</th>\n",
       "      <th>day</th>\n",
       "    </tr>\n",
       "  </thead>\n",
       "  <tbody>\n",
       "    <tr>\n",
       "      <th>0</th>\n",
       "      <td>PD20012600002716</td>\n",
       "      <td>Rampart</td>\n",
       "      <td>0245</td>\n",
       "      <td>211S</td>\n",
       "      <td>SUSP</td>\n",
       "      <td>2020-01-26</td>\n",
       "      <td>14:37:04</td>\n",
       "      <td>01/26</td>\n",
       "      <td>2020</td>\n",
       "      <td>1</td>\n",
       "      <td>26</td>\n",
       "    </tr>\n",
       "    <tr>\n",
       "      <th>1</th>\n",
       "      <td>PD20011400005678</td>\n",
       "      <td>Outside</td>\n",
       "      <td>NaN</td>\n",
       "      <td>006</td>\n",
       "      <td>CODE 6</td>\n",
       "      <td>2020-01-14</td>\n",
       "      <td>23:26:20</td>\n",
       "      <td>01/14</td>\n",
       "      <td>2020</td>\n",
       "      <td>1</td>\n",
       "      <td>14</td>\n",
       "    </tr>\n",
       "    <tr>\n",
       "      <th>2</th>\n",
       "      <td>PD20011100005314</td>\n",
       "      <td>Outside</td>\n",
       "      <td>NaN</td>\n",
       "      <td>006</td>\n",
       "      <td>CODE 6</td>\n",
       "      <td>2020-01-11</td>\n",
       "      <td>23:32:40</td>\n",
       "      <td>01/11</td>\n",
       "      <td>2020</td>\n",
       "      <td>1</td>\n",
       "      <td>11</td>\n",
       "    </tr>\n",
       "    <tr>\n",
       "      <th>3</th>\n",
       "      <td>PD20010100005220</td>\n",
       "      <td>Southwest</td>\n",
       "      <td>0328</td>\n",
       "      <td>245SN</td>\n",
       "      <td>SUSP NOW</td>\n",
       "      <td>2020-01-01</td>\n",
       "      <td>22:34:29</td>\n",
       "      <td>01/01</td>\n",
       "      <td>2020</td>\n",
       "      <td>1</td>\n",
       "      <td>1</td>\n",
       "    </tr>\n",
       "    <tr>\n",
       "      <th>4</th>\n",
       "      <td>PD20010500000660</td>\n",
       "      <td>Hollywood</td>\n",
       "      <td>0636</td>\n",
       "      <td>907PA2</td>\n",
       "      <td>POSS AMB O/D</td>\n",
       "      <td>2020-01-05</td>\n",
       "      <td>04:04:42</td>\n",
       "      <td>01/05</td>\n",
       "      <td>2020</td>\n",
       "      <td>1</td>\n",
       "      <td>5</td>\n",
       "    </tr>\n",
       "  </tbody>\n",
       "</table>\n",
       "</div>"
      ],
      "text/plain": [
       "    incident_number reporting_district area_occurred call_type_code  \\\n",
       "0  PD20012600002716            Rampart          0245           211S   \n",
       "1  PD20011400005678            Outside           NaN            006   \n",
       "2  PD20011100005314            Outside           NaN            006   \n",
       "3  PD20010100005220          Southwest          0328          245SN   \n",
       "4  PD20010500000660          Hollywood          0636         907PA2   \n",
       "\n",
       "  call_type_description        date      time monthday  year  month  day  \n",
       "0                  SUSP  2020-01-26  14:37:04    01/26  2020      1   26  \n",
       "1                CODE 6  2020-01-14  23:26:20    01/14  2020      1   14  \n",
       "2                CODE 6  2020-01-11  23:32:40    01/11  2020      1   11  \n",
       "3              SUSP NOW  2020-01-01  22:34:29    01/01  2020      1    1  \n",
       "4          POSS AMB O/D  2020-01-05  04:04:42    01/05  2020      1    5  "
      ]
     },
     "execution_count": 114,
     "metadata": {},
     "output_type": "execute_result"
    }
   ],
   "source": [
    "los_angeles.head()"
   ]
  },
  {
   "cell_type": "code",
   "execution_count": 241,
   "metadata": {},
   "outputs": [],
   "source": [
    "this_year = los_angeles[los_angeles['year'] == '2020'].groupby(['monthday']).agg('size').reset_index(name='calls').drop([59], axis=0)"
   ]
  },
  {
   "cell_type": "markdown",
   "metadata": {},
   "source": [
    "### What changed? "
   ]
  },
  {
   "cell_type": "code",
   "execution_count": 423,
   "metadata": {},
   "outputs": [],
   "source": [
    "this_year_before = this_year[(this_year['monthday'] < '05/30')]\n",
    "protest_period = pd.DataFrame(this_year[(this_year['monthday'] > '05/27') & (this_year['monthday'] < '06/10')])"
   ]
  },
  {
   "cell_type": "code",
   "execution_count": 424,
   "metadata": {},
   "outputs": [
    {
     "data": {
      "text/plain": [
       "2975.6153846153848"
      ]
     },
     "execution_count": 424,
     "metadata": {},
     "output_type": "execute_result"
    }
   ],
   "source": [
    "protest_period.calls.mean()"
   ]
  },
  {
   "cell_type": "code",
   "execution_count": 425,
   "metadata": {},
   "outputs": [
    {
     "data": {
      "text/plain": [
       "6724"
      ]
     },
     "execution_count": 425,
     "metadata": {},
     "output_type": "execute_result"
    }
   ],
   "source": [
    "this_year_before.calls.max()"
   ]
  },
  {
   "cell_type": "code",
   "execution_count": 526,
   "metadata": {},
   "outputs": [
    {
     "data": {
      "text/plain": [
       "4943.526315789473"
      ]
     },
     "execution_count": 526,
     "metadata": {},
     "output_type": "execute_result"
    }
   ],
   "source": [
    "this_year.calls.mean()"
   ]
  },
  {
   "cell_type": "code",
   "execution_count": 427,
   "metadata": {},
   "outputs": [],
   "source": [
    "protest_period['mean_before'] = this_year_before.calls.max()"
   ]
  },
  {
   "cell_type": "code",
   "execution_count": 428,
   "metadata": {},
   "outputs": [
    {
     "data": {
      "text/html": [
       "<div>\n",
       "<style scoped>\n",
       "    .dataframe tbody tr th:only-of-type {\n",
       "        vertical-align: middle;\n",
       "    }\n",
       "\n",
       "    .dataframe tbody tr th {\n",
       "        vertical-align: top;\n",
       "    }\n",
       "\n",
       "    .dataframe thead th {\n",
       "        text-align: right;\n",
       "    }\n",
       "</style>\n",
       "<table border=\"1\" class=\"dataframe\">\n",
       "  <thead>\n",
       "    <tr style=\"text-align: right;\">\n",
       "      <th></th>\n",
       "      <th>monthday</th>\n",
       "      <th>calls</th>\n",
       "      <th>mean_before</th>\n",
       "    </tr>\n",
       "  </thead>\n",
       "  <tbody>\n",
       "    <tr>\n",
       "      <th>148</th>\n",
       "      <td>05/28</td>\n",
       "      <td>5028</td>\n",
       "      <td>6724</td>\n",
       "    </tr>\n",
       "    <tr>\n",
       "      <th>149</th>\n",
       "      <td>05/29</td>\n",
       "      <td>4128</td>\n",
       "      <td>6724</td>\n",
       "    </tr>\n",
       "    <tr>\n",
       "      <th>150</th>\n",
       "      <td>05/30</td>\n",
       "      <td>2435</td>\n",
       "      <td>6724</td>\n",
       "    </tr>\n",
       "    <tr>\n",
       "      <th>151</th>\n",
       "      <td>05/31</td>\n",
       "      <td>2611</td>\n",
       "      <td>6724</td>\n",
       "    </tr>\n",
       "    <tr>\n",
       "      <th>152</th>\n",
       "      <td>06/01</td>\n",
       "      <td>2702</td>\n",
       "      <td>6724</td>\n",
       "    </tr>\n",
       "    <tr>\n",
       "      <th>153</th>\n",
       "      <td>06/02</td>\n",
       "      <td>2618</td>\n",
       "      <td>6724</td>\n",
       "    </tr>\n",
       "    <tr>\n",
       "      <th>154</th>\n",
       "      <td>06/03</td>\n",
       "      <td>2463</td>\n",
       "      <td>6724</td>\n",
       "    </tr>\n",
       "    <tr>\n",
       "      <th>155</th>\n",
       "      <td>06/04</td>\n",
       "      <td>2485</td>\n",
       "      <td>6724</td>\n",
       "    </tr>\n",
       "    <tr>\n",
       "      <th>156</th>\n",
       "      <td>06/05</td>\n",
       "      <td>2761</td>\n",
       "      <td>6724</td>\n",
       "    </tr>\n",
       "    <tr>\n",
       "      <th>157</th>\n",
       "      <td>06/06</td>\n",
       "      <td>2594</td>\n",
       "      <td>6724</td>\n",
       "    </tr>\n",
       "    <tr>\n",
       "      <th>158</th>\n",
       "      <td>06/07</td>\n",
       "      <td>2830</td>\n",
       "      <td>6724</td>\n",
       "    </tr>\n",
       "    <tr>\n",
       "      <th>159</th>\n",
       "      <td>06/08</td>\n",
       "      <td>2977</td>\n",
       "      <td>6724</td>\n",
       "    </tr>\n",
       "    <tr>\n",
       "      <th>160</th>\n",
       "      <td>06/09</td>\n",
       "      <td>3051</td>\n",
       "      <td>6724</td>\n",
       "    </tr>\n",
       "  </tbody>\n",
       "</table>\n",
       "</div>"
      ],
      "text/plain": [
       "    monthday  calls  mean_before\n",
       "148    05/28   5028         6724\n",
       "149    05/29   4128         6724\n",
       "150    05/30   2435         6724\n",
       "151    05/31   2611         6724\n",
       "152    06/01   2702         6724\n",
       "153    06/02   2618         6724\n",
       "154    06/03   2463         6724\n",
       "155    06/04   2485         6724\n",
       "156    06/05   2761         6724\n",
       "157    06/06   2594         6724\n",
       "158    06/07   2830         6724\n",
       "159    06/08   2977         6724\n",
       "160    06/09   3051         6724"
      ]
     },
     "execution_count": 428,
     "metadata": {},
     "output_type": "execute_result"
    }
   ],
   "source": [
    "protest_period"
   ]
  },
  {
   "cell_type": "code",
   "execution_count": 537,
   "metadata": {},
   "outputs": [
    {
     "data": {
      "text/html": [
       "\n",
       "<div id=\"altair-viz-2653b34f7a724919ba3e2cfc86739c26\"></div>\n",
       "<script type=\"text/javascript\">\n",
       "  (function(spec, embedOpt){\n",
       "    const outputDiv = document.getElementById(\"altair-viz-2653b34f7a724919ba3e2cfc86739c26\");\n",
       "    const paths = {\n",
       "      \"vega\": \"https://cdn.jsdelivr.net/npm//vega@5?noext\",\n",
       "      \"vega-lib\": \"https://cdn.jsdelivr.net/npm//vega-lib?noext\",\n",
       "      \"vega-lite\": \"https://cdn.jsdelivr.net/npm//vega-lite@4.0.2?noext\",\n",
       "      \"vega-embed\": \"https://cdn.jsdelivr.net/npm//vega-embed@6?noext\",\n",
       "    };\n",
       "\n",
       "    function loadScript(lib) {\n",
       "      return new Promise(function(resolve, reject) {\n",
       "        var s = document.createElement('script');\n",
       "        s.src = paths[lib];\n",
       "        s.async = true;\n",
       "        s.onload = () => resolve(paths[lib]);\n",
       "        s.onerror = () => reject(`Error loading script: ${paths[lib]}`);\n",
       "        document.getElementsByTagName(\"head\")[0].appendChild(s);\n",
       "      });\n",
       "    }\n",
       "\n",
       "    function showError(err) {\n",
       "      outputDiv.innerHTML = `<div class=\"error\" style=\"color:red;\">${err}</div>`;\n",
       "      throw err;\n",
       "    }\n",
       "\n",
       "    function displayChart(vegaEmbed) {\n",
       "      vegaEmbed(outputDiv, spec, embedOpt)\n",
       "        .catch(err => showError(`Javascript Error: ${err.message}<br>This usually means there's a typo in your chart specification. See the javascript console for the full traceback.`));\n",
       "    }\n",
       "\n",
       "    if(typeof define === \"function\" && define.amd) {\n",
       "      requirejs.config({paths});\n",
       "      require([\"vega-embed\"], displayChart, err => showError(`Error loading script: ${err.message}`));\n",
       "    } else if (typeof vegaEmbed === \"function\") {\n",
       "      displayChart(vegaEmbed);\n",
       "    } else {\n",
       "      loadScript(\"vega\")\n",
       "        .then(() => loadScript(\"vega-lite\"))\n",
       "        .then(() => loadScript(\"vega-embed\"))\n",
       "        .catch(showError)\n",
       "        .then(() => displayChart(vegaEmbed));\n",
       "    }\n",
       "  })({\"config\": {\"view\": {\"width\": 800, \"height\": 450, \"strokeOpacity\": 0}, \"background\": \"#ffffff\", \"title\": {\"anchor\": \"start\", \"font\": \"Benton Gothic Bold, sans\", \"fontColor\": \"#000000\", \"fontSize\": 22, \"fontWeight\": \"normal\"}, \"arc\": {\"fill\": \"#82c6df\"}, \"area\": {\"fill\": \"#82c6df\"}, \"line\": {\"stroke\": \"#82c6df\", \"strokeWidth\": 3}, \"path\": {\"stroke\": \"#82c6df\"}, \"rect\": {\"fill\": \"#82c6df\"}, \"shape\": {\"stroke\": \"#82c6df\"}, \"bar\": {\"fill\": \"#82c6df\"}, \"point\": {\"stroke\": \"#82c6df\"}, \"symbol\": {\"fill\": \"#82c6df\", \"size\": 30}, \"axis\": {\"titleFont\": \"Benton Gothic Bold, sans\", \"titleFontSize\": 13, \"titleFontWeight\": \"normal\", \"labelFont\": \"Benton Gothic, sans\", \"labelFontSize\": 11.5, \"labelFontWeight\": \"normal\"}, \"axisX\": {\"labelAngle\": 0, \"labelPadding\": 4, \"tickSize\": 3}, \"axisY\": {\"labelBaseline\": \"middle\", \"maxExtent\": 45, \"minExtent\": 45, \"tickSize\": 2, \"titleAlign\": \"left\", \"titleAngle\": 0, \"titleX\": -45, \"titleY\": -11}, \"legend\": {\"titleFont\": \"Benton Gothic Bold, sans\", \"titleFontSize\": 13, \"titleFontWeight\": \"normal\", \"symbolType\": \"square\", \"labelFont\": \"Benton Gothic, sans\", \"labelFontSize\": 11.5}, \"range\": {\"category\": [\"#3580b1\", \"#ec8431\", \"#ab7fb4\", \"#c89d29\", \"#adc839\", \"#829eb1\"], \"diverging\": [\"#e68a4f\", \"#f4bb6a\", \"#f9e39c\", \"#dadfe2\", \"#a6b7c6\", \"#849eae\"], \"heatmap\": [\"#fbf2c7\", \"#f9e39c\", \"#f8d36e\", \"#f4bb6a\", \"#e68a4f\", \"#d15a40\", \"#ab4232\"], \"ordinal\": [\"#fbf2c7\", \"#f9e39c\", \"#f8d36e\", \"#f4bb6a\", \"#e68a4f\", \"#d15a40\", \"#ab4232\"], \"ramp\": [\"#fbf2c7\", \"#f9e39c\", \"#f8d36e\", \"#f4bb6a\", \"#e68a4f\", \"#d15a40\", \"#ab4232\"]}}, \"layer\": [{\"data\": {\"name\": \"data-fbe8bab8670f04620ed41e4988036122\"}, \"mark\": {\"type\": \"area\", \"color\": \"#999\", \"opacity\": 0.3}, \"encoding\": {\"x\": {\"type\": \"temporal\", \"field\": \"monthday\"}, \"y\": {\"type\": \"quantitative\", \"field\": \"mean_before\"}}}, {\"data\": {\"name\": \"data-6d5b302c53cb08ff0d91e20b9d87663e\"}, \"mark\": {\"type\": \"area\", \"color\": \"#B32F2E\", \"interpolate\": \"monotone\", \"opacity\": 0.6, \"size\": 3}, \"encoding\": {\"x\": {\"type\": \"temporal\", \"axis\": {\"format\": \"%B\", \"grid\": false, \"tickCount\": 6}, \"field\": \"monthday\", \"title\": \" \"}, \"y\": {\"type\": \"quantitative\", \"axis\": {\"domainOpacity\": 0, \"format\": \"\", \"gridColor\": \"#dddddd\", \"gridWidth\": 0.6, \"offset\": 6, \"tickCount\": 4, \"tickSize\": 0}, \"field\": \"calls\", \"scale\": {\"domain\": [0, 6000]}, \"stack\": null, \"title\": \" \"}}, \"height\": 400, \"title\": \"All service calls to LAPD: 2020\", \"width\": 630}, {\"data\": {\"name\": \"data-6d5b302c53cb08ff0d91e20b9d87663e\"}, \"mark\": {\"type\": \"text\", \"align\": \"center\", \"baseline\": \"middle\", \"color\": \"#000000\", \"dx\": 112, \"dy\": 12, \"font\": \"Benton Gothic\", \"fontSize\": 12, \"fontWeight\": \"bold\"}, \"encoding\": {\"text\": {\"type\": \"nominal\", \"field\": \"label\", \"format\": \"\"}, \"y\": {\"type\": \"quantitative\", \"aggregate\": \"mean\", \"field\": \"calls\"}}, \"transform\": [{\"calculate\": \"\\\"Average: 4,900\\\"\", \"as\": \"label\"}]}, {\"data\": {\"name\": \"data-6d5b302c53cb08ff0d91e20b9d87663e\"}, \"mark\": {\"type\": \"text\", \"align\": \"center\", \"baseline\": \"middle\", \"color\": \"#000000\", \"dx\": 252, \"dy\": -130, \"font\": \"Benton Gothic\", \"fontSize\": 12, \"fontWeight\": \"bold\"}, \"encoding\": {\"text\": {\"type\": \"nominal\", \"field\": \"label\", \"format\": \"\"}, \"y\": {\"type\": \"quantitative\", \"aggregate\": \"mean\", \"field\": \"calls\"}}, \"transform\": [{\"calculate\": \"\\\"Protests\\\"\", \"as\": \"label\"}]}, {\"data\": {\"name\": \"data-6d5b302c53cb08ff0d91e20b9d87663e\"}, \"mark\": {\"type\": \"rule\", \"color\": \"#666\", \"size\": 1}, \"encoding\": {\"y\": {\"type\": \"quantitative\", \"aggregate\": \"mean\", \"field\": \"calls\"}}}], \"$schema\": \"https://vega.github.io/schema/vega-lite/v4.0.2.json\", \"datasets\": {\"data-fbe8bab8670f04620ed41e4988036122\": [{\"monthday\": \"05/28\", \"calls\": 5028, \"mean_before\": 6724}, {\"monthday\": \"05/29\", \"calls\": 4128, \"mean_before\": 6724}, {\"monthday\": \"05/30\", \"calls\": 2435, \"mean_before\": 6724}, {\"monthday\": \"05/31\", \"calls\": 2611, \"mean_before\": 6724}, {\"monthday\": \"06/01\", \"calls\": 2702, \"mean_before\": 6724}, {\"monthday\": \"06/02\", \"calls\": 2618, \"mean_before\": 6724}, {\"monthday\": \"06/03\", \"calls\": 2463, \"mean_before\": 6724}, {\"monthday\": \"06/04\", \"calls\": 2485, \"mean_before\": 6724}, {\"monthday\": \"06/05\", \"calls\": 2761, \"mean_before\": 6724}, {\"monthday\": \"06/06\", \"calls\": 2594, \"mean_before\": 6724}, {\"monthday\": \"06/07\", \"calls\": 2830, \"mean_before\": 6724}, {\"monthday\": \"06/08\", \"calls\": 2977, \"mean_before\": 6724}, {\"monthday\": \"06/09\", \"calls\": 3051, \"mean_before\": 6724}], \"data-6d5b302c53cb08ff0d91e20b9d87663e\": [{\"monthday\": \"01/01\", \"calls\": 4686}, {\"monthday\": \"01/02\", \"calls\": 5220}, {\"monthday\": \"01/03\", \"calls\": 5117}, {\"monthday\": \"01/04\", \"calls\": 5019}, {\"monthday\": \"01/05\", \"calls\": 4427}, {\"monthday\": \"01/06\", \"calls\": 4826}, {\"monthday\": \"01/07\", \"calls\": 5022}, {\"monthday\": \"01/08\", \"calls\": 5112}, {\"monthday\": \"01/09\", \"calls\": 5077}, {\"monthday\": \"01/10\", \"calls\": 4885}, {\"monthday\": \"01/11\", \"calls\": 4573}, {\"monthday\": \"01/12\", \"calls\": 4252}, {\"monthday\": \"01/13\", \"calls\": 4748}, {\"monthday\": \"01/14\", \"calls\": 4752}, {\"monthday\": \"01/15\", \"calls\": 5388}, {\"monthday\": \"01/16\", \"calls\": 4850}, {\"monthday\": \"01/17\", \"calls\": 5209}, {\"monthday\": \"01/18\", \"calls\": 4613}, {\"monthday\": \"01/19\", \"calls\": 4832}, {\"monthday\": \"01/20\", \"calls\": 4606}, {\"monthday\": \"01/21\", \"calls\": 5515}, {\"monthday\": \"01/22\", \"calls\": 5714}, {\"monthday\": \"01/23\", \"calls\": 5489}, {\"monthday\": \"01/24\", \"calls\": 5461}, {\"monthday\": \"01/25\", \"calls\": 5323}, {\"monthday\": \"01/26\", \"calls\": 4811}, {\"monthday\": \"01/27\", \"calls\": 4801}, {\"monthday\": \"01/28\", \"calls\": 5314}, {\"monthday\": \"01/29\", \"calls\": 5387}, {\"monthday\": \"01/30\", \"calls\": 5450}, {\"monthday\": \"01/31\", \"calls\": 5491}, {\"monthday\": \"02/01\", \"calls\": 4905}, {\"monthday\": \"02/02\", \"calls\": 4702}, {\"monthday\": \"02/03\", \"calls\": 4992}, {\"monthday\": \"02/04\", \"calls\": 5232}, {\"monthday\": \"02/05\", \"calls\": 5373}, {\"monthday\": \"02/06\", \"calls\": 5461}, {\"monthday\": \"02/07\", \"calls\": 5526}, {\"monthday\": \"02/08\", \"calls\": 4820}, {\"monthday\": \"02/09\", \"calls\": 4418}, {\"monthday\": \"02/10\", \"calls\": 5112}, {\"monthday\": \"02/11\", \"calls\": 5374}, {\"monthday\": \"02/12\", \"calls\": 5550}, {\"monthday\": \"02/13\", \"calls\": 5464}, {\"monthday\": \"02/14\", \"calls\": 5121}, {\"monthday\": \"02/15\", \"calls\": 4783}, {\"monthday\": \"02/16\", \"calls\": 4594}, {\"monthday\": \"02/17\", \"calls\": 4671}, {\"monthday\": \"02/18\", \"calls\": 5058}, {\"monthday\": \"02/19\", \"calls\": 5777}, {\"monthday\": \"02/20\", \"calls\": 5529}, {\"monthday\": \"02/21\", \"calls\": 5232}, {\"monthday\": \"02/22\", \"calls\": 4680}, {\"monthday\": \"02/23\", \"calls\": 4920}, {\"monthday\": \"02/24\", \"calls\": 6724}, {\"monthday\": \"02/25\", \"calls\": 5984}, {\"monthday\": \"02/26\", \"calls\": 5398}, {\"monthday\": \"02/27\", \"calls\": 5569}, {\"monthday\": \"02/28\", \"calls\": 5392}, {\"monthday\": \"03/01\", \"calls\": 4727}, {\"monthday\": \"03/02\", \"calls\": 5124}, {\"monthday\": \"03/03\", \"calls\": 5234}, {\"monthday\": \"03/04\", \"calls\": 5415}, {\"monthday\": \"03/05\", \"calls\": 5587}, {\"monthday\": \"03/06\", \"calls\": 4897}, {\"monthday\": \"03/07\", \"calls\": 4990}, {\"monthday\": \"03/08\", \"calls\": 4759}, {\"monthday\": \"03/09\", \"calls\": 5021}, {\"monthday\": \"03/10\", \"calls\": 4552}, {\"monthday\": \"03/11\", \"calls\": 5408}, {\"monthday\": \"03/12\", \"calls\": 4283}, {\"monthday\": \"03/13\", \"calls\": 4363}, {\"monthday\": \"03/14\", \"calls\": 4394}, {\"monthday\": \"03/15\", \"calls\": 4531}, {\"monthday\": \"03/16\", \"calls\": 4327}, {\"monthday\": \"03/17\", \"calls\": 6015}, {\"monthday\": \"03/18\", \"calls\": 5783}, {\"monthday\": \"03/19\", \"calls\": 5243}, {\"monthday\": \"03/20\", \"calls\": 5006}, {\"monthday\": \"03/21\", \"calls\": 4717}, {\"monthday\": \"03/22\", \"calls\": 3858}, {\"monthday\": \"03/23\", \"calls\": 5001}, {\"monthday\": \"03/24\", \"calls\": 5224}, {\"monthday\": \"03/25\", \"calls\": 5269}, {\"monthday\": \"03/26\", \"calls\": 5028}, {\"monthday\": \"03/27\", \"calls\": 4724}, {\"monthday\": \"03/28\", \"calls\": 4621}, {\"monthday\": \"03/29\", \"calls\": 4248}, {\"monthday\": \"03/30\", \"calls\": 4413}, {\"monthday\": \"03/31\", \"calls\": 5719}, {\"monthday\": \"04/01\", \"calls\": 5435}, {\"monthday\": \"04/02\", \"calls\": 5371}, {\"monthday\": \"04/03\", \"calls\": 4732}, {\"monthday\": \"04/04\", \"calls\": 4374}, {\"monthday\": \"04/05\", \"calls\": 3999}, {\"monthday\": \"04/06\", \"calls\": 4367}, {\"monthday\": \"04/07\", \"calls\": 4745}, {\"monthday\": \"04/08\", \"calls\": 5068}, {\"monthday\": \"04/09\", \"calls\": 3963}, {\"monthday\": \"04/10\", \"calls\": 4735}, {\"monthday\": \"04/11\", \"calls\": 4426}, {\"monthday\": \"04/12\", \"calls\": 4433}, {\"monthday\": \"04/13\", \"calls\": 4869}, {\"monthday\": \"04/14\", \"calls\": 5640}, {\"monthday\": \"04/15\", \"calls\": 5756}, {\"monthday\": \"04/16\", \"calls\": 5500}, {\"monthday\": \"04/17\", \"calls\": 5591}, {\"monthday\": \"04/18\", \"calls\": 5344}, {\"monthday\": \"04/19\", \"calls\": 4947}, {\"monthday\": \"04/20\", \"calls\": 5218}, {\"monthday\": \"04/21\", \"calls\": 5600}, {\"monthday\": \"04/22\", \"calls\": 5545}, {\"monthday\": \"04/23\", \"calls\": 5674}, {\"monthday\": \"04/24\", \"calls\": 5625}, {\"monthday\": \"04/25\", \"calls\": 5449}, {\"monthday\": \"04/26\", \"calls\": 5104}, {\"monthday\": \"04/27\", \"calls\": 5376}, {\"monthday\": \"04/28\", \"calls\": 5701}, {\"monthday\": \"04/29\", \"calls\": 5785}, {\"monthday\": \"04/30\", \"calls\": 5931}, {\"monthday\": \"05/01\", \"calls\": 5757}, {\"monthday\": \"05/02\", \"calls\": 5596}, {\"monthday\": \"05/03\", \"calls\": 5139}, {\"monthday\": \"05/04\", \"calls\": 5386}, {\"monthday\": \"05/05\", \"calls\": 6151}, {\"monthday\": \"05/06\", \"calls\": 6021}, {\"monthday\": \"05/07\", \"calls\": 5884}, {\"monthday\": \"05/08\", \"calls\": 5685}, {\"monthday\": \"05/09\", \"calls\": 5348}, {\"monthday\": \"05/10\", \"calls\": 4616}, {\"monthday\": \"05/11\", \"calls\": 5213}, {\"monthday\": \"05/12\", \"calls\": 6077}, {\"monthday\": \"05/13\", \"calls\": 5899}, {\"monthday\": \"05/14\", \"calls\": 5844}, {\"monthday\": \"05/15\", \"calls\": 5974}, {\"monthday\": \"05/16\", \"calls\": 5177}, {\"monthday\": \"05/17\", \"calls\": 5129}, {\"monthday\": \"05/18\", \"calls\": 5193}, {\"monthday\": \"05/19\", \"calls\": 5668}, {\"monthday\": \"05/20\", \"calls\": 6070}, {\"monthday\": \"05/21\", \"calls\": 5254}, {\"monthday\": \"05/22\", \"calls\": 5567}, {\"monthday\": \"05/23\", \"calls\": 5972}, {\"monthday\": \"05/24\", \"calls\": 5945}, {\"monthday\": \"05/25\", \"calls\": 5679}, {\"monthday\": \"05/26\", \"calls\": 5548}, {\"monthday\": \"05/27\", \"calls\": 4810}, {\"monthday\": \"05/28\", \"calls\": 5028}, {\"monthday\": \"05/29\", \"calls\": 4128}, {\"monthday\": \"05/30\", \"calls\": 2435}, {\"monthday\": \"05/31\", \"calls\": 2611}, {\"monthday\": \"06/01\", \"calls\": 2702}, {\"monthday\": \"06/02\", \"calls\": 2618}, {\"monthday\": \"06/03\", \"calls\": 2463}, {\"monthday\": \"06/04\", \"calls\": 2485}, {\"monthday\": \"06/05\", \"calls\": 2761}, {\"monthday\": \"06/06\", \"calls\": 2594}, {\"monthday\": \"06/07\", \"calls\": 2830}, {\"monthday\": \"06/08\", \"calls\": 2977}, {\"monthday\": \"06/09\", \"calls\": 3051}, {\"monthday\": \"06/10\", \"calls\": 3743}, {\"monthday\": \"06/11\", \"calls\": 4063}, {\"monthday\": \"06/12\", \"calls\": 4076}, {\"monthday\": \"06/13\", \"calls\": 4082}, {\"monthday\": \"06/14\", \"calls\": 3881}, {\"monthday\": \"06/15\", \"calls\": 4178}, {\"monthday\": \"06/16\", \"calls\": 4617}, {\"monthday\": \"06/17\", \"calls\": 4583}, {\"monthday\": \"06/18\", \"calls\": 4659}, {\"monthday\": \"06/19\", \"calls\": 4522}, {\"monthday\": \"06/20\", \"calls\": 4539}]}}, {\"mode\": \"vega-lite\"});\n",
       "</script>"
      ],
      "text/plain": [
       "alt.LayerChart(...)"
      ]
     },
     "execution_count": 537,
     "metadata": {},
     "output_type": "execute_result"
    }
   ],
   "source": [
    "chart = alt.Chart((this_year))\\\n",
    "    .mark_area(size=3,opacity=.6, color='#B32F2E', interpolate='monotone')\\\n",
    "    .encode(\n",
    "    x=alt.X('monthday:T', title=' ', axis=alt.Axis(grid=False, tickCount=6, format='%B')),\n",
    "    y=alt.Y('calls:Q', stack=None, title=' ', axis=alt.Axis(gridWidth=.6,\\\n",
    "     gridColor='#dddddd',offset=6,tickSize=0,domainOpacity=0,tickCount=4, format=''),\\\n",
    "           scale=alt.Scale(domain=(0, 6000)))\n",
    ").properties(width=630, height=400,\n",
    "     title='All service calls to LAPD: 2020'\n",
    ")\n",
    "\n",
    "rule = alt.Chart(this_year).mark_rule(color='#666', size=1).encode(\n",
    "    y='mean(calls):Q',\n",
    ")\n",
    "\n",
    "text = rule.mark_text(\n",
    "    color=\"#000000\", font='Benton Gothic', fontSize=12,\n",
    "    align='center',\n",
    "    baseline='middle',\n",
    "    dx=112,\n",
    "    dy=12,\n",
    "    fontWeight='bold',\n",
    ").encode(\n",
    "    text=alt.Text('label:N', format=\"\")).transform_calculate(label='\"Average: 4,900\"')\n",
    "\n",
    "text_protest = rule.mark_text(\n",
    "    color=\"#000000\", font='Benton Gothic', fontSize=12,\n",
    "    align='center',\n",
    "    baseline='middle',\n",
    "    dx=252,\n",
    "    dy=-130,\n",
    "    fontWeight='bold',\n",
    ").encode(\n",
    "    text=alt.Text('label:N', format=\"\")).transform_calculate(label='\"Protests\"')\n",
    "\n",
    "protest_annotation = alt.Chart(protest_period).mark_area(color='#999', opacity=.3).encode(\n",
    "    y='mean_before',\n",
    "    x='monthday:T'\n",
    ")\n",
    "\n",
    "(protest_annotation + chart + text + text_protest + rule).configure_view(strokeOpacity=0).configure_legend(\n",
    "    orient='top',\n",
    "    symbolType='stroke'\n",
    ").configure_legend(symbolType='square')"
   ]
  },
  {
   "cell_type": "markdown",
   "metadata": {},
   "source": [
    "### What was the percentage change"
   ]
  },
  {
   "cell_type": "code",
   "execution_count": 430,
   "metadata": {},
   "outputs": [
    {
     "data": {
      "text/plain": [
       "-0.4233551024581533"
      ]
     },
     "execution_count": 430,
     "metadata": {},
     "output_type": "execute_result"
    }
   ],
   "source": [
    "(protest_period.calls.mean() - this_year_before.calls.mean())/this_year_before.calls.mean()"
   ]
  },
  {
   "cell_type": "markdown",
   "metadata": {},
   "source": [
    "### Which types of calls dropped the most during the protest period?"
   ]
  },
  {
   "cell_type": "code",
   "execution_count": null,
   "metadata": {},
   "outputs": [],
   "source": []
  },
  {
   "cell_type": "code",
   "execution_count": null,
   "metadata": {},
   "outputs": [],
   "source": []
  },
  {
   "cell_type": "code",
   "execution_count": null,
   "metadata": {},
   "outputs": [],
   "source": []
  },
  {
   "cell_type": "code",
   "execution_count": null,
   "metadata": {},
   "outputs": [],
   "source": []
  },
  {
   "cell_type": "code",
   "execution_count": null,
   "metadata": {},
   "outputs": [],
   "source": []
  },
  {
   "cell_type": "markdown",
   "metadata": {},
   "source": [
    "### What are these 'Code 6' calls?"
   ]
  },
  {
   "cell_type": "code",
   "execution_count": 146,
   "metadata": {},
   "outputs": [],
   "source": [
    "no_code6 = los_angeles[los_angeles['reporting_district'] != 'Outside']"
   ]
  },
  {
   "cell_type": "code",
   "execution_count": 158,
   "metadata": {},
   "outputs": [],
   "source": [
    "this_year_no_code6 = no_code6[no_code6['year'] == '2020'].groupby(['monthday', 'reporting_district']).agg('size').reset_index(name='calls')"
   ]
  },
  {
   "cell_type": "code",
   "execution_count": 214,
   "metadata": {},
   "outputs": [],
   "source": [
    "this_year_fireworks = los_angeles[(los_angeles['year'] == '2020') & (los_angeles['call_type_description'] == 'FIREWORKS')].groupby(['monthday', 'reporting_district']).agg('size').reset_index(name='calls')"
   ]
  },
  {
   "cell_type": "code",
   "execution_count": 262,
   "metadata": {},
   "outputs": [
    {
     "data": {
      "text/html": [
       "\n",
       "<div id=\"altair-viz-c7c18fa8908549ada31c05cbfc871b59\"></div>\n",
       "<script type=\"text/javascript\">\n",
       "  (function(spec, embedOpt){\n",
       "    const outputDiv = document.getElementById(\"altair-viz-c7c18fa8908549ada31c05cbfc871b59\");\n",
       "    const paths = {\n",
       "      \"vega\": \"https://cdn.jsdelivr.net/npm//vega@5?noext\",\n",
       "      \"vega-lib\": \"https://cdn.jsdelivr.net/npm//vega-lib?noext\",\n",
       "      \"vega-lite\": \"https://cdn.jsdelivr.net/npm//vega-lite@4.0.2?noext\",\n",
       "      \"vega-embed\": \"https://cdn.jsdelivr.net/npm//vega-embed@6?noext\",\n",
       "    };\n",
       "\n",
       "    function loadScript(lib) {\n",
       "      return new Promise(function(resolve, reject) {\n",
       "        var s = document.createElement('script');\n",
       "        s.src = paths[lib];\n",
       "        s.async = true;\n",
       "        s.onload = () => resolve(paths[lib]);\n",
       "        s.onerror = () => reject(`Error loading script: ${paths[lib]}`);\n",
       "        document.getElementsByTagName(\"head\")[0].appendChild(s);\n",
       "      });\n",
       "    }\n",
       "\n",
       "    function showError(err) {\n",
       "      outputDiv.innerHTML = `<div class=\"error\" style=\"color:red;\">${err}</div>`;\n",
       "      throw err;\n",
       "    }\n",
       "\n",
       "    function displayChart(vegaEmbed) {\n",
       "      vegaEmbed(outputDiv, spec, embedOpt)\n",
       "        .catch(err => showError(`Javascript Error: ${err.message}<br>This usually means there's a typo in your chart specification. See the javascript console for the full traceback.`));\n",
       "    }\n",
       "\n",
       "    if(typeof define === \"function\" && define.amd) {\n",
       "      requirejs.config({paths});\n",
       "      require([\"vega-embed\"], displayChart, err => showError(`Error loading script: ${err.message}`));\n",
       "    } else if (typeof vegaEmbed === \"function\") {\n",
       "      displayChart(vegaEmbed);\n",
       "    } else {\n",
       "      loadScript(\"vega\")\n",
       "        .then(() => loadScript(\"vega-lite\"))\n",
       "        .then(() => loadScript(\"vega-embed\"))\n",
       "        .catch(showError)\n",
       "        .then(() => displayChart(vegaEmbed));\n",
       "    }\n",
       "  })({\"config\": {\"view\": {\"width\": 800, \"height\": 450, \"strokeOpacity\": 0}, \"background\": \"#ffffff\", \"title\": {\"anchor\": \"start\", \"font\": \"Benton Gothic Bold, sans\", \"fontColor\": \"#000000\", \"fontSize\": 22, \"fontWeight\": \"normal\"}, \"arc\": {\"fill\": \"#82c6df\"}, \"area\": {\"fill\": \"#82c6df\"}, \"line\": {\"stroke\": \"#82c6df\", \"strokeWidth\": 3}, \"path\": {\"stroke\": \"#82c6df\"}, \"rect\": {\"fill\": \"#82c6df\"}, \"shape\": {\"stroke\": \"#82c6df\"}, \"bar\": {\"fill\": \"#82c6df\"}, \"point\": {\"stroke\": \"#82c6df\"}, \"symbol\": {\"fill\": \"#82c6df\", \"size\": 30}, \"axis\": {\"titleFont\": \"Benton Gothic Bold, sans\", \"titleFontSize\": 13, \"titleFontWeight\": \"normal\", \"labelFont\": \"Benton Gothic, sans\", \"labelFontSize\": 11.5, \"labelFontWeight\": \"normal\"}, \"axisX\": {\"labelAngle\": 0, \"labelPadding\": 4, \"tickSize\": 3}, \"axisY\": {\"labelBaseline\": \"middle\", \"maxExtent\": 45, \"minExtent\": 45, \"tickSize\": 2, \"titleAlign\": \"left\", \"titleAngle\": 0, \"titleX\": -45, \"titleY\": -11}, \"legend\": {\"titleFont\": \"Benton Gothic Bold, sans\", \"titleFontSize\": 13, \"titleFontWeight\": \"normal\", \"symbolType\": \"square\", \"labelFont\": \"Benton Gothic, sans\", \"labelFontSize\": 11.5}, \"range\": {\"category\": [\"#3580b1\", \"#ec8431\", \"#ab7fb4\", \"#c89d29\", \"#adc839\", \"#829eb1\"], \"diverging\": [\"#e68a4f\", \"#f4bb6a\", \"#f9e39c\", \"#dadfe2\", \"#a6b7c6\", \"#849eae\"], \"heatmap\": [\"#fbf2c7\", \"#f9e39c\", \"#f8d36e\", \"#f4bb6a\", \"#e68a4f\", \"#d15a40\", \"#ab4232\"], \"ordinal\": [\"#fbf2c7\", \"#f9e39c\", \"#f8d36e\", \"#f4bb6a\", \"#e68a4f\", \"#d15a40\", \"#ab4232\"], \"ramp\": [\"#fbf2c7\", \"#f9e39c\", \"#f8d36e\", \"#f4bb6a\", \"#e68a4f\", \"#d15a40\", \"#ab4232\"]}}, \"data\": {\"name\": \"data-b268adf28170054f217397c98d6aae22\"}, \"mark\": {\"type\": \"bar\", \"color\": \"#B32F2E\", \"opacity\": 1, \"size\": 1}, \"encoding\": {\"facet\": {\"type\": \"ordinal\", \"columns\": 7, \"field\": \"reporting_district\", \"title\": \"LAPD reporting district\"}, \"x\": {\"type\": \"temporal\", \"axis\": {\"format\": \"%B\", \"grid\": false, \"tickCount\": 3}, \"field\": \"monthday\", \"title\": \" \"}, \"y\": {\"type\": \"quantitative\", \"axis\": {\"domainOpacity\": 0, \"format\": \"\", \"gridColor\": \"#dddddd\", \"gridWidth\": 0.6, \"offset\": 6, \"tickCount\": 4, \"tickSize\": 0}, \"field\": \"calls\", \"scale\": {\"domain\": [0, 30]}, \"stack\": null, \"title\": \" \"}}, \"height\": 100, \"title\": \"All fireworks calls to LAPD: 2020\", \"width\": 100, \"$schema\": \"https://vega.github.io/schema/vega-lite/v4.0.2.json\", \"datasets\": {\"data-b268adf28170054f217397c98d6aae22\": [{\"monthday\": \"01/01\", \"reporting_district\": \"77th Street\", \"calls\": 2}, {\"monthday\": \"01/01\", \"reporting_district\": \"Devonshire\", \"calls\": 4}, {\"monthday\": \"01/01\", \"reporting_district\": \"Foothill\", \"calls\": 6}, {\"monthday\": \"01/01\", \"reporting_district\": \"Harbor\", \"calls\": 4}, {\"monthday\": \"01/01\", \"reporting_district\": \"Hollenbeck\", \"calls\": 1}, {\"monthday\": \"01/01\", \"reporting_district\": \"Hollywood\", \"calls\": 4}, {\"monthday\": \"01/01\", \"reporting_district\": \"Mission\", \"calls\": 4}, {\"monthday\": \"01/01\", \"reporting_district\": \"N Hollywood\", \"calls\": 5}, {\"monthday\": \"01/01\", \"reporting_district\": \"Newton\", \"calls\": 1}, {\"monthday\": \"01/01\", \"reporting_district\": \"Northeast\", \"calls\": 5}, {\"monthday\": \"01/01\", \"reporting_district\": \"Olympic\", \"calls\": 2}, {\"monthday\": \"01/01\", \"reporting_district\": \"Pacific\", \"calls\": 2}, {\"monthday\": \"01/01\", \"reporting_district\": \"Rampart\", \"calls\": 6}, {\"monthday\": \"01/01\", \"reporting_district\": \"Southeast\", \"calls\": 2}, {\"monthday\": \"01/01\", \"reporting_district\": \"Southwest\", \"calls\": 5}, {\"monthday\": \"01/01\", \"reporting_district\": \"Topanga\", \"calls\": 8}, {\"monthday\": \"01/01\", \"reporting_district\": \"Van Nuys\", \"calls\": 11}, {\"monthday\": \"01/01\", \"reporting_district\": \"West LA\", \"calls\": 4}, {\"monthday\": \"01/01\", \"reporting_district\": \"West Valley\", \"calls\": 6}, {\"monthday\": \"01/01\", \"reporting_district\": \"Wilshire\", \"calls\": 3}, {\"monthday\": \"01/02\", \"reporting_district\": \"77th Street\", \"calls\": 1}, {\"monthday\": \"01/02\", \"reporting_district\": \"Harbor\", \"calls\": 1}, {\"monthday\": \"01/02\", \"reporting_district\": \"N Hollywood\", \"calls\": 1}, {\"monthday\": \"01/02\", \"reporting_district\": \"Southeast\", \"calls\": 2}, {\"monthday\": \"01/02\", \"reporting_district\": \"West Valley\", \"calls\": 2}, {\"monthday\": \"01/03\", \"reporting_district\": \"Hollenbeck\", \"calls\": 1}, {\"monthday\": \"01/03\", \"reporting_district\": \"Pacific\", \"calls\": 4}, {\"monthday\": \"01/03\", \"reporting_district\": \"Topanga\", \"calls\": 3}, {\"monthday\": \"01/03\", \"reporting_district\": \"West LA\", \"calls\": 1}, {\"monthday\": \"01/04\", \"reporting_district\": \"77th Street\", \"calls\": 1}, {\"monthday\": \"01/04\", \"reporting_district\": \"Foothill\", \"calls\": 1}, {\"monthday\": \"01/04\", \"reporting_district\": \"Hollywood\", \"calls\": 1}, {\"monthday\": \"01/04\", \"reporting_district\": \"Newton\", \"calls\": 1}, {\"monthday\": \"01/04\", \"reporting_district\": \"Southwest\", \"calls\": 1}, {\"monthday\": \"01/04\", \"reporting_district\": \"Topanga\", \"calls\": 1}, {\"monthday\": \"01/04\", \"reporting_district\": \"West LA\", \"calls\": 2}, {\"monthday\": \"01/04\", \"reporting_district\": \"West Valley\", \"calls\": 3}, {\"monthday\": \"01/05\", \"reporting_district\": \"Foothill\", \"calls\": 3}, {\"monthday\": \"01/05\", \"reporting_district\": \"Harbor\", \"calls\": 2}, {\"monthday\": \"01/05\", \"reporting_district\": \"Hollenbeck\", \"calls\": 1}, {\"monthday\": \"01/05\", \"reporting_district\": \"N Hollywood\", \"calls\": 1}, {\"monthday\": \"01/05\", \"reporting_district\": \"Southwest\", \"calls\": 1}, {\"monthday\": \"01/05\", \"reporting_district\": \"Topanga\", \"calls\": 1}, {\"monthday\": \"01/06\", \"reporting_district\": \"Rampart\", \"calls\": 2}, {\"monthday\": \"01/06\", \"reporting_district\": \"West LA\", \"calls\": 1}, {\"monthday\": \"01/06\", \"reporting_district\": \"West Valley\", \"calls\": 1}, {\"monthday\": \"01/07\", \"reporting_district\": \"Harbor\", \"calls\": 1}, {\"monthday\": \"01/09\", \"reporting_district\": \"Foothill\", \"calls\": 1}, {\"monthday\": \"01/09\", \"reporting_district\": \"Topanga\", \"calls\": 1}, {\"monthday\": \"01/10\", \"reporting_district\": \"N Hollywood\", \"calls\": 2}, {\"monthday\": \"01/11\", \"reporting_district\": \"Harbor\", \"calls\": 1}, {\"monthday\": \"01/11\", \"reporting_district\": \"Hollenbeck\", \"calls\": 1}, {\"monthday\": \"01/11\", \"reporting_district\": \"West LA\", \"calls\": 1}, {\"monthday\": \"01/12\", \"reporting_district\": \"Mission\", \"calls\": 1}, {\"monthday\": \"01/12\", \"reporting_district\": \"Rampart\", \"calls\": 1}, {\"monthday\": \"01/12\", \"reporting_district\": \"West Valley\", \"calls\": 2}, {\"monthday\": \"01/13\", \"reporting_district\": \"Olympic\", \"calls\": 1}, {\"monthday\": \"01/14\", \"reporting_district\": \"Hollenbeck\", \"calls\": 1}, {\"monthday\": \"01/15\", \"reporting_district\": \"Hollenbeck\", \"calls\": 1}, {\"monthday\": \"01/19\", \"reporting_district\": \"Devonshire\", \"calls\": 1}, {\"monthday\": \"01/19\", \"reporting_district\": \"Foothill\", \"calls\": 1}, {\"monthday\": \"01/19\", \"reporting_district\": \"N Hollywood\", \"calls\": 1}, {\"monthday\": \"01/19\", \"reporting_district\": \"Topanga\", \"calls\": 1}, {\"monthday\": \"01/19\", \"reporting_district\": \"West Valley\", \"calls\": 1}, {\"monthday\": \"01/19\", \"reporting_district\": \"Wilshire\", \"calls\": 1}, {\"monthday\": \"01/21\", \"reporting_district\": \"Harbor\", \"calls\": 1}, {\"monthday\": \"01/21\", \"reporting_district\": \"Northeast\", \"calls\": 1}, {\"monthday\": \"01/22\", \"reporting_district\": \"Topanga\", \"calls\": 1}, {\"monthday\": \"01/24\", \"reporting_district\": \"N Hollywood\", \"calls\": 1}, {\"monthday\": \"01/24\", \"reporting_district\": \"Northeast\", \"calls\": 1}, {\"monthday\": \"01/24\", \"reporting_district\": \"Wilshire\", \"calls\": 1}, {\"monthday\": \"01/25\", \"reporting_district\": \"Hollywood\", \"calls\": 1}, {\"monthday\": \"01/25\", \"reporting_district\": \"Olympic\", \"calls\": 1}, {\"monthday\": \"01/25\", \"reporting_district\": \"Southwest\", \"calls\": 1}, {\"monthday\": \"01/25\", \"reporting_district\": \"Wilshire\", \"calls\": 1}, {\"monthday\": \"01/29\", \"reporting_district\": \"Foothill\", \"calls\": 1}, {\"monthday\": \"01/30\", \"reporting_district\": \"Southwest\", \"calls\": 1}, {\"monthday\": \"01/31\", \"reporting_district\": \"Mission\", \"calls\": 1}, {\"monthday\": \"02/01\", \"reporting_district\": \"Wilshire\", \"calls\": 1}, {\"monthday\": \"02/02\", \"reporting_district\": \"Hollenbeck\", \"calls\": 1}, {\"monthday\": \"02/02\", \"reporting_district\": \"N Hollywood\", \"calls\": 1}, {\"monthday\": \"02/02\", \"reporting_district\": \"Northeast\", \"calls\": 2}, {\"monthday\": \"02/02\", \"reporting_district\": \"Topanga\", \"calls\": 1}, {\"monthday\": \"02/02\", \"reporting_district\": \"Wilshire\", \"calls\": 1}, {\"monthday\": \"02/04\", \"reporting_district\": \"N Hollywood\", \"calls\": 1}, {\"monthday\": \"02/06\", \"reporting_district\": \"West LA\", \"calls\": 1}, {\"monthday\": \"02/07\", \"reporting_district\": \"Devonshire\", \"calls\": 2}, {\"monthday\": \"02/07\", \"reporting_district\": \"Topanga\", \"calls\": 2}, {\"monthday\": \"02/08\", \"reporting_district\": \"Foothill\", \"calls\": 1}, {\"monthday\": \"02/08\", \"reporting_district\": \"Topanga\", \"calls\": 1}, {\"monthday\": \"02/09\", \"reporting_district\": \"Hollenbeck\", \"calls\": 1}, {\"monthday\": \"02/12\", \"reporting_district\": \"Harbor\", \"calls\": 1}, {\"monthday\": \"02/14\", \"reporting_district\": \"Southwest\", \"calls\": 1}, {\"monthday\": \"02/14\", \"reporting_district\": \"West Valley\", \"calls\": 1}, {\"monthday\": \"02/15\", \"reporting_district\": \"Mission\", \"calls\": 3}, {\"monthday\": \"02/16\", \"reporting_district\": \"Devonshire\", \"calls\": 1}, {\"monthday\": \"02/16\", \"reporting_district\": \"Northeast\", \"calls\": 1}, {\"monthday\": \"02/17\", \"reporting_district\": \"Northeast\", \"calls\": 1}, {\"monthday\": \"02/17\", \"reporting_district\": \"West LA\", \"calls\": 1}, {\"monthday\": \"02/18\", \"reporting_district\": \"N Hollywood\", \"calls\": 1}, {\"monthday\": \"02/20\", \"reporting_district\": \"Newton\", \"calls\": 1}, {\"monthday\": \"02/21\", \"reporting_district\": \"Harbor\", \"calls\": 1}, {\"monthday\": \"02/21\", \"reporting_district\": \"Northeast\", \"calls\": 1}, {\"monthday\": \"02/22\", \"reporting_district\": \"Central\", \"calls\": 1}, {\"monthday\": \"02/22\", \"reporting_district\": \"Harbor\", \"calls\": 1}, {\"monthday\": \"02/22\", \"reporting_district\": \"Hollenbeck\", \"calls\": 1}, {\"monthday\": \"02/22\", \"reporting_district\": \"Topanga\", \"calls\": 1}, {\"monthday\": \"02/22\", \"reporting_district\": \"West LA\", \"calls\": 1}, {\"monthday\": \"02/23\", \"reporting_district\": \"Harbor\", \"calls\": 2}, {\"monthday\": \"02/23\", \"reporting_district\": \"N Hollywood\", \"calls\": 1}, {\"monthday\": \"02/24\", \"reporting_district\": \"Hollenbeck\", \"calls\": 1}, {\"monthday\": \"02/24\", \"reporting_district\": \"Mission\", \"calls\": 1}, {\"monthday\": \"02/25\", \"reporting_district\": \"Northeast\", \"calls\": 3}, {\"monthday\": \"02/25\", \"reporting_district\": \"Pacific\", \"calls\": 2}, {\"monthday\": \"02/26\", \"reporting_district\": \"West Valley\", \"calls\": 1}, {\"monthday\": \"02/28\", \"reporting_district\": \"Pacific\", \"calls\": 2}, {\"monthday\": \"02/28\", \"reporting_district\": \"West Valley\", \"calls\": 2}, {\"monthday\": \"02/29\", \"reporting_district\": \"Northeast\", \"calls\": 1}, {\"monthday\": \"03/01\", \"reporting_district\": \"Devonshire\", \"calls\": 1}, {\"monthday\": \"03/01\", \"reporting_district\": \"Rampart\", \"calls\": 1}, {\"monthday\": \"03/05\", \"reporting_district\": \"77th Street\", \"calls\": 1}, {\"monthday\": \"03/05\", \"reporting_district\": \"Foothill\", \"calls\": 1}, {\"monthday\": \"03/05\", \"reporting_district\": \"Hollenbeck\", \"calls\": 1}, {\"monthday\": \"03/06\", \"reporting_district\": \"Foothill\", \"calls\": 1}, {\"monthday\": \"03/06\", \"reporting_district\": \"Hollywood\", \"calls\": 1}, {\"monthday\": \"03/06\", \"reporting_district\": \"Mission\", \"calls\": 1}, {\"monthday\": \"03/07\", \"reporting_district\": \"Devonshire\", \"calls\": 1}, {\"monthday\": \"03/07\", \"reporting_district\": \"Foothill\", \"calls\": 1}, {\"monthday\": \"03/07\", \"reporting_district\": \"Hollywood\", \"calls\": 2}, {\"monthday\": \"03/08\", \"reporting_district\": \"Hollywood\", \"calls\": 1}, {\"monthday\": \"03/08\", \"reporting_district\": \"Pacific\", \"calls\": 1}, {\"monthday\": \"03/09\", \"reporting_district\": \"N Hollywood\", \"calls\": 1}, {\"monthday\": \"03/10\", \"reporting_district\": \"Van Nuys\", \"calls\": 1}, {\"monthday\": \"03/10\", \"reporting_district\": \"West Valley\", \"calls\": 1}, {\"monthday\": \"03/13\", \"reporting_district\": \"Harbor\", \"calls\": 1}, {\"monthday\": \"03/14\", \"reporting_district\": \"Topanga\", \"calls\": 1}, {\"monthday\": \"03/15\", \"reporting_district\": \"Harbor\", \"calls\": 1}, {\"monthday\": \"03/15\", \"reporting_district\": \"West LA\", \"calls\": 1}, {\"monthday\": \"03/17\", \"reporting_district\": \"77th Street\", \"calls\": 1}, {\"monthday\": \"03/17\", \"reporting_district\": \"Hollywood\", \"calls\": 1}, {\"monthday\": \"03/17\", \"reporting_district\": \"Southeast\", \"calls\": 1}, {\"monthday\": \"03/19\", \"reporting_district\": \"Topanga\", \"calls\": 1}, {\"monthday\": \"03/20\", \"reporting_district\": \"Northeast\", \"calls\": 1}, {\"monthday\": \"03/21\", \"reporting_district\": \"77th Street\", \"calls\": 1}, {\"monthday\": \"03/22\", \"reporting_district\": \"N Hollywood\", \"calls\": 1}, {\"monthday\": \"03/24\", \"reporting_district\": \"Harbor\", \"calls\": 1}, {\"monthday\": \"03/25\", \"reporting_district\": \"Harbor\", \"calls\": 1}, {\"monthday\": \"03/26\", \"reporting_district\": \"Pacific\", \"calls\": 1}, {\"monthday\": \"03/27\", \"reporting_district\": \"Harbor\", \"calls\": 1}, {\"monthday\": \"03/27\", \"reporting_district\": \"Mission\", \"calls\": 1}, {\"monthday\": \"03/28\", \"reporting_district\": \"Harbor\", \"calls\": 1}, {\"monthday\": \"03/29\", \"reporting_district\": \"Southwest\", \"calls\": 1}, {\"monthday\": \"03/30\", \"reporting_district\": \"Harbor\", \"calls\": 1}, {\"monthday\": \"03/31\", \"reporting_district\": \"Rampart\", \"calls\": 1}, {\"monthday\": \"03/31\", \"reporting_district\": \"Southwest\", \"calls\": 1}, {\"monthday\": \"04/01\", \"reporting_district\": \"Hollywood\", \"calls\": 3}, {\"monthday\": \"04/03\", \"reporting_district\": \"77th Street\", \"calls\": 1}, {\"monthday\": \"04/03\", \"reporting_district\": \"Foothill\", \"calls\": 1}, {\"monthday\": \"04/03\", \"reporting_district\": \"Hollywood\", \"calls\": 1}, {\"monthday\": \"04/03\", \"reporting_district\": \"Southwest\", \"calls\": 1}, {\"monthday\": \"04/03\", \"reporting_district\": \"Wilshire\", \"calls\": 1}, {\"monthday\": \"04/04\", \"reporting_district\": \"77th Street\", \"calls\": 1}, {\"monthday\": \"04/04\", \"reporting_district\": \"Foothill\", \"calls\": 1}, {\"monthday\": \"04/04\", \"reporting_district\": \"N Hollywood\", \"calls\": 1}, {\"monthday\": \"04/06\", \"reporting_district\": \"Wilshire\", \"calls\": 1}, {\"monthday\": \"04/07\", \"reporting_district\": \"Pacific\", \"calls\": 1}, {\"monthday\": \"04/08\", \"reporting_district\": \"77th Street\", \"calls\": 1}, {\"monthday\": \"04/08\", \"reporting_district\": \"Harbor\", \"calls\": 1}, {\"monthday\": \"04/09\", \"reporting_district\": \"Devonshire\", \"calls\": 1}, {\"monthday\": \"04/10\", \"reporting_district\": \"Mission\", \"calls\": 2}, {\"monthday\": \"04/10\", \"reporting_district\": \"Pacific\", \"calls\": 1}, {\"monthday\": \"04/11\", \"reporting_district\": \"Foothill\", \"calls\": 4}, {\"monthday\": \"04/11\", \"reporting_district\": \"Southeast\", \"calls\": 1}, {\"monthday\": \"04/11\", \"reporting_district\": \"Southwest\", \"calls\": 1}, {\"monthday\": \"04/12\", \"reporting_district\": \"77th Street\", \"calls\": 2}, {\"monthday\": \"04/12\", \"reporting_district\": \"Foothill\", \"calls\": 1}, {\"monthday\": \"04/12\", \"reporting_district\": \"Southeast\", \"calls\": 1}, {\"monthday\": \"04/13\", \"reporting_district\": \"77th Street\", \"calls\": 1}, {\"monthday\": \"04/13\", \"reporting_district\": \"Northeast\", \"calls\": 1}, {\"monthday\": \"04/14\", \"reporting_district\": \"Southwest\", \"calls\": 1}, {\"monthday\": \"04/15\", \"reporting_district\": \"Harbor\", \"calls\": 1}, {\"monthday\": \"04/15\", \"reporting_district\": \"Mission\", \"calls\": 1}, {\"monthday\": \"04/16\", \"reporting_district\": \"Foothill\", \"calls\": 2}, {\"monthday\": \"04/16\", \"reporting_district\": \"Olympic\", \"calls\": 2}, {\"monthday\": \"04/17\", \"reporting_district\": \"Pacific\", \"calls\": 1}, {\"monthday\": \"04/17\", \"reporting_district\": \"West Valley\", \"calls\": 1}, {\"monthday\": \"04/18\", \"reporting_district\": \"Devonshire\", \"calls\": 1}, {\"monthday\": \"04/18\", \"reporting_district\": \"Harbor\", \"calls\": 2}, {\"monthday\": \"04/18\", \"reporting_district\": \"Mission\", \"calls\": 1}, {\"monthday\": \"04/19\", \"reporting_district\": \"Devonshire\", \"calls\": 1}, {\"monthday\": \"04/19\", \"reporting_district\": \"Harbor\", \"calls\": 2}, {\"monthday\": \"04/19\", \"reporting_district\": \"Hollenbeck\", \"calls\": 1}, {\"monthday\": \"04/19\", \"reporting_district\": \"Hollywood\", \"calls\": 2}, {\"monthday\": \"04/19\", \"reporting_district\": \"Olympic\", \"calls\": 1}, {\"monthday\": \"04/20\", \"reporting_district\": \"Hollywood\", \"calls\": 2}, {\"monthday\": \"04/20\", \"reporting_district\": \"Olympic\", \"calls\": 1}, {\"monthday\": \"04/21\", \"reporting_district\": \"Foothill\", \"calls\": 2}, {\"monthday\": \"04/22\", \"reporting_district\": \"Topanga\", \"calls\": 1}, {\"monthday\": \"04/22\", \"reporting_district\": \"West Valley\", \"calls\": 1}, {\"monthday\": \"04/23\", \"reporting_district\": \"Foothill\", \"calls\": 2}, {\"monthday\": \"04/23\", \"reporting_district\": \"West LA\", \"calls\": 1}, {\"monthday\": \"04/24\", \"reporting_district\": \"77th Street\", \"calls\": 1}, {\"monthday\": \"04/24\", \"reporting_district\": \"Mission\", \"calls\": 1}, {\"monthday\": \"04/25\", \"reporting_district\": \"77th Street\", \"calls\": 1}, {\"monthday\": \"04/25\", \"reporting_district\": \"Foothill\", \"calls\": 2}, {\"monthday\": \"04/25\", \"reporting_district\": \"Mission\", \"calls\": 1}, {\"monthday\": \"04/25\", \"reporting_district\": \"Northeast\", \"calls\": 1}, {\"monthday\": \"04/25\", \"reporting_district\": \"West Valley\", \"calls\": 1}, {\"monthday\": \"04/26\", \"reporting_district\": \"Hollywood\", \"calls\": 1}, {\"monthday\": \"04/26\", \"reporting_district\": \"Northeast\", \"calls\": 1}, {\"monthday\": \"04/26\", \"reporting_district\": \"Pacific\", \"calls\": 1}, {\"monthday\": \"04/26\", \"reporting_district\": \"Rampart\", \"calls\": 1}, {\"monthday\": \"04/26\", \"reporting_district\": \"West Valley\", \"calls\": 2}, {\"monthday\": \"04/28\", \"reporting_district\": \"Hollenbeck\", \"calls\": 2}, {\"monthday\": \"04/28\", \"reporting_district\": \"Mission\", \"calls\": 1}, {\"monthday\": \"04/28\", \"reporting_district\": \"Olympic\", \"calls\": 1}, {\"monthday\": \"04/28\", \"reporting_district\": \"Pacific\", \"calls\": 2}, {\"monthday\": \"04/29\", \"reporting_district\": \"Mission\", \"calls\": 1}, {\"monthday\": \"04/29\", \"reporting_district\": \"N Hollywood\", \"calls\": 1}, {\"monthday\": \"04/30\", \"reporting_district\": \"77th Street\", \"calls\": 1}, {\"monthday\": \"04/30\", \"reporting_district\": \"Harbor\", \"calls\": 1}, {\"monthday\": \"04/30\", \"reporting_district\": \"Olympic\", \"calls\": 1}, {\"monthday\": \"04/30\", \"reporting_district\": \"Southeast\", \"calls\": 1}, {\"monthday\": \"04/30\", \"reporting_district\": \"Van Nuys\", \"calls\": 1}, {\"monthday\": \"05/01\", \"reporting_district\": \"Harbor\", \"calls\": 2}, {\"monthday\": \"05/01\", \"reporting_district\": \"Hollenbeck\", \"calls\": 2}, {\"monthday\": \"05/01\", \"reporting_district\": \"Mission\", \"calls\": 2}, {\"monthday\": \"05/01\", \"reporting_district\": \"Van Nuys\", \"calls\": 3}, {\"monthday\": \"05/02\", \"reporting_district\": \"Harbor\", \"calls\": 2}, {\"monthday\": \"05/02\", \"reporting_district\": \"Hollenbeck\", \"calls\": 1}, {\"monthday\": \"05/02\", \"reporting_district\": \"Mission\", \"calls\": 1}, {\"monthday\": \"05/02\", \"reporting_district\": \"Pacific\", \"calls\": 1}, {\"monthday\": \"05/02\", \"reporting_district\": \"Rampart\", \"calls\": 3}, {\"monthday\": \"05/03\", \"reporting_district\": \"77th Street\", \"calls\": 1}, {\"monthday\": \"05/03\", \"reporting_district\": \"Foothill\", \"calls\": 1}, {\"monthday\": \"05/03\", \"reporting_district\": \"Northeast\", \"calls\": 1}, {\"monthday\": \"05/03\", \"reporting_district\": \"Rampart\", \"calls\": 1}, {\"monthday\": \"05/03\", \"reporting_district\": \"West Valley\", \"calls\": 1}, {\"monthday\": \"05/04\", \"reporting_district\": \"77th Street\", \"calls\": 1}, {\"monthday\": \"05/04\", \"reporting_district\": \"Foothill\", \"calls\": 1}, {\"monthday\": \"05/04\", \"reporting_district\": \"Northeast\", \"calls\": 1}, {\"monthday\": \"05/04\", \"reporting_district\": \"Pacific\", \"calls\": 1}, {\"monthday\": \"05/04\", \"reporting_district\": \"Southwest\", \"calls\": 2}, {\"monthday\": \"05/05\", \"reporting_district\": \"77th Street\", \"calls\": 3}, {\"monthday\": \"05/05\", \"reporting_district\": \"Foothill\", \"calls\": 2}, {\"monthday\": \"05/05\", \"reporting_district\": \"Hollenbeck\", \"calls\": 1}, {\"monthday\": \"05/05\", \"reporting_district\": \"Hollywood\", \"calls\": 1}, {\"monthday\": \"05/05\", \"reporting_district\": \"Mission\", \"calls\": 1}, {\"monthday\": \"05/05\", \"reporting_district\": \"Northeast\", \"calls\": 1}, {\"monthday\": \"05/05\", \"reporting_district\": \"Van Nuys\", \"calls\": 1}, {\"monthday\": \"05/06\", \"reporting_district\": \"77th Street\", \"calls\": 1}, {\"monthday\": \"05/06\", \"reporting_district\": \"Northeast\", \"calls\": 1}, {\"monthday\": \"05/06\", \"reporting_district\": \"Olympic\", \"calls\": 1}, {\"monthday\": \"05/07\", \"reporting_district\": \"Harbor\", \"calls\": 1}, {\"monthday\": \"05/07\", \"reporting_district\": \"Rampart\", \"calls\": 3}, {\"monthday\": \"05/07\", \"reporting_district\": \"Southeast\", \"calls\": 1}, {\"monthday\": \"05/07\", \"reporting_district\": \"Southwest\", \"calls\": 1}, {\"monthday\": \"05/07\", \"reporting_district\": \"Topanga\", \"calls\": 2}, {\"monthday\": \"05/07\", \"reporting_district\": \"West Valley\", \"calls\": 1}, {\"monthday\": \"05/08\", \"reporting_district\": \"Foothill\", \"calls\": 1}, {\"monthday\": \"05/08\", \"reporting_district\": \"Newton\", \"calls\": 1}, {\"monthday\": \"05/08\", \"reporting_district\": \"Olympic\", \"calls\": 1}, {\"monthday\": \"05/08\", \"reporting_district\": \"Rampart\", \"calls\": 2}, {\"monthday\": \"05/08\", \"reporting_district\": \"West Valley\", \"calls\": 1}, {\"monthday\": \"05/08\", \"reporting_district\": \"Wilshire\", \"calls\": 1}, {\"monthday\": \"05/09\", \"reporting_district\": \"Devonshire\", \"calls\": 1}, {\"monthday\": \"05/09\", \"reporting_district\": \"Foothill\", \"calls\": 1}, {\"monthday\": \"05/09\", \"reporting_district\": \"Hollenbeck\", \"calls\": 1}, {\"monthday\": \"05/09\", \"reporting_district\": \"Mission\", \"calls\": 1}, {\"monthday\": \"05/09\", \"reporting_district\": \"Olympic\", \"calls\": 1}, {\"monthday\": \"05/09\", \"reporting_district\": \"Van Nuys\", \"calls\": 1}, {\"monthday\": \"05/09\", \"reporting_district\": \"West LA\", \"calls\": 1}, {\"monthday\": \"05/10\", \"reporting_district\": \"77th Street\", \"calls\": 3}, {\"monthday\": \"05/10\", \"reporting_district\": \"Foothill\", \"calls\": 1}, {\"monthday\": \"05/10\", \"reporting_district\": \"Harbor\", \"calls\": 3}, {\"monthday\": \"05/10\", \"reporting_district\": \"Hollenbeck\", \"calls\": 2}, {\"monthday\": \"05/10\", \"reporting_district\": \"Mission\", \"calls\": 3}, {\"monthday\": \"05/10\", \"reporting_district\": \"Newton\", \"calls\": 1}, {\"monthday\": \"05/10\", \"reporting_district\": \"Northeast\", \"calls\": 1}, {\"monthday\": \"05/10\", \"reporting_district\": \"Southwest\", \"calls\": 2}, {\"monthday\": \"05/10\", \"reporting_district\": \"Wilshire\", \"calls\": 1}, {\"monthday\": \"05/11\", \"reporting_district\": \"77th Street\", \"calls\": 1}, {\"monthday\": \"05/11\", \"reporting_district\": \"Foothill\", \"calls\": 2}, {\"monthday\": \"05/11\", \"reporting_district\": \"Harbor\", \"calls\": 1}, {\"monthday\": \"05/11\", \"reporting_district\": \"N Hollywood\", \"calls\": 1}, {\"monthday\": \"05/11\", \"reporting_district\": \"Van Nuys\", \"calls\": 2}, {\"monthday\": \"05/12\", \"reporting_district\": \"Harbor\", \"calls\": 3}, {\"monthday\": \"05/12\", \"reporting_district\": \"Hollenbeck\", \"calls\": 2}, {\"monthday\": \"05/12\", \"reporting_district\": \"Olympic\", \"calls\": 1}, {\"monthday\": \"05/12\", \"reporting_district\": \"Pacific\", \"calls\": 1}, {\"monthday\": \"05/12\", \"reporting_district\": \"West Valley\", \"calls\": 1}, {\"monthday\": \"05/12\", \"reporting_district\": \"Wilshire\", \"calls\": 1}, {\"monthday\": \"05/13\", \"reporting_district\": \"77th Street\", \"calls\": 2}, {\"monthday\": \"05/13\", \"reporting_district\": \"Central\", \"calls\": 1}, {\"monthday\": \"05/13\", \"reporting_district\": \"Rampart\", \"calls\": 2}, {\"monthday\": \"05/13\", \"reporting_district\": \"Southwest\", \"calls\": 1}, {\"monthday\": \"05/13\", \"reporting_district\": \"Van Nuys\", \"calls\": 2}, {\"monthday\": \"05/13\", \"reporting_district\": \"West Valley\", \"calls\": 1}, {\"monthday\": \"05/14\", \"reporting_district\": \"Rampart\", \"calls\": 1}, {\"monthday\": \"05/14\", \"reporting_district\": \"Southeast\", \"calls\": 1}, {\"monthday\": \"05/14\", \"reporting_district\": \"Topanga\", \"calls\": 2}, {\"monthday\": \"05/14\", \"reporting_district\": \"Van Nuys\", \"calls\": 1}, {\"monthday\": \"05/14\", \"reporting_district\": \"Wilshire\", \"calls\": 1}, {\"monthday\": \"05/15\", \"reporting_district\": \"77th Street\", \"calls\": 1}, {\"monthday\": \"05/15\", \"reporting_district\": \"Central\", \"calls\": 1}, {\"monthday\": \"05/15\", \"reporting_district\": \"Foothill\", \"calls\": 1}, {\"monthday\": \"05/15\", \"reporting_district\": \"Hollenbeck\", \"calls\": 2}, {\"monthday\": \"05/15\", \"reporting_district\": \"Mission\", \"calls\": 4}, {\"monthday\": \"05/15\", \"reporting_district\": \"Newton\", \"calls\": 3}, {\"monthday\": \"05/15\", \"reporting_district\": \"Pacific\", \"calls\": 1}, {\"monthday\": \"05/15\", \"reporting_district\": \"Southeast\", \"calls\": 3}, {\"monthday\": \"05/15\", \"reporting_district\": \"Topanga\", \"calls\": 2}, {\"monthday\": \"05/15\", \"reporting_district\": \"Van Nuys\", \"calls\": 2}, {\"monthday\": \"05/16\", \"reporting_district\": \"77th Street\", \"calls\": 3}, {\"monthday\": \"05/16\", \"reporting_district\": \"Foothill\", \"calls\": 3}, {\"monthday\": \"05/16\", \"reporting_district\": \"Hollenbeck\", \"calls\": 1}, {\"monthday\": \"05/16\", \"reporting_district\": \"Mission\", \"calls\": 4}, {\"monthday\": \"05/16\", \"reporting_district\": \"Newton\", \"calls\": 2}, {\"monthday\": \"05/16\", \"reporting_district\": \"Olympic\", \"calls\": 1}, {\"monthday\": \"05/16\", \"reporting_district\": \"Pacific\", \"calls\": 2}, {\"monthday\": \"05/16\", \"reporting_district\": \"Southeast\", \"calls\": 1}, {\"monthday\": \"05/16\", \"reporting_district\": \"Southwest\", \"calls\": 1}, {\"monthday\": \"05/16\", \"reporting_district\": \"Topanga\", \"calls\": 5}, {\"monthday\": \"05/16\", \"reporting_district\": \"Wilshire\", \"calls\": 1}, {\"monthday\": \"05/17\", \"reporting_district\": \"77th Street\", \"calls\": 5}, {\"monthday\": \"05/17\", \"reporting_district\": \"Devonshire\", \"calls\": 2}, {\"monthday\": \"05/17\", \"reporting_district\": \"Foothill\", \"calls\": 1}, {\"monthday\": \"05/17\", \"reporting_district\": \"Harbor\", \"calls\": 3}, {\"monthday\": \"05/17\", \"reporting_district\": \"Hollenbeck\", \"calls\": 1}, {\"monthday\": \"05/17\", \"reporting_district\": \"Hollywood\", \"calls\": 1}, {\"monthday\": \"05/17\", \"reporting_district\": \"Mission\", \"calls\": 7}, {\"monthday\": \"05/17\", \"reporting_district\": \"N Hollywood\", \"calls\": 3}, {\"monthday\": \"05/17\", \"reporting_district\": \"Newton\", \"calls\": 3}, {\"monthday\": \"05/17\", \"reporting_district\": \"Northeast\", \"calls\": 2}, {\"monthday\": \"05/17\", \"reporting_district\": \"Pacific\", \"calls\": 1}, {\"monthday\": \"05/17\", \"reporting_district\": \"Southeast\", \"calls\": 2}, {\"monthday\": \"05/17\", \"reporting_district\": \"Southwest\", \"calls\": 3}, {\"monthday\": \"05/17\", \"reporting_district\": \"Van Nuys\", \"calls\": 1}, {\"monthday\": \"05/17\", \"reporting_district\": \"West LA\", \"calls\": 1}, {\"monthday\": \"05/18\", \"reporting_district\": \"77th Street\", \"calls\": 7}, {\"monthday\": \"05/18\", \"reporting_district\": \"Devonshire\", \"calls\": 1}, {\"monthday\": \"05/18\", \"reporting_district\": \"Foothill\", \"calls\": 1}, {\"monthday\": \"05/18\", \"reporting_district\": \"Harbor\", \"calls\": 2}, {\"monthday\": \"05/18\", \"reporting_district\": \"Mission\", \"calls\": 1}, {\"monthday\": \"05/18\", \"reporting_district\": \"Newton\", \"calls\": 1}, {\"monthday\": \"05/18\", \"reporting_district\": \"Northeast\", \"calls\": 1}, {\"monthday\": \"05/18\", \"reporting_district\": \"Olympic\", \"calls\": 1}, {\"monthday\": \"05/18\", \"reporting_district\": \"Rampart\", \"calls\": 1}, {\"monthday\": \"05/18\", \"reporting_district\": \"Southeast\", \"calls\": 2}, {\"monthday\": \"05/18\", \"reporting_district\": \"Southwest\", \"calls\": 4}, {\"monthday\": \"05/18\", \"reporting_district\": \"Topanga\", \"calls\": 2}, {\"monthday\": \"05/19\", \"reporting_district\": \"77th Street\", \"calls\": 2}, {\"monthday\": \"05/19\", \"reporting_district\": \"Devonshire\", \"calls\": 1}, {\"monthday\": \"05/19\", \"reporting_district\": \"Foothill\", \"calls\": 1}, {\"monthday\": \"05/19\", \"reporting_district\": \"Harbor\", \"calls\": 4}, {\"monthday\": \"05/19\", \"reporting_district\": \"Hollenbeck\", \"calls\": 1}, {\"monthday\": \"05/19\", \"reporting_district\": \"Mission\", \"calls\": 4}, {\"monthday\": \"05/19\", \"reporting_district\": \"N Hollywood\", \"calls\": 1}, {\"monthday\": \"05/19\", \"reporting_district\": \"Pacific\", \"calls\": 1}, {\"monthday\": \"05/19\", \"reporting_district\": \"Southeast\", \"calls\": 1}, {\"monthday\": \"05/19\", \"reporting_district\": \"Southwest\", \"calls\": 2}, {\"monthday\": \"05/19\", \"reporting_district\": \"Topanga\", \"calls\": 1}, {\"monthday\": \"05/19\", \"reporting_district\": \"Van Nuys\", \"calls\": 3}, {\"monthday\": \"05/19\", \"reporting_district\": \"Wilshire\", \"calls\": 1}, {\"monthday\": \"05/20\", \"reporting_district\": \"77th Street\", \"calls\": 2}, {\"monthday\": \"05/20\", \"reporting_district\": \"Foothill\", \"calls\": 5}, {\"monthday\": \"05/20\", \"reporting_district\": \"Harbor\", \"calls\": 1}, {\"monthday\": \"05/20\", \"reporting_district\": \"Mission\", \"calls\": 3}, {\"monthday\": \"05/20\", \"reporting_district\": \"Newton\", \"calls\": 1}, {\"monthday\": \"05/20\", \"reporting_district\": \"Northeast\", \"calls\": 2}, {\"monthday\": \"05/20\", \"reporting_district\": \"Olympic\", \"calls\": 2}, {\"monthday\": \"05/20\", \"reporting_district\": \"Pacific\", \"calls\": 3}, {\"monthday\": \"05/20\", \"reporting_district\": \"Southeast\", \"calls\": 3}, {\"monthday\": \"05/20\", \"reporting_district\": \"Southwest\", \"calls\": 2}, {\"monthday\": \"05/20\", \"reporting_district\": \"Topanga\", \"calls\": 2}, {\"monthday\": \"05/20\", \"reporting_district\": \"Van Nuys\", \"calls\": 1}, {\"monthday\": \"05/20\", \"reporting_district\": \"Wilshire\", \"calls\": 1}, {\"monthday\": \"05/21\", \"reporting_district\": \"77th Street\", \"calls\": 4}, {\"monthday\": \"05/21\", \"reporting_district\": \"Devonshire\", \"calls\": 1}, {\"monthday\": \"05/21\", \"reporting_district\": \"Foothill\", \"calls\": 1}, {\"monthday\": \"05/21\", \"reporting_district\": \"Harbor\", \"calls\": 2}, {\"monthday\": \"05/21\", \"reporting_district\": \"Hollenbeck\", \"calls\": 2}, {\"monthday\": \"05/21\", \"reporting_district\": \"Mission\", \"calls\": 1}, {\"monthday\": \"05/21\", \"reporting_district\": \"N Hollywood\", \"calls\": 1}, {\"monthday\": \"05/21\", \"reporting_district\": \"Newton\", \"calls\": 2}, {\"monthday\": \"05/21\", \"reporting_district\": \"Northeast\", \"calls\": 1}, {\"monthday\": \"05/21\", \"reporting_district\": \"Pacific\", \"calls\": 1}, {\"monthday\": \"05/21\", \"reporting_district\": \"Southeast\", \"calls\": 1}, {\"monthday\": \"05/22\", \"reporting_district\": \"77th Street\", \"calls\": 4}, {\"monthday\": \"05/22\", \"reporting_district\": \"Central\", \"calls\": 1}, {\"monthday\": \"05/22\", \"reporting_district\": \"Devonshire\", \"calls\": 2}, {\"monthday\": \"05/22\", \"reporting_district\": \"Foothill\", \"calls\": 8}, {\"monthday\": \"05/22\", \"reporting_district\": \"Harbor\", \"calls\": 1}, {\"monthday\": \"05/22\", \"reporting_district\": \"Hollenbeck\", \"calls\": 1}, {\"monthday\": \"05/22\", \"reporting_district\": \"Mission\", \"calls\": 4}, {\"monthday\": \"05/22\", \"reporting_district\": \"N Hollywood\", \"calls\": 4}, {\"monthday\": \"05/22\", \"reporting_district\": \"Newton\", \"calls\": 1}, {\"monthday\": \"05/22\", \"reporting_district\": \"Northeast\", \"calls\": 1}, {\"monthday\": \"05/22\", \"reporting_district\": \"Pacific\", \"calls\": 6}, {\"monthday\": \"05/22\", \"reporting_district\": \"Rampart\", \"calls\": 3}, {\"monthday\": \"05/22\", \"reporting_district\": \"Southeast\", \"calls\": 3}, {\"monthday\": \"05/22\", \"reporting_district\": \"Topanga\", \"calls\": 1}, {\"monthday\": \"05/22\", \"reporting_district\": \"Van Nuys\", \"calls\": 1}, {\"monthday\": \"05/22\", \"reporting_district\": \"West Valley\", \"calls\": 1}, {\"monthday\": \"05/23\", \"reporting_district\": \"77th Street\", \"calls\": 2}, {\"monthday\": \"05/23\", \"reporting_district\": \"Devonshire\", \"calls\": 3}, {\"monthday\": \"05/23\", \"reporting_district\": \"Foothill\", \"calls\": 5}, {\"monthday\": \"05/23\", \"reporting_district\": \"Harbor\", \"calls\": 4}, {\"monthday\": \"05/23\", \"reporting_district\": \"Hollenbeck\", \"calls\": 1}, {\"monthday\": \"05/23\", \"reporting_district\": \"Hollywood\", \"calls\": 1}, {\"monthday\": \"05/23\", \"reporting_district\": \"Mission\", \"calls\": 5}, {\"monthday\": \"05/23\", \"reporting_district\": \"N Hollywood\", \"calls\": 5}, {\"monthday\": \"05/23\", \"reporting_district\": \"Newton\", \"calls\": 4}, {\"monthday\": \"05/23\", \"reporting_district\": \"Northeast\", \"calls\": 1}, {\"monthday\": \"05/23\", \"reporting_district\": \"Pacific\", \"calls\": 1}, {\"monthday\": \"05/23\", \"reporting_district\": \"Rampart\", \"calls\": 1}, {\"monthday\": \"05/23\", \"reporting_district\": \"Southeast\", \"calls\": 5}, {\"monthday\": \"05/23\", \"reporting_district\": \"Southwest\", \"calls\": 1}, {\"monthday\": \"05/23\", \"reporting_district\": \"Topanga\", \"calls\": 1}, {\"monthday\": \"05/23\", \"reporting_district\": \"Van Nuys\", \"calls\": 2}, {\"monthday\": \"05/23\", \"reporting_district\": \"West LA\", \"calls\": 5}, {\"monthday\": \"05/23\", \"reporting_district\": \"West Valley\", \"calls\": 1}, {\"monthday\": \"05/24\", \"reporting_district\": \"77th Street\", \"calls\": 6}, {\"monthday\": \"05/24\", \"reporting_district\": \"Devonshire\", \"calls\": 3}, {\"monthday\": \"05/24\", \"reporting_district\": \"Foothill\", \"calls\": 9}, {\"monthday\": \"05/24\", \"reporting_district\": \"Harbor\", \"calls\": 10}, {\"monthday\": \"05/24\", \"reporting_district\": \"Hollenbeck\", \"calls\": 8}, {\"monthday\": \"05/24\", \"reporting_district\": \"Hollywood\", \"calls\": 6}, {\"monthday\": \"05/24\", \"reporting_district\": \"Mission\", \"calls\": 22}, {\"monthday\": \"05/24\", \"reporting_district\": \"N Hollywood\", \"calls\": 10}, {\"monthday\": \"05/24\", \"reporting_district\": \"Newton\", \"calls\": 7}, {\"monthday\": \"05/24\", \"reporting_district\": \"Northeast\", \"calls\": 3}, {\"monthday\": \"05/24\", \"reporting_district\": \"Olympic\", \"calls\": 1}, {\"monthday\": \"05/24\", \"reporting_district\": \"Pacific\", \"calls\": 8}, {\"monthday\": \"05/24\", \"reporting_district\": \"Rampart\", \"calls\": 5}, {\"monthday\": \"05/24\", \"reporting_district\": \"Southeast\", \"calls\": 3}, {\"monthday\": \"05/24\", \"reporting_district\": \"Southwest\", \"calls\": 3}, {\"monthday\": \"05/24\", \"reporting_district\": \"Topanga\", \"calls\": 3}, {\"monthday\": \"05/24\", \"reporting_district\": \"Van Nuys\", \"calls\": 4}, {\"monthday\": \"05/24\", \"reporting_district\": \"West LA\", \"calls\": 1}, {\"monthday\": \"05/24\", \"reporting_district\": \"West Valley\", \"calls\": 3}, {\"monthday\": \"05/24\", \"reporting_district\": \"Wilshire\", \"calls\": 3}, {\"monthday\": \"05/25\", \"reporting_district\": \"77th Street\", \"calls\": 7}, {\"monthday\": \"05/25\", \"reporting_district\": \"Devonshire\", \"calls\": 4}, {\"monthday\": \"05/25\", \"reporting_district\": \"Foothill\", \"calls\": 11}, {\"monthday\": \"05/25\", \"reporting_district\": \"Harbor\", \"calls\": 3}, {\"monthday\": \"05/25\", \"reporting_district\": \"Hollenbeck\", \"calls\": 5}, {\"monthday\": \"05/25\", \"reporting_district\": \"Hollywood\", \"calls\": 5}, {\"monthday\": \"05/25\", \"reporting_district\": \"Mission\", \"calls\": 8}, {\"monthday\": \"05/25\", \"reporting_district\": \"N Hollywood\", \"calls\": 5}, {\"monthday\": \"05/25\", \"reporting_district\": \"Newton\", \"calls\": 2}, {\"monthday\": \"05/25\", \"reporting_district\": \"Northeast\", \"calls\": 9}, {\"monthday\": \"05/25\", \"reporting_district\": \"Olympic\", \"calls\": 1}, {\"monthday\": \"05/25\", \"reporting_district\": \"Pacific\", \"calls\": 5}, {\"monthday\": \"05/25\", \"reporting_district\": \"Rampart\", \"calls\": 5}, {\"monthday\": \"05/25\", \"reporting_district\": \"Southeast\", \"calls\": 4}, {\"monthday\": \"05/25\", \"reporting_district\": \"Southwest\", \"calls\": 6}, {\"monthday\": \"05/25\", \"reporting_district\": \"Topanga\", \"calls\": 7}, {\"monthday\": \"05/25\", \"reporting_district\": \"Van Nuys\", \"calls\": 12}, {\"monthday\": \"05/25\", \"reporting_district\": \"West Valley\", \"calls\": 9}, {\"monthday\": \"05/26\", \"reporting_district\": \"77th Street\", \"calls\": 3}, {\"monthday\": \"05/26\", \"reporting_district\": \"Devonshire\", \"calls\": 1}, {\"monthday\": \"05/26\", \"reporting_district\": \"Foothill\", \"calls\": 2}, {\"monthday\": \"05/26\", \"reporting_district\": \"Harbor\", \"calls\": 3}, {\"monthday\": \"05/26\", \"reporting_district\": \"Hollenbeck\", \"calls\": 2}, {\"monthday\": \"05/26\", \"reporting_district\": \"Mission\", \"calls\": 3}, {\"monthday\": \"05/26\", \"reporting_district\": \"N Hollywood\", \"calls\": 2}, {\"monthday\": \"05/26\", \"reporting_district\": \"Newton\", \"calls\": 4}, {\"monthday\": \"05/26\", \"reporting_district\": \"Northeast\", \"calls\": 10}, {\"monthday\": \"05/26\", \"reporting_district\": \"Olympic\", \"calls\": 4}, {\"monthday\": \"05/26\", \"reporting_district\": \"Pacific\", \"calls\": 8}, {\"monthday\": \"05/26\", \"reporting_district\": \"Rampart\", \"calls\": 2}, {\"monthday\": \"05/26\", \"reporting_district\": \"Southeast\", \"calls\": 1}, {\"monthday\": \"05/26\", \"reporting_district\": \"Southwest\", \"calls\": 7}, {\"monthday\": \"05/26\", \"reporting_district\": \"Topanga\", \"calls\": 2}, {\"monthday\": \"05/26\", \"reporting_district\": \"Van Nuys\", \"calls\": 2}, {\"monthday\": \"05/26\", \"reporting_district\": \"West LA\", \"calls\": 1}, {\"monthday\": \"05/26\", \"reporting_district\": \"Wilshire\", \"calls\": 1}, {\"monthday\": \"05/27\", \"reporting_district\": \"77th Street\", \"calls\": 1}, {\"monthday\": \"05/27\", \"reporting_district\": \"Harbor\", \"calls\": 1}, {\"monthday\": \"05/27\", \"reporting_district\": \"Hollenbeck\", \"calls\": 4}, {\"monthday\": \"05/27\", \"reporting_district\": \"Mission\", \"calls\": 4}, {\"monthday\": \"05/27\", \"reporting_district\": \"N Hollywood\", \"calls\": 1}, {\"monthday\": \"05/27\", \"reporting_district\": \"Newton\", \"calls\": 2}, {\"monthday\": \"05/27\", \"reporting_district\": \"Olympic\", \"calls\": 1}, {\"monthday\": \"05/27\", \"reporting_district\": \"Rampart\", \"calls\": 1}, {\"monthday\": \"05/27\", \"reporting_district\": \"Southeast\", \"calls\": 1}, {\"monthday\": \"05/27\", \"reporting_district\": \"West Valley\", \"calls\": 1}, {\"monthday\": \"05/28\", \"reporting_district\": \"Foothill\", \"calls\": 4}, {\"monthday\": \"05/28\", \"reporting_district\": \"Hollenbeck\", \"calls\": 1}, {\"monthday\": \"05/28\", \"reporting_district\": \"Mission\", \"calls\": 4}, {\"monthday\": \"05/28\", \"reporting_district\": \"N Hollywood\", \"calls\": 2}, {\"monthday\": \"05/28\", \"reporting_district\": \"Newton\", \"calls\": 5}, {\"monthday\": \"05/28\", \"reporting_district\": \"Northeast\", \"calls\": 3}, {\"monthday\": \"05/28\", \"reporting_district\": \"Southwest\", \"calls\": 5}, {\"monthday\": \"05/28\", \"reporting_district\": \"West Valley\", \"calls\": 1}, {\"monthday\": \"05/29\", \"reporting_district\": \"Foothill\", \"calls\": 1}, {\"monthday\": \"05/29\", \"reporting_district\": \"Hollenbeck\", \"calls\": 1}, {\"monthday\": \"05/29\", \"reporting_district\": \"Southeast\", \"calls\": 1}, {\"monthday\": \"06/02\", \"reporting_district\": \"Southeast\", \"calls\": 1}, {\"monthday\": \"06/03\", \"reporting_district\": \"Hollywood\", \"calls\": 1}, {\"monthday\": \"06/04\", \"reporting_district\": \"N Hollywood\", \"calls\": 1}, {\"monthday\": \"06/04\", \"reporting_district\": \"West Valley\", \"calls\": 1}, {\"monthday\": \"06/05\", \"reporting_district\": \"Devonshire\", \"calls\": 1}, {\"monthday\": \"06/05\", \"reporting_district\": \"Hollywood\", \"calls\": 1}, {\"monthday\": \"06/05\", \"reporting_district\": \"Olympic\", \"calls\": 1}, {\"monthday\": \"06/06\", \"reporting_district\": \"N Hollywood\", \"calls\": 1}, {\"monthday\": \"06/07\", \"reporting_district\": \"Northeast\", \"calls\": 1}, {\"monthday\": \"06/07\", \"reporting_district\": \"Pacific\", \"calls\": 2}, {\"monthday\": \"06/08\", \"reporting_district\": \"Harbor\", \"calls\": 1}, {\"monthday\": \"06/08\", \"reporting_district\": \"N Hollywood\", \"calls\": 1}, {\"monthday\": \"06/08\", \"reporting_district\": \"Northeast\", \"calls\": 1}, {\"monthday\": \"06/08\", \"reporting_district\": \"Rampart\", \"calls\": 1}, {\"monthday\": \"06/08\", \"reporting_district\": \"West LA\", \"calls\": 1}, {\"monthday\": \"06/09\", \"reporting_district\": \"Foothill\", \"calls\": 2}, {\"monthday\": \"06/09\", \"reporting_district\": \"West Valley\", \"calls\": 1}, {\"monthday\": \"06/10\", \"reporting_district\": \"77th Street\", \"calls\": 2}, {\"monthday\": \"06/10\", \"reporting_district\": \"Devonshire\", \"calls\": 3}, {\"monthday\": \"06/10\", \"reporting_district\": \"Foothill\", \"calls\": 4}, {\"monthday\": \"06/10\", \"reporting_district\": \"Harbor\", \"calls\": 6}, {\"monthday\": \"06/10\", \"reporting_district\": \"Hollenbeck\", \"calls\": 4}, {\"monthday\": \"06/10\", \"reporting_district\": \"Hollywood\", \"calls\": 1}, {\"monthday\": \"06/10\", \"reporting_district\": \"Mission\", \"calls\": 5}, {\"monthday\": \"06/10\", \"reporting_district\": \"N Hollywood\", \"calls\": 9}, {\"monthday\": \"06/10\", \"reporting_district\": \"Newton\", \"calls\": 1}, {\"monthday\": \"06/10\", \"reporting_district\": \"Northeast\", \"calls\": 5}, {\"monthday\": \"06/10\", \"reporting_district\": \"Olympic\", \"calls\": 2}, {\"monthday\": \"06/10\", \"reporting_district\": \"Pacific\", \"calls\": 2}, {\"monthday\": \"06/10\", \"reporting_district\": \"Rampart\", \"calls\": 2}, {\"monthday\": \"06/10\", \"reporting_district\": \"Southeast\", \"calls\": 4}, {\"monthday\": \"06/10\", \"reporting_district\": \"Southwest\", \"calls\": 8}, {\"monthday\": \"06/10\", \"reporting_district\": \"Topanga\", \"calls\": 1}, {\"monthday\": \"06/10\", \"reporting_district\": \"West Valley\", \"calls\": 1}, {\"monthday\": \"06/10\", \"reporting_district\": \"Wilshire\", \"calls\": 1}, {\"monthday\": \"06/11\", \"reporting_district\": \"77th Street\", \"calls\": 7}, {\"monthday\": \"06/11\", \"reporting_district\": \"Central\", \"calls\": 2}, {\"monthday\": \"06/11\", \"reporting_district\": \"Devonshire\", \"calls\": 3}, {\"monthday\": \"06/11\", \"reporting_district\": \"Foothill\", \"calls\": 3}, {\"monthday\": \"06/11\", \"reporting_district\": \"Harbor\", \"calls\": 5}, {\"monthday\": \"06/11\", \"reporting_district\": \"Hollenbeck\", \"calls\": 7}, {\"monthday\": \"06/11\", \"reporting_district\": \"Hollywood\", \"calls\": 1}, {\"monthday\": \"06/11\", \"reporting_district\": \"Mission\", \"calls\": 5}, {\"monthday\": \"06/11\", \"reporting_district\": \"N Hollywood\", \"calls\": 8}, {\"monthday\": \"06/11\", \"reporting_district\": \"Newton\", \"calls\": 1}, {\"monthday\": \"06/11\", \"reporting_district\": \"Northeast\", \"calls\": 6}, {\"monthday\": \"06/11\", \"reporting_district\": \"Olympic\", \"calls\": 1}, {\"monthday\": \"06/11\", \"reporting_district\": \"Pacific\", \"calls\": 11}, {\"monthday\": \"06/11\", \"reporting_district\": \"Rampart\", \"calls\": 2}, {\"monthday\": \"06/11\", \"reporting_district\": \"Southeast\", \"calls\": 5}, {\"monthday\": \"06/11\", \"reporting_district\": \"Southwest\", \"calls\": 1}, {\"monthday\": \"06/11\", \"reporting_district\": \"Van Nuys\", \"calls\": 3}, {\"monthday\": \"06/11\", \"reporting_district\": \"West LA\", \"calls\": 2}, {\"monthday\": \"06/11\", \"reporting_district\": \"West Valley\", \"calls\": 1}, {\"monthday\": \"06/12\", \"reporting_district\": \"77th Street\", \"calls\": 7}, {\"monthday\": \"06/12\", \"reporting_district\": \"Central\", \"calls\": 1}, {\"monthday\": \"06/12\", \"reporting_district\": \"Devonshire\", \"calls\": 7}, {\"monthday\": \"06/12\", \"reporting_district\": \"Foothill\", \"calls\": 11}, {\"monthday\": \"06/12\", \"reporting_district\": \"Harbor\", \"calls\": 9}, {\"monthday\": \"06/12\", \"reporting_district\": \"Hollenbeck\", \"calls\": 10}, {\"monthday\": \"06/12\", \"reporting_district\": \"Hollywood\", \"calls\": 5}, {\"monthday\": \"06/12\", \"reporting_district\": \"Mission\", \"calls\": 21}, {\"monthday\": \"06/12\", \"reporting_district\": \"N Hollywood\", \"calls\": 1}, {\"monthday\": \"06/12\", \"reporting_district\": \"Newton\", \"calls\": 2}, {\"monthday\": \"06/12\", \"reporting_district\": \"Northeast\", \"calls\": 13}, {\"monthday\": \"06/12\", \"reporting_district\": \"Olympic\", \"calls\": 1}, {\"monthday\": \"06/12\", \"reporting_district\": \"Pacific\", \"calls\": 7}, {\"monthday\": \"06/12\", \"reporting_district\": \"Rampart\", \"calls\": 1}, {\"monthday\": \"06/12\", \"reporting_district\": \"Southeast\", \"calls\": 5}, {\"monthday\": \"06/12\", \"reporting_district\": \"Southwest\", \"calls\": 7}, {\"monthday\": \"06/12\", \"reporting_district\": \"Topanga\", \"calls\": 1}, {\"monthday\": \"06/12\", \"reporting_district\": \"West LA\", \"calls\": 2}, {\"monthday\": \"06/12\", \"reporting_district\": \"West Valley\", \"calls\": 3}, {\"monthday\": \"06/12\", \"reporting_district\": \"Wilshire\", \"calls\": 3}, {\"monthday\": \"06/13\", \"reporting_district\": \"77th Street\", \"calls\": 11}, {\"monthday\": \"06/13\", \"reporting_district\": \"Devonshire\", \"calls\": 4}, {\"monthday\": \"06/13\", \"reporting_district\": \"Foothill\", \"calls\": 16}, {\"monthday\": \"06/13\", \"reporting_district\": \"Harbor\", \"calls\": 13}, {\"monthday\": \"06/13\", \"reporting_district\": \"Hollenbeck\", \"calls\": 15}, {\"monthday\": \"06/13\", \"reporting_district\": \"Hollywood\", \"calls\": 9}, {\"monthday\": \"06/13\", \"reporting_district\": \"Mission\", \"calls\": 21}, {\"monthday\": \"06/13\", \"reporting_district\": \"N Hollywood\", \"calls\": 20}, {\"monthday\": \"06/13\", \"reporting_district\": \"Newton\", \"calls\": 2}, {\"monthday\": \"06/13\", \"reporting_district\": \"Northeast\", \"calls\": 17}, {\"monthday\": \"06/13\", \"reporting_district\": \"Olympic\", \"calls\": 3}, {\"monthday\": \"06/13\", \"reporting_district\": \"Pacific\", \"calls\": 8}, {\"monthday\": \"06/13\", \"reporting_district\": \"Rampart\", \"calls\": 5}, {\"monthday\": \"06/13\", \"reporting_district\": \"Southeast\", \"calls\": 8}, {\"monthday\": \"06/13\", \"reporting_district\": \"Southwest\", \"calls\": 12}, {\"monthday\": \"06/13\", \"reporting_district\": \"Topanga\", \"calls\": 4}, {\"monthday\": \"06/13\", \"reporting_district\": \"Van Nuys\", \"calls\": 5}, {\"monthday\": \"06/13\", \"reporting_district\": \"West Valley\", \"calls\": 13}, {\"monthday\": \"06/13\", \"reporting_district\": \"Wilshire\", \"calls\": 2}, {\"monthday\": \"06/14\", \"reporting_district\": \"77th Street\", \"calls\": 7}, {\"monthday\": \"06/14\", \"reporting_district\": \"Central\", \"calls\": 1}, {\"monthday\": \"06/14\", \"reporting_district\": \"Devonshire\", \"calls\": 9}, {\"monthday\": \"06/14\", \"reporting_district\": \"Foothill\", \"calls\": 13}, {\"monthday\": \"06/14\", \"reporting_district\": \"Harbor\", \"calls\": 9}, {\"monthday\": \"06/14\", \"reporting_district\": \"Hollenbeck\", \"calls\": 8}, {\"monthday\": \"06/14\", \"reporting_district\": \"Hollywood\", \"calls\": 1}, {\"monthday\": \"06/14\", \"reporting_district\": \"Mission\", \"calls\": 12}, {\"monthday\": \"06/14\", \"reporting_district\": \"N Hollywood\", \"calls\": 18}, {\"monthday\": \"06/14\", \"reporting_district\": \"Newton\", \"calls\": 3}, {\"monthday\": \"06/14\", \"reporting_district\": \"Northeast\", \"calls\": 11}, {\"monthday\": \"06/14\", \"reporting_district\": \"Olympic\", \"calls\": 5}, {\"monthday\": \"06/14\", \"reporting_district\": \"Pacific\", \"calls\": 16}, {\"monthday\": \"06/14\", \"reporting_district\": \"Rampart\", \"calls\": 10}, {\"monthday\": \"06/14\", \"reporting_district\": \"Southeast\", \"calls\": 10}, {\"monthday\": \"06/14\", \"reporting_district\": \"Southwest\", \"calls\": 12}, {\"monthday\": \"06/14\", \"reporting_district\": \"Topanga\", \"calls\": 8}, {\"monthday\": \"06/14\", \"reporting_district\": \"Van Nuys\", \"calls\": 4}, {\"monthday\": \"06/14\", \"reporting_district\": \"West LA\", \"calls\": 5}, {\"monthday\": \"06/14\", \"reporting_district\": \"West Valley\", \"calls\": 7}, {\"monthday\": \"06/14\", \"reporting_district\": \"Wilshire\", \"calls\": 8}, {\"monthday\": \"06/15\", \"reporting_district\": \"77th Street\", \"calls\": 6}, {\"monthday\": \"06/15\", \"reporting_district\": \"Devonshire\", \"calls\": 2}, {\"monthday\": \"06/15\", \"reporting_district\": \"Foothill\", \"calls\": 12}, {\"monthday\": \"06/15\", \"reporting_district\": \"Harbor\", \"calls\": 5}, {\"monthday\": \"06/15\", \"reporting_district\": \"Hollenbeck\", \"calls\": 8}, {\"monthday\": \"06/15\", \"reporting_district\": \"Hollywood\", \"calls\": 4}, {\"monthday\": \"06/15\", \"reporting_district\": \"Mission\", \"calls\": 8}, {\"monthday\": \"06/15\", \"reporting_district\": \"N Hollywood\", \"calls\": 2}, {\"monthday\": \"06/15\", \"reporting_district\": \"Newton\", \"calls\": 2}, {\"monthday\": \"06/15\", \"reporting_district\": \"Northeast\", \"calls\": 4}, {\"monthday\": \"06/15\", \"reporting_district\": \"Olympic\", \"calls\": 4}, {\"monthday\": \"06/15\", \"reporting_district\": \"Pacific\", \"calls\": 3}, {\"monthday\": \"06/15\", \"reporting_district\": \"Rampart\", \"calls\": 1}, {\"monthday\": \"06/15\", \"reporting_district\": \"Southeast\", \"calls\": 1}, {\"monthday\": \"06/15\", \"reporting_district\": \"Southwest\", \"calls\": 3}, {\"monthday\": \"06/15\", \"reporting_district\": \"Topanga\", \"calls\": 5}, {\"monthday\": \"06/15\", \"reporting_district\": \"Van Nuys\", \"calls\": 4}, {\"monthday\": \"06/15\", \"reporting_district\": \"West LA\", \"calls\": 3}, {\"monthday\": \"06/15\", \"reporting_district\": \"West Valley\", \"calls\": 5}, {\"monthday\": \"06/16\", \"reporting_district\": \"77th Street\", \"calls\": 7}, {\"monthday\": \"06/16\", \"reporting_district\": \"Devonshire\", \"calls\": 1}, {\"monthday\": \"06/16\", \"reporting_district\": \"Foothill\", \"calls\": 9}, {\"monthday\": \"06/16\", \"reporting_district\": \"Harbor\", \"calls\": 5}, {\"monthday\": \"06/16\", \"reporting_district\": \"Hollenbeck\", \"calls\": 5}, {\"monthday\": \"06/16\", \"reporting_district\": \"Mission\", \"calls\": 5}, {\"monthday\": \"06/16\", \"reporting_district\": \"N Hollywood\", \"calls\": 6}, {\"monthday\": \"06/16\", \"reporting_district\": \"Newton\", \"calls\": 2}, {\"monthday\": \"06/16\", \"reporting_district\": \"Northeast\", \"calls\": 5}, {\"monthday\": \"06/16\", \"reporting_district\": \"Olympic\", \"calls\": 1}, {\"monthday\": \"06/16\", \"reporting_district\": \"Pacific\", \"calls\": 2}, {\"monthday\": \"06/16\", \"reporting_district\": \"Rampart\", \"calls\": 3}, {\"monthday\": \"06/16\", \"reporting_district\": \"Southeast\", \"calls\": 2}, {\"monthday\": \"06/16\", \"reporting_district\": \"Southwest\", \"calls\": 5}, {\"monthday\": \"06/16\", \"reporting_district\": \"Topanga\", \"calls\": 2}, {\"monthday\": \"06/16\", \"reporting_district\": \"Van Nuys\", \"calls\": 2}, {\"monthday\": \"06/16\", \"reporting_district\": \"West LA\", \"calls\": 1}, {\"monthday\": \"06/16\", \"reporting_district\": \"West Valley\", \"calls\": 5}, {\"monthday\": \"06/16\", \"reporting_district\": \"Wilshire\", \"calls\": 4}, {\"monthday\": \"06/17\", \"reporting_district\": \"77th Street\", \"calls\": 7}, {\"monthday\": \"06/17\", \"reporting_district\": \"Devonshire\", \"calls\": 1}, {\"monthday\": \"06/17\", \"reporting_district\": \"Foothill\", \"calls\": 3}, {\"monthday\": \"06/17\", \"reporting_district\": \"Harbor\", \"calls\": 7}, {\"monthday\": \"06/17\", \"reporting_district\": \"Hollenbeck\", \"calls\": 6}, {\"monthday\": \"06/17\", \"reporting_district\": \"Hollywood\", \"calls\": 1}, {\"monthday\": \"06/17\", \"reporting_district\": \"Mission\", \"calls\": 8}, {\"monthday\": \"06/17\", \"reporting_district\": \"N Hollywood\", \"calls\": 1}, {\"monthday\": \"06/17\", \"reporting_district\": \"Newton\", \"calls\": 1}, {\"monthday\": \"06/17\", \"reporting_district\": \"Northeast\", \"calls\": 3}, {\"monthday\": \"06/17\", \"reporting_district\": \"Olympic\", \"calls\": 5}, {\"monthday\": \"06/17\", \"reporting_district\": \"Pacific\", \"calls\": 1}, {\"monthday\": \"06/17\", \"reporting_district\": \"Rampart\", \"calls\": 2}, {\"monthday\": \"06/17\", \"reporting_district\": \"Southeast\", \"calls\": 5}, {\"monthday\": \"06/17\", \"reporting_district\": \"Southwest\", \"calls\": 5}, {\"monthday\": \"06/17\", \"reporting_district\": \"Topanga\", \"calls\": 2}, {\"monthday\": \"06/17\", \"reporting_district\": \"Van Nuys\", \"calls\": 6}, {\"monthday\": \"06/17\", \"reporting_district\": \"West Valley\", \"calls\": 2}, {\"monthday\": \"06/17\", \"reporting_district\": \"Wilshire\", \"calls\": 1}, {\"monthday\": \"06/18\", \"reporting_district\": \"77th Street\", \"calls\": 9}, {\"monthday\": \"06/18\", \"reporting_district\": \"Central\", \"calls\": 1}, {\"monthday\": \"06/18\", \"reporting_district\": \"Foothill\", \"calls\": 7}, {\"monthday\": \"06/18\", \"reporting_district\": \"Harbor\", \"calls\": 10}, {\"monthday\": \"06/18\", \"reporting_district\": \"Hollenbeck\", \"calls\": 7}, {\"monthday\": \"06/18\", \"reporting_district\": \"Hollywood\", \"calls\": 2}, {\"monthday\": \"06/18\", \"reporting_district\": \"Mission\", \"calls\": 7}, {\"monthday\": \"06/18\", \"reporting_district\": \"N Hollywood\", \"calls\": 4}, {\"monthday\": \"06/18\", \"reporting_district\": \"Newton\", \"calls\": 1}, {\"monthday\": \"06/18\", \"reporting_district\": \"Northeast\", \"calls\": 7}, {\"monthday\": \"06/18\", \"reporting_district\": \"Olympic\", \"calls\": 4}, {\"monthday\": \"06/18\", \"reporting_district\": \"Pacific\", \"calls\": 11}, {\"monthday\": \"06/18\", \"reporting_district\": \"Rampart\", \"calls\": 4}, {\"monthday\": \"06/18\", \"reporting_district\": \"Southeast\", \"calls\": 8}, {\"monthday\": \"06/18\", \"reporting_district\": \"Southwest\", \"calls\": 15}, {\"monthday\": \"06/18\", \"reporting_district\": \"Topanga\", \"calls\": 2}, {\"monthday\": \"06/18\", \"reporting_district\": \"Van Nuys\", \"calls\": 6}, {\"monthday\": \"06/18\", \"reporting_district\": \"West LA\", \"calls\": 2}, {\"monthday\": \"06/18\", \"reporting_district\": \"West Valley\", \"calls\": 5}, {\"monthday\": \"06/18\", \"reporting_district\": \"Wilshire\", \"calls\": 6}, {\"monthday\": \"06/19\", \"reporting_district\": \"77th Street\", \"calls\": 15}, {\"monthday\": \"06/19\", \"reporting_district\": \"Central\", \"calls\": 1}, {\"monthday\": \"06/19\", \"reporting_district\": \"Devonshire\", \"calls\": 7}, {\"monthday\": \"06/19\", \"reporting_district\": \"Foothill\", \"calls\": 6}, {\"monthday\": \"06/19\", \"reporting_district\": \"Harbor\", \"calls\": 14}, {\"monthday\": \"06/19\", \"reporting_district\": \"Hollenbeck\", \"calls\": 4}, {\"monthday\": \"06/19\", \"reporting_district\": \"Hollywood\", \"calls\": 6}, {\"monthday\": \"06/19\", \"reporting_district\": \"Mission\", \"calls\": 9}, {\"monthday\": \"06/19\", \"reporting_district\": \"N Hollywood\", \"calls\": 7}, {\"monthday\": \"06/19\", \"reporting_district\": \"Newton\", \"calls\": 3}, {\"monthday\": \"06/19\", \"reporting_district\": \"Northeast\", \"calls\": 13}, {\"monthday\": \"06/19\", \"reporting_district\": \"Olympic\", \"calls\": 5}, {\"monthday\": \"06/19\", \"reporting_district\": \"Pacific\", \"calls\": 5}, {\"monthday\": \"06/19\", \"reporting_district\": \"Rampart\", \"calls\": 1}, {\"monthday\": \"06/19\", \"reporting_district\": \"Southeast\", \"calls\": 8}, {\"monthday\": \"06/19\", \"reporting_district\": \"Southwest\", \"calls\": 26}, {\"monthday\": \"06/19\", \"reporting_district\": \"Topanga\", \"calls\": 8}, {\"monthday\": \"06/19\", \"reporting_district\": \"Van Nuys\", \"calls\": 7}, {\"monthday\": \"06/19\", \"reporting_district\": \"West Valley\", \"calls\": 7}, {\"monthday\": \"06/19\", \"reporting_district\": \"Wilshire\", \"calls\": 8}, {\"monthday\": \"06/20\", \"reporting_district\": \"77th Street\", \"calls\": 11}, {\"monthday\": \"06/20\", \"reporting_district\": \"Central\", \"calls\": 4}, {\"monthday\": \"06/20\", \"reporting_district\": \"Devonshire\", \"calls\": 16}, {\"monthday\": \"06/20\", \"reporting_district\": \"Foothill\", \"calls\": 24}, {\"monthday\": \"06/20\", \"reporting_district\": \"Harbor\", \"calls\": 28}, {\"monthday\": \"06/20\", \"reporting_district\": \"Hollenbeck\", \"calls\": 14}, {\"monthday\": \"06/20\", \"reporting_district\": \"Hollywood\", \"calls\": 10}, {\"monthday\": \"06/20\", \"reporting_district\": \"Mission\", \"calls\": 31}, {\"monthday\": \"06/20\", \"reporting_district\": \"N Hollywood\", \"calls\": 16}, {\"monthday\": \"06/20\", \"reporting_district\": \"Newton\", \"calls\": 6}, {\"monthday\": \"06/20\", \"reporting_district\": \"Northeast\", \"calls\": 14}, {\"monthday\": \"06/20\", \"reporting_district\": \"Olympic\", \"calls\": 14}, {\"monthday\": \"06/20\", \"reporting_district\": \"Pacific\", \"calls\": 11}, {\"monthday\": \"06/20\", \"reporting_district\": \"Rampart\", \"calls\": 14}, {\"monthday\": \"06/20\", \"reporting_district\": \"Southeast\", \"calls\": 9}, {\"monthday\": \"06/20\", \"reporting_district\": \"Southwest\", \"calls\": 25}, {\"monthday\": \"06/20\", \"reporting_district\": \"Topanga\", \"calls\": 16}, {\"monthday\": \"06/20\", \"reporting_district\": \"Van Nuys\", \"calls\": 6}, {\"monthday\": \"06/20\", \"reporting_district\": \"West Valley\", \"calls\": 12}, {\"monthday\": \"06/20\", \"reporting_district\": \"Wilshire\", \"calls\": 13}]}}, {\"mode\": \"vega-lite\"});\n",
       "</script>"
      ],
      "text/plain": [
       "alt.Chart(...)"
      ]
     },
     "execution_count": 262,
     "metadata": {},
     "output_type": "execute_result"
    }
   ],
   "source": [
    "chart = alt.Chart((this_year_fireworks))\\\n",
    "    .mark_bar(size=1,opacity=1, color='#B32F2E')\\\n",
    "    .encode(\n",
    "    x=alt.X('monthday:T', title=' ', axis=alt.Axis(grid=False, tickCount=3, format='%B')),\n",
    "    y=alt.Y('calls:Q', stack=None, title=' ', axis=alt.Axis(gridWidth=.6,\\\n",
    "     gridColor='#dddddd',offset=6,tickSize=0,domainOpacity=0,tickCount=4, format=''),\\\n",
    "           scale=alt.Scale(domain=(0, 30))),\n",
    "    facet=alt.Facet('reporting_district:O', columns=7, title='LAPD reporting district')\n",
    ").properties(width=100, height=100,\n",
    "     title='All fireworks calls to LAPD: 2020'\n",
    ")\n",
    "\n",
    "chart.configure_view(strokeOpacity=0).configure_legend(\n",
    "    orient='top',\n",
    "    symbolType='stroke'\n",
    ").configure_legend(symbolType='square')"
   ]
  },
  {
   "cell_type": "code",
   "execution_count": 232,
   "metadata": {},
   "outputs": [
    {
     "data": {
      "text/html": [
       "\n",
       "<div id=\"altair-viz-33e8077bdf8c4ead97626f2509117aaa\"></div>\n",
       "<script type=\"text/javascript\">\n",
       "  (function(spec, embedOpt){\n",
       "    const outputDiv = document.getElementById(\"altair-viz-33e8077bdf8c4ead97626f2509117aaa\");\n",
       "    const paths = {\n",
       "      \"vega\": \"https://cdn.jsdelivr.net/npm//vega@5?noext\",\n",
       "      \"vega-lib\": \"https://cdn.jsdelivr.net/npm//vega-lib?noext\",\n",
       "      \"vega-lite\": \"https://cdn.jsdelivr.net/npm//vega-lite@4.0.2?noext\",\n",
       "      \"vega-embed\": \"https://cdn.jsdelivr.net/npm//vega-embed@6?noext\",\n",
       "    };\n",
       "\n",
       "    function loadScript(lib) {\n",
       "      return new Promise(function(resolve, reject) {\n",
       "        var s = document.createElement('script');\n",
       "        s.src = paths[lib];\n",
       "        s.async = true;\n",
       "        s.onload = () => resolve(paths[lib]);\n",
       "        s.onerror = () => reject(`Error loading script: ${paths[lib]}`);\n",
       "        document.getElementsByTagName(\"head\")[0].appendChild(s);\n",
       "      });\n",
       "    }\n",
       "\n",
       "    function showError(err) {\n",
       "      outputDiv.innerHTML = `<div class=\"error\" style=\"color:red;\">${err}</div>`;\n",
       "      throw err;\n",
       "    }\n",
       "\n",
       "    function displayChart(vegaEmbed) {\n",
       "      vegaEmbed(outputDiv, spec, embedOpt)\n",
       "        .catch(err => showError(`Javascript Error: ${err.message}<br>This usually means there's a typo in your chart specification. See the javascript console for the full traceback.`));\n",
       "    }\n",
       "\n",
       "    if(typeof define === \"function\" && define.amd) {\n",
       "      requirejs.config({paths});\n",
       "      require([\"vega-embed\"], displayChart, err => showError(`Error loading script: ${err.message}`));\n",
       "    } else if (typeof vegaEmbed === \"function\") {\n",
       "      displayChart(vegaEmbed);\n",
       "    } else {\n",
       "      loadScript(\"vega\")\n",
       "        .then(() => loadScript(\"vega-lite\"))\n",
       "        .then(() => loadScript(\"vega-embed\"))\n",
       "        .catch(showError)\n",
       "        .then(() => displayChart(vegaEmbed));\n",
       "    }\n",
       "  })({\"config\": {\"view\": {\"width\": 800, \"height\": 450, \"strokeOpacity\": 0}, \"background\": \"#ffffff\", \"title\": {\"anchor\": \"start\", \"font\": \"Benton Gothic Bold, sans\", \"fontColor\": \"#000000\", \"fontSize\": 22, \"fontWeight\": \"normal\"}, \"arc\": {\"fill\": \"#82c6df\"}, \"area\": {\"fill\": \"#82c6df\"}, \"line\": {\"stroke\": \"#82c6df\", \"strokeWidth\": 3}, \"path\": {\"stroke\": \"#82c6df\"}, \"rect\": {\"fill\": \"#82c6df\"}, \"shape\": {\"stroke\": \"#82c6df\"}, \"bar\": {\"fill\": \"#82c6df\"}, \"point\": {\"stroke\": \"#82c6df\"}, \"symbol\": {\"fill\": \"#82c6df\", \"size\": 30}, \"axis\": {\"titleFont\": \"Benton Gothic Bold, sans\", \"titleFontSize\": 13, \"titleFontWeight\": \"normal\", \"labelFont\": \"Benton Gothic, sans\", \"labelFontSize\": 11.5, \"labelFontWeight\": \"normal\"}, \"axisX\": {\"labelAngle\": 0, \"labelPadding\": 4, \"tickSize\": 3}, \"axisY\": {\"labelBaseline\": \"middle\", \"maxExtent\": 45, \"minExtent\": 45, \"tickSize\": 2, \"titleAlign\": \"left\", \"titleAngle\": 0, \"titleX\": -45, \"titleY\": -11}, \"legend\": {\"titleFont\": \"Benton Gothic Bold, sans\", \"titleFontSize\": 13, \"titleFontWeight\": \"normal\", \"symbolType\": \"square\", \"labelFont\": \"Benton Gothic, sans\", \"labelFontSize\": 11.5}, \"range\": {\"category\": [\"#3580b1\", \"#ec8431\", \"#ab7fb4\", \"#c89d29\", \"#adc839\", \"#829eb1\"], \"diverging\": [\"#e68a4f\", \"#f4bb6a\", \"#f9e39c\", \"#dadfe2\", \"#a6b7c6\", \"#849eae\"], \"heatmap\": [\"#fbf2c7\", \"#f9e39c\", \"#f8d36e\", \"#f4bb6a\", \"#e68a4f\", \"#d15a40\", \"#ab4232\"], \"ordinal\": [\"#fbf2c7\", \"#f9e39c\", \"#f8d36e\", \"#f4bb6a\", \"#e68a4f\", \"#d15a40\", \"#ab4232\"], \"ramp\": [\"#fbf2c7\", \"#f9e39c\", \"#f8d36e\", \"#f4bb6a\", \"#e68a4f\", \"#d15a40\", \"#ab4232\"]}}, \"data\": {\"name\": \"data-6072b04a9ae011de970287bcae00c7d8\"}, \"mark\": {\"type\": \"bar\", \"color\": \"#B32F2E\", \"opacity\": 1, \"size\": 1}, \"encoding\": {\"facet\": {\"type\": \"ordinal\", \"columns\": 7, \"field\": \"reporting_district\", \"title\": \"LAPD reporting district\"}, \"x\": {\"type\": \"temporal\", \"axis\": {\"format\": \"%B\", \"grid\": false, \"tickCount\": 6}, \"field\": \"monthday\", \"title\": \" \"}, \"y\": {\"type\": \"quantitative\", \"axis\": {\"domainOpacity\": 0, \"format\": \"\", \"gridColor\": \"#dddddd\", \"gridWidth\": 0.6, \"offset\": 6, \"tickCount\": 4, \"tickSize\": 0}, \"field\": \"calls\", \"scale\": {\"domain\": [0, 300]}, \"stack\": null, \"title\": \" \"}}, \"height\": 100, \"title\": \"All fireworks calls to LAPD: 2020\", \"width\": 150, \"$schema\": \"https://vega.github.io/schema/vega-lite/v4.0.2.json\", \"datasets\": {\"data-6072b04a9ae011de970287bcae00c7d8\": [{\"monthday\": \"01/01\", \"reporting_district\": \"77th Street\", \"calls\": 226}, {\"monthday\": \"01/01\", \"reporting_district\": \"Central\", \"calls\": 168}, {\"monthday\": \"01/01\", \"reporting_district\": \"Devonshire\", \"calls\": 127}, {\"monthday\": \"01/01\", \"reporting_district\": \"Foothill\", \"calls\": 109}, {\"monthday\": \"01/01\", \"reporting_district\": \"Harbor\", \"calls\": 144}, {\"monthday\": \"01/01\", \"reporting_district\": \"Hollenbeck\", \"calls\": 138}, {\"monthday\": \"01/01\", \"reporting_district\": \"Hollywood\", \"calls\": 201}, {\"monthday\": \"01/01\", \"reporting_district\": \"Mission\", \"calls\": 173}, {\"monthday\": \"01/01\", \"reporting_district\": \"N Hollywood\", \"calls\": 141}, {\"monthday\": \"01/01\", \"reporting_district\": \"Newton\", \"calls\": 183}, {\"monthday\": \"01/01\", \"reporting_district\": \"Northeast\", \"calls\": 135}, {\"monthday\": \"01/01\", \"reporting_district\": \"Olympic\", \"calls\": 149}, {\"monthday\": \"01/01\", \"reporting_district\": \"Pacific\", \"calls\": 159}, {\"monthday\": \"01/01\", \"reporting_district\": \"Rampart\", \"calls\": 176}, {\"monthday\": \"01/01\", \"reporting_district\": \"Southeast\", \"calls\": 179}, {\"monthday\": \"01/01\", \"reporting_district\": \"Southwest\", \"calls\": 172}, {\"monthday\": \"01/01\", \"reporting_district\": \"Topanga\", \"calls\": 112}, {\"monthday\": \"01/01\", \"reporting_district\": \"Van Nuys\", \"calls\": 129}, {\"monthday\": \"01/01\", \"reporting_district\": \"West LA\", \"calls\": 127}, {\"monthday\": \"01/01\", \"reporting_district\": \"West Valley\", \"calls\": 128}, {\"monthday\": \"01/01\", \"reporting_district\": \"Wilshire\", \"calls\": 156}, {\"monthday\": \"01/02\", \"reporting_district\": \"77th Street\", \"calls\": 169}, {\"monthday\": \"01/02\", \"reporting_district\": \"Central\", \"calls\": 173}, {\"monthday\": \"01/02\", \"reporting_district\": \"Devonshire\", \"calls\": 117}, {\"monthday\": \"01/02\", \"reporting_district\": \"Foothill\", \"calls\": 104}, {\"monthday\": \"01/02\", \"reporting_district\": \"Harbor\", \"calls\": 106}, {\"monthday\": \"01/02\", \"reporting_district\": \"Hollenbeck\", \"calls\": 99}, {\"monthday\": \"01/02\", \"reporting_district\": \"Hollywood\", \"calls\": 137}, {\"monthday\": \"01/02\", \"reporting_district\": \"Mission\", \"calls\": 114}, {\"monthday\": \"01/02\", \"reporting_district\": \"N Hollywood\", \"calls\": 122}, {\"monthday\": \"01/02\", \"reporting_district\": \"Newton\", \"calls\": 123}, {\"monthday\": \"01/02\", \"reporting_district\": \"Northeast\", \"calls\": 100}, {\"monthday\": \"01/02\", \"reporting_district\": \"Olympic\", \"calls\": 141}, {\"monthday\": \"01/02\", \"reporting_district\": \"Pacific\", \"calls\": 144}, {\"monthday\": \"01/02\", \"reporting_district\": \"Rampart\", \"calls\": 89}, {\"monthday\": \"01/02\", \"reporting_district\": \"Southeast\", \"calls\": 137}, {\"monthday\": \"01/02\", \"reporting_district\": \"Southwest\", \"calls\": 149}, {\"monthday\": \"01/02\", \"reporting_district\": \"Topanga\", \"calls\": 120}, {\"monthday\": \"01/02\", \"reporting_district\": \"Van Nuys\", \"calls\": 124}, {\"monthday\": \"01/02\", \"reporting_district\": \"West LA\", \"calls\": 124}, {\"monthday\": \"01/02\", \"reporting_district\": \"West Valley\", \"calls\": 134}, {\"monthday\": \"01/02\", \"reporting_district\": \"Wilshire\", \"calls\": 113}, {\"monthday\": \"01/03\", \"reporting_district\": \"77th Street\", \"calls\": 179}, {\"monthday\": \"01/03\", \"reporting_district\": \"Central\", \"calls\": 139}, {\"monthday\": \"01/03\", \"reporting_district\": \"Devonshire\", \"calls\": 124}, {\"monthday\": \"01/03\", \"reporting_district\": \"Foothill\", \"calls\": 69}, {\"monthday\": \"01/03\", \"reporting_district\": \"Harbor\", \"calls\": 85}, {\"monthday\": \"01/03\", \"reporting_district\": \"Hollenbeck\", \"calls\": 98}, {\"monthday\": \"01/03\", \"reporting_district\": \"Hollywood\", \"calls\": 152}, {\"monthday\": \"01/03\", \"reporting_district\": \"Mission\", \"calls\": 118}, {\"monthday\": \"01/03\", \"reporting_district\": \"N Hollywood\", \"calls\": 128}, {\"monthday\": \"01/03\", \"reporting_district\": \"Newton\", \"calls\": 138}, {\"monthday\": \"01/03\", \"reporting_district\": \"Northeast\", \"calls\": 132}, {\"monthday\": \"01/03\", \"reporting_district\": \"Olympic\", \"calls\": 113}, {\"monthday\": \"01/03\", \"reporting_district\": \"Pacific\", \"calls\": 166}, {\"monthday\": \"01/03\", \"reporting_district\": \"Rampart\", \"calls\": 106}, {\"monthday\": \"01/03\", \"reporting_district\": \"Southeast\", \"calls\": 108}, {\"monthday\": \"01/03\", \"reporting_district\": \"Southwest\", \"calls\": 145}, {\"monthday\": \"01/03\", \"reporting_district\": \"Topanga\", \"calls\": 112}, {\"monthday\": \"01/03\", \"reporting_district\": \"Van Nuys\", \"calls\": 106}, {\"monthday\": \"01/03\", \"reporting_district\": \"West LA\", \"calls\": 145}, {\"monthday\": \"01/03\", \"reporting_district\": \"West Valley\", \"calls\": 107}, {\"monthday\": \"01/03\", \"reporting_district\": \"Wilshire\", \"calls\": 137}, {\"monthday\": \"01/04\", \"reporting_district\": \"77th Street\", \"calls\": 189}, {\"monthday\": \"01/04\", \"reporting_district\": \"Central\", \"calls\": 160}, {\"monthday\": \"01/04\", \"reporting_district\": \"Devonshire\", \"calls\": 110}, {\"monthday\": \"01/04\", \"reporting_district\": \"Foothill\", \"calls\": 126}, {\"monthday\": \"01/04\", \"reporting_district\": \"Harbor\", \"calls\": 110}, {\"monthday\": \"01/04\", \"reporting_district\": \"Hollenbeck\", \"calls\": 105}, {\"monthday\": \"01/04\", \"reporting_district\": \"Hollywood\", \"calls\": 151}, {\"monthday\": \"01/04\", \"reporting_district\": \"Mission\", \"calls\": 134}, {\"monthday\": \"01/04\", \"reporting_district\": \"N Hollywood\", \"calls\": 111}, {\"monthday\": \"01/04\", \"reporting_district\": \"Newton\", \"calls\": 148}, {\"monthday\": \"01/04\", \"reporting_district\": \"Northeast\", \"calls\": 107}, {\"monthday\": \"01/04\", \"reporting_district\": \"Olympic\", \"calls\": 117}, {\"monthday\": \"01/04\", \"reporting_district\": \"Pacific\", \"calls\": 159}, {\"monthday\": \"01/04\", \"reporting_district\": \"Rampart\", \"calls\": 131}, {\"monthday\": \"01/04\", \"reporting_district\": \"Southeast\", \"calls\": 125}, {\"monthday\": \"01/04\", \"reporting_district\": \"Southwest\", \"calls\": 125}, {\"monthday\": \"01/04\", \"reporting_district\": \"Topanga\", \"calls\": 122}, {\"monthday\": \"01/04\", \"reporting_district\": \"Van Nuys\", \"calls\": 137}, {\"monthday\": \"01/04\", \"reporting_district\": \"West LA\", \"calls\": 154}, {\"monthday\": \"01/04\", \"reporting_district\": \"West Valley\", \"calls\": 121}, {\"monthday\": \"01/04\", \"reporting_district\": \"Wilshire\", \"calls\": 134}, {\"monthday\": \"01/05\", \"reporting_district\": \"77th Street\", \"calls\": 181}, {\"monthday\": \"01/05\", \"reporting_district\": \"Central\", \"calls\": 128}, {\"monthday\": \"01/05\", \"reporting_district\": \"Devonshire\", \"calls\": 95}, {\"monthday\": \"01/05\", \"reporting_district\": \"Foothill\", \"calls\": 98}, {\"monthday\": \"01/05\", \"reporting_district\": \"Harbor\", \"calls\": 87}, {\"monthday\": \"01/05\", \"reporting_district\": \"Hollenbeck\", \"calls\": 101}, {\"monthday\": \"01/05\", \"reporting_district\": \"Hollywood\", \"calls\": 164}, {\"monthday\": \"01/05\", \"reporting_district\": \"Mission\", \"calls\": 107}, {\"monthday\": \"01/05\", \"reporting_district\": \"N Hollywood\", \"calls\": 115}, {\"monthday\": \"01/05\", \"reporting_district\": \"Newton\", \"calls\": 149}, {\"monthday\": \"01/05\", \"reporting_district\": \"Northeast\", \"calls\": 104}, {\"monthday\": \"01/05\", \"reporting_district\": \"Olympic\", \"calls\": 108}, {\"monthday\": \"01/05\", \"reporting_district\": \"Pacific\", \"calls\": 177}, {\"monthday\": \"01/05\", \"reporting_district\": \"Rampart\", \"calls\": 123}, {\"monthday\": \"01/05\", \"reporting_district\": \"Southeast\", \"calls\": 126}, {\"monthday\": \"01/05\", \"reporting_district\": \"Southwest\", \"calls\": 125}, {\"monthday\": \"01/05\", \"reporting_district\": \"Topanga\", \"calls\": 107}, {\"monthday\": \"01/05\", \"reporting_district\": \"Van Nuys\", \"calls\": 126}, {\"monthday\": \"01/05\", \"reporting_district\": \"West LA\", \"calls\": 125}, {\"monthday\": \"01/05\", \"reporting_district\": \"West Valley\", \"calls\": 125}, {\"monthday\": \"01/05\", \"reporting_district\": \"Wilshire\", \"calls\": 156}, {\"monthday\": \"01/06\", \"reporting_district\": \"77th Street\", \"calls\": 138}, {\"monthday\": \"01/06\", \"reporting_district\": \"Central\", \"calls\": 166}, {\"monthday\": \"01/06\", \"reporting_district\": \"Devonshire\", \"calls\": 93}, {\"monthday\": \"01/06\", \"reporting_district\": \"Foothill\", \"calls\": 96}, {\"monthday\": \"01/06\", \"reporting_district\": \"Harbor\", \"calls\": 111}, {\"monthday\": \"01/06\", \"reporting_district\": \"Hollenbeck\", \"calls\": 111}, {\"monthday\": \"01/06\", \"reporting_district\": \"Hollywood\", \"calls\": 181}, {\"monthday\": \"01/06\", \"reporting_district\": \"Mission\", \"calls\": 95}, {\"monthday\": \"01/06\", \"reporting_district\": \"N Hollywood\", \"calls\": 144}, {\"monthday\": \"01/06\", \"reporting_district\": \"Newton\", \"calls\": 135}, {\"monthday\": \"01/06\", \"reporting_district\": \"Northeast\", \"calls\": 115}, {\"monthday\": \"01/06\", \"reporting_district\": \"Olympic\", \"calls\": 103}, {\"monthday\": \"01/06\", \"reporting_district\": \"Pacific\", \"calls\": 157}, {\"monthday\": \"01/06\", \"reporting_district\": \"Rampart\", \"calls\": 115}, {\"monthday\": \"01/06\", \"reporting_district\": \"Southeast\", \"calls\": 109}, {\"monthday\": \"01/06\", \"reporting_district\": \"Southwest\", \"calls\": 124}, {\"monthday\": \"01/06\", \"reporting_district\": \"Topanga\", \"calls\": 124}, {\"monthday\": \"01/06\", \"reporting_district\": \"Van Nuys\", \"calls\": 124}, {\"monthday\": \"01/06\", \"reporting_district\": \"West LA\", \"calls\": 138}, {\"monthday\": \"01/06\", \"reporting_district\": \"West Valley\", \"calls\": 131}, {\"monthday\": \"01/06\", \"reporting_district\": \"Wilshire\", \"calls\": 134}, {\"monthday\": \"01/07\", \"reporting_district\": \"77th Street\", \"calls\": 186}, {\"monthday\": \"01/07\", \"reporting_district\": \"Central\", \"calls\": 170}, {\"monthday\": \"01/07\", \"reporting_district\": \"Devonshire\", \"calls\": 98}, {\"monthday\": \"01/07\", \"reporting_district\": \"Foothill\", \"calls\": 94}, {\"monthday\": \"01/07\", \"reporting_district\": \"Harbor\", \"calls\": 105}, {\"monthday\": \"01/07\", \"reporting_district\": \"Hollenbeck\", \"calls\": 71}, {\"monthday\": \"01/07\", \"reporting_district\": \"Hollywood\", \"calls\": 127}, {\"monthday\": \"01/07\", \"reporting_district\": \"Mission\", \"calls\": 97}, {\"monthday\": \"01/07\", \"reporting_district\": \"N Hollywood\", \"calls\": 131}, {\"monthday\": \"01/07\", \"reporting_district\": \"Newton\", \"calls\": 140}, {\"monthday\": \"01/07\", \"reporting_district\": \"Northeast\", \"calls\": 113}, {\"monthday\": \"01/07\", \"reporting_district\": \"Olympic\", \"calls\": 109}, {\"monthday\": \"01/07\", \"reporting_district\": \"Pacific\", \"calls\": 175}, {\"monthday\": \"01/07\", \"reporting_district\": \"Rampart\", \"calls\": 120}, {\"monthday\": \"01/07\", \"reporting_district\": \"Southeast\", \"calls\": 112}, {\"monthday\": \"01/07\", \"reporting_district\": \"Southwest\", \"calls\": 142}, {\"monthday\": \"01/07\", \"reporting_district\": \"Topanga\", \"calls\": 126}, {\"monthday\": \"01/07\", \"reporting_district\": \"Van Nuys\", \"calls\": 121}, {\"monthday\": \"01/07\", \"reporting_district\": \"West LA\", \"calls\": 117}, {\"monthday\": \"01/07\", \"reporting_district\": \"West Valley\", \"calls\": 116}, {\"monthday\": \"01/07\", \"reporting_district\": \"Wilshire\", \"calls\": 122}, {\"monthday\": \"01/08\", \"reporting_district\": \"77th Street\", \"calls\": 180}, {\"monthday\": \"01/08\", \"reporting_district\": \"Central\", \"calls\": 143}, {\"monthday\": \"01/08\", \"reporting_district\": \"Devonshire\", \"calls\": 102}, {\"monthday\": \"01/08\", \"reporting_district\": \"Foothill\", \"calls\": 92}, {\"monthday\": \"01/08\", \"reporting_district\": \"Harbor\", \"calls\": 98}, {\"monthday\": \"01/08\", \"reporting_district\": \"Hollenbeck\", \"calls\": 93}, {\"monthday\": \"01/08\", \"reporting_district\": \"Hollywood\", \"calls\": 156}, {\"monthday\": \"01/08\", \"reporting_district\": \"Mission\", \"calls\": 100}, {\"monthday\": \"01/08\", \"reporting_district\": \"N Hollywood\", \"calls\": 105}, {\"monthday\": \"01/08\", \"reporting_district\": \"Newton\", \"calls\": 128}, {\"monthday\": \"01/08\", \"reporting_district\": \"Northeast\", \"calls\": 134}, {\"monthday\": \"01/08\", \"reporting_district\": \"Olympic\", \"calls\": 130}, {\"monthday\": \"01/08\", \"reporting_district\": \"Pacific\", \"calls\": 168}, {\"monthday\": \"01/08\", \"reporting_district\": \"Rampart\", \"calls\": 123}, {\"monthday\": \"01/08\", \"reporting_district\": \"Southeast\", \"calls\": 103}, {\"monthday\": \"01/08\", \"reporting_district\": \"Southwest\", \"calls\": 138}, {\"monthday\": \"01/08\", \"reporting_district\": \"Topanga\", \"calls\": 103}, {\"monthday\": \"01/08\", \"reporting_district\": \"Van Nuys\", \"calls\": 143}, {\"monthday\": \"01/08\", \"reporting_district\": \"West LA\", \"calls\": 113}, {\"monthday\": \"01/08\", \"reporting_district\": \"West Valley\", \"calls\": 94}, {\"monthday\": \"01/08\", \"reporting_district\": \"Wilshire\", \"calls\": 147}, {\"monthday\": \"01/09\", \"reporting_district\": \"77th Street\", \"calls\": 148}, {\"monthday\": \"01/09\", \"reporting_district\": \"Central\", \"calls\": 146}, {\"monthday\": \"01/09\", \"reporting_district\": \"Devonshire\", \"calls\": 97}, {\"monthday\": \"01/09\", \"reporting_district\": \"Foothill\", \"calls\": 74}, {\"monthday\": \"01/09\", \"reporting_district\": \"Harbor\", \"calls\": 80}, {\"monthday\": \"01/09\", \"reporting_district\": \"Hollenbeck\", \"calls\": 96}, {\"monthday\": \"01/09\", \"reporting_district\": \"Hollywood\", \"calls\": 127}, {\"monthday\": \"01/09\", \"reporting_district\": \"Mission\", \"calls\": 109}, {\"monthday\": \"01/09\", \"reporting_district\": \"N Hollywood\", \"calls\": 109}, {\"monthday\": \"01/09\", \"reporting_district\": \"Newton\", \"calls\": 155}, {\"monthday\": \"01/09\", \"reporting_district\": \"Northeast\", \"calls\": 107}, {\"monthday\": \"01/09\", \"reporting_district\": \"Olympic\", \"calls\": 145}, {\"monthday\": \"01/09\", \"reporting_district\": \"Pacific\", \"calls\": 138}, {\"monthday\": \"01/09\", \"reporting_district\": \"Rampart\", \"calls\": 110}, {\"monthday\": \"01/09\", \"reporting_district\": \"Southeast\", \"calls\": 116}, {\"monthday\": \"01/09\", \"reporting_district\": \"Southwest\", \"calls\": 124}, {\"monthday\": \"01/09\", \"reporting_district\": \"Topanga\", \"calls\": 134}, {\"monthday\": \"01/09\", \"reporting_district\": \"Van Nuys\", \"calls\": 100}, {\"monthday\": \"01/09\", \"reporting_district\": \"West LA\", \"calls\": 152}, {\"monthday\": \"01/09\", \"reporting_district\": \"West Valley\", \"calls\": 119}, {\"monthday\": \"01/09\", \"reporting_district\": \"Wilshire\", \"calls\": 143}, {\"monthday\": \"01/10\", \"reporting_district\": \"77th Street\", \"calls\": 154}, {\"monthday\": \"01/10\", \"reporting_district\": \"Central\", \"calls\": 136}, {\"monthday\": \"01/10\", \"reporting_district\": \"Devonshire\", \"calls\": 103}, {\"monthday\": \"01/10\", \"reporting_district\": \"Foothill\", \"calls\": 108}, {\"monthday\": \"01/10\", \"reporting_district\": \"Harbor\", \"calls\": 96}, {\"monthday\": \"01/10\", \"reporting_district\": \"Hollenbeck\", \"calls\": 110}, {\"monthday\": \"01/10\", \"reporting_district\": \"Hollywood\", \"calls\": 179}, {\"monthday\": \"01/10\", \"reporting_district\": \"Mission\", \"calls\": 98}, {\"monthday\": \"01/10\", \"reporting_district\": \"N Hollywood\", \"calls\": 130}, {\"monthday\": \"01/10\", \"reporting_district\": \"Newton\", \"calls\": 130}, {\"monthday\": \"01/10\", \"reporting_district\": \"Northeast\", \"calls\": 111}, {\"monthday\": \"01/10\", \"reporting_district\": \"Olympic\", \"calls\": 131}, {\"monthday\": \"01/10\", \"reporting_district\": \"Pacific\", \"calls\": 178}, {\"monthday\": \"01/10\", \"reporting_district\": \"Rampart\", \"calls\": 122}, {\"monthday\": \"01/10\", \"reporting_district\": \"Southeast\", \"calls\": 151}, {\"monthday\": \"01/10\", \"reporting_district\": \"Southwest\", \"calls\": 120}, {\"monthday\": \"01/10\", \"reporting_district\": \"Topanga\", \"calls\": 132}, {\"monthday\": \"01/10\", \"reporting_district\": \"Van Nuys\", \"calls\": 114}, {\"monthday\": \"01/10\", \"reporting_district\": \"West LA\", \"calls\": 129}, {\"monthday\": \"01/10\", \"reporting_district\": \"West Valley\", \"calls\": 127}, {\"monthday\": \"01/10\", \"reporting_district\": \"Wilshire\", \"calls\": 214}, {\"monthday\": \"01/11\", \"reporting_district\": \"77th Street\", \"calls\": 170}, {\"monthday\": \"01/11\", \"reporting_district\": \"Central\", \"calls\": 160}, {\"monthday\": \"01/11\", \"reporting_district\": \"Devonshire\", \"calls\": 113}, {\"monthday\": \"01/11\", \"reporting_district\": \"Foothill\", \"calls\": 80}, {\"monthday\": \"01/11\", \"reporting_district\": \"Harbor\", \"calls\": 105}, {\"monthday\": \"01/11\", \"reporting_district\": \"Hollenbeck\", \"calls\": 126}, {\"monthday\": \"01/11\", \"reporting_district\": \"Hollywood\", \"calls\": 139}, {\"monthday\": \"01/11\", \"reporting_district\": \"Mission\", \"calls\": 122}, {\"monthday\": \"01/11\", \"reporting_district\": \"N Hollywood\", \"calls\": 118}, {\"monthday\": \"01/11\", \"reporting_district\": \"Newton\", \"calls\": 139}, {\"monthday\": \"01/11\", \"reporting_district\": \"Northeast\", \"calls\": 111}, {\"monthday\": \"01/11\", \"reporting_district\": \"Olympic\", \"calls\": 109}, {\"monthday\": \"01/11\", \"reporting_district\": \"Pacific\", \"calls\": 161}, {\"monthday\": \"01/11\", \"reporting_district\": \"Rampart\", \"calls\": 121}, {\"monthday\": \"01/11\", \"reporting_district\": \"Southeast\", \"calls\": 114}, {\"monthday\": \"01/11\", \"reporting_district\": \"Southwest\", \"calls\": 131}, {\"monthday\": \"01/11\", \"reporting_district\": \"Topanga\", \"calls\": 104}, {\"monthday\": \"01/11\", \"reporting_district\": \"Van Nuys\", \"calls\": 124}, {\"monthday\": \"01/11\", \"reporting_district\": \"West LA\", \"calls\": 145}, {\"monthday\": \"01/11\", \"reporting_district\": \"West Valley\", \"calls\": 100}, {\"monthday\": \"01/11\", \"reporting_district\": \"Wilshire\", \"calls\": 117}, {\"monthday\": \"01/12\", \"reporting_district\": \"77th Street\", \"calls\": 157}, {\"monthday\": \"01/12\", \"reporting_district\": \"Central\", \"calls\": 161}, {\"monthday\": \"01/12\", \"reporting_district\": \"Devonshire\", \"calls\": 90}, {\"monthday\": \"01/12\", \"reporting_district\": \"Foothill\", \"calls\": 107}, {\"monthday\": \"01/12\", \"reporting_district\": \"Harbor\", \"calls\": 116}, {\"monthday\": \"01/12\", \"reporting_district\": \"Hollenbeck\", \"calls\": 110}, {\"monthday\": \"01/12\", \"reporting_district\": \"Hollywood\", \"calls\": 136}, {\"monthday\": \"01/12\", \"reporting_district\": \"Mission\", \"calls\": 137}, {\"monthday\": \"01/12\", \"reporting_district\": \"N Hollywood\", \"calls\": 144}, {\"monthday\": \"01/12\", \"reporting_district\": \"Newton\", \"calls\": 147}, {\"monthday\": \"01/12\", \"reporting_district\": \"Northeast\", \"calls\": 146}, {\"monthday\": \"01/12\", \"reporting_district\": \"Olympic\", \"calls\": 93}, {\"monthday\": \"01/12\", \"reporting_district\": \"Pacific\", \"calls\": 173}, {\"monthday\": \"01/12\", \"reporting_district\": \"Rampart\", \"calls\": 98}, {\"monthday\": \"01/12\", \"reporting_district\": \"Southeast\", \"calls\": 139}, {\"monthday\": \"01/12\", \"reporting_district\": \"Southwest\", \"calls\": 119}, {\"monthday\": \"01/12\", \"reporting_district\": \"Topanga\", \"calls\": 105}, {\"monthday\": \"01/12\", \"reporting_district\": \"Van Nuys\", \"calls\": 109}, {\"monthday\": \"01/12\", \"reporting_district\": \"West LA\", \"calls\": 134}, {\"monthday\": \"01/12\", \"reporting_district\": \"West Valley\", \"calls\": 124}, {\"monthday\": \"01/12\", \"reporting_district\": \"Wilshire\", \"calls\": 136}, {\"monthday\": \"01/13\", \"reporting_district\": \"77th Street\", \"calls\": 143}, {\"monthday\": \"01/13\", \"reporting_district\": \"Central\", \"calls\": 169}, {\"monthday\": \"01/13\", \"reporting_district\": \"Devonshire\", \"calls\": 84}, {\"monthday\": \"01/13\", \"reporting_district\": \"Foothill\", \"calls\": 90}, {\"monthday\": \"01/13\", \"reporting_district\": \"Harbor\", \"calls\": 116}, {\"monthday\": \"01/13\", \"reporting_district\": \"Hollenbeck\", \"calls\": 104}, {\"monthday\": \"01/13\", \"reporting_district\": \"Hollywood\", \"calls\": 135}, {\"monthday\": \"01/13\", \"reporting_district\": \"Mission\", \"calls\": 95}, {\"monthday\": \"01/13\", \"reporting_district\": \"N Hollywood\", \"calls\": 136}, {\"monthday\": \"01/13\", \"reporting_district\": \"Newton\", \"calls\": 118}, {\"monthday\": \"01/13\", \"reporting_district\": \"Northeast\", \"calls\": 162}, {\"monthday\": \"01/13\", \"reporting_district\": \"Olympic\", \"calls\": 119}, {\"monthday\": \"01/13\", \"reporting_district\": \"Pacific\", \"calls\": 151}, {\"monthday\": \"01/13\", \"reporting_district\": \"Rampart\", \"calls\": 129}, {\"monthday\": \"01/13\", \"reporting_district\": \"Southeast\", \"calls\": 125}, {\"monthday\": \"01/13\", \"reporting_district\": \"Southwest\", \"calls\": 171}, {\"monthday\": \"01/13\", \"reporting_district\": \"Topanga\", \"calls\": 112}, {\"monthday\": \"01/13\", \"reporting_district\": \"Van Nuys\", \"calls\": 134}, {\"monthday\": \"01/13\", \"reporting_district\": \"West LA\", \"calls\": 124}, {\"monthday\": \"01/13\", \"reporting_district\": \"West Valley\", \"calls\": 117}, {\"monthday\": \"01/13\", \"reporting_district\": \"Wilshire\", \"calls\": 124}, {\"monthday\": \"01/14\", \"reporting_district\": \"77th Street\", \"calls\": 172}, {\"monthday\": \"01/14\", \"reporting_district\": \"Central\", \"calls\": 157}, {\"monthday\": \"01/14\", \"reporting_district\": \"Devonshire\", \"calls\": 86}, {\"monthday\": \"01/14\", \"reporting_district\": \"Foothill\", \"calls\": 86}, {\"monthday\": \"01/14\", \"reporting_district\": \"Harbor\", \"calls\": 85}, {\"monthday\": \"01/14\", \"reporting_district\": \"Hollenbeck\", \"calls\": 93}, {\"monthday\": \"01/14\", \"reporting_district\": \"Hollywood\", \"calls\": 118}, {\"monthday\": \"01/14\", \"reporting_district\": \"Mission\", \"calls\": 115}, {\"monthday\": \"01/14\", \"reporting_district\": \"N Hollywood\", \"calls\": 127}, {\"monthday\": \"01/14\", \"reporting_district\": \"Newton\", \"calls\": 132}, {\"monthday\": \"01/14\", \"reporting_district\": \"Northeast\", \"calls\": 105}, {\"monthday\": \"01/14\", \"reporting_district\": \"Olympic\", \"calls\": 120}, {\"monthday\": \"01/14\", \"reporting_district\": \"Pacific\", \"calls\": 138}, {\"monthday\": \"01/14\", \"reporting_district\": \"Rampart\", \"calls\": 105}, {\"monthday\": \"01/14\", \"reporting_district\": \"Southeast\", \"calls\": 119}, {\"monthday\": \"01/14\", \"reporting_district\": \"Southwest\", \"calls\": 152}, {\"monthday\": \"01/14\", \"reporting_district\": \"Topanga\", \"calls\": 103}, {\"monthday\": \"01/14\", \"reporting_district\": \"Van Nuys\", \"calls\": 111}, {\"monthday\": \"01/14\", \"reporting_district\": \"West LA\", \"calls\": 113}, {\"monthday\": \"01/14\", \"reporting_district\": \"West Valley\", \"calls\": 88}, {\"monthday\": \"01/14\", \"reporting_district\": \"Wilshire\", \"calls\": 119}, {\"monthday\": \"01/15\", \"reporting_district\": \"77th Street\", \"calls\": 155}, {\"monthday\": \"01/15\", \"reporting_district\": \"Central\", \"calls\": 163}, {\"monthday\": \"01/15\", \"reporting_district\": \"Devonshire\", \"calls\": 135}, {\"monthday\": \"01/15\", \"reporting_district\": \"Foothill\", \"calls\": 144}, {\"monthday\": \"01/15\", \"reporting_district\": \"Harbor\", \"calls\": 87}, {\"monthday\": \"01/15\", \"reporting_district\": \"Hollenbeck\", \"calls\": 86}, {\"monthday\": \"01/15\", \"reporting_district\": \"Hollywood\", \"calls\": 142}, {\"monthday\": \"01/15\", \"reporting_district\": \"Mission\", \"calls\": 119}, {\"monthday\": \"01/15\", \"reporting_district\": \"N Hollywood\", \"calls\": 119}, {\"monthday\": \"01/15\", \"reporting_district\": \"Newton\", \"calls\": 132}, {\"monthday\": \"01/15\", \"reporting_district\": \"Northeast\", \"calls\": 125}, {\"monthday\": \"01/15\", \"reporting_district\": \"Olympic\", \"calls\": 123}, {\"monthday\": \"01/15\", \"reporting_district\": \"Pacific\", \"calls\": 156}, {\"monthday\": \"01/15\", \"reporting_district\": \"Rampart\", \"calls\": 136}, {\"monthday\": \"01/15\", \"reporting_district\": \"Southeast\", \"calls\": 129}, {\"monthday\": \"01/15\", \"reporting_district\": \"Southwest\", \"calls\": 106}, {\"monthday\": \"01/15\", \"reporting_district\": \"Topanga\", \"calls\": 102}, {\"monthday\": \"01/15\", \"reporting_district\": \"Van Nuys\", \"calls\": 125}, {\"monthday\": \"01/15\", \"reporting_district\": \"West LA\", \"calls\": 143}, {\"monthday\": \"01/15\", \"reporting_district\": \"West Valley\", \"calls\": 116}, {\"monthday\": \"01/15\", \"reporting_district\": \"Wilshire\", \"calls\": 137}, {\"monthday\": \"01/16\", \"reporting_district\": \"77th Street\", \"calls\": 145}, {\"monthday\": \"01/16\", \"reporting_district\": \"Central\", \"calls\": 151}, {\"monthday\": \"01/16\", \"reporting_district\": \"Devonshire\", \"calls\": 95}, {\"monthday\": \"01/16\", \"reporting_district\": \"Foothill\", \"calls\": 99}, {\"monthday\": \"01/16\", \"reporting_district\": \"Harbor\", \"calls\": 105}, {\"monthday\": \"01/16\", \"reporting_district\": \"Hollenbeck\", \"calls\": 102}, {\"monthday\": \"01/16\", \"reporting_district\": \"Hollywood\", \"calls\": 172}, {\"monthday\": \"01/16\", \"reporting_district\": \"Mission\", \"calls\": 128}, {\"monthday\": \"01/16\", \"reporting_district\": \"N Hollywood\", \"calls\": 111}, {\"monthday\": \"01/16\", \"reporting_district\": \"Newton\", \"calls\": 138}, {\"monthday\": \"01/16\", \"reporting_district\": \"Northeast\", \"calls\": 123}, {\"monthday\": \"01/16\", \"reporting_district\": \"Olympic\", \"calls\": 123}, {\"monthday\": \"01/16\", \"reporting_district\": \"Pacific\", \"calls\": 126}, {\"monthday\": \"01/16\", \"reporting_district\": \"Rampart\", \"calls\": 164}, {\"monthday\": \"01/16\", \"reporting_district\": \"Southeast\", \"calls\": 154}, {\"monthday\": \"01/16\", \"reporting_district\": \"Southwest\", \"calls\": 114}, {\"monthday\": \"01/16\", \"reporting_district\": \"Topanga\", \"calls\": 113}, {\"monthday\": \"01/16\", \"reporting_district\": \"Van Nuys\", \"calls\": 95}, {\"monthday\": \"01/16\", \"reporting_district\": \"West LA\", \"calls\": 144}, {\"monthday\": \"01/16\", \"reporting_district\": \"West Valley\", \"calls\": 116}, {\"monthday\": \"01/16\", \"reporting_district\": \"Wilshire\", \"calls\": 133}, {\"monthday\": \"01/17\", \"reporting_district\": \"77th Street\", \"calls\": 181}, {\"monthday\": \"01/17\", \"reporting_district\": \"Central\", \"calls\": 183}, {\"monthday\": \"01/17\", \"reporting_district\": \"Devonshire\", \"calls\": 123}, {\"monthday\": \"01/17\", \"reporting_district\": \"Foothill\", \"calls\": 79}, {\"monthday\": \"01/17\", \"reporting_district\": \"Harbor\", \"calls\": 99}, {\"monthday\": \"01/17\", \"reporting_district\": \"Hollenbeck\", \"calls\": 111}, {\"monthday\": \"01/17\", \"reporting_district\": \"Hollywood\", \"calls\": 151}, {\"monthday\": \"01/17\", \"reporting_district\": \"Mission\", \"calls\": 135}, {\"monthday\": \"01/17\", \"reporting_district\": \"N Hollywood\", \"calls\": 131}, {\"monthday\": \"01/17\", \"reporting_district\": \"Newton\", \"calls\": 139}, {\"monthday\": \"01/17\", \"reporting_district\": \"Northeast\", \"calls\": 106}, {\"monthday\": \"01/17\", \"reporting_district\": \"Olympic\", \"calls\": 126}, {\"monthday\": \"01/17\", \"reporting_district\": \"Pacific\", \"calls\": 187}, {\"monthday\": \"01/17\", \"reporting_district\": \"Rampart\", \"calls\": 127}, {\"monthday\": \"01/17\", \"reporting_district\": \"Southeast\", \"calls\": 121}, {\"monthday\": \"01/17\", \"reporting_district\": \"Southwest\", \"calls\": 120}, {\"monthday\": \"01/17\", \"reporting_district\": \"Topanga\", \"calls\": 129}, {\"monthday\": \"01/17\", \"reporting_district\": \"Van Nuys\", \"calls\": 139}, {\"monthday\": \"01/17\", \"reporting_district\": \"West LA\", \"calls\": 130}, {\"monthday\": \"01/17\", \"reporting_district\": \"West Valley\", \"calls\": 134}, {\"monthday\": \"01/17\", \"reporting_district\": \"Wilshire\", \"calls\": 116}, {\"monthday\": \"01/18\", \"reporting_district\": \"77th Street\", \"calls\": 188}, {\"monthday\": \"01/18\", \"reporting_district\": \"Central\", \"calls\": 184}, {\"monthday\": \"01/18\", \"reporting_district\": \"Devonshire\", \"calls\": 109}, {\"monthday\": \"01/18\", \"reporting_district\": \"Foothill\", \"calls\": 128}, {\"monthday\": \"01/18\", \"reporting_district\": \"Harbor\", \"calls\": 111}, {\"monthday\": \"01/18\", \"reporting_district\": \"Hollenbeck\", \"calls\": 108}, {\"monthday\": \"01/18\", \"reporting_district\": \"Hollywood\", \"calls\": 160}, {\"monthday\": \"01/18\", \"reporting_district\": \"Mission\", \"calls\": 133}, {\"monthday\": \"01/18\", \"reporting_district\": \"N Hollywood\", \"calls\": 135}, {\"monthday\": \"01/18\", \"reporting_district\": \"Newton\", \"calls\": 142}, {\"monthday\": \"01/18\", \"reporting_district\": \"Northeast\", \"calls\": 106}, {\"monthday\": \"01/18\", \"reporting_district\": \"Olympic\", \"calls\": 106}, {\"monthday\": \"01/18\", \"reporting_district\": \"Pacific\", \"calls\": 140}, {\"monthday\": \"01/18\", \"reporting_district\": \"Rampart\", \"calls\": 124}, {\"monthday\": \"01/18\", \"reporting_district\": \"Southeast\", \"calls\": 114}, {\"monthday\": \"01/18\", \"reporting_district\": \"Southwest\", \"calls\": 151}, {\"monthday\": \"01/18\", \"reporting_district\": \"Topanga\", \"calls\": 112}, {\"monthday\": \"01/18\", \"reporting_district\": \"Van Nuys\", \"calls\": 122}, {\"monthday\": \"01/18\", \"reporting_district\": \"West LA\", \"calls\": 135}, {\"monthday\": \"01/18\", \"reporting_district\": \"West Valley\", \"calls\": 141}, {\"monthday\": \"01/18\", \"reporting_district\": \"Wilshire\", \"calls\": 155}, {\"monthday\": \"01/19\", \"reporting_district\": \"77th Street\", \"calls\": 242}, {\"monthday\": \"01/19\", \"reporting_district\": \"Central\", \"calls\": 182}, {\"monthday\": \"01/19\", \"reporting_district\": \"Devonshire\", \"calls\": 119}, {\"monthday\": \"01/19\", \"reporting_district\": \"Foothill\", \"calls\": 128}, {\"monthday\": \"01/19\", \"reporting_district\": \"Harbor\", \"calls\": 137}, {\"monthday\": \"01/19\", \"reporting_district\": \"Hollenbeck\", \"calls\": 143}, {\"monthday\": \"01/19\", \"reporting_district\": \"Hollywood\", \"calls\": 134}, {\"monthday\": \"01/19\", \"reporting_district\": \"Mission\", \"calls\": 142}, {\"monthday\": \"01/19\", \"reporting_district\": \"N Hollywood\", \"calls\": 162}, {\"monthday\": \"01/19\", \"reporting_district\": \"Newton\", \"calls\": 143}, {\"monthday\": \"01/19\", \"reporting_district\": \"Northeast\", \"calls\": 114}, {\"monthday\": \"01/19\", \"reporting_district\": \"Olympic\", \"calls\": 125}, {\"monthday\": \"01/19\", \"reporting_district\": \"Pacific\", \"calls\": 181}, {\"monthday\": \"01/19\", \"reporting_district\": \"Rampart\", \"calls\": 121}, {\"monthday\": \"01/19\", \"reporting_district\": \"Southeast\", \"calls\": 155}, {\"monthday\": \"01/19\", \"reporting_district\": \"Southwest\", \"calls\": 160}, {\"monthday\": \"01/19\", \"reporting_district\": \"Topanga\", \"calls\": 128}, {\"monthday\": \"01/19\", \"reporting_district\": \"Van Nuys\", \"calls\": 134}, {\"monthday\": \"01/19\", \"reporting_district\": \"West LA\", \"calls\": 118}, {\"monthday\": \"01/19\", \"reporting_district\": \"West Valley\", \"calls\": 117}, {\"monthday\": \"01/19\", \"reporting_district\": \"Wilshire\", \"calls\": 137}, {\"monthday\": \"01/20\", \"reporting_district\": \"77th Street\", \"calls\": 171}, {\"monthday\": \"01/20\", \"reporting_district\": \"Central\", \"calls\": 157}, {\"monthday\": \"01/20\", \"reporting_district\": \"Devonshire\", \"calls\": 102}, {\"monthday\": \"01/20\", \"reporting_district\": \"Foothill\", \"calls\": 105}, {\"monthday\": \"01/20\", \"reporting_district\": \"Harbor\", \"calls\": 93}, {\"monthday\": \"01/20\", \"reporting_district\": \"Hollenbeck\", \"calls\": 86}, {\"monthday\": \"01/20\", \"reporting_district\": \"Hollywood\", \"calls\": 147}, {\"monthday\": \"01/20\", \"reporting_district\": \"Mission\", \"calls\": 132}, {\"monthday\": \"01/20\", \"reporting_district\": \"N Hollywood\", \"calls\": 123}, {\"monthday\": \"01/20\", \"reporting_district\": \"Newton\", \"calls\": 140}, {\"monthday\": \"01/20\", \"reporting_district\": \"Northeast\", \"calls\": 128}, {\"monthday\": \"01/20\", \"reporting_district\": \"Olympic\", \"calls\": 129}, {\"monthday\": \"01/20\", \"reporting_district\": \"Pacific\", \"calls\": 155}, {\"monthday\": \"01/20\", \"reporting_district\": \"Rampart\", \"calls\": 132}, {\"monthday\": \"01/20\", \"reporting_district\": \"Southeast\", \"calls\": 158}, {\"monthday\": \"01/20\", \"reporting_district\": \"Southwest\", \"calls\": 150}, {\"monthday\": \"01/20\", \"reporting_district\": \"Topanga\", \"calls\": 103}, {\"monthday\": \"01/20\", \"reporting_district\": \"Van Nuys\", \"calls\": 120}, {\"monthday\": \"01/20\", \"reporting_district\": \"West LA\", \"calls\": 143}, {\"monthday\": \"01/20\", \"reporting_district\": \"West Valley\", \"calls\": 102}, {\"monthday\": \"01/20\", \"reporting_district\": \"Wilshire\", \"calls\": 162}, {\"monthday\": \"01/21\", \"reporting_district\": \"77th Street\", \"calls\": 206}, {\"monthday\": \"01/21\", \"reporting_district\": \"Central\", \"calls\": 154}, {\"monthday\": \"01/21\", \"reporting_district\": \"Devonshire\", \"calls\": 114}, {\"monthday\": \"01/21\", \"reporting_district\": \"Foothill\", \"calls\": 102}, {\"monthday\": \"01/21\", \"reporting_district\": \"Harbor\", \"calls\": 119}, {\"monthday\": \"01/21\", \"reporting_district\": \"Hollenbeck\", \"calls\": 109}, {\"monthday\": \"01/21\", \"reporting_district\": \"Hollywood\", \"calls\": 189}, {\"monthday\": \"01/21\", \"reporting_district\": \"Mission\", \"calls\": 130}, {\"monthday\": \"01/21\", \"reporting_district\": \"N Hollywood\", \"calls\": 136}, {\"monthday\": \"01/21\", \"reporting_district\": \"Newton\", \"calls\": 145}, {\"monthday\": \"01/21\", \"reporting_district\": \"Northeast\", \"calls\": 101}, {\"monthday\": \"01/21\", \"reporting_district\": \"Olympic\", \"calls\": 168}, {\"monthday\": \"01/21\", \"reporting_district\": \"Pacific\", \"calls\": 148}, {\"monthday\": \"01/21\", \"reporting_district\": \"Rampart\", \"calls\": 110}, {\"monthday\": \"01/21\", \"reporting_district\": \"Southeast\", \"calls\": 140}, {\"monthday\": \"01/21\", \"reporting_district\": \"Southwest\", \"calls\": 147}, {\"monthday\": \"01/21\", \"reporting_district\": \"Topanga\", \"calls\": 104}, {\"monthday\": \"01/21\", \"reporting_district\": \"Van Nuys\", \"calls\": 128}, {\"monthday\": \"01/21\", \"reporting_district\": \"West LA\", \"calls\": 140}, {\"monthday\": \"01/21\", \"reporting_district\": \"West Valley\", \"calls\": 116}, {\"monthday\": \"01/21\", \"reporting_district\": \"Wilshire\", \"calls\": 148}, {\"monthday\": \"01/22\", \"reporting_district\": \"77th Street\", \"calls\": 159}, {\"monthday\": \"01/22\", \"reporting_district\": \"Central\", \"calls\": 189}, {\"monthday\": \"01/22\", \"reporting_district\": \"Devonshire\", \"calls\": 110}, {\"monthday\": \"01/22\", \"reporting_district\": \"Foothill\", \"calls\": 167}, {\"monthday\": \"01/22\", \"reporting_district\": \"Harbor\", \"calls\": 96}, {\"monthday\": \"01/22\", \"reporting_district\": \"Hollenbeck\", \"calls\": 116}, {\"monthday\": \"01/22\", \"reporting_district\": \"Hollywood\", \"calls\": 149}, {\"monthday\": \"01/22\", \"reporting_district\": \"Mission\", \"calls\": 140}, {\"monthday\": \"01/22\", \"reporting_district\": \"N Hollywood\", \"calls\": 127}, {\"monthday\": \"01/22\", \"reporting_district\": \"Newton\", \"calls\": 137}, {\"monthday\": \"01/22\", \"reporting_district\": \"Northeast\", \"calls\": 134}, {\"monthday\": \"01/22\", \"reporting_district\": \"Olympic\", \"calls\": 136}, {\"monthday\": \"01/22\", \"reporting_district\": \"Pacific\", \"calls\": 158}, {\"monthday\": \"01/22\", \"reporting_district\": \"Rampart\", \"calls\": 118}, {\"monthday\": \"01/22\", \"reporting_district\": \"Southeast\", \"calls\": 118}, {\"monthday\": \"01/22\", \"reporting_district\": \"Southwest\", \"calls\": 137}, {\"monthday\": \"01/22\", \"reporting_district\": \"Topanga\", \"calls\": 109}, {\"monthday\": \"01/22\", \"reporting_district\": \"Van Nuys\", \"calls\": 143}, {\"monthday\": \"01/22\", \"reporting_district\": \"West LA\", \"calls\": 134}, {\"monthday\": \"01/22\", \"reporting_district\": \"West Valley\", \"calls\": 137}, {\"monthday\": \"01/22\", \"reporting_district\": \"Wilshire\", \"calls\": 121}, {\"monthday\": \"01/23\", \"reporting_district\": \"77th Street\", \"calls\": 161}, {\"monthday\": \"01/23\", \"reporting_district\": \"Central\", \"calls\": 183}, {\"monthday\": \"01/23\", \"reporting_district\": \"Devonshire\", \"calls\": 95}, {\"monthday\": \"01/23\", \"reporting_district\": \"Foothill\", \"calls\": 113}, {\"monthday\": \"01/23\", \"reporting_district\": \"Harbor\", \"calls\": 102}, {\"monthday\": \"01/23\", \"reporting_district\": \"Hollenbeck\", \"calls\": 99}, {\"monthday\": \"01/23\", \"reporting_district\": \"Hollywood\", \"calls\": 150}, {\"monthday\": \"01/23\", \"reporting_district\": \"Mission\", \"calls\": 141}, {\"monthday\": \"01/23\", \"reporting_district\": \"N Hollywood\", \"calls\": 131}, {\"monthday\": \"01/23\", \"reporting_district\": \"Newton\", \"calls\": 140}, {\"monthday\": \"01/23\", \"reporting_district\": \"Northeast\", \"calls\": 121}, {\"monthday\": \"01/23\", \"reporting_district\": \"Olympic\", \"calls\": 111}, {\"monthday\": \"01/23\", \"reporting_district\": \"Pacific\", \"calls\": 165}, {\"monthday\": \"01/23\", \"reporting_district\": \"Rampart\", \"calls\": 128}, {\"monthday\": \"01/23\", \"reporting_district\": \"Southeast\", \"calls\": 132}, {\"monthday\": \"01/23\", \"reporting_district\": \"Southwest\", \"calls\": 147}, {\"monthday\": \"01/23\", \"reporting_district\": \"Topanga\", \"calls\": 78}, {\"monthday\": \"01/23\", \"reporting_district\": \"Van Nuys\", \"calls\": 121}, {\"monthday\": \"01/23\", \"reporting_district\": \"West LA\", \"calls\": 141}, {\"monthday\": \"01/23\", \"reporting_district\": \"West Valley\", \"calls\": 115}, {\"monthday\": \"01/23\", \"reporting_district\": \"Wilshire\", \"calls\": 161}, {\"monthday\": \"01/24\", \"reporting_district\": \"77th Street\", \"calls\": 181}, {\"monthday\": \"01/24\", \"reporting_district\": \"Central\", \"calls\": 164}, {\"monthday\": \"01/24\", \"reporting_district\": \"Devonshire\", \"calls\": 134}, {\"monthday\": \"01/24\", \"reporting_district\": \"Foothill\", \"calls\": 120}, {\"monthday\": \"01/24\", \"reporting_district\": \"Harbor\", \"calls\": 121}, {\"monthday\": \"01/24\", \"reporting_district\": \"Hollenbeck\", \"calls\": 120}, {\"monthday\": \"01/24\", \"reporting_district\": \"Hollywood\", \"calls\": 148}, {\"monthday\": \"01/24\", \"reporting_district\": \"Mission\", \"calls\": 167}, {\"monthday\": \"01/24\", \"reporting_district\": \"N Hollywood\", \"calls\": 158}, {\"monthday\": \"01/24\", \"reporting_district\": \"Newton\", \"calls\": 159}, {\"monthday\": \"01/24\", \"reporting_district\": \"Northeast\", \"calls\": 114}, {\"monthday\": \"01/24\", \"reporting_district\": \"Olympic\", \"calls\": 127}, {\"monthday\": \"01/24\", \"reporting_district\": \"Pacific\", \"calls\": 174}, {\"monthday\": \"01/24\", \"reporting_district\": \"Rampart\", \"calls\": 138}, {\"monthday\": \"01/24\", \"reporting_district\": \"Southeast\", \"calls\": 131}, {\"monthday\": \"01/24\", \"reporting_district\": \"Southwest\", \"calls\": 136}, {\"monthday\": \"01/24\", \"reporting_district\": \"Topanga\", \"calls\": 109}, {\"monthday\": \"01/24\", \"reporting_district\": \"Van Nuys\", \"calls\": 120}, {\"monthday\": \"01/24\", \"reporting_district\": \"West LA\", \"calls\": 117}, {\"monthday\": \"01/24\", \"reporting_district\": \"West Valley\", \"calls\": 133}, {\"monthday\": \"01/24\", \"reporting_district\": \"Wilshire\", \"calls\": 163}, {\"monthday\": \"01/25\", \"reporting_district\": \"77th Street\", \"calls\": 184}, {\"monthday\": \"01/25\", \"reporting_district\": \"Central\", \"calls\": 154}, {\"monthday\": \"01/25\", \"reporting_district\": \"Devonshire\", \"calls\": 137}, {\"monthday\": \"01/25\", \"reporting_district\": \"Foothill\", \"calls\": 123}, {\"monthday\": \"01/25\", \"reporting_district\": \"Harbor\", \"calls\": 127}, {\"monthday\": \"01/25\", \"reporting_district\": \"Hollenbeck\", \"calls\": 154}, {\"monthday\": \"01/25\", \"reporting_district\": \"Hollywood\", \"calls\": 204}, {\"monthday\": \"01/25\", \"reporting_district\": \"Mission\", \"calls\": 128}, {\"monthday\": \"01/25\", \"reporting_district\": \"N Hollywood\", \"calls\": 129}, {\"monthday\": \"01/25\", \"reporting_district\": \"Newton\", \"calls\": 173}, {\"monthday\": \"01/25\", \"reporting_district\": \"Northeast\", \"calls\": 170}, {\"monthday\": \"01/25\", \"reporting_district\": \"Olympic\", \"calls\": 136}, {\"monthday\": \"01/25\", \"reporting_district\": \"Pacific\", \"calls\": 168}, {\"monthday\": \"01/25\", \"reporting_district\": \"Rampart\", \"calls\": 128}, {\"monthday\": \"01/25\", \"reporting_district\": \"Southeast\", \"calls\": 140}, {\"monthday\": \"01/25\", \"reporting_district\": \"Southwest\", \"calls\": 172}, {\"monthday\": \"01/25\", \"reporting_district\": \"Topanga\", \"calls\": 113}, {\"monthday\": \"01/25\", \"reporting_district\": \"Van Nuys\", \"calls\": 133}, {\"monthday\": \"01/25\", \"reporting_district\": \"West LA\", \"calls\": 138}, {\"monthday\": \"01/25\", \"reporting_district\": \"West Valley\", \"calls\": 132}, {\"monthday\": \"01/25\", \"reporting_district\": \"Wilshire\", \"calls\": 156}, {\"monthday\": \"01/26\", \"reporting_district\": \"77th Street\", \"calls\": 164}, {\"monthday\": \"01/26\", \"reporting_district\": \"Central\", \"calls\": 151}, {\"monthday\": \"01/26\", \"reporting_district\": \"Devonshire\", \"calls\": 106}, {\"monthday\": \"01/26\", \"reporting_district\": \"Foothill\", \"calls\": 95}, {\"monthday\": \"01/26\", \"reporting_district\": \"Harbor\", \"calls\": 111}, {\"monthday\": \"01/26\", \"reporting_district\": \"Hollenbeck\", \"calls\": 122}, {\"monthday\": \"01/26\", \"reporting_district\": \"Hollywood\", \"calls\": 157}, {\"monthday\": \"01/26\", \"reporting_district\": \"Mission\", \"calls\": 145}, {\"monthday\": \"01/26\", \"reporting_district\": \"N Hollywood\", \"calls\": 155}, {\"monthday\": \"01/26\", \"reporting_district\": \"Newton\", \"calls\": 148}, {\"monthday\": \"01/26\", \"reporting_district\": \"Northeast\", \"calls\": 148}, {\"monthday\": \"01/26\", \"reporting_district\": \"Olympic\", \"calls\": 155}, {\"monthday\": \"01/26\", \"reporting_district\": \"Pacific\", \"calls\": 183}, {\"monthday\": \"01/26\", \"reporting_district\": \"Rampart\", \"calls\": 164}, {\"monthday\": \"01/26\", \"reporting_district\": \"Southeast\", \"calls\": 142}, {\"monthday\": \"01/26\", \"reporting_district\": \"Southwest\", \"calls\": 165}, {\"monthday\": \"01/26\", \"reporting_district\": \"Topanga\", \"calls\": 145}, {\"monthday\": \"01/26\", \"reporting_district\": \"Van Nuys\", \"calls\": 135}, {\"monthday\": \"01/26\", \"reporting_district\": \"West LA\", \"calls\": 147}, {\"monthday\": \"01/26\", \"reporting_district\": \"West Valley\", \"calls\": 125}, {\"monthday\": \"01/26\", \"reporting_district\": \"Wilshire\", \"calls\": 176}, {\"monthday\": \"01/27\", \"reporting_district\": \"77th Street\", \"calls\": 192}, {\"monthday\": \"01/27\", \"reporting_district\": \"Central\", \"calls\": 158}, {\"monthday\": \"01/27\", \"reporting_district\": \"Devonshire\", \"calls\": 104}, {\"monthday\": \"01/27\", \"reporting_district\": \"Foothill\", \"calls\": 91}, {\"monthday\": \"01/27\", \"reporting_district\": \"Harbor\", \"calls\": 95}, {\"monthday\": \"01/27\", \"reporting_district\": \"Hollenbeck\", \"calls\": 88}, {\"monthday\": \"01/27\", \"reporting_district\": \"Hollywood\", \"calls\": 144}, {\"monthday\": \"01/27\", \"reporting_district\": \"Mission\", \"calls\": 129}, {\"monthday\": \"01/27\", \"reporting_district\": \"N Hollywood\", \"calls\": 101}, {\"monthday\": \"01/27\", \"reporting_district\": \"Newton\", \"calls\": 186}, {\"monthday\": \"01/27\", \"reporting_district\": \"Northeast\", \"calls\": 108}, {\"monthday\": \"01/27\", \"reporting_district\": \"Olympic\", \"calls\": 129}, {\"monthday\": \"01/27\", \"reporting_district\": \"Pacific\", \"calls\": 150}, {\"monthday\": \"01/27\", \"reporting_district\": \"Rampart\", \"calls\": 133}, {\"monthday\": \"01/27\", \"reporting_district\": \"Southeast\", \"calls\": 134}, {\"monthday\": \"01/27\", \"reporting_district\": \"Southwest\", \"calls\": 142}, {\"monthday\": \"01/27\", \"reporting_district\": \"Topanga\", \"calls\": 117}, {\"monthday\": \"01/27\", \"reporting_district\": \"Van Nuys\", \"calls\": 125}, {\"monthday\": \"01/27\", \"reporting_district\": \"West LA\", \"calls\": 131}, {\"monthday\": \"01/27\", \"reporting_district\": \"West Valley\", \"calls\": 90}, {\"monthday\": \"01/27\", \"reporting_district\": \"Wilshire\", \"calls\": 127}, {\"monthday\": \"01/28\", \"reporting_district\": \"77th Street\", \"calls\": 207}, {\"monthday\": \"01/28\", \"reporting_district\": \"Central\", \"calls\": 189}, {\"monthday\": \"01/28\", \"reporting_district\": \"Devonshire\", \"calls\": 124}, {\"monthday\": \"01/28\", \"reporting_district\": \"Foothill\", \"calls\": 99}, {\"monthday\": \"01/28\", \"reporting_district\": \"Harbor\", \"calls\": 113}, {\"monthday\": \"01/28\", \"reporting_district\": \"Hollenbeck\", \"calls\": 103}, {\"monthday\": \"01/28\", \"reporting_district\": \"Hollywood\", \"calls\": 149}, {\"monthday\": \"01/28\", \"reporting_district\": \"Mission\", \"calls\": 177}, {\"monthday\": \"01/28\", \"reporting_district\": \"N Hollywood\", \"calls\": 124}, {\"monthday\": \"01/28\", \"reporting_district\": \"Newton\", \"calls\": 124}, {\"monthday\": \"01/28\", \"reporting_district\": \"Northeast\", \"calls\": 118}, {\"monthday\": \"01/28\", \"reporting_district\": \"Olympic\", \"calls\": 112}, {\"monthday\": \"01/28\", \"reporting_district\": \"Pacific\", \"calls\": 129}, {\"monthday\": \"01/28\", \"reporting_district\": \"Rampart\", \"calls\": 131}, {\"monthday\": \"01/28\", \"reporting_district\": \"Southeast\", \"calls\": 95}, {\"monthday\": \"01/28\", \"reporting_district\": \"Southwest\", \"calls\": 104}, {\"monthday\": \"01/28\", \"reporting_district\": \"Topanga\", \"calls\": 107}, {\"monthday\": \"01/28\", \"reporting_district\": \"Van Nuys\", \"calls\": 131}, {\"monthday\": \"01/28\", \"reporting_district\": \"West LA\", \"calls\": 116}, {\"monthday\": \"01/28\", \"reporting_district\": \"West Valley\", \"calls\": 150}, {\"monthday\": \"01/28\", \"reporting_district\": \"Wilshire\", \"calls\": 182}, {\"monthday\": \"01/29\", \"reporting_district\": \"77th Street\", \"calls\": 178}, {\"monthday\": \"01/29\", \"reporting_district\": \"Central\", \"calls\": 141}, {\"monthday\": \"01/29\", \"reporting_district\": \"Devonshire\", \"calls\": 184}, {\"monthday\": \"01/29\", \"reporting_district\": \"Foothill\", \"calls\": 123}, {\"monthday\": \"01/29\", \"reporting_district\": \"Harbor\", \"calls\": 98}, {\"monthday\": \"01/29\", \"reporting_district\": \"Hollenbeck\", \"calls\": 106}, {\"monthday\": \"01/29\", \"reporting_district\": \"Hollywood\", \"calls\": 172}, {\"monthday\": \"01/29\", \"reporting_district\": \"Mission\", \"calls\": 135}, {\"monthday\": \"01/29\", \"reporting_district\": \"N Hollywood\", \"calls\": 146}, {\"monthday\": \"01/29\", \"reporting_district\": \"Newton\", \"calls\": 145}, {\"monthday\": \"01/29\", \"reporting_district\": \"Northeast\", \"calls\": 143}, {\"monthday\": \"01/29\", \"reporting_district\": \"Olympic\", \"calls\": 144}, {\"monthday\": \"01/29\", \"reporting_district\": \"Pacific\", \"calls\": 169}, {\"monthday\": \"01/29\", \"reporting_district\": \"Rampart\", \"calls\": 124}, {\"monthday\": \"01/29\", \"reporting_district\": \"Southeast\", \"calls\": 137}, {\"monthday\": \"01/29\", \"reporting_district\": \"Southwest\", \"calls\": 145}, {\"monthday\": \"01/29\", \"reporting_district\": \"Topanga\", \"calls\": 128}, {\"monthday\": \"01/29\", \"reporting_district\": \"Van Nuys\", \"calls\": 108}, {\"monthday\": \"01/29\", \"reporting_district\": \"West LA\", \"calls\": 115}, {\"monthday\": \"01/29\", \"reporting_district\": \"West Valley\", \"calls\": 157}, {\"monthday\": \"01/29\", \"reporting_district\": \"Wilshire\", \"calls\": 154}, {\"monthday\": \"01/30\", \"reporting_district\": \"77th Street\", \"calls\": 178}, {\"monthday\": \"01/30\", \"reporting_district\": \"Central\", \"calls\": 183}, {\"monthday\": \"01/30\", \"reporting_district\": \"Devonshire\", \"calls\": 119}, {\"monthday\": \"01/30\", \"reporting_district\": \"Foothill\", \"calls\": 136}, {\"monthday\": \"01/30\", \"reporting_district\": \"Harbor\", \"calls\": 120}, {\"monthday\": \"01/30\", \"reporting_district\": \"Hollenbeck\", \"calls\": 95}, {\"monthday\": \"01/30\", \"reporting_district\": \"Hollywood\", \"calls\": 152}, {\"monthday\": \"01/30\", \"reporting_district\": \"Mission\", \"calls\": 135}, {\"monthday\": \"01/30\", \"reporting_district\": \"N Hollywood\", \"calls\": 147}, {\"monthday\": \"01/30\", \"reporting_district\": \"Newton\", \"calls\": 131}, {\"monthday\": \"01/30\", \"reporting_district\": \"Northeast\", \"calls\": 108}, {\"monthday\": \"01/30\", \"reporting_district\": \"Olympic\", \"calls\": 129}, {\"monthday\": \"01/30\", \"reporting_district\": \"Pacific\", \"calls\": 176}, {\"monthday\": \"01/30\", \"reporting_district\": \"Rampart\", \"calls\": 110}, {\"monthday\": \"01/30\", \"reporting_district\": \"Southeast\", \"calls\": 108}, {\"monthday\": \"01/30\", \"reporting_district\": \"Southwest\", \"calls\": 135}, {\"monthday\": \"01/30\", \"reporting_district\": \"Topanga\", \"calls\": 108}, {\"monthday\": \"01/30\", \"reporting_district\": \"Van Nuys\", \"calls\": 137}, {\"monthday\": \"01/30\", \"reporting_district\": \"West LA\", \"calls\": 114}, {\"monthday\": \"01/30\", \"reporting_district\": \"West Valley\", \"calls\": 116}, {\"monthday\": \"01/30\", \"reporting_district\": \"Wilshire\", \"calls\": 137}, {\"monthday\": \"01/31\", \"reporting_district\": \"77th Street\", \"calls\": 171}, {\"monthday\": \"01/31\", \"reporting_district\": \"Central\", \"calls\": 169}, {\"monthday\": \"01/31\", \"reporting_district\": \"Devonshire\", \"calls\": 112}, {\"monthday\": \"01/31\", \"reporting_district\": \"Foothill\", \"calls\": 107}, {\"monthday\": \"01/31\", \"reporting_district\": \"Harbor\", \"calls\": 104}, {\"monthday\": \"01/31\", \"reporting_district\": \"Hollenbeck\", \"calls\": 104}, {\"monthday\": \"01/31\", \"reporting_district\": \"Hollywood\", \"calls\": 173}, {\"monthday\": \"01/31\", \"reporting_district\": \"Mission\", \"calls\": 128}, {\"monthday\": \"01/31\", \"reporting_district\": \"N Hollywood\", \"calls\": 152}, {\"monthday\": \"01/31\", \"reporting_district\": \"Newton\", \"calls\": 161}, {\"monthday\": \"01/31\", \"reporting_district\": \"Northeast\", \"calls\": 94}, {\"monthday\": \"01/31\", \"reporting_district\": \"Olympic\", \"calls\": 161}, {\"monthday\": \"01/31\", \"reporting_district\": \"Pacific\", \"calls\": 185}, {\"monthday\": \"01/31\", \"reporting_district\": \"Rampart\", \"calls\": 126}, {\"monthday\": \"01/31\", \"reporting_district\": \"Southeast\", \"calls\": 128}, {\"monthday\": \"01/31\", \"reporting_district\": \"Southwest\", \"calls\": 146}, {\"monthday\": \"01/31\", \"reporting_district\": \"Topanga\", \"calls\": 147}, {\"monthday\": \"01/31\", \"reporting_district\": \"Van Nuys\", \"calls\": 129}, {\"monthday\": \"01/31\", \"reporting_district\": \"West LA\", \"calls\": 172}, {\"monthday\": \"01/31\", \"reporting_district\": \"West Valley\", \"calls\": 160}, {\"monthday\": \"01/31\", \"reporting_district\": \"Wilshire\", \"calls\": 193}, {\"monthday\": \"02/01\", \"reporting_district\": \"77th Street\", \"calls\": 191}, {\"monthday\": \"02/01\", \"reporting_district\": \"Central\", \"calls\": 182}, {\"monthday\": \"02/01\", \"reporting_district\": \"Devonshire\", \"calls\": 118}, {\"monthday\": \"02/01\", \"reporting_district\": \"Foothill\", \"calls\": 130}, {\"monthday\": \"02/01\", \"reporting_district\": \"Harbor\", \"calls\": 102}, {\"monthday\": \"02/01\", \"reporting_district\": \"Hollenbeck\", \"calls\": 114}, {\"monthday\": \"02/01\", \"reporting_district\": \"Hollywood\", \"calls\": 168}, {\"monthday\": \"02/01\", \"reporting_district\": \"Mission\", \"calls\": 149}, {\"monthday\": \"02/01\", \"reporting_district\": \"N Hollywood\", \"calls\": 177}, {\"monthday\": \"02/01\", \"reporting_district\": \"Newton\", \"calls\": 191}, {\"monthday\": \"02/01\", \"reporting_district\": \"Northeast\", \"calls\": 132}, {\"monthday\": \"02/01\", \"reporting_district\": \"Olympic\", \"calls\": 164}, {\"monthday\": \"02/01\", \"reporting_district\": \"Pacific\", \"calls\": 182}, {\"monthday\": \"02/01\", \"reporting_district\": \"Rampart\", \"calls\": 130}, {\"monthday\": \"02/01\", \"reporting_district\": \"Southeast\", \"calls\": 154}, {\"monthday\": \"02/01\", \"reporting_district\": \"Southwest\", \"calls\": 147}, {\"monthday\": \"02/01\", \"reporting_district\": \"Topanga\", \"calls\": 117}, {\"monthday\": \"02/01\", \"reporting_district\": \"Van Nuys\", \"calls\": 117}, {\"monthday\": \"02/01\", \"reporting_district\": \"West LA\", \"calls\": 150}, {\"monthday\": \"02/01\", \"reporting_district\": \"West Valley\", \"calls\": 143}, {\"monthday\": \"02/01\", \"reporting_district\": \"Wilshire\", \"calls\": 148}, {\"monthday\": \"02/02\", \"reporting_district\": \"77th Street\", \"calls\": 174}, {\"monthday\": \"02/02\", \"reporting_district\": \"Central\", \"calls\": 169}, {\"monthday\": \"02/02\", \"reporting_district\": \"Devonshire\", \"calls\": 112}, {\"monthday\": \"02/02\", \"reporting_district\": \"Foothill\", \"calls\": 115}, {\"monthday\": \"02/02\", \"reporting_district\": \"Harbor\", \"calls\": 124}, {\"monthday\": \"02/02\", \"reporting_district\": \"Hollenbeck\", \"calls\": 140}, {\"monthday\": \"02/02\", \"reporting_district\": \"Hollywood\", \"calls\": 192}, {\"monthday\": \"02/02\", \"reporting_district\": \"Mission\", \"calls\": 148}, {\"monthday\": \"02/02\", \"reporting_district\": \"N Hollywood\", \"calls\": 155}, {\"monthday\": \"02/02\", \"reporting_district\": \"Newton\", \"calls\": 172}, {\"monthday\": \"02/02\", \"reporting_district\": \"Northeast\", \"calls\": 121}, {\"monthday\": \"02/02\", \"reporting_district\": \"Olympic\", \"calls\": 134}, {\"monthday\": \"02/02\", \"reporting_district\": \"Pacific\", \"calls\": 183}, {\"monthday\": \"02/02\", \"reporting_district\": \"Rampart\", \"calls\": 143}, {\"monthday\": \"02/02\", \"reporting_district\": \"Southeast\", \"calls\": 152}, {\"monthday\": \"02/02\", \"reporting_district\": \"Southwest\", \"calls\": 171}, {\"monthday\": \"02/02\", \"reporting_district\": \"Topanga\", \"calls\": 114}, {\"monthday\": \"02/02\", \"reporting_district\": \"Van Nuys\", \"calls\": 139}, {\"monthday\": \"02/02\", \"reporting_district\": \"West LA\", \"calls\": 147}, {\"monthday\": \"02/02\", \"reporting_district\": \"West Valley\", \"calls\": 124}, {\"monthday\": \"02/02\", \"reporting_district\": \"Wilshire\", \"calls\": 165}, {\"monthday\": \"02/03\", \"reporting_district\": \"77th Street\", \"calls\": 154}, {\"monthday\": \"02/03\", \"reporting_district\": \"Central\", \"calls\": 166}, {\"monthday\": \"02/03\", \"reporting_district\": \"Devonshire\", \"calls\": 103}, {\"monthday\": \"02/03\", \"reporting_district\": \"Foothill\", \"calls\": 119}, {\"monthday\": \"02/03\", \"reporting_district\": \"Harbor\", \"calls\": 108}, {\"monthday\": \"02/03\", \"reporting_district\": \"Hollenbeck\", \"calls\": 131}, {\"monthday\": \"02/03\", \"reporting_district\": \"Hollywood\", \"calls\": 157}, {\"monthday\": \"02/03\", \"reporting_district\": \"Mission\", \"calls\": 139}, {\"monthday\": \"02/03\", \"reporting_district\": \"N Hollywood\", \"calls\": 125}, {\"monthday\": \"02/03\", \"reporting_district\": \"Newton\", \"calls\": 141}, {\"monthday\": \"02/03\", \"reporting_district\": \"Northeast\", \"calls\": 123}, {\"monthday\": \"02/03\", \"reporting_district\": \"Olympic\", \"calls\": 145}, {\"monthday\": \"02/03\", \"reporting_district\": \"Pacific\", \"calls\": 189}, {\"monthday\": \"02/03\", \"reporting_district\": \"Rampart\", \"calls\": 113}, {\"monthday\": \"02/03\", \"reporting_district\": \"Southeast\", \"calls\": 140}, {\"monthday\": \"02/03\", \"reporting_district\": \"Southwest\", \"calls\": 128}, {\"monthday\": \"02/03\", \"reporting_district\": \"Topanga\", \"calls\": 132}, {\"monthday\": \"02/03\", \"reporting_district\": \"Van Nuys\", \"calls\": 119}, {\"monthday\": \"02/03\", \"reporting_district\": \"West LA\", \"calls\": 172}, {\"monthday\": \"02/03\", \"reporting_district\": \"West Valley\", \"calls\": 129}, {\"monthday\": \"02/03\", \"reporting_district\": \"Wilshire\", \"calls\": 180}, {\"monthday\": \"02/04\", \"reporting_district\": \"77th Street\", \"calls\": 154}, {\"monthday\": \"02/04\", \"reporting_district\": \"Central\", \"calls\": 143}, {\"monthday\": \"02/04\", \"reporting_district\": \"Devonshire\", \"calls\": 113}, {\"monthday\": \"02/04\", \"reporting_district\": \"Foothill\", \"calls\": 121}, {\"monthday\": \"02/04\", \"reporting_district\": \"Harbor\", \"calls\": 99}, {\"monthday\": \"02/04\", \"reporting_district\": \"Hollenbeck\", \"calls\": 98}, {\"monthday\": \"02/04\", \"reporting_district\": \"Hollywood\", \"calls\": 120}, {\"monthday\": \"02/04\", \"reporting_district\": \"Mission\", \"calls\": 108}, {\"monthday\": \"02/04\", \"reporting_district\": \"N Hollywood\", \"calls\": 127}, {\"monthday\": \"02/04\", \"reporting_district\": \"Newton\", \"calls\": 126}, {\"monthday\": \"02/04\", \"reporting_district\": \"Northeast\", \"calls\": 110}, {\"monthday\": \"02/04\", \"reporting_district\": \"Olympic\", \"calls\": 88}, {\"monthday\": \"02/04\", \"reporting_district\": \"Pacific\", \"calls\": 137}, {\"monthday\": \"02/04\", \"reporting_district\": \"Rampart\", \"calls\": 128}, {\"monthday\": \"02/04\", \"reporting_district\": \"Southeast\", \"calls\": 125}, {\"monthday\": \"02/04\", \"reporting_district\": \"Southwest\", \"calls\": 154}, {\"monthday\": \"02/04\", \"reporting_district\": \"Topanga\", \"calls\": 133}, {\"monthday\": \"02/04\", \"reporting_district\": \"Van Nuys\", \"calls\": 131}, {\"monthday\": \"02/04\", \"reporting_district\": \"West LA\", \"calls\": 119}, {\"monthday\": \"02/04\", \"reporting_district\": \"West Valley\", \"calls\": 118}, {\"monthday\": \"02/04\", \"reporting_district\": \"Wilshire\", \"calls\": 124}, {\"monthday\": \"02/05\", \"reporting_district\": \"77th Street\", \"calls\": 177}, {\"monthday\": \"02/05\", \"reporting_district\": \"Central\", \"calls\": 196}, {\"monthday\": \"02/05\", \"reporting_district\": \"Devonshire\", \"calls\": 99}, {\"monthday\": \"02/05\", \"reporting_district\": \"Foothill\", \"calls\": 88}, {\"monthday\": \"02/05\", \"reporting_district\": \"Harbor\", \"calls\": 86}, {\"monthday\": \"02/05\", \"reporting_district\": \"Hollenbeck\", \"calls\": 106}, {\"monthday\": \"02/05\", \"reporting_district\": \"Hollywood\", \"calls\": 143}, {\"monthday\": \"02/05\", \"reporting_district\": \"Mission\", \"calls\": 99}, {\"monthday\": \"02/05\", \"reporting_district\": \"N Hollywood\", \"calls\": 128}, {\"monthday\": \"02/05\", \"reporting_district\": \"Newton\", \"calls\": 137}, {\"monthday\": \"02/05\", \"reporting_district\": \"Northeast\", \"calls\": 101}, {\"monthday\": \"02/05\", \"reporting_district\": \"Olympic\", \"calls\": 115}, {\"monthday\": \"02/05\", \"reporting_district\": \"Pacific\", \"calls\": 171}, {\"monthday\": \"02/05\", \"reporting_district\": \"Rampart\", \"calls\": 101}, {\"monthday\": \"02/05\", \"reporting_district\": \"Southeast\", \"calls\": 148}, {\"monthday\": \"02/05\", \"reporting_district\": \"Southwest\", \"calls\": 173}, {\"monthday\": \"02/05\", \"reporting_district\": \"Topanga\", \"calls\": 102}, {\"monthday\": \"02/05\", \"reporting_district\": \"Van Nuys\", \"calls\": 110}, {\"monthday\": \"02/05\", \"reporting_district\": \"West LA\", \"calls\": 86}, {\"monthday\": \"02/05\", \"reporting_district\": \"West Valley\", \"calls\": 125}, {\"monthday\": \"02/05\", \"reporting_district\": \"Wilshire\", \"calls\": 132}, {\"monthday\": \"02/06\", \"reporting_district\": \"77th Street\", \"calls\": 176}, {\"monthday\": \"02/06\", \"reporting_district\": \"Central\", \"calls\": 188}, {\"monthday\": \"02/06\", \"reporting_district\": \"Devonshire\", \"calls\": 102}, {\"monthday\": \"02/06\", \"reporting_district\": \"Foothill\", \"calls\": 126}, {\"monthday\": \"02/06\", \"reporting_district\": \"Harbor\", \"calls\": 119}, {\"monthday\": \"02/06\", \"reporting_district\": \"Hollenbeck\", \"calls\": 124}, {\"monthday\": \"02/06\", \"reporting_district\": \"Hollywood\", \"calls\": 176}, {\"monthday\": \"02/06\", \"reporting_district\": \"Mission\", \"calls\": 132}, {\"monthday\": \"02/06\", \"reporting_district\": \"N Hollywood\", \"calls\": 122}, {\"monthday\": \"02/06\", \"reporting_district\": \"Newton\", \"calls\": 126}, {\"monthday\": \"02/06\", \"reporting_district\": \"Northeast\", \"calls\": 115}, {\"monthday\": \"02/06\", \"reporting_district\": \"Olympic\", \"calls\": 124}, {\"monthday\": \"02/06\", \"reporting_district\": \"Pacific\", \"calls\": 170}, {\"monthday\": \"02/06\", \"reporting_district\": \"Rampart\", \"calls\": 140}, {\"monthday\": \"02/06\", \"reporting_district\": \"Southeast\", \"calls\": 148}, {\"monthday\": \"02/06\", \"reporting_district\": \"Southwest\", \"calls\": 153}, {\"monthday\": \"02/06\", \"reporting_district\": \"Topanga\", \"calls\": 152}, {\"monthday\": \"02/06\", \"reporting_district\": \"Van Nuys\", \"calls\": 94}, {\"monthday\": \"02/06\", \"reporting_district\": \"West LA\", \"calls\": 127}, {\"monthday\": \"02/06\", \"reporting_district\": \"West Valley\", \"calls\": 133}, {\"monthday\": \"02/06\", \"reporting_district\": \"Wilshire\", \"calls\": 146}, {\"monthday\": \"02/07\", \"reporting_district\": \"77th Street\", \"calls\": 196}, {\"monthday\": \"02/07\", \"reporting_district\": \"Central\", \"calls\": 175}, {\"monthday\": \"02/07\", \"reporting_district\": \"Devonshire\", \"calls\": 115}, {\"monthday\": \"02/07\", \"reporting_district\": \"Foothill\", \"calls\": 113}, {\"monthday\": \"02/07\", \"reporting_district\": \"Harbor\", \"calls\": 113}, {\"monthday\": \"02/07\", \"reporting_district\": \"Hollenbeck\", \"calls\": 119}, {\"monthday\": \"02/07\", \"reporting_district\": \"Hollywood\", \"calls\": 148}, {\"monthday\": \"02/07\", \"reporting_district\": \"Mission\", \"calls\": 138}, {\"monthday\": \"02/07\", \"reporting_district\": \"N Hollywood\", \"calls\": 144}, {\"monthday\": \"02/07\", \"reporting_district\": \"Newton\", \"calls\": 143}, {\"monthday\": \"02/07\", \"reporting_district\": \"Northeast\", \"calls\": 140}, {\"monthday\": \"02/07\", \"reporting_district\": \"Olympic\", \"calls\": 156}, {\"monthday\": \"02/07\", \"reporting_district\": \"Pacific\", \"calls\": 180}, {\"monthday\": \"02/07\", \"reporting_district\": \"Rampart\", \"calls\": 143}, {\"monthday\": \"02/07\", \"reporting_district\": \"Southeast\", \"calls\": 145}, {\"monthday\": \"02/07\", \"reporting_district\": \"Southwest\", \"calls\": 132}, {\"monthday\": \"02/07\", \"reporting_district\": \"Topanga\", \"calls\": 116}, {\"monthday\": \"02/07\", \"reporting_district\": \"Van Nuys\", \"calls\": 139}, {\"monthday\": \"02/07\", \"reporting_district\": \"West LA\", \"calls\": 151}, {\"monthday\": \"02/07\", \"reporting_district\": \"West Valley\", \"calls\": 109}, {\"monthday\": \"02/07\", \"reporting_district\": \"Wilshire\", \"calls\": 151}, {\"monthday\": \"02/08\", \"reporting_district\": \"77th Street\", \"calls\": 212}, {\"monthday\": \"02/08\", \"reporting_district\": \"Central\", \"calls\": 168}, {\"monthday\": \"02/08\", \"reporting_district\": \"Devonshire\", \"calls\": 112}, {\"monthday\": \"02/08\", \"reporting_district\": \"Foothill\", \"calls\": 110}, {\"monthday\": \"02/08\", \"reporting_district\": \"Harbor\", \"calls\": 118}, {\"monthday\": \"02/08\", \"reporting_district\": \"Hollenbeck\", \"calls\": 108}, {\"monthday\": \"02/08\", \"reporting_district\": \"Hollywood\", \"calls\": 193}, {\"monthday\": \"02/08\", \"reporting_district\": \"Mission\", \"calls\": 158}, {\"monthday\": \"02/08\", \"reporting_district\": \"N Hollywood\", \"calls\": 171}, {\"monthday\": \"02/08\", \"reporting_district\": \"Newton\", \"calls\": 148}, {\"monthday\": \"02/08\", \"reporting_district\": \"Northeast\", \"calls\": 126}, {\"monthday\": \"02/08\", \"reporting_district\": \"Olympic\", \"calls\": 125}, {\"monthday\": \"02/08\", \"reporting_district\": \"Pacific\", \"calls\": 214}, {\"monthday\": \"02/08\", \"reporting_district\": \"Rampart\", \"calls\": 130}, {\"monthday\": \"02/08\", \"reporting_district\": \"Southeast\", \"calls\": 147}, {\"monthday\": \"02/08\", \"reporting_district\": \"Southwest\", \"calls\": 156}, {\"monthday\": \"02/08\", \"reporting_district\": \"Topanga\", \"calls\": 111}, {\"monthday\": \"02/08\", \"reporting_district\": \"Van Nuys\", \"calls\": 144}, {\"monthday\": \"02/08\", \"reporting_district\": \"West LA\", \"calls\": 134}, {\"monthday\": \"02/08\", \"reporting_district\": \"West Valley\", \"calls\": 112}, {\"monthday\": \"02/08\", \"reporting_district\": \"Wilshire\", \"calls\": 149}, {\"monthday\": \"02/09\", \"reporting_district\": \"77th Street\", \"calls\": 193}, {\"monthday\": \"02/09\", \"reporting_district\": \"Central\", \"calls\": 206}, {\"monthday\": \"02/09\", \"reporting_district\": \"Devonshire\", \"calls\": 128}, {\"monthday\": \"02/09\", \"reporting_district\": \"Foothill\", \"calls\": 120}, {\"monthday\": \"02/09\", \"reporting_district\": \"Harbor\", \"calls\": 85}, {\"monthday\": \"02/09\", \"reporting_district\": \"Hollenbeck\", \"calls\": 119}, {\"monthday\": \"02/09\", \"reporting_district\": \"Hollywood\", \"calls\": 160}, {\"monthday\": \"02/09\", \"reporting_district\": \"Mission\", \"calls\": 117}, {\"monthday\": \"02/09\", \"reporting_district\": \"N Hollywood\", \"calls\": 132}, {\"monthday\": \"02/09\", \"reporting_district\": \"Newton\", \"calls\": 144}, {\"monthday\": \"02/09\", \"reporting_district\": \"Northeast\", \"calls\": 102}, {\"monthday\": \"02/09\", \"reporting_district\": \"Olympic\", \"calls\": 103}, {\"monthday\": \"02/09\", \"reporting_district\": \"Pacific\", \"calls\": 134}, {\"monthday\": \"02/09\", \"reporting_district\": \"Rampart\", \"calls\": 126}, {\"monthday\": \"02/09\", \"reporting_district\": \"Southeast\", \"calls\": 146}, {\"monthday\": \"02/09\", \"reporting_district\": \"Southwest\", \"calls\": 139}, {\"monthday\": \"02/09\", \"reporting_district\": \"Topanga\", \"calls\": 105}, {\"monthday\": \"02/09\", \"reporting_district\": \"Van Nuys\", \"calls\": 120}, {\"monthday\": \"02/09\", \"reporting_district\": \"West LA\", \"calls\": 145}, {\"monthday\": \"02/09\", \"reporting_district\": \"West Valley\", \"calls\": 116}, {\"monthday\": \"02/09\", \"reporting_district\": \"Wilshire\", \"calls\": 139}, {\"monthday\": \"02/10\", \"reporting_district\": \"77th Street\", \"calls\": 185}, {\"monthday\": \"02/10\", \"reporting_district\": \"Central\", \"calls\": 209}, {\"monthday\": \"02/10\", \"reporting_district\": \"Devonshire\", \"calls\": 118}, {\"monthday\": \"02/10\", \"reporting_district\": \"Foothill\", \"calls\": 116}, {\"monthday\": \"02/10\", \"reporting_district\": \"Harbor\", \"calls\": 99}, {\"monthday\": \"02/10\", \"reporting_district\": \"Hollenbeck\", \"calls\": 98}, {\"monthday\": \"02/10\", \"reporting_district\": \"Hollywood\", \"calls\": 150}, {\"monthday\": \"02/10\", \"reporting_district\": \"Mission\", \"calls\": 115}, {\"monthday\": \"02/10\", \"reporting_district\": \"N Hollywood\", \"calls\": 144}, {\"monthday\": \"02/10\", \"reporting_district\": \"Newton\", \"calls\": 163}, {\"monthday\": \"02/10\", \"reporting_district\": \"Northeast\", \"calls\": 134}, {\"monthday\": \"02/10\", \"reporting_district\": \"Olympic\", \"calls\": 152}, {\"monthday\": \"02/10\", \"reporting_district\": \"Pacific\", \"calls\": 174}, {\"monthday\": \"02/10\", \"reporting_district\": \"Rampart\", \"calls\": 132}, {\"monthday\": \"02/10\", \"reporting_district\": \"Southeast\", \"calls\": 152}, {\"monthday\": \"02/10\", \"reporting_district\": \"Southwest\", \"calls\": 129}, {\"monthday\": \"02/10\", \"reporting_district\": \"Topanga\", \"calls\": 130}, {\"monthday\": \"02/10\", \"reporting_district\": \"Van Nuys\", \"calls\": 120}, {\"monthday\": \"02/10\", \"reporting_district\": \"West LA\", \"calls\": 133}, {\"monthday\": \"02/10\", \"reporting_district\": \"West Valley\", \"calls\": 129}, {\"monthday\": \"02/10\", \"reporting_district\": \"Wilshire\", \"calls\": 156}, {\"monthday\": \"02/11\", \"reporting_district\": \"77th Street\", \"calls\": 165}, {\"monthday\": \"02/11\", \"reporting_district\": \"Central\", \"calls\": 189}, {\"monthday\": \"02/11\", \"reporting_district\": \"Devonshire\", \"calls\": 110}, {\"monthday\": \"02/11\", \"reporting_district\": \"Foothill\", \"calls\": 125}, {\"monthday\": \"02/11\", \"reporting_district\": \"Harbor\", \"calls\": 118}, {\"monthday\": \"02/11\", \"reporting_district\": \"Hollenbeck\", \"calls\": 104}, {\"monthday\": \"02/11\", \"reporting_district\": \"Hollywood\", \"calls\": 177}, {\"monthday\": \"02/11\", \"reporting_district\": \"Mission\", \"calls\": 129}, {\"monthday\": \"02/11\", \"reporting_district\": \"N Hollywood\", \"calls\": 116}, {\"monthday\": \"02/11\", \"reporting_district\": \"Newton\", \"calls\": 143}, {\"monthday\": \"02/11\", \"reporting_district\": \"Northeast\", \"calls\": 139}, {\"monthday\": \"02/11\", \"reporting_district\": \"Olympic\", \"calls\": 102}, {\"monthday\": \"02/11\", \"reporting_district\": \"Pacific\", \"calls\": 150}, {\"monthday\": \"02/11\", \"reporting_district\": \"Rampart\", \"calls\": 126}, {\"monthday\": \"02/11\", \"reporting_district\": \"Southeast\", \"calls\": 140}, {\"monthday\": \"02/11\", \"reporting_district\": \"Southwest\", \"calls\": 143}, {\"monthday\": \"02/11\", \"reporting_district\": \"Topanga\", \"calls\": 111}, {\"monthday\": \"02/11\", \"reporting_district\": \"Van Nuys\", \"calls\": 120}, {\"monthday\": \"02/11\", \"reporting_district\": \"West LA\", \"calls\": 117}, {\"monthday\": \"02/11\", \"reporting_district\": \"West Valley\", \"calls\": 116}, {\"monthday\": \"02/11\", \"reporting_district\": \"Wilshire\", \"calls\": 151}, {\"monthday\": \"02/12\", \"reporting_district\": \"77th Street\", \"calls\": 209}, {\"monthday\": \"02/12\", \"reporting_district\": \"Central\", \"calls\": 155}, {\"monthday\": \"02/12\", \"reporting_district\": \"Devonshire\", \"calls\": 107}, {\"monthday\": \"02/12\", \"reporting_district\": \"Foothill\", \"calls\": 112}, {\"monthday\": \"02/12\", \"reporting_district\": \"Harbor\", \"calls\": 102}, {\"monthday\": \"02/12\", \"reporting_district\": \"Hollenbeck\", \"calls\": 133}, {\"monthday\": \"02/12\", \"reporting_district\": \"Hollywood\", \"calls\": 161}, {\"monthday\": \"02/12\", \"reporting_district\": \"Mission\", \"calls\": 170}, {\"monthday\": \"02/12\", \"reporting_district\": \"N Hollywood\", \"calls\": 106}, {\"monthday\": \"02/12\", \"reporting_district\": \"Newton\", \"calls\": 147}, {\"monthday\": \"02/12\", \"reporting_district\": \"Northeast\", \"calls\": 117}, {\"monthday\": \"02/12\", \"reporting_district\": \"Olympic\", \"calls\": 134}, {\"monthday\": \"02/12\", \"reporting_district\": \"Pacific\", \"calls\": 139}, {\"monthday\": \"02/12\", \"reporting_district\": \"Rampart\", \"calls\": 120}, {\"monthday\": \"02/12\", \"reporting_district\": \"Southeast\", \"calls\": 127}, {\"monthday\": \"02/12\", \"reporting_district\": \"Southwest\", \"calls\": 133}, {\"monthday\": \"02/12\", \"reporting_district\": \"Topanga\", \"calls\": 143}, {\"monthday\": \"02/12\", \"reporting_district\": \"Van Nuys\", \"calls\": 108}, {\"monthday\": \"02/12\", \"reporting_district\": \"West LA\", \"calls\": 124}, {\"monthday\": \"02/12\", \"reporting_district\": \"West Valley\", \"calls\": 131}, {\"monthday\": \"02/12\", \"reporting_district\": \"Wilshire\", \"calls\": 131}, {\"monthday\": \"02/13\", \"reporting_district\": \"77th Street\", \"calls\": 182}, {\"monthday\": \"02/13\", \"reporting_district\": \"Central\", \"calls\": 159}, {\"monthday\": \"02/13\", \"reporting_district\": \"Devonshire\", \"calls\": 97}, {\"monthday\": \"02/13\", \"reporting_district\": \"Foothill\", \"calls\": 102}, {\"monthday\": \"02/13\", \"reporting_district\": \"Harbor\", \"calls\": 91}, {\"monthday\": \"02/13\", \"reporting_district\": \"Hollenbeck\", \"calls\": 109}, {\"monthday\": \"02/13\", \"reporting_district\": \"Hollywood\", \"calls\": 155}, {\"monthday\": \"02/13\", \"reporting_district\": \"Mission\", \"calls\": 125}, {\"monthday\": \"02/13\", \"reporting_district\": \"N Hollywood\", \"calls\": 134}, {\"monthday\": \"02/13\", \"reporting_district\": \"Newton\", \"calls\": 142}, {\"monthday\": \"02/13\", \"reporting_district\": \"Northeast\", \"calls\": 125}, {\"monthday\": \"02/13\", \"reporting_district\": \"Olympic\", \"calls\": 146}, {\"monthday\": \"02/13\", \"reporting_district\": \"Pacific\", \"calls\": 160}, {\"monthday\": \"02/13\", \"reporting_district\": \"Rampart\", \"calls\": 150}, {\"monthday\": \"02/13\", \"reporting_district\": \"Southeast\", \"calls\": 130}, {\"monthday\": \"02/13\", \"reporting_district\": \"Southwest\", \"calls\": 149}, {\"monthday\": \"02/13\", \"reporting_district\": \"Topanga\", \"calls\": 110}, {\"monthday\": \"02/13\", \"reporting_district\": \"Van Nuys\", \"calls\": 165}, {\"monthday\": \"02/13\", \"reporting_district\": \"West LA\", \"calls\": 133}, {\"monthday\": \"02/13\", \"reporting_district\": \"West Valley\", \"calls\": 95}, {\"monthday\": \"02/13\", \"reporting_district\": \"Wilshire\", \"calls\": 122}, {\"monthday\": \"02/14\", \"reporting_district\": \"77th Street\", \"calls\": 174}, {\"monthday\": \"02/14\", \"reporting_district\": \"Central\", \"calls\": 176}, {\"monthday\": \"02/14\", \"reporting_district\": \"Devonshire\", \"calls\": 97}, {\"monthday\": \"02/14\", \"reporting_district\": \"Foothill\", \"calls\": 120}, {\"monthday\": \"02/14\", \"reporting_district\": \"Harbor\", \"calls\": 131}, {\"monthday\": \"02/14\", \"reporting_district\": \"Hollenbeck\", \"calls\": 105}, {\"monthday\": \"02/14\", \"reporting_district\": \"Hollywood\", \"calls\": 190}, {\"monthday\": \"02/14\", \"reporting_district\": \"Mission\", \"calls\": 142}, {\"monthday\": \"02/14\", \"reporting_district\": \"N Hollywood\", \"calls\": 139}, {\"monthday\": \"02/14\", \"reporting_district\": \"Newton\", \"calls\": 145}, {\"monthday\": \"02/14\", \"reporting_district\": \"Northeast\", \"calls\": 138}, {\"monthday\": \"02/14\", \"reporting_district\": \"Olympic\", \"calls\": 130}, {\"monthday\": \"02/14\", \"reporting_district\": \"Pacific\", \"calls\": 180}, {\"monthday\": \"02/14\", \"reporting_district\": \"Rampart\", \"calls\": 124}, {\"monthday\": \"02/14\", \"reporting_district\": \"Southeast\", \"calls\": 116}, {\"monthday\": \"02/14\", \"reporting_district\": \"Southwest\", \"calls\": 135}, {\"monthday\": \"02/14\", \"reporting_district\": \"Topanga\", \"calls\": 109}, {\"monthday\": \"02/14\", \"reporting_district\": \"Van Nuys\", \"calls\": 143}, {\"monthday\": \"02/14\", \"reporting_district\": \"West LA\", \"calls\": 151}, {\"monthday\": \"02/14\", \"reporting_district\": \"West Valley\", \"calls\": 122}, {\"monthday\": \"02/14\", \"reporting_district\": \"Wilshire\", \"calls\": 209}, {\"monthday\": \"02/15\", \"reporting_district\": \"77th Street\", \"calls\": 206}, {\"monthday\": \"02/15\", \"reporting_district\": \"Central\", \"calls\": 175}, {\"monthday\": \"02/15\", \"reporting_district\": \"Devonshire\", \"calls\": 92}, {\"monthday\": \"02/15\", \"reporting_district\": \"Foothill\", \"calls\": 133}, {\"monthday\": \"02/15\", \"reporting_district\": \"Harbor\", \"calls\": 159}, {\"monthday\": \"02/15\", \"reporting_district\": \"Hollenbeck\", \"calls\": 166}, {\"monthday\": \"02/15\", \"reporting_district\": \"Hollywood\", \"calls\": 168}, {\"monthday\": \"02/15\", \"reporting_district\": \"Mission\", \"calls\": 159}, {\"monthday\": \"02/15\", \"reporting_district\": \"N Hollywood\", \"calls\": 148}, {\"monthday\": \"02/15\", \"reporting_district\": \"Newton\", \"calls\": 138}, {\"monthday\": \"02/15\", \"reporting_district\": \"Northeast\", \"calls\": 132}, {\"monthday\": \"02/15\", \"reporting_district\": \"Olympic\", \"calls\": 114}, {\"monthday\": \"02/15\", \"reporting_district\": \"Pacific\", \"calls\": 158}, {\"monthday\": \"02/15\", \"reporting_district\": \"Rampart\", \"calls\": 121}, {\"monthday\": \"02/15\", \"reporting_district\": \"Southeast\", \"calls\": 122}, {\"monthday\": \"02/15\", \"reporting_district\": \"Southwest\", \"calls\": 154}, {\"monthday\": \"02/15\", \"reporting_district\": \"Topanga\", \"calls\": 112}, {\"monthday\": \"02/15\", \"reporting_district\": \"Van Nuys\", \"calls\": 126}, {\"monthday\": \"02/15\", \"reporting_district\": \"West LA\", \"calls\": 154}, {\"monthday\": \"02/15\", \"reporting_district\": \"West Valley\", \"calls\": 121}, {\"monthday\": \"02/15\", \"reporting_district\": \"Wilshire\", \"calls\": 164}, {\"monthday\": \"02/16\", \"reporting_district\": \"77th Street\", \"calls\": 200}, {\"monthday\": \"02/16\", \"reporting_district\": \"Central\", \"calls\": 148}, {\"monthday\": \"02/16\", \"reporting_district\": \"Devonshire\", \"calls\": 117}, {\"monthday\": \"02/16\", \"reporting_district\": \"Foothill\", \"calls\": 134}, {\"monthday\": \"02/16\", \"reporting_district\": \"Harbor\", \"calls\": 122}, {\"monthday\": \"02/16\", \"reporting_district\": \"Hollenbeck\", \"calls\": 128}, {\"monthday\": \"02/16\", \"reporting_district\": \"Hollywood\", \"calls\": 163}, {\"monthday\": \"02/16\", \"reporting_district\": \"Mission\", \"calls\": 138}, {\"monthday\": \"02/16\", \"reporting_district\": \"N Hollywood\", \"calls\": 152}, {\"monthday\": \"02/16\", \"reporting_district\": \"Newton\", \"calls\": 150}, {\"monthday\": \"02/16\", \"reporting_district\": \"Northeast\", \"calls\": 127}, {\"monthday\": \"02/16\", \"reporting_district\": \"Olympic\", \"calls\": 110}, {\"monthday\": \"02/16\", \"reporting_district\": \"Pacific\", \"calls\": 161}, {\"monthday\": \"02/16\", \"reporting_district\": \"Rampart\", \"calls\": 130}, {\"monthday\": \"02/16\", \"reporting_district\": \"Southeast\", \"calls\": 138}, {\"monthday\": \"02/16\", \"reporting_district\": \"Southwest\", \"calls\": 160}, {\"monthday\": \"02/16\", \"reporting_district\": \"Topanga\", \"calls\": 132}, {\"monthday\": \"02/16\", \"reporting_district\": \"Van Nuys\", \"calls\": 118}, {\"monthday\": \"02/16\", \"reporting_district\": \"West LA\", \"calls\": 142}, {\"monthday\": \"02/16\", \"reporting_district\": \"West Valley\", \"calls\": 115}, {\"monthday\": \"02/16\", \"reporting_district\": \"Wilshire\", \"calls\": 138}, {\"monthday\": \"02/17\", \"reporting_district\": \"77th Street\", \"calls\": 172}, {\"monthday\": \"02/17\", \"reporting_district\": \"Central\", \"calls\": 137}, {\"monthday\": \"02/17\", \"reporting_district\": \"Devonshire\", \"calls\": 102}, {\"monthday\": \"02/17\", \"reporting_district\": \"Foothill\", \"calls\": 103}, {\"monthday\": \"02/17\", \"reporting_district\": \"Harbor\", \"calls\": 107}, {\"monthday\": \"02/17\", \"reporting_district\": \"Hollenbeck\", \"calls\": 127}, {\"monthday\": \"02/17\", \"reporting_district\": \"Hollywood\", \"calls\": 143}, {\"monthday\": \"02/17\", \"reporting_district\": \"Mission\", \"calls\": 139}, {\"monthday\": \"02/17\", \"reporting_district\": \"N Hollywood\", \"calls\": 120}, {\"monthday\": \"02/17\", \"reporting_district\": \"Newton\", \"calls\": 133}, {\"monthday\": \"02/17\", \"reporting_district\": \"Northeast\", \"calls\": 103}, {\"monthday\": \"02/17\", \"reporting_district\": \"Olympic\", \"calls\": 127}, {\"monthday\": \"02/17\", \"reporting_district\": \"Pacific\", \"calls\": 156}, {\"monthday\": \"02/17\", \"reporting_district\": \"Rampart\", \"calls\": 122}, {\"monthday\": \"02/17\", \"reporting_district\": \"Southeast\", \"calls\": 150}, {\"monthday\": \"02/17\", \"reporting_district\": \"Southwest\", \"calls\": 131}, {\"monthday\": \"02/17\", \"reporting_district\": \"Topanga\", \"calls\": 113}, {\"monthday\": \"02/17\", \"reporting_district\": \"Van Nuys\", \"calls\": 98}, {\"monthday\": \"02/17\", \"reporting_district\": \"West LA\", \"calls\": 145}, {\"monthday\": \"02/17\", \"reporting_district\": \"West Valley\", \"calls\": 108}, {\"monthday\": \"02/17\", \"reporting_district\": \"Wilshire\", \"calls\": 132}, {\"monthday\": \"02/18\", \"reporting_district\": \"77th Street\", \"calls\": 162}, {\"monthday\": \"02/18\", \"reporting_district\": \"Central\", \"calls\": 177}, {\"monthday\": \"02/18\", \"reporting_district\": \"Devonshire\", \"calls\": 127}, {\"monthday\": \"02/18\", \"reporting_district\": \"Foothill\", \"calls\": 127}, {\"monthday\": \"02/18\", \"reporting_district\": \"Harbor\", \"calls\": 99}, {\"monthday\": \"02/18\", \"reporting_district\": \"Hollenbeck\", \"calls\": 92}, {\"monthday\": \"02/18\", \"reporting_district\": \"Hollywood\", \"calls\": 142}, {\"monthday\": \"02/18\", \"reporting_district\": \"Mission\", \"calls\": 129}, {\"monthday\": \"02/18\", \"reporting_district\": \"N Hollywood\", \"calls\": 132}, {\"monthday\": \"02/18\", \"reporting_district\": \"Newton\", \"calls\": 140}, {\"monthday\": \"02/18\", \"reporting_district\": \"Northeast\", \"calls\": 105}, {\"monthday\": \"02/18\", \"reporting_district\": \"Olympic\", \"calls\": 119}, {\"monthday\": \"02/18\", \"reporting_district\": \"Pacific\", \"calls\": 138}, {\"monthday\": \"02/18\", \"reporting_district\": \"Rampart\", \"calls\": 147}, {\"monthday\": \"02/18\", \"reporting_district\": \"Southeast\", \"calls\": 130}, {\"monthday\": \"02/18\", \"reporting_district\": \"Southwest\", \"calls\": 159}, {\"monthday\": \"02/18\", \"reporting_district\": \"Topanga\", \"calls\": 101}, {\"monthday\": \"02/18\", \"reporting_district\": \"Van Nuys\", \"calls\": 96}, {\"monthday\": \"02/18\", \"reporting_district\": \"West LA\", \"calls\": 138}, {\"monthday\": \"02/18\", \"reporting_district\": \"West Valley\", \"calls\": 114}, {\"monthday\": \"02/18\", \"reporting_district\": \"Wilshire\", \"calls\": 161}, {\"monthday\": \"02/19\", \"reporting_district\": \"77th Street\", \"calls\": 172}, {\"monthday\": \"02/19\", \"reporting_district\": \"Central\", \"calls\": 170}, {\"monthday\": \"02/19\", \"reporting_district\": \"Devonshire\", \"calls\": 139}, {\"monthday\": \"02/19\", \"reporting_district\": \"Foothill\", \"calls\": 114}, {\"monthday\": \"02/19\", \"reporting_district\": \"Harbor\", \"calls\": 103}, {\"monthday\": \"02/19\", \"reporting_district\": \"Hollenbeck\", \"calls\": 121}, {\"monthday\": \"02/19\", \"reporting_district\": \"Hollywood\", \"calls\": 177}, {\"monthday\": \"02/19\", \"reporting_district\": \"Mission\", \"calls\": 135}, {\"monthday\": \"02/19\", \"reporting_district\": \"N Hollywood\", \"calls\": 130}, {\"monthday\": \"02/19\", \"reporting_district\": \"Newton\", \"calls\": 138}, {\"monthday\": \"02/19\", \"reporting_district\": \"Northeast\", \"calls\": 112}, {\"monthday\": \"02/19\", \"reporting_district\": \"Olympic\", \"calls\": 173}, {\"monthday\": \"02/19\", \"reporting_district\": \"Pacific\", \"calls\": 177}, {\"monthday\": \"02/19\", \"reporting_district\": \"Rampart\", \"calls\": 136}, {\"monthday\": \"02/19\", \"reporting_district\": \"Southeast\", \"calls\": 128}, {\"monthday\": \"02/19\", \"reporting_district\": \"Southwest\", \"calls\": 148}, {\"monthday\": \"02/19\", \"reporting_district\": \"Topanga\", \"calls\": 121}, {\"monthday\": \"02/19\", \"reporting_district\": \"Van Nuys\", \"calls\": 137}, {\"monthday\": \"02/19\", \"reporting_district\": \"West LA\", \"calls\": 143}, {\"monthday\": \"02/19\", \"reporting_district\": \"West Valley\", \"calls\": 105}, {\"monthday\": \"02/19\", \"reporting_district\": \"Wilshire\", \"calls\": 158}, {\"monthday\": \"02/20\", \"reporting_district\": \"77th Street\", \"calls\": 193}, {\"monthday\": \"02/20\", \"reporting_district\": \"Central\", \"calls\": 161}, {\"monthday\": \"02/20\", \"reporting_district\": \"Devonshire\", \"calls\": 106}, {\"monthday\": \"02/20\", \"reporting_district\": \"Foothill\", \"calls\": 114}, {\"monthday\": \"02/20\", \"reporting_district\": \"Harbor\", \"calls\": 99}, {\"monthday\": \"02/20\", \"reporting_district\": \"Hollenbeck\", \"calls\": 92}, {\"monthday\": \"02/20\", \"reporting_district\": \"Hollywood\", \"calls\": 167}, {\"monthday\": \"02/20\", \"reporting_district\": \"Mission\", \"calls\": 127}, {\"monthday\": \"02/20\", \"reporting_district\": \"N Hollywood\", \"calls\": 108}, {\"monthday\": \"02/20\", \"reporting_district\": \"Newton\", \"calls\": 169}, {\"monthday\": \"02/20\", \"reporting_district\": \"Northeast\", \"calls\": 123}, {\"monthday\": \"02/20\", \"reporting_district\": \"Olympic\", \"calls\": 143}, {\"monthday\": \"02/20\", \"reporting_district\": \"Pacific\", \"calls\": 174}, {\"monthday\": \"02/20\", \"reporting_district\": \"Rampart\", \"calls\": 133}, {\"monthday\": \"02/20\", \"reporting_district\": \"Southeast\", \"calls\": 108}, {\"monthday\": \"02/20\", \"reporting_district\": \"Southwest\", \"calls\": 124}, {\"monthday\": \"02/20\", \"reporting_district\": \"Topanga\", \"calls\": 107}, {\"monthday\": \"02/20\", \"reporting_district\": \"Van Nuys\", \"calls\": 146}, {\"monthday\": \"02/20\", \"reporting_district\": \"West LA\", \"calls\": 124}, {\"monthday\": \"02/20\", \"reporting_district\": \"West Valley\", \"calls\": 126}, {\"monthday\": \"02/20\", \"reporting_district\": \"Wilshire\", \"calls\": 169}, {\"monthday\": \"02/21\", \"reporting_district\": \"77th Street\", \"calls\": 220}, {\"monthday\": \"02/21\", \"reporting_district\": \"Central\", \"calls\": 188}, {\"monthday\": \"02/21\", \"reporting_district\": \"Devonshire\", \"calls\": 111}, {\"monthday\": \"02/21\", \"reporting_district\": \"Foothill\", \"calls\": 109}, {\"monthday\": \"02/21\", \"reporting_district\": \"Harbor\", \"calls\": 117}, {\"monthday\": \"02/21\", \"reporting_district\": \"Hollenbeck\", \"calls\": 130}, {\"monthday\": \"02/21\", \"reporting_district\": \"Hollywood\", \"calls\": 158}, {\"monthday\": \"02/21\", \"reporting_district\": \"Mission\", \"calls\": 121}, {\"monthday\": \"02/21\", \"reporting_district\": \"N Hollywood\", \"calls\": 133}, {\"monthday\": \"02/21\", \"reporting_district\": \"Newton\", \"calls\": 191}, {\"monthday\": \"02/21\", \"reporting_district\": \"Northeast\", \"calls\": 145}, {\"monthday\": \"02/21\", \"reporting_district\": \"Olympic\", \"calls\": 138}, {\"monthday\": \"02/21\", \"reporting_district\": \"Pacific\", \"calls\": 186}, {\"monthday\": \"02/21\", \"reporting_district\": \"Rampart\", \"calls\": 140}, {\"monthday\": \"02/21\", \"reporting_district\": \"Southeast\", \"calls\": 187}, {\"monthday\": \"02/21\", \"reporting_district\": \"Southwest\", \"calls\": 167}, {\"monthday\": \"02/21\", \"reporting_district\": \"Topanga\", \"calls\": 129}, {\"monthday\": \"02/21\", \"reporting_district\": \"Van Nuys\", \"calls\": 160}, {\"monthday\": \"02/21\", \"reporting_district\": \"West LA\", \"calls\": 153}, {\"monthday\": \"02/21\", \"reporting_district\": \"West Valley\", \"calls\": 124}, {\"monthday\": \"02/21\", \"reporting_district\": \"Wilshire\", \"calls\": 152}, {\"monthday\": \"02/22\", \"reporting_district\": \"77th Street\", \"calls\": 197}, {\"monthday\": \"02/22\", \"reporting_district\": \"Central\", \"calls\": 171}, {\"monthday\": \"02/22\", \"reporting_district\": \"Devonshire\", \"calls\": 103}, {\"monthday\": \"02/22\", \"reporting_district\": \"Foothill\", \"calls\": 113}, {\"monthday\": \"02/22\", \"reporting_district\": \"Harbor\", \"calls\": 150}, {\"monthday\": \"02/22\", \"reporting_district\": \"Hollenbeck\", \"calls\": 123}, {\"monthday\": \"02/22\", \"reporting_district\": \"Hollywood\", \"calls\": 186}, {\"monthday\": \"02/22\", \"reporting_district\": \"Mission\", \"calls\": 139}, {\"monthday\": \"02/22\", \"reporting_district\": \"N Hollywood\", \"calls\": 162}, {\"monthday\": \"02/22\", \"reporting_district\": \"Newton\", \"calls\": 158}, {\"monthday\": \"02/22\", \"reporting_district\": \"Northeast\", \"calls\": 120}, {\"monthday\": \"02/22\", \"reporting_district\": \"Olympic\", \"calls\": 132}, {\"monthday\": \"02/22\", \"reporting_district\": \"Pacific\", \"calls\": 229}, {\"monthday\": \"02/22\", \"reporting_district\": \"Rampart\", \"calls\": 124}, {\"monthday\": \"02/22\", \"reporting_district\": \"Southeast\", \"calls\": 124}, {\"monthday\": \"02/22\", \"reporting_district\": \"Southwest\", \"calls\": 189}, {\"monthday\": \"02/22\", \"reporting_district\": \"Topanga\", \"calls\": 143}, {\"monthday\": \"02/22\", \"reporting_district\": \"Van Nuys\", \"calls\": 113}, {\"monthday\": \"02/22\", \"reporting_district\": \"West LA\", \"calls\": 143}, {\"monthday\": \"02/22\", \"reporting_district\": \"West Valley\", \"calls\": 132}, {\"monthday\": \"02/22\", \"reporting_district\": \"Wilshire\", \"calls\": 144}, {\"monthday\": \"02/23\", \"reporting_district\": \"77th Street\", \"calls\": 221}, {\"monthday\": \"02/23\", \"reporting_district\": \"Central\", \"calls\": 188}, {\"monthday\": \"02/23\", \"reporting_district\": \"Devonshire\", \"calls\": 118}, {\"monthday\": \"02/23\", \"reporting_district\": \"Foothill\", \"calls\": 125}, {\"monthday\": \"02/23\", \"reporting_district\": \"Harbor\", \"calls\": 137}, {\"monthday\": \"02/23\", \"reporting_district\": \"Hollenbeck\", \"calls\": 114}, {\"monthday\": \"02/23\", \"reporting_district\": \"Hollywood\", \"calls\": 174}, {\"monthday\": \"02/23\", \"reporting_district\": \"Mission\", \"calls\": 151}, {\"monthday\": \"02/23\", \"reporting_district\": \"N Hollywood\", \"calls\": 149}, {\"monthday\": \"02/23\", \"reporting_district\": \"Newton\", \"calls\": 150}, {\"monthday\": \"02/23\", \"reporting_district\": \"Northeast\", \"calls\": 126}, {\"monthday\": \"02/23\", \"reporting_district\": \"Olympic\", \"calls\": 135}, {\"monthday\": \"02/23\", \"reporting_district\": \"Pacific\", \"calls\": 180}, {\"monthday\": \"02/23\", \"reporting_district\": \"Rampart\", \"calls\": 118}, {\"monthday\": \"02/23\", \"reporting_district\": \"Southeast\", \"calls\": 129}, {\"monthday\": \"02/23\", \"reporting_district\": \"Southwest\", \"calls\": 175}, {\"monthday\": \"02/23\", \"reporting_district\": \"Topanga\", \"calls\": 131}, {\"monthday\": \"02/23\", \"reporting_district\": \"Van Nuys\", \"calls\": 118}, {\"monthday\": \"02/23\", \"reporting_district\": \"West LA\", \"calls\": 142}, {\"monthday\": \"02/23\", \"reporting_district\": \"West Valley\", \"calls\": 114}, {\"monthday\": \"02/23\", \"reporting_district\": \"Wilshire\", \"calls\": 161}, {\"monthday\": \"02/24\", \"reporting_district\": \"77th Street\", \"calls\": 191}, {\"monthday\": \"02/24\", \"reporting_district\": \"Central\", \"calls\": 161}, {\"monthday\": \"02/24\", \"reporting_district\": \"Devonshire\", \"calls\": 122}, {\"monthday\": \"02/24\", \"reporting_district\": \"Foothill\", \"calls\": 131}, {\"monthday\": \"02/24\", \"reporting_district\": \"Harbor\", \"calls\": 115}, {\"monthday\": \"02/24\", \"reporting_district\": \"Hollenbeck\", \"calls\": 118}, {\"monthday\": \"02/24\", \"reporting_district\": \"Hollywood\", \"calls\": 153}, {\"monthday\": \"02/24\", \"reporting_district\": \"Mission\", \"calls\": 130}, {\"monthday\": \"02/24\", \"reporting_district\": \"N Hollywood\", \"calls\": 145}, {\"monthday\": \"02/24\", \"reporting_district\": \"Newton\", \"calls\": 143}, {\"monthday\": \"02/24\", \"reporting_district\": \"Northeast\", \"calls\": 108}, {\"monthday\": \"02/24\", \"reporting_district\": \"Olympic\", \"calls\": 120}, {\"monthday\": \"02/24\", \"reporting_district\": \"Pacific\", \"calls\": 210}, {\"monthday\": \"02/24\", \"reporting_district\": \"Rampart\", \"calls\": 107}, {\"monthday\": \"02/24\", \"reporting_district\": \"Southeast\", \"calls\": 148}, {\"monthday\": \"02/24\", \"reporting_district\": \"Southwest\", \"calls\": 137}, {\"monthday\": \"02/24\", \"reporting_district\": \"Topanga\", \"calls\": 145}, {\"monthday\": \"02/24\", \"reporting_district\": \"Van Nuys\", \"calls\": 110}, {\"monthday\": \"02/24\", \"reporting_district\": \"West LA\", \"calls\": 133}, {\"monthday\": \"02/24\", \"reporting_district\": \"West Valley\", \"calls\": 111}, {\"monthday\": \"02/24\", \"reporting_district\": \"Wilshire\", \"calls\": 132}, {\"monthday\": \"02/25\", \"reporting_district\": \"77th Street\", \"calls\": 166}, {\"monthday\": \"02/25\", \"reporting_district\": \"Central\", \"calls\": 145}, {\"monthday\": \"02/25\", \"reporting_district\": \"Devonshire\", \"calls\": 131}, {\"monthday\": \"02/25\", \"reporting_district\": \"Foothill\", \"calls\": 133}, {\"monthday\": \"02/25\", \"reporting_district\": \"Harbor\", \"calls\": 111}, {\"monthday\": \"02/25\", \"reporting_district\": \"Hollenbeck\", \"calls\": 116}, {\"monthday\": \"02/25\", \"reporting_district\": \"Hollywood\", \"calls\": 169}, {\"monthday\": \"02/25\", \"reporting_district\": \"Mission\", \"calls\": 116}, {\"monthday\": \"02/25\", \"reporting_district\": \"N Hollywood\", \"calls\": 138}, {\"monthday\": \"02/25\", \"reporting_district\": \"Newton\", \"calls\": 145}, {\"monthday\": \"02/25\", \"reporting_district\": \"Northeast\", \"calls\": 147}, {\"monthday\": \"02/25\", \"reporting_district\": \"Olympic\", \"calls\": 126}, {\"monthday\": \"02/25\", \"reporting_district\": \"Pacific\", \"calls\": 139}, {\"monthday\": \"02/25\", \"reporting_district\": \"Rampart\", \"calls\": 137}, {\"monthday\": \"02/25\", \"reporting_district\": \"Southeast\", \"calls\": 127}, {\"monthday\": \"02/25\", \"reporting_district\": \"Southwest\", \"calls\": 140}, {\"monthday\": \"02/25\", \"reporting_district\": \"Topanga\", \"calls\": 111}, {\"monthday\": \"02/25\", \"reporting_district\": \"Van Nuys\", \"calls\": 179}, {\"monthday\": \"02/25\", \"reporting_district\": \"West LA\", \"calls\": 142}, {\"monthday\": \"02/25\", \"reporting_district\": \"West Valley\", \"calls\": 125}, {\"monthday\": \"02/25\", \"reporting_district\": \"Wilshire\", \"calls\": 119}, {\"monthday\": \"02/26\", \"reporting_district\": \"77th Street\", \"calls\": 173}, {\"monthday\": \"02/26\", \"reporting_district\": \"Central\", \"calls\": 164}, {\"monthday\": \"02/26\", \"reporting_district\": \"Devonshire\", \"calls\": 142}, {\"monthday\": \"02/26\", \"reporting_district\": \"Foothill\", \"calls\": 104}, {\"monthday\": \"02/26\", \"reporting_district\": \"Harbor\", \"calls\": 126}, {\"monthday\": \"02/26\", \"reporting_district\": \"Hollenbeck\", \"calls\": 115}, {\"monthday\": \"02/26\", \"reporting_district\": \"Hollywood\", \"calls\": 134}, {\"monthday\": \"02/26\", \"reporting_district\": \"Mission\", \"calls\": 161}, {\"monthday\": \"02/26\", \"reporting_district\": \"N Hollywood\", \"calls\": 146}, {\"monthday\": \"02/26\", \"reporting_district\": \"Newton\", \"calls\": 199}, {\"monthday\": \"02/26\", \"reporting_district\": \"Northeast\", \"calls\": 117}, {\"monthday\": \"02/26\", \"reporting_district\": \"Olympic\", \"calls\": 127}, {\"monthday\": \"02/26\", \"reporting_district\": \"Pacific\", \"calls\": 190}, {\"monthday\": \"02/26\", \"reporting_district\": \"Rampart\", \"calls\": 140}, {\"monthday\": \"02/26\", \"reporting_district\": \"Southeast\", \"calls\": 126}, {\"monthday\": \"02/26\", \"reporting_district\": \"Southwest\", \"calls\": 150}, {\"monthday\": \"02/26\", \"reporting_district\": \"Topanga\", \"calls\": 109}, {\"monthday\": \"02/26\", \"reporting_district\": \"Van Nuys\", \"calls\": 141}, {\"monthday\": \"02/26\", \"reporting_district\": \"West LA\", \"calls\": 137}, {\"monthday\": \"02/26\", \"reporting_district\": \"West Valley\", \"calls\": 130}, {\"monthday\": \"02/26\", \"reporting_district\": \"Wilshire\", \"calls\": 135}, {\"monthday\": \"02/27\", \"reporting_district\": \"77th Street\", \"calls\": 161}, {\"monthday\": \"02/27\", \"reporting_district\": \"Central\", \"calls\": 174}, {\"monthday\": \"02/27\", \"reporting_district\": \"Devonshire\", \"calls\": 97}, {\"monthday\": \"02/27\", \"reporting_district\": \"Foothill\", \"calls\": 94}, {\"monthday\": \"02/27\", \"reporting_district\": \"Harbor\", \"calls\": 94}, {\"monthday\": \"02/27\", \"reporting_district\": \"Hollenbeck\", \"calls\": 104}, {\"monthday\": \"02/27\", \"reporting_district\": \"Hollywood\", \"calls\": 134}, {\"monthday\": \"02/27\", \"reporting_district\": \"Mission\", \"calls\": 157}, {\"monthday\": \"02/27\", \"reporting_district\": \"N Hollywood\", \"calls\": 159}, {\"monthday\": \"02/27\", \"reporting_district\": \"Newton\", \"calls\": 147}, {\"monthday\": \"02/27\", \"reporting_district\": \"Northeast\", \"calls\": 119}, {\"monthday\": \"02/27\", \"reporting_district\": \"Olympic\", \"calls\": 129}, {\"monthday\": \"02/27\", \"reporting_district\": \"Pacific\", \"calls\": 170}, {\"monthday\": \"02/27\", \"reporting_district\": \"Rampart\", \"calls\": 128}, {\"monthday\": \"02/27\", \"reporting_district\": \"Southeast\", \"calls\": 139}, {\"monthday\": \"02/27\", \"reporting_district\": \"Southwest\", \"calls\": 161}, {\"monthday\": \"02/27\", \"reporting_district\": \"Topanga\", \"calls\": 153}, {\"monthday\": \"02/27\", \"reporting_district\": \"Van Nuys\", \"calls\": 123}, {\"monthday\": \"02/27\", \"reporting_district\": \"West LA\", \"calls\": 141}, {\"monthday\": \"02/27\", \"reporting_district\": \"West Valley\", \"calls\": 131}, {\"monthday\": \"02/27\", \"reporting_district\": \"Wilshire\", \"calls\": 161}, {\"monthday\": \"02/28\", \"reporting_district\": \"77th Street\", \"calls\": 279}, {\"monthday\": \"02/28\", \"reporting_district\": \"Central\", \"calls\": 196}, {\"monthday\": \"02/28\", \"reporting_district\": \"Devonshire\", \"calls\": 130}, {\"monthday\": \"02/28\", \"reporting_district\": \"Foothill\", \"calls\": 112}, {\"monthday\": \"02/28\", \"reporting_district\": \"Harbor\", \"calls\": 116}, {\"monthday\": \"02/28\", \"reporting_district\": \"Hollenbeck\", \"calls\": 105}, {\"monthday\": \"02/28\", \"reporting_district\": \"Hollywood\", \"calls\": 166}, {\"monthday\": \"02/28\", \"reporting_district\": \"Mission\", \"calls\": 136}, {\"monthday\": \"02/28\", \"reporting_district\": \"N Hollywood\", \"calls\": 165}, {\"monthday\": \"02/28\", \"reporting_district\": \"Newton\", \"calls\": 131}, {\"monthday\": \"02/28\", \"reporting_district\": \"Northeast\", \"calls\": 115}, {\"monthday\": \"02/28\", \"reporting_district\": \"Olympic\", \"calls\": 155}, {\"monthday\": \"02/28\", \"reporting_district\": \"Pacific\", \"calls\": 164}, {\"monthday\": \"02/28\", \"reporting_district\": \"Rampart\", \"calls\": 144}, {\"monthday\": \"02/28\", \"reporting_district\": \"Southeast\", \"calls\": 152}, {\"monthday\": \"02/28\", \"reporting_district\": \"Southwest\", \"calls\": 172}, {\"monthday\": \"02/28\", \"reporting_district\": \"Topanga\", \"calls\": 108}, {\"monthday\": \"02/28\", \"reporting_district\": \"Van Nuys\", \"calls\": 131}, {\"monthday\": \"02/28\", \"reporting_district\": \"West LA\", \"calls\": 150}, {\"monthday\": \"02/28\", \"reporting_district\": \"West Valley\", \"calls\": 115}, {\"monthday\": \"02/28\", \"reporting_district\": \"Wilshire\", \"calls\": 190}, {\"monthday\": \"02/29\", \"reporting_district\": \"77th Street\", \"calls\": 198}, {\"monthday\": \"02/29\", \"reporting_district\": \"Central\", \"calls\": 162}, {\"monthday\": \"02/29\", \"reporting_district\": \"Devonshire\", \"calls\": 115}, {\"monthday\": \"02/29\", \"reporting_district\": \"Foothill\", \"calls\": 146}, {\"monthday\": \"02/29\", \"reporting_district\": \"Harbor\", \"calls\": 120}, {\"monthday\": \"02/29\", \"reporting_district\": \"Hollenbeck\", \"calls\": 132}, {\"monthday\": \"02/29\", \"reporting_district\": \"Hollywood\", \"calls\": 182}, {\"monthday\": \"02/29\", \"reporting_district\": \"Mission\", \"calls\": 133}, {\"monthday\": \"02/29\", \"reporting_district\": \"N Hollywood\", \"calls\": 146}, {\"monthday\": \"02/29\", \"reporting_district\": \"Newton\", \"calls\": 172}, {\"monthday\": \"02/29\", \"reporting_district\": \"Northeast\", \"calls\": 155}, {\"monthday\": \"02/29\", \"reporting_district\": \"Olympic\", \"calls\": 130}, {\"monthday\": \"02/29\", \"reporting_district\": \"Pacific\", \"calls\": 199}, {\"monthday\": \"02/29\", \"reporting_district\": \"Rampart\", \"calls\": 134}, {\"monthday\": \"02/29\", \"reporting_district\": \"Southeast\", \"calls\": 154}, {\"monthday\": \"02/29\", \"reporting_district\": \"Southwest\", \"calls\": 195}, {\"monthday\": \"02/29\", \"reporting_district\": \"Topanga\", \"calls\": 126}, {\"monthday\": \"02/29\", \"reporting_district\": \"Van Nuys\", \"calls\": 125}, {\"monthday\": \"02/29\", \"reporting_district\": \"West LA\", \"calls\": 152}, {\"monthday\": \"02/29\", \"reporting_district\": \"West Valley\", \"calls\": 113}, {\"monthday\": \"02/29\", \"reporting_district\": \"Wilshire\", \"calls\": 143}, {\"monthday\": \"03/01\", \"reporting_district\": \"77th Street\", \"calls\": 206}, {\"monthday\": \"03/01\", \"reporting_district\": \"Central\", \"calls\": 159}, {\"monthday\": \"03/01\", \"reporting_district\": \"Devonshire\", \"calls\": 106}, {\"monthday\": \"03/01\", \"reporting_district\": \"Foothill\", \"calls\": 116}, {\"monthday\": \"03/01\", \"reporting_district\": \"Harbor\", \"calls\": 114}, {\"monthday\": \"03/01\", \"reporting_district\": \"Hollenbeck\", \"calls\": 126}, {\"monthday\": \"03/01\", \"reporting_district\": \"Hollywood\", \"calls\": 178}, {\"monthday\": \"03/01\", \"reporting_district\": \"Mission\", \"calls\": 180}, {\"monthday\": \"03/01\", \"reporting_district\": \"N Hollywood\", \"calls\": 133}, {\"monthday\": \"03/01\", \"reporting_district\": \"Newton\", \"calls\": 159}, {\"monthday\": \"03/01\", \"reporting_district\": \"Northeast\", \"calls\": 110}, {\"monthday\": \"03/01\", \"reporting_district\": \"Olympic\", \"calls\": 133}, {\"monthday\": \"03/01\", \"reporting_district\": \"Pacific\", \"calls\": 152}, {\"monthday\": \"03/01\", \"reporting_district\": \"Rampart\", \"calls\": 135}, {\"monthday\": \"03/01\", \"reporting_district\": \"Southeast\", \"calls\": 129}, {\"monthday\": \"03/01\", \"reporting_district\": \"Southwest\", \"calls\": 161}, {\"monthday\": \"03/01\", \"reporting_district\": \"Topanga\", \"calls\": 120}, {\"monthday\": \"03/01\", \"reporting_district\": \"Van Nuys\", \"calls\": 137}, {\"monthday\": \"03/01\", \"reporting_district\": \"West LA\", \"calls\": 127}, {\"monthday\": \"03/01\", \"reporting_district\": \"West Valley\", \"calls\": 107}, {\"monthday\": \"03/01\", \"reporting_district\": \"Wilshire\", \"calls\": 156}, {\"monthday\": \"03/02\", \"reporting_district\": \"77th Street\", \"calls\": 215}, {\"monthday\": \"03/02\", \"reporting_district\": \"Central\", \"calls\": 185}, {\"monthday\": \"03/02\", \"reporting_district\": \"Devonshire\", \"calls\": 102}, {\"monthday\": \"03/02\", \"reporting_district\": \"Foothill\", \"calls\": 100}, {\"monthday\": \"03/02\", \"reporting_district\": \"Harbor\", \"calls\": 120}, {\"monthday\": \"03/02\", \"reporting_district\": \"Hollenbeck\", \"calls\": 105}, {\"monthday\": \"03/02\", \"reporting_district\": \"Hollywood\", \"calls\": 152}, {\"monthday\": \"03/02\", \"reporting_district\": \"Mission\", \"calls\": 126}, {\"monthday\": \"03/02\", \"reporting_district\": \"N Hollywood\", \"calls\": 120}, {\"monthday\": \"03/02\", \"reporting_district\": \"Newton\", \"calls\": 167}, {\"monthday\": \"03/02\", \"reporting_district\": \"Northeast\", \"calls\": 121}, {\"monthday\": \"03/02\", \"reporting_district\": \"Olympic\", \"calls\": 202}, {\"monthday\": \"03/02\", \"reporting_district\": \"Pacific\", \"calls\": 170}, {\"monthday\": \"03/02\", \"reporting_district\": \"Rampart\", \"calls\": 156}, {\"monthday\": \"03/02\", \"reporting_district\": \"Southeast\", \"calls\": 115}, {\"monthday\": \"03/02\", \"reporting_district\": \"Southwest\", \"calls\": 173}, {\"monthday\": \"03/02\", \"reporting_district\": \"Topanga\", \"calls\": 88}, {\"monthday\": \"03/02\", \"reporting_district\": \"Van Nuys\", \"calls\": 164}, {\"monthday\": \"03/02\", \"reporting_district\": \"West LA\", \"calls\": 144}, {\"monthday\": \"03/02\", \"reporting_district\": \"West Valley\", \"calls\": 122}, {\"monthday\": \"03/02\", \"reporting_district\": \"Wilshire\", \"calls\": 153}, {\"monthday\": \"03/03\", \"reporting_district\": \"77th Street\", \"calls\": 195}, {\"monthday\": \"03/03\", \"reporting_district\": \"Central\", \"calls\": 186}, {\"monthday\": \"03/03\", \"reporting_district\": \"Devonshire\", \"calls\": 109}, {\"monthday\": \"03/03\", \"reporting_district\": \"Foothill\", \"calls\": 103}, {\"monthday\": \"03/03\", \"reporting_district\": \"Harbor\", \"calls\": 102}, {\"monthday\": \"03/03\", \"reporting_district\": \"Hollenbeck\", \"calls\": 107}, {\"monthday\": \"03/03\", \"reporting_district\": \"Hollywood\", \"calls\": 112}, {\"monthday\": \"03/03\", \"reporting_district\": \"Mission\", \"calls\": 108}, {\"monthday\": \"03/03\", \"reporting_district\": \"N Hollywood\", \"calls\": 99}, {\"monthday\": \"03/03\", \"reporting_district\": \"Newton\", \"calls\": 114}, {\"monthday\": \"03/03\", \"reporting_district\": \"Northeast\", \"calls\": 109}, {\"monthday\": \"03/03\", \"reporting_district\": \"Olympic\", \"calls\": 120}, {\"monthday\": \"03/03\", \"reporting_district\": \"Pacific\", \"calls\": 125}, {\"monthday\": \"03/03\", \"reporting_district\": \"Rampart\", \"calls\": 118}, {\"monthday\": \"03/03\", \"reporting_district\": \"Southeast\", \"calls\": 122}, {\"monthday\": \"03/03\", \"reporting_district\": \"Southwest\", \"calls\": 118}, {\"monthday\": \"03/03\", \"reporting_district\": \"Topanga\", \"calls\": 98}, {\"monthday\": \"03/03\", \"reporting_district\": \"Van Nuys\", \"calls\": 136}, {\"monthday\": \"03/03\", \"reporting_district\": \"West LA\", \"calls\": 137}, {\"monthday\": \"03/03\", \"reporting_district\": \"West Valley\", \"calls\": 114}, {\"monthday\": \"03/03\", \"reporting_district\": \"Wilshire\", \"calls\": 124}, {\"monthday\": \"03/04\", \"reporting_district\": \"77th Street\", \"calls\": 188}, {\"monthday\": \"03/04\", \"reporting_district\": \"Central\", \"calls\": 163}, {\"monthday\": \"03/04\", \"reporting_district\": \"Devonshire\", \"calls\": 100}, {\"monthday\": \"03/04\", \"reporting_district\": \"Foothill\", \"calls\": 136}, {\"monthday\": \"03/04\", \"reporting_district\": \"Harbor\", \"calls\": 105}, {\"monthday\": \"03/04\", \"reporting_district\": \"Hollenbeck\", \"calls\": 108}, {\"monthday\": \"03/04\", \"reporting_district\": \"Hollywood\", \"calls\": 135}, {\"monthday\": \"03/04\", \"reporting_district\": \"Mission\", \"calls\": 132}, {\"monthday\": \"03/04\", \"reporting_district\": \"N Hollywood\", \"calls\": 128}, {\"monthday\": \"03/04\", \"reporting_district\": \"Newton\", \"calls\": 144}, {\"monthday\": \"03/04\", \"reporting_district\": \"Northeast\", \"calls\": 113}, {\"monthday\": \"03/04\", \"reporting_district\": \"Olympic\", \"calls\": 175}, {\"monthday\": \"03/04\", \"reporting_district\": \"Pacific\", \"calls\": 155}, {\"monthday\": \"03/04\", \"reporting_district\": \"Rampart\", \"calls\": 131}, {\"monthday\": \"03/04\", \"reporting_district\": \"Southeast\", \"calls\": 95}, {\"monthday\": \"03/04\", \"reporting_district\": \"Southwest\", \"calls\": 161}, {\"monthday\": \"03/04\", \"reporting_district\": \"Topanga\", \"calls\": 113}, {\"monthday\": \"03/04\", \"reporting_district\": \"Van Nuys\", \"calls\": 97}, {\"monthday\": \"03/04\", \"reporting_district\": \"West LA\", \"calls\": 106}, {\"monthday\": \"03/04\", \"reporting_district\": \"West Valley\", \"calls\": 124}, {\"monthday\": \"03/04\", \"reporting_district\": \"Wilshire\", \"calls\": 103}, {\"monthday\": \"03/05\", \"reporting_district\": \"77th Street\", \"calls\": 195}, {\"monthday\": \"03/05\", \"reporting_district\": \"Central\", \"calls\": 179}, {\"monthday\": \"03/05\", \"reporting_district\": \"Devonshire\", \"calls\": 117}, {\"monthday\": \"03/05\", \"reporting_district\": \"Foothill\", \"calls\": 132}, {\"monthday\": \"03/05\", \"reporting_district\": \"Harbor\", \"calls\": 99}, {\"monthday\": \"03/05\", \"reporting_district\": \"Hollenbeck\", \"calls\": 118}, {\"monthday\": \"03/05\", \"reporting_district\": \"Hollywood\", \"calls\": 177}, {\"monthday\": \"03/05\", \"reporting_district\": \"Mission\", \"calls\": 121}, {\"monthday\": \"03/05\", \"reporting_district\": \"N Hollywood\", \"calls\": 119}, {\"monthday\": \"03/05\", \"reporting_district\": \"Newton\", \"calls\": 140}, {\"monthday\": \"03/05\", \"reporting_district\": \"Northeast\", \"calls\": 126}, {\"monthday\": \"03/05\", \"reporting_district\": \"Olympic\", \"calls\": 122}, {\"monthday\": \"03/05\", \"reporting_district\": \"Pacific\", \"calls\": 142}, {\"monthday\": \"03/05\", \"reporting_district\": \"Rampart\", \"calls\": 144}, {\"monthday\": \"03/05\", \"reporting_district\": \"Southeast\", \"calls\": 133}, {\"monthday\": \"03/05\", \"reporting_district\": \"Southwest\", \"calls\": 151}, {\"monthday\": \"03/05\", \"reporting_district\": \"Topanga\", \"calls\": 119}, {\"monthday\": \"03/05\", \"reporting_district\": \"Van Nuys\", \"calls\": 159}, {\"monthday\": \"03/05\", \"reporting_district\": \"West LA\", \"calls\": 135}, {\"monthday\": \"03/05\", \"reporting_district\": \"West Valley\", \"calls\": 125}, {\"monthday\": \"03/05\", \"reporting_district\": \"Wilshire\", \"calls\": 145}, {\"monthday\": \"03/06\", \"reporting_district\": \"77th Street\", \"calls\": 176}, {\"monthday\": \"03/06\", \"reporting_district\": \"Central\", \"calls\": 169}, {\"monthday\": \"03/06\", \"reporting_district\": \"Devonshire\", \"calls\": 121}, {\"monthday\": \"03/06\", \"reporting_district\": \"Foothill\", \"calls\": 130}, {\"monthday\": \"03/06\", \"reporting_district\": \"Harbor\", \"calls\": 117}, {\"monthday\": \"03/06\", \"reporting_district\": \"Hollenbeck\", \"calls\": 99}, {\"monthday\": \"03/06\", \"reporting_district\": \"Hollywood\", \"calls\": 170}, {\"monthday\": \"03/06\", \"reporting_district\": \"Mission\", \"calls\": 125}, {\"monthday\": \"03/06\", \"reporting_district\": \"N Hollywood\", \"calls\": 139}, {\"monthday\": \"03/06\", \"reporting_district\": \"Newton\", \"calls\": 125}, {\"monthday\": \"03/06\", \"reporting_district\": \"Northeast\", \"calls\": 120}, {\"monthday\": \"03/06\", \"reporting_district\": \"Olympic\", \"calls\": 125}, {\"monthday\": \"03/06\", \"reporting_district\": \"Pacific\", \"calls\": 155}, {\"monthday\": \"03/06\", \"reporting_district\": \"Rampart\", \"calls\": 142}, {\"monthday\": \"03/06\", \"reporting_district\": \"Southeast\", \"calls\": 169}, {\"monthday\": \"03/06\", \"reporting_district\": \"Southwest\", \"calls\": 147}, {\"monthday\": \"03/06\", \"reporting_district\": \"Topanga\", \"calls\": 119}, {\"monthday\": \"03/06\", \"reporting_district\": \"Van Nuys\", \"calls\": 135}, {\"monthday\": \"03/06\", \"reporting_district\": \"West LA\", \"calls\": 145}, {\"monthday\": \"03/06\", \"reporting_district\": \"West Valley\", \"calls\": 125}, {\"monthday\": \"03/06\", \"reporting_district\": \"Wilshire\", \"calls\": 194}, {\"monthday\": \"03/07\", \"reporting_district\": \"77th Street\", \"calls\": 219}, {\"monthday\": \"03/07\", \"reporting_district\": \"Central\", \"calls\": 162}, {\"monthday\": \"03/07\", \"reporting_district\": \"Devonshire\", \"calls\": 112}, {\"monthday\": \"03/07\", \"reporting_district\": \"Foothill\", \"calls\": 89}, {\"monthday\": \"03/07\", \"reporting_district\": \"Harbor\", \"calls\": 121}, {\"monthday\": \"03/07\", \"reporting_district\": \"Hollenbeck\", \"calls\": 135}, {\"monthday\": \"03/07\", \"reporting_district\": \"Hollywood\", \"calls\": 181}, {\"monthday\": \"03/07\", \"reporting_district\": \"Mission\", \"calls\": 116}, {\"monthday\": \"03/07\", \"reporting_district\": \"N Hollywood\", \"calls\": 162}, {\"monthday\": \"03/07\", \"reporting_district\": \"Newton\", \"calls\": 155}, {\"monthday\": \"03/07\", \"reporting_district\": \"Northeast\", \"calls\": 150}, {\"monthday\": \"03/07\", \"reporting_district\": \"Olympic\", \"calls\": 148}, {\"monthday\": \"03/07\", \"reporting_district\": \"Pacific\", \"calls\": 229}, {\"monthday\": \"03/07\", \"reporting_district\": \"Rampart\", \"calls\": 137}, {\"monthday\": \"03/07\", \"reporting_district\": \"Southeast\", \"calls\": 132}, {\"monthday\": \"03/07\", \"reporting_district\": \"Southwest\", \"calls\": 173}, {\"monthday\": \"03/07\", \"reporting_district\": \"Topanga\", \"calls\": 132}, {\"monthday\": \"03/07\", \"reporting_district\": \"Van Nuys\", \"calls\": 145}, {\"monthday\": \"03/07\", \"reporting_district\": \"West LA\", \"calls\": 161}, {\"monthday\": \"03/07\", \"reporting_district\": \"West Valley\", \"calls\": 125}, {\"monthday\": \"03/07\", \"reporting_district\": \"Wilshire\", \"calls\": 160}, {\"monthday\": \"03/08\", \"reporting_district\": \"77th Street\", \"calls\": 209}, {\"monthday\": \"03/08\", \"reporting_district\": \"Central\", \"calls\": 179}, {\"monthday\": \"03/08\", \"reporting_district\": \"Devonshire\", \"calls\": 111}, {\"monthday\": \"03/08\", \"reporting_district\": \"Foothill\", \"calls\": 107}, {\"monthday\": \"03/08\", \"reporting_district\": \"Harbor\", \"calls\": 128}, {\"monthday\": \"03/08\", \"reporting_district\": \"Hollenbeck\", \"calls\": 121}, {\"monthday\": \"03/08\", \"reporting_district\": \"Hollywood\", \"calls\": 150}, {\"monthday\": \"03/08\", \"reporting_district\": \"Mission\", \"calls\": 122}, {\"monthday\": \"03/08\", \"reporting_district\": \"N Hollywood\", \"calls\": 132}, {\"monthday\": \"03/08\", \"reporting_district\": \"Newton\", \"calls\": 166}, {\"monthday\": \"03/08\", \"reporting_district\": \"Northeast\", \"calls\": 122}, {\"monthday\": \"03/08\", \"reporting_district\": \"Olympic\", \"calls\": 118}, {\"monthday\": \"03/08\", \"reporting_district\": \"Pacific\", \"calls\": 222}, {\"monthday\": \"03/08\", \"reporting_district\": \"Rampart\", \"calls\": 134}, {\"monthday\": \"03/08\", \"reporting_district\": \"Southeast\", \"calls\": 164}, {\"monthday\": \"03/08\", \"reporting_district\": \"Southwest\", \"calls\": 172}, {\"monthday\": \"03/08\", \"reporting_district\": \"Topanga\", \"calls\": 104}, {\"monthday\": \"03/08\", \"reporting_district\": \"Van Nuys\", \"calls\": 122}, {\"monthday\": \"03/08\", \"reporting_district\": \"West LA\", \"calls\": 145}, {\"monthday\": \"03/08\", \"reporting_district\": \"West Valley\", \"calls\": 134}, {\"monthday\": \"03/08\", \"reporting_district\": \"Wilshire\", \"calls\": 152}, {\"monthday\": \"03/09\", \"reporting_district\": \"77th Street\", \"calls\": 157}, {\"monthday\": \"03/09\", \"reporting_district\": \"Central\", \"calls\": 162}, {\"monthday\": \"03/09\", \"reporting_district\": \"Devonshire\", \"calls\": 121}, {\"monthday\": \"03/09\", \"reporting_district\": \"Foothill\", \"calls\": 130}, {\"monthday\": \"03/09\", \"reporting_district\": \"Harbor\", \"calls\": 117}, {\"monthday\": \"03/09\", \"reporting_district\": \"Hollenbeck\", \"calls\": 117}, {\"monthday\": \"03/09\", \"reporting_district\": \"Hollywood\", \"calls\": 145}, {\"monthday\": \"03/09\", \"reporting_district\": \"Mission\", \"calls\": 115}, {\"monthday\": \"03/09\", \"reporting_district\": \"N Hollywood\", \"calls\": 128}, {\"monthday\": \"03/09\", \"reporting_district\": \"Newton\", \"calls\": 142}, {\"monthday\": \"03/09\", \"reporting_district\": \"Northeast\", \"calls\": 122}, {\"monthday\": \"03/09\", \"reporting_district\": \"Olympic\", \"calls\": 110}, {\"monthday\": \"03/09\", \"reporting_district\": \"Pacific\", \"calls\": 159}, {\"monthday\": \"03/09\", \"reporting_district\": \"Rampart\", \"calls\": 137}, {\"monthday\": \"03/09\", \"reporting_district\": \"Southeast\", \"calls\": 113}, {\"monthday\": \"03/09\", \"reporting_district\": \"Southwest\", \"calls\": 130}, {\"monthday\": \"03/09\", \"reporting_district\": \"Topanga\", \"calls\": 110}, {\"monthday\": \"03/09\", \"reporting_district\": \"Van Nuys\", \"calls\": 121}, {\"monthday\": \"03/09\", \"reporting_district\": \"West LA\", \"calls\": 162}, {\"monthday\": \"03/09\", \"reporting_district\": \"West Valley\", \"calls\": 129}, {\"monthday\": \"03/09\", \"reporting_district\": \"Wilshire\", \"calls\": 143}, {\"monthday\": \"03/10\", \"reporting_district\": \"77th Street\", \"calls\": 175}, {\"monthday\": \"03/10\", \"reporting_district\": \"Central\", \"calls\": 157}, {\"monthday\": \"03/10\", \"reporting_district\": \"Devonshire\", \"calls\": 103}, {\"monthday\": \"03/10\", \"reporting_district\": \"Foothill\", \"calls\": 102}, {\"monthday\": \"03/10\", \"reporting_district\": \"Harbor\", \"calls\": 96}, {\"monthday\": \"03/10\", \"reporting_district\": \"Hollenbeck\", \"calls\": 127}, {\"monthday\": \"03/10\", \"reporting_district\": \"Hollywood\", \"calls\": 149}, {\"monthday\": \"03/10\", \"reporting_district\": \"Mission\", \"calls\": 137}, {\"monthday\": \"03/10\", \"reporting_district\": \"N Hollywood\", \"calls\": 166}, {\"monthday\": \"03/10\", \"reporting_district\": \"Newton\", \"calls\": 130}, {\"monthday\": \"03/10\", \"reporting_district\": \"Northeast\", \"calls\": 109}, {\"monthday\": \"03/10\", \"reporting_district\": \"Olympic\", \"calls\": 133}, {\"monthday\": \"03/10\", \"reporting_district\": \"Pacific\", \"calls\": 144}, {\"monthday\": \"03/10\", \"reporting_district\": \"Rampart\", \"calls\": 133}, {\"monthday\": \"03/10\", \"reporting_district\": \"Southeast\", \"calls\": 104}, {\"monthday\": \"03/10\", \"reporting_district\": \"Southwest\", \"calls\": 136}, {\"monthday\": \"03/10\", \"reporting_district\": \"Topanga\", \"calls\": 93}, {\"monthday\": \"03/10\", \"reporting_district\": \"Van Nuys\", \"calls\": 108}, {\"monthday\": \"03/10\", \"reporting_district\": \"West LA\", \"calls\": 142}, {\"monthday\": \"03/10\", \"reporting_district\": \"West Valley\", \"calls\": 132}, {\"monthday\": \"03/10\", \"reporting_district\": \"Wilshire\", \"calls\": 136}, {\"monthday\": \"03/11\", \"reporting_district\": \"77th Street\", \"calls\": 185}, {\"monthday\": \"03/11\", \"reporting_district\": \"Central\", \"calls\": 155}, {\"monthday\": \"03/11\", \"reporting_district\": \"Devonshire\", \"calls\": 136}, {\"monthday\": \"03/11\", \"reporting_district\": \"Foothill\", \"calls\": 110}, {\"monthday\": \"03/11\", \"reporting_district\": \"Harbor\", \"calls\": 122}, {\"monthday\": \"03/11\", \"reporting_district\": \"Hollenbeck\", \"calls\": 105}, {\"monthday\": \"03/11\", \"reporting_district\": \"Hollywood\", \"calls\": 148}, {\"monthday\": \"03/11\", \"reporting_district\": \"Mission\", \"calls\": 128}, {\"monthday\": \"03/11\", \"reporting_district\": \"N Hollywood\", \"calls\": 135}, {\"monthday\": \"03/11\", \"reporting_district\": \"Newton\", \"calls\": 126}, {\"monthday\": \"03/11\", \"reporting_district\": \"Northeast\", \"calls\": 104}, {\"monthday\": \"03/11\", \"reporting_district\": \"Olympic\", \"calls\": 153}, {\"monthday\": \"03/11\", \"reporting_district\": \"Pacific\", \"calls\": 156}, {\"monthday\": \"03/11\", \"reporting_district\": \"Rampart\", \"calls\": 143}, {\"monthday\": \"03/11\", \"reporting_district\": \"Southeast\", \"calls\": 142}, {\"monthday\": \"03/11\", \"reporting_district\": \"Southwest\", \"calls\": 141}, {\"monthday\": \"03/11\", \"reporting_district\": \"Topanga\", \"calls\": 105}, {\"monthday\": \"03/11\", \"reporting_district\": \"Van Nuys\", \"calls\": 146}, {\"monthday\": \"03/11\", \"reporting_district\": \"West LA\", \"calls\": 156}, {\"monthday\": \"03/11\", \"reporting_district\": \"West Valley\", \"calls\": 110}, {\"monthday\": \"03/11\", \"reporting_district\": \"Wilshire\", \"calls\": 135}, {\"monthday\": \"03/12\", \"reporting_district\": \"77th Street\", \"calls\": 172}, {\"monthday\": \"03/12\", \"reporting_district\": \"Central\", \"calls\": 158}, {\"monthday\": \"03/12\", \"reporting_district\": \"Devonshire\", \"calls\": 92}, {\"monthday\": \"03/12\", \"reporting_district\": \"Foothill\", \"calls\": 87}, {\"monthday\": \"03/12\", \"reporting_district\": \"Harbor\", \"calls\": 97}, {\"monthday\": \"03/12\", \"reporting_district\": \"Hollenbeck\", \"calls\": 111}, {\"monthday\": \"03/12\", \"reporting_district\": \"Hollywood\", \"calls\": 108}, {\"monthday\": \"03/12\", \"reporting_district\": \"Mission\", \"calls\": 107}, {\"monthday\": \"03/12\", \"reporting_district\": \"N Hollywood\", \"calls\": 118}, {\"monthday\": \"03/12\", \"reporting_district\": \"Newton\", \"calls\": 134}, {\"monthday\": \"03/12\", \"reporting_district\": \"Northeast\", \"calls\": 123}, {\"monthday\": \"03/12\", \"reporting_district\": \"Olympic\", \"calls\": 107}, {\"monthday\": \"03/12\", \"reporting_district\": \"Pacific\", \"calls\": 136}, {\"monthday\": \"03/12\", \"reporting_district\": \"Rampart\", \"calls\": 136}, {\"monthday\": \"03/12\", \"reporting_district\": \"Southeast\", \"calls\": 101}, {\"monthday\": \"03/12\", \"reporting_district\": \"Southwest\", \"calls\": 122}, {\"monthday\": \"03/12\", \"reporting_district\": \"Topanga\", \"calls\": 90}, {\"monthday\": \"03/12\", \"reporting_district\": \"Van Nuys\", \"calls\": 112}, {\"monthday\": \"03/12\", \"reporting_district\": \"West LA\", \"calls\": 120}, {\"monthday\": \"03/12\", \"reporting_district\": \"West Valley\", \"calls\": 116}, {\"monthday\": \"03/12\", \"reporting_district\": \"Wilshire\", \"calls\": 119}, {\"monthday\": \"03/13\", \"reporting_district\": \"77th Street\", \"calls\": 185}, {\"monthday\": \"03/13\", \"reporting_district\": \"Central\", \"calls\": 194}, {\"monthday\": \"03/13\", \"reporting_district\": \"Devonshire\", \"calls\": 101}, {\"monthday\": \"03/13\", \"reporting_district\": \"Foothill\", \"calls\": 108}, {\"monthday\": \"03/13\", \"reporting_district\": \"Harbor\", \"calls\": 119}, {\"monthday\": \"03/13\", \"reporting_district\": \"Hollenbeck\", \"calls\": 82}, {\"monthday\": \"03/13\", \"reporting_district\": \"Hollywood\", \"calls\": 159}, {\"monthday\": \"03/13\", \"reporting_district\": \"Mission\", \"calls\": 110}, {\"monthday\": \"03/13\", \"reporting_district\": \"N Hollywood\", \"calls\": 112}, {\"monthday\": \"03/13\", \"reporting_district\": \"Newton\", \"calls\": 127}, {\"monthday\": \"03/13\", \"reporting_district\": \"Northeast\", \"calls\": 129}, {\"monthday\": \"03/13\", \"reporting_district\": \"Olympic\", \"calls\": 124}, {\"monthday\": \"03/13\", \"reporting_district\": \"Pacific\", \"calls\": 133}, {\"monthday\": \"03/13\", \"reporting_district\": \"Rampart\", \"calls\": 116}, {\"monthday\": \"03/13\", \"reporting_district\": \"Southeast\", \"calls\": 121}, {\"monthday\": \"03/13\", \"reporting_district\": \"Southwest\", \"calls\": 146}, {\"monthday\": \"03/13\", \"reporting_district\": \"Topanga\", \"calls\": 91}, {\"monthday\": \"03/13\", \"reporting_district\": \"Van Nuys\", \"calls\": 91}, {\"monthday\": \"03/13\", \"reporting_district\": \"West LA\", \"calls\": 135}, {\"monthday\": \"03/13\", \"reporting_district\": \"West Valley\", \"calls\": 113}, {\"monthday\": \"03/13\", \"reporting_district\": \"Wilshire\", \"calls\": 129}, {\"monthday\": \"03/14\", \"reporting_district\": \"77th Street\", \"calls\": 200}, {\"monthday\": \"03/14\", \"reporting_district\": \"Central\", \"calls\": 160}, {\"monthday\": \"03/14\", \"reporting_district\": \"Devonshire\", \"calls\": 100}, {\"monthday\": \"03/14\", \"reporting_district\": \"Foothill\", \"calls\": 96}, {\"monthday\": \"03/14\", \"reporting_district\": \"Harbor\", \"calls\": 119}, {\"monthday\": \"03/14\", \"reporting_district\": \"Hollenbeck\", \"calls\": 108}, {\"monthday\": \"03/14\", \"reporting_district\": \"Hollywood\", \"calls\": 178}, {\"monthday\": \"03/14\", \"reporting_district\": \"Mission\", \"calls\": 144}, {\"monthday\": \"03/14\", \"reporting_district\": \"N Hollywood\", \"calls\": 158}, {\"monthday\": \"03/14\", \"reporting_district\": \"Newton\", \"calls\": 129}, {\"monthday\": \"03/14\", \"reporting_district\": \"Northeast\", \"calls\": 110}, {\"monthday\": \"03/14\", \"reporting_district\": \"Olympic\", \"calls\": 144}, {\"monthday\": \"03/14\", \"reporting_district\": \"Pacific\", \"calls\": 180}, {\"monthday\": \"03/14\", \"reporting_district\": \"Rampart\", \"calls\": 154}, {\"monthday\": \"03/14\", \"reporting_district\": \"Southeast\", \"calls\": 145}, {\"monthday\": \"03/14\", \"reporting_district\": \"Southwest\", \"calls\": 177}, {\"monthday\": \"03/14\", \"reporting_district\": \"Topanga\", \"calls\": 104}, {\"monthday\": \"03/14\", \"reporting_district\": \"Van Nuys\", \"calls\": 116}, {\"monthday\": \"03/14\", \"reporting_district\": \"West LA\", \"calls\": 109}, {\"monthday\": \"03/14\", \"reporting_district\": \"West Valley\", \"calls\": 131}, {\"monthday\": \"03/14\", \"reporting_district\": \"Wilshire\", \"calls\": 128}, {\"monthday\": \"03/15\", \"reporting_district\": \"77th Street\", \"calls\": 188}, {\"monthday\": \"03/15\", \"reporting_district\": \"Central\", \"calls\": 175}, {\"monthday\": \"03/15\", \"reporting_district\": \"Devonshire\", \"calls\": 96}, {\"monthday\": \"03/15\", \"reporting_district\": \"Foothill\", \"calls\": 108}, {\"monthday\": \"03/15\", \"reporting_district\": \"Harbor\", \"calls\": 120}, {\"monthday\": \"03/15\", \"reporting_district\": \"Hollenbeck\", \"calls\": 137}, {\"monthday\": \"03/15\", \"reporting_district\": \"Hollywood\", \"calls\": 147}, {\"monthday\": \"03/15\", \"reporting_district\": \"Mission\", \"calls\": 136}, {\"monthday\": \"03/15\", \"reporting_district\": \"N Hollywood\", \"calls\": 141}, {\"monthday\": \"03/15\", \"reporting_district\": \"Newton\", \"calls\": 153}, {\"monthday\": \"03/15\", \"reporting_district\": \"Northeast\", \"calls\": 130}, {\"monthday\": \"03/15\", \"reporting_district\": \"Olympic\", \"calls\": 196}, {\"monthday\": \"03/15\", \"reporting_district\": \"Pacific\", \"calls\": 155}, {\"monthday\": \"03/15\", \"reporting_district\": \"Rampart\", \"calls\": 128}, {\"monthday\": \"03/15\", \"reporting_district\": \"Southeast\", \"calls\": 147}, {\"monthday\": \"03/15\", \"reporting_district\": \"Southwest\", \"calls\": 193}, {\"monthday\": \"03/15\", \"reporting_district\": \"Topanga\", \"calls\": 109}, {\"monthday\": \"03/15\", \"reporting_district\": \"Van Nuys\", \"calls\": 121}, {\"monthday\": \"03/15\", \"reporting_district\": \"West LA\", \"calls\": 162}, {\"monthday\": \"03/15\", \"reporting_district\": \"West Valley\", \"calls\": 103}, {\"monthday\": \"03/15\", \"reporting_district\": \"Wilshire\", \"calls\": 141}, {\"monthday\": \"03/16\", \"reporting_district\": \"77th Street\", \"calls\": 165}, {\"monthday\": \"03/16\", \"reporting_district\": \"Central\", \"calls\": 153}, {\"monthday\": \"03/16\", \"reporting_district\": \"Devonshire\", \"calls\": 86}, {\"monthday\": \"03/16\", \"reporting_district\": \"Foothill\", \"calls\": 93}, {\"monthday\": \"03/16\", \"reporting_district\": \"Harbor\", \"calls\": 122}, {\"monthday\": \"03/16\", \"reporting_district\": \"Hollenbeck\", \"calls\": 92}, {\"monthday\": \"03/16\", \"reporting_district\": \"Hollywood\", \"calls\": 138}, {\"monthday\": \"03/16\", \"reporting_district\": \"Mission\", \"calls\": 109}, {\"monthday\": \"03/16\", \"reporting_district\": \"N Hollywood\", \"calls\": 128}, {\"monthday\": \"03/16\", \"reporting_district\": \"Newton\", \"calls\": 130}, {\"monthday\": \"03/16\", \"reporting_district\": \"Northeast\", \"calls\": 151}, {\"monthday\": \"03/16\", \"reporting_district\": \"Olympic\", \"calls\": 135}, {\"monthday\": \"03/16\", \"reporting_district\": \"Pacific\", \"calls\": 183}, {\"monthday\": \"03/16\", \"reporting_district\": \"Rampart\", \"calls\": 150}, {\"monthday\": \"03/16\", \"reporting_district\": \"Southeast\", \"calls\": 113}, {\"monthday\": \"03/16\", \"reporting_district\": \"Southwest\", \"calls\": 150}, {\"monthday\": \"03/16\", \"reporting_district\": \"Topanga\", \"calls\": 119}, {\"monthday\": \"03/16\", \"reporting_district\": \"Van Nuys\", \"calls\": 105}, {\"monthday\": \"03/16\", \"reporting_district\": \"West LA\", \"calls\": 137}, {\"monthday\": \"03/16\", \"reporting_district\": \"West Valley\", \"calls\": 94}, {\"monthday\": \"03/16\", \"reporting_district\": \"Wilshire\", \"calls\": 117}, {\"monthday\": \"03/17\", \"reporting_district\": \"77th Street\", \"calls\": 205}, {\"monthday\": \"03/17\", \"reporting_district\": \"Central\", \"calls\": 161}, {\"monthday\": \"03/17\", \"reporting_district\": \"Devonshire\", \"calls\": 103}, {\"monthday\": \"03/17\", \"reporting_district\": \"Foothill\", \"calls\": 83}, {\"monthday\": \"03/17\", \"reporting_district\": \"Harbor\", \"calls\": 121}, {\"monthday\": \"03/17\", \"reporting_district\": \"Hollenbeck\", \"calls\": 108}, {\"monthday\": \"03/17\", \"reporting_district\": \"Hollywood\", \"calls\": 194}, {\"monthday\": \"03/17\", \"reporting_district\": \"Mission\", \"calls\": 104}, {\"monthday\": \"03/17\", \"reporting_district\": \"N Hollywood\", \"calls\": 126}, {\"monthday\": \"03/17\", \"reporting_district\": \"Newton\", \"calls\": 133}, {\"monthday\": \"03/17\", \"reporting_district\": \"Northeast\", \"calls\": 100}, {\"monthday\": \"03/17\", \"reporting_district\": \"Olympic\", \"calls\": 138}, {\"monthday\": \"03/17\", \"reporting_district\": \"Pacific\", \"calls\": 134}, {\"monthday\": \"03/17\", \"reporting_district\": \"Rampart\", \"calls\": 132}, {\"monthday\": \"03/17\", \"reporting_district\": \"Southeast\", \"calls\": 139}, {\"monthday\": \"03/17\", \"reporting_district\": \"Southwest\", \"calls\": 164}, {\"monthday\": \"03/17\", \"reporting_district\": \"Topanga\", \"calls\": 111}, {\"monthday\": \"03/17\", \"reporting_district\": \"Van Nuys\", \"calls\": 132}, {\"monthday\": \"03/17\", \"reporting_district\": \"West LA\", \"calls\": 154}, {\"monthday\": \"03/17\", \"reporting_district\": \"West Valley\", \"calls\": 157}, {\"monthday\": \"03/17\", \"reporting_district\": \"Wilshire\", \"calls\": 139}, {\"monthday\": \"03/18\", \"reporting_district\": \"77th Street\", \"calls\": 148}, {\"monthday\": \"03/18\", \"reporting_district\": \"Central\", \"calls\": 127}, {\"monthday\": \"03/18\", \"reporting_district\": \"Devonshire\", \"calls\": 114}, {\"monthday\": \"03/18\", \"reporting_district\": \"Foothill\", \"calls\": 141}, {\"monthday\": \"03/18\", \"reporting_district\": \"Harbor\", \"calls\": 125}, {\"monthday\": \"03/18\", \"reporting_district\": \"Hollenbeck\", \"calls\": 121}, {\"monthday\": \"03/18\", \"reporting_district\": \"Hollywood\", \"calls\": 159}, {\"monthday\": \"03/18\", \"reporting_district\": \"Mission\", \"calls\": 122}, {\"monthday\": \"03/18\", \"reporting_district\": \"N Hollywood\", \"calls\": 130}, {\"monthday\": \"03/18\", \"reporting_district\": \"Newton\", \"calls\": 132}, {\"monthday\": \"03/18\", \"reporting_district\": \"Northeast\", \"calls\": 106}, {\"monthday\": \"03/18\", \"reporting_district\": \"Olympic\", \"calls\": 157}, {\"monthday\": \"03/18\", \"reporting_district\": \"Pacific\", \"calls\": 148}, {\"monthday\": \"03/18\", \"reporting_district\": \"Rampart\", \"calls\": 126}, {\"monthday\": \"03/18\", \"reporting_district\": \"Southeast\", \"calls\": 115}, {\"monthday\": \"03/18\", \"reporting_district\": \"Southwest\", \"calls\": 137}, {\"monthday\": \"03/18\", \"reporting_district\": \"Topanga\", \"calls\": 92}, {\"monthday\": \"03/18\", \"reporting_district\": \"Van Nuys\", \"calls\": 125}, {\"monthday\": \"03/18\", \"reporting_district\": \"West LA\", \"calls\": 139}, {\"monthday\": \"03/18\", \"reporting_district\": \"West Valley\", \"calls\": 104}, {\"monthday\": \"03/18\", \"reporting_district\": \"Wilshire\", \"calls\": 116}, {\"monthday\": \"03/19\", \"reporting_district\": \"77th Street\", \"calls\": 158}, {\"monthday\": \"03/19\", \"reporting_district\": \"Central\", \"calls\": 130}, {\"monthday\": \"03/19\", \"reporting_district\": \"Devonshire\", \"calls\": 108}, {\"monthday\": \"03/19\", \"reporting_district\": \"Foothill\", \"calls\": 90}, {\"monthday\": \"03/19\", \"reporting_district\": \"Harbor\", \"calls\": 95}, {\"monthday\": \"03/19\", \"reporting_district\": \"Hollenbeck\", \"calls\": 85}, {\"monthday\": \"03/19\", \"reporting_district\": \"Hollywood\", \"calls\": 135}, {\"monthday\": \"03/19\", \"reporting_district\": \"Mission\", \"calls\": 110}, {\"monthday\": \"03/19\", \"reporting_district\": \"N Hollywood\", \"calls\": 120}, {\"monthday\": \"03/19\", \"reporting_district\": \"Newton\", \"calls\": 147}, {\"monthday\": \"03/19\", \"reporting_district\": \"Northeast\", \"calls\": 129}, {\"monthday\": \"03/19\", \"reporting_district\": \"Olympic\", \"calls\": 143}, {\"monthday\": \"03/19\", \"reporting_district\": \"Pacific\", \"calls\": 137}, {\"monthday\": \"03/19\", \"reporting_district\": \"Rampart\", \"calls\": 132}, {\"monthday\": \"03/19\", \"reporting_district\": \"Southeast\", \"calls\": 99}, {\"monthday\": \"03/19\", \"reporting_district\": \"Southwest\", \"calls\": 117}, {\"monthday\": \"03/19\", \"reporting_district\": \"Topanga\", \"calls\": 98}, {\"monthday\": \"03/19\", \"reporting_district\": \"Van Nuys\", \"calls\": 110}, {\"monthday\": \"03/19\", \"reporting_district\": \"West LA\", \"calls\": 127}, {\"monthday\": \"03/19\", \"reporting_district\": \"West Valley\", \"calls\": 112}, {\"monthday\": \"03/19\", \"reporting_district\": \"Wilshire\", \"calls\": 104}, {\"monthday\": \"03/20\", \"reporting_district\": \"77th Street\", \"calls\": 199}, {\"monthday\": \"03/20\", \"reporting_district\": \"Central\", \"calls\": 135}, {\"monthday\": \"03/20\", \"reporting_district\": \"Devonshire\", \"calls\": 83}, {\"monthday\": \"03/20\", \"reporting_district\": \"Foothill\", \"calls\": 93}, {\"monthday\": \"03/20\", \"reporting_district\": \"Harbor\", \"calls\": 105}, {\"monthday\": \"03/20\", \"reporting_district\": \"Hollenbeck\", \"calls\": 81}, {\"monthday\": \"03/20\", \"reporting_district\": \"Hollywood\", \"calls\": 145}, {\"monthday\": \"03/20\", \"reporting_district\": \"Mission\", \"calls\": 107}, {\"monthday\": \"03/20\", \"reporting_district\": \"N Hollywood\", \"calls\": 136}, {\"monthday\": \"03/20\", \"reporting_district\": \"Newton\", \"calls\": 148}, {\"monthday\": \"03/20\", \"reporting_district\": \"Northeast\", \"calls\": 129}, {\"monthday\": \"03/20\", \"reporting_district\": \"Olympic\", \"calls\": 123}, {\"monthday\": \"03/20\", \"reporting_district\": \"Pacific\", \"calls\": 136}, {\"monthday\": \"03/20\", \"reporting_district\": \"Rampart\", \"calls\": 128}, {\"monthday\": \"03/20\", \"reporting_district\": \"Southeast\", \"calls\": 141}, {\"monthday\": \"03/20\", \"reporting_district\": \"Southwest\", \"calls\": 141}, {\"monthday\": \"03/20\", \"reporting_district\": \"Topanga\", \"calls\": 104}, {\"monthday\": \"03/20\", \"reporting_district\": \"Van Nuys\", \"calls\": 95}, {\"monthday\": \"03/20\", \"reporting_district\": \"West LA\", \"calls\": 128}, {\"monthday\": \"03/20\", \"reporting_district\": \"West Valley\", \"calls\": 102}, {\"monthday\": \"03/20\", \"reporting_district\": \"Wilshire\", \"calls\": 136}, {\"monthday\": \"03/21\", \"reporting_district\": \"77th Street\", \"calls\": 213}, {\"monthday\": \"03/21\", \"reporting_district\": \"Central\", \"calls\": 158}, {\"monthday\": \"03/21\", \"reporting_district\": \"Devonshire\", \"calls\": 101}, {\"monthday\": \"03/21\", \"reporting_district\": \"Foothill\", \"calls\": 123}, {\"monthday\": \"03/21\", \"reporting_district\": \"Harbor\", \"calls\": 109}, {\"monthday\": \"03/21\", \"reporting_district\": \"Hollenbeck\", \"calls\": 137}, {\"monthday\": \"03/21\", \"reporting_district\": \"Hollywood\", \"calls\": 164}, {\"monthday\": \"03/21\", \"reporting_district\": \"Mission\", \"calls\": 143}, {\"monthday\": \"03/21\", \"reporting_district\": \"N Hollywood\", \"calls\": 138}, {\"monthday\": \"03/21\", \"reporting_district\": \"Newton\", \"calls\": 155}, {\"monthday\": \"03/21\", \"reporting_district\": \"Northeast\", \"calls\": 133}, {\"monthday\": \"03/21\", \"reporting_district\": \"Olympic\", \"calls\": 130}, {\"monthday\": \"03/21\", \"reporting_district\": \"Pacific\", \"calls\": 145}, {\"monthday\": \"03/21\", \"reporting_district\": \"Rampart\", \"calls\": 162}, {\"monthday\": \"03/21\", \"reporting_district\": \"Southeast\", \"calls\": 134}, {\"monthday\": \"03/21\", \"reporting_district\": \"Southwest\", \"calls\": 144}, {\"monthday\": \"03/21\", \"reporting_district\": \"Topanga\", \"calls\": 115}, {\"monthday\": \"03/21\", \"reporting_district\": \"Van Nuys\", \"calls\": 102}, {\"monthday\": \"03/21\", \"reporting_district\": \"West LA\", \"calls\": 154}, {\"monthday\": \"03/21\", \"reporting_district\": \"West Valley\", \"calls\": 140}, {\"monthday\": \"03/21\", \"reporting_district\": \"Wilshire\", \"calls\": 122}, {\"monthday\": \"03/22\", \"reporting_district\": \"77th Street\", \"calls\": 180}, {\"monthday\": \"03/22\", \"reporting_district\": \"Central\", \"calls\": 116}, {\"monthday\": \"03/22\", \"reporting_district\": \"Devonshire\", \"calls\": 94}, {\"monthday\": \"03/22\", \"reporting_district\": \"Foothill\", \"calls\": 105}, {\"monthday\": \"03/22\", \"reporting_district\": \"Harbor\", \"calls\": 85}, {\"monthday\": \"03/22\", \"reporting_district\": \"Hollenbeck\", \"calls\": 92}, {\"monthday\": \"03/22\", \"reporting_district\": \"Hollywood\", \"calls\": 142}, {\"monthday\": \"03/22\", \"reporting_district\": \"Mission\", \"calls\": 133}, {\"monthday\": \"03/22\", \"reporting_district\": \"N Hollywood\", \"calls\": 133}, {\"monthday\": \"03/22\", \"reporting_district\": \"Newton\", \"calls\": 129}, {\"monthday\": \"03/22\", \"reporting_district\": \"Northeast\", \"calls\": 103}, {\"monthday\": \"03/22\", \"reporting_district\": \"Olympic\", \"calls\": 112}, {\"monthday\": \"03/22\", \"reporting_district\": \"Pacific\", \"calls\": 158}, {\"monthday\": \"03/22\", \"reporting_district\": \"Rampart\", \"calls\": 124}, {\"monthday\": \"03/22\", \"reporting_district\": \"Southeast\", \"calls\": 107}, {\"monthday\": \"03/22\", \"reporting_district\": \"Southwest\", \"calls\": 129}, {\"monthday\": \"03/22\", \"reporting_district\": \"Topanga\", \"calls\": 76}, {\"monthday\": \"03/22\", \"reporting_district\": \"Van Nuys\", \"calls\": 116}, {\"monthday\": \"03/22\", \"reporting_district\": \"West LA\", \"calls\": 125}, {\"monthday\": \"03/22\", \"reporting_district\": \"West Valley\", \"calls\": 107}, {\"monthday\": \"03/22\", \"reporting_district\": \"Wilshire\", \"calls\": 100}, {\"monthday\": \"03/23\", \"reporting_district\": \"77th Street\", \"calls\": 163}, {\"monthday\": \"03/23\", \"reporting_district\": \"Central\", \"calls\": 144}, {\"monthday\": \"03/23\", \"reporting_district\": \"Devonshire\", \"calls\": 120}, {\"monthday\": \"03/23\", \"reporting_district\": \"Foothill\", \"calls\": 95}, {\"monthday\": \"03/23\", \"reporting_district\": \"Harbor\", \"calls\": 111}, {\"monthday\": \"03/23\", \"reporting_district\": \"Hollenbeck\", \"calls\": 70}, {\"monthday\": \"03/23\", \"reporting_district\": \"Hollywood\", \"calls\": 142}, {\"monthday\": \"03/23\", \"reporting_district\": \"Mission\", \"calls\": 96}, {\"monthday\": \"03/23\", \"reporting_district\": \"N Hollywood\", \"calls\": 123}, {\"monthday\": \"03/23\", \"reporting_district\": \"Newton\", \"calls\": 140}, {\"monthday\": \"03/23\", \"reporting_district\": \"Northeast\", \"calls\": 89}, {\"monthday\": \"03/23\", \"reporting_district\": \"Olympic\", \"calls\": 169}, {\"monthday\": \"03/23\", \"reporting_district\": \"Pacific\", \"calls\": 148}, {\"monthday\": \"03/23\", \"reporting_district\": \"Rampart\", \"calls\": 135}, {\"monthday\": \"03/23\", \"reporting_district\": \"Southeast\", \"calls\": 123}, {\"monthday\": \"03/23\", \"reporting_district\": \"Southwest\", \"calls\": 133}, {\"monthday\": \"03/23\", \"reporting_district\": \"Topanga\", \"calls\": 94}, {\"monthday\": \"03/23\", \"reporting_district\": \"Van Nuys\", \"calls\": 107}, {\"monthday\": \"03/23\", \"reporting_district\": \"West LA\", \"calls\": 133}, {\"monthday\": \"03/23\", \"reporting_district\": \"West Valley\", \"calls\": 88}, {\"monthday\": \"03/23\", \"reporting_district\": \"Wilshire\", \"calls\": 120}, {\"monthday\": \"03/24\", \"reporting_district\": \"77th Street\", \"calls\": 198}, {\"monthday\": \"03/24\", \"reporting_district\": \"Central\", \"calls\": 175}, {\"monthday\": \"03/24\", \"reporting_district\": \"Devonshire\", \"calls\": 108}, {\"monthday\": \"03/24\", \"reporting_district\": \"Foothill\", \"calls\": 92}, {\"monthday\": \"03/24\", \"reporting_district\": \"Harbor\", \"calls\": 103}, {\"monthday\": \"03/24\", \"reporting_district\": \"Hollenbeck\", \"calls\": 114}, {\"monthday\": \"03/24\", \"reporting_district\": \"Hollywood\", \"calls\": 128}, {\"monthday\": \"03/24\", \"reporting_district\": \"Mission\", \"calls\": 111}, {\"monthday\": \"03/24\", \"reporting_district\": \"N Hollywood\", \"calls\": 132}, {\"monthday\": \"03/24\", \"reporting_district\": \"Newton\", \"calls\": 164}, {\"monthday\": \"03/24\", \"reporting_district\": \"Northeast\", \"calls\": 121}, {\"monthday\": \"03/24\", \"reporting_district\": \"Olympic\", \"calls\": 161}, {\"monthday\": \"03/24\", \"reporting_district\": \"Pacific\", \"calls\": 152}, {\"monthday\": \"03/24\", \"reporting_district\": \"Rampart\", \"calls\": 115}, {\"monthday\": \"03/24\", \"reporting_district\": \"Southeast\", \"calls\": 138}, {\"monthday\": \"03/24\", \"reporting_district\": \"Southwest\", \"calls\": 115}, {\"monthday\": \"03/24\", \"reporting_district\": \"Topanga\", \"calls\": 97}, {\"monthday\": \"03/24\", \"reporting_district\": \"Van Nuys\", \"calls\": 126}, {\"monthday\": \"03/24\", \"reporting_district\": \"West LA\", \"calls\": 93}, {\"monthday\": \"03/24\", \"reporting_district\": \"West Valley\", \"calls\": 121}, {\"monthday\": \"03/24\", \"reporting_district\": \"Wilshire\", \"calls\": 101}, {\"monthday\": \"03/25\", \"reporting_district\": \"77th Street\", \"calls\": 174}, {\"monthday\": \"03/25\", \"reporting_district\": \"Central\", \"calls\": 156}, {\"monthday\": \"03/25\", \"reporting_district\": \"Devonshire\", \"calls\": 123}, {\"monthday\": \"03/25\", \"reporting_district\": \"Foothill\", \"calls\": 116}, {\"monthday\": \"03/25\", \"reporting_district\": \"Harbor\", \"calls\": 112}, {\"monthday\": \"03/25\", \"reporting_district\": \"Hollenbeck\", \"calls\": 105}, {\"monthday\": \"03/25\", \"reporting_district\": \"Hollywood\", \"calls\": 127}, {\"monthday\": \"03/25\", \"reporting_district\": \"Mission\", \"calls\": 132}, {\"monthday\": \"03/25\", \"reporting_district\": \"N Hollywood\", \"calls\": 135}, {\"monthday\": \"03/25\", \"reporting_district\": \"Newton\", \"calls\": 140}, {\"monthday\": \"03/25\", \"reporting_district\": \"Northeast\", \"calls\": 116}, {\"monthday\": \"03/25\", \"reporting_district\": \"Olympic\", \"calls\": 109}, {\"monthday\": \"03/25\", \"reporting_district\": \"Pacific\", \"calls\": 157}, {\"monthday\": \"03/25\", \"reporting_district\": \"Rampart\", \"calls\": 125}, {\"monthday\": \"03/25\", \"reporting_district\": \"Southeast\", \"calls\": 121}, {\"monthday\": \"03/25\", \"reporting_district\": \"Southwest\", \"calls\": 153}, {\"monthday\": \"03/25\", \"reporting_district\": \"Topanga\", \"calls\": 92}, {\"monthday\": \"03/25\", \"reporting_district\": \"Van Nuys\", \"calls\": 115}, {\"monthday\": \"03/25\", \"reporting_district\": \"West LA\", \"calls\": 125}, {\"monthday\": \"03/25\", \"reporting_district\": \"West Valley\", \"calls\": 114}, {\"monthday\": \"03/25\", \"reporting_district\": \"Wilshire\", \"calls\": 119}, {\"monthday\": \"03/26\", \"reporting_district\": \"77th Street\", \"calls\": 183}, {\"monthday\": \"03/26\", \"reporting_district\": \"Central\", \"calls\": 129}, {\"monthday\": \"03/26\", \"reporting_district\": \"Devonshire\", \"calls\": 90}, {\"monthday\": \"03/26\", \"reporting_district\": \"Foothill\", \"calls\": 89}, {\"monthday\": \"03/26\", \"reporting_district\": \"Harbor\", \"calls\": 110}, {\"monthday\": \"03/26\", \"reporting_district\": \"Hollenbeck\", \"calls\": 84}, {\"monthday\": \"03/26\", \"reporting_district\": \"Hollywood\", \"calls\": 118}, {\"monthday\": \"03/26\", \"reporting_district\": \"Mission\", \"calls\": 137}, {\"monthday\": \"03/26\", \"reporting_district\": \"N Hollywood\", \"calls\": 128}, {\"monthday\": \"03/26\", \"reporting_district\": \"Newton\", \"calls\": 115}, {\"monthday\": \"03/26\", \"reporting_district\": \"Northeast\", \"calls\": 101}, {\"monthday\": \"03/26\", \"reporting_district\": \"Olympic\", \"calls\": 96}, {\"monthday\": \"03/26\", \"reporting_district\": \"Pacific\", \"calls\": 152}, {\"monthday\": \"03/26\", \"reporting_district\": \"Rampart\", \"calls\": 116}, {\"monthday\": \"03/26\", \"reporting_district\": \"Southeast\", \"calls\": 114}, {\"monthday\": \"03/26\", \"reporting_district\": \"Southwest\", \"calls\": 114}, {\"monthday\": \"03/26\", \"reporting_district\": \"Topanga\", \"calls\": 107}, {\"monthday\": \"03/26\", \"reporting_district\": \"Van Nuys\", \"calls\": 107}, {\"monthday\": \"03/26\", \"reporting_district\": \"West LA\", \"calls\": 161}, {\"monthday\": \"03/26\", \"reporting_district\": \"West Valley\", \"calls\": 109}, {\"monthday\": \"03/26\", \"reporting_district\": \"Wilshire\", \"calls\": 147}, {\"monthday\": \"03/27\", \"reporting_district\": \"77th Street\", \"calls\": 221}, {\"monthday\": \"03/27\", \"reporting_district\": \"Central\", \"calls\": 114}, {\"monthday\": \"03/27\", \"reporting_district\": \"Devonshire\", \"calls\": 89}, {\"monthday\": \"03/27\", \"reporting_district\": \"Foothill\", \"calls\": 128}, {\"monthday\": \"03/27\", \"reporting_district\": \"Harbor\", \"calls\": 93}, {\"monthday\": \"03/27\", \"reporting_district\": \"Hollenbeck\", \"calls\": 118}, {\"monthday\": \"03/27\", \"reporting_district\": \"Hollywood\", \"calls\": 158}, {\"monthday\": \"03/27\", \"reporting_district\": \"Mission\", \"calls\": 98}, {\"monthday\": \"03/27\", \"reporting_district\": \"N Hollywood\", \"calls\": 124}, {\"monthday\": \"03/27\", \"reporting_district\": \"Newton\", \"calls\": 131}, {\"monthday\": \"03/27\", \"reporting_district\": \"Northeast\", \"calls\": 102}, {\"monthday\": \"03/27\", \"reporting_district\": \"Olympic\", \"calls\": 123}, {\"monthday\": \"03/27\", \"reporting_district\": \"Pacific\", \"calls\": 146}, {\"monthday\": \"03/27\", \"reporting_district\": \"Rampart\", \"calls\": 138}, {\"monthday\": \"03/27\", \"reporting_district\": \"Southeast\", \"calls\": 129}, {\"monthday\": \"03/27\", \"reporting_district\": \"Southwest\", \"calls\": 137}, {\"monthday\": \"03/27\", \"reporting_district\": \"Topanga\", \"calls\": 117}, {\"monthday\": \"03/27\", \"reporting_district\": \"Van Nuys\", \"calls\": 108}, {\"monthday\": \"03/27\", \"reporting_district\": \"West LA\", \"calls\": 124}, {\"monthday\": \"03/27\", \"reporting_district\": \"West Valley\", \"calls\": 114}, {\"monthday\": \"03/27\", \"reporting_district\": \"Wilshire\", \"calls\": 109}, {\"monthday\": \"03/28\", \"reporting_district\": \"77th Street\", \"calls\": 222}, {\"monthday\": \"03/28\", \"reporting_district\": \"Central\", \"calls\": 138}, {\"monthday\": \"03/28\", \"reporting_district\": \"Devonshire\", \"calls\": 98}, {\"monthday\": \"03/28\", \"reporting_district\": \"Foothill\", \"calls\": 108}, {\"monthday\": \"03/28\", \"reporting_district\": \"Harbor\", \"calls\": 130}, {\"monthday\": \"03/28\", \"reporting_district\": \"Hollenbeck\", \"calls\": 154}, {\"monthday\": \"03/28\", \"reporting_district\": \"Hollywood\", \"calls\": 161}, {\"monthday\": \"03/28\", \"reporting_district\": \"Mission\", \"calls\": 117}, {\"monthday\": \"03/28\", \"reporting_district\": \"N Hollywood\", \"calls\": 136}, {\"monthday\": \"03/28\", \"reporting_district\": \"Newton\", \"calls\": 145}, {\"monthday\": \"03/28\", \"reporting_district\": \"Northeast\", \"calls\": 110}, {\"monthday\": \"03/28\", \"reporting_district\": \"Olympic\", \"calls\": 131}, {\"monthday\": \"03/28\", \"reporting_district\": \"Pacific\", \"calls\": 181}, {\"monthday\": \"03/28\", \"reporting_district\": \"Rampart\", \"calls\": 124}, {\"monthday\": \"03/28\", \"reporting_district\": \"Southeast\", \"calls\": 180}, {\"monthday\": \"03/28\", \"reporting_district\": \"Southwest\", \"calls\": 136}, {\"monthday\": \"03/28\", \"reporting_district\": \"Topanga\", \"calls\": 122}, {\"monthday\": \"03/28\", \"reporting_district\": \"Van Nuys\", \"calls\": 121}, {\"monthday\": \"03/28\", \"reporting_district\": \"West LA\", \"calls\": 124}, {\"monthday\": \"03/28\", \"reporting_district\": \"West Valley\", \"calls\": 95}, {\"monthday\": \"03/28\", \"reporting_district\": \"Wilshire\", \"calls\": 118}, {\"monthday\": \"03/29\", \"reporting_district\": \"77th Street\", \"calls\": 208}, {\"monthday\": \"03/29\", \"reporting_district\": \"Central\", \"calls\": 148}, {\"monthday\": \"03/29\", \"reporting_district\": \"Devonshire\", \"calls\": 102}, {\"monthday\": \"03/29\", \"reporting_district\": \"Foothill\", \"calls\": 105}, {\"monthday\": \"03/29\", \"reporting_district\": \"Harbor\", \"calls\": 127}, {\"monthday\": \"03/29\", \"reporting_district\": \"Hollenbeck\", \"calls\": 105}, {\"monthday\": \"03/29\", \"reporting_district\": \"Hollywood\", \"calls\": 147}, {\"monthday\": \"03/29\", \"reporting_district\": \"Mission\", \"calls\": 117}, {\"monthday\": \"03/29\", \"reporting_district\": \"N Hollywood\", \"calls\": 148}, {\"monthday\": \"03/29\", \"reporting_district\": \"Newton\", \"calls\": 142}, {\"monthday\": \"03/29\", \"reporting_district\": \"Northeast\", \"calls\": 123}, {\"monthday\": \"03/29\", \"reporting_district\": \"Olympic\", \"calls\": 114}, {\"monthday\": \"03/29\", \"reporting_district\": \"Pacific\", \"calls\": 168}, {\"monthday\": \"03/29\", \"reporting_district\": \"Rampart\", \"calls\": 133}, {\"monthday\": \"03/29\", \"reporting_district\": \"Southeast\", \"calls\": 135}, {\"monthday\": \"03/29\", \"reporting_district\": \"Southwest\", \"calls\": 155}, {\"monthday\": \"03/29\", \"reporting_district\": \"Topanga\", \"calls\": 94}, {\"monthday\": \"03/29\", \"reporting_district\": \"Van Nuys\", \"calls\": 120}, {\"monthday\": \"03/29\", \"reporting_district\": \"West LA\", \"calls\": 156}, {\"monthday\": \"03/29\", \"reporting_district\": \"West Valley\", \"calls\": 94}, {\"monthday\": \"03/29\", \"reporting_district\": \"Wilshire\", \"calls\": 121}, {\"monthday\": \"03/30\", \"reporting_district\": \"77th Street\", \"calls\": 189}, {\"monthday\": \"03/30\", \"reporting_district\": \"Central\", \"calls\": 114}, {\"monthday\": \"03/30\", \"reporting_district\": \"Devonshire\", \"calls\": 105}, {\"monthday\": \"03/30\", \"reporting_district\": \"Foothill\", \"calls\": 83}, {\"monthday\": \"03/30\", \"reporting_district\": \"Harbor\", \"calls\": 95}, {\"monthday\": \"03/30\", \"reporting_district\": \"Hollenbeck\", \"calls\": 110}, {\"monthday\": \"03/30\", \"reporting_district\": \"Hollywood\", \"calls\": 116}, {\"monthday\": \"03/30\", \"reporting_district\": \"Mission\", \"calls\": 97}, {\"monthday\": \"03/30\", \"reporting_district\": \"N Hollywood\", \"calls\": 122}, {\"monthday\": \"03/30\", \"reporting_district\": \"Newton\", \"calls\": 188}, {\"monthday\": \"03/30\", \"reporting_district\": \"Northeast\", \"calls\": 92}, {\"monthday\": \"03/30\", \"reporting_district\": \"Olympic\", \"calls\": 145}, {\"monthday\": \"03/30\", \"reporting_district\": \"Pacific\", \"calls\": 127}, {\"monthday\": \"03/30\", \"reporting_district\": \"Rampart\", \"calls\": 114}, {\"monthday\": \"03/30\", \"reporting_district\": \"Southeast\", \"calls\": 107}, {\"monthday\": \"03/30\", \"reporting_district\": \"Southwest\", \"calls\": 122}, {\"monthday\": \"03/30\", \"reporting_district\": \"Topanga\", \"calls\": 102}, {\"monthday\": \"03/30\", \"reporting_district\": \"Van Nuys\", \"calls\": 102}, {\"monthday\": \"03/30\", \"reporting_district\": \"West LA\", \"calls\": 129}, {\"monthday\": \"03/30\", \"reporting_district\": \"West Valley\", \"calls\": 113}, {\"monthday\": \"03/30\", \"reporting_district\": \"Wilshire\", \"calls\": 137}, {\"monthday\": \"03/31\", \"reporting_district\": \"77th Street\", \"calls\": 203}, {\"monthday\": \"03/31\", \"reporting_district\": \"Central\", \"calls\": 160}, {\"monthday\": \"03/31\", \"reporting_district\": \"Devonshire\", \"calls\": 131}, {\"monthday\": \"03/31\", \"reporting_district\": \"Foothill\", \"calls\": 129}, {\"monthday\": \"03/31\", \"reporting_district\": \"Harbor\", \"calls\": 112}, {\"monthday\": \"03/31\", \"reporting_district\": \"Hollenbeck\", \"calls\": 106}, {\"monthday\": \"03/31\", \"reporting_district\": \"Hollywood\", \"calls\": 148}, {\"monthday\": \"03/31\", \"reporting_district\": \"Mission\", \"calls\": 138}, {\"monthday\": \"03/31\", \"reporting_district\": \"N Hollywood\", \"calls\": 148}, {\"monthday\": \"03/31\", \"reporting_district\": \"Newton\", \"calls\": 140}, {\"monthday\": \"03/31\", \"reporting_district\": \"Northeast\", \"calls\": 123}, {\"monthday\": \"03/31\", \"reporting_district\": \"Olympic\", \"calls\": 115}, {\"monthday\": \"03/31\", \"reporting_district\": \"Pacific\", \"calls\": 178}, {\"monthday\": \"03/31\", \"reporting_district\": \"Rampart\", \"calls\": 147}, {\"monthday\": \"03/31\", \"reporting_district\": \"Southeast\", \"calls\": 116}, {\"monthday\": \"03/31\", \"reporting_district\": \"Southwest\", \"calls\": 146}, {\"monthday\": \"03/31\", \"reporting_district\": \"Topanga\", \"calls\": 109}, {\"monthday\": \"03/31\", \"reporting_district\": \"Van Nuys\", \"calls\": 142}, {\"monthday\": \"03/31\", \"reporting_district\": \"West LA\", \"calls\": 140}, {\"monthday\": \"03/31\", \"reporting_district\": \"West Valley\", \"calls\": 129}, {\"monthday\": \"03/31\", \"reporting_district\": \"Wilshire\", \"calls\": 117}, {\"monthday\": \"04/01\", \"reporting_district\": \"77th Street\", \"calls\": 196}, {\"monthday\": \"04/01\", \"reporting_district\": \"Central\", \"calls\": 152}, {\"monthday\": \"04/01\", \"reporting_district\": \"Devonshire\", \"calls\": 96}, {\"monthday\": \"04/01\", \"reporting_district\": \"Foothill\", \"calls\": 108}, {\"monthday\": \"04/01\", \"reporting_district\": \"Harbor\", \"calls\": 116}, {\"monthday\": \"04/01\", \"reporting_district\": \"Hollenbeck\", \"calls\": 133}, {\"monthday\": \"04/01\", \"reporting_district\": \"Hollywood\", \"calls\": 182}, {\"monthday\": \"04/01\", \"reporting_district\": \"Mission\", \"calls\": 148}, {\"monthday\": \"04/01\", \"reporting_district\": \"N Hollywood\", \"calls\": 117}, {\"monthday\": \"04/01\", \"reporting_district\": \"Newton\", \"calls\": 139}, {\"monthday\": \"04/01\", \"reporting_district\": \"Northeast\", \"calls\": 133}, {\"monthday\": \"04/01\", \"reporting_district\": \"Olympic\", \"calls\": 134}, {\"monthday\": \"04/01\", \"reporting_district\": \"Pacific\", \"calls\": 150}, {\"monthday\": \"04/01\", \"reporting_district\": \"Rampart\", \"calls\": 167}, {\"monthday\": \"04/01\", \"reporting_district\": \"Southeast\", \"calls\": 115}, {\"monthday\": \"04/01\", \"reporting_district\": \"Southwest\", \"calls\": 156}, {\"monthday\": \"04/01\", \"reporting_district\": \"Topanga\", \"calls\": 110}, {\"monthday\": \"04/01\", \"reporting_district\": \"Van Nuys\", \"calls\": 104}, {\"monthday\": \"04/01\", \"reporting_district\": \"West LA\", \"calls\": 139}, {\"monthday\": \"04/01\", \"reporting_district\": \"West Valley\", \"calls\": 131}, {\"monthday\": \"04/01\", \"reporting_district\": \"Wilshire\", \"calls\": 149}, {\"monthday\": \"04/02\", \"reporting_district\": \"77th Street\", \"calls\": 193}, {\"monthday\": \"04/02\", \"reporting_district\": \"Central\", \"calls\": 145}, {\"monthday\": \"04/02\", \"reporting_district\": \"Devonshire\", \"calls\": 100}, {\"monthday\": \"04/02\", \"reporting_district\": \"Foothill\", \"calls\": 114}, {\"monthday\": \"04/02\", \"reporting_district\": \"Harbor\", \"calls\": 108}, {\"monthday\": \"04/02\", \"reporting_district\": \"Hollenbeck\", \"calls\": 132}, {\"monthday\": \"04/02\", \"reporting_district\": \"Hollywood\", \"calls\": 132}, {\"monthday\": \"04/02\", \"reporting_district\": \"Mission\", \"calls\": 125}, {\"monthday\": \"04/02\", \"reporting_district\": \"N Hollywood\", \"calls\": 134}, {\"monthday\": \"04/02\", \"reporting_district\": \"Newton\", \"calls\": 137}, {\"monthday\": \"04/02\", \"reporting_district\": \"Northeast\", \"calls\": 98}, {\"monthday\": \"04/02\", \"reporting_district\": \"Olympic\", \"calls\": 156}, {\"monthday\": \"04/02\", \"reporting_district\": \"Pacific\", \"calls\": 160}, {\"monthday\": \"04/02\", \"reporting_district\": \"Rampart\", \"calls\": 148}, {\"monthday\": \"04/02\", \"reporting_district\": \"Southeast\", \"calls\": 137}, {\"monthday\": \"04/02\", \"reporting_district\": \"Southwest\", \"calls\": 122}, {\"monthday\": \"04/02\", \"reporting_district\": \"Topanga\", \"calls\": 115}, {\"monthday\": \"04/02\", \"reporting_district\": \"Van Nuys\", \"calls\": 116}, {\"monthday\": \"04/02\", \"reporting_district\": \"West LA\", \"calls\": 157}, {\"monthday\": \"04/02\", \"reporting_district\": \"West Valley\", \"calls\": 103}, {\"monthday\": \"04/02\", \"reporting_district\": \"Wilshire\", \"calls\": 139}, {\"monthday\": \"04/03\", \"reporting_district\": \"77th Street\", \"calls\": 191}, {\"monthday\": \"04/03\", \"reporting_district\": \"Central\", \"calls\": 146}, {\"monthday\": \"04/03\", \"reporting_district\": \"Devonshire\", \"calls\": 94}, {\"monthday\": \"04/03\", \"reporting_district\": \"Foothill\", \"calls\": 104}, {\"monthday\": \"04/03\", \"reporting_district\": \"Harbor\", \"calls\": 122}, {\"monthday\": \"04/03\", \"reporting_district\": \"Hollenbeck\", \"calls\": 114}, {\"monthday\": \"04/03\", \"reporting_district\": \"Hollywood\", \"calls\": 134}, {\"monthday\": \"04/03\", \"reporting_district\": \"Mission\", \"calls\": 131}, {\"monthday\": \"04/03\", \"reporting_district\": \"N Hollywood\", \"calls\": 136}, {\"monthday\": \"04/03\", \"reporting_district\": \"Newton\", \"calls\": 134}, {\"monthday\": \"04/03\", \"reporting_district\": \"Northeast\", \"calls\": 144}, {\"monthday\": \"04/03\", \"reporting_district\": \"Olympic\", \"calls\": 126}, {\"monthday\": \"04/03\", \"reporting_district\": \"Pacific\", \"calls\": 166}, {\"monthday\": \"04/03\", \"reporting_district\": \"Rampart\", \"calls\": 140}, {\"monthday\": \"04/03\", \"reporting_district\": \"Southeast\", \"calls\": 121}, {\"monthday\": \"04/03\", \"reporting_district\": \"Southwest\", \"calls\": 169}, {\"monthday\": \"04/03\", \"reporting_district\": \"Topanga\", \"calls\": 115}, {\"monthday\": \"04/03\", \"reporting_district\": \"Van Nuys\", \"calls\": 131}, {\"monthday\": \"04/03\", \"reporting_district\": \"West LA\", \"calls\": 110}, {\"monthday\": \"04/03\", \"reporting_district\": \"West Valley\", \"calls\": 126}, {\"monthday\": \"04/03\", \"reporting_district\": \"Wilshire\", \"calls\": 143}, {\"monthday\": \"04/04\", \"reporting_district\": \"77th Street\", \"calls\": 256}, {\"monthday\": \"04/04\", \"reporting_district\": \"Central\", \"calls\": 127}, {\"monthday\": \"04/04\", \"reporting_district\": \"Devonshire\", \"calls\": 104}, {\"monthday\": \"04/04\", \"reporting_district\": \"Foothill\", \"calls\": 112}, {\"monthday\": \"04/04\", \"reporting_district\": \"Harbor\", \"calls\": 118}, {\"monthday\": \"04/04\", \"reporting_district\": \"Hollenbeck\", \"calls\": 101}, {\"monthday\": \"04/04\", \"reporting_district\": \"Hollywood\", \"calls\": 149}, {\"monthday\": \"04/04\", \"reporting_district\": \"Mission\", \"calls\": 112}, {\"monthday\": \"04/04\", \"reporting_district\": \"N Hollywood\", \"calls\": 104}, {\"monthday\": \"04/04\", \"reporting_district\": \"Newton\", \"calls\": 202}, {\"monthday\": \"04/04\", \"reporting_district\": \"Northeast\", \"calls\": 107}, {\"monthday\": \"04/04\", \"reporting_district\": \"Olympic\", \"calls\": 123}, {\"monthday\": \"04/04\", \"reporting_district\": \"Pacific\", \"calls\": 152}, {\"monthday\": \"04/04\", \"reporting_district\": \"Rampart\", \"calls\": 150}, {\"monthday\": \"04/04\", \"reporting_district\": \"Southeast\", \"calls\": 153}, {\"monthday\": \"04/04\", \"reporting_district\": \"Southwest\", \"calls\": 169}, {\"monthday\": \"04/04\", \"reporting_district\": \"Topanga\", \"calls\": 104}, {\"monthday\": \"04/04\", \"reporting_district\": \"Van Nuys\", \"calls\": 107}, {\"monthday\": \"04/04\", \"reporting_district\": \"West LA\", \"calls\": 142}, {\"monthday\": \"04/04\", \"reporting_district\": \"West Valley\", \"calls\": 101}, {\"monthday\": \"04/04\", \"reporting_district\": \"Wilshire\", \"calls\": 120}, {\"monthday\": \"04/05\", \"reporting_district\": \"77th Street\", \"calls\": 221}, {\"monthday\": \"04/05\", \"reporting_district\": \"Central\", \"calls\": 129}, {\"monthday\": \"04/05\", \"reporting_district\": \"Devonshire\", \"calls\": 115}, {\"monthday\": \"04/05\", \"reporting_district\": \"Foothill\", \"calls\": 87}, {\"monthday\": \"04/05\", \"reporting_district\": \"Harbor\", \"calls\": 113}, {\"monthday\": \"04/05\", \"reporting_district\": \"Hollenbeck\", \"calls\": 105}, {\"monthday\": \"04/05\", \"reporting_district\": \"Hollywood\", \"calls\": 150}, {\"monthday\": \"04/05\", \"reporting_district\": \"Mission\", \"calls\": 110}, {\"monthday\": \"04/05\", \"reporting_district\": \"N Hollywood\", \"calls\": 131}, {\"monthday\": \"04/05\", \"reporting_district\": \"Newton\", \"calls\": 137}, {\"monthday\": \"04/05\", \"reporting_district\": \"Northeast\", \"calls\": 116}, {\"monthday\": \"04/05\", \"reporting_district\": \"Olympic\", \"calls\": 137}, {\"monthday\": \"04/05\", \"reporting_district\": \"Pacific\", \"calls\": 150}, {\"monthday\": \"04/05\", \"reporting_district\": \"Rampart\", \"calls\": 159}, {\"monthday\": \"04/05\", \"reporting_district\": \"Southeast\", \"calls\": 143}, {\"monthday\": \"04/05\", \"reporting_district\": \"Southwest\", \"calls\": 155}, {\"monthday\": \"04/05\", \"reporting_district\": \"Topanga\", \"calls\": 87}, {\"monthday\": \"04/05\", \"reporting_district\": \"Van Nuys\", \"calls\": 135}, {\"monthday\": \"04/05\", \"reporting_district\": \"West LA\", \"calls\": 115}, {\"monthday\": \"04/05\", \"reporting_district\": \"West Valley\", \"calls\": 98}, {\"monthday\": \"04/05\", \"reporting_district\": \"Wilshire\", \"calls\": 125}, {\"monthday\": \"04/06\", \"reporting_district\": \"77th Street\", \"calls\": 171}, {\"monthday\": \"04/06\", \"reporting_district\": \"Central\", \"calls\": 137}, {\"monthday\": \"04/06\", \"reporting_district\": \"Devonshire\", \"calls\": 91}, {\"monthday\": \"04/06\", \"reporting_district\": \"Foothill\", \"calls\": 94}, {\"monthday\": \"04/06\", \"reporting_district\": \"Harbor\", \"calls\": 103}, {\"monthday\": \"04/06\", \"reporting_district\": \"Hollenbeck\", \"calls\": 88}, {\"monthday\": \"04/06\", \"reporting_district\": \"Hollywood\", \"calls\": 135}, {\"monthday\": \"04/06\", \"reporting_district\": \"Mission\", \"calls\": 131}, {\"monthday\": \"04/06\", \"reporting_district\": \"N Hollywood\", \"calls\": 128}, {\"monthday\": \"04/06\", \"reporting_district\": \"Newton\", \"calls\": 112}, {\"monthday\": \"04/06\", \"reporting_district\": \"Northeast\", \"calls\": 124}, {\"monthday\": \"04/06\", \"reporting_district\": \"Olympic\", \"calls\": 108}, {\"monthday\": \"04/06\", \"reporting_district\": \"Pacific\", \"calls\": 145}, {\"monthday\": \"04/06\", \"reporting_district\": \"Rampart\", \"calls\": 133}, {\"monthday\": \"04/06\", \"reporting_district\": \"Southeast\", \"calls\": 123}, {\"monthday\": \"04/06\", \"reporting_district\": \"Southwest\", \"calls\": 125}, {\"monthday\": \"04/06\", \"reporting_district\": \"Topanga\", \"calls\": 118}, {\"monthday\": \"04/06\", \"reporting_district\": \"Van Nuys\", \"calls\": 136}, {\"monthday\": \"04/06\", \"reporting_district\": \"West LA\", \"calls\": 119}, {\"monthday\": \"04/06\", \"reporting_district\": \"West Valley\", \"calls\": 90}, {\"monthday\": \"04/06\", \"reporting_district\": \"Wilshire\", \"calls\": 107}, {\"monthday\": \"04/07\", \"reporting_district\": \"77th Street\", \"calls\": 183}, {\"monthday\": \"04/07\", \"reporting_district\": \"Central\", \"calls\": 155}, {\"monthday\": \"04/07\", \"reporting_district\": \"Devonshire\", \"calls\": 85}, {\"monthday\": \"04/07\", \"reporting_district\": \"Foothill\", \"calls\": 91}, {\"monthday\": \"04/07\", \"reporting_district\": \"Harbor\", \"calls\": 104}, {\"monthday\": \"04/07\", \"reporting_district\": \"Hollenbeck\", \"calls\": 103}, {\"monthday\": \"04/07\", \"reporting_district\": \"Hollywood\", \"calls\": 122}, {\"monthday\": \"04/07\", \"reporting_district\": \"Mission\", \"calls\": 113}, {\"monthday\": \"04/07\", \"reporting_district\": \"N Hollywood\", \"calls\": 140}, {\"monthday\": \"04/07\", \"reporting_district\": \"Newton\", \"calls\": 127}, {\"monthday\": \"04/07\", \"reporting_district\": \"Northeast\", \"calls\": 134}, {\"monthday\": \"04/07\", \"reporting_district\": \"Olympic\", \"calls\": 125}, {\"monthday\": \"04/07\", \"reporting_district\": \"Pacific\", \"calls\": 133}, {\"monthday\": \"04/07\", \"reporting_district\": \"Rampart\", \"calls\": 139}, {\"monthday\": \"04/07\", \"reporting_district\": \"Southeast\", \"calls\": 118}, {\"monthday\": \"04/07\", \"reporting_district\": \"Southwest\", \"calls\": 145}, {\"monthday\": \"04/07\", \"reporting_district\": \"Topanga\", \"calls\": 117}, {\"monthday\": \"04/07\", \"reporting_district\": \"Van Nuys\", \"calls\": 114}, {\"monthday\": \"04/07\", \"reporting_district\": \"West LA\", \"calls\": 113}, {\"monthday\": \"04/07\", \"reporting_district\": \"West Valley\", \"calls\": 106}, {\"monthday\": \"04/07\", \"reporting_district\": \"Wilshire\", \"calls\": 103}, {\"monthday\": \"04/08\", \"reporting_district\": \"77th Street\", \"calls\": 194}, {\"monthday\": \"04/08\", \"reporting_district\": \"Central\", \"calls\": 148}, {\"monthday\": \"04/08\", \"reporting_district\": \"Devonshire\", \"calls\": 92}, {\"monthday\": \"04/08\", \"reporting_district\": \"Foothill\", \"calls\": 109}, {\"monthday\": \"04/08\", \"reporting_district\": \"Harbor\", \"calls\": 91}, {\"monthday\": \"04/08\", \"reporting_district\": \"Hollenbeck\", \"calls\": 115}, {\"monthday\": \"04/08\", \"reporting_district\": \"Hollywood\", \"calls\": 129}, {\"monthday\": \"04/08\", \"reporting_district\": \"Mission\", \"calls\": 92}, {\"monthday\": \"04/08\", \"reporting_district\": \"N Hollywood\", \"calls\": 102}, {\"monthday\": \"04/08\", \"reporting_district\": \"Newton\", \"calls\": 122}, {\"monthday\": \"04/08\", \"reporting_district\": \"Northeast\", \"calls\": 100}, {\"monthday\": \"04/08\", \"reporting_district\": \"Olympic\", \"calls\": 102}, {\"monthday\": \"04/08\", \"reporting_district\": \"Pacific\", \"calls\": 183}, {\"monthday\": \"04/08\", \"reporting_district\": \"Rampart\", \"calls\": 143}, {\"monthday\": \"04/08\", \"reporting_district\": \"Southeast\", \"calls\": 135}, {\"monthday\": \"04/08\", \"reporting_district\": \"Southwest\", \"calls\": 186}, {\"monthday\": \"04/08\", \"reporting_district\": \"Topanga\", \"calls\": 89}, {\"monthday\": \"04/08\", \"reporting_district\": \"Van Nuys\", \"calls\": 98}, {\"monthday\": \"04/08\", \"reporting_district\": \"West LA\", \"calls\": 162}, {\"monthday\": \"04/08\", \"reporting_district\": \"West Valley\", \"calls\": 105}, {\"monthday\": \"04/08\", \"reporting_district\": \"Wilshire\", \"calls\": 134}, {\"monthday\": \"04/09\", \"reporting_district\": \"77th Street\", \"calls\": 121}, {\"monthday\": \"04/09\", \"reporting_district\": \"Central\", \"calls\": 139}, {\"monthday\": \"04/09\", \"reporting_district\": \"Devonshire\", \"calls\": 116}, {\"monthday\": \"04/09\", \"reporting_district\": \"Foothill\", \"calls\": 79}, {\"monthday\": \"04/09\", \"reporting_district\": \"Harbor\", \"calls\": 77}, {\"monthday\": \"04/09\", \"reporting_district\": \"Hollenbeck\", \"calls\": 89}, {\"monthday\": \"04/09\", \"reporting_district\": \"Hollywood\", \"calls\": 119}, {\"monthday\": \"04/09\", \"reporting_district\": \"Mission\", \"calls\": 105}, {\"monthday\": \"04/09\", \"reporting_district\": \"N Hollywood\", \"calls\": 110}, {\"monthday\": \"04/09\", \"reporting_district\": \"Newton\", \"calls\": 101}, {\"monthday\": \"04/09\", \"reporting_district\": \"Northeast\", \"calls\": 96}, {\"monthday\": \"04/09\", \"reporting_district\": \"Olympic\", \"calls\": 97}, {\"monthday\": \"04/09\", \"reporting_district\": \"Pacific\", \"calls\": 129}, {\"monthday\": \"04/09\", \"reporting_district\": \"Rampart\", \"calls\": 95}, {\"monthday\": \"04/09\", \"reporting_district\": \"Southeast\", \"calls\": 105}, {\"monthday\": \"04/09\", \"reporting_district\": \"Southwest\", \"calls\": 120}, {\"monthday\": \"04/09\", \"reporting_district\": \"Topanga\", \"calls\": 94}, {\"monthday\": \"04/09\", \"reporting_district\": \"Van Nuys\", \"calls\": 89}, {\"monthday\": \"04/09\", \"reporting_district\": \"West LA\", \"calls\": 75}, {\"monthday\": \"04/09\", \"reporting_district\": \"West Valley\", \"calls\": 71}, {\"monthday\": \"04/09\", \"reporting_district\": \"Wilshire\", \"calls\": 106}, {\"monthday\": \"04/10\", \"reporting_district\": \"77th Street\", \"calls\": 204}, {\"monthday\": \"04/10\", \"reporting_district\": \"Central\", \"calls\": 121}, {\"monthday\": \"04/10\", \"reporting_district\": \"Devonshire\", \"calls\": 92}, {\"monthday\": \"04/10\", \"reporting_district\": \"Foothill\", \"calls\": 104}, {\"monthday\": \"04/10\", \"reporting_district\": \"Harbor\", \"calls\": 124}, {\"monthday\": \"04/10\", \"reporting_district\": \"Hollenbeck\", \"calls\": 101}, {\"monthday\": \"04/10\", \"reporting_district\": \"Hollywood\", \"calls\": 144}, {\"monthday\": \"04/10\", \"reporting_district\": \"Mission\", \"calls\": 138}, {\"monthday\": \"04/10\", \"reporting_district\": \"N Hollywood\", \"calls\": 138}, {\"monthday\": \"04/10\", \"reporting_district\": \"Newton\", \"calls\": 122}, {\"monthday\": \"04/10\", \"reporting_district\": \"Northeast\", \"calls\": 97}, {\"monthday\": \"04/10\", \"reporting_district\": \"Olympic\", \"calls\": 133}, {\"monthday\": \"04/10\", \"reporting_district\": \"Pacific\", \"calls\": 142}, {\"monthday\": \"04/10\", \"reporting_district\": \"Rampart\", \"calls\": 119}, {\"monthday\": \"04/10\", \"reporting_district\": \"Southeast\", \"calls\": 99}, {\"monthday\": \"04/10\", \"reporting_district\": \"Southwest\", \"calls\": 140}, {\"monthday\": \"04/10\", \"reporting_district\": \"Topanga\", \"calls\": 128}, {\"monthday\": \"04/10\", \"reporting_district\": \"Van Nuys\", \"calls\": 102}, {\"monthday\": \"04/10\", \"reporting_district\": \"West LA\", \"calls\": 123}, {\"monthday\": \"04/10\", \"reporting_district\": \"West Valley\", \"calls\": 129}, {\"monthday\": \"04/10\", \"reporting_district\": \"Wilshire\", \"calls\": 110}, {\"monthday\": \"04/11\", \"reporting_district\": \"77th Street\", \"calls\": 245}, {\"monthday\": \"04/11\", \"reporting_district\": \"Central\", \"calls\": 134}, {\"monthday\": \"04/11\", \"reporting_district\": \"Devonshire\", \"calls\": 101}, {\"monthday\": \"04/11\", \"reporting_district\": \"Foothill\", \"calls\": 123}, {\"monthday\": \"04/11\", \"reporting_district\": \"Harbor\", \"calls\": 105}, {\"monthday\": \"04/11\", \"reporting_district\": \"Hollenbeck\", \"calls\": 145}, {\"monthday\": \"04/11\", \"reporting_district\": \"Hollywood\", \"calls\": 164}, {\"monthday\": \"04/11\", \"reporting_district\": \"Mission\", \"calls\": 127}, {\"monthday\": \"04/11\", \"reporting_district\": \"N Hollywood\", \"calls\": 124}, {\"monthday\": \"04/11\", \"reporting_district\": \"Newton\", \"calls\": 143}, {\"monthday\": \"04/11\", \"reporting_district\": \"Northeast\", \"calls\": 96}, {\"monthday\": \"04/11\", \"reporting_district\": \"Olympic\", \"calls\": 129}, {\"monthday\": \"04/11\", \"reporting_district\": \"Pacific\", \"calls\": 139}, {\"monthday\": \"04/11\", \"reporting_district\": \"Rampart\", \"calls\": 159}, {\"monthday\": \"04/11\", \"reporting_district\": \"Southeast\", \"calls\": 151}, {\"monthday\": \"04/11\", \"reporting_district\": \"Southwest\", \"calls\": 185}, {\"monthday\": \"04/11\", \"reporting_district\": \"Topanga\", \"calls\": 116}, {\"monthday\": \"04/11\", \"reporting_district\": \"Van Nuys\", \"calls\": 116}, {\"monthday\": \"04/11\", \"reporting_district\": \"West LA\", \"calls\": 127}, {\"monthday\": \"04/11\", \"reporting_district\": \"West Valley\", \"calls\": 113}, {\"monthday\": \"04/11\", \"reporting_district\": \"Wilshire\", \"calls\": 128}, {\"monthday\": \"04/12\", \"reporting_district\": \"77th Street\", \"calls\": 223}, {\"monthday\": \"04/12\", \"reporting_district\": \"Central\", \"calls\": 125}, {\"monthday\": \"04/12\", \"reporting_district\": \"Devonshire\", \"calls\": 105}, {\"monthday\": \"04/12\", \"reporting_district\": \"Foothill\", \"calls\": 122}, {\"monthday\": \"04/12\", \"reporting_district\": \"Harbor\", \"calls\": 136}, {\"monthday\": \"04/12\", \"reporting_district\": \"Hollenbeck\", \"calls\": 118}, {\"monthday\": \"04/12\", \"reporting_district\": \"Hollywood\", \"calls\": 169}, {\"monthday\": \"04/12\", \"reporting_district\": \"Mission\", \"calls\": 134}, {\"monthday\": \"04/12\", \"reporting_district\": \"N Hollywood\", \"calls\": 136}, {\"monthday\": \"04/12\", \"reporting_district\": \"Newton\", \"calls\": 166}, {\"monthday\": \"04/12\", \"reporting_district\": \"Northeast\", \"calls\": 126}, {\"monthday\": \"04/12\", \"reporting_district\": \"Olympic\", \"calls\": 156}, {\"monthday\": \"04/12\", \"reporting_district\": \"Pacific\", \"calls\": 149}, {\"monthday\": \"04/12\", \"reporting_district\": \"Rampart\", \"calls\": 172}, {\"monthday\": \"04/12\", \"reporting_district\": \"Southeast\", \"calls\": 166}, {\"monthday\": \"04/12\", \"reporting_district\": \"Southwest\", \"calls\": 160}, {\"monthday\": \"04/12\", \"reporting_district\": \"Topanga\", \"calls\": 131}, {\"monthday\": \"04/12\", \"reporting_district\": \"Van Nuys\", \"calls\": 141}, {\"monthday\": \"04/12\", \"reporting_district\": \"West LA\", \"calls\": 131}, {\"monthday\": \"04/12\", \"reporting_district\": \"West Valley\", \"calls\": 153}, {\"monthday\": \"04/12\", \"reporting_district\": \"Wilshire\", \"calls\": 134}, {\"monthday\": \"04/13\", \"reporting_district\": \"77th Street\", \"calls\": 179}, {\"monthday\": \"04/13\", \"reporting_district\": \"Central\", \"calls\": 127}, {\"monthday\": \"04/13\", \"reporting_district\": \"Devonshire\", \"calls\": 99}, {\"monthday\": \"04/13\", \"reporting_district\": \"Foothill\", \"calls\": 106}, {\"monthday\": \"04/13\", \"reporting_district\": \"Harbor\", \"calls\": 110}, {\"monthday\": \"04/13\", \"reporting_district\": \"Hollenbeck\", \"calls\": 99}, {\"monthday\": \"04/13\", \"reporting_district\": \"Hollywood\", \"calls\": 143}, {\"monthday\": \"04/13\", \"reporting_district\": \"Mission\", \"calls\": 127}, {\"monthday\": \"04/13\", \"reporting_district\": \"N Hollywood\", \"calls\": 137}, {\"monthday\": \"04/13\", \"reporting_district\": \"Newton\", \"calls\": 127}, {\"monthday\": \"04/13\", \"reporting_district\": \"Northeast\", \"calls\": 129}, {\"monthday\": \"04/13\", \"reporting_district\": \"Olympic\", \"calls\": 173}, {\"monthday\": \"04/13\", \"reporting_district\": \"Pacific\", \"calls\": 141}, {\"monthday\": \"04/13\", \"reporting_district\": \"Rampart\", \"calls\": 146}, {\"monthday\": \"04/13\", \"reporting_district\": \"Southeast\", \"calls\": 114}, {\"monthday\": \"04/13\", \"reporting_district\": \"Southwest\", \"calls\": 157}, {\"monthday\": \"04/13\", \"reporting_district\": \"Topanga\", \"calls\": 112}, {\"monthday\": \"04/13\", \"reporting_district\": \"Van Nuys\", \"calls\": 111}, {\"monthday\": \"04/13\", \"reporting_district\": \"West LA\", \"calls\": 131}, {\"monthday\": \"04/13\", \"reporting_district\": \"West Valley\", \"calls\": 109}, {\"monthday\": \"04/13\", \"reporting_district\": \"Wilshire\", \"calls\": 99}, {\"monthday\": \"04/14\", \"reporting_district\": \"77th Street\", \"calls\": 183}, {\"monthday\": \"04/14\", \"reporting_district\": \"Central\", \"calls\": 142}, {\"monthday\": \"04/14\", \"reporting_district\": \"Devonshire\", \"calls\": 108}, {\"monthday\": \"04/14\", \"reporting_district\": \"Foothill\", \"calls\": 130}, {\"monthday\": \"04/14\", \"reporting_district\": \"Harbor\", \"calls\": 136}, {\"monthday\": \"04/14\", \"reporting_district\": \"Hollenbeck\", \"calls\": 105}, {\"monthday\": \"04/14\", \"reporting_district\": \"Hollywood\", \"calls\": 167}, {\"monthday\": \"04/14\", \"reporting_district\": \"Mission\", \"calls\": 123}, {\"monthday\": \"04/14\", \"reporting_district\": \"N Hollywood\", \"calls\": 142}, {\"monthday\": \"04/14\", \"reporting_district\": \"Newton\", \"calls\": 154}, {\"monthday\": \"04/14\", \"reporting_district\": \"Northeast\", \"calls\": 138}, {\"monthday\": \"04/14\", \"reporting_district\": \"Olympic\", \"calls\": 157}, {\"monthday\": \"04/14\", \"reporting_district\": \"Pacific\", \"calls\": 155}, {\"monthday\": \"04/14\", \"reporting_district\": \"Rampart\", \"calls\": 166}, {\"monthday\": \"04/14\", \"reporting_district\": \"Southeast\", \"calls\": 155}, {\"monthday\": \"04/14\", \"reporting_district\": \"Southwest\", \"calls\": 157}, {\"monthday\": \"04/14\", \"reporting_district\": \"Topanga\", \"calls\": 125}, {\"monthday\": \"04/14\", \"reporting_district\": \"Van Nuys\", \"calls\": 128}, {\"monthday\": \"04/14\", \"reporting_district\": \"West LA\", \"calls\": 134}, {\"monthday\": \"04/14\", \"reporting_district\": \"West Valley\", \"calls\": 129}, {\"monthday\": \"04/14\", \"reporting_district\": \"Wilshire\", \"calls\": 132}, {\"monthday\": \"04/15\", \"reporting_district\": \"77th Street\", \"calls\": 204}, {\"monthday\": \"04/15\", \"reporting_district\": \"Central\", \"calls\": 154}, {\"monthday\": \"04/15\", \"reporting_district\": \"Devonshire\", \"calls\": 100}, {\"monthday\": \"04/15\", \"reporting_district\": \"Foothill\", \"calls\": 135}, {\"monthday\": \"04/15\", \"reporting_district\": \"Harbor\", \"calls\": 144}, {\"monthday\": \"04/15\", \"reporting_district\": \"Hollenbeck\", \"calls\": 147}, {\"monthday\": \"04/15\", \"reporting_district\": \"Hollywood\", \"calls\": 161}, {\"monthday\": \"04/15\", \"reporting_district\": \"Mission\", \"calls\": 160}, {\"monthday\": \"04/15\", \"reporting_district\": \"N Hollywood\", \"calls\": 171}, {\"monthday\": \"04/15\", \"reporting_district\": \"Newton\", \"calls\": 153}, {\"monthday\": \"04/15\", \"reporting_district\": \"Northeast\", \"calls\": 132}, {\"monthday\": \"04/15\", \"reporting_district\": \"Olympic\", \"calls\": 150}, {\"monthday\": \"04/15\", \"reporting_district\": \"Pacific\", \"calls\": 160}, {\"monthday\": \"04/15\", \"reporting_district\": \"Rampart\", \"calls\": 150}, {\"monthday\": \"04/15\", \"reporting_district\": \"Southeast\", \"calls\": 158}, {\"monthday\": \"04/15\", \"reporting_district\": \"Southwest\", \"calls\": 162}, {\"monthday\": \"04/15\", \"reporting_district\": \"Topanga\", \"calls\": 113}, {\"monthday\": \"04/15\", \"reporting_district\": \"Van Nuys\", \"calls\": 150}, {\"monthday\": \"04/15\", \"reporting_district\": \"West LA\", \"calls\": 157}, {\"monthday\": \"04/15\", \"reporting_district\": \"West Valley\", \"calls\": 120}, {\"monthday\": \"04/15\", \"reporting_district\": \"Wilshire\", \"calls\": 137}, {\"monthday\": \"04/16\", \"reporting_district\": \"77th Street\", \"calls\": 178}, {\"monthday\": \"04/16\", \"reporting_district\": \"Central\", \"calls\": 135}, {\"monthday\": \"04/16\", \"reporting_district\": \"Devonshire\", \"calls\": 107}, {\"monthday\": \"04/16\", \"reporting_district\": \"Foothill\", \"calls\": 125}, {\"monthday\": \"04/16\", \"reporting_district\": \"Harbor\", \"calls\": 128}, {\"monthday\": \"04/16\", \"reporting_district\": \"Hollenbeck\", \"calls\": 101}, {\"monthday\": \"04/16\", \"reporting_district\": \"Hollywood\", \"calls\": 190}, {\"monthday\": \"04/16\", \"reporting_district\": \"Mission\", \"calls\": 132}, {\"monthday\": \"04/16\", \"reporting_district\": \"N Hollywood\", \"calls\": 149}, {\"monthday\": \"04/16\", \"reporting_district\": \"Newton\", \"calls\": 158}, {\"monthday\": \"04/16\", \"reporting_district\": \"Northeast\", \"calls\": 110}, {\"monthday\": \"04/16\", \"reporting_district\": \"Olympic\", \"calls\": 132}, {\"monthday\": \"04/16\", \"reporting_district\": \"Pacific\", \"calls\": 162}, {\"monthday\": \"04/16\", \"reporting_district\": \"Rampart\", \"calls\": 153}, {\"monthday\": \"04/16\", \"reporting_district\": \"Southeast\", \"calls\": 127}, {\"monthday\": \"04/16\", \"reporting_district\": \"Southwest\", \"calls\": 139}, {\"monthday\": \"04/16\", \"reporting_district\": \"Topanga\", \"calls\": 114}, {\"monthday\": \"04/16\", \"reporting_district\": \"Van Nuys\", \"calls\": 127}, {\"monthday\": \"04/16\", \"reporting_district\": \"West LA\", \"calls\": 148}, {\"monthday\": \"04/16\", \"reporting_district\": \"West Valley\", \"calls\": 116}, {\"monthday\": \"04/16\", \"reporting_district\": \"Wilshire\", \"calls\": 151}, {\"monthday\": \"04/17\", \"reporting_district\": \"77th Street\", \"calls\": 186}, {\"monthday\": \"04/17\", \"reporting_district\": \"Central\", \"calls\": 157}, {\"monthday\": \"04/17\", \"reporting_district\": \"Devonshire\", \"calls\": 110}, {\"monthday\": \"04/17\", \"reporting_district\": \"Foothill\", \"calls\": 107}, {\"monthday\": \"04/17\", \"reporting_district\": \"Harbor\", \"calls\": 138}, {\"monthday\": \"04/17\", \"reporting_district\": \"Hollenbeck\", \"calls\": 146}, {\"monthday\": \"04/17\", \"reporting_district\": \"Hollywood\", \"calls\": 150}, {\"monthday\": \"04/17\", \"reporting_district\": \"Mission\", \"calls\": 144}, {\"monthday\": \"04/17\", \"reporting_district\": \"N Hollywood\", \"calls\": 148}, {\"monthday\": \"04/17\", \"reporting_district\": \"Newton\", \"calls\": 139}, {\"monthday\": \"04/17\", \"reporting_district\": \"Northeast\", \"calls\": 131}, {\"monthday\": \"04/17\", \"reporting_district\": \"Olympic\", \"calls\": 147}, {\"monthday\": \"04/17\", \"reporting_district\": \"Pacific\", \"calls\": 186}, {\"monthday\": \"04/17\", \"reporting_district\": \"Rampart\", \"calls\": 133}, {\"monthday\": \"04/17\", \"reporting_district\": \"Southeast\", \"calls\": 134}, {\"monthday\": \"04/17\", \"reporting_district\": \"Southwest\", \"calls\": 143}, {\"monthday\": \"04/17\", \"reporting_district\": \"Topanga\", \"calls\": 118}, {\"monthday\": \"04/17\", \"reporting_district\": \"Van Nuys\", \"calls\": 98}, {\"monthday\": \"04/17\", \"reporting_district\": \"West LA\", \"calls\": 134}, {\"monthday\": \"04/17\", \"reporting_district\": \"West Valley\", \"calls\": 103}, {\"monthday\": \"04/17\", \"reporting_district\": \"Wilshire\", \"calls\": 168}, {\"monthday\": \"04/18\", \"reporting_district\": \"77th Street\", \"calls\": 229}, {\"monthday\": \"04/18\", \"reporting_district\": \"Central\", \"calls\": 136}, {\"monthday\": \"04/18\", \"reporting_district\": \"Devonshire\", \"calls\": 112}, {\"monthday\": \"04/18\", \"reporting_district\": \"Foothill\", \"calls\": 122}, {\"monthday\": \"04/18\", \"reporting_district\": \"Harbor\", \"calls\": 149}, {\"monthday\": \"04/18\", \"reporting_district\": \"Hollenbeck\", \"calls\": 120}, {\"monthday\": \"04/18\", \"reporting_district\": \"Hollywood\", \"calls\": 177}, {\"monthday\": \"04/18\", \"reporting_district\": \"Mission\", \"calls\": 147}, {\"monthday\": \"04/18\", \"reporting_district\": \"N Hollywood\", \"calls\": 152}, {\"monthday\": \"04/18\", \"reporting_district\": \"Newton\", \"calls\": 130}, {\"monthday\": \"04/18\", \"reporting_district\": \"Northeast\", \"calls\": 139}, {\"monthday\": \"04/18\", \"reporting_district\": \"Olympic\", \"calls\": 124}, {\"monthday\": \"04/18\", \"reporting_district\": \"Pacific\", \"calls\": 197}, {\"monthday\": \"04/18\", \"reporting_district\": \"Rampart\", \"calls\": 180}, {\"monthday\": \"04/18\", \"reporting_district\": \"Southeast\", \"calls\": 162}, {\"monthday\": \"04/18\", \"reporting_district\": \"Southwest\", \"calls\": 181}, {\"monthday\": \"04/18\", \"reporting_district\": \"Topanga\", \"calls\": 129}, {\"monthday\": \"04/18\", \"reporting_district\": \"Van Nuys\", \"calls\": 114}, {\"monthday\": \"04/18\", \"reporting_district\": \"West LA\", \"calls\": 147}, {\"monthday\": \"04/18\", \"reporting_district\": \"West Valley\", \"calls\": 145}, {\"monthday\": \"04/18\", \"reporting_district\": \"Wilshire\", \"calls\": 126}, {\"monthday\": \"04/19\", \"reporting_district\": \"77th Street\", \"calls\": 250}, {\"monthday\": \"04/19\", \"reporting_district\": \"Central\", \"calls\": 150}, {\"monthday\": \"04/19\", \"reporting_district\": \"Devonshire\", \"calls\": 122}, {\"monthday\": \"04/19\", \"reporting_district\": \"Foothill\", \"calls\": 124}, {\"monthday\": \"04/19\", \"reporting_district\": \"Harbor\", \"calls\": 145}, {\"monthday\": \"04/19\", \"reporting_district\": \"Hollenbeck\", \"calls\": 178}, {\"monthday\": \"04/19\", \"reporting_district\": \"Hollywood\", \"calls\": 177}, {\"monthday\": \"04/19\", \"reporting_district\": \"Mission\", \"calls\": 148}, {\"monthday\": \"04/19\", \"reporting_district\": \"N Hollywood\", \"calls\": 151}, {\"monthday\": \"04/19\", \"reporting_district\": \"Newton\", \"calls\": 214}, {\"monthday\": \"04/19\", \"reporting_district\": \"Northeast\", \"calls\": 113}, {\"monthday\": \"04/19\", \"reporting_district\": \"Olympic\", \"calls\": 134}, {\"monthday\": \"04/19\", \"reporting_district\": \"Pacific\", \"calls\": 168}, {\"monthday\": \"04/19\", \"reporting_district\": \"Rampart\", \"calls\": 150}, {\"monthday\": \"04/19\", \"reporting_district\": \"Southeast\", \"calls\": 159}, {\"monthday\": \"04/19\", \"reporting_district\": \"Southwest\", \"calls\": 177}, {\"monthday\": \"04/19\", \"reporting_district\": \"Topanga\", \"calls\": 106}, {\"monthday\": \"04/19\", \"reporting_district\": \"Van Nuys\", \"calls\": 115}, {\"monthday\": \"04/19\", \"reporting_district\": \"West LA\", \"calls\": 136}, {\"monthday\": \"04/19\", \"reporting_district\": \"West Valley\", \"calls\": 125}, {\"monthday\": \"04/19\", \"reporting_district\": \"Wilshire\", \"calls\": 171}, {\"monthday\": \"04/20\", \"reporting_district\": \"77th Street\", \"calls\": 225}, {\"monthday\": \"04/20\", \"reporting_district\": \"Central\", \"calls\": 169}, {\"monthday\": \"04/20\", \"reporting_district\": \"Devonshire\", \"calls\": 115}, {\"monthday\": \"04/20\", \"reporting_district\": \"Foothill\", \"calls\": 118}, {\"monthday\": \"04/20\", \"reporting_district\": \"Harbor\", \"calls\": 132}, {\"monthday\": \"04/20\", \"reporting_district\": \"Hollenbeck\", \"calls\": 119}, {\"monthday\": \"04/20\", \"reporting_district\": \"Hollywood\", \"calls\": 179}, {\"monthday\": \"04/20\", \"reporting_district\": \"Mission\", \"calls\": 114}, {\"monthday\": \"04/20\", \"reporting_district\": \"N Hollywood\", \"calls\": 155}, {\"monthday\": \"04/20\", \"reporting_district\": \"Newton\", \"calls\": 129}, {\"monthday\": \"04/20\", \"reporting_district\": \"Northeast\", \"calls\": 122}, {\"monthday\": \"04/20\", \"reporting_district\": \"Olympic\", \"calls\": 159}, {\"monthday\": \"04/20\", \"reporting_district\": \"Pacific\", \"calls\": 159}, {\"monthday\": \"04/20\", \"reporting_district\": \"Rampart\", \"calls\": 185}, {\"monthday\": \"04/20\", \"reporting_district\": \"Southeast\", \"calls\": 178}, {\"monthday\": \"04/20\", \"reporting_district\": \"Southwest\", \"calls\": 131}, {\"monthday\": \"04/20\", \"reporting_district\": \"Topanga\", \"calls\": 120}, {\"monthday\": \"04/20\", \"reporting_district\": \"Van Nuys\", \"calls\": 120}, {\"monthday\": \"04/20\", \"reporting_district\": \"West LA\", \"calls\": 147}, {\"monthday\": \"04/20\", \"reporting_district\": \"West Valley\", \"calls\": 124}, {\"monthday\": \"04/20\", \"reporting_district\": \"Wilshire\", \"calls\": 165}, {\"monthday\": \"04/21\", \"reporting_district\": \"77th Street\", \"calls\": 215}, {\"monthday\": \"04/21\", \"reporting_district\": \"Central\", \"calls\": 161}, {\"monthday\": \"04/21\", \"reporting_district\": \"Devonshire\", \"calls\": 112}, {\"monthday\": \"04/21\", \"reporting_district\": \"Foothill\", \"calls\": 90}, {\"monthday\": \"04/21\", \"reporting_district\": \"Harbor\", \"calls\": 97}, {\"monthday\": \"04/21\", \"reporting_district\": \"Hollenbeck\", \"calls\": 101}, {\"monthday\": \"04/21\", \"reporting_district\": \"Hollywood\", \"calls\": 176}, {\"monthday\": \"04/21\", \"reporting_district\": \"Mission\", \"calls\": 107}, {\"monthday\": \"04/21\", \"reporting_district\": \"N Hollywood\", \"calls\": 147}, {\"monthday\": \"04/21\", \"reporting_district\": \"Newton\", \"calls\": 132}, {\"monthday\": \"04/21\", \"reporting_district\": \"Northeast\", \"calls\": 104}, {\"monthday\": \"04/21\", \"reporting_district\": \"Olympic\", \"calls\": 156}, {\"monthday\": \"04/21\", \"reporting_district\": \"Pacific\", \"calls\": 177}, {\"monthday\": \"04/21\", \"reporting_district\": \"Rampart\", \"calls\": 141}, {\"monthday\": \"04/21\", \"reporting_district\": \"Southeast\", \"calls\": 154}, {\"monthday\": \"04/21\", \"reporting_district\": \"Southwest\", \"calls\": 222}, {\"monthday\": \"04/21\", \"reporting_district\": \"Topanga\", \"calls\": 132}, {\"monthday\": \"04/21\", \"reporting_district\": \"Van Nuys\", \"calls\": 131}, {\"monthday\": \"04/21\", \"reporting_district\": \"West LA\", \"calls\": 139}, {\"monthday\": \"04/21\", \"reporting_district\": \"West Valley\", \"calls\": 123}, {\"monthday\": \"04/21\", \"reporting_district\": \"Wilshire\", \"calls\": 161}, {\"monthday\": \"04/22\", \"reporting_district\": \"77th Street\", \"calls\": 224}, {\"monthday\": \"04/22\", \"reporting_district\": \"Central\", \"calls\": 159}, {\"monthday\": \"04/22\", \"reporting_district\": \"Devonshire\", \"calls\": 111}, {\"monthday\": \"04/22\", \"reporting_district\": \"Foothill\", \"calls\": 107}, {\"monthday\": \"04/22\", \"reporting_district\": \"Harbor\", \"calls\": 121}, {\"monthday\": \"04/22\", \"reporting_district\": \"Hollenbeck\", \"calls\": 128}, {\"monthday\": \"04/22\", \"reporting_district\": \"Hollywood\", \"calls\": 121}, {\"monthday\": \"04/22\", \"reporting_district\": \"Mission\", \"calls\": 137}, {\"monthday\": \"04/22\", \"reporting_district\": \"N Hollywood\", \"calls\": 136}, {\"monthday\": \"04/22\", \"reporting_district\": \"Newton\", \"calls\": 117}, {\"monthday\": \"04/22\", \"reporting_district\": \"Northeast\", \"calls\": 125}, {\"monthday\": \"04/22\", \"reporting_district\": \"Olympic\", \"calls\": 108}, {\"monthday\": \"04/22\", \"reporting_district\": \"Pacific\", \"calls\": 144}, {\"monthday\": \"04/22\", \"reporting_district\": \"Rampart\", \"calls\": 143}, {\"monthday\": \"04/22\", \"reporting_district\": \"Southeast\", \"calls\": 145}, {\"monthday\": \"04/22\", \"reporting_district\": \"Southwest\", \"calls\": 121}, {\"monthday\": \"04/22\", \"reporting_district\": \"Topanga\", \"calls\": 148}, {\"monthday\": \"04/22\", \"reporting_district\": \"Van Nuys\", \"calls\": 144}, {\"monthday\": \"04/22\", \"reporting_district\": \"West LA\", \"calls\": 150}, {\"monthday\": \"04/22\", \"reporting_district\": \"West Valley\", \"calls\": 143}, {\"monthday\": \"04/22\", \"reporting_district\": \"Wilshire\", \"calls\": 156}, {\"monthday\": \"04/23\", \"reporting_district\": \"77th Street\", \"calls\": 196}, {\"monthday\": \"04/23\", \"reporting_district\": \"Central\", \"calls\": 135}, {\"monthday\": \"04/23\", \"reporting_district\": \"Devonshire\", \"calls\": 100}, {\"monthday\": \"04/23\", \"reporting_district\": \"Foothill\", \"calls\": 154}, {\"monthday\": \"04/23\", \"reporting_district\": \"Harbor\", \"calls\": 132}, {\"monthday\": \"04/23\", \"reporting_district\": \"Hollenbeck\", \"calls\": 141}, {\"monthday\": \"04/23\", \"reporting_district\": \"Hollywood\", \"calls\": 175}, {\"monthday\": \"04/23\", \"reporting_district\": \"Mission\", \"calls\": 120}, {\"monthday\": \"04/23\", \"reporting_district\": \"N Hollywood\", \"calls\": 159}, {\"monthday\": \"04/23\", \"reporting_district\": \"Newton\", \"calls\": 160}, {\"monthday\": \"04/23\", \"reporting_district\": \"Northeast\", \"calls\": 122}, {\"monthday\": \"04/23\", \"reporting_district\": \"Olympic\", \"calls\": 135}, {\"monthday\": \"04/23\", \"reporting_district\": \"Pacific\", \"calls\": 164}, {\"monthday\": \"04/23\", \"reporting_district\": \"Rampart\", \"calls\": 117}, {\"monthday\": \"04/23\", \"reporting_district\": \"Southeast\", \"calls\": 153}, {\"monthday\": \"04/23\", \"reporting_district\": \"Southwest\", \"calls\": 138}, {\"monthday\": \"04/23\", \"reporting_district\": \"Topanga\", \"calls\": 118}, {\"monthday\": \"04/23\", \"reporting_district\": \"Van Nuys\", \"calls\": 141}, {\"monthday\": \"04/23\", \"reporting_district\": \"West LA\", \"calls\": 164}, {\"monthday\": \"04/23\", \"reporting_district\": \"West Valley\", \"calls\": 131}, {\"monthday\": \"04/23\", \"reporting_district\": \"Wilshire\", \"calls\": 160}, {\"monthday\": \"04/24\", \"reporting_district\": \"77th Street\", \"calls\": 244}, {\"monthday\": \"04/24\", \"reporting_district\": \"Central\", \"calls\": 157}, {\"monthday\": \"04/24\", \"reporting_district\": \"Devonshire\", \"calls\": 116}, {\"monthday\": \"04/24\", \"reporting_district\": \"Foothill\", \"calls\": 105}, {\"monthday\": \"04/24\", \"reporting_district\": \"Harbor\", \"calls\": 162}, {\"monthday\": \"04/24\", \"reporting_district\": \"Hollenbeck\", \"calls\": 158}, {\"monthday\": \"04/24\", \"reporting_district\": \"Hollywood\", \"calls\": 198}, {\"monthday\": \"04/24\", \"reporting_district\": \"Mission\", \"calls\": 144}, {\"monthday\": \"04/24\", \"reporting_district\": \"N Hollywood\", \"calls\": 151}, {\"monthday\": \"04/24\", \"reporting_district\": \"Newton\", \"calls\": 216}, {\"monthday\": \"04/24\", \"reporting_district\": \"Northeast\", \"calls\": 160}, {\"monthday\": \"04/24\", \"reporting_district\": \"Olympic\", \"calls\": 149}, {\"monthday\": \"04/24\", \"reporting_district\": \"Pacific\", \"calls\": 175}, {\"monthday\": \"04/24\", \"reporting_district\": \"Rampart\", \"calls\": 143}, {\"monthday\": \"04/24\", \"reporting_district\": \"Southeast\", \"calls\": 166}, {\"monthday\": \"04/24\", \"reporting_district\": \"Southwest\", \"calls\": 200}, {\"monthday\": \"04/24\", \"reporting_district\": \"Topanga\", \"calls\": 118}, {\"monthday\": \"04/24\", \"reporting_district\": \"Van Nuys\", \"calls\": 128}, {\"monthday\": \"04/24\", \"reporting_district\": \"West LA\", \"calls\": 125}, {\"monthday\": \"04/24\", \"reporting_district\": \"West Valley\", \"calls\": 144}, {\"monthday\": \"04/24\", \"reporting_district\": \"Wilshire\", \"calls\": 150}, {\"monthday\": \"04/25\", \"reporting_district\": \"77th Street\", \"calls\": 246}, {\"monthday\": \"04/25\", \"reporting_district\": \"Central\", \"calls\": 137}, {\"monthday\": \"04/25\", \"reporting_district\": \"Devonshire\", \"calls\": 116}, {\"monthday\": \"04/25\", \"reporting_district\": \"Foothill\", \"calls\": 157}, {\"monthday\": \"04/25\", \"reporting_district\": \"Harbor\", \"calls\": 184}, {\"monthday\": \"04/25\", \"reporting_district\": \"Hollenbeck\", \"calls\": 169}, {\"monthday\": \"04/25\", \"reporting_district\": \"Hollywood\", \"calls\": 166}, {\"monthday\": \"04/25\", \"reporting_district\": \"Mission\", \"calls\": 163}, {\"monthday\": \"04/25\", \"reporting_district\": \"N Hollywood\", \"calls\": 165}, {\"monthday\": \"04/25\", \"reporting_district\": \"Newton\", \"calls\": 207}, {\"monthday\": \"04/25\", \"reporting_district\": \"Northeast\", \"calls\": 169}, {\"monthday\": \"04/25\", \"reporting_district\": \"Olympic\", \"calls\": 148}, {\"monthday\": \"04/25\", \"reporting_district\": \"Pacific\", \"calls\": 182}, {\"monthday\": \"04/25\", \"reporting_district\": \"Rampart\", \"calls\": 203}, {\"monthday\": \"04/25\", \"reporting_district\": \"Southeast\", \"calls\": 202}, {\"monthday\": \"04/25\", \"reporting_district\": \"Southwest\", \"calls\": 152}, {\"monthday\": \"04/25\", \"reporting_district\": \"Topanga\", \"calls\": 124}, {\"monthday\": \"04/25\", \"reporting_district\": \"Van Nuys\", \"calls\": 157}, {\"monthday\": \"04/25\", \"reporting_district\": \"West LA\", \"calls\": 167}, {\"monthday\": \"04/25\", \"reporting_district\": \"West Valley\", \"calls\": 137}, {\"monthday\": \"04/25\", \"reporting_district\": \"Wilshire\", \"calls\": 149}, {\"monthday\": \"04/26\", \"reporting_district\": \"77th Street\", \"calls\": 242}, {\"monthday\": \"04/26\", \"reporting_district\": \"Central\", \"calls\": 142}, {\"monthday\": \"04/26\", \"reporting_district\": \"Devonshire\", \"calls\": 93}, {\"monthday\": \"04/26\", \"reporting_district\": \"Foothill\", \"calls\": 141}, {\"monthday\": \"04/26\", \"reporting_district\": \"Harbor\", \"calls\": 116}, {\"monthday\": \"04/26\", \"reporting_district\": \"Hollenbeck\", \"calls\": 147}, {\"monthday\": \"04/26\", \"reporting_district\": \"Hollywood\", \"calls\": 151}, {\"monthday\": \"04/26\", \"reporting_district\": \"Mission\", \"calls\": 163}, {\"monthday\": \"04/26\", \"reporting_district\": \"N Hollywood\", \"calls\": 130}, {\"monthday\": \"04/26\", \"reporting_district\": \"Newton\", \"calls\": 189}, {\"monthday\": \"04/26\", \"reporting_district\": \"Northeast\", \"calls\": 130}, {\"monthday\": \"04/26\", \"reporting_district\": \"Olympic\", \"calls\": 151}, {\"monthday\": \"04/26\", \"reporting_district\": \"Pacific\", \"calls\": 207}, {\"monthday\": \"04/26\", \"reporting_district\": \"Rampart\", \"calls\": 180}, {\"monthday\": \"04/26\", \"reporting_district\": \"Southeast\", \"calls\": 200}, {\"monthday\": \"04/26\", \"reporting_district\": \"Southwest\", \"calls\": 184}, {\"monthday\": \"04/26\", \"reporting_district\": \"Topanga\", \"calls\": 117}, {\"monthday\": \"04/26\", \"reporting_district\": \"Van Nuys\", \"calls\": 139}, {\"monthday\": \"04/26\", \"reporting_district\": \"West LA\", \"calls\": 166}, {\"monthday\": \"04/26\", \"reporting_district\": \"West Valley\", \"calls\": 152}, {\"monthday\": \"04/26\", \"reporting_district\": \"Wilshire\", \"calls\": 141}, {\"monthday\": \"04/27\", \"reporting_district\": \"77th Street\", \"calls\": 226}, {\"monthday\": \"04/27\", \"reporting_district\": \"Central\", \"calls\": 166}, {\"monthday\": \"04/27\", \"reporting_district\": \"Devonshire\", \"calls\": 144}, {\"monthday\": \"04/27\", \"reporting_district\": \"Foothill\", \"calls\": 125}, {\"monthday\": \"04/27\", \"reporting_district\": \"Harbor\", \"calls\": 131}, {\"monthday\": \"04/27\", \"reporting_district\": \"Hollenbeck\", \"calls\": 141}, {\"monthday\": \"04/27\", \"reporting_district\": \"Hollywood\", \"calls\": 165}, {\"monthday\": \"04/27\", \"reporting_district\": \"Mission\", \"calls\": 120}, {\"monthday\": \"04/27\", \"reporting_district\": \"N Hollywood\", \"calls\": 119}, {\"monthday\": \"04/27\", \"reporting_district\": \"Newton\", \"calls\": 197}, {\"monthday\": \"04/27\", \"reporting_district\": \"Northeast\", \"calls\": 174}, {\"monthday\": \"04/27\", \"reporting_district\": \"Olympic\", \"calls\": 137}, {\"monthday\": \"04/27\", \"reporting_district\": \"Pacific\", \"calls\": 186}, {\"monthday\": \"04/27\", \"reporting_district\": \"Rampart\", \"calls\": 159}, {\"monthday\": \"04/27\", \"reporting_district\": \"Southeast\", \"calls\": 192}, {\"monthday\": \"04/27\", \"reporting_district\": \"Southwest\", \"calls\": 151}, {\"monthday\": \"04/27\", \"reporting_district\": \"Topanga\", \"calls\": 104}, {\"monthday\": \"04/27\", \"reporting_district\": \"Van Nuys\", \"calls\": 156}, {\"monthday\": \"04/27\", \"reporting_district\": \"West LA\", \"calls\": 147}, {\"monthday\": \"04/27\", \"reporting_district\": \"West Valley\", \"calls\": 106}, {\"monthday\": \"04/27\", \"reporting_district\": \"Wilshire\", \"calls\": 152}, {\"monthday\": \"04/28\", \"reporting_district\": \"77th Street\", \"calls\": 277}, {\"monthday\": \"04/28\", \"reporting_district\": \"Central\", \"calls\": 142}, {\"monthday\": \"04/28\", \"reporting_district\": \"Devonshire\", \"calls\": 124}, {\"monthday\": \"04/28\", \"reporting_district\": \"Foothill\", \"calls\": 108}, {\"monthday\": \"04/28\", \"reporting_district\": \"Harbor\", \"calls\": 116}, {\"monthday\": \"04/28\", \"reporting_district\": \"Hollenbeck\", \"calls\": 118}, {\"monthday\": \"04/28\", \"reporting_district\": \"Hollywood\", \"calls\": 169}, {\"monthday\": \"04/28\", \"reporting_district\": \"Mission\", \"calls\": 135}, {\"monthday\": \"04/28\", \"reporting_district\": \"N Hollywood\", \"calls\": 132}, {\"monthday\": \"04/28\", \"reporting_district\": \"Newton\", \"calls\": 161}, {\"monthday\": \"04/28\", \"reporting_district\": \"Northeast\", \"calls\": 137}, {\"monthday\": \"04/28\", \"reporting_district\": \"Olympic\", \"calls\": 145}, {\"monthday\": \"04/28\", \"reporting_district\": \"Pacific\", \"calls\": 182}, {\"monthday\": \"04/28\", \"reporting_district\": \"Rampart\", \"calls\": 137}, {\"monthday\": \"04/28\", \"reporting_district\": \"Southeast\", \"calls\": 149}, {\"monthday\": \"04/28\", \"reporting_district\": \"Southwest\", \"calls\": 136}, {\"monthday\": \"04/28\", \"reporting_district\": \"Topanga\", \"calls\": 121}, {\"monthday\": \"04/28\", \"reporting_district\": \"Van Nuys\", \"calls\": 158}, {\"monthday\": \"04/28\", \"reporting_district\": \"West LA\", \"calls\": 146}, {\"monthday\": \"04/28\", \"reporting_district\": \"West Valley\", \"calls\": 125}, {\"monthday\": \"04/28\", \"reporting_district\": \"Wilshire\", \"calls\": 119}, {\"monthday\": \"04/29\", \"reporting_district\": \"77th Street\", \"calls\": 213}, {\"monthday\": \"04/29\", \"reporting_district\": \"Central\", \"calls\": 150}, {\"monthday\": \"04/29\", \"reporting_district\": \"Devonshire\", \"calls\": 113}, {\"monthday\": \"04/29\", \"reporting_district\": \"Foothill\", \"calls\": 141}, {\"monthday\": \"04/29\", \"reporting_district\": \"Harbor\", \"calls\": 128}, {\"monthday\": \"04/29\", \"reporting_district\": \"Hollenbeck\", \"calls\": 119}, {\"monthday\": \"04/29\", \"reporting_district\": \"Hollywood\", \"calls\": 153}, {\"monthday\": \"04/29\", \"reporting_district\": \"Mission\", \"calls\": 145}, {\"monthday\": \"04/29\", \"reporting_district\": \"N Hollywood\", \"calls\": 145}, {\"monthday\": \"04/29\", \"reporting_district\": \"Newton\", \"calls\": 117}, {\"monthday\": \"04/29\", \"reporting_district\": \"Northeast\", \"calls\": 122}, {\"monthday\": \"04/29\", \"reporting_district\": \"Olympic\", \"calls\": 138}, {\"monthday\": \"04/29\", \"reporting_district\": \"Pacific\", \"calls\": 168}, {\"monthday\": \"04/29\", \"reporting_district\": \"Rampart\", \"calls\": 134}, {\"monthday\": \"04/29\", \"reporting_district\": \"Southeast\", \"calls\": 190}, {\"monthday\": \"04/29\", \"reporting_district\": \"Southwest\", \"calls\": 141}, {\"monthday\": \"04/29\", \"reporting_district\": \"Topanga\", \"calls\": 123}, {\"monthday\": \"04/29\", \"reporting_district\": \"Van Nuys\", \"calls\": 146}, {\"monthday\": \"04/29\", \"reporting_district\": \"West LA\", \"calls\": 132}, {\"monthday\": \"04/29\", \"reporting_district\": \"West Valley\", \"calls\": 141}, {\"monthday\": \"04/29\", \"reporting_district\": \"Wilshire\", \"calls\": 125}, {\"monthday\": \"04/30\", \"reporting_district\": \"77th Street\", \"calls\": 205}, {\"monthday\": \"04/30\", \"reporting_district\": \"Central\", \"calls\": 151}, {\"monthday\": \"04/30\", \"reporting_district\": \"Devonshire\", \"calls\": 114}, {\"monthday\": \"04/30\", \"reporting_district\": \"Foothill\", \"calls\": 138}, {\"monthday\": \"04/30\", \"reporting_district\": \"Harbor\", \"calls\": 125}, {\"monthday\": \"04/30\", \"reporting_district\": \"Hollenbeck\", \"calls\": 140}, {\"monthday\": \"04/30\", \"reporting_district\": \"Hollywood\", \"calls\": 189}, {\"monthday\": \"04/30\", \"reporting_district\": \"Mission\", \"calls\": 137}, {\"monthday\": \"04/30\", \"reporting_district\": \"N Hollywood\", \"calls\": 184}, {\"monthday\": \"04/30\", \"reporting_district\": \"Newton\", \"calls\": 190}, {\"monthday\": \"04/30\", \"reporting_district\": \"Northeast\", \"calls\": 132}, {\"monthday\": \"04/30\", \"reporting_district\": \"Olympic\", \"calls\": 153}, {\"monthday\": \"04/30\", \"reporting_district\": \"Pacific\", \"calls\": 150}, {\"monthday\": \"04/30\", \"reporting_district\": \"Rampart\", \"calls\": 151}, {\"monthday\": \"04/30\", \"reporting_district\": \"Southeast\", \"calls\": 163}, {\"monthday\": \"04/30\", \"reporting_district\": \"Southwest\", \"calls\": 157}, {\"monthday\": \"04/30\", \"reporting_district\": \"Topanga\", \"calls\": 137}, {\"monthday\": \"04/30\", \"reporting_district\": \"Van Nuys\", \"calls\": 161}, {\"monthday\": \"04/30\", \"reporting_district\": \"West LA\", \"calls\": 149}, {\"monthday\": \"04/30\", \"reporting_district\": \"West Valley\", \"calls\": 119}, {\"monthday\": \"04/30\", \"reporting_district\": \"Wilshire\", \"calls\": 165}, {\"monthday\": \"05/01\", \"reporting_district\": \"77th Street\", \"calls\": 260}, {\"monthday\": \"05/01\", \"reporting_district\": \"Central\", \"calls\": 141}, {\"monthday\": \"05/01\", \"reporting_district\": \"Devonshire\", \"calls\": 111}, {\"monthday\": \"05/01\", \"reporting_district\": \"Foothill\", \"calls\": 130}, {\"monthday\": \"05/01\", \"reporting_district\": \"Harbor\", \"calls\": 112}, {\"monthday\": \"05/01\", \"reporting_district\": \"Hollenbeck\", \"calls\": 167}, {\"monthday\": \"05/01\", \"reporting_district\": \"Hollywood\", \"calls\": 173}, {\"monthday\": \"05/01\", \"reporting_district\": \"Mission\", \"calls\": 153}, {\"monthday\": \"05/01\", \"reporting_district\": \"N Hollywood\", \"calls\": 149}, {\"monthday\": \"05/01\", \"reporting_district\": \"Newton\", \"calls\": 172}, {\"monthday\": \"05/01\", \"reporting_district\": \"Northeast\", \"calls\": 136}, {\"monthday\": \"05/01\", \"reporting_district\": \"Olympic\", \"calls\": 175}, {\"monthday\": \"05/01\", \"reporting_district\": \"Pacific\", \"calls\": 163}, {\"monthday\": \"05/01\", \"reporting_district\": \"Rampart\", \"calls\": 159}, {\"monthday\": \"05/01\", \"reporting_district\": \"Southeast\", \"calls\": 167}, {\"monthday\": \"05/01\", \"reporting_district\": \"Southwest\", \"calls\": 155}, {\"monthday\": \"05/01\", \"reporting_district\": \"Topanga\", \"calls\": 128}, {\"monthday\": \"05/01\", \"reporting_district\": \"Van Nuys\", \"calls\": 170}, {\"monthday\": \"05/01\", \"reporting_district\": \"West LA\", \"calls\": 172}, {\"monthday\": \"05/01\", \"reporting_district\": \"West Valley\", \"calls\": 133}, {\"monthday\": \"05/01\", \"reporting_district\": \"Wilshire\", \"calls\": 154}, {\"monthday\": \"05/02\", \"reporting_district\": \"77th Street\", \"calls\": 250}, {\"monthday\": \"05/02\", \"reporting_district\": \"Central\", \"calls\": 146}, {\"monthday\": \"05/02\", \"reporting_district\": \"Devonshire\", \"calls\": 104}, {\"monthday\": \"05/02\", \"reporting_district\": \"Foothill\", \"calls\": 118}, {\"monthday\": \"05/02\", \"reporting_district\": \"Harbor\", \"calls\": 145}, {\"monthday\": \"05/02\", \"reporting_district\": \"Hollenbeck\", \"calls\": 154}, {\"monthday\": \"05/02\", \"reporting_district\": \"Hollywood\", \"calls\": 148}, {\"monthday\": \"05/02\", \"reporting_district\": \"Mission\", \"calls\": 157}, {\"monthday\": \"05/02\", \"reporting_district\": \"N Hollywood\", \"calls\": 178}, {\"monthday\": \"05/02\", \"reporting_district\": \"Newton\", \"calls\": 199}, {\"monthday\": \"05/02\", \"reporting_district\": \"Northeast\", \"calls\": 168}, {\"monthday\": \"05/02\", \"reporting_district\": \"Olympic\", \"calls\": 163}, {\"monthday\": \"05/02\", \"reporting_district\": \"Pacific\", \"calls\": 214}, {\"monthday\": \"05/02\", \"reporting_district\": \"Rampart\", \"calls\": 182}, {\"monthday\": \"05/02\", \"reporting_district\": \"Southeast\", \"calls\": 194}, {\"monthday\": \"05/02\", \"reporting_district\": \"Southwest\", \"calls\": 178}, {\"monthday\": \"05/02\", \"reporting_district\": \"Topanga\", \"calls\": 118}, {\"monthday\": \"05/02\", \"reporting_district\": \"Van Nuys\", \"calls\": 135}, {\"monthday\": \"05/02\", \"reporting_district\": \"West LA\", \"calls\": 172}, {\"monthday\": \"05/02\", \"reporting_district\": \"West Valley\", \"calls\": 130}, {\"monthday\": \"05/02\", \"reporting_district\": \"Wilshire\", \"calls\": 168}, {\"monthday\": \"05/03\", \"reporting_district\": \"77th Street\", \"calls\": 251}, {\"monthday\": \"05/03\", \"reporting_district\": \"Central\", \"calls\": 132}, {\"monthday\": \"05/03\", \"reporting_district\": \"Devonshire\", \"calls\": 113}, {\"monthday\": \"05/03\", \"reporting_district\": \"Foothill\", \"calls\": 162}, {\"monthday\": \"05/03\", \"reporting_district\": \"Harbor\", \"calls\": 163}, {\"monthday\": \"05/03\", \"reporting_district\": \"Hollenbeck\", \"calls\": 152}, {\"monthday\": \"05/03\", \"reporting_district\": \"Hollywood\", \"calls\": 158}, {\"monthday\": \"05/03\", \"reporting_district\": \"Mission\", \"calls\": 160}, {\"monthday\": \"05/03\", \"reporting_district\": \"N Hollywood\", \"calls\": 154}, {\"monthday\": \"05/03\", \"reporting_district\": \"Newton\", \"calls\": 195}, {\"monthday\": \"05/03\", \"reporting_district\": \"Northeast\", \"calls\": 128}, {\"monthday\": \"05/03\", \"reporting_district\": \"Olympic\", \"calls\": 171}, {\"monthday\": \"05/03\", \"reporting_district\": \"Pacific\", \"calls\": 194}, {\"monthday\": \"05/03\", \"reporting_district\": \"Rampart\", \"calls\": 133}, {\"monthday\": \"05/03\", \"reporting_district\": \"Southeast\", \"calls\": 154}, {\"monthday\": \"05/03\", \"reporting_district\": \"Southwest\", \"calls\": 214}, {\"monthday\": \"05/03\", \"reporting_district\": \"Topanga\", \"calls\": 147}, {\"monthday\": \"05/03\", \"reporting_district\": \"Van Nuys\", \"calls\": 130}, {\"monthday\": \"05/03\", \"reporting_district\": \"West LA\", \"calls\": 150}, {\"monthday\": \"05/03\", \"reporting_district\": \"West Valley\", \"calls\": 139}, {\"monthday\": \"05/03\", \"reporting_district\": \"Wilshire\", \"calls\": 184}, {\"monthday\": \"05/04\", \"reporting_district\": \"77th Street\", \"calls\": 230}, {\"monthday\": \"05/04\", \"reporting_district\": \"Central\", \"calls\": 146}, {\"monthday\": \"05/04\", \"reporting_district\": \"Devonshire\", \"calls\": 112}, {\"monthday\": \"05/04\", \"reporting_district\": \"Foothill\", \"calls\": 107}, {\"monthday\": \"05/04\", \"reporting_district\": \"Harbor\", \"calls\": 154}, {\"monthday\": \"05/04\", \"reporting_district\": \"Hollenbeck\", \"calls\": 117}, {\"monthday\": \"05/04\", \"reporting_district\": \"Hollywood\", \"calls\": 146}, {\"monthday\": \"05/04\", \"reporting_district\": \"Mission\", \"calls\": 161}, {\"monthday\": \"05/04\", \"reporting_district\": \"N Hollywood\", \"calls\": 155}, {\"monthday\": \"05/04\", \"reporting_district\": \"Newton\", \"calls\": 186}, {\"monthday\": \"05/04\", \"reporting_district\": \"Northeast\", \"calls\": 114}, {\"monthday\": \"05/04\", \"reporting_district\": \"Olympic\", \"calls\": 135}, {\"monthday\": \"05/04\", \"reporting_district\": \"Pacific\", \"calls\": 221}, {\"monthday\": \"05/04\", \"reporting_district\": \"Rampart\", \"calls\": 151}, {\"monthday\": \"05/04\", \"reporting_district\": \"Southeast\", \"calls\": 167}, {\"monthday\": \"05/04\", \"reporting_district\": \"Southwest\", \"calls\": 177}, {\"monthday\": \"05/04\", \"reporting_district\": \"Topanga\", \"calls\": 169}, {\"monthday\": \"05/04\", \"reporting_district\": \"Van Nuys\", \"calls\": 121}, {\"monthday\": \"05/04\", \"reporting_district\": \"West LA\", \"calls\": 129}, {\"monthday\": \"05/04\", \"reporting_district\": \"West Valley\", \"calls\": 105}, {\"monthday\": \"05/04\", \"reporting_district\": \"Wilshire\", \"calls\": 170}, {\"monthday\": \"05/05\", \"reporting_district\": \"77th Street\", \"calls\": 279}, {\"monthday\": \"05/05\", \"reporting_district\": \"Central\", \"calls\": 186}, {\"monthday\": \"05/05\", \"reporting_district\": \"Devonshire\", \"calls\": 144}, {\"monthday\": \"05/05\", \"reporting_district\": \"Foothill\", \"calls\": 129}, {\"monthday\": \"05/05\", \"reporting_district\": \"Harbor\", \"calls\": 149}, {\"monthday\": \"05/05\", \"reporting_district\": \"Hollenbeck\", \"calls\": 124}, {\"monthday\": \"05/05\", \"reporting_district\": \"Hollywood\", \"calls\": 165}, {\"monthday\": \"05/05\", \"reporting_district\": \"Mission\", \"calls\": 134}, {\"monthday\": \"05/05\", \"reporting_district\": \"N Hollywood\", \"calls\": 139}, {\"monthday\": \"05/05\", \"reporting_district\": \"Newton\", \"calls\": 186}, {\"monthday\": \"05/05\", \"reporting_district\": \"Northeast\", \"calls\": 171}, {\"monthday\": \"05/05\", \"reporting_district\": \"Olympic\", \"calls\": 142}, {\"monthday\": \"05/05\", \"reporting_district\": \"Pacific\", \"calls\": 211}, {\"monthday\": \"05/05\", \"reporting_district\": \"Rampart\", \"calls\": 154}, {\"monthday\": \"05/05\", \"reporting_district\": \"Southeast\", \"calls\": 214}, {\"monthday\": \"05/05\", \"reporting_district\": \"Southwest\", \"calls\": 176}, {\"monthday\": \"05/05\", \"reporting_district\": \"Topanga\", \"calls\": 149}, {\"monthday\": \"05/05\", \"reporting_district\": \"Van Nuys\", \"calls\": 131}, {\"monthday\": \"05/05\", \"reporting_district\": \"West LA\", \"calls\": 168}, {\"monthday\": \"05/05\", \"reporting_district\": \"West Valley\", \"calls\": 141}, {\"monthday\": \"05/05\", \"reporting_district\": \"Wilshire\", \"calls\": 138}, {\"monthday\": \"05/06\", \"reporting_district\": \"77th Street\", \"calls\": 225}, {\"monthday\": \"05/06\", \"reporting_district\": \"Central\", \"calls\": 185}, {\"monthday\": \"05/06\", \"reporting_district\": \"Devonshire\", \"calls\": 110}, {\"monthday\": \"05/06\", \"reporting_district\": \"Foothill\", \"calls\": 126}, {\"monthday\": \"05/06\", \"reporting_district\": \"Harbor\", \"calls\": 113}, {\"monthday\": \"05/06\", \"reporting_district\": \"Hollenbeck\", \"calls\": 128}, {\"monthday\": \"05/06\", \"reporting_district\": \"Hollywood\", \"calls\": 173}, {\"monthday\": \"05/06\", \"reporting_district\": \"Mission\", \"calls\": 136}, {\"monthday\": \"05/06\", \"reporting_district\": \"N Hollywood\", \"calls\": 167}, {\"monthday\": \"05/06\", \"reporting_district\": \"Newton\", \"calls\": 184}, {\"monthday\": \"05/06\", \"reporting_district\": \"Northeast\", \"calls\": 133}, {\"monthday\": \"05/06\", \"reporting_district\": \"Olympic\", \"calls\": 164}, {\"monthday\": \"05/06\", \"reporting_district\": \"Pacific\", \"calls\": 185}, {\"monthday\": \"05/06\", \"reporting_district\": \"Rampart\", \"calls\": 164}, {\"monthday\": \"05/06\", \"reporting_district\": \"Southeast\", \"calls\": 154}, {\"monthday\": \"05/06\", \"reporting_district\": \"Southwest\", \"calls\": 135}, {\"monthday\": \"05/06\", \"reporting_district\": \"Topanga\", \"calls\": 148}, {\"monthday\": \"05/06\", \"reporting_district\": \"Van Nuys\", \"calls\": 124}, {\"monthday\": \"05/06\", \"reporting_district\": \"West LA\", \"calls\": 153}, {\"monthday\": \"05/06\", \"reporting_district\": \"West Valley\", \"calls\": 141}, {\"monthday\": \"05/06\", \"reporting_district\": \"Wilshire\", \"calls\": 146}, {\"monthday\": \"05/07\", \"reporting_district\": \"77th Street\", \"calls\": 235}, {\"monthday\": \"05/07\", \"reporting_district\": \"Central\", \"calls\": 169}, {\"monthday\": \"05/07\", \"reporting_district\": \"Devonshire\", \"calls\": 100}, {\"monthday\": \"05/07\", \"reporting_district\": \"Foothill\", \"calls\": 121}, {\"monthday\": \"05/07\", \"reporting_district\": \"Harbor\", \"calls\": 153}, {\"monthday\": \"05/07\", \"reporting_district\": \"Hollenbeck\", \"calls\": 117}, {\"monthday\": \"05/07\", \"reporting_district\": \"Hollywood\", \"calls\": 174}, {\"monthday\": \"05/07\", \"reporting_district\": \"Mission\", \"calls\": 147}, {\"monthday\": \"05/07\", \"reporting_district\": \"N Hollywood\", \"calls\": 146}, {\"monthday\": \"05/07\", \"reporting_district\": \"Newton\", \"calls\": 147}, {\"monthday\": \"05/07\", \"reporting_district\": \"Northeast\", \"calls\": 137}, {\"monthday\": \"05/07\", \"reporting_district\": \"Olympic\", \"calls\": 153}, {\"monthday\": \"05/07\", \"reporting_district\": \"Pacific\", \"calls\": 191}, {\"monthday\": \"05/07\", \"reporting_district\": \"Rampart\", \"calls\": 144}, {\"monthday\": \"05/07\", \"reporting_district\": \"Southeast\", \"calls\": 195}, {\"monthday\": \"05/07\", \"reporting_district\": \"Southwest\", \"calls\": 163}, {\"monthday\": \"05/07\", \"reporting_district\": \"Topanga\", \"calls\": 136}, {\"monthday\": \"05/07\", \"reporting_district\": \"Van Nuys\", \"calls\": 148}, {\"monthday\": \"05/07\", \"reporting_district\": \"West LA\", \"calls\": 146}, {\"monthday\": \"05/07\", \"reporting_district\": \"West Valley\", \"calls\": 125}, {\"monthday\": \"05/07\", \"reporting_district\": \"Wilshire\", \"calls\": 181}, {\"monthday\": \"05/08\", \"reporting_district\": \"77th Street\", \"calls\": 234}, {\"monthday\": \"05/08\", \"reporting_district\": \"Central\", \"calls\": 132}, {\"monthday\": \"05/08\", \"reporting_district\": \"Devonshire\", \"calls\": 100}, {\"monthday\": \"05/08\", \"reporting_district\": \"Foothill\", \"calls\": 150}, {\"monthday\": \"05/08\", \"reporting_district\": \"Harbor\", \"calls\": 144}, {\"monthday\": \"05/08\", \"reporting_district\": \"Hollenbeck\", \"calls\": 135}, {\"monthday\": \"05/08\", \"reporting_district\": \"Hollywood\", \"calls\": 147}, {\"monthday\": \"05/08\", \"reporting_district\": \"Mission\", \"calls\": 140}, {\"monthday\": \"05/08\", \"reporting_district\": \"N Hollywood\", \"calls\": 141}, {\"monthday\": \"05/08\", \"reporting_district\": \"Newton\", \"calls\": 139}, {\"monthday\": \"05/08\", \"reporting_district\": \"Northeast\", \"calls\": 152}, {\"monthday\": \"05/08\", \"reporting_district\": \"Olympic\", \"calls\": 144}, {\"monthday\": \"05/08\", \"reporting_district\": \"Pacific\", \"calls\": 193}, {\"monthday\": \"05/08\", \"reporting_district\": \"Rampart\", \"calls\": 150}, {\"monthday\": \"05/08\", \"reporting_district\": \"Southeast\", \"calls\": 171}, {\"monthday\": \"05/08\", \"reporting_district\": \"Southwest\", \"calls\": 176}, {\"monthday\": \"05/08\", \"reporting_district\": \"Topanga\", \"calls\": 105}, {\"monthday\": \"05/08\", \"reporting_district\": \"Van Nuys\", \"calls\": 134}, {\"monthday\": \"05/08\", \"reporting_district\": \"West LA\", \"calls\": 158}, {\"monthday\": \"05/08\", \"reporting_district\": \"West Valley\", \"calls\": 128}, {\"monthday\": \"05/08\", \"reporting_district\": \"Wilshire\", \"calls\": 162}, {\"monthday\": \"05/09\", \"reporting_district\": \"77th Street\", \"calls\": 210}, {\"monthday\": \"05/09\", \"reporting_district\": \"Central\", \"calls\": 158}, {\"monthday\": \"05/09\", \"reporting_district\": \"Devonshire\", \"calls\": 113}, {\"monthday\": \"05/09\", \"reporting_district\": \"Foothill\", \"calls\": 140}, {\"monthday\": \"05/09\", \"reporting_district\": \"Harbor\", \"calls\": 197}, {\"monthday\": \"05/09\", \"reporting_district\": \"Hollenbeck\", \"calls\": 164}, {\"monthday\": \"05/09\", \"reporting_district\": \"Hollywood\", \"calls\": 160}, {\"monthday\": \"05/09\", \"reporting_district\": \"Mission\", \"calls\": 166}, {\"monthday\": \"05/09\", \"reporting_district\": \"N Hollywood\", \"calls\": 138}, {\"monthday\": \"05/09\", \"reporting_district\": \"Newton\", \"calls\": 187}, {\"monthday\": \"05/09\", \"reporting_district\": \"Northeast\", \"calls\": 163}, {\"monthday\": \"05/09\", \"reporting_district\": \"Olympic\", \"calls\": 160}, {\"monthday\": \"05/09\", \"reporting_district\": \"Pacific\", \"calls\": 190}, {\"monthday\": \"05/09\", \"reporting_district\": \"Rampart\", \"calls\": 154}, {\"monthday\": \"05/09\", \"reporting_district\": \"Southeast\", \"calls\": 165}, {\"monthday\": \"05/09\", \"reporting_district\": \"Southwest\", \"calls\": 185}, {\"monthday\": \"05/09\", \"reporting_district\": \"Topanga\", \"calls\": 124}, {\"monthday\": \"05/09\", \"reporting_district\": \"Van Nuys\", \"calls\": 136}, {\"monthday\": \"05/09\", \"reporting_district\": \"West LA\", \"calls\": 141}, {\"monthday\": \"05/09\", \"reporting_district\": \"West Valley\", \"calls\": 153}, {\"monthday\": \"05/09\", \"reporting_district\": \"Wilshire\", \"calls\": 153}, {\"monthday\": \"05/10\", \"reporting_district\": \"77th Street\", \"calls\": 212}, {\"monthday\": \"05/10\", \"reporting_district\": \"Central\", \"calls\": 123}, {\"monthday\": \"05/10\", \"reporting_district\": \"Devonshire\", \"calls\": 79}, {\"monthday\": \"05/10\", \"reporting_district\": \"Foothill\", \"calls\": 130}, {\"monthday\": \"05/10\", \"reporting_district\": \"Harbor\", \"calls\": 148}, {\"monthday\": \"05/10\", \"reporting_district\": \"Hollenbeck\", \"calls\": 147}, {\"monthday\": \"05/10\", \"reporting_district\": \"Hollywood\", \"calls\": 161}, {\"monthday\": \"05/10\", \"reporting_district\": \"Mission\", \"calls\": 192}, {\"monthday\": \"05/10\", \"reporting_district\": \"N Hollywood\", \"calls\": 168}, {\"monthday\": \"05/10\", \"reporting_district\": \"Newton\", \"calls\": 168}, {\"monthday\": \"05/10\", \"reporting_district\": \"Northeast\", \"calls\": 108}, {\"monthday\": \"05/10\", \"reporting_district\": \"Olympic\", \"calls\": 147}, {\"monthday\": \"05/10\", \"reporting_district\": \"Pacific\", \"calls\": 165}, {\"monthday\": \"05/10\", \"reporting_district\": \"Rampart\", \"calls\": 138}, {\"monthday\": \"05/10\", \"reporting_district\": \"Southeast\", \"calls\": 217}, {\"monthday\": \"05/10\", \"reporting_district\": \"Southwest\", \"calls\": 185}, {\"monthday\": \"05/10\", \"reporting_district\": \"Topanga\", \"calls\": 116}, {\"monthday\": \"05/10\", \"reporting_district\": \"Van Nuys\", \"calls\": 154}, {\"monthday\": \"05/10\", \"reporting_district\": \"West LA\", \"calls\": 137}, {\"monthday\": \"05/10\", \"reporting_district\": \"West Valley\", \"calls\": 130}, {\"monthday\": \"05/10\", \"reporting_district\": \"Wilshire\", \"calls\": 148}, {\"monthday\": \"05/11\", \"reporting_district\": \"77th Street\", \"calls\": 228}, {\"monthday\": \"05/11\", \"reporting_district\": \"Central\", \"calls\": 159}, {\"monthday\": \"05/11\", \"reporting_district\": \"Devonshire\", \"calls\": 122}, {\"monthday\": \"05/11\", \"reporting_district\": \"Foothill\", \"calls\": 100}, {\"monthday\": \"05/11\", \"reporting_district\": \"Harbor\", \"calls\": 126}, {\"monthday\": \"05/11\", \"reporting_district\": \"Hollenbeck\", \"calls\": 125}, {\"monthday\": \"05/11\", \"reporting_district\": \"Hollywood\", \"calls\": 145}, {\"monthday\": \"05/11\", \"reporting_district\": \"Mission\", \"calls\": 124}, {\"monthday\": \"05/11\", \"reporting_district\": \"N Hollywood\", \"calls\": 157}, {\"monthday\": \"05/11\", \"reporting_district\": \"Newton\", \"calls\": 162}, {\"monthday\": \"05/11\", \"reporting_district\": \"Northeast\", \"calls\": 116}, {\"monthday\": \"05/11\", \"reporting_district\": \"Olympic\", \"calls\": 120}, {\"monthday\": \"05/11\", \"reporting_district\": \"Pacific\", \"calls\": 191}, {\"monthday\": \"05/11\", \"reporting_district\": \"Rampart\", \"calls\": 132}, {\"monthday\": \"05/11\", \"reporting_district\": \"Southeast\", \"calls\": 160}, {\"monthday\": \"05/11\", \"reporting_district\": \"Southwest\", \"calls\": 164}, {\"monthday\": \"05/11\", \"reporting_district\": \"Topanga\", \"calls\": 121}, {\"monthday\": \"05/11\", \"reporting_district\": \"Van Nuys\", \"calls\": 129}, {\"monthday\": \"05/11\", \"reporting_district\": \"West LA\", \"calls\": 128}, {\"monthday\": \"05/11\", \"reporting_district\": \"West Valley\", \"calls\": 129}, {\"monthday\": \"05/11\", \"reporting_district\": \"Wilshire\", \"calls\": 129}, {\"monthday\": \"05/12\", \"reporting_district\": \"77th Street\", \"calls\": 206}, {\"monthday\": \"05/12\", \"reporting_district\": \"Central\", \"calls\": 173}, {\"monthday\": \"05/12\", \"reporting_district\": \"Devonshire\", \"calls\": 130}, {\"monthday\": \"05/12\", \"reporting_district\": \"Foothill\", \"calls\": 128}, {\"monthday\": \"05/12\", \"reporting_district\": \"Harbor\", \"calls\": 138}, {\"monthday\": \"05/12\", \"reporting_district\": \"Hollenbeck\", \"calls\": 137}, {\"monthday\": \"05/12\", \"reporting_district\": \"Hollywood\", \"calls\": 188}, {\"monthday\": \"05/12\", \"reporting_district\": \"Mission\", \"calls\": 161}, {\"monthday\": \"05/12\", \"reporting_district\": \"N Hollywood\", \"calls\": 150}, {\"monthday\": \"05/12\", \"reporting_district\": \"Newton\", \"calls\": 155}, {\"monthday\": \"05/12\", \"reporting_district\": \"Northeast\", \"calls\": 146}, {\"monthday\": \"05/12\", \"reporting_district\": \"Olympic\", \"calls\": 139}, {\"monthday\": \"05/12\", \"reporting_district\": \"Pacific\", \"calls\": 174}, {\"monthday\": \"05/12\", \"reporting_district\": \"Rampart\", \"calls\": 145}, {\"monthday\": \"05/12\", \"reporting_district\": \"Southeast\", \"calls\": 135}, {\"monthday\": \"05/12\", \"reporting_district\": \"Southwest\", \"calls\": 172}, {\"monthday\": \"05/12\", \"reporting_district\": \"Topanga\", \"calls\": 115}, {\"monthday\": \"05/12\", \"reporting_district\": \"Van Nuys\", \"calls\": 106}, {\"monthday\": \"05/12\", \"reporting_district\": \"West LA\", \"calls\": 149}, {\"monthday\": \"05/12\", \"reporting_district\": \"West Valley\", \"calls\": 124}, {\"monthday\": \"05/12\", \"reporting_district\": \"Wilshire\", \"calls\": 156}, {\"monthday\": \"05/13\", \"reporting_district\": \"77th Street\", \"calls\": 162}, {\"monthday\": \"05/13\", \"reporting_district\": \"Central\", \"calls\": 123}, {\"monthday\": \"05/13\", \"reporting_district\": \"Devonshire\", \"calls\": 120}, {\"monthday\": \"05/13\", \"reporting_district\": \"Foothill\", \"calls\": 119}, {\"monthday\": \"05/13\", \"reporting_district\": \"Harbor\", \"calls\": 218}, {\"monthday\": \"05/13\", \"reporting_district\": \"Hollenbeck\", \"calls\": 107}, {\"monthday\": \"05/13\", \"reporting_district\": \"Hollywood\", \"calls\": 153}, {\"monthday\": \"05/13\", \"reporting_district\": \"Mission\", \"calls\": 108}, {\"monthday\": \"05/13\", \"reporting_district\": \"N Hollywood\", \"calls\": 156}, {\"monthday\": \"05/13\", \"reporting_district\": \"Newton\", \"calls\": 123}, {\"monthday\": \"05/13\", \"reporting_district\": \"Northeast\", \"calls\": 142}, {\"monthday\": \"05/13\", \"reporting_district\": \"Olympic\", \"calls\": 147}, {\"monthday\": \"05/13\", \"reporting_district\": \"Pacific\", \"calls\": 179}, {\"monthday\": \"05/13\", \"reporting_district\": \"Rampart\", \"calls\": 146}, {\"monthday\": \"05/13\", \"reporting_district\": \"Southeast\", \"calls\": 155}, {\"monthday\": \"05/13\", \"reporting_district\": \"Southwest\", \"calls\": 179}, {\"monthday\": \"05/13\", \"reporting_district\": \"Topanga\", \"calls\": 129}, {\"monthday\": \"05/13\", \"reporting_district\": \"Van Nuys\", \"calls\": 125}, {\"monthday\": \"05/13\", \"reporting_district\": \"West LA\", \"calls\": 151}, {\"monthday\": \"05/13\", \"reporting_district\": \"West Valley\", \"calls\": 148}, {\"monthday\": \"05/13\", \"reporting_district\": \"Wilshire\", \"calls\": 145}, {\"monthday\": \"05/14\", \"reporting_district\": \"77th Street\", \"calls\": 175}, {\"monthday\": \"05/14\", \"reporting_district\": \"Central\", \"calls\": 143}, {\"monthday\": \"05/14\", \"reporting_district\": \"Devonshire\", \"calls\": 90}, {\"monthday\": \"05/14\", \"reporting_district\": \"Foothill\", \"calls\": 130}, {\"monthday\": \"05/14\", \"reporting_district\": \"Harbor\", \"calls\": 124}, {\"monthday\": \"05/14\", \"reporting_district\": \"Hollenbeck\", \"calls\": 145}, {\"monthday\": \"05/14\", \"reporting_district\": \"Hollywood\", \"calls\": 195}, {\"monthday\": \"05/14\", \"reporting_district\": \"Mission\", \"calls\": 118}, {\"monthday\": \"05/14\", \"reporting_district\": \"N Hollywood\", \"calls\": 140}, {\"monthday\": \"05/14\", \"reporting_district\": \"Newton\", \"calls\": 180}, {\"monthday\": \"05/14\", \"reporting_district\": \"Northeast\", \"calls\": 143}, {\"monthday\": \"05/14\", \"reporting_district\": \"Olympic\", \"calls\": 195}, {\"monthday\": \"05/14\", \"reporting_district\": \"Pacific\", \"calls\": 146}, {\"monthday\": \"05/14\", \"reporting_district\": \"Rampart\", \"calls\": 149}, {\"monthday\": \"05/14\", \"reporting_district\": \"Southeast\", \"calls\": 161}, {\"monthday\": \"05/14\", \"reporting_district\": \"Southwest\", \"calls\": 173}, {\"monthday\": \"05/14\", \"reporting_district\": \"Topanga\", \"calls\": 132}, {\"monthday\": \"05/14\", \"reporting_district\": \"Van Nuys\", \"calls\": 135}, {\"monthday\": \"05/14\", \"reporting_district\": \"West LA\", \"calls\": 157}, {\"monthday\": \"05/14\", \"reporting_district\": \"West Valley\", \"calls\": 132}, {\"monthday\": \"05/14\", \"reporting_district\": \"Wilshire\", \"calls\": 161}, {\"monthday\": \"05/15\", \"reporting_district\": \"77th Street\", \"calls\": 184}, {\"monthday\": \"05/15\", \"reporting_district\": \"Central\", \"calls\": 154}, {\"monthday\": \"05/15\", \"reporting_district\": \"Devonshire\", \"calls\": 138}, {\"monthday\": \"05/15\", \"reporting_district\": \"Foothill\", \"calls\": 123}, {\"monthday\": \"05/15\", \"reporting_district\": \"Harbor\", \"calls\": 172}, {\"monthday\": \"05/15\", \"reporting_district\": \"Hollenbeck\", \"calls\": 167}, {\"monthday\": \"05/15\", \"reporting_district\": \"Hollywood\", \"calls\": 206}, {\"monthday\": \"05/15\", \"reporting_district\": \"Mission\", \"calls\": 130}, {\"monthday\": \"05/15\", \"reporting_district\": \"N Hollywood\", \"calls\": 172}, {\"monthday\": \"05/15\", \"reporting_district\": \"Newton\", \"calls\": 221}, {\"monthday\": \"05/15\", \"reporting_district\": \"Northeast\", \"calls\": 143}, {\"monthday\": \"05/15\", \"reporting_district\": \"Olympic\", \"calls\": 133}, {\"monthday\": \"05/15\", \"reporting_district\": \"Pacific\", \"calls\": 193}, {\"monthday\": \"05/15\", \"reporting_district\": \"Rampart\", \"calls\": 159}, {\"monthday\": \"05/15\", \"reporting_district\": \"Southeast\", \"calls\": 206}, {\"monthday\": \"05/15\", \"reporting_district\": \"Southwest\", \"calls\": 171}, {\"monthday\": \"05/15\", \"reporting_district\": \"Topanga\", \"calls\": 128}, {\"monthday\": \"05/15\", \"reporting_district\": \"Van Nuys\", \"calls\": 146}, {\"monthday\": \"05/15\", \"reporting_district\": \"West LA\", \"calls\": 140}, {\"monthday\": \"05/15\", \"reporting_district\": \"West Valley\", \"calls\": 116}, {\"monthday\": \"05/15\", \"reporting_district\": \"Wilshire\", \"calls\": 180}, {\"monthday\": \"05/16\", \"reporting_district\": \"77th Street\", \"calls\": 250}, {\"monthday\": \"05/16\", \"reporting_district\": \"Central\", \"calls\": 120}, {\"monthday\": \"05/16\", \"reporting_district\": \"Devonshire\", \"calls\": 119}, {\"monthday\": \"05/16\", \"reporting_district\": \"Foothill\", \"calls\": 143}, {\"monthday\": \"05/16\", \"reporting_district\": \"Harbor\", \"calls\": 143}, {\"monthday\": \"05/16\", \"reporting_district\": \"Hollenbeck\", \"calls\": 150}, {\"monthday\": \"05/16\", \"reporting_district\": \"Hollywood\", \"calls\": 182}, {\"monthday\": \"05/16\", \"reporting_district\": \"Mission\", \"calls\": 199}, {\"monthday\": \"05/16\", \"reporting_district\": \"N Hollywood\", \"calls\": 186}, {\"monthday\": \"05/16\", \"reporting_district\": \"Newton\", \"calls\": 154}, {\"monthday\": \"05/16\", \"reporting_district\": \"Northeast\", \"calls\": 148}, {\"monthday\": \"05/16\", \"reporting_district\": \"Olympic\", \"calls\": 153}, {\"monthday\": \"05/16\", \"reporting_district\": \"Pacific\", \"calls\": 186}, {\"monthday\": \"05/16\", \"reporting_district\": \"Rampart\", \"calls\": 158}, {\"monthday\": \"05/16\", \"reporting_district\": \"Southeast\", \"calls\": 164}, {\"monthday\": \"05/16\", \"reporting_district\": \"Southwest\", \"calls\": 206}, {\"monthday\": \"05/16\", \"reporting_district\": \"Topanga\", \"calls\": 125}, {\"monthday\": \"05/16\", \"reporting_district\": \"Van Nuys\", \"calls\": 156}, {\"monthday\": \"05/16\", \"reporting_district\": \"West LA\", \"calls\": 147}, {\"monthday\": \"05/16\", \"reporting_district\": \"West Valley\", \"calls\": 134}, {\"monthday\": \"05/16\", \"reporting_district\": \"Wilshire\", \"calls\": 143}, {\"monthday\": \"05/17\", \"reporting_district\": \"77th Street\", \"calls\": 251}, {\"monthday\": \"05/17\", \"reporting_district\": \"Central\", \"calls\": 148}, {\"monthday\": \"05/17\", \"reporting_district\": \"Devonshire\", \"calls\": 103}, {\"monthday\": \"05/17\", \"reporting_district\": \"Foothill\", \"calls\": 135}, {\"monthday\": \"05/17\", \"reporting_district\": \"Harbor\", \"calls\": 142}, {\"monthday\": \"05/17\", \"reporting_district\": \"Hollenbeck\", \"calls\": 175}, {\"monthday\": \"05/17\", \"reporting_district\": \"Hollywood\", \"calls\": 192}, {\"monthday\": \"05/17\", \"reporting_district\": \"Mission\", \"calls\": 180}, {\"monthday\": \"05/17\", \"reporting_district\": \"N Hollywood\", \"calls\": 186}, {\"monthday\": \"05/17\", \"reporting_district\": \"Newton\", \"calls\": 186}, {\"monthday\": \"05/17\", \"reporting_district\": \"Northeast\", \"calls\": 135}, {\"monthday\": \"05/17\", \"reporting_district\": \"Olympic\", \"calls\": 133}, {\"monthday\": \"05/17\", \"reporting_district\": \"Pacific\", \"calls\": 189}, {\"monthday\": \"05/17\", \"reporting_district\": \"Rampart\", \"calls\": 158}, {\"monthday\": \"05/17\", \"reporting_district\": \"Southeast\", \"calls\": 168}, {\"monthday\": \"05/17\", \"reporting_district\": \"Southwest\", \"calls\": 202}, {\"monthday\": \"05/17\", \"reporting_district\": \"Topanga\", \"calls\": 138}, {\"monthday\": \"05/17\", \"reporting_district\": \"Van Nuys\", \"calls\": 105}, {\"monthday\": \"05/17\", \"reporting_district\": \"West LA\", \"calls\": 170}, {\"monthday\": \"05/17\", \"reporting_district\": \"West Valley\", \"calls\": 135}, {\"monthday\": \"05/17\", \"reporting_district\": \"Wilshire\", \"calls\": 161}, {\"monthday\": \"05/18\", \"reporting_district\": \"77th Street\", \"calls\": 191}, {\"monthday\": \"05/18\", \"reporting_district\": \"Central\", \"calls\": 131}, {\"monthday\": \"05/18\", \"reporting_district\": \"Devonshire\", \"calls\": 103}, {\"monthday\": \"05/18\", \"reporting_district\": \"Foothill\", \"calls\": 95}, {\"monthday\": \"05/18\", \"reporting_district\": \"Harbor\", \"calls\": 134}, {\"monthday\": \"05/18\", \"reporting_district\": \"Hollenbeck\", \"calls\": 129}, {\"monthday\": \"05/18\", \"reporting_district\": \"Hollywood\", \"calls\": 139}, {\"monthday\": \"05/18\", \"reporting_district\": \"Mission\", \"calls\": 122}, {\"monthday\": \"05/18\", \"reporting_district\": \"N Hollywood\", \"calls\": 163}, {\"monthday\": \"05/18\", \"reporting_district\": \"Newton\", \"calls\": 148}, {\"monthday\": \"05/18\", \"reporting_district\": \"Northeast\", \"calls\": 112}, {\"monthday\": \"05/18\", \"reporting_district\": \"Olympic\", \"calls\": 144}, {\"monthday\": \"05/18\", \"reporting_district\": \"Pacific\", \"calls\": 204}, {\"monthday\": \"05/18\", \"reporting_district\": \"Rampart\", \"calls\": 137}, {\"monthday\": \"05/18\", \"reporting_district\": \"Southeast\", \"calls\": 157}, {\"monthday\": \"05/18\", \"reporting_district\": \"Southwest\", \"calls\": 160}, {\"monthday\": \"05/18\", \"reporting_district\": \"Topanga\", \"calls\": 102}, {\"monthday\": \"05/18\", \"reporting_district\": \"Van Nuys\", \"calls\": 122}, {\"monthday\": \"05/18\", \"reporting_district\": \"West LA\", \"calls\": 156}, {\"monthday\": \"05/18\", \"reporting_district\": \"West Valley\", \"calls\": 124}, {\"monthday\": \"05/18\", \"reporting_district\": \"Wilshire\", \"calls\": 149}, {\"monthday\": \"05/19\", \"reporting_district\": \"77th Street\", \"calls\": 231}, {\"monthday\": \"05/19\", \"reporting_district\": \"Central\", \"calls\": 164}, {\"monthday\": \"05/19\", \"reporting_district\": \"Devonshire\", \"calls\": 142}, {\"monthday\": \"05/19\", \"reporting_district\": \"Foothill\", \"calls\": 116}, {\"monthday\": \"05/19\", \"reporting_district\": \"Harbor\", \"calls\": 141}, {\"monthday\": \"05/19\", \"reporting_district\": \"Hollenbeck\", \"calls\": 129}, {\"monthday\": \"05/19\", \"reporting_district\": \"Hollywood\", \"calls\": 163}, {\"monthday\": \"05/19\", \"reporting_district\": \"Mission\", \"calls\": 121}, {\"monthday\": \"05/19\", \"reporting_district\": \"N Hollywood\", \"calls\": 159}, {\"monthday\": \"05/19\", \"reporting_district\": \"Newton\", \"calls\": 154}, {\"monthday\": \"05/19\", \"reporting_district\": \"Northeast\", \"calls\": 125}, {\"monthday\": \"05/19\", \"reporting_district\": \"Olympic\", \"calls\": 123}, {\"monthday\": \"05/19\", \"reporting_district\": \"Pacific\", \"calls\": 197}, {\"monthday\": \"05/19\", \"reporting_district\": \"Rampart\", \"calls\": 140}, {\"monthday\": \"05/19\", \"reporting_district\": \"Southeast\", \"calls\": 159}, {\"monthday\": \"05/19\", \"reporting_district\": \"Southwest\", \"calls\": 165}, {\"monthday\": \"05/19\", \"reporting_district\": \"Topanga\", \"calls\": 165}, {\"monthday\": \"05/19\", \"reporting_district\": \"Van Nuys\", \"calls\": 128}, {\"monthday\": \"05/19\", \"reporting_district\": \"West LA\", \"calls\": 151}, {\"monthday\": \"05/19\", \"reporting_district\": \"West Valley\", \"calls\": 134}, {\"monthday\": \"05/19\", \"reporting_district\": \"Wilshire\", \"calls\": 143}, {\"monthday\": \"05/20\", \"reporting_district\": \"77th Street\", \"calls\": 240}, {\"monthday\": \"05/20\", \"reporting_district\": \"Central\", \"calls\": 142}, {\"monthday\": \"05/20\", \"reporting_district\": \"Devonshire\", \"calls\": 115}, {\"monthday\": \"05/20\", \"reporting_district\": \"Foothill\", \"calls\": 116}, {\"monthday\": \"05/20\", \"reporting_district\": \"Harbor\", \"calls\": 153}, {\"monthday\": \"05/20\", \"reporting_district\": \"Hollenbeck\", \"calls\": 113}, {\"monthday\": \"05/20\", \"reporting_district\": \"Hollywood\", \"calls\": 180}, {\"monthday\": \"05/20\", \"reporting_district\": \"Mission\", \"calls\": 119}, {\"monthday\": \"05/20\", \"reporting_district\": \"N Hollywood\", \"calls\": 149}, {\"monthday\": \"05/20\", \"reporting_district\": \"Newton\", \"calls\": 153}, {\"monthday\": \"05/20\", \"reporting_district\": \"Northeast\", \"calls\": 132}, {\"monthday\": \"05/20\", \"reporting_district\": \"Olympic\", \"calls\": 187}, {\"monthday\": \"05/20\", \"reporting_district\": \"Pacific\", \"calls\": 192}, {\"monthday\": \"05/20\", \"reporting_district\": \"Rampart\", \"calls\": 154}, {\"monthday\": \"05/20\", \"reporting_district\": \"Southeast\", \"calls\": 166}, {\"monthday\": \"05/20\", \"reporting_district\": \"Southwest\", \"calls\": 169}, {\"monthday\": \"05/20\", \"reporting_district\": \"Topanga\", \"calls\": 164}, {\"monthday\": \"05/20\", \"reporting_district\": \"Van Nuys\", \"calls\": 122}, {\"monthday\": \"05/20\", \"reporting_district\": \"West LA\", \"calls\": 120}, {\"monthday\": \"05/20\", \"reporting_district\": \"West Valley\", \"calls\": 183}, {\"monthday\": \"05/20\", \"reporting_district\": \"Wilshire\", \"calls\": 173}, {\"monthday\": \"05/21\", \"reporting_district\": \"77th Street\", \"calls\": 224}, {\"monthday\": \"05/21\", \"reporting_district\": \"Central\", \"calls\": 154}, {\"monthday\": \"05/21\", \"reporting_district\": \"Devonshire\", \"calls\": 102}, {\"monthday\": \"05/21\", \"reporting_district\": \"Foothill\", \"calls\": 132}, {\"monthday\": \"05/21\", \"reporting_district\": \"Harbor\", \"calls\": 112}, {\"monthday\": \"05/21\", \"reporting_district\": \"Hollenbeck\", \"calls\": 100}, {\"monthday\": \"05/21\", \"reporting_district\": \"Hollywood\", \"calls\": 155}, {\"monthday\": \"05/21\", \"reporting_district\": \"Mission\", \"calls\": 125}, {\"monthday\": \"05/21\", \"reporting_district\": \"N Hollywood\", \"calls\": 159}, {\"monthday\": \"05/21\", \"reporting_district\": \"Newton\", \"calls\": 142}, {\"monthday\": \"05/21\", \"reporting_district\": \"Northeast\", \"calls\": 125}, {\"monthday\": \"05/21\", \"reporting_district\": \"Olympic\", \"calls\": 116}, {\"monthday\": \"05/21\", \"reporting_district\": \"Pacific\", \"calls\": 160}, {\"monthday\": \"05/21\", \"reporting_district\": \"Rampart\", \"calls\": 123}, {\"monthday\": \"05/21\", \"reporting_district\": \"Southeast\", \"calls\": 144}, {\"monthday\": \"05/21\", \"reporting_district\": \"Southwest\", \"calls\": 199}, {\"monthday\": \"05/21\", \"reporting_district\": \"Topanga\", \"calls\": 94}, {\"monthday\": \"05/21\", \"reporting_district\": \"Van Nuys\", \"calls\": 126}, {\"monthday\": \"05/21\", \"reporting_district\": \"West LA\", \"calls\": 126}, {\"monthday\": \"05/21\", \"reporting_district\": \"West Valley\", \"calls\": 113}, {\"monthday\": \"05/21\", \"reporting_district\": \"Wilshire\", \"calls\": 163}, {\"monthday\": \"05/22\", \"reporting_district\": \"77th Street\", \"calls\": 210}, {\"monthday\": \"05/22\", \"reporting_district\": \"Central\", \"calls\": 166}, {\"monthday\": \"05/22\", \"reporting_district\": \"Devonshire\", \"calls\": 126}, {\"monthday\": \"05/22\", \"reporting_district\": \"Foothill\", \"calls\": 135}, {\"monthday\": \"05/22\", \"reporting_district\": \"Harbor\", \"calls\": 115}, {\"monthday\": \"05/22\", \"reporting_district\": \"Hollenbeck\", \"calls\": 147}, {\"monthday\": \"05/22\", \"reporting_district\": \"Hollywood\", \"calls\": 161}, {\"monthday\": \"05/22\", \"reporting_district\": \"Mission\", \"calls\": 147}, {\"monthday\": \"05/22\", \"reporting_district\": \"N Hollywood\", \"calls\": 137}, {\"monthday\": \"05/22\", \"reporting_district\": \"Newton\", \"calls\": 178}, {\"monthday\": \"05/22\", \"reporting_district\": \"Northeast\", \"calls\": 152}, {\"monthday\": \"05/22\", \"reporting_district\": \"Olympic\", \"calls\": 104}, {\"monthday\": \"05/22\", \"reporting_district\": \"Pacific\", \"calls\": 163}, {\"monthday\": \"05/22\", \"reporting_district\": \"Rampart\", \"calls\": 159}, {\"monthday\": \"05/22\", \"reporting_district\": \"Southeast\", \"calls\": 164}, {\"monthday\": \"05/22\", \"reporting_district\": \"Southwest\", \"calls\": 164}, {\"monthday\": \"05/22\", \"reporting_district\": \"Topanga\", \"calls\": 112}, {\"monthday\": \"05/22\", \"reporting_district\": \"Van Nuys\", \"calls\": 122}, {\"monthday\": \"05/22\", \"reporting_district\": \"West LA\", \"calls\": 152}, {\"monthday\": \"05/22\", \"reporting_district\": \"West Valley\", \"calls\": 132}, {\"monthday\": \"05/22\", \"reporting_district\": \"Wilshire\", \"calls\": 136}, {\"monthday\": \"05/23\", \"reporting_district\": \"77th Street\", \"calls\": 225}, {\"monthday\": \"05/23\", \"reporting_district\": \"Central\", \"calls\": 155}, {\"monthday\": \"05/23\", \"reporting_district\": \"Devonshire\", \"calls\": 138}, {\"monthday\": \"05/23\", \"reporting_district\": \"Foothill\", \"calls\": 143}, {\"monthday\": \"05/23\", \"reporting_district\": \"Harbor\", \"calls\": 171}, {\"monthday\": \"05/23\", \"reporting_district\": \"Hollenbeck\", \"calls\": 145}, {\"monthday\": \"05/23\", \"reporting_district\": \"Hollywood\", \"calls\": 166}, {\"monthday\": \"05/23\", \"reporting_district\": \"Mission\", \"calls\": 179}, {\"monthday\": \"05/23\", \"reporting_district\": \"N Hollywood\", \"calls\": 178}, {\"monthday\": \"05/23\", \"reporting_district\": \"Newton\", \"calls\": 172}, {\"monthday\": \"05/23\", \"reporting_district\": \"Northeast\", \"calls\": 135}, {\"monthday\": \"05/23\", \"reporting_district\": \"Olympic\", \"calls\": 155}, {\"monthday\": \"05/23\", \"reporting_district\": \"Pacific\", \"calls\": 199}, {\"monthday\": \"05/23\", \"reporting_district\": \"Rampart\", \"calls\": 145}, {\"monthday\": \"05/23\", \"reporting_district\": \"Southeast\", \"calls\": 230}, {\"monthday\": \"05/23\", \"reporting_district\": \"Southwest\", \"calls\": 167}, {\"monthday\": \"05/23\", \"reporting_district\": \"Topanga\", \"calls\": 156}, {\"monthday\": \"05/23\", \"reporting_district\": \"Van Nuys\", \"calls\": 130}, {\"monthday\": \"05/23\", \"reporting_district\": \"West LA\", \"calls\": 155}, {\"monthday\": \"05/23\", \"reporting_district\": \"West Valley\", \"calls\": 132}, {\"monthday\": \"05/23\", \"reporting_district\": \"Wilshire\", \"calls\": 142}, {\"monthday\": \"05/24\", \"reporting_district\": \"77th Street\", \"calls\": 230}, {\"monthday\": \"05/24\", \"reporting_district\": \"Central\", \"calls\": 130}, {\"monthday\": \"05/24\", \"reporting_district\": \"Devonshire\", \"calls\": 108}, {\"monthday\": \"05/24\", \"reporting_district\": \"Foothill\", \"calls\": 141}, {\"monthday\": \"05/24\", \"reporting_district\": \"Harbor\", \"calls\": 163}, {\"monthday\": \"05/24\", \"reporting_district\": \"Hollenbeck\", \"calls\": 169}, {\"monthday\": \"05/24\", \"reporting_district\": \"Hollywood\", \"calls\": 184}, {\"monthday\": \"05/24\", \"reporting_district\": \"Mission\", \"calls\": 187}, {\"monthday\": \"05/24\", \"reporting_district\": \"N Hollywood\", \"calls\": 197}, {\"monthday\": \"05/24\", \"reporting_district\": \"Newton\", \"calls\": 185}, {\"monthday\": \"05/24\", \"reporting_district\": \"Northeast\", \"calls\": 135}, {\"monthday\": \"05/24\", \"reporting_district\": \"Olympic\", \"calls\": 134}, {\"monthday\": \"05/24\", \"reporting_district\": \"Pacific\", \"calls\": 207}, {\"monthday\": \"05/24\", \"reporting_district\": \"Rampart\", \"calls\": 172}, {\"monthday\": \"05/24\", \"reporting_district\": \"Southeast\", \"calls\": 215}, {\"monthday\": \"05/24\", \"reporting_district\": \"Southwest\", \"calls\": 196}, {\"monthday\": \"05/24\", \"reporting_district\": \"Topanga\", \"calls\": 127}, {\"monthday\": \"05/24\", \"reporting_district\": \"Van Nuys\", \"calls\": 145}, {\"monthday\": \"05/24\", \"reporting_district\": \"West LA\", \"calls\": 194}, {\"monthday\": \"05/24\", \"reporting_district\": \"West Valley\", \"calls\": 126}, {\"monthday\": \"05/24\", \"reporting_district\": \"Wilshire\", \"calls\": 163}, {\"monthday\": \"05/25\", \"reporting_district\": \"77th Street\", \"calls\": 224}, {\"monthday\": \"05/25\", \"reporting_district\": \"Central\", \"calls\": 122}, {\"monthday\": \"05/25\", \"reporting_district\": \"Devonshire\", \"calls\": 97}, {\"monthday\": \"05/25\", \"reporting_district\": \"Foothill\", \"calls\": 165}, {\"monthday\": \"05/25\", \"reporting_district\": \"Harbor\", \"calls\": 123}, {\"monthday\": \"05/25\", \"reporting_district\": \"Hollenbeck\", \"calls\": 147}, {\"monthday\": \"05/25\", \"reporting_district\": \"Hollywood\", \"calls\": 192}, {\"monthday\": \"05/25\", \"reporting_district\": \"Mission\", \"calls\": 150}, {\"monthday\": \"05/25\", \"reporting_district\": \"N Hollywood\", \"calls\": 150}, {\"monthday\": \"05/25\", \"reporting_district\": \"Newton\", \"calls\": 147}, {\"monthday\": \"05/25\", \"reporting_district\": \"Northeast\", \"calls\": 133}, {\"monthday\": \"05/25\", \"reporting_district\": \"Olympic\", \"calls\": 122}, {\"monthday\": \"05/25\", \"reporting_district\": \"Pacific\", \"calls\": 197}, {\"monthday\": \"05/25\", \"reporting_district\": \"Rampart\", \"calls\": 137}, {\"monthday\": \"05/25\", \"reporting_district\": \"Southeast\", \"calls\": 166}, {\"monthday\": \"05/25\", \"reporting_district\": \"Southwest\", \"calls\": 167}, {\"monthday\": \"05/25\", \"reporting_district\": \"Topanga\", \"calls\": 117}, {\"monthday\": \"05/25\", \"reporting_district\": \"Van Nuys\", \"calls\": 127}, {\"monthday\": \"05/25\", \"reporting_district\": \"West LA\", \"calls\": 118}, {\"monthday\": \"05/25\", \"reporting_district\": \"West Valley\", \"calls\": 149}, {\"monthday\": \"05/25\", \"reporting_district\": \"Wilshire\", \"calls\": 125}, {\"monthday\": \"05/26\", \"reporting_district\": \"77th Street\", \"calls\": 207}, {\"monthday\": \"05/26\", \"reporting_district\": \"Central\", \"calls\": 140}, {\"monthday\": \"05/26\", \"reporting_district\": \"Devonshire\", \"calls\": 108}, {\"monthday\": \"05/26\", \"reporting_district\": \"Foothill\", \"calls\": 138}, {\"monthday\": \"05/26\", \"reporting_district\": \"Harbor\", \"calls\": 104}, {\"monthday\": \"05/26\", \"reporting_district\": \"Hollenbeck\", \"calls\": 156}, {\"monthday\": \"05/26\", \"reporting_district\": \"Hollywood\", \"calls\": 154}, {\"monthday\": \"05/26\", \"reporting_district\": \"Mission\", \"calls\": 135}, {\"monthday\": \"05/26\", \"reporting_district\": \"N Hollywood\", \"calls\": 194}, {\"monthday\": \"05/26\", \"reporting_district\": \"Newton\", \"calls\": 173}, {\"monthday\": \"05/26\", \"reporting_district\": \"Northeast\", \"calls\": 131}, {\"monthday\": \"05/26\", \"reporting_district\": \"Olympic\", \"calls\": 160}, {\"monthday\": \"05/26\", \"reporting_district\": \"Pacific\", \"calls\": 193}, {\"monthday\": \"05/26\", \"reporting_district\": \"Rampart\", \"calls\": 133}, {\"monthday\": \"05/26\", \"reporting_district\": \"Southeast\", \"calls\": 132}, {\"monthday\": \"05/26\", \"reporting_district\": \"Southwest\", \"calls\": 154}, {\"monthday\": \"05/26\", \"reporting_district\": \"Topanga\", \"calls\": 128}, {\"monthday\": \"05/26\", \"reporting_district\": \"Van Nuys\", \"calls\": 175}, {\"monthday\": \"05/26\", \"reporting_district\": \"West LA\", \"calls\": 146}, {\"monthday\": \"05/26\", \"reporting_district\": \"West Valley\", \"calls\": 133}, {\"monthday\": \"05/26\", \"reporting_district\": \"Wilshire\", \"calls\": 134}, {\"monthday\": \"05/27\", \"reporting_district\": \"77th Street\", \"calls\": 192}, {\"monthday\": \"05/27\", \"reporting_district\": \"Central\", \"calls\": 135}, {\"monthday\": \"05/27\", \"reporting_district\": \"Devonshire\", \"calls\": 119}, {\"monthday\": \"05/27\", \"reporting_district\": \"Foothill\", \"calls\": 116}, {\"monthday\": \"05/27\", \"reporting_district\": \"Harbor\", \"calls\": 128}, {\"monthday\": \"05/27\", \"reporting_district\": \"Hollenbeck\", \"calls\": 114}, {\"monthday\": \"05/27\", \"reporting_district\": \"Hollywood\", \"calls\": 146}, {\"monthday\": \"05/27\", \"reporting_district\": \"Mission\", \"calls\": 165}, {\"monthday\": \"05/27\", \"reporting_district\": \"N Hollywood\", \"calls\": 128}, {\"monthday\": \"05/27\", \"reporting_district\": \"Newton\", \"calls\": 133}, {\"monthday\": \"05/27\", \"reporting_district\": \"Northeast\", \"calls\": 96}, {\"monthday\": \"05/27\", \"reporting_district\": \"Olympic\", \"calls\": 106}, {\"monthday\": \"05/27\", \"reporting_district\": \"Pacific\", \"calls\": 135}, {\"monthday\": \"05/27\", \"reporting_district\": \"Rampart\", \"calls\": 127}, {\"monthday\": \"05/27\", \"reporting_district\": \"Southeast\", \"calls\": 155}, {\"monthday\": \"05/27\", \"reporting_district\": \"Southwest\", \"calls\": 128}, {\"monthday\": \"05/27\", \"reporting_district\": \"Topanga\", \"calls\": 95}, {\"monthday\": \"05/27\", \"reporting_district\": \"Van Nuys\", \"calls\": 103}, {\"monthday\": \"05/27\", \"reporting_district\": \"West LA\", \"calls\": 123}, {\"monthday\": \"05/27\", \"reporting_district\": \"West Valley\", \"calls\": 105}, {\"monthday\": \"05/27\", \"reporting_district\": \"Wilshire\", \"calls\": 109}, {\"monthday\": \"05/28\", \"reporting_district\": \"77th Street\", \"calls\": 225}, {\"monthday\": \"05/28\", \"reporting_district\": \"Central\", \"calls\": 147}, {\"monthday\": \"05/28\", \"reporting_district\": \"Devonshire\", \"calls\": 93}, {\"monthday\": \"05/28\", \"reporting_district\": \"Foothill\", \"calls\": 118}, {\"monthday\": \"05/28\", \"reporting_district\": \"Harbor\", \"calls\": 111}, {\"monthday\": \"05/28\", \"reporting_district\": \"Hollenbeck\", \"calls\": 100}, {\"monthday\": \"05/28\", \"reporting_district\": \"Hollywood\", \"calls\": 141}, {\"monthday\": \"05/28\", \"reporting_district\": \"Mission\", \"calls\": 153}, {\"monthday\": \"05/28\", \"reporting_district\": \"N Hollywood\", \"calls\": 148}, {\"monthday\": \"05/28\", \"reporting_district\": \"Newton\", \"calls\": 160}, {\"monthday\": \"05/28\", \"reporting_district\": \"Northeast\", \"calls\": 108}, {\"monthday\": \"05/28\", \"reporting_district\": \"Olympic\", \"calls\": 124}, {\"monthday\": \"05/28\", \"reporting_district\": \"Pacific\", \"calls\": 128}, {\"monthday\": \"05/28\", \"reporting_district\": \"Rampart\", \"calls\": 124}, {\"monthday\": \"05/28\", \"reporting_district\": \"Southeast\", \"calls\": 149}, {\"monthday\": \"05/28\", \"reporting_district\": \"Southwest\", \"calls\": 126}, {\"monthday\": \"05/28\", \"reporting_district\": \"Topanga\", \"calls\": 132}, {\"monthday\": \"05/28\", \"reporting_district\": \"Van Nuys\", \"calls\": 113}, {\"monthday\": \"05/28\", \"reporting_district\": \"West LA\", \"calls\": 106}, {\"monthday\": \"05/28\", \"reporting_district\": \"West Valley\", \"calls\": 129}, {\"monthday\": \"05/28\", \"reporting_district\": \"Wilshire\", \"calls\": 163}, {\"monthday\": \"05/29\", \"reporting_district\": \"77th Street\", \"calls\": 167}, {\"monthday\": \"05/29\", \"reporting_district\": \"Central\", \"calls\": 92}, {\"monthday\": \"05/29\", \"reporting_district\": \"Devonshire\", \"calls\": 95}, {\"monthday\": \"05/29\", \"reporting_district\": \"Foothill\", \"calls\": 112}, {\"monthday\": \"05/29\", \"reporting_district\": \"Harbor\", \"calls\": 96}, {\"monthday\": \"05/29\", \"reporting_district\": \"Hollenbeck\", \"calls\": 96}, {\"monthday\": \"05/29\", \"reporting_district\": \"Hollywood\", \"calls\": 115}, {\"monthday\": \"05/29\", \"reporting_district\": \"Mission\", \"calls\": 97}, {\"monthday\": \"05/29\", \"reporting_district\": \"N Hollywood\", \"calls\": 84}, {\"monthday\": \"05/29\", \"reporting_district\": \"Newton\", \"calls\": 116}, {\"monthday\": \"05/29\", \"reporting_district\": \"Northeast\", \"calls\": 77}, {\"monthday\": \"05/29\", \"reporting_district\": \"Olympic\", \"calls\": 104}, {\"monthday\": \"05/29\", \"reporting_district\": \"Pacific\", \"calls\": 152}, {\"monthday\": \"05/29\", \"reporting_district\": \"Rampart\", \"calls\": 92}, {\"monthday\": \"05/29\", \"reporting_district\": \"Southeast\", \"calls\": 125}, {\"monthday\": \"05/29\", \"reporting_district\": \"Southwest\", \"calls\": 124}, {\"monthday\": \"05/29\", \"reporting_district\": \"Topanga\", \"calls\": 85}, {\"monthday\": \"05/29\", \"reporting_district\": \"Van Nuys\", \"calls\": 85}, {\"monthday\": \"05/29\", \"reporting_district\": \"West LA\", \"calls\": 141}, {\"monthday\": \"05/29\", \"reporting_district\": \"West Valley\", \"calls\": 99}, {\"monthday\": \"05/29\", \"reporting_district\": \"Wilshire\", \"calls\": 111}, {\"monthday\": \"05/30\", \"reporting_district\": \"77th Street\", \"calls\": 117}, {\"monthday\": \"05/30\", \"reporting_district\": \"Central\", \"calls\": 96}, {\"monthday\": \"05/30\", \"reporting_district\": \"Devonshire\", \"calls\": 57}, {\"monthday\": \"05/30\", \"reporting_district\": \"Foothill\", \"calls\": 78}, {\"monthday\": \"05/30\", \"reporting_district\": \"Harbor\", \"calls\": 88}, {\"monthday\": \"05/30\", \"reporting_district\": \"Hollenbeck\", \"calls\": 69}, {\"monthday\": \"05/30\", \"reporting_district\": \"Hollywood\", \"calls\": 100}, {\"monthday\": \"05/30\", \"reporting_district\": \"Mission\", \"calls\": 71}, {\"monthday\": \"05/30\", \"reporting_district\": \"N Hollywood\", \"calls\": 80}, {\"monthday\": \"05/30\", \"reporting_district\": \"Newton\", \"calls\": 112}, {\"monthday\": \"05/30\", \"reporting_district\": \"Northeast\", \"calls\": 67}, {\"monthday\": \"05/30\", \"reporting_district\": \"Olympic\", \"calls\": 82}, {\"monthday\": \"05/30\", \"reporting_district\": \"Pacific\", \"calls\": 74}, {\"monthday\": \"05/30\", \"reporting_district\": \"Rampart\", \"calls\": 82}, {\"monthday\": \"05/30\", \"reporting_district\": \"Southeast\", \"calls\": 99}, {\"monthday\": \"05/30\", \"reporting_district\": \"Southwest\", \"calls\": 107}, {\"monthday\": \"05/30\", \"reporting_district\": \"Topanga\", \"calls\": 60}, {\"monthday\": \"05/30\", \"reporting_district\": \"Van Nuys\", \"calls\": 59}, {\"monthday\": \"05/30\", \"reporting_district\": \"West LA\", \"calls\": 93}, {\"monthday\": \"05/30\", \"reporting_district\": \"West Valley\", \"calls\": 85}, {\"monthday\": \"05/30\", \"reporting_district\": \"Wilshire\", \"calls\": 79}, {\"monthday\": \"05/31\", \"reporting_district\": \"77th Street\", \"calls\": 109}, {\"monthday\": \"05/31\", \"reporting_district\": \"Central\", \"calls\": 142}, {\"monthday\": \"05/31\", \"reporting_district\": \"Devonshire\", \"calls\": 61}, {\"monthday\": \"05/31\", \"reporting_district\": \"Foothill\", \"calls\": 64}, {\"monthday\": \"05/31\", \"reporting_district\": \"Harbor\", \"calls\": 79}, {\"monthday\": \"05/31\", \"reporting_district\": \"Hollenbeck\", \"calls\": 48}, {\"monthday\": \"05/31\", \"reporting_district\": \"Hollywood\", \"calls\": 130}, {\"monthday\": \"05/31\", \"reporting_district\": \"Mission\", \"calls\": 58}, {\"monthday\": \"05/31\", \"reporting_district\": \"N Hollywood\", \"calls\": 78}, {\"monthday\": \"05/31\", \"reporting_district\": \"Newton\", \"calls\": 108}, {\"monthday\": \"05/31\", \"reporting_district\": \"Northeast\", \"calls\": 74}, {\"monthday\": \"05/31\", \"reporting_district\": \"Olympic\", \"calls\": 100}, {\"monthday\": \"05/31\", \"reporting_district\": \"Pacific\", \"calls\": 91}, {\"monthday\": \"05/31\", \"reporting_district\": \"Rampart\", \"calls\": 75}, {\"monthday\": \"05/31\", \"reporting_district\": \"Southeast\", \"calls\": 103}, {\"monthday\": \"05/31\", \"reporting_district\": \"Southwest\", \"calls\": 128}, {\"monthday\": \"05/31\", \"reporting_district\": \"Topanga\", \"calls\": 67}, {\"monthday\": \"05/31\", \"reporting_district\": \"Van Nuys\", \"calls\": 56}, {\"monthday\": \"05/31\", \"reporting_district\": \"West LA\", \"calls\": 104}, {\"monthday\": \"05/31\", \"reporting_district\": \"West Valley\", \"calls\": 55}, {\"monthday\": \"05/31\", \"reporting_district\": \"Wilshire\", \"calls\": 127}, {\"monthday\": \"06/01\", \"reporting_district\": \"77th Street\", \"calls\": 116}, {\"monthday\": \"06/01\", \"reporting_district\": \"Central\", \"calls\": 120}, {\"monthday\": \"06/01\", \"reporting_district\": \"Devonshire\", \"calls\": 55}, {\"monthday\": \"06/01\", \"reporting_district\": \"Foothill\", \"calls\": 65}, {\"monthday\": \"06/01\", \"reporting_district\": \"Harbor\", \"calls\": 45}, {\"monthday\": \"06/01\", \"reporting_district\": \"Hollenbeck\", \"calls\": 79}, {\"monthday\": \"06/01\", \"reporting_district\": \"Hollywood\", \"calls\": 130}, {\"monthday\": \"06/01\", \"reporting_district\": \"Mission\", \"calls\": 73}, {\"monthday\": \"06/01\", \"reporting_district\": \"N Hollywood\", \"calls\": 78}, {\"monthday\": \"06/01\", \"reporting_district\": \"Newton\", \"calls\": 106}, {\"monthday\": \"06/01\", \"reporting_district\": \"Northeast\", \"calls\": 65}, {\"monthday\": \"06/01\", \"reporting_district\": \"Olympic\", \"calls\": 71}, {\"monthday\": \"06/01\", \"reporting_district\": \"Pacific\", \"calls\": 125}, {\"monthday\": \"06/01\", \"reporting_district\": \"Rampart\", \"calls\": 86}, {\"monthday\": \"06/01\", \"reporting_district\": \"Southeast\", \"calls\": 84}, {\"monthday\": \"06/01\", \"reporting_district\": \"Southwest\", \"calls\": 79}, {\"monthday\": \"06/01\", \"reporting_district\": \"Topanga\", \"calls\": 79}, {\"monthday\": \"06/01\", \"reporting_district\": \"Van Nuys\", \"calls\": 133}, {\"monthday\": \"06/01\", \"reporting_district\": \"West LA\", \"calls\": 81}, {\"monthday\": \"06/01\", \"reporting_district\": \"West Valley\", \"calls\": 75}, {\"monthday\": \"06/01\", \"reporting_district\": \"Wilshire\", \"calls\": 83}, {\"monthday\": \"06/02\", \"reporting_district\": \"77th Street\", \"calls\": 111}, {\"monthday\": \"06/02\", \"reporting_district\": \"Central\", \"calls\": 109}, {\"monthday\": \"06/02\", \"reporting_district\": \"Devonshire\", \"calls\": 51}, {\"monthday\": \"06/02\", \"reporting_district\": \"Foothill\", \"calls\": 59}, {\"monthday\": \"06/02\", \"reporting_district\": \"Harbor\", \"calls\": 59}, {\"monthday\": \"06/02\", \"reporting_district\": \"Hollenbeck\", \"calls\": 67}, {\"monthday\": \"06/02\", \"reporting_district\": \"Hollywood\", \"calls\": 112}, {\"monthday\": \"06/02\", \"reporting_district\": \"Mission\", \"calls\": 84}, {\"monthday\": \"06/02\", \"reporting_district\": \"N Hollywood\", \"calls\": 113}, {\"monthday\": \"06/02\", \"reporting_district\": \"Newton\", \"calls\": 83}, {\"monthday\": \"06/02\", \"reporting_district\": \"Northeast\", \"calls\": 74}, {\"monthday\": \"06/02\", \"reporting_district\": \"Olympic\", \"calls\": 91}, {\"monthday\": \"06/02\", \"reporting_district\": \"Pacific\", \"calls\": 92}, {\"monthday\": \"06/02\", \"reporting_district\": \"Rampart\", \"calls\": 78}, {\"monthday\": \"06/02\", \"reporting_district\": \"Southeast\", \"calls\": 96}, {\"monthday\": \"06/02\", \"reporting_district\": \"Southwest\", \"calls\": 100}, {\"monthday\": \"06/02\", \"reporting_district\": \"Topanga\", \"calls\": 83}, {\"monthday\": \"06/02\", \"reporting_district\": \"Van Nuys\", \"calls\": 107}, {\"monthday\": \"06/02\", \"reporting_district\": \"West LA\", \"calls\": 85}, {\"monthday\": \"06/02\", \"reporting_district\": \"West Valley\", \"calls\": 68}, {\"monthday\": \"06/02\", \"reporting_district\": \"Wilshire\", \"calls\": 89}, {\"monthday\": \"06/03\", \"reporting_district\": \"77th Street\", \"calls\": 127}, {\"monthday\": \"06/03\", \"reporting_district\": \"Central\", \"calls\": 97}, {\"monthday\": \"06/03\", \"reporting_district\": \"Devonshire\", \"calls\": 66}, {\"monthday\": \"06/03\", \"reporting_district\": \"Foothill\", \"calls\": 53}, {\"monthday\": \"06/03\", \"reporting_district\": \"Harbor\", \"calls\": 75}, {\"monthday\": \"06/03\", \"reporting_district\": \"Hollenbeck\", \"calls\": 69}, {\"monthday\": \"06/03\", \"reporting_district\": \"Hollywood\", \"calls\": 80}, {\"monthday\": \"06/03\", \"reporting_district\": \"Mission\", \"calls\": 80}, {\"monthday\": \"06/03\", \"reporting_district\": \"N Hollywood\", \"calls\": 81}, {\"monthday\": \"06/03\", \"reporting_district\": \"Newton\", \"calls\": 85}, {\"monthday\": \"06/03\", \"reporting_district\": \"Northeast\", \"calls\": 82}, {\"monthday\": \"06/03\", \"reporting_district\": \"Olympic\", \"calls\": 86}, {\"monthday\": \"06/03\", \"reporting_district\": \"Pacific\", \"calls\": 80}, {\"monthday\": \"06/03\", \"reporting_district\": \"Rampart\", \"calls\": 100}, {\"monthday\": \"06/03\", \"reporting_district\": \"Southeast\", \"calls\": 87}, {\"monthday\": \"06/03\", \"reporting_district\": \"Southwest\", \"calls\": 94}, {\"monthday\": \"06/03\", \"reporting_district\": \"Topanga\", \"calls\": 64}, {\"monthday\": \"06/03\", \"reporting_district\": \"Van Nuys\", \"calls\": 73}, {\"monthday\": \"06/03\", \"reporting_district\": \"West LA\", \"calls\": 80}, {\"monthday\": \"06/03\", \"reporting_district\": \"West Valley\", \"calls\": 74}, {\"monthday\": \"06/03\", \"reporting_district\": \"Wilshire\", \"calls\": 82}, {\"monthday\": \"06/04\", \"reporting_district\": \"77th Street\", \"calls\": 121}, {\"monthday\": \"06/04\", \"reporting_district\": \"Central\", \"calls\": 95}, {\"monthday\": \"06/04\", \"reporting_district\": \"Devonshire\", \"calls\": 74}, {\"monthday\": \"06/04\", \"reporting_district\": \"Foothill\", \"calls\": 64}, {\"monthday\": \"06/04\", \"reporting_district\": \"Harbor\", \"calls\": 76}, {\"monthday\": \"06/04\", \"reporting_district\": \"Hollenbeck\", \"calls\": 70}, {\"monthday\": \"06/04\", \"reporting_district\": \"Hollywood\", \"calls\": 93}, {\"monthday\": \"06/04\", \"reporting_district\": \"Mission\", \"calls\": 70}, {\"monthday\": \"06/04\", \"reporting_district\": \"N Hollywood\", \"calls\": 89}, {\"monthday\": \"06/04\", \"reporting_district\": \"Newton\", \"calls\": 94}, {\"monthday\": \"06/04\", \"reporting_district\": \"Northeast\", \"calls\": 72}, {\"monthday\": \"06/04\", \"reporting_district\": \"Olympic\", \"calls\": 77}, {\"monthday\": \"06/04\", \"reporting_district\": \"Pacific\", \"calls\": 98}, {\"monthday\": \"06/04\", \"reporting_district\": \"Rampart\", \"calls\": 90}, {\"monthday\": \"06/04\", \"reporting_district\": \"Southeast\", \"calls\": 84}, {\"monthday\": \"06/04\", \"reporting_district\": \"Southwest\", \"calls\": 101}, {\"monthday\": \"06/04\", \"reporting_district\": \"Topanga\", \"calls\": 59}, {\"monthday\": \"06/04\", \"reporting_district\": \"Van Nuys\", \"calls\": 63}, {\"monthday\": \"06/04\", \"reporting_district\": \"West LA\", \"calls\": 82}, {\"monthday\": \"06/04\", \"reporting_district\": \"West Valley\", \"calls\": 95}, {\"monthday\": \"06/04\", \"reporting_district\": \"Wilshire\", \"calls\": 88}, {\"monthday\": \"06/05\", \"reporting_district\": \"77th Street\", \"calls\": 165}, {\"monthday\": \"06/05\", \"reporting_district\": \"Central\", \"calls\": 104}, {\"monthday\": \"06/05\", \"reporting_district\": \"Devonshire\", \"calls\": 79}, {\"monthday\": \"06/05\", \"reporting_district\": \"Foothill\", \"calls\": 75}, {\"monthday\": \"06/05\", \"reporting_district\": \"Harbor\", \"calls\": 89}, {\"monthday\": \"06/05\", \"reporting_district\": \"Hollenbeck\", \"calls\": 82}, {\"monthday\": \"06/05\", \"reporting_district\": \"Hollywood\", \"calls\": 103}, {\"monthday\": \"06/05\", \"reporting_district\": \"Mission\", \"calls\": 86}, {\"monthday\": \"06/05\", \"reporting_district\": \"N Hollywood\", \"calls\": 87}, {\"monthday\": \"06/05\", \"reporting_district\": \"Newton\", \"calls\": 130}, {\"monthday\": \"06/05\", \"reporting_district\": \"Northeast\", \"calls\": 78}, {\"monthday\": \"06/05\", \"reporting_district\": \"Olympic\", \"calls\": 77}, {\"monthday\": \"06/05\", \"reporting_district\": \"Pacific\", \"calls\": 87}, {\"monthday\": \"06/05\", \"reporting_district\": \"Rampart\", \"calls\": 99}, {\"monthday\": \"06/05\", \"reporting_district\": \"Southeast\", \"calls\": 117}, {\"monthday\": \"06/05\", \"reporting_district\": \"Southwest\", \"calls\": 87}, {\"monthday\": \"06/05\", \"reporting_district\": \"Topanga\", \"calls\": 71}, {\"monthday\": \"06/05\", \"reporting_district\": \"Van Nuys\", \"calls\": 78}, {\"monthday\": \"06/05\", \"reporting_district\": \"West LA\", \"calls\": 83}, {\"monthday\": \"06/05\", \"reporting_district\": \"West Valley\", \"calls\": 77}, {\"monthday\": \"06/05\", \"reporting_district\": \"Wilshire\", \"calls\": 75}, {\"monthday\": \"06/06\", \"reporting_district\": \"77th Street\", \"calls\": 147}, {\"monthday\": \"06/06\", \"reporting_district\": \"Central\", \"calls\": 120}, {\"monthday\": \"06/06\", \"reporting_district\": \"Devonshire\", \"calls\": 65}, {\"monthday\": \"06/06\", \"reporting_district\": \"Foothill\", \"calls\": 52}, {\"monthday\": \"06/06\", \"reporting_district\": \"Harbor\", \"calls\": 96}, {\"monthday\": \"06/06\", \"reporting_district\": \"Hollenbeck\", \"calls\": 83}, {\"monthday\": \"06/06\", \"reporting_district\": \"Hollywood\", \"calls\": 99}, {\"monthday\": \"06/06\", \"reporting_district\": \"Mission\", \"calls\": 81}, {\"monthday\": \"06/06\", \"reporting_district\": \"N Hollywood\", \"calls\": 91}, {\"monthday\": \"06/06\", \"reporting_district\": \"Newton\", \"calls\": 111}, {\"monthday\": \"06/06\", \"reporting_district\": \"Northeast\", \"calls\": 83}, {\"monthday\": \"06/06\", \"reporting_district\": \"Olympic\", \"calls\": 93}, {\"monthday\": \"06/06\", \"reporting_district\": \"Pacific\", \"calls\": 101}, {\"monthday\": \"06/06\", \"reporting_district\": \"Rampart\", \"calls\": 96}, {\"monthday\": \"06/06\", \"reporting_district\": \"Southeast\", \"calls\": 104}, {\"monthday\": \"06/06\", \"reporting_district\": \"Southwest\", \"calls\": 83}, {\"monthday\": \"06/06\", \"reporting_district\": \"Topanga\", \"calls\": 58}, {\"monthday\": \"06/06\", \"reporting_district\": \"Van Nuys\", \"calls\": 89}, {\"monthday\": \"06/06\", \"reporting_district\": \"West LA\", \"calls\": 83}, {\"monthday\": \"06/06\", \"reporting_district\": \"West Valley\", \"calls\": 72}, {\"monthday\": \"06/06\", \"reporting_district\": \"Wilshire\", \"calls\": 81}, {\"monthday\": \"06/07\", \"reporting_district\": \"77th Street\", \"calls\": 175}, {\"monthday\": \"06/07\", \"reporting_district\": \"Central\", \"calls\": 84}, {\"monthday\": \"06/07\", \"reporting_district\": \"Devonshire\", \"calls\": 61}, {\"monthday\": \"06/07\", \"reporting_district\": \"Foothill\", \"calls\": 80}, {\"monthday\": \"06/07\", \"reporting_district\": \"Harbor\", \"calls\": 104}, {\"monthday\": \"06/07\", \"reporting_district\": \"Hollenbeck\", \"calls\": 94}, {\"monthday\": \"06/07\", \"reporting_district\": \"Hollywood\", \"calls\": 78}, {\"monthday\": \"06/07\", \"reporting_district\": \"Mission\", \"calls\": 114}, {\"monthday\": \"06/07\", \"reporting_district\": \"N Hollywood\", \"calls\": 74}, {\"monthday\": \"06/07\", \"reporting_district\": \"Newton\", \"calls\": 108}, {\"monthday\": \"06/07\", \"reporting_district\": \"Northeast\", \"calls\": 82}, {\"monthday\": \"06/07\", \"reporting_district\": \"Olympic\", \"calls\": 82}, {\"monthday\": \"06/07\", \"reporting_district\": \"Pacific\", \"calls\": 117}, {\"monthday\": \"06/07\", \"reporting_district\": \"Rampart\", \"calls\": 92}, {\"monthday\": \"06/07\", \"reporting_district\": \"Southeast\", \"calls\": 108}, {\"monthday\": \"06/07\", \"reporting_district\": \"Southwest\", \"calls\": 123}, {\"monthday\": \"06/07\", \"reporting_district\": \"Topanga\", \"calls\": 70}, {\"monthday\": \"06/07\", \"reporting_district\": \"Van Nuys\", \"calls\": 98}, {\"monthday\": \"06/07\", \"reporting_district\": \"West LA\", \"calls\": 81}, {\"monthday\": \"06/07\", \"reporting_district\": \"West Valley\", \"calls\": 82}, {\"monthday\": \"06/07\", \"reporting_district\": \"Wilshire\", \"calls\": 69}, {\"monthday\": \"06/08\", \"reporting_district\": \"77th Street\", \"calls\": 149}, {\"monthday\": \"06/08\", \"reporting_district\": \"Central\", \"calls\": 114}, {\"monthday\": \"06/08\", \"reporting_district\": \"Devonshire\", \"calls\": 66}, {\"monthday\": \"06/08\", \"reporting_district\": \"Foothill\", \"calls\": 64}, {\"monthday\": \"06/08\", \"reporting_district\": \"Harbor\", \"calls\": 72}, {\"monthday\": \"06/08\", \"reporting_district\": \"Hollenbeck\", \"calls\": 77}, {\"monthday\": \"06/08\", \"reporting_district\": \"Hollywood\", \"calls\": 92}, {\"monthday\": \"06/08\", \"reporting_district\": \"Mission\", \"calls\": 82}, {\"monthday\": \"06/08\", \"reporting_district\": \"N Hollywood\", \"calls\": 99}, {\"monthday\": \"06/08\", \"reporting_district\": \"Newton\", \"calls\": 99}, {\"monthday\": \"06/08\", \"reporting_district\": \"Northeast\", \"calls\": 88}, {\"monthday\": \"06/08\", \"reporting_district\": \"Olympic\", \"calls\": 80}, {\"monthday\": \"06/08\", \"reporting_district\": \"Pacific\", \"calls\": 119}, {\"monthday\": \"06/08\", \"reporting_district\": \"Rampart\", \"calls\": 96}, {\"monthday\": \"06/08\", \"reporting_district\": \"Southeast\", \"calls\": 121}, {\"monthday\": \"06/08\", \"reporting_district\": \"Southwest\", \"calls\": 85}, {\"monthday\": \"06/08\", \"reporting_district\": \"Topanga\", \"calls\": 87}, {\"monthday\": \"06/08\", \"reporting_district\": \"Van Nuys\", \"calls\": 84}, {\"monthday\": \"06/08\", \"reporting_district\": \"West LA\", \"calls\": 92}, {\"monthday\": \"06/08\", \"reporting_district\": \"West Valley\", \"calls\": 107}, {\"monthday\": \"06/08\", \"reporting_district\": \"Wilshire\", \"calls\": 92}, {\"monthday\": \"06/09\", \"reporting_district\": \"77th Street\", \"calls\": 171}, {\"monthday\": \"06/09\", \"reporting_district\": \"Central\", \"calls\": 128}, {\"monthday\": \"06/09\", \"reporting_district\": \"Devonshire\", \"calls\": 67}, {\"monthday\": \"06/09\", \"reporting_district\": \"Foothill\", \"calls\": 59}, {\"monthday\": \"06/09\", \"reporting_district\": \"Harbor\", \"calls\": 103}, {\"monthday\": \"06/09\", \"reporting_district\": \"Hollenbeck\", \"calls\": 85}, {\"monthday\": \"06/09\", \"reporting_district\": \"Hollywood\", \"calls\": 78}, {\"monthday\": \"06/09\", \"reporting_district\": \"Mission\", \"calls\": 73}, {\"monthday\": \"06/09\", \"reporting_district\": \"N Hollywood\", \"calls\": 112}, {\"monthday\": \"06/09\", \"reporting_district\": \"Newton\", \"calls\": 153}, {\"monthday\": \"06/09\", \"reporting_district\": \"Northeast\", \"calls\": 71}, {\"monthday\": \"06/09\", \"reporting_district\": \"Olympic\", \"calls\": 65}, {\"monthday\": \"06/09\", \"reporting_district\": \"Pacific\", \"calls\": 89}, {\"monthday\": \"06/09\", \"reporting_district\": \"Rampart\", \"calls\": 71}, {\"monthday\": \"06/09\", \"reporting_district\": \"Southeast\", \"calls\": 135}, {\"monthday\": \"06/09\", \"reporting_district\": \"Southwest\", \"calls\": 103}, {\"monthday\": \"06/09\", \"reporting_district\": \"Topanga\", \"calls\": 67}, {\"monthday\": \"06/09\", \"reporting_district\": \"Van Nuys\", \"calls\": 89}, {\"monthday\": \"06/09\", \"reporting_district\": \"West LA\", \"calls\": 81}, {\"monthday\": \"06/09\", \"reporting_district\": \"West Valley\", \"calls\": 71}, {\"monthday\": \"06/09\", \"reporting_district\": \"Wilshire\", \"calls\": 99}, {\"monthday\": \"06/10\", \"reporting_district\": \"77th Street\", \"calls\": 182}, {\"monthday\": \"06/10\", \"reporting_district\": \"Central\", \"calls\": 132}, {\"monthday\": \"06/10\", \"reporting_district\": \"Devonshire\", \"calls\": 106}, {\"monthday\": \"06/10\", \"reporting_district\": \"Foothill\", \"calls\": 112}, {\"monthday\": \"06/10\", \"reporting_district\": \"Harbor\", \"calls\": 109}, {\"monthday\": \"06/10\", \"reporting_district\": \"Hollenbeck\", \"calls\": 99}, {\"monthday\": \"06/10\", \"reporting_district\": \"Hollywood\", \"calls\": 111}, {\"monthday\": \"06/10\", \"reporting_district\": \"Mission\", \"calls\": 102}, {\"monthday\": \"06/10\", \"reporting_district\": \"N Hollywood\", \"calls\": 128}, {\"monthday\": \"06/10\", \"reporting_district\": \"Newton\", \"calls\": 135}, {\"monthday\": \"06/10\", \"reporting_district\": \"Northeast\", \"calls\": 114}, {\"monthday\": \"06/10\", \"reporting_district\": \"Olympic\", \"calls\": 98}, {\"monthday\": \"06/10\", \"reporting_district\": \"Pacific\", \"calls\": 147}, {\"monthday\": \"06/10\", \"reporting_district\": \"Rampart\", \"calls\": 112}, {\"monthday\": \"06/10\", \"reporting_district\": \"Southeast\", \"calls\": 119}, {\"monthday\": \"06/10\", \"reporting_district\": \"Southwest\", \"calls\": 140}, {\"monthday\": \"06/10\", \"reporting_district\": \"Topanga\", \"calls\": 103}, {\"monthday\": \"06/10\", \"reporting_district\": \"Van Nuys\", \"calls\": 113}, {\"monthday\": \"06/10\", \"reporting_district\": \"West LA\", \"calls\": 123}, {\"monthday\": \"06/10\", \"reporting_district\": \"West Valley\", \"calls\": 106}, {\"monthday\": \"06/10\", \"reporting_district\": \"Wilshire\", \"calls\": 105}, {\"monthday\": \"06/11\", \"reporting_district\": \"77th Street\", \"calls\": 182}, {\"monthday\": \"06/11\", \"reporting_district\": \"Central\", \"calls\": 162}, {\"monthday\": \"06/11\", \"reporting_district\": \"Devonshire\", \"calls\": 102}, {\"monthday\": \"06/11\", \"reporting_district\": \"Foothill\", \"calls\": 103}, {\"monthday\": \"06/11\", \"reporting_district\": \"Harbor\", \"calls\": 103}, {\"monthday\": \"06/11\", \"reporting_district\": \"Hollenbeck\", \"calls\": 111}, {\"monthday\": \"06/11\", \"reporting_district\": \"Hollywood\", \"calls\": 131}, {\"monthday\": \"06/11\", \"reporting_district\": \"Mission\", \"calls\": 117}, {\"monthday\": \"06/11\", \"reporting_district\": \"N Hollywood\", \"calls\": 138}, {\"monthday\": \"06/11\", \"reporting_district\": \"Newton\", \"calls\": 159}, {\"monthday\": \"06/11\", \"reporting_district\": \"Northeast\", \"calls\": 90}, {\"monthday\": \"06/11\", \"reporting_district\": \"Olympic\", \"calls\": 126}, {\"monthday\": \"06/11\", \"reporting_district\": \"Pacific\", \"calls\": 174}, {\"monthday\": \"06/11\", \"reporting_district\": \"Rampart\", \"calls\": 144}, {\"monthday\": \"06/11\", \"reporting_district\": \"Southeast\", \"calls\": 100}, {\"monthday\": \"06/11\", \"reporting_district\": \"Southwest\", \"calls\": 126}, {\"monthday\": \"06/11\", \"reporting_district\": \"Topanga\", \"calls\": 113}, {\"monthday\": \"06/11\", \"reporting_district\": \"Van Nuys\", \"calls\": 91}, {\"monthday\": \"06/11\", \"reporting_district\": \"West LA\", \"calls\": 125}, {\"monthday\": \"06/11\", \"reporting_district\": \"West Valley\", \"calls\": 103}, {\"monthday\": \"06/11\", \"reporting_district\": \"Wilshire\", \"calls\": 147}, {\"monthday\": \"06/12\", \"reporting_district\": \"77th Street\", \"calls\": 174}, {\"monthday\": \"06/12\", \"reporting_district\": \"Central\", \"calls\": 143}, {\"monthday\": \"06/12\", \"reporting_district\": \"Devonshire\", \"calls\": 109}, {\"monthday\": \"06/12\", \"reporting_district\": \"Foothill\", \"calls\": 136}, {\"monthday\": \"06/12\", \"reporting_district\": \"Harbor\", \"calls\": 132}, {\"monthday\": \"06/12\", \"reporting_district\": \"Hollenbeck\", \"calls\": 127}, {\"monthday\": \"06/12\", \"reporting_district\": \"Hollywood\", \"calls\": 142}, {\"monthday\": \"06/12\", \"reporting_district\": \"Mission\", \"calls\": 141}, {\"monthday\": \"06/12\", \"reporting_district\": \"N Hollywood\", \"calls\": 124}, {\"monthday\": \"06/12\", \"reporting_district\": \"Newton\", \"calls\": 145}, {\"monthday\": \"06/12\", \"reporting_district\": \"Northeast\", \"calls\": 136}, {\"monthday\": \"06/12\", \"reporting_district\": \"Olympic\", \"calls\": 108}, {\"monthday\": \"06/12\", \"reporting_district\": \"Pacific\", \"calls\": 164}, {\"monthday\": \"06/12\", \"reporting_district\": \"Rampart\", \"calls\": 134}, {\"monthday\": \"06/12\", \"reporting_district\": \"Southeast\", \"calls\": 137}, {\"monthday\": \"06/12\", \"reporting_district\": \"Southwest\", \"calls\": 149}, {\"monthday\": \"06/12\", \"reporting_district\": \"Topanga\", \"calls\": 99}, {\"monthday\": \"06/12\", \"reporting_district\": \"Van Nuys\", \"calls\": 107}, {\"monthday\": \"06/12\", \"reporting_district\": \"West LA\", \"calls\": 113}, {\"monthday\": \"06/12\", \"reporting_district\": \"West Valley\", \"calls\": 132}, {\"monthday\": \"06/12\", \"reporting_district\": \"Wilshire\", \"calls\": 141}, {\"monthday\": \"06/13\", \"reporting_district\": \"77th Street\", \"calls\": 205}, {\"monthday\": \"06/13\", \"reporting_district\": \"Central\", \"calls\": 114}, {\"monthday\": \"06/13\", \"reporting_district\": \"Devonshire\", \"calls\": 116}, {\"monthday\": \"06/13\", \"reporting_district\": \"Foothill\", \"calls\": 137}, {\"monthday\": \"06/13\", \"reporting_district\": \"Harbor\", \"calls\": 145}, {\"monthday\": \"06/13\", \"reporting_district\": \"Hollenbeck\", \"calls\": 143}, {\"monthday\": \"06/13\", \"reporting_district\": \"Hollywood\", \"calls\": 179}, {\"monthday\": \"06/13\", \"reporting_district\": \"Mission\", \"calls\": 155}, {\"monthday\": \"06/13\", \"reporting_district\": \"N Hollywood\", \"calls\": 161}, {\"monthday\": \"06/13\", \"reporting_district\": \"Newton\", \"calls\": 143}, {\"monthday\": \"06/13\", \"reporting_district\": \"Northeast\", \"calls\": 123}, {\"monthday\": \"06/13\", \"reporting_district\": \"Olympic\", \"calls\": 98}, {\"monthday\": \"06/13\", \"reporting_district\": \"Pacific\", \"calls\": 168}, {\"monthday\": \"06/13\", \"reporting_district\": \"Rampart\", \"calls\": 134}, {\"monthday\": \"06/13\", \"reporting_district\": \"Southeast\", \"calls\": 168}, {\"monthday\": \"06/13\", \"reporting_district\": \"Southwest\", \"calls\": 137}, {\"monthday\": \"06/13\", \"reporting_district\": \"Topanga\", \"calls\": 125}, {\"monthday\": \"06/13\", \"reporting_district\": \"Van Nuys\", \"calls\": 126}, {\"monthday\": \"06/13\", \"reporting_district\": \"West LA\", \"calls\": 121}, {\"monthday\": \"06/13\", \"reporting_district\": \"West Valley\", \"calls\": 118}, {\"monthday\": \"06/13\", \"reporting_district\": \"Wilshire\", \"calls\": 125}, {\"monthday\": \"06/14\", \"reporting_district\": \"77th Street\", \"calls\": 218}, {\"monthday\": \"06/14\", \"reporting_district\": \"Central\", \"calls\": 149}, {\"monthday\": \"06/14\", \"reporting_district\": \"Devonshire\", \"calls\": 110}, {\"monthday\": \"06/14\", \"reporting_district\": \"Foothill\", \"calls\": 151}, {\"monthday\": \"06/14\", \"reporting_district\": \"Harbor\", \"calls\": 137}, {\"monthday\": \"06/14\", \"reporting_district\": \"Hollenbeck\", \"calls\": 145}, {\"monthday\": \"06/14\", \"reporting_district\": \"Hollywood\", \"calls\": 124}, {\"monthday\": \"06/14\", \"reporting_district\": \"Mission\", \"calls\": 152}, {\"monthday\": \"06/14\", \"reporting_district\": \"N Hollywood\", \"calls\": 151}, {\"monthday\": \"06/14\", \"reporting_district\": \"Newton\", \"calls\": 163}, {\"monthday\": \"06/14\", \"reporting_district\": \"Northeast\", \"calls\": 145}, {\"monthday\": \"06/14\", \"reporting_district\": \"Olympic\", \"calls\": 135}, {\"monthday\": \"06/14\", \"reporting_district\": \"Pacific\", \"calls\": 158}, {\"monthday\": \"06/14\", \"reporting_district\": \"Rampart\", \"calls\": 163}, {\"monthday\": \"06/14\", \"reporting_district\": \"Southeast\", \"calls\": 154}, {\"monthday\": \"06/14\", \"reporting_district\": \"Southwest\", \"calls\": 194}, {\"monthday\": \"06/14\", \"reporting_district\": \"Topanga\", \"calls\": 121}, {\"monthday\": \"06/14\", \"reporting_district\": \"Van Nuys\", \"calls\": 117}, {\"monthday\": \"06/14\", \"reporting_district\": \"West LA\", \"calls\": 110}, {\"monthday\": \"06/14\", \"reporting_district\": \"West Valley\", \"calls\": 129}, {\"monthday\": \"06/14\", \"reporting_district\": \"Wilshire\", \"calls\": 113}, {\"monthday\": \"06/15\", \"reporting_district\": \"77th Street\", \"calls\": 195}, {\"monthday\": \"06/15\", \"reporting_district\": \"Central\", \"calls\": 133}, {\"monthday\": \"06/15\", \"reporting_district\": \"Devonshire\", \"calls\": 74}, {\"monthday\": \"06/15\", \"reporting_district\": \"Foothill\", \"calls\": 129}, {\"monthday\": \"06/15\", \"reporting_district\": \"Harbor\", \"calls\": 108}, {\"monthday\": \"06/15\", \"reporting_district\": \"Hollenbeck\", \"calls\": 126}, {\"monthday\": \"06/15\", \"reporting_district\": \"Hollywood\", \"calls\": 131}, {\"monthday\": \"06/15\", \"reporting_district\": \"Mission\", \"calls\": 163}, {\"monthday\": \"06/15\", \"reporting_district\": \"N Hollywood\", \"calls\": 137}, {\"monthday\": \"06/15\", \"reporting_district\": \"Newton\", \"calls\": 132}, {\"monthday\": \"06/15\", \"reporting_district\": \"Northeast\", \"calls\": 77}, {\"monthday\": \"06/15\", \"reporting_district\": \"Olympic\", \"calls\": 137}, {\"monthday\": \"06/15\", \"reporting_district\": \"Pacific\", \"calls\": 164}, {\"monthday\": \"06/15\", \"reporting_district\": \"Rampart\", \"calls\": 117}, {\"monthday\": \"06/15\", \"reporting_district\": \"Southeast\", \"calls\": 134}, {\"monthday\": \"06/15\", \"reporting_district\": \"Southwest\", \"calls\": 124}, {\"monthday\": \"06/15\", \"reporting_district\": \"Topanga\", \"calls\": 110}, {\"monthday\": \"06/15\", \"reporting_district\": \"Van Nuys\", \"calls\": 118}, {\"monthday\": \"06/15\", \"reporting_district\": \"West LA\", \"calls\": 119}, {\"monthday\": \"06/15\", \"reporting_district\": \"West Valley\", \"calls\": 137}, {\"monthday\": \"06/15\", \"reporting_district\": \"Wilshire\", \"calls\": 141}, {\"monthday\": \"06/16\", \"reporting_district\": \"77th Street\", \"calls\": 198}, {\"monthday\": \"06/16\", \"reporting_district\": \"Central\", \"calls\": 141}, {\"monthday\": \"06/16\", \"reporting_district\": \"Devonshire\", \"calls\": 115}, {\"monthday\": \"06/16\", \"reporting_district\": \"Foothill\", \"calls\": 115}, {\"monthday\": \"06/16\", \"reporting_district\": \"Harbor\", \"calls\": 105}, {\"monthday\": \"06/16\", \"reporting_district\": \"Hollenbeck\", \"calls\": 92}, {\"monthday\": \"06/16\", \"reporting_district\": \"Hollywood\", \"calls\": 154}, {\"monthday\": \"06/16\", \"reporting_district\": \"Mission\", \"calls\": 126}, {\"monthday\": \"06/16\", \"reporting_district\": \"N Hollywood\", \"calls\": 153}, {\"monthday\": \"06/16\", \"reporting_district\": \"Newton\", \"calls\": 164}, {\"monthday\": \"06/16\", \"reporting_district\": \"Northeast\", \"calls\": 103}, {\"monthday\": \"06/16\", \"reporting_district\": \"Olympic\", \"calls\": 110}, {\"monthday\": \"06/16\", \"reporting_district\": \"Pacific\", \"calls\": 131}, {\"monthday\": \"06/16\", \"reporting_district\": \"Rampart\", \"calls\": 104}, {\"monthday\": \"06/16\", \"reporting_district\": \"Southeast\", \"calls\": 119}, {\"monthday\": \"06/16\", \"reporting_district\": \"Southwest\", \"calls\": 133}, {\"monthday\": \"06/16\", \"reporting_district\": \"Topanga\", \"calls\": 119}, {\"monthday\": \"06/16\", \"reporting_district\": \"Van Nuys\", \"calls\": 145}, {\"monthday\": \"06/16\", \"reporting_district\": \"West LA\", \"calls\": 109}, {\"monthday\": \"06/16\", \"reporting_district\": \"West Valley\", \"calls\": 131}, {\"monthday\": \"06/16\", \"reporting_district\": \"Wilshire\", \"calls\": 138}, {\"monthday\": \"06/17\", \"reporting_district\": \"77th Street\", \"calls\": 178}, {\"monthday\": \"06/17\", \"reporting_district\": \"Central\", \"calls\": 118}, {\"monthday\": \"06/17\", \"reporting_district\": \"Devonshire\", \"calls\": 118}, {\"monthday\": \"06/17\", \"reporting_district\": \"Foothill\", \"calls\": 117}, {\"monthday\": \"06/17\", \"reporting_district\": \"Harbor\", \"calls\": 132}, {\"monthday\": \"06/17\", \"reporting_district\": \"Hollenbeck\", \"calls\": 129}, {\"monthday\": \"06/17\", \"reporting_district\": \"Hollywood\", \"calls\": 137}, {\"monthday\": \"06/17\", \"reporting_district\": \"Mission\", \"calls\": 130}, {\"monthday\": \"06/17\", \"reporting_district\": \"N Hollywood\", \"calls\": 136}, {\"monthday\": \"06/17\", \"reporting_district\": \"Newton\", \"calls\": 136}, {\"monthday\": \"06/17\", \"reporting_district\": \"Northeast\", \"calls\": 126}, {\"monthday\": \"06/17\", \"reporting_district\": \"Olympic\", \"calls\": 126}, {\"monthday\": \"06/17\", \"reporting_district\": \"Pacific\", \"calls\": 173}, {\"monthday\": \"06/17\", \"reporting_district\": \"Rampart\", \"calls\": 111}, {\"monthday\": \"06/17\", \"reporting_district\": \"Southeast\", \"calls\": 116}, {\"monthday\": \"06/17\", \"reporting_district\": \"Southwest\", \"calls\": 172}, {\"monthday\": \"06/17\", \"reporting_district\": \"Topanga\", \"calls\": 96}, {\"monthday\": \"06/17\", \"reporting_district\": \"Van Nuys\", \"calls\": 129}, {\"monthday\": \"06/17\", \"reporting_district\": \"West LA\", \"calls\": 127}, {\"monthday\": \"06/17\", \"reporting_district\": \"West Valley\", \"calls\": 122}, {\"monthday\": \"06/17\", \"reporting_district\": \"Wilshire\", \"calls\": 226}, {\"monthday\": \"06/18\", \"reporting_district\": \"77th Street\", \"calls\": 182}, {\"monthday\": \"06/18\", \"reporting_district\": \"Central\", \"calls\": 188}, {\"monthday\": \"06/18\", \"reporting_district\": \"Devonshire\", \"calls\": 94}, {\"monthday\": \"06/18\", \"reporting_district\": \"Foothill\", \"calls\": 124}, {\"monthday\": \"06/18\", \"reporting_district\": \"Harbor\", \"calls\": 123}, {\"monthday\": \"06/18\", \"reporting_district\": \"Hollenbeck\", \"calls\": 134}, {\"monthday\": \"06/18\", \"reporting_district\": \"Hollywood\", \"calls\": 169}, {\"monthday\": \"06/18\", \"reporting_district\": \"Mission\", \"calls\": 106}, {\"monthday\": \"06/18\", \"reporting_district\": \"N Hollywood\", \"calls\": 127}, {\"monthday\": \"06/18\", \"reporting_district\": \"Newton\", \"calls\": 181}, {\"monthday\": \"06/18\", \"reporting_district\": \"Northeast\", \"calls\": 122}, {\"monthday\": \"06/18\", \"reporting_district\": \"Olympic\", \"calls\": 159}, {\"monthday\": \"06/18\", \"reporting_district\": \"Pacific\", \"calls\": 163}, {\"monthday\": \"06/18\", \"reporting_district\": \"Rampart\", \"calls\": 130}, {\"monthday\": \"06/18\", \"reporting_district\": \"Southeast\", \"calls\": 135}, {\"monthday\": \"06/18\", \"reporting_district\": \"Southwest\", \"calls\": 128}, {\"monthday\": \"06/18\", \"reporting_district\": \"Topanga\", \"calls\": 109}, {\"monthday\": \"06/18\", \"reporting_district\": \"Van Nuys\", \"calls\": 130}, {\"monthday\": \"06/18\", \"reporting_district\": \"West LA\", \"calls\": 133}, {\"monthday\": \"06/18\", \"reporting_district\": \"West Valley\", \"calls\": 139}, {\"monthday\": \"06/18\", \"reporting_district\": \"Wilshire\", \"calls\": 142}, {\"monthday\": \"06/19\", \"reporting_district\": \"77th Street\", \"calls\": 198}, {\"monthday\": \"06/19\", \"reporting_district\": \"Central\", \"calls\": 137}, {\"monthday\": \"06/19\", \"reporting_district\": \"Devonshire\", \"calls\": 127}, {\"monthday\": \"06/19\", \"reporting_district\": \"Foothill\", \"calls\": 98}, {\"monthday\": \"06/19\", \"reporting_district\": \"Harbor\", \"calls\": 129}, {\"monthday\": \"06/19\", \"reporting_district\": \"Hollenbeck\", \"calls\": 136}, {\"monthday\": \"06/19\", \"reporting_district\": \"Hollywood\", \"calls\": 147}, {\"monthday\": \"06/19\", \"reporting_district\": \"Mission\", \"calls\": 143}, {\"monthday\": \"06/19\", \"reporting_district\": \"N Hollywood\", \"calls\": 132}, {\"monthday\": \"06/19\", \"reporting_district\": \"Newton\", \"calls\": 159}, {\"monthday\": \"06/19\", \"reporting_district\": \"Northeast\", \"calls\": 130}, {\"monthday\": \"06/19\", \"reporting_district\": \"Olympic\", \"calls\": 117}, {\"monthday\": \"06/19\", \"reporting_district\": \"Pacific\", \"calls\": 157}, {\"monthday\": \"06/19\", \"reporting_district\": \"Rampart\", \"calls\": 146}, {\"monthday\": \"06/19\", \"reporting_district\": \"Southeast\", \"calls\": 144}, {\"monthday\": \"06/19\", \"reporting_district\": \"Southwest\", \"calls\": 191}, {\"monthday\": \"06/19\", \"reporting_district\": \"Topanga\", \"calls\": 119}, {\"monthday\": \"06/19\", \"reporting_district\": \"Van Nuys\", \"calls\": 141}, {\"monthday\": \"06/19\", \"reporting_district\": \"West LA\", \"calls\": 120}, {\"monthday\": \"06/19\", \"reporting_district\": \"West Valley\", \"calls\": 116}, {\"monthday\": \"06/19\", \"reporting_district\": \"Wilshire\", \"calls\": 120}, {\"monthday\": \"06/20\", \"reporting_district\": \"77th Street\", \"calls\": 209}, {\"monthday\": \"06/20\", \"reporting_district\": \"Central\", \"calls\": 132}, {\"monthday\": \"06/20\", \"reporting_district\": \"Devonshire\", \"calls\": 147}, {\"monthday\": \"06/20\", \"reporting_district\": \"Foothill\", \"calls\": 152}, {\"monthday\": \"06/20\", \"reporting_district\": \"Harbor\", \"calls\": 142}, {\"monthday\": \"06/20\", \"reporting_district\": \"Hollenbeck\", \"calls\": 154}, {\"monthday\": \"06/20\", \"reporting_district\": \"Hollywood\", \"calls\": 164}, {\"monthday\": \"06/20\", \"reporting_district\": \"Mission\", \"calls\": 184}, {\"monthday\": \"06/20\", \"reporting_district\": \"N Hollywood\", \"calls\": 173}, {\"monthday\": \"06/20\", \"reporting_district\": \"Newton\", \"calls\": 195}, {\"monthday\": \"06/20\", \"reporting_district\": \"Northeast\", \"calls\": 122}, {\"monthday\": \"06/20\", \"reporting_district\": \"Olympic\", \"calls\": 145}, {\"monthday\": \"06/20\", \"reporting_district\": \"Pacific\", \"calls\": 161}, {\"monthday\": \"06/20\", \"reporting_district\": \"Rampart\", \"calls\": 176}, {\"monthday\": \"06/20\", \"reporting_district\": \"Southeast\", \"calls\": 129}, {\"monthday\": \"06/20\", \"reporting_district\": \"Southwest\", \"calls\": 195}, {\"monthday\": \"06/20\", \"reporting_district\": \"Topanga\", \"calls\": 154}, {\"monthday\": \"06/20\", \"reporting_district\": \"Van Nuys\", \"calls\": 171}, {\"monthday\": \"06/20\", \"reporting_district\": \"West LA\", \"calls\": 135}, {\"monthday\": \"06/20\", \"reporting_district\": \"West Valley\", \"calls\": 160}, {\"monthday\": \"06/20\", \"reporting_district\": \"Wilshire\", \"calls\": 142}]}}, {\"mode\": \"vega-lite\"});\n",
       "</script>"
      ],
      "text/plain": [
       "alt.Chart(...)"
      ]
     },
     "execution_count": 232,
     "metadata": {},
     "output_type": "execute_result"
    }
   ],
   "source": [
    "chart = alt.Chart((this_year_no_code6))\\\n",
    "    .mark_bar(size=1,opacity=1, color='#B32F2E')\\\n",
    "    .encode(\n",
    "    x=alt.X('monthday:T', title=' ', axis=alt.Axis(grid=False, tickCount=6, format='%B')),\n",
    "    y=alt.Y('calls:Q', stack=None, title=' ', axis=alt.Axis(gridWidth=.6,\\\n",
    "     gridColor='#dddddd',offset=6,tickSize=0,domainOpacity=0,tickCount=4, format=''),\\\n",
    "           scale=alt.Scale(domain=(0, 300))),\n",
    "    facet=alt.Facet('reporting_district:O', columns=7, title='LAPD reporting district')\n",
    ").properties(width=150, height=100,\n",
    "     title='All fireworks calls to LAPD: 2020'\n",
    ")\n",
    "\n",
    "chart.configure_view(strokeOpacity=0).configure_legend(\n",
    "    orient='top',\n",
    "    symbolType='stroke'\n",
    ").configure_legend(symbolType='square')"
   ]
  },
  {
   "cell_type": "markdown",
   "metadata": {},
   "source": [
    "### Which cases are related to fireworks?"
   ]
  },
  {
   "cell_type": "code",
   "execution_count": 200,
   "metadata": {},
   "outputs": [],
   "source": [
    "fireworks = pd.DataFrame(df[df['call_type_code'] == '507F'])"
   ]
  },
  {
   "cell_type": "code",
   "execution_count": 201,
   "metadata": {},
   "outputs": [],
   "source": [
    "daily = fireworks[fireworks['year'] != '2020'].groupby(['monthday']).agg('size').reset_index(name='average')"
   ]
  },
  {
   "cell_type": "code",
   "execution_count": 202,
   "metadata": {},
   "outputs": [],
   "source": [
    "daily['average'] = daily['average']/10"
   ]
  },
  {
   "cell_type": "code",
   "execution_count": 203,
   "metadata": {},
   "outputs": [],
   "source": [
    "thisyear = fireworks[fireworks['year'] == '2020'].groupby(['monthday']).agg('size').reset_index(name='average')"
   ]
  },
  {
   "cell_type": "code",
   "execution_count": 204,
   "metadata": {},
   "outputs": [],
   "source": [
    "fireworks_trend = daily.merge(thisyear, on=['monthday'], how='left')"
   ]
  },
  {
   "cell_type": "code",
   "execution_count": 205,
   "metadata": {},
   "outputs": [],
   "source": [
    "fireworks_trend.rename(columns={'average_x':'Average 2010-2019', 'average_y':'ThisYear'}, inplace=True)"
   ]
  },
  {
   "cell_type": "code",
   "execution_count": 206,
   "metadata": {},
   "outputs": [],
   "source": [
    "fireworks_trend.ThisYear = fireworks_trend.ThisYear.ffill()"
   ]
  },
  {
   "cell_type": "code",
   "execution_count": 207,
   "metadata": {},
   "outputs": [],
   "source": [
    "fireworks_chart = pd.DataFrame(fireworks_trend[fireworks_trend['monthday'] < '06/20'])"
   ]
  },
  {
   "cell_type": "code",
   "execution_count": 208,
   "metadata": {},
   "outputs": [],
   "source": [
    "fireworks_melt = pd.melt(fireworks_chart, id_vars=['monthday'], value_vars=['Average 2010-2019', 'ThisYear'],\n",
    "        var_name='time', value_name='calls')"
   ]
  },
  {
   "cell_type": "code",
   "execution_count": 245,
   "metadata": {},
   "outputs": [
    {
     "data": {
      "text/html": [
       "\n",
       "<div id=\"altair-viz-1e4f42b819e547669e3b0bb53b322a74\"></div>\n",
       "<script type=\"text/javascript\">\n",
       "  (function(spec, embedOpt){\n",
       "    const outputDiv = document.getElementById(\"altair-viz-1e4f42b819e547669e3b0bb53b322a74\");\n",
       "    const paths = {\n",
       "      \"vega\": \"https://cdn.jsdelivr.net/npm//vega@5?noext\",\n",
       "      \"vega-lib\": \"https://cdn.jsdelivr.net/npm//vega-lib?noext\",\n",
       "      \"vega-lite\": \"https://cdn.jsdelivr.net/npm//vega-lite@4.0.2?noext\",\n",
       "      \"vega-embed\": \"https://cdn.jsdelivr.net/npm//vega-embed@6?noext\",\n",
       "    };\n",
       "\n",
       "    function loadScript(lib) {\n",
       "      return new Promise(function(resolve, reject) {\n",
       "        var s = document.createElement('script');\n",
       "        s.src = paths[lib];\n",
       "        s.async = true;\n",
       "        s.onload = () => resolve(paths[lib]);\n",
       "        s.onerror = () => reject(`Error loading script: ${paths[lib]}`);\n",
       "        document.getElementsByTagName(\"head\")[0].appendChild(s);\n",
       "      });\n",
       "    }\n",
       "\n",
       "    function showError(err) {\n",
       "      outputDiv.innerHTML = `<div class=\"error\" style=\"color:red;\">${err}</div>`;\n",
       "      throw err;\n",
       "    }\n",
       "\n",
       "    function displayChart(vegaEmbed) {\n",
       "      vegaEmbed(outputDiv, spec, embedOpt)\n",
       "        .catch(err => showError(`Javascript Error: ${err.message}<br>This usually means there's a typo in your chart specification. See the javascript console for the full traceback.`));\n",
       "    }\n",
       "\n",
       "    if(typeof define === \"function\" && define.amd) {\n",
       "      requirejs.config({paths});\n",
       "      require([\"vega-embed\"], displayChart, err => showError(`Error loading script: ${err.message}`));\n",
       "    } else if (typeof vegaEmbed === \"function\") {\n",
       "      displayChart(vegaEmbed);\n",
       "    } else {\n",
       "      loadScript(\"vega\")\n",
       "        .then(() => loadScript(\"vega-lite\"))\n",
       "        .then(() => loadScript(\"vega-embed\"))\n",
       "        .catch(showError)\n",
       "        .then(() => displayChart(vegaEmbed));\n",
       "    }\n",
       "  })({\"config\": {\"view\": {\"width\": 800, \"height\": 450, \"strokeOpacity\": 0}, \"background\": \"#ffffff\", \"title\": {\"anchor\": \"start\", \"font\": \"Benton Gothic Bold, sans\", \"fontColor\": \"#000000\", \"fontSize\": 22, \"fontWeight\": \"normal\"}, \"arc\": {\"fill\": \"#82c6df\"}, \"area\": {\"fill\": \"#82c6df\"}, \"line\": {\"stroke\": \"#82c6df\", \"strokeWidth\": 3}, \"path\": {\"stroke\": \"#82c6df\"}, \"rect\": {\"fill\": \"#82c6df\"}, \"shape\": {\"stroke\": \"#82c6df\"}, \"bar\": {\"fill\": \"#82c6df\"}, \"point\": {\"stroke\": \"#82c6df\"}, \"symbol\": {\"fill\": \"#82c6df\", \"size\": 30}, \"axis\": {\"titleFont\": \"Benton Gothic Bold, sans\", \"titleFontSize\": 13, \"titleFontWeight\": \"normal\", \"labelFont\": \"Benton Gothic, sans\", \"labelFontSize\": 11.5, \"labelFontWeight\": \"normal\"}, \"axisX\": {\"labelAngle\": 0, \"labelPadding\": 4, \"tickSize\": 3}, \"axisY\": {\"labelBaseline\": \"middle\", \"maxExtent\": 45, \"minExtent\": 45, \"tickSize\": 2, \"titleAlign\": \"left\", \"titleAngle\": 0, \"titleX\": -45, \"titleY\": -11}, \"legend\": {\"titleFont\": \"Benton Gothic Bold, sans\", \"titleFontSize\": 13, \"titleFontWeight\": \"normal\", \"symbolType\": \"square\", \"labelFont\": \"Benton Gothic, sans\", \"labelFontSize\": 11.5, \"orient\": \"top\"}, \"range\": {\"category\": [\"#3580b1\", \"#ec8431\", \"#ab7fb4\", \"#c89d29\", \"#adc839\", \"#829eb1\"], \"diverging\": [\"#e68a4f\", \"#f4bb6a\", \"#f9e39c\", \"#dadfe2\", \"#a6b7c6\", \"#849eae\"], \"heatmap\": [\"#fbf2c7\", \"#f9e39c\", \"#f8d36e\", \"#f4bb6a\", \"#e68a4f\", \"#d15a40\", \"#ab4232\"], \"ordinal\": [\"#fbf2c7\", \"#f9e39c\", \"#f8d36e\", \"#f4bb6a\", \"#e68a4f\", \"#d15a40\", \"#ab4232\"], \"ramp\": [\"#fbf2c7\", \"#f9e39c\", \"#f8d36e\", \"#f4bb6a\", \"#e68a4f\", \"#d15a40\", \"#ab4232\"]}}, \"data\": {\"name\": \"data-341a9baab12fb395100bcb830a154e63\"}, \"mark\": {\"type\": \"bar\", \"opacity\": 0.4, \"size\": 4}, \"encoding\": {\"color\": {\"type\": \"nominal\", \"field\": \"time\", \"title\": \" \"}, \"x\": {\"type\": \"temporal\", \"axis\": {\"format\": \"%B\", \"grid\": false, \"tickCount\": 6}, \"field\": \"monthday\", \"title\": \" \"}, \"y\": {\"type\": \"quantitative\", \"axis\": {\"domainOpacity\": 0, \"format\": \"\", \"gridColor\": \"#dddddd\", \"gridWidth\": 0.6, \"offset\": 6, \"tickCount\": 4, \"tickSize\": 0}, \"field\": \"calls\", \"scale\": {\"domain\": [0, 200]}, \"stack\": null, \"title\": \" \"}}, \"height\": 400, \"title\": \"Fireworks calls to LAPD: 2010-2019\", \"width\": 630, \"$schema\": \"https://vega.github.io/schema/vega-lite/v4.0.2.json\", \"datasets\": {\"data-341a9baab12fb395100bcb830a154e63\": [{\"monthday\": \"01/01\", \"time\": \"Average 2010-2019\", \"calls\": 53.1}, {\"monthday\": \"01/02\", \"time\": \"Average 2010-2019\", \"calls\": 6.1}, {\"monthday\": \"01/03\", \"time\": \"Average 2010-2019\", \"calls\": 2.2}, {\"monthday\": \"01/04\", \"time\": \"Average 2010-2019\", \"calls\": 2.9}, {\"monthday\": \"01/05\", \"time\": \"Average 2010-2019\", \"calls\": 2.9}, {\"monthday\": \"01/06\", \"time\": \"Average 2010-2019\", \"calls\": 2.6}, {\"monthday\": \"01/07\", \"time\": \"Average 2010-2019\", \"calls\": 2.2}, {\"monthday\": \"01/08\", \"time\": \"Average 2010-2019\", \"calls\": 2.2}, {\"monthday\": \"01/09\", \"time\": \"Average 2010-2019\", \"calls\": 2.5}, {\"monthday\": \"01/10\", \"time\": \"Average 2010-2019\", \"calls\": 1.0}, {\"monthday\": \"01/11\", \"time\": \"Average 2010-2019\", \"calls\": 1.9}, {\"monthday\": \"01/12\", \"time\": \"Average 2010-2019\", \"calls\": 1.5}, {\"monthday\": \"01/13\", \"time\": \"Average 2010-2019\", \"calls\": 1.2}, {\"monthday\": \"01/14\", \"time\": \"Average 2010-2019\", \"calls\": 1.3}, {\"monthday\": \"01/15\", \"time\": \"Average 2010-2019\", \"calls\": 1.7}, {\"monthday\": \"01/16\", \"time\": \"Average 2010-2019\", \"calls\": 1.6}, {\"monthday\": \"01/17\", \"time\": \"Average 2010-2019\", \"calls\": 1.1}, {\"monthday\": \"01/18\", \"time\": \"Average 2010-2019\", \"calls\": 0.9}, {\"monthday\": \"01/19\", \"time\": \"Average 2010-2019\", \"calls\": 1.7}, {\"monthday\": \"01/20\", \"time\": \"Average 2010-2019\", \"calls\": 1.4}, {\"monthday\": \"01/21\", \"time\": \"Average 2010-2019\", \"calls\": 1.0}, {\"monthday\": \"01/22\", \"time\": \"Average 2010-2019\", \"calls\": 1.4}, {\"monthday\": \"01/23\", \"time\": \"Average 2010-2019\", \"calls\": 1.9}, {\"monthday\": \"01/24\", \"time\": \"Average 2010-2019\", \"calls\": 1.2}, {\"monthday\": \"01/25\", \"time\": \"Average 2010-2019\", \"calls\": 1.1}, {\"monthday\": \"01/26\", \"time\": \"Average 2010-2019\", \"calls\": 1.9}, {\"monthday\": \"01/27\", \"time\": \"Average 2010-2019\", \"calls\": 1.3}, {\"monthday\": \"01/28\", \"time\": \"Average 2010-2019\", \"calls\": 0.7}, {\"monthday\": \"01/29\", \"time\": \"Average 2010-2019\", \"calls\": 1.9}, {\"monthday\": \"01/30\", \"time\": \"Average 2010-2019\", \"calls\": 1.4}, {\"monthday\": \"01/31\", \"time\": \"Average 2010-2019\", \"calls\": 1.6}, {\"monthday\": \"02/01\", \"time\": \"Average 2010-2019\", \"calls\": 1.2}, {\"monthday\": \"02/02\", \"time\": \"Average 2010-2019\", \"calls\": 2.1}, {\"monthday\": \"02/03\", \"time\": \"Average 2010-2019\", \"calls\": 2.2}, {\"monthday\": \"02/04\", \"time\": \"Average 2010-2019\", \"calls\": 2.0}, {\"monthday\": \"02/05\", \"time\": \"Average 2010-2019\", \"calls\": 0.7}, {\"monthday\": \"02/06\", \"time\": \"Average 2010-2019\", \"calls\": 0.9}, {\"monthday\": \"02/07\", \"time\": \"Average 2010-2019\", \"calls\": 0.9}, {\"monthday\": \"02/08\", \"time\": \"Average 2010-2019\", \"calls\": 1.2}, {\"monthday\": \"02/09\", \"time\": \"Average 2010-2019\", \"calls\": 1.5}, {\"monthday\": \"02/10\", \"time\": \"Average 2010-2019\", \"calls\": 0.9}, {\"monthday\": \"02/11\", \"time\": \"Average 2010-2019\", \"calls\": 0.6}, {\"monthday\": \"02/12\", \"time\": \"Average 2010-2019\", \"calls\": 0.9}, {\"monthday\": \"02/13\", \"time\": \"Average 2010-2019\", \"calls\": 1.5}, {\"monthday\": \"02/14\", \"time\": \"Average 2010-2019\", \"calls\": 1.6}, {\"monthday\": \"02/15\", \"time\": \"Average 2010-2019\", \"calls\": 0.8}, {\"monthday\": \"02/16\", \"time\": \"Average 2010-2019\", \"calls\": 0.8}, {\"monthday\": \"02/17\", \"time\": \"Average 2010-2019\", \"calls\": 0.9}, {\"monthday\": \"02/18\", \"time\": \"Average 2010-2019\", \"calls\": 1.2}, {\"monthday\": \"02/19\", \"time\": \"Average 2010-2019\", \"calls\": 2.0}, {\"monthday\": \"02/20\", \"time\": \"Average 2010-2019\", \"calls\": 0.9}, {\"monthday\": \"02/21\", \"time\": \"Average 2010-2019\", \"calls\": 1.1}, {\"monthday\": \"02/22\", \"time\": \"Average 2010-2019\", \"calls\": 1.3}, {\"monthday\": \"02/23\", \"time\": \"Average 2010-2019\", \"calls\": 2.3}, {\"monthday\": \"02/24\", \"time\": \"Average 2010-2019\", \"calls\": 0.8}, {\"monthday\": \"02/25\", \"time\": \"Average 2010-2019\", \"calls\": 1.0}, {\"monthday\": \"02/26\", \"time\": \"Average 2010-2019\", \"calls\": 1.0}, {\"monthday\": \"02/27\", \"time\": \"Average 2010-2019\", \"calls\": 2.6}, {\"monthday\": \"02/28\", \"time\": \"Average 2010-2019\", \"calls\": 1.3}, {\"monthday\": \"02/29\", \"time\": \"Average 2010-2019\", \"calls\": 0.1}, {\"monthday\": \"03/01\", \"time\": \"Average 2010-2019\", \"calls\": 1.2}, {\"monthday\": \"03/02\", \"time\": \"Average 2010-2019\", \"calls\": 0.9}, {\"monthday\": \"03/03\", \"time\": \"Average 2010-2019\", \"calls\": 1.1}, {\"monthday\": \"03/04\", \"time\": \"Average 2010-2019\", \"calls\": 0.8}, {\"monthday\": \"03/05\", \"time\": \"Average 2010-2019\", \"calls\": 1.3}, {\"monthday\": \"03/06\", \"time\": \"Average 2010-2019\", \"calls\": 1.0}, {\"monthday\": \"03/07\", \"time\": \"Average 2010-2019\", \"calls\": 0.7}, {\"monthday\": \"03/08\", \"time\": \"Average 2010-2019\", \"calls\": 1.8}, {\"monthday\": \"03/09\", \"time\": \"Average 2010-2019\", \"calls\": 1.0}, {\"monthday\": \"03/10\", \"time\": \"Average 2010-2019\", \"calls\": 0.9}, {\"monthday\": \"03/11\", \"time\": \"Average 2010-2019\", \"calls\": 1.0}, {\"monthday\": \"03/12\", \"time\": \"Average 2010-2019\", \"calls\": 2.3}, {\"monthday\": \"03/13\", \"time\": \"Average 2010-2019\", \"calls\": 0.9}, {\"monthday\": \"03/14\", \"time\": \"Average 2010-2019\", \"calls\": 1.1}, {\"monthday\": \"03/15\", \"time\": \"Average 2010-2019\", \"calls\": 1.8}, {\"monthday\": \"03/16\", \"time\": \"Average 2010-2019\", \"calls\": 1.8}, {\"monthday\": \"03/17\", \"time\": \"Average 2010-2019\", \"calls\": 1.5}, {\"monthday\": \"03/18\", \"time\": \"Average 2010-2019\", \"calls\": 1.0}, {\"monthday\": \"03/19\", \"time\": \"Average 2010-2019\", \"calls\": 1.5}, {\"monthday\": \"03/20\", \"time\": \"Average 2010-2019\", \"calls\": 0.8}, {\"monthday\": \"03/21\", \"time\": \"Average 2010-2019\", \"calls\": 1.5}, {\"monthday\": \"03/22\", \"time\": \"Average 2010-2019\", \"calls\": 1.6}, {\"monthday\": \"03/23\", \"time\": \"Average 2010-2019\", \"calls\": 1.5}, {\"monthday\": \"03/24\", \"time\": \"Average 2010-2019\", \"calls\": 2.4}, {\"monthday\": \"03/25\", \"time\": \"Average 2010-2019\", \"calls\": 1.7}, {\"monthday\": \"03/26\", \"time\": \"Average 2010-2019\", \"calls\": 1.3}, {\"monthday\": \"03/27\", \"time\": \"Average 2010-2019\", \"calls\": 2.3}, {\"monthday\": \"03/28\", \"time\": \"Average 2010-2019\", \"calls\": 1.9}, {\"monthday\": \"03/29\", \"time\": \"Average 2010-2019\", \"calls\": 1.6}, {\"monthday\": \"03/30\", \"time\": \"Average 2010-2019\", \"calls\": 1.9}, {\"monthday\": \"03/31\", \"time\": \"Average 2010-2019\", \"calls\": 1.6}, {\"monthday\": \"04/01\", \"time\": \"Average 2010-2019\", \"calls\": 1.9}, {\"monthday\": \"04/02\", \"time\": \"Average 2010-2019\", \"calls\": 0.7}, {\"monthday\": \"04/03\", \"time\": \"Average 2010-2019\", \"calls\": 1.4}, {\"monthday\": \"04/04\", \"time\": \"Average 2010-2019\", \"calls\": 1.1}, {\"monthday\": \"04/05\", \"time\": \"Average 2010-2019\", \"calls\": 1.7}, {\"monthday\": \"04/06\", \"time\": \"Average 2010-2019\", \"calls\": 0.8}, {\"monthday\": \"04/07\", \"time\": \"Average 2010-2019\", \"calls\": 1.8}, {\"monthday\": \"04/08\", \"time\": \"Average 2010-2019\", \"calls\": 1.1}, {\"monthday\": \"04/09\", \"time\": \"Average 2010-2019\", \"calls\": 1.5}, {\"monthday\": \"04/10\", \"time\": \"Average 2010-2019\", \"calls\": 1.4}, {\"monthday\": \"04/11\", \"time\": \"Average 2010-2019\", \"calls\": 1.4}, {\"monthday\": \"04/12\", \"time\": \"Average 2010-2019\", \"calls\": 0.8}, {\"monthday\": \"04/13\", \"time\": \"Average 2010-2019\", \"calls\": 1.3}, {\"monthday\": \"04/14\", \"time\": \"Average 2010-2019\", \"calls\": 1.1}, {\"monthday\": \"04/15\", \"time\": \"Average 2010-2019\", \"calls\": 1.0}, {\"monthday\": \"04/16\", \"time\": \"Average 2010-2019\", \"calls\": 2.5}, {\"monthday\": \"04/17\", \"time\": \"Average 2010-2019\", \"calls\": 1.7}, {\"monthday\": \"04/18\", \"time\": \"Average 2010-2019\", \"calls\": 0.4}, {\"monthday\": \"04/19\", \"time\": \"Average 2010-2019\", \"calls\": 3.9}, {\"monthday\": \"04/20\", \"time\": \"Average 2010-2019\", \"calls\": 2.4}, {\"monthday\": \"04/21\", \"time\": \"Average 2010-2019\", \"calls\": 1.8}, {\"monthday\": \"04/22\", \"time\": \"Average 2010-2019\", \"calls\": 1.9}, {\"monthday\": \"04/23\", \"time\": \"Average 2010-2019\", \"calls\": 1.2}, {\"monthday\": \"04/24\", \"time\": \"Average 2010-2019\", \"calls\": 1.8}, {\"monthday\": \"04/25\", \"time\": \"Average 2010-2019\", \"calls\": 2.0}, {\"monthday\": \"04/26\", \"time\": \"Average 2010-2019\", \"calls\": 1.7}, {\"monthday\": \"04/27\", \"time\": \"Average 2010-2019\", \"calls\": 2.3}, {\"monthday\": \"04/28\", \"time\": \"Average 2010-2019\", \"calls\": 3.1}, {\"monthday\": \"04/29\", \"time\": \"Average 2010-2019\", \"calls\": 2.5}, {\"monthday\": \"04/30\", \"time\": \"Average 2010-2019\", \"calls\": 1.4}, {\"monthday\": \"05/01\", \"time\": \"Average 2010-2019\", \"calls\": 2.4}, {\"monthday\": \"05/02\", \"time\": \"Average 2010-2019\", \"calls\": 1.8}, {\"monthday\": \"05/03\", \"time\": \"Average 2010-2019\", \"calls\": 2.6}, {\"monthday\": \"05/04\", \"time\": \"Average 2010-2019\", \"calls\": 3.6}, {\"monthday\": \"05/05\", \"time\": \"Average 2010-2019\", \"calls\": 5.5}, {\"monthday\": \"05/06\", \"time\": \"Average 2010-2019\", \"calls\": 2.9}, {\"monthday\": \"05/07\", \"time\": \"Average 2010-2019\", \"calls\": 4.7}, {\"monthday\": \"05/08\", \"time\": \"Average 2010-2019\", \"calls\": 3.5}, {\"monthday\": \"05/09\", \"time\": \"Average 2010-2019\", \"calls\": 3.0}, {\"monthday\": \"05/10\", \"time\": \"Average 2010-2019\", \"calls\": 3.0}, {\"monthday\": \"05/11\", \"time\": \"Average 2010-2019\", \"calls\": 2.6}, {\"monthday\": \"05/12\", \"time\": \"Average 2010-2019\", \"calls\": 5.3}, {\"monthday\": \"05/13\", \"time\": \"Average 2010-2019\", \"calls\": 4.2}, {\"monthday\": \"05/14\", \"time\": \"Average 2010-2019\", \"calls\": 4.8}, {\"monthday\": \"05/15\", \"time\": \"Average 2010-2019\", \"calls\": 3.5}, {\"monthday\": \"05/16\", \"time\": \"Average 2010-2019\", \"calls\": 4.2}, {\"monthday\": \"05/17\", \"time\": \"Average 2010-2019\", \"calls\": 4.3}, {\"monthday\": \"05/18\", \"time\": \"Average 2010-2019\", \"calls\": 5.3}, {\"monthday\": \"05/19\", \"time\": \"Average 2010-2019\", \"calls\": 6.0}, {\"monthday\": \"05/20\", \"time\": \"Average 2010-2019\", \"calls\": 8.1}, {\"monthday\": \"05/21\", \"time\": \"Average 2010-2019\", \"calls\": 4.5}, {\"monthday\": \"05/22\", \"time\": \"Average 2010-2019\", \"calls\": 4.2}, {\"monthday\": \"05/23\", \"time\": \"Average 2010-2019\", \"calls\": 5.9}, {\"monthday\": \"05/24\", \"time\": \"Average 2010-2019\", \"calls\": 6.7}, {\"monthday\": \"05/25\", \"time\": \"Average 2010-2019\", \"calls\": 8.2}, {\"monthday\": \"05/26\", \"time\": \"Average 2010-2019\", \"calls\": 11.0}, {\"monthday\": \"05/27\", \"time\": \"Average 2010-2019\", \"calls\": 15.3}, {\"monthday\": \"05/28\", \"time\": \"Average 2010-2019\", \"calls\": 14.0}, {\"monthday\": \"05/29\", \"time\": \"Average 2010-2019\", \"calls\": 12.3}, {\"monthday\": \"05/30\", \"time\": \"Average 2010-2019\", \"calls\": 11.5}, {\"monthday\": \"05/31\", \"time\": \"Average 2010-2019\", \"calls\": 11.0}, {\"monthday\": \"06/01\", \"time\": \"Average 2010-2019\", \"calls\": 13.1}, {\"monthday\": \"06/02\", \"time\": \"Average 2010-2019\", \"calls\": 14.7}, {\"monthday\": \"06/03\", \"time\": \"Average 2010-2019\", \"calls\": 17.4}, {\"monthday\": \"06/04\", \"time\": \"Average 2010-2019\", \"calls\": 15.3}, {\"monthday\": \"06/05\", \"time\": \"Average 2010-2019\", \"calls\": 15.7}, {\"monthday\": \"06/06\", \"time\": \"Average 2010-2019\", \"calls\": 14.6}, {\"monthday\": \"06/07\", \"time\": \"Average 2010-2019\", \"calls\": 17.1}, {\"monthday\": \"06/08\", \"time\": \"Average 2010-2019\", \"calls\": 22.0}, {\"monthday\": \"06/09\", \"time\": \"Average 2010-2019\", \"calls\": 19.5}, {\"monthday\": \"06/10\", \"time\": \"Average 2010-2019\", \"calls\": 21.2}, {\"monthday\": \"06/11\", \"time\": \"Average 2010-2019\", \"calls\": 21.8}, {\"monthday\": \"06/12\", \"time\": \"Average 2010-2019\", \"calls\": 25.8}, {\"monthday\": \"06/13\", \"time\": \"Average 2010-2019\", \"calls\": 22.4}, {\"monthday\": \"06/14\", \"time\": \"Average 2010-2019\", \"calls\": 26.0}, {\"monthday\": \"06/15\", \"time\": \"Average 2010-2019\", \"calls\": 29.3}, {\"monthday\": \"06/16\", \"time\": \"Average 2010-2019\", \"calls\": 36.7}, {\"monthday\": \"06/17\", \"time\": \"Average 2010-2019\", \"calls\": 39.7}, {\"monthday\": \"06/18\", \"time\": \"Average 2010-2019\", \"calls\": 33.6}, {\"monthday\": \"06/19\", \"time\": \"Average 2010-2019\", \"calls\": 35.3}, {\"monthday\": \"01/01\", \"time\": \"ThisYear\", \"calls\": 85.0}, {\"monthday\": \"01/02\", \"time\": \"ThisYear\", \"calls\": 7.0}, {\"monthday\": \"01/03\", \"time\": \"ThisYear\", \"calls\": 9.0}, {\"monthday\": \"01/04\", \"time\": \"ThisYear\", \"calls\": 11.0}, {\"monthday\": \"01/05\", \"time\": \"ThisYear\", \"calls\": 9.0}, {\"monthday\": \"01/06\", \"time\": \"ThisYear\", \"calls\": 4.0}, {\"monthday\": \"01/07\", \"time\": \"ThisYear\", \"calls\": 1.0}, {\"monthday\": \"01/08\", \"time\": \"ThisYear\", \"calls\": 1.0}, {\"monthday\": \"01/09\", \"time\": \"ThisYear\", \"calls\": 2.0}, {\"monthday\": \"01/10\", \"time\": \"ThisYear\", \"calls\": 2.0}, {\"monthday\": \"01/11\", \"time\": \"ThisYear\", \"calls\": 3.0}, {\"monthday\": \"01/12\", \"time\": \"ThisYear\", \"calls\": 4.0}, {\"monthday\": \"01/13\", \"time\": \"ThisYear\", \"calls\": 1.0}, {\"monthday\": \"01/14\", \"time\": \"ThisYear\", \"calls\": 1.0}, {\"monthday\": \"01/15\", \"time\": \"ThisYear\", \"calls\": 1.0}, {\"monthday\": \"01/16\", \"time\": \"ThisYear\", \"calls\": 1.0}, {\"monthday\": \"01/17\", \"time\": \"ThisYear\", \"calls\": 1.0}, {\"monthday\": \"01/18\", \"time\": \"ThisYear\", \"calls\": 1.0}, {\"monthday\": \"01/19\", \"time\": \"ThisYear\", \"calls\": 6.0}, {\"monthday\": \"01/20\", \"time\": \"ThisYear\", \"calls\": 6.0}, {\"monthday\": \"01/21\", \"time\": \"ThisYear\", \"calls\": 2.0}, {\"monthday\": \"01/22\", \"time\": \"ThisYear\", \"calls\": 1.0}, {\"monthday\": \"01/23\", \"time\": \"ThisYear\", \"calls\": 1.0}, {\"monthday\": \"01/24\", \"time\": \"ThisYear\", \"calls\": 3.0}, {\"monthday\": \"01/25\", \"time\": \"ThisYear\", \"calls\": 4.0}, {\"monthday\": \"01/26\", \"time\": \"ThisYear\", \"calls\": 4.0}, {\"monthday\": \"01/27\", \"time\": \"ThisYear\", \"calls\": 4.0}, {\"monthday\": \"01/28\", \"time\": \"ThisYear\", \"calls\": 4.0}, {\"monthday\": \"01/29\", \"time\": \"ThisYear\", \"calls\": 1.0}, {\"monthday\": \"01/30\", \"time\": \"ThisYear\", \"calls\": 1.0}, {\"monthday\": \"01/31\", \"time\": \"ThisYear\", \"calls\": 1.0}, {\"monthday\": \"02/01\", \"time\": \"ThisYear\", \"calls\": 1.0}, {\"monthday\": \"02/02\", \"time\": \"ThisYear\", \"calls\": 6.0}, {\"monthday\": \"02/03\", \"time\": \"ThisYear\", \"calls\": 6.0}, {\"monthday\": \"02/04\", \"time\": \"ThisYear\", \"calls\": 1.0}, {\"monthday\": \"02/05\", \"time\": \"ThisYear\", \"calls\": 1.0}, {\"monthday\": \"02/06\", \"time\": \"ThisYear\", \"calls\": 1.0}, {\"monthday\": \"02/07\", \"time\": \"ThisYear\", \"calls\": 4.0}, {\"monthday\": \"02/08\", \"time\": \"ThisYear\", \"calls\": 2.0}, {\"monthday\": \"02/09\", \"time\": \"ThisYear\", \"calls\": 1.0}, {\"monthday\": \"02/10\", \"time\": \"ThisYear\", \"calls\": 1.0}, {\"monthday\": \"02/11\", \"time\": \"ThisYear\", \"calls\": 1.0}, {\"monthday\": \"02/12\", \"time\": \"ThisYear\", \"calls\": 1.0}, {\"monthday\": \"02/13\", \"time\": \"ThisYear\", \"calls\": 1.0}, {\"monthday\": \"02/14\", \"time\": \"ThisYear\", \"calls\": 2.0}, {\"monthday\": \"02/15\", \"time\": \"ThisYear\", \"calls\": 3.0}, {\"monthday\": \"02/16\", \"time\": \"ThisYear\", \"calls\": 2.0}, {\"monthday\": \"02/17\", \"time\": \"ThisYear\", \"calls\": 2.0}, {\"monthday\": \"02/18\", \"time\": \"ThisYear\", \"calls\": 1.0}, {\"monthday\": \"02/19\", \"time\": \"ThisYear\", \"calls\": 1.0}, {\"monthday\": \"02/20\", \"time\": \"ThisYear\", \"calls\": 1.0}, {\"monthday\": \"02/21\", \"time\": \"ThisYear\", \"calls\": 2.0}, {\"monthday\": \"02/22\", \"time\": \"ThisYear\", \"calls\": 5.0}, {\"monthday\": \"02/23\", \"time\": \"ThisYear\", \"calls\": 3.0}, {\"monthday\": \"02/24\", \"time\": \"ThisYear\", \"calls\": 2.0}, {\"monthday\": \"02/25\", \"time\": \"ThisYear\", \"calls\": 5.0}, {\"monthday\": \"02/26\", \"time\": \"ThisYear\", \"calls\": 1.0}, {\"monthday\": \"02/27\", \"time\": \"ThisYear\", \"calls\": 1.0}, {\"monthday\": \"02/28\", \"time\": \"ThisYear\", \"calls\": 4.0}, {\"monthday\": \"02/29\", \"time\": \"ThisYear\", \"calls\": 1.0}, {\"monthday\": \"03/01\", \"time\": \"ThisYear\", \"calls\": 2.0}, {\"monthday\": \"03/02\", \"time\": \"ThisYear\", \"calls\": 2.0}, {\"monthday\": \"03/03\", \"time\": \"ThisYear\", \"calls\": 2.0}, {\"monthday\": \"03/04\", \"time\": \"ThisYear\", \"calls\": 2.0}, {\"monthday\": \"03/05\", \"time\": \"ThisYear\", \"calls\": 3.0}, {\"monthday\": \"03/06\", \"time\": \"ThisYear\", \"calls\": 3.0}, {\"monthday\": \"03/07\", \"time\": \"ThisYear\", \"calls\": 4.0}, {\"monthday\": \"03/08\", \"time\": \"ThisYear\", \"calls\": 2.0}, {\"monthday\": \"03/09\", \"time\": \"ThisYear\", \"calls\": 1.0}, {\"monthday\": \"03/10\", \"time\": \"ThisYear\", \"calls\": 2.0}, {\"monthday\": \"03/11\", \"time\": \"ThisYear\", \"calls\": 2.0}, {\"monthday\": \"03/12\", \"time\": \"ThisYear\", \"calls\": 2.0}, {\"monthday\": \"03/13\", \"time\": \"ThisYear\", \"calls\": 1.0}, {\"monthday\": \"03/14\", \"time\": \"ThisYear\", \"calls\": 1.0}, {\"monthday\": \"03/15\", \"time\": \"ThisYear\", \"calls\": 2.0}, {\"monthday\": \"03/16\", \"time\": \"ThisYear\", \"calls\": 2.0}, {\"monthday\": \"03/17\", \"time\": \"ThisYear\", \"calls\": 3.0}, {\"monthday\": \"03/18\", \"time\": \"ThisYear\", \"calls\": 3.0}, {\"monthday\": \"03/19\", \"time\": \"ThisYear\", \"calls\": 1.0}, {\"monthday\": \"03/20\", \"time\": \"ThisYear\", \"calls\": 1.0}, {\"monthday\": \"03/21\", \"time\": \"ThisYear\", \"calls\": 1.0}, {\"monthday\": \"03/22\", \"time\": \"ThisYear\", \"calls\": 1.0}, {\"monthday\": \"03/23\", \"time\": \"ThisYear\", \"calls\": 1.0}, {\"monthday\": \"03/24\", \"time\": \"ThisYear\", \"calls\": 1.0}, {\"monthday\": \"03/25\", \"time\": \"ThisYear\", \"calls\": 1.0}, {\"monthday\": \"03/26\", \"time\": \"ThisYear\", \"calls\": 1.0}, {\"monthday\": \"03/27\", \"time\": \"ThisYear\", \"calls\": 2.0}, {\"monthday\": \"03/28\", \"time\": \"ThisYear\", \"calls\": 1.0}, {\"monthday\": \"03/29\", \"time\": \"ThisYear\", \"calls\": 1.0}, {\"monthday\": \"03/30\", \"time\": \"ThisYear\", \"calls\": 1.0}, {\"monthday\": \"03/31\", \"time\": \"ThisYear\", \"calls\": 2.0}, {\"monthday\": \"04/01\", \"time\": \"ThisYear\", \"calls\": 3.0}, {\"monthday\": \"04/02\", \"time\": \"ThisYear\", \"calls\": 3.0}, {\"monthday\": \"04/03\", \"time\": \"ThisYear\", \"calls\": 5.0}, {\"monthday\": \"04/04\", \"time\": \"ThisYear\", \"calls\": 3.0}, {\"monthday\": \"04/05\", \"time\": \"ThisYear\", \"calls\": 3.0}, {\"monthday\": \"04/06\", \"time\": \"ThisYear\", \"calls\": 1.0}, {\"monthday\": \"04/07\", \"time\": \"ThisYear\", \"calls\": 1.0}, {\"monthday\": \"04/08\", \"time\": \"ThisYear\", \"calls\": 2.0}, {\"monthday\": \"04/09\", \"time\": \"ThisYear\", \"calls\": 1.0}, {\"monthday\": \"04/10\", \"time\": \"ThisYear\", \"calls\": 3.0}, {\"monthday\": \"04/11\", \"time\": \"ThisYear\", \"calls\": 6.0}, {\"monthday\": \"04/12\", \"time\": \"ThisYear\", \"calls\": 4.0}, {\"monthday\": \"04/13\", \"time\": \"ThisYear\", \"calls\": 2.0}, {\"monthday\": \"04/14\", \"time\": \"ThisYear\", \"calls\": 1.0}, {\"monthday\": \"04/15\", \"time\": \"ThisYear\", \"calls\": 2.0}, {\"monthday\": \"04/16\", \"time\": \"ThisYear\", \"calls\": 4.0}, {\"monthday\": \"04/17\", \"time\": \"ThisYear\", \"calls\": 2.0}, {\"monthday\": \"04/18\", \"time\": \"ThisYear\", \"calls\": 4.0}, {\"monthday\": \"04/19\", \"time\": \"ThisYear\", \"calls\": 7.0}, {\"monthday\": \"04/20\", \"time\": \"ThisYear\", \"calls\": 3.0}, {\"monthday\": \"04/21\", \"time\": \"ThisYear\", \"calls\": 2.0}, {\"monthday\": \"04/22\", \"time\": \"ThisYear\", \"calls\": 2.0}, {\"monthday\": \"04/23\", \"time\": \"ThisYear\", \"calls\": 3.0}, {\"monthday\": \"04/24\", \"time\": \"ThisYear\", \"calls\": 2.0}, {\"monthday\": \"04/25\", \"time\": \"ThisYear\", \"calls\": 6.0}, {\"monthday\": \"04/26\", \"time\": \"ThisYear\", \"calls\": 6.0}, {\"monthday\": \"04/27\", \"time\": \"ThisYear\", \"calls\": 6.0}, {\"monthday\": \"04/28\", \"time\": \"ThisYear\", \"calls\": 6.0}, {\"monthday\": \"04/29\", \"time\": \"ThisYear\", \"calls\": 2.0}, {\"monthday\": \"04/30\", \"time\": \"ThisYear\", \"calls\": 5.0}, {\"monthday\": \"05/01\", \"time\": \"ThisYear\", \"calls\": 9.0}, {\"monthday\": \"05/02\", \"time\": \"ThisYear\", \"calls\": 8.0}, {\"monthday\": \"05/03\", \"time\": \"ThisYear\", \"calls\": 5.0}, {\"monthday\": \"05/04\", \"time\": \"ThisYear\", \"calls\": 6.0}, {\"monthday\": \"05/05\", \"time\": \"ThisYear\", \"calls\": 10.0}, {\"monthday\": \"05/06\", \"time\": \"ThisYear\", \"calls\": 3.0}, {\"monthday\": \"05/07\", \"time\": \"ThisYear\", \"calls\": 9.0}, {\"monthday\": \"05/08\", \"time\": \"ThisYear\", \"calls\": 7.0}, {\"monthday\": \"05/09\", \"time\": \"ThisYear\", \"calls\": 7.0}, {\"monthday\": \"05/10\", \"time\": \"ThisYear\", \"calls\": 17.0}, {\"monthday\": \"05/11\", \"time\": \"ThisYear\", \"calls\": 7.0}, {\"monthday\": \"05/12\", \"time\": \"ThisYear\", \"calls\": 9.0}, {\"monthday\": \"05/13\", \"time\": \"ThisYear\", \"calls\": 9.0}, {\"monthday\": \"05/14\", \"time\": \"ThisYear\", \"calls\": 6.0}, {\"monthday\": \"05/15\", \"time\": \"ThisYear\", \"calls\": 20.0}, {\"monthday\": \"05/16\", \"time\": \"ThisYear\", \"calls\": 24.0}, {\"monthday\": \"05/17\", \"time\": \"ThisYear\", \"calls\": 36.0}, {\"monthday\": \"05/18\", \"time\": \"ThisYear\", \"calls\": 24.0}, {\"monthday\": \"05/19\", \"time\": \"ThisYear\", \"calls\": 23.0}, {\"monthday\": \"05/20\", \"time\": \"ThisYear\", \"calls\": 28.0}, {\"monthday\": \"05/21\", \"time\": \"ThisYear\", \"calls\": 17.0}, {\"monthday\": \"05/22\", \"time\": \"ThisYear\", \"calls\": 42.0}, {\"monthday\": \"05/23\", \"time\": \"ThisYear\", \"calls\": 48.0}, {\"monthday\": \"05/24\", \"time\": \"ThisYear\", \"calls\": 118.0}, {\"monthday\": \"05/25\", \"time\": \"ThisYear\", \"calls\": 108.0}, {\"monthday\": \"05/26\", \"time\": \"ThisYear\", \"calls\": 58.0}, {\"monthday\": \"05/27\", \"time\": \"ThisYear\", \"calls\": 17.0}, {\"monthday\": \"05/28\", \"time\": \"ThisYear\", \"calls\": 25.0}, {\"monthday\": \"05/29\", \"time\": \"ThisYear\", \"calls\": 3.0}, {\"monthday\": \"05/30\", \"time\": \"ThisYear\", \"calls\": 3.0}, {\"monthday\": \"05/31\", \"time\": \"ThisYear\", \"calls\": 3.0}, {\"monthday\": \"06/01\", \"time\": \"ThisYear\", \"calls\": 3.0}, {\"monthday\": \"06/02\", \"time\": \"ThisYear\", \"calls\": 1.0}, {\"monthday\": \"06/03\", \"time\": \"ThisYear\", \"calls\": 1.0}, {\"monthday\": \"06/04\", \"time\": \"ThisYear\", \"calls\": 2.0}, {\"monthday\": \"06/05\", \"time\": \"ThisYear\", \"calls\": 3.0}, {\"monthday\": \"06/06\", \"time\": \"ThisYear\", \"calls\": 1.0}, {\"monthday\": \"06/07\", \"time\": \"ThisYear\", \"calls\": 3.0}, {\"monthday\": \"06/08\", \"time\": \"ThisYear\", \"calls\": 5.0}, {\"monthday\": \"06/09\", \"time\": \"ThisYear\", \"calls\": 3.0}, {\"monthday\": \"06/10\", \"time\": \"ThisYear\", \"calls\": 61.0}, {\"monthday\": \"06/11\", \"time\": \"ThisYear\", \"calls\": 74.0}, {\"monthday\": \"06/12\", \"time\": \"ThisYear\", \"calls\": 117.0}, {\"monthday\": \"06/13\", \"time\": \"ThisYear\", \"calls\": 188.0}, {\"monthday\": \"06/14\", \"time\": \"ThisYear\", \"calls\": 177.0}, {\"monthday\": \"06/15\", \"time\": \"ThisYear\", \"calls\": 82.0}, {\"monthday\": \"06/16\", \"time\": \"ThisYear\", \"calls\": 72.0}, {\"monthday\": \"06/17\", \"time\": \"ThisYear\", \"calls\": 67.0}, {\"monthday\": \"06/18\", \"time\": \"ThisYear\", \"calls\": 118.0}, {\"monthday\": \"06/19\", \"time\": \"ThisYear\", \"calls\": 160.0}]}}, {\"mode\": \"vega-lite\"});\n",
       "</script>"
      ],
      "text/plain": [
       "alt.Chart(...)"
      ]
     },
     "execution_count": 245,
     "metadata": {},
     "output_type": "execute_result"
    }
   ],
   "source": [
    "chart = alt.Chart((fireworks_melt))\\\n",
    "    .mark_bar(size=4,opacity=0.4)\\\n",
    "    .encode(\n",
    "    x=alt.X('monthday:T', title=' ', axis=alt.Axis(grid=False, tickCount=6, format='%B')),\n",
    "    y=alt.Y('calls:Q', stack=None, title=' ', axis=alt.Axis(gridWidth=.6,\\\n",
    "     gridColor='#dddddd',offset=6,tickSize=0,domainOpacity=0,tickCount=4, format=''),\\\n",
    "           scale=alt.Scale(domain=(0, 200))),\n",
    "    color=alt.Color(\"time:N\", title=' ')\n",
    ").properties(width=630, height=400,\n",
    "     title='Fireworks calls to LAPD: 2010-2019'\n",
    ")\n",
    "\n",
    "(chart).configure_view(strokeOpacity=0).configure_legend(\n",
    "    orient='top',\n",
    "    symbolType='stroke'\n",
    ").configure_legend(symbolType='square', orient='top')"
   ]
  },
  {
   "cell_type": "code",
   "execution_count": 210,
   "metadata": {},
   "outputs": [],
   "source": [
    "fireworks_chart['monthday'] = fireworks_chart['monthday'] + '/2020'"
   ]
  },
  {
   "cell_type": "code",
   "execution_count": 538,
   "metadata": {},
   "outputs": [],
   "source": [
    "fireworks_chart.to_csv('output/fireworks_calls_datawrapper.csv', index=None)"
   ]
  },
  {
   "cell_type": "code",
   "execution_count": 540,
   "metadata": {},
   "outputs": [],
   "source": [
    "this_year['monthday'] = this_year['monthday'] + '/2020'"
   ]
  },
  {
   "cell_type": "code",
   "execution_count": 541,
   "metadata": {},
   "outputs": [],
   "source": [
    "this_year.to_csv('output/all_calls_datawrapper.csv', index=None)"
   ]
  },
  {
   "cell_type": "markdown",
   "metadata": {},
   "source": [
    "---"
   ]
  },
  {
   "cell_type": "markdown",
   "metadata": {},
   "source": [
    "## San Francisco"
   ]
  },
  {
   "cell_type": "code",
   "execution_count": 24,
   "metadata": {},
   "outputs": [],
   "source": [
    "df_sf = pd.read_csv('/Users/mhustiles/data/data/LA/calls/san-francisco/san_francisco.csv', low_memory=False)"
   ]
  },
  {
   "cell_type": "code",
   "execution_count": 25,
   "metadata": {},
   "outputs": [],
   "source": [
    "df_sf['date'] = pd.to_datetime(df_sf['date_time'], format='%Y-%m-%d %H:%M:%S')\n",
    "df_sf['time'] = pd.to_datetime(df_sf['date_time'], format='%Y-%m-%d %H:%M:%S')"
   ]
  },
  {
   "cell_type": "code",
   "execution_count": 26,
   "metadata": {},
   "outputs": [],
   "source": [
    "df_sf['monthday'] = df_sf['date'].dt.strftime('%m/%d')\n",
    "df_sf['year'] = df_sf['date'].dt.strftime('%Y')"
   ]
  },
  {
   "cell_type": "code",
   "execution_count": 27,
   "metadata": {},
   "outputs": [
    {
     "data": {
      "text/html": [
       "<div>\n",
       "<style scoped>\n",
       "    .dataframe tbody tr th:only-of-type {\n",
       "        vertical-align: middle;\n",
       "    }\n",
       "\n",
       "    .dataframe tbody tr th {\n",
       "        vertical-align: top;\n",
       "    }\n",
       "\n",
       "    .dataframe thead th {\n",
       "        text-align: right;\n",
       "    }\n",
       "</style>\n",
       "<table border=\"1\" class=\"dataframe\">\n",
       "  <thead>\n",
       "    <tr style=\"text-align: right;\">\n",
       "      <th></th>\n",
       "      <th>crime_id</th>\n",
       "      <th>original_crime_type_name</th>\n",
       "      <th>report_date</th>\n",
       "      <th>call_date</th>\n",
       "      <th>offense_date</th>\n",
       "      <th>call_time</th>\n",
       "      <th>call_date_time</th>\n",
       "      <th>disposition</th>\n",
       "      <th>address</th>\n",
       "      <th>city</th>\n",
       "      <th>state</th>\n",
       "      <th>agency_id</th>\n",
       "      <th>address_type</th>\n",
       "      <th>common_location</th>\n",
       "      <th>date_time</th>\n",
       "      <th>date</th>\n",
       "      <th>time</th>\n",
       "      <th>monthday</th>\n",
       "      <th>year</th>\n",
       "    </tr>\n",
       "  </thead>\n",
       "  <tbody>\n",
       "    <tr>\n",
       "      <th>0</th>\n",
       "      <td>193043877</td>\n",
       "      <td>Vandalism</td>\n",
       "      <td>10/31/2019</td>\n",
       "      <td>10/31/2019</td>\n",
       "      <td>10/31/2019</td>\n",
       "      <td>20:46</td>\n",
       "      <td>10/31/2019 08:46:00 PM</td>\n",
       "      <td>UTL</td>\n",
       "      <td>300 Block Of Toland St</td>\n",
       "      <td>San Francisco</td>\n",
       "      <td>CA</td>\n",
       "      <td>1</td>\n",
       "      <td>Premise Address</td>\n",
       "      <td>NaN</td>\n",
       "      <td>2019-10-31 08:46:00</td>\n",
       "      <td>2019-10-31 08:46:00</td>\n",
       "      <td>2019-10-31 08:46:00</td>\n",
       "      <td>10/31</td>\n",
       "      <td>2019</td>\n",
       "    </tr>\n",
       "    <tr>\n",
       "      <th>1</th>\n",
       "      <td>190020633</td>\n",
       "      <td>Trespasser</td>\n",
       "      <td>01/02/2019</td>\n",
       "      <td>01/02/2019</td>\n",
       "      <td>01/02/2019</td>\n",
       "      <td>07:58</td>\n",
       "      <td>01/02/2019 07:58:00 AM</td>\n",
       "      <td>GOA</td>\n",
       "      <td>300 Block Of Industrial St</td>\n",
       "      <td>San Francisco</td>\n",
       "      <td>CA</td>\n",
       "      <td>1</td>\n",
       "      <td>Premise Address</td>\n",
       "      <td>NaN</td>\n",
       "      <td>2019-01-02 07:58:00</td>\n",
       "      <td>2019-01-02 07:58:00</td>\n",
       "      <td>2019-01-02 07:58:00</td>\n",
       "      <td>01/02</td>\n",
       "      <td>2019</td>\n",
       "    </tr>\n",
       "    <tr>\n",
       "      <th>2</th>\n",
       "      <td>190214007</td>\n",
       "      <td>Passing Call</td>\n",
       "      <td>01/21/2019</td>\n",
       "      <td>01/21/2019</td>\n",
       "      <td>01/21/2019</td>\n",
       "      <td>23:07</td>\n",
       "      <td>01/21/2019 11:07:00 PM</td>\n",
       "      <td>HAN</td>\n",
       "      <td>Larkin St/golden Gate Av</td>\n",
       "      <td>San Francisco</td>\n",
       "      <td>CA</td>\n",
       "      <td>1</td>\n",
       "      <td>Intersection</td>\n",
       "      <td>NaN</td>\n",
       "      <td>2019-01-21 11:07:00</td>\n",
       "      <td>2019-01-21 11:07:00</td>\n",
       "      <td>2019-01-21 11:07:00</td>\n",
       "      <td>01/21</td>\n",
       "      <td>2019</td>\n",
       "    </tr>\n",
       "    <tr>\n",
       "      <th>3</th>\n",
       "      <td>190271719</td>\n",
       "      <td>22500e</td>\n",
       "      <td>01/27/2019</td>\n",
       "      <td>01/27/2019</td>\n",
       "      <td>01/27/2019</td>\n",
       "      <td>12:48</td>\n",
       "      <td>01/27/2019 12:48:00 PM</td>\n",
       "      <td>GOA</td>\n",
       "      <td>3400 Block Of Divisadero St</td>\n",
       "      <td>San Francisco</td>\n",
       "      <td>CA</td>\n",
       "      <td>1</td>\n",
       "      <td>Premise Address</td>\n",
       "      <td>NaN</td>\n",
       "      <td>2019-01-27 12:48:00</td>\n",
       "      <td>2019-01-27 12:48:00</td>\n",
       "      <td>2019-01-27 12:48:00</td>\n",
       "      <td>01/27</td>\n",
       "      <td>2019</td>\n",
       "    </tr>\n",
       "    <tr>\n",
       "      <th>4</th>\n",
       "      <td>190390109</td>\n",
       "      <td>Hot</td>\n",
       "      <td>02/08/2019</td>\n",
       "      <td>02/08/2019</td>\n",
       "      <td>02/08/2019</td>\n",
       "      <td>00:55</td>\n",
       "      <td>02/08/2019 12:55:00 AM</td>\n",
       "      <td>NOM</td>\n",
       "      <td>700 Block Of Corbett Av</td>\n",
       "      <td>San Francisco</td>\n",
       "      <td>CA</td>\n",
       "      <td>1</td>\n",
       "      <td>Premise Address</td>\n",
       "      <td>NaN</td>\n",
       "      <td>2019-02-08 12:55:00</td>\n",
       "      <td>2019-02-08 12:55:00</td>\n",
       "      <td>2019-02-08 12:55:00</td>\n",
       "      <td>02/08</td>\n",
       "      <td>2019</td>\n",
       "    </tr>\n",
       "  </tbody>\n",
       "</table>\n",
       "</div>"
      ],
      "text/plain": [
       "    crime_id original_crime_type_name report_date   call_date offense_date  \\\n",
       "0  193043877                Vandalism  10/31/2019  10/31/2019   10/31/2019   \n",
       "1  190020633               Trespasser  01/02/2019  01/02/2019   01/02/2019   \n",
       "2  190214007             Passing Call  01/21/2019  01/21/2019   01/21/2019   \n",
       "3  190271719                   22500e  01/27/2019  01/27/2019   01/27/2019   \n",
       "4  190390109                      Hot  02/08/2019  02/08/2019   02/08/2019   \n",
       "\n",
       "  call_time          call_date_time disposition                      address  \\\n",
       "0     20:46  10/31/2019 08:46:00 PM         UTL       300 Block Of Toland St   \n",
       "1     07:58  01/02/2019 07:58:00 AM         GOA   300 Block Of Industrial St   \n",
       "2     23:07  01/21/2019 11:07:00 PM         HAN     Larkin St/golden Gate Av   \n",
       "3     12:48  01/27/2019 12:48:00 PM         GOA  3400 Block Of Divisadero St   \n",
       "4     00:55  02/08/2019 12:55:00 AM         NOM      700 Block Of Corbett Av   \n",
       "\n",
       "            city state  agency_id     address_type common_location  \\\n",
       "0  San Francisco    CA          1  Premise Address             NaN   \n",
       "1  San Francisco    CA          1  Premise Address             NaN   \n",
       "2  San Francisco    CA          1     Intersection             NaN   \n",
       "3  San Francisco    CA          1  Premise Address             NaN   \n",
       "4  San Francisco    CA          1  Premise Address             NaN   \n",
       "\n",
       "             date_time                date                time monthday  year  \n",
       "0  2019-10-31 08:46:00 2019-10-31 08:46:00 2019-10-31 08:46:00    10/31  2019  \n",
       "1  2019-01-02 07:58:00 2019-01-02 07:58:00 2019-01-02 07:58:00    01/02  2019  \n",
       "2  2019-01-21 11:07:00 2019-01-21 11:07:00 2019-01-21 11:07:00    01/21  2019  \n",
       "3  2019-01-27 12:48:00 2019-01-27 12:48:00 2019-01-27 12:48:00    01/27  2019  \n",
       "4  2019-02-08 12:55:00 2019-02-08 12:55:00 2019-02-08 12:55:00    02/08  2019  "
      ]
     },
     "execution_count": 27,
     "metadata": {},
     "output_type": "execute_result"
    }
   ],
   "source": [
    "df_sf.head()"
   ]
  },
  {
   "cell_type": "code",
   "execution_count": 28,
   "metadata": {},
   "outputs": [],
   "source": [
    "this_year_sf = df_sf[df_sf['year'] == '2020'].groupby(['monthday']).agg('size').reset_index(name='calls')"
   ]
  },
  {
   "cell_type": "code",
   "execution_count": 29,
   "metadata": {},
   "outputs": [
    {
     "data": {
      "text/html": [
       "\n",
       "<div id=\"altair-viz-22b68256e0604d7c9bf902df836ccf2c\"></div>\n",
       "<script type=\"text/javascript\">\n",
       "  (function(spec, embedOpt){\n",
       "    const outputDiv = document.getElementById(\"altair-viz-22b68256e0604d7c9bf902df836ccf2c\");\n",
       "    const paths = {\n",
       "      \"vega\": \"https://cdn.jsdelivr.net/npm//vega@5?noext\",\n",
       "      \"vega-lib\": \"https://cdn.jsdelivr.net/npm//vega-lib?noext\",\n",
       "      \"vega-lite\": \"https://cdn.jsdelivr.net/npm//vega-lite@4.0.2?noext\",\n",
       "      \"vega-embed\": \"https://cdn.jsdelivr.net/npm//vega-embed@6?noext\",\n",
       "    };\n",
       "\n",
       "    function loadScript(lib) {\n",
       "      return new Promise(function(resolve, reject) {\n",
       "        var s = document.createElement('script');\n",
       "        s.src = paths[lib];\n",
       "        s.async = true;\n",
       "        s.onload = () => resolve(paths[lib]);\n",
       "        s.onerror = () => reject(`Error loading script: ${paths[lib]}`);\n",
       "        document.getElementsByTagName(\"head\")[0].appendChild(s);\n",
       "      });\n",
       "    }\n",
       "\n",
       "    function showError(err) {\n",
       "      outputDiv.innerHTML = `<div class=\"error\" style=\"color:red;\">${err}</div>`;\n",
       "      throw err;\n",
       "    }\n",
       "\n",
       "    function displayChart(vegaEmbed) {\n",
       "      vegaEmbed(outputDiv, spec, embedOpt)\n",
       "        .catch(err => showError(`Javascript Error: ${err.message}<br>This usually means there's a typo in your chart specification. See the javascript console for the full traceback.`));\n",
       "    }\n",
       "\n",
       "    if(typeof define === \"function\" && define.amd) {\n",
       "      requirejs.config({paths});\n",
       "      require([\"vega-embed\"], displayChart, err => showError(`Error loading script: ${err.message}`));\n",
       "    } else if (typeof vegaEmbed === \"function\") {\n",
       "      displayChart(vegaEmbed);\n",
       "    } else {\n",
       "      loadScript(\"vega\")\n",
       "        .then(() => loadScript(\"vega-lite\"))\n",
       "        .then(() => loadScript(\"vega-embed\"))\n",
       "        .catch(showError)\n",
       "        .then(() => displayChart(vegaEmbed));\n",
       "    }\n",
       "  })({\"config\": {\"view\": {\"width\": 800, \"height\": 450, \"strokeOpacity\": 0}, \"background\": \"#ffffff\", \"title\": {\"anchor\": \"start\", \"font\": \"Benton Gothic Bold, sans\", \"fontColor\": \"#000000\", \"fontSize\": 22, \"fontWeight\": \"normal\"}, \"arc\": {\"fill\": \"#82c6df\"}, \"area\": {\"fill\": \"#82c6df\"}, \"line\": {\"stroke\": \"#82c6df\", \"strokeWidth\": 3}, \"path\": {\"stroke\": \"#82c6df\"}, \"rect\": {\"fill\": \"#82c6df\"}, \"shape\": {\"stroke\": \"#82c6df\"}, \"bar\": {\"fill\": \"#82c6df\"}, \"point\": {\"stroke\": \"#82c6df\"}, \"symbol\": {\"fill\": \"#82c6df\", \"size\": 30}, \"axis\": {\"titleFont\": \"Benton Gothic Bold, sans\", \"titleFontSize\": 13, \"titleFontWeight\": \"normal\", \"labelFont\": \"Benton Gothic, sans\", \"labelFontSize\": 11.5, \"labelFontWeight\": \"normal\"}, \"axisX\": {\"labelAngle\": 0, \"labelPadding\": 4, \"tickSize\": 3}, \"axisY\": {\"labelBaseline\": \"middle\", \"maxExtent\": 45, \"minExtent\": 45, \"tickSize\": 2, \"titleAlign\": \"left\", \"titleAngle\": 0, \"titleX\": -45, \"titleY\": -11}, \"legend\": {\"titleFont\": \"Benton Gothic Bold, sans\", \"titleFontSize\": 13, \"titleFontWeight\": \"normal\", \"symbolType\": \"square\", \"labelFont\": \"Benton Gothic, sans\", \"labelFontSize\": 11.5}, \"range\": {\"category\": [\"#3580b1\", \"#ec8431\", \"#ab7fb4\", \"#c89d29\", \"#adc839\", \"#829eb1\"], \"diverging\": [\"#e68a4f\", \"#f4bb6a\", \"#f9e39c\", \"#dadfe2\", \"#a6b7c6\", \"#849eae\"], \"heatmap\": [\"#fbf2c7\", \"#f9e39c\", \"#f8d36e\", \"#f4bb6a\", \"#e68a4f\", \"#d15a40\", \"#ab4232\"], \"ordinal\": [\"#fbf2c7\", \"#f9e39c\", \"#f8d36e\", \"#f4bb6a\", \"#e68a4f\", \"#d15a40\", \"#ab4232\"], \"ramp\": [\"#fbf2c7\", \"#f9e39c\", \"#f8d36e\", \"#f4bb6a\", \"#e68a4f\", \"#d15a40\", \"#ab4232\"]}}, \"data\": {\"name\": \"data-e48fe1648d8b3231b271f17f9e8f2baf\"}, \"mark\": {\"type\": \"bar\", \"opacity\": 1, \"size\": 2}, \"encoding\": {\"x\": {\"type\": \"temporal\", \"axis\": {\"format\": \"%B\", \"grid\": false, \"tickCount\": 6}, \"field\": \"monthday\", \"title\": \" \"}, \"y\": {\"type\": \"quantitative\", \"axis\": {\"domainOpacity\": 0, \"format\": \"\", \"gridColor\": \"#dddddd\", \"gridWidth\": 0.6, \"offset\": 6, \"tickCount\": 4, \"tickSize\": 0}, \"field\": \"calls\", \"scale\": {\"domain\": [0, 2500]}, \"stack\": null, \"title\": \" \"}}, \"height\": 400, \"title\": \"All service calls to San Francisco Police: 2020\", \"width\": 630, \"$schema\": \"https://vega.github.io/schema/vega-lite/v4.0.2.json\", \"datasets\": {\"data-e48fe1648d8b3231b271f17f9e8f2baf\": [{\"monthday\": \"01/01\", \"calls\": 2343}, {\"monthday\": \"01/02\", \"calls\": 2156}, {\"monthday\": \"01/03\", \"calls\": 2242}, {\"monthday\": \"01/04\", \"calls\": 2124}, {\"monthday\": \"01/05\", \"calls\": 1895}, {\"monthday\": \"01/06\", \"calls\": 2267}, {\"monthday\": \"01/07\", \"calls\": 2231}, {\"monthday\": \"01/08\", \"calls\": 2296}, {\"monthday\": \"01/09\", \"calls\": 2248}, {\"monthday\": \"01/10\", \"calls\": 2200}, {\"monthday\": \"01/11\", \"calls\": 1880}, {\"monthday\": \"01/12\", \"calls\": 2089}, {\"monthday\": \"01/13\", \"calls\": 2220}, {\"monthday\": \"01/14\", \"calls\": 2341}, {\"monthday\": \"01/15\", \"calls\": 2313}, {\"monthday\": \"01/16\", \"calls\": 2011}, {\"monthday\": \"01/17\", \"calls\": 2060}, {\"monthday\": \"01/18\", \"calls\": 1891}, {\"monthday\": \"01/19\", \"calls\": 2052}, {\"monthday\": \"01/20\", \"calls\": 2160}, {\"monthday\": \"01/21\", \"calls\": 2160}, {\"monthday\": \"01/22\", \"calls\": 2320}, {\"monthday\": \"01/23\", \"calls\": 2112}, {\"monthday\": \"01/24\", \"calls\": 2134}, {\"monthday\": \"01/25\", \"calls\": 2017}, {\"monthday\": \"01/26\", \"calls\": 1963}, {\"monthday\": \"01/27\", \"calls\": 1991}, {\"monthday\": \"01/28\", \"calls\": 2089}, {\"monthday\": \"01/29\", \"calls\": 2361}, {\"monthday\": \"01/30\", \"calls\": 2266}, {\"monthday\": \"01/31\", \"calls\": 2212}, {\"monthday\": \"02/01\", \"calls\": 2117}, {\"monthday\": \"02/02\", \"calls\": 1922}, {\"monthday\": \"02/03\", \"calls\": 1966}, {\"monthday\": \"02/04\", \"calls\": 2069}, {\"monthday\": \"02/05\", \"calls\": 2344}, {\"monthday\": \"02/06\", \"calls\": 2383}, {\"monthday\": \"02/07\", \"calls\": 2216}, {\"monthday\": \"02/08\", \"calls\": 2233}, {\"monthday\": \"02/09\", \"calls\": 2017}, {\"monthday\": \"02/10\", \"calls\": 2194}, {\"monthday\": \"02/11\", \"calls\": 2311}, {\"monthday\": \"02/12\", \"calls\": 2234}, {\"monthday\": \"02/13\", \"calls\": 2316}, {\"monthday\": \"02/14\", \"calls\": 2113}, {\"monthday\": \"02/15\", \"calls\": 1988}, {\"monthday\": \"02/16\", \"calls\": 1885}, {\"monthday\": \"02/17\", \"calls\": 2200}, {\"monthday\": \"02/18\", \"calls\": 2175}, {\"monthday\": \"02/19\", \"calls\": 2258}, {\"monthday\": \"02/20\", \"calls\": 2337}, {\"monthday\": \"02/21\", \"calls\": 2352}, {\"monthday\": \"02/22\", \"calls\": 2179}, {\"monthday\": \"02/23\", \"calls\": 2182}, {\"monthday\": \"02/24\", \"calls\": 2249}, {\"monthday\": \"02/25\", \"calls\": 2203}, {\"monthday\": \"02/26\", \"calls\": 2304}, {\"monthday\": \"02/27\", \"calls\": 2283}, {\"monthday\": \"02/28\", \"calls\": 2167}, {\"monthday\": \"02/29\", \"calls\": 2119}, {\"monthday\": \"03/01\", \"calls\": 2097}, {\"monthday\": \"03/02\", \"calls\": 2262}, {\"monthday\": \"03/03\", \"calls\": 2160}, {\"monthday\": \"03/04\", \"calls\": 2392}, {\"monthday\": \"03/05\", \"calls\": 2220}, {\"monthday\": \"03/06\", \"calls\": 2100}, {\"monthday\": \"03/07\", \"calls\": 1916}, {\"monthday\": \"03/08\", \"calls\": 1862}, {\"monthday\": \"03/09\", \"calls\": 2278}, {\"monthday\": \"03/10\", \"calls\": 2511}, {\"monthday\": \"03/11\", \"calls\": 2689}, {\"monthday\": \"03/12\", \"calls\": 2347}, {\"monthday\": \"03/13\", \"calls\": 2203}, {\"monthday\": \"03/14\", \"calls\": 1859}, {\"monthday\": \"03/15\", \"calls\": 1648}, {\"monthday\": \"03/16\", \"calls\": 1819}, {\"monthday\": \"03/17\", \"calls\": 1979}, {\"monthday\": \"03/18\", \"calls\": 2181}, {\"monthday\": \"03/19\", \"calls\": 2126}, {\"monthday\": \"03/20\", \"calls\": 1952}, {\"monthday\": \"03/21\", \"calls\": 1889}, {\"monthday\": \"03/22\", \"calls\": 1670}, {\"monthday\": \"03/23\", \"calls\": 1894}, {\"monthday\": \"03/24\", \"calls\": 1805}, {\"monthday\": \"03/25\", \"calls\": 2102}, {\"monthday\": \"03/26\", \"calls\": 1790}, {\"monthday\": \"03/27\", \"calls\": 1844}, {\"monthday\": \"03/28\", \"calls\": 1786}, {\"monthday\": \"03/29\", \"calls\": 1674}, {\"monthday\": \"03/30\", \"calls\": 1852}, {\"monthday\": \"03/31\", \"calls\": 1767}, {\"monthday\": \"04/01\", \"calls\": 1911}, {\"monthday\": \"04/02\", \"calls\": 1971}, {\"monthday\": \"04/03\", \"calls\": 1925}, {\"monthday\": \"04/04\", \"calls\": 1771}, {\"monthday\": \"04/05\", \"calls\": 1717}, {\"monthday\": \"04/06\", \"calls\": 1670}, {\"monthday\": \"04/07\", \"calls\": 1906}, {\"monthday\": \"04/08\", \"calls\": 1595}, {\"monthday\": \"04/09\", \"calls\": 1859}, {\"monthday\": \"04/10\", \"calls\": 2078}, {\"monthday\": \"04/11\", \"calls\": 1905}, {\"monthday\": \"04/12\", \"calls\": 1756}, {\"monthday\": \"04/13\", \"calls\": 1869}, {\"monthday\": \"04/14\", \"calls\": 1955}, {\"monthday\": \"04/15\", \"calls\": 1920}, {\"monthday\": \"04/16\", \"calls\": 1796}, {\"monthday\": \"04/17\", \"calls\": 1913}, {\"monthday\": \"04/18\", \"calls\": 1893}, {\"monthday\": \"04/19\", \"calls\": 1998}, {\"monthday\": \"04/20\", \"calls\": 1966}, {\"monthday\": \"04/21\", \"calls\": 1877}, {\"monthday\": \"04/22\", \"calls\": 1913}, {\"monthday\": \"04/23\", \"calls\": 2113}, {\"monthday\": \"04/24\", \"calls\": 1880}, {\"monthday\": \"04/25\", \"calls\": 1823}, {\"monthday\": \"04/26\", \"calls\": 1928}, {\"monthday\": \"04/27\", \"calls\": 2073}, {\"monthday\": \"04/28\", \"calls\": 1964}, {\"monthday\": \"04/29\", \"calls\": 2177}, {\"monthday\": \"04/30\", \"calls\": 1873}, {\"monthday\": \"05/01\", \"calls\": 1835}, {\"monthday\": \"05/02\", \"calls\": 1930}, {\"monthday\": \"05/03\", \"calls\": 1899}, {\"monthday\": \"05/04\", \"calls\": 2037}, {\"monthday\": \"05/05\", \"calls\": 2033}, {\"monthday\": \"05/06\", \"calls\": 2103}, {\"monthday\": \"05/07\", \"calls\": 2009}, {\"monthday\": \"05/08\", \"calls\": 2073}, {\"monthday\": \"05/09\", \"calls\": 1814}, {\"monthday\": \"05/10\", \"calls\": 1657}, {\"monthday\": \"05/11\", \"calls\": 1869}, {\"monthday\": \"05/12\", \"calls\": 2079}, {\"monthday\": \"05/13\", \"calls\": 2066}, {\"monthday\": \"05/14\", \"calls\": 1994}, {\"monthday\": \"05/15\", \"calls\": 2192}, {\"monthday\": \"05/16\", \"calls\": 2053}, {\"monthday\": \"05/17\", \"calls\": 2058}, {\"monthday\": \"05/18\", \"calls\": 2158}, {\"monthday\": \"05/19\", \"calls\": 1995}, {\"monthday\": \"05/20\", \"calls\": 1907}, {\"monthday\": \"05/21\", \"calls\": 2039}, {\"monthday\": \"05/22\", \"calls\": 1998}, {\"monthday\": \"05/23\", \"calls\": 1912}, {\"monthday\": \"05/24\", \"calls\": 2013}, {\"monthday\": \"05/25\", \"calls\": 2293}, {\"monthday\": \"05/26\", \"calls\": 2132}, {\"monthday\": \"05/27\", \"calls\": 2039}, {\"monthday\": \"05/28\", \"calls\": 1939}, {\"monthday\": \"05/29\", \"calls\": 2057}, {\"monthday\": \"05/30\", \"calls\": 2122}, {\"monthday\": \"05/31\", \"calls\": 2254}, {\"monthday\": \"06/01\", \"calls\": 2203}, {\"monthday\": \"06/02\", \"calls\": 2092}, {\"monthday\": \"06/03\", \"calls\": 1905}, {\"monthday\": \"06/04\", \"calls\": 1875}, {\"monthday\": \"06/05\", \"calls\": 1736}, {\"monthday\": \"06/06\", \"calls\": 1550}, {\"monthday\": \"06/07\", \"calls\": 1535}, {\"monthday\": \"06/08\", \"calls\": 1737}, {\"monthday\": \"06/09\", \"calls\": 1872}, {\"monthday\": \"06/10\", \"calls\": 1759}, {\"monthday\": \"06/11\", \"calls\": 1730}, {\"monthday\": \"06/12\", \"calls\": 1531}]}}, {\"mode\": \"vega-lite\"});\n",
       "</script>"
      ],
      "text/plain": [
       "alt.Chart(...)"
      ]
     },
     "execution_count": 29,
     "metadata": {},
     "output_type": "execute_result"
    }
   ],
   "source": [
    "chart = alt.Chart((this_year_sf))\\\n",
    "    .mark_bar(size=2,opacity=1)\\\n",
    "    .encode(\n",
    "    x=alt.X('monthday:T', title=' ', axis=alt.Axis(grid=False, tickCount=6, format='%B')),\n",
    "    y=alt.Y('calls:Q', stack=None, title=' ', axis=alt.Axis(gridWidth=.6,\\\n",
    "     gridColor='#dddddd',offset=6,tickSize=0,domainOpacity=0,tickCount=4, format=''),\\\n",
    "           scale=alt.Scale(domain=(0, 2500)))\n",
    ").properties(width=630, height=400,\n",
    "     title='All service calls to San Francisco Police: 2020'\n",
    ")\n",
    "\n",
    "chart.configure_view(strokeOpacity=0).configure_legend(\n",
    "    orient='top',\n",
    "    symbolType='stroke'\n",
    ").configure_legend(symbolType='square')"
   ]
  },
  {
   "cell_type": "code",
   "execution_count": 60,
   "metadata": {},
   "outputs": [],
   "source": [
    "fireworks_melt.to_csv('output/fireworks_melt.csv')"
   ]
  },
  {
   "cell_type": "code",
   "execution_count": 31,
   "metadata": {},
   "outputs": [
    {
     "data": {
      "text/html": [
       "<div>\n",
       "<style scoped>\n",
       "    .dataframe tbody tr th:only-of-type {\n",
       "        vertical-align: middle;\n",
       "    }\n",
       "\n",
       "    .dataframe tbody tr th {\n",
       "        vertical-align: top;\n",
       "    }\n",
       "\n",
       "    .dataframe thead th {\n",
       "        text-align: right;\n",
       "    }\n",
       "</style>\n",
       "<table border=\"1\" class=\"dataframe\">\n",
       "  <thead>\n",
       "    <tr style=\"text-align: right;\">\n",
       "      <th></th>\n",
       "      <th>monthday</th>\n",
       "      <th>calls</th>\n",
       "    </tr>\n",
       "  </thead>\n",
       "  <tbody>\n",
       "    <tr>\n",
       "      <th>163</th>\n",
       "      <td>06/12</td>\n",
       "      <td>1531</td>\n",
       "    </tr>\n",
       "    <tr>\n",
       "      <th>162</th>\n",
       "      <td>06/11</td>\n",
       "      <td>1730</td>\n",
       "    </tr>\n",
       "    <tr>\n",
       "      <th>161</th>\n",
       "      <td>06/10</td>\n",
       "      <td>1759</td>\n",
       "    </tr>\n",
       "    <tr>\n",
       "      <th>160</th>\n",
       "      <td>06/09</td>\n",
       "      <td>1872</td>\n",
       "    </tr>\n",
       "    <tr>\n",
       "      <th>159</th>\n",
       "      <td>06/08</td>\n",
       "      <td>1737</td>\n",
       "    </tr>\n",
       "  </tbody>\n",
       "</table>\n",
       "</div>"
      ],
      "text/plain": [
       "    monthday  calls\n",
       "163    06/12   1531\n",
       "162    06/11   1730\n",
       "161    06/10   1759\n",
       "160    06/09   1872\n",
       "159    06/08   1737"
      ]
     },
     "execution_count": 31,
     "metadata": {},
     "output_type": "execute_result"
    }
   ],
   "source": [
    "this_year_sf.sort_values(by='monthday', ascending=False).head()"
   ]
  },
  {
   "cell_type": "markdown",
   "metadata": {},
   "source": [
    "---"
   ]
  },
  {
   "cell_type": "markdown",
   "metadata": {},
   "source": [
    "## Sacramento"
   ]
  },
  {
   "cell_type": "code",
   "execution_count": 32,
   "metadata": {},
   "outputs": [],
   "source": [
    "df_sac = pd.read_csv('/Users/mhustiles/data/data/LA/calls/sacramento/sacramento.csv', low_memory=False)"
   ]
  },
  {
   "cell_type": "code",
   "execution_count": 33,
   "metadata": {},
   "outputs": [],
   "source": [
    "df_sac['date'] = pd.to_datetime(df_sac['date'], format='%Y-%m-%d')\n",
    "df_sac['time'] = pd.to_datetime(df_sac['time'], format='%H:%M:%S')"
   ]
  },
  {
   "cell_type": "code",
   "execution_count": 34,
   "metadata": {},
   "outputs": [],
   "source": [
    "df_sac['monthday'] = df_sac['date'].dt.strftime('%m/%d')\n",
    "df_sac['year'] = df_sac['date'].dt.strftime('%Y')"
   ]
  },
  {
   "cell_type": "code",
   "execution_count": 35,
   "metadata": {},
   "outputs": [],
   "source": [
    "this_year_sac = df_sac[df_sac['year'] == '2020'].groupby(['monthday']).agg('size').reset_index(name='calls')"
   ]
  },
  {
   "cell_type": "code",
   "execution_count": 58,
   "metadata": {},
   "outputs": [
    {
     "data": {
      "text/html": [
       "\n",
       "<div id=\"altair-viz-73eda1aff110412d98be4261491f9eed\"></div>\n",
       "<script type=\"text/javascript\">\n",
       "  (function(spec, embedOpt){\n",
       "    const outputDiv = document.getElementById(\"altair-viz-73eda1aff110412d98be4261491f9eed\");\n",
       "    const paths = {\n",
       "      \"vega\": \"https://cdn.jsdelivr.net/npm//vega@5?noext\",\n",
       "      \"vega-lib\": \"https://cdn.jsdelivr.net/npm//vega-lib?noext\",\n",
       "      \"vega-lite\": \"https://cdn.jsdelivr.net/npm//vega-lite@4.0.2?noext\",\n",
       "      \"vega-embed\": \"https://cdn.jsdelivr.net/npm//vega-embed@6?noext\",\n",
       "    };\n",
       "\n",
       "    function loadScript(lib) {\n",
       "      return new Promise(function(resolve, reject) {\n",
       "        var s = document.createElement('script');\n",
       "        s.src = paths[lib];\n",
       "        s.async = true;\n",
       "        s.onload = () => resolve(paths[lib]);\n",
       "        s.onerror = () => reject(`Error loading script: ${paths[lib]}`);\n",
       "        document.getElementsByTagName(\"head\")[0].appendChild(s);\n",
       "      });\n",
       "    }\n",
       "\n",
       "    function showError(err) {\n",
       "      outputDiv.innerHTML = `<div class=\"error\" style=\"color:red;\">${err}</div>`;\n",
       "      throw err;\n",
       "    }\n",
       "\n",
       "    function displayChart(vegaEmbed) {\n",
       "      vegaEmbed(outputDiv, spec, embedOpt)\n",
       "        .catch(err => showError(`Javascript Error: ${err.message}<br>This usually means there's a typo in your chart specification. See the javascript console for the full traceback.`));\n",
       "    }\n",
       "\n",
       "    if(typeof define === \"function\" && define.amd) {\n",
       "      requirejs.config({paths});\n",
       "      require([\"vega-embed\"], displayChart, err => showError(`Error loading script: ${err.message}`));\n",
       "    } else if (typeof vegaEmbed === \"function\") {\n",
       "      displayChart(vegaEmbed);\n",
       "    } else {\n",
       "      loadScript(\"vega\")\n",
       "        .then(() => loadScript(\"vega-lite\"))\n",
       "        .then(() => loadScript(\"vega-embed\"))\n",
       "        .catch(showError)\n",
       "        .then(() => displayChart(vegaEmbed));\n",
       "    }\n",
       "  })({\"config\": {\"view\": {\"width\": 800, \"height\": 450, \"strokeOpacity\": 0}, \"background\": \"#ffffff\", \"title\": {\"anchor\": \"start\", \"font\": \"Benton Gothic Bold, sans\", \"fontColor\": \"#000000\", \"fontSize\": 22, \"fontWeight\": \"normal\"}, \"arc\": {\"fill\": \"#82c6df\"}, \"area\": {\"fill\": \"#82c6df\"}, \"line\": {\"stroke\": \"#82c6df\", \"strokeWidth\": 3}, \"path\": {\"stroke\": \"#82c6df\"}, \"rect\": {\"fill\": \"#82c6df\"}, \"shape\": {\"stroke\": \"#82c6df\"}, \"bar\": {\"fill\": \"#82c6df\"}, \"point\": {\"stroke\": \"#82c6df\"}, \"symbol\": {\"fill\": \"#82c6df\", \"size\": 30}, \"axis\": {\"titleFont\": \"Benton Gothic Bold, sans\", \"titleFontSize\": 13, \"titleFontWeight\": \"normal\", \"labelFont\": \"Benton Gothic, sans\", \"labelFontSize\": 11.5, \"labelFontWeight\": \"normal\"}, \"axisX\": {\"labelAngle\": 0, \"labelPadding\": 4, \"tickSize\": 3}, \"axisY\": {\"labelBaseline\": \"middle\", \"maxExtent\": 45, \"minExtent\": 45, \"tickSize\": 2, \"titleAlign\": \"left\", \"titleAngle\": 0, \"titleX\": -45, \"titleY\": -11}, \"legend\": {\"titleFont\": \"Benton Gothic Bold, sans\", \"titleFontSize\": 13, \"titleFontWeight\": \"normal\", \"symbolType\": \"square\", \"labelFont\": \"Benton Gothic, sans\", \"labelFontSize\": 11.5}, \"range\": {\"category\": [\"#3580b1\", \"#ec8431\", \"#ab7fb4\", \"#c89d29\", \"#adc839\", \"#829eb1\"], \"diverging\": [\"#e68a4f\", \"#f4bb6a\", \"#f9e39c\", \"#dadfe2\", \"#a6b7c6\", \"#849eae\"], \"heatmap\": [\"#fbf2c7\", \"#f9e39c\", \"#f8d36e\", \"#f4bb6a\", \"#e68a4f\", \"#d15a40\", \"#ab4232\"], \"ordinal\": [\"#fbf2c7\", \"#f9e39c\", \"#f8d36e\", \"#f4bb6a\", \"#e68a4f\", \"#d15a40\", \"#ab4232\"], \"ramp\": [\"#fbf2c7\", \"#f9e39c\", \"#f8d36e\", \"#f4bb6a\", \"#e68a4f\", \"#d15a40\", \"#ab4232\"]}}, \"data\": {\"name\": \"data-12757eff101c58154fc869148d0bc726\"}, \"mark\": {\"type\": \"bar\", \"opacity\": 1, \"size\": 2}, \"encoding\": {\"x\": {\"type\": \"temporal\", \"axis\": {\"format\": \"%B\", \"grid\": false, \"tickCount\": 6}, \"field\": \"monthday\", \"title\": \" \"}, \"y\": {\"type\": \"quantitative\", \"axis\": {\"domainOpacity\": 0, \"format\": \"\", \"gridColor\": \"#dddddd\", \"gridWidth\": 0.6, \"offset\": 6, \"tickCount\": 4, \"tickSize\": 0}, \"field\": \"calls\", \"scale\": {\"domain\": [0, 1500]}, \"stack\": null, \"title\": \" \"}}, \"height\": 400, \"title\": \"All service calls to Sacramento Police: 2020\", \"width\": 630, \"$schema\": \"https://vega.github.io/schema/vega-lite/v4.0.2.json\", \"datasets\": {\"data-12757eff101c58154fc869148d0bc726\": [{\"monthday\": \"01/01\", \"calls\": 972}, {\"monthday\": \"01/02\", \"calls\": 874}, {\"monthday\": \"01/03\", \"calls\": 1068}, {\"monthday\": \"01/04\", \"calls\": 939}, {\"monthday\": \"01/05\", \"calls\": 945}, {\"monthday\": \"01/06\", \"calls\": 871}, {\"monthday\": \"01/07\", \"calls\": 860}, {\"monthday\": \"01/08\", \"calls\": 984}, {\"monthday\": \"01/09\", \"calls\": 1010}, {\"monthday\": \"01/10\", \"calls\": 996}, {\"monthday\": \"01/11\", \"calls\": 899}, {\"monthday\": \"01/12\", \"calls\": 888}, {\"monthday\": \"01/13\", \"calls\": 921}, {\"monthday\": \"01/14\", \"calls\": 968}, {\"monthday\": \"01/15\", \"calls\": 930}, {\"monthday\": \"01/16\", \"calls\": 892}, {\"monthday\": \"01/17\", \"calls\": 963}, {\"monthday\": \"01/18\", \"calls\": 885}, {\"monthday\": \"01/19\", \"calls\": 822}, {\"monthday\": \"01/20\", \"calls\": 828}, {\"monthday\": \"01/21\", \"calls\": 986}, {\"monthday\": \"01/22\", \"calls\": 943}, {\"monthday\": \"01/23\", \"calls\": 996}, {\"monthday\": \"01/24\", \"calls\": 977}, {\"monthday\": \"01/25\", \"calls\": 1015}, {\"monthday\": \"01/26\", \"calls\": 883}, {\"monthday\": \"01/27\", \"calls\": 1026}, {\"monthday\": \"01/28\", \"calls\": 952}, {\"monthday\": \"01/29\", \"calls\": 982}, {\"monthday\": \"01/30\", \"calls\": 1041}, {\"monthday\": \"01/31\", \"calls\": 1100}, {\"monthday\": \"02/01\", \"calls\": 1015}, {\"monthday\": \"02/02\", \"calls\": 941}, {\"monthday\": \"02/03\", \"calls\": 880}, {\"monthday\": \"02/04\", \"calls\": 921}, {\"monthday\": \"02/05\", \"calls\": 957}, {\"monthday\": \"02/06\", \"calls\": 1044}, {\"monthday\": \"02/07\", \"calls\": 1029}, {\"monthday\": \"02/08\", \"calls\": 1034}, {\"monthday\": \"02/09\", \"calls\": 981}, {\"monthday\": \"02/10\", \"calls\": 839}, {\"monthday\": \"02/11\", \"calls\": 895}, {\"monthday\": \"02/12\", \"calls\": 1012}, {\"monthday\": \"02/13\", \"calls\": 1037}, {\"monthday\": \"02/14\", \"calls\": 1007}, {\"monthday\": \"02/15\", \"calls\": 939}, {\"monthday\": \"02/16\", \"calls\": 878}, {\"monthday\": \"02/17\", \"calls\": 880}, {\"monthday\": \"02/18\", \"calls\": 854}, {\"monthday\": \"02/19\", \"calls\": 1036}, {\"monthday\": \"02/20\", \"calls\": 977}, {\"monthday\": \"02/21\", \"calls\": 971}, {\"monthday\": \"02/22\", \"calls\": 959}, {\"monthday\": \"02/23\", \"calls\": 939}, {\"monthday\": \"02/24\", \"calls\": 1006}, {\"monthday\": \"02/25\", \"calls\": 921}, {\"monthday\": \"02/26\", \"calls\": 1009}, {\"monthday\": \"02/27\", \"calls\": 983}, {\"monthday\": \"02/28\", \"calls\": 982}, {\"monthday\": \"02/29\", \"calls\": 1002}, {\"monthday\": \"03/01\", \"calls\": 933}, {\"monthday\": \"03/02\", \"calls\": 905}, {\"monthday\": \"03/03\", \"calls\": 993}, {\"monthday\": \"03/04\", \"calls\": 992}, {\"monthday\": \"03/05\", \"calls\": 969}, {\"monthday\": \"03/06\", \"calls\": 1040}, {\"monthday\": \"03/07\", \"calls\": 975}, {\"monthday\": \"03/08\", \"calls\": 886}, {\"monthday\": \"03/09\", \"calls\": 952}, {\"monthday\": \"03/10\", \"calls\": 1046}, {\"monthday\": \"03/11\", \"calls\": 961}, {\"monthday\": \"03/12\", \"calls\": 1058}, {\"monthday\": \"03/13\", \"calls\": 1018}, {\"monthday\": \"03/14\", \"calls\": 889}, {\"monthday\": \"03/15\", \"calls\": 722}, {\"monthday\": \"03/16\", \"calls\": 771}, {\"monthday\": \"03/17\", \"calls\": 769}, {\"monthday\": \"03/18\", \"calls\": 825}, {\"monthday\": \"03/19\", \"calls\": 868}, {\"monthday\": \"03/20\", \"calls\": 782}, {\"monthday\": \"03/21\", \"calls\": 760}, {\"monthday\": \"03/22\", \"calls\": 787}, {\"monthday\": \"03/23\", \"calls\": 794}, {\"monthday\": \"03/24\", \"calls\": 711}, {\"monthday\": \"03/25\", \"calls\": 830}, {\"monthday\": \"03/26\", \"calls\": 908}, {\"monthday\": \"03/27\", \"calls\": 776}, {\"monthday\": \"03/28\", \"calls\": 727}, {\"monthday\": \"03/29\", \"calls\": 707}, {\"monthday\": \"03/30\", \"calls\": 808}, {\"monthday\": \"03/31\", \"calls\": 821}, {\"monthday\": \"04/01\", \"calls\": 847}, {\"monthday\": \"04/02\", \"calls\": 854}, {\"monthday\": \"04/03\", \"calls\": 842}, {\"monthday\": \"04/04\", \"calls\": 804}, {\"monthday\": \"04/05\", \"calls\": 658}, {\"monthday\": \"04/06\", \"calls\": 721}, {\"monthday\": \"04/07\", \"calls\": 821}, {\"monthday\": \"04/08\", \"calls\": 864}, {\"monthday\": \"04/09\", \"calls\": 817}, {\"monthday\": \"04/10\", \"calls\": 872}, {\"monthday\": \"04/11\", \"calls\": 876}, {\"monthday\": \"04/12\", \"calls\": 707}, {\"monthday\": \"04/13\", \"calls\": 947}, {\"monthday\": \"04/14\", \"calls\": 864}, {\"monthday\": \"04/15\", \"calls\": 937}, {\"monthday\": \"04/16\", \"calls\": 916}, {\"monthday\": \"04/17\", \"calls\": 901}, {\"monthday\": \"04/18\", \"calls\": 891}, {\"monthday\": \"04/19\", \"calls\": 882}, {\"monthday\": \"04/20\", \"calls\": 908}, {\"monthday\": \"04/21\", \"calls\": 888}, {\"monthday\": \"04/22\", \"calls\": 913}, {\"monthday\": \"04/23\", \"calls\": 903}, {\"monthday\": \"04/24\", \"calls\": 950}, {\"monthday\": \"04/25\", \"calls\": 953}, {\"monthday\": \"04/26\", \"calls\": 877}, {\"monthday\": \"04/27\", \"calls\": 965}, {\"monthday\": \"04/28\", \"calls\": 902}, {\"monthday\": \"04/29\", \"calls\": 986}, {\"monthday\": \"04/30\", \"calls\": 944}, {\"monthday\": \"05/01\", \"calls\": 883}, {\"monthday\": \"05/02\", \"calls\": 918}, {\"monthday\": \"05/03\", \"calls\": 865}, {\"monthday\": \"05/04\", \"calls\": 925}, {\"monthday\": \"05/05\", \"calls\": 930}, {\"monthday\": \"05/06\", \"calls\": 960}, {\"monthday\": \"05/07\", \"calls\": 933}, {\"monthday\": \"05/08\", \"calls\": 912}, {\"monthday\": \"05/09\", \"calls\": 928}, {\"monthday\": \"05/10\", \"calls\": 802}, {\"monthday\": \"05/11\", \"calls\": 906}, {\"monthday\": \"05/12\", \"calls\": 921}, {\"monthday\": \"05/13\", \"calls\": 959}, {\"monthday\": \"05/14\", \"calls\": 893}, {\"monthday\": \"05/15\", \"calls\": 965}, {\"monthday\": \"05/16\", \"calls\": 957}, {\"monthday\": \"05/17\", \"calls\": 909}, {\"monthday\": \"05/18\", \"calls\": 977}, {\"monthday\": \"05/19\", \"calls\": 928}, {\"monthday\": \"05/20\", \"calls\": 958}, {\"monthday\": \"05/21\", \"calls\": 1043}, {\"monthday\": \"05/22\", \"calls\": 923}, {\"monthday\": \"05/23\", \"calls\": 911}, {\"monthday\": \"05/24\", \"calls\": 969}, {\"monthday\": \"05/25\", \"calls\": 896}, {\"monthday\": \"05/26\", \"calls\": 943}, {\"monthday\": \"05/27\", \"calls\": 937}, {\"monthday\": \"05/28\", \"calls\": 924}, {\"monthday\": \"05/29\", \"calls\": 844}, {\"monthday\": \"05/30\", \"calls\": 753}, {\"monthday\": \"05/31\", \"calls\": 1043}, {\"monthday\": \"06/01\", \"calls\": 1365}, {\"monthday\": \"06/02\", \"calls\": 866}, {\"monthday\": \"06/03\", \"calls\": 932}, {\"monthday\": \"06/04\", \"calls\": 817}, {\"monthday\": \"06/05\", \"calls\": 822}, {\"monthday\": \"06/06\", \"calls\": 761}, {\"monthday\": \"06/07\", \"calls\": 788}, {\"monthday\": \"06/08\", \"calls\": 771}, {\"monthday\": \"06/09\", \"calls\": 858}, {\"monthday\": \"06/10\", \"calls\": 893}, {\"monthday\": \"06/11\", \"calls\": 306}]}}, {\"mode\": \"vega-lite\"});\n",
       "</script>"
      ],
      "text/plain": [
       "alt.Chart(...)"
      ]
     },
     "execution_count": 58,
     "metadata": {},
     "output_type": "execute_result"
    }
   ],
   "source": [
    "chart = alt.Chart((this_year_sac))\\\n",
    "    .mark_bar(size=2,opacity=1)\\\n",
    "    .encode(\n",
    "    x=alt.X('monthday:T', title=' ', axis=alt.Axis(grid=False, tickCount=6, format='%B')),\n",
    "    y=alt.Y('calls:Q', stack=None, title=' ', axis=alt.Axis(gridWidth=.6,\\\n",
    "     gridColor='#dddddd',offset=6,tickSize=0,domainOpacity=0,tickCount=4, format=''),\\\n",
    "           scale=alt.Scale(domain=(0, 1500)))\n",
    ").properties(width=630, height=400,\n",
    "     title='All service calls to Sacramento Police: 2020'\n",
    ")\n",
    "\n",
    "chart.configure_view(strokeOpacity=0).configure_legend(\n",
    "    orient='top',\n",
    "    symbolType='stroke'\n",
    ").configure_legend(symbolType='square')"
   ]
  },
  {
   "cell_type": "code",
   "execution_count": 37,
   "metadata": {},
   "outputs": [
    {
     "data": {
      "text/html": [
       "<div>\n",
       "<style scoped>\n",
       "    .dataframe tbody tr th:only-of-type {\n",
       "        vertical-align: middle;\n",
       "    }\n",
       "\n",
       "    .dataframe tbody tr th {\n",
       "        vertical-align: top;\n",
       "    }\n",
       "\n",
       "    .dataframe thead th {\n",
       "        text-align: right;\n",
       "    }\n",
       "</style>\n",
       "<table border=\"1\" class=\"dataframe\">\n",
       "  <thead>\n",
       "    <tr style=\"text-align: right;\">\n",
       "      <th></th>\n",
       "      <th>monthday</th>\n",
       "      <th>calls</th>\n",
       "    </tr>\n",
       "  </thead>\n",
       "  <tbody>\n",
       "    <tr>\n",
       "      <th>162</th>\n",
       "      <td>06/11</td>\n",
       "      <td>306</td>\n",
       "    </tr>\n",
       "    <tr>\n",
       "      <th>161</th>\n",
       "      <td>06/10</td>\n",
       "      <td>893</td>\n",
       "    </tr>\n",
       "    <tr>\n",
       "      <th>160</th>\n",
       "      <td>06/09</td>\n",
       "      <td>858</td>\n",
       "    </tr>\n",
       "    <tr>\n",
       "      <th>159</th>\n",
       "      <td>06/08</td>\n",
       "      <td>771</td>\n",
       "    </tr>\n",
       "    <tr>\n",
       "      <th>158</th>\n",
       "      <td>06/07</td>\n",
       "      <td>788</td>\n",
       "    </tr>\n",
       "  </tbody>\n",
       "</table>\n",
       "</div>"
      ],
      "text/plain": [
       "    monthday  calls\n",
       "162    06/11    306\n",
       "161    06/10    893\n",
       "160    06/09    858\n",
       "159    06/08    771\n",
       "158    06/07    788"
      ]
     },
     "execution_count": 37,
     "metadata": {},
     "output_type": "execute_result"
    }
   ],
   "source": [
    "this_year_sac.sort_values(by='monthday', ascending=False).head(5)"
   ]
  },
  {
   "cell_type": "markdown",
   "metadata": {},
   "source": [
    "---"
   ]
  },
  {
   "cell_type": "markdown",
   "metadata": {},
   "source": [
    "### Santa Monica"
   ]
  },
  {
   "cell_type": "code",
   "execution_count": 292,
   "metadata": {},
   "outputs": [],
   "source": [
    "sm_df = pd.read_csv('/Users/mhustiles/data/data/LA/calls/santa_monica/santa_monica.csv', low_memory=False)"
   ]
  },
  {
   "cell_type": "code",
   "execution_count": 293,
   "metadata": {},
   "outputs": [],
   "source": [
    "sm_df['date'] = pd.to_datetime(sm_df['received_time'], format='%Y-%m-%d %H:%M:%S')"
   ]
  },
  {
   "cell_type": "code",
   "execution_count": 294,
   "metadata": {},
   "outputs": [],
   "source": [
    "sm_df['monthday'] = sm_df['date'].dt.strftime('%m/%d')\n",
    "sm_df['year'] = sm_df['date'].dt.strftime('%Y')"
   ]
  },
  {
   "cell_type": "code",
   "execution_count": 295,
   "metadata": {},
   "outputs": [],
   "source": [
    "this_year_sm = sm_df[sm_df['year'] == '2020'].groupby(['monthday']).agg('size').reset_index(name='calls')"
   ]
  },
  {
   "cell_type": "code",
   "execution_count": 296,
   "metadata": {},
   "outputs": [
    {
     "data": {
      "text/html": [
       "\n",
       "<div id=\"altair-viz-5c4a71d62fee4d9fb6cbc903b31bd023\"></div>\n",
       "<script type=\"text/javascript\">\n",
       "  (function(spec, embedOpt){\n",
       "    const outputDiv = document.getElementById(\"altair-viz-5c4a71d62fee4d9fb6cbc903b31bd023\");\n",
       "    const paths = {\n",
       "      \"vega\": \"https://cdn.jsdelivr.net/npm//vega@5?noext\",\n",
       "      \"vega-lib\": \"https://cdn.jsdelivr.net/npm//vega-lib?noext\",\n",
       "      \"vega-lite\": \"https://cdn.jsdelivr.net/npm//vega-lite@4.0.2?noext\",\n",
       "      \"vega-embed\": \"https://cdn.jsdelivr.net/npm//vega-embed@6?noext\",\n",
       "    };\n",
       "\n",
       "    function loadScript(lib) {\n",
       "      return new Promise(function(resolve, reject) {\n",
       "        var s = document.createElement('script');\n",
       "        s.src = paths[lib];\n",
       "        s.async = true;\n",
       "        s.onload = () => resolve(paths[lib]);\n",
       "        s.onerror = () => reject(`Error loading script: ${paths[lib]}`);\n",
       "        document.getElementsByTagName(\"head\")[0].appendChild(s);\n",
       "      });\n",
       "    }\n",
       "\n",
       "    function showError(err) {\n",
       "      outputDiv.innerHTML = `<div class=\"error\" style=\"color:red;\">${err}</div>`;\n",
       "      throw err;\n",
       "    }\n",
       "\n",
       "    function displayChart(vegaEmbed) {\n",
       "      vegaEmbed(outputDiv, spec, embedOpt)\n",
       "        .catch(err => showError(`Javascript Error: ${err.message}<br>This usually means there's a typo in your chart specification. See the javascript console for the full traceback.`));\n",
       "    }\n",
       "\n",
       "    if(typeof define === \"function\" && define.amd) {\n",
       "      requirejs.config({paths});\n",
       "      require([\"vega-embed\"], displayChart, err => showError(`Error loading script: ${err.message}`));\n",
       "    } else if (typeof vegaEmbed === \"function\") {\n",
       "      displayChart(vegaEmbed);\n",
       "    } else {\n",
       "      loadScript(\"vega\")\n",
       "        .then(() => loadScript(\"vega-lite\"))\n",
       "        .then(() => loadScript(\"vega-embed\"))\n",
       "        .catch(showError)\n",
       "        .then(() => displayChart(vegaEmbed));\n",
       "    }\n",
       "  })({\"config\": {\"view\": {\"width\": 800, \"height\": 450, \"strokeOpacity\": 0}, \"background\": \"#ffffff\", \"title\": {\"anchor\": \"start\", \"font\": \"Benton Gothic Bold, sans\", \"fontColor\": \"#000000\", \"fontSize\": 22, \"fontWeight\": \"normal\"}, \"arc\": {\"fill\": \"#82c6df\"}, \"area\": {\"fill\": \"#82c6df\"}, \"line\": {\"stroke\": \"#82c6df\", \"strokeWidth\": 3}, \"path\": {\"stroke\": \"#82c6df\"}, \"rect\": {\"fill\": \"#82c6df\"}, \"shape\": {\"stroke\": \"#82c6df\"}, \"bar\": {\"fill\": \"#82c6df\"}, \"point\": {\"stroke\": \"#82c6df\"}, \"symbol\": {\"fill\": \"#82c6df\", \"size\": 30}, \"axis\": {\"titleFont\": \"Benton Gothic Bold, sans\", \"titleFontSize\": 13, \"titleFontWeight\": \"normal\", \"labelFont\": \"Benton Gothic, sans\", \"labelFontSize\": 11.5, \"labelFontWeight\": \"normal\"}, \"axisX\": {\"labelAngle\": 0, \"labelPadding\": 4, \"tickSize\": 3}, \"axisY\": {\"labelBaseline\": \"middle\", \"maxExtent\": 45, \"minExtent\": 45, \"tickSize\": 2, \"titleAlign\": \"left\", \"titleAngle\": 0, \"titleX\": -45, \"titleY\": -11}, \"legend\": {\"titleFont\": \"Benton Gothic Bold, sans\", \"titleFontSize\": 13, \"titleFontWeight\": \"normal\", \"symbolType\": \"square\", \"labelFont\": \"Benton Gothic, sans\", \"labelFontSize\": 11.5}, \"range\": {\"category\": [\"#3580b1\", \"#ec8431\", \"#ab7fb4\", \"#c89d29\", \"#adc839\", \"#829eb1\"], \"diverging\": [\"#e68a4f\", \"#f4bb6a\", \"#f9e39c\", \"#dadfe2\", \"#a6b7c6\", \"#849eae\"], \"heatmap\": [\"#fbf2c7\", \"#f9e39c\", \"#f8d36e\", \"#f4bb6a\", \"#e68a4f\", \"#d15a40\", \"#ab4232\"], \"ordinal\": [\"#fbf2c7\", \"#f9e39c\", \"#f8d36e\", \"#f4bb6a\", \"#e68a4f\", \"#d15a40\", \"#ab4232\"], \"ramp\": [\"#fbf2c7\", \"#f9e39c\", \"#f8d36e\", \"#f4bb6a\", \"#e68a4f\", \"#d15a40\", \"#ab4232\"]}}, \"data\": {\"name\": \"data-b98697120557f726640c97ddbb1f095b\"}, \"mark\": {\"type\": \"bar\", \"opacity\": 1, \"size\": 2}, \"encoding\": {\"x\": {\"type\": \"temporal\", \"axis\": {\"format\": \"%B\", \"grid\": false, \"tickCount\": 6}, \"field\": \"monthday\", \"title\": \" \"}, \"y\": {\"type\": \"quantitative\", \"axis\": {\"domainOpacity\": 0, \"format\": \"\", \"gridColor\": \"#dddddd\", \"gridWidth\": 0.6, \"offset\": 6, \"tickCount\": 4, \"tickSize\": 0}, \"field\": \"calls\", \"scale\": {\"domain\": [0, 700]}, \"stack\": null, \"title\": \" \"}}, \"height\": 400, \"title\": \"All service calls to Santa Monica Police: 2020\", \"width\": 630, \"$schema\": \"https://vega.github.io/schema/vega-lite/v4.0.2.json\", \"datasets\": {\"data-b98697120557f726640c97ddbb1f095b\": [{\"monthday\": \"01/01\", \"calls\": 248}, {\"monthday\": \"01/02\", \"calls\": 301}, {\"monthday\": \"01/03\", \"calls\": 322}, {\"monthday\": \"01/04\", \"calls\": 292}, {\"monthday\": \"01/05\", \"calls\": 269}, {\"monthday\": \"01/06\", \"calls\": 299}, {\"monthday\": \"01/07\", \"calls\": 304}, {\"monthday\": \"01/08\", \"calls\": 303}, {\"monthday\": \"01/09\", \"calls\": 303}, {\"monthday\": \"01/10\", \"calls\": 302}, {\"monthday\": \"01/11\", \"calls\": 298}, {\"monthday\": \"01/12\", \"calls\": 277}, {\"monthday\": \"01/13\", \"calls\": 263}, {\"monthday\": \"01/14\", \"calls\": 300}, {\"monthday\": \"01/15\", \"calls\": 338}, {\"monthday\": \"01/16\", \"calls\": 329}, {\"monthday\": \"01/17\", \"calls\": 335}, {\"monthday\": \"01/18\", \"calls\": 321}, {\"monthday\": \"01/19\", \"calls\": 270}, {\"monthday\": \"01/20\", \"calls\": 296}, {\"monthday\": \"01/21\", \"calls\": 277}, {\"monthday\": \"01/22\", \"calls\": 324}, {\"monthday\": \"01/23\", \"calls\": 299}, {\"monthday\": \"01/24\", \"calls\": 295}, {\"monthday\": \"01/25\", \"calls\": 254}, {\"monthday\": \"01/26\", \"calls\": 236}, {\"monthday\": \"01/27\", \"calls\": 299}, {\"monthday\": \"01/28\", \"calls\": 304}, {\"monthday\": \"01/29\", \"calls\": 325}, {\"monthday\": \"01/30\", \"calls\": 293}, {\"monthday\": \"01/31\", \"calls\": 329}, {\"monthday\": \"02/01\", \"calls\": 328}, {\"monthday\": \"02/02\", \"calls\": 259}, {\"monthday\": \"02/03\", \"calls\": 342}, {\"monthday\": \"02/04\", \"calls\": 326}, {\"monthday\": \"02/05\", \"calls\": 307}, {\"monthday\": \"02/06\", \"calls\": 328}, {\"monthday\": \"02/07\", \"calls\": 310}, {\"monthday\": \"02/08\", \"calls\": 318}, {\"monthday\": \"02/09\", \"calls\": 277}, {\"monthday\": \"02/10\", \"calls\": 283}, {\"monthday\": \"02/11\", \"calls\": 331}, {\"monthday\": \"02/12\", \"calls\": 296}, {\"monthday\": \"02/13\", \"calls\": 309}, {\"monthday\": \"02/14\", \"calls\": 341}, {\"monthday\": \"02/15\", \"calls\": 329}, {\"monthday\": \"02/16\", \"calls\": 279}, {\"monthday\": \"02/17\", \"calls\": 294}, {\"monthday\": \"02/18\", \"calls\": 319}, {\"monthday\": \"02/19\", \"calls\": 295}, {\"monthday\": \"02/20\", \"calls\": 303}, {\"monthday\": \"02/21\", \"calls\": 302}, {\"monthday\": \"02/22\", \"calls\": 277}, {\"monthday\": \"02/23\", \"calls\": 299}, {\"monthday\": \"02/24\", \"calls\": 280}, {\"monthday\": \"02/25\", \"calls\": 333}, {\"monthday\": \"02/26\", \"calls\": 301}, {\"monthday\": \"02/27\", \"calls\": 301}, {\"monthday\": \"02/28\", \"calls\": 332}, {\"monthday\": \"02/29\", \"calls\": 300}, {\"monthday\": \"03/01\", \"calls\": 267}, {\"monthday\": \"03/02\", \"calls\": 333}, {\"monthday\": \"03/03\", \"calls\": 334}, {\"monthday\": \"03/04\", \"calls\": 332}, {\"monthday\": \"03/05\", \"calls\": 341}, {\"monthday\": \"03/06\", \"calls\": 361}, {\"monthday\": \"03/07\", \"calls\": 277}, {\"monthday\": \"03/08\", \"calls\": 277}, {\"monthday\": \"03/09\", \"calls\": 301}, {\"monthday\": \"03/10\", \"calls\": 311}, {\"monthday\": \"03/11\", \"calls\": 316}, {\"monthday\": \"03/12\", \"calls\": 267}, {\"monthday\": \"03/13\", \"calls\": 238}, {\"monthday\": \"03/14\", \"calls\": 249}, {\"monthday\": \"03/15\", \"calls\": 233}, {\"monthday\": \"03/16\", \"calls\": 194}, {\"monthday\": \"03/17\", \"calls\": 215}, {\"monthday\": \"03/18\", \"calls\": 217}, {\"monthday\": \"03/19\", \"calls\": 214}, {\"monthday\": \"03/20\", \"calls\": 201}, {\"monthday\": \"03/21\", \"calls\": 193}, {\"monthday\": \"03/22\", \"calls\": 202}, {\"monthday\": \"03/23\", \"calls\": 198}, {\"monthday\": \"03/24\", \"calls\": 194}, {\"monthday\": \"03/25\", \"calls\": 218}, {\"monthday\": \"03/26\", \"calls\": 218}, {\"monthday\": \"03/27\", \"calls\": 226}, {\"monthday\": \"03/28\", \"calls\": 190}, {\"monthday\": \"03/29\", \"calls\": 212}, {\"monthday\": \"03/30\", \"calls\": 215}, {\"monthday\": \"03/31\", \"calls\": 171}, {\"monthday\": \"04/01\", \"calls\": 267}, {\"monthday\": \"04/02\", \"calls\": 213}, {\"monthday\": \"04/03\", \"calls\": 214}, {\"monthday\": \"04/04\", \"calls\": 218}, {\"monthday\": \"04/05\", \"calls\": 159}, {\"monthday\": \"04/06\", \"calls\": 185}, {\"monthday\": \"04/07\", \"calls\": 166}, {\"monthday\": \"04/08\", \"calls\": 196}, {\"monthday\": \"04/09\", \"calls\": 178}, {\"monthday\": \"04/10\", \"calls\": 166}, {\"monthday\": \"04/11\", \"calls\": 178}, {\"monthday\": \"04/12\", \"calls\": 175}, {\"monthday\": \"04/13\", \"calls\": 195}, {\"monthday\": \"04/14\", \"calls\": 237}, {\"monthday\": \"04/15\", \"calls\": 215}, {\"monthday\": \"04/16\", \"calls\": 205}, {\"monthday\": \"04/17\", \"calls\": 255}, {\"monthday\": \"04/18\", \"calls\": 183}, {\"monthday\": \"04/19\", \"calls\": 210}, {\"monthday\": \"04/20\", \"calls\": 199}, {\"monthday\": \"04/21\", \"calls\": 213}, {\"monthday\": \"04/22\", \"calls\": 241}, {\"monthday\": \"04/23\", \"calls\": 254}, {\"monthday\": \"04/24\", \"calls\": 253}, {\"monthday\": \"04/25\", \"calls\": 225}, {\"monthday\": \"04/26\", \"calls\": 202}, {\"monthday\": \"04/27\", \"calls\": 240}, {\"monthday\": \"04/28\", \"calls\": 239}, {\"monthday\": \"04/29\", \"calls\": 237}, {\"monthday\": \"04/30\", \"calls\": 249}, {\"monthday\": \"05/01\", \"calls\": 247}, {\"monthday\": \"05/02\", \"calls\": 230}, {\"monthday\": \"05/03\", \"calls\": 231}, {\"monthday\": \"05/04\", \"calls\": 221}, {\"monthday\": \"05/05\", \"calls\": 250}, {\"monthday\": \"05/06\", \"calls\": 245}, {\"monthday\": \"05/07\", \"calls\": 295}, {\"monthday\": \"05/08\", \"calls\": 255}, {\"monthday\": \"05/09\", \"calls\": 227}, {\"monthday\": \"05/10\", \"calls\": 200}, {\"monthday\": \"05/11\", \"calls\": 250}, {\"monthday\": \"05/12\", \"calls\": 256}, {\"monthday\": \"05/13\", \"calls\": 224}, {\"monthday\": \"05/14\", \"calls\": 258}, {\"monthday\": \"05/15\", \"calls\": 247}, {\"monthday\": \"05/16\", \"calls\": 235}, {\"monthday\": \"05/17\", \"calls\": 249}, {\"monthday\": \"05/18\", \"calls\": 203}, {\"monthday\": \"05/19\", \"calls\": 277}, {\"monthday\": \"05/20\", \"calls\": 232}, {\"monthday\": \"05/21\", \"calls\": 233}, {\"monthday\": \"05/22\", \"calls\": 264}, {\"monthday\": \"05/23\", \"calls\": 265}, {\"monthday\": \"05/24\", \"calls\": 293}, {\"monthday\": \"05/25\", \"calls\": 247}, {\"monthday\": \"05/26\", \"calls\": 282}, {\"monthday\": \"05/27\", \"calls\": 243}, {\"monthday\": \"05/28\", \"calls\": 264}, {\"monthday\": \"05/29\", \"calls\": 252}, {\"monthday\": \"05/30\", \"calls\": 256}, {\"monthday\": \"05/31\", \"calls\": 705}, {\"monthday\": \"06/01\", \"calls\": 383}, {\"monthday\": \"06/02\", \"calls\": 345}, {\"monthday\": \"06/03\", \"calls\": 333}, {\"monthday\": \"06/04\", \"calls\": 250}, {\"monthday\": \"06/05\", \"calls\": 353}, {\"monthday\": \"06/06\", \"calls\": 314}, {\"monthday\": \"06/07\", \"calls\": 281}, {\"monthday\": \"06/08\", \"calls\": 357}, {\"monthday\": \"06/09\", \"calls\": 308}, {\"monthday\": \"06/10\", \"calls\": 261}, {\"monthday\": \"06/11\", \"calls\": 242}, {\"monthday\": \"06/12\", \"calls\": 245}, {\"monthday\": \"06/13\", \"calls\": 242}, {\"monthday\": \"06/14\", \"calls\": 231}, {\"monthday\": \"06/15\", \"calls\": 240}, {\"monthday\": \"06/16\", \"calls\": 259}, {\"monthday\": \"06/17\", \"calls\": 228}, {\"monthday\": \"06/18\", \"calls\": 245}, {\"monthday\": \"06/19\", \"calls\": 265}, {\"monthday\": \"06/20\", \"calls\": 235}, {\"monthday\": \"06/21\", \"calls\": 228}, {\"monthday\": \"06/22\", \"calls\": 230}, {\"monthday\": \"06/23\", \"calls\": 225}, {\"monthday\": \"06/24\", \"calls\": 35}]}}, {\"mode\": \"vega-lite\"});\n",
       "</script>"
      ],
      "text/plain": [
       "alt.Chart(...)"
      ]
     },
     "execution_count": 296,
     "metadata": {},
     "output_type": "execute_result"
    }
   ],
   "source": [
    "chart = alt.Chart((this_year_sm))\\\n",
    "    .mark_bar(size=2,opacity=1)\\\n",
    "    .encode(\n",
    "    x=alt.X('monthday:T', title=' ', axis=alt.Axis(grid=False, tickCount=6, format='%B')),\n",
    "    y=alt.Y('calls:Q', stack=None, title=' ', axis=alt.Axis(gridWidth=.6,\\\n",
    "     gridColor='#dddddd',offset=6,tickSize=0,domainOpacity=0,tickCount=4, format=''),\\\n",
    "           scale=alt.Scale(domain=(0, 700)))\n",
    ").properties(width=630, height=400,\n",
    "     title='All service calls to Santa Monica Police: 2020'\n",
    ")\n",
    "\n",
    "chart.configure_view(strokeOpacity=0).configure_legend(\n",
    "    orient='top',\n",
    "    symbolType='stroke'\n",
    ").configure_legend(symbolType='square')"
   ]
  },
  {
   "cell_type": "markdown",
   "metadata": {},
   "source": [
    "---"
   ]
  },
  {
   "cell_type": "markdown",
   "metadata": {},
   "source": [
    "### San Diego"
   ]
  },
  {
   "cell_type": "code",
   "execution_count": 297,
   "metadata": {},
   "outputs": [],
   "source": [
    "sd_df = pd.read_csv('/Users/mhustiles/data/data/LA/calls/san-diego/san_diego.csv', low_memory=False)"
   ]
  },
  {
   "cell_type": "code",
   "execution_count": 298,
   "metadata": {},
   "outputs": [
    {
     "data": {
      "text/html": [
       "<div>\n",
       "<style scoped>\n",
       "    .dataframe tbody tr th:only-of-type {\n",
       "        vertical-align: middle;\n",
       "    }\n",
       "\n",
       "    .dataframe tbody tr th {\n",
       "        vertical-align: top;\n",
       "    }\n",
       "\n",
       "    .dataframe thead th {\n",
       "        text-align: right;\n",
       "    }\n",
       "</style>\n",
       "<table border=\"1\" class=\"dataframe\">\n",
       "  <thead>\n",
       "    <tr style=\"text-align: right;\">\n",
       "      <th></th>\n",
       "      <th>incident_num</th>\n",
       "      <th>date_time</th>\n",
       "      <th>day_of_week</th>\n",
       "      <th>address_number_primary</th>\n",
       "      <th>address_dir_primary</th>\n",
       "      <th>address_road_primary</th>\n",
       "      <th>address_sfx_primary</th>\n",
       "      <th>address_dir_intersecting</th>\n",
       "      <th>address_road_intersecting</th>\n",
       "      <th>address_sfx_intersecting</th>\n",
       "      <th>call_type</th>\n",
       "      <th>disposition</th>\n",
       "      <th>beat</th>\n",
       "      <th>priority</th>\n",
       "      <th>date</th>\n",
       "      <th>time</th>\n",
       "    </tr>\n",
       "  </thead>\n",
       "  <tbody>\n",
       "    <tr>\n",
       "      <th>0</th>\n",
       "      <td>E20010000001</td>\n",
       "      <td>2020-01-01 00:00:09</td>\n",
       "      <td>4</td>\n",
       "      <td>400</td>\n",
       "      <td>NaN</td>\n",
       "      <td>06TH</td>\n",
       "      <td>AVE</td>\n",
       "      <td>NaN</td>\n",
       "      <td>NaN</td>\n",
       "      <td>NaN</td>\n",
       "      <td>11-8</td>\n",
       "      <td>A</td>\n",
       "      <td>523</td>\n",
       "      <td>0</td>\n",
       "      <td>2020-01-01</td>\n",
       "      <td>00:00:09</td>\n",
       "    </tr>\n",
       "    <tr>\n",
       "      <th>1</th>\n",
       "      <td>E20010000002</td>\n",
       "      <td>2020-01-01 00:00:20</td>\n",
       "      <td>4</td>\n",
       "      <td>5000</td>\n",
       "      <td>NaN</td>\n",
       "      <td>UNIVERSITY</td>\n",
       "      <td>AVE</td>\n",
       "      <td>NaN</td>\n",
       "      <td>NaN</td>\n",
       "      <td>NaN</td>\n",
       "      <td>FD</td>\n",
       "      <td>K</td>\n",
       "      <td>826</td>\n",
       "      <td>2</td>\n",
       "      <td>2020-01-01</td>\n",
       "      <td>00:00:20</td>\n",
       "    </tr>\n",
       "    <tr>\n",
       "      <th>2</th>\n",
       "      <td>E20010000003</td>\n",
       "      <td>2020-01-01 00:00:21</td>\n",
       "      <td>4</td>\n",
       "      <td>800</td>\n",
       "      <td>NaN</td>\n",
       "      <td>SAWTELLE</td>\n",
       "      <td>AVE</td>\n",
       "      <td>NaN</td>\n",
       "      <td>NaN</td>\n",
       "      <td>NaN</td>\n",
       "      <td>AU1</td>\n",
       "      <td>W</td>\n",
       "      <td>434</td>\n",
       "      <td>1</td>\n",
       "      <td>2020-01-01</td>\n",
       "      <td>00:00:21</td>\n",
       "    </tr>\n",
       "    <tr>\n",
       "      <th>3</th>\n",
       "      <td>E20010000004</td>\n",
       "      <td>2020-01-01 00:00:32</td>\n",
       "      <td>4</td>\n",
       "      <td>5000</td>\n",
       "      <td>NaN</td>\n",
       "      <td>UNIVERSITY</td>\n",
       "      <td>AVE</td>\n",
       "      <td>NaN</td>\n",
       "      <td>NaN</td>\n",
       "      <td>NaN</td>\n",
       "      <td>FD</td>\n",
       "      <td>K</td>\n",
       "      <td>826</td>\n",
       "      <td>2</td>\n",
       "      <td>2020-01-01</td>\n",
       "      <td>00:00:32</td>\n",
       "    </tr>\n",
       "    <tr>\n",
       "      <th>4</th>\n",
       "      <td>E20010000005</td>\n",
       "      <td>2020-01-01 00:00:42</td>\n",
       "      <td>4</td>\n",
       "      <td>5200</td>\n",
       "      <td>NaN</td>\n",
       "      <td>CLAIREMONT MESA</td>\n",
       "      <td>BLV</td>\n",
       "      <td>NaN</td>\n",
       "      <td>NaN</td>\n",
       "      <td>NaN</td>\n",
       "      <td>415V</td>\n",
       "      <td>K</td>\n",
       "      <td>111</td>\n",
       "      <td>1</td>\n",
       "      <td>2020-01-01</td>\n",
       "      <td>00:00:42</td>\n",
       "    </tr>\n",
       "  </tbody>\n",
       "</table>\n",
       "</div>"
      ],
      "text/plain": [
       "   incident_num            date_time day_of_week address_number_primary  \\\n",
       "0  E20010000001  2020-01-01 00:00:09           4                    400   \n",
       "1  E20010000002  2020-01-01 00:00:20           4                   5000   \n",
       "2  E20010000003  2020-01-01 00:00:21           4                    800   \n",
       "3  E20010000004  2020-01-01 00:00:32           4                   5000   \n",
       "4  E20010000005  2020-01-01 00:00:42           4                   5200   \n",
       "\n",
       "  address_dir_primary address_road_primary address_sfx_primary  \\\n",
       "0                 NaN                 06TH                 AVE   \n",
       "1                 NaN           UNIVERSITY                 AVE   \n",
       "2                 NaN             SAWTELLE                 AVE   \n",
       "3                 NaN           UNIVERSITY                 AVE   \n",
       "4                 NaN      CLAIREMONT MESA                 BLV   \n",
       "\n",
       "  address_dir_intersecting address_road_intersecting address_sfx_intersecting  \\\n",
       "0                      NaN                       NaN                      NaN   \n",
       "1                      NaN                       NaN                      NaN   \n",
       "2                      NaN                       NaN                      NaN   \n",
       "3                      NaN                       NaN                      NaN   \n",
       "4                      NaN                       NaN                      NaN   \n",
       "\n",
       "  call_type disposition beat priority        date      time  \n",
       "0      11-8           A  523        0  2020-01-01  00:00:09  \n",
       "1        FD           K  826        2  2020-01-01  00:00:20  \n",
       "2       AU1           W  434        1  2020-01-01  00:00:21  \n",
       "3        FD           K  826        2  2020-01-01  00:00:32  \n",
       "4      415V           K  111        1  2020-01-01  00:00:42  "
      ]
     },
     "execution_count": 298,
     "metadata": {},
     "output_type": "execute_result"
    }
   ],
   "source": [
    "sd_df.head()"
   ]
  },
  {
   "cell_type": "code",
   "execution_count": 299,
   "metadata": {},
   "outputs": [],
   "source": [
    "sd_df['date'] = pd.to_datetime(sd_df['date_time'], format='%Y-%m-%d %H:%M:%S')"
   ]
  },
  {
   "cell_type": "code",
   "execution_count": 300,
   "metadata": {},
   "outputs": [],
   "source": [
    "sd_df['monthday'] = sd_df['date'].dt.strftime('%m/%d')\n",
    "sd_df['year'] = sd_df['date'].dt.strftime('%Y')"
   ]
  },
  {
   "cell_type": "code",
   "execution_count": 301,
   "metadata": {},
   "outputs": [],
   "source": [
    "this_year_sd = sd_df[sd_df['year'] == '2020'].groupby(['monthday']).agg('size').reset_index(name='calls')"
   ]
  },
  {
   "cell_type": "code",
   "execution_count": 302,
   "metadata": {},
   "outputs": [],
   "source": [
    "this_year_sd.loc[this_year_sd['monthday'] == '05/03', 'calls'] = 1557"
   ]
  },
  {
   "cell_type": "code",
   "execution_count": 303,
   "metadata": {},
   "outputs": [
    {
     "data": {
      "text/html": [
       "\n",
       "<div id=\"altair-viz-6121759858fa46b19d85651b1a8ff6f9\"></div>\n",
       "<script type=\"text/javascript\">\n",
       "  (function(spec, embedOpt){\n",
       "    const outputDiv = document.getElementById(\"altair-viz-6121759858fa46b19d85651b1a8ff6f9\");\n",
       "    const paths = {\n",
       "      \"vega\": \"https://cdn.jsdelivr.net/npm//vega@5?noext\",\n",
       "      \"vega-lib\": \"https://cdn.jsdelivr.net/npm//vega-lib?noext\",\n",
       "      \"vega-lite\": \"https://cdn.jsdelivr.net/npm//vega-lite@4.0.2?noext\",\n",
       "      \"vega-embed\": \"https://cdn.jsdelivr.net/npm//vega-embed@6?noext\",\n",
       "    };\n",
       "\n",
       "    function loadScript(lib) {\n",
       "      return new Promise(function(resolve, reject) {\n",
       "        var s = document.createElement('script');\n",
       "        s.src = paths[lib];\n",
       "        s.async = true;\n",
       "        s.onload = () => resolve(paths[lib]);\n",
       "        s.onerror = () => reject(`Error loading script: ${paths[lib]}`);\n",
       "        document.getElementsByTagName(\"head\")[0].appendChild(s);\n",
       "      });\n",
       "    }\n",
       "\n",
       "    function showError(err) {\n",
       "      outputDiv.innerHTML = `<div class=\"error\" style=\"color:red;\">${err}</div>`;\n",
       "      throw err;\n",
       "    }\n",
       "\n",
       "    function displayChart(vegaEmbed) {\n",
       "      vegaEmbed(outputDiv, spec, embedOpt)\n",
       "        .catch(err => showError(`Javascript Error: ${err.message}<br>This usually means there's a typo in your chart specification. See the javascript console for the full traceback.`));\n",
       "    }\n",
       "\n",
       "    if(typeof define === \"function\" && define.amd) {\n",
       "      requirejs.config({paths});\n",
       "      require([\"vega-embed\"], displayChart, err => showError(`Error loading script: ${err.message}`));\n",
       "    } else if (typeof vegaEmbed === \"function\") {\n",
       "      displayChart(vegaEmbed);\n",
       "    } else {\n",
       "      loadScript(\"vega\")\n",
       "        .then(() => loadScript(\"vega-lite\"))\n",
       "        .then(() => loadScript(\"vega-embed\"))\n",
       "        .catch(showError)\n",
       "        .then(() => displayChart(vegaEmbed));\n",
       "    }\n",
       "  })({\"config\": {\"view\": {\"width\": 800, \"height\": 450, \"strokeOpacity\": 0}, \"background\": \"#ffffff\", \"title\": {\"anchor\": \"start\", \"font\": \"Benton Gothic Bold, sans\", \"fontColor\": \"#000000\", \"fontSize\": 22, \"fontWeight\": \"normal\"}, \"arc\": {\"fill\": \"#82c6df\"}, \"area\": {\"fill\": \"#82c6df\"}, \"line\": {\"stroke\": \"#82c6df\", \"strokeWidth\": 3}, \"path\": {\"stroke\": \"#82c6df\"}, \"rect\": {\"fill\": \"#82c6df\"}, \"shape\": {\"stroke\": \"#82c6df\"}, \"bar\": {\"fill\": \"#82c6df\"}, \"point\": {\"stroke\": \"#82c6df\"}, \"symbol\": {\"fill\": \"#82c6df\", \"size\": 30}, \"axis\": {\"titleFont\": \"Benton Gothic Bold, sans\", \"titleFontSize\": 13, \"titleFontWeight\": \"normal\", \"labelFont\": \"Benton Gothic, sans\", \"labelFontSize\": 11.5, \"labelFontWeight\": \"normal\"}, \"axisX\": {\"labelAngle\": 0, \"labelPadding\": 4, \"tickSize\": 3}, \"axisY\": {\"labelBaseline\": \"middle\", \"maxExtent\": 45, \"minExtent\": 45, \"tickSize\": 2, \"titleAlign\": \"left\", \"titleAngle\": 0, \"titleX\": -45, \"titleY\": -11}, \"legend\": {\"titleFont\": \"Benton Gothic Bold, sans\", \"titleFontSize\": 13, \"titleFontWeight\": \"normal\", \"symbolType\": \"square\", \"labelFont\": \"Benton Gothic, sans\", \"labelFontSize\": 11.5}, \"range\": {\"category\": [\"#3580b1\", \"#ec8431\", \"#ab7fb4\", \"#c89d29\", \"#adc839\", \"#829eb1\"], \"diverging\": [\"#e68a4f\", \"#f4bb6a\", \"#f9e39c\", \"#dadfe2\", \"#a6b7c6\", \"#849eae\"], \"heatmap\": [\"#fbf2c7\", \"#f9e39c\", \"#f8d36e\", \"#f4bb6a\", \"#e68a4f\", \"#d15a40\", \"#ab4232\"], \"ordinal\": [\"#fbf2c7\", \"#f9e39c\", \"#f8d36e\", \"#f4bb6a\", \"#e68a4f\", \"#d15a40\", \"#ab4232\"], \"ramp\": [\"#fbf2c7\", \"#f9e39c\", \"#f8d36e\", \"#f4bb6a\", \"#e68a4f\", \"#d15a40\", \"#ab4232\"]}}, \"data\": {\"name\": \"data-2020bde9063ad53c32b516145fc03e3a\"}, \"mark\": {\"type\": \"bar\", \"opacity\": 1, \"size\": 2}, \"encoding\": {\"x\": {\"type\": \"temporal\", \"axis\": {\"format\": \"%B\", \"grid\": false, \"tickCount\": 6}, \"field\": \"monthday\", \"title\": \" \"}, \"y\": {\"type\": \"quantitative\", \"axis\": {\"domainOpacity\": 0, \"format\": \"\", \"gridColor\": \"#dddddd\", \"gridWidth\": 0.6, \"offset\": 6, \"tickCount\": 4, \"tickSize\": 0}, \"field\": \"calls\", \"scale\": {\"domain\": [0, 2000]}, \"stack\": null, \"title\": \" \"}}, \"height\": 400, \"title\": \"All service calls to San Diego Police: 2020\", \"width\": 630, \"$schema\": \"https://vega.github.io/schema/vega-lite/v4.0.2.json\", \"datasets\": {\"data-2020bde9063ad53c32b516145fc03e3a\": [{\"monthday\": \"01/01\", \"calls\": 1465}, {\"monthday\": \"01/02\", \"calls\": 1550}, {\"monthday\": \"01/03\", \"calls\": 1708}, {\"monthday\": \"01/04\", \"calls\": 1551}, {\"monthday\": \"01/05\", \"calls\": 1415}, {\"monthday\": \"01/06\", \"calls\": 1656}, {\"monthday\": \"01/07\", \"calls\": 1688}, {\"monthday\": \"01/08\", \"calls\": 1600}, {\"monthday\": \"01/09\", \"calls\": 1641}, {\"monthday\": \"01/10\", \"calls\": 1557}, {\"monthday\": \"01/11\", \"calls\": 1484}, {\"monthday\": \"01/12\", \"calls\": 1294}, {\"monthday\": \"01/13\", \"calls\": 1779}, {\"monthday\": \"01/14\", \"calls\": 1703}, {\"monthday\": \"01/15\", \"calls\": 1639}, {\"monthday\": \"01/16\", \"calls\": 1798}, {\"monthday\": \"01/17\", \"calls\": 1610}, {\"monthday\": \"01/18\", \"calls\": 1603}, {\"monthday\": \"01/19\", \"calls\": 1439}, {\"monthday\": \"01/20\", \"calls\": 1574}, {\"monthday\": \"01/21\", \"calls\": 1750}, {\"monthday\": \"01/22\", \"calls\": 1805}, {\"monthday\": \"01/23\", \"calls\": 1750}, {\"monthday\": \"01/24\", \"calls\": 1569}, {\"monthday\": \"01/25\", \"calls\": 1600}, {\"monthday\": \"01/26\", \"calls\": 1470}, {\"monthday\": \"01/27\", \"calls\": 1691}, {\"monthday\": \"01/28\", \"calls\": 1793}, {\"monthday\": \"01/29\", \"calls\": 1772}, {\"monthday\": \"01/30\", \"calls\": 1706}, {\"monthday\": \"01/31\", \"calls\": 1704}, {\"monthday\": \"02/01\", \"calls\": 1654}, {\"monthday\": \"02/02\", \"calls\": 1456}, {\"monthday\": \"02/03\", \"calls\": 1677}, {\"monthday\": \"02/04\", \"calls\": 1759}, {\"monthday\": \"02/05\", \"calls\": 1821}, {\"monthday\": \"02/06\", \"calls\": 1725}, {\"monthday\": \"02/07\", \"calls\": 1700}, {\"monthday\": \"02/08\", \"calls\": 1647}, {\"monthday\": \"02/09\", \"calls\": 1355}, {\"monthday\": \"02/10\", \"calls\": 1664}, {\"monthday\": \"02/11\", \"calls\": 1889}, {\"monthday\": \"02/12\", \"calls\": 1765}, {\"monthday\": \"02/13\", \"calls\": 1831}, {\"monthday\": \"02/14\", \"calls\": 1804}, {\"monthday\": \"02/15\", \"calls\": 1566}, {\"monthday\": \"02/16\", \"calls\": 1474}, {\"monthday\": \"02/17\", \"calls\": 1591}, {\"monthday\": \"02/18\", \"calls\": 1691}, {\"monthday\": \"02/19\", \"calls\": 1745}, {\"monthday\": \"02/20\", \"calls\": 1702}, {\"monthday\": \"02/21\", \"calls\": 1808}, {\"monthday\": \"02/22\", \"calls\": 1535}, {\"monthday\": \"02/23\", \"calls\": 1423}, {\"monthday\": \"02/24\", \"calls\": 1736}, {\"monthday\": \"02/25\", \"calls\": 1827}, {\"monthday\": \"02/26\", \"calls\": 1761}, {\"monthday\": \"02/27\", \"calls\": 1670}, {\"monthday\": \"02/28\", \"calls\": 1643}, {\"monthday\": \"02/29\", \"calls\": 1578}, {\"monthday\": \"03/01\", \"calls\": 1392}, {\"monthday\": \"03/02\", \"calls\": 1683}, {\"monthday\": \"03/03\", \"calls\": 1798}, {\"monthday\": \"03/04\", \"calls\": 1804}, {\"monthday\": \"03/05\", \"calls\": 1757}, {\"monthday\": \"03/06\", \"calls\": 1721}, {\"monthday\": \"03/07\", \"calls\": 1559}, {\"monthday\": \"03/08\", \"calls\": 1334}, {\"monthday\": \"03/09\", \"calls\": 1664}, {\"monthday\": \"03/10\", \"calls\": 1632}, {\"monthday\": \"03/11\", \"calls\": 1780}, {\"monthday\": \"03/12\", \"calls\": 1623}, {\"monthday\": \"03/13\", \"calls\": 1573}, {\"monthday\": \"03/14\", \"calls\": 1433}, {\"monthday\": \"03/15\", \"calls\": 1358}, {\"monthday\": \"03/16\", \"calls\": 1551}, {\"monthday\": \"03/17\", \"calls\": 1567}, {\"monthday\": \"03/18\", \"calls\": 1418}, {\"monthday\": \"03/19\", \"calls\": 1589}, {\"monthday\": \"03/20\", \"calls\": 1504}, {\"monthday\": \"03/21\", \"calls\": 1374}, {\"monthday\": \"03/22\", \"calls\": 1278}, {\"monthday\": \"03/23\", \"calls\": 1452}, {\"monthday\": \"03/24\", \"calls\": 1619}, {\"monthday\": \"03/25\", \"calls\": 1635}, {\"monthday\": \"03/26\", \"calls\": 1543}, {\"monthday\": \"03/27\", \"calls\": 1704}, {\"monthday\": \"03/28\", \"calls\": 1591}, {\"monthday\": \"03/29\", \"calls\": 1372}, {\"monthday\": \"03/30\", \"calls\": 1717}, {\"monthday\": \"03/31\", \"calls\": 1665}, {\"monthday\": \"04/01\", \"calls\": 1686}, {\"monthday\": \"04/02\", \"calls\": 1717}, {\"monthday\": \"04/03\", \"calls\": 1767}, {\"monthday\": \"04/04\", \"calls\": 1511}, {\"monthday\": \"04/05\", \"calls\": 1479}, {\"monthday\": \"04/06\", \"calls\": 1508}, {\"monthday\": \"04/07\", \"calls\": 1508}, {\"monthday\": \"04/08\", \"calls\": 1564}, {\"monthday\": \"04/09\", \"calls\": 1592}, {\"monthday\": \"04/10\", \"calls\": 1510}, {\"monthday\": \"04/11\", \"calls\": 1597}, {\"monthday\": \"04/12\", \"calls\": 1354}, {\"monthday\": \"04/13\", \"calls\": 1542}, {\"monthday\": \"04/14\", \"calls\": 1755}, {\"monthday\": \"04/15\", \"calls\": 1691}, {\"monthday\": \"04/16\", \"calls\": 1624}, {\"monthday\": \"04/17\", \"calls\": 1623}, {\"monthday\": \"04/18\", \"calls\": 1520}, {\"monthday\": \"04/19\", \"calls\": 1296}, {\"monthday\": \"04/20\", \"calls\": 1551}, {\"monthday\": \"04/21\", \"calls\": 1640}, {\"monthday\": \"04/22\", \"calls\": 1606}, {\"monthday\": \"04/23\", \"calls\": 1668}, {\"monthday\": \"04/24\", \"calls\": 1682}, {\"monthday\": \"04/25\", \"calls\": 1689}, {\"monthday\": \"04/26\", \"calls\": 1476}, {\"monthday\": \"04/27\", \"calls\": 1718}, {\"monthday\": \"04/28\", \"calls\": 1765}, {\"monthday\": \"04/29\", \"calls\": 1597}, {\"monthday\": \"04/30\", \"calls\": 1749}, {\"monthday\": \"05/01\", \"calls\": 1745}, {\"monthday\": \"05/02\", \"calls\": 1470}, {\"monthday\": \"05/03\", \"calls\": 1557}, {\"monthday\": \"05/04\", \"calls\": 1645}, {\"monthday\": \"05/05\", \"calls\": 1740}, {\"monthday\": \"05/06\", \"calls\": 1761}, {\"monthday\": \"05/07\", \"calls\": 1698}, {\"monthday\": \"05/08\", \"calls\": 1695}, {\"monthday\": \"05/09\", \"calls\": 1758}, {\"monthday\": \"05/10\", \"calls\": 1474}, {\"monthday\": \"05/11\", \"calls\": 1606}, {\"monthday\": \"05/12\", \"calls\": 1668}, {\"monthday\": \"05/13\", \"calls\": 1716}, {\"monthday\": \"05/14\", \"calls\": 1675}, {\"monthday\": \"05/15\", \"calls\": 1654}, {\"monthday\": \"05/16\", \"calls\": 1698}, {\"monthday\": \"05/17\", \"calls\": 1434}, {\"monthday\": \"05/18\", \"calls\": 1626}, {\"monthday\": \"05/19\", \"calls\": 1512}, {\"monthday\": \"05/20\", \"calls\": 1552}, {\"monthday\": \"05/21\", \"calls\": 1584}, {\"monthday\": \"05/22\", \"calls\": 1690}, {\"monthday\": \"05/23\", \"calls\": 1731}, {\"monthday\": \"05/24\", \"calls\": 1582}, {\"monthday\": \"05/25\", \"calls\": 1629}, {\"monthday\": \"05/26\", \"calls\": 1676}, {\"monthday\": \"05/27\", \"calls\": 1609}, {\"monthday\": \"05/28\", \"calls\": 1553}, {\"monthday\": \"05/29\", \"calls\": 1561}, {\"monthday\": \"05/30\", \"calls\": 1531}, {\"monthday\": \"05/31\", \"calls\": 1309}, {\"monthday\": \"06/01\", \"calls\": 1412}, {\"monthday\": \"06/02\", \"calls\": 1321}, {\"monthday\": \"06/03\", \"calls\": 1252}, {\"monthday\": \"06/04\", \"calls\": 1326}, {\"monthday\": \"06/05\", \"calls\": 1327}, {\"monthday\": \"06/06\", \"calls\": 1364}, {\"monthday\": \"06/07\", \"calls\": 1314}, {\"monthday\": \"06/08\", \"calls\": 1432}, {\"monthday\": \"06/09\", \"calls\": 1378}, {\"monthday\": \"06/10\", \"calls\": 1527}, {\"monthday\": \"06/11\", \"calls\": 1657}, {\"monthday\": \"06/12\", \"calls\": 1581}, {\"monthday\": \"06/13\", \"calls\": 1524}, {\"monthday\": \"06/14\", \"calls\": 1319}, {\"monthday\": \"06/15\", \"calls\": 1436}]}}, {\"mode\": \"vega-lite\"});\n",
       "</script>"
      ],
      "text/plain": [
       "alt.Chart(...)"
      ]
     },
     "execution_count": 303,
     "metadata": {},
     "output_type": "execute_result"
    }
   ],
   "source": [
    "chart = alt.Chart((this_year_sd.query('monthday < \"06/16\"')))\\\n",
    "    .mark_bar(size=2,opacity=1)\\\n",
    "    .encode(\n",
    "    x=alt.X('monthday:T', title=' ', axis=alt.Axis(grid=False, tickCount=6, format='%B')),\n",
    "    y=alt.Y('calls:Q', stack=None, title=' ', axis=alt.Axis(gridWidth=.6,\\\n",
    "     gridColor='#dddddd',offset=6,tickSize=0,domainOpacity=0,tickCount=4, format=''),\\\n",
    "           scale=alt.Scale(domain=(0, 2000)))\n",
    ").properties(width=630, height=400,\n",
    "     title='All service calls to San Diego Police: 2020'\n",
    ")\n",
    "\n",
    "chart.configure_view(strokeOpacity=0).configure_legend(\n",
    "    orient='top',\n",
    "    symbolType='stroke'\n",
    ").configure_legend(symbolType='square')"
   ]
  },
  {
   "cell_type": "markdown",
   "metadata": {},
   "source": [
    "---"
   ]
  },
  {
   "cell_type": "markdown",
   "metadata": {},
   "source": [
    "### San Jose"
   ]
  },
  {
   "cell_type": "code",
   "execution_count": 51,
   "metadata": {},
   "outputs": [],
   "source": [
    "sj_df = pd.read_csv('/Users/mhustiles/data/data/LA/calls/san-jose/san_jose.csv', low_memory=False)"
   ]
  },
  {
   "cell_type": "code",
   "execution_count": 52,
   "metadata": {},
   "outputs": [],
   "source": [
    "sj_df['date'] = pd.to_datetime(sj_df['date'], format='%Y-%m-%d %H:%M:%S')"
   ]
  },
  {
   "cell_type": "code",
   "execution_count": 53,
   "metadata": {},
   "outputs": [],
   "source": [
    "sj_df['monthday'] = sj_df['date'].dt.strftime('%m/%d')\n",
    "sj_df['year'] = sj_df['date'].dt.strftime('%Y')"
   ]
  },
  {
   "cell_type": "code",
   "execution_count": 54,
   "metadata": {},
   "outputs": [],
   "source": [
    "this_year_sj = sj_df[sj_df['year'] == '2020'].groupby(['monthday']).agg('size').reset_index(name='calls')"
   ]
  },
  {
   "cell_type": "code",
   "execution_count": 55,
   "metadata": {},
   "outputs": [
    {
     "data": {
      "text/html": [
       "\n",
       "<div id=\"altair-viz-913fc7be17f744e4a04e15428ee0b667\"></div>\n",
       "<script type=\"text/javascript\">\n",
       "  (function(spec, embedOpt){\n",
       "    const outputDiv = document.getElementById(\"altair-viz-913fc7be17f744e4a04e15428ee0b667\");\n",
       "    const paths = {\n",
       "      \"vega\": \"https://cdn.jsdelivr.net/npm//vega@5?noext\",\n",
       "      \"vega-lib\": \"https://cdn.jsdelivr.net/npm//vega-lib?noext\",\n",
       "      \"vega-lite\": \"https://cdn.jsdelivr.net/npm//vega-lite@4.0.2?noext\",\n",
       "      \"vega-embed\": \"https://cdn.jsdelivr.net/npm//vega-embed@6?noext\",\n",
       "    };\n",
       "\n",
       "    function loadScript(lib) {\n",
       "      return new Promise(function(resolve, reject) {\n",
       "        var s = document.createElement('script');\n",
       "        s.src = paths[lib];\n",
       "        s.async = true;\n",
       "        s.onload = () => resolve(paths[lib]);\n",
       "        s.onerror = () => reject(`Error loading script: ${paths[lib]}`);\n",
       "        document.getElementsByTagName(\"head\")[0].appendChild(s);\n",
       "      });\n",
       "    }\n",
       "\n",
       "    function showError(err) {\n",
       "      outputDiv.innerHTML = `<div class=\"error\" style=\"color:red;\">${err}</div>`;\n",
       "      throw err;\n",
       "    }\n",
       "\n",
       "    function displayChart(vegaEmbed) {\n",
       "      vegaEmbed(outputDiv, spec, embedOpt)\n",
       "        .catch(err => showError(`Javascript Error: ${err.message}<br>This usually means there's a typo in your chart specification. See the javascript console for the full traceback.`));\n",
       "    }\n",
       "\n",
       "    if(typeof define === \"function\" && define.amd) {\n",
       "      requirejs.config({paths});\n",
       "      require([\"vega-embed\"], displayChart, err => showError(`Error loading script: ${err.message}`));\n",
       "    } else if (typeof vegaEmbed === \"function\") {\n",
       "      displayChart(vegaEmbed);\n",
       "    } else {\n",
       "      loadScript(\"vega\")\n",
       "        .then(() => loadScript(\"vega-lite\"))\n",
       "        .then(() => loadScript(\"vega-embed\"))\n",
       "        .catch(showError)\n",
       "        .then(() => displayChart(vegaEmbed));\n",
       "    }\n",
       "  })({\"config\": {\"view\": {\"width\": 800, \"height\": 450, \"strokeOpacity\": 0}, \"background\": \"#ffffff\", \"title\": {\"anchor\": \"start\", \"font\": \"Benton Gothic Bold, sans\", \"fontColor\": \"#000000\", \"fontSize\": 22, \"fontWeight\": \"normal\"}, \"arc\": {\"fill\": \"#82c6df\"}, \"area\": {\"fill\": \"#82c6df\"}, \"line\": {\"stroke\": \"#82c6df\", \"strokeWidth\": 3}, \"path\": {\"stroke\": \"#82c6df\"}, \"rect\": {\"fill\": \"#82c6df\"}, \"shape\": {\"stroke\": \"#82c6df\"}, \"bar\": {\"fill\": \"#82c6df\"}, \"point\": {\"stroke\": \"#82c6df\"}, \"symbol\": {\"fill\": \"#82c6df\", \"size\": 30}, \"axis\": {\"titleFont\": \"Benton Gothic Bold, sans\", \"titleFontSize\": 13, \"titleFontWeight\": \"normal\", \"labelFont\": \"Benton Gothic, sans\", \"labelFontSize\": 11.5, \"labelFontWeight\": \"normal\"}, \"axisX\": {\"labelAngle\": 0, \"labelPadding\": 4, \"tickSize\": 3}, \"axisY\": {\"labelBaseline\": \"middle\", \"maxExtent\": 45, \"minExtent\": 45, \"tickSize\": 2, \"titleAlign\": \"left\", \"titleAngle\": 0, \"titleX\": -45, \"titleY\": -11}, \"legend\": {\"titleFont\": \"Benton Gothic Bold, sans\", \"titleFontSize\": 13, \"titleFontWeight\": \"normal\", \"symbolType\": \"square\", \"labelFont\": \"Benton Gothic, sans\", \"labelFontSize\": 11.5}, \"range\": {\"category\": [\"#3580b1\", \"#ec8431\", \"#ab7fb4\", \"#c89d29\", \"#adc839\", \"#829eb1\"], \"diverging\": [\"#e68a4f\", \"#f4bb6a\", \"#f9e39c\", \"#dadfe2\", \"#a6b7c6\", \"#849eae\"], \"heatmap\": [\"#fbf2c7\", \"#f9e39c\", \"#f8d36e\", \"#f4bb6a\", \"#e68a4f\", \"#d15a40\", \"#ab4232\"], \"ordinal\": [\"#fbf2c7\", \"#f9e39c\", \"#f8d36e\", \"#f4bb6a\", \"#e68a4f\", \"#d15a40\", \"#ab4232\"], \"ramp\": [\"#fbf2c7\", \"#f9e39c\", \"#f8d36e\", \"#f4bb6a\", \"#e68a4f\", \"#d15a40\", \"#ab4232\"]}}, \"data\": {\"name\": \"data-a9f3e29273f418467faf5fb03aab3ada\"}, \"mark\": {\"type\": \"bar\", \"opacity\": 1, \"size\": 2}, \"encoding\": {\"x\": {\"type\": \"temporal\", \"axis\": {\"format\": \"%B\", \"grid\": false, \"tickCount\": 6}, \"field\": \"monthday\", \"title\": \" \"}, \"y\": {\"type\": \"quantitative\", \"axis\": {\"domainOpacity\": 0, \"format\": \"\", \"gridColor\": \"#dddddd\", \"gridWidth\": 0.6, \"offset\": 6, \"tickCount\": 4, \"tickSize\": 0}, \"field\": \"calls\", \"scale\": {\"domain\": [0, 1000]}, \"stack\": null, \"title\": \" \"}}, \"height\": 400, \"title\": \"All service calls to San Jose Police: 2020\", \"width\": 630, \"$schema\": \"https://vega.github.io/schema/vega-lite/v4.0.2.json\", \"datasets\": {\"data-a9f3e29273f418467faf5fb03aab3ada\": [{\"monthday\": \"01/01\", \"calls\": 829}, {\"monthday\": \"01/02\", \"calls\": 857}, {\"monthday\": \"01/03\", \"calls\": 901}, {\"monthday\": \"01/04\", \"calls\": 832}, {\"monthday\": \"01/05\", \"calls\": 757}, {\"monthday\": \"01/06\", \"calls\": 798}, {\"monthday\": \"01/07\", \"calls\": 979}, {\"monthday\": \"01/08\", \"calls\": 877}, {\"monthday\": \"01/09\", \"calls\": 893}, {\"monthday\": \"01/10\", \"calls\": 915}, {\"monthday\": \"01/11\", \"calls\": 761}, {\"monthday\": \"01/12\", \"calls\": 742}, {\"monthday\": \"01/13\", \"calls\": 762}, {\"monthday\": \"01/14\", \"calls\": 838}, {\"monthday\": \"01/15\", \"calls\": 835}, {\"monthday\": \"01/16\", \"calls\": 740}, {\"monthday\": \"01/17\", \"calls\": 893}, {\"monthday\": \"01/18\", \"calls\": 789}, {\"monthday\": \"01/19\", \"calls\": 856}, {\"monthday\": \"01/20\", \"calls\": 715}, {\"monthday\": \"01/21\", \"calls\": 831}, {\"monthday\": \"01/22\", \"calls\": 883}, {\"monthday\": \"01/23\", \"calls\": 836}, {\"monthday\": \"01/24\", \"calls\": 775}, {\"monthday\": \"01/25\", \"calls\": 982}, {\"monthday\": \"01/26\", \"calls\": 774}, {\"monthday\": \"01/27\", \"calls\": 776}, {\"monthday\": \"01/28\", \"calls\": 929}, {\"monthday\": \"01/29\", \"calls\": 854}, {\"monthday\": \"01/30\", \"calls\": 823}, {\"monthday\": \"01/31\", \"calls\": 1011}, {\"monthday\": \"02/01\", \"calls\": 838}, {\"monthday\": \"02/02\", \"calls\": 798}, {\"monthday\": \"02/03\", \"calls\": 759}, {\"monthday\": \"02/04\", \"calls\": 816}, {\"monthday\": \"02/05\", \"calls\": 872}, {\"monthday\": \"02/06\", \"calls\": 917}, {\"monthday\": \"02/07\", \"calls\": 884}, {\"monthday\": \"02/08\", \"calls\": 827}, {\"monthday\": \"02/09\", \"calls\": 944}, {\"monthday\": \"02/10\", \"calls\": 857}, {\"monthday\": \"02/11\", \"calls\": 945}, {\"monthday\": \"02/12\", \"calls\": 934}, {\"monthday\": \"02/13\", \"calls\": 887}, {\"monthday\": \"02/14\", \"calls\": 851}, {\"monthday\": \"02/15\", \"calls\": 879}, {\"monthday\": \"02/16\", \"calls\": 866}, {\"monthday\": \"02/17\", \"calls\": 763}, {\"monthday\": \"02/18\", \"calls\": 786}, {\"monthday\": \"02/19\", \"calls\": 870}, {\"monthday\": \"02/20\", \"calls\": 798}, {\"monthday\": \"02/21\", \"calls\": 875}, {\"monthday\": \"02/22\", \"calls\": 911}, {\"monthday\": \"02/23\", \"calls\": 894}, {\"monthday\": \"02/24\", \"calls\": 805}, {\"monthday\": \"02/25\", \"calls\": 857}, {\"monthday\": \"02/26\", \"calls\": 879}, {\"monthday\": \"02/27\", \"calls\": 866}, {\"monthday\": \"02/28\", \"calls\": 891}, {\"monthday\": \"02/29\", \"calls\": 819}, {\"monthday\": \"03/01\", \"calls\": 779}, {\"monthday\": \"03/02\", \"calls\": 762}, {\"monthday\": \"03/03\", \"calls\": 817}, {\"monthday\": \"03/04\", \"calls\": 925}, {\"monthday\": \"03/05\", \"calls\": 857}, {\"monthday\": \"03/06\", \"calls\": 951}, {\"monthday\": \"03/07\", \"calls\": 751}, {\"monthday\": \"03/08\", \"calls\": 795}, {\"monthday\": \"03/09\", \"calls\": 893}, {\"monthday\": \"03/10\", \"calls\": 889}, {\"monthday\": \"03/11\", \"calls\": 887}, {\"monthday\": \"03/12\", \"calls\": 866}, {\"monthday\": \"03/13\", \"calls\": 944}, {\"monthday\": \"03/14\", \"calls\": 831}, {\"monthday\": \"03/15\", \"calls\": 712}, {\"monthday\": \"03/16\", \"calls\": 799}, {\"monthday\": \"03/17\", \"calls\": 645}, {\"monthday\": \"03/18\", \"calls\": 616}, {\"monthday\": \"03/19\", \"calls\": 693}, {\"monthday\": \"03/20\", \"calls\": 853}, {\"monthday\": \"03/21\", \"calls\": 739}, {\"monthday\": \"03/22\", \"calls\": 693}, {\"monthday\": \"03/23\", \"calls\": 745}, {\"monthday\": \"03/24\", \"calls\": 673}, {\"monthday\": \"03/25\", \"calls\": 686}, {\"monthday\": \"03/26\", \"calls\": 677}, {\"monthday\": \"03/27\", \"calls\": 420}, {\"monthday\": \"03/28\", \"calls\": 665}, {\"monthday\": \"03/29\", \"calls\": 775}, {\"monthday\": \"03/30\", \"calls\": 776}, {\"monthday\": \"03/31\", \"calls\": 751}, {\"monthday\": \"04/01\", \"calls\": 727}, {\"monthday\": \"04/02\", \"calls\": 789}, {\"monthday\": \"04/03\", \"calls\": 788}, {\"monthday\": \"04/04\", \"calls\": 662}, {\"monthday\": \"04/05\", \"calls\": 603}, {\"monthday\": \"04/06\", \"calls\": 707}, {\"monthday\": \"04/07\", \"calls\": 760}, {\"monthday\": \"04/08\", \"calls\": 693}, {\"monthday\": \"04/09\", \"calls\": 720}, {\"monthday\": \"04/10\", \"calls\": 661}, {\"monthday\": \"04/11\", \"calls\": 751}, {\"monthday\": \"04/12\", \"calls\": 799}, {\"monthday\": \"04/13\", \"calls\": 826}, {\"monthday\": \"04/14\", \"calls\": 840}, {\"monthday\": \"04/15\", \"calls\": 730}, {\"monthday\": \"04/16\", \"calls\": 756}, {\"monthday\": \"04/17\", \"calls\": 806}, {\"monthday\": \"04/18\", \"calls\": 779}, {\"monthday\": \"04/19\", \"calls\": 758}, {\"monthday\": \"04/20\", \"calls\": 791}, {\"monthday\": \"04/21\", \"calls\": 774}, {\"monthday\": \"04/22\", \"calls\": 755}, {\"monthday\": \"04/23\", \"calls\": 758}, {\"monthday\": \"04/24\", \"calls\": 829}, {\"monthday\": \"04/25\", \"calls\": 853}, {\"monthday\": \"04/26\", \"calls\": 849}, {\"monthday\": \"04/27\", \"calls\": 820}, {\"monthday\": \"04/28\", \"calls\": 869}, {\"monthday\": \"04/29\", \"calls\": 825}, {\"monthday\": \"04/30\", \"calls\": 704}, {\"monthday\": \"05/01\", \"calls\": 801}, {\"monthday\": \"05/02\", \"calls\": 814}, {\"monthday\": \"05/03\", \"calls\": 833}, {\"monthday\": \"05/04\", \"calls\": 755}, {\"monthday\": \"05/05\", \"calls\": 890}, {\"monthday\": \"05/06\", \"calls\": 780}, {\"monthday\": \"05/07\", \"calls\": 756}, {\"monthday\": \"05/08\", \"calls\": 791}, {\"monthday\": \"05/09\", \"calls\": 925}, {\"monthday\": \"05/10\", \"calls\": 922}, {\"monthday\": \"05/11\", \"calls\": 797}, {\"monthday\": \"05/12\", \"calls\": 825}, {\"monthday\": \"05/13\", \"calls\": 758}, {\"monthday\": \"05/14\", \"calls\": 820}, {\"monthday\": \"05/15\", \"calls\": 830}, {\"monthday\": \"05/16\", \"calls\": 952}, {\"monthday\": \"05/17\", \"calls\": 763}, {\"monthday\": \"05/18\", \"calls\": 803}, {\"monthday\": \"05/19\", \"calls\": 829}, {\"monthday\": \"05/20\", \"calls\": 851}, {\"monthday\": \"05/21\", \"calls\": 826}, {\"monthday\": \"05/22\", \"calls\": 837}, {\"monthday\": \"05/23\", \"calls\": 933}, {\"monthday\": \"05/24\", \"calls\": 899}, {\"monthday\": \"05/25\", \"calls\": 833}, {\"monthday\": \"05/26\", \"calls\": 912}, {\"monthday\": \"05/27\", \"calls\": 880}, {\"monthday\": \"05/28\", \"calls\": 761}, {\"monthday\": \"05/29\", \"calls\": 764}, {\"monthday\": \"05/30\", \"calls\": 839}, {\"monthday\": \"05/31\", \"calls\": 735}, {\"monthday\": \"06/01\", \"calls\": 681}, {\"monthday\": \"06/02\", \"calls\": 732}, {\"monthday\": \"06/03\", \"calls\": 731}, {\"monthday\": \"06/04\", \"calls\": 701}, {\"monthday\": \"06/05\", \"calls\": 672}, {\"monthday\": \"06/06\", \"calls\": 761}, {\"monthday\": \"06/07\", \"calls\": 672}, {\"monthday\": \"06/08\", \"calls\": 738}, {\"monthday\": \"06/09\", \"calls\": 788}, {\"monthday\": \"06/10\", \"calls\": 854}, {\"monthday\": \"06/11\", \"calls\": 715}, {\"monthday\": \"06/12\", \"calls\": 754}, {\"monthday\": \"06/13\", \"calls\": 891}, {\"monthday\": \"06/14\", \"calls\": 835}, {\"monthday\": \"06/15\", \"calls\": 878}, {\"monthday\": \"06/16\", \"calls\": 799}, {\"monthday\": \"06/17\", \"calls\": 826}, {\"monthday\": \"06/18\", \"calls\": 791}, {\"monthday\": \"06/19\", \"calls\": 875}, {\"monthday\": \"06/20\", \"calls\": 955}, {\"monthday\": \"06/21\", \"calls\": 946}, {\"monthday\": \"06/22\", \"calls\": 876}]}}, {\"mode\": \"vega-lite\"});\n",
       "</script>"
      ],
      "text/plain": [
       "alt.Chart(...)"
      ]
     },
     "execution_count": 55,
     "metadata": {},
     "output_type": "execute_result"
    }
   ],
   "source": [
    "chart = alt.Chart((this_year_sj))\\\n",
    "    .mark_bar(size=2,opacity=1)\\\n",
    "    .encode(\n",
    "    x=alt.X('monthday:T', title=' ', axis=alt.Axis(grid=False, tickCount=6, format='%B')),\n",
    "    y=alt.Y('calls:Q', stack=None, title=' ', axis=alt.Axis(gridWidth=.6,\\\n",
    "     gridColor='#dddddd',offset=6,tickSize=0,domainOpacity=0,tickCount=4, format=''),\\\n",
    "           scale=alt.Scale(domain=(0, 1000)))\n",
    ").properties(width=630, height=400,\n",
    "     title='All service calls to San Jose Police: 2020'\n",
    ")\n",
    "\n",
    "chart.configure_view(strokeOpacity=0).configure_legend(\n",
    "    orient='top',\n",
    "    symbolType='stroke'\n",
    ").configure_legend(symbolType='square')"
   ]
  },
  {
   "cell_type": "code",
   "execution_count": 56,
   "metadata": {},
   "outputs": [
    {
     "data": {
      "text/html": [
       "<div>\n",
       "<style scoped>\n",
       "    .dataframe tbody tr th:only-of-type {\n",
       "        vertical-align: middle;\n",
       "    }\n",
       "\n",
       "    .dataframe tbody tr th {\n",
       "        vertical-align: top;\n",
       "    }\n",
       "\n",
       "    .dataframe thead th {\n",
       "        text-align: right;\n",
       "    }\n",
       "</style>\n",
       "<table border=\"1\" class=\"dataframe\">\n",
       "  <thead>\n",
       "    <tr style=\"text-align: right;\">\n",
       "      <th></th>\n",
       "      <th>cdts</th>\n",
       "      <th>eid</th>\n",
       "      <th>start_date</th>\n",
       "      <th>call_number</th>\n",
       "      <th>priority</th>\n",
       "      <th>report_date</th>\n",
       "      <th>offense_date</th>\n",
       "      <th>offense_time</th>\n",
       "      <th>calltype_code</th>\n",
       "      <th>call_type</th>\n",
       "      <th>final_dispo_code</th>\n",
       "      <th>final_dispo</th>\n",
       "      <th>common_place_name</th>\n",
       "      <th>address</th>\n",
       "      <th>city</th>\n",
       "      <th>state</th>\n",
       "      <th>date</th>\n",
       "      <th>time</th>\n",
       "      <th>monthday</th>\n",
       "      <th>year</th>\n",
       "    </tr>\n",
       "  </thead>\n",
       "  <tbody>\n",
       "    <tr>\n",
       "      <th>0</th>\n",
       "      <td>20200101002621PS</td>\n",
       "      <td>7981569</td>\n",
       "      <td>1/1/2020 12:00:00 AM</td>\n",
       "      <td>P200010004</td>\n",
       "      <td>2</td>\n",
       "      <td>1/1/2020 12:00:00 AM</td>\n",
       "      <td>1/1/2020 12:00:00 AM</td>\n",
       "      <td>00:03:08</td>\n",
       "      <td>1057</td>\n",
       "      <td>FIREARMS DISCHARGED</td>\n",
       "      <td>N</td>\n",
       "      <td>No report required; dispatch record only</td>\n",
       "      <td>NaN</td>\n",
       "      <td>[900]-[1000] FURLONG DR</td>\n",
       "      <td>San Jose</td>\n",
       "      <td>CA</td>\n",
       "      <td>2020-01-01</td>\n",
       "      <td>00:03:08</td>\n",
       "      <td>01/01</td>\n",
       "      <td>2020</td>\n",
       "    </tr>\n",
       "    <tr>\n",
       "      <th>1</th>\n",
       "      <td>20200101021606PS</td>\n",
       "      <td>7981674</td>\n",
       "      <td>1/1/2020 12:00:00 AM</td>\n",
       "      <td>P200010092</td>\n",
       "      <td>4</td>\n",
       "      <td>1/1/2020 12:00:00 AM</td>\n",
       "      <td>1/1/2020 12:00:00 AM</td>\n",
       "      <td>01:03:05</td>\n",
       "      <td>415</td>\n",
       "      <td>DISTURBANCE</td>\n",
       "      <td>CAN</td>\n",
       "      <td>Canceled</td>\n",
       "      <td>NaN</td>\n",
       "      <td>[0]-[100] PALM VALLEY BL</td>\n",
       "      <td>San Jose</td>\n",
       "      <td>CA</td>\n",
       "      <td>2020-01-01</td>\n",
       "      <td>01:03:05</td>\n",
       "      <td>01/01</td>\n",
       "      <td>2020</td>\n",
       "    </tr>\n",
       "    <tr>\n",
       "      <th>2</th>\n",
       "      <td>20200101021613PS</td>\n",
       "      <td>7981725</td>\n",
       "      <td>1/1/2020 12:00:00 AM</td>\n",
       "      <td>P200010134</td>\n",
       "      <td>5</td>\n",
       "      <td>1/1/2020 12:00:00 AM</td>\n",
       "      <td>1/1/2020 12:00:00 AM</td>\n",
       "      <td>01:50:32</td>\n",
       "      <td>647F</td>\n",
       "      <td>DRUNK IN PUBLIC</td>\n",
       "      <td>N</td>\n",
       "      <td>No report required; dispatch record only</td>\n",
       "      <td>NaN</td>\n",
       "      <td>S 1ST ST &amp; E SAN SALVADOR ST</td>\n",
       "      <td>San Jose</td>\n",
       "      <td>CA</td>\n",
       "      <td>2020-01-01</td>\n",
       "      <td>01:50:32</td>\n",
       "      <td>01/01</td>\n",
       "      <td>2020</td>\n",
       "    </tr>\n",
       "    <tr>\n",
       "      <th>3</th>\n",
       "      <td>20200101021628PS</td>\n",
       "      <td>7981722</td>\n",
       "      <td>1/1/2020 12:00:00 AM</td>\n",
       "      <td>P200010131</td>\n",
       "      <td>2</td>\n",
       "      <td>1/1/2020 12:00:00 AM</td>\n",
       "      <td>1/1/2020 12:00:00 AM</td>\n",
       "      <td>01:49:04</td>\n",
       "      <td>415A</td>\n",
       "      <td>DISTURBANCE, FIGHT</td>\n",
       "      <td>N</td>\n",
       "      <td>No report required; dispatch record only</td>\n",
       "      <td>NaN</td>\n",
       "      <td>NERDY AV &amp; CAS DR</td>\n",
       "      <td>San Jose</td>\n",
       "      <td>CA</td>\n",
       "      <td>2020-01-01</td>\n",
       "      <td>01:49:04</td>\n",
       "      <td>01/01</td>\n",
       "      <td>2020</td>\n",
       "    </tr>\n",
       "    <tr>\n",
       "      <th>4</th>\n",
       "      <td>20200101021642PS</td>\n",
       "      <td>7981640</td>\n",
       "      <td>1/1/2020 12:00:00 AM</td>\n",
       "      <td>P200010064</td>\n",
       "      <td>2</td>\n",
       "      <td>1/1/2020 12:00:00 AM</td>\n",
       "      <td>1/1/2020 12:00:00 AM</td>\n",
       "      <td>00:43:04</td>\n",
       "      <td>911UNK</td>\n",
       "      <td>UNK TYPE 911 CALL</td>\n",
       "      <td>N</td>\n",
       "      <td>No report required; dispatch record only</td>\n",
       "      <td>NaN</td>\n",
       "      <td>[0]-[100] MERIDIAN AV</td>\n",
       "      <td>San Jose</td>\n",
       "      <td>CA</td>\n",
       "      <td>2020-01-01</td>\n",
       "      <td>00:43:04</td>\n",
       "      <td>01/01</td>\n",
       "      <td>2020</td>\n",
       "    </tr>\n",
       "  </tbody>\n",
       "</table>\n",
       "</div>"
      ],
      "text/plain": [
       "               cdts      eid            start_date call_number  priority  \\\n",
       "0  20200101002621PS  7981569  1/1/2020 12:00:00 AM  P200010004         2   \n",
       "1  20200101021606PS  7981674  1/1/2020 12:00:00 AM  P200010092         4   \n",
       "2  20200101021613PS  7981725  1/1/2020 12:00:00 AM  P200010134         5   \n",
       "3  20200101021628PS  7981722  1/1/2020 12:00:00 AM  P200010131         2   \n",
       "4  20200101021642PS  7981640  1/1/2020 12:00:00 AM  P200010064         2   \n",
       "\n",
       "            report_date          offense_date offense_time calltype_code  \\\n",
       "0  1/1/2020 12:00:00 AM  1/1/2020 12:00:00 AM     00:03:08          1057   \n",
       "1  1/1/2020 12:00:00 AM  1/1/2020 12:00:00 AM     01:03:05           415   \n",
       "2  1/1/2020 12:00:00 AM  1/1/2020 12:00:00 AM     01:50:32          647F   \n",
       "3  1/1/2020 12:00:00 AM  1/1/2020 12:00:00 AM     01:49:04          415A   \n",
       "4  1/1/2020 12:00:00 AM  1/1/2020 12:00:00 AM     00:43:04        911UNK   \n",
       "\n",
       "             call_type final_dispo_code  \\\n",
       "0  FIREARMS DISCHARGED                N   \n",
       "1          DISTURBANCE              CAN   \n",
       "2      DRUNK IN PUBLIC                N   \n",
       "3   DISTURBANCE, FIGHT                N   \n",
       "4    UNK TYPE 911 CALL                N   \n",
       "\n",
       "                                final_dispo common_place_name  \\\n",
       "0  No report required; dispatch record only               NaN   \n",
       "1                                  Canceled               NaN   \n",
       "2  No report required; dispatch record only               NaN   \n",
       "3  No report required; dispatch record only               NaN   \n",
       "4  No report required; dispatch record only               NaN   \n",
       "\n",
       "                        address      city state       date      time monthday  \\\n",
       "0      [900]-[1000] FURLONG DR   San Jose    CA 2020-01-01  00:03:08    01/01   \n",
       "1     [0]-[100] PALM VALLEY BL   San Jose    CA 2020-01-01  01:03:05    01/01   \n",
       "2  S 1ST ST & E SAN SALVADOR ST  San Jose    CA 2020-01-01  01:50:32    01/01   \n",
       "3             NERDY AV & CAS DR  San Jose    CA 2020-01-01  01:49:04    01/01   \n",
       "4        [0]-[100] MERIDIAN AV   San Jose    CA 2020-01-01  00:43:04    01/01   \n",
       "\n",
       "   year  \n",
       "0  2020  \n",
       "1  2020  \n",
       "2  2020  \n",
       "3  2020  \n",
       "4  2020  "
      ]
     },
     "execution_count": 56,
     "metadata": {},
     "output_type": "execute_result"
    }
   ],
   "source": [
    "sj_df.head()"
   ]
  },
  {
   "cell_type": "code",
   "execution_count": null,
   "metadata": {},
   "outputs": [],
   "source": []
  },
  {
   "cell_type": "code",
   "execution_count": null,
   "metadata": {},
   "outputs": [],
   "source": []
  },
  {
   "cell_type": "code",
   "execution_count": null,
   "metadata": {},
   "outputs": [],
   "source": []
  },
  {
   "cell_type": "code",
   "execution_count": null,
   "metadata": {},
   "outputs": [],
   "source": []
  },
  {
   "cell_type": "code",
   "execution_count": null,
   "metadata": {},
   "outputs": [],
   "source": []
  },
  {
   "cell_type": "code",
   "execution_count": null,
   "metadata": {},
   "outputs": [],
   "source": []
  },
  {
   "cell_type": "code",
   "execution_count": null,
   "metadata": {},
   "outputs": [],
   "source": []
  }
 ],
 "metadata": {
  "kernelspec": {
   "display_name": "Python 3",
   "language": "python",
   "name": "python3"
  },
  "language_info": {
   "codemirror_mode": {
    "name": "ipython",
    "version": 3
   },
   "file_extension": ".py",
   "mimetype": "text/x-python",
   "name": "python",
   "nbconvert_exporter": "python",
   "pygments_lexer": "ipython3",
   "version": "3.7.4"
  }
 },
 "nbformat": 4,
 "nbformat_minor": 4
}
