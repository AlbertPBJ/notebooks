{
 "cells": [
  {
   "cell_type": "markdown",
   "metadata": {},
   "source": [
    "# Processing LAPD calls for service: 2010-2020"
   ]
  },
  {
   "cell_type": "markdown",
   "metadata": {},
   "source": [
    "### Load python tools"
   ]
  },
  {
   "cell_type": "code",
   "execution_count": 60,
   "metadata": {},
   "outputs": [
    {
     "data": {
      "text/plain": [
       "ThemeRegistry.enable('latimes')"
      ]
     },
     "execution_count": 60,
     "metadata": {},
     "output_type": "execute_result"
    }
   ],
   "source": [
    "import json\n",
    "import pandas as pd\n",
    "import matplotlib\n",
    "import numpy as np\n",
    "import altair as alt\n",
    "from altair import datum\n",
    "import altair_latimes as lat\n",
    "pd.options.display.max_columns = 50\n",
    "pd.options.display.max_rows = 500\n",
    "pd.set_option('display.max_colwidth', -1)\n",
    "alt.themes.register('latimes', lat.theme)\n",
    "alt.themes.enable('latimes')"
   ]
  },
  {
   "cell_type": "markdown",
   "metadata": {},
   "source": [
    "### Download latest data"
   ]
  },
  {
   "cell_type": "code",
   "execution_count": 2,
   "metadata": {},
   "outputs": [],
   "source": [
    "# %run 'download_calls.ipynb'"
   ]
  },
  {
   "cell_type": "markdown",
   "metadata": {},
   "source": [
    "### Read the LAPD calls data"
   ]
  },
  {
   "cell_type": "code",
   "execution_count": 3,
   "metadata": {},
   "outputs": [],
   "source": [
    "df = pd.read_csv('/Users/mhustiles/data/data/LA/calls/2010-2020.csv', low_memory=False)"
   ]
  },
  {
   "cell_type": "code",
   "execution_count": 4,
   "metadata": {},
   "outputs": [
    {
     "data": {
      "text/html": [
       "<div>\n",
       "<style scoped>\n",
       "    .dataframe tbody tr th:only-of-type {\n",
       "        vertical-align: middle;\n",
       "    }\n",
       "\n",
       "    .dataframe tbody tr th {\n",
       "        vertical-align: top;\n",
       "    }\n",
       "\n",
       "    .dataframe thead th {\n",
       "        text-align: right;\n",
       "    }\n",
       "</style>\n",
       "<table border=\"1\" class=\"dataframe\">\n",
       "  <thead>\n",
       "    <tr style=\"text-align: right;\">\n",
       "      <th></th>\n",
       "      <th>incident_number</th>\n",
       "      <th>reporting_district</th>\n",
       "      <th>area_occurred</th>\n",
       "      <th>dispatch_date</th>\n",
       "      <th>dispatch_time</th>\n",
       "      <th>call_type_code</th>\n",
       "      <th>call_type_description</th>\n",
       "      <th>date</th>\n",
       "      <th>time</th>\n",
       "    </tr>\n",
       "  </thead>\n",
       "  <tbody>\n",
       "    <tr>\n",
       "      <td>0</td>\n",
       "      <td>PD20012600002716</td>\n",
       "      <td>Rampart</td>\n",
       "      <td>0245</td>\n",
       "      <td>2020-01-26</td>\n",
       "      <td>2020-06-23 14:37:04</td>\n",
       "      <td>211S</td>\n",
       "      <td>SUSP</td>\n",
       "      <td>2020-01-26</td>\n",
       "      <td>14:37:04</td>\n",
       "    </tr>\n",
       "    <tr>\n",
       "      <td>1</td>\n",
       "      <td>PD20011400005678</td>\n",
       "      <td>Outside</td>\n",
       "      <td>NaN</td>\n",
       "      <td>2020-01-14</td>\n",
       "      <td>2020-06-23 23:26:20</td>\n",
       "      <td>006</td>\n",
       "      <td>CODE 6</td>\n",
       "      <td>2020-01-14</td>\n",
       "      <td>23:26:20</td>\n",
       "    </tr>\n",
       "    <tr>\n",
       "      <td>2</td>\n",
       "      <td>PD20011100005314</td>\n",
       "      <td>Outside</td>\n",
       "      <td>NaN</td>\n",
       "      <td>2020-01-11</td>\n",
       "      <td>2020-06-23 23:32:40</td>\n",
       "      <td>006</td>\n",
       "      <td>CODE 6</td>\n",
       "      <td>2020-01-11</td>\n",
       "      <td>23:32:40</td>\n",
       "    </tr>\n",
       "    <tr>\n",
       "      <td>3</td>\n",
       "      <td>PD20010100005220</td>\n",
       "      <td>Southwest</td>\n",
       "      <td>0328</td>\n",
       "      <td>2020-01-01</td>\n",
       "      <td>2020-06-23 22:34:29</td>\n",
       "      <td>245SN</td>\n",
       "      <td>SUSP NOW</td>\n",
       "      <td>2020-01-01</td>\n",
       "      <td>22:34:29</td>\n",
       "    </tr>\n",
       "    <tr>\n",
       "      <td>4</td>\n",
       "      <td>PD20010500000660</td>\n",
       "      <td>Hollywood</td>\n",
       "      <td>0636</td>\n",
       "      <td>2020-01-05</td>\n",
       "      <td>2020-06-23 04:04:42</td>\n",
       "      <td>907PA2</td>\n",
       "      <td>POSS AMB O/D</td>\n",
       "      <td>2020-01-05</td>\n",
       "      <td>04:04:42</td>\n",
       "    </tr>\n",
       "  </tbody>\n",
       "</table>\n",
       "</div>"
      ],
      "text/plain": [
       "    incident_number reporting_district area_occurred dispatch_date  \\\n",
       "0  PD20012600002716  Rampart            0245          2020-01-26     \n",
       "1  PD20011400005678  Outside            NaN           2020-01-14     \n",
       "2  PD20011100005314  Outside            NaN           2020-01-11     \n",
       "3  PD20010100005220  Southwest          0328          2020-01-01     \n",
       "4  PD20010500000660  Hollywood          0636          2020-01-05     \n",
       "\n",
       "         dispatch_time call_type_code call_type_description        date  \\\n",
       "0  2020-06-23 14:37:04  211S           SUSP                  2020-01-26   \n",
       "1  2020-06-23 23:26:20  006            CODE 6                2020-01-14   \n",
       "2  2020-06-23 23:32:40  006            CODE 6                2020-01-11   \n",
       "3  2020-06-23 22:34:29  245SN          SUSP NOW              2020-01-01   \n",
       "4  2020-06-23 04:04:42  907PA2         POSS AMB O/D          2020-01-05   \n",
       "\n",
       "       time  \n",
       "0  14:37:04  \n",
       "1  23:26:20  \n",
       "2  23:32:40  \n",
       "3  22:34:29  \n",
       "4  04:04:42  "
      ]
     },
     "execution_count": 4,
     "metadata": {},
     "output_type": "execute_result"
    }
   ],
   "source": [
    "df.head()"
   ]
  },
  {
   "cell_type": "code",
   "execution_count": 5,
   "metadata": {},
   "outputs": [],
   "source": [
    "df['date'] = pd.to_datetime(df['dispatch_date'])\n",
    "df['time'] = pd.to_datetime(df['dispatch_date'])"
   ]
  },
  {
   "cell_type": "code",
   "execution_count": 6,
   "metadata": {},
   "outputs": [],
   "source": [
    "df['dispatch_date'] = pd.to_datetime(df['dispatch_date'])\n",
    "df['dispatch_time'] = pd.to_datetime(df['dispatch_time'])\n",
    "df['date'] = df['dispatch_date'].dt.date\n",
    "df['time'] = df['dispatch_time'].dt.time\n",
    "df['month'] = df['dispatch_date'].dt.month\n",
    "df['day'] = df['dispatch_date'].dt.day"
   ]
  },
  {
   "cell_type": "code",
   "execution_count": 7,
   "metadata": {},
   "outputs": [],
   "source": [
    "df['monthday'] = df['dispatch_date'].dt.strftime('%m/%d')\n",
    "df['year'] = df['dispatch_date'].dt.strftime('%Y')"
   ]
  },
  {
   "cell_type": "code",
   "execution_count": 8,
   "metadata": {},
   "outputs": [],
   "source": [
    "df = df.drop(['dispatch_time', 'dispatch_date', 'call_type_description'], axis=1)"
   ]
  },
  {
   "cell_type": "code",
   "execution_count": 9,
   "metadata": {},
   "outputs": [],
   "source": [
    "calls = df.copy()"
   ]
  },
  {
   "cell_type": "markdown",
   "metadata": {},
   "source": [
    "---"
   ]
  },
  {
   "cell_type": "code",
   "execution_count": 10,
   "metadata": {},
   "outputs": [
    {
     "data": {
      "text/html": [
       "<div>\n",
       "<style scoped>\n",
       "    .dataframe tbody tr th:only-of-type {\n",
       "        vertical-align: middle;\n",
       "    }\n",
       "\n",
       "    .dataframe tbody tr th {\n",
       "        vertical-align: top;\n",
       "    }\n",
       "\n",
       "    .dataframe thead th {\n",
       "        text-align: right;\n",
       "    }\n",
       "</style>\n",
       "<table border=\"1\" class=\"dataframe\">\n",
       "  <thead>\n",
       "    <tr style=\"text-align: right;\">\n",
       "      <th></th>\n",
       "      <th>incident_number</th>\n",
       "      <th>reporting_district</th>\n",
       "      <th>area_occurred</th>\n",
       "      <th>call_type_code</th>\n",
       "      <th>date</th>\n",
       "      <th>time</th>\n",
       "      <th>month</th>\n",
       "      <th>day</th>\n",
       "      <th>monthday</th>\n",
       "      <th>year</th>\n",
       "    </tr>\n",
       "  </thead>\n",
       "  <tbody>\n",
       "    <tr>\n",
       "      <td>0</td>\n",
       "      <td>PD20012600002716</td>\n",
       "      <td>Rampart</td>\n",
       "      <td>0245</td>\n",
       "      <td>211S</td>\n",
       "      <td>2020-01-26</td>\n",
       "      <td>14:37:04</td>\n",
       "      <td>1</td>\n",
       "      <td>26</td>\n",
       "      <td>01/26</td>\n",
       "      <td>2020</td>\n",
       "    </tr>\n",
       "    <tr>\n",
       "      <td>1</td>\n",
       "      <td>PD20011400005678</td>\n",
       "      <td>Outside</td>\n",
       "      <td>NaN</td>\n",
       "      <td>006</td>\n",
       "      <td>2020-01-14</td>\n",
       "      <td>23:26:20</td>\n",
       "      <td>1</td>\n",
       "      <td>14</td>\n",
       "      <td>01/14</td>\n",
       "      <td>2020</td>\n",
       "    </tr>\n",
       "    <tr>\n",
       "      <td>2</td>\n",
       "      <td>PD20011100005314</td>\n",
       "      <td>Outside</td>\n",
       "      <td>NaN</td>\n",
       "      <td>006</td>\n",
       "      <td>2020-01-11</td>\n",
       "      <td>23:32:40</td>\n",
       "      <td>1</td>\n",
       "      <td>11</td>\n",
       "      <td>01/11</td>\n",
       "      <td>2020</td>\n",
       "    </tr>\n",
       "    <tr>\n",
       "      <td>3</td>\n",
       "      <td>PD20010100005220</td>\n",
       "      <td>Southwest</td>\n",
       "      <td>0328</td>\n",
       "      <td>245SN</td>\n",
       "      <td>2020-01-01</td>\n",
       "      <td>22:34:29</td>\n",
       "      <td>1</td>\n",
       "      <td>1</td>\n",
       "      <td>01/01</td>\n",
       "      <td>2020</td>\n",
       "    </tr>\n",
       "    <tr>\n",
       "      <td>4</td>\n",
       "      <td>PD20010500000660</td>\n",
       "      <td>Hollywood</td>\n",
       "      <td>0636</td>\n",
       "      <td>907PA2</td>\n",
       "      <td>2020-01-05</td>\n",
       "      <td>04:04:42</td>\n",
       "      <td>1</td>\n",
       "      <td>5</td>\n",
       "      <td>01/05</td>\n",
       "      <td>2020</td>\n",
       "    </tr>\n",
       "  </tbody>\n",
       "</table>\n",
       "</div>"
      ],
      "text/plain": [
       "    incident_number reporting_district area_occurred call_type_code  \\\n",
       "0  PD20012600002716  Rampart            0245          211S            \n",
       "1  PD20011400005678  Outside            NaN           006             \n",
       "2  PD20011100005314  Outside            NaN           006             \n",
       "3  PD20010100005220  Southwest          0328          245SN           \n",
       "4  PD20010500000660  Hollywood          0636          907PA2          \n",
       "\n",
       "         date      time  month  day monthday  year  \n",
       "0  2020-01-26  14:37:04  1      26   01/26    2020  \n",
       "1  2020-01-14  23:26:20  1      14   01/14    2020  \n",
       "2  2020-01-11  23:32:40  1      11   01/11    2020  \n",
       "3  2020-01-01  22:34:29  1      1    01/01    2020  \n",
       "4  2020-01-05  04:04:42  1      5    01/05    2020  "
      ]
     },
     "execution_count": 10,
     "metadata": {},
     "output_type": "execute_result"
    }
   ],
   "source": [
    "calls.head()"
   ]
  },
  {
   "cell_type": "code",
   "execution_count": 11,
   "metadata": {},
   "outputs": [],
   "source": [
    "this_year = calls[calls['year'] == '2020'].groupby(['monthday']).agg('size').reset_index(name='calls')"
   ]
  },
  {
   "cell_type": "code",
   "execution_count": 12,
   "metadata": {},
   "outputs": [
    {
     "data": {
      "text/html": [
       "<div>\n",
       "<style scoped>\n",
       "    .dataframe tbody tr th:only-of-type {\n",
       "        vertical-align: middle;\n",
       "    }\n",
       "\n",
       "    .dataframe tbody tr th {\n",
       "        vertical-align: top;\n",
       "    }\n",
       "\n",
       "    .dataframe thead th {\n",
       "        text-align: right;\n",
       "    }\n",
       "</style>\n",
       "<table border=\"1\" class=\"dataframe\">\n",
       "  <thead>\n",
       "    <tr style=\"text-align: right;\">\n",
       "      <th></th>\n",
       "      <th>monthday</th>\n",
       "      <th>calls</th>\n",
       "    </tr>\n",
       "  </thead>\n",
       "  <tbody>\n",
       "    <tr>\n",
       "      <td>0</td>\n",
       "      <td>01/01</td>\n",
       "      <td>4686</td>\n",
       "    </tr>\n",
       "    <tr>\n",
       "      <td>1</td>\n",
       "      <td>01/02</td>\n",
       "      <td>5220</td>\n",
       "    </tr>\n",
       "    <tr>\n",
       "      <td>2</td>\n",
       "      <td>01/03</td>\n",
       "      <td>5117</td>\n",
       "    </tr>\n",
       "    <tr>\n",
       "      <td>3</td>\n",
       "      <td>01/04</td>\n",
       "      <td>5019</td>\n",
       "    </tr>\n",
       "    <tr>\n",
       "      <td>4</td>\n",
       "      <td>01/05</td>\n",
       "      <td>4427</td>\n",
       "    </tr>\n",
       "  </tbody>\n",
       "</table>\n",
       "</div>"
      ],
      "text/plain": [
       "  monthday  calls\n",
       "0  01/01    4686 \n",
       "1  01/02    5220 \n",
       "2  01/03    5117 \n",
       "3  01/04    5019 \n",
       "4  01/05    4427 "
      ]
     },
     "execution_count": 12,
     "metadata": {},
     "output_type": "execute_result"
    }
   ],
   "source": [
    "this_year.head()"
   ]
  },
  {
   "cell_type": "code",
   "execution_count": 57,
   "metadata": {},
   "outputs": [
    {
     "data": {
      "text/html": [
       "\n",
       "<div id=\"altair-viz-bca4819b87aa44ceba03cf22e3570cf6\"></div>\n",
       "<script type=\"text/javascript\">\n",
       "  (function(spec, embedOpt){\n",
       "    const outputDiv = document.getElementById(\"altair-viz-bca4819b87aa44ceba03cf22e3570cf6\");\n",
       "    const paths = {\n",
       "      \"vega\": \"https://cdn.jsdelivr.net/npm//vega@5?noext\",\n",
       "      \"vega-lib\": \"https://cdn.jsdelivr.net/npm//vega-lib?noext\",\n",
       "      \"vega-lite\": \"https://cdn.jsdelivr.net/npm//vega-lite@4.0.2?noext\",\n",
       "      \"vega-embed\": \"https://cdn.jsdelivr.net/npm//vega-embed@6?noext\",\n",
       "    };\n",
       "\n",
       "    function loadScript(lib) {\n",
       "      return new Promise(function(resolve, reject) {\n",
       "        var s = document.createElement('script');\n",
       "        s.src = paths[lib];\n",
       "        s.async = true;\n",
       "        s.onload = () => resolve(paths[lib]);\n",
       "        s.onerror = () => reject(`Error loading script: ${paths[lib]}`);\n",
       "        document.getElementsByTagName(\"head\")[0].appendChild(s);\n",
       "      });\n",
       "    }\n",
       "\n",
       "    function showError(err) {\n",
       "      outputDiv.innerHTML = `<div class=\"error\" style=\"color:red;\">${err}</div>`;\n",
       "      throw err;\n",
       "    }\n",
       "\n",
       "    function displayChart(vegaEmbed) {\n",
       "      vegaEmbed(outputDiv, spec, embedOpt)\n",
       "        .catch(err => showError(`Javascript Error: ${err.message}<br>This usually means there's a typo in your chart specification. See the javascript console for the full traceback.`));\n",
       "    }\n",
       "\n",
       "    if(typeof define === \"function\" && define.amd) {\n",
       "      requirejs.config({paths});\n",
       "      require([\"vega-embed\"], displayChart, err => showError(`Error loading script: ${err.message}`));\n",
       "    } else if (typeof vegaEmbed === \"function\") {\n",
       "      displayChart(vegaEmbed);\n",
       "    } else {\n",
       "      loadScript(\"vega\")\n",
       "        .then(() => loadScript(\"vega-lite\"))\n",
       "        .then(() => loadScript(\"vega-embed\"))\n",
       "        .catch(showError)\n",
       "        .then(() => displayChart(vegaEmbed));\n",
       "    }\n",
       "  })({\"config\": {\"view\": {\"width\": 800, \"height\": 450, \"strokeOpacity\": 0}, \"background\": \"#ffffff\", \"title\": {\"anchor\": \"start\", \"font\": \"Benton Gothic Bold, sans\", \"fontColor\": \"#000000\", \"fontSize\": 22, \"fontWeight\": \"normal\"}, \"arc\": {\"fill\": \"#82c6df\"}, \"area\": {\"fill\": \"#82c6df\"}, \"line\": {\"stroke\": \"#82c6df\", \"strokeWidth\": 3}, \"path\": {\"stroke\": \"#82c6df\"}, \"rect\": {\"fill\": \"#82c6df\"}, \"shape\": {\"stroke\": \"#82c6df\"}, \"bar\": {\"fill\": \"#82c6df\"}, \"point\": {\"stroke\": \"#82c6df\"}, \"symbol\": {\"fill\": \"#82c6df\", \"size\": 30}, \"axis\": {\"titleFont\": \"Benton Gothic Bold, sans\", \"titleFontSize\": 13, \"titleFontWeight\": \"normal\", \"labelFont\": \"Benton Gothic, sans\", \"labelFontSize\": 11.5, \"labelFontWeight\": \"normal\"}, \"axisX\": {\"labelAngle\": 0, \"labelPadding\": 4, \"tickSize\": 3}, \"axisY\": {\"labelBaseline\": \"middle\", \"maxExtent\": 45, \"minExtent\": 45, \"tickSize\": 2, \"titleAlign\": \"left\", \"titleAngle\": 0, \"titleX\": -45, \"titleY\": -11}, \"legend\": {\"titleFont\": \"Benton Gothic Bold, sans\", \"titleFontSize\": 13, \"titleFontWeight\": \"normal\", \"symbolType\": \"square\", \"labelFont\": \"Benton Gothic, sans\", \"labelFontSize\": 11.5}, \"range\": {\"category\": [\"#3580b1\", \"#ec8431\", \"#ab7fb4\", \"#c89d29\", \"#adc839\", \"#829eb1\"], \"diverging\": [\"#e68a4f\", \"#f4bb6a\", \"#f9e39c\", \"#dadfe2\", \"#a6b7c6\", \"#849eae\"], \"heatmap\": [\"#fbf2c7\", \"#f9e39c\", \"#f8d36e\", \"#f4bb6a\", \"#e68a4f\", \"#d15a40\", \"#ab4232\"], \"ordinal\": [\"#fbf2c7\", \"#f9e39c\", \"#f8d36e\", \"#f4bb6a\", \"#e68a4f\", \"#d15a40\", \"#ab4232\"], \"ramp\": [\"#fbf2c7\", \"#f9e39c\", \"#f8d36e\", \"#f4bb6a\", \"#e68a4f\", \"#d15a40\", \"#ab4232\"]}}, \"data\": {\"name\": \"data-68e62cee65992b7352bac3bb65c75650\"}, \"mark\": {\"type\": \"area\", \"opacity\": 1, \"size\": 3}, \"encoding\": {\"x\": {\"type\": \"temporal\", \"axis\": {\"format\": \"%B\", \"grid\": false, \"tickCount\": 6}, \"field\": \"monthday\", \"title\": \" \"}, \"y\": {\"type\": \"quantitative\", \"axis\": {\"domainOpacity\": 0, \"format\": \"\", \"gridColor\": \"#dddddd\", \"gridWidth\": 0.6, \"offset\": 6, \"tickCount\": 4, \"tickSize\": 0}, \"field\": \"calls\", \"scale\": {\"domain\": [0, 6000]}, \"stack\": null, \"title\": \" \"}}, \"height\": 300, \"title\": \"All service calls to LAPD: 2020\", \"width\": 500, \"$schema\": \"https://vega.github.io/schema/vega-lite/v4.0.2.json\", \"datasets\": {\"data-68e62cee65992b7352bac3bb65c75650\": [{\"monthday\": \"01/01\", \"calls\": 4686}, {\"monthday\": \"01/02\", \"calls\": 5220}, {\"monthday\": \"01/03\", \"calls\": 5117}, {\"monthday\": \"01/04\", \"calls\": 5019}, {\"monthday\": \"01/05\", \"calls\": 4427}, {\"monthday\": \"01/06\", \"calls\": 4826}, {\"monthday\": \"01/07\", \"calls\": 5022}, {\"monthday\": \"01/08\", \"calls\": 5112}, {\"monthday\": \"01/09\", \"calls\": 5077}, {\"monthday\": \"01/10\", \"calls\": 4885}, {\"monthday\": \"01/11\", \"calls\": 4573}, {\"monthday\": \"01/12\", \"calls\": 4252}, {\"monthday\": \"01/13\", \"calls\": 4748}, {\"monthday\": \"01/14\", \"calls\": 4752}, {\"monthday\": \"01/15\", \"calls\": 5388}, {\"monthday\": \"01/16\", \"calls\": 4850}, {\"monthday\": \"01/17\", \"calls\": 5209}, {\"monthday\": \"01/18\", \"calls\": 4613}, {\"monthday\": \"01/19\", \"calls\": 4832}, {\"monthday\": \"01/20\", \"calls\": 4606}, {\"monthday\": \"01/21\", \"calls\": 5515}, {\"monthday\": \"01/22\", \"calls\": 5714}, {\"monthday\": \"01/23\", \"calls\": 5489}, {\"monthday\": \"01/24\", \"calls\": 5461}, {\"monthday\": \"01/25\", \"calls\": 5323}, {\"monthday\": \"01/26\", \"calls\": 4811}, {\"monthday\": \"01/27\", \"calls\": 4801}, {\"monthday\": \"01/28\", \"calls\": 5314}, {\"monthday\": \"01/29\", \"calls\": 5387}, {\"monthday\": \"01/30\", \"calls\": 5450}, {\"monthday\": \"01/31\", \"calls\": 5491}, {\"monthday\": \"02/01\", \"calls\": 4905}, {\"monthday\": \"02/02\", \"calls\": 4702}, {\"monthday\": \"02/03\", \"calls\": 4992}, {\"monthday\": \"02/04\", \"calls\": 5232}, {\"monthday\": \"02/05\", \"calls\": 5373}, {\"monthday\": \"02/06\", \"calls\": 5461}, {\"monthday\": \"02/07\", \"calls\": 5526}, {\"monthday\": \"02/08\", \"calls\": 4820}, {\"monthday\": \"02/09\", \"calls\": 4418}, {\"monthday\": \"02/10\", \"calls\": 5112}, {\"monthday\": \"02/11\", \"calls\": 5374}, {\"monthday\": \"02/12\", \"calls\": 5550}, {\"monthday\": \"02/13\", \"calls\": 5464}, {\"monthday\": \"02/14\", \"calls\": 5121}, {\"monthday\": \"02/15\", \"calls\": 4783}, {\"monthday\": \"02/16\", \"calls\": 4594}, {\"monthday\": \"02/17\", \"calls\": 4671}, {\"monthday\": \"02/18\", \"calls\": 5058}, {\"monthday\": \"02/19\", \"calls\": 5777}, {\"monthday\": \"02/20\", \"calls\": 5529}, {\"monthday\": \"02/21\", \"calls\": 5232}, {\"monthday\": \"02/22\", \"calls\": 4680}, {\"monthday\": \"02/23\", \"calls\": 4920}, {\"monthday\": \"02/24\", \"calls\": 6724}, {\"monthday\": \"02/25\", \"calls\": 5984}, {\"monthday\": \"02/26\", \"calls\": 5398}, {\"monthday\": \"02/27\", \"calls\": 5569}, {\"monthday\": \"02/28\", \"calls\": 5392}, {\"monthday\": \"02/29\", \"calls\": 5130}, {\"monthday\": \"03/01\", \"calls\": 4727}, {\"monthday\": \"03/02\", \"calls\": 5124}, {\"monthday\": \"03/03\", \"calls\": 5234}, {\"monthday\": \"03/04\", \"calls\": 5415}, {\"monthday\": \"03/05\", \"calls\": 5587}, {\"monthday\": \"03/06\", \"calls\": 4897}, {\"monthday\": \"03/07\", \"calls\": 4990}, {\"monthday\": \"03/08\", \"calls\": 4759}, {\"monthday\": \"03/09\", \"calls\": 5021}, {\"monthday\": \"03/10\", \"calls\": 4552}, {\"monthday\": \"03/11\", \"calls\": 5408}, {\"monthday\": \"03/12\", \"calls\": 4283}, {\"monthday\": \"03/13\", \"calls\": 4363}, {\"monthday\": \"03/14\", \"calls\": 4394}, {\"monthday\": \"03/15\", \"calls\": 4531}, {\"monthday\": \"03/16\", \"calls\": 4327}, {\"monthday\": \"03/17\", \"calls\": 6015}, {\"monthday\": \"03/18\", \"calls\": 5783}, {\"monthday\": \"03/19\", \"calls\": 5243}, {\"monthday\": \"03/20\", \"calls\": 5006}, {\"monthday\": \"03/21\", \"calls\": 4717}, {\"monthday\": \"03/22\", \"calls\": 3858}, {\"monthday\": \"03/23\", \"calls\": 5001}, {\"monthday\": \"03/24\", \"calls\": 5224}, {\"monthday\": \"03/25\", \"calls\": 5269}, {\"monthday\": \"03/26\", \"calls\": 5028}, {\"monthday\": \"03/27\", \"calls\": 4724}, {\"monthday\": \"03/28\", \"calls\": 4621}, {\"monthday\": \"03/29\", \"calls\": 4248}, {\"monthday\": \"03/30\", \"calls\": 4413}, {\"monthday\": \"03/31\", \"calls\": 5719}, {\"monthday\": \"04/01\", \"calls\": 5435}, {\"monthday\": \"04/02\", \"calls\": 5371}, {\"monthday\": \"04/03\", \"calls\": 4732}, {\"monthday\": \"04/04\", \"calls\": 4374}, {\"monthday\": \"04/05\", \"calls\": 3999}, {\"monthday\": \"04/06\", \"calls\": 4367}, {\"monthday\": \"04/07\", \"calls\": 4745}, {\"monthday\": \"04/08\", \"calls\": 5068}, {\"monthday\": \"04/09\", \"calls\": 3963}, {\"monthday\": \"04/10\", \"calls\": 4735}, {\"monthday\": \"04/11\", \"calls\": 4426}, {\"monthday\": \"04/12\", \"calls\": 4433}, {\"monthday\": \"04/13\", \"calls\": 4869}, {\"monthday\": \"04/14\", \"calls\": 5640}, {\"monthday\": \"04/15\", \"calls\": 5756}, {\"monthday\": \"04/16\", \"calls\": 5500}, {\"monthday\": \"04/17\", \"calls\": 5591}, {\"monthday\": \"04/18\", \"calls\": 5344}, {\"monthday\": \"04/19\", \"calls\": 4947}, {\"monthday\": \"04/20\", \"calls\": 5218}, {\"monthday\": \"04/21\", \"calls\": 5600}, {\"monthday\": \"04/22\", \"calls\": 5545}, {\"monthday\": \"04/23\", \"calls\": 5674}, {\"monthday\": \"04/24\", \"calls\": 5625}, {\"monthday\": \"04/25\", \"calls\": 5449}, {\"monthday\": \"04/26\", \"calls\": 5104}, {\"monthday\": \"04/27\", \"calls\": 5376}, {\"monthday\": \"04/28\", \"calls\": 5701}, {\"monthday\": \"04/29\", \"calls\": 5785}, {\"monthday\": \"04/30\", \"calls\": 5931}, {\"monthday\": \"05/01\", \"calls\": 5757}, {\"monthday\": \"05/02\", \"calls\": 5596}, {\"monthday\": \"05/03\", \"calls\": 5139}, {\"monthday\": \"05/04\", \"calls\": 5386}, {\"monthday\": \"05/05\", \"calls\": 6151}, {\"monthday\": \"05/06\", \"calls\": 6021}, {\"monthday\": \"05/07\", \"calls\": 5884}, {\"monthday\": \"05/08\", \"calls\": 5685}, {\"monthday\": \"05/09\", \"calls\": 5348}, {\"monthday\": \"05/10\", \"calls\": 4616}, {\"monthday\": \"05/11\", \"calls\": 5213}, {\"monthday\": \"05/12\", \"calls\": 6077}, {\"monthday\": \"05/13\", \"calls\": 5899}, {\"monthday\": \"05/14\", \"calls\": 5844}, {\"monthday\": \"05/15\", \"calls\": 5974}, {\"monthday\": \"05/16\", \"calls\": 5177}, {\"monthday\": \"05/17\", \"calls\": 5129}, {\"monthday\": \"05/18\", \"calls\": 5193}, {\"monthday\": \"05/19\", \"calls\": 5668}, {\"monthday\": \"05/20\", \"calls\": 6070}, {\"monthday\": \"05/21\", \"calls\": 5254}, {\"monthday\": \"05/22\", \"calls\": 5567}, {\"monthday\": \"05/23\", \"calls\": 5972}, {\"monthday\": \"05/24\", \"calls\": 5945}, {\"monthday\": \"05/25\", \"calls\": 5679}, {\"monthday\": \"05/26\", \"calls\": 5548}, {\"monthday\": \"05/27\", \"calls\": 4810}, {\"monthday\": \"05/28\", \"calls\": 5028}, {\"monthday\": \"05/29\", \"calls\": 4128}, {\"monthday\": \"05/30\", \"calls\": 2435}, {\"monthday\": \"05/31\", \"calls\": 2611}, {\"monthday\": \"06/01\", \"calls\": 2702}, {\"monthday\": \"06/02\", \"calls\": 2618}, {\"monthday\": \"06/03\", \"calls\": 2463}, {\"monthday\": \"06/04\", \"calls\": 2485}, {\"monthday\": \"06/05\", \"calls\": 2761}, {\"monthday\": \"06/06\", \"calls\": 2594}, {\"monthday\": \"06/07\", \"calls\": 2830}, {\"monthday\": \"06/08\", \"calls\": 2977}, {\"monthday\": \"06/09\", \"calls\": 3051}, {\"monthday\": \"06/10\", \"calls\": 3743}, {\"monthday\": \"06/11\", \"calls\": 4063}, {\"monthday\": \"06/12\", \"calls\": 4076}, {\"monthday\": \"06/13\", \"calls\": 4082}, {\"monthday\": \"06/14\", \"calls\": 3881}, {\"monthday\": \"06/15\", \"calls\": 4178}, {\"monthday\": \"06/16\", \"calls\": 4617}, {\"monthday\": \"06/17\", \"calls\": 4583}, {\"monthday\": \"06/18\", \"calls\": 4659}, {\"monthday\": \"06/19\", \"calls\": 4522}, {\"monthday\": \"06/20\", \"calls\": 4539}]}}, {\"mode\": \"vega-lite\"});\n",
       "</script>"
      ],
      "text/plain": [
       "alt.Chart(...)"
      ]
     },
     "execution_count": 57,
     "metadata": {},
     "output_type": "execute_result"
    }
   ],
   "source": [
    "chart = alt.Chart((this_year))\\\n",
    "    .mark_area(size=3,opacity=1)\\\n",
    "    .encode(\n",
    "    x=alt.X('monthday:T', title=' ', axis=alt.Axis(grid=False, tickCount=6, format='%B')),\n",
    "    y=alt.Y('calls:Q', stack=None, title=' ', axis=alt.Axis(gridWidth=.6,\\\n",
    "     gridColor='#dddddd',offset=6,tickSize=0,domainOpacity=0,tickCount=4, format=''),\\\n",
    "           scale=alt.Scale(domain=(0, 6000)))\n",
    ").properties(width=500, height=300,\n",
    "     title='All service calls to LAPD: 2020'\n",
    ")\n",
    "\n",
    "chart.configure_view(strokeOpacity=0).configure_legend(\n",
    "    orient='top',\n",
    "    symbolType='stroke'\n",
    ").configure_legend(symbolType='square')"
   ]
  },
  {
   "cell_type": "markdown",
   "metadata": {},
   "source": [
    "### Which cases are related to fireworks?"
   ]
  },
  {
   "cell_type": "code",
   "execution_count": 14,
   "metadata": {},
   "outputs": [],
   "source": [
    "fireworks = pd.DataFrame(df[df['call_type_code'] == '507F'])"
   ]
  },
  {
   "cell_type": "code",
   "execution_count": 15,
   "metadata": {},
   "outputs": [],
   "source": [
    "daily = fireworks[fireworks['year'] != '2020'].groupby(['monthday']).agg('size').reset_index(name='average')"
   ]
  },
  {
   "cell_type": "code",
   "execution_count": 16,
   "metadata": {},
   "outputs": [],
   "source": [
    "daily['average'] = daily['average']/10"
   ]
  },
  {
   "cell_type": "code",
   "execution_count": 17,
   "metadata": {},
   "outputs": [],
   "source": [
    "thisyear = fireworks[fireworks['year'] == '2020'].groupby(['monthday']).agg('size').reset_index(name='average')"
   ]
  },
  {
   "cell_type": "code",
   "execution_count": 44,
   "metadata": {},
   "outputs": [],
   "source": [
    "fireworks_trend = daily.merge(thisyear, on='monthday', how='left')"
   ]
  },
  {
   "cell_type": "code",
   "execution_count": 45,
   "metadata": {},
   "outputs": [],
   "source": [
    "fireworks_trend.rename(columns={'average_x':'Average 2010-2019', 'average_y':'ThisYear'}, inplace=True)"
   ]
  },
  {
   "cell_type": "code",
   "execution_count": 47,
   "metadata": {},
   "outputs": [],
   "source": [
    "fireworks_trend.ThisYear = fireworks_trend.ThisYear.ffill()"
   ]
  },
  {
   "cell_type": "code",
   "execution_count": 48,
   "metadata": {},
   "outputs": [],
   "source": [
    "fireworks_chart = fireworks_trend[fireworks_trend['monthday'] < '06/20']"
   ]
  },
  {
   "cell_type": "code",
   "execution_count": 49,
   "metadata": {},
   "outputs": [],
   "source": [
    "fireworks_melt = pd.melt(fireworks_chart, id_vars=['monthday'], value_vars=['Average 2010-2019', 'ThisYear'],\n",
    "        var_name='time', value_name='calls')"
   ]
  },
  {
   "cell_type": "code",
   "execution_count": 50,
   "metadata": {},
   "outputs": [
    {
     "data": {
      "text/html": [
       "<div>\n",
       "<style scoped>\n",
       "    .dataframe tbody tr th:only-of-type {\n",
       "        vertical-align: middle;\n",
       "    }\n",
       "\n",
       "    .dataframe tbody tr th {\n",
       "        vertical-align: top;\n",
       "    }\n",
       "\n",
       "    .dataframe thead th {\n",
       "        text-align: right;\n",
       "    }\n",
       "</style>\n",
       "<table border=\"1\" class=\"dataframe\">\n",
       "  <thead>\n",
       "    <tr style=\"text-align: right;\">\n",
       "      <th></th>\n",
       "      <th>monthday</th>\n",
       "      <th>time</th>\n",
       "      <th>calls</th>\n",
       "    </tr>\n",
       "  </thead>\n",
       "  <tbody>\n",
       "    <tr>\n",
       "      <td>0</td>\n",
       "      <td>01/01</td>\n",
       "      <td>Average 2010-2019</td>\n",
       "      <td>53.1</td>\n",
       "    </tr>\n",
       "    <tr>\n",
       "      <td>1</td>\n",
       "      <td>01/02</td>\n",
       "      <td>Average 2010-2019</td>\n",
       "      <td>6.1</td>\n",
       "    </tr>\n",
       "    <tr>\n",
       "      <td>2</td>\n",
       "      <td>01/03</td>\n",
       "      <td>Average 2010-2019</td>\n",
       "      <td>2.2</td>\n",
       "    </tr>\n",
       "    <tr>\n",
       "      <td>3</td>\n",
       "      <td>01/04</td>\n",
       "      <td>Average 2010-2019</td>\n",
       "      <td>2.9</td>\n",
       "    </tr>\n",
       "    <tr>\n",
       "      <td>4</td>\n",
       "      <td>01/05</td>\n",
       "      <td>Average 2010-2019</td>\n",
       "      <td>2.9</td>\n",
       "    </tr>\n",
       "  </tbody>\n",
       "</table>\n",
       "</div>"
      ],
      "text/plain": [
       "  monthday               time  calls\n",
       "0  01/01    Average 2010-2019  53.1 \n",
       "1  01/02    Average 2010-2019  6.1  \n",
       "2  01/03    Average 2010-2019  2.2  \n",
       "3  01/04    Average 2010-2019  2.9  \n",
       "4  01/05    Average 2010-2019  2.9  "
      ]
     },
     "execution_count": 50,
     "metadata": {},
     "output_type": "execute_result"
    }
   ],
   "source": [
    "fireworks_melt.head()"
   ]
  },
  {
   "cell_type": "code",
   "execution_count": 74,
   "metadata": {},
   "outputs": [
    {
     "data": {
      "text/html": [
       "\n",
       "<div id=\"altair-viz-4937c146842a4aca9b28732b68ad8716\"></div>\n",
       "<script type=\"text/javascript\">\n",
       "  (function(spec, embedOpt){\n",
       "    const outputDiv = document.getElementById(\"altair-viz-4937c146842a4aca9b28732b68ad8716\");\n",
       "    const paths = {\n",
       "      \"vega\": \"https://cdn.jsdelivr.net/npm//vega@5?noext\",\n",
       "      \"vega-lib\": \"https://cdn.jsdelivr.net/npm//vega-lib?noext\",\n",
       "      \"vega-lite\": \"https://cdn.jsdelivr.net/npm//vega-lite@4.0.2?noext\",\n",
       "      \"vega-embed\": \"https://cdn.jsdelivr.net/npm//vega-embed@6?noext\",\n",
       "    };\n",
       "\n",
       "    function loadScript(lib) {\n",
       "      return new Promise(function(resolve, reject) {\n",
       "        var s = document.createElement('script');\n",
       "        s.src = paths[lib];\n",
       "        s.async = true;\n",
       "        s.onload = () => resolve(paths[lib]);\n",
       "        s.onerror = () => reject(`Error loading script: ${paths[lib]}`);\n",
       "        document.getElementsByTagName(\"head\")[0].appendChild(s);\n",
       "      });\n",
       "    }\n",
       "\n",
       "    function showError(err) {\n",
       "      outputDiv.innerHTML = `<div class=\"error\" style=\"color:red;\">${err}</div>`;\n",
       "      throw err;\n",
       "    }\n",
       "\n",
       "    function displayChart(vegaEmbed) {\n",
       "      vegaEmbed(outputDiv, spec, embedOpt)\n",
       "        .catch(err => showError(`Javascript Error: ${err.message}<br>This usually means there's a typo in your chart specification. See the javascript console for the full traceback.`));\n",
       "    }\n",
       "\n",
       "    if(typeof define === \"function\" && define.amd) {\n",
       "      requirejs.config({paths});\n",
       "      require([\"vega-embed\"], displayChart, err => showError(`Error loading script: ${err.message}`));\n",
       "    } else if (typeof vegaEmbed === \"function\") {\n",
       "      displayChart(vegaEmbed);\n",
       "    } else {\n",
       "      loadScript(\"vega\")\n",
       "        .then(() => loadScript(\"vega-lite\"))\n",
       "        .then(() => loadScript(\"vega-embed\"))\n",
       "        .catch(showError)\n",
       "        .then(() => displayChart(vegaEmbed));\n",
       "    }\n",
       "  })({\"config\": {\"view\": {\"width\": 800, \"height\": 450, \"strokeOpacity\": 0}, \"background\": \"#ffffff\", \"title\": {\"anchor\": \"start\", \"font\": \"Benton Gothic Bold, sans\", \"fontColor\": \"#000000\", \"fontSize\": 22, \"fontWeight\": \"normal\"}, \"arc\": {\"fill\": \"#82c6df\"}, \"area\": {\"fill\": \"#82c6df\"}, \"line\": {\"stroke\": \"#82c6df\", \"strokeWidth\": 3}, \"path\": {\"stroke\": \"#82c6df\"}, \"rect\": {\"fill\": \"#82c6df\"}, \"shape\": {\"stroke\": \"#82c6df\"}, \"bar\": {\"fill\": \"#82c6df\"}, \"point\": {\"stroke\": \"#82c6df\"}, \"symbol\": {\"fill\": \"#82c6df\", \"size\": 30}, \"axis\": {\"titleFont\": \"Benton Gothic Bold, sans\", \"titleFontSize\": 13, \"titleFontWeight\": \"normal\", \"labelFont\": \"Benton Gothic, sans\", \"labelFontSize\": 11.5, \"labelFontWeight\": \"normal\"}, \"axisX\": {\"labelAngle\": 0, \"labelPadding\": 4, \"tickSize\": 3}, \"axisY\": {\"labelBaseline\": \"middle\", \"maxExtent\": 45, \"minExtent\": 45, \"tickSize\": 2, \"titleAlign\": \"left\", \"titleAngle\": 0, \"titleX\": -45, \"titleY\": -11}, \"legend\": {\"titleFont\": \"Benton Gothic Bold, sans\", \"titleFontSize\": 13, \"titleFontWeight\": \"normal\", \"symbolType\": \"square\", \"labelFont\": \"Benton Gothic, sans\", \"labelFontSize\": 11.5}, \"range\": {\"category\": [\"#3580b1\", \"#ec8431\", \"#ab7fb4\", \"#c89d29\", \"#adc839\", \"#829eb1\"], \"diverging\": [\"#e68a4f\", \"#f4bb6a\", \"#f9e39c\", \"#dadfe2\", \"#a6b7c6\", \"#849eae\"], \"heatmap\": [\"#fbf2c7\", \"#f9e39c\", \"#f8d36e\", \"#f4bb6a\", \"#e68a4f\", \"#d15a40\", \"#ab4232\"], \"ordinal\": [\"#fbf2c7\", \"#f9e39c\", \"#f8d36e\", \"#f4bb6a\", \"#e68a4f\", \"#d15a40\", \"#ab4232\"], \"ramp\": [\"#fbf2c7\", \"#f9e39c\", \"#f8d36e\", \"#f4bb6a\", \"#e68a4f\", \"#d15a40\", \"#ab4232\"]}}, \"data\": {\"name\": \"data-341a9baab12fb395100bcb830a154e63\"}, \"mark\": {\"type\": \"area\", \"opacity\": 0.4, \"size\": 3}, \"encoding\": {\"color\": {\"type\": \"nominal\", \"field\": \"time\", \"title\": \"\"}, \"x\": {\"type\": \"temporal\", \"axis\": {\"format\": \"%B\", \"grid\": false, \"tickCount\": 6}, \"field\": \"monthday\", \"title\": \" \"}, \"y\": {\"type\": \"quantitative\", \"axis\": {\"domainOpacity\": 0, \"format\": \"\", \"gridColor\": \"#dddddd\", \"gridWidth\": 0.6, \"offset\": 6, \"tickCount\": 4, \"tickSize\": 0}, \"field\": \"calls\", \"scale\": {\"domain\": [0, 200]}, \"stack\": null, \"title\": \" \"}}, \"height\": 300, \"title\": \"Fireworks calls to LAPD: 2010-2019\", \"width\": 500, \"$schema\": \"https://vega.github.io/schema/vega-lite/v4.0.2.json\", \"datasets\": {\"data-341a9baab12fb395100bcb830a154e63\": [{\"monthday\": \"01/01\", \"time\": \"Average 2010-2019\", \"calls\": 53.1}, {\"monthday\": \"01/02\", \"time\": \"Average 2010-2019\", \"calls\": 6.1}, {\"monthday\": \"01/03\", \"time\": \"Average 2010-2019\", \"calls\": 2.2}, {\"monthday\": \"01/04\", \"time\": \"Average 2010-2019\", \"calls\": 2.9}, {\"monthday\": \"01/05\", \"time\": \"Average 2010-2019\", \"calls\": 2.9}, {\"monthday\": \"01/06\", \"time\": \"Average 2010-2019\", \"calls\": 2.6}, {\"monthday\": \"01/07\", \"time\": \"Average 2010-2019\", \"calls\": 2.2}, {\"monthday\": \"01/08\", \"time\": \"Average 2010-2019\", \"calls\": 2.2}, {\"monthday\": \"01/09\", \"time\": \"Average 2010-2019\", \"calls\": 2.5}, {\"monthday\": \"01/10\", \"time\": \"Average 2010-2019\", \"calls\": 1.0}, {\"monthday\": \"01/11\", \"time\": \"Average 2010-2019\", \"calls\": 1.9}, {\"monthday\": \"01/12\", \"time\": \"Average 2010-2019\", \"calls\": 1.5}, {\"monthday\": \"01/13\", \"time\": \"Average 2010-2019\", \"calls\": 1.2}, {\"monthday\": \"01/14\", \"time\": \"Average 2010-2019\", \"calls\": 1.3}, {\"monthday\": \"01/15\", \"time\": \"Average 2010-2019\", \"calls\": 1.7}, {\"monthday\": \"01/16\", \"time\": \"Average 2010-2019\", \"calls\": 1.6}, {\"monthday\": \"01/17\", \"time\": \"Average 2010-2019\", \"calls\": 1.1}, {\"monthday\": \"01/18\", \"time\": \"Average 2010-2019\", \"calls\": 0.9}, {\"monthday\": \"01/19\", \"time\": \"Average 2010-2019\", \"calls\": 1.7}, {\"monthday\": \"01/20\", \"time\": \"Average 2010-2019\", \"calls\": 1.4}, {\"monthday\": \"01/21\", \"time\": \"Average 2010-2019\", \"calls\": 1.0}, {\"monthday\": \"01/22\", \"time\": \"Average 2010-2019\", \"calls\": 1.4}, {\"monthday\": \"01/23\", \"time\": \"Average 2010-2019\", \"calls\": 1.9}, {\"monthday\": \"01/24\", \"time\": \"Average 2010-2019\", \"calls\": 1.2}, {\"monthday\": \"01/25\", \"time\": \"Average 2010-2019\", \"calls\": 1.1}, {\"monthday\": \"01/26\", \"time\": \"Average 2010-2019\", \"calls\": 1.9}, {\"monthday\": \"01/27\", \"time\": \"Average 2010-2019\", \"calls\": 1.3}, {\"monthday\": \"01/28\", \"time\": \"Average 2010-2019\", \"calls\": 0.7}, {\"monthday\": \"01/29\", \"time\": \"Average 2010-2019\", \"calls\": 1.9}, {\"monthday\": \"01/30\", \"time\": \"Average 2010-2019\", \"calls\": 1.4}, {\"monthday\": \"01/31\", \"time\": \"Average 2010-2019\", \"calls\": 1.6}, {\"monthday\": \"02/01\", \"time\": \"Average 2010-2019\", \"calls\": 1.2}, {\"monthday\": \"02/02\", \"time\": \"Average 2010-2019\", \"calls\": 2.1}, {\"monthday\": \"02/03\", \"time\": \"Average 2010-2019\", \"calls\": 2.2}, {\"monthday\": \"02/04\", \"time\": \"Average 2010-2019\", \"calls\": 2.0}, {\"monthday\": \"02/05\", \"time\": \"Average 2010-2019\", \"calls\": 0.7}, {\"monthday\": \"02/06\", \"time\": \"Average 2010-2019\", \"calls\": 0.9}, {\"monthday\": \"02/07\", \"time\": \"Average 2010-2019\", \"calls\": 0.9}, {\"monthday\": \"02/08\", \"time\": \"Average 2010-2019\", \"calls\": 1.2}, {\"monthday\": \"02/09\", \"time\": \"Average 2010-2019\", \"calls\": 1.5}, {\"monthday\": \"02/10\", \"time\": \"Average 2010-2019\", \"calls\": 0.9}, {\"monthday\": \"02/11\", \"time\": \"Average 2010-2019\", \"calls\": 0.6}, {\"monthday\": \"02/12\", \"time\": \"Average 2010-2019\", \"calls\": 0.9}, {\"monthday\": \"02/13\", \"time\": \"Average 2010-2019\", \"calls\": 1.5}, {\"monthday\": \"02/14\", \"time\": \"Average 2010-2019\", \"calls\": 1.6}, {\"monthday\": \"02/15\", \"time\": \"Average 2010-2019\", \"calls\": 0.8}, {\"monthday\": \"02/16\", \"time\": \"Average 2010-2019\", \"calls\": 0.8}, {\"monthday\": \"02/17\", \"time\": \"Average 2010-2019\", \"calls\": 0.9}, {\"monthday\": \"02/18\", \"time\": \"Average 2010-2019\", \"calls\": 1.2}, {\"monthday\": \"02/19\", \"time\": \"Average 2010-2019\", \"calls\": 2.0}, {\"monthday\": \"02/20\", \"time\": \"Average 2010-2019\", \"calls\": 0.9}, {\"monthday\": \"02/21\", \"time\": \"Average 2010-2019\", \"calls\": 1.1}, {\"monthday\": \"02/22\", \"time\": \"Average 2010-2019\", \"calls\": 1.3}, {\"monthday\": \"02/23\", \"time\": \"Average 2010-2019\", \"calls\": 2.3}, {\"monthday\": \"02/24\", \"time\": \"Average 2010-2019\", \"calls\": 0.8}, {\"monthday\": \"02/25\", \"time\": \"Average 2010-2019\", \"calls\": 1.0}, {\"monthday\": \"02/26\", \"time\": \"Average 2010-2019\", \"calls\": 1.0}, {\"monthday\": \"02/27\", \"time\": \"Average 2010-2019\", \"calls\": 2.6}, {\"monthday\": \"02/28\", \"time\": \"Average 2010-2019\", \"calls\": 1.3}, {\"monthday\": \"02/29\", \"time\": \"Average 2010-2019\", \"calls\": 0.1}, {\"monthday\": \"03/01\", \"time\": \"Average 2010-2019\", \"calls\": 1.2}, {\"monthday\": \"03/02\", \"time\": \"Average 2010-2019\", \"calls\": 0.9}, {\"monthday\": \"03/03\", \"time\": \"Average 2010-2019\", \"calls\": 1.1}, {\"monthday\": \"03/04\", \"time\": \"Average 2010-2019\", \"calls\": 0.8}, {\"monthday\": \"03/05\", \"time\": \"Average 2010-2019\", \"calls\": 1.3}, {\"monthday\": \"03/06\", \"time\": \"Average 2010-2019\", \"calls\": 1.0}, {\"monthday\": \"03/07\", \"time\": \"Average 2010-2019\", \"calls\": 0.7}, {\"monthday\": \"03/08\", \"time\": \"Average 2010-2019\", \"calls\": 1.8}, {\"monthday\": \"03/09\", \"time\": \"Average 2010-2019\", \"calls\": 1.0}, {\"monthday\": \"03/10\", \"time\": \"Average 2010-2019\", \"calls\": 0.9}, {\"monthday\": \"03/11\", \"time\": \"Average 2010-2019\", \"calls\": 1.0}, {\"monthday\": \"03/12\", \"time\": \"Average 2010-2019\", \"calls\": 2.3}, {\"monthday\": \"03/13\", \"time\": \"Average 2010-2019\", \"calls\": 0.9}, {\"monthday\": \"03/14\", \"time\": \"Average 2010-2019\", \"calls\": 1.1}, {\"monthday\": \"03/15\", \"time\": \"Average 2010-2019\", \"calls\": 1.8}, {\"monthday\": \"03/16\", \"time\": \"Average 2010-2019\", \"calls\": 1.8}, {\"monthday\": \"03/17\", \"time\": \"Average 2010-2019\", \"calls\": 1.5}, {\"monthday\": \"03/18\", \"time\": \"Average 2010-2019\", \"calls\": 1.0}, {\"monthday\": \"03/19\", \"time\": \"Average 2010-2019\", \"calls\": 1.5}, {\"monthday\": \"03/20\", \"time\": \"Average 2010-2019\", \"calls\": 0.8}, {\"monthday\": \"03/21\", \"time\": \"Average 2010-2019\", \"calls\": 1.5}, {\"monthday\": \"03/22\", \"time\": \"Average 2010-2019\", \"calls\": 1.6}, {\"monthday\": \"03/23\", \"time\": \"Average 2010-2019\", \"calls\": 1.5}, {\"monthday\": \"03/24\", \"time\": \"Average 2010-2019\", \"calls\": 2.4}, {\"monthday\": \"03/25\", \"time\": \"Average 2010-2019\", \"calls\": 1.7}, {\"monthday\": \"03/26\", \"time\": \"Average 2010-2019\", \"calls\": 1.3}, {\"monthday\": \"03/27\", \"time\": \"Average 2010-2019\", \"calls\": 2.3}, {\"monthday\": \"03/28\", \"time\": \"Average 2010-2019\", \"calls\": 1.9}, {\"monthday\": \"03/29\", \"time\": \"Average 2010-2019\", \"calls\": 1.6}, {\"monthday\": \"03/30\", \"time\": \"Average 2010-2019\", \"calls\": 1.9}, {\"monthday\": \"03/31\", \"time\": \"Average 2010-2019\", \"calls\": 1.6}, {\"monthday\": \"04/01\", \"time\": \"Average 2010-2019\", \"calls\": 1.9}, {\"monthday\": \"04/02\", \"time\": \"Average 2010-2019\", \"calls\": 0.7}, {\"monthday\": \"04/03\", \"time\": \"Average 2010-2019\", \"calls\": 1.4}, {\"monthday\": \"04/04\", \"time\": \"Average 2010-2019\", \"calls\": 1.1}, {\"monthday\": \"04/05\", \"time\": \"Average 2010-2019\", \"calls\": 1.7}, {\"monthday\": \"04/06\", \"time\": \"Average 2010-2019\", \"calls\": 0.8}, {\"monthday\": \"04/07\", \"time\": \"Average 2010-2019\", \"calls\": 1.8}, {\"monthday\": \"04/08\", \"time\": \"Average 2010-2019\", \"calls\": 1.1}, {\"monthday\": \"04/09\", \"time\": \"Average 2010-2019\", \"calls\": 1.5}, {\"monthday\": \"04/10\", \"time\": \"Average 2010-2019\", \"calls\": 1.4}, {\"monthday\": \"04/11\", \"time\": \"Average 2010-2019\", \"calls\": 1.4}, {\"monthday\": \"04/12\", \"time\": \"Average 2010-2019\", \"calls\": 0.8}, {\"monthday\": \"04/13\", \"time\": \"Average 2010-2019\", \"calls\": 1.3}, {\"monthday\": \"04/14\", \"time\": \"Average 2010-2019\", \"calls\": 1.1}, {\"monthday\": \"04/15\", \"time\": \"Average 2010-2019\", \"calls\": 1.0}, {\"monthday\": \"04/16\", \"time\": \"Average 2010-2019\", \"calls\": 2.5}, {\"monthday\": \"04/17\", \"time\": \"Average 2010-2019\", \"calls\": 1.7}, {\"monthday\": \"04/18\", \"time\": \"Average 2010-2019\", \"calls\": 0.4}, {\"monthday\": \"04/19\", \"time\": \"Average 2010-2019\", \"calls\": 3.9}, {\"monthday\": \"04/20\", \"time\": \"Average 2010-2019\", \"calls\": 2.4}, {\"monthday\": \"04/21\", \"time\": \"Average 2010-2019\", \"calls\": 1.8}, {\"monthday\": \"04/22\", \"time\": \"Average 2010-2019\", \"calls\": 1.9}, {\"monthday\": \"04/23\", \"time\": \"Average 2010-2019\", \"calls\": 1.2}, {\"monthday\": \"04/24\", \"time\": \"Average 2010-2019\", \"calls\": 1.8}, {\"monthday\": \"04/25\", \"time\": \"Average 2010-2019\", \"calls\": 2.0}, {\"monthday\": \"04/26\", \"time\": \"Average 2010-2019\", \"calls\": 1.7}, {\"monthday\": \"04/27\", \"time\": \"Average 2010-2019\", \"calls\": 2.3}, {\"monthday\": \"04/28\", \"time\": \"Average 2010-2019\", \"calls\": 3.1}, {\"monthday\": \"04/29\", \"time\": \"Average 2010-2019\", \"calls\": 2.5}, {\"monthday\": \"04/30\", \"time\": \"Average 2010-2019\", \"calls\": 1.4}, {\"monthday\": \"05/01\", \"time\": \"Average 2010-2019\", \"calls\": 2.4}, {\"monthday\": \"05/02\", \"time\": \"Average 2010-2019\", \"calls\": 1.8}, {\"monthday\": \"05/03\", \"time\": \"Average 2010-2019\", \"calls\": 2.6}, {\"monthday\": \"05/04\", \"time\": \"Average 2010-2019\", \"calls\": 3.6}, {\"monthday\": \"05/05\", \"time\": \"Average 2010-2019\", \"calls\": 5.5}, {\"monthday\": \"05/06\", \"time\": \"Average 2010-2019\", \"calls\": 2.9}, {\"monthday\": \"05/07\", \"time\": \"Average 2010-2019\", \"calls\": 4.7}, {\"monthday\": \"05/08\", \"time\": \"Average 2010-2019\", \"calls\": 3.5}, {\"monthday\": \"05/09\", \"time\": \"Average 2010-2019\", \"calls\": 3.0}, {\"monthday\": \"05/10\", \"time\": \"Average 2010-2019\", \"calls\": 3.0}, {\"monthday\": \"05/11\", \"time\": \"Average 2010-2019\", \"calls\": 2.6}, {\"monthday\": \"05/12\", \"time\": \"Average 2010-2019\", \"calls\": 5.3}, {\"monthday\": \"05/13\", \"time\": \"Average 2010-2019\", \"calls\": 4.2}, {\"monthday\": \"05/14\", \"time\": \"Average 2010-2019\", \"calls\": 4.8}, {\"monthday\": \"05/15\", \"time\": \"Average 2010-2019\", \"calls\": 3.5}, {\"monthday\": \"05/16\", \"time\": \"Average 2010-2019\", \"calls\": 4.2}, {\"monthday\": \"05/17\", \"time\": \"Average 2010-2019\", \"calls\": 4.3}, {\"monthday\": \"05/18\", \"time\": \"Average 2010-2019\", \"calls\": 5.3}, {\"monthday\": \"05/19\", \"time\": \"Average 2010-2019\", \"calls\": 6.0}, {\"monthday\": \"05/20\", \"time\": \"Average 2010-2019\", \"calls\": 8.1}, {\"monthday\": \"05/21\", \"time\": \"Average 2010-2019\", \"calls\": 4.5}, {\"monthday\": \"05/22\", \"time\": \"Average 2010-2019\", \"calls\": 4.2}, {\"monthday\": \"05/23\", \"time\": \"Average 2010-2019\", \"calls\": 5.9}, {\"monthday\": \"05/24\", \"time\": \"Average 2010-2019\", \"calls\": 6.7}, {\"monthday\": \"05/25\", \"time\": \"Average 2010-2019\", \"calls\": 8.2}, {\"monthday\": \"05/26\", \"time\": \"Average 2010-2019\", \"calls\": 11.0}, {\"monthday\": \"05/27\", \"time\": \"Average 2010-2019\", \"calls\": 15.3}, {\"monthday\": \"05/28\", \"time\": \"Average 2010-2019\", \"calls\": 14.0}, {\"monthday\": \"05/29\", \"time\": \"Average 2010-2019\", \"calls\": 12.3}, {\"monthday\": \"05/30\", \"time\": \"Average 2010-2019\", \"calls\": 11.5}, {\"monthday\": \"05/31\", \"time\": \"Average 2010-2019\", \"calls\": 11.0}, {\"monthday\": \"06/01\", \"time\": \"Average 2010-2019\", \"calls\": 13.1}, {\"monthday\": \"06/02\", \"time\": \"Average 2010-2019\", \"calls\": 14.7}, {\"monthday\": \"06/03\", \"time\": \"Average 2010-2019\", \"calls\": 17.4}, {\"monthday\": \"06/04\", \"time\": \"Average 2010-2019\", \"calls\": 15.3}, {\"monthday\": \"06/05\", \"time\": \"Average 2010-2019\", \"calls\": 15.7}, {\"monthday\": \"06/06\", \"time\": \"Average 2010-2019\", \"calls\": 14.6}, {\"monthday\": \"06/07\", \"time\": \"Average 2010-2019\", \"calls\": 17.1}, {\"monthday\": \"06/08\", \"time\": \"Average 2010-2019\", \"calls\": 22.0}, {\"monthday\": \"06/09\", \"time\": \"Average 2010-2019\", \"calls\": 19.5}, {\"monthday\": \"06/10\", \"time\": \"Average 2010-2019\", \"calls\": 21.2}, {\"monthday\": \"06/11\", \"time\": \"Average 2010-2019\", \"calls\": 21.8}, {\"monthday\": \"06/12\", \"time\": \"Average 2010-2019\", \"calls\": 25.8}, {\"monthday\": \"06/13\", \"time\": \"Average 2010-2019\", \"calls\": 22.4}, {\"monthday\": \"06/14\", \"time\": \"Average 2010-2019\", \"calls\": 26.0}, {\"monthday\": \"06/15\", \"time\": \"Average 2010-2019\", \"calls\": 29.3}, {\"monthday\": \"06/16\", \"time\": \"Average 2010-2019\", \"calls\": 36.7}, {\"monthday\": \"06/17\", \"time\": \"Average 2010-2019\", \"calls\": 39.7}, {\"monthday\": \"06/18\", \"time\": \"Average 2010-2019\", \"calls\": 33.6}, {\"monthday\": \"06/19\", \"time\": \"Average 2010-2019\", \"calls\": 35.3}, {\"monthday\": \"01/01\", \"time\": \"ThisYear\", \"calls\": 85.0}, {\"monthday\": \"01/02\", \"time\": \"ThisYear\", \"calls\": 7.0}, {\"monthday\": \"01/03\", \"time\": \"ThisYear\", \"calls\": 9.0}, {\"monthday\": \"01/04\", \"time\": \"ThisYear\", \"calls\": 11.0}, {\"monthday\": \"01/05\", \"time\": \"ThisYear\", \"calls\": 9.0}, {\"monthday\": \"01/06\", \"time\": \"ThisYear\", \"calls\": 4.0}, {\"monthday\": \"01/07\", \"time\": \"ThisYear\", \"calls\": 1.0}, {\"monthday\": \"01/08\", \"time\": \"ThisYear\", \"calls\": 1.0}, {\"monthday\": \"01/09\", \"time\": \"ThisYear\", \"calls\": 2.0}, {\"monthday\": \"01/10\", \"time\": \"ThisYear\", \"calls\": 2.0}, {\"monthday\": \"01/11\", \"time\": \"ThisYear\", \"calls\": 3.0}, {\"monthday\": \"01/12\", \"time\": \"ThisYear\", \"calls\": 4.0}, {\"monthday\": \"01/13\", \"time\": \"ThisYear\", \"calls\": 1.0}, {\"monthday\": \"01/14\", \"time\": \"ThisYear\", \"calls\": 1.0}, {\"monthday\": \"01/15\", \"time\": \"ThisYear\", \"calls\": 1.0}, {\"monthday\": \"01/16\", \"time\": \"ThisYear\", \"calls\": 1.0}, {\"monthday\": \"01/17\", \"time\": \"ThisYear\", \"calls\": 1.0}, {\"monthday\": \"01/18\", \"time\": \"ThisYear\", \"calls\": 1.0}, {\"monthday\": \"01/19\", \"time\": \"ThisYear\", \"calls\": 6.0}, {\"monthday\": \"01/20\", \"time\": \"ThisYear\", \"calls\": 6.0}, {\"monthday\": \"01/21\", \"time\": \"ThisYear\", \"calls\": 2.0}, {\"monthday\": \"01/22\", \"time\": \"ThisYear\", \"calls\": 1.0}, {\"monthday\": \"01/23\", \"time\": \"ThisYear\", \"calls\": 1.0}, {\"monthday\": \"01/24\", \"time\": \"ThisYear\", \"calls\": 3.0}, {\"monthday\": \"01/25\", \"time\": \"ThisYear\", \"calls\": 4.0}, {\"monthday\": \"01/26\", \"time\": \"ThisYear\", \"calls\": 4.0}, {\"monthday\": \"01/27\", \"time\": \"ThisYear\", \"calls\": 4.0}, {\"monthday\": \"01/28\", \"time\": \"ThisYear\", \"calls\": 4.0}, {\"monthday\": \"01/29\", \"time\": \"ThisYear\", \"calls\": 1.0}, {\"monthday\": \"01/30\", \"time\": \"ThisYear\", \"calls\": 1.0}, {\"monthday\": \"01/31\", \"time\": \"ThisYear\", \"calls\": 1.0}, {\"monthday\": \"02/01\", \"time\": \"ThisYear\", \"calls\": 1.0}, {\"monthday\": \"02/02\", \"time\": \"ThisYear\", \"calls\": 6.0}, {\"monthday\": \"02/03\", \"time\": \"ThisYear\", \"calls\": 6.0}, {\"monthday\": \"02/04\", \"time\": \"ThisYear\", \"calls\": 1.0}, {\"monthday\": \"02/05\", \"time\": \"ThisYear\", \"calls\": 1.0}, {\"monthday\": \"02/06\", \"time\": \"ThisYear\", \"calls\": 1.0}, {\"monthday\": \"02/07\", \"time\": \"ThisYear\", \"calls\": 4.0}, {\"monthday\": \"02/08\", \"time\": \"ThisYear\", \"calls\": 2.0}, {\"monthday\": \"02/09\", \"time\": \"ThisYear\", \"calls\": 1.0}, {\"monthday\": \"02/10\", \"time\": \"ThisYear\", \"calls\": 1.0}, {\"monthday\": \"02/11\", \"time\": \"ThisYear\", \"calls\": 1.0}, {\"monthday\": \"02/12\", \"time\": \"ThisYear\", \"calls\": 1.0}, {\"monthday\": \"02/13\", \"time\": \"ThisYear\", \"calls\": 1.0}, {\"monthday\": \"02/14\", \"time\": \"ThisYear\", \"calls\": 2.0}, {\"monthday\": \"02/15\", \"time\": \"ThisYear\", \"calls\": 3.0}, {\"monthday\": \"02/16\", \"time\": \"ThisYear\", \"calls\": 2.0}, {\"monthday\": \"02/17\", \"time\": \"ThisYear\", \"calls\": 2.0}, {\"monthday\": \"02/18\", \"time\": \"ThisYear\", \"calls\": 1.0}, {\"monthday\": \"02/19\", \"time\": \"ThisYear\", \"calls\": 1.0}, {\"monthday\": \"02/20\", \"time\": \"ThisYear\", \"calls\": 1.0}, {\"monthday\": \"02/21\", \"time\": \"ThisYear\", \"calls\": 2.0}, {\"monthday\": \"02/22\", \"time\": \"ThisYear\", \"calls\": 5.0}, {\"monthday\": \"02/23\", \"time\": \"ThisYear\", \"calls\": 3.0}, {\"monthday\": \"02/24\", \"time\": \"ThisYear\", \"calls\": 2.0}, {\"monthday\": \"02/25\", \"time\": \"ThisYear\", \"calls\": 5.0}, {\"monthday\": \"02/26\", \"time\": \"ThisYear\", \"calls\": 1.0}, {\"monthday\": \"02/27\", \"time\": \"ThisYear\", \"calls\": 1.0}, {\"monthday\": \"02/28\", \"time\": \"ThisYear\", \"calls\": 4.0}, {\"monthday\": \"02/29\", \"time\": \"ThisYear\", \"calls\": 1.0}, {\"monthday\": \"03/01\", \"time\": \"ThisYear\", \"calls\": 2.0}, {\"monthday\": \"03/02\", \"time\": \"ThisYear\", \"calls\": 2.0}, {\"monthday\": \"03/03\", \"time\": \"ThisYear\", \"calls\": 2.0}, {\"monthday\": \"03/04\", \"time\": \"ThisYear\", \"calls\": 2.0}, {\"monthday\": \"03/05\", \"time\": \"ThisYear\", \"calls\": 3.0}, {\"monthday\": \"03/06\", \"time\": \"ThisYear\", \"calls\": 3.0}, {\"monthday\": \"03/07\", \"time\": \"ThisYear\", \"calls\": 4.0}, {\"monthday\": \"03/08\", \"time\": \"ThisYear\", \"calls\": 2.0}, {\"monthday\": \"03/09\", \"time\": \"ThisYear\", \"calls\": 1.0}, {\"monthday\": \"03/10\", \"time\": \"ThisYear\", \"calls\": 2.0}, {\"monthday\": \"03/11\", \"time\": \"ThisYear\", \"calls\": 2.0}, {\"monthday\": \"03/12\", \"time\": \"ThisYear\", \"calls\": 2.0}, {\"monthday\": \"03/13\", \"time\": \"ThisYear\", \"calls\": 1.0}, {\"monthday\": \"03/14\", \"time\": \"ThisYear\", \"calls\": 1.0}, {\"monthday\": \"03/15\", \"time\": \"ThisYear\", \"calls\": 2.0}, {\"monthday\": \"03/16\", \"time\": \"ThisYear\", \"calls\": 2.0}, {\"monthday\": \"03/17\", \"time\": \"ThisYear\", \"calls\": 3.0}, {\"monthday\": \"03/18\", \"time\": \"ThisYear\", \"calls\": 3.0}, {\"monthday\": \"03/19\", \"time\": \"ThisYear\", \"calls\": 1.0}, {\"monthday\": \"03/20\", \"time\": \"ThisYear\", \"calls\": 1.0}, {\"monthday\": \"03/21\", \"time\": \"ThisYear\", \"calls\": 1.0}, {\"monthday\": \"03/22\", \"time\": \"ThisYear\", \"calls\": 1.0}, {\"monthday\": \"03/23\", \"time\": \"ThisYear\", \"calls\": 1.0}, {\"monthday\": \"03/24\", \"time\": \"ThisYear\", \"calls\": 1.0}, {\"monthday\": \"03/25\", \"time\": \"ThisYear\", \"calls\": 1.0}, {\"monthday\": \"03/26\", \"time\": \"ThisYear\", \"calls\": 1.0}, {\"monthday\": \"03/27\", \"time\": \"ThisYear\", \"calls\": 2.0}, {\"monthday\": \"03/28\", \"time\": \"ThisYear\", \"calls\": 1.0}, {\"monthday\": \"03/29\", \"time\": \"ThisYear\", \"calls\": 1.0}, {\"monthday\": \"03/30\", \"time\": \"ThisYear\", \"calls\": 1.0}, {\"monthday\": \"03/31\", \"time\": \"ThisYear\", \"calls\": 2.0}, {\"monthday\": \"04/01\", \"time\": \"ThisYear\", \"calls\": 3.0}, {\"monthday\": \"04/02\", \"time\": \"ThisYear\", \"calls\": 3.0}, {\"monthday\": \"04/03\", \"time\": \"ThisYear\", \"calls\": 5.0}, {\"monthday\": \"04/04\", \"time\": \"ThisYear\", \"calls\": 3.0}, {\"monthday\": \"04/05\", \"time\": \"ThisYear\", \"calls\": 3.0}, {\"monthday\": \"04/06\", \"time\": \"ThisYear\", \"calls\": 1.0}, {\"monthday\": \"04/07\", \"time\": \"ThisYear\", \"calls\": 1.0}, {\"monthday\": \"04/08\", \"time\": \"ThisYear\", \"calls\": 2.0}, {\"monthday\": \"04/09\", \"time\": \"ThisYear\", \"calls\": 1.0}, {\"monthday\": \"04/10\", \"time\": \"ThisYear\", \"calls\": 3.0}, {\"monthday\": \"04/11\", \"time\": \"ThisYear\", \"calls\": 6.0}, {\"monthday\": \"04/12\", \"time\": \"ThisYear\", \"calls\": 4.0}, {\"monthday\": \"04/13\", \"time\": \"ThisYear\", \"calls\": 2.0}, {\"monthday\": \"04/14\", \"time\": \"ThisYear\", \"calls\": 1.0}, {\"monthday\": \"04/15\", \"time\": \"ThisYear\", \"calls\": 2.0}, {\"monthday\": \"04/16\", \"time\": \"ThisYear\", \"calls\": 4.0}, {\"monthday\": \"04/17\", \"time\": \"ThisYear\", \"calls\": 2.0}, {\"monthday\": \"04/18\", \"time\": \"ThisYear\", \"calls\": 4.0}, {\"monthday\": \"04/19\", \"time\": \"ThisYear\", \"calls\": 7.0}, {\"monthday\": \"04/20\", \"time\": \"ThisYear\", \"calls\": 3.0}, {\"monthday\": \"04/21\", \"time\": \"ThisYear\", \"calls\": 2.0}, {\"monthday\": \"04/22\", \"time\": \"ThisYear\", \"calls\": 2.0}, {\"monthday\": \"04/23\", \"time\": \"ThisYear\", \"calls\": 3.0}, {\"monthday\": \"04/24\", \"time\": \"ThisYear\", \"calls\": 2.0}, {\"monthday\": \"04/25\", \"time\": \"ThisYear\", \"calls\": 6.0}, {\"monthday\": \"04/26\", \"time\": \"ThisYear\", \"calls\": 6.0}, {\"monthday\": \"04/27\", \"time\": \"ThisYear\", \"calls\": 6.0}, {\"monthday\": \"04/28\", \"time\": \"ThisYear\", \"calls\": 6.0}, {\"monthday\": \"04/29\", \"time\": \"ThisYear\", \"calls\": 2.0}, {\"monthday\": \"04/30\", \"time\": \"ThisYear\", \"calls\": 5.0}, {\"monthday\": \"05/01\", \"time\": \"ThisYear\", \"calls\": 9.0}, {\"monthday\": \"05/02\", \"time\": \"ThisYear\", \"calls\": 8.0}, {\"monthday\": \"05/03\", \"time\": \"ThisYear\", \"calls\": 5.0}, {\"monthday\": \"05/04\", \"time\": \"ThisYear\", \"calls\": 6.0}, {\"monthday\": \"05/05\", \"time\": \"ThisYear\", \"calls\": 10.0}, {\"monthday\": \"05/06\", \"time\": \"ThisYear\", \"calls\": 3.0}, {\"monthday\": \"05/07\", \"time\": \"ThisYear\", \"calls\": 9.0}, {\"monthday\": \"05/08\", \"time\": \"ThisYear\", \"calls\": 7.0}, {\"monthday\": \"05/09\", \"time\": \"ThisYear\", \"calls\": 7.0}, {\"monthday\": \"05/10\", \"time\": \"ThisYear\", \"calls\": 17.0}, {\"monthday\": \"05/11\", \"time\": \"ThisYear\", \"calls\": 7.0}, {\"monthday\": \"05/12\", \"time\": \"ThisYear\", \"calls\": 9.0}, {\"monthday\": \"05/13\", \"time\": \"ThisYear\", \"calls\": 9.0}, {\"monthday\": \"05/14\", \"time\": \"ThisYear\", \"calls\": 6.0}, {\"monthday\": \"05/15\", \"time\": \"ThisYear\", \"calls\": 20.0}, {\"monthday\": \"05/16\", \"time\": \"ThisYear\", \"calls\": 24.0}, {\"monthday\": \"05/17\", \"time\": \"ThisYear\", \"calls\": 36.0}, {\"monthday\": \"05/18\", \"time\": \"ThisYear\", \"calls\": 24.0}, {\"monthday\": \"05/19\", \"time\": \"ThisYear\", \"calls\": 23.0}, {\"monthday\": \"05/20\", \"time\": \"ThisYear\", \"calls\": 28.0}, {\"monthday\": \"05/21\", \"time\": \"ThisYear\", \"calls\": 17.0}, {\"monthday\": \"05/22\", \"time\": \"ThisYear\", \"calls\": 42.0}, {\"monthday\": \"05/23\", \"time\": \"ThisYear\", \"calls\": 48.0}, {\"monthday\": \"05/24\", \"time\": \"ThisYear\", \"calls\": 118.0}, {\"monthday\": \"05/25\", \"time\": \"ThisYear\", \"calls\": 108.0}, {\"monthday\": \"05/26\", \"time\": \"ThisYear\", \"calls\": 58.0}, {\"monthday\": \"05/27\", \"time\": \"ThisYear\", \"calls\": 17.0}, {\"monthday\": \"05/28\", \"time\": \"ThisYear\", \"calls\": 25.0}, {\"monthday\": \"05/29\", \"time\": \"ThisYear\", \"calls\": 3.0}, {\"monthday\": \"05/30\", \"time\": \"ThisYear\", \"calls\": 3.0}, {\"monthday\": \"05/31\", \"time\": \"ThisYear\", \"calls\": 3.0}, {\"monthday\": \"06/01\", \"time\": \"ThisYear\", \"calls\": 3.0}, {\"monthday\": \"06/02\", \"time\": \"ThisYear\", \"calls\": 1.0}, {\"monthday\": \"06/03\", \"time\": \"ThisYear\", \"calls\": 1.0}, {\"monthday\": \"06/04\", \"time\": \"ThisYear\", \"calls\": 2.0}, {\"monthday\": \"06/05\", \"time\": \"ThisYear\", \"calls\": 3.0}, {\"monthday\": \"06/06\", \"time\": \"ThisYear\", \"calls\": 1.0}, {\"monthday\": \"06/07\", \"time\": \"ThisYear\", \"calls\": 3.0}, {\"monthday\": \"06/08\", \"time\": \"ThisYear\", \"calls\": 5.0}, {\"monthday\": \"06/09\", \"time\": \"ThisYear\", \"calls\": 3.0}, {\"monthday\": \"06/10\", \"time\": \"ThisYear\", \"calls\": 61.0}, {\"monthday\": \"06/11\", \"time\": \"ThisYear\", \"calls\": 74.0}, {\"monthday\": \"06/12\", \"time\": \"ThisYear\", \"calls\": 117.0}, {\"monthday\": \"06/13\", \"time\": \"ThisYear\", \"calls\": 188.0}, {\"monthday\": \"06/14\", \"time\": \"ThisYear\", \"calls\": 177.0}, {\"monthday\": \"06/15\", \"time\": \"ThisYear\", \"calls\": 82.0}, {\"monthday\": \"06/16\", \"time\": \"ThisYear\", \"calls\": 72.0}, {\"monthday\": \"06/17\", \"time\": \"ThisYear\", \"calls\": 67.0}, {\"monthday\": \"06/18\", \"time\": \"ThisYear\", \"calls\": 118.0}, {\"monthday\": \"06/19\", \"time\": \"ThisYear\", \"calls\": 160.0}]}}, {\"mode\": \"vega-lite\"});\n",
       "</script>"
      ],
      "text/plain": [
       "alt.Chart(...)"
      ]
     },
     "execution_count": 74,
     "metadata": {},
     "output_type": "execute_result"
    }
   ],
   "source": [
    "chart = alt.Chart((fireworks_melt))\\\n",
    "    .mark_area(size=3,opacity=0.4)\\\n",
    "    .encode(\n",
    "    x=alt.X('monthday:T', title=' ', axis=alt.Axis(grid=False, tickCount=6, format='%B')),\n",
    "    y=alt.Y('calls:Q', stack=None, title=' ', axis=alt.Axis(gridWidth=.6,\\\n",
    "     gridColor='#dddddd',offset=6,tickSize=0,domainOpacity=0,tickCount=4, format=''),\\\n",
    "           scale=alt.Scale(domain=(0, 200))),\n",
    "    color=alt.Color(\"time:N\", title='')\n",
    ").properties(width=500, height=300,\n",
    "     title='Fireworks calls to LAPD: 2010-2019'\n",
    ")\n",
    "\n",
    "(chart).configure_view(strokeOpacity=0).configure_legend(\n",
    "    orient='top',\n",
    "    symbolType='stroke'\n",
    ").configure_legend(symbolType='square')"
   ]
  },
  {
   "cell_type": "markdown",
   "metadata": {},
   "source": [
    "---"
   ]
  }
 ],
 "metadata": {
  "kernelspec": {
   "display_name": "Python 3",
   "language": "python",
   "name": "python3"
  },
  "language_info": {
   "codemirror_mode": {
    "name": "ipython",
    "version": 3
   },
   "file_extension": ".py",
   "mimetype": "text/x-python",
   "name": "python",
   "nbconvert_exporter": "python",
   "pygments_lexer": "ipython3",
   "version": "3.7.4"
  }
 },
 "nbformat": 4,
 "nbformat_minor": 4
}
