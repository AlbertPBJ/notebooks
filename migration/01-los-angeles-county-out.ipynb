{
 "cells": [
  {
   "cell_type": "markdown",
   "metadata": {},
   "source": [
    "# Migration from Los Angeles County"
   ]
  },
  {
   "cell_type": "markdown",
   "metadata": {},
   "source": [
    "### Import python tools"
   ]
  },
  {
   "cell_type": "code",
   "execution_count": 1,
   "metadata": {},
   "outputs": [
    {
     "data": {
      "text/plain": [
       "ThemeRegistry.enable('latimes')"
      ]
     },
     "execution_count": 1,
     "metadata": {},
     "output_type": "execute_result"
    }
   ],
   "source": [
    "import pandas as pd\n",
    "import jenkspy \n",
    "import geopandas as gpd\n",
    "from pathlib import Path\n",
    "import matplotlib.pyplot as plt\n",
    "%matplotlib inline\n",
    "import numpy as np\n",
    "import json\n",
    "import os\n",
    "import seaborn as sns\n",
    "import altair_latimes as lat\n",
    "import altair as alt\n",
    "from pandas.io.json import json_normalize \n",
    "alt.renderers.enable('notebook')\n",
    "alt.themes.register('latimes', lat.theme)\n",
    "alt.themes.enable('latimes')"
   ]
  },
  {
   "cell_type": "markdown",
   "metadata": {},
   "source": [
    "### Read data downloaded from IRS"
   ]
  },
  {
   "cell_type": "code",
   "execution_count": 2,
   "metadata": {},
   "outputs": [],
   "source": [
    "# source_files = sorted(Path('/Users/mhustiles/data/github/notebooks/migration/input/irs/').glob('*.csv'))\n",
    "\n",
    "# dataframes = []\n",
    "# for f in source_files:\n",
    "#     df = pd.read_csv(f, encoding = \"ISO-8859-1\")\n",
    "#     df['source'] = f.name\n",
    "#     df['source'] = df['source'].str.replace('countyoutflow', '').str.replace('.csv', '', regex=False)\n",
    "#     dataframes.append(df)\n",
    "\n",
    "# src = pd.concat(dataframes, sort=False)"
   ]
  },
  {
   "cell_type": "code",
   "execution_count": 3,
   "metadata": {},
   "outputs": [],
   "source": [
    "df_1011 = pd.read_csv('input/irs/countyoutflow1011.csv', sep=',', encoding='latin-1')\n",
    "df_1112 = pd.read_csv('input/irs/countyoutflow1112.csv', sep=',', encoding='latin-1')\n",
    "df_1213 = pd.read_csv('input/irs/countyoutflow1213.csv', sep=',', encoding='latin-1')\n",
    "df_1314 = pd.read_csv('input/irs/countyoutflow1314.csv', sep=',', encoding='latin-1')\n",
    "df_1415 = pd.read_csv('input/irs/countyoutflow1415.csv', sep=',', encoding='latin-1')\n",
    "df_1516 = pd.read_csv('input/irs/countyoutflow1516.csv', sep=',', encoding='latin-1')"
   ]
  },
  {
   "cell_type": "code",
   "execution_count": 4,
   "metadata": {},
   "outputs": [],
   "source": [
    "src = pd.concat([df_1011,df_1112,df_1213,df_1314,df_1415,df_1516], sort=False)"
   ]
  },
  {
   "cell_type": "markdown",
   "metadata": {},
   "source": [
    "### Process data types and fields"
   ]
  },
  {
   "cell_type": "code",
   "execution_count": 5,
   "metadata": {},
   "outputs": [],
   "source": [
    "all_years = src.astype({'y1_statefips': 'str',\\\n",
    "                        'y1_countyfips': 'str',\\\n",
    "                        'y2_statefips': 'str',\\\n",
    "                        'y2_countyfips': 'str'}, inplace=True)"
   ]
  },
  {
   "cell_type": "code",
   "execution_count": 6,
   "metadata": {},
   "outputs": [],
   "source": [
    "all_years['y1_statefips'] = all_years['y1_statefips'].str.zfill(2)\n",
    "all_years['y1_countyfips'] = all_years['y1_countyfips'].str.zfill(3)\n",
    "all_years['y2_statefips'] = all_years['y2_statefips'].str.zfill(2)\n",
    "all_years['y2_countyfips'] = all_years['y2_countyfips'].str.zfill(3)"
   ]
  },
  {
   "cell_type": "code",
   "execution_count": 7,
   "metadata": {},
   "outputs": [],
   "source": [
    "all_years['y1_fips'] = all_years['y1_statefips'] + all_years['y1_countyfips']\n",
    "all_years['y2_fips'] = all_years['y2_statefips'] + all_years['y2_countyfips']\n",
    "all_years['geoid'] = all_years['y2_fips']"
   ]
  },
  {
   "cell_type": "code",
   "execution_count": 8,
   "metadata": {},
   "outputs": [
    {
     "data": {
      "text/html": [
       "<div>\n",
       "<style scoped>\n",
       "    .dataframe tbody tr th:only-of-type {\n",
       "        vertical-align: middle;\n",
       "    }\n",
       "\n",
       "    .dataframe tbody tr th {\n",
       "        vertical-align: top;\n",
       "    }\n",
       "\n",
       "    .dataframe thead th {\n",
       "        text-align: right;\n",
       "    }\n",
       "</style>\n",
       "<table border=\"1\" class=\"dataframe\">\n",
       "  <thead>\n",
       "    <tr style=\"text-align: right;\">\n",
       "      <th></th>\n",
       "      <th>y1_statefips</th>\n",
       "      <th>y1_countyfips</th>\n",
       "      <th>y2_statefips</th>\n",
       "      <th>y2_countyfips</th>\n",
       "      <th>y2_state</th>\n",
       "      <th>y2_countyname</th>\n",
       "      <th>n1</th>\n",
       "      <th>n2</th>\n",
       "      <th>agi</th>\n",
       "      <th>y1_fips</th>\n",
       "      <th>y2_fips</th>\n",
       "      <th>geoid</th>\n",
       "    </tr>\n",
       "  </thead>\n",
       "  <tbody>\n",
       "    <tr>\n",
       "      <th>0</th>\n",
       "      <td>00</td>\n",
       "      <td>000</td>\n",
       "      <td>96</td>\n",
       "      <td>000</td>\n",
       "      <td>US</td>\n",
       "      <td>Total Mig - US &amp; For</td>\n",
       "      <td>6991456</td>\n",
       "      <td>12967005</td>\n",
       "      <td>304464050</td>\n",
       "      <td>00000</td>\n",
       "      <td>96000</td>\n",
       "      <td>96000</td>\n",
       "    </tr>\n",
       "    <tr>\n",
       "      <th>1</th>\n",
       "      <td>00</td>\n",
       "      <td>000</td>\n",
       "      <td>97</td>\n",
       "      <td>000</td>\n",
       "      <td>US</td>\n",
       "      <td>Total Mig - US</td>\n",
       "      <td>6890106</td>\n",
       "      <td>12775807</td>\n",
       "      <td>299138260</td>\n",
       "      <td>00000</td>\n",
       "      <td>97000</td>\n",
       "      <td>97000</td>\n",
       "    </tr>\n",
       "    <tr>\n",
       "      <th>2</th>\n",
       "      <td>00</td>\n",
       "      <td>000</td>\n",
       "      <td>97</td>\n",
       "      <td>001</td>\n",
       "      <td>US</td>\n",
       "      <td>Total Mig - US Same St</td>\n",
       "      <td>3916380</td>\n",
       "      <td>7260905</td>\n",
       "      <td>157646960</td>\n",
       "      <td>00000</td>\n",
       "      <td>97001</td>\n",
       "      <td>97001</td>\n",
       "    </tr>\n",
       "    <tr>\n",
       "      <th>3</th>\n",
       "      <td>00</td>\n",
       "      <td>000</td>\n",
       "      <td>97</td>\n",
       "      <td>003</td>\n",
       "      <td>US</td>\n",
       "      <td>Total Mig - US Diff St</td>\n",
       "      <td>2973726</td>\n",
       "      <td>5514902</td>\n",
       "      <td>141491300</td>\n",
       "      <td>00000</td>\n",
       "      <td>97003</td>\n",
       "      <td>97003</td>\n",
       "    </tr>\n",
       "    <tr>\n",
       "      <th>4</th>\n",
       "      <td>00</td>\n",
       "      <td>000</td>\n",
       "      <td>98</td>\n",
       "      <td>000</td>\n",
       "      <td>US</td>\n",
       "      <td>Total Mig - Foreign</td>\n",
       "      <td>101350</td>\n",
       "      <td>191198</td>\n",
       "      <td>5325790</td>\n",
       "      <td>00000</td>\n",
       "      <td>98000</td>\n",
       "      <td>98000</td>\n",
       "    </tr>\n",
       "    <tr>\n",
       "      <th>5</th>\n",
       "      <td>01</td>\n",
       "      <td>000</td>\n",
       "      <td>96</td>\n",
       "      <td>000</td>\n",
       "      <td>AL</td>\n",
       "      <td>Total Mig - US &amp; For</td>\n",
       "      <td>99179</td>\n",
       "      <td>202679</td>\n",
       "      <td>3665124</td>\n",
       "      <td>01000</td>\n",
       "      <td>96000</td>\n",
       "      <td>96000</td>\n",
       "    </tr>\n",
       "    <tr>\n",
       "      <th>6</th>\n",
       "      <td>01</td>\n",
       "      <td>000</td>\n",
       "      <td>97</td>\n",
       "      <td>000</td>\n",
       "      <td>AL</td>\n",
       "      <td>Total Mig - US</td>\n",
       "      <td>98140</td>\n",
       "      <td>200358</td>\n",
       "      <td>3620373</td>\n",
       "      <td>01000</td>\n",
       "      <td>97000</td>\n",
       "      <td>97000</td>\n",
       "    </tr>\n",
       "    <tr>\n",
       "      <th>7</th>\n",
       "      <td>01</td>\n",
       "      <td>000</td>\n",
       "      <td>97</td>\n",
       "      <td>001</td>\n",
       "      <td>AL</td>\n",
       "      <td>Total Mig - US Same St</td>\n",
       "      <td>54577</td>\n",
       "      <td>112357</td>\n",
       "      <td>1832756</td>\n",
       "      <td>01000</td>\n",
       "      <td>97001</td>\n",
       "      <td>97001</td>\n",
       "    </tr>\n",
       "    <tr>\n",
       "      <th>8</th>\n",
       "      <td>01</td>\n",
       "      <td>000</td>\n",
       "      <td>97</td>\n",
       "      <td>003</td>\n",
       "      <td>AL</td>\n",
       "      <td>Total Mig - US Diff St</td>\n",
       "      <td>43563</td>\n",
       "      <td>88001</td>\n",
       "      <td>1787617</td>\n",
       "      <td>01000</td>\n",
       "      <td>97003</td>\n",
       "      <td>97003</td>\n",
       "    </tr>\n",
       "    <tr>\n",
       "      <th>9</th>\n",
       "      <td>01</td>\n",
       "      <td>000</td>\n",
       "      <td>98</td>\n",
       "      <td>000</td>\n",
       "      <td>AL</td>\n",
       "      <td>Total Mig - Foreign</td>\n",
       "      <td>1039</td>\n",
       "      <td>2321</td>\n",
       "      <td>44751</td>\n",
       "      <td>01000</td>\n",
       "      <td>98000</td>\n",
       "      <td>98000</td>\n",
       "    </tr>\n",
       "  </tbody>\n",
       "</table>\n",
       "</div>"
      ],
      "text/plain": [
       "  y1_statefips y1_countyfips y2_statefips y2_countyfips y2_state  \\\n",
       "0           00           000           96           000       US   \n",
       "1           00           000           97           000       US   \n",
       "2           00           000           97           001       US   \n",
       "3           00           000           97           003       US   \n",
       "4           00           000           98           000       US   \n",
       "5           01           000           96           000       AL   \n",
       "6           01           000           97           000       AL   \n",
       "7           01           000           97           001       AL   \n",
       "8           01           000           97           003       AL   \n",
       "9           01           000           98           000       AL   \n",
       "\n",
       "            y2_countyname       n1        n2        agi y1_fips y2_fips  geoid  \n",
       "0    Total Mig - US & For  6991456  12967005  304464050   00000   96000  96000  \n",
       "1          Total Mig - US  6890106  12775807  299138260   00000   97000  97000  \n",
       "2  Total Mig - US Same St  3916380   7260905  157646960   00000   97001  97001  \n",
       "3  Total Mig - US Diff St  2973726   5514902  141491300   00000   97003  97003  \n",
       "4     Total Mig - Foreign   101350    191198    5325790   00000   98000  98000  \n",
       "5    Total Mig - US & For    99179    202679    3665124   01000   96000  96000  \n",
       "6          Total Mig - US    98140    200358    3620373   01000   97000  97000  \n",
       "7  Total Mig - US Same St    54577    112357    1832756   01000   97001  97001  \n",
       "8  Total Mig - US Diff St    43563     88001    1787617   01000   97003  97003  \n",
       "9     Total Mig - Foreign     1039      2321      44751   01000   98000  98000  "
      ]
     },
     "execution_count": 8,
     "metadata": {},
     "output_type": "execute_result"
    }
   ],
   "source": [
    "all_years.head(10)"
   ]
  },
  {
   "cell_type": "markdown",
   "metadata": {},
   "source": [
    "### Map year 1 FIPS codes"
   ]
  },
  {
   "cell_type": "code",
   "execution_count": 9,
   "metadata": {},
   "outputs": [],
   "source": [
    "y2 = all_years[['y2_fips','y2_countyname','y2_state']]"
   ]
  },
  {
   "cell_type": "code",
   "execution_count": 10,
   "metadata": {},
   "outputs": [],
   "source": [
    "fipsgroup = y2.groupby(['y2_fips','y2_countyname','y2_state'])"
   ]
  },
  {
   "cell_type": "markdown",
   "metadata": {},
   "source": [
    "### Filter national aggregates and people who stayed in LAC"
   ]
  },
  {
   "cell_type": "code",
   "execution_count": 11,
   "metadata": {},
   "outputs": [],
   "source": [
    "aggregates = ['57', '58', '59', '96', '97', '98']"
   ]
  },
  {
   "cell_type": "code",
   "execution_count": 12,
   "metadata": {},
   "outputs": [],
   "source": [
    "la_in = all_years[\\\n",
    "#                       (all_years['y2_state'] != 'NY') &\\\n",
    "#                       (all_years['y2_state'] != 'NJ') &\\\n",
    "                      (all_years['y2_fips'] == '06037') &\\\n",
    "                      (all_years['y1_fips'] != '06037') &\\\n",
    "                      (~all_years.y2_statefips.isin(aggregates))]"
   ]
  },
  {
   "cell_type": "code",
   "execution_count": 13,
   "metadata": {},
   "outputs": [
    {
     "data": {
      "text/html": [
       "<div>\n",
       "<style scoped>\n",
       "    .dataframe tbody tr th:only-of-type {\n",
       "        vertical-align: middle;\n",
       "    }\n",
       "\n",
       "    .dataframe tbody tr th {\n",
       "        vertical-align: top;\n",
       "    }\n",
       "\n",
       "    .dataframe thead th {\n",
       "        text-align: right;\n",
       "    }\n",
       "</style>\n",
       "<table border=\"1\" class=\"dataframe\">\n",
       "  <thead>\n",
       "    <tr style=\"text-align: right;\">\n",
       "      <th></th>\n",
       "      <th>y1_statefips</th>\n",
       "      <th>y1_countyfips</th>\n",
       "      <th>y2_statefips</th>\n",
       "      <th>y2_countyfips</th>\n",
       "      <th>y2_state</th>\n",
       "      <th>y2_countyname</th>\n",
       "      <th>n1</th>\n",
       "      <th>n2</th>\n",
       "      <th>agi</th>\n",
       "      <th>y1_fips</th>\n",
       "      <th>y2_fips</th>\n",
       "      <th>geoid</th>\n",
       "    </tr>\n",
       "  </thead>\n",
       "  <tbody>\n",
       "    <tr>\n",
       "      <th>106</th>\n",
       "      <td>01</td>\n",
       "      <td>003</td>\n",
       "      <td>06</td>\n",
       "      <td>037</td>\n",
       "      <td>CA</td>\n",
       "      <td>Los Angeles County</td>\n",
       "      <td>11</td>\n",
       "      <td>19</td>\n",
       "      <td>518</td>\n",
       "      <td>01003</td>\n",
       "      <td>06037</td>\n",
       "      <td>06037</td>\n",
       "    </tr>\n",
       "    <tr>\n",
       "      <th>897</th>\n",
       "      <td>01</td>\n",
       "      <td>073</td>\n",
       "      <td>06</td>\n",
       "      <td>037</td>\n",
       "      <td>CA</td>\n",
       "      <td>Los Angeles County</td>\n",
       "      <td>76</td>\n",
       "      <td>114</td>\n",
       "      <td>2576</td>\n",
       "      <td>01073</td>\n",
       "      <td>06037</td>\n",
       "      <td>06037</td>\n",
       "    </tr>\n",
       "    <tr>\n",
       "      <th>1281</th>\n",
       "      <td>01</td>\n",
       "      <td>089</td>\n",
       "      <td>06</td>\n",
       "      <td>037</td>\n",
       "      <td>CA</td>\n",
       "      <td>Los Angeles County</td>\n",
       "      <td>34</td>\n",
       "      <td>52</td>\n",
       "      <td>1444</td>\n",
       "      <td>01089</td>\n",
       "      <td>06037</td>\n",
       "      <td>06037</td>\n",
       "    </tr>\n",
       "    <tr>\n",
       "      <th>1490</th>\n",
       "      <td>01</td>\n",
       "      <td>097</td>\n",
       "      <td>06</td>\n",
       "      <td>037</td>\n",
       "      <td>CA</td>\n",
       "      <td>Los Angeles County</td>\n",
       "      <td>35</td>\n",
       "      <td>59</td>\n",
       "      <td>1130</td>\n",
       "      <td>01097</td>\n",
       "      <td>06037</td>\n",
       "      <td>06037</td>\n",
       "    </tr>\n",
       "    <tr>\n",
       "      <th>1663</th>\n",
       "      <td>01</td>\n",
       "      <td>101</td>\n",
       "      <td>06</td>\n",
       "      <td>037</td>\n",
       "      <td>CA</td>\n",
       "      <td>Los Angeles County</td>\n",
       "      <td>19</td>\n",
       "      <td>36</td>\n",
       "      <td>508</td>\n",
       "      <td>01101</td>\n",
       "      <td>06037</td>\n",
       "      <td>06037</td>\n",
       "    </tr>\n",
       "  </tbody>\n",
       "</table>\n",
       "</div>"
      ],
      "text/plain": [
       "     y1_statefips y1_countyfips y2_statefips y2_countyfips y2_state  \\\n",
       "106            01           003           06           037       CA   \n",
       "897            01           073           06           037       CA   \n",
       "1281           01           089           06           037       CA   \n",
       "1490           01           097           06           037       CA   \n",
       "1663           01           101           06           037       CA   \n",
       "\n",
       "           y2_countyname  n1   n2   agi y1_fips y2_fips  geoid  \n",
       "106   Los Angeles County  11   19   518   01003   06037  06037  \n",
       "897   Los Angeles County  76  114  2576   01073   06037  06037  \n",
       "1281  Los Angeles County  34   52  1444   01089   06037  06037  \n",
       "1490  Los Angeles County  35   59  1130   01097   06037  06037  \n",
       "1663  Los Angeles County  19   36   508   01101   06037  06037  "
      ]
     },
     "execution_count": 13,
     "metadata": {},
     "output_type": "execute_result"
    }
   ],
   "source": [
    "la_in.head()"
   ]
  },
  {
   "cell_type": "code",
   "execution_count": 14,
   "metadata": {},
   "outputs": [],
   "source": [
    "aggregated = all_years[all_years.y2_statefips.isin(aggregates)]"
   ]
  },
  {
   "cell_type": "code",
   "execution_count": 15,
   "metadata": {},
   "outputs": [],
   "source": [
    "# total = pd.DataFrame(aggregated[(aggregated['y2_countyname'].str.contains('Total Migration-Different State')) &\\\n",
    "#                    (aggregated['y2_statefips'] != '96') &\\\n",
    "#                   (aggregated['y1_countyfips'] != '000')])"
   ]
  },
  {
   "cell_type": "code",
   "execution_count": 16,
   "metadata": {},
   "outputs": [],
   "source": [
    "# total['merge_fips_norm'] = total['y1_statefips'] + total['y1_countyfips']"
   ]
  },
  {
   "cell_type": "code",
   "execution_count": 17,
   "metadata": {},
   "outputs": [],
   "source": [
    "# normalization_totals = total.groupby(['merge_fips_norm']).agg({'n1':'sum'}).reset_index()"
   ]
  },
  {
   "cell_type": "markdown",
   "metadata": {},
   "source": [
    "### Group by locations where tax filers moved"
   ]
  },
  {
   "cell_type": "code",
   "execution_count": 18,
   "metadata": {},
   "outputs": [],
   "source": [
    "migration = la_in.groupby(['y1_fips', 'geoid']).agg({'n1':'sum'}).reset_index()"
   ]
  },
  {
   "cell_type": "code",
   "execution_count": 19,
   "metadata": {},
   "outputs": [],
   "source": [
    "migration.rename(columns={'n1':'tax_migrants_to_lac'}, \n",
    "                 inplace=True)"
   ]
  },
  {
   "cell_type": "code",
   "execution_count": 20,
   "metadata": {},
   "outputs": [
    {
     "data": {
      "text/html": [
       "<div>\n",
       "<style scoped>\n",
       "    .dataframe tbody tr th:only-of-type {\n",
       "        vertical-align: middle;\n",
       "    }\n",
       "\n",
       "    .dataframe tbody tr th {\n",
       "        vertical-align: top;\n",
       "    }\n",
       "\n",
       "    .dataframe thead th {\n",
       "        text-align: right;\n",
       "    }\n",
       "</style>\n",
       "<table border=\"1\" class=\"dataframe\">\n",
       "  <thead>\n",
       "    <tr style=\"text-align: right;\">\n",
       "      <th></th>\n",
       "      <th>y1_fips</th>\n",
       "      <th>geoid</th>\n",
       "      <th>tax_migrants_to_lac</th>\n",
       "    </tr>\n",
       "  </thead>\n",
       "  <tbody>\n",
       "    <tr>\n",
       "      <th>0</th>\n",
       "      <td>01003</td>\n",
       "      <td>06037</td>\n",
       "      <td>58</td>\n",
       "    </tr>\n",
       "    <tr>\n",
       "      <th>1</th>\n",
       "      <td>01069</td>\n",
       "      <td>06037</td>\n",
       "      <td>12</td>\n",
       "    </tr>\n",
       "    <tr>\n",
       "      <th>2</th>\n",
       "      <td>01073</td>\n",
       "      <td>06037</td>\n",
       "      <td>423</td>\n",
       "    </tr>\n",
       "    <tr>\n",
       "      <th>3</th>\n",
       "      <td>01081</td>\n",
       "      <td>06037</td>\n",
       "      <td>57</td>\n",
       "    </tr>\n",
       "    <tr>\n",
       "      <th>4</th>\n",
       "      <td>01089</td>\n",
       "      <td>06037</td>\n",
       "      <td>252</td>\n",
       "    </tr>\n",
       "  </tbody>\n",
       "</table>\n",
       "</div>"
      ],
      "text/plain": [
       "  y1_fips  geoid  tax_migrants_to_lac\n",
       "0   01003  06037                   58\n",
       "1   01069  06037                   12\n",
       "2   01073  06037                  423\n",
       "3   01081  06037                   57\n",
       "4   01089  06037                  252"
      ]
     },
     "execution_count": 20,
     "metadata": {},
     "output_type": "execute_result"
    }
   ],
   "source": [
    "migration.head(5)"
   ]
  },
  {
   "cell_type": "markdown",
   "metadata": {},
   "source": [
    "### How many tax filers who left LAC in total?"
   ]
  },
  {
   "cell_type": "code",
   "execution_count": 21,
   "metadata": {},
   "outputs": [
    {
     "data": {
      "text/plain": [
       "647449"
      ]
     },
     "execution_count": 21,
     "metadata": {},
     "output_type": "execute_result"
    }
   ],
   "source": [
    "migration.tax_migrants_to_lac.sum()"
   ]
  },
  {
   "cell_type": "markdown",
   "metadata": {},
   "source": [
    "### How many tax filers who left LAC moved to each state?"
   ]
  },
  {
   "cell_type": "code",
   "execution_count": null,
   "metadata": {},
   "outputs": [],
   "source": [
    "states = migration.groupby(['y1_fips']).agg('sum').reset_index()"
   ]
  },
  {
   "cell_type": "code",
   "execution_count": 27,
   "metadata": {},
   "outputs": [
    {
     "data": {
      "text/html": [
       "<div>\n",
       "<style scoped>\n",
       "    .dataframe tbody tr th:only-of-type {\n",
       "        vertical-align: middle;\n",
       "    }\n",
       "\n",
       "    .dataframe tbody tr th {\n",
       "        vertical-align: top;\n",
       "    }\n",
       "\n",
       "    .dataframe thead th {\n",
       "        text-align: right;\n",
       "    }\n",
       "</style>\n",
       "<table border=\"1\" class=\"dataframe\">\n",
       "  <thead>\n",
       "    <tr style=\"text-align: right;\">\n",
       "      <th></th>\n",
       "      <th>y1_fips</th>\n",
       "      <th>tax_migrants_to_lac</th>\n",
       "    </tr>\n",
       "  </thead>\n",
       "  <tbody>\n",
       "    <tr>\n",
       "      <th>58</th>\n",
       "      <td>06059</td>\n",
       "      <td>96859</td>\n",
       "    </tr>\n",
       "    <tr>\n",
       "      <th>64</th>\n",
       "      <td>06071</td>\n",
       "      <td>68640</td>\n",
       "    </tr>\n",
       "    <tr>\n",
       "      <th>61</th>\n",
       "      <td>06065</td>\n",
       "      <td>39617</td>\n",
       "    </tr>\n",
       "    <tr>\n",
       "      <th>65</th>\n",
       "      <td>06073</td>\n",
       "      <td>30482</td>\n",
       "    </tr>\n",
       "    <tr>\n",
       "      <th>82</th>\n",
       "      <td>06111</td>\n",
       "      <td>26255</td>\n",
       "    </tr>\n",
       "    <tr>\n",
       "      <th>375</th>\n",
       "      <td>32003</td>\n",
       "      <td>17475</td>\n",
       "    </tr>\n",
       "    <tr>\n",
       "      <th>45</th>\n",
       "      <td>06029</td>\n",
       "      <td>14333</td>\n",
       "    </tr>\n",
       "    <tr>\n",
       "      <th>432</th>\n",
       "      <td>36061</td>\n",
       "      <td>14128</td>\n",
       "    </tr>\n",
       "    <tr>\n",
       "      <th>17</th>\n",
       "      <td>04013</td>\n",
       "      <td>13046</td>\n",
       "    </tr>\n",
       "    <tr>\n",
       "      <th>198</th>\n",
       "      <td>17031</td>\n",
       "      <td>11459</td>\n",
       "    </tr>\n",
       "  </tbody>\n",
       "</table>\n",
       "</div>"
      ],
      "text/plain": [
       "    y1_fips  tax_migrants_to_lac\n",
       "58    06059                96859\n",
       "64    06071                68640\n",
       "61    06065                39617\n",
       "65    06073                30482\n",
       "82    06111                26255\n",
       "375   32003                17475\n",
       "45    06029                14333\n",
       "432   36061                14128\n",
       "17    04013                13046\n",
       "198   17031                11459"
      ]
     },
     "execution_count": 27,
     "metadata": {},
     "output_type": "execute_result"
    }
   ],
   "source": [
    "states.sort_values(by='tax_migrants_to_lac',ascending=False).head(10)"
   ]
  },
  {
   "cell_type": "code",
   "execution_count": 28,
   "metadata": {},
   "outputs": [
    {
     "data": {
      "text/html": [
       "<div>\n",
       "<style scoped>\n",
       "    .dataframe tbody tr th:only-of-type {\n",
       "        vertical-align: middle;\n",
       "    }\n",
       "\n",
       "    .dataframe tbody tr th {\n",
       "        vertical-align: top;\n",
       "    }\n",
       "\n",
       "    .dataframe thead th {\n",
       "        text-align: right;\n",
       "    }\n",
       "</style>\n",
       "<table border=\"1\" class=\"dataframe\">\n",
       "  <thead>\n",
       "    <tr style=\"text-align: right;\">\n",
       "      <th></th>\n",
       "      <th>y1_fips</th>\n",
       "      <th>geoid</th>\n",
       "      <th>tax_migrants_to_lac</th>\n",
       "    </tr>\n",
       "  </thead>\n",
       "  <tbody>\n",
       "    <tr>\n",
       "      <th>58</th>\n",
       "      <td>06059</td>\n",
       "      <td>06037</td>\n",
       "      <td>96859</td>\n",
       "    </tr>\n",
       "    <tr>\n",
       "      <th>64</th>\n",
       "      <td>06071</td>\n",
       "      <td>06037</td>\n",
       "      <td>68640</td>\n",
       "    </tr>\n",
       "    <tr>\n",
       "      <th>61</th>\n",
       "      <td>06065</td>\n",
       "      <td>06037</td>\n",
       "      <td>39617</td>\n",
       "    </tr>\n",
       "    <tr>\n",
       "      <th>65</th>\n",
       "      <td>06073</td>\n",
       "      <td>06037</td>\n",
       "      <td>30482</td>\n",
       "    </tr>\n",
       "    <tr>\n",
       "      <th>82</th>\n",
       "      <td>06111</td>\n",
       "      <td>06037</td>\n",
       "      <td>26255</td>\n",
       "    </tr>\n",
       "    <tr>\n",
       "      <th>375</th>\n",
       "      <td>32003</td>\n",
       "      <td>06037</td>\n",
       "      <td>17475</td>\n",
       "    </tr>\n",
       "    <tr>\n",
       "      <th>45</th>\n",
       "      <td>06029</td>\n",
       "      <td>06037</td>\n",
       "      <td>14333</td>\n",
       "    </tr>\n",
       "    <tr>\n",
       "      <th>432</th>\n",
       "      <td>36061</td>\n",
       "      <td>06037</td>\n",
       "      <td>14128</td>\n",
       "    </tr>\n",
       "    <tr>\n",
       "      <th>17</th>\n",
       "      <td>04013</td>\n",
       "      <td>06037</td>\n",
       "      <td>13046</td>\n",
       "    </tr>\n",
       "    <tr>\n",
       "      <th>198</th>\n",
       "      <td>17031</td>\n",
       "      <td>06037</td>\n",
       "      <td>11459</td>\n",
       "    </tr>\n",
       "  </tbody>\n",
       "</table>\n",
       "</div>"
      ],
      "text/plain": [
       "    y1_fips  geoid  tax_migrants_to_lac\n",
       "58    06059  06037                96859\n",
       "64    06071  06037                68640\n",
       "61    06065  06037                39617\n",
       "65    06073  06037                30482\n",
       "82    06111  06037                26255\n",
       "375   32003  06037                17475\n",
       "45    06029  06037                14333\n",
       "432   36061  06037                14128\n",
       "17    04013  06037                13046\n",
       "198   17031  06037                11459"
      ]
     },
     "execution_count": 28,
     "metadata": {},
     "output_type": "execute_result"
    }
   ],
   "source": [
    "migration.sort_values(by='tax_migrants_to_lac',ascending=False).head(10)"
   ]
  },
  {
   "cell_type": "code",
   "execution_count": null,
   "metadata": {},
   "outputs": [],
   "source": [
    "normal_migration = pd.merge(migration, normalization_totals, left_on='geoid', right_on='merge_fips_norm', how='inner')"
   ]
  },
  {
   "cell_type": "code",
   "execution_count": null,
   "metadata": {},
   "outputs": [],
   "source": [
    "normal_migration.head()"
   ]
  },
  {
   "cell_type": "code",
   "execution_count": null,
   "metadata": {},
   "outputs": [],
   "source": [
    "normal_migration.rename(columns={'n1':'all_tax_migrants_to_county'}, \n",
    "                 inplace=True)"
   ]
  },
  {
   "cell_type": "code",
   "execution_count": null,
   "metadata": {},
   "outputs": [],
   "source": [
    "normal_migration.head()"
   ]
  },
  {
   "cell_type": "code",
   "execution_count": null,
   "metadata": {},
   "outputs": [],
   "source": [
    "normal_migration['rate_per_1000'] = \\\n",
    "    (normal_migration['tax_migrants_from_lac'] / normal_migration['all_tax_migrants_to_county'])*1000"
   ]
  },
  {
   "cell_type": "code",
   "execution_count": null,
   "metadata": {},
   "outputs": [],
   "source": [
    "normal_migration['pct_all_migrants_from_lac'] = \\\n",
    "    (normal_migration['tax_migrants_from_lac'] / 740469)*100"
   ]
  },
  {
   "cell_type": "code",
   "execution_count": null,
   "metadata": {},
   "outputs": [],
   "source": [
    "normal_migration.sort_values(by='rate_per_1000', ascending=False).head(10)"
   ]
  },
  {
   "cell_type": "code",
   "execution_count": null,
   "metadata": {},
   "outputs": [],
   "source": [
    "normal_migration.sort_values(by='pct_all_migrants_from_lac', ascending=False).head(10)"
   ]
  },
  {
   "cell_type": "markdown",
   "metadata": {},
   "source": [
    "### Prepare natural breaks for mapping"
   ]
  },
  {
   "cell_type": "code",
   "execution_count": null,
   "metadata": {},
   "outputs": [],
   "source": [
    "breaks = jenkspy.jenks_breaks(list(normal_migration.rate_per_1000), nb_class=7)"
   ]
  },
  {
   "cell_type": "code",
   "execution_count": null,
   "metadata": {},
   "outputs": [],
   "source": [
    "breaks"
   ]
  },
  {
   "cell_type": "code",
   "execution_count": null,
   "metadata": {},
   "outputs": [],
   "source": [
    "def get_group(value):\n",
    "    for i, b in enumerate(breaks):\n",
    "        if value <= breaks[i+1]:\n",
    "            return i"
   ]
  },
  {
   "cell_type": "markdown",
   "metadata": {},
   "source": [
    "### Attach break groups to dataframe"
   ]
  },
  {
   "cell_type": "code",
   "execution_count": null,
   "metadata": {},
   "outputs": [],
   "source": [
    "normal_migration['mover_group'] = normal_migration.rate_per_1000.apply(get_group)"
   ]
  },
  {
   "cell_type": "code",
   "execution_count": null,
   "metadata": {
    "scrolled": true
   },
   "outputs": [],
   "source": [
    "normal_migration.sort_values(by='rate_per_1000',ascending=False).head(20)"
   ]
  },
  {
   "cell_type": "markdown",
   "metadata": {},
   "source": [
    "---"
   ]
  },
  {
   "cell_type": "markdown",
   "metadata": {},
   "source": [
    "### Import U.S. counties geography"
   ]
  },
  {
   "cell_type": "code",
   "execution_count": null,
   "metadata": {},
   "outputs": [],
   "source": [
    "counties = gpd.read_file('/Users/mhustiles/data/data/GIS/usa/counties_lakes.shp')"
   ]
  },
  {
   "cell_type": "code",
   "execution_count": null,
   "metadata": {},
   "outputs": [],
   "source": [
    "counties.columns = counties.columns.str.strip().str.lower().str.replace(' ', '_')\\\n",
    "                    .str.replace('(', '').str.replace(')', '').str.replace('-','_')"
   ]
  },
  {
   "cell_type": "markdown",
   "metadata": {},
   "source": [
    "### Remove Alaska and Hawaii"
   ]
  },
  {
   "cell_type": "code",
   "execution_count": null,
   "metadata": {},
   "outputs": [],
   "source": [
    "lower48 = counties[(counties['statefp'] != '15') & (counties['statefp'] != '02')]"
   ]
  },
  {
   "cell_type": "code",
   "execution_count": null,
   "metadata": {},
   "outputs": [],
   "source": [
    "lower48.plot()"
   ]
  },
  {
   "cell_type": "code",
   "execution_count": null,
   "metadata": {},
   "outputs": [],
   "source": [
    "lower48.head()"
   ]
  },
  {
   "cell_type": "markdown",
   "metadata": {},
   "source": [
    "---"
   ]
  },
  {
   "cell_type": "markdown",
   "metadata": {},
   "source": [
    "### Merge geography with migration data"
   ]
  },
  {
   "cell_type": "code",
   "execution_count": null,
   "metadata": {},
   "outputs": [],
   "source": [
    "migration_map = pd.merge(lower48, normal_migration, on='geoid')"
   ]
  },
  {
   "cell_type": "code",
   "execution_count": null,
   "metadata": {},
   "outputs": [],
   "source": [
    "migration_map.loc[0]"
   ]
  },
  {
   "cell_type": "code",
   "execution_count": null,
   "metadata": {},
   "outputs": [],
   "source": [
    "slim = migration_map[['geoid','name','mover_group','rate_per_1000','geometry']]"
   ]
  },
  {
   "cell_type": "code",
   "execution_count": null,
   "metadata": {},
   "outputs": [],
   "source": [
    "slim.plot()"
   ]
  },
  {
   "cell_type": "code",
   "execution_count": null,
   "metadata": {},
   "outputs": [],
   "source": [
    "geojson = json.loads(slim.to_json())\n",
    "features = alt.Data(values=geojson['features'])"
   ]
  },
  {
   "cell_type": "code",
   "execution_count": null,
   "metadata": {},
   "outputs": [],
   "source": [
    "background = alt.Chart(features).mark_geoshape(\n",
    "    fill='lightgray',\n",
    "    stroke='white'\n",
    ").properties(\n",
    "    width=800,\n",
    "    height=500\n",
    ").project('albersUsa')"
   ]
  },
  {
   "cell_type": "code",
   "execution_count": null,
   "metadata": {},
   "outputs": [],
   "source": [
    "base = alt.Chart(features).mark_geoshape(\n",
    "    fill='lightgray',\n",
    "    strokeWidth=0.1,\n",
    "    stroke='white'\n",
    ").properties(\n",
    "    width=800,\n",
    "    height=500\n",
    ").project('albersUsa')"
   ]
  },
  {
   "cell_type": "code",
   "execution_count": null,
   "metadata": {},
   "outputs": [],
   "source": [
    "geoshape = alt.Chart(features).mark_geoshape(\n",
    "    fill='lightgray',\n",
    "    stroke='white'\n",
    ")"
   ]
  },
  {
   "cell_type": "code",
   "execution_count": null,
   "metadata": {},
   "outputs": [],
   "source": [
    "movers = geoshape.encode(\n",
    "    color=alt.Color(\n",
    "        \"properties.mover_group:N\",\n",
    "        scale=alt.Scale(\n",
    "            domain=[0,1, 2, 3, 4, 5, 6],\n",
    "            range=lat.palette['schemes']['fire-7']\n",
    "        ),\n",
    "        legend=None\n",
    "    ),\n",
    ")"
   ]
  },
  {
   "cell_type": "code",
   "execution_count": null,
   "metadata": {},
   "outputs": [],
   "source": [
    "(base + movers).properties(title=\"LA County out migration: 2010-2015\").configure_view(\n",
    "    strokeWidth=0 \n",
    ")"
   ]
  },
  {
   "cell_type": "code",
   "execution_count": null,
   "metadata": {},
   "outputs": [],
   "source": []
  },
  {
   "cell_type": "code",
   "execution_count": null,
   "metadata": {},
   "outputs": [],
   "source": []
  },
  {
   "cell_type": "code",
   "execution_count": null,
   "metadata": {},
   "outputs": [],
   "source": []
  }
 ],
 "metadata": {
  "kernelspec": {
   "display_name": "Python 3",
   "language": "python",
   "name": "python3"
  },
  "language_info": {
   "codemirror_mode": {
    "name": "ipython",
    "version": 3
   },
   "file_extension": ".py",
   "mimetype": "text/x-python",
   "name": "python",
   "nbconvert_exporter": "python",
   "pygments_lexer": "ipython3",
   "version": "3.7.3"
  }
 },
 "nbformat": 4,
 "nbformat_minor": 2
}
