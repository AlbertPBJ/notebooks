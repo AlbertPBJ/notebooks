{
 "cells": [
  {
   "cell_type": "markdown",
   "metadata": {},
   "source": [
    "## How often does @realDonaldTrump tweet each day?"
   ]
  },
  {
   "cell_type": "code",
   "execution_count": 1,
   "metadata": {},
   "outputs": [
    {
     "data": {
      "text/plain": [
       "ThemeRegistry.enable('latimes')"
      ]
     },
     "execution_count": 1,
     "metadata": {},
     "output_type": "execute_result"
    }
   ],
   "source": [
    "import altair as alt\n",
    "import pandas as pd\n",
    "import matplotlib as mpl\n",
    "import numpy as np\n",
    "import json\n",
    "import pytz\n",
    "from datetime import datetime\n",
    "import altair_latimes as lat\n",
    "alt.themes.register('latimes', lat.theme)\n",
    "alt.themes.enable('latimes')"
   ]
  },
  {
   "cell_type": "markdown",
   "metadata": {},
   "source": [
    "### Read dump downloaded from trumptweetarchive.com"
   ]
  },
  {
   "cell_type": "code",
   "execution_count": 4,
   "metadata": {},
   "outputs": [],
   "source": [
    "%run '00-trump-tweets-processing.ipynb'"
   ]
  },
  {
   "cell_type": "code",
   "execution_count": 5,
   "metadata": {},
   "outputs": [],
   "source": [
    "src = pd.read_json('/Users/mhustiles/data/github/notebooks/trump-tweet-frequency/output/realdonaldtrump.json') "
   ]
  },
  {
   "cell_type": "markdown",
   "metadata": {},
   "source": [
    "### How many tweets since May 2009?"
   ]
  },
  {
   "cell_type": "code",
   "execution_count": 6,
   "metadata": {},
   "outputs": [
    {
     "data": {
      "text/plain": [
       "53477"
      ]
     },
     "execution_count": 6,
     "metadata": {},
     "output_type": "execute_result"
    }
   ],
   "source": [
    "len(src)"
   ]
  },
  {
   "cell_type": "code",
   "execution_count": 8,
   "metadata": {},
   "outputs": [
    {
     "data": {
      "text/html": [
       "<div>\n",
       "<style scoped>\n",
       "    .dataframe tbody tr th:only-of-type {\n",
       "        vertical-align: middle;\n",
       "    }\n",
       "\n",
       "    .dataframe tbody tr th {\n",
       "        vertical-align: top;\n",
       "    }\n",
       "\n",
       "    .dataframe thead th {\n",
       "        text-align: right;\n",
       "    }\n",
       "</style>\n",
       "<table border=\"1\" class=\"dataframe\">\n",
       "  <thead>\n",
       "    <tr style=\"text-align: right;\">\n",
       "      <th></th>\n",
       "      <th>index</th>\n",
       "      <th>source</th>\n",
       "      <th>id_str</th>\n",
       "      <th>text</th>\n",
       "      <th>created_at</th>\n",
       "      <th>retweet_count</th>\n",
       "      <th>in_reply_to_user_id_str</th>\n",
       "      <th>favorite_count</th>\n",
       "      <th>is_retweet</th>\n",
       "      <th>eastern_created_at</th>\n",
       "      <th>date</th>\n",
       "      <th>year</th>\n",
       "      <th>month</th>\n",
       "      <th>day</th>\n",
       "      <th>hour</th>\n",
       "      <th>minute</th>\n",
       "      <th>time</th>\n",
       "    </tr>\n",
       "  </thead>\n",
       "  <tbody>\n",
       "    <tr>\n",
       "      <th>0</th>\n",
       "      <td>0</td>\n",
       "      <td>Twitter for iPhone</td>\n",
       "      <td>1313529166265020416</td>\n",
       "      <td>Did anyone get to see that absolute “Joke” of ...</td>\n",
       "      <td>2020-10-06 17:18:52</td>\n",
       "      <td>12</td>\n",
       "      <td>NaN</td>\n",
       "      <td>4</td>\n",
       "      <td>False</td>\n",
       "      <td>2020-10-06 17:18:52</td>\n",
       "      <td>2020-10-06</td>\n",
       "      <td>2020</td>\n",
       "      <td>10</td>\n",
       "      <td>6</td>\n",
       "      <td>10</td>\n",
       "      <td>18</td>\n",
       "      <td>10:18:52</td>\n",
       "    </tr>\n",
       "    <tr>\n",
       "      <th>1</th>\n",
       "      <td>1</td>\n",
       "      <td>Twitter for iPhone</td>\n",
       "      <td>1313511340124917760</td>\n",
       "      <td>REPEAL SECTION 230!!!</td>\n",
       "      <td>2020-10-06 16:08:02</td>\n",
       "      <td>15402</td>\n",
       "      <td>NaN</td>\n",
       "      <td>61375</td>\n",
       "      <td>False</td>\n",
       "      <td>2020-10-06 16:08:02</td>\n",
       "      <td>2020-10-06</td>\n",
       "      <td>2020</td>\n",
       "      <td>10</td>\n",
       "      <td>6</td>\n",
       "      <td>9</td>\n",
       "      <td>8</td>\n",
       "      <td>09:08:02</td>\n",
       "    </tr>\n",
       "    <tr>\n",
       "      <th>2</th>\n",
       "      <td>2</td>\n",
       "      <td>Twitter for iPhone</td>\n",
       "      <td>1313510118437392384</td>\n",
       "      <td>The Fake News Media refuses to discuss how goo...</td>\n",
       "      <td>2020-10-06 16:03:10</td>\n",
       "      <td>13180</td>\n",
       "      <td>NaN</td>\n",
       "      <td>41808</td>\n",
       "      <td>False</td>\n",
       "      <td>2020-10-06 16:03:10</td>\n",
       "      <td>2020-10-06</td>\n",
       "      <td>2020</td>\n",
       "      <td>10</td>\n",
       "      <td>6</td>\n",
       "      <td>9</td>\n",
       "      <td>3</td>\n",
       "      <td>09:03:10</td>\n",
       "    </tr>\n",
       "    <tr>\n",
       "      <th>3</th>\n",
       "      <td>3</td>\n",
       "      <td>Twitter for iPhone</td>\n",
       "      <td>1313507608196771840</td>\n",
       "      <td>https://t.co/519BvRfcU2</td>\n",
       "      <td>2020-10-06 15:53:12</td>\n",
       "      <td>8284</td>\n",
       "      <td>NaN</td>\n",
       "      <td>29977</td>\n",
       "      <td>False</td>\n",
       "      <td>2020-10-06 15:53:12</td>\n",
       "      <td>2020-10-06</td>\n",
       "      <td>2020</td>\n",
       "      <td>10</td>\n",
       "      <td>6</td>\n",
       "      <td>8</td>\n",
       "      <td>53</td>\n",
       "      <td>08:53:12</td>\n",
       "    </tr>\n",
       "    <tr>\n",
       "      <th>4</th>\n",
       "      <td>4</td>\n",
       "      <td>Twitter for iPhone</td>\n",
       "      <td>1313505418866552832</td>\n",
       "      <td>THANK YOU! https://t.co/NvawGFpSIl</td>\n",
       "      <td>2020-10-06 15:44:30</td>\n",
       "      <td>8438</td>\n",
       "      <td>NaN</td>\n",
       "      <td>32892</td>\n",
       "      <td>False</td>\n",
       "      <td>2020-10-06 15:44:30</td>\n",
       "      <td>2020-10-06</td>\n",
       "      <td>2020</td>\n",
       "      <td>10</td>\n",
       "      <td>6</td>\n",
       "      <td>8</td>\n",
       "      <td>44</td>\n",
       "      <td>08:44:30</td>\n",
       "    </tr>\n",
       "  </tbody>\n",
       "</table>\n",
       "</div>"
      ],
      "text/plain": [
       "   index              source               id_str  \\\n",
       "0      0  Twitter for iPhone  1313529166265020416   \n",
       "1      1  Twitter for iPhone  1313511340124917760   \n",
       "2      2  Twitter for iPhone  1313510118437392384   \n",
       "3      3  Twitter for iPhone  1313507608196771840   \n",
       "4      4  Twitter for iPhone  1313505418866552832   \n",
       "\n",
       "                                                text          created_at  \\\n",
       "0  Did anyone get to see that absolute “Joke” of ... 2020-10-06 17:18:52   \n",
       "1                              REPEAL SECTION 230!!! 2020-10-06 16:08:02   \n",
       "2  The Fake News Media refuses to discuss how goo... 2020-10-06 16:03:10   \n",
       "3                            https://t.co/519BvRfcU2 2020-10-06 15:53:12   \n",
       "4                 THANK YOU! https://t.co/NvawGFpSIl 2020-10-06 15:44:30   \n",
       "\n",
       "   retweet_count  in_reply_to_user_id_str  favorite_count  is_retweet  \\\n",
       "0             12                      NaN               4       False   \n",
       "1          15402                      NaN           61375       False   \n",
       "2          13180                      NaN           41808       False   \n",
       "3           8284                      NaN           29977       False   \n",
       "4           8438                      NaN           32892       False   \n",
       "\n",
       "   eastern_created_at       date  year  month  day  hour  minute      time  \n",
       "0 2020-10-06 17:18:52 2020-10-06  2020     10    6    10      18  10:18:52  \n",
       "1 2020-10-06 16:08:02 2020-10-06  2020     10    6     9       8  09:08:02  \n",
       "2 2020-10-06 16:03:10 2020-10-06  2020     10    6     9       3  09:03:10  \n",
       "3 2020-10-06 15:53:12 2020-10-06  2020     10    6     8      53  08:53:12  \n",
       "4 2020-10-06 15:44:30 2020-10-06  2020     10    6     8      44  08:44:30  "
      ]
     },
     "execution_count": 8,
     "metadata": {},
     "output_type": "execute_result"
    }
   ],
   "source": [
    "src.head()"
   ]
  },
  {
   "cell_type": "markdown",
   "metadata": {},
   "source": [
    "### Clean up dates"
   ]
  },
  {
   "cell_type": "code",
   "execution_count": 9,
   "metadata": {},
   "outputs": [],
   "source": [
    "src['eastern_created_at'] = src['created_at'].dt.time\n",
    "src['eastern_created_at'] = src['created_at'].dt.tz_localize(\"GMT\").dt.tz_convert('America/Los_Angeles')\n",
    "src['date'] = pd.to_datetime(src['eastern_created_at']).dt.strftime('%m/%d/%Y')\n",
    "src['date'] = pd.to_datetime(src['date'])\n",
    "src['year'] = src['eastern_created_at'].dt.year\n",
    "src['month'] = src['eastern_created_at'].dt.month\n",
    "src['day'] = src['eastern_created_at'].dt.day\n",
    "src['hour'] = src['eastern_created_at'].dt.hour\n",
    "src['minute'] = src['eastern_created_at'].dt.minute\n",
    "src['time'] = src['eastern_created_at'].dt.time\n",
    "src['id_str'] = src['id_str'].astype(str)\n",
    "src['year'] = src['year'].astype(str)\n",
    "src['month'] = src['month'].astype(str)\n",
    "src['day'] = src['day'].astype(str)\n",
    "src['hour'] = src['hour'].astype(str)"
   ]
  },
  {
   "cell_type": "markdown",
   "metadata": {},
   "source": [
    "### Most popular tweets"
   ]
  },
  {
   "cell_type": "code",
   "execution_count": 10,
   "metadata": {},
   "outputs": [
    {
     "data": {
      "text/html": [
       "<div>\n",
       "<style scoped>\n",
       "    .dataframe tbody tr th:only-of-type {\n",
       "        vertical-align: middle;\n",
       "    }\n",
       "\n",
       "    .dataframe tbody tr th {\n",
       "        vertical-align: top;\n",
       "    }\n",
       "\n",
       "    .dataframe thead th {\n",
       "        text-align: right;\n",
       "    }\n",
       "</style>\n",
       "<table border=\"1\" class=\"dataframe\">\n",
       "  <thead>\n",
       "    <tr style=\"text-align: right;\">\n",
       "      <th></th>\n",
       "      <th>id_str</th>\n",
       "      <th>date</th>\n",
       "      <th>text</th>\n",
       "      <th>favorite_count</th>\n",
       "    </tr>\n",
       "  </thead>\n",
       "  <tbody>\n",
       "    <tr>\n",
       "      <th>58</th>\n",
       "      <td>1311892190680014848</td>\n",
       "      <td>2020-10-01</td>\n",
       "      <td>Tonight, @FLOTUS and I tested positive for COV...</td>\n",
       "      <td>1886131</td>\n",
       "    </tr>\n",
       "    <tr>\n",
       "      <th>56</th>\n",
       "      <td>1312233807991496704</td>\n",
       "      <td>2020-10-02</td>\n",
       "      <td>Going welI, I think! Thank you to all. LOVE!!!</td>\n",
       "      <td>1219995</td>\n",
       "    </tr>\n",
       "    <tr>\n",
       "      <th>13819</th>\n",
       "      <td>1157345692517634048</td>\n",
       "      <td>2019-08-02</td>\n",
       "      <td>A$AP Rocky released from prison and on his way...</td>\n",
       "      <td>879647</td>\n",
       "    </tr>\n",
       "  </tbody>\n",
       "</table>\n",
       "</div>"
      ],
      "text/plain": [
       "                    id_str       date  \\\n",
       "58     1311892190680014848 2020-10-01   \n",
       "56     1312233807991496704 2020-10-02   \n",
       "13819  1157345692517634048 2019-08-02   \n",
       "\n",
       "                                                    text  favorite_count  \n",
       "58     Tonight, @FLOTUS and I tested positive for COV...         1886131  \n",
       "56        Going welI, I think! Thank you to all. LOVE!!!         1219995  \n",
       "13819  A$AP Rocky released from prison and on his way...          879647  "
      ]
     },
     "execution_count": 10,
     "metadata": {},
     "output_type": "execute_result"
    }
   ],
   "source": [
    "src[['id_str','date','text','favorite_count' ]].sort_values('favorite_count', ascending=False).head(3)"
   ]
  },
  {
   "cell_type": "code",
   "execution_count": 11,
   "metadata": {},
   "outputs": [
    {
     "data": {
      "text/html": [
       "<div>\n",
       "<style scoped>\n",
       "    .dataframe tbody tr th:only-of-type {\n",
       "        vertical-align: middle;\n",
       "    }\n",
       "\n",
       "    .dataframe tbody tr th {\n",
       "        vertical-align: top;\n",
       "    }\n",
       "\n",
       "    .dataframe thead th {\n",
       "        text-align: right;\n",
       "    }\n",
       "</style>\n",
       "<table border=\"1\" class=\"dataframe\">\n",
       "  <thead>\n",
       "    <tr style=\"text-align: right;\">\n",
       "      <th></th>\n",
       "      <th>id_str</th>\n",
       "      <th>date</th>\n",
       "      <th>text</th>\n",
       "      <th>retweet_count</th>\n",
       "    </tr>\n",
       "  </thead>\n",
       "  <tbody>\n",
       "    <tr>\n",
       "      <th>58</th>\n",
       "      <td>1311892190680014848</td>\n",
       "      <td>2020-10-01</td>\n",
       "      <td>Tonight, @FLOTUS and I tested positive for COV...</td>\n",
       "      <td>416790</td>\n",
       "    </tr>\n",
       "    <tr>\n",
       "      <th>22238</th>\n",
       "      <td>881503147168071680</td>\n",
       "      <td>2017-07-02</td>\n",
       "      <td>#FraudNewsCNN #FNN https://t.co/WYUnHjjUjg</td>\n",
       "      <td>369530</td>\n",
       "    </tr>\n",
       "    <tr>\n",
       "      <th>23525</th>\n",
       "      <td>795954831718498304</td>\n",
       "      <td>2016-11-08</td>\n",
       "      <td>TODAY WE MAKE AMERICA GREAT AGAIN!</td>\n",
       "      <td>344806</td>\n",
       "    </tr>\n",
       "  </tbody>\n",
       "</table>\n",
       "</div>"
      ],
      "text/plain": [
       "                    id_str       date  \\\n",
       "58     1311892190680014848 2020-10-01   \n",
       "22238   881503147168071680 2017-07-02   \n",
       "23525   795954831718498304 2016-11-08   \n",
       "\n",
       "                                                    text  retweet_count  \n",
       "58     Tonight, @FLOTUS and I tested positive for COV...         416790  \n",
       "22238         #FraudNewsCNN #FNN https://t.co/WYUnHjjUjg         369530  \n",
       "23525                 TODAY WE MAKE AMERICA GREAT AGAIN!         344806  "
      ]
     },
     "execution_count": 11,
     "metadata": {},
     "output_type": "execute_result"
    }
   ],
   "source": [
    "src[['id_str','date','text','retweet_count']].sort_values('retweet_count', ascending=False).head(3)"
   ]
  },
  {
   "cell_type": "markdown",
   "metadata": {},
   "source": [
    "### Time difference between tweets"
   ]
  },
  {
   "cell_type": "code",
   "execution_count": 12,
   "metadata": {},
   "outputs": [],
   "source": [
    "trumppres = pd.DataFrame(src[src.date >= '01/20/2017']).sort_values('created_at', ascending=True)"
   ]
  },
  {
   "cell_type": "code",
   "execution_count": 13,
   "metadata": {},
   "outputs": [],
   "source": [
    "trumppres['diff'] = (trumppres['created_at'] - trumppres['created_at'].shift(1)).astype('timedelta64[h]')"
   ]
  },
  {
   "cell_type": "code",
   "execution_count": 14,
   "metadata": {},
   "outputs": [
    {
     "data": {
      "text/html": [
       "<div>\n",
       "<style scoped>\n",
       "    .dataframe tbody tr th:only-of-type {\n",
       "        vertical-align: middle;\n",
       "    }\n",
       "\n",
       "    .dataframe tbody tr th {\n",
       "        vertical-align: top;\n",
       "    }\n",
       "\n",
       "    .dataframe thead th {\n",
       "        text-align: right;\n",
       "    }\n",
       "</style>\n",
       "<table border=\"1\" class=\"dataframe\">\n",
       "  <thead>\n",
       "    <tr style=\"text-align: right;\">\n",
       "      <th></th>\n",
       "      <th>index</th>\n",
       "      <th>source</th>\n",
       "      <th>id_str</th>\n",
       "      <th>text</th>\n",
       "      <th>created_at</th>\n",
       "      <th>retweet_count</th>\n",
       "      <th>in_reply_to_user_id_str</th>\n",
       "      <th>favorite_count</th>\n",
       "      <th>is_retweet</th>\n",
       "      <th>eastern_created_at</th>\n",
       "      <th>date</th>\n",
       "      <th>year</th>\n",
       "      <th>month</th>\n",
       "      <th>day</th>\n",
       "      <th>hour</th>\n",
       "      <th>minute</th>\n",
       "      <th>time</th>\n",
       "      <th>diff</th>\n",
       "    </tr>\n",
       "  </thead>\n",
       "  <tbody>\n",
       "    <tr>\n",
       "      <th>20679</th>\n",
       "      <td>3509</td>\n",
       "      <td>Twitter for iPhone</td>\n",
       "      <td>950866561153331200</td>\n",
       "      <td>Today, it was my great honor to sign a new Exe...</td>\n",
       "      <td>2018-01-09 23:07:09</td>\n",
       "      <td>19481</td>\n",
       "      <td>NaN</td>\n",
       "      <td>82151</td>\n",
       "      <td>False</td>\n",
       "      <td>2018-01-09 15:07:09-08:00</td>\n",
       "      <td>2018-01-09</td>\n",
       "      <td>2018</td>\n",
       "      <td>1</td>\n",
       "      <td>9</td>\n",
       "      <td>15</td>\n",
       "      <td>7</td>\n",
       "      <td>15:07:09</td>\n",
       "      <td>201.0</td>\n",
       "    </tr>\n",
       "    <tr>\n",
       "      <th>22417</th>\n",
       "      <td>1737</td>\n",
       "      <td>Twitter for iPhone</td>\n",
       "      <td>873120139222306816</td>\n",
       "      <td>Despite so many false statements and lies, tot...</td>\n",
       "      <td>2017-06-09 10:10:37</td>\n",
       "      <td>37128</td>\n",
       "      <td>NaN</td>\n",
       "      <td>126953</td>\n",
       "      <td>False</td>\n",
       "      <td>2017-06-09 03:10:37-07:00</td>\n",
       "      <td>2017-06-09</td>\n",
       "      <td>2017</td>\n",
       "      <td>6</td>\n",
       "      <td>9</td>\n",
       "      <td>3</td>\n",
       "      <td>10</td>\n",
       "      <td>03:10:37</td>\n",
       "      <td>45.0</td>\n",
       "    </tr>\n",
       "    <tr>\n",
       "      <th>20375</th>\n",
       "      <td>3205</td>\n",
       "      <td>Twitter for iPhone</td>\n",
       "      <td>968455547094753280</td>\n",
       "      <td>“He’s got a very good point. Somebody in the J...</td>\n",
       "      <td>2018-02-27 11:59:30</td>\n",
       "      <td>19756</td>\n",
       "      <td>NaN</td>\n",
       "      <td>69464</td>\n",
       "      <td>False</td>\n",
       "      <td>2018-02-27 03:59:30-08:00</td>\n",
       "      <td>2018-02-27</td>\n",
       "      <td>2018</td>\n",
       "      <td>2</td>\n",
       "      <td>27</td>\n",
       "      <td>3</td>\n",
       "      <td>59</td>\n",
       "      <td>03:59:30</td>\n",
       "      <td>40.0</td>\n",
       "    </tr>\n",
       "    <tr>\n",
       "      <th>16219</th>\n",
       "      <td>6867</td>\n",
       "      <td>Twitter for iPhone</td>\n",
       "      <td>1109787378242240512</td>\n",
       "      <td>Good Morning, Have A Great Day!</td>\n",
       "      <td>2019-03-24 12:01:44</td>\n",
       "      <td>77697</td>\n",
       "      <td>NaN</td>\n",
       "      <td>462655</td>\n",
       "      <td>False</td>\n",
       "      <td>2019-03-24 05:01:44-07:00</td>\n",
       "      <td>2019-03-24</td>\n",
       "      <td>2019</td>\n",
       "      <td>3</td>\n",
       "      <td>24</td>\n",
       "      <td>5</td>\n",
       "      <td>1</td>\n",
       "      <td>05:01:44</td>\n",
       "      <td>39.0</td>\n",
       "    </tr>\n",
       "    <tr>\n",
       "      <th>22714</th>\n",
       "      <td>2034</td>\n",
       "      <td>Twitter for iPhone</td>\n",
       "      <td>853583417916755968</td>\n",
       "      <td>Why would I call China a currency manipulator ...</td>\n",
       "      <td>2017-04-16 12:18:40</td>\n",
       "      <td>15001</td>\n",
       "      <td>NaN</td>\n",
       "      <td>72649</td>\n",
       "      <td>False</td>\n",
       "      <td>2017-04-16 05:18:40-07:00</td>\n",
       "      <td>2017-04-16</td>\n",
       "      <td>2017</td>\n",
       "      <td>4</td>\n",
       "      <td>16</td>\n",
       "      <td>5</td>\n",
       "      <td>18</td>\n",
       "      <td>05:18:40</td>\n",
       "      <td>38.0</td>\n",
       "    </tr>\n",
       "  </tbody>\n",
       "</table>\n",
       "</div>"
      ],
      "text/plain": [
       "       index              source               id_str  \\\n",
       "20679   3509  Twitter for iPhone   950866561153331200   \n",
       "22417   1737  Twitter for iPhone   873120139222306816   \n",
       "20375   3205  Twitter for iPhone   968455547094753280   \n",
       "16219   6867  Twitter for iPhone  1109787378242240512   \n",
       "22714   2034  Twitter for iPhone   853583417916755968   \n",
       "\n",
       "                                                    text          created_at  \\\n",
       "20679  Today, it was my great honor to sign a new Exe... 2018-01-09 23:07:09   \n",
       "22417  Despite so many false statements and lies, tot... 2017-06-09 10:10:37   \n",
       "20375  “He’s got a very good point. Somebody in the J... 2018-02-27 11:59:30   \n",
       "16219                    Good Morning, Have A Great Day! 2019-03-24 12:01:44   \n",
       "22714  Why would I call China a currency manipulator ... 2017-04-16 12:18:40   \n",
       "\n",
       "       retweet_count  in_reply_to_user_id_str  favorite_count  is_retweet  \\\n",
       "20679          19481                      NaN           82151       False   \n",
       "22417          37128                      NaN          126953       False   \n",
       "20375          19756                      NaN           69464       False   \n",
       "16219          77697                      NaN          462655       False   \n",
       "22714          15001                      NaN           72649       False   \n",
       "\n",
       "             eastern_created_at       date  year month day hour  minute  \\\n",
       "20679 2018-01-09 15:07:09-08:00 2018-01-09  2018     1   9   15       7   \n",
       "22417 2017-06-09 03:10:37-07:00 2017-06-09  2017     6   9    3      10   \n",
       "20375 2018-02-27 03:59:30-08:00 2018-02-27  2018     2  27    3      59   \n",
       "16219 2019-03-24 05:01:44-07:00 2019-03-24  2019     3  24    5       1   \n",
       "22714 2017-04-16 05:18:40-07:00 2017-04-16  2017     4  16    5      18   \n",
       "\n",
       "           time   diff  \n",
       "20679  15:07:09  201.0  \n",
       "22417  03:10:37   45.0  \n",
       "20375  03:59:30   40.0  \n",
       "16219  05:01:44   39.0  \n",
       "22714  05:18:40   38.0  "
      ]
     },
     "execution_count": 14,
     "metadata": {},
     "output_type": "execute_result"
    }
   ],
   "source": [
    "trumppres.sort_values('diff', ascending=False).head()"
   ]
  },
  {
   "cell_type": "code",
   "execution_count": 15,
   "metadata": {},
   "outputs": [
    {
     "data": {
      "text/plain": [
       "1.178211831813664"
      ]
     },
     "execution_count": 15,
     "metadata": {},
     "output_type": "execute_result"
    }
   ],
   "source": [
    "trumppres['diff'].mean()"
   ]
  },
  {
   "cell_type": "markdown",
   "metadata": {},
   "source": [
    "### Tweets per month, year"
   ]
  },
  {
   "cell_type": "code",
   "execution_count": 16,
   "metadata": {},
   "outputs": [],
   "source": [
    "trump_years = src.groupby(['year','month']).agg({'date': 'count'}).reset_index()"
   ]
  },
  {
   "cell_type": "code",
   "execution_count": 17,
   "metadata": {},
   "outputs": [
    {
     "data": {
      "text/html": [
       "<div>\n",
       "<style scoped>\n",
       "    .dataframe tbody tr th:only-of-type {\n",
       "        vertical-align: middle;\n",
       "    }\n",
       "\n",
       "    .dataframe tbody tr th {\n",
       "        vertical-align: top;\n",
       "    }\n",
       "\n",
       "    .dataframe thead th {\n",
       "        text-align: right;\n",
       "    }\n",
       "</style>\n",
       "<table border=\"1\" class=\"dataframe\">\n",
       "  <thead>\n",
       "    <tr style=\"text-align: right;\">\n",
       "      <th></th>\n",
       "      <th>year</th>\n",
       "      <th>month</th>\n",
       "      <th>date</th>\n",
       "    </tr>\n",
       "  </thead>\n",
       "  <tbody>\n",
       "    <tr>\n",
       "      <th>133</th>\n",
       "      <td>2020</td>\n",
       "      <td>5</td>\n",
       "      <td>1106</td>\n",
       "    </tr>\n",
       "    <tr>\n",
       "      <th>134</th>\n",
       "      <td>2020</td>\n",
       "      <td>6</td>\n",
       "      <td>1139</td>\n",
       "    </tr>\n",
       "    <tr>\n",
       "      <th>135</th>\n",
       "      <td>2020</td>\n",
       "      <td>7</td>\n",
       "      <td>853</td>\n",
       "    </tr>\n",
       "    <tr>\n",
       "      <th>136</th>\n",
       "      <td>2020</td>\n",
       "      <td>8</td>\n",
       "      <td>1132</td>\n",
       "    </tr>\n",
       "    <tr>\n",
       "      <th>137</th>\n",
       "      <td>2020</td>\n",
       "      <td>9</td>\n",
       "      <td>1331</td>\n",
       "    </tr>\n",
       "  </tbody>\n",
       "</table>\n",
       "</div>"
      ],
      "text/plain": [
       "     year month  date\n",
       "133  2020     5  1106\n",
       "134  2020     6  1139\n",
       "135  2020     7   853\n",
       "136  2020     8  1132\n",
       "137  2020     9  1331"
      ]
     },
     "execution_count": 17,
     "metadata": {},
     "output_type": "execute_result"
    }
   ],
   "source": [
    "trump_years.tail()"
   ]
  },
  {
   "cell_type": "markdown",
   "metadata": {},
   "source": [
    "### What did he average each day in retweets, likes and replies"
   ]
  },
  {
   "cell_type": "code",
   "execution_count": 18,
   "metadata": {},
   "outputs": [],
   "source": [
    "trump_engagements_day = src.groupby(['month', 'year']).agg({'id_str':'size', 'retweet_count':['sum', 'mean'], 'favorite_count':['sum', 'mean']}).round().reset_index()"
   ]
  },
  {
   "cell_type": "code",
   "execution_count": 19,
   "metadata": {},
   "outputs": [],
   "source": [
    "trump_engagements_day.columns = trump_engagements_day.columns.map('_'.join).str.strip().str.rstrip('_')"
   ]
  },
  {
   "cell_type": "code",
   "execution_count": 20,
   "metadata": {},
   "outputs": [
    {
     "data": {
      "text/html": [
       "<div>\n",
       "<style scoped>\n",
       "    .dataframe tbody tr th:only-of-type {\n",
       "        vertical-align: middle;\n",
       "    }\n",
       "\n",
       "    .dataframe tbody tr th {\n",
       "        vertical-align: top;\n",
       "    }\n",
       "\n",
       "    .dataframe thead th {\n",
       "        text-align: right;\n",
       "    }\n",
       "</style>\n",
       "<table border=\"1\" class=\"dataframe\">\n",
       "  <thead>\n",
       "    <tr style=\"text-align: right;\">\n",
       "      <th></th>\n",
       "      <th>month</th>\n",
       "      <th>year</th>\n",
       "      <th>id_str_size</th>\n",
       "      <th>retweet_count_sum</th>\n",
       "      <th>retweet_count_mean</th>\n",
       "      <th>favorite_count_sum</th>\n",
       "      <th>favorite_count_mean</th>\n",
       "    </tr>\n",
       "  </thead>\n",
       "  <tbody>\n",
       "    <tr>\n",
       "      <th>133</th>\n",
       "      <td>9</td>\n",
       "      <td>2016</td>\n",
       "      <td>288</td>\n",
       "      <td>2659432</td>\n",
       "      <td>9234.0</td>\n",
       "      <td>6972293</td>\n",
       "      <td>24209.0</td>\n",
       "    </tr>\n",
       "    <tr>\n",
       "      <th>134</th>\n",
       "      <td>9</td>\n",
       "      <td>2017</td>\n",
       "      <td>307</td>\n",
       "      <td>5047042</td>\n",
       "      <td>16440.0</td>\n",
       "      <td>19423102</td>\n",
       "      <td>63267.0</td>\n",
       "    </tr>\n",
       "    <tr>\n",
       "      <th>135</th>\n",
       "      <td>9</td>\n",
       "      <td>2018</td>\n",
       "      <td>378</td>\n",
       "      <td>6368803</td>\n",
       "      <td>16849.0</td>\n",
       "      <td>21990052</td>\n",
       "      <td>58175.0</td>\n",
       "    </tr>\n",
       "    <tr>\n",
       "      <th>136</th>\n",
       "      <td>9</td>\n",
       "      <td>2019</td>\n",
       "      <td>800</td>\n",
       "      <td>11384264</td>\n",
       "      <td>14230.0</td>\n",
       "      <td>34639760</td>\n",
       "      <td>43300.0</td>\n",
       "    </tr>\n",
       "    <tr>\n",
       "      <th>137</th>\n",
       "      <td>9</td>\n",
       "      <td>2020</td>\n",
       "      <td>1331</td>\n",
       "      <td>20806605</td>\n",
       "      <td>15632.0</td>\n",
       "      <td>56868183</td>\n",
       "      <td>42726.0</td>\n",
       "    </tr>\n",
       "  </tbody>\n",
       "</table>\n",
       "</div>"
      ],
      "text/plain": [
       "    month  year  id_str_size  retweet_count_sum  retweet_count_mean  \\\n",
       "133     9  2016          288            2659432              9234.0   \n",
       "134     9  2017          307            5047042             16440.0   \n",
       "135     9  2018          378            6368803             16849.0   \n",
       "136     9  2019          800           11384264             14230.0   \n",
       "137     9  2020         1331           20806605             15632.0   \n",
       "\n",
       "     favorite_count_sum  favorite_count_mean  \n",
       "133             6972293              24209.0  \n",
       "134            19423102              63267.0  \n",
       "135            21990052              58175.0  \n",
       "136            34639760              43300.0  \n",
       "137            56868183              42726.0  "
      ]
     },
     "execution_count": 20,
     "metadata": {},
     "output_type": "execute_result"
    }
   ],
   "source": [
    "trump_engagements_day.tail()"
   ]
  },
  {
   "cell_type": "code",
   "execution_count": 21,
   "metadata": {},
   "outputs": [
    {
     "data": {
      "text/html": [
       "\n",
       "<div id=\"altair-viz-11773ecfd9a843be9b13ca48786b260e\"></div>\n",
       "<script type=\"text/javascript\">\n",
       "  (function(spec, embedOpt){\n",
       "    let outputDiv = document.currentScript.previousElementSibling;\n",
       "    if (outputDiv.id !== \"altair-viz-11773ecfd9a843be9b13ca48786b260e\") {\n",
       "      outputDiv = document.getElementById(\"altair-viz-11773ecfd9a843be9b13ca48786b260e\");\n",
       "    }\n",
       "    const paths = {\n",
       "      \"vega\": \"https://cdn.jsdelivr.net/npm//vega@5?noext\",\n",
       "      \"vega-lib\": \"https://cdn.jsdelivr.net/npm//vega-lib?noext\",\n",
       "      \"vega-lite\": \"https://cdn.jsdelivr.net/npm//vega-lite@4.8.1?noext\",\n",
       "      \"vega-embed\": \"https://cdn.jsdelivr.net/npm//vega-embed@6?noext\",\n",
       "    };\n",
       "\n",
       "    function loadScript(lib) {\n",
       "      return new Promise(function(resolve, reject) {\n",
       "        var s = document.createElement('script');\n",
       "        s.src = paths[lib];\n",
       "        s.async = true;\n",
       "        s.onload = () => resolve(paths[lib]);\n",
       "        s.onerror = () => reject(`Error loading script: ${paths[lib]}`);\n",
       "        document.getElementsByTagName(\"head\")[0].appendChild(s);\n",
       "      });\n",
       "    }\n",
       "\n",
       "    function showError(err) {\n",
       "      outputDiv.innerHTML = `<div class=\"error\" style=\"color:red;\">${err}</div>`;\n",
       "      throw err;\n",
       "    }\n",
       "\n",
       "    function displayChart(vegaEmbed) {\n",
       "      vegaEmbed(outputDiv, spec, embedOpt)\n",
       "        .catch(err => showError(`Javascript Error: ${err.message}<br>This usually means there's a typo in your chart specification. See the javascript console for the full traceback.`));\n",
       "    }\n",
       "\n",
       "    if(typeof define === \"function\" && define.amd) {\n",
       "      requirejs.config({paths});\n",
       "      require([\"vega-embed\"], displayChart, err => showError(`Error loading script: ${err.message}`));\n",
       "    } else if (typeof vegaEmbed === \"function\") {\n",
       "      displayChart(vegaEmbed);\n",
       "    } else {\n",
       "      loadScript(\"vega\")\n",
       "        .then(() => loadScript(\"vega-lite\"))\n",
       "        .then(() => loadScript(\"vega-embed\"))\n",
       "        .catch(showError)\n",
       "        .then(() => displayChart(vegaEmbed));\n",
       "    }\n",
       "  })({\"config\": {\"view\": {\"width\": 800, \"height\": 450, \"strokeOpacity\": 0}, \"background\": \"#ffffff\", \"title\": {\"anchor\": \"start\", \"font\": \"Benton Gothic Bold, sans\", \"fontColor\": \"#000000\", \"fontSize\": 22, \"fontWeight\": \"normal\"}, \"arc\": {\"fill\": \"#82c6df\"}, \"area\": {\"fill\": \"#82c6df\"}, \"line\": {\"stroke\": \"#82c6df\", \"strokeWidth\": 3}, \"path\": {\"stroke\": \"#82c6df\"}, \"rect\": {\"fill\": \"#82c6df\"}, \"shape\": {\"stroke\": \"#82c6df\"}, \"bar\": {\"fill\": \"#82c6df\"}, \"point\": {\"stroke\": \"#82c6df\"}, \"symbol\": {\"fill\": \"#82c6df\", \"size\": 30}, \"axis\": {\"titleFont\": \"Benton Gothic Bold, sans\", \"titleFontSize\": 13, \"titleFontWeight\": \"normal\", \"labelFont\": \"Benton Gothic, sans\", \"labelFontSize\": 11.5, \"labelFontWeight\": \"normal\"}, \"axisX\": {\"labelAngle\": 0, \"labelPadding\": 4, \"tickSize\": 3}, \"axisY\": {\"labelBaseline\": \"middle\", \"maxExtent\": 45, \"minExtent\": 45, \"tickSize\": 2, \"titleAlign\": \"left\", \"titleAngle\": 0, \"titleX\": -45, \"titleY\": -11}, \"legend\": {\"titleFont\": \"Benton Gothic Bold, sans\", \"titleFontSize\": 13, \"titleFontWeight\": \"normal\", \"symbolType\": \"square\", \"labelFont\": \"Benton Gothic, sans\", \"labelFontSize\": 11.5}, \"range\": {\"category\": [\"#3580b1\", \"#ec8431\", \"#ab7fb4\", \"#c89d29\", \"#adc839\", \"#829eb1\"], \"diverging\": [\"#e68a4f\", \"#f4bb6a\", \"#f9e39c\", \"#dadfe2\", \"#a6b7c6\", \"#849eae\"], \"heatmap\": [\"#fbf2c7\", \"#f9e39c\", \"#f8d36e\", \"#f4bb6a\", \"#e68a4f\", \"#d15a40\", \"#ab4232\"], \"ordinal\": [\"#fbf2c7\", \"#f9e39c\", \"#f8d36e\", \"#f4bb6a\", \"#e68a4f\", \"#d15a40\", \"#ab4232\"], \"ramp\": [\"#fbf2c7\", \"#f9e39c\", \"#f8d36e\", \"#f4bb6a\", \"#e68a4f\", \"#d15a40\", \"#ab4232\"]}}, \"data\": {\"name\": \"data-56dd509bc8b08144048610d2d5c5b478\"}, \"mark\": {\"type\": \"bar\", \"opacity\": 1, \"size\": 10}, \"encoding\": {\"facet\": {\"type\": \"nominal\", \"columns\": 4, \"field\": \"year\", \"title\": \" \"}, \"x\": {\"type\": \"temporal\", \"axis\": {\"format\": \"%b\", \"grid\": false, \"tickCount\": 1, \"values\": [\"1\", \"12\"]}, \"field\": \"month\", \"title\": \" \"}, \"y\": {\"type\": \"quantitative\", \"axis\": {\"domainOpacity\": 0, \"format\": \"1,s\", \"gridColor\": \"#dddddd\", \"gridWidth\": 0.6, \"offset\": 6, \"tickCount\": 2, \"tickSize\": 0}, \"field\": \"id_str_size\", \"scale\": {\"domain\": [0, 1000]}, \"stack\": null, \"title\": \" \"}}, \"height\": 100, \"title\": \"Monthly tweets by @realDonaldTrump\", \"width\": 150, \"$schema\": \"https://vega.github.io/schema/vega-lite/v4.8.1.json\", \"datasets\": {\"data-56dd509bc8b08144048610d2d5c5b478\": [{\"month\": \"1\", \"year\": \"2017\", \"id_str_size\": 211, \"retweet_count_sum\": 4386360, \"retweet_count_mean\": 20788.0, \"favorite_count_sum\": 19890131, \"favorite_count_mean\": 94266.0}, {\"month\": \"1\", \"year\": \"2018\", \"id_str_size\": 150, \"retweet_count_sum\": 3556529, \"retweet_count_mean\": 23710.0, \"favorite_count_sum\": 13365749, \"favorite_count_mean\": 89105.0}, {\"month\": \"1\", \"year\": \"2019\", \"id_str_size\": 369, \"retweet_count_sum\": 9401774, \"retweet_count_mean\": 25479.0, \"favorite_count_sum\": 35124377, \"favorite_count_mean\": 95188.0}, {\"month\": \"1\", \"year\": \"2020\", \"id_str_size\": 944, \"retweet_count_sum\": 15682329, \"retweet_count_mean\": 16613.0, \"favorite_count_sum\": 42987547, \"favorite_count_mean\": 45538.0}, {\"month\": \"10\", \"year\": \"2017\", \"id_str_size\": 291, \"retweet_count_sum\": 4752175, \"retweet_count_mean\": 16330.0, \"favorite_count_sum\": 19430176, \"favorite_count_mean\": 66770.0}, {\"month\": \"10\", \"year\": \"2018\", \"id_str_size\": 389, \"retweet_count_sum\": 7071746, \"retweet_count_mean\": 18179.0, \"favorite_count_sum\": 25981390, \"favorite_count_mean\": 66790.0}, {\"month\": \"10\", \"year\": \"2019\", \"id_str_size\": 1026, \"retweet_count_sum\": 16814903, \"retweet_count_mean\": 16389.0, \"favorite_count_sum\": 45961149, \"favorite_count_mean\": 44796.0}, {\"month\": \"10\", \"year\": \"2020\", \"id_str_size\": 108, \"retweet_count_sum\": 3887101, \"retweet_count_mean\": 35992.0, \"favorite_count_sum\": 17774242, \"favorite_count_mean\": 164576.0}, {\"month\": \"11\", \"year\": \"2017\", \"id_str_size\": 262, \"retweet_count_sum\": 5026012, \"retweet_count_mean\": 19183.0, \"favorite_count_sum\": 19406216, \"favorite_count_mean\": 74070.0}, {\"month\": \"11\", \"year\": \"2018\", \"id_str_size\": 340, \"retweet_count_sum\": 7056402, \"retweet_count_mean\": 20754.0, \"favorite_count_sum\": 23415671, \"favorite_count_mean\": 68870.0}, {\"month\": \"11\", \"year\": \"2019\", \"id_str_size\": 854, \"retweet_count_sum\": 13123689, \"retweet_count_mean\": 15367.0, \"favorite_count_sum\": 31010722, \"favorite_count_mean\": 36312.0}, {\"month\": \"12\", \"year\": \"2017\", \"id_str_size\": 196, \"retweet_count_sum\": 4147808, \"retweet_count_mean\": 21162.0, \"favorite_count_sum\": 15953176, \"favorite_count_mean\": 81394.0}, {\"month\": \"12\", \"year\": \"2018\", \"id_str_size\": 291, \"retweet_count_sum\": 6570057, \"retweet_count_mean\": 22578.0, \"favorite_count_sum\": 27663655, \"favorite_count_mean\": 95064.0}, {\"month\": \"12\", \"year\": \"2019\", \"id_str_size\": 1144, \"retweet_count_sum\": 16536313, \"retweet_count_mean\": 14455.0, \"favorite_count_sum\": 37310904, \"favorite_count_mean\": 32614.0}, {\"month\": \"2\", \"year\": \"2017\", \"id_str_size\": 153, \"retweet_count_sum\": 3511515, \"retweet_count_mean\": 22951.0, \"favorite_count_sum\": 16548400, \"favorite_count_mean\": 108159.0}, {\"month\": \"2\", \"year\": \"2018\", \"id_str_size\": 175, \"retweet_count_sum\": 4012185, \"retweet_count_mean\": 22927.0, \"favorite_count_sum\": 16596777, \"favorite_count_mean\": 94839.0}, {\"month\": \"2\", \"year\": \"2019\", \"id_str_size\": 250, \"retweet_count_sum\": 6158181, \"retweet_count_mean\": 24633.0, \"favorite_count_sum\": 22733289, \"favorite_count_mean\": 90933.0}, {\"month\": \"2\", \"year\": \"2020\", \"id_str_size\": 902, \"retweet_count_sum\": 13714699, \"retweet_count_mean\": 15205.0, \"favorite_count_sum\": 36089944, \"favorite_count_mean\": 40011.0}, {\"month\": \"3\", \"year\": \"2017\", \"id_str_size\": 145, \"retweet_count_sum\": 2469322, \"retweet_count_mean\": 17030.0, \"favorite_count_sum\": 10738562, \"favorite_count_mean\": 74059.0}, {\"month\": \"3\", \"year\": \"2018\", \"id_str_size\": 171, \"retweet_count_sum\": 3486519, \"retweet_count_mean\": 20389.0, \"favorite_count_sum\": 14316972, \"favorite_count_mean\": 83725.0}, {\"month\": \"3\", \"year\": \"2019\", \"id_str_size\": 400, \"retweet_count_sum\": 8358722, \"retweet_count_mean\": 20897.0, \"favorite_count_sum\": 28243709, \"favorite_count_mean\": 70609.0}, {\"month\": \"3\", \"year\": \"2020\", \"id_str_size\": 968, \"retweet_count_sum\": 14960350, \"retweet_count_mean\": 15455.0, \"favorite_count_sum\": 45458155, \"favorite_count_mean\": 46961.0}, {\"month\": \"4\", \"year\": \"2017\", \"id_str_size\": 152, \"retweet_count_sum\": 2136077, \"retweet_count_mean\": 14053.0, \"favorite_count_sum\": 9122791, \"favorite_count_mean\": 60018.0}, {\"month\": \"4\", \"year\": \"2018\", \"id_str_size\": 257, \"retweet_count_sum\": 5140533, \"retweet_count_mean\": 20002.0, \"favorite_count_sum\": 20347160, \"favorite_count_mean\": 79172.0}, {\"month\": \"4\", \"year\": \"2019\", \"id_str_size\": 431, \"retweet_count_sum\": 8763897, \"retweet_count_mean\": 20334.0, \"favorite_count_sum\": 30809100, \"favorite_count_mean\": 71483.0}, {\"month\": \"4\", \"year\": \"2020\", \"id_str_size\": 848, \"retweet_count_sum\": 15559169, \"retweet_count_mean\": 18348.0, \"favorite_count_sum\": 45773055, \"favorite_count_mean\": 53978.0}, {\"month\": \"5\", \"year\": \"2017\", \"id_str_size\": 157, \"retweet_count_sum\": 2652460, \"retweet_count_mean\": 16895.0, \"favorite_count_sum\": 9954398, \"favorite_count_mean\": 63404.0}, {\"month\": \"5\", \"year\": \"2018\", \"id_str_size\": 259, \"retweet_count_sum\": 5337185, \"retweet_count_mean\": 20607.0, \"favorite_count_sum\": 21549577, \"favorite_count_mean\": 83203.0}, {\"month\": \"5\", \"year\": \"2019\", \"id_str_size\": 692, \"retweet_count_sum\": 10923613, \"retweet_count_mean\": 15786.0, \"favorite_count_sum\": 33550683, \"favorite_count_mean\": 48484.0}, {\"month\": \"5\", \"year\": \"2020\", \"id_str_size\": 1106, \"retweet_count_sum\": 22363264, \"retweet_count_mean\": 20220.0, \"favorite_count_sum\": 61132764, \"favorite_count_mean\": 55274.0}, {\"month\": \"6\", \"year\": \"2017\", \"id_str_size\": 210, \"retweet_count_sum\": 4090974, \"retweet_count_mean\": 19481.0, \"favorite_count_sum\": 15067225, \"favorite_count_mean\": 71749.0}, {\"month\": \"6\", \"year\": \"2018\", \"id_str_size\": 386, \"retweet_count_sum\": 7497811, \"retweet_count_mean\": 19424.0, \"favorite_count_sum\": 28356290, \"favorite_count_mean\": 73462.0}, {\"month\": \"6\", \"year\": \"2019\", \"id_str_size\": 492, \"retweet_count_sum\": 8249927, \"retweet_count_mean\": 16768.0, \"favorite_count_sum\": 30585525, \"favorite_count_mean\": 62166.0}, {\"month\": \"6\", \"year\": \"2020\", \"id_str_size\": 1139, \"retweet_count_sum\": 24880803, \"retweet_count_mean\": 21844.0, \"favorite_count_sum\": 67079889, \"favorite_count_mean\": 58894.0}, {\"month\": \"7\", \"year\": \"2017\", \"id_str_size\": 245, \"retweet_count_sum\": 5143188, \"retweet_count_mean\": 20993.0, \"favorite_count_sum\": 20095765, \"favorite_count_mean\": 82024.0}, {\"month\": \"7\", \"year\": \"2018\", \"id_str_size\": 338, \"retweet_count_sum\": 6802274, \"retweet_count_mean\": 20125.0, \"favorite_count_sum\": 24462357, \"favorite_count_mean\": 72374.0}, {\"month\": \"7\", \"year\": \"2019\", \"id_str_size\": 691, \"retweet_count_sum\": 12592626, \"retweet_count_mean\": 18224.0, \"favorite_count_sum\": 45799544, \"favorite_count_mean\": 66280.0}, {\"month\": \"7\", \"year\": \"2020\", \"id_str_size\": 853, \"retweet_count_sum\": 15762210, \"retweet_count_mean\": 18479.0, \"favorite_count_sum\": 41986746, \"favorite_count_mean\": 49222.0}, {\"month\": \"8\", \"year\": \"2017\", \"id_str_size\": 267, \"retweet_count_sum\": 4521431, \"retweet_count_mean\": 16934.0, \"favorite_count_sum\": 16477022, \"favorite_count_mean\": 61712.0}, {\"month\": \"8\", \"year\": \"2018\", \"id_str_size\": 383, \"retweet_count_sum\": 7708215, \"retweet_count_mean\": 20126.0, \"favorite_count_sum\": 29279935, \"favorite_count_mean\": 76449.0}, {\"month\": \"8\", \"year\": \"2019\", \"id_str_size\": 686, \"retweet_count_sum\": 10497160, \"retweet_count_mean\": 15302.0, \"favorite_count_sum\": 34724069, \"favorite_count_mean\": 50618.0}, {\"month\": \"8\", \"year\": \"2020\", \"id_str_size\": 1132, \"retweet_count_sum\": 19754306, \"retweet_count_mean\": 17451.0, \"favorite_count_sum\": 53269089, \"favorite_count_mean\": 47057.0}, {\"month\": \"9\", \"year\": \"2017\", \"id_str_size\": 307, \"retweet_count_sum\": 5047042, \"retweet_count_mean\": 16440.0, \"favorite_count_sum\": 19423102, \"favorite_count_mean\": 63267.0}, {\"month\": \"9\", \"year\": \"2018\", \"id_str_size\": 378, \"retweet_count_sum\": 6368803, \"retweet_count_mean\": 16849.0, \"favorite_count_sum\": 21990052, \"favorite_count_mean\": 58175.0}, {\"month\": \"9\", \"year\": \"2019\", \"id_str_size\": 800, \"retweet_count_sum\": 11384264, \"retweet_count_mean\": 14230.0, \"favorite_count_sum\": 34639760, \"favorite_count_mean\": 43300.0}, {\"month\": \"9\", \"year\": \"2020\", \"id_str_size\": 1331, \"retweet_count_sum\": 20806605, \"retweet_count_mean\": 15632.0, \"favorite_count_sum\": 56868183, \"favorite_count_mean\": 42726.0}]}}, {\"mode\": \"vega-lite\"});\n",
       "</script>"
      ],
      "text/plain": [
       "alt.Chart(...)"
      ]
     },
     "execution_count": 21,
     "metadata": {},
     "output_type": "execute_result"
    }
   ],
   "source": [
    "chart = alt.Chart((trump_engagements_day.query('year > \"2016\"')))\\\n",
    "    .mark_bar(size=10,opacity=1)\\\n",
    "    .encode(\n",
    "    x=alt.X('month:T', title=' ', \\\n",
    "            axis=alt.Axis(values=['1', '12'], grid=False, tickCount=1, format='%b')),\n",
    "    y=alt.Y('id_str_size:Q', stack=None, title=' ', axis=alt.Axis(gridWidth=.6,\\\n",
    "     gridColor='#dddddd',offset=6,tickSize=0,domainOpacity=0,tickCount=2, format='1,s'),\\\n",
    "           scale=alt.Scale(domain=(0, 1000))),\\\n",
    "    facet=alt.Facet('year:N', columns=4, title=' ')\n",
    ").properties(width=150, height=100,\n",
    "     title='Monthly tweets by @realDonaldTrump'\n",
    ")\n",
    "\n",
    "chart.configure_view(strokeOpacity=0).configure_legend(\n",
    "    orient='top',\n",
    "    symbolType='stroke'\n",
    ").configure_legend(symbolType='square')"
   ]
  },
  {
   "cell_type": "code",
   "execution_count": 22,
   "metadata": {},
   "outputs": [
    {
     "data": {
      "text/html": [
       "\n",
       "<div id=\"altair-viz-55201eeaa07746da8f2cf25b0692c0d1\"></div>\n",
       "<script type=\"text/javascript\">\n",
       "  (function(spec, embedOpt){\n",
       "    let outputDiv = document.currentScript.previousElementSibling;\n",
       "    if (outputDiv.id !== \"altair-viz-55201eeaa07746da8f2cf25b0692c0d1\") {\n",
       "      outputDiv = document.getElementById(\"altair-viz-55201eeaa07746da8f2cf25b0692c0d1\");\n",
       "    }\n",
       "    const paths = {\n",
       "      \"vega\": \"https://cdn.jsdelivr.net/npm//vega@5?noext\",\n",
       "      \"vega-lib\": \"https://cdn.jsdelivr.net/npm//vega-lib?noext\",\n",
       "      \"vega-lite\": \"https://cdn.jsdelivr.net/npm//vega-lite@4.8.1?noext\",\n",
       "      \"vega-embed\": \"https://cdn.jsdelivr.net/npm//vega-embed@6?noext\",\n",
       "    };\n",
       "\n",
       "    function loadScript(lib) {\n",
       "      return new Promise(function(resolve, reject) {\n",
       "        var s = document.createElement('script');\n",
       "        s.src = paths[lib];\n",
       "        s.async = true;\n",
       "        s.onload = () => resolve(paths[lib]);\n",
       "        s.onerror = () => reject(`Error loading script: ${paths[lib]}`);\n",
       "        document.getElementsByTagName(\"head\")[0].appendChild(s);\n",
       "      });\n",
       "    }\n",
       "\n",
       "    function showError(err) {\n",
       "      outputDiv.innerHTML = `<div class=\"error\" style=\"color:red;\">${err}</div>`;\n",
       "      throw err;\n",
       "    }\n",
       "\n",
       "    function displayChart(vegaEmbed) {\n",
       "      vegaEmbed(outputDiv, spec, embedOpt)\n",
       "        .catch(err => showError(`Javascript Error: ${err.message}<br>This usually means there's a typo in your chart specification. See the javascript console for the full traceback.`));\n",
       "    }\n",
       "\n",
       "    if(typeof define === \"function\" && define.amd) {\n",
       "      requirejs.config({paths});\n",
       "      require([\"vega-embed\"], displayChart, err => showError(`Error loading script: ${err.message}`));\n",
       "    } else if (typeof vegaEmbed === \"function\") {\n",
       "      displayChart(vegaEmbed);\n",
       "    } else {\n",
       "      loadScript(\"vega\")\n",
       "        .then(() => loadScript(\"vega-lite\"))\n",
       "        .then(() => loadScript(\"vega-embed\"))\n",
       "        .catch(showError)\n",
       "        .then(() => displayChart(vegaEmbed));\n",
       "    }\n",
       "  })({\"config\": {\"view\": {\"width\": 800, \"height\": 450, \"strokeOpacity\": 0}, \"background\": \"#ffffff\", \"title\": {\"anchor\": \"start\", \"font\": \"Benton Gothic Bold, sans\", \"fontColor\": \"#000000\", \"fontSize\": 22, \"fontWeight\": \"normal\"}, \"arc\": {\"fill\": \"#82c6df\"}, \"area\": {\"fill\": \"#82c6df\"}, \"line\": {\"stroke\": \"#82c6df\", \"strokeWidth\": 3}, \"path\": {\"stroke\": \"#82c6df\"}, \"rect\": {\"fill\": \"#82c6df\"}, \"shape\": {\"stroke\": \"#82c6df\"}, \"bar\": {\"fill\": \"#82c6df\"}, \"point\": {\"stroke\": \"#82c6df\"}, \"symbol\": {\"fill\": \"#82c6df\", \"size\": 30}, \"axis\": {\"titleFont\": \"Benton Gothic Bold, sans\", \"titleFontSize\": 13, \"titleFontWeight\": \"normal\", \"labelFont\": \"Benton Gothic, sans\", \"labelFontSize\": 11.5, \"labelFontWeight\": \"normal\"}, \"axisX\": {\"labelAngle\": 0, \"labelPadding\": 4, \"tickSize\": 3}, \"axisY\": {\"labelBaseline\": \"middle\", \"maxExtent\": 45, \"minExtent\": 45, \"tickSize\": 2, \"titleAlign\": \"left\", \"titleAngle\": 0, \"titleX\": -45, \"titleY\": -11}, \"legend\": {\"titleFont\": \"Benton Gothic Bold, sans\", \"titleFontSize\": 13, \"titleFontWeight\": \"normal\", \"symbolType\": \"square\", \"labelFont\": \"Benton Gothic, sans\", \"labelFontSize\": 11.5}, \"range\": {\"category\": [\"#3580b1\", \"#ec8431\", \"#ab7fb4\", \"#c89d29\", \"#adc839\", \"#829eb1\"], \"diverging\": [\"#e68a4f\", \"#f4bb6a\", \"#f9e39c\", \"#dadfe2\", \"#a6b7c6\", \"#849eae\"], \"heatmap\": [\"#fbf2c7\", \"#f9e39c\", \"#f8d36e\", \"#f4bb6a\", \"#e68a4f\", \"#d15a40\", \"#ab4232\"], \"ordinal\": [\"#fbf2c7\", \"#f9e39c\", \"#f8d36e\", \"#f4bb6a\", \"#e68a4f\", \"#d15a40\", \"#ab4232\"], \"ramp\": [\"#fbf2c7\", \"#f9e39c\", \"#f8d36e\", \"#f4bb6a\", \"#e68a4f\", \"#d15a40\", \"#ab4232\"]}}, \"data\": {\"name\": \"data-56dd509bc8b08144048610d2d5c5b478\"}, \"mark\": {\"type\": \"bar\", \"opacity\": 1, \"size\": 10}, \"encoding\": {\"facet\": {\"type\": \"nominal\", \"columns\": 4, \"field\": \"year\", \"title\": \" \"}, \"x\": {\"type\": \"temporal\", \"axis\": {\"format\": \"%b\", \"grid\": false, \"tickCount\": 1, \"values\": [\"1\", \"12\"]}, \"field\": \"month\", \"title\": \" \"}, \"y\": {\"type\": \"quantitative\", \"axis\": {\"domainOpacity\": 0, \"format\": \"1,s\", \"gridColor\": \"#dddddd\", \"gridWidth\": 0.6, \"offset\": 6, \"tickCount\": 2, \"tickSize\": 0}, \"field\": \"favorite_count_mean\", \"scale\": {\"domain\": [0, 120000]}, \"stack\": null, \"title\": \" \"}}, \"height\": 100, \"title\": \"Mean monthly likes of @realDonaldTrump\", \"width\": 150, \"$schema\": \"https://vega.github.io/schema/vega-lite/v4.8.1.json\", \"datasets\": {\"data-56dd509bc8b08144048610d2d5c5b478\": [{\"month\": \"1\", \"year\": \"2017\", \"id_str_size\": 211, \"retweet_count_sum\": 4386360, \"retweet_count_mean\": 20788.0, \"favorite_count_sum\": 19890131, \"favorite_count_mean\": 94266.0}, {\"month\": \"1\", \"year\": \"2018\", \"id_str_size\": 150, \"retweet_count_sum\": 3556529, \"retweet_count_mean\": 23710.0, \"favorite_count_sum\": 13365749, \"favorite_count_mean\": 89105.0}, {\"month\": \"1\", \"year\": \"2019\", \"id_str_size\": 369, \"retweet_count_sum\": 9401774, \"retweet_count_mean\": 25479.0, \"favorite_count_sum\": 35124377, \"favorite_count_mean\": 95188.0}, {\"month\": \"1\", \"year\": \"2020\", \"id_str_size\": 944, \"retweet_count_sum\": 15682329, \"retweet_count_mean\": 16613.0, \"favorite_count_sum\": 42987547, \"favorite_count_mean\": 45538.0}, {\"month\": \"10\", \"year\": \"2017\", \"id_str_size\": 291, \"retweet_count_sum\": 4752175, \"retweet_count_mean\": 16330.0, \"favorite_count_sum\": 19430176, \"favorite_count_mean\": 66770.0}, {\"month\": \"10\", \"year\": \"2018\", \"id_str_size\": 389, \"retweet_count_sum\": 7071746, \"retweet_count_mean\": 18179.0, \"favorite_count_sum\": 25981390, \"favorite_count_mean\": 66790.0}, {\"month\": \"10\", \"year\": \"2019\", \"id_str_size\": 1026, \"retweet_count_sum\": 16814903, \"retweet_count_mean\": 16389.0, \"favorite_count_sum\": 45961149, \"favorite_count_mean\": 44796.0}, {\"month\": \"10\", \"year\": \"2020\", \"id_str_size\": 108, \"retweet_count_sum\": 3887101, \"retweet_count_mean\": 35992.0, \"favorite_count_sum\": 17774242, \"favorite_count_mean\": 164576.0}, {\"month\": \"11\", \"year\": \"2017\", \"id_str_size\": 262, \"retweet_count_sum\": 5026012, \"retweet_count_mean\": 19183.0, \"favorite_count_sum\": 19406216, \"favorite_count_mean\": 74070.0}, {\"month\": \"11\", \"year\": \"2018\", \"id_str_size\": 340, \"retweet_count_sum\": 7056402, \"retweet_count_mean\": 20754.0, \"favorite_count_sum\": 23415671, \"favorite_count_mean\": 68870.0}, {\"month\": \"11\", \"year\": \"2019\", \"id_str_size\": 854, \"retweet_count_sum\": 13123689, \"retweet_count_mean\": 15367.0, \"favorite_count_sum\": 31010722, \"favorite_count_mean\": 36312.0}, {\"month\": \"12\", \"year\": \"2017\", \"id_str_size\": 196, \"retweet_count_sum\": 4147808, \"retweet_count_mean\": 21162.0, \"favorite_count_sum\": 15953176, \"favorite_count_mean\": 81394.0}, {\"month\": \"12\", \"year\": \"2018\", \"id_str_size\": 291, \"retweet_count_sum\": 6570057, \"retweet_count_mean\": 22578.0, \"favorite_count_sum\": 27663655, \"favorite_count_mean\": 95064.0}, {\"month\": \"12\", \"year\": \"2019\", \"id_str_size\": 1144, \"retweet_count_sum\": 16536313, \"retweet_count_mean\": 14455.0, \"favorite_count_sum\": 37310904, \"favorite_count_mean\": 32614.0}, {\"month\": \"2\", \"year\": \"2017\", \"id_str_size\": 153, \"retweet_count_sum\": 3511515, \"retweet_count_mean\": 22951.0, \"favorite_count_sum\": 16548400, \"favorite_count_mean\": 108159.0}, {\"month\": \"2\", \"year\": \"2018\", \"id_str_size\": 175, \"retweet_count_sum\": 4012185, \"retweet_count_mean\": 22927.0, \"favorite_count_sum\": 16596777, \"favorite_count_mean\": 94839.0}, {\"month\": \"2\", \"year\": \"2019\", \"id_str_size\": 250, \"retweet_count_sum\": 6158181, \"retweet_count_mean\": 24633.0, \"favorite_count_sum\": 22733289, \"favorite_count_mean\": 90933.0}, {\"month\": \"2\", \"year\": \"2020\", \"id_str_size\": 902, \"retweet_count_sum\": 13714699, \"retweet_count_mean\": 15205.0, \"favorite_count_sum\": 36089944, \"favorite_count_mean\": 40011.0}, {\"month\": \"3\", \"year\": \"2017\", \"id_str_size\": 145, \"retweet_count_sum\": 2469322, \"retweet_count_mean\": 17030.0, \"favorite_count_sum\": 10738562, \"favorite_count_mean\": 74059.0}, {\"month\": \"3\", \"year\": \"2018\", \"id_str_size\": 171, \"retweet_count_sum\": 3486519, \"retweet_count_mean\": 20389.0, \"favorite_count_sum\": 14316972, \"favorite_count_mean\": 83725.0}, {\"month\": \"3\", \"year\": \"2019\", \"id_str_size\": 400, \"retweet_count_sum\": 8358722, \"retweet_count_mean\": 20897.0, \"favorite_count_sum\": 28243709, \"favorite_count_mean\": 70609.0}, {\"month\": \"3\", \"year\": \"2020\", \"id_str_size\": 968, \"retweet_count_sum\": 14960350, \"retweet_count_mean\": 15455.0, \"favorite_count_sum\": 45458155, \"favorite_count_mean\": 46961.0}, {\"month\": \"4\", \"year\": \"2017\", \"id_str_size\": 152, \"retweet_count_sum\": 2136077, \"retweet_count_mean\": 14053.0, \"favorite_count_sum\": 9122791, \"favorite_count_mean\": 60018.0}, {\"month\": \"4\", \"year\": \"2018\", \"id_str_size\": 257, \"retweet_count_sum\": 5140533, \"retweet_count_mean\": 20002.0, \"favorite_count_sum\": 20347160, \"favorite_count_mean\": 79172.0}, {\"month\": \"4\", \"year\": \"2019\", \"id_str_size\": 431, \"retweet_count_sum\": 8763897, \"retweet_count_mean\": 20334.0, \"favorite_count_sum\": 30809100, \"favorite_count_mean\": 71483.0}, {\"month\": \"4\", \"year\": \"2020\", \"id_str_size\": 848, \"retweet_count_sum\": 15559169, \"retweet_count_mean\": 18348.0, \"favorite_count_sum\": 45773055, \"favorite_count_mean\": 53978.0}, {\"month\": \"5\", \"year\": \"2017\", \"id_str_size\": 157, \"retweet_count_sum\": 2652460, \"retweet_count_mean\": 16895.0, \"favorite_count_sum\": 9954398, \"favorite_count_mean\": 63404.0}, {\"month\": \"5\", \"year\": \"2018\", \"id_str_size\": 259, \"retweet_count_sum\": 5337185, \"retweet_count_mean\": 20607.0, \"favorite_count_sum\": 21549577, \"favorite_count_mean\": 83203.0}, {\"month\": \"5\", \"year\": \"2019\", \"id_str_size\": 692, \"retweet_count_sum\": 10923613, \"retweet_count_mean\": 15786.0, \"favorite_count_sum\": 33550683, \"favorite_count_mean\": 48484.0}, {\"month\": \"5\", \"year\": \"2020\", \"id_str_size\": 1106, \"retweet_count_sum\": 22363264, \"retweet_count_mean\": 20220.0, \"favorite_count_sum\": 61132764, \"favorite_count_mean\": 55274.0}, {\"month\": \"6\", \"year\": \"2017\", \"id_str_size\": 210, \"retweet_count_sum\": 4090974, \"retweet_count_mean\": 19481.0, \"favorite_count_sum\": 15067225, \"favorite_count_mean\": 71749.0}, {\"month\": \"6\", \"year\": \"2018\", \"id_str_size\": 386, \"retweet_count_sum\": 7497811, \"retweet_count_mean\": 19424.0, \"favorite_count_sum\": 28356290, \"favorite_count_mean\": 73462.0}, {\"month\": \"6\", \"year\": \"2019\", \"id_str_size\": 492, \"retweet_count_sum\": 8249927, \"retweet_count_mean\": 16768.0, \"favorite_count_sum\": 30585525, \"favorite_count_mean\": 62166.0}, {\"month\": \"6\", \"year\": \"2020\", \"id_str_size\": 1139, \"retweet_count_sum\": 24880803, \"retweet_count_mean\": 21844.0, \"favorite_count_sum\": 67079889, \"favorite_count_mean\": 58894.0}, {\"month\": \"7\", \"year\": \"2017\", \"id_str_size\": 245, \"retweet_count_sum\": 5143188, \"retweet_count_mean\": 20993.0, \"favorite_count_sum\": 20095765, \"favorite_count_mean\": 82024.0}, {\"month\": \"7\", \"year\": \"2018\", \"id_str_size\": 338, \"retweet_count_sum\": 6802274, \"retweet_count_mean\": 20125.0, \"favorite_count_sum\": 24462357, \"favorite_count_mean\": 72374.0}, {\"month\": \"7\", \"year\": \"2019\", \"id_str_size\": 691, \"retweet_count_sum\": 12592626, \"retweet_count_mean\": 18224.0, \"favorite_count_sum\": 45799544, \"favorite_count_mean\": 66280.0}, {\"month\": \"7\", \"year\": \"2020\", \"id_str_size\": 853, \"retweet_count_sum\": 15762210, \"retweet_count_mean\": 18479.0, \"favorite_count_sum\": 41986746, \"favorite_count_mean\": 49222.0}, {\"month\": \"8\", \"year\": \"2017\", \"id_str_size\": 267, \"retweet_count_sum\": 4521431, \"retweet_count_mean\": 16934.0, \"favorite_count_sum\": 16477022, \"favorite_count_mean\": 61712.0}, {\"month\": \"8\", \"year\": \"2018\", \"id_str_size\": 383, \"retweet_count_sum\": 7708215, \"retweet_count_mean\": 20126.0, \"favorite_count_sum\": 29279935, \"favorite_count_mean\": 76449.0}, {\"month\": \"8\", \"year\": \"2019\", \"id_str_size\": 686, \"retweet_count_sum\": 10497160, \"retweet_count_mean\": 15302.0, \"favorite_count_sum\": 34724069, \"favorite_count_mean\": 50618.0}, {\"month\": \"8\", \"year\": \"2020\", \"id_str_size\": 1132, \"retweet_count_sum\": 19754306, \"retweet_count_mean\": 17451.0, \"favorite_count_sum\": 53269089, \"favorite_count_mean\": 47057.0}, {\"month\": \"9\", \"year\": \"2017\", \"id_str_size\": 307, \"retweet_count_sum\": 5047042, \"retweet_count_mean\": 16440.0, \"favorite_count_sum\": 19423102, \"favorite_count_mean\": 63267.0}, {\"month\": \"9\", \"year\": \"2018\", \"id_str_size\": 378, \"retweet_count_sum\": 6368803, \"retweet_count_mean\": 16849.0, \"favorite_count_sum\": 21990052, \"favorite_count_mean\": 58175.0}, {\"month\": \"9\", \"year\": \"2019\", \"id_str_size\": 800, \"retweet_count_sum\": 11384264, \"retweet_count_mean\": 14230.0, \"favorite_count_sum\": 34639760, \"favorite_count_mean\": 43300.0}, {\"month\": \"9\", \"year\": \"2020\", \"id_str_size\": 1331, \"retweet_count_sum\": 20806605, \"retweet_count_mean\": 15632.0, \"favorite_count_sum\": 56868183, \"favorite_count_mean\": 42726.0}]}}, {\"mode\": \"vega-lite\"});\n",
       "</script>"
      ],
      "text/plain": [
       "alt.Chart(...)"
      ]
     },
     "execution_count": 22,
     "metadata": {},
     "output_type": "execute_result"
    }
   ],
   "source": [
    "chart = alt.Chart((trump_engagements_day.query('year > \"2016\"')))\\\n",
    "    .mark_bar(size=10,opacity=1)\\\n",
    "    .encode(\n",
    "    x=alt.X('month:T', title=' ', \\\n",
    "            axis=alt.Axis(values=['1', '12'], grid=False, tickCount=1, format='%b')),\n",
    "    y=alt.Y('favorite_count_mean:Q', stack=None, title=' ', axis=alt.Axis(gridWidth=.6,\\\n",
    "     gridColor='#dddddd',offset=6,tickSize=0,domainOpacity=0,tickCount=2, format='1,s'),\\\n",
    "           scale=alt.Scale(domain=(0, 120000))),\\\n",
    "    facet=alt.Facet('year:N', columns=4, title=' ')\n",
    ").properties(width=150, height=100,\n",
    "     title='Mean monthly likes of @realDonaldTrump'\n",
    ")\n",
    "\n",
    "chart.configure_view(strokeOpacity=0).configure_legend(\n",
    "    orient='top',\n",
    "    symbolType='stroke'\n",
    ").configure_legend(symbolType='square')"
   ]
  },
  {
   "cell_type": "code",
   "execution_count": 23,
   "metadata": {},
   "outputs": [
    {
     "data": {
      "text/html": [
       "\n",
       "<div id=\"altair-viz-8092d2248ede467a8fcd792d0b589872\"></div>\n",
       "<script type=\"text/javascript\">\n",
       "  (function(spec, embedOpt){\n",
       "    let outputDiv = document.currentScript.previousElementSibling;\n",
       "    if (outputDiv.id !== \"altair-viz-8092d2248ede467a8fcd792d0b589872\") {\n",
       "      outputDiv = document.getElementById(\"altair-viz-8092d2248ede467a8fcd792d0b589872\");\n",
       "    }\n",
       "    const paths = {\n",
       "      \"vega\": \"https://cdn.jsdelivr.net/npm//vega@5?noext\",\n",
       "      \"vega-lib\": \"https://cdn.jsdelivr.net/npm//vega-lib?noext\",\n",
       "      \"vega-lite\": \"https://cdn.jsdelivr.net/npm//vega-lite@4.8.1?noext\",\n",
       "      \"vega-embed\": \"https://cdn.jsdelivr.net/npm//vega-embed@6?noext\",\n",
       "    };\n",
       "\n",
       "    function loadScript(lib) {\n",
       "      return new Promise(function(resolve, reject) {\n",
       "        var s = document.createElement('script');\n",
       "        s.src = paths[lib];\n",
       "        s.async = true;\n",
       "        s.onload = () => resolve(paths[lib]);\n",
       "        s.onerror = () => reject(`Error loading script: ${paths[lib]}`);\n",
       "        document.getElementsByTagName(\"head\")[0].appendChild(s);\n",
       "      });\n",
       "    }\n",
       "\n",
       "    function showError(err) {\n",
       "      outputDiv.innerHTML = `<div class=\"error\" style=\"color:red;\">${err}</div>`;\n",
       "      throw err;\n",
       "    }\n",
       "\n",
       "    function displayChart(vegaEmbed) {\n",
       "      vegaEmbed(outputDiv, spec, embedOpt)\n",
       "        .catch(err => showError(`Javascript Error: ${err.message}<br>This usually means there's a typo in your chart specification. See the javascript console for the full traceback.`));\n",
       "    }\n",
       "\n",
       "    if(typeof define === \"function\" && define.amd) {\n",
       "      requirejs.config({paths});\n",
       "      require([\"vega-embed\"], displayChart, err => showError(`Error loading script: ${err.message}`));\n",
       "    } else if (typeof vegaEmbed === \"function\") {\n",
       "      displayChart(vegaEmbed);\n",
       "    } else {\n",
       "      loadScript(\"vega\")\n",
       "        .then(() => loadScript(\"vega-lite\"))\n",
       "        .then(() => loadScript(\"vega-embed\"))\n",
       "        .catch(showError)\n",
       "        .then(() => displayChart(vegaEmbed));\n",
       "    }\n",
       "  })({\"config\": {\"view\": {\"width\": 800, \"height\": 450, \"strokeOpacity\": 0}, \"background\": \"#ffffff\", \"title\": {\"anchor\": \"start\", \"font\": \"Benton Gothic Bold, sans\", \"fontColor\": \"#000000\", \"fontSize\": 22, \"fontWeight\": \"normal\"}, \"arc\": {\"fill\": \"#82c6df\"}, \"area\": {\"fill\": \"#82c6df\"}, \"line\": {\"stroke\": \"#82c6df\", \"strokeWidth\": 3}, \"path\": {\"stroke\": \"#82c6df\"}, \"rect\": {\"fill\": \"#82c6df\"}, \"shape\": {\"stroke\": \"#82c6df\"}, \"bar\": {\"fill\": \"#82c6df\"}, \"point\": {\"stroke\": \"#82c6df\"}, \"symbol\": {\"fill\": \"#82c6df\", \"size\": 30}, \"axis\": {\"titleFont\": \"Benton Gothic Bold, sans\", \"titleFontSize\": 13, \"titleFontWeight\": \"normal\", \"labelFont\": \"Benton Gothic, sans\", \"labelFontSize\": 11.5, \"labelFontWeight\": \"normal\"}, \"axisX\": {\"labelAngle\": 0, \"labelPadding\": 4, \"tickSize\": 3}, \"axisY\": {\"labelBaseline\": \"middle\", \"maxExtent\": 45, \"minExtent\": 45, \"tickSize\": 2, \"titleAlign\": \"left\", \"titleAngle\": 0, \"titleX\": -45, \"titleY\": -11}, \"legend\": {\"titleFont\": \"Benton Gothic Bold, sans\", \"titleFontSize\": 13, \"titleFontWeight\": \"normal\", \"symbolType\": \"square\", \"labelFont\": \"Benton Gothic, sans\", \"labelFontSize\": 11.5}, \"range\": {\"category\": [\"#3580b1\", \"#ec8431\", \"#ab7fb4\", \"#c89d29\", \"#adc839\", \"#829eb1\"], \"diverging\": [\"#e68a4f\", \"#f4bb6a\", \"#f9e39c\", \"#dadfe2\", \"#a6b7c6\", \"#849eae\"], \"heatmap\": [\"#fbf2c7\", \"#f9e39c\", \"#f8d36e\", \"#f4bb6a\", \"#e68a4f\", \"#d15a40\", \"#ab4232\"], \"ordinal\": [\"#fbf2c7\", \"#f9e39c\", \"#f8d36e\", \"#f4bb6a\", \"#e68a4f\", \"#d15a40\", \"#ab4232\"], \"ramp\": [\"#fbf2c7\", \"#f9e39c\", \"#f8d36e\", \"#f4bb6a\", \"#e68a4f\", \"#d15a40\", \"#ab4232\"]}}, \"data\": {\"name\": \"data-56dd509bc8b08144048610d2d5c5b478\"}, \"mark\": {\"type\": \"bar\", \"opacity\": 1, \"size\": 10}, \"encoding\": {\"facet\": {\"type\": \"nominal\", \"columns\": 4, \"field\": \"year\", \"title\": \" \"}, \"x\": {\"type\": \"temporal\", \"axis\": {\"format\": \"%B\", \"grid\": false, \"tickCount\": 1, \"values\": [\"1\", \"7\"]}, \"field\": \"month\", \"title\": \" \"}, \"y\": {\"type\": \"quantitative\", \"axis\": {\"domainOpacity\": 0, \"format\": \"1,s\", \"gridColor\": \"#dddddd\", \"gridWidth\": 0.6, \"offset\": 6, \"tickCount\": 2, \"tickSize\": 0}, \"field\": \"retweet_count_mean\", \"scale\": {\"domain\": [0, 30000]}, \"stack\": null, \"title\": \" \"}}, \"height\": 100, \"title\": \"Mean monthly retweets of @realDonaldTrump\", \"width\": 150, \"$schema\": \"https://vega.github.io/schema/vega-lite/v4.8.1.json\", \"datasets\": {\"data-56dd509bc8b08144048610d2d5c5b478\": [{\"month\": \"1\", \"year\": \"2017\", \"id_str_size\": 211, \"retweet_count_sum\": 4386360, \"retweet_count_mean\": 20788.0, \"favorite_count_sum\": 19890131, \"favorite_count_mean\": 94266.0}, {\"month\": \"1\", \"year\": \"2018\", \"id_str_size\": 150, \"retweet_count_sum\": 3556529, \"retweet_count_mean\": 23710.0, \"favorite_count_sum\": 13365749, \"favorite_count_mean\": 89105.0}, {\"month\": \"1\", \"year\": \"2019\", \"id_str_size\": 369, \"retweet_count_sum\": 9401774, \"retweet_count_mean\": 25479.0, \"favorite_count_sum\": 35124377, \"favorite_count_mean\": 95188.0}, {\"month\": \"1\", \"year\": \"2020\", \"id_str_size\": 944, \"retweet_count_sum\": 15682329, \"retweet_count_mean\": 16613.0, \"favorite_count_sum\": 42987547, \"favorite_count_mean\": 45538.0}, {\"month\": \"10\", \"year\": \"2017\", \"id_str_size\": 291, \"retweet_count_sum\": 4752175, \"retweet_count_mean\": 16330.0, \"favorite_count_sum\": 19430176, \"favorite_count_mean\": 66770.0}, {\"month\": \"10\", \"year\": \"2018\", \"id_str_size\": 389, \"retweet_count_sum\": 7071746, \"retweet_count_mean\": 18179.0, \"favorite_count_sum\": 25981390, \"favorite_count_mean\": 66790.0}, {\"month\": \"10\", \"year\": \"2019\", \"id_str_size\": 1026, \"retweet_count_sum\": 16814903, \"retweet_count_mean\": 16389.0, \"favorite_count_sum\": 45961149, \"favorite_count_mean\": 44796.0}, {\"month\": \"10\", \"year\": \"2020\", \"id_str_size\": 108, \"retweet_count_sum\": 3887101, \"retweet_count_mean\": 35992.0, \"favorite_count_sum\": 17774242, \"favorite_count_mean\": 164576.0}, {\"month\": \"11\", \"year\": \"2017\", \"id_str_size\": 262, \"retweet_count_sum\": 5026012, \"retweet_count_mean\": 19183.0, \"favorite_count_sum\": 19406216, \"favorite_count_mean\": 74070.0}, {\"month\": \"11\", \"year\": \"2018\", \"id_str_size\": 340, \"retweet_count_sum\": 7056402, \"retweet_count_mean\": 20754.0, \"favorite_count_sum\": 23415671, \"favorite_count_mean\": 68870.0}, {\"month\": \"11\", \"year\": \"2019\", \"id_str_size\": 854, \"retweet_count_sum\": 13123689, \"retweet_count_mean\": 15367.0, \"favorite_count_sum\": 31010722, \"favorite_count_mean\": 36312.0}, {\"month\": \"12\", \"year\": \"2017\", \"id_str_size\": 196, \"retweet_count_sum\": 4147808, \"retweet_count_mean\": 21162.0, \"favorite_count_sum\": 15953176, \"favorite_count_mean\": 81394.0}, {\"month\": \"12\", \"year\": \"2018\", \"id_str_size\": 291, \"retweet_count_sum\": 6570057, \"retweet_count_mean\": 22578.0, \"favorite_count_sum\": 27663655, \"favorite_count_mean\": 95064.0}, {\"month\": \"12\", \"year\": \"2019\", \"id_str_size\": 1144, \"retweet_count_sum\": 16536313, \"retweet_count_mean\": 14455.0, \"favorite_count_sum\": 37310904, \"favorite_count_mean\": 32614.0}, {\"month\": \"2\", \"year\": \"2017\", \"id_str_size\": 153, \"retweet_count_sum\": 3511515, \"retweet_count_mean\": 22951.0, \"favorite_count_sum\": 16548400, \"favorite_count_mean\": 108159.0}, {\"month\": \"2\", \"year\": \"2018\", \"id_str_size\": 175, \"retweet_count_sum\": 4012185, \"retweet_count_mean\": 22927.0, \"favorite_count_sum\": 16596777, \"favorite_count_mean\": 94839.0}, {\"month\": \"2\", \"year\": \"2019\", \"id_str_size\": 250, \"retweet_count_sum\": 6158181, \"retweet_count_mean\": 24633.0, \"favorite_count_sum\": 22733289, \"favorite_count_mean\": 90933.0}, {\"month\": \"2\", \"year\": \"2020\", \"id_str_size\": 902, \"retweet_count_sum\": 13714699, \"retweet_count_mean\": 15205.0, \"favorite_count_sum\": 36089944, \"favorite_count_mean\": 40011.0}, {\"month\": \"3\", \"year\": \"2017\", \"id_str_size\": 145, \"retweet_count_sum\": 2469322, \"retweet_count_mean\": 17030.0, \"favorite_count_sum\": 10738562, \"favorite_count_mean\": 74059.0}, {\"month\": \"3\", \"year\": \"2018\", \"id_str_size\": 171, \"retweet_count_sum\": 3486519, \"retweet_count_mean\": 20389.0, \"favorite_count_sum\": 14316972, \"favorite_count_mean\": 83725.0}, {\"month\": \"3\", \"year\": \"2019\", \"id_str_size\": 400, \"retweet_count_sum\": 8358722, \"retweet_count_mean\": 20897.0, \"favorite_count_sum\": 28243709, \"favorite_count_mean\": 70609.0}, {\"month\": \"3\", \"year\": \"2020\", \"id_str_size\": 968, \"retweet_count_sum\": 14960350, \"retweet_count_mean\": 15455.0, \"favorite_count_sum\": 45458155, \"favorite_count_mean\": 46961.0}, {\"month\": \"4\", \"year\": \"2017\", \"id_str_size\": 152, \"retweet_count_sum\": 2136077, \"retweet_count_mean\": 14053.0, \"favorite_count_sum\": 9122791, \"favorite_count_mean\": 60018.0}, {\"month\": \"4\", \"year\": \"2018\", \"id_str_size\": 257, \"retweet_count_sum\": 5140533, \"retweet_count_mean\": 20002.0, \"favorite_count_sum\": 20347160, \"favorite_count_mean\": 79172.0}, {\"month\": \"4\", \"year\": \"2019\", \"id_str_size\": 431, \"retweet_count_sum\": 8763897, \"retweet_count_mean\": 20334.0, \"favorite_count_sum\": 30809100, \"favorite_count_mean\": 71483.0}, {\"month\": \"4\", \"year\": \"2020\", \"id_str_size\": 848, \"retweet_count_sum\": 15559169, \"retweet_count_mean\": 18348.0, \"favorite_count_sum\": 45773055, \"favorite_count_mean\": 53978.0}, {\"month\": \"5\", \"year\": \"2017\", \"id_str_size\": 157, \"retweet_count_sum\": 2652460, \"retweet_count_mean\": 16895.0, \"favorite_count_sum\": 9954398, \"favorite_count_mean\": 63404.0}, {\"month\": \"5\", \"year\": \"2018\", \"id_str_size\": 259, \"retweet_count_sum\": 5337185, \"retweet_count_mean\": 20607.0, \"favorite_count_sum\": 21549577, \"favorite_count_mean\": 83203.0}, {\"month\": \"5\", \"year\": \"2019\", \"id_str_size\": 692, \"retweet_count_sum\": 10923613, \"retweet_count_mean\": 15786.0, \"favorite_count_sum\": 33550683, \"favorite_count_mean\": 48484.0}, {\"month\": \"5\", \"year\": \"2020\", \"id_str_size\": 1106, \"retweet_count_sum\": 22363264, \"retweet_count_mean\": 20220.0, \"favorite_count_sum\": 61132764, \"favorite_count_mean\": 55274.0}, {\"month\": \"6\", \"year\": \"2017\", \"id_str_size\": 210, \"retweet_count_sum\": 4090974, \"retweet_count_mean\": 19481.0, \"favorite_count_sum\": 15067225, \"favorite_count_mean\": 71749.0}, {\"month\": \"6\", \"year\": \"2018\", \"id_str_size\": 386, \"retweet_count_sum\": 7497811, \"retweet_count_mean\": 19424.0, \"favorite_count_sum\": 28356290, \"favorite_count_mean\": 73462.0}, {\"month\": \"6\", \"year\": \"2019\", \"id_str_size\": 492, \"retweet_count_sum\": 8249927, \"retweet_count_mean\": 16768.0, \"favorite_count_sum\": 30585525, \"favorite_count_mean\": 62166.0}, {\"month\": \"6\", \"year\": \"2020\", \"id_str_size\": 1139, \"retweet_count_sum\": 24880803, \"retweet_count_mean\": 21844.0, \"favorite_count_sum\": 67079889, \"favorite_count_mean\": 58894.0}, {\"month\": \"7\", \"year\": \"2017\", \"id_str_size\": 245, \"retweet_count_sum\": 5143188, \"retweet_count_mean\": 20993.0, \"favorite_count_sum\": 20095765, \"favorite_count_mean\": 82024.0}, {\"month\": \"7\", \"year\": \"2018\", \"id_str_size\": 338, \"retweet_count_sum\": 6802274, \"retweet_count_mean\": 20125.0, \"favorite_count_sum\": 24462357, \"favorite_count_mean\": 72374.0}, {\"month\": \"7\", \"year\": \"2019\", \"id_str_size\": 691, \"retweet_count_sum\": 12592626, \"retweet_count_mean\": 18224.0, \"favorite_count_sum\": 45799544, \"favorite_count_mean\": 66280.0}, {\"month\": \"7\", \"year\": \"2020\", \"id_str_size\": 853, \"retweet_count_sum\": 15762210, \"retweet_count_mean\": 18479.0, \"favorite_count_sum\": 41986746, \"favorite_count_mean\": 49222.0}, {\"month\": \"8\", \"year\": \"2017\", \"id_str_size\": 267, \"retweet_count_sum\": 4521431, \"retweet_count_mean\": 16934.0, \"favorite_count_sum\": 16477022, \"favorite_count_mean\": 61712.0}, {\"month\": \"8\", \"year\": \"2018\", \"id_str_size\": 383, \"retweet_count_sum\": 7708215, \"retweet_count_mean\": 20126.0, \"favorite_count_sum\": 29279935, \"favorite_count_mean\": 76449.0}, {\"month\": \"8\", \"year\": \"2019\", \"id_str_size\": 686, \"retweet_count_sum\": 10497160, \"retweet_count_mean\": 15302.0, \"favorite_count_sum\": 34724069, \"favorite_count_mean\": 50618.0}, {\"month\": \"8\", \"year\": \"2020\", \"id_str_size\": 1132, \"retweet_count_sum\": 19754306, \"retweet_count_mean\": 17451.0, \"favorite_count_sum\": 53269089, \"favorite_count_mean\": 47057.0}, {\"month\": \"9\", \"year\": \"2017\", \"id_str_size\": 307, \"retweet_count_sum\": 5047042, \"retweet_count_mean\": 16440.0, \"favorite_count_sum\": 19423102, \"favorite_count_mean\": 63267.0}, {\"month\": \"9\", \"year\": \"2018\", \"id_str_size\": 378, \"retweet_count_sum\": 6368803, \"retweet_count_mean\": 16849.0, \"favorite_count_sum\": 21990052, \"favorite_count_mean\": 58175.0}, {\"month\": \"9\", \"year\": \"2019\", \"id_str_size\": 800, \"retweet_count_sum\": 11384264, \"retweet_count_mean\": 14230.0, \"favorite_count_sum\": 34639760, \"favorite_count_mean\": 43300.0}, {\"month\": \"9\", \"year\": \"2020\", \"id_str_size\": 1331, \"retweet_count_sum\": 20806605, \"retweet_count_mean\": 15632.0, \"favorite_count_sum\": 56868183, \"favorite_count_mean\": 42726.0}]}}, {\"mode\": \"vega-lite\"});\n",
       "</script>"
      ],
      "text/plain": [
       "alt.Chart(...)"
      ]
     },
     "execution_count": 23,
     "metadata": {},
     "output_type": "execute_result"
    }
   ],
   "source": [
    "chart = alt.Chart((trump_engagements_day.query('year > \"2016\"')))\\\n",
    "    .mark_bar(size=10,opacity=1)\\\n",
    "    .encode(\n",
    "    x=alt.X('month:T', title=' ', \\\n",
    "            axis=alt.Axis(values=['1', '7'], grid=False, tickCount=1, format='%B')),\n",
    "    y=alt.Y('retweet_count_mean:Q', stack=None, title=' ', axis=alt.Axis(gridWidth=.6,\\\n",
    "     gridColor='#dddddd',offset=6,tickSize=0,domainOpacity=0,tickCount=2, format='1,s'),\\\n",
    "           scale=alt.Scale(domain=(0, 30000))),\\\n",
    "    facet=alt.Facet('year:N', columns=4, title=' ')\n",
    ").properties(width=150, height=100,\n",
    "     title='Mean monthly retweets of @realDonaldTrump'\n",
    ")\n",
    "\n",
    "chart.configure_view(strokeOpacity=0).configure_legend(\n",
    "    orient='top',\n",
    "    symbolType='stroke'\n",
    ").configure_legend(symbolType='square')"
   ]
  },
  {
   "cell_type": "markdown",
   "metadata": {},
   "source": [
    "### Limit data to when Trump took office. How many tweets since then?"
   ]
  },
  {
   "cell_type": "code",
   "execution_count": 24,
   "metadata": {},
   "outputs": [
    {
     "data": {
      "text/plain": [
       "23142"
      ]
     },
     "execution_count": 24,
     "metadata": {},
     "output_type": "execute_result"
    }
   ],
   "source": [
    "trumpall_prez = src[src.date >= '01/20/2017']\n",
    "len(trumpall_prez)"
   ]
  },
  {
   "cell_type": "markdown",
   "metadata": {},
   "source": [
    "### Limit data to month Trump announced candidacy. How many tweets since then?"
   ]
  },
  {
   "cell_type": "code",
   "execution_count": 25,
   "metadata": {},
   "outputs": [
    {
     "data": {
      "text/plain": [
       "31546"
      ]
     },
     "execution_count": 25,
     "metadata": {},
     "output_type": "execute_result"
    }
   ],
   "source": [
    "trumpall_running = src[src.date >= '06/01/2015']\n",
    "len(trumpall_running)"
   ]
  },
  {
   "cell_type": "markdown",
   "metadata": {},
   "source": [
    "### Count daily tweets since candidacy, create dataframe with results"
   ]
  },
  {
   "cell_type": "code",
   "execution_count": 26,
   "metadata": {},
   "outputs": [],
   "source": [
    "trump_tweets_day_candidacy = trumpall_running.groupby(['date']).size()\n",
    "trump_tweets_day_candidacy_df = pd.DataFrame({'date': trump_tweets_day_candidacy.index, 'count': trump_tweets_day_candidacy.values})"
   ]
  },
  {
   "cell_type": "code",
   "execution_count": 27,
   "metadata": {},
   "outputs": [],
   "source": [
    "trump_tweets_day_candidacy_df.to_csv('output/trump_tweets_day_candidacy.csv')"
   ]
  },
  {
   "cell_type": "markdown",
   "metadata": {},
   "source": [
    "### Count daily tweets since inaguration, create dataframe with results"
   ]
  },
  {
   "cell_type": "code",
   "execution_count": 28,
   "metadata": {},
   "outputs": [],
   "source": [
    "trump_tweets_day_prez = trumpall_prez.groupby(['date']).size()\n",
    "trump_tweets_day_prez_df = pd.DataFrame({'date': trump_tweets_day_prez.index, 'count': trump_tweets_day_prez.values})"
   ]
  },
  {
   "cell_type": "code",
   "execution_count": 29,
   "metadata": {},
   "outputs": [],
   "source": [
    "trump_tweets_day_prez_df.to_csv('output/trump_tweets_day_prez.csv')"
   ]
  },
  {
   "cell_type": "markdown",
   "metadata": {},
   "source": [
    "### Count daily tweets from the beginning, create dataframe with results"
   ]
  },
  {
   "cell_type": "code",
   "execution_count": 30,
   "metadata": {},
   "outputs": [
    {
     "data": {
      "text/html": [
       "<div>\n",
       "<style scoped>\n",
       "    .dataframe tbody tr th:only-of-type {\n",
       "        vertical-align: middle;\n",
       "    }\n",
       "\n",
       "    .dataframe tbody tr th {\n",
       "        vertical-align: top;\n",
       "    }\n",
       "\n",
       "    .dataframe thead th {\n",
       "        text-align: right;\n",
       "    }\n",
       "</style>\n",
       "<table border=\"1\" class=\"dataframe\">\n",
       "  <thead>\n",
       "    <tr style=\"text-align: right;\">\n",
       "      <th></th>\n",
       "      <th>date</th>\n",
       "      <th>count</th>\n",
       "    </tr>\n",
       "  </thead>\n",
       "  <tbody>\n",
       "    <tr>\n",
       "      <th>3393</th>\n",
       "      <td>2020-09-27</td>\n",
       "      <td>20</td>\n",
       "    </tr>\n",
       "    <tr>\n",
       "      <th>3394</th>\n",
       "      <td>2020-09-28</td>\n",
       "      <td>38</td>\n",
       "    </tr>\n",
       "    <tr>\n",
       "      <th>3395</th>\n",
       "      <td>2020-09-29</td>\n",
       "      <td>37</td>\n",
       "    </tr>\n",
       "    <tr>\n",
       "      <th>3396</th>\n",
       "      <td>2020-09-30</td>\n",
       "      <td>50</td>\n",
       "    </tr>\n",
       "    <tr>\n",
       "      <th>3397</th>\n",
       "      <td>2020-10-01</td>\n",
       "      <td>50</td>\n",
       "    </tr>\n",
       "    <tr>\n",
       "      <th>3398</th>\n",
       "      <td>2020-10-02</td>\n",
       "      <td>2</td>\n",
       "    </tr>\n",
       "    <tr>\n",
       "      <th>3399</th>\n",
       "      <td>2020-10-03</td>\n",
       "      <td>3</td>\n",
       "    </tr>\n",
       "    <tr>\n",
       "      <th>3400</th>\n",
       "      <td>2020-10-04</td>\n",
       "      <td>9</td>\n",
       "    </tr>\n",
       "    <tr>\n",
       "      <th>3401</th>\n",
       "      <td>2020-10-05</td>\n",
       "      <td>31</td>\n",
       "    </tr>\n",
       "    <tr>\n",
       "      <th>3402</th>\n",
       "      <td>2020-10-06</td>\n",
       "      <td>13</td>\n",
       "    </tr>\n",
       "  </tbody>\n",
       "</table>\n",
       "</div>"
      ],
      "text/plain": [
       "           date  count\n",
       "3393 2020-09-27     20\n",
       "3394 2020-09-28     38\n",
       "3395 2020-09-29     37\n",
       "3396 2020-09-30     50\n",
       "3397 2020-10-01     50\n",
       "3398 2020-10-02      2\n",
       "3399 2020-10-03      3\n",
       "3400 2020-10-04      9\n",
       "3401 2020-10-05     31\n",
       "3402 2020-10-06     13"
      ]
     },
     "execution_count": 30,
     "metadata": {},
     "output_type": "execute_result"
    }
   ],
   "source": [
    "trump_tweets_day = src.groupby(['date']).agg('size').reset_index(name='count')\n",
    "trump_tweets_day.tail(10)"
   ]
  },
  {
   "cell_type": "code",
   "execution_count": 31,
   "metadata": {},
   "outputs": [],
   "source": [
    "trump_tweets_day.to_csv('output/trump_tweets_day.csv')"
   ]
  },
  {
   "cell_type": "markdown",
   "metadata": {},
   "source": [
    "### Sort table for top tweet days during presidency"
   ]
  },
  {
   "cell_type": "code",
   "execution_count": 32,
   "metadata": {},
   "outputs": [],
   "source": [
    "trump_freq_inauguration = trump_tweets_day_prez_df.sort_values(['count'], ascending=False)"
   ]
  },
  {
   "cell_type": "code",
   "execution_count": 33,
   "metadata": {},
   "outputs": [
    {
     "data": {
      "text/html": [
       "<div>\n",
       "<style scoped>\n",
       "    .dataframe tbody tr th:only-of-type {\n",
       "        vertical-align: middle;\n",
       "    }\n",
       "\n",
       "    .dataframe tbody tr th {\n",
       "        vertical-align: top;\n",
       "    }\n",
       "\n",
       "    .dataframe thead th {\n",
       "        text-align: right;\n",
       "    }\n",
       "</style>\n",
       "<table border=\"1\" class=\"dataframe\">\n",
       "  <thead>\n",
       "    <tr style=\"text-align: right;\">\n",
       "      <th></th>\n",
       "      <th>date</th>\n",
       "      <th>count</th>\n",
       "    </tr>\n",
       "  </thead>\n",
       "  <tbody>\n",
       "    <tr>\n",
       "      <th>1218</th>\n",
       "      <td>2020-06-05</td>\n",
       "      <td>199</td>\n",
       "    </tr>\n",
       "    <tr>\n",
       "      <th>1192</th>\n",
       "      <td>2020-05-10</td>\n",
       "      <td>125</td>\n",
       "    </tr>\n",
       "    <tr>\n",
       "      <th>1042</th>\n",
       "      <td>2019-12-12</td>\n",
       "      <td>124</td>\n",
       "    </tr>\n",
       "    <tr>\n",
       "      <th>1304</th>\n",
       "      <td>2020-08-30</td>\n",
       "      <td>110</td>\n",
       "    </tr>\n",
       "    <tr>\n",
       "      <th>1313</th>\n",
       "      <td>2020-09-08</td>\n",
       "      <td>108</td>\n",
       "    </tr>\n",
       "  </tbody>\n",
       "</table>\n",
       "</div>"
      ],
      "text/plain": [
       "           date  count\n",
       "1218 2020-06-05    199\n",
       "1192 2020-05-10    125\n",
       "1042 2019-12-12    124\n",
       "1304 2020-08-30    110\n",
       "1313 2020-09-08    108"
      ]
     },
     "execution_count": 33,
     "metadata": {},
     "output_type": "execute_result"
    }
   ],
   "source": [
    "trump_freq_inauguration.head(5)"
   ]
  },
  {
   "cell_type": "markdown",
   "metadata": {},
   "source": [
    "### Read all from today"
   ]
  },
  {
   "cell_type": "code",
   "execution_count": 34,
   "metadata": {},
   "outputs": [],
   "source": [
    "today = pd.Timestamp.today().strftime(\"%m/%d/%Y\")"
   ]
  },
  {
   "cell_type": "code",
   "execution_count": 35,
   "metadata": {},
   "outputs": [],
   "source": [
    "trump_tweets_today = trumpall_prez[trumpall_prez.date == today]"
   ]
  },
  {
   "cell_type": "code",
   "execution_count": 36,
   "metadata": {},
   "outputs": [
    {
     "data": {
      "text/html": [
       "<div>\n",
       "<style scoped>\n",
       "    .dataframe tbody tr th:only-of-type {\n",
       "        vertical-align: middle;\n",
       "    }\n",
       "\n",
       "    .dataframe tbody tr th {\n",
       "        vertical-align: top;\n",
       "    }\n",
       "\n",
       "    .dataframe thead th {\n",
       "        text-align: right;\n",
       "    }\n",
       "</style>\n",
       "<table border=\"1\" class=\"dataframe\">\n",
       "  <thead>\n",
       "    <tr style=\"text-align: right;\">\n",
       "      <th></th>\n",
       "      <th>index</th>\n",
       "      <th>source</th>\n",
       "      <th>id_str</th>\n",
       "      <th>text</th>\n",
       "      <th>created_at</th>\n",
       "      <th>retweet_count</th>\n",
       "      <th>in_reply_to_user_id_str</th>\n",
       "      <th>favorite_count</th>\n",
       "      <th>is_retweet</th>\n",
       "      <th>eastern_created_at</th>\n",
       "      <th>date</th>\n",
       "      <th>year</th>\n",
       "      <th>month</th>\n",
       "      <th>day</th>\n",
       "      <th>hour</th>\n",
       "      <th>minute</th>\n",
       "      <th>time</th>\n",
       "    </tr>\n",
       "  </thead>\n",
       "  <tbody>\n",
       "    <tr>\n",
       "      <th>0</th>\n",
       "      <td>0</td>\n",
       "      <td>Twitter for iPhone</td>\n",
       "      <td>1313529166265020416</td>\n",
       "      <td>Did anyone get to see that absolute “Joke” of ...</td>\n",
       "      <td>2020-10-06 17:18:52</td>\n",
       "      <td>12</td>\n",
       "      <td>NaN</td>\n",
       "      <td>4</td>\n",
       "      <td>False</td>\n",
       "      <td>2020-10-06 10:18:52-07:00</td>\n",
       "      <td>2020-10-06</td>\n",
       "      <td>2020</td>\n",
       "      <td>10</td>\n",
       "      <td>6</td>\n",
       "      <td>10</td>\n",
       "      <td>18</td>\n",
       "      <td>10:18:52</td>\n",
       "    </tr>\n",
       "    <tr>\n",
       "      <th>1</th>\n",
       "      <td>1</td>\n",
       "      <td>Twitter for iPhone</td>\n",
       "      <td>1313511340124917760</td>\n",
       "      <td>REPEAL SECTION 230!!!</td>\n",
       "      <td>2020-10-06 16:08:02</td>\n",
       "      <td>15402</td>\n",
       "      <td>NaN</td>\n",
       "      <td>61375</td>\n",
       "      <td>False</td>\n",
       "      <td>2020-10-06 09:08:02-07:00</td>\n",
       "      <td>2020-10-06</td>\n",
       "      <td>2020</td>\n",
       "      <td>10</td>\n",
       "      <td>6</td>\n",
       "      <td>9</td>\n",
       "      <td>8</td>\n",
       "      <td>09:08:02</td>\n",
       "    </tr>\n",
       "    <tr>\n",
       "      <th>2</th>\n",
       "      <td>2</td>\n",
       "      <td>Twitter for iPhone</td>\n",
       "      <td>1313510118437392384</td>\n",
       "      <td>The Fake News Media refuses to discuss how goo...</td>\n",
       "      <td>2020-10-06 16:03:10</td>\n",
       "      <td>13180</td>\n",
       "      <td>NaN</td>\n",
       "      <td>41808</td>\n",
       "      <td>False</td>\n",
       "      <td>2020-10-06 09:03:10-07:00</td>\n",
       "      <td>2020-10-06</td>\n",
       "      <td>2020</td>\n",
       "      <td>10</td>\n",
       "      <td>6</td>\n",
       "      <td>9</td>\n",
       "      <td>3</td>\n",
       "      <td>09:03:10</td>\n",
       "    </tr>\n",
       "    <tr>\n",
       "      <th>3</th>\n",
       "      <td>3</td>\n",
       "      <td>Twitter for iPhone</td>\n",
       "      <td>1313507608196771840</td>\n",
       "      <td>https://t.co/519BvRfcU2</td>\n",
       "      <td>2020-10-06 15:53:12</td>\n",
       "      <td>8284</td>\n",
       "      <td>NaN</td>\n",
       "      <td>29977</td>\n",
       "      <td>False</td>\n",
       "      <td>2020-10-06 08:53:12-07:00</td>\n",
       "      <td>2020-10-06</td>\n",
       "      <td>2020</td>\n",
       "      <td>10</td>\n",
       "      <td>6</td>\n",
       "      <td>8</td>\n",
       "      <td>53</td>\n",
       "      <td>08:53:12</td>\n",
       "    </tr>\n",
       "    <tr>\n",
       "      <th>4</th>\n",
       "      <td>4</td>\n",
       "      <td>Twitter for iPhone</td>\n",
       "      <td>1313505418866552832</td>\n",
       "      <td>THANK YOU! https://t.co/NvawGFpSIl</td>\n",
       "      <td>2020-10-06 15:44:30</td>\n",
       "      <td>8438</td>\n",
       "      <td>NaN</td>\n",
       "      <td>32892</td>\n",
       "      <td>False</td>\n",
       "      <td>2020-10-06 08:44:30-07:00</td>\n",
       "      <td>2020-10-06</td>\n",
       "      <td>2020</td>\n",
       "      <td>10</td>\n",
       "      <td>6</td>\n",
       "      <td>8</td>\n",
       "      <td>44</td>\n",
       "      <td>08:44:30</td>\n",
       "    </tr>\n",
       "  </tbody>\n",
       "</table>\n",
       "</div>"
      ],
      "text/plain": [
       "   index              source               id_str  \\\n",
       "0      0  Twitter for iPhone  1313529166265020416   \n",
       "1      1  Twitter for iPhone  1313511340124917760   \n",
       "2      2  Twitter for iPhone  1313510118437392384   \n",
       "3      3  Twitter for iPhone  1313507608196771840   \n",
       "4      4  Twitter for iPhone  1313505418866552832   \n",
       "\n",
       "                                                text          created_at  \\\n",
       "0  Did anyone get to see that absolute “Joke” of ... 2020-10-06 17:18:52   \n",
       "1                              REPEAL SECTION 230!!! 2020-10-06 16:08:02   \n",
       "2  The Fake News Media refuses to discuss how goo... 2020-10-06 16:03:10   \n",
       "3                            https://t.co/519BvRfcU2 2020-10-06 15:53:12   \n",
       "4                 THANK YOU! https://t.co/NvawGFpSIl 2020-10-06 15:44:30   \n",
       "\n",
       "   retweet_count  in_reply_to_user_id_str  favorite_count  is_retweet  \\\n",
       "0             12                      NaN               4       False   \n",
       "1          15402                      NaN           61375       False   \n",
       "2          13180                      NaN           41808       False   \n",
       "3           8284                      NaN           29977       False   \n",
       "4           8438                      NaN           32892       False   \n",
       "\n",
       "         eastern_created_at       date  year month day hour  minute      time  \n",
       "0 2020-10-06 10:18:52-07:00 2020-10-06  2020    10   6   10      18  10:18:52  \n",
       "1 2020-10-06 09:08:02-07:00 2020-10-06  2020    10   6    9       8  09:08:02  \n",
       "2 2020-10-06 09:03:10-07:00 2020-10-06  2020    10   6    9       3  09:03:10  \n",
       "3 2020-10-06 08:53:12-07:00 2020-10-06  2020    10   6    8      53  08:53:12  \n",
       "4 2020-10-06 08:44:30-07:00 2020-10-06  2020    10   6    8      44  08:44:30  "
      ]
     },
     "execution_count": 36,
     "metadata": {},
     "output_type": "execute_result"
    }
   ],
   "source": [
    "trump_tweets_today.head()"
   ]
  },
  {
   "cell_type": "markdown",
   "metadata": {},
   "source": [
    "---"
   ]
  },
  {
   "cell_type": "markdown",
   "metadata": {},
   "source": [
    "### RT vs Tweet"
   ]
  },
  {
   "cell_type": "code",
   "execution_count": 37,
   "metadata": {},
   "outputs": [],
   "source": [
    "rt_tweet = src.groupby(['date', 'is_retweet']).agg('size').reset_index(name='count')\n",
    "rt_tweet_recent = src[src['date'] > '2019-01-01']\\\n",
    "    .groupby(['date', 'is_retweet']).agg('size').reset_index(name='count')"
   ]
  },
  {
   "cell_type": "code",
   "execution_count": 38,
   "metadata": {},
   "outputs": [],
   "source": [
    "rt_pivot = pd.DataFrame(pd.pivot_table(rt_tweet, values='count', index=['date'],\\\n",
    "                          columns=['is_retweet'], aggfunc=np.sum).\\\n",
    "                        rename(columns={'is_retweet':'id', False:'tweet', True:'retweet'}).reset_index().fillna(''))"
   ]
  },
  {
   "cell_type": "code",
   "execution_count": 39,
   "metadata": {},
   "outputs": [],
   "source": [
    "rt_pivot.to_csv('output/rt_pivot.csv')"
   ]
  },
  {
   "cell_type": "markdown",
   "metadata": {},
   "source": [
    "---"
   ]
  },
  {
   "cell_type": "markdown",
   "metadata": {},
   "source": [
    "### Chart it!"
   ]
  },
  {
   "cell_type": "code",
   "execution_count": 40,
   "metadata": {
    "jupyter": {
     "source_hidden": true
    }
   },
   "outputs": [
    {
     "data": {
      "text/html": [
       "\n",
       "<div id=\"altair-viz-e90bcbc50e6c48e0a79a74044d859b59\"></div>\n",
       "<script type=\"text/javascript\">\n",
       "  (function(spec, embedOpt){\n",
       "    let outputDiv = document.currentScript.previousElementSibling;\n",
       "    if (outputDiv.id !== \"altair-viz-e90bcbc50e6c48e0a79a74044d859b59\") {\n",
       "      outputDiv = document.getElementById(\"altair-viz-e90bcbc50e6c48e0a79a74044d859b59\");\n",
       "    }\n",
       "    const paths = {\n",
       "      \"vega\": \"https://cdn.jsdelivr.net/npm//vega@5?noext\",\n",
       "      \"vega-lib\": \"https://cdn.jsdelivr.net/npm//vega-lib?noext\",\n",
       "      \"vega-lite\": \"https://cdn.jsdelivr.net/npm//vega-lite@4.8.1?noext\",\n",
       "      \"vega-embed\": \"https://cdn.jsdelivr.net/npm//vega-embed@6?noext\",\n",
       "    };\n",
       "\n",
       "    function loadScript(lib) {\n",
       "      return new Promise(function(resolve, reject) {\n",
       "        var s = document.createElement('script');\n",
       "        s.src = paths[lib];\n",
       "        s.async = true;\n",
       "        s.onload = () => resolve(paths[lib]);\n",
       "        s.onerror = () => reject(`Error loading script: ${paths[lib]}`);\n",
       "        document.getElementsByTagName(\"head\")[0].appendChild(s);\n",
       "      });\n",
       "    }\n",
       "\n",
       "    function showError(err) {\n",
       "      outputDiv.innerHTML = `<div class=\"error\" style=\"color:red;\">${err}</div>`;\n",
       "      throw err;\n",
       "    }\n",
       "\n",
       "    function displayChart(vegaEmbed) {\n",
       "      vegaEmbed(outputDiv, spec, embedOpt)\n",
       "        .catch(err => showError(`Javascript Error: ${err.message}<br>This usually means there's a typo in your chart specification. See the javascript console for the full traceback.`));\n",
       "    }\n",
       "\n",
       "    if(typeof define === \"function\" && define.amd) {\n",
       "      requirejs.config({paths});\n",
       "      require([\"vega-embed\"], displayChart, err => showError(`Error loading script: ${err.message}`));\n",
       "    } else if (typeof vegaEmbed === \"function\") {\n",
       "      displayChart(vegaEmbed);\n",
       "    } else {\n",
       "      loadScript(\"vega\")\n",
       "        .then(() => loadScript(\"vega-lite\"))\n",
       "        .then(() => loadScript(\"vega-embed\"))\n",
       "        .catch(showError)\n",
       "        .then(() => displayChart(vegaEmbed));\n",
       "    }\n",
       "  })({\"config\": {\"view\": {\"width\": 800, \"height\": 450, \"strokeOpacity\": 0}, \"background\": \"#ffffff\", \"title\": {\"anchor\": \"start\", \"font\": \"Benton Gothic Bold, sans\", \"fontColor\": \"#000000\", \"fontSize\": 22, \"fontWeight\": \"normal\"}, \"arc\": {\"fill\": \"#82c6df\"}, \"area\": {\"fill\": \"#82c6df\"}, \"line\": {\"stroke\": \"#82c6df\", \"strokeWidth\": 3}, \"path\": {\"stroke\": \"#82c6df\"}, \"rect\": {\"fill\": \"#82c6df\"}, \"shape\": {\"stroke\": \"#82c6df\"}, \"bar\": {\"fill\": \"#82c6df\"}, \"point\": {\"stroke\": \"#82c6df\"}, \"symbol\": {\"fill\": \"#82c6df\", \"size\": 30}, \"axis\": {\"titleFont\": \"Benton Gothic Bold, sans\", \"titleFontSize\": 13, \"titleFontWeight\": \"normal\", \"labelFont\": \"Benton Gothic, sans\", \"labelFontSize\": 11.5, \"labelFontWeight\": \"normal\"}, \"axisX\": {\"labelAngle\": 0, \"labelPadding\": 4, \"tickSize\": 3}, \"axisY\": {\"labelBaseline\": \"middle\", \"maxExtent\": 45, \"minExtent\": 45, \"tickSize\": 2, \"titleAlign\": \"left\", \"titleAngle\": 0, \"titleX\": -45, \"titleY\": -11}, \"legend\": {\"titleFont\": \"Benton Gothic Bold, sans\", \"titleFontSize\": 13, \"titleFontWeight\": \"normal\", \"symbolType\": \"square\", \"labelFont\": \"Benton Gothic, sans\", \"labelFontSize\": 11.5}, \"range\": {\"category\": [\"#3580b1\", \"#ec8431\", \"#ab7fb4\", \"#c89d29\", \"#adc839\", \"#829eb1\"], \"diverging\": [\"#e68a4f\", \"#f4bb6a\", \"#f9e39c\", \"#dadfe2\", \"#a6b7c6\", \"#849eae\"], \"heatmap\": [\"#fbf2c7\", \"#f9e39c\", \"#f8d36e\", \"#f4bb6a\", \"#e68a4f\", \"#d15a40\", \"#ab4232\"], \"ordinal\": [\"#fbf2c7\", \"#f9e39c\", \"#f8d36e\", \"#f4bb6a\", \"#e68a4f\", \"#d15a40\", \"#ab4232\"], \"ramp\": [\"#fbf2c7\", \"#f9e39c\", \"#f8d36e\", \"#f4bb6a\", \"#e68a4f\", \"#d15a40\", \"#ab4232\"]}}, \"layer\": [{\"mark\": {\"type\": \"bar\", \"size\": 2}, \"encoding\": {\"x\": {\"type\": \"temporal\", \"axis\": {\"format\": \"%b. %Y\", \"grid\": false, \"tickCount\": 6, \"title\": \"\"}, \"field\": \"date\"}, \"y\": {\"type\": \"quantitative\", \"axis\": {\"domainOpacity\": 0, \"gridColor\": \"#dddddd\", \"offset\": 6, \"tickCount\": 6, \"tickSize\": 0, \"title\": \"Daily tweet counts and mean\"}, \"field\": \"count\", \"scale\": {\"domain\": [0, 200]}}}, \"title\": \"@realDonaldTrump tweet frequency since candidacy announcement\"}, {\"mark\": {\"type\": \"rule\", \"color\": \"red\"}, \"encoding\": {\"y\": {\"type\": \"quantitative\", \"aggregate\": \"mean\", \"field\": \"count\"}}}, {\"mark\": {\"type\": \"text\", \"align\": \"center\", \"baseline\": \"middle\", \"dx\": 200, \"dy\": 10, \"fontWeight\": \"bold\"}, \"encoding\": {\"text\": {\"type\": \"quantitative\", \"aggregate\": \"mean\", \"field\": \"count\", \"format\": \".2\"}, \"y\": {\"type\": \"quantitative\", \"aggregate\": \"mean\", \"field\": \"count\"}}}], \"data\": {\"name\": \"data-54d6e466ad495bec822ad7e305459712\"}, \"height\": 400, \"width\": 800, \"$schema\": \"https://vega.github.io/schema/vega-lite/v4.8.1.json\", \"datasets\": {\"data-54d6e466ad495bec822ad7e305459712\": [{\"date\": \"2015-06-01T00:00:00\", \"count\": 33}, {\"date\": \"2015-06-02T00:00:00\", \"count\": 8}, {\"date\": \"2015-06-03T00:00:00\", \"count\": 14}, {\"date\": \"2015-06-04T00:00:00\", \"count\": 24}, {\"date\": \"2015-06-05T00:00:00\", \"count\": 27}, {\"date\": \"2015-06-06T00:00:00\", \"count\": 14}, {\"date\": \"2015-06-07T00:00:00\", \"count\": 9}, {\"date\": \"2015-06-08T00:00:00\", \"count\": 2}, {\"date\": \"2015-06-09T00:00:00\", \"count\": 8}, {\"date\": \"2015-06-10T00:00:00\", \"count\": 1}, {\"date\": \"2015-06-11T00:00:00\", \"count\": 20}, {\"date\": \"2015-06-12T00:00:00\", \"count\": 33}, {\"date\": \"2015-06-13T00:00:00\", \"count\": 5}, {\"date\": \"2015-06-14T00:00:00\", \"count\": 11}, {\"date\": \"2015-06-15T00:00:00\", \"count\": 16}, {\"date\": \"2015-06-16T00:00:00\", \"count\": 35}, {\"date\": \"2015-06-17T00:00:00\", \"count\": 6}, {\"date\": \"2015-06-18T00:00:00\", \"count\": 7}, {\"date\": \"2015-06-19T00:00:00\", \"count\": 29}, {\"date\": \"2015-06-20T00:00:00\", \"count\": 10}, {\"date\": \"2015-06-21T00:00:00\", \"count\": 35}, {\"date\": \"2015-06-22T00:00:00\", \"count\": 29}, {\"date\": \"2015-06-23T00:00:00\", \"count\": 9}, {\"date\": \"2015-06-24T00:00:00\", \"count\": 27}, {\"date\": \"2015-06-25T00:00:00\", \"count\": 8}, {\"date\": \"2015-06-26T00:00:00\", \"count\": 5}, {\"date\": \"2015-06-27T00:00:00\", \"count\": 14}, {\"date\": \"2015-06-28T00:00:00\", \"count\": 34}, {\"date\": \"2015-06-29T00:00:00\", \"count\": 37}, {\"date\": \"2015-06-30T00:00:00\", \"count\": 15}, {\"date\": \"2015-07-01T00:00:00\", \"count\": 16}, {\"date\": \"2015-07-02T00:00:00\", \"count\": 60}, {\"date\": \"2015-07-03T00:00:00\", \"count\": 42}, {\"date\": \"2015-07-04T00:00:00\", \"count\": 45}, {\"date\": \"2015-07-05T00:00:00\", \"count\": 21}, {\"date\": \"2015-07-06T00:00:00\", \"count\": 11}, {\"date\": \"2015-07-07T00:00:00\", \"count\": 10}, {\"date\": \"2015-07-08T00:00:00\", \"count\": 17}, {\"date\": \"2015-07-09T00:00:00\", \"count\": 37}, {\"date\": \"2015-07-10T00:00:00\", \"count\": 14}, {\"date\": \"2015-07-11T00:00:00\", \"count\": 25}, {\"date\": \"2015-07-12T00:00:00\", \"count\": 10}, {\"date\": \"2015-07-13T00:00:00\", \"count\": 16}, {\"date\": \"2015-07-14T00:00:00\", \"count\": 20}, {\"date\": \"2015-07-15T00:00:00\", \"count\": 8}, {\"date\": \"2015-07-16T00:00:00\", \"count\": 38}, {\"date\": \"2015-07-17T00:00:00\", \"count\": 25}, {\"date\": \"2015-07-18T00:00:00\", \"count\": 28}, {\"date\": \"2015-07-19T00:00:00\", \"count\": 23}, {\"date\": \"2015-07-20T00:00:00\", \"count\": 55}, {\"date\": \"2015-07-21T00:00:00\", \"count\": 30}, {\"date\": \"2015-07-22T00:00:00\", \"count\": 29}, {\"date\": \"2015-07-23T00:00:00\", \"count\": 25}, {\"date\": \"2015-07-24T00:00:00\", \"count\": 23}, {\"date\": \"2015-07-25T00:00:00\", \"count\": 45}, {\"date\": \"2015-07-26T00:00:00\", \"count\": 25}, {\"date\": \"2015-07-27T00:00:00\", \"count\": 34}, {\"date\": \"2015-07-28T00:00:00\", \"count\": 17}, {\"date\": \"2015-07-29T00:00:00\", \"count\": 24}, {\"date\": \"2015-07-30T00:00:00\", \"count\": 10}, {\"date\": \"2015-07-31T00:00:00\", \"count\": 7}, {\"date\": \"2015-08-01T00:00:00\", \"count\": 1}, {\"date\": \"2015-08-02T00:00:00\", \"count\": 21}, {\"date\": \"2015-08-03T00:00:00\", \"count\": 27}, {\"date\": \"2015-08-04T00:00:00\", \"count\": 16}, {\"date\": \"2015-08-05T00:00:00\", \"count\": 30}, {\"date\": \"2015-08-06T00:00:00\", \"count\": 10}, {\"date\": \"2015-08-07T00:00:00\", \"count\": 41}, {\"date\": \"2015-08-08T00:00:00\", \"count\": 6}, {\"date\": \"2015-08-09T00:00:00\", \"count\": 12}, {\"date\": \"2015-08-10T00:00:00\", \"count\": 17}, {\"date\": \"2015-08-11T00:00:00\", \"count\": 7}, {\"date\": \"2015-08-12T00:00:00\", \"count\": 2}, {\"date\": \"2015-08-13T00:00:00\", \"count\": 4}, {\"date\": \"2015-08-14T00:00:00\", \"count\": 1}, {\"date\": \"2015-08-15T00:00:00\", \"count\": 5}, {\"date\": \"2015-08-17T00:00:00\", \"count\": 14}, {\"date\": \"2015-08-18T00:00:00\", \"count\": 14}, {\"date\": \"2015-08-19T00:00:00\", \"count\": 7}, {\"date\": \"2015-08-20T00:00:00\", \"count\": 9}, {\"date\": \"2015-08-21T00:00:00\", \"count\": 10}, {\"date\": \"2015-08-22T00:00:00\", \"count\": 11}, {\"date\": \"2015-08-23T00:00:00\", \"count\": 2}, {\"date\": \"2015-08-24T00:00:00\", \"count\": 28}, {\"date\": \"2015-08-25T00:00:00\", \"count\": 21}, {\"date\": \"2015-08-26T00:00:00\", \"count\": 4}, {\"date\": \"2015-08-27T00:00:00\", \"count\": 13}, {\"date\": \"2015-08-28T00:00:00\", \"count\": 7}, {\"date\": \"2015-08-29T00:00:00\", \"count\": 7}, {\"date\": \"2015-08-31T00:00:00\", \"count\": 11}, {\"date\": \"2015-09-01T00:00:00\", \"count\": 17}, {\"date\": \"2015-09-02T00:00:00\", \"count\": 14}, {\"date\": \"2015-09-03T00:00:00\", \"count\": 6}, {\"date\": \"2015-09-04T00:00:00\", \"count\": 5}, {\"date\": \"2015-09-05T00:00:00\", \"count\": 11}, {\"date\": \"2015-09-06T00:00:00\", \"count\": 28}, {\"date\": \"2015-09-07T00:00:00\", \"count\": 8}, {\"date\": \"2015-09-08T00:00:00\", \"count\": 16}, {\"date\": \"2015-09-09T00:00:00\", \"count\": 5}, {\"date\": \"2015-09-10T00:00:00\", \"count\": 4}, {\"date\": \"2015-09-11T00:00:00\", \"count\": 15}, {\"date\": \"2015-09-12T00:00:00\", \"count\": 40}, {\"date\": \"2015-09-13T00:00:00\", \"count\": 1}, {\"date\": \"2015-09-14T00:00:00\", \"count\": 11}, {\"date\": \"2015-09-15T00:00:00\", \"count\": 18}, {\"date\": \"2015-09-16T00:00:00\", \"count\": 7}, {\"date\": \"2015-09-17T00:00:00\", \"count\": 5}, {\"date\": \"2015-09-18T00:00:00\", \"count\": 5}, {\"date\": \"2015-09-19T00:00:00\", \"count\": 9}, {\"date\": \"2015-09-20T00:00:00\", \"count\": 9}, {\"date\": \"2015-09-21T00:00:00\", \"count\": 63}, {\"date\": \"2015-09-22T00:00:00\", \"count\": 20}, {\"date\": \"2015-09-23T00:00:00\", \"count\": 7}, {\"date\": \"2015-09-24T00:00:00\", \"count\": 16}, {\"date\": \"2015-09-25T00:00:00\", \"count\": 14}, {\"date\": \"2015-09-26T00:00:00\", \"count\": 11}, {\"date\": \"2015-09-27T00:00:00\", \"count\": 13}, {\"date\": \"2015-09-28T00:00:00\", \"count\": 12}, {\"date\": \"2015-09-29T00:00:00\", \"count\": 5}, {\"date\": \"2015-09-30T00:00:00\", \"count\": 19}, {\"date\": \"2015-10-01T00:00:00\", \"count\": 20}, {\"date\": \"2015-10-02T00:00:00\", \"count\": 23}, {\"date\": \"2015-10-03T00:00:00\", \"count\": 17}, {\"date\": \"2015-10-04T00:00:00\", \"count\": 21}, {\"date\": \"2015-10-05T00:00:00\", \"count\": 17}, {\"date\": \"2015-10-06T00:00:00\", \"count\": 38}, {\"date\": \"2015-10-07T00:00:00\", \"count\": 17}, {\"date\": \"2015-10-08T00:00:00\", \"count\": 24}, {\"date\": \"2015-10-09T00:00:00\", \"count\": 32}, {\"date\": \"2015-10-10T00:00:00\", \"count\": 13}, {\"date\": \"2015-10-11T00:00:00\", \"count\": 6}, {\"date\": \"2015-10-12T00:00:00\", \"count\": 12}, {\"date\": \"2015-10-13T00:00:00\", \"count\": 93}, {\"date\": \"2015-10-14T00:00:00\", \"count\": 17}, {\"date\": \"2015-10-15T00:00:00\", \"count\": 18}, {\"date\": \"2015-10-16T00:00:00\", \"count\": 21}, {\"date\": \"2015-10-17T00:00:00\", \"count\": 15}, {\"date\": \"2015-10-18T00:00:00\", \"count\": 69}, {\"date\": \"2015-10-19T00:00:00\", \"count\": 13}, {\"date\": \"2015-10-20T00:00:00\", \"count\": 28}, {\"date\": \"2015-10-21T00:00:00\", \"count\": 11}, {\"date\": \"2015-10-22T00:00:00\", \"count\": 10}, {\"date\": \"2015-10-23T00:00:00\", \"count\": 3}, {\"date\": \"2015-10-24T00:00:00\", \"count\": 25}, {\"date\": \"2015-10-25T00:00:00\", \"count\": 46}, {\"date\": \"2015-10-26T00:00:00\", \"count\": 11}, {\"date\": \"2015-10-27T00:00:00\", \"count\": 20}, {\"date\": \"2015-10-28T00:00:00\", \"count\": 32}, {\"date\": \"2015-10-29T00:00:00\", \"count\": 45}, {\"date\": \"2015-10-30T00:00:00\", \"count\": 25}, {\"date\": \"2015-10-31T00:00:00\", \"count\": 44}, {\"date\": \"2015-11-01T00:00:00\", \"count\": 20}, {\"date\": \"2015-11-02T00:00:00\", \"count\": 19}, {\"date\": \"2015-11-03T00:00:00\", \"count\": 32}, {\"date\": \"2015-11-04T00:00:00\", \"count\": 5}, {\"date\": \"2015-11-05T00:00:00\", \"count\": 15}, {\"date\": \"2015-11-06T00:00:00\", \"count\": 38}, {\"date\": \"2015-11-07T00:00:00\", \"count\": 23}, {\"date\": \"2015-11-08T00:00:00\", \"count\": 37}, {\"date\": \"2015-11-09T00:00:00\", \"count\": 16}, {\"date\": \"2015-11-10T00:00:00\", \"count\": 16}, {\"date\": \"2015-11-11T00:00:00\", \"count\": 14}, {\"date\": \"2015-11-12T00:00:00\", \"count\": 20}, {\"date\": \"2015-11-13T00:00:00\", \"count\": 13}, {\"date\": \"2015-11-14T00:00:00\", \"count\": 23}, {\"date\": \"2015-11-15T00:00:00\", \"count\": 23}, {\"date\": \"2015-11-16T00:00:00\", \"count\": 12}, {\"date\": \"2015-11-17T00:00:00\", \"count\": 12}, {\"date\": \"2015-11-18T00:00:00\", \"count\": 6}, {\"date\": \"2015-11-19T00:00:00\", \"count\": 21}, {\"date\": \"2015-11-20T00:00:00\", \"count\": 42}, {\"date\": \"2015-11-21T00:00:00\", \"count\": 28}, {\"date\": \"2015-11-22T00:00:00\", \"count\": 19}, {\"date\": \"2015-11-23T00:00:00\", \"count\": 18}, {\"date\": \"2015-11-24T00:00:00\", \"count\": 17}, {\"date\": \"2015-11-25T00:00:00\", \"count\": 20}, {\"date\": \"2015-11-26T00:00:00\", \"count\": 9}, {\"date\": \"2015-11-27T00:00:00\", \"count\": 8}, {\"date\": \"2015-11-28T00:00:00\", \"count\": 18}, {\"date\": \"2015-11-29T00:00:00\", \"count\": 17}, {\"date\": \"2015-11-30T00:00:00\", \"count\": 12}, {\"date\": \"2015-12-01T00:00:00\", \"count\": 20}, {\"date\": \"2015-12-02T00:00:00\", \"count\": 20}, {\"date\": \"2015-12-03T00:00:00\", \"count\": 34}, {\"date\": \"2015-12-04T00:00:00\", \"count\": 25}, {\"date\": \"2015-12-05T00:00:00\", \"count\": 10}, {\"date\": \"2015-12-06T00:00:00\", \"count\": 39}, {\"date\": \"2015-12-07T00:00:00\", \"count\": 29}, {\"date\": \"2015-12-08T00:00:00\", \"count\": 15}, {\"date\": \"2015-12-09T00:00:00\", \"count\": 31}, {\"date\": \"2015-12-10T00:00:00\", \"count\": 20}, {\"date\": \"2015-12-11T00:00:00\", \"count\": 19}, {\"date\": \"2015-12-12T00:00:00\", \"count\": 23}, {\"date\": \"2015-12-13T00:00:00\", \"count\": 32}, {\"date\": \"2015-12-14T00:00:00\", \"count\": 17}, {\"date\": \"2015-12-15T00:00:00\", \"count\": 27}, {\"date\": \"2015-12-16T00:00:00\", \"count\": 19}, {\"date\": \"2015-12-17T00:00:00\", \"count\": 6}, {\"date\": \"2015-12-18T00:00:00\", \"count\": 12}, {\"date\": \"2015-12-19T00:00:00\", \"count\": 11}, {\"date\": \"2015-12-20T00:00:00\", \"count\": 14}, {\"date\": \"2015-12-21T00:00:00\", \"count\": 16}, {\"date\": \"2015-12-22T00:00:00\", \"count\": 28}, {\"date\": \"2015-12-23T00:00:00\", \"count\": 13}, {\"date\": \"2015-12-24T00:00:00\", \"count\": 16}, {\"date\": \"2015-12-25T00:00:00\", \"count\": 13}, {\"date\": \"2015-12-26T00:00:00\", \"count\": 8}, {\"date\": \"2015-12-27T00:00:00\", \"count\": 11}, {\"date\": \"2015-12-28T00:00:00\", \"count\": 15}, {\"date\": \"2015-12-29T00:00:00\", \"count\": 10}, {\"date\": \"2015-12-30T00:00:00\", \"count\": 19}, {\"date\": \"2015-12-31T00:00:00\", \"count\": 23}, {\"date\": \"2016-01-01T00:00:00\", \"count\": 12}, {\"date\": \"2016-01-02T00:00:00\", \"count\": 15}, {\"date\": \"2016-01-03T00:00:00\", \"count\": 13}, {\"date\": \"2016-01-04T00:00:00\", \"count\": 14}, {\"date\": \"2016-01-05T00:00:00\", \"count\": 15}, {\"date\": \"2016-01-06T00:00:00\", \"count\": 7}, {\"date\": \"2016-01-07T00:00:00\", \"count\": 20}, {\"date\": \"2016-01-08T00:00:00\", \"count\": 9}, {\"date\": \"2016-01-09T00:00:00\", \"count\": 12}, {\"date\": \"2016-01-10T00:00:00\", \"count\": 11}, {\"date\": \"2016-01-11T00:00:00\", \"count\": 18}, {\"date\": \"2016-01-12T00:00:00\", \"count\": 10}, {\"date\": \"2016-01-13T00:00:00\", \"count\": 14}, {\"date\": \"2016-01-14T00:00:00\", \"count\": 9}, {\"date\": \"2016-01-15T00:00:00\", \"count\": 11}, {\"date\": \"2016-01-16T00:00:00\", \"count\": 17}, {\"date\": \"2016-01-17T00:00:00\", \"count\": 6}, {\"date\": \"2016-01-18T00:00:00\", \"count\": 10}, {\"date\": \"2016-01-19T00:00:00\", \"count\": 16}, {\"date\": \"2016-01-20T00:00:00\", \"count\": 10}, {\"date\": \"2016-01-21T00:00:00\", \"count\": 21}, {\"date\": \"2016-01-22T00:00:00\", \"count\": 32}, {\"date\": \"2016-01-23T00:00:00\", \"count\": 21}, {\"date\": \"2016-01-24T00:00:00\", \"count\": 21}, {\"date\": \"2016-01-25T00:00:00\", \"count\": 27}, {\"date\": \"2016-01-26T00:00:00\", \"count\": 24}, {\"date\": \"2016-01-27T00:00:00\", \"count\": 13}, {\"date\": \"2016-01-28T00:00:00\", \"count\": 35}, {\"date\": \"2016-01-29T00:00:00\", \"count\": 23}, {\"date\": \"2016-01-30T00:00:00\", \"count\": 4}, {\"date\": \"2016-01-31T00:00:00\", \"count\": 18}, {\"date\": \"2016-02-01T00:00:00\", \"count\": 3}, {\"date\": \"2016-02-02T00:00:00\", \"count\": 17}, {\"date\": \"2016-02-03T00:00:00\", \"count\": 20}, {\"date\": \"2016-02-04T00:00:00\", \"count\": 5}, {\"date\": \"2016-02-05T00:00:00\", \"count\": 20}, {\"date\": \"2016-02-06T00:00:00\", \"count\": 14}, {\"date\": \"2016-02-07T00:00:00\", \"count\": 22}, {\"date\": \"2016-02-08T00:00:00\", \"count\": 13}, {\"date\": \"2016-02-09T00:00:00\", \"count\": 16}, {\"date\": \"2016-02-10T00:00:00\", \"count\": 10}, {\"date\": \"2016-02-11T00:00:00\", \"count\": 14}, {\"date\": \"2016-02-12T00:00:00\", \"count\": 19}, {\"date\": \"2016-02-13T00:00:00\", \"count\": 31}, {\"date\": \"2016-02-14T00:00:00\", \"count\": 10}, {\"date\": \"2016-02-15T00:00:00\", \"count\": 11}, {\"date\": \"2016-02-16T00:00:00\", \"count\": 14}, {\"date\": \"2016-02-17T00:00:00\", \"count\": 12}, {\"date\": \"2016-02-18T00:00:00\", \"count\": 18}, {\"date\": \"2016-02-19T00:00:00\", \"count\": 15}, {\"date\": \"2016-02-20T00:00:00\", \"count\": 21}, {\"date\": \"2016-02-21T00:00:00\", \"count\": 8}, {\"date\": \"2016-02-22T00:00:00\", \"count\": 31}, {\"date\": \"2016-02-23T00:00:00\", \"count\": 23}, {\"date\": \"2016-02-24T00:00:00\", \"count\": 27}, {\"date\": \"2016-02-25T00:00:00\", \"count\": 21}, {\"date\": \"2016-02-26T00:00:00\", \"count\": 23}, {\"date\": \"2016-02-27T00:00:00\", \"count\": 16}, {\"date\": \"2016-02-28T00:00:00\", \"count\": 28}, {\"date\": \"2016-02-29T00:00:00\", \"count\": 14}, {\"date\": \"2016-03-01T00:00:00\", \"count\": 16}, {\"date\": \"2016-03-02T00:00:00\", \"count\": 23}, {\"date\": \"2016-03-03T00:00:00\", \"count\": 17}, {\"date\": \"2016-03-04T00:00:00\", \"count\": 11}, {\"date\": \"2016-03-05T00:00:00\", \"count\": 21}, {\"date\": \"2016-03-06T00:00:00\", \"count\": 14}, {\"date\": \"2016-03-07T00:00:00\", \"count\": 18}, {\"date\": \"2016-03-08T00:00:00\", \"count\": 23}, {\"date\": \"2016-03-09T00:00:00\", \"count\": 3}, {\"date\": \"2016-03-10T00:00:00\", \"count\": 6}, {\"date\": \"2016-03-11T00:00:00\", \"count\": 12}, {\"date\": \"2016-03-12T00:00:00\", \"count\": 18}, {\"date\": \"2016-03-13T00:00:00\", \"count\": 11}, {\"date\": \"2016-03-14T00:00:00\", \"count\": 13}, {\"date\": \"2016-03-15T00:00:00\", \"count\": 31}, {\"date\": \"2016-03-16T00:00:00\", \"count\": 16}, {\"date\": \"2016-03-17T00:00:00\", \"count\": 14}, {\"date\": \"2016-03-18T00:00:00\", \"count\": 27}, {\"date\": \"2016-03-19T00:00:00\", \"count\": 20}, {\"date\": \"2016-03-20T00:00:00\", \"count\": 9}, {\"date\": \"2016-03-22T00:00:00\", \"count\": 18}, {\"date\": \"2016-03-23T00:00:00\", \"count\": 14}, {\"date\": \"2016-03-24T00:00:00\", \"count\": 21}, {\"date\": \"2016-03-25T00:00:00\", \"count\": 4}, {\"date\": \"2016-03-26T00:00:00\", \"count\": 10}, {\"date\": \"2016-03-27T00:00:00\", \"count\": 10}, {\"date\": \"2016-03-28T00:00:00\", \"count\": 12}, {\"date\": \"2016-03-29T00:00:00\", \"count\": 14}, {\"date\": \"2016-03-30T00:00:00\", \"count\": 7}, {\"date\": \"2016-03-31T00:00:00\", \"count\": 8}, {\"date\": \"2016-04-01T00:00:00\", \"count\": 10}, {\"date\": \"2016-04-02T00:00:00\", \"count\": 8}, {\"date\": \"2016-04-03T00:00:00\", \"count\": 14}, {\"date\": \"2016-04-04T00:00:00\", \"count\": 11}, {\"date\": \"2016-04-05T00:00:00\", \"count\": 7}, {\"date\": \"2016-04-06T00:00:00\", \"count\": 4}, {\"date\": \"2016-04-07T00:00:00\", \"count\": 6}, {\"date\": \"2016-04-08T00:00:00\", \"count\": 17}, {\"date\": \"2016-04-09T00:00:00\", \"count\": 14}, {\"date\": \"2016-04-10T00:00:00\", \"count\": 7}, {\"date\": \"2016-04-11T00:00:00\", \"count\": 13}, {\"date\": \"2016-04-12T00:00:00\", \"count\": 7}, {\"date\": \"2016-04-13T00:00:00\", \"count\": 6}, {\"date\": \"2016-04-14T00:00:00\", \"count\": 2}, {\"date\": \"2016-04-15T00:00:00\", \"count\": 6}, {\"date\": \"2016-04-16T00:00:00\", \"count\": 13}, {\"date\": \"2016-04-17T00:00:00\", \"count\": 7}, {\"date\": \"2016-04-18T00:00:00\", \"count\": 7}, {\"date\": \"2016-04-19T00:00:00\", \"count\": 20}, {\"date\": \"2016-04-20T00:00:00\", \"count\": 7}, {\"date\": \"2016-04-21T00:00:00\", \"count\": 4}, {\"date\": \"2016-04-22T00:00:00\", \"count\": 6}, {\"date\": \"2016-04-23T00:00:00\", \"count\": 12}, {\"date\": \"2016-04-24T00:00:00\", \"count\": 7}, {\"date\": \"2016-04-25T00:00:00\", \"count\": 10}, {\"date\": \"2016-04-26T00:00:00\", \"count\": 17}, {\"date\": \"2016-04-27T00:00:00\", \"count\": 15}, {\"date\": \"2016-04-28T00:00:00\", \"count\": 14}, {\"date\": \"2016-04-29T00:00:00\", \"count\": 5}, {\"date\": \"2016-04-30T00:00:00\", \"count\": 6}, {\"date\": \"2016-05-01T00:00:00\", \"count\": 8}, {\"date\": \"2016-05-02T00:00:00\", \"count\": 14}, {\"date\": \"2016-05-03T00:00:00\", \"count\": 11}, {\"date\": \"2016-05-04T00:00:00\", \"count\": 6}, {\"date\": \"2016-05-05T00:00:00\", \"count\": 7}, {\"date\": \"2016-05-06T00:00:00\", \"count\": 17}, {\"date\": \"2016-05-07T00:00:00\", \"count\": 6}, {\"date\": \"2016-05-08T00:00:00\", \"count\": 6}, {\"date\": \"2016-05-09T00:00:00\", \"count\": 20}, {\"date\": \"2016-05-10T00:00:00\", \"count\": 17}, {\"date\": \"2016-05-11T00:00:00\", \"count\": 14}, {\"date\": \"2016-05-12T00:00:00\", \"count\": 3}, {\"date\": \"2016-05-13T00:00:00\", \"count\": 3}, {\"date\": \"2016-05-14T00:00:00\", \"count\": 3}, {\"date\": \"2016-05-15T00:00:00\", \"count\": 15}, {\"date\": \"2016-05-16T00:00:00\", \"count\": 16}, {\"date\": \"2016-05-17T00:00:00\", \"count\": 54}, {\"date\": \"2016-05-18T00:00:00\", \"count\": 7}, {\"date\": \"2016-05-19T00:00:00\", \"count\": 3}, {\"date\": \"2016-05-20T00:00:00\", \"count\": 18}, {\"date\": \"2016-05-21T00:00:00\", \"count\": 9}, {\"date\": \"2016-05-22T00:00:00\", \"count\": 9}, {\"date\": \"2016-05-23T00:00:00\", \"count\": 8}, {\"date\": \"2016-05-24T00:00:00\", \"count\": 18}, {\"date\": \"2016-05-25T00:00:00\", \"count\": 6}, {\"date\": \"2016-05-26T00:00:00\", \"count\": 9}, {\"date\": \"2016-05-27T00:00:00\", \"count\": 8}, {\"date\": \"2016-05-28T00:00:00\", \"count\": 7}, {\"date\": \"2016-05-29T00:00:00\", \"count\": 6}, {\"date\": \"2016-05-30T00:00:00\", \"count\": 13}, {\"date\": \"2016-05-31T00:00:00\", \"count\": 9}, {\"date\": \"2016-06-01T00:00:00\", \"count\": 7}, {\"date\": \"2016-06-02T00:00:00\", \"count\": 29}, {\"date\": \"2016-06-03T00:00:00\", \"count\": 10}, {\"date\": \"2016-06-04T00:00:00\", \"count\": 7}, {\"date\": \"2016-06-05T00:00:00\", \"count\": 3}, {\"date\": \"2016-06-06T00:00:00\", \"count\": 12}, {\"date\": \"2016-06-07T00:00:00\", \"count\": 8}, {\"date\": \"2016-06-08T00:00:00\", \"count\": 19}, {\"date\": \"2016-06-09T00:00:00\", \"count\": 8}, {\"date\": \"2016-06-10T00:00:00\", \"count\": 13}, {\"date\": \"2016-06-11T00:00:00\", \"count\": 10}, {\"date\": \"2016-06-12T00:00:00\", \"count\": 8}, {\"date\": \"2016-06-13T00:00:00\", \"count\": 13}, {\"date\": \"2016-06-14T00:00:00\", \"count\": 7}, {\"date\": \"2016-06-15T00:00:00\", \"count\": 9}, {\"date\": \"2016-06-16T00:00:00\", \"count\": 7}, {\"date\": \"2016-06-17T00:00:00\", \"count\": 12}, {\"date\": \"2016-06-18T00:00:00\", \"count\": 9}, {\"date\": \"2016-06-19T00:00:00\", \"count\": 2}, {\"date\": \"2016-06-20T00:00:00\", \"count\": 1}, {\"date\": \"2016-06-21T00:00:00\", \"count\": 14}, {\"date\": \"2016-06-22T00:00:00\", \"count\": 6}, {\"date\": \"2016-06-23T00:00:00\", \"count\": 17}, {\"date\": \"2016-06-24T00:00:00\", \"count\": 13}, {\"date\": \"2016-06-25T00:00:00\", \"count\": 9}, {\"date\": \"2016-06-26T00:00:00\", \"count\": 15}, {\"date\": \"2016-06-27T00:00:00\", \"count\": 3}, {\"date\": \"2016-06-28T00:00:00\", \"count\": 13}, {\"date\": \"2016-06-29T00:00:00\", \"count\": 10}, {\"date\": \"2016-06-30T00:00:00\", \"count\": 10}, {\"date\": \"2016-07-01T00:00:00\", \"count\": 11}, {\"date\": \"2016-07-02T00:00:00\", \"count\": 12}, {\"date\": \"2016-07-03T00:00:00\", \"count\": 8}, {\"date\": \"2016-07-04T00:00:00\", \"count\": 13}, {\"date\": \"2016-07-05T00:00:00\", \"count\": 10}, {\"date\": \"2016-07-06T00:00:00\", \"count\": 12}, {\"date\": \"2016-07-07T00:00:00\", \"count\": 6}, {\"date\": \"2016-07-08T00:00:00\", \"count\": 5}, {\"date\": \"2016-07-09T00:00:00\", \"count\": 2}, {\"date\": \"2016-07-10T00:00:00\", \"count\": 4}, {\"date\": \"2016-07-11T00:00:00\", \"count\": 6}, {\"date\": \"2016-07-12T00:00:00\", \"count\": 14}, {\"date\": \"2016-07-13T00:00:00\", \"count\": 14}, {\"date\": \"2016-07-14T00:00:00\", \"count\": 6}, {\"date\": \"2016-07-15T00:00:00\", \"count\": 4}, {\"date\": \"2016-07-16T00:00:00\", \"count\": 13}, {\"date\": \"2016-07-17T00:00:00\", \"count\": 12}, {\"date\": \"2016-07-18T00:00:00\", \"count\": 8}, {\"date\": \"2016-07-19T00:00:00\", \"count\": 5}, {\"date\": \"2016-07-20T00:00:00\", \"count\": 23}, {\"date\": \"2016-07-21T00:00:00\", \"count\": 14}, {\"date\": \"2016-07-22T00:00:00\", \"count\": 7}, {\"date\": \"2016-07-23T00:00:00\", \"count\": 14}, {\"date\": \"2016-07-24T00:00:00\", \"count\": 17}, {\"date\": \"2016-07-25T00:00:00\", \"count\": 22}, {\"date\": \"2016-07-26T00:00:00\", \"count\": 19}, {\"date\": \"2016-07-27T00:00:00\", \"count\": 20}, {\"date\": \"2016-07-28T00:00:00\", \"count\": 22}, {\"date\": \"2016-07-29T00:00:00\", \"count\": 27}, {\"date\": \"2016-07-30T00:00:00\", \"count\": 23}, {\"date\": \"2016-07-31T00:00:00\", \"count\": 5}, {\"date\": \"2016-08-01T00:00:00\", \"count\": 25}, {\"date\": \"2016-08-02T00:00:00\", \"count\": 14}, {\"date\": \"2016-08-03T00:00:00\", \"count\": 7}, {\"date\": \"2016-08-04T00:00:00\", \"count\": 8}, {\"date\": \"2016-08-05T00:00:00\", \"count\": 34}, {\"date\": \"2016-08-06T00:00:00\", \"count\": 10}, {\"date\": \"2016-08-07T00:00:00\", \"count\": 5}, {\"date\": \"2016-08-08T00:00:00\", \"count\": 14}, {\"date\": \"2016-08-09T00:00:00\", \"count\": 19}, {\"date\": \"2016-08-10T00:00:00\", \"count\": 13}, {\"date\": \"2016-08-11T00:00:00\", \"count\": 7}, {\"date\": \"2016-08-12T00:00:00\", \"count\": 13}, {\"date\": \"2016-08-13T00:00:00\", \"count\": 7}, {\"date\": \"2016-08-14T00:00:00\", \"count\": 10}, {\"date\": \"2016-08-15T00:00:00\", \"count\": 3}, {\"date\": \"2016-08-16T00:00:00\", \"count\": 7}, {\"date\": \"2016-08-17T00:00:00\", \"count\": 8}, {\"date\": \"2016-08-18T00:00:00\", \"count\": 4}, {\"date\": \"2016-08-19T00:00:00\", \"count\": 10}, {\"date\": \"2016-08-20T00:00:00\", \"count\": 8}, {\"date\": \"2016-08-21T00:00:00\", \"count\": 7}, {\"date\": \"2016-08-22T00:00:00\", \"count\": 9}, {\"date\": \"2016-08-23T00:00:00\", \"count\": 8}, {\"date\": \"2016-08-24T00:00:00\", \"count\": 10}, {\"date\": \"2016-08-25T00:00:00\", \"count\": 12}, {\"date\": \"2016-08-26T00:00:00\", \"count\": 14}, {\"date\": \"2016-08-27T00:00:00\", \"count\": 10}, {\"date\": \"2016-08-28T00:00:00\", \"count\": 6}, {\"date\": \"2016-08-29T00:00:00\", \"count\": 13}, {\"date\": \"2016-08-30T00:00:00\", \"count\": 8}, {\"date\": \"2016-08-31T00:00:00\", \"count\": 10}, {\"date\": \"2016-09-01T00:00:00\", \"count\": 6}, {\"date\": \"2016-09-02T00:00:00\", \"count\": 5}, {\"date\": \"2016-09-03T00:00:00\", \"count\": 5}, {\"date\": \"2016-09-04T00:00:00\", \"count\": 14}, {\"date\": \"2016-09-05T00:00:00\", \"count\": 6}, {\"date\": \"2016-09-06T00:00:00\", \"count\": 13}, {\"date\": \"2016-09-07T00:00:00\", \"count\": 5}, {\"date\": \"2016-09-08T00:00:00\", \"count\": 15}, {\"date\": \"2016-09-09T00:00:00\", \"count\": 12}, {\"date\": \"2016-09-10T00:00:00\", \"count\": 8}, {\"date\": \"2016-09-11T00:00:00\", \"count\": 1}, {\"date\": \"2016-09-12T00:00:00\", \"count\": 6}, {\"date\": \"2016-09-13T00:00:00\", \"count\": 13}, {\"date\": \"2016-09-14T00:00:00\", \"count\": 11}, {\"date\": \"2016-09-15T00:00:00\", \"count\": 12}, {\"date\": \"2016-09-16T00:00:00\", \"count\": 9}, {\"date\": \"2016-09-17T00:00:00\", \"count\": 8}, {\"date\": \"2016-09-18T00:00:00\", \"count\": 5}, {\"date\": \"2016-09-19T00:00:00\", \"count\": 10}, {\"date\": \"2016-09-20T00:00:00\", \"count\": 8}, {\"date\": \"2016-09-21T00:00:00\", \"count\": 9}, {\"date\": \"2016-09-22T00:00:00\", \"count\": 4}, {\"date\": \"2016-09-23T00:00:00\", \"count\": 6}, {\"date\": \"2016-09-24T00:00:00\", \"count\": 6}, {\"date\": \"2016-09-25T00:00:00\", \"count\": 6}, {\"date\": \"2016-09-26T00:00:00\", \"count\": 36}, {\"date\": \"2016-09-27T00:00:00\", \"count\": 21}, {\"date\": \"2016-09-28T00:00:00\", \"count\": 11}, {\"date\": \"2016-09-29T00:00:00\", \"count\": 5}, {\"date\": \"2016-09-30T00:00:00\", \"count\": 12}, {\"date\": \"2016-10-01T00:00:00\", \"count\": 5}, {\"date\": \"2016-10-02T00:00:00\", \"count\": 6}, {\"date\": \"2016-10-03T00:00:00\", \"count\": 5}, {\"date\": \"2016-10-04T00:00:00\", \"count\": 56}, {\"date\": \"2016-10-05T00:00:00\", \"count\": 16}, {\"date\": \"2016-10-06T00:00:00\", \"count\": 9}, {\"date\": \"2016-10-07T00:00:00\", \"count\": 1}, {\"date\": \"2016-10-08T00:00:00\", \"count\": 5}, {\"date\": \"2016-10-09T00:00:00\", \"count\": 68}, {\"date\": \"2016-10-10T00:00:00\", \"count\": 7}, {\"date\": \"2016-10-11T00:00:00\", \"count\": 17}, {\"date\": \"2016-10-12T00:00:00\", \"count\": 6}, {\"date\": \"2016-10-13T00:00:00\", \"count\": 12}, {\"date\": \"2016-10-14T00:00:00\", \"count\": 5}, {\"date\": \"2016-10-15T00:00:00\", \"count\": 14}, {\"date\": \"2016-10-16T00:00:00\", \"count\": 16}, {\"date\": \"2016-10-17T00:00:00\", \"count\": 26}, {\"date\": \"2016-10-18T00:00:00\", \"count\": 15}, {\"date\": \"2016-10-19T00:00:00\", \"count\": 87}, {\"date\": \"2016-10-20T00:00:00\", \"count\": 15}, {\"date\": \"2016-10-21T00:00:00\", \"count\": 16}, {\"date\": \"2016-10-22T00:00:00\", \"count\": 16}, {\"date\": \"2016-10-23T00:00:00\", \"count\": 11}, {\"date\": \"2016-10-24T00:00:00\", \"count\": 18}, {\"date\": \"2016-10-25T00:00:00\", \"count\": 17}, {\"date\": \"2016-10-26T00:00:00\", \"count\": 5}, {\"date\": \"2016-10-27T00:00:00\", \"count\": 20}, {\"date\": \"2016-10-28T00:00:00\", \"count\": 12}, {\"date\": \"2016-10-29T00:00:00\", \"count\": 8}, {\"date\": \"2016-10-30T00:00:00\", \"count\": 9}, {\"date\": \"2016-10-31T00:00:00\", \"count\": 6}, {\"date\": \"2016-11-01T00:00:00\", \"count\": 16}, {\"date\": \"2016-11-02T00:00:00\", \"count\": 14}, {\"date\": \"2016-11-03T00:00:00\", \"count\": 9}, {\"date\": \"2016-11-04T00:00:00\", \"count\": 13}, {\"date\": \"2016-11-05T00:00:00\", \"count\": 13}, {\"date\": \"2016-11-06T00:00:00\", \"count\": 9}, {\"date\": \"2016-11-07T00:00:00\", \"count\": 16}, {\"date\": \"2016-11-08T00:00:00\", \"count\": 12}, {\"date\": \"2016-11-09T00:00:00\", \"count\": 1}, {\"date\": \"2016-11-10T00:00:00\", \"count\": 3}, {\"date\": \"2016-11-11T00:00:00\", \"count\": 3}, {\"date\": \"2016-11-12T00:00:00\", \"count\": 1}, {\"date\": \"2016-11-13T00:00:00\", \"count\": 8}, {\"date\": \"2016-11-15T00:00:00\", \"count\": 3}, {\"date\": \"2016-11-16T00:00:00\", \"count\": 4}, {\"date\": \"2016-11-17T00:00:00\", \"count\": 3}, {\"date\": \"2016-11-18T00:00:00\", \"count\": 2}, {\"date\": \"2016-11-19T00:00:00\", \"count\": 4}, {\"date\": \"2016-11-20T00:00:00\", \"count\": 5}, {\"date\": \"2016-11-21T00:00:00\", \"count\": 3}, {\"date\": \"2016-11-22T00:00:00\", \"count\": 9}, {\"date\": \"2016-11-23T00:00:00\", \"count\": 2}, {\"date\": \"2016-11-24T00:00:00\", \"count\": 1}, {\"date\": \"2016-11-26T00:00:00\", \"count\": 3}, {\"date\": \"2016-11-27T00:00:00\", \"count\": 11}, {\"date\": \"2016-11-28T00:00:00\", \"count\": 7}, {\"date\": \"2016-11-29T00:00:00\", \"count\": 9}, {\"date\": \"2016-11-30T00:00:00\", \"count\": 10}, {\"date\": \"2016-12-01T00:00:00\", \"count\": 4}, {\"date\": \"2016-12-02T00:00:00\", \"count\": 3}, {\"date\": \"2016-12-03T00:00:00\", \"count\": 4}, {\"date\": \"2016-12-04T00:00:00\", \"count\": 10}, {\"date\": \"2016-12-05T00:00:00\", \"count\": 3}, {\"date\": \"2016-12-06T00:00:00\", \"count\": 6}, {\"date\": \"2016-12-07T00:00:00\", \"count\": 5}, {\"date\": \"2016-12-08T00:00:00\", \"count\": 4}, {\"date\": \"2016-12-09T00:00:00\", \"count\": 3}, {\"date\": \"2016-12-10T00:00:00\", \"count\": 8}, {\"date\": \"2016-12-11T00:00:00\", \"count\": 6}, {\"date\": \"2016-12-12T00:00:00\", \"count\": 9}, {\"date\": \"2016-12-13T00:00:00\", \"count\": 6}, {\"date\": \"2016-12-14T00:00:00\", \"count\": 1}, {\"date\": \"2016-12-15T00:00:00\", \"count\": 6}, {\"date\": \"2016-12-16T00:00:00\", \"count\": 4}, {\"date\": \"2016-12-17T00:00:00\", \"count\": 7}, {\"date\": \"2016-12-18T00:00:00\", \"count\": 1}, {\"date\": \"2016-12-19T00:00:00\", \"count\": 5}, {\"date\": \"2016-12-20T00:00:00\", \"count\": 3}, {\"date\": \"2016-12-21T00:00:00\", \"count\": 4}, {\"date\": \"2016-12-22T00:00:00\", \"count\": 5}, {\"date\": \"2016-12-23T00:00:00\", \"count\": 6}, {\"date\": \"2016-12-24T00:00:00\", \"count\": 4}, {\"date\": \"2016-12-25T00:00:00\", \"count\": 2}, {\"date\": \"2016-12-26T00:00:00\", \"count\": 5}, {\"date\": \"2016-12-27T00:00:00\", \"count\": 2}, {\"date\": \"2016-12-28T00:00:00\", \"count\": 4}, {\"date\": \"2016-12-29T00:00:00\", \"count\": 1}, {\"date\": \"2016-12-30T00:00:00\", \"count\": 3}, {\"date\": \"2016-12-31T00:00:00\", \"count\": 9}, {\"date\": \"2017-01-02T00:00:00\", \"count\": 7}, {\"date\": \"2017-01-03T00:00:00\", \"count\": 11}, {\"date\": \"2017-01-04T00:00:00\", \"count\": 9}, {\"date\": \"2017-01-05T00:00:00\", \"count\": 9}, {\"date\": \"2017-01-06T00:00:00\", \"count\": 11}, {\"date\": \"2017-01-07T00:00:00\", \"count\": 7}, {\"date\": \"2017-01-08T00:00:00\", \"count\": 6}, {\"date\": \"2017-01-09T00:00:00\", \"count\": 8}, {\"date\": \"2017-01-10T00:00:00\", \"count\": 6}, {\"date\": \"2017-01-11T00:00:00\", \"count\": 6}, {\"date\": \"2017-01-12T00:00:00\", \"count\": 4}, {\"date\": \"2017-01-13T00:00:00\", \"count\": 8}, {\"date\": \"2017-01-14T00:00:00\", \"count\": 5}, {\"date\": \"2017-01-15T00:00:00\", \"count\": 8}, {\"date\": \"2017-01-16T00:00:00\", \"count\": 4}, {\"date\": \"2017-01-17T00:00:00\", \"count\": 10}, {\"date\": \"2017-01-18T00:00:00\", \"count\": 10}, {\"date\": \"2017-01-19T00:00:00\", \"count\": 8}, {\"date\": \"2017-01-20T00:00:00\", \"count\": 12}, {\"date\": \"2017-01-21T00:00:00\", \"count\": 2}, {\"date\": \"2017-01-22T00:00:00\", \"count\": 4}, {\"date\": \"2017-01-23T00:00:00\", \"count\": 1}, {\"date\": \"2017-01-24T00:00:00\", \"count\": 8}, {\"date\": \"2017-01-25T00:00:00\", \"count\": 8}, {\"date\": \"2017-01-26T00:00:00\", \"count\": 7}, {\"date\": \"2017-01-27T00:00:00\", \"count\": 7}, {\"date\": \"2017-01-28T00:00:00\", \"count\": 5}, {\"date\": \"2017-01-29T00:00:00\", \"count\": 7}, {\"date\": \"2017-01-30T00:00:00\", \"count\": 8}, {\"date\": \"2017-01-31T00:00:00\", \"count\": 5}, {\"date\": \"2017-02-01T00:00:00\", \"count\": 3}, {\"date\": \"2017-02-02T00:00:00\", \"count\": 6}, {\"date\": \"2017-02-03T00:00:00\", \"count\": 8}, {\"date\": \"2017-02-04T00:00:00\", \"count\": 10}, {\"date\": \"2017-02-05T00:00:00\", \"count\": 5}, {\"date\": \"2017-02-06T00:00:00\", \"count\": 7}, {\"date\": \"2017-02-07T00:00:00\", \"count\": 4}, {\"date\": \"2017-02-08T00:00:00\", \"count\": 11}, {\"date\": \"2017-02-09T00:00:00\", \"count\": 7}, {\"date\": \"2017-02-10T00:00:00\", \"count\": 3}, {\"date\": \"2017-02-11T00:00:00\", \"count\": 11}, {\"date\": \"2017-02-12T00:00:00\", \"count\": 7}, {\"date\": \"2017-02-13T00:00:00\", \"count\": 5}, {\"date\": \"2017-02-14T00:00:00\", \"count\": 4}, {\"date\": \"2017-02-15T00:00:00\", \"count\": 11}, {\"date\": \"2017-02-16T00:00:00\", \"count\": 6}, {\"date\": \"2017-02-17T00:00:00\", \"count\": 9}, {\"date\": \"2017-02-18T00:00:00\", \"count\": 3}, {\"date\": \"2017-02-19T00:00:00\", \"count\": 1}, {\"date\": \"2017-02-20T00:00:00\", \"count\": 5}, {\"date\": \"2017-02-21T00:00:00\", \"count\": 2}, {\"date\": \"2017-02-22T00:00:00\", \"count\": 2}, {\"date\": \"2017-02-23T00:00:00\", \"count\": 3}, {\"date\": \"2017-02-24T00:00:00\", \"count\": 5}, {\"date\": \"2017-02-25T00:00:00\", \"count\": 6}, {\"date\": \"2017-02-26T00:00:00\", \"count\": 4}, {\"date\": \"2017-02-27T00:00:00\", \"count\": 3}, {\"date\": \"2017-02-28T00:00:00\", \"count\": 2}, {\"date\": \"2017-03-01T00:00:00\", \"count\": 1}, {\"date\": \"2017-03-02T00:00:00\", \"count\": 5}, {\"date\": \"2017-03-03T00:00:00\", \"count\": 9}, {\"date\": \"2017-03-04T00:00:00\", \"count\": 7}, {\"date\": \"2017-03-05T00:00:00\", \"count\": 3}, {\"date\": \"2017-03-06T00:00:00\", \"count\": 6}, {\"date\": \"2017-03-07T00:00:00\", \"count\": 7}, {\"date\": \"2017-03-08T00:00:00\", \"count\": 5}, {\"date\": \"2017-03-09T00:00:00\", \"count\": 4}, {\"date\": \"2017-03-10T00:00:00\", \"count\": 3}, {\"date\": \"2017-03-11T00:00:00\", \"count\": 1}, {\"date\": \"2017-03-12T00:00:00\", \"count\": 1}, {\"date\": \"2017-03-13T00:00:00\", \"count\": 5}, {\"date\": \"2017-03-14T00:00:00\", \"count\": 2}, {\"date\": \"2017-03-15T00:00:00\", \"count\": 9}, {\"date\": \"2017-03-16T00:00:00\", \"count\": 5}, {\"date\": \"2017-03-17T00:00:00\", \"count\": 9}, {\"date\": \"2017-03-18T00:00:00\", \"count\": 2}, {\"date\": \"2017-03-19T00:00:00\", \"count\": 1}, {\"date\": \"2017-03-20T00:00:00\", \"count\": 8}, {\"date\": \"2017-03-21T00:00:00\", \"count\": 3}, {\"date\": \"2017-03-22T00:00:00\", \"count\": 4}, {\"date\": \"2017-03-23T00:00:00\", \"count\": 4}, {\"date\": \"2017-03-24T00:00:00\", \"count\": 4}, {\"date\": \"2017-03-25T00:00:00\", \"count\": 4}, {\"date\": \"2017-03-26T00:00:00\", \"count\": 2}, {\"date\": \"2017-03-27T00:00:00\", \"count\": 4}, {\"date\": \"2017-03-28T00:00:00\", \"count\": 6}, {\"date\": \"2017-03-29T00:00:00\", \"count\": 5}, {\"date\": \"2017-03-30T00:00:00\", \"count\": 9}, {\"date\": \"2017-03-31T00:00:00\", \"count\": 7}, {\"date\": \"2017-04-01T00:00:00\", \"count\": 8}, {\"date\": \"2017-04-02T00:00:00\", \"count\": 4}, {\"date\": \"2017-04-03T00:00:00\", \"count\": 7}, {\"date\": \"2017-04-04T00:00:00\", \"count\": 4}, {\"date\": \"2017-04-05T00:00:00\", \"count\": 2}, {\"date\": \"2017-04-06T00:00:00\", \"count\": 1}, {\"date\": \"2017-04-07T00:00:00\", \"count\": 1}, {\"date\": \"2017-04-08T00:00:00\", \"count\": 5}, {\"date\": \"2017-04-09T00:00:00\", \"count\": 3}, {\"date\": \"2017-04-10T00:00:00\", \"count\": 2}, {\"date\": \"2017-04-11T00:00:00\", \"count\": 6}, {\"date\": \"2017-04-12T00:00:00\", \"count\": 6}, {\"date\": \"2017-04-13T00:00:00\", \"count\": 4}, {\"date\": \"2017-04-14T00:00:00\", \"count\": 2}, {\"date\": \"2017-04-16T00:00:00\", \"count\": 6}, {\"date\": \"2017-04-17T00:00:00\", \"count\": 8}, {\"date\": \"2017-04-18T00:00:00\", \"count\": 7}, {\"date\": \"2017-04-19T00:00:00\", \"count\": 4}, {\"date\": \"2017-04-20T00:00:00\", \"count\": 3}, {\"date\": \"2017-04-21T00:00:00\", \"count\": 8}, {\"date\": \"2017-04-22T00:00:00\", \"count\": 7}, {\"date\": \"2017-04-23T00:00:00\", \"count\": 7}, {\"date\": \"2017-04-24T00:00:00\", \"count\": 7}, {\"date\": \"2017-04-25T00:00:00\", \"count\": 5}, {\"date\": \"2017-04-26T00:00:00\", \"count\": 9}, {\"date\": \"2017-04-27T00:00:00\", \"count\": 12}, {\"date\": \"2017-04-28T00:00:00\", \"count\": 6}, {\"date\": \"2017-04-29T00:00:00\", \"count\": 3}, {\"date\": \"2017-04-30T00:00:00\", \"count\": 5}, {\"date\": \"2017-05-01T00:00:00\", \"count\": 3}, {\"date\": \"2017-05-02T00:00:00\", \"count\": 5}, {\"date\": \"2017-05-03T00:00:00\", \"count\": 2}, {\"date\": \"2017-05-04T00:00:00\", \"count\": 12}, {\"date\": \"2017-05-05T00:00:00\", \"count\": 8}, {\"date\": \"2017-05-06T00:00:00\", \"count\": 1}, {\"date\": \"2017-05-07T00:00:00\", \"count\": 6}, {\"date\": \"2017-05-08T00:00:00\", \"count\": 10}, {\"date\": \"2017-05-09T00:00:00\", \"count\": 3}, {\"date\": \"2017-05-10T00:00:00\", \"count\": 11}, {\"date\": \"2017-05-11T00:00:00\", \"count\": 5}, {\"date\": \"2017-05-12T00:00:00\", \"count\": 10}, {\"date\": \"2017-05-13T00:00:00\", \"count\": 3}, {\"date\": \"2017-05-14T00:00:00\", \"count\": 1}, {\"date\": \"2017-05-15T00:00:00\", \"count\": 2}, {\"date\": \"2017-05-16T00:00:00\", \"count\": 5}, {\"date\": \"2017-05-17T00:00:00\", \"count\": 1}, {\"date\": \"2017-05-18T00:00:00\", \"count\": 5}, {\"date\": \"2017-05-19T00:00:00\", \"count\": 2}, {\"date\": \"2017-05-20T00:00:00\", \"count\": 2}, {\"date\": \"2017-05-21T00:00:00\", \"count\": 3}, {\"date\": \"2017-05-22T00:00:00\", \"count\": 2}, {\"date\": \"2017-05-23T00:00:00\", \"count\": 4}, {\"date\": \"2017-05-24T00:00:00\", \"count\": 2}, {\"date\": \"2017-05-25T00:00:00\", \"count\": 4}, {\"date\": \"2017-05-26T00:00:00\", \"count\": 4}, {\"date\": \"2017-05-27T00:00:00\", \"count\": 7}, {\"date\": \"2017-05-28T00:00:00\", \"count\": 14}, {\"date\": \"2017-05-29T00:00:00\", \"count\": 4}, {\"date\": \"2017-05-30T00:00:00\", \"count\": 6}, {\"date\": \"2017-05-31T00:00:00\", \"count\": 10}, {\"date\": \"2017-06-01T00:00:00\", \"count\": 4}, {\"date\": \"2017-06-02T00:00:00\", \"count\": 9}, {\"date\": \"2017-06-03T00:00:00\", \"count\": 4}, {\"date\": \"2017-06-04T00:00:00\", \"count\": 3}, {\"date\": \"2017-06-05T00:00:00\", \"count\": 9}, {\"date\": \"2017-06-06T00:00:00\", \"count\": 12}, {\"date\": \"2017-06-07T00:00:00\", \"count\": 2}, {\"date\": \"2017-06-09T00:00:00\", \"count\": 8}, {\"date\": \"2017-06-10T00:00:00\", \"count\": 1}, {\"date\": \"2017-06-11T00:00:00\", \"count\": 8}, {\"date\": \"2017-06-12T00:00:00\", \"count\": 5}, {\"date\": \"2017-06-13T00:00:00\", \"count\": 11}, {\"date\": \"2017-06-14T00:00:00\", \"count\": 3}, {\"date\": \"2017-06-15T00:00:00\", \"count\": 6}, {\"date\": \"2017-06-16T00:00:00\", \"count\": 9}, {\"date\": \"2017-06-17T00:00:00\", \"count\": 1}, {\"date\": \"2017-06-18T00:00:00\", \"count\": 7}, {\"date\": \"2017-06-19T00:00:00\", \"count\": 14}, {\"date\": \"2017-06-20T00:00:00\", \"count\": 11}, {\"date\": \"2017-06-21T00:00:00\", \"count\": 3}, {\"date\": \"2017-06-22T00:00:00\", \"count\": 16}, {\"date\": \"2017-06-23T00:00:00\", \"count\": 5}, {\"date\": \"2017-06-24T00:00:00\", \"count\": 5}, {\"date\": \"2017-06-25T00:00:00\", \"count\": 2}, {\"date\": \"2017-06-26T00:00:00\", \"count\": 12}, {\"date\": \"2017-06-27T00:00:00\", \"count\": 11}, {\"date\": \"2017-06-28T00:00:00\", \"count\": 10}, {\"date\": \"2017-06-29T00:00:00\", \"count\": 13}, {\"date\": \"2017-06-30T00:00:00\", \"count\": 6}, {\"date\": \"2017-07-01T00:00:00\", \"count\": 12}, {\"date\": \"2017-07-02T00:00:00\", \"count\": 4}, {\"date\": \"2017-07-03T00:00:00\", \"count\": 12}, {\"date\": \"2017-07-04T00:00:00\", \"count\": 4}, {\"date\": \"2017-07-05T00:00:00\", \"count\": 4}, {\"date\": \"2017-07-06T00:00:00\", \"count\": 5}, {\"date\": \"2017-07-07T00:00:00\", \"count\": 6}, {\"date\": \"2017-07-08T00:00:00\", \"count\": 5}, {\"date\": \"2017-07-09T00:00:00\", \"count\": 11}, {\"date\": \"2017-07-10T00:00:00\", \"count\": 10}, {\"date\": \"2017-07-11T00:00:00\", \"count\": 8}, {\"date\": \"2017-07-12T00:00:00\", \"count\": 13}, {\"date\": \"2017-07-13T00:00:00\", \"count\": 4}, {\"date\": \"2017-07-14T00:00:00\", \"count\": 13}, {\"date\": \"2017-07-15T00:00:00\", \"count\": 7}, {\"date\": \"2017-07-16T00:00:00\", \"count\": 9}, {\"date\": \"2017-07-17T00:00:00\", \"count\": 2}, {\"date\": \"2017-07-18T00:00:00\", \"count\": 7}, {\"date\": \"2017-07-19T00:00:00\", \"count\": 3}, {\"date\": \"2017-07-20T00:00:00\", \"count\": 3}, {\"date\": \"2017-07-21T00:00:00\", \"count\": 7}, {\"date\": \"2017-07-22T00:00:00\", \"count\": 14}, {\"date\": \"2017-07-23T00:00:00\", \"count\": 6}, {\"date\": \"2017-07-24T00:00:00\", \"count\": 11}, {\"date\": \"2017-07-25T00:00:00\", \"count\": 17}, {\"date\": \"2017-07-26T00:00:00\", \"count\": 11}, {\"date\": \"2017-07-27T00:00:00\", \"count\": 11}, {\"date\": \"2017-07-28T00:00:00\", \"count\": 8}, {\"date\": \"2017-07-29T00:00:00\", \"count\": 13}, {\"date\": \"2017-07-30T00:00:00\", \"count\": 1}, {\"date\": \"2017-07-31T00:00:00\", \"count\": 4}, {\"date\": \"2017-08-01T00:00:00\", \"count\": 3}, {\"date\": \"2017-08-02T00:00:00\", \"count\": 5}, {\"date\": \"2017-08-03T00:00:00\", \"count\": 10}, {\"date\": \"2017-08-04T00:00:00\", \"count\": 15}, {\"date\": \"2017-08-05T00:00:00\", \"count\": 9}, {\"date\": \"2017-08-06T00:00:00\", \"count\": 4}, {\"date\": \"2017-08-07T00:00:00\", \"count\": 14}, {\"date\": \"2017-08-08T00:00:00\", \"count\": 9}, {\"date\": \"2017-08-09T00:00:00\", \"count\": 13}, {\"date\": \"2017-08-10T00:00:00\", \"count\": 6}, {\"date\": \"2017-08-11T00:00:00\", \"count\": 9}, {\"date\": \"2017-08-12T00:00:00\", \"count\": 8}, {\"date\": \"2017-08-13T00:00:00\", \"count\": 4}, {\"date\": \"2017-08-14T00:00:00\", \"count\": 12}, {\"date\": \"2017-08-15T00:00:00\", \"count\": 7}, {\"date\": \"2017-08-16T00:00:00\", \"count\": 17}, {\"date\": \"2017-08-17T00:00:00\", \"count\": 10}, {\"date\": \"2017-08-18T00:00:00\", \"count\": 10}, {\"date\": \"2017-08-19T00:00:00\", \"count\": 8}, {\"date\": \"2017-08-20T00:00:00\", \"count\": 2}, {\"date\": \"2017-08-21T00:00:00\", \"count\": 6}, {\"date\": \"2017-08-22T00:00:00\", \"count\": 8}, {\"date\": \"2017-08-23T00:00:00\", \"count\": 7}, {\"date\": \"2017-08-24T00:00:00\", \"count\": 16}, {\"date\": \"2017-08-25T00:00:00\", \"count\": 16}, {\"date\": \"2017-08-26T00:00:00\", \"count\": 8}, {\"date\": \"2017-08-27T00:00:00\", \"count\": 11}, {\"date\": \"2017-08-28T00:00:00\", \"count\": 4}, {\"date\": \"2017-08-29T00:00:00\", \"count\": 6}, {\"date\": \"2017-08-30T00:00:00\", \"count\": 8}, {\"date\": \"2017-08-31T00:00:00\", \"count\": 2}, {\"date\": \"2017-09-01T00:00:00\", \"count\": 9}, {\"date\": \"2017-09-02T00:00:00\", \"count\": 10}, {\"date\": \"2017-09-03T00:00:00\", \"count\": 5}, {\"date\": \"2017-09-04T00:00:00\", \"count\": 2}, {\"date\": \"2017-09-05T00:00:00\", \"count\": 6}, {\"date\": \"2017-09-06T00:00:00\", \"count\": 10}, {\"date\": \"2017-09-07T00:00:00\", \"count\": 11}, {\"date\": \"2017-09-08T00:00:00\", \"count\": 7}, {\"date\": \"2017-09-09T00:00:00\", \"count\": 4}, {\"date\": \"2017-09-10T00:00:00\", \"count\": 9}, {\"date\": \"2017-09-11T00:00:00\", \"count\": 2}, {\"date\": \"2017-09-12T00:00:00\", \"count\": 5}, {\"date\": \"2017-09-13T00:00:00\", \"count\": 6}, {\"date\": \"2017-09-14T00:00:00\", \"count\": 11}, {\"date\": \"2017-09-15T00:00:00\", \"count\": 13}, {\"date\": \"2017-09-16T00:00:00\", \"count\": 3}, {\"date\": \"2017-09-17T00:00:00\", \"count\": 15}, {\"date\": \"2017-09-18T00:00:00\", \"count\": 8}, {\"date\": \"2017-09-19T00:00:00\", \"count\": 11}, {\"date\": \"2017-09-20T00:00:00\", \"count\": 24}, {\"date\": \"2017-09-21T00:00:00\", \"count\": 6}, {\"date\": \"2017-09-22T00:00:00\", \"count\": 11}, {\"date\": \"2017-09-23T00:00:00\", \"count\": 14}, {\"date\": \"2017-09-24T00:00:00\", \"count\": 10}, {\"date\": \"2017-09-25T00:00:00\", \"count\": 14}, {\"date\": \"2017-09-26T00:00:00\", \"count\": 20}, {\"date\": \"2017-09-27T00:00:00\", \"count\": 9}, {\"date\": \"2017-09-28T00:00:00\", \"count\": 10}, {\"date\": \"2017-09-29T00:00:00\", \"count\": 16}, {\"date\": \"2017-09-30T00:00:00\", \"count\": 26}, {\"date\": \"2017-10-01T00:00:00\", \"count\": 8}, {\"date\": \"2017-10-02T00:00:00\", \"count\": 1}, {\"date\": \"2017-10-03T00:00:00\", \"count\": 11}, {\"date\": \"2017-10-04T00:00:00\", \"count\": 7}, {\"date\": \"2017-10-05T00:00:00\", \"count\": 12}, {\"date\": \"2017-10-07T00:00:00\", \"count\": 12}, {\"date\": \"2017-10-08T00:00:00\", \"count\": 11}, {\"date\": \"2017-10-09T00:00:00\", \"count\": 6}, {\"date\": \"2017-10-10T00:00:00\", \"count\": 10}, {\"date\": \"2017-10-11T00:00:00\", \"count\": 17}, {\"date\": \"2017-10-12T00:00:00\", \"count\": 10}, {\"date\": \"2017-10-13T00:00:00\", \"count\": 16}, {\"date\": \"2017-10-14T00:00:00\", \"count\": 9}, {\"date\": \"2017-10-15T00:00:00\", \"count\": 4}, {\"date\": \"2017-10-16T00:00:00\", \"count\": 7}, {\"date\": \"2017-10-17T00:00:00\", \"count\": 11}, {\"date\": \"2017-10-18T00:00:00\", \"count\": 16}, {\"date\": \"2017-10-19T00:00:00\", \"count\": 10}, {\"date\": \"2017-10-20T00:00:00\", \"count\": 7}, {\"date\": \"2017-10-21T00:00:00\", \"count\": 14}, {\"date\": \"2017-10-22T00:00:00\", \"count\": 3}, {\"date\": \"2017-10-23T00:00:00\", \"count\": 4}, {\"date\": \"2017-10-24T00:00:00\", \"count\": 8}, {\"date\": \"2017-10-25T00:00:00\", \"count\": 16}, {\"date\": \"2017-10-26T00:00:00\", \"count\": 9}, {\"date\": \"2017-10-27T00:00:00\", \"count\": 16}, {\"date\": \"2017-10-28T00:00:00\", \"count\": 9}, {\"date\": \"2017-10-29T00:00:00\", \"count\": 6}, {\"date\": \"2017-10-30T00:00:00\", \"count\": 4}, {\"date\": \"2017-10-31T00:00:00\", \"count\": 17}, {\"date\": \"2017-11-01T00:00:00\", \"count\": 19}, {\"date\": \"2017-11-02T00:00:00\", \"count\": 13}, {\"date\": \"2017-11-03T00:00:00\", \"count\": 16}, {\"date\": \"2017-11-04T00:00:00\", \"count\": 7}, {\"date\": \"2017-11-05T00:00:00\", \"count\": 4}, {\"date\": \"2017-11-06T00:00:00\", \"count\": 9}, {\"date\": \"2017-11-07T00:00:00\", \"count\": 16}, {\"date\": \"2017-11-08T00:00:00\", \"count\": 5}, {\"date\": \"2017-11-09T00:00:00\", \"count\": 5}, {\"date\": \"2017-11-10T00:00:00\", \"count\": 7}, {\"date\": \"2017-11-11T00:00:00\", \"count\": 8}, {\"date\": \"2017-11-12T00:00:00\", \"count\": 4}, {\"date\": \"2017-11-13T00:00:00\", \"count\": 9}, {\"date\": \"2017-11-14T00:00:00\", \"count\": 5}, {\"date\": \"2017-11-15T00:00:00\", \"count\": 15}, {\"date\": \"2017-11-16T00:00:00\", \"count\": 8}, {\"date\": \"2017-11-17T00:00:00\", \"count\": 5}, {\"date\": \"2017-11-18T00:00:00\", \"count\": 3}, {\"date\": \"2017-11-19T00:00:00\", \"count\": 6}, {\"date\": \"2017-11-20T00:00:00\", \"count\": 2}, {\"date\": \"2017-11-21T00:00:00\", \"count\": 2}, {\"date\": \"2017-11-22T00:00:00\", \"count\": 12}, {\"date\": \"2017-11-23T00:00:00\", \"count\": 11}, {\"date\": \"2017-11-24T00:00:00\", \"count\": 6}, {\"date\": \"2017-11-25T00:00:00\", \"count\": 5}, {\"date\": \"2017-11-26T00:00:00\", \"count\": 4}, {\"date\": \"2017-11-27T00:00:00\", \"count\": 5}, {\"date\": \"2017-11-28T00:00:00\", \"count\": 18}, {\"date\": \"2017-11-29T00:00:00\", \"count\": 22}, {\"date\": \"2017-11-30T00:00:00\", \"count\": 11}, {\"date\": \"2017-12-01T00:00:00\", \"count\": 7}, {\"date\": \"2017-12-02T00:00:00\", \"count\": 7}, {\"date\": \"2017-12-03T00:00:00\", \"count\": 10}, {\"date\": \"2017-12-04T00:00:00\", \"count\": 4}, {\"date\": \"2017-12-05T00:00:00\", \"count\": 2}, {\"date\": \"2017-12-06T00:00:00\", \"count\": 5}, {\"date\": \"2017-12-07T00:00:00\", \"count\": 11}, {\"date\": \"2017-12-08T00:00:00\", \"count\": 9}, {\"date\": \"2017-12-09T00:00:00\", \"count\": 12}, {\"date\": \"2017-12-10T00:00:00\", \"count\": 3}, {\"date\": \"2017-12-11T00:00:00\", \"count\": 1}, {\"date\": \"2017-12-12T00:00:00\", \"count\": 6}, {\"date\": \"2017-12-13T00:00:00\", \"count\": 4}, {\"date\": \"2017-12-14T00:00:00\", \"count\": 7}, {\"date\": \"2017-12-15T00:00:00\", \"count\": 9}, {\"date\": \"2017-12-16T00:00:00\", \"count\": 3}, {\"date\": \"2017-12-17T00:00:00\", \"count\": 3}, {\"date\": \"2017-12-18T00:00:00\", \"count\": 13}, {\"date\": \"2017-12-19T00:00:00\", \"count\": 5}, {\"date\": \"2017-12-20T00:00:00\", \"count\": 5}, {\"date\": \"2017-12-21T00:00:00\", \"count\": 5}, {\"date\": \"2017-12-22T00:00:00\", \"count\": 11}, {\"date\": \"2017-12-23T00:00:00\", \"count\": 6}, {\"date\": \"2017-12-24T00:00:00\", \"count\": 6}, {\"date\": \"2017-12-25T00:00:00\", \"count\": 3}, {\"date\": \"2017-12-26T00:00:00\", \"count\": 3}, {\"date\": \"2017-12-27T00:00:00\", \"count\": 4}, {\"date\": \"2017-12-28T00:00:00\", \"count\": 10}, {\"date\": \"2017-12-29T00:00:00\", \"count\": 8}, {\"date\": \"2017-12-30T00:00:00\", \"count\": 6}, {\"date\": \"2017-12-31T00:00:00\", \"count\": 8}, {\"date\": \"2018-01-01T00:00:00\", \"count\": 3}, {\"date\": \"2018-01-09T00:00:00\", \"count\": 5}, {\"date\": \"2018-01-10T00:00:00\", \"count\": 8}, {\"date\": \"2018-01-11T00:00:00\", \"count\": 14}, {\"date\": \"2018-01-12T00:00:00\", \"count\": 7}, {\"date\": \"2018-01-13T00:00:00\", \"count\": 10}, {\"date\": \"2018-01-14T00:00:00\", \"count\": 7}, {\"date\": \"2018-01-15T00:00:00\", \"count\": 12}, {\"date\": \"2018-01-16T00:00:00\", \"count\": 9}, {\"date\": \"2018-01-17T00:00:00\", \"count\": 8}, {\"date\": \"2018-01-18T00:00:00\", \"count\": 9}, {\"date\": \"2018-01-19T00:00:00\", \"count\": 7}, {\"date\": \"2018-01-20T00:00:00\", \"count\": 14}, {\"date\": \"2018-01-21T00:00:00\", \"count\": 3}, {\"date\": \"2018-01-22T00:00:00\", \"count\": 4}, {\"date\": \"2018-01-23T00:00:00\", \"count\": 7}, {\"date\": \"2018-01-24T00:00:00\", \"count\": 4}, {\"date\": \"2018-01-25T00:00:00\", \"count\": 3}, {\"date\": \"2018-01-26T00:00:00\", \"count\": 7}, {\"date\": \"2018-01-27T00:00:00\", \"count\": 5}, {\"date\": \"2018-01-28T00:00:00\", \"count\": 2}, {\"date\": \"2018-01-29T00:00:00\", \"count\": 1}, {\"date\": \"2018-01-30T00:00:00\", \"count\": 1}, {\"date\": \"2018-02-01T00:00:00\", \"count\": 4}, {\"date\": \"2018-02-02T00:00:00\", \"count\": 5}, {\"date\": \"2018-02-03T00:00:00\", \"count\": 7}, {\"date\": \"2018-02-04T00:00:00\", \"count\": 2}, {\"date\": \"2018-02-05T00:00:00\", \"count\": 6}, {\"date\": \"2018-02-06T00:00:00\", \"count\": 7}, {\"date\": \"2018-02-07T00:00:00\", \"count\": 5}, {\"date\": \"2018-02-08T00:00:00\", \"count\": 6}, {\"date\": \"2018-02-09T00:00:00\", \"count\": 3}, {\"date\": \"2018-02-10T00:00:00\", \"count\": 9}, {\"date\": \"2018-02-11T00:00:00\", \"count\": 4}, {\"date\": \"2018-02-12T00:00:00\", \"count\": 3}, {\"date\": \"2018-02-13T00:00:00\", \"count\": 2}, {\"date\": \"2018-02-14T00:00:00\", \"count\": 4}, {\"date\": \"2018-02-15T00:00:00\", \"count\": 7}, {\"date\": \"2018-02-16T00:00:00\", \"count\": 4}, {\"date\": \"2018-02-17T00:00:00\", \"count\": 9}, {\"date\": \"2018-02-18T00:00:00\", \"count\": 11}, {\"date\": \"2018-02-19T00:00:00\", \"count\": 5}, {\"date\": \"2018-02-20T00:00:00\", \"count\": 13}, {\"date\": \"2018-02-21T00:00:00\", \"count\": 6}, {\"date\": \"2018-02-22T00:00:00\", \"count\": 10}, {\"date\": \"2018-02-23T00:00:00\", \"count\": 9}, {\"date\": \"2018-02-24T00:00:00\", \"count\": 15}, {\"date\": \"2018-02-25T00:00:00\", \"count\": 1}, {\"date\": \"2018-02-27T00:00:00\", \"count\": 10}, {\"date\": \"2018-02-28T00:00:00\", \"count\": 8}, {\"date\": \"2018-03-01T00:00:00\", \"count\": 11}, {\"date\": \"2018-03-02T00:00:00\", \"count\": 8}, {\"date\": \"2018-03-03T00:00:00\", \"count\": 4}, {\"date\": \"2018-03-04T00:00:00\", \"count\": 2}, {\"date\": \"2018-03-05T00:00:00\", \"count\": 5}, {\"date\": \"2018-03-06T00:00:00\", \"count\": 9}, {\"date\": \"2018-03-07T00:00:00\", \"count\": 5}, {\"date\": \"2018-03-08T00:00:00\", \"count\": 6}, {\"date\": \"2018-03-09T00:00:00\", \"count\": 5}, {\"date\": \"2018-03-10T00:00:00\", \"count\": 11}, {\"date\": \"2018-03-11T00:00:00\", \"count\": 5}, {\"date\": \"2018-03-12T00:00:00\", \"count\": 7}, {\"date\": \"2018-03-13T00:00:00\", \"count\": 9}, {\"date\": \"2018-03-14T00:00:00\", \"count\": 9}, {\"date\": \"2018-03-15T00:00:00\", \"count\": 6}, {\"date\": \"2018-03-16T00:00:00\", \"count\": 4}, {\"date\": \"2018-03-17T00:00:00\", \"count\": 4}, {\"date\": \"2018-03-18T00:00:00\", \"count\": 3}, {\"date\": \"2018-03-19T00:00:00\", \"count\": 4}, {\"date\": \"2018-03-20T00:00:00\", \"count\": 1}, {\"date\": \"2018-03-21T00:00:00\", \"count\": 9}, {\"date\": \"2018-03-22T00:00:00\", \"count\": 6}, {\"date\": \"2018-03-23T00:00:00\", \"count\": 6}, {\"date\": \"2018-03-24T00:00:00\", \"count\": 1}, {\"date\": \"2018-03-25T00:00:00\", \"count\": 8}, {\"date\": \"2018-03-26T00:00:00\", \"count\": 5}, {\"date\": \"2018-03-27T00:00:00\", \"count\": 1}, {\"date\": \"2018-03-28T00:00:00\", \"count\": 9}, {\"date\": \"2018-03-29T00:00:00\", \"count\": 4}, {\"date\": \"2018-03-30T00:00:00\", \"count\": 1}, {\"date\": \"2018-03-31T00:00:00\", \"count\": 3}, {\"date\": \"2018-04-01T00:00:00\", \"count\": 4}, {\"date\": \"2018-04-02T00:00:00\", \"count\": 14}, {\"date\": \"2018-04-03T00:00:00\", \"count\": 8}, {\"date\": \"2018-04-04T00:00:00\", \"count\": 6}, {\"date\": \"2018-04-05T00:00:00\", \"count\": 4}, {\"date\": \"2018-04-06T00:00:00\", \"count\": 7}, {\"date\": \"2018-04-07T00:00:00\", \"count\": 7}, {\"date\": \"2018-04-08T00:00:00\", \"count\": 8}, {\"date\": \"2018-04-09T00:00:00\", \"count\": 4}, {\"date\": \"2018-04-10T00:00:00\", \"count\": 6}, {\"date\": \"2018-04-11T00:00:00\", \"count\": 12}, {\"date\": \"2018-04-12T00:00:00\", \"count\": 10}, {\"date\": \"2018-04-13T00:00:00\", \"count\": 6}, {\"date\": \"2018-04-14T00:00:00\", \"count\": 3}, {\"date\": \"2018-04-15T00:00:00\", \"count\": 9}, {\"date\": \"2018-04-16T00:00:00\", \"count\": 8}, {\"date\": \"2018-04-17T00:00:00\", \"count\": 23}, {\"date\": \"2018-04-18T00:00:00\", \"count\": 14}, {\"date\": \"2018-04-19T00:00:00\", \"count\": 13}, {\"date\": \"2018-04-20T00:00:00\", \"count\": 10}, {\"date\": \"2018-04-21T00:00:00\", \"count\": 16}, {\"date\": \"2018-04-22T00:00:00\", \"count\": 8}, {\"date\": \"2018-04-23T00:00:00\", \"count\": 4}, {\"date\": \"2018-04-24T00:00:00\", \"count\": 10}, {\"date\": \"2018-04-25T00:00:00\", \"count\": 8}, {\"date\": \"2018-04-26T00:00:00\", \"count\": 2}, {\"date\": \"2018-04-27T00:00:00\", \"count\": 13}, {\"date\": \"2018-04-28T00:00:00\", \"count\": 7}, {\"date\": \"2018-04-29T00:00:00\", \"count\": 6}, {\"date\": \"2018-04-30T00:00:00\", \"count\": 7}, {\"date\": \"2018-05-01T00:00:00\", \"count\": 7}, {\"date\": \"2018-05-02T00:00:00\", \"count\": 10}, {\"date\": \"2018-05-03T00:00:00\", \"count\": 6}, {\"date\": \"2018-05-04T00:00:00\", \"count\": 13}, {\"date\": \"2018-05-05T00:00:00\", \"count\": 1}, {\"date\": \"2018-05-07T00:00:00\", \"count\": 11}, {\"date\": \"2018-05-08T00:00:00\", \"count\": 7}, {\"date\": \"2018-05-09T00:00:00\", \"count\": 9}, {\"date\": \"2018-05-10T00:00:00\", \"count\": 5}, {\"date\": \"2018-05-11T00:00:00\", \"count\": 4}, {\"date\": \"2018-05-12T00:00:00\", \"count\": 3}, {\"date\": \"2018-05-13T00:00:00\", \"count\": 5}, {\"date\": \"2018-05-14T00:00:00\", \"count\": 6}, {\"date\": \"2018-05-15T00:00:00\", \"count\": 9}, {\"date\": \"2018-05-16T00:00:00\", \"count\": 10}, {\"date\": \"2018-05-17T00:00:00\", \"count\": 11}, {\"date\": \"2018-05-18T00:00:00\", \"count\": 11}, {\"date\": \"2018-05-19T00:00:00\", \"count\": 5}, {\"date\": \"2018-05-20T00:00:00\", \"count\": 9}, {\"date\": \"2018-05-21T00:00:00\", \"count\": 10}, {\"date\": \"2018-05-22T00:00:00\", \"count\": 5}, {\"date\": \"2018-05-23T00:00:00\", \"count\": 16}, {\"date\": \"2018-05-24T00:00:00\", \"count\": 10}, {\"date\": \"2018-05-25T00:00:00\", \"count\": 18}, {\"date\": \"2018-05-26T00:00:00\", \"count\": 10}, {\"date\": \"2018-05-27T00:00:00\", \"count\": 5}, {\"date\": \"2018-05-28T00:00:00\", \"count\": 10}, {\"date\": \"2018-05-29T00:00:00\", \"count\": 7}, {\"date\": \"2018-05-30T00:00:00\", \"count\": 14}, {\"date\": \"2018-05-31T00:00:00\", \"count\": 12}, {\"date\": \"2018-06-01T00:00:00\", \"count\": 6}, {\"date\": \"2018-06-02T00:00:00\", \"count\": 17}, {\"date\": \"2018-06-03T00:00:00\", \"count\": 5}, {\"date\": \"2018-06-04T00:00:00\", \"count\": 14}, {\"date\": \"2018-06-05T00:00:00\", \"count\": 25}, {\"date\": \"2018-06-06T00:00:00\", \"count\": 9}, {\"date\": \"2018-06-07T00:00:00\", \"count\": 21}, {\"date\": \"2018-06-08T00:00:00\", \"count\": 8}, {\"date\": \"2018-06-09T00:00:00\", \"count\": 10}, {\"date\": \"2018-06-10T00:00:00\", \"count\": 7}, {\"date\": \"2018-06-11T00:00:00\", \"count\": 6}, {\"date\": \"2018-06-12T00:00:00\", \"count\": 14}, {\"date\": \"2018-06-13T00:00:00\", \"count\": 13}, {\"date\": \"2018-06-14T00:00:00\", \"count\": 7}, {\"date\": \"2018-06-15T00:00:00\", \"count\": 19}, {\"date\": \"2018-06-16T00:00:00\", \"count\": 6}, {\"date\": \"2018-06-17T00:00:00\", \"count\": 18}, {\"date\": \"2018-06-18T00:00:00\", \"count\": 8}, {\"date\": \"2018-06-19T00:00:00\", \"count\": 12}, {\"date\": \"2018-06-20T00:00:00\", \"count\": 16}, {\"date\": \"2018-06-21T00:00:00\", \"count\": 17}, {\"date\": \"2018-06-22T00:00:00\", \"count\": 17}, {\"date\": \"2018-06-23T00:00:00\", \"count\": 24}, {\"date\": \"2018-06-24T00:00:00\", \"count\": 8}, {\"date\": \"2018-06-25T00:00:00\", \"count\": 18}, {\"date\": \"2018-06-26T00:00:00\", \"count\": 19}, {\"date\": \"2018-06-27T00:00:00\", \"count\": 12}, {\"date\": \"2018-06-28T00:00:00\", \"count\": 11}, {\"date\": \"2018-06-29T00:00:00\", \"count\": 5}, {\"date\": \"2018-06-30T00:00:00\", \"count\": 14}, {\"date\": \"2018-07-01T00:00:00\", \"count\": 5}, {\"date\": \"2018-07-02T00:00:00\", \"count\": 3}, {\"date\": \"2018-07-03T00:00:00\", \"count\": 21}, {\"date\": \"2018-07-04T00:00:00\", \"count\": 4}, {\"date\": \"2018-07-05T00:00:00\", \"count\": 9}, {\"date\": \"2018-07-06T00:00:00\", \"count\": 2}, {\"date\": \"2018-07-07T00:00:00\", \"count\": 9}, {\"date\": \"2018-07-08T00:00:00\", \"count\": 5}, {\"date\": \"2018-07-09T00:00:00\", \"count\": 9}, {\"date\": \"2018-07-10T00:00:00\", \"count\": 16}, {\"date\": \"2018-07-11T00:00:00\", \"count\": 21}, {\"date\": \"2018-07-12T00:00:00\", \"count\": 9}, {\"date\": \"2018-07-13T00:00:00\", \"count\": 2}, {\"date\": \"2018-07-14T00:00:00\", \"count\": 12}, {\"date\": \"2018-07-15T00:00:00\", \"count\": 18}, {\"date\": \"2018-07-16T00:00:00\", \"count\": 7}, {\"date\": \"2018-07-17T00:00:00\", \"count\": 8}, {\"date\": \"2018-07-18T00:00:00\", \"count\": 13}, {\"date\": \"2018-07-19T00:00:00\", \"count\": 12}, {\"date\": \"2018-07-20T00:00:00\", \"count\": 14}, {\"date\": \"2018-07-21T00:00:00\", \"count\": 7}, {\"date\": \"2018-07-22T00:00:00\", \"count\": 8}, {\"date\": \"2018-07-23T00:00:00\", \"count\": 12}, {\"date\": \"2018-07-24T00:00:00\", \"count\": 16}, {\"date\": \"2018-07-25T00:00:00\", \"count\": 16}, {\"date\": \"2018-07-26T00:00:00\", \"count\": 10}, {\"date\": \"2018-07-27T00:00:00\", \"count\": 16}, {\"date\": \"2018-07-28T00:00:00\", \"count\": 1}, {\"date\": \"2018-07-29T00:00:00\", \"count\": 18}, {\"date\": \"2018-07-30T00:00:00\", \"count\": 16}, {\"date\": \"2018-07-31T00:00:00\", \"count\": 19}, {\"date\": \"2018-08-01T00:00:00\", \"count\": 16}, {\"date\": \"2018-08-02T00:00:00\", \"count\": 10}, {\"date\": \"2018-08-03T00:00:00\", \"count\": 25}, {\"date\": \"2018-08-04T00:00:00\", \"count\": 13}, {\"date\": \"2018-08-05T00:00:00\", \"count\": 10}, {\"date\": \"2018-08-06T00:00:00\", \"count\": 10}, {\"date\": \"2018-08-07T00:00:00\", \"count\": 9}, {\"date\": \"2018-08-08T00:00:00\", \"count\": 5}, {\"date\": \"2018-08-09T00:00:00\", \"count\": 6}, {\"date\": \"2018-08-10T00:00:00\", \"count\": 8}, {\"date\": \"2018-08-11T00:00:00\", \"count\": 10}, {\"date\": \"2018-08-12T00:00:00\", \"count\": 4}, {\"date\": \"2018-08-13T00:00:00\", \"count\": 19}, {\"date\": \"2018-08-14T00:00:00\", \"count\": 12}, {\"date\": \"2018-08-15T00:00:00\", \"count\": 23}, {\"date\": \"2018-08-16T00:00:00\", \"count\": 16}, {\"date\": \"2018-08-17T00:00:00\", \"count\": 16}, {\"date\": \"2018-08-18T00:00:00\", \"count\": 12}, {\"date\": \"2018-08-19T00:00:00\", \"count\": 6}, {\"date\": \"2018-08-20T00:00:00\", \"count\": 13}, {\"date\": \"2018-08-21T00:00:00\", \"count\": 11}, {\"date\": \"2018-08-22T00:00:00\", \"count\": 17}, {\"date\": \"2018-08-23T00:00:00\", \"count\": 9}, {\"date\": \"2018-08-24T00:00:00\", \"count\": 16}, {\"date\": \"2018-08-25T00:00:00\", \"count\": 9}, {\"date\": \"2018-08-26T00:00:00\", \"count\": 8}, {\"date\": \"2018-08-27T00:00:00\", \"count\": 10}, {\"date\": \"2018-08-28T00:00:00\", \"count\": 17}, {\"date\": \"2018-08-29T00:00:00\", \"count\": 20}, {\"date\": \"2018-08-30T00:00:00\", \"count\": 15}, {\"date\": \"2018-08-31T00:00:00\", \"count\": 8}, {\"date\": \"2018-09-01T00:00:00\", \"count\": 19}, {\"date\": \"2018-09-02T00:00:00\", \"count\": 3}, {\"date\": \"2018-09-03T00:00:00\", \"count\": 15}, {\"date\": \"2018-09-04T00:00:00\", \"count\": 16}, {\"date\": \"2018-09-05T00:00:00\", \"count\": 12}, {\"date\": \"2018-09-06T00:00:00\", \"count\": 10}, {\"date\": \"2018-09-07T00:00:00\", \"count\": 10}, {\"date\": \"2018-09-08T00:00:00\", \"count\": 10}, {\"date\": \"2018-09-09T00:00:00\", \"count\": 13}, {\"date\": \"2018-09-10T00:00:00\", \"count\": 23}, {\"date\": \"2018-09-11T00:00:00\", \"count\": 15}, {\"date\": \"2018-09-12T00:00:00\", \"count\": 9}, {\"date\": \"2018-09-13T00:00:00\", \"count\": 22}, {\"date\": \"2018-09-14T00:00:00\", \"count\": 31}, {\"date\": \"2018-09-15T00:00:00\", \"count\": 11}, {\"date\": \"2018-09-16T00:00:00\", \"count\": 8}, {\"date\": \"2018-09-17T00:00:00\", \"count\": 30}, {\"date\": \"2018-09-18T00:00:00\", \"count\": 14}, {\"date\": \"2018-09-19T00:00:00\", \"count\": 7}, {\"date\": \"2018-09-20T00:00:00\", \"count\": 17}, {\"date\": \"2018-09-21T00:00:00\", \"count\": 28}, {\"date\": \"2018-09-22T00:00:00\", \"count\": 3}, {\"date\": \"2018-09-23T00:00:00\", \"count\": 3}, {\"date\": \"2018-09-24T00:00:00\", \"count\": 14}, {\"date\": \"2018-09-25T00:00:00\", \"count\": 13}, {\"date\": \"2018-09-26T00:00:00\", \"count\": 12}, {\"date\": \"2018-09-27T00:00:00\", \"count\": 1}, {\"date\": \"2018-09-28T00:00:00\", \"count\": 1}, {\"date\": \"2018-09-29T00:00:00\", \"count\": 5}, {\"date\": \"2018-09-30T00:00:00\", \"count\": 3}, {\"date\": \"2018-10-01T00:00:00\", \"count\": 8}, {\"date\": \"2018-10-02T00:00:00\", \"count\": 14}, {\"date\": \"2018-10-03T00:00:00\", \"count\": 12}, {\"date\": \"2018-10-04T00:00:00\", \"count\": 12}, {\"date\": \"2018-10-05T00:00:00\", \"count\": 9}, {\"date\": \"2018-10-06T00:00:00\", \"count\": 8}, {\"date\": \"2018-10-07T00:00:00\", \"count\": 2}, {\"date\": \"2018-10-08T00:00:00\", \"count\": 9}, {\"date\": \"2018-10-09T00:00:00\", \"count\": 21}, {\"date\": \"2018-10-10T00:00:00\", \"count\": 24}, {\"date\": \"2018-10-11T00:00:00\", \"count\": 6}, {\"date\": \"2018-10-12T00:00:00\", \"count\": 14}, {\"date\": \"2018-10-13T00:00:00\", \"count\": 12}, {\"date\": \"2018-10-14T00:00:00\", \"count\": 8}, {\"date\": \"2018-10-15T00:00:00\", \"count\": 10}, {\"date\": \"2018-10-16T00:00:00\", \"count\": 22}, {\"date\": \"2018-10-17T00:00:00\", \"count\": 20}, {\"date\": \"2018-10-18T00:00:00\", \"count\": 18}, {\"date\": \"2018-10-19T00:00:00\", \"count\": 10}, {\"date\": \"2018-10-20T00:00:00\", \"count\": 10}, {\"date\": \"2018-10-21T00:00:00\", \"count\": 5}, {\"date\": \"2018-10-22T00:00:00\", \"count\": 20}, {\"date\": \"2018-10-23T00:00:00\", \"count\": 8}, {\"date\": \"2018-10-24T00:00:00\", \"count\": 8}, {\"date\": \"2018-10-25T00:00:00\", \"count\": 17}, {\"date\": \"2018-10-26T00:00:00\", \"count\": 12}, {\"date\": \"2018-10-27T00:00:00\", \"count\": 17}, {\"date\": \"2018-10-28T00:00:00\", \"count\": 3}, {\"date\": \"2018-10-29T00:00:00\", \"count\": 22}, {\"date\": \"2018-10-30T00:00:00\", \"count\": 8}, {\"date\": \"2018-10-31T00:00:00\", \"count\": 20}, {\"date\": \"2018-11-01T00:00:00\", \"count\": 9}, {\"date\": \"2018-11-02T00:00:00\", \"count\": 12}, {\"date\": \"2018-11-03T00:00:00\", \"count\": 21}, {\"date\": \"2018-11-04T00:00:00\", \"count\": 31}, {\"date\": \"2018-11-05T00:00:00\", \"count\": 23}, {\"date\": \"2018-11-06T00:00:00\", \"count\": 29}, {\"date\": \"2018-11-07T00:00:00\", \"count\": 10}, {\"date\": \"2018-11-08T00:00:00\", \"count\": 3}, {\"date\": \"2018-11-09T00:00:00\", \"count\": 13}, {\"date\": \"2018-11-10T00:00:00\", \"count\": 7}, {\"date\": \"2018-11-11T00:00:00\", \"count\": 7}, {\"date\": \"2018-11-12T00:00:00\", \"count\": 9}, {\"date\": \"2018-11-13T00:00:00\", \"count\": 13}, {\"date\": \"2018-11-14T00:00:00\", \"count\": 5}, {\"date\": \"2018-11-15T00:00:00\", \"count\": 9}, {\"date\": \"2018-11-16T00:00:00\", \"count\": 9}, {\"date\": \"2018-11-17T00:00:00\", \"count\": 7}, {\"date\": \"2018-11-18T00:00:00\", \"count\": 8}, {\"date\": \"2018-11-19T00:00:00\", \"count\": 8}, {\"date\": \"2018-11-20T00:00:00\", \"count\": 3}, {\"date\": \"2018-11-21T00:00:00\", \"count\": 13}, {\"date\": \"2018-11-22T00:00:00\", \"count\": 8}, {\"date\": \"2018-11-23T00:00:00\", \"count\": 5}, {\"date\": \"2018-11-24T00:00:00\", \"count\": 3}, {\"date\": \"2018-11-25T00:00:00\", \"count\": 11}, {\"date\": \"2018-11-26T00:00:00\", \"count\": 11}, {\"date\": \"2018-11-27T00:00:00\", \"count\": 9}, {\"date\": \"2018-11-28T00:00:00\", \"count\": 14}, {\"date\": \"2018-11-29T00:00:00\", \"count\": 17}, {\"date\": \"2018-11-30T00:00:00\", \"count\": 13}, {\"date\": \"2018-12-01T00:00:00\", \"count\": 3}, {\"date\": \"2018-12-02T00:00:00\", \"count\": 2}, {\"date\": \"2018-12-03T00:00:00\", \"count\": 12}, {\"date\": \"2018-12-04T00:00:00\", \"count\": 11}, {\"date\": \"2018-12-05T00:00:00\", \"count\": 9}, {\"date\": \"2018-12-06T00:00:00\", \"count\": 8}, {\"date\": \"2018-12-07T00:00:00\", \"count\": 18}, {\"date\": \"2018-12-08T00:00:00\", \"count\": 12}, {\"date\": \"2018-12-09T00:00:00\", \"count\": 4}, {\"date\": \"2018-12-10T00:00:00\", \"count\": 4}, {\"date\": \"2018-12-11T00:00:00\", \"count\": 11}, {\"date\": \"2018-12-12T00:00:00\", \"count\": 3}, {\"date\": \"2018-12-13T00:00:00\", \"count\": 13}, {\"date\": \"2018-12-14T00:00:00\", \"count\": 10}, {\"date\": \"2018-12-15T00:00:00\", \"count\": 5}, {\"date\": \"2018-12-16T00:00:00\", \"count\": 11}, {\"date\": \"2018-12-17T00:00:00\", \"count\": 6}, {\"date\": \"2018-12-18T00:00:00\", \"count\": 16}, {\"date\": \"2018-12-19T00:00:00\", \"count\": 11}, {\"date\": \"2018-12-20T00:00:00\", \"count\": 16}, {\"date\": \"2018-12-21T00:00:00\", \"count\": 21}, {\"date\": \"2018-12-22T00:00:00\", \"count\": 10}, {\"date\": \"2018-12-23T00:00:00\", \"count\": 14}, {\"date\": \"2018-12-24T00:00:00\", \"count\": 13}, {\"date\": \"2018-12-25T00:00:00\", \"count\": 2}, {\"date\": \"2018-12-26T00:00:00\", \"count\": 1}, {\"date\": \"2018-12-27T00:00:00\", \"count\": 12}, {\"date\": \"2018-12-28T00:00:00\", \"count\": 5}, {\"date\": \"2018-12-29T00:00:00\", \"count\": 9}, {\"date\": \"2018-12-30T00:00:00\", \"count\": 3}, {\"date\": \"2018-12-31T00:00:00\", \"count\": 16}, {\"date\": \"2019-01-01T00:00:00\", \"count\": 17}, {\"date\": \"2019-01-02T00:00:00\", \"count\": 5}, {\"date\": \"2019-01-03T00:00:00\", \"count\": 8}, {\"date\": \"2019-01-04T00:00:00\", \"count\": 6}, {\"date\": \"2019-01-05T00:00:00\", \"count\": 16}, {\"date\": \"2019-01-06T00:00:00\", \"count\": 7}, {\"date\": \"2019-01-07T00:00:00\", \"count\": 7}, {\"date\": \"2019-01-08T00:00:00\", \"count\": 6}, {\"date\": \"2019-01-09T00:00:00\", \"count\": 13}, {\"date\": \"2019-01-10T00:00:00\", \"count\": 13}, {\"date\": \"2019-01-11T00:00:00\", \"count\": 10}, {\"date\": \"2019-01-12T00:00:00\", \"count\": 14}, {\"date\": \"2019-01-13T00:00:00\", \"count\": 14}, {\"date\": \"2019-01-14T00:00:00\", \"count\": 19}, {\"date\": \"2019-01-15T00:00:00\", \"count\": 19}, {\"date\": \"2019-01-16T00:00:00\", \"count\": 2}, {\"date\": \"2019-01-17T00:00:00\", \"count\": 8}, {\"date\": \"2019-01-18T00:00:00\", \"count\": 28}, {\"date\": \"2019-01-19T00:00:00\", \"count\": 7}, {\"date\": \"2019-01-20T00:00:00\", \"count\": 41}, {\"date\": \"2019-01-21T00:00:00\", \"count\": 11}, {\"date\": \"2019-01-22T00:00:00\", \"count\": 13}, {\"date\": \"2019-01-23T00:00:00\", \"count\": 8}, {\"date\": \"2019-01-24T00:00:00\", \"count\": 10}, {\"date\": \"2019-01-25T00:00:00\", \"count\": 3}, {\"date\": \"2019-01-26T00:00:00\", \"count\": 12}, {\"date\": \"2019-01-27T00:00:00\", \"count\": 12}, {\"date\": \"2019-01-28T00:00:00\", \"count\": 6}, {\"date\": \"2019-01-29T00:00:00\", \"count\": 2}, {\"date\": \"2019-01-30T00:00:00\", \"count\": 11}, {\"date\": \"2019-01-31T00:00:00\", \"count\": 21}, {\"date\": \"2019-02-01T00:00:00\", \"count\": 8}, {\"date\": \"2019-02-02T00:00:00\", \"count\": 4}, {\"date\": \"2019-02-03T00:00:00\", \"count\": 3}, {\"date\": \"2019-02-04T00:00:00\", \"count\": 1}, {\"date\": \"2019-02-05T00:00:00\", \"count\": 6}, {\"date\": \"2019-02-06T00:00:00\", \"count\": 2}, {\"date\": \"2019-02-07T00:00:00\", \"count\": 9}, {\"date\": \"2019-02-08T00:00:00\", \"count\": 9}, {\"date\": \"2019-02-09T00:00:00\", \"count\": 14}, {\"date\": \"2019-02-10T00:00:00\", \"count\": 14}, {\"date\": \"2019-02-11T00:00:00\", \"count\": 13}, {\"date\": \"2019-02-12T00:00:00\", \"count\": 9}, {\"date\": \"2019-02-13T00:00:00\", \"count\": 8}, {\"date\": \"2019-02-14T00:00:00\", \"count\": 8}, {\"date\": \"2019-02-15T00:00:00\", \"count\": 3}, {\"date\": \"2019-02-16T00:00:00\", \"count\": 11}, {\"date\": \"2019-02-17T00:00:00\", \"count\": 13}, {\"date\": \"2019-02-18T00:00:00\", \"count\": 17}, {\"date\": \"2019-02-19T00:00:00\", \"count\": 10}, {\"date\": \"2019-02-20T00:00:00\", \"count\": 9}, {\"date\": \"2019-02-21T00:00:00\", \"count\": 7}, {\"date\": \"2019-02-22T00:00:00\", \"count\": 6}, {\"date\": \"2019-02-23T00:00:00\", \"count\": 14}, {\"date\": \"2019-02-24T00:00:00\", \"count\": 10}, {\"date\": \"2019-02-25T00:00:00\", \"count\": 20}, {\"date\": \"2019-02-26T00:00:00\", \"count\": 7}, {\"date\": \"2019-02-27T00:00:00\", \"count\": 8}, {\"date\": \"2019-02-28T00:00:00\", \"count\": 7}, {\"date\": \"2019-03-01T00:00:00\", \"count\": 10}, {\"date\": \"2019-03-02T00:00:00\", \"count\": 13}, {\"date\": \"2019-03-03T00:00:00\", \"count\": 15}, {\"date\": \"2019-03-04T00:00:00\", \"count\": 14}, {\"date\": \"2019-03-05T00:00:00\", \"count\": 19}, {\"date\": \"2019-03-06T00:00:00\", \"count\": 6}, {\"date\": \"2019-03-07T00:00:00\", \"count\": 3}, {\"date\": \"2019-03-08T00:00:00\", \"count\": 35}, {\"date\": \"2019-03-09T00:00:00\", \"count\": 17}, {\"date\": \"2019-03-10T00:00:00\", \"count\": 14}, {\"date\": \"2019-03-11T00:00:00\", \"count\": 5}, {\"date\": \"2019-03-12T00:00:00\", \"count\": 24}, {\"date\": \"2019-03-13T00:00:00\", \"count\": 19}, {\"date\": \"2019-03-14T00:00:00\", \"count\": 14}, {\"date\": \"2019-03-15T00:00:00\", \"count\": 11}, {\"date\": \"2019-03-16T00:00:00\", \"count\": 20}, {\"date\": \"2019-03-17T00:00:00\", \"count\": 32}, {\"date\": \"2019-03-18T00:00:00\", \"count\": 15}, {\"date\": \"2019-03-19T00:00:00\", \"count\": 13}, {\"date\": \"2019-03-20T00:00:00\", \"count\": 10}, {\"date\": \"2019-03-21T00:00:00\", \"count\": 7}, {\"date\": \"2019-03-22T00:00:00\", \"count\": 11}, {\"date\": \"2019-03-24T00:00:00\", \"count\": 3}, {\"date\": \"2019-03-25T00:00:00\", \"count\": 17}, {\"date\": \"2019-03-26T00:00:00\", \"count\": 12}, {\"date\": \"2019-03-27T00:00:00\", \"count\": 8}, {\"date\": \"2019-03-28T00:00:00\", \"count\": 16}, {\"date\": \"2019-03-29T00:00:00\", \"count\": 10}, {\"date\": \"2019-03-30T00:00:00\", \"count\": 4}, {\"date\": \"2019-03-31T00:00:00\", \"count\": 3}, {\"date\": \"2019-04-01T00:00:00\", \"count\": 14}, {\"date\": \"2019-04-02T00:00:00\", \"count\": 11}, {\"date\": \"2019-04-03T00:00:00\", \"count\": 4}, {\"date\": \"2019-04-04T00:00:00\", \"count\": 11}, {\"date\": \"2019-04-05T00:00:00\", \"count\": 20}, {\"date\": \"2019-04-06T00:00:00\", \"count\": 20}, {\"date\": \"2019-04-07T00:00:00\", \"count\": 8}, {\"date\": \"2019-04-08T00:00:00\", \"count\": 13}, {\"date\": \"2019-04-09T00:00:00\", \"count\": 19}, {\"date\": \"2019-04-10T00:00:00\", \"count\": 9}, {\"date\": \"2019-04-11T00:00:00\", \"count\": 12}, {\"date\": \"2019-04-12T00:00:00\", \"count\": 18}, {\"date\": \"2019-04-13T00:00:00\", \"count\": 12}, {\"date\": \"2019-04-14T00:00:00\", \"count\": 10}, {\"date\": \"2019-04-15T00:00:00\", \"count\": 16}, {\"date\": \"2019-04-16T00:00:00\", \"count\": 11}, {\"date\": \"2019-04-17T00:00:00\", \"count\": 7}, {\"date\": \"2019-04-18T00:00:00\", \"count\": 22}, {\"date\": \"2019-04-19T00:00:00\", \"count\": 13}, {\"date\": \"2019-04-20T00:00:00\", \"count\": 21}, {\"date\": \"2019-04-21T00:00:00\", \"count\": 9}, {\"date\": \"2019-04-22T00:00:00\", \"count\": 44}, {\"date\": \"2019-04-23T00:00:00\", \"count\": 18}, {\"date\": \"2019-04-24T00:00:00\", \"count\": 16}, {\"date\": \"2019-04-25T00:00:00\", \"count\": 22}, {\"date\": \"2019-04-26T00:00:00\", \"count\": 11}, {\"date\": \"2019-04-27T00:00:00\", \"count\": 17}, {\"date\": \"2019-04-28T00:00:00\", \"count\": 1}, {\"date\": \"2019-04-29T00:00:00\", \"count\": 13}, {\"date\": \"2019-04-30T00:00:00\", \"count\": 9}, {\"date\": \"2019-05-01T00:00:00\", \"count\": 84}, {\"date\": \"2019-05-02T00:00:00\", \"count\": 12}, {\"date\": \"2019-05-03T00:00:00\", \"count\": 19}, {\"date\": \"2019-05-04T00:00:00\", \"count\": 27}, {\"date\": \"2019-05-05T00:00:00\", \"count\": 29}, {\"date\": \"2019-05-06T00:00:00\", \"count\": 9}, {\"date\": \"2019-05-07T00:00:00\", \"count\": 14}, {\"date\": \"2019-05-08T00:00:00\", \"count\": 30}, {\"date\": \"2019-05-09T00:00:00\", \"count\": 13}, {\"date\": \"2019-05-10T00:00:00\", \"count\": 34}, {\"date\": \"2019-05-11T00:00:00\", \"count\": 71}, {\"date\": \"2019-05-12T00:00:00\", \"count\": 30}, {\"date\": \"2019-05-13T00:00:00\", \"count\": 25}, {\"date\": \"2019-05-14T00:00:00\", \"count\": 18}, {\"date\": \"2019-05-15T00:00:00\", \"count\": 8}, {\"date\": \"2019-05-16T00:00:00\", \"count\": 8}, {\"date\": \"2019-05-17T00:00:00\", \"count\": 15}, {\"date\": \"2019-05-18T00:00:00\", \"count\": 17}, {\"date\": \"2019-05-19T00:00:00\", \"count\": 19}, {\"date\": \"2019-05-20T00:00:00\", \"count\": 19}, {\"date\": \"2019-05-21T00:00:00\", \"count\": 17}, {\"date\": \"2019-05-22T00:00:00\", \"count\": 34}, {\"date\": \"2019-05-23T00:00:00\", \"count\": 28}, {\"date\": \"2019-05-24T00:00:00\", \"count\": 14}, {\"date\": \"2019-05-25T00:00:00\", \"count\": 23}, {\"date\": \"2019-05-26T00:00:00\", \"count\": 8}, {\"date\": \"2019-05-27T00:00:00\", \"count\": 17}, {\"date\": \"2019-05-28T00:00:00\", \"count\": 10}, {\"date\": \"2019-05-29T00:00:00\", \"count\": 8}, {\"date\": \"2019-05-30T00:00:00\", \"count\": 20}, {\"date\": \"2019-05-31T00:00:00\", \"count\": 12}, {\"date\": \"2019-06-01T00:00:00\", \"count\": 24}, {\"date\": \"2019-06-02T00:00:00\", \"count\": 15}, {\"date\": \"2019-06-03T00:00:00\", \"count\": 19}, {\"date\": \"2019-06-04T00:00:00\", \"count\": 14}, {\"date\": \"2019-06-05T00:00:00\", \"count\": 11}, {\"date\": \"2019-06-06T00:00:00\", \"count\": 9}, {\"date\": \"2019-06-07T00:00:00\", \"count\": 19}, {\"date\": \"2019-06-08T00:00:00\", \"count\": 16}, {\"date\": \"2019-06-09T00:00:00\", \"count\": 22}, {\"date\": \"2019-06-10T00:00:00\", \"count\": 20}, {\"date\": \"2019-06-11T00:00:00\", \"count\": 20}, {\"date\": \"2019-06-12T00:00:00\", \"count\": 23}, {\"date\": \"2019-06-13T00:00:00\", \"count\": 22}, {\"date\": \"2019-06-14T00:00:00\", \"count\": 13}, {\"date\": \"2019-06-15T00:00:00\", \"count\": 47}, {\"date\": \"2019-06-16T00:00:00\", \"count\": 18}, {\"date\": \"2019-06-17T00:00:00\", \"count\": 11}, {\"date\": \"2019-06-18T00:00:00\", \"count\": 15}, {\"date\": \"2019-06-19T00:00:00\", \"count\": 11}, {\"date\": \"2019-06-20T00:00:00\", \"count\": 5}, {\"date\": \"2019-06-21T00:00:00\", \"count\": 10}, {\"date\": \"2019-06-22T00:00:00\", \"count\": 17}, {\"date\": \"2019-06-23T00:00:00\", \"count\": 5}, {\"date\": \"2019-06-24T00:00:00\", \"count\": 13}, {\"date\": \"2019-06-25T00:00:00\", \"count\": 14}, {\"date\": \"2019-06-26T00:00:00\", \"count\": 50}, {\"date\": \"2019-06-27T00:00:00\", \"count\": 7}, {\"date\": \"2019-06-28T00:00:00\", \"count\": 4}, {\"date\": \"2019-06-29T00:00:00\", \"count\": 11}, {\"date\": \"2019-06-30T00:00:00\", \"count\": 7}, {\"date\": \"2019-07-01T00:00:00\", \"count\": 14}, {\"date\": \"2019-07-02T00:00:00\", \"count\": 21}, {\"date\": \"2019-07-03T00:00:00\", \"count\": 14}, {\"date\": \"2019-07-04T00:00:00\", \"count\": 46}, {\"date\": \"2019-07-05T00:00:00\", \"count\": 8}, {\"date\": \"2019-07-06T00:00:00\", \"count\": 15}, {\"date\": \"2019-07-07T00:00:00\", \"count\": 16}, {\"date\": \"2019-07-08T00:00:00\", \"count\": 11}, {\"date\": \"2019-07-09T00:00:00\", \"count\": 24}, {\"date\": \"2019-07-10T00:00:00\", \"count\": 18}, {\"date\": \"2019-07-11T00:00:00\", \"count\": 44}, {\"date\": \"2019-07-12T00:00:00\", \"count\": 45}, {\"date\": \"2019-07-13T00:00:00\", \"count\": 31}, {\"date\": \"2019-07-14T00:00:00\", \"count\": 34}, {\"date\": \"2019-07-15T00:00:00\", \"count\": 16}, {\"date\": \"2019-07-16T00:00:00\", \"count\": 14}, {\"date\": \"2019-07-17T00:00:00\", \"count\": 15}, {\"date\": \"2019-07-18T00:00:00\", \"count\": 13}, {\"date\": \"2019-07-19T00:00:00\", \"count\": 22}, {\"date\": \"2019-07-20T00:00:00\", \"count\": 31}, {\"date\": \"2019-07-21T00:00:00\", \"count\": 15}, {\"date\": \"2019-07-22T00:00:00\", \"count\": 18}, {\"date\": \"2019-07-23T00:00:00\", \"count\": 20}, {\"date\": \"2019-07-24T00:00:00\", \"count\": 42}, {\"date\": \"2019-07-25T00:00:00\", \"count\": 16}, {\"date\": \"2019-07-26T00:00:00\", \"count\": 17}, {\"date\": \"2019-07-27T00:00:00\", \"count\": 24}, {\"date\": \"2019-07-28T00:00:00\", \"count\": 14}, {\"date\": \"2019-07-29T00:00:00\", \"count\": 24}, {\"date\": \"2019-07-30T00:00:00\", \"count\": 26}, {\"date\": \"2019-07-31T00:00:00\", \"count\": 23}, {\"date\": \"2019-08-01T00:00:00\", \"count\": 16}, {\"date\": \"2019-08-02T00:00:00\", \"count\": 9}, {\"date\": \"2019-08-03T00:00:00\", \"count\": 19}, {\"date\": \"2019-08-04T00:00:00\", \"count\": 5}, {\"date\": \"2019-08-05T00:00:00\", \"count\": 14}, {\"date\": \"2019-08-06T00:00:00\", \"count\": 18}, {\"date\": \"2019-08-07T00:00:00\", \"count\": 26}, {\"date\": \"2019-08-08T00:00:00\", \"count\": 11}, {\"date\": \"2019-08-09T00:00:00\", \"count\": 8}, {\"date\": \"2019-08-10T00:00:00\", \"count\": 13}, {\"date\": \"2019-08-11T00:00:00\", \"count\": 9}, {\"date\": \"2019-08-12T00:00:00\", \"count\": 13}, {\"date\": \"2019-08-13T00:00:00\", \"count\": 49}, {\"date\": \"2019-08-14T00:00:00\", \"count\": 15}, {\"date\": \"2019-08-15T00:00:00\", \"count\": 36}, {\"date\": \"2019-08-16T00:00:00\", \"count\": 25}, {\"date\": \"2019-08-17T00:00:00\", \"count\": 31}, {\"date\": \"2019-08-18T00:00:00\", \"count\": 20}, {\"date\": \"2019-08-19T00:00:00\", \"count\": 16}, {\"date\": \"2019-08-20T00:00:00\", \"count\": 32}, {\"date\": \"2019-08-21T00:00:00\", \"count\": 26}, {\"date\": \"2019-08-22T00:00:00\", \"count\": 37}, {\"date\": \"2019-08-23T00:00:00\", \"count\": 39}, {\"date\": \"2019-08-24T00:00:00\", \"count\": 18}, {\"date\": \"2019-08-25T00:00:00\", \"count\": 38}, {\"date\": \"2019-08-26T00:00:00\", \"count\": 10}, {\"date\": \"2019-08-27T00:00:00\", \"count\": 19}, {\"date\": \"2019-08-28T00:00:00\", \"count\": 18}, {\"date\": \"2019-08-29T00:00:00\", \"count\": 11}, {\"date\": \"2019-08-30T00:00:00\", \"count\": 26}, {\"date\": \"2019-08-31T00:00:00\", \"count\": 59}, {\"date\": \"2019-09-01T00:00:00\", \"count\": 37}, {\"date\": \"2019-09-02T00:00:00\", \"count\": 33}, {\"date\": \"2019-09-03T00:00:00\", \"count\": 24}, {\"date\": \"2019-09-04T00:00:00\", \"count\": 27}, {\"date\": \"2019-09-05T00:00:00\", \"count\": 29}, {\"date\": \"2019-09-06T00:00:00\", \"count\": 23}, {\"date\": \"2019-09-07T00:00:00\", \"count\": 26}, {\"date\": \"2019-09-08T00:00:00\", \"count\": 14}, {\"date\": \"2019-09-09T00:00:00\", \"count\": 34}, {\"date\": \"2019-09-10T00:00:00\", \"count\": 34}, {\"date\": \"2019-09-11T00:00:00\", \"count\": 38}, {\"date\": \"2019-09-12T00:00:00\", \"count\": 15}, {\"date\": \"2019-09-13T00:00:00\", \"count\": 9}, {\"date\": \"2019-09-14T00:00:00\", \"count\": 23}, {\"date\": \"2019-09-15T00:00:00\", \"count\": 19}, {\"date\": \"2019-09-16T00:00:00\", \"count\": 35}, {\"date\": \"2019-09-17T00:00:00\", \"count\": 8}, {\"date\": \"2019-09-18T00:00:00\", \"count\": 45}, {\"date\": \"2019-09-19T00:00:00\", \"count\": 12}, {\"date\": \"2019-09-20T00:00:00\", \"count\": 10}, {\"date\": \"2019-09-21T00:00:00\", \"count\": 22}, {\"date\": \"2019-09-22T00:00:00\", \"count\": 18}, {\"date\": \"2019-09-23T00:00:00\", \"count\": 17}, {\"date\": \"2019-09-24T00:00:00\", \"count\": 20}, {\"date\": \"2019-09-25T00:00:00\", \"count\": 32}, {\"date\": \"2019-09-26T00:00:00\", \"count\": 60}, {\"date\": \"2019-09-27T00:00:00\", \"count\": 23}, {\"date\": \"2019-09-28T00:00:00\", \"count\": 39}, {\"date\": \"2019-09-29T00:00:00\", \"count\": 48}, {\"date\": \"2019-09-30T00:00:00\", \"count\": 26}, {\"date\": \"2019-10-01T00:00:00\", \"count\": 28}, {\"date\": \"2019-10-02T00:00:00\", \"count\": 27}, {\"date\": \"2019-10-03T00:00:00\", \"count\": 51}, {\"date\": \"2019-10-04T00:00:00\", \"count\": 48}, {\"date\": \"2019-10-05T00:00:00\", \"count\": 23}, {\"date\": \"2019-10-06T00:00:00\", \"count\": 42}, {\"date\": \"2019-10-07T00:00:00\", \"count\": 53}, {\"date\": \"2019-10-08T00:00:00\", \"count\": 34}, {\"date\": \"2019-10-09T00:00:00\", \"count\": 43}, {\"date\": \"2019-10-10T00:00:00\", \"count\": 22}, {\"date\": \"2019-10-11T00:00:00\", \"count\": 59}, {\"date\": \"2019-10-12T00:00:00\", \"count\": 24}, {\"date\": \"2019-10-13T00:00:00\", \"count\": 21}, {\"date\": \"2019-10-14T00:00:00\", \"count\": 34}, {\"date\": \"2019-10-15T00:00:00\", \"count\": 20}, {\"date\": \"2019-10-16T00:00:00\", \"count\": 30}, {\"date\": \"2019-10-17T00:00:00\", \"count\": 23}, {\"date\": \"2019-10-18T00:00:00\", \"count\": 24}, {\"date\": \"2019-10-19T00:00:00\", \"count\": 60}, {\"date\": \"2019-10-20T00:00:00\", \"count\": 24}, {\"date\": \"2019-10-21T00:00:00\", \"count\": 27}, {\"date\": \"2019-10-22T00:00:00\", \"count\": 32}, {\"date\": \"2019-10-23T00:00:00\", \"count\": 42}, {\"date\": \"2019-10-24T00:00:00\", \"count\": 13}, {\"date\": \"2019-10-25T00:00:00\", \"count\": 47}, {\"date\": \"2019-10-26T00:00:00\", \"count\": 25}, {\"date\": \"2019-10-27T00:00:00\", \"count\": 6}, {\"date\": \"2019-10-28T00:00:00\", \"count\": 18}, {\"date\": \"2019-10-29T00:00:00\", \"count\": 56}, {\"date\": \"2019-10-30T00:00:00\", \"count\": 26}, {\"date\": \"2019-10-31T00:00:00\", \"count\": 44}, {\"date\": \"2019-11-01T00:00:00\", \"count\": 34}, {\"date\": \"2019-11-02T00:00:00\", \"count\": 32}, {\"date\": \"2019-11-03T00:00:00\", \"count\": 43}, {\"date\": \"2019-11-04T00:00:00\", \"count\": 21}, {\"date\": \"2019-11-05T00:00:00\", \"count\": 45}, {\"date\": \"2019-11-06T00:00:00\", \"count\": 20}, {\"date\": \"2019-11-07T00:00:00\", \"count\": 12}, {\"date\": \"2019-11-08T00:00:00\", \"count\": 9}, {\"date\": \"2019-11-09T00:00:00\", \"count\": 82}, {\"date\": \"2019-11-10T00:00:00\", \"count\": 21}, {\"date\": \"2019-11-11T00:00:00\", \"count\": 28}, {\"date\": \"2019-11-12T00:00:00\", \"count\": 19}, {\"date\": \"2019-11-13T00:00:00\", \"count\": 49}, {\"date\": \"2019-11-14T00:00:00\", \"count\": 30}, {\"date\": \"2019-11-15T00:00:00\", \"count\": 40}, {\"date\": \"2019-11-16T00:00:00\", \"count\": 23}, {\"date\": \"2019-11-17T00:00:00\", \"count\": 49}, {\"date\": \"2019-11-18T00:00:00\", \"count\": 16}, {\"date\": \"2019-11-19T00:00:00\", \"count\": 42}, {\"date\": \"2019-11-20T00:00:00\", \"count\": 35}, {\"date\": \"2019-11-21T00:00:00\", \"count\": 49}, {\"date\": \"2019-11-22T00:00:00\", \"count\": 14}, {\"date\": \"2019-11-23T00:00:00\", \"count\": 16}, {\"date\": \"2019-11-24T00:00:00\", \"count\": 52}, {\"date\": \"2019-11-25T00:00:00\", \"count\": 17}, {\"date\": \"2019-11-26T00:00:00\", \"count\": 18}, {\"date\": \"2019-11-27T00:00:00\", \"count\": 9}, {\"date\": \"2019-11-28T00:00:00\", \"count\": 7}, {\"date\": \"2019-11-29T00:00:00\", \"count\": 1}, {\"date\": \"2019-11-30T00:00:00\", \"count\": 21}, {\"date\": \"2019-12-01T00:00:00\", \"count\": 4}, {\"date\": \"2019-12-02T00:00:00\", \"count\": 35}, {\"date\": \"2019-12-03T00:00:00\", \"count\": 34}, {\"date\": \"2019-12-04T00:00:00\", \"count\": 41}, {\"date\": \"2019-12-05T00:00:00\", \"count\": 16}, {\"date\": \"2019-12-06T00:00:00\", \"count\": 48}, {\"date\": \"2019-12-07T00:00:00\", \"count\": 23}, {\"date\": \"2019-12-08T00:00:00\", \"count\": 106}, {\"date\": \"2019-12-09T00:00:00\", \"count\": 20}, {\"date\": \"2019-12-10T00:00:00\", \"count\": 38}, {\"date\": \"2019-12-11T00:00:00\", \"count\": 77}, {\"date\": \"2019-12-12T00:00:00\", \"count\": 124}, {\"date\": \"2019-12-13T00:00:00\", \"count\": 22}, {\"date\": \"2019-12-14T00:00:00\", \"count\": 29}, {\"date\": \"2019-12-15T00:00:00\", \"count\": 33}, {\"date\": \"2019-12-16T00:00:00\", \"count\": 48}, {\"date\": \"2019-12-17T00:00:00\", \"count\": 21}, {\"date\": \"2019-12-18T00:00:00\", \"count\": 69}, {\"date\": \"2019-12-19T00:00:00\", \"count\": 73}, {\"date\": \"2019-12-20T00:00:00\", \"count\": 49}, {\"date\": \"2019-12-21T00:00:00\", \"count\": 5}, {\"date\": \"2019-12-22T00:00:00\", \"count\": 9}, {\"date\": \"2019-12-23T00:00:00\", \"count\": 29}, {\"date\": \"2019-12-24T00:00:00\", \"count\": 12}, {\"date\": \"2019-12-25T00:00:00\", \"count\": 13}, {\"date\": \"2019-12-26T00:00:00\", \"count\": 35}, {\"date\": \"2019-12-27T00:00:00\", \"count\": 55}, {\"date\": \"2019-12-28T00:00:00\", \"count\": 14}, {\"date\": \"2019-12-29T00:00:00\", \"count\": 3}, {\"date\": \"2019-12-30T00:00:00\", \"count\": 5}, {\"date\": \"2019-12-31T00:00:00\", \"count\": 54}, {\"date\": \"2020-01-01T00:00:00\", \"count\": 15}, {\"date\": \"2020-01-02T00:00:00\", \"count\": 5}, {\"date\": \"2020-01-03T00:00:00\", \"count\": 33}, {\"date\": \"2020-01-04T00:00:00\", \"count\": 7}, {\"date\": \"2020-01-05T00:00:00\", \"count\": 1}, {\"date\": \"2020-01-06T00:00:00\", \"count\": 23}, {\"date\": \"2020-01-07T00:00:00\", \"count\": 19}, {\"date\": \"2020-01-08T00:00:00\", \"count\": 1}, {\"date\": \"2020-01-09T00:00:00\", \"count\": 33}, {\"date\": \"2020-01-10T00:00:00\", \"count\": 40}, {\"date\": \"2020-01-11T00:00:00\", \"count\": 15}, {\"date\": \"2020-01-12T00:00:00\", \"count\": 29}, {\"date\": \"2020-01-13T00:00:00\", \"count\": 26}, {\"date\": \"2020-01-14T00:00:00\", \"count\": 36}, {\"date\": \"2020-01-15T00:00:00\", \"count\": 7}, {\"date\": \"2020-01-16T00:00:00\", \"count\": 25}, {\"date\": \"2020-01-17T00:00:00\", \"count\": 31}, {\"date\": \"2020-01-18T00:00:00\", \"count\": 25}, {\"date\": \"2020-01-19T00:00:00\", \"count\": 8}, {\"date\": \"2020-01-20T00:00:00\", \"count\": 27}, {\"date\": \"2020-01-21T00:00:00\", \"count\": 53}, {\"date\": \"2020-01-22T00:00:00\", \"count\": 94}, {\"date\": \"2020-01-23T00:00:00\", \"count\": 29}, {\"date\": \"2020-01-24T00:00:00\", \"count\": 78}, {\"date\": \"2020-01-25T00:00:00\", \"count\": 80}, {\"date\": \"2020-01-26T00:00:00\", \"count\": 34}, {\"date\": \"2020-01-27T00:00:00\", \"count\": 47}, {\"date\": \"2020-01-28T00:00:00\", \"count\": 35}, {\"date\": \"2020-01-29T00:00:00\", \"count\": 28}, {\"date\": \"2020-01-30T00:00:00\", \"count\": 44}, {\"date\": \"2020-01-31T00:00:00\", \"count\": 16}, {\"date\": \"2020-02-01T00:00:00\", \"count\": 60}, {\"date\": \"2020-02-02T00:00:00\", \"count\": 27}, {\"date\": \"2020-02-03T00:00:00\", \"count\": 35}, {\"date\": \"2020-02-04T00:00:00\", \"count\": 29}, {\"date\": \"2020-02-05T00:00:00\", \"count\": 38}, {\"date\": \"2020-02-06T00:00:00\", \"count\": 13}, {\"date\": \"2020-02-07T00:00:00\", \"count\": 59}, {\"date\": \"2020-02-08T00:00:00\", \"count\": 72}, {\"date\": \"2020-02-09T00:00:00\", \"count\": 54}, {\"date\": \"2020-02-10T00:00:00\", \"count\": 31}, {\"date\": \"2020-02-11T00:00:00\", \"count\": 31}, {\"date\": \"2020-02-12T00:00:00\", \"count\": 17}, {\"date\": \"2020-02-13T00:00:00\", \"count\": 10}, {\"date\": \"2020-02-14T00:00:00\", \"count\": 23}, {\"date\": \"2020-02-15T00:00:00\", \"count\": 45}, {\"date\": \"2020-02-16T00:00:00\", \"count\": 3}, {\"date\": \"2020-02-17T00:00:00\", \"count\": 18}, {\"date\": \"2020-02-18T00:00:00\", \"count\": 37}, {\"date\": \"2020-02-19T00:00:00\", \"count\": 45}, {\"date\": \"2020-02-20T00:00:00\", \"count\": 31}, {\"date\": \"2020-02-21T00:00:00\", \"count\": 45}, {\"date\": \"2020-02-22T00:00:00\", \"count\": 13}, {\"date\": \"2020-02-23T00:00:00\", \"count\": 12}, {\"date\": \"2020-02-24T00:00:00\", \"count\": 39}, {\"date\": \"2020-02-25T00:00:00\", \"count\": 45}, {\"date\": \"2020-02-26T00:00:00\", \"count\": 27}, {\"date\": \"2020-02-27T00:00:00\", \"count\": 10}, {\"date\": \"2020-02-28T00:00:00\", \"count\": 21}, {\"date\": \"2020-02-29T00:00:00\", \"count\": 12}, {\"date\": \"2020-03-01T00:00:00\", \"count\": 27}, {\"date\": \"2020-03-02T00:00:00\", \"count\": 52}, {\"date\": \"2020-03-03T00:00:00\", \"count\": 43}, {\"date\": \"2020-03-04T00:00:00\", \"count\": 31}, {\"date\": \"2020-03-05T00:00:00\", \"count\": 44}, {\"date\": \"2020-03-06T00:00:00\", \"count\": 12}, {\"date\": \"2020-03-07T00:00:00\", \"count\": 16}, {\"date\": \"2020-03-08T00:00:00\", \"count\": 5}, {\"date\": \"2020-03-09T00:00:00\", \"count\": 36}, {\"date\": \"2020-03-10T00:00:00\", \"count\": 33}, {\"date\": \"2020-03-11T00:00:00\", \"count\": 22}, {\"date\": \"2020-03-12T00:00:00\", \"count\": 47}, {\"date\": \"2020-03-13T00:00:00\", \"count\": 30}, {\"date\": \"2020-03-14T00:00:00\", \"count\": 20}, {\"date\": \"2020-03-15T00:00:00\", \"count\": 30}, {\"date\": \"2020-03-16T00:00:00\", \"count\": 26}, {\"date\": \"2020-03-17T00:00:00\", \"count\": 47}, {\"date\": \"2020-03-18T00:00:00\", \"count\": 20}, {\"date\": \"2020-03-19T00:00:00\", \"count\": 62}, {\"date\": \"2020-03-20T00:00:00\", \"count\": 9}, {\"date\": \"2020-03-21T00:00:00\", \"count\": 23}, {\"date\": \"2020-03-22T00:00:00\", \"count\": 80}, {\"date\": \"2020-03-23T00:00:00\", \"count\": 52}, {\"date\": \"2020-03-24T00:00:00\", \"count\": 28}, {\"date\": \"2020-03-25T00:00:00\", \"count\": 32}, {\"date\": \"2020-03-26T00:00:00\", \"count\": 9}, {\"date\": \"2020-03-27T00:00:00\", \"count\": 42}, {\"date\": \"2020-03-28T00:00:00\", \"count\": 16}, {\"date\": \"2020-03-29T00:00:00\", \"count\": 36}, {\"date\": \"2020-03-30T00:00:00\", \"count\": 12}, {\"date\": \"2020-03-31T00:00:00\", \"count\": 26}, {\"date\": \"2020-04-01T00:00:00\", \"count\": 5}, {\"date\": \"2020-04-02T00:00:00\", \"count\": 19}, {\"date\": \"2020-04-03T00:00:00\", \"count\": 11}, {\"date\": \"2020-04-04T00:00:00\", \"count\": 70}, {\"date\": \"2020-04-05T00:00:00\", \"count\": 23}, {\"date\": \"2020-04-06T00:00:00\", \"count\": 25}, {\"date\": \"2020-04-07T00:00:00\", \"count\": 13}, {\"date\": \"2020-04-08T00:00:00\", \"count\": 21}, {\"date\": \"2020-04-09T00:00:00\", \"count\": 56}, {\"date\": \"2020-04-10T00:00:00\", \"count\": 32}, {\"date\": \"2020-04-11T00:00:00\", \"count\": 31}, {\"date\": \"2020-04-12T00:00:00\", \"count\": 44}, {\"date\": \"2020-04-13T00:00:00\", \"count\": 16}, {\"date\": \"2020-04-14T00:00:00\", \"count\": 9}, {\"date\": \"2020-04-15T00:00:00\", \"count\": 11}, {\"date\": \"2020-04-16T00:00:00\", \"count\": 8}, {\"date\": \"2020-04-17T00:00:00\", \"count\": 35}, {\"date\": \"2020-04-18T00:00:00\", \"count\": 55}, {\"date\": \"2020-04-19T00:00:00\", \"count\": 31}, {\"date\": \"2020-04-20T00:00:00\", \"count\": 34}, {\"date\": \"2020-04-21T00:00:00\", \"count\": 19}, {\"date\": \"2020-04-22T00:00:00\", \"count\": 15}, {\"date\": \"2020-04-23T00:00:00\", \"count\": 41}, {\"date\": \"2020-04-24T00:00:00\", \"count\": 22}, {\"date\": \"2020-04-25T00:00:00\", \"count\": 28}, {\"date\": \"2020-04-26T00:00:00\", \"count\": 44}, {\"date\": \"2020-04-27T00:00:00\", \"count\": 17}, {\"date\": \"2020-04-28T00:00:00\", \"count\": 18}, {\"date\": \"2020-04-29T00:00:00\", \"count\": 31}, {\"date\": \"2020-04-30T00:00:00\", \"count\": 64}, {\"date\": \"2020-05-01T00:00:00\", \"count\": 29}, {\"date\": \"2020-05-02T00:00:00\", \"count\": 40}, {\"date\": \"2020-05-03T00:00:00\", \"count\": 31}, {\"date\": \"2020-05-04T00:00:00\", \"count\": 14}, {\"date\": \"2020-05-05T00:00:00\", \"count\": 32}, {\"date\": \"2020-05-06T00:00:00\", \"count\": 9}, {\"date\": \"2020-05-07T00:00:00\", \"count\": 10}, {\"date\": \"2020-05-08T00:00:00\", \"count\": 12}, {\"date\": \"2020-05-09T00:00:00\", \"count\": 28}, {\"date\": \"2020-05-10T00:00:00\", \"count\": 125}, {\"date\": \"2020-05-11T00:00:00\", \"count\": 54}, {\"date\": \"2020-05-12T00:00:00\", \"count\": 48}, {\"date\": \"2020-05-13T00:00:00\", \"count\": 16}, {\"date\": \"2020-05-14T00:00:00\", \"count\": 46}, {\"date\": \"2020-05-15T00:00:00\", \"count\": 28}, {\"date\": \"2020-05-16T00:00:00\", \"count\": 52}, {\"date\": \"2020-05-17T00:00:00\", \"count\": 37}, {\"date\": \"2020-05-18T00:00:00\", \"count\": 39}, {\"date\": \"2020-05-19T00:00:00\", \"count\": 45}, {\"date\": \"2020-05-20T00:00:00\", \"count\": 26}, {\"date\": \"2020-05-21T00:00:00\", \"count\": 35}, {\"date\": \"2020-05-22T00:00:00\", \"count\": 27}, {\"date\": \"2020-05-23T00:00:00\", \"count\": 58}, {\"date\": \"2020-05-24T00:00:00\", \"count\": 35}, {\"date\": \"2020-05-25T00:00:00\", \"count\": 26}, {\"date\": \"2020-05-26T00:00:00\", \"count\": 38}, {\"date\": \"2020-05-27T00:00:00\", \"count\": 39}, {\"date\": \"2020-05-28T00:00:00\", \"count\": 52}, {\"date\": \"2020-05-29T00:00:00\", \"count\": 21}, {\"date\": \"2020-05-30T00:00:00\", \"count\": 36}, {\"date\": \"2020-05-31T00:00:00\", \"count\": 18}, {\"date\": \"2020-06-01T00:00:00\", \"count\": 63}, {\"date\": \"2020-06-02T00:00:00\", \"count\": 39}, {\"date\": \"2020-06-03T00:00:00\", \"count\": 86}, {\"date\": \"2020-06-04T00:00:00\", \"count\": 63}, {\"date\": \"2020-06-05T00:00:00\", \"count\": 199}, {\"date\": \"2020-06-06T00:00:00\", \"count\": 14}, {\"date\": \"2020-06-07T00:00:00\", \"count\": 39}, {\"date\": \"2020-06-08T00:00:00\", \"count\": 13}, {\"date\": \"2020-06-09T00:00:00\", \"count\": 49}, {\"date\": \"2020-06-10T00:00:00\", \"count\": 25}, {\"date\": \"2020-06-11T00:00:00\", \"count\": 33}, {\"date\": \"2020-06-12T00:00:00\", \"count\": 37}, {\"date\": \"2020-06-13T00:00:00\", \"count\": 48}, {\"date\": \"2020-06-14T00:00:00\", \"count\": 13}, {\"date\": \"2020-06-15T00:00:00\", \"count\": 12}, {\"date\": \"2020-06-16T00:00:00\", \"count\": 29}, {\"date\": \"2020-06-17T00:00:00\", \"count\": 8}, {\"date\": \"2020-06-18T00:00:00\", \"count\": 45}, {\"date\": \"2020-06-19T00:00:00\", \"count\": 37}, {\"date\": \"2020-06-20T00:00:00\", \"count\": 15}, {\"date\": \"2020-06-21T00:00:00\", \"count\": 8}, {\"date\": \"2020-06-22T00:00:00\", \"count\": 31}, {\"date\": \"2020-06-23T00:00:00\", \"count\": 22}, {\"date\": \"2020-06-24T00:00:00\", \"count\": 22}, {\"date\": \"2020-06-25T00:00:00\", \"count\": 24}, {\"date\": \"2020-06-26T00:00:00\", \"count\": 6}, {\"date\": \"2020-06-27T00:00:00\", \"count\": 41}, {\"date\": \"2020-06-28T00:00:00\", \"count\": 30}, {\"date\": \"2020-06-29T00:00:00\", \"count\": 45}, {\"date\": \"2020-06-30T00:00:00\", \"count\": 43}, {\"date\": \"2020-07-01T00:00:00\", \"count\": 29}, {\"date\": \"2020-07-02T00:00:00\", \"count\": 42}, {\"date\": \"2020-07-03T00:00:00\", \"count\": 22}, {\"date\": \"2020-07-04T00:00:00\", \"count\": 66}, {\"date\": \"2020-07-05T00:00:00\", \"count\": 7}, {\"date\": \"2020-07-06T00:00:00\", \"count\": 27}, {\"date\": \"2020-07-07T00:00:00\", \"count\": 5}, {\"date\": \"2020-07-08T00:00:00\", \"count\": 14}, {\"date\": \"2020-07-09T00:00:00\", \"count\": 24}, {\"date\": \"2020-07-10T00:00:00\", \"count\": 30}, {\"date\": \"2020-07-11T00:00:00\", \"count\": 40}, {\"date\": \"2020-07-12T00:00:00\", \"count\": 11}, {\"date\": \"2020-07-13T00:00:00\", \"count\": 36}, {\"date\": \"2020-07-14T00:00:00\", \"count\": 21}, {\"date\": \"2020-07-15T00:00:00\", \"count\": 27}, {\"date\": \"2020-07-16T00:00:00\", \"count\": 18}, {\"date\": \"2020-07-17T00:00:00\", \"count\": 57}, {\"date\": \"2020-07-18T00:00:00\", \"count\": 11}, {\"date\": \"2020-07-19T00:00:00\", \"count\": 5}, {\"date\": \"2020-07-20T00:00:00\", \"count\": 3}, {\"date\": \"2020-07-21T00:00:00\", \"count\": 13}, {\"date\": \"2020-07-22T00:00:00\", \"count\": 12}, {\"date\": \"2020-07-23T00:00:00\", \"count\": 58}, {\"date\": \"2020-07-24T00:00:00\", \"count\": 24}, {\"date\": \"2020-07-25T00:00:00\", \"count\": 19}, {\"date\": \"2020-07-26T00:00:00\", \"count\": 62}, {\"date\": \"2020-07-27T00:00:00\", \"count\": 67}, {\"date\": \"2020-07-28T00:00:00\", \"count\": 17}, {\"date\": \"2020-07-29T00:00:00\", \"count\": 48}, {\"date\": \"2020-07-30T00:00:00\", \"count\": 17}, {\"date\": \"2020-07-31T00:00:00\", \"count\": 21}, {\"date\": \"2020-08-01T00:00:00\", \"count\": 53}, {\"date\": \"2020-08-02T00:00:00\", \"count\": 37}, {\"date\": \"2020-08-03T00:00:00\", \"count\": 34}, {\"date\": \"2020-08-04T00:00:00\", \"count\": 24}, {\"date\": \"2020-08-05T00:00:00\", \"count\": 37}, {\"date\": \"2020-08-06T00:00:00\", \"count\": 22}, {\"date\": \"2020-08-07T00:00:00\", \"count\": 31}, {\"date\": \"2020-08-08T00:00:00\", \"count\": 14}, {\"date\": \"2020-08-09T00:00:00\", \"count\": 5}, {\"date\": \"2020-08-10T00:00:00\", \"count\": 23}, {\"date\": \"2020-08-11T00:00:00\", \"count\": 13}, {\"date\": \"2020-08-12T00:00:00\", \"count\": 30}, {\"date\": \"2020-08-13T00:00:00\", \"count\": 26}, {\"date\": \"2020-08-14T00:00:00\", \"count\": 87}, {\"date\": \"2020-08-15T00:00:00\", \"count\": 41}, {\"date\": \"2020-08-16T00:00:00\", \"count\": 55}, {\"date\": \"2020-08-17T00:00:00\", \"count\": 44}, {\"date\": \"2020-08-18T00:00:00\", \"count\": 55}, {\"date\": \"2020-08-19T00:00:00\", \"count\": 17}, {\"date\": \"2020-08-20T00:00:00\", \"count\": 45}, {\"date\": \"2020-08-21T00:00:00\", \"count\": 4}, {\"date\": \"2020-08-22T00:00:00\", \"count\": 21}, {\"date\": \"2020-08-23T00:00:00\", \"count\": 17}, {\"date\": \"2020-08-24T00:00:00\", \"count\": 53}, {\"date\": \"2020-08-25T00:00:00\", \"count\": 54}, {\"date\": \"2020-08-26T00:00:00\", \"count\": 43}, {\"date\": \"2020-08-27T00:00:00\", \"count\": 27}, {\"date\": \"2020-08-28T00:00:00\", \"count\": 31}, {\"date\": \"2020-08-29T00:00:00\", \"count\": 50}, {\"date\": \"2020-08-30T00:00:00\", \"count\": 110}, {\"date\": \"2020-08-31T00:00:00\", \"count\": 29}, {\"date\": \"2020-09-01T00:00:00\", \"count\": 30}, {\"date\": \"2020-09-02T00:00:00\", \"count\": 45}, {\"date\": \"2020-09-03T00:00:00\", \"count\": 31}, {\"date\": \"2020-09-04T00:00:00\", \"count\": 54}, {\"date\": \"2020-09-05T00:00:00\", \"count\": 46}, {\"date\": \"2020-09-06T00:00:00\", \"count\": 35}, {\"date\": \"2020-09-07T00:00:00\", \"count\": 70}, {\"date\": \"2020-09-08T00:00:00\", \"count\": 108}, {\"date\": \"2020-09-09T00:00:00\", \"count\": 54}, {\"date\": \"2020-09-10T00:00:00\", \"count\": 60}, {\"date\": \"2020-09-11T00:00:00\", \"count\": 33}, {\"date\": \"2020-09-12T00:00:00\", \"count\": 37}, {\"date\": \"2020-09-13T00:00:00\", \"count\": 59}, {\"date\": \"2020-09-14T00:00:00\", \"count\": 85}, {\"date\": \"2020-09-15T00:00:00\", \"count\": 30}, {\"date\": \"2020-09-16T00:00:00\", \"count\": 20}, {\"date\": \"2020-09-17T00:00:00\", \"count\": 43}, {\"date\": \"2020-09-18T00:00:00\", \"count\": 32}, {\"date\": \"2020-09-19T00:00:00\", \"count\": 11}, {\"date\": \"2020-09-20T00:00:00\", \"count\": 37}, {\"date\": \"2020-09-21T00:00:00\", \"count\": 38}, {\"date\": \"2020-09-22T00:00:00\", \"count\": 35}, {\"date\": \"2020-09-23T00:00:00\", \"count\": 43}, {\"date\": \"2020-09-24T00:00:00\", \"count\": 45}, {\"date\": \"2020-09-25T00:00:00\", \"count\": 66}, {\"date\": \"2020-09-26T00:00:00\", \"count\": 39}, {\"date\": \"2020-09-27T00:00:00\", \"count\": 20}, {\"date\": \"2020-09-28T00:00:00\", \"count\": 38}, {\"date\": \"2020-09-29T00:00:00\", \"count\": 37}, {\"date\": \"2020-09-30T00:00:00\", \"count\": 50}, {\"date\": \"2020-10-01T00:00:00\", \"count\": 50}, {\"date\": \"2020-10-02T00:00:00\", \"count\": 2}, {\"date\": \"2020-10-03T00:00:00\", \"count\": 3}, {\"date\": \"2020-10-04T00:00:00\", \"count\": 9}, {\"date\": \"2020-10-05T00:00:00\", \"count\": 31}, {\"date\": \"2020-10-06T00:00:00\", \"count\": 13}]}}, {\"mode\": \"vega-lite\"});\n",
       "</script>"
      ],
      "text/plain": [
       "alt.LayerChart(...)"
      ]
     },
     "execution_count": 40,
     "metadata": {},
     "output_type": "execute_result"
    }
   ],
   "source": [
    "#bars\n",
    "\n",
    "lines = alt.Chart(trump_tweets_day_candidacy_df, title = '@realDonaldTrump tweet frequency since candidacy announcement').mark_bar(size=2).encode(\n",
    "    x = alt.X('date:T', axis = alt.Axis(grid=False, title = '', tickCount=6, format = (\"%b. %Y\"))),\n",
    "    y = alt.Y('count:Q',\n",
    "        scale=alt.Scale(domain=(0, 200)), axis = alt.Axis(gridColor='#dddddd',offset=6,tickSize=0,domainOpacity=0, tickCount=6, title = 'Daily tweet counts and mean')),\n",
    ")\n",
    "\n",
    "#rule showing mean\n",
    "\n",
    "rule = alt.Chart(trump_tweets_day_candidacy_df).mark_rule(color='red').encode(\n",
    "    y='mean(count):Q'\n",
    ")\n",
    "\n",
    "#rule label -- would like to add \"Average: \" annotation\n",
    "text = rule.mark_text(\n",
    "    align='center',\n",
    "    baseline='middle',\n",
    "    dx=200,\n",
    "    dy=10,\n",
    "    fontWeight='bold',\n",
    ").encode(\n",
    "    text=alt.Text('mean(count):Q', format=\".2\"))\n",
    "\n",
    "#go\n",
    "( lines + rule + text ).properties(height=400,width=800).configure_view(strokeOpacity=0)"
   ]
  },
  {
   "cell_type": "code",
   "execution_count": 41,
   "metadata": {
    "jupyter": {
     "source_hidden": true
    }
   },
   "outputs": [
    {
     "data": {
      "text/html": [
       "\n",
       "<div id=\"altair-viz-286f84c530a0454f9a8c9104df0620ff\"></div>\n",
       "<script type=\"text/javascript\">\n",
       "  (function(spec, embedOpt){\n",
       "    let outputDiv = document.currentScript.previousElementSibling;\n",
       "    if (outputDiv.id !== \"altair-viz-286f84c530a0454f9a8c9104df0620ff\") {\n",
       "      outputDiv = document.getElementById(\"altair-viz-286f84c530a0454f9a8c9104df0620ff\");\n",
       "    }\n",
       "    const paths = {\n",
       "      \"vega\": \"https://cdn.jsdelivr.net/npm//vega@5?noext\",\n",
       "      \"vega-lib\": \"https://cdn.jsdelivr.net/npm//vega-lib?noext\",\n",
       "      \"vega-lite\": \"https://cdn.jsdelivr.net/npm//vega-lite@4.8.1?noext\",\n",
       "      \"vega-embed\": \"https://cdn.jsdelivr.net/npm//vega-embed@6?noext\",\n",
       "    };\n",
       "\n",
       "    function loadScript(lib) {\n",
       "      return new Promise(function(resolve, reject) {\n",
       "        var s = document.createElement('script');\n",
       "        s.src = paths[lib];\n",
       "        s.async = true;\n",
       "        s.onload = () => resolve(paths[lib]);\n",
       "        s.onerror = () => reject(`Error loading script: ${paths[lib]}`);\n",
       "        document.getElementsByTagName(\"head\")[0].appendChild(s);\n",
       "      });\n",
       "    }\n",
       "\n",
       "    function showError(err) {\n",
       "      outputDiv.innerHTML = `<div class=\"error\" style=\"color:red;\">${err}</div>`;\n",
       "      throw err;\n",
       "    }\n",
       "\n",
       "    function displayChart(vegaEmbed) {\n",
       "      vegaEmbed(outputDiv, spec, embedOpt)\n",
       "        .catch(err => showError(`Javascript Error: ${err.message}<br>This usually means there's a typo in your chart specification. See the javascript console for the full traceback.`));\n",
       "    }\n",
       "\n",
       "    if(typeof define === \"function\" && define.amd) {\n",
       "      requirejs.config({paths});\n",
       "      require([\"vega-embed\"], displayChart, err => showError(`Error loading script: ${err.message}`));\n",
       "    } else if (typeof vegaEmbed === \"function\") {\n",
       "      displayChart(vegaEmbed);\n",
       "    } else {\n",
       "      loadScript(\"vega\")\n",
       "        .then(() => loadScript(\"vega-lite\"))\n",
       "        .then(() => loadScript(\"vega-embed\"))\n",
       "        .catch(showError)\n",
       "        .then(() => displayChart(vegaEmbed));\n",
       "    }\n",
       "  })({\"config\": {\"view\": {\"width\": 800, \"height\": 450, \"strokeOpacity\": 0}, \"background\": \"#ffffff\", \"title\": {\"anchor\": \"start\", \"font\": \"Benton Gothic Bold, sans\", \"fontColor\": \"#000000\", \"fontSize\": 22, \"fontWeight\": \"normal\"}, \"arc\": {\"fill\": \"#82c6df\"}, \"area\": {\"fill\": \"#82c6df\"}, \"line\": {\"stroke\": \"#82c6df\", \"strokeWidth\": 3}, \"path\": {\"stroke\": \"#82c6df\"}, \"rect\": {\"fill\": \"#82c6df\"}, \"shape\": {\"stroke\": \"#82c6df\"}, \"bar\": {\"fill\": \"#82c6df\"}, \"point\": {\"stroke\": \"#82c6df\"}, \"symbol\": {\"fill\": \"#82c6df\", \"size\": 30}, \"axis\": {\"titleFont\": \"Benton Gothic Bold, sans\", \"titleFontSize\": 13, \"titleFontWeight\": \"normal\", \"labelFont\": \"Benton Gothic, sans\", \"labelFontSize\": 11.5, \"labelFontWeight\": \"normal\"}, \"axisX\": {\"labelAngle\": 0, \"labelPadding\": 4, \"tickSize\": 3}, \"axisY\": {\"labelBaseline\": \"middle\", \"maxExtent\": 45, \"minExtent\": 45, \"tickSize\": 2, \"titleAlign\": \"left\", \"titleAngle\": 0, \"titleX\": -45, \"titleY\": -11}, \"legend\": {\"titleFont\": \"Benton Gothic Bold, sans\", \"titleFontSize\": 13, \"titleFontWeight\": \"normal\", \"symbolType\": \"square\", \"labelFont\": \"Benton Gothic, sans\", \"labelFontSize\": 11.5}, \"range\": {\"category\": [\"#3580b1\", \"#ec8431\", \"#ab7fb4\", \"#c89d29\", \"#adc839\", \"#829eb1\"], \"diverging\": [\"#e68a4f\", \"#f4bb6a\", \"#f9e39c\", \"#dadfe2\", \"#a6b7c6\", \"#849eae\"], \"heatmap\": [\"#fbf2c7\", \"#f9e39c\", \"#f8d36e\", \"#f4bb6a\", \"#e68a4f\", \"#d15a40\", \"#ab4232\"], \"ordinal\": [\"#fbf2c7\", \"#f9e39c\", \"#f8d36e\", \"#f4bb6a\", \"#e68a4f\", \"#d15a40\", \"#ab4232\"], \"ramp\": [\"#fbf2c7\", \"#f9e39c\", \"#f8d36e\", \"#f4bb6a\", \"#e68a4f\", \"#d15a40\", \"#ab4232\"]}}, \"layer\": [{\"mark\": {\"type\": \"bar\", \"size\": 2}, \"encoding\": {\"x\": {\"type\": \"temporal\", \"axis\": {\"format\": \"%b. %Y\", \"grid\": false, \"tickCount\": 6, \"title\": \"\"}, \"field\": \"date\"}, \"y\": {\"type\": \"quantitative\", \"axis\": {\"domainOpacity\": 0, \"gridColor\": \"#dddddd\", \"offset\": 6, \"tickCount\": 6, \"tickSize\": 0, \"title\": \"Daily tweet counts and mean\"}, \"field\": \"count\", \"scale\": {\"domain\": [0, 200]}}}, \"title\": \"@realDonaldTrump tweet frequency since inauguration\"}, {\"mark\": {\"type\": \"rule\", \"color\": \"red\"}, \"encoding\": {\"y\": {\"type\": \"quantitative\", \"aggregate\": \"mean\", \"field\": \"count\"}}}, {\"mark\": {\"type\": \"text\", \"align\": \"center\", \"baseline\": \"middle\", \"dx\": 200, \"dy\": 10, \"fontWeight\": \"bold\"}, \"encoding\": {\"text\": {\"type\": \"quantitative\", \"aggregate\": \"mean\", \"field\": \"count\", \"format\": \".2\"}, \"y\": {\"type\": \"quantitative\", \"aggregate\": \"mean\", \"field\": \"count\"}}}], \"data\": {\"name\": \"data-cb7567f9487e40dd3e8197010503269c\"}, \"height\": 400, \"width\": 800, \"$schema\": \"https://vega.github.io/schema/vega-lite/v4.8.1.json\", \"datasets\": {\"data-cb7567f9487e40dd3e8197010503269c\": [{\"date\": \"2020-06-05T00:00:00\", \"count\": 199}, {\"date\": \"2020-05-10T00:00:00\", \"count\": 125}, {\"date\": \"2019-12-12T00:00:00\", \"count\": 124}, {\"date\": \"2020-08-30T00:00:00\", \"count\": 110}, {\"date\": \"2020-09-08T00:00:00\", \"count\": 108}, {\"date\": \"2019-12-08T00:00:00\", \"count\": 106}, {\"date\": \"2020-01-22T00:00:00\", \"count\": 94}, {\"date\": \"2020-08-14T00:00:00\", \"count\": 87}, {\"date\": \"2020-06-03T00:00:00\", \"count\": 86}, {\"date\": \"2020-09-14T00:00:00\", \"count\": 85}, {\"date\": \"2019-05-01T00:00:00\", \"count\": 84}, {\"date\": \"2019-11-09T00:00:00\", \"count\": 82}, {\"date\": \"2020-01-25T00:00:00\", \"count\": 80}, {\"date\": \"2020-03-22T00:00:00\", \"count\": 80}, {\"date\": \"2020-01-24T00:00:00\", \"count\": 78}, {\"date\": \"2019-12-11T00:00:00\", \"count\": 77}, {\"date\": \"2019-12-19T00:00:00\", \"count\": 73}, {\"date\": \"2020-02-08T00:00:00\", \"count\": 72}, {\"date\": \"2019-05-11T00:00:00\", \"count\": 71}, {\"date\": \"2020-04-04T00:00:00\", \"count\": 70}, {\"date\": \"2020-09-07T00:00:00\", \"count\": 70}, {\"date\": \"2019-12-18T00:00:00\", \"count\": 69}, {\"date\": \"2020-07-27T00:00:00\", \"count\": 67}, {\"date\": \"2020-09-25T00:00:00\", \"count\": 66}, {\"date\": \"2020-07-04T00:00:00\", \"count\": 66}, {\"date\": \"2020-04-30T00:00:00\", \"count\": 64}, {\"date\": \"2020-06-04T00:00:00\", \"count\": 63}, {\"date\": \"2020-06-01T00:00:00\", \"count\": 63}, {\"date\": \"2020-03-19T00:00:00\", \"count\": 62}, {\"date\": \"2020-07-26T00:00:00\", \"count\": 62}, {\"date\": \"2020-09-10T00:00:00\", \"count\": 60}, {\"date\": \"2019-09-26T00:00:00\", \"count\": 60}, {\"date\": \"2020-02-01T00:00:00\", \"count\": 60}, {\"date\": \"2019-10-19T00:00:00\", \"count\": 60}, {\"date\": \"2019-10-11T00:00:00\", \"count\": 59}, {\"date\": \"2020-02-07T00:00:00\", \"count\": 59}, {\"date\": \"2020-09-13T00:00:00\", \"count\": 59}, {\"date\": \"2019-08-31T00:00:00\", \"count\": 59}, {\"date\": \"2020-07-23T00:00:00\", \"count\": 58}, {\"date\": \"2020-05-23T00:00:00\", \"count\": 58}, {\"date\": \"2020-07-17T00:00:00\", \"count\": 57}, {\"date\": \"2020-04-09T00:00:00\", \"count\": 56}, {\"date\": \"2019-10-29T00:00:00\", \"count\": 56}, {\"date\": \"2020-08-16T00:00:00\", \"count\": 55}, {\"date\": \"2020-04-18T00:00:00\", \"count\": 55}, {\"date\": \"2019-12-27T00:00:00\", \"count\": 55}, {\"date\": \"2020-08-18T00:00:00\", \"count\": 55}, {\"date\": \"2020-05-11T00:00:00\", \"count\": 54}, {\"date\": \"2020-02-09T00:00:00\", \"count\": 54}, {\"date\": \"2020-09-04T00:00:00\", \"count\": 54}, {\"date\": \"2019-12-31T00:00:00\", \"count\": 54}, {\"date\": \"2020-09-09T00:00:00\", \"count\": 54}, {\"date\": \"2020-08-25T00:00:00\", \"count\": 54}, {\"date\": \"2019-10-07T00:00:00\", \"count\": 53}, {\"date\": \"2020-08-24T00:00:00\", \"count\": 53}, {\"date\": \"2020-08-01T00:00:00\", \"count\": 53}, {\"date\": \"2020-01-21T00:00:00\", \"count\": 53}, {\"date\": \"2019-11-24T00:00:00\", \"count\": 52}, {\"date\": \"2020-05-28T00:00:00\", \"count\": 52}, {\"date\": \"2020-03-23T00:00:00\", \"count\": 52}, {\"date\": \"2020-05-16T00:00:00\", \"count\": 52}, {\"date\": \"2020-03-02T00:00:00\", \"count\": 52}, {\"date\": \"2019-10-03T00:00:00\", \"count\": 51}, {\"date\": \"2019-06-26T00:00:00\", \"count\": 50}, {\"date\": \"2020-10-01T00:00:00\", \"count\": 50}, {\"date\": \"2020-08-29T00:00:00\", \"count\": 50}, {\"date\": \"2020-09-30T00:00:00\", \"count\": 50}, {\"date\": \"2019-11-21T00:00:00\", \"count\": 49}, {\"date\": \"2019-11-13T00:00:00\", \"count\": 49}, {\"date\": \"2019-12-20T00:00:00\", \"count\": 49}, {\"date\": \"2019-08-13T00:00:00\", \"count\": 49}, {\"date\": \"2019-11-17T00:00:00\", \"count\": 49}, {\"date\": \"2020-06-09T00:00:00\", \"count\": 49}, {\"date\": \"2019-09-29T00:00:00\", \"count\": 48}, {\"date\": \"2020-06-13T00:00:00\", \"count\": 48}, {\"date\": \"2020-05-12T00:00:00\", \"count\": 48}, {\"date\": \"2019-12-16T00:00:00\", \"count\": 48}, {\"date\": \"2020-07-29T00:00:00\", \"count\": 48}, {\"date\": \"2019-12-06T00:00:00\", \"count\": 48}, {\"date\": \"2019-10-04T00:00:00\", \"count\": 48}, {\"date\": \"2019-10-25T00:00:00\", \"count\": 47}, {\"date\": \"2020-01-27T00:00:00\", \"count\": 47}, {\"date\": \"2019-06-15T00:00:00\", \"count\": 47}, {\"date\": \"2020-03-12T00:00:00\", \"count\": 47}, {\"date\": \"2020-03-17T00:00:00\", \"count\": 47}, {\"date\": \"2020-05-14T00:00:00\", \"count\": 46}, {\"date\": \"2020-09-05T00:00:00\", \"count\": 46}, {\"date\": \"2019-07-04T00:00:00\", \"count\": 46}, {\"date\": \"2020-02-19T00:00:00\", \"count\": 45}, {\"date\": \"2019-11-05T00:00:00\", \"count\": 45}, {\"date\": \"2020-09-24T00:00:00\", \"count\": 45}, {\"date\": \"2020-02-25T00:00:00\", \"count\": 45}, {\"date\": \"2020-06-29T00:00:00\", \"count\": 45}, {\"date\": \"2020-06-18T00:00:00\", \"count\": 45}, {\"date\": \"2020-08-20T00:00:00\", \"count\": 45}, {\"date\": \"2020-02-15T00:00:00\", \"count\": 45}, {\"date\": \"2020-05-19T00:00:00\", \"count\": 45}, {\"date\": \"2019-09-18T00:00:00\", \"count\": 45}, {\"date\": \"2020-09-02T00:00:00\", \"count\": 45}, {\"date\": \"2020-02-21T00:00:00\", \"count\": 45}, {\"date\": \"2019-07-12T00:00:00\", \"count\": 45}, {\"date\": \"2020-04-26T00:00:00\", \"count\": 44}, {\"date\": \"2020-03-05T00:00:00\", \"count\": 44}, {\"date\": \"2019-10-31T00:00:00\", \"count\": 44}, {\"date\": \"2019-07-11T00:00:00\", \"count\": 44}, {\"date\": \"2020-04-12T00:00:00\", \"count\": 44}, {\"date\": \"2020-08-17T00:00:00\", \"count\": 44}, {\"date\": \"2020-01-30T00:00:00\", \"count\": 44}, {\"date\": \"2019-04-22T00:00:00\", \"count\": 44}, {\"date\": \"2020-09-17T00:00:00\", \"count\": 43}, {\"date\": \"2020-06-30T00:00:00\", \"count\": 43}, {\"date\": \"2020-03-03T00:00:00\", \"count\": 43}, {\"date\": \"2020-09-23T00:00:00\", \"count\": 43}, {\"date\": \"2019-11-03T00:00:00\", \"count\": 43}, {\"date\": \"2020-08-26T00:00:00\", \"count\": 43}, {\"date\": \"2019-10-09T00:00:00\", \"count\": 43}, {\"date\": \"2019-07-24T00:00:00\", \"count\": 42}, {\"date\": \"2019-11-19T00:00:00\", \"count\": 42}, {\"date\": \"2020-03-27T00:00:00\", \"count\": 42}, {\"date\": \"2019-10-23T00:00:00\", \"count\": 42}, {\"date\": \"2020-07-02T00:00:00\", \"count\": 42}, {\"date\": \"2019-10-06T00:00:00\", \"count\": 42}, {\"date\": \"2019-12-04T00:00:00\", \"count\": 41}, {\"date\": \"2020-04-23T00:00:00\", \"count\": 41}, {\"date\": \"2020-06-27T00:00:00\", \"count\": 41}, {\"date\": \"2019-01-20T00:00:00\", \"count\": 41}, {\"date\": \"2020-08-15T00:00:00\", \"count\": 41}, {\"date\": \"2020-01-10T00:00:00\", \"count\": 40}, {\"date\": \"2020-05-02T00:00:00\", \"count\": 40}, {\"date\": \"2020-07-11T00:00:00\", \"count\": 40}, {\"date\": \"2019-11-15T00:00:00\", \"count\": 40}, {\"date\": \"2020-06-02T00:00:00\", \"count\": 39}, {\"date\": \"2019-09-28T00:00:00\", \"count\": 39}, {\"date\": \"2019-08-23T00:00:00\", \"count\": 39}, {\"date\": \"2020-02-24T00:00:00\", \"count\": 39}, {\"date\": \"2020-05-27T00:00:00\", \"count\": 39}, {\"date\": \"2020-06-07T00:00:00\", \"count\": 39}, {\"date\": \"2020-09-26T00:00:00\", \"count\": 39}, {\"date\": \"2020-05-18T00:00:00\", \"count\": 39}, {\"date\": \"2019-12-10T00:00:00\", \"count\": 38}, {\"date\": \"2019-08-25T00:00:00\", \"count\": 38}, {\"date\": \"2020-02-05T00:00:00\", \"count\": 38}, {\"date\": \"2019-09-11T00:00:00\", \"count\": 38}, {\"date\": \"2020-09-28T00:00:00\", \"count\": 38}, {\"date\": \"2020-05-26T00:00:00\", \"count\": 38}, {\"date\": \"2020-09-21T00:00:00\", \"count\": 38}, {\"date\": \"2020-09-29T00:00:00\", \"count\": 37}, {\"date\": \"2019-09-01T00:00:00\", \"count\": 37}, {\"date\": \"2020-06-12T00:00:00\", \"count\": 37}, {\"date\": \"2020-06-19T00:00:00\", \"count\": 37}, {\"date\": \"2020-02-18T00:00:00\", \"count\": 37}, {\"date\": \"2020-08-02T00:00:00\", \"count\": 37}, {\"date\": \"2019-08-22T00:00:00\", \"count\": 37}, {\"date\": \"2020-09-12T00:00:00\", \"count\": 37}, {\"date\": \"2020-09-20T00:00:00\", \"count\": 37}, {\"date\": \"2020-08-05T00:00:00\", \"count\": 37}, {\"date\": \"2020-05-17T00:00:00\", \"count\": 37}, {\"date\": \"2020-07-13T00:00:00\", \"count\": 36}, {\"date\": \"2020-03-09T00:00:00\", \"count\": 36}, {\"date\": \"2020-03-29T00:00:00\", \"count\": 36}, {\"date\": \"2020-05-30T00:00:00\", \"count\": 36}, {\"date\": \"2019-08-15T00:00:00\", \"count\": 36}, {\"date\": \"2020-01-14T00:00:00\", \"count\": 36}, {\"date\": \"2019-09-16T00:00:00\", \"count\": 35}, {\"date\": \"2020-02-03T00:00:00\", \"count\": 35}, {\"date\": \"2020-09-06T00:00:00\", \"count\": 35}, {\"date\": \"2020-05-21T00:00:00\", \"count\": 35}, {\"date\": \"2019-12-26T00:00:00\", \"count\": 35}, {\"date\": \"2020-01-28T00:00:00\", \"count\": 35}, {\"date\": \"2020-09-22T00:00:00\", \"count\": 35}, {\"date\": \"2019-12-02T00:00:00\", \"count\": 35}, {\"date\": \"2020-05-24T00:00:00\", \"count\": 35}, {\"date\": \"2019-11-20T00:00:00\", \"count\": 35}, {\"date\": \"2019-03-08T00:00:00\", \"count\": 35}, {\"date\": \"2020-04-17T00:00:00\", \"count\": 35}, {\"date\": \"2019-11-01T00:00:00\", \"count\": 34}, {\"date\": \"2020-08-03T00:00:00\", \"count\": 34}, {\"date\": \"2019-09-10T00:00:00\", \"count\": 34}, {\"date\": \"2020-04-20T00:00:00\", \"count\": 34}, {\"date\": \"2019-05-22T00:00:00\", \"count\": 34}, {\"date\": \"2019-10-14T00:00:00\", \"count\": 34}, {\"date\": \"2019-12-03T00:00:00\", \"count\": 34}, {\"date\": \"2019-05-10T00:00:00\", \"count\": 34}, {\"date\": \"2019-09-09T00:00:00\", \"count\": 34}, {\"date\": \"2019-07-14T00:00:00\", \"count\": 34}, {\"date\": \"2020-01-26T00:00:00\", \"count\": 34}, {\"date\": \"2019-10-08T00:00:00\", \"count\": 34}, {\"date\": \"2020-03-10T00:00:00\", \"count\": 33}, {\"date\": \"2020-01-09T00:00:00\", \"count\": 33}, {\"date\": \"2020-01-03T00:00:00\", \"count\": 33}, {\"date\": \"2019-12-15T00:00:00\", \"count\": 33}, {\"date\": \"2019-09-02T00:00:00\", \"count\": 33}, {\"date\": \"2020-09-11T00:00:00\", \"count\": 33}, {\"date\": \"2020-06-11T00:00:00\", \"count\": 33}, {\"date\": \"2019-10-22T00:00:00\", \"count\": 32}, {\"date\": \"2020-09-18T00:00:00\", \"count\": 32}, {\"date\": \"2019-03-17T00:00:00\", \"count\": 32}, {\"date\": \"2019-08-20T00:00:00\", \"count\": 32}, {\"date\": \"2020-04-10T00:00:00\", \"count\": 32}, {\"date\": \"2019-09-25T00:00:00\", \"count\": 32}, {\"date\": \"2020-03-25T00:00:00\", \"count\": 32}, {\"date\": \"2020-05-05T00:00:00\", \"count\": 32}, {\"date\": \"2019-11-02T00:00:00\", \"count\": 32}, {\"date\": \"2020-08-07T00:00:00\", \"count\": 31}, {\"date\": \"2020-02-11T00:00:00\", \"count\": 31}, {\"date\": \"2020-10-05T00:00:00\", \"count\": 31}, {\"date\": \"2018-09-14T00:00:00\", \"count\": 31}, {\"date\": \"2020-04-11T00:00:00\", \"count\": 31}, {\"date\": \"2020-04-19T00:00:00\", \"count\": 31}, {\"date\": \"2020-02-20T00:00:00\", \"count\": 31}, {\"date\": \"2020-09-03T00:00:00\", \"count\": 31}, {\"date\": \"2020-08-28T00:00:00\", \"count\": 31}, {\"date\": \"2020-02-10T00:00:00\", \"count\": 31}, {\"date\": \"2019-07-13T00:00:00\", \"count\": 31}, {\"date\": \"2019-07-20T00:00:00\", \"count\": 31}, {\"date\": \"2019-08-17T00:00:00\", \"count\": 31}, {\"date\": \"2020-04-29T00:00:00\", \"count\": 31}, {\"date\": \"2020-01-17T00:00:00\", \"count\": 31}, {\"date\": \"2020-06-22T00:00:00\", \"count\": 31}, {\"date\": \"2020-05-03T00:00:00\", \"count\": 31}, {\"date\": \"2020-03-04T00:00:00\", \"count\": 31}, {\"date\": \"2018-11-04T00:00:00\", \"count\": 31}, {\"date\": \"2019-05-12T00:00:00\", \"count\": 30}, {\"date\": \"2019-05-08T00:00:00\", \"count\": 30}, {\"date\": \"2018-09-17T00:00:00\", \"count\": 30}, {\"date\": \"2019-10-16T00:00:00\", \"count\": 30}, {\"date\": \"2019-11-14T00:00:00\", \"count\": 30}, {\"date\": \"2020-08-12T00:00:00\", \"count\": 30}, {\"date\": \"2020-09-15T00:00:00\", \"count\": 30}, {\"date\": \"2020-06-28T00:00:00\", \"count\": 30}, {\"date\": \"2020-03-13T00:00:00\", \"count\": 30}, {\"date\": \"2020-03-15T00:00:00\", \"count\": 30}, {\"date\": \"2020-07-10T00:00:00\", \"count\": 30}, {\"date\": \"2020-09-01T00:00:00\", \"count\": 30}, {\"date\": \"2020-01-23T00:00:00\", \"count\": 29}, {\"date\": \"2020-06-16T00:00:00\", \"count\": 29}, {\"date\": \"2020-07-01T00:00:00\", \"count\": 29}, {\"date\": \"2019-12-23T00:00:00\", \"count\": 29}, {\"date\": \"2019-05-05T00:00:00\", \"count\": 29}, {\"date\": \"2019-09-05T00:00:00\", \"count\": 29}, {\"date\": \"2018-11-06T00:00:00\", \"count\": 29}, {\"date\": \"2020-01-12T00:00:00\", \"count\": 29}, {\"date\": \"2020-05-01T00:00:00\", \"count\": 29}, {\"date\": \"2020-02-04T00:00:00\", \"count\": 29}, {\"date\": \"2019-12-14T00:00:00\", \"count\": 29}, {\"date\": \"2020-08-31T00:00:00\", \"count\": 29}, {\"date\": \"2019-10-01T00:00:00\", \"count\": 28}, {\"date\": \"2020-05-09T00:00:00\", \"count\": 28}, {\"date\": \"2020-04-25T00:00:00\", \"count\": 28}, {\"date\": \"2018-09-21T00:00:00\", \"count\": 28}, {\"date\": \"2019-11-11T00:00:00\", \"count\": 28}, {\"date\": \"2020-01-29T00:00:00\", \"count\": 28}, {\"date\": \"2020-03-24T00:00:00\", \"count\": 28}, {\"date\": \"2019-05-23T00:00:00\", \"count\": 28}, {\"date\": \"2019-01-18T00:00:00\", \"count\": 28}, {\"date\": \"2020-05-15T00:00:00\", \"count\": 28}, {\"date\": \"2019-10-21T00:00:00\", \"count\": 27}, {\"date\": \"2019-05-04T00:00:00\", \"count\": 27}, {\"date\": \"2020-08-27T00:00:00\", \"count\": 27}, {\"date\": \"2020-07-15T00:00:00\", \"count\": 27}, {\"date\": \"2020-02-26T00:00:00\", \"count\": 27}, {\"date\": \"2020-03-01T00:00:00\", \"count\": 27}, {\"date\": \"2020-02-02T00:00:00\", \"count\": 27}, {\"date\": \"2020-07-06T00:00:00\", \"count\": 27}, {\"date\": \"2019-09-04T00:00:00\", \"count\": 27}, {\"date\": \"2019-10-02T00:00:00\", \"count\": 27}, {\"date\": \"2020-05-22T00:00:00\", \"count\": 27}, {\"date\": \"2020-01-20T00:00:00\", \"count\": 27}, {\"date\": \"2019-09-30T00:00:00\", \"count\": 26}, {\"date\": \"2019-09-07T00:00:00\", \"count\": 26}, {\"date\": \"2020-05-25T00:00:00\", \"count\": 26}, {\"date\": \"2020-05-20T00:00:00\", \"count\": 26}, {\"date\": \"2019-08-30T00:00:00\", \"count\": 26}, {\"date\": \"2020-03-31T00:00:00\", \"count\": 26}, {\"date\": \"2019-08-21T00:00:00\", \"count\": 26}, {\"date\": \"2019-08-07T00:00:00\", \"count\": 26}, {\"date\": \"2019-07-30T00:00:00\", \"count\": 26}, {\"date\": \"2020-08-13T00:00:00\", \"count\": 26}, {\"date\": \"2019-10-30T00:00:00\", \"count\": 26}, {\"date\": \"2020-01-13T00:00:00\", \"count\": 26}, {\"date\": \"2020-03-16T00:00:00\", \"count\": 26}, {\"date\": \"2017-09-30T00:00:00\", \"count\": 26}, {\"date\": \"2018-08-03T00:00:00\", \"count\": 25}, {\"date\": \"2019-10-26T00:00:00\", \"count\": 25}, {\"date\": \"2020-01-16T00:00:00\", \"count\": 25}, {\"date\": \"2019-05-13T00:00:00\", \"count\": 25}, {\"date\": \"2020-04-06T00:00:00\", \"count\": 25}, {\"date\": \"2018-06-05T00:00:00\", \"count\": 25}, {\"date\": \"2020-01-18T00:00:00\", \"count\": 25}, {\"date\": \"2020-06-10T00:00:00\", \"count\": 25}, {\"date\": \"2019-08-16T00:00:00\", \"count\": 25}, {\"date\": \"2019-07-09T00:00:00\", \"count\": 24}, {\"date\": \"2018-10-10T00:00:00\", \"count\": 24}, {\"date\": \"2019-03-12T00:00:00\", \"count\": 24}, {\"date\": \"2019-10-12T00:00:00\", \"count\": 24}, {\"date\": \"2017-09-20T00:00:00\", \"count\": 24}, {\"date\": \"2019-10-18T00:00:00\", \"count\": 24}, {\"date\": \"2019-10-20T00:00:00\", \"count\": 24}, {\"date\": \"2020-06-25T00:00:00\", \"count\": 24}, {\"date\": \"2018-06-23T00:00:00\", \"count\": 24}, {\"date\": \"2019-07-29T00:00:00\", \"count\": 24}, {\"date\": \"2020-07-09T00:00:00\", \"count\": 24}, {\"date\": \"2020-08-04T00:00:00\", \"count\": 24}, {\"date\": \"2020-07-24T00:00:00\", \"count\": 24}, {\"date\": \"2019-06-01T00:00:00\", \"count\": 24}, {\"date\": \"2019-09-03T00:00:00\", \"count\": 24}, {\"date\": \"2019-07-27T00:00:00\", \"count\": 24}, {\"date\": \"2019-11-16T00:00:00\", \"count\": 23}, {\"date\": \"2018-08-15T00:00:00\", \"count\": 23}, {\"date\": \"2018-04-17T00:00:00\", \"count\": 23}, {\"date\": \"2020-08-10T00:00:00\", \"count\": 23}, {\"date\": \"2019-06-12T00:00:00\", \"count\": 23}, {\"date\": \"2019-07-31T00:00:00\", \"count\": 23}, {\"date\": \"2019-10-17T00:00:00\", \"count\": 23}, {\"date\": \"2018-09-10T00:00:00\", \"count\": 23}, {\"date\": \"2019-05-25T00:00:00\", \"count\": 23}, {\"date\": \"2020-02-14T00:00:00\", \"count\": 23}, {\"date\": \"2018-11-05T00:00:00\", \"count\": 23}, {\"date\": \"2019-09-27T00:00:00\", \"count\": 23}, {\"date\": \"2019-09-14T00:00:00\", \"count\": 23}, {\"date\": \"2019-09-06T00:00:00\", \"count\": 23}, {\"date\": \"2019-10-05T00:00:00\", \"count\": 23}, {\"date\": \"2020-04-05T00:00:00\", \"count\": 23}, {\"date\": \"2019-12-07T00:00:00\", \"count\": 23}, {\"date\": \"2020-03-21T00:00:00\", \"count\": 23}, {\"date\": \"2020-01-06T00:00:00\", \"count\": 23}, {\"date\": \"2019-10-10T00:00:00\", \"count\": 22}, {\"date\": \"2020-03-11T00:00:00\", \"count\": 22}, {\"date\": \"2019-06-09T00:00:00\", \"count\": 22}, {\"date\": \"2017-11-29T00:00:00\", \"count\": 22}, {\"date\": \"2019-04-18T00:00:00\", \"count\": 22}, {\"date\": \"2018-09-13T00:00:00\", \"count\": 22}, {\"date\": \"2019-12-13T00:00:00\", \"count\": 22}, {\"date\": \"2019-09-21T00:00:00\", \"count\": 22}, {\"date\": \"2018-10-29T00:00:00\", \"count\": 22}, {\"date\": \"2020-06-23T00:00:00\", \"count\": 22}, {\"date\": \"2020-06-24T00:00:00\", \"count\": 22}, {\"date\": \"2019-04-25T00:00:00\", \"count\": 22}, {\"date\": \"2018-10-16T00:00:00\", \"count\": 22}, {\"date\": \"2020-07-03T00:00:00\", \"count\": 22}, {\"date\": \"2020-04-24T00:00:00\", \"count\": 22}, {\"date\": \"2019-07-19T00:00:00\", \"count\": 22}, {\"date\": \"2020-08-06T00:00:00\", \"count\": 22}, {\"date\": \"2019-06-13T00:00:00\", \"count\": 22}, {\"date\": \"2020-07-31T00:00:00\", \"count\": 21}, {\"date\": \"2018-10-09T00:00:00\", \"count\": 21}, {\"date\": \"2020-05-29T00:00:00\", \"count\": 21}, {\"date\": \"2019-11-10T00:00:00\", \"count\": 21}, {\"date\": \"2018-12-21T00:00:00\", \"count\": 21}, {\"date\": \"2020-07-14T00:00:00\", \"count\": 21}, {\"date\": \"2019-11-30T00:00:00\", \"count\": 21}, {\"date\": \"2019-10-13T00:00:00\", \"count\": 21}, {\"date\": \"2020-08-22T00:00:00\", \"count\": 21}, {\"date\": \"2019-04-20T00:00:00\", \"count\": 21}, {\"date\": \"2018-07-03T00:00:00\", \"count\": 21}, {\"date\": \"2019-12-17T00:00:00\", \"count\": 21}, {\"date\": \"2019-07-02T00:00:00\", \"count\": 21}, {\"date\": \"2018-06-07T00:00:00\", \"count\": 21}, {\"date\": \"2018-07-11T00:00:00\", \"count\": 21}, {\"date\": \"2020-04-08T00:00:00\", \"count\": 21}, {\"date\": \"2018-11-03T00:00:00\", \"count\": 21}, {\"date\": \"2020-02-28T00:00:00\", \"count\": 21}, {\"date\": \"2019-01-31T00:00:00\", \"count\": 21}, {\"date\": \"2019-11-04T00:00:00\", \"count\": 21}, {\"date\": \"2019-11-06T00:00:00\", \"count\": 20}, {\"date\": \"2019-06-11T00:00:00\", \"count\": 20}, {\"date\": \"2019-08-18T00:00:00\", \"count\": 20}, {\"date\": \"2019-02-25T00:00:00\", \"count\": 20}, {\"date\": \"2019-04-06T00:00:00\", \"count\": 20}, {\"date\": \"2018-08-29T00:00:00\", \"count\": 20}, {\"date\": \"2020-09-27T00:00:00\", \"count\": 20}, {\"date\": \"2020-09-16T00:00:00\", \"count\": 20}, {\"date\": \"2019-12-09T00:00:00\", \"count\": 20}, {\"date\": \"2019-09-24T00:00:00\", \"count\": 20}, {\"date\": \"2020-03-14T00:00:00\", \"count\": 20}, {\"date\": \"2017-09-26T00:00:00\", \"count\": 20}, {\"date\": \"2018-10-17T00:00:00\", \"count\": 20}, {\"date\": \"2019-07-23T00:00:00\", \"count\": 20}, {\"date\": \"2018-10-31T00:00:00\", \"count\": 20}, {\"date\": \"2019-06-10T00:00:00\", \"count\": 20}, {\"date\": \"2019-04-05T00:00:00\", \"count\": 20}, {\"date\": \"2020-03-18T00:00:00\", \"count\": 20}, {\"date\": \"2019-03-16T00:00:00\", \"count\": 20}, {\"date\": \"2019-10-15T00:00:00\", \"count\": 20}, {\"date\": \"2019-05-30T00:00:00\", \"count\": 20}, {\"date\": \"2018-10-22T00:00:00\", \"count\": 20}, {\"date\": \"2019-06-03T00:00:00\", \"count\": 19}, {\"date\": \"2019-06-07T00:00:00\", \"count\": 19}, {\"date\": \"2019-04-09T00:00:00\", \"count\": 19}, {\"date\": \"2019-08-27T00:00:00\", \"count\": 19}, {\"date\": \"2018-07-31T00:00:00\", \"count\": 19}, {\"date\": \"2018-09-01T00:00:00\", \"count\": 19}, {\"date\": \"2017-11-01T00:00:00\", \"count\": 19}, {\"date\": \"2019-08-03T00:00:00\", \"count\": 19}, {\"date\": \"2020-07-25T00:00:00\", \"count\": 19}, {\"date\": \"2019-03-05T00:00:00\", \"count\": 19}, {\"date\": \"2019-01-15T00:00:00\", \"count\": 19}, {\"date\": \"2020-04-21T00:00:00\", \"count\": 19}, {\"date\": \"2020-01-07T00:00:00\", \"count\": 19}, {\"date\": \"2019-01-14T00:00:00\", \"count\": 19}, {\"date\": \"2019-11-12T00:00:00\", \"count\": 19}, {\"date\": \"2018-06-26T00:00:00\", \"count\": 19}, {\"date\": \"2019-05-03T00:00:00\", \"count\": 19}, {\"date\": \"2019-05-20T00:00:00\", \"count\": 19}, {\"date\": \"2019-09-15T00:00:00\", \"count\": 19}, {\"date\": \"2018-08-13T00:00:00\", \"count\": 19}, {\"date\": \"2019-05-19T00:00:00\", \"count\": 19}, {\"date\": \"2018-06-15T00:00:00\", \"count\": 19}, {\"date\": \"2019-03-13T00:00:00\", \"count\": 19}, {\"date\": \"2020-04-02T00:00:00\", \"count\": 19}, {\"date\": \"2019-11-26T00:00:00\", \"count\": 18}, {\"date\": \"2019-07-22T00:00:00\", \"count\": 18}, {\"date\": \"2019-10-28T00:00:00\", \"count\": 18}, {\"date\": \"2019-04-23T00:00:00\", \"count\": 18}, {\"date\": \"2020-04-28T00:00:00\", \"count\": 18}, {\"date\": \"2019-04-12T00:00:00\", \"count\": 18}, {\"date\": \"2019-05-14T00:00:00\", \"count\": 18}, {\"date\": \"2020-02-17T00:00:00\", \"count\": 18}, {\"date\": \"2019-06-16T00:00:00\", \"count\": 18}, {\"date\": \"2018-06-25T00:00:00\", \"count\": 18}, {\"date\": \"2019-07-10T00:00:00\", \"count\": 18}, {\"date\": \"2018-06-17T00:00:00\", \"count\": 18}, {\"date\": \"2017-11-28T00:00:00\", \"count\": 18}, {\"date\": \"2018-07-29T00:00:00\", \"count\": 18}, {\"date\": \"2018-07-15T00:00:00\", \"count\": 18}, {\"date\": \"2019-08-28T00:00:00\", \"count\": 18}, {\"date\": \"2018-05-25T00:00:00\", \"count\": 18}, {\"date\": \"2020-05-31T00:00:00\", \"count\": 18}, {\"date\": \"2018-10-18T00:00:00\", \"count\": 18}, {\"date\": \"2019-08-06T00:00:00\", \"count\": 18}, {\"date\": \"2018-12-07T00:00:00\", \"count\": 18}, {\"date\": \"2019-08-24T00:00:00\", \"count\": 18}, {\"date\": \"2020-07-16T00:00:00\", \"count\": 18}, {\"date\": \"2019-09-22T00:00:00\", \"count\": 18}, {\"date\": \"2018-09-20T00:00:00\", \"count\": 17}, {\"date\": \"2018-08-28T00:00:00\", \"count\": 17}, {\"date\": \"2019-03-25T00:00:00\", \"count\": 17}, {\"date\": \"2020-08-23T00:00:00\", \"count\": 17}, {\"date\": \"2019-06-22T00:00:00\", \"count\": 17}, {\"date\": \"2019-02-18T00:00:00\", \"count\": 17}, {\"date\": \"2020-08-19T00:00:00\", \"count\": 17}, {\"date\": \"2019-05-18T00:00:00\", \"count\": 17}, {\"date\": \"2019-05-21T00:00:00\", \"count\": 17}, {\"date\": \"2018-06-02T00:00:00\", \"count\": 17}, {\"date\": \"2019-05-27T00:00:00\", \"count\": 17}, {\"date\": \"2018-06-22T00:00:00\", \"count\": 17}, {\"date\": \"2018-06-21T00:00:00\", \"count\": 17}, {\"date\": \"2019-04-27T00:00:00\", \"count\": 17}, {\"date\": \"2018-08-22T00:00:00\", \"count\": 17}, {\"date\": \"2019-03-09T00:00:00\", \"count\": 17}, {\"date\": \"2020-02-12T00:00:00\", \"count\": 17}, {\"date\": \"2019-01-01T00:00:00\", \"count\": 17}, {\"date\": \"2020-04-27T00:00:00\", \"count\": 17}, {\"date\": \"2020-07-30T00:00:00\", \"count\": 17}, {\"date\": \"2018-11-29T00:00:00\", \"count\": 17}, {\"date\": \"2017-10-11T00:00:00\", \"count\": 17}, {\"date\": \"2019-11-25T00:00:00\", \"count\": 17}, {\"date\": \"2020-07-28T00:00:00\", \"count\": 17}, {\"date\": \"2017-07-25T00:00:00\", \"count\": 17}, {\"date\": \"2019-07-26T00:00:00\", \"count\": 17}, {\"date\": \"2019-09-23T00:00:00\", \"count\": 17}, {\"date\": \"2018-10-27T00:00:00\", \"count\": 17}, {\"date\": \"2018-10-25T00:00:00\", \"count\": 17}, {\"date\": \"2017-10-31T00:00:00\", \"count\": 17}, {\"date\": \"2017-08-16T00:00:00\", \"count\": 17}, {\"date\": \"2018-07-24T00:00:00\", \"count\": 16}, {\"date\": \"2018-07-25T00:00:00\", \"count\": 16}, {\"date\": \"2019-07-07T00:00:00\", \"count\": 16}, {\"date\": \"2017-11-03T00:00:00\", \"count\": 16}, {\"date\": \"2018-07-27T00:00:00\", \"count\": 16}, {\"date\": \"2018-07-30T00:00:00\", \"count\": 16}, {\"date\": \"2017-10-27T00:00:00\", \"count\": 16}, {\"date\": \"2018-08-01T00:00:00\", \"count\": 16}, {\"date\": \"2017-11-07T00:00:00\", \"count\": 16}, {\"date\": \"2018-06-20T00:00:00\", \"count\": 16}, {\"date\": \"2019-04-15T00:00:00\", \"count\": 16}, {\"date\": \"2020-05-13T00:00:00\", \"count\": 16}, {\"date\": \"2019-08-19T00:00:00\", \"count\": 16}, {\"date\": \"2019-01-05T00:00:00\", \"count\": 16}, {\"date\": \"2020-03-28T00:00:00\", \"count\": 16}, {\"date\": \"2017-06-22T00:00:00\", \"count\": 16}, {\"date\": \"2019-04-24T00:00:00\", \"count\": 16}, {\"date\": \"2018-12-31T00:00:00\", \"count\": 16}, {\"date\": \"2019-12-05T00:00:00\", \"count\": 16}, {\"date\": \"2018-07-10T00:00:00\", \"count\": 16}, {\"date\": \"2019-11-18T00:00:00\", \"count\": 16}, {\"date\": \"2020-04-13T00:00:00\", \"count\": 16}, {\"date\": \"2017-10-25T00:00:00\", \"count\": 16}, {\"date\": \"2019-03-28T00:00:00\", \"count\": 16}, {\"date\": \"2018-08-24T00:00:00\", \"count\": 16}, {\"date\": \"2018-12-18T00:00:00\", \"count\": 16}, {\"date\": \"2017-08-25T00:00:00\", \"count\": 16}, {\"date\": \"2018-04-21T00:00:00\", \"count\": 16}, {\"date\": \"2017-08-24T00:00:00\", \"count\": 16}, {\"date\": \"2018-09-04T00:00:00\", \"count\": 16}, {\"date\": \"2020-01-31T00:00:00\", \"count\": 16}, {\"date\": \"2019-07-15T00:00:00\", \"count\": 16}, {\"date\": \"2018-12-20T00:00:00\", \"count\": 16}, {\"date\": \"2017-09-29T00:00:00\", \"count\": 16}, {\"date\": \"2019-07-25T00:00:00\", \"count\": 16}, {\"date\": \"2019-06-08T00:00:00\", \"count\": 16}, {\"date\": \"2019-11-23T00:00:00\", \"count\": 16}, {\"date\": \"2020-03-07T00:00:00\", \"count\": 16}, {\"date\": \"2018-08-17T00:00:00\", \"count\": 16}, {\"date\": \"2017-10-18T00:00:00\", \"count\": 16}, {\"date\": \"2018-05-23T00:00:00\", \"count\": 16}, {\"date\": \"2018-08-16T00:00:00\", \"count\": 16}, {\"date\": \"2017-10-13T00:00:00\", \"count\": 16}, {\"date\": \"2019-08-01T00:00:00\", \"count\": 16}, {\"date\": \"2018-08-30T00:00:00\", \"count\": 15}, {\"date\": \"2017-11-15T00:00:00\", \"count\": 15}, {\"date\": \"2017-09-17T00:00:00\", \"count\": 15}, {\"date\": \"2018-09-03T00:00:00\", \"count\": 15}, {\"date\": \"2019-03-18T00:00:00\", \"count\": 15}, {\"date\": \"2019-03-03T00:00:00\", \"count\": 15}, {\"date\": \"2020-01-11T00:00:00\", \"count\": 15}, {\"date\": \"2017-08-04T00:00:00\", \"count\": 15}, {\"date\": \"2019-07-06T00:00:00\", \"count\": 15}, {\"date\": \"2020-01-01T00:00:00\", \"count\": 15}, {\"date\": \"2018-09-11T00:00:00\", \"count\": 15}, {\"date\": \"2019-08-14T00:00:00\", \"count\": 15}, {\"date\": \"2019-06-18T00:00:00\", \"count\": 15}, {\"date\": \"2019-06-02T00:00:00\", \"count\": 15}, {\"date\": \"2018-02-24T00:00:00\", \"count\": 15}, {\"date\": \"2019-09-12T00:00:00\", \"count\": 15}, {\"date\": \"2020-06-20T00:00:00\", \"count\": 15}, {\"date\": \"2019-07-21T00:00:00\", \"count\": 15}, {\"date\": \"2019-05-17T00:00:00\", \"count\": 15}, {\"date\": \"2019-07-17T00:00:00\", \"count\": 15}, {\"date\": \"2020-04-22T00:00:00\", \"count\": 15}, {\"date\": \"2019-01-13T00:00:00\", \"count\": 14}, {\"date\": \"2018-05-30T00:00:00\", \"count\": 14}, {\"date\": \"2019-08-05T00:00:00\", \"count\": 14}, {\"date\": \"2018-12-23T00:00:00\", \"count\": 14}, {\"date\": \"2017-08-07T00:00:00\", \"count\": 14}, {\"date\": \"2018-04-02T00:00:00\", \"count\": 14}, {\"date\": \"2019-03-14T00:00:00\", \"count\": 14}, {\"date\": \"2019-06-04T00:00:00\", \"count\": 14}, {\"date\": \"2019-07-03T00:00:00\", \"count\": 14}, {\"date\": \"2019-07-01T00:00:00\", \"count\": 14}, {\"date\": \"2019-07-28T00:00:00\", \"count\": 14}, {\"date\": \"2018-10-02T00:00:00\", \"count\": 14}, {\"date\": \"2020-08-08T00:00:00\", \"count\": 14}, {\"date\": \"2019-01-12T00:00:00\", \"count\": 14}, {\"date\": \"2019-03-04T00:00:00\", \"count\": 14}, {\"date\": \"2019-03-10T00:00:00\", \"count\": 14}, {\"date\": \"2019-05-24T00:00:00\", \"count\": 14}, {\"date\": \"2017-09-25T00:00:00\", \"count\": 14}, {\"date\": \"2019-07-16T00:00:00\", \"count\": 14}, {\"date\": \"2018-04-18T00:00:00\", \"count\": 14}, {\"date\": \"2017-09-23T00:00:00\", \"count\": 14}, {\"date\": \"2019-06-25T00:00:00\", \"count\": 14}, {\"date\": \"2018-11-28T00:00:00\", \"count\": 14}, {\"date\": \"2019-11-22T00:00:00\", \"count\": 14}, {\"date\": \"2018-09-24T00:00:00\", \"count\": 14}, {\"date\": \"2019-04-01T00:00:00\", \"count\": 14}, {\"date\": \"2019-05-07T00:00:00\", \"count\": 14}, {\"date\": \"2018-06-30T00:00:00\", \"count\": 14}, {\"date\": \"2018-10-12T00:00:00\", \"count\": 14}, {\"date\": \"2017-06-19T00:00:00\", \"count\": 14}, {\"date\": \"2020-05-04T00:00:00\", \"count\": 14}, {\"date\": \"2019-02-23T00:00:00\", \"count\": 14}, {\"date\": \"2017-07-22T00:00:00\", \"count\": 14}, {\"date\": \"2019-02-09T00:00:00\", \"count\": 14}, {\"date\": \"2019-02-10T00:00:00\", \"count\": 14}, {\"date\": \"2018-07-20T00:00:00\", \"count\": 14}, {\"date\": \"2018-01-11T00:00:00\", \"count\": 14}, {\"date\": \"2017-05-28T00:00:00\", \"count\": 14}, {\"date\": \"2018-01-20T00:00:00\", \"count\": 14}, {\"date\": \"2020-06-06T00:00:00\", \"count\": 14}, {\"date\": \"2018-06-04T00:00:00\", \"count\": 14}, {\"date\": \"2019-09-08T00:00:00\", \"count\": 14}, {\"date\": \"2019-12-28T00:00:00\", \"count\": 14}, {\"date\": \"2020-07-08T00:00:00\", \"count\": 14}, {\"date\": \"2018-09-18T00:00:00\", \"count\": 14}, {\"date\": \"2018-06-12T00:00:00\", \"count\": 14}, {\"date\": \"2017-10-21T00:00:00\", \"count\": 14}, {\"date\": \"2019-01-09T00:00:00\", \"count\": 13}, {\"date\": \"2018-11-30T00:00:00\", \"count\": 13}, {\"date\": \"2019-02-17T00:00:00\", \"count\": 13}, {\"date\": \"2018-12-24T00:00:00\", \"count\": 13}, {\"date\": \"2019-01-22T00:00:00\", \"count\": 13}, {\"date\": \"2019-01-10T00:00:00\", \"count\": 13}, {\"date\": \"2018-11-09T00:00:00\", \"count\": 13}, {\"date\": \"2019-02-11T00:00:00\", \"count\": 13}, {\"date\": \"2018-12-13T00:00:00\", \"count\": 13}, {\"date\": \"2018-09-25T00:00:00\", \"count\": 13}, {\"date\": \"2020-10-06T00:00:00\", \"count\": 13}, {\"date\": \"2018-09-09T00:00:00\", \"count\": 13}, {\"date\": \"2020-02-22T00:00:00\", \"count\": 13}, {\"date\": \"2018-02-20T00:00:00\", \"count\": 13}, {\"date\": \"2019-10-24T00:00:00\", \"count\": 13}, {\"date\": \"2019-03-02T00:00:00\", \"count\": 13}, {\"date\": \"2017-12-18T00:00:00\", \"count\": 13}, {\"date\": \"2018-11-13T00:00:00\", \"count\": 13}, {\"date\": \"2017-11-02T00:00:00\", \"count\": 13}, {\"date\": \"2019-12-25T00:00:00\", \"count\": 13}, {\"date\": \"2017-09-15T00:00:00\", \"count\": 13}, {\"date\": \"2020-02-06T00:00:00\", \"count\": 13}, {\"date\": \"2017-08-09T00:00:00\", \"count\": 13}, {\"date\": \"2019-08-10T00:00:00\", \"count\": 13}, {\"date\": \"2017-07-29T00:00:00\", \"count\": 13}, {\"date\": \"2017-07-14T00:00:00\", \"count\": 13}, {\"date\": \"2017-07-12T00:00:00\", \"count\": 13}, {\"date\": \"2020-04-07T00:00:00\", \"count\": 13}, {\"date\": \"2017-06-29T00:00:00\", \"count\": 13}, {\"date\": \"2020-06-08T00:00:00\", \"count\": 13}, {\"date\": \"2020-06-14T00:00:00\", \"count\": 13}, {\"date\": \"2020-07-21T00:00:00\", \"count\": 13}, {\"date\": \"2020-08-11T00:00:00\", \"count\": 13}, {\"date\": \"2019-08-12T00:00:00\", \"count\": 13}, {\"date\": \"2018-11-21T00:00:00\", \"count\": 13}, {\"date\": \"2019-07-18T00:00:00\", \"count\": 13}, {\"date\": \"2018-04-19T00:00:00\", \"count\": 13}, {\"date\": \"2018-04-27T00:00:00\", \"count\": 13}, {\"date\": \"2018-08-20T00:00:00\", \"count\": 13}, {\"date\": \"2018-05-04T00:00:00\", \"count\": 13}, {\"date\": \"2019-06-24T00:00:00\", \"count\": 13}, {\"date\": \"2019-06-14T00:00:00\", \"count\": 13}, {\"date\": \"2019-03-19T00:00:00\", \"count\": 13}, {\"date\": \"2018-07-18T00:00:00\", \"count\": 13}, {\"date\": \"2018-06-13T00:00:00\", \"count\": 13}, {\"date\": \"2019-04-19T00:00:00\", \"count\": 13}, {\"date\": \"2019-04-08T00:00:00\", \"count\": 13}, {\"date\": \"2019-05-09T00:00:00\", \"count\": 13}, {\"date\": \"2019-04-29T00:00:00\", \"count\": 13}, {\"date\": \"2018-08-04T00:00:00\", \"count\": 13}, {\"date\": \"2019-04-11T00:00:00\", \"count\": 12}, {\"date\": \"2019-03-26T00:00:00\", \"count\": 12}, {\"date\": \"2018-12-03T00:00:00\", \"count\": 12}, {\"date\": \"2020-05-08T00:00:00\", \"count\": 12}, {\"date\": \"2020-06-15T00:00:00\", \"count\": 12}, {\"date\": \"2020-07-22T00:00:00\", \"count\": 12}, {\"date\": \"2019-04-13T00:00:00\", \"count\": 12}, {\"date\": \"2020-03-06T00:00:00\", \"count\": 12}, {\"date\": \"2018-12-08T00:00:00\", \"count\": 12}, {\"date\": \"2020-03-30T00:00:00\", \"count\": 12}, {\"date\": \"2020-02-29T00:00:00\", \"count\": 12}, {\"date\": \"2020-02-23T00:00:00\", \"count\": 12}, {\"date\": \"2019-05-02T00:00:00\", \"count\": 12}, {\"date\": \"2019-01-27T00:00:00\", \"count\": 12}, {\"date\": \"2019-01-26T00:00:00\", \"count\": 12}, {\"date\": \"2019-12-24T00:00:00\", \"count\": 12}, {\"date\": \"2018-12-27T00:00:00\", \"count\": 12}, {\"date\": \"2019-05-31T00:00:00\", \"count\": 12}, {\"date\": \"2019-09-19T00:00:00\", \"count\": 12}, {\"date\": \"2019-11-07T00:00:00\", \"count\": 12}, {\"date\": \"2017-01-20T00:00:00\", \"count\": 12}, {\"date\": \"2018-07-14T00:00:00\", \"count\": 12}, {\"date\": \"2018-04-11T00:00:00\", \"count\": 12}, {\"date\": \"2018-09-26T00:00:00\", \"count\": 12}, {\"date\": \"2018-07-23T00:00:00\", \"count\": 12}, {\"date\": \"2018-06-27T00:00:00\", \"count\": 12}, {\"date\": \"2018-10-26T00:00:00\", \"count\": 12}, {\"date\": \"2017-06-06T00:00:00\", \"count\": 12}, {\"date\": \"2017-08-14T00:00:00\", \"count\": 12}, {\"date\": \"2018-06-19T00:00:00\", \"count\": 12}, {\"date\": \"2017-06-26T00:00:00\", \"count\": 12}, {\"date\": \"2018-10-03T00:00:00\", \"count\": 12}, {\"date\": \"2018-10-04T00:00:00\", \"count\": 12}, {\"date\": \"2017-10-05T00:00:00\", \"count\": 12}, {\"date\": \"2017-05-04T00:00:00\", \"count\": 12}, {\"date\": \"2017-04-27T00:00:00\", \"count\": 12}, {\"date\": \"2017-10-07T00:00:00\", \"count\": 12}, {\"date\": \"2018-11-02T00:00:00\", \"count\": 12}, {\"date\": \"2018-01-15T00:00:00\", \"count\": 12}, {\"date\": \"2017-07-01T00:00:00\", \"count\": 12}, {\"date\": \"2018-09-05T00:00:00\", \"count\": 12}, {\"date\": \"2018-10-13T00:00:00\", \"count\": 12}, {\"date\": \"2017-07-03T00:00:00\", \"count\": 12}, {\"date\": \"2018-08-14T00:00:00\", \"count\": 12}, {\"date\": \"2018-05-31T00:00:00\", \"count\": 12}, {\"date\": \"2017-11-22T00:00:00\", \"count\": 12}, {\"date\": \"2018-08-18T00:00:00\", \"count\": 12}, {\"date\": \"2017-12-09T00:00:00\", \"count\": 12}, {\"date\": \"2018-07-19T00:00:00\", \"count\": 12}, {\"date\": \"2017-07-26T00:00:00\", \"count\": 11}, {\"date\": \"2017-11-30T00:00:00\", \"count\": 11}, {\"date\": \"2019-04-16T00:00:00\", \"count\": 11}, {\"date\": \"2018-03-01T00:00:00\", \"count\": 11}, {\"date\": \"2017-08-27T00:00:00\", \"count\": 11}, {\"date\": \"2017-07-27T00:00:00\", \"count\": 11}, {\"date\": \"2019-08-29T00:00:00\", \"count\": 11}, {\"date\": \"2019-01-21T00:00:00\", \"count\": 11}, {\"date\": \"2017-07-24T00:00:00\", \"count\": 11}, {\"date\": \"2019-04-04T00:00:00\", \"count\": 11}, {\"date\": \"2019-02-16T00:00:00\", \"count\": 11}, {\"date\": \"2017-12-07T00:00:00\", \"count\": 11}, {\"date\": \"2018-08-21T00:00:00\", \"count\": 11}, {\"date\": \"2019-03-15T00:00:00\", \"count\": 11}, {\"date\": \"2017-12-22T00:00:00\", \"count\": 11}, {\"date\": \"2019-03-22T00:00:00\", \"count\": 11}, {\"date\": \"2018-09-15T00:00:00\", \"count\": 11}, {\"date\": \"2017-10-17T00:00:00\", \"count\": 11}, {\"date\": \"2017-10-08T00:00:00\", \"count\": 11}, {\"date\": \"2019-01-30T00:00:00\", \"count\": 11}, {\"date\": \"2017-10-03T00:00:00\", \"count\": 11}, {\"date\": \"2019-04-02T00:00:00\", \"count\": 11}, {\"date\": \"2017-09-22T00:00:00\", \"count\": 11}, {\"date\": \"2017-09-19T00:00:00\", \"count\": 11}, {\"date\": \"2018-03-10T00:00:00\", \"count\": 11}, {\"date\": \"2018-02-18T00:00:00\", \"count\": 11}, {\"date\": \"2017-09-07T00:00:00\", \"count\": 11}, {\"date\": \"2017-09-14T00:00:00\", \"count\": 11}, {\"date\": \"2017-11-23T00:00:00\", \"count\": 11}, {\"date\": \"2020-04-03T00:00:00\", \"count\": 11}, {\"date\": \"2020-07-12T00:00:00\", \"count\": 11}, {\"date\": \"2018-06-28T00:00:00\", \"count\": 11}, {\"date\": \"2018-12-11T00:00:00\", \"count\": 11}, {\"date\": \"2018-05-07T00:00:00\", \"count\": 11}, {\"date\": \"2019-04-26T00:00:00\", \"count\": 11}, {\"date\": \"2017-05-10T00:00:00\", \"count\": 11}, {\"date\": \"2019-06-17T00:00:00\", \"count\": 11}, {\"date\": \"2018-12-04T00:00:00\", \"count\": 11}, {\"date\": \"2018-05-17T00:00:00\", \"count\": 11}, {\"date\": \"2020-07-18T00:00:00\", \"count\": 11}, {\"date\": \"2019-06-29T00:00:00\", \"count\": 11}, {\"date\": \"2018-11-26T00:00:00\", \"count\": 11}, {\"date\": \"2018-11-25T00:00:00\", \"count\": 11}, {\"date\": \"2018-05-18T00:00:00\", \"count\": 11}, {\"date\": \"2019-06-05T00:00:00\", \"count\": 11}, {\"date\": \"2017-02-15T00:00:00\", \"count\": 11}, {\"date\": \"2017-02-11T00:00:00\", \"count\": 11}, {\"date\": \"2017-02-08T00:00:00\", \"count\": 11}, {\"date\": \"2020-09-19T00:00:00\", \"count\": 11}, {\"date\": \"2018-12-16T00:00:00\", \"count\": 11}, {\"date\": \"2019-06-19T00:00:00\", \"count\": 11}, {\"date\": \"2017-06-13T00:00:00\", \"count\": 11}, {\"date\": \"2017-07-09T00:00:00\", \"count\": 11}, {\"date\": \"2017-06-27T00:00:00\", \"count\": 11}, {\"date\": \"2019-07-08T00:00:00\", \"count\": 11}, {\"date\": \"2017-06-20T00:00:00\", \"count\": 11}, {\"date\": \"2020-04-15T00:00:00\", \"count\": 11}, {\"date\": \"2019-08-08T00:00:00\", \"count\": 11}, {\"date\": \"2018-12-19T00:00:00\", \"count\": 11}, {\"date\": \"2018-05-24T00:00:00\", \"count\": 10}, {\"date\": \"2019-08-26T00:00:00\", \"count\": 10}, {\"date\": \"2018-04-20T00:00:00\", \"count\": 10}, {\"date\": \"2018-08-27T00:00:00\", \"count\": 10}, {\"date\": \"2018-05-21T00:00:00\", \"count\": 10}, {\"date\": \"2018-04-12T00:00:00\", \"count\": 10}, {\"date\": \"2017-12-03T00:00:00\", \"count\": 10}, {\"date\": \"2019-05-28T00:00:00\", \"count\": 10}, {\"date\": \"2019-03-20T00:00:00\", \"count\": 10}, {\"date\": \"2017-12-28T00:00:00\", \"count\": 10}, {\"date\": \"2018-06-09T00:00:00\", \"count\": 10}, {\"date\": \"2019-04-14T00:00:00\", \"count\": 10}, {\"date\": \"2018-04-24T00:00:00\", \"count\": 10}, {\"date\": \"2018-08-06T00:00:00\", \"count\": 10}, {\"date\": \"2018-01-13T00:00:00\", \"count\": 10}, {\"date\": \"2018-08-11T00:00:00\", \"count\": 10}, {\"date\": \"2018-05-16T00:00:00\", \"count\": 10}, {\"date\": \"2018-05-02T00:00:00\", \"count\": 10}, {\"date\": \"2018-07-26T00:00:00\", \"count\": 10}, {\"date\": \"2019-03-29T00:00:00\", \"count\": 10}, {\"date\": \"2019-09-20T00:00:00\", \"count\": 10}, {\"date\": \"2018-02-27T00:00:00\", \"count\": 10}, {\"date\": \"2018-08-02T00:00:00\", \"count\": 10}, {\"date\": \"2019-06-21T00:00:00\", \"count\": 10}, {\"date\": \"2018-08-05T00:00:00\", \"count\": 10}, {\"date\": \"2018-02-22T00:00:00\", \"count\": 10}, {\"date\": \"2019-02-19T00:00:00\", \"count\": 10}, {\"date\": \"2018-05-26T00:00:00\", \"count\": 10}, {\"date\": \"2017-08-03T00:00:00\", \"count\": 10}, {\"date\": \"2018-12-14T00:00:00\", \"count\": 10}, {\"date\": \"2017-05-31T00:00:00\", \"count\": 10}, {\"date\": \"2017-09-06T00:00:00\", \"count\": 10}, {\"date\": \"2020-02-13T00:00:00\", \"count\": 10}, {\"date\": \"2017-09-02T00:00:00\", \"count\": 10}, {\"date\": \"2019-01-24T00:00:00\", \"count\": 10}, {\"date\": \"2020-02-27T00:00:00\", \"count\": 10}, {\"date\": \"2017-08-18T00:00:00\", \"count\": 10}, {\"date\": \"2017-08-17T00:00:00\", \"count\": 10}, {\"date\": \"2020-05-07T00:00:00\", \"count\": 10}, {\"date\": \"2017-05-08T00:00:00\", \"count\": 10}, {\"date\": \"2018-09-06T00:00:00\", \"count\": 10}, {\"date\": \"2019-01-11T00:00:00\", \"count\": 10}, {\"date\": \"2018-12-22T00:00:00\", \"count\": 10}, {\"date\": \"2018-10-20T00:00:00\", \"count\": 10}, {\"date\": \"2018-10-19T00:00:00\", \"count\": 10}, {\"date\": \"2018-10-15T00:00:00\", \"count\": 10}, {\"date\": \"2017-06-28T00:00:00\", \"count\": 10}, {\"date\": \"2017-07-10T00:00:00\", \"count\": 10}, {\"date\": \"2017-05-12T00:00:00\", \"count\": 10}, {\"date\": \"2017-09-24T00:00:00\", \"count\": 10}, {\"date\": \"2017-02-04T00:00:00\", \"count\": 10}, {\"date\": \"2017-10-19T00:00:00\", \"count\": 10}, {\"date\": \"2018-09-07T00:00:00\", \"count\": 10}, {\"date\": \"2019-03-01T00:00:00\", \"count\": 10}, {\"date\": \"2018-11-07T00:00:00\", \"count\": 10}, {\"date\": \"2017-10-10T00:00:00\", \"count\": 10}, {\"date\": \"2019-02-24T00:00:00\", \"count\": 10}, {\"date\": \"2017-10-12T00:00:00\", \"count\": 10}, {\"date\": \"2018-09-08T00:00:00\", \"count\": 10}, {\"date\": \"2017-09-28T00:00:00\", \"count\": 10}, {\"date\": \"2018-05-28T00:00:00\", \"count\": 10}, {\"date\": \"2017-03-03T00:00:00\", \"count\": 9}, {\"date\": \"2018-05-15T00:00:00\", \"count\": 9}, {\"date\": \"2017-02-17T00:00:00\", \"count\": 9}, {\"date\": \"2017-06-16T00:00:00\", \"count\": 9}, {\"date\": \"2018-04-15T00:00:00\", \"count\": 9}, {\"date\": \"2020-10-04T00:00:00\", \"count\": 9}, {\"date\": \"2017-03-15T00:00:00\", \"count\": 9}, {\"date\": \"2018-05-20T00:00:00\", \"count\": 9}, {\"date\": \"2020-05-06T00:00:00\", \"count\": 9}, {\"date\": \"2019-06-06T00:00:00\", \"count\": 9}, {\"date\": \"2017-03-17T00:00:00\", \"count\": 9}, {\"date\": \"2017-06-05T00:00:00\", \"count\": 9}, {\"date\": \"2017-06-02T00:00:00\", \"count\": 9}, {\"date\": \"2017-03-30T00:00:00\", \"count\": 9}, {\"date\": \"2018-05-09T00:00:00\", \"count\": 9}, {\"date\": \"2018-03-28T00:00:00\", \"count\": 9}, {\"date\": \"2017-04-26T00:00:00\", \"count\": 9}, {\"date\": \"2019-08-02T00:00:00\", \"count\": 9}, {\"date\": \"2019-11-27T00:00:00\", \"count\": 9}, {\"date\": \"2020-04-14T00:00:00\", \"count\": 9}, {\"date\": \"2018-02-17T00:00:00\", \"count\": 9}, {\"date\": \"2017-12-08T00:00:00\", \"count\": 9}, {\"date\": \"2017-11-13T00:00:00\", \"count\": 9}, {\"date\": \"2017-12-15T00:00:00\", \"count\": 9}, {\"date\": \"2017-11-06T00:00:00\", \"count\": 9}, {\"date\": \"2019-11-08T00:00:00\", \"count\": 9}, {\"date\": \"2019-12-22T00:00:00\", \"count\": 9}, {\"date\": \"2017-10-28T00:00:00\", \"count\": 9}, {\"date\": \"2017-10-26T00:00:00\", \"count\": 9}, {\"date\": \"2017-10-14T00:00:00\", \"count\": 9}, {\"date\": \"2018-01-16T00:00:00\", \"count\": 9}, {\"date\": \"2018-01-18T00:00:00\", \"count\": 9}, {\"date\": \"2018-02-10T00:00:00\", \"count\": 9}, {\"date\": \"2017-09-27T00:00:00\", \"count\": 9}, {\"date\": \"2017-09-10T00:00:00\", \"count\": 9}, {\"date\": \"2019-08-11T00:00:00\", \"count\": 9}, {\"date\": \"2019-09-13T00:00:00\", \"count\": 9}, {\"date\": \"2017-09-01T00:00:00\", \"count\": 9}, {\"date\": \"2018-02-23T00:00:00\", \"count\": 9}, {\"date\": \"2017-08-11T00:00:00\", \"count\": 9}, {\"date\": \"2017-08-08T00:00:00\", \"count\": 9}, {\"date\": \"2017-08-05T00:00:00\", \"count\": 9}, {\"date\": \"2018-03-06T00:00:00\", \"count\": 9}, {\"date\": \"2020-03-20T00:00:00\", \"count\": 9}, {\"date\": \"2020-03-26T00:00:00\", \"count\": 9}, {\"date\": \"2018-03-13T00:00:00\", \"count\": 9}, {\"date\": \"2017-07-16T00:00:00\", \"count\": 9}, {\"date\": \"2018-03-14T00:00:00\", \"count\": 9}, {\"date\": \"2018-03-21T00:00:00\", \"count\": 9}, {\"date\": \"2018-11-12T00:00:00\", \"count\": 9}, {\"date\": \"2018-12-05T00:00:00\", \"count\": 9}, {\"date\": \"2018-11-01T00:00:00\", \"count\": 9}, {\"date\": \"2018-07-05T00:00:00\", \"count\": 9}, {\"date\": \"2018-10-08T00:00:00\", \"count\": 9}, {\"date\": \"2018-11-16T00:00:00\", \"count\": 9}, {\"date\": \"2019-05-06T00:00:00\", \"count\": 9}, {\"date\": \"2018-10-05T00:00:00\", \"count\": 9}, {\"date\": \"2018-08-07T00:00:00\", \"count\": 9}, {\"date\": \"2019-02-20T00:00:00\", \"count\": 9}, {\"date\": \"2019-04-10T00:00:00\", \"count\": 9}, {\"date\": \"2018-07-07T00:00:00\", \"count\": 9}, {\"date\": \"2018-09-12T00:00:00\", \"count\": 9}, {\"date\": \"2018-11-27T00:00:00\", \"count\": 9}, {\"date\": \"2019-04-21T00:00:00\", \"count\": 9}, {\"date\": \"2019-02-07T00:00:00\", \"count\": 9}, {\"date\": \"2019-02-08T00:00:00\", \"count\": 9}, {\"date\": \"2019-04-30T00:00:00\", \"count\": 9}, {\"date\": \"2019-02-12T00:00:00\", \"count\": 9}, {\"date\": \"2018-07-12T00:00:00\", \"count\": 9}, {\"date\": \"2018-11-15T00:00:00\", \"count\": 9}, {\"date\": \"2018-07-09T00:00:00\", \"count\": 9}, {\"date\": \"2018-08-23T00:00:00\", \"count\": 9}, {\"date\": \"2018-06-06T00:00:00\", \"count\": 9}, {\"date\": \"2018-12-29T00:00:00\", \"count\": 9}, {\"date\": \"2018-08-25T00:00:00\", \"count\": 9}, {\"date\": \"2018-02-28T00:00:00\", \"count\": 8}, {\"date\": \"2018-07-22T00:00:00\", \"count\": 8}, {\"date\": \"2018-03-02T00:00:00\", \"count\": 8}, {\"date\": \"2018-10-23T00:00:00\", \"count\": 8}, {\"date\": \"2017-07-11T00:00:00\", \"count\": 8}, {\"date\": \"2018-09-16T00:00:00\", \"count\": 8}, {\"date\": \"2017-04-01T00:00:00\", \"count\": 8}, {\"date\": \"2018-10-14T00:00:00\", \"count\": 8}, {\"date\": \"2018-07-17T00:00:00\", \"count\": 8}, {\"date\": \"2018-01-10T00:00:00\", \"count\": 8}, {\"date\": \"2019-01-17T00:00:00\", \"count\": 8}, {\"date\": \"2017-03-20T00:00:00\", \"count\": 8}, {\"date\": \"2019-02-13T00:00:00\", \"count\": 8}, {\"date\": \"2018-08-26T00:00:00\", \"count\": 8}, {\"date\": \"2018-11-22T00:00:00\", \"count\": 8}, {\"date\": \"2019-01-03T00:00:00\", \"count\": 8}, {\"date\": \"2018-08-31T00:00:00\", \"count\": 8}, {\"date\": \"2020-01-19T00:00:00\", \"count\": 8}, {\"date\": \"2018-10-01T00:00:00\", \"count\": 8}, {\"date\": \"2019-02-14T00:00:00\", \"count\": 8}, {\"date\": \"2018-10-24T00:00:00\", \"count\": 8}, {\"date\": \"2018-10-30T00:00:00\", \"count\": 8}, {\"date\": \"2019-04-07T00:00:00\", \"count\": 8}, {\"date\": \"2018-08-10T00:00:00\", \"count\": 8}, {\"date\": \"2019-03-27T00:00:00\", \"count\": 8}, {\"date\": \"2018-01-17T00:00:00\", \"count\": 8}, {\"date\": \"2018-12-06T00:00:00\", \"count\": 8}, {\"date\": \"2017-05-05T00:00:00\", \"count\": 8}, {\"date\": \"2017-08-30T00:00:00\", \"count\": 8}, {\"date\": \"2020-06-17T00:00:00\", \"count\": 8}, {\"date\": \"2017-12-31T00:00:00\", \"count\": 8}, {\"date\": \"2020-06-21T00:00:00\", \"count\": 8}, {\"date\": \"2017-12-29T00:00:00\", \"count\": 8}, {\"date\": \"2017-06-09T00:00:00\", \"count\": 8}, {\"date\": \"2017-10-24T00:00:00\", \"count\": 8}, {\"date\": \"2019-08-09T00:00:00\", \"count\": 8}, {\"date\": \"2017-04-21T00:00:00\", \"count\": 8}, {\"date\": \"2017-04-17T00:00:00\", \"count\": 8}, {\"date\": \"2017-07-28T00:00:00\", \"count\": 8}, {\"date\": \"2017-11-11T00:00:00\", \"count\": 8}, {\"date\": \"2019-09-17T00:00:00\", \"count\": 8}, {\"date\": \"2017-06-11T00:00:00\", \"count\": 8}, {\"date\": \"2019-02-27T00:00:00\", \"count\": 8}, {\"date\": \"2017-11-16T00:00:00\", \"count\": 8}, {\"date\": \"2018-10-06T00:00:00\", \"count\": 8}, {\"date\": \"2020-04-16T00:00:00\", \"count\": 8}, {\"date\": \"2017-02-03T00:00:00\", \"count\": 8}, {\"date\": \"2018-11-19T00:00:00\", \"count\": 8}, {\"date\": \"2018-04-25T00:00:00\", \"count\": 8}, {\"date\": \"2018-04-22T00:00:00\", \"count\": 8}, {\"date\": \"2019-07-05T00:00:00\", \"count\": 8}, {\"date\": \"2018-04-16T00:00:00\", \"count\": 8}, {\"date\": \"2019-05-15T00:00:00\", \"count\": 8}, {\"date\": \"2018-11-18T00:00:00\", \"count\": 8}, {\"date\": \"2017-08-19T00:00:00\", \"count\": 8}, {\"date\": \"2017-01-30T00:00:00\", \"count\": 8}, {\"date\": \"2017-09-18T00:00:00\", \"count\": 8}, {\"date\": \"2018-04-08T00:00:00\", \"count\": 8}, {\"date\": \"2019-02-01T00:00:00\", \"count\": 8}, {\"date\": \"2019-05-29T00:00:00\", \"count\": 8}, {\"date\": \"2018-06-18T00:00:00\", \"count\": 8}, {\"date\": \"2019-01-23T00:00:00\", \"count\": 8}, {\"date\": \"2017-08-26T00:00:00\", \"count\": 8}, {\"date\": \"2018-06-08T00:00:00\", \"count\": 8}, {\"date\": \"2019-05-26T00:00:00\", \"count\": 8}, {\"date\": \"2018-03-25T00:00:00\", \"count\": 8}, {\"date\": \"2017-08-12T00:00:00\", \"count\": 8}, {\"date\": \"2018-06-24T00:00:00\", \"count\": 8}, {\"date\": \"2017-01-25T00:00:00\", \"count\": 8}, {\"date\": \"2017-10-01T00:00:00\", \"count\": 8}, {\"date\": \"2019-05-16T00:00:00\", \"count\": 8}, {\"date\": \"2017-01-24T00:00:00\", \"count\": 8}, {\"date\": \"2018-04-03T00:00:00\", \"count\": 8}, {\"date\": \"2017-08-22T00:00:00\", \"count\": 8}, {\"date\": \"2018-01-12T00:00:00\", \"count\": 7}, {\"date\": \"2018-05-08T00:00:00\", \"count\": 7}, {\"date\": \"2017-08-23T00:00:00\", \"count\": 7}, {\"date\": \"2018-01-19T00:00:00\", \"count\": 7}, {\"date\": \"2017-11-04T00:00:00\", \"count\": 7}, {\"date\": \"2018-01-14T00:00:00\", \"count\": 7}, {\"date\": \"2019-01-07T00:00:00\", \"count\": 7}, {\"date\": \"2017-01-29T00:00:00\", \"count\": 7}, {\"date\": \"2018-11-11T00:00:00\", \"count\": 7}, {\"date\": \"2019-02-26T00:00:00\", \"count\": 7}, {\"date\": \"2017-07-21T00:00:00\", \"count\": 7}, {\"date\": \"2017-11-10T00:00:00\", \"count\": 7}, {\"date\": \"2019-03-21T00:00:00\", \"count\": 7}, {\"date\": \"2018-06-10T00:00:00\", \"count\": 7}, {\"date\": \"2019-11-28T00:00:00\", \"count\": 7}, {\"date\": \"2018-05-29T00:00:00\", \"count\": 7}, {\"date\": \"2017-12-01T00:00:00\", \"count\": 7}, {\"date\": \"2017-12-02T00:00:00\", \"count\": 7}, {\"date\": \"2019-02-28T00:00:00\", \"count\": 7}, {\"date\": \"2017-06-18T00:00:00\", \"count\": 7}, {\"date\": \"2017-12-14T00:00:00\", \"count\": 7}, {\"date\": \"2018-06-14T00:00:00\", \"count\": 7}, {\"date\": \"2017-05-27T00:00:00\", \"count\": 7}, {\"date\": \"2017-01-26T00:00:00\", \"count\": 7}, {\"date\": \"2017-07-15T00:00:00\", \"count\": 7}, {\"date\": \"2017-01-27T00:00:00\", \"count\": 7}, {\"date\": \"2018-01-26T00:00:00\", \"count\": 7}, {\"date\": \"2019-01-06T00:00:00\", \"count\": 7}, {\"date\": \"2017-09-08T00:00:00\", \"count\": 7}, {\"date\": \"2017-07-18T00:00:00\", \"count\": 7}, {\"date\": \"2018-01-23T00:00:00\", \"count\": 7}, {\"date\": \"2017-03-07T00:00:00\", \"count\": 7}, {\"date\": \"2019-06-27T00:00:00\", \"count\": 7}, {\"date\": \"2020-01-04T00:00:00\", \"count\": 7}, {\"date\": \"2017-10-20T00:00:00\", \"count\": 7}, {\"date\": \"2018-11-17T00:00:00\", \"count\": 7}, {\"date\": \"2017-02-09T00:00:00\", \"count\": 7}, {\"date\": \"2017-02-12T00:00:00\", \"count\": 7}, {\"date\": \"2019-04-17T00:00:00\", \"count\": 7}, {\"date\": \"2018-04-07T00:00:00\", \"count\": 7}, {\"date\": \"2018-07-21T00:00:00\", \"count\": 7}, {\"date\": \"2017-10-16T00:00:00\", \"count\": 7}, {\"date\": \"2018-04-06T00:00:00\", \"count\": 7}, {\"date\": \"2018-03-12T00:00:00\", \"count\": 7}, {\"date\": \"2018-07-16T00:00:00\", \"count\": 7}, {\"date\": \"2017-08-15T00:00:00\", \"count\": 7}, {\"date\": \"2020-01-15T00:00:00\", \"count\": 7}, {\"date\": \"2019-01-19T00:00:00\", \"count\": 7}, {\"date\": \"2018-09-19T00:00:00\", \"count\": 7}, {\"date\": \"2018-11-10T00:00:00\", \"count\": 7}, {\"date\": \"2017-03-04T00:00:00\", \"count\": 7}, {\"date\": \"2017-02-06T00:00:00\", \"count\": 7}, {\"date\": \"2017-04-03T00:00:00\", \"count\": 7}, {\"date\": \"2020-07-05T00:00:00\", \"count\": 7}, {\"date\": \"2018-05-01T00:00:00\", \"count\": 7}, {\"date\": \"2017-10-04T00:00:00\", \"count\": 7}, {\"date\": \"2019-02-21T00:00:00\", \"count\": 7}, {\"date\": \"2019-06-30T00:00:00\", \"count\": 7}, {\"date\": \"2018-02-03T00:00:00\", \"count\": 7}, {\"date\": \"2018-02-15T00:00:00\", \"count\": 7}, {\"date\": \"2018-02-06T00:00:00\", \"count\": 7}, {\"date\": \"2017-04-24T00:00:00\", \"count\": 7}, {\"date\": \"2017-03-31T00:00:00\", \"count\": 7}, {\"date\": \"2017-04-23T00:00:00\", \"count\": 7}, {\"date\": \"2018-04-30T00:00:00\", \"count\": 7}, {\"date\": \"2018-04-28T00:00:00\", \"count\": 7}, {\"date\": \"2017-04-18T00:00:00\", \"count\": 7}, {\"date\": \"2017-04-22T00:00:00\", \"count\": 7}, {\"date\": \"2017-10-09T00:00:00\", \"count\": 6}, {\"date\": \"2017-07-23T00:00:00\", \"count\": 6}, {\"date\": \"2017-07-07T00:00:00\", \"count\": 6}, {\"date\": \"2017-10-29T00:00:00\", \"count\": 6}, {\"date\": \"2019-02-22T00:00:00\", \"count\": 6}, {\"date\": \"2017-08-29T00:00:00\", \"count\": 6}, {\"date\": \"2017-11-24T00:00:00\", \"count\": 6}, {\"date\": \"2017-09-05T00:00:00\", \"count\": 6}, {\"date\": \"2017-09-13T00:00:00\", \"count\": 6}, {\"date\": \"2019-01-04T00:00:00\", \"count\": 6}, {\"date\": \"2017-11-19T00:00:00\", \"count\": 6}, {\"date\": \"2017-08-21T00:00:00\", \"count\": 6}, {\"date\": \"2019-02-05T00:00:00\", \"count\": 6}, {\"date\": \"2017-09-21T00:00:00\", \"count\": 6}, {\"date\": \"2017-08-10T00:00:00\", \"count\": 6}, {\"date\": \"2018-10-11T00:00:00\", \"count\": 6}, {\"date\": \"2019-01-08T00:00:00\", \"count\": 6}, {\"date\": \"2017-12-30T00:00:00\", \"count\": 6}, {\"date\": \"2018-02-21T00:00:00\", \"count\": 6}, {\"date\": \"2017-04-28T00:00:00\", \"count\": 6}, {\"date\": \"2018-02-08T00:00:00\", \"count\": 6}, {\"date\": \"2020-06-26T00:00:00\", \"count\": 6}, {\"date\": \"2017-04-16T00:00:00\", \"count\": 6}, {\"date\": \"2017-04-12T00:00:00\", \"count\": 6}, {\"date\": \"2017-04-11T00:00:00\", \"count\": 6}, {\"date\": \"2018-03-08T00:00:00\", \"count\": 6}, {\"date\": \"2017-03-28T00:00:00\", \"count\": 6}, {\"date\": \"2018-03-15T00:00:00\", \"count\": 6}, {\"date\": \"2018-03-22T00:00:00\", \"count\": 6}, {\"date\": \"2018-03-23T00:00:00\", \"count\": 6}, {\"date\": \"2017-03-06T00:00:00\", \"count\": 6}, {\"date\": \"2017-02-25T00:00:00\", \"count\": 6}, {\"date\": \"2017-02-16T00:00:00\", \"count\": 6}, {\"date\": \"2018-04-04T00:00:00\", \"count\": 6}, {\"date\": \"2018-04-10T00:00:00\", \"count\": 6}, {\"date\": \"2018-04-13T00:00:00\", \"count\": 6}, {\"date\": \"2018-04-29T00:00:00\", \"count\": 6}, {\"date\": \"2018-05-03T00:00:00\", \"count\": 6}, {\"date\": \"2017-02-02T00:00:00\", \"count\": 6}, {\"date\": \"2018-06-16T00:00:00\", \"count\": 6}, {\"date\": \"2018-05-14T00:00:00\", \"count\": 6}, {\"date\": \"2018-06-11T00:00:00\", \"count\": 6}, {\"date\": \"2018-06-01T00:00:00\", \"count\": 6}, {\"date\": \"2018-02-05T00:00:00\", \"count\": 6}, {\"date\": \"2019-01-28T00:00:00\", \"count\": 6}, {\"date\": \"2019-10-27T00:00:00\", \"count\": 6}, {\"date\": \"2017-05-30T00:00:00\", \"count\": 6}, {\"date\": \"2018-12-17T00:00:00\", \"count\": 6}, {\"date\": \"2017-05-07T00:00:00\", \"count\": 6}, {\"date\": \"2019-03-06T00:00:00\", \"count\": 6}, {\"date\": \"2018-08-09T00:00:00\", \"count\": 6}, {\"date\": \"2017-06-30T00:00:00\", \"count\": 6}, {\"date\": \"2018-08-19T00:00:00\", \"count\": 6}, {\"date\": \"2017-12-23T00:00:00\", \"count\": 6}, {\"date\": \"2017-06-15T00:00:00\", \"count\": 6}, {\"date\": \"2017-12-12T00:00:00\", \"count\": 6}, {\"date\": \"2017-12-24T00:00:00\", \"count\": 6}, {\"date\": \"2020-04-01T00:00:00\", \"count\": 5}, {\"date\": \"2017-02-13T00:00:00\", \"count\": 5}, {\"date\": \"2018-09-29T00:00:00\", \"count\": 5}, {\"date\": \"2017-04-30T00:00:00\", \"count\": 5}, {\"date\": \"2017-02-05T00:00:00\", \"count\": 5}, {\"date\": \"2018-10-21T00:00:00\", \"count\": 5}, {\"date\": \"2017-02-24T00:00:00\", \"count\": 5}, {\"date\": \"2017-06-23T00:00:00\", \"count\": 5}, {\"date\": \"2017-06-24T00:00:00\", \"count\": 5}, {\"date\": \"2017-01-31T00:00:00\", \"count\": 5}, {\"date\": \"2018-12-28T00:00:00\", \"count\": 5}, {\"date\": \"2017-01-28T00:00:00\", \"count\": 5}, {\"date\": \"2017-07-08T00:00:00\", \"count\": 5}, {\"date\": \"2018-11-14T00:00:00\", \"count\": 5}, {\"date\": \"2017-02-20T00:00:00\", \"count\": 5}, {\"date\": \"2017-03-08T00:00:00\", \"count\": 5}, {\"date\": \"2017-06-12T00:00:00\", \"count\": 5}, {\"date\": \"2017-03-02T00:00:00\", \"count\": 5}, {\"date\": \"2017-05-02T00:00:00\", \"count\": 5}, {\"date\": \"2017-05-11T00:00:00\", \"count\": 5}, {\"date\": \"2017-08-02T00:00:00\", \"count\": 5}, {\"date\": \"2017-05-16T00:00:00\", \"count\": 5}, {\"date\": \"2020-07-07T00:00:00\", \"count\": 5}, {\"date\": \"2017-05-18T00:00:00\", \"count\": 5}, {\"date\": \"2017-07-06T00:00:00\", \"count\": 5}, {\"date\": \"2017-04-08T00:00:00\", \"count\": 5}, {\"date\": \"2020-07-19T00:00:00\", \"count\": 5}, {\"date\": \"2017-03-29T00:00:00\", \"count\": 5}, {\"date\": \"2020-03-08T00:00:00\", \"count\": 5}, {\"date\": \"2018-11-23T00:00:00\", \"count\": 5}, {\"date\": \"2017-03-16T00:00:00\", \"count\": 5}, {\"date\": \"2020-08-09T00:00:00\", \"count\": 5}, {\"date\": \"2017-03-13T00:00:00\", \"count\": 5}, {\"date\": \"2018-12-15T00:00:00\", \"count\": 5}, {\"date\": \"2017-04-25T00:00:00\", \"count\": 5}, {\"date\": \"2019-01-02T00:00:00\", \"count\": 5}, {\"date\": \"2018-05-27T00:00:00\", \"count\": 5}, {\"date\": \"2018-01-27T00:00:00\", \"count\": 5}, {\"date\": \"2020-01-02T00:00:00\", \"count\": 5}, {\"date\": \"2019-12-21T00:00:00\", \"count\": 5}, {\"date\": \"2017-11-08T00:00:00\", \"count\": 5}, {\"date\": \"2017-11-09T00:00:00\", \"count\": 5}, {\"date\": \"2017-11-14T00:00:00\", \"count\": 5}, {\"date\": \"2017-11-17T00:00:00\", \"count\": 5}, {\"date\": \"2017-11-25T00:00:00\", \"count\": 5}, {\"date\": \"2017-11-27T00:00:00\", \"count\": 5}, {\"date\": \"2018-07-08T00:00:00\", \"count\": 5}, {\"date\": \"2019-08-04T00:00:00\", \"count\": 5}, {\"date\": \"2018-03-26T00:00:00\", \"count\": 5}, {\"date\": \"2017-12-06T00:00:00\", \"count\": 5}, {\"date\": \"2019-03-11T00:00:00\", \"count\": 5}, {\"date\": \"2017-12-19T00:00:00\", \"count\": 5}, {\"date\": \"2017-12-20T00:00:00\", \"count\": 5}, {\"date\": \"2017-12-21T00:00:00\", \"count\": 5}, {\"date\": \"2018-03-11T00:00:00\", \"count\": 5}, {\"date\": \"2018-03-09T00:00:00\", \"count\": 5}, {\"date\": \"2018-03-07T00:00:00\", \"count\": 5}, {\"date\": \"2018-03-05T00:00:00\", \"count\": 5}, {\"date\": \"2018-01-09T00:00:00\", \"count\": 5}, {\"date\": \"2018-02-19T00:00:00\", \"count\": 5}, {\"date\": \"2018-08-08T00:00:00\", \"count\": 5}, {\"date\": \"2018-02-07T00:00:00\", \"count\": 5}, {\"date\": \"2019-12-30T00:00:00\", \"count\": 5}, {\"date\": \"2018-02-02T00:00:00\", \"count\": 5}, {\"date\": \"2019-06-23T00:00:00\", \"count\": 5}, {\"date\": \"2019-06-20T00:00:00\", \"count\": 5}, {\"date\": \"2018-06-03T00:00:00\", \"count\": 5}, {\"date\": \"2018-06-29T00:00:00\", \"count\": 5}, {\"date\": \"2018-07-01T00:00:00\", \"count\": 5}, {\"date\": \"2017-09-03T00:00:00\", \"count\": 5}, {\"date\": \"2018-05-22T00:00:00\", \"count\": 5}, {\"date\": \"2018-05-19T00:00:00\", \"count\": 5}, {\"date\": \"2018-05-13T00:00:00\", \"count\": 5}, {\"date\": \"2018-05-10T00:00:00\", \"count\": 5}, {\"date\": \"2017-09-12T00:00:00\", \"count\": 5}, {\"date\": \"2017-03-27T00:00:00\", \"count\": 4}, {\"date\": \"2017-09-09T00:00:00\", \"count\": 4}, {\"date\": \"2017-06-01T00:00:00\", \"count\": 4}, {\"date\": \"2018-12-09T00:00:00\", \"count\": 4}, {\"date\": \"2018-07-04T00:00:00\", \"count\": 4}, {\"date\": \"2017-06-03T00:00:00\", \"count\": 4}, {\"date\": \"2018-08-12T00:00:00\", \"count\": 4}, {\"date\": \"2017-03-23T00:00:00\", \"count\": 4}, {\"date\": \"2018-12-10T00:00:00\", \"count\": 4}, {\"date\": \"2017-03-25T00:00:00\", \"count\": 4}, {\"date\": \"2017-03-22T00:00:00\", \"count\": 4}, {\"date\": \"2017-05-29T00:00:00\", \"count\": 4}, {\"date\": \"2019-02-02T00:00:00\", \"count\": 4}, {\"date\": \"2017-03-24T00:00:00\", \"count\": 4}, {\"date\": \"2018-04-23T00:00:00\", \"count\": 4}, {\"date\": \"2017-05-25T00:00:00\", \"count\": 4}, {\"date\": \"2017-12-27T00:00:00\", \"count\": 4}, {\"date\": \"2017-05-26T00:00:00\", \"count\": 4}, {\"date\": \"2018-02-01T00:00:00\", \"count\": 4}, {\"date\": \"2017-01-22T00:00:00\", \"count\": 4}, {\"date\": \"2019-03-30T00:00:00\", \"count\": 4}, {\"date\": \"2018-02-11T00:00:00\", \"count\": 4}, {\"date\": \"2017-04-19T00:00:00\", \"count\": 4}, {\"date\": \"2018-02-14T00:00:00\", \"count\": 4}, {\"date\": \"2018-01-24T00:00:00\", \"count\": 4}, {\"date\": \"2017-04-13T00:00:00\", \"count\": 4}, {\"date\": \"2018-02-16T00:00:00\", \"count\": 4}, {\"date\": \"2018-01-22T00:00:00\", \"count\": 4}, {\"date\": \"2019-04-03T00:00:00\", \"count\": 4}, {\"date\": \"2017-04-04T00:00:00\", \"count\": 4}, {\"date\": \"2018-03-03T00:00:00\", \"count\": 4}, {\"date\": \"2017-04-02T00:00:00\", \"count\": 4}, {\"date\": \"2017-08-28T00:00:00\", \"count\": 4}, {\"date\": \"2017-05-23T00:00:00\", \"count\": 4}, {\"date\": \"2017-12-13T00:00:00\", \"count\": 4}, {\"date\": \"2018-03-17T00:00:00\", \"count\": 4}, {\"date\": \"2018-03-16T00:00:00\", \"count\": 4}, {\"date\": \"2017-07-13T00:00:00\", \"count\": 4}, {\"date\": \"2017-11-05T00:00:00\", \"count\": 4}, {\"date\": \"2019-06-28T00:00:00\", \"count\": 4}, {\"date\": \"2018-03-19T00:00:00\", \"count\": 4}, {\"date\": \"2017-11-12T00:00:00\", \"count\": 4}, {\"date\": \"2017-10-15T00:00:00\", \"count\": 4}, {\"date\": \"2018-04-01T00:00:00\", \"count\": 4}, {\"date\": \"2018-04-05T00:00:00\", \"count\": 4}, {\"date\": \"2017-10-30T00:00:00\", \"count\": 4}, {\"date\": \"2017-08-13T00:00:00\", \"count\": 4}, {\"date\": \"2017-02-14T00:00:00\", \"count\": 4}, {\"date\": \"2017-08-06T00:00:00\", \"count\": 4}, {\"date\": \"2018-04-09T00:00:00\", \"count\": 4}, {\"date\": \"2017-10-23T00:00:00\", \"count\": 4}, {\"date\": \"2017-02-07T00:00:00\", \"count\": 4}, {\"date\": \"2017-07-31T00:00:00\", \"count\": 4}, {\"date\": \"2018-03-29T00:00:00\", \"count\": 4}, {\"date\": \"2017-12-04T00:00:00\", \"count\": 4}, {\"date\": \"2017-11-26T00:00:00\", \"count\": 4}, {\"date\": \"2017-03-09T00:00:00\", \"count\": 4}, {\"date\": \"2018-05-11T00:00:00\", \"count\": 4}, {\"date\": \"2017-07-05T00:00:00\", \"count\": 4}, {\"date\": \"2017-02-26T00:00:00\", \"count\": 4}, {\"date\": \"2017-07-04T00:00:00\", \"count\": 4}, {\"date\": \"2019-12-01T00:00:00\", \"count\": 4}, {\"date\": \"2017-07-02T00:00:00\", \"count\": 4}, {\"date\": \"2020-08-21T00:00:00\", \"count\": 4}, {\"date\": \"2018-05-12T00:00:00\", \"count\": 3}, {\"date\": \"2019-03-31T00:00:00\", \"count\": 3}, {\"date\": \"2017-03-10T00:00:00\", \"count\": 3}, {\"date\": \"2017-04-20T00:00:00\", \"count\": 3}, {\"date\": \"2018-02-12T00:00:00\", \"count\": 3}, {\"date\": \"2018-04-14T00:00:00\", \"count\": 3}, {\"date\": \"2018-02-09T00:00:00\", \"count\": 3}, {\"date\": \"2017-03-21T00:00:00\", \"count\": 3}, {\"date\": \"2017-02-10T00:00:00\", \"count\": 3}, {\"date\": \"2017-03-05T00:00:00\", \"count\": 3}, {\"date\": \"2018-07-02T00:00:00\", \"count\": 3}, {\"date\": \"2018-12-01T00:00:00\", \"count\": 3}, {\"date\": \"2017-02-27T00:00:00\", \"count\": 3}, {\"date\": \"2017-04-09T00:00:00\", \"count\": 3}, {\"date\": \"2018-11-08T00:00:00\", \"count\": 3}, {\"date\": \"2020-10-03T00:00:00\", \"count\": 3}, {\"date\": \"2017-02-01T00:00:00\", \"count\": 3}, {\"date\": \"2018-11-20T00:00:00\", \"count\": 3}, {\"date\": \"2020-07-20T00:00:00\", \"count\": 3}, {\"date\": \"2017-02-18T00:00:00\", \"count\": 3}, {\"date\": \"2018-11-24T00:00:00\", \"count\": 3}, {\"date\": \"2018-03-31T00:00:00\", \"count\": 3}, {\"date\": \"2017-02-23T00:00:00\", \"count\": 3}, {\"date\": \"2018-03-18T00:00:00\", \"count\": 3}, {\"date\": \"2019-02-03T00:00:00\", \"count\": 3}, {\"date\": \"2017-12-10T00:00:00\", \"count\": 3}, {\"date\": \"2017-06-04T00:00:00\", \"count\": 3}, {\"date\": \"2017-08-01T00:00:00\", \"count\": 3}, {\"date\": \"2017-06-21T00:00:00\", \"count\": 3}, {\"date\": \"2019-12-29T00:00:00\", \"count\": 3}, {\"date\": \"2017-05-21T00:00:00\", \"count\": 3}, {\"date\": \"2017-07-20T00:00:00\", \"count\": 3}, {\"date\": \"2017-07-19T00:00:00\", \"count\": 3}, {\"date\": \"2017-12-26T00:00:00\", \"count\": 3}, {\"date\": \"2018-10-28T00:00:00\", \"count\": 3}, {\"date\": \"2018-12-12T00:00:00\", \"count\": 3}, {\"date\": \"2019-02-15T00:00:00\", \"count\": 3}, {\"date\": \"2017-11-18T00:00:00\", \"count\": 3}, {\"date\": \"2017-12-25T00:00:00\", \"count\": 3}, {\"date\": \"2017-12-17T00:00:00\", \"count\": 3}, {\"date\": \"2017-06-14T00:00:00\", \"count\": 3}, {\"date\": \"2017-12-16T00:00:00\", \"count\": 3}, {\"date\": \"2018-09-02T00:00:00\", \"count\": 3}, {\"date\": \"2018-12-30T00:00:00\", \"count\": 3}, {\"date\": \"2019-03-07T00:00:00\", \"count\": 3}, {\"date\": \"2017-10-22T00:00:00\", \"count\": 3}, {\"date\": \"2018-01-01T00:00:00\", \"count\": 3}, {\"date\": \"2018-09-22T00:00:00\", \"count\": 3}, {\"date\": \"2019-03-24T00:00:00\", \"count\": 3}, {\"date\": \"2017-04-29T00:00:00\", \"count\": 3}, {\"date\": \"2017-05-01T00:00:00\", \"count\": 3}, {\"date\": \"2019-01-25T00:00:00\", \"count\": 3}, {\"date\": \"2020-02-16T00:00:00\", \"count\": 3}, {\"date\": \"2017-09-16T00:00:00\", \"count\": 3}, {\"date\": \"2017-05-09T00:00:00\", \"count\": 3}, {\"date\": \"2018-01-21T00:00:00\", \"count\": 3}, {\"date\": \"2018-01-25T00:00:00\", \"count\": 3}, {\"date\": \"2017-05-13T00:00:00\", \"count\": 3}, {\"date\": \"2018-09-30T00:00:00\", \"count\": 3}, {\"date\": \"2018-09-23T00:00:00\", \"count\": 3}, {\"date\": \"2017-02-22T00:00:00\", \"count\": 2}, {\"date\": \"2018-12-25T00:00:00\", \"count\": 2}, {\"date\": \"2017-12-05T00:00:00\", \"count\": 2}, {\"date\": \"2017-08-31T00:00:00\", \"count\": 2}, {\"date\": \"2017-02-28T00:00:00\", \"count\": 2}, {\"date\": \"2019-01-16T00:00:00\", \"count\": 2}, {\"date\": \"2017-09-04T00:00:00\", \"count\": 2}, {\"date\": \"2020-10-02T00:00:00\", \"count\": 2}, {\"date\": \"2017-11-21T00:00:00\", \"count\": 2}, {\"date\": \"2017-02-21T00:00:00\", \"count\": 2}, {\"date\": \"2018-10-07T00:00:00\", \"count\": 2}, {\"date\": \"2019-02-06T00:00:00\", \"count\": 2}, {\"date\": \"2017-11-20T00:00:00\", \"count\": 2}, {\"date\": \"2019-01-29T00:00:00\", \"count\": 2}, {\"date\": \"2018-04-26T00:00:00\", \"count\": 2}, {\"date\": \"2017-07-17T00:00:00\", \"count\": 2}, {\"date\": \"2017-09-11T00:00:00\", \"count\": 2}, {\"date\": \"2017-08-20T00:00:00\", \"count\": 2}, {\"date\": \"2018-07-06T00:00:00\", \"count\": 2}, {\"date\": \"2017-06-25T00:00:00\", \"count\": 2}, {\"date\": \"2018-12-02T00:00:00\", \"count\": 2}, {\"date\": \"2018-07-13T00:00:00\", \"count\": 2}, {\"date\": \"2017-05-22T00:00:00\", \"count\": 2}, {\"date\": \"2017-03-26T00:00:00\", \"count\": 2}, {\"date\": \"2017-06-07T00:00:00\", \"count\": 2}, {\"date\": \"2017-05-20T00:00:00\", \"count\": 2}, {\"date\": \"2017-04-10T00:00:00\", \"count\": 2}, {\"date\": \"2017-05-19T00:00:00\", \"count\": 2}, {\"date\": \"2018-03-04T00:00:00\", \"count\": 2}, {\"date\": \"2017-03-18T00:00:00\", \"count\": 2}, {\"date\": \"2017-01-21T00:00:00\", \"count\": 2}, {\"date\": \"2017-04-14T00:00:00\", \"count\": 2}, {\"date\": \"2017-05-24T00:00:00\", \"count\": 2}, {\"date\": \"2018-02-13T00:00:00\", \"count\": 2}, {\"date\": \"2017-03-14T00:00:00\", \"count\": 2}, {\"date\": \"2017-05-03T00:00:00\", \"count\": 2}, {\"date\": \"2018-01-28T00:00:00\", \"count\": 2}, {\"date\": \"2017-05-15T00:00:00\", \"count\": 2}, {\"date\": \"2017-04-05T00:00:00\", \"count\": 2}, {\"date\": \"2018-02-04T00:00:00\", \"count\": 2}, {\"date\": \"2018-05-05T00:00:00\", \"count\": 1}, {\"date\": \"2018-02-25T00:00:00\", \"count\": 1}, {\"date\": \"2017-10-02T00:00:00\", \"count\": 1}, {\"date\": \"2018-03-24T00:00:00\", \"count\": 1}, {\"date\": \"2017-05-14T00:00:00\", \"count\": 1}, {\"date\": \"2017-04-06T00:00:00\", \"count\": 1}, {\"date\": \"2019-02-04T00:00:00\", \"count\": 1}, {\"date\": \"2017-05-06T00:00:00\", \"count\": 1}, {\"date\": \"2017-01-23T00:00:00\", \"count\": 1}, {\"date\": \"2018-01-29T00:00:00\", \"count\": 1}, {\"date\": \"2018-01-30T00:00:00\", \"count\": 1}, {\"date\": \"2018-09-28T00:00:00\", \"count\": 1}, {\"date\": \"2017-04-07T00:00:00\", \"count\": 1}, {\"date\": \"2017-07-30T00:00:00\", \"count\": 1}, {\"date\": \"2020-01-08T00:00:00\", \"count\": 1}, {\"date\": \"2017-12-11T00:00:00\", \"count\": 1}, {\"date\": \"2017-03-11T00:00:00\", \"count\": 1}, {\"date\": \"2018-03-27T00:00:00\", \"count\": 1}, {\"date\": \"2018-12-26T00:00:00\", \"count\": 1}, {\"date\": \"2017-03-12T00:00:00\", \"count\": 1}, {\"date\": \"2018-03-20T00:00:00\", \"count\": 1}, {\"date\": \"2017-03-01T00:00:00\", \"count\": 1}, {\"date\": \"2019-11-29T00:00:00\", \"count\": 1}, {\"date\": \"2017-06-17T00:00:00\", \"count\": 1}, {\"date\": \"2020-01-05T00:00:00\", \"count\": 1}, {\"date\": \"2018-03-30T00:00:00\", \"count\": 1}, {\"date\": \"2017-03-19T00:00:00\", \"count\": 1}, {\"date\": \"2017-06-10T00:00:00\", \"count\": 1}, {\"date\": \"2017-02-19T00:00:00\", \"count\": 1}, {\"date\": \"2019-04-28T00:00:00\", \"count\": 1}, {\"date\": \"2018-07-28T00:00:00\", \"count\": 1}, {\"date\": \"2017-05-17T00:00:00\", \"count\": 1}, {\"date\": \"2018-09-27T00:00:00\", \"count\": 1}]}}, {\"mode\": \"vega-lite\"});\n",
       "</script>"
      ],
      "text/plain": [
       "alt.LayerChart(...)"
      ]
     },
     "execution_count": 41,
     "metadata": {},
     "output_type": "execute_result"
    }
   ],
   "source": [
    "#bars\n",
    "\n",
    "bars = alt.Chart(trump_freq_inauguration, title = '@realDonaldTrump tweet frequency since inauguration').\\\n",
    "    mark_bar(size=2).encode(\n",
    "    x = alt.X('date:T', axis = alt.Axis(grid=False, title = '', tickCount=6, format = (\"%b. %Y\"))),\n",
    "    y = alt.Y('count:Q',\n",
    "        scale=alt.Scale(domain=(0, 200)), axis = alt.Axis(gridColor='#dddddd',offset=6,tickSize=0,domainOpacity=0, tickCount=6, title = 'Daily tweet counts and mean')),\n",
    ")\n",
    "\n",
    "#rule showing mean\n",
    "\n",
    "rule = alt.Chart(trump_freq_inauguration).mark_rule(color='red').encode(\n",
    "    y='mean(count):Q'\n",
    ")\n",
    "\n",
    "#rule label -- would like to add \"Average: \" annotation\n",
    "text = rule.mark_text(\n",
    "    align='center',\n",
    "    baseline='middle',\n",
    "    dx=200,\n",
    "    dy=10,\n",
    "    fontWeight='bold',\n",
    ").encode(\n",
    "    text=alt.Text('mean(count):Q', format=\".2\"))\n",
    "\n",
    "#go\n",
    "( bars + rule + text ).properties(height=400,width=800).configure_view(strokeOpacity=0)"
   ]
  },
  {
   "cell_type": "code",
   "execution_count": 42,
   "metadata": {
    "jupyter": {
     "source_hidden": true
    }
   },
   "outputs": [
    {
     "data": {
      "text/html": [
       "\n",
       "<div id=\"altair-viz-f06c2b25ac0a4a3db81172b90af5d748\"></div>\n",
       "<script type=\"text/javascript\">\n",
       "  (function(spec, embedOpt){\n",
       "    let outputDiv = document.currentScript.previousElementSibling;\n",
       "    if (outputDiv.id !== \"altair-viz-f06c2b25ac0a4a3db81172b90af5d748\") {\n",
       "      outputDiv = document.getElementById(\"altair-viz-f06c2b25ac0a4a3db81172b90af5d748\");\n",
       "    }\n",
       "    const paths = {\n",
       "      \"vega\": \"https://cdn.jsdelivr.net/npm//vega@5?noext\",\n",
       "      \"vega-lib\": \"https://cdn.jsdelivr.net/npm//vega-lib?noext\",\n",
       "      \"vega-lite\": \"https://cdn.jsdelivr.net/npm//vega-lite@4.8.1?noext\",\n",
       "      \"vega-embed\": \"https://cdn.jsdelivr.net/npm//vega-embed@6?noext\",\n",
       "    };\n",
       "\n",
       "    function loadScript(lib) {\n",
       "      return new Promise(function(resolve, reject) {\n",
       "        var s = document.createElement('script');\n",
       "        s.src = paths[lib];\n",
       "        s.async = true;\n",
       "        s.onload = () => resolve(paths[lib]);\n",
       "        s.onerror = () => reject(`Error loading script: ${paths[lib]}`);\n",
       "        document.getElementsByTagName(\"head\")[0].appendChild(s);\n",
       "      });\n",
       "    }\n",
       "\n",
       "    function showError(err) {\n",
       "      outputDiv.innerHTML = `<div class=\"error\" style=\"color:red;\">${err}</div>`;\n",
       "      throw err;\n",
       "    }\n",
       "\n",
       "    function displayChart(vegaEmbed) {\n",
       "      vegaEmbed(outputDiv, spec, embedOpt)\n",
       "        .catch(err => showError(`Javascript Error: ${err.message}<br>This usually means there's a typo in your chart specification. See the javascript console for the full traceback.`));\n",
       "    }\n",
       "\n",
       "    if(typeof define === \"function\" && define.amd) {\n",
       "      requirejs.config({paths});\n",
       "      require([\"vega-embed\"], displayChart, err => showError(`Error loading script: ${err.message}`));\n",
       "    } else if (typeof vegaEmbed === \"function\") {\n",
       "      displayChart(vegaEmbed);\n",
       "    } else {\n",
       "      loadScript(\"vega\")\n",
       "        .then(() => loadScript(\"vega-lite\"))\n",
       "        .then(() => loadScript(\"vega-embed\"))\n",
       "        .catch(showError)\n",
       "        .then(() => displayChart(vegaEmbed));\n",
       "    }\n",
       "  })({\"config\": {\"view\": {\"width\": 800, \"height\": 450, \"strokeOpacity\": 0}, \"background\": \"#ffffff\", \"title\": {\"anchor\": \"start\", \"font\": \"Benton Gothic Bold, sans\", \"fontColor\": \"#000000\", \"fontSize\": 22, \"fontWeight\": \"normal\"}, \"arc\": {\"fill\": \"#82c6df\"}, \"area\": {\"fill\": \"#82c6df\"}, \"line\": {\"stroke\": \"#82c6df\", \"strokeWidth\": 3}, \"path\": {\"stroke\": \"#82c6df\"}, \"rect\": {\"fill\": \"#82c6df\"}, \"shape\": {\"stroke\": \"#82c6df\"}, \"bar\": {\"fill\": \"#82c6df\"}, \"point\": {\"stroke\": \"#82c6df\"}, \"symbol\": {\"fill\": \"#82c6df\", \"size\": 30}, \"axis\": {\"titleFont\": \"Benton Gothic Bold, sans\", \"titleFontSize\": 13, \"titleFontWeight\": \"normal\", \"labelFont\": \"Benton Gothic, sans\", \"labelFontSize\": 11.5, \"labelFontWeight\": \"normal\"}, \"axisX\": {\"labelAngle\": 0, \"labelPadding\": 4, \"tickSize\": 3}, \"axisY\": {\"labelBaseline\": \"middle\", \"maxExtent\": 45, \"minExtent\": 45, \"tickSize\": 2, \"titleAlign\": \"left\", \"titleAngle\": 0, \"titleX\": -45, \"titleY\": -11}, \"legend\": {\"titleFont\": \"Benton Gothic Bold, sans\", \"titleFontSize\": 13, \"titleFontWeight\": \"normal\", \"symbolType\": \"square\", \"labelFont\": \"Benton Gothic, sans\", \"labelFontSize\": 11.5, \"orient\": \"top\", \"padding\": 10}, \"range\": {\"category\": [\"#3580b1\", \"#ec8431\", \"#ab7fb4\", \"#c89d29\", \"#adc839\", \"#829eb1\"], \"diverging\": [\"#e68a4f\", \"#f4bb6a\", \"#f9e39c\", \"#dadfe2\", \"#a6b7c6\", \"#849eae\"], \"heatmap\": [\"#fbf2c7\", \"#f9e39c\", \"#f8d36e\", \"#f4bb6a\", \"#e68a4f\", \"#d15a40\", \"#ab4232\"], \"ordinal\": [\"#fbf2c7\", \"#f9e39c\", \"#f8d36e\", \"#f4bb6a\", \"#e68a4f\", \"#d15a40\", \"#ab4232\"], \"ramp\": [\"#fbf2c7\", \"#f9e39c\", \"#f8d36e\", \"#f4bb6a\", \"#e68a4f\", \"#d15a40\", \"#ab4232\"]}}, \"data\": {\"name\": \"data-cb7567f9487e40dd3e8197010503269c\"}, \"mark\": \"rect\", \"encoding\": {\"color\": {\"type\": \"quantitative\", \"field\": \"count\", \"title\": \"Tweet count\"}, \"facet\": {\"type\": \"ordinal\", \"columns\": 1, \"field\": \"date\", \"timeUnit\": \"year\", \"title\": \"\"}, \"tooltip\": [{\"type\": \"temporal\", \"field\": \"date\", \"timeUnit\": \"monthdate\", \"title\": \"Date\"}, {\"type\": \"quantitative\", \"field\": \"count\", \"title\": \"Tweets\"}], \"x\": {\"type\": \"ordinal\", \"field\": \"date\", \"timeUnit\": \"date\", \"title\": \" \"}, \"y\": {\"type\": \"ordinal\", \"field\": \"date\", \"timeUnit\": \"month\", \"title\": \"\"}}, \"height\": 200, \"title\": \"@realDonaldTrump daily tweet frequency since inauguration\", \"width\": 600, \"$schema\": \"https://vega.github.io/schema/vega-lite/v4.8.1.json\", \"datasets\": {\"data-cb7567f9487e40dd3e8197010503269c\": [{\"date\": \"2020-06-05T00:00:00\", \"count\": 199}, {\"date\": \"2020-05-10T00:00:00\", \"count\": 125}, {\"date\": \"2019-12-12T00:00:00\", \"count\": 124}, {\"date\": \"2020-08-30T00:00:00\", \"count\": 110}, {\"date\": \"2020-09-08T00:00:00\", \"count\": 108}, {\"date\": \"2019-12-08T00:00:00\", \"count\": 106}, {\"date\": \"2020-01-22T00:00:00\", \"count\": 94}, {\"date\": \"2020-08-14T00:00:00\", \"count\": 87}, {\"date\": \"2020-06-03T00:00:00\", \"count\": 86}, {\"date\": \"2020-09-14T00:00:00\", \"count\": 85}, {\"date\": \"2019-05-01T00:00:00\", \"count\": 84}, {\"date\": \"2019-11-09T00:00:00\", \"count\": 82}, {\"date\": \"2020-01-25T00:00:00\", \"count\": 80}, {\"date\": \"2020-03-22T00:00:00\", \"count\": 80}, {\"date\": \"2020-01-24T00:00:00\", \"count\": 78}, {\"date\": \"2019-12-11T00:00:00\", \"count\": 77}, {\"date\": \"2019-12-19T00:00:00\", \"count\": 73}, {\"date\": \"2020-02-08T00:00:00\", \"count\": 72}, {\"date\": \"2019-05-11T00:00:00\", \"count\": 71}, {\"date\": \"2020-04-04T00:00:00\", \"count\": 70}, {\"date\": \"2020-09-07T00:00:00\", \"count\": 70}, {\"date\": \"2019-12-18T00:00:00\", \"count\": 69}, {\"date\": \"2020-07-27T00:00:00\", \"count\": 67}, {\"date\": \"2020-09-25T00:00:00\", \"count\": 66}, {\"date\": \"2020-07-04T00:00:00\", \"count\": 66}, {\"date\": \"2020-04-30T00:00:00\", \"count\": 64}, {\"date\": \"2020-06-04T00:00:00\", \"count\": 63}, {\"date\": \"2020-06-01T00:00:00\", \"count\": 63}, {\"date\": \"2020-03-19T00:00:00\", \"count\": 62}, {\"date\": \"2020-07-26T00:00:00\", \"count\": 62}, {\"date\": \"2020-09-10T00:00:00\", \"count\": 60}, {\"date\": \"2019-09-26T00:00:00\", \"count\": 60}, {\"date\": \"2020-02-01T00:00:00\", \"count\": 60}, {\"date\": \"2019-10-19T00:00:00\", \"count\": 60}, {\"date\": \"2019-10-11T00:00:00\", \"count\": 59}, {\"date\": \"2020-02-07T00:00:00\", \"count\": 59}, {\"date\": \"2020-09-13T00:00:00\", \"count\": 59}, {\"date\": \"2019-08-31T00:00:00\", \"count\": 59}, {\"date\": \"2020-07-23T00:00:00\", \"count\": 58}, {\"date\": \"2020-05-23T00:00:00\", \"count\": 58}, {\"date\": \"2020-07-17T00:00:00\", \"count\": 57}, {\"date\": \"2020-04-09T00:00:00\", \"count\": 56}, {\"date\": \"2019-10-29T00:00:00\", \"count\": 56}, {\"date\": \"2020-08-16T00:00:00\", \"count\": 55}, {\"date\": \"2020-04-18T00:00:00\", \"count\": 55}, {\"date\": \"2019-12-27T00:00:00\", \"count\": 55}, {\"date\": \"2020-08-18T00:00:00\", \"count\": 55}, {\"date\": \"2020-05-11T00:00:00\", \"count\": 54}, {\"date\": \"2020-02-09T00:00:00\", \"count\": 54}, {\"date\": \"2020-09-04T00:00:00\", \"count\": 54}, {\"date\": \"2019-12-31T00:00:00\", \"count\": 54}, {\"date\": \"2020-09-09T00:00:00\", \"count\": 54}, {\"date\": \"2020-08-25T00:00:00\", \"count\": 54}, {\"date\": \"2019-10-07T00:00:00\", \"count\": 53}, {\"date\": \"2020-08-24T00:00:00\", \"count\": 53}, {\"date\": \"2020-08-01T00:00:00\", \"count\": 53}, {\"date\": \"2020-01-21T00:00:00\", \"count\": 53}, {\"date\": \"2019-11-24T00:00:00\", \"count\": 52}, {\"date\": \"2020-05-28T00:00:00\", \"count\": 52}, {\"date\": \"2020-03-23T00:00:00\", \"count\": 52}, {\"date\": \"2020-05-16T00:00:00\", \"count\": 52}, {\"date\": \"2020-03-02T00:00:00\", \"count\": 52}, {\"date\": \"2019-10-03T00:00:00\", \"count\": 51}, {\"date\": \"2019-06-26T00:00:00\", \"count\": 50}, {\"date\": \"2020-10-01T00:00:00\", \"count\": 50}, {\"date\": \"2020-08-29T00:00:00\", \"count\": 50}, {\"date\": \"2020-09-30T00:00:00\", \"count\": 50}, {\"date\": \"2019-11-21T00:00:00\", \"count\": 49}, {\"date\": \"2019-11-13T00:00:00\", \"count\": 49}, {\"date\": \"2019-12-20T00:00:00\", \"count\": 49}, {\"date\": \"2019-08-13T00:00:00\", \"count\": 49}, {\"date\": \"2019-11-17T00:00:00\", \"count\": 49}, {\"date\": \"2020-06-09T00:00:00\", \"count\": 49}, {\"date\": \"2019-09-29T00:00:00\", \"count\": 48}, {\"date\": \"2020-06-13T00:00:00\", \"count\": 48}, {\"date\": \"2020-05-12T00:00:00\", \"count\": 48}, {\"date\": \"2019-12-16T00:00:00\", \"count\": 48}, {\"date\": \"2020-07-29T00:00:00\", \"count\": 48}, {\"date\": \"2019-12-06T00:00:00\", \"count\": 48}, {\"date\": \"2019-10-04T00:00:00\", \"count\": 48}, {\"date\": \"2019-10-25T00:00:00\", \"count\": 47}, {\"date\": \"2020-01-27T00:00:00\", \"count\": 47}, {\"date\": \"2019-06-15T00:00:00\", \"count\": 47}, {\"date\": \"2020-03-12T00:00:00\", \"count\": 47}, {\"date\": \"2020-03-17T00:00:00\", \"count\": 47}, {\"date\": \"2020-05-14T00:00:00\", \"count\": 46}, {\"date\": \"2020-09-05T00:00:00\", \"count\": 46}, {\"date\": \"2019-07-04T00:00:00\", \"count\": 46}, {\"date\": \"2020-02-19T00:00:00\", \"count\": 45}, {\"date\": \"2019-11-05T00:00:00\", \"count\": 45}, {\"date\": \"2020-09-24T00:00:00\", \"count\": 45}, {\"date\": \"2020-02-25T00:00:00\", \"count\": 45}, {\"date\": \"2020-06-29T00:00:00\", \"count\": 45}, {\"date\": \"2020-06-18T00:00:00\", \"count\": 45}, {\"date\": \"2020-08-20T00:00:00\", \"count\": 45}, {\"date\": \"2020-02-15T00:00:00\", \"count\": 45}, {\"date\": \"2020-05-19T00:00:00\", \"count\": 45}, {\"date\": \"2019-09-18T00:00:00\", \"count\": 45}, {\"date\": \"2020-09-02T00:00:00\", \"count\": 45}, {\"date\": \"2020-02-21T00:00:00\", \"count\": 45}, {\"date\": \"2019-07-12T00:00:00\", \"count\": 45}, {\"date\": \"2020-04-26T00:00:00\", \"count\": 44}, {\"date\": \"2020-03-05T00:00:00\", \"count\": 44}, {\"date\": \"2019-10-31T00:00:00\", \"count\": 44}, {\"date\": \"2019-07-11T00:00:00\", \"count\": 44}, {\"date\": \"2020-04-12T00:00:00\", \"count\": 44}, {\"date\": \"2020-08-17T00:00:00\", \"count\": 44}, {\"date\": \"2020-01-30T00:00:00\", \"count\": 44}, {\"date\": \"2019-04-22T00:00:00\", \"count\": 44}, {\"date\": \"2020-09-17T00:00:00\", \"count\": 43}, {\"date\": \"2020-06-30T00:00:00\", \"count\": 43}, {\"date\": \"2020-03-03T00:00:00\", \"count\": 43}, {\"date\": \"2020-09-23T00:00:00\", \"count\": 43}, {\"date\": \"2019-11-03T00:00:00\", \"count\": 43}, {\"date\": \"2020-08-26T00:00:00\", \"count\": 43}, {\"date\": \"2019-10-09T00:00:00\", \"count\": 43}, {\"date\": \"2019-07-24T00:00:00\", \"count\": 42}, {\"date\": \"2019-11-19T00:00:00\", \"count\": 42}, {\"date\": \"2020-03-27T00:00:00\", \"count\": 42}, {\"date\": \"2019-10-23T00:00:00\", \"count\": 42}, {\"date\": \"2020-07-02T00:00:00\", \"count\": 42}, {\"date\": \"2019-10-06T00:00:00\", \"count\": 42}, {\"date\": \"2019-12-04T00:00:00\", \"count\": 41}, {\"date\": \"2020-04-23T00:00:00\", \"count\": 41}, {\"date\": \"2020-06-27T00:00:00\", \"count\": 41}, {\"date\": \"2019-01-20T00:00:00\", \"count\": 41}, {\"date\": \"2020-08-15T00:00:00\", \"count\": 41}, {\"date\": \"2020-01-10T00:00:00\", \"count\": 40}, {\"date\": \"2020-05-02T00:00:00\", \"count\": 40}, {\"date\": \"2020-07-11T00:00:00\", \"count\": 40}, {\"date\": \"2019-11-15T00:00:00\", \"count\": 40}, {\"date\": \"2020-06-02T00:00:00\", \"count\": 39}, {\"date\": \"2019-09-28T00:00:00\", \"count\": 39}, {\"date\": \"2019-08-23T00:00:00\", \"count\": 39}, {\"date\": \"2020-02-24T00:00:00\", \"count\": 39}, {\"date\": \"2020-05-27T00:00:00\", \"count\": 39}, {\"date\": \"2020-06-07T00:00:00\", \"count\": 39}, {\"date\": \"2020-09-26T00:00:00\", \"count\": 39}, {\"date\": \"2020-05-18T00:00:00\", \"count\": 39}, {\"date\": \"2019-12-10T00:00:00\", \"count\": 38}, {\"date\": \"2019-08-25T00:00:00\", \"count\": 38}, {\"date\": \"2020-02-05T00:00:00\", \"count\": 38}, {\"date\": \"2019-09-11T00:00:00\", \"count\": 38}, {\"date\": \"2020-09-28T00:00:00\", \"count\": 38}, {\"date\": \"2020-05-26T00:00:00\", \"count\": 38}, {\"date\": \"2020-09-21T00:00:00\", \"count\": 38}, {\"date\": \"2020-09-29T00:00:00\", \"count\": 37}, {\"date\": \"2019-09-01T00:00:00\", \"count\": 37}, {\"date\": \"2020-06-12T00:00:00\", \"count\": 37}, {\"date\": \"2020-06-19T00:00:00\", \"count\": 37}, {\"date\": \"2020-02-18T00:00:00\", \"count\": 37}, {\"date\": \"2020-08-02T00:00:00\", \"count\": 37}, {\"date\": \"2019-08-22T00:00:00\", \"count\": 37}, {\"date\": \"2020-09-12T00:00:00\", \"count\": 37}, {\"date\": \"2020-09-20T00:00:00\", \"count\": 37}, {\"date\": \"2020-08-05T00:00:00\", \"count\": 37}, {\"date\": \"2020-05-17T00:00:00\", \"count\": 37}, {\"date\": \"2020-07-13T00:00:00\", \"count\": 36}, {\"date\": \"2020-03-09T00:00:00\", \"count\": 36}, {\"date\": \"2020-03-29T00:00:00\", \"count\": 36}, {\"date\": \"2020-05-30T00:00:00\", \"count\": 36}, {\"date\": \"2019-08-15T00:00:00\", \"count\": 36}, {\"date\": \"2020-01-14T00:00:00\", \"count\": 36}, {\"date\": \"2019-09-16T00:00:00\", \"count\": 35}, {\"date\": \"2020-02-03T00:00:00\", \"count\": 35}, {\"date\": \"2020-09-06T00:00:00\", \"count\": 35}, {\"date\": \"2020-05-21T00:00:00\", \"count\": 35}, {\"date\": \"2019-12-26T00:00:00\", \"count\": 35}, {\"date\": \"2020-01-28T00:00:00\", \"count\": 35}, {\"date\": \"2020-09-22T00:00:00\", \"count\": 35}, {\"date\": \"2019-12-02T00:00:00\", \"count\": 35}, {\"date\": \"2020-05-24T00:00:00\", \"count\": 35}, {\"date\": \"2019-11-20T00:00:00\", \"count\": 35}, {\"date\": \"2019-03-08T00:00:00\", \"count\": 35}, {\"date\": \"2020-04-17T00:00:00\", \"count\": 35}, {\"date\": \"2019-11-01T00:00:00\", \"count\": 34}, {\"date\": \"2020-08-03T00:00:00\", \"count\": 34}, {\"date\": \"2019-09-10T00:00:00\", \"count\": 34}, {\"date\": \"2020-04-20T00:00:00\", \"count\": 34}, {\"date\": \"2019-05-22T00:00:00\", \"count\": 34}, {\"date\": \"2019-10-14T00:00:00\", \"count\": 34}, {\"date\": \"2019-12-03T00:00:00\", \"count\": 34}, {\"date\": \"2019-05-10T00:00:00\", \"count\": 34}, {\"date\": \"2019-09-09T00:00:00\", \"count\": 34}, {\"date\": \"2019-07-14T00:00:00\", \"count\": 34}, {\"date\": \"2020-01-26T00:00:00\", \"count\": 34}, {\"date\": \"2019-10-08T00:00:00\", \"count\": 34}, {\"date\": \"2020-03-10T00:00:00\", \"count\": 33}, {\"date\": \"2020-01-09T00:00:00\", \"count\": 33}, {\"date\": \"2020-01-03T00:00:00\", \"count\": 33}, {\"date\": \"2019-12-15T00:00:00\", \"count\": 33}, {\"date\": \"2019-09-02T00:00:00\", \"count\": 33}, {\"date\": \"2020-09-11T00:00:00\", \"count\": 33}, {\"date\": \"2020-06-11T00:00:00\", \"count\": 33}, {\"date\": \"2019-10-22T00:00:00\", \"count\": 32}, {\"date\": \"2020-09-18T00:00:00\", \"count\": 32}, {\"date\": \"2019-03-17T00:00:00\", \"count\": 32}, {\"date\": \"2019-08-20T00:00:00\", \"count\": 32}, {\"date\": \"2020-04-10T00:00:00\", \"count\": 32}, {\"date\": \"2019-09-25T00:00:00\", \"count\": 32}, {\"date\": \"2020-03-25T00:00:00\", \"count\": 32}, {\"date\": \"2020-05-05T00:00:00\", \"count\": 32}, {\"date\": \"2019-11-02T00:00:00\", \"count\": 32}, {\"date\": \"2020-08-07T00:00:00\", \"count\": 31}, {\"date\": \"2020-02-11T00:00:00\", \"count\": 31}, {\"date\": \"2020-10-05T00:00:00\", \"count\": 31}, {\"date\": \"2018-09-14T00:00:00\", \"count\": 31}, {\"date\": \"2020-04-11T00:00:00\", \"count\": 31}, {\"date\": \"2020-04-19T00:00:00\", \"count\": 31}, {\"date\": \"2020-02-20T00:00:00\", \"count\": 31}, {\"date\": \"2020-09-03T00:00:00\", \"count\": 31}, {\"date\": \"2020-08-28T00:00:00\", \"count\": 31}, {\"date\": \"2020-02-10T00:00:00\", \"count\": 31}, {\"date\": \"2019-07-13T00:00:00\", \"count\": 31}, {\"date\": \"2019-07-20T00:00:00\", \"count\": 31}, {\"date\": \"2019-08-17T00:00:00\", \"count\": 31}, {\"date\": \"2020-04-29T00:00:00\", \"count\": 31}, {\"date\": \"2020-01-17T00:00:00\", \"count\": 31}, {\"date\": \"2020-06-22T00:00:00\", \"count\": 31}, {\"date\": \"2020-05-03T00:00:00\", \"count\": 31}, {\"date\": \"2020-03-04T00:00:00\", \"count\": 31}, {\"date\": \"2018-11-04T00:00:00\", \"count\": 31}, {\"date\": \"2019-05-12T00:00:00\", \"count\": 30}, {\"date\": \"2019-05-08T00:00:00\", \"count\": 30}, {\"date\": \"2018-09-17T00:00:00\", \"count\": 30}, {\"date\": \"2019-10-16T00:00:00\", \"count\": 30}, {\"date\": \"2019-11-14T00:00:00\", \"count\": 30}, {\"date\": \"2020-08-12T00:00:00\", \"count\": 30}, {\"date\": \"2020-09-15T00:00:00\", \"count\": 30}, {\"date\": \"2020-06-28T00:00:00\", \"count\": 30}, {\"date\": \"2020-03-13T00:00:00\", \"count\": 30}, {\"date\": \"2020-03-15T00:00:00\", \"count\": 30}, {\"date\": \"2020-07-10T00:00:00\", \"count\": 30}, {\"date\": \"2020-09-01T00:00:00\", \"count\": 30}, {\"date\": \"2020-01-23T00:00:00\", \"count\": 29}, {\"date\": \"2020-06-16T00:00:00\", \"count\": 29}, {\"date\": \"2020-07-01T00:00:00\", \"count\": 29}, {\"date\": \"2019-12-23T00:00:00\", \"count\": 29}, {\"date\": \"2019-05-05T00:00:00\", \"count\": 29}, {\"date\": \"2019-09-05T00:00:00\", \"count\": 29}, {\"date\": \"2018-11-06T00:00:00\", \"count\": 29}, {\"date\": \"2020-01-12T00:00:00\", \"count\": 29}, {\"date\": \"2020-05-01T00:00:00\", \"count\": 29}, {\"date\": \"2020-02-04T00:00:00\", \"count\": 29}, {\"date\": \"2019-12-14T00:00:00\", \"count\": 29}, {\"date\": \"2020-08-31T00:00:00\", \"count\": 29}, {\"date\": \"2019-10-01T00:00:00\", \"count\": 28}, {\"date\": \"2020-05-09T00:00:00\", \"count\": 28}, {\"date\": \"2020-04-25T00:00:00\", \"count\": 28}, {\"date\": \"2018-09-21T00:00:00\", \"count\": 28}, {\"date\": \"2019-11-11T00:00:00\", \"count\": 28}, {\"date\": \"2020-01-29T00:00:00\", \"count\": 28}, {\"date\": \"2020-03-24T00:00:00\", \"count\": 28}, {\"date\": \"2019-05-23T00:00:00\", \"count\": 28}, {\"date\": \"2019-01-18T00:00:00\", \"count\": 28}, {\"date\": \"2020-05-15T00:00:00\", \"count\": 28}, {\"date\": \"2019-10-21T00:00:00\", \"count\": 27}, {\"date\": \"2019-05-04T00:00:00\", \"count\": 27}, {\"date\": \"2020-08-27T00:00:00\", \"count\": 27}, {\"date\": \"2020-07-15T00:00:00\", \"count\": 27}, {\"date\": \"2020-02-26T00:00:00\", \"count\": 27}, {\"date\": \"2020-03-01T00:00:00\", \"count\": 27}, {\"date\": \"2020-02-02T00:00:00\", \"count\": 27}, {\"date\": \"2020-07-06T00:00:00\", \"count\": 27}, {\"date\": \"2019-09-04T00:00:00\", \"count\": 27}, {\"date\": \"2019-10-02T00:00:00\", \"count\": 27}, {\"date\": \"2020-05-22T00:00:00\", \"count\": 27}, {\"date\": \"2020-01-20T00:00:00\", \"count\": 27}, {\"date\": \"2019-09-30T00:00:00\", \"count\": 26}, {\"date\": \"2019-09-07T00:00:00\", \"count\": 26}, {\"date\": \"2020-05-25T00:00:00\", \"count\": 26}, {\"date\": \"2020-05-20T00:00:00\", \"count\": 26}, {\"date\": \"2019-08-30T00:00:00\", \"count\": 26}, {\"date\": \"2020-03-31T00:00:00\", \"count\": 26}, {\"date\": \"2019-08-21T00:00:00\", \"count\": 26}, {\"date\": \"2019-08-07T00:00:00\", \"count\": 26}, {\"date\": \"2019-07-30T00:00:00\", \"count\": 26}, {\"date\": \"2020-08-13T00:00:00\", \"count\": 26}, {\"date\": \"2019-10-30T00:00:00\", \"count\": 26}, {\"date\": \"2020-01-13T00:00:00\", \"count\": 26}, {\"date\": \"2020-03-16T00:00:00\", \"count\": 26}, {\"date\": \"2017-09-30T00:00:00\", \"count\": 26}, {\"date\": \"2018-08-03T00:00:00\", \"count\": 25}, {\"date\": \"2019-10-26T00:00:00\", \"count\": 25}, {\"date\": \"2020-01-16T00:00:00\", \"count\": 25}, {\"date\": \"2019-05-13T00:00:00\", \"count\": 25}, {\"date\": \"2020-04-06T00:00:00\", \"count\": 25}, {\"date\": \"2018-06-05T00:00:00\", \"count\": 25}, {\"date\": \"2020-01-18T00:00:00\", \"count\": 25}, {\"date\": \"2020-06-10T00:00:00\", \"count\": 25}, {\"date\": \"2019-08-16T00:00:00\", \"count\": 25}, {\"date\": \"2019-07-09T00:00:00\", \"count\": 24}, {\"date\": \"2018-10-10T00:00:00\", \"count\": 24}, {\"date\": \"2019-03-12T00:00:00\", \"count\": 24}, {\"date\": \"2019-10-12T00:00:00\", \"count\": 24}, {\"date\": \"2017-09-20T00:00:00\", \"count\": 24}, {\"date\": \"2019-10-18T00:00:00\", \"count\": 24}, {\"date\": \"2019-10-20T00:00:00\", \"count\": 24}, {\"date\": \"2020-06-25T00:00:00\", \"count\": 24}, {\"date\": \"2018-06-23T00:00:00\", \"count\": 24}, {\"date\": \"2019-07-29T00:00:00\", \"count\": 24}, {\"date\": \"2020-07-09T00:00:00\", \"count\": 24}, {\"date\": \"2020-08-04T00:00:00\", \"count\": 24}, {\"date\": \"2020-07-24T00:00:00\", \"count\": 24}, {\"date\": \"2019-06-01T00:00:00\", \"count\": 24}, {\"date\": \"2019-09-03T00:00:00\", \"count\": 24}, {\"date\": \"2019-07-27T00:00:00\", \"count\": 24}, {\"date\": \"2019-11-16T00:00:00\", \"count\": 23}, {\"date\": \"2018-08-15T00:00:00\", \"count\": 23}, {\"date\": \"2018-04-17T00:00:00\", \"count\": 23}, {\"date\": \"2020-08-10T00:00:00\", \"count\": 23}, {\"date\": \"2019-06-12T00:00:00\", \"count\": 23}, {\"date\": \"2019-07-31T00:00:00\", \"count\": 23}, {\"date\": \"2019-10-17T00:00:00\", \"count\": 23}, {\"date\": \"2018-09-10T00:00:00\", \"count\": 23}, {\"date\": \"2019-05-25T00:00:00\", \"count\": 23}, {\"date\": \"2020-02-14T00:00:00\", \"count\": 23}, {\"date\": \"2018-11-05T00:00:00\", \"count\": 23}, {\"date\": \"2019-09-27T00:00:00\", \"count\": 23}, {\"date\": \"2019-09-14T00:00:00\", \"count\": 23}, {\"date\": \"2019-09-06T00:00:00\", \"count\": 23}, {\"date\": \"2019-10-05T00:00:00\", \"count\": 23}, {\"date\": \"2020-04-05T00:00:00\", \"count\": 23}, {\"date\": \"2019-12-07T00:00:00\", \"count\": 23}, {\"date\": \"2020-03-21T00:00:00\", \"count\": 23}, {\"date\": \"2020-01-06T00:00:00\", \"count\": 23}, {\"date\": \"2019-10-10T00:00:00\", \"count\": 22}, {\"date\": \"2020-03-11T00:00:00\", \"count\": 22}, {\"date\": \"2019-06-09T00:00:00\", \"count\": 22}, {\"date\": \"2017-11-29T00:00:00\", \"count\": 22}, {\"date\": \"2019-04-18T00:00:00\", \"count\": 22}, {\"date\": \"2018-09-13T00:00:00\", \"count\": 22}, {\"date\": \"2019-12-13T00:00:00\", \"count\": 22}, {\"date\": \"2019-09-21T00:00:00\", \"count\": 22}, {\"date\": \"2018-10-29T00:00:00\", \"count\": 22}, {\"date\": \"2020-06-23T00:00:00\", \"count\": 22}, {\"date\": \"2020-06-24T00:00:00\", \"count\": 22}, {\"date\": \"2019-04-25T00:00:00\", \"count\": 22}, {\"date\": \"2018-10-16T00:00:00\", \"count\": 22}, {\"date\": \"2020-07-03T00:00:00\", \"count\": 22}, {\"date\": \"2020-04-24T00:00:00\", \"count\": 22}, {\"date\": \"2019-07-19T00:00:00\", \"count\": 22}, {\"date\": \"2020-08-06T00:00:00\", \"count\": 22}, {\"date\": \"2019-06-13T00:00:00\", \"count\": 22}, {\"date\": \"2020-07-31T00:00:00\", \"count\": 21}, {\"date\": \"2018-10-09T00:00:00\", \"count\": 21}, {\"date\": \"2020-05-29T00:00:00\", \"count\": 21}, {\"date\": \"2019-11-10T00:00:00\", \"count\": 21}, {\"date\": \"2018-12-21T00:00:00\", \"count\": 21}, {\"date\": \"2020-07-14T00:00:00\", \"count\": 21}, {\"date\": \"2019-11-30T00:00:00\", \"count\": 21}, {\"date\": \"2019-10-13T00:00:00\", \"count\": 21}, {\"date\": \"2020-08-22T00:00:00\", \"count\": 21}, {\"date\": \"2019-04-20T00:00:00\", \"count\": 21}, {\"date\": \"2018-07-03T00:00:00\", \"count\": 21}, {\"date\": \"2019-12-17T00:00:00\", \"count\": 21}, {\"date\": \"2019-07-02T00:00:00\", \"count\": 21}, {\"date\": \"2018-06-07T00:00:00\", \"count\": 21}, {\"date\": \"2018-07-11T00:00:00\", \"count\": 21}, {\"date\": \"2020-04-08T00:00:00\", \"count\": 21}, {\"date\": \"2018-11-03T00:00:00\", \"count\": 21}, {\"date\": \"2020-02-28T00:00:00\", \"count\": 21}, {\"date\": \"2019-01-31T00:00:00\", \"count\": 21}, {\"date\": \"2019-11-04T00:00:00\", \"count\": 21}, {\"date\": \"2019-11-06T00:00:00\", \"count\": 20}, {\"date\": \"2019-06-11T00:00:00\", \"count\": 20}, {\"date\": \"2019-08-18T00:00:00\", \"count\": 20}, {\"date\": \"2019-02-25T00:00:00\", \"count\": 20}, {\"date\": \"2019-04-06T00:00:00\", \"count\": 20}, {\"date\": \"2018-08-29T00:00:00\", \"count\": 20}, {\"date\": \"2020-09-27T00:00:00\", \"count\": 20}, {\"date\": \"2020-09-16T00:00:00\", \"count\": 20}, {\"date\": \"2019-12-09T00:00:00\", \"count\": 20}, {\"date\": \"2019-09-24T00:00:00\", \"count\": 20}, {\"date\": \"2020-03-14T00:00:00\", \"count\": 20}, {\"date\": \"2017-09-26T00:00:00\", \"count\": 20}, {\"date\": \"2018-10-17T00:00:00\", \"count\": 20}, {\"date\": \"2019-07-23T00:00:00\", \"count\": 20}, {\"date\": \"2018-10-31T00:00:00\", \"count\": 20}, {\"date\": \"2019-06-10T00:00:00\", \"count\": 20}, {\"date\": \"2019-04-05T00:00:00\", \"count\": 20}, {\"date\": \"2020-03-18T00:00:00\", \"count\": 20}, {\"date\": \"2019-03-16T00:00:00\", \"count\": 20}, {\"date\": \"2019-10-15T00:00:00\", \"count\": 20}, {\"date\": \"2019-05-30T00:00:00\", \"count\": 20}, {\"date\": \"2018-10-22T00:00:00\", \"count\": 20}, {\"date\": \"2019-06-03T00:00:00\", \"count\": 19}, {\"date\": \"2019-06-07T00:00:00\", \"count\": 19}, {\"date\": \"2019-04-09T00:00:00\", \"count\": 19}, {\"date\": \"2019-08-27T00:00:00\", \"count\": 19}, {\"date\": \"2018-07-31T00:00:00\", \"count\": 19}, {\"date\": \"2018-09-01T00:00:00\", \"count\": 19}, {\"date\": \"2017-11-01T00:00:00\", \"count\": 19}, {\"date\": \"2019-08-03T00:00:00\", \"count\": 19}, {\"date\": \"2020-07-25T00:00:00\", \"count\": 19}, {\"date\": \"2019-03-05T00:00:00\", \"count\": 19}, {\"date\": \"2019-01-15T00:00:00\", \"count\": 19}, {\"date\": \"2020-04-21T00:00:00\", \"count\": 19}, {\"date\": \"2020-01-07T00:00:00\", \"count\": 19}, {\"date\": \"2019-01-14T00:00:00\", \"count\": 19}, {\"date\": \"2019-11-12T00:00:00\", \"count\": 19}, {\"date\": \"2018-06-26T00:00:00\", \"count\": 19}, {\"date\": \"2019-05-03T00:00:00\", \"count\": 19}, {\"date\": \"2019-05-20T00:00:00\", \"count\": 19}, {\"date\": \"2019-09-15T00:00:00\", \"count\": 19}, {\"date\": \"2018-08-13T00:00:00\", \"count\": 19}, {\"date\": \"2019-05-19T00:00:00\", \"count\": 19}, {\"date\": \"2018-06-15T00:00:00\", \"count\": 19}, {\"date\": \"2019-03-13T00:00:00\", \"count\": 19}, {\"date\": \"2020-04-02T00:00:00\", \"count\": 19}, {\"date\": \"2019-11-26T00:00:00\", \"count\": 18}, {\"date\": \"2019-07-22T00:00:00\", \"count\": 18}, {\"date\": \"2019-10-28T00:00:00\", \"count\": 18}, {\"date\": \"2019-04-23T00:00:00\", \"count\": 18}, {\"date\": \"2020-04-28T00:00:00\", \"count\": 18}, {\"date\": \"2019-04-12T00:00:00\", \"count\": 18}, {\"date\": \"2019-05-14T00:00:00\", \"count\": 18}, {\"date\": \"2020-02-17T00:00:00\", \"count\": 18}, {\"date\": \"2019-06-16T00:00:00\", \"count\": 18}, {\"date\": \"2018-06-25T00:00:00\", \"count\": 18}, {\"date\": \"2019-07-10T00:00:00\", \"count\": 18}, {\"date\": \"2018-06-17T00:00:00\", \"count\": 18}, {\"date\": \"2017-11-28T00:00:00\", \"count\": 18}, {\"date\": \"2018-07-29T00:00:00\", \"count\": 18}, {\"date\": \"2018-07-15T00:00:00\", \"count\": 18}, {\"date\": \"2019-08-28T00:00:00\", \"count\": 18}, {\"date\": \"2018-05-25T00:00:00\", \"count\": 18}, {\"date\": \"2020-05-31T00:00:00\", \"count\": 18}, {\"date\": \"2018-10-18T00:00:00\", \"count\": 18}, {\"date\": \"2019-08-06T00:00:00\", \"count\": 18}, {\"date\": \"2018-12-07T00:00:00\", \"count\": 18}, {\"date\": \"2019-08-24T00:00:00\", \"count\": 18}, {\"date\": \"2020-07-16T00:00:00\", \"count\": 18}, {\"date\": \"2019-09-22T00:00:00\", \"count\": 18}, {\"date\": \"2018-09-20T00:00:00\", \"count\": 17}, {\"date\": \"2018-08-28T00:00:00\", \"count\": 17}, {\"date\": \"2019-03-25T00:00:00\", \"count\": 17}, {\"date\": \"2020-08-23T00:00:00\", \"count\": 17}, {\"date\": \"2019-06-22T00:00:00\", \"count\": 17}, {\"date\": \"2019-02-18T00:00:00\", \"count\": 17}, {\"date\": \"2020-08-19T00:00:00\", \"count\": 17}, {\"date\": \"2019-05-18T00:00:00\", \"count\": 17}, {\"date\": \"2019-05-21T00:00:00\", \"count\": 17}, {\"date\": \"2018-06-02T00:00:00\", \"count\": 17}, {\"date\": \"2019-05-27T00:00:00\", \"count\": 17}, {\"date\": \"2018-06-22T00:00:00\", \"count\": 17}, {\"date\": \"2018-06-21T00:00:00\", \"count\": 17}, {\"date\": \"2019-04-27T00:00:00\", \"count\": 17}, {\"date\": \"2018-08-22T00:00:00\", \"count\": 17}, {\"date\": \"2019-03-09T00:00:00\", \"count\": 17}, {\"date\": \"2020-02-12T00:00:00\", \"count\": 17}, {\"date\": \"2019-01-01T00:00:00\", \"count\": 17}, {\"date\": \"2020-04-27T00:00:00\", \"count\": 17}, {\"date\": \"2020-07-30T00:00:00\", \"count\": 17}, {\"date\": \"2018-11-29T00:00:00\", \"count\": 17}, {\"date\": \"2017-10-11T00:00:00\", \"count\": 17}, {\"date\": \"2019-11-25T00:00:00\", \"count\": 17}, {\"date\": \"2020-07-28T00:00:00\", \"count\": 17}, {\"date\": \"2017-07-25T00:00:00\", \"count\": 17}, {\"date\": \"2019-07-26T00:00:00\", \"count\": 17}, {\"date\": \"2019-09-23T00:00:00\", \"count\": 17}, {\"date\": \"2018-10-27T00:00:00\", \"count\": 17}, {\"date\": \"2018-10-25T00:00:00\", \"count\": 17}, {\"date\": \"2017-10-31T00:00:00\", \"count\": 17}, {\"date\": \"2017-08-16T00:00:00\", \"count\": 17}, {\"date\": \"2018-07-24T00:00:00\", \"count\": 16}, {\"date\": \"2018-07-25T00:00:00\", \"count\": 16}, {\"date\": \"2019-07-07T00:00:00\", \"count\": 16}, {\"date\": \"2017-11-03T00:00:00\", \"count\": 16}, {\"date\": \"2018-07-27T00:00:00\", \"count\": 16}, {\"date\": \"2018-07-30T00:00:00\", \"count\": 16}, {\"date\": \"2017-10-27T00:00:00\", \"count\": 16}, {\"date\": \"2018-08-01T00:00:00\", \"count\": 16}, {\"date\": \"2017-11-07T00:00:00\", \"count\": 16}, {\"date\": \"2018-06-20T00:00:00\", \"count\": 16}, {\"date\": \"2019-04-15T00:00:00\", \"count\": 16}, {\"date\": \"2020-05-13T00:00:00\", \"count\": 16}, {\"date\": \"2019-08-19T00:00:00\", \"count\": 16}, {\"date\": \"2019-01-05T00:00:00\", \"count\": 16}, {\"date\": \"2020-03-28T00:00:00\", \"count\": 16}, {\"date\": \"2017-06-22T00:00:00\", \"count\": 16}, {\"date\": \"2019-04-24T00:00:00\", \"count\": 16}, {\"date\": \"2018-12-31T00:00:00\", \"count\": 16}, {\"date\": \"2019-12-05T00:00:00\", \"count\": 16}, {\"date\": \"2018-07-10T00:00:00\", \"count\": 16}, {\"date\": \"2019-11-18T00:00:00\", \"count\": 16}, {\"date\": \"2020-04-13T00:00:00\", \"count\": 16}, {\"date\": \"2017-10-25T00:00:00\", \"count\": 16}, {\"date\": \"2019-03-28T00:00:00\", \"count\": 16}, {\"date\": \"2018-08-24T00:00:00\", \"count\": 16}, {\"date\": \"2018-12-18T00:00:00\", \"count\": 16}, {\"date\": \"2017-08-25T00:00:00\", \"count\": 16}, {\"date\": \"2018-04-21T00:00:00\", \"count\": 16}, {\"date\": \"2017-08-24T00:00:00\", \"count\": 16}, {\"date\": \"2018-09-04T00:00:00\", \"count\": 16}, {\"date\": \"2020-01-31T00:00:00\", \"count\": 16}, {\"date\": \"2019-07-15T00:00:00\", \"count\": 16}, {\"date\": \"2018-12-20T00:00:00\", \"count\": 16}, {\"date\": \"2017-09-29T00:00:00\", \"count\": 16}, {\"date\": \"2019-07-25T00:00:00\", \"count\": 16}, {\"date\": \"2019-06-08T00:00:00\", \"count\": 16}, {\"date\": \"2019-11-23T00:00:00\", \"count\": 16}, {\"date\": \"2020-03-07T00:00:00\", \"count\": 16}, {\"date\": \"2018-08-17T00:00:00\", \"count\": 16}, {\"date\": \"2017-10-18T00:00:00\", \"count\": 16}, {\"date\": \"2018-05-23T00:00:00\", \"count\": 16}, {\"date\": \"2018-08-16T00:00:00\", \"count\": 16}, {\"date\": \"2017-10-13T00:00:00\", \"count\": 16}, {\"date\": \"2019-08-01T00:00:00\", \"count\": 16}, {\"date\": \"2018-08-30T00:00:00\", \"count\": 15}, {\"date\": \"2017-11-15T00:00:00\", \"count\": 15}, {\"date\": \"2017-09-17T00:00:00\", \"count\": 15}, {\"date\": \"2018-09-03T00:00:00\", \"count\": 15}, {\"date\": \"2019-03-18T00:00:00\", \"count\": 15}, {\"date\": \"2019-03-03T00:00:00\", \"count\": 15}, {\"date\": \"2020-01-11T00:00:00\", \"count\": 15}, {\"date\": \"2017-08-04T00:00:00\", \"count\": 15}, {\"date\": \"2019-07-06T00:00:00\", \"count\": 15}, {\"date\": \"2020-01-01T00:00:00\", \"count\": 15}, {\"date\": \"2018-09-11T00:00:00\", \"count\": 15}, {\"date\": \"2019-08-14T00:00:00\", \"count\": 15}, {\"date\": \"2019-06-18T00:00:00\", \"count\": 15}, {\"date\": \"2019-06-02T00:00:00\", \"count\": 15}, {\"date\": \"2018-02-24T00:00:00\", \"count\": 15}, {\"date\": \"2019-09-12T00:00:00\", \"count\": 15}, {\"date\": \"2020-06-20T00:00:00\", \"count\": 15}, {\"date\": \"2019-07-21T00:00:00\", \"count\": 15}, {\"date\": \"2019-05-17T00:00:00\", \"count\": 15}, {\"date\": \"2019-07-17T00:00:00\", \"count\": 15}, {\"date\": \"2020-04-22T00:00:00\", \"count\": 15}, {\"date\": \"2019-01-13T00:00:00\", \"count\": 14}, {\"date\": \"2018-05-30T00:00:00\", \"count\": 14}, {\"date\": \"2019-08-05T00:00:00\", \"count\": 14}, {\"date\": \"2018-12-23T00:00:00\", \"count\": 14}, {\"date\": \"2017-08-07T00:00:00\", \"count\": 14}, {\"date\": \"2018-04-02T00:00:00\", \"count\": 14}, {\"date\": \"2019-03-14T00:00:00\", \"count\": 14}, {\"date\": \"2019-06-04T00:00:00\", \"count\": 14}, {\"date\": \"2019-07-03T00:00:00\", \"count\": 14}, {\"date\": \"2019-07-01T00:00:00\", \"count\": 14}, {\"date\": \"2019-07-28T00:00:00\", \"count\": 14}, {\"date\": \"2018-10-02T00:00:00\", \"count\": 14}, {\"date\": \"2020-08-08T00:00:00\", \"count\": 14}, {\"date\": \"2019-01-12T00:00:00\", \"count\": 14}, {\"date\": \"2019-03-04T00:00:00\", \"count\": 14}, {\"date\": \"2019-03-10T00:00:00\", \"count\": 14}, {\"date\": \"2019-05-24T00:00:00\", \"count\": 14}, {\"date\": \"2017-09-25T00:00:00\", \"count\": 14}, {\"date\": \"2019-07-16T00:00:00\", \"count\": 14}, {\"date\": \"2018-04-18T00:00:00\", \"count\": 14}, {\"date\": \"2017-09-23T00:00:00\", \"count\": 14}, {\"date\": \"2019-06-25T00:00:00\", \"count\": 14}, {\"date\": \"2018-11-28T00:00:00\", \"count\": 14}, {\"date\": \"2019-11-22T00:00:00\", \"count\": 14}, {\"date\": \"2018-09-24T00:00:00\", \"count\": 14}, {\"date\": \"2019-04-01T00:00:00\", \"count\": 14}, {\"date\": \"2019-05-07T00:00:00\", \"count\": 14}, {\"date\": \"2018-06-30T00:00:00\", \"count\": 14}, {\"date\": \"2018-10-12T00:00:00\", \"count\": 14}, {\"date\": \"2017-06-19T00:00:00\", \"count\": 14}, {\"date\": \"2020-05-04T00:00:00\", \"count\": 14}, {\"date\": \"2019-02-23T00:00:00\", \"count\": 14}, {\"date\": \"2017-07-22T00:00:00\", \"count\": 14}, {\"date\": \"2019-02-09T00:00:00\", \"count\": 14}, {\"date\": \"2019-02-10T00:00:00\", \"count\": 14}, {\"date\": \"2018-07-20T00:00:00\", \"count\": 14}, {\"date\": \"2018-01-11T00:00:00\", \"count\": 14}, {\"date\": \"2017-05-28T00:00:00\", \"count\": 14}, {\"date\": \"2018-01-20T00:00:00\", \"count\": 14}, {\"date\": \"2020-06-06T00:00:00\", \"count\": 14}, {\"date\": \"2018-06-04T00:00:00\", \"count\": 14}, {\"date\": \"2019-09-08T00:00:00\", \"count\": 14}, {\"date\": \"2019-12-28T00:00:00\", \"count\": 14}, {\"date\": \"2020-07-08T00:00:00\", \"count\": 14}, {\"date\": \"2018-09-18T00:00:00\", \"count\": 14}, {\"date\": \"2018-06-12T00:00:00\", \"count\": 14}, {\"date\": \"2017-10-21T00:00:00\", \"count\": 14}, {\"date\": \"2019-01-09T00:00:00\", \"count\": 13}, {\"date\": \"2018-11-30T00:00:00\", \"count\": 13}, {\"date\": \"2019-02-17T00:00:00\", \"count\": 13}, {\"date\": \"2018-12-24T00:00:00\", \"count\": 13}, {\"date\": \"2019-01-22T00:00:00\", \"count\": 13}, {\"date\": \"2019-01-10T00:00:00\", \"count\": 13}, {\"date\": \"2018-11-09T00:00:00\", \"count\": 13}, {\"date\": \"2019-02-11T00:00:00\", \"count\": 13}, {\"date\": \"2018-12-13T00:00:00\", \"count\": 13}, {\"date\": \"2018-09-25T00:00:00\", \"count\": 13}, {\"date\": \"2020-10-06T00:00:00\", \"count\": 13}, {\"date\": \"2018-09-09T00:00:00\", \"count\": 13}, {\"date\": \"2020-02-22T00:00:00\", \"count\": 13}, {\"date\": \"2018-02-20T00:00:00\", \"count\": 13}, {\"date\": \"2019-10-24T00:00:00\", \"count\": 13}, {\"date\": \"2019-03-02T00:00:00\", \"count\": 13}, {\"date\": \"2017-12-18T00:00:00\", \"count\": 13}, {\"date\": \"2018-11-13T00:00:00\", \"count\": 13}, {\"date\": \"2017-11-02T00:00:00\", \"count\": 13}, {\"date\": \"2019-12-25T00:00:00\", \"count\": 13}, {\"date\": \"2017-09-15T00:00:00\", \"count\": 13}, {\"date\": \"2020-02-06T00:00:00\", \"count\": 13}, {\"date\": \"2017-08-09T00:00:00\", \"count\": 13}, {\"date\": \"2019-08-10T00:00:00\", \"count\": 13}, {\"date\": \"2017-07-29T00:00:00\", \"count\": 13}, {\"date\": \"2017-07-14T00:00:00\", \"count\": 13}, {\"date\": \"2017-07-12T00:00:00\", \"count\": 13}, {\"date\": \"2020-04-07T00:00:00\", \"count\": 13}, {\"date\": \"2017-06-29T00:00:00\", \"count\": 13}, {\"date\": \"2020-06-08T00:00:00\", \"count\": 13}, {\"date\": \"2020-06-14T00:00:00\", \"count\": 13}, {\"date\": \"2020-07-21T00:00:00\", \"count\": 13}, {\"date\": \"2020-08-11T00:00:00\", \"count\": 13}, {\"date\": \"2019-08-12T00:00:00\", \"count\": 13}, {\"date\": \"2018-11-21T00:00:00\", \"count\": 13}, {\"date\": \"2019-07-18T00:00:00\", \"count\": 13}, {\"date\": \"2018-04-19T00:00:00\", \"count\": 13}, {\"date\": \"2018-04-27T00:00:00\", \"count\": 13}, {\"date\": \"2018-08-20T00:00:00\", \"count\": 13}, {\"date\": \"2018-05-04T00:00:00\", \"count\": 13}, {\"date\": \"2019-06-24T00:00:00\", \"count\": 13}, {\"date\": \"2019-06-14T00:00:00\", \"count\": 13}, {\"date\": \"2019-03-19T00:00:00\", \"count\": 13}, {\"date\": \"2018-07-18T00:00:00\", \"count\": 13}, {\"date\": \"2018-06-13T00:00:00\", \"count\": 13}, {\"date\": \"2019-04-19T00:00:00\", \"count\": 13}, {\"date\": \"2019-04-08T00:00:00\", \"count\": 13}, {\"date\": \"2019-05-09T00:00:00\", \"count\": 13}, {\"date\": \"2019-04-29T00:00:00\", \"count\": 13}, {\"date\": \"2018-08-04T00:00:00\", \"count\": 13}, {\"date\": \"2019-04-11T00:00:00\", \"count\": 12}, {\"date\": \"2019-03-26T00:00:00\", \"count\": 12}, {\"date\": \"2018-12-03T00:00:00\", \"count\": 12}, {\"date\": \"2020-05-08T00:00:00\", \"count\": 12}, {\"date\": \"2020-06-15T00:00:00\", \"count\": 12}, {\"date\": \"2020-07-22T00:00:00\", \"count\": 12}, {\"date\": \"2019-04-13T00:00:00\", \"count\": 12}, {\"date\": \"2020-03-06T00:00:00\", \"count\": 12}, {\"date\": \"2018-12-08T00:00:00\", \"count\": 12}, {\"date\": \"2020-03-30T00:00:00\", \"count\": 12}, {\"date\": \"2020-02-29T00:00:00\", \"count\": 12}, {\"date\": \"2020-02-23T00:00:00\", \"count\": 12}, {\"date\": \"2019-05-02T00:00:00\", \"count\": 12}, {\"date\": \"2019-01-27T00:00:00\", \"count\": 12}, {\"date\": \"2019-01-26T00:00:00\", \"count\": 12}, {\"date\": \"2019-12-24T00:00:00\", \"count\": 12}, {\"date\": \"2018-12-27T00:00:00\", \"count\": 12}, {\"date\": \"2019-05-31T00:00:00\", \"count\": 12}, {\"date\": \"2019-09-19T00:00:00\", \"count\": 12}, {\"date\": \"2019-11-07T00:00:00\", \"count\": 12}, {\"date\": \"2017-01-20T00:00:00\", \"count\": 12}, {\"date\": \"2018-07-14T00:00:00\", \"count\": 12}, {\"date\": \"2018-04-11T00:00:00\", \"count\": 12}, {\"date\": \"2018-09-26T00:00:00\", \"count\": 12}, {\"date\": \"2018-07-23T00:00:00\", \"count\": 12}, {\"date\": \"2018-06-27T00:00:00\", \"count\": 12}, {\"date\": \"2018-10-26T00:00:00\", \"count\": 12}, {\"date\": \"2017-06-06T00:00:00\", \"count\": 12}, {\"date\": \"2017-08-14T00:00:00\", \"count\": 12}, {\"date\": \"2018-06-19T00:00:00\", \"count\": 12}, {\"date\": \"2017-06-26T00:00:00\", \"count\": 12}, {\"date\": \"2018-10-03T00:00:00\", \"count\": 12}, {\"date\": \"2018-10-04T00:00:00\", \"count\": 12}, {\"date\": \"2017-10-05T00:00:00\", \"count\": 12}, {\"date\": \"2017-05-04T00:00:00\", \"count\": 12}, {\"date\": \"2017-04-27T00:00:00\", \"count\": 12}, {\"date\": \"2017-10-07T00:00:00\", \"count\": 12}, {\"date\": \"2018-11-02T00:00:00\", \"count\": 12}, {\"date\": \"2018-01-15T00:00:00\", \"count\": 12}, {\"date\": \"2017-07-01T00:00:00\", \"count\": 12}, {\"date\": \"2018-09-05T00:00:00\", \"count\": 12}, {\"date\": \"2018-10-13T00:00:00\", \"count\": 12}, {\"date\": \"2017-07-03T00:00:00\", \"count\": 12}, {\"date\": \"2018-08-14T00:00:00\", \"count\": 12}, {\"date\": \"2018-05-31T00:00:00\", \"count\": 12}, {\"date\": \"2017-11-22T00:00:00\", \"count\": 12}, {\"date\": \"2018-08-18T00:00:00\", \"count\": 12}, {\"date\": \"2017-12-09T00:00:00\", \"count\": 12}, {\"date\": \"2018-07-19T00:00:00\", \"count\": 12}, {\"date\": \"2017-07-26T00:00:00\", \"count\": 11}, {\"date\": \"2017-11-30T00:00:00\", \"count\": 11}, {\"date\": \"2019-04-16T00:00:00\", \"count\": 11}, {\"date\": \"2018-03-01T00:00:00\", \"count\": 11}, {\"date\": \"2017-08-27T00:00:00\", \"count\": 11}, {\"date\": \"2017-07-27T00:00:00\", \"count\": 11}, {\"date\": \"2019-08-29T00:00:00\", \"count\": 11}, {\"date\": \"2019-01-21T00:00:00\", \"count\": 11}, {\"date\": \"2017-07-24T00:00:00\", \"count\": 11}, {\"date\": \"2019-04-04T00:00:00\", \"count\": 11}, {\"date\": \"2019-02-16T00:00:00\", \"count\": 11}, {\"date\": \"2017-12-07T00:00:00\", \"count\": 11}, {\"date\": \"2018-08-21T00:00:00\", \"count\": 11}, {\"date\": \"2019-03-15T00:00:00\", \"count\": 11}, {\"date\": \"2017-12-22T00:00:00\", \"count\": 11}, {\"date\": \"2019-03-22T00:00:00\", \"count\": 11}, {\"date\": \"2018-09-15T00:00:00\", \"count\": 11}, {\"date\": \"2017-10-17T00:00:00\", \"count\": 11}, {\"date\": \"2017-10-08T00:00:00\", \"count\": 11}, {\"date\": \"2019-01-30T00:00:00\", \"count\": 11}, {\"date\": \"2017-10-03T00:00:00\", \"count\": 11}, {\"date\": \"2019-04-02T00:00:00\", \"count\": 11}, {\"date\": \"2017-09-22T00:00:00\", \"count\": 11}, {\"date\": \"2017-09-19T00:00:00\", \"count\": 11}, {\"date\": \"2018-03-10T00:00:00\", \"count\": 11}, {\"date\": \"2018-02-18T00:00:00\", \"count\": 11}, {\"date\": \"2017-09-07T00:00:00\", \"count\": 11}, {\"date\": \"2017-09-14T00:00:00\", \"count\": 11}, {\"date\": \"2017-11-23T00:00:00\", \"count\": 11}, {\"date\": \"2020-04-03T00:00:00\", \"count\": 11}, {\"date\": \"2020-07-12T00:00:00\", \"count\": 11}, {\"date\": \"2018-06-28T00:00:00\", \"count\": 11}, {\"date\": \"2018-12-11T00:00:00\", \"count\": 11}, {\"date\": \"2018-05-07T00:00:00\", \"count\": 11}, {\"date\": \"2019-04-26T00:00:00\", \"count\": 11}, {\"date\": \"2017-05-10T00:00:00\", \"count\": 11}, {\"date\": \"2019-06-17T00:00:00\", \"count\": 11}, {\"date\": \"2018-12-04T00:00:00\", \"count\": 11}, {\"date\": \"2018-05-17T00:00:00\", \"count\": 11}, {\"date\": \"2020-07-18T00:00:00\", \"count\": 11}, {\"date\": \"2019-06-29T00:00:00\", \"count\": 11}, {\"date\": \"2018-11-26T00:00:00\", \"count\": 11}, {\"date\": \"2018-11-25T00:00:00\", \"count\": 11}, {\"date\": \"2018-05-18T00:00:00\", \"count\": 11}, {\"date\": \"2019-06-05T00:00:00\", \"count\": 11}, {\"date\": \"2017-02-15T00:00:00\", \"count\": 11}, {\"date\": \"2017-02-11T00:00:00\", \"count\": 11}, {\"date\": \"2017-02-08T00:00:00\", \"count\": 11}, {\"date\": \"2020-09-19T00:00:00\", \"count\": 11}, {\"date\": \"2018-12-16T00:00:00\", \"count\": 11}, {\"date\": \"2019-06-19T00:00:00\", \"count\": 11}, {\"date\": \"2017-06-13T00:00:00\", \"count\": 11}, {\"date\": \"2017-07-09T00:00:00\", \"count\": 11}, {\"date\": \"2017-06-27T00:00:00\", \"count\": 11}, {\"date\": \"2019-07-08T00:00:00\", \"count\": 11}, {\"date\": \"2017-06-20T00:00:00\", \"count\": 11}, {\"date\": \"2020-04-15T00:00:00\", \"count\": 11}, {\"date\": \"2019-08-08T00:00:00\", \"count\": 11}, {\"date\": \"2018-12-19T00:00:00\", \"count\": 11}, {\"date\": \"2018-05-24T00:00:00\", \"count\": 10}, {\"date\": \"2019-08-26T00:00:00\", \"count\": 10}, {\"date\": \"2018-04-20T00:00:00\", \"count\": 10}, {\"date\": \"2018-08-27T00:00:00\", \"count\": 10}, {\"date\": \"2018-05-21T00:00:00\", \"count\": 10}, {\"date\": \"2018-04-12T00:00:00\", \"count\": 10}, {\"date\": \"2017-12-03T00:00:00\", \"count\": 10}, {\"date\": \"2019-05-28T00:00:00\", \"count\": 10}, {\"date\": \"2019-03-20T00:00:00\", \"count\": 10}, {\"date\": \"2017-12-28T00:00:00\", \"count\": 10}, {\"date\": \"2018-06-09T00:00:00\", \"count\": 10}, {\"date\": \"2019-04-14T00:00:00\", \"count\": 10}, {\"date\": \"2018-04-24T00:00:00\", \"count\": 10}, {\"date\": \"2018-08-06T00:00:00\", \"count\": 10}, {\"date\": \"2018-01-13T00:00:00\", \"count\": 10}, {\"date\": \"2018-08-11T00:00:00\", \"count\": 10}, {\"date\": \"2018-05-16T00:00:00\", \"count\": 10}, {\"date\": \"2018-05-02T00:00:00\", \"count\": 10}, {\"date\": \"2018-07-26T00:00:00\", \"count\": 10}, {\"date\": \"2019-03-29T00:00:00\", \"count\": 10}, {\"date\": \"2019-09-20T00:00:00\", \"count\": 10}, {\"date\": \"2018-02-27T00:00:00\", \"count\": 10}, {\"date\": \"2018-08-02T00:00:00\", \"count\": 10}, {\"date\": \"2019-06-21T00:00:00\", \"count\": 10}, {\"date\": \"2018-08-05T00:00:00\", \"count\": 10}, {\"date\": \"2018-02-22T00:00:00\", \"count\": 10}, {\"date\": \"2019-02-19T00:00:00\", \"count\": 10}, {\"date\": \"2018-05-26T00:00:00\", \"count\": 10}, {\"date\": \"2017-08-03T00:00:00\", \"count\": 10}, {\"date\": \"2018-12-14T00:00:00\", \"count\": 10}, {\"date\": \"2017-05-31T00:00:00\", \"count\": 10}, {\"date\": \"2017-09-06T00:00:00\", \"count\": 10}, {\"date\": \"2020-02-13T00:00:00\", \"count\": 10}, {\"date\": \"2017-09-02T00:00:00\", \"count\": 10}, {\"date\": \"2019-01-24T00:00:00\", \"count\": 10}, {\"date\": \"2020-02-27T00:00:00\", \"count\": 10}, {\"date\": \"2017-08-18T00:00:00\", \"count\": 10}, {\"date\": \"2017-08-17T00:00:00\", \"count\": 10}, {\"date\": \"2020-05-07T00:00:00\", \"count\": 10}, {\"date\": \"2017-05-08T00:00:00\", \"count\": 10}, {\"date\": \"2018-09-06T00:00:00\", \"count\": 10}, {\"date\": \"2019-01-11T00:00:00\", \"count\": 10}, {\"date\": \"2018-12-22T00:00:00\", \"count\": 10}, {\"date\": \"2018-10-20T00:00:00\", \"count\": 10}, {\"date\": \"2018-10-19T00:00:00\", \"count\": 10}, {\"date\": \"2018-10-15T00:00:00\", \"count\": 10}, {\"date\": \"2017-06-28T00:00:00\", \"count\": 10}, {\"date\": \"2017-07-10T00:00:00\", \"count\": 10}, {\"date\": \"2017-05-12T00:00:00\", \"count\": 10}, {\"date\": \"2017-09-24T00:00:00\", \"count\": 10}, {\"date\": \"2017-02-04T00:00:00\", \"count\": 10}, {\"date\": \"2017-10-19T00:00:00\", \"count\": 10}, {\"date\": \"2018-09-07T00:00:00\", \"count\": 10}, {\"date\": \"2019-03-01T00:00:00\", \"count\": 10}, {\"date\": \"2018-11-07T00:00:00\", \"count\": 10}, {\"date\": \"2017-10-10T00:00:00\", \"count\": 10}, {\"date\": \"2019-02-24T00:00:00\", \"count\": 10}, {\"date\": \"2017-10-12T00:00:00\", \"count\": 10}, {\"date\": \"2018-09-08T00:00:00\", \"count\": 10}, {\"date\": \"2017-09-28T00:00:00\", \"count\": 10}, {\"date\": \"2018-05-28T00:00:00\", \"count\": 10}, {\"date\": \"2017-03-03T00:00:00\", \"count\": 9}, {\"date\": \"2018-05-15T00:00:00\", \"count\": 9}, {\"date\": \"2017-02-17T00:00:00\", \"count\": 9}, {\"date\": \"2017-06-16T00:00:00\", \"count\": 9}, {\"date\": \"2018-04-15T00:00:00\", \"count\": 9}, {\"date\": \"2020-10-04T00:00:00\", \"count\": 9}, {\"date\": \"2017-03-15T00:00:00\", \"count\": 9}, {\"date\": \"2018-05-20T00:00:00\", \"count\": 9}, {\"date\": \"2020-05-06T00:00:00\", \"count\": 9}, {\"date\": \"2019-06-06T00:00:00\", \"count\": 9}, {\"date\": \"2017-03-17T00:00:00\", \"count\": 9}, {\"date\": \"2017-06-05T00:00:00\", \"count\": 9}, {\"date\": \"2017-06-02T00:00:00\", \"count\": 9}, {\"date\": \"2017-03-30T00:00:00\", \"count\": 9}, {\"date\": \"2018-05-09T00:00:00\", \"count\": 9}, {\"date\": \"2018-03-28T00:00:00\", \"count\": 9}, {\"date\": \"2017-04-26T00:00:00\", \"count\": 9}, {\"date\": \"2019-08-02T00:00:00\", \"count\": 9}, {\"date\": \"2019-11-27T00:00:00\", \"count\": 9}, {\"date\": \"2020-04-14T00:00:00\", \"count\": 9}, {\"date\": \"2018-02-17T00:00:00\", \"count\": 9}, {\"date\": \"2017-12-08T00:00:00\", \"count\": 9}, {\"date\": \"2017-11-13T00:00:00\", \"count\": 9}, {\"date\": \"2017-12-15T00:00:00\", \"count\": 9}, {\"date\": \"2017-11-06T00:00:00\", \"count\": 9}, {\"date\": \"2019-11-08T00:00:00\", \"count\": 9}, {\"date\": \"2019-12-22T00:00:00\", \"count\": 9}, {\"date\": \"2017-10-28T00:00:00\", \"count\": 9}, {\"date\": \"2017-10-26T00:00:00\", \"count\": 9}, {\"date\": \"2017-10-14T00:00:00\", \"count\": 9}, {\"date\": \"2018-01-16T00:00:00\", \"count\": 9}, {\"date\": \"2018-01-18T00:00:00\", \"count\": 9}, {\"date\": \"2018-02-10T00:00:00\", \"count\": 9}, {\"date\": \"2017-09-27T00:00:00\", \"count\": 9}, {\"date\": \"2017-09-10T00:00:00\", \"count\": 9}, {\"date\": \"2019-08-11T00:00:00\", \"count\": 9}, {\"date\": \"2019-09-13T00:00:00\", \"count\": 9}, {\"date\": \"2017-09-01T00:00:00\", \"count\": 9}, {\"date\": \"2018-02-23T00:00:00\", \"count\": 9}, {\"date\": \"2017-08-11T00:00:00\", \"count\": 9}, {\"date\": \"2017-08-08T00:00:00\", \"count\": 9}, {\"date\": \"2017-08-05T00:00:00\", \"count\": 9}, {\"date\": \"2018-03-06T00:00:00\", \"count\": 9}, {\"date\": \"2020-03-20T00:00:00\", \"count\": 9}, {\"date\": \"2020-03-26T00:00:00\", \"count\": 9}, {\"date\": \"2018-03-13T00:00:00\", \"count\": 9}, {\"date\": \"2017-07-16T00:00:00\", \"count\": 9}, {\"date\": \"2018-03-14T00:00:00\", \"count\": 9}, {\"date\": \"2018-03-21T00:00:00\", \"count\": 9}, {\"date\": \"2018-11-12T00:00:00\", \"count\": 9}, {\"date\": \"2018-12-05T00:00:00\", \"count\": 9}, {\"date\": \"2018-11-01T00:00:00\", \"count\": 9}, {\"date\": \"2018-07-05T00:00:00\", \"count\": 9}, {\"date\": \"2018-10-08T00:00:00\", \"count\": 9}, {\"date\": \"2018-11-16T00:00:00\", \"count\": 9}, {\"date\": \"2019-05-06T00:00:00\", \"count\": 9}, {\"date\": \"2018-10-05T00:00:00\", \"count\": 9}, {\"date\": \"2018-08-07T00:00:00\", \"count\": 9}, {\"date\": \"2019-02-20T00:00:00\", \"count\": 9}, {\"date\": \"2019-04-10T00:00:00\", \"count\": 9}, {\"date\": \"2018-07-07T00:00:00\", \"count\": 9}, {\"date\": \"2018-09-12T00:00:00\", \"count\": 9}, {\"date\": \"2018-11-27T00:00:00\", \"count\": 9}, {\"date\": \"2019-04-21T00:00:00\", \"count\": 9}, {\"date\": \"2019-02-07T00:00:00\", \"count\": 9}, {\"date\": \"2019-02-08T00:00:00\", \"count\": 9}, {\"date\": \"2019-04-30T00:00:00\", \"count\": 9}, {\"date\": \"2019-02-12T00:00:00\", \"count\": 9}, {\"date\": \"2018-07-12T00:00:00\", \"count\": 9}, {\"date\": \"2018-11-15T00:00:00\", \"count\": 9}, {\"date\": \"2018-07-09T00:00:00\", \"count\": 9}, {\"date\": \"2018-08-23T00:00:00\", \"count\": 9}, {\"date\": \"2018-06-06T00:00:00\", \"count\": 9}, {\"date\": \"2018-12-29T00:00:00\", \"count\": 9}, {\"date\": \"2018-08-25T00:00:00\", \"count\": 9}, {\"date\": \"2018-02-28T00:00:00\", \"count\": 8}, {\"date\": \"2018-07-22T00:00:00\", \"count\": 8}, {\"date\": \"2018-03-02T00:00:00\", \"count\": 8}, {\"date\": \"2018-10-23T00:00:00\", \"count\": 8}, {\"date\": \"2017-07-11T00:00:00\", \"count\": 8}, {\"date\": \"2018-09-16T00:00:00\", \"count\": 8}, {\"date\": \"2017-04-01T00:00:00\", \"count\": 8}, {\"date\": \"2018-10-14T00:00:00\", \"count\": 8}, {\"date\": \"2018-07-17T00:00:00\", \"count\": 8}, {\"date\": \"2018-01-10T00:00:00\", \"count\": 8}, {\"date\": \"2019-01-17T00:00:00\", \"count\": 8}, {\"date\": \"2017-03-20T00:00:00\", \"count\": 8}, {\"date\": \"2019-02-13T00:00:00\", \"count\": 8}, {\"date\": \"2018-08-26T00:00:00\", \"count\": 8}, {\"date\": \"2018-11-22T00:00:00\", \"count\": 8}, {\"date\": \"2019-01-03T00:00:00\", \"count\": 8}, {\"date\": \"2018-08-31T00:00:00\", \"count\": 8}, {\"date\": \"2020-01-19T00:00:00\", \"count\": 8}, {\"date\": \"2018-10-01T00:00:00\", \"count\": 8}, {\"date\": \"2019-02-14T00:00:00\", \"count\": 8}, {\"date\": \"2018-10-24T00:00:00\", \"count\": 8}, {\"date\": \"2018-10-30T00:00:00\", \"count\": 8}, {\"date\": \"2019-04-07T00:00:00\", \"count\": 8}, {\"date\": \"2018-08-10T00:00:00\", \"count\": 8}, {\"date\": \"2019-03-27T00:00:00\", \"count\": 8}, {\"date\": \"2018-01-17T00:00:00\", \"count\": 8}, {\"date\": \"2018-12-06T00:00:00\", \"count\": 8}, {\"date\": \"2017-05-05T00:00:00\", \"count\": 8}, {\"date\": \"2017-08-30T00:00:00\", \"count\": 8}, {\"date\": \"2020-06-17T00:00:00\", \"count\": 8}, {\"date\": \"2017-12-31T00:00:00\", \"count\": 8}, {\"date\": \"2020-06-21T00:00:00\", \"count\": 8}, {\"date\": \"2017-12-29T00:00:00\", \"count\": 8}, {\"date\": \"2017-06-09T00:00:00\", \"count\": 8}, {\"date\": \"2017-10-24T00:00:00\", \"count\": 8}, {\"date\": \"2019-08-09T00:00:00\", \"count\": 8}, {\"date\": \"2017-04-21T00:00:00\", \"count\": 8}, {\"date\": \"2017-04-17T00:00:00\", \"count\": 8}, {\"date\": \"2017-07-28T00:00:00\", \"count\": 8}, {\"date\": \"2017-11-11T00:00:00\", \"count\": 8}, {\"date\": \"2019-09-17T00:00:00\", \"count\": 8}, {\"date\": \"2017-06-11T00:00:00\", \"count\": 8}, {\"date\": \"2019-02-27T00:00:00\", \"count\": 8}, {\"date\": \"2017-11-16T00:00:00\", \"count\": 8}, {\"date\": \"2018-10-06T00:00:00\", \"count\": 8}, {\"date\": \"2020-04-16T00:00:00\", \"count\": 8}, {\"date\": \"2017-02-03T00:00:00\", \"count\": 8}, {\"date\": \"2018-11-19T00:00:00\", \"count\": 8}, {\"date\": \"2018-04-25T00:00:00\", \"count\": 8}, {\"date\": \"2018-04-22T00:00:00\", \"count\": 8}, {\"date\": \"2019-07-05T00:00:00\", \"count\": 8}, {\"date\": \"2018-04-16T00:00:00\", \"count\": 8}, {\"date\": \"2019-05-15T00:00:00\", \"count\": 8}, {\"date\": \"2018-11-18T00:00:00\", \"count\": 8}, {\"date\": \"2017-08-19T00:00:00\", \"count\": 8}, {\"date\": \"2017-01-30T00:00:00\", \"count\": 8}, {\"date\": \"2017-09-18T00:00:00\", \"count\": 8}, {\"date\": \"2018-04-08T00:00:00\", \"count\": 8}, {\"date\": \"2019-02-01T00:00:00\", \"count\": 8}, {\"date\": \"2019-05-29T00:00:00\", \"count\": 8}, {\"date\": \"2018-06-18T00:00:00\", \"count\": 8}, {\"date\": \"2019-01-23T00:00:00\", \"count\": 8}, {\"date\": \"2017-08-26T00:00:00\", \"count\": 8}, {\"date\": \"2018-06-08T00:00:00\", \"count\": 8}, {\"date\": \"2019-05-26T00:00:00\", \"count\": 8}, {\"date\": \"2018-03-25T00:00:00\", \"count\": 8}, {\"date\": \"2017-08-12T00:00:00\", \"count\": 8}, {\"date\": \"2018-06-24T00:00:00\", \"count\": 8}, {\"date\": \"2017-01-25T00:00:00\", \"count\": 8}, {\"date\": \"2017-10-01T00:00:00\", \"count\": 8}, {\"date\": \"2019-05-16T00:00:00\", \"count\": 8}, {\"date\": \"2017-01-24T00:00:00\", \"count\": 8}, {\"date\": \"2018-04-03T00:00:00\", \"count\": 8}, {\"date\": \"2017-08-22T00:00:00\", \"count\": 8}, {\"date\": \"2018-01-12T00:00:00\", \"count\": 7}, {\"date\": \"2018-05-08T00:00:00\", \"count\": 7}, {\"date\": \"2017-08-23T00:00:00\", \"count\": 7}, {\"date\": \"2018-01-19T00:00:00\", \"count\": 7}, {\"date\": \"2017-11-04T00:00:00\", \"count\": 7}, {\"date\": \"2018-01-14T00:00:00\", \"count\": 7}, {\"date\": \"2019-01-07T00:00:00\", \"count\": 7}, {\"date\": \"2017-01-29T00:00:00\", \"count\": 7}, {\"date\": \"2018-11-11T00:00:00\", \"count\": 7}, {\"date\": \"2019-02-26T00:00:00\", \"count\": 7}, {\"date\": \"2017-07-21T00:00:00\", \"count\": 7}, {\"date\": \"2017-11-10T00:00:00\", \"count\": 7}, {\"date\": \"2019-03-21T00:00:00\", \"count\": 7}, {\"date\": \"2018-06-10T00:00:00\", \"count\": 7}, {\"date\": \"2019-11-28T00:00:00\", \"count\": 7}, {\"date\": \"2018-05-29T00:00:00\", \"count\": 7}, {\"date\": \"2017-12-01T00:00:00\", \"count\": 7}, {\"date\": \"2017-12-02T00:00:00\", \"count\": 7}, {\"date\": \"2019-02-28T00:00:00\", \"count\": 7}, {\"date\": \"2017-06-18T00:00:00\", \"count\": 7}, {\"date\": \"2017-12-14T00:00:00\", \"count\": 7}, {\"date\": \"2018-06-14T00:00:00\", \"count\": 7}, {\"date\": \"2017-05-27T00:00:00\", \"count\": 7}, {\"date\": \"2017-01-26T00:00:00\", \"count\": 7}, {\"date\": \"2017-07-15T00:00:00\", \"count\": 7}, {\"date\": \"2017-01-27T00:00:00\", \"count\": 7}, {\"date\": \"2018-01-26T00:00:00\", \"count\": 7}, {\"date\": \"2019-01-06T00:00:00\", \"count\": 7}, {\"date\": \"2017-09-08T00:00:00\", \"count\": 7}, {\"date\": \"2017-07-18T00:00:00\", \"count\": 7}, {\"date\": \"2018-01-23T00:00:00\", \"count\": 7}, {\"date\": \"2017-03-07T00:00:00\", \"count\": 7}, {\"date\": \"2019-06-27T00:00:00\", \"count\": 7}, {\"date\": \"2020-01-04T00:00:00\", \"count\": 7}, {\"date\": \"2017-10-20T00:00:00\", \"count\": 7}, {\"date\": \"2018-11-17T00:00:00\", \"count\": 7}, {\"date\": \"2017-02-09T00:00:00\", \"count\": 7}, {\"date\": \"2017-02-12T00:00:00\", \"count\": 7}, {\"date\": \"2019-04-17T00:00:00\", \"count\": 7}, {\"date\": \"2018-04-07T00:00:00\", \"count\": 7}, {\"date\": \"2018-07-21T00:00:00\", \"count\": 7}, {\"date\": \"2017-10-16T00:00:00\", \"count\": 7}, {\"date\": \"2018-04-06T00:00:00\", \"count\": 7}, {\"date\": \"2018-03-12T00:00:00\", \"count\": 7}, {\"date\": \"2018-07-16T00:00:00\", \"count\": 7}, {\"date\": \"2017-08-15T00:00:00\", \"count\": 7}, {\"date\": \"2020-01-15T00:00:00\", \"count\": 7}, {\"date\": \"2019-01-19T00:00:00\", \"count\": 7}, {\"date\": \"2018-09-19T00:00:00\", \"count\": 7}, {\"date\": \"2018-11-10T00:00:00\", \"count\": 7}, {\"date\": \"2017-03-04T00:00:00\", \"count\": 7}, {\"date\": \"2017-02-06T00:00:00\", \"count\": 7}, {\"date\": \"2017-04-03T00:00:00\", \"count\": 7}, {\"date\": \"2020-07-05T00:00:00\", \"count\": 7}, {\"date\": \"2018-05-01T00:00:00\", \"count\": 7}, {\"date\": \"2017-10-04T00:00:00\", \"count\": 7}, {\"date\": \"2019-02-21T00:00:00\", \"count\": 7}, {\"date\": \"2019-06-30T00:00:00\", \"count\": 7}, {\"date\": \"2018-02-03T00:00:00\", \"count\": 7}, {\"date\": \"2018-02-15T00:00:00\", \"count\": 7}, {\"date\": \"2018-02-06T00:00:00\", \"count\": 7}, {\"date\": \"2017-04-24T00:00:00\", \"count\": 7}, {\"date\": \"2017-03-31T00:00:00\", \"count\": 7}, {\"date\": \"2017-04-23T00:00:00\", \"count\": 7}, {\"date\": \"2018-04-30T00:00:00\", \"count\": 7}, {\"date\": \"2018-04-28T00:00:00\", \"count\": 7}, {\"date\": \"2017-04-18T00:00:00\", \"count\": 7}, {\"date\": \"2017-04-22T00:00:00\", \"count\": 7}, {\"date\": \"2017-10-09T00:00:00\", \"count\": 6}, {\"date\": \"2017-07-23T00:00:00\", \"count\": 6}, {\"date\": \"2017-07-07T00:00:00\", \"count\": 6}, {\"date\": \"2017-10-29T00:00:00\", \"count\": 6}, {\"date\": \"2019-02-22T00:00:00\", \"count\": 6}, {\"date\": \"2017-08-29T00:00:00\", \"count\": 6}, {\"date\": \"2017-11-24T00:00:00\", \"count\": 6}, {\"date\": \"2017-09-05T00:00:00\", \"count\": 6}, {\"date\": \"2017-09-13T00:00:00\", \"count\": 6}, {\"date\": \"2019-01-04T00:00:00\", \"count\": 6}, {\"date\": \"2017-11-19T00:00:00\", \"count\": 6}, {\"date\": \"2017-08-21T00:00:00\", \"count\": 6}, {\"date\": \"2019-02-05T00:00:00\", \"count\": 6}, {\"date\": \"2017-09-21T00:00:00\", \"count\": 6}, {\"date\": \"2017-08-10T00:00:00\", \"count\": 6}, {\"date\": \"2018-10-11T00:00:00\", \"count\": 6}, {\"date\": \"2019-01-08T00:00:00\", \"count\": 6}, {\"date\": \"2017-12-30T00:00:00\", \"count\": 6}, {\"date\": \"2018-02-21T00:00:00\", \"count\": 6}, {\"date\": \"2017-04-28T00:00:00\", \"count\": 6}, {\"date\": \"2018-02-08T00:00:00\", \"count\": 6}, {\"date\": \"2020-06-26T00:00:00\", \"count\": 6}, {\"date\": \"2017-04-16T00:00:00\", \"count\": 6}, {\"date\": \"2017-04-12T00:00:00\", \"count\": 6}, {\"date\": \"2017-04-11T00:00:00\", \"count\": 6}, {\"date\": \"2018-03-08T00:00:00\", \"count\": 6}, {\"date\": \"2017-03-28T00:00:00\", \"count\": 6}, {\"date\": \"2018-03-15T00:00:00\", \"count\": 6}, {\"date\": \"2018-03-22T00:00:00\", \"count\": 6}, {\"date\": \"2018-03-23T00:00:00\", \"count\": 6}, {\"date\": \"2017-03-06T00:00:00\", \"count\": 6}, {\"date\": \"2017-02-25T00:00:00\", \"count\": 6}, {\"date\": \"2017-02-16T00:00:00\", \"count\": 6}, {\"date\": \"2018-04-04T00:00:00\", \"count\": 6}, {\"date\": \"2018-04-10T00:00:00\", \"count\": 6}, {\"date\": \"2018-04-13T00:00:00\", \"count\": 6}, {\"date\": \"2018-04-29T00:00:00\", \"count\": 6}, {\"date\": \"2018-05-03T00:00:00\", \"count\": 6}, {\"date\": \"2017-02-02T00:00:00\", \"count\": 6}, {\"date\": \"2018-06-16T00:00:00\", \"count\": 6}, {\"date\": \"2018-05-14T00:00:00\", \"count\": 6}, {\"date\": \"2018-06-11T00:00:00\", \"count\": 6}, {\"date\": \"2018-06-01T00:00:00\", \"count\": 6}, {\"date\": \"2018-02-05T00:00:00\", \"count\": 6}, {\"date\": \"2019-01-28T00:00:00\", \"count\": 6}, {\"date\": \"2019-10-27T00:00:00\", \"count\": 6}, {\"date\": \"2017-05-30T00:00:00\", \"count\": 6}, {\"date\": \"2018-12-17T00:00:00\", \"count\": 6}, {\"date\": \"2017-05-07T00:00:00\", \"count\": 6}, {\"date\": \"2019-03-06T00:00:00\", \"count\": 6}, {\"date\": \"2018-08-09T00:00:00\", \"count\": 6}, {\"date\": \"2017-06-30T00:00:00\", \"count\": 6}, {\"date\": \"2018-08-19T00:00:00\", \"count\": 6}, {\"date\": \"2017-12-23T00:00:00\", \"count\": 6}, {\"date\": \"2017-06-15T00:00:00\", \"count\": 6}, {\"date\": \"2017-12-12T00:00:00\", \"count\": 6}, {\"date\": \"2017-12-24T00:00:00\", \"count\": 6}, {\"date\": \"2020-04-01T00:00:00\", \"count\": 5}, {\"date\": \"2017-02-13T00:00:00\", \"count\": 5}, {\"date\": \"2018-09-29T00:00:00\", \"count\": 5}, {\"date\": \"2017-04-30T00:00:00\", \"count\": 5}, {\"date\": \"2017-02-05T00:00:00\", \"count\": 5}, {\"date\": \"2018-10-21T00:00:00\", \"count\": 5}, {\"date\": \"2017-02-24T00:00:00\", \"count\": 5}, {\"date\": \"2017-06-23T00:00:00\", \"count\": 5}, {\"date\": \"2017-06-24T00:00:00\", \"count\": 5}, {\"date\": \"2017-01-31T00:00:00\", \"count\": 5}, {\"date\": \"2018-12-28T00:00:00\", \"count\": 5}, {\"date\": \"2017-01-28T00:00:00\", \"count\": 5}, {\"date\": \"2017-07-08T00:00:00\", \"count\": 5}, {\"date\": \"2018-11-14T00:00:00\", \"count\": 5}, {\"date\": \"2017-02-20T00:00:00\", \"count\": 5}, {\"date\": \"2017-03-08T00:00:00\", \"count\": 5}, {\"date\": \"2017-06-12T00:00:00\", \"count\": 5}, {\"date\": \"2017-03-02T00:00:00\", \"count\": 5}, {\"date\": \"2017-05-02T00:00:00\", \"count\": 5}, {\"date\": \"2017-05-11T00:00:00\", \"count\": 5}, {\"date\": \"2017-08-02T00:00:00\", \"count\": 5}, {\"date\": \"2017-05-16T00:00:00\", \"count\": 5}, {\"date\": \"2020-07-07T00:00:00\", \"count\": 5}, {\"date\": \"2017-05-18T00:00:00\", \"count\": 5}, {\"date\": \"2017-07-06T00:00:00\", \"count\": 5}, {\"date\": \"2017-04-08T00:00:00\", \"count\": 5}, {\"date\": \"2020-07-19T00:00:00\", \"count\": 5}, {\"date\": \"2017-03-29T00:00:00\", \"count\": 5}, {\"date\": \"2020-03-08T00:00:00\", \"count\": 5}, {\"date\": \"2018-11-23T00:00:00\", \"count\": 5}, {\"date\": \"2017-03-16T00:00:00\", \"count\": 5}, {\"date\": \"2020-08-09T00:00:00\", \"count\": 5}, {\"date\": \"2017-03-13T00:00:00\", \"count\": 5}, {\"date\": \"2018-12-15T00:00:00\", \"count\": 5}, {\"date\": \"2017-04-25T00:00:00\", \"count\": 5}, {\"date\": \"2019-01-02T00:00:00\", \"count\": 5}, {\"date\": \"2018-05-27T00:00:00\", \"count\": 5}, {\"date\": \"2018-01-27T00:00:00\", \"count\": 5}, {\"date\": \"2020-01-02T00:00:00\", \"count\": 5}, {\"date\": \"2019-12-21T00:00:00\", \"count\": 5}, {\"date\": \"2017-11-08T00:00:00\", \"count\": 5}, {\"date\": \"2017-11-09T00:00:00\", \"count\": 5}, {\"date\": \"2017-11-14T00:00:00\", \"count\": 5}, {\"date\": \"2017-11-17T00:00:00\", \"count\": 5}, {\"date\": \"2017-11-25T00:00:00\", \"count\": 5}, {\"date\": \"2017-11-27T00:00:00\", \"count\": 5}, {\"date\": \"2018-07-08T00:00:00\", \"count\": 5}, {\"date\": \"2019-08-04T00:00:00\", \"count\": 5}, {\"date\": \"2018-03-26T00:00:00\", \"count\": 5}, {\"date\": \"2017-12-06T00:00:00\", \"count\": 5}, {\"date\": \"2019-03-11T00:00:00\", \"count\": 5}, {\"date\": \"2017-12-19T00:00:00\", \"count\": 5}, {\"date\": \"2017-12-20T00:00:00\", \"count\": 5}, {\"date\": \"2017-12-21T00:00:00\", \"count\": 5}, {\"date\": \"2018-03-11T00:00:00\", \"count\": 5}, {\"date\": \"2018-03-09T00:00:00\", \"count\": 5}, {\"date\": \"2018-03-07T00:00:00\", \"count\": 5}, {\"date\": \"2018-03-05T00:00:00\", \"count\": 5}, {\"date\": \"2018-01-09T00:00:00\", \"count\": 5}, {\"date\": \"2018-02-19T00:00:00\", \"count\": 5}, {\"date\": \"2018-08-08T00:00:00\", \"count\": 5}, {\"date\": \"2018-02-07T00:00:00\", \"count\": 5}, {\"date\": \"2019-12-30T00:00:00\", \"count\": 5}, {\"date\": \"2018-02-02T00:00:00\", \"count\": 5}, {\"date\": \"2019-06-23T00:00:00\", \"count\": 5}, {\"date\": \"2019-06-20T00:00:00\", \"count\": 5}, {\"date\": \"2018-06-03T00:00:00\", \"count\": 5}, {\"date\": \"2018-06-29T00:00:00\", \"count\": 5}, {\"date\": \"2018-07-01T00:00:00\", \"count\": 5}, {\"date\": \"2017-09-03T00:00:00\", \"count\": 5}, {\"date\": \"2018-05-22T00:00:00\", \"count\": 5}, {\"date\": \"2018-05-19T00:00:00\", \"count\": 5}, {\"date\": \"2018-05-13T00:00:00\", \"count\": 5}, {\"date\": \"2018-05-10T00:00:00\", \"count\": 5}, {\"date\": \"2017-09-12T00:00:00\", \"count\": 5}, {\"date\": \"2017-03-27T00:00:00\", \"count\": 4}, {\"date\": \"2017-09-09T00:00:00\", \"count\": 4}, {\"date\": \"2017-06-01T00:00:00\", \"count\": 4}, {\"date\": \"2018-12-09T00:00:00\", \"count\": 4}, {\"date\": \"2018-07-04T00:00:00\", \"count\": 4}, {\"date\": \"2017-06-03T00:00:00\", \"count\": 4}, {\"date\": \"2018-08-12T00:00:00\", \"count\": 4}, {\"date\": \"2017-03-23T00:00:00\", \"count\": 4}, {\"date\": \"2018-12-10T00:00:00\", \"count\": 4}, {\"date\": \"2017-03-25T00:00:00\", \"count\": 4}, {\"date\": \"2017-03-22T00:00:00\", \"count\": 4}, {\"date\": \"2017-05-29T00:00:00\", \"count\": 4}, {\"date\": \"2019-02-02T00:00:00\", \"count\": 4}, {\"date\": \"2017-03-24T00:00:00\", \"count\": 4}, {\"date\": \"2018-04-23T00:00:00\", \"count\": 4}, {\"date\": \"2017-05-25T00:00:00\", \"count\": 4}, {\"date\": \"2017-12-27T00:00:00\", \"count\": 4}, {\"date\": \"2017-05-26T00:00:00\", \"count\": 4}, {\"date\": \"2018-02-01T00:00:00\", \"count\": 4}, {\"date\": \"2017-01-22T00:00:00\", \"count\": 4}, {\"date\": \"2019-03-30T00:00:00\", \"count\": 4}, {\"date\": \"2018-02-11T00:00:00\", \"count\": 4}, {\"date\": \"2017-04-19T00:00:00\", \"count\": 4}, {\"date\": \"2018-02-14T00:00:00\", \"count\": 4}, {\"date\": \"2018-01-24T00:00:00\", \"count\": 4}, {\"date\": \"2017-04-13T00:00:00\", \"count\": 4}, {\"date\": \"2018-02-16T00:00:00\", \"count\": 4}, {\"date\": \"2018-01-22T00:00:00\", \"count\": 4}, {\"date\": \"2019-04-03T00:00:00\", \"count\": 4}, {\"date\": \"2017-04-04T00:00:00\", \"count\": 4}, {\"date\": \"2018-03-03T00:00:00\", \"count\": 4}, {\"date\": \"2017-04-02T00:00:00\", \"count\": 4}, {\"date\": \"2017-08-28T00:00:00\", \"count\": 4}, {\"date\": \"2017-05-23T00:00:00\", \"count\": 4}, {\"date\": \"2017-12-13T00:00:00\", \"count\": 4}, {\"date\": \"2018-03-17T00:00:00\", \"count\": 4}, {\"date\": \"2018-03-16T00:00:00\", \"count\": 4}, {\"date\": \"2017-07-13T00:00:00\", \"count\": 4}, {\"date\": \"2017-11-05T00:00:00\", \"count\": 4}, {\"date\": \"2019-06-28T00:00:00\", \"count\": 4}, {\"date\": \"2018-03-19T00:00:00\", \"count\": 4}, {\"date\": \"2017-11-12T00:00:00\", \"count\": 4}, {\"date\": \"2017-10-15T00:00:00\", \"count\": 4}, {\"date\": \"2018-04-01T00:00:00\", \"count\": 4}, {\"date\": \"2018-04-05T00:00:00\", \"count\": 4}, {\"date\": \"2017-10-30T00:00:00\", \"count\": 4}, {\"date\": \"2017-08-13T00:00:00\", \"count\": 4}, {\"date\": \"2017-02-14T00:00:00\", \"count\": 4}, {\"date\": \"2017-08-06T00:00:00\", \"count\": 4}, {\"date\": \"2018-04-09T00:00:00\", \"count\": 4}, {\"date\": \"2017-10-23T00:00:00\", \"count\": 4}, {\"date\": \"2017-02-07T00:00:00\", \"count\": 4}, {\"date\": \"2017-07-31T00:00:00\", \"count\": 4}, {\"date\": \"2018-03-29T00:00:00\", \"count\": 4}, {\"date\": \"2017-12-04T00:00:00\", \"count\": 4}, {\"date\": \"2017-11-26T00:00:00\", \"count\": 4}, {\"date\": \"2017-03-09T00:00:00\", \"count\": 4}, {\"date\": \"2018-05-11T00:00:00\", \"count\": 4}, {\"date\": \"2017-07-05T00:00:00\", \"count\": 4}, {\"date\": \"2017-02-26T00:00:00\", \"count\": 4}, {\"date\": \"2017-07-04T00:00:00\", \"count\": 4}, {\"date\": \"2019-12-01T00:00:00\", \"count\": 4}, {\"date\": \"2017-07-02T00:00:00\", \"count\": 4}, {\"date\": \"2020-08-21T00:00:00\", \"count\": 4}, {\"date\": \"2018-05-12T00:00:00\", \"count\": 3}, {\"date\": \"2019-03-31T00:00:00\", \"count\": 3}, {\"date\": \"2017-03-10T00:00:00\", \"count\": 3}, {\"date\": \"2017-04-20T00:00:00\", \"count\": 3}, {\"date\": \"2018-02-12T00:00:00\", \"count\": 3}, {\"date\": \"2018-04-14T00:00:00\", \"count\": 3}, {\"date\": \"2018-02-09T00:00:00\", \"count\": 3}, {\"date\": \"2017-03-21T00:00:00\", \"count\": 3}, {\"date\": \"2017-02-10T00:00:00\", \"count\": 3}, {\"date\": \"2017-03-05T00:00:00\", \"count\": 3}, {\"date\": \"2018-07-02T00:00:00\", \"count\": 3}, {\"date\": \"2018-12-01T00:00:00\", \"count\": 3}, {\"date\": \"2017-02-27T00:00:00\", \"count\": 3}, {\"date\": \"2017-04-09T00:00:00\", \"count\": 3}, {\"date\": \"2018-11-08T00:00:00\", \"count\": 3}, {\"date\": \"2020-10-03T00:00:00\", \"count\": 3}, {\"date\": \"2017-02-01T00:00:00\", \"count\": 3}, {\"date\": \"2018-11-20T00:00:00\", \"count\": 3}, {\"date\": \"2020-07-20T00:00:00\", \"count\": 3}, {\"date\": \"2017-02-18T00:00:00\", \"count\": 3}, {\"date\": \"2018-11-24T00:00:00\", \"count\": 3}, {\"date\": \"2018-03-31T00:00:00\", \"count\": 3}, {\"date\": \"2017-02-23T00:00:00\", \"count\": 3}, {\"date\": \"2018-03-18T00:00:00\", \"count\": 3}, {\"date\": \"2019-02-03T00:00:00\", \"count\": 3}, {\"date\": \"2017-12-10T00:00:00\", \"count\": 3}, {\"date\": \"2017-06-04T00:00:00\", \"count\": 3}, {\"date\": \"2017-08-01T00:00:00\", \"count\": 3}, {\"date\": \"2017-06-21T00:00:00\", \"count\": 3}, {\"date\": \"2019-12-29T00:00:00\", \"count\": 3}, {\"date\": \"2017-05-21T00:00:00\", \"count\": 3}, {\"date\": \"2017-07-20T00:00:00\", \"count\": 3}, {\"date\": \"2017-07-19T00:00:00\", \"count\": 3}, {\"date\": \"2017-12-26T00:00:00\", \"count\": 3}, {\"date\": \"2018-10-28T00:00:00\", \"count\": 3}, {\"date\": \"2018-12-12T00:00:00\", \"count\": 3}, {\"date\": \"2019-02-15T00:00:00\", \"count\": 3}, {\"date\": \"2017-11-18T00:00:00\", \"count\": 3}, {\"date\": \"2017-12-25T00:00:00\", \"count\": 3}, {\"date\": \"2017-12-17T00:00:00\", \"count\": 3}, {\"date\": \"2017-06-14T00:00:00\", \"count\": 3}, {\"date\": \"2017-12-16T00:00:00\", \"count\": 3}, {\"date\": \"2018-09-02T00:00:00\", \"count\": 3}, {\"date\": \"2018-12-30T00:00:00\", \"count\": 3}, {\"date\": \"2019-03-07T00:00:00\", \"count\": 3}, {\"date\": \"2017-10-22T00:00:00\", \"count\": 3}, {\"date\": \"2018-01-01T00:00:00\", \"count\": 3}, {\"date\": \"2018-09-22T00:00:00\", \"count\": 3}, {\"date\": \"2019-03-24T00:00:00\", \"count\": 3}, {\"date\": \"2017-04-29T00:00:00\", \"count\": 3}, {\"date\": \"2017-05-01T00:00:00\", \"count\": 3}, {\"date\": \"2019-01-25T00:00:00\", \"count\": 3}, {\"date\": \"2020-02-16T00:00:00\", \"count\": 3}, {\"date\": \"2017-09-16T00:00:00\", \"count\": 3}, {\"date\": \"2017-05-09T00:00:00\", \"count\": 3}, {\"date\": \"2018-01-21T00:00:00\", \"count\": 3}, {\"date\": \"2018-01-25T00:00:00\", \"count\": 3}, {\"date\": \"2017-05-13T00:00:00\", \"count\": 3}, {\"date\": \"2018-09-30T00:00:00\", \"count\": 3}, {\"date\": \"2018-09-23T00:00:00\", \"count\": 3}, {\"date\": \"2017-02-22T00:00:00\", \"count\": 2}, {\"date\": \"2018-12-25T00:00:00\", \"count\": 2}, {\"date\": \"2017-12-05T00:00:00\", \"count\": 2}, {\"date\": \"2017-08-31T00:00:00\", \"count\": 2}, {\"date\": \"2017-02-28T00:00:00\", \"count\": 2}, {\"date\": \"2019-01-16T00:00:00\", \"count\": 2}, {\"date\": \"2017-09-04T00:00:00\", \"count\": 2}, {\"date\": \"2020-10-02T00:00:00\", \"count\": 2}, {\"date\": \"2017-11-21T00:00:00\", \"count\": 2}, {\"date\": \"2017-02-21T00:00:00\", \"count\": 2}, {\"date\": \"2018-10-07T00:00:00\", \"count\": 2}, {\"date\": \"2019-02-06T00:00:00\", \"count\": 2}, {\"date\": \"2017-11-20T00:00:00\", \"count\": 2}, {\"date\": \"2019-01-29T00:00:00\", \"count\": 2}, {\"date\": \"2018-04-26T00:00:00\", \"count\": 2}, {\"date\": \"2017-07-17T00:00:00\", \"count\": 2}, {\"date\": \"2017-09-11T00:00:00\", \"count\": 2}, {\"date\": \"2017-08-20T00:00:00\", \"count\": 2}, {\"date\": \"2018-07-06T00:00:00\", \"count\": 2}, {\"date\": \"2017-06-25T00:00:00\", \"count\": 2}, {\"date\": \"2018-12-02T00:00:00\", \"count\": 2}, {\"date\": \"2018-07-13T00:00:00\", \"count\": 2}, {\"date\": \"2017-05-22T00:00:00\", \"count\": 2}, {\"date\": \"2017-03-26T00:00:00\", \"count\": 2}, {\"date\": \"2017-06-07T00:00:00\", \"count\": 2}, {\"date\": \"2017-05-20T00:00:00\", \"count\": 2}, {\"date\": \"2017-04-10T00:00:00\", \"count\": 2}, {\"date\": \"2017-05-19T00:00:00\", \"count\": 2}, {\"date\": \"2018-03-04T00:00:00\", \"count\": 2}, {\"date\": \"2017-03-18T00:00:00\", \"count\": 2}, {\"date\": \"2017-01-21T00:00:00\", \"count\": 2}, {\"date\": \"2017-04-14T00:00:00\", \"count\": 2}, {\"date\": \"2017-05-24T00:00:00\", \"count\": 2}, {\"date\": \"2018-02-13T00:00:00\", \"count\": 2}, {\"date\": \"2017-03-14T00:00:00\", \"count\": 2}, {\"date\": \"2017-05-03T00:00:00\", \"count\": 2}, {\"date\": \"2018-01-28T00:00:00\", \"count\": 2}, {\"date\": \"2017-05-15T00:00:00\", \"count\": 2}, {\"date\": \"2017-04-05T00:00:00\", \"count\": 2}, {\"date\": \"2018-02-04T00:00:00\", \"count\": 2}, {\"date\": \"2018-05-05T00:00:00\", \"count\": 1}, {\"date\": \"2018-02-25T00:00:00\", \"count\": 1}, {\"date\": \"2017-10-02T00:00:00\", \"count\": 1}, {\"date\": \"2018-03-24T00:00:00\", \"count\": 1}, {\"date\": \"2017-05-14T00:00:00\", \"count\": 1}, {\"date\": \"2017-04-06T00:00:00\", \"count\": 1}, {\"date\": \"2019-02-04T00:00:00\", \"count\": 1}, {\"date\": \"2017-05-06T00:00:00\", \"count\": 1}, {\"date\": \"2017-01-23T00:00:00\", \"count\": 1}, {\"date\": \"2018-01-29T00:00:00\", \"count\": 1}, {\"date\": \"2018-01-30T00:00:00\", \"count\": 1}, {\"date\": \"2018-09-28T00:00:00\", \"count\": 1}, {\"date\": \"2017-04-07T00:00:00\", \"count\": 1}, {\"date\": \"2017-07-30T00:00:00\", \"count\": 1}, {\"date\": \"2020-01-08T00:00:00\", \"count\": 1}, {\"date\": \"2017-12-11T00:00:00\", \"count\": 1}, {\"date\": \"2017-03-11T00:00:00\", \"count\": 1}, {\"date\": \"2018-03-27T00:00:00\", \"count\": 1}, {\"date\": \"2018-12-26T00:00:00\", \"count\": 1}, {\"date\": \"2017-03-12T00:00:00\", \"count\": 1}, {\"date\": \"2018-03-20T00:00:00\", \"count\": 1}, {\"date\": \"2017-03-01T00:00:00\", \"count\": 1}, {\"date\": \"2019-11-29T00:00:00\", \"count\": 1}, {\"date\": \"2017-06-17T00:00:00\", \"count\": 1}, {\"date\": \"2020-01-05T00:00:00\", \"count\": 1}, {\"date\": \"2018-03-30T00:00:00\", \"count\": 1}, {\"date\": \"2017-03-19T00:00:00\", \"count\": 1}, {\"date\": \"2017-06-10T00:00:00\", \"count\": 1}, {\"date\": \"2017-02-19T00:00:00\", \"count\": 1}, {\"date\": \"2019-04-28T00:00:00\", \"count\": 1}, {\"date\": \"2018-07-28T00:00:00\", \"count\": 1}, {\"date\": \"2017-05-17T00:00:00\", \"count\": 1}, {\"date\": \"2018-09-27T00:00:00\", \"count\": 1}]}}, {\"mode\": \"vega-lite\"});\n",
       "</script>"
      ],
      "text/plain": [
       "alt.Chart(...)"
      ]
     },
     "execution_count": 42,
     "metadata": {},
     "output_type": "execute_result"
    }
   ],
   "source": [
    "heatmap = alt.Chart(\n",
    "    trump_freq_inauguration,\n",
    "    title=\"@realDonaldTrump daily tweet frequency since inauguration\"\n",
    ").mark_rect().encode(\n",
    "    x=alt.X('date(date):O', title=' '),\n",
    "    y=alt.Y('month(date):O', title=''),\n",
    "    color=alt.Color('count:Q', title='Tweet count'),\n",
    "    tooltip=[\n",
    "        alt.Tooltip('monthdate(date):T', title='Date'),\n",
    "        alt.Tooltip('count:Q', title='Tweets')\n",
    "    ],\n",
    "    facet=alt.Facet('year(date):O', title='',columns=1)\n",
    ").properties(width=600, height=200)\n",
    "\n",
    "heatmap.configure_legend(\n",
    "    orient='top',\n",
    "    padding=10\n",
    ").configure_view(strokeOpacity=0)"
   ]
  },
  {
   "cell_type": "code",
   "execution_count": 43,
   "metadata": {},
   "outputs": [],
   "source": [
    "trump_RT_freq_inauguration = trump_tweets_day_prez_df.sort_values(['count'], ascending=False)"
   ]
  },
  {
   "cell_type": "code",
   "execution_count": 44,
   "metadata": {},
   "outputs": [],
   "source": [
    "trumpall_prez_rt = trumpall_prez[trumpall_prez['is_retweet'] == True]\n",
    "trumpall_prez_no_rt = trumpall_prez[trumpall_prez['is_retweet'] == False]"
   ]
  },
  {
   "cell_type": "markdown",
   "metadata": {},
   "source": [
    "### Retweets"
   ]
  },
  {
   "cell_type": "code",
   "execution_count": 45,
   "metadata": {},
   "outputs": [],
   "source": [
    "trump_tweets_day_prez_rt = trumpall_prez_rt.groupby(['date']).size()\n",
    "trump_tweets_day_prez_rt_df = pd.DataFrame({'date': trump_tweets_day_prez_rt.index, \\\n",
    "                                         'count': trump_tweets_day_prez_rt.values})"
   ]
  },
  {
   "cell_type": "code",
   "execution_count": 46,
   "metadata": {},
   "outputs": [
    {
     "data": {
      "text/html": [
       "<div>\n",
       "<style scoped>\n",
       "    .dataframe tbody tr th:only-of-type {\n",
       "        vertical-align: middle;\n",
       "    }\n",
       "\n",
       "    .dataframe tbody tr th {\n",
       "        vertical-align: top;\n",
       "    }\n",
       "\n",
       "    .dataframe thead th {\n",
       "        text-align: right;\n",
       "    }\n",
       "</style>\n",
       "<table border=\"1\" class=\"dataframe\">\n",
       "  <thead>\n",
       "    <tr style=\"text-align: right;\">\n",
       "      <th></th>\n",
       "      <th>date</th>\n",
       "      <th>count</th>\n",
       "    </tr>\n",
       "  </thead>\n",
       "  <tbody>\n",
       "    <tr>\n",
       "      <th>327</th>\n",
       "      <td>2020-10-04</td>\n",
       "      <td>4</td>\n",
       "    </tr>\n",
       "    <tr>\n",
       "      <th>326</th>\n",
       "      <td>2020-10-01</td>\n",
       "      <td>37</td>\n",
       "    </tr>\n",
       "    <tr>\n",
       "      <th>325</th>\n",
       "      <td>2020-09-30</td>\n",
       "      <td>15</td>\n",
       "    </tr>\n",
       "    <tr>\n",
       "      <th>324</th>\n",
       "      <td>2020-09-28</td>\n",
       "      <td>18</td>\n",
       "    </tr>\n",
       "    <tr>\n",
       "      <th>323</th>\n",
       "      <td>2020-09-27</td>\n",
       "      <td>8</td>\n",
       "    </tr>\n",
       "  </tbody>\n",
       "</table>\n",
       "</div>"
      ],
      "text/plain": [
       "          date  count\n",
       "327 2020-10-04      4\n",
       "326 2020-10-01     37\n",
       "325 2020-09-30     15\n",
       "324 2020-09-28     18\n",
       "323 2020-09-27      8"
      ]
     },
     "execution_count": 46,
     "metadata": {},
     "output_type": "execute_result"
    }
   ],
   "source": [
    "trump_tweets_day_prez_rt_df.sort_values(by='date', ascending=False).head()"
   ]
  },
  {
   "cell_type": "markdown",
   "metadata": {},
   "source": [
    "### No retweets"
   ]
  },
  {
   "cell_type": "code",
   "execution_count": 47,
   "metadata": {},
   "outputs": [],
   "source": [
    "trump_tweets_day_prez_no_rt = trumpall_prez_no_rt.groupby(['date']).size()\n",
    "trump_tweets_day_prez_no_rt_df = pd.DataFrame({'date': trump_tweets_day_prez_no_rt.index, \\\n",
    "                                         'count': trump_tweets_day_prez_no_rt.values})"
   ]
  },
  {
   "cell_type": "code",
   "execution_count": 48,
   "metadata": {},
   "outputs": [],
   "source": [
    "# retweets\n",
    "trump_rt_freq_inauguration = trump_tweets_day_prez_rt_df.sort_values(['count'], ascending=False)\n",
    "# no retweets\n",
    "trump_no_rt_freq_inauguration = trump_tweets_day_prez_no_rt_df.sort_values(['count'], ascending=False)"
   ]
  },
  {
   "cell_type": "code",
   "execution_count": 49,
   "metadata": {},
   "outputs": [
    {
     "data": {
      "text/html": [
       "<div>\n",
       "<style scoped>\n",
       "    .dataframe tbody tr th:only-of-type {\n",
       "        vertical-align: middle;\n",
       "    }\n",
       "\n",
       "    .dataframe tbody tr th {\n",
       "        vertical-align: top;\n",
       "    }\n",
       "\n",
       "    .dataframe thead th {\n",
       "        text-align: right;\n",
       "    }\n",
       "</style>\n",
       "<table border=\"1\" class=\"dataframe\">\n",
       "  <thead>\n",
       "    <tr style=\"text-align: right;\">\n",
       "      <th></th>\n",
       "      <th>date</th>\n",
       "      <th>count</th>\n",
       "    </tr>\n",
       "  </thead>\n",
       "  <tbody>\n",
       "    <tr>\n",
       "      <th>293</th>\n",
       "      <td>2019-12-12</td>\n",
       "      <td>94</td>\n",
       "    </tr>\n",
       "    <tr>\n",
       "      <th>289</th>\n",
       "      <td>2019-12-08</td>\n",
       "      <td>82</td>\n",
       "    </tr>\n",
       "    <tr>\n",
       "      <th>292</th>\n",
       "      <td>2019-12-11</td>\n",
       "      <td>69</td>\n",
       "    </tr>\n",
       "    <tr>\n",
       "      <th>300</th>\n",
       "      <td>2019-12-19</td>\n",
       "      <td>53</td>\n",
       "    </tr>\n",
       "    <tr>\n",
       "      <th>299</th>\n",
       "      <td>2019-12-18</td>\n",
       "      <td>47</td>\n",
       "    </tr>\n",
       "  </tbody>\n",
       "</table>\n",
       "</div>"
      ],
      "text/plain": [
       "          date  count\n",
       "293 2019-12-12     94\n",
       "289 2019-12-08     82\n",
       "292 2019-12-11     69\n",
       "300 2019-12-19     53\n",
       "299 2019-12-18     47"
      ]
     },
     "execution_count": 49,
     "metadata": {},
     "output_type": "execute_result"
    }
   ],
   "source": [
    "trump_rt_freq_inauguration.head()"
   ]
  },
  {
   "cell_type": "code",
   "execution_count": 50,
   "metadata": {
    "jupyter": {
     "source_hidden": true
    }
   },
   "outputs": [
    {
     "data": {
      "text/html": [
       "\n",
       "<div id=\"altair-viz-a87f088e010747cd8cc08344f4321f9a\"></div>\n",
       "<script type=\"text/javascript\">\n",
       "  (function(spec, embedOpt){\n",
       "    let outputDiv = document.currentScript.previousElementSibling;\n",
       "    if (outputDiv.id !== \"altair-viz-a87f088e010747cd8cc08344f4321f9a\") {\n",
       "      outputDiv = document.getElementById(\"altair-viz-a87f088e010747cd8cc08344f4321f9a\");\n",
       "    }\n",
       "    const paths = {\n",
       "      \"vega\": \"https://cdn.jsdelivr.net/npm//vega@5?noext\",\n",
       "      \"vega-lib\": \"https://cdn.jsdelivr.net/npm//vega-lib?noext\",\n",
       "      \"vega-lite\": \"https://cdn.jsdelivr.net/npm//vega-lite@4.8.1?noext\",\n",
       "      \"vega-embed\": \"https://cdn.jsdelivr.net/npm//vega-embed@6?noext\",\n",
       "    };\n",
       "\n",
       "    function loadScript(lib) {\n",
       "      return new Promise(function(resolve, reject) {\n",
       "        var s = document.createElement('script');\n",
       "        s.src = paths[lib];\n",
       "        s.async = true;\n",
       "        s.onload = () => resolve(paths[lib]);\n",
       "        s.onerror = () => reject(`Error loading script: ${paths[lib]}`);\n",
       "        document.getElementsByTagName(\"head\")[0].appendChild(s);\n",
       "      });\n",
       "    }\n",
       "\n",
       "    function showError(err) {\n",
       "      outputDiv.innerHTML = `<div class=\"error\" style=\"color:red;\">${err}</div>`;\n",
       "      throw err;\n",
       "    }\n",
       "\n",
       "    function displayChart(vegaEmbed) {\n",
       "      vegaEmbed(outputDiv, spec, embedOpt)\n",
       "        .catch(err => showError(`Javascript Error: ${err.message}<br>This usually means there's a typo in your chart specification. See the javascript console for the full traceback.`));\n",
       "    }\n",
       "\n",
       "    if(typeof define === \"function\" && define.amd) {\n",
       "      requirejs.config({paths});\n",
       "      require([\"vega-embed\"], displayChart, err => showError(`Error loading script: ${err.message}`));\n",
       "    } else if (typeof vegaEmbed === \"function\") {\n",
       "      displayChart(vegaEmbed);\n",
       "    } else {\n",
       "      loadScript(\"vega\")\n",
       "        .then(() => loadScript(\"vega-lite\"))\n",
       "        .then(() => loadScript(\"vega-embed\"))\n",
       "        .catch(showError)\n",
       "        .then(() => displayChart(vegaEmbed));\n",
       "    }\n",
       "  })({\"config\": {\"view\": {\"width\": 800, \"height\": 450, \"strokeOpacity\": 0}, \"background\": \"#ffffff\", \"title\": {\"anchor\": \"start\", \"font\": \"Benton Gothic Bold, sans\", \"fontColor\": \"#000000\", \"fontSize\": 22, \"fontWeight\": \"normal\"}, \"arc\": {\"fill\": \"#82c6df\"}, \"area\": {\"fill\": \"#82c6df\"}, \"line\": {\"stroke\": \"#82c6df\", \"strokeWidth\": 3}, \"path\": {\"stroke\": \"#82c6df\"}, \"rect\": {\"fill\": \"#82c6df\"}, \"shape\": {\"stroke\": \"#82c6df\"}, \"bar\": {\"fill\": \"#82c6df\"}, \"point\": {\"stroke\": \"#82c6df\"}, \"symbol\": {\"fill\": \"#82c6df\", \"size\": 30}, \"axis\": {\"titleFont\": \"Benton Gothic Bold, sans\", \"titleFontSize\": 13, \"titleFontWeight\": \"normal\", \"labelFont\": \"Benton Gothic, sans\", \"labelFontSize\": 11.5, \"labelFontWeight\": \"normal\"}, \"axisX\": {\"labelAngle\": 0, \"labelPadding\": 4, \"tickSize\": 3}, \"axisY\": {\"labelBaseline\": \"middle\", \"maxExtent\": 45, \"minExtent\": 45, \"tickSize\": 2, \"titleAlign\": \"left\", \"titleAngle\": 0, \"titleX\": -45, \"titleY\": -11}, \"legend\": {\"titleFont\": \"Benton Gothic Bold, sans\", \"titleFontSize\": 13, \"titleFontWeight\": \"normal\", \"symbolType\": \"square\", \"labelFont\": \"Benton Gothic, sans\", \"labelFontSize\": 11.5, \"orient\": \"top\", \"padding\": 10}, \"range\": {\"category\": [\"#3580b1\", \"#ec8431\", \"#ab7fb4\", \"#c89d29\", \"#adc839\", \"#829eb1\"], \"diverging\": [\"#e68a4f\", \"#f4bb6a\", \"#f9e39c\", \"#dadfe2\", \"#a6b7c6\", \"#849eae\"], \"heatmap\": [\"#fbf2c7\", \"#f9e39c\", \"#f8d36e\", \"#f4bb6a\", \"#e68a4f\", \"#d15a40\", \"#ab4232\"], \"ordinal\": [\"#fbf2c7\", \"#f9e39c\", \"#f8d36e\", \"#f4bb6a\", \"#e68a4f\", \"#d15a40\", \"#ab4232\"], \"ramp\": [\"#fbf2c7\", \"#f9e39c\", \"#f8d36e\", \"#f4bb6a\", \"#e68a4f\", \"#d15a40\", \"#ab4232\"]}}, \"data\": {\"name\": \"data-22cff53a7bddd2e4f8050009e516066c\"}, \"mark\": \"rect\", \"encoding\": {\"color\": {\"type\": \"quantitative\", \"field\": \"count\", \"scale\": {\"scheme\": \"blues\"}, \"title\": \"Tweet count\"}, \"facet\": {\"type\": \"ordinal\", \"columns\": 1, \"field\": \"date\", \"timeUnit\": \"year\", \"title\": \"\"}, \"tooltip\": [{\"type\": \"temporal\", \"field\": \"date\", \"timeUnit\": \"monthdate\", \"title\": \"Date\"}, {\"type\": \"quantitative\", \"field\": \"count\", \"title\": \"Tweets\"}], \"x\": {\"type\": \"ordinal\", \"field\": \"date\", \"timeUnit\": \"date\", \"title\": \" \"}, \"y\": {\"type\": \"ordinal\", \"field\": \"date\", \"timeUnit\": \"month\", \"title\": \"\"}}, \"height\": 180, \"title\": \"@realDonaldTrump daily tweet (without RT) frequency since inauguration\", \"width\": 600, \"$schema\": \"https://vega.github.io/schema/vega-lite/v4.8.1.json\", \"datasets\": {\"data-22cff53a7bddd2e4f8050009e516066c\": [{\"date\": \"2020-06-05T00:00:00\", \"count\": 199}, {\"date\": \"2020-05-10T00:00:00\", \"count\": 125}, {\"date\": \"2020-08-30T00:00:00\", \"count\": 110}, {\"date\": \"2020-09-08T00:00:00\", \"count\": 108}, {\"date\": \"2020-01-22T00:00:00\", \"count\": 94}, {\"date\": \"2020-08-14T00:00:00\", \"count\": 87}, {\"date\": \"2020-06-03T00:00:00\", \"count\": 86}, {\"date\": \"2020-09-14T00:00:00\", \"count\": 85}, {\"date\": \"2019-05-01T00:00:00\", \"count\": 84}, {\"date\": \"2020-03-22T00:00:00\", \"count\": 80}, {\"date\": \"2020-01-25T00:00:00\", \"count\": 80}, {\"date\": \"2020-01-24T00:00:00\", \"count\": 78}, {\"date\": \"2020-02-08T00:00:00\", \"count\": 72}, {\"date\": \"2019-05-11T00:00:00\", \"count\": 71}, {\"date\": \"2020-04-04T00:00:00\", \"count\": 70}, {\"date\": \"2020-09-07T00:00:00\", \"count\": 70}, {\"date\": \"2020-07-27T00:00:00\", \"count\": 67}, {\"date\": \"2020-04-30T00:00:00\", \"count\": 64}, {\"date\": \"2020-06-04T00:00:00\", \"count\": 63}, {\"date\": \"2020-06-01T00:00:00\", \"count\": 63}, {\"date\": \"2020-07-26T00:00:00\", \"count\": 62}, {\"date\": \"2020-03-19T00:00:00\", \"count\": 62}, {\"date\": \"2020-09-10T00:00:00\", \"count\": 60}, {\"date\": \"2020-02-01T00:00:00\", \"count\": 60}, {\"date\": \"2019-10-19T00:00:00\", \"count\": 60}, {\"date\": \"2019-09-26T00:00:00\", \"count\": 60}, {\"date\": \"2020-07-04T00:00:00\", \"count\": 59}, {\"date\": \"2020-09-13T00:00:00\", \"count\": 59}, {\"date\": \"2019-10-11T00:00:00\", \"count\": 59}, {\"date\": \"2019-08-31T00:00:00\", \"count\": 59}, {\"date\": \"2020-02-07T00:00:00\", \"count\": 59}, {\"date\": \"2020-05-23T00:00:00\", \"count\": 58}, {\"date\": \"2019-11-09T00:00:00\", \"count\": 58}, {\"date\": \"2020-07-23T00:00:00\", \"count\": 58}, {\"date\": \"2020-07-17T00:00:00\", \"count\": 57}, {\"date\": \"2020-04-09T00:00:00\", \"count\": 56}, {\"date\": \"2019-10-29T00:00:00\", \"count\": 56}, {\"date\": \"2020-08-16T00:00:00\", \"count\": 55}, {\"date\": \"2020-04-18T00:00:00\", \"count\": 55}, {\"date\": \"2020-08-18T00:00:00\", \"count\": 55}, {\"date\": \"2020-05-11T00:00:00\", \"count\": 54}, {\"date\": \"2020-02-09T00:00:00\", \"count\": 54}, {\"date\": \"2020-09-09T00:00:00\", \"count\": 54}, {\"date\": \"2020-08-25T00:00:00\", \"count\": 54}, {\"date\": \"2020-09-04T00:00:00\", \"count\": 54}, {\"date\": \"2019-10-07T00:00:00\", \"count\": 53}, {\"date\": \"2020-08-24T00:00:00\", \"count\": 53}, {\"date\": \"2020-08-01T00:00:00\", \"count\": 53}, {\"date\": \"2020-01-21T00:00:00\", \"count\": 53}, {\"date\": \"2020-03-23T00:00:00\", \"count\": 52}, {\"date\": \"2020-05-28T00:00:00\", \"count\": 52}, {\"date\": \"2020-03-02T00:00:00\", \"count\": 52}, {\"date\": \"2020-05-16T00:00:00\", \"count\": 52}, {\"date\": \"2019-10-03T00:00:00\", \"count\": 51}, {\"date\": \"2020-08-29T00:00:00\", \"count\": 50}, {\"date\": \"2019-06-26T00:00:00\", \"count\": 50}, {\"date\": \"2019-08-13T00:00:00\", \"count\": 49}, {\"date\": \"2019-11-13T00:00:00\", \"count\": 49}, {\"date\": \"2020-06-09T00:00:00\", \"count\": 49}, {\"date\": \"2020-06-13T00:00:00\", \"count\": 48}, {\"date\": \"2019-10-04T00:00:00\", \"count\": 48}, {\"date\": \"2020-07-29T00:00:00\", \"count\": 48}, {\"date\": \"2019-09-29T00:00:00\", \"count\": 48}, {\"date\": \"2020-05-12T00:00:00\", \"count\": 48}, {\"date\": \"2019-10-25T00:00:00\", \"count\": 47}, {\"date\": \"2020-03-17T00:00:00\", \"count\": 47}, {\"date\": \"2020-03-12T00:00:00\", \"count\": 47}, {\"date\": \"2019-06-15T00:00:00\", \"count\": 47}, {\"date\": \"2020-01-27T00:00:00\", \"count\": 47}, {\"date\": \"2019-07-04T00:00:00\", \"count\": 46}, {\"date\": \"2020-05-14T00:00:00\", \"count\": 46}, {\"date\": \"2020-09-05T00:00:00\", \"count\": 46}, {\"date\": \"2019-11-05T00:00:00\", \"count\": 45}, {\"date\": \"2019-09-18T00:00:00\", \"count\": 45}, {\"date\": \"2019-12-31T00:00:00\", \"count\": 45}, {\"date\": \"2020-09-02T00:00:00\", \"count\": 45}, {\"date\": \"2020-02-25T00:00:00\", \"count\": 45}, {\"date\": \"2019-07-12T00:00:00\", \"count\": 45}, {\"date\": \"2020-05-19T00:00:00\", \"count\": 45}, {\"date\": \"2020-08-20T00:00:00\", \"count\": 45}, {\"date\": \"2020-06-18T00:00:00\", \"count\": 45}, {\"date\": \"2020-02-19T00:00:00\", \"count\": 45}, {\"date\": \"2020-06-29T00:00:00\", \"count\": 45}, {\"date\": \"2020-02-21T00:00:00\", \"count\": 45}, {\"date\": \"2020-02-15T00:00:00\", \"count\": 45}, {\"date\": \"2020-04-12T00:00:00\", \"count\": 44}, {\"date\": \"2020-04-26T00:00:00\", \"count\": 44}, {\"date\": \"2019-04-22T00:00:00\", \"count\": 44}, {\"date\": \"2020-03-05T00:00:00\", \"count\": 44}, {\"date\": \"2020-08-17T00:00:00\", \"count\": 44}, {\"date\": \"2020-01-30T00:00:00\", \"count\": 44}, {\"date\": \"2019-11-17T00:00:00\", \"count\": 44}, {\"date\": \"2019-10-31T00:00:00\", \"count\": 44}, {\"date\": \"2019-07-11T00:00:00\", \"count\": 44}, {\"date\": \"2019-10-09T00:00:00\", \"count\": 43}, {\"date\": \"2019-11-03T00:00:00\", \"count\": 43}, {\"date\": \"2020-03-03T00:00:00\", \"count\": 43}, {\"date\": \"2020-06-30T00:00:00\", \"count\": 43}, {\"date\": \"2020-08-26T00:00:00\", \"count\": 43}, {\"date\": \"2019-07-24T00:00:00\", \"count\": 42}, {\"date\": \"2020-03-27T00:00:00\", \"count\": 42}, {\"date\": \"2020-07-02T00:00:00\", \"count\": 42}, {\"date\": \"2019-10-06T00:00:00\", \"count\": 42}, {\"date\": \"2019-10-23T00:00:00\", \"count\": 42}, {\"date\": \"2020-04-23T00:00:00\", \"count\": 41}, {\"date\": \"2020-08-15T00:00:00\", \"count\": 41}, {\"date\": \"2020-06-27T00:00:00\", \"count\": 41}, {\"date\": \"2019-01-20T00:00:00\", \"count\": 41}, {\"date\": \"2020-07-11T00:00:00\", \"count\": 40}, {\"date\": \"2020-05-02T00:00:00\", \"count\": 40}, {\"date\": \"2020-01-10T00:00:00\", \"count\": 40}, {\"date\": \"2020-02-24T00:00:00\", \"count\": 39}, {\"date\": \"2020-06-07T00:00:00\", \"count\": 39}, {\"date\": \"2020-06-02T00:00:00\", \"count\": 39}, {\"date\": \"2019-08-23T00:00:00\", \"count\": 39}, {\"date\": \"2020-09-17T00:00:00\", \"count\": 39}, {\"date\": \"2019-09-28T00:00:00\", \"count\": 39}, {\"date\": \"2020-05-27T00:00:00\", \"count\": 39}, {\"date\": \"2020-05-18T00:00:00\", \"count\": 39}, {\"date\": \"2019-08-25T00:00:00\", \"count\": 38}, {\"date\": \"2019-09-11T00:00:00\", \"count\": 38}, {\"date\": \"2020-05-26T00:00:00\", \"count\": 38}, {\"date\": \"2020-02-05T00:00:00\", \"count\": 38}, {\"date\": \"2019-09-01T00:00:00\", \"count\": 37}, {\"date\": \"2020-09-29T00:00:00\", \"count\": 37}, {\"date\": \"2020-08-02T00:00:00\", \"count\": 37}, {\"date\": \"2020-02-18T00:00:00\", \"count\": 37}, {\"date\": \"2020-09-12T00:00:00\", \"count\": 37}, {\"date\": \"2020-08-05T00:00:00\", \"count\": 37}, {\"date\": \"2020-06-19T00:00:00\", \"count\": 37}, {\"date\": \"2020-06-12T00:00:00\", \"count\": 37}, {\"date\": \"2020-05-17T00:00:00\", \"count\": 37}, {\"date\": \"2019-08-22T00:00:00\", \"count\": 37}, {\"date\": \"2020-07-13T00:00:00\", \"count\": 36}, {\"date\": \"2020-03-09T00:00:00\", \"count\": 36}, {\"date\": \"2020-01-14T00:00:00\", \"count\": 36}, {\"date\": \"2020-05-30T00:00:00\", \"count\": 36}, {\"date\": \"2020-03-29T00:00:00\", \"count\": 36}, {\"date\": \"2019-08-15T00:00:00\", \"count\": 36}, {\"date\": \"2019-09-16T00:00:00\", \"count\": 35}, {\"date\": \"2020-02-03T00:00:00\", \"count\": 35}, {\"date\": \"2019-03-08T00:00:00\", \"count\": 35}, {\"date\": \"2020-09-06T00:00:00\", \"count\": 35}, {\"date\": \"2020-09-26T00:00:00\", \"count\": 35}, {\"date\": \"2020-04-17T00:00:00\", \"count\": 35}, {\"date\": \"2020-05-24T00:00:00\", \"count\": 35}, {\"date\": \"2020-01-28T00:00:00\", \"count\": 35}, {\"date\": \"2020-09-30T00:00:00\", \"count\": 35}, {\"date\": \"2020-05-21T00:00:00\", \"count\": 35}, {\"date\": \"2019-05-22T00:00:00\", \"count\": 34}, {\"date\": \"2019-09-09T00:00:00\", \"count\": 34}, {\"date\": \"2020-01-26T00:00:00\", \"count\": 34}, {\"date\": \"2019-12-20T00:00:00\", \"count\": 34}, {\"date\": \"2019-07-14T00:00:00\", \"count\": 34}, {\"date\": \"2019-05-10T00:00:00\", \"count\": 34}, {\"date\": \"2020-04-20T00:00:00\", \"count\": 34}, {\"date\": \"2019-10-08T00:00:00\", \"count\": 34}, {\"date\": \"2019-09-10T00:00:00\", \"count\": 34}, {\"date\": \"2019-11-01T00:00:00\", \"count\": 34}, {\"date\": \"2019-10-14T00:00:00\", \"count\": 34}, {\"date\": \"2020-08-03T00:00:00\", \"count\": 34}, {\"date\": \"2020-01-09T00:00:00\", \"count\": 33}, {\"date\": \"2020-01-03T00:00:00\", \"count\": 33}, {\"date\": \"2020-03-10T00:00:00\", \"count\": 33}, {\"date\": \"2020-09-11T00:00:00\", \"count\": 33}, {\"date\": \"2020-06-11T00:00:00\", \"count\": 33}, {\"date\": \"2019-09-02T00:00:00\", \"count\": 33}, {\"date\": \"2019-08-20T00:00:00\", \"count\": 32}, {\"date\": \"2020-04-10T00:00:00\", \"count\": 32}, {\"date\": \"2019-03-17T00:00:00\", \"count\": 32}, {\"date\": \"2020-05-05T00:00:00\", \"count\": 32}, {\"date\": \"2020-03-25T00:00:00\", \"count\": 32}, {\"date\": \"2019-11-02T00:00:00\", \"count\": 32}, {\"date\": \"2019-09-25T00:00:00\", \"count\": 32}, {\"date\": \"2019-10-22T00:00:00\", \"count\": 32}, {\"date\": \"2020-10-05T00:00:00\", \"count\": 31}, {\"date\": \"2020-02-10T00:00:00\", \"count\": 31}, {\"date\": \"2019-07-20T00:00:00\", \"count\": 31}, {\"date\": \"2019-07-13T00:00:00\", \"count\": 31}, {\"date\": \"2020-09-03T00:00:00\", \"count\": 31}, {\"date\": \"2020-02-11T00:00:00\", \"count\": 31}, {\"date\": \"2020-02-20T00:00:00\", \"count\": 31}, {\"date\": \"2020-08-28T00:00:00\", \"count\": 31}, {\"date\": \"2020-08-07T00:00:00\", \"count\": 31}, {\"date\": \"2020-03-04T00:00:00\", \"count\": 31}, {\"date\": \"2019-08-17T00:00:00\", \"count\": 31}, {\"date\": \"2020-06-22T00:00:00\", \"count\": 31}, {\"date\": \"2020-01-17T00:00:00\", \"count\": 31}, {\"date\": \"2020-04-29T00:00:00\", \"count\": 31}, {\"date\": \"2020-04-19T00:00:00\", \"count\": 31}, {\"date\": \"2020-04-11T00:00:00\", \"count\": 31}, {\"date\": \"2020-05-03T00:00:00\", \"count\": 31}, {\"date\": \"2019-11-14T00:00:00\", \"count\": 30}, {\"date\": \"2019-05-08T00:00:00\", \"count\": 30}, {\"date\": \"2020-09-15T00:00:00\", \"count\": 30}, {\"date\": \"2020-09-01T00:00:00\", \"count\": 30}, {\"date\": \"2020-08-12T00:00:00\", \"count\": 30}, {\"date\": \"2019-05-12T00:00:00\", \"count\": 30}, {\"date\": \"2019-12-12T00:00:00\", \"count\": 30}, {\"date\": \"2019-10-16T00:00:00\", \"count\": 30}, {\"date\": \"2020-03-13T00:00:00\", \"count\": 30}, {\"date\": \"2020-03-15T00:00:00\", \"count\": 30}, {\"date\": \"2020-06-28T00:00:00\", \"count\": 30}, {\"date\": \"2020-07-10T00:00:00\", \"count\": 30}, {\"date\": \"2020-01-23T00:00:00\", \"count\": 29}, {\"date\": \"2019-05-05T00:00:00\", \"count\": 29}, {\"date\": \"2020-09-18T00:00:00\", \"count\": 29}, {\"date\": \"2020-09-20T00:00:00\", \"count\": 29}, {\"date\": \"2020-08-31T00:00:00\", \"count\": 29}, {\"date\": \"2019-09-05T00:00:00\", \"count\": 29}, {\"date\": \"2020-05-01T00:00:00\", \"count\": 29}, {\"date\": \"2020-07-01T00:00:00\", \"count\": 29}, {\"date\": \"2020-02-04T00:00:00\", \"count\": 29}, {\"date\": \"2020-06-16T00:00:00\", \"count\": 29}, {\"date\": \"2020-01-12T00:00:00\", \"count\": 29}, {\"date\": \"2019-10-01T00:00:00\", \"count\": 28}, {\"date\": \"2020-04-25T00:00:00\", \"count\": 28}, {\"date\": \"2020-01-29T00:00:00\", \"count\": 28}, {\"date\": \"2020-05-09T00:00:00\", \"count\": 28}, {\"date\": \"2020-05-15T00:00:00\", \"count\": 28}, {\"date\": \"2020-03-24T00:00:00\", \"count\": 28}, {\"date\": \"2019-01-18T00:00:00\", \"count\": 28}, {\"date\": \"2019-05-23T00:00:00\", \"count\": 28}, {\"date\": \"2020-08-27T00:00:00\", \"count\": 27}, {\"date\": \"2019-05-04T00:00:00\", \"count\": 27}, {\"date\": \"2020-02-02T00:00:00\", \"count\": 27}, {\"date\": \"2020-07-06T00:00:00\", \"count\": 27}, {\"date\": \"2020-05-22T00:00:00\", \"count\": 27}, {\"date\": \"2019-11-20T00:00:00\", \"count\": 27}, {\"date\": \"2019-10-02T00:00:00\", \"count\": 27}, {\"date\": \"2020-07-15T00:00:00\", \"count\": 27}, {\"date\": \"2019-09-04T00:00:00\", \"count\": 27}, {\"date\": \"2019-10-21T00:00:00\", \"count\": 27}, {\"date\": \"2020-01-20T00:00:00\", \"count\": 27}, {\"date\": \"2020-02-26T00:00:00\", \"count\": 27}, {\"date\": \"2020-03-01T00:00:00\", \"count\": 27}, {\"date\": \"2020-09-24T00:00:00\", \"count\": 27}, {\"date\": \"2020-01-13T00:00:00\", \"count\": 26}, {\"date\": \"2019-09-30T00:00:00\", \"count\": 26}, {\"date\": \"2019-08-07T00:00:00\", \"count\": 26}, {\"date\": \"2020-03-16T00:00:00\", \"count\": 26}, {\"date\": \"2019-10-30T00:00:00\", \"count\": 26}, {\"date\": \"2020-05-20T00:00:00\", \"count\": 26}, {\"date\": \"2019-08-30T00:00:00\", \"count\": 26}, {\"date\": \"2020-05-25T00:00:00\", \"count\": 26}, {\"date\": \"2019-07-30T00:00:00\", \"count\": 26}, {\"date\": \"2019-09-07T00:00:00\", \"count\": 26}, {\"date\": \"2020-03-31T00:00:00\", \"count\": 26}, {\"date\": \"2019-08-21T00:00:00\", \"count\": 26}, {\"date\": \"2019-11-21T00:00:00\", \"count\": 26}, {\"date\": \"2019-12-02T00:00:00\", \"count\": 26}, {\"date\": \"2020-08-13T00:00:00\", \"count\": 26}, {\"date\": \"2019-08-16T00:00:00\", \"count\": 25}, {\"date\": \"2020-01-16T00:00:00\", \"count\": 25}, {\"date\": \"2020-06-10T00:00:00\", \"count\": 25}, {\"date\": \"2019-10-26T00:00:00\", \"count\": 25}, {\"date\": \"2019-05-13T00:00:00\", \"count\": 25}, {\"date\": \"2020-01-18T00:00:00\", \"count\": 25}, {\"date\": \"2020-04-06T00:00:00\", \"count\": 25}, {\"date\": \"2019-12-15T00:00:00\", \"count\": 24}, {\"date\": \"2019-06-01T00:00:00\", \"count\": 24}, {\"date\": \"2019-12-08T00:00:00\", \"count\": 24}, {\"date\": \"2019-07-27T00:00:00\", \"count\": 24}, {\"date\": \"2019-07-29T00:00:00\", \"count\": 24}, {\"date\": \"2020-09-22T00:00:00\", \"count\": 24}, {\"date\": \"2019-10-12T00:00:00\", \"count\": 24}, {\"date\": \"2019-10-18T00:00:00\", \"count\": 24}, {\"date\": \"2019-10-20T00:00:00\", \"count\": 24}, {\"date\": \"2020-08-04T00:00:00\", \"count\": 24}, {\"date\": \"2020-06-25T00:00:00\", \"count\": 24}, {\"date\": \"2020-07-24T00:00:00\", \"count\": 24}, {\"date\": \"2019-07-09T00:00:00\", \"count\": 24}, {\"date\": \"2019-03-12T00:00:00\", \"count\": 24}, {\"date\": \"2020-07-09T00:00:00\", \"count\": 24}, {\"date\": \"2019-09-03T00:00:00\", \"count\": 24}, {\"date\": \"2019-12-14T00:00:00\", \"count\": 23}, {\"date\": \"2020-08-10T00:00:00\", \"count\": 23}, {\"date\": \"2019-09-14T00:00:00\", \"count\": 23}, {\"date\": \"2020-09-23T00:00:00\", \"count\": 23}, {\"date\": \"2019-07-31T00:00:00\", \"count\": 23}, {\"date\": \"2019-09-06T00:00:00\", \"count\": 23}, {\"date\": \"2019-10-17T00:00:00\", \"count\": 23}, {\"date\": \"2020-04-05T00:00:00\", \"count\": 23}, {\"date\": \"2020-03-21T00:00:00\", \"count\": 23}, {\"date\": \"2019-06-12T00:00:00\", \"count\": 23}, {\"date\": \"2020-02-14T00:00:00\", \"count\": 23}, {\"date\": \"2019-10-05T00:00:00\", \"count\": 23}, {\"date\": \"2019-05-25T00:00:00\", \"count\": 23}, {\"date\": \"2020-01-06T00:00:00\", \"count\": 23}, {\"date\": \"2019-09-27T00:00:00\", \"count\": 23}, {\"date\": \"2020-04-24T00:00:00\", \"count\": 22}, {\"date\": \"2020-07-03T00:00:00\", \"count\": 22}, {\"date\": \"2019-06-13T00:00:00\", \"count\": 22}, {\"date\": \"2020-06-24T00:00:00\", \"count\": 22}, {\"date\": \"2020-06-23T00:00:00\", \"count\": 22}, {\"date\": \"2019-12-27T00:00:00\", \"count\": 22}, {\"date\": \"2019-04-18T00:00:00\", \"count\": 22}, {\"date\": \"2018-06-05T00:00:00\", \"count\": 22}, {\"date\": \"2020-08-06T00:00:00\", \"count\": 22}, {\"date\": \"2017-09-30T00:00:00\", \"count\": 22}, {\"date\": \"2019-12-18T00:00:00\", \"count\": 22}, {\"date\": \"2018-08-15T00:00:00\", \"count\": 22}, {\"date\": \"2019-09-21T00:00:00\", \"count\": 22}, {\"date\": \"2019-04-25T00:00:00\", \"count\": 22}, {\"date\": \"2019-06-09T00:00:00\", \"count\": 22}, {\"date\": \"2019-07-19T00:00:00\", \"count\": 22}, {\"date\": \"2019-10-10T00:00:00\", \"count\": 22}, {\"date\": \"2020-03-11T00:00:00\", \"count\": 22}, {\"date\": \"2019-04-20T00:00:00\", \"count\": 21}, {\"date\": \"2019-01-31T00:00:00\", \"count\": 21}, {\"date\": \"2020-05-29T00:00:00\", \"count\": 21}, {\"date\": \"2020-08-22T00:00:00\", \"count\": 21}, {\"date\": \"2020-07-31T00:00:00\", \"count\": 21}, {\"date\": \"2020-07-14T00:00:00\", \"count\": 21}, {\"date\": \"2019-07-02T00:00:00\", \"count\": 21}, {\"date\": \"2019-10-13T00:00:00\", \"count\": 21}, {\"date\": \"2020-04-08T00:00:00\", \"count\": 21}, {\"date\": \"2019-11-04T00:00:00\", \"count\": 21}, {\"date\": \"2020-02-28T00:00:00\", \"count\": 21}, {\"date\": \"2018-06-07T00:00:00\", \"count\": 21}, {\"date\": \"2019-09-24T00:00:00\", \"count\": 20}, {\"date\": \"2019-08-18T00:00:00\", \"count\": 20}, {\"date\": \"2019-10-15T00:00:00\", \"count\": 20}, {\"date\": \"2019-07-23T00:00:00\", \"count\": 20}, {\"date\": \"2018-10-22T00:00:00\", \"count\": 20}, {\"date\": \"2020-09-16T00:00:00\", \"count\": 20}, {\"date\": \"2019-04-06T00:00:00\", \"count\": 20}, {\"date\": \"2019-04-05T00:00:00\", \"count\": 20}, {\"date\": \"2018-11-03T00:00:00\", \"count\": 20}, {\"date\": \"2019-03-16T00:00:00\", \"count\": 20}, {\"date\": \"2019-02-25T00:00:00\", \"count\": 20}, {\"date\": \"2018-11-05T00:00:00\", \"count\": 20}, {\"date\": \"2018-10-16T00:00:00\", \"count\": 20}, {\"date\": \"2019-12-19T00:00:00\", \"count\": 20}, {\"date\": \"2019-12-17T00:00:00\", \"count\": 20}, {\"date\": \"2020-03-18T00:00:00\", \"count\": 20}, {\"date\": \"2019-05-30T00:00:00\", \"count\": 20}, {\"date\": \"2020-03-14T00:00:00\", \"count\": 20}, {\"date\": \"2018-10-29T00:00:00\", \"count\": 20}, {\"date\": \"2020-09-25T00:00:00\", \"count\": 20}, {\"date\": \"2018-08-29T00:00:00\", \"count\": 20}, {\"date\": \"2020-09-28T00:00:00\", \"count\": 20}, {\"date\": \"2019-06-10T00:00:00\", \"count\": 20}, {\"date\": \"2019-06-11T00:00:00\", \"count\": 20}, {\"date\": \"2019-11-15T00:00:00\", \"count\": 20}, {\"date\": \"2019-11-06T00:00:00\", \"count\": 20}, {\"date\": \"2018-12-21T00:00:00\", \"count\": 20}, {\"date\": \"2019-11-11T00:00:00\", \"count\": 20}, {\"date\": \"2019-08-03T00:00:00\", \"count\": 19}, {\"date\": \"2019-04-09T00:00:00\", \"count\": 19}, {\"date\": \"2020-04-02T00:00:00\", \"count\": 19}, {\"date\": \"2018-07-03T00:00:00\", \"count\": 19}, {\"date\": \"2019-03-13T00:00:00\", \"count\": 19}, {\"date\": \"2020-04-21T00:00:00\", \"count\": 19}, {\"date\": \"2019-08-27T00:00:00\", \"count\": 19}, {\"date\": \"2019-01-14T00:00:00\", \"count\": 19}, {\"date\": \"2019-03-05T00:00:00\", \"count\": 19}, {\"date\": \"2019-01-15T00:00:00\", \"count\": 19}, {\"date\": \"2020-07-25T00:00:00\", \"count\": 19}, {\"date\": \"2019-12-06T00:00:00\", \"count\": 19}, {\"date\": \"2019-05-03T00:00:00\", \"count\": 19}, {\"date\": \"2017-09-26T00:00:00\", \"count\": 19}, {\"date\": \"2019-09-15T00:00:00\", \"count\": 19}, {\"date\": \"2019-05-19T00:00:00\", \"count\": 19}, {\"date\": \"2020-01-07T00:00:00\", \"count\": 19}, {\"date\": \"2019-05-20T00:00:00\", \"count\": 19}, {\"date\": \"2019-06-07T00:00:00\", \"count\": 19}, {\"date\": \"2019-06-03T00:00:00\", \"count\": 19}, {\"date\": \"2017-11-01T00:00:00\", \"count\": 19}, {\"date\": \"2020-07-16T00:00:00\", \"count\": 18}, {\"date\": \"2019-04-12T00:00:00\", \"count\": 18}, {\"date\": \"2019-08-06T00:00:00\", \"count\": 18}, {\"date\": \"2020-05-31T00:00:00\", \"count\": 18}, {\"date\": \"2019-12-10T00:00:00\", \"count\": 18}, {\"date\": \"2019-11-24T00:00:00\", \"count\": 18}, {\"date\": \"2019-07-22T00:00:00\", \"count\": 18}, {\"date\": \"2017-11-29T00:00:00\", \"count\": 18}, {\"date\": \"2019-07-10T00:00:00\", \"count\": 18}, {\"date\": \"2019-06-16T00:00:00\", \"count\": 18}, {\"date\": \"2019-10-28T00:00:00\", \"count\": 18}, {\"date\": \"2019-08-24T00:00:00\", \"count\": 18}, {\"date\": \"2019-04-23T00:00:00\", \"count\": 18}, {\"date\": \"2019-05-14T00:00:00\", \"count\": 18}, {\"date\": \"2019-08-28T00:00:00\", \"count\": 18}, {\"date\": \"2020-02-17T00:00:00\", \"count\": 18}, {\"date\": \"2020-04-28T00:00:00\", \"count\": 18}, {\"date\": \"2018-10-31T00:00:00\", \"count\": 18}, {\"date\": \"2018-10-18T00:00:00\", \"count\": 18}, {\"date\": \"2019-09-22T00:00:00\", \"count\": 18}, {\"date\": \"2019-03-09T00:00:00\", \"count\": 17}, {\"date\": \"2018-09-20T00:00:00\", \"count\": 17}, {\"date\": \"2019-04-27T00:00:00\", \"count\": 17}, {\"date\": \"2018-08-28T00:00:00\", \"count\": 17}, {\"date\": \"2018-08-13T00:00:00\", \"count\": 17}, {\"date\": \"2019-03-25T00:00:00\", \"count\": 17}, {\"date\": \"2019-01-01T00:00:00\", \"count\": 17}, {\"date\": \"2019-05-27T00:00:00\", \"count\": 17}, {\"date\": \"2019-06-22T00:00:00\", \"count\": 17}, {\"date\": \"2019-05-21T00:00:00\", \"count\": 17}, {\"date\": \"2019-02-18T00:00:00\", \"count\": 17}, {\"date\": \"2018-06-26T00:00:00\", \"count\": 17}, {\"date\": \"2019-05-18T00:00:00\", \"count\": 17}, {\"date\": \"2018-11-29T00:00:00\", \"count\": 17}, {\"date\": \"2020-07-28T00:00:00\", \"count\": 17}, {\"date\": \"2019-12-13T00:00:00\", \"count\": 17}, {\"date\": \"2020-02-12T00:00:00\", \"count\": 17}, {\"date\": \"2017-09-20T00:00:00\", \"count\": 17}, {\"date\": \"2019-09-23T00:00:00\", \"count\": 17}, {\"date\": \"2020-08-23T00:00:00\", \"count\": 17}, {\"date\": \"2020-08-19T00:00:00\", \"count\": 17}, {\"date\": \"2018-10-25T00:00:00\", \"count\": 17}, {\"date\": \"2018-10-17T00:00:00\", \"count\": 17}, {\"date\": \"2020-04-27T00:00:00\", \"count\": 17}, {\"date\": \"2017-07-25T00:00:00\", \"count\": 17}, {\"date\": \"2019-07-26T00:00:00\", \"count\": 17}, {\"date\": \"2020-07-30T00:00:00\", \"count\": 17}, {\"date\": \"2019-12-26T00:00:00\", \"count\": 17}, {\"date\": \"2018-12-31T00:00:00\", \"count\": 16}, {\"date\": \"2020-04-13T00:00:00\", \"count\": 16}, {\"date\": \"2017-10-18T00:00:00\", \"count\": 16}, {\"date\": \"2019-07-25T00:00:00\", \"count\": 16}, {\"date\": \"2017-10-27T00:00:00\", \"count\": 16}, {\"date\": \"2017-10-31T00:00:00\", \"count\": 16}, {\"date\": \"2017-11-03T00:00:00\", \"count\": 16}, {\"date\": \"2017-11-07T00:00:00\", \"count\": 16}, {\"date\": \"2018-08-24T00:00:00\", \"count\": 16}, {\"date\": \"2018-05-23T00:00:00\", \"count\": 16}, {\"date\": \"2019-03-28T00:00:00\", \"count\": 16}, {\"date\": \"2018-07-27T00:00:00\", \"count\": 16}, {\"date\": \"2018-09-10T00:00:00\", \"count\": 16}, {\"date\": \"2020-01-31T00:00:00\", \"count\": 16}, {\"date\": \"2018-08-22T00:00:00\", \"count\": 16}, {\"date\": \"2019-01-05T00:00:00\", \"count\": 16}, {\"date\": \"2020-03-28T00:00:00\", \"count\": 16}, {\"date\": \"2018-08-17T00:00:00\", \"count\": 16}, {\"date\": \"2018-08-16T00:00:00\", \"count\": 16}, {\"date\": \"2019-04-24T00:00:00\", \"count\": 16}, {\"date\": \"2020-03-07T00:00:00\", \"count\": 16}, {\"date\": \"2018-06-21T00:00:00\", \"count\": 16}, {\"date\": \"2019-06-08T00:00:00\", \"count\": 16}, {\"date\": \"2019-04-15T00:00:00\", \"count\": 16}, {\"date\": \"2019-11-23T00:00:00\", \"count\": 16}, {\"date\": \"2019-07-15T00:00:00\", \"count\": 16}, {\"date\": \"2020-05-13T00:00:00\", \"count\": 16}, {\"date\": \"2019-07-07T00:00:00\", \"count\": 16}, {\"date\": \"2018-09-01T00:00:00\", \"count\": 16}, {\"date\": \"2018-12-07T00:00:00\", \"count\": 16}, {\"date\": \"2019-08-19T00:00:00\", \"count\": 16}, {\"date\": \"2019-08-01T00:00:00\", \"count\": 16}, {\"date\": \"2018-09-04T00:00:00\", \"count\": 16}, {\"date\": \"2019-07-17T00:00:00\", \"count\": 15}, {\"date\": \"2018-06-23T00:00:00\", \"count\": 15}, {\"date\": \"2019-08-14T00:00:00\", \"count\": 15}, {\"date\": \"2020-01-11T00:00:00\", \"count\": 15}, {\"date\": \"2020-06-20T00:00:00\", \"count\": 15}, {\"date\": \"2019-03-03T00:00:00\", \"count\": 15}, {\"date\": \"2018-07-31T00:00:00\", \"count\": 15}, {\"date\": \"2019-07-21T00:00:00\", \"count\": 15}, {\"date\": \"2019-07-06T00:00:00\", \"count\": 15}, {\"date\": \"2019-09-12T00:00:00\", \"count\": 15}, {\"date\": \"2018-07-25T00:00:00\", \"count\": 15}, {\"date\": \"2018-09-21T00:00:00\", \"count\": 15}, {\"date\": \"2019-03-18T00:00:00\", \"count\": 15}, {\"date\": \"2017-10-13T00:00:00\", \"count\": 15}, {\"date\": \"2018-12-20T00:00:00\", \"count\": 15}, {\"date\": \"2018-08-01T00:00:00\", \"count\": 15}, {\"date\": \"2018-08-30T00:00:00\", \"count\": 15}, {\"date\": \"2020-04-22T00:00:00\", \"count\": 15}, {\"date\": \"2019-06-02T00:00:00\", \"count\": 15}, {\"date\": \"2019-11-16T00:00:00\", \"count\": 15}, {\"date\": \"2017-10-25T00:00:00\", \"count\": 15}, {\"date\": \"2019-06-18T00:00:00\", \"count\": 15}, {\"date\": \"2020-01-01T00:00:00\", \"count\": 15}, {\"date\": \"2019-05-17T00:00:00\", \"count\": 15}, {\"date\": \"2018-04-21T00:00:00\", \"count\": 15}, {\"date\": \"2018-04-17T00:00:00\", \"count\": 15}, {\"date\": \"2018-09-18T00:00:00\", \"count\": 14}, {\"date\": \"2018-07-29T00:00:00\", \"count\": 14}, {\"date\": \"2018-07-24T00:00:00\", \"count\": 14}, {\"date\": \"2018-06-22T00:00:00\", \"count\": 14}, {\"date\": \"2017-06-22T00:00:00\", \"count\": 14}, {\"date\": \"2019-02-23T00:00:00\", \"count\": 14}, {\"date\": \"2017-07-22T00:00:00\", \"count\": 14}, {\"date\": \"2019-02-10T00:00:00\", \"count\": 14}, {\"date\": \"2018-06-25T00:00:00\", \"count\": 14}, {\"date\": \"2019-03-10T00:00:00\", \"count\": 14}, {\"date\": \"2020-07-08T00:00:00\", \"count\": 14}, {\"date\": \"2019-02-09T00:00:00\", \"count\": 14}, {\"date\": \"2020-05-04T00:00:00\", \"count\": 14}, {\"date\": \"2019-03-04T00:00:00\", \"count\": 14}, {\"date\": \"2019-04-01T00:00:00\", \"count\": 14}, {\"date\": \"2019-03-14T00:00:00\", \"count\": 14}, {\"date\": \"2017-05-28T00:00:00\", \"count\": 14}, {\"date\": \"2020-06-06T00:00:00\", \"count\": 14}, {\"date\": \"2019-05-07T00:00:00\", \"count\": 14}, {\"date\": \"2020-08-08T00:00:00\", \"count\": 14}, {\"date\": \"2018-09-13T00:00:00\", \"count\": 14}, {\"date\": \"2019-07-28T00:00:00\", \"count\": 14}, {\"date\": \"2019-08-05T00:00:00\", \"count\": 14}, {\"date\": \"2018-09-11T00:00:00\", \"count\": 14}, {\"date\": \"2019-07-16T00:00:00\", \"count\": 14}, {\"date\": \"2018-12-18T00:00:00\", \"count\": 14}, {\"date\": \"2019-09-08T00:00:00\", \"count\": 14}, {\"date\": \"2018-04-02T00:00:00\", \"count\": 14}, {\"date\": \"2019-07-03T00:00:00\", \"count\": 14}, {\"date\": \"2019-07-01T00:00:00\", \"count\": 14}, {\"date\": \"2019-06-25T00:00:00\", \"count\": 14}, {\"date\": \"2018-01-11T00:00:00\", \"count\": 14}, {\"date\": \"2019-11-18T00:00:00\", \"count\": 14}, {\"date\": \"2019-06-04T00:00:00\", \"count\": 14}, {\"date\": \"2019-01-13T00:00:00\", \"count\": 14}, {\"date\": \"2018-10-27T00:00:00\", \"count\": 14}, {\"date\": \"2019-05-24T00:00:00\", \"count\": 14}, {\"date\": \"2017-10-11T00:00:00\", \"count\": 14}, {\"date\": \"2017-09-23T00:00:00\", \"count\": 14}, {\"date\": \"2018-05-25T00:00:00\", \"count\": 14}, {\"date\": \"2019-01-12T00:00:00\", \"count\": 14}, {\"date\": \"2017-08-25T00:00:00\", \"count\": 14}, {\"date\": \"2018-06-04T00:00:00\", \"count\": 14}, {\"date\": \"2017-08-24T00:00:00\", \"count\": 14}, {\"date\": \"2019-01-22T00:00:00\", \"count\": 13}, {\"date\": \"2020-07-21T00:00:00\", \"count\": 13}, {\"date\": \"2020-08-11T00:00:00\", \"count\": 13}, {\"date\": \"2018-12-13T00:00:00\", \"count\": 13}, {\"date\": \"2018-07-30T00:00:00\", \"count\": 13}, {\"date\": \"2019-01-09T00:00:00\", \"count\": 13}, {\"date\": \"2019-01-10T00:00:00\", \"count\": 13}, {\"date\": \"2018-11-13T00:00:00\", \"count\": 13}, {\"date\": \"2018-11-09T00:00:00\", \"count\": 13}, {\"date\": \"2018-08-20T00:00:00\", \"count\": 13}, {\"date\": \"2020-10-01T00:00:00\", \"count\": 13}, {\"date\": \"2018-12-23T00:00:00\", \"count\": 13}, {\"date\": \"2020-09-21T00:00:00\", \"count\": 13}, {\"date\": \"2019-02-11T00:00:00\", \"count\": 13}, {\"date\": \"2017-07-29T00:00:00\", \"count\": 13}, {\"date\": \"2019-02-17T00:00:00\", \"count\": 13}, {\"date\": \"2018-04-19T00:00:00\", \"count\": 13}, {\"date\": \"2020-02-06T00:00:00\", \"count\": 13}, {\"date\": \"2017-09-15T00:00:00\", \"count\": 13}, {\"date\": \"2019-05-09T00:00:00\", \"count\": 13}, {\"date\": \"2017-09-25T00:00:00\", \"count\": 13}, {\"date\": \"2017-10-21T00:00:00\", \"count\": 13}, {\"date\": \"2018-05-04T00:00:00\", \"count\": 13}, {\"date\": \"2017-11-02T00:00:00\", \"count\": 13}, {\"date\": \"2019-12-07T00:00:00\", \"count\": 13}, {\"date\": \"2018-10-09T00:00:00\", \"count\": 13}, {\"date\": \"2020-06-14T00:00:00\", \"count\": 13}, {\"date\": \"2019-06-14T00:00:00\", \"count\": 13}, {\"date\": \"2019-10-24T00:00:00\", \"count\": 13}, {\"date\": \"2017-12-18T00:00:00\", \"count\": 13}, {\"date\": \"2019-06-24T00:00:00\", \"count\": 13}, {\"date\": \"2018-02-20T00:00:00\", \"count\": 13}, {\"date\": \"2019-08-12T00:00:00\", \"count\": 13}, {\"date\": \"2019-08-10T00:00:00\", \"count\": 13}, {\"date\": \"2019-07-18T00:00:00\", \"count\": 13}, {\"date\": \"2018-05-30T00:00:00\", \"count\": 13}, {\"date\": \"2019-04-29T00:00:00\", \"count\": 13}, {\"date\": \"2018-06-02T00:00:00\", \"count\": 13}, {\"date\": \"2020-02-22T00:00:00\", \"count\": 13}, {\"date\": \"2019-03-02T00:00:00\", \"count\": 13}, {\"date\": \"2020-06-08T00:00:00\", \"count\": 13}, {\"date\": \"2018-07-11T00:00:00\", \"count\": 13}, {\"date\": \"2019-03-19T00:00:00\", \"count\": 13}, {\"date\": \"2017-06-29T00:00:00\", \"count\": 13}, {\"date\": \"2020-04-07T00:00:00\", \"count\": 13}, {\"date\": \"2017-07-14T00:00:00\", \"count\": 13}, {\"date\": \"2019-04-08T00:00:00\", \"count\": 13}, {\"date\": \"2018-06-20T00:00:00\", \"count\": 13}, {\"date\": \"2018-06-17T00:00:00\", \"count\": 13}, {\"date\": \"2018-06-15T00:00:00\", \"count\": 13}, {\"date\": \"2018-06-13T00:00:00\", \"count\": 13}, {\"date\": \"2018-06-12T00:00:00\", \"count\": 13}, {\"date\": \"2019-04-19T00:00:00\", \"count\": 13}, {\"date\": \"2017-08-07T00:00:00\", \"count\": 13}, {\"date\": \"2018-09-25T00:00:00\", \"count\": 13}, {\"date\": \"2020-10-06T00:00:00\", \"count\": 13}, {\"date\": \"2018-10-13T00:00:00\", \"count\": 12}, {\"date\": \"2018-11-02T00:00:00\", \"count\": 12}, {\"date\": \"2018-10-26T00:00:00\", \"count\": 12}, {\"date\": \"2019-11-12T00:00:00\", \"count\": 12}, {\"date\": \"2018-12-03T00:00:00\", \"count\": 12}, {\"date\": \"2018-12-24T00:00:00\", \"count\": 12}, {\"date\": \"2020-09-27T00:00:00\", \"count\": 12}, {\"date\": \"2020-07-22T00:00:00\", \"count\": 12}, {\"date\": \"2020-06-15T00:00:00\", \"count\": 12}, {\"date\": \"2020-05-08T00:00:00\", \"count\": 12}, {\"date\": \"2020-03-30T00:00:00\", \"count\": 12}, {\"date\": \"2020-03-06T00:00:00\", \"count\": 12}, {\"date\": \"2020-02-29T00:00:00\", \"count\": 12}, {\"date\": \"2020-02-23T00:00:00\", \"count\": 12}, {\"date\": \"2019-12-16T00:00:00\", \"count\": 12}, {\"date\": \"2019-11-07T00:00:00\", \"count\": 12}, {\"date\": \"2019-09-19T00:00:00\", \"count\": 12}, {\"date\": \"2019-05-31T00:00:00\", \"count\": 12}, {\"date\": \"2019-05-02T00:00:00\", \"count\": 12}, {\"date\": \"2019-04-13T00:00:00\", \"count\": 12}, {\"date\": \"2019-04-11T00:00:00\", \"count\": 12}, {\"date\": \"2019-03-26T00:00:00\", \"count\": 12}, {\"date\": \"2019-01-27T00:00:00\", \"count\": 12}, {\"date\": \"2019-01-26T00:00:00\", \"count\": 12}, {\"date\": \"2018-12-27T00:00:00\", \"count\": 12}, {\"date\": \"2018-10-12T00:00:00\", \"count\": 12}, {\"date\": \"2017-01-20T00:00:00\", \"count\": 12}, {\"date\": \"2018-12-08T00:00:00\", \"count\": 12}, {\"date\": \"2017-11-28T00:00:00\", \"count\": 12}, {\"date\": \"2018-09-17T00:00:00\", \"count\": 12}, {\"date\": \"2017-12-09T00:00:00\", \"count\": 12}, {\"date\": \"2018-09-24T00:00:00\", \"count\": 12}, {\"date\": \"2018-06-19T00:00:00\", \"count\": 12}, {\"date\": \"2017-10-07T00:00:00\", \"count\": 12}, {\"date\": \"2018-07-19T00:00:00\", \"count\": 12}, {\"date\": \"2017-08-16T00:00:00\", \"count\": 12}, {\"date\": \"2018-07-23T00:00:00\", \"count\": 12}, {\"date\": \"2018-08-03T00:00:00\", \"count\": 12}, {\"date\": \"2018-08-04T00:00:00\", \"count\": 12}, {\"date\": \"2017-07-01T00:00:00\", \"count\": 12}, {\"date\": \"2017-06-19T00:00:00\", \"count\": 12}, {\"date\": \"2018-10-02T00:00:00\", \"count\": 12}, {\"date\": \"2017-04-27T00:00:00\", \"count\": 12}, {\"date\": \"2018-08-14T00:00:00\", \"count\": 12}, {\"date\": \"2018-10-03T00:00:00\", \"count\": 12}, {\"date\": \"2018-08-18T00:00:00\", \"count\": 12}, {\"date\": \"2018-09-05T00:00:00\", \"count\": 12}, {\"date\": \"2018-06-27T00:00:00\", \"count\": 12}, {\"date\": \"2018-05-07T00:00:00\", \"count\": 11}, {\"date\": \"2019-04-26T00:00:00\", \"count\": 11}, {\"date\": \"2018-04-27T00:00:00\", \"count\": 11}, {\"date\": \"2019-04-16T00:00:00\", \"count\": 11}, {\"date\": \"2019-06-05T00:00:00\", \"count\": 11}, {\"date\": \"2018-07-18T00:00:00\", \"count\": 11}, {\"date\": \"2018-06-28T00:00:00\", \"count\": 11}, {\"date\": \"2019-04-04T00:00:00\", \"count\": 11}, {\"date\": \"2019-04-02T00:00:00\", \"count\": 11}, {\"date\": \"2019-03-22T00:00:00\", \"count\": 11}, {\"date\": \"2019-03-15T00:00:00\", \"count\": 11}, {\"date\": \"2019-06-19T00:00:00\", \"count\": 11}, {\"date\": \"2019-02-16T00:00:00\", \"count\": 11}, {\"date\": \"2019-01-30T00:00:00\", \"count\": 11}, {\"date\": \"2019-01-21T00:00:00\", \"count\": 11}, {\"date\": \"2018-08-21T00:00:00\", \"count\": 11}, {\"date\": \"2019-06-17T00:00:00\", \"count\": 11}, {\"date\": \"2018-02-24T00:00:00\", \"count\": 11}, {\"date\": \"2018-04-11T00:00:00\", \"count\": 11}, {\"date\": \"2017-09-14T00:00:00\", \"count\": 11}, {\"date\": \"2017-02-08T00:00:00\", \"count\": 11}, {\"date\": \"2017-02-15T00:00:00\", \"count\": 11}, {\"date\": \"2020-07-18T00:00:00\", \"count\": 11}, {\"date\": \"2020-07-12T00:00:00\", \"count\": 11}, {\"date\": \"2017-05-04T00:00:00\", \"count\": 11}, {\"date\": \"2020-04-15T00:00:00\", \"count\": 11}, {\"date\": \"2017-07-09T00:00:00\", \"count\": 11}, {\"date\": \"2017-07-12T00:00:00\", \"count\": 11}, {\"date\": \"2020-04-03T00:00:00\", \"count\": 11}, {\"date\": \"2017-07-24T00:00:00\", \"count\": 11}, {\"date\": \"2017-08-27T00:00:00\", \"count\": 11}, {\"date\": \"2019-12-23T00:00:00\", \"count\": 11}, {\"date\": \"2019-06-29T00:00:00\", \"count\": 11}, {\"date\": \"2019-12-05T00:00:00\", \"count\": 11}, {\"date\": \"2019-11-26T00:00:00\", \"count\": 11}, {\"date\": \"2017-11-15T00:00:00\", \"count\": 11}, {\"date\": \"2019-11-10T00:00:00\", \"count\": 11}, {\"date\": \"2017-11-30T00:00:00\", \"count\": 11}, {\"date\": \"2017-12-22T00:00:00\", \"count\": 11}, {\"date\": \"2019-08-29T00:00:00\", \"count\": 11}, {\"date\": \"2018-12-11T00:00:00\", \"count\": 11}, {\"date\": \"2019-08-08T00:00:00\", \"count\": 11}, {\"date\": \"2018-03-10T00:00:00\", \"count\": 11}, {\"date\": \"2019-07-08T00:00:00\", \"count\": 11}, {\"date\": \"2018-12-16T00:00:00\", \"count\": 11}, {\"date\": \"2018-10-04T00:00:00\", \"count\": 11}, {\"date\": \"2018-11-21T00:00:00\", \"count\": 11}, {\"date\": \"2018-11-25T00:00:00\", \"count\": 11}, {\"date\": \"2018-11-06T00:00:00\", \"count\": 11}, {\"date\": \"2018-06-09T00:00:00\", \"count\": 10}, {\"date\": \"2017-08-17T00:00:00\", \"count\": 10}, {\"date\": \"2019-04-14T00:00:00\", \"count\": 10}, {\"date\": \"2018-08-02T00:00:00\", \"count\": 10}, {\"date\": \"2018-11-07T00:00:00\", \"count\": 10}, {\"date\": \"2017-06-20T00:00:00\", \"count\": 10}, {\"date\": \"2020-02-27T00:00:00\", \"count\": 10}, {\"date\": \"2018-10-10T00:00:00\", \"count\": 10}, {\"date\": \"2018-07-26T00:00:00\", \"count\": 10}, {\"date\": \"2017-02-11T00:00:00\", \"count\": 10}, {\"date\": \"2020-05-07T00:00:00\", \"count\": 10}, {\"date\": \"2018-05-28T00:00:00\", \"count\": 10}, {\"date\": \"2019-01-24T00:00:00\", \"count\": 10}, {\"date\": \"2020-02-13T00:00:00\", \"count\": 10}, {\"date\": \"2018-05-26T00:00:00\", \"count\": 10}, {\"date\": \"2018-09-09T00:00:00\", \"count\": 10}, {\"date\": \"2018-07-14T00:00:00\", \"count\": 10}, {\"date\": \"2019-02-19T00:00:00\", \"count\": 10}, {\"date\": \"2018-10-20T00:00:00\", \"count\": 10}, {\"date\": \"2019-03-20T00:00:00\", \"count\": 10}, {\"date\": \"2018-10-19T00:00:00\", \"count\": 10}, {\"date\": \"2018-07-10T00:00:00\", \"count\": 10}, {\"date\": \"2019-08-26T00:00:00\", \"count\": 10}, {\"date\": \"2019-03-29T00:00:00\", \"count\": 10}, {\"date\": \"2019-09-20T00:00:00\", \"count\": 10}, {\"date\": \"2018-02-18T00:00:00\", \"count\": 10}, {\"date\": \"2018-05-21T00:00:00\", \"count\": 10}, {\"date\": \"2018-02-22T00:00:00\", \"count\": 10}, {\"date\": \"2019-03-01T00:00:00\", \"count\": 10}, {\"date\": \"2017-07-26T00:00:00\", \"count\": 10}, {\"date\": \"2019-02-24T00:00:00\", \"count\": 10}, {\"date\": \"2017-07-27T00:00:00\", \"count\": 10}, {\"date\": \"2018-02-27T00:00:00\", \"count\": 10}, {\"date\": \"2017-06-06T00:00:00\", \"count\": 10}, {\"date\": \"2017-07-03T00:00:00\", \"count\": 10}, {\"date\": \"2017-02-04T00:00:00\", \"count\": 10}, {\"date\": \"2018-05-16T00:00:00\", \"count\": 10}, {\"date\": \"2019-05-28T00:00:00\", \"count\": 10}, {\"date\": \"2019-06-21T00:00:00\", \"count\": 10}, {\"date\": \"2018-04-12T00:00:00\", \"count\": 10}, {\"date\": \"2018-05-02T00:00:00\", \"count\": 10}, {\"date\": \"2019-12-25T00:00:00\", \"count\": 10}, {\"date\": \"2017-10-12T00:00:00\", \"count\": 10}, {\"date\": \"2018-12-22T00:00:00\", \"count\": 10}, {\"date\": \"2018-09-03T00:00:00\", \"count\": 10}, {\"date\": \"2018-12-19T00:00:00\", \"count\": 10}, {\"date\": \"2018-09-14T00:00:00\", \"count\": 10}, {\"date\": \"2017-05-12T00:00:00\", \"count\": 10}, {\"date\": \"2017-09-19T00:00:00\", \"count\": 10}, {\"date\": \"2019-12-04T00:00:00\", \"count\": 10}, {\"date\": \"2019-12-24T00:00:00\", \"count\": 10}, {\"date\": \"2017-10-17T00:00:00\", \"count\": 10}, {\"date\": \"2017-05-31T00:00:00\", \"count\": 10}, {\"date\": \"2018-08-11T00:00:00\", \"count\": 10}, {\"date\": \"2018-05-18T00:00:00\", \"count\": 10}, {\"date\": \"2018-09-06T00:00:00\", \"count\": 10}, {\"date\": \"2018-12-04T00:00:00\", \"count\": 10}, {\"date\": \"2018-04-20T00:00:00\", \"count\": 10}, {\"date\": \"2018-12-14T00:00:00\", \"count\": 10}, {\"date\": \"2018-05-17T00:00:00\", \"count\": 10}, {\"date\": \"2019-11-30T00:00:00\", \"count\": 10}, {\"date\": \"2019-01-11T00:00:00\", \"count\": 10}, {\"date\": \"2017-03-30T00:00:00\", \"count\": 9}, {\"date\": \"2018-02-23T00:00:00\", \"count\": 9}, {\"date\": \"2017-03-15T00:00:00\", \"count\": 9}, {\"date\": \"2018-11-12T00:00:00\", \"count\": 9}, {\"date\": \"2018-09-15T00:00:00\", \"count\": 9}, {\"date\": \"2018-09-12T00:00:00\", \"count\": 9}, {\"date\": \"2018-11-15T00:00:00\", \"count\": 9}, {\"date\": \"2018-02-17T00:00:00\", \"count\": 9}, {\"date\": \"2018-06-30T00:00:00\", \"count\": 9}, {\"date\": \"2018-07-05T00:00:00\", \"count\": 9}, {\"date\": \"2019-06-06T00:00:00\", \"count\": 9}, {\"date\": \"2017-06-28T00:00:00\", \"count\": 9}, {\"date\": \"2018-05-09T00:00:00\", \"count\": 9}, {\"date\": \"2018-03-01T00:00:00\", \"count\": 9}, {\"date\": \"2019-04-21T00:00:00\", \"count\": 9}, {\"date\": \"2019-05-06T00:00:00\", \"count\": 9}, {\"date\": \"2018-03-21T00:00:00\", \"count\": 9}, {\"date\": \"2019-04-30T00:00:00\", \"count\": 9}, {\"date\": \"2020-04-14T00:00:00\", \"count\": 9}, {\"date\": \"2017-06-13T00:00:00\", \"count\": 9}, {\"date\": \"2018-03-14T00:00:00\", \"count\": 9}, {\"date\": \"2018-03-13T00:00:00\", \"count\": 9}, {\"date\": \"2018-06-06T00:00:00\", \"count\": 9}, {\"date\": \"2019-08-02T00:00:00\", \"count\": 9}, {\"date\": \"2018-11-16T00:00:00\", \"count\": 9}, {\"date\": \"2018-03-28T00:00:00\", \"count\": 9}, {\"date\": \"2018-10-08T00:00:00\", \"count\": 9}, {\"date\": \"2017-05-10T00:00:00\", \"count\": 9}, {\"date\": \"2017-05-08T00:00:00\", \"count\": 9}, {\"date\": \"2017-06-26T00:00:00\", \"count\": 9}, {\"date\": \"2019-08-11T00:00:00\", \"count\": 9}, {\"date\": \"2017-06-05T00:00:00\", \"count\": 9}, {\"date\": \"2019-04-10T00:00:00\", \"count\": 9}, {\"date\": \"2020-05-06T00:00:00\", \"count\": 9}, {\"date\": \"2017-10-10T00:00:00\", \"count\": 9}, {\"date\": \"2018-02-10T00:00:00\", \"count\": 9}, {\"date\": \"2019-11-22T00:00:00\", \"count\": 9}, {\"date\": \"2017-02-17T00:00:00\", \"count\": 9}, {\"date\": \"2017-12-08T00:00:00\", \"count\": 9}, {\"date\": \"2018-11-01T00:00:00\", \"count\": 9}, {\"date\": \"2019-11-08T00:00:00\", \"count\": 9}, {\"date\": \"2019-09-13T00:00:00\", \"count\": 9}, {\"date\": \"2018-08-06T00:00:00\", \"count\": 9}, {\"date\": \"2017-11-23T00:00:00\", \"count\": 9}, {\"date\": \"2017-11-22T00:00:00\", \"count\": 9}, {\"date\": \"2018-09-08T00:00:00\", \"count\": 9}, {\"date\": \"2019-11-19T00:00:00\", \"count\": 9}, {\"date\": \"2017-09-06T00:00:00\", \"count\": 9}, {\"date\": \"2018-12-05T00:00:00\", \"count\": 9}, {\"date\": \"2019-02-08T00:00:00\", \"count\": 9}, {\"date\": \"2017-09-22T00:00:00\", \"count\": 9}, {\"date\": \"2017-11-13T00:00:00\", \"count\": 9}, {\"date\": \"2018-08-25T00:00:00\", \"count\": 9}, {\"date\": \"2017-09-27T00:00:00\", \"count\": 9}, {\"date\": \"2018-12-29T00:00:00\", \"count\": 9}, {\"date\": \"2017-09-29T00:00:00\", \"count\": 9}, {\"date\": \"2017-10-28T00:00:00\", \"count\": 9}, {\"date\": \"2018-08-27T00:00:00\", \"count\": 9}, {\"date\": \"2019-12-28T00:00:00\", \"count\": 9}, {\"date\": \"2017-10-08T00:00:00\", \"count\": 9}, {\"date\": \"2017-10-19T00:00:00\", \"count\": 9}, {\"date\": \"2019-02-07T00:00:00\", \"count\": 9}, {\"date\": \"2017-09-01T00:00:00\", \"count\": 9}, {\"date\": \"2017-08-14T00:00:00\", \"count\": 9}, {\"date\": \"2017-03-03T00:00:00\", \"count\": 9}, {\"date\": \"2017-04-26T00:00:00\", \"count\": 9}, {\"date\": \"2020-03-26T00:00:00\", \"count\": 9}, {\"date\": \"2019-02-20T00:00:00\", \"count\": 9}, {\"date\": \"2018-11-04T00:00:00\", \"count\": 9}, {\"date\": \"2017-07-16T00:00:00\", \"count\": 9}, {\"date\": \"2018-01-20T00:00:00\", \"count\": 9}, {\"date\": \"2020-03-20T00:00:00\", \"count\": 9}, {\"date\": \"2018-01-18T00:00:00\", \"count\": 9}, {\"date\": \"2018-01-16T00:00:00\", \"count\": 9}, {\"date\": \"2019-02-12T00:00:00\", \"count\": 9}, {\"date\": \"2018-11-30T00:00:00\", \"count\": 9}, {\"date\": \"2018-11-27T00:00:00\", \"count\": 9}, {\"date\": \"2019-09-17T00:00:00\", \"count\": 8}, {\"date\": \"2019-12-11T00:00:00\", \"count\": 8}, {\"date\": \"2018-10-01T00:00:00\", \"count\": 8}, {\"date\": \"2018-04-08T00:00:00\", \"count\": 8}, {\"date\": \"2018-03-06T00:00:00\", \"count\": 8}, {\"date\": \"2020-06-17T00:00:00\", \"count\": 8}, {\"date\": \"2020-01-19T00:00:00\", \"count\": 8}, {\"date\": \"2019-07-05T00:00:00\", \"count\": 8}, {\"date\": \"2017-10-24T00:00:00\", \"count\": 8}, {\"date\": \"2018-04-15T00:00:00\", \"count\": 8}, {\"date\": \"2020-06-21T00:00:00\", \"count\": 8}, {\"date\": \"2018-10-24T00:00:00\", \"count\": 8}, {\"date\": \"2018-04-18T00:00:00\", \"count\": 8}, {\"date\": \"2018-10-15T00:00:00\", \"count\": 8}, {\"date\": \"2020-04-16T00:00:00\", \"count\": 8}, {\"date\": \"2017-11-11T00:00:00\", \"count\": 8}, {\"date\": \"2018-01-17T00:00:00\", \"count\": 8}, {\"date\": \"2018-04-03T00:00:00\", \"count\": 8}, {\"date\": \"2018-03-02T00:00:00\", \"count\": 8}, {\"date\": \"2019-08-09T00:00:00\", \"count\": 8}, {\"date\": \"2017-08-18T00:00:00\", \"count\": 8}, {\"date\": \"2017-08-19T00:00:00\", \"count\": 8}, {\"date\": \"2017-06-16T00:00:00\", \"count\": 8}, {\"date\": \"2017-12-07T00:00:00\", \"count\": 8}, {\"date\": \"2017-08-22T00:00:00\", \"count\": 8}, {\"date\": \"2017-08-12T00:00:00\", \"count\": 8}, {\"date\": \"2018-10-30T00:00:00\", \"count\": 8}, {\"date\": \"2017-08-03T00:00:00\", \"count\": 8}, {\"date\": \"2017-09-24T00:00:00\", \"count\": 8}, {\"date\": \"2018-02-28T00:00:00\", \"count\": 8}, {\"date\": \"2017-07-28T00:00:00\", \"count\": 8}, {\"date\": \"2018-01-10T00:00:00\", \"count\": 8}, {\"date\": \"2017-11-16T00:00:00\", \"count\": 8}, {\"date\": \"2018-03-25T00:00:00\", \"count\": 8}, {\"date\": \"2017-09-07T00:00:00\", \"count\": 8}, {\"date\": \"2019-11-25T00:00:00\", \"count\": 8}, {\"date\": \"2017-09-18T00:00:00\", \"count\": 8}, {\"date\": \"2018-04-22T00:00:00\", \"count\": 8}, {\"date\": \"2017-12-31T00:00:00\", \"count\": 8}, {\"date\": \"2018-04-24T00:00:00\", \"count\": 8}, {\"date\": \"2019-02-01T00:00:00\", \"count\": 8}, {\"date\": \"2018-06-18T00:00:00\", \"count\": 8}, {\"date\": \"2018-06-24T00:00:00\", \"count\": 8}, {\"date\": \"2019-04-07T00:00:00\", \"count\": 8}, {\"date\": \"2018-11-22T00:00:00\", \"count\": 8}, {\"date\": \"2017-03-20T00:00:00\", \"count\": 8}, {\"date\": \"2019-03-27T00:00:00\", \"count\": 8}, {\"date\": \"2018-07-09T00:00:00\", \"count\": 8}, {\"date\": \"2018-07-15T00:00:00\", \"count\": 8}, {\"date\": \"2018-11-26T00:00:00\", \"count\": 8}, {\"date\": \"2019-02-27T00:00:00\", \"count\": 8}, {\"date\": \"2018-07-22T00:00:00\", \"count\": 8}, {\"date\": \"2019-02-14T00:00:00\", \"count\": 8}, {\"date\": \"2019-02-13T00:00:00\", \"count\": 8}, {\"date\": \"2018-10-06T00:00:00\", \"count\": 8}, {\"date\": \"2018-05-20T00:00:00\", \"count\": 8}, {\"date\": \"2018-08-05T00:00:00\", \"count\": 8}, {\"date\": \"2019-01-23T00:00:00\", \"count\": 8}, {\"date\": \"2018-08-07T00:00:00\", \"count\": 8}, {\"date\": \"2019-01-17T00:00:00\", \"count\": 8}, {\"date\": \"2018-08-10T00:00:00\", \"count\": 8}, {\"date\": \"2018-12-06T00:00:00\", \"count\": 8}, {\"date\": \"2019-01-03T00:00:00\", \"count\": 8}, {\"date\": \"2017-02-03T00:00:00\", \"count\": 8}, {\"date\": \"2018-08-23T00:00:00\", \"count\": 8}, {\"date\": \"2017-01-30T00:00:00\", \"count\": 8}, {\"date\": \"2018-08-31T00:00:00\", \"count\": 8}, {\"date\": \"2017-01-25T00:00:00\", \"count\": 8}, {\"date\": \"2017-01-24T00:00:00\", \"count\": 8}, {\"date\": \"2018-05-24T00:00:00\", \"count\": 8}, {\"date\": \"2018-07-17T00:00:00\", \"count\": 8}, {\"date\": \"2017-05-05T00:00:00\", \"count\": 8}, {\"date\": \"2019-05-15T00:00:00\", \"count\": 8}, {\"date\": \"2019-05-26T00:00:00\", \"count\": 8}, {\"date\": \"2019-05-29T00:00:00\", \"count\": 8}, {\"date\": \"2019-05-16T00:00:00\", \"count\": 8}, {\"date\": \"2018-01-23T00:00:00\", \"count\": 7}, {\"date\": \"2017-08-05T00:00:00\", \"count\": 7}, {\"date\": \"2018-04-07T00:00:00\", \"count\": 7}, {\"date\": \"2017-02-09T00:00:00\", \"count\": 7}, {\"date\": \"2018-07-16T00:00:00\", \"count\": 7}, {\"date\": \"2017-12-02T00:00:00\", \"count\": 7}, {\"date\": \"2017-08-23T00:00:00\", \"count\": 7}, {\"date\": \"2017-04-23T00:00:00\", \"count\": 7}, {\"date\": \"2017-02-12T00:00:00\", \"count\": 7}, {\"date\": \"2018-09-16T00:00:00\", \"count\": 7}, {\"date\": \"2019-06-27T00:00:00\", \"count\": 7}, {\"date\": \"2018-11-28T00:00:00\", \"count\": 7}, {\"date\": \"2017-08-04T00:00:00\", \"count\": 7}, {\"date\": \"2018-04-25T00:00:00\", \"count\": 7}, {\"date\": \"2018-05-15T00:00:00\", \"count\": 7}, {\"date\": \"2018-09-19T00:00:00\", \"count\": 7}, {\"date\": \"2018-07-21T00:00:00\", \"count\": 7}, {\"date\": \"2019-02-26T00:00:00\", \"count\": 7}, {\"date\": \"2018-01-12T00:00:00\", \"count\": 7}, {\"date\": \"2019-06-30T00:00:00\", \"count\": 7}, {\"date\": \"2019-02-28T00:00:00\", \"count\": 7}, {\"date\": \"2018-07-20T00:00:00\", \"count\": 7}, {\"date\": \"2018-01-19T00:00:00\", \"count\": 7}, {\"date\": \"2017-07-21T00:00:00\", \"count\": 7}, {\"date\": \"2018-11-10T00:00:00\", \"count\": 7}, {\"date\": \"2017-09-02T00:00:00\", \"count\": 7}, {\"date\": \"2017-02-06T00:00:00\", \"count\": 7}, {\"date\": \"2017-10-26T00:00:00\", \"count\": 7}, {\"date\": \"2017-10-16T00:00:00\", \"count\": 7}, {\"date\": \"2020-01-04T00:00:00\", \"count\": 7}, {\"date\": \"2017-04-24T00:00:00\", \"count\": 7}, {\"date\": \"2017-10-20T00:00:00\", \"count\": 7}, {\"date\": \"2020-01-15T00:00:00\", \"count\": 7}, {\"date\": \"2017-01-26T00:00:00\", \"count\": 7}, {\"date\": \"2017-10-04T00:00:00\", \"count\": 7}, {\"date\": \"2017-01-27T00:00:00\", \"count\": 7}, {\"date\": \"2018-04-28T00:00:00\", \"count\": 7}, {\"date\": \"2018-09-26T00:00:00\", \"count\": 7}, {\"date\": \"2017-01-29T00:00:00\", \"count\": 7}, {\"date\": \"2017-10-01T00:00:00\", \"count\": 7}, {\"date\": \"2017-07-15T00:00:00\", \"count\": 7}, {\"date\": \"2017-11-06T00:00:00\", \"count\": 7}, {\"date\": \"2017-09-28T00:00:00\", \"count\": 7}, {\"date\": \"2017-11-10T00:00:00\", \"count\": 7}, {\"date\": \"2018-04-30T00:00:00\", \"count\": 7}, {\"date\": \"2018-05-01T00:00:00\", \"count\": 7}, {\"date\": \"2019-01-06T00:00:00\", \"count\": 7}, {\"date\": \"2019-01-07T00:00:00\", \"count\": 7}, {\"date\": \"2018-10-23T00:00:00\", \"count\": 7}, {\"date\": \"2017-09-08T00:00:00\", \"count\": 7}, {\"date\": \"2020-09-19T00:00:00\", \"count\": 7}, {\"date\": \"2019-01-19T00:00:00\", \"count\": 7}, {\"date\": \"2018-01-26T00:00:00\", \"count\": 7}, {\"date\": \"2019-02-21T00:00:00\", \"count\": 7}, {\"date\": \"2018-03-12T00:00:00\", \"count\": 7}, {\"date\": \"2018-06-14T00:00:00\", \"count\": 7}, {\"date\": \"2018-06-08T00:00:00\", \"count\": 7}, {\"date\": \"2017-04-01T00:00:00\", \"count\": 7}, {\"date\": \"2018-05-31T00:00:00\", \"count\": 7}, {\"date\": \"2017-04-03T00:00:00\", \"count\": 7}, {\"date\": \"2018-05-29T00:00:00\", \"count\": 7}, {\"date\": \"2017-06-09T00:00:00\", \"count\": 7}, {\"date\": \"2017-04-17T00:00:00\", \"count\": 7}, {\"date\": \"2017-04-18T00:00:00\", \"count\": 7}, {\"date\": \"2020-07-05T00:00:00\", \"count\": 7}, {\"date\": \"2019-04-17T00:00:00\", \"count\": 7}, {\"date\": \"2019-03-21T00:00:00\", \"count\": 7}, {\"date\": \"2017-03-07T00:00:00\", \"count\": 7}, {\"date\": \"2017-03-04T00:00:00\", \"count\": 7}, {\"date\": \"2017-03-31T00:00:00\", \"count\": 7}, {\"date\": \"2018-02-06T00:00:00\", \"count\": 7}, {\"date\": \"2017-05-27T00:00:00\", \"count\": 7}, {\"date\": \"2017-06-15T00:00:00\", \"count\": 6}, {\"date\": \"2018-03-08T00:00:00\", \"count\": 6}, {\"date\": \"2018-04-10T00:00:00\", \"count\": 6}, {\"date\": \"2017-10-29T00:00:00\", \"count\": 6}, {\"date\": \"2017-09-21T00:00:00\", \"count\": 6}, {\"date\": \"2018-06-10T00:00:00\", \"count\": 6}, {\"date\": \"2018-10-14T00:00:00\", \"count\": 6}, {\"date\": \"2017-12-01T00:00:00\", \"count\": 6}, {\"date\": \"2019-01-08T00:00:00\", \"count\": 6}, {\"date\": \"2018-05-14T00:00:00\", \"count\": 6}, {\"date\": \"2017-12-03T00:00:00\", \"count\": 6}, {\"date\": \"2019-01-04T00:00:00\", \"count\": 6}, {\"date\": \"2018-04-04T00:00:00\", \"count\": 6}, {\"date\": \"2018-04-29T00:00:00\", \"count\": 6}, {\"date\": \"2018-04-06T00:00:00\", \"count\": 6}, {\"date\": \"2019-01-28T00:00:00\", \"count\": 6}, {\"date\": \"2018-05-03T00:00:00\", \"count\": 6}, {\"date\": \"2017-08-30T00:00:00\", \"count\": 6}, {\"date\": \"2020-06-26T00:00:00\", \"count\": 6}, {\"date\": \"2017-11-24T00:00:00\", \"count\": 6}, {\"date\": \"2017-11-04T00:00:00\", \"count\": 6}, {\"date\": \"2018-11-17T00:00:00\", \"count\": 6}, {\"date\": \"2017-11-19T00:00:00\", \"count\": 6}, {\"date\": \"2017-04-12T00:00:00\", \"count\": 6}, {\"date\": \"2018-08-19T00:00:00\", \"count\": 6}, {\"date\": \"2017-02-02T00:00:00\", \"count\": 6}, {\"date\": \"2019-12-09T00:00:00\", \"count\": 6}, {\"date\": \"2018-06-11T00:00:00\", \"count\": 6}, {\"date\": \"2017-09-13T00:00:00\", \"count\": 6}, {\"date\": \"2018-08-09T00:00:00\", \"count\": 6}, {\"date\": \"2017-12-12T00:00:00\", \"count\": 6}, {\"date\": \"2018-04-13T00:00:00\", \"count\": 6}, {\"date\": \"2017-10-03T00:00:00\", \"count\": 6}, {\"date\": \"2019-03-06T00:00:00\", \"count\": 6}, {\"date\": \"2019-10-27T00:00:00\", \"count\": 6}, {\"date\": \"2018-03-23T00:00:00\", \"count\": 6}, {\"date\": \"2018-01-13T00:00:00\", \"count\": 6}, {\"date\": \"2018-01-14T00:00:00\", \"count\": 6}, {\"date\": \"2017-03-06T00:00:00\", \"count\": 6}, {\"date\": \"2017-04-21T00:00:00\", \"count\": 6}, {\"date\": \"2018-02-08T00:00:00\", \"count\": 6}, {\"date\": \"2017-12-30T00:00:00\", \"count\": 6}, {\"date\": \"2017-02-25T00:00:00\", \"count\": 6}, {\"date\": \"2017-07-07T00:00:00\", \"count\": 6}, {\"date\": \"2018-02-05T00:00:00\", \"count\": 6}, {\"date\": \"2017-04-16T00:00:00\", \"count\": 6}, {\"date\": \"2017-07-18T00:00:00\", \"count\": 6}, {\"date\": \"2018-07-12T00:00:00\", \"count\": 6}, {\"date\": \"2019-02-22T00:00:00\", \"count\": 6}, {\"date\": \"2018-02-15T00:00:00\", \"count\": 6}, {\"date\": \"2017-12-14T00:00:00\", \"count\": 6}, {\"date\": \"2017-12-28T00:00:00\", \"count\": 6}, {\"date\": \"2017-06-30T00:00:00\", \"count\": 6}, {\"date\": \"2017-10-05T00:00:00\", \"count\": 6}, {\"date\": \"2018-09-07T00:00:00\", \"count\": 6}, {\"date\": \"2017-03-28T00:00:00\", \"count\": 6}, {\"date\": \"2017-02-16T00:00:00\", \"count\": 6}, {\"date\": \"2017-06-11T00:00:00\", \"count\": 6}, {\"date\": \"2019-02-05T00:00:00\", \"count\": 6}, {\"date\": \"2018-02-21T00:00:00\", \"count\": 6}, {\"date\": \"2017-12-15T00:00:00\", \"count\": 6}, {\"date\": \"2017-01-31T00:00:00\", \"count\": 5}, {\"date\": \"2020-10-04T00:00:00\", \"count\": 5}, {\"date\": \"2017-10-09T00:00:00\", \"count\": 5}, {\"date\": \"2017-06-12T00:00:00\", \"count\": 5}, {\"date\": \"2017-04-25T00:00:00\", \"count\": 5}, {\"date\": \"2017-01-28T00:00:00\", \"count\": 5}, {\"date\": \"2017-04-11T00:00:00\", \"count\": 5}, {\"date\": \"2017-05-16T00:00:00\", \"count\": 5}, {\"date\": \"2017-04-30T00:00:00\", \"count\": 5}, {\"date\": \"2020-07-07T00:00:00\", \"count\": 5}, {\"date\": \"2017-07-11T00:00:00\", \"count\": 5}, {\"date\": \"2017-08-26T00:00:00\", \"count\": 5}, {\"date\": \"2017-09-17T00:00:00\", \"count\": 5}, {\"date\": \"2017-02-24T00:00:00\", \"count\": 5}, {\"date\": \"2020-04-01T00:00:00\", \"count\": 5}, {\"date\": \"2018-09-29T00:00:00\", \"count\": 5}, {\"date\": \"2017-03-02T00:00:00\", \"count\": 5}, {\"date\": \"2017-07-08T00:00:00\", \"count\": 5}, {\"date\": \"2017-07-23T00:00:00\", \"count\": 5}, {\"date\": \"2017-07-06T00:00:00\", \"count\": 5}, {\"date\": \"2017-03-08T00:00:00\", \"count\": 5}, {\"date\": \"2017-03-13T00:00:00\", \"count\": 5}, {\"date\": \"2017-08-02T00:00:00\", \"count\": 5}, {\"date\": \"2020-08-09T00:00:00\", \"count\": 5}, {\"date\": \"2017-08-08T00:00:00\", \"count\": 5}, {\"date\": \"2020-03-08T00:00:00\", \"count\": 5}, {\"date\": \"2017-08-11T00:00:00\", \"count\": 5}, {\"date\": \"2017-04-22T00:00:00\", \"count\": 5}, {\"date\": \"2017-06-23T00:00:00\", \"count\": 5}, {\"date\": \"2018-10-21T00:00:00\", \"count\": 5}, {\"date\": \"2017-02-20T00:00:00\", \"count\": 5}, {\"date\": \"2017-03-29T00:00:00\", \"count\": 5}, {\"date\": \"2017-02-13T00:00:00\", \"count\": 5}, {\"date\": \"2017-08-21T00:00:00\", \"count\": 5}, {\"date\": \"2017-06-27T00:00:00\", \"count\": 5}, {\"date\": \"2020-07-19T00:00:00\", \"count\": 5}, {\"date\": \"2017-05-02T00:00:00\", \"count\": 5}, {\"date\": \"2017-05-11T00:00:00\", \"count\": 5}, {\"date\": \"2017-04-08T00:00:00\", \"count\": 5}, {\"date\": \"2017-02-05T00:00:00\", \"count\": 5}, {\"date\": \"2017-09-03T00:00:00\", \"count\": 5}, {\"date\": \"2017-06-24T00:00:00\", \"count\": 5}, {\"date\": \"2017-05-18T00:00:00\", \"count\": 5}, {\"date\": \"2017-11-27T00:00:00\", \"count\": 5}, {\"date\": \"2018-05-10T00:00:00\", \"count\": 5}, {\"date\": \"2018-05-08T00:00:00\", \"count\": 5}, {\"date\": \"2018-03-22T00:00:00\", \"count\": 5}, {\"date\": \"2018-11-19T00:00:00\", \"count\": 5}, {\"date\": \"2018-05-13T00:00:00\", \"count\": 5}, {\"date\": \"2018-05-22T00:00:00\", \"count\": 5}, {\"date\": \"2017-11-25T00:00:00\", \"count\": 5}, {\"date\": \"2018-07-07T00:00:00\", \"count\": 5}, {\"date\": \"2018-01-27T00:00:00\", \"count\": 5}, {\"date\": \"2018-03-15T00:00:00\", \"count\": 5}, {\"date\": \"2018-05-27T00:00:00\", \"count\": 5}, {\"date\": \"2018-03-11T00:00:00\", \"count\": 5}, {\"date\": \"2018-06-01T00:00:00\", \"count\": 5}, {\"date\": \"2018-03-09T00:00:00\", \"count\": 5}, {\"date\": \"2019-08-04T00:00:00\", \"count\": 5}, {\"date\": \"2018-06-03T00:00:00\", \"count\": 5}, {\"date\": \"2018-03-07T00:00:00\", \"count\": 5}, {\"date\": \"2019-03-11T00:00:00\", \"count\": 5}, {\"date\": \"2018-03-05T00:00:00\", \"count\": 5}, {\"date\": \"2018-11-18T00:00:00\", \"count\": 5}, {\"date\": \"2017-12-24T00:00:00\", \"count\": 5}, {\"date\": \"2018-02-19T00:00:00\", \"count\": 5}, {\"date\": \"2017-12-19T00:00:00\", \"count\": 5}, {\"date\": \"2017-12-20T00:00:00\", \"count\": 5}, {\"date\": \"2017-12-21T00:00:00\", \"count\": 5}, {\"date\": \"2017-11-17T00:00:00\", \"count\": 5}, {\"date\": \"2017-12-23T00:00:00\", \"count\": 5}, {\"date\": \"2018-08-08T00:00:00\", \"count\": 5}, {\"date\": \"2018-02-03T00:00:00\", \"count\": 5}, {\"date\": \"2020-01-02T00:00:00\", \"count\": 5}, {\"date\": \"2018-11-11T00:00:00\", \"count\": 5}, {\"date\": \"2018-12-15T00:00:00\", \"count\": 5}, {\"date\": \"2018-12-17T00:00:00\", \"count\": 5}, {\"date\": \"2019-06-23T00:00:00\", \"count\": 5}, {\"date\": \"2019-06-20T00:00:00\", \"count\": 5}, {\"date\": \"2018-12-28T00:00:00\", \"count\": 5}, {\"date\": \"2018-02-02T00:00:00\", \"count\": 5}, {\"date\": \"2017-11-09T00:00:00\", \"count\": 5}, {\"date\": \"2017-11-08T00:00:00\", \"count\": 5}, {\"date\": \"2018-11-14T00:00:00\", \"count\": 5}, {\"date\": \"2018-02-07T00:00:00\", \"count\": 5}, {\"date\": \"2019-11-27T00:00:00\", \"count\": 5}, {\"date\": \"2019-01-02T00:00:00\", \"count\": 5}, {\"date\": \"2017-11-14T00:00:00\", \"count\": 5}, {\"date\": \"2017-07-02T00:00:00\", \"count\": 4}, {\"date\": \"2017-04-02T00:00:00\", \"count\": 4}, {\"date\": \"2018-02-01T00:00:00\", \"count\": 4}, {\"date\": \"2018-02-14T00:00:00\", \"count\": 4}, {\"date\": \"2018-06-16T00:00:00\", \"count\": 4}, {\"date\": \"2017-07-10T00:00:00\", \"count\": 4}, {\"date\": \"2017-07-13T00:00:00\", \"count\": 4}, {\"date\": \"2017-07-05T00:00:00\", \"count\": 4}, {\"date\": \"2017-07-04T00:00:00\", \"count\": 4}, {\"date\": \"2018-02-11T00:00:00\", \"count\": 4}, {\"date\": \"2019-04-03T00:00:00\", \"count\": 4}, {\"date\": \"2018-11-23T00:00:00\", \"count\": 4}, {\"date\": \"2018-12-10T00:00:00\", \"count\": 4}, {\"date\": \"2018-03-16T00:00:00\", \"count\": 4}, {\"date\": \"2018-02-16T00:00:00\", \"count\": 4}, {\"date\": \"2017-05-29T00:00:00\", \"count\": 4}, {\"date\": \"2019-06-28T00:00:00\", \"count\": 4}, {\"date\": \"2017-05-07T00:00:00\", \"count\": 4}, {\"date\": \"2018-03-29T00:00:00\", \"count\": 4}, {\"date\": \"2017-04-28T00:00:00\", \"count\": 4}, {\"date\": \"2017-05-23T00:00:00\", \"count\": 4}, {\"date\": \"2018-04-23T00:00:00\", \"count\": 4}, {\"date\": \"2017-05-26T00:00:00\", \"count\": 4}, {\"date\": \"2017-05-30T00:00:00\", \"count\": 4}, {\"date\": \"2018-03-03T00:00:00\", \"count\": 4}, {\"date\": \"2018-03-26T00:00:00\", \"count\": 4}, {\"date\": \"2017-06-01T00:00:00\", \"count\": 4}, {\"date\": \"2018-05-11T00:00:00\", \"count\": 4}, {\"date\": \"2017-04-19T00:00:00\", \"count\": 4}, {\"date\": \"2018-05-19T00:00:00\", \"count\": 4}, {\"date\": \"2018-03-17T00:00:00\", \"count\": 4}, {\"date\": \"2017-06-18T00:00:00\", \"count\": 4}, {\"date\": \"2018-07-01T00:00:00\", \"count\": 4}, {\"date\": \"2018-01-24T00:00:00\", \"count\": 4}, {\"date\": \"2017-03-27T00:00:00\", \"count\": 4}, {\"date\": \"2020-08-21T00:00:00\", \"count\": 4}, {\"date\": \"2017-02-26T00:00:00\", \"count\": 4}, {\"date\": \"2017-12-06T00:00:00\", \"count\": 4}, {\"date\": \"2017-12-04T00:00:00\", \"count\": 4}, {\"date\": \"2018-12-09T00:00:00\", \"count\": 4}, {\"date\": \"2017-11-26T00:00:00\", \"count\": 4}, {\"date\": \"2017-02-14T00:00:00\", \"count\": 4}, {\"date\": \"2019-02-02T00:00:00\", \"count\": 4}, {\"date\": \"2017-09-05T00:00:00\", \"count\": 4}, {\"date\": \"2017-02-07T00:00:00\", \"count\": 4}, {\"date\": \"2017-09-09T00:00:00\", \"count\": 4}, {\"date\": \"2017-09-12T00:00:00\", \"count\": 4}, {\"date\": \"2018-08-12T00:00:00\", \"count\": 4}, {\"date\": \"2019-12-01T00:00:00\", \"count\": 4}, {\"date\": \"2019-12-03T00:00:00\", \"count\": 4}, {\"date\": \"2017-11-12T00:00:00\", \"count\": 4}, {\"date\": \"2017-11-05T00:00:00\", \"count\": 4}, {\"date\": \"2017-10-30T00:00:00\", \"count\": 4}, {\"date\": \"2019-12-21T00:00:00\", \"count\": 4}, {\"date\": \"2018-08-26T00:00:00\", \"count\": 4}, {\"date\": \"2017-10-23T00:00:00\", \"count\": 4}, {\"date\": \"2017-01-22T00:00:00\", \"count\": 4}, {\"date\": \"2017-12-13T00:00:00\", \"count\": 4}, {\"date\": \"2018-04-05T00:00:00\", \"count\": 4}, {\"date\": \"2018-07-08T00:00:00\", \"count\": 4}, {\"date\": \"2017-12-27T00:00:00\", \"count\": 4}, {\"date\": \"2017-03-25T00:00:00\", \"count\": 4}, {\"date\": \"2017-03-24T00:00:00\", \"count\": 4}, {\"date\": \"2018-04-01T00:00:00\", \"count\": 4}, {\"date\": \"2018-01-22T00:00:00\", \"count\": 4}, {\"date\": \"2017-03-23T00:00:00\", \"count\": 4}, {\"date\": \"2018-01-09T00:00:00\", \"count\": 4}, {\"date\": \"2019-03-30T00:00:00\", \"count\": 4}, {\"date\": \"2017-03-17T00:00:00\", \"count\": 4}, {\"date\": \"2017-03-16T00:00:00\", \"count\": 4}, {\"date\": \"2017-12-29T00:00:00\", \"count\": 4}, {\"date\": \"2018-07-04T00:00:00\", \"count\": 4}, {\"date\": \"2017-08-15T00:00:00\", \"count\": 4}, {\"date\": \"2017-08-10T00:00:00\", \"count\": 4}, {\"date\": \"2017-08-09T00:00:00\", \"count\": 4}, {\"date\": \"2017-02-18T00:00:00\", \"count\": 3}, {\"date\": \"2017-03-09T00:00:00\", \"count\": 3}, {\"date\": \"2017-05-09T00:00:00\", \"count\": 3}, {\"date\": \"2018-12-12T00:00:00\", \"count\": 3}, {\"date\": \"2018-04-09T00:00:00\", \"count\": 3}, {\"date\": \"2020-10-03T00:00:00\", \"count\": 3}, {\"date\": \"2017-02-27T00:00:00\", \"count\": 3}, {\"date\": \"2017-05-01T00:00:00\", \"count\": 3}, {\"date\": \"2019-03-07T00:00:00\", \"count\": 3}, {\"date\": \"2018-06-29T00:00:00\", \"count\": 3}, {\"date\": \"2018-10-11T00:00:00\", \"count\": 3}, {\"date\": \"2017-03-21T00:00:00\", \"count\": 3}, {\"date\": \"2017-02-01T00:00:00\", \"count\": 3}, {\"date\": \"2017-03-05T00:00:00\", \"count\": 3}, {\"date\": \"2017-04-04T00:00:00\", \"count\": 3}, {\"date\": \"2018-12-30T00:00:00\", \"count\": 3}, {\"date\": \"2017-04-13T00:00:00\", \"count\": 3}, {\"date\": \"2019-03-31T00:00:00\", \"count\": 3}, {\"date\": \"2020-07-20T00:00:00\", \"count\": 3}, {\"date\": \"2019-01-25T00:00:00\", \"count\": 3}, {\"date\": \"2017-04-09T00:00:00\", \"count\": 3}, {\"date\": \"2017-04-20T00:00:00\", \"count\": 3}, {\"date\": \"2019-03-24T00:00:00\", \"count\": 3}, {\"date\": \"2017-02-10T00:00:00\", \"count\": 3}, {\"date\": \"2018-05-12T00:00:00\", \"count\": 3}, {\"date\": \"2018-12-01T00:00:00\", \"count\": 3}, {\"date\": \"2017-02-23T00:00:00\", \"count\": 3}, {\"date\": \"2019-02-03T00:00:00\", \"count\": 3}, {\"date\": \"2019-02-15T00:00:00\", \"count\": 3}, {\"date\": \"2017-10-14T00:00:00\", \"count\": 3}, {\"date\": \"2018-03-31T00:00:00\", \"count\": 3}, {\"date\": \"2017-06-14T00:00:00\", \"count\": 3}, {\"date\": \"2017-06-21T00:00:00\", \"count\": 3}, {\"date\": \"2018-09-30T00:00:00\", \"count\": 3}, {\"date\": \"2018-02-12T00:00:00\", \"count\": 3}, {\"date\": \"2018-02-09T00:00:00\", \"count\": 3}, {\"date\": \"2017-07-19T00:00:00\", \"count\": 3}, {\"date\": \"2018-01-25T00:00:00\", \"count\": 3}, {\"date\": \"2017-07-20T00:00:00\", \"count\": 3}, {\"date\": \"2018-01-15T00:00:00\", \"count\": 3}, {\"date\": \"2018-01-01T00:00:00\", \"count\": 3}, {\"date\": \"2017-05-13T00:00:00\", \"count\": 3}, {\"date\": \"2017-07-31T00:00:00\", \"count\": 3}, {\"date\": \"2017-08-01T00:00:00\", \"count\": 3}, {\"date\": \"2017-12-26T00:00:00\", \"count\": 3}, {\"date\": \"2017-08-06T00:00:00\", \"count\": 3}, {\"date\": \"2017-12-17T00:00:00\", \"count\": 3}, {\"date\": \"2017-12-16T00:00:00\", \"count\": 3}, {\"date\": \"2017-12-10T00:00:00\", \"count\": 3}, {\"date\": \"2020-02-16T00:00:00\", \"count\": 3}, {\"date\": \"2018-09-22T00:00:00\", \"count\": 3}, {\"date\": \"2018-10-28T00:00:00\", \"count\": 3}, {\"date\": \"2019-11-28T00:00:00\", \"count\": 3}, {\"date\": \"2017-09-16T00:00:00\", \"count\": 3}, {\"date\": \"2018-09-23T00:00:00\", \"count\": 3}, {\"date\": \"2019-12-22T00:00:00\", \"count\": 3}, {\"date\": \"2019-12-29T00:00:00\", \"count\": 3}, {\"date\": \"2019-12-30T00:00:00\", \"count\": 3}, {\"date\": \"2017-10-22T00:00:00\", \"count\": 3}, {\"date\": \"2018-11-08T00:00:00\", \"count\": 3}, {\"date\": \"2018-10-05T00:00:00\", \"count\": 3}, {\"date\": \"2018-03-19T00:00:00\", \"count\": 3}, {\"date\": \"2017-05-25T00:00:00\", \"count\": 3}, {\"date\": \"2018-03-18T00:00:00\", \"count\": 3}, {\"date\": \"2017-06-04T00:00:00\", \"count\": 3}, {\"date\": \"2017-06-03T00:00:00\", \"count\": 3}, {\"date\": \"2018-07-13T00:00:00\", \"count\": 2}, {\"date\": \"2017-02-21T00:00:00\", \"count\": 2}, {\"date\": \"2017-02-22T00:00:00\", \"count\": 2}, {\"date\": \"2017-08-29T00:00:00\", \"count\": 2}, {\"date\": \"2017-12-05T00:00:00\", \"count\": 2}, {\"date\": \"2017-08-20T00:00:00\", \"count\": 2}, {\"date\": \"2018-04-14T00:00:00\", \"count\": 2}, {\"date\": \"2017-04-29T00:00:00\", \"count\": 2}, {\"date\": \"2017-02-28T00:00:00\", \"count\": 2}, {\"date\": \"2018-04-16T00:00:00\", \"count\": 2}, {\"date\": \"2017-10-15T00:00:00\", \"count\": 2}, {\"date\": \"2017-12-25T00:00:00\", \"count\": 2}, {\"date\": \"2018-07-06T00:00:00\", \"count\": 2}, {\"date\": \"2019-02-06T00:00:00\", \"count\": 2}, {\"date\": \"2017-11-20T00:00:00\", \"count\": 2}, {\"date\": \"2017-11-21T00:00:00\", \"count\": 2}, {\"date\": \"2017-09-04T00:00:00\", \"count\": 2}, {\"date\": \"2018-12-02T00:00:00\", \"count\": 2}, {\"date\": \"2019-01-29T00:00:00\", \"count\": 2}, {\"date\": \"2017-05-21T00:00:00\", \"count\": 2}, {\"date\": \"2017-05-20T00:00:00\", \"count\": 2}, {\"date\": \"2017-09-11T00:00:00\", \"count\": 2}, {\"date\": \"2019-01-16T00:00:00\", \"count\": 2}, {\"date\": \"2017-05-19T00:00:00\", \"count\": 2}, {\"date\": \"2017-05-03T00:00:00\", \"count\": 2}, {\"date\": \"2018-12-25T00:00:00\", \"count\": 2}, {\"date\": \"2018-09-02T00:00:00\", \"count\": 2}, {\"date\": \"2017-05-15T00:00:00\", \"count\": 2}, {\"date\": \"2020-10-02T00:00:00\", \"count\": 2}, {\"date\": \"2018-11-24T00:00:00\", \"count\": 2}, {\"date\": \"2017-05-24T00:00:00\", \"count\": 2}, {\"date\": \"2018-01-28T00:00:00\", \"count\": 2}, {\"date\": \"2017-03-18T00:00:00\", \"count\": 2}, {\"date\": \"2018-02-13T00:00:00\", \"count\": 2}, {\"date\": \"2017-04-05T00:00:00\", \"count\": 2}, {\"date\": \"2017-07-17T00:00:00\", \"count\": 2}, {\"date\": \"2017-06-07T00:00:00\", \"count\": 2}, {\"date\": \"2017-03-26T00:00:00\", \"count\": 2}, {\"date\": \"2018-01-21T00:00:00\", \"count\": 2}, {\"date\": \"2018-02-04T00:00:00\", \"count\": 2}, {\"date\": \"2017-03-22T00:00:00\", \"count\": 2}, {\"date\": \"2017-06-25T00:00:00\", \"count\": 2}, {\"date\": \"2018-03-04T00:00:00\", \"count\": 2}, {\"date\": \"2018-11-20T00:00:00\", \"count\": 2}, {\"date\": \"2018-07-02T00:00:00\", \"count\": 2}, {\"date\": \"2017-04-10T00:00:00\", \"count\": 2}, {\"date\": \"2018-04-26T00:00:00\", \"count\": 2}, {\"date\": \"2017-03-14T00:00:00\", \"count\": 2}, {\"date\": \"2018-03-20T00:00:00\", \"count\": 1}, {\"date\": \"2017-06-10T00:00:00\", \"count\": 1}, {\"date\": \"2020-01-08T00:00:00\", \"count\": 1}, {\"date\": \"2017-04-06T00:00:00\", \"count\": 1}, {\"date\": \"2019-11-29T00:00:00\", \"count\": 1}, {\"date\": \"2017-01-21T00:00:00\", \"count\": 1}, {\"date\": \"2017-05-06T00:00:00\", \"count\": 1}, {\"date\": \"2017-10-02T00:00:00\", \"count\": 1}, {\"date\": \"2018-03-30T00:00:00\", \"count\": 1}, {\"date\": \"2020-01-05T00:00:00\", \"count\": 1}, {\"date\": \"2018-12-26T00:00:00\", \"count\": 1}, {\"date\": \"2017-05-14T00:00:00\", \"count\": 1}, {\"date\": \"2017-06-17T00:00:00\", \"count\": 1}, {\"date\": \"2017-01-23T00:00:00\", \"count\": 1}, {\"date\": \"2017-05-17T00:00:00\", \"count\": 1}, {\"date\": \"2017-03-11T00:00:00\", \"count\": 1}, {\"date\": \"2018-09-28T00:00:00\", \"count\": 1}, {\"date\": \"2018-01-30T00:00:00\", \"count\": 1}, {\"date\": \"2018-03-27T00:00:00\", \"count\": 1}, {\"date\": \"2017-07-30T00:00:00\", \"count\": 1}, {\"date\": \"2018-05-05T00:00:00\", \"count\": 1}, {\"date\": \"2017-05-22T00:00:00\", \"count\": 1}, {\"date\": \"2019-04-28T00:00:00\", \"count\": 1}, {\"date\": \"2017-12-11T00:00:00\", \"count\": 1}, {\"date\": \"2017-03-01T00:00:00\", \"count\": 1}, {\"date\": \"2017-03-19T00:00:00\", \"count\": 1}, {\"date\": \"2017-06-02T00:00:00\", \"count\": 1}, {\"date\": \"2018-09-27T00:00:00\", \"count\": 1}, {\"date\": \"2018-03-24T00:00:00\", \"count\": 1}, {\"date\": \"2018-07-28T00:00:00\", \"count\": 1}, {\"date\": \"2017-02-19T00:00:00\", \"count\": 1}, {\"date\": \"2017-08-31T00:00:00\", \"count\": 1}, {\"date\": \"2019-02-04T00:00:00\", \"count\": 1}, {\"date\": \"2018-10-07T00:00:00\", \"count\": 1}, {\"date\": \"2017-03-10T00:00:00\", \"count\": 1}, {\"date\": \"2018-01-29T00:00:00\", \"count\": 1}, {\"date\": \"2017-11-18T00:00:00\", \"count\": 1}, {\"date\": \"2017-04-14T00:00:00\", \"count\": 1}]}}, {\"mode\": \"vega-lite\"});\n",
       "</script>"
      ],
      "text/plain": [
       "alt.Chart(...)"
      ]
     },
     "execution_count": 50,
     "metadata": {},
     "output_type": "execute_result"
    }
   ],
   "source": [
    "### Try a different color scheme \n",
    "\n",
    "heatmap = alt.Chart(\n",
    "    trump_no_rt_freq_inauguration,\n",
    "    title=\"@realDonaldTrump daily tweet (without RT) frequency since inauguration\"\n",
    ").mark_rect().encode(\n",
    "    x=alt.X('date(date):O', title=' '),\n",
    "    y=alt.Y('month(date):O', title=''),\n",
    "    color=alt.Color('count:Q', title='Tweet count', scale=alt.Scale(scheme=\"blues\")),\n",
    "    tooltip=[\n",
    "        alt.Tooltip('monthdate(date):T', title='Date'),\n",
    "        alt.Tooltip('count:Q', title='Tweets')\n",
    "    ],\n",
    "    facet=alt.Facet('year(date):O', title='', columns=1)\n",
    ").properties(width=600, height=180)\n",
    "\n",
    "heatmap.configure_legend(\n",
    "    orient='top',\n",
    "    padding=10\n",
    ").configure_view(strokeOpacity=0)"
   ]
  },
  {
   "cell_type": "code",
   "execution_count": 51,
   "metadata": {},
   "outputs": [
    {
     "data": {
      "text/html": [
       "\n",
       "<div id=\"altair-viz-016165e4bba94de8ae3f7dfb42f9cdb4\"></div>\n",
       "<script type=\"text/javascript\">\n",
       "  (function(spec, embedOpt){\n",
       "    let outputDiv = document.currentScript.previousElementSibling;\n",
       "    if (outputDiv.id !== \"altair-viz-016165e4bba94de8ae3f7dfb42f9cdb4\") {\n",
       "      outputDiv = document.getElementById(\"altair-viz-016165e4bba94de8ae3f7dfb42f9cdb4\");\n",
       "    }\n",
       "    const paths = {\n",
       "      \"vega\": \"https://cdn.jsdelivr.net/npm//vega@5?noext\",\n",
       "      \"vega-lib\": \"https://cdn.jsdelivr.net/npm//vega-lib?noext\",\n",
       "      \"vega-lite\": \"https://cdn.jsdelivr.net/npm//vega-lite@4.8.1?noext\",\n",
       "      \"vega-embed\": \"https://cdn.jsdelivr.net/npm//vega-embed@6?noext\",\n",
       "    };\n",
       "\n",
       "    function loadScript(lib) {\n",
       "      return new Promise(function(resolve, reject) {\n",
       "        var s = document.createElement('script');\n",
       "        s.src = paths[lib];\n",
       "        s.async = true;\n",
       "        s.onload = () => resolve(paths[lib]);\n",
       "        s.onerror = () => reject(`Error loading script: ${paths[lib]}`);\n",
       "        document.getElementsByTagName(\"head\")[0].appendChild(s);\n",
       "      });\n",
       "    }\n",
       "\n",
       "    function showError(err) {\n",
       "      outputDiv.innerHTML = `<div class=\"error\" style=\"color:red;\">${err}</div>`;\n",
       "      throw err;\n",
       "    }\n",
       "\n",
       "    function displayChart(vegaEmbed) {\n",
       "      vegaEmbed(outputDiv, spec, embedOpt)\n",
       "        .catch(err => showError(`Javascript Error: ${err.message}<br>This usually means there's a typo in your chart specification. See the javascript console for the full traceback.`));\n",
       "    }\n",
       "\n",
       "    if(typeof define === \"function\" && define.amd) {\n",
       "      requirejs.config({paths});\n",
       "      require([\"vega-embed\"], displayChart, err => showError(`Error loading script: ${err.message}`));\n",
       "    } else if (typeof vegaEmbed === \"function\") {\n",
       "      displayChart(vegaEmbed);\n",
       "    } else {\n",
       "      loadScript(\"vega\")\n",
       "        .then(() => loadScript(\"vega-lite\"))\n",
       "        .then(() => loadScript(\"vega-embed\"))\n",
       "        .catch(showError)\n",
       "        .then(() => displayChart(vegaEmbed));\n",
       "    }\n",
       "  })({\"config\": {\"view\": {\"width\": 800, \"height\": 450, \"strokeOpacity\": 0}, \"background\": \"#ffffff\", \"title\": {\"anchor\": \"start\", \"font\": \"Benton Gothic Bold, sans\", \"fontColor\": \"#000000\", \"fontSize\": 22, \"fontWeight\": \"normal\"}, \"arc\": {\"fill\": \"#82c6df\"}, \"area\": {\"fill\": \"#82c6df\"}, \"line\": {\"stroke\": \"#82c6df\", \"strokeWidth\": 3}, \"path\": {\"stroke\": \"#82c6df\"}, \"rect\": {\"fill\": \"#82c6df\"}, \"shape\": {\"stroke\": \"#82c6df\"}, \"bar\": {\"fill\": \"#82c6df\"}, \"point\": {\"stroke\": \"#82c6df\"}, \"symbol\": {\"fill\": \"#82c6df\", \"size\": 30}, \"axis\": {\"titleFont\": \"Benton Gothic Bold, sans\", \"titleFontSize\": 13, \"titleFontWeight\": \"normal\", \"labelFont\": \"Benton Gothic, sans\", \"labelFontSize\": 11.5, \"labelFontWeight\": \"normal\"}, \"axisX\": {\"labelAngle\": 0, \"labelPadding\": 4, \"tickSize\": 3}, \"axisY\": {\"labelBaseline\": \"middle\", \"maxExtent\": 45, \"minExtent\": 45, \"tickSize\": 2, \"titleAlign\": \"left\", \"titleAngle\": 0, \"titleX\": -45, \"titleY\": -11}, \"legend\": {\"titleFont\": \"Benton Gothic Bold, sans\", \"titleFontSize\": 13, \"titleFontWeight\": \"normal\", \"symbolType\": \"square\", \"labelFont\": \"Benton Gothic, sans\", \"labelFontSize\": 11.5}, \"range\": {\"category\": [\"#3580b1\", \"#ec8431\", \"#ab7fb4\", \"#c89d29\", \"#adc839\", \"#829eb1\"], \"diverging\": [\"#e68a4f\", \"#f4bb6a\", \"#f9e39c\", \"#dadfe2\", \"#a6b7c6\", \"#849eae\"], \"heatmap\": [\"#fbf2c7\", \"#f9e39c\", \"#f8d36e\", \"#f4bb6a\", \"#e68a4f\", \"#d15a40\", \"#ab4232\"], \"ordinal\": [\"#fbf2c7\", \"#f9e39c\", \"#f8d36e\", \"#f4bb6a\", \"#e68a4f\", \"#d15a40\", \"#ab4232\"], \"ramp\": [\"#fbf2c7\", \"#f9e39c\", \"#f8d36e\", \"#f4bb6a\", \"#e68a4f\", \"#d15a40\", \"#ab4232\"]}}, \"layer\": [{\"mark\": {\"type\": \"bar\", \"size\": 2}, \"encoding\": {\"x\": {\"type\": \"temporal\", \"axis\": {\"format\": \"%b. %Y\", \"grid\": false, \"tickCount\": 6, \"title\": \"\"}, \"field\": \"date\"}, \"y\": {\"type\": \"quantitative\", \"axis\": {\"domainOpacity\": 0, \"gridColor\": \"#dddddd\", \"offset\": 6, \"tickCount\": 5, \"tickSize\": 0, \"title\": \"Daily tweet counts and mean\"}, \"field\": \"count\", \"scale\": {\"domain\": [0, 150]}}}, \"title\": \"@realDonaldTrump tweet frequency (without RT) since inauguration\"}, {\"mark\": {\"type\": \"rule\", \"color\": \"red\"}, \"encoding\": {\"y\": {\"type\": \"quantitative\", \"aggregate\": \"mean\", \"field\": \"count\"}}}, {\"mark\": {\"type\": \"text\", \"align\": \"center\", \"baseline\": \"middle\", \"dx\": 50, \"dy\": 10, \"fontWeight\": \"bold\"}, \"encoding\": {\"text\": {\"type\": \"quantitative\", \"aggregate\": \"mean\", \"field\": \"count\", \"format\": \".2\"}, \"y\": {\"type\": \"quantitative\", \"aggregate\": \"mean\", \"field\": \"count\"}}}], \"data\": {\"name\": \"data-22cff53a7bddd2e4f8050009e516066c\"}, \"height\": 400, \"width\": 800, \"$schema\": \"https://vega.github.io/schema/vega-lite/v4.8.1.json\", \"datasets\": {\"data-22cff53a7bddd2e4f8050009e516066c\": [{\"date\": \"2020-06-05T00:00:00\", \"count\": 199}, {\"date\": \"2020-05-10T00:00:00\", \"count\": 125}, {\"date\": \"2020-08-30T00:00:00\", \"count\": 110}, {\"date\": \"2020-09-08T00:00:00\", \"count\": 108}, {\"date\": \"2020-01-22T00:00:00\", \"count\": 94}, {\"date\": \"2020-08-14T00:00:00\", \"count\": 87}, {\"date\": \"2020-06-03T00:00:00\", \"count\": 86}, {\"date\": \"2020-09-14T00:00:00\", \"count\": 85}, {\"date\": \"2019-05-01T00:00:00\", \"count\": 84}, {\"date\": \"2020-03-22T00:00:00\", \"count\": 80}, {\"date\": \"2020-01-25T00:00:00\", \"count\": 80}, {\"date\": \"2020-01-24T00:00:00\", \"count\": 78}, {\"date\": \"2020-02-08T00:00:00\", \"count\": 72}, {\"date\": \"2019-05-11T00:00:00\", \"count\": 71}, {\"date\": \"2020-04-04T00:00:00\", \"count\": 70}, {\"date\": \"2020-09-07T00:00:00\", \"count\": 70}, {\"date\": \"2020-07-27T00:00:00\", \"count\": 67}, {\"date\": \"2020-04-30T00:00:00\", \"count\": 64}, {\"date\": \"2020-06-04T00:00:00\", \"count\": 63}, {\"date\": \"2020-06-01T00:00:00\", \"count\": 63}, {\"date\": \"2020-07-26T00:00:00\", \"count\": 62}, {\"date\": \"2020-03-19T00:00:00\", \"count\": 62}, {\"date\": \"2020-09-10T00:00:00\", \"count\": 60}, {\"date\": \"2020-02-01T00:00:00\", \"count\": 60}, {\"date\": \"2019-10-19T00:00:00\", \"count\": 60}, {\"date\": \"2019-09-26T00:00:00\", \"count\": 60}, {\"date\": \"2020-07-04T00:00:00\", \"count\": 59}, {\"date\": \"2020-09-13T00:00:00\", \"count\": 59}, {\"date\": \"2019-10-11T00:00:00\", \"count\": 59}, {\"date\": \"2019-08-31T00:00:00\", \"count\": 59}, {\"date\": \"2020-02-07T00:00:00\", \"count\": 59}, {\"date\": \"2020-05-23T00:00:00\", \"count\": 58}, {\"date\": \"2019-11-09T00:00:00\", \"count\": 58}, {\"date\": \"2020-07-23T00:00:00\", \"count\": 58}, {\"date\": \"2020-07-17T00:00:00\", \"count\": 57}, {\"date\": \"2020-04-09T00:00:00\", \"count\": 56}, {\"date\": \"2019-10-29T00:00:00\", \"count\": 56}, {\"date\": \"2020-08-16T00:00:00\", \"count\": 55}, {\"date\": \"2020-04-18T00:00:00\", \"count\": 55}, {\"date\": \"2020-08-18T00:00:00\", \"count\": 55}, {\"date\": \"2020-05-11T00:00:00\", \"count\": 54}, {\"date\": \"2020-02-09T00:00:00\", \"count\": 54}, {\"date\": \"2020-09-09T00:00:00\", \"count\": 54}, {\"date\": \"2020-08-25T00:00:00\", \"count\": 54}, {\"date\": \"2020-09-04T00:00:00\", \"count\": 54}, {\"date\": \"2019-10-07T00:00:00\", \"count\": 53}, {\"date\": \"2020-08-24T00:00:00\", \"count\": 53}, {\"date\": \"2020-08-01T00:00:00\", \"count\": 53}, {\"date\": \"2020-01-21T00:00:00\", \"count\": 53}, {\"date\": \"2020-03-23T00:00:00\", \"count\": 52}, {\"date\": \"2020-05-28T00:00:00\", \"count\": 52}, {\"date\": \"2020-03-02T00:00:00\", \"count\": 52}, {\"date\": \"2020-05-16T00:00:00\", \"count\": 52}, {\"date\": \"2019-10-03T00:00:00\", \"count\": 51}, {\"date\": \"2020-08-29T00:00:00\", \"count\": 50}, {\"date\": \"2019-06-26T00:00:00\", \"count\": 50}, {\"date\": \"2019-08-13T00:00:00\", \"count\": 49}, {\"date\": \"2019-11-13T00:00:00\", \"count\": 49}, {\"date\": \"2020-06-09T00:00:00\", \"count\": 49}, {\"date\": \"2020-06-13T00:00:00\", \"count\": 48}, {\"date\": \"2019-10-04T00:00:00\", \"count\": 48}, {\"date\": \"2020-07-29T00:00:00\", \"count\": 48}, {\"date\": \"2019-09-29T00:00:00\", \"count\": 48}, {\"date\": \"2020-05-12T00:00:00\", \"count\": 48}, {\"date\": \"2019-10-25T00:00:00\", \"count\": 47}, {\"date\": \"2020-03-17T00:00:00\", \"count\": 47}, {\"date\": \"2020-03-12T00:00:00\", \"count\": 47}, {\"date\": \"2019-06-15T00:00:00\", \"count\": 47}, {\"date\": \"2020-01-27T00:00:00\", \"count\": 47}, {\"date\": \"2019-07-04T00:00:00\", \"count\": 46}, {\"date\": \"2020-05-14T00:00:00\", \"count\": 46}, {\"date\": \"2020-09-05T00:00:00\", \"count\": 46}, {\"date\": \"2019-11-05T00:00:00\", \"count\": 45}, {\"date\": \"2019-09-18T00:00:00\", \"count\": 45}, {\"date\": \"2019-12-31T00:00:00\", \"count\": 45}, {\"date\": \"2020-09-02T00:00:00\", \"count\": 45}, {\"date\": \"2020-02-25T00:00:00\", \"count\": 45}, {\"date\": \"2019-07-12T00:00:00\", \"count\": 45}, {\"date\": \"2020-05-19T00:00:00\", \"count\": 45}, {\"date\": \"2020-08-20T00:00:00\", \"count\": 45}, {\"date\": \"2020-06-18T00:00:00\", \"count\": 45}, {\"date\": \"2020-02-19T00:00:00\", \"count\": 45}, {\"date\": \"2020-06-29T00:00:00\", \"count\": 45}, {\"date\": \"2020-02-21T00:00:00\", \"count\": 45}, {\"date\": \"2020-02-15T00:00:00\", \"count\": 45}, {\"date\": \"2020-04-12T00:00:00\", \"count\": 44}, {\"date\": \"2020-04-26T00:00:00\", \"count\": 44}, {\"date\": \"2019-04-22T00:00:00\", \"count\": 44}, {\"date\": \"2020-03-05T00:00:00\", \"count\": 44}, {\"date\": \"2020-08-17T00:00:00\", \"count\": 44}, {\"date\": \"2020-01-30T00:00:00\", \"count\": 44}, {\"date\": \"2019-11-17T00:00:00\", \"count\": 44}, {\"date\": \"2019-10-31T00:00:00\", \"count\": 44}, {\"date\": \"2019-07-11T00:00:00\", \"count\": 44}, {\"date\": \"2019-10-09T00:00:00\", \"count\": 43}, {\"date\": \"2019-11-03T00:00:00\", \"count\": 43}, {\"date\": \"2020-03-03T00:00:00\", \"count\": 43}, {\"date\": \"2020-06-30T00:00:00\", \"count\": 43}, {\"date\": \"2020-08-26T00:00:00\", \"count\": 43}, {\"date\": \"2019-07-24T00:00:00\", \"count\": 42}, {\"date\": \"2020-03-27T00:00:00\", \"count\": 42}, {\"date\": \"2020-07-02T00:00:00\", \"count\": 42}, {\"date\": \"2019-10-06T00:00:00\", \"count\": 42}, {\"date\": \"2019-10-23T00:00:00\", \"count\": 42}, {\"date\": \"2020-04-23T00:00:00\", \"count\": 41}, {\"date\": \"2020-08-15T00:00:00\", \"count\": 41}, {\"date\": \"2020-06-27T00:00:00\", \"count\": 41}, {\"date\": \"2019-01-20T00:00:00\", \"count\": 41}, {\"date\": \"2020-07-11T00:00:00\", \"count\": 40}, {\"date\": \"2020-05-02T00:00:00\", \"count\": 40}, {\"date\": \"2020-01-10T00:00:00\", \"count\": 40}, {\"date\": \"2020-02-24T00:00:00\", \"count\": 39}, {\"date\": \"2020-06-07T00:00:00\", \"count\": 39}, {\"date\": \"2020-06-02T00:00:00\", \"count\": 39}, {\"date\": \"2019-08-23T00:00:00\", \"count\": 39}, {\"date\": \"2020-09-17T00:00:00\", \"count\": 39}, {\"date\": \"2019-09-28T00:00:00\", \"count\": 39}, {\"date\": \"2020-05-27T00:00:00\", \"count\": 39}, {\"date\": \"2020-05-18T00:00:00\", \"count\": 39}, {\"date\": \"2019-08-25T00:00:00\", \"count\": 38}, {\"date\": \"2019-09-11T00:00:00\", \"count\": 38}, {\"date\": \"2020-05-26T00:00:00\", \"count\": 38}, {\"date\": \"2020-02-05T00:00:00\", \"count\": 38}, {\"date\": \"2019-09-01T00:00:00\", \"count\": 37}, {\"date\": \"2020-09-29T00:00:00\", \"count\": 37}, {\"date\": \"2020-08-02T00:00:00\", \"count\": 37}, {\"date\": \"2020-02-18T00:00:00\", \"count\": 37}, {\"date\": \"2020-09-12T00:00:00\", \"count\": 37}, {\"date\": \"2020-08-05T00:00:00\", \"count\": 37}, {\"date\": \"2020-06-19T00:00:00\", \"count\": 37}, {\"date\": \"2020-06-12T00:00:00\", \"count\": 37}, {\"date\": \"2020-05-17T00:00:00\", \"count\": 37}, {\"date\": \"2019-08-22T00:00:00\", \"count\": 37}, {\"date\": \"2020-07-13T00:00:00\", \"count\": 36}, {\"date\": \"2020-03-09T00:00:00\", \"count\": 36}, {\"date\": \"2020-01-14T00:00:00\", \"count\": 36}, {\"date\": \"2020-05-30T00:00:00\", \"count\": 36}, {\"date\": \"2020-03-29T00:00:00\", \"count\": 36}, {\"date\": \"2019-08-15T00:00:00\", \"count\": 36}, {\"date\": \"2019-09-16T00:00:00\", \"count\": 35}, {\"date\": \"2020-02-03T00:00:00\", \"count\": 35}, {\"date\": \"2019-03-08T00:00:00\", \"count\": 35}, {\"date\": \"2020-09-06T00:00:00\", \"count\": 35}, {\"date\": \"2020-09-26T00:00:00\", \"count\": 35}, {\"date\": \"2020-04-17T00:00:00\", \"count\": 35}, {\"date\": \"2020-05-24T00:00:00\", \"count\": 35}, {\"date\": \"2020-01-28T00:00:00\", \"count\": 35}, {\"date\": \"2020-09-30T00:00:00\", \"count\": 35}, {\"date\": \"2020-05-21T00:00:00\", \"count\": 35}, {\"date\": \"2019-05-22T00:00:00\", \"count\": 34}, {\"date\": \"2019-09-09T00:00:00\", \"count\": 34}, {\"date\": \"2020-01-26T00:00:00\", \"count\": 34}, {\"date\": \"2019-12-20T00:00:00\", \"count\": 34}, {\"date\": \"2019-07-14T00:00:00\", \"count\": 34}, {\"date\": \"2019-05-10T00:00:00\", \"count\": 34}, {\"date\": \"2020-04-20T00:00:00\", \"count\": 34}, {\"date\": \"2019-10-08T00:00:00\", \"count\": 34}, {\"date\": \"2019-09-10T00:00:00\", \"count\": 34}, {\"date\": \"2019-11-01T00:00:00\", \"count\": 34}, {\"date\": \"2019-10-14T00:00:00\", \"count\": 34}, {\"date\": \"2020-08-03T00:00:00\", \"count\": 34}, {\"date\": \"2020-01-09T00:00:00\", \"count\": 33}, {\"date\": \"2020-01-03T00:00:00\", \"count\": 33}, {\"date\": \"2020-03-10T00:00:00\", \"count\": 33}, {\"date\": \"2020-09-11T00:00:00\", \"count\": 33}, {\"date\": \"2020-06-11T00:00:00\", \"count\": 33}, {\"date\": \"2019-09-02T00:00:00\", \"count\": 33}, {\"date\": \"2019-08-20T00:00:00\", \"count\": 32}, {\"date\": \"2020-04-10T00:00:00\", \"count\": 32}, {\"date\": \"2019-03-17T00:00:00\", \"count\": 32}, {\"date\": \"2020-05-05T00:00:00\", \"count\": 32}, {\"date\": \"2020-03-25T00:00:00\", \"count\": 32}, {\"date\": \"2019-11-02T00:00:00\", \"count\": 32}, {\"date\": \"2019-09-25T00:00:00\", \"count\": 32}, {\"date\": \"2019-10-22T00:00:00\", \"count\": 32}, {\"date\": \"2020-10-05T00:00:00\", \"count\": 31}, {\"date\": \"2020-02-10T00:00:00\", \"count\": 31}, {\"date\": \"2019-07-20T00:00:00\", \"count\": 31}, {\"date\": \"2019-07-13T00:00:00\", \"count\": 31}, {\"date\": \"2020-09-03T00:00:00\", \"count\": 31}, {\"date\": \"2020-02-11T00:00:00\", \"count\": 31}, {\"date\": \"2020-02-20T00:00:00\", \"count\": 31}, {\"date\": \"2020-08-28T00:00:00\", \"count\": 31}, {\"date\": \"2020-08-07T00:00:00\", \"count\": 31}, {\"date\": \"2020-03-04T00:00:00\", \"count\": 31}, {\"date\": \"2019-08-17T00:00:00\", \"count\": 31}, {\"date\": \"2020-06-22T00:00:00\", \"count\": 31}, {\"date\": \"2020-01-17T00:00:00\", \"count\": 31}, {\"date\": \"2020-04-29T00:00:00\", \"count\": 31}, {\"date\": \"2020-04-19T00:00:00\", \"count\": 31}, {\"date\": \"2020-04-11T00:00:00\", \"count\": 31}, {\"date\": \"2020-05-03T00:00:00\", \"count\": 31}, {\"date\": \"2019-11-14T00:00:00\", \"count\": 30}, {\"date\": \"2019-05-08T00:00:00\", \"count\": 30}, {\"date\": \"2020-09-15T00:00:00\", \"count\": 30}, {\"date\": \"2020-09-01T00:00:00\", \"count\": 30}, {\"date\": \"2020-08-12T00:00:00\", \"count\": 30}, {\"date\": \"2019-05-12T00:00:00\", \"count\": 30}, {\"date\": \"2019-12-12T00:00:00\", \"count\": 30}, {\"date\": \"2019-10-16T00:00:00\", \"count\": 30}, {\"date\": \"2020-03-13T00:00:00\", \"count\": 30}, {\"date\": \"2020-03-15T00:00:00\", \"count\": 30}, {\"date\": \"2020-06-28T00:00:00\", \"count\": 30}, {\"date\": \"2020-07-10T00:00:00\", \"count\": 30}, {\"date\": \"2020-01-23T00:00:00\", \"count\": 29}, {\"date\": \"2019-05-05T00:00:00\", \"count\": 29}, {\"date\": \"2020-09-18T00:00:00\", \"count\": 29}, {\"date\": \"2020-09-20T00:00:00\", \"count\": 29}, {\"date\": \"2020-08-31T00:00:00\", \"count\": 29}, {\"date\": \"2019-09-05T00:00:00\", \"count\": 29}, {\"date\": \"2020-05-01T00:00:00\", \"count\": 29}, {\"date\": \"2020-07-01T00:00:00\", \"count\": 29}, {\"date\": \"2020-02-04T00:00:00\", \"count\": 29}, {\"date\": \"2020-06-16T00:00:00\", \"count\": 29}, {\"date\": \"2020-01-12T00:00:00\", \"count\": 29}, {\"date\": \"2019-10-01T00:00:00\", \"count\": 28}, {\"date\": \"2020-04-25T00:00:00\", \"count\": 28}, {\"date\": \"2020-01-29T00:00:00\", \"count\": 28}, {\"date\": \"2020-05-09T00:00:00\", \"count\": 28}, {\"date\": \"2020-05-15T00:00:00\", \"count\": 28}, {\"date\": \"2020-03-24T00:00:00\", \"count\": 28}, {\"date\": \"2019-01-18T00:00:00\", \"count\": 28}, {\"date\": \"2019-05-23T00:00:00\", \"count\": 28}, {\"date\": \"2020-08-27T00:00:00\", \"count\": 27}, {\"date\": \"2019-05-04T00:00:00\", \"count\": 27}, {\"date\": \"2020-02-02T00:00:00\", \"count\": 27}, {\"date\": \"2020-07-06T00:00:00\", \"count\": 27}, {\"date\": \"2020-05-22T00:00:00\", \"count\": 27}, {\"date\": \"2019-11-20T00:00:00\", \"count\": 27}, {\"date\": \"2019-10-02T00:00:00\", \"count\": 27}, {\"date\": \"2020-07-15T00:00:00\", \"count\": 27}, {\"date\": \"2019-09-04T00:00:00\", \"count\": 27}, {\"date\": \"2019-10-21T00:00:00\", \"count\": 27}, {\"date\": \"2020-01-20T00:00:00\", \"count\": 27}, {\"date\": \"2020-02-26T00:00:00\", \"count\": 27}, {\"date\": \"2020-03-01T00:00:00\", \"count\": 27}, {\"date\": \"2020-09-24T00:00:00\", \"count\": 27}, {\"date\": \"2020-01-13T00:00:00\", \"count\": 26}, {\"date\": \"2019-09-30T00:00:00\", \"count\": 26}, {\"date\": \"2019-08-07T00:00:00\", \"count\": 26}, {\"date\": \"2020-03-16T00:00:00\", \"count\": 26}, {\"date\": \"2019-10-30T00:00:00\", \"count\": 26}, {\"date\": \"2020-05-20T00:00:00\", \"count\": 26}, {\"date\": \"2019-08-30T00:00:00\", \"count\": 26}, {\"date\": \"2020-05-25T00:00:00\", \"count\": 26}, {\"date\": \"2019-07-30T00:00:00\", \"count\": 26}, {\"date\": \"2019-09-07T00:00:00\", \"count\": 26}, {\"date\": \"2020-03-31T00:00:00\", \"count\": 26}, {\"date\": \"2019-08-21T00:00:00\", \"count\": 26}, {\"date\": \"2019-11-21T00:00:00\", \"count\": 26}, {\"date\": \"2019-12-02T00:00:00\", \"count\": 26}, {\"date\": \"2020-08-13T00:00:00\", \"count\": 26}, {\"date\": \"2019-08-16T00:00:00\", \"count\": 25}, {\"date\": \"2020-01-16T00:00:00\", \"count\": 25}, {\"date\": \"2020-06-10T00:00:00\", \"count\": 25}, {\"date\": \"2019-10-26T00:00:00\", \"count\": 25}, {\"date\": \"2019-05-13T00:00:00\", \"count\": 25}, {\"date\": \"2020-01-18T00:00:00\", \"count\": 25}, {\"date\": \"2020-04-06T00:00:00\", \"count\": 25}, {\"date\": \"2019-12-15T00:00:00\", \"count\": 24}, {\"date\": \"2019-06-01T00:00:00\", \"count\": 24}, {\"date\": \"2019-12-08T00:00:00\", \"count\": 24}, {\"date\": \"2019-07-27T00:00:00\", \"count\": 24}, {\"date\": \"2019-07-29T00:00:00\", \"count\": 24}, {\"date\": \"2020-09-22T00:00:00\", \"count\": 24}, {\"date\": \"2019-10-12T00:00:00\", \"count\": 24}, {\"date\": \"2019-10-18T00:00:00\", \"count\": 24}, {\"date\": \"2019-10-20T00:00:00\", \"count\": 24}, {\"date\": \"2020-08-04T00:00:00\", \"count\": 24}, {\"date\": \"2020-06-25T00:00:00\", \"count\": 24}, {\"date\": \"2020-07-24T00:00:00\", \"count\": 24}, {\"date\": \"2019-07-09T00:00:00\", \"count\": 24}, {\"date\": \"2019-03-12T00:00:00\", \"count\": 24}, {\"date\": \"2020-07-09T00:00:00\", \"count\": 24}, {\"date\": \"2019-09-03T00:00:00\", \"count\": 24}, {\"date\": \"2019-12-14T00:00:00\", \"count\": 23}, {\"date\": \"2020-08-10T00:00:00\", \"count\": 23}, {\"date\": \"2019-09-14T00:00:00\", \"count\": 23}, {\"date\": \"2020-09-23T00:00:00\", \"count\": 23}, {\"date\": \"2019-07-31T00:00:00\", \"count\": 23}, {\"date\": \"2019-09-06T00:00:00\", \"count\": 23}, {\"date\": \"2019-10-17T00:00:00\", \"count\": 23}, {\"date\": \"2020-04-05T00:00:00\", \"count\": 23}, {\"date\": \"2020-03-21T00:00:00\", \"count\": 23}, {\"date\": \"2019-06-12T00:00:00\", \"count\": 23}, {\"date\": \"2020-02-14T00:00:00\", \"count\": 23}, {\"date\": \"2019-10-05T00:00:00\", \"count\": 23}, {\"date\": \"2019-05-25T00:00:00\", \"count\": 23}, {\"date\": \"2020-01-06T00:00:00\", \"count\": 23}, {\"date\": \"2019-09-27T00:00:00\", \"count\": 23}, {\"date\": \"2020-04-24T00:00:00\", \"count\": 22}, {\"date\": \"2020-07-03T00:00:00\", \"count\": 22}, {\"date\": \"2019-06-13T00:00:00\", \"count\": 22}, {\"date\": \"2020-06-24T00:00:00\", \"count\": 22}, {\"date\": \"2020-06-23T00:00:00\", \"count\": 22}, {\"date\": \"2019-12-27T00:00:00\", \"count\": 22}, {\"date\": \"2019-04-18T00:00:00\", \"count\": 22}, {\"date\": \"2018-06-05T00:00:00\", \"count\": 22}, {\"date\": \"2020-08-06T00:00:00\", \"count\": 22}, {\"date\": \"2017-09-30T00:00:00\", \"count\": 22}, {\"date\": \"2019-12-18T00:00:00\", \"count\": 22}, {\"date\": \"2018-08-15T00:00:00\", \"count\": 22}, {\"date\": \"2019-09-21T00:00:00\", \"count\": 22}, {\"date\": \"2019-04-25T00:00:00\", \"count\": 22}, {\"date\": \"2019-06-09T00:00:00\", \"count\": 22}, {\"date\": \"2019-07-19T00:00:00\", \"count\": 22}, {\"date\": \"2019-10-10T00:00:00\", \"count\": 22}, {\"date\": \"2020-03-11T00:00:00\", \"count\": 22}, {\"date\": \"2019-04-20T00:00:00\", \"count\": 21}, {\"date\": \"2019-01-31T00:00:00\", \"count\": 21}, {\"date\": \"2020-05-29T00:00:00\", \"count\": 21}, {\"date\": \"2020-08-22T00:00:00\", \"count\": 21}, {\"date\": \"2020-07-31T00:00:00\", \"count\": 21}, {\"date\": \"2020-07-14T00:00:00\", \"count\": 21}, {\"date\": \"2019-07-02T00:00:00\", \"count\": 21}, {\"date\": \"2019-10-13T00:00:00\", \"count\": 21}, {\"date\": \"2020-04-08T00:00:00\", \"count\": 21}, {\"date\": \"2019-11-04T00:00:00\", \"count\": 21}, {\"date\": \"2020-02-28T00:00:00\", \"count\": 21}, {\"date\": \"2018-06-07T00:00:00\", \"count\": 21}, {\"date\": \"2019-09-24T00:00:00\", \"count\": 20}, {\"date\": \"2019-08-18T00:00:00\", \"count\": 20}, {\"date\": \"2019-10-15T00:00:00\", \"count\": 20}, {\"date\": \"2019-07-23T00:00:00\", \"count\": 20}, {\"date\": \"2018-10-22T00:00:00\", \"count\": 20}, {\"date\": \"2020-09-16T00:00:00\", \"count\": 20}, {\"date\": \"2019-04-06T00:00:00\", \"count\": 20}, {\"date\": \"2019-04-05T00:00:00\", \"count\": 20}, {\"date\": \"2018-11-03T00:00:00\", \"count\": 20}, {\"date\": \"2019-03-16T00:00:00\", \"count\": 20}, {\"date\": \"2019-02-25T00:00:00\", \"count\": 20}, {\"date\": \"2018-11-05T00:00:00\", \"count\": 20}, {\"date\": \"2018-10-16T00:00:00\", \"count\": 20}, {\"date\": \"2019-12-19T00:00:00\", \"count\": 20}, {\"date\": \"2019-12-17T00:00:00\", \"count\": 20}, {\"date\": \"2020-03-18T00:00:00\", \"count\": 20}, {\"date\": \"2019-05-30T00:00:00\", \"count\": 20}, {\"date\": \"2020-03-14T00:00:00\", \"count\": 20}, {\"date\": \"2018-10-29T00:00:00\", \"count\": 20}, {\"date\": \"2020-09-25T00:00:00\", \"count\": 20}, {\"date\": \"2018-08-29T00:00:00\", \"count\": 20}, {\"date\": \"2020-09-28T00:00:00\", \"count\": 20}, {\"date\": \"2019-06-10T00:00:00\", \"count\": 20}, {\"date\": \"2019-06-11T00:00:00\", \"count\": 20}, {\"date\": \"2019-11-15T00:00:00\", \"count\": 20}, {\"date\": \"2019-11-06T00:00:00\", \"count\": 20}, {\"date\": \"2018-12-21T00:00:00\", \"count\": 20}, {\"date\": \"2019-11-11T00:00:00\", \"count\": 20}, {\"date\": \"2019-08-03T00:00:00\", \"count\": 19}, {\"date\": \"2019-04-09T00:00:00\", \"count\": 19}, {\"date\": \"2020-04-02T00:00:00\", \"count\": 19}, {\"date\": \"2018-07-03T00:00:00\", \"count\": 19}, {\"date\": \"2019-03-13T00:00:00\", \"count\": 19}, {\"date\": \"2020-04-21T00:00:00\", \"count\": 19}, {\"date\": \"2019-08-27T00:00:00\", \"count\": 19}, {\"date\": \"2019-01-14T00:00:00\", \"count\": 19}, {\"date\": \"2019-03-05T00:00:00\", \"count\": 19}, {\"date\": \"2019-01-15T00:00:00\", \"count\": 19}, {\"date\": \"2020-07-25T00:00:00\", \"count\": 19}, {\"date\": \"2019-12-06T00:00:00\", \"count\": 19}, {\"date\": \"2019-05-03T00:00:00\", \"count\": 19}, {\"date\": \"2017-09-26T00:00:00\", \"count\": 19}, {\"date\": \"2019-09-15T00:00:00\", \"count\": 19}, {\"date\": \"2019-05-19T00:00:00\", \"count\": 19}, {\"date\": \"2020-01-07T00:00:00\", \"count\": 19}, {\"date\": \"2019-05-20T00:00:00\", \"count\": 19}, {\"date\": \"2019-06-07T00:00:00\", \"count\": 19}, {\"date\": \"2019-06-03T00:00:00\", \"count\": 19}, {\"date\": \"2017-11-01T00:00:00\", \"count\": 19}, {\"date\": \"2020-07-16T00:00:00\", \"count\": 18}, {\"date\": \"2019-04-12T00:00:00\", \"count\": 18}, {\"date\": \"2019-08-06T00:00:00\", \"count\": 18}, {\"date\": \"2020-05-31T00:00:00\", \"count\": 18}, {\"date\": \"2019-12-10T00:00:00\", \"count\": 18}, {\"date\": \"2019-11-24T00:00:00\", \"count\": 18}, {\"date\": \"2019-07-22T00:00:00\", \"count\": 18}, {\"date\": \"2017-11-29T00:00:00\", \"count\": 18}, {\"date\": \"2019-07-10T00:00:00\", \"count\": 18}, {\"date\": \"2019-06-16T00:00:00\", \"count\": 18}, {\"date\": \"2019-10-28T00:00:00\", \"count\": 18}, {\"date\": \"2019-08-24T00:00:00\", \"count\": 18}, {\"date\": \"2019-04-23T00:00:00\", \"count\": 18}, {\"date\": \"2019-05-14T00:00:00\", \"count\": 18}, {\"date\": \"2019-08-28T00:00:00\", \"count\": 18}, {\"date\": \"2020-02-17T00:00:00\", \"count\": 18}, {\"date\": \"2020-04-28T00:00:00\", \"count\": 18}, {\"date\": \"2018-10-31T00:00:00\", \"count\": 18}, {\"date\": \"2018-10-18T00:00:00\", \"count\": 18}, {\"date\": \"2019-09-22T00:00:00\", \"count\": 18}, {\"date\": \"2019-03-09T00:00:00\", \"count\": 17}, {\"date\": \"2018-09-20T00:00:00\", \"count\": 17}, {\"date\": \"2019-04-27T00:00:00\", \"count\": 17}, {\"date\": \"2018-08-28T00:00:00\", \"count\": 17}, {\"date\": \"2018-08-13T00:00:00\", \"count\": 17}, {\"date\": \"2019-03-25T00:00:00\", \"count\": 17}, {\"date\": \"2019-01-01T00:00:00\", \"count\": 17}, {\"date\": \"2019-05-27T00:00:00\", \"count\": 17}, {\"date\": \"2019-06-22T00:00:00\", \"count\": 17}, {\"date\": \"2019-05-21T00:00:00\", \"count\": 17}, {\"date\": \"2019-02-18T00:00:00\", \"count\": 17}, {\"date\": \"2018-06-26T00:00:00\", \"count\": 17}, {\"date\": \"2019-05-18T00:00:00\", \"count\": 17}, {\"date\": \"2018-11-29T00:00:00\", \"count\": 17}, {\"date\": \"2020-07-28T00:00:00\", \"count\": 17}, {\"date\": \"2019-12-13T00:00:00\", \"count\": 17}, {\"date\": \"2020-02-12T00:00:00\", \"count\": 17}, {\"date\": \"2017-09-20T00:00:00\", \"count\": 17}, {\"date\": \"2019-09-23T00:00:00\", \"count\": 17}, {\"date\": \"2020-08-23T00:00:00\", \"count\": 17}, {\"date\": \"2020-08-19T00:00:00\", \"count\": 17}, {\"date\": \"2018-10-25T00:00:00\", \"count\": 17}, {\"date\": \"2018-10-17T00:00:00\", \"count\": 17}, {\"date\": \"2020-04-27T00:00:00\", \"count\": 17}, {\"date\": \"2017-07-25T00:00:00\", \"count\": 17}, {\"date\": \"2019-07-26T00:00:00\", \"count\": 17}, {\"date\": \"2020-07-30T00:00:00\", \"count\": 17}, {\"date\": \"2019-12-26T00:00:00\", \"count\": 17}, {\"date\": \"2018-12-31T00:00:00\", \"count\": 16}, {\"date\": \"2020-04-13T00:00:00\", \"count\": 16}, {\"date\": \"2017-10-18T00:00:00\", \"count\": 16}, {\"date\": \"2019-07-25T00:00:00\", \"count\": 16}, {\"date\": \"2017-10-27T00:00:00\", \"count\": 16}, {\"date\": \"2017-10-31T00:00:00\", \"count\": 16}, {\"date\": \"2017-11-03T00:00:00\", \"count\": 16}, {\"date\": \"2017-11-07T00:00:00\", \"count\": 16}, {\"date\": \"2018-08-24T00:00:00\", \"count\": 16}, {\"date\": \"2018-05-23T00:00:00\", \"count\": 16}, {\"date\": \"2019-03-28T00:00:00\", \"count\": 16}, {\"date\": \"2018-07-27T00:00:00\", \"count\": 16}, {\"date\": \"2018-09-10T00:00:00\", \"count\": 16}, {\"date\": \"2020-01-31T00:00:00\", \"count\": 16}, {\"date\": \"2018-08-22T00:00:00\", \"count\": 16}, {\"date\": \"2019-01-05T00:00:00\", \"count\": 16}, {\"date\": \"2020-03-28T00:00:00\", \"count\": 16}, {\"date\": \"2018-08-17T00:00:00\", \"count\": 16}, {\"date\": \"2018-08-16T00:00:00\", \"count\": 16}, {\"date\": \"2019-04-24T00:00:00\", \"count\": 16}, {\"date\": \"2020-03-07T00:00:00\", \"count\": 16}, {\"date\": \"2018-06-21T00:00:00\", \"count\": 16}, {\"date\": \"2019-06-08T00:00:00\", \"count\": 16}, {\"date\": \"2019-04-15T00:00:00\", \"count\": 16}, {\"date\": \"2019-11-23T00:00:00\", \"count\": 16}, {\"date\": \"2019-07-15T00:00:00\", \"count\": 16}, {\"date\": \"2020-05-13T00:00:00\", \"count\": 16}, {\"date\": \"2019-07-07T00:00:00\", \"count\": 16}, {\"date\": \"2018-09-01T00:00:00\", \"count\": 16}, {\"date\": \"2018-12-07T00:00:00\", \"count\": 16}, {\"date\": \"2019-08-19T00:00:00\", \"count\": 16}, {\"date\": \"2019-08-01T00:00:00\", \"count\": 16}, {\"date\": \"2018-09-04T00:00:00\", \"count\": 16}, {\"date\": \"2019-07-17T00:00:00\", \"count\": 15}, {\"date\": \"2018-06-23T00:00:00\", \"count\": 15}, {\"date\": \"2019-08-14T00:00:00\", \"count\": 15}, {\"date\": \"2020-01-11T00:00:00\", \"count\": 15}, {\"date\": \"2020-06-20T00:00:00\", \"count\": 15}, {\"date\": \"2019-03-03T00:00:00\", \"count\": 15}, {\"date\": \"2018-07-31T00:00:00\", \"count\": 15}, {\"date\": \"2019-07-21T00:00:00\", \"count\": 15}, {\"date\": \"2019-07-06T00:00:00\", \"count\": 15}, {\"date\": \"2019-09-12T00:00:00\", \"count\": 15}, {\"date\": \"2018-07-25T00:00:00\", \"count\": 15}, {\"date\": \"2018-09-21T00:00:00\", \"count\": 15}, {\"date\": \"2019-03-18T00:00:00\", \"count\": 15}, {\"date\": \"2017-10-13T00:00:00\", \"count\": 15}, {\"date\": \"2018-12-20T00:00:00\", \"count\": 15}, {\"date\": \"2018-08-01T00:00:00\", \"count\": 15}, {\"date\": \"2018-08-30T00:00:00\", \"count\": 15}, {\"date\": \"2020-04-22T00:00:00\", \"count\": 15}, {\"date\": \"2019-06-02T00:00:00\", \"count\": 15}, {\"date\": \"2019-11-16T00:00:00\", \"count\": 15}, {\"date\": \"2017-10-25T00:00:00\", \"count\": 15}, {\"date\": \"2019-06-18T00:00:00\", \"count\": 15}, {\"date\": \"2020-01-01T00:00:00\", \"count\": 15}, {\"date\": \"2019-05-17T00:00:00\", \"count\": 15}, {\"date\": \"2018-04-21T00:00:00\", \"count\": 15}, {\"date\": \"2018-04-17T00:00:00\", \"count\": 15}, {\"date\": \"2018-09-18T00:00:00\", \"count\": 14}, {\"date\": \"2018-07-29T00:00:00\", \"count\": 14}, {\"date\": \"2018-07-24T00:00:00\", \"count\": 14}, {\"date\": \"2018-06-22T00:00:00\", \"count\": 14}, {\"date\": \"2017-06-22T00:00:00\", \"count\": 14}, {\"date\": \"2019-02-23T00:00:00\", \"count\": 14}, {\"date\": \"2017-07-22T00:00:00\", \"count\": 14}, {\"date\": \"2019-02-10T00:00:00\", \"count\": 14}, {\"date\": \"2018-06-25T00:00:00\", \"count\": 14}, {\"date\": \"2019-03-10T00:00:00\", \"count\": 14}, {\"date\": \"2020-07-08T00:00:00\", \"count\": 14}, {\"date\": \"2019-02-09T00:00:00\", \"count\": 14}, {\"date\": \"2020-05-04T00:00:00\", \"count\": 14}, {\"date\": \"2019-03-04T00:00:00\", \"count\": 14}, {\"date\": \"2019-04-01T00:00:00\", \"count\": 14}, {\"date\": \"2019-03-14T00:00:00\", \"count\": 14}, {\"date\": \"2017-05-28T00:00:00\", \"count\": 14}, {\"date\": \"2020-06-06T00:00:00\", \"count\": 14}, {\"date\": \"2019-05-07T00:00:00\", \"count\": 14}, {\"date\": \"2020-08-08T00:00:00\", \"count\": 14}, {\"date\": \"2018-09-13T00:00:00\", \"count\": 14}, {\"date\": \"2019-07-28T00:00:00\", \"count\": 14}, {\"date\": \"2019-08-05T00:00:00\", \"count\": 14}, {\"date\": \"2018-09-11T00:00:00\", \"count\": 14}, {\"date\": \"2019-07-16T00:00:00\", \"count\": 14}, {\"date\": \"2018-12-18T00:00:00\", \"count\": 14}, {\"date\": \"2019-09-08T00:00:00\", \"count\": 14}, {\"date\": \"2018-04-02T00:00:00\", \"count\": 14}, {\"date\": \"2019-07-03T00:00:00\", \"count\": 14}, {\"date\": \"2019-07-01T00:00:00\", \"count\": 14}, {\"date\": \"2019-06-25T00:00:00\", \"count\": 14}, {\"date\": \"2018-01-11T00:00:00\", \"count\": 14}, {\"date\": \"2019-11-18T00:00:00\", \"count\": 14}, {\"date\": \"2019-06-04T00:00:00\", \"count\": 14}, {\"date\": \"2019-01-13T00:00:00\", \"count\": 14}, {\"date\": \"2018-10-27T00:00:00\", \"count\": 14}, {\"date\": \"2019-05-24T00:00:00\", \"count\": 14}, {\"date\": \"2017-10-11T00:00:00\", \"count\": 14}, {\"date\": \"2017-09-23T00:00:00\", \"count\": 14}, {\"date\": \"2018-05-25T00:00:00\", \"count\": 14}, {\"date\": \"2019-01-12T00:00:00\", \"count\": 14}, {\"date\": \"2017-08-25T00:00:00\", \"count\": 14}, {\"date\": \"2018-06-04T00:00:00\", \"count\": 14}, {\"date\": \"2017-08-24T00:00:00\", \"count\": 14}, {\"date\": \"2019-01-22T00:00:00\", \"count\": 13}, {\"date\": \"2020-07-21T00:00:00\", \"count\": 13}, {\"date\": \"2020-08-11T00:00:00\", \"count\": 13}, {\"date\": \"2018-12-13T00:00:00\", \"count\": 13}, {\"date\": \"2018-07-30T00:00:00\", \"count\": 13}, {\"date\": \"2019-01-09T00:00:00\", \"count\": 13}, {\"date\": \"2019-01-10T00:00:00\", \"count\": 13}, {\"date\": \"2018-11-13T00:00:00\", \"count\": 13}, {\"date\": \"2018-11-09T00:00:00\", \"count\": 13}, {\"date\": \"2018-08-20T00:00:00\", \"count\": 13}, {\"date\": \"2020-10-01T00:00:00\", \"count\": 13}, {\"date\": \"2018-12-23T00:00:00\", \"count\": 13}, {\"date\": \"2020-09-21T00:00:00\", \"count\": 13}, {\"date\": \"2019-02-11T00:00:00\", \"count\": 13}, {\"date\": \"2017-07-29T00:00:00\", \"count\": 13}, {\"date\": \"2019-02-17T00:00:00\", \"count\": 13}, {\"date\": \"2018-04-19T00:00:00\", \"count\": 13}, {\"date\": \"2020-02-06T00:00:00\", \"count\": 13}, {\"date\": \"2017-09-15T00:00:00\", \"count\": 13}, {\"date\": \"2019-05-09T00:00:00\", \"count\": 13}, {\"date\": \"2017-09-25T00:00:00\", \"count\": 13}, {\"date\": \"2017-10-21T00:00:00\", \"count\": 13}, {\"date\": \"2018-05-04T00:00:00\", \"count\": 13}, {\"date\": \"2017-11-02T00:00:00\", \"count\": 13}, {\"date\": \"2019-12-07T00:00:00\", \"count\": 13}, {\"date\": \"2018-10-09T00:00:00\", \"count\": 13}, {\"date\": \"2020-06-14T00:00:00\", \"count\": 13}, {\"date\": \"2019-06-14T00:00:00\", \"count\": 13}, {\"date\": \"2019-10-24T00:00:00\", \"count\": 13}, {\"date\": \"2017-12-18T00:00:00\", \"count\": 13}, {\"date\": \"2019-06-24T00:00:00\", \"count\": 13}, {\"date\": \"2018-02-20T00:00:00\", \"count\": 13}, {\"date\": \"2019-08-12T00:00:00\", \"count\": 13}, {\"date\": \"2019-08-10T00:00:00\", \"count\": 13}, {\"date\": \"2019-07-18T00:00:00\", \"count\": 13}, {\"date\": \"2018-05-30T00:00:00\", \"count\": 13}, {\"date\": \"2019-04-29T00:00:00\", \"count\": 13}, {\"date\": \"2018-06-02T00:00:00\", \"count\": 13}, {\"date\": \"2020-02-22T00:00:00\", \"count\": 13}, {\"date\": \"2019-03-02T00:00:00\", \"count\": 13}, {\"date\": \"2020-06-08T00:00:00\", \"count\": 13}, {\"date\": \"2018-07-11T00:00:00\", \"count\": 13}, {\"date\": \"2019-03-19T00:00:00\", \"count\": 13}, {\"date\": \"2017-06-29T00:00:00\", \"count\": 13}, {\"date\": \"2020-04-07T00:00:00\", \"count\": 13}, {\"date\": \"2017-07-14T00:00:00\", \"count\": 13}, {\"date\": \"2019-04-08T00:00:00\", \"count\": 13}, {\"date\": \"2018-06-20T00:00:00\", \"count\": 13}, {\"date\": \"2018-06-17T00:00:00\", \"count\": 13}, {\"date\": \"2018-06-15T00:00:00\", \"count\": 13}, {\"date\": \"2018-06-13T00:00:00\", \"count\": 13}, {\"date\": \"2018-06-12T00:00:00\", \"count\": 13}, {\"date\": \"2019-04-19T00:00:00\", \"count\": 13}, {\"date\": \"2017-08-07T00:00:00\", \"count\": 13}, {\"date\": \"2018-09-25T00:00:00\", \"count\": 13}, {\"date\": \"2020-10-06T00:00:00\", \"count\": 13}, {\"date\": \"2018-10-13T00:00:00\", \"count\": 12}, {\"date\": \"2018-11-02T00:00:00\", \"count\": 12}, {\"date\": \"2018-10-26T00:00:00\", \"count\": 12}, {\"date\": \"2019-11-12T00:00:00\", \"count\": 12}, {\"date\": \"2018-12-03T00:00:00\", \"count\": 12}, {\"date\": \"2018-12-24T00:00:00\", \"count\": 12}, {\"date\": \"2020-09-27T00:00:00\", \"count\": 12}, {\"date\": \"2020-07-22T00:00:00\", \"count\": 12}, {\"date\": \"2020-06-15T00:00:00\", \"count\": 12}, {\"date\": \"2020-05-08T00:00:00\", \"count\": 12}, {\"date\": \"2020-03-30T00:00:00\", \"count\": 12}, {\"date\": \"2020-03-06T00:00:00\", \"count\": 12}, {\"date\": \"2020-02-29T00:00:00\", \"count\": 12}, {\"date\": \"2020-02-23T00:00:00\", \"count\": 12}, {\"date\": \"2019-12-16T00:00:00\", \"count\": 12}, {\"date\": \"2019-11-07T00:00:00\", \"count\": 12}, {\"date\": \"2019-09-19T00:00:00\", \"count\": 12}, {\"date\": \"2019-05-31T00:00:00\", \"count\": 12}, {\"date\": \"2019-05-02T00:00:00\", \"count\": 12}, {\"date\": \"2019-04-13T00:00:00\", \"count\": 12}, {\"date\": \"2019-04-11T00:00:00\", \"count\": 12}, {\"date\": \"2019-03-26T00:00:00\", \"count\": 12}, {\"date\": \"2019-01-27T00:00:00\", \"count\": 12}, {\"date\": \"2019-01-26T00:00:00\", \"count\": 12}, {\"date\": \"2018-12-27T00:00:00\", \"count\": 12}, {\"date\": \"2018-10-12T00:00:00\", \"count\": 12}, {\"date\": \"2017-01-20T00:00:00\", \"count\": 12}, {\"date\": \"2018-12-08T00:00:00\", \"count\": 12}, {\"date\": \"2017-11-28T00:00:00\", \"count\": 12}, {\"date\": \"2018-09-17T00:00:00\", \"count\": 12}, {\"date\": \"2017-12-09T00:00:00\", \"count\": 12}, {\"date\": \"2018-09-24T00:00:00\", \"count\": 12}, {\"date\": \"2018-06-19T00:00:00\", \"count\": 12}, {\"date\": \"2017-10-07T00:00:00\", \"count\": 12}, {\"date\": \"2018-07-19T00:00:00\", \"count\": 12}, {\"date\": \"2017-08-16T00:00:00\", \"count\": 12}, {\"date\": \"2018-07-23T00:00:00\", \"count\": 12}, {\"date\": \"2018-08-03T00:00:00\", \"count\": 12}, {\"date\": \"2018-08-04T00:00:00\", \"count\": 12}, {\"date\": \"2017-07-01T00:00:00\", \"count\": 12}, {\"date\": \"2017-06-19T00:00:00\", \"count\": 12}, {\"date\": \"2018-10-02T00:00:00\", \"count\": 12}, {\"date\": \"2017-04-27T00:00:00\", \"count\": 12}, {\"date\": \"2018-08-14T00:00:00\", \"count\": 12}, {\"date\": \"2018-10-03T00:00:00\", \"count\": 12}, {\"date\": \"2018-08-18T00:00:00\", \"count\": 12}, {\"date\": \"2018-09-05T00:00:00\", \"count\": 12}, {\"date\": \"2018-06-27T00:00:00\", \"count\": 12}, {\"date\": \"2018-05-07T00:00:00\", \"count\": 11}, {\"date\": \"2019-04-26T00:00:00\", \"count\": 11}, {\"date\": \"2018-04-27T00:00:00\", \"count\": 11}, {\"date\": \"2019-04-16T00:00:00\", \"count\": 11}, {\"date\": \"2019-06-05T00:00:00\", \"count\": 11}, {\"date\": \"2018-07-18T00:00:00\", \"count\": 11}, {\"date\": \"2018-06-28T00:00:00\", \"count\": 11}, {\"date\": \"2019-04-04T00:00:00\", \"count\": 11}, {\"date\": \"2019-04-02T00:00:00\", \"count\": 11}, {\"date\": \"2019-03-22T00:00:00\", \"count\": 11}, {\"date\": \"2019-03-15T00:00:00\", \"count\": 11}, {\"date\": \"2019-06-19T00:00:00\", \"count\": 11}, {\"date\": \"2019-02-16T00:00:00\", \"count\": 11}, {\"date\": \"2019-01-30T00:00:00\", \"count\": 11}, {\"date\": \"2019-01-21T00:00:00\", \"count\": 11}, {\"date\": \"2018-08-21T00:00:00\", \"count\": 11}, {\"date\": \"2019-06-17T00:00:00\", \"count\": 11}, {\"date\": \"2018-02-24T00:00:00\", \"count\": 11}, {\"date\": \"2018-04-11T00:00:00\", \"count\": 11}, {\"date\": \"2017-09-14T00:00:00\", \"count\": 11}, {\"date\": \"2017-02-08T00:00:00\", \"count\": 11}, {\"date\": \"2017-02-15T00:00:00\", \"count\": 11}, {\"date\": \"2020-07-18T00:00:00\", \"count\": 11}, {\"date\": \"2020-07-12T00:00:00\", \"count\": 11}, {\"date\": \"2017-05-04T00:00:00\", \"count\": 11}, {\"date\": \"2020-04-15T00:00:00\", \"count\": 11}, {\"date\": \"2017-07-09T00:00:00\", \"count\": 11}, {\"date\": \"2017-07-12T00:00:00\", \"count\": 11}, {\"date\": \"2020-04-03T00:00:00\", \"count\": 11}, {\"date\": \"2017-07-24T00:00:00\", \"count\": 11}, {\"date\": \"2017-08-27T00:00:00\", \"count\": 11}, {\"date\": \"2019-12-23T00:00:00\", \"count\": 11}, {\"date\": \"2019-06-29T00:00:00\", \"count\": 11}, {\"date\": \"2019-12-05T00:00:00\", \"count\": 11}, {\"date\": \"2019-11-26T00:00:00\", \"count\": 11}, {\"date\": \"2017-11-15T00:00:00\", \"count\": 11}, {\"date\": \"2019-11-10T00:00:00\", \"count\": 11}, {\"date\": \"2017-11-30T00:00:00\", \"count\": 11}, {\"date\": \"2017-12-22T00:00:00\", \"count\": 11}, {\"date\": \"2019-08-29T00:00:00\", \"count\": 11}, {\"date\": \"2018-12-11T00:00:00\", \"count\": 11}, {\"date\": \"2019-08-08T00:00:00\", \"count\": 11}, {\"date\": \"2018-03-10T00:00:00\", \"count\": 11}, {\"date\": \"2019-07-08T00:00:00\", \"count\": 11}, {\"date\": \"2018-12-16T00:00:00\", \"count\": 11}, {\"date\": \"2018-10-04T00:00:00\", \"count\": 11}, {\"date\": \"2018-11-21T00:00:00\", \"count\": 11}, {\"date\": \"2018-11-25T00:00:00\", \"count\": 11}, {\"date\": \"2018-11-06T00:00:00\", \"count\": 11}, {\"date\": \"2018-06-09T00:00:00\", \"count\": 10}, {\"date\": \"2017-08-17T00:00:00\", \"count\": 10}, {\"date\": \"2019-04-14T00:00:00\", \"count\": 10}, {\"date\": \"2018-08-02T00:00:00\", \"count\": 10}, {\"date\": \"2018-11-07T00:00:00\", \"count\": 10}, {\"date\": \"2017-06-20T00:00:00\", \"count\": 10}, {\"date\": \"2020-02-27T00:00:00\", \"count\": 10}, {\"date\": \"2018-10-10T00:00:00\", \"count\": 10}, {\"date\": \"2018-07-26T00:00:00\", \"count\": 10}, {\"date\": \"2017-02-11T00:00:00\", \"count\": 10}, {\"date\": \"2020-05-07T00:00:00\", \"count\": 10}, {\"date\": \"2018-05-28T00:00:00\", \"count\": 10}, {\"date\": \"2019-01-24T00:00:00\", \"count\": 10}, {\"date\": \"2020-02-13T00:00:00\", \"count\": 10}, {\"date\": \"2018-05-26T00:00:00\", \"count\": 10}, {\"date\": \"2018-09-09T00:00:00\", \"count\": 10}, {\"date\": \"2018-07-14T00:00:00\", \"count\": 10}, {\"date\": \"2019-02-19T00:00:00\", \"count\": 10}, {\"date\": \"2018-10-20T00:00:00\", \"count\": 10}, {\"date\": \"2019-03-20T00:00:00\", \"count\": 10}, {\"date\": \"2018-10-19T00:00:00\", \"count\": 10}, {\"date\": \"2018-07-10T00:00:00\", \"count\": 10}, {\"date\": \"2019-08-26T00:00:00\", \"count\": 10}, {\"date\": \"2019-03-29T00:00:00\", \"count\": 10}, {\"date\": \"2019-09-20T00:00:00\", \"count\": 10}, {\"date\": \"2018-02-18T00:00:00\", \"count\": 10}, {\"date\": \"2018-05-21T00:00:00\", \"count\": 10}, {\"date\": \"2018-02-22T00:00:00\", \"count\": 10}, {\"date\": \"2019-03-01T00:00:00\", \"count\": 10}, {\"date\": \"2017-07-26T00:00:00\", \"count\": 10}, {\"date\": \"2019-02-24T00:00:00\", \"count\": 10}, {\"date\": \"2017-07-27T00:00:00\", \"count\": 10}, {\"date\": \"2018-02-27T00:00:00\", \"count\": 10}, {\"date\": \"2017-06-06T00:00:00\", \"count\": 10}, {\"date\": \"2017-07-03T00:00:00\", \"count\": 10}, {\"date\": \"2017-02-04T00:00:00\", \"count\": 10}, {\"date\": \"2018-05-16T00:00:00\", \"count\": 10}, {\"date\": \"2019-05-28T00:00:00\", \"count\": 10}, {\"date\": \"2019-06-21T00:00:00\", \"count\": 10}, {\"date\": \"2018-04-12T00:00:00\", \"count\": 10}, {\"date\": \"2018-05-02T00:00:00\", \"count\": 10}, {\"date\": \"2019-12-25T00:00:00\", \"count\": 10}, {\"date\": \"2017-10-12T00:00:00\", \"count\": 10}, {\"date\": \"2018-12-22T00:00:00\", \"count\": 10}, {\"date\": \"2018-09-03T00:00:00\", \"count\": 10}, {\"date\": \"2018-12-19T00:00:00\", \"count\": 10}, {\"date\": \"2018-09-14T00:00:00\", \"count\": 10}, {\"date\": \"2017-05-12T00:00:00\", \"count\": 10}, {\"date\": \"2017-09-19T00:00:00\", \"count\": 10}, {\"date\": \"2019-12-04T00:00:00\", \"count\": 10}, {\"date\": \"2019-12-24T00:00:00\", \"count\": 10}, {\"date\": \"2017-10-17T00:00:00\", \"count\": 10}, {\"date\": \"2017-05-31T00:00:00\", \"count\": 10}, {\"date\": \"2018-08-11T00:00:00\", \"count\": 10}, {\"date\": \"2018-05-18T00:00:00\", \"count\": 10}, {\"date\": \"2018-09-06T00:00:00\", \"count\": 10}, {\"date\": \"2018-12-04T00:00:00\", \"count\": 10}, {\"date\": \"2018-04-20T00:00:00\", \"count\": 10}, {\"date\": \"2018-12-14T00:00:00\", \"count\": 10}, {\"date\": \"2018-05-17T00:00:00\", \"count\": 10}, {\"date\": \"2019-11-30T00:00:00\", \"count\": 10}, {\"date\": \"2019-01-11T00:00:00\", \"count\": 10}, {\"date\": \"2017-03-30T00:00:00\", \"count\": 9}, {\"date\": \"2018-02-23T00:00:00\", \"count\": 9}, {\"date\": \"2017-03-15T00:00:00\", \"count\": 9}, {\"date\": \"2018-11-12T00:00:00\", \"count\": 9}, {\"date\": \"2018-09-15T00:00:00\", \"count\": 9}, {\"date\": \"2018-09-12T00:00:00\", \"count\": 9}, {\"date\": \"2018-11-15T00:00:00\", \"count\": 9}, {\"date\": \"2018-02-17T00:00:00\", \"count\": 9}, {\"date\": \"2018-06-30T00:00:00\", \"count\": 9}, {\"date\": \"2018-07-05T00:00:00\", \"count\": 9}, {\"date\": \"2019-06-06T00:00:00\", \"count\": 9}, {\"date\": \"2017-06-28T00:00:00\", \"count\": 9}, {\"date\": \"2018-05-09T00:00:00\", \"count\": 9}, {\"date\": \"2018-03-01T00:00:00\", \"count\": 9}, {\"date\": \"2019-04-21T00:00:00\", \"count\": 9}, {\"date\": \"2019-05-06T00:00:00\", \"count\": 9}, {\"date\": \"2018-03-21T00:00:00\", \"count\": 9}, {\"date\": \"2019-04-30T00:00:00\", \"count\": 9}, {\"date\": \"2020-04-14T00:00:00\", \"count\": 9}, {\"date\": \"2017-06-13T00:00:00\", \"count\": 9}, {\"date\": \"2018-03-14T00:00:00\", \"count\": 9}, {\"date\": \"2018-03-13T00:00:00\", \"count\": 9}, {\"date\": \"2018-06-06T00:00:00\", \"count\": 9}, {\"date\": \"2019-08-02T00:00:00\", \"count\": 9}, {\"date\": \"2018-11-16T00:00:00\", \"count\": 9}, {\"date\": \"2018-03-28T00:00:00\", \"count\": 9}, {\"date\": \"2018-10-08T00:00:00\", \"count\": 9}, {\"date\": \"2017-05-10T00:00:00\", \"count\": 9}, {\"date\": \"2017-05-08T00:00:00\", \"count\": 9}, {\"date\": \"2017-06-26T00:00:00\", \"count\": 9}, {\"date\": \"2019-08-11T00:00:00\", \"count\": 9}, {\"date\": \"2017-06-05T00:00:00\", \"count\": 9}, {\"date\": \"2019-04-10T00:00:00\", \"count\": 9}, {\"date\": \"2020-05-06T00:00:00\", \"count\": 9}, {\"date\": \"2017-10-10T00:00:00\", \"count\": 9}, {\"date\": \"2018-02-10T00:00:00\", \"count\": 9}, {\"date\": \"2019-11-22T00:00:00\", \"count\": 9}, {\"date\": \"2017-02-17T00:00:00\", \"count\": 9}, {\"date\": \"2017-12-08T00:00:00\", \"count\": 9}, {\"date\": \"2018-11-01T00:00:00\", \"count\": 9}, {\"date\": \"2019-11-08T00:00:00\", \"count\": 9}, {\"date\": \"2019-09-13T00:00:00\", \"count\": 9}, {\"date\": \"2018-08-06T00:00:00\", \"count\": 9}, {\"date\": \"2017-11-23T00:00:00\", \"count\": 9}, {\"date\": \"2017-11-22T00:00:00\", \"count\": 9}, {\"date\": \"2018-09-08T00:00:00\", \"count\": 9}, {\"date\": \"2019-11-19T00:00:00\", \"count\": 9}, {\"date\": \"2017-09-06T00:00:00\", \"count\": 9}, {\"date\": \"2018-12-05T00:00:00\", \"count\": 9}, {\"date\": \"2019-02-08T00:00:00\", \"count\": 9}, {\"date\": \"2017-09-22T00:00:00\", \"count\": 9}, {\"date\": \"2017-11-13T00:00:00\", \"count\": 9}, {\"date\": \"2018-08-25T00:00:00\", \"count\": 9}, {\"date\": \"2017-09-27T00:00:00\", \"count\": 9}, {\"date\": \"2018-12-29T00:00:00\", \"count\": 9}, {\"date\": \"2017-09-29T00:00:00\", \"count\": 9}, {\"date\": \"2017-10-28T00:00:00\", \"count\": 9}, {\"date\": \"2018-08-27T00:00:00\", \"count\": 9}, {\"date\": \"2019-12-28T00:00:00\", \"count\": 9}, {\"date\": \"2017-10-08T00:00:00\", \"count\": 9}, {\"date\": \"2017-10-19T00:00:00\", \"count\": 9}, {\"date\": \"2019-02-07T00:00:00\", \"count\": 9}, {\"date\": \"2017-09-01T00:00:00\", \"count\": 9}, {\"date\": \"2017-08-14T00:00:00\", \"count\": 9}, {\"date\": \"2017-03-03T00:00:00\", \"count\": 9}, {\"date\": \"2017-04-26T00:00:00\", \"count\": 9}, {\"date\": \"2020-03-26T00:00:00\", \"count\": 9}, {\"date\": \"2019-02-20T00:00:00\", \"count\": 9}, {\"date\": \"2018-11-04T00:00:00\", \"count\": 9}, {\"date\": \"2017-07-16T00:00:00\", \"count\": 9}, {\"date\": \"2018-01-20T00:00:00\", \"count\": 9}, {\"date\": \"2020-03-20T00:00:00\", \"count\": 9}, {\"date\": \"2018-01-18T00:00:00\", \"count\": 9}, {\"date\": \"2018-01-16T00:00:00\", \"count\": 9}, {\"date\": \"2019-02-12T00:00:00\", \"count\": 9}, {\"date\": \"2018-11-30T00:00:00\", \"count\": 9}, {\"date\": \"2018-11-27T00:00:00\", \"count\": 9}, {\"date\": \"2019-09-17T00:00:00\", \"count\": 8}, {\"date\": \"2019-12-11T00:00:00\", \"count\": 8}, {\"date\": \"2018-10-01T00:00:00\", \"count\": 8}, {\"date\": \"2018-04-08T00:00:00\", \"count\": 8}, {\"date\": \"2018-03-06T00:00:00\", \"count\": 8}, {\"date\": \"2020-06-17T00:00:00\", \"count\": 8}, {\"date\": \"2020-01-19T00:00:00\", \"count\": 8}, {\"date\": \"2019-07-05T00:00:00\", \"count\": 8}, {\"date\": \"2017-10-24T00:00:00\", \"count\": 8}, {\"date\": \"2018-04-15T00:00:00\", \"count\": 8}, {\"date\": \"2020-06-21T00:00:00\", \"count\": 8}, {\"date\": \"2018-10-24T00:00:00\", \"count\": 8}, {\"date\": \"2018-04-18T00:00:00\", \"count\": 8}, {\"date\": \"2018-10-15T00:00:00\", \"count\": 8}, {\"date\": \"2020-04-16T00:00:00\", \"count\": 8}, {\"date\": \"2017-11-11T00:00:00\", \"count\": 8}, {\"date\": \"2018-01-17T00:00:00\", \"count\": 8}, {\"date\": \"2018-04-03T00:00:00\", \"count\": 8}, {\"date\": \"2018-03-02T00:00:00\", \"count\": 8}, {\"date\": \"2019-08-09T00:00:00\", \"count\": 8}, {\"date\": \"2017-08-18T00:00:00\", \"count\": 8}, {\"date\": \"2017-08-19T00:00:00\", \"count\": 8}, {\"date\": \"2017-06-16T00:00:00\", \"count\": 8}, {\"date\": \"2017-12-07T00:00:00\", \"count\": 8}, {\"date\": \"2017-08-22T00:00:00\", \"count\": 8}, {\"date\": \"2017-08-12T00:00:00\", \"count\": 8}, {\"date\": \"2018-10-30T00:00:00\", \"count\": 8}, {\"date\": \"2017-08-03T00:00:00\", \"count\": 8}, {\"date\": \"2017-09-24T00:00:00\", \"count\": 8}, {\"date\": \"2018-02-28T00:00:00\", \"count\": 8}, {\"date\": \"2017-07-28T00:00:00\", \"count\": 8}, {\"date\": \"2018-01-10T00:00:00\", \"count\": 8}, {\"date\": \"2017-11-16T00:00:00\", \"count\": 8}, {\"date\": \"2018-03-25T00:00:00\", \"count\": 8}, {\"date\": \"2017-09-07T00:00:00\", \"count\": 8}, {\"date\": \"2019-11-25T00:00:00\", \"count\": 8}, {\"date\": \"2017-09-18T00:00:00\", \"count\": 8}, {\"date\": \"2018-04-22T00:00:00\", \"count\": 8}, {\"date\": \"2017-12-31T00:00:00\", \"count\": 8}, {\"date\": \"2018-04-24T00:00:00\", \"count\": 8}, {\"date\": \"2019-02-01T00:00:00\", \"count\": 8}, {\"date\": \"2018-06-18T00:00:00\", \"count\": 8}, {\"date\": \"2018-06-24T00:00:00\", \"count\": 8}, {\"date\": \"2019-04-07T00:00:00\", \"count\": 8}, {\"date\": \"2018-11-22T00:00:00\", \"count\": 8}, {\"date\": \"2017-03-20T00:00:00\", \"count\": 8}, {\"date\": \"2019-03-27T00:00:00\", \"count\": 8}, {\"date\": \"2018-07-09T00:00:00\", \"count\": 8}, {\"date\": \"2018-07-15T00:00:00\", \"count\": 8}, {\"date\": \"2018-11-26T00:00:00\", \"count\": 8}, {\"date\": \"2019-02-27T00:00:00\", \"count\": 8}, {\"date\": \"2018-07-22T00:00:00\", \"count\": 8}, {\"date\": \"2019-02-14T00:00:00\", \"count\": 8}, {\"date\": \"2019-02-13T00:00:00\", \"count\": 8}, {\"date\": \"2018-10-06T00:00:00\", \"count\": 8}, {\"date\": \"2018-05-20T00:00:00\", \"count\": 8}, {\"date\": \"2018-08-05T00:00:00\", \"count\": 8}, {\"date\": \"2019-01-23T00:00:00\", \"count\": 8}, {\"date\": \"2018-08-07T00:00:00\", \"count\": 8}, {\"date\": \"2019-01-17T00:00:00\", \"count\": 8}, {\"date\": \"2018-08-10T00:00:00\", \"count\": 8}, {\"date\": \"2018-12-06T00:00:00\", \"count\": 8}, {\"date\": \"2019-01-03T00:00:00\", \"count\": 8}, {\"date\": \"2017-02-03T00:00:00\", \"count\": 8}, {\"date\": \"2018-08-23T00:00:00\", \"count\": 8}, {\"date\": \"2017-01-30T00:00:00\", \"count\": 8}, {\"date\": \"2018-08-31T00:00:00\", \"count\": 8}, {\"date\": \"2017-01-25T00:00:00\", \"count\": 8}, {\"date\": \"2017-01-24T00:00:00\", \"count\": 8}, {\"date\": \"2018-05-24T00:00:00\", \"count\": 8}, {\"date\": \"2018-07-17T00:00:00\", \"count\": 8}, {\"date\": \"2017-05-05T00:00:00\", \"count\": 8}, {\"date\": \"2019-05-15T00:00:00\", \"count\": 8}, {\"date\": \"2019-05-26T00:00:00\", \"count\": 8}, {\"date\": \"2019-05-29T00:00:00\", \"count\": 8}, {\"date\": \"2019-05-16T00:00:00\", \"count\": 8}, {\"date\": \"2018-01-23T00:00:00\", \"count\": 7}, {\"date\": \"2017-08-05T00:00:00\", \"count\": 7}, {\"date\": \"2018-04-07T00:00:00\", \"count\": 7}, {\"date\": \"2017-02-09T00:00:00\", \"count\": 7}, {\"date\": \"2018-07-16T00:00:00\", \"count\": 7}, {\"date\": \"2017-12-02T00:00:00\", \"count\": 7}, {\"date\": \"2017-08-23T00:00:00\", \"count\": 7}, {\"date\": \"2017-04-23T00:00:00\", \"count\": 7}, {\"date\": \"2017-02-12T00:00:00\", \"count\": 7}, {\"date\": \"2018-09-16T00:00:00\", \"count\": 7}, {\"date\": \"2019-06-27T00:00:00\", \"count\": 7}, {\"date\": \"2018-11-28T00:00:00\", \"count\": 7}, {\"date\": \"2017-08-04T00:00:00\", \"count\": 7}, {\"date\": \"2018-04-25T00:00:00\", \"count\": 7}, {\"date\": \"2018-05-15T00:00:00\", \"count\": 7}, {\"date\": \"2018-09-19T00:00:00\", \"count\": 7}, {\"date\": \"2018-07-21T00:00:00\", \"count\": 7}, {\"date\": \"2019-02-26T00:00:00\", \"count\": 7}, {\"date\": \"2018-01-12T00:00:00\", \"count\": 7}, {\"date\": \"2019-06-30T00:00:00\", \"count\": 7}, {\"date\": \"2019-02-28T00:00:00\", \"count\": 7}, {\"date\": \"2018-07-20T00:00:00\", \"count\": 7}, {\"date\": \"2018-01-19T00:00:00\", \"count\": 7}, {\"date\": \"2017-07-21T00:00:00\", \"count\": 7}, {\"date\": \"2018-11-10T00:00:00\", \"count\": 7}, {\"date\": \"2017-09-02T00:00:00\", \"count\": 7}, {\"date\": \"2017-02-06T00:00:00\", \"count\": 7}, {\"date\": \"2017-10-26T00:00:00\", \"count\": 7}, {\"date\": \"2017-10-16T00:00:00\", \"count\": 7}, {\"date\": \"2020-01-04T00:00:00\", \"count\": 7}, {\"date\": \"2017-04-24T00:00:00\", \"count\": 7}, {\"date\": \"2017-10-20T00:00:00\", \"count\": 7}, {\"date\": \"2020-01-15T00:00:00\", \"count\": 7}, {\"date\": \"2017-01-26T00:00:00\", \"count\": 7}, {\"date\": \"2017-10-04T00:00:00\", \"count\": 7}, {\"date\": \"2017-01-27T00:00:00\", \"count\": 7}, {\"date\": \"2018-04-28T00:00:00\", \"count\": 7}, {\"date\": \"2018-09-26T00:00:00\", \"count\": 7}, {\"date\": \"2017-01-29T00:00:00\", \"count\": 7}, {\"date\": \"2017-10-01T00:00:00\", \"count\": 7}, {\"date\": \"2017-07-15T00:00:00\", \"count\": 7}, {\"date\": \"2017-11-06T00:00:00\", \"count\": 7}, {\"date\": \"2017-09-28T00:00:00\", \"count\": 7}, {\"date\": \"2017-11-10T00:00:00\", \"count\": 7}, {\"date\": \"2018-04-30T00:00:00\", \"count\": 7}, {\"date\": \"2018-05-01T00:00:00\", \"count\": 7}, {\"date\": \"2019-01-06T00:00:00\", \"count\": 7}, {\"date\": \"2019-01-07T00:00:00\", \"count\": 7}, {\"date\": \"2018-10-23T00:00:00\", \"count\": 7}, {\"date\": \"2017-09-08T00:00:00\", \"count\": 7}, {\"date\": \"2020-09-19T00:00:00\", \"count\": 7}, {\"date\": \"2019-01-19T00:00:00\", \"count\": 7}, {\"date\": \"2018-01-26T00:00:00\", \"count\": 7}, {\"date\": \"2019-02-21T00:00:00\", \"count\": 7}, {\"date\": \"2018-03-12T00:00:00\", \"count\": 7}, {\"date\": \"2018-06-14T00:00:00\", \"count\": 7}, {\"date\": \"2018-06-08T00:00:00\", \"count\": 7}, {\"date\": \"2017-04-01T00:00:00\", \"count\": 7}, {\"date\": \"2018-05-31T00:00:00\", \"count\": 7}, {\"date\": \"2017-04-03T00:00:00\", \"count\": 7}, {\"date\": \"2018-05-29T00:00:00\", \"count\": 7}, {\"date\": \"2017-06-09T00:00:00\", \"count\": 7}, {\"date\": \"2017-04-17T00:00:00\", \"count\": 7}, {\"date\": \"2017-04-18T00:00:00\", \"count\": 7}, {\"date\": \"2020-07-05T00:00:00\", \"count\": 7}, {\"date\": \"2019-04-17T00:00:00\", \"count\": 7}, {\"date\": \"2019-03-21T00:00:00\", \"count\": 7}, {\"date\": \"2017-03-07T00:00:00\", \"count\": 7}, {\"date\": \"2017-03-04T00:00:00\", \"count\": 7}, {\"date\": \"2017-03-31T00:00:00\", \"count\": 7}, {\"date\": \"2018-02-06T00:00:00\", \"count\": 7}, {\"date\": \"2017-05-27T00:00:00\", \"count\": 7}, {\"date\": \"2017-06-15T00:00:00\", \"count\": 6}, {\"date\": \"2018-03-08T00:00:00\", \"count\": 6}, {\"date\": \"2018-04-10T00:00:00\", \"count\": 6}, {\"date\": \"2017-10-29T00:00:00\", \"count\": 6}, {\"date\": \"2017-09-21T00:00:00\", \"count\": 6}, {\"date\": \"2018-06-10T00:00:00\", \"count\": 6}, {\"date\": \"2018-10-14T00:00:00\", \"count\": 6}, {\"date\": \"2017-12-01T00:00:00\", \"count\": 6}, {\"date\": \"2019-01-08T00:00:00\", \"count\": 6}, {\"date\": \"2018-05-14T00:00:00\", \"count\": 6}, {\"date\": \"2017-12-03T00:00:00\", \"count\": 6}, {\"date\": \"2019-01-04T00:00:00\", \"count\": 6}, {\"date\": \"2018-04-04T00:00:00\", \"count\": 6}, {\"date\": \"2018-04-29T00:00:00\", \"count\": 6}, {\"date\": \"2018-04-06T00:00:00\", \"count\": 6}, {\"date\": \"2019-01-28T00:00:00\", \"count\": 6}, {\"date\": \"2018-05-03T00:00:00\", \"count\": 6}, {\"date\": \"2017-08-30T00:00:00\", \"count\": 6}, {\"date\": \"2020-06-26T00:00:00\", \"count\": 6}, {\"date\": \"2017-11-24T00:00:00\", \"count\": 6}, {\"date\": \"2017-11-04T00:00:00\", \"count\": 6}, {\"date\": \"2018-11-17T00:00:00\", \"count\": 6}, {\"date\": \"2017-11-19T00:00:00\", \"count\": 6}, {\"date\": \"2017-04-12T00:00:00\", \"count\": 6}, {\"date\": \"2018-08-19T00:00:00\", \"count\": 6}, {\"date\": \"2017-02-02T00:00:00\", \"count\": 6}, {\"date\": \"2019-12-09T00:00:00\", \"count\": 6}, {\"date\": \"2018-06-11T00:00:00\", \"count\": 6}, {\"date\": \"2017-09-13T00:00:00\", \"count\": 6}, {\"date\": \"2018-08-09T00:00:00\", \"count\": 6}, {\"date\": \"2017-12-12T00:00:00\", \"count\": 6}, {\"date\": \"2018-04-13T00:00:00\", \"count\": 6}, {\"date\": \"2017-10-03T00:00:00\", \"count\": 6}, {\"date\": \"2019-03-06T00:00:00\", \"count\": 6}, {\"date\": \"2019-10-27T00:00:00\", \"count\": 6}, {\"date\": \"2018-03-23T00:00:00\", \"count\": 6}, {\"date\": \"2018-01-13T00:00:00\", \"count\": 6}, {\"date\": \"2018-01-14T00:00:00\", \"count\": 6}, {\"date\": \"2017-03-06T00:00:00\", \"count\": 6}, {\"date\": \"2017-04-21T00:00:00\", \"count\": 6}, {\"date\": \"2018-02-08T00:00:00\", \"count\": 6}, {\"date\": \"2017-12-30T00:00:00\", \"count\": 6}, {\"date\": \"2017-02-25T00:00:00\", \"count\": 6}, {\"date\": \"2017-07-07T00:00:00\", \"count\": 6}, {\"date\": \"2018-02-05T00:00:00\", \"count\": 6}, {\"date\": \"2017-04-16T00:00:00\", \"count\": 6}, {\"date\": \"2017-07-18T00:00:00\", \"count\": 6}, {\"date\": \"2018-07-12T00:00:00\", \"count\": 6}, {\"date\": \"2019-02-22T00:00:00\", \"count\": 6}, {\"date\": \"2018-02-15T00:00:00\", \"count\": 6}, {\"date\": \"2017-12-14T00:00:00\", \"count\": 6}, {\"date\": \"2017-12-28T00:00:00\", \"count\": 6}, {\"date\": \"2017-06-30T00:00:00\", \"count\": 6}, {\"date\": \"2017-10-05T00:00:00\", \"count\": 6}, {\"date\": \"2018-09-07T00:00:00\", \"count\": 6}, {\"date\": \"2017-03-28T00:00:00\", \"count\": 6}, {\"date\": \"2017-02-16T00:00:00\", \"count\": 6}, {\"date\": \"2017-06-11T00:00:00\", \"count\": 6}, {\"date\": \"2019-02-05T00:00:00\", \"count\": 6}, {\"date\": \"2018-02-21T00:00:00\", \"count\": 6}, {\"date\": \"2017-12-15T00:00:00\", \"count\": 6}, {\"date\": \"2017-01-31T00:00:00\", \"count\": 5}, {\"date\": \"2020-10-04T00:00:00\", \"count\": 5}, {\"date\": \"2017-10-09T00:00:00\", \"count\": 5}, {\"date\": \"2017-06-12T00:00:00\", \"count\": 5}, {\"date\": \"2017-04-25T00:00:00\", \"count\": 5}, {\"date\": \"2017-01-28T00:00:00\", \"count\": 5}, {\"date\": \"2017-04-11T00:00:00\", \"count\": 5}, {\"date\": \"2017-05-16T00:00:00\", \"count\": 5}, {\"date\": \"2017-04-30T00:00:00\", \"count\": 5}, {\"date\": \"2020-07-07T00:00:00\", \"count\": 5}, {\"date\": \"2017-07-11T00:00:00\", \"count\": 5}, {\"date\": \"2017-08-26T00:00:00\", \"count\": 5}, {\"date\": \"2017-09-17T00:00:00\", \"count\": 5}, {\"date\": \"2017-02-24T00:00:00\", \"count\": 5}, {\"date\": \"2020-04-01T00:00:00\", \"count\": 5}, {\"date\": \"2018-09-29T00:00:00\", \"count\": 5}, {\"date\": \"2017-03-02T00:00:00\", \"count\": 5}, {\"date\": \"2017-07-08T00:00:00\", \"count\": 5}, {\"date\": \"2017-07-23T00:00:00\", \"count\": 5}, {\"date\": \"2017-07-06T00:00:00\", \"count\": 5}, {\"date\": \"2017-03-08T00:00:00\", \"count\": 5}, {\"date\": \"2017-03-13T00:00:00\", \"count\": 5}, {\"date\": \"2017-08-02T00:00:00\", \"count\": 5}, {\"date\": \"2020-08-09T00:00:00\", \"count\": 5}, {\"date\": \"2017-08-08T00:00:00\", \"count\": 5}, {\"date\": \"2020-03-08T00:00:00\", \"count\": 5}, {\"date\": \"2017-08-11T00:00:00\", \"count\": 5}, {\"date\": \"2017-04-22T00:00:00\", \"count\": 5}, {\"date\": \"2017-06-23T00:00:00\", \"count\": 5}, {\"date\": \"2018-10-21T00:00:00\", \"count\": 5}, {\"date\": \"2017-02-20T00:00:00\", \"count\": 5}, {\"date\": \"2017-03-29T00:00:00\", \"count\": 5}, {\"date\": \"2017-02-13T00:00:00\", \"count\": 5}, {\"date\": \"2017-08-21T00:00:00\", \"count\": 5}, {\"date\": \"2017-06-27T00:00:00\", \"count\": 5}, {\"date\": \"2020-07-19T00:00:00\", \"count\": 5}, {\"date\": \"2017-05-02T00:00:00\", \"count\": 5}, {\"date\": \"2017-05-11T00:00:00\", \"count\": 5}, {\"date\": \"2017-04-08T00:00:00\", \"count\": 5}, {\"date\": \"2017-02-05T00:00:00\", \"count\": 5}, {\"date\": \"2017-09-03T00:00:00\", \"count\": 5}, {\"date\": \"2017-06-24T00:00:00\", \"count\": 5}, {\"date\": \"2017-05-18T00:00:00\", \"count\": 5}, {\"date\": \"2017-11-27T00:00:00\", \"count\": 5}, {\"date\": \"2018-05-10T00:00:00\", \"count\": 5}, {\"date\": \"2018-05-08T00:00:00\", \"count\": 5}, {\"date\": \"2018-03-22T00:00:00\", \"count\": 5}, {\"date\": \"2018-11-19T00:00:00\", \"count\": 5}, {\"date\": \"2018-05-13T00:00:00\", \"count\": 5}, {\"date\": \"2018-05-22T00:00:00\", \"count\": 5}, {\"date\": \"2017-11-25T00:00:00\", \"count\": 5}, {\"date\": \"2018-07-07T00:00:00\", \"count\": 5}, {\"date\": \"2018-01-27T00:00:00\", \"count\": 5}, {\"date\": \"2018-03-15T00:00:00\", \"count\": 5}, {\"date\": \"2018-05-27T00:00:00\", \"count\": 5}, {\"date\": \"2018-03-11T00:00:00\", \"count\": 5}, {\"date\": \"2018-06-01T00:00:00\", \"count\": 5}, {\"date\": \"2018-03-09T00:00:00\", \"count\": 5}, {\"date\": \"2019-08-04T00:00:00\", \"count\": 5}, {\"date\": \"2018-06-03T00:00:00\", \"count\": 5}, {\"date\": \"2018-03-07T00:00:00\", \"count\": 5}, {\"date\": \"2019-03-11T00:00:00\", \"count\": 5}, {\"date\": \"2018-03-05T00:00:00\", \"count\": 5}, {\"date\": \"2018-11-18T00:00:00\", \"count\": 5}, {\"date\": \"2017-12-24T00:00:00\", \"count\": 5}, {\"date\": \"2018-02-19T00:00:00\", \"count\": 5}, {\"date\": \"2017-12-19T00:00:00\", \"count\": 5}, {\"date\": \"2017-12-20T00:00:00\", \"count\": 5}, {\"date\": \"2017-12-21T00:00:00\", \"count\": 5}, {\"date\": \"2017-11-17T00:00:00\", \"count\": 5}, {\"date\": \"2017-12-23T00:00:00\", \"count\": 5}, {\"date\": \"2018-08-08T00:00:00\", \"count\": 5}, {\"date\": \"2018-02-03T00:00:00\", \"count\": 5}, {\"date\": \"2020-01-02T00:00:00\", \"count\": 5}, {\"date\": \"2018-11-11T00:00:00\", \"count\": 5}, {\"date\": \"2018-12-15T00:00:00\", \"count\": 5}, {\"date\": \"2018-12-17T00:00:00\", \"count\": 5}, {\"date\": \"2019-06-23T00:00:00\", \"count\": 5}, {\"date\": \"2019-06-20T00:00:00\", \"count\": 5}, {\"date\": \"2018-12-28T00:00:00\", \"count\": 5}, {\"date\": \"2018-02-02T00:00:00\", \"count\": 5}, {\"date\": \"2017-11-09T00:00:00\", \"count\": 5}, {\"date\": \"2017-11-08T00:00:00\", \"count\": 5}, {\"date\": \"2018-11-14T00:00:00\", \"count\": 5}, {\"date\": \"2018-02-07T00:00:00\", \"count\": 5}, {\"date\": \"2019-11-27T00:00:00\", \"count\": 5}, {\"date\": \"2019-01-02T00:00:00\", \"count\": 5}, {\"date\": \"2017-11-14T00:00:00\", \"count\": 5}, {\"date\": \"2017-07-02T00:00:00\", \"count\": 4}, {\"date\": \"2017-04-02T00:00:00\", \"count\": 4}, {\"date\": \"2018-02-01T00:00:00\", \"count\": 4}, {\"date\": \"2018-02-14T00:00:00\", \"count\": 4}, {\"date\": \"2018-06-16T00:00:00\", \"count\": 4}, {\"date\": \"2017-07-10T00:00:00\", \"count\": 4}, {\"date\": \"2017-07-13T00:00:00\", \"count\": 4}, {\"date\": \"2017-07-05T00:00:00\", \"count\": 4}, {\"date\": \"2017-07-04T00:00:00\", \"count\": 4}, {\"date\": \"2018-02-11T00:00:00\", \"count\": 4}, {\"date\": \"2019-04-03T00:00:00\", \"count\": 4}, {\"date\": \"2018-11-23T00:00:00\", \"count\": 4}, {\"date\": \"2018-12-10T00:00:00\", \"count\": 4}, {\"date\": \"2018-03-16T00:00:00\", \"count\": 4}, {\"date\": \"2018-02-16T00:00:00\", \"count\": 4}, {\"date\": \"2017-05-29T00:00:00\", \"count\": 4}, {\"date\": \"2019-06-28T00:00:00\", \"count\": 4}, {\"date\": \"2017-05-07T00:00:00\", \"count\": 4}, {\"date\": \"2018-03-29T00:00:00\", \"count\": 4}, {\"date\": \"2017-04-28T00:00:00\", \"count\": 4}, {\"date\": \"2017-05-23T00:00:00\", \"count\": 4}, {\"date\": \"2018-04-23T00:00:00\", \"count\": 4}, {\"date\": \"2017-05-26T00:00:00\", \"count\": 4}, {\"date\": \"2017-05-30T00:00:00\", \"count\": 4}, {\"date\": \"2018-03-03T00:00:00\", \"count\": 4}, {\"date\": \"2018-03-26T00:00:00\", \"count\": 4}, {\"date\": \"2017-06-01T00:00:00\", \"count\": 4}, {\"date\": \"2018-05-11T00:00:00\", \"count\": 4}, {\"date\": \"2017-04-19T00:00:00\", \"count\": 4}, {\"date\": \"2018-05-19T00:00:00\", \"count\": 4}, {\"date\": \"2018-03-17T00:00:00\", \"count\": 4}, {\"date\": \"2017-06-18T00:00:00\", \"count\": 4}, {\"date\": \"2018-07-01T00:00:00\", \"count\": 4}, {\"date\": \"2018-01-24T00:00:00\", \"count\": 4}, {\"date\": \"2017-03-27T00:00:00\", \"count\": 4}, {\"date\": \"2020-08-21T00:00:00\", \"count\": 4}, {\"date\": \"2017-02-26T00:00:00\", \"count\": 4}, {\"date\": \"2017-12-06T00:00:00\", \"count\": 4}, {\"date\": \"2017-12-04T00:00:00\", \"count\": 4}, {\"date\": \"2018-12-09T00:00:00\", \"count\": 4}, {\"date\": \"2017-11-26T00:00:00\", \"count\": 4}, {\"date\": \"2017-02-14T00:00:00\", \"count\": 4}, {\"date\": \"2019-02-02T00:00:00\", \"count\": 4}, {\"date\": \"2017-09-05T00:00:00\", \"count\": 4}, {\"date\": \"2017-02-07T00:00:00\", \"count\": 4}, {\"date\": \"2017-09-09T00:00:00\", \"count\": 4}, {\"date\": \"2017-09-12T00:00:00\", \"count\": 4}, {\"date\": \"2018-08-12T00:00:00\", \"count\": 4}, {\"date\": \"2019-12-01T00:00:00\", \"count\": 4}, {\"date\": \"2019-12-03T00:00:00\", \"count\": 4}, {\"date\": \"2017-11-12T00:00:00\", \"count\": 4}, {\"date\": \"2017-11-05T00:00:00\", \"count\": 4}, {\"date\": \"2017-10-30T00:00:00\", \"count\": 4}, {\"date\": \"2019-12-21T00:00:00\", \"count\": 4}, {\"date\": \"2018-08-26T00:00:00\", \"count\": 4}, {\"date\": \"2017-10-23T00:00:00\", \"count\": 4}, {\"date\": \"2017-01-22T00:00:00\", \"count\": 4}, {\"date\": \"2017-12-13T00:00:00\", \"count\": 4}, {\"date\": \"2018-04-05T00:00:00\", \"count\": 4}, {\"date\": \"2018-07-08T00:00:00\", \"count\": 4}, {\"date\": \"2017-12-27T00:00:00\", \"count\": 4}, {\"date\": \"2017-03-25T00:00:00\", \"count\": 4}, {\"date\": \"2017-03-24T00:00:00\", \"count\": 4}, {\"date\": \"2018-04-01T00:00:00\", \"count\": 4}, {\"date\": \"2018-01-22T00:00:00\", \"count\": 4}, {\"date\": \"2017-03-23T00:00:00\", \"count\": 4}, {\"date\": \"2018-01-09T00:00:00\", \"count\": 4}, {\"date\": \"2019-03-30T00:00:00\", \"count\": 4}, {\"date\": \"2017-03-17T00:00:00\", \"count\": 4}, {\"date\": \"2017-03-16T00:00:00\", \"count\": 4}, {\"date\": \"2017-12-29T00:00:00\", \"count\": 4}, {\"date\": \"2018-07-04T00:00:00\", \"count\": 4}, {\"date\": \"2017-08-15T00:00:00\", \"count\": 4}, {\"date\": \"2017-08-10T00:00:00\", \"count\": 4}, {\"date\": \"2017-08-09T00:00:00\", \"count\": 4}, {\"date\": \"2017-02-18T00:00:00\", \"count\": 3}, {\"date\": \"2017-03-09T00:00:00\", \"count\": 3}, {\"date\": \"2017-05-09T00:00:00\", \"count\": 3}, {\"date\": \"2018-12-12T00:00:00\", \"count\": 3}, {\"date\": \"2018-04-09T00:00:00\", \"count\": 3}, {\"date\": \"2020-10-03T00:00:00\", \"count\": 3}, {\"date\": \"2017-02-27T00:00:00\", \"count\": 3}, {\"date\": \"2017-05-01T00:00:00\", \"count\": 3}, {\"date\": \"2019-03-07T00:00:00\", \"count\": 3}, {\"date\": \"2018-06-29T00:00:00\", \"count\": 3}, {\"date\": \"2018-10-11T00:00:00\", \"count\": 3}, {\"date\": \"2017-03-21T00:00:00\", \"count\": 3}, {\"date\": \"2017-02-01T00:00:00\", \"count\": 3}, {\"date\": \"2017-03-05T00:00:00\", \"count\": 3}, {\"date\": \"2017-04-04T00:00:00\", \"count\": 3}, {\"date\": \"2018-12-30T00:00:00\", \"count\": 3}, {\"date\": \"2017-04-13T00:00:00\", \"count\": 3}, {\"date\": \"2019-03-31T00:00:00\", \"count\": 3}, {\"date\": \"2020-07-20T00:00:00\", \"count\": 3}, {\"date\": \"2019-01-25T00:00:00\", \"count\": 3}, {\"date\": \"2017-04-09T00:00:00\", \"count\": 3}, {\"date\": \"2017-04-20T00:00:00\", \"count\": 3}, {\"date\": \"2019-03-24T00:00:00\", \"count\": 3}, {\"date\": \"2017-02-10T00:00:00\", \"count\": 3}, {\"date\": \"2018-05-12T00:00:00\", \"count\": 3}, {\"date\": \"2018-12-01T00:00:00\", \"count\": 3}, {\"date\": \"2017-02-23T00:00:00\", \"count\": 3}, {\"date\": \"2019-02-03T00:00:00\", \"count\": 3}, {\"date\": \"2019-02-15T00:00:00\", \"count\": 3}, {\"date\": \"2017-10-14T00:00:00\", \"count\": 3}, {\"date\": \"2018-03-31T00:00:00\", \"count\": 3}, {\"date\": \"2017-06-14T00:00:00\", \"count\": 3}, {\"date\": \"2017-06-21T00:00:00\", \"count\": 3}, {\"date\": \"2018-09-30T00:00:00\", \"count\": 3}, {\"date\": \"2018-02-12T00:00:00\", \"count\": 3}, {\"date\": \"2018-02-09T00:00:00\", \"count\": 3}, {\"date\": \"2017-07-19T00:00:00\", \"count\": 3}, {\"date\": \"2018-01-25T00:00:00\", \"count\": 3}, {\"date\": \"2017-07-20T00:00:00\", \"count\": 3}, {\"date\": \"2018-01-15T00:00:00\", \"count\": 3}, {\"date\": \"2018-01-01T00:00:00\", \"count\": 3}, {\"date\": \"2017-05-13T00:00:00\", \"count\": 3}, {\"date\": \"2017-07-31T00:00:00\", \"count\": 3}, {\"date\": \"2017-08-01T00:00:00\", \"count\": 3}, {\"date\": \"2017-12-26T00:00:00\", \"count\": 3}, {\"date\": \"2017-08-06T00:00:00\", \"count\": 3}, {\"date\": \"2017-12-17T00:00:00\", \"count\": 3}, {\"date\": \"2017-12-16T00:00:00\", \"count\": 3}, {\"date\": \"2017-12-10T00:00:00\", \"count\": 3}, {\"date\": \"2020-02-16T00:00:00\", \"count\": 3}, {\"date\": \"2018-09-22T00:00:00\", \"count\": 3}, {\"date\": \"2018-10-28T00:00:00\", \"count\": 3}, {\"date\": \"2019-11-28T00:00:00\", \"count\": 3}, {\"date\": \"2017-09-16T00:00:00\", \"count\": 3}, {\"date\": \"2018-09-23T00:00:00\", \"count\": 3}, {\"date\": \"2019-12-22T00:00:00\", \"count\": 3}, {\"date\": \"2019-12-29T00:00:00\", \"count\": 3}, {\"date\": \"2019-12-30T00:00:00\", \"count\": 3}, {\"date\": \"2017-10-22T00:00:00\", \"count\": 3}, {\"date\": \"2018-11-08T00:00:00\", \"count\": 3}, {\"date\": \"2018-10-05T00:00:00\", \"count\": 3}, {\"date\": \"2018-03-19T00:00:00\", \"count\": 3}, {\"date\": \"2017-05-25T00:00:00\", \"count\": 3}, {\"date\": \"2018-03-18T00:00:00\", \"count\": 3}, {\"date\": \"2017-06-04T00:00:00\", \"count\": 3}, {\"date\": \"2017-06-03T00:00:00\", \"count\": 3}, {\"date\": \"2018-07-13T00:00:00\", \"count\": 2}, {\"date\": \"2017-02-21T00:00:00\", \"count\": 2}, {\"date\": \"2017-02-22T00:00:00\", \"count\": 2}, {\"date\": \"2017-08-29T00:00:00\", \"count\": 2}, {\"date\": \"2017-12-05T00:00:00\", \"count\": 2}, {\"date\": \"2017-08-20T00:00:00\", \"count\": 2}, {\"date\": \"2018-04-14T00:00:00\", \"count\": 2}, {\"date\": \"2017-04-29T00:00:00\", \"count\": 2}, {\"date\": \"2017-02-28T00:00:00\", \"count\": 2}, {\"date\": \"2018-04-16T00:00:00\", \"count\": 2}, {\"date\": \"2017-10-15T00:00:00\", \"count\": 2}, {\"date\": \"2017-12-25T00:00:00\", \"count\": 2}, {\"date\": \"2018-07-06T00:00:00\", \"count\": 2}, {\"date\": \"2019-02-06T00:00:00\", \"count\": 2}, {\"date\": \"2017-11-20T00:00:00\", \"count\": 2}, {\"date\": \"2017-11-21T00:00:00\", \"count\": 2}, {\"date\": \"2017-09-04T00:00:00\", \"count\": 2}, {\"date\": \"2018-12-02T00:00:00\", \"count\": 2}, {\"date\": \"2019-01-29T00:00:00\", \"count\": 2}, {\"date\": \"2017-05-21T00:00:00\", \"count\": 2}, {\"date\": \"2017-05-20T00:00:00\", \"count\": 2}, {\"date\": \"2017-09-11T00:00:00\", \"count\": 2}, {\"date\": \"2019-01-16T00:00:00\", \"count\": 2}, {\"date\": \"2017-05-19T00:00:00\", \"count\": 2}, {\"date\": \"2017-05-03T00:00:00\", \"count\": 2}, {\"date\": \"2018-12-25T00:00:00\", \"count\": 2}, {\"date\": \"2018-09-02T00:00:00\", \"count\": 2}, {\"date\": \"2017-05-15T00:00:00\", \"count\": 2}, {\"date\": \"2020-10-02T00:00:00\", \"count\": 2}, {\"date\": \"2018-11-24T00:00:00\", \"count\": 2}, {\"date\": \"2017-05-24T00:00:00\", \"count\": 2}, {\"date\": \"2018-01-28T00:00:00\", \"count\": 2}, {\"date\": \"2017-03-18T00:00:00\", \"count\": 2}, {\"date\": \"2018-02-13T00:00:00\", \"count\": 2}, {\"date\": \"2017-04-05T00:00:00\", \"count\": 2}, {\"date\": \"2017-07-17T00:00:00\", \"count\": 2}, {\"date\": \"2017-06-07T00:00:00\", \"count\": 2}, {\"date\": \"2017-03-26T00:00:00\", \"count\": 2}, {\"date\": \"2018-01-21T00:00:00\", \"count\": 2}, {\"date\": \"2018-02-04T00:00:00\", \"count\": 2}, {\"date\": \"2017-03-22T00:00:00\", \"count\": 2}, {\"date\": \"2017-06-25T00:00:00\", \"count\": 2}, {\"date\": \"2018-03-04T00:00:00\", \"count\": 2}, {\"date\": \"2018-11-20T00:00:00\", \"count\": 2}, {\"date\": \"2018-07-02T00:00:00\", \"count\": 2}, {\"date\": \"2017-04-10T00:00:00\", \"count\": 2}, {\"date\": \"2018-04-26T00:00:00\", \"count\": 2}, {\"date\": \"2017-03-14T00:00:00\", \"count\": 2}, {\"date\": \"2018-03-20T00:00:00\", \"count\": 1}, {\"date\": \"2017-06-10T00:00:00\", \"count\": 1}, {\"date\": \"2020-01-08T00:00:00\", \"count\": 1}, {\"date\": \"2017-04-06T00:00:00\", \"count\": 1}, {\"date\": \"2019-11-29T00:00:00\", \"count\": 1}, {\"date\": \"2017-01-21T00:00:00\", \"count\": 1}, {\"date\": \"2017-05-06T00:00:00\", \"count\": 1}, {\"date\": \"2017-10-02T00:00:00\", \"count\": 1}, {\"date\": \"2018-03-30T00:00:00\", \"count\": 1}, {\"date\": \"2020-01-05T00:00:00\", \"count\": 1}, {\"date\": \"2018-12-26T00:00:00\", \"count\": 1}, {\"date\": \"2017-05-14T00:00:00\", \"count\": 1}, {\"date\": \"2017-06-17T00:00:00\", \"count\": 1}, {\"date\": \"2017-01-23T00:00:00\", \"count\": 1}, {\"date\": \"2017-05-17T00:00:00\", \"count\": 1}, {\"date\": \"2017-03-11T00:00:00\", \"count\": 1}, {\"date\": \"2018-09-28T00:00:00\", \"count\": 1}, {\"date\": \"2018-01-30T00:00:00\", \"count\": 1}, {\"date\": \"2018-03-27T00:00:00\", \"count\": 1}, {\"date\": \"2017-07-30T00:00:00\", \"count\": 1}, {\"date\": \"2018-05-05T00:00:00\", \"count\": 1}, {\"date\": \"2017-05-22T00:00:00\", \"count\": 1}, {\"date\": \"2019-04-28T00:00:00\", \"count\": 1}, {\"date\": \"2017-12-11T00:00:00\", \"count\": 1}, {\"date\": \"2017-03-01T00:00:00\", \"count\": 1}, {\"date\": \"2017-03-19T00:00:00\", \"count\": 1}, {\"date\": \"2017-06-02T00:00:00\", \"count\": 1}, {\"date\": \"2018-09-27T00:00:00\", \"count\": 1}, {\"date\": \"2018-03-24T00:00:00\", \"count\": 1}, {\"date\": \"2018-07-28T00:00:00\", \"count\": 1}, {\"date\": \"2017-02-19T00:00:00\", \"count\": 1}, {\"date\": \"2017-08-31T00:00:00\", \"count\": 1}, {\"date\": \"2019-02-04T00:00:00\", \"count\": 1}, {\"date\": \"2018-10-07T00:00:00\", \"count\": 1}, {\"date\": \"2017-03-10T00:00:00\", \"count\": 1}, {\"date\": \"2018-01-29T00:00:00\", \"count\": 1}, {\"date\": \"2017-11-18T00:00:00\", \"count\": 1}, {\"date\": \"2017-04-14T00:00:00\", \"count\": 1}]}}, {\"mode\": \"vega-lite\"});\n",
       "</script>"
      ],
      "text/plain": [
       "alt.LayerChart(...)"
      ]
     },
     "execution_count": 51,
     "metadata": {},
     "output_type": "execute_result"
    }
   ],
   "source": [
    "#bars\n",
    "bars = alt.Chart(trump_no_rt_freq_inauguration, \\\n",
    "                 title = '@realDonaldTrump tweet frequency (without RT) since inauguration').mark_bar(size=2).encode(\n",
    "    x = alt.X('date:T', axis = alt.Axis(grid=False, title = '', tickCount=6, format = (\"%b. %Y\"))),\n",
    "    y = alt.Y('count:Q',\n",
    "        scale=alt.Scale(domain=(0, 150)), axis = alt.Axis(gridColor='#dddddd',offset=6,tickSize=0,domainOpacity=0,tickCount=5, title = 'Daily tweet counts and mean')),\n",
    ")\n",
    "\n",
    "#rule showing mean\n",
    "rule = alt.Chart(trump_no_rt_freq_inauguration).mark_rule(color='red').encode(\n",
    "    y='mean(count):Q'\n",
    ")\n",
    "\n",
    "#rule label -- would like to add \"Average: \" annotation\n",
    "text = rule.mark_text(\n",
    "    align='center',\n",
    "    baseline='middle',\n",
    "    dx=50,\n",
    "    dy=10,\n",
    "    fontWeight='bold',\n",
    ").encode(\n",
    "    text=alt.Text('mean(count):Q', format=\".2\"))\n",
    "\n",
    "#go\n",
    "( bars + rule + text ).properties(height=400,width=800).configure_view(strokeOpacity=0)"
   ]
  },
  {
   "cell_type": "code",
   "execution_count": null,
   "metadata": {},
   "outputs": [],
   "source": []
  },
  {
   "cell_type": "code",
   "execution_count": null,
   "metadata": {},
   "outputs": [],
   "source": []
  },
  {
   "cell_type": "code",
   "execution_count": null,
   "metadata": {},
   "outputs": [],
   "source": []
  },
  {
   "cell_type": "code",
   "execution_count": null,
   "metadata": {},
   "outputs": [],
   "source": []
  },
  {
   "cell_type": "code",
   "execution_count": null,
   "metadata": {},
   "outputs": [],
   "source": []
  },
  {
   "cell_type": "code",
   "execution_count": null,
   "metadata": {},
   "outputs": [],
   "source": []
  },
  {
   "cell_type": "code",
   "execution_count": null,
   "metadata": {},
   "outputs": [],
   "source": []
  }
 ],
 "metadata": {
  "kernelspec": {
   "display_name": "Python 3",
   "language": "python",
   "name": "python3"
  },
  "language_info": {
   "codemirror_mode": {
    "name": "ipython",
    "version": 3
   },
   "file_extension": ".py",
   "mimetype": "text/x-python",
   "name": "python",
   "nbconvert_exporter": "python",
   "pygments_lexer": "ipython3",
   "version": "3.7.4"
  }
 },
 "nbformat": 4,
 "nbformat_minor": 4
}
