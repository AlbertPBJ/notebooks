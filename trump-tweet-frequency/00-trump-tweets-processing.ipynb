{
 "cells": [
  {
   "cell_type": "markdown",
   "metadata": {},
   "source": [
    "## How often does President Trump tweet each day?"
   ]
  },
  {
   "cell_type": "code",
   "execution_count": 1,
   "metadata": {},
   "outputs": [
    {
     "data": {
      "text/plain": [
       "ThemeRegistry.enable('latimes')"
      ]
     },
     "execution_count": 1,
     "metadata": {},
     "output_type": "execute_result"
    }
   ],
   "source": [
    "import altair as alt\n",
    "import pandas as pd\n",
    "import matplotlib as mpl\n",
    "import numpy as np\n",
    "import json\n",
    "import pytz\n",
    "from datetime import datetime\n",
    "import altair_latimes as lat\n",
    "alt.themes.register('latimes', lat.theme)\n",
    "alt.themes.enable('latimes')"
   ]
  },
  {
   "cell_type": "markdown",
   "metadata": {},
   "source": [
    "### Get the latest 1,000 tweets from the thetrumparchive.com API endpoint"
   ]
  },
  {
   "cell_type": "code",
   "execution_count": 2,
   "metadata": {},
   "outputs": [],
   "source": [
    "latest = pd.read_json('https://www.thetrumparchive.com/latest-tweets')"
   ]
  },
  {
   "cell_type": "code",
   "execution_count": 3,
   "metadata": {},
   "outputs": [
    {
     "data": {
      "text/html": [
       "<div>\n",
       "<style scoped>\n",
       "    .dataframe tbody tr th:only-of-type {\n",
       "        vertical-align: middle;\n",
       "    }\n",
       "\n",
       "    .dataframe tbody tr th {\n",
       "        vertical-align: top;\n",
       "    }\n",
       "\n",
       "    .dataframe thead th {\n",
       "        text-align: right;\n",
       "    }\n",
       "</style>\n",
       "<table border=\"1\" class=\"dataframe\">\n",
       "  <thead>\n",
       "    <tr style=\"text-align: right;\">\n",
       "      <th></th>\n",
       "      <th>id</th>\n",
       "      <th>text</th>\n",
       "      <th>isRetweet</th>\n",
       "      <th>isDeleted</th>\n",
       "      <th>device</th>\n",
       "      <th>favorites</th>\n",
       "      <th>retweets</th>\n",
       "      <th>date</th>\n",
       "    </tr>\n",
       "  </thead>\n",
       "  <tbody>\n",
       "    <tr>\n",
       "      <th>354</th>\n",
       "      <td>1324768077939118080</td>\n",
       "      <td>Where are the missing military ballots in Geor...</td>\n",
       "      <td>False</td>\n",
       "      <td>False</td>\n",
       "      <td>Twitter for iPhone</td>\n",
       "      <td>653231</td>\n",
       "      <td>120050</td>\n",
       "      <td>2020-11-06 17:38:17+00:00</td>\n",
       "    </tr>\n",
       "  </tbody>\n",
       "</table>\n",
       "</div>"
      ],
      "text/plain": [
       "                      id                                               text  \\\n",
       "354  1324768077939118080  Where are the missing military ballots in Geor...   \n",
       "\n",
       "     isRetweet  isDeleted              device  favorites  retweets  \\\n",
       "354      False      False  Twitter for iPhone     653231    120050   \n",
       "\n",
       "                         date  \n",
       "354 2020-11-06 17:38:17+00:00  "
      ]
     },
     "execution_count": 3,
     "metadata": {},
     "output_type": "execute_result"
    }
   ],
   "source": [
    "latest[latest['text'].str.contains('missing military ballots')]"
   ]
  },
  {
   "cell_type": "code",
   "execution_count": 4,
   "metadata": {},
   "outputs": [
    {
     "data": {
      "text/html": [
       "<div>\n",
       "<style scoped>\n",
       "    .dataframe tbody tr th:only-of-type {\n",
       "        vertical-align: middle;\n",
       "    }\n",
       "\n",
       "    .dataframe tbody tr th {\n",
       "        vertical-align: top;\n",
       "    }\n",
       "\n",
       "    .dataframe thead th {\n",
       "        text-align: right;\n",
       "    }\n",
       "</style>\n",
       "<table border=\"1\" class=\"dataframe\">\n",
       "  <thead>\n",
       "    <tr style=\"text-align: right;\">\n",
       "      <th></th>\n",
       "      <th>id</th>\n",
       "      <th>text</th>\n",
       "      <th>isRetweet</th>\n",
       "      <th>isDeleted</th>\n",
       "      <th>device</th>\n",
       "      <th>favorites</th>\n",
       "      <th>retweets</th>\n",
       "      <th>date</th>\n",
       "    </tr>\n",
       "  </thead>\n",
       "  <tbody>\n",
       "    <tr>\n",
       "      <th>0</th>\n",
       "      <td>1328382287331856384</td>\n",
       "      <td>Georgia won’t let us look at the all important...</td>\n",
       "      <td>False</td>\n",
       "      <td>False</td>\n",
       "      <td>Twitter for iPhone</td>\n",
       "      <td>115108</td>\n",
       "      <td>27739</td>\n",
       "      <td>2020-11-16 16:59:52+00:00</td>\n",
       "    </tr>\n",
       "    <tr>\n",
       "      <th>1</th>\n",
       "      <td>1328370030678044672</td>\n",
       "      <td>European Countries are sadly getting clobbered...</td>\n",
       "      <td>False</td>\n",
       "      <td>False</td>\n",
       "      <td>Twitter for iPhone</td>\n",
       "      <td>121479</td>\n",
       "      <td>21593</td>\n",
       "      <td>2020-11-16 16:11:09+00:00</td>\n",
       "    </tr>\n",
       "    <tr>\n",
       "      <th>2</th>\n",
       "      <td>1328367970352066560</td>\n",
       "      <td>STOCK MARKET GETTING VERY CLOSE TO 30,000 ON N...</td>\n",
       "      <td>False</td>\n",
       "      <td>False</td>\n",
       "      <td>Twitter for iPhone</td>\n",
       "      <td>128897</td>\n",
       "      <td>20236</td>\n",
       "      <td>2020-11-16 16:02:58+00:00</td>\n",
       "    </tr>\n",
       "    <tr>\n",
       "      <th>3</th>\n",
       "      <td>1328367108871385088</td>\n",
       "      <td>They will PACK THE COURTS. We won’t let that h...</td>\n",
       "      <td>False</td>\n",
       "      <td>False</td>\n",
       "      <td>Twitter for iPhone</td>\n",
       "      <td>153023</td>\n",
       "      <td>23972</td>\n",
       "      <td>2020-11-16 15:59:33+00:00</td>\n",
       "    </tr>\n",
       "    <tr>\n",
       "      <th>4</th>\n",
       "      <td>1328361451497664512</td>\n",
       "      <td>The Radical Left Democrats, working with their...</td>\n",
       "      <td>False</td>\n",
       "      <td>False</td>\n",
       "      <td>Twitter for iPhone</td>\n",
       "      <td>177368</td>\n",
       "      <td>35806</td>\n",
       "      <td>2020-11-16 15:37:04+00:00</td>\n",
       "    </tr>\n",
       "  </tbody>\n",
       "</table>\n",
       "</div>"
      ],
      "text/plain": [
       "                    id                                               text  \\\n",
       "0  1328382287331856384  Georgia won’t let us look at the all important...   \n",
       "1  1328370030678044672  European Countries are sadly getting clobbered...   \n",
       "2  1328367970352066560  STOCK MARKET GETTING VERY CLOSE TO 30,000 ON N...   \n",
       "3  1328367108871385088  They will PACK THE COURTS. We won’t let that h...   \n",
       "4  1328361451497664512  The Radical Left Democrats, working with their...   \n",
       "\n",
       "   isRetweet  isDeleted              device  favorites  retweets  \\\n",
       "0      False      False  Twitter for iPhone     115108     27739   \n",
       "1      False      False  Twitter for iPhone     121479     21593   \n",
       "2      False      False  Twitter for iPhone     128897     20236   \n",
       "3      False      False  Twitter for iPhone     153023     23972   \n",
       "4      False      False  Twitter for iPhone     177368     35806   \n",
       "\n",
       "                       date  \n",
       "0 2020-11-16 16:59:52+00:00  \n",
       "1 2020-11-16 16:11:09+00:00  \n",
       "2 2020-11-16 16:02:58+00:00  \n",
       "3 2020-11-16 15:59:33+00:00  \n",
       "4 2020-11-16 15:37:04+00:00  "
      ]
     },
     "execution_count": 4,
     "metadata": {},
     "output_type": "execute_result"
    }
   ],
   "source": [
    "latest.sort_values('date', ascending=False).head()"
   ]
  },
  {
   "cell_type": "code",
   "execution_count": 5,
   "metadata": {},
   "outputs": [],
   "source": [
    "#get latest\n",
    "trump_past = pd.read_json('input/tweets_11-06-2020.json')"
   ]
  },
  {
   "cell_type": "markdown",
   "metadata": {},
   "source": [
    "### Combine the latest 1,000 with past archive"
   ]
  },
  {
   "cell_type": "code",
   "execution_count": 6,
   "metadata": {},
   "outputs": [],
   "source": [
    "src = pd.concat([latest, trump_past])"
   ]
  },
  {
   "cell_type": "code",
   "execution_count": 7,
   "metadata": {},
   "outputs": [],
   "source": [
    "src = src.drop_duplicates(subset='text')"
   ]
  },
  {
   "cell_type": "markdown",
   "metadata": {},
   "source": [
    "### Clean up dates"
   ]
  },
  {
   "cell_type": "code",
   "execution_count": 8,
   "metadata": {},
   "outputs": [
    {
     "data": {
      "text/html": [
       "<div>\n",
       "<style scoped>\n",
       "    .dataframe tbody tr th:only-of-type {\n",
       "        vertical-align: middle;\n",
       "    }\n",
       "\n",
       "    .dataframe tbody tr th {\n",
       "        vertical-align: top;\n",
       "    }\n",
       "\n",
       "    .dataframe thead th {\n",
       "        text-align: right;\n",
       "    }\n",
       "</style>\n",
       "<table border=\"1\" class=\"dataframe\">\n",
       "  <thead>\n",
       "    <tr style=\"text-align: right;\">\n",
       "      <th></th>\n",
       "      <th>id</th>\n",
       "      <th>text</th>\n",
       "      <th>isRetweet</th>\n",
       "      <th>isDeleted</th>\n",
       "      <th>device</th>\n",
       "      <th>favorites</th>\n",
       "      <th>retweets</th>\n",
       "      <th>date</th>\n",
       "    </tr>\n",
       "  </thead>\n",
       "  <tbody>\n",
       "    <tr>\n",
       "      <th>0</th>\n",
       "      <td>1328382287331856384</td>\n",
       "      <td>Georgia won’t let us look at the all important...</td>\n",
       "      <td>False</td>\n",
       "      <td>False</td>\n",
       "      <td>Twitter for iPhone</td>\n",
       "      <td>115108</td>\n",
       "      <td>27739</td>\n",
       "      <td>2020-11-16 16:59:52+00:00</td>\n",
       "    </tr>\n",
       "    <tr>\n",
       "      <th>1</th>\n",
       "      <td>1328370030678044672</td>\n",
       "      <td>European Countries are sadly getting clobbered...</td>\n",
       "      <td>False</td>\n",
       "      <td>False</td>\n",
       "      <td>Twitter for iPhone</td>\n",
       "      <td>121479</td>\n",
       "      <td>21593</td>\n",
       "      <td>2020-11-16 16:11:09+00:00</td>\n",
       "    </tr>\n",
       "    <tr>\n",
       "      <th>2</th>\n",
       "      <td>1328367970352066560</td>\n",
       "      <td>STOCK MARKET GETTING VERY CLOSE TO 30,000 ON N...</td>\n",
       "      <td>False</td>\n",
       "      <td>False</td>\n",
       "      <td>Twitter for iPhone</td>\n",
       "      <td>128897</td>\n",
       "      <td>20236</td>\n",
       "      <td>2020-11-16 16:02:58+00:00</td>\n",
       "    </tr>\n",
       "    <tr>\n",
       "      <th>3</th>\n",
       "      <td>1328367108871385088</td>\n",
       "      <td>They will PACK THE COURTS. We won’t let that h...</td>\n",
       "      <td>False</td>\n",
       "      <td>False</td>\n",
       "      <td>Twitter for iPhone</td>\n",
       "      <td>153023</td>\n",
       "      <td>23972</td>\n",
       "      <td>2020-11-16 15:59:33+00:00</td>\n",
       "    </tr>\n",
       "    <tr>\n",
       "      <th>4</th>\n",
       "      <td>1328361451497664512</td>\n",
       "      <td>The Radical Left Democrats, working with their...</td>\n",
       "      <td>False</td>\n",
       "      <td>False</td>\n",
       "      <td>Twitter for iPhone</td>\n",
       "      <td>177368</td>\n",
       "      <td>35806</td>\n",
       "      <td>2020-11-16 15:37:04+00:00</td>\n",
       "    </tr>\n",
       "  </tbody>\n",
       "</table>\n",
       "</div>"
      ],
      "text/plain": [
       "                    id                                               text  \\\n",
       "0  1328382287331856384  Georgia won’t let us look at the all important...   \n",
       "1  1328370030678044672  European Countries are sadly getting clobbered...   \n",
       "2  1328367970352066560  STOCK MARKET GETTING VERY CLOSE TO 30,000 ON N...   \n",
       "3  1328367108871385088  They will PACK THE COURTS. We won’t let that h...   \n",
       "4  1328361451497664512  The Radical Left Democrats, working with their...   \n",
       "\n",
       "  isRetweet isDeleted              device  favorites  retweets  \\\n",
       "0     False     False  Twitter for iPhone     115108     27739   \n",
       "1     False     False  Twitter for iPhone     121479     21593   \n",
       "2     False     False  Twitter for iPhone     128897     20236   \n",
       "3     False     False  Twitter for iPhone     153023     23972   \n",
       "4     False     False  Twitter for iPhone     177368     35806   \n",
       "\n",
       "                        date  \n",
       "0  2020-11-16 16:59:52+00:00  \n",
       "1  2020-11-16 16:11:09+00:00  \n",
       "2  2020-11-16 16:02:58+00:00  \n",
       "3  2020-11-16 15:59:33+00:00  \n",
       "4  2020-11-16 15:37:04+00:00  "
      ]
     },
     "execution_count": 8,
     "metadata": {},
     "output_type": "execute_result"
    }
   ],
   "source": [
    "src.head()"
   ]
  },
  {
   "cell_type": "code",
   "execution_count": 9,
   "metadata": {},
   "outputs": [],
   "source": [
    "src['eastern_created_at'] = pd.to_datetime(src['date'], utc=True)"
   ]
  },
  {
   "cell_type": "code",
   "execution_count": 10,
   "metadata": {},
   "outputs": [],
   "source": [
    "src['eastern_created_at'] = pd.to_datetime(src['date'], utc=True).dt.tz_convert('America/Los_Angeles')"
   ]
  },
  {
   "cell_type": "code",
   "execution_count": 11,
   "metadata": {},
   "outputs": [],
   "source": [
    "src['date'] = pd.to_datetime(src['eastern_created_at']).dt.strftime('%m/%d/%Y')\n",
    "src['date'] = pd.to_datetime(src['date'])\n",
    "src['year'] = src['eastern_created_at'].dt.year\n",
    "src['month'] = src['eastern_created_at'].dt.month\n",
    "src['day'] = src['eastern_created_at'].dt.day\n",
    "src['hour'] = src['eastern_created_at'].dt.hour\n",
    "src['minute'] = src['eastern_created_at'].dt.minute\n",
    "src['time'] = src['eastern_created_at'].dt.time\n",
    "src['id'] = src['id'].astype(str)\n",
    "src['year'] = src['year'].astype(str)\n",
    "src['month'] = src['month'].astype(str)\n",
    "src['day'] = src['day'].astype(str)\n",
    "src['hour'] = src['hour'].astype(str)"
   ]
  },
  {
   "cell_type": "code",
   "execution_count": 12,
   "metadata": {},
   "outputs": [
    {
     "data": {
      "text/plain": [
       "id                                                 object\n",
       "text                                               object\n",
       "isRetweet                                          object\n",
       "isDeleted                                          object\n",
       "device                                             object\n",
       "favorites                                           int64\n",
       "retweets                                            int64\n",
       "date                                       datetime64[ns]\n",
       "eastern_created_at    datetime64[ns, America/Los_Angeles]\n",
       "year                                               object\n",
       "month                                              object\n",
       "day                                                object\n",
       "hour                                               object\n",
       "minute                                              int64\n",
       "time                                               object\n",
       "dtype: object"
      ]
     },
     "execution_count": 12,
     "metadata": {},
     "output_type": "execute_result"
    }
   ],
   "source": [
    "src.dtypes"
   ]
  },
  {
   "cell_type": "code",
   "execution_count": 13,
   "metadata": {},
   "outputs": [],
   "source": [
    "src.reset_index().to_json('/Users/mhustiles/data/github/notebooks/trump-tweet-frequency/output/realdonaldtrump.json')"
   ]
  },
  {
   "cell_type": "code",
   "execution_count": null,
   "metadata": {},
   "outputs": [],
   "source": []
  }
 ],
 "metadata": {
  "kernelspec": {
   "display_name": "Python 3",
   "language": "python",
   "name": "python3"
  },
  "language_info": {
   "codemirror_mode": {
    "name": "ipython",
    "version": 3
   },
   "file_extension": ".py",
   "mimetype": "text/x-python",
   "name": "python",
   "nbconvert_exporter": "python",
   "pygments_lexer": "ipython3",
   "version": "3.7.4"
  }
 },
 "nbformat": 4,
 "nbformat_minor": 4
}
