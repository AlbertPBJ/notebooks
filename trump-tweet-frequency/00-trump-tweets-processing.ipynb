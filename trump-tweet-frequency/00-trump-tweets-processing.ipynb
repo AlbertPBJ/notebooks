{
 "cells": [
  {
   "cell_type": "markdown",
   "metadata": {},
   "source": [
    "## How often does President Trump tweet each day?"
   ]
  },
  {
   "cell_type": "code",
   "execution_count": 1,
   "metadata": {},
   "outputs": [
    {
     "data": {
      "text/plain": [
       "ThemeRegistry.enable('latimes')"
      ]
     },
     "execution_count": 1,
     "metadata": {},
     "output_type": "execute_result"
    }
   ],
   "source": [
    "import altair as alt\n",
    "import pandas as pd\n",
    "import matplotlib as mpl\n",
    "import numpy as np\n",
    "import json\n",
    "import pytz\n",
    "from datetime import datetime\n",
    "import altair_latimes as lat\n",
    "alt.renderers.enable('notebook')\n",
    "alt.themes.register('latimes', lat.theme)\n",
    "alt.themes.enable('latimes')"
   ]
  },
  {
   "cell_type": "markdown",
   "metadata": {},
   "source": [
    "### Dump from trumptweetarchive.com"
   ]
  },
  {
   "cell_type": "code",
   "execution_count": 2,
   "metadata": {},
   "outputs": [],
   "source": [
    "trump2019 = pd.read_json('http://www.trumptwitterarchive.com/data/realdonaldtrump/2019.json')\n",
    "trump2018 = pd.read_json('http://www.trumptwitterarchive.com/data/realdonaldtrump/2018.json')\n",
    "trump2017 = pd.read_json('http://www.trumptwitterarchive.com/data/realdonaldtrump/2017.json')\n",
    "trump2016 = pd.read_json('http://www.trumptwitterarchive.com/data/realdonaldtrump/2016.json')\n",
    "trump2015 = pd.read_json('http://www.trumptwitterarchive.com/data/realdonaldtrump/2015.json')\n",
    "trump2014 = pd.read_json('http://www.trumptwitterarchive.com/data/realdonaldtrump/2014.json')\n",
    "trump2013 = pd.read_json('http://www.trumptwitterarchive.com/data/realdonaldtrump/2013.json')\n",
    "trump2012 = pd.read_json('http://www.trumptwitterarchive.com/data/realdonaldtrump/2012.json')\n",
    "trump2011 = pd.read_json('http://www.trumptwitterarchive.com/data/realdonaldtrump/2011.json')\n",
    "trump2010 = pd.read_json('http://www.trumptwitterarchive.com/data/realdonaldtrump/2010.json')\n",
    "trump2009 = pd.read_json('http://www.trumptwitterarchive.com/data/realdonaldtrump/2009.json')"
   ]
  },
  {
   "cell_type": "code",
   "execution_count": 3,
   "metadata": {},
   "outputs": [],
   "source": [
    "src = pd.concat([trump2019, trump2018, trump2017, trump2016, \\\n",
    "trump2015, trump2014, trump2013, trump2012, trump2011, trump2010, trump2009])"
   ]
  },
  {
   "cell_type": "markdown",
   "metadata": {},
   "source": [
    "### Clean up dates"
   ]
  },
  {
   "cell_type": "code",
   "execution_count": 4,
   "metadata": {},
   "outputs": [
    {
     "data": {
      "text/html": [
       "<div>\n",
       "<style scoped>\n",
       "    .dataframe tbody tr th:only-of-type {\n",
       "        vertical-align: middle;\n",
       "    }\n",
       "\n",
       "    .dataframe tbody tr th {\n",
       "        vertical-align: top;\n",
       "    }\n",
       "\n",
       "    .dataframe thead th {\n",
       "        text-align: right;\n",
       "    }\n",
       "</style>\n",
       "<table border=\"1\" class=\"dataframe\">\n",
       "  <thead>\n",
       "    <tr style=\"text-align: right;\">\n",
       "      <th></th>\n",
       "      <th>created_at</th>\n",
       "      <th>favorite_count</th>\n",
       "      <th>id_str</th>\n",
       "      <th>in_reply_to_user_id_str</th>\n",
       "      <th>is_retweet</th>\n",
       "      <th>retweet_count</th>\n",
       "      <th>source</th>\n",
       "      <th>text</th>\n",
       "    </tr>\n",
       "  </thead>\n",
       "  <tbody>\n",
       "    <tr>\n",
       "      <th>0</th>\n",
       "      <td>2019-12-13 04:18:42</td>\n",
       "      <td>13774</td>\n",
       "      <td>1205341246937600000</td>\n",
       "      <td>NaN</td>\n",
       "      <td>False</td>\n",
       "      <td>4925</td>\n",
       "      <td>Twitter for iPhone</td>\n",
       "      <td>“Last night House Judiciary Chairman Jerry Nad...</td>\n",
       "    </tr>\n",
       "    <tr>\n",
       "      <th>1</th>\n",
       "      <td>2019-12-13 04:09:11</td>\n",
       "      <td>0</td>\n",
       "      <td>1205338851797024768</td>\n",
       "      <td>NaN</td>\n",
       "      <td>True</td>\n",
       "      <td>4562</td>\n",
       "      <td>Twitter for iPhone</td>\n",
       "      <td>RT @WhiteHouse: \"We have a historic chance to ...</td>\n",
       "    </tr>\n",
       "    <tr>\n",
       "      <th>2</th>\n",
       "      <td>2019-12-13 04:08:18</td>\n",
       "      <td>0</td>\n",
       "      <td>1205338632573333504</td>\n",
       "      <td>NaN</td>\n",
       "      <td>True</td>\n",
       "      <td>3514</td>\n",
       "      <td>Twitter for iPhone</td>\n",
       "      <td>RT @TeamTrump: The polling is looking really b...</td>\n",
       "    </tr>\n",
       "    <tr>\n",
       "      <th>3</th>\n",
       "      <td>2019-12-13 04:06:48</td>\n",
       "      <td>33852</td>\n",
       "      <td>1205338255832555520</td>\n",
       "      <td>NaN</td>\n",
       "      <td>False</td>\n",
       "      <td>7353</td>\n",
       "      <td>Twitter for iPhone</td>\n",
       "      <td>Looking like a big win for Boris in the U.K.!</td>\n",
       "    </tr>\n",
       "    <tr>\n",
       "      <th>4</th>\n",
       "      <td>2019-12-13 03:53:47</td>\n",
       "      <td>35587</td>\n",
       "      <td>1205334980055961600</td>\n",
       "      <td>NaN</td>\n",
       "      <td>False</td>\n",
       "      <td>11466</td>\n",
       "      <td>Twitter for iPhone</td>\n",
       "      <td>Nancy Pelosi just got duped in an interview to...</td>\n",
       "    </tr>\n",
       "  </tbody>\n",
       "</table>\n",
       "</div>"
      ],
      "text/plain": [
       "           created_at  favorite_count               id_str  \\\n",
       "0 2019-12-13 04:18:42           13774  1205341246937600000   \n",
       "1 2019-12-13 04:09:11               0  1205338851797024768   \n",
       "2 2019-12-13 04:08:18               0  1205338632573333504   \n",
       "3 2019-12-13 04:06:48           33852  1205338255832555520   \n",
       "4 2019-12-13 03:53:47           35587  1205334980055961600   \n",
       "\n",
       "   in_reply_to_user_id_str  is_retweet  retweet_count              source  \\\n",
       "0                      NaN       False           4925  Twitter for iPhone   \n",
       "1                      NaN        True           4562  Twitter for iPhone   \n",
       "2                      NaN        True           3514  Twitter for iPhone   \n",
       "3                      NaN       False           7353  Twitter for iPhone   \n",
       "4                      NaN       False          11466  Twitter for iPhone   \n",
       "\n",
       "                                                text  \n",
       "0  “Last night House Judiciary Chairman Jerry Nad...  \n",
       "1  RT @WhiteHouse: \"We have a historic chance to ...  \n",
       "2  RT @TeamTrump: The polling is looking really b...  \n",
       "3      Looking like a big win for Boris in the U.K.!  \n",
       "4  Nancy Pelosi just got duped in an interview to...  "
      ]
     },
     "execution_count": 4,
     "metadata": {},
     "output_type": "execute_result"
    }
   ],
   "source": [
    "src.head()"
   ]
  },
  {
   "cell_type": "code",
   "execution_count": 5,
   "metadata": {},
   "outputs": [],
   "source": [
    "src['eastern_created_at'] = src['created_at'].dt.time\n",
    "src['eastern_created_at'] = src['created_at'].dt.tz_localize(\"GMT\").dt.tz_convert('America/Los_Angeles')\n",
    "src['date'] = pd.to_datetime(src['eastern_created_at']).dt.strftime('%m/%d/%Y')\n",
    "src['date'] = pd.to_datetime(src['date'])\n",
    "src['year'] = src['eastern_created_at'].dt.year\n",
    "src['month'] = src['eastern_created_at'].dt.month\n",
    "src['day'] = src['eastern_created_at'].dt.day\n",
    "src['hour'] = src['eastern_created_at'].dt.hour\n",
    "src['minute'] = src['eastern_created_at'].dt.minute\n",
    "src['time'] = src['eastern_created_at'].dt.time\n",
    "src['id_str'] = src['id_str'].astype(str)\n",
    "src['year'] = src['year'].astype(str)\n",
    "src['month'] = src['month'].astype(str)\n",
    "src['day'] = src['day'].astype(str)\n",
    "src['hour'] = src['hour'].astype(str)\n",
    "src['in_reply_to_user_id_str'] = src['in_reply_to_user_id_str'].astype(str)\n",
    "src['in_reply_to_user_id_str'] = src['in_reply_to_user_id_str'].str.replace('.0', '', regex=False)"
   ]
  },
  {
   "cell_type": "code",
   "execution_count": 6,
   "metadata": {},
   "outputs": [
    {
     "data": {
      "text/plain": [
       "created_at                                      datetime64[ns]\n",
       "favorite_count                                           int64\n",
       "id_str                                                  object\n",
       "in_reply_to_user_id_str                                 object\n",
       "is_retweet                                                bool\n",
       "retweet_count                                            int64\n",
       "source                                                  object\n",
       "text                                                    object\n",
       "eastern_created_at         datetime64[ns, America/Los_Angeles]\n",
       "date                                            datetime64[ns]\n",
       "year                                                    object\n",
       "month                                                   object\n",
       "day                                                     object\n",
       "hour                                                    object\n",
       "minute                                                   int64\n",
       "time                                                    object\n",
       "dtype: object"
      ]
     },
     "execution_count": 6,
     "metadata": {},
     "output_type": "execute_result"
    }
   ],
   "source": [
    "src.dtypes"
   ]
  },
  {
   "cell_type": "code",
   "execution_count": 7,
   "metadata": {},
   "outputs": [],
   "source": [
    "src.reset_index().to_json('/Users/mhustiles/data/github/notebooks/trump-tweet-frequency/output/realdonaldtrump.json')"
   ]
  }
 ],
 "metadata": {
  "kernelspec": {
   "display_name": "Python 3",
   "language": "python",
   "name": "python3"
  },
  "language_info": {
   "codemirror_mode": {
    "name": "ipython",
    "version": 3
   },
   "file_extension": ".py",
   "mimetype": "text/x-python",
   "name": "python",
   "nbconvert_exporter": "python",
   "pygments_lexer": "ipython3",
   "version": "3.7.3"
  }
 },
 "nbformat": 4,
 "nbformat_minor": 2
}
