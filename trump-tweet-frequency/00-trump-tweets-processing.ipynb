{
 "cells": [
  {
   "cell_type": "markdown",
   "metadata": {},
   "source": [
    "## How often does President Trump tweet each day?"
   ]
  },
  {
   "cell_type": "code",
   "execution_count": 1,
   "metadata": {},
   "outputs": [
    {
     "data": {
      "text/plain": [
       "ThemeRegistry.enable('latimes')"
      ]
     },
     "execution_count": 1,
     "metadata": {},
     "output_type": "execute_result"
    }
   ],
   "source": [
    "import altair as alt\n",
    "import pandas as pd\n",
    "import matplotlib as mpl\n",
    "import numpy as np\n",
    "import json\n",
    "import pytz\n",
    "from datetime import datetime\n",
    "import altair_latimes as lat\n",
    "alt.renderers.enable('notebook')\n",
    "alt.themes.register('latimes', lat.theme)\n",
    "alt.themes.enable('latimes')"
   ]
  },
  {
   "cell_type": "markdown",
   "metadata": {},
   "source": [
    "### Dump from trumptweetarchive.com"
   ]
  },
  {
   "cell_type": "code",
   "execution_count": 2,
   "metadata": {},
   "outputs": [],
   "source": [
    "trump2019 = pd.read_json('http://www.trumptwitterarchive.com/data/realdonaldtrump/2019.json')\n",
    "trump2018 = pd.read_json('http://www.trumptwitterarchive.com/data/realdonaldtrump/2018.json')\n",
    "trump2017 = pd.read_json('http://www.trumptwitterarchive.com/data/realdonaldtrump/2017.json')\n",
    "trump2016 = pd.read_json('http://www.trumptwitterarchive.com/data/realdonaldtrump/2016.json')\n",
    "trump2015 = pd.read_json('http://www.trumptwitterarchive.com/data/realdonaldtrump/2015.json')\n",
    "trump2014 = pd.read_json('http://www.trumptwitterarchive.com/data/realdonaldtrump/2014.json')\n",
    "trump2013 = pd.read_json('http://www.trumptwitterarchive.com/data/realdonaldtrump/2013.json')\n",
    "trump2012 = pd.read_json('http://www.trumptwitterarchive.com/data/realdonaldtrump/2012.json')\n",
    "trump2011 = pd.read_json('http://www.trumptwitterarchive.com/data/realdonaldtrump/2011.json')\n",
    "trump2010 = pd.read_json('http://www.trumptwitterarchive.com/data/realdonaldtrump/2010.json')\n",
    "trump2009 = pd.read_json('http://www.trumptwitterarchive.com/data/realdonaldtrump/2009.json')"
   ]
  },
  {
   "cell_type": "code",
   "execution_count": 3,
   "metadata": {},
   "outputs": [],
   "source": [
    "src = pd.concat([trump2019, trump2018, trump2017, trump2016, \\\n",
    "trump2015, trump2014, trump2013, trump2012, trump2011, trump2010, trump2009])"
   ]
  },
  {
   "cell_type": "markdown",
   "metadata": {},
   "source": [
    "### Clean up dates"
   ]
  },
  {
   "cell_type": "code",
   "execution_count": 4,
   "metadata": {},
   "outputs": [
    {
     "data": {
      "text/html": [
       "<div>\n",
       "<style scoped>\n",
       "    .dataframe tbody tr th:only-of-type {\n",
       "        vertical-align: middle;\n",
       "    }\n",
       "\n",
       "    .dataframe tbody tr th {\n",
       "        vertical-align: top;\n",
       "    }\n",
       "\n",
       "    .dataframe thead th {\n",
       "        text-align: right;\n",
       "    }\n",
       "</style>\n",
       "<table border=\"1\" class=\"dataframe\">\n",
       "  <thead>\n",
       "    <tr style=\"text-align: right;\">\n",
       "      <th></th>\n",
       "      <th>created_at</th>\n",
       "      <th>favorite_count</th>\n",
       "      <th>id_str</th>\n",
       "      <th>in_reply_to_user_id_str</th>\n",
       "      <th>is_retweet</th>\n",
       "      <th>retweet_count</th>\n",
       "      <th>source</th>\n",
       "      <th>text</th>\n",
       "    </tr>\n",
       "  </thead>\n",
       "  <tbody>\n",
       "    <tr>\n",
       "      <th>0</th>\n",
       "      <td>2019-10-26 14:43:01</td>\n",
       "      <td>53533</td>\n",
       "      <td>1188103745525243904</td>\n",
       "      <td>NaN</td>\n",
       "      <td>False</td>\n",
       "      <td>13580</td>\n",
       "      <td>Twitter for iPhone</td>\n",
       "      <td>Where’s the Whistleblower?</td>\n",
       "    </tr>\n",
       "    <tr>\n",
       "      <th>1</th>\n",
       "      <td>2019-10-26 14:41:18</td>\n",
       "      <td>48198</td>\n",
       "      <td>1188103311653769216</td>\n",
       "      <td>NaN</td>\n",
       "      <td>False</td>\n",
       "      <td>13414</td>\n",
       "      <td>Twitter for iPhone</td>\n",
       "      <td>The Fake Washington Post keeps doing phony sto...</td>\n",
       "    </tr>\n",
       "    <tr>\n",
       "      <th>2</th>\n",
       "      <td>2019-10-26 13:54:33</td>\n",
       "      <td>30971</td>\n",
       "      <td>1188091546513616896</td>\n",
       "      <td>NaN</td>\n",
       "      <td>False</td>\n",
       "      <td>8643</td>\n",
       "      <td>Twitter for iPhone</td>\n",
       "      <td>My Administration is fighting hard to end the ...</td>\n",
       "    </tr>\n",
       "    <tr>\n",
       "      <th>3</th>\n",
       "      <td>2019-10-26 12:18:29</td>\n",
       "      <td>29908</td>\n",
       "      <td>1188067370478309376</td>\n",
       "      <td>25073877.0</td>\n",
       "      <td>False</td>\n",
       "      <td>8268</td>\n",
       "      <td>Twitter for iPhone</td>\n",
       "      <td>....</td>\n",
       "    </tr>\n",
       "    <tr>\n",
       "      <th>4</th>\n",
       "      <td>2019-10-26 12:18:28</td>\n",
       "      <td>45152</td>\n",
       "      <td>1188067369501052928</td>\n",
       "      <td>25073877.0</td>\n",
       "      <td>False</td>\n",
       "      <td>11023</td>\n",
       "      <td>Twitter for iPhone</td>\n",
       "      <td>....greatly help the African American communit...</td>\n",
       "    </tr>\n",
       "  </tbody>\n",
       "</table>\n",
       "</div>"
      ],
      "text/plain": [
       "           created_at  favorite_count               id_str  \\\n",
       "0 2019-10-26 14:43:01           53533  1188103745525243904   \n",
       "1 2019-10-26 14:41:18           48198  1188103311653769216   \n",
       "2 2019-10-26 13:54:33           30971  1188091546513616896   \n",
       "3 2019-10-26 12:18:29           29908  1188067370478309376   \n",
       "4 2019-10-26 12:18:28           45152  1188067369501052928   \n",
       "\n",
       "   in_reply_to_user_id_str  is_retweet  retweet_count              source  \\\n",
       "0                      NaN       False          13580  Twitter for iPhone   \n",
       "1                      NaN       False          13414  Twitter for iPhone   \n",
       "2                      NaN       False           8643  Twitter for iPhone   \n",
       "3               25073877.0       False           8268  Twitter for iPhone   \n",
       "4               25073877.0       False          11023  Twitter for iPhone   \n",
       "\n",
       "                                                text  \n",
       "0                         Where’s the Whistleblower?  \n",
       "1  The Fake Washington Post keeps doing phony sto...  \n",
       "2  My Administration is fighting hard to end the ...  \n",
       "3                                               ....  \n",
       "4  ....greatly help the African American communit...  "
      ]
     },
     "execution_count": 4,
     "metadata": {},
     "output_type": "execute_result"
    }
   ],
   "source": [
    "src.head()"
   ]
  },
  {
   "cell_type": "code",
   "execution_count": 10,
   "metadata": {},
   "outputs": [],
   "source": [
    "src['eastern_created_at'] = src['created_at'].dt.time\n",
    "src['eastern_created_at'] = src['created_at'].dt.tz_localize(\"GMT\").dt.tz_convert('America/Los_Angeles')\n",
    "src['date'] = pd.to_datetime(src['eastern_created_at']).dt.strftime('%m/%d/%Y')\n",
    "src['date'] = pd.to_datetime(src['date'])\n",
    "src['year'] = src['eastern_created_at'].dt.year\n",
    "src['month'] = src['eastern_created_at'].dt.month\n",
    "src['day'] = src['eastern_created_at'].dt.day\n",
    "src['hour'] = src['eastern_created_at'].dt.hour\n",
    "src['minute'] = src['eastern_created_at'].dt.minute\n",
    "src['time'] = src['eastern_created_at'].dt.time\n",
    "src['id_str'] = src['id_str'].astype(str)\n",
    "src['year'] = src['year'].astype(str)\n",
    "src['month'] = src['month'].astype(str)\n",
    "src['day'] = src['day'].astype(str)\n",
    "src['hour'] = src['hour'].astype(str)\n",
    "src['in_reply_to_user_id_str'] = src['in_reply_to_user_id_str'].astype(str)\n",
    "src['in_reply_to_user_id_str'] = src['in_reply_to_user_id_str'].str.replace('.0', '', regex=False)"
   ]
  },
  {
   "cell_type": "code",
   "execution_count": 11,
   "metadata": {},
   "outputs": [
    {
     "data": {
      "text/plain": [
       "created_at                                      datetime64[ns]\n",
       "favorite_count                                           int64\n",
       "id_str                                                  object\n",
       "in_reply_to_user_id_str                                 object\n",
       "is_retweet                                                bool\n",
       "retweet_count                                            int64\n",
       "source                                                  object\n",
       "text                                                    object\n",
       "eastern_created_at         datetime64[ns, America/Los_Angeles]\n",
       "date                                            datetime64[ns]\n",
       "year                                                    object\n",
       "month                                                   object\n",
       "day                                                     object\n",
       "hour                                                    object\n",
       "minute                                                   int64\n",
       "time                                                    object\n",
       "dtype: object"
      ]
     },
     "execution_count": 11,
     "metadata": {},
     "output_type": "execute_result"
    }
   ],
   "source": [
    "src.dtypes"
   ]
  },
  {
   "cell_type": "code",
   "execution_count": 12,
   "metadata": {},
   "outputs": [],
   "source": [
    "src.reset_index().to_json('/Users/mhustiles/data/github/notebooks/trump-tweet-frequency/output/realdonaldtrump.json')"
   ]
  }
 ],
 "metadata": {
  "kernelspec": {
   "display_name": "Python 3",
   "language": "python",
   "name": "python3"
  },
  "language_info": {
   "codemirror_mode": {
    "name": "ipython",
    "version": 3
   },
   "file_extension": ".py",
   "mimetype": "text/x-python",
   "name": "python",
   "nbconvert_exporter": "python",
   "pygments_lexer": "ipython3",
   "version": "3.7.3"
  }
 },
 "nbformat": 4,
 "nbformat_minor": 2
}
