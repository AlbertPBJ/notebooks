{
 "cells": [
  {
   "cell_type": "markdown",
   "metadata": {},
   "source": [
    "## How often does President Trump tweet each day?"
   ]
  },
  {
   "cell_type": "code",
   "execution_count": 1,
   "metadata": {},
   "outputs": [
    {
     "data": {
      "text/plain": [
       "ThemeRegistry.enable('latimes')"
      ]
     },
     "execution_count": 1,
     "metadata": {},
     "output_type": "execute_result"
    }
   ],
   "source": [
    "import altair as alt\n",
    "import pandas as pd\n",
    "import matplotlib as mpl\n",
    "import numpy as np\n",
    "import json\n",
    "import pytz\n",
    "from datetime import datetime\n",
    "import altair_latimes as lat\n",
    "alt.renderers.enable('notebook')\n",
    "alt.themes.register('latimes', lat.theme)\n",
    "alt.themes.enable('latimes')"
   ]
  },
  {
   "cell_type": "markdown",
   "metadata": {},
   "source": [
    "### Dump from trumptweetarchive.com"
   ]
  },
  {
   "cell_type": "code",
   "execution_count": 2,
   "metadata": {},
   "outputs": [],
   "source": [
    "trump2019 = pd.read_json('http://www.trumptwitterarchive.com/data/realdonaldtrump/2019.json')\n",
    "trump2018 = pd.read_json('http://www.trumptwitterarchive.com/data/realdonaldtrump/2018.json')\n",
    "trump2017 = pd.read_json('http://www.trumptwitterarchive.com/data/realdonaldtrump/2017.json')\n",
    "trump2016 = pd.read_json('http://www.trumptwitterarchive.com/data/realdonaldtrump/2016.json')\n",
    "trump2015 = pd.read_json('http://www.trumptwitterarchive.com/data/realdonaldtrump/2015.json')\n",
    "trump2014 = pd.read_json('http://www.trumptwitterarchive.com/data/realdonaldtrump/2014.json')\n",
    "trump2013 = pd.read_json('http://www.trumptwitterarchive.com/data/realdonaldtrump/2013.json')\n",
    "trump2012 = pd.read_json('http://www.trumptwitterarchive.com/data/realdonaldtrump/2012.json')\n",
    "trump2011 = pd.read_json('http://www.trumptwitterarchive.com/data/realdonaldtrump/2011.json')\n",
    "trump2010 = pd.read_json('http://www.trumptwitterarchive.com/data/realdonaldtrump/2010.json')\n",
    "trump2009 = pd.read_json('http://www.trumptwitterarchive.com/data/realdonaldtrump/2009.json')"
   ]
  },
  {
   "cell_type": "code",
   "execution_count": 3,
   "metadata": {},
   "outputs": [],
   "source": [
    "src = pd.concat([trump2019, trump2018, trump2017, trump2016, \\\n",
    "trump2015, trump2014, trump2013, trump2012, trump2011, trump2010, trump2009])"
   ]
  },
  {
   "cell_type": "markdown",
   "metadata": {},
   "source": [
    "### Clean up dates"
   ]
  },
  {
   "cell_type": "code",
   "execution_count": 4,
   "metadata": {},
   "outputs": [
    {
     "data": {
      "text/html": [
       "<div>\n",
       "<style scoped>\n",
       "    .dataframe tbody tr th:only-of-type {\n",
       "        vertical-align: middle;\n",
       "    }\n",
       "\n",
       "    .dataframe tbody tr th {\n",
       "        vertical-align: top;\n",
       "    }\n",
       "\n",
       "    .dataframe thead th {\n",
       "        text-align: right;\n",
       "    }\n",
       "</style>\n",
       "<table border=\"1\" class=\"dataframe\">\n",
       "  <thead>\n",
       "    <tr style=\"text-align: right;\">\n",
       "      <th></th>\n",
       "      <th>created_at</th>\n",
       "      <th>favorite_count</th>\n",
       "      <th>id_str</th>\n",
       "      <th>in_reply_to_user_id_str</th>\n",
       "      <th>is_retweet</th>\n",
       "      <th>retweet_count</th>\n",
       "      <th>source</th>\n",
       "      <th>text</th>\n",
       "    </tr>\n",
       "  </thead>\n",
       "  <tbody>\n",
       "    <tr>\n",
       "      <th>0</th>\n",
       "      <td>2019-11-18 16:06:19</td>\n",
       "      <td>25238</td>\n",
       "      <td>1196459630060359680</td>\n",
       "      <td>NaN</td>\n",
       "      <td>False</td>\n",
       "      <td>7279</td>\n",
       "      <td>Twitter for iPhone</td>\n",
       "      <td>“Congressman Van Drew (D-NJ) SLAMS Democrats f...</td>\n",
       "    </tr>\n",
       "    <tr>\n",
       "      <th>1</th>\n",
       "      <td>2019-11-18 16:01:42</td>\n",
       "      <td>28679</td>\n",
       "      <td>1196458467982270464</td>\n",
       "      <td>NaN</td>\n",
       "      <td>False</td>\n",
       "      <td>7280</td>\n",
       "      <td>Twitter for iPhone</td>\n",
       "      <td>Just finished a very good &amp;amp; cordial meetin...</td>\n",
       "    </tr>\n",
       "    <tr>\n",
       "      <th>2</th>\n",
       "      <td>2019-11-18 15:49:55</td>\n",
       "      <td>8981</td>\n",
       "      <td>1196455500940038144</td>\n",
       "      <td>NaN</td>\n",
       "      <td>False</td>\n",
       "      <td>2523</td>\n",
       "      <td>Twitter for iPhone</td>\n",
       "      <td>Just finished a very good &amp;amp; cordial meetin...</td>\n",
       "    </tr>\n",
       "    <tr>\n",
       "      <th>3</th>\n",
       "      <td>2019-11-18 13:52:24</td>\n",
       "      <td>32199</td>\n",
       "      <td>1196425928768929792</td>\n",
       "      <td>25073877.0</td>\n",
       "      <td>False</td>\n",
       "      <td>8569</td>\n",
       "      <td>Twitter for iPhone</td>\n",
       "      <td>....that I testify about the phony Impeachment...</td>\n",
       "    </tr>\n",
       "    <tr>\n",
       "      <th>4</th>\n",
       "      <td>2019-11-18 13:52:22</td>\n",
       "      <td>40846</td>\n",
       "      <td>1196425921802178560</td>\n",
       "      <td>NaN</td>\n",
       "      <td>False</td>\n",
       "      <td>12013</td>\n",
       "      <td>Twitter for iPhone</td>\n",
       "      <td>Our Crazy, Do Nothing (where’s USMCA, infrastr...</td>\n",
       "    </tr>\n",
       "  </tbody>\n",
       "</table>\n",
       "</div>"
      ],
      "text/plain": [
       "           created_at  favorite_count               id_str  \\\n",
       "0 2019-11-18 16:06:19           25238  1196459630060359680   \n",
       "1 2019-11-18 16:01:42           28679  1196458467982270464   \n",
       "2 2019-11-18 15:49:55            8981  1196455500940038144   \n",
       "3 2019-11-18 13:52:24           32199  1196425928768929792   \n",
       "4 2019-11-18 13:52:22           40846  1196425921802178560   \n",
       "\n",
       "   in_reply_to_user_id_str  is_retweet  retweet_count              source  \\\n",
       "0                      NaN       False           7279  Twitter for iPhone   \n",
       "1                      NaN       False           7280  Twitter for iPhone   \n",
       "2                      NaN       False           2523  Twitter for iPhone   \n",
       "3               25073877.0       False           8569  Twitter for iPhone   \n",
       "4                      NaN       False          12013  Twitter for iPhone   \n",
       "\n",
       "                                                text  \n",
       "0  “Congressman Van Drew (D-NJ) SLAMS Democrats f...  \n",
       "1  Just finished a very good &amp; cordial meetin...  \n",
       "2  Just finished a very good &amp; cordial meetin...  \n",
       "3  ....that I testify about the phony Impeachment...  \n",
       "4  Our Crazy, Do Nothing (where’s USMCA, infrastr...  "
      ]
     },
     "execution_count": 4,
     "metadata": {},
     "output_type": "execute_result"
    }
   ],
   "source": [
    "src.head()"
   ]
  },
  {
   "cell_type": "code",
   "execution_count": 5,
   "metadata": {},
   "outputs": [],
   "source": [
    "src['eastern_created_at'] = src['created_at'].dt.time\n",
    "src['eastern_created_at'] = src['created_at'].dt.tz_localize(\"GMT\").dt.tz_convert('America/Los_Angeles')\n",
    "src['date'] = pd.to_datetime(src['eastern_created_at']).dt.strftime('%m/%d/%Y')\n",
    "src['date'] = pd.to_datetime(src['date'])\n",
    "src['year'] = src['eastern_created_at'].dt.year\n",
    "src['month'] = src['eastern_created_at'].dt.month\n",
    "src['day'] = src['eastern_created_at'].dt.day\n",
    "src['hour'] = src['eastern_created_at'].dt.hour\n",
    "src['minute'] = src['eastern_created_at'].dt.minute\n",
    "src['time'] = src['eastern_created_at'].dt.time\n",
    "src['id_str'] = src['id_str'].astype(str)\n",
    "src['year'] = src['year'].astype(str)\n",
    "src['month'] = src['month'].astype(str)\n",
    "src['day'] = src['day'].astype(str)\n",
    "src['hour'] = src['hour'].astype(str)\n",
    "src['in_reply_to_user_id_str'] = src['in_reply_to_user_id_str'].astype(str)\n",
    "src['in_reply_to_user_id_str'] = src['in_reply_to_user_id_str'].str.replace('.0', '', regex=False)"
   ]
  },
  {
   "cell_type": "code",
   "execution_count": 6,
   "metadata": {},
   "outputs": [
    {
     "data": {
      "text/plain": [
       "created_at                                      datetime64[ns]\n",
       "favorite_count                                           int64\n",
       "id_str                                                  object\n",
       "in_reply_to_user_id_str                                 object\n",
       "is_retweet                                                bool\n",
       "retweet_count                                            int64\n",
       "source                                                  object\n",
       "text                                                    object\n",
       "eastern_created_at         datetime64[ns, America/Los_Angeles]\n",
       "date                                            datetime64[ns]\n",
       "year                                                    object\n",
       "month                                                   object\n",
       "day                                                     object\n",
       "hour                                                    object\n",
       "minute                                                   int64\n",
       "time                                                    object\n",
       "dtype: object"
      ]
     },
     "execution_count": 6,
     "metadata": {},
     "output_type": "execute_result"
    }
   ],
   "source": [
    "src.dtypes"
   ]
  },
  {
   "cell_type": "code",
   "execution_count": 7,
   "metadata": {},
   "outputs": [],
   "source": [
    "src.reset_index().to_json('/Users/mhustiles/data/github/notebooks/trump-tweet-frequency/output/realdonaldtrump.json')"
   ]
  }
 ],
 "metadata": {
  "kernelspec": {
   "display_name": "Python 3",
   "language": "python",
   "name": "python3"
  },
  "language_info": {
   "codemirror_mode": {
    "name": "ipython",
    "version": 3
   },
   "file_extension": ".py",
   "mimetype": "text/x-python",
   "name": "python",
   "nbconvert_exporter": "python",
   "pygments_lexer": "ipython3",
   "version": "3.7.3"
  }
 },
 "nbformat": 4,
 "nbformat_minor": 2
}
