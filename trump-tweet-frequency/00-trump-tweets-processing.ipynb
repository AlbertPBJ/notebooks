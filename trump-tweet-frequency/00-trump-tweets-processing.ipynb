{
 "cells": [
  {
   "cell_type": "markdown",
   "metadata": {},
   "source": [
    "## How often does President Trump tweet each day?"
   ]
  },
  {
   "cell_type": "code",
   "execution_count": 2,
   "metadata": {},
   "outputs": [
    {
     "data": {
      "text/plain": [
       "ThemeRegistry.enable('latimes')"
      ]
     },
     "execution_count": 2,
     "metadata": {},
     "output_type": "execute_result"
    }
   ],
   "source": [
    "import altair as alt\n",
    "import pandas as pd\n",
    "import matplotlib as mpl\n",
    "import numpy as np\n",
    "import json\n",
    "import pytz\n",
    "from datetime import datetime\n",
    "import altair_latimes as lat\n",
    "alt.themes.register('latimes', lat.theme)\n",
    "alt.themes.enable('latimes')"
   ]
  },
  {
   "cell_type": "markdown",
   "metadata": {},
   "source": [
    "### Dump from trumptweetarchive.com"
   ]
  },
  {
   "cell_type": "code",
   "execution_count": 3,
   "metadata": {},
   "outputs": [],
   "source": [
    "#get latest\n",
    "trump2020 = pd.read_json('http://www.trumptwitterarchive.com/data/realdonaldtrump/2020.json')"
   ]
  },
  {
   "cell_type": "code",
   "execution_count": 4,
   "metadata": {},
   "outputs": [],
   "source": [
    "#archive\n",
    "trump2019 = pd.read_json('/Users/mhustiles/data/github/notebooks/trump-tweet-frequency/input/data/2019.json')\n",
    "trump2018 = pd.read_json('/Users/mhustiles/data/github/notebooks/trump-tweet-frequency/input/data/2018.json')\n",
    "trump2017 = pd.read_json('/Users/mhustiles/data/github/notebooks/trump-tweet-frequency/input/data/2017.json')\n",
    "trump2016 = pd.read_json('/Users/mhustiles/data/github/notebooks/trump-tweet-frequency/input/data/2016.json')\n",
    "trump2015 = pd.read_json('/Users/mhustiles/data/github/notebooks/trump-tweet-frequency/input/data/2015.json')\n",
    "trump2014 = pd.read_json('/Users/mhustiles/data/github/notebooks/trump-tweet-frequency/input/data/2014.json')\n",
    "trump2013 = pd.read_json('/Users/mhustiles/data/github/notebooks/trump-tweet-frequency/input/data/2013.json')\n",
    "trump2012 = pd.read_json('/Users/mhustiles/data/github/notebooks/trump-tweet-frequency/input/data/2012.json')\n",
    "trump2011 = pd.read_json('/Users/mhustiles/data/github/notebooks/trump-tweet-frequency/input/data/2011.json')\n",
    "trump2010 = pd.read_json('/Users/mhustiles/data/github/notebooks/trump-tweet-frequency/input/data/2010.json')\n",
    "trump2009 = pd.read_json('/Users/mhustiles/data/github/notebooks/trump-tweet-frequency/input/data/2009.json')"
   ]
  },
  {
   "cell_type": "code",
   "execution_count": 5,
   "metadata": {},
   "outputs": [],
   "source": [
    "src = pd.concat([trump2020, trump2019, trump2018, trump2017, trump2016, \\\n",
    "trump2015, trump2014, trump2013, trump2012, trump2011, trump2010, trump2009])"
   ]
  },
  {
   "cell_type": "markdown",
   "metadata": {},
   "source": [
    "### Clean up dates"
   ]
  },
  {
   "cell_type": "code",
   "execution_count": 6,
   "metadata": {},
   "outputs": [
    {
     "data": {
      "text/html": [
       "<div>\n",
       "<style scoped>\n",
       "    .dataframe tbody tr th:only-of-type {\n",
       "        vertical-align: middle;\n",
       "    }\n",
       "\n",
       "    .dataframe tbody tr th {\n",
       "        vertical-align: top;\n",
       "    }\n",
       "\n",
       "    .dataframe thead th {\n",
       "        text-align: right;\n",
       "    }\n",
       "</style>\n",
       "<table border=\"1\" class=\"dataframe\">\n",
       "  <thead>\n",
       "    <tr style=\"text-align: right;\">\n",
       "      <th></th>\n",
       "      <th>source</th>\n",
       "      <th>id_str</th>\n",
       "      <th>text</th>\n",
       "      <th>created_at</th>\n",
       "      <th>retweet_count</th>\n",
       "      <th>in_reply_to_user_id_str</th>\n",
       "      <th>favorite_count</th>\n",
       "      <th>is_retweet</th>\n",
       "    </tr>\n",
       "  </thead>\n",
       "  <tbody>\n",
       "    <tr>\n",
       "      <th>0</th>\n",
       "      <td>Twitter for iPhone</td>\n",
       "      <td>1313494418314457088</td>\n",
       "      <td>NEW MEXICO! Today is the last day you can regi...</td>\n",
       "      <td>2020-10-06 15:00:47+00:00</td>\n",
       "      <td>1583</td>\n",
       "      <td>NaN</td>\n",
       "      <td>5540</td>\n",
       "      <td>False</td>\n",
       "    </tr>\n",
       "    <tr>\n",
       "      <th>1</th>\n",
       "      <td>Twitter for iPhone</td>\n",
       "      <td>1313489709847531520</td>\n",
       "      <td>I am looking forward to the debate on the even...</td>\n",
       "      <td>2020-10-06 14:42:04+00:00</td>\n",
       "      <td>8037</td>\n",
       "      <td>NaN</td>\n",
       "      <td>43911</td>\n",
       "      <td>False</td>\n",
       "    </tr>\n",
       "    <tr>\n",
       "      <th>2</th>\n",
       "      <td>Twitter for iPhone</td>\n",
       "      <td>1313489465139134464</td>\n",
       "      <td>FEELING GREAT!</td>\n",
       "      <td>2020-10-06 14:41:06+00:00</td>\n",
       "      <td>13266</td>\n",
       "      <td>NaN</td>\n",
       "      <td>77418</td>\n",
       "      <td>False</td>\n",
       "    </tr>\n",
       "    <tr>\n",
       "      <th>3</th>\n",
       "      <td>Twitter for iPhone</td>\n",
       "      <td>1313449844413992960</td>\n",
       "      <td>Flu season is coming up! Many people every yea...</td>\n",
       "      <td>2020-10-06 12:03:40+00:00</td>\n",
       "      <td>45683</td>\n",
       "      <td>NaN</td>\n",
       "      <td>193290</td>\n",
       "      <td>False</td>\n",
       "    </tr>\n",
       "    <tr>\n",
       "      <th>4</th>\n",
       "      <td>Twitter for iPhone</td>\n",
       "      <td>1313445293912920064</td>\n",
       "      <td>Biden and Democrats just clarified the fact th...</td>\n",
       "      <td>2020-10-06 11:45:35+00:00</td>\n",
       "      <td>36290</td>\n",
       "      <td>NaN</td>\n",
       "      <td>123443</td>\n",
       "      <td>False</td>\n",
       "    </tr>\n",
       "  </tbody>\n",
       "</table>\n",
       "</div>"
      ],
      "text/plain": [
       "               source               id_str  \\\n",
       "0  Twitter for iPhone  1313494418314457088   \n",
       "1  Twitter for iPhone  1313489709847531520   \n",
       "2  Twitter for iPhone  1313489465139134464   \n",
       "3  Twitter for iPhone  1313449844413992960   \n",
       "4  Twitter for iPhone  1313445293912920064   \n",
       "\n",
       "                                                text  \\\n",
       "0  NEW MEXICO! Today is the last day you can regi...   \n",
       "1  I am looking forward to the debate on the even...   \n",
       "2                                     FEELING GREAT!   \n",
       "3  Flu season is coming up! Many people every yea...   \n",
       "4  Biden and Democrats just clarified the fact th...   \n",
       "\n",
       "                 created_at  retweet_count  in_reply_to_user_id_str  \\\n",
       "0 2020-10-06 15:00:47+00:00           1583                      NaN   \n",
       "1 2020-10-06 14:42:04+00:00           8037                      NaN   \n",
       "2 2020-10-06 14:41:06+00:00          13266                      NaN   \n",
       "3 2020-10-06 12:03:40+00:00          45683                      NaN   \n",
       "4 2020-10-06 11:45:35+00:00          36290                      NaN   \n",
       "\n",
       "   favorite_count  is_retweet  \n",
       "0            5540       False  \n",
       "1           43911       False  \n",
       "2           77418       False  \n",
       "3          193290       False  \n",
       "4          123443       False  "
      ]
     },
     "execution_count": 6,
     "metadata": {},
     "output_type": "execute_result"
    }
   ],
   "source": [
    "src.head()"
   ]
  },
  {
   "cell_type": "code",
   "execution_count": 7,
   "metadata": {},
   "outputs": [],
   "source": [
    "src['eastern_created_at'] = src['created_at'].dt.time"
   ]
  },
  {
   "cell_type": "code",
   "execution_count": 8,
   "metadata": {},
   "outputs": [],
   "source": [
    "src['eastern_created_at'] = src['created_at'].dt.tz_convert('America/Los_Angeles')"
   ]
  },
  {
   "cell_type": "code",
   "execution_count": 9,
   "metadata": {},
   "outputs": [],
   "source": [
    "src['date'] = pd.to_datetime(src['eastern_created_at']).dt.strftime('%m/%d/%Y')\n",
    "src['date'] = pd.to_datetime(src['date'])\n",
    "src['year'] = src['eastern_created_at'].dt.year\n",
    "src['month'] = src['eastern_created_at'].dt.month\n",
    "src['day'] = src['eastern_created_at'].dt.day\n",
    "src['hour'] = src['eastern_created_at'].dt.hour\n",
    "src['minute'] = src['eastern_created_at'].dt.minute\n",
    "src['time'] = src['eastern_created_at'].dt.time\n",
    "src['id_str'] = src['id_str'].astype(str)\n",
    "src['year'] = src['year'].astype(str)\n",
    "src['month'] = src['month'].astype(str)\n",
    "src['day'] = src['day'].astype(str)\n",
    "src['hour'] = src['hour'].astype(str)\n",
    "src['in_reply_to_user_id_str'] = src['in_reply_to_user_id_str'].astype(str)\n",
    "src['in_reply_to_user_id_str'] = src['in_reply_to_user_id_str'].str.replace('.0', '', regex=False)"
   ]
  },
  {
   "cell_type": "code",
   "execution_count": 10,
   "metadata": {},
   "outputs": [
    {
     "data": {
      "text/plain": [
       "source                                                  object\n",
       "id_str                                                  object\n",
       "text                                                    object\n",
       "created_at                                 datetime64[ns, UTC]\n",
       "retweet_count                                            int64\n",
       "in_reply_to_user_id_str                                 object\n",
       "favorite_count                                           int64\n",
       "is_retweet                                                bool\n",
       "eastern_created_at         datetime64[ns, America/Los_Angeles]\n",
       "date                                            datetime64[ns]\n",
       "year                                                    object\n",
       "month                                                   object\n",
       "day                                                     object\n",
       "hour                                                    object\n",
       "minute                                                   int64\n",
       "time                                                    object\n",
       "dtype: object"
      ]
     },
     "execution_count": 10,
     "metadata": {},
     "output_type": "execute_result"
    }
   ],
   "source": [
    "src.dtypes"
   ]
  },
  {
   "cell_type": "code",
   "execution_count": 11,
   "metadata": {},
   "outputs": [],
   "source": [
    "src.reset_index().to_json('/Users/mhustiles/data/github/notebooks/trump-tweet-frequency/output/realdonaldtrump.json')"
   ]
  }
 ],
 "metadata": {
  "kernelspec": {
   "display_name": "Python 3",
   "language": "python",
   "name": "python3"
  },
  "language_info": {
   "codemirror_mode": {
    "name": "ipython",
    "version": 3
   },
   "file_extension": ".py",
   "mimetype": "text/x-python",
   "name": "python",
   "nbconvert_exporter": "python",
   "pygments_lexer": "ipython3",
   "version": "3.7.4"
  }
 },
 "nbformat": 4,
 "nbformat_minor": 4
}
