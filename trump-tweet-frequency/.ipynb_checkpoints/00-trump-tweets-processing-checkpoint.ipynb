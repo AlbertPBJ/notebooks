{
 "cells": [
  {
   "cell_type": "markdown",
   "metadata": {},
   "source": [
    "## How often does President Trump tweet each day?"
   ]
  },
  {
   "cell_type": "code",
   "execution_count": 1,
   "metadata": {},
   "outputs": [
    {
     "data": {
      "text/plain": [
       "ThemeRegistry.enable('latimes')"
      ]
     },
     "execution_count": 1,
     "metadata": {},
     "output_type": "execute_result"
    }
   ],
   "source": [
    "import altair as alt\n",
    "import pandas as pd\n",
    "import matplotlib as mpl\n",
    "import numpy as np\n",
    "import json\n",
    "import pytz\n",
    "from datetime import datetime\n",
    "import altair_latimes as lat\n",
    "alt.themes.register('latimes', lat.theme)\n",
    "alt.themes.enable('latimes')"
   ]
  },
  {
   "cell_type": "markdown",
   "metadata": {},
   "source": [
    "### Dump from trumptweetarchive.com"
   ]
  },
  {
   "cell_type": "code",
   "execution_count": 2,
   "metadata": {},
   "outputs": [],
   "source": [
    "latest = pd.read_json('https://www.thetrumparchive.com/latest-tweets')"
   ]
  },
  {
   "cell_type": "code",
   "execution_count": 3,
   "metadata": {},
   "outputs": [
    {
     "data": {
      "text/html": [
       "<div>\n",
       "<style scoped>\n",
       "    .dataframe tbody tr th:only-of-type {\n",
       "        vertical-align: middle;\n",
       "    }\n",
       "\n",
       "    .dataframe tbody tr th {\n",
       "        vertical-align: top;\n",
       "    }\n",
       "\n",
       "    .dataframe thead th {\n",
       "        text-align: right;\n",
       "    }\n",
       "</style>\n",
       "<table border=\"1\" class=\"dataframe\">\n",
       "  <thead>\n",
       "    <tr style=\"text-align: right;\">\n",
       "      <th></th>\n",
       "      <th>id</th>\n",
       "      <th>text</th>\n",
       "      <th>isRetweet</th>\n",
       "      <th>isDeleted</th>\n",
       "      <th>device</th>\n",
       "      <th>favorites</th>\n",
       "      <th>retweets</th>\n",
       "      <th>date</th>\n",
       "    </tr>\n",
       "  </thead>\n",
       "  <tbody>\n",
       "    <tr>\n",
       "      <th>0</th>\n",
       "      <td>1328382287331856384</td>\n",
       "      <td>Georgia won’t let us look at the all important...</td>\n",
       "      <td>False</td>\n",
       "      <td>False</td>\n",
       "      <td>Twitter for iPhone</td>\n",
       "      <td>87375</td>\n",
       "      <td>21577</td>\n",
       "      <td>2020-11-16 16:59:52+00:00</td>\n",
       "    </tr>\n",
       "    <tr>\n",
       "      <th>1</th>\n",
       "      <td>1328370030678044672</td>\n",
       "      <td>European Countries are sadly getting clobbered...</td>\n",
       "      <td>False</td>\n",
       "      <td>False</td>\n",
       "      <td>Twitter for iPhone</td>\n",
       "      <td>103140</td>\n",
       "      <td>18563</td>\n",
       "      <td>2020-11-16 16:11:09+00:00</td>\n",
       "    </tr>\n",
       "    <tr>\n",
       "      <th>2</th>\n",
       "      <td>1328367970352066560</td>\n",
       "      <td>STOCK MARKET GETTING VERY CLOSE TO 30,000 ON N...</td>\n",
       "      <td>False</td>\n",
       "      <td>False</td>\n",
       "      <td>Twitter for iPhone</td>\n",
       "      <td>111872</td>\n",
       "      <td>17825</td>\n",
       "      <td>2020-11-16 16:02:58+00:00</td>\n",
       "    </tr>\n",
       "    <tr>\n",
       "      <th>3</th>\n",
       "      <td>1328367108871385088</td>\n",
       "      <td>They will PACK THE COURTS. We won’t let that h...</td>\n",
       "      <td>False</td>\n",
       "      <td>False</td>\n",
       "      <td>Twitter for iPhone</td>\n",
       "      <td>132044</td>\n",
       "      <td>21123</td>\n",
       "      <td>2020-11-16 15:59:33+00:00</td>\n",
       "    </tr>\n",
       "    <tr>\n",
       "      <th>4</th>\n",
       "      <td>1328361451497664512</td>\n",
       "      <td>The Radical Left Democrats, working with their...</td>\n",
       "      <td>False</td>\n",
       "      <td>False</td>\n",
       "      <td>Twitter for iPhone</td>\n",
       "      <td>161161</td>\n",
       "      <td>32856</td>\n",
       "      <td>2020-11-16 15:37:04+00:00</td>\n",
       "    </tr>\n",
       "  </tbody>\n",
       "</table>\n",
       "</div>"
      ],
      "text/plain": [
       "                    id                                               text  \\\n",
       "0  1328382287331856384  Georgia won’t let us look at the all important...   \n",
       "1  1328370030678044672  European Countries are sadly getting clobbered...   \n",
       "2  1328367970352066560  STOCK MARKET GETTING VERY CLOSE TO 30,000 ON N...   \n",
       "3  1328367108871385088  They will PACK THE COURTS. We won’t let that h...   \n",
       "4  1328361451497664512  The Radical Left Democrats, working with their...   \n",
       "\n",
       "   isRetweet  isDeleted              device  favorites  retweets  \\\n",
       "0      False      False  Twitter for iPhone      87375     21577   \n",
       "1      False      False  Twitter for iPhone     103140     18563   \n",
       "2      False      False  Twitter for iPhone     111872     17825   \n",
       "3      False      False  Twitter for iPhone     132044     21123   \n",
       "4      False      False  Twitter for iPhone     161161     32856   \n",
       "\n",
       "                       date  \n",
       "0 2020-11-16 16:59:52+00:00  \n",
       "1 2020-11-16 16:11:09+00:00  \n",
       "2 2020-11-16 16:02:58+00:00  \n",
       "3 2020-11-16 15:59:33+00:00  \n",
       "4 2020-11-16 15:37:04+00:00  "
      ]
     },
     "execution_count": 3,
     "metadata": {},
     "output_type": "execute_result"
    }
   ],
   "source": [
    "latest.head()"
   ]
  },
  {
   "cell_type": "code",
   "execution_count": null,
   "metadata": {},
   "outputs": [],
   "source": [
    "#get latest\n",
    "trump2020 = pd.read_json('http://www.trumptwitterarchive.com/data/realdonaldtrump/2020.json')"
   ]
  },
  {
   "cell_type": "code",
   "execution_count": null,
   "metadata": {},
   "outputs": [],
   "source": []
  },
  {
   "cell_type": "code",
   "execution_count": null,
   "metadata": {},
   "outputs": [],
   "source": [
    "#archive\n",
    "trump2019 = pd.read_json('/Users/mhustiles/data/github/notebooks/trump-tweet-frequency/input/data/2019.json')\n",
    "trump2018 = pd.read_json('/Users/mhustiles/data/github/notebooks/trump-tweet-frequency/input/data/2018.json')\n",
    "trump2017 = pd.read_json('/Users/mhustiles/data/github/notebooks/trump-tweet-frequency/input/data/2017.json')\n",
    "trump2016 = pd.read_json('/Users/mhustiles/data/github/notebooks/trump-tweet-frequency/input/data/2016.json')\n",
    "trump2015 = pd.read_json('/Users/mhustiles/data/github/notebooks/trump-tweet-frequency/input/data/2015.json')\n",
    "trump2014 = pd.read_json('/Users/mhustiles/data/github/notebooks/trump-tweet-frequency/input/data/2014.json')\n",
    "trump2013 = pd.read_json('/Users/mhustiles/data/github/notebooks/trump-tweet-frequency/input/data/2013.json')\n",
    "trump2012 = pd.read_json('/Users/mhustiles/data/github/notebooks/trump-tweet-frequency/input/data/2012.json')\n",
    "trump2011 = pd.read_json('/Users/mhustiles/data/github/notebooks/trump-tweet-frequency/input/data/2011.json')\n",
    "trump2010 = pd.read_json('/Users/mhustiles/data/github/notebooks/trump-tweet-frequency/input/data/2010.json')\n",
    "trump2009 = pd.read_json('/Users/mhustiles/data/github/notebooks/trump-tweet-frequency/input/data/2009.json')"
   ]
  },
  {
   "cell_type": "code",
   "execution_count": null,
   "metadata": {},
   "outputs": [],
   "source": [
    "src = pd.concat([trump2020, trump2019, trump2018, trump2017, trump2016, \\\n",
    "trump2015, trump2014, trump2013, trump2012, trump2011, trump2010, trump2009])"
   ]
  },
  {
   "cell_type": "markdown",
   "metadata": {},
   "source": [
    "### Clean up dates"
   ]
  },
  {
   "cell_type": "code",
   "execution_count": null,
   "metadata": {},
   "outputs": [],
   "source": [
    "src.head()"
   ]
  },
  {
   "cell_type": "code",
   "execution_count": null,
   "metadata": {},
   "outputs": [],
   "source": [
    "src['eastern_created_at'] = src['created_at'].dt.time"
   ]
  },
  {
   "cell_type": "code",
   "execution_count": null,
   "metadata": {},
   "outputs": [],
   "source": [
    "src['eastern_created_at'] = src['created_at'].dt.tz_convert('America/Los_Angeles')"
   ]
  },
  {
   "cell_type": "code",
   "execution_count": null,
   "metadata": {},
   "outputs": [],
   "source": [
    "src['date'] = pd.to_datetime(src['eastern_created_at']).dt.strftime('%m/%d/%Y')\n",
    "src['date'] = pd.to_datetime(src['date'])\n",
    "src['year'] = src['eastern_created_at'].dt.year\n",
    "src['month'] = src['eastern_created_at'].dt.month\n",
    "src['day'] = src['eastern_created_at'].dt.day\n",
    "src['hour'] = src['eastern_created_at'].dt.hour\n",
    "src['minute'] = src['eastern_created_at'].dt.minute\n",
    "src['time'] = src['eastern_created_at'].dt.time\n",
    "src['id_str'] = src['id_str'].astype(str)\n",
    "src['year'] = src['year'].astype(str)\n",
    "src['month'] = src['month'].astype(str)\n",
    "src['day'] = src['day'].astype(str)\n",
    "src['hour'] = src['hour'].astype(str)\n",
    "src['in_reply_to_user_id_str'] = src['in_reply_to_user_id_str'].astype(str)\n",
    "src['in_reply_to_user_id_str'] = src['in_reply_to_user_id_str'].str.replace('.0', '', regex=False)"
   ]
  },
  {
   "cell_type": "code",
   "execution_count": null,
   "metadata": {},
   "outputs": [],
   "source": [
    "src.dtypes"
   ]
  },
  {
   "cell_type": "code",
   "execution_count": null,
   "metadata": {},
   "outputs": [],
   "source": [
    "src.reset_index().to_json('/Users/mhustiles/data/github/notebooks/trump-tweet-frequency/output/realdonaldtrump.json')"
   ]
  }
 ],
 "metadata": {
  "kernelspec": {
   "display_name": "Python 3",
   "language": "python",
   "name": "python3"
  },
  "language_info": {
   "codemirror_mode": {
    "name": "ipython",
    "version": 3
   },
   "file_extension": ".py",
   "mimetype": "text/x-python",
   "name": "python",
   "nbconvert_exporter": "python",
   "pygments_lexer": "ipython3",
   "version": "3.7.4"
  }
 },
 "nbformat": 4,
 "nbformat_minor": 4
}
