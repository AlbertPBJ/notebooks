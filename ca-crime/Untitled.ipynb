{
 "cells": [
  {
   "cell_type": "markdown",
   "metadata": {},
   "source": [
    "# California crime incident data"
   ]
  },
  {
   "cell_type": "markdown",
   "metadata": {},
   "source": [
    "### Load python tools"
   ]
  },
  {
   "cell_type": "code",
   "execution_count": 3,
   "metadata": {},
   "outputs": [
    {
     "data": {
      "text/plain": [
       "ThemeRegistry.enable('latimes')"
      ]
     },
     "execution_count": 3,
     "metadata": {},
     "output_type": "execute_result"
    }
   ],
   "source": [
    "import pandas as pd\n",
    "import geopandas as gpd\n",
    "import matplotlib\n",
    "import matplotlib.pyplot as plt\n",
    "import altair as alt\n",
    "import geojson\n",
    "import altair_latimes as lat\n",
    "alt.themes.register('latimes', lat.theme)\n",
    "alt.themes.enable('latimes')"
   ]
  },
  {
   "cell_type": "markdown",
   "metadata": {},
   "source": [
    "### San Francisco, 2003-today"
   ]
  },
  {
   "cell_type": "code",
   "execution_count": null,
   "metadata": {},
   "outputs": [],
   "source": [
    "# https://data.sfgov.org/api/views/wg3w-h783/rows.csv?accessType=DOWNLOAD\n",
    "# https://data.sfgov.org/api/geospatial/wg3w-h783?method=export&format=Shapefile"
   ]
  },
  {
   "cell_type": "code",
   "execution_count": null,
   "metadata": {},
   "outputs": [],
   "source": [
    "sfnow = pd.read_csv('/Users/mhustiles/data/data/california/\\\n",
    "crime/sf/Police_Department_Incident_Reports__2018_to_Present.csv')"
   ]
  },
  {
   "cell_type": "code",
   "execution_count": 19,
   "metadata": {},
   "outputs": [],
   "source": [
    "sfnow = sfnow.drop(['SF Find Neighborhoods', 'Current Police Districts',\n",
    "       'Current Supervisor Districts', 'Analysis Neighborhoods',\n",
    "       'HSOC Zones as of 2018-06-05', 'OWED Public Spaces',\n",
    "       'Central Market/Tenderloin Boundary Polygon - Updated',\n",
    "       'Parks Alliance CPSI (27+TL sites)', 'ESNCAG - Boundary File',\n",
    "       'Areas of Vulnerability, 2016'], axis=1)"
   ]
  },
  {
   "cell_type": "code",
   "execution_count": 6,
   "metadata": {},
   "outputs": [],
   "source": [
    "sfthen = pd.read_csv('/Users/mhustiles/data/data/california/crime/\\\n",
    "sf/Police_Department_Incident_Reports__Historical_2003_to_May_2018.csv')"
   ]
  },
  {
   "cell_type": "code",
   "execution_count": 20,
   "metadata": {},
   "outputs": [],
   "source": [
    "sfthen = sfthen.drop([\n",
    "       'SF Find Neighborhoods', 'Current Police Districts',\n",
    "       'Current Supervisor Districts', 'Analysis Neighborhoods',\n",
    "       'DELETE - Fire Prevention Districts', 'DELETE - Police Districts',\n",
    "       'DELETE - Supervisor Districts', 'DELETE - Zip Codes',\n",
    "       'DELETE - Neighborhoods', 'DELETE - 2017 Fix It Zones',\n",
    "       'Civic Center Harm Reduction Project Boundary',\n",
    "       'Fix It Zones as of 2017-11-06 ', 'DELETE - HSOC Zones',\n",
    "       'Fix It Zones as of 2018-02-07',\n",
    "       'CBD, BID and GBD Boundaries as of 2017',\n",
    "       'Areas of Vulnerability, 2016', 'Central Market/Tenderloin Boundary',\n",
    "       'Central Market/Tenderloin Boundary Polygon - Updated',\n",
    "       'HSOC Zones as of 2018-06-05', 'OWED Public Spaces'], axis=1)"
   ]
  },
  {
   "cell_type": "code",
   "execution_count": null,
   "metadata": {},
   "outputs": [],
   "source": []
  },
  {
   "cell_type": "code",
   "execution_count": null,
   "metadata": {},
   "outputs": [],
   "source": []
  }
 ],
 "metadata": {
  "kernelspec": {
   "display_name": "Python 3",
   "language": "python",
   "name": "python3"
  },
  "language_info": {
   "codemirror_mode": {
    "name": "ipython",
    "version": 3
   },
   "file_extension": ".py",
   "mimetype": "text/x-python",
   "name": "python",
   "nbconvert_exporter": "python",
   "pygments_lexer": "ipython3",
   "version": "3.7.4"
  }
 },
 "nbformat": 4,
 "nbformat_minor": 2
}
