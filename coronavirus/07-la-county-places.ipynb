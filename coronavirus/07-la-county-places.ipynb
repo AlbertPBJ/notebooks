{
 "cells": [
  {
   "cell_type": "markdown",
   "id": "unnecessary-hollow",
   "metadata": {},
   "source": [
    "# L.A. County places timeseries"
   ]
  },
  {
   "cell_type": "code",
   "execution_count": 1,
   "id": "foster-footwear",
   "metadata": {},
   "outputs": [],
   "source": [
    "%load_ext lab_black"
   ]
  },
  {
   "cell_type": "code",
   "execution_count": 2,
   "id": "moderate-christmas",
   "metadata": {},
   "outputs": [],
   "source": [
    "import pandas as pd\n",
    "import geopandas as gpd\n",
    "import jenkspy\n",
    "import matplotlib.pyplot as plt"
   ]
  },
  {
   "cell_type": "code",
   "execution_count": 3,
   "id": "celtic-person",
   "metadata": {},
   "outputs": [],
   "source": [
    "%matplotlib inline\n",
    "import json\n",
    "import numpy as np\n",
    "import altair as alt\n",
    "import altair_latimes as lat"
   ]
  },
  {
   "cell_type": "code",
   "execution_count": 4,
   "id": "essential-hygiene",
   "metadata": {},
   "outputs": [],
   "source": [
    "import requests\n",
    "from bs4 import BeautifulSoup\n",
    "import re\n",
    "import unicodedata\n",
    "from datetime import datetime, date\n",
    "from slugify import slugify"
   ]
  },
  {
   "cell_type": "code",
   "execution_count": 5,
   "id": "steady-prediction",
   "metadata": {},
   "outputs": [
    {
     "data": {
      "text/plain": [
       "DataTransformerRegistry.enable('default')"
      ]
     },
     "execution_count": 5,
     "metadata": {},
     "output_type": "execute_result"
    }
   ],
   "source": [
    "alt.themes.register(\"latimes\", lat.theme)\n",
    "alt.themes.enable(\"latimes\")\n",
    "pd.options.display.max_columns = 50\n",
    "pd.options.display.max_rows = 1000\n",
    "alt.data_transformers.disable_max_rows()"
   ]
  },
  {
   "cell_type": "markdown",
   "id": "considerable-russell",
   "metadata": {},
   "source": [
    "---"
   ]
  },
  {
   "cell_type": "code",
   "execution_count": 6,
   "id": "static-drink",
   "metadata": {},
   "outputs": [],
   "source": [
    "surge_begin = \"2020-11-15\"\n",
    "surge_end = \"2021-01-15\""
   ]
  },
  {
   "cell_type": "markdown",
   "id": "exclusive-merit",
   "metadata": {},
   "source": [
    "### Counties"
   ]
  },
  {
   "cell_type": "code",
   "execution_count": 7,
   "id": "stuck-alabama",
   "metadata": {},
   "outputs": [],
   "source": [
    "counties = pd.read_csv(\n",
    "    \"../../coronavirus-tracker/_notebooks/data/processed/agency-survey/counties-timeseries.csv\",\n",
    "    low_memory=False,\n",
    ")"
   ]
  },
  {
   "cell_type": "code",
   "execution_count": 8,
   "id": "eleven-fancy",
   "metadata": {},
   "outputs": [],
   "source": [
    "la = counties[\n",
    "    (counties[\"county\"] == \"Los Angeles\")\n",
    "    & ((counties[\"date\"] >= surge_begin) & (counties[\"date\"] <= surge_end))\n",
    "]"
   ]
  },
  {
   "cell_type": "code",
   "execution_count": 9,
   "id": "falling-strike",
   "metadata": {},
   "outputs": [
    {
     "data": {
      "text/html": [
       "<div>\n",
       "<style scoped>\n",
       "    .dataframe tbody tr th:only-of-type {\n",
       "        vertical-align: middle;\n",
       "    }\n",
       "\n",
       "    .dataframe tbody tr th {\n",
       "        vertical-align: top;\n",
       "    }\n",
       "\n",
       "    .dataframe thead th {\n",
       "        text-align: right;\n",
       "    }\n",
       "</style>\n",
       "<table border=\"1\" class=\"dataframe\">\n",
       "  <thead>\n",
       "    <tr style=\"text-align: right;\">\n",
       "      <th></th>\n",
       "      <th>date</th>\n",
       "      <th>county</th>\n",
       "      <th>fips</th>\n",
       "      <th>population</th>\n",
       "      <th>confirmed_cases</th>\n",
       "      <th>deaths</th>\n",
       "      <th>recoveries</th>\n",
       "      <th>confirmed_cases_per_100k</th>\n",
       "      <th>deaths_per_100k</th>\n",
       "      <th>new_confirmed_cases</th>\n",
       "      <th>new_deaths</th>\n",
       "      <th>new_recoveries</th>\n",
       "      <th>agencies_count</th>\n",
       "      <th>agencies_updated</th>\n",
       "      <th>updated</th>\n",
       "      <th>in_progress</th>\n",
       "    </tr>\n",
       "  </thead>\n",
       "  <tbody>\n",
       "    <tr>\n",
       "      <th>7152</th>\n",
       "      <td>2020-11-15</td>\n",
       "      <td>Los Angeles</td>\n",
       "      <td>37</td>\n",
       "      <td>10098052</td>\n",
       "      <td>339570.0</td>\n",
       "      <td>7269.0</td>\n",
       "      <td>13116.0</td>\n",
       "      <td>3362.727782</td>\n",
       "      <td>71.984181</td>\n",
       "      <td>2899.0</td>\n",
       "      <td>2.0</td>\n",
       "      <td>0.0</td>\n",
       "      <td>3.0</td>\n",
       "      <td>2.0</td>\n",
       "      <td>True</td>\n",
       "      <td>False</td>\n",
       "    </tr>\n",
       "    <tr>\n",
       "      <th>7153</th>\n",
       "      <td>2020-11-16</td>\n",
       "      <td>Los Angeles</td>\n",
       "      <td>37</td>\n",
       "      <td>10098052</td>\n",
       "      <td>342489.0</td>\n",
       "      <td>7275.0</td>\n",
       "      <td>13187.0</td>\n",
       "      <td>3391.634347</td>\n",
       "      <td>72.043598</td>\n",
       "      <td>2919.0</td>\n",
       "      <td>6.0</td>\n",
       "      <td>71.0</td>\n",
       "      <td>3.0</td>\n",
       "      <td>3.0</td>\n",
       "      <td>True</td>\n",
       "      <td>False</td>\n",
       "    </tr>\n",
       "    <tr>\n",
       "      <th>7154</th>\n",
       "      <td>2020-11-17</td>\n",
       "      <td>Los Angeles</td>\n",
       "      <td>37</td>\n",
       "      <td>10098052</td>\n",
       "      <td>344741.0</td>\n",
       "      <td>7300.0</td>\n",
       "      <td>13244.0</td>\n",
       "      <td>3413.935678</td>\n",
       "      <td>72.291171</td>\n",
       "      <td>2252.0</td>\n",
       "      <td>25.0</td>\n",
       "      <td>57.0</td>\n",
       "      <td>3.0</td>\n",
       "      <td>3.0</td>\n",
       "      <td>True</td>\n",
       "      <td>False</td>\n",
       "    </tr>\n",
       "    <tr>\n",
       "      <th>7155</th>\n",
       "      <td>2020-11-18</td>\n",
       "      <td>Los Angeles</td>\n",
       "      <td>37</td>\n",
       "      <td>10098052</td>\n",
       "      <td>348536.0</td>\n",
       "      <td>7337.0</td>\n",
       "      <td>13348.0</td>\n",
       "      <td>3451.517184</td>\n",
       "      <td>72.657578</td>\n",
       "      <td>3795.0</td>\n",
       "      <td>37.0</td>\n",
       "      <td>104.0</td>\n",
       "      <td>3.0</td>\n",
       "      <td>3.0</td>\n",
       "      <td>True</td>\n",
       "      <td>False</td>\n",
       "    </tr>\n",
       "    <tr>\n",
       "      <th>7156</th>\n",
       "      <td>2020-11-19</td>\n",
       "      <td>Los Angeles</td>\n",
       "      <td>37</td>\n",
       "      <td>10098052</td>\n",
       "      <td>353479.0</td>\n",
       "      <td>7365.0</td>\n",
       "      <td>13435.0</td>\n",
       "      <td>3500.467219</td>\n",
       "      <td>72.934859</td>\n",
       "      <td>4943.0</td>\n",
       "      <td>28.0</td>\n",
       "      <td>87.0</td>\n",
       "      <td>3.0</td>\n",
       "      <td>3.0</td>\n",
       "      <td>True</td>\n",
       "      <td>False</td>\n",
       "    </tr>\n",
       "  </tbody>\n",
       "</table>\n",
       "</div>"
      ],
      "text/plain": [
       "            date       county  fips  population  confirmed_cases  deaths  \\\n",
       "7152  2020-11-15  Los Angeles    37    10098052         339570.0  7269.0   \n",
       "7153  2020-11-16  Los Angeles    37    10098052         342489.0  7275.0   \n",
       "7154  2020-11-17  Los Angeles    37    10098052         344741.0  7300.0   \n",
       "7155  2020-11-18  Los Angeles    37    10098052         348536.0  7337.0   \n",
       "7156  2020-11-19  Los Angeles    37    10098052         353479.0  7365.0   \n",
       "\n",
       "      recoveries  confirmed_cases_per_100k  deaths_per_100k  \\\n",
       "7152     13116.0               3362.727782        71.984181   \n",
       "7153     13187.0               3391.634347        72.043598   \n",
       "7154     13244.0               3413.935678        72.291171   \n",
       "7155     13348.0               3451.517184        72.657578   \n",
       "7156     13435.0               3500.467219        72.934859   \n",
       "\n",
       "      new_confirmed_cases  new_deaths  new_recoveries  agencies_count  \\\n",
       "7152               2899.0         2.0             0.0             3.0   \n",
       "7153               2919.0         6.0            71.0             3.0   \n",
       "7154               2252.0        25.0            57.0             3.0   \n",
       "7155               3795.0        37.0           104.0             3.0   \n",
       "7156               4943.0        28.0            87.0             3.0   \n",
       "\n",
       "      agencies_updated  updated  in_progress  \n",
       "7152               2.0     True        False  \n",
       "7153               3.0     True        False  \n",
       "7154               3.0     True        False  \n",
       "7155               3.0     True        False  \n",
       "7156               3.0     True        False  "
      ]
     },
     "execution_count": 9,
     "metadata": {},
     "output_type": "execute_result"
    }
   ],
   "source": [
    "la.head()"
   ]
  },
  {
   "cell_type": "markdown",
   "id": "immune-scanning",
   "metadata": {},
   "source": [
    "### Regions"
   ]
  },
  {
   "cell_type": "code",
   "execution_count": 10,
   "id": "rough-posting",
   "metadata": {},
   "outputs": [],
   "source": [
    "regions = pd.read_csv(\n",
    "    \"../../coronavirus-tracker/_notebooks/data/processed/agency-survey/regions-cases-timeseries.csv\",\n",
    "    low_memory=False,\n",
    ")"
   ]
  },
  {
   "cell_type": "code",
   "execution_count": 11,
   "id": "sealed-caution",
   "metadata": {},
   "outputs": [],
   "source": [
    "socal = regions[\n",
    "    (regions[\"region\"] == \"Southern California\")\n",
    "    & ((regions[\"date\"] >= surge_begin) & (regions[\"date\"] <= surge_end))\n",
    "]"
   ]
  },
  {
   "cell_type": "code",
   "execution_count": 12,
   "id": "convenient-allowance",
   "metadata": {},
   "outputs": [
    {
     "data": {
      "text/html": [
       "<div>\n",
       "<style scoped>\n",
       "    .dataframe tbody tr th:only-of-type {\n",
       "        vertical-align: middle;\n",
       "    }\n",
       "\n",
       "    .dataframe tbody tr th {\n",
       "        vertical-align: top;\n",
       "    }\n",
       "\n",
       "    .dataframe thead th {\n",
       "        text-align: right;\n",
       "    }\n",
       "</style>\n",
       "<table border=\"1\" class=\"dataframe\">\n",
       "  <thead>\n",
       "    <tr style=\"text-align: right;\">\n",
       "      <th></th>\n",
       "      <th>date</th>\n",
       "      <th>new_confirmed_cases_seven_day_per_100k</th>\n",
       "    </tr>\n",
       "  </thead>\n",
       "  <tbody>\n",
       "    <tr>\n",
       "      <th>1874</th>\n",
       "      <td>2021-01-10</td>\n",
       "      <td>1001.84761</td>\n",
       "    </tr>\n",
       "  </tbody>\n",
       "</table>\n",
       "</div>"
      ],
      "text/plain": [
       "            date  new_confirmed_cases_seven_day_per_100k\n",
       "1874  2021-01-10                              1001.84761"
      ]
     },
     "execution_count": 12,
     "metadata": {},
     "output_type": "execute_result"
    }
   ],
   "source": [
    "socal[\n",
    "    socal[\"new_confirmed_cases_seven_day_per_100k\"]\n",
    "    == socal[\"new_confirmed_cases_seven_day_per_100k\"].max()\n",
    "][[\"date\", \"new_confirmed_cases_seven_day_per_100k\"]]"
   ]
  },
  {
   "cell_type": "code",
   "execution_count": 13,
   "id": "crazy-positive",
   "metadata": {},
   "outputs": [
    {
     "data": {
      "text/html": [
       "\n",
       "<div id=\"altair-viz-2f5a8f58d4124a5890ec37a6009999d8\"></div>\n",
       "<script type=\"text/javascript\">\n",
       "  (function(spec, embedOpt){\n",
       "    let outputDiv = document.currentScript.previousElementSibling;\n",
       "    if (outputDiv.id !== \"altair-viz-2f5a8f58d4124a5890ec37a6009999d8\") {\n",
       "      outputDiv = document.getElementById(\"altair-viz-2f5a8f58d4124a5890ec37a6009999d8\");\n",
       "    }\n",
       "    const paths = {\n",
       "      \"vega\": \"https://cdn.jsdelivr.net/npm//vega@5?noext\",\n",
       "      \"vega-lib\": \"https://cdn.jsdelivr.net/npm//vega-lib?noext\",\n",
       "      \"vega-lite\": \"https://cdn.jsdelivr.net/npm//vega-lite@4.8.1?noext\",\n",
       "      \"vega-embed\": \"https://cdn.jsdelivr.net/npm//vega-embed@6?noext\",\n",
       "    };\n",
       "\n",
       "    function loadScript(lib) {\n",
       "      return new Promise(function(resolve, reject) {\n",
       "        var s = document.createElement('script');\n",
       "        s.src = paths[lib];\n",
       "        s.async = true;\n",
       "        s.onload = () => resolve(paths[lib]);\n",
       "        s.onerror = () => reject(`Error loading script: ${paths[lib]}`);\n",
       "        document.getElementsByTagName(\"head\")[0].appendChild(s);\n",
       "      });\n",
       "    }\n",
       "\n",
       "    function showError(err) {\n",
       "      outputDiv.innerHTML = `<div class=\"error\" style=\"color:red;\">${err}</div>`;\n",
       "      throw err;\n",
       "    }\n",
       "\n",
       "    function displayChart(vegaEmbed) {\n",
       "      vegaEmbed(outputDiv, spec, embedOpt)\n",
       "        .catch(err => showError(`Javascript Error: ${err.message}<br>This usually means there's a typo in your chart specification. See the javascript console for the full traceback.`));\n",
       "    }\n",
       "\n",
       "    if(typeof define === \"function\" && define.amd) {\n",
       "      requirejs.config({paths});\n",
       "      require([\"vega-embed\"], displayChart, err => showError(`Error loading script: ${err.message}`));\n",
       "    } else if (typeof vegaEmbed === \"function\") {\n",
       "      displayChart(vegaEmbed);\n",
       "    } else {\n",
       "      loadScript(\"vega\")\n",
       "        .then(() => loadScript(\"vega-lite\"))\n",
       "        .then(() => loadScript(\"vega-embed\"))\n",
       "        .catch(showError)\n",
       "        .then(() => displayChart(vegaEmbed));\n",
       "    }\n",
       "  })({\"config\": {\"view\": {\"width\": 800, \"height\": 450}, \"background\": \"#ffffff\", \"title\": {\"anchor\": \"start\", \"font\": \"Benton Gothic Bold, sans\", \"fontColor\": \"#000000\", \"fontSize\": 22, \"fontWeight\": \"normal\"}, \"arc\": {\"fill\": \"#82c6df\"}, \"area\": {\"fill\": \"#82c6df\"}, \"line\": {\"stroke\": \"#82c6df\", \"strokeWidth\": 3}, \"path\": {\"stroke\": \"#82c6df\"}, \"rect\": {\"fill\": \"#82c6df\"}, \"shape\": {\"stroke\": \"#82c6df\"}, \"bar\": {\"fill\": \"#82c6df\"}, \"point\": {\"stroke\": \"#82c6df\"}, \"symbol\": {\"fill\": \"#82c6df\", \"size\": 30}, \"axis\": {\"titleFont\": \"Benton Gothic Bold, sans\", \"titleFontSize\": 13, \"titleFontWeight\": \"normal\", \"labelFont\": \"Benton Gothic, sans\", \"labelFontSize\": 11.5, \"labelFontWeight\": \"normal\"}, \"axisX\": {\"labelAngle\": 0, \"labelPadding\": 4, \"tickSize\": 3}, \"axisY\": {\"labelBaseline\": \"middle\", \"maxExtent\": 45, \"minExtent\": 45, \"tickSize\": 2, \"titleAlign\": \"left\", \"titleAngle\": 0, \"titleX\": -45, \"titleY\": -11}, \"legend\": {\"titleFont\": \"Benton Gothic Bold, sans\", \"titleFontSize\": 13, \"titleFontWeight\": \"normal\", \"symbolType\": \"square\", \"labelFont\": \"Benton Gothic, sans\", \"labelFontSize\": 11.5}, \"range\": {\"category\": [\"#3580b1\", \"#ec8431\", \"#ab7fb4\", \"#c89d29\", \"#adc839\", \"#829eb1\"], \"diverging\": [\"#e68a4f\", \"#f4bb6a\", \"#f9e39c\", \"#dadfe2\", \"#a6b7c6\", \"#849eae\"], \"heatmap\": [\"#fbf2c7\", \"#f9e39c\", \"#f8d36e\", \"#f4bb6a\", \"#e68a4f\", \"#d15a40\", \"#ab4232\"], \"ordinal\": [\"#fbf2c7\", \"#f9e39c\", \"#f8d36e\", \"#f4bb6a\", \"#e68a4f\", \"#d15a40\", \"#ab4232\"], \"ramp\": [\"#fbf2c7\", \"#f9e39c\", \"#f8d36e\", \"#f4bb6a\", \"#e68a4f\", \"#d15a40\", \"#ab4232\"]}}, \"data\": {\"name\": \"data-b7ee43580a87709ece4ce1366fe83a68\"}, \"mark\": \"line\", \"encoding\": {\"x\": {\"type\": \"temporal\", \"axis\": {\"format\": \"%b. %-d\", \"grid\": false, \"tickColor\": \"#ffffff\", \"tickCount\": 2}, \"field\": \"date\"}, \"y\": {\"type\": \"quantitative\", \"axis\": {\"tickColor\": \"#ffffff\"}, \"field\": \"new_confirmed_cases_seven_day_per_100k\", \"title\": \"\"}}, \"height\": 300, \"width\": 500, \"$schema\": \"https://vega.github.io/schema/vega-lite/v4.8.1.json\", \"datasets\": {\"data-b7ee43580a87709ece4ce1366fe83a68\": [{\"date\": \"2020-11-15\", \"region\": \"Southern California\", \"confirmed_cases\": 663982.0, \"confirmed_cases_per_100k\": 2903.345785701212, \"new_confirmed_cases\": 4880.0, \"new_confirmed_cases_seven_day_total\": 36068.0, \"deaths\": 12887.0, \"deaths_per_100k\": 56.35004735118047, \"new_deaths\": 4.0, \"new_deaths_seven_day_total\": 178.0, \"new_confirmed_cases_seven_day_average\": 5152.571428571428, \"new_deaths_seven_day_average\": 25.428571428571427, \"population\": 22869546, \"new_confirmed_cases_per_100k\": 21.33842097258949, \"new_deaths_per_100k\": 0.0174905089939258, \"new_confirmed_cases_seven_day_per_100k\": 157.71191959822903, \"new_deaths_seven_day_per_100k\": 0.7783276502296985, \"new_confirmed_cases_seven_day_average_per_100k\": 22.53027422831843, \"new_deaths_seven_day_average_per_100k\": 0.1111896643185283, \"new_confirmed_cases_seven_day_average_per_100k_percent_change\": 0.8314207372803899, \"new_deaths_seven_day_average_per_100k_percent_change\": -0.0918367346938775}, {\"date\": \"2020-11-16\", \"region\": \"Southern California\", \"confirmed_cases\": 671652.0, \"confirmed_cases_per_100k\": 2936.8838366970645, \"new_confirmed_cases\": 7670.0, \"new_confirmed_cases_seven_day_total\": 39650.0, \"deaths\": 12908.0, \"deaths_per_100k\": 56.44187252339859, \"new_deaths\": 21.0, \"new_deaths_seven_day_total\": 187.0, \"new_confirmed_cases_seven_day_average\": 5664.285714285715, \"new_deaths_seven_day_average\": 26.714285714285715, \"population\": 22869546, \"new_confirmed_cases_per_100k\": 33.538050995852736, \"new_deaths_per_100k\": 0.0918251722181104, \"new_confirmed_cases_seven_day_per_100k\": 173.37467040228958, \"new_deaths_seven_day_per_100k\": 0.8176812954660315, \"new_confirmed_cases_seven_day_average_per_100k\": 24.767810057469944, \"new_deaths_seven_day_average_per_100k\": 0.1168116136380045, \"new_confirmed_cases_seven_day_average_per_100k_percent_change\": 0.9740117494772482, \"new_deaths_seven_day_average_per_100k_percent_change\": 0.0446927374301675}, {\"date\": \"2020-11-17\", \"region\": \"Southern California\", \"confirmed_cases\": 678067.0, \"confirmed_cases_per_100k\": 2964.934240496073, \"new_confirmed_cases\": 6415.0, \"new_confirmed_cases_seven_day_total\": 40477.0, \"deaths\": 12940.0, \"deaths_per_100k\": 56.58179659534999, \"new_deaths\": 32.0, \"new_deaths_seven_day_total\": 170.0, \"new_confirmed_cases_seven_day_average\": 5782.428571428572, \"new_deaths_seven_day_average\": 24.285714285714285, \"population\": 22869546, \"new_confirmed_cases_per_100k\": 28.050403799008517, \"new_deaths_per_100k\": 0.1399240719514064, \"new_confirmed_cases_seven_day_per_100k\": 176.99083313678375, \"new_deaths_seven_day_per_100k\": 0.7433466322418468, \"new_confirmed_cases_seven_day_average_per_100k\": 25.28440473382625, \"new_deaths_seven_day_average_per_100k\": 0.1061923760345495, \"new_confirmed_cases_seven_day_average_per_100k_percent_change\": 0.9992591129111928, \"new_deaths_seven_day_average_per_100k_percent_change\": 0.0691823899371066}, {\"date\": \"2020-11-18\", \"region\": \"Southern California\", \"confirmed_cases\": 686601.0, \"confirmed_cases_per_100k\": 3002.2502414346136, \"new_confirmed_cases\": 8534.0, \"new_confirmed_cases_seven_day_total\": 45924.0, \"deaths\": 13022.0, \"deaths_per_100k\": 56.940352029725474, \"new_deaths\": 82.0, \"new_deaths_seven_day_total\": 234.0, \"new_confirmed_cases_seven_day_average\": 6560.571428571428, \"new_deaths_seven_day_average\": 33.42857142857143, \"population\": 22869546, \"new_confirmed_cases_per_100k\": 37.31600093854072, \"new_deaths_per_100k\": 0.3585554343754791, \"new_confirmed_cases_seven_day_per_100k\": 200.8085337592622, \"new_deaths_seven_day_per_100k\": 1.0231947761446598, \"new_confirmed_cases_seven_day_average_per_100k\": 28.68693339418032, \"new_deaths_seven_day_average_per_100k\": 0.1461706823063799, \"new_confirmed_cases_seven_day_average_per_100k_percent_change\": 1.187690548780488, \"new_deaths_seven_day_average_per_100k_percent_change\": 0.3846153846153848}, {\"date\": \"2020-11-19\", \"region\": \"Southern California\", \"confirmed_cases\": 695936.0, \"confirmed_cases_per_100k\": 3043.068716799188, \"new_confirmed_cases\": 9335.0, \"new_confirmed_cases_seven_day_total\": 48646.0, \"deaths\": 13088.0, \"deaths_per_100k\": 57.22894542812525, \"new_deaths\": 66.0, \"new_deaths_seven_day_total\": 282.0, \"new_confirmed_cases_seven_day_average\": 6949.428571428572, \"new_deaths_seven_day_average\": 40.285714285714285, \"population\": 22869546, \"new_confirmed_cases_per_100k\": 40.818475364574354, \"new_deaths_per_100k\": 0.2885933983997759, \"new_confirmed_cases_seven_day_per_100k\": 212.71082512962872, \"new_deaths_seven_day_per_100k\": 1.2330808840717695, \"new_confirmed_cases_seven_day_average_per_100k\": 30.387260732804105, \"new_deaths_seven_day_average_per_100k\": 0.1761544120102527, \"new_confirmed_cases_seven_day_average_per_100k_percent_change\": 1.1889933852315169, \"new_deaths_seven_day_average_per_100k_percent_change\": 0.4461538461538461}, {\"date\": \"2020-11-20\", \"region\": \"Southern California\", \"confirmed_cases\": 704488.0, \"confirmed_cases_per_100k\": 3080.463425028201, \"new_confirmed_cases\": 8552.0, \"new_confirmed_cases_seven_day_total\": 51258.0, \"deaths\": 13136.0, \"deaths_per_100k\": 57.43883153605235, \"new_deaths\": 48.0, \"new_deaths_seven_day_total\": 281.0, \"new_confirmed_cases_seven_day_average\": 7322.571428571428, \"new_deaths_seven_day_average\": 40.142857142857146, \"population\": 22869546, \"new_confirmed_cases_per_100k\": 37.394708229013375, \"new_deaths_per_100k\": 0.2098861079271097, \"new_confirmed_cases_seven_day_per_100k\": 224.13212750266223, \"new_deaths_seven_day_per_100k\": 1.228708256823288, \"new_confirmed_cases_seven_day_average_per_100k\": 32.01887535752318, \"new_deaths_seven_day_average_per_100k\": 0.1755297509747554, \"new_confirmed_cases_seven_day_average_per_100k_percent_change\": 1.183607395416205, \"new_deaths_seven_day_average_per_100k_percent_change\": 0.4789473684210528}, {\"date\": \"2020-11-21\", \"region\": \"Southern California\", \"confirmed_cases\": 714032.0, \"confirmed_cases_per_100k\": 3122.195779487708, \"new_confirmed_cases\": 9544.0, \"new_confirmed_cases_seven_day_total\": 54930.0, \"deaths\": 13187.0, \"deaths_per_100k\": 57.6618355257249, \"new_deaths\": 51.0, \"new_deaths_seven_day_total\": 304.0, \"new_confirmed_cases_seven_day_average\": 7847.142857142857, \"new_deaths_seven_day_average\": 43.42857142857143, \"population\": 22869546, \"new_confirmed_cases_per_100k\": 41.73235445950698, \"new_deaths_per_100k\": 0.223003989672554, \"new_confirmed_cases_seven_day_per_100k\": 240.18841475908616, \"new_deaths_seven_day_per_100k\": 1.3292786835383614, \"new_confirmed_cases_seven_day_average_per_100k\": 34.31263067986945, \"new_deaths_seven_day_average_per_100k\": 0.1898969547911945, \"new_confirmed_cases_seven_day_average_per_100k_percent_change\": 1.2206500646830527, \"new_deaths_seven_day_average_per_100k_percent_change\": 0.707865168539326}, {\"date\": \"2020-11-22\", \"region\": \"Southern California\", \"confirmed_cases\": 718412.0, \"confirmed_cases_per_100k\": 3141.347886836057, \"new_confirmed_cases\": 4380.0, \"new_confirmed_cases_seven_day_total\": 54430.0, \"deaths\": 13203.0, \"deaths_per_100k\": 57.73179756170062, \"new_deaths\": 16.0, \"new_deaths_seven_day_total\": 316.0, \"new_confirmed_cases_seven_day_average\": 7775.714285714285, \"new_deaths_seven_day_average\": 45.142857142857146, \"population\": 22869546, \"new_confirmed_cases_per_100k\": 19.15210734834876, \"new_deaths_per_100k\": 0.0699620359757032, \"new_confirmed_cases_seven_day_per_100k\": 238.00210113484545, \"new_deaths_seven_day_per_100k\": 1.381750210520139, \"new_confirmed_cases_seven_day_average_per_100k\": 34.00030016212077, \"new_deaths_seven_day_average_per_100k\": 0.1973928872171627, \"new_confirmed_cases_seven_day_average_per_100k_percent_change\": 1.1022749217874934, \"new_deaths_seven_day_average_per_100k_percent_change\": 0.7267759562841529}, {\"date\": \"2020-11-23\", \"region\": \"Southern California\", \"confirmed_cases\": 730861.0, \"confirmed_cases_per_100k\": 3195.7827234524025, \"new_confirmed_cases\": 12449.0, \"new_confirmed_cases_seven_day_total\": 59209.0, \"deaths\": 13237.0, \"deaths_per_100k\": 57.88046688814898, \"new_deaths\": 34.0, \"new_deaths_seven_day_total\": 329.0, \"new_confirmed_cases_seven_day_average\": 8458.42857142857, \"new_deaths_seven_day_average\": 47.0, \"population\": 22869546, \"new_confirmed_cases_per_100k\": 54.43483661634559, \"new_deaths_per_100k\": 0.1486693264483693, \"new_confirmed_cases_seven_day_per_100k\": 258.8988867553383, \"new_deaths_seven_day_per_100k\": 1.4385943647503978, \"new_confirmed_cases_seven_day_average_per_100k\": 36.98555525076261, \"new_deaths_seven_day_average_per_100k\": 0.2055134806786282, \"new_confirmed_cases_seven_day_average_per_100k_percent_change\": 1.2238122065727697, \"new_deaths_seven_day_average_per_100k_percent_change\": 0.7688172043010753}, {\"date\": \"2020-11-24\", \"region\": \"Southern California\", \"confirmed_cases\": 741042.0, \"confirmed_cases_per_100k\": 3240.3004414691927, \"new_confirmed_cases\": 10181.0, \"new_confirmed_cases_seven_day_total\": 62975.0, \"deaths\": 13306.0, \"deaths_per_100k\": 58.18217816829421, \"new_deaths\": 69.0, \"new_deaths_seven_day_total\": 366.0, \"new_confirmed_cases_seven_day_average\": 8996.42857142857, \"new_deaths_seven_day_average\": 52.285714285714285, \"population\": 22869546, \"new_confirmed_cases_per_100k\": 44.51771801678967, \"new_deaths_per_100k\": 0.3017112801452202, \"new_confirmed_cases_seven_day_per_100k\": 275.3662009731195, \"new_deaths_seven_day_per_100k\": 1.6003815729442117, \"new_confirmed_cases_seven_day_average_per_100k\": 39.338028710445634, \"new_deaths_seven_day_average_per_100k\": 0.2286259389920302, \"new_confirmed_cases_seven_day_average_per_100k_percent_change\": 1.1675902660654662, \"new_deaths_seven_day_average_per_100k_percent_change\": 0.8208955223880596}, {\"date\": \"2020-11-25\", \"region\": \"Southern California\", \"confirmed_cases\": 749308.0, \"confirmed_cases_per_100k\": 3276.44457830514, \"new_confirmed_cases\": 8266.0, \"new_confirmed_cases_seven_day_total\": 62707.0, \"deaths\": 13373.0, \"deaths_per_100k\": 58.47514419394246, \"new_deaths\": 67.0, \"new_deaths_seven_day_total\": 351.0, \"new_confirmed_cases_seven_day_average\": 8958.142857142857, \"new_deaths_seven_day_average\": 50.142857142857146, \"population\": 22869546, \"new_confirmed_cases_per_100k\": 36.14413683594768, \"new_deaths_per_100k\": 0.2929660256482573, \"new_confirmed_cases_seven_day_per_100k\": 274.19433687052646, \"new_deaths_seven_day_per_100k\": 1.5347921642169895, \"new_confirmed_cases_seven_day_average_per_100k\": 39.17061955293234, \"new_deaths_seven_day_average_per_100k\": 0.2192560234595699, \"new_confirmed_cases_seven_day_average_per_100k_percent_change\": 1.203880082943802, \"new_deaths_seven_day_average_per_100k_percent_change\": 1.0289017341040465}, {\"date\": \"2020-11-26\", \"region\": \"Southern California\", \"confirmed_cases\": 754225.0, \"confirmed_cases_per_100k\": 3297.9447864859235, \"new_confirmed_cases\": 4917.0, \"new_confirmed_cases_seven_day_total\": 58289.0, \"deaths\": 13410.0, \"deaths_per_100k\": 58.63693140213627, \"new_deaths\": 37.0, \"new_deaths_seven_day_total\": 322.0, \"new_confirmed_cases_seven_day_average\": 8327.0, \"new_deaths_seven_day_average\": 46.0, \"population\": 22869546, \"new_confirmed_cases_per_100k\": 21.5002081807833, \"new_deaths_per_100k\": 0.1617872081938137, \"new_confirmed_cases_seven_day_per_100k\": 254.87606968673532, \"new_deaths_seven_day_per_100k\": 1.4079859740110277, \"new_confirmed_cases_seven_day_average_per_100k\": 36.41086709810505, \"new_deaths_seven_day_average_per_100k\": 0.2011408534301468, \"new_confirmed_cases_seven_day_average_per_100k_percent_change\": 0.8858261347827494, \"new_deaths_seven_day_average_per_100k_percent_change\": 1.0641025641025643}, {\"date\": \"2020-11-27\", \"region\": \"Southern California\", \"confirmed_cases\": 765980.0, \"confirmed_cases_per_100k\": 3349.3450197918223, \"new_confirmed_cases\": 11755.0, \"new_confirmed_cases_seven_day_total\": 61492.0, \"deaths\": 13464.0, \"deaths_per_100k\": 58.87305327355427, \"new_deaths\": 54.0, \"new_deaths_seven_day_total\": 328.0, \"new_confirmed_cases_seven_day_average\": 8784.57142857143, \"new_deaths_seven_day_average\": 46.85714285714285, \"population\": 22869546, \"new_confirmed_cases_per_100k\": 51.40023330589947, \"new_deaths_per_100k\": 0.2361218714179984, \"new_confirmed_cases_seven_day_per_100k\": 268.8815947636215, \"new_deaths_seven_day_per_100k\": 1.4342217375019164, \"new_confirmed_cases_seven_day_average_per_100k\": 38.41165639480307, \"new_deaths_seven_day_average_per_100k\": 0.2048888196431308, \"new_confirmed_cases_seven_day_average_per_100k_percent_change\": 0.8819280795715376, \"new_deaths_seven_day_average_per_100k_percent_change\": 0.91812865497076}, {\"date\": \"2020-11-28\", \"region\": \"Southern California\", \"confirmed_cases\": 774881.0, \"confirmed_cases_per_100k\": 3388.265774930556, \"new_confirmed_cases\": 8901.0, \"new_confirmed_cases_seven_day_total\": 60849.0, \"deaths\": 13484.0, \"deaths_per_100k\": 58.96050581852391, \"new_deaths\": 20.0, \"new_deaths_seven_day_total\": 297.0, \"new_confirmed_cases_seven_day_average\": 8692.714285714286, \"new_deaths_seven_day_average\": 42.42857142857143, \"population\": 22869546, \"new_confirmed_cases_per_100k\": 38.920755138733405, \"new_deaths_per_100k\": 0.087452544969629, \"new_confirmed_cases_seven_day_per_100k\": 266.06999544284787, \"new_deaths_seven_day_per_100k\": 1.2986702927989913, \"new_confirmed_cases_seven_day_average_per_100k\": 38.00999934897827, \"new_deaths_seven_day_average_per_100k\": 0.185524327542713, \"new_confirmed_cases_seven_day_average_per_100k_percent_change\": 0.7463766036219615, \"new_deaths_seven_day_average_per_100k_percent_change\": 0.6318681318681318}, {\"date\": \"2020-11-29\", \"region\": \"Southern California\", \"confirmed_cases\": 782515.0, \"confirmed_cases_per_100k\": 3421.6464113454635, \"new_confirmed_cases\": 7634.0, \"new_confirmed_cases_seven_day_total\": 64103.0, \"deaths\": 13500.0, \"deaths_per_100k\": 59.030467854499605, \"new_deaths\": 16.0, \"new_deaths_seven_day_total\": 297.0, \"new_confirmed_cases_seven_day_average\": 9157.57142857143, \"new_deaths_seven_day_average\": 42.42857142857143, \"population\": 22869546, \"new_confirmed_cases_per_100k\": 33.38063641490741, \"new_deaths_per_100k\": 0.0699620359757032, \"new_confirmed_cases_seven_day_per_100k\": 280.29852450940655, \"new_deaths_seven_day_per_100k\": 1.2986702927989913, \"new_confirmed_cases_seven_day_average_per_100k\": 40.04264635848665, \"new_deaths_seven_day_average_per_100k\": 0.185524327542713, \"new_confirmed_cases_seven_day_average_per_100k_percent_change\": 0.7772818010424756, \"new_deaths_seven_day_average_per_100k_percent_change\": 0.6685393258426968}, {\"date\": \"2020-11-30\", \"region\": \"Southern California\", \"confirmed_cases\": 795231.0, \"confirmed_cases_per_100k\": 3477.248739437154, \"new_confirmed_cases\": 12716.0, \"new_confirmed_cases_seven_day_total\": 64370.0, \"deaths\": 13533.0, \"deaths_per_100k\": 59.1747645536995, \"new_deaths\": 33.0, \"new_deaths_seven_day_total\": 296.0, \"new_confirmed_cases_seven_day_average\": 9195.714285714286, \"new_deaths_seven_day_average\": 42.285714285714285, \"population\": 22869546, \"new_confirmed_cases_per_100k\": 55.60232809169015, \"new_deaths_per_100k\": 0.1442966991998879, \"new_confirmed_cases_seven_day_per_100k\": 281.4660159847511, \"new_deaths_seven_day_per_100k\": 1.2942976655505098, \"new_confirmed_cases_seven_day_average_per_100k\": 40.20943085496444, \"new_deaths_seven_day_average_per_100k\": 0.1848996665072157, \"new_confirmed_cases_seven_day_average_per_100k_percent_change\": 0.6234552332912986, \"new_deaths_seven_day_average_per_100k_percent_change\": 0.5828877005347595}, {\"date\": \"2020-12-01\", \"region\": \"Southern California\", \"confirmed_cases\": 806099.0, \"confirmed_cases_per_100k\": 3524.77045237365, \"new_confirmed_cases\": 10868.0, \"new_confirmed_cases_seven_day_total\": 65057.0, \"deaths\": 13605.0, \"deaths_per_100k\": 59.48959371559016, \"new_deaths\": 72.0, \"new_deaths_seven_day_total\": 299.0, \"new_confirmed_cases_seven_day_average\": 9293.857142857143, \"new_deaths_seven_day_average\": 42.71428571428572, \"population\": 22869546, \"new_confirmed_cases_per_100k\": 47.52171293649642, \"new_deaths_per_100k\": 0.3148291618906645, \"new_confirmed_cases_seven_day_per_100k\": 284.47001090445787, \"new_deaths_seven_day_per_100k\": 1.307415547295954, \"new_confirmed_cases_seven_day_average_per_100k\": 40.63857298635112, \"new_deaths_seven_day_average_per_100k\": 0.1867736496137077, \"new_confirmed_cases_seven_day_average_per_100k_percent_change\": 0.6072584430664327, \"new_deaths_seven_day_average_per_100k_percent_change\": 0.7588235294117649}, {\"date\": \"2020-12-02\", \"region\": \"Southern California\", \"confirmed_cases\": 818693.0, \"confirmed_cases_per_100k\": 3579.8393199410257, \"new_confirmed_cases\": 12594.0, \"new_confirmed_cases_seven_day_total\": 69385.0, \"deaths\": 13672.0, \"deaths_per_100k\": 59.782559741238416, \"new_deaths\": 67.0, \"new_deaths_seven_day_total\": 299.0, \"new_confirmed_cases_seven_day_average\": 9912.142857142857, \"new_deaths_seven_day_average\": 42.71428571428572, \"population\": 22869546, \"new_confirmed_cases_per_100k\": 55.068867567375406, \"new_deaths_per_100k\": 0.2929660256482573, \"new_confirmed_cases_seven_day_per_100k\": 303.3947416358856, \"new_deaths_seven_day_per_100k\": 1.307415547295954, \"new_confirmed_cases_seven_day_average_per_100k\": 43.34210594798365, \"new_deaths_seven_day_average_per_100k\": 0.1867736496137077, \"new_confirmed_cases_seven_day_average_per_100k_percent_change\": 0.5108657782423132, \"new_deaths_seven_day_average_per_100k_percent_change\": 0.2777777777777777}, {\"date\": \"2020-12-03\", \"region\": \"Southern California\", \"confirmed_cases\": 833054.0, \"confirmed_cases_per_100k\": 3642.634619856468, \"new_confirmed_cases\": 14361.0, \"new_confirmed_cases_seven_day_total\": 78829.0, \"deaths\": 13764.0, \"deaths_per_100k\": 60.18484144809871, \"new_deaths\": 92.0, \"new_deaths_seven_day_total\": 354.0, \"new_confirmed_cases_seven_day_average\": 11261.285714285714, \"new_deaths_seven_day_average\": 50.57142857142857, \"population\": 22869546, \"new_confirmed_cases_per_100k\": 62.79529991544213, \"new_deaths_per_100k\": 0.4022817068602936, \"new_confirmed_cases_seven_day_per_100k\": 344.6898333705444, \"new_deaths_seven_day_per_100k\": 1.5479100459624342, \"new_confirmed_cases_seven_day_average_per_100k\": 49.24140476722063, \"new_deaths_seven_day_average_per_100k\": 0.221130006566062, \"new_confirmed_cases_seven_day_average_per_100k_percent_change\": 0.6204621140484314, \"new_deaths_seven_day_average_per_100k_percent_change\": 0.2553191489361703}, {\"date\": \"2020-12-04\", \"region\": \"Southern California\", \"confirmed_cases\": 848379.0, \"confirmed_cases_per_100k\": 3709.6451324394457, \"new_confirmed_cases\": 15325.0, \"new_confirmed_cases_seven_day_total\": 82399.0, \"deaths\": 13887.0, \"deaths_per_100k\": 60.72267459966193, \"new_deaths\": 123.0, \"new_deaths_seven_day_total\": 423.0, \"new_confirmed_cases_seven_day_average\": 11771.285714285714, \"new_deaths_seven_day_average\": 60.42857142857143, \"population\": 22869546, \"new_confirmed_cases_per_100k\": 67.01051258297825, \"new_deaths_per_100k\": 0.5378331515632186, \"new_confirmed_cases_seven_day_per_100k\": 360.3001126476232, \"new_deaths_seven_day_per_100k\": 1.8496213261076544, \"new_confirmed_cases_seven_day_average_per_100k\": 51.471444663946166, \"new_deaths_seven_day_average_per_100k\": 0.2642316180153792, \"new_confirmed_cases_seven_day_average_per_100k_percent_change\": 0.6075344336493818, \"new_deaths_seven_day_average_per_100k_percent_change\": 0.5053380782918149}, {\"date\": \"2020-12-05\", \"region\": \"Southern California\", \"confirmed_cases\": 865049.0, \"confirmed_cases_per_100k\": 3782.536828671632, \"new_confirmed_cases\": 16670.0, \"new_confirmed_cases_seven_day_total\": 90168.0, \"deaths\": 13953.0, \"deaths_per_100k\": 61.011267998061705, \"new_deaths\": 66.0, \"new_deaths_seven_day_total\": 469.0, \"new_confirmed_cases_seven_day_average\": 12881.142857142857, \"new_deaths_seven_day_average\": 67.0, \"population\": 22869546, \"new_confirmed_cases_per_100k\": 72.89169623218581, \"new_deaths_per_100k\": 0.2885933983997759, \"new_confirmed_cases_seven_day_per_100k\": 394.2710537410756, \"new_deaths_seven_day_per_100k\": 2.050762179537801, \"new_confirmed_cases_seven_day_average_per_100k\": 56.32443624872508, \"new_deaths_seven_day_average_per_100k\": 0.2929660256482573, \"new_confirmed_cases_seven_day_average_per_100k_percent_change\": 0.6415073730202074, \"new_deaths_seven_day_average_per_100k_percent_change\": 0.5427631578947367}, {\"date\": \"2020-12-06\", \"region\": \"Southern California\", \"confirmed_cases\": 881569.0, \"confirmed_cases_per_100k\": 3854.7726308165456, \"new_confirmed_cases\": 16520.0, \"new_confirmed_cases_seven_day_total\": 99054.0, \"deaths\": 13998.0, \"deaths_per_100k\": 61.208036224243365, \"new_deaths\": 45.0, \"new_deaths_seven_day_total\": 498.0, \"new_confirmed_cases_seven_day_average\": 14150.57142857143, \"new_deaths_seven_day_average\": 71.14285714285714, \"population\": 22869546, \"new_confirmed_cases_per_100k\": 72.23580214491359, \"new_deaths_per_100k\": 0.1967682261816653, \"new_confirmed_cases_seven_day_per_100k\": 433.12621947108175, \"new_deaths_seven_day_per_100k\": 2.177568369743763, \"new_confirmed_cases_seven_day_average_per_100k\": 61.87517421015454, \"new_deaths_seven_day_average_per_100k\": 0.3110811956776804, \"new_confirmed_cases_seven_day_average_per_100k_percent_change\": 0.8198419988976671, \"new_deaths_seven_day_average_per_100k_percent_change\": 0.5759493670886076}, {\"date\": \"2020-12-07\", \"region\": \"Southern California\", \"confirmed_cases\": 901942.0, \"confirmed_cases_per_100k\": 3943.856165749858, \"new_confirmed_cases\": 20373.0, \"new_confirmed_cases_seven_day_total\": 106711.0, \"deaths\": 14055.0, \"deaths_per_100k\": 61.45727597740681, \"new_deaths\": 57.0, \"new_deaths_seven_day_total\": 522.0, \"new_confirmed_cases_seven_day_average\": 15244.42857142857, \"new_deaths_seven_day_average\": 74.57142857142857, \"population\": 22869546, \"new_confirmed_cases_per_100k\": 89.08353493331262, \"new_deaths_per_100k\": 0.2492397531634427, \"new_confirmed_cases_seven_day_per_100k\": 466.60742631270426, \"new_deaths_seven_day_per_100k\": 2.282511423707318, \"new_confirmed_cases_seven_day_average_per_100k\": 66.65820375895775, \"new_deaths_seven_day_average_per_100k\": 0.3260730605296168, \"new_confirmed_cases_seven_day_average_per_100k_percent_change\": 0.8022766809099973, \"new_deaths_seven_day_average_per_100k_percent_change\": 0.5866261398176291}, {\"date\": \"2020-12-08\", \"region\": \"Southern California\", \"confirmed_cases\": 926634.0, \"confirmed_cases_per_100k\": 4051.8250777693615, \"new_confirmed_cases\": 24692.0, \"new_confirmed_cases_seven_day_total\": 120535.0, \"deaths\": 14202.0, \"deaths_per_100k\": 62.10005218293358, \"new_deaths\": 147.0, \"new_deaths_seven_day_total\": 597.0, \"new_confirmed_cases_seven_day_average\": 17219.285714285714, \"new_deaths_seven_day_average\": 85.28571428571429, \"population\": 22869546, \"new_confirmed_cases_per_100k\": 107.96891201950402, \"new_deaths_per_100k\": 0.6427762055267735, \"new_confirmed_cases_seven_day_per_100k\": 527.0546253957118, \"new_deaths_seven_day_per_100k\": 2.610458467343427, \"new_confirmed_cases_seven_day_average_per_100k\": 75.29351791367311, \"new_deaths_seven_day_average_per_100k\": 0.3729226381919182, \"new_confirmed_cases_seven_day_average_per_100k_percent_change\": 0.9140134974196108, \"new_deaths_seven_day_average_per_100k_percent_change\": 0.6311475409836067}, {\"date\": \"2020-12-09\", \"region\": \"Southern California\", \"confirmed_cases\": 947391.0, \"confirmed_cases_per_100k\": 4142.587701566092, \"new_confirmed_cases\": 20757.0, \"new_confirmed_cases_seven_day_total\": 128698.0, \"deaths\": 14327.0, \"deaths_per_100k\": 62.64663058899376, \"new_deaths\": 125.0, \"new_deaths_seven_day_total\": 655.0, \"new_confirmed_cases_seven_day_average\": 18385.42857142857, \"new_deaths_seven_day_average\": 93.57142857142856, \"population\": 22869546, \"new_confirmed_cases_per_100k\": 90.7626237967295, \"new_deaths_per_100k\": 0.5465784060601815, \"new_confirmed_cases_seven_day_per_100k\": 562.7483816250659, \"new_deaths_seven_day_per_100k\": 2.864070847755351, \"new_confirmed_cases_seven_day_average_per_100k\": 80.39262594643799, \"new_deaths_seven_day_average_per_100k\": 0.4091529782507644, \"new_confirmed_cases_seven_day_average_per_100k_percent_change\": 1.0523705487425643, \"new_deaths_seven_day_average_per_100k_percent_change\": 0.866096866096866}, {\"date\": \"2020-12-10\", \"region\": \"Southern California\", \"confirmed_cases\": 972393.0, \"confirmed_cases_per_100k\": 4251.912128032624, \"new_confirmed_cases\": 25002.0, \"new_confirmed_cases_seven_day_total\": 139339.0, \"deaths\": 14438.0, \"deaths_per_100k\": 63.13199221357521, \"new_deaths\": 111.0, \"new_deaths_seven_day_total\": 674.0, \"new_confirmed_cases_seven_day_average\": 19905.571428571428, \"new_deaths_seven_day_average\": 96.28571428571428, \"population\": 22869546, \"new_confirmed_cases_per_100k\": 109.32442646653324, \"new_deaths_per_100k\": 0.4853616245814412, \"new_confirmed_cases_seven_day_per_100k\": 609.2775081761571, \"new_deaths_seven_day_per_100k\": 2.947150765476499, \"new_confirmed_cases_seven_day_average_per_100k\": 87.03964402516529, \"new_deaths_seven_day_average_per_100k\": 0.4210215379252141, \"new_confirmed_cases_seven_day_average_per_100k_percent_change\": 1.3904853402871895, \"new_deaths_seven_day_average_per_100k_percent_change\": 1.093167701863354}, {\"date\": \"2020-12-11\", \"region\": \"Southern California\", \"confirmed_cases\": 997725.0, \"confirmed_cases_per_100k\": 4362.679521491157, \"new_confirmed_cases\": 25332.0, \"new_confirmed_cases_seven_day_total\": 149346.0, \"deaths\": 14560.0, \"deaths_per_100k\": 63.66545273788994, \"new_deaths\": 122.0, \"new_deaths_seven_day_total\": 673.0, \"new_confirmed_cases_seven_day_average\": 21335.14285714286, \"new_deaths_seven_day_average\": 96.14285714285714, \"population\": 22869546, \"new_confirmed_cases_per_100k\": 110.76739345853214, \"new_deaths_per_100k\": 0.5334605243147371, \"new_confirmed_cases_seven_day_per_100k\": 653.034389051711, \"new_deaths_seven_day_per_100k\": 2.942778138228017, \"new_confirmed_cases_seven_day_average_per_100k\": 93.29062700738729, \"new_deaths_seven_day_average_per_100k\": 0.4203968768897167, \"new_confirmed_cases_seven_day_average_per_100k_percent_change\": 1.4287061731607364, \"new_deaths_seven_day_average_per_100k_percent_change\": 1.0518292682926829}, {\"date\": \"2020-12-12\", \"region\": \"Southern California\", \"confirmed_cases\": 1019007.0, \"confirmed_cases_per_100k\": 4455.737774593339, \"new_confirmed_cases\": 21282.0, \"new_confirmed_cases_seven_day_total\": 153958.0, \"deaths\": 14669.0, \"deaths_per_100k\": 64.14206910797442, \"new_deaths\": 109.0, \"new_deaths_seven_day_total\": 716.0, \"new_confirmed_cases_seven_day_average\": 21994.0, \"new_deaths_seven_day_average\": 102.28571428571428, \"population\": 22869546, \"new_confirmed_cases_per_100k\": 93.05825310218226, \"new_deaths_per_100k\": 0.4766163700844782, \"new_confirmed_cases_seven_day_per_100k\": 673.2009459217073, \"new_deaths_seven_day_per_100k\": 3.13080110991272, \"new_confirmed_cases_seven_day_average_per_100k\": 96.17156370310106, \"new_deaths_seven_day_average_per_100k\": 0.4472573014161028, \"new_confirmed_cases_seven_day_average_per_100k_percent_change\": 1.5301648342618617, \"new_deaths_seven_day_average_per_100k_percent_change\": 1.410774410774411}, {\"date\": \"2020-12-13\", \"region\": \"Southern California\", \"confirmed_cases\": 1039441.0, \"confirmed_cases_per_100k\": 4545.088039788809, \"new_confirmed_cases\": 20434.0, \"new_confirmed_cases_seven_day_total\": 157872.0, \"deaths\": 14727.0, \"deaths_per_100k\": 64.39568148838634, \"new_deaths\": 58.0, \"new_deaths_seven_day_total\": 729.0, \"new_confirmed_cases_seven_day_average\": 22553.14285714286, \"new_deaths_seven_day_average\": 104.14285714285714, \"population\": 22869546, \"new_confirmed_cases_per_100k\": 89.35026519547, \"new_deaths_per_100k\": 0.2536123804119242, \"new_confirmed_cases_seven_day_per_100k\": 690.3154089722638, \"new_deaths_seven_day_per_100k\": 3.187645264142979, \"new_confirmed_cases_seven_day_average_per_100k\": 98.61648699603772, \"new_deaths_seven_day_average_per_100k\": 0.4553778948775683, \"new_confirmed_cases_seven_day_average_per_100k_percent_change\": 1.4627864530521195, \"new_deaths_seven_day_average_per_100k_percent_change\": 1.454545454545454}, {\"date\": \"2020-12-14\", \"region\": \"Southern California\", \"confirmed_cases\": 1064682.0, \"confirmed_cases_per_100k\": 4655.457524167729, \"new_confirmed_cases\": 25241.0, \"new_confirmed_cases_seven_day_total\": 162740.0, \"deaths\": 14810.0, \"deaths_per_100k\": 64.7586095500103, \"new_deaths\": 83.0, \"new_deaths_seven_day_total\": 755.0, \"new_confirmed_cases_seven_day_average\": 23248.571428571428, \"new_deaths_seven_day_average\": 107.85714285714286, \"population\": 22869546, \"new_confirmed_cases_per_100k\": 110.36948437892032, \"new_deaths_per_100k\": 0.3629280616239605, \"new_confirmed_cases_seven_day_per_100k\": 711.6013584178716, \"new_deaths_seven_day_per_100k\": 3.301333572603496, \"new_confirmed_cases_seven_day_average_per_100k\": 101.6573369168388, \"new_deaths_seven_day_average_per_100k\": 0.4716190818004995, \"new_confirmed_cases_seven_day_average_per_100k_percent_change\": 1.5281963647661954, \"new_deaths_seven_day_average_per_100k_percent_change\": 1.5506756756756754}, {\"date\": \"2020-12-15\", \"region\": \"Southern California\", \"confirmed_cases\": 1084190.0, \"confirmed_cases_per_100k\": 4740.758736531106, \"new_confirmed_cases\": 19508.0, \"new_confirmed_cases_seven_day_total\": 157556.0, \"deaths\": 14992.0, \"deaths_per_100k\": 65.55442770923393, \"new_deaths\": 182.0, \"new_deaths_seven_day_total\": 790.0, \"new_confirmed_cases_seven_day_average\": 22508.0, \"new_deaths_seven_day_average\": 112.85714285714286, \"population\": 22869546, \"new_confirmed_cases_per_100k\": 85.30121236337617, \"new_deaths_per_100k\": 0.7958181592236242, \"new_confirmed_cases_seven_day_per_100k\": 688.9336587617437, \"new_deaths_seven_day_per_100k\": 3.454375526300347, \"new_confirmed_cases_seven_day_average_per_100k\": 98.41909410882052, \"new_deaths_seven_day_average_per_100k\": 0.4934822180429067, \"new_confirmed_cases_seven_day_average_per_100k_percent_change\": 1.4218147163256831, \"new_deaths_seven_day_average_per_100k_percent_change\": 1.6421404682274248}, {\"date\": \"2020-12-16\", \"region\": \"Southern California\", \"confirmed_cases\": 1123252.0, \"confirmed_cases_per_100k\": 4911.562302111288, \"new_confirmed_cases\": 39062.0, \"new_confirmed_cases_seven_day_total\": 175861.0, \"deaths\": 15290.0, \"deaths_per_100k\": 66.85747062928141, \"new_deaths\": 298.0, \"new_deaths_seven_day_total\": 963.0, \"new_confirmed_cases_seven_day_average\": 25123.0, \"new_deaths_seven_day_average\": 137.57142857142858, \"population\": 22869546, \"new_confirmed_cases_per_100k\": 170.8035655801825, \"new_deaths_per_100k\": 1.303042920047473, \"new_confirmed_cases_seven_day_per_100k\": 768.9746005451967, \"new_deaths_seven_day_per_100k\": 4.210840040287638, \"new_confirmed_cases_seven_day_average_per_100k\": 109.85351436359952, \"new_deaths_seven_day_average_per_100k\": 0.6015485771839484, \"new_confirmed_cases_seven_day_average_per_100k_percent_change\": 1.5345679901996108, \"new_deaths_seven_day_average_per_100k_percent_change\": 2.2207357859531776}, {\"date\": \"2020-12-17\", \"region\": \"Southern California\", \"confirmed_cases\": 1161748.0, \"confirmed_cases_per_100k\": 5079.89096066883, \"new_confirmed_cases\": 38496.0, \"new_confirmed_cases_seven_day_total\": 189355.0, \"deaths\": 15496.0, \"deaths_per_100k\": 67.75823184246859, \"new_deaths\": 206.0, \"new_deaths_seven_day_total\": 1058.0, \"new_confirmed_cases_seven_day_average\": 27050.714285714286, \"new_deaths_seven_day_average\": 151.14285714285714, \"population\": 22869546, \"new_confirmed_cases_per_100k\": 168.32865855754198, \"new_deaths_per_100k\": 0.900761213187179, \"new_confirmed_cases_seven_day_per_100k\": 827.9788326362053, \"new_deaths_seven_day_per_100k\": 4.6262396288933765, \"new_confirmed_cases_seven_day_average_per_100k\": 118.28269037660075, \"new_deaths_seven_day_average_per_100k\": 0.6608913755561966, \"new_confirmed_cases_seven_day_average_per_100k_percent_change\": 1.4020982125867385, \"new_deaths_seven_day_average_per_100k_percent_change\": 1.9887005649717515}, {\"date\": \"2020-12-18\", \"region\": \"Southern California\", \"confirmed_cases\": 1200030.0, \"confirmed_cases_per_100k\": 5247.283876995197, \"new_confirmed_cases\": 38282.0, \"new_confirmed_cases_seven_day_total\": 202305.0, \"deaths\": 15644.0, \"deaths_per_100k\": 68.40538067524383, \"new_deaths\": 148.0, \"new_deaths_seven_day_total\": 1084.0, \"new_confirmed_cases_seven_day_average\": 28900.714285714286, \"new_deaths_seven_day_average\": 154.85714285714286, \"population\": 22869546, \"new_confirmed_cases_per_100k\": 167.39291632636696, \"new_deaths_per_100k\": 0.6471488327752549, \"new_confirmed_cases_seven_day_per_100k\": 884.6043555040402, \"new_deaths_seven_day_per_100k\": 4.739927937353894, \"new_confirmed_cases_seven_day_average_per_100k\": 126.37205078629144, \"new_deaths_seven_day_average_per_100k\": 0.6771325624791278, \"new_confirmed_cases_seven_day_average_per_100k_percent_change\": 1.455187562955861, \"new_deaths_seven_day_average_per_100k_percent_change\": 1.562647754137116}, {\"date\": \"2020-12-19\", \"region\": \"Southern California\", \"confirmed_cases\": 1226062.0, \"confirmed_cases_per_100k\": 5361.112109527666, \"new_confirmed_cases\": 26032.0, \"new_confirmed_cases_seven_day_total\": 207055.0, \"deaths\": 15765.0, \"deaths_per_100k\": 68.9344685723101, \"new_deaths\": 121.0, \"new_deaths_seven_day_total\": 1096.0, \"new_confirmed_cases_seven_day_average\": 29579.285714285717, \"new_deaths_seven_day_average\": 156.57142857142858, \"population\": 22869546, \"new_confirmed_cases_per_100k\": 113.82823253246916, \"new_deaths_per_100k\": 0.5290878970662557, \"new_confirmed_cases_seven_day_per_100k\": 905.3743349343272, \"new_deaths_seven_day_per_100k\": 4.792399464335672, \"new_confirmed_cases_seven_day_average_per_100k\": 129.33919070490387, \"new_deaths_seven_day_average_per_100k\": 0.6846284949050959, \"new_confirmed_cases_seven_day_average_per_100k_percent_change\": 1.2963246384526663, \"new_deaths_seven_day_average_per_100k_percent_change\": 1.3368869936034111}, {\"date\": \"2020-12-20\", \"region\": \"Southern California\", \"confirmed_cases\": 1247393.0, \"confirmed_cases_per_100k\": 5454.384621365024, \"new_confirmed_cases\": 21331.0, \"new_confirmed_cases_seven_day_total\": 207952.0, \"deaths\": 15833.0, \"deaths_per_100k\": 69.23180722520684, \"new_deaths\": 68.0, \"new_deaths_seven_day_total\": 1106.0, \"new_confirmed_cases_seven_day_average\": 29707.42857142857, \"new_deaths_seven_day_average\": 158.0, \"population\": 22869546, \"new_confirmed_cases_per_100k\": 93.27251183735784, \"new_deaths_per_100k\": 0.2973386528967387, \"new_confirmed_cases_seven_day_per_100k\": 909.2965815762147, \"new_deaths_seven_day_per_100k\": 4.8361257368204855, \"new_confirmed_cases_seven_day_average_per_100k\": 129.89951165374498, \"new_deaths_seven_day_average_per_100k\": 0.6908751052600695, \"new_confirmed_cases_seven_day_average_per_100k_percent_change\": 1.0993801360873865, \"new_deaths_seven_day_average_per_100k_percent_change\": 1.2208835341365465}, {\"date\": \"2020-12-21\", \"region\": \"Southern California\", \"confirmed_cases\": 1285697.0, \"confirmed_cases_per_100k\": 5621.873735490857, \"new_confirmed_cases\": 38304.0, \"new_confirmed_cases_seven_day_total\": 221015.0, \"deaths\": 15959.0, \"deaths_per_100k\": 69.7827582585155, \"new_deaths\": 126.0, \"new_deaths_seven_day_total\": 1149.0, \"new_confirmed_cases_seven_day_average\": 31573.571428571428, \"new_deaths_seven_day_average\": 164.14285714285714, \"population\": 22869546, \"new_confirmed_cases_per_100k\": 167.48911412583354, \"new_deaths_per_100k\": 0.550951033308663, \"new_confirmed_cases_seven_day_per_100k\": 966.416211323128, \"new_deaths_seven_day_per_100k\": 5.024148708505189, \"new_confirmed_cases_seven_day_average_per_100k\": 138.0594587604469, \"new_deaths_seven_day_average_per_100k\": 0.7177355297864555, \"new_confirmed_cases_seven_day_average_per_100k_percent_change\": 1.0711548012857155, \"new_deaths_seven_day_average_per_100k_percent_change\": 1.2011494252873565}, {\"date\": \"2020-12-22\", \"region\": \"Southern California\", \"confirmed_cases\": 1309229.0, \"confirmed_cases_per_100k\": 5724.770399902123, \"new_confirmed_cases\": 23532.0, \"new_confirmed_cases_seven_day_total\": 225039.0, \"deaths\": 16152.0, \"deaths_per_100k\": 70.62667531747242, \"new_deaths\": 193.0, \"new_deaths_seven_day_total\": 1160.0, \"new_confirmed_cases_seven_day_average\": 32148.42857142857, \"new_deaths_seven_day_average\": 165.71428571428572, \"population\": 22869546, \"new_confirmed_cases_per_100k\": 102.89666441126552, \"new_deaths_per_100k\": 0.8439170589569203, \"new_confirmed_cases_seven_day_per_100k\": 984.0116633710176, \"new_deaths_seven_day_per_100k\": 5.072247608238484, \"new_confirmed_cases_seven_day_average_per_100k\": 140.5730947672882, \"new_deaths_seven_day_average_per_100k\": 0.7246068011769263, \"new_confirmed_cases_seven_day_average_per_100k_percent_change\": 0.8670012859335463, \"new_deaths_seven_day_average_per_100k_percent_change\": 0.943048576214405}, {\"date\": \"2020-12-23\", \"region\": \"Southern California\", \"confirmed_cases\": 1342323.0, \"confirmed_cases_per_100k\": 5869.478126063368, \"new_confirmed_cases\": 33094.0, \"new_confirmed_cases_seven_day_total\": 219071.0, \"deaths\": 16375.0, \"deaths_per_100k\": 71.60177119388378, \"new_deaths\": 223.0, \"new_deaths_seven_day_total\": 1085.0, \"new_confirmed_cases_seven_day_average\": 31295.85714285714, \"new_deaths_seven_day_average\": 155.0, \"population\": 22869546, \"new_confirmed_cases_per_100k\": 144.70772616124518, \"new_deaths_per_100k\": 0.975095876411364, \"new_confirmed_cases_seven_day_per_100k\": 957.91582395208, \"new_deaths_seven_day_per_100k\": 4.744300564602376, \"new_confirmed_cases_seven_day_average_per_100k\": 136.84511770744, \"new_deaths_seven_day_average_per_100k\": 0.6777572235146251, \"new_confirmed_cases_seven_day_average_per_100k_percent_change\": 0.702209824550498, \"new_deaths_seven_day_average_per_100k_percent_change\": 0.6564885496183208}, {\"date\": \"2020-12-24\", \"region\": \"Southern California\", \"confirmed_cases\": 1366659.0, \"confirmed_cases_per_100k\": 5975.890382782413, \"new_confirmed_cases\": 24336.0, \"new_confirmed_cases_seven_day_total\": 204911.0, \"deaths\": 16599.0, \"deaths_per_100k\": 72.58123969754362, \"new_deaths\": 224.0, \"new_deaths_seven_day_total\": 1103.0, \"new_confirmed_cases_seven_day_average\": 29273.0, \"new_deaths_seven_day_average\": 157.57142857142858, \"population\": 22869546, \"new_confirmed_cases_per_100k\": 106.4122567190446, \"new_deaths_per_100k\": 0.9794685036598452, \"new_confirmed_cases_seven_day_per_100k\": 895.9994221135829, \"new_deaths_seven_day_per_100k\": 4.8230078550750415, \"new_confirmed_cases_seven_day_average_per_100k\": 127.99991744479756, \"new_deaths_seven_day_average_per_100k\": 0.6890011221535774, \"new_confirmed_cases_seven_day_average_per_100k_percent_change\": 0.4705933012293761, \"new_deaths_seven_day_average_per_100k_percent_change\": 0.6364985163204748}, {\"date\": \"2020-12-25\", \"region\": \"Southern California\", \"confirmed_cases\": 1369714.0, \"confirmed_cases_per_100k\": 5989.248759026524, \"new_confirmed_cases\": 3055.0, \"new_confirmed_cases_seven_day_total\": 169684.0, \"deaths\": 16619.0, \"deaths_per_100k\": 72.66869224251325, \"new_deaths\": 20.0, \"new_deaths_seven_day_total\": 975.0, \"new_confirmed_cases_seven_day_average\": 24240.571428571428, \"new_deaths_seven_day_average\": 139.28571428571428, \"population\": 22869546, \"new_confirmed_cases_per_100k\": 13.358376244110838, \"new_deaths_per_100k\": 0.087452544969629, \"new_confirmed_cases_seven_day_per_100k\": 741.9648820313267, \"new_deaths_seven_day_per_100k\": 4.263311567269415, \"new_confirmed_cases_seven_day_average_per_100k\": 105.9949831473324, \"new_deaths_seven_day_average_per_100k\": 0.6090445096099165, \"new_confirmed_cases_seven_day_average_per_100k_percent_change\": 0.1361804132685173, \"new_deaths_seven_day_average_per_100k_percent_change\": 0.4487369985141158}, {\"date\": \"2020-12-26\", \"region\": \"Southern California\", \"confirmed_cases\": 1412591.0, \"confirmed_cases_per_100k\": 6176.733897559663, \"new_confirmed_cases\": 42877.0, \"new_confirmed_cases_seven_day_total\": 186529.0, \"deaths\": 16829.0, \"deaths_per_100k\": 73.58694396469436, \"new_deaths\": 210.0, \"new_deaths_seven_day_total\": 1064.0, \"new_confirmed_cases_seven_day_average\": 26647.0, \"new_deaths_seven_day_average\": 152.0, \"population\": 22869546, \"new_confirmed_cases_per_100k\": 187.48513853313924, \"new_deaths_per_100k\": 0.918251722181105, \"new_confirmed_cases_seven_day_per_100k\": 815.6217880319969, \"new_deaths_seven_day_per_100k\": 4.652475392384265, \"new_confirmed_cases_seven_day_average_per_100k\": 116.51739829028524, \"new_deaths_seven_day_average_per_100k\": 0.6646393417691807, \"new_confirmed_cases_seven_day_average_per_100k_percent_change\": 0.2115576975538782, \"new_deaths_seven_day_average_per_100k_percent_change\": 0.4860335195530725}, {\"date\": \"2020-12-27\", \"region\": \"Southern California\", \"confirmed_cases\": 1435443.0, \"confirmed_cases_per_100k\": 6276.657175441962, \"new_confirmed_cases\": 22852.0, \"new_confirmed_cases_seven_day_total\": 188050.0, \"deaths\": 16882.0, \"deaths_per_100k\": 73.81869320886388, \"new_deaths\": 53.0, \"new_deaths_seven_day_total\": 1049.0, \"new_confirmed_cases_seven_day_average\": 26864.285714285717, \"new_deaths_seven_day_average\": 149.85714285714286, \"population\": 22869546, \"new_confirmed_cases_per_100k\": 99.92327788229814, \"new_deaths_per_100k\": 0.2317492441695169, \"new_confirmed_cases_seven_day_per_100k\": 822.272554076937, \"new_deaths_seven_day_per_100k\": 4.586885983657044, \"new_confirmed_cases_seven_day_average_per_100k\": 117.46750772527672, \"new_deaths_seven_day_average_per_100k\": 0.6552694262367205, \"new_confirmed_cases_seven_day_average_per_100k_percent_change\": 0.1911548596331203, \"new_deaths_seven_day_average_per_100k_percent_change\": 0.4389574759945132}, {\"date\": \"2020-12-28\", \"region\": \"Southern California\", \"confirmed_cases\": 1477411.0, \"confirmed_cases_per_100k\": 6460.167595806231, \"new_confirmed_cases\": 41968.0, \"new_confirmed_cases_seven_day_total\": 191714.0, \"deaths\": 17018.0, \"deaths_per_100k\": 74.41337051465736, \"new_deaths\": 136.0, \"new_deaths_seven_day_total\": 1059.0, \"new_confirmed_cases_seven_day_average\": 27387.714285714286, \"new_deaths_seven_day_average\": 151.28571428571428, \"population\": 22869546, \"new_confirmed_cases_per_100k\": 183.5104203642696, \"new_deaths_per_100k\": 0.5946773057934774, \"new_confirmed_cases_seven_day_per_100k\": 838.2938603153731, \"new_deaths_seven_day_per_100k\": 4.630612256141858, \"new_confirmed_cases_seven_day_average_per_100k\": 119.75626575933902, \"new_deaths_seven_day_average_per_100k\": 0.6615160365916939, \"new_confirmed_cases_seven_day_average_per_100k_percent_change\": 0.1780385891606244, \"new_deaths_seven_day_average_per_100k_percent_change\": 0.4026490066225163}, {\"date\": \"2020-12-29\", \"region\": \"Southern California\", \"confirmed_cases\": 1503938.0, \"confirmed_cases_per_100k\": 6576.160278826698, \"new_confirmed_cases\": 26527.0, \"new_confirmed_cases_seven_day_total\": 194709.0, \"deaths\": 17389.0, \"deaths_per_100k\": 76.03561522384398, \"new_deaths\": 371.0, \"new_deaths_seven_day_total\": 1237.0, \"new_confirmed_cases_seven_day_average\": 27815.571428571428, \"new_deaths_seven_day_average\": 176.71428571428572, \"population\": 22869546, \"new_confirmed_cases_per_100k\": 115.9926830204675, \"new_deaths_per_100k\": 1.6222447091866186, \"new_confirmed_cases_seven_day_per_100k\": 851.3898789245751, \"new_deaths_seven_day_per_100k\": 5.408939906371556, \"new_confirmed_cases_seven_day_average_per_100k\": 121.62712556065358, \"new_deaths_seven_day_average_per_100k\": 0.7727057009102225, \"new_confirmed_cases_seven_day_average_per_100k_percent_change\": 0.2358082205691944, \"new_deaths_seven_day_average_per_100k_percent_change\": 0.5658227848101272}, {\"date\": \"2020-12-30\", \"region\": \"Southern California\", \"confirmed_cases\": 1528481.0, \"confirmed_cases_per_100k\": 6683.477669386179, \"new_confirmed_cases\": 24543.0, \"new_confirmed_cases_seven_day_total\": 186158.0, \"deaths\": 17744.0, \"deaths_per_100k\": 77.58789789705489, \"new_deaths\": 355.0, \"new_deaths_seven_day_total\": 1369.0, \"new_confirmed_cases_seven_day_average\": 26594.0, \"new_deaths_seven_day_average\": 195.57142857142856, \"population\": 22869546, \"new_confirmed_cases_per_100k\": 107.31739055948027, \"new_deaths_per_100k\": 1.5522826732109154, \"new_confirmed_cases_seven_day_per_100k\": 813.9995433228102, \"new_deaths_seven_day_per_100k\": 5.9861267031711085, \"new_confirmed_cases_seven_day_average_per_100k\": 116.28564904611576, \"new_deaths_seven_day_average_per_100k\": 0.8551609575958727, \"new_confirmed_cases_seven_day_average_per_100k_percent_change\": 0.0585519245313062, \"new_deaths_seven_day_average_per_100k_percent_change\": 0.4215991692627208}, {\"date\": \"2020-12-31\", \"region\": \"Southern California\", \"confirmed_cases\": 1550325.0, \"confirmed_cases_per_100k\": 6778.993339002007, \"new_confirmed_cases\": 21844.0, \"new_confirmed_cases_seven_day_total\": 183666.0, \"deaths\": 18147.0, \"deaths_per_100k\": 79.3500666781929, \"new_deaths\": 403.0, \"new_deaths_seven_day_total\": 1548.0, \"new_confirmed_cases_seven_day_average\": 26238.0, \"new_deaths_seven_day_average\": 221.14285714285717, \"population\": 22869546, \"new_confirmed_cases_per_100k\": 95.51566961582884, \"new_deaths_per_100k\": 1.762168781138025, \"new_confirmed_cases_seven_day_per_100k\": 803.1029562195945, \"new_deaths_seven_day_per_100k\": 6.768826980649288, \"new_confirmed_cases_seven_day_average_per_100k\": 114.72899374565634, \"new_deaths_seven_day_average_per_100k\": 0.9669752829498984, \"new_confirmed_cases_seven_day_average_per_100k_percent_change\": -0.0300440970663569, \"new_deaths_seven_day_average_per_100k_percent_change\": 0.4631379962192818}, {\"date\": \"2021-01-01\", \"region\": \"Southern California\", \"confirmed_cases\": 1573880.0, \"confirmed_cases_per_100k\": 6881.990573839988, \"new_confirmed_cases\": 23555.0, \"new_confirmed_cases_seven_day_total\": 204166.0, \"deaths\": 18398.0, \"deaths_per_100k\": 80.44759611756176, \"new_deaths\": 251.0, \"new_deaths_seven_day_total\": 1779.0, \"new_confirmed_cases_seven_day_average\": 29166.571428571428, \"new_deaths_seven_day_average\": 254.14285714285717, \"population\": 22869546, \"new_confirmed_cases_per_100k\": 102.9972348379806, \"new_deaths_per_100k\": 1.0975294393688446, \"new_confirmed_cases_seven_day_per_100k\": 892.7418148134641, \"new_deaths_seven_day_per_100k\": 7.778903875048504, \"new_confirmed_cases_seven_day_average_per_100k\": 127.534544973352, \"new_deaths_seven_day_average_per_100k\": 1.111271982149786, \"new_confirmed_cases_seven_day_average_per_100k_percent_change\": 0.0091989817354982, \"new_deaths_seven_day_average_per_100k_percent_change\": 0.641143911439114}, {\"date\": \"2021-01-02\", \"region\": \"Southern California\", \"confirmed_cases\": 1599316.0, \"confirmed_cases_per_100k\": 6993.212720532361, \"new_confirmed_cases\": 25436.0, \"new_confirmed_cases_seven_day_total\": 186725.0, \"deaths\": 18560.0, \"deaths_per_100k\": 81.15596173181575, \"new_deaths\": 162.0, \"new_deaths_seven_day_total\": 1731.0, \"new_confirmed_cases_seven_day_average\": 26675.0, \"new_deaths_seven_day_average\": 247.28571428571428, \"population\": 22869546, \"new_confirmed_cases_per_100k\": 111.2221466923742, \"new_deaths_per_100k\": 0.7083656142539952, \"new_confirmed_cases_seven_day_per_100k\": 816.4788229726992, \"new_deaths_seven_day_per_100k\": 7.569017767121394, \"new_confirmed_cases_seven_day_average_per_100k\": 116.63983185324274, \"new_deaths_seven_day_average_per_100k\": 1.081288252445913, \"new_confirmed_cases_seven_day_average_per_100k_percent_change\": -0.0981864721933786, \"new_deaths_seven_day_average_per_100k_percent_change\": 0.5793795620437956}, {\"date\": \"2021-01-03\", \"region\": \"Southern California\", \"confirmed_cases\": 1615635.0, \"confirmed_cases_per_100k\": 7064.569624600331, \"new_confirmed_cases\": 16319.0, \"new_confirmed_cases_seven_day_total\": 180192.0, \"deaths\": 18647.0, \"deaths_per_100k\": 81.53638030243364, \"new_deaths\": 87.0, \"new_deaths_seven_day_total\": 1765.0, \"new_confirmed_cases_seven_day_average\": 25741.714285714286, \"new_deaths_seven_day_average\": 252.14285714285717, \"population\": 22869546, \"new_confirmed_cases_per_100k\": 71.35690406796881, \"new_deaths_per_100k\": 0.3804185706178863, \"new_confirmed_cases_seven_day_per_100k\": 787.9124491583699, \"new_deaths_seven_day_per_100k\": 7.717687093569763, \"new_confirmed_cases_seven_day_average_per_100k\": 112.55892130833855, \"new_deaths_seven_day_average_per_100k\": 1.1025267276528232, \"new_confirmed_cases_seven_day_average_per_100k_percent_change\": -0.1334923443871661, \"new_deaths_seven_day_average_per_100k_percent_change\": 0.5958408679927667}, {\"date\": \"2021-01-04\", \"region\": \"Southern California\", \"confirmed_cases\": 1670637.0, \"confirmed_cases_per_100k\": 7305.072868521308, \"new_confirmed_cases\": 55002.0, \"new_confirmed_cases_seven_day_total\": 193226.0, \"deaths\": 18910.0, \"deaths_per_100k\": 82.68638126878426, \"new_deaths\": 263.0, \"new_deaths_seven_day_total\": 1892.0, \"new_confirmed_cases_seven_day_average\": 27603.714285714286, \"new_deaths_seven_day_average\": 270.2857142857143, \"population\": 22869546, \"new_confirmed_cases_per_100k\": 240.50324392097684, \"new_deaths_per_100k\": 1.150000966350622, \"new_confirmed_cases_seven_day_per_100k\": 844.905272715077, \"new_deaths_seven_day_per_100k\": 8.273010754126908, \"new_confirmed_cases_seven_day_average_per_100k\": 120.70075324501104, \"new_deaths_seven_day_average_per_100k\": 1.1818586791609869, \"new_confirmed_cases_seven_day_average_per_100k_percent_change\": -0.1257335474967761, \"new_deaths_seven_day_average_per_100k_percent_change\": 0.6466492602262839}, {\"date\": \"2021-01-05\", \"region\": \"Southern California\", \"confirmed_cases\": 1699504.0, \"confirmed_cases_per_100k\": 7431.297499303221, \"new_confirmed_cases\": 28867.0, \"new_confirmed_cases_seven_day_total\": 195566.0, \"deaths\": 19240.0, \"deaths_per_100k\": 84.12934826078315, \"new_deaths\": 330.0, \"new_deaths_seven_day_total\": 1851.0, \"new_confirmed_cases_seven_day_average\": 27938.0, \"new_deaths_seven_day_average\": 264.42857142857144, \"population\": 22869546, \"new_confirmed_cases_per_100k\": 126.22463078191409, \"new_deaths_per_100k\": 1.4429669919988792, \"new_confirmed_cases_seven_day_per_100k\": 855.1372204765238, \"new_deaths_seven_day_per_100k\": 8.093733036939167, \"new_confirmed_cases_seven_day_average_per_100k\": 122.1624600680748, \"new_deaths_seven_day_average_per_100k\": 1.1562475767055955, \"new_confirmed_cases_seven_day_average_per_100k_percent_change\": -0.1309684099200583, \"new_deaths_seven_day_average_per_100k_percent_change\": 0.595689655172414}, {\"date\": \"2021-01-06\", \"region\": \"Southern California\", \"confirmed_cases\": 1726160.0, \"confirmed_cases_per_100k\": 7547.854251238743, \"new_confirmed_cases\": 26656.0, \"new_confirmed_cases_seven_day_total\": 197679.0, \"deaths\": 19637.0, \"deaths_per_100k\": 85.86528127843027, \"new_deaths\": 397.0, \"new_deaths_seven_day_total\": 1893.0, \"new_confirmed_cases_seven_day_average\": 28239.85714285714, \"new_deaths_seven_day_average\": 270.42857142857144, \"population\": 22869546, \"new_confirmed_cases_per_100k\": 116.5567519355216, \"new_deaths_per_100k\": 1.7359330176471366, \"new_confirmed_cases_seven_day_per_100k\": 864.376581852565, \"new_deaths_seven_day_per_100k\": 8.277383381375389, \"new_confirmed_cases_seven_day_average_per_100k\": 123.48236883608072, \"new_deaths_seven_day_average_per_100k\": 1.1824833401964845, \"new_confirmed_cases_seven_day_average_per_100k_percent_change\": -0.0976487074966562, \"new_deaths_seven_day_average_per_100k_percent_change\": 0.7447004608294934}, {\"date\": \"2021-01-07\", \"region\": \"Southern California\", \"confirmed_cases\": 1755692.0, \"confirmed_cases_per_100k\": 7676.986679140898, \"new_confirmed_cases\": 29532.0, \"new_confirmed_cases_seven_day_total\": 205367.0, \"deaths\": 19975.0, \"deaths_per_100k\": 87.343229288417, \"new_deaths\": 338.0, \"new_deaths_seven_day_total\": 1828.0, \"new_confirmed_cases_seven_day_average\": 29338.14285714286, \"new_deaths_seven_day_average\": 261.1428571428572, \"population\": 22869546, \"new_confirmed_cases_per_100k\": 129.13242790215423, \"new_deaths_per_100k\": 1.4779480099867308, \"new_confirmed_cases_seven_day_per_100k\": 897.9933401388904, \"new_deaths_seven_day_per_100k\": 7.993162610224094, \"new_confirmed_cases_seven_day_average_per_100k\": 128.28476287698433, \"new_deaths_seven_day_average_per_100k\": 1.1418803728891564, \"new_confirmed_cases_seven_day_average_per_100k_percent_change\": 0.0022253563742304, \"new_deaths_seven_day_average_per_100k_percent_change\": 0.6572982774252039}, {\"date\": \"2021-01-08\", \"region\": \"Southern California\", \"confirmed_cases\": 1790160.0, \"confirmed_cases_per_100k\": 7827.702395141556, \"new_confirmed_cases\": 34468.0, \"new_confirmed_cases_seven_day_total\": 216280.0, \"deaths\": 20442.0, \"deaths_per_100k\": 89.38524621345785, \"new_deaths\": 467.0, \"new_deaths_seven_day_total\": 2044.0, \"new_confirmed_cases_seven_day_average\": 30897.14285714286, \"new_deaths_seven_day_average\": 292.0, \"population\": 22869546, \"new_confirmed_cases_per_100k\": 150.7157160006587, \"new_deaths_per_100k\": 2.042016925040838, \"new_confirmed_cases_seven_day_per_100k\": 945.7118213015684, \"new_deaths_seven_day_per_100k\": 8.937650095896089, \"new_confirmed_cases_seven_day_average_per_100k\": 135.10168875736693, \"new_deaths_seven_day_average_per_100k\": 1.276807156556584, \"new_confirmed_cases_seven_day_average_per_100k_percent_change\": 0.2746045590627284, \"new_deaths_seven_day_average_per_100k_percent_change\": 1.0964102564102562}, {\"date\": \"2021-01-09\", \"region\": \"Southern California\", \"confirmed_cases\": 1820359.0, \"confirmed_cases_per_100k\": 7959.751365418448, \"new_confirmed_cases\": 30199.0, \"new_confirmed_cases_seven_day_total\": 221043.0, \"deaths\": 20802.0, \"deaths_per_100k\": 90.95939202291116, \"new_deaths\": 360.0, \"new_deaths_seven_day_total\": 2242.0, \"new_confirmed_cases_seven_day_average\": 31577.571428571428, \"new_deaths_seven_day_average\": 320.2857142857143, \"population\": 22869546, \"new_confirmed_cases_per_100k\": 132.04897027689137, \"new_deaths_per_100k\": 1.5741458094533227, \"new_confirmed_cases_seven_day_per_100k\": 966.5386448860856, \"new_deaths_seven_day_per_100k\": 9.803430291095417, \"new_confirmed_cases_seven_day_average_per_100k\": 138.0769492694408, \"new_deaths_seven_day_average_per_100k\": 1.4004900415850594, \"new_confirmed_cases_seven_day_average_per_100k_percent_change\": 0.1850328903280456, \"new_deaths_seven_day_average_per_100k_percent_change\": 1.1071428571428572}, {\"date\": \"2021-01-10\", \"region\": \"Southern California\", \"confirmed_cases\": 1844753.0, \"confirmed_cases_per_100k\": 8066.417234517904, \"new_confirmed_cases\": 24394.0, \"new_confirmed_cases_seven_day_total\": 229118.0, \"deaths\": 21058.0, \"deaths_per_100k\": 92.07878459852242, \"new_deaths\": 256.0, \"new_deaths_seven_day_total\": 2411.0, \"new_confirmed_cases_seven_day_average\": 32731.14285714286, \"new_deaths_seven_day_average\": 344.42857142857144, \"population\": 22869546, \"new_confirmed_cases_per_100k\": 106.66586909945654, \"new_deaths_per_100k\": 1.1193925756112515, \"new_confirmed_cases_seven_day_per_100k\": 1001.8476099175732, \"new_deaths_seven_day_per_100k\": 10.54240429608878, \"new_confirmed_cases_seven_day_average_per_100k\": 143.1210871310819, \"new_deaths_seven_day_average_per_100k\": 1.5060577565841118, \"new_confirmed_cases_seven_day_average_per_100k_percent_change\": 0.2183887264025525, \"new_deaths_seven_day_average_per_100k_percent_change\": 1.2983794089609155}, {\"date\": \"2021-01-11\", \"region\": \"Southern California\", \"confirmed_cases\": 1880374.0, \"confirmed_cases_per_100k\": 8222.174589736062, \"new_confirmed_cases\": 35621.0, \"new_confirmed_cases_seven_day_total\": 209737.0, \"deaths\": 21299.0, \"deaths_per_100k\": 93.13258776540646, \"new_deaths\": 241.0, \"new_deaths_seven_day_total\": 2389.0, \"new_confirmed_cases_seven_day_average\": 29962.42857142857, \"new_deaths_seven_day_average\": 341.2857142857143, \"population\": 22869546, \"new_confirmed_cases_per_100k\": 155.7573552181578, \"new_deaths_per_100k\": 1.05380316688403, \"new_confirmed_cases_seven_day_per_100k\": 917.1017212147544, \"new_deaths_seven_day_per_100k\": 10.446206496622189, \"new_confirmed_cases_seven_day_average_per_100k\": 131.01453160210775, \"new_deaths_seven_day_average_per_100k\": 1.49231521380317, \"new_confirmed_cases_seven_day_average_per_100k_percent_change\": 0.0940098271383413, \"new_deaths_seven_day_average_per_100k_percent_change\": 1.2559017941454207}, {\"date\": \"2021-01-12\", \"region\": \"Southern California\", \"confirmed_cases\": 1919185.0, \"confirmed_cases_per_100k\": 8391.880625876876, \"new_confirmed_cases\": 38811.0, \"new_confirmed_cases_seven_day_total\": 219681.0, \"deaths\": 21771.0, \"deaths_per_100k\": 95.1964678266897, \"new_deaths\": 472.0, \"new_deaths_seven_day_total\": 2531.0, \"new_confirmed_cases_seven_day_average\": 31383.0, \"new_deaths_seven_day_average\": 361.57142857142856, \"population\": 22869546, \"new_confirmed_cases_per_100k\": 169.70603614081364, \"new_deaths_per_100k\": 2.0638800612832453, \"new_confirmed_cases_seven_day_per_100k\": 960.583126573654, \"new_deaths_seven_day_per_100k\": 11.067119565906555, \"new_confirmed_cases_seven_day_average_per_100k\": 137.2261609390934, \"new_deaths_seven_day_average_per_100k\": 1.5810170808437936, \"new_confirmed_cases_seven_day_average_per_100k_percent_change\": 0.1282529312974745, \"new_deaths_seven_day_average_per_100k_percent_change\": 1.0460792239288597}, {\"date\": \"2021-01-13\", \"region\": \"Southern California\", \"confirmed_cases\": 1948547.0, \"confirmed_cases_per_100k\": 8520.269707146788, \"new_confirmed_cases\": 29362.0, \"new_confirmed_cases_seven_day_total\": 222387.0, \"deaths\": 22168.0, \"deaths_per_100k\": 96.93240084433684, \"new_deaths\": 397.0, \"new_deaths_seven_day_total\": 2531.0, \"new_confirmed_cases_seven_day_average\": 31769.571428571428, \"new_deaths_seven_day_average\": 361.57142857142856, \"population\": 22869546, \"new_confirmed_cases_per_100k\": 128.3890812699124, \"new_deaths_per_100k\": 1.7359330176471366, \"new_confirmed_cases_seven_day_per_100k\": 972.4154559080448, \"new_deaths_seven_day_per_100k\": 11.067119565906555, \"new_confirmed_cases_seven_day_average_per_100k\": 138.91649370114922, \"new_deaths_seven_day_average_per_100k\": 1.5810170808437936, \"new_confirmed_cases_seven_day_average_per_100k_percent_change\": 0.1946142524092433, \"new_deaths_seven_day_average_per_100k_percent_change\": 0.8487947406866321}, {\"date\": \"2021-01-14\", \"region\": \"Southern California\", \"confirmed_cases\": 1978262.0, \"confirmed_cases_per_100k\": 8650.202325835415, \"new_confirmed_cases\": 29715.0, \"new_confirmed_cases_seven_day_total\": 222570.0, \"deaths\": 22643.0, \"deaths_per_100k\": 99.00939878736553, \"new_deaths\": 475.0, \"new_deaths_seven_day_total\": 2668.0, \"new_confirmed_cases_seven_day_average\": 31795.714285714286, \"new_deaths_seven_day_average\": 381.1428571428572, \"population\": 22869546, \"new_confirmed_cases_per_100k\": 129.93261868862635, \"new_deaths_per_100k\": 2.07699794302869, \"new_confirmed_cases_seven_day_per_100k\": 973.2156466945167, \"new_deaths_seven_day_per_100k\": 11.666169498948516, \"new_confirmed_cases_seven_day_average_per_100k\": 139.03080667064526, \"new_deaths_seven_day_average_per_100k\": 1.6665956427069308, \"new_confirmed_cases_seven_day_average_per_100k_percent_change\": 0.2118192806507466, \"new_deaths_seven_day_average_per_100k_percent_change\": 0.7235142118863052}, {\"date\": \"2021-01-15\", \"region\": \"Southern California\", \"confirmed_cases\": 2005223.0, \"confirmed_cases_per_100k\": 8768.092729081722, \"new_confirmed_cases\": 26961.0, \"new_confirmed_cases_seven_day_total\": 215063.0, \"deaths\": 23159.0, \"deaths_per_100k\": 101.26567444758196, \"new_deaths\": 516.0, \"new_deaths_seven_day_total\": 2717.0, \"new_confirmed_cases_seven_day_average\": 30723.285714285717, \"new_deaths_seven_day_average\": 388.1428571428572, \"population\": 22869546, \"new_confirmed_cases_per_100k\": 117.89040324630842, \"new_deaths_per_100k\": 2.2562756602164296, \"new_confirmed_cases_seven_day_per_100k\": 940.3903339401664, \"new_deaths_seven_day_per_100k\": 11.880428234124103, \"new_confirmed_cases_seven_day_average_per_100k\": 134.34147627716663, \"new_deaths_seven_day_average_per_100k\": 1.697204033446301, \"new_confirmed_cases_seven_day_average_per_100k_percent_change\": 0.0533732355044425, \"new_deaths_seven_day_average_per_100k_percent_change\": 0.5272625070264196}]}}, {\"mode\": \"vega-lite\"});\n",
       "</script>"
      ],
      "text/plain": [
       "alt.Chart(...)"
      ]
     },
     "execution_count": 13,
     "metadata": {},
     "output_type": "execute_result"
    }
   ],
   "source": [
    "alt.Chart(socal).mark_line().encode(\n",
    "    x=alt.X(\n",
    "        \"date:T\",\n",
    "        axis=alt.Axis(tickCount=2, format=(\"%b. %-d\"), grid=False, tickColor=\"#ffffff\"),\n",
    "    ),\n",
    "    y=alt.Y(\n",
    "        \"new_confirmed_cases_seven_day_per_100k\",\n",
    "        title=\"\",\n",
    "        axis=alt.Axis(tickColor=\"#ffffff\"),\n",
    "    ),\n",
    ").properties(width=500, height=300).configure_axis()"
   ]
  },
  {
   "cell_type": "markdown",
   "id": "difficult-florida",
   "metadata": {},
   "source": [
    "---"
   ]
  },
  {
   "cell_type": "code",
   "execution_count": 14,
   "id": "dress-emerald",
   "metadata": {},
   "outputs": [],
   "source": [
    "cases = pd.read_csv(\n",
    "    \"../../coronavirus-tracker/_notebooks/data/processed/places/timeseries.csv\",\n",
    "    low_memory=False,\n",
    ")"
   ]
  },
  {
   "cell_type": "markdown",
   "id": "touched-commodity",
   "metadata": {},
   "source": [
    "### Get places in Los Angeles County"
   ]
  },
  {
   "cell_type": "code",
   "execution_count": 15,
   "id": "alert-costume",
   "metadata": {},
   "outputs": [],
   "source": [
    "places = cases[(cases[\"zcta_id\"].isna()) & (cases[\"county\"] == \"Los Angeles\")]"
   ]
  },
  {
   "cell_type": "code",
   "execution_count": 16,
   "id": "quiet-transfer",
   "metadata": {},
   "outputs": [],
   "source": [
    "places_latest = places[places[\"date\"] == places[\"date\"].max()][\n",
    "    [\n",
    "        \"name\",\n",
    "        \"date\",\n",
    "        \"new_confirmed_cases_seven_day_per_100k\",\n",
    "        \"new_confirmed_cases_seven_day_total\",\n",
    "        \"population\",\n",
    "    ]\n",
    "]"
   ]
  },
  {
   "cell_type": "code",
   "execution_count": 17,
   "id": "solar-catalog",
   "metadata": {},
   "outputs": [
    {
     "data": {
      "text/plain": [
       "334"
      ]
     },
     "execution_count": 17,
     "metadata": {},
     "output_type": "execute_result"
    }
   ],
   "source": [
    "len(places_latest)"
   ]
  },
  {
   "cell_type": "code",
   "execution_count": 18,
   "id": "collected-allah",
   "metadata": {},
   "outputs": [
    {
     "data": {
      "text/html": [
       "<div>\n",
       "<style scoped>\n",
       "    .dataframe tbody tr th:only-of-type {\n",
       "        vertical-align: middle;\n",
       "    }\n",
       "\n",
       "    .dataframe tbody tr th {\n",
       "        vertical-align: top;\n",
       "    }\n",
       "\n",
       "    .dataframe thead th {\n",
       "        text-align: right;\n",
       "    }\n",
       "</style>\n",
       "<table border=\"1\" class=\"dataframe\">\n",
       "  <thead>\n",
       "    <tr style=\"text-align: right;\">\n",
       "      <th></th>\n",
       "      <th>name</th>\n",
       "      <th>date</th>\n",
       "      <th>new_confirmed_cases_seven_day_per_100k</th>\n",
       "      <th>new_confirmed_cases_seven_day_total</th>\n",
       "      <th>population</th>\n",
       "    </tr>\n",
       "  </thead>\n",
       "  <tbody>\n",
       "    <tr>\n",
       "      <th>66956</th>\n",
       "      <td>Acton</td>\n",
       "      <td>2021-02-10</td>\n",
       "      <td>112.909296</td>\n",
       "      <td>9.0</td>\n",
       "      <td>7971.0</td>\n",
       "    </tr>\n",
       "    <tr>\n",
       "      <th>67288</th>\n",
       "      <td>Adams-Normandie</td>\n",
       "      <td>2021-02-10</td>\n",
       "      <td>329.188003</td>\n",
       "      <td>27.0</td>\n",
       "      <td>8202.0</td>\n",
       "    </tr>\n",
       "    <tr>\n",
       "      <th>67620</th>\n",
       "      <td>Agoura Hills</td>\n",
       "      <td>2021-02-10</td>\n",
       "      <td>114.926016</td>\n",
       "      <td>24.0</td>\n",
       "      <td>20883.0</td>\n",
       "    </tr>\n",
       "    <tr>\n",
       "      <th>67952</th>\n",
       "      <td>Agua Dulce</td>\n",
       "      <td>2021-02-10</td>\n",
       "      <td>264.550265</td>\n",
       "      <td>11.0</td>\n",
       "      <td>4158.0</td>\n",
       "    </tr>\n",
       "    <tr>\n",
       "      <th>68284</th>\n",
       "      <td>Alhambra</td>\n",
       "      <td>2021-02-10</td>\n",
       "      <td>167.197085</td>\n",
       "      <td>145.0</td>\n",
       "      <td>86724.0</td>\n",
       "    </tr>\n",
       "  </tbody>\n",
       "</table>\n",
       "</div>"
      ],
      "text/plain": [
       "                  name        date  new_confirmed_cases_seven_day_per_100k  \\\n",
       "66956            Acton  2021-02-10                              112.909296   \n",
       "67288  Adams-Normandie  2021-02-10                              329.188003   \n",
       "67620     Agoura Hills  2021-02-10                              114.926016   \n",
       "67952       Agua Dulce  2021-02-10                              264.550265   \n",
       "68284         Alhambra  2021-02-10                              167.197085   \n",
       "\n",
       "       new_confirmed_cases_seven_day_total  population  \n",
       "66956                                  9.0      7971.0  \n",
       "67288                                 27.0      8202.0  \n",
       "67620                                 24.0     20883.0  \n",
       "67952                                 11.0      4158.0  \n",
       "68284                                145.0     86724.0  "
      ]
     },
     "execution_count": 18,
     "metadata": {},
     "output_type": "execute_result"
    }
   ],
   "source": [
    "places_latest.head()"
   ]
  },
  {
   "cell_type": "markdown",
   "id": "asian-southwest",
   "metadata": {},
   "source": [
    "### What's the distribution of population by place? "
   ]
  },
  {
   "cell_type": "code",
   "execution_count": 19,
   "id": "beginning-correction",
   "metadata": {},
   "outputs": [
    {
     "data": {
      "text/plain": [
       "16464.5"
      ]
     },
     "execution_count": 19,
     "metadata": {},
     "output_type": "execute_result"
    }
   ],
   "source": [
    "places_latest.population.median()"
   ]
  },
  {
   "cell_type": "code",
   "execution_count": 20,
   "id": "static-organization",
   "metadata": {},
   "outputs": [
    {
     "data": {
      "text/plain": [
       "34448.38930503192"
      ]
     },
     "execution_count": 20,
     "metadata": {},
     "output_type": "execute_result"
    }
   ],
   "source": [
    "places_latest.population.std()"
   ]
  },
  {
   "cell_type": "code",
   "execution_count": 21,
   "id": "surface-alert",
   "metadata": {},
   "outputs": [],
   "source": [
    "pop_histogram = (\n",
    "    alt.Chart(places_latest)\n",
    "    .mark_bar()\n",
    "    .encode(\n",
    "        alt.X(\"population:Q\", bin=alt.Bin(maxbins=25), title=\"Population ranges\"),\n",
    "        alt.Y(\"count()\", title=\"Places in population range\"),\n",
    "    )\n",
    ")"
   ]
  },
  {
   "cell_type": "code",
   "execution_count": 22,
   "id": "quarterly-basis",
   "metadata": {},
   "outputs": [
    {
     "data": {
      "text/html": [
       "\n",
       "<div id=\"altair-viz-234967803f2842f58677d1e410f7ff6f\"></div>\n",
       "<script type=\"text/javascript\">\n",
       "  (function(spec, embedOpt){\n",
       "    let outputDiv = document.currentScript.previousElementSibling;\n",
       "    if (outputDiv.id !== \"altair-viz-234967803f2842f58677d1e410f7ff6f\") {\n",
       "      outputDiv = document.getElementById(\"altair-viz-234967803f2842f58677d1e410f7ff6f\");\n",
       "    }\n",
       "    const paths = {\n",
       "      \"vega\": \"https://cdn.jsdelivr.net/npm//vega@5?noext\",\n",
       "      \"vega-lib\": \"https://cdn.jsdelivr.net/npm//vega-lib?noext\",\n",
       "      \"vega-lite\": \"https://cdn.jsdelivr.net/npm//vega-lite@4.8.1?noext\",\n",
       "      \"vega-embed\": \"https://cdn.jsdelivr.net/npm//vega-embed@6?noext\",\n",
       "    };\n",
       "\n",
       "    function loadScript(lib) {\n",
       "      return new Promise(function(resolve, reject) {\n",
       "        var s = document.createElement('script');\n",
       "        s.src = paths[lib];\n",
       "        s.async = true;\n",
       "        s.onload = () => resolve(paths[lib]);\n",
       "        s.onerror = () => reject(`Error loading script: ${paths[lib]}`);\n",
       "        document.getElementsByTagName(\"head\")[0].appendChild(s);\n",
       "      });\n",
       "    }\n",
       "\n",
       "    function showError(err) {\n",
       "      outputDiv.innerHTML = `<div class=\"error\" style=\"color:red;\">${err}</div>`;\n",
       "      throw err;\n",
       "    }\n",
       "\n",
       "    function displayChart(vegaEmbed) {\n",
       "      vegaEmbed(outputDiv, spec, embedOpt)\n",
       "        .catch(err => showError(`Javascript Error: ${err.message}<br>This usually means there's a typo in your chart specification. See the javascript console for the full traceback.`));\n",
       "    }\n",
       "\n",
       "    if(typeof define === \"function\" && define.amd) {\n",
       "      requirejs.config({paths});\n",
       "      require([\"vega-embed\"], displayChart, err => showError(`Error loading script: ${err.message}`));\n",
       "    } else if (typeof vegaEmbed === \"function\") {\n",
       "      displayChart(vegaEmbed);\n",
       "    } else {\n",
       "      loadScript(\"vega\")\n",
       "        .then(() => loadScript(\"vega-lite\"))\n",
       "        .then(() => loadScript(\"vega-embed\"))\n",
       "        .catch(showError)\n",
       "        .then(() => displayChart(vegaEmbed));\n",
       "    }\n",
       "  })({\"config\": {\"view\": {\"width\": 800, \"height\": 450}, \"background\": \"#ffffff\", \"title\": {\"anchor\": \"start\", \"font\": \"Benton Gothic Bold, sans\", \"fontColor\": \"#000000\", \"fontSize\": 22, \"fontWeight\": \"normal\"}, \"arc\": {\"fill\": \"#82c6df\"}, \"area\": {\"fill\": \"#82c6df\"}, \"line\": {\"stroke\": \"#82c6df\", \"strokeWidth\": 3}, \"path\": {\"stroke\": \"#82c6df\"}, \"rect\": {\"fill\": \"#82c6df\"}, \"shape\": {\"stroke\": \"#82c6df\"}, \"bar\": {\"fill\": \"#82c6df\"}, \"point\": {\"stroke\": \"#82c6df\"}, \"symbol\": {\"fill\": \"#82c6df\", \"size\": 30}, \"axis\": {\"titleFont\": \"Benton Gothic Bold, sans\", \"titleFontSize\": 13, \"titleFontWeight\": \"normal\", \"labelFont\": \"Benton Gothic, sans\", \"labelFontSize\": 11.5, \"labelFontWeight\": \"normal\"}, \"axisX\": {\"labelAngle\": 0, \"labelPadding\": 4, \"tickSize\": 3}, \"axisY\": {\"labelBaseline\": \"middle\", \"maxExtent\": 45, \"minExtent\": 45, \"tickSize\": 2, \"titleAlign\": \"left\", \"titleAngle\": 0, \"titleX\": -45, \"titleY\": -11}, \"legend\": {\"titleFont\": \"Benton Gothic Bold, sans\", \"titleFontSize\": 13, \"titleFontWeight\": \"normal\", \"symbolType\": \"square\", \"labelFont\": \"Benton Gothic, sans\", \"labelFontSize\": 11.5}, \"range\": {\"category\": [\"#3580b1\", \"#ec8431\", \"#ab7fb4\", \"#c89d29\", \"#adc839\", \"#829eb1\"], \"diverging\": [\"#e68a4f\", \"#f4bb6a\", \"#f9e39c\", \"#dadfe2\", \"#a6b7c6\", \"#849eae\"], \"heatmap\": [\"#fbf2c7\", \"#f9e39c\", \"#f8d36e\", \"#f4bb6a\", \"#e68a4f\", \"#d15a40\", \"#ab4232\"], \"ordinal\": [\"#fbf2c7\", \"#f9e39c\", \"#f8d36e\", \"#f4bb6a\", \"#e68a4f\", \"#d15a40\", \"#ab4232\"], \"ramp\": [\"#fbf2c7\", \"#f9e39c\", \"#f8d36e\", \"#f4bb6a\", \"#e68a4f\", \"#d15a40\", \"#ab4232\"]}}, \"data\": {\"name\": \"data-69b2097865c19a32782d458a771df9c4\"}, \"mark\": \"bar\", \"encoding\": {\"x\": {\"type\": \"quantitative\", \"bin\": {\"maxbins\": 25}, \"field\": \"population\", \"title\": \"Population ranges\"}, \"y\": {\"type\": \"quantitative\", \"aggregate\": \"count\", \"title\": \"Places in population range\"}}, \"$schema\": \"https://vega.github.io/schema/vega-lite/v4.8.1.json\", \"datasets\": {\"data-69b2097865c19a32782d458a771df9c4\": [{\"name\": \"Acton\", \"date\": \"2021-02-10\", \"new_confirmed_cases_seven_day_per_100k\": 112.90929619872036, \"new_confirmed_cases_seven_day_total\": 9.0, \"population\": 7971.0}, {\"name\": \"Adams-Normandie\", \"date\": \"2021-02-10\", \"new_confirmed_cases_seven_day_per_100k\": 329.1880029261156, \"new_confirmed_cases_seven_day_total\": 27.0, \"population\": 8202.0}, {\"name\": \"Agoura Hills\", \"date\": \"2021-02-10\", \"new_confirmed_cases_seven_day_per_100k\": 114.92601637695732, \"new_confirmed_cases_seven_day_total\": 24.0, \"population\": 20883.0}, {\"name\": \"Agua Dulce\", \"date\": \"2021-02-10\", \"new_confirmed_cases_seven_day_per_100k\": 264.55026455026456, \"new_confirmed_cases_seven_day_total\": 11.0, \"population\": 4158.0}, {\"name\": \"Alhambra\", \"date\": \"2021-02-10\", \"new_confirmed_cases_seven_day_per_100k\": 167.1970850053042, \"new_confirmed_cases_seven_day_total\": 145.0, \"population\": 86724.0}, {\"name\": \"Alsace\", \"date\": \"2021-02-10\", \"new_confirmed_cases_seven_day_per_100k\": 233.0253113700281, \"new_confirmed_cases_seven_day_total\": 29.0, \"population\": 12445.0}, {\"name\": \"Altadena\", \"date\": \"2021-02-10\", \"new_confirmed_cases_seven_day_per_100k\": 165.06189821182943, \"new_confirmed_cases_seven_day_total\": 72.0, \"population\": 43620.0}, {\"name\": \"Anaverde\", \"date\": \"2021-02-10\", \"new_confirmed_cases_seven_day_per_100k\": 198.93899204244036, \"new_confirmed_cases_seven_day_total\": 3.0, \"population\": 1508.0}, {\"name\": \"Angeles National Forest\", \"date\": \"2021-02-10\", \"new_confirmed_cases_seven_day_per_100k\": null, \"new_confirmed_cases_seven_day_total\": 0.0, \"population\": 40.0}, {\"name\": \"Angelino Heights\", \"date\": \"2021-02-10\", \"new_confirmed_cases_seven_day_per_100k\": 239.8081534772182, \"new_confirmed_cases_seven_day_total\": 6.0, \"population\": 2502.0}, {\"name\": \"Arcadia\", \"date\": \"2021-02-10\", \"new_confirmed_cases_seven_day_per_100k\": 93.50001731481802, \"new_confirmed_cases_seven_day_total\": 54.0, \"population\": 57754.0}, {\"name\": \"Arleta\", \"date\": \"2021-02-10\", \"new_confirmed_cases_seven_day_per_100k\": 349.1416933372127, \"new_confirmed_cases_seven_day_total\": 120.0, \"population\": 34370.0}, {\"name\": \"Artesia\", \"date\": \"2021-02-10\", \"new_confirmed_cases_seven_day_per_100k\": 273.8910389997023, \"new_confirmed_cases_seven_day_total\": 46.0, \"population\": 16795.0}, {\"name\": \"Athens Village\", \"date\": \"2021-02-10\", \"new_confirmed_cases_seven_day_per_100k\": 183.7859914233204, \"new_confirmed_cases_seven_day_total\": 9.0, \"population\": 4897.0}, {\"name\": \"Athens-Westmont\", \"date\": \"2021-02-10\", \"new_confirmed_cases_seven_day_per_100k\": 268.6018566514302, \"new_confirmed_cases_seven_day_total\": 114.0, \"population\": 42442.0}, {\"name\": \"Atwater Village\", \"date\": \"2021-02-10\", \"new_confirmed_cases_seven_day_per_100k\": 170.46229374062457, \"new_confirmed_cases_seven_day_total\": 25.0, \"population\": 14666.0}, {\"name\": \"Avalon\", \"date\": \"2021-02-10\", \"new_confirmed_cases_seven_day_per_100k\": 0.0, \"new_confirmed_cases_seven_day_total\": 0.0, \"population\": 3869.0}, {\"name\": \"Avocado Heights\", \"date\": \"2021-02-10\", \"new_confirmed_cases_seven_day_per_100k\": 280.44280442804427, \"new_confirmed_cases_seven_day_total\": 19.0, \"population\": 6775.0}, {\"name\": \"Azusa\", \"date\": \"2021-02-10\", \"new_confirmed_cases_seven_day_per_100k\": 219.82414068745004, \"new_confirmed_cases_seven_day_total\": 110.0, \"population\": 50040.0}, {\"name\": \"Baldwin Hills\", \"date\": \"2021-02-10\", \"new_confirmed_cases_seven_day_per_100k\": 170.28112449799195, \"new_confirmed_cases_seven_day_total\": 53.0, \"population\": 31125.0}, {\"name\": \"Baldwin Park\", \"date\": \"2021-02-10\", \"new_confirmed_cases_seven_day_per_100k\": 274.85052560278234, \"new_confirmed_cases_seven_day_total\": 211.0, \"population\": 76769.0}, {\"name\": \"Bassett\", \"date\": \"2021-02-10\", \"new_confirmed_cases_seven_day_per_100k\": 384.69325774448265, \"new_confirmed_cases_seven_day_total\": 57.0, \"population\": 14817.0}, {\"name\": \"Bel Air\", \"date\": \"2021-02-10\", \"new_confirmed_cases_seven_day_per_100k\": 47.45521414165381, \"new_confirmed_cases_seven_day_total\": 4.0, \"population\": 8429.0}, {\"name\": \"Bell\", \"date\": \"2021-02-10\", \"new_confirmed_cases_seven_day_per_100k\": 366.06847957723215, \"new_confirmed_cases_seven_day_total\": 133.0, \"population\": 36332.0}, {\"name\": \"Bell Gardens\", \"date\": \"2021-02-10\", \"new_confirmed_cases_seven_day_per_100k\": 287.89672865733326, \"new_confirmed_cases_seven_day_total\": 124.0, \"population\": 43071.0}, {\"name\": \"Bellflower\", \"date\": \"2021-02-10\", \"new_confirmed_cases_seven_day_per_100k\": 218.69170901138483, \"new_confirmed_cases_seven_day_total\": 170.0, \"population\": 77735.0}, {\"name\": \"Beverly Crest\", \"date\": \"2021-02-10\", \"new_confirmed_cases_seven_day_per_100k\": 71.8562874251497, \"new_confirmed_cases_seven_day_total\": 9.0, \"population\": 12525.0}, {\"name\": \"Beverly Hills\", \"date\": \"2021-02-10\", \"new_confirmed_cases_seven_day_per_100k\": 168.01853997682502, \"new_confirmed_cases_seven_day_total\": 58.0, \"population\": 34520.0}, {\"name\": \"Beverlywood\", \"date\": \"2021-02-10\", \"new_confirmed_cases_seven_day_per_100k\": 113.86927806877704, \"new_confirmed_cases_seven_day_total\": 15.0, \"population\": 13173.0}, {\"name\": \"Bouquet Canyon\", \"date\": \"2021-02-10\", \"new_confirmed_cases_seven_day_per_100k\": 93.19664492078284, \"new_confirmed_cases_seven_day_total\": 1.0, \"population\": 1073.0}, {\"name\": \"Boyle Heights\", \"date\": \"2021-02-10\", \"new_confirmed_cases_seven_day_per_100k\": 265.87173702868193, \"new_confirmed_cases_seven_day_total\": 231.0, \"population\": 86884.0}, {\"name\": \"Bradbury\", \"date\": \"2021-02-10\", \"new_confirmed_cases_seven_day_per_100k\": 0.0, \"new_confirmed_cases_seven_day_total\": 0.0, \"population\": 1069.0}, {\"name\": \"Brentwood\", \"date\": \"2021-02-10\", \"new_confirmed_cases_seven_day_per_100k\": 106.6063640768858, \"new_confirmed_cases_seven_day_total\": 33.0, \"population\": 30955.0}, {\"name\": \"Brookside\", \"date\": \"2021-02-10\", \"new_confirmed_cases_seven_day_per_100k\": null, \"new_confirmed_cases_seven_day_total\": 0.0, \"population\": 581.0}, {\"name\": \"Burbank\", \"date\": \"2021-02-10\", \"new_confirmed_cases_seven_day_per_100k\": 183.8029483112521, \"new_confirmed_cases_seven_day_total\": 197.0, \"population\": 107180.0}, {\"name\": \"Cadillac-Corning\", \"date\": \"2021-02-10\", \"new_confirmed_cases_seven_day_per_100k\": 210.64457239151807, \"new_confirmed_cases_seven_day_total\": 15.0, \"population\": 7121.0}, {\"name\": \"Calabasas\", \"date\": \"2021-02-10\", \"new_confirmed_cases_seven_day_per_100k\": 156.23072811741972, \"new_confirmed_cases_seven_day_total\": 38.0, \"population\": 24323.0}, {\"name\": \"Canoga Park\", \"date\": \"2021-02-10\", \"new_confirmed_cases_seven_day_per_100k\": 280.29223912144465, \"new_confirmed_cases_seven_day_total\": 183.0, \"population\": 65289.0}, {\"name\": \"Canyon Country\", \"date\": \"2021-02-10\", \"new_confirmed_cases_seven_day_per_100k\": 297.6190476190476, \"new_confirmed_cases_seven_day_total\": 23.0, \"population\": 7728.0}, {\"name\": \"Carson\", \"date\": \"2021-02-10\", \"new_confirmed_cases_seven_day_per_100k\": 262.1315772648808, \"new_confirmed_cases_seven_day_total\": 246.0, \"population\": 93846.0}, {\"name\": \"Carthay\", \"date\": \"2021-02-10\", \"new_confirmed_cases_seven_day_per_100k\": 48.73633641996798, \"new_confirmed_cases_seven_day_total\": 7.0, \"population\": 14363.0}, {\"name\": \"Castaic\", \"date\": \"2021-02-10\", \"new_confirmed_cases_seven_day_per_100k\": 176.5289985657019, \"new_confirmed_cases_seven_day_total\": 48.0, \"population\": 27191.0}, {\"name\": \"Central\", \"date\": \"2021-02-10\", \"new_confirmed_cases_seven_day_per_100k\": 264.15675010258514, \"new_confirmed_cases_seven_day_total\": 103.0, \"population\": 38992.0}, {\"name\": \"Century City\", \"date\": \"2021-02-10\", \"new_confirmed_cases_seven_day_per_100k\": 62.53908692933083, \"new_confirmed_cases_seven_day_total\": 8.0, \"population\": 12792.0}, {\"name\": \"Century Palms/Cove\", \"date\": \"2021-02-10\", \"new_confirmed_cases_seven_day_per_100k\": 269.5018657821477, \"new_confirmed_cases_seven_day_total\": 91.0, \"population\": 33766.0}, {\"name\": \"Cerritos\", \"date\": \"2021-02-10\", \"new_confirmed_cases_seven_day_per_100k\": 131.8233567020193, \"new_confirmed_cases_seven_day_total\": 66.0, \"population\": 50067.0}, {\"name\": \"Chatsworth\", \"date\": \"2021-02-10\", \"new_confirmed_cases_seven_day_per_100k\": 164.5935080003238, \"new_confirmed_cases_seven_day_total\": 61.0, \"population\": 37061.0}, {\"name\": \"Cheviot Hills\", \"date\": \"2021-02-10\", \"new_confirmed_cases_seven_day_per_100k\": 43.61574528404754, \"new_confirmed_cases_seven_day_total\": 4.0, \"population\": 9171.0}, {\"name\": \"Chinatown\", \"date\": \"2021-02-10\", \"new_confirmed_cases_seven_day_per_100k\": 224.4109213315048, \"new_confirmed_cases_seven_day_total\": 18.0, \"population\": 8021.0}, {\"name\": \"Claremont\", \"date\": \"2021-02-10\", \"new_confirmed_cases_seven_day_per_100k\": 123.34173884442497, \"new_confirmed_cases_seven_day_total\": 45.0, \"population\": 36484.0}, {\"name\": \"Cloverdale/Cochran\", \"date\": \"2021-02-10\", \"new_confirmed_cases_seven_day_per_100k\": 96.2000962000962, \"new_confirmed_cases_seven_day_total\": 14.0, \"population\": 14553.0}, {\"name\": \"Commerce\", \"date\": \"2021-02-10\", \"new_confirmed_cases_seven_day_per_100k\": 229.55084551228097, \"new_confirmed_cases_seven_day_total\": 30.0, \"population\": 13069.0}, {\"name\": \"Compton\", \"date\": \"2021-02-10\", \"new_confirmed_cases_seven_day_per_100k\": 312.2998078155029, \"new_confirmed_cases_seven_day_total\": 312.0, \"population\": 99904.0}, {\"name\": \"Country Club Park\", \"date\": \"2021-02-10\", \"new_confirmed_cases_seven_day_per_100k\": 184.78189137464528, \"new_confirmed_cases_seven_day_total\": 28.0, \"population\": 15153.0}, {\"name\": \"Covina\", \"date\": \"2021-02-10\", \"new_confirmed_cases_seven_day_per_100k\": 254.9355522923805, \"new_confirmed_cases_seven_day_total\": 125.0, \"population\": 49032.0}, {\"name\": \"Covina (Charter Oak)\", \"date\": \"2021-02-10\", \"new_confirmed_cases_seven_day_per_100k\": 213.0249543517955, \"new_confirmed_cases_seven_day_total\": 28.0, \"population\": 13144.0}, {\"name\": \"Crenshaw District\", \"date\": \"2021-02-10\", \"new_confirmed_cases_seven_day_per_100k\": 216.93542555499312, \"new_confirmed_cases_seven_day_total\": 30.0, \"population\": 13829.0}, {\"name\": \"Crestview\", \"date\": \"2021-02-10\", \"new_confirmed_cases_seven_day_per_100k\": 228.7121745249824, \"new_confirmed_cases_seven_day_total\": 26.0, \"population\": 11368.0}, {\"name\": \"Cudahy\", \"date\": \"2021-02-10\", \"new_confirmed_cases_seven_day_per_100k\": 340.90442354294163, \"new_confirmed_cases_seven_day_total\": 83.0, \"population\": 24347.0}, {\"name\": \"Culver City\", \"date\": \"2021-02-10\", \"new_confirmed_cases_seven_day_per_100k\": 115.38943935783269, \"new_confirmed_cases_seven_day_total\": 46.0, \"population\": 39865.0}, {\"name\": \"Del Aire\", \"date\": \"2021-02-10\", \"new_confirmed_cases_seven_day_per_100k\": 113.81743683132257, \"new_confirmed_cases_seven_day_total\": 5.0, \"population\": 4393.0}, {\"name\": \"Del Rey\", \"date\": \"2021-02-10\", \"new_confirmed_cases_seven_day_per_100k\": 120.2565473009086, \"new_confirmed_cases_seven_day_total\": 36.0, \"population\": 29936.0}, {\"name\": \"Del Sur\", \"date\": \"2021-02-10\", \"new_confirmed_cases_seven_day_per_100k\": 165.63146997929607, \"new_confirmed_cases_seven_day_total\": 4.0, \"population\": 2415.0}, {\"name\": \"Desert View Highlands\", \"date\": \"2021-02-10\", \"new_confirmed_cases_seven_day_per_100k\": 120.3369434416366, \"new_confirmed_cases_seven_day_total\": 3.0, \"population\": 2493.0}, {\"name\": \"Diamond Bar\", \"date\": \"2021-02-10\", \"new_confirmed_cases_seven_day_per_100k\": 168.65165608971571, \"new_confirmed_cases_seven_day_total\": 97.0, \"population\": 57515.0}, {\"name\": \"Downey\", \"date\": \"2021-02-10\", \"new_confirmed_cases_seven_day_per_100k\": 262.55218224622143, \"new_confirmed_cases_seven_day_total\": 300.0, \"population\": 114263.0}, {\"name\": \"Downtown\", \"date\": \"2021-02-10\", \"new_confirmed_cases_seven_day_per_100k\": 316.2831279310721, \"new_confirmed_cases_seven_day_total\": 87.0, \"population\": 27507.0}, {\"name\": \"Duarte\", \"date\": \"2021-02-10\", \"new_confirmed_cases_seven_day_per_100k\": 204.3968023255814, \"new_confirmed_cases_seven_day_total\": 45.0, \"population\": 22016.0}, {\"name\": \"Eagle Rock\", \"date\": \"2021-02-10\", \"new_confirmed_cases_seven_day_per_100k\": 143.9793882138978, \"new_confirmed_cases_seven_day_total\": 57.0, \"population\": 39589.0}, {\"name\": \"East Covina\", \"date\": \"2021-02-10\", \"new_confirmed_cases_seven_day_per_100k\": null, \"new_confirmed_cases_seven_day_total\": 4.0, \"population\": 329.0}, {\"name\": \"East Hollywood\", \"date\": \"2021-02-10\", \"new_confirmed_cases_seven_day_per_100k\": 228.7704442243999, \"new_confirmed_cases_seven_day_total\": 67.0, \"population\": 29287.0}, {\"name\": \"East La Mirada\", \"date\": \"2021-02-10\", \"new_confirmed_cases_seven_day_per_100k\": 75.58578987150416, \"new_confirmed_cases_seven_day_total\": 4.0, \"population\": 5292.0}, {\"name\": \"East Lancaster\", \"date\": \"2021-02-10\", \"new_confirmed_cases_seven_day_per_100k\": null, \"new_confirmed_cases_seven_day_total\": 0.0, \"population\": 114.0}, {\"name\": \"East Los Angeles\", \"date\": \"2021-02-10\", \"new_confirmed_cases_seven_day_per_100k\": 280.1970160215217, \"new_confirmed_cases_seven_day_total\": 351.0, \"population\": 125269.0}, {\"name\": \"East Pasadena\", \"date\": \"2021-02-10\", \"new_confirmed_cases_seven_day_per_100k\": 93.7060752772138, \"new_confirmed_cases_seven_day_total\": 6.0, \"population\": 6403.0}, {\"name\": \"East Rancho Dominguez\", \"date\": \"2021-02-10\", \"new_confirmed_cases_seven_day_per_100k\": 333.15913247974913, \"new_confirmed_cases_seven_day_total\": 51.0, \"population\": 15308.0}, {\"name\": \"East Whittier\", \"date\": \"2021-02-10\", \"new_confirmed_cases_seven_day_per_100k\": 131.92612137203164, \"new_confirmed_cases_seven_day_total\": 7.0, \"population\": 5306.0}, {\"name\": \"Echo Park\", \"date\": \"2021-02-10\", \"new_confirmed_cases_seven_day_per_100k\": 168.35016835016833, \"new_confirmed_cases_seven_day_total\": 24.0, \"population\": 14256.0}, {\"name\": \"El Camino Village\", \"date\": \"2021-02-10\", \"new_confirmed_cases_seven_day_per_100k\": 250.25594357866, \"new_confirmed_cases_seven_day_total\": 22.0, \"population\": 8791.0}, {\"name\": \"El Monte\", \"date\": \"2021-02-10\", \"new_confirmed_cases_seven_day_per_100k\": 273.7296301665402, \"new_confirmed_cases_seven_day_total\": 321.0, \"population\": 117269.0}, {\"name\": \"El Segundo\", \"date\": \"2021-02-10\", \"new_confirmed_cases_seven_day_per_100k\": 125.10425354462052, \"new_confirmed_cases_seven_day_total\": 21.0, \"population\": 16786.0}, {\"name\": \"El Sereno\", \"date\": \"2021-02-10\", \"new_confirmed_cases_seven_day_per_100k\": 272.6750861079219, \"new_confirmed_cases_seven_day_total\": 114.0, \"population\": 41808.0}, {\"name\": \"Elizabeth Lake\", \"date\": \"2021-02-10\", \"new_confirmed_cases_seven_day_per_100k\": 60.20469596628537, \"new_confirmed_cases_seven_day_total\": 1.0, \"population\": 1661.0}, {\"name\": \"Elysian Park\", \"date\": \"2021-02-10\", \"new_confirmed_cases_seven_day_per_100k\": 157.56302521008405, \"new_confirmed_cases_seven_day_total\": 9.0, \"population\": 5712.0}, {\"name\": \"Elysian Valley\", \"date\": \"2021-02-10\", \"new_confirmed_cases_seven_day_per_100k\": 196.63749877101563, \"new_confirmed_cases_seven_day_total\": 20.0, \"population\": 10171.0}, {\"name\": \"Encino\", \"date\": \"2021-02-10\", \"new_confirmed_cases_seven_day_per_100k\": 161.60453378198883, \"new_confirmed_cases_seven_day_total\": 73.0, \"population\": 45172.0}, {\"name\": \"Exposition\", \"date\": \"2021-02-10\", \"new_confirmed_cases_seven_day_per_100k\": 150.3307276007216, \"new_confirmed_cases_seven_day_total\": 5.0, \"population\": 3326.0}, {\"name\": \"Exposition Park\", \"date\": \"2021-02-10\", \"new_confirmed_cases_seven_day_per_100k\": 227.0855132800499, \"new_confirmed_cases_seven_day_total\": 102.0, \"population\": 44917.0}, {\"name\": \"Faircrest Heights\", \"date\": \"2021-02-10\", \"new_confirmed_cases_seven_day_per_100k\": 166.66666666666669, \"new_confirmed_cases_seven_day_total\": 6.0, \"population\": 3600.0}, {\"name\": \"Figueroa Park Square\", \"date\": \"2021-02-10\", \"new_confirmed_cases_seven_day_per_100k\": 309.59752321981426, \"new_confirmed_cases_seven_day_total\": 27.0, \"population\": 8721.0}, {\"name\": \"Florence-Firestone\", \"date\": \"2021-02-10\", \"new_confirmed_cases_seven_day_per_100k\": 299.29391927495, \"new_confirmed_cases_seven_day_total\": 142.0, \"population\": 47445.0}, {\"name\": \"Franklin Canyon\", \"date\": \"2021-02-10\", \"new_confirmed_cases_seven_day_per_100k\": null, \"new_confirmed_cases_seven_day_total\": 0.0, \"population\": 12.0}, {\"name\": \"Gardena\", \"date\": \"2021-02-10\", \"new_confirmed_cases_seven_day_per_100k\": 275.64834447887785, \"new_confirmed_cases_seven_day_total\": 169.0, \"population\": 61310.0}, {\"name\": \"Glassell Park\", \"date\": \"2021-02-10\", \"new_confirmed_cases_seven_day_per_100k\": 262.62498417921785, \"new_confirmed_cases_seven_day_total\": 83.0, \"population\": 31604.0}, {\"name\": \"Glendale\", \"date\": \"2021-02-10\", \"new_confirmed_cases_seven_day_per_100k\": 242.62323662303325, \"new_confirmed_cases_seven_day_total\": 501.0, \"population\": 206493.0}, {\"name\": \"Glendora\", \"date\": \"2021-02-10\", \"new_confirmed_cases_seven_day_per_100k\": 195.2088545220226, \"new_confirmed_cases_seven_day_total\": 103.0, \"population\": 52764.0}, {\"name\": \"Gramercy Place\", \"date\": \"2021-02-10\", \"new_confirmed_cases_seven_day_per_100k\": 278.7068004459309, \"new_confirmed_cases_seven_day_total\": 30.0, \"population\": 10764.0}, {\"name\": \"Granada Hills\", \"date\": \"2021-02-10\", \"new_confirmed_cases_seven_day_per_100k\": 213.09137151793232, \"new_confirmed_cases_seven_day_total\": 124.0, \"population\": 58191.0}, {\"name\": \"Green Meadows\", \"date\": \"2021-02-10\", \"new_confirmed_cases_seven_day_per_100k\": 362.7063473610788, \"new_confirmed_cases_seven_day_total\": 78.0, \"population\": 21505.0}, {\"name\": \"Hacienda Heights\", \"date\": \"2021-02-10\", \"new_confirmed_cases_seven_day_per_100k\": 187.7480956978865, \"new_confirmed_cases_seven_day_total\": 105.0, \"population\": 55926.0}, {\"name\": \"Hancock Park\", \"date\": \"2021-02-10\", \"new_confirmed_cases_seven_day_per_100k\": 111.50889136686423, \"new_confirmed_cases_seven_day_total\": 19.0, \"population\": 17039.0}, {\"name\": \"Harbor City\", \"date\": \"2021-02-10\", \"new_confirmed_cases_seven_day_per_100k\": 199.5184038527692, \"new_confirmed_cases_seven_day_total\": 58.0, \"population\": 29070.0}, {\"name\": \"Harbor Gateway\", \"date\": \"2021-02-10\", \"new_confirmed_cases_seven_day_per_100k\": 261.4678899082569, \"new_confirmed_cases_seven_day_total\": 114.0, \"population\": 43600.0}, {\"name\": \"Harbor Pines\", \"date\": \"2021-02-10\", \"new_confirmed_cases_seven_day_per_100k\": 207.55500207555005, \"new_confirmed_cases_seven_day_total\": 5.0, \"population\": 2409.0}, {\"name\": \"Harvard Heights\", \"date\": \"2021-02-10\", \"new_confirmed_cases_seven_day_per_100k\": 277.2387025228722, \"new_confirmed_cases_seven_day_total\": 50.0, \"population\": 18035.0}, {\"name\": \"Harvard Park\", \"date\": \"2021-02-10\", \"new_confirmed_cases_seven_day_per_100k\": 300.5140371688414, \"new_confirmed_cases_seven_day_total\": 114.0, \"population\": 37935.0}, {\"name\": \"Hawaiian Gardens\", \"date\": \"2021-02-10\", \"new_confirmed_cases_seven_day_per_100k\": 204.4153720359771, \"new_confirmed_cases_seven_day_total\": 30.0, \"population\": 14676.0}, {\"name\": \"Hawthorne\", \"date\": \"2021-02-10\", \"new_confirmed_cases_seven_day_per_100k\": 238.77369434714544, \"new_confirmed_cases_seven_day_total\": 212.0, \"population\": 88787.0}, {\"name\": \"Hermosa Beach\", \"date\": \"2021-02-10\", \"new_confirmed_cases_seven_day_per_100k\": 76.2582613116421, \"new_confirmed_cases_seven_day_total\": 15.0, \"population\": 19670.0}, {\"name\": \"Hi Vista\", \"date\": \"2021-02-10\", \"new_confirmed_cases_seven_day_per_100k\": 182.1493624772313, \"new_confirmed_cases_seven_day_total\": 2.0, \"population\": 1098.0}, {\"name\": \"Hidden Hills\", \"date\": \"2021-02-10\", \"new_confirmed_cases_seven_day_per_100k\": 52.91005291005291, \"new_confirmed_cases_seven_day_total\": 1.0, \"population\": 1890.0}, {\"name\": \"Highland Park\", \"date\": \"2021-02-10\", \"new_confirmed_cases_seven_day_per_100k\": 175.65249736521255, \"new_confirmed_cases_seven_day_total\": 85.0, \"population\": 48391.0}, {\"name\": \"Historic Filipinotown\", \"date\": \"2021-02-10\", \"new_confirmed_cases_seven_day_per_100k\": 194.6647440519106, \"new_confirmed_cases_seven_day_total\": 27.0, \"population\": 13870.0}, {\"name\": \"Hollywood\", \"date\": \"2021-02-10\", \"new_confirmed_cases_seven_day_per_100k\": 150.9069065549272, \"new_confirmed_cases_seven_day_total\": 103.0, \"population\": 68254.0}, {\"name\": \"Hollywood Hills\", \"date\": \"2021-02-10\", \"new_confirmed_cases_seven_day_per_100k\": 146.08955629544064, \"new_confirmed_cases_seven_day_total\": 43.0, \"population\": 29434.0}, {\"name\": \"Huntington Park\", \"date\": \"2021-02-10\", \"new_confirmed_cases_seven_day_per_100k\": 294.19675879228026, \"new_confirmed_cases_seven_day_total\": 175.0, \"population\": 59484.0}, {\"name\": \"Hyde Park\", \"date\": \"2021-02-10\", \"new_confirmed_cases_seven_day_per_100k\": 241.75747170736835, \"new_confirmed_cases_seven_day_total\": 69.0, \"population\": 28541.0}, {\"name\": \"Industry\", \"date\": \"2021-02-10\", \"new_confirmed_cases_seven_day_per_100k\": null, \"new_confirmed_cases_seven_day_total\": 14.0, \"population\": 437.0}, {\"name\": \"Inglewood\", \"date\": \"2021-02-10\", \"new_confirmed_cases_seven_day_per_100k\": 300.22362698314873, \"new_confirmed_cases_seven_day_total\": 341.0, \"population\": 113582.0}, {\"name\": \"Irwindale\", \"date\": \"2021-02-10\", \"new_confirmed_cases_seven_day_per_100k\": 411.240575736806, \"new_confirmed_cases_seven_day_total\": 6.0, \"population\": 1459.0}, {\"name\": \"Jefferson Park\", \"date\": \"2021-02-10\", \"new_confirmed_cases_seven_day_per_100k\": 260.1263470828688, \"new_confirmed_cases_seven_day_total\": 21.0, \"population\": 8073.0}, {\"name\": \"Kagel/Lopez Canyons\", \"date\": \"2021-02-10\", \"new_confirmed_cases_seven_day_per_100k\": 141.643059490085, \"new_confirmed_cases_seven_day_total\": 2.0, \"population\": 1412.0}, {\"name\": \"Koreatown\", \"date\": \"2021-02-10\", \"new_confirmed_cases_seven_day_per_100k\": 228.2707523262337, \"new_confirmed_cases_seven_day_total\": 118.0, \"population\": 51693.0}, {\"name\": \"La Canada Flintridge\", \"date\": \"2021-02-10\", \"new_confirmed_cases_seven_day_per_100k\": 38.6604165659885, \"new_confirmed_cases_seven_day_total\": 8.0, \"population\": 20693.0}, {\"name\": \"La Crescenta-Montrose\", \"date\": \"2021-02-10\", \"new_confirmed_cases_seven_day_per_100k\": 106.05524973486187, \"new_confirmed_cases_seven_day_total\": 21.0, \"population\": 19801.0}, {\"name\": \"La Habra Heights\", \"date\": \"2021-02-10\", \"new_confirmed_cases_seven_day_per_100k\": 36.663611365719525, \"new_confirmed_cases_seven_day_total\": 2.0, \"population\": 5455.0}, {\"name\": \"La Mirada\", \"date\": \"2021-02-10\", \"new_confirmed_cases_seven_day_per_100k\": 167.34208350974816, \"new_confirmed_cases_seven_day_total\": 83.0, \"population\": 49599.0}, {\"name\": \"La Puente\", \"date\": \"2021-02-10\", \"new_confirmed_cases_seven_day_per_100k\": 302.2335798707521, \"new_confirmed_cases_seven_day_total\": 123.0, \"population\": 40697.0}, {\"name\": \"La Rambla\", \"date\": \"2021-02-10\", \"new_confirmed_cases_seven_day_per_100k\": 674.6987951807229, \"new_confirmed_cases_seven_day_total\": 14.0, \"population\": 2075.0}, {\"name\": \"La Verne\", \"date\": \"2021-02-10\", \"new_confirmed_cases_seven_day_per_100k\": 207.31927167838472, \"new_confirmed_cases_seven_day_total\": 69.0, \"population\": 33282.0}, {\"name\": \"Ladera Heights\", \"date\": \"2021-02-10\", \"new_confirmed_cases_seven_day_per_100k\": 98.99589874133788, \"new_confirmed_cases_seven_day_total\": 7.0, \"population\": 7071.0}, {\"name\": \"Lafayette Square\", \"date\": \"2021-02-10\", \"new_confirmed_cases_seven_day_per_100k\": 175.4770783066462, \"new_confirmed_cases_seven_day_total\": 8.0, \"population\": 4559.0}, {\"name\": \"Lake Balboa\", \"date\": \"2021-02-10\", \"new_confirmed_cases_seven_day_per_100k\": 239.3024688432924, \"new_confirmed_cases_seven_day_total\": 101.0, \"population\": 42206.0}, {\"name\": \"Lake Hughes\", \"date\": \"2021-02-10\", \"new_confirmed_cases_seven_day_per_100k\": null, \"new_confirmed_cases_seven_day_total\": 1.0, \"population\": 668.0}, {\"name\": \"Lake Los Angeles\", \"date\": \"2021-02-10\", \"new_confirmed_cases_seven_day_per_100k\": 207.78820994305065, \"new_confirmed_cases_seven_day_total\": 27.0, \"population\": 12994.0}, {\"name\": \"Lake Manor\", \"date\": \"2021-02-10\", \"new_confirmed_cases_seven_day_per_100k\": 121.72854534388314, \"new_confirmed_cases_seven_day_total\": 2.0, \"population\": 1643.0}, {\"name\": \"Lakeview Terrace\", \"date\": \"2021-02-10\", \"new_confirmed_cases_seven_day_per_100k\": 319.8050711947004, \"new_confirmed_cases_seven_day_total\": 42.0, \"population\": 13133.0}, {\"name\": \"Lakewood\", \"date\": \"2021-02-10\", \"new_confirmed_cases_seven_day_per_100k\": 182.9222766979418, \"new_confirmed_cases_seven_day_total\": 147.0, \"population\": 80362.0}, {\"name\": \"Lancaster\", \"date\": \"2021-02-10\", \"new_confirmed_cases_seven_day_per_100k\": 295.84700129974624, \"new_confirmed_cases_seven_day_total\": 478.0, \"population\": 161570.0}, {\"name\": \"Lawndale\", \"date\": \"2021-02-10\", \"new_confirmed_cases_seven_day_per_100k\": 273.6954840245136, \"new_confirmed_cases_seven_day_total\": 92.0, \"population\": 33614.0}, {\"name\": \"Leimert Park\", \"date\": \"2021-02-10\", \"new_confirmed_cases_seven_day_per_100k\": 164.09583196586806, \"new_confirmed_cases_seven_day_total\": 25.0, \"population\": 15235.0}, {\"name\": \"Lennox\", \"date\": \"2021-02-10\", \"new_confirmed_cases_seven_day_per_100k\": 292.7867979771094, \"new_confirmed_cases_seven_day_total\": 66.0, \"population\": 22542.0}, {\"name\": \"Leona Valley\", \"date\": \"2021-02-10\", \"new_confirmed_cases_seven_day_per_100k\": 0.0, \"new_confirmed_cases_seven_day_total\": 0.0, \"population\": 1751.0}, {\"name\": \"Lincoln Heights\", \"date\": \"2021-02-10\", \"new_confirmed_cases_seven_day_per_100k\": 260.7601926557658, \"new_confirmed_cases_seven_day_total\": 85.0, \"population\": 32597.0}, {\"name\": \"Little Armenia\", \"date\": \"2021-02-10\", \"new_confirmed_cases_seven_day_per_100k\": 236.7601246105919, \"new_confirmed_cases_seven_day_total\": 19.0, \"population\": 8025.0}, {\"name\": \"Little Bangladesh\", \"date\": \"2021-02-10\", \"new_confirmed_cases_seven_day_per_100k\": 211.69248138870267, \"new_confirmed_cases_seven_day_total\": 60.0, \"population\": 28343.0}, {\"name\": \"Little Tokyo\", \"date\": \"2021-02-10\", \"new_confirmed_cases_seven_day_per_100k\": 159.59144589849984, \"new_confirmed_cases_seven_day_total\": 5.0, \"population\": 3133.0}, {\"name\": \"Littlerock\", \"date\": \"2021-02-10\", \"new_confirmed_cases_seven_day_per_100k\": 422.7804028848545, \"new_confirmed_cases_seven_day_total\": 17.0, \"population\": 4021.0}, {\"name\": \"Littlerock/Juniper Hills\", \"date\": \"2021-02-10\", \"new_confirmed_cases_seven_day_per_100k\": 231.3030069390902, \"new_confirmed_cases_seven_day_total\": 3.0, \"population\": 1297.0}, {\"name\": \"Littlerock/Pearblossom\", \"date\": \"2021-02-10\", \"new_confirmed_cases_seven_day_per_100k\": 252.1714766040908, \"new_confirmed_cases_seven_day_total\": 9.0, \"population\": 3569.0}, {\"name\": \"Llano\", \"date\": \"2021-02-10\", \"new_confirmed_cases_seven_day_per_100k\": null, \"new_confirmed_cases_seven_day_total\": 2.0, \"population\": 877.0}, {\"name\": \"Lomita\", \"date\": \"2021-02-10\", \"new_confirmed_cases_seven_day_per_100k\": 154.3731004872401, \"new_confirmed_cases_seven_day_total\": 32.0, \"population\": 20729.0}, {\"name\": \"Longwood\", \"date\": \"2021-02-10\", \"new_confirmed_cases_seven_day_per_100k\": 232.34200743494424, \"new_confirmed_cases_seven_day_total\": 10.0, \"population\": 4304.0}, {\"name\": \"Los Feliz\", \"date\": \"2021-02-10\", \"new_confirmed_cases_seven_day_per_100k\": 138.8374676045909, \"new_confirmed_cases_seven_day_total\": 30.0, \"population\": 21608.0}, {\"name\": \"Lynwood\", \"date\": \"2021-02-10\", \"new_confirmed_cases_seven_day_per_100k\": 303.9682429525172, \"new_confirmed_cases_seven_day_total\": 219.0, \"population\": 72047.0}, {\"name\": \"Malibu\", \"date\": \"2021-02-10\", \"new_confirmed_cases_seven_day_per_100k\": 92.58544865365327, \"new_confirmed_cases_seven_day_total\": 12.0, \"population\": 12961.0}, {\"name\": \"Manchester Square\", \"date\": \"2021-02-10\", \"new_confirmed_cases_seven_day_per_100k\": 328.0224929709466, \"new_confirmed_cases_seven_day_total\": 28.0, \"population\": 8536.0}, {\"name\": \"Mandeville Canyon\", \"date\": \"2021-02-10\", \"new_confirmed_cases_seven_day_per_100k\": 96.03072983354672, \"new_confirmed_cases_seven_day_total\": 3.0, \"population\": 3124.0}, {\"name\": \"Manhattan Beach\", \"date\": \"2021-02-10\", \"new_confirmed_cases_seven_day_per_100k\": 88.89135809328037, \"new_confirmed_cases_seven_day_total\": 32.0, \"population\": 35999.0}, {\"name\": \"Mar Vista\", \"date\": \"2021-02-10\", \"new_confirmed_cases_seven_day_per_100k\": 80.05462550917096, \"new_confirmed_cases_seven_day_total\": 34.0, \"population\": 42471.0}, {\"name\": \"Marina Peninsula\", \"date\": \"2021-02-10\", \"new_confirmed_cases_seven_day_per_100k\": 0.0, \"new_confirmed_cases_seven_day_total\": 0.0, \"population\": 4360.0}, {\"name\": \"Marina del Rey\", \"date\": \"2021-02-10\", \"new_confirmed_cases_seven_day_per_100k\": 138.13622356816492, \"new_confirmed_cases_seven_day_total\": 13.0, \"population\": 9411.0}, {\"name\": \"Maywood\", \"date\": \"2021-02-10\", \"new_confirmed_cases_seven_day_per_100k\": 295.91072765517487, \"new_confirmed_cases_seven_day_total\": 83.0, \"population\": 28049.0}, {\"name\": \"Melrose\", \"date\": \"2021-02-10\", \"new_confirmed_cases_seven_day_per_100k\": 217.51441515650745, \"new_confirmed_cases_seven_day_total\": 169.0, \"population\": 77696.0}, {\"name\": \"Mid-city\", \"date\": \"2021-02-10\", \"new_confirmed_cases_seven_day_per_100k\": 172.98735861610112, \"new_confirmed_cases_seven_day_total\": 26.0, \"population\": 15030.0}, {\"name\": \"Miracle Mile\", \"date\": \"2021-02-10\", \"new_confirmed_cases_seven_day_per_100k\": 144.56491520711702, \"new_confirmed_cases_seven_day_total\": 26.0, \"population\": 17985.0}, {\"name\": \"Mission Hills\", \"date\": \"2021-02-10\", \"new_confirmed_cases_seven_day_per_100k\": 310.89371580169126, \"new_confirmed_cases_seven_day_total\": 75.0, \"population\": 24124.0}, {\"name\": \"Monrovia\", \"date\": \"2021-02-10\", \"new_confirmed_cases_seven_day_per_100k\": 208.7628865979381, \"new_confirmed_cases_seven_day_total\": 81.0, \"population\": 38800.0}, {\"name\": \"Montebello\", \"date\": \"2021-02-10\", \"new_confirmed_cases_seven_day_per_100k\": 326.2135922330097, \"new_confirmed_cases_seven_day_total\": 210.0, \"population\": 64375.0}, {\"name\": \"Monterey Park\", \"date\": \"2021-02-10\", \"new_confirmed_cases_seven_day_per_100k\": 178.27888599787994, \"new_confirmed_cases_seven_day_total\": 111.0, \"population\": 62262.0}, {\"name\": \"Mt. Washington\", \"date\": \"2021-02-10\", \"new_confirmed_cases_seven_day_per_100k\": 182.23234624145783, \"new_confirmed_cases_seven_day_total\": 44.0, \"population\": 24145.0}, {\"name\": \"Newhall\", \"date\": \"2021-02-10\", \"new_confirmed_cases_seven_day_per_100k\": null, \"new_confirmed_cases_seven_day_total\": 2.0, \"population\": 220.0}, {\"name\": \"North Hills\", \"date\": \"2021-02-10\", \"new_confirmed_cases_seven_day_per_100k\": 214.3727161997564, \"new_confirmed_cases_seven_day_total\": 132.0, \"population\": 61575.0}, {\"name\": \"North Hollywood\", \"date\": \"2021-02-10\", \"new_confirmed_cases_seven_day_per_100k\": 240.389377959464, \"new_confirmed_cases_seven_day_total\": 364.0, \"population\": 151421.0}, {\"name\": \"North Lancaster\", \"date\": \"2021-02-10\", \"new_confirmed_cases_seven_day_per_100k\": 166.9449081803005, \"new_confirmed_cases_seven_day_total\": 2.0, \"population\": 1198.0}, {\"name\": \"North Whittier\", \"date\": \"2021-02-10\", \"new_confirmed_cases_seven_day_per_100k\": 203.3492822966507, \"new_confirmed_cases_seven_day_total\": 17.0, \"population\": 8360.0}, {\"name\": \"Northeast San Gabriel\", \"date\": \"2021-02-10\", \"new_confirmed_cases_seven_day_per_100k\": 178.89831918788485, \"new_confirmed_cases_seven_day_total\": 43.0, \"population\": 24036.0}, {\"name\": \"Northridge\", \"date\": \"2021-02-10\", \"new_confirmed_cases_seven_day_per_100k\": 246.4289296101552, \"new_confirmed_cases_seven_day_total\": 172.0, \"population\": 69797.0}, {\"name\": \"Norwalk\", \"date\": \"2021-02-10\", \"new_confirmed_cases_seven_day_per_100k\": 264.815743992864, \"new_confirmed_cases_seven_day_total\": 285.0, \"population\": 107622.0}, {\"name\": \"Pacific Palisades\", \"date\": \"2021-02-10\", \"new_confirmed_cases_seven_day_per_100k\": 159.6918885914236, \"new_confirmed_cases_seven_day_total\": 34.0, \"population\": 21291.0}, {\"name\": \"Pacoima\", \"date\": \"2021-02-10\", \"new_confirmed_cases_seven_day_per_100k\": 374.1280089375024, \"new_confirmed_cases_seven_day_total\": 288.0, \"population\": 76979.0}, {\"name\": \"Padua Hills\", \"date\": \"2021-02-10\", \"new_confirmed_cases_seven_day_per_100k\": null, \"new_confirmed_cases_seven_day_total\": 0.0, \"population\": 0.0}, {\"name\": \"Palisades Highlands\", \"date\": \"2021-02-10\", \"new_confirmed_cases_seven_day_per_100k\": 52.00208008320333, \"new_confirmed_cases_seven_day_total\": 2.0, \"population\": 3846.0}, {\"name\": \"Palmdale\", \"date\": \"2021-02-10\", \"new_confirmed_cases_seven_day_per_100k\": 271.7528055960948, \"new_confirmed_cases_seven_day_total\": 432.0, \"population\": 158968.0}, {\"name\": \"Palms\", \"date\": \"2021-02-10\", \"new_confirmed_cases_seven_day_per_100k\": 132.18770654329143, \"new_confirmed_cases_seven_day_total\": 58.0, \"population\": 43877.0}, {\"name\": \"Palos Verdes Estates\", \"date\": \"2021-02-10\", \"new_confirmed_cases_seven_day_per_100k\": 155.30247004880934, \"new_confirmed_cases_seven_day_total\": 21.0, \"population\": 13522.0}, {\"name\": \"Palos Verdes Peninsula\", \"date\": \"2021-02-10\", \"new_confirmed_cases_seven_day_per_100k\": null, \"new_confirmed_cases_seven_day_total\": 0.0, \"population\": 621.0}, {\"name\": \"Panorama City\", \"date\": \"2021-02-10\", \"new_confirmed_cases_seven_day_per_100k\": 260.4651162790698, \"new_confirmed_cases_seven_day_total\": 196.0, \"population\": 75250.0}, {\"name\": \"Paramount\", \"date\": \"2021-02-10\", \"new_confirmed_cases_seven_day_per_100k\": 232.04755189832744, \"new_confirmed_cases_seven_day_total\": 130.0, \"population\": 56023.0}, {\"name\": \"Park La Brea\", \"date\": \"2021-02-10\", \"new_confirmed_cases_seven_day_per_100k\": 73.63770250368188, \"new_confirmed_cases_seven_day_total\": 10.0, \"population\": 13580.0}, {\"name\": \"Pearblossom/Llano\", \"date\": \"2021-02-10\", \"new_confirmed_cases_seven_day_per_100k\": 153.37423312883436, \"new_confirmed_cases_seven_day_total\": 3.0, \"population\": 1956.0}, {\"name\": \"Pellissier Village\", \"date\": \"2021-02-10\", \"new_confirmed_cases_seven_day_per_100k\": null, \"new_confirmed_cases_seven_day_total\": 2.0, \"population\": 619.0}, {\"name\": \"Pico Rivera\", \"date\": \"2021-02-10\", \"new_confirmed_cases_seven_day_per_100k\": 284.6742579802128, \"new_confirmed_cases_seven_day_total\": 183.0, \"population\": 64284.0}, {\"name\": \"Pico-Union\", \"date\": \"2021-02-10\", \"new_confirmed_cases_seven_day_per_100k\": 286.79317432245114, \"new_confirmed_cases_seven_day_total\": 120.0, \"population\": 41842.0}, {\"name\": \"Playa Del Rey\", \"date\": \"2021-02-10\", \"new_confirmed_cases_seven_day_per_100k\": 93.86733416770964, \"new_confirmed_cases_seven_day_total\": 3.0, \"population\": 3196.0}, {\"name\": \"Playa Vista\", \"date\": \"2021-02-10\", \"new_confirmed_cases_seven_day_per_100k\": 73.07938247921805, \"new_confirmed_cases_seven_day_total\": 8.0, \"population\": 10947.0}, {\"name\": \"Pomona\", \"date\": \"2021-02-10\", \"new_confirmed_cases_seven_day_per_100k\": 262.29550249789975, \"new_confirmed_cases_seven_day_total\": 409.0, \"population\": 155931.0}, {\"name\": \"Porter Ranch\", \"date\": \"2021-02-10\", \"new_confirmed_cases_seven_day_per_100k\": 120.82724513881084, \"new_confirmed_cases_seven_day_total\": 43.0, \"population\": 35588.0}, {\"name\": \"Quartz Hill\", \"date\": \"2021-02-10\", \"new_confirmed_cases_seven_day_per_100k\": 209.20502092050208, \"new_confirmed_cases_seven_day_total\": 27.0, \"population\": 12906.0}, {\"name\": \"Rancho Dominguez\", \"date\": \"2021-02-10\", \"new_confirmed_cases_seven_day_per_100k\": 488.5381435550545, \"new_confirmed_cases_seven_day_total\": 13.0, \"population\": 2661.0}, {\"name\": \"Rancho Palos Verdes\", \"date\": \"2021-02-10\", \"new_confirmed_cases_seven_day_per_100k\": 88.89512714342527, \"new_confirmed_cases_seven_day_total\": 38.0, \"population\": 42747.0}, {\"name\": \"Rancho Park\", \"date\": \"2021-02-10\", \"new_confirmed_cases_seven_day_per_100k\": 106.70731707317074, \"new_confirmed_cases_seven_day_total\": 7.0, \"population\": 6560.0}, {\"name\": \"Redondo Beach\", \"date\": \"2021-02-10\", \"new_confirmed_cases_seven_day_per_100k\": 61.13804096248744, \"new_confirmed_cases_seven_day_total\": 42.0, \"population\": 68697.0}, {\"name\": \"Regent Square\", \"date\": \"2021-02-10\", \"new_confirmed_cases_seven_day_per_100k\": 179.85611510791367, \"new_confirmed_cases_seven_day_total\": 5.0, \"population\": 2780.0}, {\"name\": \"Reseda\", \"date\": \"2021-02-10\", \"new_confirmed_cases_seven_day_per_100k\": 238.8503856846392, \"new_confirmed_cases_seven_day_total\": 183.0, \"population\": 76617.0}, {\"name\": \"Reseda Ranch\", \"date\": \"2021-02-10\", \"new_confirmed_cases_seven_day_per_100k\": 560.8283002588438, \"new_confirmed_cases_seven_day_total\": 26.0, \"population\": 4636.0}, {\"name\": \"Reynier Village\", \"date\": \"2021-02-10\", \"new_confirmed_cases_seven_day_per_100k\": 165.56291390728478, \"new_confirmed_cases_seven_day_total\": 7.0, \"population\": 4228.0}, {\"name\": \"Rolling Hills\", \"date\": \"2021-02-10\", \"new_confirmed_cases_seven_day_per_100k\": 206.18556701030928, \"new_confirmed_cases_seven_day_total\": 4.0, \"population\": 1940.0}, {\"name\": \"Rolling Hills Estates\", \"date\": \"2021-02-10\", \"new_confirmed_cases_seven_day_per_100k\": 73.95538025391348, \"new_confirmed_cases_seven_day_total\": 6.0, \"population\": 8113.0}, {\"name\": \"Roosevelt\", \"date\": \"2021-02-10\", \"new_confirmed_cases_seven_day_per_100k\": null, \"new_confirmed_cases_seven_day_total\": 1.0, \"population\": 931.0}, {\"name\": \"Rosemead\", \"date\": \"2021-02-10\", \"new_confirmed_cases_seven_day_per_100k\": 227.64227642276424, \"new_confirmed_cases_seven_day_total\": 126.0, \"population\": 55350.0}, {\"name\": \"Rosewood\", \"date\": \"2021-02-10\", \"new_confirmed_cases_seven_day_per_100k\": 233.2814930015552, \"new_confirmed_cases_seven_day_total\": 3.0, \"population\": 1286.0}, {\"name\": \"Rosewood/East Gardena\", \"date\": \"2021-02-10\", \"new_confirmed_cases_seven_day_per_100k\": 0.0, \"new_confirmed_cases_seven_day_total\": 0.0, \"population\": 1193.0}, {\"name\": \"Rosewood/West Rancho Dominguez\", \"date\": \"2021-02-10\", \"new_confirmed_cases_seven_day_per_100k\": 476.0487950014876, \"new_confirmed_cases_seven_day_total\": 16.0, \"population\": 3361.0}, {\"name\": \"Rowland Heights\", \"date\": \"2021-02-10\", \"new_confirmed_cases_seven_day_per_100k\": 139.1556583434597, \"new_confirmed_cases_seven_day_total\": 71.0, \"population\": 51022.0}, {\"name\": \"San Dimas\", \"date\": \"2021-02-10\", \"new_confirmed_cases_seven_day_per_100k\": 260.74863831266657, \"new_confirmed_cases_seven_day_total\": 90.0, \"population\": 34516.0}, {\"name\": \"San Fernando\", \"date\": \"2021-02-10\", \"new_confirmed_cases_seven_day_per_100k\": 455.0625711035267, \"new_confirmed_cases_seven_day_total\": 112.0, \"population\": 24612.0}, {\"name\": \"San Francisquito Canyon/Bouquet Canyon\", \"date\": \"2021-02-10\", \"new_confirmed_cases_seven_day_per_100k\": null, \"new_confirmed_cases_seven_day_total\": 0.0, \"population\": 858.0}, {\"name\": \"San Gabriel\", \"date\": \"2021-02-10\", \"new_confirmed_cases_seven_day_per_100k\": 205.10817014211068, \"new_confirmed_cases_seven_day_total\": 84.0, \"population\": 40954.0}, {\"name\": \"San Jose Hills\", \"date\": \"2021-02-10\", \"new_confirmed_cases_seven_day_per_100k\": 291.7758765639681, \"new_confirmed_cases_seven_day_total\": 59.0, \"population\": 20221.0}, {\"name\": \"San Marino\", \"date\": \"2021-02-10\", \"new_confirmed_cases_seven_day_per_100k\": 22.595465843187466, \"new_confirmed_cases_seven_day_total\": 3.0, \"population\": 13277.0}, {\"name\": \"San Pasqual\", \"date\": \"2021-02-10\", \"new_confirmed_cases_seven_day_per_100k\": 49.140049140049136, \"new_confirmed_cases_seven_day_total\": 1.0, \"population\": 2035.0}, {\"name\": \"San Pedro\", \"date\": \"2021-02-10\", \"new_confirmed_cases_seven_day_per_100k\": 201.18403854532409, \"new_confirmed_cases_seven_day_total\": 157.0, \"population\": 78038.0}, {\"name\": \"Sand Canyon\", \"date\": \"2021-02-10\", \"new_confirmed_cases_seven_day_per_100k\": null, \"new_confirmed_cases_seven_day_total\": 2.0, \"population\": 308.0}, {\"name\": \"Santa Catalina Island\", \"date\": \"2021-02-10\", \"new_confirmed_cases_seven_day_per_100k\": null, \"new_confirmed_cases_seven_day_total\": 4.0, \"population\": 267.0}, {\"name\": \"Santa Clarita\", \"date\": \"2021-02-10\", \"new_confirmed_cases_seven_day_per_100k\": 206.8740246071208, \"new_confirmed_cases_seven_day_total\": 456.0, \"population\": 220424.0}, {\"name\": \"Santa Fe Springs\", \"date\": \"2021-02-10\", \"new_confirmed_cases_seven_day_per_100k\": 255.93552602918757, \"new_confirmed_cases_seven_day_total\": 47.0, \"population\": 18364.0}, {\"name\": \"Santa Monica\", \"date\": \"2021-02-10\", \"new_confirmed_cases_seven_day_per_100k\": 113.57981957034376, \"new_confirmed_cases_seven_day_total\": 105.0, \"population\": 92446.0}, {\"name\": \"Santa Monica Mountains\", \"date\": \"2021-02-10\", \"new_confirmed_cases_seven_day_per_100k\": 96.66505558240696, \"new_confirmed_cases_seven_day_total\": 18.0, \"population\": 18621.0}, {\"name\": \"Saugus\", \"date\": \"2021-02-10\", \"new_confirmed_cases_seven_day_per_100k\": null, \"new_confirmed_cases_seven_day_total\": 3.0, \"population\": 155.0}, {\"name\": \"Saugus/Canyon Country\", \"date\": \"2021-02-10\", \"new_confirmed_cases_seven_day_per_100k\": null, \"new_confirmed_cases_seven_day_total\": 5.0, \"population\": 356.0}, {\"name\": \"Shadow Hills\", \"date\": \"2021-02-10\", \"new_confirmed_cases_seven_day_per_100k\": 225.12381809995492, \"new_confirmed_cases_seven_day_total\": 10.0, \"population\": 4442.0}, {\"name\": \"Sherman Oaks\", \"date\": \"2021-02-10\", \"new_confirmed_cases_seven_day_per_100k\": 126.0687189126, \"new_confirmed_cases_seven_day_total\": 110.0, \"population\": 87254.0}, {\"name\": \"Sierra Madre\", \"date\": \"2021-02-10\", \"new_confirmed_cases_seven_day_per_100k\": 109.2001092001092, \"new_confirmed_cases_seven_day_total\": 12.0, \"population\": 10989.0}, {\"name\": \"Signal Hill\", \"date\": \"2021-02-10\", \"new_confirmed_cases_seven_day_per_100k\": 135.62770195812496, \"new_confirmed_cases_seven_day_total\": 16.0, \"population\": 11797.0}, {\"name\": \"Silver Lake\", \"date\": \"2021-02-10\", \"new_confirmed_cases_seven_day_per_100k\": 127.03309665857589, \"new_confirmed_cases_seven_day_total\": 56.0, \"population\": 44083.0}, {\"name\": \"South Antelope Valley\", \"date\": \"2021-02-10\", \"new_confirmed_cases_seven_day_per_100k\": null, \"new_confirmed_cases_seven_day_total\": 0.0, \"population\": 455.0}, {\"name\": \"South Carthay\", \"date\": \"2021-02-10\", \"new_confirmed_cases_seven_day_per_100k\": 103.82255781028788, \"new_confirmed_cases_seven_day_total\": 11.0, \"population\": 10595.0}, {\"name\": \"South El Monte\", \"date\": \"2021-02-10\", \"new_confirmed_cases_seven_day_per_100k\": 258.5587742398851, \"new_confirmed_cases_seven_day_total\": 54.0, \"population\": 20885.0}, {\"name\": \"South Gate\", \"date\": \"2021-02-10\", \"new_confirmed_cases_seven_day_per_100k\": 324.9961795119964, \"new_confirmed_cases_seven_day_total\": 319.0, \"population\": 98155.0}, {\"name\": \"South Park\", \"date\": \"2021-02-10\", \"new_confirmed_cases_seven_day_per_100k\": 366.1652748873844, \"new_confirmed_cases_seven_day_total\": 139.0, \"population\": 37961.0}, {\"name\": \"South Pasadena\", \"date\": \"2021-02-10\", \"new_confirmed_cases_seven_day_per_100k\": 84.44325029747054, \"new_confirmed_cases_seven_day_total\": 22.0, \"population\": 26053.0}, {\"name\": \"South San Gabriel\", \"date\": \"2021-02-10\", \"new_confirmed_cases_seven_day_per_100k\": 203.4358047016275, \"new_confirmed_cases_seven_day_total\": 18.0, \"population\": 8848.0}, {\"name\": \"South Whittier\", \"date\": \"2021-02-10\", \"new_confirmed_cases_seven_day_per_100k\": 258.3499375232177, \"new_confirmed_cases_seven_day_total\": 153.0, \"population\": 59222.0}, {\"name\": \"Southeast Antelope Valley\", \"date\": \"2021-02-10\", \"new_confirmed_cases_seven_day_per_100k\": null, \"new_confirmed_cases_seven_day_total\": 0.0, \"population\": 781.0}, {\"name\": \"St Elmo Village\", \"date\": \"2021-02-10\", \"new_confirmed_cases_seven_day_per_100k\": 1003.4904013961606, \"new_confirmed_cases_seven_day_total\": 46.0, \"population\": 4584.0}, {\"name\": \"Stevenson Ranch\", \"date\": \"2021-02-10\", \"new_confirmed_cases_seven_day_per_100k\": 128.77992940952018, \"new_confirmed_cases_seven_day_total\": 27.0, \"population\": 20966.0}, {\"name\": \"Studio City\", \"date\": \"2021-02-10\", \"new_confirmed_cases_seven_day_per_100k\": 120.32085561497328, \"new_confirmed_cases_seven_day_total\": 27.0, \"population\": 22440.0}, {\"name\": \"Sun Valley\", \"date\": \"2021-02-10\", \"new_confirmed_cases_seven_day_per_100k\": 302.9552426500009, \"new_confirmed_cases_seven_day_total\": 159.0, \"population\": 52483.0}, {\"name\": \"Sun Village\", \"date\": \"2021-02-10\", \"new_confirmed_cases_seven_day_per_100k\": 364.47978793903246, \"new_confirmed_cases_seven_day_total\": 22.0, \"population\": 6036.0}, {\"name\": \"Sunland\", \"date\": \"2021-02-10\", \"new_confirmed_cases_seven_day_per_100k\": 298.9023912191297, \"new_confirmed_cases_seven_day_total\": 61.0, \"population\": 20408.0}, {\"name\": \"Sunrise Village\", \"date\": \"2021-02-10\", \"new_confirmed_cases_seven_day_per_100k\": 231.48148148148147, \"new_confirmed_cases_seven_day_total\": 3.0, \"population\": 1296.0}, {\"name\": \"Sycamore Square\", \"date\": \"2021-02-10\", \"new_confirmed_cases_seven_day_per_100k\": null, \"new_confirmed_cases_seven_day_total\": 1.0, \"population\": 647.0}, {\"name\": \"Sylmar\", \"date\": \"2021-02-10\", \"new_confirmed_cases_seven_day_per_100k\": 292.48282725308866, \"new_confirmed_cases_seven_day_total\": 241.0, \"population\": 82398.0}, {\"name\": \"Tarzana\", \"date\": \"2021-02-10\", \"new_confirmed_cases_seven_day_per_100k\": 178.1318823681824, \"new_confirmed_cases_seven_day_total\": 55.0, \"population\": 30876.0}, {\"name\": \"Temple City\", \"date\": \"2021-02-10\", \"new_confirmed_cases_seven_day_per_100k\": 109.7243176518996, \"new_confirmed_cases_seven_day_total\": 40.0, \"population\": 36455.0}, {\"name\": \"Temple-Beaudry\", \"date\": \"2021-02-10\", \"new_confirmed_cases_seven_day_per_100k\": 250.7471759282711, \"new_confirmed_cases_seven_day_total\": 99.0, \"population\": 39482.0}, {\"name\": \"Thai Town\", \"date\": \"2021-02-10\", \"new_confirmed_cases_seven_day_per_100k\": 152.92078703231726, \"new_confirmed_cases_seven_day_total\": 15.0, \"population\": 9809.0}, {\"name\": \"Toluca Lake\", \"date\": \"2021-02-10\", \"new_confirmed_cases_seven_day_per_100k\": 114.88970588235294, \"new_confirmed_cases_seven_day_total\": 10.0, \"population\": 8704.0}, {\"name\": \"Toluca Terrace\", \"date\": \"2021-02-10\", \"new_confirmed_cases_seven_day_per_100k\": 459.41807044410416, \"new_confirmed_cases_seven_day_total\": 6.0, \"population\": 1306.0}, {\"name\": \"Toluca Woods\", \"date\": \"2021-02-10\", \"new_confirmed_cases_seven_day_per_100k\": 53.821313240043054, \"new_confirmed_cases_seven_day_total\": 1.0, \"population\": 1858.0}, {\"name\": \"Torrance\", \"date\": \"2021-02-10\", \"new_confirmed_cases_seven_day_per_100k\": 116.56885601736477, \"new_confirmed_cases_seven_day_total\": 174.0, \"population\": 149268.0}, {\"name\": \"Tujunga\", \"date\": \"2021-02-10\", \"new_confirmed_cases_seven_day_per_100k\": 327.22042430780294, \"new_confirmed_cases_seven_day_total\": 91.0, \"population\": 27810.0}, {\"name\": \"Twin Lakes/Oat Mountain\", \"date\": \"2021-02-10\", \"new_confirmed_cases_seven_day_per_100k\": 0.0, \"new_confirmed_cases_seven_day_total\": 0.0, \"population\": 1658.0}, {\"name\": \"Unincorporated - Angeles National Forest\", \"date\": \"2021-02-10\", \"new_confirmed_cases_seven_day_per_100k\": 160.6425702811245, \"new_confirmed_cases_seven_day_total\": 2.0, \"population\": 1245.0}, {\"name\": \"Unincorporated - Arcadia\", \"date\": \"2021-02-10\", \"new_confirmed_cases_seven_day_per_100k\": 263.1249216890114, \"new_confirmed_cases_seven_day_total\": 21.0, \"population\": 7981.0}, {\"name\": \"Unincorporated - Azusa\", \"date\": \"2021-02-10\", \"new_confirmed_cases_seven_day_per_100k\": 232.36827231049423, \"new_confirmed_cases_seven_day_total\": 37.0, \"population\": 15923.0}, {\"name\": \"Unincorporated - Bradbury\", \"date\": \"2021-02-10\", \"new_confirmed_cases_seven_day_per_100k\": null, \"new_confirmed_cases_seven_day_total\": 2.0, \"population\": 108.0}, {\"name\": \"Unincorporated - Cerritos\", \"date\": \"2021-02-10\", \"new_confirmed_cases_seven_day_per_100k\": null, \"new_confirmed_cases_seven_day_total\": 2.0, \"population\": 587.0}, {\"name\": \"Unincorporated - Claremont\", \"date\": \"2021-02-10\", \"new_confirmed_cases_seven_day_per_100k\": null, \"new_confirmed_cases_seven_day_total\": 0.0, \"population\": 702.0}, {\"name\": \"Unincorporated - Covina\", \"date\": \"2021-02-10\", \"new_confirmed_cases_seven_day_per_100k\": 338.9024317735894, \"new_confirmed_cases_seven_day_total\": 57.0, \"population\": 16819.0}, {\"name\": \"Unincorporated - Del Rey\", \"date\": \"2021-02-10\", \"new_confirmed_cases_seven_day_per_100k\": null, \"new_confirmed_cases_seven_day_total\": 1.0, \"population\": 318.0}, {\"name\": \"Unincorporated - Duarte\", \"date\": \"2021-02-10\", \"new_confirmed_cases_seven_day_per_100k\": 248.41915085817524, \"new_confirmed_cases_seven_day_total\": 11.0, \"population\": 4428.0}, {\"name\": \"Unincorporated - El Monte\", \"date\": \"2021-02-10\", \"new_confirmed_cases_seven_day_per_100k\": null, \"new_confirmed_cases_seven_day_total\": 0.0, \"population\": 145.0}, {\"name\": \"Unincorporated - Florence-Firestone\", \"date\": \"2021-02-10\", \"new_confirmed_cases_seven_day_per_100k\": 377.0960513097906, \"new_confirmed_cases_seven_day_total\": 244.0, \"population\": 64705.0}, {\"name\": \"Unincorporated - Glendora\", \"date\": \"2021-02-10\", \"new_confirmed_cases_seven_day_per_100k\": null, \"new_confirmed_cases_seven_day_total\": 1.0, \"population\": 660.0}, {\"name\": \"Unincorporated - Hawthorne\", \"date\": \"2021-02-10\", \"new_confirmed_cases_seven_day_per_100k\": 278.4407319013524, \"new_confirmed_cases_seven_day_total\": 7.0, \"population\": 2514.0}, {\"name\": \"Unincorporated - La Habra Heights\", \"date\": \"2021-02-10\", \"new_confirmed_cases_seven_day_per_100k\": null, \"new_confirmed_cases_seven_day_total\": 0.0, \"population\": 676.0}, {\"name\": \"Unincorporated - La Verne\", \"date\": \"2021-02-10\", \"new_confirmed_cases_seven_day_per_100k\": 196.078431372549, \"new_confirmed_cases_seven_day_total\": 4.0, \"population\": 2040.0}, {\"name\": \"Unincorporated - Monrovia\", \"date\": \"2021-02-10\", \"new_confirmed_cases_seven_day_per_100k\": 77.29966503478485, \"new_confirmed_cases_seven_day_total\": 3.0, \"population\": 3881.0}, {\"name\": \"Unincorporated - Palmdale\", \"date\": \"2021-02-10\", \"new_confirmed_cases_seven_day_per_100k\": null, \"new_confirmed_cases_seven_day_total\": 2.0, \"population\": 842.0}, {\"name\": \"Unincorporated - Pomona\", \"date\": \"2021-02-10\", \"new_confirmed_cases_seven_day_per_100k\": 51.59958720330237, \"new_confirmed_cases_seven_day_total\": 1.0, \"population\": 1938.0}, {\"name\": \"Unincorporated - South El Monte\", \"date\": \"2021-02-10\", \"new_confirmed_cases_seven_day_per_100k\": 389.9721448467967, \"new_confirmed_cases_seven_day_total\": 7.0, \"population\": 1795.0}, {\"name\": \"Unincorporated - West LA\", \"date\": \"2021-02-10\", \"new_confirmed_cases_seven_day_per_100k\": null, \"new_confirmed_cases_seven_day_total\": 6.0, \"population\": 952.0}, {\"name\": \"Unincorporated - Whittier\", \"date\": \"2021-02-10\", \"new_confirmed_cases_seven_day_per_100k\": 184.9894291754757, \"new_confirmed_cases_seven_day_total\": 7.0, \"population\": 3784.0}, {\"name\": \"University Hills\", \"date\": \"2021-02-10\", \"new_confirmed_cases_seven_day_per_100k\": 58.32604257801109, \"new_confirmed_cases_seven_day_total\": 2.0, \"population\": 3429.0}, {\"name\": \"University Park\", \"date\": \"2021-02-10\", \"new_confirmed_cases_seven_day_per_100k\": 313.2284382284382, \"new_confirmed_cases_seven_day_total\": 86.0, \"population\": 27456.0}, {\"name\": \"Val Verde\", \"date\": \"2021-02-10\", \"new_confirmed_cases_seven_day_per_100k\": 574.1915986702932, \"new_confirmed_cases_seven_day_total\": 19.0, \"population\": 3309.0}, {\"name\": \"Valencia\", \"date\": \"2021-02-10\", \"new_confirmed_cases_seven_day_per_100k\": 97.65625, \"new_confirmed_cases_seven_day_total\": 3.0, \"population\": 3072.0}, {\"name\": \"Valinda\", \"date\": \"2021-02-10\", \"new_confirmed_cases_seven_day_per_100k\": 192.54631808651743, \"new_confirmed_cases_seven_day_total\": 45.0, \"population\": 23371.0}, {\"name\": \"Valley Glen\", \"date\": \"2021-02-10\", \"new_confirmed_cases_seven_day_per_100k\": 199.89339019189765, \"new_confirmed_cases_seven_day_total\": 60.0, \"population\": 30016.0}, {\"name\": \"Valley Village\", \"date\": \"2021-02-10\", \"new_confirmed_cases_seven_day_per_100k\": 165.85760517799352, \"new_confirmed_cases_seven_day_total\": 41.0, \"population\": 24720.0}, {\"name\": \"Van Nuys\", \"date\": \"2021-02-10\", \"new_confirmed_cases_seven_day_per_100k\": 239.2857909307466, \"new_confirmed_cases_seven_day_total\": 223.0, \"population\": 93194.0}, {\"name\": \"Venice\", \"date\": \"2021-02-10\", \"new_confirmed_cases_seven_day_per_100k\": 135.75328316364173, \"new_confirmed_cases_seven_day_total\": 46.0, \"population\": 33885.0}, {\"name\": \"Vermont Knolls\", \"date\": \"2021-02-10\", \"new_confirmed_cases_seven_day_per_100k\": 325.58139534883725, \"new_confirmed_cases_seven_day_total\": 56.0, \"population\": 17200.0}, {\"name\": \"Vermont Square\", \"date\": \"2021-02-10\", \"new_confirmed_cases_seven_day_per_100k\": 195.89917722345564, \"new_confirmed_cases_seven_day_total\": 15.0, \"population\": 7657.0}, {\"name\": \"Vermont Vista\", \"date\": \"2021-02-10\", \"new_confirmed_cases_seven_day_per_100k\": 315.64123731365027, \"new_confirmed_cases_seven_day_total\": 130.0, \"population\": 41186.0}, {\"name\": \"Vernon\", \"date\": \"2021-02-10\", \"new_confirmed_cases_seven_day_per_100k\": null, \"new_confirmed_cases_seven_day_total\": 4.0, \"population\": 209.0}, {\"name\": \"Vernon Central\", \"date\": \"2021-02-10\", \"new_confirmed_cases_seven_day_per_100k\": 288.47263356282934, \"new_confirmed_cases_seven_day_total\": 150.0, \"population\": 51998.0}, {\"name\": \"Victoria Park\", \"date\": \"2021-02-10\", \"new_confirmed_cases_seven_day_per_100k\": 238.12358614120728, \"new_confirmed_cases_seven_day_total\": 20.0, \"population\": 8399.0}, {\"name\": \"View Heights\", \"date\": \"2021-02-10\", \"new_confirmed_cases_seven_day_per_100k\": 27.07092582566324, \"new_confirmed_cases_seven_day_total\": 1.0, \"population\": 3694.0}, {\"name\": \"View Park/Windsor Hills\", \"date\": \"2021-02-10\", \"new_confirmed_cases_seven_day_per_100k\": 111.731843575419, \"new_confirmed_cases_seven_day_total\": 13.0, \"population\": 11635.0}, {\"name\": \"Walnut\", \"date\": \"2021-02-10\", \"new_confirmed_cases_seven_day_per_100k\": 134.28533997117776, \"new_confirmed_cases_seven_day_total\": 41.0, \"population\": 30532.0}, {\"name\": \"Walnut Park\", \"date\": \"2021-02-10\", \"new_confirmed_cases_seven_day_per_100k\": 309.73177228520103, \"new_confirmed_cases_seven_day_total\": 50.0, \"population\": 16143.0}, {\"name\": \"Watts\", \"date\": \"2021-02-10\", \"new_confirmed_cases_seven_day_per_100k\": 377.2789051881708, \"new_confirmed_cases_seven_day_total\": 161.0, \"population\": 42674.0}, {\"name\": \"Wellington Square\", \"date\": \"2021-02-10\", \"new_confirmed_cases_seven_day_per_100k\": 305.1881993896236, \"new_confirmed_cases_seven_day_total\": 15.0, \"population\": 4915.0}, {\"name\": \"West Adams\", \"date\": \"2021-02-10\", \"new_confirmed_cases_seven_day_per_100k\": 282.3018458197611, \"new_confirmed_cases_seven_day_total\": 78.0, \"population\": 27630.0}, {\"name\": \"West Antelope Valley\", \"date\": \"2021-02-10\", \"new_confirmed_cases_seven_day_per_100k\": 198.54401058901388, \"new_confirmed_cases_seven_day_total\": 3.0, \"population\": 1511.0}, {\"name\": \"West Carson\", \"date\": \"2021-02-10\", \"new_confirmed_cases_seven_day_per_100k\": 158.4714298650729, \"new_confirmed_cases_seven_day_total\": 35.0, \"population\": 22086.0}, {\"name\": \"West Chatsworth\", \"date\": \"2021-02-10\", \"new_confirmed_cases_seven_day_per_100k\": null, \"new_confirmed_cases_seven_day_total\": 1.0, \"population\": 0.0}, {\"name\": \"West Covina\", \"date\": \"2021-02-10\", \"new_confirmed_cases_seven_day_per_100k\": 209.72883078486623, \"new_confirmed_cases_seven_day_total\": 227.0, \"population\": 108235.0}, {\"name\": \"West Hills\", \"date\": \"2021-02-10\", \"new_confirmed_cases_seven_day_per_100k\": 175.11407078554694, \"new_confirmed_cases_seven_day_total\": 71.0, \"population\": 40545.0}, {\"name\": \"West Hollywood\", \"date\": \"2021-02-10\", \"new_confirmed_cases_seven_day_per_100k\": 146.13948201672486, \"new_confirmed_cases_seven_day_total\": 54.0, \"population\": 36951.0}, {\"name\": \"West Los Angeles\", \"date\": \"2021-02-10\", \"new_confirmed_cases_seven_day_per_100k\": 143.47964714634924, \"new_confirmed_cases_seven_day_total\": 54.0, \"population\": 37636.0}, {\"name\": \"West Puente Valley\", \"date\": \"2021-02-10\", \"new_confirmed_cases_seven_day_per_100k\": 366.039654295882, \"new_confirmed_cases_seven_day_total\": 36.0, \"population\": 9835.0}, {\"name\": \"West Rancho Dominguez\", \"date\": \"2021-02-10\", \"new_confirmed_cases_seven_day_per_100k\": 0.0, \"new_confirmed_cases_seven_day_total\": 0.0, \"population\": 1359.0}, {\"name\": \"West Vernon\", \"date\": \"2021-02-10\", \"new_confirmed_cases_seven_day_per_100k\": 339.2737305197226, \"new_confirmed_cases_seven_day_total\": 182.0, \"population\": 53644.0}, {\"name\": \"West Whittier/Los Nietos\", \"date\": \"2021-02-10\", \"new_confirmed_cases_seven_day_per_100k\": 219.1272051996286, \"new_confirmed_cases_seven_day_total\": 59.0, \"population\": 26925.0}, {\"name\": \"Westchester\", \"date\": \"2021-02-10\", \"new_confirmed_cases_seven_day_per_100k\": 125.96166889521926, \"new_confirmed_cases_seven_day_total\": 65.0, \"population\": 51603.0}, {\"name\": \"Westfield/Academy Hills\", \"date\": \"2021-02-10\", \"new_confirmed_cases_seven_day_per_100k\": 230.7692307692308, \"new_confirmed_cases_seven_day_total\": 3.0, \"population\": 1300.0}, {\"name\": \"Westhills\", \"date\": \"2021-02-10\", \"new_confirmed_cases_seven_day_per_100k\": null, \"new_confirmed_cases_seven_day_total\": 0.0, \"population\": 839.0}, {\"name\": \"Westlake\", \"date\": \"2021-02-10\", \"new_confirmed_cases_seven_day_per_100k\": 251.03192654367788, \"new_confirmed_cases_seven_day_total\": 149.0, \"population\": 59355.0}, {\"name\": \"Westlake Village\", \"date\": \"2021-02-10\", \"new_confirmed_cases_seven_day_per_100k\": 47.84688995215311, \"new_confirmed_cases_seven_day_total\": 4.0, \"population\": 8360.0}, {\"name\": \"Westwood\", \"date\": \"2021-02-10\", \"new_confirmed_cases_seven_day_per_100k\": 155.2421963074535, \"new_confirmed_cases_seven_day_total\": 84.0, \"population\": 54109.0}, {\"name\": \"White Fence Farms\", \"date\": \"2021-02-10\", \"new_confirmed_cases_seven_day_per_100k\": 108.60711376595168, \"new_confirmed_cases_seven_day_total\": 4.0, \"population\": 3683.0}, {\"name\": \"Whittier\", \"date\": \"2021-02-10\", \"new_confirmed_cases_seven_day_per_100k\": 216.16799341202304, \"new_confirmed_cases_seven_day_total\": 189.0, \"population\": 87432.0}, {\"name\": \"Whittier Narrows\", \"date\": \"2021-02-10\", \"new_confirmed_cases_seven_day_per_100k\": null, \"new_confirmed_cases_seven_day_total\": 0.0, \"population\": 12.0}, {\"name\": \"Wholesale District\", \"date\": \"2021-02-10\", \"new_confirmed_cases_seven_day_per_100k\": 196.51803260538628, \"new_confirmed_cases_seven_day_total\": 71.0, \"population\": 36129.0}, {\"name\": \"Willowbrook\", \"date\": \"2021-02-10\", \"new_confirmed_cases_seven_day_per_100k\": 335.1187236845874, \"new_confirmed_cases_seven_day_total\": 117.0, \"population\": 34913.0}, {\"name\": \"Wilmington\", \"date\": \"2021-02-10\", \"new_confirmed_cases_seven_day_per_100k\": 311.576114858286, \"new_confirmed_cases_seven_day_total\": 176.0, \"population\": 56487.0}, {\"name\": \"Wilshire Center\", \"date\": \"2021-02-10\", \"new_confirmed_cases_seven_day_per_100k\": 287.02411799880406, \"new_confirmed_cases_seven_day_total\": 144.0, \"population\": 50170.0}, {\"name\": \"Winnetka\", \"date\": \"2021-02-10\", \"new_confirmed_cases_seven_day_per_100k\": 204.6885258564091, \"new_confirmed_cases_seven_day_total\": 106.0, \"population\": 51786.0}, {\"name\": \"Wiseburn\", \"date\": \"2021-02-10\", \"new_confirmed_cases_seven_day_per_100k\": 431.3920690227311, \"new_confirmed_cases_seven_day_total\": 26.0, \"population\": 6027.0}, {\"name\": \"Woodland Hills\", \"date\": \"2021-02-10\", \"new_confirmed_cases_seven_day_per_100k\": 148.4093747704063, \"new_confirmed_cases_seven_day_total\": 101.0, \"population\": 68055.0}]}}, {\"mode\": \"vega-lite\"});\n",
       "</script>"
      ],
      "text/plain": [
       "alt.Chart(...)"
      ]
     },
     "execution_count": 22,
     "metadata": {},
     "output_type": "execute_result"
    }
   ],
   "source": [
    "pop_histogram"
   ]
  },
  {
   "cell_type": "markdown",
   "id": "still-relationship",
   "metadata": {},
   "source": [
    "### Limit the dataframe to places with > 5000 population"
   ]
  },
  {
   "cell_type": "code",
   "execution_count": 23,
   "id": "distinguished-intervention",
   "metadata": {},
   "outputs": [],
   "source": [
    "places_lrg = places[places[\"population\"] >= 5000]"
   ]
  },
  {
   "cell_type": "markdown",
   "id": "complete-duncan",
   "metadata": {},
   "source": [
    "---"
   ]
  },
  {
   "cell_type": "markdown",
   "id": "racial-anchor",
   "metadata": {},
   "source": [
    "### Cases during the surge (in large places)? "
   ]
  },
  {
   "cell_type": "code",
   "execution_count": 24,
   "id": "united-sequence",
   "metadata": {},
   "outputs": [],
   "source": [
    "surge_places = places_lrg[\n",
    "    (places_lrg[\"date\"] >= surge_begin) & (places_lrg[\"date\"] <= surge_end)\n",
    "][[\"name\", \"date\", \"new_confirmed_cases_seven_day_per_100k\"]]"
   ]
  },
  {
   "cell_type": "code",
   "execution_count": 25,
   "id": "distinguished-verse",
   "metadata": {},
   "outputs": [],
   "source": [
    "two_cities = surge_places[\n",
    "    (surge_places[\"name\"].str.contains(\"West Los Angeles\"))\n",
    "    | surge_places[\"name\"].str.contains(\"East Los Angeles\")\n",
    "]"
   ]
  },
  {
   "cell_type": "code",
   "execution_count": 26,
   "id": "identical-daily",
   "metadata": {},
   "outputs": [],
   "source": [
    "two_cities2 = surge_places[\n",
    "    (surge_places[\"name\"].str.contains(\"West Hollywood\"))\n",
    "    | surge_places[\"name\"].str.contains(\"Leimert Park\")\n",
    "]"
   ]
  },
  {
   "cell_type": "markdown",
   "id": "front-blind",
   "metadata": {},
   "source": [
    "### Chart two divergent neighborhoods"
   ]
  },
  {
   "cell_type": "code",
   "execution_count": 27,
   "id": "difficult-norwegian",
   "metadata": {},
   "outputs": [],
   "source": [
    "twocities_chart = (\n",
    "    alt.Chart(two_cities)\n",
    "    .mark_line()\n",
    "    .encode(\n",
    "        x=alt.X(\n",
    "            \"date:T\",\n",
    "            axis=alt.Axis(\n",
    "                tickCount=4,\n",
    "                format=(\"%b. %-d\"),\n",
    "                grid=False,\n",
    "                tickColor=\"#ffffff\",\n",
    "                title=\"\",\n",
    "            ),\n",
    "        ),\n",
    "        y=alt.Y(\n",
    "            \"new_confirmed_cases_seven_day_per_100k\",\n",
    "            title=\"\",\n",
    "            axis=alt.Axis(tickColor=\"#ffffff\"),\n",
    "        ),\n",
    "        facet=alt.Facet(\"name:N\", columns=2, title=\"\"),\n",
    "    )\n",
    "    .properties(width=500, height=300)\n",
    "    .configure_axis()\n",
    ")"
   ]
  },
  {
   "cell_type": "code",
   "execution_count": 28,
   "id": "through-cooking",
   "metadata": {},
   "outputs": [],
   "source": [
    "twocities_chart2 = (\n",
    "    alt.Chart(two_cities2)\n",
    "    .mark_line()\n",
    "    .encode(\n",
    "        x=alt.X(\n",
    "            \"date:T\",\n",
    "            axis=alt.Axis(\n",
    "                tickCount=4,\n",
    "                format=(\"%b. %-d\"),\n",
    "                grid=False,\n",
    "                tickColor=\"#ffffff\",\n",
    "                title=\"\",\n",
    "            ),\n",
    "        ),\n",
    "        y=alt.Y(\n",
    "            \"new_confirmed_cases_seven_day_per_100k\",\n",
    "            title=\"\",\n",
    "            axis=alt.Axis(tickColor=\"#ffffff\"),\n",
    "        ),\n",
    "        facet=alt.Facet(\"name:N\", columns=2, title=\"\"),\n",
    "    )\n",
    "    .properties(width=500, height=300)\n",
    "    .configure_axis()\n",
    ")"
   ]
  },
  {
   "cell_type": "code",
   "execution_count": 29,
   "id": "german-british",
   "metadata": {},
   "outputs": [
    {
     "data": {
      "text/html": [
       "\n",
       "<div id=\"altair-viz-94606e49fdc4447fb2c3016754afab21\"></div>\n",
       "<script type=\"text/javascript\">\n",
       "  (function(spec, embedOpt){\n",
       "    let outputDiv = document.currentScript.previousElementSibling;\n",
       "    if (outputDiv.id !== \"altair-viz-94606e49fdc4447fb2c3016754afab21\") {\n",
       "      outputDiv = document.getElementById(\"altair-viz-94606e49fdc4447fb2c3016754afab21\");\n",
       "    }\n",
       "    const paths = {\n",
       "      \"vega\": \"https://cdn.jsdelivr.net/npm//vega@5?noext\",\n",
       "      \"vega-lib\": \"https://cdn.jsdelivr.net/npm//vega-lib?noext\",\n",
       "      \"vega-lite\": \"https://cdn.jsdelivr.net/npm//vega-lite@4.8.1?noext\",\n",
       "      \"vega-embed\": \"https://cdn.jsdelivr.net/npm//vega-embed@6?noext\",\n",
       "    };\n",
       "\n",
       "    function loadScript(lib) {\n",
       "      return new Promise(function(resolve, reject) {\n",
       "        var s = document.createElement('script');\n",
       "        s.src = paths[lib];\n",
       "        s.async = true;\n",
       "        s.onload = () => resolve(paths[lib]);\n",
       "        s.onerror = () => reject(`Error loading script: ${paths[lib]}`);\n",
       "        document.getElementsByTagName(\"head\")[0].appendChild(s);\n",
       "      });\n",
       "    }\n",
       "\n",
       "    function showError(err) {\n",
       "      outputDiv.innerHTML = `<div class=\"error\" style=\"color:red;\">${err}</div>`;\n",
       "      throw err;\n",
       "    }\n",
       "\n",
       "    function displayChart(vegaEmbed) {\n",
       "      vegaEmbed(outputDiv, spec, embedOpt)\n",
       "        .catch(err => showError(`Javascript Error: ${err.message}<br>This usually means there's a typo in your chart specification. See the javascript console for the full traceback.`));\n",
       "    }\n",
       "\n",
       "    if(typeof define === \"function\" && define.amd) {\n",
       "      requirejs.config({paths});\n",
       "      require([\"vega-embed\"], displayChart, err => showError(`Error loading script: ${err.message}`));\n",
       "    } else if (typeof vegaEmbed === \"function\") {\n",
       "      displayChart(vegaEmbed);\n",
       "    } else {\n",
       "      loadScript(\"vega\")\n",
       "        .then(() => loadScript(\"vega-lite\"))\n",
       "        .then(() => loadScript(\"vega-embed\"))\n",
       "        .catch(showError)\n",
       "        .then(() => displayChart(vegaEmbed));\n",
       "    }\n",
       "  })({\"config\": {\"view\": {\"width\": 800, \"height\": 450}, \"background\": \"#ffffff\", \"title\": {\"anchor\": \"start\", \"font\": \"Benton Gothic Bold, sans\", \"fontColor\": \"#000000\", \"fontSize\": 22, \"fontWeight\": \"normal\"}, \"arc\": {\"fill\": \"#82c6df\"}, \"area\": {\"fill\": \"#82c6df\"}, \"line\": {\"stroke\": \"#82c6df\", \"strokeWidth\": 3}, \"path\": {\"stroke\": \"#82c6df\"}, \"rect\": {\"fill\": \"#82c6df\"}, \"shape\": {\"stroke\": \"#82c6df\"}, \"bar\": {\"fill\": \"#82c6df\"}, \"point\": {\"stroke\": \"#82c6df\"}, \"symbol\": {\"fill\": \"#82c6df\", \"size\": 30}, \"axis\": {\"titleFont\": \"Benton Gothic Bold, sans\", \"titleFontSize\": 13, \"titleFontWeight\": \"normal\", \"labelFont\": \"Benton Gothic, sans\", \"labelFontSize\": 11.5, \"labelFontWeight\": \"normal\"}, \"axisX\": {\"labelAngle\": 0, \"labelPadding\": 4, \"tickSize\": 3}, \"axisY\": {\"labelBaseline\": \"middle\", \"maxExtent\": 45, \"minExtent\": 45, \"tickSize\": 2, \"titleAlign\": \"left\", \"titleAngle\": 0, \"titleX\": -45, \"titleY\": -11}, \"legend\": {\"titleFont\": \"Benton Gothic Bold, sans\", \"titleFontSize\": 13, \"titleFontWeight\": \"normal\", \"symbolType\": \"square\", \"labelFont\": \"Benton Gothic, sans\", \"labelFontSize\": 11.5}, \"range\": {\"category\": [\"#3580b1\", \"#ec8431\", \"#ab7fb4\", \"#c89d29\", \"#adc839\", \"#829eb1\"], \"diverging\": [\"#e68a4f\", \"#f4bb6a\", \"#f9e39c\", \"#dadfe2\", \"#a6b7c6\", \"#849eae\"], \"heatmap\": [\"#fbf2c7\", \"#f9e39c\", \"#f8d36e\", \"#f4bb6a\", \"#e68a4f\", \"#d15a40\", \"#ab4232\"], \"ordinal\": [\"#fbf2c7\", \"#f9e39c\", \"#f8d36e\", \"#f4bb6a\", \"#e68a4f\", \"#d15a40\", \"#ab4232\"], \"ramp\": [\"#fbf2c7\", \"#f9e39c\", \"#f8d36e\", \"#f4bb6a\", \"#e68a4f\", \"#d15a40\", \"#ab4232\"]}}, \"data\": {\"name\": \"data-0eeb5999db68cefca445ffb38f9f432f\"}, \"mark\": \"line\", \"encoding\": {\"facet\": {\"type\": \"nominal\", \"columns\": 2, \"field\": \"name\", \"title\": \"\"}, \"x\": {\"type\": \"temporal\", \"axis\": {\"format\": \"%b. %-d\", \"grid\": false, \"tickColor\": \"#ffffff\", \"tickCount\": 4, \"title\": \"\"}, \"field\": \"date\"}, \"y\": {\"type\": \"quantitative\", \"axis\": {\"tickColor\": \"#ffffff\"}, \"field\": \"new_confirmed_cases_seven_day_per_100k\", \"title\": \"\"}}, \"height\": 300, \"width\": 500, \"$schema\": \"https://vega.github.io/schema/vega-lite/v4.8.1.json\", \"datasets\": {\"data-0eeb5999db68cefca445ffb38f9f432f\": [{\"name\": \"East Los Angeles\", \"date\": \"2020-11-15\", \"new_confirmed_cases_seven_day_per_100k\": 235.49321859358665}, {\"name\": \"East Los Angeles\", \"date\": \"2020-11-16\", \"new_confirmed_cases_seven_day_per_100k\": 256.2485531136993}, {\"name\": \"East Los Angeles\", \"date\": \"2020-11-17\", \"new_confirmed_cases_seven_day_per_100k\": 258.6433994044816}, {\"name\": \"East Los Angeles\", \"date\": \"2020-11-18\", \"new_confirmed_cases_seven_day_per_100k\": 300.9523505416344}, {\"name\": \"East Los Angeles\", \"date\": \"2020-11-19\", \"new_confirmed_cases_seven_day_per_100k\": 340.0681732910776}, {\"name\": \"East Los Angeles\", \"date\": \"2020-11-20\", \"new_confirmed_cases_seven_day_per_100k\": 308.13688941398107}, {\"name\": \"East Los Angeles\", \"date\": \"2020-11-21\", \"new_confirmed_cases_seven_day_per_100k\": 375.1925855558837}, {\"name\": \"East Los Angeles\", \"date\": \"2020-11-22\", \"new_confirmed_cases_seven_day_per_100k\": 371.9994571681741}, {\"name\": \"East Los Angeles\", \"date\": \"2020-11-23\", \"new_confirmed_cases_seven_day_per_100k\": 415.9049724991817}, {\"name\": \"East Los Angeles\", \"date\": \"2020-11-24\", \"new_confirmed_cases_seven_day_per_100k\": 452.6259489578428}, {\"name\": \"East Los Angeles\", \"date\": \"2020-11-25\", \"new_confirmed_cases_seven_day_per_100k\": 455.8190773455524}, {\"name\": \"East Los Angeles\", \"date\": \"2020-11-26\", \"new_confirmed_cases_seven_day_per_100k\": 443.0465637947137}, {\"name\": \"East Los Angeles\", \"date\": \"2020-11-27\", \"new_confirmed_cases_seven_day_per_100k\": 511.6988241304713}, {\"name\": \"East Los Angeles\", \"date\": \"2020-11-28\", \"new_confirmed_cases_seven_day_per_100k\": 415.1066904022544}, {\"name\": \"East Los Angeles\", \"date\": \"2020-11-29\", \"new_confirmed_cases_seven_day_per_100k\": 447.83625637627824}, {\"name\": \"East Los Angeles\", \"date\": \"2020-11-30\", \"new_confirmed_cases_seven_day_per_100k\": 447.0379742793508}, {\"name\": \"East Los Angeles\", \"date\": \"2020-12-01\", \"new_confirmed_cases_seven_day_per_100k\": 517.2867988089631}, {\"name\": \"East Los Angeles\", \"date\": \"2020-12-02\", \"new_confirmed_cases_seven_day_per_100k\": 549.2180826860596}, {\"name\": \"East Los Angeles\", \"date\": \"2020-12-03\", \"new_confirmed_cases_seven_day_per_100k\": 622.6600356033815}, {\"name\": \"East Los Angeles\", \"date\": \"2020-12-04\", \"new_confirmed_cases_seven_day_per_100k\": 674.5483719036633}, {\"name\": \"East Los Angeles\", \"date\": \"2020-12-05\", \"new_confirmed_cases_seven_day_per_100k\": 869.329203553952}, {\"name\": \"East Los Angeles\", \"date\": \"2020-12-06\", \"new_confirmed_cases_seven_day_per_100k\": 945.166002762056}, {\"name\": \"East Los Angeles\", \"date\": \"2020-12-07\", \"new_confirmed_cases_seven_day_per_100k\": 987.4749538992088}, {\"name\": \"East Los Angeles\", \"date\": \"2020-12-08\", \"new_confirmed_cases_seven_day_per_100k\": 1040.9598543933455}, {\"name\": \"East Los Angeles\", \"date\": \"2020-12-09\", \"new_confirmed_cases_seven_day_per_100k\": 1069.6980098827323}, {\"name\": \"East Los Angeles\", \"date\": \"2020-12-10\", \"new_confirmed_cases_seven_day_per_100k\": 1183.054067646425}, {\"name\": \"East Los Angeles\", \"date\": \"2020-12-11\", \"new_confirmed_cases_seven_day_per_100k\": 1317.9637420271577}, {\"name\": \"East Los Angeles\", \"date\": \"2020-12-12\", \"new_confirmed_cases_seven_day_per_100k\": 1256.496020563747}, {\"name\": \"East Los Angeles\", \"date\": \"2020-12-13\", \"new_confirmed_cases_seven_day_per_100k\": 1367.4572320366572}, {\"name\": \"East Los Angeles\", \"date\": \"2020-12-14\", \"new_confirmed_cases_seven_day_per_100k\": 1339.5173586441977}, {\"name\": \"East Los Angeles\", \"date\": \"2020-12-15\", \"new_confirmed_cases_seven_day_per_100k\": 1342.7104870319072}, {\"name\": \"East Los Angeles\", \"date\": \"2020-12-16\", \"new_confirmed_cases_seven_day_per_100k\": 1677.1906856444932}, {\"name\": \"East Los Angeles\", \"date\": \"2020-12-17\", \"new_confirmed_cases_seven_day_per_100k\": 1699.5425843584603}, {\"name\": \"East Los Angeles\", \"date\": \"2020-12-18\", \"new_confirmed_cases_seven_day_per_100k\": 1766.5982805003634}, {\"name\": \"East Los Angeles\", \"date\": \"2020-12-19\", \"new_confirmed_cases_seven_day_per_100k\": 1812.898642122153}, {\"name\": \"East Los Angeles\", \"date\": \"2020-12-20\", \"new_confirmed_cases_seven_day_per_100k\": 1768.9931267911456}, {\"name\": \"East Los Angeles\", \"date\": \"2020-12-21\", \"new_confirmed_cases_seven_day_per_100k\": 1832.057412448411}, {\"name\": \"East Los Angeles\", \"date\": \"2020-12-22\", \"new_confirmed_cases_seven_day_per_100k\": 1828.8642840607013}, {\"name\": \"East Los Angeles\", \"date\": \"2020-12-23\", \"new_confirmed_cases_seven_day_per_100k\": 1681.9803782260574}, {\"name\": \"East Los Angeles\", \"date\": \"2020-12-24\", \"new_confirmed_cases_seven_day_per_100k\": 1622.9075030534289}, {\"name\": \"East Los Angeles\", \"date\": \"2020-12-25\", \"new_confirmed_cases_seven_day_per_100k\": 1300.4015358947545}, {\"name\": \"East Los Angeles\", \"date\": \"2020-12-26\", \"new_confirmed_cases_seven_day_per_100k\": 1623.7057851503564}, {\"name\": \"East Los Angeles\", \"date\": \"2020-12-27\", \"new_confirmed_cases_seven_day_per_100k\": 1642.066273379687}, {\"name\": \"East Los Angeles\", \"date\": \"2020-12-28\", \"new_confirmed_cases_seven_day_per_100k\": 1717.1047904908637}, {\"name\": \"East Los Angeles\", \"date\": \"2020-12-29\", \"new_confirmed_cases_seven_day_per_100k\": 1717.1047904908637}, {\"name\": \"East Los Angeles\", \"date\": \"2020-12-30\", \"new_confirmed_cases_seven_day_per_100k\": 1590.177937079405}, {\"name\": \"East Los Angeles\", \"date\": \"2020-12-31\", \"new_confirmed_cases_seven_day_per_100k\": 1590.177937079405}, {\"name\": \"East Los Angeles\", \"date\": \"2021-01-01\", \"new_confirmed_cases_seven_day_per_100k\": 1899.9113906872408}, {\"name\": \"East Los Angeles\", \"date\": \"2021-01-02\", \"new_confirmed_cases_seven_day_per_100k\": 1648.4525301551062}, {\"name\": \"East Los Angeles\", \"date\": \"2021-01-03\", \"new_confirmed_cases_seven_day_per_100k\": 1602.9504506302435}, {\"name\": \"East Los Angeles\", \"date\": \"2021-01-04\", \"new_confirmed_cases_seven_day_per_100k\": 1512.7445736774462}, {\"name\": \"East Los Angeles\", \"date\": \"2021-01-05\", \"new_confirmed_cases_seven_day_per_100k\": 1463.251083667947}, {\"name\": \"East Los Angeles\", \"date\": \"2021-01-06\", \"new_confirmed_cases_seven_day_per_100k\": 1404.9764905922457}, {\"name\": \"East Los Angeles\", \"date\": \"2021-01-07\", \"new_confirmed_cases_seven_day_per_100k\": 1462.452801571019}, {\"name\": \"East Los Angeles\", \"date\": \"2021-01-08\", \"new_confirmed_cases_seven_day_per_100k\": 1470.4356225402933}, {\"name\": \"East Los Angeles\", \"date\": \"2021-01-09\", \"new_confirmed_cases_seven_day_per_100k\": 1478.4184435095674}, {\"name\": \"East Los Angeles\", \"date\": \"2021-01-10\", \"new_confirmed_cases_seven_day_per_100k\": 1497.5772138358254}, {\"name\": \"East Los Angeles\", \"date\": \"2021-01-11\", \"new_confirmed_cases_seven_day_per_100k\": 1572.615730947002}, {\"name\": \"East Los Angeles\", \"date\": \"2021-01-12\", \"new_confirmed_cases_seven_day_per_100k\": 1590.9762191763325}, {\"name\": \"East Los Angeles\", \"date\": \"2021-01-13\", \"new_confirmed_cases_seven_day_per_100k\": 1649.2508122520337}, {\"name\": \"East Los Angeles\", \"date\": \"2021-01-14\", \"new_confirmed_cases_seven_day_per_100k\": 1650.8473764458884}, {\"name\": \"East Los Angeles\", \"date\": \"2021-01-15\", \"new_confirmed_cases_seven_day_per_100k\": 1524.7188051313574}, {\"name\": \"West Los Angeles\", \"date\": \"2020-11-15\", \"new_confirmed_cases_seven_day_per_100k\": 106.28122010840684}, {\"name\": \"West Los Angeles\", \"date\": \"2020-11-16\", \"new_confirmed_cases_seven_day_per_100k\": 106.28122010840684}, {\"name\": \"West Los Angeles\", \"date\": \"2020-11-17\", \"new_confirmed_cases_seven_day_per_100k\": 98.31012860027631}, {\"name\": \"West Los Angeles\", \"date\": \"2020-11-18\", \"new_confirmed_cases_seven_day_per_100k\": 103.62418960569669}, {\"name\": \"West Los Angeles\", \"date\": \"2020-11-19\", \"new_confirmed_cases_seven_day_per_100k\": 132.85152513550855}, {\"name\": \"West Los Angeles\", \"date\": \"2020-11-20\", \"new_confirmed_cases_seven_day_per_100k\": 111.5952811138272}, {\"name\": \"West Los Angeles\", \"date\": \"2020-11-21\", \"new_confirmed_cases_seven_day_per_100k\": 138.1655861409289}, {\"name\": \"West Los Angeles\", \"date\": \"2020-11-22\", \"new_confirmed_cases_seven_day_per_100k\": 132.85152513550855}, {\"name\": \"West Los Angeles\", \"date\": \"2020-11-23\", \"new_confirmed_cases_seven_day_per_100k\": 156.7647996599001}, {\"name\": \"West Los Angeles\", \"date\": \"2020-11-24\", \"new_confirmed_cases_seven_day_per_100k\": 180.67807418429163}, {\"name\": \"West Los Angeles\", \"date\": \"2020-11-25\", \"new_confirmed_cases_seven_day_per_100k\": 207.2483792113933}, {\"name\": \"West Los Angeles\", \"date\": \"2020-11-26\", \"new_confirmed_cases_seven_day_per_100k\": 207.2483792113933}, {\"name\": \"West Los Angeles\", \"date\": \"2020-11-27\", \"new_confirmed_cases_seven_day_per_100k\": 215.21947071952383}, {\"name\": \"West Los Angeles\", \"date\": \"2020-11-28\", \"new_confirmed_cases_seven_day_per_100k\": 170.04995217345095}, {\"name\": \"West Los Angeles\", \"date\": \"2020-11-29\", \"new_confirmed_cases_seven_day_per_100k\": 175.3640131788713}, {\"name\": \"West Los Angeles\", \"date\": \"2020-11-30\", \"new_confirmed_cases_seven_day_per_100k\": 170.04995217345095}, {\"name\": \"West Los Angeles\", \"date\": \"2020-12-01\", \"new_confirmed_cases_seven_day_per_100k\": 180.67807418429163}, {\"name\": \"West Los Angeles\", \"date\": \"2020-12-02\", \"new_confirmed_cases_seven_day_per_100k\": 185.992135189712}, {\"name\": \"West Los Angeles\", \"date\": \"2020-12-03\", \"new_confirmed_cases_seven_day_per_100k\": 199.27728770326283}, {\"name\": \"West Los Angeles\", \"date\": \"2020-12-04\", \"new_confirmed_cases_seven_day_per_100k\": 225.84759273036457}, {\"name\": \"West Los Angeles\", \"date\": \"2020-12-05\", \"new_confirmed_cases_seven_day_per_100k\": 263.04601976830696}, {\"name\": \"West Los Angeles\", \"date\": \"2020-12-06\", \"new_confirmed_cases_seven_day_per_100k\": 276.3311722818578}, {\"name\": \"West Los Angeles\", \"date\": \"2020-12-07\", \"new_confirmed_cases_seven_day_per_100k\": 313.5295993198002}, {\"name\": \"West Los Angeles\", \"date\": \"2020-12-08\", \"new_confirmed_cases_seven_day_per_100k\": 324.15772133064087}, {\"name\": \"West Los Angeles\", \"date\": \"2020-12-09\", \"new_confirmed_cases_seven_day_per_100k\": 305.55850781166964}, {\"name\": \"West Los Angeles\", \"date\": \"2020-12-10\", \"new_confirmed_cases_seven_day_per_100k\": 329.4717823360612}, {\"name\": \"West Los Angeles\", \"date\": \"2020-12-11\", \"new_confirmed_cases_seven_day_per_100k\": 361.35614836858326}, {\"name\": \"West Los Angeles\", \"date\": \"2020-12-12\", \"new_confirmed_cases_seven_day_per_100k\": 382.61239239026463}, {\"name\": \"West Los Angeles\", \"date\": \"2020-12-13\", \"new_confirmed_cases_seven_day_per_100k\": 390.5834838983952}, {\"name\": \"West Los Angeles\", \"date\": \"2020-12-14\", \"new_confirmed_cases_seven_day_per_100k\": 342.7569348496121}, {\"name\": \"West Los Angeles\", \"date\": \"2020-12-15\", \"new_confirmed_cases_seven_day_per_100k\": 374.64130088213415}, {\"name\": \"West Los Angeles\", \"date\": \"2020-12-16\", \"new_confirmed_cases_seven_day_per_100k\": 430.4389414390477}, {\"name\": \"West Los Angeles\", \"date\": \"2020-12-17\", \"new_confirmed_cases_seven_day_per_100k\": 433.0959719417579}, {\"name\": \"West Los Angeles\", \"date\": \"2020-12-18\", \"new_confirmed_cases_seven_day_per_100k\": 422.4678499309172}, {\"name\": \"West Los Angeles\", \"date\": \"2020-12-19\", \"new_confirmed_cases_seven_day_per_100k\": 417.1537889254969}, {\"name\": \"West Los Angeles\", \"date\": \"2020-12-20\", \"new_confirmed_cases_seven_day_per_100k\": 446.3811244553088}, {\"name\": \"West Los Angeles\", \"date\": \"2020-12-21\", \"new_confirmed_cases_seven_day_per_100k\": 472.9514294824105}, {\"name\": \"West Los Angeles\", \"date\": \"2020-12-22\", \"new_confirmed_cases_seven_day_per_100k\": 454.3522159634393}, {\"name\": \"West Los Angeles\", \"date\": \"2020-12-23\", \"new_confirmed_cases_seven_day_per_100k\": 435.75300244446805}, {\"name\": \"West Los Angeles\", \"date\": \"2020-12-24\", \"new_confirmed_cases_seven_day_per_100k\": 425.12488043362737}, {\"name\": \"West Los Angeles\", \"date\": \"2020-12-25\", \"new_confirmed_cases_seven_day_per_100k\": 369.3272398767138}, {\"name\": \"West Los Angeles\", \"date\": \"2020-12-26\", \"new_confirmed_cases_seven_day_per_100k\": 438.4100329471783}, {\"name\": \"West Los Angeles\", \"date\": \"2020-12-27\", \"new_confirmed_cases_seven_day_per_100k\": 417.1537889254969}, {\"name\": \"West Los Angeles\", \"date\": \"2020-12-28\", \"new_confirmed_cases_seven_day_per_100k\": 414.4967584227867}, {\"name\": \"West Los Angeles\", \"date\": \"2020-12-29\", \"new_confirmed_cases_seven_day_per_100k\": 417.1537889254969}, {\"name\": \"West Los Angeles\", \"date\": \"2020-12-30\", \"new_confirmed_cases_seven_day_per_100k\": 379.9553618875545}, {\"name\": \"West Los Angeles\", \"date\": \"2020-12-31\", \"new_confirmed_cases_seven_day_per_100k\": 422.4678499309172}, {\"name\": \"West Los Angeles\", \"date\": \"2021-01-01\", \"new_confirmed_cases_seven_day_per_100k\": 510.1498565203528}, {\"name\": \"West Los Angeles\", \"date\": \"2021-01-02\", \"new_confirmed_cases_seven_day_per_100k\": 425.12488043362737}, {\"name\": \"West Los Angeles\", \"date\": \"2021-01-03\", \"new_confirmed_cases_seven_day_per_100k\": 395.89754490381546}, {\"name\": \"West Los Angeles\", \"date\": \"2021-01-04\", \"new_confirmed_cases_seven_day_per_100k\": 403.868636411946}, {\"name\": \"West Los Angeles\", \"date\": \"2021-01-05\", \"new_confirmed_cases_seven_day_per_100k\": 377.2983313848443}, {\"name\": \"West Los Angeles\", \"date\": \"2021-01-06\", \"new_confirmed_cases_seven_day_per_100k\": 385.2694228929748}, {\"name\": \"West Los Angeles\", \"date\": \"2021-01-07\", \"new_confirmed_cases_seven_day_per_100k\": 377.2983313848443}, {\"name\": \"West Los Angeles\", \"date\": \"2021-01-08\", \"new_confirmed_cases_seven_day_per_100k\": 409.1826974173664}, {\"name\": \"West Los Angeles\", \"date\": \"2021-01-09\", \"new_confirmed_cases_seven_day_per_100k\": 475.6084599851206}, {\"name\": \"West Los Angeles\", \"date\": \"2021-01-10\", \"new_confirmed_cases_seven_day_per_100k\": 502.1787650122223}, {\"name\": \"West Los Angeles\", \"date\": \"2021-01-11\", \"new_confirmed_cases_seven_day_per_100k\": 520.7779785311935}, {\"name\": \"West Los Angeles\", \"date\": \"2021-01-12\", \"new_confirmed_cases_seven_day_per_100k\": 568.6045275799767}, {\"name\": \"West Los Angeles\", \"date\": \"2021-01-13\", \"new_confirmed_cases_seven_day_per_100k\": 592.5178021043681}, {\"name\": \"West Los Angeles\", \"date\": \"2021-01-14\", \"new_confirmed_cases_seven_day_per_100k\": 608.4599851206292}, {\"name\": \"West Los Angeles\", \"date\": \"2021-01-15\", \"new_confirmed_cases_seven_day_per_100k\": 576.5756190881071}]}}, {\"mode\": \"vega-lite\"});\n",
       "</script>"
      ],
      "text/plain": [
       "alt.Chart(...)"
      ]
     },
     "execution_count": 29,
     "metadata": {},
     "output_type": "execute_result"
    }
   ],
   "source": [
    "twocities_chart"
   ]
  },
  {
   "cell_type": "code",
   "execution_count": 30,
   "id": "ceramic-transport",
   "metadata": {},
   "outputs": [
    {
     "data": {
      "text/html": [
       "\n",
       "<div id=\"altair-viz-a8fd7d0220e340e7a9d1df9e002493b1\"></div>\n",
       "<script type=\"text/javascript\">\n",
       "  (function(spec, embedOpt){\n",
       "    let outputDiv = document.currentScript.previousElementSibling;\n",
       "    if (outputDiv.id !== \"altair-viz-a8fd7d0220e340e7a9d1df9e002493b1\") {\n",
       "      outputDiv = document.getElementById(\"altair-viz-a8fd7d0220e340e7a9d1df9e002493b1\");\n",
       "    }\n",
       "    const paths = {\n",
       "      \"vega\": \"https://cdn.jsdelivr.net/npm//vega@5?noext\",\n",
       "      \"vega-lib\": \"https://cdn.jsdelivr.net/npm//vega-lib?noext\",\n",
       "      \"vega-lite\": \"https://cdn.jsdelivr.net/npm//vega-lite@4.8.1?noext\",\n",
       "      \"vega-embed\": \"https://cdn.jsdelivr.net/npm//vega-embed@6?noext\",\n",
       "    };\n",
       "\n",
       "    function loadScript(lib) {\n",
       "      return new Promise(function(resolve, reject) {\n",
       "        var s = document.createElement('script');\n",
       "        s.src = paths[lib];\n",
       "        s.async = true;\n",
       "        s.onload = () => resolve(paths[lib]);\n",
       "        s.onerror = () => reject(`Error loading script: ${paths[lib]}`);\n",
       "        document.getElementsByTagName(\"head\")[0].appendChild(s);\n",
       "      });\n",
       "    }\n",
       "\n",
       "    function showError(err) {\n",
       "      outputDiv.innerHTML = `<div class=\"error\" style=\"color:red;\">${err}</div>`;\n",
       "      throw err;\n",
       "    }\n",
       "\n",
       "    function displayChart(vegaEmbed) {\n",
       "      vegaEmbed(outputDiv, spec, embedOpt)\n",
       "        .catch(err => showError(`Javascript Error: ${err.message}<br>This usually means there's a typo in your chart specification. See the javascript console for the full traceback.`));\n",
       "    }\n",
       "\n",
       "    if(typeof define === \"function\" && define.amd) {\n",
       "      requirejs.config({paths});\n",
       "      require([\"vega-embed\"], displayChart, err => showError(`Error loading script: ${err.message}`));\n",
       "    } else if (typeof vegaEmbed === \"function\") {\n",
       "      displayChart(vegaEmbed);\n",
       "    } else {\n",
       "      loadScript(\"vega\")\n",
       "        .then(() => loadScript(\"vega-lite\"))\n",
       "        .then(() => loadScript(\"vega-embed\"))\n",
       "        .catch(showError)\n",
       "        .then(() => displayChart(vegaEmbed));\n",
       "    }\n",
       "  })({\"config\": {\"view\": {\"width\": 800, \"height\": 450}, \"background\": \"#ffffff\", \"title\": {\"anchor\": \"start\", \"font\": \"Benton Gothic Bold, sans\", \"fontColor\": \"#000000\", \"fontSize\": 22, \"fontWeight\": \"normal\"}, \"arc\": {\"fill\": \"#82c6df\"}, \"area\": {\"fill\": \"#82c6df\"}, \"line\": {\"stroke\": \"#82c6df\", \"strokeWidth\": 3}, \"path\": {\"stroke\": \"#82c6df\"}, \"rect\": {\"fill\": \"#82c6df\"}, \"shape\": {\"stroke\": \"#82c6df\"}, \"bar\": {\"fill\": \"#82c6df\"}, \"point\": {\"stroke\": \"#82c6df\"}, \"symbol\": {\"fill\": \"#82c6df\", \"size\": 30}, \"axis\": {\"titleFont\": \"Benton Gothic Bold, sans\", \"titleFontSize\": 13, \"titleFontWeight\": \"normal\", \"labelFont\": \"Benton Gothic, sans\", \"labelFontSize\": 11.5, \"labelFontWeight\": \"normal\"}, \"axisX\": {\"labelAngle\": 0, \"labelPadding\": 4, \"tickSize\": 3}, \"axisY\": {\"labelBaseline\": \"middle\", \"maxExtent\": 45, \"minExtent\": 45, \"tickSize\": 2, \"titleAlign\": \"left\", \"titleAngle\": 0, \"titleX\": -45, \"titleY\": -11}, \"legend\": {\"titleFont\": \"Benton Gothic Bold, sans\", \"titleFontSize\": 13, \"titleFontWeight\": \"normal\", \"symbolType\": \"square\", \"labelFont\": \"Benton Gothic, sans\", \"labelFontSize\": 11.5}, \"range\": {\"category\": [\"#3580b1\", \"#ec8431\", \"#ab7fb4\", \"#c89d29\", \"#adc839\", \"#829eb1\"], \"diverging\": [\"#e68a4f\", \"#f4bb6a\", \"#f9e39c\", \"#dadfe2\", \"#a6b7c6\", \"#849eae\"], \"heatmap\": [\"#fbf2c7\", \"#f9e39c\", \"#f8d36e\", \"#f4bb6a\", \"#e68a4f\", \"#d15a40\", \"#ab4232\"], \"ordinal\": [\"#fbf2c7\", \"#f9e39c\", \"#f8d36e\", \"#f4bb6a\", \"#e68a4f\", \"#d15a40\", \"#ab4232\"], \"ramp\": [\"#fbf2c7\", \"#f9e39c\", \"#f8d36e\", \"#f4bb6a\", \"#e68a4f\", \"#d15a40\", \"#ab4232\"]}}, \"data\": {\"name\": \"data-8e1af4afa22e282c3bcba3a6b4e79a15\"}, \"mark\": \"line\", \"encoding\": {\"facet\": {\"type\": \"nominal\", \"columns\": 2, \"field\": \"name\", \"title\": \"\"}, \"x\": {\"type\": \"temporal\", \"axis\": {\"format\": \"%b. %-d\", \"grid\": false, \"tickColor\": \"#ffffff\", \"tickCount\": 4, \"title\": \"\"}, \"field\": \"date\"}, \"y\": {\"type\": \"quantitative\", \"axis\": {\"tickColor\": \"#ffffff\"}, \"field\": \"new_confirmed_cases_seven_day_per_100k\", \"title\": \"\"}}, \"height\": 300, \"width\": 500, \"$schema\": \"https://vega.github.io/schema/vega-lite/v4.8.1.json\", \"datasets\": {\"data-8e1af4afa22e282c3bcba3a6b4e79a15\": [{\"name\": \"Leimert Park\", \"date\": \"2020-11-15\", \"new_confirmed_cases_seven_day_per_100k\": 59.0744995077125}, {\"name\": \"Leimert Park\", \"date\": \"2020-11-16\", \"new_confirmed_cases_seven_day_per_100k\": 65.63833278634722}, {\"name\": \"Leimert Park\", \"date\": \"2020-11-17\", \"new_confirmed_cases_seven_day_per_100k\": 98.45749917952084}, {\"name\": \"Leimert Park\", \"date\": \"2020-11-18\", \"new_confirmed_cases_seven_day_per_100k\": 98.45749917952084}, {\"name\": \"Leimert Park\", \"date\": \"2020-11-19\", \"new_confirmed_cases_seven_day_per_100k\": 124.71283229405974}, {\"name\": \"Leimert Park\", \"date\": \"2020-11-20\", \"new_confirmed_cases_seven_day_per_100k\": 118.148999015425}, {\"name\": \"Leimert Park\", \"date\": \"2020-11-21\", \"new_confirmed_cases_seven_day_per_100k\": 203.4788316376764}, {\"name\": \"Leimert Park\", \"date\": \"2020-11-22\", \"new_confirmed_cases_seven_day_per_100k\": 216.60649819494583}, {\"name\": \"Leimert Park\", \"date\": \"2020-11-23\", \"new_confirmed_cases_seven_day_per_100k\": 249.42566458811947}, {\"name\": \"Leimert Park\", \"date\": \"2020-11-24\", \"new_confirmed_cases_seven_day_per_100k\": 242.86183130948476}, {\"name\": \"Leimert Park\", \"date\": \"2020-11-25\", \"new_confirmed_cases_seven_day_per_100k\": 269.1171644240236}, {\"name\": \"Leimert Park\", \"date\": \"2020-11-26\", \"new_confirmed_cases_seven_day_per_100k\": 282.2448309812931}, {\"name\": \"Leimert Park\", \"date\": \"2020-11-27\", \"new_confirmed_cases_seven_day_per_100k\": 321.6278306531014}, {\"name\": \"Leimert Park\", \"date\": \"2020-11-28\", \"new_confirmed_cases_seven_day_per_100k\": 255.9894978667542}, {\"name\": \"Leimert Park\", \"date\": \"2020-11-29\", \"new_confirmed_cases_seven_day_per_100k\": 262.5533311453889}, {\"name\": \"Leimert Park\", \"date\": \"2020-11-30\", \"new_confirmed_cases_seven_day_per_100k\": 315.0639973744667}, {\"name\": \"Leimert Park\", \"date\": \"2020-12-01\", \"new_confirmed_cases_seven_day_per_100k\": 334.7554972103709}, {\"name\": \"Leimert Park\", \"date\": \"2020-12-02\", \"new_confirmed_cases_seven_day_per_100k\": 315.0639973744667}, {\"name\": \"Leimert Park\", \"date\": \"2020-12-03\", \"new_confirmed_cases_seven_day_per_100k\": 354.44699704627504}, {\"name\": \"Leimert Park\", \"date\": \"2020-12-04\", \"new_confirmed_cases_seven_day_per_100k\": 347.88316376764027}, {\"name\": \"Leimert Park\", \"date\": \"2020-12-05\", \"new_confirmed_cases_seven_day_per_100k\": 367.5746636035444}, {\"name\": \"Leimert Park\", \"date\": \"2020-12-06\", \"new_confirmed_cases_seven_day_per_100k\": 452.9044962257959}, {\"name\": \"Leimert Park\", \"date\": \"2020-12-07\", \"new_confirmed_cases_seven_day_per_100k\": 433.2129963898917}, {\"name\": \"Leimert Park\", \"date\": \"2020-12-08\", \"new_confirmed_cases_seven_day_per_100k\": 485.7236626189695}, {\"name\": \"Leimert Park\", \"date\": \"2020-12-09\", \"new_confirmed_cases_seven_day_per_100k\": 531.6704955694125}, {\"name\": \"Leimert Park\", \"date\": \"2020-12-10\", \"new_confirmed_cases_seven_day_per_100k\": 590.744995077125}, {\"name\": \"Leimert Park\", \"date\": \"2020-12-11\", \"new_confirmed_cases_seven_day_per_100k\": 662.947161142107}, {\"name\": \"Leimert Park\", \"date\": \"2020-12-12\", \"new_confirmed_cases_seven_day_per_100k\": 715.4578273711847}, {\"name\": \"Leimert Park\", \"date\": \"2020-12-13\", \"new_confirmed_cases_seven_day_per_100k\": 722.0216606498195}, {\"name\": \"Leimert Park\", \"date\": \"2020-12-14\", \"new_confirmed_cases_seven_day_per_100k\": 689.2024942566459}, {\"name\": \"Leimert Park\", \"date\": \"2020-12-15\", \"new_confirmed_cases_seven_day_per_100k\": 702.3301608139153}, {\"name\": \"Leimert Park\", \"date\": \"2020-12-16\", \"new_confirmed_cases_seven_day_per_100k\": 754.8408270429932}, {\"name\": \"Leimert Park\", \"date\": \"2020-12-17\", \"new_confirmed_cases_seven_day_per_100k\": 689.2024942566459}, {\"name\": \"Leimert Park\", \"date\": \"2020-12-18\", \"new_confirmed_cases_seven_day_per_100k\": 728.5854939284542}, {\"name\": \"Leimert Park\", \"date\": \"2020-12-19\", \"new_confirmed_cases_seven_day_per_100k\": 761.4046603216278}, {\"name\": \"Leimert Park\", \"date\": \"2020-12-20\", \"new_confirmed_cases_seven_day_per_100k\": 748.2769937643584}, {\"name\": \"Leimert Park\", \"date\": \"2020-12-21\", \"new_confirmed_cases_seven_day_per_100k\": 853.298326222514}, {\"name\": \"Leimert Park\", \"date\": \"2020-12-22\", \"new_confirmed_cases_seven_day_per_100k\": 918.9366590088612}, {\"name\": \"Leimert Park\", \"date\": \"2020-12-23\", \"new_confirmed_cases_seven_day_per_100k\": 892.6813258943223}, {\"name\": \"Leimert Park\", \"date\": \"2020-12-24\", \"new_confirmed_cases_seven_day_per_100k\": 918.9366590088612}, {\"name\": \"Leimert Park\", \"date\": \"2020-12-25\", \"new_confirmed_cases_seven_day_per_100k\": 774.5323268788973}, {\"name\": \"Leimert Park\", \"date\": \"2020-12-26\", \"new_confirmed_cases_seven_day_per_100k\": 846.7344929438791}, {\"name\": \"Leimert Park\", \"date\": \"2020-12-27\", \"new_confirmed_cases_seven_day_per_100k\": 872.9898260584181}, {\"name\": \"Leimert Park\", \"date\": \"2020-12-28\", \"new_confirmed_cases_seven_day_per_100k\": 800.7876599934361}, {\"name\": \"Leimert Park\", \"date\": \"2020-12-29\", \"new_confirmed_cases_seven_day_per_100k\": 689.2024942566459}, {\"name\": \"Leimert Park\", \"date\": \"2020-12-30\", \"new_confirmed_cases_seven_day_per_100k\": 610.4364949130292}, {\"name\": \"Leimert Park\", \"date\": \"2020-12-31\", \"new_confirmed_cases_seven_day_per_100k\": 617.0003281916639}, {\"name\": \"Leimert Park\", \"date\": \"2021-01-01\", \"new_confirmed_cases_seven_day_per_100k\": 827.0429931079751}, {\"name\": \"Leimert Park\", \"date\": \"2021-01-02\", \"new_confirmed_cases_seven_day_per_100k\": 741.7131604857236}, {\"name\": \"Leimert Park\", \"date\": \"2021-01-03\", \"new_confirmed_cases_seven_day_per_100k\": 748.2769937643584}, {\"name\": \"Leimert Park\", \"date\": \"2021-01-04\", \"new_confirmed_cases_seven_day_per_100k\": 787.6599934361668}, {\"name\": \"Leimert Park\", \"date\": \"2021-01-05\", \"new_confirmed_cases_seven_day_per_100k\": 820.4791598293403}, {\"name\": \"Leimert Park\", \"date\": \"2021-01-06\", \"new_confirmed_cases_seven_day_per_100k\": 859.8621595011487}, {\"name\": \"Leimert Park\", \"date\": \"2021-01-07\", \"new_confirmed_cases_seven_day_per_100k\": 840.1706596652444}, {\"name\": \"Leimert Park\", \"date\": \"2021-01-08\", \"new_confirmed_cases_seven_day_per_100k\": 754.8408270429932}, {\"name\": \"Leimert Park\", \"date\": \"2021-01-09\", \"new_confirmed_cases_seven_day_per_100k\": 774.5323268788973}, {\"name\": \"Leimert Park\", \"date\": \"2021-01-10\", \"new_confirmed_cases_seven_day_per_100k\": 774.5323268788973}, {\"name\": \"Leimert Park\", \"date\": \"2021-01-11\", \"new_confirmed_cases_seven_day_per_100k\": 708.8939940925501}, {\"name\": \"Leimert Park\", \"date\": \"2021-01-12\", \"new_confirmed_cases_seven_day_per_100k\": 722.0216606498195}, {\"name\": \"Leimert Park\", \"date\": \"2021-01-13\", \"new_confirmed_cases_seven_day_per_100k\": 748.2769937643584}, {\"name\": \"Leimert Park\", \"date\": \"2021-01-14\", \"new_confirmed_cases_seven_day_per_100k\": 781.096160157532}, {\"name\": \"Leimert Park\", \"date\": \"2021-01-15\", \"new_confirmed_cases_seven_day_per_100k\": 774.5323268788973}, {\"name\": \"West Hollywood\", \"date\": \"2020-11-15\", \"new_confirmed_cases_seven_day_per_100k\": 211.09036291304704}, {\"name\": \"West Hollywood\", \"date\": \"2020-11-16\", \"new_confirmed_cases_seven_day_per_100k\": 202.97150280100675}, {\"name\": \"West Hollywood\", \"date\": \"2020-11-17\", \"new_confirmed_cases_seven_day_per_100k\": 224.62179643311416}, {\"name\": \"West Hollywood\", \"date\": \"2020-11-18\", \"new_confirmed_cases_seven_day_per_100k\": 216.50293632107383}, {\"name\": \"West Hollywood\", \"date\": \"2020-11-19\", \"new_confirmed_cases_seven_day_per_100k\": 248.9783767692349}, {\"name\": \"West Hollywood\", \"date\": \"2020-11-20\", \"new_confirmed_cases_seven_day_per_100k\": 208.3840762090336}, {\"name\": \"West Hollywood\", \"date\": \"2020-11-21\", \"new_confirmed_cases_seven_day_per_100k\": 216.50293632107383}, {\"name\": \"West Hollywood\", \"date\": \"2020-11-22\", \"new_confirmed_cases_seven_day_per_100k\": 211.09036291304704}, {\"name\": \"West Hollywood\", \"date\": \"2020-11-23\", \"new_confirmed_cases_seven_day_per_100k\": 227.32808313712755}, {\"name\": \"West Hollywood\", \"date\": \"2020-11-24\", \"new_confirmed_cases_seven_day_per_100k\": 202.97150280100675}, {\"name\": \"West Hollywood\", \"date\": \"2020-11-25\", \"new_confirmed_cases_seven_day_per_100k\": 197.55892939297988}, {\"name\": \"West Hollywood\", \"date\": \"2020-11-26\", \"new_confirmed_cases_seven_day_per_100k\": 165.0834889448188}, {\"name\": \"West Hollywood\", \"date\": \"2020-11-27\", \"new_confirmed_cases_seven_day_per_100k\": 186.7337825769262}, {\"name\": \"West Hollywood\", \"date\": \"2020-11-28\", \"new_confirmed_cases_seven_day_per_100k\": 154.25834212876512}, {\"name\": \"West Hollywood\", \"date\": \"2020-11-29\", \"new_confirmed_cases_seven_day_per_100k\": 154.25834212876512}, {\"name\": \"West Hollywood\", \"date\": \"2020-11-30\", \"new_confirmed_cases_seven_day_per_100k\": 129.9017617926443}, {\"name\": \"West Hollywood\", \"date\": \"2020-12-01\", \"new_confirmed_cases_seven_day_per_100k\": 146.13948201672486}, {\"name\": \"West Hollywood\", \"date\": \"2020-12-02\", \"new_confirmed_cases_seven_day_per_100k\": 148.84576872073828}, {\"name\": \"West Hollywood\", \"date\": \"2020-12-03\", \"new_confirmed_cases_seven_day_per_100k\": 167.78977564883223}, {\"name\": \"West Hollywood\", \"date\": \"2020-12-04\", \"new_confirmed_cases_seven_day_per_100k\": 170.49606235284566}, {\"name\": \"West Hollywood\", \"date\": \"2020-12-05\", \"new_confirmed_cases_seven_day_per_100k\": 173.20234905685908}, {\"name\": \"West Hollywood\", \"date\": \"2020-12-06\", \"new_confirmed_cases_seven_day_per_100k\": 167.78977564883223}, {\"name\": \"West Hollywood\", \"date\": \"2020-12-07\", \"new_confirmed_cases_seven_day_per_100k\": 186.7337825769262}, {\"name\": \"West Hollywood\", \"date\": \"2020-12-08\", \"new_confirmed_cases_seven_day_per_100k\": 200.26521609699333}, {\"name\": \"West Hollywood\", \"date\": \"2020-12-09\", \"new_confirmed_cases_seven_day_per_100k\": 208.3840762090336}, {\"name\": \"West Hollywood\", \"date\": \"2020-12-10\", \"new_confirmed_cases_seven_day_per_100k\": 224.62179643311416}, {\"name\": \"West Hollywood\", \"date\": \"2020-12-11\", \"new_confirmed_cases_seven_day_per_100k\": 262.5098102893021}, {\"name\": \"West Hollywood\", \"date\": \"2020-12-12\", \"new_confirmed_cases_seven_day_per_100k\": 278.74753051338257}, {\"name\": \"West Hollywood\", \"date\": \"2020-12-13\", \"new_confirmed_cases_seven_day_per_100k\": 338.28583800167786}, {\"name\": \"West Hollywood\", \"date\": \"2020-12-14\", \"new_confirmed_cases_seven_day_per_100k\": 338.28583800167786}, {\"name\": \"West Hollywood\", \"date\": \"2020-12-15\", \"new_confirmed_cases_seven_day_per_100k\": 335.57955129766447}, {\"name\": \"West Hollywood\", \"date\": \"2020-12-16\", \"new_confirmed_cases_seven_day_per_100k\": 378.8801385618793}, {\"name\": \"West Hollywood\", \"date\": \"2020-12-17\", \"new_confirmed_cases_seven_day_per_100k\": 362.6424183377987}, {\"name\": \"West Hollywood\", \"date\": \"2020-12-18\", \"new_confirmed_cases_seven_day_per_100k\": 343.6984114097048}, {\"name\": \"West Hollywood\", \"date\": \"2020-12-19\", \"new_confirmed_cases_seven_day_per_100k\": 346.4046981137181}, {\"name\": \"West Hollywood\", \"date\": \"2020-12-20\", \"new_confirmed_cases_seven_day_per_100k\": 313.9292576655571}, {\"name\": \"West Hollywood\", \"date\": \"2020-12-21\", \"new_confirmed_cases_seven_day_per_100k\": 322.0481177775973}, {\"name\": \"West Hollywood\", \"date\": \"2020-12-22\", \"new_confirmed_cases_seven_day_per_100k\": 340.9921247056913}, {\"name\": \"West Hollywood\", \"date\": \"2020-12-23\", \"new_confirmed_cases_seven_day_per_100k\": 305.81039755351685}, {\"name\": \"West Hollywood\", \"date\": \"2020-12-24\", \"new_confirmed_cases_seven_day_per_100k\": 327.4606911856242}, {\"name\": \"West Hollywood\", \"date\": \"2020-12-25\", \"new_confirmed_cases_seven_day_per_100k\": 284.1601039214094}, {\"name\": \"West Hollywood\", \"date\": \"2020-12-26\", \"new_confirmed_cases_seven_day_per_100k\": 340.9921247056913}, {\"name\": \"West Hollywood\", \"date\": \"2020-12-27\", \"new_confirmed_cases_seven_day_per_100k\": 322.0481177775973}, {\"name\": \"West Hollywood\", \"date\": \"2020-12-28\", \"new_confirmed_cases_seven_day_per_100k\": 319.34183107358393}, {\"name\": \"West Hollywood\", \"date\": \"2020-12-29\", \"new_confirmed_cases_seven_day_per_100k\": 327.4606911856242}, {\"name\": \"West Hollywood\", \"date\": \"2020-12-30\", \"new_confirmed_cases_seven_day_per_100k\": 340.9921247056913}, {\"name\": \"West Hollywood\", \"date\": \"2020-12-31\", \"new_confirmed_cases_seven_day_per_100k\": 332.8732645936511}, {\"name\": \"West Hollywood\", \"date\": \"2021-01-01\", \"new_confirmed_cases_seven_day_per_100k\": 370.761278449839}, {\"name\": \"West Hollywood\", \"date\": \"2021-01-02\", \"new_confirmed_cases_seven_day_per_100k\": 322.0481177775973}, {\"name\": \"West Hollywood\", \"date\": \"2021-01-03\", \"new_confirmed_cases_seven_day_per_100k\": 338.28583800167786}, {\"name\": \"West Hollywood\", \"date\": \"2021-01-04\", \"new_confirmed_cases_seven_day_per_100k\": 327.4606911856242}, {\"name\": \"West Hollywood\", \"date\": \"2021-01-05\", \"new_confirmed_cases_seven_day_per_100k\": 297.69153744147656}, {\"name\": \"West Hollywood\", \"date\": \"2021-01-06\", \"new_confirmed_cases_seven_day_per_100k\": 330.1669778896376}, {\"name\": \"West Hollywood\", \"date\": \"2021-01-07\", \"new_confirmed_cases_seven_day_per_100k\": 357.22984492977184}, {\"name\": \"West Hollywood\", \"date\": \"2021-01-08\", \"new_confirmed_cases_seven_day_per_100k\": 397.8241454899732}, {\"name\": \"West Hollywood\", \"date\": \"2021-01-09\", \"new_confirmed_cases_seven_day_per_100k\": 414.0618657140538}, {\"name\": \"West Hollywood\", \"date\": \"2021-01-10\", \"new_confirmed_cases_seven_day_per_100k\": 386.9989986739195}, {\"name\": \"West Hollywood\", \"date\": \"2021-01-11\", \"new_confirmed_cases_seven_day_per_100k\": 403.2367188980001}, {\"name\": \"West Hollywood\", \"date\": \"2021-01-12\", \"new_confirmed_cases_seven_day_per_100k\": 403.2367188980001}, {\"name\": \"West Hollywood\", \"date\": \"2021-01-13\", \"new_confirmed_cases_seven_day_per_100k\": 376.1738518578658}, {\"name\": \"West Hollywood\", \"date\": \"2021-01-14\", \"new_confirmed_cases_seven_day_per_100k\": 343.6984114097048}, {\"name\": \"West Hollywood\", \"date\": \"2021-01-15\", \"new_confirmed_cases_seven_day_per_100k\": 308.51668425753024}]}}, {\"mode\": \"vega-lite\"});\n",
       "</script>"
      ],
      "text/plain": [
       "alt.Chart(...)"
      ]
     },
     "execution_count": 30,
     "metadata": {},
     "output_type": "execute_result"
    }
   ],
   "source": [
    "twocities_chart2"
   ]
  },
  {
   "cell_type": "markdown",
   "id": "opposed-drama",
   "metadata": {},
   "source": [
    "### Change from Nov. 15 to Jan. 15?"
   ]
  },
  {
   "cell_type": "code",
   "execution_count": 31,
   "id": "posted-cameroon",
   "metadata": {},
   "outputs": [],
   "source": [
    "surge_change = places_lrg[\n",
    "    (places_lrg[\"date\"] == surge_begin) | (places_lrg[\"date\"] == surge_end)\n",
    "][[\"name\", \"date\", \"new_confirmed_cases_seven_day_per_100k\"]]"
   ]
  },
  {
   "cell_type": "markdown",
   "id": "partial-devon",
   "metadata": {},
   "source": [
    "### Make the change dataframe wide "
   ]
  },
  {
   "cell_type": "code",
   "execution_count": 32,
   "id": "threaded-payday",
   "metadata": {},
   "outputs": [],
   "source": [
    "surge_change_pivot = (\n",
    "    pd.pivot_table(\n",
    "        surge_change[surge_change[\"new_confirmed_cases_seven_day_per_100k\"] > 0],\n",
    "        values=\"new_confirmed_cases_seven_day_per_100k\",\n",
    "        index=[\"name\"],\n",
    "        columns=[\"date\"],\n",
    "        fill_value=0,\n",
    "    )\n",
    "    .dropna()\n",
    "    .reset_index()\n",
    ")"
   ]
  },
  {
   "cell_type": "markdown",
   "id": "third-transmission",
   "metadata": {},
   "source": [
    "### Clean up column headers, round figures and remove places with no cases"
   ]
  },
  {
   "cell_type": "code",
   "execution_count": 33,
   "id": "vanilla-quarter",
   "metadata": {},
   "outputs": [],
   "source": [
    "surge_change_pivot.rename(\n",
    "    columns={\"2020-11-15\": \"mid_november\", \"2021-01-15\": \"mid_january\"}, inplace=True\n",
    ")"
   ]
  },
  {
   "cell_type": "code",
   "execution_count": 34,
   "id": "literary-rental",
   "metadata": {},
   "outputs": [],
   "source": [
    "surge_change_pivot[[\"mid_november\", \"mid_january\"]] = round(\n",
    "    surge_change_pivot[[\"mid_november\", \"mid_january\"]], 2\n",
    ")"
   ]
  },
  {
   "cell_type": "code",
   "execution_count": 35,
   "id": "described-benefit",
   "metadata": {},
   "outputs": [],
   "source": [
    "surge_change_pivot = surge_change_pivot[surge_change_pivot[\"mid_november\"] > 0]"
   ]
  },
  {
   "cell_type": "markdown",
   "id": "optimum-pension",
   "metadata": {},
   "source": [
    "### Calculate the change"
   ]
  },
  {
   "cell_type": "code",
   "execution_count": 36,
   "id": "latin-alignment",
   "metadata": {},
   "outputs": [],
   "source": [
    "surge_change_pivot[\"pct_change\"] = round(\n",
    "    (\n",
    "        (surge_change_pivot[\"mid_january\"] - surge_change_pivot[\"mid_november\"])\n",
    "        / surge_change_pivot[\"mid_november\"]\n",
    "    )\n",
    "    * 100,\n",
    "    2,\n",
    ")"
   ]
  },
  {
   "cell_type": "markdown",
   "id": "blond-evidence",
   "metadata": {},
   "source": [
    "### Which places had the least increase in coronavirus rates? "
   ]
  },
  {
   "cell_type": "code",
   "execution_count": 37,
   "id": "victorian-literacy",
   "metadata": {},
   "outputs": [
    {
     "data": {
      "text/html": [
       "<div>\n",
       "<style scoped>\n",
       "    .dataframe tbody tr th:only-of-type {\n",
       "        vertical-align: middle;\n",
       "    }\n",
       "\n",
       "    .dataframe tbody tr th {\n",
       "        vertical-align: top;\n",
       "    }\n",
       "\n",
       "    .dataframe thead th {\n",
       "        text-align: right;\n",
       "    }\n",
       "</style>\n",
       "<table border=\"1\" class=\"dataframe\">\n",
       "  <thead>\n",
       "    <tr style=\"text-align: right;\">\n",
       "      <th>date</th>\n",
       "      <th>name</th>\n",
       "      <th>mid_november</th>\n",
       "      <th>mid_january</th>\n",
       "      <th>pct_change</th>\n",
       "    </tr>\n",
       "  </thead>\n",
       "  <tbody>\n",
       "    <tr>\n",
       "      <th>218</th>\n",
       "      <td>West Hollywood</td>\n",
       "      <td>211.09</td>\n",
       "      <td>308.52</td>\n",
       "      <td>46.16</td>\n",
       "    </tr>\n",
       "    <tr>\n",
       "      <th>120</th>\n",
       "      <td>Malibu</td>\n",
       "      <td>100.30</td>\n",
       "      <td>208.32</td>\n",
       "      <td>107.70</td>\n",
       "    </tr>\n",
       "    <tr>\n",
       "      <th>147</th>\n",
       "      <td>Park La Brea</td>\n",
       "      <td>117.82</td>\n",
       "      <td>265.10</td>\n",
       "      <td>125.00</td>\n",
       "    </tr>\n",
       "    <tr>\n",
       "      <th>60</th>\n",
       "      <td>East Pasadena</td>\n",
       "      <td>46.85</td>\n",
       "      <td>124.94</td>\n",
       "      <td>166.68</td>\n",
       "    </tr>\n",
       "    <tr>\n",
       "      <th>70</th>\n",
       "      <td>Encino</td>\n",
       "      <td>172.67</td>\n",
       "      <td>464.89</td>\n",
       "      <td>169.24</td>\n",
       "    </tr>\n",
       "    <tr>\n",
       "      <th>93</th>\n",
       "      <td>Hollywood Hills</td>\n",
       "      <td>139.29</td>\n",
       "      <td>397.50</td>\n",
       "      <td>185.38</td>\n",
       "    </tr>\n",
       "    <tr>\n",
       "      <th>155</th>\n",
       "      <td>Rancho Park</td>\n",
       "      <td>106.71</td>\n",
       "      <td>304.88</td>\n",
       "      <td>185.71</td>\n",
       "    </tr>\n",
       "    <tr>\n",
       "      <th>204</th>\n",
       "      <td>Venice</td>\n",
       "      <td>103.29</td>\n",
       "      <td>309.87</td>\n",
       "      <td>200.00</td>\n",
       "    </tr>\n",
       "    <tr>\n",
       "      <th>24</th>\n",
       "      <td>Brentwood</td>\n",
       "      <td>125.99</td>\n",
       "      <td>377.97</td>\n",
       "      <td>200.00</td>\n",
       "    </tr>\n",
       "    <tr>\n",
       "      <th>169</th>\n",
       "      <td>Santa Monica</td>\n",
       "      <td>128.72</td>\n",
       "      <td>390.50</td>\n",
       "      <td>203.37</td>\n",
       "    </tr>\n",
       "  </tbody>\n",
       "</table>\n",
       "</div>"
      ],
      "text/plain": [
       "date             name  mid_november  mid_january  pct_change\n",
       "218    West Hollywood        211.09       308.52       46.16\n",
       "120            Malibu        100.30       208.32      107.70\n",
       "147      Park La Brea        117.82       265.10      125.00\n",
       "60      East Pasadena         46.85       124.94      166.68\n",
       "70             Encino        172.67       464.89      169.24\n",
       "93    Hollywood Hills        139.29       397.50      185.38\n",
       "155       Rancho Park        106.71       304.88      185.71\n",
       "204            Venice        103.29       309.87      200.00\n",
       "24          Brentwood        125.99       377.97      200.00\n",
       "169      Santa Monica        128.72       390.50      203.37"
      ]
     },
     "execution_count": 37,
     "metadata": {},
     "output_type": "execute_result"
    }
   ],
   "source": [
    "surge_change_pivot.sort_values(\"pct_change\", ascending=True).head(10)"
   ]
  },
  {
   "cell_type": "markdown",
   "id": "speaking-thought",
   "metadata": {},
   "source": [
    "### And the greatest increase? "
   ]
  },
  {
   "cell_type": "code",
   "execution_count": 38,
   "id": "traditional-flood",
   "metadata": {},
   "outputs": [
    {
     "data": {
      "text/html": [
       "<div>\n",
       "<style scoped>\n",
       "    .dataframe tbody tr th:only-of-type {\n",
       "        vertical-align: middle;\n",
       "    }\n",
       "\n",
       "    .dataframe tbody tr th {\n",
       "        vertical-align: top;\n",
       "    }\n",
       "\n",
       "    .dataframe thead th {\n",
       "        text-align: right;\n",
       "    }\n",
       "</style>\n",
       "<table border=\"1\" class=\"dataframe\">\n",
       "  <thead>\n",
       "    <tr style=\"text-align: right;\">\n",
       "      <th>date</th>\n",
       "      <th>name</th>\n",
       "      <th>mid_november</th>\n",
       "      <th>mid_january</th>\n",
       "      <th>pct_change</th>\n",
       "    </tr>\n",
       "  </thead>\n",
       "  <tbody>\n",
       "    <tr>\n",
       "      <th>165</th>\n",
       "      <td>San Marino</td>\n",
       "      <td>15.06</td>\n",
       "      <td>316.34</td>\n",
       "      <td>2000.53</td>\n",
       "    </tr>\n",
       "    <tr>\n",
       "      <th>64</th>\n",
       "      <td>El Camino Village</td>\n",
       "      <td>45.50</td>\n",
       "      <td>898.65</td>\n",
       "      <td>1875.05</td>\n",
       "    </tr>\n",
       "    <tr>\n",
       "      <th>112</th>\n",
       "      <td>Leimert Park</td>\n",
       "      <td>59.07</td>\n",
       "      <td>774.53</td>\n",
       "      <td>1211.21</td>\n",
       "    </tr>\n",
       "    <tr>\n",
       "      <th>78</th>\n",
       "      <td>Gramercy Place</td>\n",
       "      <td>92.90</td>\n",
       "      <td>1096.25</td>\n",
       "      <td>1080.03</td>\n",
       "    </tr>\n",
       "    <tr>\n",
       "      <th>206</th>\n",
       "      <td>Vermont Square</td>\n",
       "      <td>156.72</td>\n",
       "      <td>1828.39</td>\n",
       "      <td>1066.66</td>\n",
       "    </tr>\n",
       "    <tr>\n",
       "      <th>180</th>\n",
       "      <td>South San Gabriel</td>\n",
       "      <td>90.42</td>\n",
       "      <td>1039.78</td>\n",
       "      <td>1049.94</td>\n",
       "    </tr>\n",
       "    <tr>\n",
       "      <th>95</th>\n",
       "      <td>Hyde Park</td>\n",
       "      <td>101.61</td>\n",
       "      <td>1152.73</td>\n",
       "      <td>1034.47</td>\n",
       "    </tr>\n",
       "    <tr>\n",
       "      <th>168</th>\n",
       "      <td>Santa Fe Springs</td>\n",
       "      <td>119.80</td>\n",
       "      <td>1236.11</td>\n",
       "      <td>931.81</td>\n",
       "    </tr>\n",
       "    <tr>\n",
       "      <th>22</th>\n",
       "      <td>Beverlywood</td>\n",
       "      <td>53.14</td>\n",
       "      <td>538.98</td>\n",
       "      <td>914.26</td>\n",
       "    </tr>\n",
       "    <tr>\n",
       "      <th>11</th>\n",
       "      <td>Avocado Heights</td>\n",
       "      <td>118.08</td>\n",
       "      <td>1195.57</td>\n",
       "      <td>912.51</td>\n",
       "    </tr>\n",
       "  </tbody>\n",
       "</table>\n",
       "</div>"
      ],
      "text/plain": [
       "date               name  mid_november  mid_january  pct_change\n",
       "165          San Marino         15.06       316.34     2000.53\n",
       "64    El Camino Village         45.50       898.65     1875.05\n",
       "112        Leimert Park         59.07       774.53     1211.21\n",
       "78       Gramercy Place         92.90      1096.25     1080.03\n",
       "206      Vermont Square        156.72      1828.39     1066.66\n",
       "180   South San Gabriel         90.42      1039.78     1049.94\n",
       "95            Hyde Park        101.61      1152.73     1034.47\n",
       "168    Santa Fe Springs        119.80      1236.11      931.81\n",
       "22          Beverlywood         53.14       538.98      914.26\n",
       "11      Avocado Heights        118.08      1195.57      912.51"
      ]
     },
     "execution_count": 38,
     "metadata": {},
     "output_type": "execute_result"
    }
   ],
   "source": [
    "surge_change_pivot.sort_values(\"pct_change\", ascending=False).head(10)"
   ]
  },
  {
   "cell_type": "markdown",
   "id": "ordinary-yacht",
   "metadata": {},
   "source": [
    "### Rank them"
   ]
  },
  {
   "cell_type": "code",
   "execution_count": 39,
   "id": "corrected-norfolk",
   "metadata": {},
   "outputs": [],
   "source": [
    "surge_change_pivot[\"rank_lower_is_better\"] = surge_change_pivot[\"pct_change\"].rank(\n",
    "    method=\"max\"\n",
    ")"
   ]
  },
  {
   "cell_type": "code",
   "execution_count": 40,
   "id": "fiscal-flavor",
   "metadata": {},
   "outputs": [
    {
     "data": {
      "text/html": [
       "<div>\n",
       "<style scoped>\n",
       "    .dataframe tbody tr th:only-of-type {\n",
       "        vertical-align: middle;\n",
       "    }\n",
       "\n",
       "    .dataframe tbody tr th {\n",
       "        vertical-align: top;\n",
       "    }\n",
       "\n",
       "    .dataframe thead th {\n",
       "        text-align: right;\n",
       "    }\n",
       "</style>\n",
       "<table border=\"1\" class=\"dataframe\">\n",
       "  <thead>\n",
       "    <tr style=\"text-align: right;\">\n",
       "      <th>date</th>\n",
       "      <th>name</th>\n",
       "      <th>mid_november</th>\n",
       "      <th>mid_january</th>\n",
       "      <th>pct_change</th>\n",
       "      <th>rank_lower_is_better</th>\n",
       "    </tr>\n",
       "  </thead>\n",
       "  <tbody>\n",
       "    <tr>\n",
       "      <th>218</th>\n",
       "      <td>West Hollywood</td>\n",
       "      <td>211.09</td>\n",
       "      <td>308.52</td>\n",
       "      <td>46.16</td>\n",
       "      <td>1.0</td>\n",
       "    </tr>\n",
       "    <tr>\n",
       "      <th>120</th>\n",
       "      <td>Malibu</td>\n",
       "      <td>100.30</td>\n",
       "      <td>208.32</td>\n",
       "      <td>107.70</td>\n",
       "      <td>2.0</td>\n",
       "    </tr>\n",
       "    <tr>\n",
       "      <th>147</th>\n",
       "      <td>Park La Brea</td>\n",
       "      <td>117.82</td>\n",
       "      <td>265.10</td>\n",
       "      <td>125.00</td>\n",
       "      <td>3.0</td>\n",
       "    </tr>\n",
       "    <tr>\n",
       "      <th>60</th>\n",
       "      <td>East Pasadena</td>\n",
       "      <td>46.85</td>\n",
       "      <td>124.94</td>\n",
       "      <td>166.68</td>\n",
       "      <td>4.0</td>\n",
       "    </tr>\n",
       "    <tr>\n",
       "      <th>70</th>\n",
       "      <td>Encino</td>\n",
       "      <td>172.67</td>\n",
       "      <td>464.89</td>\n",
       "      <td>169.24</td>\n",
       "      <td>5.0</td>\n",
       "    </tr>\n",
       "  </tbody>\n",
       "</table>\n",
       "</div>"
      ],
      "text/plain": [
       "date            name  mid_november  mid_january  pct_change  \\\n",
       "218   West Hollywood        211.09       308.52       46.16   \n",
       "120           Malibu        100.30       208.32      107.70   \n",
       "147     Park La Brea        117.82       265.10      125.00   \n",
       "60     East Pasadena         46.85       124.94      166.68   \n",
       "70            Encino        172.67       464.89      169.24   \n",
       "\n",
       "date  rank_lower_is_better  \n",
       "218                    1.0  \n",
       "120                    2.0  \n",
       "147                    3.0  \n",
       "60                     4.0  \n",
       "70                     5.0  "
      ]
     },
     "execution_count": 40,
     "metadata": {},
     "output_type": "execute_result"
    }
   ],
   "source": [
    "surge_change_pivot.sort_values(\"rank_lower_is_better\", ascending=True).head()"
   ]
  },
  {
   "cell_type": "markdown",
   "id": "conventional-gibson",
   "metadata": {},
   "source": [
    "### Greatest/least change?"
   ]
  },
  {
   "cell_type": "code",
   "execution_count": 41,
   "id": "subject-church",
   "metadata": {},
   "outputs": [],
   "source": [
    "surge_change_pivot_min_max = pd.concat(\n",
    "    [\n",
    "        surge_change_pivot.sort_values(\"pct_change\", ascending=False).head(20),\n",
    "        surge_change_pivot.sort_values(\"pct_change\", ascending=False).tail(20),\n",
    "    ]\n",
    ")"
   ]
  },
  {
   "cell_type": "code",
   "execution_count": 42,
   "id": "signal-father",
   "metadata": {},
   "outputs": [],
   "source": [
    "surge_change_pivot_min_max.rename(\n",
    "    columns={\"mid_november\": \"2020-11-15\", \"mid_january\": \"2021-01-15\"}, inplace=True\n",
    ")"
   ]
  },
  {
   "cell_type": "code",
   "execution_count": 43,
   "id": "laden-nylon",
   "metadata": {},
   "outputs": [],
   "source": [
    "surge_change_pivot_min_max_melt = surge_change_pivot_min_max.melt(\n",
    "    id_vars=[\"name\"], var_name=\"date\"\n",
    ")"
   ]
  },
  {
   "cell_type": "code",
   "execution_count": 44,
   "id": "executive-heather",
   "metadata": {},
   "outputs": [],
   "source": [
    "surge_change_pivot_min_max_melt.rename(columns={\"value\": \"rate\"}, inplace=True)"
   ]
  },
  {
   "cell_type": "code",
   "execution_count": 45,
   "id": "twenty-angle",
   "metadata": {},
   "outputs": [],
   "source": [
    "surge_change_pivot_min_max_melt = surge_change_pivot_min_max_melt[\n",
    "    surge_change_pivot_min_max_melt[\"date\"] != \"pct_change\"\n",
    "]"
   ]
  },
  {
   "cell_type": "code",
   "execution_count": 46,
   "id": "frozen-storage",
   "metadata": {},
   "outputs": [],
   "source": [
    "surge_change_pivot_min_max_melt[\"date\"] = surge_change_pivot_min_max_melt[\"date\"]"
   ]
  },
  {
   "cell_type": "code",
   "execution_count": 47,
   "id": "pointed-aging",
   "metadata": {},
   "outputs": [
    {
     "data": {
      "text/html": [
       "<div>\n",
       "<style scoped>\n",
       "    .dataframe tbody tr th:only-of-type {\n",
       "        vertical-align: middle;\n",
       "    }\n",
       "\n",
       "    .dataframe tbody tr th {\n",
       "        vertical-align: top;\n",
       "    }\n",
       "\n",
       "    .dataframe thead th {\n",
       "        text-align: right;\n",
       "    }\n",
       "</style>\n",
       "<table border=\"1\" class=\"dataframe\">\n",
       "  <thead>\n",
       "    <tr style=\"text-align: right;\">\n",
       "      <th></th>\n",
       "      <th>name</th>\n",
       "      <th>date</th>\n",
       "      <th>rate</th>\n",
       "    </tr>\n",
       "  </thead>\n",
       "  <tbody>\n",
       "    <tr>\n",
       "      <th>0</th>\n",
       "      <td>San Marino</td>\n",
       "      <td>2020-11-15</td>\n",
       "      <td>15.06</td>\n",
       "    </tr>\n",
       "    <tr>\n",
       "      <th>1</th>\n",
       "      <td>El Camino Village</td>\n",
       "      <td>2020-11-15</td>\n",
       "      <td>45.50</td>\n",
       "    </tr>\n",
       "    <tr>\n",
       "      <th>2</th>\n",
       "      <td>Leimert Park</td>\n",
       "      <td>2020-11-15</td>\n",
       "      <td>59.07</td>\n",
       "    </tr>\n",
       "    <tr>\n",
       "      <th>3</th>\n",
       "      <td>Gramercy Place</td>\n",
       "      <td>2020-11-15</td>\n",
       "      <td>92.90</td>\n",
       "    </tr>\n",
       "    <tr>\n",
       "      <th>4</th>\n",
       "      <td>Vermont Square</td>\n",
       "      <td>2020-11-15</td>\n",
       "      <td>156.72</td>\n",
       "    </tr>\n",
       "  </tbody>\n",
       "</table>\n",
       "</div>"
      ],
      "text/plain": [
       "                name        date    rate\n",
       "0         San Marino  2020-11-15   15.06\n",
       "1  El Camino Village  2020-11-15   45.50\n",
       "2       Leimert Park  2020-11-15   59.07\n",
       "3     Gramercy Place  2020-11-15   92.90\n",
       "4     Vermont Square  2020-11-15  156.72"
      ]
     },
     "execution_count": 47,
     "metadata": {},
     "output_type": "execute_result"
    }
   ],
   "source": [
    "surge_change_pivot_min_max_melt.head()"
   ]
  },
  {
   "cell_type": "markdown",
   "id": "accessible-acoustic",
   "metadata": {},
   "source": [
    "---"
   ]
  },
  {
   "cell_type": "code",
   "execution_count": 48,
   "id": "affiliated-stock",
   "metadata": {},
   "outputs": [
    {
     "data": {
      "text/html": [
       "\n",
       "<div id=\"altair-viz-308cc125dba843e4a586f0e00210bfb2\"></div>\n",
       "<script type=\"text/javascript\">\n",
       "  (function(spec, embedOpt){\n",
       "    let outputDiv = document.currentScript.previousElementSibling;\n",
       "    if (outputDiv.id !== \"altair-viz-308cc125dba843e4a586f0e00210bfb2\") {\n",
       "      outputDiv = document.getElementById(\"altair-viz-308cc125dba843e4a586f0e00210bfb2\");\n",
       "    }\n",
       "    const paths = {\n",
       "      \"vega\": \"https://cdn.jsdelivr.net/npm//vega@5?noext\",\n",
       "      \"vega-lib\": \"https://cdn.jsdelivr.net/npm//vega-lib?noext\",\n",
       "      \"vega-lite\": \"https://cdn.jsdelivr.net/npm//vega-lite@4.8.1?noext\",\n",
       "      \"vega-embed\": \"https://cdn.jsdelivr.net/npm//vega-embed@6?noext\",\n",
       "    };\n",
       "\n",
       "    function loadScript(lib) {\n",
       "      return new Promise(function(resolve, reject) {\n",
       "        var s = document.createElement('script');\n",
       "        s.src = paths[lib];\n",
       "        s.async = true;\n",
       "        s.onload = () => resolve(paths[lib]);\n",
       "        s.onerror = () => reject(`Error loading script: ${paths[lib]}`);\n",
       "        document.getElementsByTagName(\"head\")[0].appendChild(s);\n",
       "      });\n",
       "    }\n",
       "\n",
       "    function showError(err) {\n",
       "      outputDiv.innerHTML = `<div class=\"error\" style=\"color:red;\">${err}</div>`;\n",
       "      throw err;\n",
       "    }\n",
       "\n",
       "    function displayChart(vegaEmbed) {\n",
       "      vegaEmbed(outputDiv, spec, embedOpt)\n",
       "        .catch(err => showError(`Javascript Error: ${err.message}<br>This usually means there's a typo in your chart specification. See the javascript console for the full traceback.`));\n",
       "    }\n",
       "\n",
       "    if(typeof define === \"function\" && define.amd) {\n",
       "      requirejs.config({paths});\n",
       "      require([\"vega-embed\"], displayChart, err => showError(`Error loading script: ${err.message}`));\n",
       "    } else if (typeof vegaEmbed === \"function\") {\n",
       "      displayChart(vegaEmbed);\n",
       "    } else {\n",
       "      loadScript(\"vega\")\n",
       "        .then(() => loadScript(\"vega-lite\"))\n",
       "        .then(() => loadScript(\"vega-embed\"))\n",
       "        .catch(showError)\n",
       "        .then(() => displayChart(vegaEmbed));\n",
       "    }\n",
       "  })({\"config\": {\"view\": {\"width\": 800, \"height\": 450}, \"background\": \"#ffffff\", \"title\": {\"anchor\": \"start\", \"font\": \"Benton Gothic Bold, sans\", \"fontColor\": \"#000000\", \"fontSize\": 22, \"fontWeight\": \"normal\"}, \"arc\": {\"fill\": \"#82c6df\"}, \"area\": {\"fill\": \"#82c6df\"}, \"line\": {\"stroke\": \"#82c6df\", \"strokeWidth\": 3}, \"path\": {\"stroke\": \"#82c6df\"}, \"rect\": {\"fill\": \"#82c6df\"}, \"shape\": {\"stroke\": \"#82c6df\"}, \"bar\": {\"fill\": \"#82c6df\"}, \"point\": {\"stroke\": \"#82c6df\"}, \"symbol\": {\"fill\": \"#82c6df\", \"size\": 30}, \"axis\": {\"titleFont\": \"Benton Gothic Bold, sans\", \"titleFontSize\": 13, \"titleFontWeight\": \"normal\", \"labelFont\": \"Benton Gothic, sans\", \"labelFontSize\": 11.5, \"labelFontWeight\": \"normal\"}, \"axisX\": {\"labelAngle\": 0, \"labelPadding\": 4, \"tickSize\": 3}, \"axisY\": {\"labelBaseline\": \"middle\", \"maxExtent\": 45, \"minExtent\": 45, \"tickSize\": 2, \"titleAlign\": \"left\", \"titleAngle\": 0, \"titleX\": -45, \"titleY\": -11}, \"legend\": {\"titleFont\": \"Benton Gothic Bold, sans\", \"titleFontSize\": 13, \"titleFontWeight\": \"normal\", \"symbolType\": \"square\", \"labelFont\": \"Benton Gothic, sans\", \"labelFontSize\": 11.5}, \"range\": {\"category\": [\"#3580b1\", \"#ec8431\", \"#ab7fb4\", \"#c89d29\", \"#adc839\", \"#829eb1\"], \"diverging\": [\"#e68a4f\", \"#f4bb6a\", \"#f9e39c\", \"#dadfe2\", \"#a6b7c6\", \"#849eae\"], \"heatmap\": [\"#fbf2c7\", \"#f9e39c\", \"#f8d36e\", \"#f4bb6a\", \"#e68a4f\", \"#d15a40\", \"#ab4232\"], \"ordinal\": [\"#fbf2c7\", \"#f9e39c\", \"#f8d36e\", \"#f4bb6a\", \"#e68a4f\", \"#d15a40\", \"#ab4232\"], \"ramp\": [\"#fbf2c7\", \"#f9e39c\", \"#f8d36e\", \"#f4bb6a\", \"#e68a4f\", \"#d15a40\", \"#ab4232\"]}}, \"data\": {\"name\": \"data-a7116b2bf847ffe90fe29dac9a3424f4\"}, \"mark\": {\"type\": \"line\", \"color\": \"red\", \"size\": 5}, \"encoding\": {\"facet\": {\"type\": \"nominal\", \"columns\": 8, \"field\": \"name\"}, \"x\": {\"type\": \"temporal\", \"axis\": {\"format\": \"%b. %d\", \"tickCount\": 3}, \"field\": \"date\", \"title\": \"\"}, \"y\": {\"type\": \"quantitative\", \"field\": \"rate\", \"title\": \"\"}}, \"height\": 120, \"title\": \"Places with greatest, least rate increases\", \"width\": 120, \"$schema\": \"https://vega.github.io/schema/vega-lite/v4.8.1.json\", \"datasets\": {\"data-a7116b2bf847ffe90fe29dac9a3424f4\": [{\"name\": \"San Marino\", \"date\": \"2020-11-15\", \"rate\": 15.06}, {\"name\": \"El Camino Village\", \"date\": \"2020-11-15\", \"rate\": 45.5}, {\"name\": \"Leimert Park\", \"date\": \"2020-11-15\", \"rate\": 59.07}, {\"name\": \"Gramercy Place\", \"date\": \"2020-11-15\", \"rate\": 92.9}, {\"name\": \"Vermont Square\", \"date\": \"2020-11-15\", \"rate\": 156.72}, {\"name\": \"South San Gabriel\", \"date\": \"2020-11-15\", \"rate\": 90.42}, {\"name\": \"Hyde Park\", \"date\": \"2020-11-15\", \"rate\": 101.61}, {\"name\": \"Santa Fe Springs\", \"date\": \"2020-11-15\", \"rate\": 119.8}, {\"name\": \"Beverlywood\", \"date\": \"2020-11-15\", \"rate\": 53.14}, {\"name\": \"Avocado Heights\", \"date\": \"2020-11-15\", \"rate\": 118.08}, {\"name\": \"Palms\", \"date\": \"2020-11-15\", \"rate\": 82.05}, {\"name\": \"Little Bangladesh\", \"date\": \"2020-11-15\", \"rate\": 112.9}, {\"name\": \"East Whittier\", \"date\": \"2020-11-15\", \"rate\": 94.23}, {\"name\": \"Harbor Gateway\", \"date\": \"2020-11-15\", \"rate\": 107.8}, {\"name\": \"Walnut Park\", \"date\": \"2020-11-15\", \"rate\": 192.03}, {\"name\": \"Lakewood\", \"date\": \"2020-11-15\", \"rate\": 79.64}, {\"name\": \"West Vernon\", \"date\": \"2020-11-15\", \"rate\": 175.23}, {\"name\": \"Harbor City\", \"date\": \"2020-11-15\", \"rate\": 75.68}, {\"name\": \"West Puente Valley\", \"date\": \"2020-11-15\", \"rate\": 162.68}, {\"name\": \"Athens-Westmont\", \"date\": \"2020-11-15\", \"rate\": 155.51}, {\"name\": \"Claremont\", \"date\": \"2020-11-15\", \"rate\": 131.56}, {\"name\": \"Silver Lake\", \"date\": \"2020-11-15\", \"rate\": 136.11}, {\"name\": \"Hermosa Beach\", \"date\": \"2020-11-15\", \"rate\": 106.76}, {\"name\": \"San Gabriel\", \"date\": \"2020-11-15\", \"rate\": 217.32}, {\"name\": \"Downtown\", \"date\": \"2020-11-15\", \"rate\": 269.02}, {\"name\": \"Rolling Hills Estates\", \"date\": \"2020-11-15\", \"rate\": 61.63}, {\"name\": \"Los Feliz\", \"date\": \"2020-11-15\", \"rate\": 106.44}, {\"name\": \"Del Rey\", \"date\": \"2020-11-15\", \"rate\": 136.96}, {\"name\": \"Tarzana\", \"date\": \"2020-11-15\", \"rate\": 242.91}, {\"name\": \"Sierra Madre\", \"date\": \"2020-11-15\", \"rate\": 81.9}, {\"name\": \"Santa Monica\", \"date\": \"2020-11-15\", \"rate\": 128.72}, {\"name\": \"Brentwood\", \"date\": \"2020-11-15\", \"rate\": 125.99}, {\"name\": \"Venice\", \"date\": \"2020-11-15\", \"rate\": 103.29}, {\"name\": \"Rancho Park\", \"date\": \"2020-11-15\", \"rate\": 106.71}, {\"name\": \"Hollywood Hills\", \"date\": \"2020-11-15\", \"rate\": 139.29}, {\"name\": \"Encino\", \"date\": \"2020-11-15\", \"rate\": 172.67}, {\"name\": \"East Pasadena\", \"date\": \"2020-11-15\", \"rate\": 46.85}, {\"name\": \"Park La Brea\", \"date\": \"2020-11-15\", \"rate\": 117.82}, {\"name\": \"Malibu\", \"date\": \"2020-11-15\", \"rate\": 100.3}, {\"name\": \"West Hollywood\", \"date\": \"2020-11-15\", \"rate\": 211.09}, {\"name\": \"San Marino\", \"date\": \"2021-01-15\", \"rate\": 316.34}, {\"name\": \"El Camino Village\", \"date\": \"2021-01-15\", \"rate\": 898.65}, {\"name\": \"Leimert Park\", \"date\": \"2021-01-15\", \"rate\": 774.53}, {\"name\": \"Gramercy Place\", \"date\": \"2021-01-15\", \"rate\": 1096.25}, {\"name\": \"Vermont Square\", \"date\": \"2021-01-15\", \"rate\": 1828.39}, {\"name\": \"South San Gabriel\", \"date\": \"2021-01-15\", \"rate\": 1039.78}, {\"name\": \"Hyde Park\", \"date\": \"2021-01-15\", \"rate\": 1152.73}, {\"name\": \"Santa Fe Springs\", \"date\": \"2021-01-15\", \"rate\": 1236.11}, {\"name\": \"Beverlywood\", \"date\": \"2021-01-15\", \"rate\": 538.98}, {\"name\": \"Avocado Heights\", \"date\": \"2021-01-15\", \"rate\": 1195.57}, {\"name\": \"Palms\", \"date\": \"2021-01-15\", \"rate\": 818.2}, {\"name\": \"Little Bangladesh\", \"date\": \"2021-01-15\", \"rate\": 1104.33}, {\"name\": \"East Whittier\", \"date\": \"2021-01-15\", \"rate\": 904.64}, {\"name\": \"Harbor Gateway\", \"date\": \"2021-01-15\", \"rate\": 1034.4}, {\"name\": \"Walnut Park\", \"date\": \"2021-01-15\", \"rate\": 1827.42}, {\"name\": \"Lakewood\", \"date\": \"2021-01-15\", \"rate\": 752.84}, {\"name\": \"West Vernon\", \"date\": \"2021-01-15\", \"rate\": 1636.72}, {\"name\": \"Harbor City\", \"date\": \"2021-01-15\", \"rate\": 705.19}, {\"name\": \"West Puente Valley\", \"date\": \"2021-01-15\", \"rate\": 1504.83}, {\"name\": \"Athens-Westmont\", \"date\": \"2021-01-15\", \"rate\": 1387.78}, {\"name\": \"Claremont\", \"date\": \"2021-01-15\", \"rate\": 468.7}, {\"name\": \"Silver Lake\", \"date\": \"2021-01-15\", \"rate\": 483.18}, {\"name\": \"Hermosa Beach\", \"date\": \"2021-01-15\", \"rate\": 376.21}, {\"name\": \"San Gabriel\", \"date\": \"2021-01-15\", \"rate\": 764.27}, {\"name\": \"Downtown\", \"date\": \"2021-01-15\", \"rate\": 941.58}, {\"name\": \"Rolling Hills Estates\", \"date\": \"2021-01-15\", \"rate\": 209.54}, {\"name\": \"Los Feliz\", \"date\": \"2021-01-15\", \"rate\": 360.98}, {\"name\": \"Del Rey\", \"date\": \"2021-01-15\", \"rate\": 454.3}, {\"name\": \"Tarzana\", \"date\": \"2021-01-15\", \"rate\": 796.74}, {\"name\": \"Sierra Madre\", \"date\": \"2021-01-15\", \"rate\": 254.8}, {\"name\": \"Santa Monica\", \"date\": \"2021-01-15\", \"rate\": 390.5}, {\"name\": \"Brentwood\", \"date\": \"2021-01-15\", \"rate\": 377.97}, {\"name\": \"Venice\", \"date\": \"2021-01-15\", \"rate\": 309.87}, {\"name\": \"Rancho Park\", \"date\": \"2021-01-15\", \"rate\": 304.88}, {\"name\": \"Hollywood Hills\", \"date\": \"2021-01-15\", \"rate\": 397.5}, {\"name\": \"Encino\", \"date\": \"2021-01-15\", \"rate\": 464.89}, {\"name\": \"East Pasadena\", \"date\": \"2021-01-15\", \"rate\": 124.94}, {\"name\": \"Park La Brea\", \"date\": \"2021-01-15\", \"rate\": 265.1}, {\"name\": \"Malibu\", \"date\": \"2021-01-15\", \"rate\": 208.32}, {\"name\": \"West Hollywood\", \"date\": \"2021-01-15\", \"rate\": 308.52}, {\"name\": \"San Marino\", \"date\": \"rank_lower_is_better\", \"rate\": 234.0}, {\"name\": \"El Camino Village\", \"date\": \"rank_lower_is_better\", \"rate\": 233.0}, {\"name\": \"Leimert Park\", \"date\": \"rank_lower_is_better\", \"rate\": 232.0}, {\"name\": \"Gramercy Place\", \"date\": \"rank_lower_is_better\", \"rate\": 231.0}, {\"name\": \"Vermont Square\", \"date\": \"rank_lower_is_better\", \"rate\": 230.0}, {\"name\": \"South San Gabriel\", \"date\": \"rank_lower_is_better\", \"rate\": 229.0}, {\"name\": \"Hyde Park\", \"date\": \"rank_lower_is_better\", \"rate\": 228.0}, {\"name\": \"Santa Fe Springs\", \"date\": \"rank_lower_is_better\", \"rate\": 227.0}, {\"name\": \"Beverlywood\", \"date\": \"rank_lower_is_better\", \"rate\": 226.0}, {\"name\": \"Avocado Heights\", \"date\": \"rank_lower_is_better\", \"rate\": 225.0}, {\"name\": \"Palms\", \"date\": \"rank_lower_is_better\", \"rate\": 224.0}, {\"name\": \"Little Bangladesh\", \"date\": \"rank_lower_is_better\", \"rate\": 223.0}, {\"name\": \"East Whittier\", \"date\": \"rank_lower_is_better\", \"rate\": 222.0}, {\"name\": \"Harbor Gateway\", \"date\": \"rank_lower_is_better\", \"rate\": 221.0}, {\"name\": \"Walnut Park\", \"date\": \"rank_lower_is_better\", \"rate\": 220.0}, {\"name\": \"Lakewood\", \"date\": \"rank_lower_is_better\", \"rate\": 219.0}, {\"name\": \"West Vernon\", \"date\": \"rank_lower_is_better\", \"rate\": 218.0}, {\"name\": \"Harbor City\", \"date\": \"rank_lower_is_better\", \"rate\": 217.0}, {\"name\": \"West Puente Valley\", \"date\": \"rank_lower_is_better\", \"rate\": 216.0}, {\"name\": \"Athens-Westmont\", \"date\": \"rank_lower_is_better\", \"rate\": 215.0}, {\"name\": \"Claremont\", \"date\": \"rank_lower_is_better\", \"rate\": 20.0}, {\"name\": \"Silver Lake\", \"date\": \"rank_lower_is_better\", \"rate\": 19.0}, {\"name\": \"Hermosa Beach\", \"date\": \"rank_lower_is_better\", \"rate\": 18.0}, {\"name\": \"San Gabriel\", \"date\": \"rank_lower_is_better\", \"rate\": 17.0}, {\"name\": \"Downtown\", \"date\": \"rank_lower_is_better\", \"rate\": 16.0}, {\"name\": \"Rolling Hills Estates\", \"date\": \"rank_lower_is_better\", \"rate\": 15.0}, {\"name\": \"Los Feliz\", \"date\": \"rank_lower_is_better\", \"rate\": 14.0}, {\"name\": \"Del Rey\", \"date\": \"rank_lower_is_better\", \"rate\": 13.0}, {\"name\": \"Tarzana\", \"date\": \"rank_lower_is_better\", \"rate\": 12.0}, {\"name\": \"Sierra Madre\", \"date\": \"rank_lower_is_better\", \"rate\": 11.0}, {\"name\": \"Santa Monica\", \"date\": \"rank_lower_is_better\", \"rate\": 10.0}, {\"name\": \"Brentwood\", \"date\": \"rank_lower_is_better\", \"rate\": 9.0}, {\"name\": \"Venice\", \"date\": \"rank_lower_is_better\", \"rate\": 9.0}, {\"name\": \"Rancho Park\", \"date\": \"rank_lower_is_better\", \"rate\": 7.0}, {\"name\": \"Hollywood Hills\", \"date\": \"rank_lower_is_better\", \"rate\": 6.0}, {\"name\": \"Encino\", \"date\": \"rank_lower_is_better\", \"rate\": 5.0}, {\"name\": \"East Pasadena\", \"date\": \"rank_lower_is_better\", \"rate\": 4.0}, {\"name\": \"Park La Brea\", \"date\": \"rank_lower_is_better\", \"rate\": 3.0}, {\"name\": \"Malibu\", \"date\": \"rank_lower_is_better\", \"rate\": 2.0}, {\"name\": \"West Hollywood\", \"date\": \"rank_lower_is_better\", \"rate\": 1.0}]}}, {\"mode\": \"vega-lite\"});\n",
       "</script>"
      ],
      "text/plain": [
       "alt.Chart(...)"
      ]
     },
     "execution_count": 48,
     "metadata": {},
     "output_type": "execute_result"
    }
   ],
   "source": [
    "min_max_minimultiples = (\n",
    "    alt.Chart(surge_change_pivot_min_max_melt)\n",
    "    .mark_line(size=5, color=\"red\")\n",
    "    .encode(\n",
    "        x=alt.X(\"date:T\", title=\"\", axis=alt.Axis(tickCount=3, format=\"%b. %d\")),\n",
    "        y=alt.Y(\"rate\", title=\"\"),\n",
    "        facet=alt.Facet(\"name\", columns=8),\n",
    "    )\n",
    "    .properties(\n",
    "        height=120,\n",
    "        width=120,\n",
    "        title=\"Places with greatest, least rate increases\",\n",
    "    )\n",
    ")\n",
    "min_max_minimultiples"
   ]
  },
  {
   "cell_type": "code",
   "execution_count": null,
   "id": "subjective-ribbon",
   "metadata": {},
   "outputs": [],
   "source": []
  },
  {
   "cell_type": "markdown",
   "id": "impressive-investment",
   "metadata": {},
   "source": [
    "---"
   ]
  },
  {
   "cell_type": "markdown",
   "id": "provincial-geneva",
   "metadata": {},
   "source": [
    "### Import geography"
   ]
  },
  {
   "cell_type": "code",
   "execution_count": 49,
   "id": "technological-triangle",
   "metadata": {},
   "outputs": [],
   "source": [
    "places_map = gpd.read_file(\n",
    "    \"input/cities-neighborhoods-unincorporated-la-county.geojson\"\n",
    ").fillna(\"\")"
   ]
  },
  {
   "cell_type": "code",
   "execution_count": 50,
   "id": "undefined-provincial",
   "metadata": {},
   "outputs": [],
   "source": [
    "places_map[\"NAME\"] = np.where(\n",
    "    (places_map[\"LCITY\"] == \"Los Angeles\") | (places_map[\"LCITY\"] == \"Unincorporated\"),\n",
    "    places_map[\"COMMUNITY\"],\n",
    "    places_map[\"LCITY\"],\n",
    ")"
   ]
  },
  {
   "cell_type": "code",
   "execution_count": 51,
   "id": "insured-sperm",
   "metadata": {},
   "outputs": [],
   "source": [
    "places_map_geo = places_map.merge(\n",
    "    surge_change_pivot, left_on=\"NAME\", right_on=\"name\", how=\"inner\"\n",
    ")"
   ]
  },
  {
   "cell_type": "code",
   "execution_count": 52,
   "id": "talented-worth",
   "metadata": {},
   "outputs": [
    {
     "data": {
      "text/plain": [
       "251"
      ]
     },
     "execution_count": 52,
     "metadata": {},
     "output_type": "execute_result"
    }
   ],
   "source": [
    "len(places_map_geo)"
   ]
  },
  {
   "cell_type": "code",
   "execution_count": 53,
   "id": "handed-mongolia",
   "metadata": {},
   "outputs": [],
   "source": [
    "places_map_geo.drop(\n",
    "    [\n",
    "        \"LCITY\",\n",
    "        \"LABEL\",\n",
    "        \"COMMUNITY\",\n",
    "        \"CONFIRMED\",\n",
    "        \"SUSPECTED\",\n",
    "        \"RECOVERED\",\n",
    "        \"DEATHS\",\n",
    "        \"Shape__Area\",\n",
    "        \"Shape__Length\",\n",
    "        \"OBJECTID\",\n",
    "    ],\n",
    "    axis=1,\n",
    "    inplace=True,\n",
    ")"
   ]
  },
  {
   "cell_type": "markdown",
   "id": "ceramic-range",
   "metadata": {},
   "source": [
    "---"
   ]
  },
  {
   "cell_type": "markdown",
   "id": "ethical-finger",
   "metadata": {},
   "source": [
    "### Mapping"
   ]
  },
  {
   "cell_type": "code",
   "execution_count": 54,
   "id": "union-chemical",
   "metadata": {},
   "outputs": [
    {
     "data": {
      "text/html": [
       "<div>\n",
       "<style scoped>\n",
       "    .dataframe tbody tr th:only-of-type {\n",
       "        vertical-align: middle;\n",
       "    }\n",
       "\n",
       "    .dataframe tbody tr th {\n",
       "        vertical-align: top;\n",
       "    }\n",
       "\n",
       "    .dataframe thead th {\n",
       "        text-align: right;\n",
       "    }\n",
       "</style>\n",
       "<table border=\"1\" class=\"dataframe\">\n",
       "  <thead>\n",
       "    <tr style=\"text-align: right;\">\n",
       "      <th></th>\n",
       "      <th>geometry</th>\n",
       "      <th>NAME</th>\n",
       "      <th>name</th>\n",
       "      <th>mid_november</th>\n",
       "      <th>mid_january</th>\n",
       "      <th>pct_change</th>\n",
       "      <th>rank_lower_is_better</th>\n",
       "    </tr>\n",
       "  </thead>\n",
       "  <tbody>\n",
       "    <tr>\n",
       "      <th>0</th>\n",
       "      <td>POLYGON ((-118.72865 34.16793, -118.73655 34.1...</td>\n",
       "      <td>Agoura Hills</td>\n",
       "      <td>Agoura Hills</td>\n",
       "      <td>71.83</td>\n",
       "      <td>397.45</td>\n",
       "      <td>453.32</td>\n",
       "      <td>109.0</td>\n",
       "    </tr>\n",
       "    <tr>\n",
       "      <th>1</th>\n",
       "      <td>POLYGON ((-118.10976 33.90982, -118.10984 33.9...</td>\n",
       "      <td>Bellflower</td>\n",
       "      <td>Bellflower</td>\n",
       "      <td>144.08</td>\n",
       "      <td>1130.76</td>\n",
       "      <td>684.81</td>\n",
       "      <td>200.0</td>\n",
       "    </tr>\n",
       "    <tr>\n",
       "      <th>2</th>\n",
       "      <td>POLYGON ((-118.39160 34.11243, -118.39230 34.1...</td>\n",
       "      <td>Beverly Hills</td>\n",
       "      <td>Beverly Hills</td>\n",
       "      <td>98.49</td>\n",
       "      <td>492.47</td>\n",
       "      <td>400.02</td>\n",
       "      <td>87.0</td>\n",
       "    </tr>\n",
       "    <tr>\n",
       "      <th>3</th>\n",
       "      <td>POLYGON ((-118.30781 34.16116, -118.30451 34.1...</td>\n",
       "      <td>Burbank</td>\n",
       "      <td>Burbank</td>\n",
       "      <td>146.48</td>\n",
       "      <td>600.86</td>\n",
       "      <td>310.20</td>\n",
       "      <td>45.0</td>\n",
       "    </tr>\n",
       "    <tr>\n",
       "      <th>4</th>\n",
       "      <td>POLYGON ((-118.69385 34.16856, -118.69454 34.1...</td>\n",
       "      <td>Calabasas</td>\n",
       "      <td>Calabasas</td>\n",
       "      <td>57.56</td>\n",
       "      <td>386.47</td>\n",
       "      <td>571.42</td>\n",
       "      <td>163.0</td>\n",
       "    </tr>\n",
       "  </tbody>\n",
       "</table>\n",
       "</div>"
      ],
      "text/plain": [
       "                                            geometry           NAME  \\\n",
       "0  POLYGON ((-118.72865 34.16793, -118.73655 34.1...   Agoura Hills   \n",
       "1  POLYGON ((-118.10976 33.90982, -118.10984 33.9...     Bellflower   \n",
       "2  POLYGON ((-118.39160 34.11243, -118.39230 34.1...  Beverly Hills   \n",
       "3  POLYGON ((-118.30781 34.16116, -118.30451 34.1...        Burbank   \n",
       "4  POLYGON ((-118.69385 34.16856, -118.69454 34.1...      Calabasas   \n",
       "\n",
       "            name  mid_november  mid_january  pct_change  rank_lower_is_better  \n",
       "0   Agoura Hills         71.83       397.45      453.32                 109.0  \n",
       "1     Bellflower        144.08      1130.76      684.81                 200.0  \n",
       "2  Beverly Hills         98.49       492.47      400.02                  87.0  \n",
       "3        Burbank        146.48       600.86      310.20                  45.0  \n",
       "4      Calabasas         57.56       386.47      571.42                 163.0  "
      ]
     },
     "execution_count": 54,
     "metadata": {},
     "output_type": "execute_result"
    }
   ],
   "source": [
    "places_map_geo.head()"
   ]
  },
  {
   "cell_type": "markdown",
   "id": "viral-appreciation",
   "metadata": {},
   "source": [
    "---"
   ]
  },
  {
   "cell_type": "markdown",
   "id": "liquid-comparison",
   "metadata": {},
   "source": [
    "### Export"
   ]
  },
  {
   "cell_type": "code",
   "execution_count": 55,
   "id": "adverse-engineer",
   "metadata": {},
   "outputs": [],
   "source": [
    "places_map_geo.to_file(\"output/places_map_geo.geojson\", driver=\"GeoJSON\")"
   ]
  },
  {
   "cell_type": "code",
   "execution_count": 56,
   "id": "utility-destination",
   "metadata": {},
   "outputs": [],
   "source": [
    "min_max_minimultiples.save(\"visuals/min_max_minimultiples.png\")"
   ]
  },
  {
   "cell_type": "code",
   "execution_count": 57,
   "id": "caring-quick",
   "metadata": {},
   "outputs": [],
   "source": [
    "twocities_chart.save(\"visuals/twocities_chart.png\")"
   ]
  },
  {
   "cell_type": "code",
   "execution_count": null,
   "id": "corresponding-leave",
   "metadata": {},
   "outputs": [],
   "source": [
    "twocities_chart2.save(\"visuals/twocities_chart2.png\")"
   ]
  },
  {
   "cell_type": "code",
   "execution_count": null,
   "id": "married-backup",
   "metadata": {},
   "outputs": [],
   "source": [
    "pop_histogram.save(\"visuals/pop_histogram.png\")"
   ]
  },
  {
   "cell_type": "code",
   "execution_count": null,
   "id": "durable-official",
   "metadata": {},
   "outputs": [],
   "source": [
    "surge_change_pivot.rename(\n",
    "    columns={\n",
    "        \"mid_november\": \"case_rate_per_100k_mid-november\",\n",
    "        \"mid_january\": \"case_rate_per_100k_mid-january\",\n",
    "    },\n",
    "    inplace=True,\n",
    ")"
   ]
  },
  {
   "cell_type": "code",
   "execution_count": 61,
   "id": "specific-midwest",
   "metadata": {},
   "outputs": [
    {
     "ename": "KeyError",
     "evalue": "'rank_lower_is_worse'",
     "output_type": "error",
     "traceback": [
      "\u001b[0;31m---------------------------------------------------------------------------\u001b[0m",
      "\u001b[0;31mKeyError\u001b[0m                                  Traceback (most recent call last)",
      "\u001b[0;32m<ipython-input-61-3b1d90bf6a9b>\u001b[0m in \u001b[0;36m<module>\u001b[0;34m\u001b[0m\n\u001b[0;32m----> 1\u001b[0;31m surge_change_pivot.sort_values(\"rank_lower_is_worse\", ascending=True).to_csv(\n\u001b[0m\u001b[1;32m      2\u001b[0m     \u001b[0;34m\"output/hayley/change_by_community.csv\"\u001b[0m\u001b[0;34m,\u001b[0m \u001b[0mindex\u001b[0m\u001b[0;34m=\u001b[0m\u001b[0;32mFalse\u001b[0m\u001b[0;34m\u001b[0m\u001b[0;34m\u001b[0m\u001b[0m\n\u001b[1;32m      3\u001b[0m )\n",
      "\u001b[0;32m~/.virtualenvs/notebooks-hnoN6uG0/lib/python3.7/site-packages/pandas/core/frame.py\u001b[0m in \u001b[0;36msort_values\u001b[0;34m(self, by, axis, ascending, inplace, kind, na_position, ignore_index, key)\u001b[0m\n\u001b[1;32m   5450\u001b[0m \u001b[0;34m\u001b[0m\u001b[0m\n\u001b[1;32m   5451\u001b[0m             \u001b[0mby\u001b[0m \u001b[0;34m=\u001b[0m \u001b[0mby\u001b[0m\u001b[0;34m[\u001b[0m\u001b[0;36m0\u001b[0m\u001b[0;34m]\u001b[0m\u001b[0;34m\u001b[0m\u001b[0;34m\u001b[0m\u001b[0m\n\u001b[0;32m-> 5452\u001b[0;31m             \u001b[0mk\u001b[0m \u001b[0;34m=\u001b[0m \u001b[0mself\u001b[0m\u001b[0;34m.\u001b[0m\u001b[0m_get_label_or_level_values\u001b[0m\u001b[0;34m(\u001b[0m\u001b[0mby\u001b[0m\u001b[0;34m,\u001b[0m \u001b[0maxis\u001b[0m\u001b[0;34m=\u001b[0m\u001b[0maxis\u001b[0m\u001b[0;34m)\u001b[0m\u001b[0;34m\u001b[0m\u001b[0;34m\u001b[0m\u001b[0m\n\u001b[0m\u001b[1;32m   5453\u001b[0m \u001b[0;34m\u001b[0m\u001b[0m\n\u001b[1;32m   5454\u001b[0m             \u001b[0;31m# need to rewrap column in Series to apply key function\u001b[0m\u001b[0;34m\u001b[0m\u001b[0;34m\u001b[0m\u001b[0;34m\u001b[0m\u001b[0m\n",
      "\u001b[0;32m~/.virtualenvs/notebooks-hnoN6uG0/lib/python3.7/site-packages/pandas/core/generic.py\u001b[0m in \u001b[0;36m_get_label_or_level_values\u001b[0;34m(self, key, axis)\u001b[0m\n\u001b[1;32m   1681\u001b[0m             \u001b[0mvalues\u001b[0m \u001b[0;34m=\u001b[0m \u001b[0mself\u001b[0m\u001b[0;34m.\u001b[0m\u001b[0maxes\u001b[0m\u001b[0;34m[\u001b[0m\u001b[0maxis\u001b[0m\u001b[0;34m]\u001b[0m\u001b[0;34m.\u001b[0m\u001b[0mget_level_values\u001b[0m\u001b[0;34m(\u001b[0m\u001b[0mkey\u001b[0m\u001b[0;34m)\u001b[0m\u001b[0;34m.\u001b[0m\u001b[0m_values\u001b[0m\u001b[0;34m\u001b[0m\u001b[0;34m\u001b[0m\u001b[0m\n\u001b[1;32m   1682\u001b[0m         \u001b[0;32melse\u001b[0m\u001b[0;34m:\u001b[0m\u001b[0;34m\u001b[0m\u001b[0;34m\u001b[0m\u001b[0m\n\u001b[0;32m-> 1683\u001b[0;31m             \u001b[0;32mraise\u001b[0m \u001b[0mKeyError\u001b[0m\u001b[0;34m(\u001b[0m\u001b[0mkey\u001b[0m\u001b[0;34m)\u001b[0m\u001b[0;34m\u001b[0m\u001b[0;34m\u001b[0m\u001b[0m\n\u001b[0m\u001b[1;32m   1684\u001b[0m \u001b[0;34m\u001b[0m\u001b[0m\n\u001b[1;32m   1685\u001b[0m         \u001b[0;31m# Check for duplicates\u001b[0m\u001b[0;34m\u001b[0m\u001b[0;34m\u001b[0m\u001b[0;34m\u001b[0m\u001b[0m\n",
      "\u001b[0;31mKeyError\u001b[0m: 'rank_lower_is_worse'"
     ]
    }
   ],
   "source": [
    "surge_change_pivot.sort_values(\"rank_lower_is_worse\", ascending=True).to_csv(\n",
    "    \"output/hayley/change_by_community.csv\", index=False\n",
    ")"
   ]
  }
 ],
 "metadata": {
  "kernelspec": {
   "display_name": "Python 3",
   "language": "python",
   "name": "python3"
  },
  "language_info": {
   "codemirror_mode": {
    "name": "ipython",
    "version": 3
   },
   "file_extension": ".py",
   "mimetype": "text/x-python",
   "name": "python",
   "nbconvert_exporter": "python",
   "pygments_lexer": "ipython3",
   "version": "3.7.4"
  }
 },
 "nbformat": 4,
 "nbformat_minor": 5
}
