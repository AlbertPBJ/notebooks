{
 "cells": [
  {
   "cell_type": "markdown",
   "id": "thick-gossip",
   "metadata": {},
   "source": [
    "### L.A. County places timeseries"
   ]
  },
  {
   "cell_type": "code",
   "execution_count": 1,
   "id": "according-firewall",
   "metadata": {},
   "outputs": [],
   "source": [
    "%load_ext lab_black"
   ]
  },
  {
   "cell_type": "code",
   "execution_count": 2,
   "id": "proud-turner",
   "metadata": {},
   "outputs": [],
   "source": [
    "import pandas as pd\n",
    "import geopandas as gpd\n",
    "import jenkspy\n",
    "import matplotlib.pyplot as plt"
   ]
  },
  {
   "cell_type": "code",
   "execution_count": 3,
   "id": "dominican-funds",
   "metadata": {},
   "outputs": [],
   "source": [
    "%matplotlib inline\n",
    "import json\n",
    "import numpy as np\n",
    "import altair as alt\n",
    "import altair_latimes as lat"
   ]
  },
  {
   "cell_type": "code",
   "execution_count": 4,
   "id": "qualified-comment",
   "metadata": {},
   "outputs": [],
   "source": [
    "import requests\n",
    "from bs4 import BeautifulSoup\n",
    "import re\n",
    "import unicodedata\n",
    "from datetime import datetime, date\n",
    "from slugify import slugify"
   ]
  },
  {
   "cell_type": "code",
   "execution_count": 5,
   "id": "periodic-resident",
   "metadata": {},
   "outputs": [
    {
     "data": {
      "text/plain": [
       "DataTransformerRegistry.enable('default')"
      ]
     },
     "execution_count": 5,
     "metadata": {},
     "output_type": "execute_result"
    }
   ],
   "source": [
    "alt.themes.register(\"latimes\", lat.theme)\n",
    "alt.themes.enable(\"latimes\")\n",
    "pd.options.display.max_columns = 50\n",
    "pd.options.display.max_rows = 1000\n",
    "alt.data_transformers.disable_max_rows()"
   ]
  },
  {
   "cell_type": "markdown",
   "id": "hazardous-occupation",
   "metadata": {},
   "source": [
    "---"
   ]
  },
  {
   "cell_type": "markdown",
   "id": "selected-deputy",
   "metadata": {},
   "source": [
    "### Counties"
   ]
  },
  {
   "cell_type": "code",
   "execution_count": 6,
   "id": "technical-teens",
   "metadata": {},
   "outputs": [],
   "source": [
    "counties = pd.read_csv(\n",
    "    \"../../coronavirus-tracker/_notebooks/data/processed/agency-survey/counties-timeseries.csv\",\n",
    "    low_memory=False,\n",
    ")"
   ]
  },
  {
   "cell_type": "code",
   "execution_count": 7,
   "id": "incredible-legislation",
   "metadata": {},
   "outputs": [],
   "source": [
    "la = counties[\n",
    "    (counties[\"county\"] == \"Los Angeles\")\n",
    "    & ((counties[\"date\"] > \"2020-11-15\") & (counties[\"date\"] < \"2021-01-16\"))\n",
    "]"
   ]
  },
  {
   "cell_type": "code",
   "execution_count": 8,
   "id": "ruled-college",
   "metadata": {},
   "outputs": [
    {
     "data": {
      "text/html": [
       "<div>\n",
       "<style scoped>\n",
       "    .dataframe tbody tr th:only-of-type {\n",
       "        vertical-align: middle;\n",
       "    }\n",
       "\n",
       "    .dataframe tbody tr th {\n",
       "        vertical-align: top;\n",
       "    }\n",
       "\n",
       "    .dataframe thead th {\n",
       "        text-align: right;\n",
       "    }\n",
       "</style>\n",
       "<table border=\"1\" class=\"dataframe\">\n",
       "  <thead>\n",
       "    <tr style=\"text-align: right;\">\n",
       "      <th></th>\n",
       "      <th>date</th>\n",
       "      <th>county</th>\n",
       "      <th>fips</th>\n",
       "      <th>population</th>\n",
       "      <th>confirmed_cases</th>\n",
       "      <th>deaths</th>\n",
       "      <th>recoveries</th>\n",
       "      <th>confirmed_cases_per_100k</th>\n",
       "      <th>deaths_per_100k</th>\n",
       "      <th>new_confirmed_cases</th>\n",
       "      <th>new_deaths</th>\n",
       "      <th>new_recoveries</th>\n",
       "      <th>agencies_count</th>\n",
       "      <th>agencies_updated</th>\n",
       "      <th>updated</th>\n",
       "      <th>in_progress</th>\n",
       "    </tr>\n",
       "  </thead>\n",
       "  <tbody>\n",
       "    <tr>\n",
       "      <th>7153</th>\n",
       "      <td>2020-11-16</td>\n",
       "      <td>Los Angeles</td>\n",
       "      <td>37</td>\n",
       "      <td>10098052</td>\n",
       "      <td>342489.0</td>\n",
       "      <td>7275.0</td>\n",
       "      <td>13187.0</td>\n",
       "      <td>3391.634347</td>\n",
       "      <td>72.043598</td>\n",
       "      <td>2919.0</td>\n",
       "      <td>6.0</td>\n",
       "      <td>71.0</td>\n",
       "      <td>3.0</td>\n",
       "      <td>3.0</td>\n",
       "      <td>True</td>\n",
       "      <td>False</td>\n",
       "    </tr>\n",
       "    <tr>\n",
       "      <th>7154</th>\n",
       "      <td>2020-11-17</td>\n",
       "      <td>Los Angeles</td>\n",
       "      <td>37</td>\n",
       "      <td>10098052</td>\n",
       "      <td>344741.0</td>\n",
       "      <td>7300.0</td>\n",
       "      <td>13244.0</td>\n",
       "      <td>3413.935678</td>\n",
       "      <td>72.291171</td>\n",
       "      <td>2252.0</td>\n",
       "      <td>25.0</td>\n",
       "      <td>57.0</td>\n",
       "      <td>3.0</td>\n",
       "      <td>3.0</td>\n",
       "      <td>True</td>\n",
       "      <td>False</td>\n",
       "    </tr>\n",
       "    <tr>\n",
       "      <th>7155</th>\n",
       "      <td>2020-11-18</td>\n",
       "      <td>Los Angeles</td>\n",
       "      <td>37</td>\n",
       "      <td>10098052</td>\n",
       "      <td>348536.0</td>\n",
       "      <td>7337.0</td>\n",
       "      <td>13348.0</td>\n",
       "      <td>3451.517184</td>\n",
       "      <td>72.657578</td>\n",
       "      <td>3795.0</td>\n",
       "      <td>37.0</td>\n",
       "      <td>104.0</td>\n",
       "      <td>3.0</td>\n",
       "      <td>3.0</td>\n",
       "      <td>True</td>\n",
       "      <td>False</td>\n",
       "    </tr>\n",
       "    <tr>\n",
       "      <th>7156</th>\n",
       "      <td>2020-11-19</td>\n",
       "      <td>Los Angeles</td>\n",
       "      <td>37</td>\n",
       "      <td>10098052</td>\n",
       "      <td>353479.0</td>\n",
       "      <td>7365.0</td>\n",
       "      <td>13435.0</td>\n",
       "      <td>3500.467219</td>\n",
       "      <td>72.934859</td>\n",
       "      <td>4943.0</td>\n",
       "      <td>28.0</td>\n",
       "      <td>87.0</td>\n",
       "      <td>3.0</td>\n",
       "      <td>3.0</td>\n",
       "      <td>True</td>\n",
       "      <td>False</td>\n",
       "    </tr>\n",
       "    <tr>\n",
       "      <th>7157</th>\n",
       "      <td>2020-11-20</td>\n",
       "      <td>Los Angeles</td>\n",
       "      <td>37</td>\n",
       "      <td>10098052</td>\n",
       "      <td>357637.0</td>\n",
       "      <td>7397.0</td>\n",
       "      <td>13515.0</td>\n",
       "      <td>3541.643477</td>\n",
       "      <td>73.251752</td>\n",
       "      <td>4158.0</td>\n",
       "      <td>32.0</td>\n",
       "      <td>80.0</td>\n",
       "      <td>3.0</td>\n",
       "      <td>3.0</td>\n",
       "      <td>True</td>\n",
       "      <td>False</td>\n",
       "    </tr>\n",
       "  </tbody>\n",
       "</table>\n",
       "</div>"
      ],
      "text/plain": [
       "            date       county  fips  population  confirmed_cases  deaths  \\\n",
       "7153  2020-11-16  Los Angeles    37    10098052         342489.0  7275.0   \n",
       "7154  2020-11-17  Los Angeles    37    10098052         344741.0  7300.0   \n",
       "7155  2020-11-18  Los Angeles    37    10098052         348536.0  7337.0   \n",
       "7156  2020-11-19  Los Angeles    37    10098052         353479.0  7365.0   \n",
       "7157  2020-11-20  Los Angeles    37    10098052         357637.0  7397.0   \n",
       "\n",
       "      recoveries  confirmed_cases_per_100k  deaths_per_100k  \\\n",
       "7153     13187.0               3391.634347        72.043598   \n",
       "7154     13244.0               3413.935678        72.291171   \n",
       "7155     13348.0               3451.517184        72.657578   \n",
       "7156     13435.0               3500.467219        72.934859   \n",
       "7157     13515.0               3541.643477        73.251752   \n",
       "\n",
       "      new_confirmed_cases  new_deaths  new_recoveries  agencies_count  \\\n",
       "7153               2919.0         6.0            71.0             3.0   \n",
       "7154               2252.0        25.0            57.0             3.0   \n",
       "7155               3795.0        37.0           104.0             3.0   \n",
       "7156               4943.0        28.0            87.0             3.0   \n",
       "7157               4158.0        32.0            80.0             3.0   \n",
       "\n",
       "      agencies_updated  updated  in_progress  \n",
       "7153               3.0     True        False  \n",
       "7154               3.0     True        False  \n",
       "7155               3.0     True        False  \n",
       "7156               3.0     True        False  \n",
       "7157               3.0     True        False  "
      ]
     },
     "execution_count": 8,
     "metadata": {},
     "output_type": "execute_result"
    }
   ],
   "source": [
    "la.head()"
   ]
  },
  {
   "cell_type": "markdown",
   "id": "unnecessary-trust",
   "metadata": {},
   "source": [
    "### Regions"
   ]
  },
  {
   "cell_type": "code",
   "execution_count": 9,
   "id": "powerful-titanium",
   "metadata": {},
   "outputs": [],
   "source": [
    "regions = pd.read_csv(\n",
    "    \"../../coronavirus-tracker/_notebooks/data/processed/agency-survey/regions-cases-timeseries.csv\",\n",
    "    low_memory=False,\n",
    ")"
   ]
  },
  {
   "cell_type": "code",
   "execution_count": 10,
   "id": "imperial-wales",
   "metadata": {},
   "outputs": [],
   "source": [
    "socal = regions[\n",
    "    (regions[\"region\"] == \"Southern California\")\n",
    "    & ((regions[\"date\"] > \"2020-11-15\") & (regions[\"date\"] < \"2021-01-16\"))\n",
    "]"
   ]
  },
  {
   "cell_type": "code",
   "execution_count": 11,
   "id": "positive-retail",
   "metadata": {},
   "outputs": [
    {
     "data": {
      "text/html": [
       "<div>\n",
       "<style scoped>\n",
       "    .dataframe tbody tr th:only-of-type {\n",
       "        vertical-align: middle;\n",
       "    }\n",
       "\n",
       "    .dataframe tbody tr th {\n",
       "        vertical-align: top;\n",
       "    }\n",
       "\n",
       "    .dataframe thead th {\n",
       "        text-align: right;\n",
       "    }\n",
       "</style>\n",
       "<table border=\"1\" class=\"dataframe\">\n",
       "  <thead>\n",
       "    <tr style=\"text-align: right;\">\n",
       "      <th></th>\n",
       "      <th>date</th>\n",
       "      <th>new_confirmed_cases_seven_day_per_100k</th>\n",
       "    </tr>\n",
       "  </thead>\n",
       "  <tbody>\n",
       "    <tr>\n",
       "      <th>1874</th>\n",
       "      <td>2021-01-10</td>\n",
       "      <td>1001.84761</td>\n",
       "    </tr>\n",
       "  </tbody>\n",
       "</table>\n",
       "</div>"
      ],
      "text/plain": [
       "            date  new_confirmed_cases_seven_day_per_100k\n",
       "1874  2021-01-10                              1001.84761"
      ]
     },
     "execution_count": 11,
     "metadata": {},
     "output_type": "execute_result"
    }
   ],
   "source": [
    "socal[\n",
    "    socal[\"new_confirmed_cases_seven_day_per_100k\"]\n",
    "    == socal[\"new_confirmed_cases_seven_day_per_100k\"].max()\n",
    "][[\"date\", \"new_confirmed_cases_seven_day_per_100k\"]]"
   ]
  },
  {
   "cell_type": "code",
   "execution_count": 12,
   "id": "stopped-community",
   "metadata": {},
   "outputs": [
    {
     "data": {
      "text/html": [
       "\n",
       "<div id=\"altair-viz-12f1708985024b8e8a5d6c53f3d11ae0\"></div>\n",
       "<script type=\"text/javascript\">\n",
       "  (function(spec, embedOpt){\n",
       "    let outputDiv = document.currentScript.previousElementSibling;\n",
       "    if (outputDiv.id !== \"altair-viz-12f1708985024b8e8a5d6c53f3d11ae0\") {\n",
       "      outputDiv = document.getElementById(\"altair-viz-12f1708985024b8e8a5d6c53f3d11ae0\");\n",
       "    }\n",
       "    const paths = {\n",
       "      \"vega\": \"https://cdn.jsdelivr.net/npm//vega@5?noext\",\n",
       "      \"vega-lib\": \"https://cdn.jsdelivr.net/npm//vega-lib?noext\",\n",
       "      \"vega-lite\": \"https://cdn.jsdelivr.net/npm//vega-lite@4.8.1?noext\",\n",
       "      \"vega-embed\": \"https://cdn.jsdelivr.net/npm//vega-embed@6?noext\",\n",
       "    };\n",
       "\n",
       "    function loadScript(lib) {\n",
       "      return new Promise(function(resolve, reject) {\n",
       "        var s = document.createElement('script');\n",
       "        s.src = paths[lib];\n",
       "        s.async = true;\n",
       "        s.onload = () => resolve(paths[lib]);\n",
       "        s.onerror = () => reject(`Error loading script: ${paths[lib]}`);\n",
       "        document.getElementsByTagName(\"head\")[0].appendChild(s);\n",
       "      });\n",
       "    }\n",
       "\n",
       "    function showError(err) {\n",
       "      outputDiv.innerHTML = `<div class=\"error\" style=\"color:red;\">${err}</div>`;\n",
       "      throw err;\n",
       "    }\n",
       "\n",
       "    function displayChart(vegaEmbed) {\n",
       "      vegaEmbed(outputDiv, spec, embedOpt)\n",
       "        .catch(err => showError(`Javascript Error: ${err.message}<br>This usually means there's a typo in your chart specification. See the javascript console for the full traceback.`));\n",
       "    }\n",
       "\n",
       "    if(typeof define === \"function\" && define.amd) {\n",
       "      requirejs.config({paths});\n",
       "      require([\"vega-embed\"], displayChart, err => showError(`Error loading script: ${err.message}`));\n",
       "    } else if (typeof vegaEmbed === \"function\") {\n",
       "      displayChart(vegaEmbed);\n",
       "    } else {\n",
       "      loadScript(\"vega\")\n",
       "        .then(() => loadScript(\"vega-lite\"))\n",
       "        .then(() => loadScript(\"vega-embed\"))\n",
       "        .catch(showError)\n",
       "        .then(() => displayChart(vegaEmbed));\n",
       "    }\n",
       "  })({\"config\": {\"view\": {\"width\": 800, \"height\": 450}, \"background\": \"#ffffff\", \"title\": {\"anchor\": \"start\", \"font\": \"Benton Gothic Bold, sans\", \"fontColor\": \"#000000\", \"fontSize\": 22, \"fontWeight\": \"normal\"}, \"arc\": {\"fill\": \"#82c6df\"}, \"area\": {\"fill\": \"#82c6df\"}, \"line\": {\"stroke\": \"#82c6df\", \"strokeWidth\": 3}, \"path\": {\"stroke\": \"#82c6df\"}, \"rect\": {\"fill\": \"#82c6df\"}, \"shape\": {\"stroke\": \"#82c6df\"}, \"bar\": {\"fill\": \"#82c6df\"}, \"point\": {\"stroke\": \"#82c6df\"}, \"symbol\": {\"fill\": \"#82c6df\", \"size\": 30}, \"axis\": {\"titleFont\": \"Benton Gothic Bold, sans\", \"titleFontSize\": 13, \"titleFontWeight\": \"normal\", \"labelFont\": \"Benton Gothic, sans\", \"labelFontSize\": 11.5, \"labelFontWeight\": \"normal\"}, \"axisX\": {\"labelAngle\": 0, \"labelPadding\": 4, \"tickSize\": 3}, \"axisY\": {\"labelBaseline\": \"middle\", \"maxExtent\": 45, \"minExtent\": 45, \"tickSize\": 2, \"titleAlign\": \"left\", \"titleAngle\": 0, \"titleX\": -45, \"titleY\": -11}, \"legend\": {\"titleFont\": \"Benton Gothic Bold, sans\", \"titleFontSize\": 13, \"titleFontWeight\": \"normal\", \"symbolType\": \"square\", \"labelFont\": \"Benton Gothic, sans\", \"labelFontSize\": 11.5}, \"range\": {\"category\": [\"#3580b1\", \"#ec8431\", \"#ab7fb4\", \"#c89d29\", \"#adc839\", \"#829eb1\"], \"diverging\": [\"#e68a4f\", \"#f4bb6a\", \"#f9e39c\", \"#dadfe2\", \"#a6b7c6\", \"#849eae\"], \"heatmap\": [\"#fbf2c7\", \"#f9e39c\", \"#f8d36e\", \"#f4bb6a\", \"#e68a4f\", \"#d15a40\", \"#ab4232\"], \"ordinal\": [\"#fbf2c7\", \"#f9e39c\", \"#f8d36e\", \"#f4bb6a\", \"#e68a4f\", \"#d15a40\", \"#ab4232\"], \"ramp\": [\"#fbf2c7\", \"#f9e39c\", \"#f8d36e\", \"#f4bb6a\", \"#e68a4f\", \"#d15a40\", \"#ab4232\"]}}, \"data\": {\"name\": \"data-0d4f120f2d6bf0527e00dff92cc43593\"}, \"mark\": \"line\", \"encoding\": {\"x\": {\"type\": \"temporal\", \"axis\": {\"format\": \"%b. %d\", \"grid\": false, \"tickColor\": \"#ffffff\", \"tickCount\": 5}, \"field\": \"date\"}, \"y\": {\"type\": \"quantitative\", \"axis\": {\"tickColor\": \"#ffffff\"}, \"field\": \"new_confirmed_cases_seven_day_per_100k\", \"title\": \"\"}}, \"height\": 300, \"width\": 500, \"$schema\": \"https://vega.github.io/schema/vega-lite/v4.8.1.json\", \"datasets\": {\"data-0d4f120f2d6bf0527e00dff92cc43593\": [{\"date\": \"2020-11-16\", \"region\": \"Southern California\", \"confirmed_cases\": 671652.0, \"confirmed_cases_per_100k\": 2936.8838366970645, \"new_confirmed_cases\": 7670.0, \"new_confirmed_cases_seven_day_total\": 39650.0, \"deaths\": 12908.0, \"deaths_per_100k\": 56.44187252339859, \"new_deaths\": 21.0, \"new_deaths_seven_day_total\": 187.0, \"new_confirmed_cases_seven_day_average\": 5664.285714285715, \"new_deaths_seven_day_average\": 26.714285714285715, \"population\": 22869546, \"new_confirmed_cases_per_100k\": 33.538050995852736, \"new_deaths_per_100k\": 0.0918251722181104, \"new_confirmed_cases_seven_day_per_100k\": 173.37467040228958, \"new_deaths_seven_day_per_100k\": 0.8176812954660315, \"new_confirmed_cases_seven_day_average_per_100k\": 24.767810057469944, \"new_deaths_seven_day_average_per_100k\": 0.1168116136380045, \"new_confirmed_cases_seven_day_average_per_100k_percent_change\": 0.9740117494772482, \"new_deaths_seven_day_average_per_100k_percent_change\": 0.0446927374301675}, {\"date\": \"2020-11-17\", \"region\": \"Southern California\", \"confirmed_cases\": 678067.0, \"confirmed_cases_per_100k\": 2964.934240496073, \"new_confirmed_cases\": 6415.0, \"new_confirmed_cases_seven_day_total\": 40477.0, \"deaths\": 12940.0, \"deaths_per_100k\": 56.58179659534999, \"new_deaths\": 32.0, \"new_deaths_seven_day_total\": 170.0, \"new_confirmed_cases_seven_day_average\": 5782.428571428572, \"new_deaths_seven_day_average\": 24.285714285714285, \"population\": 22869546, \"new_confirmed_cases_per_100k\": 28.050403799008517, \"new_deaths_per_100k\": 0.1399240719514064, \"new_confirmed_cases_seven_day_per_100k\": 176.99083313678375, \"new_deaths_seven_day_per_100k\": 0.7433466322418468, \"new_confirmed_cases_seven_day_average_per_100k\": 25.28440473382625, \"new_deaths_seven_day_average_per_100k\": 0.1061923760345495, \"new_confirmed_cases_seven_day_average_per_100k_percent_change\": 0.9992591129111928, \"new_deaths_seven_day_average_per_100k_percent_change\": 0.0691823899371066}, {\"date\": \"2020-11-18\", \"region\": \"Southern California\", \"confirmed_cases\": 686601.0, \"confirmed_cases_per_100k\": 3002.2502414346136, \"new_confirmed_cases\": 8534.0, \"new_confirmed_cases_seven_day_total\": 45924.0, \"deaths\": 13022.0, \"deaths_per_100k\": 56.940352029725474, \"new_deaths\": 82.0, \"new_deaths_seven_day_total\": 234.0, \"new_confirmed_cases_seven_day_average\": 6560.571428571428, \"new_deaths_seven_day_average\": 33.42857142857143, \"population\": 22869546, \"new_confirmed_cases_per_100k\": 37.31600093854072, \"new_deaths_per_100k\": 0.3585554343754791, \"new_confirmed_cases_seven_day_per_100k\": 200.8085337592622, \"new_deaths_seven_day_per_100k\": 1.0231947761446598, \"new_confirmed_cases_seven_day_average_per_100k\": 28.68693339418032, \"new_deaths_seven_day_average_per_100k\": 0.1461706823063799, \"new_confirmed_cases_seven_day_average_per_100k_percent_change\": 1.187690548780488, \"new_deaths_seven_day_average_per_100k_percent_change\": 0.3846153846153848}, {\"date\": \"2020-11-19\", \"region\": \"Southern California\", \"confirmed_cases\": 695936.0, \"confirmed_cases_per_100k\": 3043.068716799188, \"new_confirmed_cases\": 9335.0, \"new_confirmed_cases_seven_day_total\": 48646.0, \"deaths\": 13088.0, \"deaths_per_100k\": 57.22894542812525, \"new_deaths\": 66.0, \"new_deaths_seven_day_total\": 282.0, \"new_confirmed_cases_seven_day_average\": 6949.428571428572, \"new_deaths_seven_day_average\": 40.285714285714285, \"population\": 22869546, \"new_confirmed_cases_per_100k\": 40.818475364574354, \"new_deaths_per_100k\": 0.2885933983997759, \"new_confirmed_cases_seven_day_per_100k\": 212.71082512962872, \"new_deaths_seven_day_per_100k\": 1.2330808840717695, \"new_confirmed_cases_seven_day_average_per_100k\": 30.387260732804105, \"new_deaths_seven_day_average_per_100k\": 0.1761544120102527, \"new_confirmed_cases_seven_day_average_per_100k_percent_change\": 1.1889933852315169, \"new_deaths_seven_day_average_per_100k_percent_change\": 0.4461538461538461}, {\"date\": \"2020-11-20\", \"region\": \"Southern California\", \"confirmed_cases\": 704488.0, \"confirmed_cases_per_100k\": 3080.463425028201, \"new_confirmed_cases\": 8552.0, \"new_confirmed_cases_seven_day_total\": 51258.0, \"deaths\": 13136.0, \"deaths_per_100k\": 57.43883153605235, \"new_deaths\": 48.0, \"new_deaths_seven_day_total\": 281.0, \"new_confirmed_cases_seven_day_average\": 7322.571428571428, \"new_deaths_seven_day_average\": 40.142857142857146, \"population\": 22869546, \"new_confirmed_cases_per_100k\": 37.394708229013375, \"new_deaths_per_100k\": 0.2098861079271097, \"new_confirmed_cases_seven_day_per_100k\": 224.13212750266223, \"new_deaths_seven_day_per_100k\": 1.228708256823288, \"new_confirmed_cases_seven_day_average_per_100k\": 32.01887535752318, \"new_deaths_seven_day_average_per_100k\": 0.1755297509747554, \"new_confirmed_cases_seven_day_average_per_100k_percent_change\": 1.183607395416205, \"new_deaths_seven_day_average_per_100k_percent_change\": 0.4789473684210528}, {\"date\": \"2020-11-21\", \"region\": \"Southern California\", \"confirmed_cases\": 714032.0, \"confirmed_cases_per_100k\": 3122.195779487708, \"new_confirmed_cases\": 9544.0, \"new_confirmed_cases_seven_day_total\": 54930.0, \"deaths\": 13187.0, \"deaths_per_100k\": 57.6618355257249, \"new_deaths\": 51.0, \"new_deaths_seven_day_total\": 304.0, \"new_confirmed_cases_seven_day_average\": 7847.142857142857, \"new_deaths_seven_day_average\": 43.42857142857143, \"population\": 22869546, \"new_confirmed_cases_per_100k\": 41.73235445950698, \"new_deaths_per_100k\": 0.223003989672554, \"new_confirmed_cases_seven_day_per_100k\": 240.18841475908616, \"new_deaths_seven_day_per_100k\": 1.3292786835383614, \"new_confirmed_cases_seven_day_average_per_100k\": 34.31263067986945, \"new_deaths_seven_day_average_per_100k\": 0.1898969547911945, \"new_confirmed_cases_seven_day_average_per_100k_percent_change\": 1.2206500646830527, \"new_deaths_seven_day_average_per_100k_percent_change\": 0.707865168539326}, {\"date\": \"2020-11-22\", \"region\": \"Southern California\", \"confirmed_cases\": 718412.0, \"confirmed_cases_per_100k\": 3141.347886836057, \"new_confirmed_cases\": 4380.0, \"new_confirmed_cases_seven_day_total\": 54430.0, \"deaths\": 13203.0, \"deaths_per_100k\": 57.73179756170062, \"new_deaths\": 16.0, \"new_deaths_seven_day_total\": 316.0, \"new_confirmed_cases_seven_day_average\": 7775.714285714285, \"new_deaths_seven_day_average\": 45.142857142857146, \"population\": 22869546, \"new_confirmed_cases_per_100k\": 19.15210734834876, \"new_deaths_per_100k\": 0.0699620359757032, \"new_confirmed_cases_seven_day_per_100k\": 238.00210113484545, \"new_deaths_seven_day_per_100k\": 1.381750210520139, \"new_confirmed_cases_seven_day_average_per_100k\": 34.00030016212077, \"new_deaths_seven_day_average_per_100k\": 0.1973928872171627, \"new_confirmed_cases_seven_day_average_per_100k_percent_change\": 1.1022749217874934, \"new_deaths_seven_day_average_per_100k_percent_change\": 0.7267759562841529}, {\"date\": \"2020-11-23\", \"region\": \"Southern California\", \"confirmed_cases\": 730861.0, \"confirmed_cases_per_100k\": 3195.7827234524025, \"new_confirmed_cases\": 12449.0, \"new_confirmed_cases_seven_day_total\": 59209.0, \"deaths\": 13237.0, \"deaths_per_100k\": 57.88046688814898, \"new_deaths\": 34.0, \"new_deaths_seven_day_total\": 329.0, \"new_confirmed_cases_seven_day_average\": 8458.42857142857, \"new_deaths_seven_day_average\": 47.0, \"population\": 22869546, \"new_confirmed_cases_per_100k\": 54.43483661634559, \"new_deaths_per_100k\": 0.1486693264483693, \"new_confirmed_cases_seven_day_per_100k\": 258.8988867553383, \"new_deaths_seven_day_per_100k\": 1.4385943647503978, \"new_confirmed_cases_seven_day_average_per_100k\": 36.98555525076261, \"new_deaths_seven_day_average_per_100k\": 0.2055134806786282, \"new_confirmed_cases_seven_day_average_per_100k_percent_change\": 1.2238122065727697, \"new_deaths_seven_day_average_per_100k_percent_change\": 0.7688172043010753}, {\"date\": \"2020-11-24\", \"region\": \"Southern California\", \"confirmed_cases\": 741042.0, \"confirmed_cases_per_100k\": 3240.3004414691927, \"new_confirmed_cases\": 10181.0, \"new_confirmed_cases_seven_day_total\": 62975.0, \"deaths\": 13306.0, \"deaths_per_100k\": 58.18217816829421, \"new_deaths\": 69.0, \"new_deaths_seven_day_total\": 366.0, \"new_confirmed_cases_seven_day_average\": 8996.42857142857, \"new_deaths_seven_day_average\": 52.285714285714285, \"population\": 22869546, \"new_confirmed_cases_per_100k\": 44.51771801678967, \"new_deaths_per_100k\": 0.3017112801452202, \"new_confirmed_cases_seven_day_per_100k\": 275.3662009731195, \"new_deaths_seven_day_per_100k\": 1.6003815729442117, \"new_confirmed_cases_seven_day_average_per_100k\": 39.338028710445634, \"new_deaths_seven_day_average_per_100k\": 0.2286259389920302, \"new_confirmed_cases_seven_day_average_per_100k_percent_change\": 1.1675902660654662, \"new_deaths_seven_day_average_per_100k_percent_change\": 0.8208955223880596}, {\"date\": \"2020-11-25\", \"region\": \"Southern California\", \"confirmed_cases\": 749308.0, \"confirmed_cases_per_100k\": 3276.44457830514, \"new_confirmed_cases\": 8266.0, \"new_confirmed_cases_seven_day_total\": 62707.0, \"deaths\": 13373.0, \"deaths_per_100k\": 58.47514419394246, \"new_deaths\": 67.0, \"new_deaths_seven_day_total\": 351.0, \"new_confirmed_cases_seven_day_average\": 8958.142857142857, \"new_deaths_seven_day_average\": 50.142857142857146, \"population\": 22869546, \"new_confirmed_cases_per_100k\": 36.14413683594768, \"new_deaths_per_100k\": 0.2929660256482573, \"new_confirmed_cases_seven_day_per_100k\": 274.19433687052646, \"new_deaths_seven_day_per_100k\": 1.5347921642169895, \"new_confirmed_cases_seven_day_average_per_100k\": 39.17061955293234, \"new_deaths_seven_day_average_per_100k\": 0.2192560234595699, \"new_confirmed_cases_seven_day_average_per_100k_percent_change\": 1.203880082943802, \"new_deaths_seven_day_average_per_100k_percent_change\": 1.0289017341040465}, {\"date\": \"2020-11-26\", \"region\": \"Southern California\", \"confirmed_cases\": 754225.0, \"confirmed_cases_per_100k\": 3297.9447864859235, \"new_confirmed_cases\": 4917.0, \"new_confirmed_cases_seven_day_total\": 58289.0, \"deaths\": 13410.0, \"deaths_per_100k\": 58.63693140213627, \"new_deaths\": 37.0, \"new_deaths_seven_day_total\": 322.0, \"new_confirmed_cases_seven_day_average\": 8327.0, \"new_deaths_seven_day_average\": 46.0, \"population\": 22869546, \"new_confirmed_cases_per_100k\": 21.5002081807833, \"new_deaths_per_100k\": 0.1617872081938137, \"new_confirmed_cases_seven_day_per_100k\": 254.87606968673532, \"new_deaths_seven_day_per_100k\": 1.4079859740110277, \"new_confirmed_cases_seven_day_average_per_100k\": 36.41086709810505, \"new_deaths_seven_day_average_per_100k\": 0.2011408534301468, \"new_confirmed_cases_seven_day_average_per_100k_percent_change\": 0.8858261347827494, \"new_deaths_seven_day_average_per_100k_percent_change\": 1.0641025641025643}, {\"date\": \"2020-11-27\", \"region\": \"Southern California\", \"confirmed_cases\": 765980.0, \"confirmed_cases_per_100k\": 3349.3450197918223, \"new_confirmed_cases\": 11755.0, \"new_confirmed_cases_seven_day_total\": 61492.0, \"deaths\": 13464.0, \"deaths_per_100k\": 58.87305327355427, \"new_deaths\": 54.0, \"new_deaths_seven_day_total\": 328.0, \"new_confirmed_cases_seven_day_average\": 8784.57142857143, \"new_deaths_seven_day_average\": 46.85714285714285, \"population\": 22869546, \"new_confirmed_cases_per_100k\": 51.40023330589947, \"new_deaths_per_100k\": 0.2361218714179984, \"new_confirmed_cases_seven_day_per_100k\": 268.8815947636215, \"new_deaths_seven_day_per_100k\": 1.4342217375019164, \"new_confirmed_cases_seven_day_average_per_100k\": 38.41165639480307, \"new_deaths_seven_day_average_per_100k\": 0.2048888196431308, \"new_confirmed_cases_seven_day_average_per_100k_percent_change\": 0.8819280795715376, \"new_deaths_seven_day_average_per_100k_percent_change\": 0.91812865497076}, {\"date\": \"2020-11-28\", \"region\": \"Southern California\", \"confirmed_cases\": 774881.0, \"confirmed_cases_per_100k\": 3388.265774930556, \"new_confirmed_cases\": 8901.0, \"new_confirmed_cases_seven_day_total\": 60849.0, \"deaths\": 13484.0, \"deaths_per_100k\": 58.96050581852391, \"new_deaths\": 20.0, \"new_deaths_seven_day_total\": 297.0, \"new_confirmed_cases_seven_day_average\": 8692.714285714286, \"new_deaths_seven_day_average\": 42.42857142857143, \"population\": 22869546, \"new_confirmed_cases_per_100k\": 38.920755138733405, \"new_deaths_per_100k\": 0.087452544969629, \"new_confirmed_cases_seven_day_per_100k\": 266.06999544284787, \"new_deaths_seven_day_per_100k\": 1.2986702927989913, \"new_confirmed_cases_seven_day_average_per_100k\": 38.00999934897827, \"new_deaths_seven_day_average_per_100k\": 0.185524327542713, \"new_confirmed_cases_seven_day_average_per_100k_percent_change\": 0.7463766036219615, \"new_deaths_seven_day_average_per_100k_percent_change\": 0.6318681318681318}, {\"date\": \"2020-11-29\", \"region\": \"Southern California\", \"confirmed_cases\": 782515.0, \"confirmed_cases_per_100k\": 3421.6464113454635, \"new_confirmed_cases\": 7634.0, \"new_confirmed_cases_seven_day_total\": 64103.0, \"deaths\": 13500.0, \"deaths_per_100k\": 59.030467854499605, \"new_deaths\": 16.0, \"new_deaths_seven_day_total\": 297.0, \"new_confirmed_cases_seven_day_average\": 9157.57142857143, \"new_deaths_seven_day_average\": 42.42857142857143, \"population\": 22869546, \"new_confirmed_cases_per_100k\": 33.38063641490741, \"new_deaths_per_100k\": 0.0699620359757032, \"new_confirmed_cases_seven_day_per_100k\": 280.29852450940655, \"new_deaths_seven_day_per_100k\": 1.2986702927989913, \"new_confirmed_cases_seven_day_average_per_100k\": 40.04264635848665, \"new_deaths_seven_day_average_per_100k\": 0.185524327542713, \"new_confirmed_cases_seven_day_average_per_100k_percent_change\": 0.7772818010424756, \"new_deaths_seven_day_average_per_100k_percent_change\": 0.6685393258426968}, {\"date\": \"2020-11-30\", \"region\": \"Southern California\", \"confirmed_cases\": 795231.0, \"confirmed_cases_per_100k\": 3477.248739437154, \"new_confirmed_cases\": 12716.0, \"new_confirmed_cases_seven_day_total\": 64370.0, \"deaths\": 13533.0, \"deaths_per_100k\": 59.1747645536995, \"new_deaths\": 33.0, \"new_deaths_seven_day_total\": 296.0, \"new_confirmed_cases_seven_day_average\": 9195.714285714286, \"new_deaths_seven_day_average\": 42.285714285714285, \"population\": 22869546, \"new_confirmed_cases_per_100k\": 55.60232809169015, \"new_deaths_per_100k\": 0.1442966991998879, \"new_confirmed_cases_seven_day_per_100k\": 281.4660159847511, \"new_deaths_seven_day_per_100k\": 1.2942976655505098, \"new_confirmed_cases_seven_day_average_per_100k\": 40.20943085496444, \"new_deaths_seven_day_average_per_100k\": 0.1848996665072157, \"new_confirmed_cases_seven_day_average_per_100k_percent_change\": 0.6234552332912986, \"new_deaths_seven_day_average_per_100k_percent_change\": 0.5828877005347595}, {\"date\": \"2020-12-01\", \"region\": \"Southern California\", \"confirmed_cases\": 806099.0, \"confirmed_cases_per_100k\": 3524.77045237365, \"new_confirmed_cases\": 10868.0, \"new_confirmed_cases_seven_day_total\": 65057.0, \"deaths\": 13605.0, \"deaths_per_100k\": 59.48959371559016, \"new_deaths\": 72.0, \"new_deaths_seven_day_total\": 299.0, \"new_confirmed_cases_seven_day_average\": 9293.857142857143, \"new_deaths_seven_day_average\": 42.71428571428572, \"population\": 22869546, \"new_confirmed_cases_per_100k\": 47.52171293649642, \"new_deaths_per_100k\": 0.3148291618906645, \"new_confirmed_cases_seven_day_per_100k\": 284.47001090445787, \"new_deaths_seven_day_per_100k\": 1.307415547295954, \"new_confirmed_cases_seven_day_average_per_100k\": 40.63857298635112, \"new_deaths_seven_day_average_per_100k\": 0.1867736496137077, \"new_confirmed_cases_seven_day_average_per_100k_percent_change\": 0.6072584430664327, \"new_deaths_seven_day_average_per_100k_percent_change\": 0.7588235294117649}, {\"date\": \"2020-12-02\", \"region\": \"Southern California\", \"confirmed_cases\": 818693.0, \"confirmed_cases_per_100k\": 3579.8393199410257, \"new_confirmed_cases\": 12594.0, \"new_confirmed_cases_seven_day_total\": 69385.0, \"deaths\": 13672.0, \"deaths_per_100k\": 59.782559741238416, \"new_deaths\": 67.0, \"new_deaths_seven_day_total\": 299.0, \"new_confirmed_cases_seven_day_average\": 9912.142857142857, \"new_deaths_seven_day_average\": 42.71428571428572, \"population\": 22869546, \"new_confirmed_cases_per_100k\": 55.068867567375406, \"new_deaths_per_100k\": 0.2929660256482573, \"new_confirmed_cases_seven_day_per_100k\": 303.3947416358856, \"new_deaths_seven_day_per_100k\": 1.307415547295954, \"new_confirmed_cases_seven_day_average_per_100k\": 43.34210594798365, \"new_deaths_seven_day_average_per_100k\": 0.1867736496137077, \"new_confirmed_cases_seven_day_average_per_100k_percent_change\": 0.5108657782423132, \"new_deaths_seven_day_average_per_100k_percent_change\": 0.2777777777777777}, {\"date\": \"2020-12-03\", \"region\": \"Southern California\", \"confirmed_cases\": 833054.0, \"confirmed_cases_per_100k\": 3642.634619856468, \"new_confirmed_cases\": 14361.0, \"new_confirmed_cases_seven_day_total\": 78829.0, \"deaths\": 13764.0, \"deaths_per_100k\": 60.18484144809871, \"new_deaths\": 92.0, \"new_deaths_seven_day_total\": 354.0, \"new_confirmed_cases_seven_day_average\": 11261.285714285714, \"new_deaths_seven_day_average\": 50.57142857142857, \"population\": 22869546, \"new_confirmed_cases_per_100k\": 62.79529991544213, \"new_deaths_per_100k\": 0.4022817068602936, \"new_confirmed_cases_seven_day_per_100k\": 344.6898333705444, \"new_deaths_seven_day_per_100k\": 1.5479100459624342, \"new_confirmed_cases_seven_day_average_per_100k\": 49.24140476722063, \"new_deaths_seven_day_average_per_100k\": 0.221130006566062, \"new_confirmed_cases_seven_day_average_per_100k_percent_change\": 0.6204621140484314, \"new_deaths_seven_day_average_per_100k_percent_change\": 0.2553191489361703}, {\"date\": \"2020-12-04\", \"region\": \"Southern California\", \"confirmed_cases\": 848379.0, \"confirmed_cases_per_100k\": 3709.6451324394457, \"new_confirmed_cases\": 15325.0, \"new_confirmed_cases_seven_day_total\": 82399.0, \"deaths\": 13887.0, \"deaths_per_100k\": 60.72267459966193, \"new_deaths\": 123.0, \"new_deaths_seven_day_total\": 423.0, \"new_confirmed_cases_seven_day_average\": 11771.285714285714, \"new_deaths_seven_day_average\": 60.42857142857143, \"population\": 22869546, \"new_confirmed_cases_per_100k\": 67.01051258297825, \"new_deaths_per_100k\": 0.5378331515632186, \"new_confirmed_cases_seven_day_per_100k\": 360.3001126476232, \"new_deaths_seven_day_per_100k\": 1.8496213261076544, \"new_confirmed_cases_seven_day_average_per_100k\": 51.471444663946166, \"new_deaths_seven_day_average_per_100k\": 0.2642316180153792, \"new_confirmed_cases_seven_day_average_per_100k_percent_change\": 0.6075344336493818, \"new_deaths_seven_day_average_per_100k_percent_change\": 0.5053380782918149}, {\"date\": \"2020-12-05\", \"region\": \"Southern California\", \"confirmed_cases\": 865049.0, \"confirmed_cases_per_100k\": 3782.536828671632, \"new_confirmed_cases\": 16670.0, \"new_confirmed_cases_seven_day_total\": 90168.0, \"deaths\": 13953.0, \"deaths_per_100k\": 61.011267998061705, \"new_deaths\": 66.0, \"new_deaths_seven_day_total\": 469.0, \"new_confirmed_cases_seven_day_average\": 12881.142857142857, \"new_deaths_seven_day_average\": 67.0, \"population\": 22869546, \"new_confirmed_cases_per_100k\": 72.89169623218581, \"new_deaths_per_100k\": 0.2885933983997759, \"new_confirmed_cases_seven_day_per_100k\": 394.2710537410756, \"new_deaths_seven_day_per_100k\": 2.050762179537801, \"new_confirmed_cases_seven_day_average_per_100k\": 56.32443624872508, \"new_deaths_seven_day_average_per_100k\": 0.2929660256482573, \"new_confirmed_cases_seven_day_average_per_100k_percent_change\": 0.6415073730202074, \"new_deaths_seven_day_average_per_100k_percent_change\": 0.5427631578947367}, {\"date\": \"2020-12-06\", \"region\": \"Southern California\", \"confirmed_cases\": 881569.0, \"confirmed_cases_per_100k\": 3854.7726308165456, \"new_confirmed_cases\": 16520.0, \"new_confirmed_cases_seven_day_total\": 99054.0, \"deaths\": 13998.0, \"deaths_per_100k\": 61.208036224243365, \"new_deaths\": 45.0, \"new_deaths_seven_day_total\": 498.0, \"new_confirmed_cases_seven_day_average\": 14150.57142857143, \"new_deaths_seven_day_average\": 71.14285714285714, \"population\": 22869546, \"new_confirmed_cases_per_100k\": 72.23580214491359, \"new_deaths_per_100k\": 0.1967682261816653, \"new_confirmed_cases_seven_day_per_100k\": 433.12621947108175, \"new_deaths_seven_day_per_100k\": 2.177568369743763, \"new_confirmed_cases_seven_day_average_per_100k\": 61.87517421015454, \"new_deaths_seven_day_average_per_100k\": 0.3110811956776804, \"new_confirmed_cases_seven_day_average_per_100k_percent_change\": 0.8198419988976671, \"new_deaths_seven_day_average_per_100k_percent_change\": 0.5759493670886076}, {\"date\": \"2020-12-07\", \"region\": \"Southern California\", \"confirmed_cases\": 901942.0, \"confirmed_cases_per_100k\": 3943.856165749858, \"new_confirmed_cases\": 20373.0, \"new_confirmed_cases_seven_day_total\": 106711.0, \"deaths\": 14055.0, \"deaths_per_100k\": 61.45727597740681, \"new_deaths\": 57.0, \"new_deaths_seven_day_total\": 522.0, \"new_confirmed_cases_seven_day_average\": 15244.42857142857, \"new_deaths_seven_day_average\": 74.57142857142857, \"population\": 22869546, \"new_confirmed_cases_per_100k\": 89.08353493331262, \"new_deaths_per_100k\": 0.2492397531634427, \"new_confirmed_cases_seven_day_per_100k\": 466.60742631270426, \"new_deaths_seven_day_per_100k\": 2.282511423707318, \"new_confirmed_cases_seven_day_average_per_100k\": 66.65820375895775, \"new_deaths_seven_day_average_per_100k\": 0.3260730605296168, \"new_confirmed_cases_seven_day_average_per_100k_percent_change\": 0.8022766809099973, \"new_deaths_seven_day_average_per_100k_percent_change\": 0.5866261398176291}, {\"date\": \"2020-12-08\", \"region\": \"Southern California\", \"confirmed_cases\": 926634.0, \"confirmed_cases_per_100k\": 4051.8250777693615, \"new_confirmed_cases\": 24692.0, \"new_confirmed_cases_seven_day_total\": 120535.0, \"deaths\": 14202.0, \"deaths_per_100k\": 62.10005218293358, \"new_deaths\": 147.0, \"new_deaths_seven_day_total\": 597.0, \"new_confirmed_cases_seven_day_average\": 17219.285714285714, \"new_deaths_seven_day_average\": 85.28571428571429, \"population\": 22869546, \"new_confirmed_cases_per_100k\": 107.96891201950402, \"new_deaths_per_100k\": 0.6427762055267735, \"new_confirmed_cases_seven_day_per_100k\": 527.0546253957118, \"new_deaths_seven_day_per_100k\": 2.610458467343427, \"new_confirmed_cases_seven_day_average_per_100k\": 75.29351791367311, \"new_deaths_seven_day_average_per_100k\": 0.3729226381919182, \"new_confirmed_cases_seven_day_average_per_100k_percent_change\": 0.9140134974196108, \"new_deaths_seven_day_average_per_100k_percent_change\": 0.6311475409836067}, {\"date\": \"2020-12-09\", \"region\": \"Southern California\", \"confirmed_cases\": 947391.0, \"confirmed_cases_per_100k\": 4142.587701566092, \"new_confirmed_cases\": 20757.0, \"new_confirmed_cases_seven_day_total\": 128698.0, \"deaths\": 14327.0, \"deaths_per_100k\": 62.64663058899376, \"new_deaths\": 125.0, \"new_deaths_seven_day_total\": 655.0, \"new_confirmed_cases_seven_day_average\": 18385.42857142857, \"new_deaths_seven_day_average\": 93.57142857142856, \"population\": 22869546, \"new_confirmed_cases_per_100k\": 90.7626237967295, \"new_deaths_per_100k\": 0.5465784060601815, \"new_confirmed_cases_seven_day_per_100k\": 562.7483816250659, \"new_deaths_seven_day_per_100k\": 2.864070847755351, \"new_confirmed_cases_seven_day_average_per_100k\": 80.39262594643799, \"new_deaths_seven_day_average_per_100k\": 0.4091529782507644, \"new_confirmed_cases_seven_day_average_per_100k_percent_change\": 1.0523705487425643, \"new_deaths_seven_day_average_per_100k_percent_change\": 0.866096866096866}, {\"date\": \"2020-12-10\", \"region\": \"Southern California\", \"confirmed_cases\": 972393.0, \"confirmed_cases_per_100k\": 4251.912128032624, \"new_confirmed_cases\": 25002.0, \"new_confirmed_cases_seven_day_total\": 139339.0, \"deaths\": 14438.0, \"deaths_per_100k\": 63.13199221357521, \"new_deaths\": 111.0, \"new_deaths_seven_day_total\": 674.0, \"new_confirmed_cases_seven_day_average\": 19905.571428571428, \"new_deaths_seven_day_average\": 96.28571428571428, \"population\": 22869546, \"new_confirmed_cases_per_100k\": 109.32442646653324, \"new_deaths_per_100k\": 0.4853616245814412, \"new_confirmed_cases_seven_day_per_100k\": 609.2775081761571, \"new_deaths_seven_day_per_100k\": 2.947150765476499, \"new_confirmed_cases_seven_day_average_per_100k\": 87.03964402516529, \"new_deaths_seven_day_average_per_100k\": 0.4210215379252141, \"new_confirmed_cases_seven_day_average_per_100k_percent_change\": 1.3904853402871895, \"new_deaths_seven_day_average_per_100k_percent_change\": 1.093167701863354}, {\"date\": \"2020-12-11\", \"region\": \"Southern California\", \"confirmed_cases\": 997725.0, \"confirmed_cases_per_100k\": 4362.679521491157, \"new_confirmed_cases\": 25332.0, \"new_confirmed_cases_seven_day_total\": 149346.0, \"deaths\": 14560.0, \"deaths_per_100k\": 63.66545273788994, \"new_deaths\": 122.0, \"new_deaths_seven_day_total\": 673.0, \"new_confirmed_cases_seven_day_average\": 21335.14285714286, \"new_deaths_seven_day_average\": 96.14285714285714, \"population\": 22869546, \"new_confirmed_cases_per_100k\": 110.76739345853214, \"new_deaths_per_100k\": 0.5334605243147371, \"new_confirmed_cases_seven_day_per_100k\": 653.034389051711, \"new_deaths_seven_day_per_100k\": 2.942778138228017, \"new_confirmed_cases_seven_day_average_per_100k\": 93.29062700738729, \"new_deaths_seven_day_average_per_100k\": 0.4203968768897167, \"new_confirmed_cases_seven_day_average_per_100k_percent_change\": 1.4287061731607364, \"new_deaths_seven_day_average_per_100k_percent_change\": 1.0518292682926829}, {\"date\": \"2020-12-12\", \"region\": \"Southern California\", \"confirmed_cases\": 1019007.0, \"confirmed_cases_per_100k\": 4455.737774593339, \"new_confirmed_cases\": 21282.0, \"new_confirmed_cases_seven_day_total\": 153958.0, \"deaths\": 14669.0, \"deaths_per_100k\": 64.14206910797442, \"new_deaths\": 109.0, \"new_deaths_seven_day_total\": 716.0, \"new_confirmed_cases_seven_day_average\": 21994.0, \"new_deaths_seven_day_average\": 102.28571428571428, \"population\": 22869546, \"new_confirmed_cases_per_100k\": 93.05825310218226, \"new_deaths_per_100k\": 0.4766163700844782, \"new_confirmed_cases_seven_day_per_100k\": 673.2009459217073, \"new_deaths_seven_day_per_100k\": 3.13080110991272, \"new_confirmed_cases_seven_day_average_per_100k\": 96.17156370310106, \"new_deaths_seven_day_average_per_100k\": 0.4472573014161028, \"new_confirmed_cases_seven_day_average_per_100k_percent_change\": 1.5301648342618617, \"new_deaths_seven_day_average_per_100k_percent_change\": 1.410774410774411}, {\"date\": \"2020-12-13\", \"region\": \"Southern California\", \"confirmed_cases\": 1039441.0, \"confirmed_cases_per_100k\": 4545.088039788809, \"new_confirmed_cases\": 20434.0, \"new_confirmed_cases_seven_day_total\": 157872.0, \"deaths\": 14727.0, \"deaths_per_100k\": 64.39568148838634, \"new_deaths\": 58.0, \"new_deaths_seven_day_total\": 729.0, \"new_confirmed_cases_seven_day_average\": 22553.14285714286, \"new_deaths_seven_day_average\": 104.14285714285714, \"population\": 22869546, \"new_confirmed_cases_per_100k\": 89.35026519547, \"new_deaths_per_100k\": 0.2536123804119242, \"new_confirmed_cases_seven_day_per_100k\": 690.3154089722638, \"new_deaths_seven_day_per_100k\": 3.187645264142979, \"new_confirmed_cases_seven_day_average_per_100k\": 98.61648699603772, \"new_deaths_seven_day_average_per_100k\": 0.4553778948775683, \"new_confirmed_cases_seven_day_average_per_100k_percent_change\": 1.4627864530521195, \"new_deaths_seven_day_average_per_100k_percent_change\": 1.454545454545454}, {\"date\": \"2020-12-14\", \"region\": \"Southern California\", \"confirmed_cases\": 1064682.0, \"confirmed_cases_per_100k\": 4655.457524167729, \"new_confirmed_cases\": 25241.0, \"new_confirmed_cases_seven_day_total\": 162740.0, \"deaths\": 14810.0, \"deaths_per_100k\": 64.7586095500103, \"new_deaths\": 83.0, \"new_deaths_seven_day_total\": 755.0, \"new_confirmed_cases_seven_day_average\": 23248.571428571428, \"new_deaths_seven_day_average\": 107.85714285714286, \"population\": 22869546, \"new_confirmed_cases_per_100k\": 110.36948437892032, \"new_deaths_per_100k\": 0.3629280616239605, \"new_confirmed_cases_seven_day_per_100k\": 711.6013584178716, \"new_deaths_seven_day_per_100k\": 3.301333572603496, \"new_confirmed_cases_seven_day_average_per_100k\": 101.6573369168388, \"new_deaths_seven_day_average_per_100k\": 0.4716190818004995, \"new_confirmed_cases_seven_day_average_per_100k_percent_change\": 1.5281963647661954, \"new_deaths_seven_day_average_per_100k_percent_change\": 1.5506756756756754}, {\"date\": \"2020-12-15\", \"region\": \"Southern California\", \"confirmed_cases\": 1084190.0, \"confirmed_cases_per_100k\": 4740.758736531106, \"new_confirmed_cases\": 19508.0, \"new_confirmed_cases_seven_day_total\": 157556.0, \"deaths\": 14992.0, \"deaths_per_100k\": 65.55442770923393, \"new_deaths\": 182.0, \"new_deaths_seven_day_total\": 790.0, \"new_confirmed_cases_seven_day_average\": 22508.0, \"new_deaths_seven_day_average\": 112.85714285714286, \"population\": 22869546, \"new_confirmed_cases_per_100k\": 85.30121236337617, \"new_deaths_per_100k\": 0.7958181592236242, \"new_confirmed_cases_seven_day_per_100k\": 688.9336587617437, \"new_deaths_seven_day_per_100k\": 3.454375526300347, \"new_confirmed_cases_seven_day_average_per_100k\": 98.41909410882052, \"new_deaths_seven_day_average_per_100k\": 0.4934822180429067, \"new_confirmed_cases_seven_day_average_per_100k_percent_change\": 1.4218147163256831, \"new_deaths_seven_day_average_per_100k_percent_change\": 1.6421404682274248}, {\"date\": \"2020-12-16\", \"region\": \"Southern California\", \"confirmed_cases\": 1123252.0, \"confirmed_cases_per_100k\": 4911.562302111288, \"new_confirmed_cases\": 39062.0, \"new_confirmed_cases_seven_day_total\": 175861.0, \"deaths\": 15290.0, \"deaths_per_100k\": 66.85747062928141, \"new_deaths\": 298.0, \"new_deaths_seven_day_total\": 963.0, \"new_confirmed_cases_seven_day_average\": 25123.0, \"new_deaths_seven_day_average\": 137.57142857142858, \"population\": 22869546, \"new_confirmed_cases_per_100k\": 170.8035655801825, \"new_deaths_per_100k\": 1.303042920047473, \"new_confirmed_cases_seven_day_per_100k\": 768.9746005451967, \"new_deaths_seven_day_per_100k\": 4.210840040287638, \"new_confirmed_cases_seven_day_average_per_100k\": 109.85351436359952, \"new_deaths_seven_day_average_per_100k\": 0.6015485771839484, \"new_confirmed_cases_seven_day_average_per_100k_percent_change\": 1.5345679901996108, \"new_deaths_seven_day_average_per_100k_percent_change\": 2.2207357859531776}, {\"date\": \"2020-12-17\", \"region\": \"Southern California\", \"confirmed_cases\": 1161748.0, \"confirmed_cases_per_100k\": 5079.89096066883, \"new_confirmed_cases\": 38496.0, \"new_confirmed_cases_seven_day_total\": 189355.0, \"deaths\": 15496.0, \"deaths_per_100k\": 67.75823184246859, \"new_deaths\": 206.0, \"new_deaths_seven_day_total\": 1058.0, \"new_confirmed_cases_seven_day_average\": 27050.714285714286, \"new_deaths_seven_day_average\": 151.14285714285714, \"population\": 22869546, \"new_confirmed_cases_per_100k\": 168.32865855754198, \"new_deaths_per_100k\": 0.900761213187179, \"new_confirmed_cases_seven_day_per_100k\": 827.9788326362053, \"new_deaths_seven_day_per_100k\": 4.6262396288933765, \"new_confirmed_cases_seven_day_average_per_100k\": 118.28269037660075, \"new_deaths_seven_day_average_per_100k\": 0.6608913755561966, \"new_confirmed_cases_seven_day_average_per_100k_percent_change\": 1.4020982125867385, \"new_deaths_seven_day_average_per_100k_percent_change\": 1.9887005649717515}, {\"date\": \"2020-12-18\", \"region\": \"Southern California\", \"confirmed_cases\": 1200030.0, \"confirmed_cases_per_100k\": 5247.283876995197, \"new_confirmed_cases\": 38282.0, \"new_confirmed_cases_seven_day_total\": 202305.0, \"deaths\": 15644.0, \"deaths_per_100k\": 68.40538067524383, \"new_deaths\": 148.0, \"new_deaths_seven_day_total\": 1084.0, \"new_confirmed_cases_seven_day_average\": 28900.714285714286, \"new_deaths_seven_day_average\": 154.85714285714286, \"population\": 22869546, \"new_confirmed_cases_per_100k\": 167.39291632636696, \"new_deaths_per_100k\": 0.6471488327752549, \"new_confirmed_cases_seven_day_per_100k\": 884.6043555040402, \"new_deaths_seven_day_per_100k\": 4.739927937353894, \"new_confirmed_cases_seven_day_average_per_100k\": 126.37205078629144, \"new_deaths_seven_day_average_per_100k\": 0.6771325624791278, \"new_confirmed_cases_seven_day_average_per_100k_percent_change\": 1.455187562955861, \"new_deaths_seven_day_average_per_100k_percent_change\": 1.562647754137116}, {\"date\": \"2020-12-19\", \"region\": \"Southern California\", \"confirmed_cases\": 1226062.0, \"confirmed_cases_per_100k\": 5361.112109527666, \"new_confirmed_cases\": 26032.0, \"new_confirmed_cases_seven_day_total\": 207055.0, \"deaths\": 15765.0, \"deaths_per_100k\": 68.9344685723101, \"new_deaths\": 121.0, \"new_deaths_seven_day_total\": 1096.0, \"new_confirmed_cases_seven_day_average\": 29579.285714285717, \"new_deaths_seven_day_average\": 156.57142857142858, \"population\": 22869546, \"new_confirmed_cases_per_100k\": 113.82823253246916, \"new_deaths_per_100k\": 0.5290878970662557, \"new_confirmed_cases_seven_day_per_100k\": 905.3743349343272, \"new_deaths_seven_day_per_100k\": 4.792399464335672, \"new_confirmed_cases_seven_day_average_per_100k\": 129.33919070490387, \"new_deaths_seven_day_average_per_100k\": 0.6846284949050959, \"new_confirmed_cases_seven_day_average_per_100k_percent_change\": 1.2963246384526663, \"new_deaths_seven_day_average_per_100k_percent_change\": 1.3368869936034111}, {\"date\": \"2020-12-20\", \"region\": \"Southern California\", \"confirmed_cases\": 1247393.0, \"confirmed_cases_per_100k\": 5454.384621365024, \"new_confirmed_cases\": 21331.0, \"new_confirmed_cases_seven_day_total\": 207952.0, \"deaths\": 15833.0, \"deaths_per_100k\": 69.23180722520684, \"new_deaths\": 68.0, \"new_deaths_seven_day_total\": 1106.0, \"new_confirmed_cases_seven_day_average\": 29707.42857142857, \"new_deaths_seven_day_average\": 158.0, \"population\": 22869546, \"new_confirmed_cases_per_100k\": 93.27251183735784, \"new_deaths_per_100k\": 0.2973386528967387, \"new_confirmed_cases_seven_day_per_100k\": 909.2965815762147, \"new_deaths_seven_day_per_100k\": 4.8361257368204855, \"new_confirmed_cases_seven_day_average_per_100k\": 129.89951165374498, \"new_deaths_seven_day_average_per_100k\": 0.6908751052600695, \"new_confirmed_cases_seven_day_average_per_100k_percent_change\": 1.0993801360873865, \"new_deaths_seven_day_average_per_100k_percent_change\": 1.2208835341365465}, {\"date\": \"2020-12-21\", \"region\": \"Southern California\", \"confirmed_cases\": 1285697.0, \"confirmed_cases_per_100k\": 5621.873735490857, \"new_confirmed_cases\": 38304.0, \"new_confirmed_cases_seven_day_total\": 221015.0, \"deaths\": 15959.0, \"deaths_per_100k\": 69.7827582585155, \"new_deaths\": 126.0, \"new_deaths_seven_day_total\": 1149.0, \"new_confirmed_cases_seven_day_average\": 31573.571428571428, \"new_deaths_seven_day_average\": 164.14285714285714, \"population\": 22869546, \"new_confirmed_cases_per_100k\": 167.48911412583354, \"new_deaths_per_100k\": 0.550951033308663, \"new_confirmed_cases_seven_day_per_100k\": 966.416211323128, \"new_deaths_seven_day_per_100k\": 5.024148708505189, \"new_confirmed_cases_seven_day_average_per_100k\": 138.0594587604469, \"new_deaths_seven_day_average_per_100k\": 0.7177355297864555, \"new_confirmed_cases_seven_day_average_per_100k_percent_change\": 1.0711548012857155, \"new_deaths_seven_day_average_per_100k_percent_change\": 1.2011494252873565}, {\"date\": \"2020-12-22\", \"region\": \"Southern California\", \"confirmed_cases\": 1309229.0, \"confirmed_cases_per_100k\": 5724.770399902123, \"new_confirmed_cases\": 23532.0, \"new_confirmed_cases_seven_day_total\": 225039.0, \"deaths\": 16152.0, \"deaths_per_100k\": 70.62667531747242, \"new_deaths\": 193.0, \"new_deaths_seven_day_total\": 1160.0, \"new_confirmed_cases_seven_day_average\": 32148.42857142857, \"new_deaths_seven_day_average\": 165.71428571428572, \"population\": 22869546, \"new_confirmed_cases_per_100k\": 102.89666441126552, \"new_deaths_per_100k\": 0.8439170589569203, \"new_confirmed_cases_seven_day_per_100k\": 984.0116633710176, \"new_deaths_seven_day_per_100k\": 5.072247608238484, \"new_confirmed_cases_seven_day_average_per_100k\": 140.5730947672882, \"new_deaths_seven_day_average_per_100k\": 0.7246068011769263, \"new_confirmed_cases_seven_day_average_per_100k_percent_change\": 0.8670012859335463, \"new_deaths_seven_day_average_per_100k_percent_change\": 0.943048576214405}, {\"date\": \"2020-12-23\", \"region\": \"Southern California\", \"confirmed_cases\": 1342323.0, \"confirmed_cases_per_100k\": 5869.478126063368, \"new_confirmed_cases\": 33094.0, \"new_confirmed_cases_seven_day_total\": 219071.0, \"deaths\": 16375.0, \"deaths_per_100k\": 71.60177119388378, \"new_deaths\": 223.0, \"new_deaths_seven_day_total\": 1085.0, \"new_confirmed_cases_seven_day_average\": 31295.85714285714, \"new_deaths_seven_day_average\": 155.0, \"population\": 22869546, \"new_confirmed_cases_per_100k\": 144.70772616124518, \"new_deaths_per_100k\": 0.975095876411364, \"new_confirmed_cases_seven_day_per_100k\": 957.91582395208, \"new_deaths_seven_day_per_100k\": 4.744300564602376, \"new_confirmed_cases_seven_day_average_per_100k\": 136.84511770744, \"new_deaths_seven_day_average_per_100k\": 0.6777572235146251, \"new_confirmed_cases_seven_day_average_per_100k_percent_change\": 0.702209824550498, \"new_deaths_seven_day_average_per_100k_percent_change\": 0.6564885496183208}, {\"date\": \"2020-12-24\", \"region\": \"Southern California\", \"confirmed_cases\": 1366659.0, \"confirmed_cases_per_100k\": 5975.890382782413, \"new_confirmed_cases\": 24336.0, \"new_confirmed_cases_seven_day_total\": 204911.0, \"deaths\": 16599.0, \"deaths_per_100k\": 72.58123969754362, \"new_deaths\": 224.0, \"new_deaths_seven_day_total\": 1103.0, \"new_confirmed_cases_seven_day_average\": 29273.0, \"new_deaths_seven_day_average\": 157.57142857142858, \"population\": 22869546, \"new_confirmed_cases_per_100k\": 106.4122567190446, \"new_deaths_per_100k\": 0.9794685036598452, \"new_confirmed_cases_seven_day_per_100k\": 895.9994221135829, \"new_deaths_seven_day_per_100k\": 4.8230078550750415, \"new_confirmed_cases_seven_day_average_per_100k\": 127.99991744479756, \"new_deaths_seven_day_average_per_100k\": 0.6890011221535774, \"new_confirmed_cases_seven_day_average_per_100k_percent_change\": 0.4705933012293761, \"new_deaths_seven_day_average_per_100k_percent_change\": 0.6364985163204748}, {\"date\": \"2020-12-25\", \"region\": \"Southern California\", \"confirmed_cases\": 1369714.0, \"confirmed_cases_per_100k\": 5989.248759026524, \"new_confirmed_cases\": 3055.0, \"new_confirmed_cases_seven_day_total\": 169684.0, \"deaths\": 16619.0, \"deaths_per_100k\": 72.66869224251325, \"new_deaths\": 20.0, \"new_deaths_seven_day_total\": 975.0, \"new_confirmed_cases_seven_day_average\": 24240.571428571428, \"new_deaths_seven_day_average\": 139.28571428571428, \"population\": 22869546, \"new_confirmed_cases_per_100k\": 13.358376244110838, \"new_deaths_per_100k\": 0.087452544969629, \"new_confirmed_cases_seven_day_per_100k\": 741.9648820313267, \"new_deaths_seven_day_per_100k\": 4.263311567269415, \"new_confirmed_cases_seven_day_average_per_100k\": 105.9949831473324, \"new_deaths_seven_day_average_per_100k\": 0.6090445096099165, \"new_confirmed_cases_seven_day_average_per_100k_percent_change\": 0.1361804132685173, \"new_deaths_seven_day_average_per_100k_percent_change\": 0.4487369985141158}, {\"date\": \"2020-12-26\", \"region\": \"Southern California\", \"confirmed_cases\": 1412591.0, \"confirmed_cases_per_100k\": 6176.733897559663, \"new_confirmed_cases\": 42877.0, \"new_confirmed_cases_seven_day_total\": 186529.0, \"deaths\": 16829.0, \"deaths_per_100k\": 73.58694396469436, \"new_deaths\": 210.0, \"new_deaths_seven_day_total\": 1064.0, \"new_confirmed_cases_seven_day_average\": 26647.0, \"new_deaths_seven_day_average\": 152.0, \"population\": 22869546, \"new_confirmed_cases_per_100k\": 187.48513853313924, \"new_deaths_per_100k\": 0.918251722181105, \"new_confirmed_cases_seven_day_per_100k\": 815.6217880319969, \"new_deaths_seven_day_per_100k\": 4.652475392384265, \"new_confirmed_cases_seven_day_average_per_100k\": 116.51739829028524, \"new_deaths_seven_day_average_per_100k\": 0.6646393417691807, \"new_confirmed_cases_seven_day_average_per_100k_percent_change\": 0.2115576975538782, \"new_deaths_seven_day_average_per_100k_percent_change\": 0.4860335195530725}, {\"date\": \"2020-12-27\", \"region\": \"Southern California\", \"confirmed_cases\": 1435443.0, \"confirmed_cases_per_100k\": 6276.657175441962, \"new_confirmed_cases\": 22852.0, \"new_confirmed_cases_seven_day_total\": 188050.0, \"deaths\": 16882.0, \"deaths_per_100k\": 73.81869320886388, \"new_deaths\": 53.0, \"new_deaths_seven_day_total\": 1049.0, \"new_confirmed_cases_seven_day_average\": 26864.285714285717, \"new_deaths_seven_day_average\": 149.85714285714286, \"population\": 22869546, \"new_confirmed_cases_per_100k\": 99.92327788229814, \"new_deaths_per_100k\": 0.2317492441695169, \"new_confirmed_cases_seven_day_per_100k\": 822.272554076937, \"new_deaths_seven_day_per_100k\": 4.586885983657044, \"new_confirmed_cases_seven_day_average_per_100k\": 117.46750772527672, \"new_deaths_seven_day_average_per_100k\": 0.6552694262367205, \"new_confirmed_cases_seven_day_average_per_100k_percent_change\": 0.1911548596331203, \"new_deaths_seven_day_average_per_100k_percent_change\": 0.4389574759945132}, {\"date\": \"2020-12-28\", \"region\": \"Southern California\", \"confirmed_cases\": 1477411.0, \"confirmed_cases_per_100k\": 6460.167595806231, \"new_confirmed_cases\": 41968.0, \"new_confirmed_cases_seven_day_total\": 191714.0, \"deaths\": 17018.0, \"deaths_per_100k\": 74.41337051465736, \"new_deaths\": 136.0, \"new_deaths_seven_day_total\": 1059.0, \"new_confirmed_cases_seven_day_average\": 27387.714285714286, \"new_deaths_seven_day_average\": 151.28571428571428, \"population\": 22869546, \"new_confirmed_cases_per_100k\": 183.5104203642696, \"new_deaths_per_100k\": 0.5946773057934774, \"new_confirmed_cases_seven_day_per_100k\": 838.2938603153731, \"new_deaths_seven_day_per_100k\": 4.630612256141858, \"new_confirmed_cases_seven_day_average_per_100k\": 119.75626575933902, \"new_deaths_seven_day_average_per_100k\": 0.6615160365916939, \"new_confirmed_cases_seven_day_average_per_100k_percent_change\": 0.1780385891606244, \"new_deaths_seven_day_average_per_100k_percent_change\": 0.4026490066225163}, {\"date\": \"2020-12-29\", \"region\": \"Southern California\", \"confirmed_cases\": 1503938.0, \"confirmed_cases_per_100k\": 6576.160278826698, \"new_confirmed_cases\": 26527.0, \"new_confirmed_cases_seven_day_total\": 194709.0, \"deaths\": 17389.0, \"deaths_per_100k\": 76.03561522384398, \"new_deaths\": 371.0, \"new_deaths_seven_day_total\": 1237.0, \"new_confirmed_cases_seven_day_average\": 27815.571428571428, \"new_deaths_seven_day_average\": 176.71428571428572, \"population\": 22869546, \"new_confirmed_cases_per_100k\": 115.9926830204675, \"new_deaths_per_100k\": 1.6222447091866186, \"new_confirmed_cases_seven_day_per_100k\": 851.3898789245751, \"new_deaths_seven_day_per_100k\": 5.408939906371556, \"new_confirmed_cases_seven_day_average_per_100k\": 121.62712556065358, \"new_deaths_seven_day_average_per_100k\": 0.7727057009102225, \"new_confirmed_cases_seven_day_average_per_100k_percent_change\": 0.2358082205691944, \"new_deaths_seven_day_average_per_100k_percent_change\": 0.5658227848101272}, {\"date\": \"2020-12-30\", \"region\": \"Southern California\", \"confirmed_cases\": 1528481.0, \"confirmed_cases_per_100k\": 6683.477669386179, \"new_confirmed_cases\": 24543.0, \"new_confirmed_cases_seven_day_total\": 186158.0, \"deaths\": 17744.0, \"deaths_per_100k\": 77.58789789705489, \"new_deaths\": 355.0, \"new_deaths_seven_day_total\": 1369.0, \"new_confirmed_cases_seven_day_average\": 26594.0, \"new_deaths_seven_day_average\": 195.57142857142856, \"population\": 22869546, \"new_confirmed_cases_per_100k\": 107.31739055948027, \"new_deaths_per_100k\": 1.5522826732109154, \"new_confirmed_cases_seven_day_per_100k\": 813.9995433228102, \"new_deaths_seven_day_per_100k\": 5.9861267031711085, \"new_confirmed_cases_seven_day_average_per_100k\": 116.28564904611576, \"new_deaths_seven_day_average_per_100k\": 0.8551609575958727, \"new_confirmed_cases_seven_day_average_per_100k_percent_change\": 0.0585519245313062, \"new_deaths_seven_day_average_per_100k_percent_change\": 0.4215991692627208}, {\"date\": \"2020-12-31\", \"region\": \"Southern California\", \"confirmed_cases\": 1550325.0, \"confirmed_cases_per_100k\": 6778.993339002007, \"new_confirmed_cases\": 21844.0, \"new_confirmed_cases_seven_day_total\": 183666.0, \"deaths\": 18147.0, \"deaths_per_100k\": 79.3500666781929, \"new_deaths\": 403.0, \"new_deaths_seven_day_total\": 1548.0, \"new_confirmed_cases_seven_day_average\": 26238.0, \"new_deaths_seven_day_average\": 221.14285714285717, \"population\": 22869546, \"new_confirmed_cases_per_100k\": 95.51566961582884, \"new_deaths_per_100k\": 1.762168781138025, \"new_confirmed_cases_seven_day_per_100k\": 803.1029562195945, \"new_deaths_seven_day_per_100k\": 6.768826980649288, \"new_confirmed_cases_seven_day_average_per_100k\": 114.72899374565634, \"new_deaths_seven_day_average_per_100k\": 0.9669752829498984, \"new_confirmed_cases_seven_day_average_per_100k_percent_change\": -0.0300440970663569, \"new_deaths_seven_day_average_per_100k_percent_change\": 0.4631379962192818}, {\"date\": \"2021-01-01\", \"region\": \"Southern California\", \"confirmed_cases\": 1573880.0, \"confirmed_cases_per_100k\": 6881.990573839988, \"new_confirmed_cases\": 23555.0, \"new_confirmed_cases_seven_day_total\": 204166.0, \"deaths\": 18398.0, \"deaths_per_100k\": 80.44759611756176, \"new_deaths\": 251.0, \"new_deaths_seven_day_total\": 1779.0, \"new_confirmed_cases_seven_day_average\": 29166.571428571428, \"new_deaths_seven_day_average\": 254.14285714285717, \"population\": 22869546, \"new_confirmed_cases_per_100k\": 102.9972348379806, \"new_deaths_per_100k\": 1.0975294393688446, \"new_confirmed_cases_seven_day_per_100k\": 892.7418148134641, \"new_deaths_seven_day_per_100k\": 7.778903875048504, \"new_confirmed_cases_seven_day_average_per_100k\": 127.534544973352, \"new_deaths_seven_day_average_per_100k\": 1.111271982149786, \"new_confirmed_cases_seven_day_average_per_100k_percent_change\": 0.0091989817354982, \"new_deaths_seven_day_average_per_100k_percent_change\": 0.641143911439114}, {\"date\": \"2021-01-02\", \"region\": \"Southern California\", \"confirmed_cases\": 1599316.0, \"confirmed_cases_per_100k\": 6993.212720532361, \"new_confirmed_cases\": 25436.0, \"new_confirmed_cases_seven_day_total\": 186725.0, \"deaths\": 18560.0, \"deaths_per_100k\": 81.15596173181575, \"new_deaths\": 162.0, \"new_deaths_seven_day_total\": 1731.0, \"new_confirmed_cases_seven_day_average\": 26675.0, \"new_deaths_seven_day_average\": 247.28571428571428, \"population\": 22869546, \"new_confirmed_cases_per_100k\": 111.2221466923742, \"new_deaths_per_100k\": 0.7083656142539952, \"new_confirmed_cases_seven_day_per_100k\": 816.4788229726992, \"new_deaths_seven_day_per_100k\": 7.569017767121394, \"new_confirmed_cases_seven_day_average_per_100k\": 116.63983185324274, \"new_deaths_seven_day_average_per_100k\": 1.081288252445913, \"new_confirmed_cases_seven_day_average_per_100k_percent_change\": -0.0981864721933786, \"new_deaths_seven_day_average_per_100k_percent_change\": 0.5793795620437956}, {\"date\": \"2021-01-03\", \"region\": \"Southern California\", \"confirmed_cases\": 1615635.0, \"confirmed_cases_per_100k\": 7064.569624600331, \"new_confirmed_cases\": 16319.0, \"new_confirmed_cases_seven_day_total\": 180192.0, \"deaths\": 18647.0, \"deaths_per_100k\": 81.53638030243364, \"new_deaths\": 87.0, \"new_deaths_seven_day_total\": 1765.0, \"new_confirmed_cases_seven_day_average\": 25741.714285714286, \"new_deaths_seven_day_average\": 252.14285714285717, \"population\": 22869546, \"new_confirmed_cases_per_100k\": 71.35690406796881, \"new_deaths_per_100k\": 0.3804185706178863, \"new_confirmed_cases_seven_day_per_100k\": 787.9124491583699, \"new_deaths_seven_day_per_100k\": 7.717687093569763, \"new_confirmed_cases_seven_day_average_per_100k\": 112.55892130833855, \"new_deaths_seven_day_average_per_100k\": 1.1025267276528232, \"new_confirmed_cases_seven_day_average_per_100k_percent_change\": -0.1334923443871661, \"new_deaths_seven_day_average_per_100k_percent_change\": 0.5958408679927667}, {\"date\": \"2021-01-04\", \"region\": \"Southern California\", \"confirmed_cases\": 1670637.0, \"confirmed_cases_per_100k\": 7305.072868521308, \"new_confirmed_cases\": 55002.0, \"new_confirmed_cases_seven_day_total\": 193226.0, \"deaths\": 18910.0, \"deaths_per_100k\": 82.68638126878426, \"new_deaths\": 263.0, \"new_deaths_seven_day_total\": 1892.0, \"new_confirmed_cases_seven_day_average\": 27603.714285714286, \"new_deaths_seven_day_average\": 270.2857142857143, \"population\": 22869546, \"new_confirmed_cases_per_100k\": 240.50324392097684, \"new_deaths_per_100k\": 1.150000966350622, \"new_confirmed_cases_seven_day_per_100k\": 844.905272715077, \"new_deaths_seven_day_per_100k\": 8.273010754126908, \"new_confirmed_cases_seven_day_average_per_100k\": 120.70075324501104, \"new_deaths_seven_day_average_per_100k\": 1.1818586791609869, \"new_confirmed_cases_seven_day_average_per_100k_percent_change\": -0.1257335474967761, \"new_deaths_seven_day_average_per_100k_percent_change\": 0.6466492602262839}, {\"date\": \"2021-01-05\", \"region\": \"Southern California\", \"confirmed_cases\": 1699504.0, \"confirmed_cases_per_100k\": 7431.297499303221, \"new_confirmed_cases\": 28867.0, \"new_confirmed_cases_seven_day_total\": 195566.0, \"deaths\": 19240.0, \"deaths_per_100k\": 84.12934826078315, \"new_deaths\": 330.0, \"new_deaths_seven_day_total\": 1851.0, \"new_confirmed_cases_seven_day_average\": 27938.0, \"new_deaths_seven_day_average\": 264.42857142857144, \"population\": 22869546, \"new_confirmed_cases_per_100k\": 126.22463078191409, \"new_deaths_per_100k\": 1.4429669919988792, \"new_confirmed_cases_seven_day_per_100k\": 855.1372204765238, \"new_deaths_seven_day_per_100k\": 8.093733036939167, \"new_confirmed_cases_seven_day_average_per_100k\": 122.1624600680748, \"new_deaths_seven_day_average_per_100k\": 1.1562475767055955, \"new_confirmed_cases_seven_day_average_per_100k_percent_change\": -0.1309684099200583, \"new_deaths_seven_day_average_per_100k_percent_change\": 0.595689655172414}, {\"date\": \"2021-01-06\", \"region\": \"Southern California\", \"confirmed_cases\": 1726160.0, \"confirmed_cases_per_100k\": 7547.854251238743, \"new_confirmed_cases\": 26656.0, \"new_confirmed_cases_seven_day_total\": 197679.0, \"deaths\": 19637.0, \"deaths_per_100k\": 85.86528127843027, \"new_deaths\": 397.0, \"new_deaths_seven_day_total\": 1893.0, \"new_confirmed_cases_seven_day_average\": 28239.85714285714, \"new_deaths_seven_day_average\": 270.42857142857144, \"population\": 22869546, \"new_confirmed_cases_per_100k\": 116.5567519355216, \"new_deaths_per_100k\": 1.7359330176471366, \"new_confirmed_cases_seven_day_per_100k\": 864.376581852565, \"new_deaths_seven_day_per_100k\": 8.277383381375389, \"new_confirmed_cases_seven_day_average_per_100k\": 123.48236883608072, \"new_deaths_seven_day_average_per_100k\": 1.1824833401964845, \"new_confirmed_cases_seven_day_average_per_100k_percent_change\": -0.0976487074966562, \"new_deaths_seven_day_average_per_100k_percent_change\": 0.7447004608294934}, {\"date\": \"2021-01-07\", \"region\": \"Southern California\", \"confirmed_cases\": 1755692.0, \"confirmed_cases_per_100k\": 7676.986679140898, \"new_confirmed_cases\": 29532.0, \"new_confirmed_cases_seven_day_total\": 205367.0, \"deaths\": 19975.0, \"deaths_per_100k\": 87.343229288417, \"new_deaths\": 338.0, \"new_deaths_seven_day_total\": 1828.0, \"new_confirmed_cases_seven_day_average\": 29338.14285714286, \"new_deaths_seven_day_average\": 261.1428571428572, \"population\": 22869546, \"new_confirmed_cases_per_100k\": 129.13242790215423, \"new_deaths_per_100k\": 1.4779480099867308, \"new_confirmed_cases_seven_day_per_100k\": 897.9933401388904, \"new_deaths_seven_day_per_100k\": 7.993162610224094, \"new_confirmed_cases_seven_day_average_per_100k\": 128.28476287698433, \"new_deaths_seven_day_average_per_100k\": 1.1418803728891564, \"new_confirmed_cases_seven_day_average_per_100k_percent_change\": 0.0022253563742304, \"new_deaths_seven_day_average_per_100k_percent_change\": 0.6572982774252039}, {\"date\": \"2021-01-08\", \"region\": \"Southern California\", \"confirmed_cases\": 1790160.0, \"confirmed_cases_per_100k\": 7827.702395141556, \"new_confirmed_cases\": 34468.0, \"new_confirmed_cases_seven_day_total\": 216280.0, \"deaths\": 20442.0, \"deaths_per_100k\": 89.38524621345785, \"new_deaths\": 467.0, \"new_deaths_seven_day_total\": 2044.0, \"new_confirmed_cases_seven_day_average\": 30897.14285714286, \"new_deaths_seven_day_average\": 292.0, \"population\": 22869546, \"new_confirmed_cases_per_100k\": 150.7157160006587, \"new_deaths_per_100k\": 2.042016925040838, \"new_confirmed_cases_seven_day_per_100k\": 945.7118213015684, \"new_deaths_seven_day_per_100k\": 8.937650095896089, \"new_confirmed_cases_seven_day_average_per_100k\": 135.10168875736693, \"new_deaths_seven_day_average_per_100k\": 1.276807156556584, \"new_confirmed_cases_seven_day_average_per_100k_percent_change\": 0.2746045590627284, \"new_deaths_seven_day_average_per_100k_percent_change\": 1.0964102564102562}, {\"date\": \"2021-01-09\", \"region\": \"Southern California\", \"confirmed_cases\": 1820359.0, \"confirmed_cases_per_100k\": 7959.751365418448, \"new_confirmed_cases\": 30199.0, \"new_confirmed_cases_seven_day_total\": 221043.0, \"deaths\": 20802.0, \"deaths_per_100k\": 90.95939202291116, \"new_deaths\": 360.0, \"new_deaths_seven_day_total\": 2242.0, \"new_confirmed_cases_seven_day_average\": 31577.571428571428, \"new_deaths_seven_day_average\": 320.2857142857143, \"population\": 22869546, \"new_confirmed_cases_per_100k\": 132.04897027689137, \"new_deaths_per_100k\": 1.5741458094533227, \"new_confirmed_cases_seven_day_per_100k\": 966.5386448860856, \"new_deaths_seven_day_per_100k\": 9.803430291095417, \"new_confirmed_cases_seven_day_average_per_100k\": 138.0769492694408, \"new_deaths_seven_day_average_per_100k\": 1.4004900415850594, \"new_confirmed_cases_seven_day_average_per_100k_percent_change\": 0.1850328903280456, \"new_deaths_seven_day_average_per_100k_percent_change\": 1.1071428571428572}, {\"date\": \"2021-01-10\", \"region\": \"Southern California\", \"confirmed_cases\": 1844753.0, \"confirmed_cases_per_100k\": 8066.417234517904, \"new_confirmed_cases\": 24394.0, \"new_confirmed_cases_seven_day_total\": 229118.0, \"deaths\": 21058.0, \"deaths_per_100k\": 92.07878459852242, \"new_deaths\": 256.0, \"new_deaths_seven_day_total\": 2411.0, \"new_confirmed_cases_seven_day_average\": 32731.14285714286, \"new_deaths_seven_day_average\": 344.42857142857144, \"population\": 22869546, \"new_confirmed_cases_per_100k\": 106.66586909945654, \"new_deaths_per_100k\": 1.1193925756112515, \"new_confirmed_cases_seven_day_per_100k\": 1001.8476099175732, \"new_deaths_seven_day_per_100k\": 10.54240429608878, \"new_confirmed_cases_seven_day_average_per_100k\": 143.1210871310819, \"new_deaths_seven_day_average_per_100k\": 1.5060577565841118, \"new_confirmed_cases_seven_day_average_per_100k_percent_change\": 0.2183887264025525, \"new_deaths_seven_day_average_per_100k_percent_change\": 1.2983794089609155}, {\"date\": \"2021-01-11\", \"region\": \"Southern California\", \"confirmed_cases\": 1880374.0, \"confirmed_cases_per_100k\": 8222.174589736062, \"new_confirmed_cases\": 35621.0, \"new_confirmed_cases_seven_day_total\": 209737.0, \"deaths\": 21299.0, \"deaths_per_100k\": 93.13258776540646, \"new_deaths\": 241.0, \"new_deaths_seven_day_total\": 2389.0, \"new_confirmed_cases_seven_day_average\": 29962.42857142857, \"new_deaths_seven_day_average\": 341.2857142857143, \"population\": 22869546, \"new_confirmed_cases_per_100k\": 155.7573552181578, \"new_deaths_per_100k\": 1.05380316688403, \"new_confirmed_cases_seven_day_per_100k\": 917.1017212147544, \"new_deaths_seven_day_per_100k\": 10.446206496622189, \"new_confirmed_cases_seven_day_average_per_100k\": 131.01453160210775, \"new_deaths_seven_day_average_per_100k\": 1.49231521380317, \"new_confirmed_cases_seven_day_average_per_100k_percent_change\": 0.0940098271383413, \"new_deaths_seven_day_average_per_100k_percent_change\": 1.2559017941454207}, {\"date\": \"2021-01-12\", \"region\": \"Southern California\", \"confirmed_cases\": 1919185.0, \"confirmed_cases_per_100k\": 8391.880625876876, \"new_confirmed_cases\": 38811.0, \"new_confirmed_cases_seven_day_total\": 219681.0, \"deaths\": 21771.0, \"deaths_per_100k\": 95.1964678266897, \"new_deaths\": 472.0, \"new_deaths_seven_day_total\": 2531.0, \"new_confirmed_cases_seven_day_average\": 31383.0, \"new_deaths_seven_day_average\": 361.57142857142856, \"population\": 22869546, \"new_confirmed_cases_per_100k\": 169.70603614081364, \"new_deaths_per_100k\": 2.0638800612832453, \"new_confirmed_cases_seven_day_per_100k\": 960.583126573654, \"new_deaths_seven_day_per_100k\": 11.067119565906555, \"new_confirmed_cases_seven_day_average_per_100k\": 137.2261609390934, \"new_deaths_seven_day_average_per_100k\": 1.5810170808437936, \"new_confirmed_cases_seven_day_average_per_100k_percent_change\": 0.1282529312974745, \"new_deaths_seven_day_average_per_100k_percent_change\": 1.0460792239288597}, {\"date\": \"2021-01-13\", \"region\": \"Southern California\", \"confirmed_cases\": 1948547.0, \"confirmed_cases_per_100k\": 8520.269707146788, \"new_confirmed_cases\": 29362.0, \"new_confirmed_cases_seven_day_total\": 222387.0, \"deaths\": 22168.0, \"deaths_per_100k\": 96.93240084433684, \"new_deaths\": 397.0, \"new_deaths_seven_day_total\": 2531.0, \"new_confirmed_cases_seven_day_average\": 31769.571428571428, \"new_deaths_seven_day_average\": 361.57142857142856, \"population\": 22869546, \"new_confirmed_cases_per_100k\": 128.3890812699124, \"new_deaths_per_100k\": 1.7359330176471366, \"new_confirmed_cases_seven_day_per_100k\": 972.4154559080448, \"new_deaths_seven_day_per_100k\": 11.067119565906555, \"new_confirmed_cases_seven_day_average_per_100k\": 138.91649370114922, \"new_deaths_seven_day_average_per_100k\": 1.5810170808437936, \"new_confirmed_cases_seven_day_average_per_100k_percent_change\": 0.1946142524092433, \"new_deaths_seven_day_average_per_100k_percent_change\": 0.8487947406866321}, {\"date\": \"2021-01-14\", \"region\": \"Southern California\", \"confirmed_cases\": 1978262.0, \"confirmed_cases_per_100k\": 8650.202325835415, \"new_confirmed_cases\": 29715.0, \"new_confirmed_cases_seven_day_total\": 222570.0, \"deaths\": 22643.0, \"deaths_per_100k\": 99.00939878736553, \"new_deaths\": 475.0, \"new_deaths_seven_day_total\": 2668.0, \"new_confirmed_cases_seven_day_average\": 31795.714285714286, \"new_deaths_seven_day_average\": 381.1428571428572, \"population\": 22869546, \"new_confirmed_cases_per_100k\": 129.93261868862635, \"new_deaths_per_100k\": 2.07699794302869, \"new_confirmed_cases_seven_day_per_100k\": 973.2156466945167, \"new_deaths_seven_day_per_100k\": 11.666169498948516, \"new_confirmed_cases_seven_day_average_per_100k\": 139.03080667064526, \"new_deaths_seven_day_average_per_100k\": 1.6665956427069308, \"new_confirmed_cases_seven_day_average_per_100k_percent_change\": 0.2118192806507466, \"new_deaths_seven_day_average_per_100k_percent_change\": 0.7235142118863052}, {\"date\": \"2021-01-15\", \"region\": \"Southern California\", \"confirmed_cases\": 2005223.0, \"confirmed_cases_per_100k\": 8768.092729081722, \"new_confirmed_cases\": 26961.0, \"new_confirmed_cases_seven_day_total\": 215063.0, \"deaths\": 23159.0, \"deaths_per_100k\": 101.26567444758196, \"new_deaths\": 516.0, \"new_deaths_seven_day_total\": 2717.0, \"new_confirmed_cases_seven_day_average\": 30723.285714285717, \"new_deaths_seven_day_average\": 388.1428571428572, \"population\": 22869546, \"new_confirmed_cases_per_100k\": 117.89040324630842, \"new_deaths_per_100k\": 2.2562756602164296, \"new_confirmed_cases_seven_day_per_100k\": 940.3903339401664, \"new_deaths_seven_day_per_100k\": 11.880428234124103, \"new_confirmed_cases_seven_day_average_per_100k\": 134.34147627716663, \"new_deaths_seven_day_average_per_100k\": 1.697204033446301, \"new_confirmed_cases_seven_day_average_per_100k_percent_change\": 0.0533732355044425, \"new_deaths_seven_day_average_per_100k_percent_change\": 0.5272625070264196}]}}, {\"mode\": \"vega-lite\"});\n",
       "</script>"
      ],
      "text/plain": [
       "alt.Chart(...)"
      ]
     },
     "execution_count": 12,
     "metadata": {},
     "output_type": "execute_result"
    }
   ],
   "source": [
    "alt.Chart(socal).mark_line().encode(\n",
    "    x=alt.X(\n",
    "        \"date:T\",\n",
    "        axis=alt.Axis(tickCount=5, format=(\"%b. %d\"), grid=False, tickColor=\"#ffffff\"),\n",
    "    ),\n",
    "    y=alt.Y(\n",
    "        \"new_confirmed_cases_seven_day_per_100k\",\n",
    "        title=\"\",\n",
    "        axis=alt.Axis(tickColor=\"#ffffff\"),\n",
    "    ),\n",
    ").properties(width=500, height=300).configure_axis()"
   ]
  },
  {
   "cell_type": "markdown",
   "id": "sound-wholesale",
   "metadata": {},
   "source": [
    "---"
   ]
  },
  {
   "cell_type": "code",
   "execution_count": 13,
   "id": "postal-nation",
   "metadata": {},
   "outputs": [],
   "source": [
    "cases = pd.read_csv(\n",
    "    \"../../coronavirus-tracker/_notebooks/data/processed/places/timeseries.csv\",\n",
    "    low_memory=False,\n",
    ")"
   ]
  },
  {
   "cell_type": "markdown",
   "id": "intensive-reducing",
   "metadata": {},
   "source": [
    "### Get places in Los Angeles County"
   ]
  },
  {
   "cell_type": "code",
   "execution_count": 14,
   "id": "contained-playing",
   "metadata": {},
   "outputs": [],
   "source": [
    "places = cases[(cases[\"zcta_id\"].isna()) & (cases[\"county\"] == \"Los Angeles\")]"
   ]
  },
  {
   "cell_type": "code",
   "execution_count": 15,
   "id": "stock-blues",
   "metadata": {},
   "outputs": [],
   "source": [
    "places_latest = places[places[\"date\"] == places[\"date\"].max()]"
   ]
  },
  {
   "cell_type": "code",
   "execution_count": 16,
   "id": "southern-tongue",
   "metadata": {},
   "outputs": [
    {
     "data": {
      "text/html": [
       "<div>\n",
       "<style scoped>\n",
       "    .dataframe tbody tr th:only-of-type {\n",
       "        vertical-align: middle;\n",
       "    }\n",
       "\n",
       "    .dataframe tbody tr th {\n",
       "        vertical-align: top;\n",
       "    }\n",
       "\n",
       "    .dataframe thead th {\n",
       "        text-align: right;\n",
       "    }\n",
       "</style>\n",
       "<table border=\"1\" class=\"dataframe\">\n",
       "  <thead>\n",
       "    <tr style=\"text-align: right;\">\n",
       "      <th></th>\n",
       "      <th>name</th>\n",
       "      <th>date</th>\n",
       "      <th>county</th>\n",
       "      <th>fips</th>\n",
       "      <th>slug</th>\n",
       "      <th>confirmed_cases_note</th>\n",
       "      <th>confirmed_cases</th>\n",
       "      <th>lat</th>\n",
       "      <th>lon</th>\n",
       "      <th>population</th>\n",
       "      <th>zcta_id</th>\n",
       "      <th>id</th>\n",
       "      <th>new_confirmed_cases</th>\n",
       "      <th>new_confirmed_cases_seven_day_total</th>\n",
       "      <th>new_confirmed_cases_seven_day_average</th>\n",
       "      <th>new_confirmed_cases_fourteen_day_total</th>\n",
       "      <th>new_confirmed_cases_fourteen_day_average</th>\n",
       "      <th>confirmed_cases_per_100k</th>\n",
       "      <th>new_confirmed_cases_per_100k</th>\n",
       "      <th>new_confirmed_cases_seven_day_per_100k</th>\n",
       "      <th>new_confirmed_cases_fourteen_day_per_100k</th>\n",
       "    </tr>\n",
       "  </thead>\n",
       "  <tbody>\n",
       "    <tr>\n",
       "      <th>66956</th>\n",
       "      <td>Acton</td>\n",
       "      <td>2021-02-10</td>\n",
       "      <td>Los Angeles</td>\n",
       "      <td>37</td>\n",
       "      <td>unincorporated-acton</td>\n",
       "      <td>NaN</td>\n",
       "      <td>409</td>\n",
       "      <td>34.481366</td>\n",
       "      <td>-118.216138</td>\n",
       "      <td>7971.0</td>\n",
       "      <td>NaN</td>\n",
       "      <td>Unincorporated - Acton</td>\n",
       "      <td>0.0</td>\n",
       "      <td>9.0</td>\n",
       "      <td>1.285714</td>\n",
       "      <td>21.0</td>\n",
       "      <td>1.500000</td>\n",
       "      <td>5131.100238</td>\n",
       "      <td>0.0</td>\n",
       "      <td>112.909296</td>\n",
       "      <td>263.455024</td>\n",
       "    </tr>\n",
       "    <tr>\n",
       "      <th>67288</th>\n",
       "      <td>Adams-Normandie</td>\n",
       "      <td>2021-02-10</td>\n",
       "      <td>Los Angeles</td>\n",
       "      <td>37</td>\n",
       "      <td>los-angeles-adams-normandie</td>\n",
       "      <td>NaN</td>\n",
       "      <td>1118</td>\n",
       "      <td>34.029122</td>\n",
       "      <td>-118.302396</td>\n",
       "      <td>8202.0</td>\n",
       "      <td>NaN</td>\n",
       "      <td>Los Angeles - Adams-Normandie</td>\n",
       "      <td>0.0</td>\n",
       "      <td>27.0</td>\n",
       "      <td>3.857143</td>\n",
       "      <td>73.0</td>\n",
       "      <td>5.214286</td>\n",
       "      <td>13630.821751</td>\n",
       "      <td>0.0</td>\n",
       "      <td>329.188003</td>\n",
       "      <td>890.026823</td>\n",
       "    </tr>\n",
       "    <tr>\n",
       "      <th>67620</th>\n",
       "      <td>Agoura Hills</td>\n",
       "      <td>2021-02-10</td>\n",
       "      <td>Los Angeles</td>\n",
       "      <td>37</td>\n",
       "      <td>city-of-agoura-hills</td>\n",
       "      <td>NaN</td>\n",
       "      <td>907</td>\n",
       "      <td>34.151007</td>\n",
       "      <td>-118.760876</td>\n",
       "      <td>20883.0</td>\n",
       "      <td>NaN</td>\n",
       "      <td>City of Agoura Hills</td>\n",
       "      <td>0.0</td>\n",
       "      <td>24.0</td>\n",
       "      <td>3.428571</td>\n",
       "      <td>59.0</td>\n",
       "      <td>4.214286</td>\n",
       "      <td>4343.245702</td>\n",
       "      <td>0.0</td>\n",
       "      <td>114.926016</td>\n",
       "      <td>282.526457</td>\n",
       "    </tr>\n",
       "    <tr>\n",
       "      <th>67952</th>\n",
       "      <td>Agua Dulce</td>\n",
       "      <td>2021-02-10</td>\n",
       "      <td>Los Angeles</td>\n",
       "      <td>37</td>\n",
       "      <td>unincorporated-agua-dulce</td>\n",
       "      <td>NaN</td>\n",
       "      <td>242</td>\n",
       "      <td>34.497963</td>\n",
       "      <td>-118.323810</td>\n",
       "      <td>4158.0</td>\n",
       "      <td>NaN</td>\n",
       "      <td>Unincorporated - Agua Dulce</td>\n",
       "      <td>0.0</td>\n",
       "      <td>11.0</td>\n",
       "      <td>1.571429</td>\n",
       "      <td>37.0</td>\n",
       "      <td>2.642857</td>\n",
       "      <td>5820.105820</td>\n",
       "      <td>0.0</td>\n",
       "      <td>264.550265</td>\n",
       "      <td>889.850890</td>\n",
       "    </tr>\n",
       "    <tr>\n",
       "      <th>68284</th>\n",
       "      <td>Alhambra</td>\n",
       "      <td>2021-02-10</td>\n",
       "      <td>Los Angeles</td>\n",
       "      <td>37</td>\n",
       "      <td>city-of-alhambra</td>\n",
       "      <td>NaN</td>\n",
       "      <td>6430</td>\n",
       "      <td>34.083961</td>\n",
       "      <td>-118.135504</td>\n",
       "      <td>86724.0</td>\n",
       "      <td>NaN</td>\n",
       "      <td>City of Alhambra</td>\n",
       "      <td>0.0</td>\n",
       "      <td>145.0</td>\n",
       "      <td>20.714286</td>\n",
       "      <td>380.0</td>\n",
       "      <td>27.142857</td>\n",
       "      <td>7414.325907</td>\n",
       "      <td>0.0</td>\n",
       "      <td>167.197085</td>\n",
       "      <td>438.171671</td>\n",
       "    </tr>\n",
       "  </tbody>\n",
       "</table>\n",
       "</div>"
      ],
      "text/plain": [
       "                  name        date       county  fips  \\\n",
       "66956            Acton  2021-02-10  Los Angeles    37   \n",
       "67288  Adams-Normandie  2021-02-10  Los Angeles    37   \n",
       "67620     Agoura Hills  2021-02-10  Los Angeles    37   \n",
       "67952       Agua Dulce  2021-02-10  Los Angeles    37   \n",
       "68284         Alhambra  2021-02-10  Los Angeles    37   \n",
       "\n",
       "                              slug confirmed_cases_note  confirmed_cases  \\\n",
       "66956         unincorporated-acton                  NaN              409   \n",
       "67288  los-angeles-adams-normandie                  NaN             1118   \n",
       "67620         city-of-agoura-hills                  NaN              907   \n",
       "67952    unincorporated-agua-dulce                  NaN              242   \n",
       "68284             city-of-alhambra                  NaN             6430   \n",
       "\n",
       "             lat         lon  population  zcta_id  \\\n",
       "66956  34.481366 -118.216138      7971.0      NaN   \n",
       "67288  34.029122 -118.302396      8202.0      NaN   \n",
       "67620  34.151007 -118.760876     20883.0      NaN   \n",
       "67952  34.497963 -118.323810      4158.0      NaN   \n",
       "68284  34.083961 -118.135504     86724.0      NaN   \n",
       "\n",
       "                                  id  new_confirmed_cases  \\\n",
       "66956         Unincorporated - Acton                  0.0   \n",
       "67288  Los Angeles - Adams-Normandie                  0.0   \n",
       "67620           City of Agoura Hills                  0.0   \n",
       "67952    Unincorporated - Agua Dulce                  0.0   \n",
       "68284               City of Alhambra                  0.0   \n",
       "\n",
       "       new_confirmed_cases_seven_day_total  \\\n",
       "66956                                  9.0   \n",
       "67288                                 27.0   \n",
       "67620                                 24.0   \n",
       "67952                                 11.0   \n",
       "68284                                145.0   \n",
       "\n",
       "       new_confirmed_cases_seven_day_average  \\\n",
       "66956                               1.285714   \n",
       "67288                               3.857143   \n",
       "67620                               3.428571   \n",
       "67952                               1.571429   \n",
       "68284                              20.714286   \n",
       "\n",
       "       new_confirmed_cases_fourteen_day_total  \\\n",
       "66956                                    21.0   \n",
       "67288                                    73.0   \n",
       "67620                                    59.0   \n",
       "67952                                    37.0   \n",
       "68284                                   380.0   \n",
       "\n",
       "       new_confirmed_cases_fourteen_day_average  confirmed_cases_per_100k  \\\n",
       "66956                                  1.500000               5131.100238   \n",
       "67288                                  5.214286              13630.821751   \n",
       "67620                                  4.214286               4343.245702   \n",
       "67952                                  2.642857               5820.105820   \n",
       "68284                                 27.142857               7414.325907   \n",
       "\n",
       "       new_confirmed_cases_per_100k  new_confirmed_cases_seven_day_per_100k  \\\n",
       "66956                           0.0                              112.909296   \n",
       "67288                           0.0                              329.188003   \n",
       "67620                           0.0                              114.926016   \n",
       "67952                           0.0                              264.550265   \n",
       "68284                           0.0                              167.197085   \n",
       "\n",
       "       new_confirmed_cases_fourteen_day_per_100k  \n",
       "66956                                 263.455024  \n",
       "67288                                 890.026823  \n",
       "67620                                 282.526457  \n",
       "67952                                 889.850890  \n",
       "68284                                 438.171671  "
      ]
     },
     "execution_count": 16,
     "metadata": {},
     "output_type": "execute_result"
    }
   ],
   "source": [
    "places_latest.head()"
   ]
  },
  {
   "cell_type": "code",
   "execution_count": 17,
   "id": "utility-sitting",
   "metadata": {},
   "outputs": [
    {
     "data": {
      "text/plain": [
       "334"
      ]
     },
     "execution_count": 17,
     "metadata": {},
     "output_type": "execute_result"
    }
   ],
   "source": [
    "len(places_latest)"
   ]
  },
  {
   "cell_type": "markdown",
   "id": "conservative-uganda",
   "metadata": {},
   "source": [
    "---"
   ]
  },
  {
   "cell_type": "markdown",
   "id": "noticed-spine",
   "metadata": {},
   "source": [
    "### Cases during the surge? "
   ]
  },
  {
   "cell_type": "code",
   "execution_count": 59,
   "id": "subject-involvement",
   "metadata": {},
   "outputs": [],
   "source": [
    "surge_places = places[\n",
    "    (places[\"date\"] > \"2020-11-15\") & (places[\"date\"] < \"2021-01-01\")\n",
    "][[\"name\", \"date\", \"new_confirmed_cases_seven_day_per_100k\"]]"
   ]
  },
  {
   "cell_type": "code",
   "execution_count": 60,
   "id": "listed-london",
   "metadata": {},
   "outputs": [],
   "source": [
    "losangeles = surge_places[\n",
    "    (surge_places[\"name\"].str.contains(\"Leimert Park\"))\n",
    "    | surge_places[\"name\"].str.contains(\"Playa Del Rey\")\n",
    "]"
   ]
  },
  {
   "cell_type": "code",
   "execution_count": 61,
   "id": "clinical-leonard",
   "metadata": {},
   "outputs": [
    {
     "data": {
      "text/html": [
       "\n",
       "<div id=\"altair-viz-12046b05fbe54fa88bf236596717d8fe\"></div>\n",
       "<script type=\"text/javascript\">\n",
       "  (function(spec, embedOpt){\n",
       "    let outputDiv = document.currentScript.previousElementSibling;\n",
       "    if (outputDiv.id !== \"altair-viz-12046b05fbe54fa88bf236596717d8fe\") {\n",
       "      outputDiv = document.getElementById(\"altair-viz-12046b05fbe54fa88bf236596717d8fe\");\n",
       "    }\n",
       "    const paths = {\n",
       "      \"vega\": \"https://cdn.jsdelivr.net/npm//vega@5?noext\",\n",
       "      \"vega-lib\": \"https://cdn.jsdelivr.net/npm//vega-lib?noext\",\n",
       "      \"vega-lite\": \"https://cdn.jsdelivr.net/npm//vega-lite@4.8.1?noext\",\n",
       "      \"vega-embed\": \"https://cdn.jsdelivr.net/npm//vega-embed@6?noext\",\n",
       "    };\n",
       "\n",
       "    function loadScript(lib) {\n",
       "      return new Promise(function(resolve, reject) {\n",
       "        var s = document.createElement('script');\n",
       "        s.src = paths[lib];\n",
       "        s.async = true;\n",
       "        s.onload = () => resolve(paths[lib]);\n",
       "        s.onerror = () => reject(`Error loading script: ${paths[lib]}`);\n",
       "        document.getElementsByTagName(\"head\")[0].appendChild(s);\n",
       "      });\n",
       "    }\n",
       "\n",
       "    function showError(err) {\n",
       "      outputDiv.innerHTML = `<div class=\"error\" style=\"color:red;\">${err}</div>`;\n",
       "      throw err;\n",
       "    }\n",
       "\n",
       "    function displayChart(vegaEmbed) {\n",
       "      vegaEmbed(outputDiv, spec, embedOpt)\n",
       "        .catch(err => showError(`Javascript Error: ${err.message}<br>This usually means there's a typo in your chart specification. See the javascript console for the full traceback.`));\n",
       "    }\n",
       "\n",
       "    if(typeof define === \"function\" && define.amd) {\n",
       "      requirejs.config({paths});\n",
       "      require([\"vega-embed\"], displayChart, err => showError(`Error loading script: ${err.message}`));\n",
       "    } else if (typeof vegaEmbed === \"function\") {\n",
       "      displayChart(vegaEmbed);\n",
       "    } else {\n",
       "      loadScript(\"vega\")\n",
       "        .then(() => loadScript(\"vega-lite\"))\n",
       "        .then(() => loadScript(\"vega-embed\"))\n",
       "        .catch(showError)\n",
       "        .then(() => displayChart(vegaEmbed));\n",
       "    }\n",
       "  })({\"config\": {\"view\": {\"width\": 800, \"height\": 450}, \"background\": \"#ffffff\", \"title\": {\"anchor\": \"start\", \"font\": \"Benton Gothic Bold, sans\", \"fontColor\": \"#000000\", \"fontSize\": 22, \"fontWeight\": \"normal\"}, \"arc\": {\"fill\": \"#82c6df\"}, \"area\": {\"fill\": \"#82c6df\"}, \"line\": {\"stroke\": \"#82c6df\", \"strokeWidth\": 3}, \"path\": {\"stroke\": \"#82c6df\"}, \"rect\": {\"fill\": \"#82c6df\"}, \"shape\": {\"stroke\": \"#82c6df\"}, \"bar\": {\"fill\": \"#82c6df\"}, \"point\": {\"stroke\": \"#82c6df\"}, \"symbol\": {\"fill\": \"#82c6df\", \"size\": 30}, \"axis\": {\"titleFont\": \"Benton Gothic Bold, sans\", \"titleFontSize\": 13, \"titleFontWeight\": \"normal\", \"labelFont\": \"Benton Gothic, sans\", \"labelFontSize\": 11.5, \"labelFontWeight\": \"normal\"}, \"axisX\": {\"labelAngle\": 0, \"labelPadding\": 4, \"tickSize\": 3}, \"axisY\": {\"labelBaseline\": \"middle\", \"maxExtent\": 45, \"minExtent\": 45, \"tickSize\": 2, \"titleAlign\": \"left\", \"titleAngle\": 0, \"titleX\": -45, \"titleY\": -11}, \"legend\": {\"titleFont\": \"Benton Gothic Bold, sans\", \"titleFontSize\": 13, \"titleFontWeight\": \"normal\", \"symbolType\": \"square\", \"labelFont\": \"Benton Gothic, sans\", \"labelFontSize\": 11.5}, \"range\": {\"category\": [\"#3580b1\", \"#ec8431\", \"#ab7fb4\", \"#c89d29\", \"#adc839\", \"#829eb1\"], \"diverging\": [\"#e68a4f\", \"#f4bb6a\", \"#f9e39c\", \"#dadfe2\", \"#a6b7c6\", \"#849eae\"], \"heatmap\": [\"#fbf2c7\", \"#f9e39c\", \"#f8d36e\", \"#f4bb6a\", \"#e68a4f\", \"#d15a40\", \"#ab4232\"], \"ordinal\": [\"#fbf2c7\", \"#f9e39c\", \"#f8d36e\", \"#f4bb6a\", \"#e68a4f\", \"#d15a40\", \"#ab4232\"], \"ramp\": [\"#fbf2c7\", \"#f9e39c\", \"#f8d36e\", \"#f4bb6a\", \"#e68a4f\", \"#d15a40\", \"#ab4232\"]}}, \"data\": {\"name\": \"data-8607e79b75dc1304f81122749f384b02\"}, \"mark\": \"line\", \"encoding\": {\"facet\": {\"type\": \"nominal\", \"columns\": 2, \"field\": \"name\", \"title\": \"\"}, \"x\": {\"type\": \"temporal\", \"axis\": {\"format\": \"%b. %d\", \"grid\": false, \"tickColor\": \"#ffffff\", \"tickCount\": 5}, \"field\": \"date\"}, \"y\": {\"type\": \"quantitative\", \"axis\": {\"tickColor\": \"#ffffff\"}, \"field\": \"new_confirmed_cases_seven_day_per_100k\", \"title\": \"\"}}, \"height\": 300, \"width\": 500, \"$schema\": \"https://vega.github.io/schema/vega-lite/v4.8.1.json\", \"datasets\": {\"data-8607e79b75dc1304f81122749f384b02\": [{\"name\": \"Leimert Park\", \"date\": \"2020-11-16\", \"new_confirmed_cases_seven_day_per_100k\": 65.63833278634722}, {\"name\": \"Leimert Park\", \"date\": \"2020-11-17\", \"new_confirmed_cases_seven_day_per_100k\": 98.45749917952084}, {\"name\": \"Leimert Park\", \"date\": \"2020-11-18\", \"new_confirmed_cases_seven_day_per_100k\": 98.45749917952084}, {\"name\": \"Leimert Park\", \"date\": \"2020-11-19\", \"new_confirmed_cases_seven_day_per_100k\": 124.71283229405974}, {\"name\": \"Leimert Park\", \"date\": \"2020-11-20\", \"new_confirmed_cases_seven_day_per_100k\": 118.148999015425}, {\"name\": \"Leimert Park\", \"date\": \"2020-11-21\", \"new_confirmed_cases_seven_day_per_100k\": 203.4788316376764}, {\"name\": \"Leimert Park\", \"date\": \"2020-11-22\", \"new_confirmed_cases_seven_day_per_100k\": 216.60649819494583}, {\"name\": \"Leimert Park\", \"date\": \"2020-11-23\", \"new_confirmed_cases_seven_day_per_100k\": 249.42566458811947}, {\"name\": \"Leimert Park\", \"date\": \"2020-11-24\", \"new_confirmed_cases_seven_day_per_100k\": 242.86183130948476}, {\"name\": \"Leimert Park\", \"date\": \"2020-11-25\", \"new_confirmed_cases_seven_day_per_100k\": 269.1171644240236}, {\"name\": \"Leimert Park\", \"date\": \"2020-11-26\", \"new_confirmed_cases_seven_day_per_100k\": 282.2448309812931}, {\"name\": \"Leimert Park\", \"date\": \"2020-11-27\", \"new_confirmed_cases_seven_day_per_100k\": 321.6278306531014}, {\"name\": \"Leimert Park\", \"date\": \"2020-11-28\", \"new_confirmed_cases_seven_day_per_100k\": 255.9894978667542}, {\"name\": \"Leimert Park\", \"date\": \"2020-11-29\", \"new_confirmed_cases_seven_day_per_100k\": 262.5533311453889}, {\"name\": \"Leimert Park\", \"date\": \"2020-11-30\", \"new_confirmed_cases_seven_day_per_100k\": 315.0639973744667}, {\"name\": \"Leimert Park\", \"date\": \"2020-12-01\", \"new_confirmed_cases_seven_day_per_100k\": 334.7554972103709}, {\"name\": \"Leimert Park\", \"date\": \"2020-12-02\", \"new_confirmed_cases_seven_day_per_100k\": 315.0639973744667}, {\"name\": \"Leimert Park\", \"date\": \"2020-12-03\", \"new_confirmed_cases_seven_day_per_100k\": 354.44699704627504}, {\"name\": \"Leimert Park\", \"date\": \"2020-12-04\", \"new_confirmed_cases_seven_day_per_100k\": 347.88316376764027}, {\"name\": \"Leimert Park\", \"date\": \"2020-12-05\", \"new_confirmed_cases_seven_day_per_100k\": 367.5746636035444}, {\"name\": \"Leimert Park\", \"date\": \"2020-12-06\", \"new_confirmed_cases_seven_day_per_100k\": 452.9044962257959}, {\"name\": \"Leimert Park\", \"date\": \"2020-12-07\", \"new_confirmed_cases_seven_day_per_100k\": 433.2129963898917}, {\"name\": \"Leimert Park\", \"date\": \"2020-12-08\", \"new_confirmed_cases_seven_day_per_100k\": 485.7236626189695}, {\"name\": \"Leimert Park\", \"date\": \"2020-12-09\", \"new_confirmed_cases_seven_day_per_100k\": 531.6704955694125}, {\"name\": \"Leimert Park\", \"date\": \"2020-12-10\", \"new_confirmed_cases_seven_day_per_100k\": 590.744995077125}, {\"name\": \"Leimert Park\", \"date\": \"2020-12-11\", \"new_confirmed_cases_seven_day_per_100k\": 662.947161142107}, {\"name\": \"Leimert Park\", \"date\": \"2020-12-12\", \"new_confirmed_cases_seven_day_per_100k\": 715.4578273711847}, {\"name\": \"Leimert Park\", \"date\": \"2020-12-13\", \"new_confirmed_cases_seven_day_per_100k\": 722.0216606498195}, {\"name\": \"Leimert Park\", \"date\": \"2020-12-14\", \"new_confirmed_cases_seven_day_per_100k\": 689.2024942566459}, {\"name\": \"Leimert Park\", \"date\": \"2020-12-15\", \"new_confirmed_cases_seven_day_per_100k\": 702.3301608139153}, {\"name\": \"Leimert Park\", \"date\": \"2020-12-16\", \"new_confirmed_cases_seven_day_per_100k\": 754.8408270429932}, {\"name\": \"Leimert Park\", \"date\": \"2020-12-17\", \"new_confirmed_cases_seven_day_per_100k\": 689.2024942566459}, {\"name\": \"Leimert Park\", \"date\": \"2020-12-18\", \"new_confirmed_cases_seven_day_per_100k\": 728.5854939284542}, {\"name\": \"Leimert Park\", \"date\": \"2020-12-19\", \"new_confirmed_cases_seven_day_per_100k\": 761.4046603216278}, {\"name\": \"Leimert Park\", \"date\": \"2020-12-20\", \"new_confirmed_cases_seven_day_per_100k\": 748.2769937643584}, {\"name\": \"Leimert Park\", \"date\": \"2020-12-21\", \"new_confirmed_cases_seven_day_per_100k\": 853.298326222514}, {\"name\": \"Leimert Park\", \"date\": \"2020-12-22\", \"new_confirmed_cases_seven_day_per_100k\": 918.9366590088612}, {\"name\": \"Leimert Park\", \"date\": \"2020-12-23\", \"new_confirmed_cases_seven_day_per_100k\": 892.6813258943223}, {\"name\": \"Leimert Park\", \"date\": \"2020-12-24\", \"new_confirmed_cases_seven_day_per_100k\": 918.9366590088612}, {\"name\": \"Leimert Park\", \"date\": \"2020-12-25\", \"new_confirmed_cases_seven_day_per_100k\": 774.5323268788973}, {\"name\": \"Leimert Park\", \"date\": \"2020-12-26\", \"new_confirmed_cases_seven_day_per_100k\": 846.7344929438791}, {\"name\": \"Leimert Park\", \"date\": \"2020-12-27\", \"new_confirmed_cases_seven_day_per_100k\": 872.9898260584181}, {\"name\": \"Leimert Park\", \"date\": \"2020-12-28\", \"new_confirmed_cases_seven_day_per_100k\": 800.7876599934361}, {\"name\": \"Leimert Park\", \"date\": \"2020-12-29\", \"new_confirmed_cases_seven_day_per_100k\": 689.2024942566459}, {\"name\": \"Leimert Park\", \"date\": \"2020-12-30\", \"new_confirmed_cases_seven_day_per_100k\": 610.4364949130292}, {\"name\": \"Leimert Park\", \"date\": \"2020-12-31\", \"new_confirmed_cases_seven_day_per_100k\": 617.0003281916639}, {\"name\": \"Playa Del Rey\", \"date\": \"2020-11-16\", \"new_confirmed_cases_seven_day_per_100k\": 281.6020025031289}, {\"name\": \"Playa Del Rey\", \"date\": \"2020-11-17\", \"new_confirmed_cases_seven_day_per_100k\": 219.0237797246558}, {\"name\": \"Playa Del Rey\", \"date\": \"2020-11-18\", \"new_confirmed_cases_seven_day_per_100k\": 187.7346683354193}, {\"name\": \"Playa Del Rey\", \"date\": \"2020-11-19\", \"new_confirmed_cases_seven_day_per_100k\": 156.44555694618273}, {\"name\": \"Playa Del Rey\", \"date\": \"2020-11-20\", \"new_confirmed_cases_seven_day_per_100k\": 156.44555694618273}, {\"name\": \"Playa Del Rey\", \"date\": \"2020-11-21\", \"new_confirmed_cases_seven_day_per_100k\": 93.86733416770964}, {\"name\": \"Playa Del Rey\", \"date\": \"2020-11-22\", \"new_confirmed_cases_seven_day_per_100k\": 31.289111389236545}, {\"name\": \"Playa Del Rey\", \"date\": \"2020-11-23\", \"new_confirmed_cases_seven_day_per_100k\": 31.289111389236545}, {\"name\": \"Playa Del Rey\", \"date\": \"2020-11-24\", \"new_confirmed_cases_seven_day_per_100k\": 31.289111389236545}, {\"name\": \"Playa Del Rey\", \"date\": \"2020-11-25\", \"new_confirmed_cases_seven_day_per_100k\": 31.289111389236545}, {\"name\": \"Playa Del Rey\", \"date\": \"2020-11-26\", \"new_confirmed_cases_seven_day_per_100k\": 62.57822277847309}, {\"name\": \"Playa Del Rey\", \"date\": \"2020-11-27\", \"new_confirmed_cases_seven_day_per_100k\": 125.15644555694618}, {\"name\": \"Playa Del Rey\", \"date\": \"2020-11-28\", \"new_confirmed_cases_seven_day_per_100k\": 125.15644555694618}, {\"name\": \"Playa Del Rey\", \"date\": \"2020-11-29\", \"new_confirmed_cases_seven_day_per_100k\": 125.15644555694618}, {\"name\": \"Playa Del Rey\", \"date\": \"2020-11-30\", \"new_confirmed_cases_seven_day_per_100k\": 125.15644555694618}, {\"name\": \"Playa Del Rey\", \"date\": \"2020-12-01\", \"new_confirmed_cases_seven_day_per_100k\": 156.44555694618273}, {\"name\": \"Playa Del Rey\", \"date\": \"2020-12-02\", \"new_confirmed_cases_seven_day_per_100k\": 156.44555694618273}, {\"name\": \"Playa Del Rey\", \"date\": \"2020-12-03\", \"new_confirmed_cases_seven_day_per_100k\": 156.44555694618273}, {\"name\": \"Playa Del Rey\", \"date\": \"2020-12-04\", \"new_confirmed_cases_seven_day_per_100k\": 93.86733416770964}, {\"name\": \"Playa Del Rey\", \"date\": \"2020-12-05\", \"new_confirmed_cases_seven_day_per_100k\": 125.15644555694618}, {\"name\": \"Playa Del Rey\", \"date\": \"2020-12-06\", \"new_confirmed_cases_seven_day_per_100k\": 125.15644555694618}, {\"name\": \"Playa Del Rey\", \"date\": \"2020-12-07\", \"new_confirmed_cases_seven_day_per_100k\": 125.15644555694618}, {\"name\": \"Playa Del Rey\", \"date\": \"2020-12-08\", \"new_confirmed_cases_seven_day_per_100k\": 156.44555694618273}, {\"name\": \"Playa Del Rey\", \"date\": \"2020-12-09\", \"new_confirmed_cases_seven_day_per_100k\": 156.44555694618273}, {\"name\": \"Playa Del Rey\", \"date\": \"2020-12-10\", \"new_confirmed_cases_seven_day_per_100k\": 125.15644555694618}, {\"name\": \"Playa Del Rey\", \"date\": \"2020-12-11\", \"new_confirmed_cases_seven_day_per_100k\": 125.15644555694618}, {\"name\": \"Playa Del Rey\", \"date\": \"2020-12-12\", \"new_confirmed_cases_seven_day_per_100k\": 125.15644555694618}, {\"name\": \"Playa Del Rey\", \"date\": \"2020-12-13\", \"new_confirmed_cases_seven_day_per_100k\": 125.15644555694618}, {\"name\": \"Playa Del Rey\", \"date\": \"2020-12-14\", \"new_confirmed_cases_seven_day_per_100k\": 156.44555694618273}, {\"name\": \"Playa Del Rey\", \"date\": \"2020-12-15\", \"new_confirmed_cases_seven_day_per_100k\": 93.86733416770964}, {\"name\": \"Playa Del Rey\", \"date\": \"2020-12-16\", \"new_confirmed_cases_seven_day_per_100k\": 125.15644555694618}, {\"name\": \"Playa Del Rey\", \"date\": \"2020-12-17\", \"new_confirmed_cases_seven_day_per_100k\": 125.15644555694618}, {\"name\": \"Playa Del Rey\", \"date\": \"2020-12-18\", \"new_confirmed_cases_seven_day_per_100k\": 125.15644555694618}, {\"name\": \"Playa Del Rey\", \"date\": \"2020-12-19\", \"new_confirmed_cases_seven_day_per_100k\": 125.15644555694618}, {\"name\": \"Playa Del Rey\", \"date\": \"2020-12-20\", \"new_confirmed_cases_seven_day_per_100k\": 125.15644555694618}, {\"name\": \"Playa Del Rey\", \"date\": \"2020-12-21\", \"new_confirmed_cases_seven_day_per_100k\": 93.86733416770964}, {\"name\": \"Playa Del Rey\", \"date\": \"2020-12-22\", \"new_confirmed_cases_seven_day_per_100k\": 93.86733416770964}, {\"name\": \"Playa Del Rey\", \"date\": \"2020-12-23\", \"new_confirmed_cases_seven_day_per_100k\": 93.86733416770964}, {\"name\": \"Playa Del Rey\", \"date\": \"2020-12-24\", \"new_confirmed_cases_seven_day_per_100k\": 93.86733416770964}, {\"name\": \"Playa Del Rey\", \"date\": \"2020-12-25\", \"new_confirmed_cases_seven_day_per_100k\": 93.86733416770964}, {\"name\": \"Playa Del Rey\", \"date\": \"2020-12-26\", \"new_confirmed_cases_seven_day_per_100k\": 125.15644555694618}, {\"name\": \"Playa Del Rey\", \"date\": \"2020-12-27\", \"new_confirmed_cases_seven_day_per_100k\": 125.15644555694618}, {\"name\": \"Playa Del Rey\", \"date\": \"2020-12-28\", \"new_confirmed_cases_seven_day_per_100k\": 93.86733416770964}, {\"name\": \"Playa Del Rey\", \"date\": \"2020-12-29\", \"new_confirmed_cases_seven_day_per_100k\": 93.86733416770964}, {\"name\": \"Playa Del Rey\", \"date\": \"2020-12-30\", \"new_confirmed_cases_seven_day_per_100k\": 62.57822277847309}, {\"name\": \"Playa Del Rey\", \"date\": \"2020-12-31\", \"new_confirmed_cases_seven_day_per_100k\": 187.7346683354193}]}}, {\"mode\": \"vega-lite\"});\n",
       "</script>"
      ],
      "text/plain": [
       "alt.Chart(...)"
      ]
     },
     "execution_count": 61,
     "metadata": {},
     "output_type": "execute_result"
    }
   ],
   "source": [
    "alt.Chart(losangeles).mark_line().encode(\n",
    "    x=alt.X(\n",
    "        \"date:T\",\n",
    "        axis=alt.Axis(tickCount=5, format=(\"%b. %d\"), grid=False, tickColor=\"#ffffff\"),\n",
    "    ),\n",
    "    y=alt.Y(\n",
    "        \"new_confirmed_cases_seven_day_per_100k\",\n",
    "        title=\"\",\n",
    "        axis=alt.Axis(tickColor=\"#ffffff\"),\n",
    "    ),\n",
    "    facet=alt.Facet(\"name:N\", columns=2, title=\"\"),\n",
    ").properties(width=500, height=300).configure_axis()"
   ]
  },
  {
   "cell_type": "markdown",
   "id": "entertaining-accessory",
   "metadata": {},
   "source": [
    "### Change from Nov. 15 to Dec. 15?"
   ]
  },
  {
   "cell_type": "code",
   "execution_count": 62,
   "id": "formal-playing",
   "metadata": {},
   "outputs": [],
   "source": [
    "surge_change = places[\n",
    "    (places[\"date\"] == \"2020-11-15\") | (places[\"date\"] == \"2021-01-15\")\n",
    "][[\"name\", \"date\", \"new_confirmed_cases_seven_day_per_100k\"]]"
   ]
  },
  {
   "cell_type": "code",
   "execution_count": 63,
   "id": "above-apparatus",
   "metadata": {},
   "outputs": [
    {
     "data": {
      "text/html": [
       "<div>\n",
       "<style scoped>\n",
       "    .dataframe tbody tr th:only-of-type {\n",
       "        vertical-align: middle;\n",
       "    }\n",
       "\n",
       "    .dataframe tbody tr th {\n",
       "        vertical-align: top;\n",
       "    }\n",
       "\n",
       "    .dataframe thead th {\n",
       "        text-align: right;\n",
       "    }\n",
       "</style>\n",
       "<table border=\"1\" class=\"dataframe\">\n",
       "  <thead>\n",
       "    <tr style=\"text-align: right;\">\n",
       "      <th></th>\n",
       "      <th>name</th>\n",
       "      <th>date</th>\n",
       "      <th>new_confirmed_cases_seven_day_per_100k</th>\n",
       "    </tr>\n",
       "  </thead>\n",
       "  <tbody>\n",
       "    <tr>\n",
       "      <th>66869</th>\n",
       "      <td>Acton</td>\n",
       "      <td>2020-11-15</td>\n",
       "      <td>75.272864</td>\n",
       "    </tr>\n",
       "    <tr>\n",
       "      <th>66930</th>\n",
       "      <td>Acton</td>\n",
       "      <td>2021-01-15</td>\n",
       "      <td>426.546230</td>\n",
       "    </tr>\n",
       "    <tr>\n",
       "      <th>67201</th>\n",
       "      <td>Adams-Normandie</td>\n",
       "      <td>2020-11-15</td>\n",
       "      <td>207.266520</td>\n",
       "    </tr>\n",
       "    <tr>\n",
       "      <th>67262</th>\n",
       "      <td>Adams-Normandie</td>\n",
       "      <td>2021-01-15</td>\n",
       "      <td>902.218971</td>\n",
       "    </tr>\n",
       "    <tr>\n",
       "      <th>67533</th>\n",
       "      <td>Agoura Hills</td>\n",
       "      <td>2020-11-15</td>\n",
       "      <td>71.828760</td>\n",
       "    </tr>\n",
       "  </tbody>\n",
       "</table>\n",
       "</div>"
      ],
      "text/plain": [
       "                  name        date  new_confirmed_cases_seven_day_per_100k\n",
       "66869            Acton  2020-11-15                               75.272864\n",
       "66930            Acton  2021-01-15                              426.546230\n",
       "67201  Adams-Normandie  2020-11-15                              207.266520\n",
       "67262  Adams-Normandie  2021-01-15                              902.218971\n",
       "67533     Agoura Hills  2020-11-15                               71.828760"
      ]
     },
     "execution_count": 63,
     "metadata": {},
     "output_type": "execute_result"
    }
   ],
   "source": [
    "surge_change.head()"
   ]
  },
  {
   "cell_type": "code",
   "execution_count": 64,
   "id": "finnish-hardware",
   "metadata": {},
   "outputs": [],
   "source": [
    "surge_change_pivot = (\n",
    "    pd.pivot_table(\n",
    "        surge_change[surge_change[\"new_confirmed_cases_seven_day_per_100k\"] > 0],\n",
    "        values=\"new_confirmed_cases_seven_day_per_100k\",\n",
    "        index=[\"name\"],\n",
    "        columns=[\"date\"],\n",
    "        fill_value=0,\n",
    "    )\n",
    "    .dropna()\n",
    "    .reset_index()\n",
    ")"
   ]
  },
  {
   "cell_type": "code",
   "execution_count": null,
   "id": "limiting-civilization",
   "metadata": {},
   "outputs": [],
   "source": []
  },
  {
   "cell_type": "code",
   "execution_count": 65,
   "id": "recreational-thunder",
   "metadata": {},
   "outputs": [],
   "source": [
    "surge_change_pivot.rename(\n",
    "    columns={\"2020-11-15\": \"mid_november\", \"2021-01-15\": \"mid_january\"}, inplace=True\n",
    ")"
   ]
  },
  {
   "cell_type": "code",
   "execution_count": 66,
   "id": "faced-opportunity",
   "metadata": {},
   "outputs": [],
   "source": [
    "surge_change_pivot[[\"mid_november\", \"mid_january\"]] = round(\n",
    "    surge_change_pivot[[\"mid_november\", \"mid_january\"]], 2\n",
    ")"
   ]
  },
  {
   "cell_type": "code",
   "execution_count": 67,
   "id": "universal-trigger",
   "metadata": {},
   "outputs": [],
   "source": [
    "surge_change_pivot[\"change\"] = round(\n",
    "    (\n",
    "        (surge_change_pivot[\"mid_january\"] - surge_change_pivot[\"mid_november\"])\n",
    "        / surge_change_pivot[\"mid_november\"]\n",
    "    )\n",
    "    * 100,\n",
    "    2,\n",
    ")"
   ]
  },
  {
   "cell_type": "code",
   "execution_count": 68,
   "id": "driving-employer",
   "metadata": {},
   "outputs": [
    {
     "data": {
      "text/html": [
       "<div>\n",
       "<style scoped>\n",
       "    .dataframe tbody tr th:only-of-type {\n",
       "        vertical-align: middle;\n",
       "    }\n",
       "\n",
       "    .dataframe tbody tr th {\n",
       "        vertical-align: top;\n",
       "    }\n",
       "\n",
       "    .dataframe thead th {\n",
       "        text-align: right;\n",
       "    }\n",
       "</style>\n",
       "<table border=\"1\" class=\"dataframe\">\n",
       "  <thead>\n",
       "    <tr style=\"text-align: right;\">\n",
       "      <th>date</th>\n",
       "      <th>name</th>\n",
       "      <th>mid_november</th>\n",
       "      <th>mid_january</th>\n",
       "      <th>change</th>\n",
       "    </tr>\n",
       "  </thead>\n",
       "  <tbody>\n",
       "    <tr>\n",
       "      <th>118</th>\n",
       "      <td>La Habra Heights</td>\n",
       "      <td>0.00</td>\n",
       "      <td>18.33</td>\n",
       "      <td>inf</td>\n",
       "    </tr>\n",
       "    <tr>\n",
       "      <th>15</th>\n",
       "      <td>Avalon</td>\n",
       "      <td>0.00</td>\n",
       "      <td>51.69</td>\n",
       "      <td>inf</td>\n",
       "    </tr>\n",
       "    <tr>\n",
       "      <th>194</th>\n",
       "      <td>Rolling Hills</td>\n",
       "      <td>0.00</td>\n",
       "      <td>309.28</td>\n",
       "      <td>inf</td>\n",
       "    </tr>\n",
       "    <tr>\n",
       "      <th>242</th>\n",
       "      <td>Unincorporated - Angeles National Forest</td>\n",
       "      <td>0.00</td>\n",
       "      <td>160.64</td>\n",
       "      <td>inf</td>\n",
       "    </tr>\n",
       "    <tr>\n",
       "      <th>275</th>\n",
       "      <td>West Antelope Valley</td>\n",
       "      <td>0.00</td>\n",
       "      <td>661.81</td>\n",
       "      <td>inf</td>\n",
       "    </tr>\n",
       "    <tr>\n",
       "      <th>241</th>\n",
       "      <td>Twin Lakes/Oat Mountain</td>\n",
       "      <td>0.00</td>\n",
       "      <td>482.51</td>\n",
       "      <td>inf</td>\n",
       "    </tr>\n",
       "    <tr>\n",
       "      <th>112</th>\n",
       "      <td>Irwindale</td>\n",
       "      <td>0.00</td>\n",
       "      <td>1370.80</td>\n",
       "      <td>inf</td>\n",
       "    </tr>\n",
       "    <tr>\n",
       "      <th>127</th>\n",
       "      <td>Lake Manor</td>\n",
       "      <td>0.00</td>\n",
       "      <td>730.37</td>\n",
       "      <td>inf</td>\n",
       "    </tr>\n",
       "    <tr>\n",
       "      <th>250</th>\n",
       "      <td>Unincorporated - Monrovia</td>\n",
       "      <td>25.77</td>\n",
       "      <td>747.23</td>\n",
       "      <td>2799.61</td>\n",
       "    </tr>\n",
       "    <tr>\n",
       "      <th>282</th>\n",
       "      <td>West Rancho Dominguez</td>\n",
       "      <td>73.58</td>\n",
       "      <td>1986.75</td>\n",
       "      <td>2600.12</td>\n",
       "    </tr>\n",
       "    <tr>\n",
       "      <th>205</th>\n",
       "      <td>San Marino</td>\n",
       "      <td>15.06</td>\n",
       "      <td>316.34</td>\n",
       "      <td>2000.53</td>\n",
       "    </tr>\n",
       "    <tr>\n",
       "      <th>73</th>\n",
       "      <td>El Camino Village</td>\n",
       "      <td>45.50</td>\n",
       "      <td>898.65</td>\n",
       "      <td>1875.05</td>\n",
       "    </tr>\n",
       "    <tr>\n",
       "      <th>121</th>\n",
       "      <td>La Rambla</td>\n",
       "      <td>48.19</td>\n",
       "      <td>819.28</td>\n",
       "      <td>1600.10</td>\n",
       "    </tr>\n",
       "    <tr>\n",
       "      <th>273</th>\n",
       "      <td>Wellington Square</td>\n",
       "      <td>81.38</td>\n",
       "      <td>1281.79</td>\n",
       "      <td>1475.07</td>\n",
       "    </tr>\n",
       "    <tr>\n",
       "      <th>268</th>\n",
       "      <td>View Heights</td>\n",
       "      <td>54.14</td>\n",
       "      <td>757.99</td>\n",
       "      <td>1300.06</td>\n",
       "    </tr>\n",
       "    <tr>\n",
       "      <th>132</th>\n",
       "      <td>Leimert Park</td>\n",
       "      <td>59.07</td>\n",
       "      <td>774.53</td>\n",
       "      <td>1211.21</td>\n",
       "    </tr>\n",
       "    <tr>\n",
       "      <th>237</th>\n",
       "      <td>Toluca Terrace</td>\n",
       "      <td>76.57</td>\n",
       "      <td>995.41</td>\n",
       "      <td>1200.00</td>\n",
       "    </tr>\n",
       "    <tr>\n",
       "      <th>114</th>\n",
       "      <td>Kagel/Lopez Canyons</td>\n",
       "      <td>70.82</td>\n",
       "      <td>849.86</td>\n",
       "      <td>1100.03</td>\n",
       "    </tr>\n",
       "    <tr>\n",
       "      <th>8</th>\n",
       "      <td>Angelino Heights</td>\n",
       "      <td>79.94</td>\n",
       "      <td>959.23</td>\n",
       "      <td>1099.94</td>\n",
       "    </tr>\n",
       "    <tr>\n",
       "      <th>90</th>\n",
       "      <td>Gramercy Place</td>\n",
       "      <td>92.90</td>\n",
       "      <td>1096.25</td>\n",
       "      <td>1080.03</td>\n",
       "    </tr>\n",
       "  </tbody>\n",
       "</table>\n",
       "</div>"
      ],
      "text/plain": [
       "date                                      name  mid_november  mid_january  \\\n",
       "118                           La Habra Heights          0.00        18.33   \n",
       "15                                      Avalon          0.00        51.69   \n",
       "194                              Rolling Hills          0.00       309.28   \n",
       "242   Unincorporated - Angeles National Forest          0.00       160.64   \n",
       "275                       West Antelope Valley          0.00       661.81   \n",
       "241                    Twin Lakes/Oat Mountain          0.00       482.51   \n",
       "112                                  Irwindale          0.00      1370.80   \n",
       "127                                 Lake Manor          0.00       730.37   \n",
       "250                  Unincorporated - Monrovia         25.77       747.23   \n",
       "282                      West Rancho Dominguez         73.58      1986.75   \n",
       "205                                 San Marino         15.06       316.34   \n",
       "73                           El Camino Village         45.50       898.65   \n",
       "121                                  La Rambla         48.19       819.28   \n",
       "273                          Wellington Square         81.38      1281.79   \n",
       "268                               View Heights         54.14       757.99   \n",
       "132                               Leimert Park         59.07       774.53   \n",
       "237                             Toluca Terrace         76.57       995.41   \n",
       "114                        Kagel/Lopez Canyons         70.82       849.86   \n",
       "8                             Angelino Heights         79.94       959.23   \n",
       "90                              Gramercy Place         92.90      1096.25   \n",
       "\n",
       "date   change  \n",
       "118       inf  \n",
       "15        inf  \n",
       "194       inf  \n",
       "242       inf  \n",
       "275       inf  \n",
       "241       inf  \n",
       "112       inf  \n",
       "127       inf  \n",
       "250   2799.61  \n",
       "282   2600.12  \n",
       "205   2000.53  \n",
       "73    1875.05  \n",
       "121   1600.10  \n",
       "273   1475.07  \n",
       "268   1300.06  \n",
       "132   1211.21  \n",
       "237   1200.00  \n",
       "114   1100.03  \n",
       "8     1099.94  \n",
       "90    1080.03  "
      ]
     },
     "execution_count": 68,
     "metadata": {},
     "output_type": "execute_result"
    }
   ],
   "source": [
    "surge_change_pivot.sort_values(\"change\", ascending=False).head(20)"
   ]
  },
  {
   "cell_type": "code",
   "execution_count": 69,
   "id": "unique-dictionary",
   "metadata": {},
   "outputs": [],
   "source": [
    "surge_change_pivot_min_max = pd.concat(\n",
    "    [\n",
    "        surge_change_pivot.sort_values(\"change\", ascending=False).head(20),\n",
    "        surge_change_pivot.sort_values(\"change\", ascending=False).tail(20),\n",
    "    ]\n",
    ")"
   ]
  },
  {
   "cell_type": "code",
   "execution_count": 70,
   "id": "recognized-yorkshire",
   "metadata": {},
   "outputs": [
    {
     "data": {
      "text/html": [
       "<div>\n",
       "<style scoped>\n",
       "    .dataframe tbody tr th:only-of-type {\n",
       "        vertical-align: middle;\n",
       "    }\n",
       "\n",
       "    .dataframe tbody tr th {\n",
       "        vertical-align: top;\n",
       "    }\n",
       "\n",
       "    .dataframe thead th {\n",
       "        text-align: right;\n",
       "    }\n",
       "</style>\n",
       "<table border=\"1\" class=\"dataframe\">\n",
       "  <thead>\n",
       "    <tr style=\"text-align: right;\">\n",
       "      <th>date</th>\n",
       "      <th>name</th>\n",
       "      <th>mid_november</th>\n",
       "      <th>mid_january</th>\n",
       "      <th>change</th>\n",
       "    </tr>\n",
       "  </thead>\n",
       "  <tbody>\n",
       "    <tr>\n",
       "      <th>118</th>\n",
       "      <td>La Habra Heights</td>\n",
       "      <td>0.0</td>\n",
       "      <td>18.33</td>\n",
       "      <td>inf</td>\n",
       "    </tr>\n",
       "    <tr>\n",
       "      <th>15</th>\n",
       "      <td>Avalon</td>\n",
       "      <td>0.0</td>\n",
       "      <td>51.69</td>\n",
       "      <td>inf</td>\n",
       "    </tr>\n",
       "    <tr>\n",
       "      <th>194</th>\n",
       "      <td>Rolling Hills</td>\n",
       "      <td>0.0</td>\n",
       "      <td>309.28</td>\n",
       "      <td>inf</td>\n",
       "    </tr>\n",
       "    <tr>\n",
       "      <th>242</th>\n",
       "      <td>Unincorporated - Angeles National Forest</td>\n",
       "      <td>0.0</td>\n",
       "      <td>160.64</td>\n",
       "      <td>inf</td>\n",
       "    </tr>\n",
       "    <tr>\n",
       "      <th>275</th>\n",
       "      <td>West Antelope Valley</td>\n",
       "      <td>0.0</td>\n",
       "      <td>661.81</td>\n",
       "      <td>inf</td>\n",
       "    </tr>\n",
       "  </tbody>\n",
       "</table>\n",
       "</div>"
      ],
      "text/plain": [
       "date                                      name  mid_november  mid_january  \\\n",
       "118                           La Habra Heights           0.0        18.33   \n",
       "15                                      Avalon           0.0        51.69   \n",
       "194                              Rolling Hills           0.0       309.28   \n",
       "242   Unincorporated - Angeles National Forest           0.0       160.64   \n",
       "275                       West Antelope Valley           0.0       661.81   \n",
       "\n",
       "date  change  \n",
       "118      inf  \n",
       "15       inf  \n",
       "194      inf  \n",
       "242      inf  \n",
       "275      inf  "
      ]
     },
     "execution_count": 70,
     "metadata": {},
     "output_type": "execute_result"
    }
   ],
   "source": [
    "surge_change_pivot_min_max.head()"
   ]
  },
  {
   "cell_type": "code",
   "execution_count": 71,
   "id": "numerous-sessions",
   "metadata": {},
   "outputs": [],
   "source": [
    "surge_change_pivot_min_max.rename(\n",
    "    columns={\"mid_november\": \"2020-11-15\", \"mid_january\": \"2021-01-15\"}, inplace=True\n",
    ")"
   ]
  },
  {
   "cell_type": "code",
   "execution_count": 72,
   "id": "fifth-decimal",
   "metadata": {},
   "outputs": [],
   "source": [
    "surge_change_melt = surge_change_pivot_min_max.melt(id_vars=[\"name\"], var_name=\"date\")"
   ]
  },
  {
   "cell_type": "code",
   "execution_count": 73,
   "id": "piano-formation",
   "metadata": {},
   "outputs": [],
   "source": [
    "surge_change_melt.rename(columns={\"value\": \"rate\"}, inplace=True)"
   ]
  },
  {
   "cell_type": "code",
   "execution_count": 74,
   "id": "documentary-candle",
   "metadata": {},
   "outputs": [],
   "source": [
    "surge_change_melt = surge_change_melt[surge_change_melt[\"date\"] != \"change\"]"
   ]
  },
  {
   "cell_type": "code",
   "execution_count": 75,
   "id": "frequent-standing",
   "metadata": {},
   "outputs": [],
   "source": [
    "surge_change_melt[\"date\"] = surge_change_melt[\"date\"]"
   ]
  },
  {
   "cell_type": "code",
   "execution_count": 76,
   "id": "boring-clothing",
   "metadata": {},
   "outputs": [
    {
     "data": {
      "text/html": [
       "<div>\n",
       "<style scoped>\n",
       "    .dataframe tbody tr th:only-of-type {\n",
       "        vertical-align: middle;\n",
       "    }\n",
       "\n",
       "    .dataframe tbody tr th {\n",
       "        vertical-align: top;\n",
       "    }\n",
       "\n",
       "    .dataframe thead th {\n",
       "        text-align: right;\n",
       "    }\n",
       "</style>\n",
       "<table border=\"1\" class=\"dataframe\">\n",
       "  <thead>\n",
       "    <tr style=\"text-align: right;\">\n",
       "      <th></th>\n",
       "      <th>name</th>\n",
       "      <th>date</th>\n",
       "      <th>rate</th>\n",
       "    </tr>\n",
       "  </thead>\n",
       "  <tbody>\n",
       "    <tr>\n",
       "      <th>0</th>\n",
       "      <td>La Habra Heights</td>\n",
       "      <td>2020-11-15</td>\n",
       "      <td>0.0</td>\n",
       "    </tr>\n",
       "    <tr>\n",
       "      <th>1</th>\n",
       "      <td>Avalon</td>\n",
       "      <td>2020-11-15</td>\n",
       "      <td>0.0</td>\n",
       "    </tr>\n",
       "    <tr>\n",
       "      <th>2</th>\n",
       "      <td>Rolling Hills</td>\n",
       "      <td>2020-11-15</td>\n",
       "      <td>0.0</td>\n",
       "    </tr>\n",
       "    <tr>\n",
       "      <th>3</th>\n",
       "      <td>Unincorporated - Angeles National Forest</td>\n",
       "      <td>2020-11-15</td>\n",
       "      <td>0.0</td>\n",
       "    </tr>\n",
       "    <tr>\n",
       "      <th>4</th>\n",
       "      <td>West Antelope Valley</td>\n",
       "      <td>2020-11-15</td>\n",
       "      <td>0.0</td>\n",
       "    </tr>\n",
       "  </tbody>\n",
       "</table>\n",
       "</div>"
      ],
      "text/plain": [
       "                                       name        date  rate\n",
       "0                          La Habra Heights  2020-11-15   0.0\n",
       "1                                    Avalon  2020-11-15   0.0\n",
       "2                             Rolling Hills  2020-11-15   0.0\n",
       "3  Unincorporated - Angeles National Forest  2020-11-15   0.0\n",
       "4                      West Antelope Valley  2020-11-15   0.0"
      ]
     },
     "execution_count": 76,
     "metadata": {},
     "output_type": "execute_result"
    }
   ],
   "source": [
    "surge_change_melt.head()"
   ]
  },
  {
   "cell_type": "markdown",
   "id": "canadian-pierre",
   "metadata": {},
   "source": [
    "---"
   ]
  },
  {
   "cell_type": "code",
   "execution_count": 77,
   "id": "sized-toddler",
   "metadata": {},
   "outputs": [
    {
     "data": {
      "text/html": [
       "\n",
       "<div id=\"altair-viz-17d3772814394c2b9031b306c3cd195f\"></div>\n",
       "<script type=\"text/javascript\">\n",
       "  (function(spec, embedOpt){\n",
       "    let outputDiv = document.currentScript.previousElementSibling;\n",
       "    if (outputDiv.id !== \"altair-viz-17d3772814394c2b9031b306c3cd195f\") {\n",
       "      outputDiv = document.getElementById(\"altair-viz-17d3772814394c2b9031b306c3cd195f\");\n",
       "    }\n",
       "    const paths = {\n",
       "      \"vega\": \"https://cdn.jsdelivr.net/npm//vega@5?noext\",\n",
       "      \"vega-lib\": \"https://cdn.jsdelivr.net/npm//vega-lib?noext\",\n",
       "      \"vega-lite\": \"https://cdn.jsdelivr.net/npm//vega-lite@4.8.1?noext\",\n",
       "      \"vega-embed\": \"https://cdn.jsdelivr.net/npm//vega-embed@6?noext\",\n",
       "    };\n",
       "\n",
       "    function loadScript(lib) {\n",
       "      return new Promise(function(resolve, reject) {\n",
       "        var s = document.createElement('script');\n",
       "        s.src = paths[lib];\n",
       "        s.async = true;\n",
       "        s.onload = () => resolve(paths[lib]);\n",
       "        s.onerror = () => reject(`Error loading script: ${paths[lib]}`);\n",
       "        document.getElementsByTagName(\"head\")[0].appendChild(s);\n",
       "      });\n",
       "    }\n",
       "\n",
       "    function showError(err) {\n",
       "      outputDiv.innerHTML = `<div class=\"error\" style=\"color:red;\">${err}</div>`;\n",
       "      throw err;\n",
       "    }\n",
       "\n",
       "    function displayChart(vegaEmbed) {\n",
       "      vegaEmbed(outputDiv, spec, embedOpt)\n",
       "        .catch(err => showError(`Javascript Error: ${err.message}<br>This usually means there's a typo in your chart specification. See the javascript console for the full traceback.`));\n",
       "    }\n",
       "\n",
       "    if(typeof define === \"function\" && define.amd) {\n",
       "      requirejs.config({paths});\n",
       "      require([\"vega-embed\"], displayChart, err => showError(`Error loading script: ${err.message}`));\n",
       "    } else if (typeof vegaEmbed === \"function\") {\n",
       "      displayChart(vegaEmbed);\n",
       "    } else {\n",
       "      loadScript(\"vega\")\n",
       "        .then(() => loadScript(\"vega-lite\"))\n",
       "        .then(() => loadScript(\"vega-embed\"))\n",
       "        .catch(showError)\n",
       "        .then(() => displayChart(vegaEmbed));\n",
       "    }\n",
       "  })({\"config\": {\"view\": {\"width\": 800, \"height\": 450}, \"background\": \"#ffffff\", \"title\": {\"anchor\": \"start\", \"font\": \"Benton Gothic Bold, sans\", \"fontColor\": \"#000000\", \"fontSize\": 22, \"fontWeight\": \"normal\"}, \"arc\": {\"fill\": \"#82c6df\"}, \"area\": {\"fill\": \"#82c6df\"}, \"line\": {\"stroke\": \"#82c6df\", \"strokeWidth\": 3}, \"path\": {\"stroke\": \"#82c6df\"}, \"rect\": {\"fill\": \"#82c6df\"}, \"shape\": {\"stroke\": \"#82c6df\"}, \"bar\": {\"fill\": \"#82c6df\"}, \"point\": {\"stroke\": \"#82c6df\"}, \"symbol\": {\"fill\": \"#82c6df\", \"size\": 30}, \"axis\": {\"titleFont\": \"Benton Gothic Bold, sans\", \"titleFontSize\": 13, \"titleFontWeight\": \"normal\", \"labelFont\": \"Benton Gothic, sans\", \"labelFontSize\": 11.5, \"labelFontWeight\": \"normal\"}, \"axisX\": {\"labelAngle\": 0, \"labelPadding\": 4, \"tickSize\": 3}, \"axisY\": {\"labelBaseline\": \"middle\", \"maxExtent\": 45, \"minExtent\": 45, \"tickSize\": 2, \"titleAlign\": \"left\", \"titleAngle\": 0, \"titleX\": -45, \"titleY\": -11}, \"legend\": {\"titleFont\": \"Benton Gothic Bold, sans\", \"titleFontSize\": 13, \"titleFontWeight\": \"normal\", \"symbolType\": \"square\", \"labelFont\": \"Benton Gothic, sans\", \"labelFontSize\": 11.5}, \"range\": {\"category\": [\"#3580b1\", \"#ec8431\", \"#ab7fb4\", \"#c89d29\", \"#adc839\", \"#829eb1\"], \"diverging\": [\"#e68a4f\", \"#f4bb6a\", \"#f9e39c\", \"#dadfe2\", \"#a6b7c6\", \"#849eae\"], \"heatmap\": [\"#fbf2c7\", \"#f9e39c\", \"#f8d36e\", \"#f4bb6a\", \"#e68a4f\", \"#d15a40\", \"#ab4232\"], \"ordinal\": [\"#fbf2c7\", \"#f9e39c\", \"#f8d36e\", \"#f4bb6a\", \"#e68a4f\", \"#d15a40\", \"#ab4232\"], \"ramp\": [\"#fbf2c7\", \"#f9e39c\", \"#f8d36e\", \"#f4bb6a\", \"#e68a4f\", \"#d15a40\", \"#ab4232\"]}}, \"data\": {\"name\": \"data-34ec8adfab2d2b577be2f7706343468c\"}, \"mark\": {\"type\": \"line\", \"color\": \"red\", \"size\": 5}, \"encoding\": {\"facet\": {\"type\": \"nominal\", \"columns\": 8, \"field\": \"name\"}, \"x\": {\"type\": \"ordinal\", \"field\": \"date\"}, \"y\": {\"type\": \"quantitative\", \"field\": \"rate\", \"title\": \"\"}}, \"height\": 150, \"title\": \"Places with largest, smallest coronavirus case rate increases\", \"width\": 150, \"$schema\": \"https://vega.github.io/schema/vega-lite/v4.8.1.json\", \"datasets\": {\"data-34ec8adfab2d2b577be2f7706343468c\": [{\"name\": \"La Habra Heights\", \"date\": \"2020-11-15\", \"rate\": 0.0}, {\"name\": \"Avalon\", \"date\": \"2020-11-15\", \"rate\": 0.0}, {\"name\": \"Rolling Hills\", \"date\": \"2020-11-15\", \"rate\": 0.0}, {\"name\": \"Unincorporated - Angeles National Forest\", \"date\": \"2020-11-15\", \"rate\": 0.0}, {\"name\": \"West Antelope Valley\", \"date\": \"2020-11-15\", \"rate\": 0.0}, {\"name\": \"Twin Lakes/Oat Mountain\", \"date\": \"2020-11-15\", \"rate\": 0.0}, {\"name\": \"Irwindale\", \"date\": \"2020-11-15\", \"rate\": 0.0}, {\"name\": \"Lake Manor\", \"date\": \"2020-11-15\", \"rate\": 0.0}, {\"name\": \"Unincorporated - Monrovia\", \"date\": \"2020-11-15\", \"rate\": 25.77}, {\"name\": \"West Rancho Dominguez\", \"date\": \"2020-11-15\", \"rate\": 73.58}, {\"name\": \"San Marino\", \"date\": \"2020-11-15\", \"rate\": 15.06}, {\"name\": \"El Camino Village\", \"date\": \"2020-11-15\", \"rate\": 45.5}, {\"name\": \"La Rambla\", \"date\": \"2020-11-15\", \"rate\": 48.19}, {\"name\": \"Wellington Square\", \"date\": \"2020-11-15\", \"rate\": 81.38}, {\"name\": \"View Heights\", \"date\": \"2020-11-15\", \"rate\": 54.14}, {\"name\": \"Leimert Park\", \"date\": \"2020-11-15\", \"rate\": 59.07}, {\"name\": \"Toluca Terrace\", \"date\": \"2020-11-15\", \"rate\": 76.57}, {\"name\": \"Kagel/Lopez Canyons\", \"date\": \"2020-11-15\", \"rate\": 70.82}, {\"name\": \"Angelino Heights\", \"date\": \"2020-11-15\", \"rate\": 79.94}, {\"name\": \"Gramercy Place\", \"date\": \"2020-11-15\", \"rate\": 92.9}, {\"name\": \"Mandeville Canyon\", \"date\": \"2020-11-15\", \"rate\": 96.03}, {\"name\": \"Del Aire\", \"date\": \"2020-11-15\", \"rate\": 91.05}, {\"name\": \"Park La Brea\", \"date\": \"2020-11-15\", \"rate\": 117.82}, {\"name\": \"Rancho Dominguez\", \"date\": \"2020-11-15\", \"rate\": 375.8}, {\"name\": \"White Fence Farms\", \"date\": \"2020-11-15\", \"rate\": 298.67}, {\"name\": \"Malibu\", \"date\": \"2020-11-15\", \"rate\": 100.3}, {\"name\": \"Bouquet Canyon\", \"date\": \"2020-11-15\", \"rate\": 186.39}, {\"name\": \"Westfield/Academy Hills\", \"date\": \"2020-11-15\", \"rate\": 76.92}, {\"name\": \"Hi Vista\", \"date\": \"2020-11-15\", \"rate\": 182.15}, {\"name\": \"Leona Valley\", \"date\": \"2020-11-15\", \"rate\": 114.22}, {\"name\": \"Del Sur\", \"date\": \"2020-11-15\", \"rate\": 331.26}, {\"name\": \"Agua Dulce\", \"date\": \"2020-11-15\", \"rate\": 240.5}, {\"name\": \"Unincorporated - Pomona\", \"date\": \"2020-11-15\", \"rate\": 103.2}, {\"name\": \"West Hollywood\", \"date\": \"2020-11-15\", \"rate\": 211.09}, {\"name\": \"Palisades Highlands\", \"date\": \"2020-11-15\", \"rate\": 104.0}, {\"name\": \"Toluca Woods\", \"date\": \"2020-11-15\", \"rate\": 322.93}, {\"name\": \"North Lancaster\", \"date\": \"2020-11-15\", \"rate\": 751.25}, {\"name\": \"Sunrise Village\", \"date\": \"2020-11-15\", \"rate\": 540.12}, {\"name\": \"Playa Del Rey\", \"date\": \"2020-11-15\", \"rate\": 250.31}, {\"name\": \"San Pasqual\", \"date\": \"2020-11-15\", \"rate\": 98.28}, {\"name\": \"La Habra Heights\", \"date\": \"2021-01-15\", \"rate\": 18.33}, {\"name\": \"Avalon\", \"date\": \"2021-01-15\", \"rate\": 51.69}, {\"name\": \"Rolling Hills\", \"date\": \"2021-01-15\", \"rate\": 309.28}, {\"name\": \"Unincorporated - Angeles National Forest\", \"date\": \"2021-01-15\", \"rate\": 160.64}, {\"name\": \"West Antelope Valley\", \"date\": \"2021-01-15\", \"rate\": 661.81}, {\"name\": \"Twin Lakes/Oat Mountain\", \"date\": \"2021-01-15\", \"rate\": 482.51}, {\"name\": \"Irwindale\", \"date\": \"2021-01-15\", \"rate\": 1370.8}, {\"name\": \"Lake Manor\", \"date\": \"2021-01-15\", \"rate\": 730.37}, {\"name\": \"Unincorporated - Monrovia\", \"date\": \"2021-01-15\", \"rate\": 747.23}, {\"name\": \"West Rancho Dominguez\", \"date\": \"2021-01-15\", \"rate\": 1986.75}, {\"name\": \"San Marino\", \"date\": \"2021-01-15\", \"rate\": 316.34}, {\"name\": \"El Camino Village\", \"date\": \"2021-01-15\", \"rate\": 898.65}, {\"name\": \"La Rambla\", \"date\": \"2021-01-15\", \"rate\": 819.28}, {\"name\": \"Wellington Square\", \"date\": \"2021-01-15\", \"rate\": 1281.79}, {\"name\": \"View Heights\", \"date\": \"2021-01-15\", \"rate\": 757.99}, {\"name\": \"Leimert Park\", \"date\": \"2021-01-15\", \"rate\": 774.53}, {\"name\": \"Toluca Terrace\", \"date\": \"2021-01-15\", \"rate\": 995.41}, {\"name\": \"Kagel/Lopez Canyons\", \"date\": \"2021-01-15\", \"rate\": 849.86}, {\"name\": \"Angelino Heights\", \"date\": \"2021-01-15\", \"rate\": 959.23}, {\"name\": \"Gramercy Place\", \"date\": \"2021-01-15\", \"rate\": 1096.25}, {\"name\": \"Mandeville Canyon\", \"date\": \"2021-01-15\", \"rate\": 256.08}, {\"name\": \"Del Aire\", \"date\": \"2021-01-15\", \"rate\": 227.63}, {\"name\": \"Park La Brea\", \"date\": \"2021-01-15\", \"rate\": 265.1}, {\"name\": \"Rancho Dominguez\", \"date\": \"2021-01-15\", \"rate\": 789.18}, {\"name\": \"White Fence Farms\", \"date\": \"2021-01-15\", \"rate\": 624.49}, {\"name\": \"Malibu\", \"date\": \"2021-01-15\", \"rate\": 208.32}, {\"name\": \"Bouquet Canyon\", \"date\": \"2021-01-15\", \"rate\": 372.79}, {\"name\": \"Westfield/Academy Hills\", \"date\": \"2021-01-15\", \"rate\": 153.85}, {\"name\": \"Hi Vista\", \"date\": \"2021-01-15\", \"rate\": 364.3}, {\"name\": \"Leona Valley\", \"date\": \"2021-01-15\", \"rate\": 228.44}, {\"name\": \"Del Sur\", \"date\": \"2021-01-15\", \"rate\": 579.71}, {\"name\": \"Agua Dulce\", \"date\": \"2021-01-15\", \"rate\": 408.85}, {\"name\": \"Unincorporated - Pomona\", \"date\": \"2021-01-15\", \"rate\": 154.8}, {\"name\": \"West Hollywood\", \"date\": \"2021-01-15\", \"rate\": 308.52}, {\"name\": \"Palisades Highlands\", \"date\": \"2021-01-15\", \"rate\": 130.01}, {\"name\": \"Toluca Woods\", \"date\": \"2021-01-15\", \"rate\": 376.75}, {\"name\": \"North Lancaster\", \"date\": \"2021-01-15\", \"rate\": 834.72}, {\"name\": \"Sunrise Village\", \"date\": \"2021-01-15\", \"rate\": 540.12}, {\"name\": \"Playa Del Rey\", \"date\": \"2021-01-15\", \"rate\": 187.73}, {\"name\": \"San Pasqual\", \"date\": \"2021-01-15\", \"rate\": 49.14}]}}, {\"mode\": \"vega-lite\"});\n",
       "</script>"
      ],
      "text/plain": [
       "alt.Chart(...)"
      ]
     },
     "execution_count": 77,
     "metadata": {},
     "output_type": "execute_result"
    }
   ],
   "source": [
    "alt.Chart(surge_change_melt).mark_line(size=5, color=\"red\").encode(\n",
    "    x=alt.X(\"date:O\"),\n",
    "    y=alt.Y(\"rate\", title=\"\"),\n",
    "    facet=alt.Facet(\"name\", columns=8),\n",
    ").properties(\n",
    "    height=150,\n",
    "    width=150,\n",
    "    title=\"Places with largest, smallest coronavirus case rate increases\",\n",
    ")"
   ]
  },
  {
   "cell_type": "code",
   "execution_count": null,
   "id": "secondary-beast",
   "metadata": {},
   "outputs": [],
   "source": []
  },
  {
   "cell_type": "code",
   "execution_count": null,
   "id": "imperial-prospect",
   "metadata": {},
   "outputs": [],
   "source": []
  },
  {
   "cell_type": "markdown",
   "id": "flexible-superintendent",
   "metadata": {},
   "source": [
    "---"
   ]
  },
  {
   "cell_type": "code",
   "execution_count": 78,
   "id": "conscious-founder",
   "metadata": {},
   "outputs": [],
   "source": [
    "places_map = gpd.read_file(\n",
    "    \"input/cities-neighborhoods-unincorporated-la-county.geojson\"\n",
    ").fillna(\"\")"
   ]
  },
  {
   "cell_type": "code",
   "execution_count": 79,
   "id": "incorrect-thread",
   "metadata": {},
   "outputs": [],
   "source": [
    "places_map[\"NAME\"] = np.where(\n",
    "    (places_map[\"LCITY\"] == \"Los Angeles\") | (places_map[\"LCITY\"] == \"Unincorporated\"),\n",
    "    places_map[\"COMMUNITY\"],\n",
    "    places_map[\"LCITY\"],\n",
    ")"
   ]
  },
  {
   "cell_type": "code",
   "execution_count": 80,
   "id": "generic-count",
   "metadata": {},
   "outputs": [],
   "source": [
    "places_map_geo = places_map.merge(\n",
    "    surge_change_pivot, left_on=\"NAME\", right_on=\"name\", how=\"inner\"\n",
    ")"
   ]
  },
  {
   "cell_type": "code",
   "execution_count": 81,
   "id": "burning-secretary",
   "metadata": {},
   "outputs": [
    {
     "data": {
      "text/plain": [
       "309"
      ]
     },
     "execution_count": 81,
     "metadata": {},
     "output_type": "execute_result"
    }
   ],
   "source": [
    "len(places_map_geo)"
   ]
  },
  {
   "cell_type": "code",
   "execution_count": 82,
   "id": "bearing-enemy",
   "metadata": {},
   "outputs": [
    {
     "data": {
      "text/html": [
       "<div>\n",
       "<style scoped>\n",
       "    .dataframe tbody tr th:only-of-type {\n",
       "        vertical-align: middle;\n",
       "    }\n",
       "\n",
       "    .dataframe tbody tr th {\n",
       "        vertical-align: top;\n",
       "    }\n",
       "\n",
       "    .dataframe thead th {\n",
       "        text-align: right;\n",
       "    }\n",
       "</style>\n",
       "<table border=\"1\" class=\"dataframe\">\n",
       "  <thead>\n",
       "    <tr style=\"text-align: right;\">\n",
       "      <th></th>\n",
       "      <th>OBJECTID</th>\n",
       "      <th>LCITY</th>\n",
       "      <th>COMMUNITY</th>\n",
       "      <th>LABEL</th>\n",
       "      <th>CONFIRMED</th>\n",
       "      <th>SUSPECTED</th>\n",
       "      <th>RECOVERED</th>\n",
       "      <th>DEATHS</th>\n",
       "      <th>Shape__Area</th>\n",
       "      <th>Shape__Length</th>\n",
       "      <th>geometry</th>\n",
       "      <th>NAME</th>\n",
       "      <th>name</th>\n",
       "      <th>mid_november</th>\n",
       "      <th>mid_january</th>\n",
       "      <th>change</th>\n",
       "    </tr>\n",
       "  </thead>\n",
       "  <tbody>\n",
       "    <tr>\n",
       "      <th>0</th>\n",
       "      <td>1</td>\n",
       "      <td>Agoura Hills</td>\n",
       "      <td></td>\n",
       "      <td>City of Agoura Hills</td>\n",
       "      <td>6.0</td>\n",
       "      <td></td>\n",
       "      <td></td>\n",
       "      <td></td>\n",
       "      <td>2.179401e+08</td>\n",
       "      <td>80374.083443</td>\n",
       "      <td>POLYGON ((-118.72865 34.16793, -118.73655 34.1...</td>\n",
       "      <td>Agoura Hills</td>\n",
       "      <td>Agoura Hills</td>\n",
       "      <td>71.83</td>\n",
       "      <td>397.45</td>\n",
       "      <td>453.32</td>\n",
       "    </tr>\n",
       "    <tr>\n",
       "      <th>1</th>\n",
       "      <td>10</td>\n",
       "      <td>Bellflower</td>\n",
       "      <td></td>\n",
       "      <td>City of Bellflower</td>\n",
       "      <td>10.0</td>\n",
       "      <td></td>\n",
       "      <td></td>\n",
       "      <td></td>\n",
       "      <td>1.723708e+08</td>\n",
       "      <td>59306.645225</td>\n",
       "      <td>POLYGON ((-118.10976 33.90982, -118.10984 33.9...</td>\n",
       "      <td>Bellflower</td>\n",
       "      <td>Bellflower</td>\n",
       "      <td>144.08</td>\n",
       "      <td>1130.76</td>\n",
       "      <td>684.81</td>\n",
       "    </tr>\n",
       "    <tr>\n",
       "      <th>2</th>\n",
       "      <td>11</td>\n",
       "      <td>Beverly Hills</td>\n",
       "      <td></td>\n",
       "      <td>City of Beverly Hills</td>\n",
       "      <td>21.0</td>\n",
       "      <td></td>\n",
       "      <td></td>\n",
       "      <td></td>\n",
       "      <td>1.592823e+08</td>\n",
       "      <td>86925.774581</td>\n",
       "      <td>POLYGON ((-118.39160 34.11243, -118.39230 34.1...</td>\n",
       "      <td>Beverly Hills</td>\n",
       "      <td>Beverly Hills</td>\n",
       "      <td>98.49</td>\n",
       "      <td>492.47</td>\n",
       "      <td>400.02</td>\n",
       "    </tr>\n",
       "    <tr>\n",
       "      <th>3</th>\n",
       "      <td>12</td>\n",
       "      <td>Burbank</td>\n",
       "      <td></td>\n",
       "      <td>City of Burbank</td>\n",
       "      <td>7.0</td>\n",
       "      <td></td>\n",
       "      <td></td>\n",
       "      <td></td>\n",
       "      <td>4.835028e+08</td>\n",
       "      <td>102151.396677</td>\n",
       "      <td>POLYGON ((-118.30781 34.16116, -118.30451 34.1...</td>\n",
       "      <td>Burbank</td>\n",
       "      <td>Burbank</td>\n",
       "      <td>146.48</td>\n",
       "      <td>600.86</td>\n",
       "      <td>310.20</td>\n",
       "    </tr>\n",
       "    <tr>\n",
       "      <th>4</th>\n",
       "      <td>13</td>\n",
       "      <td>Calabasas</td>\n",
       "      <td></td>\n",
       "      <td>City of Calabasas</td>\n",
       "      <td>7.0</td>\n",
       "      <td></td>\n",
       "      <td></td>\n",
       "      <td></td>\n",
       "      <td>3.836134e+08</td>\n",
       "      <td>149118.510757</td>\n",
       "      <td>POLYGON ((-118.69385 34.16856, -118.69454 34.1...</td>\n",
       "      <td>Calabasas</td>\n",
       "      <td>Calabasas</td>\n",
       "      <td>57.56</td>\n",
       "      <td>386.47</td>\n",
       "      <td>571.42</td>\n",
       "    </tr>\n",
       "  </tbody>\n",
       "</table>\n",
       "</div>"
      ],
      "text/plain": [
       "   OBJECTID          LCITY COMMUNITY                  LABEL CONFIRMED  \\\n",
       "0         1   Agoura Hills             City of Agoura Hills       6.0   \n",
       "1        10     Bellflower               City of Bellflower      10.0   \n",
       "2        11  Beverly Hills            City of Beverly Hills      21.0   \n",
       "3        12        Burbank                  City of Burbank       7.0   \n",
       "4        13      Calabasas                City of Calabasas       7.0   \n",
       "\n",
       "  SUSPECTED RECOVERED DEATHS   Shape__Area  Shape__Length  \\\n",
       "0                             2.179401e+08   80374.083443   \n",
       "1                             1.723708e+08   59306.645225   \n",
       "2                             1.592823e+08   86925.774581   \n",
       "3                             4.835028e+08  102151.396677   \n",
       "4                             3.836134e+08  149118.510757   \n",
       "\n",
       "                                            geometry           NAME  \\\n",
       "0  POLYGON ((-118.72865 34.16793, -118.73655 34.1...   Agoura Hills   \n",
       "1  POLYGON ((-118.10976 33.90982, -118.10984 33.9...     Bellflower   \n",
       "2  POLYGON ((-118.39160 34.11243, -118.39230 34.1...  Beverly Hills   \n",
       "3  POLYGON ((-118.30781 34.16116, -118.30451 34.1...        Burbank   \n",
       "4  POLYGON ((-118.69385 34.16856, -118.69454 34.1...      Calabasas   \n",
       "\n",
       "            name  mid_november  mid_january  change  \n",
       "0   Agoura Hills         71.83       397.45  453.32  \n",
       "1     Bellflower        144.08      1130.76  684.81  \n",
       "2  Beverly Hills         98.49       492.47  400.02  \n",
       "3        Burbank        146.48       600.86  310.20  \n",
       "4      Calabasas         57.56       386.47  571.42  "
      ]
     },
     "execution_count": 82,
     "metadata": {},
     "output_type": "execute_result"
    }
   ],
   "source": [
    "places_map_geo.head()"
   ]
  },
  {
   "cell_type": "markdown",
   "id": "alpha-serial",
   "metadata": {},
   "source": [
    "### Output geojson"
   ]
  },
  {
   "cell_type": "code",
   "execution_count": 83,
   "id": "liquid-turkish",
   "metadata": {},
   "outputs": [],
   "source": [
    "places_map_geo.to_file(\"output/places_map_geo.geojson\", driver=\"GeoJSON\")"
   ]
  },
  {
   "cell_type": "code",
   "execution_count": 84,
   "id": "cellular-cannon",
   "metadata": {},
   "outputs": [
    {
     "name": "stdout",
     "output_type": "stream",
     "text": [
      "[simplify] Repaired 1 intersection\n",
      "[o] Wrote input/cities-neighborhoods-unincorporated-la-county-simply.geojson\n"
     ]
    }
   ],
   "source": [
    "!mapshaper 'input/cities-neighborhoods-unincorporated-la-county.geojson' -simplify dp 25% -o format=geojson 'input/cities-neighborhoods-unincorporated-la-county-simply.geojson'"
   ]
  },
  {
   "cell_type": "code",
   "execution_count": 85,
   "id": "stunning-providence",
   "metadata": {},
   "outputs": [
    {
     "name": "stdout",
     "output_type": "stream",
     "text": [
      "[o] Wrote output/places_map_geo_simply.geojson\n"
     ]
    }
   ],
   "source": [
    "!mapshaper 'output/places_map_geo.geojson' -simplify dp 30% -o format=geojson 'output/places_map_geo_simply.geojson'"
   ]
  },
  {
   "cell_type": "code",
   "execution_count": 86,
   "id": "related-ecuador",
   "metadata": {},
   "outputs": [
    {
     "data": {
      "text/plain": [
       "<AxesSubplot:>"
      ]
     },
     "execution_count": 86,
     "metadata": {},
     "output_type": "execute_result"
    },
    {
     "data": {
      "image/png": "[encoded data removed]",
      "text/plain": [
       "<Figure size 432x288 with 1 Axes>"
      ]
     },
     "metadata": {
      "needs_background": "light"
     },
     "output_type": "display_data"
    }
   ],
   "source": [
    "places_map_geo.plot()"
   ]
  },
  {
   "cell_type": "code",
   "execution_count": 87,
   "id": "indian-piano",
   "metadata": {},
   "outputs": [],
   "source": [
    "places_map_slim = places_map_geo[\n",
    "    [\"OBJECTID\", \"name\", \"mid_november\", \"mid_january\", \"change\"]\n",
    "].sort_values(\"change\", ascending=False)"
   ]
  },
  {
   "cell_type": "code",
   "execution_count": 89,
   "id": "physical-straight",
   "metadata": {},
   "outputs": [],
   "source": [
    "surge_change_melt.to_csv(\"output/surge_change_melt.csv\", index=False)"
   ]
  },
  {
   "cell_type": "code",
   "execution_count": null,
   "id": "hollow-nylon",
   "metadata": {},
   "outputs": [],
   "source": []
  },
  {
   "cell_type": "code",
   "execution_count": null,
   "id": "ahead-square",
   "metadata": {},
   "outputs": [],
   "source": []
  },
  {
   "cell_type": "code",
   "execution_count": null,
   "id": "twenty-trinity",
   "metadata": {},
   "outputs": [],
   "source": []
  },
  {
   "cell_type": "code",
   "execution_count": null,
   "id": "purple-winning",
   "metadata": {},
   "outputs": [],
   "source": []
  },
  {
   "cell_type": "code",
   "execution_count": null,
   "id": "inside-fleece",
   "metadata": {},
   "outputs": [],
   "source": []
  }
 ],
 "metadata": {
  "kernelspec": {
   "display_name": "Python 3",
   "language": "python",
   "name": "python3"
  },
  "language_info": {
   "codemirror_mode": {
    "name": "ipython",
    "version": 3
   },
   "file_extension": ".py",
   "mimetype": "text/x-python",
   "name": "python",
   "nbconvert_exporter": "python",
   "pygments_lexer": "ipython3",
   "version": "3.7.4"
  }
 },
 "nbformat": 4,
 "nbformat_minor": 5
}
