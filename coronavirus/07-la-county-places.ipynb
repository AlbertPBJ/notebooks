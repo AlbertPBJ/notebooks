{
 "cells": [
  {
   "cell_type": "markdown",
   "id": "included-invalid",
   "metadata": {},
   "source": [
    "### L.A. County places timeseries"
   ]
  },
  {
   "cell_type": "code",
   "execution_count": 1,
   "id": "flying-formation",
   "metadata": {},
   "outputs": [],
   "source": [
    "%load_ext lab_black"
   ]
  },
  {
   "cell_type": "code",
   "execution_count": 2,
   "id": "secondary-association",
   "metadata": {},
   "outputs": [],
   "source": [
    "import pandas as pd\n",
    "import geopandas as gpd\n",
    "import jenkspy\n",
    "import matplotlib.pyplot as plt"
   ]
  },
  {
   "cell_type": "code",
   "execution_count": 3,
   "id": "false-dealer",
   "metadata": {},
   "outputs": [],
   "source": [
    "%matplotlib inline\n",
    "import json\n",
    "import numpy as np\n",
    "import altair as alt\n",
    "import altair_latimes as lat"
   ]
  },
  {
   "cell_type": "code",
   "execution_count": 4,
   "id": "statutory-biotechnology",
   "metadata": {},
   "outputs": [],
   "source": [
    "import requests\n",
    "from bs4 import BeautifulSoup\n",
    "import re\n",
    "import unicodedata\n",
    "from datetime import datetime, date\n",
    "from slugify import slugify"
   ]
  },
  {
   "cell_type": "code",
   "execution_count": 5,
   "id": "nasty-surveillance",
   "metadata": {},
   "outputs": [
    {
     "data": {
      "text/plain": [
       "DataTransformerRegistry.enable('default')"
      ]
     },
     "execution_count": 5,
     "metadata": {},
     "output_type": "execute_result"
    }
   ],
   "source": [
    "alt.themes.register(\"latimes\", lat.theme)\n",
    "alt.themes.enable(\"latimes\")\n",
    "pd.options.display.max_columns = 50\n",
    "pd.options.display.max_rows = 1000\n",
    "alt.data_transformers.disable_max_rows()"
   ]
  },
  {
   "cell_type": "markdown",
   "id": "moderate-testament",
   "metadata": {},
   "source": [
    "---"
   ]
  },
  {
   "cell_type": "code",
   "execution_count": 6,
   "id": "relative-pittsburgh",
   "metadata": {},
   "outputs": [],
   "source": [
    "cases = pd.read_csv(\n",
    "    \"../../coronavirus-tracker/_notebooks/data/processed/places/timeseries.csv\",\n",
    "    low_memory=False,\n",
    ")"
   ]
  },
  {
   "cell_type": "markdown",
   "id": "roman-macintosh",
   "metadata": {},
   "source": [
    "### Get places in Los Angeles County"
   ]
  },
  {
   "cell_type": "code",
   "execution_count": 7,
   "id": "bulgarian-knock",
   "metadata": {},
   "outputs": [],
   "source": [
    "places = cases[(cases[\"zcta_id\"].isna()) & (cases[\"county\"] == \"Los Angeles\")]"
   ]
  },
  {
   "cell_type": "code",
   "execution_count": 8,
   "id": "chubby-tracker",
   "metadata": {},
   "outputs": [],
   "source": [
    "places_latest = places[places[\"date\"] == places[\"date\"].max()]"
   ]
  },
  {
   "cell_type": "code",
   "execution_count": 9,
   "id": "christian-shuttle",
   "metadata": {},
   "outputs": [
    {
     "data": {
      "text/html": [
       "<div>\n",
       "<style scoped>\n",
       "    .dataframe tbody tr th:only-of-type {\n",
       "        vertical-align: middle;\n",
       "    }\n",
       "\n",
       "    .dataframe tbody tr th {\n",
       "        vertical-align: top;\n",
       "    }\n",
       "\n",
       "    .dataframe thead th {\n",
       "        text-align: right;\n",
       "    }\n",
       "</style>\n",
       "<table border=\"1\" class=\"dataframe\">\n",
       "  <thead>\n",
       "    <tr style=\"text-align: right;\">\n",
       "      <th></th>\n",
       "      <th>name</th>\n",
       "      <th>date</th>\n",
       "      <th>county</th>\n",
       "      <th>fips</th>\n",
       "      <th>slug</th>\n",
       "      <th>confirmed_cases_note</th>\n",
       "      <th>confirmed_cases</th>\n",
       "      <th>lat</th>\n",
       "      <th>lon</th>\n",
       "      <th>population</th>\n",
       "      <th>zcta_id</th>\n",
       "      <th>id</th>\n",
       "      <th>new_confirmed_cases</th>\n",
       "      <th>new_confirmed_cases_seven_day_total</th>\n",
       "      <th>new_confirmed_cases_seven_day_average</th>\n",
       "      <th>new_confirmed_cases_fourteen_day_total</th>\n",
       "      <th>new_confirmed_cases_fourteen_day_average</th>\n",
       "      <th>confirmed_cases_per_100k</th>\n",
       "      <th>new_confirmed_cases_per_100k</th>\n",
       "      <th>new_confirmed_cases_seven_day_per_100k</th>\n",
       "      <th>new_confirmed_cases_fourteen_day_per_100k</th>\n",
       "    </tr>\n",
       "  </thead>\n",
       "  <tbody>\n",
       "    <tr>\n",
       "      <th>66956</th>\n",
       "      <td>Acton</td>\n",
       "      <td>2021-02-10</td>\n",
       "      <td>Los Angeles</td>\n",
       "      <td>37</td>\n",
       "      <td>unincorporated-acton</td>\n",
       "      <td>NaN</td>\n",
       "      <td>409</td>\n",
       "      <td>34.481366</td>\n",
       "      <td>-118.216138</td>\n",
       "      <td>7971.0</td>\n",
       "      <td>NaN</td>\n",
       "      <td>Unincorporated - Acton</td>\n",
       "      <td>0.0</td>\n",
       "      <td>9.0</td>\n",
       "      <td>1.285714</td>\n",
       "      <td>21.0</td>\n",
       "      <td>1.500000</td>\n",
       "      <td>5131.100238</td>\n",
       "      <td>0.0</td>\n",
       "      <td>112.909296</td>\n",
       "      <td>263.455024</td>\n",
       "    </tr>\n",
       "    <tr>\n",
       "      <th>67288</th>\n",
       "      <td>Adams-Normandie</td>\n",
       "      <td>2021-02-10</td>\n",
       "      <td>Los Angeles</td>\n",
       "      <td>37</td>\n",
       "      <td>los-angeles-adams-normandie</td>\n",
       "      <td>NaN</td>\n",
       "      <td>1118</td>\n",
       "      <td>34.029122</td>\n",
       "      <td>-118.302396</td>\n",
       "      <td>8202.0</td>\n",
       "      <td>NaN</td>\n",
       "      <td>Los Angeles - Adams-Normandie</td>\n",
       "      <td>0.0</td>\n",
       "      <td>27.0</td>\n",
       "      <td>3.857143</td>\n",
       "      <td>73.0</td>\n",
       "      <td>5.214286</td>\n",
       "      <td>13630.821751</td>\n",
       "      <td>0.0</td>\n",
       "      <td>329.188003</td>\n",
       "      <td>890.026823</td>\n",
       "    </tr>\n",
       "    <tr>\n",
       "      <th>67620</th>\n",
       "      <td>Agoura Hills</td>\n",
       "      <td>2021-02-10</td>\n",
       "      <td>Los Angeles</td>\n",
       "      <td>37</td>\n",
       "      <td>city-of-agoura-hills</td>\n",
       "      <td>NaN</td>\n",
       "      <td>907</td>\n",
       "      <td>34.151007</td>\n",
       "      <td>-118.760876</td>\n",
       "      <td>20883.0</td>\n",
       "      <td>NaN</td>\n",
       "      <td>City of Agoura Hills</td>\n",
       "      <td>0.0</td>\n",
       "      <td>24.0</td>\n",
       "      <td>3.428571</td>\n",
       "      <td>59.0</td>\n",
       "      <td>4.214286</td>\n",
       "      <td>4343.245702</td>\n",
       "      <td>0.0</td>\n",
       "      <td>114.926016</td>\n",
       "      <td>282.526457</td>\n",
       "    </tr>\n",
       "    <tr>\n",
       "      <th>67952</th>\n",
       "      <td>Agua Dulce</td>\n",
       "      <td>2021-02-10</td>\n",
       "      <td>Los Angeles</td>\n",
       "      <td>37</td>\n",
       "      <td>unincorporated-agua-dulce</td>\n",
       "      <td>NaN</td>\n",
       "      <td>242</td>\n",
       "      <td>34.497963</td>\n",
       "      <td>-118.323810</td>\n",
       "      <td>4158.0</td>\n",
       "      <td>NaN</td>\n",
       "      <td>Unincorporated - Agua Dulce</td>\n",
       "      <td>0.0</td>\n",
       "      <td>11.0</td>\n",
       "      <td>1.571429</td>\n",
       "      <td>37.0</td>\n",
       "      <td>2.642857</td>\n",
       "      <td>5820.105820</td>\n",
       "      <td>0.0</td>\n",
       "      <td>264.550265</td>\n",
       "      <td>889.850890</td>\n",
       "    </tr>\n",
       "    <tr>\n",
       "      <th>68284</th>\n",
       "      <td>Alhambra</td>\n",
       "      <td>2021-02-10</td>\n",
       "      <td>Los Angeles</td>\n",
       "      <td>37</td>\n",
       "      <td>city-of-alhambra</td>\n",
       "      <td>NaN</td>\n",
       "      <td>6430</td>\n",
       "      <td>34.083961</td>\n",
       "      <td>-118.135504</td>\n",
       "      <td>86724.0</td>\n",
       "      <td>NaN</td>\n",
       "      <td>City of Alhambra</td>\n",
       "      <td>0.0</td>\n",
       "      <td>145.0</td>\n",
       "      <td>20.714286</td>\n",
       "      <td>380.0</td>\n",
       "      <td>27.142857</td>\n",
       "      <td>7414.325907</td>\n",
       "      <td>0.0</td>\n",
       "      <td>167.197085</td>\n",
       "      <td>438.171671</td>\n",
       "    </tr>\n",
       "  </tbody>\n",
       "</table>\n",
       "</div>"
      ],
      "text/plain": [
       "                  name        date       county  fips  \\\n",
       "66956            Acton  2021-02-10  Los Angeles    37   \n",
       "67288  Adams-Normandie  2021-02-10  Los Angeles    37   \n",
       "67620     Agoura Hills  2021-02-10  Los Angeles    37   \n",
       "67952       Agua Dulce  2021-02-10  Los Angeles    37   \n",
       "68284         Alhambra  2021-02-10  Los Angeles    37   \n",
       "\n",
       "                              slug confirmed_cases_note  confirmed_cases  \\\n",
       "66956         unincorporated-acton                  NaN              409   \n",
       "67288  los-angeles-adams-normandie                  NaN             1118   \n",
       "67620         city-of-agoura-hills                  NaN              907   \n",
       "67952    unincorporated-agua-dulce                  NaN              242   \n",
       "68284             city-of-alhambra                  NaN             6430   \n",
       "\n",
       "             lat         lon  population  zcta_id  \\\n",
       "66956  34.481366 -118.216138      7971.0      NaN   \n",
       "67288  34.029122 -118.302396      8202.0      NaN   \n",
       "67620  34.151007 -118.760876     20883.0      NaN   \n",
       "67952  34.497963 -118.323810      4158.0      NaN   \n",
       "68284  34.083961 -118.135504     86724.0      NaN   \n",
       "\n",
       "                                  id  new_confirmed_cases  \\\n",
       "66956         Unincorporated - Acton                  0.0   \n",
       "67288  Los Angeles - Adams-Normandie                  0.0   \n",
       "67620           City of Agoura Hills                  0.0   \n",
       "67952    Unincorporated - Agua Dulce                  0.0   \n",
       "68284               City of Alhambra                  0.0   \n",
       "\n",
       "       new_confirmed_cases_seven_day_total  \\\n",
       "66956                                  9.0   \n",
       "67288                                 27.0   \n",
       "67620                                 24.0   \n",
       "67952                                 11.0   \n",
       "68284                                145.0   \n",
       "\n",
       "       new_confirmed_cases_seven_day_average  \\\n",
       "66956                               1.285714   \n",
       "67288                               3.857143   \n",
       "67620                               3.428571   \n",
       "67952                               1.571429   \n",
       "68284                              20.714286   \n",
       "\n",
       "       new_confirmed_cases_fourteen_day_total  \\\n",
       "66956                                    21.0   \n",
       "67288                                    73.0   \n",
       "67620                                    59.0   \n",
       "67952                                    37.0   \n",
       "68284                                   380.0   \n",
       "\n",
       "       new_confirmed_cases_fourteen_day_average  confirmed_cases_per_100k  \\\n",
       "66956                                  1.500000               5131.100238   \n",
       "67288                                  5.214286              13630.821751   \n",
       "67620                                  4.214286               4343.245702   \n",
       "67952                                  2.642857               5820.105820   \n",
       "68284                                 27.142857               7414.325907   \n",
       "\n",
       "       new_confirmed_cases_per_100k  new_confirmed_cases_seven_day_per_100k  \\\n",
       "66956                           0.0                              112.909296   \n",
       "67288                           0.0                              329.188003   \n",
       "67620                           0.0                              114.926016   \n",
       "67952                           0.0                              264.550265   \n",
       "68284                           0.0                              167.197085   \n",
       "\n",
       "       new_confirmed_cases_fourteen_day_per_100k  \n",
       "66956                                 263.455024  \n",
       "67288                                 890.026823  \n",
       "67620                                 282.526457  \n",
       "67952                                 889.850890  \n",
       "68284                                 438.171671  "
      ]
     },
     "execution_count": 9,
     "metadata": {},
     "output_type": "execute_result"
    }
   ],
   "source": [
    "places_latest.head()"
   ]
  },
  {
   "cell_type": "code",
   "execution_count": 10,
   "id": "seven-locking",
   "metadata": {},
   "outputs": [
    {
     "data": {
      "text/plain": [
       "334"
      ]
     },
     "execution_count": 10,
     "metadata": {},
     "output_type": "execute_result"
    }
   ],
   "source": [
    "len(places_latest)"
   ]
  },
  {
   "cell_type": "markdown",
   "id": "devoted-crowd",
   "metadata": {},
   "source": [
    "---"
   ]
  },
  {
   "cell_type": "markdown",
   "id": "digital-sheriff",
   "metadata": {},
   "source": [
    "### Cases during the surge? "
   ]
  },
  {
   "cell_type": "code",
   "execution_count": 11,
   "id": "thorough-split",
   "metadata": {},
   "outputs": [],
   "source": [
    "surge_places = places[\n",
    "    (places[\"date\"] > \"2020-11-01\") & (places[\"date\"] < \"2020-12-15\")\n",
    "][[\"name\", \"date\", \"new_confirmed_cases_seven_day_average\"]]"
   ]
  },
  {
   "cell_type": "code",
   "execution_count": 12,
   "id": "systematic-asian",
   "metadata": {},
   "outputs": [],
   "source": [
    "losangeles = surge_places[\n",
    "    (surge_places[\"name\"].str.contains(\"Leimert Park\"))\n",
    "    | surge_places[\"name\"].str.contains(\"Playa Del Rey\")\n",
    "]"
   ]
  },
  {
   "cell_type": "code",
   "execution_count": 13,
   "id": "corresponding-maximum",
   "metadata": {},
   "outputs": [
    {
     "data": {
      "text/html": [
       "\n",
       "<div id=\"altair-viz-096936bd0e844b4cb71b2b12d45dde98\"></div>\n",
       "<script type=\"text/javascript\">\n",
       "  (function(spec, embedOpt){\n",
       "    let outputDiv = document.currentScript.previousElementSibling;\n",
       "    if (outputDiv.id !== \"altair-viz-096936bd0e844b4cb71b2b12d45dde98\") {\n",
       "      outputDiv = document.getElementById(\"altair-viz-096936bd0e844b4cb71b2b12d45dde98\");\n",
       "    }\n",
       "    const paths = {\n",
       "      \"vega\": \"https://cdn.jsdelivr.net/npm//vega@5?noext\",\n",
       "      \"vega-lib\": \"https://cdn.jsdelivr.net/npm//vega-lib?noext\",\n",
       "      \"vega-lite\": \"https://cdn.jsdelivr.net/npm//vega-lite@4.8.1?noext\",\n",
       "      \"vega-embed\": \"https://cdn.jsdelivr.net/npm//vega-embed@6?noext\",\n",
       "    };\n",
       "\n",
       "    function loadScript(lib) {\n",
       "      return new Promise(function(resolve, reject) {\n",
       "        var s = document.createElement('script');\n",
       "        s.src = paths[lib];\n",
       "        s.async = true;\n",
       "        s.onload = () => resolve(paths[lib]);\n",
       "        s.onerror = () => reject(`Error loading script: ${paths[lib]}`);\n",
       "        document.getElementsByTagName(\"head\")[0].appendChild(s);\n",
       "      });\n",
       "    }\n",
       "\n",
       "    function showError(err) {\n",
       "      outputDiv.innerHTML = `<div class=\"error\" style=\"color:red;\">${err}</div>`;\n",
       "      throw err;\n",
       "    }\n",
       "\n",
       "    function displayChart(vegaEmbed) {\n",
       "      vegaEmbed(outputDiv, spec, embedOpt)\n",
       "        .catch(err => showError(`Javascript Error: ${err.message}<br>This usually means there's a typo in your chart specification. See the javascript console for the full traceback.`));\n",
       "    }\n",
       "\n",
       "    if(typeof define === \"function\" && define.amd) {\n",
       "      requirejs.config({paths});\n",
       "      require([\"vega-embed\"], displayChart, err => showError(`Error loading script: ${err.message}`));\n",
       "    } else if (typeof vegaEmbed === \"function\") {\n",
       "      displayChart(vegaEmbed);\n",
       "    } else {\n",
       "      loadScript(\"vega\")\n",
       "        .then(() => loadScript(\"vega-lite\"))\n",
       "        .then(() => loadScript(\"vega-embed\"))\n",
       "        .catch(showError)\n",
       "        .then(() => displayChart(vegaEmbed));\n",
       "    }\n",
       "  })({\"config\": {\"view\": {\"width\": 800, \"height\": 450}, \"background\": \"#ffffff\", \"title\": {\"anchor\": \"start\", \"font\": \"Benton Gothic Bold, sans\", \"fontColor\": \"#000000\", \"fontSize\": 22, \"fontWeight\": \"normal\"}, \"arc\": {\"fill\": \"#82c6df\"}, \"area\": {\"fill\": \"#82c6df\"}, \"line\": {\"stroke\": \"#82c6df\", \"strokeWidth\": 3}, \"path\": {\"stroke\": \"#82c6df\"}, \"rect\": {\"fill\": \"#82c6df\"}, \"shape\": {\"stroke\": \"#82c6df\"}, \"bar\": {\"fill\": \"#82c6df\"}, \"point\": {\"stroke\": \"#82c6df\"}, \"symbol\": {\"fill\": \"#82c6df\", \"size\": 30}, \"axis\": {\"titleFont\": \"Benton Gothic Bold, sans\", \"titleFontSize\": 13, \"titleFontWeight\": \"normal\", \"labelFont\": \"Benton Gothic, sans\", \"labelFontSize\": 11.5, \"labelFontWeight\": \"normal\"}, \"axisX\": {\"labelAngle\": 0, \"labelPadding\": 4, \"tickSize\": 3}, \"axisY\": {\"labelBaseline\": \"middle\", \"maxExtent\": 45, \"minExtent\": 45, \"tickSize\": 2, \"titleAlign\": \"left\", \"titleAngle\": 0, \"titleX\": -45, \"titleY\": -11}, \"legend\": {\"titleFont\": \"Benton Gothic Bold, sans\", \"titleFontSize\": 13, \"titleFontWeight\": \"normal\", \"symbolType\": \"square\", \"labelFont\": \"Benton Gothic, sans\", \"labelFontSize\": 11.5}, \"range\": {\"category\": [\"#3580b1\", \"#ec8431\", \"#ab7fb4\", \"#c89d29\", \"#adc839\", \"#829eb1\"], \"diverging\": [\"#e68a4f\", \"#f4bb6a\", \"#f9e39c\", \"#dadfe2\", \"#a6b7c6\", \"#849eae\"], \"heatmap\": [\"#fbf2c7\", \"#f9e39c\", \"#f8d36e\", \"#f4bb6a\", \"#e68a4f\", \"#d15a40\", \"#ab4232\"], \"ordinal\": [\"#fbf2c7\", \"#f9e39c\", \"#f8d36e\", \"#f4bb6a\", \"#e68a4f\", \"#d15a40\", \"#ab4232\"], \"ramp\": [\"#fbf2c7\", \"#f9e39c\", \"#f8d36e\", \"#f4bb6a\", \"#e68a4f\", \"#d15a40\", \"#ab4232\"]}}, \"data\": {\"name\": \"data-4e394713ac9e0f55feffc52825005a65\"}, \"mark\": \"line\", \"encoding\": {\"facet\": {\"type\": \"nominal\", \"columns\": 2, \"field\": \"name\"}, \"x\": {\"type\": \"temporal\", \"field\": \"date\"}, \"y\": {\"type\": \"quantitative\", \"field\": \"new_confirmed_cases_seven_day_average\"}}, \"$schema\": \"https://vega.github.io/schema/vega-lite/v4.8.1.json\", \"datasets\": {\"data-4e394713ac9e0f55feffc52825005a65\": [{\"name\": \"Leimert Park\", \"date\": \"2020-11-02\", \"new_confirmed_cases_seven_day_average\": 2.142857142857143}, {\"name\": \"Leimert Park\", \"date\": \"2020-11-03\", \"new_confirmed_cases_seven_day_average\": 2.0}, {\"name\": \"Leimert Park\", \"date\": \"2020-11-04\", \"new_confirmed_cases_seven_day_average\": 2.2857142857142856}, {\"name\": \"Leimert Park\", \"date\": \"2020-11-05\", \"new_confirmed_cases_seven_day_average\": 2.142857142857143}, {\"name\": \"Leimert Park\", \"date\": \"2020-11-06\", \"new_confirmed_cases_seven_day_average\": 2.142857142857143}, {\"name\": \"Leimert Park\", \"date\": \"2020-11-07\", \"new_confirmed_cases_seven_day_average\": 3.142857142857143}, {\"name\": \"Leimert Park\", \"date\": \"2020-11-08\", \"new_confirmed_cases_seven_day_average\": 3.4285714285714284}, {\"name\": \"Leimert Park\", \"date\": \"2020-11-09\", \"new_confirmed_cases_seven_day_average\": 3.4285714285714284}, {\"name\": \"Leimert Park\", \"date\": \"2020-11-10\", \"new_confirmed_cases_seven_day_average\": 3.142857142857143}, {\"name\": \"Leimert Park\", \"date\": \"2020-11-11\", \"new_confirmed_cases_seven_day_average\": 3.142857142857143}, {\"name\": \"Leimert Park\", \"date\": \"2020-11-12\", \"new_confirmed_cases_seven_day_average\": 2.7142857142857144}, {\"name\": \"Leimert Park\", \"date\": \"2020-11-13\", \"new_confirmed_cases_seven_day_average\": 2.7142857142857144}, {\"name\": \"Leimert Park\", \"date\": \"2020-11-14\", \"new_confirmed_cases_seven_day_average\": 1.8571428571428568}, {\"name\": \"Leimert Park\", \"date\": \"2020-11-15\", \"new_confirmed_cases_seven_day_average\": 1.2857142857142858}, {\"name\": \"Leimert Park\", \"date\": \"2020-11-16\", \"new_confirmed_cases_seven_day_average\": 1.4285714285714286}, {\"name\": \"Leimert Park\", \"date\": \"2020-11-17\", \"new_confirmed_cases_seven_day_average\": 2.142857142857143}, {\"name\": \"Leimert Park\", \"date\": \"2020-11-18\", \"new_confirmed_cases_seven_day_average\": 2.142857142857143}, {\"name\": \"Leimert Park\", \"date\": \"2020-11-19\", \"new_confirmed_cases_seven_day_average\": 2.7142857142857144}, {\"name\": \"Leimert Park\", \"date\": \"2020-11-20\", \"new_confirmed_cases_seven_day_average\": 2.571428571428572}, {\"name\": \"Leimert Park\", \"date\": \"2020-11-21\", \"new_confirmed_cases_seven_day_average\": 4.428571428571429}, {\"name\": \"Leimert Park\", \"date\": \"2020-11-22\", \"new_confirmed_cases_seven_day_average\": 4.714285714285714}, {\"name\": \"Leimert Park\", \"date\": \"2020-11-23\", \"new_confirmed_cases_seven_day_average\": 5.428571428571429}, {\"name\": \"Leimert Park\", \"date\": \"2020-11-24\", \"new_confirmed_cases_seven_day_average\": 5.285714285714286}, {\"name\": \"Leimert Park\", \"date\": \"2020-11-25\", \"new_confirmed_cases_seven_day_average\": 5.857142857142857}, {\"name\": \"Leimert Park\", \"date\": \"2020-11-26\", \"new_confirmed_cases_seven_day_average\": 6.142857142857143}, {\"name\": \"Leimert Park\", \"date\": \"2020-11-27\", \"new_confirmed_cases_seven_day_average\": 7.0}, {\"name\": \"Leimert Park\", \"date\": \"2020-11-28\", \"new_confirmed_cases_seven_day_average\": 5.571428571428571}, {\"name\": \"Leimert Park\", \"date\": \"2020-11-29\", \"new_confirmed_cases_seven_day_average\": 5.714285714285714}, {\"name\": \"Leimert Park\", \"date\": \"2020-11-30\", \"new_confirmed_cases_seven_day_average\": 6.857142857142857}, {\"name\": \"Leimert Park\", \"date\": \"2020-12-01\", \"new_confirmed_cases_seven_day_average\": 7.285714285714286}, {\"name\": \"Leimert Park\", \"date\": \"2020-12-02\", \"new_confirmed_cases_seven_day_average\": 6.857142857142857}, {\"name\": \"Leimert Park\", \"date\": \"2020-12-03\", \"new_confirmed_cases_seven_day_average\": 7.714285714285714}, {\"name\": \"Leimert Park\", \"date\": \"2020-12-04\", \"new_confirmed_cases_seven_day_average\": 7.571428571428571}, {\"name\": \"Leimert Park\", \"date\": \"2020-12-05\", \"new_confirmed_cases_seven_day_average\": 8.0}, {\"name\": \"Leimert Park\", \"date\": \"2020-12-06\", \"new_confirmed_cases_seven_day_average\": 9.857142857142858}, {\"name\": \"Leimert Park\", \"date\": \"2020-12-07\", \"new_confirmed_cases_seven_day_average\": 9.428571428571429}, {\"name\": \"Leimert Park\", \"date\": \"2020-12-08\", \"new_confirmed_cases_seven_day_average\": 10.571428571428571}, {\"name\": \"Leimert Park\", \"date\": \"2020-12-09\", \"new_confirmed_cases_seven_day_average\": 11.571428571428571}, {\"name\": \"Leimert Park\", \"date\": \"2020-12-10\", \"new_confirmed_cases_seven_day_average\": 12.857142857142858}, {\"name\": \"Leimert Park\", \"date\": \"2020-12-11\", \"new_confirmed_cases_seven_day_average\": 14.428571428571429}, {\"name\": \"Leimert Park\", \"date\": \"2020-12-12\", \"new_confirmed_cases_seven_day_average\": 15.571428571428571}, {\"name\": \"Leimert Park\", \"date\": \"2020-12-13\", \"new_confirmed_cases_seven_day_average\": 15.714285714285714}, {\"name\": \"Leimert Park\", \"date\": \"2020-12-14\", \"new_confirmed_cases_seven_day_average\": 15.0}, {\"name\": \"Playa Del Rey\", \"date\": \"2020-11-02\", \"new_confirmed_cases_seven_day_average\": 0.0}, {\"name\": \"Playa Del Rey\", \"date\": \"2020-11-03\", \"new_confirmed_cases_seven_day_average\": 0.0}, {\"name\": \"Playa Del Rey\", \"date\": \"2020-11-04\", \"new_confirmed_cases_seven_day_average\": 0.0}, {\"name\": \"Playa Del Rey\", \"date\": \"2020-11-05\", \"new_confirmed_cases_seven_day_average\": 0.1428571428571428}, {\"name\": \"Playa Del Rey\", \"date\": \"2020-11-06\", \"new_confirmed_cases_seven_day_average\": 0.2857142857142857}, {\"name\": \"Playa Del Rey\", \"date\": \"2020-11-07\", \"new_confirmed_cases_seven_day_average\": 0.4285714285714285}, {\"name\": \"Playa Del Rey\", \"date\": \"2020-11-08\", \"new_confirmed_cases_seven_day_average\": 0.4285714285714285}, {\"name\": \"Playa Del Rey\", \"date\": \"2020-11-09\", \"new_confirmed_cases_seven_day_average\": 0.4285714285714285}, {\"name\": \"Playa Del Rey\", \"date\": \"2020-11-10\", \"new_confirmed_cases_seven_day_average\": 0.7142857142857143}, {\"name\": \"Playa Del Rey\", \"date\": \"2020-11-11\", \"new_confirmed_cases_seven_day_average\": 0.8571428571428571}, {\"name\": \"Playa Del Rey\", \"date\": \"2020-11-12\", \"new_confirmed_cases_seven_day_average\": 0.8571428571428571}, {\"name\": \"Playa Del Rey\", \"date\": \"2020-11-13\", \"new_confirmed_cases_seven_day_average\": 0.7142857142857143}, {\"name\": \"Playa Del Rey\", \"date\": \"2020-11-14\", \"new_confirmed_cases_seven_day_average\": 0.8571428571428571}, {\"name\": \"Playa Del Rey\", \"date\": \"2020-11-15\", \"new_confirmed_cases_seven_day_average\": 1.1428571428571428}, {\"name\": \"Playa Del Rey\", \"date\": \"2020-11-16\", \"new_confirmed_cases_seven_day_average\": 1.2857142857142858}, {\"name\": \"Playa Del Rey\", \"date\": \"2020-11-17\", \"new_confirmed_cases_seven_day_average\": 1.0}, {\"name\": \"Playa Del Rey\", \"date\": \"2020-11-18\", \"new_confirmed_cases_seven_day_average\": 0.8571428571428571}, {\"name\": \"Playa Del Rey\", \"date\": \"2020-11-19\", \"new_confirmed_cases_seven_day_average\": 0.7142857142857143}, {\"name\": \"Playa Del Rey\", \"date\": \"2020-11-20\", \"new_confirmed_cases_seven_day_average\": 0.7142857142857143}, {\"name\": \"Playa Del Rey\", \"date\": \"2020-11-21\", \"new_confirmed_cases_seven_day_average\": 0.4285714285714285}, {\"name\": \"Playa Del Rey\", \"date\": \"2020-11-22\", \"new_confirmed_cases_seven_day_average\": 0.1428571428571428}, {\"name\": \"Playa Del Rey\", \"date\": \"2020-11-23\", \"new_confirmed_cases_seven_day_average\": 0.1428571428571428}, {\"name\": \"Playa Del Rey\", \"date\": \"2020-11-24\", \"new_confirmed_cases_seven_day_average\": 0.1428571428571428}, {\"name\": \"Playa Del Rey\", \"date\": \"2020-11-25\", \"new_confirmed_cases_seven_day_average\": 0.1428571428571428}, {\"name\": \"Playa Del Rey\", \"date\": \"2020-11-26\", \"new_confirmed_cases_seven_day_average\": 0.2857142857142857}, {\"name\": \"Playa Del Rey\", \"date\": \"2020-11-27\", \"new_confirmed_cases_seven_day_average\": 0.5714285714285714}, {\"name\": \"Playa Del Rey\", \"date\": \"2020-11-28\", \"new_confirmed_cases_seven_day_average\": 0.5714285714285714}, {\"name\": \"Playa Del Rey\", \"date\": \"2020-11-29\", \"new_confirmed_cases_seven_day_average\": 0.5714285714285714}, {\"name\": \"Playa Del Rey\", \"date\": \"2020-11-30\", \"new_confirmed_cases_seven_day_average\": 0.5714285714285714}, {\"name\": \"Playa Del Rey\", \"date\": \"2020-12-01\", \"new_confirmed_cases_seven_day_average\": 0.7142857142857143}, {\"name\": \"Playa Del Rey\", \"date\": \"2020-12-02\", \"new_confirmed_cases_seven_day_average\": 0.7142857142857143}, {\"name\": \"Playa Del Rey\", \"date\": \"2020-12-03\", \"new_confirmed_cases_seven_day_average\": 0.7142857142857143}, {\"name\": \"Playa Del Rey\", \"date\": \"2020-12-04\", \"new_confirmed_cases_seven_day_average\": 0.4285714285714285}, {\"name\": \"Playa Del Rey\", \"date\": \"2020-12-05\", \"new_confirmed_cases_seven_day_average\": 0.5714285714285714}, {\"name\": \"Playa Del Rey\", \"date\": \"2020-12-06\", \"new_confirmed_cases_seven_day_average\": 0.5714285714285714}, {\"name\": \"Playa Del Rey\", \"date\": \"2020-12-07\", \"new_confirmed_cases_seven_day_average\": 0.5714285714285714}, {\"name\": \"Playa Del Rey\", \"date\": \"2020-12-08\", \"new_confirmed_cases_seven_day_average\": 0.7142857142857143}, {\"name\": \"Playa Del Rey\", \"date\": \"2020-12-09\", \"new_confirmed_cases_seven_day_average\": 0.7142857142857143}, {\"name\": \"Playa Del Rey\", \"date\": \"2020-12-10\", \"new_confirmed_cases_seven_day_average\": 0.5714285714285714}, {\"name\": \"Playa Del Rey\", \"date\": \"2020-12-11\", \"new_confirmed_cases_seven_day_average\": 0.5714285714285714}, {\"name\": \"Playa Del Rey\", \"date\": \"2020-12-12\", \"new_confirmed_cases_seven_day_average\": 0.5714285714285714}, {\"name\": \"Playa Del Rey\", \"date\": \"2020-12-13\", \"new_confirmed_cases_seven_day_average\": 0.5714285714285714}, {\"name\": \"Playa Del Rey\", \"date\": \"2020-12-14\", \"new_confirmed_cases_seven_day_average\": 0.7142857142857143}]}}, {\"mode\": \"vega-lite\"});\n",
       "</script>"
      ],
      "text/plain": [
       "alt.Chart(...)"
      ]
     },
     "execution_count": 13,
     "metadata": {},
     "output_type": "execute_result"
    }
   ],
   "source": [
    "alt.Chart(losangeles).mark_line().encode(\n",
    "    x=alt.X(\"date:T\"),\n",
    "    y=\"new_confirmed_cases_seven_day_average\",\n",
    "    facet=alt.Facet(\"name:N\", columns=2),\n",
    ")"
   ]
  },
  {
   "cell_type": "markdown",
   "id": "honey-hundred",
   "metadata": {},
   "source": [
    "### Change from Nov. 15 to Dec. 15?"
   ]
  },
  {
   "cell_type": "code",
   "execution_count": 14,
   "id": "impressed-george",
   "metadata": {},
   "outputs": [],
   "source": [
    "surge_change = places[\n",
    "    (places[\"date\"] == \"2020-11-15\") | (places[\"date\"] == \"2020-12-15\")\n",
    "][[\"name\", \"date\", \"new_confirmed_cases_seven_day_per_100k\"]]"
   ]
  },
  {
   "cell_type": "code",
   "execution_count": 15,
   "id": "moving-census",
   "metadata": {},
   "outputs": [
    {
     "data": {
      "text/html": [
       "<div>\n",
       "<style scoped>\n",
       "    .dataframe tbody tr th:only-of-type {\n",
       "        vertical-align: middle;\n",
       "    }\n",
       "\n",
       "    .dataframe tbody tr th {\n",
       "        vertical-align: top;\n",
       "    }\n",
       "\n",
       "    .dataframe thead th {\n",
       "        text-align: right;\n",
       "    }\n",
       "</style>\n",
       "<table border=\"1\" class=\"dataframe\">\n",
       "  <thead>\n",
       "    <tr style=\"text-align: right;\">\n",
       "      <th></th>\n",
       "      <th>name</th>\n",
       "      <th>date</th>\n",
       "      <th>new_confirmed_cases_seven_day_per_100k</th>\n",
       "    </tr>\n",
       "  </thead>\n",
       "  <tbody>\n",
       "    <tr>\n",
       "      <th>66869</th>\n",
       "      <td>Acton</td>\n",
       "      <td>2020-11-15</td>\n",
       "      <td>75.272864</td>\n",
       "    </tr>\n",
       "    <tr>\n",
       "      <th>66899</th>\n",
       "      <td>Acton</td>\n",
       "      <td>2020-12-15</td>\n",
       "      <td>414.000753</td>\n",
       "    </tr>\n",
       "    <tr>\n",
       "      <th>67201</th>\n",
       "      <td>Adams-Normandie</td>\n",
       "      <td>2020-11-15</td>\n",
       "      <td>207.266520</td>\n",
       "    </tr>\n",
       "    <tr>\n",
       "      <th>67231</th>\n",
       "      <td>Adams-Normandie</td>\n",
       "      <td>2020-12-15</td>\n",
       "      <td>816.873933</td>\n",
       "    </tr>\n",
       "    <tr>\n",
       "      <th>67533</th>\n",
       "      <td>Agoura Hills</td>\n",
       "      <td>2020-11-15</td>\n",
       "      <td>71.828760</td>\n",
       "    </tr>\n",
       "  </tbody>\n",
       "</table>\n",
       "</div>"
      ],
      "text/plain": [
       "                  name        date  new_confirmed_cases_seven_day_per_100k\n",
       "66869            Acton  2020-11-15                               75.272864\n",
       "66899            Acton  2020-12-15                              414.000753\n",
       "67201  Adams-Normandie  2020-11-15                              207.266520\n",
       "67231  Adams-Normandie  2020-12-15                              816.873933\n",
       "67533     Agoura Hills  2020-11-15                               71.828760"
      ]
     },
     "execution_count": 15,
     "metadata": {},
     "output_type": "execute_result"
    }
   ],
   "source": [
    "surge_change.head()"
   ]
  },
  {
   "cell_type": "code",
   "execution_count": 16,
   "id": "upper-success",
   "metadata": {},
   "outputs": [],
   "source": [
    "surge_change_pivot = (\n",
    "    pd.pivot_table(\n",
    "        surge_change[surge_change[\"new_confirmed_cases_seven_day_per_100k\"] > 0],\n",
    "        values=\"new_confirmed_cases_seven_day_per_100k\",\n",
    "        index=[\"name\"],\n",
    "        columns=[\"date\"],\n",
    "        fill_value=0,\n",
    "    )\n",
    "    .dropna()\n",
    "    .reset_index()\n",
    ")"
   ]
  },
  {
   "cell_type": "code",
   "execution_count": 17,
   "id": "palestinian-rhythm",
   "metadata": {},
   "outputs": [],
   "source": [
    "surge_change_pivot.rename(\n",
    "    columns={\"2020-11-15\": \"mid_november\", \"2020-12-15\": \"mid_december\"}, inplace=True\n",
    ")"
   ]
  },
  {
   "cell_type": "code",
   "execution_count": 18,
   "id": "exclusive-respect",
   "metadata": {},
   "outputs": [
    {
     "data": {
      "text/html": [
       "<div>\n",
       "<style scoped>\n",
       "    .dataframe tbody tr th:only-of-type {\n",
       "        vertical-align: middle;\n",
       "    }\n",
       "\n",
       "    .dataframe tbody tr th {\n",
       "        vertical-align: top;\n",
       "    }\n",
       "\n",
       "    .dataframe thead th {\n",
       "        text-align: right;\n",
       "    }\n",
       "</style>\n",
       "<table border=\"1\" class=\"dataframe\">\n",
       "  <thead>\n",
       "    <tr style=\"text-align: right;\">\n",
       "      <th>date</th>\n",
       "      <th>name</th>\n",
       "      <th>mid_november</th>\n",
       "      <th>mid_december</th>\n",
       "    </tr>\n",
       "  </thead>\n",
       "  <tbody>\n",
       "    <tr>\n",
       "      <th>0</th>\n",
       "      <td>Acton</td>\n",
       "      <td>75.272864</td>\n",
       "      <td>414.000753</td>\n",
       "    </tr>\n",
       "    <tr>\n",
       "      <th>1</th>\n",
       "      <td>Adams-Normandie</td>\n",
       "      <td>207.266520</td>\n",
       "      <td>816.873933</td>\n",
       "    </tr>\n",
       "    <tr>\n",
       "      <th>2</th>\n",
       "      <td>Agoura Hills</td>\n",
       "      <td>71.828760</td>\n",
       "      <td>330.412297</td>\n",
       "    </tr>\n",
       "    <tr>\n",
       "      <th>3</th>\n",
       "      <td>Agua Dulce</td>\n",
       "      <td>240.500241</td>\n",
       "      <td>408.850409</td>\n",
       "    </tr>\n",
       "    <tr>\n",
       "      <th>4</th>\n",
       "      <td>Alhambra</td>\n",
       "      <td>96.859001</td>\n",
       "      <td>522.346755</td>\n",
       "    </tr>\n",
       "  </tbody>\n",
       "</table>\n",
       "</div>"
      ],
      "text/plain": [
       "date             name  mid_november  mid_december\n",
       "0               Acton     75.272864    414.000753\n",
       "1     Adams-Normandie    207.266520    816.873933\n",
       "2        Agoura Hills     71.828760    330.412297\n",
       "3          Agua Dulce    240.500241    408.850409\n",
       "4            Alhambra     96.859001    522.346755"
      ]
     },
     "execution_count": 18,
     "metadata": {},
     "output_type": "execute_result"
    }
   ],
   "source": [
    "surge_change_pivot.head()"
   ]
  },
  {
   "cell_type": "code",
   "execution_count": 19,
   "id": "intended-indianapolis",
   "metadata": {},
   "outputs": [],
   "source": [
    "surge_change_pivot[\"change\"] = (\n",
    "    (surge_change_pivot[\"mid_december\"] - surge_change_pivot[\"mid_november\"])\n",
    "    / surge_change_pivot[\"mid_november\"]\n",
    ") * 100"
   ]
  },
  {
   "cell_type": "code",
   "execution_count": 20,
   "id": "olympic-horizontal",
   "metadata": {},
   "outputs": [
    {
     "data": {
      "text/html": [
       "<div>\n",
       "<style scoped>\n",
       "    .dataframe tbody tr th:only-of-type {\n",
       "        vertical-align: middle;\n",
       "    }\n",
       "\n",
       "    .dataframe tbody tr th {\n",
       "        vertical-align: top;\n",
       "    }\n",
       "\n",
       "    .dataframe thead th {\n",
       "        text-align: right;\n",
       "    }\n",
       "</style>\n",
       "<table border=\"1\" class=\"dataframe\">\n",
       "  <thead>\n",
       "    <tr style=\"text-align: right;\">\n",
       "      <th>date</th>\n",
       "      <th>name</th>\n",
       "      <th>mid_november</th>\n",
       "      <th>mid_december</th>\n",
       "      <th>change</th>\n",
       "    </tr>\n",
       "  </thead>\n",
       "  <tbody>\n",
       "    <tr>\n",
       "      <th>111</th>\n",
       "      <td>Irwindale</td>\n",
       "      <td>0.000000</td>\n",
       "      <td>1644.962303</td>\n",
       "      <td>inf</td>\n",
       "    </tr>\n",
       "    <tr>\n",
       "      <th>126</th>\n",
       "      <td>Lake Manor</td>\n",
       "      <td>0.000000</td>\n",
       "      <td>608.642727</td>\n",
       "      <td>inf</td>\n",
       "    </tr>\n",
       "    <tr>\n",
       "      <th>239</th>\n",
       "      <td>Twin Lakes/Oat Mountain</td>\n",
       "      <td>0.000000</td>\n",
       "      <td>542.822678</td>\n",
       "      <td>inf</td>\n",
       "    </tr>\n",
       "    <tr>\n",
       "      <th>272</th>\n",
       "      <td>West Antelope Valley</td>\n",
       "      <td>0.000000</td>\n",
       "      <td>397.088021</td>\n",
       "      <td>inf</td>\n",
       "    </tr>\n",
       "    <tr>\n",
       "      <th>117</th>\n",
       "      <td>La Habra Heights</td>\n",
       "      <td>0.000000</td>\n",
       "      <td>54.995417</td>\n",
       "      <td>inf</td>\n",
       "    </tr>\n",
       "    <tr>\n",
       "      <th>247</th>\n",
       "      <td>Unincorporated - Monrovia</td>\n",
       "      <td>25.766555</td>\n",
       "      <td>721.463540</td>\n",
       "      <td>2700.000000</td>\n",
       "    </tr>\n",
       "    <tr>\n",
       "      <th>113</th>\n",
       "      <td>Kagel/Lopez Canyons</td>\n",
       "      <td>70.821530</td>\n",
       "      <td>1558.073654</td>\n",
       "      <td>2100.000000</td>\n",
       "    </tr>\n",
       "    <tr>\n",
       "      <th>279</th>\n",
       "      <td>West Rancho Dominguez</td>\n",
       "      <td>73.583517</td>\n",
       "      <td>1398.086829</td>\n",
       "      <td>1800.000000</td>\n",
       "    </tr>\n",
       "    <tr>\n",
       "      <th>72</th>\n",
       "      <td>El Camino Village</td>\n",
       "      <td>45.501081</td>\n",
       "      <td>682.516210</td>\n",
       "      <td>1400.000000</td>\n",
       "    </tr>\n",
       "    <tr>\n",
       "      <th>192</th>\n",
       "      <td>Reynier Village</td>\n",
       "      <td>47.303690</td>\n",
       "      <td>614.947966</td>\n",
       "      <td>1200.000000</td>\n",
       "    </tr>\n",
       "    <tr>\n",
       "      <th>120</th>\n",
       "      <td>La Rambla</td>\n",
       "      <td>48.192771</td>\n",
       "      <td>578.313253</td>\n",
       "      <td>1100.000000</td>\n",
       "    </tr>\n",
       "    <tr>\n",
       "      <th>131</th>\n",
       "      <td>Leimert Park</td>\n",
       "      <td>59.074500</td>\n",
       "      <td>702.330161</td>\n",
       "      <td>1088.888889</td>\n",
       "    </tr>\n",
       "    <tr>\n",
       "      <th>235</th>\n",
       "      <td>Toluca Terrace</td>\n",
       "      <td>76.569678</td>\n",
       "      <td>842.266462</td>\n",
       "      <td>1000.000000</td>\n",
       "    </tr>\n",
       "    <tr>\n",
       "      <th>80</th>\n",
       "      <td>Exposition</td>\n",
       "      <td>90.198437</td>\n",
       "      <td>992.182802</td>\n",
       "      <td>1000.000000</td>\n",
       "    </tr>\n",
       "    <tr>\n",
       "      <th>15</th>\n",
       "      <td>Avocado Heights</td>\n",
       "      <td>118.081181</td>\n",
       "      <td>1284.132841</td>\n",
       "      <td>987.500000</td>\n",
       "    </tr>\n",
       "    <tr>\n",
       "      <th>89</th>\n",
       "      <td>Gramercy Place</td>\n",
       "      <td>92.902267</td>\n",
       "      <td>994.054255</td>\n",
       "      <td>970.000000</td>\n",
       "    </tr>\n",
       "    <tr>\n",
       "      <th>270</th>\n",
       "      <td>Wellington Square</td>\n",
       "      <td>81.383520</td>\n",
       "      <td>752.797558</td>\n",
       "      <td>825.000000</td>\n",
       "    </tr>\n",
       "    <tr>\n",
       "      <th>261</th>\n",
       "      <td>Vermont Square</td>\n",
       "      <td>156.719342</td>\n",
       "      <td>1332.114405</td>\n",
       "      <td>750.000000</td>\n",
       "    </tr>\n",
       "    <tr>\n",
       "      <th>207</th>\n",
       "      <td>Santa Fe Springs</td>\n",
       "      <td>119.799608</td>\n",
       "      <td>985.624047</td>\n",
       "      <td>722.727273</td>\n",
       "    </tr>\n",
       "    <tr>\n",
       "      <th>109</th>\n",
       "      <td>Hyde Park</td>\n",
       "      <td>101.608213</td>\n",
       "      <td>819.873165</td>\n",
       "      <td>706.896552</td>\n",
       "    </tr>\n",
       "  </tbody>\n",
       "</table>\n",
       "</div>"
      ],
      "text/plain": [
       "date                       name  mid_november  mid_december       change\n",
       "111                   Irwindale      0.000000   1644.962303          inf\n",
       "126                  Lake Manor      0.000000    608.642727          inf\n",
       "239     Twin Lakes/Oat Mountain      0.000000    542.822678          inf\n",
       "272        West Antelope Valley      0.000000    397.088021          inf\n",
       "117            La Habra Heights      0.000000     54.995417          inf\n",
       "247   Unincorporated - Monrovia     25.766555    721.463540  2700.000000\n",
       "113         Kagel/Lopez Canyons     70.821530   1558.073654  2100.000000\n",
       "279       West Rancho Dominguez     73.583517   1398.086829  1800.000000\n",
       "72            El Camino Village     45.501081    682.516210  1400.000000\n",
       "192             Reynier Village     47.303690    614.947966  1200.000000\n",
       "120                   La Rambla     48.192771    578.313253  1100.000000\n",
       "131                Leimert Park     59.074500    702.330161  1088.888889\n",
       "235              Toluca Terrace     76.569678    842.266462  1000.000000\n",
       "80                   Exposition     90.198437    992.182802  1000.000000\n",
       "15              Avocado Heights    118.081181   1284.132841   987.500000\n",
       "89               Gramercy Place     92.902267    994.054255   970.000000\n",
       "270           Wellington Square     81.383520    752.797558   825.000000\n",
       "261              Vermont Square    156.719342   1332.114405   750.000000\n",
       "207            Santa Fe Springs    119.799608    985.624047   722.727273\n",
       "109                   Hyde Park    101.608213    819.873165   706.896552"
      ]
     },
     "execution_count": 20,
     "metadata": {},
     "output_type": "execute_result"
    }
   ],
   "source": [
    "surge_change_pivot.sort_values(\"change\", ascending=False).head(20)"
   ]
  },
  {
   "cell_type": "code",
   "execution_count": 21,
   "id": "minus-scope",
   "metadata": {},
   "outputs": [],
   "source": [
    "surge_change_pivot_min_max = pd.concat(\n",
    "    [\n",
    "        surge_change_pivot.sort_values(\"change\", ascending=False).head(20),\n",
    "        surge_change_pivot.sort_values(\"change\", ascending=False).tail(20),\n",
    "    ]\n",
    ")"
   ]
  },
  {
   "cell_type": "code",
   "execution_count": 22,
   "id": "cutting-hierarchy",
   "metadata": {},
   "outputs": [
    {
     "data": {
      "text/html": [
       "<div>\n",
       "<style scoped>\n",
       "    .dataframe tbody tr th:only-of-type {\n",
       "        vertical-align: middle;\n",
       "    }\n",
       "\n",
       "    .dataframe tbody tr th {\n",
       "        vertical-align: top;\n",
       "    }\n",
       "\n",
       "    .dataframe thead th {\n",
       "        text-align: right;\n",
       "    }\n",
       "</style>\n",
       "<table border=\"1\" class=\"dataframe\">\n",
       "  <thead>\n",
       "    <tr style=\"text-align: right;\">\n",
       "      <th>date</th>\n",
       "      <th>name</th>\n",
       "      <th>mid_november</th>\n",
       "      <th>mid_december</th>\n",
       "      <th>change</th>\n",
       "    </tr>\n",
       "  </thead>\n",
       "  <tbody>\n",
       "    <tr>\n",
       "      <th>111</th>\n",
       "      <td>Irwindale</td>\n",
       "      <td>0.0</td>\n",
       "      <td>1644.962303</td>\n",
       "      <td>inf</td>\n",
       "    </tr>\n",
       "    <tr>\n",
       "      <th>126</th>\n",
       "      <td>Lake Manor</td>\n",
       "      <td>0.0</td>\n",
       "      <td>608.642727</td>\n",
       "      <td>inf</td>\n",
       "    </tr>\n",
       "    <tr>\n",
       "      <th>239</th>\n",
       "      <td>Twin Lakes/Oat Mountain</td>\n",
       "      <td>0.0</td>\n",
       "      <td>542.822678</td>\n",
       "      <td>inf</td>\n",
       "    </tr>\n",
       "    <tr>\n",
       "      <th>272</th>\n",
       "      <td>West Antelope Valley</td>\n",
       "      <td>0.0</td>\n",
       "      <td>397.088021</td>\n",
       "      <td>inf</td>\n",
       "    </tr>\n",
       "    <tr>\n",
       "      <th>117</th>\n",
       "      <td>La Habra Heights</td>\n",
       "      <td>0.0</td>\n",
       "      <td>54.995417</td>\n",
       "      <td>inf</td>\n",
       "    </tr>\n",
       "  </tbody>\n",
       "</table>\n",
       "</div>"
      ],
      "text/plain": [
       "date                     name  mid_november  mid_december  change\n",
       "111                 Irwindale           0.0   1644.962303     inf\n",
       "126                Lake Manor           0.0    608.642727     inf\n",
       "239   Twin Lakes/Oat Mountain           0.0    542.822678     inf\n",
       "272      West Antelope Valley           0.0    397.088021     inf\n",
       "117          La Habra Heights           0.0     54.995417     inf"
      ]
     },
     "execution_count": 22,
     "metadata": {},
     "output_type": "execute_result"
    }
   ],
   "source": [
    "surge_change_pivot_min_max.head()"
   ]
  },
  {
   "cell_type": "code",
   "execution_count": 23,
   "id": "wired-forth",
   "metadata": {},
   "outputs": [],
   "source": [
    "surge_change_pivot_min_max.rename(\n",
    "    columns={\"mid_november\": \"2020-11-15\", \"mid_december\": \"2020-12-15\"}, inplace=True\n",
    ")"
   ]
  },
  {
   "cell_type": "code",
   "execution_count": 24,
   "id": "diagnostic-location",
   "metadata": {},
   "outputs": [],
   "source": [
    "surge_change_melt = surge_change_pivot_min_max.melt(id_vars=[\"name\"], var_name=\"date\")"
   ]
  },
  {
   "cell_type": "code",
   "execution_count": 25,
   "id": "funky-question",
   "metadata": {},
   "outputs": [],
   "source": [
    "surge_change_melt.rename(columns={\"value\": \"rate\"}, inplace=True)"
   ]
  },
  {
   "cell_type": "code",
   "execution_count": 26,
   "id": "amateur-negotiation",
   "metadata": {},
   "outputs": [],
   "source": [
    "surge_change_melt = surge_change_melt[surge_change_melt[\"date\"] != \"change\"]"
   ]
  },
  {
   "cell_type": "code",
   "execution_count": 27,
   "id": "scheduled-clothing",
   "metadata": {},
   "outputs": [],
   "source": [
    "surge_change_melt[\"date\"] = surge_change_melt[\"date\"]"
   ]
  },
  {
   "cell_type": "code",
   "execution_count": 28,
   "id": "eleven-tattoo",
   "metadata": {},
   "outputs": [
    {
     "data": {
      "text/html": [
       "<div>\n",
       "<style scoped>\n",
       "    .dataframe tbody tr th:only-of-type {\n",
       "        vertical-align: middle;\n",
       "    }\n",
       "\n",
       "    .dataframe tbody tr th {\n",
       "        vertical-align: top;\n",
       "    }\n",
       "\n",
       "    .dataframe thead th {\n",
       "        text-align: right;\n",
       "    }\n",
       "</style>\n",
       "<table border=\"1\" class=\"dataframe\">\n",
       "  <thead>\n",
       "    <tr style=\"text-align: right;\">\n",
       "      <th></th>\n",
       "      <th>name</th>\n",
       "      <th>date</th>\n",
       "      <th>rate</th>\n",
       "    </tr>\n",
       "  </thead>\n",
       "  <tbody>\n",
       "    <tr>\n",
       "      <th>0</th>\n",
       "      <td>Irwindale</td>\n",
       "      <td>2020-11-15</td>\n",
       "      <td>0.0</td>\n",
       "    </tr>\n",
       "    <tr>\n",
       "      <th>1</th>\n",
       "      <td>Lake Manor</td>\n",
       "      <td>2020-11-15</td>\n",
       "      <td>0.0</td>\n",
       "    </tr>\n",
       "    <tr>\n",
       "      <th>2</th>\n",
       "      <td>Twin Lakes/Oat Mountain</td>\n",
       "      <td>2020-11-15</td>\n",
       "      <td>0.0</td>\n",
       "    </tr>\n",
       "    <tr>\n",
       "      <th>3</th>\n",
       "      <td>West Antelope Valley</td>\n",
       "      <td>2020-11-15</td>\n",
       "      <td>0.0</td>\n",
       "    </tr>\n",
       "    <tr>\n",
       "      <th>4</th>\n",
       "      <td>La Habra Heights</td>\n",
       "      <td>2020-11-15</td>\n",
       "      <td>0.0</td>\n",
       "    </tr>\n",
       "  </tbody>\n",
       "</table>\n",
       "</div>"
      ],
      "text/plain": [
       "                      name        date  rate\n",
       "0                Irwindale  2020-11-15   0.0\n",
       "1               Lake Manor  2020-11-15   0.0\n",
       "2  Twin Lakes/Oat Mountain  2020-11-15   0.0\n",
       "3     West Antelope Valley  2020-11-15   0.0\n",
       "4         La Habra Heights  2020-11-15   0.0"
      ]
     },
     "execution_count": 28,
     "metadata": {},
     "output_type": "execute_result"
    }
   ],
   "source": [
    "surge_change_melt.head()"
   ]
  },
  {
   "cell_type": "markdown",
   "id": "prepared-slovak",
   "metadata": {},
   "source": [
    "---"
   ]
  },
  {
   "cell_type": "code",
   "execution_count": 29,
   "id": "southern-texas",
   "metadata": {},
   "outputs": [
    {
     "data": {
      "text/html": [
       "\n",
       "<div id=\"altair-viz-9c892b962bc84df494bcc007a6960527\"></div>\n",
       "<script type=\"text/javascript\">\n",
       "  (function(spec, embedOpt){\n",
       "    let outputDiv = document.currentScript.previousElementSibling;\n",
       "    if (outputDiv.id !== \"altair-viz-9c892b962bc84df494bcc007a6960527\") {\n",
       "      outputDiv = document.getElementById(\"altair-viz-9c892b962bc84df494bcc007a6960527\");\n",
       "    }\n",
       "    const paths = {\n",
       "      \"vega\": \"https://cdn.jsdelivr.net/npm//vega@5?noext\",\n",
       "      \"vega-lib\": \"https://cdn.jsdelivr.net/npm//vega-lib?noext\",\n",
       "      \"vega-lite\": \"https://cdn.jsdelivr.net/npm//vega-lite@4.8.1?noext\",\n",
       "      \"vega-embed\": \"https://cdn.jsdelivr.net/npm//vega-embed@6?noext\",\n",
       "    };\n",
       "\n",
       "    function loadScript(lib) {\n",
       "      return new Promise(function(resolve, reject) {\n",
       "        var s = document.createElement('script');\n",
       "        s.src = paths[lib];\n",
       "        s.async = true;\n",
       "        s.onload = () => resolve(paths[lib]);\n",
       "        s.onerror = () => reject(`Error loading script: ${paths[lib]}`);\n",
       "        document.getElementsByTagName(\"head\")[0].appendChild(s);\n",
       "      });\n",
       "    }\n",
       "\n",
       "    function showError(err) {\n",
       "      outputDiv.innerHTML = `<div class=\"error\" style=\"color:red;\">${err}</div>`;\n",
       "      throw err;\n",
       "    }\n",
       "\n",
       "    function displayChart(vegaEmbed) {\n",
       "      vegaEmbed(outputDiv, spec, embedOpt)\n",
       "        .catch(err => showError(`Javascript Error: ${err.message}<br>This usually means there's a typo in your chart specification. See the javascript console for the full traceback.`));\n",
       "    }\n",
       "\n",
       "    if(typeof define === \"function\" && define.amd) {\n",
       "      requirejs.config({paths});\n",
       "      require([\"vega-embed\"], displayChart, err => showError(`Error loading script: ${err.message}`));\n",
       "    } else if (typeof vegaEmbed === \"function\") {\n",
       "      displayChart(vegaEmbed);\n",
       "    } else {\n",
       "      loadScript(\"vega\")\n",
       "        .then(() => loadScript(\"vega-lite\"))\n",
       "        .then(() => loadScript(\"vega-embed\"))\n",
       "        .catch(showError)\n",
       "        .then(() => displayChart(vegaEmbed));\n",
       "    }\n",
       "  })({\"config\": {\"view\": {\"width\": 800, \"height\": 450}, \"background\": \"#ffffff\", \"title\": {\"anchor\": \"start\", \"font\": \"Benton Gothic Bold, sans\", \"fontColor\": \"#000000\", \"fontSize\": 22, \"fontWeight\": \"normal\"}, \"arc\": {\"fill\": \"#82c6df\"}, \"area\": {\"fill\": \"#82c6df\"}, \"line\": {\"stroke\": \"#82c6df\", \"strokeWidth\": 3}, \"path\": {\"stroke\": \"#82c6df\"}, \"rect\": {\"fill\": \"#82c6df\"}, \"shape\": {\"stroke\": \"#82c6df\"}, \"bar\": {\"fill\": \"#82c6df\"}, \"point\": {\"stroke\": \"#82c6df\"}, \"symbol\": {\"fill\": \"#82c6df\", \"size\": 30}, \"axis\": {\"titleFont\": \"Benton Gothic Bold, sans\", \"titleFontSize\": 13, \"titleFontWeight\": \"normal\", \"labelFont\": \"Benton Gothic, sans\", \"labelFontSize\": 11.5, \"labelFontWeight\": \"normal\"}, \"axisX\": {\"labelAngle\": 0, \"labelPadding\": 4, \"tickSize\": 3}, \"axisY\": {\"labelBaseline\": \"middle\", \"maxExtent\": 45, \"minExtent\": 45, \"tickSize\": 2, \"titleAlign\": \"left\", \"titleAngle\": 0, \"titleX\": -45, \"titleY\": -11}, \"legend\": {\"titleFont\": \"Benton Gothic Bold, sans\", \"titleFontSize\": 13, \"titleFontWeight\": \"normal\", \"symbolType\": \"square\", \"labelFont\": \"Benton Gothic, sans\", \"labelFontSize\": 11.5}, \"range\": {\"category\": [\"#3580b1\", \"#ec8431\", \"#ab7fb4\", \"#c89d29\", \"#adc839\", \"#829eb1\"], \"diverging\": [\"#e68a4f\", \"#f4bb6a\", \"#f9e39c\", \"#dadfe2\", \"#a6b7c6\", \"#849eae\"], \"heatmap\": [\"#fbf2c7\", \"#f9e39c\", \"#f8d36e\", \"#f4bb6a\", \"#e68a4f\", \"#d15a40\", \"#ab4232\"], \"ordinal\": [\"#fbf2c7\", \"#f9e39c\", \"#f8d36e\", \"#f4bb6a\", \"#e68a4f\", \"#d15a40\", \"#ab4232\"], \"ramp\": [\"#fbf2c7\", \"#f9e39c\", \"#f8d36e\", \"#f4bb6a\", \"#e68a4f\", \"#d15a40\", \"#ab4232\"]}}, \"data\": {\"name\": \"data-62df5b3b9a04f9a4ad71044ef41c2477\"}, \"mark\": {\"type\": \"line\", \"color\": \"red\", \"size\": 5}, \"encoding\": {\"facet\": {\"type\": \"nominal\", \"columns\": 8, \"field\": \"name\"}, \"x\": {\"type\": \"ordinal\", \"field\": \"date\"}, \"y\": {\"type\": \"quantitative\", \"field\": \"rate\", \"title\": \"\"}}, \"height\": 150, \"title\": \"Places with largest, smallest coronavirus case rate increases\", \"width\": 150, \"$schema\": \"https://vega.github.io/schema/vega-lite/v4.8.1.json\", \"datasets\": {\"data-62df5b3b9a04f9a4ad71044ef41c2477\": [{\"name\": \"Irwindale\", \"date\": \"2020-11-15\", \"rate\": 0.0}, {\"name\": \"Lake Manor\", \"date\": \"2020-11-15\", \"rate\": 0.0}, {\"name\": \"Twin Lakes/Oat Mountain\", \"date\": \"2020-11-15\", \"rate\": 0.0}, {\"name\": \"West Antelope Valley\", \"date\": \"2020-11-15\", \"rate\": 0.0}, {\"name\": \"La Habra Heights\", \"date\": \"2020-11-15\", \"rate\": 0.0}, {\"name\": \"Unincorporated - Monrovia\", \"date\": \"2020-11-15\", \"rate\": 25.76655501159495}, {\"name\": \"Kagel/Lopez Canyons\", \"date\": \"2020-11-15\", \"rate\": 70.8215297450425}, {\"name\": \"West Rancho Dominguez\", \"date\": \"2020-11-15\", \"rate\": 73.58351729212656}, {\"name\": \"El Camino Village\", \"date\": \"2020-11-15\", \"rate\": 45.50108065066545}, {\"name\": \"Reynier Village\", \"date\": \"2020-11-15\", \"rate\": 47.30368968779565}, {\"name\": \"La Rambla\", \"date\": \"2020-11-15\", \"rate\": 48.19277108433735}, {\"name\": \"Leimert Park\", \"date\": \"2020-11-15\", \"rate\": 59.0744995077125}, {\"name\": \"Toluca Terrace\", \"date\": \"2020-11-15\", \"rate\": 76.5696784073507}, {\"name\": \"Exposition\", \"date\": \"2020-11-15\", \"rate\": 90.19843656043297}, {\"name\": \"Avocado Heights\", \"date\": \"2020-11-15\", \"rate\": 118.08118081180812}, {\"name\": \"Gramercy Place\", \"date\": \"2020-11-15\", \"rate\": 92.90226681531028}, {\"name\": \"Wellington Square\", \"date\": \"2020-11-15\", \"rate\": 81.38351983723295}, {\"name\": \"Vermont Square\", \"date\": \"2020-11-15\", \"rate\": 156.71934177876454}, {\"name\": \"Santa Fe Springs\", \"date\": \"2020-11-15\", \"rate\": 119.79960792855589}, {\"name\": \"Hyde Park\", \"date\": \"2020-11-15\", \"rate\": 101.6082127465751}, {\"name\": \"Unincorporated - Pomona\", \"date\": \"2020-11-15\", \"rate\": 103.19917440660474}, {\"name\": \"San Pasqual\", \"date\": \"2020-11-15\", \"rate\": 98.28009828009829}, {\"name\": \"Park La Brea\", \"date\": \"2020-11-15\", \"rate\": 117.820324005891}, {\"name\": \"Rancho Dominguez\", \"date\": \"2020-11-15\", \"rate\": 375.7985719654265}, {\"name\": \"Hollywood Hills\", \"date\": \"2020-11-15\", \"rate\": 139.2946932119318}, {\"name\": \"Agua Dulce\", \"date\": \"2020-11-15\", \"rate\": 240.5002405002405}, {\"name\": \"Marina Peninsula\", \"date\": \"2020-11-15\", \"rate\": 68.80733944954129}, {\"name\": \"East Pasadena\", \"date\": \"2020-11-15\", \"rate\": 46.85303763860691}, {\"name\": \"Brentwood\", \"date\": \"2020-11-15\", \"rate\": 125.98933936359232}, {\"name\": \"West Hollywood\", \"date\": \"2020-11-15\", \"rate\": 211.09036291304704}, {\"name\": \"White Fence Farms\", \"date\": \"2020-11-15\", \"rate\": 298.66956285636707}, {\"name\": \"Toluca Woods\", \"date\": \"2020-11-15\", \"rate\": 322.9278794402584}, {\"name\": \"Palos Verdes Estates\", \"date\": \"2020-11-15\", \"rate\": 36.97677858304984}, {\"name\": \"North Lancaster\", \"date\": \"2020-11-15\", \"rate\": 751.2520868113523}, {\"name\": \"Palisades Highlands\", \"date\": \"2020-11-15\", \"rate\": 104.00416016640666}, {\"name\": \"Del Sur\", \"date\": \"2020-11-15\", \"rate\": 331.26293995859214}, {\"name\": \"Bouquet Canyon\", \"date\": \"2020-11-15\", \"rate\": 186.3932898415657}, {\"name\": \"Malibu\", \"date\": \"2020-11-15\", \"rate\": 100.30090270812435}, {\"name\": \"Playa Del Rey\", \"date\": \"2020-11-15\", \"rate\": 250.3128911138924}, {\"name\": \"Hidden Hills\", \"date\": \"2020-11-15\", \"rate\": 52.91005291005291}, {\"name\": \"Irwindale\", \"date\": \"2020-12-15\", \"rate\": 1644.962302947224}, {\"name\": \"Lake Manor\", \"date\": \"2020-12-15\", \"rate\": 608.6427267194157}, {\"name\": \"Twin Lakes/Oat Mountain\", \"date\": \"2020-12-15\", \"rate\": 542.8226779252111}, {\"name\": \"West Antelope Valley\", \"date\": \"2020-12-15\", \"rate\": 397.08802117802776}, {\"name\": \"La Habra Heights\", \"date\": \"2020-12-15\", \"rate\": 54.99541704857928}, {\"name\": \"Unincorporated - Monrovia\", \"date\": \"2020-12-15\", \"rate\": 721.4635403246585}, {\"name\": \"Kagel/Lopez Canyons\", \"date\": \"2020-12-15\", \"rate\": 1558.0736543909347}, {\"name\": \"West Rancho Dominguez\", \"date\": \"2020-12-15\", \"rate\": 1398.0868285504048}, {\"name\": \"El Camino Village\", \"date\": \"2020-12-15\", \"rate\": 682.5162097599818}, {\"name\": \"Reynier Village\", \"date\": \"2020-12-15\", \"rate\": 614.9479659413435}, {\"name\": \"La Rambla\", \"date\": \"2020-12-15\", \"rate\": 578.3132530120482}, {\"name\": \"Leimert Park\", \"date\": \"2020-12-15\", \"rate\": 702.3301608139153}, {\"name\": \"Toluca Terrace\", \"date\": \"2020-12-15\", \"rate\": 842.2664624808576}, {\"name\": \"Exposition\", \"date\": \"2020-12-15\", \"rate\": 992.1828021647624}, {\"name\": \"Avocado Heights\", \"date\": \"2020-12-15\", \"rate\": 1284.1328413284134}, {\"name\": \"Gramercy Place\", \"date\": \"2020-12-15\", \"rate\": 994.0542549238202}, {\"name\": \"Wellington Square\", \"date\": \"2020-12-15\", \"rate\": 752.7975584944049}, {\"name\": \"Vermont Square\", \"date\": \"2020-12-15\", \"rate\": 1332.1144051194983}, {\"name\": \"Santa Fe Springs\", \"date\": \"2020-12-15\", \"rate\": 985.6240470485732}, {\"name\": \"Hyde Park\", \"date\": \"2020-12-15\", \"rate\": 819.8731649206404}, {\"name\": \"Unincorporated - Pomona\", \"date\": \"2020-12-15\", \"rate\": 206.39834881320948}, {\"name\": \"San Pasqual\", \"date\": \"2020-12-15\", \"rate\": 196.56019656019652}, {\"name\": \"Park La Brea\", \"date\": \"2020-12-15\", \"rate\": 228.27687776141383}, {\"name\": \"Rancho Dominguez\", \"date\": \"2020-12-15\", \"rate\": 714.0172867343103}, {\"name\": \"Hollywood Hills\", \"date\": \"2020-12-15\", \"rate\": 254.8073656315825}, {\"name\": \"Agua Dulce\", \"date\": \"2020-12-15\", \"rate\": 408.8504088504088}, {\"name\": \"Marina Peninsula\", \"date\": \"2020-12-15\", \"rate\": 114.67889908256882}, {\"name\": \"East Pasadena\", \"date\": \"2020-12-15\", \"rate\": 78.08839606434483}, {\"name\": \"Brentwood\", \"date\": \"2020-12-15\", \"rate\": 203.52124051041835}, {\"name\": \"West Hollywood\", \"date\": \"2020-12-15\", \"rate\": 335.57955129766447}, {\"name\": \"White Fence Farms\", \"date\": \"2020-12-15\", \"rate\": 461.5802335052946}, {\"name\": \"Toluca Woods\", \"date\": \"2020-12-15\", \"rate\": 484.3918191603875}, {\"name\": \"Palos Verdes Estates\", \"date\": \"2020-12-15\", \"rate\": 51.76749001626978}, {\"name\": \"North Lancaster\", \"date\": \"2020-12-15\", \"rate\": 1001.669449081803}, {\"name\": \"Palisades Highlands\", \"date\": \"2020-12-15\", \"rate\": 130.00520020800832}, {\"name\": \"Del Sur\", \"date\": \"2020-12-15\", \"rate\": 331.26293995859214}, {\"name\": \"Bouquet Canyon\", \"date\": \"2020-12-15\", \"rate\": 186.3932898415657}, {\"name\": \"Malibu\", \"date\": \"2020-12-15\", \"rate\": 84.86999459918216}, {\"name\": \"Playa Del Rey\", \"date\": \"2020-12-15\", \"rate\": 93.86733416770964}, {\"name\": \"Hidden Hills\", \"date\": \"2020-12-15\", \"rate\": 0.0}]}}, {\"mode\": \"vega-lite\"});\n",
       "</script>"
      ],
      "text/plain": [
       "alt.Chart(...)"
      ]
     },
     "execution_count": 29,
     "metadata": {},
     "output_type": "execute_result"
    }
   ],
   "source": [
    "alt.Chart(surge_change_melt).mark_line(size=5, color=\"red\").encode(\n",
    "    x=alt.X(\"date:O\"),\n",
    "    y=alt.Y(\"rate\", title=\"\"),\n",
    "    facet=alt.Facet(\"name\", columns=8),\n",
    ").properties(\n",
    "    height=150,\n",
    "    width=150,\n",
    "    title=\"Places with largest, smallest coronavirus case rate increases\",\n",
    ")"
   ]
  },
  {
   "cell_type": "code",
   "execution_count": null,
   "id": "running-rouge",
   "metadata": {},
   "outputs": [],
   "source": []
  },
  {
   "cell_type": "code",
   "execution_count": null,
   "id": "sunset-harbor",
   "metadata": {},
   "outputs": [],
   "source": []
  },
  {
   "cell_type": "markdown",
   "id": "wrong-orientation",
   "metadata": {},
   "source": [
    "---"
   ]
  },
  {
   "cell_type": "code",
   "execution_count": 30,
   "id": "twelve-stress",
   "metadata": {},
   "outputs": [],
   "source": [
    "places_map = gpd.read_file(\n",
    "    \"input/cities-neighborhoods-unincorporated-la-county.geojson\"\n",
    ").fillna(\"\")"
   ]
  },
  {
   "cell_type": "code",
   "execution_count": 31,
   "id": "responsible-fusion",
   "metadata": {},
   "outputs": [],
   "source": [
    "places_map[\"NAME\"] = np.where(\n",
    "    (places_map[\"LCITY\"] == \"Los Angeles\") | (places_map[\"LCITY\"] == \"Unincorporated\"),\n",
    "    places_map[\"COMMUNITY\"],\n",
    "    places_map[\"LCITY\"],\n",
    ")"
   ]
  },
  {
   "cell_type": "code",
   "execution_count": 32,
   "id": "comparative-thinking",
   "metadata": {},
   "outputs": [],
   "source": [
    "places_map_geo = places_map.merge(\n",
    "    surge_change_pivot, left_on=\"NAME\", right_on=\"name\", how=\"inner\"\n",
    ")"
   ]
  },
  {
   "cell_type": "code",
   "execution_count": 33,
   "id": "lyric-minneapolis",
   "metadata": {},
   "outputs": [
    {
     "data": {
      "text/plain": [
       "307"
      ]
     },
     "execution_count": 33,
     "metadata": {},
     "output_type": "execute_result"
    }
   ],
   "source": [
    "len(places_map_geo)"
   ]
  },
  {
   "cell_type": "code",
   "execution_count": 34,
   "id": "adjusted-bread",
   "metadata": {},
   "outputs": [],
   "source": [
    "places_map_geo.to_file(\"output/places_map_geo.geojson\", driver=\"GeoJSON\")"
   ]
  },
  {
   "cell_type": "code",
   "execution_count": 35,
   "id": "boxed-shame",
   "metadata": {},
   "outputs": [
    {
     "data": {
      "text/plain": [
       "<AxesSubplot:>"
      ]
     },
     "execution_count": 35,
     "metadata": {},
     "output_type": "execute_result"
    },
    {
     "data": {
      "image/png": "[encoded data removed]",
      "text/plain": [
       "<Figure size 432x288 with 1 Axes>"
      ]
     },
     "metadata": {
      "needs_background": "light"
     },
     "output_type": "display_data"
    }
   ],
   "source": [
    "places_map_geo.plot()"
   ]
  },
  {
   "cell_type": "code",
   "execution_count": null,
   "id": "dying-nowhere",
   "metadata": {},
   "outputs": [],
   "source": []
  },
  {
   "cell_type": "code",
   "execution_count": null,
   "id": "conceptual-silver",
   "metadata": {},
   "outputs": [],
   "source": []
  }
 ],
 "metadata": {
  "kernelspec": {
   "display_name": "Python 3",
   "language": "python",
   "name": "python3"
  },
  "language_info": {
   "codemirror_mode": {
    "name": "ipython",
    "version": 3
   },
   "file_extension": ".py",
   "mimetype": "text/x-python",
   "name": "python",
   "nbconvert_exporter": "python",
   "pygments_lexer": "ipython3",
   "version": "3.7.4"
  }
 },
 "nbformat": 4,
 "nbformat_minor": 5
}
