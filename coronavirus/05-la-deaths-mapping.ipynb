{
 "cells": [
  {
   "cell_type": "markdown",
   "id": "atomic-reception",
   "metadata": {},
   "source": [
    "### Local Covid deaths"
   ]
  },
  {
   "cell_type": "code",
   "execution_count": 1,
   "id": "british-tours",
   "metadata": {},
   "outputs": [],
   "source": [
    "%load_ext lab_black"
   ]
  },
  {
   "cell_type": "code",
   "execution_count": 2,
   "id": "introductory-atmosphere",
   "metadata": {},
   "outputs": [],
   "source": [
    "import pandas as pd\n",
    "import geopandas as gpd\n",
    "import jenkspy\n",
    "import matplotlib.pyplot as plt"
   ]
  },
  {
   "cell_type": "code",
   "execution_count": 3,
   "id": "imperial-university",
   "metadata": {},
   "outputs": [],
   "source": [
    "%matplotlib inline\n",
    "import json\n",
    "import numpy as np\n",
    "import altair as alt\n",
    "import altair_latimes as lat"
   ]
  },
  {
   "cell_type": "code",
   "execution_count": 4,
   "id": "advanced-anniversary",
   "metadata": {},
   "outputs": [],
   "source": [
    "import requests\n",
    "from bs4 import BeautifulSoup\n",
    "import re\n",
    "import unicodedata\n",
    "from datetime import datetime, date\n",
    "from slugify import slugify"
   ]
  },
  {
   "cell_type": "code",
   "execution_count": 5,
   "id": "quick-volleyball",
   "metadata": {},
   "outputs": [
    {
     "data": {
      "text/plain": [
       "DataTransformerRegistry.enable('default')"
      ]
     },
     "execution_count": 5,
     "metadata": {},
     "output_type": "execute_result"
    }
   ],
   "source": [
    "alt.themes.register(\"latimes\", lat.theme)\n",
    "alt.themes.enable(\"latimes\")\n",
    "pd.options.display.max_columns = 50\n",
    "pd.options.display.max_rows = 1000\n",
    "alt.data_transformers.disable_max_rows()"
   ]
  },
  {
   "cell_type": "markdown",
   "id": "visible-storm",
   "metadata": {},
   "source": [
    "## Download"
   ]
  },
  {
   "cell_type": "markdown",
   "id": "subject-ordinary",
   "metadata": {},
   "source": [
    "Retrieve the page"
   ]
  },
  {
   "cell_type": "code",
   "execution_count": 6,
   "id": "dress-relevance",
   "metadata": {},
   "outputs": [],
   "source": [
    "url = \"http://publichealth.lacounty.gov/media/Coronavirus/locations.htm\""
   ]
  },
  {
   "cell_type": "code",
   "execution_count": 7,
   "id": "mediterranean-history",
   "metadata": {},
   "outputs": [],
   "source": [
    "page = requests.get(url)"
   ]
  },
  {
   "cell_type": "markdown",
   "id": "ceramic-stephen",
   "metadata": {},
   "source": [
    "## Parse"
   ]
  },
  {
   "cell_type": "code",
   "execution_count": 8,
   "id": "assumed-shelf",
   "metadata": {},
   "outputs": [],
   "source": [
    "soup = BeautifulSoup(page.content, \"html.parser\")"
   ]
  },
  {
   "cell_type": "markdown",
   "id": "enhanced-wilson",
   "metadata": {},
   "source": [
    "Get content well"
   ]
  },
  {
   "cell_type": "code",
   "execution_count": 9,
   "id": "gothic-discount",
   "metadata": {},
   "outputs": [],
   "source": [
    "content = soup.find(\"div\", {\"id\": \"content\"})"
   ]
  },
  {
   "cell_type": "markdown",
   "id": "funny-smooth",
   "metadata": {},
   "source": [
    "Get table"
   ]
  },
  {
   "cell_type": "code",
   "execution_count": 10,
   "id": "massive-adult",
   "metadata": {},
   "outputs": [],
   "source": [
    "for tag in content.find_all(text=re.compile(\"CITY/COMMUNITY\")):\n",
    "    table = tag.findParent(\"table\")"
   ]
  },
  {
   "cell_type": "code",
   "execution_count": 11,
   "id": "local-flower",
   "metadata": {},
   "outputs": [],
   "source": [
    "tbody = soup.tbody"
   ]
  },
  {
   "cell_type": "code",
   "execution_count": 12,
   "id": "twelve-seattle",
   "metadata": {},
   "outputs": [],
   "source": [
    "row_list = tbody.find_all(\"tr\")"
   ]
  },
  {
   "cell_type": "code",
   "execution_count": 13,
   "id": "angry-cisco",
   "metadata": {},
   "outputs": [],
   "source": [
    "dict_list = []"
   ]
  },
  {
   "cell_type": "code",
   "execution_count": 14,
   "id": "reflected-tobago",
   "metadata": {},
   "outputs": [],
   "source": [
    "def safetxt(element):\n",
    "    v = element.text.strip()\n",
    "    v = v.replace(\"\\u200b\", \"\")\n",
    "    return v"
   ]
  },
  {
   "cell_type": "code",
   "execution_count": 15,
   "id": "metropolitan-outline",
   "metadata": {},
   "outputs": [],
   "source": [
    "def safenumber(element):\n",
    "    v = safetxt(element)\n",
    "    v = v.replace(\",\", \"\")\n",
    "    v = v.replace(\" \", \"\")\n",
    "    return v"
   ]
  },
  {
   "cell_type": "code",
   "execution_count": 16,
   "id": "opponent-render",
   "metadata": {},
   "outputs": [],
   "source": [
    "for row in row_list:\n",
    "    cell_content = row.find_all(\"td\")\n",
    "    d = dict(\n",
    "        county=\"Los Angeles\",\n",
    "        area=safetxt(cell_content[0]),\n",
    "        confirmed_cases=safenumber(cell_content[1]),\n",
    "        cases_rate=safenumber(cell_content[2]),\n",
    "        confirmed_deaths=safenumber(cell_content[3]),\n",
    "        deaths_rate=safenumber(cell_content[4]),\n",
    "    )\n",
    "    dict_list.append(d)"
   ]
  },
  {
   "cell_type": "code",
   "execution_count": 17,
   "id": "speaking-baptist",
   "metadata": {},
   "outputs": [],
   "source": [
    "df = pd.DataFrame(dict_list)"
   ]
  },
  {
   "cell_type": "code",
   "execution_count": 18,
   "id": "standard-charter",
   "metadata": {},
   "outputs": [
    {
     "data": {
      "text/html": [
       "<div>\n",
       "<style scoped>\n",
       "    .dataframe tbody tr th:only-of-type {\n",
       "        vertical-align: middle;\n",
       "    }\n",
       "\n",
       "    .dataframe tbody tr th {\n",
       "        vertical-align: top;\n",
       "    }\n",
       "\n",
       "    .dataframe thead th {\n",
       "        text-align: right;\n",
       "    }\n",
       "</style>\n",
       "<table border=\"1\" class=\"dataframe\">\n",
       "  <thead>\n",
       "    <tr style=\"text-align: right;\">\n",
       "      <th></th>\n",
       "      <th>county</th>\n",
       "      <th>area</th>\n",
       "      <th>confirmed_cases</th>\n",
       "      <th>cases_rate</th>\n",
       "      <th>confirmed_deaths</th>\n",
       "      <th>deaths_rate</th>\n",
       "    </tr>\n",
       "  </thead>\n",
       "  <tbody>\n",
       "    <tr>\n",
       "      <th>0</th>\n",
       "      <td>Los Angeles</td>\n",
       "      <td>City of Agoura Hills</td>\n",
       "      <td>907</td>\n",
       "      <td>4343</td>\n",
       "      <td>13</td>\n",
       "      <td>62</td>\n",
       "    </tr>\n",
       "    <tr>\n",
       "      <th>1</th>\n",
       "      <td>Los Angeles</td>\n",
       "      <td>City of Alhambra</td>\n",
       "      <td>6430</td>\n",
       "      <td>7414</td>\n",
       "      <td>157</td>\n",
       "      <td>181</td>\n",
       "    </tr>\n",
       "    <tr>\n",
       "      <th>2</th>\n",
       "      <td>Los Angeles</td>\n",
       "      <td>City of Arcadia</td>\n",
       "      <td>2477</td>\n",
       "      <td>4289</td>\n",
       "      <td>97</td>\n",
       "      <td>168</td>\n",
       "    </tr>\n",
       "    <tr>\n",
       "      <th>3</th>\n",
       "      <td>Los Angeles</td>\n",
       "      <td>City of Artesia</td>\n",
       "      <td>1904</td>\n",
       "      <td>11337</td>\n",
       "      <td>46</td>\n",
       "      <td>274</td>\n",
       "    </tr>\n",
       "    <tr>\n",
       "      <th>4</th>\n",
       "      <td>Los Angeles</td>\n",
       "      <td>City of Avalon</td>\n",
       "      <td>13</td>\n",
       "      <td>336</td>\n",
       "      <td>0</td>\n",
       "      <td>0</td>\n",
       "    </tr>\n",
       "  </tbody>\n",
       "</table>\n",
       "</div>"
      ],
      "text/plain": [
       "        county                  area confirmed_cases cases_rate  \\\n",
       "0  Los Angeles  City of Agoura Hills             907       4343   \n",
       "1  Los Angeles      City of Alhambra            6430       7414   \n",
       "2  Los Angeles       City of Arcadia            2477       4289   \n",
       "3  Los Angeles       City of Artesia            1904      11337   \n",
       "4  Los Angeles        City of Avalon              13        336   \n",
       "\n",
       "  confirmed_deaths deaths_rate  \n",
       "0               13          62  \n",
       "1              157         181  \n",
       "2               97         168  \n",
       "3               46         274  \n",
       "4                0           0  "
      ]
     },
     "execution_count": 18,
     "metadata": {},
     "output_type": "execute_result"
    }
   ],
   "source": [
    "df.head()"
   ]
  },
  {
   "cell_type": "markdown",
   "id": "specified-newark",
   "metadata": {},
   "source": [
    "Get timestamp"
   ]
  },
  {
   "cell_type": "code",
   "execution_count": 19,
   "id": "documentary-frequency",
   "metadata": {},
   "outputs": [],
   "source": [
    "date_url = \"http://publichealth.lacounty.gov/media/Coronavirus/js/casecounter.js\""
   ]
  },
  {
   "cell_type": "code",
   "execution_count": 20,
   "id": "conscious-medicaid",
   "metadata": {},
   "outputs": [
    {
     "data": {
      "text/plain": [
       "'http://publichealth.lacounty.gov/media/Coronavirus/js/casecounter.js'"
      ]
     },
     "execution_count": 20,
     "metadata": {},
     "output_type": "execute_result"
    }
   ],
   "source": [
    "date_url"
   ]
  },
  {
   "cell_type": "code",
   "execution_count": 21,
   "id": "graduate-theme",
   "metadata": {},
   "outputs": [],
   "source": [
    "response = requests.get(date_url)\n",
    "date_page = response.text"
   ]
  },
  {
   "cell_type": "code",
   "execution_count": 22,
   "id": "valued-defendant",
   "metadata": {},
   "outputs": [],
   "source": [
    "date_text = re.search(r\"([0-9][0-9]/[0-9][0-9])\", date_page).group(1)\n",
    "date_text = date_text + \"/\" + str(date.today().year)"
   ]
  },
  {
   "cell_type": "code",
   "execution_count": 23,
   "id": "technological-uganda",
   "metadata": {},
   "outputs": [],
   "source": [
    "latest_date = pd.to_datetime(date_text).date()"
   ]
  },
  {
   "cell_type": "code",
   "execution_count": 24,
   "id": "global-rwanda",
   "metadata": {},
   "outputs": [],
   "source": [
    "df[\"county_date\"] = latest_date"
   ]
  },
  {
   "cell_type": "code",
   "execution_count": 25,
   "id": "impressive-medline",
   "metadata": {},
   "outputs": [
    {
     "data": {
      "text/html": [
       "<div>\n",
       "<style scoped>\n",
       "    .dataframe tbody tr th:only-of-type {\n",
       "        vertical-align: middle;\n",
       "    }\n",
       "\n",
       "    .dataframe tbody tr th {\n",
       "        vertical-align: top;\n",
       "    }\n",
       "\n",
       "    .dataframe thead th {\n",
       "        text-align: right;\n",
       "    }\n",
       "</style>\n",
       "<table border=\"1\" class=\"dataframe\">\n",
       "  <thead>\n",
       "    <tr style=\"text-align: right;\">\n",
       "      <th></th>\n",
       "      <th>county</th>\n",
       "      <th>area</th>\n",
       "      <th>confirmed_cases</th>\n",
       "      <th>cases_rate</th>\n",
       "      <th>confirmed_deaths</th>\n",
       "      <th>deaths_rate</th>\n",
       "      <th>county_date</th>\n",
       "    </tr>\n",
       "  </thead>\n",
       "  <tbody>\n",
       "    <tr>\n",
       "      <th>341</th>\n",
       "      <td>Los Angeles</td>\n",
       "      <td>-  Under Investigation</td>\n",
       "      <td>21202</td>\n",
       "      <td></td>\n",
       "      <td>67</td>\n",
       "      <td></td>\n",
       "      <td>2021-02-09</td>\n",
       "    </tr>\n",
       "  </tbody>\n",
       "</table>\n",
       "</div>"
      ],
      "text/plain": [
       "          county                    area confirmed_cases cases_rate  \\\n",
       "341  Los Angeles  -  Under Investigation           21202              \n",
       "\n",
       "    confirmed_deaths deaths_rate county_date  \n",
       "341               67              2021-02-09  "
      ]
     },
     "execution_count": 25,
     "metadata": {},
     "output_type": "execute_result"
    }
   ],
   "source": [
    "df.tail(1)"
   ]
  },
  {
   "cell_type": "code",
   "execution_count": 26,
   "id": "solved-orchestra",
   "metadata": {},
   "outputs": [],
   "source": [
    "df.loc[df.area == \"-  Under Investigation\", \"area\"] = \"Under Investigation\""
   ]
  },
  {
   "cell_type": "code",
   "execution_count": 27,
   "id": "breeding-personality",
   "metadata": {},
   "outputs": [],
   "source": [
    "df.loc[df.area == \"- Under Investigation\", \"area\"] = \"Under Investigation\""
   ]
  },
  {
   "cell_type": "markdown",
   "id": "chronic-bahrain",
   "metadata": {},
   "source": [
    "## Vet"
   ]
  },
  {
   "cell_type": "code",
   "execution_count": 28,
   "id": "competent-expense",
   "metadata": {},
   "outputs": [
    {
     "data": {
      "text/plain": [
       "342"
      ]
     },
     "execution_count": 28,
     "metadata": {},
     "output_type": "execute_result"
    }
   ],
   "source": [
    "len(df)"
   ]
  },
  {
   "cell_type": "code",
   "execution_count": 29,
   "id": "established-handle",
   "metadata": {},
   "outputs": [],
   "source": [
    "try:\n",
    "    assert not len(df) > 342\n",
    "except AssertionError:\n",
    "    raise AssertionError(\"L.A. County's scraper has extra rows\")"
   ]
  },
  {
   "cell_type": "code",
   "execution_count": 30,
   "id": "difficult-shareware",
   "metadata": {},
   "outputs": [],
   "source": [
    "try:\n",
    "    assert not len(df) < 342\n",
    "except AssertionError:\n",
    "    raise AssertionError(\"L.A. County's scraper is missing rows\")"
   ]
  },
  {
   "cell_type": "markdown",
   "id": "induced-manner",
   "metadata": {},
   "source": [
    "## Export"
   ]
  },
  {
   "cell_type": "markdown",
   "id": "comparative-integral",
   "metadata": {},
   "source": [
    "Set the date"
   ]
  },
  {
   "cell_type": "code",
   "execution_count": 31,
   "id": "connected-virgin",
   "metadata": {},
   "outputs": [],
   "source": [
    "now = pd.Timestamp.today()"
   ]
  },
  {
   "cell_type": "code",
   "execution_count": 32,
   "id": "static-stocks",
   "metadata": {},
   "outputs": [],
   "source": [
    "latest = df[\"county_date\"].max()"
   ]
  },
  {
   "cell_type": "code",
   "execution_count": 33,
   "id": "tropical-pathology",
   "metadata": {},
   "outputs": [],
   "source": [
    "df.to_csv(f\"output/deaths/los-angeles-{latest}.csv\", index=False)"
   ]
  },
  {
   "cell_type": "code",
   "execution_count": 34,
   "id": "digital-dividend",
   "metadata": {},
   "outputs": [
    {
     "data": {
      "text/plain": [
       "342"
      ]
     },
     "execution_count": 34,
     "metadata": {},
     "output_type": "execute_result"
    }
   ],
   "source": [
    "len(df)"
   ]
  },
  {
   "cell_type": "markdown",
   "id": "jewish-holocaust",
   "metadata": {},
   "source": [
    "---"
   ]
  },
  {
   "cell_type": "code",
   "execution_count": 35,
   "id": "transparent-alabama",
   "metadata": {},
   "outputs": [],
   "source": [
    "places = df.copy()"
   ]
  },
  {
   "cell_type": "code",
   "execution_count": 36,
   "id": "related-bonus",
   "metadata": {},
   "outputs": [],
   "source": [
    "places[\"area\"] = places[\"area\"].str.replace(\"*\", \"\", regex=False)"
   ]
  },
  {
   "cell_type": "code",
   "execution_count": 37,
   "id": "postal-pastor",
   "metadata": {},
   "outputs": [
    {
     "data": {
      "text/html": [
       "<div>\n",
       "<style scoped>\n",
       "    .dataframe tbody tr th:only-of-type {\n",
       "        vertical-align: middle;\n",
       "    }\n",
       "\n",
       "    .dataframe tbody tr th {\n",
       "        vertical-align: top;\n",
       "    }\n",
       "\n",
       "    .dataframe thead th {\n",
       "        text-align: right;\n",
       "    }\n",
       "</style>\n",
       "<table border=\"1\" class=\"dataframe\">\n",
       "  <thead>\n",
       "    <tr style=\"text-align: right;\">\n",
       "      <th></th>\n",
       "      <th>county</th>\n",
       "      <th>area</th>\n",
       "      <th>confirmed_cases</th>\n",
       "      <th>cases_rate</th>\n",
       "      <th>confirmed_deaths</th>\n",
       "      <th>deaths_rate</th>\n",
       "      <th>county_date</th>\n",
       "    </tr>\n",
       "  </thead>\n",
       "  <tbody>\n",
       "    <tr>\n",
       "      <th>5</th>\n",
       "      <td>Los Angeles</td>\n",
       "      <td>City of Azusa</td>\n",
       "      <td>5903</td>\n",
       "      <td>11797</td>\n",
       "      <td>89</td>\n",
       "      <td>178</td>\n",
       "      <td>2021-02-09</td>\n",
       "    </tr>\n",
       "    <tr>\n",
       "      <th>234</th>\n",
       "      <td>Los Angeles</td>\n",
       "      <td>Unincorporated - Azusa</td>\n",
       "      <td>2221</td>\n",
       "      <td>13948</td>\n",
       "      <td>28</td>\n",
       "      <td>176</td>\n",
       "      <td>2021-02-09</td>\n",
       "    </tr>\n",
       "  </tbody>\n",
       "</table>\n",
       "</div>"
      ],
      "text/plain": [
       "          county                    area confirmed_cases cases_rate  \\\n",
       "5    Los Angeles           City of Azusa            5903      11797   \n",
       "234  Los Angeles  Unincorporated - Azusa            2221      13948   \n",
       "\n",
       "    confirmed_deaths deaths_rate county_date  \n",
       "5                 89         178  2021-02-09  \n",
       "234               28         176  2021-02-09  "
      ]
     },
     "execution_count": 37,
     "metadata": {},
     "output_type": "execute_result"
    }
   ],
   "source": [
    "places[places[\"area\"].str.contains(\"Azusa\")]"
   ]
  },
  {
   "cell_type": "markdown",
   "id": "disturbed-details",
   "metadata": {},
   "source": [
    "---"
   ]
  },
  {
   "cell_type": "markdown",
   "id": "referenced-governor",
   "metadata": {},
   "source": [
    "## Geography"
   ]
  },
  {
   "cell_type": "markdown",
   "id": "educated-buddy",
   "metadata": {},
   "source": [
    "### Get neighborhoods"
   ]
  },
  {
   "cell_type": "code",
   "execution_count": 38,
   "id": "limited-europe",
   "metadata": {},
   "outputs": [],
   "source": [
    "hoods = gpd.read_file(\"input/cities-neighborhoods-unincorporated-la-county.geojson\")"
   ]
  },
  {
   "cell_type": "code",
   "execution_count": 39,
   "id": "intermediate-furniture",
   "metadata": {},
   "outputs": [],
   "source": [
    "hoods = hoods.rename(columns=str.lower)"
   ]
  },
  {
   "cell_type": "code",
   "execution_count": 40,
   "id": "smart-expansion",
   "metadata": {},
   "outputs": [],
   "source": [
    "hoods.drop(\n",
    "    [\n",
    "        \"shape__area\",\n",
    "        \"shape__length\",\n",
    "        \"confirmed\",\n",
    "        \"suspected\",\n",
    "        \"recovered\",\n",
    "        \"deaths\",\n",
    "        \"objectid\",\n",
    "    ],\n",
    "    axis=1,\n",
    "    inplace=True,\n",
    ")"
   ]
  },
  {
   "cell_type": "code",
   "execution_count": null,
   "id": "measured-depression",
   "metadata": {},
   "outputs": [],
   "source": []
  },
  {
   "cell_type": "markdown",
   "id": "premier-injection",
   "metadata": {},
   "source": [
    "---"
   ]
  },
  {
   "cell_type": "markdown",
   "id": "attractive-wallace",
   "metadata": {},
   "source": [
    "## Merge "
   ]
  },
  {
   "cell_type": "markdown",
   "id": "wicked-render",
   "metadata": {},
   "source": [
    "### Join deaths dataframe to geography"
   ]
  },
  {
   "cell_type": "code",
   "execution_count": 42,
   "id": "waiting-environment",
   "metadata": {},
   "outputs": [],
   "source": [
    "deaths_hoods = hoods.merge(places, left_on=\"label\", right_on=\"area\")"
   ]
  },
  {
   "cell_type": "code",
   "execution_count": 43,
   "id": "alive-literature",
   "metadata": {},
   "outputs": [
    {
     "data": {
      "text/plain": [
       "340"
      ]
     },
     "execution_count": 43,
     "metadata": {},
     "output_type": "execute_result"
    }
   ],
   "source": [
    "len(deaths_hoods)"
   ]
  },
  {
   "cell_type": "code",
   "execution_count": 44,
   "id": "interpreted-newcastle",
   "metadata": {},
   "outputs": [
    {
     "data": {
      "text/plain": [
       "<AxesSubplot:>"
      ]
     },
     "execution_count": 44,
     "metadata": {},
     "output_type": "execute_result"
    },
    {
     "data": {
      "image/png": "[encoded data removed]",
      "text/plain": [
       "<Figure size 432x288 with 1 Axes>"
      ]
     },
     "metadata": {
      "needs_background": "light"
     },
     "output_type": "display_data"
    }
   ],
   "source": [
    "deaths_hoods.plot()"
   ]
  },
  {
   "cell_type": "code",
   "execution_count": 45,
   "id": "fossil-validation",
   "metadata": {},
   "outputs": [],
   "source": [
    "deaths_hoods[\n",
    "    [\"confirmed_deaths\", \"confirmed_cases\", \"cases_rate\", \"deaths_rate\"]\n",
    "] = deaths_hoods[\n",
    "    [\"confirmed_deaths\", \"confirmed_cases\", \"cases_rate\", \"deaths_rate\"]\n",
    "].astype(\n",
    "    int\n",
    ")"
   ]
  },
  {
   "cell_type": "code",
   "execution_count": 46,
   "id": "beneficial-finish",
   "metadata": {},
   "outputs": [],
   "source": [
    "def normalize(column):\n",
    "    upper = column.max()\n",
    "    lower = column.min()\n",
    "    y = (column - lower) / (upper - lower)\n",
    "    return y"
   ]
  },
  {
   "cell_type": "code",
   "execution_count": 47,
   "id": "stainless-summer",
   "metadata": {},
   "outputs": [],
   "source": [
    "deaths_hoods[\"normalized_deaths_rate\"] = normalize(deaths_hoods.deaths_rate)"
   ]
  },
  {
   "cell_type": "code",
   "execution_count": 48,
   "id": "healthy-flash",
   "metadata": {},
   "outputs": [],
   "source": [
    "deaths_hoods[\"county_date\"] = pd.to_datetime(deaths_hoods[\"county_date\"])"
   ]
  },
  {
   "cell_type": "code",
   "execution_count": 49,
   "id": "skilled-kenya",
   "metadata": {},
   "outputs": [],
   "source": [
    "deaths_hoods.to_file(\"output/deaths_hoods.geojson\", driver=\"GeoJSON\")"
   ]
  },
  {
   "cell_type": "code",
   "execution_count": 50,
   "id": "persistent-therapist",
   "metadata": {},
   "outputs": [
    {
     "data": {
      "text/html": [
       "<div>\n",
       "<style scoped>\n",
       "    .dataframe tbody tr th:only-of-type {\n",
       "        vertical-align: middle;\n",
       "    }\n",
       "\n",
       "    .dataframe tbody tr th {\n",
       "        vertical-align: top;\n",
       "    }\n",
       "\n",
       "    .dataframe thead th {\n",
       "        text-align: right;\n",
       "    }\n",
       "</style>\n",
       "<table border=\"1\" class=\"dataframe\">\n",
       "  <thead>\n",
       "    <tr style=\"text-align: right;\">\n",
       "      <th></th>\n",
       "      <th>lcity</th>\n",
       "      <th>community</th>\n",
       "      <th>label</th>\n",
       "      <th>geometry</th>\n",
       "      <th>county</th>\n",
       "      <th>area</th>\n",
       "      <th>confirmed_cases</th>\n",
       "      <th>cases_rate</th>\n",
       "      <th>confirmed_deaths</th>\n",
       "      <th>deaths_rate</th>\n",
       "      <th>county_date</th>\n",
       "      <th>normalized_deaths_rate</th>\n",
       "    </tr>\n",
       "  </thead>\n",
       "  <tbody>\n",
       "    <tr>\n",
       "      <th>0</th>\n",
       "      <td>Agoura Hills</td>\n",
       "      <td></td>\n",
       "      <td>City of Agoura Hills</td>\n",
       "      <td>POLYGON ((-118.72865 34.16793, -118.73655 34.1...</td>\n",
       "      <td>Los Angeles</td>\n",
       "      <td>City of Agoura Hills</td>\n",
       "      <td>907</td>\n",
       "      <td>4343</td>\n",
       "      <td>13</td>\n",
       "      <td>62</td>\n",
       "      <td>2021-02-09</td>\n",
       "      <td>0.003044</td>\n",
       "    </tr>\n",
       "    <tr>\n",
       "      <th>1</th>\n",
       "      <td>Bellflower</td>\n",
       "      <td></td>\n",
       "      <td>City of Bellflower</td>\n",
       "      <td>POLYGON ((-118.10976 33.90982, -118.10984 33.9...</td>\n",
       "      <td>Los Angeles</td>\n",
       "      <td>City of Bellflower</td>\n",
       "      <td>10050</td>\n",
       "      <td>12929</td>\n",
       "      <td>148</td>\n",
       "      <td>190</td>\n",
       "      <td>2021-02-09</td>\n",
       "      <td>0.009327</td>\n",
       "    </tr>\n",
       "    <tr>\n",
       "      <th>2</th>\n",
       "      <td>Beverly Hills</td>\n",
       "      <td></td>\n",
       "      <td>City of Beverly Hills</td>\n",
       "      <td>POLYGON ((-118.39160 34.11243, -118.39230 34.1...</td>\n",
       "      <td>Los Angeles</td>\n",
       "      <td>City of Beverly Hills</td>\n",
       "      <td>2327</td>\n",
       "      <td>6741</td>\n",
       "      <td>25</td>\n",
       "      <td>72</td>\n",
       "      <td>2021-02-09</td>\n",
       "      <td>0.003535</td>\n",
       "    </tr>\n",
       "    <tr>\n",
       "      <th>3</th>\n",
       "      <td>Burbank</td>\n",
       "      <td></td>\n",
       "      <td>City of Burbank</td>\n",
       "      <td>POLYGON ((-118.30781 34.16116, -118.30451 34.1...</td>\n",
       "      <td>Los Angeles</td>\n",
       "      <td>City of Burbank</td>\n",
       "      <td>7852</td>\n",
       "      <td>7326</td>\n",
       "      <td>184</td>\n",
       "      <td>172</td>\n",
       "      <td>2021-02-09</td>\n",
       "      <td>0.008444</td>\n",
       "    </tr>\n",
       "    <tr>\n",
       "      <th>4</th>\n",
       "      <td>Calabasas</td>\n",
       "      <td></td>\n",
       "      <td>City of Calabasas</td>\n",
       "      <td>POLYGON ((-118.69385 34.16856, -118.69454 34.1...</td>\n",
       "      <td>Los Angeles</td>\n",
       "      <td>City of Calabasas</td>\n",
       "      <td>1078</td>\n",
       "      <td>4432</td>\n",
       "      <td>25</td>\n",
       "      <td>103</td>\n",
       "      <td>2021-02-09</td>\n",
       "      <td>0.005056</td>\n",
       "    </tr>\n",
       "  </tbody>\n",
       "</table>\n",
       "</div>"
      ],
      "text/plain": [
       "           lcity community                  label  \\\n",
       "0   Agoura Hills             City of Agoura Hills   \n",
       "1     Bellflower               City of Bellflower   \n",
       "2  Beverly Hills            City of Beverly Hills   \n",
       "3        Burbank                  City of Burbank   \n",
       "4      Calabasas                City of Calabasas   \n",
       "\n",
       "                                            geometry       county  \\\n",
       "0  POLYGON ((-118.72865 34.16793, -118.73655 34.1...  Los Angeles   \n",
       "1  POLYGON ((-118.10976 33.90982, -118.10984 33.9...  Los Angeles   \n",
       "2  POLYGON ((-118.39160 34.11243, -118.39230 34.1...  Los Angeles   \n",
       "3  POLYGON ((-118.30781 34.16116, -118.30451 34.1...  Los Angeles   \n",
       "4  POLYGON ((-118.69385 34.16856, -118.69454 34.1...  Los Angeles   \n",
       "\n",
       "                    area  confirmed_cases  cases_rate  confirmed_deaths  \\\n",
       "0   City of Agoura Hills              907        4343                13   \n",
       "1     City of Bellflower            10050       12929               148   \n",
       "2  City of Beverly Hills             2327        6741                25   \n",
       "3        City of Burbank             7852        7326               184   \n",
       "4      City of Calabasas             1078        4432                25   \n",
       "\n",
       "   deaths_rate county_date  normalized_deaths_rate  \n",
       "0           62  2021-02-09                0.003044  \n",
       "1          190  2021-02-09                0.009327  \n",
       "2           72  2021-02-09                0.003535  \n",
       "3          172  2021-02-09                0.008444  \n",
       "4          103  2021-02-09                0.005056  "
      ]
     },
     "execution_count": 50,
     "metadata": {},
     "output_type": "execute_result"
    }
   ],
   "source": [
    "deaths_hoods.head()"
   ]
  },
  {
   "cell_type": "markdown",
   "id": "disciplinary-pharmaceutical",
   "metadata": {},
   "source": [
    "---"
   ]
  },
  {
   "cell_type": "markdown",
   "id": "mysterious-heating",
   "metadata": {},
   "source": [
    "### Deaths over time"
   ]
  },
  {
   "cell_type": "code",
   "execution_count": 51,
   "id": "approved-faith",
   "metadata": {},
   "outputs": [
    {
     "data": {
      "text/plain": [
       "2021-02-09    340\n",
       "Name: county_date, dtype: int64"
      ]
     },
     "execution_count": 51,
     "metadata": {},
     "output_type": "execute_result"
    }
   ],
   "source": [
    "deaths_hoods.county_date.value_counts()"
   ]
  },
  {
   "cell_type": "code",
   "execution_count": null,
   "id": "forbidden-disclaimer",
   "metadata": {},
   "outputs": [],
   "source": []
  }
 ],
 "metadata": {
  "kernelspec": {
   "display_name": "Python 3",
   "language": "python",
   "name": "python3"
  },
  "language_info": {
   "codemirror_mode": {
    "name": "ipython",
    "version": 3
   },
   "file_extension": ".py",
   "mimetype": "text/x-python",
   "name": "python",
   "nbconvert_exporter": "python",
   "pygments_lexer": "ipython3",
   "version": "3.7.4"
  }
 },
 "nbformat": 4,
 "nbformat_minor": 5
}
