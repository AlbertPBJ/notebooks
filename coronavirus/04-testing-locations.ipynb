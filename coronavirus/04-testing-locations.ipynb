{
 "cells": [
  {
   "cell_type": "markdown",
   "metadata": {},
   "source": [
    "# Coronavirus testing locations in California"
   ]
  },
  {
   "cell_type": "markdown",
   "metadata": {},
   "source": [
    "### Load python tools"
   ]
  },
  {
   "cell_type": "code",
   "execution_count": 1,
   "metadata": {},
   "outputs": [
    {
     "data": {
      "text/plain": [
       "DataTransformerRegistry.enable('default')"
      ]
     },
     "execution_count": 1,
     "metadata": {},
     "output_type": "execute_result"
    }
   ],
   "source": [
    "import pandas as pd\n",
    "import geopandas as gpd\n",
    "import jenkspy\n",
    "import matplotlib.pyplot as plt\n",
    "%matplotlib inline\n",
    "import json\n",
    "import numpy as np\n",
    "from altair import datum\n",
    "import altair as alt\n",
    "import altair_latimes as lat\n",
    "alt.themes.register('latimes', lat.theme)\n",
    "alt.themes.enable('latimes')\n",
    "pd.options.display.max_columns = 50\n",
    "pd.options.display.max_rows = 1000\n",
    "alt.data_transformers.disable_max_rows()"
   ]
  },
  {
   "cell_type": "markdown",
   "metadata": {},
   "source": [
    "### Import testing locations from state map, which uses to Esri API endpoints"
   ]
  },
  {
   "cell_type": "code",
   "execution_count": 2,
   "metadata": {},
   "outputs": [],
   "source": [
    "# map front end: https://www.arcgis.com/apps/Nearby/index.html?appid=43118dc0d5d348d8ab20a81967a15401\n",
    "# community: https://services.arcgis.com/8ZpVMShClf8U8dae/arcgis/rest/services/TestingLocations_public2/FeatureServer/0\n",
    "# state: https://services.arcgis.com/BLN4oKB0N1YSgvY8/arcgis/rest/services/State_Test_Sites/FeatureServer/0"
   ]
  },
  {
   "cell_type": "markdown",
   "metadata": {},
   "source": [
    "### Read state-sponsored locations"
   ]
  },
  {
   "cell_type": "code",
   "execution_count": 3,
   "metadata": {},
   "outputs": [],
   "source": [
    "state = gpd.read_file('/Users/mhustiles/data/github/AGStoShapefile/\\\n",
    "backupdir/State_Test_Sites/State_Test_Sites_1588871784588.geojson')"
   ]
  },
  {
   "cell_type": "code",
   "execution_count": 4,
   "metadata": {},
   "outputs": [],
   "source": [
    "state.columns = state.columns.str.strip().str.lower().str.replace(' ', '_')\\\n",
    "                    .str.replace('(', '').str.replace(')', '').str.replace('-','_')"
   ]
  },
  {
   "cell_type": "code",
   "execution_count": 5,
   "metadata": {},
   "outputs": [
    {
     "data": {
      "text/plain": [
       "objectid                                                       3\n",
       "globalid                    0a3c99f8-4e79-41ee-a307-94d2b22ca10f\n",
       "county                                                     Butte\n",
       "address                                             2357 Fair St\n",
       "city                                                       Chico\n",
       "zipcode                                                    95928\n",
       "hoursofoperation                                       0700-1900\n",
       "operator                                              OPTUMServe\n",
       "sitename                                            OPTUMServe 1\n",
       "website                            https://lhi.care/covidtesting\n",
       "daysofoperation                       Mon, Tues, Wed, Thurs, Fri\n",
       "publicphone                                       (888) 634-1123\n",
       "geometry            POINT (-121.8130604997285 39.71829599981998)\n",
       "Name: 0, dtype: object"
      ]
     },
     "execution_count": 5,
     "metadata": {},
     "output_type": "execute_result"
    }
   ],
   "source": [
    "state.iloc[0]"
   ]
  },
  {
   "cell_type": "markdown",
   "metadata": {},
   "source": [
    "### Read broader list of community testing locations"
   ]
  },
  {
   "cell_type": "code",
   "execution_count": 6,
   "metadata": {},
   "outputs": [],
   "source": [
    "community_all = gpd.read_file('/Users/mhustiles/data/github/AGStoShapefile/backupdir/\\\n",
    "testing_sites/testing_sites_1588869347830.geojson')"
   ]
  },
  {
   "cell_type": "code",
   "execution_count": 7,
   "metadata": {},
   "outputs": [],
   "source": [
    "community_all.columns = community_all.columns.str.strip().str.lower().str.replace(' ', '_')\\\n",
    "                    .str.replace('(', '').str.replace(')', '').str.replace('-','_')"
   ]
  },
  {
   "cell_type": "markdown",
   "metadata": {},
   "source": [
    "### Select on the California locations from Esri's list"
   ]
  },
  {
   "cell_type": "code",
   "execution_count": 8,
   "metadata": {},
   "outputs": [],
   "source": [
    "community = pd.DataFrame(community_all[community_all['state'] == \"CA\"])"
   ]
  },
  {
   "cell_type": "code",
   "execution_count": 9,
   "metadata": {},
   "outputs": [
    {
     "data": {
      "text/plain": [
       "800"
      ]
     },
     "execution_count": 9,
     "metadata": {},
     "output_type": "execute_result"
    }
   ],
   "source": [
    "len(community)"
   ]
  },
  {
   "cell_type": "code",
   "execution_count": 10,
   "metadata": {},
   "outputs": [
    {
     "data": {
      "text/html": [
       "<div>\n",
       "<style scoped>\n",
       "    .dataframe tbody tr th:only-of-type {\n",
       "        vertical-align: middle;\n",
       "    }\n",
       "\n",
       "    .dataframe tbody tr th {\n",
       "        vertical-align: top;\n",
       "    }\n",
       "\n",
       "    .dataframe thead th {\n",
       "        text-align: right;\n",
       "    }\n",
       "</style>\n",
       "<table border=\"1\" class=\"dataframe\">\n",
       "  <thead>\n",
       "    <tr style=\"text-align: right;\">\n",
       "      <th></th>\n",
       "      <th>objectid</th>\n",
       "      <th>facilityid</th>\n",
       "      <th>name</th>\n",
       "      <th>fulladdr</th>\n",
       "      <th>municipality</th>\n",
       "      <th>agency</th>\n",
       "      <th>agencytype</th>\n",
       "      <th>phone</th>\n",
       "      <th>agencyurl</th>\n",
       "      <th>operhours</th>\n",
       "      <th>comments</th>\n",
       "      <th>instructions</th>\n",
       "      <th>numvehicles</th>\n",
       "      <th>testcapacity</th>\n",
       "      <th>status</th>\n",
       "      <th>creationdate</th>\n",
       "      <th>editdate</th>\n",
       "      <th>drive_through</th>\n",
       "      <th>appt_only</th>\n",
       "      <th>referral_required</th>\n",
       "      <th>services_offered_onsite</th>\n",
       "      <th>call_first</th>\n",
       "      <th>virtual_screening</th>\n",
       "      <th>health_dept_url</th>\n",
       "      <th>state</th>\n",
       "      <th>globalid</th>\n",
       "      <th>data_source</th>\n",
       "      <th>county</th>\n",
       "      <th>red_flag</th>\n",
       "      <th>vol_note</th>\n",
       "      <th>public_form</th>\n",
       "      <th>start_date</th>\n",
       "      <th>end_date</th>\n",
       "      <th>type_of_test</th>\n",
       "      <th>test_processing</th>\n",
       "      <th>fine_print</th>\n",
       "      <th>geometry</th>\n",
       "    </tr>\n",
       "  </thead>\n",
       "  <tbody>\n",
       "    <tr>\n",
       "      <td>2399</td>\n",
       "      <td>10365</td>\n",
       "      <td>None</td>\n",
       "      <td>Quest Diagnostics - Reservation Road</td>\n",
       "      <td>294 Reservation Rd, Marina, CA 93933</td>\n",
       "      <td>Marina</td>\n",
       "      <td>Quest Diagnostics</td>\n",
       "      <td>Private</td>\n",
       "      <td>866-MYQUEST</td>\n",
       "      <td>http://patient.questdiagnostics.com/covid-test...</td>\n",
       "      <td>None</td>\n",
       "      <td>With QuestDirect, an individual can request th...</td>\n",
       "      <td>After purchasing the service online, an indivi...</td>\n",
       "      <td>NaN</td>\n",
       "      <td>NaN</td>\n",
       "      <td>Scheduled to Open</td>\n",
       "      <td>1.588537e+12</td>\n",
       "      <td>1588536592324</td>\n",
       "      <td>No</td>\n",
       "      <td>Yes</td>\n",
       "      <td>Yes</td>\n",
       "      <td>testing only</td>\n",
       "      <td>No</td>\n",
       "      <td>No</td>\n",
       "      <td>https://www.cdph.ca.gov/Programs/CID/DCDC/Page...</td>\n",
       "      <td>CA</td>\n",
       "      <td>60ca4227-ccf8-4723-a9ed-2935c6aa89cb</td>\n",
       "      <td>[CAC] Quest website</td>\n",
       "      <td>Monterey</td>\n",
       "      <td>no</td>\n",
       "      <td>None</td>\n",
       "      <td>no</td>\n",
       "      <td>NaN</td>\n",
       "      <td>NaN</td>\n",
       "      <td>antibody</td>\n",
       "      <td>offsite lab</td>\n",
       "      <td>no</td>\n",
       "      <td>POINT (-121.79312 36.68436)</td>\n",
       "    </tr>\n",
       "  </tbody>\n",
       "</table>\n",
       "</div>"
      ],
      "text/plain": [
       "      objectid facilityid                                  name  \\\n",
       "2399     10365       None  Quest Diagnostics - Reservation Road   \n",
       "\n",
       "                                  fulladdr municipality             agency  \\\n",
       "2399  294 Reservation Rd, Marina, CA 93933       Marina  Quest Diagnostics   \n",
       "\n",
       "     agencytype        phone  \\\n",
       "2399    Private  866-MYQUEST   \n",
       "\n",
       "                                              agencyurl operhours  \\\n",
       "2399  http://patient.questdiagnostics.com/covid-test...      None   \n",
       "\n",
       "                                               comments  \\\n",
       "2399  With QuestDirect, an individual can request th...   \n",
       "\n",
       "                                           instructions  numvehicles  \\\n",
       "2399  After purchasing the service online, an indivi...          NaN   \n",
       "\n",
       "      testcapacity             status  creationdate       editdate  \\\n",
       "2399           NaN  Scheduled to Open  1.588537e+12  1588536592324   \n",
       "\n",
       "     drive_through appt_only referral_required services_offered_onsite  \\\n",
       "2399            No       Yes               Yes            testing only   \n",
       "\n",
       "     call_first virtual_screening  \\\n",
       "2399         No                No   \n",
       "\n",
       "                                        health_dept_url state  \\\n",
       "2399  https://www.cdph.ca.gov/Programs/CID/DCDC/Page...    CA   \n",
       "\n",
       "                                  globalid          data_source    county  \\\n",
       "2399  60ca4227-ccf8-4723-a9ed-2935c6aa89cb  [CAC] Quest website  Monterey   \n",
       "\n",
       "     red_flag vol_note public_form  start_date  end_date type_of_test  \\\n",
       "2399       no     None          no         NaN       NaN     antibody   \n",
       "\n",
       "     test_processing fine_print                     geometry  \n",
       "2399     offsite lab         no  POINT (-121.79312 36.68436)  "
      ]
     },
     "execution_count": 10,
     "metadata": {},
     "output_type": "execute_result"
    }
   ],
   "source": [
    "community[community['name'] == 'Quest Diagnostics - Reservation Road']"
   ]
  },
  {
   "cell_type": "code",
   "execution_count": 11,
   "metadata": {},
   "outputs": [
    {
     "data": {
      "text/plain": [
       "objectid                                                               10365\n",
       "facilityid                                                              None\n",
       "name                                    Quest Diagnostics - Reservation Road\n",
       "fulladdr                                294 Reservation Rd, Marina, CA 93933\n",
       "municipality                                                          Marina\n",
       "agency                                                     Quest Diagnostics\n",
       "agencytype                                                           Private\n",
       "phone                                                            866-MYQUEST\n",
       "agencyurl                  http://patient.questdiagnostics.com/covid-test...\n",
       "operhours                                                               None\n",
       "comments                   With QuestDirect, an individual can request th...\n",
       "instructions               After purchasing the service online, an indivi...\n",
       "numvehicles                                                              NaN\n",
       "testcapacity                                                             NaN\n",
       "status                                                     Scheduled to Open\n",
       "creationdate                                                     1.58854e+12\n",
       "editdate                                                       1588536592324\n",
       "drive_through                                                             No\n",
       "appt_only                                                                Yes\n",
       "referral_required                                                        Yes\n",
       "services_offered_onsite                                         testing only\n",
       "call_first                                                                No\n",
       "virtual_screening                                                         No\n",
       "health_dept_url            https://www.cdph.ca.gov/Programs/CID/DCDC/Page...\n",
       "state                                                                     CA\n",
       "globalid                                60ca4227-ccf8-4723-a9ed-2935c6aa89cb\n",
       "data_source                                              [CAC] Quest website\n",
       "county                                                              Monterey\n",
       "red_flag                                                                  no\n",
       "vol_note                                                                None\n",
       "public_form                                                               no\n",
       "start_date                                                               NaN\n",
       "end_date                                                                 NaN\n",
       "type_of_test                                                        antibody\n",
       "test_processing                                                  offsite lab\n",
       "fine_print                                                                no\n",
       "geometry                         POINT (-121.793120473196 36.68436231187309)\n",
       "Name: 2399, dtype: object"
      ]
     },
     "execution_count": 11,
     "metadata": {},
     "output_type": "execute_result"
    }
   ],
   "source": [
    "community.iloc[500]"
   ]
  },
  {
   "cell_type": "markdown",
   "metadata": {},
   "source": [
    "### What share of these locations off molecular vs. antibody testing? "
   ]
  },
  {
   "cell_type": "code",
   "execution_count": 12,
   "metadata": {},
   "outputs": [
    {
     "data": {
      "text/plain": [
       "antibody     53.75%\n",
       "molecular    43.12%\n",
       "both          1.88%\n",
       "Both          1.25%\n",
       "Name: type_of_test, dtype: object"
      ]
     },
     "execution_count": 12,
     "metadata": {},
     "output_type": "execute_result"
    }
   ],
   "source": [
    "(community.type_of_test.value_counts('normalize')*100).round(2).astype(str) + '%'"
   ]
  },
  {
   "cell_type": "code",
   "execution_count": 13,
   "metadata": {},
   "outputs": [
    {
     "data": {
      "text/plain": [
       "antibody     430\n",
       "molecular    345\n",
       "both          15\n",
       "Both          10\n",
       "Name: type_of_test, dtype: int64"
      ]
     },
     "execution_count": 13,
     "metadata": {},
     "output_type": "execute_result"
    }
   ],
   "source": [
    "community.type_of_test.value_counts()"
   ]
  },
  {
   "cell_type": "markdown",
   "metadata": {},
   "source": [
    "### What share of these locations are public vs. private? "
   ]
  },
  {
   "cell_type": "code",
   "execution_count": 14,
   "metadata": {},
   "outputs": [
    {
     "data": {
      "text/plain": [
       "Private        78.34%\n",
       "County          9.38%\n",
       "Non Profit      3.45%\n",
       "Municipal       1.79%\n",
       "VA              1.66%\n",
       "School          1.38%\n",
       "Other           1.38%\n",
       "State            1.1%\n",
       "Regional        0.83%\n",
       "Clinic          0.28%\n",
       "Urgent Care     0.14%\n",
       "Federal         0.14%\n",
       "Tribal          0.14%\n",
       "Name: agencytype, dtype: object"
      ]
     },
     "execution_count": 14,
     "metadata": {},
     "output_type": "execute_result"
    }
   ],
   "source": [
    "(community.agencytype.value_counts('normalize')*100).round(2).astype(str) + '%'"
   ]
  },
  {
   "cell_type": "markdown",
   "metadata": {},
   "source": [
    "### What share of them are Quest versus other types of facilities?"
   ]
  },
  {
   "cell_type": "code",
   "execution_count": 15,
   "metadata": {},
   "outputs": [
    {
     "data": {
      "text/plain": [
       "Quest Diagnostics                                    59.78%\n",
       "LA County                                             4.61%\n",
       "UCLA Health                                           2.65%\n",
       "Family Health Centers of San Diego                    2.51%\n",
       "MedPost Urgent Care                                   2.37%\n",
       "Exer Urgent Care                                      1.82%\n",
       "Ventura County Public Health                          1.68%\n",
       "OptumServe & State of CA                              1.68%\n",
       "One Medical                                           1.26%\n",
       "Perlman Clinic                                        1.12%\n",
       "Accelerated Urgent Care                               0.98%\n",
       "Project Baseline by Verily                            0.98%\n",
       "Sharp Rees-Stealy                                     0.98%\n",
       "Sutter Health                                         0.84%\n",
       "Providence                                            0.84%\n",
       "Carbon Health                                         0.84%\n",
       "City and County of San Francisco                       0.7%\n",
       "VA                                                    0.56%\n",
       "Stanford Health                                       0.56%\n",
       "UCSF                                                  0.42%\n",
       "Kaiser Permanente                                     0.42%\n",
       "Priority Urgent Care                                  0.42%\n",
       "Dignity Health                                        0.42%\n",
       "Providence Health                                     0.42%\n",
       "San Bernardino County Health Centers                  0.42%\n",
       "El Camino Health & Carbon Health                      0.42%\n",
       "Covid Clinic                                          0.28%\n",
       "Northern Inyo Healthcare District                     0.28%\n",
       "Riverside County Public Health                        0.28%\n",
       "City of San Francisco                                 0.28%\n",
       "Veterans Affairs                                      0.28%\n",
       "San Bernardino County Department of Public Health     0.14%\n",
       "Providence Health and Services                        0.14%\n",
       "Mountain Communities Healthcare Foundation            0.14%\n",
       "John Muir Health                                      0.14%\n",
       "Scripps Health                                        0.14%\n",
       "Orange County Childrens Medical Group                 0.14%\n",
       "Montage Health                                        0.14%\n",
       "San Diego County Department of Public Health          0.14%\n",
       "SAC Health System                                     0.14%\n",
       "Riverside University Public Health System             0.14%\n",
       "San Bernardino County                                 0.14%\n",
       "Sonoma County                                         0.14%\n",
       "Sutter                                                0.14%\n",
       "St. Joseph Heritage Medical Center                    0.14%\n",
       "Verily Baseline COVID-19 Program                      0.14%\n",
       "Long Beach City College, Long Beach HDS               0.14%\n",
       "La Clinica                                            0.14%\n",
       "City, County, State Partnership                       0.14%\n",
       "St. Joseph & St. Jude Heritage Medical Group          0.14%\n",
       "Hayward, Alameda Co, Cal State East Bay               0.14%\n",
       "Fox Farm                                              0.14%\n",
       "City of Long Beach Health and Human Services          0.14%\n",
       "Riverside University Health System                    0.14%\n",
       "LHI Care                                              0.14%\n",
       "Ridgecrest Regional Hospital                          0.14%\n",
       "Toiyabe Indian Health Project                         0.14%\n",
       "Department of Veteran's Affairs                       0.14%\n",
       "Golden Valley Health Clinics                          0.14%\n",
       "MemorialCare                                          0.14%\n",
       "Orange County Children's Medical Group, Inc.          0.14%\n",
       "Dr. David Nazarian                                    0.14%\n",
       "University of California                              0.14%\n",
       "Hayward Fire Department and Avellino Labs             0.14%\n",
       "El Dorado Community Health Center                     0.14%\n",
       "Peach Tree Health                                     0.14%\n",
       "Tri-City Health Center                                0.14%\n",
       "LA County and City of Long Beach (partnership)        0.14%\n",
       "SAC                                                   0.14%\n",
       "Stanford HC, Pleasanton, Livermore, Dublin            0.14%\n",
       "County of Monterey                                    0.14%\n",
       "Los Angeles County                                    0.14%\n",
       "City of Oakland and Brown & Toland Physicians         0.14%\n",
       "Butte County Public Health                            0.14%\n",
       "Banner Health                                         0.14%\n",
       "Long Beach Health & Human Services                    0.14%\n",
       "Tahoe Forest Community Hospital                       0.14%\n",
       "Plumas Hospital District                              0.14%\n",
       "Veterans Affairs (VA)                                 0.14%\n",
       "Benjamín H. Flores                                    0.14%\n",
       "Copper Mountain College                               0.14%\n",
       "Solano County Public Health, CalOES, FEMA             0.14%\n",
       "Project Baseline                                      0.14%\n",
       "Sacramento County Public Health                       0.14%\n",
       "Dept of Veterans Affairs                              0.14%\n",
       "Rancho Cucamonga Quakes                               0.14%\n",
       "MDSTAT Urgent Care                                    0.14%\n",
       "Mend Clinic                                           0.14%\n",
       "County of Lake Health Services Department             0.14%\n",
       "Mountains Community Hospital                          0.14%\n",
       "Monday - Friday 8am to 5pm (closed 12 to 1pm)         0.14%\n",
       "Crafton Hills College                                 0.14%\n",
       "Los Robles Health System                              0.14%\n",
       "Menlo Medical Clinic/Stanford Health Care             0.14%\n",
       "                                                      0.14%\n",
       "Name: agency, dtype: object"
      ]
     },
     "execution_count": 15,
     "metadata": {},
     "output_type": "execute_result"
    }
   ],
   "source": [
    "(community.agency.value_counts('normalize')*100).round(2).astype(str) + '%'"
   ]
  },
  {
   "cell_type": "markdown",
   "metadata": {},
   "source": [
    "---"
   ]
  },
  {
   "cell_type": "markdown",
   "metadata": {},
   "source": [
    "### CA county geography"
   ]
  },
  {
   "cell_type": "code",
   "execution_count": 16,
   "metadata": {},
   "outputs": [],
   "source": [
    "county_geo = gpd.read_file('input/ca-counties.geojson')"
   ]
  },
  {
   "cell_type": "code",
   "execution_count": 17,
   "metadata": {},
   "outputs": [],
   "source": [
    "la_county_geo = gpd.read_file('input/lacountyboundary.geojson')"
   ]
  },
  {
   "cell_type": "code",
   "execution_count": 18,
   "metadata": {},
   "outputs": [],
   "source": [
    "county_geo.crs = {'init': \"epsg:4326\"}"
   ]
  },
  {
   "cell_type": "code",
   "execution_count": 19,
   "metadata": {},
   "outputs": [],
   "source": [
    "county_geo.columns = county_geo.columns.str.lower()"
   ]
  },
  {
   "cell_type": "code",
   "execution_count": 20,
   "metadata": {},
   "outputs": [
    {
     "data": {
      "text/plain": [
       "<matplotlib.axes._subplots.AxesSubplot at 0x11e0f0a90>"
      ]
     },
     "execution_count": 20,
     "metadata": {},
     "output_type": "execute_result"
    },
    {
     "data": {
      "image/png": "[encoded data removed]",
      "text/plain": [
       "<Figure size 432x288 with 1 Axes>"
      ]
     },
     "metadata": {
      "needs_background": "light"
     },
     "output_type": "display_data"
    }
   ],
   "source": [
    "county_geo.plot()"
   ]
  },
  {
   "cell_type": "code",
   "execution_count": 21,
   "metadata": {},
   "outputs": [
    {
     "data": {
      "text/plain": [
       "<matplotlib.axes._subplots.AxesSubplot at 0x11e102e10>"
      ]
     },
     "execution_count": 21,
     "metadata": {},
     "output_type": "execute_result"
    },
    {
     "data": {
      "image/png": "[encoded data removed]",
      "text/plain": [
       "<Figure size 432x288 with 1 Axes>"
      ]
     },
     "metadata": {
      "needs_background": "light"
     },
     "output_type": "display_data"
    }
   ],
   "source": [
    "la_county_geo.plot()"
   ]
  },
  {
   "cell_type": "markdown",
   "metadata": {},
   "source": [
    "### LA County communities"
   ]
  },
  {
   "cell_type": "code",
   "execution_count": 22,
   "metadata": {},
   "outputs": [],
   "source": [
    "la_communities = gpd.read_file('input/lac_cities_no_islands.shp')"
   ]
  },
  {
   "cell_type": "code",
   "execution_count": 23,
   "metadata": {},
   "outputs": [],
   "source": [
    "la_communities.columns = la_communities.columns.str.lower()"
   ]
  },
  {
   "cell_type": "code",
   "execution_count": 24,
   "metadata": {},
   "outputs": [],
   "source": [
    "la_communities.crs = {'init': \"epsg:4326\"}"
   ]
  },
  {
   "cell_type": "code",
   "execution_count": 25,
   "metadata": {},
   "outputs": [],
   "source": [
    "county_geo.crs = {'init': \"epsg:4326\"}"
   ]
  },
  {
   "cell_type": "code",
   "execution_count": 26,
   "metadata": {},
   "outputs": [],
   "source": [
    "county_geo.columns = county_geo.columns.str.lower()"
   ]
  },
  {
   "cell_type": "code",
   "execution_count": 27,
   "metadata": {},
   "outputs": [
    {
     "data": {
      "text/plain": [
       "<matplotlib.axes._subplots.AxesSubplot at 0x11e13d8d0>"
      ]
     },
     "execution_count": 27,
     "metadata": {},
     "output_type": "execute_result"
    },
    {
     "data": {
      "image/png": "[encoded data removed]",
      "text/plain": [
       "<Figure size 432x288 with 1 Axes>"
      ]
     },
     "metadata": {
      "needs_background": "light"
     },
     "output_type": "display_data"
    }
   ],
   "source": [
    "county_geo.plot()"
   ]
  },
  {
   "cell_type": "markdown",
   "metadata": {},
   "source": [
    "---"
   ]
  },
  {
   "cell_type": "markdown",
   "metadata": {},
   "source": [
    "### Merge with other dataframes"
   ]
  },
  {
   "cell_type": "code",
   "execution_count": 28,
   "metadata": {},
   "outputs": [],
   "source": [
    "# counties_testing = gpd.sjoin(testing_locations_geo, county_geo, how=\"inner\", op='intersects')"
   ]
  },
  {
   "cell_type": "code",
   "execution_count": 29,
   "metadata": {},
   "outputs": [],
   "source": [
    "# counties_la_testing = gpd.sjoin(testing_locations_geo, la_county_geo, how=\"inner\", op='intersects')"
   ]
  },
  {
   "cell_type": "code",
   "execution_count": 30,
   "metadata": {},
   "outputs": [],
   "source": [
    "# cities_la_testing = gpd.sjoin(testing_locations_geo, la_communities, how=\"inner\", op='intersects')"
   ]
  },
  {
   "cell_type": "code",
   "execution_count": 31,
   "metadata": {},
   "outputs": [],
   "source": [
    "# counties_testing_counts = counties_testing.groupby(['name']).agg('size').reset_index(name='sites')"
   ]
  },
  {
   "cell_type": "code",
   "execution_count": 32,
   "metadata": {},
   "outputs": [],
   "source": [
    "# cities_la_testing_counts = cities_la_testing.groupby(['city_name']).agg('size').reset_index(name='sites')"
   ]
  },
  {
   "cell_type": "code",
   "execution_count": 33,
   "metadata": {},
   "outputs": [],
   "source": [
    "# counties_testing_counts.sort_values(by='sites', ascending=False).head()"
   ]
  },
  {
   "cell_type": "code",
   "execution_count": 34,
   "metadata": {},
   "outputs": [],
   "source": [
    "# counties_testing_counts.to_csv('output/counties_testing_counts.csv')"
   ]
  },
  {
   "cell_type": "markdown",
   "metadata": {},
   "source": [
    "### Merge testing counts to county polygons"
   ]
  },
  {
   "cell_type": "code",
   "execution_count": 35,
   "metadata": {},
   "outputs": [],
   "source": [
    "# county_geo_testing = county_geo.merge(counties_testing_counts, on='name', how='left')"
   ]
  },
  {
   "cell_type": "code",
   "execution_count": 36,
   "metadata": {},
   "outputs": [],
   "source": [
    "# la_city_geo_testing = la_communities.merge(cities_la_testing_counts, on='city_name', how='left')"
   ]
  },
  {
   "cell_type": "code",
   "execution_count": 37,
   "metadata": {},
   "outputs": [],
   "source": [
    "# la_city_geo_testing.head()"
   ]
  },
  {
   "cell_type": "code",
   "execution_count": 38,
   "metadata": {},
   "outputs": [],
   "source": [
    "# county_geo_testing.to_file('output/county_geo_testing.geojson', driver='GeoJSON')"
   ]
  },
  {
   "cell_type": "code",
   "execution_count": 39,
   "metadata": {},
   "outputs": [],
   "source": [
    "# counties_la_testing.to_file('output/county_la_testing.geojson', driver='GeoJSON')"
   ]
  },
  {
   "cell_type": "markdown",
   "metadata": {},
   "source": [
    "---"
   ]
  },
  {
   "cell_type": "markdown",
   "metadata": {},
   "source": [
    "### Eventually output to Mapbox"
   ]
  },
  {
   "cell_type": "code",
   "execution_count": 40,
   "metadata": {},
   "outputs": [],
   "source": [
    "# !tippecanoe --generate-ids --force -r1 -pk -pf -o \\\n",
    "# output/testing_locations_geo.mbtiles \\\n",
    "# output/testing_locations_geo.geojson"
   ]
  }
 ],
 "metadata": {
  "kernelspec": {
   "display_name": "Python 3",
   "language": "python",
   "name": "python3"
  },
  "language_info": {
   "codemirror_mode": {
    "name": "ipython",
    "version": 3
   },
   "file_extension": ".py",
   "mimetype": "text/x-python",
   "name": "python",
   "nbconvert_exporter": "python",
   "pygments_lexer": "ipython3",
   "version": "3.7.4"
  }
 },
 "nbformat": 4,
 "nbformat_minor": 2
}
