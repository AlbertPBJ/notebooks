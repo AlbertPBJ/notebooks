{
 "cells": [
  {
   "cell_type": "markdown",
   "metadata": {},
   "source": [
    "# COVID-19 cases"
   ]
  },
  {
   "cell_type": "markdown",
   "metadata": {},
   "source": [
    "### Load python tools"
   ]
  },
  {
   "cell_type": "code",
   "execution_count": 1,
   "metadata": {},
   "outputs": [],
   "source": [
    "import pandas as pd\n",
    "import geopandas as gpd\n",
    "import jenkspy\n",
    "import matplotlib.pyplot as plt\n",
    "%matplotlib inline\n",
    "import json\n",
    "import numpy as np\n",
    "from altair import datum\n",
    "import altair as alt\n",
    "import altair_latimes as lat\n",
    "alt.themes.register('latimes', lat.theme)\n",
    "alt.themes.enable('latimes')\n",
    "pd.options.display.max_columns = 50\n",
    "pd.options.display.max_rows = 1000\n",
    "alt.data_transformers.disable_max_rows()\n",
    "from selenium import webdriver\n",
    "driver = webdriver.Chrome(executable_path='/Users/mhustiles/Desktop/chromedriver')"
   ]
  },
  {
   "cell_type": "markdown",
   "metadata": {},
   "source": [
    "### CDC testing capacity"
   ]
  },
  {
   "cell_type": "code",
   "execution_count": 2,
   "metadata": {},
   "outputs": [],
   "source": [
    "tables = pd.read_html('https://www.cdc.gov/coronavirus/2019-ncov/cases-updates/testing-in-us.html?CDC_AA_refVal=https%3A%2F%2Fwww.cdc.gov\\\n",
    "%2Fcoronavirus%2F2019-ncov%2Ftesting-in-us.html',  header=0)"
   ]
  },
  {
   "cell_type": "code",
   "execution_count": 3,
   "metadata": {},
   "outputs": [],
   "source": [
    "tables = pd.DataFrame(tables[0])"
   ]
  },
  {
   "cell_type": "code",
   "execution_count": 4,
   "metadata": {},
   "outputs": [],
   "source": [
    "tables.columns = tables.columns.str.strip().str.lower().str.replace(' ', '_')\\\n",
    "                    .str.replace('(', '').str.replace(')', '').str.replace('-','_')"
   ]
  },
  {
   "cell_type": "code",
   "execution_count": 5,
   "metadata": {},
   "outputs": [],
   "source": [
    "tables.rename(columns={\"us_public_health_labs\": \"US Public Health Labs\",\\\n",
    "                   \"cdc_labs\": \"CDC Labs\", 'date_collected':'Date'}, inplace=True)"
   ]
  },
  {
   "cell_type": "code",
   "execution_count": 6,
   "metadata": {},
   "outputs": [],
   "source": [
    "tables['Date'] = pd.to_datetime(tables['Date'] + '/2020')"
   ]
  },
  {
   "cell_type": "code",
   "execution_count": 7,
   "metadata": {},
   "outputs": [
    {
     "data": {
      "text/html": [
       "<div>\n",
       "<style scoped>\n",
       "    .dataframe tbody tr th:only-of-type {\n",
       "        vertical-align: middle;\n",
       "    }\n",
       "\n",
       "    .dataframe tbody tr th {\n",
       "        vertical-align: top;\n",
       "    }\n",
       "\n",
       "    .dataframe thead th {\n",
       "        text-align: right;\n",
       "    }\n",
       "</style>\n",
       "<table border=\"1\" class=\"dataframe\">\n",
       "  <thead>\n",
       "    <tr style=\"text-align: right;\">\n",
       "      <th></th>\n",
       "      <th>Date</th>\n",
       "      <th>CDC Labs</th>\n",
       "      <th>US Public Health Labs</th>\n",
       "    </tr>\n",
       "  </thead>\n",
       "  <tbody>\n",
       "    <tr>\n",
       "      <td>0</td>\n",
       "      <td>2020-01-18</td>\n",
       "      <td>4</td>\n",
       "      <td>0</td>\n",
       "    </tr>\n",
       "    <tr>\n",
       "      <td>1</td>\n",
       "      <td>2020-01-19</td>\n",
       "      <td>0</td>\n",
       "      <td>0</td>\n",
       "    </tr>\n",
       "    <tr>\n",
       "      <td>2</td>\n",
       "      <td>2020-01-20</td>\n",
       "      <td>7</td>\n",
       "      <td>0</td>\n",
       "    </tr>\n",
       "    <tr>\n",
       "      <td>3</td>\n",
       "      <td>2020-01-21</td>\n",
       "      <td>3</td>\n",
       "      <td>0</td>\n",
       "    </tr>\n",
       "    <tr>\n",
       "      <td>4</td>\n",
       "      <td>2020-01-22</td>\n",
       "      <td>10</td>\n",
       "      <td>0</td>\n",
       "    </tr>\n",
       "  </tbody>\n",
       "</table>\n",
       "</div>"
      ],
      "text/plain": [
       "        Date CDC Labs US Public Health Labs\n",
       "0 2020-01-18        4                     0\n",
       "1 2020-01-19        0                     0\n",
       "2 2020-01-20        7                     0\n",
       "3 2020-01-21        3                     0\n",
       "4 2020-01-22       10                     0"
      ]
     },
     "execution_count": 7,
     "metadata": {},
     "output_type": "execute_result"
    }
   ],
   "source": [
    "tables.head()"
   ]
  },
  {
   "cell_type": "code",
   "execution_count": 8,
   "metadata": {},
   "outputs": [],
   "source": [
    "tables['US Public Health Labs'] = tables['US Public Health Labs'].str.replace('‡','').str.replace('§','').fillna('0')"
   ]
  },
  {
   "cell_type": "code",
   "execution_count": 9,
   "metadata": {},
   "outputs": [],
   "source": [
    "tables['CDC Labs'] = tables['CDC Labs'].str.replace('§','').str.replace('‡','').fillna('0')"
   ]
  },
  {
   "cell_type": "code",
   "execution_count": 10,
   "metadata": {},
   "outputs": [],
   "source": [
    "# tables = tables[tables['Date'] <= '2020/03/10']"
   ]
  },
  {
   "cell_type": "code",
   "execution_count": 11,
   "metadata": {},
   "outputs": [],
   "source": [
    "tables_melt = pd.melt(tables, id_vars=['Date'], value_vars=['US Public Health Labs', 'CDC Labs'],\n",
    "        var_name='lab_type', value_name='test_count')"
   ]
  },
  {
   "cell_type": "code",
   "execution_count": 12,
   "metadata": {},
   "outputs": [
    {
     "data": {
      "text/html": [
       "<div>\n",
       "<style scoped>\n",
       "    .dataframe tbody tr th:only-of-type {\n",
       "        vertical-align: middle;\n",
       "    }\n",
       "\n",
       "    .dataframe tbody tr th {\n",
       "        vertical-align: top;\n",
       "    }\n",
       "\n",
       "    .dataframe thead th {\n",
       "        text-align: right;\n",
       "    }\n",
       "</style>\n",
       "<table border=\"1\" class=\"dataframe\">\n",
       "  <thead>\n",
       "    <tr style=\"text-align: right;\">\n",
       "      <th></th>\n",
       "      <th>Date</th>\n",
       "      <th>lab_type</th>\n",
       "      <th>test_count</th>\n",
       "    </tr>\n",
       "  </thead>\n",
       "  <tbody>\n",
       "    <tr>\n",
       "      <td>192</td>\n",
       "      <td>2020-04-18</td>\n",
       "      <td>CDC Labs</td>\n",
       "      <td>17</td>\n",
       "    </tr>\n",
       "    <tr>\n",
       "      <td>193</td>\n",
       "      <td>2020-04-19</td>\n",
       "      <td>CDC Labs</td>\n",
       "      <td>1</td>\n",
       "    </tr>\n",
       "    <tr>\n",
       "      <td>194</td>\n",
       "      <td>2020-04-20</td>\n",
       "      <td>CDC Labs</td>\n",
       "      <td>0</td>\n",
       "    </tr>\n",
       "    <tr>\n",
       "      <td>195</td>\n",
       "      <td>2020-04-21</td>\n",
       "      <td>CDC Labs</td>\n",
       "      <td>39</td>\n",
       "    </tr>\n",
       "    <tr>\n",
       "      <td>196</td>\n",
       "      <td>2020-04-22</td>\n",
       "      <td>CDC Labs</td>\n",
       "      <td>6</td>\n",
       "    </tr>\n",
       "    <tr>\n",
       "      <td>197</td>\n",
       "      <td>2020-04-23</td>\n",
       "      <td>CDC Labs</td>\n",
       "      <td>31</td>\n",
       "    </tr>\n",
       "    <tr>\n",
       "      <td>198</td>\n",
       "      <td>2020-04-24</td>\n",
       "      <td>CDC Labs</td>\n",
       "      <td>19</td>\n",
       "    </tr>\n",
       "    <tr>\n",
       "      <td>199</td>\n",
       "      <td>2020-04-25</td>\n",
       "      <td>CDC Labs</td>\n",
       "      <td>18</td>\n",
       "    </tr>\n",
       "    <tr>\n",
       "      <td>200</td>\n",
       "      <td>2020-04-26</td>\n",
       "      <td>CDC Labs</td>\n",
       "      <td>0</td>\n",
       "    </tr>\n",
       "    <tr>\n",
       "      <td>201</td>\n",
       "      <td>2020-04-27</td>\n",
       "      <td>CDC Labs</td>\n",
       "      <td>0</td>\n",
       "    </tr>\n",
       "  </tbody>\n",
       "</table>\n",
       "</div>"
      ],
      "text/plain": [
       "          Date  lab_type test_count\n",
       "192 2020-04-18  CDC Labs         17\n",
       "193 2020-04-19  CDC Labs          1\n",
       "194 2020-04-20  CDC Labs          0\n",
       "195 2020-04-21  CDC Labs         39\n",
       "196 2020-04-22  CDC Labs          6\n",
       "197 2020-04-23  CDC Labs         31\n",
       "198 2020-04-24  CDC Labs         19\n",
       "199 2020-04-25  CDC Labs         18\n",
       "200 2020-04-26  CDC Labs          0\n",
       "201 2020-04-27  CDC Labs          0"
      ]
     },
     "execution_count": 12,
     "metadata": {},
     "output_type": "execute_result"
    }
   ],
   "source": [
    "tables.to_csv('output/cdc_testing_table.csv')\n",
    "tables_melt.to_csv('output/cdc_testing_table_melt.csv')\n",
    "tables_melt.tail(10)"
   ]
  },
  {
   "cell_type": "code",
   "execution_count": 13,
   "metadata": {},
   "outputs": [
    {
     "data": {
      "text/html": [
       "<div>\n",
       "<style scoped>\n",
       "    .dataframe tbody tr th:only-of-type {\n",
       "        vertical-align: middle;\n",
       "    }\n",
       "\n",
       "    .dataframe tbody tr th {\n",
       "        vertical-align: top;\n",
       "    }\n",
       "\n",
       "    .dataframe thead th {\n",
       "        text-align: right;\n",
       "    }\n",
       "</style>\n",
       "<table border=\"1\" class=\"dataframe\">\n",
       "  <thead>\n",
       "    <tr style=\"text-align: right;\">\n",
       "      <th></th>\n",
       "      <th>Date</th>\n",
       "      <th>lab_type</th>\n",
       "      <th>test_count</th>\n",
       "    </tr>\n",
       "  </thead>\n",
       "  <tbody>\n",
       "    <tr>\n",
       "      <td>0</td>\n",
       "      <td>2020-01-18</td>\n",
       "      <td>US Public Health Labs</td>\n",
       "      <td>0</td>\n",
       "    </tr>\n",
       "    <tr>\n",
       "      <td>1</td>\n",
       "      <td>2020-01-19</td>\n",
       "      <td>US Public Health Labs</td>\n",
       "      <td>0</td>\n",
       "    </tr>\n",
       "    <tr>\n",
       "      <td>2</td>\n",
       "      <td>2020-01-20</td>\n",
       "      <td>US Public Health Labs</td>\n",
       "      <td>0</td>\n",
       "    </tr>\n",
       "    <tr>\n",
       "      <td>3</td>\n",
       "      <td>2020-01-21</td>\n",
       "      <td>US Public Health Labs</td>\n",
       "      <td>0</td>\n",
       "    </tr>\n",
       "    <tr>\n",
       "      <td>4</td>\n",
       "      <td>2020-01-22</td>\n",
       "      <td>US Public Health Labs</td>\n",
       "      <td>0</td>\n",
       "    </tr>\n",
       "  </tbody>\n",
       "</table>\n",
       "</div>"
      ],
      "text/plain": [
       "        Date               lab_type test_count\n",
       "0 2020-01-18  US Public Health Labs          0\n",
       "1 2020-01-19  US Public Health Labs          0\n",
       "2 2020-01-20  US Public Health Labs          0\n",
       "3 2020-01-21  US Public Health Labs          0\n",
       "4 2020-01-22  US Public Health Labs          0"
      ]
     },
     "execution_count": 13,
     "metadata": {},
     "output_type": "execute_result"
    }
   ],
   "source": [
    "tables_melt.head()"
   ]
  },
  {
   "cell_type": "code",
   "execution_count": 14,
   "metadata": {},
   "outputs": [
    {
     "data": {
      "text/html": [
       "<div>\n",
       "<style scoped>\n",
       "    .dataframe tbody tr th:only-of-type {\n",
       "        vertical-align: middle;\n",
       "    }\n",
       "\n",
       "    .dataframe tbody tr th {\n",
       "        vertical-align: top;\n",
       "    }\n",
       "\n",
       "    .dataframe thead th {\n",
       "        text-align: right;\n",
       "    }\n",
       "</style>\n",
       "<table border=\"1\" class=\"dataframe\">\n",
       "  <thead>\n",
       "    <tr style=\"text-align: right;\">\n",
       "      <th></th>\n",
       "      <th>Date</th>\n",
       "      <th>lab_type</th>\n",
       "      <th>test_count</th>\n",
       "    </tr>\n",
       "  </thead>\n",
       "  <tbody>\n",
       "    <tr>\n",
       "      <td>0</td>\n",
       "      <td>2020-01-18</td>\n",
       "      <td>US Public Health Labs</td>\n",
       "      <td>0</td>\n",
       "    </tr>\n",
       "    <tr>\n",
       "      <td>1</td>\n",
       "      <td>2020-01-19</td>\n",
       "      <td>US Public Health Labs</td>\n",
       "      <td>0</td>\n",
       "    </tr>\n",
       "    <tr>\n",
       "      <td>2</td>\n",
       "      <td>2020-01-20</td>\n",
       "      <td>US Public Health Labs</td>\n",
       "      <td>0</td>\n",
       "    </tr>\n",
       "    <tr>\n",
       "      <td>3</td>\n",
       "      <td>2020-01-21</td>\n",
       "      <td>US Public Health Labs</td>\n",
       "      <td>0</td>\n",
       "    </tr>\n",
       "    <tr>\n",
       "      <td>4</td>\n",
       "      <td>2020-01-22</td>\n",
       "      <td>US Public Health Labs</td>\n",
       "      <td>0</td>\n",
       "    </tr>\n",
       "  </tbody>\n",
       "</table>\n",
       "</div>"
      ],
      "text/plain": [
       "        Date               lab_type test_count\n",
       "0 2020-01-18  US Public Health Labs          0\n",
       "1 2020-01-19  US Public Health Labs          0\n",
       "2 2020-01-20  US Public Health Labs          0\n",
       "3 2020-01-21  US Public Health Labs          0\n",
       "4 2020-01-22  US Public Health Labs          0"
      ]
     },
     "execution_count": 14,
     "metadata": {},
     "output_type": "execute_result"
    }
   ],
   "source": [
    "tables_melt.head()"
   ]
  },
  {
   "cell_type": "code",
   "execution_count": 15,
   "metadata": {},
   "outputs": [
    {
     "data": {
      "text/html": [
       "\n",
       "<div id=\"altair-viz-4b038e5ee9fa4f9ebca8db5d2d7c28a3\"></div>\n",
       "<script type=\"text/javascript\">\n",
       "  (function(spec, embedOpt){\n",
       "    const outputDiv = document.getElementById(\"altair-viz-4b038e5ee9fa4f9ebca8db5d2d7c28a3\");\n",
       "    const paths = {\n",
       "      \"vega\": \"https://cdn.jsdelivr.net/npm//vega@5?noext\",\n",
       "      \"vega-lib\": \"https://cdn.jsdelivr.net/npm//vega-lib?noext\",\n",
       "      \"vega-lite\": \"https://cdn.jsdelivr.net/npm//vega-lite@4.0.2?noext\",\n",
       "      \"vega-embed\": \"https://cdn.jsdelivr.net/npm//vega-embed@6?noext\",\n",
       "    };\n",
       "\n",
       "    function loadScript(lib) {\n",
       "      return new Promise(function(resolve, reject) {\n",
       "        var s = document.createElement('script');\n",
       "        s.src = paths[lib];\n",
       "        s.async = true;\n",
       "        s.onload = () => resolve(paths[lib]);\n",
       "        s.onerror = () => reject(`Error loading script: ${paths[lib]}`);\n",
       "        document.getElementsByTagName(\"head\")[0].appendChild(s);\n",
       "      });\n",
       "    }\n",
       "\n",
       "    function showError(err) {\n",
       "      outputDiv.innerHTML = `<div class=\"error\" style=\"color:red;\">${err}</div>`;\n",
       "      throw err;\n",
       "    }\n",
       "\n",
       "    function displayChart(vegaEmbed) {\n",
       "      vegaEmbed(outputDiv, spec, embedOpt)\n",
       "        .catch(err => showError(`Javascript Error: ${err.message}<br>This usually means there's a typo in your chart specification. See the javascript console for the full traceback.`));\n",
       "    }\n",
       "\n",
       "    if(typeof define === \"function\" && define.amd) {\n",
       "      requirejs.config({paths});\n",
       "      require([\"vega-embed\"], displayChart, err => showError(`Error loading script: ${err.message}`));\n",
       "    } else if (typeof vegaEmbed === \"function\") {\n",
       "      displayChart(vegaEmbed);\n",
       "    } else {\n",
       "      loadScript(\"vega\")\n",
       "        .then(() => loadScript(\"vega-lite\"))\n",
       "        .then(() => loadScript(\"vega-embed\"))\n",
       "        .catch(showError)\n",
       "        .then(() => displayChart(vegaEmbed));\n",
       "    }\n",
       "  })({\"config\": {\"view\": {\"width\": 800, \"height\": 450}, \"background\": \"#ffffff\", \"title\": {\"anchor\": \"start\", \"font\": \"Benton Gothic Bold, sans\", \"fontColor\": \"#000000\", \"fontSize\": 22, \"fontWeight\": \"normal\"}, \"arc\": {\"fill\": \"#82c6df\"}, \"area\": {\"fill\": \"#82c6df\"}, \"line\": {\"stroke\": \"#82c6df\", \"strokeWidth\": 3}, \"path\": {\"stroke\": \"#82c6df\"}, \"rect\": {\"fill\": \"#82c6df\"}, \"shape\": {\"stroke\": \"#82c6df\"}, \"bar\": {\"fill\": \"#82c6df\"}, \"point\": {\"stroke\": \"#82c6df\"}, \"symbol\": {\"fill\": \"#82c6df\", \"size\": 30}, \"axis\": {\"titleFont\": \"Benton Gothic Bold, sans\", \"titleFontSize\": 13, \"titleFontWeight\": \"normal\", \"labelFont\": \"Benton Gothic, sans\", \"labelFontSize\": 11.5, \"labelFontWeight\": \"normal\"}, \"axisX\": {\"labelAngle\": 0, \"labelPadding\": 4, \"tickSize\": 3}, \"axisY\": {\"labelBaseline\": \"middle\", \"maxExtent\": 45, \"minExtent\": 45, \"tickSize\": 2, \"titleAlign\": \"left\", \"titleAngle\": 0, \"titleX\": -45, \"titleY\": -11}, \"legend\": {\"titleFont\": \"Benton Gothic Bold, sans\", \"titleFontSize\": 13, \"titleFontWeight\": \"normal\", \"symbolType\": \"square\", \"labelFont\": \"Benton Gothic, sans\", \"labelFontSize\": 11.5}, \"range\": {\"category\": [\"#3580b1\", \"#ec8431\", \"#ab7fb4\", \"#c89d29\", \"#adc839\", \"#829eb1\"], \"diverging\": [\"#e68a4f\", \"#f4bb6a\", \"#f9e39c\", \"#dadfe2\", \"#a6b7c6\", \"#849eae\"], \"heatmap\": [\"#fbf2c7\", \"#f9e39c\", \"#f8d36e\", \"#f4bb6a\", \"#e68a4f\", \"#d15a40\", \"#ab4232\"], \"ordinal\": [\"#fbf2c7\", \"#f9e39c\", \"#f8d36e\", \"#f4bb6a\", \"#e68a4f\", \"#d15a40\", \"#ab4232\"], \"ramp\": [\"#fbf2c7\", \"#f9e39c\", \"#f8d36e\", \"#f4bb6a\", \"#e68a4f\", \"#d15a40\", \"#ab4232\"]}}, \"data\": {\"name\": \"data-f785431bacb39216a73e55f56e41ead5\"}, \"mark\": {\"type\": \"bar\", \"size\": 10}, \"encoding\": {\"color\": {\"type\": \"nominal\", \"field\": \"lab_type\", \"legend\": {\"orient\": \"top\"}, \"title\": \"\"}, \"order\": {\"type\": \"nominal\", \"field\": \"lab_type\", \"sort\": \"ascending\"}, \"x\": {\"type\": \"temporal\", \"axis\": {\"tickCount\": 10}, \"field\": \"Date\", \"title\": \"Date\"}, \"y\": {\"type\": \"quantitative\", \"field\": \"test_count\", \"title\": \"\"}}, \"title\": {\"text\": [\"CDC: Daily U.S. coronavirus specimens tested, by lab type\"], \"subtitle\": [\"Figures from last four days reported as 'pending'\"], \"color\": \"black\", \"subtitleColor\": \"gray\"}, \"width\": 800, \"$schema\": \"https://vega.github.io/schema/vega-lite/v4.0.2.json\", \"datasets\": {\"data-f785431bacb39216a73e55f56e41ead5\": [{\"Date\": \"2020-01-18T00:00:00\", \"lab_type\": \"US Public Health Labs\", \"test_count\": \"0\"}, {\"Date\": \"2020-01-19T00:00:00\", \"lab_type\": \"US Public Health Labs\", \"test_count\": \"0\"}, {\"Date\": \"2020-01-20T00:00:00\", \"lab_type\": \"US Public Health Labs\", \"test_count\": \"0\"}, {\"Date\": \"2020-01-21T00:00:00\", \"lab_type\": \"US Public Health Labs\", \"test_count\": \"0\"}, {\"Date\": \"2020-01-22T00:00:00\", \"lab_type\": \"US Public Health Labs\", \"test_count\": \"0\"}, {\"Date\": \"2020-01-23T00:00:00\", \"lab_type\": \"US Public Health Labs\", \"test_count\": \"0\"}, {\"Date\": \"2020-01-24T00:00:00\", \"lab_type\": \"US Public Health Labs\", \"test_count\": \"0\"}, {\"Date\": \"2020-01-25T00:00:00\", \"lab_type\": \"US Public Health Labs\", \"test_count\": \"0\"}, {\"Date\": \"2020-01-26T00:00:00\", \"lab_type\": \"US Public Health Labs\", \"test_count\": \"0\"}, {\"Date\": \"2020-01-27T00:00:00\", \"lab_type\": \"US Public Health Labs\", \"test_count\": \"0\"}, {\"Date\": \"2020-01-28T00:00:00\", \"lab_type\": \"US Public Health Labs\", \"test_count\": \"0\"}, {\"Date\": \"2020-01-29T00:00:00\", \"lab_type\": \"US Public Health Labs\", \"test_count\": \"0\"}, {\"Date\": \"2020-01-30T00:00:00\", \"lab_type\": \"US Public Health Labs\", \"test_count\": \"0\"}, {\"Date\": \"2020-01-31T00:00:00\", \"lab_type\": \"US Public Health Labs\", \"test_count\": \"0\"}, {\"Date\": \"2020-02-01T00:00:00\", \"lab_type\": \"US Public Health Labs\", \"test_count\": \"3\"}, {\"Date\": \"2020-02-02T00:00:00\", \"lab_type\": \"US Public Health Labs\", \"test_count\": \"1\"}, {\"Date\": \"2020-02-03T00:00:00\", \"lab_type\": \"US Public Health Labs\", \"test_count\": \"1\"}, {\"Date\": \"2020-02-04T00:00:00\", \"lab_type\": \"US Public Health Labs\", \"test_count\": \"0\"}, {\"Date\": \"2020-02-05T00:00:00\", \"lab_type\": \"US Public Health Labs\", \"test_count\": \"3\"}, {\"Date\": \"2020-02-06T00:00:00\", \"lab_type\": \"US Public Health Labs\", \"test_count\": \"4\"}, {\"Date\": \"2020-02-07T00:00:00\", \"lab_type\": \"US Public Health Labs\", \"test_count\": \"0\"}, {\"Date\": \"2020-02-08T00:00:00\", \"lab_type\": \"US Public Health Labs\", \"test_count\": \"0\"}, {\"Date\": \"2020-02-09T00:00:00\", \"lab_type\": \"US Public Health Labs\", \"test_count\": \"2\"}, {\"Date\": \"2020-02-10T00:00:00\", \"lab_type\": \"US Public Health Labs\", \"test_count\": \"1\"}, {\"Date\": \"2020-02-11T00:00:00\", \"lab_type\": \"US Public Health Labs\", \"test_count\": \"2\"}, {\"Date\": \"2020-02-12T00:00:00\", \"lab_type\": \"US Public Health Labs\", \"test_count\": \"2\"}, {\"Date\": \"2020-02-13T00:00:00\", \"lab_type\": \"US Public Health Labs\", \"test_count\": \"1\"}, {\"Date\": \"2020-02-14T00:00:00\", \"lab_type\": \"US Public Health Labs\", \"test_count\": \"5\"}, {\"Date\": \"2020-02-15T00:00:00\", \"lab_type\": \"US Public Health Labs\", \"test_count\": \"4\"}, {\"Date\": \"2020-02-16T00:00:00\", \"lab_type\": \"US Public Health Labs\", \"test_count\": \"1\"}, {\"Date\": \"2020-02-17T00:00:00\", \"lab_type\": \"US Public Health Labs\", \"test_count\": \"29\"}, {\"Date\": \"2020-02-18T00:00:00\", \"lab_type\": \"US Public Health Labs\", \"test_count\": \"11\"}, {\"Date\": \"2020-02-19T00:00:00\", \"lab_type\": \"US Public Health Labs\", \"test_count\": \"6\"}, {\"Date\": \"2020-02-20T00:00:00\", \"lab_type\": \"US Public Health Labs\", \"test_count\": \"5\"}, {\"Date\": \"2020-02-21T00:00:00\", \"lab_type\": \"US Public Health Labs\", \"test_count\": \"4\"}, {\"Date\": \"2020-02-22T00:00:00\", \"lab_type\": \"US Public Health Labs\", \"test_count\": \"4\"}, {\"Date\": \"2020-02-23T00:00:00\", \"lab_type\": \"US Public Health Labs\", \"test_count\": \"4\"}, {\"Date\": \"2020-02-24T00:00:00\", \"lab_type\": \"US Public Health Labs\", \"test_count\": \"21\"}, {\"Date\": \"2020-02-25T00:00:00\", \"lab_type\": \"US Public Health Labs\", \"test_count\": \"15\"}, {\"Date\": \"2020-02-26T00:00:00\", \"lab_type\": \"US Public Health Labs\", \"test_count\": \"31\"}, {\"Date\": \"2020-02-27T00:00:00\", \"lab_type\": \"US Public Health Labs\", \"test_count\": \"142\"}, {\"Date\": \"2020-02-28T00:00:00\", \"lab_type\": \"US Public Health Labs\", \"test_count\": \"188\"}, {\"Date\": \"2020-02-29T00:00:00\", \"lab_type\": \"US Public Health Labs\", \"test_count\": \"289\"}, {\"Date\": \"2020-03-01T00:00:00\", \"lab_type\": \"US Public Health Labs\", \"test_count\": \"264\"}, {\"Date\": \"2020-03-02T00:00:00\", \"lab_type\": \"US Public Health Labs\", \"test_count\": \"578\"}, {\"Date\": \"2020-03-03T00:00:00\", \"lab_type\": \"US Public Health Labs\", \"test_count\": \"826\"}, {\"Date\": \"2020-03-04T00:00:00\", \"lab_type\": \"US Public Health Labs\", \"test_count\": \"1205\"}, {\"Date\": \"2020-03-05T00:00:00\", \"lab_type\": \"US Public Health Labs\", \"test_count\": \"1762\"}, {\"Date\": \"2020-03-06T00:00:00\", \"lab_type\": \"US Public Health Labs\", \"test_count\": \"2026\"}, {\"Date\": \"2020-03-07T00:00:00\", \"lab_type\": \"US Public Health Labs\", \"test_count\": \"1609\"}, {\"Date\": \"2020-03-08T00:00:00\", \"lab_type\": \"US Public Health Labs\", \"test_count\": \"1753\"}, {\"Date\": \"2020-03-09T00:00:00\", \"lab_type\": \"US Public Health Labs\", \"test_count\": \"3535\"}, {\"Date\": \"2020-03-10T00:00:00\", \"lab_type\": \"US Public Health Labs\", \"test_count\": \"3754\"}, {\"Date\": \"2020-03-11T00:00:00\", \"lab_type\": \"US Public Health Labs\", \"test_count\": \"4602\"}, {\"Date\": \"2020-03-12T00:00:00\", \"lab_type\": \"US Public Health Labs\", \"test_count\": \"6496\"}, {\"Date\": \"2020-03-13T00:00:00\", \"lab_type\": \"US Public Health Labs\", \"test_count\": \"7053\"}, {\"Date\": \"2020-03-14T00:00:00\", \"lab_type\": \"US Public Health Labs\", \"test_count\": \"6213\"}, {\"Date\": \"2020-03-15T00:00:00\", \"lab_type\": \"US Public Health Labs\", \"test_count\": \"5936\"}, {\"Date\": \"2020-03-16T00:00:00\", \"lab_type\": \"US Public Health Labs\", \"test_count\": \"11443\"}, {\"Date\": \"2020-03-17T00:00:00\", \"lab_type\": \"US Public Health Labs\", \"test_count\": \"11620\"}, {\"Date\": \"2020-03-18T00:00:00\", \"lab_type\": \"US Public Health Labs\", \"test_count\": \"10881\"}, {\"Date\": \"2020-03-19T00:00:00\", \"lab_type\": \"US Public Health Labs\", \"test_count\": \"10707\"}, {\"Date\": \"2020-03-20T00:00:00\", \"lab_type\": \"US Public Health Labs\", \"test_count\": \"10425\"}, {\"Date\": \"2020-03-21T00:00:00\", \"lab_type\": \"US Public Health Labs\", \"test_count\": \"6015\"}, {\"Date\": \"2020-03-22T00:00:00\", \"lab_type\": \"US Public Health Labs\", \"test_count\": \"5294\"}, {\"Date\": \"2020-03-23T00:00:00\", \"lab_type\": \"US Public Health Labs\", \"test_count\": \"9690\"}, {\"Date\": \"2020-03-24T00:00:00\", \"lab_type\": \"US Public Health Labs\", \"test_count\": \"9713\"}, {\"Date\": \"2020-03-25T00:00:00\", \"lab_type\": \"US Public Health Labs\", \"test_count\": \"10251\"}, {\"Date\": \"2020-03-26T00:00:00\", \"lab_type\": \"US Public Health Labs\", \"test_count\": \"10894\"}, {\"Date\": \"2020-03-27T00:00:00\", \"lab_type\": \"US Public Health Labs\", \"test_count\": \"10719\"}, {\"Date\": \"2020-03-28T00:00:00\", \"lab_type\": \"US Public Health Labs\", \"test_count\": \"7317\"}, {\"Date\": \"2020-03-29T00:00:00\", \"lab_type\": \"US Public Health Labs\", \"test_count\": \"6005\"}, {\"Date\": \"2020-03-30T00:00:00\", \"lab_type\": \"US Public Health Labs\", \"test_count\": \"12106\"}, {\"Date\": \"2020-03-31T00:00:00\", \"lab_type\": \"US Public Health Labs\", \"test_count\": \"12521\"}, {\"Date\": \"2020-04-01T00:00:00\", \"lab_type\": \"US Public Health Labs\", \"test_count\": \"12177\"}, {\"Date\": \"2020-04-02T00:00:00\", \"lab_type\": \"US Public Health Labs\", \"test_count\": \"13336\"}, {\"Date\": \"2020-04-03T00:00:00\", \"lab_type\": \"US Public Health Labs\", \"test_count\": \"13706\"}, {\"Date\": \"2020-04-04T00:00:00\", \"lab_type\": \"US Public Health Labs\", \"test_count\": \"8089\"}, {\"Date\": \"2020-04-05T00:00:00\", \"lab_type\": \"US Public Health Labs\", \"test_count\": \"7515\"}, {\"Date\": \"2020-04-06T00:00:00\", \"lab_type\": \"US Public Health Labs\", \"test_count\": \"13910\"}, {\"Date\": \"2020-04-07T00:00:00\", \"lab_type\": \"US Public Health Labs\", \"test_count\": \"13203\"}, {\"Date\": \"2020-04-08T00:00:00\", \"lab_type\": \"US Public Health Labs\", \"test_count\": \"13627\"}, {\"Date\": \"2020-04-09T00:00:00\", \"lab_type\": \"US Public Health Labs\", \"test_count\": \"12565\"}, {\"Date\": \"2020-04-10T00:00:00\", \"lab_type\": \"US Public Health Labs\", \"test_count\": \"13059\"}, {\"Date\": \"2020-04-11T00:00:00\", \"lab_type\": \"US Public Health Labs\", \"test_count\": \"6916\"}, {\"Date\": \"2020-04-12T00:00:00\", \"lab_type\": \"US Public Health Labs\", \"test_count\": \"3942\"}, {\"Date\": \"2020-04-13T00:00:00\", \"lab_type\": \"US Public Health Labs\", \"test_count\": \"12232\"}, {\"Date\": \"2020-04-14T00:00:00\", \"lab_type\": \"US Public Health Labs\", \"test_count\": \"12413\"}, {\"Date\": \"2020-04-15T00:00:00\", \"lab_type\": \"US Public Health Labs\", \"test_count\": \"13044\"}, {\"Date\": \"2020-04-16T00:00:00\", \"lab_type\": \"US Public Health Labs\", \"test_count\": \"13332\"}, {\"Date\": \"2020-04-17T00:00:00\", \"lab_type\": \"US Public Health Labs\", \"test_count\": \"15411\"}, {\"Date\": \"2020-04-18T00:00:00\", \"lab_type\": \"US Public Health Labs\", \"test_count\": \"7053\"}, {\"Date\": \"2020-04-19T00:00:00\", \"lab_type\": \"US Public Health Labs\", \"test_count\": \"5431\"}, {\"Date\": \"2020-04-20T00:00:00\", \"lab_type\": \"US Public Health Labs\", \"test_count\": \"14948\"}, {\"Date\": \"2020-04-21T00:00:00\", \"lab_type\": \"US Public Health Labs\", \"test_count\": \"15669\"}, {\"Date\": \"2020-04-22T00:00:00\", \"lab_type\": \"US Public Health Labs\", \"test_count\": \"18796\"}, {\"Date\": \"2020-04-23T00:00:00\", \"lab_type\": \"US Public Health Labs\", \"test_count\": \"17687\"}, {\"Date\": \"2020-04-24T00:00:00\", \"lab_type\": \"US Public Health Labs\", \"test_count\": \"14984\"}, {\"Date\": \"2020-04-25T00:00:00\", \"lab_type\": \"US Public Health Labs\", \"test_count\": \"3359\"}, {\"Date\": \"2020-04-26T00:00:00\", \"lab_type\": \"US Public Health Labs\", \"test_count\": \"272\"}, {\"Date\": \"2020-04-27T00:00:00\", \"lab_type\": \"US Public Health Labs\", \"test_count\": \"20\"}, {\"Date\": \"2020-01-18T00:00:00\", \"lab_type\": \"CDC Labs\", \"test_count\": \"4\"}, {\"Date\": \"2020-01-19T00:00:00\", \"lab_type\": \"CDC Labs\", \"test_count\": \"0\"}, {\"Date\": \"2020-01-20T00:00:00\", \"lab_type\": \"CDC Labs\", \"test_count\": \"7\"}, {\"Date\": \"2020-01-21T00:00:00\", \"lab_type\": \"CDC Labs\", \"test_count\": \"3\"}, {\"Date\": \"2020-01-22T00:00:00\", \"lab_type\": \"CDC Labs\", \"test_count\": \"10\"}, {\"Date\": \"2020-01-23T00:00:00\", \"lab_type\": \"CDC Labs\", \"test_count\": \"36\"}, {\"Date\": \"2020-01-24T00:00:00\", \"lab_type\": \"CDC Labs\", \"test_count\": \"53\"}, {\"Date\": \"2020-01-25T00:00:00\", \"lab_type\": \"CDC Labs\", \"test_count\": \"101\"}, {\"Date\": \"2020-01-26T00:00:00\", \"lab_type\": \"CDC Labs\", \"test_count\": \"79\"}, {\"Date\": \"2020-01-27T00:00:00\", \"lab_type\": \"CDC Labs\", \"test_count\": \"77\"}, {\"Date\": \"2020-01-28T00:00:00\", \"lab_type\": \"CDC Labs\", \"test_count\": \"65\"}, {\"Date\": \"2020-01-29T00:00:00\", \"lab_type\": \"CDC Labs\", \"test_count\": \"102\"}, {\"Date\": \"2020-01-30T00:00:00\", \"lab_type\": \"CDC Labs\", \"test_count\": \"256\"}, {\"Date\": \"2020-01-31T00:00:00\", \"lab_type\": \"CDC Labs\", \"test_count\": \"63\"}, {\"Date\": \"2020-02-01T00:00:00\", \"lab_type\": \"CDC Labs\", \"test_count\": \"310\"}, {\"Date\": \"2020-02-02T00:00:00\", \"lab_type\": \"CDC Labs\", \"test_count\": \"33\"}, {\"Date\": \"2020-02-03T00:00:00\", \"lab_type\": \"CDC Labs\", \"test_count\": \"131\"}, {\"Date\": \"2020-02-04T00:00:00\", \"lab_type\": \"CDC Labs\", \"test_count\": \"93\"}, {\"Date\": \"2020-02-05T00:00:00\", \"lab_type\": \"CDC Labs\", \"test_count\": \"104\"}, {\"Date\": \"2020-02-06T00:00:00\", \"lab_type\": \"CDC Labs\", \"test_count\": \"74\"}, {\"Date\": \"2020-02-07T00:00:00\", \"lab_type\": \"CDC Labs\", \"test_count\": \"93\"}, {\"Date\": \"2020-02-08T00:00:00\", \"lab_type\": \"CDC Labs\", \"test_count\": \"79\"}, {\"Date\": \"2020-02-09T00:00:00\", \"lab_type\": \"CDC Labs\", \"test_count\": \"36\"}, {\"Date\": \"2020-02-10T00:00:00\", \"lab_type\": \"CDC Labs\", \"test_count\": \"37\"}, {\"Date\": \"2020-02-11T00:00:00\", \"lab_type\": \"CDC Labs\", \"test_count\": \"95\"}, {\"Date\": \"2020-02-12T00:00:00\", \"lab_type\": \"CDC Labs\", \"test_count\": \"56\"}, {\"Date\": \"2020-02-13T00:00:00\", \"lab_type\": \"CDC Labs\", \"test_count\": \"47\"}, {\"Date\": \"2020-02-14T00:00:00\", \"lab_type\": \"CDC Labs\", \"test_count\": \"36\"}, {\"Date\": \"2020-02-15T00:00:00\", \"lab_type\": \"CDC Labs\", \"test_count\": \"51\"}, {\"Date\": \"2020-02-16T00:00:00\", \"lab_type\": \"CDC Labs\", \"test_count\": \"24\"}, {\"Date\": \"2020-02-17T00:00:00\", \"lab_type\": \"CDC Labs\", \"test_count\": \"7\"}, {\"Date\": \"2020-02-18T00:00:00\", \"lab_type\": \"CDC Labs\", \"test_count\": \"32\"}, {\"Date\": \"2020-02-19T00:00:00\", \"lab_type\": \"CDC Labs\", \"test_count\": \"63\"}, {\"Date\": \"2020-02-20T00:00:00\", \"lab_type\": \"CDC Labs\", \"test_count\": \"55\"}, {\"Date\": \"2020-02-21T00:00:00\", \"lab_type\": \"CDC Labs\", \"test_count\": \"249\"}, {\"Date\": \"2020-02-22T00:00:00\", \"lab_type\": \"CDC Labs\", \"test_count\": \"254\"}, {\"Date\": \"2020-02-23T00:00:00\", \"lab_type\": \"CDC Labs\", \"test_count\": \"67\"}, {\"Date\": \"2020-02-24T00:00:00\", \"lab_type\": \"CDC Labs\", \"test_count\": \"50\"}, {\"Date\": \"2020-02-25T00:00:00\", \"lab_type\": \"CDC Labs\", \"test_count\": \"50\"}, {\"Date\": \"2020-02-26T00:00:00\", \"lab_type\": \"CDC Labs\", \"test_count\": \"80\"}, {\"Date\": \"2020-02-27T00:00:00\", \"lab_type\": \"CDC Labs\", \"test_count\": \"62\"}, {\"Date\": \"2020-02-28T00:00:00\", \"lab_type\": \"CDC Labs\", \"test_count\": \"86\"}, {\"Date\": \"2020-02-29T00:00:00\", \"lab_type\": \"CDC Labs\", \"test_count\": \"80\"}, {\"Date\": \"2020-03-01T00:00:00\", \"lab_type\": \"CDC Labs\", \"test_count\": \"31\"}, {\"Date\": \"2020-03-02T00:00:00\", \"lab_type\": \"CDC Labs\", \"test_count\": \"94\"}, {\"Date\": \"2020-03-03T00:00:00\", \"lab_type\": \"CDC Labs\", \"test_count\": \"73\"}, {\"Date\": \"2020-03-04T00:00:00\", \"lab_type\": \"CDC Labs\", \"test_count\": \"111\"}, {\"Date\": \"2020-03-05T00:00:00\", \"lab_type\": \"CDC Labs\", \"test_count\": \"86\"}, {\"Date\": \"2020-03-06T00:00:00\", \"lab_type\": \"CDC Labs\", \"test_count\": \"5\"}, {\"Date\": \"2020-03-07T00:00:00\", \"lab_type\": \"CDC Labs\", \"test_count\": \"179\"}, {\"Date\": \"2020-03-08T00:00:00\", \"lab_type\": \"CDC Labs\", \"test_count\": \"82\"}, {\"Date\": \"2020-03-09T00:00:00\", \"lab_type\": \"CDC Labs\", \"test_count\": \"36\"}, {\"Date\": \"2020-03-10T00:00:00\", \"lab_type\": \"CDC Labs\", \"test_count\": \"172\"}, {\"Date\": \"2020-03-11T00:00:00\", \"lab_type\": \"CDC Labs\", \"test_count\": \"143\"}, {\"Date\": \"2020-03-12T00:00:00\", \"lab_type\": \"CDC Labs\", \"test_count\": \"205\"}, {\"Date\": \"2020-03-13T00:00:00\", \"lab_type\": \"CDC Labs\", \"test_count\": \"29\"}, {\"Date\": \"2020-03-14T00:00:00\", \"lab_type\": \"CDC Labs\", \"test_count\": \"20\"}, {\"Date\": \"2020-03-15T00:00:00\", \"lab_type\": \"CDC Labs\", \"test_count\": \"1\"}, {\"Date\": \"2020-03-16T00:00:00\", \"lab_type\": \"CDC Labs\", \"test_count\": \"3\"}, {\"Date\": \"2020-03-17T00:00:00\", \"lab_type\": \"CDC Labs\", \"test_count\": \"15\"}, {\"Date\": \"2020-03-18T00:00:00\", \"lab_type\": \"CDC Labs\", \"test_count\": \"31\"}, {\"Date\": \"2020-03-19T00:00:00\", \"lab_type\": \"CDC Labs\", \"test_count\": \"15\"}, {\"Date\": \"2020-03-20T00:00:00\", \"lab_type\": \"CDC Labs\", \"test_count\": \"11\"}, {\"Date\": \"2020-03-21T00:00:00\", \"lab_type\": \"CDC Labs\", \"test_count\": \"32\"}, {\"Date\": \"2020-03-22T00:00:00\", \"lab_type\": \"CDC Labs\", \"test_count\": \"1\"}, {\"Date\": \"2020-03-23T00:00:00\", \"lab_type\": \"CDC Labs\", \"test_count\": \"2\"}, {\"Date\": \"2020-03-24T00:00:00\", \"lab_type\": \"CDC Labs\", \"test_count\": \"4\"}, {\"Date\": \"2020-03-25T00:00:00\", \"lab_type\": \"CDC Labs\", \"test_count\": \"29\"}, {\"Date\": \"2020-03-26T00:00:00\", \"lab_type\": \"CDC Labs\", \"test_count\": \"42\"}, {\"Date\": \"2020-03-27T00:00:00\", \"lab_type\": \"CDC Labs\", \"test_count\": \"26\"}, {\"Date\": \"2020-03-28T00:00:00\", \"lab_type\": \"CDC Labs\", \"test_count\": \"9\"}, {\"Date\": \"2020-03-29T00:00:00\", \"lab_type\": \"CDC Labs\", \"test_count\": \"1\"}, {\"Date\": \"2020-03-30T00:00:00\", \"lab_type\": \"CDC Labs\", \"test_count\": \"5\"}, {\"Date\": \"2020-03-31T00:00:00\", \"lab_type\": \"CDC Labs\", \"test_count\": \"34\"}, {\"Date\": \"2020-04-01T00:00:00\", \"lab_type\": \"CDC Labs\", \"test_count\": \"10\"}, {\"Date\": \"2020-04-02T00:00:00\", \"lab_type\": \"CDC Labs\", \"test_count\": \"32\"}, {\"Date\": \"2020-04-03T00:00:00\", \"lab_type\": \"CDC Labs\", \"test_count\": \"33\"}, {\"Date\": \"2020-04-04T00:00:00\", \"lab_type\": \"CDC Labs\", \"test_count\": \"17\"}, {\"Date\": \"2020-04-05T00:00:00\", \"lab_type\": \"CDC Labs\", \"test_count\": \"5\"}, {\"Date\": \"2020-04-06T00:00:00\", \"lab_type\": \"CDC Labs\", \"test_count\": \"11\"}, {\"Date\": \"2020-04-07T00:00:00\", \"lab_type\": \"CDC Labs\", \"test_count\": \"28\"}, {\"Date\": \"2020-04-08T00:00:00\", \"lab_type\": \"CDC Labs\", \"test_count\": \"31\"}, {\"Date\": \"2020-04-09T00:00:00\", \"lab_type\": \"CDC Labs\", \"test_count\": \"30\"}, {\"Date\": \"2020-04-10T00:00:00\", \"lab_type\": \"CDC Labs\", \"test_count\": \"24\"}, {\"Date\": \"2020-04-11T00:00:00\", \"lab_type\": \"CDC Labs\", \"test_count\": \"0\"}, {\"Date\": \"2020-04-12T00:00:00\", \"lab_type\": \"CDC Labs\", \"test_count\": \"0\"}, {\"Date\": \"2020-04-13T00:00:00\", \"lab_type\": \"CDC Labs\", \"test_count\": \"1\"}, {\"Date\": \"2020-04-14T00:00:00\", \"lab_type\": \"CDC Labs\", \"test_count\": \"21\"}, {\"Date\": \"2020-04-15T00:00:00\", \"lab_type\": \"CDC Labs\", \"test_count\": \"0\"}, {\"Date\": \"2020-04-16T00:00:00\", \"lab_type\": \"CDC Labs\", \"test_count\": \"32\"}, {\"Date\": \"2020-04-17T00:00:00\", \"lab_type\": \"CDC Labs\", \"test_count\": \"6\"}, {\"Date\": \"2020-04-18T00:00:00\", \"lab_type\": \"CDC Labs\", \"test_count\": \"17\"}, {\"Date\": \"2020-04-19T00:00:00\", \"lab_type\": \"CDC Labs\", \"test_count\": \"1\"}, {\"Date\": \"2020-04-20T00:00:00\", \"lab_type\": \"CDC Labs\", \"test_count\": \"0\"}, {\"Date\": \"2020-04-21T00:00:00\", \"lab_type\": \"CDC Labs\", \"test_count\": \"39\"}, {\"Date\": \"2020-04-22T00:00:00\", \"lab_type\": \"CDC Labs\", \"test_count\": \"6\"}, {\"Date\": \"2020-04-23T00:00:00\", \"lab_type\": \"CDC Labs\", \"test_count\": \"31\"}, {\"Date\": \"2020-04-24T00:00:00\", \"lab_type\": \"CDC Labs\", \"test_count\": \"19\"}, {\"Date\": \"2020-04-25T00:00:00\", \"lab_type\": \"CDC Labs\", \"test_count\": \"18\"}, {\"Date\": \"2020-04-26T00:00:00\", \"lab_type\": \"CDC Labs\", \"test_count\": \"0\"}, {\"Date\": \"2020-04-27T00:00:00\", \"lab_type\": \"CDC Labs\", \"test_count\": \"0\"}]}}, {\"mode\": \"vega-lite\"});\n",
       "</script>"
      ],
      "text/plain": [
       "alt.Chart(...)"
      ]
     },
     "execution_count": 15,
     "metadata": {},
     "output_type": "execute_result"
    }
   ],
   "source": [
    "chart = alt.Chart(tables_melt).mark_bar(size=10).encode(\n",
    "    x=alt.X('Date:T', title='Date', axis=alt.Axis(tickCount=10)),\n",
    "    y=alt.Y('test_count:Q', title=''),\n",
    "    color=alt.Color('lab_type', legend=alt.Legend(orient=\"top\"), title=''),\n",
    "    order=alt.Order(\n",
    "      # Sort the segments of the bars by this field\n",
    "      'lab_type',\n",
    "      sort='ascending'\n",
    "    )\n",
    ").properties(width=800, title={\n",
    "      \"text\": [\"CDC: Daily U.S. coronavirus specimens tested, by lab type\"], \n",
    "      \"subtitle\": [\"Figures from last four days reported as 'pending'\"],\n",
    "      \"color\": \"black\",\n",
    "      \"subtitleColor\": \"gray\"})\n",
    "\n",
    "chart"
   ]
  },
  {
   "cell_type": "code",
   "execution_count": 16,
   "metadata": {},
   "outputs": [],
   "source": [
    "chart.save('visualization.png')"
   ]
  },
  {
   "cell_type": "code",
   "execution_count": 17,
   "metadata": {},
   "outputs": [],
   "source": [
    "chart.save('visualization.svg')"
   ]
  },
  {
   "cell_type": "markdown",
   "metadata": {},
   "source": [
    "---"
   ]
  },
  {
   "cell_type": "code",
   "execution_count": 18,
   "metadata": {},
   "outputs": [],
   "source": [
    "url_cases = 'https://www.cdc.gov/coronavirus/2019-ncov/map-data-cases.csv'"
   ]
  },
  {
   "cell_type": "code",
   "execution_count": 19,
   "metadata": {},
   "outputs": [],
   "source": [
    "cases = pd.read_csv(url_cases, encoding='latin-1')"
   ]
  },
  {
   "cell_type": "code",
   "execution_count": 20,
   "metadata": {},
   "outputs": [],
   "source": [
    "cases.columns = cases.columns.str.strip().str.lower().str.replace(' ', '_')\\\n",
    "                    .str.replace('(', '').str.replace(')', '').str.replace('-','_')"
   ]
  },
  {
   "cell_type": "code",
   "execution_count": 21,
   "metadata": {},
   "outputs": [],
   "source": [
    "cases['cases_reported'] = cases['cases_reported'].str.replace('None', '0')"
   ]
  },
  {
   "cell_type": "code",
   "execution_count": 22,
   "metadata": {},
   "outputs": [],
   "source": [
    "cases.drop(['unnamed:_5', 'unnamed:_6', 'unnamed:_7'], axis=1, inplace=True)"
   ]
  },
  {
   "cell_type": "code",
   "execution_count": 23,
   "metadata": {},
   "outputs": [
    {
     "data": {
      "text/html": [
       "<div>\n",
       "<style scoped>\n",
       "    .dataframe tbody tr th:only-of-type {\n",
       "        vertical-align: middle;\n",
       "    }\n",
       "\n",
       "    .dataframe tbody tr th {\n",
       "        vertical-align: top;\n",
       "    }\n",
       "\n",
       "    .dataframe thead th {\n",
       "        text-align: right;\n",
       "    }\n",
       "</style>\n",
       "<table border=\"1\" class=\"dataframe\">\n",
       "  <thead>\n",
       "    <tr style=\"text-align: right;\">\n",
       "      <th></th>\n",
       "      <th>jurisdiction</th>\n",
       "      <th>range</th>\n",
       "      <th>cases_reported</th>\n",
       "      <th>community_transmission</th>\n",
       "      <th>url</th>\n",
       "    </tr>\n",
       "  </thead>\n",
       "  <tbody>\n",
       "    <tr>\n",
       "      <td>0</td>\n",
       "      <td>Alabama</td>\n",
       "      <td>51 to 100</td>\n",
       "      <td>51</td>\n",
       "      <td>Undetermined</td>\n",
       "      <td>http://www.adph.org/</td>\n",
       "    </tr>\n",
       "    <tr>\n",
       "      <td>1</td>\n",
       "      <td>Alaska</td>\n",
       "      <td>6 to 50</td>\n",
       "      <td>6</td>\n",
       "      <td>Undetermined</td>\n",
       "      <td>http://dhss.alaska.gov/Pages/default.aspx</td>\n",
       "    </tr>\n",
       "    <tr>\n",
       "      <td>2</td>\n",
       "      <td>American Samoa</td>\n",
       "      <td>None</td>\n",
       "      <td>0</td>\n",
       "      <td>NaN</td>\n",
       "      <td>http://dhss.as/</td>\n",
       "    </tr>\n",
       "    <tr>\n",
       "      <td>3</td>\n",
       "      <td>Arizona</td>\n",
       "      <td>6 to 50</td>\n",
       "      <td>27</td>\n",
       "      <td>Undetermined</td>\n",
       "      <td>http://www.azdhs.gov/</td>\n",
       "    </tr>\n",
       "    <tr>\n",
       "      <td>4</td>\n",
       "      <td>Arkansas</td>\n",
       "      <td>6 to 50</td>\n",
       "      <td>37</td>\n",
       "      <td>Yes, defined area(s)</td>\n",
       "      <td>http://www.healthy.arkansas.gov/Pages/default....</td>\n",
       "    </tr>\n",
       "  </tbody>\n",
       "</table>\n",
       "</div>"
      ],
      "text/plain": [
       "     jurisdiction      range cases_reported community_transmission  \\\n",
       "0         Alabama  51 to 100             51            Undetermined   \n",
       "1          Alaska    6 to 50              6            Undetermined   \n",
       "2  American Samoa       None              0                     NaN   \n",
       "3         Arizona    6 to 50             27            Undetermined   \n",
       "4        Arkansas    6 to 50             37    Yes, defined area(s)   \n",
       "\n",
       "                                                 url  \n",
       "0                               http://www.adph.org/  \n",
       "1          http://dhss.alaska.gov/Pages/default.aspx  \n",
       "2                                    http://dhss.as/  \n",
       "3                              http://www.azdhs.gov/  \n",
       "4  http://www.healthy.arkansas.gov/Pages/default....  "
      ]
     },
     "execution_count": 23,
     "metadata": {},
     "output_type": "execute_result"
    }
   ],
   "source": [
    "cases.head()"
   ]
  },
  {
   "cell_type": "markdown",
   "metadata": {},
   "source": [
    "---"
   ]
  },
  {
   "cell_type": "markdown",
   "metadata": {},
   "source": [
    "### Johns Hopkins data"
   ]
  },
  {
   "cell_type": "code",
   "execution_count": 24,
   "metadata": {},
   "outputs": [],
   "source": [
    "# Cases: \n",
    "# https://services1.arcgis.com/0MSEUqKaxRlEPj5g/ArcGIS/rest/services/Coronavirus_2019_nCoV_Cases/FeatureServer/1\n",
    "\n",
    "# Deaths: \n",
    "# https://services1.arcgis.com/0MSEUqKaxRlEPj5g/ArcGIS/rest/services/Coronavirus_2019_nCoV_Cases/FeatureServer/0\n",
    "\n",
    "# Cases countries: \n",
    "# https://services1.arcgis.com/0MSEUqKaxRlEPj5g/ArcGIS/rest/services/Coronavirus_2019_nCoV_Cases/FeatureServer/2\n",
    "\n",
    "# Cases/time: \n",
    "# https://services1.arcgis.com/0MSEUqKaxRlEPj5g/ArcGIS/rest/services/cases_time_v3/FeatureServer/0"
   ]
  },
  {
   "cell_type": "markdown",
   "metadata": {},
   "source": [
    "---"
   ]
  },
  {
   "cell_type": "code",
   "execution_count": 25,
   "metadata": {},
   "outputs": [],
   "source": [
    "# !tippecanoe --generate-ids --force -r1 -pk -pf -o \\\n",
    "# output/icus_geo.mbtiles \\\n",
    "# output/icus_geo.geojson"
   ]
  }
 ],
 "metadata": {
  "kernelspec": {
   "display_name": "Python 3",
   "language": "python",
   "name": "python3"
  },
  "language_info": {
   "codemirror_mode": {
    "name": "ipython",
    "version": 3
   },
   "file_extension": ".py",
   "mimetype": "text/x-python",
   "name": "python",
   "nbconvert_exporter": "python",
   "pygments_lexer": "ipython3",
   "version": "3.7.4"
  }
 },
 "nbformat": 4,
 "nbformat_minor": 2
}
