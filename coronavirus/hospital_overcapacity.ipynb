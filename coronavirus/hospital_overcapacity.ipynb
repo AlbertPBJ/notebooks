{
 "cells": [
  {
   "cell_type": "markdown",
   "metadata": {},
   "source": [
    "# Hospital overcapacity"
   ]
  },
  {
   "cell_type": "code",
   "execution_count": 1,
   "metadata": {},
   "outputs": [],
   "source": [
    "%load_ext lab_black"
   ]
  },
  {
   "cell_type": "code",
   "execution_count": 2,
   "metadata": {},
   "outputs": [
    {
     "data": {
      "text/plain": [
       "DataTransformerRegistry.enable('default')"
      ]
     },
     "execution_count": 2,
     "metadata": {},
     "output_type": "execute_result"
    }
   ],
   "source": [
    "import pandas as pd\n",
    "import geopandas as gpd\n",
    "import jenkspy\n",
    "import matplotlib.pyplot as plt\n",
    "\n",
    "%matplotlib inline\n",
    "import json\n",
    "import numpy as np\n",
    "import altair as alt\n",
    "import altair_latimes as lat\n",
    "\n",
    "alt.themes.register(\"latimes\", lat.theme)\n",
    "alt.themes.enable(\"latimes\")\n",
    "pd.options.display.max_columns = 50\n",
    "pd.options.display.max_rows = 1000\n",
    "alt.data_transformers.disable_max_rows()"
   ]
  },
  {
   "cell_type": "markdown",
   "metadata": {},
   "source": [
    "### Get state hospital utilization reports"
   ]
  },
  {
   "cell_type": "code",
   "execution_count": 3,
   "metadata": {},
   "outputs": [],
   "source": [
    "before = pd.read_csv(\n",
    "    \"../hospitals/output/hospital_utilization.csv\", dtype={\"fac_no\": str}\n",
    ")"
   ]
  },
  {
   "cell_type": "code",
   "execution_count": 4,
   "metadata": {},
   "outputs": [],
   "source": [
    "before = before[before[\"icu_beds\"] > 0].sort_values(\"fac_name\", ascending=True)"
   ]
  },
  {
   "cell_type": "code",
   "execution_count": 5,
   "metadata": {},
   "outputs": [],
   "source": [
    "state_hospital_names = before[\"fac_name\"].to_list()"
   ]
  },
  {
   "cell_type": "code",
   "execution_count": 6,
   "metadata": {},
   "outputs": [
    {
     "data": {
      "text/html": [
       "<div>\n",
       "<style scoped>\n",
       "    .dataframe tbody tr th:only-of-type {\n",
       "        vertical-align: middle;\n",
       "    }\n",
       "\n",
       "    .dataframe tbody tr th {\n",
       "        vertical-align: top;\n",
       "    }\n",
       "\n",
       "    .dataframe thead th {\n",
       "        text-align: right;\n",
       "    }\n",
       "</style>\n",
       "<table border=\"1\" class=\"dataframe\">\n",
       "  <thead>\n",
       "    <tr style=\"text-align: right;\">\n",
       "      <th></th>\n",
       "      <th>fac_no</th>\n",
       "      <th>fac_name</th>\n",
       "      <th>fac_city</th>\n",
       "      <th>county</th>\n",
       "      <th>license_no</th>\n",
       "      <th>fac_zip</th>\n",
       "      <th>icu_beds</th>\n",
       "      <th>tot_lic_beds</th>\n",
       "    </tr>\n",
       "  </thead>\n",
       "  <tbody>\n",
       "    <tr>\n",
       "      <th>488</th>\n",
       "      <td>106580996</td>\n",
       "      <td>ADVENTIST HEALTH AND RIDEOUT</td>\n",
       "      <td>MARYSVILLE</td>\n",
       "      <td>Yuba</td>\n",
       "      <td>230000126</td>\n",
       "      <td>95901</td>\n",
       "      <td>24</td>\n",
       "      <td>221</td>\n",
       "    </tr>\n",
       "    <tr>\n",
       "      <th>77</th>\n",
       "      <td>106150788</td>\n",
       "      <td>ADVENTIST HEALTH BAKERSFIELD</td>\n",
       "      <td>BAKERSFIELD</td>\n",
       "      <td>Kern</td>\n",
       "      <td>120000187</td>\n",
       "      <td>93301</td>\n",
       "      <td>34</td>\n",
       "      <td>254</td>\n",
       "    </tr>\n",
       "    <tr>\n",
       "      <th>85</th>\n",
       "      <td>106171049</td>\n",
       "      <td>ADVENTIST HEALTH CLEARLAKE</td>\n",
       "      <td>CLEARLAKE</td>\n",
       "      <td>Lake</td>\n",
       "      <td>110000174</td>\n",
       "      <td>95422</td>\n",
       "      <td>4</td>\n",
       "      <td>32</td>\n",
       "    </tr>\n",
       "    <tr>\n",
       "      <th>121</th>\n",
       "      <td>106190323</td>\n",
       "      <td>ADVENTIST HEALTH GLENDALE</td>\n",
       "      <td>GLENDALE</td>\n",
       "      <td>Los Angeles</td>\n",
       "      <td>930000059</td>\n",
       "      <td>91206</td>\n",
       "      <td>42</td>\n",
       "      <td>515</td>\n",
       "    </tr>\n",
       "    <tr>\n",
       "      <th>84</th>\n",
       "      <td>106164029</td>\n",
       "      <td>ADVENTIST HEALTH HANFORD</td>\n",
       "      <td>HANFORD</td>\n",
       "      <td>Kings</td>\n",
       "      <td>550001439</td>\n",
       "      <td>93230</td>\n",
       "      <td>22</td>\n",
       "      <td>173</td>\n",
       "    </tr>\n",
       "    <tr>\n",
       "      <th>209</th>\n",
       "      <td>106234038</td>\n",
       "      <td>ADVENTIST HEALTH HOWARD MEMORIAL</td>\n",
       "      <td>WILLITS</td>\n",
       "      <td>Mendocino</td>\n",
       "      <td>110000013</td>\n",
       "      <td>95490</td>\n",
       "      <td>4</td>\n",
       "      <td>25</td>\n",
       "    </tr>\n",
       "    <tr>\n",
       "      <th>381</th>\n",
       "      <td>106390923</td>\n",
       "      <td>ADVENTIST HEALTH LODI MEMORIAL</td>\n",
       "      <td>LODI</td>\n",
       "      <td>San Joaquin</td>\n",
       "      <td>030000056</td>\n",
       "      <td>95240-5179</td>\n",
       "      <td>10</td>\n",
       "      <td>194</td>\n",
       "    </tr>\n",
       "    <tr>\n",
       "      <th>482</th>\n",
       "      <td>106560525</td>\n",
       "      <td>ADVENTIST HEALTH SIMI VALLEY</td>\n",
       "      <td>SIMI VALLEY</td>\n",
       "      <td>Ventura</td>\n",
       "      <td>050000216</td>\n",
       "      <td>93065</td>\n",
       "      <td>24</td>\n",
       "      <td>144</td>\n",
       "    </tr>\n",
       "    <tr>\n",
       "      <th>474</th>\n",
       "      <td>106554011</td>\n",
       "      <td>ADVENTIST HEALTH SONORA - GREENLEY</td>\n",
       "      <td>SONORA</td>\n",
       "      <td>Tuolumne</td>\n",
       "      <td>030000094</td>\n",
       "      <td>95370</td>\n",
       "      <td>6</td>\n",
       "      <td>140</td>\n",
       "    </tr>\n",
       "    <tr>\n",
       "      <th>221</th>\n",
       "      <td>106281078</td>\n",
       "      <td>ADVENTIST HEALTH ST. HELENA</td>\n",
       "      <td>ST. HELENA</td>\n",
       "      <td>Napa</td>\n",
       "      <td>110000073</td>\n",
       "      <td>94574</td>\n",
       "      <td>12</td>\n",
       "      <td>151</td>\n",
       "    </tr>\n",
       "  </tbody>\n",
       "</table>\n",
       "</div>"
      ],
      "text/plain": [
       "        fac_no                            fac_name     fac_city       county  \\\n",
       "488  106580996        ADVENTIST HEALTH AND RIDEOUT   MARYSVILLE         Yuba   \n",
       "77   106150788        ADVENTIST HEALTH BAKERSFIELD  BAKERSFIELD         Kern   \n",
       "85   106171049          ADVENTIST HEALTH CLEARLAKE    CLEARLAKE         Lake   \n",
       "121  106190323           ADVENTIST HEALTH GLENDALE     GLENDALE  Los Angeles   \n",
       "84   106164029            ADVENTIST HEALTH HANFORD      HANFORD        Kings   \n",
       "209  106234038    ADVENTIST HEALTH HOWARD MEMORIAL      WILLITS    Mendocino   \n",
       "381  106390923      ADVENTIST HEALTH LODI MEMORIAL         LODI  San Joaquin   \n",
       "482  106560525        ADVENTIST HEALTH SIMI VALLEY  SIMI VALLEY      Ventura   \n",
       "474  106554011  ADVENTIST HEALTH SONORA - GREENLEY       SONORA     Tuolumne   \n",
       "221  106281078         ADVENTIST HEALTH ST. HELENA   ST. HELENA         Napa   \n",
       "\n",
       "    license_no     fac_zip  icu_beds  tot_lic_beds  \n",
       "488  230000126       95901        24           221  \n",
       "77   120000187       93301        34           254  \n",
       "85   110000174       95422         4            32  \n",
       "121  930000059       91206        42           515  \n",
       "84   550001439       93230        22           173  \n",
       "209  110000013       95490         4            25  \n",
       "381  030000056  95240-5179        10           194  \n",
       "482  050000216       93065        24           144  \n",
       "474  030000094       95370         6           140  \n",
       "221  110000073       94574        12           151  "
      ]
     },
     "execution_count": 6,
     "metadata": {},
     "output_type": "execute_result"
    }
   ],
   "source": [
    "before.head(10)"
   ]
  },
  {
   "cell_type": "markdown",
   "metadata": {},
   "source": [
    "### Get latest hospital capacity report from HHS"
   ]
  },
  {
   "cell_type": "code",
   "execution_count": 7,
   "metadata": {},
   "outputs": [],
   "source": [
    "current = pd.read_csv(\"output/current_ca.csv\")"
   ]
  },
  {
   "cell_type": "code",
   "execution_count": 8,
   "metadata": {},
   "outputs": [],
   "source": [
    "current = current[current[\"total_covid_patients\"] > 0].sort_values(\n",
    "    \"hospital\", ascending=True\n",
    ")"
   ]
  },
  {
   "cell_type": "code",
   "execution_count": 9,
   "metadata": {},
   "outputs": [],
   "source": [
    "current[\"hospital\"] = current[\"hospital\"].str.upper()"
   ]
  },
  {
   "cell_type": "code",
   "execution_count": 10,
   "metadata": {},
   "outputs": [],
   "source": [
    "hhs_hospital_names = current[\"hospital\"].to_list()"
   ]
  },
  {
   "cell_type": "code",
   "execution_count": 11,
   "metadata": {},
   "outputs": [
    {
     "data": {
      "text/html": [
       "<div>\n",
       "<style scoped>\n",
       "    .dataframe tbody tr th:only-of-type {\n",
       "        vertical-align: middle;\n",
       "    }\n",
       "\n",
       "    .dataframe tbody tr th {\n",
       "        vertical-align: top;\n",
       "    }\n",
       "\n",
       "    .dataframe thead th {\n",
       "        text-align: right;\n",
       "    }\n",
       "</style>\n",
       "<table border=\"1\" class=\"dataframe\">\n",
       "  <thead>\n",
       "    <tr style=\"text-align: right;\">\n",
       "      <th></th>\n",
       "      <th>hospital</th>\n",
       "      <th>hospital_subtype</th>\n",
       "      <th>ccn</th>\n",
       "      <th>week</th>\n",
       "      <th>county</th>\n",
       "      <th>fips</th>\n",
       "      <th>total_staffed_adult_icu_beds</th>\n",
       "      <th>total_covid_icu_patients</th>\n",
       "      <th>total_available_adult_icu_beds</th>\n",
       "      <th>pct_occupied_adult_icu_beds</th>\n",
       "      <th>total_covid_patients</th>\n",
       "      <th>all_patients</th>\n",
       "      <th>covid_patients_share</th>\n",
       "      <th>region</th>\n",
       "    </tr>\n",
       "  </thead>\n",
       "  <tbody>\n",
       "    <tr>\n",
       "      <th>187</th>\n",
       "      <td>ADVENTIST HEALTH AND RIDEOUT</td>\n",
       "      <td>Short Term</td>\n",
       "      <td>050133</td>\n",
       "      <td>2020-12-25</td>\n",
       "      <td>Yuba</td>\n",
       "      <td>115</td>\n",
       "      <td>25.0</td>\n",
       "      <td>15.0</td>\n",
       "      <td>2.0</td>\n",
       "      <td>0.92</td>\n",
       "      <td>75.0</td>\n",
       "      <td>213.0</td>\n",
       "      <td>0.35</td>\n",
       "      <td>Greater Sacramento</td>\n",
       "    </tr>\n",
       "    <tr>\n",
       "      <th>71</th>\n",
       "      <td>ADVENTIST HEALTH BAKERSFIELD</td>\n",
       "      <td>Short Term</td>\n",
       "      <td>050455</td>\n",
       "      <td>2020-12-25</td>\n",
       "      <td>Kern</td>\n",
       "      <td>29</td>\n",
       "      <td>28.0</td>\n",
       "      <td>17.0</td>\n",
       "      <td>0.0</td>\n",
       "      <td>1.00</td>\n",
       "      <td>128.0</td>\n",
       "      <td>222.0</td>\n",
       "      <td>0.58</td>\n",
       "      <td>San Joaquin Valley</td>\n",
       "    </tr>\n",
       "    <tr>\n",
       "      <th>289</th>\n",
       "      <td>ADVENTIST HEALTH CLEARLAKE</td>\n",
       "      <td>Critical Access Hospitals</td>\n",
       "      <td>051317</td>\n",
       "      <td>2020-12-25</td>\n",
       "      <td>Lake</td>\n",
       "      <td>33</td>\n",
       "      <td>4.0</td>\n",
       "      <td>1.0</td>\n",
       "      <td>0.0</td>\n",
       "      <td>1.00</td>\n",
       "      <td>2.0</td>\n",
       "      <td>18.0</td>\n",
       "      <td>0.11</td>\n",
       "      <td>Northern California</td>\n",
       "    </tr>\n",
       "    <tr>\n",
       "      <th>18</th>\n",
       "      <td>ADVENTIST HEALTH DELANO</td>\n",
       "      <td>Short Term</td>\n",
       "      <td>050608</td>\n",
       "      <td>2020-12-25</td>\n",
       "      <td>Kern</td>\n",
       "      <td>29</td>\n",
       "      <td>12.0</td>\n",
       "      <td>9.0</td>\n",
       "      <td>0.0</td>\n",
       "      <td>1.00</td>\n",
       "      <td>26.0</td>\n",
       "      <td>36.0</td>\n",
       "      <td>0.72</td>\n",
       "      <td>San Joaquin Valley</td>\n",
       "    </tr>\n",
       "    <tr>\n",
       "      <th>69</th>\n",
       "      <td>ADVENTIST HEALTH HANFORD</td>\n",
       "      <td>Short Term</td>\n",
       "      <td>050121</td>\n",
       "      <td>2020-12-25</td>\n",
       "      <td>Kings</td>\n",
       "      <td>31</td>\n",
       "      <td>22.0</td>\n",
       "      <td>9.0</td>\n",
       "      <td>2.0</td>\n",
       "      <td>0.91</td>\n",
       "      <td>91.0</td>\n",
       "      <td>155.0</td>\n",
       "      <td>0.59</td>\n",
       "      <td>San Joaquin Valley</td>\n",
       "    </tr>\n",
       "    <tr>\n",
       "      <th>304</th>\n",
       "      <td>ADVENTIST HEALTH HOWARD MEMORIAL</td>\n",
       "      <td>Critical Access Hospitals</td>\n",
       "      <td>051310</td>\n",
       "      <td>2020-12-25</td>\n",
       "      <td>Mendocino</td>\n",
       "      <td>45</td>\n",
       "      <td>4.0</td>\n",
       "      <td>1.0</td>\n",
       "      <td>0.0</td>\n",
       "      <td>1.00</td>\n",
       "      <td>1.0</td>\n",
       "      <td>19.0</td>\n",
       "      <td>0.05</td>\n",
       "      <td>Northern California</td>\n",
       "    </tr>\n",
       "    <tr>\n",
       "      <th>141</th>\n",
       "      <td>ADVENTIST HEALTH LODI MEMORIAL</td>\n",
       "      <td>Short Term</td>\n",
       "      <td>050336</td>\n",
       "      <td>2020-12-25</td>\n",
       "      <td>San Joaquin</td>\n",
       "      <td>77</td>\n",
       "      <td>15.0</td>\n",
       "      <td>8.0</td>\n",
       "      <td>2.0</td>\n",
       "      <td>0.87</td>\n",
       "      <td>49.0</td>\n",
       "      <td>108.0</td>\n",
       "      <td>0.45</td>\n",
       "      <td>San Joaquin Valley</td>\n",
       "    </tr>\n",
       "    <tr>\n",
       "      <th>138</th>\n",
       "      <td>ADVENTIST HEALTH SIMI VALLEY</td>\n",
       "      <td>Short Term</td>\n",
       "      <td>050236</td>\n",
       "      <td>2020-12-25</td>\n",
       "      <td>Ventura</td>\n",
       "      <td>111</td>\n",
       "      <td>24.0</td>\n",
       "      <td>14.0</td>\n",
       "      <td>8.0</td>\n",
       "      <td>0.67</td>\n",
       "      <td>59.0</td>\n",
       "      <td>130.0</td>\n",
       "      <td>0.45</td>\n",
       "      <td>Southern California</td>\n",
       "    </tr>\n",
       "    <tr>\n",
       "      <th>265</th>\n",
       "      <td>ADVENTIST HEALTH SONORA</td>\n",
       "      <td>Short Term</td>\n",
       "      <td>050335</td>\n",
       "      <td>2020-12-25</td>\n",
       "      <td>Tuolumne</td>\n",
       "      <td>109</td>\n",
       "      <td>6.0</td>\n",
       "      <td>1.0</td>\n",
       "      <td>3.0</td>\n",
       "      <td>0.50</td>\n",
       "      <td>8.0</td>\n",
       "      <td>45.0</td>\n",
       "      <td>0.18</td>\n",
       "      <td>San Joaquin Valley</td>\n",
       "    </tr>\n",
       "    <tr>\n",
       "      <th>282</th>\n",
       "      <td>ADVENTIST HEALTH ST HELENA</td>\n",
       "      <td>Short Term</td>\n",
       "      <td>050013</td>\n",
       "      <td>2020-12-25</td>\n",
       "      <td>Napa</td>\n",
       "      <td>55</td>\n",
       "      <td>16.0</td>\n",
       "      <td>2.0</td>\n",
       "      <td>7.0</td>\n",
       "      <td>0.56</td>\n",
       "      <td>6.0</td>\n",
       "      <td>42.0</td>\n",
       "      <td>0.14</td>\n",
       "      <td>Bay Area</td>\n",
       "    </tr>\n",
       "  </tbody>\n",
       "</table>\n",
       "</div>"
      ],
      "text/plain": [
       "                             hospital           hospital_subtype     ccn  \\\n",
       "187      ADVENTIST HEALTH AND RIDEOUT                 Short Term  050133   \n",
       "71       ADVENTIST HEALTH BAKERSFIELD                 Short Term  050455   \n",
       "289        ADVENTIST HEALTH CLEARLAKE  Critical Access Hospitals  051317   \n",
       "18            ADVENTIST HEALTH DELANO                 Short Term  050608   \n",
       "69           ADVENTIST HEALTH HANFORD                 Short Term  050121   \n",
       "304  ADVENTIST HEALTH HOWARD MEMORIAL  Critical Access Hospitals  051310   \n",
       "141    ADVENTIST HEALTH LODI MEMORIAL                 Short Term  050336   \n",
       "138      ADVENTIST HEALTH SIMI VALLEY                 Short Term  050236   \n",
       "265           ADVENTIST HEALTH SONORA                 Short Term  050335   \n",
       "282        ADVENTIST HEALTH ST HELENA                 Short Term  050013   \n",
       "\n",
       "           week       county  fips  total_staffed_adult_icu_beds  \\\n",
       "187  2020-12-25         Yuba   115                          25.0   \n",
       "71   2020-12-25         Kern    29                          28.0   \n",
       "289  2020-12-25         Lake    33                           4.0   \n",
       "18   2020-12-25         Kern    29                          12.0   \n",
       "69   2020-12-25        Kings    31                          22.0   \n",
       "304  2020-12-25    Mendocino    45                           4.0   \n",
       "141  2020-12-25  San Joaquin    77                          15.0   \n",
       "138  2020-12-25      Ventura   111                          24.0   \n",
       "265  2020-12-25     Tuolumne   109                           6.0   \n",
       "282  2020-12-25         Napa    55                          16.0   \n",
       "\n",
       "     total_covid_icu_patients  total_available_adult_icu_beds  \\\n",
       "187                      15.0                             2.0   \n",
       "71                       17.0                             0.0   \n",
       "289                       1.0                             0.0   \n",
       "18                        9.0                             0.0   \n",
       "69                        9.0                             2.0   \n",
       "304                       1.0                             0.0   \n",
       "141                       8.0                             2.0   \n",
       "138                      14.0                             8.0   \n",
       "265                       1.0                             3.0   \n",
       "282                       2.0                             7.0   \n",
       "\n",
       "     pct_occupied_adult_icu_beds  total_covid_patients  all_patients  \\\n",
       "187                         0.92                  75.0         213.0   \n",
       "71                          1.00                 128.0         222.0   \n",
       "289                         1.00                   2.0          18.0   \n",
       "18                          1.00                  26.0          36.0   \n",
       "69                          0.91                  91.0         155.0   \n",
       "304                         1.00                   1.0          19.0   \n",
       "141                         0.87                  49.0         108.0   \n",
       "138                         0.67                  59.0         130.0   \n",
       "265                         0.50                   8.0          45.0   \n",
       "282                         0.56                   6.0          42.0   \n",
       "\n",
       "     covid_patients_share               region  \n",
       "187                  0.35   Greater Sacramento  \n",
       "71                   0.58   San Joaquin Valley  \n",
       "289                  0.11  Northern California  \n",
       "18                   0.72   San Joaquin Valley  \n",
       "69                   0.59   San Joaquin Valley  \n",
       "304                  0.05  Northern California  \n",
       "141                  0.45   San Joaquin Valley  \n",
       "138                  0.45  Southern California  \n",
       "265                  0.18   San Joaquin Valley  \n",
       "282                  0.14             Bay Area  "
      ]
     },
     "execution_count": 11,
     "metadata": {},
     "output_type": "execute_result"
    }
   ],
   "source": [
    "current.head(10)"
   ]
  },
  {
   "cell_type": "markdown",
   "metadata": {},
   "source": [
    "---"
   ]
  },
  {
   "cell_type": "code",
   "execution_count": 12,
   "metadata": {},
   "outputs": [
    {
     "data": {
      "text/plain": [
       "345"
      ]
     },
     "execution_count": 12,
     "metadata": {},
     "output_type": "execute_result"
    }
   ],
   "source": [
    "len(before)"
   ]
  },
  {
   "cell_type": "code",
   "execution_count": 13,
   "metadata": {},
   "outputs": [
    {
     "data": {
      "text/plain": [
       "314"
      ]
     },
     "execution_count": 13,
     "metadata": {},
     "output_type": "execute_result"
    }
   ],
   "source": [
    "len(current)"
   ]
  },
  {
   "cell_type": "code",
   "execution_count": 14,
   "metadata": {},
   "outputs": [],
   "source": [
    "hhs_merge = pd.merge(\n",
    "    current, before, left_on=\"hospital\", right_on=\"fac_name\", how=\"left\"\n",
    ")"
   ]
  },
  {
   "cell_type": "code",
   "execution_count": 15,
   "metadata": {},
   "outputs": [],
   "source": [
    "state_merge = pd.merge(\n",
    "    current, before, left_on=\"hospital\", right_on=\"fac_name\", how=\"right\"\n",
    ")"
   ]
  },
  {
   "cell_type": "code",
   "execution_count": 16,
   "metadata": {},
   "outputs": [
    {
     "data": {
      "text/plain": [
       "345"
      ]
     },
     "execution_count": 16,
     "metadata": {},
     "output_type": "execute_result"
    }
   ],
   "source": [
    "len(state_merge)"
   ]
  },
  {
   "cell_type": "code",
   "execution_count": 17,
   "metadata": {},
   "outputs": [
    {
     "data": {
      "text/plain": [
       "315"
      ]
     },
     "execution_count": 17,
     "metadata": {},
     "output_type": "execute_result"
    }
   ],
   "source": [
    "len(hhs_merge)"
   ]
  },
  {
   "cell_type": "code",
   "execution_count": 18,
   "metadata": {},
   "outputs": [],
   "source": [
    "state_merge[[\"hospital\", \"fac_name\"]].to_csv(\"output/state_names.csv\", index=False)"
   ]
  },
  {
   "cell_type": "code",
   "execution_count": 19,
   "metadata": {},
   "outputs": [],
   "source": [
    "hhs_merge[[\"hospital\", \"fac_name\"]].to_csv(\"output/hhs_names.csv\", index=False)"
   ]
  },
  {
   "cell_type": "markdown",
   "metadata": {},
   "source": [
    "---"
   ]
  },
  {
   "cell_type": "code",
   "execution_count": 20,
   "metadata": {},
   "outputs": [],
   "source": [
    "hhs_merge[\"icu_beds_change\"] = (\n",
    "    hhs_merge[\"total_staffed_adult_icu_beds\"] - hhs_merge[\"icu_beds\"]\n",
    ")"
   ]
  },
  {
   "cell_type": "code",
   "execution_count": 21,
   "metadata": {},
   "outputs": [
    {
     "data": {
      "text/html": [
       "<div>\n",
       "<style scoped>\n",
       "    .dataframe tbody tr th:only-of-type {\n",
       "        vertical-align: middle;\n",
       "    }\n",
       "\n",
       "    .dataframe tbody tr th {\n",
       "        vertical-align: top;\n",
       "    }\n",
       "\n",
       "    .dataframe thead th {\n",
       "        text-align: right;\n",
       "    }\n",
       "</style>\n",
       "<table border=\"1\" class=\"dataframe\">\n",
       "  <thead>\n",
       "    <tr style=\"text-align: right;\">\n",
       "      <th></th>\n",
       "      <th>hospital</th>\n",
       "      <th>county_x</th>\n",
       "      <th>total_staffed_adult_icu_beds</th>\n",
       "      <th>icu_beds</th>\n",
       "      <th>icu_beds_change</th>\n",
       "    </tr>\n",
       "  </thead>\n",
       "  <tbody>\n",
       "    <tr>\n",
       "      <th>36</th>\n",
       "      <td>CENTINELA HOSPITAL MEDICAL CENTER</td>\n",
       "      <td>Los Angeles</td>\n",
       "      <td>75.0</td>\n",
       "      <td>19.0</td>\n",
       "      <td>56.0</td>\n",
       "    </tr>\n",
       "    <tr>\n",
       "      <th>265</th>\n",
       "      <td>SOUTHERN CALIFORNIA HOSPITAL AT HOLLYWOOD</td>\n",
       "      <td>Los Angeles</td>\n",
       "      <td>50.0</td>\n",
       "      <td>5.0</td>\n",
       "      <td>45.0</td>\n",
       "    </tr>\n",
       "    <tr>\n",
       "      <th>214</th>\n",
       "      <td>POMONA VALLEY HOSPITAL MEDICAL CENTER</td>\n",
       "      <td>Los Angeles</td>\n",
       "      <td>73.0</td>\n",
       "      <td>38.0</td>\n",
       "      <td>35.0</td>\n",
       "    </tr>\n",
       "    <tr>\n",
       "      <th>70</th>\n",
       "      <td>EMANATE HEALTH INTER-COMMUNITY HOSPITAL</td>\n",
       "      <td>Los Angeles</td>\n",
       "      <td>40.0</td>\n",
       "      <td>8.0</td>\n",
       "      <td>32.0</td>\n",
       "    </tr>\n",
       "    <tr>\n",
       "      <th>124</th>\n",
       "      <td>KAISER FOUNDATION HOSPITAL - WEST LA</td>\n",
       "      <td>Los Angeles</td>\n",
       "      <td>62.0</td>\n",
       "      <td>31.0</td>\n",
       "      <td>31.0</td>\n",
       "    </tr>\n",
       "    <tr>\n",
       "      <th>99</th>\n",
       "      <td>HUNTINGTON MEMORIAL HOSPITAL</td>\n",
       "      <td>Los Angeles</td>\n",
       "      <td>68.0</td>\n",
       "      <td>38.0</td>\n",
       "      <td>30.0</td>\n",
       "    </tr>\n",
       "    <tr>\n",
       "      <th>215</th>\n",
       "      <td>PROVIDENCE HOLY CROSS MEDICAL CENTER</td>\n",
       "      <td>Los Angeles</td>\n",
       "      <td>41.0</td>\n",
       "      <td>12.0</td>\n",
       "      <td>29.0</td>\n",
       "    </tr>\n",
       "    <tr>\n",
       "      <th>152</th>\n",
       "      <td>LAKEWOOD REGIONAL MEDICAL CENTER</td>\n",
       "      <td>Los Angeles</td>\n",
       "      <td>37.0</td>\n",
       "      <td>8.0</td>\n",
       "      <td>29.0</td>\n",
       "    </tr>\n",
       "    <tr>\n",
       "      <th>120</th>\n",
       "      <td>KAISER FOUNDATION HOSPITAL - SOUTH BAY</td>\n",
       "      <td>Los Angeles</td>\n",
       "      <td>46.0</td>\n",
       "      <td>20.0</td>\n",
       "      <td>26.0</td>\n",
       "    </tr>\n",
       "    <tr>\n",
       "      <th>172</th>\n",
       "      <td>MEMORIAL HOSPITAL OF GARDENA</td>\n",
       "      <td>Los Angeles</td>\n",
       "      <td>26.0</td>\n",
       "      <td>5.0</td>\n",
       "      <td>21.0</td>\n",
       "    </tr>\n",
       "  </tbody>\n",
       "</table>\n",
       "</div>"
      ],
      "text/plain": [
       "                                      hospital     county_x  \\\n",
       "36           CENTINELA HOSPITAL MEDICAL CENTER  Los Angeles   \n",
       "265  SOUTHERN CALIFORNIA HOSPITAL AT HOLLYWOOD  Los Angeles   \n",
       "214      POMONA VALLEY HOSPITAL MEDICAL CENTER  Los Angeles   \n",
       "70     EMANATE HEALTH INTER-COMMUNITY HOSPITAL  Los Angeles   \n",
       "124       KAISER FOUNDATION HOSPITAL - WEST LA  Los Angeles   \n",
       "99                HUNTINGTON MEMORIAL HOSPITAL  Los Angeles   \n",
       "215       PROVIDENCE HOLY CROSS MEDICAL CENTER  Los Angeles   \n",
       "152           LAKEWOOD REGIONAL MEDICAL CENTER  Los Angeles   \n",
       "120     KAISER FOUNDATION HOSPITAL - SOUTH BAY  Los Angeles   \n",
       "172               MEMORIAL HOSPITAL OF GARDENA  Los Angeles   \n",
       "\n",
       "     total_staffed_adult_icu_beds  icu_beds  icu_beds_change  \n",
       "36                           75.0      19.0             56.0  \n",
       "265                          50.0       5.0             45.0  \n",
       "214                          73.0      38.0             35.0  \n",
       "70                           40.0       8.0             32.0  \n",
       "124                          62.0      31.0             31.0  \n",
       "99                           68.0      38.0             30.0  \n",
       "215                          41.0      12.0             29.0  \n",
       "152                          37.0       8.0             29.0  \n",
       "120                          46.0      20.0             26.0  \n",
       "172                          26.0       5.0             21.0  "
      ]
     },
     "execution_count": 21,
     "metadata": {},
     "output_type": "execute_result"
    }
   ],
   "source": [
    "hhs_merge[hhs_merge[\"county_y\"] == \"Los Angeles\"][\n",
    "    [\n",
    "        \"hospital\",\n",
    "        \"county_x\",\n",
    "        \"total_staffed_adult_icu_beds\",\n",
    "        \"icu_beds\",\n",
    "        \"icu_beds_change\",\n",
    "    ]\n",
    "].sort_values(\"icu_beds_change\", ascending=False).head(10)"
   ]
  },
  {
   "cell_type": "markdown",
   "metadata": {},
   "source": [
    "### In late 2019, hospitals in LA County reported this many ICU beds"
   ]
  },
  {
   "cell_type": "code",
   "execution_count": 22,
   "metadata": {},
   "outputs": [
    {
     "data": {
      "text/plain": [
       "1135.0"
      ]
     },
     "execution_count": 22,
     "metadata": {},
     "output_type": "execute_result"
    }
   ],
   "source": [
    "hhs_merge[hhs_merge[\"county_y\"] == \"Los Angeles\"][\"icu_beds\"].sum()"
   ]
  },
  {
   "cell_type": "markdown",
   "metadata": {},
   "source": [
    "### According to latest HHS reports, they've added this many"
   ]
  },
  {
   "cell_type": "code",
   "execution_count": 23,
   "metadata": {},
   "outputs": [
    {
     "data": {
      "text/plain": [
       "482.0"
      ]
     },
     "execution_count": 23,
     "metadata": {},
     "output_type": "execute_result"
    }
   ],
   "source": [
    "hhs_merge[hhs_merge[\"county_y\"] == \"Los Angeles\"][\"icu_beds_change\"].sum()"
   ]
  },
  {
   "cell_type": "markdown",
   "metadata": {},
   "source": [
    "### Total ICU beds now"
   ]
  },
  {
   "cell_type": "code",
   "execution_count": 24,
   "metadata": {},
   "outputs": [
    {
     "data": {
      "text/plain": [
       "1617.0"
      ]
     },
     "execution_count": 24,
     "metadata": {},
     "output_type": "execute_result"
    }
   ],
   "source": [
    "hhs_merge[hhs_merge[\"county_y\"] == \"Los Angeles\"][\"total_staffed_adult_icu_beds\"].sum()"
   ]
  },
  {
   "cell_type": "markdown",
   "metadata": {},
   "source": [
    "### PCT increase in ICU beds? "
   ]
  },
  {
   "cell_type": "code",
   "execution_count": 25,
   "metadata": {},
   "outputs": [
    {
     "data": {
      "text/plain": [
       "42.47"
      ]
     },
     "execution_count": 25,
     "metadata": {},
     "output_type": "execute_result"
    }
   ],
   "source": [
    "round(\n",
    "    (\n",
    "        (\n",
    "            hhs_merge[hhs_merge[\"county_y\"] == \"Los Angeles\"][\n",
    "                \"total_staffed_adult_icu_beds\"\n",
    "            ].sum()\n",
    "            - hhs_merge[hhs_merge[\"county_y\"] == \"Los Angeles\"][\"icu_beds\"].sum()\n",
    "        )\n",
    "        / hhs_merge[hhs_merge[\"county_y\"] == \"Los Angeles\"][\"icu_beds\"].sum()\n",
    "        * 100\n",
    "    ),\n",
    "    2,\n",
    ")"
   ]
  }
 ],
 "metadata": {
  "kernelspec": {
   "display_name": "Python 3",
   "language": "python",
   "name": "python3"
  },
  "language_info": {
   "codemirror_mode": {
    "name": "ipython",
    "version": 3
   },
   "file_extension": ".py",
   "mimetype": "text/x-python",
   "name": "python",
   "nbconvert_exporter": "python",
   "pygments_lexer": "ipython3",
   "version": "3.7.4"
  }
 },
 "nbformat": 4,
 "nbformat_minor": 4
}
