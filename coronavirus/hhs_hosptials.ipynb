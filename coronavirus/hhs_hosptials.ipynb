{
 "cells": [
  {
   "cell_type": "markdown",
   "metadata": {},
   "source": [
    "### HHS Hospital Data"
   ]
  },
  {
   "cell_type": "markdown",
   "metadata": {},
   "source": [
    "An analysis of HHS hospital data, by @latimes and @stiles.\n",
    "\n",
    "**Questions?** [matt.stiles@latimes.com](matt.stiles@latimes.com) \\\\ 310.529.8749"
   ]
  },
  {
   "cell_type": "markdown",
   "metadata": {},
   "source": [
    "### Import Python tools"
   ]
  },
  {
   "cell_type": "code",
   "execution_count": 1,
   "metadata": {},
   "outputs": [
    {
     "data": {
      "text/plain": [
       "DataTransformerRegistry.enable('default')"
      ]
     },
     "execution_count": 1,
     "metadata": {},
     "output_type": "execute_result"
    }
   ],
   "source": [
    "import pandas as pd\n",
    "import geopandas as gpd\n",
    "import jenkspy\n",
    "import matplotlib.pyplot as plt\n",
    "%matplotlib inline\n",
    "import json\n",
    "import numpy as np\n",
    "from altair import datum\n",
    "import altair as alt\n",
    "import shapely\n",
    "import altair_latimes as lat\n",
    "alt.themes.register('latimes', lat.theme)\n",
    "alt.themes.enable('latimes')\n",
    "pd.options.display.max_columns = 50\n",
    "pd.options.display.max_rows = 1000\n",
    "alt.data_transformers.disable_max_rows()"
   ]
  },
  {
   "cell_type": "markdown",
   "metadata": {},
   "source": [
    "---"
   ]
  },
  {
   "cell_type": "markdown",
   "metadata": {},
   "source": [
    "### Fetch the LA Times cities metadata"
   ]
  },
  {
   "cell_type": "code",
   "execution_count": 2,
   "metadata": {},
   "outputs": [],
   "source": [
    "metadata_df = pd.read_csv(\"input/city-metadata.csv\", dtype={\"fips\": str})"
   ]
  },
  {
   "cell_type": "code",
   "execution_count": 3,
   "metadata": {},
   "outputs": [],
   "source": [
    "metadata_df = metadata_df[[\"county\", \"fips\", \"population\", \"region\"]]"
   ]
  },
  {
   "cell_type": "markdown",
   "metadata": {},
   "source": [
    "### Fetch the latest url to download the HHS data"
   ]
  },
  {
   "cell_type": "code",
   "execution_count": 4,
   "metadata": {},
   "outputs": [],
   "source": [
    "# Data dictionary: https://healthdata.gov/covid-19-reported-patient-impact-and-hospital-capacity-facility-data-dictionary\n",
    "# https://healthdata.gov/dataset/covid-19-reported-patient-impact-and-hospital-capacity-facility"
   ]
  },
  {
   "cell_type": "markdown",
   "metadata": {},
   "source": [
    "### Get the latest url from the HHS API and read in the latest dataframe"
   ]
  },
  {
   "cell_type": "code",
   "execution_count": 5,
   "metadata": {},
   "outputs": [],
   "source": [
    "metadata = pd.read_json('https://healthdata.gov/api/3/action/package_show?id=d475cc4e-83cd-4c16-be57-9105f300e0bc&page=0').result[0]['resources']"
   ]
  },
  {
   "cell_type": "code",
   "execution_count": 6,
   "metadata": {},
   "outputs": [],
   "source": [
    "src = pd.read_csv(metadata[0]['url'],\\\n",
    "                 dtype={'fips_code':str, 'zip':str}, infer_datetime_format=True, parse_dates=True)"
   ]
  },
  {
   "cell_type": "code",
   "execution_count": 7,
   "metadata": {},
   "outputs": [],
   "source": [
    "# src = pd.read_csv('https://healthdata.gov/sites/default/files/reported_hospital_capacity_admissions_facility_level_weekly_average_timeseries_20201228.csv',\\\n",
    "# dtype={'fips_code':str, 'zip':str}, infer_datetime_format=True, parse_dates=True)"
   ]
  },
  {
   "cell_type": "code",
   "execution_count": 8,
   "metadata": {},
   "outputs": [],
   "source": [
    "df = src.copy()"
   ]
  },
  {
   "cell_type": "code",
   "execution_count": 9,
   "metadata": {},
   "outputs": [],
   "source": [
    "ca_data = pd.DataFrame(df.loc[df.state == \"CA\"])"
   ]
  },
  {
   "cell_type": "code",
   "execution_count": 10,
   "metadata": {},
   "outputs": [],
   "source": [
    "ca_data[\"fips\"] = ca_data[\"fips_code\"].str[2:5]"
   ]
  },
  {
   "cell_type": "code",
   "execution_count": 11,
   "metadata": {},
   "outputs": [],
   "source": [
    "ca_timeseries = pd.merge(\n",
    "    ca_data, metadata_df, how=\"left\", left_on=\"fips\", right_on=\"fips\"\n",
    ")"
   ]
  },
  {
   "cell_type": "markdown",
   "metadata": {},
   "source": [
    "### What's the most recent collection week?"
   ]
  },
  {
   "cell_type": "code",
   "execution_count": 12,
   "metadata": {},
   "outputs": [],
   "source": [
    "ca_timeseries['collection_week'] = pd.to_datetime(ca_timeseries['collection_week'])"
   ]
  },
  {
   "cell_type": "code",
   "execution_count": 13,
   "metadata": {},
   "outputs": [
    {
     "data": {
      "text/plain": [
       "Timestamp('2020-12-18 00:00:00')"
      ]
     },
     "execution_count": 13,
     "metadata": {},
     "output_type": "execute_result"
    }
   ],
   "source": [
    "ca_timeseries['collection_week'].max()"
   ]
  },
  {
   "cell_type": "markdown",
   "metadata": {},
   "source": [
    "### Get rid of the -999999 suppressed values"
   ]
  },
  {
   "cell_type": "code",
   "execution_count": 14,
   "metadata": {},
   "outputs": [],
   "source": [
    "ca_timeseries = ca_timeseries.replace([-999999.0], [0])"
   ]
  },
  {
   "cell_type": "markdown",
   "metadata": {},
   "source": [
    "---"
   ]
  },
  {
   "cell_type": "markdown",
   "metadata": {},
   "source": [
    "## Calculate some hospitalization/covid rates"
   ]
  },
  {
   "cell_type": "markdown",
   "metadata": {},
   "source": [
    "#### Calculate daily average of total staffed ICU beds"
   ]
  },
  {
   "cell_type": "code",
   "execution_count": 15,
   "metadata": {},
   "outputs": [],
   "source": [
    "ca_timeseries[\"total_staffed_adult_icu_beds\"] = round((\n",
    "    ca_timeseries[\"total_staffed_adult_icu_beds_7_day_sum\"]\n",
    "    / ca_timeseries[\"total_staffed_adult_icu_beds_7_day_coverage\"]\n",
    "),0)"
   ]
  },
  {
   "cell_type": "markdown",
   "metadata": {},
   "source": [
    "#### Calculate daily average of occupied ICU beds"
   ]
  },
  {
   "cell_type": "code",
   "execution_count": 16,
   "metadata": {},
   "outputs": [],
   "source": [
    "ca_timeseries[\"total_occupied_adult_icu_beds\"] = round((\n",
    "    ca_timeseries[\"staffed_adult_icu_bed_occupancy_7_day_sum\"]\n",
    "    / ca_timeseries[\"staffed_adult_icu_bed_occupancy_7_day_coverage\"]\n",
    "),0)"
   ]
  },
  {
   "cell_type": "markdown",
   "metadata": {},
   "source": [
    "#### Calculate daily average of COVID patients in the ICU"
   ]
  },
  {
   "cell_type": "code",
   "execution_count": 17,
   "metadata": {},
   "outputs": [],
   "source": [
    "ca_timeseries[\"total_covid_icu_patients\"] = round((\n",
    "    ca_timeseries[\"staffed_icu_adult_patients_confirmed_and_suspected_covid_7_day_sum\"]\n",
    "    / ca_timeseries[\n",
    "        \"staffed_icu_adult_patients_confirmed_and_suspected_covid_7_day_coverage\"\n",
    "    ]\n",
    "),0)"
   ]
  },
  {
   "cell_type": "markdown",
   "metadata": {},
   "source": [
    "#### Number of ICU beds available"
   ]
  },
  {
   "cell_type": "code",
   "execution_count": 18,
   "metadata": {},
   "outputs": [],
   "source": [
    "ca_timeseries[\"total_available_adult_icu_beds\"] = round((\n",
    "    ca_timeseries[\"total_staffed_adult_icu_beds\"]\n",
    "    - ca_timeseries[\"total_occupied_adult_icu_beds\"]\n",
    "),0)"
   ]
  },
  {
   "cell_type": "markdown",
   "metadata": {},
   "source": [
    "#### Calculate daily ICU occupancy as percentage"
   ]
  },
  {
   "cell_type": "code",
   "execution_count": 19,
   "metadata": {},
   "outputs": [],
   "source": [
    "ca_timeseries[\"pct_occupied_adult_icu_beds\"] = round((\n",
    "    ca_timeseries[\"total_occupied_adult_icu_beds\"]\n",
    "    / ca_timeseries[\"total_staffed_adult_icu_beds\"]\n",
    "),2)"
   ]
  },
  {
   "cell_type": "markdown",
   "metadata": {},
   "source": [
    "#### If a hospital reports 0 staffed adult ICU beds, drop them from the dataframe"
   ]
  },
  {
   "cell_type": "code",
   "execution_count": 20,
   "metadata": {},
   "outputs": [],
   "source": [
    "filtered_timeseries = ca_timeseries[\n",
    "    (ca_timeseries.total_staffed_adult_icu_beds_7_day_sum.notnull())\n",
    "    & (ca_timeseries.total_staffed_adult_icu_beds_7_day_sum != 0)\n",
    "].sort_values(\"total_staffed_adult_icu_beds_7_day_sum\")"
   ]
  },
  {
   "cell_type": "markdown",
   "metadata": {},
   "source": [
    "#### How many patients?"
   ]
  },
  {
   "cell_type": "code",
   "execution_count": 21,
   "metadata": {},
   "outputs": [],
   "source": [
    "ca_timeseries[\"all_patients\"] = round((\n",
    "    ca_timeseries[\"all_adult_hospital_inpatient_bed_occupied_7_day_sum\"]\n",
    "    / ca_timeseries[\"all_adult_hospital_inpatient_bed_occupied_7_day_coverage\"]\n",
    "),0)"
   ]
  },
  {
   "cell_type": "markdown",
   "metadata": {},
   "source": [
    "#### How many Covid patients"
   ]
  },
  {
   "cell_type": "code",
   "execution_count": 22,
   "metadata": {},
   "outputs": [],
   "source": [
    "ca_timeseries[\"all_covid_patients\"] = round((\n",
    "    ca_timeseries[\"total_adult_patients_hospitalized_confirmed_covid_7_day_sum\"]\n",
    "    / ca_timeseries[\"total_adult_patients_hospitalized_confirmed_covid_7_day_coverage\"]\n",
    "),0)"
   ]
  },
  {
   "cell_type": "markdown",
   "metadata": {},
   "source": [
    "#### What's the rate of Covid patients?"
   ]
  },
  {
   "cell_type": "code",
   "execution_count": 23,
   "metadata": {},
   "outputs": [],
   "source": [
    "ca_timeseries[\"covid_patients_share\"] = round((\n",
    "    ca_timeseries[\"all_covid_patients\"]\n",
    "    / ca_timeseries[\"all_patients\"]\n",
    "),2)"
   ]
  },
  {
   "cell_type": "code",
   "execution_count": 24,
   "metadata": {},
   "outputs": [],
   "source": [
    "ca_timeseries = ca_timeseries[ca_timeseries['all_patients'] > 0]"
   ]
  },
  {
   "cell_type": "markdown",
   "metadata": {},
   "source": [
    "---"
   ]
  },
  {
   "cell_type": "markdown",
   "metadata": {},
   "source": [
    "### Trim to the columns we want"
   ]
  },
  {
   "cell_type": "code",
   "execution_count": 25,
   "metadata": {},
   "outputs": [],
   "source": [
    "trimmed_timeseries = ca_timeseries[\n",
    "    [\n",
    "        \"hospital_name\",\n",
    "        \"hospital_subtype\",\n",
    "        \"ccn\",\n",
    "        \"collection_week\",\n",
    "        \"county\",\n",
    "        \"fips\",\n",
    "        \"total_covid_icu_patients\",\n",
    "        \"total_available_adult_icu_beds\",\n",
    "        \"pct_occupied_adult_icu_beds\",\n",
    "        \"all_covid_patients\",\n",
    "        \"all_patients\",\n",
    "        \"covid_patients_share\",\n",
    "    ]\n",
    "].rename(\n",
    "    columns={\n",
    "        \"hospital_name\": \"hospital\",\n",
    "        \"collection_week\": \"week\",\n",
    "    }\n",
    ")"
   ]
  },
  {
   "cell_type": "markdown",
   "metadata": {},
   "source": [
    "---"
   ]
  },
  {
   "cell_type": "markdown",
   "metadata": {},
   "source": [
    "### Filter the dataframe for Los Angeles County facilities"
   ]
  },
  {
   "cell_type": "code",
   "execution_count": 26,
   "metadata": {},
   "outputs": [],
   "source": [
    "la = trimmed_timeseries[trimmed_timeseries['fips'] == '037']"
   ]
  },
  {
   "cell_type": "markdown",
   "metadata": {},
   "source": [
    "### Filter the California dataframe to the most recent collection week"
   ]
  },
  {
   "cell_type": "code",
   "execution_count": 27,
   "metadata": {},
   "outputs": [],
   "source": [
    "current_ca = trimmed_timeseries[trimmed_timeseries['week'] == trimmed_timeseries['week'].max()].sort_values('covid_patients_share', ascending=False)"
   ]
  },
  {
   "cell_type": "code",
   "execution_count": 28,
   "metadata": {},
   "outputs": [],
   "source": [
    "current_la = la[la['week'] == la['week'].max()].sort_values('covid_patients_share', ascending=False)"
   ]
  },
  {
   "cell_type": "markdown",
   "metadata": {},
   "source": [
    "### Which CA hospitals have the greatest share of covid patients? "
   ]
  },
  {
   "cell_type": "code",
   "execution_count": 29,
   "metadata": {},
   "outputs": [
    {
     "data": {
      "text/html": [
       "<div>\n",
       "<style scoped>\n",
       "    .dataframe tbody tr th:only-of-type {\n",
       "        vertical-align: middle;\n",
       "    }\n",
       "\n",
       "    .dataframe tbody tr th {\n",
       "        vertical-align: top;\n",
       "    }\n",
       "\n",
       "    .dataframe thead th {\n",
       "        text-align: right;\n",
       "    }\n",
       "</style>\n",
       "<table border=\"1\" class=\"dataframe\">\n",
       "  <thead>\n",
       "    <tr style=\"text-align: right;\">\n",
       "      <th></th>\n",
       "      <th>hospital</th>\n",
       "      <th>hospital_subtype</th>\n",
       "      <th>ccn</th>\n",
       "      <th>week</th>\n",
       "      <th>county</th>\n",
       "      <th>fips</th>\n",
       "      <th>total_covid_icu_patients</th>\n",
       "      <th>total_available_adult_icu_beds</th>\n",
       "      <th>pct_occupied_adult_icu_beds</th>\n",
       "      <th>all_covid_patients</th>\n",
       "      <th>all_patients</th>\n",
       "      <th>covid_patients_share</th>\n",
       "    </tr>\n",
       "  </thead>\n",
       "  <tbody>\n",
       "    <tr>\n",
       "      <th>235</th>\n",
       "      <td>BARSTOW COMMUNITY HOSPITAL</td>\n",
       "      <td>Short Term</td>\n",
       "      <td>050298</td>\n",
       "      <td>2020-12-18</td>\n",
       "      <td>San Bernardino</td>\n",
       "      <td>071</td>\n",
       "      <td>15.0</td>\n",
       "      <td>-2.0</td>\n",
       "      <td>1.22</td>\n",
       "      <td>47.0</td>\n",
       "      <td>42.0</td>\n",
       "      <td>1.12</td>\n",
       "    </tr>\n",
       "    <tr>\n",
       "      <th>230</th>\n",
       "      <td>DESERT VALLEY HOSPITAL</td>\n",
       "      <td>Short Term</td>\n",
       "      <td>050709</td>\n",
       "      <td>2020-12-18</td>\n",
       "      <td>San Bernardino</td>\n",
       "      <td>071</td>\n",
       "      <td>21.0</td>\n",
       "      <td>0.0</td>\n",
       "      <td>1.00</td>\n",
       "      <td>103.0</td>\n",
       "      <td>123.0</td>\n",
       "      <td>0.84</td>\n",
       "    </tr>\n",
       "    <tr>\n",
       "      <th>314</th>\n",
       "      <td>MAYERS MEMORIAL HOSPITAL</td>\n",
       "      <td>Critical Access Hospitals</td>\n",
       "      <td>051305</td>\n",
       "      <td>2020-12-18</td>\n",
       "      <td>Shasta</td>\n",
       "      <td>089</td>\n",
       "      <td>0.0</td>\n",
       "      <td>0.0</td>\n",
       "      <td>NaN</td>\n",
       "      <td>10.0</td>\n",
       "      <td>12.0</td>\n",
       "      <td>0.83</td>\n",
       "    </tr>\n",
       "    <tr>\n",
       "      <th>242</th>\n",
       "      <td>KAISER FOUNDATION HOSPITAL FONTANA</td>\n",
       "      <td>Short Term</td>\n",
       "      <td>050140</td>\n",
       "      <td>2020-12-18</td>\n",
       "      <td>San Bernardino</td>\n",
       "      <td>071</td>\n",
       "      <td>70.0</td>\n",
       "      <td>7.0</td>\n",
       "      <td>0.93</td>\n",
       "      <td>354.0</td>\n",
       "      <td>435.0</td>\n",
       "      <td>0.81</td>\n",
       "    </tr>\n",
       "    <tr>\n",
       "      <th>120</th>\n",
       "      <td>KAISER FOUNDATION HOSPITAL - DOWNEY</td>\n",
       "      <td>Short Term</td>\n",
       "      <td>050139</td>\n",
       "      <td>2020-12-18</td>\n",
       "      <td>Los Angeles</td>\n",
       "      <td>037</td>\n",
       "      <td>31.0</td>\n",
       "      <td>1.0</td>\n",
       "      <td>0.98</td>\n",
       "      <td>186.0</td>\n",
       "      <td>231.0</td>\n",
       "      <td>0.81</td>\n",
       "    </tr>\n",
       "    <tr>\n",
       "      <th>241</th>\n",
       "      <td>MOUNTAINS COMMUNITY HOSPITAL</td>\n",
       "      <td>Critical Access Hospitals</td>\n",
       "      <td>051312</td>\n",
       "      <td>2020-12-18</td>\n",
       "      <td>San Bernardino</td>\n",
       "      <td>071</td>\n",
       "      <td>0.0</td>\n",
       "      <td>0.0</td>\n",
       "      <td>NaN</td>\n",
       "      <td>4.0</td>\n",
       "      <td>5.0</td>\n",
       "      <td>0.80</td>\n",
       "    </tr>\n",
       "    <tr>\n",
       "      <th>42</th>\n",
       "      <td>EL CENTRO REGIONAL MEDICAL CENTER</td>\n",
       "      <td>Short Term</td>\n",
       "      <td>050045</td>\n",
       "      <td>2020-12-18</td>\n",
       "      <td>Imperial</td>\n",
       "      <td>025</td>\n",
       "      <td>30.0</td>\n",
       "      <td>2.0</td>\n",
       "      <td>0.94</td>\n",
       "      <td>132.0</td>\n",
       "      <td>172.0</td>\n",
       "      <td>0.77</td>\n",
       "    </tr>\n",
       "    <tr>\n",
       "      <th>78</th>\n",
       "      <td>COMMUNITY HOSPITAL OF HUNTINGTON PARK</td>\n",
       "      <td>Short Term</td>\n",
       "      <td>050091</td>\n",
       "      <td>2020-12-18</td>\n",
       "      <td>Los Angeles</td>\n",
       "      <td>037</td>\n",
       "      <td>9.0</td>\n",
       "      <td>0.0</td>\n",
       "      <td>1.00</td>\n",
       "      <td>38.0</td>\n",
       "      <td>50.0</td>\n",
       "      <td>0.76</td>\n",
       "    </tr>\n",
       "    <tr>\n",
       "      <th>162</th>\n",
       "      <td>GEORGE L MEE MEMORIAL HOSPITAL</td>\n",
       "      <td>Critical Access Hospitals</td>\n",
       "      <td>051336</td>\n",
       "      <td>2020-12-18</td>\n",
       "      <td>Monterey</td>\n",
       "      <td>053</td>\n",
       "      <td>0.0</td>\n",
       "      <td>0.0</td>\n",
       "      <td>NaN</td>\n",
       "      <td>6.0</td>\n",
       "      <td>8.0</td>\n",
       "      <td>0.75</td>\n",
       "    </tr>\n",
       "    <tr>\n",
       "      <th>193</th>\n",
       "      <td>GARDEN GROVE HOSPITAL &amp; MEDICAL CENTER</td>\n",
       "      <td>Short Term</td>\n",
       "      <td>050230</td>\n",
       "      <td>2020-12-18</td>\n",
       "      <td>Orange</td>\n",
       "      <td>059</td>\n",
       "      <td>10.0</td>\n",
       "      <td>0.0</td>\n",
       "      <td>1.00</td>\n",
       "      <td>49.0</td>\n",
       "      <td>66.0</td>\n",
       "      <td>0.74</td>\n",
       "    </tr>\n",
       "  </tbody>\n",
       "</table>\n",
       "</div>"
      ],
      "text/plain": [
       "                                   hospital           hospital_subtype  \\\n",
       "235              BARSTOW COMMUNITY HOSPITAL                 Short Term   \n",
       "230                  DESERT VALLEY HOSPITAL                 Short Term   \n",
       "314                MAYERS MEMORIAL HOSPITAL  Critical Access Hospitals   \n",
       "242      KAISER FOUNDATION HOSPITAL FONTANA                 Short Term   \n",
       "120     KAISER FOUNDATION HOSPITAL - DOWNEY                 Short Term   \n",
       "241            MOUNTAINS COMMUNITY HOSPITAL  Critical Access Hospitals   \n",
       "42        EL CENTRO REGIONAL MEDICAL CENTER                 Short Term   \n",
       "78    COMMUNITY HOSPITAL OF HUNTINGTON PARK                 Short Term   \n",
       "162          GEORGE L MEE MEMORIAL HOSPITAL  Critical Access Hospitals   \n",
       "193  GARDEN GROVE HOSPITAL & MEDICAL CENTER                 Short Term   \n",
       "\n",
       "        ccn       week          county fips  total_covid_icu_patients  \\\n",
       "235  050298 2020-12-18  San Bernardino  071                      15.0   \n",
       "230  050709 2020-12-18  San Bernardino  071                      21.0   \n",
       "314  051305 2020-12-18          Shasta  089                       0.0   \n",
       "242  050140 2020-12-18  San Bernardino  071                      70.0   \n",
       "120  050139 2020-12-18     Los Angeles  037                      31.0   \n",
       "241  051312 2020-12-18  San Bernardino  071                       0.0   \n",
       "42   050045 2020-12-18        Imperial  025                      30.0   \n",
       "78   050091 2020-12-18     Los Angeles  037                       9.0   \n",
       "162  051336 2020-12-18        Monterey  053                       0.0   \n",
       "193  050230 2020-12-18          Orange  059                      10.0   \n",
       "\n",
       "     total_available_adult_icu_beds  pct_occupied_adult_icu_beds  \\\n",
       "235                            -2.0                         1.22   \n",
       "230                             0.0                         1.00   \n",
       "314                             0.0                          NaN   \n",
       "242                             7.0                         0.93   \n",
       "120                             1.0                         0.98   \n",
       "241                             0.0                          NaN   \n",
       "42                              2.0                         0.94   \n",
       "78                              0.0                         1.00   \n",
       "162                             0.0                          NaN   \n",
       "193                             0.0                         1.00   \n",
       "\n",
       "     all_covid_patients  all_patients  covid_patients_share  \n",
       "235                47.0          42.0                  1.12  \n",
       "230               103.0         123.0                  0.84  \n",
       "314                10.0          12.0                  0.83  \n",
       "242               354.0         435.0                  0.81  \n",
       "120               186.0         231.0                  0.81  \n",
       "241                 4.0           5.0                  0.80  \n",
       "42                132.0         172.0                  0.77  \n",
       "78                 38.0          50.0                  0.76  \n",
       "162                 6.0           8.0                  0.75  \n",
       "193                49.0          66.0                  0.74  "
      ]
     },
     "execution_count": 29,
     "metadata": {},
     "output_type": "execute_result"
    }
   ],
   "source": [
    "current_ca.sort_values('covid_patients_share', ascending=False).head(10)"
   ]
  },
  {
   "cell_type": "markdown",
   "metadata": {},
   "source": [
    "### Which facilities in LA have the greatest share of covid patients? "
   ]
  },
  {
   "cell_type": "code",
   "execution_count": 30,
   "metadata": {},
   "outputs": [
    {
     "data": {
      "text/html": [
       "<div>\n",
       "<style scoped>\n",
       "    .dataframe tbody tr th:only-of-type {\n",
       "        vertical-align: middle;\n",
       "    }\n",
       "\n",
       "    .dataframe tbody tr th {\n",
       "        vertical-align: top;\n",
       "    }\n",
       "\n",
       "    .dataframe thead th {\n",
       "        text-align: right;\n",
       "    }\n",
       "</style>\n",
       "<table border=\"1\" class=\"dataframe\">\n",
       "  <thead>\n",
       "    <tr style=\"text-align: right;\">\n",
       "      <th></th>\n",
       "      <th>hospital</th>\n",
       "      <th>hospital_subtype</th>\n",
       "      <th>ccn</th>\n",
       "      <th>week</th>\n",
       "      <th>county</th>\n",
       "      <th>fips</th>\n",
       "      <th>total_covid_icu_patients</th>\n",
       "      <th>total_available_adult_icu_beds</th>\n",
       "      <th>pct_occupied_adult_icu_beds</th>\n",
       "      <th>all_covid_patients</th>\n",
       "      <th>all_patients</th>\n",
       "      <th>covid_patients_share</th>\n",
       "    </tr>\n",
       "  </thead>\n",
       "  <tbody>\n",
       "    <tr>\n",
       "      <th>120</th>\n",
       "      <td>KAISER FOUNDATION HOSPITAL - DOWNEY</td>\n",
       "      <td>Short Term</td>\n",
       "      <td>050139</td>\n",
       "      <td>2020-12-18</td>\n",
       "      <td>Los Angeles</td>\n",
       "      <td>037</td>\n",
       "      <td>31.0</td>\n",
       "      <td>1.0</td>\n",
       "      <td>0.98</td>\n",
       "      <td>186.0</td>\n",
       "      <td>231.0</td>\n",
       "      <td>0.81</td>\n",
       "    </tr>\n",
       "    <tr>\n",
       "      <th>78</th>\n",
       "      <td>COMMUNITY HOSPITAL OF HUNTINGTON PARK</td>\n",
       "      <td>Short Term</td>\n",
       "      <td>050091</td>\n",
       "      <td>2020-12-18</td>\n",
       "      <td>Los Angeles</td>\n",
       "      <td>037</td>\n",
       "      <td>9.0</td>\n",
       "      <td>0.0</td>\n",
       "      <td>1.00</td>\n",
       "      <td>38.0</td>\n",
       "      <td>50.0</td>\n",
       "      <td>0.76</td>\n",
       "    </tr>\n",
       "    <tr>\n",
       "      <th>73</th>\n",
       "      <td>KAISER FOUNDATION HOSPITAL - BALDWIN PARK</td>\n",
       "      <td>Short Term</td>\n",
       "      <td>050723</td>\n",
       "      <td>2020-12-18</td>\n",
       "      <td>Los Angeles</td>\n",
       "      <td>037</td>\n",
       "      <td>21.0</td>\n",
       "      <td>0.0</td>\n",
       "      <td>1.00</td>\n",
       "      <td>136.0</td>\n",
       "      <td>185.0</td>\n",
       "      <td>0.74</td>\n",
       "    </tr>\n",
       "    <tr>\n",
       "      <th>64</th>\n",
       "      <td>KAISER FOUNDATION HOSPITAL - PANORAMA CITY</td>\n",
       "      <td>Short Term</td>\n",
       "      <td>050137</td>\n",
       "      <td>2020-12-18</td>\n",
       "      <td>Los Angeles</td>\n",
       "      <td>037</td>\n",
       "      <td>21.0</td>\n",
       "      <td>2.0</td>\n",
       "      <td>0.93</td>\n",
       "      <td>116.0</td>\n",
       "      <td>173.0</td>\n",
       "      <td>0.67</td>\n",
       "    </tr>\n",
       "    <tr>\n",
       "      <th>71</th>\n",
       "      <td>EAST LOS ANGELES DOCTORS HOSPITAL</td>\n",
       "      <td>Short Term</td>\n",
       "      <td>050641</td>\n",
       "      <td>2020-12-18</td>\n",
       "      <td>Los Angeles</td>\n",
       "      <td>037</td>\n",
       "      <td>8.0</td>\n",
       "      <td>2.0</td>\n",
       "      <td>0.80</td>\n",
       "      <td>27.0</td>\n",
       "      <td>41.0</td>\n",
       "      <td>0.66</td>\n",
       "    </tr>\n",
       "    <tr>\n",
       "      <th>127</th>\n",
       "      <td>WHITE MEMORIAL MEDICAL CENTER</td>\n",
       "      <td>Short Term</td>\n",
       "      <td>050103</td>\n",
       "      <td>2020-12-18</td>\n",
       "      <td>Los Angeles</td>\n",
       "      <td>037</td>\n",
       "      <td>18.0</td>\n",
       "      <td>1.0</td>\n",
       "      <td>0.96</td>\n",
       "      <td>155.0</td>\n",
       "      <td>244.0</td>\n",
       "      <td>0.64</td>\n",
       "    </tr>\n",
       "    <tr>\n",
       "      <th>118</th>\n",
       "      <td>ANTELOPE VALLEY HOSPITAL</td>\n",
       "      <td>Short Term</td>\n",
       "      <td>050056</td>\n",
       "      <td>2020-12-18</td>\n",
       "      <td>Los Angeles</td>\n",
       "      <td>037</td>\n",
       "      <td>20.0</td>\n",
       "      <td>1.0</td>\n",
       "      <td>0.97</td>\n",
       "      <td>134.0</td>\n",
       "      <td>210.0</td>\n",
       "      <td>0.64</td>\n",
       "    </tr>\n",
       "    <tr>\n",
       "      <th>136</th>\n",
       "      <td>EMANATE HEALTH INTER-COMMUNITY HOSPITAL</td>\n",
       "      <td>Short Term</td>\n",
       "      <td>050382</td>\n",
       "      <td>2020-12-18</td>\n",
       "      <td>Los Angeles</td>\n",
       "      <td>037</td>\n",
       "      <td>22.0</td>\n",
       "      <td>3.0</td>\n",
       "      <td>0.92</td>\n",
       "      <td>151.0</td>\n",
       "      <td>239.0</td>\n",
       "      <td>0.63</td>\n",
       "    </tr>\n",
       "    <tr>\n",
       "      <th>99</th>\n",
       "      <td>MARTIN LUTHER KING, JR. COMMUNITY HOSPITAL</td>\n",
       "      <td>Short Term</td>\n",
       "      <td>050779</td>\n",
       "      <td>2020-12-18</td>\n",
       "      <td>Los Angeles</td>\n",
       "      <td>037</td>\n",
       "      <td>12.0</td>\n",
       "      <td>1.0</td>\n",
       "      <td>0.96</td>\n",
       "      <td>127.0</td>\n",
       "      <td>202.0</td>\n",
       "      <td>0.63</td>\n",
       "    </tr>\n",
       "    <tr>\n",
       "      <th>124</th>\n",
       "      <td>GLENDALE MEM HOSPITAL &amp; HLTH CENTER</td>\n",
       "      <td>Short Term</td>\n",
       "      <td>050058</td>\n",
       "      <td>2020-12-18</td>\n",
       "      <td>Los Angeles</td>\n",
       "      <td>037</td>\n",
       "      <td>20.0</td>\n",
       "      <td>0.0</td>\n",
       "      <td>1.00</td>\n",
       "      <td>100.0</td>\n",
       "      <td>161.0</td>\n",
       "      <td>0.62</td>\n",
       "    </tr>\n",
       "  </tbody>\n",
       "</table>\n",
       "</div>"
      ],
      "text/plain": [
       "                                       hospital hospital_subtype     ccn  \\\n",
       "120         KAISER FOUNDATION HOSPITAL - DOWNEY       Short Term  050139   \n",
       "78        COMMUNITY HOSPITAL OF HUNTINGTON PARK       Short Term  050091   \n",
       "73    KAISER FOUNDATION HOSPITAL - BALDWIN PARK       Short Term  050723   \n",
       "64   KAISER FOUNDATION HOSPITAL - PANORAMA CITY       Short Term  050137   \n",
       "71            EAST LOS ANGELES DOCTORS HOSPITAL       Short Term  050641   \n",
       "127               WHITE MEMORIAL MEDICAL CENTER       Short Term  050103   \n",
       "118                    ANTELOPE VALLEY HOSPITAL       Short Term  050056   \n",
       "136     EMANATE HEALTH INTER-COMMUNITY HOSPITAL       Short Term  050382   \n",
       "99   MARTIN LUTHER KING, JR. COMMUNITY HOSPITAL       Short Term  050779   \n",
       "124         GLENDALE MEM HOSPITAL & HLTH CENTER       Short Term  050058   \n",
       "\n",
       "          week       county fips  total_covid_icu_patients  \\\n",
       "120 2020-12-18  Los Angeles  037                      31.0   \n",
       "78  2020-12-18  Los Angeles  037                       9.0   \n",
       "73  2020-12-18  Los Angeles  037                      21.0   \n",
       "64  2020-12-18  Los Angeles  037                      21.0   \n",
       "71  2020-12-18  Los Angeles  037                       8.0   \n",
       "127 2020-12-18  Los Angeles  037                      18.0   \n",
       "118 2020-12-18  Los Angeles  037                      20.0   \n",
       "136 2020-12-18  Los Angeles  037                      22.0   \n",
       "99  2020-12-18  Los Angeles  037                      12.0   \n",
       "124 2020-12-18  Los Angeles  037                      20.0   \n",
       "\n",
       "     total_available_adult_icu_beds  pct_occupied_adult_icu_beds  \\\n",
       "120                             1.0                         0.98   \n",
       "78                              0.0                         1.00   \n",
       "73                              0.0                         1.00   \n",
       "64                              2.0                         0.93   \n",
       "71                              2.0                         0.80   \n",
       "127                             1.0                         0.96   \n",
       "118                             1.0                         0.97   \n",
       "136                             3.0                         0.92   \n",
       "99                              1.0                         0.96   \n",
       "124                             0.0                         1.00   \n",
       "\n",
       "     all_covid_patients  all_patients  covid_patients_share  \n",
       "120               186.0         231.0                  0.81  \n",
       "78                 38.0          50.0                  0.76  \n",
       "73                136.0         185.0                  0.74  \n",
       "64                116.0         173.0                  0.67  \n",
       "71                 27.0          41.0                  0.66  \n",
       "127               155.0         244.0                  0.64  \n",
       "118               134.0         210.0                  0.64  \n",
       "136               151.0         239.0                  0.63  \n",
       "99                127.0         202.0                  0.63  \n",
       "124               100.0         161.0                  0.62  "
      ]
     },
     "execution_count": 30,
     "metadata": {},
     "output_type": "execute_result"
    }
   ],
   "source": [
    "current_la[(current_la['hospital_subtype'] != 'Long Term') & \\\n",
    "          (current_la['total_covid_icu_patients'] > 0)]\\\n",
    ".sort_values('covid_patients_share', ascending=False).head(10)"
   ]
  },
  {
   "cell_type": "markdown",
   "metadata": {},
   "source": [
    "### Which facilities in LA have the highest ICU capacity rates? "
   ]
  },
  {
   "cell_type": "code",
   "execution_count": 31,
   "metadata": {},
   "outputs": [
    {
     "data": {
      "text/html": [
       "<div>\n",
       "<style scoped>\n",
       "    .dataframe tbody tr th:only-of-type {\n",
       "        vertical-align: middle;\n",
       "    }\n",
       "\n",
       "    .dataframe tbody tr th {\n",
       "        vertical-align: top;\n",
       "    }\n",
       "\n",
       "    .dataframe thead th {\n",
       "        text-align: right;\n",
       "    }\n",
       "</style>\n",
       "<table border=\"1\" class=\"dataframe\">\n",
       "  <thead>\n",
       "    <tr style=\"text-align: right;\">\n",
       "      <th></th>\n",
       "      <th>hospital</th>\n",
       "      <th>hospital_subtype</th>\n",
       "      <th>ccn</th>\n",
       "      <th>week</th>\n",
       "      <th>county</th>\n",
       "      <th>fips</th>\n",
       "      <th>total_covid_icu_patients</th>\n",
       "      <th>total_available_adult_icu_beds</th>\n",
       "      <th>pct_occupied_adult_icu_beds</th>\n",
       "      <th>all_covid_patients</th>\n",
       "      <th>all_patients</th>\n",
       "      <th>covid_patients_share</th>\n",
       "    </tr>\n",
       "  </thead>\n",
       "  <tbody>\n",
       "    <tr>\n",
       "      <th>96</th>\n",
       "      <td>CEDARS-SINAI MEDICAL CENTER</td>\n",
       "      <td>Short Term</td>\n",
       "      <td>050625</td>\n",
       "      <td>2020-12-18</td>\n",
       "      <td>Los Angeles</td>\n",
       "      <td>037</td>\n",
       "      <td>49.0</td>\n",
       "      <td>-20.0</td>\n",
       "      <td>1.19</td>\n",
       "      <td>207.0</td>\n",
       "      <td>821.0</td>\n",
       "      <td>0.25</td>\n",
       "    </tr>\n",
       "    <tr>\n",
       "      <th>119</th>\n",
       "      <td>KINDRED HOSPITAL SOUTH BAY</td>\n",
       "      <td>Long Term</td>\n",
       "      <td>052050</td>\n",
       "      <td>2020-12-18</td>\n",
       "      <td>Los Angeles</td>\n",
       "      <td>037</td>\n",
       "      <td>3.0</td>\n",
       "      <td>-1.0</td>\n",
       "      <td>1.17</td>\n",
       "      <td>22.0</td>\n",
       "      <td>51.0</td>\n",
       "      <td>0.43</td>\n",
       "    </tr>\n",
       "    <tr>\n",
       "      <th>140</th>\n",
       "      <td>EMANATE HEALTH FOOTHILL PRESBYTERIAN HOSPITAL</td>\n",
       "      <td>Short Term</td>\n",
       "      <td>050597</td>\n",
       "      <td>2020-12-18</td>\n",
       "      <td>Los Angeles</td>\n",
       "      <td>037</td>\n",
       "      <td>12.0</td>\n",
       "      <td>0.0</td>\n",
       "      <td>1.00</td>\n",
       "      <td>25.0</td>\n",
       "      <td>73.0</td>\n",
       "      <td>0.34</td>\n",
       "    </tr>\n",
       "    <tr>\n",
       "      <th>95</th>\n",
       "      <td>MONTEREY PARK HOSPITAL</td>\n",
       "      <td>Short Term</td>\n",
       "      <td>050736</td>\n",
       "      <td>2020-12-18</td>\n",
       "      <td>Los Angeles</td>\n",
       "      <td>037</td>\n",
       "      <td>5.0</td>\n",
       "      <td>0.0</td>\n",
       "      <td>1.00</td>\n",
       "      <td>43.0</td>\n",
       "      <td>71.0</td>\n",
       "      <td>0.61</td>\n",
       "    </tr>\n",
       "    <tr>\n",
       "      <th>113</th>\n",
       "      <td>WHITTIER HOSPITAL MEDICAL CENTER</td>\n",
       "      <td>Short Term</td>\n",
       "      <td>050735</td>\n",
       "      <td>2020-12-18</td>\n",
       "      <td>Los Angeles</td>\n",
       "      <td>037</td>\n",
       "      <td>16.0</td>\n",
       "      <td>0.0</td>\n",
       "      <td>1.00</td>\n",
       "      <td>55.0</td>\n",
       "      <td>121.0</td>\n",
       "      <td>0.45</td>\n",
       "    </tr>\n",
       "    <tr>\n",
       "      <th>114</th>\n",
       "      <td>CENTINELA HOSPITAL MEDICAL CENTER</td>\n",
       "      <td>Short Term</td>\n",
       "      <td>050739</td>\n",
       "      <td>2020-12-18</td>\n",
       "      <td>Los Angeles</td>\n",
       "      <td>037</td>\n",
       "      <td>35.0</td>\n",
       "      <td>0.0</td>\n",
       "      <td>1.00</td>\n",
       "      <td>94.0</td>\n",
       "      <td>218.0</td>\n",
       "      <td>0.43</td>\n",
       "    </tr>\n",
       "    <tr>\n",
       "      <th>122</th>\n",
       "      <td>PROVIDENCE LITTLE CO OF MARY MED CTR SAN PEDRO</td>\n",
       "      <td>Short Term</td>\n",
       "      <td>050078</td>\n",
       "      <td>2020-12-18</td>\n",
       "      <td>Los Angeles</td>\n",
       "      <td>037</td>\n",
       "      <td>11.0</td>\n",
       "      <td>0.0</td>\n",
       "      <td>1.00</td>\n",
       "      <td>46.0</td>\n",
       "      <td>95.0</td>\n",
       "      <td>0.48</td>\n",
       "    </tr>\n",
       "    <tr>\n",
       "      <th>135</th>\n",
       "      <td>PROVIDENCE HOLY CROSS MEDICAL CENTER</td>\n",
       "      <td>Short Term</td>\n",
       "      <td>050278</td>\n",
       "      <td>2020-12-18</td>\n",
       "      <td>Los Angeles</td>\n",
       "      <td>037</td>\n",
       "      <td>22.0</td>\n",
       "      <td>0.0</td>\n",
       "      <td>1.00</td>\n",
       "      <td>139.0</td>\n",
       "      <td>286.0</td>\n",
       "      <td>0.49</td>\n",
       "    </tr>\n",
       "    <tr>\n",
       "      <th>70</th>\n",
       "      <td>SAN DIMAS COMMUNITY HOSPITAL</td>\n",
       "      <td>Short Term</td>\n",
       "      <td>050588</td>\n",
       "      <td>2020-12-18</td>\n",
       "      <td>Los Angeles</td>\n",
       "      <td>037</td>\n",
       "      <td>11.0</td>\n",
       "      <td>0.0</td>\n",
       "      <td>1.00</td>\n",
       "      <td>30.0</td>\n",
       "      <td>60.0</td>\n",
       "      <td>0.50</td>\n",
       "    </tr>\n",
       "    <tr>\n",
       "      <th>137</th>\n",
       "      <td>PACIFICA HOSPITAL OF THE VALLEY</td>\n",
       "      <td>Short Term</td>\n",
       "      <td>050378</td>\n",
       "      <td>2020-12-18</td>\n",
       "      <td>Los Angeles</td>\n",
       "      <td>037</td>\n",
       "      <td>6.0</td>\n",
       "      <td>0.0</td>\n",
       "      <td>1.00</td>\n",
       "      <td>28.0</td>\n",
       "      <td>56.0</td>\n",
       "      <td>0.50</td>\n",
       "    </tr>\n",
       "  </tbody>\n",
       "</table>\n",
       "</div>"
      ],
      "text/plain": [
       "                                           hospital hospital_subtype     ccn  \\\n",
       "96                      CEDARS-SINAI MEDICAL CENTER       Short Term  050625   \n",
       "119                      KINDRED HOSPITAL SOUTH BAY        Long Term  052050   \n",
       "140   EMANATE HEALTH FOOTHILL PRESBYTERIAN HOSPITAL       Short Term  050597   \n",
       "95                           MONTEREY PARK HOSPITAL       Short Term  050736   \n",
       "113                WHITTIER HOSPITAL MEDICAL CENTER       Short Term  050735   \n",
       "114               CENTINELA HOSPITAL MEDICAL CENTER       Short Term  050739   \n",
       "122  PROVIDENCE LITTLE CO OF MARY MED CTR SAN PEDRO       Short Term  050078   \n",
       "135            PROVIDENCE HOLY CROSS MEDICAL CENTER       Short Term  050278   \n",
       "70                     SAN DIMAS COMMUNITY HOSPITAL       Short Term  050588   \n",
       "137                 PACIFICA HOSPITAL OF THE VALLEY       Short Term  050378   \n",
       "\n",
       "          week       county fips  total_covid_icu_patients  \\\n",
       "96  2020-12-18  Los Angeles  037                      49.0   \n",
       "119 2020-12-18  Los Angeles  037                       3.0   \n",
       "140 2020-12-18  Los Angeles  037                      12.0   \n",
       "95  2020-12-18  Los Angeles  037                       5.0   \n",
       "113 2020-12-18  Los Angeles  037                      16.0   \n",
       "114 2020-12-18  Los Angeles  037                      35.0   \n",
       "122 2020-12-18  Los Angeles  037                      11.0   \n",
       "135 2020-12-18  Los Angeles  037                      22.0   \n",
       "70  2020-12-18  Los Angeles  037                      11.0   \n",
       "137 2020-12-18  Los Angeles  037                       6.0   \n",
       "\n",
       "     total_available_adult_icu_beds  pct_occupied_adult_icu_beds  \\\n",
       "96                            -20.0                         1.19   \n",
       "119                            -1.0                         1.17   \n",
       "140                             0.0                         1.00   \n",
       "95                              0.0                         1.00   \n",
       "113                             0.0                         1.00   \n",
       "114                             0.0                         1.00   \n",
       "122                             0.0                         1.00   \n",
       "135                             0.0                         1.00   \n",
       "70                              0.0                         1.00   \n",
       "137                             0.0                         1.00   \n",
       "\n",
       "     all_covid_patients  all_patients  covid_patients_share  \n",
       "96                207.0         821.0                  0.25  \n",
       "119                22.0          51.0                  0.43  \n",
       "140                25.0          73.0                  0.34  \n",
       "95                 43.0          71.0                  0.61  \n",
       "113                55.0         121.0                  0.45  \n",
       "114                94.0         218.0                  0.43  \n",
       "122                46.0          95.0                  0.48  \n",
       "135               139.0         286.0                  0.49  \n",
       "70                 30.0          60.0                  0.50  \n",
       "137                28.0          56.0                  0.50  "
      ]
     },
     "execution_count": 31,
     "metadata": {},
     "output_type": "execute_result"
    }
   ],
   "source": [
    "current_la[(current_la['total_covid_icu_patients'] > 0)]\\\n",
    ".sort_values('pct_occupied_adult_icu_beds', ascending=False).head(10)"
   ]
  },
  {
   "cell_type": "markdown",
   "metadata": {},
   "source": [
    "### How many LA County hospitals (with Covid patients) are in our dataframe? "
   ]
  },
  {
   "cell_type": "code",
   "execution_count": 32,
   "metadata": {},
   "outputs": [
    {
     "data": {
      "text/plain": [
       "73"
      ]
     },
     "execution_count": 32,
     "metadata": {},
     "output_type": "execute_result"
    }
   ],
   "source": [
    "len(current_la[(current_la['total_covid_icu_patients'] > 0)])"
   ]
  },
  {
   "cell_type": "markdown",
   "metadata": {},
   "source": [
    "### How many have 'high' ICU occupancy rates? "
   ]
  },
  {
   "cell_type": "code",
   "execution_count": 33,
   "metadata": {},
   "outputs": [
    {
     "data": {
      "text/plain": [
       "32"
      ]
     },
     "execution_count": 33,
     "metadata": {},
     "output_type": "execute_result"
    }
   ],
   "source": [
    "len(current_la[current_la['pct_occupied_adult_icu_beds'] > .95 ])"
   ]
  },
  {
   "cell_type": "markdown",
   "metadata": {},
   "source": [
    "### Let's look at Bay Area hospitals, too"
   ]
  },
  {
   "cell_type": "code",
   "execution_count": 34,
   "metadata": {},
   "outputs": [],
   "source": [
    "bayarea = ['Alameda', 'Contra Costa', 'Marin', 'Napa', 'San Francisco', 'San Mateo', 'Santa Clara', 'Solano', 'Sonoma']"
   ]
  },
  {
   "cell_type": "markdown",
   "metadata": {},
   "source": [
    "### Top 10 Bay Area hospotals by Covid share? "
   ]
  },
  {
   "cell_type": "code",
   "execution_count": 35,
   "metadata": {},
   "outputs": [
    {
     "data": {
      "text/html": [
       "<div>\n",
       "<style scoped>\n",
       "    .dataframe tbody tr th:only-of-type {\n",
       "        vertical-align: middle;\n",
       "    }\n",
       "\n",
       "    .dataframe tbody tr th {\n",
       "        vertical-align: top;\n",
       "    }\n",
       "\n",
       "    .dataframe thead th {\n",
       "        text-align: right;\n",
       "    }\n",
       "</style>\n",
       "<table border=\"1\" class=\"dataframe\">\n",
       "  <thead>\n",
       "    <tr style=\"text-align: right;\">\n",
       "      <th></th>\n",
       "      <th>hospital</th>\n",
       "      <th>hospital_subtype</th>\n",
       "      <th>ccn</th>\n",
       "      <th>week</th>\n",
       "      <th>county</th>\n",
       "      <th>fips</th>\n",
       "      <th>total_covid_icu_patients</th>\n",
       "      <th>total_available_adult_icu_beds</th>\n",
       "      <th>pct_occupied_adult_icu_beds</th>\n",
       "      <th>all_covid_patients</th>\n",
       "      <th>all_patients</th>\n",
       "      <th>covid_patients_share</th>\n",
       "    </tr>\n",
       "  </thead>\n",
       "  <tbody>\n",
       "    <tr>\n",
       "      <th>11</th>\n",
       "      <td>ST ROSE HOSPITAL</td>\n",
       "      <td>Short Term</td>\n",
       "      <td>050002</td>\n",
       "      <td>2020-12-18</td>\n",
       "      <td>Alameda</td>\n",
       "      <td>001</td>\n",
       "      <td>7.0</td>\n",
       "      <td>5.0</td>\n",
       "      <td>0.67</td>\n",
       "      <td>30.0</td>\n",
       "      <td>63.0</td>\n",
       "      <td>0.48</td>\n",
       "    </tr>\n",
       "    <tr>\n",
       "      <th>304</th>\n",
       "      <td>KAISER FOUNDATION HOSPITAL-SAN JOSE</td>\n",
       "      <td>Short Term</td>\n",
       "      <td>050604</td>\n",
       "      <td>2020-12-18</td>\n",
       "      <td>Santa Clara</td>\n",
       "      <td>085</td>\n",
       "      <td>12.0</td>\n",
       "      <td>2.0</td>\n",
       "      <td>0.89</td>\n",
       "      <td>72.0</td>\n",
       "      <td>154.0</td>\n",
       "      <td>0.47</td>\n",
       "    </tr>\n",
       "    <tr>\n",
       "      <th>293</th>\n",
       "      <td>SAN MATEO MEDICAL CENTER</td>\n",
       "      <td>Short Term</td>\n",
       "      <td>050113</td>\n",
       "      <td>2020-12-18</td>\n",
       "      <td>San Mateo</td>\n",
       "      <td>081</td>\n",
       "      <td>6.0</td>\n",
       "      <td>0.0</td>\n",
       "      <td>1.00</td>\n",
       "      <td>18.0</td>\n",
       "      <td>39.0</td>\n",
       "      <td>0.46</td>\n",
       "    </tr>\n",
       "    <tr>\n",
       "      <th>1</th>\n",
       "      <td>KAISER FOUNDATION HOSPITAL - FREMONT</td>\n",
       "      <td>Short Term</td>\n",
       "      <td>050512</td>\n",
       "      <td>2020-12-18</td>\n",
       "      <td>Alameda</td>\n",
       "      <td>001</td>\n",
       "      <td>7.0</td>\n",
       "      <td>1.0</td>\n",
       "      <td>0.90</td>\n",
       "      <td>31.0</td>\n",
       "      <td>74.0</td>\n",
       "      <td>0.42</td>\n",
       "    </tr>\n",
       "    <tr>\n",
       "      <th>289</th>\n",
       "      <td>KAISER FOUNDATION HOSPITAL - SOUTH SAN FRANCISCO</td>\n",
       "      <td>Short Term</td>\n",
       "      <td>050070</td>\n",
       "      <td>2020-12-18</td>\n",
       "      <td>San Mateo</td>\n",
       "      <td>081</td>\n",
       "      <td>6.0</td>\n",
       "      <td>1.0</td>\n",
       "      <td>0.90</td>\n",
       "      <td>38.0</td>\n",
       "      <td>94.0</td>\n",
       "      <td>0.40</td>\n",
       "    </tr>\n",
       "    <tr>\n",
       "      <th>305</th>\n",
       "      <td>REGIONAL MEDICAL CENTER OF SAN JOSE</td>\n",
       "      <td>Short Term</td>\n",
       "      <td>050125</td>\n",
       "      <td>2020-12-18</td>\n",
       "      <td>Santa Clara</td>\n",
       "      <td>085</td>\n",
       "      <td>20.0</td>\n",
       "      <td>0.0</td>\n",
       "      <td>1.00</td>\n",
       "      <td>90.0</td>\n",
       "      <td>226.0</td>\n",
       "      <td>0.40</td>\n",
       "    </tr>\n",
       "    <tr>\n",
       "      <th>20</th>\n",
       "      <td>KAISER FOUNDATION HOSPITAL - ANTIOCH</td>\n",
       "      <td>Short Term</td>\n",
       "      <td>050760</td>\n",
       "      <td>2020-12-18</td>\n",
       "      <td>Contra Costa</td>\n",
       "      <td>013</td>\n",
       "      <td>4.0</td>\n",
       "      <td>1.0</td>\n",
       "      <td>0.88</td>\n",
       "      <td>34.0</td>\n",
       "      <td>100.0</td>\n",
       "      <td>0.34</td>\n",
       "    </tr>\n",
       "    <tr>\n",
       "      <th>290</th>\n",
       "      <td>SETON MEDICAL CENTER</td>\n",
       "      <td>Short Term</td>\n",
       "      <td>050289</td>\n",
       "      <td>2020-12-18</td>\n",
       "      <td>San Mateo</td>\n",
       "      <td>081</td>\n",
       "      <td>4.0</td>\n",
       "      <td>0.0</td>\n",
       "      <td>1.00</td>\n",
       "      <td>24.0</td>\n",
       "      <td>71.0</td>\n",
       "      <td>0.34</td>\n",
       "    </tr>\n",
       "    <tr>\n",
       "      <th>303</th>\n",
       "      <td>KAISER FOUNDATION HOSPITAL-SANTA CLARA</td>\n",
       "      <td>Short Term</td>\n",
       "      <td>050071</td>\n",
       "      <td>2020-12-18</td>\n",
       "      <td>Santa Clara</td>\n",
       "      <td>085</td>\n",
       "      <td>12.0</td>\n",
       "      <td>2.0</td>\n",
       "      <td>0.93</td>\n",
       "      <td>79.0</td>\n",
       "      <td>239.0</td>\n",
       "      <td>0.33</td>\n",
       "    </tr>\n",
       "    <tr>\n",
       "      <th>19</th>\n",
       "      <td>SAN RAMON REGIONAL MEDICAL CENTER</td>\n",
       "      <td>Short Term</td>\n",
       "      <td>050689</td>\n",
       "      <td>2020-12-18</td>\n",
       "      <td>Contra Costa</td>\n",
       "      <td>013</td>\n",
       "      <td>4.0</td>\n",
       "      <td>6.0</td>\n",
       "      <td>0.50</td>\n",
       "      <td>18.0</td>\n",
       "      <td>55.0</td>\n",
       "      <td>0.33</td>\n",
       "    </tr>\n",
       "  </tbody>\n",
       "</table>\n",
       "</div>"
      ],
      "text/plain": [
       "                                             hospital hospital_subtype  \\\n",
       "11                                   ST ROSE HOSPITAL       Short Term   \n",
       "304               KAISER FOUNDATION HOSPITAL-SAN JOSE       Short Term   \n",
       "293                          SAN MATEO MEDICAL CENTER       Short Term   \n",
       "1                KAISER FOUNDATION HOSPITAL - FREMONT       Short Term   \n",
       "289  KAISER FOUNDATION HOSPITAL - SOUTH SAN FRANCISCO       Short Term   \n",
       "305               REGIONAL MEDICAL CENTER OF SAN JOSE       Short Term   \n",
       "20               KAISER FOUNDATION HOSPITAL - ANTIOCH       Short Term   \n",
       "290                              SETON MEDICAL CENTER       Short Term   \n",
       "303            KAISER FOUNDATION HOSPITAL-SANTA CLARA       Short Term   \n",
       "19                  SAN RAMON REGIONAL MEDICAL CENTER       Short Term   \n",
       "\n",
       "        ccn       week        county fips  total_covid_icu_patients  \\\n",
       "11   050002 2020-12-18       Alameda  001                       7.0   \n",
       "304  050604 2020-12-18   Santa Clara  085                      12.0   \n",
       "293  050113 2020-12-18     San Mateo  081                       6.0   \n",
       "1    050512 2020-12-18       Alameda  001                       7.0   \n",
       "289  050070 2020-12-18     San Mateo  081                       6.0   \n",
       "305  050125 2020-12-18   Santa Clara  085                      20.0   \n",
       "20   050760 2020-12-18  Contra Costa  013                       4.0   \n",
       "290  050289 2020-12-18     San Mateo  081                       4.0   \n",
       "303  050071 2020-12-18   Santa Clara  085                      12.0   \n",
       "19   050689 2020-12-18  Contra Costa  013                       4.0   \n",
       "\n",
       "     total_available_adult_icu_beds  pct_occupied_adult_icu_beds  \\\n",
       "11                              5.0                         0.67   \n",
       "304                             2.0                         0.89   \n",
       "293                             0.0                         1.00   \n",
       "1                               1.0                         0.90   \n",
       "289                             1.0                         0.90   \n",
       "305                             0.0                         1.00   \n",
       "20                              1.0                         0.88   \n",
       "290                             0.0                         1.00   \n",
       "303                             2.0                         0.93   \n",
       "19                              6.0                         0.50   \n",
       "\n",
       "     all_covid_patients  all_patients  covid_patients_share  \n",
       "11                 30.0          63.0                  0.48  \n",
       "304                72.0         154.0                  0.47  \n",
       "293                18.0          39.0                  0.46  \n",
       "1                  31.0          74.0                  0.42  \n",
       "289                38.0          94.0                  0.40  \n",
       "305                90.0         226.0                  0.40  \n",
       "20                 34.0         100.0                  0.34  \n",
       "290                24.0          71.0                  0.34  \n",
       "303                79.0         239.0                  0.33  \n",
       "19                 18.0          55.0                  0.33  "
      ]
     },
     "execution_count": 35,
     "metadata": {},
     "output_type": "execute_result"
    }
   ],
   "source": [
    "current_ca[current_ca['county'].isin(bayarea)].sort_values('covid_patients_share', ascending=False).head(10)"
   ]
  },
  {
   "cell_type": "markdown",
   "metadata": {},
   "source": [
    "---"
   ]
  },
  {
   "cell_type": "markdown",
   "metadata": {},
   "source": [
    "## Get medical facilities' geographic data"
   ]
  },
  {
   "cell_type": "code",
   "execution_count": 36,
   "metadata": {},
   "outputs": [],
   "source": [
    "# From HHS: https://maps3.arcgisonline.com/arcgis/rest/services/A-16/HHS_IOM_Health_Resources/MapServer"
   ]
  },
  {
   "cell_type": "code",
   "execution_count": 37,
   "metadata": {},
   "outputs": [],
   "source": [
    "hospitals = gpd.read_file('/Users/mhustiles/data/github/AGStoShapefile/backupdir/HHS_Hospital/HHS_Hospital_1608139617293.geojson')"
   ]
  },
  {
   "cell_type": "code",
   "execution_count": 38,
   "metadata": {},
   "outputs": [],
   "source": [
    "medical_centers = gpd.read_file('/Users/mhustiles/data/github/AGStoShapefile/backupdir/HHS_Medical_Center/HHS_Medical_Center_1608139616289.geojson')"
   ]
  },
  {
   "cell_type": "markdown",
   "metadata": {},
   "source": [
    "### Clean up the column names so we can merge the facilities dataframes"
   ]
  },
  {
   "cell_type": "code",
   "execution_count": 39,
   "metadata": {},
   "outputs": [],
   "source": [
    "facilities = [hospitals, medical_centers]"
   ]
  },
  {
   "cell_type": "code",
   "execution_count": 40,
   "metadata": {},
   "outputs": [],
   "source": [
    "hospitals.rename(columns={'Name_new':'name', 'Address_1':'address', 'City':'city', 'State_1':'state', 'ZipCode':'zipcode',\\\n",
    "                               'PhoneNum':'phone', 'County_Nam':'county', 'Provider_N':'provider_id', 'Hospital_T':'type', 'Hospital_O':'operation',\\\n",
    "                               'Emergency_':'emergency'}, inplace=True)"
   ]
  },
  {
   "cell_type": "code",
   "execution_count": 41,
   "metadata": {},
   "outputs": [],
   "source": [
    "medical_centers.rename(columns={'Hospital_N':'name', 'Address1':'address', 'City_1':'city', 'State_1':'state', 'ZipCode':'zipcode',\\\n",
    "                               'PhoneNum':'phone', 'County_Nam':'county', 'Provider_N':'provider_id', 'Hospital_T':'type', 'Hospital_O':'operation',\\\n",
    "                               'Emergency_':'emergency'}, inplace=True)"
   ]
  },
  {
   "cell_type": "markdown",
   "metadata": {},
   "source": [
    "### Concatenate the different facility types into one dataframe, and also filter that just to CA"
   ]
  },
  {
   "cell_type": "code",
   "execution_count": 42,
   "metadata": {},
   "outputs": [],
   "source": [
    "all_medical_geo = pd.concat(facilities)"
   ]
  },
  {
   "cell_type": "code",
   "execution_count": 43,
   "metadata": {},
   "outputs": [],
   "source": [
    "all_medical_geo_ca = all_medical_geo[all_medical_geo['state'] == 'CA']"
   ]
  },
  {
   "cell_type": "markdown",
   "metadata": {},
   "source": [
    "### We might be better off using HHS' own locations data with CCNs"
   ]
  },
  {
   "cell_type": "code",
   "execution_count": 44,
   "metadata": {},
   "outputs": [],
   "source": [
    "locations = pd.read_csv('input/hospital_locations.csv', dtype={'latitude':float, 'longitude':float, 'CCN':str})"
   ]
  },
  {
   "cell_type": "code",
   "execution_count": 45,
   "metadata": {},
   "outputs": [],
   "source": [
    "locations.columns = locations.columns.str.strip().str.lower().str.replace(' ', '_')\\\n",
    "                    .str.replace('(', '').str.replace(')', '').str.replace('-','_')"
   ]
  },
  {
   "cell_type": "markdown",
   "metadata": {},
   "source": [
    "### Even though it has the wrong location for White Memorial. Let's fix. "
   ]
  },
  {
   "cell_type": "code",
   "execution_count": 46,
   "metadata": {},
   "outputs": [],
   "source": [
    "locations.loc[(locations.facility_name == 'WHITE MEMORIAL MEDICAL CENTER'),'longitude']=-118.2176219"
   ]
  },
  {
   "cell_type": "code",
   "execution_count": 47,
   "metadata": {},
   "outputs": [],
   "source": [
    "locations.loc[(locations.facility_name == 'WHITE MEMORIAL MEDICAL CENTER'),'latitude']=34.0493044"
   ]
  },
  {
   "cell_type": "markdown",
   "metadata": {},
   "source": [
    "### Convert the lon/lat fields into a geodataframe"
   ]
  },
  {
   "cell_type": "code",
   "execution_count": 48,
   "metadata": {},
   "outputs": [],
   "source": [
    "locations = gpd.GeoDataFrame(\n",
    "    locations, geometry=gpd.points_from_xy(locations.longitude, locations.latitude))"
   ]
  },
  {
   "cell_type": "markdown",
   "metadata": {},
   "source": [
    "### And then confine it to California"
   ]
  },
  {
   "cell_type": "code",
   "execution_count": 49,
   "metadata": {},
   "outputs": [],
   "source": [
    "locationsca = gpd.GeoDataFrame(locations[locations['state'] == 'CA'])"
   ]
  },
  {
   "cell_type": "markdown",
   "metadata": {},
   "source": [
    "### Make the CCN string match the hospital capacity data"
   ]
  },
  {
   "cell_type": "code",
   "execution_count": 50,
   "metadata": {},
   "outputs": [],
   "source": [
    "locationsca['ccn'] = locationsca['ccn'].str.zfill(6)"
   ]
  },
  {
   "cell_type": "markdown",
   "metadata": {},
   "source": [
    "---"
   ]
  },
  {
   "cell_type": "markdown",
   "metadata": {},
   "source": [
    "### Merge with our CA medical facilities"
   ]
  },
  {
   "cell_type": "code",
   "execution_count": 51,
   "metadata": {},
   "outputs": [],
   "source": [
    "current_ca_geo = locationsca.merge(current_ca, left_on='ccn', right_on='ccn')"
   ]
  },
  {
   "cell_type": "code",
   "execution_count": 52,
   "metadata": {},
   "outputs": [
    {
     "data": {
      "text/plain": [
       "340"
      ]
     },
     "execution_count": 52,
     "metadata": {},
     "output_type": "execute_result"
    }
   ],
   "source": [
    "len(current_ca_geo)"
   ]
  },
  {
   "cell_type": "code",
   "execution_count": 53,
   "metadata": {},
   "outputs": [],
   "source": [
    "current_ca_geo.rename(columns={'county_x':'county', 'city_x':'city', 'address_x':'address', 'state_x':'state'}, inplace=True)"
   ]
  },
  {
   "cell_type": "code",
   "execution_count": 54,
   "metadata": {},
   "outputs": [],
   "source": [
    "# current_ca_geo.drop(['county_y', 'hospital_subtype', 'provider_id', 'ccn', 'emergency', 'address', 'OBJECTID', 'state', 'name', 'phone', 'zipcode'], axis=1, inplace=True)"
   ]
  },
  {
   "cell_type": "markdown",
   "metadata": {},
   "source": [
    "---"
   ]
  },
  {
   "cell_type": "markdown",
   "metadata": {},
   "source": [
    "### Filter to just LA County hospitals"
   ]
  },
  {
   "cell_type": "code",
   "execution_count": 55,
   "metadata": {},
   "outputs": [],
   "source": [
    "current_la_geo = current_ca_geo[current_ca_geo['fips'] == '037']"
   ]
  },
  {
   "cell_type": "markdown",
   "metadata": {},
   "source": [
    "### How many facilities in California?"
   ]
  },
  {
   "cell_type": "code",
   "execution_count": 56,
   "metadata": {},
   "outputs": [
    {
     "data": {
      "text/plain": [
       "340"
      ]
     },
     "execution_count": 56,
     "metadata": {},
     "output_type": "execute_result"
    }
   ],
   "source": [
    "len(current_ca_geo)"
   ]
  },
  {
   "cell_type": "markdown",
   "metadata": {},
   "source": [
    "### How many in L.A. County?"
   ]
  },
  {
   "cell_type": "code",
   "execution_count": 57,
   "metadata": {},
   "outputs": [
    {
     "data": {
      "text/plain": [
       "83"
      ]
     },
     "execution_count": 57,
     "metadata": {},
     "output_type": "execute_result"
    }
   ],
   "source": [
    "len(current_la_geo)"
   ]
  },
  {
   "cell_type": "markdown",
   "metadata": {},
   "source": [
    "---"
   ]
  },
  {
   "cell_type": "markdown",
   "metadata": {},
   "source": [
    "### Export hospital specific data for maps and tables"
   ]
  },
  {
   "cell_type": "code",
   "execution_count": 58,
   "metadata": {},
   "outputs": [],
   "source": [
    "current_ca_geo.to_file('output/current_ca_geo.geojson', driver='GeoJSON')"
   ]
  },
  {
   "cell_type": "code",
   "execution_count": 59,
   "metadata": {},
   "outputs": [],
   "source": [
    "current_ca_geo.to_csv('output/current_ca_geo.csv', index=False)"
   ]
  },
  {
   "cell_type": "code",
   "execution_count": 60,
   "metadata": {},
   "outputs": [],
   "source": [
    "current_la_geo.to_file('output/current_la_geo.geojson', driver='GeoJSON')"
   ]
  },
  {
   "cell_type": "code",
   "execution_count": 61,
   "metadata": {},
   "outputs": [],
   "source": [
    "current_la_geo.to_csv('output/current_la_geo.csv', index=False)"
   ]
  },
  {
   "cell_type": "markdown",
   "metadata": {},
   "source": [
    "---"
   ]
  },
  {
   "cell_type": "markdown",
   "metadata": {},
   "source": [
    "## Aggregate"
   ]
  },
  {
   "cell_type": "markdown",
   "metadata": {},
   "source": [
    "### What's the average share of Covid patients in hospitals statewide?"
   ]
  },
  {
   "cell_type": "code",
   "execution_count": 62,
   "metadata": {},
   "outputs": [],
   "source": [
    "state = current_ca.groupby(['week']).agg({'all_covid_patients':'sum', 'all_patients':'sum'}).reset_index()"
   ]
  },
  {
   "cell_type": "code",
   "execution_count": 63,
   "metadata": {},
   "outputs": [],
   "source": [
    "state['covid_patients_share'] = round((\n",
    "    state[\"all_covid_patients\"]\n",
    "    / state[\"all_patients\"]\n",
    "),2)"
   ]
  },
  {
   "cell_type": "code",
   "execution_count": 64,
   "metadata": {},
   "outputs": [
    {
     "data": {
      "text/html": [
       "<div>\n",
       "<style scoped>\n",
       "    .dataframe tbody tr th:only-of-type {\n",
       "        vertical-align: middle;\n",
       "    }\n",
       "\n",
       "    .dataframe tbody tr th {\n",
       "        vertical-align: top;\n",
       "    }\n",
       "\n",
       "    .dataframe thead th {\n",
       "        text-align: right;\n",
       "    }\n",
       "</style>\n",
       "<table border=\"1\" class=\"dataframe\">\n",
       "  <thead>\n",
       "    <tr style=\"text-align: right;\">\n",
       "      <th></th>\n",
       "      <th>week</th>\n",
       "      <th>all_covid_patients</th>\n",
       "      <th>all_patients</th>\n",
       "      <th>covid_patients_share</th>\n",
       "    </tr>\n",
       "  </thead>\n",
       "  <tbody>\n",
       "    <tr>\n",
       "      <th>0</th>\n",
       "      <td>2020-12-18</td>\n",
       "      <td>17545.0</td>\n",
       "      <td>46742.0</td>\n",
       "      <td>0.38</td>\n",
       "    </tr>\n",
       "  </tbody>\n",
       "</table>\n",
       "</div>"
      ],
      "text/plain": [
       "        week  all_covid_patients  all_patients  covid_patients_share\n",
       "0 2020-12-18             17545.0       46742.0                  0.38"
      ]
     },
     "execution_count": 64,
     "metadata": {},
     "output_type": "execute_result"
    }
   ],
   "source": [
    "state.head()"
   ]
  },
  {
   "cell_type": "markdown",
   "metadata": {},
   "source": [
    "### Covid patients by county"
   ]
  },
  {
   "cell_type": "code",
   "execution_count": 65,
   "metadata": {},
   "outputs": [],
   "source": [
    "counties = trimmed_timeseries.groupby(['county', 'week']).agg({'all_covid_patients':'sum', 'all_patients':'sum'}).reset_index()"
   ]
  },
  {
   "cell_type": "code",
   "execution_count": 66,
   "metadata": {},
   "outputs": [],
   "source": [
    "counties['covid_patients_share'] = round((\n",
    "    counties[\"all_covid_patients\"]\n",
    "    / counties[\"all_patients\"]\n",
    "),2)"
   ]
  },
  {
   "cell_type": "markdown",
   "metadata": {},
   "source": [
    "#### Which counties have the most Covid patients (in most recent week)?"
   ]
  },
  {
   "cell_type": "code",
   "execution_count": 67,
   "metadata": {},
   "outputs": [
    {
     "data": {
      "text/html": [
       "<div>\n",
       "<style scoped>\n",
       "    .dataframe tbody tr th:only-of-type {\n",
       "        vertical-align: middle;\n",
       "    }\n",
       "\n",
       "    .dataframe tbody tr th {\n",
       "        vertical-align: top;\n",
       "    }\n",
       "\n",
       "    .dataframe thead th {\n",
       "        text-align: right;\n",
       "    }\n",
       "</style>\n",
       "<table border=\"1\" class=\"dataframe\">\n",
       "  <thead>\n",
       "    <tr style=\"text-align: right;\">\n",
       "      <th></th>\n",
       "      <th>county</th>\n",
       "      <th>week</th>\n",
       "      <th>all_covid_patients</th>\n",
       "      <th>all_patients</th>\n",
       "      <th>covid_patients_share</th>\n",
       "    </tr>\n",
       "  </thead>\n",
       "  <tbody>\n",
       "    <tr>\n",
       "      <th>373</th>\n",
       "      <td>Los Angeles</td>\n",
       "      <td>2020-12-18</td>\n",
       "      <td>6167.0</td>\n",
       "      <td>14342.0</td>\n",
       "      <td>0.43</td>\n",
       "    </tr>\n",
       "    <tr>\n",
       "      <th>604</th>\n",
       "      <td>Orange</td>\n",
       "      <td>2020-12-18</td>\n",
       "      <td>1718.0</td>\n",
       "      <td>3951.0</td>\n",
       "      <td>0.43</td>\n",
       "    </tr>\n",
       "    <tr>\n",
       "      <th>729</th>\n",
       "      <td>San Bernardino</td>\n",
       "      <td>2020-12-18</td>\n",
       "      <td>1539.0</td>\n",
       "      <td>2878.0</td>\n",
       "      <td>0.53</td>\n",
       "    </tr>\n",
       "    <tr>\n",
       "      <th>750</th>\n",
       "      <td>San Diego</td>\n",
       "      <td>2020-12-18</td>\n",
       "      <td>1293.0</td>\n",
       "      <td>3872.0</td>\n",
       "      <td>0.33</td>\n",
       "    </tr>\n",
       "    <tr>\n",
       "      <th>667</th>\n",
       "      <td>Riverside</td>\n",
       "      <td>2020-12-18</td>\n",
       "      <td>1267.0</td>\n",
       "      <td>2633.0</td>\n",
       "      <td>0.48</td>\n",
       "    </tr>\n",
       "  </tbody>\n",
       "</table>\n",
       "</div>"
      ],
      "text/plain": [
       "             county       week  all_covid_patients  all_patients  \\\n",
       "373     Los Angeles 2020-12-18              6167.0       14342.0   \n",
       "604          Orange 2020-12-18              1718.0        3951.0   \n",
       "729  San Bernardino 2020-12-18              1539.0        2878.0   \n",
       "750       San Diego 2020-12-18              1293.0        3872.0   \n",
       "667       Riverside 2020-12-18              1267.0        2633.0   \n",
       "\n",
       "     covid_patients_share  \n",
       "373                  0.43  \n",
       "604                  0.43  \n",
       "729                  0.53  \n",
       "750                  0.33  \n",
       "667                  0.48  "
      ]
     },
     "execution_count": 67,
     "metadata": {},
     "output_type": "execute_result"
    }
   ],
   "source": [
    "counties[counties['week'] == counties['week'].max()].sort_values('all_covid_patients', ascending=False).head(5)"
   ]
  },
  {
   "cell_type": "markdown",
   "metadata": {},
   "source": [
    "#### Which counties have the highest percentage of Covid patients (in most recent week)?"
   ]
  },
  {
   "cell_type": "code",
   "execution_count": 68,
   "metadata": {},
   "outputs": [
    {
     "data": {
      "text/html": [
       "<div>\n",
       "<style scoped>\n",
       "    .dataframe tbody tr th:only-of-type {\n",
       "        vertical-align: middle;\n",
       "    }\n",
       "\n",
       "    .dataframe tbody tr th {\n",
       "        vertical-align: top;\n",
       "    }\n",
       "\n",
       "    .dataframe thead th {\n",
       "        text-align: right;\n",
       "    }\n",
       "</style>\n",
       "<table border=\"1\" class=\"dataframe\">\n",
       "  <thead>\n",
       "    <tr style=\"text-align: right;\">\n",
       "      <th></th>\n",
       "      <th>county</th>\n",
       "      <th>week</th>\n",
       "      <th>all_covid_patients</th>\n",
       "      <th>all_patients</th>\n",
       "      <th>covid_patients_share</th>\n",
       "    </tr>\n",
       "  </thead>\n",
       "  <tbody>\n",
       "    <tr>\n",
       "      <th>247</th>\n",
       "      <td>Imperial</td>\n",
       "      <td>2020-12-18</td>\n",
       "      <td>194.0</td>\n",
       "      <td>263.0</td>\n",
       "      <td>0.74</td>\n",
       "    </tr>\n",
       "    <tr>\n",
       "      <th>268</th>\n",
       "      <td>Inyo</td>\n",
       "      <td>2020-12-18</td>\n",
       "      <td>8.0</td>\n",
       "      <td>11.0</td>\n",
       "      <td>0.73</td>\n",
       "    </tr>\n",
       "    <tr>\n",
       "      <th>310</th>\n",
       "      <td>Kings</td>\n",
       "      <td>2020-12-18</td>\n",
       "      <td>89.0</td>\n",
       "      <td>143.0</td>\n",
       "      <td>0.62</td>\n",
       "    </tr>\n",
       "    <tr>\n",
       "      <th>394</th>\n",
       "      <td>Madera</td>\n",
       "      <td>2020-12-18</td>\n",
       "      <td>32.0</td>\n",
       "      <td>54.0</td>\n",
       "      <td>0.59</td>\n",
       "    </tr>\n",
       "    <tr>\n",
       "      <th>83</th>\n",
       "      <td>Calaveras</td>\n",
       "      <td>2020-12-18</td>\n",
       "      <td>7.0</td>\n",
       "      <td>12.0</td>\n",
       "      <td>0.58</td>\n",
       "    </tr>\n",
       "  </tbody>\n",
       "</table>\n",
       "</div>"
      ],
      "text/plain": [
       "        county       week  all_covid_patients  all_patients  \\\n",
       "247   Imperial 2020-12-18               194.0         263.0   \n",
       "268       Inyo 2020-12-18                 8.0          11.0   \n",
       "310      Kings 2020-12-18                89.0         143.0   \n",
       "394     Madera 2020-12-18                32.0          54.0   \n",
       "83   Calaveras 2020-12-18                 7.0          12.0   \n",
       "\n",
       "     covid_patients_share  \n",
       "247                  0.74  \n",
       "268                  0.73  \n",
       "310                  0.62  \n",
       "394                  0.59  \n",
       "83                   0.58  "
      ]
     },
     "execution_count": 68,
     "metadata": {},
     "output_type": "execute_result"
    }
   ],
   "source": [
    "counties[counties['week'] == counties['week'].max()].sort_values('covid_patients_share', ascending=False).head(5)"
   ]
  },
  {
   "cell_type": "markdown",
   "metadata": {},
   "source": [
    "### How has this changed over time? "
   ]
  },
  {
   "cell_type": "code",
   "execution_count": 69,
   "metadata": {},
   "outputs": [],
   "source": [
    "counties_grouped = counties.groupby(['county', 'week']).agg({'all_covid_patients':'sum', 'covid_patients_share':'sum'}).reset_index()"
   ]
  },
  {
   "cell_type": "code",
   "execution_count": 70,
   "metadata": {},
   "outputs": [],
   "source": [
    "socal = ['Los Angeles', 'Orange', 'Ventura', 'San Bernardino', 'Riverside']"
   ]
  },
  {
   "cell_type": "code",
   "execution_count": 71,
   "metadata": {},
   "outputs": [],
   "source": [
    "la_grouped = counties_grouped[counties_grouped['county'] == 'Los Angeles']"
   ]
  },
  {
   "cell_type": "code",
   "execution_count": 72,
   "metadata": {},
   "outputs": [
    {
     "data": {
      "text/html": [
       "<div>\n",
       "<style scoped>\n",
       "    .dataframe tbody tr th:only-of-type {\n",
       "        vertical-align: middle;\n",
       "    }\n",
       "\n",
       "    .dataframe tbody tr th {\n",
       "        vertical-align: top;\n",
       "    }\n",
       "\n",
       "    .dataframe thead th {\n",
       "        text-align: right;\n",
       "    }\n",
       "</style>\n",
       "<table border=\"1\" class=\"dataframe\">\n",
       "  <thead>\n",
       "    <tr style=\"text-align: right;\">\n",
       "      <th></th>\n",
       "      <th>county</th>\n",
       "      <th>week</th>\n",
       "      <th>all_covid_patients</th>\n",
       "      <th>covid_patients_share</th>\n",
       "    </tr>\n",
       "  </thead>\n",
       "  <tbody>\n",
       "    <tr>\n",
       "      <th>369</th>\n",
       "      <td>Los Angeles</td>\n",
       "      <td>2020-11-20</td>\n",
       "      <td>1675.0</td>\n",
       "      <td>0.14</td>\n",
       "    </tr>\n",
       "    <tr>\n",
       "      <th>370</th>\n",
       "      <td>Los Angeles</td>\n",
       "      <td>2020-11-27</td>\n",
       "      <td>2422.0</td>\n",
       "      <td>0.19</td>\n",
       "    </tr>\n",
       "    <tr>\n",
       "      <th>371</th>\n",
       "      <td>Los Angeles</td>\n",
       "      <td>2020-12-04</td>\n",
       "      <td>3308.0</td>\n",
       "      <td>0.25</td>\n",
       "    </tr>\n",
       "    <tr>\n",
       "      <th>372</th>\n",
       "      <td>Los Angeles</td>\n",
       "      <td>2020-12-11</td>\n",
       "      <td>4671.0</td>\n",
       "      <td>0.34</td>\n",
       "    </tr>\n",
       "    <tr>\n",
       "      <th>373</th>\n",
       "      <td>Los Angeles</td>\n",
       "      <td>2020-12-18</td>\n",
       "      <td>6167.0</td>\n",
       "      <td>0.43</td>\n",
       "    </tr>\n",
       "  </tbody>\n",
       "</table>\n",
       "</div>"
      ],
      "text/plain": [
       "          county       week  all_covid_patients  covid_patients_share\n",
       "369  Los Angeles 2020-11-20              1675.0                  0.14\n",
       "370  Los Angeles 2020-11-27              2422.0                  0.19\n",
       "371  Los Angeles 2020-12-04              3308.0                  0.25\n",
       "372  Los Angeles 2020-12-11              4671.0                  0.34\n",
       "373  Los Angeles 2020-12-18              6167.0                  0.43"
      ]
     },
     "execution_count": 72,
     "metadata": {},
     "output_type": "execute_result"
    }
   ],
   "source": [
    "la_grouped.tail()"
   ]
  },
  {
   "cell_type": "code",
   "execution_count": 73,
   "metadata": {},
   "outputs": [
    {
     "data": {
      "text/html": [
       "\n",
       "<div id=\"altair-viz-69a45e4a333545748d9371661ae4ca91\"></div>\n",
       "<script type=\"text/javascript\">\n",
       "  (function(spec, embedOpt){\n",
       "    const outputDiv = document.getElementById(\"altair-viz-69a45e4a333545748d9371661ae4ca91\");\n",
       "    const paths = {\n",
       "      \"vega\": \"https://cdn.jsdelivr.net/npm//vega@5?noext\",\n",
       "      \"vega-lib\": \"https://cdn.jsdelivr.net/npm//vega-lib?noext\",\n",
       "      \"vega-lite\": \"https://cdn.jsdelivr.net/npm//vega-lite@4.0.2?noext\",\n",
       "      \"vega-embed\": \"https://cdn.jsdelivr.net/npm//vega-embed@6?noext\",\n",
       "    };\n",
       "\n",
       "    function loadScript(lib) {\n",
       "      return new Promise(function(resolve, reject) {\n",
       "        var s = document.createElement('script');\n",
       "        s.src = paths[lib];\n",
       "        s.async = true;\n",
       "        s.onload = () => resolve(paths[lib]);\n",
       "        s.onerror = () => reject(`Error loading script: ${paths[lib]}`);\n",
       "        document.getElementsByTagName(\"head\")[0].appendChild(s);\n",
       "      });\n",
       "    }\n",
       "\n",
       "    function showError(err) {\n",
       "      outputDiv.innerHTML = `<div class=\"error\" style=\"color:red;\">${err}</div>`;\n",
       "      throw err;\n",
       "    }\n",
       "\n",
       "    function displayChart(vegaEmbed) {\n",
       "      vegaEmbed(outputDiv, spec, embedOpt)\n",
       "        .catch(err => showError(`Javascript Error: ${err.message}<br>This usually means there's a typo in your chart specification. See the javascript console for the full traceback.`));\n",
       "    }\n",
       "\n",
       "    if(typeof define === \"function\" && define.amd) {\n",
       "      requirejs.config({paths});\n",
       "      require([\"vega-embed\"], displayChart, err => showError(`Error loading script: ${err.message}`));\n",
       "    } else if (typeof vegaEmbed === \"function\") {\n",
       "      displayChart(vegaEmbed);\n",
       "    } else {\n",
       "      loadScript(\"vega\")\n",
       "        .then(() => loadScript(\"vega-lite\"))\n",
       "        .then(() => loadScript(\"vega-embed\"))\n",
       "        .catch(showError)\n",
       "        .then(() => displayChart(vegaEmbed));\n",
       "    }\n",
       "  })({\"config\": {\"view\": {\"width\": 800, \"height\": 450}, \"background\": \"#ffffff\", \"title\": {\"anchor\": \"start\", \"font\": \"Benton Gothic Bold, sans\", \"fontColor\": \"#000000\", \"fontSize\": 22, \"fontWeight\": \"normal\"}, \"arc\": {\"fill\": \"#82c6df\"}, \"area\": {\"fill\": \"#82c6df\"}, \"line\": {\"stroke\": \"#82c6df\", \"strokeWidth\": 3}, \"path\": {\"stroke\": \"#82c6df\"}, \"rect\": {\"fill\": \"#82c6df\"}, \"shape\": {\"stroke\": \"#82c6df\"}, \"bar\": {\"fill\": \"#82c6df\"}, \"point\": {\"stroke\": \"#82c6df\"}, \"symbol\": {\"fill\": \"#82c6df\", \"size\": 30}, \"axis\": {\"titleFont\": \"Benton Gothic Bold, sans\", \"titleFontSize\": 13, \"titleFontWeight\": \"normal\", \"labelFont\": \"Benton Gothic, sans\", \"labelFontSize\": 11.5, \"labelFontWeight\": \"normal\"}, \"axisX\": {\"labelAngle\": 0, \"labelPadding\": 4, \"tickSize\": 3}, \"axisY\": {\"labelBaseline\": \"middle\", \"maxExtent\": 45, \"minExtent\": 45, \"tickSize\": 2, \"titleAlign\": \"left\", \"titleAngle\": 0, \"titleX\": -45, \"titleY\": -11}, \"legend\": {\"titleFont\": \"Benton Gothic Bold, sans\", \"titleFontSize\": 13, \"titleFontWeight\": \"normal\", \"symbolType\": \"square\", \"labelFont\": \"Benton Gothic, sans\", \"labelFontSize\": 11.5}, \"range\": {\"category\": [\"#3580b1\", \"#ec8431\", \"#ab7fb4\", \"#c89d29\", \"#adc839\", \"#829eb1\"], \"diverging\": [\"#e68a4f\", \"#f4bb6a\", \"#f9e39c\", \"#dadfe2\", \"#a6b7c6\", \"#849eae\"], \"heatmap\": [\"#fbf2c7\", \"#f9e39c\", \"#f8d36e\", \"#f4bb6a\", \"#e68a4f\", \"#d15a40\", \"#ab4232\"], \"ordinal\": [\"#fbf2c7\", \"#f9e39c\", \"#f8d36e\", \"#f4bb6a\", \"#e68a4f\", \"#d15a40\", \"#ab4232\"], \"ramp\": [\"#fbf2c7\", \"#f9e39c\", \"#f8d36e\", \"#f4bb6a\", \"#e68a4f\", \"#d15a40\", \"#ab4232\"]}}, \"data\": {\"name\": \"data-48c992eca108cfc9b073a17a53132d7f\"}, \"mark\": \"area\", \"encoding\": {\"x\": {\"type\": \"temporal\", \"axis\": {\"format\": \"\", \"tickCount\": 3, \"title\": \" \"}, \"field\": \"week\"}, \"y\": {\"type\": \"quantitative\", \"axis\": {\"format\": \"\", \"tickCount\": 6}, \"field\": \"all_covid_patients\", \"title\": \"Covid patients in LA County hospitals\"}}, \"height\": 500, \"width\": 500, \"$schema\": \"https://vega.github.io/schema/vega-lite/v4.0.2.json\", \"datasets\": {\"data-48c992eca108cfc9b073a17a53132d7f\": [{\"county\": \"Los Angeles\", \"week\": \"2020-07-31T00:00:00\", \"all_covid_patients\": 1735.0, \"covid_patients_share\": 0.15}, {\"county\": \"Los Angeles\", \"week\": \"2020-08-07T00:00:00\", \"all_covid_patients\": 1524.0, \"covid_patients_share\": 0.13}, {\"county\": \"Los Angeles\", \"week\": \"2020-08-14T00:00:00\", \"all_covid_patients\": 1384.0, \"covid_patients_share\": 0.12}, {\"county\": \"Los Angeles\", \"week\": \"2020-08-21T00:00:00\", \"all_covid_patients\": 1237.0, \"covid_patients_share\": 0.1}, {\"county\": \"Los Angeles\", \"week\": \"2020-08-28T00:00:00\", \"all_covid_patients\": 1050.0, \"covid_patients_share\": 0.09}, {\"county\": \"Los Angeles\", \"week\": \"2020-09-04T00:00:00\", \"all_covid_patients\": 926.0, \"covid_patients_share\": 0.08}, {\"county\": \"Los Angeles\", \"week\": \"2020-09-11T00:00:00\", \"all_covid_patients\": 769.0, \"covid_patients_share\": 0.07}, {\"county\": \"Los Angeles\", \"week\": \"2020-09-18T00:00:00\", \"all_covid_patients\": 752.0, \"covid_patients_share\": 0.06}, {\"county\": \"Los Angeles\", \"week\": \"2020-09-25T00:00:00\", \"all_covid_patients\": 716.0, \"covid_patients_share\": 0.06}, {\"county\": \"Los Angeles\", \"week\": \"2020-10-02T00:00:00\", \"all_covid_patients\": 696.0, \"covid_patients_share\": 0.06}, {\"county\": \"Los Angeles\", \"week\": \"2020-10-09T00:00:00\", \"all_covid_patients\": 717.0, \"covid_patients_share\": 0.06}, {\"county\": \"Los Angeles\", \"week\": \"2020-10-16T00:00:00\", \"all_covid_patients\": 753.0, \"covid_patients_share\": 0.06}, {\"county\": \"Los Angeles\", \"week\": \"2020-10-23T00:00:00\", \"all_covid_patients\": 756.0, \"covid_patients_share\": 0.06}, {\"county\": \"Los Angeles\", \"week\": \"2020-10-30T00:00:00\", \"all_covid_patients\": 818.0, \"covid_patients_share\": 0.07}, {\"county\": \"Los Angeles\", \"week\": \"2020-11-06T00:00:00\", \"all_covid_patients\": 904.0, \"covid_patients_share\": 0.08}, {\"county\": \"Los Angeles\", \"week\": \"2020-11-13T00:00:00\", \"all_covid_patients\": 1210.0, \"covid_patients_share\": 0.1}, {\"county\": \"Los Angeles\", \"week\": \"2020-11-20T00:00:00\", \"all_covid_patients\": 1675.0, \"covid_patients_share\": 0.14}, {\"county\": \"Los Angeles\", \"week\": \"2020-11-27T00:00:00\", \"all_covid_patients\": 2422.0, \"covid_patients_share\": 0.19}, {\"county\": \"Los Angeles\", \"week\": \"2020-12-04T00:00:00\", \"all_covid_patients\": 3308.0, \"covid_patients_share\": 0.25}, {\"county\": \"Los Angeles\", \"week\": \"2020-12-11T00:00:00\", \"all_covid_patients\": 4671.0, \"covid_patients_share\": 0.34}, {\"county\": \"Los Angeles\", \"week\": \"2020-12-18T00:00:00\", \"all_covid_patients\": 6167.0, \"covid_patients_share\": 0.43}]}}, {\"mode\": \"vega-lite\"});\n",
       "</script>"
      ],
      "text/plain": [
       "alt.Chart(...)"
      ]
     },
     "execution_count": 73,
     "metadata": {},
     "output_type": "execute_result"
    }
   ],
   "source": [
    "alt.Chart(la_grouped).mark_area().encode(\n",
    "    x=alt.X('week:T', axis=alt.Axis(format='', title=' ', tickCount=3)),\n",
    "    y = alt.Y('all_covid_patients', title='Covid patients in LA County hospitals', axis=alt.Axis(format='', tickCount=6)),\n",
    ").properties(width=500, height=500)"
   ]
  },
  {
   "cell_type": "markdown",
   "metadata": {},
   "source": [
    "### Just southern California counties? "
   ]
  },
  {
   "cell_type": "code",
   "execution_count": 74,
   "metadata": {},
   "outputs": [],
   "source": [
    "socal_grouped = counties_grouped[counties_grouped['county'].isin(socal)].groupby(['week']).agg({'all_covid_patients':'sum', 'covid_patients_share':'mean'}).reset_index()"
   ]
  },
  {
   "cell_type": "code",
   "execution_count": 75,
   "metadata": {},
   "outputs": [
    {
     "data": {
      "text/html": [
       "<div>\n",
       "<style scoped>\n",
       "    .dataframe tbody tr th:only-of-type {\n",
       "        vertical-align: middle;\n",
       "    }\n",
       "\n",
       "    .dataframe tbody tr th {\n",
       "        vertical-align: top;\n",
       "    }\n",
       "\n",
       "    .dataframe thead th {\n",
       "        text-align: right;\n",
       "    }\n",
       "</style>\n",
       "<table border=\"1\" class=\"dataframe\">\n",
       "  <thead>\n",
       "    <tr style=\"text-align: right;\">\n",
       "      <th></th>\n",
       "      <th>week</th>\n",
       "      <th>all_covid_patients</th>\n",
       "      <th>covid_patients_share</th>\n",
       "    </tr>\n",
       "  </thead>\n",
       "  <tbody>\n",
       "    <tr>\n",
       "      <th>16</th>\n",
       "      <td>2020-11-20</td>\n",
       "      <td>3173.0</td>\n",
       "      <td>0.158</td>\n",
       "    </tr>\n",
       "    <tr>\n",
       "      <th>17</th>\n",
       "      <td>2020-11-27</td>\n",
       "      <td>4546.0</td>\n",
       "      <td>0.214</td>\n",
       "    </tr>\n",
       "    <tr>\n",
       "      <th>18</th>\n",
       "      <td>2020-12-04</td>\n",
       "      <td>6086.0</td>\n",
       "      <td>0.266</td>\n",
       "    </tr>\n",
       "    <tr>\n",
       "      <th>19</th>\n",
       "      <td>2020-12-11</td>\n",
       "      <td>8483.0</td>\n",
       "      <td>0.358</td>\n",
       "    </tr>\n",
       "    <tr>\n",
       "      <th>20</th>\n",
       "      <td>2020-12-18</td>\n",
       "      <td>10978.0</td>\n",
       "      <td>0.442</td>\n",
       "    </tr>\n",
       "  </tbody>\n",
       "</table>\n",
       "</div>"
      ],
      "text/plain": [
       "         week  all_covid_patients  covid_patients_share\n",
       "16 2020-11-20              3173.0                 0.158\n",
       "17 2020-11-27              4546.0                 0.214\n",
       "18 2020-12-04              6086.0                 0.266\n",
       "19 2020-12-11              8483.0                 0.358\n",
       "20 2020-12-18             10978.0                 0.442"
      ]
     },
     "execution_count": 75,
     "metadata": {},
     "output_type": "execute_result"
    }
   ],
   "source": [
    "socal_grouped.tail()"
   ]
  },
  {
   "cell_type": "code",
   "execution_count": 76,
   "metadata": {},
   "outputs": [
    {
     "data": {
      "text/html": [
       "\n",
       "<div id=\"altair-viz-fc0f4635387f431ab277a97b2404f0d5\"></div>\n",
       "<script type=\"text/javascript\">\n",
       "  (function(spec, embedOpt){\n",
       "    const outputDiv = document.getElementById(\"altair-viz-fc0f4635387f431ab277a97b2404f0d5\");\n",
       "    const paths = {\n",
       "      \"vega\": \"https://cdn.jsdelivr.net/npm//vega@5?noext\",\n",
       "      \"vega-lib\": \"https://cdn.jsdelivr.net/npm//vega-lib?noext\",\n",
       "      \"vega-lite\": \"https://cdn.jsdelivr.net/npm//vega-lite@4.0.2?noext\",\n",
       "      \"vega-embed\": \"https://cdn.jsdelivr.net/npm//vega-embed@6?noext\",\n",
       "    };\n",
       "\n",
       "    function loadScript(lib) {\n",
       "      return new Promise(function(resolve, reject) {\n",
       "        var s = document.createElement('script');\n",
       "        s.src = paths[lib];\n",
       "        s.async = true;\n",
       "        s.onload = () => resolve(paths[lib]);\n",
       "        s.onerror = () => reject(`Error loading script: ${paths[lib]}`);\n",
       "        document.getElementsByTagName(\"head\")[0].appendChild(s);\n",
       "      });\n",
       "    }\n",
       "\n",
       "    function showError(err) {\n",
       "      outputDiv.innerHTML = `<div class=\"error\" style=\"color:red;\">${err}</div>`;\n",
       "      throw err;\n",
       "    }\n",
       "\n",
       "    function displayChart(vegaEmbed) {\n",
       "      vegaEmbed(outputDiv, spec, embedOpt)\n",
       "        .catch(err => showError(`Javascript Error: ${err.message}<br>This usually means there's a typo in your chart specification. See the javascript console for the full traceback.`));\n",
       "    }\n",
       "\n",
       "    if(typeof define === \"function\" && define.amd) {\n",
       "      requirejs.config({paths});\n",
       "      require([\"vega-embed\"], displayChart, err => showError(`Error loading script: ${err.message}`));\n",
       "    } else if (typeof vegaEmbed === \"function\") {\n",
       "      displayChart(vegaEmbed);\n",
       "    } else {\n",
       "      loadScript(\"vega\")\n",
       "        .then(() => loadScript(\"vega-lite\"))\n",
       "        .then(() => loadScript(\"vega-embed\"))\n",
       "        .catch(showError)\n",
       "        .then(() => displayChart(vegaEmbed));\n",
       "    }\n",
       "  })({\"config\": {\"view\": {\"width\": 800, \"height\": 450}, \"background\": \"#ffffff\", \"title\": {\"anchor\": \"start\", \"font\": \"Benton Gothic Bold, sans\", \"fontColor\": \"#000000\", \"fontSize\": 22, \"fontWeight\": \"normal\"}, \"arc\": {\"fill\": \"#82c6df\"}, \"area\": {\"fill\": \"#82c6df\"}, \"line\": {\"stroke\": \"#82c6df\", \"strokeWidth\": 3}, \"path\": {\"stroke\": \"#82c6df\"}, \"rect\": {\"fill\": \"#82c6df\"}, \"shape\": {\"stroke\": \"#82c6df\"}, \"bar\": {\"fill\": \"#82c6df\"}, \"point\": {\"stroke\": \"#82c6df\"}, \"symbol\": {\"fill\": \"#82c6df\", \"size\": 30}, \"axis\": {\"titleFont\": \"Benton Gothic Bold, sans\", \"titleFontSize\": 13, \"titleFontWeight\": \"normal\", \"labelFont\": \"Benton Gothic, sans\", \"labelFontSize\": 11.5, \"labelFontWeight\": \"normal\"}, \"axisX\": {\"labelAngle\": 0, \"labelPadding\": 4, \"tickSize\": 3}, \"axisY\": {\"labelBaseline\": \"middle\", \"maxExtent\": 45, \"minExtent\": 45, \"tickSize\": 2, \"titleAlign\": \"left\", \"titleAngle\": 0, \"titleX\": -45, \"titleY\": -11}, \"legend\": {\"titleFont\": \"Benton Gothic Bold, sans\", \"titleFontSize\": 13, \"titleFontWeight\": \"normal\", \"symbolType\": \"square\", \"labelFont\": \"Benton Gothic, sans\", \"labelFontSize\": 11.5}, \"range\": {\"category\": [\"#3580b1\", \"#ec8431\", \"#ab7fb4\", \"#c89d29\", \"#adc839\", \"#829eb1\"], \"diverging\": [\"#e68a4f\", \"#f4bb6a\", \"#f9e39c\", \"#dadfe2\", \"#a6b7c6\", \"#849eae\"], \"heatmap\": [\"#fbf2c7\", \"#f9e39c\", \"#f8d36e\", \"#f4bb6a\", \"#e68a4f\", \"#d15a40\", \"#ab4232\"], \"ordinal\": [\"#fbf2c7\", \"#f9e39c\", \"#f8d36e\", \"#f4bb6a\", \"#e68a4f\", \"#d15a40\", \"#ab4232\"], \"ramp\": [\"#fbf2c7\", \"#f9e39c\", \"#f8d36e\", \"#f4bb6a\", \"#e68a4f\", \"#d15a40\", \"#ab4232\"]}}, \"data\": {\"name\": \"data-c9c649215919b9c6f41da4e706aeea38\"}, \"mark\": \"area\", \"encoding\": {\"x\": {\"type\": \"temporal\", \"axis\": {\"format\": \"\", \"tickCount\": 3, \"title\": \" \"}, \"field\": \"week\"}, \"y\": {\"type\": \"quantitative\", \"axis\": {\"format\": \"%\", \"tickCount\": 6, \"title\": \"Share of all patients with Covid in SoCal\"}, \"field\": \"covid_patients_share\", \"title\": \" \"}}, \"height\": 500, \"width\": 500, \"$schema\": \"https://vega.github.io/schema/vega-lite/v4.0.2.json\", \"datasets\": {\"data-c9c649215919b9c6f41da4e706aeea38\": [{\"week\": \"2020-07-31T00:00:00\", \"all_covid_patients\": 3298.0, \"covid_patients_share\": 0.16999999999999998}, {\"week\": \"2020-08-07T00:00:00\", \"all_covid_patients\": 2907.0, \"covid_patients_share\": 0.154}, {\"week\": \"2020-08-14T00:00:00\", \"all_covid_patients\": 2592.0, \"covid_patients_share\": 0.136}, {\"week\": \"2020-08-21T00:00:00\", \"all_covid_patients\": 2283.0, \"covid_patients_share\": 0.118}, {\"week\": \"2020-08-28T00:00:00\", \"all_covid_patients\": 1921.0, \"covid_patients_share\": 0.10400000000000001}, {\"week\": \"2020-09-04T00:00:00\", \"all_covid_patients\": 1606.0, \"covid_patients_share\": 0.082}, {\"week\": \"2020-09-11T00:00:00\", \"all_covid_patients\": 1338.0, \"covid_patients_share\": 0.07}, {\"week\": \"2020-09-18T00:00:00\", \"all_covid_patients\": 1266.0, \"covid_patients_share\": 0.064}, {\"week\": \"2020-09-25T00:00:00\", \"all_covid_patients\": 1206.0, \"covid_patients_share\": 0.06}, {\"week\": \"2020-10-02T00:00:00\", \"all_covid_patients\": 1215.0, \"covid_patients_share\": 0.06}, {\"week\": \"2020-10-09T00:00:00\", \"all_covid_patients\": 1241.0, \"covid_patients_share\": 0.062}, {\"week\": \"2020-10-16T00:00:00\", \"all_covid_patients\": 1289.0, \"covid_patients_share\": 0.062}, {\"week\": \"2020-10-23T00:00:00\", \"all_covid_patients\": 1321.0, \"covid_patients_share\": 0.064}, {\"week\": \"2020-10-30T00:00:00\", \"all_covid_patients\": 1464.0, \"covid_patients_share\": 0.074}, {\"week\": \"2020-11-06T00:00:00\", \"all_covid_patients\": 1688.0, \"covid_patients_share\": 0.088}, {\"week\": \"2020-11-13T00:00:00\", \"all_covid_patients\": 2252.0, \"covid_patients_share\": 0.11000000000000001}, {\"week\": \"2020-11-20T00:00:00\", \"all_covid_patients\": 3173.0, \"covid_patients_share\": 0.158}, {\"week\": \"2020-11-27T00:00:00\", \"all_covid_patients\": 4546.0, \"covid_patients_share\": 0.21399999999999997}, {\"week\": \"2020-12-04T00:00:00\", \"all_covid_patients\": 6086.0, \"covid_patients_share\": 0.26599999999999996}, {\"week\": \"2020-12-11T00:00:00\", \"all_covid_patients\": 8483.0, \"covid_patients_share\": 0.358}, {\"week\": \"2020-12-18T00:00:00\", \"all_covid_patients\": 10978.0, \"covid_patients_share\": 0.442}]}}, {\"mode\": \"vega-lite\"});\n",
       "</script>"
      ],
      "text/plain": [
       "alt.Chart(...)"
      ]
     },
     "execution_count": 76,
     "metadata": {},
     "output_type": "execute_result"
    }
   ],
   "source": [
    "alt.Chart(socal_grouped).mark_area().encode(\n",
    "    x=alt.X('week:T', axis=alt.Axis(format='', title=' ', tickCount=3)),\n",
    "    y = alt.Y('covid_patients_share', title=' ', axis=alt.Axis(format='%', title='Share of all patients with Covid in SoCal', tickCount=6)),\n",
    ").properties(width=500, height=500)"
   ]
  },
  {
   "cell_type": "markdown",
   "metadata": {},
   "source": [
    "### Bay Area? "
   ]
  },
  {
   "cell_type": "code",
   "execution_count": 77,
   "metadata": {},
   "outputs": [],
   "source": [
    "bayarea_grouped = counties_grouped[counties_grouped['county'].isin(bayarea)].groupby(['week']).agg({'all_covid_patients':'sum', 'covid_patients_share':'mean'}).reset_index()"
   ]
  },
  {
   "cell_type": "code",
   "execution_count": 78,
   "metadata": {},
   "outputs": [
    {
     "data": {
      "text/html": [
       "<div>\n",
       "<style scoped>\n",
       "    .dataframe tbody tr th:only-of-type {\n",
       "        vertical-align: middle;\n",
       "    }\n",
       "\n",
       "    .dataframe tbody tr th {\n",
       "        vertical-align: top;\n",
       "    }\n",
       "\n",
       "    .dataframe thead th {\n",
       "        text-align: right;\n",
       "    }\n",
       "</style>\n",
       "<table border=\"1\" class=\"dataframe\">\n",
       "  <thead>\n",
       "    <tr style=\"text-align: right;\">\n",
       "      <th></th>\n",
       "      <th>week</th>\n",
       "      <th>all_covid_patients</th>\n",
       "      <th>covid_patients_share</th>\n",
       "    </tr>\n",
       "  </thead>\n",
       "  <tbody>\n",
       "    <tr>\n",
       "      <th>16</th>\n",
       "      <td>2020-11-20</td>\n",
       "      <td>603.0</td>\n",
       "      <td>0.081111</td>\n",
       "    </tr>\n",
       "    <tr>\n",
       "      <th>17</th>\n",
       "      <td>2020-11-27</td>\n",
       "      <td>815.0</td>\n",
       "      <td>0.111111</td>\n",
       "    </tr>\n",
       "    <tr>\n",
       "      <th>18</th>\n",
       "      <td>2020-12-04</td>\n",
       "      <td>1050.0</td>\n",
       "      <td>0.132222</td>\n",
       "    </tr>\n",
       "    <tr>\n",
       "      <th>19</th>\n",
       "      <td>2020-12-11</td>\n",
       "      <td>1383.0</td>\n",
       "      <td>0.174444</td>\n",
       "    </tr>\n",
       "    <tr>\n",
       "      <th>20</th>\n",
       "      <td>2020-12-18</td>\n",
       "      <td>1675.0</td>\n",
       "      <td>0.204444</td>\n",
       "    </tr>\n",
       "  </tbody>\n",
       "</table>\n",
       "</div>"
      ],
      "text/plain": [
       "         week  all_covid_patients  covid_patients_share\n",
       "16 2020-11-20               603.0              0.081111\n",
       "17 2020-11-27               815.0              0.111111\n",
       "18 2020-12-04              1050.0              0.132222\n",
       "19 2020-12-11              1383.0              0.174444\n",
       "20 2020-12-18              1675.0              0.204444"
      ]
     },
     "execution_count": 78,
     "metadata": {},
     "output_type": "execute_result"
    }
   ],
   "source": [
    "bayarea_grouped.tail()"
   ]
  },
  {
   "cell_type": "code",
   "execution_count": 79,
   "metadata": {},
   "outputs": [
    {
     "data": {
      "text/html": [
       "\n",
       "<div id=\"altair-viz-8d44c7617f7c40cd9441544fa743cd3b\"></div>\n",
       "<script type=\"text/javascript\">\n",
       "  (function(spec, embedOpt){\n",
       "    const outputDiv = document.getElementById(\"altair-viz-8d44c7617f7c40cd9441544fa743cd3b\");\n",
       "    const paths = {\n",
       "      \"vega\": \"https://cdn.jsdelivr.net/npm//vega@5?noext\",\n",
       "      \"vega-lib\": \"https://cdn.jsdelivr.net/npm//vega-lib?noext\",\n",
       "      \"vega-lite\": \"https://cdn.jsdelivr.net/npm//vega-lite@4.0.2?noext\",\n",
       "      \"vega-embed\": \"https://cdn.jsdelivr.net/npm//vega-embed@6?noext\",\n",
       "    };\n",
       "\n",
       "    function loadScript(lib) {\n",
       "      return new Promise(function(resolve, reject) {\n",
       "        var s = document.createElement('script');\n",
       "        s.src = paths[lib];\n",
       "        s.async = true;\n",
       "        s.onload = () => resolve(paths[lib]);\n",
       "        s.onerror = () => reject(`Error loading script: ${paths[lib]}`);\n",
       "        document.getElementsByTagName(\"head\")[0].appendChild(s);\n",
       "      });\n",
       "    }\n",
       "\n",
       "    function showError(err) {\n",
       "      outputDiv.innerHTML = `<div class=\"error\" style=\"color:red;\">${err}</div>`;\n",
       "      throw err;\n",
       "    }\n",
       "\n",
       "    function displayChart(vegaEmbed) {\n",
       "      vegaEmbed(outputDiv, spec, embedOpt)\n",
       "        .catch(err => showError(`Javascript Error: ${err.message}<br>This usually means there's a typo in your chart specification. See the javascript console for the full traceback.`));\n",
       "    }\n",
       "\n",
       "    if(typeof define === \"function\" && define.amd) {\n",
       "      requirejs.config({paths});\n",
       "      require([\"vega-embed\"], displayChart, err => showError(`Error loading script: ${err.message}`));\n",
       "    } else if (typeof vegaEmbed === \"function\") {\n",
       "      displayChart(vegaEmbed);\n",
       "    } else {\n",
       "      loadScript(\"vega\")\n",
       "        .then(() => loadScript(\"vega-lite\"))\n",
       "        .then(() => loadScript(\"vega-embed\"))\n",
       "        .catch(showError)\n",
       "        .then(() => displayChart(vegaEmbed));\n",
       "    }\n",
       "  })({\"config\": {\"view\": {\"width\": 800, \"height\": 450}, \"background\": \"#ffffff\", \"title\": {\"anchor\": \"start\", \"font\": \"Benton Gothic Bold, sans\", \"fontColor\": \"#000000\", \"fontSize\": 22, \"fontWeight\": \"normal\"}, \"arc\": {\"fill\": \"#82c6df\"}, \"area\": {\"fill\": \"#82c6df\"}, \"line\": {\"stroke\": \"#82c6df\", \"strokeWidth\": 3}, \"path\": {\"stroke\": \"#82c6df\"}, \"rect\": {\"fill\": \"#82c6df\"}, \"shape\": {\"stroke\": \"#82c6df\"}, \"bar\": {\"fill\": \"#82c6df\"}, \"point\": {\"stroke\": \"#82c6df\"}, \"symbol\": {\"fill\": \"#82c6df\", \"size\": 30}, \"axis\": {\"titleFont\": \"Benton Gothic Bold, sans\", \"titleFontSize\": 13, \"titleFontWeight\": \"normal\", \"labelFont\": \"Benton Gothic, sans\", \"labelFontSize\": 11.5, \"labelFontWeight\": \"normal\"}, \"axisX\": {\"labelAngle\": 0, \"labelPadding\": 4, \"tickSize\": 3}, \"axisY\": {\"labelBaseline\": \"middle\", \"maxExtent\": 45, \"minExtent\": 45, \"tickSize\": 2, \"titleAlign\": \"left\", \"titleAngle\": 0, \"titleX\": -45, \"titleY\": -11}, \"legend\": {\"titleFont\": \"Benton Gothic Bold, sans\", \"titleFontSize\": 13, \"titleFontWeight\": \"normal\", \"symbolType\": \"square\", \"labelFont\": \"Benton Gothic, sans\", \"labelFontSize\": 11.5}, \"range\": {\"category\": [\"#3580b1\", \"#ec8431\", \"#ab7fb4\", \"#c89d29\", \"#adc839\", \"#829eb1\"], \"diverging\": [\"#e68a4f\", \"#f4bb6a\", \"#f9e39c\", \"#dadfe2\", \"#a6b7c6\", \"#849eae\"], \"heatmap\": [\"#fbf2c7\", \"#f9e39c\", \"#f8d36e\", \"#f4bb6a\", \"#e68a4f\", \"#d15a40\", \"#ab4232\"], \"ordinal\": [\"#fbf2c7\", \"#f9e39c\", \"#f8d36e\", \"#f4bb6a\", \"#e68a4f\", \"#d15a40\", \"#ab4232\"], \"ramp\": [\"#fbf2c7\", \"#f9e39c\", \"#f8d36e\", \"#f4bb6a\", \"#e68a4f\", \"#d15a40\", \"#ab4232\"]}}, \"data\": {\"name\": \"data-f330fc31265b1163fc3da6210741fdd1\"}, \"mark\": \"area\", \"encoding\": {\"x\": {\"type\": \"temporal\", \"axis\": {\"format\": \"\", \"tickCount\": 3, \"title\": \" \"}, \"field\": \"week\"}, \"y\": {\"type\": \"quantitative\", \"axis\": {\"format\": \"%\", \"tickCount\": 6, \"title\": \"Share of all patients with Covid in Bay Area\"}, \"field\": \"covid_patients_share\", \"title\": \" \"}}, \"height\": 500, \"width\": 500, \"$schema\": \"https://vega.github.io/schema/vega-lite/v4.0.2.json\", \"datasets\": {\"data-f330fc31265b1163fc3da6210741fdd1\": [{\"week\": \"2020-07-31T00:00:00\", \"all_covid_patients\": 722.0, \"covid_patients_share\": 0.09999999999999999}, {\"week\": \"2020-08-07T00:00:00\", \"all_covid_patients\": 665.0, \"covid_patients_share\": 0.09444444444444444}, {\"week\": \"2020-08-14T00:00:00\", \"all_covid_patients\": 701.0, \"covid_patients_share\": 0.09222222222222222}, {\"week\": \"2020-08-21T00:00:00\", \"all_covid_patients\": 670.0, \"covid_patients_share\": 0.09000000000000001}, {\"week\": \"2020-08-28T00:00:00\", \"all_covid_patients\": 583.0, \"covid_patients_share\": 0.07666666666666666}, {\"week\": \"2020-09-04T00:00:00\", \"all_covid_patients\": 515.0, \"covid_patients_share\": 0.07}, {\"week\": \"2020-09-11T00:00:00\", \"all_covid_patients\": 475.0, \"covid_patients_share\": 0.06666666666666667}, {\"week\": \"2020-09-18T00:00:00\", \"all_covid_patients\": 401.0, \"covid_patients_share\": 0.05333333333333334}, {\"week\": \"2020-09-25T00:00:00\", \"all_covid_patients\": 340.0, \"covid_patients_share\": 0.04555555555555555}, {\"week\": \"2020-10-02T00:00:00\", \"all_covid_patients\": 317.0, \"covid_patients_share\": 0.05}, {\"week\": \"2020-10-09T00:00:00\", \"all_covid_patients\": 277.0, \"covid_patients_share\": 0.042222222222222223}, {\"week\": \"2020-10-16T00:00:00\", \"all_covid_patients\": 268.0, \"covid_patients_share\": 0.03888888888888889}, {\"week\": \"2020-10-23T00:00:00\", \"all_covid_patients\": 275.0, \"covid_patients_share\": 0.04}, {\"week\": \"2020-10-30T00:00:00\", \"all_covid_patients\": 297.0, \"covid_patients_share\": 0.042222222222222223}, {\"week\": \"2020-11-06T00:00:00\", \"all_covid_patients\": 334.0, \"covid_patients_share\": 0.05111111111111111}, {\"week\": \"2020-11-13T00:00:00\", \"all_covid_patients\": 433.0, \"covid_patients_share\": 0.060000000000000005}, {\"week\": \"2020-11-20T00:00:00\", \"all_covid_patients\": 603.0, \"covid_patients_share\": 0.0811111111111111}, {\"week\": \"2020-11-27T00:00:00\", \"all_covid_patients\": 815.0, \"covid_patients_share\": 0.1111111111111111}, {\"week\": \"2020-12-04T00:00:00\", \"all_covid_patients\": 1050.0, \"covid_patients_share\": 0.13222222222222224}, {\"week\": \"2020-12-11T00:00:00\", \"all_covid_patients\": 1383.0, \"covid_patients_share\": 0.17444444444444443}, {\"week\": \"2020-12-18T00:00:00\", \"all_covid_patients\": 1675.0, \"covid_patients_share\": 0.20444444444444443}]}}, {\"mode\": \"vega-lite\"});\n",
       "</script>"
      ],
      "text/plain": [
       "alt.Chart(...)"
      ]
     },
     "execution_count": 79,
     "metadata": {},
     "output_type": "execute_result"
    }
   ],
   "source": [
    "alt.Chart(bayarea_grouped).mark_area().encode(\n",
    "    x=alt.X('week:T', axis=alt.Axis(format='', title=' ', tickCount=3)),\n",
    "    y = alt.Y('covid_patients_share', title=' ', axis=alt.Axis(format='%', title='Share of all patients with Covid in Bay Area', tickCount=6)),\n",
    ").properties(width=500, height=500)"
   ]
  }
 ],
 "metadata": {
  "kernelspec": {
   "display_name": "Python 3",
   "language": "python",
   "name": "python3"
  },
  "language_info": {
   "codemirror_mode": {
    "name": "ipython",
    "version": 3
   },
   "file_extension": ".py",
   "mimetype": "text/x-python",
   "name": "python",
   "nbconvert_exporter": "python",
   "pygments_lexer": "ipython3",
   "version": "3.7.4"
  }
 },
 "nbformat": 4,
 "nbformat_minor": 4
}
