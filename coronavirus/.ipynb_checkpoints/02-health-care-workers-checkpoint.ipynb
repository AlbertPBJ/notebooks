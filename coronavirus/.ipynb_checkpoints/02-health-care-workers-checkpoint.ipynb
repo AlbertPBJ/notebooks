{
 "cells": [
  {
   "cell_type": "markdown",
   "metadata": {},
   "source": [
    "# COVID-19 cases among healthcare workers"
   ]
  },
  {
   "cell_type": "markdown",
   "metadata": {},
   "source": [
    "#### Updated 4/11/2020"
   ]
  },
  {
   "cell_type": "markdown",
   "metadata": {},
   "source": [
    "### Load python tools"
   ]
  },
  {
   "cell_type": "code",
   "execution_count": 1,
   "metadata": {},
   "outputs": [
    {
     "data": {
      "text/plain": [
       "ThemeRegistry.enable('latimes')"
      ]
     },
     "execution_count": 1,
     "metadata": {},
     "output_type": "execute_result"
    }
   ],
   "source": [
    "import pandas as pd\n",
    "from shapely.geometry import shape\n",
    "import geopandas as gpd\n",
    "import matplotlib\n",
    "import matplotlib.pyplot as plt\n",
    "import openpyxl\n",
    "import altair as alt\n",
    "from altair_saver import save\n",
    "import lxml\n",
    "import requests\n",
    "from shapely.geometry import Point, LineString\n",
    "import geojson\n",
    "import json\n",
    "import glob\n",
    "import io\n",
    "import os\n",
    "import pyarrow\n",
    "from shapely.geometry import Point, LineString, MultiLineString\n",
    "import altair_latimes as lat\n",
    "alt.themes.register('latimes', lat.theme)\n",
    "alt.themes.enable('latimes')"
   ]
  },
  {
   "cell_type": "markdown",
   "metadata": {},
   "source": [
    "### Read healthcare worker infections data from CHHS"
   ]
  },
  {
   "cell_type": "code",
   "execution_count": 2,
   "metadata": {},
   "outputs": [],
   "source": [
    "hcworkers = pd.read_excel('input/HCW tables for LAT_20200408.xlsx')"
   ]
  },
  {
   "cell_type": "code",
   "execution_count": 3,
   "metadata": {},
   "outputs": [],
   "source": [
    "hcworkers['County'] = hcworkers['County'].str.title()"
   ]
  },
  {
   "cell_type": "code",
   "execution_count": 4,
   "metadata": {},
   "outputs": [],
   "source": [
    "hcworkers.columns = hcworkers.columns.str.lower()"
   ]
  },
  {
   "cell_type": "code",
   "execution_count": 5,
   "metadata": {},
   "outputs": [],
   "source": [
    "hcworkers['healthcareworker'] = hcworkers['healthcareworker']\\\n",
    "    .astype(str).apply(lambda x: x.replace('<',''))"
   ]
  },
  {
   "cell_type": "code",
   "execution_count": 6,
   "metadata": {},
   "outputs": [],
   "source": [
    "hcworkers['healthcareworker'] = hcworkers['healthcareworker'].astype(float)"
   ]
  },
  {
   "cell_type": "markdown",
   "metadata": {},
   "source": [
    "### Read data from hospital utilization report"
   ]
  },
  {
   "cell_type": "code",
   "execution_count": 7,
   "metadata": {},
   "outputs": [],
   "source": [
    "pop = pd.read_csv('/Users/mhustiles/data/github/notebooks/coronavirus/output/icus_county_pop_slim.csv')"
   ]
  },
  {
   "cell_type": "code",
   "execution_count": 8,
   "metadata": {},
   "outputs": [],
   "source": [
    "pop = pop.drop(['id'], axis=1)"
   ]
  },
  {
   "cell_type": "code",
   "execution_count": 9,
   "metadata": {},
   "outputs": [
    {
     "data": {
      "text/html": [
       "<div>\n",
       "<style scoped>\n",
       "    .dataframe tbody tr th:only-of-type {\n",
       "        vertical-align: middle;\n",
       "    }\n",
       "\n",
       "    .dataframe tbody tr th {\n",
       "        vertical-align: top;\n",
       "    }\n",
       "\n",
       "    .dataframe thead th {\n",
       "        text-align: right;\n",
       "    }\n",
       "</style>\n",
       "<table border=\"1\" class=\"dataframe\">\n",
       "  <thead>\n",
       "    <tr style=\"text-align: right;\">\n",
       "      <th></th>\n",
       "      <th>county</th>\n",
       "      <th>total_beds</th>\n",
       "      <th>icu_beds</th>\n",
       "      <th>population</th>\n",
       "      <th>icus_per1000</th>\n",
       "    </tr>\n",
       "  </thead>\n",
       "  <tbody>\n",
       "    <tr>\n",
       "      <td>0</td>\n",
       "      <td>Alameda</td>\n",
       "      <td>3746.0</td>\n",
       "      <td>264.0</td>\n",
       "      <td>1643700.0</td>\n",
       "      <td>16.061325</td>\n",
       "    </tr>\n",
       "    <tr>\n",
       "      <td>1</td>\n",
       "      <td>Amador</td>\n",
       "      <td>52.0</td>\n",
       "      <td>6.0</td>\n",
       "      <td>37829.0</td>\n",
       "      <td>15.860847</td>\n",
       "    </tr>\n",
       "    <tr>\n",
       "      <td>2</td>\n",
       "      <td>Butte</td>\n",
       "      <td>653.0</td>\n",
       "      <td>59.0</td>\n",
       "      <td>227075.0</td>\n",
       "      <td>25.982605</td>\n",
       "    </tr>\n",
       "    <tr>\n",
       "      <td>3</td>\n",
       "      <td>Calaveras</td>\n",
       "      <td>25.0</td>\n",
       "      <td>8.0</td>\n",
       "      <td>45235.0</td>\n",
       "      <td>17.685421</td>\n",
       "    </tr>\n",
       "    <tr>\n",
       "      <td>4</td>\n",
       "      <td>Colusa</td>\n",
       "      <td>48.0</td>\n",
       "      <td>6.0</td>\n",
       "      <td>21464.0</td>\n",
       "      <td>27.953783</td>\n",
       "    </tr>\n",
       "  </tbody>\n",
       "</table>\n",
       "</div>"
      ],
      "text/plain": [
       "      county  total_beds  icu_beds  population  icus_per1000\n",
       "0    Alameda      3746.0     264.0   1643700.0     16.061325\n",
       "1     Amador        52.0       6.0     37829.0     15.860847\n",
       "2      Butte       653.0      59.0    227075.0     25.982605\n",
       "3  Calaveras        25.0       8.0     45235.0     17.685421\n",
       "4     Colusa        48.0       6.0     21464.0     27.953783"
      ]
     },
     "execution_count": 9,
     "metadata": {},
     "output_type": "execute_result"
    }
   ],
   "source": [
    "pop.head()"
   ]
  },
  {
   "cell_type": "markdown",
   "metadata": {},
   "source": [
    "---"
   ]
  },
  {
   "cell_type": "markdown",
   "metadata": {},
   "source": [
    "### Read data from *LA Times* coronavirus tracker"
   ]
  },
  {
   "cell_type": "code",
   "execution_count": 10,
   "metadata": {},
   "outputs": [],
   "source": [
    "counties = pd.read_json('/Users/mhustiles/data/github/coronavirus-tracker/_data/counties/totals/all.json')"
   ]
  },
  {
   "cell_type": "code",
   "execution_count": 11,
   "metadata": {},
   "outputs": [],
   "source": [
    "testing = pd.read_json('/Users/mhustiles/data/github/coronavirus-tracker/_data/testing/timeseries.json')"
   ]
  },
  {
   "cell_type": "code",
   "execution_count": 12,
   "metadata": {},
   "outputs": [],
   "source": [
    "counties['fips'] = counties['fips'].astype(str).str.zfill(3)"
   ]
  },
  {
   "cell_type": "code",
   "execution_count": 13,
   "metadata": {},
   "outputs": [
    {
     "data": {
      "text/html": [
       "<div>\n",
       "<style scoped>\n",
       "    .dataframe tbody tr th:only-of-type {\n",
       "        vertical-align: middle;\n",
       "    }\n",
       "\n",
       "    .dataframe tbody tr th {\n",
       "        vertical-align: top;\n",
       "    }\n",
       "\n",
       "    .dataframe thead th {\n",
       "        text-align: right;\n",
       "    }\n",
       "</style>\n",
       "<table border=\"1\" class=\"dataframe\">\n",
       "  <thead>\n",
       "    <tr style=\"text-align: right;\">\n",
       "      <th></th>\n",
       "      <th>fips</th>\n",
       "      <th>county</th>\n",
       "      <th>confirmed_cases</th>\n",
       "      <th>deaths</th>\n",
       "    </tr>\n",
       "  </thead>\n",
       "  <tbody>\n",
       "    <tr>\n",
       "      <td>0</td>\n",
       "      <td>001</td>\n",
       "      <td>Alameda</td>\n",
       "      <td>768</td>\n",
       "      <td>20</td>\n",
       "    </tr>\n",
       "    <tr>\n",
       "      <td>1</td>\n",
       "      <td>003</td>\n",
       "      <td>Alpine</td>\n",
       "      <td>2</td>\n",
       "      <td>0</td>\n",
       "    </tr>\n",
       "    <tr>\n",
       "      <td>2</td>\n",
       "      <td>005</td>\n",
       "      <td>Amador</td>\n",
       "      <td>7</td>\n",
       "      <td>0</td>\n",
       "    </tr>\n",
       "    <tr>\n",
       "      <td>3</td>\n",
       "      <td>007</td>\n",
       "      <td>Butte</td>\n",
       "      <td>14</td>\n",
       "      <td>0</td>\n",
       "    </tr>\n",
       "    <tr>\n",
       "      <td>4</td>\n",
       "      <td>009</td>\n",
       "      <td>Calaveras</td>\n",
       "      <td>8</td>\n",
       "      <td>0</td>\n",
       "    </tr>\n",
       "  </tbody>\n",
       "</table>\n",
       "</div>"
      ],
      "text/plain": [
       "  fips     county  confirmed_cases  deaths\n",
       "0  001    Alameda              768      20\n",
       "1  003     Alpine                2       0\n",
       "2  005     Amador                7       0\n",
       "3  007      Butte               14       0\n",
       "4  009  Calaveras                8       0"
      ]
     },
     "execution_count": 13,
     "metadata": {},
     "output_type": "execute_result"
    }
   ],
   "source": [
    "counties.head()"
   ]
  },
  {
   "cell_type": "markdown",
   "metadata": {},
   "source": [
    "---"
   ]
  },
  {
   "cell_type": "markdown",
   "metadata": {},
   "source": [
    "### CA county geography"
   ]
  },
  {
   "cell_type": "code",
   "execution_count": 14,
   "metadata": {},
   "outputs": [],
   "source": [
    "county_geo = gpd.read_file('/Users/mhustiles/data/data/gis/ca-counties.geojson')"
   ]
  },
  {
   "cell_type": "code",
   "execution_count": 15,
   "metadata": {},
   "outputs": [],
   "source": [
    "county_geo.columns = county_geo.columns.str.lower()"
   ]
  },
  {
   "cell_type": "code",
   "execution_count": 16,
   "metadata": {},
   "outputs": [
    {
     "data": {
      "text/plain": [
       "58"
      ]
     },
     "execution_count": 16,
     "metadata": {},
     "output_type": "execute_result"
    }
   ],
   "source": [
    "len(county_geo)"
   ]
  },
  {
   "cell_type": "markdown",
   "metadata": {},
   "source": [
    "---"
   ]
  },
  {
   "cell_type": "markdown",
   "metadata": {},
   "source": [
    "### Merge with other dataframes"
   ]
  },
  {
   "cell_type": "code",
   "execution_count": 17,
   "metadata": {},
   "outputs": [],
   "source": [
    "county_geo_pop = county_geo.merge(pop, left_on='name', right_on='county', how='left')"
   ]
  },
  {
   "cell_type": "code",
   "execution_count": 18,
   "metadata": {},
   "outputs": [],
   "source": [
    "county_geo_pop_covid = county_geo_pop.merge(counties, on='county', how='left')"
   ]
  },
  {
   "cell_type": "code",
   "execution_count": 19,
   "metadata": {},
   "outputs": [],
   "source": [
    "county_geo_pop_covid_all = county_geo_pop_covid.merge(hcworkers, on='county', how='left')"
   ]
  },
  {
   "cell_type": "markdown",
   "metadata": {},
   "source": [
    "---"
   ]
  },
  {
   "cell_type": "code",
   "execution_count": 20,
   "metadata": {},
   "outputs": [],
   "source": [
    "workers = pd.DataFrame(county_geo_pop_covid_all[['fips_x', 'name', 'total_beds', \\\n",
    "                                    'population', 'confirmed_cases', \\\n",
    "                                    'healthcareworker', 'deaths']])"
   ]
  },
  {
   "cell_type": "code",
   "execution_count": 21,
   "metadata": {},
   "outputs": [],
   "source": [
    "workers.rename(columns={\"fips_x\": \"fips\"}, inplace=True)"
   ]
  },
  {
   "cell_type": "code",
   "execution_count": 22,
   "metadata": {},
   "outputs": [],
   "source": [
    "workers['hc_cases_share'] = ((workers.healthcareworker / workers.confirmed_cases)*100).round(2)\n",
    "workers['hc_per_100k_pop'] = ((workers.healthcareworker * 100000)/workers.population).round(2)\n",
    "workers['hc_per_100_hosp_beds'] = ((workers.healthcareworker * 100)/workers.total_beds).round(2)"
   ]
  },
  {
   "cell_type": "code",
   "execution_count": 23,
   "metadata": {},
   "outputs": [],
   "source": [
    "workersout = workers[workers['healthcareworker'] > 5].sort_values(by='hc_per_100_hosp_beds', ascending=False)"
   ]
  },
  {
   "cell_type": "code",
   "execution_count": 24,
   "metadata": {},
   "outputs": [
    {
     "data": {
      "text/html": [
       "<div>\n",
       "<style scoped>\n",
       "    .dataframe tbody tr th:only-of-type {\n",
       "        vertical-align: middle;\n",
       "    }\n",
       "\n",
       "    .dataframe tbody tr th {\n",
       "        vertical-align: top;\n",
       "    }\n",
       "\n",
       "    .dataframe thead th {\n",
       "        text-align: right;\n",
       "    }\n",
       "</style>\n",
       "<table border=\"1\" class=\"dataframe\">\n",
       "  <thead>\n",
       "    <tr style=\"text-align: right;\">\n",
       "      <th></th>\n",
       "      <th>fips</th>\n",
       "      <th>name</th>\n",
       "      <th>total_beds</th>\n",
       "      <th>population</th>\n",
       "      <th>confirmed_cases</th>\n",
       "      <th>healthcareworker</th>\n",
       "      <th>deaths</th>\n",
       "      <th>hc_cases_share</th>\n",
       "      <th>hc_per_100k_pop</th>\n",
       "      <th>hc_per_100_hosp_beds</th>\n",
       "    </tr>\n",
       "  </thead>\n",
       "  <tbody>\n",
       "    <tr>\n",
       "      <td>53</td>\n",
       "      <td>06087</td>\n",
       "      <td>Santa Cruz</td>\n",
       "      <td>372.0</td>\n",
       "      <td>273765.0</td>\n",
       "      <td>80.0</td>\n",
       "      <td>13.0</td>\n",
       "      <td>1.0</td>\n",
       "      <td>16.25</td>\n",
       "      <td>4.75</td>\n",
       "      <td>3.49</td>\n",
       "    </tr>\n",
       "    <tr>\n",
       "      <td>35</td>\n",
       "      <td>06057</td>\n",
       "      <td>Nevada</td>\n",
       "      <td>176.0</td>\n",
       "      <td>99092.0</td>\n",
       "      <td>34.0</td>\n",
       "      <td>6.0</td>\n",
       "      <td>1.0</td>\n",
       "      <td>17.65</td>\n",
       "      <td>6.05</td>\n",
       "      <td>3.41</td>\n",
       "    </tr>\n",
       "    <tr>\n",
       "      <td>3</td>\n",
       "      <td>06083</td>\n",
       "      <td>Santa Barbara</td>\n",
       "      <td>1089.0</td>\n",
       "      <td>443738.0</td>\n",
       "      <td>260.0</td>\n",
       "      <td>37.0</td>\n",
       "      <td>2.0</td>\n",
       "      <td>14.23</td>\n",
       "      <td>8.34</td>\n",
       "      <td>3.40</td>\n",
       "    </tr>\n",
       "    <tr>\n",
       "      <td>55</td>\n",
       "      <td>06023</td>\n",
       "      <td>Humboldt</td>\n",
       "      <td>299.0</td>\n",
       "      <td>135768.0</td>\n",
       "      <td>50.0</td>\n",
       "      <td>10.0</td>\n",
       "      <td>0.0</td>\n",
       "      <td>20.00</td>\n",
       "      <td>7.37</td>\n",
       "      <td>3.34</td>\n",
       "    </tr>\n",
       "    <tr>\n",
       "      <td>20</td>\n",
       "      <td>06073</td>\n",
       "      <td>San Diego</td>\n",
       "      <td>7361.0</td>\n",
       "      <td>3302833.0</td>\n",
       "      <td>1693.0</td>\n",
       "      <td>246.0</td>\n",
       "      <td>44.0</td>\n",
       "      <td>14.53</td>\n",
       "      <td>7.45</td>\n",
       "      <td>3.34</td>\n",
       "    </tr>\n",
       "    <tr>\n",
       "      <td>6</td>\n",
       "      <td>06061</td>\n",
       "      <td>Placer</td>\n",
       "      <td>748.0</td>\n",
       "      <td>380077.0</td>\n",
       "      <td>123.0</td>\n",
       "      <td>25.0</td>\n",
       "      <td>4.0</td>\n",
       "      <td>20.33</td>\n",
       "      <td>6.58</td>\n",
       "      <td>3.34</td>\n",
       "    </tr>\n",
       "    <tr>\n",
       "      <td>36</td>\n",
       "      <td>06077</td>\n",
       "      <td>San Joaquin</td>\n",
       "      <td>1243.0</td>\n",
       "      <td>732212.0</td>\n",
       "      <td>257.0</td>\n",
       "      <td>41.0</td>\n",
       "      <td>14.0</td>\n",
       "      <td>15.95</td>\n",
       "      <td>5.60</td>\n",
       "      <td>3.30</td>\n",
       "    </tr>\n",
       "    <tr>\n",
       "      <td>41</td>\n",
       "      <td>06013</td>\n",
       "      <td>Contra Costa</td>\n",
       "      <td>1803.0</td>\n",
       "      <td>1133247.0</td>\n",
       "      <td>511.0</td>\n",
       "      <td>56.0</td>\n",
       "      <td>9.0</td>\n",
       "      <td>10.96</td>\n",
       "      <td>4.94</td>\n",
       "      <td>3.11</td>\n",
       "    </tr>\n",
       "    <tr>\n",
       "      <td>12</td>\n",
       "      <td>06085</td>\n",
       "      <td>Santa Clara</td>\n",
       "      <td>3740.0</td>\n",
       "      <td>1922200.0</td>\n",
       "      <td>1484.0</td>\n",
       "      <td>109.0</td>\n",
       "      <td>50.0</td>\n",
       "      <td>7.35</td>\n",
       "      <td>5.67</td>\n",
       "      <td>2.91</td>\n",
       "    </tr>\n",
       "    <tr>\n",
       "      <td>34</td>\n",
       "      <td>06081</td>\n",
       "      <td>San Mateo</td>\n",
       "      <td>1720.0</td>\n",
       "      <td>765935.0</td>\n",
       "      <td>638.0</td>\n",
       "      <td>46.0</td>\n",
       "      <td>21.0</td>\n",
       "      <td>7.21</td>\n",
       "      <td>6.01</td>\n",
       "      <td>2.67</td>\n",
       "    </tr>\n",
       "    <tr>\n",
       "      <td>16</td>\n",
       "      <td>06067</td>\n",
       "      <td>Sacramento</td>\n",
       "      <td>3465.0</td>\n",
       "      <td>1510023.0</td>\n",
       "      <td>653.0</td>\n",
       "      <td>78.0</td>\n",
       "      <td>24.0</td>\n",
       "      <td>11.94</td>\n",
       "      <td>5.17</td>\n",
       "      <td>2.25</td>\n",
       "    </tr>\n",
       "    <tr>\n",
       "      <td>49</td>\n",
       "      <td>06037</td>\n",
       "      <td>Los Angeles</td>\n",
       "      <td>27111.0</td>\n",
       "      <td>10098052.0</td>\n",
       "      <td>8453.0</td>\n",
       "      <td>596.0</td>\n",
       "      <td>244.0</td>\n",
       "      <td>7.05</td>\n",
       "      <td>5.90</td>\n",
       "      <td>2.20</td>\n",
       "    </tr>\n",
       "    <tr>\n",
       "      <td>50</td>\n",
       "      <td>06001</td>\n",
       "      <td>Alameda</td>\n",
       "      <td>3746.0</td>\n",
       "      <td>1643700.0</td>\n",
       "      <td>768.0</td>\n",
       "      <td>81.0</td>\n",
       "      <td>20.0</td>\n",
       "      <td>10.55</td>\n",
       "      <td>4.93</td>\n",
       "      <td>2.16</td>\n",
       "    </tr>\n",
       "    <tr>\n",
       "      <td>42</td>\n",
       "      <td>06111</td>\n",
       "      <td>Ventura</td>\n",
       "      <td>1623.0</td>\n",
       "      <td>848112.0</td>\n",
       "      <td>298.0</td>\n",
       "      <td>31.0</td>\n",
       "      <td>10.0</td>\n",
       "      <td>10.40</td>\n",
       "      <td>3.66</td>\n",
       "      <td>1.91</td>\n",
       "    </tr>\n",
       "    <tr>\n",
       "      <td>0</td>\n",
       "      <td>06059</td>\n",
       "      <td>Orange</td>\n",
       "      <td>8016.0</td>\n",
       "      <td>3164182.0</td>\n",
       "      <td>1138.0</td>\n",
       "      <td>146.0</td>\n",
       "      <td>17.0</td>\n",
       "      <td>12.83</td>\n",
       "      <td>4.61</td>\n",
       "      <td>1.82</td>\n",
       "    </tr>\n",
       "    <tr>\n",
       "      <td>5</td>\n",
       "      <td>06053</td>\n",
       "      <td>Monterey</td>\n",
       "      <td>801.0</td>\n",
       "      <td>433212.0</td>\n",
       "      <td>79.0</td>\n",
       "      <td>12.0</td>\n",
       "      <td>3.0</td>\n",
       "      <td>15.19</td>\n",
       "      <td>2.77</td>\n",
       "      <td>1.50</td>\n",
       "    </tr>\n",
       "    <tr>\n",
       "      <td>52</td>\n",
       "      <td>06075</td>\n",
       "      <td>San Francisco</td>\n",
       "      <td>4670.0</td>\n",
       "      <td>870044.0</td>\n",
       "      <td>797.0</td>\n",
       "      <td>65.0</td>\n",
       "      <td>13.0</td>\n",
       "      <td>8.16</td>\n",
       "      <td>7.47</td>\n",
       "      <td>1.39</td>\n",
       "    </tr>\n",
       "    <tr>\n",
       "      <td>19</td>\n",
       "      <td>06107</td>\n",
       "      <td>Tulare</td>\n",
       "      <td>2086.0</td>\n",
       "      <td>460477.0</td>\n",
       "      <td>203.0</td>\n",
       "      <td>20.0</td>\n",
       "      <td>11.0</td>\n",
       "      <td>9.85</td>\n",
       "      <td>4.34</td>\n",
       "      <td>0.96</td>\n",
       "    </tr>\n",
       "    <tr>\n",
       "      <td>11</td>\n",
       "      <td>06097</td>\n",
       "      <td>Sonoma</td>\n",
       "      <td>1902.0</td>\n",
       "      <td>501317.0</td>\n",
       "      <td>145.0</td>\n",
       "      <td>18.0</td>\n",
       "      <td>2.0</td>\n",
       "      <td>12.41</td>\n",
       "      <td>3.59</td>\n",
       "      <td>0.95</td>\n",
       "    </tr>\n",
       "    <tr>\n",
       "      <td>37</td>\n",
       "      <td>06071</td>\n",
       "      <td>San Bernardino</td>\n",
       "      <td>5988.0</td>\n",
       "      <td>2135413.0</td>\n",
       "      <td>810.0</td>\n",
       "      <td>53.0</td>\n",
       "      <td>25.0</td>\n",
       "      <td>6.54</td>\n",
       "      <td>2.48</td>\n",
       "      <td>0.89</td>\n",
       "    </tr>\n",
       "  </tbody>\n",
       "</table>\n",
       "</div>"
      ],
      "text/plain": [
       "     fips            name  total_beds  population  confirmed_cases  \\\n",
       "53  06087      Santa Cruz       372.0    273765.0             80.0   \n",
       "35  06057          Nevada       176.0     99092.0             34.0   \n",
       "3   06083   Santa Barbara      1089.0    443738.0            260.0   \n",
       "55  06023        Humboldt       299.0    135768.0             50.0   \n",
       "20  06073       San Diego      7361.0   3302833.0           1693.0   \n",
       "6   06061          Placer       748.0    380077.0            123.0   \n",
       "36  06077     San Joaquin      1243.0    732212.0            257.0   \n",
       "41  06013    Contra Costa      1803.0   1133247.0            511.0   \n",
       "12  06085     Santa Clara      3740.0   1922200.0           1484.0   \n",
       "34  06081       San Mateo      1720.0    765935.0            638.0   \n",
       "16  06067      Sacramento      3465.0   1510023.0            653.0   \n",
       "49  06037     Los Angeles     27111.0  10098052.0           8453.0   \n",
       "50  06001         Alameda      3746.0   1643700.0            768.0   \n",
       "42  06111         Ventura      1623.0    848112.0            298.0   \n",
       "0   06059          Orange      8016.0   3164182.0           1138.0   \n",
       "5   06053        Monterey       801.0    433212.0             79.0   \n",
       "52  06075   San Francisco      4670.0    870044.0            797.0   \n",
       "19  06107          Tulare      2086.0    460477.0            203.0   \n",
       "11  06097          Sonoma      1902.0    501317.0            145.0   \n",
       "37  06071  San Bernardino      5988.0   2135413.0            810.0   \n",
       "\n",
       "    healthcareworker  deaths  hc_cases_share  hc_per_100k_pop  \\\n",
       "53              13.0     1.0           16.25             4.75   \n",
       "35               6.0     1.0           17.65             6.05   \n",
       "3               37.0     2.0           14.23             8.34   \n",
       "55              10.0     0.0           20.00             7.37   \n",
       "20             246.0    44.0           14.53             7.45   \n",
       "6               25.0     4.0           20.33             6.58   \n",
       "36              41.0    14.0           15.95             5.60   \n",
       "41              56.0     9.0           10.96             4.94   \n",
       "12             109.0    50.0            7.35             5.67   \n",
       "34              46.0    21.0            7.21             6.01   \n",
       "16              78.0    24.0           11.94             5.17   \n",
       "49             596.0   244.0            7.05             5.90   \n",
       "50              81.0    20.0           10.55             4.93   \n",
       "42              31.0    10.0           10.40             3.66   \n",
       "0              146.0    17.0           12.83             4.61   \n",
       "5               12.0     3.0           15.19             2.77   \n",
       "52              65.0    13.0            8.16             7.47   \n",
       "19              20.0    11.0            9.85             4.34   \n",
       "11              18.0     2.0           12.41             3.59   \n",
       "37              53.0    25.0            6.54             2.48   \n",
       "\n",
       "    hc_per_100_hosp_beds  \n",
       "53                  3.49  \n",
       "35                  3.41  \n",
       "3                   3.40  \n",
       "55                  3.34  \n",
       "20                  3.34  \n",
       "6                   3.34  \n",
       "36                  3.30  \n",
       "41                  3.11  \n",
       "12                  2.91  \n",
       "34                  2.67  \n",
       "16                  2.25  \n",
       "49                  2.20  \n",
       "50                  2.16  \n",
       "42                  1.91  \n",
       "0                   1.82  \n",
       "5                   1.50  \n",
       "52                  1.39  \n",
       "19                  0.96  \n",
       "11                  0.95  \n",
       "37                  0.89  "
      ]
     },
     "execution_count": 24,
     "metadata": {},
     "output_type": "execute_result"
    }
   ],
   "source": [
    "workersout.head(20)"
   ]
  },
  {
   "cell_type": "markdown",
   "metadata": {},
   "source": [
    "### Statewide share of confirmed COVID cases that are healthcare workers"
   ]
  },
  {
   "cell_type": "code",
   "execution_count": 25,
   "metadata": {},
   "outputs": [
    {
     "data": {
      "text/plain": [
       "'8.63%'"
      ]
     },
     "execution_count": 25,
     "metadata": {},
     "output_type": "execute_result"
    }
   ],
   "source": [
    "'{:,.2f}%'.format((workersout.healthcareworker.sum() / workersout.confirmed_cases.sum()*100))"
   ]
  },
  {
   "cell_type": "code",
   "execution_count": 26,
   "metadata": {},
   "outputs": [],
   "source": [
    "workersout.to_csv('output/healthcareworkers.csv')"
   ]
  },
  {
   "cell_type": "code",
   "execution_count": null,
   "metadata": {},
   "outputs": [],
   "source": []
  }
 ],
 "metadata": {
  "kernelspec": {
   "display_name": "Python 3",
   "language": "python",
   "name": "python3"
  },
  "language_info": {
   "codemirror_mode": {
    "name": "ipython",
    "version": 3
   },
   "file_extension": ".py",
   "mimetype": "text/x-python",
   "name": "python",
   "nbconvert_exporter": "python",
   "pygments_lexer": "ipython3",
   "version": "3.7.4"
  }
 },
 "nbformat": 4,
 "nbformat_minor": 2
}
