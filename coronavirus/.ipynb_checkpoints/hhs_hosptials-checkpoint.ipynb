{
 "cells": [
  {
   "cell_type": "markdown",
   "metadata": {},
   "source": [
    "# Analyzing HHS hospital occupancy data"
   ]
  },
  {
   "cell_type": "markdown",
   "metadata": {},
   "source": [
    "#### An analysis of HHS hospital data, by @datagraphics and @stiles.\n",
    "\n",
    "#### **Questions?** [matt.stiles@latimes.com](matt.stiles@latimes.com) \\\\ 310.529.8749"
   ]
  },
  {
   "cell_type": "markdown",
   "metadata": {},
   "source": [
    "---"
   ]
  },
  {
   "cell_type": "markdown",
   "metadata": {},
   "source": [
    "### Import Python tools"
   ]
  },
  {
   "cell_type": "code",
   "execution_count": 1,
   "metadata": {},
   "outputs": [
    {
     "data": {
      "text/plain": [
       "DataTransformerRegistry.enable('default')"
      ]
     },
     "execution_count": 1,
     "metadata": {},
     "output_type": "execute_result"
    }
   ],
   "source": [
    "import pandas as pd\n",
    "import geopandas as gpd\n",
    "import jenkspy\n",
    "import matplotlib.pyplot as plt\n",
    "%matplotlib inline\n",
    "import json\n",
    "import numpy as np\n",
    "import altair as alt\n",
    "import altair_latimes as lat\n",
    "alt.themes.register('latimes', lat.theme)\n",
    "alt.themes.enable('latimes')\n",
    "pd.options.display.max_columns = 50\n",
    "pd.options.display.max_rows = 1000\n",
    "alt.data_transformers.disable_max_rows()"
   ]
  },
  {
   "cell_type": "markdown",
   "metadata": {},
   "source": [
    "---"
   ]
  },
  {
   "cell_type": "markdown",
   "metadata": {},
   "source": [
    "### Define cities and regions metadata"
   ]
  },
  {
   "cell_type": "code",
   "execution_count": 2,
   "metadata": {},
   "outputs": [],
   "source": [
    "metadata_df = pd.read_csv(\"input/city-metadata.csv\", dtype={\"fips\": str})"
   ]
  },
  {
   "cell_type": "code",
   "execution_count": 3,
   "metadata": {},
   "outputs": [],
   "source": [
    "metadata_df = metadata_df[[\"county\", \"fips\", \"population\", \"region\"]]"
   ]
  },
  {
   "cell_type": "code",
   "execution_count": 4,
   "metadata": {},
   "outputs": [],
   "source": [
    "socal = ['Los Angeles', 'Orange', 'Ventura', 'San Bernardino', 'Riverside']\n",
    "bayarea = ['Alameda', 'Contra Costa', 'Marin', 'Napa', 'San Francisco', 'San Mateo', 'Santa Clara', 'Solano', 'Sonoma']"
   ]
  },
  {
   "cell_type": "markdown",
   "metadata": {},
   "source": [
    "### Get the latest url from the HHS API and read in the latest dataframe"
   ]
  },
  {
   "cell_type": "code",
   "execution_count": 5,
   "metadata": {},
   "outputs": [],
   "source": [
    "# Data dictionary: https://healthdata.gov/covid-19-reported-patient-impact-and-hospital-capacity-facility-data-dictionary\n",
    "# Data source: https://healthdata.gov/dataset/covid-19-reported-patient-impact-and-hospital-capacity-facility"
   ]
  },
  {
   "cell_type": "code",
   "execution_count": 6,
   "metadata": {},
   "outputs": [],
   "source": [
    "metadata = pd.read_json('https://healthdata.gov/api/3/action/package_show?id=d475cc4e-83cd-4c16-be57-9105f300e0bc&page=0').result[0]['resources']"
   ]
  },
  {
   "cell_type": "code",
   "execution_count": 7,
   "metadata": {},
   "outputs": [],
   "source": [
    "src = pd.read_csv(metadata[0]['url'],\\\n",
    "                 dtype={'fips_code':str, 'zip':str}, infer_datetime_format=True, parse_dates=True)"
   ]
  },
  {
   "cell_type": "code",
   "execution_count": 8,
   "metadata": {},
   "outputs": [],
   "source": [
    "# src = pd.read_csv('https://healthdata.gov/sites/default/files/reported_hospital_capacity_admissions_facility_level_weekly_average_timeseries_20201228.csv',\\\n",
    "# dtype={'fips_code':str, 'zip':str}, infer_datetime_format=True, parse_dates=True)"
   ]
  },
  {
   "cell_type": "code",
   "execution_count": 104,
   "metadata": {},
   "outputs": [],
   "source": [
    "df = src.copy()"
   ]
  },
  {
   "cell_type": "code",
   "execution_count": 105,
   "metadata": {},
   "outputs": [],
   "source": [
    "ca_data = pd.DataFrame(df.loc[df.state == \"CA\"])"
   ]
  },
  {
   "cell_type": "code",
   "execution_count": 106,
   "metadata": {},
   "outputs": [],
   "source": [
    "ca_data[\"fips\"] = ca_data[\"fips_code\"].str[2:5]"
   ]
  },
  {
   "cell_type": "code",
   "execution_count": 107,
   "metadata": {},
   "outputs": [],
   "source": [
    "ca_timeseries = pd.merge(\n",
    "    ca_data, metadata_df, how=\"left\", left_on=\"fips\", right_on=\"fips\"\n",
    ")"
   ]
  },
  {
   "cell_type": "markdown",
   "metadata": {},
   "source": [
    "### What's the most recent collection week?"
   ]
  },
  {
   "cell_type": "code",
   "execution_count": 13,
   "metadata": {},
   "outputs": [],
   "source": [
    "ca_timeseries['collection_week'] = pd.to_datetime(ca_timeseries['collection_week'])"
   ]
  },
  {
   "cell_type": "code",
   "execution_count": 14,
   "metadata": {},
   "outputs": [
    {
     "data": {
      "text/plain": [
       "Timestamp('2020-12-25 00:00:00')"
      ]
     },
     "execution_count": 14,
     "metadata": {},
     "output_type": "execute_result"
    }
   ],
   "source": [
    "ca_timeseries['collection_week'].max()"
   ]
  },
  {
   "cell_type": "markdown",
   "metadata": {},
   "source": [
    "### Get rid of the -999999 suppressed values"
   ]
  },
  {
   "cell_type": "code",
   "execution_count": 15,
   "metadata": {},
   "outputs": [],
   "source": [
    "ca_timeseries = ca_timeseries.replace([-999999.0], [0])"
   ]
  },
  {
   "cell_type": "code",
   "execution_count": 16,
   "metadata": {},
   "outputs": [],
   "source": [
    "ca_timeseries['hospital_name'] = (ca_timeseries['hospital_name']).str.title()\n",
    "ca_timeseries['hospital_name'] = (ca_timeseries['hospital_name']).str.replace(' Of ', ' of ').str.replace('Hlth', 'Health').str.replace(' La', ' LA')"
   ]
  },
  {
   "cell_type": "markdown",
   "metadata": {},
   "source": [
    "---"
   ]
  },
  {
   "cell_type": "markdown",
   "metadata": {},
   "source": [
    "## Calculate some hospitalization/covid rates"
   ]
  },
  {
   "cell_type": "markdown",
   "metadata": {},
   "source": [
    "#### Calculate daily average of total staffed ICU beds"
   ]
  },
  {
   "cell_type": "code",
   "execution_count": 17,
   "metadata": {},
   "outputs": [],
   "source": [
    "ca_timeseries[\"total_staffed_adult_icu_beds\"] = round((\n",
    "    ca_timeseries[\"total_staffed_adult_icu_beds_7_day_sum\"]\n",
    "    / ca_timeseries[\"total_staffed_adult_icu_beds_7_day_coverage\"]\n",
    "),0)"
   ]
  },
  {
   "cell_type": "markdown",
   "metadata": {},
   "source": [
    "#### Calculate daily average of occupied ICU beds"
   ]
  },
  {
   "cell_type": "code",
   "execution_count": 18,
   "metadata": {},
   "outputs": [],
   "source": [
    "ca_timeseries[\"total_occupied_adult_icu_beds\"] = round((\n",
    "    ca_timeseries[\"staffed_adult_icu_bed_occupancy_7_day_sum\"]\n",
    "    / ca_timeseries[\"staffed_adult_icu_bed_occupancy_7_day_coverage\"]\n",
    "),0)"
   ]
  },
  {
   "cell_type": "markdown",
   "metadata": {},
   "source": [
    "#### Calculate daily average of COVID patients in the ICU"
   ]
  },
  {
   "cell_type": "code",
   "execution_count": 19,
   "metadata": {},
   "outputs": [],
   "source": [
    "ca_timeseries[\"total_covid_icu_patients\"] = round((\n",
    "    ca_timeseries[\"staffed_icu_adult_patients_confirmed_and_suspected_covid_7_day_sum\"]\n",
    "    / ca_timeseries[\n",
    "        \"staffed_icu_adult_patients_confirmed_and_suspected_covid_7_day_coverage\"\n",
    "    ]\n",
    "),0)"
   ]
  },
  {
   "cell_type": "markdown",
   "metadata": {},
   "source": [
    "#### Number of ICU beds available"
   ]
  },
  {
   "cell_type": "code",
   "execution_count": 20,
   "metadata": {},
   "outputs": [],
   "source": [
    "ca_timeseries[\"total_available_adult_icu_beds\"] = round((\n",
    "    ca_timeseries[\"total_staffed_adult_icu_beds\"]\n",
    "    - ca_timeseries[\"total_occupied_adult_icu_beds\"]\n",
    "),0)"
   ]
  },
  {
   "cell_type": "markdown",
   "metadata": {},
   "source": [
    "#### Calculate daily ICU occupancy as percentage"
   ]
  },
  {
   "cell_type": "code",
   "execution_count": 21,
   "metadata": {},
   "outputs": [],
   "source": [
    "ca_timeseries[\"pct_occupied_adult_icu_beds\"] = round((\n",
    "    ca_timeseries[\"total_occupied_adult_icu_beds\"]\n",
    "    / ca_timeseries[\"total_staffed_adult_icu_beds\"]\n",
    "),2)"
   ]
  },
  {
   "cell_type": "markdown",
   "metadata": {},
   "source": [
    "#### If a hospital reports 0 staffed adult ICU beds, drop them from the dataframe"
   ]
  },
  {
   "cell_type": "code",
   "execution_count": 22,
   "metadata": {},
   "outputs": [],
   "source": [
    "filtered_timeseries = ca_timeseries[\n",
    "    (ca_timeseries.total_staffed_adult_icu_beds_7_day_sum.notnull())\n",
    "    & (ca_timeseries.total_staffed_adult_icu_beds_7_day_sum != 0)\n",
    "].sort_values(\"total_staffed_adult_icu_beds_7_day_sum\")"
   ]
  },
  {
   "cell_type": "markdown",
   "metadata": {},
   "source": [
    "#### How many patients?"
   ]
  },
  {
   "cell_type": "code",
   "execution_count": 23,
   "metadata": {},
   "outputs": [],
   "source": [
    "ca_timeseries[\"all_patients\"] = round((\n",
    "    ca_timeseries[\"inpatient_beds_used_7_day_sum\"]\n",
    "    / ca_timeseries[\"inpatient_beds_used_7_day_coverage\"]\n",
    "),0)"
   ]
  },
  {
   "cell_type": "markdown",
   "metadata": {},
   "source": [
    "#### How many Covid patients"
   ]
  },
  {
   "cell_type": "code",
   "execution_count": 24,
   "metadata": {},
   "outputs": [],
   "source": [
    "ca_timeseries[\"total_adult_covid_patients\"] = (\n",
    "    ca_timeseries[\n",
    "        \"total_adult_patients_hospitalized_confirmed_and_suspected_covid_7_day_sum\"\n",
    "    ]\n",
    "    / ca_timeseries[\n",
    "        \"total_adult_patients_hospitalized_confirmed_and_suspected_covid_7_day_coverage\"\n",
    "    ]\n",
    ")"
   ]
  },
  {
   "cell_type": "code",
   "execution_count": 25,
   "metadata": {},
   "outputs": [],
   "source": [
    "ca_timeseries[\"total_pediatric_covid_patients\"] = (\n",
    "    ca_timeseries[\n",
    "        \"total_pediatric_patients_hospitalized_confirmed_and_suspected_covid_7_day_sum\"\n",
    "    ]\n",
    "    / ca_timeseries[\n",
    "        \"total_pediatric_patients_hospitalized_confirmed_and_suspected_covid_7_day_coverage\"\n",
    "    ]\n",
    ")"
   ]
  },
  {
   "cell_type": "code",
   "execution_count": 26,
   "metadata": {},
   "outputs": [],
   "source": [
    "ca_timeseries[\"total_covid_patients\"] = round(ca_timeseries[\n",
    "    \"total_adult_covid_patients\"\n",
    "] + ca_timeseries[\"total_pediatric_covid_patients\"],0).fillna(0)"
   ]
  },
  {
   "cell_type": "markdown",
   "metadata": {},
   "source": [
    "#### What's the rate of Covid patients?"
   ]
  },
  {
   "cell_type": "code",
   "execution_count": 27,
   "metadata": {},
   "outputs": [],
   "source": [
    "ca_timeseries[\"covid_patients_share\"] = round((\n",
    "    ca_timeseries[\"total_covid_patients\"] / ca_timeseries[\"all_patients\"]\n",
    "),2)"
   ]
  },
  {
   "cell_type": "code",
   "execution_count": 28,
   "metadata": {},
   "outputs": [],
   "source": [
    "ca_timeseries = ca_timeseries[ca_timeseries['all_patients'] > 0]"
   ]
  },
  {
   "cell_type": "markdown",
   "metadata": {},
   "source": [
    "---"
   ]
  },
  {
   "cell_type": "markdown",
   "metadata": {},
   "source": [
    "### Trim to the columns we want"
   ]
  },
  {
   "cell_type": "code",
   "execution_count": 109,
   "metadata": {},
   "outputs": [
    {
     "ename": "KeyError",
     "evalue": "\"['all_patients', 'covid_patients_share', 'total_covid_icu_patients', 'pct_occupied_adult_icu_beds', 'total_covid_patients', 'total_available_adult_icu_beds'] not in index\"",
     "output_type": "error",
     "traceback": [
      "\u001b[0;31m---------------------------------------------------------------------------\u001b[0m",
      "\u001b[0;31mKeyError\u001b[0m                                  Traceback (most recent call last)",
      "\u001b[0;32m<ipython-input-109-b7251b68bdcb>\u001b[0m in \u001b[0;36m<module>\u001b[0;34m\u001b[0m\n\u001b[1;32m     13\u001b[0m         \u001b[0;34m\"all_patients\"\u001b[0m\u001b[0;34m,\u001b[0m\u001b[0;34m\u001b[0m\u001b[0;34m\u001b[0m\u001b[0m\n\u001b[1;32m     14\u001b[0m         \u001b[0;34m\"covid_patients_share\"\u001b[0m\u001b[0;34m,\u001b[0m\u001b[0;34m\u001b[0m\u001b[0;34m\u001b[0m\u001b[0m\n\u001b[0;32m---> 15\u001b[0;31m         \u001b[0;34m\"region\"\u001b[0m\u001b[0;34m\u001b[0m\u001b[0;34m\u001b[0m\u001b[0m\n\u001b[0m\u001b[1;32m     16\u001b[0m     ]\n\u001b[1;32m     17\u001b[0m \u001b[0;34m]\u001b[0m\u001b[0;34m.\u001b[0m\u001b[0mrename\u001b[0m\u001b[0;34m(\u001b[0m\u001b[0;34m\u001b[0m\u001b[0;34m\u001b[0m\u001b[0m\n",
      "\u001b[0;32m/opt/anaconda3/lib/python3.7/site-packages/pandas/core/frame.py\u001b[0m in \u001b[0;36m__getitem__\u001b[0;34m(self, key)\u001b[0m\n\u001b[1;32m   2804\u001b[0m             \u001b[0;32mif\u001b[0m \u001b[0mis_iterator\u001b[0m\u001b[0;34m(\u001b[0m\u001b[0mkey\u001b[0m\u001b[0;34m)\u001b[0m\u001b[0;34m:\u001b[0m\u001b[0;34m\u001b[0m\u001b[0;34m\u001b[0m\u001b[0m\n\u001b[1;32m   2805\u001b[0m                 \u001b[0mkey\u001b[0m \u001b[0;34m=\u001b[0m \u001b[0mlist\u001b[0m\u001b[0;34m(\u001b[0m\u001b[0mkey\u001b[0m\u001b[0;34m)\u001b[0m\u001b[0;34m\u001b[0m\u001b[0;34m\u001b[0m\u001b[0m\n\u001b[0;32m-> 2806\u001b[0;31m             \u001b[0mindexer\u001b[0m \u001b[0;34m=\u001b[0m \u001b[0mself\u001b[0m\u001b[0;34m.\u001b[0m\u001b[0mloc\u001b[0m\u001b[0;34m.\u001b[0m\u001b[0m_get_listlike_indexer\u001b[0m\u001b[0;34m(\u001b[0m\u001b[0mkey\u001b[0m\u001b[0;34m,\u001b[0m \u001b[0maxis\u001b[0m\u001b[0;34m=\u001b[0m\u001b[0;36m1\u001b[0m\u001b[0;34m,\u001b[0m \u001b[0mraise_missing\u001b[0m\u001b[0;34m=\u001b[0m\u001b[0;32mTrue\u001b[0m\u001b[0;34m)\u001b[0m\u001b[0;34m[\u001b[0m\u001b[0;36m1\u001b[0m\u001b[0;34m]\u001b[0m\u001b[0;34m\u001b[0m\u001b[0;34m\u001b[0m\u001b[0m\n\u001b[0m\u001b[1;32m   2807\u001b[0m \u001b[0;34m\u001b[0m\u001b[0m\n\u001b[1;32m   2808\u001b[0m         \u001b[0;31m# take() does not accept boolean indexers\u001b[0m\u001b[0;34m\u001b[0m\u001b[0;34m\u001b[0m\u001b[0;34m\u001b[0m\u001b[0m\n",
      "\u001b[0;32m/opt/anaconda3/lib/python3.7/site-packages/pandas/core/indexing.py\u001b[0m in \u001b[0;36m_get_listlike_indexer\u001b[0;34m(self, key, axis, raise_missing)\u001b[0m\n\u001b[1;32m   1551\u001b[0m \u001b[0;34m\u001b[0m\u001b[0m\n\u001b[1;32m   1552\u001b[0m         self._validate_read_indexer(\n\u001b[0;32m-> 1553\u001b[0;31m             \u001b[0mkeyarr\u001b[0m\u001b[0;34m,\u001b[0m \u001b[0mindexer\u001b[0m\u001b[0;34m,\u001b[0m \u001b[0mo\u001b[0m\u001b[0;34m.\u001b[0m\u001b[0m_get_axis_number\u001b[0m\u001b[0;34m(\u001b[0m\u001b[0maxis\u001b[0m\u001b[0;34m)\u001b[0m\u001b[0;34m,\u001b[0m \u001b[0mraise_missing\u001b[0m\u001b[0;34m=\u001b[0m\u001b[0mraise_missing\u001b[0m\u001b[0;34m\u001b[0m\u001b[0;34m\u001b[0m\u001b[0m\n\u001b[0m\u001b[1;32m   1554\u001b[0m         )\n\u001b[1;32m   1555\u001b[0m         \u001b[0;32mreturn\u001b[0m \u001b[0mkeyarr\u001b[0m\u001b[0;34m,\u001b[0m \u001b[0mindexer\u001b[0m\u001b[0;34m\u001b[0m\u001b[0;34m\u001b[0m\u001b[0m\n",
      "\u001b[0;32m/opt/anaconda3/lib/python3.7/site-packages/pandas/core/indexing.py\u001b[0m in \u001b[0;36m_validate_read_indexer\u001b[0;34m(self, key, indexer, axis, raise_missing)\u001b[0m\n\u001b[1;32m   1644\u001b[0m             \u001b[0;32mif\u001b[0m \u001b[0;32mnot\u001b[0m \u001b[0;34m(\u001b[0m\u001b[0mself\u001b[0m\u001b[0;34m.\u001b[0m\u001b[0mname\u001b[0m \u001b[0;34m==\u001b[0m \u001b[0;34m\"loc\"\u001b[0m \u001b[0;32mand\u001b[0m \u001b[0;32mnot\u001b[0m \u001b[0mraise_missing\u001b[0m\u001b[0;34m)\u001b[0m\u001b[0;34m:\u001b[0m\u001b[0;34m\u001b[0m\u001b[0;34m\u001b[0m\u001b[0m\n\u001b[1;32m   1645\u001b[0m                 \u001b[0mnot_found\u001b[0m \u001b[0;34m=\u001b[0m \u001b[0mlist\u001b[0m\u001b[0;34m(\u001b[0m\u001b[0mset\u001b[0m\u001b[0;34m(\u001b[0m\u001b[0mkey\u001b[0m\u001b[0;34m)\u001b[0m \u001b[0;34m-\u001b[0m \u001b[0mset\u001b[0m\u001b[0;34m(\u001b[0m\u001b[0max\u001b[0m\u001b[0;34m)\u001b[0m\u001b[0;34m)\u001b[0m\u001b[0;34m\u001b[0m\u001b[0;34m\u001b[0m\u001b[0m\n\u001b[0;32m-> 1646\u001b[0;31m                 \u001b[0;32mraise\u001b[0m \u001b[0mKeyError\u001b[0m\u001b[0;34m(\u001b[0m\u001b[0;34mf\"{not_found} not in index\"\u001b[0m\u001b[0;34m)\u001b[0m\u001b[0;34m\u001b[0m\u001b[0;34m\u001b[0m\u001b[0m\n\u001b[0m\u001b[1;32m   1647\u001b[0m \u001b[0;34m\u001b[0m\u001b[0m\n\u001b[1;32m   1648\u001b[0m             \u001b[0;31m# we skip the warning on Categorical/Interval\u001b[0m\u001b[0;34m\u001b[0m\u001b[0;34m\u001b[0m\u001b[0;34m\u001b[0m\u001b[0m\n",
      "\u001b[0;31mKeyError\u001b[0m: \"['all_patients', 'covid_patients_share', 'total_covid_icu_patients', 'pct_occupied_adult_icu_beds', 'total_covid_patients', 'total_available_adult_icu_beds'] not in index\""
     ]
    }
   ],
   "source": [
    "trimmed_timeseries = ca_timeseries[\n",
    "    [\n",
    "        \"hospital_name\",\n",
    "        \"hospital_subtype\",\n",
    "        \"ccn\",\n",
    "        \"collection_week\",\n",
    "        \"county\",\n",
    "        \"fips\",\n",
    "        \"total_covid_icu_patients\",\n",
    "        \"total_available_adult_icu_beds\",\n",
    "        \"pct_occupied_adult_icu_beds\",\n",
    "        \"total_covid_patients\",\n",
    "        \"all_patients\",\n",
    "        \"covid_patients_share\",\n",
    "        \"region\"\n",
    "    ]\n",
    "].rename(\n",
    "    columns={\n",
    "        \"hospital_name\": \"hospital\",\n",
    "        \"collection_week\": \"week\",\n",
    "    }\n",
    ")"
   ]
  },
  {
   "cell_type": "markdown",
   "metadata": {},
   "source": [
    "---"
   ]
  },
  {
   "cell_type": "markdown",
   "metadata": {},
   "source": [
    "### Filter the dataframe for Los Angeles County facilities"
   ]
  },
  {
   "cell_type": "code",
   "execution_count": 30,
   "metadata": {},
   "outputs": [],
   "source": [
    "la = trimmed_timeseries[trimmed_timeseries['fips'] == '037']\n",
    "oc = trimmed_timeseries[trimmed_timeseries['fips'] == '059']"
   ]
  },
  {
   "cell_type": "markdown",
   "metadata": {},
   "source": [
    "### Filter the California dataframe to the most recent collection week"
   ]
  },
  {
   "cell_type": "code",
   "execution_count": 31,
   "metadata": {},
   "outputs": [],
   "source": [
    "current_ca = trimmed_timeseries[trimmed_timeseries['week'] == trimmed_timeseries['week'].max()].sort_values('covid_patients_share', ascending=False)"
   ]
  },
  {
   "cell_type": "code",
   "execution_count": 32,
   "metadata": {},
   "outputs": [],
   "source": [
    "current_la = la[la['week'] == la['week'].max()].sort_values('covid_patients_share', ascending=False)"
   ]
  },
  {
   "cell_type": "code",
   "execution_count": 33,
   "metadata": {},
   "outputs": [],
   "source": [
    "current_oc = oc[oc['week'] == oc['week'].max()].sort_values('covid_patients_share', ascending=False)"
   ]
  },
  {
   "cell_type": "code",
   "execution_count": 102,
   "metadata": {},
   "outputs": [],
   "source": [
    "current_ca.to_csv('output/current_ca.csv', index=False)"
   ]
  },
  {
   "cell_type": "markdown",
   "metadata": {},
   "source": [
    "### Which CA hospitals have the greatest share of covid patients? "
   ]
  },
  {
   "cell_type": "code",
   "execution_count": 34,
   "metadata": {},
   "outputs": [
    {
     "data": {
      "text/html": [
       "<div>\n",
       "<style scoped>\n",
       "    .dataframe tbody tr th:only-of-type {\n",
       "        vertical-align: middle;\n",
       "    }\n",
       "\n",
       "    .dataframe tbody tr th {\n",
       "        vertical-align: top;\n",
       "    }\n",
       "\n",
       "    .dataframe thead th {\n",
       "        text-align: right;\n",
       "    }\n",
       "</style>\n",
       "<table border=\"1\" class=\"dataframe\">\n",
       "  <thead>\n",
       "    <tr style=\"text-align: right;\">\n",
       "      <th></th>\n",
       "      <th>hospital</th>\n",
       "      <th>hospital_subtype</th>\n",
       "      <th>ccn</th>\n",
       "      <th>week</th>\n",
       "      <th>county</th>\n",
       "      <th>fips</th>\n",
       "      <th>total_covid_icu_patients</th>\n",
       "      <th>total_available_adult_icu_beds</th>\n",
       "      <th>pct_occupied_adult_icu_beds</th>\n",
       "      <th>total_covid_patients</th>\n",
       "      <th>all_patients</th>\n",
       "      <th>covid_patients_share</th>\n",
       "    </tr>\n",
       "  </thead>\n",
       "  <tbody>\n",
       "    <tr>\n",
       "      <th>237</th>\n",
       "      <td>Barstow Community Hospital</td>\n",
       "      <td>Short Term</td>\n",
       "      <td>050298</td>\n",
       "      <td>2020-12-25</td>\n",
       "      <td>San Bernardino</td>\n",
       "      <td>071</td>\n",
       "      <td>9.0</td>\n",
       "      <td>-1.0</td>\n",
       "      <td>1.11</td>\n",
       "      <td>46.0</td>\n",
       "      <td>44.0</td>\n",
       "      <td>1.05</td>\n",
       "    </tr>\n",
       "    <tr>\n",
       "      <th>104</th>\n",
       "      <td>Community Hospital of Huntington Park</td>\n",
       "      <td>Short Term</td>\n",
       "      <td>050091</td>\n",
       "      <td>2020-12-25</td>\n",
       "      <td>Los Angeles</td>\n",
       "      <td>037</td>\n",
       "      <td>9.0</td>\n",
       "      <td>0.0</td>\n",
       "      <td>1.00</td>\n",
       "      <td>45.0</td>\n",
       "      <td>49.0</td>\n",
       "      <td>0.92</td>\n",
       "    </tr>\n",
       "    <tr>\n",
       "      <th>110</th>\n",
       "      <td>Kaiser Foundation Hospital - Downey</td>\n",
       "      <td>Short Term</td>\n",
       "      <td>050139</td>\n",
       "      <td>2020-12-25</td>\n",
       "      <td>Los Angeles</td>\n",
       "      <td>037</td>\n",
       "      <td>43.0</td>\n",
       "      <td>1.0</td>\n",
       "      <td>0.98</td>\n",
       "      <td>230.0</td>\n",
       "      <td>262.0</td>\n",
       "      <td>0.88</td>\n",
       "    </tr>\n",
       "    <tr>\n",
       "      <th>76</th>\n",
       "      <td>Kaiser Foundation Hospital - Baldwin Park</td>\n",
       "      <td>Short Term</td>\n",
       "      <td>050723</td>\n",
       "      <td>2020-12-25</td>\n",
       "      <td>Los Angeles</td>\n",
       "      <td>037</td>\n",
       "      <td>26.0</td>\n",
       "      <td>0.0</td>\n",
       "      <td>1.00</td>\n",
       "      <td>161.0</td>\n",
       "      <td>188.0</td>\n",
       "      <td>0.86</td>\n",
       "    </tr>\n",
       "    <tr>\n",
       "      <th>229</th>\n",
       "      <td>Desert Valley Hospital</td>\n",
       "      <td>Short Term</td>\n",
       "      <td>050709</td>\n",
       "      <td>2020-12-25</td>\n",
       "      <td>San Bernardino</td>\n",
       "      <td>071</td>\n",
       "      <td>22.0</td>\n",
       "      <td>0.0</td>\n",
       "      <td>1.00</td>\n",
       "      <td>101.0</td>\n",
       "      <td>120.0</td>\n",
       "      <td>0.84</td>\n",
       "    </tr>\n",
       "    <tr>\n",
       "      <th>348</th>\n",
       "      <td>Santa Paula Hospital</td>\n",
       "      <td>Short Term</td>\n",
       "      <td>NaN</td>\n",
       "      <td>2020-12-25</td>\n",
       "      <td>Ventura</td>\n",
       "      <td>111</td>\n",
       "      <td>1.0</td>\n",
       "      <td>2.0</td>\n",
       "      <td>0.67</td>\n",
       "      <td>15.0</td>\n",
       "      <td>18.0</td>\n",
       "      <td>0.83</td>\n",
       "    </tr>\n",
       "    <tr>\n",
       "      <th>212</th>\n",
       "      <td>Kaiser Foundation Hospital-Moreno Valley</td>\n",
       "      <td>Short Term</td>\n",
       "      <td>050765</td>\n",
       "      <td>2020-12-25</td>\n",
       "      <td>Riverside</td>\n",
       "      <td>065</td>\n",
       "      <td>15.0</td>\n",
       "      <td>0.0</td>\n",
       "      <td>1.00</td>\n",
       "      <td>74.0</td>\n",
       "      <td>93.0</td>\n",
       "      <td>0.80</td>\n",
       "    </tr>\n",
       "    <tr>\n",
       "      <th>162</th>\n",
       "      <td>George L Mee Memorial Hospital</td>\n",
       "      <td>Critical Access Hospitals</td>\n",
       "      <td>051336</td>\n",
       "      <td>2020-12-25</td>\n",
       "      <td>Monterey</td>\n",
       "      <td>053</td>\n",
       "      <td>0.0</td>\n",
       "      <td>0.0</td>\n",
       "      <td>NaN</td>\n",
       "      <td>8.0</td>\n",
       "      <td>10.0</td>\n",
       "      <td>0.80</td>\n",
       "    </tr>\n",
       "    <tr>\n",
       "      <th>240</th>\n",
       "      <td>Mountains Community Hospital</td>\n",
       "      <td>Critical Access Hospitals</td>\n",
       "      <td>051312</td>\n",
       "      <td>2020-12-25</td>\n",
       "      <td>San Bernardino</td>\n",
       "      <td>071</td>\n",
       "      <td>0.0</td>\n",
       "      <td>0.0</td>\n",
       "      <td>NaN</td>\n",
       "      <td>4.0</td>\n",
       "      <td>5.0</td>\n",
       "      <td>0.80</td>\n",
       "    </tr>\n",
       "    <tr>\n",
       "      <th>204</th>\n",
       "      <td>Kaiser Foundation Hospital, Riverside</td>\n",
       "      <td>Short Term</td>\n",
       "      <td>050686</td>\n",
       "      <td>2020-12-25</td>\n",
       "      <td>Riverside</td>\n",
       "      <td>065</td>\n",
       "      <td>48.0</td>\n",
       "      <td>0.0</td>\n",
       "      <td>1.00</td>\n",
       "      <td>160.0</td>\n",
       "      <td>203.0</td>\n",
       "      <td>0.79</td>\n",
       "    </tr>\n",
       "  </tbody>\n",
       "</table>\n",
       "</div>"
      ],
      "text/plain": [
       "                                      hospital           hospital_subtype  \\\n",
       "237                 Barstow Community Hospital                 Short Term   \n",
       "104      Community Hospital of Huntington Park                 Short Term   \n",
       "110        Kaiser Foundation Hospital - Downey                 Short Term   \n",
       "76   Kaiser Foundation Hospital - Baldwin Park                 Short Term   \n",
       "229                     Desert Valley Hospital                 Short Term   \n",
       "348                       Santa Paula Hospital                 Short Term   \n",
       "212   Kaiser Foundation Hospital-Moreno Valley                 Short Term   \n",
       "162             George L Mee Memorial Hospital  Critical Access Hospitals   \n",
       "240               Mountains Community Hospital  Critical Access Hospitals   \n",
       "204      Kaiser Foundation Hospital, Riverside                 Short Term   \n",
       "\n",
       "        ccn       week          county fips  total_covid_icu_patients  \\\n",
       "237  050298 2020-12-25  San Bernardino  071                       9.0   \n",
       "104  050091 2020-12-25     Los Angeles  037                       9.0   \n",
       "110  050139 2020-12-25     Los Angeles  037                      43.0   \n",
       "76   050723 2020-12-25     Los Angeles  037                      26.0   \n",
       "229  050709 2020-12-25  San Bernardino  071                      22.0   \n",
       "348     NaN 2020-12-25         Ventura  111                       1.0   \n",
       "212  050765 2020-12-25       Riverside  065                      15.0   \n",
       "162  051336 2020-12-25        Monterey  053                       0.0   \n",
       "240  051312 2020-12-25  San Bernardino  071                       0.0   \n",
       "204  050686 2020-12-25       Riverside  065                      48.0   \n",
       "\n",
       "     total_available_adult_icu_beds  pct_occupied_adult_icu_beds  \\\n",
       "237                            -1.0                         1.11   \n",
       "104                             0.0                         1.00   \n",
       "110                             1.0                         0.98   \n",
       "76                              0.0                         1.00   \n",
       "229                             0.0                         1.00   \n",
       "348                             2.0                         0.67   \n",
       "212                             0.0                         1.00   \n",
       "162                             0.0                          NaN   \n",
       "240                             0.0                          NaN   \n",
       "204                             0.0                         1.00   \n",
       "\n",
       "     total_covid_patients  all_patients  covid_patients_share  \n",
       "237                  46.0          44.0                  1.05  \n",
       "104                  45.0          49.0                  0.92  \n",
       "110                 230.0         262.0                  0.88  \n",
       "76                  161.0         188.0                  0.86  \n",
       "229                 101.0         120.0                  0.84  \n",
       "348                  15.0          18.0                  0.83  \n",
       "212                  74.0          93.0                  0.80  \n",
       "162                   8.0          10.0                  0.80  \n",
       "240                   4.0           5.0                  0.80  \n",
       "204                 160.0         203.0                  0.79  "
      ]
     },
     "execution_count": 34,
     "metadata": {},
     "output_type": "execute_result"
    }
   ],
   "source": [
    "current_ca.sort_values('covid_patients_share', ascending=False).head(10)"
   ]
  },
  {
   "cell_type": "markdown",
   "metadata": {},
   "source": [
    "### Which facilities in LA have the greatest share of covid patients? "
   ]
  },
  {
   "cell_type": "code",
   "execution_count": 35,
   "metadata": {},
   "outputs": [
    {
     "data": {
      "text/html": [
       "<div>\n",
       "<style scoped>\n",
       "    .dataframe tbody tr th:only-of-type {\n",
       "        vertical-align: middle;\n",
       "    }\n",
       "\n",
       "    .dataframe tbody tr th {\n",
       "        vertical-align: top;\n",
       "    }\n",
       "\n",
       "    .dataframe thead th {\n",
       "        text-align: right;\n",
       "    }\n",
       "</style>\n",
       "<table border=\"1\" class=\"dataframe\">\n",
       "  <thead>\n",
       "    <tr style=\"text-align: right;\">\n",
       "      <th></th>\n",
       "      <th>hospital</th>\n",
       "      <th>hospital_subtype</th>\n",
       "      <th>ccn</th>\n",
       "      <th>week</th>\n",
       "      <th>county</th>\n",
       "      <th>fips</th>\n",
       "      <th>total_covid_icu_patients</th>\n",
       "      <th>total_available_adult_icu_beds</th>\n",
       "      <th>pct_occupied_adult_icu_beds</th>\n",
       "      <th>total_covid_patients</th>\n",
       "      <th>all_patients</th>\n",
       "      <th>covid_patients_share</th>\n",
       "    </tr>\n",
       "  </thead>\n",
       "  <tbody>\n",
       "    <tr>\n",
       "      <th>104</th>\n",
       "      <td>Community Hospital of Huntington Park</td>\n",
       "      <td>Short Term</td>\n",
       "      <td>050091</td>\n",
       "      <td>2020-12-25</td>\n",
       "      <td>Los Angeles</td>\n",
       "      <td>037</td>\n",
       "      <td>9.0</td>\n",
       "      <td>0.0</td>\n",
       "      <td>1.00</td>\n",
       "      <td>45.0</td>\n",
       "      <td>49.0</td>\n",
       "      <td>0.92</td>\n",
       "    </tr>\n",
       "    <tr>\n",
       "      <th>110</th>\n",
       "      <td>Kaiser Foundation Hospital - Downey</td>\n",
       "      <td>Short Term</td>\n",
       "      <td>050139</td>\n",
       "      <td>2020-12-25</td>\n",
       "      <td>Los Angeles</td>\n",
       "      <td>037</td>\n",
       "      <td>43.0</td>\n",
       "      <td>1.0</td>\n",
       "      <td>0.98</td>\n",
       "      <td>230.0</td>\n",
       "      <td>262.0</td>\n",
       "      <td>0.88</td>\n",
       "    </tr>\n",
       "    <tr>\n",
       "      <th>76</th>\n",
       "      <td>Kaiser Foundation Hospital - Baldwin Park</td>\n",
       "      <td>Short Term</td>\n",
       "      <td>050723</td>\n",
       "      <td>2020-12-25</td>\n",
       "      <td>Los Angeles</td>\n",
       "      <td>037</td>\n",
       "      <td>26.0</td>\n",
       "      <td>0.0</td>\n",
       "      <td>1.00</td>\n",
       "      <td>161.0</td>\n",
       "      <td>188.0</td>\n",
       "      <td>0.86</td>\n",
       "    </tr>\n",
       "    <tr>\n",
       "      <th>94</th>\n",
       "      <td>Martin Luther King, Jr. Community Hospital</td>\n",
       "      <td>Short Term</td>\n",
       "      <td>050779</td>\n",
       "      <td>2020-12-25</td>\n",
       "      <td>Los Angeles</td>\n",
       "      <td>037</td>\n",
       "      <td>14.0</td>\n",
       "      <td>1.0</td>\n",
       "      <td>0.97</td>\n",
       "      <td>164.0</td>\n",
       "      <td>215.0</td>\n",
       "      <td>0.76</td>\n",
       "    </tr>\n",
       "    <tr>\n",
       "      <th>142</th>\n",
       "      <td>Emanate Health Foothill Presbyterian Hospital</td>\n",
       "      <td>Short Term</td>\n",
       "      <td>050597</td>\n",
       "      <td>2020-12-25</td>\n",
       "      <td>Los Angeles</td>\n",
       "      <td>037</td>\n",
       "      <td>16.0</td>\n",
       "      <td>0.0</td>\n",
       "      <td>1.00</td>\n",
       "      <td>55.0</td>\n",
       "      <td>75.0</td>\n",
       "      <td>0.73</td>\n",
       "    </tr>\n",
       "    <tr>\n",
       "      <th>103</th>\n",
       "      <td>Providence Little Co of Mary Med Ctr San Pedro</td>\n",
       "      <td>Short Term</td>\n",
       "      <td>050078</td>\n",
       "      <td>2020-12-25</td>\n",
       "      <td>Los Angeles</td>\n",
       "      <td>037</td>\n",
       "      <td>11.0</td>\n",
       "      <td>0.0</td>\n",
       "      <td>1.00</td>\n",
       "      <td>62.0</td>\n",
       "      <td>87.0</td>\n",
       "      <td>0.71</td>\n",
       "    </tr>\n",
       "    <tr>\n",
       "      <th>138</th>\n",
       "      <td>San Dimas Community Hospital</td>\n",
       "      <td>Short Term</td>\n",
       "      <td>050588</td>\n",
       "      <td>2020-12-25</td>\n",
       "      <td>Los Angeles</td>\n",
       "      <td>037</td>\n",
       "      <td>17.0</td>\n",
       "      <td>0.0</td>\n",
       "      <td>1.00</td>\n",
       "      <td>45.0</td>\n",
       "      <td>64.0</td>\n",
       "      <td>0.70</td>\n",
       "    </tr>\n",
       "    <tr>\n",
       "      <th>107</th>\n",
       "      <td>Kaiser Foundation Hospital - Panorama City</td>\n",
       "      <td>Short Term</td>\n",
       "      <td>050137</td>\n",
       "      <td>2020-12-25</td>\n",
       "      <td>Los Angeles</td>\n",
       "      <td>037</td>\n",
       "      <td>32.0</td>\n",
       "      <td>3.0</td>\n",
       "      <td>0.92</td>\n",
       "      <td>131.0</td>\n",
       "      <td>188.0</td>\n",
       "      <td>0.70</td>\n",
       "    </tr>\n",
       "    <tr>\n",
       "      <th>83</th>\n",
       "      <td>East Los Angeles Doctors Hospital</td>\n",
       "      <td>Short Term</td>\n",
       "      <td>050641</td>\n",
       "      <td>2020-12-25</td>\n",
       "      <td>Los Angeles</td>\n",
       "      <td>037</td>\n",
       "      <td>7.0</td>\n",
       "      <td>2.0</td>\n",
       "      <td>0.80</td>\n",
       "      <td>29.0</td>\n",
       "      <td>42.0</td>\n",
       "      <td>0.69</td>\n",
       "    </tr>\n",
       "    <tr>\n",
       "      <th>137</th>\n",
       "      <td>Kaiser Foundation Hospital - West LA</td>\n",
       "      <td>Short Term</td>\n",
       "      <td>050561</td>\n",
       "      <td>2020-12-25</td>\n",
       "      <td>Los Angeles</td>\n",
       "      <td>037</td>\n",
       "      <td>31.0</td>\n",
       "      <td>29.0</td>\n",
       "      <td>0.53</td>\n",
       "      <td>115.0</td>\n",
       "      <td>170.0</td>\n",
       "      <td>0.68</td>\n",
       "    </tr>\n",
       "  </tbody>\n",
       "</table>\n",
       "</div>"
      ],
      "text/plain": [
       "                                           hospital hospital_subtype     ccn  \\\n",
       "104           Community Hospital of Huntington Park       Short Term  050091   \n",
       "110             Kaiser Foundation Hospital - Downey       Short Term  050139   \n",
       "76        Kaiser Foundation Hospital - Baldwin Park       Short Term  050723   \n",
       "94       Martin Luther King, Jr. Community Hospital       Short Term  050779   \n",
       "142   Emanate Health Foothill Presbyterian Hospital       Short Term  050597   \n",
       "103  Providence Little Co of Mary Med Ctr San Pedro       Short Term  050078   \n",
       "138                    San Dimas Community Hospital       Short Term  050588   \n",
       "107      Kaiser Foundation Hospital - Panorama City       Short Term  050137   \n",
       "83                East Los Angeles Doctors Hospital       Short Term  050641   \n",
       "137            Kaiser Foundation Hospital - West LA       Short Term  050561   \n",
       "\n",
       "          week       county fips  total_covid_icu_patients  \\\n",
       "104 2020-12-25  Los Angeles  037                       9.0   \n",
       "110 2020-12-25  Los Angeles  037                      43.0   \n",
       "76  2020-12-25  Los Angeles  037                      26.0   \n",
       "94  2020-12-25  Los Angeles  037                      14.0   \n",
       "142 2020-12-25  Los Angeles  037                      16.0   \n",
       "103 2020-12-25  Los Angeles  037                      11.0   \n",
       "138 2020-12-25  Los Angeles  037                      17.0   \n",
       "107 2020-12-25  Los Angeles  037                      32.0   \n",
       "83  2020-12-25  Los Angeles  037                       7.0   \n",
       "137 2020-12-25  Los Angeles  037                      31.0   \n",
       "\n",
       "     total_available_adult_icu_beds  pct_occupied_adult_icu_beds  \\\n",
       "104                             0.0                         1.00   \n",
       "110                             1.0                         0.98   \n",
       "76                              0.0                         1.00   \n",
       "94                              1.0                         0.97   \n",
       "142                             0.0                         1.00   \n",
       "103                             0.0                         1.00   \n",
       "138                             0.0                         1.00   \n",
       "107                             3.0                         0.92   \n",
       "83                              2.0                         0.80   \n",
       "137                            29.0                         0.53   \n",
       "\n",
       "     total_covid_patients  all_patients  covid_patients_share  \n",
       "104                  45.0          49.0                  0.92  \n",
       "110                 230.0         262.0                  0.88  \n",
       "76                  161.0         188.0                  0.86  \n",
       "94                  164.0         215.0                  0.76  \n",
       "142                  55.0          75.0                  0.73  \n",
       "103                  62.0          87.0                  0.71  \n",
       "138                  45.0          64.0                  0.70  \n",
       "107                 131.0         188.0                  0.70  \n",
       "83                   29.0          42.0                  0.69  \n",
       "137                 115.0         170.0                  0.68  "
      ]
     },
     "execution_count": 35,
     "metadata": {},
     "output_type": "execute_result"
    }
   ],
   "source": [
    "current_la[(current_la['hospital_subtype'] != 'Long Term') & \\\n",
    "          (current_la['total_covid_icu_patients'] > 0)]\\\n",
    ".sort_values('covid_patients_share', ascending=False).head(10)"
   ]
  },
  {
   "cell_type": "markdown",
   "metadata": {},
   "source": [
    "### Which facilities in OC have the greatest share of covid patients? "
   ]
  },
  {
   "cell_type": "code",
   "execution_count": 36,
   "metadata": {},
   "outputs": [
    {
     "data": {
      "text/html": [
       "<div>\n",
       "<style scoped>\n",
       "    .dataframe tbody tr th:only-of-type {\n",
       "        vertical-align: middle;\n",
       "    }\n",
       "\n",
       "    .dataframe tbody tr th {\n",
       "        vertical-align: top;\n",
       "    }\n",
       "\n",
       "    .dataframe thead th {\n",
       "        text-align: right;\n",
       "    }\n",
       "</style>\n",
       "<table border=\"1\" class=\"dataframe\">\n",
       "  <thead>\n",
       "    <tr style=\"text-align: right;\">\n",
       "      <th></th>\n",
       "      <th>hospital</th>\n",
       "      <th>hospital_subtype</th>\n",
       "      <th>ccn</th>\n",
       "      <th>week</th>\n",
       "      <th>county</th>\n",
       "      <th>fips</th>\n",
       "      <th>total_covid_icu_patients</th>\n",
       "      <th>total_available_adult_icu_beds</th>\n",
       "      <th>pct_occupied_adult_icu_beds</th>\n",
       "      <th>total_covid_patients</th>\n",
       "      <th>all_patients</th>\n",
       "      <th>covid_patients_share</th>\n",
       "    </tr>\n",
       "  </thead>\n",
       "  <tbody>\n",
       "    <tr>\n",
       "      <th>191</th>\n",
       "      <td>Garden Grove Hospital &amp; Medical Center</td>\n",
       "      <td>Short Term</td>\n",
       "      <td>050230</td>\n",
       "      <td>2020-12-25</td>\n",
       "      <td>Orange</td>\n",
       "      <td>059</td>\n",
       "      <td>10.0</td>\n",
       "      <td>0.0</td>\n",
       "      <td>1.00</td>\n",
       "      <td>47.0</td>\n",
       "      <td>63.0</td>\n",
       "      <td>0.75</td>\n",
       "    </tr>\n",
       "    <tr>\n",
       "      <th>186</th>\n",
       "      <td>Huntington Beach Hospital</td>\n",
       "      <td>Short Term</td>\n",
       "      <td>050526</td>\n",
       "      <td>2020-12-25</td>\n",
       "      <td>Orange</td>\n",
       "      <td>059</td>\n",
       "      <td>11.0</td>\n",
       "      <td>0.0</td>\n",
       "      <td>1.00</td>\n",
       "      <td>52.0</td>\n",
       "      <td>72.0</td>\n",
       "      <td>0.72</td>\n",
       "    </tr>\n",
       "    <tr>\n",
       "      <th>190</th>\n",
       "      <td>Ahmc Anaheim Regional Medical Center</td>\n",
       "      <td>Short Term</td>\n",
       "      <td>050226</td>\n",
       "      <td>2020-12-25</td>\n",
       "      <td>Orange</td>\n",
       "      <td>059</td>\n",
       "      <td>16.0</td>\n",
       "      <td>0.0</td>\n",
       "      <td>1.00</td>\n",
       "      <td>96.0</td>\n",
       "      <td>140.0</td>\n",
       "      <td>0.69</td>\n",
       "    </tr>\n",
       "    <tr>\n",
       "      <th>170</th>\n",
       "      <td>Kaiser Foundation Hospital - Orange County - A...</td>\n",
       "      <td>Short Term</td>\n",
       "      <td>050609</td>\n",
       "      <td>2020-12-25</td>\n",
       "      <td>Orange</td>\n",
       "      <td>059</td>\n",
       "      <td>60.0</td>\n",
       "      <td>0.0</td>\n",
       "      <td>1.00</td>\n",
       "      <td>225.0</td>\n",
       "      <td>337.0</td>\n",
       "      <td>0.67</td>\n",
       "    </tr>\n",
       "    <tr>\n",
       "      <th>177</th>\n",
       "      <td>Providence St. Joseph Hospital</td>\n",
       "      <td>Short Term</td>\n",
       "      <td>050069</td>\n",
       "      <td>2020-12-25</td>\n",
       "      <td>Orange</td>\n",
       "      <td>059</td>\n",
       "      <td>27.0</td>\n",
       "      <td>0.0</td>\n",
       "      <td>1.00</td>\n",
       "      <td>225.0</td>\n",
       "      <td>344.0</td>\n",
       "      <td>0.65</td>\n",
       "    </tr>\n",
       "    <tr>\n",
       "      <th>180</th>\n",
       "      <td>Providence St. Jude Medical Center</td>\n",
       "      <td>Short Term</td>\n",
       "      <td>050168</td>\n",
       "      <td>2020-12-25</td>\n",
       "      <td>Orange</td>\n",
       "      <td>059</td>\n",
       "      <td>26.0</td>\n",
       "      <td>2.0</td>\n",
       "      <td>0.96</td>\n",
       "      <td>192.0</td>\n",
       "      <td>298.0</td>\n",
       "      <td>0.64</td>\n",
       "    </tr>\n",
       "    <tr>\n",
       "      <th>168</th>\n",
       "      <td>Fountain Valley Regional Hospital &amp; Medical Ce...</td>\n",
       "      <td>Short Term</td>\n",
       "      <td>050570</td>\n",
       "      <td>2020-12-25</td>\n",
       "      <td>Orange</td>\n",
       "      <td>059</td>\n",
       "      <td>27.0</td>\n",
       "      <td>0.0</td>\n",
       "      <td>1.00</td>\n",
       "      <td>175.0</td>\n",
       "      <td>280.0</td>\n",
       "      <td>0.62</td>\n",
       "    </tr>\n",
       "    <tr>\n",
       "      <th>185</th>\n",
       "      <td>Placentia Linda Hospital</td>\n",
       "      <td>Short Term</td>\n",
       "      <td>050589</td>\n",
       "      <td>2020-12-25</td>\n",
       "      <td>Orange</td>\n",
       "      <td>059</td>\n",
       "      <td>4.0</td>\n",
       "      <td>5.0</td>\n",
       "      <td>0.58</td>\n",
       "      <td>41.0</td>\n",
       "      <td>70.0</td>\n",
       "      <td>0.59</td>\n",
       "    </tr>\n",
       "    <tr>\n",
       "      <th>193</th>\n",
       "      <td>Los Alamitos Medical Center</td>\n",
       "      <td>Short Term</td>\n",
       "      <td>050551</td>\n",
       "      <td>2020-12-25</td>\n",
       "      <td>Orange</td>\n",
       "      <td>059</td>\n",
       "      <td>15.0</td>\n",
       "      <td>0.0</td>\n",
       "      <td>1.00</td>\n",
       "      <td>95.0</td>\n",
       "      <td>169.0</td>\n",
       "      <td>0.56</td>\n",
       "    </tr>\n",
       "    <tr>\n",
       "      <th>181</th>\n",
       "      <td>Memorialcare Orange Coast Medical Center</td>\n",
       "      <td>Short Term</td>\n",
       "      <td>050678</td>\n",
       "      <td>2020-12-25</td>\n",
       "      <td>Orange</td>\n",
       "      <td>059</td>\n",
       "      <td>28.0</td>\n",
       "      <td>2.0</td>\n",
       "      <td>0.94</td>\n",
       "      <td>91.0</td>\n",
       "      <td>168.0</td>\n",
       "      <td>0.54</td>\n",
       "    </tr>\n",
       "  </tbody>\n",
       "</table>\n",
       "</div>"
      ],
      "text/plain": [
       "                                              hospital hospital_subtype  \\\n",
       "191             Garden Grove Hospital & Medical Center       Short Term   \n",
       "186                          Huntington Beach Hospital       Short Term   \n",
       "190               Ahmc Anaheim Regional Medical Center       Short Term   \n",
       "170  Kaiser Foundation Hospital - Orange County - A...       Short Term   \n",
       "177                     Providence St. Joseph Hospital       Short Term   \n",
       "180                 Providence St. Jude Medical Center       Short Term   \n",
       "168  Fountain Valley Regional Hospital & Medical Ce...       Short Term   \n",
       "185                           Placentia Linda Hospital       Short Term   \n",
       "193                        Los Alamitos Medical Center       Short Term   \n",
       "181           Memorialcare Orange Coast Medical Center       Short Term   \n",
       "\n",
       "        ccn       week  county fips  total_covid_icu_patients  \\\n",
       "191  050230 2020-12-25  Orange  059                      10.0   \n",
       "186  050526 2020-12-25  Orange  059                      11.0   \n",
       "190  050226 2020-12-25  Orange  059                      16.0   \n",
       "170  050609 2020-12-25  Orange  059                      60.0   \n",
       "177  050069 2020-12-25  Orange  059                      27.0   \n",
       "180  050168 2020-12-25  Orange  059                      26.0   \n",
       "168  050570 2020-12-25  Orange  059                      27.0   \n",
       "185  050589 2020-12-25  Orange  059                       4.0   \n",
       "193  050551 2020-12-25  Orange  059                      15.0   \n",
       "181  050678 2020-12-25  Orange  059                      28.0   \n",
       "\n",
       "     total_available_adult_icu_beds  pct_occupied_adult_icu_beds  \\\n",
       "191                             0.0                         1.00   \n",
       "186                             0.0                         1.00   \n",
       "190                             0.0                         1.00   \n",
       "170                             0.0                         1.00   \n",
       "177                             0.0                         1.00   \n",
       "180                             2.0                         0.96   \n",
       "168                             0.0                         1.00   \n",
       "185                             5.0                         0.58   \n",
       "193                             0.0                         1.00   \n",
       "181                             2.0                         0.94   \n",
       "\n",
       "     total_covid_patients  all_patients  covid_patients_share  \n",
       "191                  47.0          63.0                  0.75  \n",
       "186                  52.0          72.0                  0.72  \n",
       "190                  96.0         140.0                  0.69  \n",
       "170                 225.0         337.0                  0.67  \n",
       "177                 225.0         344.0                  0.65  \n",
       "180                 192.0         298.0                  0.64  \n",
       "168                 175.0         280.0                  0.62  \n",
       "185                  41.0          70.0                  0.59  \n",
       "193                  95.0         169.0                  0.56  \n",
       "181                  91.0         168.0                  0.54  "
      ]
     },
     "execution_count": 36,
     "metadata": {},
     "output_type": "execute_result"
    }
   ],
   "source": [
    "current_oc[(current_oc['hospital_subtype'] != 'Long Term') & \\\n",
    "          (current_oc['total_covid_icu_patients'] > 0)]\\\n",
    ".sort_values('covid_patients_share', ascending=False).head(10)"
   ]
  },
  {
   "cell_type": "code",
   "execution_count": 37,
   "metadata": {},
   "outputs": [],
   "source": [
    "current_la['covid_patients_share'] = round((current_la['covid_patients_share']*100),2)"
   ]
  },
  {
   "cell_type": "markdown",
   "metadata": {},
   "source": [
    "### Output top LA hospitals for CMS table"
   ]
  },
  {
   "cell_type": "code",
   "execution_count": 38,
   "metadata": {},
   "outputs": [],
   "source": [
    "current_la[(current_la['hospital_subtype'] != 'Long Term') & \\\n",
    "          (current_la['total_covid_icu_patients'] > 0)][['hospital', 'total_covid_patients', 'covid_patients_share']]\\\n",
    ".sort_values('covid_patients_share', ascending=False).head(10).to_csv('output/current_la_hospitals.csv', index=False)"
   ]
  },
  {
   "cell_type": "markdown",
   "metadata": {},
   "source": [
    "### Which facilities in LA have the highest ICU capacity rates? "
   ]
  },
  {
   "cell_type": "code",
   "execution_count": 39,
   "metadata": {},
   "outputs": [
    {
     "data": {
      "text/html": [
       "<div>\n",
       "<style scoped>\n",
       "    .dataframe tbody tr th:only-of-type {\n",
       "        vertical-align: middle;\n",
       "    }\n",
       "\n",
       "    .dataframe tbody tr th {\n",
       "        vertical-align: top;\n",
       "    }\n",
       "\n",
       "    .dataframe thead th {\n",
       "        text-align: right;\n",
       "    }\n",
       "</style>\n",
       "<table border=\"1\" class=\"dataframe\">\n",
       "  <thead>\n",
       "    <tr style=\"text-align: right;\">\n",
       "      <th></th>\n",
       "      <th>hospital</th>\n",
       "      <th>hospital_subtype</th>\n",
       "      <th>ccn</th>\n",
       "      <th>week</th>\n",
       "      <th>county</th>\n",
       "      <th>fips</th>\n",
       "      <th>total_covid_icu_patients</th>\n",
       "      <th>total_available_adult_icu_beds</th>\n",
       "      <th>pct_occupied_adult_icu_beds</th>\n",
       "      <th>total_covid_patients</th>\n",
       "      <th>all_patients</th>\n",
       "      <th>covid_patients_share</th>\n",
       "    </tr>\n",
       "  </thead>\n",
       "  <tbody>\n",
       "    <tr>\n",
       "      <th>60</th>\n",
       "      <td>Cedars-Sinai Medical Center</td>\n",
       "      <td>Short Term</td>\n",
       "      <td>050625</td>\n",
       "      <td>2020-12-25</td>\n",
       "      <td>Los Angeles</td>\n",
       "      <td>037</td>\n",
       "      <td>75.0</td>\n",
       "      <td>-26.0</td>\n",
       "      <td>1.24</td>\n",
       "      <td>315.0</td>\n",
       "      <td>830.0</td>\n",
       "      <td>38.0</td>\n",
       "    </tr>\n",
       "    <tr>\n",
       "      <th>104</th>\n",
       "      <td>Community Hospital of Huntington Park</td>\n",
       "      <td>Short Term</td>\n",
       "      <td>050091</td>\n",
       "      <td>2020-12-25</td>\n",
       "      <td>Los Angeles</td>\n",
       "      <td>037</td>\n",
       "      <td>9.0</td>\n",
       "      <td>0.0</td>\n",
       "      <td>1.00</td>\n",
       "      <td>45.0</td>\n",
       "      <td>49.0</td>\n",
       "      <td>92.0</td>\n",
       "    </tr>\n",
       "    <tr>\n",
       "      <th>72</th>\n",
       "      <td>Encino Hospital Medical Center</td>\n",
       "      <td>Short Term</td>\n",
       "      <td>050158</td>\n",
       "      <td>2020-12-25</td>\n",
       "      <td>Los Angeles</td>\n",
       "      <td>037</td>\n",
       "      <td>2.0</td>\n",
       "      <td>0.0</td>\n",
       "      <td>1.00</td>\n",
       "      <td>20.0</td>\n",
       "      <td>71.0</td>\n",
       "      <td>28.0</td>\n",
       "    </tr>\n",
       "    <tr>\n",
       "      <th>129</th>\n",
       "      <td>Whittier Hospital Medical Center</td>\n",
       "      <td>Short Term</td>\n",
       "      <td>050735</td>\n",
       "      <td>2020-12-25</td>\n",
       "      <td>Los Angeles</td>\n",
       "      <td>037</td>\n",
       "      <td>16.0</td>\n",
       "      <td>0.0</td>\n",
       "      <td>1.00</td>\n",
       "      <td>70.0</td>\n",
       "      <td>129.0</td>\n",
       "      <td>54.0</td>\n",
       "    </tr>\n",
       "    <tr>\n",
       "      <th>62</th>\n",
       "      <td>Centinela Hospital Medical Center</td>\n",
       "      <td>Short Term</td>\n",
       "      <td>050739</td>\n",
       "      <td>2020-12-25</td>\n",
       "      <td>Los Angeles</td>\n",
       "      <td>037</td>\n",
       "      <td>52.0</td>\n",
       "      <td>0.0</td>\n",
       "      <td>1.00</td>\n",
       "      <td>134.0</td>\n",
       "      <td>247.0</td>\n",
       "      <td>54.0</td>\n",
       "    </tr>\n",
       "    <tr>\n",
       "      <th>97</th>\n",
       "      <td>Kindred Hospital South Bay</td>\n",
       "      <td>Long Term</td>\n",
       "      <td>052050</td>\n",
       "      <td>2020-12-25</td>\n",
       "      <td>Los Angeles</td>\n",
       "      <td>037</td>\n",
       "      <td>3.0</td>\n",
       "      <td>0.0</td>\n",
       "      <td>1.00</td>\n",
       "      <td>24.0</td>\n",
       "      <td>55.0</td>\n",
       "      <td>44.0</td>\n",
       "    </tr>\n",
       "    <tr>\n",
       "      <th>100</th>\n",
       "      <td>Usc Verdugo Hills Hospital</td>\n",
       "      <td>Short Term</td>\n",
       "      <td>050124</td>\n",
       "      <td>2020-12-25</td>\n",
       "      <td>Los Angeles</td>\n",
       "      <td>037</td>\n",
       "      <td>10.0</td>\n",
       "      <td>0.0</td>\n",
       "      <td>1.00</td>\n",
       "      <td>71.0</td>\n",
       "      <td>123.0</td>\n",
       "      <td>58.0</td>\n",
       "    </tr>\n",
       "    <tr>\n",
       "      <th>65</th>\n",
       "      <td>Coast Plaza Hospital</td>\n",
       "      <td>Short Term</td>\n",
       "      <td>050771</td>\n",
       "      <td>2020-12-25</td>\n",
       "      <td>Los Angeles</td>\n",
       "      <td>037</td>\n",
       "      <td>5.0</td>\n",
       "      <td>0.0</td>\n",
       "      <td>1.00</td>\n",
       "      <td>28.0</td>\n",
       "      <td>48.0</td>\n",
       "      <td>58.0</td>\n",
       "    </tr>\n",
       "    <tr>\n",
       "      <th>81</th>\n",
       "      <td>Providence Little Company of Mary Med Ctr Torr...</td>\n",
       "      <td>Short Term</td>\n",
       "      <td>050353</td>\n",
       "      <td>2020-12-25</td>\n",
       "      <td>Los Angeles</td>\n",
       "      <td>037</td>\n",
       "      <td>23.0</td>\n",
       "      <td>0.0</td>\n",
       "      <td>1.00</td>\n",
       "      <td>159.0</td>\n",
       "      <td>267.0</td>\n",
       "      <td>60.0</td>\n",
       "    </tr>\n",
       "    <tr>\n",
       "      <th>90</th>\n",
       "      <td>Memorial Hospital of Gardena</td>\n",
       "      <td>Short Term</td>\n",
       "      <td>050468</td>\n",
       "      <td>2020-12-25</td>\n",
       "      <td>Los Angeles</td>\n",
       "      <td>037</td>\n",
       "      <td>20.0</td>\n",
       "      <td>0.0</td>\n",
       "      <td>1.00</td>\n",
       "      <td>67.0</td>\n",
       "      <td>169.0</td>\n",
       "      <td>40.0</td>\n",
       "    </tr>\n",
       "  </tbody>\n",
       "</table>\n",
       "</div>"
      ],
      "text/plain": [
       "                                              hospital hospital_subtype  \\\n",
       "60                         Cedars-Sinai Medical Center       Short Term   \n",
       "104              Community Hospital of Huntington Park       Short Term   \n",
       "72                      Encino Hospital Medical Center       Short Term   \n",
       "129                   Whittier Hospital Medical Center       Short Term   \n",
       "62                   Centinela Hospital Medical Center       Short Term   \n",
       "97                          Kindred Hospital South Bay        Long Term   \n",
       "100                         Usc Verdugo Hills Hospital       Short Term   \n",
       "65                                Coast Plaza Hospital       Short Term   \n",
       "81   Providence Little Company of Mary Med Ctr Torr...       Short Term   \n",
       "90                        Memorial Hospital of Gardena       Short Term   \n",
       "\n",
       "        ccn       week       county fips  total_covid_icu_patients  \\\n",
       "60   050625 2020-12-25  Los Angeles  037                      75.0   \n",
       "104  050091 2020-12-25  Los Angeles  037                       9.0   \n",
       "72   050158 2020-12-25  Los Angeles  037                       2.0   \n",
       "129  050735 2020-12-25  Los Angeles  037                      16.0   \n",
       "62   050739 2020-12-25  Los Angeles  037                      52.0   \n",
       "97   052050 2020-12-25  Los Angeles  037                       3.0   \n",
       "100  050124 2020-12-25  Los Angeles  037                      10.0   \n",
       "65   050771 2020-12-25  Los Angeles  037                       5.0   \n",
       "81   050353 2020-12-25  Los Angeles  037                      23.0   \n",
       "90   050468 2020-12-25  Los Angeles  037                      20.0   \n",
       "\n",
       "     total_available_adult_icu_beds  pct_occupied_adult_icu_beds  \\\n",
       "60                            -26.0                         1.24   \n",
       "104                             0.0                         1.00   \n",
       "72                              0.0                         1.00   \n",
       "129                             0.0                         1.00   \n",
       "62                              0.0                         1.00   \n",
       "97                              0.0                         1.00   \n",
       "100                             0.0                         1.00   \n",
       "65                              0.0                         1.00   \n",
       "81                              0.0                         1.00   \n",
       "90                              0.0                         1.00   \n",
       "\n",
       "     total_covid_patients  all_patients  covid_patients_share  \n",
       "60                  315.0         830.0                  38.0  \n",
       "104                  45.0          49.0                  92.0  \n",
       "72                   20.0          71.0                  28.0  \n",
       "129                  70.0         129.0                  54.0  \n",
       "62                  134.0         247.0                  54.0  \n",
       "97                   24.0          55.0                  44.0  \n",
       "100                  71.0         123.0                  58.0  \n",
       "65                   28.0          48.0                  58.0  \n",
       "81                  159.0         267.0                  60.0  \n",
       "90                   67.0         169.0                  40.0  "
      ]
     },
     "execution_count": 39,
     "metadata": {},
     "output_type": "execute_result"
    }
   ],
   "source": [
    "current_la[(current_la['total_covid_icu_patients'] > 0)]\\\n",
    ".sort_values('pct_occupied_adult_icu_beds', ascending=False).head(10)"
   ]
  },
  {
   "cell_type": "markdown",
   "metadata": {},
   "source": [
    "### How many LA County hospitals (with Covid patients) are in our dataframe? "
   ]
  },
  {
   "cell_type": "code",
   "execution_count": 40,
   "metadata": {},
   "outputs": [
    {
     "data": {
      "text/plain": [
       "74"
      ]
     },
     "execution_count": 40,
     "metadata": {},
     "output_type": "execute_result"
    }
   ],
   "source": [
    "len(current_la[(current_la['total_covid_icu_patients'] > 0)])"
   ]
  },
  {
   "cell_type": "markdown",
   "metadata": {},
   "source": [
    "### How many have 'high' ICU occupancy rates? "
   ]
  },
  {
   "cell_type": "code",
   "execution_count": 41,
   "metadata": {},
   "outputs": [
    {
     "data": {
      "text/plain": [
       "47"
      ]
     },
     "execution_count": 41,
     "metadata": {},
     "output_type": "execute_result"
    }
   ],
   "source": [
    "len(current_la[current_la['pct_occupied_adult_icu_beds'] > .90 ])"
   ]
  },
  {
   "cell_type": "markdown",
   "metadata": {},
   "source": [
    "### Top 10 Bay Area hospotals by Covid share? "
   ]
  },
  {
   "cell_type": "code",
   "execution_count": 42,
   "metadata": {},
   "outputs": [
    {
     "data": {
      "text/html": [
       "<div>\n",
       "<style scoped>\n",
       "    .dataframe tbody tr th:only-of-type {\n",
       "        vertical-align: middle;\n",
       "    }\n",
       "\n",
       "    .dataframe tbody tr th {\n",
       "        vertical-align: top;\n",
       "    }\n",
       "\n",
       "    .dataframe thead th {\n",
       "        text-align: right;\n",
       "    }\n",
       "</style>\n",
       "<table border=\"1\" class=\"dataframe\">\n",
       "  <thead>\n",
       "    <tr style=\"text-align: right;\">\n",
       "      <th></th>\n",
       "      <th>hospital</th>\n",
       "      <th>hospital_subtype</th>\n",
       "      <th>ccn</th>\n",
       "      <th>week</th>\n",
       "      <th>county</th>\n",
       "      <th>fips</th>\n",
       "      <th>total_covid_icu_patients</th>\n",
       "      <th>total_available_adult_icu_beds</th>\n",
       "      <th>pct_occupied_adult_icu_beds</th>\n",
       "      <th>total_covid_patients</th>\n",
       "      <th>all_patients</th>\n",
       "      <th>covid_patients_share</th>\n",
       "    </tr>\n",
       "  </thead>\n",
       "  <tbody>\n",
       "    <tr>\n",
       "      <th>321</th>\n",
       "      <td>Healdsburg District Hospital</td>\n",
       "      <td>Critical Access Hospitals</td>\n",
       "      <td>051321</td>\n",
       "      <td>2020-12-25</td>\n",
       "      <td>Sonoma</td>\n",
       "      <td>097</td>\n",
       "      <td>0.0</td>\n",
       "      <td>5.0</td>\n",
       "      <td>0.00</td>\n",
       "      <td>6.0</td>\n",
       "      <td>9.0</td>\n",
       "      <td>0.67</td>\n",
       "    </tr>\n",
       "    <tr>\n",
       "      <th>302</th>\n",
       "      <td>Kaiser Foundation Hospital-San Jose</td>\n",
       "      <td>Short Term</td>\n",
       "      <td>050604</td>\n",
       "      <td>2020-12-25</td>\n",
       "      <td>Santa Clara</td>\n",
       "      <td>085</td>\n",
       "      <td>15.0</td>\n",
       "      <td>2.0</td>\n",
       "      <td>0.90</td>\n",
       "      <td>88.0</td>\n",
       "      <td>158.0</td>\n",
       "      <td>0.56</td>\n",
       "    </tr>\n",
       "    <tr>\n",
       "      <th>290</th>\n",
       "      <td>Kaiser Foundation Hospital - South San Francisco</td>\n",
       "      <td>Short Term</td>\n",
       "      <td>050070</td>\n",
       "      <td>2020-12-25</td>\n",
       "      <td>San Mateo</td>\n",
       "      <td>081</td>\n",
       "      <td>5.0</td>\n",
       "      <td>1.0</td>\n",
       "      <td>0.90</td>\n",
       "      <td>43.0</td>\n",
       "      <td>85.0</td>\n",
       "      <td>0.51</td>\n",
       "    </tr>\n",
       "    <tr>\n",
       "      <th>9</th>\n",
       "      <td>Alameda Hospital</td>\n",
       "      <td>Short Term</td>\n",
       "      <td>050211</td>\n",
       "      <td>2020-12-25</td>\n",
       "      <td>Alameda</td>\n",
       "      <td>001</td>\n",
       "      <td>4.0</td>\n",
       "      <td>2.0</td>\n",
       "      <td>0.75</td>\n",
       "      <td>19.0</td>\n",
       "      <td>40.0</td>\n",
       "      <td>0.48</td>\n",
       "    </tr>\n",
       "    <tr>\n",
       "      <th>301</th>\n",
       "      <td>Regional Medical Center of San Jose</td>\n",
       "      <td>Short Term</td>\n",
       "      <td>050125</td>\n",
       "      <td>2020-12-25</td>\n",
       "      <td>Santa Clara</td>\n",
       "      <td>085</td>\n",
       "      <td>24.0</td>\n",
       "      <td>0.0</td>\n",
       "      <td>1.00</td>\n",
       "      <td>105.0</td>\n",
       "      <td>236.0</td>\n",
       "      <td>0.44</td>\n",
       "    </tr>\n",
       "    <tr>\n",
       "      <th>2</th>\n",
       "      <td>Kaiser Foundation Hospital - Fremont</td>\n",
       "      <td>Short Term</td>\n",
       "      <td>050512</td>\n",
       "      <td>2020-12-25</td>\n",
       "      <td>Alameda</td>\n",
       "      <td>001</td>\n",
       "      <td>10.0</td>\n",
       "      <td>0.0</td>\n",
       "      <td>1.00</td>\n",
       "      <td>38.0</td>\n",
       "      <td>86.0</td>\n",
       "      <td>0.44</td>\n",
       "    </tr>\n",
       "    <tr>\n",
       "      <th>12</th>\n",
       "      <td>St Rose Hospital</td>\n",
       "      <td>Short Term</td>\n",
       "      <td>050002</td>\n",
       "      <td>2020-12-25</td>\n",
       "      <td>Alameda</td>\n",
       "      <td>001</td>\n",
       "      <td>5.0</td>\n",
       "      <td>6.0</td>\n",
       "      <td>0.60</td>\n",
       "      <td>26.0</td>\n",
       "      <td>59.0</td>\n",
       "      <td>0.44</td>\n",
       "    </tr>\n",
       "    <tr>\n",
       "      <th>0</th>\n",
       "      <td>Kaiser Foundation Hospital - San Leandro</td>\n",
       "      <td>Short Term</td>\n",
       "      <td>050777</td>\n",
       "      <td>2020-12-25</td>\n",
       "      <td>Alameda</td>\n",
       "      <td>001</td>\n",
       "      <td>17.0</td>\n",
       "      <td>0.0</td>\n",
       "      <td>1.00</td>\n",
       "      <td>68.0</td>\n",
       "      <td>169.0</td>\n",
       "      <td>0.40</td>\n",
       "    </tr>\n",
       "    <tr>\n",
       "      <th>21</th>\n",
       "      <td>Sutter Delta Medical Center</td>\n",
       "      <td>Short Term</td>\n",
       "      <td>050523</td>\n",
       "      <td>2020-12-25</td>\n",
       "      <td>Contra Costa</td>\n",
       "      <td>013</td>\n",
       "      <td>3.0</td>\n",
       "      <td>1.0</td>\n",
       "      <td>0.92</td>\n",
       "      <td>35.0</td>\n",
       "      <td>90.0</td>\n",
       "      <td>0.39</td>\n",
       "    </tr>\n",
       "    <tr>\n",
       "      <th>291</th>\n",
       "      <td>San Mateo Medical Center</td>\n",
       "      <td>Short Term</td>\n",
       "      <td>050113</td>\n",
       "      <td>2020-12-25</td>\n",
       "      <td>San Mateo</td>\n",
       "      <td>081</td>\n",
       "      <td>6.0</td>\n",
       "      <td>1.0</td>\n",
       "      <td>0.86</td>\n",
       "      <td>15.0</td>\n",
       "      <td>38.0</td>\n",
       "      <td>0.39</td>\n",
       "    </tr>\n",
       "  </tbody>\n",
       "</table>\n",
       "</div>"
      ],
      "text/plain": [
       "                                             hospital  \\\n",
       "321                      Healdsburg District Hospital   \n",
       "302               Kaiser Foundation Hospital-San Jose   \n",
       "290  Kaiser Foundation Hospital - South San Francisco   \n",
       "9                                    Alameda Hospital   \n",
       "301               Regional Medical Center of San Jose   \n",
       "2                Kaiser Foundation Hospital - Fremont   \n",
       "12                                   St Rose Hospital   \n",
       "0            Kaiser Foundation Hospital - San Leandro   \n",
       "21                        Sutter Delta Medical Center   \n",
       "291                          San Mateo Medical Center   \n",
       "\n",
       "              hospital_subtype     ccn       week        county fips  \\\n",
       "321  Critical Access Hospitals  051321 2020-12-25        Sonoma  097   \n",
       "302                 Short Term  050604 2020-12-25   Santa Clara  085   \n",
       "290                 Short Term  050070 2020-12-25     San Mateo  081   \n",
       "9                   Short Term  050211 2020-12-25       Alameda  001   \n",
       "301                 Short Term  050125 2020-12-25   Santa Clara  085   \n",
       "2                   Short Term  050512 2020-12-25       Alameda  001   \n",
       "12                  Short Term  050002 2020-12-25       Alameda  001   \n",
       "0                   Short Term  050777 2020-12-25       Alameda  001   \n",
       "21                  Short Term  050523 2020-12-25  Contra Costa  013   \n",
       "291                 Short Term  050113 2020-12-25     San Mateo  081   \n",
       "\n",
       "     total_covid_icu_patients  total_available_adult_icu_beds  \\\n",
       "321                       0.0                             5.0   \n",
       "302                      15.0                             2.0   \n",
       "290                       5.0                             1.0   \n",
       "9                         4.0                             2.0   \n",
       "301                      24.0                             0.0   \n",
       "2                        10.0                             0.0   \n",
       "12                        5.0                             6.0   \n",
       "0                        17.0                             0.0   \n",
       "21                        3.0                             1.0   \n",
       "291                       6.0                             1.0   \n",
       "\n",
       "     pct_occupied_adult_icu_beds  total_covid_patients  all_patients  \\\n",
       "321                         0.00                   6.0           9.0   \n",
       "302                         0.90                  88.0         158.0   \n",
       "290                         0.90                  43.0          85.0   \n",
       "9                           0.75                  19.0          40.0   \n",
       "301                         1.00                 105.0         236.0   \n",
       "2                           1.00                  38.0          86.0   \n",
       "12                          0.60                  26.0          59.0   \n",
       "0                           1.00                  68.0         169.0   \n",
       "21                          0.92                  35.0          90.0   \n",
       "291                         0.86                  15.0          38.0   \n",
       "\n",
       "     covid_patients_share  \n",
       "321                  0.67  \n",
       "302                  0.56  \n",
       "290                  0.51  \n",
       "9                    0.48  \n",
       "301                  0.44  \n",
       "2                    0.44  \n",
       "12                   0.44  \n",
       "0                    0.40  \n",
       "21                   0.39  \n",
       "291                  0.39  "
      ]
     },
     "execution_count": 42,
     "metadata": {},
     "output_type": "execute_result"
    }
   ],
   "source": [
    "current_ca[current_ca['county'].isin(bayarea)].sort_values('covid_patients_share', ascending=False).head(10)"
   ]
  },
  {
   "cell_type": "markdown",
   "metadata": {},
   "source": [
    "---"
   ]
  },
  {
   "cell_type": "markdown",
   "metadata": {},
   "source": [
    "## Get medical facilities' geographic data"
   ]
  },
  {
   "cell_type": "code",
   "execution_count": 43,
   "metadata": {},
   "outputs": [],
   "source": [
    "# From HHS: https://maps3.arcgisonline.com/arcgis/rest/services/A-16/HHS_IOM_Health_Resources/MapServer"
   ]
  },
  {
   "cell_type": "code",
   "execution_count": 44,
   "metadata": {},
   "outputs": [],
   "source": [
    "hospitals = gpd.read_file('/Users/mhustiles/data/github/AGStoShapefile/backupdir/HHS_Hospital/HHS_Hospital_1608139617293.geojson')"
   ]
  },
  {
   "cell_type": "code",
   "execution_count": 45,
   "metadata": {},
   "outputs": [],
   "source": [
    "medical_centers = gpd.read_file('/Users/mhustiles/data/github/AGStoShapefile/backupdir/HHS_Medical_Center/HHS_Medical_Center_1608139616289.geojson')"
   ]
  },
  {
   "cell_type": "markdown",
   "metadata": {},
   "source": [
    "### Clean up the column names so we can merge the facilities dataframes"
   ]
  },
  {
   "cell_type": "code",
   "execution_count": 46,
   "metadata": {},
   "outputs": [],
   "source": [
    "facilities = [hospitals, medical_centers]"
   ]
  },
  {
   "cell_type": "code",
   "execution_count": 47,
   "metadata": {},
   "outputs": [],
   "source": [
    "hospitals.rename(columns={'Name_new':'name', 'Address_1':'address', 'City':'city', 'State_1':'state', 'ZipCode':'zipcode',\\\n",
    "                               'PhoneNum':'phone', 'County_Nam':'county', 'Provider_N':'provider_id', 'Hospital_T':'type', 'Hospital_O':'operation',\\\n",
    "                               'Emergency_':'emergency'}, inplace=True)"
   ]
  },
  {
   "cell_type": "code",
   "execution_count": 48,
   "metadata": {},
   "outputs": [],
   "source": [
    "medical_centers.rename(columns={'Hospital_N':'name', 'Address1':'address', 'City_1':'city', 'State_1':'state', 'ZipCode':'zipcode',\\\n",
    "                               'PhoneNum':'phone', 'County_Nam':'county', 'Provider_N':'provider_id', 'Hospital_T':'type', 'Hospital_O':'operation',\\\n",
    "                               'Emergency_':'emergency'}, inplace=True)"
   ]
  },
  {
   "cell_type": "markdown",
   "metadata": {},
   "source": [
    "### Concatenate the different facility types into one dataframe, and also filter that just to CA"
   ]
  },
  {
   "cell_type": "code",
   "execution_count": 49,
   "metadata": {},
   "outputs": [],
   "source": [
    "all_medical_geo = pd.concat(facilities)"
   ]
  },
  {
   "cell_type": "code",
   "execution_count": 50,
   "metadata": {},
   "outputs": [],
   "source": [
    "all_medical_geo_ca = all_medical_geo[all_medical_geo['state'] == 'CA']"
   ]
  },
  {
   "cell_type": "markdown",
   "metadata": {},
   "source": [
    "### We might be better off using HHS' own locations data with CCNs"
   ]
  },
  {
   "cell_type": "code",
   "execution_count": 51,
   "metadata": {},
   "outputs": [],
   "source": [
    "locations = pd.read_csv('input/hospital_locations.csv', dtype={'latitude':float, 'longitude':float, 'CCN':str})"
   ]
  },
  {
   "cell_type": "code",
   "execution_count": 52,
   "metadata": {},
   "outputs": [],
   "source": [
    "locations.columns = locations.columns.str.strip().str.lower().str.replace(' ', '_')\\\n",
    "                    .str.replace('(', '').str.replace(')', '').str.replace('-','_')"
   ]
  },
  {
   "cell_type": "markdown",
   "metadata": {},
   "source": [
    "### Even though it has the wrong location for White Memorial. Let's fix."
   ]
  },
  {
   "cell_type": "code",
   "execution_count": 53,
   "metadata": {},
   "outputs": [],
   "source": [
    "locations.loc[(locations.facility_name == 'WHITE MEMORIAL MEDICAL CENTER'),'longitude']=-118.2176219"
   ]
  },
  {
   "cell_type": "code",
   "execution_count": 54,
   "metadata": {},
   "outputs": [],
   "source": [
    "locations.loc[(locations.facility_name == 'WHITE MEMORIAL MEDICAL CENTER'),'latitude']=34.0493044"
   ]
  },
  {
   "cell_type": "markdown",
   "metadata": {},
   "source": [
    "### Convert the lon/lat fields into a geodataframe"
   ]
  },
  {
   "cell_type": "code",
   "execution_count": 55,
   "metadata": {},
   "outputs": [],
   "source": [
    "locations = gpd.GeoDataFrame(\n",
    "    locations, geometry=gpd.points_from_xy(locations.longitude, locations.latitude))"
   ]
  },
  {
   "cell_type": "markdown",
   "metadata": {},
   "source": [
    "### And then confine it to California"
   ]
  },
  {
   "cell_type": "code",
   "execution_count": 56,
   "metadata": {},
   "outputs": [],
   "source": [
    "locationsca = gpd.GeoDataFrame(locations[locations['state'] == 'CA'])"
   ]
  },
  {
   "cell_type": "markdown",
   "metadata": {},
   "source": [
    "### Make the CCN string match the hospital capacity data"
   ]
  },
  {
   "cell_type": "code",
   "execution_count": 57,
   "metadata": {},
   "outputs": [],
   "source": [
    "locationsca['ccn'] = locationsca['ccn'].str.zfill(6)"
   ]
  },
  {
   "cell_type": "markdown",
   "metadata": {},
   "source": [
    "---"
   ]
  },
  {
   "cell_type": "markdown",
   "metadata": {},
   "source": [
    "### Merge with our CA medical facilities"
   ]
  },
  {
   "cell_type": "code",
   "execution_count": 58,
   "metadata": {},
   "outputs": [],
   "source": [
    "current_ca_geo = locationsca.merge(current_ca, left_on='ccn', right_on='ccn')"
   ]
  },
  {
   "cell_type": "code",
   "execution_count": 59,
   "metadata": {},
   "outputs": [
    {
     "data": {
      "text/plain": [
       "345"
      ]
     },
     "execution_count": 59,
     "metadata": {},
     "output_type": "execute_result"
    }
   ],
   "source": [
    "len(current_ca_geo)"
   ]
  },
  {
   "cell_type": "code",
   "execution_count": 60,
   "metadata": {},
   "outputs": [],
   "source": [
    "current_ca_geo.rename(columns={'county_x':'county', 'city_x':'city', 'address_x':'address', 'state_x':'state'}, inplace=True)"
   ]
  },
  {
   "cell_type": "code",
   "execution_count": 61,
   "metadata": {},
   "outputs": [],
   "source": [
    "# current_ca_geo.drop(['county_y', 'hospital_subtype', 'provider_id', 'ccn', 'emergency', 'address', 'OBJECTID', 'state', 'name', 'phone', 'zipcode'], axis=1, inplace=True)"
   ]
  },
  {
   "cell_type": "markdown",
   "metadata": {},
   "source": [
    "---"
   ]
  },
  {
   "cell_type": "markdown",
   "metadata": {},
   "source": [
    "### Filter to just LA County hospitals"
   ]
  },
  {
   "cell_type": "code",
   "execution_count": 62,
   "metadata": {},
   "outputs": [],
   "source": [
    "current_la_geo = current_ca_geo[current_ca_geo['fips'] == '037']"
   ]
  },
  {
   "cell_type": "markdown",
   "metadata": {},
   "source": [
    "### How many facilities in California?"
   ]
  },
  {
   "cell_type": "code",
   "execution_count": 63,
   "metadata": {},
   "outputs": [
    {
     "data": {
      "text/plain": [
       "345"
      ]
     },
     "execution_count": 63,
     "metadata": {},
     "output_type": "execute_result"
    }
   ],
   "source": [
    "len(current_ca_geo)"
   ]
  },
  {
   "cell_type": "markdown",
   "metadata": {},
   "source": [
    "### How many in L.A. County?"
   ]
  },
  {
   "cell_type": "code",
   "execution_count": 64,
   "metadata": {},
   "outputs": [
    {
     "data": {
      "text/plain": [
       "84"
      ]
     },
     "execution_count": 64,
     "metadata": {},
     "output_type": "execute_result"
    }
   ],
   "source": [
    "len(current_la_geo)"
   ]
  },
  {
   "cell_type": "markdown",
   "metadata": {},
   "source": [
    "---"
   ]
  },
  {
   "cell_type": "markdown",
   "metadata": {},
   "source": [
    "### Export hospital specific data for maps and tables"
   ]
  },
  {
   "cell_type": "code",
   "execution_count": 65,
   "metadata": {},
   "outputs": [],
   "source": [
    "current_ca_geo.to_file('output/current_ca_geo.geojson', driver='GeoJSON')"
   ]
  },
  {
   "cell_type": "code",
   "execution_count": 66,
   "metadata": {},
   "outputs": [],
   "source": [
    "current_ca_geo.to_csv('output/current_ca_geo.csv', index=False)"
   ]
  },
  {
   "cell_type": "code",
   "execution_count": 67,
   "metadata": {},
   "outputs": [],
   "source": [
    "current_la_geo.to_file('output/current_la_geo.geojson', driver='GeoJSON')"
   ]
  },
  {
   "cell_type": "code",
   "execution_count": 68,
   "metadata": {},
   "outputs": [],
   "source": [
    "current_la_geo.to_csv('output/current_la_geo.csv', index=False)"
   ]
  },
  {
   "cell_type": "markdown",
   "metadata": {},
   "source": [
    "---"
   ]
  },
  {
   "cell_type": "markdown",
   "metadata": {},
   "source": [
    "## Aggregate"
   ]
  },
  {
   "cell_type": "markdown",
   "metadata": {},
   "source": [
    "### What's the average share of Covid patients in hospitals statewide?"
   ]
  },
  {
   "cell_type": "code",
   "execution_count": 69,
   "metadata": {},
   "outputs": [],
   "source": [
    "state = current_ca.groupby(['week']).agg({'total_covid_patients':'sum', 'all_patients':'sum'}).reset_index()"
   ]
  },
  {
   "cell_type": "code",
   "execution_count": 70,
   "metadata": {},
   "outputs": [],
   "source": [
    "state['covid_patients_share'] = round((\n",
    "    state[\"total_covid_patients\"]\n",
    "    / state[\"all_patients\"]\n",
    "),2)"
   ]
  },
  {
   "cell_type": "code",
   "execution_count": 71,
   "metadata": {},
   "outputs": [
    {
     "data": {
      "text/html": [
       "<div>\n",
       "<style scoped>\n",
       "    .dataframe tbody tr th:only-of-type {\n",
       "        vertical-align: middle;\n",
       "    }\n",
       "\n",
       "    .dataframe tbody tr th {\n",
       "        vertical-align: top;\n",
       "    }\n",
       "\n",
       "    .dataframe thead th {\n",
       "        text-align: right;\n",
       "    }\n",
       "</style>\n",
       "<table border=\"1\" class=\"dataframe\">\n",
       "  <thead>\n",
       "    <tr style=\"text-align: right;\">\n",
       "      <th></th>\n",
       "      <th>week</th>\n",
       "      <th>total_covid_patients</th>\n",
       "      <th>all_patients</th>\n",
       "      <th>covid_patients_share</th>\n",
       "    </tr>\n",
       "  </thead>\n",
       "  <tbody>\n",
       "    <tr>\n",
       "      <th>0</th>\n",
       "      <td>2020-12-25</td>\n",
       "      <td>20642.0</td>\n",
       "      <td>49688.0</td>\n",
       "      <td>0.42</td>\n",
       "    </tr>\n",
       "  </tbody>\n",
       "</table>\n",
       "</div>"
      ],
      "text/plain": [
       "        week  total_covid_patients  all_patients  covid_patients_share\n",
       "0 2020-12-25               20642.0       49688.0                  0.42"
      ]
     },
     "execution_count": 71,
     "metadata": {},
     "output_type": "execute_result"
    }
   ],
   "source": [
    "state.head()"
   ]
  },
  {
   "cell_type": "markdown",
   "metadata": {},
   "source": [
    "### Covid patients by county"
   ]
  },
  {
   "cell_type": "code",
   "execution_count": 72,
   "metadata": {},
   "outputs": [],
   "source": [
    "counties = trimmed_timeseries.groupby(['county', 'week']).agg({'total_covid_patients':'sum', 'all_patients':'sum'}).reset_index()"
   ]
  },
  {
   "cell_type": "code",
   "execution_count": 73,
   "metadata": {},
   "outputs": [],
   "source": [
    "counties['covid_patients_share'] = round((\n",
    "    counties[\"total_covid_patients\"]\n",
    "    / counties[\"all_patients\"]\n",
    "),2)"
   ]
  },
  {
   "cell_type": "markdown",
   "metadata": {},
   "source": [
    "#### Which counties have the most Covid patients (in most recent week)?"
   ]
  },
  {
   "cell_type": "code",
   "execution_count": 74,
   "metadata": {},
   "outputs": [
    {
     "data": {
      "text/html": [
       "<div>\n",
       "<style scoped>\n",
       "    .dataframe tbody tr th:only-of-type {\n",
       "        vertical-align: middle;\n",
       "    }\n",
       "\n",
       "    .dataframe tbody tr th {\n",
       "        vertical-align: top;\n",
       "    }\n",
       "\n",
       "    .dataframe thead th {\n",
       "        text-align: right;\n",
       "    }\n",
       "</style>\n",
       "<table border=\"1\" class=\"dataframe\">\n",
       "  <thead>\n",
       "    <tr style=\"text-align: right;\">\n",
       "      <th></th>\n",
       "      <th>county</th>\n",
       "      <th>week</th>\n",
       "      <th>total_covid_patients</th>\n",
       "      <th>all_patients</th>\n",
       "      <th>covid_patients_share</th>\n",
       "    </tr>\n",
       "  </thead>\n",
       "  <tbody>\n",
       "    <tr>\n",
       "      <th>391</th>\n",
       "      <td>Los Angeles</td>\n",
       "      <td>2020-12-25</td>\n",
       "      <td>7584.0</td>\n",
       "      <td>15201.0</td>\n",
       "      <td>0.50</td>\n",
       "    </tr>\n",
       "    <tr>\n",
       "      <th>633</th>\n",
       "      <td>Orange</td>\n",
       "      <td>2020-12-25</td>\n",
       "      <td>2048.0</td>\n",
       "      <td>4387.0</td>\n",
       "      <td>0.47</td>\n",
       "    </tr>\n",
       "    <tr>\n",
       "      <th>764</th>\n",
       "      <td>San Bernardino</td>\n",
       "      <td>2020-12-25</td>\n",
       "      <td>1725.0</td>\n",
       "      <td>3160.0</td>\n",
       "      <td>0.55</td>\n",
       "    </tr>\n",
       "    <tr>\n",
       "      <th>699</th>\n",
       "      <td>Riverside</td>\n",
       "      <td>2020-12-25</td>\n",
       "      <td>1525.0</td>\n",
       "      <td>2760.0</td>\n",
       "      <td>0.55</td>\n",
       "    </tr>\n",
       "    <tr>\n",
       "      <th>786</th>\n",
       "      <td>San Diego</td>\n",
       "      <td>2020-12-25</td>\n",
       "      <td>1516.0</td>\n",
       "      <td>4192.0</td>\n",
       "      <td>0.36</td>\n",
       "    </tr>\n",
       "  </tbody>\n",
       "</table>\n",
       "</div>"
      ],
      "text/plain": [
       "             county       week  total_covid_patients  all_patients  \\\n",
       "391     Los Angeles 2020-12-25                7584.0       15201.0   \n",
       "633          Orange 2020-12-25                2048.0        4387.0   \n",
       "764  San Bernardino 2020-12-25                1725.0        3160.0   \n",
       "699       Riverside 2020-12-25                1525.0        2760.0   \n",
       "786       San Diego 2020-12-25                1516.0        4192.0   \n",
       "\n",
       "     covid_patients_share  \n",
       "391                  0.50  \n",
       "633                  0.47  \n",
       "764                  0.55  \n",
       "699                  0.55  \n",
       "786                  0.36  "
      ]
     },
     "execution_count": 74,
     "metadata": {},
     "output_type": "execute_result"
    }
   ],
   "source": [
    "counties[counties['week'] == counties['week'].max()].sort_values('total_covid_patients', ascending=False).head(5)"
   ]
  },
  {
   "cell_type": "markdown",
   "metadata": {},
   "source": [
    "#### Which counties have the highest percentage of Covid patients (in most recent week)?"
   ]
  },
  {
   "cell_type": "code",
   "execution_count": 75,
   "metadata": {},
   "outputs": [
    {
     "data": {
      "text/html": [
       "<div>\n",
       "<style scoped>\n",
       "    .dataframe tbody tr th:only-of-type {\n",
       "        vertical-align: middle;\n",
       "    }\n",
       "\n",
       "    .dataframe tbody tr th {\n",
       "        vertical-align: top;\n",
       "    }\n",
       "\n",
       "    .dataframe thead th {\n",
       "        text-align: right;\n",
       "    }\n",
       "</style>\n",
       "<table border=\"1\" class=\"dataframe\">\n",
       "  <thead>\n",
       "    <tr style=\"text-align: right;\">\n",
       "      <th></th>\n",
       "      <th>county</th>\n",
       "      <th>week</th>\n",
       "      <th>total_covid_patients</th>\n",
       "      <th>all_patients</th>\n",
       "      <th>covid_patients_share</th>\n",
       "    </tr>\n",
       "  </thead>\n",
       "  <tbody>\n",
       "    <tr>\n",
       "      <th>391</th>\n",
       "      <td>Los Angeles</td>\n",
       "      <td>2020-12-25</td>\n",
       "      <td>7584.0</td>\n",
       "      <td>15201.0</td>\n",
       "      <td>0.50</td>\n",
       "    </tr>\n",
       "    <tr>\n",
       "      <th>633</th>\n",
       "      <td>Orange</td>\n",
       "      <td>2020-12-25</td>\n",
       "      <td>2048.0</td>\n",
       "      <td>4387.0</td>\n",
       "      <td>0.47</td>\n",
       "    </tr>\n",
       "    <tr>\n",
       "      <th>764</th>\n",
       "      <td>San Bernardino</td>\n",
       "      <td>2020-12-25</td>\n",
       "      <td>1725.0</td>\n",
       "      <td>3160.0</td>\n",
       "      <td>0.55</td>\n",
       "    </tr>\n",
       "    <tr>\n",
       "      <th>699</th>\n",
       "      <td>Riverside</td>\n",
       "      <td>2020-12-25</td>\n",
       "      <td>1525.0</td>\n",
       "      <td>2760.0</td>\n",
       "      <td>0.55</td>\n",
       "    </tr>\n",
       "    <tr>\n",
       "      <th>786</th>\n",
       "      <td>San Diego</td>\n",
       "      <td>2020-12-25</td>\n",
       "      <td>1516.0</td>\n",
       "      <td>4192.0</td>\n",
       "      <td>0.36</td>\n",
       "    </tr>\n",
       "  </tbody>\n",
       "</table>\n",
       "</div>"
      ],
      "text/plain": [
       "             county       week  total_covid_patients  all_patients  \\\n",
       "391     Los Angeles 2020-12-25                7584.0       15201.0   \n",
       "633          Orange 2020-12-25                2048.0        4387.0   \n",
       "764  San Bernardino 2020-12-25                1725.0        3160.0   \n",
       "699       Riverside 2020-12-25                1525.0        2760.0   \n",
       "786       San Diego 2020-12-25                1516.0        4192.0   \n",
       "\n",
       "     covid_patients_share  \n",
       "391                  0.50  \n",
       "633                  0.47  \n",
       "764                  0.55  \n",
       "699                  0.55  \n",
       "786                  0.36  "
      ]
     },
     "execution_count": 75,
     "metadata": {},
     "output_type": "execute_result"
    }
   ],
   "source": [
    "counties[counties['week'] == counties['week'].max()].sort_values('total_covid_patients', ascending=False).head(5)"
   ]
  },
  {
   "cell_type": "markdown",
   "metadata": {},
   "source": [
    "### How has this changed over time? "
   ]
  },
  {
   "cell_type": "code",
   "execution_count": 76,
   "metadata": {},
   "outputs": [],
   "source": [
    "counties_grouped = counties.groupby(['county', 'week']).agg({'total_covid_patients':'sum', 'covid_patients_share':'sum'}).reset_index()"
   ]
  },
  {
   "cell_type": "code",
   "execution_count": 77,
   "metadata": {},
   "outputs": [],
   "source": [
    "la_grouped = pd.DataFrame(counties_grouped[counties_grouped['county'] == 'Los Angeles'])"
   ]
  },
  {
   "cell_type": "code",
   "execution_count": 78,
   "metadata": {},
   "outputs": [
    {
     "data": {
      "text/html": [
       "<div>\n",
       "<style scoped>\n",
       "    .dataframe tbody tr th:only-of-type {\n",
       "        vertical-align: middle;\n",
       "    }\n",
       "\n",
       "    .dataframe tbody tr th {\n",
       "        vertical-align: top;\n",
       "    }\n",
       "\n",
       "    .dataframe thead th {\n",
       "        text-align: right;\n",
       "    }\n",
       "</style>\n",
       "<table border=\"1\" class=\"dataframe\">\n",
       "  <thead>\n",
       "    <tr style=\"text-align: right;\">\n",
       "      <th></th>\n",
       "      <th>county</th>\n",
       "      <th>week</th>\n",
       "      <th>total_covid_patients</th>\n",
       "      <th>covid_patients_share</th>\n",
       "    </tr>\n",
       "  </thead>\n",
       "  <tbody>\n",
       "    <tr>\n",
       "      <th>387</th>\n",
       "      <td>Los Angeles</td>\n",
       "      <td>2020-11-27</td>\n",
       "      <td>2743.0</td>\n",
       "      <td>0.21</td>\n",
       "    </tr>\n",
       "    <tr>\n",
       "      <th>388</th>\n",
       "      <td>Los Angeles</td>\n",
       "      <td>2020-12-04</td>\n",
       "      <td>3666.0</td>\n",
       "      <td>0.26</td>\n",
       "    </tr>\n",
       "    <tr>\n",
       "      <th>389</th>\n",
       "      <td>Los Angeles</td>\n",
       "      <td>2020-12-11</td>\n",
       "      <td>5038.0</td>\n",
       "      <td>0.34</td>\n",
       "    </tr>\n",
       "    <tr>\n",
       "      <th>390</th>\n",
       "      <td>Los Angeles</td>\n",
       "      <td>2020-12-18</td>\n",
       "      <td>6497.0</td>\n",
       "      <td>0.43</td>\n",
       "    </tr>\n",
       "    <tr>\n",
       "      <th>391</th>\n",
       "      <td>Los Angeles</td>\n",
       "      <td>2020-12-25</td>\n",
       "      <td>7584.0</td>\n",
       "      <td>0.50</td>\n",
       "    </tr>\n",
       "  </tbody>\n",
       "</table>\n",
       "</div>"
      ],
      "text/plain": [
       "          county       week  total_covid_patients  covid_patients_share\n",
       "387  Los Angeles 2020-11-27                2743.0                  0.21\n",
       "388  Los Angeles 2020-12-04                3666.0                  0.26\n",
       "389  Los Angeles 2020-12-11                5038.0                  0.34\n",
       "390  Los Angeles 2020-12-18                6497.0                  0.43\n",
       "391  Los Angeles 2020-12-25                7584.0                  0.50"
      ]
     },
     "execution_count": 78,
     "metadata": {},
     "output_type": "execute_result"
    }
   ],
   "source": [
    "la_grouped.tail()"
   ]
  },
  {
   "cell_type": "code",
   "execution_count": 79,
   "metadata": {},
   "outputs": [],
   "source": [
    "la_grouped.to_csv('output/la_grouped.csv', index=False)"
   ]
  },
  {
   "cell_type": "code",
   "execution_count": 80,
   "metadata": {},
   "outputs": [
    {
     "data": {
      "text/html": [
       "\n",
       "<div id=\"altair-viz-c51bab62f691453d806d05a138ab99a8\"></div>\n",
       "<script type=\"text/javascript\">\n",
       "  (function(spec, embedOpt){\n",
       "    const outputDiv = document.getElementById(\"altair-viz-c51bab62f691453d806d05a138ab99a8\");\n",
       "    const paths = {\n",
       "      \"vega\": \"https://cdn.jsdelivr.net/npm//vega@5?noext\",\n",
       "      \"vega-lib\": \"https://cdn.jsdelivr.net/npm//vega-lib?noext\",\n",
       "      \"vega-lite\": \"https://cdn.jsdelivr.net/npm//vega-lite@4.0.2?noext\",\n",
       "      \"vega-embed\": \"https://cdn.jsdelivr.net/npm//vega-embed@6?noext\",\n",
       "    };\n",
       "\n",
       "    function loadScript(lib) {\n",
       "      return new Promise(function(resolve, reject) {\n",
       "        var s = document.createElement('script');\n",
       "        s.src = paths[lib];\n",
       "        s.async = true;\n",
       "        s.onload = () => resolve(paths[lib]);\n",
       "        s.onerror = () => reject(`Error loading script: ${paths[lib]}`);\n",
       "        document.getElementsByTagName(\"head\")[0].appendChild(s);\n",
       "      });\n",
       "    }\n",
       "\n",
       "    function showError(err) {\n",
       "      outputDiv.innerHTML = `<div class=\"error\" style=\"color:red;\">${err}</div>`;\n",
       "      throw err;\n",
       "    }\n",
       "\n",
       "    function displayChart(vegaEmbed) {\n",
       "      vegaEmbed(outputDiv, spec, embedOpt)\n",
       "        .catch(err => showError(`Javascript Error: ${err.message}<br>This usually means there's a typo in your chart specification. See the javascript console for the full traceback.`));\n",
       "    }\n",
       "\n",
       "    if(typeof define === \"function\" && define.amd) {\n",
       "      requirejs.config({paths});\n",
       "      require([\"vega-embed\"], displayChart, err => showError(`Error loading script: ${err.message}`));\n",
       "    } else if (typeof vegaEmbed === \"function\") {\n",
       "      displayChart(vegaEmbed);\n",
       "    } else {\n",
       "      loadScript(\"vega\")\n",
       "        .then(() => loadScript(\"vega-lite\"))\n",
       "        .then(() => loadScript(\"vega-embed\"))\n",
       "        .catch(showError)\n",
       "        .then(() => displayChart(vegaEmbed));\n",
       "    }\n",
       "  })({\"config\": {\"view\": {\"width\": 800, \"height\": 450}, \"background\": \"#ffffff\", \"title\": {\"anchor\": \"start\", \"font\": \"Benton Gothic Bold, sans\", \"fontColor\": \"#000000\", \"fontSize\": 22, \"fontWeight\": \"normal\"}, \"arc\": {\"fill\": \"#82c6df\"}, \"area\": {\"fill\": \"#82c6df\"}, \"line\": {\"stroke\": \"#82c6df\", \"strokeWidth\": 3}, \"path\": {\"stroke\": \"#82c6df\"}, \"rect\": {\"fill\": \"#82c6df\"}, \"shape\": {\"stroke\": \"#82c6df\"}, \"bar\": {\"fill\": \"#82c6df\"}, \"point\": {\"stroke\": \"#82c6df\"}, \"symbol\": {\"fill\": \"#82c6df\", \"size\": 30}, \"axis\": {\"titleFont\": \"Benton Gothic Bold, sans\", \"titleFontSize\": 13, \"titleFontWeight\": \"normal\", \"labelFont\": \"Benton Gothic, sans\", \"labelFontSize\": 11.5, \"labelFontWeight\": \"normal\"}, \"axisX\": {\"labelAngle\": 0, \"labelPadding\": 4, \"tickSize\": 3}, \"axisY\": {\"labelBaseline\": \"middle\", \"maxExtent\": 45, \"minExtent\": 45, \"tickSize\": 2, \"titleAlign\": \"left\", \"titleAngle\": 0, \"titleX\": -45, \"titleY\": -11}, \"legend\": {\"titleFont\": \"Benton Gothic Bold, sans\", \"titleFontSize\": 13, \"titleFontWeight\": \"normal\", \"symbolType\": \"square\", \"labelFont\": \"Benton Gothic, sans\", \"labelFontSize\": 11.5}, \"range\": {\"category\": [\"#3580b1\", \"#ec8431\", \"#ab7fb4\", \"#c89d29\", \"#adc839\", \"#829eb1\"], \"diverging\": [\"#e68a4f\", \"#f4bb6a\", \"#f9e39c\", \"#dadfe2\", \"#a6b7c6\", \"#849eae\"], \"heatmap\": [\"#fbf2c7\", \"#f9e39c\", \"#f8d36e\", \"#f4bb6a\", \"#e68a4f\", \"#d15a40\", \"#ab4232\"], \"ordinal\": [\"#fbf2c7\", \"#f9e39c\", \"#f8d36e\", \"#f4bb6a\", \"#e68a4f\", \"#d15a40\", \"#ab4232\"], \"ramp\": [\"#fbf2c7\", \"#f9e39c\", \"#f8d36e\", \"#f4bb6a\", \"#e68a4f\", \"#d15a40\", \"#ab4232\"]}}, \"data\": {\"name\": \"data-170e5e3f990d2b82ca884b724e2d7f20\"}, \"mark\": \"area\", \"encoding\": {\"x\": {\"type\": \"temporal\", \"axis\": {\"format\": \"\", \"tickCount\": 3, \"title\": \" \"}, \"field\": \"week\"}, \"y\": {\"type\": \"quantitative\", \"axis\": {\"format\": \"%\", \"tickCount\": 6}, \"field\": \"covid_patients_share\", \"title\": \"Covid patients in LA County hospitals\"}}, \"height\": 500, \"width\": 500, \"$schema\": \"https://vega.github.io/schema/vega-lite/v4.0.2.json\", \"datasets\": {\"data-170e5e3f990d2b82ca884b724e2d7f20\": [{\"county\": \"Los Angeles\", \"week\": \"2020-07-31T00:00:00\", \"total_covid_patients\": 2319.0, \"covid_patients_share\": 0.19}, {\"county\": \"Los Angeles\", \"week\": \"2020-08-07T00:00:00\", \"total_covid_patients\": 2025.0, \"covid_patients_share\": 0.16}, {\"county\": \"Los Angeles\", \"week\": \"2020-08-14T00:00:00\", \"total_covid_patients\": 1950.0, \"covid_patients_share\": 0.16}, {\"county\": \"Los Angeles\", \"week\": \"2020-08-21T00:00:00\", \"total_covid_patients\": 1724.0, \"covid_patients_share\": 0.14}, {\"county\": \"Los Angeles\", \"week\": \"2020-08-28T00:00:00\", \"total_covid_patients\": 1456.0, \"covid_patients_share\": 0.12}, {\"county\": \"Los Angeles\", \"week\": \"2020-09-04T00:00:00\", \"total_covid_patients\": 1307.0, \"covid_patients_share\": 0.11}, {\"county\": \"Los Angeles\", \"week\": \"2020-09-11T00:00:00\", \"total_covid_patients\": 1120.0, \"covid_patients_share\": 0.09}, {\"county\": \"Los Angeles\", \"week\": \"2020-09-18T00:00:00\", \"total_covid_patients\": 1105.0, \"covid_patients_share\": 0.09}, {\"county\": \"Los Angeles\", \"week\": \"2020-09-25T00:00:00\", \"total_covid_patients\": 1065.0, \"covid_patients_share\": 0.09}, {\"county\": \"Los Angeles\", \"week\": \"2020-10-02T00:00:00\", \"total_covid_patients\": 1048.0, \"covid_patients_share\": 0.08}, {\"county\": \"Los Angeles\", \"week\": \"2020-10-09T00:00:00\", \"total_covid_patients\": 1066.0, \"covid_patients_share\": 0.09}, {\"county\": \"Los Angeles\", \"week\": \"2020-10-16T00:00:00\", \"total_covid_patients\": 1072.0, \"covid_patients_share\": 0.09}, {\"county\": \"Los Angeles\", \"week\": \"2020-10-23T00:00:00\", \"total_covid_patients\": 1032.0, \"covid_patients_share\": 0.08}, {\"county\": \"Los Angeles\", \"week\": \"2020-10-30T00:00:00\", \"total_covid_patients\": 1112.0, \"covid_patients_share\": 0.09}, {\"county\": \"Los Angeles\", \"week\": \"2020-11-06T00:00:00\", \"total_covid_patients\": 1215.0, \"covid_patients_share\": 0.09}, {\"county\": \"Los Angeles\", \"week\": \"2020-11-13T00:00:00\", \"total_covid_patients\": 1511.0, \"covid_patients_share\": 0.12}, {\"county\": \"Los Angeles\", \"week\": \"2020-11-20T00:00:00\", \"total_covid_patients\": 2023.0, \"covid_patients_share\": 0.15}, {\"county\": \"Los Angeles\", \"week\": \"2020-11-27T00:00:00\", \"total_covid_patients\": 2743.0, \"covid_patients_share\": 0.21}, {\"county\": \"Los Angeles\", \"week\": \"2020-12-04T00:00:00\", \"total_covid_patients\": 3666.0, \"covid_patients_share\": 0.26}, {\"county\": \"Los Angeles\", \"week\": \"2020-12-11T00:00:00\", \"total_covid_patients\": 5038.0, \"covid_patients_share\": 0.34}, {\"county\": \"Los Angeles\", \"week\": \"2020-12-18T00:00:00\", \"total_covid_patients\": 6497.0, \"covid_patients_share\": 0.43}, {\"county\": \"Los Angeles\", \"week\": \"2020-12-25T00:00:00\", \"total_covid_patients\": 7584.0, \"covid_patients_share\": 0.5}]}}, {\"mode\": \"vega-lite\"});\n",
       "</script>"
      ],
      "text/plain": [
       "alt.Chart(...)"
      ]
     },
     "execution_count": 80,
     "metadata": {},
     "output_type": "execute_result"
    }
   ],
   "source": [
    "alt.Chart(la_grouped).mark_area().encode(\n",
    "    x=alt.X('week:T', axis=alt.Axis(format='', title=' ', tickCount=3)),\n",
    "    y = alt.Y('covid_patients_share', title='Covid patients in LA County hospitals', axis=alt.Axis(format='%', tickCount=6)),\n",
    ").properties(width=500, height=500)"
   ]
  },
  {
   "cell_type": "markdown",
   "metadata": {},
   "source": [
    "### Just southern California counties? "
   ]
  },
  {
   "cell_type": "code",
   "execution_count": 81,
   "metadata": {},
   "outputs": [],
   "source": [
    "socal_grouped = counties_grouped[counties_grouped['county'].isin(socal)].groupby(['county','week']).agg({'total_covid_patients':'sum', 'covid_patients_share':'mean'}).reset_index()"
   ]
  },
  {
   "cell_type": "code",
   "execution_count": 83,
   "metadata": {},
   "outputs": [
    {
     "data": {
      "text/html": [
       "\n",
       "<div id=\"altair-viz-b703fe9c729644ed8cb9fef19616962d\"></div>\n",
       "<script type=\"text/javascript\">\n",
       "  (function(spec, embedOpt){\n",
       "    const outputDiv = document.getElementById(\"altair-viz-b703fe9c729644ed8cb9fef19616962d\");\n",
       "    const paths = {\n",
       "      \"vega\": \"https://cdn.jsdelivr.net/npm//vega@5?noext\",\n",
       "      \"vega-lib\": \"https://cdn.jsdelivr.net/npm//vega-lib?noext\",\n",
       "      \"vega-lite\": \"https://cdn.jsdelivr.net/npm//vega-lite@4.0.2?noext\",\n",
       "      \"vega-embed\": \"https://cdn.jsdelivr.net/npm//vega-embed@6?noext\",\n",
       "    };\n",
       "\n",
       "    function loadScript(lib) {\n",
       "      return new Promise(function(resolve, reject) {\n",
       "        var s = document.createElement('script');\n",
       "        s.src = paths[lib];\n",
       "        s.async = true;\n",
       "        s.onload = () => resolve(paths[lib]);\n",
       "        s.onerror = () => reject(`Error loading script: ${paths[lib]}`);\n",
       "        document.getElementsByTagName(\"head\")[0].appendChild(s);\n",
       "      });\n",
       "    }\n",
       "\n",
       "    function showError(err) {\n",
       "      outputDiv.innerHTML = `<div class=\"error\" style=\"color:red;\">${err}</div>`;\n",
       "      throw err;\n",
       "    }\n",
       "\n",
       "    function displayChart(vegaEmbed) {\n",
       "      vegaEmbed(outputDiv, spec, embedOpt)\n",
       "        .catch(err => showError(`Javascript Error: ${err.message}<br>This usually means there's a typo in your chart specification. See the javascript console for the full traceback.`));\n",
       "    }\n",
       "\n",
       "    if(typeof define === \"function\" && define.amd) {\n",
       "      requirejs.config({paths});\n",
       "      require([\"vega-embed\"], displayChart, err => showError(`Error loading script: ${err.message}`));\n",
       "    } else if (typeof vegaEmbed === \"function\") {\n",
       "      displayChart(vegaEmbed);\n",
       "    } else {\n",
       "      loadScript(\"vega\")\n",
       "        .then(() => loadScript(\"vega-lite\"))\n",
       "        .then(() => loadScript(\"vega-embed\"))\n",
       "        .catch(showError)\n",
       "        .then(() => displayChart(vegaEmbed));\n",
       "    }\n",
       "  })({\"config\": {\"view\": {\"width\": 800, \"height\": 450}, \"background\": \"#ffffff\", \"title\": {\"anchor\": \"start\", \"font\": \"Benton Gothic Bold, sans\", \"fontColor\": \"#000000\", \"fontSize\": 22, \"fontWeight\": \"normal\"}, \"arc\": {\"fill\": \"#82c6df\"}, \"area\": {\"fill\": \"#82c6df\"}, \"line\": {\"stroke\": \"#82c6df\", \"strokeWidth\": 3}, \"path\": {\"stroke\": \"#82c6df\"}, \"rect\": {\"fill\": \"#82c6df\"}, \"shape\": {\"stroke\": \"#82c6df\"}, \"bar\": {\"fill\": \"#82c6df\"}, \"point\": {\"stroke\": \"#82c6df\"}, \"symbol\": {\"fill\": \"#82c6df\", \"size\": 30}, \"axis\": {\"titleFont\": \"Benton Gothic Bold, sans\", \"titleFontSize\": 13, \"titleFontWeight\": \"normal\", \"labelFont\": \"Benton Gothic, sans\", \"labelFontSize\": 11.5, \"labelFontWeight\": \"normal\"}, \"axisX\": {\"labelAngle\": 0, \"labelPadding\": 4, \"tickSize\": 3}, \"axisY\": {\"labelBaseline\": \"middle\", \"maxExtent\": 45, \"minExtent\": 45, \"tickSize\": 2, \"titleAlign\": \"left\", \"titleAngle\": 0, \"titleX\": -45, \"titleY\": -11}, \"legend\": {\"titleFont\": \"Benton Gothic Bold, sans\", \"titleFontSize\": 13, \"titleFontWeight\": \"normal\", \"symbolType\": \"square\", \"labelFont\": \"Benton Gothic, sans\", \"labelFontSize\": 11.5}, \"range\": {\"category\": [\"#3580b1\", \"#ec8431\", \"#ab7fb4\", \"#c89d29\", \"#adc839\", \"#829eb1\"], \"diverging\": [\"#e68a4f\", \"#f4bb6a\", \"#f9e39c\", \"#dadfe2\", \"#a6b7c6\", \"#849eae\"], \"heatmap\": [\"#fbf2c7\", \"#f9e39c\", \"#f8d36e\", \"#f4bb6a\", \"#e68a4f\", \"#d15a40\", \"#ab4232\"], \"ordinal\": [\"#fbf2c7\", \"#f9e39c\", \"#f8d36e\", \"#f4bb6a\", \"#e68a4f\", \"#d15a40\", \"#ab4232\"], \"ramp\": [\"#fbf2c7\", \"#f9e39c\", \"#f8d36e\", \"#f4bb6a\", \"#e68a4f\", \"#d15a40\", \"#ab4232\"]}}, \"data\": {\"name\": \"data-0b99f8e287c18d7cedda0bf381bf6569\"}, \"mark\": \"area\", \"encoding\": {\"facet\": {\"type\": \"nominal\", \"field\": \"county\"}, \"x\": {\"type\": \"temporal\", \"axis\": {\"format\": \"\", \"tickCount\": 3, \"title\": \" \"}, \"field\": \"week\"}, \"y\": {\"type\": \"quantitative\", \"axis\": {\"format\": \"%\", \"tickCount\": 6, \"title\": \"\"}, \"field\": \"covid_patients_share\", \"title\": \" \"}}, \"height\": 200, \"title\": \"Share of all patients with Covid in SoCal Counties\", \"width\": 200, \"$schema\": \"https://vega.github.io/schema/vega-lite/v4.0.2.json\", \"datasets\": {\"data-0b99f8e287c18d7cedda0bf381bf6569\": [{\"county\": \"Los Angeles\", \"week\": \"2020-07-31T00:00:00\", \"total_covid_patients\": 2319.0, \"covid_patients_share\": 0.19}, {\"county\": \"Los Angeles\", \"week\": \"2020-08-07T00:00:00\", \"total_covid_patients\": 2025.0, \"covid_patients_share\": 0.16}, {\"county\": \"Los Angeles\", \"week\": \"2020-08-14T00:00:00\", \"total_covid_patients\": 1950.0, \"covid_patients_share\": 0.16}, {\"county\": \"Los Angeles\", \"week\": \"2020-08-21T00:00:00\", \"total_covid_patients\": 1724.0, \"covid_patients_share\": 0.14}, {\"county\": \"Los Angeles\", \"week\": \"2020-08-28T00:00:00\", \"total_covid_patients\": 1456.0, \"covid_patients_share\": 0.12}, {\"county\": \"Los Angeles\", \"week\": \"2020-09-04T00:00:00\", \"total_covid_patients\": 1307.0, \"covid_patients_share\": 0.11}, {\"county\": \"Los Angeles\", \"week\": \"2020-09-11T00:00:00\", \"total_covid_patients\": 1120.0, \"covid_patients_share\": 0.09}, {\"county\": \"Los Angeles\", \"week\": \"2020-09-18T00:00:00\", \"total_covid_patients\": 1105.0, \"covid_patients_share\": 0.09}, {\"county\": \"Los Angeles\", \"week\": \"2020-09-25T00:00:00\", \"total_covid_patients\": 1065.0, \"covid_patients_share\": 0.09}, {\"county\": \"Los Angeles\", \"week\": \"2020-10-02T00:00:00\", \"total_covid_patients\": 1048.0, \"covid_patients_share\": 0.08}, {\"county\": \"Los Angeles\", \"week\": \"2020-10-09T00:00:00\", \"total_covid_patients\": 1066.0, \"covid_patients_share\": 0.09}, {\"county\": \"Los Angeles\", \"week\": \"2020-10-16T00:00:00\", \"total_covid_patients\": 1072.0, \"covid_patients_share\": 0.09}, {\"county\": \"Los Angeles\", \"week\": \"2020-10-23T00:00:00\", \"total_covid_patients\": 1032.0, \"covid_patients_share\": 0.08}, {\"county\": \"Los Angeles\", \"week\": \"2020-10-30T00:00:00\", \"total_covid_patients\": 1112.0, \"covid_patients_share\": 0.09}, {\"county\": \"Los Angeles\", \"week\": \"2020-11-06T00:00:00\", \"total_covid_patients\": 1215.0, \"covid_patients_share\": 0.09}, {\"county\": \"Los Angeles\", \"week\": \"2020-11-13T00:00:00\", \"total_covid_patients\": 1511.0, \"covid_patients_share\": 0.12}, {\"county\": \"Los Angeles\", \"week\": \"2020-11-20T00:00:00\", \"total_covid_patients\": 2023.0, \"covid_patients_share\": 0.15}, {\"county\": \"Los Angeles\", \"week\": \"2020-11-27T00:00:00\", \"total_covid_patients\": 2743.0, \"covid_patients_share\": 0.21}, {\"county\": \"Los Angeles\", \"week\": \"2020-12-04T00:00:00\", \"total_covid_patients\": 3666.0, \"covid_patients_share\": 0.26}, {\"county\": \"Los Angeles\", \"week\": \"2020-12-11T00:00:00\", \"total_covid_patients\": 5038.0, \"covid_patients_share\": 0.34}, {\"county\": \"Los Angeles\", \"week\": \"2020-12-18T00:00:00\", \"total_covid_patients\": 6497.0, \"covid_patients_share\": 0.43}, {\"county\": \"Los Angeles\", \"week\": \"2020-12-25T00:00:00\", \"total_covid_patients\": 7584.0, \"covid_patients_share\": 0.5}, {\"county\": \"Orange\", \"week\": \"2020-07-31T00:00:00\", \"total_covid_patients\": 581.0, \"covid_patients_share\": 0.16}, {\"county\": \"Orange\", \"week\": \"2020-08-07T00:00:00\", \"total_covid_patients\": 519.0, \"covid_patients_share\": 0.16}, {\"county\": \"Orange\", \"week\": \"2020-08-14T00:00:00\", \"total_covid_patients\": 472.0, \"covid_patients_share\": 0.14}, {\"county\": \"Orange\", \"week\": \"2020-08-21T00:00:00\", \"total_covid_patients\": 451.0, \"covid_patients_share\": 0.13}, {\"county\": \"Orange\", \"week\": \"2020-08-28T00:00:00\", \"total_covid_patients\": 354.0, \"covid_patients_share\": 0.1}, {\"county\": \"Orange\", \"week\": \"2020-09-04T00:00:00\", \"total_covid_patients\": 291.0, \"covid_patients_share\": 0.09}, {\"county\": \"Orange\", \"week\": \"2020-09-11T00:00:00\", \"total_covid_patients\": 245.0, \"covid_patients_share\": 0.07}, {\"county\": \"Orange\", \"week\": \"2020-09-18T00:00:00\", \"total_covid_patients\": 232.0, \"covid_patients_share\": 0.07}, {\"county\": \"Orange\", \"week\": \"2020-09-25T00:00:00\", \"total_covid_patients\": 217.0, \"covid_patients_share\": 0.06}, {\"county\": \"Orange\", \"week\": \"2020-10-02T00:00:00\", \"total_covid_patients\": 217.0, \"covid_patients_share\": 0.06}, {\"county\": \"Orange\", \"week\": \"2020-10-09T00:00:00\", \"total_covid_patients\": 211.0, \"covid_patients_share\": 0.06}, {\"county\": \"Orange\", \"week\": \"2020-10-16T00:00:00\", \"total_covid_patients\": 211.0, \"covid_patients_share\": 0.06}, {\"county\": \"Orange\", \"week\": \"2020-10-23T00:00:00\", \"total_covid_patients\": 208.0, \"covid_patients_share\": 0.06}, {\"county\": \"Orange\", \"week\": \"2020-10-30T00:00:00\", \"total_covid_patients\": 213.0, \"covid_patients_share\": 0.06}, {\"county\": \"Orange\", \"week\": \"2020-11-06T00:00:00\", \"total_covid_patients\": 261.0, \"covid_patients_share\": 0.07}, {\"county\": \"Orange\", \"week\": \"2020-11-13T00:00:00\", \"total_covid_patients\": 324.0, \"covid_patients_share\": 0.09}, {\"county\": \"Orange\", \"week\": \"2020-11-20T00:00:00\", \"total_covid_patients\": 488.0, \"covid_patients_share\": 0.14}, {\"county\": \"Orange\", \"week\": \"2020-11-27T00:00:00\", \"total_covid_patients\": 694.0, \"covid_patients_share\": 0.19}, {\"county\": \"Orange\", \"week\": \"2020-12-04T00:00:00\", \"total_covid_patients\": 991.0, \"covid_patients_share\": 0.25}, {\"county\": \"Orange\", \"week\": \"2020-12-11T00:00:00\", \"total_covid_patients\": 1433.0, \"covid_patients_share\": 0.34}, {\"county\": \"Orange\", \"week\": \"2020-12-18T00:00:00\", \"total_covid_patients\": 1805.0, \"covid_patients_share\": 0.43}, {\"county\": \"Orange\", \"week\": \"2020-12-25T00:00:00\", \"total_covid_patients\": 2048.0, \"covid_patients_share\": 0.47}, {\"county\": \"Riverside\", \"week\": \"2020-07-31T00:00:00\", \"total_covid_patients\": 529.0, \"covid_patients_share\": 0.24}, {\"county\": \"Riverside\", \"week\": \"2020-08-07T00:00:00\", \"total_covid_patients\": 468.0, \"covid_patients_share\": 0.23}, {\"county\": \"Riverside\", \"week\": \"2020-08-14T00:00:00\", \"total_covid_patients\": 409.0, \"covid_patients_share\": 0.19}, {\"county\": \"Riverside\", \"week\": \"2020-08-21T00:00:00\", \"total_covid_patients\": 340.0, \"covid_patients_share\": 0.16}, {\"county\": \"Riverside\", \"week\": \"2020-08-28T00:00:00\", \"total_covid_patients\": 297.0, \"covid_patients_share\": 0.14}, {\"county\": \"Riverside\", \"week\": \"2020-09-04T00:00:00\", \"total_covid_patients\": 234.0, \"covid_patients_share\": 0.11}, {\"county\": \"Riverside\", \"week\": \"2020-09-11T00:00:00\", \"total_covid_patients\": 207.0, \"covid_patients_share\": 0.1}, {\"county\": \"Riverside\", \"week\": \"2020-09-18T00:00:00\", \"total_covid_patients\": 192.0, \"covid_patients_share\": 0.1}, {\"county\": \"Riverside\", \"week\": \"2020-09-25T00:00:00\", \"total_covid_patients\": 182.0, \"covid_patients_share\": 0.09}, {\"county\": \"Riverside\", \"week\": \"2020-10-02T00:00:00\", \"total_covid_patients\": 213.0, \"covid_patients_share\": 0.1}, {\"county\": \"Riverside\", \"week\": \"2020-10-09T00:00:00\", \"total_covid_patients\": 202.0, \"covid_patients_share\": 0.09}, {\"county\": \"Riverside\", \"week\": \"2020-10-16T00:00:00\", \"total_covid_patients\": 214.0, \"covid_patients_share\": 0.1}, {\"county\": \"Riverside\", \"week\": \"2020-10-23T00:00:00\", \"total_covid_patients\": 211.0, \"covid_patients_share\": 0.1}, {\"county\": \"Riverside\", \"week\": \"2020-10-30T00:00:00\", \"total_covid_patients\": 241.0, \"covid_patients_share\": 0.11}, {\"county\": \"Riverside\", \"week\": \"2020-11-06T00:00:00\", \"total_covid_patients\": 296.0, \"covid_patients_share\": 0.14}, {\"county\": \"Riverside\", \"week\": \"2020-11-13T00:00:00\", \"total_covid_patients\": 399.0, \"covid_patients_share\": 0.18}, {\"county\": \"Riverside\", \"week\": \"2020-11-20T00:00:00\", \"total_covid_patients\": 505.0, \"covid_patients_share\": 0.22}, {\"county\": \"Riverside\", \"week\": \"2020-11-27T00:00:00\", \"total_covid_patients\": 670.0, \"covid_patients_share\": 0.28}, {\"county\": \"Riverside\", \"week\": \"2020-12-04T00:00:00\", \"total_covid_patients\": 843.0, \"covid_patients_share\": 0.34}, {\"county\": \"Riverside\", \"week\": \"2020-12-11T00:00:00\", \"total_covid_patients\": 1072.0, \"covid_patients_share\": 0.42}, {\"county\": \"Riverside\", \"week\": \"2020-12-18T00:00:00\", \"total_covid_patients\": 1360.0, \"covid_patients_share\": 0.5}, {\"county\": \"Riverside\", \"week\": \"2020-12-25T00:00:00\", \"total_covid_patients\": 1525.0, \"covid_patients_share\": 0.55}, {\"county\": \"San Bernardino\", \"week\": \"2020-07-31T00:00:00\", \"total_covid_patients\": 613.0, \"covid_patients_share\": 0.23}, {\"county\": \"San Bernardino\", \"week\": \"2020-08-07T00:00:00\", \"total_covid_patients\": 550.0, \"covid_patients_share\": 0.22}, {\"county\": \"San Bernardino\", \"week\": \"2020-08-14T00:00:00\", \"total_covid_patients\": 516.0, \"covid_patients_share\": 0.2}, {\"county\": \"San Bernardino\", \"week\": \"2020-08-21T00:00:00\", \"total_covid_patients\": 420.0, \"covid_patients_share\": 0.17}, {\"county\": \"San Bernardino\", \"week\": \"2020-08-28T00:00:00\", \"total_covid_patients\": 332.0, \"covid_patients_share\": 0.14}, {\"county\": \"San Bernardino\", \"week\": \"2020-09-04T00:00:00\", \"total_covid_patients\": 270.0, \"covid_patients_share\": 0.11}, {\"county\": \"San Bernardino\", \"week\": \"2020-09-11T00:00:00\", \"total_covid_patients\": 233.0, \"covid_patients_share\": 0.1}, {\"county\": \"San Bernardino\", \"week\": \"2020-09-18T00:00:00\", \"total_covid_patients\": 220.0, \"covid_patients_share\": 0.09}, {\"county\": \"San Bernardino\", \"week\": \"2020-09-25T00:00:00\", \"total_covid_patients\": 212.0, \"covid_patients_share\": 0.09}, {\"county\": \"San Bernardino\", \"week\": \"2020-10-02T00:00:00\", \"total_covid_patients\": 234.0, \"covid_patients_share\": 0.1}, {\"county\": \"San Bernardino\", \"week\": \"2020-10-09T00:00:00\", \"total_covid_patients\": 241.0, \"covid_patients_share\": 0.1}, {\"county\": \"San Bernardino\", \"week\": \"2020-10-16T00:00:00\", \"total_covid_patients\": 234.0, \"covid_patients_share\": 0.09}, {\"county\": \"San Bernardino\", \"week\": \"2020-10-23T00:00:00\", \"total_covid_patients\": 265.0, \"covid_patients_share\": 0.1}, {\"county\": \"San Bernardino\", \"week\": \"2020-10-30T00:00:00\", \"total_covid_patients\": 309.0, \"covid_patients_share\": 0.12}, {\"county\": \"San Bernardino\", \"week\": \"2020-11-06T00:00:00\", \"total_covid_patients\": 335.0, \"covid_patients_share\": 0.13}, {\"county\": \"San Bernardino\", \"week\": \"2020-11-13T00:00:00\", \"total_covid_patients\": 457.0, \"covid_patients_share\": 0.17}, {\"county\": \"San Bernardino\", \"week\": \"2020-11-20T00:00:00\", \"total_covid_patients\": 621.0, \"covid_patients_share\": 0.23}, {\"county\": \"San Bernardino\", \"week\": \"2020-11-27T00:00:00\", \"total_covid_patients\": 868.0, \"covid_patients_share\": 0.31}, {\"county\": \"San Bernardino\", \"week\": \"2020-12-04T00:00:00\", \"total_covid_patients\": 1091.0, \"covid_patients_share\": 0.38}, {\"county\": \"San Bernardino\", \"week\": \"2020-12-11T00:00:00\", \"total_covid_patients\": 1408.0, \"covid_patients_share\": 0.48}, {\"county\": \"San Bernardino\", \"week\": \"2020-12-18T00:00:00\", \"total_covid_patients\": 1650.0, \"covid_patients_share\": 0.53}, {\"county\": \"San Bernardino\", \"week\": \"2020-12-25T00:00:00\", \"total_covid_patients\": 1725.0, \"covid_patients_share\": 0.55}, {\"county\": \"Ventura\", \"week\": \"2020-07-31T00:00:00\", \"total_covid_patients\": 119.0, \"covid_patients_share\": 0.15}, {\"county\": \"Ventura\", \"week\": \"2020-08-07T00:00:00\", \"total_covid_patients\": 107.0, \"covid_patients_share\": 0.14}, {\"county\": \"Ventura\", \"week\": \"2020-08-14T00:00:00\", \"total_covid_patients\": 108.0, \"covid_patients_share\": 0.14}, {\"county\": \"Ventura\", \"week\": \"2020-08-21T00:00:00\", \"total_covid_patients\": 107.0, \"covid_patients_share\": 0.14}, {\"county\": \"Ventura\", \"week\": \"2020-08-28T00:00:00\", \"total_covid_patients\": 90.0, \"covid_patients_share\": 0.12}, {\"county\": \"Ventura\", \"week\": \"2020-09-04T00:00:00\", \"total_covid_patients\": 84.0, \"covid_patients_share\": 0.11}, {\"county\": \"Ventura\", \"week\": \"2020-09-11T00:00:00\", \"total_covid_patients\": 65.0, \"covid_patients_share\": 0.09}, {\"county\": \"Ventura\", \"week\": \"2020-09-18T00:00:00\", \"total_covid_patients\": 60.0, \"covid_patients_share\": 0.08}, {\"county\": \"Ventura\", \"week\": \"2020-09-25T00:00:00\", \"total_covid_patients\": 57.0, \"covid_patients_share\": 0.08}, {\"county\": \"Ventura\", \"week\": \"2020-10-02T00:00:00\", \"total_covid_patients\": 45.0, \"covid_patients_share\": 0.06}, {\"county\": \"Ventura\", \"week\": \"2020-10-09T00:00:00\", \"total_covid_patients\": 47.0, \"covid_patients_share\": 0.06}, {\"county\": \"Ventura\", \"week\": \"2020-10-16T00:00:00\", \"total_covid_patients\": 38.0, \"covid_patients_share\": 0.05}, {\"county\": \"Ventura\", \"week\": \"2020-10-23T00:00:00\", \"total_covid_patients\": 39.0, \"covid_patients_share\": 0.05}, {\"county\": \"Ventura\", \"week\": \"2020-10-30T00:00:00\", \"total_covid_patients\": 37.0, \"covid_patients_share\": 0.05}, {\"county\": \"Ventura\", \"week\": \"2020-11-06T00:00:00\", \"total_covid_patients\": 45.0, \"covid_patients_share\": 0.06}, {\"county\": \"Ventura\", \"week\": \"2020-11-13T00:00:00\", \"total_covid_patients\": 50.0, \"covid_patients_share\": 0.07}, {\"county\": \"Ventura\", \"week\": \"2020-11-20T00:00:00\", \"total_covid_patients\": 77.0, \"covid_patients_share\": 0.1}, {\"county\": \"Ventura\", \"week\": \"2020-11-27T00:00:00\", \"total_covid_patients\": 105.0, \"covid_patients_share\": 0.13}, {\"county\": \"Ventura\", \"week\": \"2020-12-04T00:00:00\", \"total_covid_patients\": 137.0, \"covid_patients_share\": 0.16}, {\"county\": \"Ventura\", \"week\": \"2020-12-11T00:00:00\", \"total_covid_patients\": 212.0, \"covid_patients_share\": 0.25}, {\"county\": \"Ventura\", \"week\": \"2020-12-18T00:00:00\", \"total_covid_patients\": 300.0, \"covid_patients_share\": 0.34}, {\"county\": \"Ventura\", \"week\": \"2020-12-25T00:00:00\", \"total_covid_patients\": 364.0, \"covid_patients_share\": 0.42}]}}, {\"mode\": \"vega-lite\"});\n",
       "</script>"
      ],
      "text/plain": [
       "alt.Chart(...)"
      ]
     },
     "execution_count": 83,
     "metadata": {},
     "output_type": "execute_result"
    }
   ],
   "source": [
    "alt.Chart(socal_grouped).mark_area().encode(\n",
    "    x=alt.X('week:T', axis=alt.Axis(format='', title=' ', tickCount=3)),\n",
    "    y = alt.Y('covid_patients_share', title=' ', axis=alt.Axis(format='%', title='', tickCount=6)),\n",
    "    facet=alt.Facet('county')\n",
    ").properties(width=200, height=200, title='Share of all patients with Covid in SoCal Counties')"
   ]
  },
  {
   "cell_type": "markdown",
   "metadata": {},
   "source": [
    "### Bay Area? "
   ]
  },
  {
   "cell_type": "code",
   "execution_count": 84,
   "metadata": {},
   "outputs": [],
   "source": [
    "bayarea_grouped = counties_grouped[counties_grouped['county'].isin(bayarea)].groupby(['week']).agg({'total_covid_patients':'sum', 'covid_patients_share':'mean'}).reset_index()"
   ]
  },
  {
   "cell_type": "code",
   "execution_count": 85,
   "metadata": {},
   "outputs": [
    {
     "data": {
      "text/html": [
       "<div>\n",
       "<style scoped>\n",
       "    .dataframe tbody tr th:only-of-type {\n",
       "        vertical-align: middle;\n",
       "    }\n",
       "\n",
       "    .dataframe tbody tr th {\n",
       "        vertical-align: top;\n",
       "    }\n",
       "\n",
       "    .dataframe thead th {\n",
       "        text-align: right;\n",
       "    }\n",
       "</style>\n",
       "<table border=\"1\" class=\"dataframe\">\n",
       "  <thead>\n",
       "    <tr style=\"text-align: right;\">\n",
       "      <th></th>\n",
       "      <th>week</th>\n",
       "      <th>total_covid_patients</th>\n",
       "      <th>covid_patients_share</th>\n",
       "    </tr>\n",
       "  </thead>\n",
       "  <tbody>\n",
       "    <tr>\n",
       "      <th>17</th>\n",
       "      <td>2020-11-27</td>\n",
       "      <td>939.0</td>\n",
       "      <td>0.121111</td>\n",
       "    </tr>\n",
       "    <tr>\n",
       "      <th>18</th>\n",
       "      <td>2020-12-04</td>\n",
       "      <td>1183.0</td>\n",
       "      <td>0.146667</td>\n",
       "    </tr>\n",
       "    <tr>\n",
       "      <th>19</th>\n",
       "      <td>2020-12-11</td>\n",
       "      <td>1515.0</td>\n",
       "      <td>0.182222</td>\n",
       "    </tr>\n",
       "    <tr>\n",
       "      <th>20</th>\n",
       "      <td>2020-12-18</td>\n",
       "      <td>1806.0</td>\n",
       "      <td>0.210000</td>\n",
       "    </tr>\n",
       "    <tr>\n",
       "      <th>21</th>\n",
       "      <td>2020-12-25</td>\n",
       "      <td>2002.0</td>\n",
       "      <td>0.235556</td>\n",
       "    </tr>\n",
       "  </tbody>\n",
       "</table>\n",
       "</div>"
      ],
      "text/plain": [
       "         week  total_covid_patients  covid_patients_share\n",
       "17 2020-11-27                 939.0              0.121111\n",
       "18 2020-12-04                1183.0              0.146667\n",
       "19 2020-12-11                1515.0              0.182222\n",
       "20 2020-12-18                1806.0              0.210000\n",
       "21 2020-12-25                2002.0              0.235556"
      ]
     },
     "execution_count": 85,
     "metadata": {},
     "output_type": "execute_result"
    }
   ],
   "source": [
    "bayarea_grouped.tail()"
   ]
  },
  {
   "cell_type": "code",
   "execution_count": 86,
   "metadata": {},
   "outputs": [
    {
     "data": {
      "text/html": [
       "\n",
       "<div id=\"altair-viz-a930a53509004464b80978b021fa2f08\"></div>\n",
       "<script type=\"text/javascript\">\n",
       "  (function(spec, embedOpt){\n",
       "    const outputDiv = document.getElementById(\"altair-viz-a930a53509004464b80978b021fa2f08\");\n",
       "    const paths = {\n",
       "      \"vega\": \"https://cdn.jsdelivr.net/npm//vega@5?noext\",\n",
       "      \"vega-lib\": \"https://cdn.jsdelivr.net/npm//vega-lib?noext\",\n",
       "      \"vega-lite\": \"https://cdn.jsdelivr.net/npm//vega-lite@4.0.2?noext\",\n",
       "      \"vega-embed\": \"https://cdn.jsdelivr.net/npm//vega-embed@6?noext\",\n",
       "    };\n",
       "\n",
       "    function loadScript(lib) {\n",
       "      return new Promise(function(resolve, reject) {\n",
       "        var s = document.createElement('script');\n",
       "        s.src = paths[lib];\n",
       "        s.async = true;\n",
       "        s.onload = () => resolve(paths[lib]);\n",
       "        s.onerror = () => reject(`Error loading script: ${paths[lib]}`);\n",
       "        document.getElementsByTagName(\"head\")[0].appendChild(s);\n",
       "      });\n",
       "    }\n",
       "\n",
       "    function showError(err) {\n",
       "      outputDiv.innerHTML = `<div class=\"error\" style=\"color:red;\">${err}</div>`;\n",
       "      throw err;\n",
       "    }\n",
       "\n",
       "    function displayChart(vegaEmbed) {\n",
       "      vegaEmbed(outputDiv, spec, embedOpt)\n",
       "        .catch(err => showError(`Javascript Error: ${err.message}<br>This usually means there's a typo in your chart specification. See the javascript console for the full traceback.`));\n",
       "    }\n",
       "\n",
       "    if(typeof define === \"function\" && define.amd) {\n",
       "      requirejs.config({paths});\n",
       "      require([\"vega-embed\"], displayChart, err => showError(`Error loading script: ${err.message}`));\n",
       "    } else if (typeof vegaEmbed === \"function\") {\n",
       "      displayChart(vegaEmbed);\n",
       "    } else {\n",
       "      loadScript(\"vega\")\n",
       "        .then(() => loadScript(\"vega-lite\"))\n",
       "        .then(() => loadScript(\"vega-embed\"))\n",
       "        .catch(showError)\n",
       "        .then(() => displayChart(vegaEmbed));\n",
       "    }\n",
       "  })({\"config\": {\"view\": {\"width\": 800, \"height\": 450}, \"background\": \"#ffffff\", \"title\": {\"anchor\": \"start\", \"font\": \"Benton Gothic Bold, sans\", \"fontColor\": \"#000000\", \"fontSize\": 22, \"fontWeight\": \"normal\"}, \"arc\": {\"fill\": \"#82c6df\"}, \"area\": {\"fill\": \"#82c6df\"}, \"line\": {\"stroke\": \"#82c6df\", \"strokeWidth\": 3}, \"path\": {\"stroke\": \"#82c6df\"}, \"rect\": {\"fill\": \"#82c6df\"}, \"shape\": {\"stroke\": \"#82c6df\"}, \"bar\": {\"fill\": \"#82c6df\"}, \"point\": {\"stroke\": \"#82c6df\"}, \"symbol\": {\"fill\": \"#82c6df\", \"size\": 30}, \"axis\": {\"titleFont\": \"Benton Gothic Bold, sans\", \"titleFontSize\": 13, \"titleFontWeight\": \"normal\", \"labelFont\": \"Benton Gothic, sans\", \"labelFontSize\": 11.5, \"labelFontWeight\": \"normal\"}, \"axisX\": {\"labelAngle\": 0, \"labelPadding\": 4, \"tickSize\": 3}, \"axisY\": {\"labelBaseline\": \"middle\", \"maxExtent\": 45, \"minExtent\": 45, \"tickSize\": 2, \"titleAlign\": \"left\", \"titleAngle\": 0, \"titleX\": -45, \"titleY\": -11}, \"legend\": {\"titleFont\": \"Benton Gothic Bold, sans\", \"titleFontSize\": 13, \"titleFontWeight\": \"normal\", \"symbolType\": \"square\", \"labelFont\": \"Benton Gothic, sans\", \"labelFontSize\": 11.5}, \"range\": {\"category\": [\"#3580b1\", \"#ec8431\", \"#ab7fb4\", \"#c89d29\", \"#adc839\", \"#829eb1\"], \"diverging\": [\"#e68a4f\", \"#f4bb6a\", \"#f9e39c\", \"#dadfe2\", \"#a6b7c6\", \"#849eae\"], \"heatmap\": [\"#fbf2c7\", \"#f9e39c\", \"#f8d36e\", \"#f4bb6a\", \"#e68a4f\", \"#d15a40\", \"#ab4232\"], \"ordinal\": [\"#fbf2c7\", \"#f9e39c\", \"#f8d36e\", \"#f4bb6a\", \"#e68a4f\", \"#d15a40\", \"#ab4232\"], \"ramp\": [\"#fbf2c7\", \"#f9e39c\", \"#f8d36e\", \"#f4bb6a\", \"#e68a4f\", \"#d15a40\", \"#ab4232\"]}}, \"data\": {\"name\": \"data-08b8013d7d8e300deeae6bb9bb7205e8\"}, \"mark\": \"area\", \"encoding\": {\"x\": {\"type\": \"temporal\", \"axis\": {\"format\": \"\", \"tickCount\": 3, \"title\": \" \"}, \"field\": \"week\"}, \"y\": {\"type\": \"quantitative\", \"axis\": {\"format\": \"%\", \"tickCount\": 6, \"title\": \"Share of all patients with Covid in Bay Area\"}, \"field\": \"covid_patients_share\", \"title\": \" \"}}, \"height\": 500, \"width\": 500, \"$schema\": \"https://vega.github.io/schema/vega-lite/v4.0.2.json\", \"datasets\": {\"data-08b8013d7d8e300deeae6bb9bb7205e8\": [{\"week\": \"2020-07-31T00:00:00\", \"total_covid_patients\": 914.0, \"covid_patients_share\": 0.11888888888888889}, {\"week\": \"2020-08-07T00:00:00\", \"total_covid_patients\": 829.0, \"covid_patients_share\": 0.1111111111111111}, {\"week\": \"2020-08-14T00:00:00\", \"total_covid_patients\": 859.0, \"covid_patients_share\": 0.10666666666666666}, {\"week\": \"2020-08-21T00:00:00\", \"total_covid_patients\": 803.0, \"covid_patients_share\": 0.1011111111111111}, {\"week\": \"2020-08-28T00:00:00\", \"total_covid_patients\": 713.0, \"covid_patients_share\": 0.08888888888888889}, {\"week\": \"2020-09-04T00:00:00\", \"total_covid_patients\": 652.0, \"covid_patients_share\": 0.08888888888888889}, {\"week\": \"2020-09-11T00:00:00\", \"total_covid_patients\": 606.0, \"covid_patients_share\": 0.08333333333333333}, {\"week\": \"2020-09-18T00:00:00\", \"total_covid_patients\": 531.0, \"covid_patients_share\": 0.06888888888888887}, {\"week\": \"2020-09-25T00:00:00\", \"total_covid_patients\": 461.0, \"covid_patients_share\": 0.06222222222222223}, {\"week\": \"2020-10-02T00:00:00\", \"total_covid_patients\": 439.0, \"covid_patients_share\": 0.06666666666666667}, {\"week\": \"2020-10-09T00:00:00\", \"total_covid_patients\": 408.0, \"covid_patients_share\": 0.05888888888888889}, {\"week\": \"2020-10-16T00:00:00\", \"total_covid_patients\": 377.0, \"covid_patients_share\": 0.05555555555555555}, {\"week\": \"2020-10-23T00:00:00\", \"total_covid_patients\": 377.0, \"covid_patients_share\": 0.05333333333333334}, {\"week\": \"2020-10-30T00:00:00\", \"total_covid_patients\": 415.0, \"covid_patients_share\": 0.05777777777777778}, {\"week\": \"2020-11-06T00:00:00\", \"total_covid_patients\": 455.0, \"covid_patients_share\": 0.06555555555555556}, {\"week\": \"2020-11-13T00:00:00\", \"total_covid_patients\": 529.0, \"covid_patients_share\": 0.07}, {\"week\": \"2020-11-20T00:00:00\", \"total_covid_patients\": 707.0, \"covid_patients_share\": 0.08777777777777779}, {\"week\": \"2020-11-27T00:00:00\", \"total_covid_patients\": 939.0, \"covid_patients_share\": 0.12111111111111111}, {\"week\": \"2020-12-04T00:00:00\", \"total_covid_patients\": 1183.0, \"covid_patients_share\": 0.14666666666666664}, {\"week\": \"2020-12-11T00:00:00\", \"total_covid_patients\": 1515.0, \"covid_patients_share\": 0.1822222222222222}, {\"week\": \"2020-12-18T00:00:00\", \"total_covid_patients\": 1806.0, \"covid_patients_share\": 0.21000000000000002}, {\"week\": \"2020-12-25T00:00:00\", \"total_covid_patients\": 2002.0, \"covid_patients_share\": 0.23555555555555557}]}}, {\"mode\": \"vega-lite\"});\n",
       "</script>"
      ],
      "text/plain": [
       "alt.Chart(...)"
      ]
     },
     "execution_count": 86,
     "metadata": {},
     "output_type": "execute_result"
    }
   ],
   "source": [
    "alt.Chart(bayarea_grouped).mark_area().encode(\n",
    "    x=alt.X('week:T', axis=alt.Axis(format='', title=' ', tickCount=3)),\n",
    "    y = alt.Y('covid_patients_share', title=' ', axis=alt.Axis(format='%', title='Share of all patients with Covid in Bay Area', tickCount=6)),\n",
    ").properties(width=500, height=500)"
   ]
  },
  {
   "cell_type": "markdown",
   "metadata": {},
   "source": [
    "---"
   ]
  },
  {
   "cell_type": "markdown",
   "metadata": {},
   "source": [
    "### What's going on in the most-populous counties "
   ]
  },
  {
   "cell_type": "code",
   "execution_count": 87,
   "metadata": {},
   "outputs": [],
   "source": [
    "counties_pop = pd.read_csv('../census/processed/acs5_2018_population_counties.csv', dtype={'geoid':str, 'population':int, 'state':str, 'county':str})"
   ]
  },
  {
   "cell_type": "code",
   "execution_count": 88,
   "metadata": {},
   "outputs": [],
   "source": [
    "counties_pop.rename(columns={'universe':'population'}, inplace=True)"
   ]
  },
  {
   "cell_type": "code",
   "execution_count": 89,
   "metadata": {},
   "outputs": [],
   "source": [
    "counties_pop.drop(['universe_annotation', 'universe_moe', 'universe_moe_annotation'], axis=1, inplace=True)"
   ]
  },
  {
   "cell_type": "code",
   "execution_count": 90,
   "metadata": {},
   "outputs": [],
   "source": [
    "ca_counties_pop = counties_pop[counties_pop['state'] == '06']"
   ]
  },
  {
   "cell_type": "code",
   "execution_count": 91,
   "metadata": {},
   "outputs": [],
   "source": [
    "big_ca_counties_pop = ca_counties_pop.sort_values('population', ascending=False).head(20)"
   ]
  },
  {
   "cell_type": "code",
   "execution_count": 92,
   "metadata": {},
   "outputs": [],
   "source": [
    "big_ca_counties_pop['name'] = big_ca_counties_pop['name'].str.replace(' County, California', '')"
   ]
  },
  {
   "cell_type": "code",
   "execution_count": 93,
   "metadata": {},
   "outputs": [],
   "source": [
    "big_counties = list(big_ca_counties_pop.name)"
   ]
  },
  {
   "cell_type": "code",
   "execution_count": 94,
   "metadata": {},
   "outputs": [
    {
     "data": {
      "text/plain": [
       "['Los Angeles',\n",
       " 'San Diego',\n",
       " 'Orange',\n",
       " 'Riverside',\n",
       " 'San Bernardino',\n",
       " 'Santa Clara',\n",
       " 'Alameda',\n",
       " 'Sacramento',\n",
       " 'Contra Costa',\n",
       " 'Fresno',\n",
       " 'Kern',\n",
       " 'San Francisco',\n",
       " 'Ventura',\n",
       " 'San Mateo',\n",
       " 'San Joaquin',\n",
       " 'Stanislaus',\n",
       " 'Sonoma',\n",
       " 'Tulare',\n",
       " 'Santa Barbara',\n",
       " 'Solano']"
      ]
     },
     "execution_count": 94,
     "metadata": {},
     "output_type": "execute_result"
    }
   ],
   "source": [
    "big_counties"
   ]
  },
  {
   "cell_type": "code",
   "execution_count": 95,
   "metadata": {},
   "outputs": [],
   "source": [
    "big_counties_grouped = counties_grouped[counties_grouped['county'].isin(big_counties)].groupby(['county', 'week']).agg({'total_covid_patients':'sum', 'covid_patients_share':'mean'}).reset_index()"
   ]
  },
  {
   "cell_type": "code",
   "execution_count": 96,
   "metadata": {},
   "outputs": [
    {
     "data": {
      "text/html": [
       "\n",
       "<div id=\"altair-viz-d2210b68024f44539b809bdb4da8cdf7\"></div>\n",
       "<script type=\"text/javascript\">\n",
       "  (function(spec, embedOpt){\n",
       "    const outputDiv = document.getElementById(\"altair-viz-d2210b68024f44539b809bdb4da8cdf7\");\n",
       "    const paths = {\n",
       "      \"vega\": \"https://cdn.jsdelivr.net/npm//vega@5?noext\",\n",
       "      \"vega-lib\": \"https://cdn.jsdelivr.net/npm//vega-lib?noext\",\n",
       "      \"vega-lite\": \"https://cdn.jsdelivr.net/npm//vega-lite@4.0.2?noext\",\n",
       "      \"vega-embed\": \"https://cdn.jsdelivr.net/npm//vega-embed@6?noext\",\n",
       "    };\n",
       "\n",
       "    function loadScript(lib) {\n",
       "      return new Promise(function(resolve, reject) {\n",
       "        var s = document.createElement('script');\n",
       "        s.src = paths[lib];\n",
       "        s.async = true;\n",
       "        s.onload = () => resolve(paths[lib]);\n",
       "        s.onerror = () => reject(`Error loading script: ${paths[lib]}`);\n",
       "        document.getElementsByTagName(\"head\")[0].appendChild(s);\n",
       "      });\n",
       "    }\n",
       "\n",
       "    function showError(err) {\n",
       "      outputDiv.innerHTML = `<div class=\"error\" style=\"color:red;\">${err}</div>`;\n",
       "      throw err;\n",
       "    }\n",
       "\n",
       "    function displayChart(vegaEmbed) {\n",
       "      vegaEmbed(outputDiv, spec, embedOpt)\n",
       "        .catch(err => showError(`Javascript Error: ${err.message}<br>This usually means there's a typo in your chart specification. See the javascript console for the full traceback.`));\n",
       "    }\n",
       "\n",
       "    if(typeof define === \"function\" && define.amd) {\n",
       "      requirejs.config({paths});\n",
       "      require([\"vega-embed\"], displayChart, err => showError(`Error loading script: ${err.message}`));\n",
       "    } else if (typeof vegaEmbed === \"function\") {\n",
       "      displayChart(vegaEmbed);\n",
       "    } else {\n",
       "      loadScript(\"vega\")\n",
       "        .then(() => loadScript(\"vega-lite\"))\n",
       "        .then(() => loadScript(\"vega-embed\"))\n",
       "        .catch(showError)\n",
       "        .then(() => displayChart(vegaEmbed));\n",
       "    }\n",
       "  })({\"config\": {\"view\": {\"width\": 800, \"height\": 450}, \"background\": \"#ffffff\", \"title\": {\"anchor\": \"start\", \"font\": \"Benton Gothic Bold, sans\", \"fontColor\": \"#000000\", \"fontSize\": 22, \"fontWeight\": \"normal\"}, \"arc\": {\"fill\": \"#82c6df\"}, \"area\": {\"fill\": \"#82c6df\"}, \"line\": {\"stroke\": \"#82c6df\", \"strokeWidth\": 3}, \"path\": {\"stroke\": \"#82c6df\"}, \"rect\": {\"fill\": \"#82c6df\"}, \"shape\": {\"stroke\": \"#82c6df\"}, \"bar\": {\"fill\": \"#82c6df\"}, \"point\": {\"stroke\": \"#82c6df\"}, \"symbol\": {\"fill\": \"#82c6df\", \"size\": 30}, \"axis\": {\"titleFont\": \"Benton Gothic Bold, sans\", \"titleFontSize\": 13, \"titleFontWeight\": \"normal\", \"labelFont\": \"Benton Gothic, sans\", \"labelFontSize\": 11.5, \"labelFontWeight\": \"normal\"}, \"axisX\": {\"labelAngle\": 0, \"labelPadding\": 4, \"tickSize\": 3}, \"axisY\": {\"labelBaseline\": \"middle\", \"maxExtent\": 45, \"minExtent\": 45, \"tickSize\": 2, \"titleAlign\": \"left\", \"titleAngle\": 0, \"titleX\": -45, \"titleY\": -11}, \"legend\": {\"titleFont\": \"Benton Gothic Bold, sans\", \"titleFontSize\": 13, \"titleFontWeight\": \"normal\", \"symbolType\": \"square\", \"labelFont\": \"Benton Gothic, sans\", \"labelFontSize\": 11.5}, \"range\": {\"category\": [\"#3580b1\", \"#ec8431\", \"#ab7fb4\", \"#c89d29\", \"#adc839\", \"#829eb1\"], \"diverging\": [\"#e68a4f\", \"#f4bb6a\", \"#f9e39c\", \"#dadfe2\", \"#a6b7c6\", \"#849eae\"], \"heatmap\": [\"#fbf2c7\", \"#f9e39c\", \"#f8d36e\", \"#f4bb6a\", \"#e68a4f\", \"#d15a40\", \"#ab4232\"], \"ordinal\": [\"#fbf2c7\", \"#f9e39c\", \"#f8d36e\", \"#f4bb6a\", \"#e68a4f\", \"#d15a40\", \"#ab4232\"], \"ramp\": [\"#fbf2c7\", \"#f9e39c\", \"#f8d36e\", \"#f4bb6a\", \"#e68a4f\", \"#d15a40\", \"#ab4232\"]}}, \"data\": {\"name\": \"data-b0ad9141c1d260fde28247bec3ff9c79\"}, \"mark\": \"area\", \"encoding\": {\"facet\": {\"type\": \"nominal\", \"columns\": 5, \"field\": \"county\"}, \"x\": {\"type\": \"temporal\", \"axis\": {\"format\": \"\", \"grid\": false, \"tickCount\": 3, \"title\": \" \"}, \"field\": \"week\"}, \"y\": {\"type\": \"quantitative\", \"axis\": {\"format\": \"%\", \"tickCount\": 3, \"title\": \"\"}, \"field\": \"covid_patients_share\", \"title\": \" \"}}, \"height\": 150, \"title\": \"Share of all patients with Covid in large Counties\", \"width\": 150, \"$schema\": \"https://vega.github.io/schema/vega-lite/v4.0.2.json\", \"datasets\": {\"data-b0ad9141c1d260fde28247bec3ff9c79\": [{\"county\": \"Alameda\", \"week\": \"2020-07-31T00:00:00\", \"total_covid_patients\": 251.0, \"covid_patients_share\": 0.16}, {\"county\": \"Alameda\", \"week\": \"2020-08-07T00:00:00\", \"total_covid_patients\": 218.0, \"covid_patients_share\": 0.14}, {\"county\": \"Alameda\", \"week\": \"2020-08-14T00:00:00\", \"total_covid_patients\": 254.0, \"covid_patients_share\": 0.16}, {\"county\": \"Alameda\", \"week\": \"2020-08-21T00:00:00\", \"total_covid_patients\": 250.0, \"covid_patients_share\": 0.16}, {\"county\": \"Alameda\", \"week\": \"2020-08-28T00:00:00\", \"total_covid_patients\": 222.0, \"covid_patients_share\": 0.14}, {\"county\": \"Alameda\", \"week\": \"2020-09-04T00:00:00\", \"total_covid_patients\": 197.0, \"covid_patients_share\": 0.13}, {\"county\": \"Alameda\", \"week\": \"2020-09-11T00:00:00\", \"total_covid_patients\": 164.0, \"covid_patients_share\": 0.11}, {\"county\": \"Alameda\", \"week\": \"2020-09-18T00:00:00\", \"total_covid_patients\": 138.0, \"covid_patients_share\": 0.09}, {\"county\": \"Alameda\", \"week\": \"2020-09-25T00:00:00\", \"total_covid_patients\": 121.0, \"covid_patients_share\": 0.08}, {\"county\": \"Alameda\", \"week\": \"2020-10-02T00:00:00\", \"total_covid_patients\": 108.0, \"covid_patients_share\": 0.07}, {\"county\": \"Alameda\", \"week\": \"2020-10-09T00:00:00\", \"total_covid_patients\": 103.0, \"covid_patients_share\": 0.07}, {\"county\": \"Alameda\", \"week\": \"2020-10-16T00:00:00\", \"total_covid_patients\": 98.0, \"covid_patients_share\": 0.07}, {\"county\": \"Alameda\", \"week\": \"2020-10-23T00:00:00\", \"total_covid_patients\": 94.0, \"covid_patients_share\": 0.07}, {\"county\": \"Alameda\", \"week\": \"2020-10-30T00:00:00\", \"total_covid_patients\": 111.0, \"covid_patients_share\": 0.08}, {\"county\": \"Alameda\", \"week\": \"2020-11-06T00:00:00\", \"total_covid_patients\": 111.0, \"covid_patients_share\": 0.08}, {\"county\": \"Alameda\", \"week\": \"2020-11-13T00:00:00\", \"total_covid_patients\": 118.0, \"covid_patients_share\": 0.08}, {\"county\": \"Alameda\", \"week\": \"2020-11-20T00:00:00\", \"total_covid_patients\": 164.0, \"covid_patients_share\": 0.11}, {\"county\": \"Alameda\", \"week\": \"2020-11-27T00:00:00\", \"total_covid_patients\": 223.0, \"covid_patients_share\": 0.15}, {\"county\": \"Alameda\", \"week\": \"2020-12-04T00:00:00\", \"total_covid_patients\": 276.0, \"covid_patients_share\": 0.18}, {\"county\": \"Alameda\", \"week\": \"2020-12-11T00:00:00\", \"total_covid_patients\": 362.0, \"covid_patients_share\": 0.22}, {\"county\": \"Alameda\", \"week\": \"2020-12-18T00:00:00\", \"total_covid_patients\": 421.0, \"covid_patients_share\": 0.26}, {\"county\": \"Alameda\", \"week\": \"2020-12-25T00:00:00\", \"total_covid_patients\": 468.0, \"covid_patients_share\": 0.29}, {\"county\": \"Contra Costa\", \"week\": \"2020-07-31T00:00:00\", \"total_covid_patients\": 131.0, \"covid_patients_share\": 0.13}, {\"county\": \"Contra Costa\", \"week\": \"2020-08-07T00:00:00\", \"total_covid_patients\": 123.0, \"covid_patients_share\": 0.13}, {\"county\": \"Contra Costa\", \"week\": \"2020-08-14T00:00:00\", \"total_covid_patients\": 116.0, \"covid_patients_share\": 0.12}, {\"county\": \"Contra Costa\", \"week\": \"2020-08-21T00:00:00\", \"total_covid_patients\": 108.0, \"covid_patients_share\": 0.12}, {\"county\": \"Contra Costa\", \"week\": \"2020-08-28T00:00:00\", \"total_covid_patients\": 100.0, \"covid_patients_share\": 0.11}, {\"county\": \"Contra Costa\", \"week\": \"2020-09-04T00:00:00\", \"total_covid_patients\": 86.0, \"covid_patients_share\": 0.09}, {\"county\": \"Contra Costa\", \"week\": \"2020-09-11T00:00:00\", \"total_covid_patients\": 83.0, \"covid_patients_share\": 0.09}, {\"county\": \"Contra Costa\", \"week\": \"2020-09-18T00:00:00\", \"total_covid_patients\": 68.0, \"covid_patients_share\": 0.07}, {\"county\": \"Contra Costa\", \"week\": \"2020-09-25T00:00:00\", \"total_covid_patients\": 47.0, \"covid_patients_share\": 0.05}, {\"county\": \"Contra Costa\", \"week\": \"2020-10-02T00:00:00\", \"total_covid_patients\": 48.0, \"covid_patients_share\": 0.05}, {\"county\": \"Contra Costa\", \"week\": \"2020-10-09T00:00:00\", \"total_covid_patients\": 41.0, \"covid_patients_share\": 0.04}, {\"county\": \"Contra Costa\", \"week\": \"2020-10-16T00:00:00\", \"total_covid_patients\": 33.0, \"covid_patients_share\": 0.04}, {\"county\": \"Contra Costa\", \"week\": \"2020-10-23T00:00:00\", \"total_covid_patients\": 37.0, \"covid_patients_share\": 0.04}, {\"county\": \"Contra Costa\", \"week\": \"2020-10-30T00:00:00\", \"total_covid_patients\": 47.0, \"covid_patients_share\": 0.05}, {\"county\": \"Contra Costa\", \"week\": \"2020-11-06T00:00:00\", \"total_covid_patients\": 55.0, \"covid_patients_share\": 0.06}, {\"county\": \"Contra Costa\", \"week\": \"2020-11-13T00:00:00\", \"total_covid_patients\": 70.0, \"covid_patients_share\": 0.07}, {\"county\": \"Contra Costa\", \"week\": \"2020-11-20T00:00:00\", \"total_covid_patients\": 91.0, \"covid_patients_share\": 0.09}, {\"county\": \"Contra Costa\", \"week\": \"2020-11-27T00:00:00\", \"total_covid_patients\": 120.0, \"covid_patients_share\": 0.13}, {\"county\": \"Contra Costa\", \"week\": \"2020-12-04T00:00:00\", \"total_covid_patients\": 152.0, \"covid_patients_share\": 0.15}, {\"county\": \"Contra Costa\", \"week\": \"2020-12-11T00:00:00\", \"total_covid_patients\": 183.0, \"covid_patients_share\": 0.18}, {\"county\": \"Contra Costa\", \"week\": \"2020-12-18T00:00:00\", \"total_covid_patients\": 234.0, \"covid_patients_share\": 0.23}, {\"county\": \"Contra Costa\", \"week\": \"2020-12-25T00:00:00\", \"total_covid_patients\": 253.0, \"covid_patients_share\": 0.25}, {\"county\": \"Fresno\", \"week\": \"2020-07-31T00:00:00\", \"total_covid_patients\": 337.0, \"covid_patients_share\": 0.27}, {\"county\": \"Fresno\", \"week\": \"2020-08-07T00:00:00\", \"total_covid_patients\": 317.0, \"covid_patients_share\": 0.24}, {\"county\": \"Fresno\", \"week\": \"2020-08-14T00:00:00\", \"total_covid_patients\": 276.0, \"covid_patients_share\": 0.21}, {\"county\": \"Fresno\", \"week\": \"2020-08-21T00:00:00\", \"total_covid_patients\": 270.0, \"covid_patients_share\": 0.2}, {\"county\": \"Fresno\", \"week\": \"2020-08-28T00:00:00\", \"total_covid_patients\": 213.0, \"covid_patients_share\": 0.16}, {\"county\": \"Fresno\", \"week\": \"2020-09-04T00:00:00\", \"total_covid_patients\": 172.0, \"covid_patients_share\": 0.13}, {\"county\": \"Fresno\", \"week\": \"2020-09-11T00:00:00\", \"total_covid_patients\": 136.0, \"covid_patients_share\": 0.11}, {\"county\": \"Fresno\", \"week\": \"2020-09-18T00:00:00\", \"total_covid_patients\": 112.0, \"covid_patients_share\": 0.09}, {\"county\": \"Fresno\", \"week\": \"2020-09-25T00:00:00\", \"total_covid_patients\": 102.0, \"covid_patients_share\": 0.08}, {\"county\": \"Fresno\", \"week\": \"2020-10-02T00:00:00\", \"total_covid_patients\": 123.0, \"covid_patients_share\": 0.1}, {\"county\": \"Fresno\", \"week\": \"2020-10-09T00:00:00\", \"total_covid_patients\": 108.0, \"covid_patients_share\": 0.09}, {\"county\": \"Fresno\", \"week\": \"2020-10-16T00:00:00\", \"total_covid_patients\": 119.0, \"covid_patients_share\": 0.09}, {\"county\": \"Fresno\", \"week\": \"2020-10-23T00:00:00\", \"total_covid_patients\": 111.0, \"covid_patients_share\": 0.08}, {\"county\": \"Fresno\", \"week\": \"2020-10-30T00:00:00\", \"total_covid_patients\": 116.0, \"covid_patients_share\": 0.08}, {\"county\": \"Fresno\", \"week\": \"2020-11-06T00:00:00\", \"total_covid_patients\": 136.0, \"covid_patients_share\": 0.09}, {\"county\": \"Fresno\", \"week\": \"2020-11-13T00:00:00\", \"total_covid_patients\": 180.0, \"covid_patients_share\": 0.12}, {\"county\": \"Fresno\", \"week\": \"2020-11-20T00:00:00\", \"total_covid_patients\": 267.0, \"covid_patients_share\": 0.18}, {\"county\": \"Fresno\", \"week\": \"2020-11-27T00:00:00\", \"total_covid_patients\": 336.0, \"covid_patients_share\": 0.22}, {\"county\": \"Fresno\", \"week\": \"2020-12-04T00:00:00\", \"total_covid_patients\": 464.0, \"covid_patients_share\": 0.29}, {\"county\": \"Fresno\", \"week\": \"2020-12-11T00:00:00\", \"total_covid_patients\": 535.0, \"covid_patients_share\": 0.35}, {\"county\": \"Fresno\", \"week\": \"2020-12-18T00:00:00\", \"total_covid_patients\": 620.0, \"covid_patients_share\": 0.39}, {\"county\": \"Fresno\", \"week\": \"2020-12-25T00:00:00\", \"total_covid_patients\": 652.0, \"covid_patients_share\": 0.43}, {\"county\": \"Kern\", \"week\": \"2020-07-31T00:00:00\", \"total_covid_patients\": 241.0, \"covid_patients_share\": 0.3}, {\"county\": \"Kern\", \"week\": \"2020-08-07T00:00:00\", \"total_covid_patients\": 214.0, \"covid_patients_share\": 0.27}, {\"county\": \"Kern\", \"week\": \"2020-08-14T00:00:00\", \"total_covid_patients\": 179.0, \"covid_patients_share\": 0.22}, {\"county\": \"Kern\", \"week\": \"2020-08-21T00:00:00\", \"total_covid_patients\": 154.0, \"covid_patients_share\": 0.19}, {\"county\": \"Kern\", \"week\": \"2020-08-28T00:00:00\", \"total_covid_patients\": 121.0, \"covid_patients_share\": 0.15}, {\"county\": \"Kern\", \"week\": \"2020-09-04T00:00:00\", \"total_covid_patients\": 94.0, \"covid_patients_share\": 0.12}, {\"county\": \"Kern\", \"week\": \"2020-09-11T00:00:00\", \"total_covid_patients\": 80.0, \"covid_patients_share\": 0.11}, {\"county\": \"Kern\", \"week\": \"2020-09-18T00:00:00\", \"total_covid_patients\": 73.0, \"covid_patients_share\": 0.1}, {\"county\": \"Kern\", \"week\": \"2020-09-25T00:00:00\", \"total_covid_patients\": 71.0, \"covid_patients_share\": 0.1}, {\"county\": \"Kern\", \"week\": \"2020-10-02T00:00:00\", \"total_covid_patients\": 65.0, \"covid_patients_share\": 0.09}, {\"county\": \"Kern\", \"week\": \"2020-10-09T00:00:00\", \"total_covid_patients\": 59.0, \"covid_patients_share\": 0.08}, {\"county\": \"Kern\", \"week\": \"2020-10-16T00:00:00\", \"total_covid_patients\": 59.0, \"covid_patients_share\": 0.08}, {\"county\": \"Kern\", \"week\": \"2020-10-23T00:00:00\", \"total_covid_patients\": 50.0, \"covid_patients_share\": 0.07}, {\"county\": \"Kern\", \"week\": \"2020-10-30T00:00:00\", \"total_covid_patients\": 54.0, \"covid_patients_share\": 0.07}, {\"county\": \"Kern\", \"week\": \"2020-11-06T00:00:00\", \"total_covid_patients\": 65.0, \"covid_patients_share\": 0.09}, {\"county\": \"Kern\", \"week\": \"2020-11-13T00:00:00\", \"total_covid_patients\": 88.0, \"covid_patients_share\": 0.11}, {\"county\": \"Kern\", \"week\": \"2020-11-20T00:00:00\", \"total_covid_patients\": 129.0, \"covid_patients_share\": 0.17}, {\"county\": \"Kern\", \"week\": \"2020-11-27T00:00:00\", \"total_covid_patients\": 179.0, \"covid_patients_share\": 0.23}, {\"county\": \"Kern\", \"week\": \"2020-12-04T00:00:00\", \"total_covid_patients\": 223.0, \"covid_patients_share\": 0.26}, {\"county\": \"Kern\", \"week\": \"2020-12-11T00:00:00\", \"total_covid_patients\": 291.0, \"covid_patients_share\": 0.32}, {\"county\": \"Kern\", \"week\": \"2020-12-18T00:00:00\", \"total_covid_patients\": 336.0, \"covid_patients_share\": 0.37}, {\"county\": \"Kern\", \"week\": \"2020-12-25T00:00:00\", \"total_covid_patients\": 375.0, \"covid_patients_share\": 0.42}, {\"county\": \"Los Angeles\", \"week\": \"2020-07-31T00:00:00\", \"total_covid_patients\": 2319.0, \"covid_patients_share\": 0.19}, {\"county\": \"Los Angeles\", \"week\": \"2020-08-07T00:00:00\", \"total_covid_patients\": 2025.0, \"covid_patients_share\": 0.16}, {\"county\": \"Los Angeles\", \"week\": \"2020-08-14T00:00:00\", \"total_covid_patients\": 1950.0, \"covid_patients_share\": 0.16}, {\"county\": \"Los Angeles\", \"week\": \"2020-08-21T00:00:00\", \"total_covid_patients\": 1724.0, \"covid_patients_share\": 0.14}, {\"county\": \"Los Angeles\", \"week\": \"2020-08-28T00:00:00\", \"total_covid_patients\": 1456.0, \"covid_patients_share\": 0.12}, {\"county\": \"Los Angeles\", \"week\": \"2020-09-04T00:00:00\", \"total_covid_patients\": 1307.0, \"covid_patients_share\": 0.11}, {\"county\": \"Los Angeles\", \"week\": \"2020-09-11T00:00:00\", \"total_covid_patients\": 1120.0, \"covid_patients_share\": 0.09}, {\"county\": \"Los Angeles\", \"week\": \"2020-09-18T00:00:00\", \"total_covid_patients\": 1105.0, \"covid_patients_share\": 0.09}, {\"county\": \"Los Angeles\", \"week\": \"2020-09-25T00:00:00\", \"total_covid_patients\": 1065.0, \"covid_patients_share\": 0.09}, {\"county\": \"Los Angeles\", \"week\": \"2020-10-02T00:00:00\", \"total_covid_patients\": 1048.0, \"covid_patients_share\": 0.08}, {\"county\": \"Los Angeles\", \"week\": \"2020-10-09T00:00:00\", \"total_covid_patients\": 1066.0, \"covid_patients_share\": 0.09}, {\"county\": \"Los Angeles\", \"week\": \"2020-10-16T00:00:00\", \"total_covid_patients\": 1072.0, \"covid_patients_share\": 0.09}, {\"county\": \"Los Angeles\", \"week\": \"2020-10-23T00:00:00\", \"total_covid_patients\": 1032.0, \"covid_patients_share\": 0.08}, {\"county\": \"Los Angeles\", \"week\": \"2020-10-30T00:00:00\", \"total_covid_patients\": 1112.0, \"covid_patients_share\": 0.09}, {\"county\": \"Los Angeles\", \"week\": \"2020-11-06T00:00:00\", \"total_covid_patients\": 1215.0, \"covid_patients_share\": 0.09}, {\"county\": \"Los Angeles\", \"week\": \"2020-11-13T00:00:00\", \"total_covid_patients\": 1511.0, \"covid_patients_share\": 0.12}, {\"county\": \"Los Angeles\", \"week\": \"2020-11-20T00:00:00\", \"total_covid_patients\": 2023.0, \"covid_patients_share\": 0.15}, {\"county\": \"Los Angeles\", \"week\": \"2020-11-27T00:00:00\", \"total_covid_patients\": 2743.0, \"covid_patients_share\": 0.21}, {\"county\": \"Los Angeles\", \"week\": \"2020-12-04T00:00:00\", \"total_covid_patients\": 3666.0, \"covid_patients_share\": 0.26}, {\"county\": \"Los Angeles\", \"week\": \"2020-12-11T00:00:00\", \"total_covid_patients\": 5038.0, \"covid_patients_share\": 0.34}, {\"county\": \"Los Angeles\", \"week\": \"2020-12-18T00:00:00\", \"total_covid_patients\": 6497.0, \"covid_patients_share\": 0.43}, {\"county\": \"Los Angeles\", \"week\": \"2020-12-25T00:00:00\", \"total_covid_patients\": 7584.0, \"covid_patients_share\": 0.5}, {\"county\": \"Orange\", \"week\": \"2020-07-31T00:00:00\", \"total_covid_patients\": 581.0, \"covid_patients_share\": 0.16}, {\"county\": \"Orange\", \"week\": \"2020-08-07T00:00:00\", \"total_covid_patients\": 519.0, \"covid_patients_share\": 0.16}, {\"county\": \"Orange\", \"week\": \"2020-08-14T00:00:00\", \"total_covid_patients\": 472.0, \"covid_patients_share\": 0.14}, {\"county\": \"Orange\", \"week\": \"2020-08-21T00:00:00\", \"total_covid_patients\": 451.0, \"covid_patients_share\": 0.13}, {\"county\": \"Orange\", \"week\": \"2020-08-28T00:00:00\", \"total_covid_patients\": 354.0, \"covid_patients_share\": 0.1}, {\"county\": \"Orange\", \"week\": \"2020-09-04T00:00:00\", \"total_covid_patients\": 291.0, \"covid_patients_share\": 0.09}, {\"county\": \"Orange\", \"week\": \"2020-09-11T00:00:00\", \"total_covid_patients\": 245.0, \"covid_patients_share\": 0.07}, {\"county\": \"Orange\", \"week\": \"2020-09-18T00:00:00\", \"total_covid_patients\": 232.0, \"covid_patients_share\": 0.07}, {\"county\": \"Orange\", \"week\": \"2020-09-25T00:00:00\", \"total_covid_patients\": 217.0, \"covid_patients_share\": 0.06}, {\"county\": \"Orange\", \"week\": \"2020-10-02T00:00:00\", \"total_covid_patients\": 217.0, \"covid_patients_share\": 0.06}, {\"county\": \"Orange\", \"week\": \"2020-10-09T00:00:00\", \"total_covid_patients\": 211.0, \"covid_patients_share\": 0.06}, {\"county\": \"Orange\", \"week\": \"2020-10-16T00:00:00\", \"total_covid_patients\": 211.0, \"covid_patients_share\": 0.06}, {\"county\": \"Orange\", \"week\": \"2020-10-23T00:00:00\", \"total_covid_patients\": 208.0, \"covid_patients_share\": 0.06}, {\"county\": \"Orange\", \"week\": \"2020-10-30T00:00:00\", \"total_covid_patients\": 213.0, \"covid_patients_share\": 0.06}, {\"county\": \"Orange\", \"week\": \"2020-11-06T00:00:00\", \"total_covid_patients\": 261.0, \"covid_patients_share\": 0.07}, {\"county\": \"Orange\", \"week\": \"2020-11-13T00:00:00\", \"total_covid_patients\": 324.0, \"covid_patients_share\": 0.09}, {\"county\": \"Orange\", \"week\": \"2020-11-20T00:00:00\", \"total_covid_patients\": 488.0, \"covid_patients_share\": 0.14}, {\"county\": \"Orange\", \"week\": \"2020-11-27T00:00:00\", \"total_covid_patients\": 694.0, \"covid_patients_share\": 0.19}, {\"county\": \"Orange\", \"week\": \"2020-12-04T00:00:00\", \"total_covid_patients\": 991.0, \"covid_patients_share\": 0.25}, {\"county\": \"Orange\", \"week\": \"2020-12-11T00:00:00\", \"total_covid_patients\": 1433.0, \"covid_patients_share\": 0.34}, {\"county\": \"Orange\", \"week\": \"2020-12-18T00:00:00\", \"total_covid_patients\": 1805.0, \"covid_patients_share\": 0.43}, {\"county\": \"Orange\", \"week\": \"2020-12-25T00:00:00\", \"total_covid_patients\": 2048.0, \"covid_patients_share\": 0.47}, {\"county\": \"Riverside\", \"week\": \"2020-07-31T00:00:00\", \"total_covid_patients\": 529.0, \"covid_patients_share\": 0.24}, {\"county\": \"Riverside\", \"week\": \"2020-08-07T00:00:00\", \"total_covid_patients\": 468.0, \"covid_patients_share\": 0.23}, {\"county\": \"Riverside\", \"week\": \"2020-08-14T00:00:00\", \"total_covid_patients\": 409.0, \"covid_patients_share\": 0.19}, {\"county\": \"Riverside\", \"week\": \"2020-08-21T00:00:00\", \"total_covid_patients\": 340.0, \"covid_patients_share\": 0.16}, {\"county\": \"Riverside\", \"week\": \"2020-08-28T00:00:00\", \"total_covid_patients\": 297.0, \"covid_patients_share\": 0.14}, {\"county\": \"Riverside\", \"week\": \"2020-09-04T00:00:00\", \"total_covid_patients\": 234.0, \"covid_patients_share\": 0.11}, {\"county\": \"Riverside\", \"week\": \"2020-09-11T00:00:00\", \"total_covid_patients\": 207.0, \"covid_patients_share\": 0.1}, {\"county\": \"Riverside\", \"week\": \"2020-09-18T00:00:00\", \"total_covid_patients\": 192.0, \"covid_patients_share\": 0.1}, {\"county\": \"Riverside\", \"week\": \"2020-09-25T00:00:00\", \"total_covid_patients\": 182.0, \"covid_patients_share\": 0.09}, {\"county\": \"Riverside\", \"week\": \"2020-10-02T00:00:00\", \"total_covid_patients\": 213.0, \"covid_patients_share\": 0.1}, {\"county\": \"Riverside\", \"week\": \"2020-10-09T00:00:00\", \"total_covid_patients\": 202.0, \"covid_patients_share\": 0.09}, {\"county\": \"Riverside\", \"week\": \"2020-10-16T00:00:00\", \"total_covid_patients\": 214.0, \"covid_patients_share\": 0.1}, {\"county\": \"Riverside\", \"week\": \"2020-10-23T00:00:00\", \"total_covid_patients\": 211.0, \"covid_patients_share\": 0.1}, {\"county\": \"Riverside\", \"week\": \"2020-10-30T00:00:00\", \"total_covid_patients\": 241.0, \"covid_patients_share\": 0.11}, {\"county\": \"Riverside\", \"week\": \"2020-11-06T00:00:00\", \"total_covid_patients\": 296.0, \"covid_patients_share\": 0.14}, {\"county\": \"Riverside\", \"week\": \"2020-11-13T00:00:00\", \"total_covid_patients\": 399.0, \"covid_patients_share\": 0.18}, {\"county\": \"Riverside\", \"week\": \"2020-11-20T00:00:00\", \"total_covid_patients\": 505.0, \"covid_patients_share\": 0.22}, {\"county\": \"Riverside\", \"week\": \"2020-11-27T00:00:00\", \"total_covid_patients\": 670.0, \"covid_patients_share\": 0.28}, {\"county\": \"Riverside\", \"week\": \"2020-12-04T00:00:00\", \"total_covid_patients\": 843.0, \"covid_patients_share\": 0.34}, {\"county\": \"Riverside\", \"week\": \"2020-12-11T00:00:00\", \"total_covid_patients\": 1072.0, \"covid_patients_share\": 0.42}, {\"county\": \"Riverside\", \"week\": \"2020-12-18T00:00:00\", \"total_covid_patients\": 1360.0, \"covid_patients_share\": 0.5}, {\"county\": \"Riverside\", \"week\": \"2020-12-25T00:00:00\", \"total_covid_patients\": 1525.0, \"covid_patients_share\": 0.55}, {\"county\": \"Sacramento\", \"week\": \"2020-07-31T00:00:00\", \"total_covid_patients\": 301.0, \"covid_patients_share\": 0.16}, {\"county\": \"Sacramento\", \"week\": \"2020-08-07T00:00:00\", \"total_covid_patients\": 291.0, \"covid_patients_share\": 0.15}, {\"county\": \"Sacramento\", \"week\": \"2020-08-14T00:00:00\", \"total_covid_patients\": 291.0, \"covid_patients_share\": 0.14}, {\"county\": \"Sacramento\", \"week\": \"2020-08-21T00:00:00\", \"total_covid_patients\": 256.0, \"covid_patients_share\": 0.13}, {\"county\": \"Sacramento\", \"week\": \"2020-08-28T00:00:00\", \"total_covid_patients\": 231.0, \"covid_patients_share\": 0.12}, {\"county\": \"Sacramento\", \"week\": \"2020-09-04T00:00:00\", \"total_covid_patients\": 197.0, \"covid_patients_share\": 0.11}, {\"county\": \"Sacramento\", \"week\": \"2020-09-11T00:00:00\", \"total_covid_patients\": 157.0, \"covid_patients_share\": 0.08}, {\"county\": \"Sacramento\", \"week\": \"2020-09-18T00:00:00\", \"total_covid_patients\": 162.0, \"covid_patients_share\": 0.08}, {\"county\": \"Sacramento\", \"week\": \"2020-09-25T00:00:00\", \"total_covid_patients\": 155.0, \"covid_patients_share\": 0.08}, {\"county\": \"Sacramento\", \"week\": \"2020-10-02T00:00:00\", \"total_covid_patients\": 119.0, \"covid_patients_share\": 0.06}, {\"county\": \"Sacramento\", \"week\": \"2020-10-09T00:00:00\", \"total_covid_patients\": 119.0, \"covid_patients_share\": 0.06}, {\"county\": \"Sacramento\", \"week\": \"2020-10-16T00:00:00\", \"total_covid_patients\": 113.0, \"covid_patients_share\": 0.06}, {\"county\": \"Sacramento\", \"week\": \"2020-10-23T00:00:00\", \"total_covid_patients\": 109.0, \"covid_patients_share\": 0.06}, {\"county\": \"Sacramento\", \"week\": \"2020-10-30T00:00:00\", \"total_covid_patients\": 112.0, \"covid_patients_share\": 0.06}, {\"county\": \"Sacramento\", \"week\": \"2020-11-06T00:00:00\", \"total_covid_patients\": 168.0, \"covid_patients_share\": 0.08}, {\"county\": \"Sacramento\", \"week\": \"2020-11-13T00:00:00\", \"total_covid_patients\": 221.0, \"covid_patients_share\": 0.11}, {\"county\": \"Sacramento\", \"week\": \"2020-11-20T00:00:00\", \"total_covid_patients\": 283.0, \"covid_patients_share\": 0.14}, {\"county\": \"Sacramento\", \"week\": \"2020-11-27T00:00:00\", \"total_covid_patients\": 358.0, \"covid_patients_share\": 0.18}, {\"county\": \"Sacramento\", \"week\": \"2020-12-04T00:00:00\", \"total_covid_patients\": 416.0, \"covid_patients_share\": 0.2}, {\"county\": \"Sacramento\", \"week\": \"2020-12-11T00:00:00\", \"total_covid_patients\": 486.0, \"covid_patients_share\": 0.24}, {\"county\": \"Sacramento\", \"week\": \"2020-12-18T00:00:00\", \"total_covid_patients\": 547.0, \"covid_patients_share\": 0.27}, {\"county\": \"Sacramento\", \"week\": \"2020-12-25T00:00:00\", \"total_covid_patients\": 495.0, \"covid_patients_share\": 0.25}, {\"county\": \"San Bernardino\", \"week\": \"2020-07-31T00:00:00\", \"total_covid_patients\": 613.0, \"covid_patients_share\": 0.23}, {\"county\": \"San Bernardino\", \"week\": \"2020-08-07T00:00:00\", \"total_covid_patients\": 550.0, \"covid_patients_share\": 0.22}, {\"county\": \"San Bernardino\", \"week\": \"2020-08-14T00:00:00\", \"total_covid_patients\": 516.0, \"covid_patients_share\": 0.2}, {\"county\": \"San Bernardino\", \"week\": \"2020-08-21T00:00:00\", \"total_covid_patients\": 420.0, \"covid_patients_share\": 0.17}, {\"county\": \"San Bernardino\", \"week\": \"2020-08-28T00:00:00\", \"total_covid_patients\": 332.0, \"covid_patients_share\": 0.14}, {\"county\": \"San Bernardino\", \"week\": \"2020-09-04T00:00:00\", \"total_covid_patients\": 270.0, \"covid_patients_share\": 0.11}, {\"county\": \"San Bernardino\", \"week\": \"2020-09-11T00:00:00\", \"total_covid_patients\": 233.0, \"covid_patients_share\": 0.1}, {\"county\": \"San Bernardino\", \"week\": \"2020-09-18T00:00:00\", \"total_covid_patients\": 220.0, \"covid_patients_share\": 0.09}, {\"county\": \"San Bernardino\", \"week\": \"2020-09-25T00:00:00\", \"total_covid_patients\": 212.0, \"covid_patients_share\": 0.09}, {\"county\": \"San Bernardino\", \"week\": \"2020-10-02T00:00:00\", \"total_covid_patients\": 234.0, \"covid_patients_share\": 0.1}, {\"county\": \"San Bernardino\", \"week\": \"2020-10-09T00:00:00\", \"total_covid_patients\": 241.0, \"covid_patients_share\": 0.1}, {\"county\": \"San Bernardino\", \"week\": \"2020-10-16T00:00:00\", \"total_covid_patients\": 234.0, \"covid_patients_share\": 0.09}, {\"county\": \"San Bernardino\", \"week\": \"2020-10-23T00:00:00\", \"total_covid_patients\": 265.0, \"covid_patients_share\": 0.1}, {\"county\": \"San Bernardino\", \"week\": \"2020-10-30T00:00:00\", \"total_covid_patients\": 309.0, \"covid_patients_share\": 0.12}, {\"county\": \"San Bernardino\", \"week\": \"2020-11-06T00:00:00\", \"total_covid_patients\": 335.0, \"covid_patients_share\": 0.13}, {\"county\": \"San Bernardino\", \"week\": \"2020-11-13T00:00:00\", \"total_covid_patients\": 457.0, \"covid_patients_share\": 0.17}, {\"county\": \"San Bernardino\", \"week\": \"2020-11-20T00:00:00\", \"total_covid_patients\": 621.0, \"covid_patients_share\": 0.23}, {\"county\": \"San Bernardino\", \"week\": \"2020-11-27T00:00:00\", \"total_covid_patients\": 868.0, \"covid_patients_share\": 0.31}, {\"county\": \"San Bernardino\", \"week\": \"2020-12-04T00:00:00\", \"total_covid_patients\": 1091.0, \"covid_patients_share\": 0.38}, {\"county\": \"San Bernardino\", \"week\": \"2020-12-11T00:00:00\", \"total_covid_patients\": 1408.0, \"covid_patients_share\": 0.48}, {\"county\": \"San Bernardino\", \"week\": \"2020-12-18T00:00:00\", \"total_covid_patients\": 1650.0, \"covid_patients_share\": 0.53}, {\"county\": \"San Bernardino\", \"week\": \"2020-12-25T00:00:00\", \"total_covid_patients\": 1725.0, \"covid_patients_share\": 0.55}, {\"county\": \"San Diego\", \"week\": \"2020-07-31T00:00:00\", \"total_covid_patients\": 370.0, \"covid_patients_share\": 0.1}, {\"county\": \"San Diego\", \"week\": \"2020-08-07T00:00:00\", \"total_covid_patients\": 335.0, \"covid_patients_share\": 0.09}, {\"county\": \"San Diego\", \"week\": \"2020-08-14T00:00:00\", \"total_covid_patients\": 292.0, \"covid_patients_share\": 0.08}, {\"county\": \"San Diego\", \"week\": \"2020-08-21T00:00:00\", \"total_covid_patients\": 296.0, \"covid_patients_share\": 0.08}, {\"county\": \"San Diego\", \"week\": \"2020-08-28T00:00:00\", \"total_covid_patients\": 297.0, \"covid_patients_share\": 0.08}, {\"county\": \"San Diego\", \"week\": \"2020-09-04T00:00:00\", \"total_covid_patients\": 277.0, \"covid_patients_share\": 0.08}, {\"county\": \"San Diego\", \"week\": \"2020-09-11T00:00:00\", \"total_covid_patients\": 281.0, \"covid_patients_share\": 0.07}, {\"county\": \"San Diego\", \"week\": \"2020-09-18T00:00:00\", \"total_covid_patients\": 256.0, \"covid_patients_share\": 0.07}, {\"county\": \"San Diego\", \"week\": \"2020-09-25T00:00:00\", \"total_covid_patients\": 238.0, \"covid_patients_share\": 0.06}, {\"county\": \"San Diego\", \"week\": \"2020-10-02T00:00:00\", \"total_covid_patients\": 264.0, \"covid_patients_share\": 0.07}, {\"county\": \"San Diego\", \"week\": \"2020-10-09T00:00:00\", \"total_covid_patients\": 236.0, \"covid_patients_share\": 0.06}, {\"county\": \"San Diego\", \"week\": \"2020-10-16T00:00:00\", \"total_covid_patients\": 235.0, \"covid_patients_share\": 0.06}, {\"county\": \"San Diego\", \"week\": \"2020-10-23T00:00:00\", \"total_covid_patients\": 154.0, \"covid_patients_share\": 0.04}, {\"county\": \"San Diego\", \"week\": \"2020-10-30T00:00:00\", \"total_covid_patients\": 270.0, \"covid_patients_share\": 0.07}, {\"county\": \"San Diego\", \"week\": \"2020-11-06T00:00:00\", \"total_covid_patients\": 315.0, \"covid_patients_share\": 0.08}, {\"county\": \"San Diego\", \"week\": \"2020-11-13T00:00:00\", \"total_covid_patients\": 366.0, \"covid_patients_share\": 0.09}, {\"county\": \"San Diego\", \"week\": \"2020-11-20T00:00:00\", \"total_covid_patients\": 492.0, \"covid_patients_share\": 0.12}, {\"county\": \"San Diego\", \"week\": \"2020-11-27T00:00:00\", \"total_covid_patients\": 715.0, \"covid_patients_share\": 0.18}, {\"county\": \"San Diego\", \"week\": \"2020-12-04T00:00:00\", \"total_covid_patients\": 892.0, \"covid_patients_share\": 0.21}, {\"county\": \"San Diego\", \"week\": \"2020-12-11T00:00:00\", \"total_covid_patients\": 1098.0, \"covid_patients_share\": 0.26}, {\"county\": \"San Diego\", \"week\": \"2020-12-18T00:00:00\", \"total_covid_patients\": 1357.0, \"covid_patients_share\": 0.32}, {\"county\": \"San Diego\", \"week\": \"2020-12-25T00:00:00\", \"total_covid_patients\": 1516.0, \"covid_patients_share\": 0.36}, {\"county\": \"San Francisco\", \"week\": \"2020-07-31T00:00:00\", \"total_covid_patients\": 106.0, \"covid_patients_share\": 0.07}, {\"county\": \"San Francisco\", \"week\": \"2020-08-07T00:00:00\", \"total_covid_patients\": 99.0, \"covid_patients_share\": 0.07}, {\"county\": \"San Francisco\", \"week\": \"2020-08-14T00:00:00\", \"total_covid_patients\": 116.0, \"covid_patients_share\": 0.08}, {\"county\": \"San Francisco\", \"week\": \"2020-08-21T00:00:00\", \"total_covid_patients\": 104.0, \"covid_patients_share\": 0.07}, {\"county\": \"San Francisco\", \"week\": \"2020-08-28T00:00:00\", \"total_covid_patients\": 83.0, \"covid_patients_share\": 0.06}, {\"county\": \"San Francisco\", \"week\": \"2020-09-04T00:00:00\", \"total_covid_patients\": 76.0, \"covid_patients_share\": 0.05}, {\"county\": \"San Francisco\", \"week\": \"2020-09-11T00:00:00\", \"total_covid_patients\": 86.0, \"covid_patients_share\": 0.06}, {\"county\": \"San Francisco\", \"week\": \"2020-09-18T00:00:00\", \"total_covid_patients\": 73.0, \"covid_patients_share\": 0.05}, {\"county\": \"San Francisco\", \"week\": \"2020-09-25T00:00:00\", \"total_covid_patients\": 67.0, \"covid_patients_share\": 0.04}, {\"county\": \"San Francisco\", \"week\": \"2020-10-02T00:00:00\", \"total_covid_patients\": 54.0, \"covid_patients_share\": 0.04}, {\"county\": \"San Francisco\", \"week\": \"2020-10-09T00:00:00\", \"total_covid_patients\": 33.0, \"covid_patients_share\": 0.02}, {\"county\": \"San Francisco\", \"week\": \"2020-10-16T00:00:00\", \"total_covid_patients\": 27.0, \"covid_patients_share\": 0.02}, {\"county\": \"San Francisco\", \"week\": \"2020-10-23T00:00:00\", \"total_covid_patients\": 31.0, \"covid_patients_share\": 0.02}, {\"county\": \"San Francisco\", \"week\": \"2020-10-30T00:00:00\", \"total_covid_patients\": 38.0, \"covid_patients_share\": 0.03}, {\"county\": \"San Francisco\", \"week\": \"2020-11-06T00:00:00\", \"total_covid_patients\": 40.0, \"covid_patients_share\": 0.03}, {\"county\": \"San Francisco\", \"week\": \"2020-11-13T00:00:00\", \"total_covid_patients\": 45.0, \"covid_patients_share\": 0.03}, {\"county\": \"San Francisco\", \"week\": \"2020-11-20T00:00:00\", \"total_covid_patients\": 60.0, \"covid_patients_share\": 0.04}, {\"county\": \"San Francisco\", \"week\": \"2020-11-27T00:00:00\", \"total_covid_patients\": 88.0, \"covid_patients_share\": 0.06}, {\"county\": \"San Francisco\", \"week\": \"2020-12-04T00:00:00\", \"total_covid_patients\": 116.0, \"covid_patients_share\": 0.07}, {\"county\": \"San Francisco\", \"week\": \"2020-12-11T00:00:00\", \"total_covid_patients\": 143.0, \"covid_patients_share\": 0.09}, {\"county\": \"San Francisco\", \"week\": \"2020-12-18T00:00:00\", \"total_covid_patients\": 172.0, \"covid_patients_share\": 0.11}, {\"county\": \"San Francisco\", \"week\": \"2020-12-25T00:00:00\", \"total_covid_patients\": 195.0, \"covid_patients_share\": 0.14}, {\"county\": \"San Joaquin\", \"week\": \"2020-07-31T00:00:00\", \"total_covid_patients\": 301.0, \"covid_patients_share\": 0.34}, {\"county\": \"San Joaquin\", \"week\": \"2020-08-07T00:00:00\", \"total_covid_patients\": 222.0, \"covid_patients_share\": 0.26}, {\"county\": \"San Joaquin\", \"week\": \"2020-08-14T00:00:00\", \"total_covid_patients\": 211.0, \"covid_patients_share\": 0.25}, {\"county\": \"San Joaquin\", \"week\": \"2020-08-21T00:00:00\", \"total_covid_patients\": 186.0, \"covid_patients_share\": 0.22}, {\"county\": \"San Joaquin\", \"week\": \"2020-08-28T00:00:00\", \"total_covid_patients\": 149.0, \"covid_patients_share\": 0.18}, {\"county\": \"San Joaquin\", \"week\": \"2020-09-04T00:00:00\", \"total_covid_patients\": 119.0, \"covid_patients_share\": 0.15}, {\"county\": \"San Joaquin\", \"week\": \"2020-09-11T00:00:00\", \"total_covid_patients\": 95.0, \"covid_patients_share\": 0.12}, {\"county\": \"San Joaquin\", \"week\": \"2020-09-18T00:00:00\", \"total_covid_patients\": 88.0, \"covid_patients_share\": 0.11}, {\"county\": \"San Joaquin\", \"week\": \"2020-09-25T00:00:00\", \"total_covid_patients\": 67.0, \"covid_patients_share\": 0.09}, {\"county\": \"San Joaquin\", \"week\": \"2020-10-02T00:00:00\", \"total_covid_patients\": 64.0, \"covid_patients_share\": 0.08}, {\"county\": \"San Joaquin\", \"week\": \"2020-10-09T00:00:00\", \"total_covid_patients\": 46.0, \"covid_patients_share\": 0.06}, {\"county\": \"San Joaquin\", \"week\": \"2020-10-16T00:00:00\", \"total_covid_patients\": 40.0, \"covid_patients_share\": 0.06}, {\"county\": \"San Joaquin\", \"week\": \"2020-10-23T00:00:00\", \"total_covid_patients\": 41.0, \"covid_patients_share\": 0.06}, {\"county\": \"San Joaquin\", \"week\": \"2020-10-30T00:00:00\", \"total_covid_patients\": 48.0, \"covid_patients_share\": 0.06}, {\"county\": \"San Joaquin\", \"week\": \"2020-11-06T00:00:00\", \"total_covid_patients\": 71.0, \"covid_patients_share\": 0.09}, {\"county\": \"San Joaquin\", \"week\": \"2020-11-13T00:00:00\", \"total_covid_patients\": 107.0, \"covid_patients_share\": 0.14}, {\"county\": \"San Joaquin\", \"week\": \"2020-11-20T00:00:00\", \"total_covid_patients\": 148.0, \"covid_patients_share\": 0.19}, {\"county\": \"San Joaquin\", \"week\": \"2020-11-27T00:00:00\", \"total_covid_patients\": 193.0, \"covid_patients_share\": 0.24}, {\"county\": \"San Joaquin\", \"week\": \"2020-12-04T00:00:00\", \"total_covid_patients\": 263.0, \"covid_patients_share\": 0.28}, {\"county\": \"San Joaquin\", \"week\": \"2020-12-11T00:00:00\", \"total_covid_patients\": 351.0, \"covid_patients_share\": 0.36}, {\"county\": \"San Joaquin\", \"week\": \"2020-12-18T00:00:00\", \"total_covid_patients\": 411.0, \"covid_patients_share\": 0.43}, {\"county\": \"San Joaquin\", \"week\": \"2020-12-25T00:00:00\", \"total_covid_patients\": 401.0, \"covid_patients_share\": 0.4}, {\"county\": \"San Mateo\", \"week\": \"2020-07-31T00:00:00\", \"total_covid_patients\": 66.0, \"covid_patients_share\": 0.15}, {\"county\": \"San Mateo\", \"week\": \"2020-08-07T00:00:00\", \"total_covid_patients\": 62.0, \"covid_patients_share\": 0.16}, {\"county\": \"San Mateo\", \"week\": \"2020-08-14T00:00:00\", \"total_covid_patients\": 68.0, \"covid_patients_share\": 0.16}, {\"county\": \"San Mateo\", \"week\": \"2020-08-21T00:00:00\", \"total_covid_patients\": 64.0, \"covid_patients_share\": 0.15}, {\"county\": \"San Mateo\", \"week\": \"2020-08-28T00:00:00\", \"total_covid_patients\": 52.0, \"covid_patients_share\": 0.14}, {\"county\": \"San Mateo\", \"week\": \"2020-09-04T00:00:00\", \"total_covid_patients\": 53.0, \"covid_patients_share\": 0.14}, {\"county\": \"San Mateo\", \"week\": \"2020-09-11T00:00:00\", \"total_covid_patients\": 50.0, \"covid_patients_share\": 0.13}, {\"county\": \"San Mateo\", \"week\": \"2020-09-18T00:00:00\", \"total_covid_patients\": 46.0, \"covid_patients_share\": 0.11}, {\"county\": \"San Mateo\", \"week\": \"2020-09-25T00:00:00\", \"total_covid_patients\": 42.0, \"covid_patients_share\": 0.1}, {\"county\": \"San Mateo\", \"week\": \"2020-10-02T00:00:00\", \"total_covid_patients\": 37.0, \"covid_patients_share\": 0.09}, {\"county\": \"San Mateo\", \"week\": \"2020-10-09T00:00:00\", \"total_covid_patients\": 38.0, \"covid_patients_share\": 0.09}, {\"county\": \"San Mateo\", \"week\": \"2020-10-16T00:00:00\", \"total_covid_patients\": 29.0, \"covid_patients_share\": 0.07}, {\"county\": \"San Mateo\", \"week\": \"2020-10-23T00:00:00\", \"total_covid_patients\": 28.0, \"covid_patients_share\": 0.07}, {\"county\": \"San Mateo\", \"week\": \"2020-10-30T00:00:00\", \"total_covid_patients\": 30.0, \"covid_patients_share\": 0.07}, {\"county\": \"San Mateo\", \"week\": \"2020-11-06T00:00:00\", \"total_covid_patients\": 28.0, \"covid_patients_share\": 0.06}, {\"county\": \"San Mateo\", \"week\": \"2020-11-13T00:00:00\", \"total_covid_patients\": 30.0, \"covid_patients_share\": 0.07}, {\"county\": \"San Mateo\", \"week\": \"2020-11-20T00:00:00\", \"total_covid_patients\": 45.0, \"covid_patients_share\": 0.1}, {\"county\": \"San Mateo\", \"week\": \"2020-11-27T00:00:00\", \"total_covid_patients\": 70.0, \"covid_patients_share\": 0.16}, {\"county\": \"San Mateo\", \"week\": \"2020-12-04T00:00:00\", \"total_covid_patients\": 97.0, \"covid_patients_share\": 0.2}, {\"county\": \"San Mateo\", \"week\": \"2020-12-11T00:00:00\", \"total_covid_patients\": 122.0, \"covid_patients_share\": 0.26}, {\"county\": \"San Mateo\", \"week\": \"2020-12-18T00:00:00\", \"total_covid_patients\": 150.0, \"covid_patients_share\": 0.31}, {\"county\": \"San Mateo\", \"week\": \"2020-12-25T00:00:00\", \"total_covid_patients\": 162.0, \"covid_patients_share\": 0.34}, {\"county\": \"Santa Barbara\", \"week\": \"2020-07-31T00:00:00\", \"total_covid_patients\": 89.0, \"covid_patients_share\": 0.22}, {\"county\": \"Santa Barbara\", \"week\": \"2020-08-07T00:00:00\", \"total_covid_patients\": 83.0, \"covid_patients_share\": 0.22}, {\"county\": \"Santa Barbara\", \"week\": \"2020-08-14T00:00:00\", \"total_covid_patients\": 64.0, \"covid_patients_share\": 0.17}, {\"county\": \"Santa Barbara\", \"week\": \"2020-08-21T00:00:00\", \"total_covid_patients\": 54.0, \"covid_patients_share\": 0.15}, {\"county\": \"Santa Barbara\", \"week\": \"2020-08-28T00:00:00\", \"total_covid_patients\": 45.0, \"covid_patients_share\": 0.13}, {\"county\": \"Santa Barbara\", \"week\": \"2020-09-04T00:00:00\", \"total_covid_patients\": 43.0, \"covid_patients_share\": 0.13}, {\"county\": \"Santa Barbara\", \"week\": \"2020-09-11T00:00:00\", \"total_covid_patients\": 31.0, \"covid_patients_share\": 0.09}, {\"county\": \"Santa Barbara\", \"week\": \"2020-09-18T00:00:00\", \"total_covid_patients\": 27.0, \"covid_patients_share\": 0.07}, {\"county\": \"Santa Barbara\", \"week\": \"2020-09-25T00:00:00\", \"total_covid_patients\": 23.0, \"covid_patients_share\": 0.06}, {\"county\": \"Santa Barbara\", \"week\": \"2020-10-02T00:00:00\", \"total_covid_patients\": 20.0, \"covid_patients_share\": 0.06}, {\"county\": \"Santa Barbara\", \"week\": \"2020-10-09T00:00:00\", \"total_covid_patients\": 21.0, \"covid_patients_share\": 0.06}, {\"county\": \"Santa Barbara\", \"week\": \"2020-10-16T00:00:00\", \"total_covid_patients\": 17.0, \"covid_patients_share\": 0.04}, {\"county\": \"Santa Barbara\", \"week\": \"2020-10-23T00:00:00\", \"total_covid_patients\": 11.0, \"covid_patients_share\": 0.03}, {\"county\": \"Santa Barbara\", \"week\": \"2020-10-30T00:00:00\", \"total_covid_patients\": 13.0, \"covid_patients_share\": 0.03}, {\"county\": \"Santa Barbara\", \"week\": \"2020-11-06T00:00:00\", \"total_covid_patients\": 12.0, \"covid_patients_share\": 0.03}, {\"county\": \"Santa Barbara\", \"week\": \"2020-11-13T00:00:00\", \"total_covid_patients\": 21.0, \"covid_patients_share\": 0.06}, {\"county\": \"Santa Barbara\", \"week\": \"2020-11-20T00:00:00\", \"total_covid_patients\": 28.0, \"covid_patients_share\": 0.07}, {\"county\": \"Santa Barbara\", \"week\": \"2020-11-27T00:00:00\", \"total_covid_patients\": 49.0, \"covid_patients_share\": 0.13}, {\"county\": \"Santa Barbara\", \"week\": \"2020-12-04T00:00:00\", \"total_covid_patients\": 63.0, \"covid_patients_share\": 0.16}, {\"county\": \"Santa Barbara\", \"week\": \"2020-12-11T00:00:00\", \"total_covid_patients\": 90.0, \"covid_patients_share\": 0.23}, {\"county\": \"Santa Barbara\", \"week\": \"2020-12-18T00:00:00\", \"total_covid_patients\": 122.0, \"covid_patients_share\": 0.31}, {\"county\": \"Santa Barbara\", \"week\": \"2020-12-25T00:00:00\", \"total_covid_patients\": 136.0, \"covid_patients_share\": 0.35}, {\"county\": \"Santa Clara\", \"week\": \"2020-07-31T00:00:00\", \"total_covid_patients\": 208.0, \"covid_patients_share\": 0.09}, {\"county\": \"Santa Clara\", \"week\": \"2020-08-07T00:00:00\", \"total_covid_patients\": 200.0, \"covid_patients_share\": 0.09}, {\"county\": \"Santa Clara\", \"week\": \"2020-08-14T00:00:00\", \"total_covid_patients\": 181.0, \"covid_patients_share\": 0.08}, {\"county\": \"Santa Clara\", \"week\": \"2020-08-21T00:00:00\", \"total_covid_patients\": 165.0, \"covid_patients_share\": 0.07}, {\"county\": \"Santa Clara\", \"week\": \"2020-08-28T00:00:00\", \"total_covid_patients\": 158.0, \"covid_patients_share\": 0.07}, {\"county\": \"Santa Clara\", \"week\": \"2020-09-04T00:00:00\", \"total_covid_patients\": 133.0, \"covid_patients_share\": 0.06}, {\"county\": \"Santa Clara\", \"week\": \"2020-09-11T00:00:00\", \"total_covid_patients\": 126.0, \"covid_patients_share\": 0.06}, {\"county\": \"Santa Clara\", \"week\": \"2020-09-18T00:00:00\", \"total_covid_patients\": 126.0, \"covid_patients_share\": 0.06}, {\"county\": \"Santa Clara\", \"week\": \"2020-09-25T00:00:00\", \"total_covid_patients\": 106.0, \"covid_patients_share\": 0.05}, {\"county\": \"Santa Clara\", \"week\": \"2020-10-02T00:00:00\", \"total_covid_patients\": 99.0, \"covid_patients_share\": 0.05}, {\"county\": \"Santa Clara\", \"week\": \"2020-10-09T00:00:00\", \"total_covid_patients\": 100.0, \"covid_patients_share\": 0.05}, {\"county\": \"Santa Clara\", \"week\": \"2020-10-16T00:00:00\", \"total_covid_patients\": 107.0, \"covid_patients_share\": 0.05}, {\"county\": \"Santa Clara\", \"week\": \"2020-10-23T00:00:00\", \"total_covid_patients\": 108.0, \"covid_patients_share\": 0.05}, {\"county\": \"Santa Clara\", \"week\": \"2020-10-30T00:00:00\", \"total_covid_patients\": 109.0, \"covid_patients_share\": 0.05}, {\"county\": \"Santa Clara\", \"week\": \"2020-11-06T00:00:00\", \"total_covid_patients\": 129.0, \"covid_patients_share\": 0.06}, {\"county\": \"Santa Clara\", \"week\": \"2020-11-13T00:00:00\", \"total_covid_patients\": 166.0, \"covid_patients_share\": 0.07}, {\"county\": \"Santa Clara\", \"week\": \"2020-11-20T00:00:00\", \"total_covid_patients\": 226.0, \"covid_patients_share\": 0.1}, {\"county\": \"Santa Clara\", \"week\": \"2020-11-27T00:00:00\", \"total_covid_patients\": 295.0, \"covid_patients_share\": 0.13}, {\"county\": \"Santa Clara\", \"week\": \"2020-12-04T00:00:00\", \"total_covid_patients\": 359.0, \"covid_patients_share\": 0.16}, {\"county\": \"Santa Clara\", \"week\": \"2020-12-11T00:00:00\", \"total_covid_patients\": 457.0, \"covid_patients_share\": 0.21}, {\"county\": \"Santa Clara\", \"week\": \"2020-12-18T00:00:00\", \"total_covid_patients\": 563.0, \"covid_patients_share\": 0.26}, {\"county\": \"Santa Clara\", \"week\": \"2020-12-25T00:00:00\", \"total_covid_patients\": 626.0, \"covid_patients_share\": 0.28}, {\"county\": \"Solano\", \"week\": \"2020-07-31T00:00:00\", \"total_covid_patients\": 59.0, \"covid_patients_share\": 0.14}, {\"county\": \"Solano\", \"week\": \"2020-08-07T00:00:00\", \"total_covid_patients\": 51.0, \"covid_patients_share\": 0.13}, {\"county\": \"Solano\", \"week\": \"2020-08-14T00:00:00\", \"total_covid_patients\": 48.0, \"covid_patients_share\": 0.1}, {\"county\": \"Solano\", \"week\": \"2020-08-21T00:00:00\", \"total_covid_patients\": 41.0, \"covid_patients_share\": 0.09}, {\"county\": \"Solano\", \"week\": \"2020-08-28T00:00:00\", \"total_covid_patients\": 40.0, \"covid_patients_share\": 0.1}, {\"county\": \"Solano\", \"week\": \"2020-09-04T00:00:00\", \"total_covid_patients\": 41.0, \"covid_patients_share\": 0.1}, {\"county\": \"Solano\", \"week\": \"2020-09-11T00:00:00\", \"total_covid_patients\": 39.0, \"covid_patients_share\": 0.09}, {\"county\": \"Solano\", \"week\": \"2020-09-18T00:00:00\", \"total_covid_patients\": 40.0, \"covid_patients_share\": 0.09}, {\"county\": \"Solano\", \"week\": \"2020-09-25T00:00:00\", \"total_covid_patients\": 35.0, \"covid_patients_share\": 0.08}, {\"county\": \"Solano\", \"week\": \"2020-10-02T00:00:00\", \"total_covid_patients\": 36.0, \"covid_patients_share\": 0.08}, {\"county\": \"Solano\", \"week\": \"2020-10-09T00:00:00\", \"total_covid_patients\": 42.0, \"covid_patients_share\": 0.09}, {\"county\": \"Solano\", \"week\": \"2020-10-16T00:00:00\", \"total_covid_patients\": 38.0, \"covid_patients_share\": 0.09}, {\"county\": \"Solano\", \"week\": \"2020-10-23T00:00:00\", \"total_covid_patients\": 33.0, \"covid_patients_share\": 0.07}, {\"county\": \"Solano\", \"week\": \"2020-10-30T00:00:00\", \"total_covid_patients\": 35.0, \"covid_patients_share\": 0.08}, {\"county\": \"Solano\", \"week\": \"2020-11-06T00:00:00\", \"total_covid_patients\": 43.0, \"covid_patients_share\": 0.1}, {\"county\": \"Solano\", \"week\": \"2020-11-13T00:00:00\", \"total_covid_patients\": 55.0, \"covid_patients_share\": 0.11}, {\"county\": \"Solano\", \"week\": \"2020-11-20T00:00:00\", \"total_covid_patients\": 72.0, \"covid_patients_share\": 0.15}, {\"county\": \"Solano\", \"week\": \"2020-11-27T00:00:00\", \"total_covid_patients\": 76.0, \"covid_patients_share\": 0.16}, {\"county\": \"Solano\", \"week\": \"2020-12-04T00:00:00\", \"total_covid_patients\": 88.0, \"covid_patients_share\": 0.18}, {\"county\": \"Solano\", \"week\": \"2020-12-11T00:00:00\", \"total_covid_patients\": 117.0, \"covid_patients_share\": 0.23}, {\"county\": \"Solano\", \"week\": \"2020-12-18T00:00:00\", \"total_covid_patients\": 137.0, \"covid_patients_share\": 0.27}, {\"county\": \"Solano\", \"week\": \"2020-12-25T00:00:00\", \"total_covid_patients\": 150.0, \"covid_patients_share\": 0.3}, {\"county\": \"Sonoma\", \"week\": \"2020-07-31T00:00:00\", \"total_covid_patients\": 55.0, \"covid_patients_share\": 0.13}, {\"county\": \"Sonoma\", \"week\": \"2020-08-07T00:00:00\", \"total_covid_patients\": 47.0, \"covid_patients_share\": 0.11}, {\"county\": \"Sonoma\", \"week\": \"2020-08-14T00:00:00\", \"total_covid_patients\": 51.0, \"covid_patients_share\": 0.11}, {\"county\": \"Sonoma\", \"week\": \"2020-08-21T00:00:00\", \"total_covid_patients\": 48.0, \"covid_patients_share\": 0.11}, {\"county\": \"Sonoma\", \"week\": \"2020-08-28T00:00:00\", \"total_covid_patients\": 40.0, \"covid_patients_share\": 0.09}, {\"county\": \"Sonoma\", \"week\": \"2020-09-04T00:00:00\", \"total_covid_patients\": 42.0, \"covid_patients_share\": 0.1}, {\"county\": \"Sonoma\", \"week\": \"2020-09-11T00:00:00\", \"total_covid_patients\": 36.0, \"covid_patients_share\": 0.08}, {\"county\": \"Sonoma\", \"week\": \"2020-09-18T00:00:00\", \"total_covid_patients\": 25.0, \"covid_patients_share\": 0.06}, {\"county\": \"Sonoma\", \"week\": \"2020-09-25T00:00:00\", \"total_covid_patients\": 25.0, \"covid_patients_share\": 0.05}, {\"county\": \"Sonoma\", \"week\": \"2020-10-02T00:00:00\", \"total_covid_patients\": 38.0, \"covid_patients_share\": 0.08}, {\"county\": \"Sonoma\", \"week\": \"2020-10-09T00:00:00\", \"total_covid_patients\": 34.0, \"covid_patients_share\": 0.07}, {\"county\": \"Sonoma\", \"week\": \"2020-10-16T00:00:00\", \"total_covid_patients\": 29.0, \"covid_patients_share\": 0.06}, {\"county\": \"Sonoma\", \"week\": \"2020-10-23T00:00:00\", \"total_covid_patients\": 32.0, \"covid_patients_share\": 0.07}, {\"county\": \"Sonoma\", \"week\": \"2020-10-30T00:00:00\", \"total_covid_patients\": 28.0, \"covid_patients_share\": 0.06}, {\"county\": \"Sonoma\", \"week\": \"2020-11-06T00:00:00\", \"total_covid_patients\": 29.0, \"covid_patients_share\": 0.06}, {\"county\": \"Sonoma\", \"week\": \"2020-11-13T00:00:00\", \"total_covid_patients\": 25.0, \"covid_patients_share\": 0.05}, {\"county\": \"Sonoma\", \"week\": \"2020-11-20T00:00:00\", \"total_covid_patients\": 32.0, \"covid_patients_share\": 0.06}, {\"county\": \"Sonoma\", \"week\": \"2020-11-27T00:00:00\", \"total_covid_patients\": 41.0, \"covid_patients_share\": 0.08}, {\"county\": \"Sonoma\", \"week\": \"2020-12-04T00:00:00\", \"total_covid_patients\": 59.0, \"covid_patients_share\": 0.12}, {\"county\": \"Sonoma\", \"week\": \"2020-12-11T00:00:00\", \"total_covid_patients\": 78.0, \"covid_patients_share\": 0.15}, {\"county\": \"Sonoma\", \"week\": \"2020-12-18T00:00:00\", \"total_covid_patients\": 78.0, \"covid_patients_share\": 0.14}, {\"county\": \"Sonoma\", \"week\": \"2020-12-25T00:00:00\", \"total_covid_patients\": 88.0, \"covid_patients_share\": 0.16}, {\"county\": \"Stanislaus\", \"week\": \"2020-07-31T00:00:00\", \"total_covid_patients\": 217.0, \"covid_patients_share\": 0.29}, {\"county\": \"Stanislaus\", \"week\": \"2020-08-07T00:00:00\", \"total_covid_patients\": 203.0, \"covid_patients_share\": 0.3}, {\"county\": \"Stanislaus\", \"week\": \"2020-08-14T00:00:00\", \"total_covid_patients\": 205.0, \"covid_patients_share\": 0.25}, {\"county\": \"Stanislaus\", \"week\": \"2020-08-21T00:00:00\", \"total_covid_patients\": 179.0, \"covid_patients_share\": 0.23}, {\"county\": \"Stanislaus\", \"week\": \"2020-08-28T00:00:00\", \"total_covid_patients\": 137.0, \"covid_patients_share\": 0.17}, {\"county\": \"Stanislaus\", \"week\": \"2020-09-04T00:00:00\", \"total_covid_patients\": 137.0, \"covid_patients_share\": 0.16}, {\"county\": \"Stanislaus\", \"week\": \"2020-09-11T00:00:00\", \"total_covid_patients\": 104.0, \"covid_patients_share\": 0.14}, {\"county\": \"Stanislaus\", \"week\": \"2020-09-18T00:00:00\", \"total_covid_patients\": 84.0, \"covid_patients_share\": 0.1}, {\"county\": \"Stanislaus\", \"week\": \"2020-09-25T00:00:00\", \"total_covid_patients\": 67.0, \"covid_patients_share\": 0.09}, {\"county\": \"Stanislaus\", \"week\": \"2020-10-02T00:00:00\", \"total_covid_patients\": 60.0, \"covid_patients_share\": 0.08}, {\"county\": \"Stanislaus\", \"week\": \"2020-10-09T00:00:00\", \"total_covid_patients\": 57.0, \"covid_patients_share\": 0.07}, {\"county\": \"Stanislaus\", \"week\": \"2020-10-16T00:00:00\", \"total_covid_patients\": 65.0, \"covid_patients_share\": 0.08}, {\"county\": \"Stanislaus\", \"week\": \"2020-10-23T00:00:00\", \"total_covid_patients\": 65.0, \"covid_patients_share\": 0.09}, {\"county\": \"Stanislaus\", \"week\": \"2020-10-30T00:00:00\", \"total_covid_patients\": 68.0, \"covid_patients_share\": 0.09}, {\"county\": \"Stanislaus\", \"week\": \"2020-11-06T00:00:00\", \"total_covid_patients\": 64.0, \"covid_patients_share\": 0.08}, {\"county\": \"Stanislaus\", \"week\": \"2020-11-13T00:00:00\", \"total_covid_patients\": 93.0, \"covid_patients_share\": 0.13}, {\"county\": \"Stanislaus\", \"week\": \"2020-11-20T00:00:00\", \"total_covid_patients\": 130.0, \"covid_patients_share\": 0.18}, {\"county\": \"Stanislaus\", \"week\": \"2020-11-27T00:00:00\", \"total_covid_patients\": 172.0, \"covid_patients_share\": 0.23}, {\"county\": \"Stanislaus\", \"week\": \"2020-12-04T00:00:00\", \"total_covid_patients\": 201.0, \"covid_patients_share\": 0.25}, {\"county\": \"Stanislaus\", \"week\": \"2020-12-11T00:00:00\", \"total_covid_patients\": 279.0, \"covid_patients_share\": 0.35}, {\"county\": \"Stanislaus\", \"week\": \"2020-12-18T00:00:00\", \"total_covid_patients\": 287.0, \"covid_patients_share\": 0.37}, {\"county\": \"Stanislaus\", \"week\": \"2020-12-25T00:00:00\", \"total_covid_patients\": 283.0, \"covid_patients_share\": 0.36}, {\"county\": \"Tulare\", \"week\": \"2020-07-31T00:00:00\", \"total_covid_patients\": 107.0, \"covid_patients_share\": 0.29}, {\"county\": \"Tulare\", \"week\": \"2020-08-07T00:00:00\", \"total_covid_patients\": 95.0, \"covid_patients_share\": 0.24}, {\"county\": \"Tulare\", \"week\": \"2020-08-14T00:00:00\", \"total_covid_patients\": 68.0, \"covid_patients_share\": 0.18}, {\"county\": \"Tulare\", \"week\": \"2020-08-21T00:00:00\", \"total_covid_patients\": 58.0, \"covid_patients_share\": 0.15}, {\"county\": \"Tulare\", \"week\": \"2020-08-28T00:00:00\", \"total_covid_patients\": 52.0, \"covid_patients_share\": 0.14}, {\"county\": \"Tulare\", \"week\": \"2020-09-04T00:00:00\", \"total_covid_patients\": 59.0, \"covid_patients_share\": 0.16}, {\"county\": \"Tulare\", \"week\": \"2020-09-11T00:00:00\", \"total_covid_patients\": 49.0, \"covid_patients_share\": 0.13}, {\"county\": \"Tulare\", \"week\": \"2020-09-18T00:00:00\", \"total_covid_patients\": 48.0, \"covid_patients_share\": 0.12}, {\"county\": \"Tulare\", \"week\": \"2020-09-25T00:00:00\", \"total_covid_patients\": 44.0, \"covid_patients_share\": 0.11}, {\"county\": \"Tulare\", \"week\": \"2020-10-02T00:00:00\", \"total_covid_patients\": 42.0, \"covid_patients_share\": 0.12}, {\"county\": \"Tulare\", \"week\": \"2020-10-09T00:00:00\", \"total_covid_patients\": 36.0, \"covid_patients_share\": 0.1}, {\"county\": \"Tulare\", \"week\": \"2020-10-16T00:00:00\", \"total_covid_patients\": 34.0, \"covid_patients_share\": 0.09}, {\"county\": \"Tulare\", \"week\": \"2020-10-23T00:00:00\", \"total_covid_patients\": 37.0, \"covid_patients_share\": 0.1}, {\"county\": \"Tulare\", \"week\": \"2020-10-30T00:00:00\", \"total_covid_patients\": 47.0, \"covid_patients_share\": 0.12}, {\"county\": \"Tulare\", \"week\": \"2020-11-06T00:00:00\", \"total_covid_patients\": 46.0, \"covid_patients_share\": 0.11}, {\"county\": \"Tulare\", \"week\": \"2020-11-13T00:00:00\", \"total_covid_patients\": 59.0, \"covid_patients_share\": 0.15}, {\"county\": \"Tulare\", \"week\": \"2020-11-20T00:00:00\", \"total_covid_patients\": 73.0, \"covid_patients_share\": 0.19}, {\"county\": \"Tulare\", \"week\": \"2020-11-27T00:00:00\", \"total_covid_patients\": 103.0, \"covid_patients_share\": 0.25}, {\"county\": \"Tulare\", \"week\": \"2020-12-04T00:00:00\", \"total_covid_patients\": 130.0, \"covid_patients_share\": 0.29}, {\"county\": \"Tulare\", \"week\": \"2020-12-11T00:00:00\", \"total_covid_patients\": 182.0, \"covid_patients_share\": 0.39}, {\"county\": \"Tulare\", \"week\": \"2020-12-18T00:00:00\", \"total_covid_patients\": 202.0, \"covid_patients_share\": 0.45}, {\"county\": \"Tulare\", \"week\": \"2020-12-25T00:00:00\", \"total_covid_patients\": 221.0, \"covid_patients_share\": 0.49}, {\"county\": \"Ventura\", \"week\": \"2020-07-31T00:00:00\", \"total_covid_patients\": 119.0, \"covid_patients_share\": 0.15}, {\"county\": \"Ventura\", \"week\": \"2020-08-07T00:00:00\", \"total_covid_patients\": 107.0, \"covid_patients_share\": 0.14}, {\"county\": \"Ventura\", \"week\": \"2020-08-14T00:00:00\", \"total_covid_patients\": 108.0, \"covid_patients_share\": 0.14}, {\"county\": \"Ventura\", \"week\": \"2020-08-21T00:00:00\", \"total_covid_patients\": 107.0, \"covid_patients_share\": 0.14}, {\"county\": \"Ventura\", \"week\": \"2020-08-28T00:00:00\", \"total_covid_patients\": 90.0, \"covid_patients_share\": 0.12}, {\"county\": \"Ventura\", \"week\": \"2020-09-04T00:00:00\", \"total_covid_patients\": 84.0, \"covid_patients_share\": 0.11}, {\"county\": \"Ventura\", \"week\": \"2020-09-11T00:00:00\", \"total_covid_patients\": 65.0, \"covid_patients_share\": 0.09}, {\"county\": \"Ventura\", \"week\": \"2020-09-18T00:00:00\", \"total_covid_patients\": 60.0, \"covid_patients_share\": 0.08}, {\"county\": \"Ventura\", \"week\": \"2020-09-25T00:00:00\", \"total_covid_patients\": 57.0, \"covid_patients_share\": 0.08}, {\"county\": \"Ventura\", \"week\": \"2020-10-02T00:00:00\", \"total_covid_patients\": 45.0, \"covid_patients_share\": 0.06}, {\"county\": \"Ventura\", \"week\": \"2020-10-09T00:00:00\", \"total_covid_patients\": 47.0, \"covid_patients_share\": 0.06}, {\"county\": \"Ventura\", \"week\": \"2020-10-16T00:00:00\", \"total_covid_patients\": 38.0, \"covid_patients_share\": 0.05}, {\"county\": \"Ventura\", \"week\": \"2020-10-23T00:00:00\", \"total_covid_patients\": 39.0, \"covid_patients_share\": 0.05}, {\"county\": \"Ventura\", \"week\": \"2020-10-30T00:00:00\", \"total_covid_patients\": 37.0, \"covid_patients_share\": 0.05}, {\"county\": \"Ventura\", \"week\": \"2020-11-06T00:00:00\", \"total_covid_patients\": 45.0, \"covid_patients_share\": 0.06}, {\"county\": \"Ventura\", \"week\": \"2020-11-13T00:00:00\", \"total_covid_patients\": 50.0, \"covid_patients_share\": 0.07}, {\"county\": \"Ventura\", \"week\": \"2020-11-20T00:00:00\", \"total_covid_patients\": 77.0, \"covid_patients_share\": 0.1}, {\"county\": \"Ventura\", \"week\": \"2020-11-27T00:00:00\", \"total_covid_patients\": 105.0, \"covid_patients_share\": 0.13}, {\"county\": \"Ventura\", \"week\": \"2020-12-04T00:00:00\", \"total_covid_patients\": 137.0, \"covid_patients_share\": 0.16}, {\"county\": \"Ventura\", \"week\": \"2020-12-11T00:00:00\", \"total_covid_patients\": 212.0, \"covid_patients_share\": 0.25}, {\"county\": \"Ventura\", \"week\": \"2020-12-18T00:00:00\", \"total_covid_patients\": 300.0, \"covid_patients_share\": 0.34}, {\"county\": \"Ventura\", \"week\": \"2020-12-25T00:00:00\", \"total_covid_patients\": 364.0, \"covid_patients_share\": 0.42}]}}, {\"mode\": \"vega-lite\"});\n",
       "</script>"
      ],
      "text/plain": [
       "alt.Chart(...)"
      ]
     },
     "execution_count": 96,
     "metadata": {},
     "output_type": "execute_result"
    }
   ],
   "source": [
    "alt.Chart(big_counties_grouped).mark_area().encode(\n",
    "    x=alt.X('week:T', axis=alt.Axis(grid=False, format='', title=' ', tickCount=3)),\n",
    "    y = alt.Y('covid_patients_share', title=' ', axis=alt.Axis(format='%', title='', tickCount=3)),\n",
    "    facet=alt.Facet('county', columns=5)\n",
    ").properties(width=150, height=150, title='Share of all patients with Covid in large Counties')"
   ]
  },
  {
   "cell_type": "markdown",
   "metadata": {},
   "source": [
    "---"
   ]
  },
  {
   "cell_type": "markdown",
   "metadata": {},
   "source": [
    "### Hospital overcapacity"
   ]
  },
  {
   "cell_type": "code",
   "execution_count": 97,
   "metadata": {},
   "outputs": [],
   "source": [
    "before = pd.read_csv('input/hospital_utilization.csv', dtype={'fac_no':str})"
   ]
  },
  {
   "cell_type": "code",
   "execution_count": 98,
   "metadata": {},
   "outputs": [
    {
     "data": {
      "text/html": [
       "<div>\n",
       "<style scoped>\n",
       "    .dataframe tbody tr th:only-of-type {\n",
       "        vertical-align: middle;\n",
       "    }\n",
       "\n",
       "    .dataframe tbody tr th {\n",
       "        vertical-align: top;\n",
       "    }\n",
       "\n",
       "    .dataframe thead th {\n",
       "        text-align: right;\n",
       "    }\n",
       "</style>\n",
       "<table border=\"1\" class=\"dataframe\">\n",
       "  <thead>\n",
       "    <tr style=\"text-align: right;\">\n",
       "      <th></th>\n",
       "      <th>fac_no</th>\n",
       "      <th>fac_name</th>\n",
       "      <th>license_no</th>\n",
       "      <th>icu_beds</th>\n",
       "      <th>tot_lic_beds</th>\n",
       "    </tr>\n",
       "  </thead>\n",
       "  <tbody>\n",
       "    <tr>\n",
       "      <th>185</th>\n",
       "      <td>106191230</td>\n",
       "      <td>MARTIN LUTHER KING, JR. COMMUNITY HOSPITAL</td>\n",
       "      <td>060000132</td>\n",
       "      <td>20</td>\n",
       "      <td>131</td>\n",
       "    </tr>\n",
       "  </tbody>\n",
       "</table>\n",
       "</div>"
      ],
      "text/plain": [
       "        fac_no                                    fac_name license_no  \\\n",
       "185  106191230  MARTIN LUTHER KING, JR. COMMUNITY HOSPITAL  060000132   \n",
       "\n",
       "     icu_beds  tot_lic_beds  \n",
       "185        20           131  "
      ]
     },
     "execution_count": 98,
     "metadata": {},
     "output_type": "execute_result"
    }
   ],
   "source": [
    "before[before['fac_name'].str.contains('KING')]"
   ]
  },
  {
   "cell_type": "code",
   "execution_count": 99,
   "metadata": {},
   "outputs": [
    {
     "data": {
      "text/html": [
       "<div>\n",
       "<style scoped>\n",
       "    .dataframe tbody tr th:only-of-type {\n",
       "        vertical-align: middle;\n",
       "    }\n",
       "\n",
       "    .dataframe tbody tr th {\n",
       "        vertical-align: top;\n",
       "    }\n",
       "\n",
       "    .dataframe thead th {\n",
       "        text-align: right;\n",
       "    }\n",
       "</style>\n",
       "<table border=\"1\" class=\"dataframe\">\n",
       "  <thead>\n",
       "    <tr style=\"text-align: right;\">\n",
       "      <th></th>\n",
       "      <th>hospital</th>\n",
       "      <th>hospital_subtype</th>\n",
       "      <th>ccn</th>\n",
       "      <th>week</th>\n",
       "      <th>county</th>\n",
       "      <th>fips</th>\n",
       "      <th>total_covid_icu_patients</th>\n",
       "      <th>total_available_adult_icu_beds</th>\n",
       "      <th>pct_occupied_adult_icu_beds</th>\n",
       "      <th>total_covid_patients</th>\n",
       "      <th>all_patients</th>\n",
       "      <th>covid_patients_share</th>\n",
       "    </tr>\n",
       "  </thead>\n",
       "  <tbody>\n",
       "    <tr>\n",
       "      <th>94</th>\n",
       "      <td>Martin Luther King, Jr. Community Hospital</td>\n",
       "      <td>Short Term</td>\n",
       "      <td>050779</td>\n",
       "      <td>2020-12-25</td>\n",
       "      <td>Los Angeles</td>\n",
       "      <td>037</td>\n",
       "      <td>14.0</td>\n",
       "      <td>1.0</td>\n",
       "      <td>0.97</td>\n",
       "      <td>164.0</td>\n",
       "      <td>215.0</td>\n",
       "      <td>0.76</td>\n",
       "    </tr>\n",
       "  </tbody>\n",
       "</table>\n",
       "</div>"
      ],
      "text/plain": [
       "                                      hospital hospital_subtype     ccn  \\\n",
       "94  Martin Luther King, Jr. Community Hospital       Short Term  050779   \n",
       "\n",
       "         week       county fips  total_covid_icu_patients  \\\n",
       "94 2020-12-25  Los Angeles  037                      14.0   \n",
       "\n",
       "    total_available_adult_icu_beds  pct_occupied_adult_icu_beds  \\\n",
       "94                             1.0                         0.97   \n",
       "\n",
       "    total_covid_patients  all_patients  covid_patients_share  \n",
       "94                 164.0         215.0                  0.76  "
      ]
     },
     "execution_count": 99,
     "metadata": {},
     "output_type": "execute_result"
    }
   ],
   "source": [
    "current_ca[current_ca['ccn'] == '050779']"
   ]
  },
  {
   "cell_type": "code",
   "execution_count": 100,
   "metadata": {},
   "outputs": [],
   "source": [
    "before[['fac_name']].sort_values('fac_name', ascending=False).to_csv('output/before_names.csv', index=False)"
   ]
  },
  {
   "cell_type": "code",
   "execution_count": 101,
   "metadata": {},
   "outputs": [],
   "source": [
    "current_ca[['hospital']].sort_values('hospital', ascending=False).to_csv('output/current_names.csv', index=False)"
   ]
  },
  {
   "cell_type": "code",
   "execution_count": null,
   "metadata": {},
   "outputs": [],
   "source": []
  }
 ],
 "metadata": {
  "kernelspec": {
   "display_name": "Python 3",
   "language": "python",
   "name": "python3"
  },
  "language_info": {
   "codemirror_mode": {
    "name": "ipython",
    "version": 3
   },
   "file_extension": ".py",
   "mimetype": "text/x-python",
   "name": "python",
   "nbconvert_exporter": "python",
   "pygments_lexer": "ipython3",
   "version": "3.7.4"
  }
 },
 "nbformat": 4,
 "nbformat_minor": 4
}
