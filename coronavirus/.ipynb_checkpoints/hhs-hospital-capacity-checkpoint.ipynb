{
 "cells": [
  {
   "cell_type": "code",
   "execution_count": 516,
   "metadata": {},
   "outputs": [
    {
     "name": "stdout",
     "output_type": "stream",
     "text": [
      "The lab_black extension is already loaded. To reload it, use:\n",
      "  %reload_ext lab_black\n"
     ]
    }
   ],
   "source": [
    "%load_ext lab_black"
   ]
  },
  {
   "cell_type": "code",
   "execution_count": 517,
   "metadata": {},
   "outputs": [],
   "source": [
    "import reader\n",
    "from cleaners import COUNTY_FIPS_LOOKUP\n",
    "import pandas as pd\n",
    "import math"
   ]
  },
  {
   "cell_type": "code",
   "execution_count": 518,
   "metadata": {},
   "outputs": [],
   "source": [
    "import altair as alt\n",
    "import altair_latimes as lat"
   ]
  },
  {
   "cell_type": "code",
   "execution_count": 519,
   "metadata": {},
   "outputs": [
    {
     "data": {
      "text/plain": [
       "ThemeRegistry.enable('latimes')"
      ]
     },
     "execution_count": 519,
     "metadata": {},
     "output_type": "execute_result"
    }
   ],
   "source": [
    "alt.themes.register(\"latimes\", lat.theme)\n",
    "alt.themes.enable(\"latimes\")"
   ]
  },
  {
   "cell_type": "markdown",
   "metadata": {},
   "source": [
    "## Import"
   ]
  },
  {
   "cell_type": "markdown",
   "metadata": {},
   "source": [
    "Read in raw capacity data and locations from HHS"
   ]
  },
  {
   "cell_type": "code",
   "execution_count": 520,
   "metadata": {},
   "outputs": [
    {
     "name": "stdout",
     "output_type": "stream",
     "text": [
      "💽📖 ./raw/hhs/hospital_capacity.csv ➡️ 92269 records\n"
     ]
    }
   ],
   "source": [
    "raw_data = raw_csv(\"hhs/hospital_capacity.csv\", dtype={\"fips_code\": str, \"zip\": str})"
   ]
  },
  {
   "cell_type": "code",
   "execution_count": 521,
   "metadata": {},
   "outputs": [
    {
     "name": "stdout",
     "output_type": "stream",
     "text": [
      "💽📖 ./raw/hhs/hospital_locations.csv ➡️ 6025 records\n"
     ]
    }
   ],
   "source": [
    "raw_locations = raw_csv(\n",
    "    \"hhs/hospital_locations.csv\", dtype={\"CCN\": str, \"Zip_Code\": str}\n",
    ")"
   ]
  },
  {
   "cell_type": "markdown",
   "metadata": {},
   "source": [
    "Read in county metadata"
   ]
  },
  {
   "cell_type": "code",
   "execution_count": 522,
   "metadata": {},
   "outputs": [
    {
     "name": "stdout",
     "output_type": "stream",
     "text": [
      "💽📖 ./raw/latimes/city-metadata.csv ➡️ 60 records\n"
     ]
    }
   ],
   "source": [
    "metadata_df = reader.raw_csv(\"latimes/city-metadata.csv\", dtype={\"fips\": str})"
   ]
  },
  {
   "cell_type": "code",
   "execution_count": 523,
   "metadata": {},
   "outputs": [],
   "source": [
    "metadata_df = metadata_df[[\"county\", \"fips\", \"population\", \"region\"]]"
   ]
  },
  {
   "cell_type": "markdown",
   "metadata": {},
   "source": [
    "## Transform"
   ]
  },
  {
   "cell_type": "markdown",
   "metadata": {},
   "source": [
    "Filter the hospitals down to just CA"
   ]
  },
  {
   "cell_type": "code",
   "execution_count": 524,
   "metadata": {},
   "outputs": [],
   "source": [
    "ca_data = raw_data.copy()"
   ]
  },
  {
   "cell_type": "code",
   "execution_count": 525,
   "metadata": {},
   "outputs": [],
   "source": [
    "ca_data = ca_data.loc[raw_data.state == \"CA\"]"
   ]
  },
  {
   "cell_type": "markdown",
   "metadata": {},
   "source": [
    "Merge county names and regions"
   ]
  },
  {
   "cell_type": "code",
   "execution_count": 526,
   "metadata": {},
   "outputs": [],
   "source": [
    "ca_data[\"fips\"] = ca_data[\"fips_code\"].str[2:5]"
   ]
  },
  {
   "cell_type": "code",
   "execution_count": 527,
   "metadata": {},
   "outputs": [],
   "source": [
    "ca_timeseries = pd.merge(\n",
    "    ca_data, metadata_df, how=\"left\", left_on=\"fips\", right_on=\"fips\"\n",
    ")"
   ]
  },
  {
   "cell_type": "markdown",
   "metadata": {},
   "source": [
    "Find min and max dates"
   ]
  },
  {
   "cell_type": "code",
   "execution_count": 528,
   "metadata": {},
   "outputs": [
    {
     "data": {
      "text/plain": [
       "'2020-07-31'"
      ]
     },
     "execution_count": 528,
     "metadata": {},
     "output_type": "execute_result"
    }
   ],
   "source": [
    "ca_timeseries.collection_week.min()"
   ]
  },
  {
   "cell_type": "code",
   "execution_count": 529,
   "metadata": {},
   "outputs": [
    {
     "data": {
      "text/plain": [
       "'2020-12-04'"
      ]
     },
     "execution_count": 529,
     "metadata": {},
     "output_type": "execute_result"
    }
   ],
   "source": [
    "ca_timeseries.collection_week.max()"
   ]
  },
  {
   "cell_type": "markdown",
   "metadata": {},
   "source": [
    "Trim to just the metrics we need"
   ]
  },
  {
   "cell_type": "code",
   "execution_count": 530,
   "metadata": {},
   "outputs": [],
   "source": [
    "ca_timeseries_trim = ca_timeseries[\n",
    "    [\n",
    "        # metadata\n",
    "        \"collection_week\",\n",
    "        # \"ccn\",\n",
    "        \"hospital_name\",\n",
    "        # \"address\",\n",
    "        # \"city\",\n",
    "        # \"zip\",\n",
    "        \"county\",\n",
    "        \"fips\",\n",
    "        \"region\",\n",
    "        #####\n",
    "        \"total_beds_7_day_sum\",  # inpatient and outpatient (what CDPH uses)\n",
    "        # \"all_adult_hospital_beds_7_day_sum\",\n",
    "        # \"inpatient_beds_7_day_sum\",  # inpatient only\n",
    "        # \"all_adult_hospital_inpatient_beds_7_day_sum\",\n",
    "        \"inpatient_beds_used_7_day_sum\",\n",
    "        # \"all_adult_hospital_inpatient_bed_occupied_7_day_sum\",\n",
    "        \"total_adult_patients_hospitalized_confirmed_and_suspected_covid_7_day_sum\",\n",
    "        # \"total_adult_patients_hospitalized_confirmed_covid_7_day_sum\",\n",
    "        \"total_pediatric_patients_hospitalized_confirmed_and_suspected_covid_7_day_sum\",\n",
    "        # \"total_pediatric_patients_hospitalized_confirmed_covid_7_day_sum\",\n",
    "        # \"total_icu_beds_7_day_sum\",\n",
    "        \"total_staffed_adult_icu_beds_7_day_sum\",  # subset of above\n",
    "        # \"icu_beds_used_7_day_sum\",\n",
    "        \"staffed_adult_icu_bed_occupancy_7_day_sum\",  # subset of above\n",
    "        \"staffed_icu_adult_patients_confirmed_and_suspected_covid_7_day_sum\",\n",
    "        # \"staffed_icu_adult_patients_confirmed_covid_7_day_sum\",\n",
    "        ####\n",
    "        \"total_beds_7_day_coverage\",\n",
    "        \"inpatient_beds_used_7_day_coverage\",\n",
    "        \"total_adult_patients_hospitalized_confirmed_and_suspected_covid_7_day_coverage\",\n",
    "        \"total_pediatric_patients_hospitalized_confirmed_and_suspected_covid_7_day_coverage\",\n",
    "        \"total_staffed_adult_icu_beds_7_day_coverage\",\n",
    "        \"staffed_adult_icu_bed_occupancy_7_day_coverage\",\n",
    "        \"staffed_icu_adult_patients_confirmed_and_suspected_covid_7_day_coverage\",\n",
    "    ]\n",
    "]"
   ]
  },
  {
   "cell_type": "markdown",
   "metadata": {},
   "source": [
    "When there are fewer than four patients in a field, it is redacted to -999999.0. Let's convert them to nulls"
   ]
  },
  {
   "cell_type": "code",
   "execution_count": 531,
   "metadata": {},
   "outputs": [],
   "source": [
    "ca_timeseries = ca_timeseries.replace([-999999.0], [0])"
   ]
  },
  {
   "cell_type": "markdown",
   "metadata": {},
   "source": [
    "### Hospitalizations"
   ]
  },
  {
   "cell_type": "markdown",
   "metadata": {},
   "source": [
    "Convert the `7_day_sum` columns to `7_day_avg` by dividing by coverage value"
   ]
  },
  {
   "cell_type": "code",
   "execution_count": 532,
   "metadata": {},
   "outputs": [],
   "source": [
    "numerators = [\n",
    "    \"total_beds_7_day_sum\",\n",
    "    \"inpatient_beds_used_7_day_sum\",\n",
    "    \"total_adult_patients_hospitalized_confirmed_and_suspected_covid_7_day_sum\",\n",
    "    \"total_pediatric_patients_hospitalized_confirmed_and_suspected_covid_7_day_sum\",\n",
    "    \"total_staffed_adult_icu_beds_7_day_sum\",\n",
    "    \"staffed_adult_icu_bed_occupancy_7_day_sum\",\n",
    "    \"staffed_icu_adult_patients_confirmed_and_suspected_covid_7_day_sum\",\n",
    "]"
   ]
  },
  {
   "cell_type": "code",
   "execution_count": 533,
   "metadata": {},
   "outputs": [],
   "source": [
    "denominators = [\n",
    "    \"total_beds_7_day_coverage\",\n",
    "    \"inpatient_beds_used_7_day_coverage\",\n",
    "    \"total_adult_patients_hospitalized_confirmed_and_suspected_covid_7_day_coverage\",\n",
    "    \"total_pediatric_patients_hospitalized_confirmed_and_suspected_covid_7_day_coverage\",\n",
    "    \"total_staffed_adult_icu_beds_7_day_coverage\",\n",
    "    \"staffed_adult_icu_bed_occupancy_7_day_coverage\",\n",
    "    \"staffed_icu_adult_patients_confirmed_and_suspected_covid_7_day_coverage\",\n",
    "]"
   ]
  },
  {
   "cell_type": "code",
   "execution_count": 534,
   "metadata": {},
   "outputs": [],
   "source": [
    "lat_avgs = [\n",
    "    \"total_beds_7_day_lat_avg\",\n",
    "    \"inpatient_beds_used_7_day_lat_avg\",\n",
    "    \"total_adult_patients_hospitalized_confirmed_and_suspected_covid_7_day_lat_avg\",\n",
    "    \"total_pediatric_patients_hospitalized_confirmed_and_suspected_covid_7_day_lat_avg\",\n",
    "    \"total_staffed_adult_icu_beds_7_day_lat_avg\",\n",
    "    \"staffed_adult_icu_bed_occupancy_7_day_lat_avg\",\n",
    "    \"staffed_icu_adult_patients_confirmed_and_suspected_covid_7_day_lat_avg\",\n",
    "]"
   ]
  },
  {
   "cell_type": "code",
   "execution_count": 535,
   "metadata": {},
   "outputs": [],
   "source": [
    "ca_timeseries[\"total_beds_7_day_lat_avg\"] = (\n",
    "    ca_timeseries[\"total_beds_7_day_sum\"] / ca_timeseries[\"total_beds_7_day_coverage\"]\n",
    ")"
   ]
  },
  {
   "cell_type": "code",
   "execution_count": 536,
   "metadata": {},
   "outputs": [],
   "source": [
    "ca_timeseries[\"inpatient_beds_used_7_day_lat_avg\"] = (\n",
    "    ca_timeseries[\"inpatient_beds_used_7_day_sum\"]\n",
    "    / ca_timeseries[\"inpatient_beds_used_7_day_coverage\"]\n",
    ")"
   ]
  },
  {
   "cell_type": "code",
   "execution_count": 537,
   "metadata": {},
   "outputs": [],
   "source": [
    "ca_timeseries[\n",
    "    \"total_adult_patients_hospitalized_confirmed_and_suspected_covid_7_day_lat_avg\"\n",
    "] = (\n",
    "    ca_timeseries[\n",
    "        \"total_adult_patients_hospitalized_confirmed_and_suspected_covid_7_day_sum\"\n",
    "    ]\n",
    "    / ca_timeseries[\n",
    "        \"total_adult_patients_hospitalized_confirmed_and_suspected_covid_7_day_coverage\"\n",
    "    ]\n",
    ")"
   ]
  },
  {
   "cell_type": "code",
   "execution_count": 538,
   "metadata": {},
   "outputs": [],
   "source": [
    "ca_timeseries[\n",
    "    \"total_pediatric_patients_hospitalized_confirmed_and_suspected_covid_7_day_lat_avg\"\n",
    "] = (\n",
    "    ca_timeseries[\n",
    "        \"total_pediatric_patients_hospitalized_confirmed_and_suspected_covid_7_day_sum\"\n",
    "    ]\n",
    "    / ca_timeseries[\n",
    "        \"total_pediatric_patients_hospitalized_confirmed_and_suspected_covid_7_day_coverage\"\n",
    "    ]\n",
    ")"
   ]
  },
  {
   "cell_type": "code",
   "execution_count": 539,
   "metadata": {},
   "outputs": [],
   "source": [
    "ca_timeseries[\"total_staffed_adult_icu_beds_7_day_lat_avg\"] = (\n",
    "    ca_timeseries[\"total_staffed_adult_icu_beds_7_day_sum\"]\n",
    "    / ca_timeseries[\"total_staffed_adult_icu_beds_7_day_coverage\"]\n",
    ")"
   ]
  },
  {
   "cell_type": "code",
   "execution_count": 540,
   "metadata": {},
   "outputs": [],
   "source": [
    "ca_timeseries[\"staffed_adult_icu_bed_occupancy_7_day_lat_avg\"] = (\n",
    "    ca_timeseries[\"staffed_adult_icu_bed_occupancy_7_day_sum\"]\n",
    "    / ca_timeseries[\"staffed_adult_icu_bed_occupancy_7_day_coverage\"]\n",
    ")"
   ]
  },
  {
   "cell_type": "code",
   "execution_count": 541,
   "metadata": {},
   "outputs": [],
   "source": [
    "ca_timeseries[\n",
    "    \"staffed_icu_adult_patients_confirmed_and_suspected_covid_7_day_lat_avg\"\n",
    "] = (\n",
    "    ca_timeseries[\"staffed_icu_adult_patients_confirmed_and_suspected_covid_7_day_sum\"]\n",
    "    / ca_timeseries[\n",
    "        \"staffed_icu_adult_patients_confirmed_and_suspected_covid_7_day_coverage\"\n",
    "    ]\n",
    ")"
   ]
  },
  {
   "cell_type": "markdown",
   "metadata": {},
   "source": [
    "Add up total covid patients (adult and pediatric) (fillna to account for children's hospitals and facilities with no pedatric cases)"
   ]
  },
  {
   "cell_type": "code",
   "execution_count": 542,
   "metadata": {},
   "outputs": [],
   "source": [
    "ca_timeseries[\"total_covid_patients_7_day_avg_lat\"] = ca_timeseries[\n",
    "    \"total_adult_patients_hospitalized_confirmed_and_suspected_covid_7_day_lat_avg\"\n",
    "].fillna(0) + ca_timeseries[\n",
    "    \"total_pediatric_patients_hospitalized_confirmed_and_suspected_covid_7_day_lat_avg\"\n",
    "].fillna(\n",
    "    0\n",
    ")"
   ]
  },
  {
   "cell_type": "markdown",
   "metadata": {},
   "source": [
    "Calculate percent of beds occupied by covid patients"
   ]
  },
  {
   "cell_type": "markdown",
   "metadata": {},
   "source": [
    "Note: I've chosen to use `total_beds_7_day_sum`, which matches the definition the state puts out for its hospital metrics"
   ]
  },
  {
   "cell_type": "code",
   "execution_count": 543,
   "metadata": {},
   "outputs": [],
   "source": [
    "ca_timeseries[\"pct_beds_occupied_covid\"] = (\n",
    "    ca_timeseries[\"total_covid_patients_7_day_avg_lat\"]\n",
    "    / ca_timeseries[\"total_beds_7_day_lat_avg\"]\n",
    ")"
   ]
  },
  {
   "cell_type": "markdown",
   "metadata": {},
   "source": [
    "Calculate percent of beds occupied"
   ]
  },
  {
   "cell_type": "code",
   "execution_count": 544,
   "metadata": {},
   "outputs": [],
   "source": [
    "ca_timeseries[\"pct_beds_occupied\"] = (\n",
    "    ca_timeseries[\"inpatient_beds_used_7_day_lat_avg\"]\n",
    "    / ca_timeseries[\"total_beds_7_day_lat_avg\"]\n",
    ")"
   ]
  },
  {
   "cell_type": "code",
   "execution_count": 545,
   "metadata": {},
   "outputs": [
    {
     "data": {
      "text/html": [
       "<div>\n",
       "<style scoped>\n",
       "    .dataframe tbody tr th:only-of-type {\n",
       "        vertical-align: middle;\n",
       "    }\n",
       "\n",
       "    .dataframe tbody tr th {\n",
       "        vertical-align: top;\n",
       "    }\n",
       "\n",
       "    .dataframe thead th {\n",
       "        text-align: right;\n",
       "    }\n",
       "</style>\n",
       "<table border=\"1\" class=\"dataframe\">\n",
       "  <thead>\n",
       "    <tr style=\"text-align: right;\">\n",
       "      <th></th>\n",
       "      <th>hospital_pk</th>\n",
       "      <th>collection_week</th>\n",
       "      <th>state</th>\n",
       "      <th>ccn</th>\n",
       "      <th>hospital_name</th>\n",
       "      <th>address</th>\n",
       "      <th>city</th>\n",
       "      <th>zip</th>\n",
       "      <th>hospital_subtype</th>\n",
       "      <th>fips_code</th>\n",
       "      <th>...</th>\n",
       "      <th>total_beds_7_day_lat_avg</th>\n",
       "      <th>inpatient_beds_used_7_day_lat_avg</th>\n",
       "      <th>total_adult_patients_hospitalized_confirmed_and_suspected_covid_7_day_lat_avg</th>\n",
       "      <th>total_pediatric_patients_hospitalized_confirmed_and_suspected_covid_7_day_lat_avg</th>\n",
       "      <th>total_staffed_adult_icu_beds_7_day_lat_avg</th>\n",
       "      <th>staffed_adult_icu_bed_occupancy_7_day_lat_avg</th>\n",
       "      <th>staffed_icu_adult_patients_confirmed_and_suspected_covid_7_day_lat_avg</th>\n",
       "      <th>total_covid_patients_7_day_avg_lat</th>\n",
       "      <th>pct_beds_occupied_covid</th>\n",
       "      <th>pct_beds_occupied</th>\n",
       "    </tr>\n",
       "  </thead>\n",
       "  <tbody>\n",
       "    <tr>\n",
       "      <th>237</th>\n",
       "      <td>050298</td>\n",
       "      <td>2020-12-04</td>\n",
       "      <td>CA</td>\n",
       "      <td>050298</td>\n",
       "      <td>BARSTOW COMMUNITY HOSPITAL</td>\n",
       "      <td>820 E MOUNTAIN VIEW STREET</td>\n",
       "      <td>BARSTOW</td>\n",
       "      <td>92311</td>\n",
       "      <td>Short Term</td>\n",
       "      <td>06071</td>\n",
       "      <td>...</td>\n",
       "      <td>41.000000</td>\n",
       "      <td>30.000000</td>\n",
       "      <td>34.285714</td>\n",
       "      <td>0.0</td>\n",
       "      <td>8.000000</td>\n",
       "      <td>7.428571</td>\n",
       "      <td>13.000000</td>\n",
       "      <td>34.285714</td>\n",
       "      <td>0.836237</td>\n",
       "      <td>0.731707</td>\n",
       "    </tr>\n",
       "    <tr>\n",
       "      <th>51</th>\n",
       "      <td>051301</td>\n",
       "      <td>2020-12-04</td>\n",
       "      <td>CA</td>\n",
       "      <td>051301</td>\n",
       "      <td>ADVENTIST HEALTH TEHACHAPI VALLEY</td>\n",
       "      <td>1100 MAGELLAN</td>\n",
       "      <td>TEHACHAPI</td>\n",
       "      <td>93561</td>\n",
       "      <td>Critical Access Hospitals</td>\n",
       "      <td>06029</td>\n",
       "      <td>...</td>\n",
       "      <td>19.428571</td>\n",
       "      <td>16.714286</td>\n",
       "      <td>11.428571</td>\n",
       "      <td>0.0</td>\n",
       "      <td>4.000000</td>\n",
       "      <td>2.571429</td>\n",
       "      <td>2.285714</td>\n",
       "      <td>11.428571</td>\n",
       "      <td>0.588235</td>\n",
       "      <td>0.860294</td>\n",
       "    </tr>\n",
       "    <tr>\n",
       "      <th>233</th>\n",
       "      <td>050758</td>\n",
       "      <td>2020-12-04</td>\n",
       "      <td>CA</td>\n",
       "      <td>050758</td>\n",
       "      <td>MONTCLAIR HOSPITAL MEDICAL CENTER</td>\n",
       "      <td>5000 SAN BERNARDINO ST</td>\n",
       "      <td>MONTCLAIR</td>\n",
       "      <td>91763</td>\n",
       "      <td>Short Term</td>\n",
       "      <td>06071</td>\n",
       "      <td>...</td>\n",
       "      <td>54.857143</td>\n",
       "      <td>43.142857</td>\n",
       "      <td>30.142857</td>\n",
       "      <td>0.0</td>\n",
       "      <td>10.000000</td>\n",
       "      <td>9.571429</td>\n",
       "      <td>9.571429</td>\n",
       "      <td>30.142857</td>\n",
       "      <td>0.549479</td>\n",
       "      <td>0.786458</td>\n",
       "    </tr>\n",
       "    <tr>\n",
       "      <th>242</th>\n",
       "      <td>050709</td>\n",
       "      <td>2020-12-04</td>\n",
       "      <td>CA</td>\n",
       "      <td>050709</td>\n",
       "      <td>DESERT VALLEY HOSPITAL</td>\n",
       "      <td>16850 BEAR VALLEY RD</td>\n",
       "      <td>VICTORVILLE</td>\n",
       "      <td>92395</td>\n",
       "      <td>Short Term</td>\n",
       "      <td>06071</td>\n",
       "      <td>...</td>\n",
       "      <td>159.857143</td>\n",
       "      <td>123.571429</td>\n",
       "      <td>85.142857</td>\n",
       "      <td>0.0</td>\n",
       "      <td>21.285714</td>\n",
       "      <td>20.857143</td>\n",
       "      <td>16.714286</td>\n",
       "      <td>85.142857</td>\n",
       "      <td>0.532618</td>\n",
       "      <td>0.773012</td>\n",
       "    </tr>\n",
       "    <tr>\n",
       "      <th>56</th>\n",
       "      <td>050121</td>\n",
       "      <td>2020-12-04</td>\n",
       "      <td>CA</td>\n",
       "      <td>050121</td>\n",
       "      <td>ADVENTIST HEALTH HANFORD</td>\n",
       "      <td>115 MALL DRIVE</td>\n",
       "      <td>HANFORD</td>\n",
       "      <td>93230</td>\n",
       "      <td>Short Term</td>\n",
       "      <td>06031</td>\n",
       "      <td>...</td>\n",
       "      <td>147.285714</td>\n",
       "      <td>132.285714</td>\n",
       "      <td>73.000000</td>\n",
       "      <td>0.0</td>\n",
       "      <td>19.142857</td>\n",
       "      <td>16.142857</td>\n",
       "      <td>8.714286</td>\n",
       "      <td>73.000000</td>\n",
       "      <td>0.495635</td>\n",
       "      <td>0.898157</td>\n",
       "    </tr>\n",
       "  </tbody>\n",
       "</table>\n",
       "<p>5 rows × 107 columns</p>\n",
       "</div>"
      ],
      "text/plain": [
       "    hospital_pk collection_week state     ccn  \\\n",
       "237      050298      2020-12-04    CA  050298   \n",
       "51       051301      2020-12-04    CA  051301   \n",
       "233      050758      2020-12-04    CA  050758   \n",
       "242      050709      2020-12-04    CA  050709   \n",
       "56       050121      2020-12-04    CA  050121   \n",
       "\n",
       "                         hospital_name                     address  \\\n",
       "237         BARSTOW COMMUNITY HOSPITAL  820 E MOUNTAIN VIEW STREET   \n",
       "51   ADVENTIST HEALTH TEHACHAPI VALLEY               1100 MAGELLAN   \n",
       "233  MONTCLAIR HOSPITAL MEDICAL CENTER      5000 SAN BERNARDINO ST   \n",
       "242             DESERT VALLEY HOSPITAL        16850 BEAR VALLEY RD   \n",
       "56            ADVENTIST HEALTH HANFORD              115 MALL DRIVE   \n",
       "\n",
       "            city    zip           hospital_subtype fips_code  ...  \\\n",
       "237      BARSTOW  92311                 Short Term     06071  ...   \n",
       "51     TEHACHAPI  93561  Critical Access Hospitals     06029  ...   \n",
       "233    MONTCLAIR  91763                 Short Term     06071  ...   \n",
       "242  VICTORVILLE  92395                 Short Term     06071  ...   \n",
       "56       HANFORD  93230                 Short Term     06031  ...   \n",
       "\n",
       "     total_beds_7_day_lat_avg  inpatient_beds_used_7_day_lat_avg  \\\n",
       "237                 41.000000                          30.000000   \n",
       "51                  19.428571                          16.714286   \n",
       "233                 54.857143                          43.142857   \n",
       "242                159.857143                         123.571429   \n",
       "56                 147.285714                         132.285714   \n",
       "\n",
       "     total_adult_patients_hospitalized_confirmed_and_suspected_covid_7_day_lat_avg  \\\n",
       "237                                          34.285714                               \n",
       "51                                           11.428571                               \n",
       "233                                          30.142857                               \n",
       "242                                          85.142857                               \n",
       "56                                           73.000000                               \n",
       "\n",
       "     total_pediatric_patients_hospitalized_confirmed_and_suspected_covid_7_day_lat_avg  \\\n",
       "237                                                0.0                                   \n",
       "51                                                 0.0                                   \n",
       "233                                                0.0                                   \n",
       "242                                                0.0                                   \n",
       "56                                                 0.0                                   \n",
       "\n",
       "     total_staffed_adult_icu_beds_7_day_lat_avg  \\\n",
       "237                                    8.000000   \n",
       "51                                     4.000000   \n",
       "233                                   10.000000   \n",
       "242                                   21.285714   \n",
       "56                                    19.142857   \n",
       "\n",
       "     staffed_adult_icu_bed_occupancy_7_day_lat_avg  \\\n",
       "237                                       7.428571   \n",
       "51                                        2.571429   \n",
       "233                                       9.571429   \n",
       "242                                      20.857143   \n",
       "56                                       16.142857   \n",
       "\n",
       "     staffed_icu_adult_patients_confirmed_and_suspected_covid_7_day_lat_avg  \\\n",
       "237                                          13.000000                        \n",
       "51                                            2.285714                        \n",
       "233                                           9.571429                        \n",
       "242                                          16.714286                        \n",
       "56                                            8.714286                        \n",
       "\n",
       "     total_covid_patients_7_day_avg_lat  pct_beds_occupied_covid  \\\n",
       "237                           34.285714                 0.836237   \n",
       "51                            11.428571                 0.588235   \n",
       "233                           30.142857                 0.549479   \n",
       "242                           85.142857                 0.532618   \n",
       "56                            73.000000                 0.495635   \n",
       "\n",
       "     pct_beds_occupied  \n",
       "237           0.731707  \n",
       "51            0.860294  \n",
       "233           0.786458  \n",
       "242           0.773012  \n",
       "56            0.898157  \n",
       "\n",
       "[5 rows x 107 columns]"
      ]
     },
     "execution_count": 545,
     "metadata": {},
     "output_type": "execute_result"
    }
   ],
   "source": [
    "ca_timeseries[\n",
    "    ca_timeseries.collection_week == ca_timeseries.collection_week.max()\n",
    "].sort_values(\"pct_beds_occupied_covid\", ascending=False).head()"
   ]
  },
  {
   "cell_type": "markdown",
   "metadata": {},
   "source": [
    "### Chart"
   ]
  },
  {
   "cell_type": "code",
   "execution_count": 546,
   "metadata": {},
   "outputs": [],
   "source": [
    "# hospitalization_pivot = (\n",
    "#     ca_latest_regions_metrics[\n",
    "#         [\n",
    "#             \"hospital_name\",\n",
    "#             \"county\",\n",
    "#             \"total_covid_patients_7_day_avg_lat\",\n",
    "#             # \"non_covid_patients_7_day_avg_lat\",\n",
    "#             \"total_available_beds_7_day_avg_lat\",\n",
    "#         ]\n",
    "#     ]\n",
    "#     .set_index([\"hospital_name\", \"county\"])\n",
    "#     .stack()\n",
    "#     .reset_index()\n",
    "#     .rename(columns={\"level_1\": \"type\", 0: \"patients\"})\n",
    "# )"
   ]
  },
  {
   "cell_type": "code",
   "execution_count": 547,
   "metadata": {},
   "outputs": [],
   "source": [
    "# segments = [\n",
    "#     \"total_covid_patients_7_day_avg_lat\",\n",
    "#     # \"non_covid_patients_7_day_avg_lat\",\n",
    "#     \"total_available_beds_7_day_avg_lat\",\n",
    "# ]"
   ]
  },
  {
   "cell_type": "code",
   "execution_count": 548,
   "metadata": {},
   "outputs": [],
   "source": [
    "# segment_order = dict((v, i + 1) for i, v in enumerate(segments))"
   ]
  },
  {
   "cell_type": "code",
   "execution_count": 549,
   "metadata": {},
   "outputs": [],
   "source": [
    "# hospitalization_pivot[\"segment_order\"] = hospitalization_pivot.level_2.map(\n",
    "#     segment_order\n",
    "# )"
   ]
  },
  {
   "cell_type": "code",
   "execution_count": 550,
   "metadata": {},
   "outputs": [],
   "source": [
    "# hospitalization_pivot_sorted = hospitalization_pivot.sort_values(\n",
    "#     [\"county\", \"hospital_name\", \"segment_order\"]\n",
    "# )"
   ]
  },
  {
   "cell_type": "code",
   "execution_count": 551,
   "metadata": {},
   "outputs": [],
   "source": [
    "# alt.Chart(\n",
    "#     hospitalization_pivot_sorted[\n",
    "#         hospitalization_pivot_sorted.county == \"San Bernardino\"\n",
    "#     ]\n",
    "# ).mark_bar().encode(\n",
    "#     x=alt.X(\"sum(patients)\", stack=\"normalize\"),\n",
    "#     y=\"hospital_name\",\n",
    "#     color=alt.Color(\n",
    "#         \"level_2\",\n",
    "#         sort=alt.EncodingSortField(\"segment_order\", order=\"descending\"),\n",
    "#     ),\n",
    "#     order=\"segment_order\",\n",
    "#     tooltip=[\n",
    "#         alt.Tooltip(\"hospital_name\"),\n",
    "#     ],\n",
    "# ).properties(\n",
    "#     title=\"Percentage of covid patients occupying inpatient beds of county hospitals\"\n",
    "# )"
   ]
  },
  {
   "cell_type": "markdown",
   "metadata": {},
   "source": [
    "### ICUs"
   ]
  },
  {
   "cell_type": "markdown",
   "metadata": {},
   "source": [
    "Percent of ICU beds occupied by covid patients"
   ]
  },
  {
   "cell_type": "code",
   "execution_count": 573,
   "metadata": {},
   "outputs": [],
   "source": [
    "ca_timeseries[\"pct_icu_beds_occupied_covid\"] = (\n",
    "    ca_timeseries[\n",
    "        \"staffed_icu_adult_patients_confirmed_and_suspected_covid_7_day_lat_avg\"\n",
    "    ]\n",
    "    / ca_timeseries[\"total_staffed_adult_icu_beds_7_day_lat_avg\"]\n",
    ")"
   ]
  },
  {
   "cell_type": "markdown",
   "metadata": {},
   "source": [
    "Percent of ICU beds occuppied"
   ]
  },
  {
   "cell_type": "code",
   "execution_count": 574,
   "metadata": {},
   "outputs": [],
   "source": [
    "ca_timeseries[\"pct_icu_beds_occupied\"] = (\n",
    "    ca_timeseries[\"staffed_adult_icu_bed_occupancy_7_day_lat_avg\"]\n",
    "    / ca_timeseries[\"total_staffed_adult_icu_beds_7_day_lat_avg\"]\n",
    ")"
   ]
  },
  {
   "cell_type": "code",
   "execution_count": 554,
   "metadata": {},
   "outputs": [],
   "source": [
    "# icu_pivot = (\n",
    "#     ca_latest_regions_metrics[\n",
    "#         [\n",
    "#             \"hospital_name\",\n",
    "#             \"county\",\n",
    "#             \"staffed_icu_adult_patients_confirmed_and_suspected_covid_7_day_avg_lat\",\n",
    "#             # \"non_covid_icu_patients_7_day_avg_lat\",\n",
    "#             \"total_available_icu_beds_7_day_avg_lat\",\n",
    "#         ]\n",
    "#     ]\n",
    "#     .set_index([\"hospital_name\", \"county\"])\n",
    "#     .stack()\n",
    "#     .reset_index()\n",
    "#     .rename(columns={\"level_1\": \"type\", 0: \"icu_patients\"})\n",
    "# )"
   ]
  },
  {
   "cell_type": "code",
   "execution_count": 555,
   "metadata": {},
   "outputs": [],
   "source": [
    "# icu_segments = [\n",
    "#     \"staffed_icu_adult_patients_confirmed_and_suspected_covid_7_day_avg_lat\",\n",
    "#     \"non_covid_icu_patients_7_day_avg_lat\",\n",
    "#     \"total_available_icu_beds_7_day_avg_lat\",\n",
    "# ]"
   ]
  },
  {
   "cell_type": "code",
   "execution_count": 556,
   "metadata": {},
   "outputs": [],
   "source": [
    "# icu_segment_order = dict((v, i + 1) for i, v in enumerate(icu_segments))"
   ]
  },
  {
   "cell_type": "code",
   "execution_count": 557,
   "metadata": {},
   "outputs": [],
   "source": [
    "# icu_pivot[\"segment_order\"] = icu_pivot.level_2.map(icu_segment_order)"
   ]
  },
  {
   "cell_type": "code",
   "execution_count": 558,
   "metadata": {},
   "outputs": [],
   "source": [
    "# icu_pivot_sorted = icu_pivot.sort_values([\"county\", \"hospital_name\", \"segment_order\"])"
   ]
  },
  {
   "cell_type": "code",
   "execution_count": 559,
   "metadata": {},
   "outputs": [],
   "source": [
    "# alt.Chart(icu_pivot_sorted[icu_pivot_sorted.county == \"Los Angeles\"]).mark_bar().encode(\n",
    "#     x=alt.X(\"sum(icu_patients)\", stack=\"normalize\"),\n",
    "#     y=\"hospital_name\",\n",
    "#     color=alt.Color(\n",
    "#         \"level_2\",\n",
    "#         sort=alt.EncodingSortField(\"segment_order\", order=\"descending\"),\n",
    "#     ),\n",
    "#     order=\"segment_order\",\n",
    "#     tooltip=[\n",
    "#         alt.Tooltip(\"hospital_name\"),\n",
    "#     ],\n",
    "# ).properties(\n",
    "#     title=\"Percentage of covid patients occupying ICU beds of county hospitals\"\n",
    "# )"
   ]
  },
  {
   "cell_type": "markdown",
   "metadata": {},
   "source": [
    "### Pediatric patients"
   ]
  },
  {
   "cell_type": "code",
   "execution_count": 560,
   "metadata": {},
   "outputs": [],
   "source": [
    "pediatric_patients = ca_timeseries[\n",
    "    [\n",
    "        \"hospital_name\",\n",
    "        \"total_pediatric_patients_hospitalized_confirmed_and_suspected_covid_7_day_lat_avg\",\n",
    "    ]\n",
    "]"
   ]
  },
  {
   "cell_type": "code",
   "execution_count": 561,
   "metadata": {},
   "outputs": [],
   "source": [
    "pediatric_patients_sorted = pediatric_patients[\n",
    "    ~pediatric_patients[\n",
    "        \"total_pediatric_patients_hospitalized_confirmed_and_suspected_covid_7_day_lat_avg\"\n",
    "    ].isnull()\n",
    "].sort_values(\n",
    "    \"total_pediatric_patients_hospitalized_confirmed_and_suspected_covid_7_day_lat_avg\",\n",
    "    ascending=False,\n",
    ")"
   ]
  },
  {
   "cell_type": "markdown",
   "metadata": {},
   "source": [
    "### Group by county"
   ]
  },
  {
   "cell_type": "code",
   "execution_count": 562,
   "metadata": {},
   "outputs": [],
   "source": [
    "counties_df = ca_latest_metrics.groupby([\"county\"]).sum().reset_index()"
   ]
  },
  {
   "cell_type": "code",
   "execution_count": 563,
   "metadata": {},
   "outputs": [],
   "source": [
    "counties_df[\"pct_icu_covid\"] = (\n",
    "    counties_df[\n",
    "        \"staffed_icu_adult_patients_confirmed_and_suspected_covid_7_day_lat_avg\"\n",
    "    ]\n",
    "    / counties_df[\"total_staffed_adult_icu_beds_7_day_lat_avg\"]\n",
    ")"
   ]
  },
  {
   "cell_type": "code",
   "execution_count": 564,
   "metadata": {},
   "outputs": [],
   "source": [
    "counties_df[\"pct_icu_available_7_day_lat_avg\"] = (\n",
    "    counties_df[\"staffed_adult_icu_bed_occupancy_7_day_lat_avg\"]\n",
    "    / counties_df[\"total_staffed_adult_icu_beds_7_day_lat_avg\"]\n",
    ")"
   ]
  },
  {
   "cell_type": "markdown",
   "metadata": {},
   "source": [
    "### Group by region"
   ]
  },
  {
   "cell_type": "code",
   "execution_count": 565,
   "metadata": {},
   "outputs": [],
   "source": [
    "regions_df = ca_timeseries.groupby([\"region\"]).sum().reset_index()"
   ]
  },
  {
   "cell_type": "code",
   "execution_count": 566,
   "metadata": {},
   "outputs": [],
   "source": [
    "regions_df[\"pct_icu_covid\"] = (\n",
    "    regions_df[\"staffed_icu_adult_patients_confirmed_and_suspected_covid_7_day_lat_avg\"]\n",
    "    / regions_df[\"total_staffed_adult_icu_beds_7_day_lat_avg\"]\n",
    ")"
   ]
  },
  {
   "cell_type": "code",
   "execution_count": 567,
   "metadata": {},
   "outputs": [],
   "source": [
    "regions_df[\"pct_icu_available_7_day_avg_lat\"] = (\n",
    "    regions_df[\"staffed_adult_icu_bed_occupancy_7_day_lat_avg\"]\n",
    "    / regions_df[\"total_staffed_adult_icu_beds_7_day_lat_avg\"]\n",
    ")"
   ]
  },
  {
   "cell_type": "code",
   "execution_count": 568,
   "metadata": {},
   "outputs": [],
   "source": [
    "# regional_icu_pivot = (\n",
    "#     regions_df[\n",
    "#         [\n",
    "#             \"region\",\n",
    "#             \"staffed_adult_icu_bed_occupancy_7_day_lat_avg\",\n",
    "#             # \"non_covid_icu_patients_7_day_avg_lat\",\n",
    "#             \"total_staffed_adult_icu_beds_7_day_lat_avg\",\n",
    "#         ]\n",
    "#     ]\n",
    "#     .set_index([\"region\"])\n",
    "#     .stack()\n",
    "#     .reset_index()\n",
    "#     .rename(columns={\"level_1\": \"type\", 0: \"icu_patients\"})\n",
    "# )"
   ]
  },
  {
   "cell_type": "code",
   "execution_count": 569,
   "metadata": {},
   "outputs": [],
   "source": [
    "# icu_segments = [\n",
    "#     \"staffed_adult_icu_bed_occupancy_7_day_lat_avg\",\n",
    "#     # \"non_covid_icu_patients_7_day_avg_lat\",\n",
    "#     \"total_staffed_adult_icu_beds_7_day_lat_avg\",\n",
    "# ]\n",
    "# icu_segment_order = dict((v, i + 1) for i, v in enumerate(icu_segments))\n",
    "# regional_icu_pivot[\"segment_order\"] = regional_icu_pivot.type.map(icu_segment_order)\n",
    "# regional_icu_pivot_sorted = regional_icu_pivot.sort_values([\"region\", \"segment_order\"])"
   ]
  },
  {
   "cell_type": "code",
   "execution_count": 570,
   "metadata": {},
   "outputs": [],
   "source": [
    "# alt.Chart(regional_icu_pivot_sorted).mark_bar().encode(\n",
    "#     x=alt.X(\"sum(icu_patients)\", stack=\"normalize\"),\n",
    "#     y=\"region\",\n",
    "#     color=alt.Color(\n",
    "#         \"type\",\n",
    "#         sort=alt.EncodingSortField(\"segment_order\", order=\"descending\"),\n",
    "#     ),\n",
    "#     order=\"segment_order\",\n",
    "#     tooltip=[\n",
    "#         alt.Tooltip(\"region\"),\n",
    "#     ],\n",
    "# ).properties(\n",
    "#     title=\"Percentage of covid patients occupying ICU beds of county hospitals\"\n",
    "# )"
   ]
  },
  {
   "cell_type": "markdown",
   "metadata": {},
   "source": [
    "## Trim"
   ]
  },
  {
   "cell_type": "code",
   "execution_count": 575,
   "metadata": {},
   "outputs": [],
   "source": [
    "timeseries_trimmed = ca_timeseries[\n",
    "    [\n",
    "        \"hospital_name\",\n",
    "        \"collection_week\",\n",
    "        \"ccn\",\n",
    "        \"county\",\n",
    "        \"region\",\n",
    "        \"total_beds_7_day_lat_avg\",\n",
    "        \"inpatient_beds_used_7_day_lat_avg\",\n",
    "        \"total_adult_patients_hospitalized_confirmed_and_suspected_covid_7_day_lat_avg\",\n",
    "        \"total_pediatric_patients_hospitalized_confirmed_and_suspected_covid_7_day_lat_avg\",\n",
    "        \"total_covid_patients_7_day_avg_lat\",\n",
    "        \"pct_beds_occupied_covid\",\n",
    "        \"pct_beds_occupied\",\n",
    "        \"total_staffed_adult_icu_beds_7_day_lat_avg\",\n",
    "        \"staffed_adult_icu_bed_occupancy_7_day_lat_avg\",\n",
    "        \"staffed_icu_adult_patients_confirmed_and_suspected_covid_7_day_lat_avg\",\n",
    "        \"pct_icu_beds_occupied_covid\",\n",
    "        \"pct_icu_beds_occupied\",\n",
    "    ]\n",
    "]"
   ]
  },
  {
   "cell_type": "code",
   "execution_count": 576,
   "metadata": {},
   "outputs": [],
   "source": [
    "timeseries_trimmed = timeseries_trimmed.rename(\n",
    "    columns={\n",
    "        \"collection_week\": \"week\",\n",
    "        \"total_beds_7_day_lat_avg\": \"total_beds\",\n",
    "        \"inpatient_beds_used_7_day_lat_avg\": \"beds_used\",\n",
    "        \"total_adult_patients_hospitalized_confirmed_and_suspected_covid_7_day_lat_avg\": \"adult_patients_confirmed_and_suspected_covid\",\n",
    "        \"total_pediatric_patients_hospitalized_confirmed_and_suspected_covid_7_day_lat_avg\": \"pediatric_patients_confirmed_and_suspected_covid\",\n",
    "        \"total_staffed_adult_icu_beds_7_day_lat_avg\": \"total_covid_patients\",\n",
    "        \"total_staffed_adult_icu_beds_7_day_lat_avg\": \"total_staffed_icu_beds\",\n",
    "        \"staffed_adult_icu_bed_occupancy_7_day_lat_avg\": \"icu_bed_occupancy\",\n",
    "        \"staffed_icu_adult_patients_confirmed_and_suspected_covid_7_day_lat_avg\": \"icu_adult_patients_confirmed_and_suspected_covid\",\n",
    "    }\n",
    ")"
   ]
  },
  {
   "cell_type": "markdown",
   "metadata": {},
   "source": [
    "Get the latest"
   ]
  },
  {
   "cell_type": "code",
   "execution_count": 577,
   "metadata": {},
   "outputs": [],
   "source": [
    "ca_latest = timeseries_trimmed.copy()"
   ]
  },
  {
   "cell_type": "code",
   "execution_count": 578,
   "metadata": {},
   "outputs": [],
   "source": [
    "ca_latest = ca_latest[ca_latest.collection_week == ca_latest.collection_week.max()]"
   ]
  },
  {
   "cell_type": "markdown",
   "metadata": {},
   "source": [
    "## Export"
   ]
  },
  {
   "cell_type": "code",
   "execution_count": null,
   "metadata": {},
   "outputs": [],
   "source": [
    "export_options = dict(\n",
    "    serialize_dates=[\"week\"],\n",
    ")"
   ]
  },
  {
   "cell_type": "code",
   "execution_count": null,
   "metadata": {},
   "outputs": [],
   "source": []
  },
  {
   "cell_type": "code",
   "execution_count": null,
   "metadata": {},
   "outputs": [],
   "source": []
  },
  {
   "cell_type": "code",
   "execution_count": null,
   "metadata": {},
   "outputs": [],
   "source": [
    "df = pd.merge(ca_data, ca_locations, how=\"left\", on=\"ccn\")"
   ]
  },
  {
   "cell_type": "code",
   "execution_count": null,
   "metadata": {},
   "outputs": [],
   "source": [
    "ca_locations = raw_locations.copy()\n",
    "\n",
    "# zero fill the CCN field to match the data\n",
    "ca_locations[\"CCN\"] = ca_locations[\"CCN\"].str.zfill(6)\n",
    "\n",
    "# make it match the casing of the data\n",
    "ca_locations = ca_locations.rename(columns={\"CCN\": \"ccn\"})\n",
    "\n",
    "# filter down to CA\n",
    "ca_locations = ca_locations[ca_locations[\"State\"] == \"CA\"]\n",
    "\n",
    "# we only need a few fields for joining\n",
    "ca_locations = ca_locations[[\"ccn\", \"latitude\", \"longitude\"]]\n",
    "\n",
    "# for whatever reason the CCN of this hospital has a typo in it, so we\n",
    "# make a duplicate of it with the bum ID so both will successfully match\n",
    "# in the event they fix it later\n",
    "long_beach_memorial_row = ca_locations[ca_locations.ccn == \"050485\"].copy()\n",
    "long_beach_memorial_row[\"ccn\"] = \"05T485\"\n",
    "ca_locations = ca_locations.append(long_beach_memorial_row)"
   ]
  }
 ],
 "metadata": {
  "kernelspec": {
   "display_name": "Python 3",
   "language": "python",
   "name": "python3"
  },
  "language_info": {
   "codemirror_mode": {
    "name": "ipython",
    "version": 3
   },
   "file_extension": ".py",
   "mimetype": "text/x-python",
   "name": "python",
   "nbconvert_exporter": "python",
   "pygments_lexer": "ipython3",
   "version": "3.8.0"
  }
 },
 "nbformat": 4,
 "nbformat_minor": 4
}
