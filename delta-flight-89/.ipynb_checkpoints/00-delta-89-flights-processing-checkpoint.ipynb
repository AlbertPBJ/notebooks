{
 "cells": [
  {
   "cell_type": "code",
   "execution_count": 129,
   "metadata": {},
   "outputs": [],
   "source": [
    "import pandas as pd\n",
    "import geopandas as gpd\n",
    "import matplotlib\n",
    "import matplotlib.pyplot as plt\n",
    "import geojson\n",
    "import json\n",
    "import jenkspy\n",
    "import numpy as np\n",
    "import glob\n",
    "import io\n",
    "import os\n",
    "from shapely.geometry import Point, LineString\n",
    "from altair import datum\n",
    "import altair as alt\n",
    "alt.renderers.enable('notebook')\n",
    "import altair_latimes as lat\n",
    "alt.themes.register('latimes', lat.theme)\n",
    "alt.themes.enable('latimes')\n",
    "pd.options.display.max_columns = 50\n",
    "pd.options.display.max_rows = 100"
   ]
  },
  {
   "cell_type": "code",
   "execution_count": 130,
   "metadata": {},
   "outputs": [],
   "source": [
    "a_flight = pd.read_csv('input/flights/DL89_228f611c.csv')"
   ]
  },
  {
   "cell_type": "code",
   "execution_count": 131,
   "metadata": {},
   "outputs": [
    {
     "data": {
      "text/html": [
       "<div>\n",
       "<style scoped>\n",
       "    .dataframe tbody tr th:only-of-type {\n",
       "        vertical-align: middle;\n",
       "    }\n",
       "\n",
       "    .dataframe tbody tr th {\n",
       "        vertical-align: top;\n",
       "    }\n",
       "\n",
       "    .dataframe thead th {\n",
       "        text-align: right;\n",
       "    }\n",
       "</style>\n",
       "<table border=\"1\" class=\"dataframe\">\n",
       "  <thead>\n",
       "    <tr style=\"text-align: right;\">\n",
       "      <th></th>\n",
       "      <th>Timestamp</th>\n",
       "      <th>UTC</th>\n",
       "      <th>Callsign</th>\n",
       "      <th>Position</th>\n",
       "      <th>Altitude</th>\n",
       "      <th>Speed</th>\n",
       "      <th>Direction</th>\n",
       "    </tr>\n",
       "  </thead>\n",
       "  <tbody>\n",
       "    <tr>\n",
       "      <th>0</th>\n",
       "      <td>1571684146</td>\n",
       "      <td>2019-10-21T18:55:46Z</td>\n",
       "      <td>DAL89</td>\n",
       "      <td>33.945415,-118.410347</td>\n",
       "      <td>0</td>\n",
       "      <td>0</td>\n",
       "      <td>264</td>\n",
       "    </tr>\n",
       "    <tr>\n",
       "      <th>1</th>\n",
       "      <td>1571688008</td>\n",
       "      <td>2019-10-21T20:00:08Z</td>\n",
       "      <td>DAL89</td>\n",
       "      <td>33.945431,-118.410126</td>\n",
       "      <td>0</td>\n",
       "      <td>9</td>\n",
       "      <td>264</td>\n",
       "    </tr>\n",
       "    <tr>\n",
       "      <th>2</th>\n",
       "      <td>1571688026</td>\n",
       "      <td>2019-10-21T20:00:26Z</td>\n",
       "      <td>DAL89</td>\n",
       "      <td>33.945442,-118.409904</td>\n",
       "      <td>0</td>\n",
       "      <td>9</td>\n",
       "      <td>258</td>\n",
       "    </tr>\n",
       "    <tr>\n",
       "      <th>3</th>\n",
       "      <td>1571688044</td>\n",
       "      <td>2019-10-21T20:00:44Z</td>\n",
       "      <td>DAL89</td>\n",
       "      <td>33.945438,-118.40966</td>\n",
       "      <td>0</td>\n",
       "      <td>9</td>\n",
       "      <td>250</td>\n",
       "    </tr>\n",
       "    <tr>\n",
       "      <th>4</th>\n",
       "      <td>1571688065</td>\n",
       "      <td>2019-10-21T20:01:05Z</td>\n",
       "      <td>DAL89</td>\n",
       "      <td>33.945442,-118.409454</td>\n",
       "      <td>0</td>\n",
       "      <td>2</td>\n",
       "      <td>236</td>\n",
       "    </tr>\n",
       "  </tbody>\n",
       "</table>\n",
       "</div>"
      ],
      "text/plain": [
       "    Timestamp                   UTC Callsign               Position  Altitude  \\\n",
       "0  1571684146  2019-10-21T18:55:46Z    DAL89  33.945415,-118.410347         0   \n",
       "1  1571688008  2019-10-21T20:00:08Z    DAL89  33.945431,-118.410126         0   \n",
       "2  1571688026  2019-10-21T20:00:26Z    DAL89  33.945442,-118.409904         0   \n",
       "3  1571688044  2019-10-21T20:00:44Z    DAL89   33.945438,-118.40966         0   \n",
       "4  1571688065  2019-10-21T20:01:05Z    DAL89  33.945442,-118.409454         0   \n",
       "\n",
       "   Speed  Direction  \n",
       "0      0        264  \n",
       "1      9        264  \n",
       "2      9        258  \n",
       "3      9        250  \n",
       "4      2        236  "
      ]
     },
     "execution_count": 131,
     "metadata": {},
     "output_type": "execute_result"
    }
   ],
   "source": [
    "a_flight.head()"
   ]
  },
  {
   "cell_type": "code",
   "execution_count": 132,
   "metadata": {},
   "outputs": [
    {
     "data": {
      "text/plain": [
       "Timestamp     int64\n",
       "UTC          object\n",
       "Callsign     object\n",
       "Position     object\n",
       "Altitude      int64\n",
       "Speed         int64\n",
       "Direction     int64\n",
       "dtype: object"
      ]
     },
     "execution_count": 132,
     "metadata": {},
     "output_type": "execute_result"
    }
   ],
   "source": [
    "a_flight.dtypes"
   ]
  },
  {
   "cell_type": "code",
   "execution_count": 133,
   "metadata": {},
   "outputs": [],
   "source": [
    "path = 'input/flights/'"
   ]
  },
  {
   "cell_type": "code",
   "execution_count": 134,
   "metadata": {},
   "outputs": [],
   "source": [
    "files = glob.glob(os.path.join(path, \"*.csv\"))"
   ]
  },
  {
   "cell_type": "code",
   "execution_count": 135,
   "metadata": {},
   "outputs": [],
   "source": [
    "file_df = (pd.read_csv(f, encoding = \"ISO-8859-1\", low_memory=False)\\\n",
    "           .assign(flightid=os.path.basename(f)) for f in files)"
   ]
  },
  {
   "cell_type": "code",
   "execution_count": 136,
   "metadata": {},
   "outputs": [],
   "source": [
    "concatenated_df = pd.concat(file_df, ignore_index=True)"
   ]
  },
  {
   "cell_type": "code",
   "execution_count": 137,
   "metadata": {},
   "outputs": [],
   "source": [
    "concatenated_df['flightid'] = concatenated_df['flightid']\\\n",
    "    .str.replace('DL89_','')\\\n",
    "    .str.replace('.csv','')"
   ]
  },
  {
   "cell_type": "code",
   "execution_count": 138,
   "metadata": {},
   "outputs": [
    {
     "data": {
      "text/plain": [
       "196276"
      ]
     },
     "execution_count": 138,
     "metadata": {},
     "output_type": "execute_result"
    }
   ],
   "source": [
    "len(concatenated_df)"
   ]
  },
  {
   "cell_type": "code",
   "execution_count": 139,
   "metadata": {},
   "outputs": [],
   "source": [
    "concatenated_df.columns = concatenated_df.columns.str.strip().str.lower().str.replace(' ', '_')\\\n",
    "                    .str.replace('(', '').str.replace(')', '').str.replace('-','_')"
   ]
  },
  {
   "cell_type": "code",
   "execution_count": 140,
   "metadata": {},
   "outputs": [],
   "source": [
    "flights = pd.DataFrame(concatenated_df.sort_values(by='timestamp', ascending=False))"
   ]
  },
  {
   "cell_type": "code",
   "execution_count": 141,
   "metadata": {},
   "outputs": [],
   "source": [
    "lat = []\n",
    "lon = []\n",
    "\n",
    "for row in flights['position']:\n",
    "    lat.append(row.split(',')[0])\n",
    "    lon.append(row.split(',')[1])\n",
    "        \n",
    "flights['latitude'] = lat\n",
    "flights['longitude'] = lon"
   ]
  },
  {
   "cell_type": "code",
   "execution_count": 142,
   "metadata": {},
   "outputs": [],
   "source": [
    "flights['latitude'] = flights['latitude'].astype(float)\n",
    "flights['longitude'] = flights['longitude'].astype(float)"
   ]
  },
  {
   "cell_type": "code",
   "execution_count": 143,
   "metadata": {},
   "outputs": [],
   "source": [
    "flights['utc_datetime'] = pd.to_datetime(flights['utc'], format='%Y-%m-%dT%H:%M:%SZ').dt.tz_localize('UTC')"
   ]
  },
  {
   "cell_type": "code",
   "execution_count": 144,
   "metadata": {},
   "outputs": [],
   "source": [
    "flights['datetime'] = flights['utc_datetime'].dt.tz_convert('America/Los_Angeles')"
   ]
  },
  {
   "cell_type": "code",
   "execution_count": 145,
   "metadata": {},
   "outputs": [],
   "source": [
    "flights['date'] = pd.to_datetime(flights['datetime']).dt.strftime('%m/%d/%Y')\n",
    "flights['time'] = pd.to_datetime(flights['datetime']).dt.strftime('%H:%M:%S')"
   ]
  },
  {
   "cell_type": "code",
   "execution_count": 146,
   "metadata": {},
   "outputs": [],
   "source": [
    "# flights['time'] = flights['datetime'].dt.time"
   ]
  },
  {
   "cell_type": "code",
   "execution_count": 147,
   "metadata": {},
   "outputs": [],
   "source": [
    "flights['display_time'] = pd.to_datetime(flights['datetime']).dt.strftime('%I:%M %p')"
   ]
  },
  {
   "cell_type": "code",
   "execution_count": 148,
   "metadata": {},
   "outputs": [],
   "source": [
    "flights['weekday'] = flights['datetime'].dt.weekday_name"
   ]
  },
  {
   "cell_type": "code",
   "execution_count": 149,
   "metadata": {},
   "outputs": [],
   "source": [
    "flights = flights.drop(['utc', 'timestamp','position','utc_datetime'], axis=1)"
   ]
  },
  {
   "cell_type": "code",
   "execution_count": 150,
   "metadata": {},
   "outputs": [
    {
     "data": {
      "text/html": [
       "<div>\n",
       "<style scoped>\n",
       "    .dataframe tbody tr th:only-of-type {\n",
       "        vertical-align: middle;\n",
       "    }\n",
       "\n",
       "    .dataframe tbody tr th {\n",
       "        vertical-align: top;\n",
       "    }\n",
       "\n",
       "    .dataframe thead th {\n",
       "        text-align: right;\n",
       "    }\n",
       "</style>\n",
       "<table border=\"1\" class=\"dataframe\">\n",
       "  <thead>\n",
       "    <tr style=\"text-align: right;\">\n",
       "      <th></th>\n",
       "      <th>callsign</th>\n",
       "      <th>altitude</th>\n",
       "      <th>speed</th>\n",
       "      <th>direction</th>\n",
       "      <th>flightid</th>\n",
       "      <th>latitude</th>\n",
       "      <th>longitude</th>\n",
       "      <th>datetime</th>\n",
       "      <th>date</th>\n",
       "      <th>time</th>\n",
       "      <th>display_time</th>\n",
       "      <th>weekday</th>\n",
       "    </tr>\n",
       "  </thead>\n",
       "  <tbody>\n",
       "    <tr>\n",
       "      <th>100664</th>\n",
       "      <td>DAL89</td>\n",
       "      <td>0</td>\n",
       "      <td>12</td>\n",
       "      <td>132</td>\n",
       "      <td>23856f50</td>\n",
       "      <td>33.947285</td>\n",
       "      <td>-118.404953</td>\n",
       "      <td>2020-01-14 12:10:28-08:00</td>\n",
       "      <td>01/14/2020</td>\n",
       "      <td>12:10:28</td>\n",
       "      <td>12:10 PM</td>\n",
       "      <td>Tuesday</td>\n",
       "    </tr>\n",
       "    <tr>\n",
       "      <th>100663</th>\n",
       "      <td>DAL89</td>\n",
       "      <td>0</td>\n",
       "      <td>15</td>\n",
       "      <td>132</td>\n",
       "      <td>23856f50</td>\n",
       "      <td>33.947453</td>\n",
       "      <td>-118.405182</td>\n",
       "      <td>2020-01-14 12:10:16-08:00</td>\n",
       "      <td>01/14/2020</td>\n",
       "      <td>12:10:16</td>\n",
       "      <td>12:10 PM</td>\n",
       "      <td>Tuesday</td>\n",
       "    </tr>\n",
       "    <tr>\n",
       "      <th>100662</th>\n",
       "      <td>DAL89</td>\n",
       "      <td>0</td>\n",
       "      <td>19</td>\n",
       "      <td>118</td>\n",
       "      <td>23856f50</td>\n",
       "      <td>33.947697</td>\n",
       "      <td>-118.405479</td>\n",
       "      <td>2020-01-14 12:10:05-08:00</td>\n",
       "      <td>01/14/2020</td>\n",
       "      <td>12:10:05</td>\n",
       "      <td>12:10 PM</td>\n",
       "      <td>Tuesday</td>\n",
       "    </tr>\n",
       "    <tr>\n",
       "      <th>100661</th>\n",
       "      <td>DAL89</td>\n",
       "      <td>0</td>\n",
       "      <td>20</td>\n",
       "      <td>101</td>\n",
       "      <td>23856f50</td>\n",
       "      <td>33.947823</td>\n",
       "      <td>-118.405685</td>\n",
       "      <td>2020-01-14 12:09:58-08:00</td>\n",
       "      <td>01/14/2020</td>\n",
       "      <td>12:09:58</td>\n",
       "      <td>12:09 PM</td>\n",
       "      <td>Tuesday</td>\n",
       "    </tr>\n",
       "    <tr>\n",
       "      <th>100660</th>\n",
       "      <td>DAL89</td>\n",
       "      <td>0</td>\n",
       "      <td>21</td>\n",
       "      <td>84</td>\n",
       "      <td>23856f50</td>\n",
       "      <td>33.947857</td>\n",
       "      <td>-118.405907</td>\n",
       "      <td>2020-01-14 12:09:52-08:00</td>\n",
       "      <td>01/14/2020</td>\n",
       "      <td>12:09:52</td>\n",
       "      <td>12:09 PM</td>\n",
       "      <td>Tuesday</td>\n",
       "    </tr>\n",
       "  </tbody>\n",
       "</table>\n",
       "</div>"
      ],
      "text/plain": [
       "       callsign altitude speed direction  flightid   latitude   longitude  \\\n",
       "100664    DAL89        0    12       132  23856f50  33.947285 -118.404953   \n",
       "100663    DAL89        0    15       132  23856f50  33.947453 -118.405182   \n",
       "100662    DAL89        0    19       118  23856f50  33.947697 -118.405479   \n",
       "100661    DAL89        0    20       101  23856f50  33.947823 -118.405685   \n",
       "100660    DAL89        0    21        84  23856f50  33.947857 -118.405907   \n",
       "\n",
       "                        datetime        date      time display_time  weekday  \n",
       "100664 2020-01-14 12:10:28-08:00  01/14/2020  12:10:28     12:10 PM  Tuesday  \n",
       "100663 2020-01-14 12:10:16-08:00  01/14/2020  12:10:16     12:10 PM  Tuesday  \n",
       "100662 2020-01-14 12:10:05-08:00  01/14/2020  12:10:05     12:10 PM  Tuesday  \n",
       "100661 2020-01-14 12:09:58-08:00  01/14/2020  12:09:58     12:09 PM  Tuesday  \n",
       "100660 2020-01-14 12:09:52-08:00  01/14/2020  12:09:52     12:09 PM  Tuesday  "
      ]
     },
     "execution_count": 150,
     "metadata": {},
     "output_type": "execute_result"
    }
   ],
   "source": [
    "flights.head()"
   ]
  },
  {
   "cell_type": "code",
   "execution_count": 151,
   "metadata": {},
   "outputs": [],
   "source": [
    "flights.to_csv('output/flights.csv')"
   ]
  },
  {
   "cell_type": "code",
   "execution_count": null,
   "metadata": {},
   "outputs": [],
   "source": []
  },
  {
   "cell_type": "code",
   "execution_count": 161,
   "metadata": {},
   "outputs": [],
   "source": [
    "flights_geo = gpd.GeoDataFrame(flights, geometry=gpd.points_from_xy(flights['longitude'], flights['latitude']))"
   ]
  },
  {
   "cell_type": "code",
   "execution_count": 162,
   "metadata": {},
   "outputs": [
    {
     "data": {
      "text/html": [
       "<div>\n",
       "<style scoped>\n",
       "    .dataframe tbody tr th:only-of-type {\n",
       "        vertical-align: middle;\n",
       "    }\n",
       "\n",
       "    .dataframe tbody tr th {\n",
       "        vertical-align: top;\n",
       "    }\n",
       "\n",
       "    .dataframe thead th {\n",
       "        text-align: right;\n",
       "    }\n",
       "</style>\n",
       "<table border=\"1\" class=\"dataframe\">\n",
       "  <thead>\n",
       "    <tr style=\"text-align: right;\">\n",
       "      <th></th>\n",
       "      <th>callsign</th>\n",
       "      <th>altitude</th>\n",
       "      <th>speed</th>\n",
       "      <th>direction</th>\n",
       "      <th>flightid</th>\n",
       "      <th>latitude</th>\n",
       "      <th>longitude</th>\n",
       "      <th>datetime</th>\n",
       "      <th>date</th>\n",
       "      <th>time</th>\n",
       "      <th>display_time</th>\n",
       "      <th>weekday</th>\n",
       "      <th>geometry</th>\n",
       "    </tr>\n",
       "  </thead>\n",
       "  <tbody>\n",
       "    <tr>\n",
       "      <th>100664</th>\n",
       "      <td>DAL89</td>\n",
       "      <td>0</td>\n",
       "      <td>12</td>\n",
       "      <td>132</td>\n",
       "      <td>23856f50</td>\n",
       "      <td>33.947285</td>\n",
       "      <td>-118.404953</td>\n",
       "      <td>2020-01-14 12:10:28-08:00</td>\n",
       "      <td>01/14/2020</td>\n",
       "      <td>12:10:28</td>\n",
       "      <td>12:10 PM</td>\n",
       "      <td>Tuesday</td>\n",
       "      <td>POINT (-118.404953 33.947285)</td>\n",
       "    </tr>\n",
       "    <tr>\n",
       "      <th>100663</th>\n",
       "      <td>DAL89</td>\n",
       "      <td>0</td>\n",
       "      <td>15</td>\n",
       "      <td>132</td>\n",
       "      <td>23856f50</td>\n",
       "      <td>33.947453</td>\n",
       "      <td>-118.405182</td>\n",
       "      <td>2020-01-14 12:10:16-08:00</td>\n",
       "      <td>01/14/2020</td>\n",
       "      <td>12:10:16</td>\n",
       "      <td>12:10 PM</td>\n",
       "      <td>Tuesday</td>\n",
       "      <td>POINT (-118.405182 33.947453)</td>\n",
       "    </tr>\n",
       "    <tr>\n",
       "      <th>100662</th>\n",
       "      <td>DAL89</td>\n",
       "      <td>0</td>\n",
       "      <td>19</td>\n",
       "      <td>118</td>\n",
       "      <td>23856f50</td>\n",
       "      <td>33.947697</td>\n",
       "      <td>-118.405479</td>\n",
       "      <td>2020-01-14 12:10:05-08:00</td>\n",
       "      <td>01/14/2020</td>\n",
       "      <td>12:10:05</td>\n",
       "      <td>12:10 PM</td>\n",
       "      <td>Tuesday</td>\n",
       "      <td>POINT (-118.405479 33.947697)</td>\n",
       "    </tr>\n",
       "    <tr>\n",
       "      <th>100661</th>\n",
       "      <td>DAL89</td>\n",
       "      <td>0</td>\n",
       "      <td>20</td>\n",
       "      <td>101</td>\n",
       "      <td>23856f50</td>\n",
       "      <td>33.947823</td>\n",
       "      <td>-118.405685</td>\n",
       "      <td>2020-01-14 12:09:58-08:00</td>\n",
       "      <td>01/14/2020</td>\n",
       "      <td>12:09:58</td>\n",
       "      <td>12:09 PM</td>\n",
       "      <td>Tuesday</td>\n",
       "      <td>POINT (-118.405685 33.947823)</td>\n",
       "    </tr>\n",
       "    <tr>\n",
       "      <th>100660</th>\n",
       "      <td>DAL89</td>\n",
       "      <td>0</td>\n",
       "      <td>21</td>\n",
       "      <td>84</td>\n",
       "      <td>23856f50</td>\n",
       "      <td>33.947857</td>\n",
       "      <td>-118.405907</td>\n",
       "      <td>2020-01-14 12:09:52-08:00</td>\n",
       "      <td>01/14/2020</td>\n",
       "      <td>12:09:52</td>\n",
       "      <td>12:09 PM</td>\n",
       "      <td>Tuesday</td>\n",
       "      <td>POINT (-118.405907 33.947857)</td>\n",
       "    </tr>\n",
       "  </tbody>\n",
       "</table>\n",
       "</div>"
      ],
      "text/plain": [
       "       callsign altitude speed direction  flightid   latitude   longitude  \\\n",
       "100664    DAL89        0    12       132  23856f50  33.947285 -118.404953   \n",
       "100663    DAL89        0    15       132  23856f50  33.947453 -118.405182   \n",
       "100662    DAL89        0    19       118  23856f50  33.947697 -118.405479   \n",
       "100661    DAL89        0    20       101  23856f50  33.947823 -118.405685   \n",
       "100660    DAL89        0    21        84  23856f50  33.947857 -118.405907   \n",
       "\n",
       "                        datetime        date      time display_time  weekday  \\\n",
       "100664 2020-01-14 12:10:28-08:00  01/14/2020  12:10:28     12:10 PM  Tuesday   \n",
       "100663 2020-01-14 12:10:16-08:00  01/14/2020  12:10:16     12:10 PM  Tuesday   \n",
       "100662 2020-01-14 12:10:05-08:00  01/14/2020  12:10:05     12:10 PM  Tuesday   \n",
       "100661 2020-01-14 12:09:58-08:00  01/14/2020  12:09:58     12:09 PM  Tuesday   \n",
       "100660 2020-01-14 12:09:52-08:00  01/14/2020  12:09:52     12:09 PM  Tuesday   \n",
       "\n",
       "                             geometry  \n",
       "100664  POINT (-118.404953 33.947285)  \n",
       "100663  POINT (-118.405182 33.947453)  \n",
       "100662  POINT (-118.405479 33.947697)  \n",
       "100661  POINT (-118.405685 33.947823)  \n",
       "100660  POINT (-118.405907 33.947857)  "
      ]
     },
     "execution_count": 162,
     "metadata": {},
     "output_type": "execute_result"
    }
   ],
   "source": [
    "flights_geo.head()"
   ]
  },
  {
   "cell_type": "code",
   "execution_count": 168,
   "metadata": {},
   "outputs": [],
   "source": [
    "# flights_geo_line = flights_geo.groupby(['flightid', 'date', 'time'], as_index=False)['geometry']\\\n",
    "#     .apply(lambda x: LineString(x.tolist()) if x.size > 1 else x.tolist())\n"
   ]
  },
  {
   "cell_type": "code",
   "execution_count": 170,
   "metadata": {},
   "outputs": [
    {
     "data": {
      "text/plain": [
       "flightid  date        time    \n",
       "1f2e4d5f  01/14/2019  12:38:33     [POINT (-118.403481 33.94812)]\n",
       "                      12:40:41    [POINT (-118.403275 33.948231)]\n",
       "                      12:40:50     [POINT (-118.403061 33.94836)]\n",
       "                      12:41:00    [POINT (-118.402939 33.948624)]\n",
       "                      12:41:10    [POINT (-118.403038 33.948875)]\n",
       "                      12:41:17     [POINT (-118.403389 33.94894)]\n",
       "                      12:41:23     [POINT (-118.403679 33.94891)]\n",
       "                      12:41:32    [POINT (-118.403923 33.948883)]\n",
       "                      12:41:38     [POINT (-118.404297 33.94883)]\n",
       "                      12:41:44    [POINT (-118.404579 33.948795)]\n",
       "                      12:41:54     [POINT (-118.405037 33.94875)]\n",
       "                      12:42:07    [POINT (-118.405685 33.948681)]\n",
       "                      12:42:13     [POINT (-118.406036 33.94865)]\n",
       "                      12:42:21    [POINT (-118.406609 33.948593)]\n",
       "                      12:42:36    [POINT (-118.407509 33.948498)]\n",
       "                      12:42:42    [POINT (-118.407928 33.948463)]\n",
       "                      12:42:49     [POINT (-118.40831 33.948418)]\n",
       "                      12:43:00    [POINT (-118.409058 33.948349)]\n",
       "                      12:43:12      [POINT (-118.4095 33.948299)]\n",
       "                      12:43:36     [POINT (-118.409721 33.94828)]\n",
       "                      12:43:50    [POINT (-118.410004 33.948242)]\n",
       "                      12:44:02      [POINT (-118.410423 33.9482)]\n",
       "                      12:44:12    [POINT (-118.410965 33.948143)]\n",
       "                      12:44:18    [POINT (-118.411285 33.948109)]\n",
       "                      12:44:26    [POINT (-118.411652 33.948074)]\n",
       "                      12:44:36    [POINT (-118.412476 33.947998)]\n",
       "                      12:44:44    [POINT (-118.413177 33.947926)]\n",
       "                      12:44:52    [POINT (-118.413704 33.947845)]\n",
       "                      12:44:58     [POINT (-118.414192 33.94772)]\n",
       "                      12:45:05    [POINT (-118.414734 33.947613)]\n",
       "                      12:45:11    [POINT (-118.415314 33.947548)]\n",
       "                      12:45:23    [POINT (-118.416542 33.947433)]\n",
       "                      12:45:33      [POINT (-118.417885 33.9473)]\n",
       "                      12:45:44     [POINT (-118.41893 33.947193)]\n",
       "                      12:45:53    [POINT (-118.420212 33.947056)]\n",
       "                      12:46:00    [POINT (-118.421227 33.946953)]\n",
       "                      12:46:08    [POINT (-118.421959 33.946869)]\n",
       "                      12:46:14    [POINT (-118.422836 33.946781)]\n",
       "                      12:46:25    [POINT (-118.424591 33.946602)]\n",
       "                      12:46:37    [POINT (-118.426224 33.946438)]\n",
       "                      12:46:49    [POINT (-118.428146 33.946243)]\n",
       "                      12:46:55    [POINT (-118.428955 33.946159)]\n",
       "                      12:47:06    [POINT (-118.430687 33.946026)]\n",
       "                      12:47:15    [POINT (-118.431816 33.945923)]\n",
       "                      12:47:24    [POINT (-118.432785 33.945831)]\n",
       "                      12:47:30    [POINT (-118.433319 33.945786)]\n",
       "                      12:47:37    [POINT (-118.433746 33.945763)]\n",
       "                      12:47:44     [POINT (-118.434128 33.94582)]\n",
       "                      12:47:50     [POINT (-118.43438 33.946003)]\n",
       "                      12:47:58    [POINT (-118.434479 33.946438)]\n",
       "                                               ...               \n",
       "23856f50  01/14/2020  12:03:26    [POINT (-118.416359 33.937122)]\n",
       "                      12:03:33    [POINT (-118.416008 33.937164)]\n",
       "                      12:03:44    [POINT (-118.415482 33.937214)]\n",
       "                      12:03:51    [POINT (-118.415184 33.937237)]\n",
       "                      12:04:01      [POINT (-118.41465 33.93729)]\n",
       "                      12:04:13    [POINT (-118.414032 33.937351)]\n",
       "                      12:04:21    [POINT (-118.413643 33.937397)]\n",
       "                      12:04:37    [POINT (-118.412918 33.937477)]\n",
       "                      12:04:51    [POINT (-118.412537 33.937977)]\n",
       "                      12:04:57    [POINT (-118.412575 33.938271)]\n",
       "                      12:05:09    [POINT (-118.412674 33.938919)]\n",
       "                      12:05:15    [POINT (-118.412735 33.939316)]\n",
       "                      12:05:21    [POINT (-118.412804 33.939793)]\n",
       "                      12:05:27    [POINT (-118.412865 33.940224)]\n",
       "                      12:05:36    [POINT (-118.412949 33.940784)]\n",
       "                      12:05:42    [POINT (-118.413055 33.941242)]\n",
       "                      12:05:51    [POINT (-118.413094 33.941769)]\n",
       "                      12:05:57    [POINT (-118.413155 33.942204)]\n",
       "                      12:06:08    [POINT (-118.413261 33.942879)]\n",
       "                      12:06:16     [POINT (-118.413307 33.94326)]\n",
       "                      12:06:26    [POINT (-118.413406 33.943844)]\n",
       "                      12:06:36     [POINT (-118.41346 33.944321)]\n",
       "                      12:06:48    [POINT (-118.413559 33.944984)]\n",
       "                      12:06:55     [POINT (-118.41362 33.945332)]\n",
       "                      12:07:06    [POINT (-118.413704 33.945915)]\n",
       "                      12:07:12     [POINT (-118.413727 33.94614)]\n",
       "                      12:07:18    [POINT (-118.413757 33.946381)]\n",
       "                      12:07:24    [POINT (-118.413704 33.946625)]\n",
       "                      12:07:33    [POINT (-118.413406 33.946838)]\n",
       "                      12:07:40    [POINT (-118.413109 33.946896)]\n",
       "                      12:07:49    [POINT (-118.412643 33.946976)]\n",
       "                      12:08:01    [POINT (-118.411949 33.947147)]\n",
       "                      12:08:07    [POINT (-118.411606 33.947243)]\n",
       "                      12:08:13    [POINT (-118.411247 33.947296)]\n",
       "                      12:08:19    [POINT (-118.410889 33.947334)]\n",
       "                      12:08:28    [POINT (-118.410378 33.947388)]\n",
       "                      12:08:34    [POINT (-118.410057 33.947418)]\n",
       "                      12:08:40    [POINT (-118.409721 33.947456)]\n",
       "                      12:08:46    [POINT (-118.409355 33.947502)]\n",
       "                      12:08:52    [POINT (-118.409004 33.947536)]\n",
       "                      12:08:59    [POINT (-118.408669 33.947567)]\n",
       "                      12:09:11    [POINT (-118.407967 33.947639)]\n",
       "                      12:09:23    [POINT (-118.407379 33.947697)]\n",
       "                      12:09:35    [POINT (-118.406792 33.947765)]\n",
       "                      12:09:46    [POINT (-118.406212 33.947823)]\n",
       "                      12:09:52    [POINT (-118.405907 33.947857)]\n",
       "                      12:09:58    [POINT (-118.405685 33.947823)]\n",
       "                      12:10:05    [POINT (-118.405479 33.947697)]\n",
       "                      12:10:16    [POINT (-118.405182 33.947453)]\n",
       "                      12:10:28    [POINT (-118.404953 33.947285)]\n",
       "Length: 196274, dtype: object"
      ]
     },
     "execution_count": 170,
     "metadata": {},
     "output_type": "execute_result"
    }
   ],
   "source": [
    "# flights_geo_line"
   ]
  },
  {
   "cell_type": "code",
   "execution_count": 160,
   "metadata": {},
   "outputs": [
    {
     "data": {
      "text/plain": [
       "flightid  datetime                 \n",
       "1f2e4d5f  2019-01-14 12:38:33-08:00     [POINT (-118.403481 33.94812)]\n",
       "          2019-01-14 12:40:41-08:00    [POINT (-118.403275 33.948231)]\n",
       "          2019-01-14 12:40:50-08:00     [POINT (-118.403061 33.94836)]\n",
       "          2019-01-14 12:41:00-08:00    [POINT (-118.402939 33.948624)]\n",
       "          2019-01-14 12:41:10-08:00    [POINT (-118.403038 33.948875)]\n",
       "Name: geometry, dtype: object"
      ]
     },
     "execution_count": 160,
     "metadata": {},
     "output_type": "execute_result"
    }
   ],
   "source": [
    "flights_geo = gpd.GeoDataFrame(flights_geo, geometry='geometry')"
   ]
  },
  {
   "cell_type": "code",
   "execution_count": 112,
   "metadata": {},
   "outputs": [],
   "source": [
    "flights_geo.to_file('output/flights_geo.geojson', driver='GeoJSON')"
   ]
  },
  {
   "cell_type": "code",
   "execution_count": null,
   "metadata": {},
   "outputs": [],
   "source": []
  },
  {
   "cell_type": "code",
   "execution_count": null,
   "metadata": {},
   "outputs": [],
   "source": []
  },
  {
   "cell_type": "code",
   "execution_count": 72,
   "metadata": {},
   "outputs": [],
   "source": []
  },
  {
   "cell_type": "code",
   "execution_count": null,
   "metadata": {},
   "outputs": [],
   "source": [
    "# gas flight\n",
    "flight23856f50 = flights_geo[flights_geo['flightid'] == '23856f50']\n",
    "# https://www.flightradar24.com/data/flights/dl89#23856f50"
   ]
  },
  {
   "cell_type": "markdown",
   "metadata": {},
   "source": [
    "### investigate anomalous routes"
   ]
  },
  {
   "cell_type": "code",
   "execution_count": null,
   "metadata": {},
   "outputs": [],
   "source": [
    "flight1f9f3f90 = flights_geo[flights_geo['flightid'] == '1f9f3f90']\n",
    "# https://www.flightradar24.com/data/flights/dl89#1f9f3f90\n",
    "\n",
    "flight1f9e5864 = flights_geo[flights_geo['flightid'] == '1f9e5864']\n",
    "# https://www.flightradar24.com/data/flights/dl89#1f9e5864"
   ]
  },
  {
   "cell_type": "code",
   "execution_count": null,
   "metadata": {},
   "outputs": [],
   "source": [
    "flight1f9e5864.plot()"
   ]
  },
  {
   "cell_type": "code",
   "execution_count": null,
   "metadata": {},
   "outputs": [],
   "source": [
    "western = flights_geo[flights_geo['longitude'] < -116]"
   ]
  },
  {
   "cell_type": "code",
   "execution_count": null,
   "metadata": {},
   "outputs": [],
   "source": [
    "western.plot()"
   ]
  },
  {
   "cell_type": "code",
   "execution_count": null,
   "metadata": {},
   "outputs": [],
   "source": [
    "drop these flights: \n",
    "    \n",
    "    1f9f3f90 detroit to shanghai\n",
    "    "
   ]
  }
 ],
 "metadata": {
  "kernelspec": {
   "display_name": "Python 3",
   "language": "python",
   "name": "python3"
  },
  "language_info": {
   "codemirror_mode": {
    "name": "ipython",
    "version": 3
   },
   "file_extension": ".py",
   "mimetype": "text/x-python",
   "name": "python",
   "nbconvert_exporter": "python",
   "pygments_lexer": "ipython3",
   "version": "3.7.3"
  }
 },
 "nbformat": 4,
 "nbformat_minor": 2
}
