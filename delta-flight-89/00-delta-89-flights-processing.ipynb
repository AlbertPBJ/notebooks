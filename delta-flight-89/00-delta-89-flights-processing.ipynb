{
 "cells": [
  {
   "cell_type": "code",
   "execution_count": 1,
   "metadata": {},
   "outputs": [],
   "source": [
    "import pandas as pd\n",
    "import geopandas as gpd\n",
    "import matplotlib\n",
    "import matplotlib.pyplot as plt\n",
    "import geojson\n",
    "import json\n",
    "import jenkspy\n",
    "import numpy as np\n",
    "import glob\n",
    "import io\n",
    "import os\n",
    "from altair import datum\n",
    "import altair as alt\n",
    "alt.renderers.enable('notebook')\n",
    "import altair_latimes as lat\n",
    "alt.themes.register('latimes', lat.theme)\n",
    "alt.themes.enable('latimes')\n",
    "pd.options.display.max_columns = 50\n",
    "pd.options.display.max_rows = 100\n",
    "pd.options.display.float_format = '{:.2f}'.format"
   ]
  },
  {
   "cell_type": "code",
   "execution_count": 2,
   "metadata": {},
   "outputs": [],
   "source": [
    "a_flight = pd.read_csv('input/flights/DL89_228f611c.csv')"
   ]
  },
  {
   "cell_type": "code",
   "execution_count": 3,
   "metadata": {},
   "outputs": [
    {
     "data": {
      "text/html": [
       "<div>\n",
       "<style scoped>\n",
       "    .dataframe tbody tr th:only-of-type {\n",
       "        vertical-align: middle;\n",
       "    }\n",
       "\n",
       "    .dataframe tbody tr th {\n",
       "        vertical-align: top;\n",
       "    }\n",
       "\n",
       "    .dataframe thead th {\n",
       "        text-align: right;\n",
       "    }\n",
       "</style>\n",
       "<table border=\"1\" class=\"dataframe\">\n",
       "  <thead>\n",
       "    <tr style=\"text-align: right;\">\n",
       "      <th></th>\n",
       "      <th>Timestamp</th>\n",
       "      <th>UTC</th>\n",
       "      <th>Callsign</th>\n",
       "      <th>Position</th>\n",
       "      <th>Altitude</th>\n",
       "      <th>Speed</th>\n",
       "      <th>Direction</th>\n",
       "    </tr>\n",
       "  </thead>\n",
       "  <tbody>\n",
       "    <tr>\n",
       "      <th>0</th>\n",
       "      <td>1571684146</td>\n",
       "      <td>2019-10-21T18:55:46Z</td>\n",
       "      <td>DAL89</td>\n",
       "      <td>33.945415,-118.410347</td>\n",
       "      <td>0</td>\n",
       "      <td>0</td>\n",
       "      <td>264</td>\n",
       "    </tr>\n",
       "    <tr>\n",
       "      <th>1</th>\n",
       "      <td>1571688008</td>\n",
       "      <td>2019-10-21T20:00:08Z</td>\n",
       "      <td>DAL89</td>\n",
       "      <td>33.945431,-118.410126</td>\n",
       "      <td>0</td>\n",
       "      <td>9</td>\n",
       "      <td>264</td>\n",
       "    </tr>\n",
       "    <tr>\n",
       "      <th>2</th>\n",
       "      <td>1571688026</td>\n",
       "      <td>2019-10-21T20:00:26Z</td>\n",
       "      <td>DAL89</td>\n",
       "      <td>33.945442,-118.409904</td>\n",
       "      <td>0</td>\n",
       "      <td>9</td>\n",
       "      <td>258</td>\n",
       "    </tr>\n",
       "    <tr>\n",
       "      <th>3</th>\n",
       "      <td>1571688044</td>\n",
       "      <td>2019-10-21T20:00:44Z</td>\n",
       "      <td>DAL89</td>\n",
       "      <td>33.945438,-118.40966</td>\n",
       "      <td>0</td>\n",
       "      <td>9</td>\n",
       "      <td>250</td>\n",
       "    </tr>\n",
       "    <tr>\n",
       "      <th>4</th>\n",
       "      <td>1571688065</td>\n",
       "      <td>2019-10-21T20:01:05Z</td>\n",
       "      <td>DAL89</td>\n",
       "      <td>33.945442,-118.409454</td>\n",
       "      <td>0</td>\n",
       "      <td>2</td>\n",
       "      <td>236</td>\n",
       "    </tr>\n",
       "  </tbody>\n",
       "</table>\n",
       "</div>"
      ],
      "text/plain": [
       "    Timestamp                   UTC Callsign               Position  Altitude  \\\n",
       "0  1571684146  2019-10-21T18:55:46Z    DAL89  33.945415,-118.410347         0   \n",
       "1  1571688008  2019-10-21T20:00:08Z    DAL89  33.945431,-118.410126         0   \n",
       "2  1571688026  2019-10-21T20:00:26Z    DAL89  33.945442,-118.409904         0   \n",
       "3  1571688044  2019-10-21T20:00:44Z    DAL89   33.945438,-118.40966         0   \n",
       "4  1571688065  2019-10-21T20:01:05Z    DAL89  33.945442,-118.409454         0   \n",
       "\n",
       "   Speed  Direction  \n",
       "0      0        264  \n",
       "1      9        264  \n",
       "2      9        258  \n",
       "3      9        250  \n",
       "4      2        236  "
      ]
     },
     "execution_count": 3,
     "metadata": {},
     "output_type": "execute_result"
    }
   ],
   "source": [
    "a_flight.head()"
   ]
  },
  {
   "cell_type": "code",
   "execution_count": 4,
   "metadata": {},
   "outputs": [
    {
     "data": {
      "text/plain": [
       "Timestamp     int64\n",
       "UTC          object\n",
       "Callsign     object\n",
       "Position     object\n",
       "Altitude      int64\n",
       "Speed         int64\n",
       "Direction     int64\n",
       "dtype: object"
      ]
     },
     "execution_count": 4,
     "metadata": {},
     "output_type": "execute_result"
    }
   ],
   "source": [
    "a_flight.dtypes"
   ]
  },
  {
   "cell_type": "code",
   "execution_count": 5,
   "metadata": {},
   "outputs": [],
   "source": [
    "path = 'input/flights/'"
   ]
  },
  {
   "cell_type": "code",
   "execution_count": 6,
   "metadata": {},
   "outputs": [],
   "source": [
    "files = glob.glob(os.path.join(path, \"*.csv\"))"
   ]
  },
  {
   "cell_type": "code",
   "execution_count": 7,
   "metadata": {},
   "outputs": [],
   "source": [
    "file_df = (pd.read_csv(f, encoding = \"ISO-8859-1\", low_memory=False)\\\n",
    "           .assign(flightid=os.path.basename(f)) for f in files)"
   ]
  },
  {
   "cell_type": "code",
   "execution_count": 8,
   "metadata": {},
   "outputs": [],
   "source": [
    "concatenated_df = pd.concat(file_df, ignore_index=True)"
   ]
  },
  {
   "cell_type": "code",
   "execution_count": 9,
   "metadata": {},
   "outputs": [],
   "source": [
    "concatenated_df['flightid'] = concatenated_df['flightid'].str.replace('DL89_','').str.replace('.csv','')"
   ]
  },
  {
   "cell_type": "code",
   "execution_count": 10,
   "metadata": {},
   "outputs": [
    {
     "data": {
      "text/plain": [
       "196276"
      ]
     },
     "execution_count": 10,
     "metadata": {},
     "output_type": "execute_result"
    }
   ],
   "source": [
    "len(concatenated_df)"
   ]
  },
  {
   "cell_type": "code",
   "execution_count": 11,
   "metadata": {},
   "outputs": [],
   "source": [
    "concatenated_df.columns = concatenated_df.columns.str.strip().str.lower().str.replace(' ', '_')\\\n",
    "                    .str.replace('(', '').str.replace(')', '').str.replace('-','_')"
   ]
  },
  {
   "cell_type": "code",
   "execution_count": 12,
   "metadata": {},
   "outputs": [],
   "source": [
    "flights = pd.DataFrame(concatenated_df.sort_values(by='timestamp', ascending=False))"
   ]
  },
  {
   "cell_type": "code",
   "execution_count": 13,
   "metadata": {},
   "outputs": [
    {
     "data": {
      "text/html": [
       "<div>\n",
       "<style scoped>\n",
       "    .dataframe tbody tr th:only-of-type {\n",
       "        vertical-align: middle;\n",
       "    }\n",
       "\n",
       "    .dataframe tbody tr th {\n",
       "        vertical-align: top;\n",
       "    }\n",
       "\n",
       "    .dataframe thead th {\n",
       "        text-align: right;\n",
       "    }\n",
       "</style>\n",
       "<table border=\"1\" class=\"dataframe\">\n",
       "  <thead>\n",
       "    <tr style=\"text-align: right;\">\n",
       "      <th></th>\n",
       "      <th>timestamp</th>\n",
       "      <th>utc</th>\n",
       "      <th>callsign</th>\n",
       "      <th>position</th>\n",
       "      <th>altitude</th>\n",
       "      <th>speed</th>\n",
       "      <th>direction</th>\n",
       "      <th>flightid</th>\n",
       "    </tr>\n",
       "  </thead>\n",
       "  <tbody>\n",
       "    <tr>\n",
       "      <th>100664</th>\n",
       "      <td>1579032628</td>\n",
       "      <td>2020-01-14T20:10:28Z</td>\n",
       "      <td>DAL89</td>\n",
       "      <td>33.947285,-118.404953</td>\n",
       "      <td>0</td>\n",
       "      <td>12</td>\n",
       "      <td>132</td>\n",
       "      <td>23856f50</td>\n",
       "    </tr>\n",
       "    <tr>\n",
       "      <th>100663</th>\n",
       "      <td>1579032616</td>\n",
       "      <td>2020-01-14T20:10:16Z</td>\n",
       "      <td>DAL89</td>\n",
       "      <td>33.947453,-118.405182</td>\n",
       "      <td>0</td>\n",
       "      <td>15</td>\n",
       "      <td>132</td>\n",
       "      <td>23856f50</td>\n",
       "    </tr>\n",
       "    <tr>\n",
       "      <th>100662</th>\n",
       "      <td>1579032605</td>\n",
       "      <td>2020-01-14T20:10:05Z</td>\n",
       "      <td>DAL89</td>\n",
       "      <td>33.947697,-118.405479</td>\n",
       "      <td>0</td>\n",
       "      <td>19</td>\n",
       "      <td>118</td>\n",
       "      <td>23856f50</td>\n",
       "    </tr>\n",
       "    <tr>\n",
       "      <th>100661</th>\n",
       "      <td>1579032598</td>\n",
       "      <td>2020-01-14T20:09:58Z</td>\n",
       "      <td>DAL89</td>\n",
       "      <td>33.947823,-118.405685</td>\n",
       "      <td>0</td>\n",
       "      <td>20</td>\n",
       "      <td>101</td>\n",
       "      <td>23856f50</td>\n",
       "    </tr>\n",
       "    <tr>\n",
       "      <th>100660</th>\n",
       "      <td>1579032592</td>\n",
       "      <td>2020-01-14T20:09:52Z</td>\n",
       "      <td>DAL89</td>\n",
       "      <td>33.947857,-118.405907</td>\n",
       "      <td>0</td>\n",
       "      <td>21</td>\n",
       "      <td>84</td>\n",
       "      <td>23856f50</td>\n",
       "    </tr>\n",
       "  </tbody>\n",
       "</table>\n",
       "</div>"
      ],
      "text/plain": [
       "         timestamp                   utc callsign               position  \\\n",
       "100664  1579032628  2020-01-14T20:10:28Z    DAL89  33.947285,-118.404953   \n",
       "100663  1579032616  2020-01-14T20:10:16Z    DAL89  33.947453,-118.405182   \n",
       "100662  1579032605  2020-01-14T20:10:05Z    DAL89  33.947697,-118.405479   \n",
       "100661  1579032598  2020-01-14T20:09:58Z    DAL89  33.947823,-118.405685   \n",
       "100660  1579032592  2020-01-14T20:09:52Z    DAL89  33.947857,-118.405907   \n",
       "\n",
       "       altitude speed direction  flightid  \n",
       "100664        0    12       132  23856f50  \n",
       "100663        0    15       132  23856f50  \n",
       "100662        0    19       118  23856f50  \n",
       "100661        0    20       101  23856f50  \n",
       "100660        0    21        84  23856f50  "
      ]
     },
     "execution_count": 13,
     "metadata": {},
     "output_type": "execute_result"
    }
   ],
   "source": [
    "flights.head()"
   ]
  },
  {
   "cell_type": "code",
   "execution_count": 14,
   "metadata": {},
   "outputs": [
    {
     "data": {
      "text/html": [
       "<div>\n",
       "<style scoped>\n",
       "    .dataframe tbody tr th:only-of-type {\n",
       "        vertical-align: middle;\n",
       "    }\n",
       "\n",
       "    .dataframe tbody tr th {\n",
       "        vertical-align: top;\n",
       "    }\n",
       "\n",
       "    .dataframe thead th {\n",
       "        text-align: right;\n",
       "    }\n",
       "</style>\n",
       "<table border=\"1\" class=\"dataframe\">\n",
       "  <thead>\n",
       "    <tr style=\"text-align: right;\">\n",
       "      <th></th>\n",
       "      <th>timestamp</th>\n",
       "      <th>utc</th>\n",
       "      <th>callsign</th>\n",
       "      <th>position</th>\n",
       "      <th>altitude</th>\n",
       "      <th>speed</th>\n",
       "      <th>direction</th>\n",
       "      <th>flightid</th>\n",
       "    </tr>\n",
       "  </thead>\n",
       "  <tbody>\n",
       "    <tr>\n",
       "      <th>12752</th>\n",
       "      <td>1547498470</td>\n",
       "      <td>2019-01-14T20:41:10Z</td>\n",
       "      <td>DAL89</td>\n",
       "      <td>33.948875,-118.403038</td>\n",
       "      <td>0</td>\n",
       "      <td>20</td>\n",
       "      <td>2</td>\n",
       "      <td>1f2e4d5f</td>\n",
       "    </tr>\n",
       "    <tr>\n",
       "      <th>12751</th>\n",
       "      <td>1547498460</td>\n",
       "      <td>2019-01-14T20:41:00Z</td>\n",
       "      <td>DAL89</td>\n",
       "      <td>33.948624,-118.402939</td>\n",
       "      <td>0</td>\n",
       "      <td>17</td>\n",
       "      <td>36</td>\n",
       "      <td>1f2e4d5f</td>\n",
       "    </tr>\n",
       "    <tr>\n",
       "      <th>12750</th>\n",
       "      <td>1547498450</td>\n",
       "      <td>2019-01-14T20:40:50Z</td>\n",
       "      <td>DAL89</td>\n",
       "      <td>33.94836,-118.403061</td>\n",
       "      <td>0</td>\n",
       "      <td>17</td>\n",
       "      <td>64</td>\n",
       "      <td>1f2e4d5f</td>\n",
       "    </tr>\n",
       "    <tr>\n",
       "      <th>12749</th>\n",
       "      <td>1547498441</td>\n",
       "      <td>2019-01-14T20:40:41Z</td>\n",
       "      <td>DAL89</td>\n",
       "      <td>33.948231,-118.403275</td>\n",
       "      <td>0</td>\n",
       "      <td>13</td>\n",
       "      <td>78</td>\n",
       "      <td>1f2e4d5f</td>\n",
       "    </tr>\n",
       "    <tr>\n",
       "      <th>12748</th>\n",
       "      <td>1547498313</td>\n",
       "      <td>2019-01-14T20:38:33Z</td>\n",
       "      <td>DAL89</td>\n",
       "      <td>33.94812,-118.403481</td>\n",
       "      <td>0</td>\n",
       "      <td>0</td>\n",
       "      <td>87</td>\n",
       "      <td>1f2e4d5f</td>\n",
       "    </tr>\n",
       "  </tbody>\n",
       "</table>\n",
       "</div>"
      ],
      "text/plain": [
       "        timestamp                   utc callsign               position  \\\n",
       "12752  1547498470  2019-01-14T20:41:10Z    DAL89  33.948875,-118.403038   \n",
       "12751  1547498460  2019-01-14T20:41:00Z    DAL89  33.948624,-118.402939   \n",
       "12750  1547498450  2019-01-14T20:40:50Z    DAL89   33.94836,-118.403061   \n",
       "12749  1547498441  2019-01-14T20:40:41Z    DAL89  33.948231,-118.403275   \n",
       "12748  1547498313  2019-01-14T20:38:33Z    DAL89   33.94812,-118.403481   \n",
       "\n",
       "      altitude speed direction  flightid  \n",
       "12752        0    20         2  1f2e4d5f  \n",
       "12751        0    17        36  1f2e4d5f  \n",
       "12750        0    17        64  1f2e4d5f  \n",
       "12749        0    13        78  1f2e4d5f  \n",
       "12748        0     0        87  1f2e4d5f  "
      ]
     },
     "execution_count": 14,
     "metadata": {},
     "output_type": "execute_result"
    }
   ],
   "source": [
    "flights.tail()"
   ]
  },
  {
   "cell_type": "code",
   "execution_count": 15,
   "metadata": {},
   "outputs": [],
   "source": [
    "# !mkdir output"
   ]
  },
  {
   "cell_type": "code",
   "execution_count": 16,
   "metadata": {},
   "outputs": [],
   "source": [
    "flights.to_csv('output/flights.csv')"
   ]
  }
 ],
 "metadata": {
  "kernelspec": {
   "display_name": "Python 3",
   "language": "python",
   "name": "python3"
  },
  "language_info": {
   "codemirror_mode": {
    "name": "ipython",
    "version": 3
   },
   "file_extension": ".py",
   "mimetype": "text/x-python",
   "name": "python",
   "nbconvert_exporter": "python",
   "pygments_lexer": "ipython3",
   "version": "3.7.3"
  }
 },
 "nbformat": 4,
 "nbformat_minor": 2
}
