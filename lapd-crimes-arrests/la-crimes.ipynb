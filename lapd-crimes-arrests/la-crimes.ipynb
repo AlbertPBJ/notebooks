{
 "cells": [
  {
   "cell_type": "markdown",
   "metadata": {},
   "source": [
    "# LAPD crimes database: 2010-present"
   ]
  },
  {
   "cell_type": "markdown",
   "metadata": {},
   "source": [
    "### Import data tools"
   ]
  },
  {
   "cell_type": "code",
   "execution_count": 1,
   "metadata": {},
   "outputs": [],
   "source": [
    "import pandas as pd\n",
    "import geopandas as gpd\n",
    "import matplotlib\n",
    "import matplotlib.pyplot as plt\n",
    "import geojson\n",
    "import json\n",
    "import jenkspy\n",
    "import numpy as np\n",
    "from earthpy import clip as cl\n",
    "from altair import datum\n",
    "import altair as alt\n",
    "alt.renderers.enable('notebook')\n",
    "import altair_latimes as lat\n",
    "alt.themes.register('latimes', lat.theme)\n",
    "alt.themes.enable('latimes')\n",
    "pd.options.display.max_columns = 50\n",
    "pd.options.display.max_rows = 1000"
   ]
  },
  {
   "cell_type": "markdown",
   "metadata": {},
   "source": [
    "### Read crimes CSV downloaded from LA City data portal"
   ]
  },
  {
   "cell_type": "code",
   "execution_count": 2,
   "metadata": {},
   "outputs": [],
   "source": [
    "# https://data.lacity.org/A-Safe-City/Crime-Data-from-2010-to-Present/63jg-8b9z\n",
    "src = pd.read_csv('/Users/mhustiles/data/data/LA/Crime_Data_from_2010_to_Present.csv')"
   ]
  },
  {
   "cell_type": "code",
   "execution_count": 3,
   "metadata": {},
   "outputs": [],
   "source": [
    "crimes = src"
   ]
  },
  {
   "cell_type": "code",
   "execution_count": 4,
   "metadata": {},
   "outputs": [],
   "source": [
    "crimes.columns = crimes.columns.str.strip().str.lower()\\\n",
    ".str.replace(' ', '_').str.replace('(', '').str.replace(')', '')"
   ]
  },
  {
   "cell_type": "markdown",
   "metadata": {},
   "source": [
    "### These data are super messy..."
   ]
  },
  {
   "cell_type": "code",
   "execution_count": 5,
   "metadata": {},
   "outputs": [],
   "source": [
    "crimes.rename(columns = { \n",
    "'dr_no':'record_id',\n",
    "'date_rptd':'date_reported',\n",
    "'date_occ':'date_occurred',\n",
    "'time_occ':'time_occurred',\n",
    "'area':'division',\n",
    "'area_name':'division_name',\n",
    "'rpt_dist_no':'reporting_district',\n",
    "'part_1-2':'part_type',\n",
    "'crm_cd':'crime_code',\n",
    "'crm_cd_desc':'crime_code_description',\n",
    "'mocodes':'modus_operandi_code',\n",
    "'vict_age':'victim_age',\n",
    "'vict_sex':'victim_sex',\n",
    "'vict_descent':'victim_descent',\n",
    "'premis_cd':'premises_code',\n",
    "'premis_desc':'premises_description',\n",
    "'weapon_used_cd':'weapon_code',\n",
    "'weapon_desc':'weapon_description',\n",
    "'status':'status_code',\n",
    "'status_desc':'status_code_description',\n",
    "'crm_cd_1':'crm_cd_1',\n",
    "'crm_cd_2':'crm_cd_2',\n",
    "'crm_cd_3':'crm_cd_3',\n",
    "'crm_cd_4':'crm_cd_4',\n",
    "'location':'address',\n",
    "'cross_street':'cross_street',\n",
    "'lat':'latitude',\n",
    "'lon':'longitide',\n",
    " }, inplace = True)"
   ]
  },
  {
   "cell_type": "markdown",
   "metadata": {},
   "source": [
    "### ... contunued"
   ]
  },
  {
   "cell_type": "code",
   "execution_count": 6,
   "metadata": {},
   "outputs": [],
   "source": [
    "crimes['date_reported'] = crimes['date_reported'].str.replace(' 12:00:00 AM','')\n",
    "crimes['date_occurred'] = crimes['date_occurred'].str.replace(' 12:00:00 AM','')\n",
    "crimes['date_occurred'] = pd.to_datetime(crimes['date_occurred'], format='%m/%d/%Y')\n",
    "crimes['year'] = crimes['date_occurred'].dt.year\n",
    "crimes['quarter'] = crimes['date_occurred'].dt.quarter\n",
    "crimes['day'] = crimes['date_occurred'].dt.day\n",
    "crimes['month'] = crimes['date_occurred'].dt.month\n",
    "crimes['weekday'] = crimes['date_occurred'].dt.weekday_name\n",
    "crimes['monthname'] = crimes['date_occurred'].dt.month_name()"
   ]
  },
  {
   "cell_type": "code",
   "execution_count": 7,
   "metadata": {},
   "outputs": [],
   "source": [
    "crimes[[ 'record_id', \n",
    "    'time_occurred', \n",
    "    'division', \n",
    "    'reporting_district', \n",
    "    'part_type',\n",
    "    'crm_cd_1',\n",
    "    'crm_cd_2',\n",
    "    'crm_cd_3',\n",
    "    'crm_cd_4',\n",
    "    'crime_code', \n",
    "    'premises_code', \n",
    "    'weapon_code',\n",
    "    'year',\n",
    "    'quarter',\n",
    "    'day',\n",
    "    'month', ]] = crimes[[\n",
    "    'record_id', \n",
    "    'time_occurred', \n",
    "    'division', \n",
    "    'reporting_district', \n",
    "    'part_type',\n",
    "    'crm_cd_1',\n",
    "    'crm_cd_2',\n",
    "    'crm_cd_3',\n",
    "    'crm_cd_4',\n",
    "    'crime_code', \n",
    "    'premises_code', \n",
    "    'weapon_code',\n",
    "    'year',\n",
    "    'quarter',\n",
    "    'day',\n",
    "    'month',]].astype(str)"
   ]
  },
  {
   "cell_type": "code",
   "execution_count": 8,
   "metadata": {},
   "outputs": [],
   "source": [
    "descent_recode = { 'A':\"Asian\",'B':\"Black\",'C':\"Asian\",'D':\"Asian\",'F':\"Asian\",'G':\"Asian\",\\\n",
    "                 'H':\"Hispanic\",'I':\"American Indian/Alaskan Native\",'J':\"Asian\",\\\n",
    "                 'K':\"Asian\",'L':\"Asian\",'O':\"Other\",'P':\"Asian\",'S':\"Asian\",\\\n",
    "                 'U':\"Asian\",'V':\"Asian\",'W':\"White\",'X':\"Other\",'Z':\"Asian\" }"
   ]
  },
  {
   "cell_type": "code",
   "execution_count": 9,
   "metadata": {},
   "outputs": [],
   "source": [
    "crimes['descent_description'] = crimes['victim_descent'].map(descent_recode)"
   ]
  },
  {
   "cell_type": "code",
   "execution_count": 10,
   "metadata": {},
   "outputs": [],
   "source": [
    "crimes['premises_code'] = crimes['premises_code'].str.replace('.0','', regex=False)\n",
    "crimes['premises_code'] = crimes['premises_code'].str.replace('.0','', regex=False)\n",
    "crimes['crm_cd_1'] = crimes['crm_cd_1'].str.replace('.0','', regex=False)\n",
    "crimes['crm_cd_2'] = crimes['crm_cd_2'].str.replace('.0','', regex=False)"
   ]
  },
  {
   "cell_type": "code",
   "execution_count": 11,
   "metadata": {},
   "outputs": [],
   "source": [
    "crimes['premises_description'] = crimes['premises_description'].str.capitalize()\n",
    "crimes['crime_code_description'] = crimes['crime_code_description'].str.capitalize()\n",
    "crimes['weapon_description'] = crimes['weapon_description'].str.capitalize()"
   ]
  },
  {
   "cell_type": "code",
   "execution_count": 12,
   "metadata": {},
   "outputs": [],
   "source": [
    "monthnames = ['January','February','March','April','May','June','July','August','September','October','November','December']"
   ]
  },
  {
   "cell_type": "code",
   "execution_count": 13,
   "metadata": {},
   "outputs": [],
   "source": [
    "crimes['time_occurred'] = crimes['time_occurred'].str.replace('.0','', regex=False)\n",
    "crimes['time_occurred'] = crimes['time_occurred'].str.zfill(4)\n",
    "crimes['hour'] = crimes['time_occurred'].str[:2]\n",
    "crimes['minute'] = crimes['time_occurred'].str[2:]\n",
    "crimes = crimes[crimes['hour'] != '0n']\n",
    "crimes = crimes[crimes['hour'] != '24']"
   ]
  },
  {
   "cell_type": "code",
   "execution_count": 14,
   "metadata": {},
   "outputs": [],
   "source": [
    "homicides = crimes[crimes['crime_code_description'].str.contains('CRIMINAL HOMICIDE', na=False)]"
   ]
  },
  {
   "cell_type": "markdown",
   "metadata": {},
   "source": [
    "---"
   ]
  },
  {
   "cell_type": "markdown",
   "metadata": {},
   "source": [
    "## Now that it's clean, what can we learn from this data?"
   ]
  },
  {
   "cell_type": "markdown",
   "metadata": {},
   "source": [
    "### Share of crimes by UCR type"
   ]
  },
  {
   "cell_type": "code",
   "execution_count": 15,
   "metadata": {
    "scrolled": true
   },
   "outputs": [
    {
     "data": {
      "text/plain": [
       "1    55.4\n",
       "2    44.6\n",
       "Name: part_type, dtype: float64"
      ]
     },
     "execution_count": 15,
     "metadata": {},
     "output_type": "execute_result"
    }
   ],
   "source": [
    "crimes['part_type'].value_counts('normalize').round(3)*100"
   ]
  },
  {
   "cell_type": "markdown",
   "metadata": {},
   "source": [
    "### Cases involving suspects or victimes defined by LAPD as 'homeless'"
   ]
  },
  {
   "cell_type": "code",
   "execution_count": 16,
   "metadata": {},
   "outputs": [],
   "source": [
    "mocrimes = crimes.dropna(subset=['modus_operandi_code'])"
   ]
  },
  {
   "cell_type": "code",
   "execution_count": 17,
   "metadata": {},
   "outputs": [
    {
     "data": {
      "text/html": [
       "<div>\n",
       "<style scoped>\n",
       "    .dataframe tbody tr th:only-of-type {\n",
       "        vertical-align: middle;\n",
       "    }\n",
       "\n",
       "    .dataframe tbody tr th {\n",
       "        vertical-align: top;\n",
       "    }\n",
       "\n",
       "    .dataframe thead th {\n",
       "        text-align: right;\n",
       "    }\n",
       "</style>\n",
       "<table border=\"1\" class=\"dataframe\">\n",
       "  <thead>\n",
       "    <tr style=\"text-align: right;\">\n",
       "      <th></th>\n",
       "      <th>mo_code</th>\n",
       "      <th>mo_code_description</th>\n",
       "    </tr>\n",
       "  </thead>\n",
       "  <tbody>\n",
       "    <tr>\n",
       "      <th>0</th>\n",
       "      <td>0100</td>\n",
       "      <td>Suspect Impersonate</td>\n",
       "    </tr>\n",
       "    <tr>\n",
       "      <th>1</th>\n",
       "      <td>0101</td>\n",
       "      <td>Aid victim</td>\n",
       "    </tr>\n",
       "    <tr>\n",
       "      <th>2</th>\n",
       "      <td>0102</td>\n",
       "      <td>Blind</td>\n",
       "    </tr>\n",
       "    <tr>\n",
       "      <th>3</th>\n",
       "      <td>0103</td>\n",
       "      <td>Crippled</td>\n",
       "    </tr>\n",
       "    <tr>\n",
       "      <th>4</th>\n",
       "      <td>0104</td>\n",
       "      <td>Customer</td>\n",
       "    </tr>\n",
       "  </tbody>\n",
       "</table>\n",
       "</div>"
      ],
      "text/plain": [
       "  mo_code  mo_code_description\n",
       "0    0100  Suspect Impersonate\n",
       "1    0101           Aid victim\n",
       "2    0102                Blind\n",
       "3    0103             Crippled\n",
       "4    0104             Customer"
      ]
     },
     "execution_count": 17,
     "metadata": {},
     "output_type": "execute_result"
    }
   ],
   "source": [
    "mocodes = pd.read_csv('mo_codes.csv')\n",
    "mocodes.head()"
   ]
  },
  {
   "cell_type": "markdown",
   "metadata": {},
   "source": [
    "### Isolating just cases involving homeless people"
   ]
  },
  {
   "cell_type": "code",
   "execution_count": 18,
   "metadata": {},
   "outputs": [
    {
     "data": {
      "text/html": [
       "<div>\n",
       "<style scoped>\n",
       "    .dataframe tbody tr th:only-of-type {\n",
       "        vertical-align: middle;\n",
       "    }\n",
       "\n",
       "    .dataframe tbody tr th {\n",
       "        vertical-align: top;\n",
       "    }\n",
       "\n",
       "    .dataframe thead th {\n",
       "        text-align: right;\n",
       "    }\n",
       "</style>\n",
       "<table border=\"1\" class=\"dataframe\">\n",
       "  <thead>\n",
       "    <tr style=\"text-align: right;\">\n",
       "      <th></th>\n",
       "      <th>mo_code</th>\n",
       "      <th>mo_code_description</th>\n",
       "    </tr>\n",
       "  </thead>\n",
       "  <tbody>\n",
       "    <tr>\n",
       "      <th>361</th>\n",
       "      <td>1218</td>\n",
       "      <td>Victim was Homeless/Transient</td>\n",
       "    </tr>\n",
       "    <tr>\n",
       "      <th>521</th>\n",
       "      <td>2004</td>\n",
       "      <td>Suspect is homeless/transient</td>\n",
       "    </tr>\n",
       "  </tbody>\n",
       "</table>\n",
       "</div>"
      ],
      "text/plain": [
       "    mo_code            mo_code_description\n",
       "361    1218  Victim was Homeless/Transient\n",
       "521    2004  Suspect is homeless/transient"
      ]
     },
     "execution_count": 18,
     "metadata": {},
     "output_type": "execute_result"
    }
   ],
   "source": [
    "# MO Code 1218 is to be used when a victim is homeless\n",
    "# MO Code 2004 is to be used when a suspect is homeless\n",
    "mocodes_homeless = mocodes[mocodes['mo_code_description'].str.lower().str.contains('homeless')]\n",
    "mocodes_homeless.head()"
   ]
  },
  {
   "cell_type": "markdown",
   "metadata": {},
   "source": [
    "### Limit homeless crime data to recent years to account for coding issues"
   ]
  },
  {
   "cell_type": "code",
   "execution_count": 19,
   "metadata": {},
   "outputs": [],
   "source": [
    "homeless_dates = ['2015','2016', '2017', '2018', '2019']"
   ]
  },
  {
   "cell_type": "markdown",
   "metadata": {},
   "source": [
    "### Various filters"
   ]
  },
  {
   "cell_type": "code",
   "execution_count": 20,
   "metadata": {},
   "outputs": [],
   "source": [
    "# My street\n",
    "rubens = crimes[crimes['address'].str.contains('RUBENS', na=False)]\n",
    "# Crimes tagged by specific modus operandi code\n",
    "bunco = crimes[crimes['modus_operandi_code'].str.contains('0800', na=False) ]\n",
    "\n",
    "#Homeless people codes\n",
    "homeless_victims = crimes[(crimes['modus_operandi_code'].str.contains('1218', na=False)) & (crimes['year'].isin(homeless_dates))]\n",
    "homeless_suspects = crimes[(crimes['modus_operandi_code'].str.contains('2004', na=False)) & (crimes['year'].isin(homeless_dates))]\n",
    "homeless_homicides = homeless_victims[(homeless_victims['crime_code_description']\\\n",
    "                    .str.contains('Criminal homicide', na=False))\\\n",
    "                    & (homeless_victims['year'].isin(homeless_dates))]"
   ]
  },
  {
   "cell_type": "markdown",
   "metadata": {},
   "source": [
    "### How many cases do we have involving homeless people? "
   ]
  },
  {
   "cell_type": "code",
   "execution_count": 21,
   "metadata": {},
   "outputs": [
    {
     "data": {
      "text/plain": [
       "16269"
      ]
     },
     "execution_count": 21,
     "metadata": {},
     "output_type": "execute_result"
    }
   ],
   "source": [
    "len(homeless_victims)"
   ]
  },
  {
   "cell_type": "code",
   "execution_count": 22,
   "metadata": {},
   "outputs": [
    {
     "data": {
      "text/plain": [
       "34062"
      ]
     },
     "execution_count": 22,
     "metadata": {},
     "output_type": "execute_result"
    }
   ],
   "source": [
    "len(homeless_suspects)"
   ]
  },
  {
   "cell_type": "code",
   "execution_count": 23,
   "metadata": {},
   "outputs": [
    {
     "data": {
      "text/html": [
       "<div>\n",
       "<style scoped>\n",
       "    .dataframe tbody tr th:only-of-type {\n",
       "        vertical-align: middle;\n",
       "    }\n",
       "\n",
       "    .dataframe tbody tr th {\n",
       "        vertical-align: top;\n",
       "    }\n",
       "\n",
       "    .dataframe thead th {\n",
       "        text-align: right;\n",
       "    }\n",
       "</style>\n",
       "<table border=\"1\" class=\"dataframe\">\n",
       "  <thead>\n",
       "    <tr style=\"text-align: right;\">\n",
       "      <th></th>\n",
       "      <th>record_id</th>\n",
       "      <th>date_reported</th>\n",
       "      <th>date_occurred</th>\n",
       "      <th>time_occurred</th>\n",
       "      <th>division</th>\n",
       "      <th>division_name</th>\n",
       "      <th>reporting_district</th>\n",
       "      <th>part_type</th>\n",
       "      <th>crime_code</th>\n",
       "      <th>crime_code_description</th>\n",
       "      <th>modus_operandi_code</th>\n",
       "      <th>victim_age</th>\n",
       "      <th>victim_sex</th>\n",
       "      <th>victim_descent</th>\n",
       "      <th>premises_code</th>\n",
       "      <th>premises_description</th>\n",
       "      <th>weapon_code</th>\n",
       "      <th>weapon_description</th>\n",
       "      <th>status_code</th>\n",
       "      <th>status_code_description</th>\n",
       "      <th>crm_cd_1</th>\n",
       "      <th>crm_cd_2</th>\n",
       "      <th>crm_cd_3</th>\n",
       "      <th>crm_cd_4</th>\n",
       "      <th>address</th>\n",
       "      <th>cross_street</th>\n",
       "      <th>latitude</th>\n",
       "      <th>longitide</th>\n",
       "      <th>year</th>\n",
       "      <th>quarter</th>\n",
       "      <th>day</th>\n",
       "      <th>month</th>\n",
       "      <th>weekday</th>\n",
       "      <th>monthname</th>\n",
       "      <th>descent_description</th>\n",
       "      <th>hour</th>\n",
       "      <th>minute</th>\n",
       "    </tr>\n",
       "  </thead>\n",
       "  <tbody>\n",
       "    <tr>\n",
       "      <th>1041616</th>\n",
       "      <td>151511171</td>\n",
       "      <td>05/09/2015</td>\n",
       "      <td>2015-05-09</td>\n",
       "      <td>1340</td>\n",
       "      <td>15</td>\n",
       "      <td>N Hollywood</td>\n",
       "      <td>1525</td>\n",
       "      <td>1</td>\n",
       "      <td>110</td>\n",
       "      <td>Criminal homicide</td>\n",
       "      <td>0430 1100 0906 1402 1420 0449 0529 1809 1218 1414</td>\n",
       "      <td>25</td>\n",
       "      <td>M</td>\n",
       "      <td>H</td>\n",
       "      <td>247</td>\n",
       "      <td>Car wash</td>\n",
       "      <td>101.0</td>\n",
       "      <td>Revolver</td>\n",
       "      <td>AA</td>\n",
       "      <td>Adult Arrest</td>\n",
       "      <td>110</td>\n",
       "      <td>nan</td>\n",
       "      <td>nan</td>\n",
       "      <td>nan</td>\n",
       "      <td>6400    LAUREL CANYON                BL</td>\n",
       "      <td>NaN</td>\n",
       "      <td>34.1867</td>\n",
       "      <td>-118.3965</td>\n",
       "      <td>2015</td>\n",
       "      <td>2</td>\n",
       "      <td>9</td>\n",
       "      <td>5</td>\n",
       "      <td>Saturday</td>\n",
       "      <td>May</td>\n",
       "      <td>Hispanic</td>\n",
       "      <td>13</td>\n",
       "      <td>40</td>\n",
       "    </tr>\n",
       "    <tr>\n",
       "      <th>1041833</th>\n",
       "      <td>150118604</td>\n",
       "      <td>08/11/2015</td>\n",
       "      <td>2015-08-11</td>\n",
       "      <td>0144</td>\n",
       "      <td>1</td>\n",
       "      <td>Central</td>\n",
       "      <td>147</td>\n",
       "      <td>1</td>\n",
       "      <td>110</td>\n",
       "      <td>Criminal homicide</td>\n",
       "      <td>1218 1100 0430 1202</td>\n",
       "      <td>60</td>\n",
       "      <td>M</td>\n",
       "      <td>B</td>\n",
       "      <td>102</td>\n",
       "      <td>Sidewalk</td>\n",
       "      <td>102.0</td>\n",
       "      <td>Hand gun</td>\n",
       "      <td>AA</td>\n",
       "      <td>Adult Arrest</td>\n",
       "      <td>110</td>\n",
       "      <td>nan</td>\n",
       "      <td>nan</td>\n",
       "      <td>nan</td>\n",
       "      <td>300 E  5TH                          ST</td>\n",
       "      <td>NaN</td>\n",
       "      <td>34.0453</td>\n",
       "      <td>-118.2443</td>\n",
       "      <td>2015</td>\n",
       "      <td>3</td>\n",
       "      <td>11</td>\n",
       "      <td>8</td>\n",
       "      <td>Tuesday</td>\n",
       "      <td>August</td>\n",
       "      <td>Black</td>\n",
       "      <td>01</td>\n",
       "      <td>44</td>\n",
       "    </tr>\n",
       "    <tr>\n",
       "      <th>1043126</th>\n",
       "      <td>151507992</td>\n",
       "      <td>03/11/2015</td>\n",
       "      <td>2015-03-11</td>\n",
       "      <td>1115</td>\n",
       "      <td>15</td>\n",
       "      <td>N Hollywood</td>\n",
       "      <td>1532</td>\n",
       "      <td>1</td>\n",
       "      <td>110</td>\n",
       "      <td>Criminal homicide</td>\n",
       "      <td>1310 0350 1218</td>\n",
       "      <td>48</td>\n",
       "      <td>M</td>\n",
       "      <td>W</td>\n",
       "      <td>101</td>\n",
       "      <td>Street</td>\n",
       "      <td>500.0</td>\n",
       "      <td>Unknown weapon/other weapon</td>\n",
       "      <td>IC</td>\n",
       "      <td>Invest Cont</td>\n",
       "      <td>110</td>\n",
       "      <td>nan</td>\n",
       "      <td>nan</td>\n",
       "      <td>nan</td>\n",
       "      <td>12300    SYLVAN                       ST</td>\n",
       "      <td>NaN</td>\n",
       "      <td>34.1849</td>\n",
       "      <td>-118.4025</td>\n",
       "      <td>2015</td>\n",
       "      <td>1</td>\n",
       "      <td>11</td>\n",
       "      <td>3</td>\n",
       "      <td>Wednesday</td>\n",
       "      <td>March</td>\n",
       "      <td>White</td>\n",
       "      <td>11</td>\n",
       "      <td>15</td>\n",
       "    </tr>\n",
       "    <tr>\n",
       "      <th>1067365</th>\n",
       "      <td>150222118</td>\n",
       "      <td>12/07/2015</td>\n",
       "      <td>2015-12-06</td>\n",
       "      <td>2200</td>\n",
       "      <td>2</td>\n",
       "      <td>Rampart</td>\n",
       "      <td>217</td>\n",
       "      <td>1</td>\n",
       "      <td>110</td>\n",
       "      <td>Criminal homicide</td>\n",
       "      <td>1402 0411 1218</td>\n",
       "      <td>66</td>\n",
       "      <td>M</td>\n",
       "      <td>B</td>\n",
       "      <td>102</td>\n",
       "      <td>Sidewalk</td>\n",
       "      <td>200.0</td>\n",
       "      <td>Knife with blade 6inches or less</td>\n",
       "      <td>IC</td>\n",
       "      <td>Invest Cont</td>\n",
       "      <td>110</td>\n",
       "      <td>998</td>\n",
       "      <td>nan</td>\n",
       "      <td>nan</td>\n",
       "      <td>ALVARADO                     ST</td>\n",
       "      <td>BELLEVUE                     AV</td>\n",
       "      <td>34.0729</td>\n",
       "      <td>-118.2664</td>\n",
       "      <td>2015</td>\n",
       "      <td>4</td>\n",
       "      <td>6</td>\n",
       "      <td>12</td>\n",
       "      <td>Sunday</td>\n",
       "      <td>December</td>\n",
       "      <td>Black</td>\n",
       "      <td>22</td>\n",
       "      <td>00</td>\n",
       "    </tr>\n",
       "    <tr>\n",
       "      <th>1088363</th>\n",
       "      <td>151423154</td>\n",
       "      <td>08/30/2015</td>\n",
       "      <td>2015-08-30</td>\n",
       "      <td>0209</td>\n",
       "      <td>14</td>\n",
       "      <td>Pacific</td>\n",
       "      <td>1412</td>\n",
       "      <td>1</td>\n",
       "      <td>110</td>\n",
       "      <td>Criminal homicide</td>\n",
       "      <td>1218 1100 0906 0430 1409 1407 1402</td>\n",
       "      <td>26</td>\n",
       "      <td>M</td>\n",
       "      <td>B</td>\n",
       "      <td>102</td>\n",
       "      <td>Sidewalk</td>\n",
       "      <td>102.0</td>\n",
       "      <td>Hand gun</td>\n",
       "      <td>AA</td>\n",
       "      <td>Adult Arrest</td>\n",
       "      <td>110</td>\n",
       "      <td>998</td>\n",
       "      <td>nan</td>\n",
       "      <td>nan</td>\n",
       "      <td>300    OCEAN FRONT                  WK</td>\n",
       "      <td>NaN</td>\n",
       "      <td>33.9933</td>\n",
       "      <td>-118.4765</td>\n",
       "      <td>2015</td>\n",
       "      <td>3</td>\n",
       "      <td>30</td>\n",
       "      <td>8</td>\n",
       "      <td>Sunday</td>\n",
       "      <td>August</td>\n",
       "      <td>Black</td>\n",
       "      <td>02</td>\n",
       "      <td>09</td>\n",
       "    </tr>\n",
       "  </tbody>\n",
       "</table>\n",
       "</div>"
      ],
      "text/plain": [
       "         record_id date_reported date_occurred time_occurred division  \\\n",
       "1041616  151511171    05/09/2015    2015-05-09          1340       15   \n",
       "1041833  150118604    08/11/2015    2015-08-11          0144        1   \n",
       "1043126  151507992    03/11/2015    2015-03-11          1115       15   \n",
       "1067365  150222118    12/07/2015    2015-12-06          2200        2   \n",
       "1088363  151423154    08/30/2015    2015-08-30          0209       14   \n",
       "\n",
       "        division_name reporting_district part_type crime_code  \\\n",
       "1041616   N Hollywood               1525         1        110   \n",
       "1041833       Central                147         1        110   \n",
       "1043126   N Hollywood               1532         1        110   \n",
       "1067365       Rampart                217         1        110   \n",
       "1088363       Pacific               1412         1        110   \n",
       "\n",
       "        crime_code_description  \\\n",
       "1041616      Criminal homicide   \n",
       "1041833      Criminal homicide   \n",
       "1043126      Criminal homicide   \n",
       "1067365      Criminal homicide   \n",
       "1088363      Criminal homicide   \n",
       "\n",
       "                                       modus_operandi_code  victim_age  \\\n",
       "1041616  0430 1100 0906 1402 1420 0449 0529 1809 1218 1414          25   \n",
       "1041833                                1218 1100 0430 1202          60   \n",
       "1043126                                     1310 0350 1218          48   \n",
       "1067365                                     1402 0411 1218          66   \n",
       "1088363                 1218 1100 0906 0430 1409 1407 1402          26   \n",
       "\n",
       "        victim_sex victim_descent premises_code premises_description  \\\n",
       "1041616          M              H           247             Car wash   \n",
       "1041833          M              B           102             Sidewalk   \n",
       "1043126          M              W           101               Street   \n",
       "1067365          M              B           102             Sidewalk   \n",
       "1088363          M              B           102             Sidewalk   \n",
       "\n",
       "        weapon_code                weapon_description status_code  \\\n",
       "1041616       101.0                          Revolver          AA   \n",
       "1041833       102.0                          Hand gun          AA   \n",
       "1043126       500.0       Unknown weapon/other weapon          IC   \n",
       "1067365       200.0  Knife with blade 6inches or less          IC   \n",
       "1088363       102.0                          Hand gun          AA   \n",
       "\n",
       "        status_code_description crm_cd_1 crm_cd_2 crm_cd_3 crm_cd_4  \\\n",
       "1041616            Adult Arrest      110      nan      nan      nan   \n",
       "1041833            Adult Arrest      110      nan      nan      nan   \n",
       "1043126             Invest Cont      110      nan      nan      nan   \n",
       "1067365             Invest Cont      110      998      nan      nan   \n",
       "1088363            Adult Arrest      110      998      nan      nan   \n",
       "\n",
       "                                          address  \\\n",
       "1041616   6400    LAUREL CANYON                BL   \n",
       "1041833    300 E  5TH                          ST   \n",
       "1043126  12300    SYLVAN                       ST   \n",
       "1067365           ALVARADO                     ST   \n",
       "1088363    300    OCEAN FRONT                  WK   \n",
       "\n",
       "                            cross_street  latitude  longitide  year quarter  \\\n",
       "1041616                              NaN   34.1867  -118.3965  2015       2   \n",
       "1041833                              NaN   34.0453  -118.2443  2015       3   \n",
       "1043126                              NaN   34.1849  -118.4025  2015       1   \n",
       "1067365  BELLEVUE                     AV   34.0729  -118.2664  2015       4   \n",
       "1088363                              NaN   33.9933  -118.4765  2015       3   \n",
       "\n",
       "        day month    weekday monthname descent_description hour minute  \n",
       "1041616   9     5   Saturday       May            Hispanic   13     40  \n",
       "1041833  11     8    Tuesday    August               Black   01     44  \n",
       "1043126  11     3  Wednesday     March               White   11     15  \n",
       "1067365   6    12     Sunday  December               Black   22     00  \n",
       "1088363  30     8     Sunday    August               Black   02     09  "
      ]
     },
     "execution_count": 23,
     "metadata": {},
     "output_type": "execute_result"
    }
   ],
   "source": [
    "homeless_homicides.head()"
   ]
  },
  {
   "cell_type": "code",
   "execution_count": 24,
   "metadata": {},
   "outputs": [],
   "source": [
    "homeless_homicides_years = homeless_homicides.groupby\\\n",
    "(['year','division_name', 'premises_description','weapon_description']).agg('size').reset_index(name='total')"
   ]
  },
  {
   "cell_type": "code",
   "execution_count": 90,
   "metadata": {},
   "outputs": [
    {
     "data": {
      "application/javascript": [
       "const spec = {\"config\": {\"view\": {\"width\": 800, \"height\": 450}, \"background\": \"#ffffff\", \"title\": {\"anchor\": \"start\", \"font\": \"Benton Gothic Bold, sans\", \"fontColor\": \"#000000\", \"fontSize\": 22, \"fontWeight\": \"normal\"}, \"arc\": {\"fill\": \"#82c6df\"}, \"area\": {\"fill\": \"#82c6df\"}, \"line\": {\"stroke\": \"#82c6df\", \"strokeWidth\": 3}, \"path\": {\"stroke\": \"#82c6df\"}, \"rect\": {\"fill\": \"#82c6df\"}, \"shape\": {\"stroke\": \"#82c6df\"}, \"bar\": {\"fill\": \"#82c6df\"}, \"point\": {\"stroke\": \"#82c6df\"}, \"symbol\": {\"fill\": \"#82c6df\", \"size\": 30}, \"axis\": {\"titleFont\": \"Benton Gothic Bold, sans\", \"titleFontSize\": 13, \"titleFontWeight\": \"normal\", \"labelFont\": \"Benton Gothic, sans\", \"labelFontSize\": 11.5, \"labelFontWeight\": \"normal\"}, \"axisX\": {\"labelAngle\": 0, \"labelPadding\": 4, \"tickSize\": 3}, \"axisY\": {\"labelBaseline\": \"middle\", \"maxExtent\": 45, \"minExtent\": 45, \"tickSize\": 2, \"titleAlign\": \"left\", \"titleAngle\": 0, \"titleX\": -45, \"titleY\": -11}, \"legend\": {\"titleFont\": \"Benton Gothic Bold, sans\", \"titleFontSize\": 13, \"titleFontWeight\": \"normal\", \"symbolType\": \"square\", \"labelFont\": \"Benton Gothic, sans\", \"labelFontSize\": 11.5}, \"range\": {\"category\": [\"#3580b1\", \"#ec8431\", \"#ab7fb4\", \"#c89d29\", \"#adc839\", \"#829eb1\"], \"diverging\": [\"#e68a4f\", \"#f4bb6a\", \"#f9e39c\", \"#dadfe2\", \"#a6b7c6\", \"#849eae\"], \"heatmap\": [\"#fbf2c7\", \"#f9e39c\", \"#f8d36e\", \"#f4bb6a\", \"#e68a4f\", \"#d15a40\", \"#ab4232\"], \"ordinal\": [\"#fbf2c7\", \"#f9e39c\", \"#f8d36e\", \"#f4bb6a\", \"#e68a4f\", \"#d15a40\", \"#ab4232\"], \"ramp\": [\"#fbf2c7\", \"#f9e39c\", \"#f8d36e\", \"#f4bb6a\", \"#e68a4f\", \"#d15a40\", \"#ab4232\"]}}, \"layer\": [{\"mark\": \"bar\", \"encoding\": {\"x\": {\"type\": \"quantitative\", \"aggregate\": \"sum\", \"axis\": {\"format\": \"\", \"tickCount\": 5}, \"field\": \"total\", \"title\": \"Cases\"}, \"y\": {\"type\": \"nominal\", \"axis\": {\"format\": \"\", \"tickCount\": 5}, \"field\": \"year\"}}}, {\"mark\": {\"type\": \"text\", \"align\": \"left\", \"baseline\": \"middle\", \"dx\": 3}, \"encoding\": {\"text\": {\"type\": \"quantitative\", \"aggregate\": \"sum\", \"field\": \"total\"}, \"x\": {\"type\": \"quantitative\", \"aggregate\": \"sum\", \"axis\": {\"format\": \"\", \"tickCount\": 5}, \"field\": \"total\", \"title\": \"Cases\"}, \"y\": {\"type\": \"nominal\", \"axis\": {\"format\": \"\", \"tickCount\": 5}, \"field\": \"year\"}}}], \"data\": {\"name\": \"data-3adb7d0455e0659304857303b76b169b\"}, \"height\": 150, \"title\": \"Homeless homicide cases per year\", \"width\": 500, \"$schema\": \"https://vega.github.io/schema/vega-lite/v3.4.0.json\", \"datasets\": {\"data-3adb7d0455e0659304857303b76b169b\": [{\"year\": \"2015\", \"division_name\": \"Central\", \"premises_description\": \"Parking lot\", \"weapon_description\": \"Strong-arm (hands, fist, feet or bodily force)\", \"total\": 1}, {\"year\": \"2015\", \"division_name\": \"Central\", \"premises_description\": \"Sidewalk\", \"weapon_description\": \"Concrete block/brick\", \"total\": 1}, {\"year\": \"2015\", \"division_name\": \"Central\", \"premises_description\": \"Sidewalk\", \"weapon_description\": \"Folding knife\", \"total\": 1}, {\"year\": \"2015\", \"division_name\": \"Central\", \"premises_description\": \"Sidewalk\", \"weapon_description\": \"Hand gun\", \"total\": 1}, {\"year\": \"2015\", \"division_name\": \"Central\", \"premises_description\": \"Single residence occupancy (sro's) locations\", \"weapon_description\": \"Other knife\", \"total\": 1}, {\"year\": \"2015\", \"division_name\": \"Foothill\", \"premises_description\": \"Underpass/bridge*\", \"weapon_description\": \"Hand gun\", \"total\": 1}, {\"year\": \"2015\", \"division_name\": \"Harbor\", \"premises_description\": \"Parking lot\", \"weapon_description\": \"Unknown firearm\", \"total\": 1}, {\"year\": \"2015\", \"division_name\": \"Hollywood\", \"premises_description\": \"Sidewalk\", \"weapon_description\": \"Other knife\", \"total\": 1}, {\"year\": \"2015\", \"division_name\": \"N Hollywood\", \"premises_description\": \"Car wash\", \"weapon_description\": \"Revolver\", \"total\": 1}, {\"year\": \"2015\", \"division_name\": \"N Hollywood\", \"premises_description\": \"Street\", \"weapon_description\": \"Unknown weapon/other weapon\", \"total\": 1}, {\"year\": \"2015\", \"division_name\": \"Northeast\", \"premises_description\": \"Park/playground\", \"weapon_description\": \"Unknown weapon/other weapon\", \"total\": 1}, {\"year\": \"2015\", \"division_name\": \"Northeast\", \"premises_description\": \"Street\", \"weapon_description\": \"Unknown weapon/other weapon\", \"total\": 1}, {\"year\": \"2015\", \"division_name\": \"Olympic\", \"premises_description\": \"Bus stop\", \"weapon_description\": \"Unknown weapon/other weapon\", \"total\": 1}, {\"year\": \"2015\", \"division_name\": \"Pacific\", \"premises_description\": \"Sidewalk\", \"weapon_description\": \"Hand gun\", \"total\": 1}, {\"year\": \"2015\", \"division_name\": \"Pacific\", \"premises_description\": \"Street\", \"weapon_description\": \"Unknown weapon/other weapon\", \"total\": 1}, {\"year\": \"2015\", \"division_name\": \"Rampart\", \"premises_description\": \"Sidewalk\", \"weapon_description\": \"Knife with blade 6inches or less\", \"total\": 1}, {\"year\": \"2015\", \"division_name\": \"Southeast\", \"premises_description\": \"Sidewalk\", \"weapon_description\": \"Strong-arm (hands, fist, feet or bodily force)\", \"total\": 1}, {\"year\": \"2016\", \"division_name\": \"Central\", \"premises_description\": \"Missions/shelters\", \"weapon_description\": \"Unknown type cutting instrument\", \"total\": 1}, {\"year\": \"2016\", \"division_name\": \"Central\", \"premises_description\": \"Sidewalk\", \"weapon_description\": \"Hand gun\", \"total\": 1}, {\"year\": \"2016\", \"division_name\": \"Central\", \"premises_description\": \"Sidewalk\", \"weapon_description\": \"Strong-arm (hands, fist, feet or bodily force)\", \"total\": 1}, {\"year\": \"2016\", \"division_name\": \"Central\", \"premises_description\": \"Street\", \"weapon_description\": \"Other firearm\", \"total\": 1}, {\"year\": \"2016\", \"division_name\": \"Central\", \"premises_description\": \"Street\", \"weapon_description\": \"Strong-arm (hands, fist, feet or bodily force)\", \"total\": 1}, {\"year\": \"2016\", \"division_name\": \"Hollenbeck\", \"premises_description\": \"Park/playground\", \"weapon_description\": \"Hand gun\", \"total\": 1}, {\"year\": \"2016\", \"division_name\": \"Hollywood\", \"premises_description\": \"Parking lot\", \"weapon_description\": \"Blunt instrument\", \"total\": 1}, {\"year\": \"2016\", \"division_name\": \"Mission\", \"premises_description\": \"Parking lot\", \"weapon_description\": \"Other knife\", \"total\": 1}, {\"year\": \"2016\", \"division_name\": \"N Hollywood\", \"premises_description\": \"Sidewalk\", \"weapon_description\": \"Knife with blade 6inches or less\", \"total\": 1}, {\"year\": \"2016\", \"division_name\": \"Newton\", \"premises_description\": \"Alley\", \"weapon_description\": \"Fire\", \"total\": 1}, {\"year\": \"2016\", \"division_name\": \"Northeast\", \"premises_description\": \"Parking lot\", \"weapon_description\": \"Hand gun\", \"total\": 1}, {\"year\": \"2016\", \"division_name\": \"Northeast\", \"premises_description\": \"Sidewalk\", \"weapon_description\": \"Unknown type cutting instrument\", \"total\": 1}, {\"year\": \"2016\", \"division_name\": \"Olympic\", \"premises_description\": \"Sidewalk\", \"weapon_description\": \"Hand gun\", \"total\": 1}, {\"year\": \"2016\", \"division_name\": \"Rampart\", \"premises_description\": \"Abandoned building abandoned house\", \"weapon_description\": \"Fire\", \"total\": 4}, {\"year\": \"2016\", \"division_name\": \"Rampart\", \"premises_description\": \"Other business\", \"weapon_description\": \"Fire\", \"total\": 1}, {\"year\": \"2016\", \"division_name\": \"Rampart\", \"premises_description\": \"Sidewalk\", \"weapon_description\": \"Strong-arm (hands, fist, feet or bodily force)\", \"total\": 1}, {\"year\": \"2016\", \"division_name\": \"Rampart\", \"premises_description\": \"Street\", \"weapon_description\": \"Unknown type cutting instrument\", \"total\": 1}, {\"year\": \"2016\", \"division_name\": \"Southeast\", \"premises_description\": \"Multi-unit dwelling (apartment, duplex, etc)\", \"weapon_description\": \"Semi-automatic pistol\", \"total\": 1}, {\"year\": \"2016\", \"division_name\": \"Southeast\", \"premises_description\": \"Sidewalk\", \"weapon_description\": \"Hand gun\", \"total\": 1}, {\"year\": \"2017\", \"division_name\": \"Central\", \"premises_description\": \"Alley\", \"weapon_description\": \"Unknown firearm\", \"total\": 1}, {\"year\": \"2017\", \"division_name\": \"Central\", \"premises_description\": \"Parking lot\", \"weapon_description\": \"Strong-arm (hands, fist, feet or bodily force)\", \"total\": 1}, {\"year\": \"2017\", \"division_name\": \"Central\", \"premises_description\": \"Sidewalk\", \"weapon_description\": \"Concrete block/brick\", \"total\": 1}, {\"year\": \"2017\", \"division_name\": \"Central\", \"premises_description\": \"Sidewalk\", \"weapon_description\": \"Hand gun\", \"total\": 3}, {\"year\": \"2017\", \"division_name\": \"Central\", \"premises_description\": \"Sidewalk\", \"weapon_description\": \"Knife with blade 6inches or less\", \"total\": 1}, {\"year\": \"2017\", \"division_name\": \"Central\", \"premises_description\": \"Sidewalk\", \"weapon_description\": \"Unknown weapon/other weapon\", \"total\": 1}, {\"year\": \"2017\", \"division_name\": \"Central\", \"premises_description\": \"Street\", \"weapon_description\": \"Other cutting instrument\", \"total\": 1}, {\"year\": \"2017\", \"division_name\": \"Devonshire\", \"premises_description\": \"Parking lot\", \"weapon_description\": \"Strong-arm (hands, fist, feet or bodily force)\", \"total\": 1}, {\"year\": \"2017\", \"division_name\": \"Foothill\", \"premises_description\": \"Freeway\", \"weapon_description\": \"Strong-arm (hands, fist, feet or bodily force)\", \"total\": 1}, {\"year\": \"2017\", \"division_name\": \"Foothill\", \"premises_description\": \"Parking lot\", \"weapon_description\": \"Unknown firearm\", \"total\": 1}, {\"year\": \"2017\", \"division_name\": \"Foothill\", \"premises_description\": \"Sidewalk\", \"weapon_description\": \"Unknown firearm\", \"total\": 1}, {\"year\": \"2017\", \"division_name\": \"Hollenbeck\", \"premises_description\": \"Alley\", \"weapon_description\": \"Hand gun\", \"total\": 1}, {\"year\": \"2017\", \"division_name\": \"Hollenbeck\", \"premises_description\": \"Sidewalk\", \"weapon_description\": \"Hand gun\", \"total\": 1}, {\"year\": \"2017\", \"division_name\": \"Hollenbeck\", \"premises_description\": \"Street\", \"weapon_description\": \"Semi-automatic pistol\", \"total\": 1}, {\"year\": \"2017\", \"division_name\": \"Hollenbeck\", \"premises_description\": \"Yard (residential/business)\", \"weapon_description\": \"Concrete block/brick\", \"total\": 1}, {\"year\": \"2017\", \"division_name\": \"Hollywood\", \"premises_description\": \"Street\", \"weapon_description\": \"Knife with blade 6inches or less\", \"total\": 1}, {\"year\": \"2017\", \"division_name\": \"Mission\", \"premises_description\": \"Sidewalk\", \"weapon_description\": \"Unknown type cutting instrument\", \"total\": 1}, {\"year\": \"2017\", \"division_name\": \"N Hollywood\", \"premises_description\": \"Driveway\", \"weapon_description\": \"Hand gun\", \"total\": 1}, {\"year\": \"2017\", \"division_name\": \"Newton\", \"premises_description\": \"Sidewalk\", \"weapon_description\": \"Blunt instrument\", \"total\": 1}, {\"year\": \"2017\", \"division_name\": \"Newton\", \"premises_description\": \"Sidewalk\", \"weapon_description\": \"Hand gun\", \"total\": 1}, {\"year\": \"2017\", \"division_name\": \"Newton\", \"premises_description\": \"Sidewalk\", \"weapon_description\": \"Unknown weapon/other weapon\", \"total\": 1}, {\"year\": \"2017\", \"division_name\": \"Newton\", \"premises_description\": \"Street\", \"weapon_description\": \"Hand gun\", \"total\": 1}, {\"year\": \"2017\", \"division_name\": \"Olympic\", \"premises_description\": \"Sidewalk\", \"weapon_description\": \"Unknown weapon/other weapon\", \"total\": 1}, {\"year\": \"2017\", \"division_name\": \"Southeast\", \"premises_description\": \"Transient encampment\", \"weapon_description\": \"Unknown firearm\", \"total\": 1}, {\"year\": \"2017\", \"division_name\": \"Southwest\", \"premises_description\": \"Street\", \"weapon_description\": \"Hand gun\", \"total\": 1}, {\"year\": \"2017\", \"division_name\": \"Wilshire\", \"premises_description\": \"Alley\", \"weapon_description\": \"Knife with blade 6inches or less\", \"total\": 1}, {\"year\": \"2018\", \"division_name\": \"77th Street\", \"premises_description\": \"Alley\", \"weapon_description\": \"Semi-automatic pistol\", \"total\": 1}, {\"year\": \"2018\", \"division_name\": \"77th Street\", \"premises_description\": \"Auto supply store*\", \"weapon_description\": \"Hand gun\", \"total\": 3}, {\"year\": \"2018\", \"division_name\": \"Central\", \"premises_description\": \"Other business\", \"weapon_description\": \"Strong-arm (hands, fist, feet or bodily force)\", \"total\": 1}, {\"year\": \"2018\", \"division_name\": \"Central\", \"premises_description\": \"Sidewalk\", \"weapon_description\": \"Club/bat\", \"total\": 2}, {\"year\": \"2018\", \"division_name\": \"Central\", \"premises_description\": \"Sidewalk\", \"weapon_description\": \"Unknown type cutting instrument\", \"total\": 1}, {\"year\": \"2018\", \"division_name\": \"Central\", \"premises_description\": \"Street\", \"weapon_description\": \"Other knife\", \"total\": 1}, {\"year\": \"2018\", \"division_name\": \"Central\", \"premises_description\": \"Street\", \"weapon_description\": \"Unknown weapon/other weapon\", \"total\": 1}, {\"year\": \"2018\", \"division_name\": \"Devonshire\", \"premises_description\": \"Street\", \"weapon_description\": \"Hand gun\", \"total\": 1}, {\"year\": \"2018\", \"division_name\": \"Hollenbeck\", \"premises_description\": \"Other premise\", \"weapon_description\": \"Hand gun\", \"total\": 1}, {\"year\": \"2018\", \"division_name\": \"Hollenbeck\", \"premises_description\": \"Sidewalk\", \"weapon_description\": \"Other knife\", \"total\": 1}, {\"year\": \"2018\", \"division_name\": \"Hollenbeck\", \"premises_description\": \"Street\", \"weapon_description\": \"Hand gun\", \"total\": 1}, {\"year\": \"2018\", \"division_name\": \"Hollenbeck\", \"premises_description\": \"Underpass/bridge*\", \"weapon_description\": \"Hand gun\", \"total\": 1}, {\"year\": \"2018\", \"division_name\": \"Hollywood\", \"premises_description\": \"Freeway\", \"weapon_description\": \"Stick\", \"total\": 1}, {\"year\": \"2018\", \"division_name\": \"Hollywood\", \"premises_description\": \"Pharmacy inside store or supermarket*\", \"weapon_description\": \"Hand gun\", \"total\": 1}, {\"year\": \"2018\", \"division_name\": \"Hollywood\", \"premises_description\": \"Sidewalk\", \"weapon_description\": \"Unknown type cutting instrument\", \"total\": 1}, {\"year\": \"2018\", \"division_name\": \"Hollywood\", \"premises_description\": \"Sidewalk\", \"weapon_description\": \"Unknown weapon/other weapon\", \"total\": 1}, {\"year\": \"2018\", \"division_name\": \"Mission\", \"premises_description\": \"Hospital\", \"weapon_description\": \"Unknown firearm\", \"total\": 1}, {\"year\": \"2018\", \"division_name\": \"N Hollywood\", \"premises_description\": \"Park/playground\", \"weapon_description\": \"Other knife\", \"total\": 1}, {\"year\": \"2018\", \"division_name\": \"N Hollywood\", \"premises_description\": \"Parking lot\", \"weapon_description\": \"Knife with blade 6inches or less\", \"total\": 1}, {\"year\": \"2018\", \"division_name\": \"N Hollywood\", \"premises_description\": \"Street\", \"weapon_description\": \"Pipe/metal pipe\", \"total\": 1}, {\"year\": \"2018\", \"division_name\": \"Newton\", \"premises_description\": \"Alley\", \"weapon_description\": \"Unknown weapon/other weapon\", \"total\": 1}, {\"year\": \"2018\", \"division_name\": \"Newton\", \"premises_description\": \"Sidewalk\", \"weapon_description\": \"Other knife\", \"total\": 1}, {\"year\": \"2018\", \"division_name\": \"Northeast\", \"premises_description\": \"Park/playground\", \"weapon_description\": \"Unknown weapon/other weapon\", \"total\": 1}, {\"year\": \"2018\", \"division_name\": \"Northeast\", \"premises_description\": \"Parking lot\", \"weapon_description\": \"Strong-arm (hands, fist, feet or bodily force)\", \"total\": 1}, {\"year\": \"2018\", \"division_name\": \"Northeast\", \"premises_description\": \"Single family dwelling\", \"weapon_description\": \"Shotgun\", \"total\": 1}, {\"year\": \"2018\", \"division_name\": \"Olympic\", \"premises_description\": \"Sidewalk\", \"weapon_description\": \"Hand gun\", \"total\": 1}, {\"year\": \"2018\", \"division_name\": \"Pacific\", \"premises_description\": \"Street\", \"weapon_description\": \"Hand gun\", \"total\": 1}, {\"year\": \"2018\", \"division_name\": \"Rampart\", \"premises_description\": \"Sidewalk\", \"weapon_description\": \"Unknown type cutting instrument\", \"total\": 1}, {\"year\": \"2018\", \"division_name\": \"Southeast\", \"premises_description\": \"Sidewalk\", \"weapon_description\": \"Hand gun\", \"total\": 1}, {\"year\": \"2018\", \"division_name\": \"Southeast\", \"premises_description\": \"Sidewalk\", \"weapon_description\": \"Unknown firearm\", \"total\": 1}, {\"year\": \"2018\", \"division_name\": \"Southeast\", \"premises_description\": \"Single family dwelling\", \"weapon_description\": \"Unknown firearm\", \"total\": 1}, {\"year\": \"2018\", \"division_name\": \"Southeast\", \"premises_description\": \"Street\", \"weapon_description\": \"Semi-automatic pistol\", \"total\": 2}, {\"year\": \"2018\", \"division_name\": \"Southwest\", \"premises_description\": \"Park/playground\", \"weapon_description\": \"Rock/thrown object\", \"total\": 1}, {\"year\": \"2018\", \"division_name\": \"Southwest\", \"premises_description\": \"Street\", \"weapon_description\": \"Semi-automatic pistol\", \"total\": 1}, {\"year\": \"2018\", \"division_name\": \"Southwest\", \"premises_description\": \"Underpass/bridge*\", \"weapon_description\": \"Unknown firearm\", \"total\": 1}, {\"year\": \"2019\", \"division_name\": \"77th Street\", \"premises_description\": \"Sidewalk\", \"weapon_description\": \"Unknown firearm\", \"total\": 1}, {\"year\": \"2019\", \"division_name\": \"Central\", \"premises_description\": \"Multi-unit dwelling (apartment, duplex, etc)\", \"weapon_description\": \"Kitchen knife\", \"total\": 1}, {\"year\": \"2019\", \"division_name\": \"Central\", \"premises_description\": \"Sidewalk\", \"weapon_description\": \"Fire\", \"total\": 1}, {\"year\": \"2019\", \"division_name\": \"Central\", \"premises_description\": \"Sidewalk\", \"weapon_description\": \"Pipe/metal pipe\", \"total\": 1}, {\"year\": \"2019\", \"division_name\": \"Central\", \"premises_description\": \"Street\", \"weapon_description\": \"Hand gun\", \"total\": 1}, {\"year\": \"2019\", \"division_name\": \"Central\", \"premises_description\": \"Street\", \"weapon_description\": \"Other knife\", \"total\": 1}, {\"year\": \"2019\", \"division_name\": \"Central\", \"premises_description\": \"Street\", \"weapon_description\": \"Semi-automatic pistol\", \"total\": 1}, {\"year\": \"2019\", \"division_name\": \"Central\", \"premises_description\": \"Street\", \"weapon_description\": \"Strong-arm (hands, fist, feet or bodily force)\", \"total\": 1}, {\"year\": \"2019\", \"division_name\": \"Foothill\", \"premises_description\": \"Street\", \"weapon_description\": \"Other knife\", \"total\": 1}, {\"year\": \"2019\", \"division_name\": \"Harbor\", \"premises_description\": \"Street\", \"weapon_description\": \"Unknown type cutting instrument\", \"total\": 1}, {\"year\": \"2019\", \"division_name\": \"Hollenbeck\", \"premises_description\": \"Park/playground\", \"weapon_description\": \"Knife with blade 6inches or less\", \"total\": 1}, {\"year\": \"2019\", \"division_name\": \"Hollenbeck\", \"premises_description\": \"Street\", \"weapon_description\": \"Unknown type cutting instrument\", \"total\": 1}, {\"year\": \"2019\", \"division_name\": \"Mission\", \"premises_description\": \"Street\", \"weapon_description\": \"Strong-arm (hands, fist, feet or bodily force)\", \"total\": 2}, {\"year\": \"2019\", \"division_name\": \"N Hollywood\", \"premises_description\": \"Bus stop\", \"weapon_description\": \"Pipe/metal pipe\", \"total\": 1}, {\"year\": \"2019\", \"division_name\": \"N Hollywood\", \"premises_description\": \"Park/playground\", \"weapon_description\": \"Unknown firearm\", \"total\": 1}, {\"year\": \"2019\", \"division_name\": \"Newton\", \"premises_description\": \"Alley\", \"weapon_description\": \"Hand gun\", \"total\": 2}, {\"year\": \"2019\", \"division_name\": \"Newton\", \"premises_description\": \"Street\", \"weapon_description\": \"Hand gun\", \"total\": 1}, {\"year\": \"2019\", \"division_name\": \"Newton\", \"premises_description\": \"Street\", \"weapon_description\": \"Semi-automatic pistol\", \"total\": 2}, {\"year\": \"2019\", \"division_name\": \"Northeast\", \"premises_description\": \"Other business\", \"weapon_description\": \"Strong-arm (hands, fist, feet or bodily force)\", \"total\": 1}, {\"year\": \"2019\", \"division_name\": \"Northeast\", \"premises_description\": \"Parking lot\", \"weapon_description\": \"Hand gun\", \"total\": 1}, {\"year\": \"2019\", \"division_name\": \"Rampart\", \"premises_description\": \"Multi-unit dwelling (apartment, duplex, etc)\", \"weapon_description\": \"Revolver\", \"total\": 1}, {\"year\": \"2019\", \"division_name\": \"Rampart\", \"premises_description\": \"Sidewalk\", \"weapon_description\": \"Hand gun\", \"total\": 2}, {\"year\": \"2019\", \"division_name\": \"Southeast\", \"premises_description\": \"Sidewalk\", \"weapon_description\": \"Strong-arm (hands, fist, feet or bodily force)\", \"total\": 1}, {\"year\": \"2019\", \"division_name\": \"Southeast\", \"premises_description\": \"Sidewalk\", \"weapon_description\": \"Unknown type cutting instrument\", \"total\": 1}, {\"year\": \"2019\", \"division_name\": \"Southwest\", \"premises_description\": \"Sidewalk\", \"weapon_description\": \"Unknown firearm\", \"total\": 1}, {\"year\": \"2019\", \"division_name\": \"Van Nuys\", \"premises_description\": \"Sidewalk\", \"weapon_description\": \"Other knife\", \"total\": 1}, {\"year\": \"2019\", \"division_name\": \"West LA\", \"premises_description\": \"Parking lot\", \"weapon_description\": \"Vehicle\", \"total\": 1}, {\"year\": \"2019\", \"division_name\": \"West Valley\", \"premises_description\": \"Park/playground\", \"weapon_description\": \"Other knife\", \"total\": 1}, {\"year\": \"2019\", \"division_name\": \"West Valley\", \"premises_description\": \"Street\", \"weapon_description\": \"Hand gun\", \"total\": 1}]}};\n",
       "const opt = {};\n",
       "const type = \"vega-lite\";\n",
       "const id = \"7c844985-02ad-423a-8812-9ed391c1b631\";\n",
       "\n",
       "const output_area = this;\n",
       "\n",
       "require([\"nbextensions/jupyter-vega/index\"], function(vega) {\n",
       "  const target = document.createElement(\"div\");\n",
       "  target.id = id;\n",
       "  target.className = \"vega-embed\";\n",
       "\n",
       "  const style = document.createElement(\"style\");\n",
       "  style.textContent = [\n",
       "    \".vega-embed .error p {\",\n",
       "    \"  color: firebrick;\",\n",
       "    \"  font-size: 14px;\",\n",
       "    \"}\",\n",
       "  ].join(\"\\\\n\");\n",
       "\n",
       "  // element is a jQuery wrapped DOM element inside the output area\n",
       "  // see http://ipython.readthedocs.io/en/stable/api/generated/\\\n",
       "  // IPython.display.html#IPython.display.Javascript.__init__\n",
       "  element[0].appendChild(target);\n",
       "  element[0].appendChild(style);\n",
       "\n",
       "  vega.render(\"#\" + id, spec, type, opt, output_area);\n",
       "}, function (err) {\n",
       "  if (err.requireType !== \"scripterror\") {\n",
       "    throw(err);\n",
       "  }\n",
       "});\n"
      ],
      "text/plain": [
       "<vega.vegalite.VegaLite at 0x15173bc18>"
      ]
     },
     "metadata": {
      "jupyter-vega": "#7c844985-02ad-423a-8812-9ed391c1b631"
     },
     "output_type": "display_data"
    },
    {
     "data": {
      "text/plain": []
     },
     "execution_count": 90,
     "metadata": {},
     "output_type": "execute_result"
    },
    {
     "data": {
      "image/png": "[encoded data removed]"
     },
     "metadata": {
      "jupyter-vega": "#7c844985-02ad-423a-8812-9ed391c1b631"
     },
     "output_type": "display_data"
    }
   ],
   "source": [
    "chart_homeless_homicides_years = alt.Chart(homeless_homicides_years).mark_bar().encode(\n",
    "    y=alt.Y('year:N', axis=alt.Axis(format='', tickCount=5)),\n",
    "    x=alt.X(\"sum(total):Q\", title=\"Cases\", axis=alt.Axis(format='', tickCount=5))\n",
    ")\n",
    "\n",
    "chart_homeless_homicides_years_text = chart_homeless_homicides_years.mark_text(\n",
    "    align='left',\n",
    "    baseline='middle',\n",
    "    dx=3  # Nudges text to right so it doesn't appear on top of the bar\n",
    ").encode(\n",
    "    text='sum(total):Q'\n",
    ")\n",
    "\n",
    "(chart_homeless_homicides_years + chart_homeless_homicides_years_text).properties(height=150, width=500, title='Homeless homicide cases per year')"
   ]
  },
  {
   "cell_type": "code",
   "execution_count": 91,
   "metadata": {},
   "outputs": [
    {
     "data": {
      "application/javascript": [
       "const spec = {\"config\": {\"view\": {\"width\": 800, \"height\": 450}, \"background\": \"#ffffff\", \"title\": {\"anchor\": \"start\", \"font\": \"Benton Gothic Bold, sans\", \"fontColor\": \"#000000\", \"fontSize\": 22, \"fontWeight\": \"normal\"}, \"arc\": {\"fill\": \"#82c6df\"}, \"area\": {\"fill\": \"#82c6df\"}, \"line\": {\"stroke\": \"#82c6df\", \"strokeWidth\": 3}, \"path\": {\"stroke\": \"#82c6df\"}, \"rect\": {\"fill\": \"#82c6df\"}, \"shape\": {\"stroke\": \"#82c6df\"}, \"bar\": {\"fill\": \"#82c6df\"}, \"point\": {\"stroke\": \"#82c6df\"}, \"symbol\": {\"fill\": \"#82c6df\", \"size\": 30}, \"axis\": {\"titleFont\": \"Benton Gothic Bold, sans\", \"titleFontSize\": 13, \"titleFontWeight\": \"normal\", \"labelFont\": \"Benton Gothic, sans\", \"labelFontSize\": 11.5, \"labelFontWeight\": \"normal\"}, \"axisX\": {\"labelAngle\": 0, \"labelPadding\": 4, \"tickSize\": 3}, \"axisY\": {\"labelBaseline\": \"middle\", \"maxExtent\": 45, \"minExtent\": 45, \"tickSize\": 2, \"titleAlign\": \"left\", \"titleAngle\": 0, \"titleX\": -45, \"titleY\": -11}, \"legend\": {\"titleFont\": \"Benton Gothic Bold, sans\", \"titleFontSize\": 13, \"titleFontWeight\": \"normal\", \"symbolType\": \"square\", \"labelFont\": \"Benton Gothic, sans\", \"labelFontSize\": 11.5}, \"range\": {\"category\": [\"#3580b1\", \"#ec8431\", \"#ab7fb4\", \"#c89d29\", \"#adc839\", \"#829eb1\"], \"diverging\": [\"#e68a4f\", \"#f4bb6a\", \"#f9e39c\", \"#dadfe2\", \"#a6b7c6\", \"#849eae\"], \"heatmap\": [\"#fbf2c7\", \"#f9e39c\", \"#f8d36e\", \"#f4bb6a\", \"#e68a4f\", \"#d15a40\", \"#ab4232\"], \"ordinal\": [\"#fbf2c7\", \"#f9e39c\", \"#f8d36e\", \"#f4bb6a\", \"#e68a4f\", \"#d15a40\", \"#ab4232\"], \"ramp\": [\"#fbf2c7\", \"#f9e39c\", \"#f8d36e\", \"#f4bb6a\", \"#e68a4f\", \"#d15a40\", \"#ab4232\"]}}, \"layer\": [{\"mark\": \"bar\", \"encoding\": {\"x\": {\"type\": \"quantitative\", \"aggregate\": \"sum\", \"axis\": {\"format\": \"\", \"tickCount\": 5}, \"field\": \"total\", \"title\": \"Cases\"}, \"y\": {\"type\": \"nominal\", \"axis\": {\"format\": \"\", \"tickCount\": 5}, \"field\": \"division_name\", \"sort\": {\"field\": \"total\", \"op\": \"sum\", \"order\": \"descending\"}}}}, {\"mark\": {\"type\": \"text\", \"align\": \"left\", \"baseline\": \"middle\", \"dx\": 3}, \"encoding\": {\"text\": {\"type\": \"quantitative\", \"aggregate\": \"sum\", \"field\": \"total\"}, \"x\": {\"type\": \"quantitative\", \"aggregate\": \"sum\", \"axis\": {\"format\": \"\", \"tickCount\": 5}, \"field\": \"total\", \"title\": \"Cases\"}, \"y\": {\"type\": \"nominal\", \"axis\": {\"format\": \"\", \"tickCount\": 5}, \"field\": \"division_name\", \"sort\": {\"field\": \"total\", \"op\": \"sum\", \"order\": \"descending\"}}}}], \"data\": {\"name\": \"data-3adb7d0455e0659304857303b76b169b\"}, \"height\": 400, \"title\": \"Homeless homicide by police division, 2016-19\", \"width\": 700, \"$schema\": \"https://vega.github.io/schema/vega-lite/v3.4.0.json\", \"datasets\": {\"data-3adb7d0455e0659304857303b76b169b\": [{\"year\": \"2015\", \"division_name\": \"Central\", \"premises_description\": \"Parking lot\", \"weapon_description\": \"Strong-arm (hands, fist, feet or bodily force)\", \"total\": 1}, {\"year\": \"2015\", \"division_name\": \"Central\", \"premises_description\": \"Sidewalk\", \"weapon_description\": \"Concrete block/brick\", \"total\": 1}, {\"year\": \"2015\", \"division_name\": \"Central\", \"premises_description\": \"Sidewalk\", \"weapon_description\": \"Folding knife\", \"total\": 1}, {\"year\": \"2015\", \"division_name\": \"Central\", \"premises_description\": \"Sidewalk\", \"weapon_description\": \"Hand gun\", \"total\": 1}, {\"year\": \"2015\", \"division_name\": \"Central\", \"premises_description\": \"Single residence occupancy (sro's) locations\", \"weapon_description\": \"Other knife\", \"total\": 1}, {\"year\": \"2015\", \"division_name\": \"Foothill\", \"premises_description\": \"Underpass/bridge*\", \"weapon_description\": \"Hand gun\", \"total\": 1}, {\"year\": \"2015\", \"division_name\": \"Harbor\", \"premises_description\": \"Parking lot\", \"weapon_description\": \"Unknown firearm\", \"total\": 1}, {\"year\": \"2015\", \"division_name\": \"Hollywood\", \"premises_description\": \"Sidewalk\", \"weapon_description\": \"Other knife\", \"total\": 1}, {\"year\": \"2015\", \"division_name\": \"N Hollywood\", \"premises_description\": \"Car wash\", \"weapon_description\": \"Revolver\", \"total\": 1}, {\"year\": \"2015\", \"division_name\": \"N Hollywood\", \"premises_description\": \"Street\", \"weapon_description\": \"Unknown weapon/other weapon\", \"total\": 1}, {\"year\": \"2015\", \"division_name\": \"Northeast\", \"premises_description\": \"Park/playground\", \"weapon_description\": \"Unknown weapon/other weapon\", \"total\": 1}, {\"year\": \"2015\", \"division_name\": \"Northeast\", \"premises_description\": \"Street\", \"weapon_description\": \"Unknown weapon/other weapon\", \"total\": 1}, {\"year\": \"2015\", \"division_name\": \"Olympic\", \"premises_description\": \"Bus stop\", \"weapon_description\": \"Unknown weapon/other weapon\", \"total\": 1}, {\"year\": \"2015\", \"division_name\": \"Pacific\", \"premises_description\": \"Sidewalk\", \"weapon_description\": \"Hand gun\", \"total\": 1}, {\"year\": \"2015\", \"division_name\": \"Pacific\", \"premises_description\": \"Street\", \"weapon_description\": \"Unknown weapon/other weapon\", \"total\": 1}, {\"year\": \"2015\", \"division_name\": \"Rampart\", \"premises_description\": \"Sidewalk\", \"weapon_description\": \"Knife with blade 6inches or less\", \"total\": 1}, {\"year\": \"2015\", \"division_name\": \"Southeast\", \"premises_description\": \"Sidewalk\", \"weapon_description\": \"Strong-arm (hands, fist, feet or bodily force)\", \"total\": 1}, {\"year\": \"2016\", \"division_name\": \"Central\", \"premises_description\": \"Missions/shelters\", \"weapon_description\": \"Unknown type cutting instrument\", \"total\": 1}, {\"year\": \"2016\", \"division_name\": \"Central\", \"premises_description\": \"Sidewalk\", \"weapon_description\": \"Hand gun\", \"total\": 1}, {\"year\": \"2016\", \"division_name\": \"Central\", \"premises_description\": \"Sidewalk\", \"weapon_description\": \"Strong-arm (hands, fist, feet or bodily force)\", \"total\": 1}, {\"year\": \"2016\", \"division_name\": \"Central\", \"premises_description\": \"Street\", \"weapon_description\": \"Other firearm\", \"total\": 1}, {\"year\": \"2016\", \"division_name\": \"Central\", \"premises_description\": \"Street\", \"weapon_description\": \"Strong-arm (hands, fist, feet or bodily force)\", \"total\": 1}, {\"year\": \"2016\", \"division_name\": \"Hollenbeck\", \"premises_description\": \"Park/playground\", \"weapon_description\": \"Hand gun\", \"total\": 1}, {\"year\": \"2016\", \"division_name\": \"Hollywood\", \"premises_description\": \"Parking lot\", \"weapon_description\": \"Blunt instrument\", \"total\": 1}, {\"year\": \"2016\", \"division_name\": \"Mission\", \"premises_description\": \"Parking lot\", \"weapon_description\": \"Other knife\", \"total\": 1}, {\"year\": \"2016\", \"division_name\": \"N Hollywood\", \"premises_description\": \"Sidewalk\", \"weapon_description\": \"Knife with blade 6inches or less\", \"total\": 1}, {\"year\": \"2016\", \"division_name\": \"Newton\", \"premises_description\": \"Alley\", \"weapon_description\": \"Fire\", \"total\": 1}, {\"year\": \"2016\", \"division_name\": \"Northeast\", \"premises_description\": \"Parking lot\", \"weapon_description\": \"Hand gun\", \"total\": 1}, {\"year\": \"2016\", \"division_name\": \"Northeast\", \"premises_description\": \"Sidewalk\", \"weapon_description\": \"Unknown type cutting instrument\", \"total\": 1}, {\"year\": \"2016\", \"division_name\": \"Olympic\", \"premises_description\": \"Sidewalk\", \"weapon_description\": \"Hand gun\", \"total\": 1}, {\"year\": \"2016\", \"division_name\": \"Rampart\", \"premises_description\": \"Abandoned building abandoned house\", \"weapon_description\": \"Fire\", \"total\": 4}, {\"year\": \"2016\", \"division_name\": \"Rampart\", \"premises_description\": \"Other business\", \"weapon_description\": \"Fire\", \"total\": 1}, {\"year\": \"2016\", \"division_name\": \"Rampart\", \"premises_description\": \"Sidewalk\", \"weapon_description\": \"Strong-arm (hands, fist, feet or bodily force)\", \"total\": 1}, {\"year\": \"2016\", \"division_name\": \"Rampart\", \"premises_description\": \"Street\", \"weapon_description\": \"Unknown type cutting instrument\", \"total\": 1}, {\"year\": \"2016\", \"division_name\": \"Southeast\", \"premises_description\": \"Multi-unit dwelling (apartment, duplex, etc)\", \"weapon_description\": \"Semi-automatic pistol\", \"total\": 1}, {\"year\": \"2016\", \"division_name\": \"Southeast\", \"premises_description\": \"Sidewalk\", \"weapon_description\": \"Hand gun\", \"total\": 1}, {\"year\": \"2017\", \"division_name\": \"Central\", \"premises_description\": \"Alley\", \"weapon_description\": \"Unknown firearm\", \"total\": 1}, {\"year\": \"2017\", \"division_name\": \"Central\", \"premises_description\": \"Parking lot\", \"weapon_description\": \"Strong-arm (hands, fist, feet or bodily force)\", \"total\": 1}, {\"year\": \"2017\", \"division_name\": \"Central\", \"premises_description\": \"Sidewalk\", \"weapon_description\": \"Concrete block/brick\", \"total\": 1}, {\"year\": \"2017\", \"division_name\": \"Central\", \"premises_description\": \"Sidewalk\", \"weapon_description\": \"Hand gun\", \"total\": 3}, {\"year\": \"2017\", \"division_name\": \"Central\", \"premises_description\": \"Sidewalk\", \"weapon_description\": \"Knife with blade 6inches or less\", \"total\": 1}, {\"year\": \"2017\", \"division_name\": \"Central\", \"premises_description\": \"Sidewalk\", \"weapon_description\": \"Unknown weapon/other weapon\", \"total\": 1}, {\"year\": \"2017\", \"division_name\": \"Central\", \"premises_description\": \"Street\", \"weapon_description\": \"Other cutting instrument\", \"total\": 1}, {\"year\": \"2017\", \"division_name\": \"Devonshire\", \"premises_description\": \"Parking lot\", \"weapon_description\": \"Strong-arm (hands, fist, feet or bodily force)\", \"total\": 1}, {\"year\": \"2017\", \"division_name\": \"Foothill\", \"premises_description\": \"Freeway\", \"weapon_description\": \"Strong-arm (hands, fist, feet or bodily force)\", \"total\": 1}, {\"year\": \"2017\", \"division_name\": \"Foothill\", \"premises_description\": \"Parking lot\", \"weapon_description\": \"Unknown firearm\", \"total\": 1}, {\"year\": \"2017\", \"division_name\": \"Foothill\", \"premises_description\": \"Sidewalk\", \"weapon_description\": \"Unknown firearm\", \"total\": 1}, {\"year\": \"2017\", \"division_name\": \"Hollenbeck\", \"premises_description\": \"Alley\", \"weapon_description\": \"Hand gun\", \"total\": 1}, {\"year\": \"2017\", \"division_name\": \"Hollenbeck\", \"premises_description\": \"Sidewalk\", \"weapon_description\": \"Hand gun\", \"total\": 1}, {\"year\": \"2017\", \"division_name\": \"Hollenbeck\", \"premises_description\": \"Street\", \"weapon_description\": \"Semi-automatic pistol\", \"total\": 1}, {\"year\": \"2017\", \"division_name\": \"Hollenbeck\", \"premises_description\": \"Yard (residential/business)\", \"weapon_description\": \"Concrete block/brick\", \"total\": 1}, {\"year\": \"2017\", \"division_name\": \"Hollywood\", \"premises_description\": \"Street\", \"weapon_description\": \"Knife with blade 6inches or less\", \"total\": 1}, {\"year\": \"2017\", \"division_name\": \"Mission\", \"premises_description\": \"Sidewalk\", \"weapon_description\": \"Unknown type cutting instrument\", \"total\": 1}, {\"year\": \"2017\", \"division_name\": \"N Hollywood\", \"premises_description\": \"Driveway\", \"weapon_description\": \"Hand gun\", \"total\": 1}, {\"year\": \"2017\", \"division_name\": \"Newton\", \"premises_description\": \"Sidewalk\", \"weapon_description\": \"Blunt instrument\", \"total\": 1}, {\"year\": \"2017\", \"division_name\": \"Newton\", \"premises_description\": \"Sidewalk\", \"weapon_description\": \"Hand gun\", \"total\": 1}, {\"year\": \"2017\", \"division_name\": \"Newton\", \"premises_description\": \"Sidewalk\", \"weapon_description\": \"Unknown weapon/other weapon\", \"total\": 1}, {\"year\": \"2017\", \"division_name\": \"Newton\", \"premises_description\": \"Street\", \"weapon_description\": \"Hand gun\", \"total\": 1}, {\"year\": \"2017\", \"division_name\": \"Olympic\", \"premises_description\": \"Sidewalk\", \"weapon_description\": \"Unknown weapon/other weapon\", \"total\": 1}, {\"year\": \"2017\", \"division_name\": \"Southeast\", \"premises_description\": \"Transient encampment\", \"weapon_description\": \"Unknown firearm\", \"total\": 1}, {\"year\": \"2017\", \"division_name\": \"Southwest\", \"premises_description\": \"Street\", \"weapon_description\": \"Hand gun\", \"total\": 1}, {\"year\": \"2017\", \"division_name\": \"Wilshire\", \"premises_description\": \"Alley\", \"weapon_description\": \"Knife with blade 6inches or less\", \"total\": 1}, {\"year\": \"2018\", \"division_name\": \"77th Street\", \"premises_description\": \"Alley\", \"weapon_description\": \"Semi-automatic pistol\", \"total\": 1}, {\"year\": \"2018\", \"division_name\": \"77th Street\", \"premises_description\": \"Auto supply store*\", \"weapon_description\": \"Hand gun\", \"total\": 3}, {\"year\": \"2018\", \"division_name\": \"Central\", \"premises_description\": \"Other business\", \"weapon_description\": \"Strong-arm (hands, fist, feet or bodily force)\", \"total\": 1}, {\"year\": \"2018\", \"division_name\": \"Central\", \"premises_description\": \"Sidewalk\", \"weapon_description\": \"Club/bat\", \"total\": 2}, {\"year\": \"2018\", \"division_name\": \"Central\", \"premises_description\": \"Sidewalk\", \"weapon_description\": \"Unknown type cutting instrument\", \"total\": 1}, {\"year\": \"2018\", \"division_name\": \"Central\", \"premises_description\": \"Street\", \"weapon_description\": \"Other knife\", \"total\": 1}, {\"year\": \"2018\", \"division_name\": \"Central\", \"premises_description\": \"Street\", \"weapon_description\": \"Unknown weapon/other weapon\", \"total\": 1}, {\"year\": \"2018\", \"division_name\": \"Devonshire\", \"premises_description\": \"Street\", \"weapon_description\": \"Hand gun\", \"total\": 1}, {\"year\": \"2018\", \"division_name\": \"Hollenbeck\", \"premises_description\": \"Other premise\", \"weapon_description\": \"Hand gun\", \"total\": 1}, {\"year\": \"2018\", \"division_name\": \"Hollenbeck\", \"premises_description\": \"Sidewalk\", \"weapon_description\": \"Other knife\", \"total\": 1}, {\"year\": \"2018\", \"division_name\": \"Hollenbeck\", \"premises_description\": \"Street\", \"weapon_description\": \"Hand gun\", \"total\": 1}, {\"year\": \"2018\", \"division_name\": \"Hollenbeck\", \"premises_description\": \"Underpass/bridge*\", \"weapon_description\": \"Hand gun\", \"total\": 1}, {\"year\": \"2018\", \"division_name\": \"Hollywood\", \"premises_description\": \"Freeway\", \"weapon_description\": \"Stick\", \"total\": 1}, {\"year\": \"2018\", \"division_name\": \"Hollywood\", \"premises_description\": \"Pharmacy inside store or supermarket*\", \"weapon_description\": \"Hand gun\", \"total\": 1}, {\"year\": \"2018\", \"division_name\": \"Hollywood\", \"premises_description\": \"Sidewalk\", \"weapon_description\": \"Unknown type cutting instrument\", \"total\": 1}, {\"year\": \"2018\", \"division_name\": \"Hollywood\", \"premises_description\": \"Sidewalk\", \"weapon_description\": \"Unknown weapon/other weapon\", \"total\": 1}, {\"year\": \"2018\", \"division_name\": \"Mission\", \"premises_description\": \"Hospital\", \"weapon_description\": \"Unknown firearm\", \"total\": 1}, {\"year\": \"2018\", \"division_name\": \"N Hollywood\", \"premises_description\": \"Park/playground\", \"weapon_description\": \"Other knife\", \"total\": 1}, {\"year\": \"2018\", \"division_name\": \"N Hollywood\", \"premises_description\": \"Parking lot\", \"weapon_description\": \"Knife with blade 6inches or less\", \"total\": 1}, {\"year\": \"2018\", \"division_name\": \"N Hollywood\", \"premises_description\": \"Street\", \"weapon_description\": \"Pipe/metal pipe\", \"total\": 1}, {\"year\": \"2018\", \"division_name\": \"Newton\", \"premises_description\": \"Alley\", \"weapon_description\": \"Unknown weapon/other weapon\", \"total\": 1}, {\"year\": \"2018\", \"division_name\": \"Newton\", \"premises_description\": \"Sidewalk\", \"weapon_description\": \"Other knife\", \"total\": 1}, {\"year\": \"2018\", \"division_name\": \"Northeast\", \"premises_description\": \"Park/playground\", \"weapon_description\": \"Unknown weapon/other weapon\", \"total\": 1}, {\"year\": \"2018\", \"division_name\": \"Northeast\", \"premises_description\": \"Parking lot\", \"weapon_description\": \"Strong-arm (hands, fist, feet or bodily force)\", \"total\": 1}, {\"year\": \"2018\", \"division_name\": \"Northeast\", \"premises_description\": \"Single family dwelling\", \"weapon_description\": \"Shotgun\", \"total\": 1}, {\"year\": \"2018\", \"division_name\": \"Olympic\", \"premises_description\": \"Sidewalk\", \"weapon_description\": \"Hand gun\", \"total\": 1}, {\"year\": \"2018\", \"division_name\": \"Pacific\", \"premises_description\": \"Street\", \"weapon_description\": \"Hand gun\", \"total\": 1}, {\"year\": \"2018\", \"division_name\": \"Rampart\", \"premises_description\": \"Sidewalk\", \"weapon_description\": \"Unknown type cutting instrument\", \"total\": 1}, {\"year\": \"2018\", \"division_name\": \"Southeast\", \"premises_description\": \"Sidewalk\", \"weapon_description\": \"Hand gun\", \"total\": 1}, {\"year\": \"2018\", \"division_name\": \"Southeast\", \"premises_description\": \"Sidewalk\", \"weapon_description\": \"Unknown firearm\", \"total\": 1}, {\"year\": \"2018\", \"division_name\": \"Southeast\", \"premises_description\": \"Single family dwelling\", \"weapon_description\": \"Unknown firearm\", \"total\": 1}, {\"year\": \"2018\", \"division_name\": \"Southeast\", \"premises_description\": \"Street\", \"weapon_description\": \"Semi-automatic pistol\", \"total\": 2}, {\"year\": \"2018\", \"division_name\": \"Southwest\", \"premises_description\": \"Park/playground\", \"weapon_description\": \"Rock/thrown object\", \"total\": 1}, {\"year\": \"2018\", \"division_name\": \"Southwest\", \"premises_description\": \"Street\", \"weapon_description\": \"Semi-automatic pistol\", \"total\": 1}, {\"year\": \"2018\", \"division_name\": \"Southwest\", \"premises_description\": \"Underpass/bridge*\", \"weapon_description\": \"Unknown firearm\", \"total\": 1}, {\"year\": \"2019\", \"division_name\": \"77th Street\", \"premises_description\": \"Sidewalk\", \"weapon_description\": \"Unknown firearm\", \"total\": 1}, {\"year\": \"2019\", \"division_name\": \"Central\", \"premises_description\": \"Multi-unit dwelling (apartment, duplex, etc)\", \"weapon_description\": \"Kitchen knife\", \"total\": 1}, {\"year\": \"2019\", \"division_name\": \"Central\", \"premises_description\": \"Sidewalk\", \"weapon_description\": \"Fire\", \"total\": 1}, {\"year\": \"2019\", \"division_name\": \"Central\", \"premises_description\": \"Sidewalk\", \"weapon_description\": \"Pipe/metal pipe\", \"total\": 1}, {\"year\": \"2019\", \"division_name\": \"Central\", \"premises_description\": \"Street\", \"weapon_description\": \"Hand gun\", \"total\": 1}, {\"year\": \"2019\", \"division_name\": \"Central\", \"premises_description\": \"Street\", \"weapon_description\": \"Other knife\", \"total\": 1}, {\"year\": \"2019\", \"division_name\": \"Central\", \"premises_description\": \"Street\", \"weapon_description\": \"Semi-automatic pistol\", \"total\": 1}, {\"year\": \"2019\", \"division_name\": \"Central\", \"premises_description\": \"Street\", \"weapon_description\": \"Strong-arm (hands, fist, feet or bodily force)\", \"total\": 1}, {\"year\": \"2019\", \"division_name\": \"Foothill\", \"premises_description\": \"Street\", \"weapon_description\": \"Other knife\", \"total\": 1}, {\"year\": \"2019\", \"division_name\": \"Harbor\", \"premises_description\": \"Street\", \"weapon_description\": \"Unknown type cutting instrument\", \"total\": 1}, {\"year\": \"2019\", \"division_name\": \"Hollenbeck\", \"premises_description\": \"Park/playground\", \"weapon_description\": \"Knife with blade 6inches or less\", \"total\": 1}, {\"year\": \"2019\", \"division_name\": \"Hollenbeck\", \"premises_description\": \"Street\", \"weapon_description\": \"Unknown type cutting instrument\", \"total\": 1}, {\"year\": \"2019\", \"division_name\": \"Mission\", \"premises_description\": \"Street\", \"weapon_description\": \"Strong-arm (hands, fist, feet or bodily force)\", \"total\": 2}, {\"year\": \"2019\", \"division_name\": \"N Hollywood\", \"premises_description\": \"Bus stop\", \"weapon_description\": \"Pipe/metal pipe\", \"total\": 1}, {\"year\": \"2019\", \"division_name\": \"N Hollywood\", \"premises_description\": \"Park/playground\", \"weapon_description\": \"Unknown firearm\", \"total\": 1}, {\"year\": \"2019\", \"division_name\": \"Newton\", \"premises_description\": \"Alley\", \"weapon_description\": \"Hand gun\", \"total\": 2}, {\"year\": \"2019\", \"division_name\": \"Newton\", \"premises_description\": \"Street\", \"weapon_description\": \"Hand gun\", \"total\": 1}, {\"year\": \"2019\", \"division_name\": \"Newton\", \"premises_description\": \"Street\", \"weapon_description\": \"Semi-automatic pistol\", \"total\": 2}, {\"year\": \"2019\", \"division_name\": \"Northeast\", \"premises_description\": \"Other business\", \"weapon_description\": \"Strong-arm (hands, fist, feet or bodily force)\", \"total\": 1}, {\"year\": \"2019\", \"division_name\": \"Northeast\", \"premises_description\": \"Parking lot\", \"weapon_description\": \"Hand gun\", \"total\": 1}, {\"year\": \"2019\", \"division_name\": \"Rampart\", \"premises_description\": \"Multi-unit dwelling (apartment, duplex, etc)\", \"weapon_description\": \"Revolver\", \"total\": 1}, {\"year\": \"2019\", \"division_name\": \"Rampart\", \"premises_description\": \"Sidewalk\", \"weapon_description\": \"Hand gun\", \"total\": 2}, {\"year\": \"2019\", \"division_name\": \"Southeast\", \"premises_description\": \"Sidewalk\", \"weapon_description\": \"Strong-arm (hands, fist, feet or bodily force)\", \"total\": 1}, {\"year\": \"2019\", \"division_name\": \"Southeast\", \"premises_description\": \"Sidewalk\", \"weapon_description\": \"Unknown type cutting instrument\", \"total\": 1}, {\"year\": \"2019\", \"division_name\": \"Southwest\", \"premises_description\": \"Sidewalk\", \"weapon_description\": \"Unknown firearm\", \"total\": 1}, {\"year\": \"2019\", \"division_name\": \"Van Nuys\", \"premises_description\": \"Sidewalk\", \"weapon_description\": \"Other knife\", \"total\": 1}, {\"year\": \"2019\", \"division_name\": \"West LA\", \"premises_description\": \"Parking lot\", \"weapon_description\": \"Vehicle\", \"total\": 1}, {\"year\": \"2019\", \"division_name\": \"West Valley\", \"premises_description\": \"Park/playground\", \"weapon_description\": \"Other knife\", \"total\": 1}, {\"year\": \"2019\", \"division_name\": \"West Valley\", \"premises_description\": \"Street\", \"weapon_description\": \"Hand gun\", \"total\": 1}]}};\n",
       "const opt = {};\n",
       "const type = \"vega-lite\";\n",
       "const id = \"c1d97bd5-dae2-44b3-bf34-6136a6a009ba\";\n",
       "\n",
       "const output_area = this;\n",
       "\n",
       "require([\"nbextensions/jupyter-vega/index\"], function(vega) {\n",
       "  const target = document.createElement(\"div\");\n",
       "  target.id = id;\n",
       "  target.className = \"vega-embed\";\n",
       "\n",
       "  const style = document.createElement(\"style\");\n",
       "  style.textContent = [\n",
       "    \".vega-embed .error p {\",\n",
       "    \"  color: firebrick;\",\n",
       "    \"  font-size: 14px;\",\n",
       "    \"}\",\n",
       "  ].join(\"\\\\n\");\n",
       "\n",
       "  // element is a jQuery wrapped DOM element inside the output area\n",
       "  // see http://ipython.readthedocs.io/en/stable/api/generated/\\\n",
       "  // IPython.display.html#IPython.display.Javascript.__init__\n",
       "  element[0].appendChild(target);\n",
       "  element[0].appendChild(style);\n",
       "\n",
       "  vega.render(\"#\" + id, spec, type, opt, output_area);\n",
       "}, function (err) {\n",
       "  if (err.requireType !== \"scripterror\") {\n",
       "    throw(err);\n",
       "  }\n",
       "});\n"
      ],
      "text/plain": [
       "<vega.vegalite.VegaLite at 0x151773e10>"
      ]
     },
     "metadata": {
      "jupyter-vega": "#c1d97bd5-dae2-44b3-bf34-6136a6a009ba"
     },
     "output_type": "display_data"
    },
    {
     "data": {
      "text/plain": []
     },
     "execution_count": 91,
     "metadata": {},
     "output_type": "execute_result"
    },
    {
     "data": {
      "image/png": "[encoded data removed]"
     },
     "metadata": {
      "jupyter-vega": "#c1d97bd5-dae2-44b3-bf34-6136a6a009ba"
     },
     "output_type": "display_data"
    }
   ],
   "source": [
    "chart_homeless_divisions = alt.Chart(homeless_homicides_years).mark_bar().encode(\n",
    "    y=alt.Y('division_name:N',\n",
    "        sort=alt.EncodingSortField(\n",
    "            field=\"total\",  # The field to use for the sort\n",
    "            op=\"sum\",  # The operation to run on the field prior to sorting\n",
    "            order=\"descending\"  # The order to sort in\n",
    "        ), axis=alt.Axis(format='', tickCount=5)),\n",
    "    x=alt.X(\"sum(total):Q\", title=\"Cases\", axis=alt.Axis(format='', tickCount=5))\n",
    ")\n",
    "\n",
    "chart_homeless_divisions_text = chart_homeless_divisions.mark_text(\n",
    "    align='left',\n",
    "    baseline='middle',\n",
    "    dx=3  # Nudges text to right so it doesn't appear on top of the bar\n",
    ").encode(\n",
    "    text='sum(total):Q'\n",
    ")\n",
    "\n",
    "\n",
    "(chart_homeless_divisions + chart_homeless_divisions_text)\\\n",
    ".properties(height=400, width=700, title='Homeless homicide by police division, 2016-19')"
   ]
  },
  {
   "cell_type": "code",
   "execution_count": 80,
   "metadata": {},
   "outputs": [
    {
     "data": {
      "application/javascript": [
       "const spec = {\"config\": {\"view\": {\"width\": 800, \"height\": 450}, \"background\": \"#ffffff\", \"title\": {\"anchor\": \"start\", \"font\": \"Benton Gothic Bold, sans\", \"fontColor\": \"#000000\", \"fontSize\": 22, \"fontWeight\": \"normal\"}, \"arc\": {\"fill\": \"#82c6df\"}, \"area\": {\"fill\": \"#82c6df\"}, \"line\": {\"stroke\": \"#82c6df\", \"strokeWidth\": 3}, \"path\": {\"stroke\": \"#82c6df\"}, \"rect\": {\"fill\": \"#82c6df\"}, \"shape\": {\"stroke\": \"#82c6df\"}, \"bar\": {\"fill\": \"#82c6df\"}, \"point\": {\"stroke\": \"#82c6df\"}, \"symbol\": {\"fill\": \"#82c6df\", \"size\": 30}, \"axis\": {\"titleFont\": \"Benton Gothic Bold, sans\", \"titleFontSize\": 13, \"titleFontWeight\": \"normal\", \"labelFont\": \"Benton Gothic, sans\", \"labelFontSize\": 11.5, \"labelFontWeight\": \"normal\"}, \"axisX\": {\"labelAngle\": 0, \"labelPadding\": 4, \"tickSize\": 3}, \"axisY\": {\"labelBaseline\": \"middle\", \"maxExtent\": 45, \"minExtent\": 45, \"tickSize\": 2, \"titleAlign\": \"left\", \"titleAngle\": 0, \"titleX\": -45, \"titleY\": -11}, \"legend\": {\"titleFont\": \"Benton Gothic Bold, sans\", \"titleFontSize\": 13, \"titleFontWeight\": \"normal\", \"symbolType\": \"square\", \"labelFont\": \"Benton Gothic, sans\", \"labelFontSize\": 11.5}, \"range\": {\"category\": [\"#3580b1\", \"#ec8431\", \"#ab7fb4\", \"#c89d29\", \"#adc839\", \"#829eb1\"], \"diverging\": [\"#e68a4f\", \"#f4bb6a\", \"#f9e39c\", \"#dadfe2\", \"#a6b7c6\", \"#849eae\"], \"heatmap\": [\"#fbf2c7\", \"#f9e39c\", \"#f8d36e\", \"#f4bb6a\", \"#e68a4f\", \"#d15a40\", \"#ab4232\"], \"ordinal\": [\"#fbf2c7\", \"#f9e39c\", \"#f8d36e\", \"#f4bb6a\", \"#e68a4f\", \"#d15a40\", \"#ab4232\"], \"ramp\": [\"#fbf2c7\", \"#f9e39c\", \"#f8d36e\", \"#f4bb6a\", \"#e68a4f\", \"#d15a40\", \"#ab4232\"]}}, \"layer\": [{\"mark\": \"bar\", \"encoding\": {\"x\": {\"type\": \"quantitative\", \"aggregate\": \"sum\", \"axis\": {\"format\": \"\", \"tickCount\": 5}, \"field\": \"total\", \"title\": \"Cases\"}, \"y\": {\"type\": \"nominal\", \"axis\": {\"format\": \"\", \"tickCount\": 5}, \"field\": \"weapon_description\", \"sort\": {\"field\": \"total\", \"op\": \"sum\", \"order\": \"descending\"}}}}, {\"mark\": {\"type\": \"text\", \"align\": \"left\", \"baseline\": \"middle\", \"dx\": 3}, \"encoding\": {\"text\": {\"type\": \"quantitative\", \"aggregate\": \"sum\", \"field\": \"total\"}, \"x\": {\"type\": \"quantitative\", \"aggregate\": \"sum\", \"axis\": {\"format\": \"\", \"tickCount\": 5}, \"field\": \"total\", \"title\": \"Cases\"}, \"y\": {\"type\": \"nominal\", \"axis\": {\"format\": \"\", \"tickCount\": 5}, \"field\": \"weapon_description\", \"sort\": {\"field\": \"total\", \"op\": \"sum\", \"order\": \"descending\"}}}}], \"data\": {\"name\": \"data-3adb7d0455e0659304857303b76b169b\"}, \"height\": 400, \"title\": \"Homeless homicide by weapon type, 2016-19\", \"width\": 700, \"$schema\": \"https://vega.github.io/schema/vega-lite/v3.4.0.json\", \"datasets\": {\"data-3adb7d0455e0659304857303b76b169b\": [{\"year\": \"2015\", \"division_name\": \"Central\", \"premises_description\": \"Parking lot\", \"weapon_description\": \"Strong-arm (hands, fist, feet or bodily force)\", \"total\": 1}, {\"year\": \"2015\", \"division_name\": \"Central\", \"premises_description\": \"Sidewalk\", \"weapon_description\": \"Concrete block/brick\", \"total\": 1}, {\"year\": \"2015\", \"division_name\": \"Central\", \"premises_description\": \"Sidewalk\", \"weapon_description\": \"Folding knife\", \"total\": 1}, {\"year\": \"2015\", \"division_name\": \"Central\", \"premises_description\": \"Sidewalk\", \"weapon_description\": \"Hand gun\", \"total\": 1}, {\"year\": \"2015\", \"division_name\": \"Central\", \"premises_description\": \"Single residence occupancy (sro's) locations\", \"weapon_description\": \"Other knife\", \"total\": 1}, {\"year\": \"2015\", \"division_name\": \"Foothill\", \"premises_description\": \"Underpass/bridge*\", \"weapon_description\": \"Hand gun\", \"total\": 1}, {\"year\": \"2015\", \"division_name\": \"Harbor\", \"premises_description\": \"Parking lot\", \"weapon_description\": \"Unknown firearm\", \"total\": 1}, {\"year\": \"2015\", \"division_name\": \"Hollywood\", \"premises_description\": \"Sidewalk\", \"weapon_description\": \"Other knife\", \"total\": 1}, {\"year\": \"2015\", \"division_name\": \"N Hollywood\", \"premises_description\": \"Car wash\", \"weapon_description\": \"Revolver\", \"total\": 1}, {\"year\": \"2015\", \"division_name\": \"N Hollywood\", \"premises_description\": \"Street\", \"weapon_description\": \"Unknown weapon/other weapon\", \"total\": 1}, {\"year\": \"2015\", \"division_name\": \"Northeast\", \"premises_description\": \"Park/playground\", \"weapon_description\": \"Unknown weapon/other weapon\", \"total\": 1}, {\"year\": \"2015\", \"division_name\": \"Northeast\", \"premises_description\": \"Street\", \"weapon_description\": \"Unknown weapon/other weapon\", \"total\": 1}, {\"year\": \"2015\", \"division_name\": \"Olympic\", \"premises_description\": \"Bus stop\", \"weapon_description\": \"Unknown weapon/other weapon\", \"total\": 1}, {\"year\": \"2015\", \"division_name\": \"Pacific\", \"premises_description\": \"Sidewalk\", \"weapon_description\": \"Hand gun\", \"total\": 1}, {\"year\": \"2015\", \"division_name\": \"Pacific\", \"premises_description\": \"Street\", \"weapon_description\": \"Unknown weapon/other weapon\", \"total\": 1}, {\"year\": \"2015\", \"division_name\": \"Rampart\", \"premises_description\": \"Sidewalk\", \"weapon_description\": \"Knife with blade 6inches or less\", \"total\": 1}, {\"year\": \"2015\", \"division_name\": \"Southeast\", \"premises_description\": \"Sidewalk\", \"weapon_description\": \"Strong-arm (hands, fist, feet or bodily force)\", \"total\": 1}, {\"year\": \"2016\", \"division_name\": \"Central\", \"premises_description\": \"Missions/shelters\", \"weapon_description\": \"Unknown type cutting instrument\", \"total\": 1}, {\"year\": \"2016\", \"division_name\": \"Central\", \"premises_description\": \"Sidewalk\", \"weapon_description\": \"Hand gun\", \"total\": 1}, {\"year\": \"2016\", \"division_name\": \"Central\", \"premises_description\": \"Sidewalk\", \"weapon_description\": \"Strong-arm (hands, fist, feet or bodily force)\", \"total\": 1}, {\"year\": \"2016\", \"division_name\": \"Central\", \"premises_description\": \"Street\", \"weapon_description\": \"Other firearm\", \"total\": 1}, {\"year\": \"2016\", \"division_name\": \"Central\", \"premises_description\": \"Street\", \"weapon_description\": \"Strong-arm (hands, fist, feet or bodily force)\", \"total\": 1}, {\"year\": \"2016\", \"division_name\": \"Hollenbeck\", \"premises_description\": \"Park/playground\", \"weapon_description\": \"Hand gun\", \"total\": 1}, {\"year\": \"2016\", \"division_name\": \"Hollywood\", \"premises_description\": \"Parking lot\", \"weapon_description\": \"Blunt instrument\", \"total\": 1}, {\"year\": \"2016\", \"division_name\": \"Mission\", \"premises_description\": \"Parking lot\", \"weapon_description\": \"Other knife\", \"total\": 1}, {\"year\": \"2016\", \"division_name\": \"N Hollywood\", \"premises_description\": \"Sidewalk\", \"weapon_description\": \"Knife with blade 6inches or less\", \"total\": 1}, {\"year\": \"2016\", \"division_name\": \"Newton\", \"premises_description\": \"Alley\", \"weapon_description\": \"Fire\", \"total\": 1}, {\"year\": \"2016\", \"division_name\": \"Northeast\", \"premises_description\": \"Parking lot\", \"weapon_description\": \"Hand gun\", \"total\": 1}, {\"year\": \"2016\", \"division_name\": \"Northeast\", \"premises_description\": \"Sidewalk\", \"weapon_description\": \"Unknown type cutting instrument\", \"total\": 1}, {\"year\": \"2016\", \"division_name\": \"Olympic\", \"premises_description\": \"Sidewalk\", \"weapon_description\": \"Hand gun\", \"total\": 1}, {\"year\": \"2016\", \"division_name\": \"Rampart\", \"premises_description\": \"Abandoned building abandoned house\", \"weapon_description\": \"Fire\", \"total\": 4}, {\"year\": \"2016\", \"division_name\": \"Rampart\", \"premises_description\": \"Other business\", \"weapon_description\": \"Fire\", \"total\": 1}, {\"year\": \"2016\", \"division_name\": \"Rampart\", \"premises_description\": \"Sidewalk\", \"weapon_description\": \"Strong-arm (hands, fist, feet or bodily force)\", \"total\": 1}, {\"year\": \"2016\", \"division_name\": \"Rampart\", \"premises_description\": \"Street\", \"weapon_description\": \"Unknown type cutting instrument\", \"total\": 1}, {\"year\": \"2016\", \"division_name\": \"Southeast\", \"premises_description\": \"Multi-unit dwelling (apartment, duplex, etc)\", \"weapon_description\": \"Semi-automatic pistol\", \"total\": 1}, {\"year\": \"2016\", \"division_name\": \"Southeast\", \"premises_description\": \"Sidewalk\", \"weapon_description\": \"Hand gun\", \"total\": 1}, {\"year\": \"2017\", \"division_name\": \"Central\", \"premises_description\": \"Alley\", \"weapon_description\": \"Unknown firearm\", \"total\": 1}, {\"year\": \"2017\", \"division_name\": \"Central\", \"premises_description\": \"Parking lot\", \"weapon_description\": \"Strong-arm (hands, fist, feet or bodily force)\", \"total\": 1}, {\"year\": \"2017\", \"division_name\": \"Central\", \"premises_description\": \"Sidewalk\", \"weapon_description\": \"Concrete block/brick\", \"total\": 1}, {\"year\": \"2017\", \"division_name\": \"Central\", \"premises_description\": \"Sidewalk\", \"weapon_description\": \"Hand gun\", \"total\": 3}, {\"year\": \"2017\", \"division_name\": \"Central\", \"premises_description\": \"Sidewalk\", \"weapon_description\": \"Knife with blade 6inches or less\", \"total\": 1}, {\"year\": \"2017\", \"division_name\": \"Central\", \"premises_description\": \"Sidewalk\", \"weapon_description\": \"Unknown weapon/other weapon\", \"total\": 1}, {\"year\": \"2017\", \"division_name\": \"Central\", \"premises_description\": \"Street\", \"weapon_description\": \"Other cutting instrument\", \"total\": 1}, {\"year\": \"2017\", \"division_name\": \"Devonshire\", \"premises_description\": \"Parking lot\", \"weapon_description\": \"Strong-arm (hands, fist, feet or bodily force)\", \"total\": 1}, {\"year\": \"2017\", \"division_name\": \"Foothill\", \"premises_description\": \"Freeway\", \"weapon_description\": \"Strong-arm (hands, fist, feet or bodily force)\", \"total\": 1}, {\"year\": \"2017\", \"division_name\": \"Foothill\", \"premises_description\": \"Parking lot\", \"weapon_description\": \"Unknown firearm\", \"total\": 1}, {\"year\": \"2017\", \"division_name\": \"Foothill\", \"premises_description\": \"Sidewalk\", \"weapon_description\": \"Unknown firearm\", \"total\": 1}, {\"year\": \"2017\", \"division_name\": \"Hollenbeck\", \"premises_description\": \"Alley\", \"weapon_description\": \"Hand gun\", \"total\": 1}, {\"year\": \"2017\", \"division_name\": \"Hollenbeck\", \"premises_description\": \"Sidewalk\", \"weapon_description\": \"Hand gun\", \"total\": 1}, {\"year\": \"2017\", \"division_name\": \"Hollenbeck\", \"premises_description\": \"Street\", \"weapon_description\": \"Semi-automatic pistol\", \"total\": 1}, {\"year\": \"2017\", \"division_name\": \"Hollenbeck\", \"premises_description\": \"Yard (residential/business)\", \"weapon_description\": \"Concrete block/brick\", \"total\": 1}, {\"year\": \"2017\", \"division_name\": \"Hollywood\", \"premises_description\": \"Street\", \"weapon_description\": \"Knife with blade 6inches or less\", \"total\": 1}, {\"year\": \"2017\", \"division_name\": \"Mission\", \"premises_description\": \"Sidewalk\", \"weapon_description\": \"Unknown type cutting instrument\", \"total\": 1}, {\"year\": \"2017\", \"division_name\": \"N Hollywood\", \"premises_description\": \"Driveway\", \"weapon_description\": \"Hand gun\", \"total\": 1}, {\"year\": \"2017\", \"division_name\": \"Newton\", \"premises_description\": \"Sidewalk\", \"weapon_description\": \"Blunt instrument\", \"total\": 1}, {\"year\": \"2017\", \"division_name\": \"Newton\", \"premises_description\": \"Sidewalk\", \"weapon_description\": \"Hand gun\", \"total\": 1}, {\"year\": \"2017\", \"division_name\": \"Newton\", \"premises_description\": \"Sidewalk\", \"weapon_description\": \"Unknown weapon/other weapon\", \"total\": 1}, {\"year\": \"2017\", \"division_name\": \"Newton\", \"premises_description\": \"Street\", \"weapon_description\": \"Hand gun\", \"total\": 1}, {\"year\": \"2017\", \"division_name\": \"Olympic\", \"premises_description\": \"Sidewalk\", \"weapon_description\": \"Unknown weapon/other weapon\", \"total\": 1}, {\"year\": \"2017\", \"division_name\": \"Southeast\", \"premises_description\": \"Transient encampment\", \"weapon_description\": \"Unknown firearm\", \"total\": 1}, {\"year\": \"2017\", \"division_name\": \"Southwest\", \"premises_description\": \"Street\", \"weapon_description\": \"Hand gun\", \"total\": 1}, {\"year\": \"2017\", \"division_name\": \"Wilshire\", \"premises_description\": \"Alley\", \"weapon_description\": \"Knife with blade 6inches or less\", \"total\": 1}, {\"year\": \"2018\", \"division_name\": \"77th Street\", \"premises_description\": \"Alley\", \"weapon_description\": \"Semi-automatic pistol\", \"total\": 1}, {\"year\": \"2018\", \"division_name\": \"77th Street\", \"premises_description\": \"Auto supply store*\", \"weapon_description\": \"Hand gun\", \"total\": 3}, {\"year\": \"2018\", \"division_name\": \"Central\", \"premises_description\": \"Other business\", \"weapon_description\": \"Strong-arm (hands, fist, feet or bodily force)\", \"total\": 1}, {\"year\": \"2018\", \"division_name\": \"Central\", \"premises_description\": \"Sidewalk\", \"weapon_description\": \"Club/bat\", \"total\": 2}, {\"year\": \"2018\", \"division_name\": \"Central\", \"premises_description\": \"Sidewalk\", \"weapon_description\": \"Unknown type cutting instrument\", \"total\": 1}, {\"year\": \"2018\", \"division_name\": \"Central\", \"premises_description\": \"Street\", \"weapon_description\": \"Other knife\", \"total\": 1}, {\"year\": \"2018\", \"division_name\": \"Central\", \"premises_description\": \"Street\", \"weapon_description\": \"Unknown weapon/other weapon\", \"total\": 1}, {\"year\": \"2018\", \"division_name\": \"Devonshire\", \"premises_description\": \"Street\", \"weapon_description\": \"Hand gun\", \"total\": 1}, {\"year\": \"2018\", \"division_name\": \"Hollenbeck\", \"premises_description\": \"Other premise\", \"weapon_description\": \"Hand gun\", \"total\": 1}, {\"year\": \"2018\", \"division_name\": \"Hollenbeck\", \"premises_description\": \"Sidewalk\", \"weapon_description\": \"Other knife\", \"total\": 1}, {\"year\": \"2018\", \"division_name\": \"Hollenbeck\", \"premises_description\": \"Street\", \"weapon_description\": \"Hand gun\", \"total\": 1}, {\"year\": \"2018\", \"division_name\": \"Hollenbeck\", \"premises_description\": \"Underpass/bridge*\", \"weapon_description\": \"Hand gun\", \"total\": 1}, {\"year\": \"2018\", \"division_name\": \"Hollywood\", \"premises_description\": \"Freeway\", \"weapon_description\": \"Stick\", \"total\": 1}, {\"year\": \"2018\", \"division_name\": \"Hollywood\", \"premises_description\": \"Pharmacy inside store or supermarket*\", \"weapon_description\": \"Hand gun\", \"total\": 1}, {\"year\": \"2018\", \"division_name\": \"Hollywood\", \"premises_description\": \"Sidewalk\", \"weapon_description\": \"Unknown type cutting instrument\", \"total\": 1}, {\"year\": \"2018\", \"division_name\": \"Hollywood\", \"premises_description\": \"Sidewalk\", \"weapon_description\": \"Unknown weapon/other weapon\", \"total\": 1}, {\"year\": \"2018\", \"division_name\": \"Mission\", \"premises_description\": \"Hospital\", \"weapon_description\": \"Unknown firearm\", \"total\": 1}, {\"year\": \"2018\", \"division_name\": \"N Hollywood\", \"premises_description\": \"Park/playground\", \"weapon_description\": \"Other knife\", \"total\": 1}, {\"year\": \"2018\", \"division_name\": \"N Hollywood\", \"premises_description\": \"Parking lot\", \"weapon_description\": \"Knife with blade 6inches or less\", \"total\": 1}, {\"year\": \"2018\", \"division_name\": \"N Hollywood\", \"premises_description\": \"Street\", \"weapon_description\": \"Pipe/metal pipe\", \"total\": 1}, {\"year\": \"2018\", \"division_name\": \"Newton\", \"premises_description\": \"Alley\", \"weapon_description\": \"Unknown weapon/other weapon\", \"total\": 1}, {\"year\": \"2018\", \"division_name\": \"Newton\", \"premises_description\": \"Sidewalk\", \"weapon_description\": \"Other knife\", \"total\": 1}, {\"year\": \"2018\", \"division_name\": \"Northeast\", \"premises_description\": \"Park/playground\", \"weapon_description\": \"Unknown weapon/other weapon\", \"total\": 1}, {\"year\": \"2018\", \"division_name\": \"Northeast\", \"premises_description\": \"Parking lot\", \"weapon_description\": \"Strong-arm (hands, fist, feet or bodily force)\", \"total\": 1}, {\"year\": \"2018\", \"division_name\": \"Northeast\", \"premises_description\": \"Single family dwelling\", \"weapon_description\": \"Shotgun\", \"total\": 1}, {\"year\": \"2018\", \"division_name\": \"Olympic\", \"premises_description\": \"Sidewalk\", \"weapon_description\": \"Hand gun\", \"total\": 1}, {\"year\": \"2018\", \"division_name\": \"Pacific\", \"premises_description\": \"Street\", \"weapon_description\": \"Hand gun\", \"total\": 1}, {\"year\": \"2018\", \"division_name\": \"Rampart\", \"premises_description\": \"Sidewalk\", \"weapon_description\": \"Unknown type cutting instrument\", \"total\": 1}, {\"year\": \"2018\", \"division_name\": \"Southeast\", \"premises_description\": \"Sidewalk\", \"weapon_description\": \"Hand gun\", \"total\": 1}, {\"year\": \"2018\", \"division_name\": \"Southeast\", \"premises_description\": \"Sidewalk\", \"weapon_description\": \"Unknown firearm\", \"total\": 1}, {\"year\": \"2018\", \"division_name\": \"Southeast\", \"premises_description\": \"Single family dwelling\", \"weapon_description\": \"Unknown firearm\", \"total\": 1}, {\"year\": \"2018\", \"division_name\": \"Southeast\", \"premises_description\": \"Street\", \"weapon_description\": \"Semi-automatic pistol\", \"total\": 2}, {\"year\": \"2018\", \"division_name\": \"Southwest\", \"premises_description\": \"Park/playground\", \"weapon_description\": \"Rock/thrown object\", \"total\": 1}, {\"year\": \"2018\", \"division_name\": \"Southwest\", \"premises_description\": \"Street\", \"weapon_description\": \"Semi-automatic pistol\", \"total\": 1}, {\"year\": \"2018\", \"division_name\": \"Southwest\", \"premises_description\": \"Underpass/bridge*\", \"weapon_description\": \"Unknown firearm\", \"total\": 1}, {\"year\": \"2019\", \"division_name\": \"77th Street\", \"premises_description\": \"Sidewalk\", \"weapon_description\": \"Unknown firearm\", \"total\": 1}, {\"year\": \"2019\", \"division_name\": \"Central\", \"premises_description\": \"Multi-unit dwelling (apartment, duplex, etc)\", \"weapon_description\": \"Kitchen knife\", \"total\": 1}, {\"year\": \"2019\", \"division_name\": \"Central\", \"premises_description\": \"Sidewalk\", \"weapon_description\": \"Fire\", \"total\": 1}, {\"year\": \"2019\", \"division_name\": \"Central\", \"premises_description\": \"Sidewalk\", \"weapon_description\": \"Pipe/metal pipe\", \"total\": 1}, {\"year\": \"2019\", \"division_name\": \"Central\", \"premises_description\": \"Street\", \"weapon_description\": \"Hand gun\", \"total\": 1}, {\"year\": \"2019\", \"division_name\": \"Central\", \"premises_description\": \"Street\", \"weapon_description\": \"Other knife\", \"total\": 1}, {\"year\": \"2019\", \"division_name\": \"Central\", \"premises_description\": \"Street\", \"weapon_description\": \"Semi-automatic pistol\", \"total\": 1}, {\"year\": \"2019\", \"division_name\": \"Central\", \"premises_description\": \"Street\", \"weapon_description\": \"Strong-arm (hands, fist, feet or bodily force)\", \"total\": 1}, {\"year\": \"2019\", \"division_name\": \"Foothill\", \"premises_description\": \"Street\", \"weapon_description\": \"Other knife\", \"total\": 1}, {\"year\": \"2019\", \"division_name\": \"Harbor\", \"premises_description\": \"Street\", \"weapon_description\": \"Unknown type cutting instrument\", \"total\": 1}, {\"year\": \"2019\", \"division_name\": \"Hollenbeck\", \"premises_description\": \"Park/playground\", \"weapon_description\": \"Knife with blade 6inches or less\", \"total\": 1}, {\"year\": \"2019\", \"division_name\": \"Hollenbeck\", \"premises_description\": \"Street\", \"weapon_description\": \"Unknown type cutting instrument\", \"total\": 1}, {\"year\": \"2019\", \"division_name\": \"Mission\", \"premises_description\": \"Street\", \"weapon_description\": \"Strong-arm (hands, fist, feet or bodily force)\", \"total\": 2}, {\"year\": \"2019\", \"division_name\": \"N Hollywood\", \"premises_description\": \"Bus stop\", \"weapon_description\": \"Pipe/metal pipe\", \"total\": 1}, {\"year\": \"2019\", \"division_name\": \"N Hollywood\", \"premises_description\": \"Park/playground\", \"weapon_description\": \"Unknown firearm\", \"total\": 1}, {\"year\": \"2019\", \"division_name\": \"Newton\", \"premises_description\": \"Alley\", \"weapon_description\": \"Hand gun\", \"total\": 2}, {\"year\": \"2019\", \"division_name\": \"Newton\", \"premises_description\": \"Street\", \"weapon_description\": \"Hand gun\", \"total\": 1}, {\"year\": \"2019\", \"division_name\": \"Newton\", \"premises_description\": \"Street\", \"weapon_description\": \"Semi-automatic pistol\", \"total\": 2}, {\"year\": \"2019\", \"division_name\": \"Northeast\", \"premises_description\": \"Other business\", \"weapon_description\": \"Strong-arm (hands, fist, feet or bodily force)\", \"total\": 1}, {\"year\": \"2019\", \"division_name\": \"Northeast\", \"premises_description\": \"Parking lot\", \"weapon_description\": \"Hand gun\", \"total\": 1}, {\"year\": \"2019\", \"division_name\": \"Rampart\", \"premises_description\": \"Multi-unit dwelling (apartment, duplex, etc)\", \"weapon_description\": \"Revolver\", \"total\": 1}, {\"year\": \"2019\", \"division_name\": \"Rampart\", \"premises_description\": \"Sidewalk\", \"weapon_description\": \"Hand gun\", \"total\": 2}, {\"year\": \"2019\", \"division_name\": \"Southeast\", \"premises_description\": \"Sidewalk\", \"weapon_description\": \"Strong-arm (hands, fist, feet or bodily force)\", \"total\": 1}, {\"year\": \"2019\", \"division_name\": \"Southeast\", \"premises_description\": \"Sidewalk\", \"weapon_description\": \"Unknown type cutting instrument\", \"total\": 1}, {\"year\": \"2019\", \"division_name\": \"Southwest\", \"premises_description\": \"Sidewalk\", \"weapon_description\": \"Unknown firearm\", \"total\": 1}, {\"year\": \"2019\", \"division_name\": \"Van Nuys\", \"premises_description\": \"Sidewalk\", \"weapon_description\": \"Other knife\", \"total\": 1}, {\"year\": \"2019\", \"division_name\": \"West LA\", \"premises_description\": \"Parking lot\", \"weapon_description\": \"Vehicle\", \"total\": 1}, {\"year\": \"2019\", \"division_name\": \"West Valley\", \"premises_description\": \"Park/playground\", \"weapon_description\": \"Other knife\", \"total\": 1}, {\"year\": \"2019\", \"division_name\": \"West Valley\", \"premises_description\": \"Street\", \"weapon_description\": \"Hand gun\", \"total\": 1}]}};\n",
       "const opt = {};\n",
       "const type = \"vega-lite\";\n",
       "const id = \"f3f0f2bb-7520-4541-ae4f-2d32881100d2\";\n",
       "\n",
       "const output_area = this;\n",
       "\n",
       "require([\"nbextensions/jupyter-vega/index\"], function(vega) {\n",
       "  const target = document.createElement(\"div\");\n",
       "  target.id = id;\n",
       "  target.className = \"vega-embed\";\n",
       "\n",
       "  const style = document.createElement(\"style\");\n",
       "  style.textContent = [\n",
       "    \".vega-embed .error p {\",\n",
       "    \"  color: firebrick;\",\n",
       "    \"  font-size: 14px;\",\n",
       "    \"}\",\n",
       "  ].join(\"\\\\n\");\n",
       "\n",
       "  // element is a jQuery wrapped DOM element inside the output area\n",
       "  // see http://ipython.readthedocs.io/en/stable/api/generated/\\\n",
       "  // IPython.display.html#IPython.display.Javascript.__init__\n",
       "  element[0].appendChild(target);\n",
       "  element[0].appendChild(style);\n",
       "\n",
       "  vega.render(\"#\" + id, spec, type, opt, output_area);\n",
       "}, function (err) {\n",
       "  if (err.requireType !== \"scripterror\") {\n",
       "    throw(err);\n",
       "  }\n",
       "});\n"
      ],
      "text/plain": [
       "<vega.vegalite.VegaLite at 0x1516c9470>"
      ]
     },
     "metadata": {
      "jupyter-vega": "#f3f0f2bb-7520-4541-ae4f-2d32881100d2"
     },
     "output_type": "display_data"
    },
    {
     "data": {
      "text/plain": []
     },
     "execution_count": 80,
     "metadata": {},
     "output_type": "execute_result"
    },
    {
     "data": {
      "image/png": "[encoded data removed]"
     },
     "metadata": {
      "jupyter-vega": "#f3f0f2bb-7520-4541-ae4f-2d32881100d2"
     },
     "output_type": "display_data"
    }
   ],
   "source": [
    "chart_homeless_weapon = alt.Chart(homeless_homicides_years).mark_bar().encode(\n",
    "    y=alt.Y('weapon_description:N',\n",
    "        sort=alt.EncodingSortField(\n",
    "            field=\"total\",  # The field to use for the sort\n",
    "            op=\"sum\",  # The operation to run on the field prior to sorting\n",
    "            order=\"descending\"  # The order to sort in\n",
    "        ), axis=alt.Axis(format='', tickCount=5)),\n",
    "    x=alt.X(\"sum(total):Q\", title=\"Cases\", axis=alt.Axis(format='', tickCount=5))\n",
    ")\n",
    "\n",
    "chart_homeless_weapon_text = chart_homeless_weapon.mark_text(\n",
    "    align='left',\n",
    "    baseline='middle',\n",
    "    dx=3  # Nudges text to right so it doesn't appear on top of the bar\n",
    ").encode(\n",
    "    text='sum(total):Q'\n",
    ")\n",
    "\n",
    "(chart_homeless_weapon + chart_homeless_weapon_text)\\\n",
    "    .properties(height=400, width=700, title='Homeless homicide by weapon type, 2016-19')"
   ]
  },
  {
   "cell_type": "code",
   "execution_count": 81,
   "metadata": {},
   "outputs": [
    {
     "data": {
      "application/javascript": [
       "const spec = {\"config\": {\"view\": {\"width\": 800, \"height\": 450}, \"background\": \"#ffffff\", \"title\": {\"anchor\": \"start\", \"font\": \"Benton Gothic Bold, sans\", \"fontColor\": \"#000000\", \"fontSize\": 22, \"fontWeight\": \"normal\"}, \"arc\": {\"fill\": \"#82c6df\"}, \"area\": {\"fill\": \"#82c6df\"}, \"line\": {\"stroke\": \"#82c6df\", \"strokeWidth\": 3}, \"path\": {\"stroke\": \"#82c6df\"}, \"rect\": {\"fill\": \"#82c6df\"}, \"shape\": {\"stroke\": \"#82c6df\"}, \"bar\": {\"fill\": \"#82c6df\"}, \"point\": {\"stroke\": \"#82c6df\"}, \"symbol\": {\"fill\": \"#82c6df\", \"size\": 30}, \"axis\": {\"titleFont\": \"Benton Gothic Bold, sans\", \"titleFontSize\": 13, \"titleFontWeight\": \"normal\", \"labelFont\": \"Benton Gothic, sans\", \"labelFontSize\": 11.5, \"labelFontWeight\": \"normal\"}, \"axisX\": {\"labelAngle\": 0, \"labelPadding\": 4, \"tickSize\": 3}, \"axisY\": {\"labelBaseline\": \"middle\", \"maxExtent\": 45, \"minExtent\": 45, \"tickSize\": 2, \"titleAlign\": \"left\", \"titleAngle\": 0, \"titleX\": -45, \"titleY\": -11}, \"legend\": {\"titleFont\": \"Benton Gothic Bold, sans\", \"titleFontSize\": 13, \"titleFontWeight\": \"normal\", \"symbolType\": \"square\", \"labelFont\": \"Benton Gothic, sans\", \"labelFontSize\": 11.5}, \"range\": {\"category\": [\"#3580b1\", \"#ec8431\", \"#ab7fb4\", \"#c89d29\", \"#adc839\", \"#829eb1\"], \"diverging\": [\"#e68a4f\", \"#f4bb6a\", \"#f9e39c\", \"#dadfe2\", \"#a6b7c6\", \"#849eae\"], \"heatmap\": [\"#fbf2c7\", \"#f9e39c\", \"#f8d36e\", \"#f4bb6a\", \"#e68a4f\", \"#d15a40\", \"#ab4232\"], \"ordinal\": [\"#fbf2c7\", \"#f9e39c\", \"#f8d36e\", \"#f4bb6a\", \"#e68a4f\", \"#d15a40\", \"#ab4232\"], \"ramp\": [\"#fbf2c7\", \"#f9e39c\", \"#f8d36e\", \"#f4bb6a\", \"#e68a4f\", \"#d15a40\", \"#ab4232\"]}}, \"layer\": [{\"mark\": \"bar\", \"encoding\": {\"x\": {\"type\": \"quantitative\", \"aggregate\": \"sum\", \"axis\": {\"format\": \"\", \"tickCount\": 5}, \"field\": \"total\", \"title\": \"Cases\"}, \"y\": {\"type\": \"nominal\", \"axis\": {\"format\": \"\", \"tickCount\": 5}, \"field\": \"premises_description\", \"sort\": {\"field\": \"total\", \"op\": \"sum\", \"order\": \"descending\"}}}}, {\"mark\": {\"type\": \"text\", \"align\": \"left\", \"baseline\": \"middle\", \"dx\": 3}, \"encoding\": {\"text\": {\"type\": \"quantitative\", \"aggregate\": \"sum\", \"field\": \"total\"}, \"x\": {\"type\": \"quantitative\", \"aggregate\": \"sum\", \"axis\": {\"format\": \"\", \"tickCount\": 5}, \"field\": \"total\", \"title\": \"Cases\"}, \"y\": {\"type\": \"nominal\", \"axis\": {\"format\": \"\", \"tickCount\": 5}, \"field\": \"premises_description\", \"sort\": {\"field\": \"total\", \"op\": \"sum\", \"order\": \"descending\"}}}}], \"data\": {\"name\": \"data-3adb7d0455e0659304857303b76b169b\"}, \"height\": 400, \"title\": \"Homeless homicide by location type, 2016-19\", \"width\": 700, \"$schema\": \"https://vega.github.io/schema/vega-lite/v3.4.0.json\", \"datasets\": {\"data-3adb7d0455e0659304857303b76b169b\": [{\"year\": \"2015\", \"division_name\": \"Central\", \"premises_description\": \"Parking lot\", \"weapon_description\": \"Strong-arm (hands, fist, feet or bodily force)\", \"total\": 1}, {\"year\": \"2015\", \"division_name\": \"Central\", \"premises_description\": \"Sidewalk\", \"weapon_description\": \"Concrete block/brick\", \"total\": 1}, {\"year\": \"2015\", \"division_name\": \"Central\", \"premises_description\": \"Sidewalk\", \"weapon_description\": \"Folding knife\", \"total\": 1}, {\"year\": \"2015\", \"division_name\": \"Central\", \"premises_description\": \"Sidewalk\", \"weapon_description\": \"Hand gun\", \"total\": 1}, {\"year\": \"2015\", \"division_name\": \"Central\", \"premises_description\": \"Single residence occupancy (sro's) locations\", \"weapon_description\": \"Other knife\", \"total\": 1}, {\"year\": \"2015\", \"division_name\": \"Foothill\", \"premises_description\": \"Underpass/bridge*\", \"weapon_description\": \"Hand gun\", \"total\": 1}, {\"year\": \"2015\", \"division_name\": \"Harbor\", \"premises_description\": \"Parking lot\", \"weapon_description\": \"Unknown firearm\", \"total\": 1}, {\"year\": \"2015\", \"division_name\": \"Hollywood\", \"premises_description\": \"Sidewalk\", \"weapon_description\": \"Other knife\", \"total\": 1}, {\"year\": \"2015\", \"division_name\": \"N Hollywood\", \"premises_description\": \"Car wash\", \"weapon_description\": \"Revolver\", \"total\": 1}, {\"year\": \"2015\", \"division_name\": \"N Hollywood\", \"premises_description\": \"Street\", \"weapon_description\": \"Unknown weapon/other weapon\", \"total\": 1}, {\"year\": \"2015\", \"division_name\": \"Northeast\", \"premises_description\": \"Park/playground\", \"weapon_description\": \"Unknown weapon/other weapon\", \"total\": 1}, {\"year\": \"2015\", \"division_name\": \"Northeast\", \"premises_description\": \"Street\", \"weapon_description\": \"Unknown weapon/other weapon\", \"total\": 1}, {\"year\": \"2015\", \"division_name\": \"Olympic\", \"premises_description\": \"Bus stop\", \"weapon_description\": \"Unknown weapon/other weapon\", \"total\": 1}, {\"year\": \"2015\", \"division_name\": \"Pacific\", \"premises_description\": \"Sidewalk\", \"weapon_description\": \"Hand gun\", \"total\": 1}, {\"year\": \"2015\", \"division_name\": \"Pacific\", \"premises_description\": \"Street\", \"weapon_description\": \"Unknown weapon/other weapon\", \"total\": 1}, {\"year\": \"2015\", \"division_name\": \"Rampart\", \"premises_description\": \"Sidewalk\", \"weapon_description\": \"Knife with blade 6inches or less\", \"total\": 1}, {\"year\": \"2015\", \"division_name\": \"Southeast\", \"premises_description\": \"Sidewalk\", \"weapon_description\": \"Strong-arm (hands, fist, feet or bodily force)\", \"total\": 1}, {\"year\": \"2016\", \"division_name\": \"Central\", \"premises_description\": \"Missions/shelters\", \"weapon_description\": \"Unknown type cutting instrument\", \"total\": 1}, {\"year\": \"2016\", \"division_name\": \"Central\", \"premises_description\": \"Sidewalk\", \"weapon_description\": \"Hand gun\", \"total\": 1}, {\"year\": \"2016\", \"division_name\": \"Central\", \"premises_description\": \"Sidewalk\", \"weapon_description\": \"Strong-arm (hands, fist, feet or bodily force)\", \"total\": 1}, {\"year\": \"2016\", \"division_name\": \"Central\", \"premises_description\": \"Street\", \"weapon_description\": \"Other firearm\", \"total\": 1}, {\"year\": \"2016\", \"division_name\": \"Central\", \"premises_description\": \"Street\", \"weapon_description\": \"Strong-arm (hands, fist, feet or bodily force)\", \"total\": 1}, {\"year\": \"2016\", \"division_name\": \"Hollenbeck\", \"premises_description\": \"Park/playground\", \"weapon_description\": \"Hand gun\", \"total\": 1}, {\"year\": \"2016\", \"division_name\": \"Hollywood\", \"premises_description\": \"Parking lot\", \"weapon_description\": \"Blunt instrument\", \"total\": 1}, {\"year\": \"2016\", \"division_name\": \"Mission\", \"premises_description\": \"Parking lot\", \"weapon_description\": \"Other knife\", \"total\": 1}, {\"year\": \"2016\", \"division_name\": \"N Hollywood\", \"premises_description\": \"Sidewalk\", \"weapon_description\": \"Knife with blade 6inches or less\", \"total\": 1}, {\"year\": \"2016\", \"division_name\": \"Newton\", \"premises_description\": \"Alley\", \"weapon_description\": \"Fire\", \"total\": 1}, {\"year\": \"2016\", \"division_name\": \"Northeast\", \"premises_description\": \"Parking lot\", \"weapon_description\": \"Hand gun\", \"total\": 1}, {\"year\": \"2016\", \"division_name\": \"Northeast\", \"premises_description\": \"Sidewalk\", \"weapon_description\": \"Unknown type cutting instrument\", \"total\": 1}, {\"year\": \"2016\", \"division_name\": \"Olympic\", \"premises_description\": \"Sidewalk\", \"weapon_description\": \"Hand gun\", \"total\": 1}, {\"year\": \"2016\", \"division_name\": \"Rampart\", \"premises_description\": \"Abandoned building abandoned house\", \"weapon_description\": \"Fire\", \"total\": 4}, {\"year\": \"2016\", \"division_name\": \"Rampart\", \"premises_description\": \"Other business\", \"weapon_description\": \"Fire\", \"total\": 1}, {\"year\": \"2016\", \"division_name\": \"Rampart\", \"premises_description\": \"Sidewalk\", \"weapon_description\": \"Strong-arm (hands, fist, feet or bodily force)\", \"total\": 1}, {\"year\": \"2016\", \"division_name\": \"Rampart\", \"premises_description\": \"Street\", \"weapon_description\": \"Unknown type cutting instrument\", \"total\": 1}, {\"year\": \"2016\", \"division_name\": \"Southeast\", \"premises_description\": \"Multi-unit dwelling (apartment, duplex, etc)\", \"weapon_description\": \"Semi-automatic pistol\", \"total\": 1}, {\"year\": \"2016\", \"division_name\": \"Southeast\", \"premises_description\": \"Sidewalk\", \"weapon_description\": \"Hand gun\", \"total\": 1}, {\"year\": \"2017\", \"division_name\": \"Central\", \"premises_description\": \"Alley\", \"weapon_description\": \"Unknown firearm\", \"total\": 1}, {\"year\": \"2017\", \"division_name\": \"Central\", \"premises_description\": \"Parking lot\", \"weapon_description\": \"Strong-arm (hands, fist, feet or bodily force)\", \"total\": 1}, {\"year\": \"2017\", \"division_name\": \"Central\", \"premises_description\": \"Sidewalk\", \"weapon_description\": \"Concrete block/brick\", \"total\": 1}, {\"year\": \"2017\", \"division_name\": \"Central\", \"premises_description\": \"Sidewalk\", \"weapon_description\": \"Hand gun\", \"total\": 3}, {\"year\": \"2017\", \"division_name\": \"Central\", \"premises_description\": \"Sidewalk\", \"weapon_description\": \"Knife with blade 6inches or less\", \"total\": 1}, {\"year\": \"2017\", \"division_name\": \"Central\", \"premises_description\": \"Sidewalk\", \"weapon_description\": \"Unknown weapon/other weapon\", \"total\": 1}, {\"year\": \"2017\", \"division_name\": \"Central\", \"premises_description\": \"Street\", \"weapon_description\": \"Other cutting instrument\", \"total\": 1}, {\"year\": \"2017\", \"division_name\": \"Devonshire\", \"premises_description\": \"Parking lot\", \"weapon_description\": \"Strong-arm (hands, fist, feet or bodily force)\", \"total\": 1}, {\"year\": \"2017\", \"division_name\": \"Foothill\", \"premises_description\": \"Freeway\", \"weapon_description\": \"Strong-arm (hands, fist, feet or bodily force)\", \"total\": 1}, {\"year\": \"2017\", \"division_name\": \"Foothill\", \"premises_description\": \"Parking lot\", \"weapon_description\": \"Unknown firearm\", \"total\": 1}, {\"year\": \"2017\", \"division_name\": \"Foothill\", \"premises_description\": \"Sidewalk\", \"weapon_description\": \"Unknown firearm\", \"total\": 1}, {\"year\": \"2017\", \"division_name\": \"Hollenbeck\", \"premises_description\": \"Alley\", \"weapon_description\": \"Hand gun\", \"total\": 1}, {\"year\": \"2017\", \"division_name\": \"Hollenbeck\", \"premises_description\": \"Sidewalk\", \"weapon_description\": \"Hand gun\", \"total\": 1}, {\"year\": \"2017\", \"division_name\": \"Hollenbeck\", \"premises_description\": \"Street\", \"weapon_description\": \"Semi-automatic pistol\", \"total\": 1}, {\"year\": \"2017\", \"division_name\": \"Hollenbeck\", \"premises_description\": \"Yard (residential/business)\", \"weapon_description\": \"Concrete block/brick\", \"total\": 1}, {\"year\": \"2017\", \"division_name\": \"Hollywood\", \"premises_description\": \"Street\", \"weapon_description\": \"Knife with blade 6inches or less\", \"total\": 1}, {\"year\": \"2017\", \"division_name\": \"Mission\", \"premises_description\": \"Sidewalk\", \"weapon_description\": \"Unknown type cutting instrument\", \"total\": 1}, {\"year\": \"2017\", \"division_name\": \"N Hollywood\", \"premises_description\": \"Driveway\", \"weapon_description\": \"Hand gun\", \"total\": 1}, {\"year\": \"2017\", \"division_name\": \"Newton\", \"premises_description\": \"Sidewalk\", \"weapon_description\": \"Blunt instrument\", \"total\": 1}, {\"year\": \"2017\", \"division_name\": \"Newton\", \"premises_description\": \"Sidewalk\", \"weapon_description\": \"Hand gun\", \"total\": 1}, {\"year\": \"2017\", \"division_name\": \"Newton\", \"premises_description\": \"Sidewalk\", \"weapon_description\": \"Unknown weapon/other weapon\", \"total\": 1}, {\"year\": \"2017\", \"division_name\": \"Newton\", \"premises_description\": \"Street\", \"weapon_description\": \"Hand gun\", \"total\": 1}, {\"year\": \"2017\", \"division_name\": \"Olympic\", \"premises_description\": \"Sidewalk\", \"weapon_description\": \"Unknown weapon/other weapon\", \"total\": 1}, {\"year\": \"2017\", \"division_name\": \"Southeast\", \"premises_description\": \"Transient encampment\", \"weapon_description\": \"Unknown firearm\", \"total\": 1}, {\"year\": \"2017\", \"division_name\": \"Southwest\", \"premises_description\": \"Street\", \"weapon_description\": \"Hand gun\", \"total\": 1}, {\"year\": \"2017\", \"division_name\": \"Wilshire\", \"premises_description\": \"Alley\", \"weapon_description\": \"Knife with blade 6inches or less\", \"total\": 1}, {\"year\": \"2018\", \"division_name\": \"77th Street\", \"premises_description\": \"Alley\", \"weapon_description\": \"Semi-automatic pistol\", \"total\": 1}, {\"year\": \"2018\", \"division_name\": \"77th Street\", \"premises_description\": \"Auto supply store*\", \"weapon_description\": \"Hand gun\", \"total\": 3}, {\"year\": \"2018\", \"division_name\": \"Central\", \"premises_description\": \"Other business\", \"weapon_description\": \"Strong-arm (hands, fist, feet or bodily force)\", \"total\": 1}, {\"year\": \"2018\", \"division_name\": \"Central\", \"premises_description\": \"Sidewalk\", \"weapon_description\": \"Club/bat\", \"total\": 2}, {\"year\": \"2018\", \"division_name\": \"Central\", \"premises_description\": \"Sidewalk\", \"weapon_description\": \"Unknown type cutting instrument\", \"total\": 1}, {\"year\": \"2018\", \"division_name\": \"Central\", \"premises_description\": \"Street\", \"weapon_description\": \"Other knife\", \"total\": 1}, {\"year\": \"2018\", \"division_name\": \"Central\", \"premises_description\": \"Street\", \"weapon_description\": \"Unknown weapon/other weapon\", \"total\": 1}, {\"year\": \"2018\", \"division_name\": \"Devonshire\", \"premises_description\": \"Street\", \"weapon_description\": \"Hand gun\", \"total\": 1}, {\"year\": \"2018\", \"division_name\": \"Hollenbeck\", \"premises_description\": \"Other premise\", \"weapon_description\": \"Hand gun\", \"total\": 1}, {\"year\": \"2018\", \"division_name\": \"Hollenbeck\", \"premises_description\": \"Sidewalk\", \"weapon_description\": \"Other knife\", \"total\": 1}, {\"year\": \"2018\", \"division_name\": \"Hollenbeck\", \"premises_description\": \"Street\", \"weapon_description\": \"Hand gun\", \"total\": 1}, {\"year\": \"2018\", \"division_name\": \"Hollenbeck\", \"premises_description\": \"Underpass/bridge*\", \"weapon_description\": \"Hand gun\", \"total\": 1}, {\"year\": \"2018\", \"division_name\": \"Hollywood\", \"premises_description\": \"Freeway\", \"weapon_description\": \"Stick\", \"total\": 1}, {\"year\": \"2018\", \"division_name\": \"Hollywood\", \"premises_description\": \"Pharmacy inside store or supermarket*\", \"weapon_description\": \"Hand gun\", \"total\": 1}, {\"year\": \"2018\", \"division_name\": \"Hollywood\", \"premises_description\": \"Sidewalk\", \"weapon_description\": \"Unknown type cutting instrument\", \"total\": 1}, {\"year\": \"2018\", \"division_name\": \"Hollywood\", \"premises_description\": \"Sidewalk\", \"weapon_description\": \"Unknown weapon/other weapon\", \"total\": 1}, {\"year\": \"2018\", \"division_name\": \"Mission\", \"premises_description\": \"Hospital\", \"weapon_description\": \"Unknown firearm\", \"total\": 1}, {\"year\": \"2018\", \"division_name\": \"N Hollywood\", \"premises_description\": \"Park/playground\", \"weapon_description\": \"Other knife\", \"total\": 1}, {\"year\": \"2018\", \"division_name\": \"N Hollywood\", \"premises_description\": \"Parking lot\", \"weapon_description\": \"Knife with blade 6inches or less\", \"total\": 1}, {\"year\": \"2018\", \"division_name\": \"N Hollywood\", \"premises_description\": \"Street\", \"weapon_description\": \"Pipe/metal pipe\", \"total\": 1}, {\"year\": \"2018\", \"division_name\": \"Newton\", \"premises_description\": \"Alley\", \"weapon_description\": \"Unknown weapon/other weapon\", \"total\": 1}, {\"year\": \"2018\", \"division_name\": \"Newton\", \"premises_description\": \"Sidewalk\", \"weapon_description\": \"Other knife\", \"total\": 1}, {\"year\": \"2018\", \"division_name\": \"Northeast\", \"premises_description\": \"Park/playground\", \"weapon_description\": \"Unknown weapon/other weapon\", \"total\": 1}, {\"year\": \"2018\", \"division_name\": \"Northeast\", \"premises_description\": \"Parking lot\", \"weapon_description\": \"Strong-arm (hands, fist, feet or bodily force)\", \"total\": 1}, {\"year\": \"2018\", \"division_name\": \"Northeast\", \"premises_description\": \"Single family dwelling\", \"weapon_description\": \"Shotgun\", \"total\": 1}, {\"year\": \"2018\", \"division_name\": \"Olympic\", \"premises_description\": \"Sidewalk\", \"weapon_description\": \"Hand gun\", \"total\": 1}, {\"year\": \"2018\", \"division_name\": \"Pacific\", \"premises_description\": \"Street\", \"weapon_description\": \"Hand gun\", \"total\": 1}, {\"year\": \"2018\", \"division_name\": \"Rampart\", \"premises_description\": \"Sidewalk\", \"weapon_description\": \"Unknown type cutting instrument\", \"total\": 1}, {\"year\": \"2018\", \"division_name\": \"Southeast\", \"premises_description\": \"Sidewalk\", \"weapon_description\": \"Hand gun\", \"total\": 1}, {\"year\": \"2018\", \"division_name\": \"Southeast\", \"premises_description\": \"Sidewalk\", \"weapon_description\": \"Unknown firearm\", \"total\": 1}, {\"year\": \"2018\", \"division_name\": \"Southeast\", \"premises_description\": \"Single family dwelling\", \"weapon_description\": \"Unknown firearm\", \"total\": 1}, {\"year\": \"2018\", \"division_name\": \"Southeast\", \"premises_description\": \"Street\", \"weapon_description\": \"Semi-automatic pistol\", \"total\": 2}, {\"year\": \"2018\", \"division_name\": \"Southwest\", \"premises_description\": \"Park/playground\", \"weapon_description\": \"Rock/thrown object\", \"total\": 1}, {\"year\": \"2018\", \"division_name\": \"Southwest\", \"premises_description\": \"Street\", \"weapon_description\": \"Semi-automatic pistol\", \"total\": 1}, {\"year\": \"2018\", \"division_name\": \"Southwest\", \"premises_description\": \"Underpass/bridge*\", \"weapon_description\": \"Unknown firearm\", \"total\": 1}, {\"year\": \"2019\", \"division_name\": \"77th Street\", \"premises_description\": \"Sidewalk\", \"weapon_description\": \"Unknown firearm\", \"total\": 1}, {\"year\": \"2019\", \"division_name\": \"Central\", \"premises_description\": \"Multi-unit dwelling (apartment, duplex, etc)\", \"weapon_description\": \"Kitchen knife\", \"total\": 1}, {\"year\": \"2019\", \"division_name\": \"Central\", \"premises_description\": \"Sidewalk\", \"weapon_description\": \"Fire\", \"total\": 1}, {\"year\": \"2019\", \"division_name\": \"Central\", \"premises_description\": \"Sidewalk\", \"weapon_description\": \"Pipe/metal pipe\", \"total\": 1}, {\"year\": \"2019\", \"division_name\": \"Central\", \"premises_description\": \"Street\", \"weapon_description\": \"Hand gun\", \"total\": 1}, {\"year\": \"2019\", \"division_name\": \"Central\", \"premises_description\": \"Street\", \"weapon_description\": \"Other knife\", \"total\": 1}, {\"year\": \"2019\", \"division_name\": \"Central\", \"premises_description\": \"Street\", \"weapon_description\": \"Semi-automatic pistol\", \"total\": 1}, {\"year\": \"2019\", \"division_name\": \"Central\", \"premises_description\": \"Street\", \"weapon_description\": \"Strong-arm (hands, fist, feet or bodily force)\", \"total\": 1}, {\"year\": \"2019\", \"division_name\": \"Foothill\", \"premises_description\": \"Street\", \"weapon_description\": \"Other knife\", \"total\": 1}, {\"year\": \"2019\", \"division_name\": \"Harbor\", \"premises_description\": \"Street\", \"weapon_description\": \"Unknown type cutting instrument\", \"total\": 1}, {\"year\": \"2019\", \"division_name\": \"Hollenbeck\", \"premises_description\": \"Park/playground\", \"weapon_description\": \"Knife with blade 6inches or less\", \"total\": 1}, {\"year\": \"2019\", \"division_name\": \"Hollenbeck\", \"premises_description\": \"Street\", \"weapon_description\": \"Unknown type cutting instrument\", \"total\": 1}, {\"year\": \"2019\", \"division_name\": \"Mission\", \"premises_description\": \"Street\", \"weapon_description\": \"Strong-arm (hands, fist, feet or bodily force)\", \"total\": 2}, {\"year\": \"2019\", \"division_name\": \"N Hollywood\", \"premises_description\": \"Bus stop\", \"weapon_description\": \"Pipe/metal pipe\", \"total\": 1}, {\"year\": \"2019\", \"division_name\": \"N Hollywood\", \"premises_description\": \"Park/playground\", \"weapon_description\": \"Unknown firearm\", \"total\": 1}, {\"year\": \"2019\", \"division_name\": \"Newton\", \"premises_description\": \"Alley\", \"weapon_description\": \"Hand gun\", \"total\": 2}, {\"year\": \"2019\", \"division_name\": \"Newton\", \"premises_description\": \"Street\", \"weapon_description\": \"Hand gun\", \"total\": 1}, {\"year\": \"2019\", \"division_name\": \"Newton\", \"premises_description\": \"Street\", \"weapon_description\": \"Semi-automatic pistol\", \"total\": 2}, {\"year\": \"2019\", \"division_name\": \"Northeast\", \"premises_description\": \"Other business\", \"weapon_description\": \"Strong-arm (hands, fist, feet or bodily force)\", \"total\": 1}, {\"year\": \"2019\", \"division_name\": \"Northeast\", \"premises_description\": \"Parking lot\", \"weapon_description\": \"Hand gun\", \"total\": 1}, {\"year\": \"2019\", \"division_name\": \"Rampart\", \"premises_description\": \"Multi-unit dwelling (apartment, duplex, etc)\", \"weapon_description\": \"Revolver\", \"total\": 1}, {\"year\": \"2019\", \"division_name\": \"Rampart\", \"premises_description\": \"Sidewalk\", \"weapon_description\": \"Hand gun\", \"total\": 2}, {\"year\": \"2019\", \"division_name\": \"Southeast\", \"premises_description\": \"Sidewalk\", \"weapon_description\": \"Strong-arm (hands, fist, feet or bodily force)\", \"total\": 1}, {\"year\": \"2019\", \"division_name\": \"Southeast\", \"premises_description\": \"Sidewalk\", \"weapon_description\": \"Unknown type cutting instrument\", \"total\": 1}, {\"year\": \"2019\", \"division_name\": \"Southwest\", \"premises_description\": \"Sidewalk\", \"weapon_description\": \"Unknown firearm\", \"total\": 1}, {\"year\": \"2019\", \"division_name\": \"Van Nuys\", \"premises_description\": \"Sidewalk\", \"weapon_description\": \"Other knife\", \"total\": 1}, {\"year\": \"2019\", \"division_name\": \"West LA\", \"premises_description\": \"Parking lot\", \"weapon_description\": \"Vehicle\", \"total\": 1}, {\"year\": \"2019\", \"division_name\": \"West Valley\", \"premises_description\": \"Park/playground\", \"weapon_description\": \"Other knife\", \"total\": 1}, {\"year\": \"2019\", \"division_name\": \"West Valley\", \"premises_description\": \"Street\", \"weapon_description\": \"Hand gun\", \"total\": 1}]}};\n",
       "const opt = {};\n",
       "const type = \"vega-lite\";\n",
       "const id = \"5aa38896-d7e4-4570-abfa-d0b734f6b466\";\n",
       "\n",
       "const output_area = this;\n",
       "\n",
       "require([\"nbextensions/jupyter-vega/index\"], function(vega) {\n",
       "  const target = document.createElement(\"div\");\n",
       "  target.id = id;\n",
       "  target.className = \"vega-embed\";\n",
       "\n",
       "  const style = document.createElement(\"style\");\n",
       "  style.textContent = [\n",
       "    \".vega-embed .error p {\",\n",
       "    \"  color: firebrick;\",\n",
       "    \"  font-size: 14px;\",\n",
       "    \"}\",\n",
       "  ].join(\"\\\\n\");\n",
       "\n",
       "  // element is a jQuery wrapped DOM element inside the output area\n",
       "  // see http://ipython.readthedocs.io/en/stable/api/generated/\\\n",
       "  // IPython.display.html#IPython.display.Javascript.__init__\n",
       "  element[0].appendChild(target);\n",
       "  element[0].appendChild(style);\n",
       "\n",
       "  vega.render(\"#\" + id, spec, type, opt, output_area);\n",
       "}, function (err) {\n",
       "  if (err.requireType !== \"scripterror\") {\n",
       "    throw(err);\n",
       "  }\n",
       "});\n"
      ],
      "text/plain": [
       "<vega.vegalite.VegaLite at 0x151720ef0>"
      ]
     },
     "metadata": {
      "jupyter-vega": "#5aa38896-d7e4-4570-abfa-d0b734f6b466"
     },
     "output_type": "display_data"
    },
    {
     "data": {
      "text/plain": []
     },
     "execution_count": 81,
     "metadata": {},
     "output_type": "execute_result"
    },
    {
     "data": {
      "image/png": "[encoded data removed]"
     },
     "metadata": {
      "jupyter-vega": "#5aa38896-d7e4-4570-abfa-d0b734f6b466"
     },
     "output_type": "display_data"
    }
   ],
   "source": [
    "chart_homeless_location = alt.Chart(homeless_homicides_years).mark_bar().encode(\n",
    "    y=alt.Y('premises_description:N',\n",
    "        sort=alt.EncodingSortField(\n",
    "            field=\"total\",  # The field to use for the sort\n",
    "            op=\"sum\",  # The operation to run on the field prior to sorting\n",
    "            order=\"descending\"  # The order to sort in\n",
    "        ), axis=alt.Axis(format='', tickCount=5)),\n",
    "    x=alt.X(\"sum(total):Q\", title=\"Cases\", axis=alt.Axis(format='', tickCount=5))\n",
    ")\n",
    "\n",
    "chart_homeless_location_text = chart_homeless_location.mark_text(\n",
    "    align='left',\n",
    "    baseline='middle',\n",
    "    dx=3  # Nudges text to right so it doesn't appear on top of the bar\n",
    ").encode(\n",
    "    text='sum(total):Q'\n",
    ")\n",
    "\n",
    "(chart_homeless_location + chart_homeless_location_text)\\\n",
    ".properties(height=400, width=700, title='Homeless homicide by location type, 2016-19')"
   ]
  },
  {
   "cell_type": "markdown",
   "metadata": {},
   "source": [
    "---"
   ]
  },
  {
   "cell_type": "markdown",
   "metadata": {},
   "source": [
    "## Homeless victims"
   ]
  },
  {
   "cell_type": "code",
   "execution_count": 29,
   "metadata": {},
   "outputs": [
    {
     "data": {
      "text/html": [
       "<div>\n",
       "<style scoped>\n",
       "    .dataframe tbody tr th:only-of-type {\n",
       "        vertical-align: middle;\n",
       "    }\n",
       "\n",
       "    .dataframe tbody tr th {\n",
       "        vertical-align: top;\n",
       "    }\n",
       "\n",
       "    .dataframe thead th {\n",
       "        text-align: right;\n",
       "    }\n",
       "</style>\n",
       "<table border=\"1\" class=\"dataframe\">\n",
       "  <thead>\n",
       "    <tr style=\"text-align: right;\">\n",
       "      <th></th>\n",
       "      <th>year</th>\n",
       "      <th>division_name</th>\n",
       "      <th>total</th>\n",
       "    </tr>\n",
       "  </thead>\n",
       "  <tbody>\n",
       "    <tr>\n",
       "      <th>85</th>\n",
       "      <td>2019</td>\n",
       "      <td>Central</td>\n",
       "      <td>1600</td>\n",
       "    </tr>\n",
       "    <tr>\n",
       "      <th>64</th>\n",
       "      <td>2018</td>\n",
       "      <td>Central</td>\n",
       "      <td>1404</td>\n",
       "    </tr>\n",
       "    <tr>\n",
       "      <th>1</th>\n",
       "      <td>2015</td>\n",
       "      <td>Central</td>\n",
       "      <td>922</td>\n",
       "    </tr>\n",
       "    <tr>\n",
       "      <th>22</th>\n",
       "      <td>2016</td>\n",
       "      <td>Central</td>\n",
       "      <td>807</td>\n",
       "    </tr>\n",
       "    <tr>\n",
       "      <th>43</th>\n",
       "      <td>2017</td>\n",
       "      <td>Central</td>\n",
       "      <td>677</td>\n",
       "    </tr>\n",
       "  </tbody>\n",
       "</table>\n",
       "</div>"
      ],
      "text/plain": [
       "    year division_name  total\n",
       "85  2019       Central   1600\n",
       "64  2018       Central   1404\n",
       "1   2015       Central    922\n",
       "22  2016       Central    807\n",
       "43  2017       Central    677"
      ]
     },
     "execution_count": 29,
     "metadata": {},
     "output_type": "execute_result"
    }
   ],
   "source": [
    "homeless_year_victim = homeless_victims.groupby(['year', 'division_name'])\\\n",
    ".agg('size').reset_index(name='total').sort_values(by='total', ascending=False)\n",
    "homeless_year_victim.head()"
   ]
  },
  {
   "cell_type": "code",
   "execution_count": 30,
   "metadata": {},
   "outputs": [
    {
     "data": {
      "text/html": [
       "<div>\n",
       "<style scoped>\n",
       "    .dataframe tbody tr th:only-of-type {\n",
       "        vertical-align: middle;\n",
       "    }\n",
       "\n",
       "    .dataframe tbody tr th {\n",
       "        vertical-align: top;\n",
       "    }\n",
       "\n",
       "    .dataframe thead th {\n",
       "        text-align: right;\n",
       "    }\n",
       "</style>\n",
       "<table border=\"1\" class=\"dataframe\">\n",
       "  <thead>\n",
       "    <tr style=\"text-align: right;\">\n",
       "      <th></th>\n",
       "      <th>year</th>\n",
       "      <th>division_name</th>\n",
       "      <th>total</th>\n",
       "    </tr>\n",
       "  </thead>\n",
       "  <tbody>\n",
       "    <tr>\n",
       "      <th>85</th>\n",
       "      <td>2019</td>\n",
       "      <td>Central</td>\n",
       "      <td>1600</td>\n",
       "    </tr>\n",
       "    <tr>\n",
       "      <th>64</th>\n",
       "      <td>2018</td>\n",
       "      <td>Central</td>\n",
       "      <td>1404</td>\n",
       "    </tr>\n",
       "    <tr>\n",
       "      <th>1</th>\n",
       "      <td>2015</td>\n",
       "      <td>Central</td>\n",
       "      <td>922</td>\n",
       "    </tr>\n",
       "    <tr>\n",
       "      <th>22</th>\n",
       "      <td>2016</td>\n",
       "      <td>Central</td>\n",
       "      <td>807</td>\n",
       "    </tr>\n",
       "    <tr>\n",
       "      <th>43</th>\n",
       "      <td>2017</td>\n",
       "      <td>Central</td>\n",
       "      <td>677</td>\n",
       "    </tr>\n",
       "    <tr>\n",
       "      <th>76</th>\n",
       "      <td>2018</td>\n",
       "      <td>Rampart</td>\n",
       "      <td>338</td>\n",
       "    </tr>\n",
       "    <tr>\n",
       "      <th>72</th>\n",
       "      <td>2018</td>\n",
       "      <td>Newton</td>\n",
       "      <td>296</td>\n",
       "    </tr>\n",
       "    <tr>\n",
       "      <th>97</th>\n",
       "      <td>2019</td>\n",
       "      <td>Rampart</td>\n",
       "      <td>281</td>\n",
       "    </tr>\n",
       "    <tr>\n",
       "      <th>93</th>\n",
       "      <td>2019</td>\n",
       "      <td>Newton</td>\n",
       "      <td>275</td>\n",
       "    </tr>\n",
       "    <tr>\n",
       "      <th>55</th>\n",
       "      <td>2017</td>\n",
       "      <td>Rampart</td>\n",
       "      <td>262</td>\n",
       "    </tr>\n",
       "  </tbody>\n",
       "</table>\n",
       "</div>"
      ],
      "text/plain": [
       "    year division_name  total\n",
       "85  2019       Central   1600\n",
       "64  2018       Central   1404\n",
       "1   2015       Central    922\n",
       "22  2016       Central    807\n",
       "43  2017       Central    677\n",
       "76  2018       Rampart    338\n",
       "72  2018        Newton    296\n",
       "97  2019       Rampart    281\n",
       "93  2019        Newton    275\n",
       "55  2017       Rampart    262"
      ]
     },
     "execution_count": 30,
     "metadata": {},
     "output_type": "execute_result"
    }
   ],
   "source": [
    "homeless_year_victim = homeless_victims.groupby(['year', 'division_name'])\\\n",
    ".agg('size').reset_index(name='total').sort_values(by='total', ascending=False)\n",
    "homeless_year_victim.head(10)"
   ]
  },
  {
   "cell_type": "markdown",
   "metadata": {},
   "source": [
    "### What types of crimes are most common for homeless victims?"
   ]
  },
  {
   "cell_type": "code",
   "execution_count": 31,
   "metadata": {},
   "outputs": [],
   "source": [
    "homeless_cases_victim = homeless_victims.groupby(['crime_code_description'])\\\n",
    ".agg('size').reset_index(name='total').sort_values(by='total', ascending=False)"
   ]
  },
  {
   "cell_type": "code",
   "execution_count": 32,
   "metadata": {
    "scrolled": true
   },
   "outputs": [
    {
     "data": {
      "text/html": [
       "<div>\n",
       "<style scoped>\n",
       "    .dataframe tbody tr th:only-of-type {\n",
       "        vertical-align: middle;\n",
       "    }\n",
       "\n",
       "    .dataframe tbody tr th {\n",
       "        vertical-align: top;\n",
       "    }\n",
       "\n",
       "    .dataframe thead th {\n",
       "        text-align: right;\n",
       "    }\n",
       "</style>\n",
       "<table border=\"1\" class=\"dataframe\">\n",
       "  <thead>\n",
       "    <tr style=\"text-align: right;\">\n",
       "      <th></th>\n",
       "      <th>crime_code_description</th>\n",
       "      <th>total</th>\n",
       "    </tr>\n",
       "  </thead>\n",
       "  <tbody>\n",
       "    <tr>\n",
       "      <th>2</th>\n",
       "      <td>Assault with deadly weapon, aggravated assault</td>\n",
       "      <td>4010</td>\n",
       "    </tr>\n",
       "    <tr>\n",
       "      <th>4</th>\n",
       "      <td>Battery - simple assault</td>\n",
       "      <td>2938</td>\n",
       "    </tr>\n",
       "    <tr>\n",
       "      <th>55</th>\n",
       "      <td>Robbery</td>\n",
       "      <td>1820</td>\n",
       "    </tr>\n",
       "    <tr>\n",
       "      <th>69</th>\n",
       "      <td>Theft plain - petty ($950 &amp; under)</td>\n",
       "      <td>1672</td>\n",
       "    </tr>\n",
       "    <tr>\n",
       "      <th>37</th>\n",
       "      <td>Intimate partner - simple assault</td>\n",
       "      <td>1644</td>\n",
       "    </tr>\n",
       "  </tbody>\n",
       "</table>\n",
       "</div>"
      ],
      "text/plain": [
       "                            crime_code_description  total\n",
       "2   Assault with deadly weapon, aggravated assault   4010\n",
       "4                         Battery - simple assault   2938\n",
       "55                                         Robbery   1820\n",
       "69              Theft plain - petty ($950 & under)   1672\n",
       "37               Intimate partner - simple assault   1644"
      ]
     },
     "execution_count": 32,
     "metadata": {},
     "output_type": "execute_result"
    }
   ],
   "source": [
    "homeless_cases_victim.head()"
   ]
  },
  {
   "cell_type": "markdown",
   "metadata": {},
   "source": [
    "### Where do crimes involving homeless victims occur? "
   ]
  },
  {
   "cell_type": "code",
   "execution_count": 33,
   "metadata": {},
   "outputs": [
    {
     "data": {
      "text/plain": [
       "Central        33.0\n",
       "Rampart         7.0\n",
       "Newton          6.0\n",
       "Pacific         5.0\n",
       "N Hollywood     5.0\n",
       "Hollywood       4.0\n",
       "Southwest       4.0\n",
       "Olympic         4.0\n",
       "Van Nuys        3.0\n",
       "Harbor          3.0\n",
       "West LA         3.0\n",
       "77th Street     3.0\n",
       "Southeast       3.0\n",
       "Northeast       3.0\n",
       "Hollenbeck      3.0\n",
       "Foothill        2.0\n",
       "Mission         2.0\n",
       "West Valley     2.0\n",
       "Devonshire      2.0\n",
       "Wilshire        2.0\n",
       "Topanga         1.0\n",
       "Name: division_name, dtype: float64"
      ]
     },
     "execution_count": 33,
     "metadata": {},
     "output_type": "execute_result"
    }
   ],
   "source": [
    "homeless_victims['division_name'].value_counts('normalize').round(2)*100"
   ]
  },
  {
   "cell_type": "code",
   "execution_count": 34,
   "metadata": {},
   "outputs": [
    {
     "data": {
      "application/javascript": [
       "const spec = {\"config\": {\"view\": {\"width\": 800, \"height\": 450}, \"background\": \"#ffffff\", \"title\": {\"anchor\": \"start\", \"font\": \"Benton Gothic Bold, sans\", \"fontColor\": \"#000000\", \"fontSize\": 22, \"fontWeight\": \"normal\"}, \"arc\": {\"fill\": \"#82c6df\"}, \"area\": {\"fill\": \"#82c6df\"}, \"line\": {\"stroke\": \"#82c6df\", \"strokeWidth\": 3}, \"path\": {\"stroke\": \"#82c6df\"}, \"rect\": {\"fill\": \"#82c6df\"}, \"shape\": {\"stroke\": \"#82c6df\"}, \"bar\": {\"fill\": \"#82c6df\"}, \"point\": {\"stroke\": \"#82c6df\"}, \"symbol\": {\"fill\": \"#82c6df\", \"size\": 30}, \"axis\": {\"titleFont\": \"Benton Gothic Bold, sans\", \"titleFontSize\": 13, \"titleFontWeight\": \"normal\", \"labelFont\": \"Benton Gothic, sans\", \"labelFontSize\": 11.5, \"labelFontWeight\": \"normal\"}, \"axisX\": {\"labelAngle\": 0, \"labelPadding\": 4, \"tickSize\": 3}, \"axisY\": {\"labelBaseline\": \"middle\", \"maxExtent\": 45, \"minExtent\": 45, \"tickSize\": 2, \"titleAlign\": \"left\", \"titleAngle\": 0, \"titleX\": -45, \"titleY\": -11}, \"legend\": {\"titleFont\": \"Benton Gothic Bold, sans\", \"titleFontSize\": 13, \"titleFontWeight\": \"normal\", \"symbolType\": \"square\", \"labelFont\": \"Benton Gothic, sans\", \"labelFontSize\": 11.5}, \"range\": {\"category\": [\"#3580b1\", \"#ec8431\", \"#ab7fb4\", \"#c89d29\", \"#adc839\", \"#829eb1\"], \"diverging\": [\"#e68a4f\", \"#f4bb6a\", \"#f9e39c\", \"#dadfe2\", \"#a6b7c6\", \"#849eae\"], \"heatmap\": [\"#fbf2c7\", \"#f9e39c\", \"#f8d36e\", \"#f4bb6a\", \"#e68a4f\", \"#d15a40\", \"#ab4232\"], \"ordinal\": [\"#fbf2c7\", \"#f9e39c\", \"#f8d36e\", \"#f4bb6a\", \"#e68a4f\", \"#d15a40\", \"#ab4232\"], \"ramp\": [\"#fbf2c7\", \"#f9e39c\", \"#f8d36e\", \"#f4bb6a\", \"#e68a4f\", \"#d15a40\", \"#ab4232\"]}}, \"data\": {\"name\": \"data-1f48e2152eee198b56194397b4bafb03\"}, \"mark\": \"bar\", \"columns\": 3, \"encoding\": {\"facet\": {\"type\": \"nominal\", \"field\": \"division_name\"}, \"x\": {\"type\": \"quantitative\", \"aggregate\": \"sum\", \"axis\": {\"format\": \"\", \"tickCount\": 10}, \"field\": \"total\", \"title\": \"homeless victims\"}, \"y\": {\"type\": \"nominal\", \"axis\": {\"format\": \"\", \"tickCount\": 5}, \"field\": \"year\", \"title\": \"\"}}, \"height\": 80, \"title\": \"Homeless victims per year, by division\", \"width\": 200, \"$schema\": \"https://vega.github.io/schema/vega-lite/v3.4.0.json\", \"datasets\": {\"data-1f48e2152eee198b56194397b4bafb03\": [{\"year\": \"2019\", \"division_name\": \"Central\", \"total\": 1600}, {\"year\": \"2018\", \"division_name\": \"Central\", \"total\": 1404}, {\"year\": \"2015\", \"division_name\": \"Central\", \"total\": 922}, {\"year\": \"2016\", \"division_name\": \"Central\", \"total\": 807}, {\"year\": \"2017\", \"division_name\": \"Central\", \"total\": 677}, {\"year\": \"2018\", \"division_name\": \"Rampart\", \"total\": 338}, {\"year\": \"2018\", \"division_name\": \"Newton\", \"total\": 296}, {\"year\": \"2019\", \"division_name\": \"Rampart\", \"total\": 281}, {\"year\": \"2019\", \"division_name\": \"Newton\", \"total\": 275}, {\"year\": \"2017\", \"division_name\": \"Rampart\", \"total\": 262}, {\"year\": \"2018\", \"division_name\": \"Hollywood\", \"total\": 253}, {\"year\": \"2019\", \"division_name\": \"Pacific\", \"total\": 247}, {\"year\": \"2019\", \"division_name\": \"Hollywood\", \"total\": 245}, {\"year\": \"2018\", \"division_name\": \"N Hollywood\", \"total\": 240}, {\"year\": \"2018\", \"division_name\": \"Pacific\", \"total\": 236}, {\"year\": \"2017\", \"division_name\": \"Newton\", \"total\": 213}, {\"year\": \"2018\", \"division_name\": \"Van Nuys\", \"total\": 202}, {\"year\": \"2019\", \"division_name\": \"N Hollywood\", \"total\": 197}, {\"year\": \"2016\", \"division_name\": \"Rampart\", \"total\": 189}, {\"year\": \"2019\", \"division_name\": \"Van Nuys\", \"total\": 189}, {\"year\": \"2017\", \"division_name\": \"N Hollywood\", \"total\": 184}, {\"year\": \"2018\", \"division_name\": \"Southwest\", \"total\": 168}, {\"year\": \"2019\", \"division_name\": \"Southwest\", \"total\": 161}, {\"year\": \"2018\", \"division_name\": \"Hollenbeck\", \"total\": 157}, {\"year\": \"2018\", \"division_name\": \"Harbor\", \"total\": 153}, {\"year\": \"2019\", \"division_name\": \"Harbor\", \"total\": 152}, {\"year\": \"2019\", \"division_name\": \"77th Street\", \"total\": 152}, {\"year\": \"2018\", \"division_name\": \"Olympic\", \"total\": 145}, {\"year\": \"2019\", \"division_name\": \"Olympic\", \"total\": 144}, {\"year\": \"2019\", \"division_name\": \"Southeast\", \"total\": 133}, {\"year\": \"2016\", \"division_name\": \"Newton\", \"total\": 133}, {\"year\": \"2018\", \"division_name\": \"West LA\", \"total\": 132}, {\"year\": \"2019\", \"division_name\": \"West LA\", \"total\": 130}, {\"year\": \"2017\", \"division_name\": \"Southwest\", \"total\": 126}, {\"year\": \"2015\", \"division_name\": \"Pacific\", \"total\": 124}, {\"year\": \"2017\", \"division_name\": \"Pacific\", \"total\": 122}, {\"year\": \"2019\", \"division_name\": \"Northeast\", \"total\": 121}, {\"year\": \"2016\", \"division_name\": \"Olympic\", \"total\": 119}, {\"year\": \"2018\", \"division_name\": \"Northeast\", \"total\": 117}, {\"year\": \"2018\", \"division_name\": \"Mission\", \"total\": 115}, {\"year\": \"2017\", \"division_name\": \"Southeast\", \"total\": 112}, {\"year\": \"2018\", \"division_name\": \"Wilshire\", \"total\": 110}, {\"year\": \"2018\", \"division_name\": \"Southeast\", \"total\": 110}, {\"year\": \"2017\", \"division_name\": \"77th Street\", \"total\": 108}, {\"year\": \"2015\", \"division_name\": \"Rampart\", \"total\": 108}, {\"year\": \"2017\", \"division_name\": \"Hollywood\", \"total\": 107}, {\"year\": \"2018\", \"division_name\": \"77th Street\", \"total\": 105}, {\"year\": \"2016\", \"division_name\": \"West LA\", \"total\": 103}, {\"year\": \"2015\", \"division_name\": \"Newton\", \"total\": 103}, {\"year\": \"2017\", \"division_name\": \"Harbor\", \"total\": 101}, {\"year\": \"2019\", \"division_name\": \"Hollenbeck\", \"total\": 101}, {\"year\": \"2016\", \"division_name\": \"N Hollywood\", \"total\": 100}, {\"year\": \"2019\", \"division_name\": \"West Valley\", \"total\": 100}, {\"year\": \"2017\", \"division_name\": \"Olympic\", \"total\": 98}, {\"year\": \"2017\", \"division_name\": \"Northeast\", \"total\": 97}, {\"year\": \"2016\", \"division_name\": \"Pacific\", \"total\": 96}, {\"year\": \"2018\", \"division_name\": \"Foothill\", \"total\": 94}, {\"year\": \"2018\", \"division_name\": \"West Valley\", \"total\": 87}, {\"year\": \"2016\", \"division_name\": \"Harbor\", \"total\": 87}, {\"year\": \"2019\", \"division_name\": \"Foothill\", \"total\": 87}, {\"year\": \"2019\", \"division_name\": \"Topanga\", \"total\": 85}, {\"year\": \"2018\", \"division_name\": \"Devonshire\", \"total\": 84}, {\"year\": \"2015\", \"division_name\": \"Olympic\", \"total\": 81}, {\"year\": \"2016\", \"division_name\": \"Southwest\", \"total\": 80}, {\"year\": \"2017\", \"division_name\": \"Van Nuys\", \"total\": 80}, {\"year\": \"2019\", \"division_name\": \"Mission\", \"total\": 79}, {\"year\": \"2017\", \"division_name\": \"Foothill\", \"total\": 78}, {\"year\": \"2019\", \"division_name\": \"Wilshire\", \"total\": 76}, {\"year\": \"2017\", \"division_name\": \"Hollenbeck\", \"total\": 75}, {\"year\": \"2016\", \"division_name\": \"Hollenbeck\", \"total\": 73}, {\"year\": \"2017\", \"division_name\": \"West LA\", \"total\": 70}, {\"year\": \"2016\", \"division_name\": \"Southeast\", \"total\": 70}, {\"year\": \"2019\", \"division_name\": \"Devonshire\", \"total\": 69}, {\"year\": \"2015\", \"division_name\": \"Southwest\", \"total\": 69}, {\"year\": \"2017\", \"division_name\": \"Devonshire\", \"total\": 69}, {\"year\": \"2015\", \"division_name\": \"West LA\", \"total\": 69}, {\"year\": \"2016\", \"division_name\": \"77th Street\", \"total\": 65}, {\"year\": \"2016\", \"division_name\": \"Van Nuys\", \"total\": 62}, {\"year\": \"2016\", \"division_name\": \"Hollywood\", \"total\": 60}, {\"year\": \"2015\", \"division_name\": \"Foothill\", \"total\": 60}, {\"year\": \"2016\", \"division_name\": \"Foothill\", \"total\": 60}, {\"year\": \"2015\", \"division_name\": \"77th Street\", \"total\": 60}, {\"year\": \"2017\", \"division_name\": \"Mission\", \"total\": 59}, {\"year\": \"2016\", \"division_name\": \"Northeast\", \"total\": 58}, {\"year\": \"2016\", \"division_name\": \"Mission\", \"total\": 55}, {\"year\": \"2015\", \"division_name\": \"Hollywood\", \"total\": 55}, {\"year\": \"2016\", \"division_name\": \"West Valley\", \"total\": 54}, {\"year\": \"2017\", \"division_name\": \"West Valley\", \"total\": 50}, {\"year\": \"2015\", \"division_name\": \"Northeast\", \"total\": 47}, {\"year\": \"2017\", \"division_name\": \"Wilshire\", \"total\": 47}, {\"year\": \"2015\", \"division_name\": \"Mission\", \"total\": 46}, {\"year\": \"2018\", \"division_name\": \"Topanga\", \"total\": 40}, {\"year\": \"2017\", \"division_name\": \"Topanga\", \"total\": 39}, {\"year\": \"2016\", \"division_name\": \"Topanga\", \"total\": 36}, {\"year\": \"2015\", \"division_name\": \"N Hollywood\", \"total\": 36}, {\"year\": \"2015\", \"division_name\": \"Southeast\", \"total\": 32}, {\"year\": \"2016\", \"division_name\": \"Devonshire\", \"total\": 31}, {\"year\": \"2015\", \"division_name\": \"Hollenbeck\", \"total\": 31}, {\"year\": \"2015\", \"division_name\": \"Harbor\", \"total\": 26}, {\"year\": \"2015\", \"division_name\": \"West Valley\", \"total\": 19}, {\"year\": \"2015\", \"division_name\": \"Van Nuys\", \"total\": 17}, {\"year\": \"2015\", \"division_name\": \"Devonshire\", \"total\": 15}, {\"year\": \"2016\", \"division_name\": \"Wilshire\", \"total\": 10}, {\"year\": \"2015\", \"division_name\": \"Topanga\", \"total\": 9}, {\"year\": \"2015\", \"division_name\": \"Wilshire\", \"total\": 8}]}};\n",
       "const opt = {};\n",
       "const type = \"vega-lite\";\n",
       "const id = \"9e9c5374-add7-4b4b-92bd-ad8a18a2474f\";\n",
       "\n",
       "const output_area = this;\n",
       "\n",
       "require([\"nbextensions/jupyter-vega/index\"], function(vega) {\n",
       "  const target = document.createElement(\"div\");\n",
       "  target.id = id;\n",
       "  target.className = \"vega-embed\";\n",
       "\n",
       "  const style = document.createElement(\"style\");\n",
       "  style.textContent = [\n",
       "    \".vega-embed .error p {\",\n",
       "    \"  color: firebrick;\",\n",
       "    \"  font-size: 14px;\",\n",
       "    \"}\",\n",
       "  ].join(\"\\\\n\");\n",
       "\n",
       "  // element is a jQuery wrapped DOM element inside the output area\n",
       "  // see http://ipython.readthedocs.io/en/stable/api/generated/\\\n",
       "  // IPython.display.html#IPython.display.Javascript.__init__\n",
       "  element[0].appendChild(target);\n",
       "  element[0].appendChild(style);\n",
       "\n",
       "  vega.render(\"#\" + id, spec, type, opt, output_area);\n",
       "}, function (err) {\n",
       "  if (err.requireType !== \"scripterror\") {\n",
       "    throw(err);\n",
       "  }\n",
       "});\n"
      ],
      "text/plain": [
       "<vega.vegalite.VegaLite at 0x153df0518>"
      ]
     },
     "metadata": {
      "jupyter-vega": "#9e9c5374-add7-4b4b-92bd-ad8a18a2474f"
     },
     "output_type": "display_data"
    },
    {
     "data": {
      "text/plain": []
     },
     "execution_count": 34,
     "metadata": {},
     "output_type": "execute_result"
    },
    {
     "data": {
      "image/png": "[encoded data removed]"
     },
     "metadata": {
      "jupyter-vega": "#9e9c5374-add7-4b4b-92bd-ad8a18a2474f"
     },
     "output_type": "display_data"
    }
   ],
   "source": [
    "alt.Chart(homeless_year_victim).mark_bar().encode(\n",
    "    y=alt.Y('year:N', title='', axis=alt.Axis(format='', tickCount=5)),\n",
    "    x=alt.X(\"sum(total):Q\", title=\"homeless victims\", axis=alt.Axis(format='', tickCount=10)),\n",
    "    facet='division_name:N'\n",
    ").properties(height=80, width=200, columns=3, title='Homeless victims per year, by division')"
   ]
  },
  {
   "cell_type": "markdown",
   "metadata": {},
   "source": [
    "### Homeless victims in central"
   ]
  },
  {
   "cell_type": "code",
   "execution_count": 35,
   "metadata": {},
   "outputs": [],
   "source": [
    "homeless_victims_central = homeless_victims[homeless_victims['division_name'] == 'Central']"
   ]
  },
  {
   "cell_type": "code",
   "execution_count": 36,
   "metadata": {},
   "outputs": [],
   "source": [
    "homeless_cases_victim_central = homeless_victims_central.groupby(['crime_code_description'])\\\n",
    ".agg('size').reset_index(name='total').sort_values(by='total', ascending=False)"
   ]
  },
  {
   "cell_type": "code",
   "execution_count": 37,
   "metadata": {},
   "outputs": [
    {
     "data": {
      "text/html": [
       "<div>\n",
       "<style scoped>\n",
       "    .dataframe tbody tr th:only-of-type {\n",
       "        vertical-align: middle;\n",
       "    }\n",
       "\n",
       "    .dataframe tbody tr th {\n",
       "        vertical-align: top;\n",
       "    }\n",
       "\n",
       "    .dataframe thead th {\n",
       "        text-align: right;\n",
       "    }\n",
       "</style>\n",
       "<table border=\"1\" class=\"dataframe\">\n",
       "  <thead>\n",
       "    <tr style=\"text-align: right;\">\n",
       "      <th></th>\n",
       "      <th>crime_code_description</th>\n",
       "      <th>total</th>\n",
       "    </tr>\n",
       "  </thead>\n",
       "  <tbody>\n",
       "    <tr>\n",
       "      <th>2</th>\n",
       "      <td>Assault with deadly weapon, aggravated assault</td>\n",
       "      <td>1159</td>\n",
       "    </tr>\n",
       "    <tr>\n",
       "      <th>4</th>\n",
       "      <td>Battery - simple assault</td>\n",
       "      <td>1036</td>\n",
       "    </tr>\n",
       "    <tr>\n",
       "      <th>52</th>\n",
       "      <td>Theft plain - petty ($950 &amp; under)</td>\n",
       "      <td>892</td>\n",
       "    </tr>\n",
       "    <tr>\n",
       "      <th>40</th>\n",
       "      <td>Robbery</td>\n",
       "      <td>618</td>\n",
       "    </tr>\n",
       "    <tr>\n",
       "      <th>28</th>\n",
       "      <td>Intimate partner - simple assault</td>\n",
       "      <td>354</td>\n",
       "    </tr>\n",
       "  </tbody>\n",
       "</table>\n",
       "</div>"
      ],
      "text/plain": [
       "                            crime_code_description  total\n",
       "2   Assault with deadly weapon, aggravated assault   1159\n",
       "4                         Battery - simple assault   1036\n",
       "52              Theft plain - petty ($950 & under)    892\n",
       "40                                         Robbery    618\n",
       "28               Intimate partner - simple assault    354"
      ]
     },
     "execution_count": 37,
     "metadata": {},
     "output_type": "execute_result"
    }
   ],
   "source": [
    "homeless_cases_victim_central.head()"
   ]
  },
  {
   "cell_type": "markdown",
   "metadata": {},
   "source": [
    "---"
   ]
  },
  {
   "cell_type": "code",
   "execution_count": 38,
   "metadata": {},
   "outputs": [],
   "source": [
    "homeless_cases_suspect = homeless_suspects.groupby(['crime_code_description'])\\\n",
    ".agg('size').reset_index(name='total').sort_values(by='total', ascending=False)"
   ]
  },
  {
   "cell_type": "code",
   "execution_count": 39,
   "metadata": {},
   "outputs": [
    {
     "data": {
      "text/html": [
       "<div>\n",
       "<style scoped>\n",
       "    .dataframe tbody tr th:only-of-type {\n",
       "        vertical-align: middle;\n",
       "    }\n",
       "\n",
       "    .dataframe tbody tr th {\n",
       "        vertical-align: top;\n",
       "    }\n",
       "\n",
       "    .dataframe thead th {\n",
       "        text-align: right;\n",
       "    }\n",
       "</style>\n",
       "<table border=\"1\" class=\"dataframe\">\n",
       "  <thead>\n",
       "    <tr style=\"text-align: right;\">\n",
       "      <th></th>\n",
       "      <th>crime_code_description</th>\n",
       "      <th>total</th>\n",
       "    </tr>\n",
       "  </thead>\n",
       "  <tbody>\n",
       "    <tr>\n",
       "      <th>2</th>\n",
       "      <td>Assault with deadly weapon, aggravated assault</td>\n",
       "      <td>4767</td>\n",
       "    </tr>\n",
       "    <tr>\n",
       "      <th>4</th>\n",
       "      <td>Battery - simple assault</td>\n",
       "      <td>4627</td>\n",
       "    </tr>\n",
       "    <tr>\n",
       "      <th>97</th>\n",
       "      <td>Trespassing</td>\n",
       "      <td>2840</td>\n",
       "    </tr>\n",
       "    <tr>\n",
       "      <th>76</th>\n",
       "      <td>Robbery</td>\n",
       "      <td>2730</td>\n",
       "    </tr>\n",
       "    <tr>\n",
       "      <th>80</th>\n",
       "      <td>Shoplifting - petty theft ($950 &amp; under)</td>\n",
       "      <td>2532</td>\n",
       "    </tr>\n",
       "    <tr>\n",
       "      <th>55</th>\n",
       "      <td>Intimate partner - simple assault</td>\n",
       "      <td>1991</td>\n",
       "    </tr>\n",
       "    <tr>\n",
       "      <th>99</th>\n",
       "      <td>Vandalism - felony ($400 &amp; over, all church va...</td>\n",
       "      <td>1493</td>\n",
       "    </tr>\n",
       "    <tr>\n",
       "      <th>90</th>\n",
       "      <td>Theft plain - petty ($950 &amp; under)</td>\n",
       "      <td>1235</td>\n",
       "    </tr>\n",
       "    <tr>\n",
       "      <th>32</th>\n",
       "      <td>Criminal threats - no weapon displayed</td>\n",
       "      <td>1145</td>\n",
       "    </tr>\n",
       "    <tr>\n",
       "      <th>14</th>\n",
       "      <td>Burglary</td>\n",
       "      <td>1136</td>\n",
       "    </tr>\n",
       "  </tbody>\n",
       "</table>\n",
       "</div>"
      ],
      "text/plain": [
       "                               crime_code_description  total\n",
       "2      Assault with deadly weapon, aggravated assault   4767\n",
       "4                            Battery - simple assault   4627\n",
       "97                                        Trespassing   2840\n",
       "76                                            Robbery   2730\n",
       "80           Shoplifting - petty theft ($950 & under)   2532\n",
       "55                  Intimate partner - simple assault   1991\n",
       "99  Vandalism - felony ($400 & over, all church va...   1493\n",
       "90                 Theft plain - petty ($950 & under)   1235\n",
       "32             Criminal threats - no weapon displayed   1145\n",
       "14                                           Burglary   1136"
      ]
     },
     "execution_count": 39,
     "metadata": {},
     "output_type": "execute_result"
    }
   ],
   "source": [
    "homeless_cases_suspect.head(10)"
   ]
  },
  {
   "cell_type": "markdown",
   "metadata": {},
   "source": [
    "--- "
   ]
  },
  {
   "cell_type": "markdown",
   "metadata": {},
   "source": [
    "## Basic aggregates on variables for all crimes"
   ]
  },
  {
   "cell_type": "markdown",
   "metadata": {},
   "source": [
    "### Which crimes are most common? "
   ]
  },
  {
   "cell_type": "code",
   "execution_count": 40,
   "metadata": {},
   "outputs": [],
   "source": [
    "violations = crimes.groupby(['crime_code_description'])\\\n",
    ".agg('size').reset_index(name='total').sort_values(by='total', ascending=False)"
   ]
  },
  {
   "cell_type": "code",
   "execution_count": 41,
   "metadata": {},
   "outputs": [
    {
     "data": {
      "text/html": [
       "<div>\n",
       "<style scoped>\n",
       "    .dataframe tbody tr th:only-of-type {\n",
       "        vertical-align: middle;\n",
       "    }\n",
       "\n",
       "    .dataframe tbody tr th {\n",
       "        vertical-align: top;\n",
       "    }\n",
       "\n",
       "    .dataframe thead th {\n",
       "        text-align: right;\n",
       "    }\n",
       "</style>\n",
       "<table border=\"1\" class=\"dataframe\">\n",
       "  <thead>\n",
       "    <tr style=\"text-align: right;\">\n",
       "      <th></th>\n",
       "      <th>crime_code_description</th>\n",
       "      <th>total</th>\n",
       "    </tr>\n",
       "  </thead>\n",
       "  <tbody>\n",
       "    <tr>\n",
       "      <th>5</th>\n",
       "      <td>Battery - simple assault</td>\n",
       "      <td>186633</td>\n",
       "    </tr>\n",
       "    <tr>\n",
       "      <th>22</th>\n",
       "      <td>Burglary from vehicle</td>\n",
       "      <td>158361</td>\n",
       "    </tr>\n",
       "    <tr>\n",
       "      <th>136</th>\n",
       "      <td>Vehicle - stolen</td>\n",
       "      <td>156154</td>\n",
       "    </tr>\n",
       "    <tr>\n",
       "      <th>118</th>\n",
       "      <td>Theft plain - petty ($950 &amp; under)</td>\n",
       "      <td>146185</td>\n",
       "    </tr>\n",
       "    <tr>\n",
       "      <th>21</th>\n",
       "      <td>Burglary</td>\n",
       "      <td>144622</td>\n",
       "    </tr>\n",
       "    <tr>\n",
       "      <th>116</th>\n",
       "      <td>Theft of identity</td>\n",
       "      <td>123841</td>\n",
       "    </tr>\n",
       "    <tr>\n",
       "      <th>75</th>\n",
       "      <td>Intimate partner - simple assault</td>\n",
       "      <td>111983</td>\n",
       "    </tr>\n",
       "    <tr>\n",
       "      <th>132</th>\n",
       "      <td>Vandalism - felony ($400 &amp; over, all church va...</td>\n",
       "      <td>106721</td>\n",
       "    </tr>\n",
       "    <tr>\n",
       "      <th>3</th>\n",
       "      <td>Assault with deadly weapon, aggravated assault</td>\n",
       "      <td>90440</td>\n",
       "    </tr>\n",
       "    <tr>\n",
       "      <th>133</th>\n",
       "      <td>Vandalism - misdeameanor ($399 or under)</td>\n",
       "      <td>88862</td>\n",
       "    </tr>\n",
       "  </tbody>\n",
       "</table>\n",
       "</div>"
      ],
      "text/plain": [
       "                                crime_code_description   total\n",
       "5                             Battery - simple assault  186633\n",
       "22                               Burglary from vehicle  158361\n",
       "136                                   Vehicle - stolen  156154\n",
       "118                 Theft plain - petty ($950 & under)  146185\n",
       "21                                            Burglary  144622\n",
       "116                                  Theft of identity  123841\n",
       "75                   Intimate partner - simple assault  111983\n",
       "132  Vandalism - felony ($400 & over, all church va...  106721\n",
       "3       Assault with deadly weapon, aggravated assault   90440\n",
       "133           Vandalism - misdeameanor ($399 or under)   88862"
      ]
     },
     "execution_count": 41,
     "metadata": {},
     "output_type": "execute_result"
    }
   ],
   "source": [
    "violations.head(10)"
   ]
  },
  {
   "cell_type": "markdown",
   "metadata": {},
   "source": [
    "### Places where crimes occur?"
   ]
  },
  {
   "cell_type": "code",
   "execution_count": 42,
   "metadata": {},
   "outputs": [],
   "source": [
    "places = crimes.groupby(['premises_description'])\\\n",
    ".agg('size').reset_index(name='total').sort_values(by='total', ascending=False)"
   ]
  },
  {
   "cell_type": "code",
   "execution_count": 43,
   "metadata": {},
   "outputs": [
    {
     "data": {
      "text/html": [
       "<div>\n",
       "<style scoped>\n",
       "    .dataframe tbody tr th:only-of-type {\n",
       "        vertical-align: middle;\n",
       "    }\n",
       "\n",
       "    .dataframe tbody tr th {\n",
       "        vertical-align: top;\n",
       "    }\n",
       "\n",
       "    .dataframe thead th {\n",
       "        text-align: right;\n",
       "    }\n",
       "</style>\n",
       "<table border=\"1\" class=\"dataframe\">\n",
       "  <thead>\n",
       "    <tr style=\"text-align: right;\">\n",
       "      <th></th>\n",
       "      <th>premises_description</th>\n",
       "      <th>total</th>\n",
       "    </tr>\n",
       "  </thead>\n",
       "  <tbody>\n",
       "    <tr>\n",
       "      <th>278</th>\n",
       "      <td>Street</td>\n",
       "      <td>461267</td>\n",
       "    </tr>\n",
       "    <tr>\n",
       "      <th>267</th>\n",
       "      <td>Single family dwelling</td>\n",
       "      <td>417827</td>\n",
       "    </tr>\n",
       "    <tr>\n",
       "      <th>211</th>\n",
       "      <td>Multi-unit dwelling (apartment, duplex, etc)</td>\n",
       "      <td>259470</td>\n",
       "    </tr>\n",
       "    <tr>\n",
       "      <th>233</th>\n",
       "      <td>Parking lot</td>\n",
       "      <td>146340</td>\n",
       "    </tr>\n",
       "    <tr>\n",
       "      <th>266</th>\n",
       "      <td>Sidewalk</td>\n",
       "      <td>103404</td>\n",
       "    </tr>\n",
       "    <tr>\n",
       "      <th>224</th>\n",
       "      <td>Other business</td>\n",
       "      <td>94124</td>\n",
       "    </tr>\n",
       "    <tr>\n",
       "      <th>311</th>\n",
       "      <td>Vehicle, passenger/truck</td>\n",
       "      <td>77957</td>\n",
       "    </tr>\n",
       "    <tr>\n",
       "      <th>64</th>\n",
       "      <td>Driveway</td>\n",
       "      <td>41660</td>\n",
       "    </tr>\n",
       "    <tr>\n",
       "      <th>80</th>\n",
       "      <td>Garage/carport</td>\n",
       "      <td>36764</td>\n",
       "    </tr>\n",
       "    <tr>\n",
       "      <th>258</th>\n",
       "      <td>Restaurant/fast food</td>\n",
       "      <td>28428</td>\n",
       "    </tr>\n",
       "  </tbody>\n",
       "</table>\n",
       "</div>"
      ],
      "text/plain": [
       "                             premises_description   total\n",
       "278                                        Street  461267\n",
       "267                        Single family dwelling  417827\n",
       "211  Multi-unit dwelling (apartment, duplex, etc)  259470\n",
       "233                                   Parking lot  146340\n",
       "266                                      Sidewalk  103404\n",
       "224                                Other business   94124\n",
       "311                      Vehicle, passenger/truck   77957\n",
       "64                                       Driveway   41660\n",
       "80                                 Garage/carport   36764\n",
       "258                          Restaurant/fast food   28428"
      ]
     },
     "execution_count": 43,
     "metadata": {},
     "output_type": "execute_result"
    }
   ],
   "source": [
    "places.head(10)"
   ]
  },
  {
   "cell_type": "markdown",
   "metadata": {},
   "source": [
    "### Areas of the city? "
   ]
  },
  {
   "cell_type": "code",
   "execution_count": 44,
   "metadata": {},
   "outputs": [],
   "source": [
    "divisions = crimes.groupby(['division_name'])\\\n",
    ".agg('size').reset_index(name='total').sort_values(by='total', ascending=False)"
   ]
  },
  {
   "cell_type": "code",
   "execution_count": 45,
   "metadata": {},
   "outputs": [
    {
     "data": {
      "text/html": [
       "<div>\n",
       "<style scoped>\n",
       "    .dataframe tbody tr th:only-of-type {\n",
       "        vertical-align: middle;\n",
       "    }\n",
       "\n",
       "    .dataframe tbody tr th {\n",
       "        vertical-align: top;\n",
       "    }\n",
       "\n",
       "    .dataframe thead th {\n",
       "        text-align: right;\n",
       "    }\n",
       "</style>\n",
       "<table border=\"1\" class=\"dataframe\">\n",
       "  <thead>\n",
       "    <tr style=\"text-align: right;\">\n",
       "      <th></th>\n",
       "      <th>division_name</th>\n",
       "      <th>total</th>\n",
       "    </tr>\n",
       "  </thead>\n",
       "  <tbody>\n",
       "    <tr>\n",
       "      <th>0</th>\n",
       "      <td>77th Street</td>\n",
       "      <td>142045</td>\n",
       "    </tr>\n",
       "    <tr>\n",
       "      <th>15</th>\n",
       "      <td>Southwest</td>\n",
       "      <td>132261</td>\n",
       "    </tr>\n",
       "    <tr>\n",
       "      <th>8</th>\n",
       "      <td>N Hollywood</td>\n",
       "      <td>111182</td>\n",
       "    </tr>\n",
       "    <tr>\n",
       "      <th>12</th>\n",
       "      <td>Pacific</td>\n",
       "      <td>109615</td>\n",
       "    </tr>\n",
       "    <tr>\n",
       "      <th>14</th>\n",
       "      <td>Southeast</td>\n",
       "      <td>108814</td>\n",
       "    </tr>\n",
       "    <tr>\n",
       "      <th>7</th>\n",
       "      <td>Mission</td>\n",
       "      <td>101307</td>\n",
       "    </tr>\n",
       "    <tr>\n",
       "      <th>10</th>\n",
       "      <td>Northeast</td>\n",
       "      <td>97969</td>\n",
       "    </tr>\n",
       "    <tr>\n",
       "      <th>9</th>\n",
       "      <td>Newton</td>\n",
       "      <td>97494</td>\n",
       "    </tr>\n",
       "    <tr>\n",
       "      <th>17</th>\n",
       "      <td>Van Nuys</td>\n",
       "      <td>97282</td>\n",
       "    </tr>\n",
       "    <tr>\n",
       "      <th>6</th>\n",
       "      <td>Hollywood</td>\n",
       "      <td>96352</td>\n",
       "    </tr>\n",
       "  </tbody>\n",
       "</table>\n",
       "</div>"
      ],
      "text/plain": [
       "   division_name   total\n",
       "0    77th Street  142045\n",
       "15     Southwest  132261\n",
       "8    N Hollywood  111182\n",
       "12       Pacific  109615\n",
       "14     Southeast  108814\n",
       "7        Mission  101307\n",
       "10     Northeast   97969\n",
       "9         Newton   97494\n",
       "17      Van Nuys   97282\n",
       "6      Hollywood   96352"
      ]
     },
     "execution_count": 45,
     "metadata": {},
     "output_type": "execute_result"
    }
   ],
   "source": [
    "divisions.head(10)"
   ]
  },
  {
   "cell_type": "markdown",
   "metadata": {},
   "source": [
    "### What kinds of weapons?"
   ]
  },
  {
   "cell_type": "code",
   "execution_count": 46,
   "metadata": {},
   "outputs": [],
   "source": [
    "weapons = crimes.groupby(['weapon_description'])\\\n",
    ".agg('size').reset_index(name='total').sort_values(by='total', ascending=False)"
   ]
  },
  {
   "cell_type": "code",
   "execution_count": 47,
   "metadata": {},
   "outputs": [
    {
     "data": {
      "text/html": [
       "<div>\n",
       "<style scoped>\n",
       "    .dataframe tbody tr th:only-of-type {\n",
       "        vertical-align: middle;\n",
       "    }\n",
       "\n",
       "    .dataframe tbody tr th {\n",
       "        vertical-align: top;\n",
       "    }\n",
       "\n",
       "    .dataframe thead th {\n",
       "        text-align: right;\n",
       "    }\n",
       "</style>\n",
       "<table border=\"1\" class=\"dataframe\">\n",
       "  <thead>\n",
       "    <tr style=\"text-align: right;\">\n",
       "      <th></th>\n",
       "      <th>weapon_description</th>\n",
       "      <th>total</th>\n",
       "    </tr>\n",
       "  </thead>\n",
       "  <tbody>\n",
       "    <tr>\n",
       "      <th>65</th>\n",
       "      <td>Strong-arm (hands, fist, feet or bodily force)</td>\n",
       "      <td>420047</td>\n",
       "    </tr>\n",
       "    <tr>\n",
       "      <th>78</th>\n",
       "      <td>Verbal threat</td>\n",
       "      <td>57315</td>\n",
       "    </tr>\n",
       "    <tr>\n",
       "      <th>75</th>\n",
       "      <td>Unknown weapon/other weapon</td>\n",
       "      <td>55848</td>\n",
       "    </tr>\n",
       "    <tr>\n",
       "      <th>27</th>\n",
       "      <td>Hand gun</td>\n",
       "      <td>33292</td>\n",
       "    </tr>\n",
       "    <tr>\n",
       "      <th>58</th>\n",
       "      <td>Semi-automatic pistol</td>\n",
       "      <td>12662</td>\n",
       "    </tr>\n",
       "    <tr>\n",
       "      <th>32</th>\n",
       "      <td>Knife with blade 6inches or less</td>\n",
       "      <td>12527</td>\n",
       "    </tr>\n",
       "    <tr>\n",
       "      <th>44</th>\n",
       "      <td>Other knife</td>\n",
       "      <td>9521</td>\n",
       "    </tr>\n",
       "    <tr>\n",
       "      <th>73</th>\n",
       "      <td>Unknown firearm</td>\n",
       "      <td>7728</td>\n",
       "    </tr>\n",
       "    <tr>\n",
       "      <th>77</th>\n",
       "      <td>Vehicle</td>\n",
       "      <td>7076</td>\n",
       "    </tr>\n",
       "    <tr>\n",
       "      <th>50</th>\n",
       "      <td>Revolver</td>\n",
       "      <td>5496</td>\n",
       "    </tr>\n",
       "  </tbody>\n",
       "</table>\n",
       "</div>"
      ],
      "text/plain": [
       "                                weapon_description   total\n",
       "65  Strong-arm (hands, fist, feet or bodily force)  420047\n",
       "78                                   Verbal threat   57315\n",
       "75                     Unknown weapon/other weapon   55848\n",
       "27                                        Hand gun   33292\n",
       "58                           Semi-automatic pistol   12662\n",
       "32                Knife with blade 6inches or less   12527\n",
       "44                                     Other knife    9521\n",
       "73                                 Unknown firearm    7728\n",
       "77                                         Vehicle    7076\n",
       "50                                        Revolver    5496"
      ]
     },
     "execution_count": 47,
     "metadata": {},
     "output_type": "execute_result"
    }
   ],
   "source": [
    "weapons.head(10)"
   ]
  },
  {
   "cell_type": "markdown",
   "metadata": {},
   "source": [
    "### Which days of the week?"
   ]
  },
  {
   "cell_type": "code",
   "execution_count": 48,
   "metadata": {},
   "outputs": [],
   "source": [
    "weekdays = crimes.groupby(['weekday'])\\\n",
    ".agg('size').reset_index(name='total').sort_values(by='total', ascending=False)"
   ]
  },
  {
   "cell_type": "code",
   "execution_count": 49,
   "metadata": {},
   "outputs": [
    {
     "data": {
      "text/html": [
       "<div>\n",
       "<style scoped>\n",
       "    .dataframe tbody tr th:only-of-type {\n",
       "        vertical-align: middle;\n",
       "    }\n",
       "\n",
       "    .dataframe tbody tr th {\n",
       "        vertical-align: top;\n",
       "    }\n",
       "\n",
       "    .dataframe thead th {\n",
       "        text-align: right;\n",
       "    }\n",
       "</style>\n",
       "<table border=\"1\" class=\"dataframe\">\n",
       "  <thead>\n",
       "    <tr style=\"text-align: right;\">\n",
       "      <th></th>\n",
       "      <th>weekday</th>\n",
       "      <th>total</th>\n",
       "    </tr>\n",
       "  </thead>\n",
       "  <tbody>\n",
       "    <tr>\n",
       "      <th>0</th>\n",
       "      <td>Friday</td>\n",
       "      <td>317192</td>\n",
       "    </tr>\n",
       "    <tr>\n",
       "      <th>2</th>\n",
       "      <td>Saturday</td>\n",
       "      <td>296815</td>\n",
       "    </tr>\n",
       "    <tr>\n",
       "      <th>1</th>\n",
       "      <td>Monday</td>\n",
       "      <td>293949</td>\n",
       "    </tr>\n",
       "    <tr>\n",
       "      <th>6</th>\n",
       "      <td>Wednesday</td>\n",
       "      <td>291986</td>\n",
       "    </tr>\n",
       "    <tr>\n",
       "      <th>4</th>\n",
       "      <td>Thursday</td>\n",
       "      <td>290491</td>\n",
       "    </tr>\n",
       "    <tr>\n",
       "      <th>5</th>\n",
       "      <td>Tuesday</td>\n",
       "      <td>287999</td>\n",
       "    </tr>\n",
       "    <tr>\n",
       "      <th>3</th>\n",
       "      <td>Sunday</td>\n",
       "      <td>283921</td>\n",
       "    </tr>\n",
       "  </tbody>\n",
       "</table>\n",
       "</div>"
      ],
      "text/plain": [
       "     weekday   total\n",
       "0     Friday  317192\n",
       "2   Saturday  296815\n",
       "1     Monday  293949\n",
       "6  Wednesday  291986\n",
       "4   Thursday  290491\n",
       "5    Tuesday  287999\n",
       "3     Sunday  283921"
      ]
     },
     "execution_count": 49,
     "metadata": {},
     "output_type": "execute_result"
    }
   ],
   "source": [
    "weekdays.head(7)"
   ]
  },
  {
   "cell_type": "markdown",
   "metadata": {},
   "source": [
    "---"
   ]
  },
  {
   "cell_type": "markdown",
   "metadata": {},
   "source": [
    "### Cleaning up modus operandi"
   ]
  },
  {
   "cell_type": "code",
   "execution_count": 50,
   "metadata": {},
   "outputs": [],
   "source": [
    "# df = crimes[['record_id', 'modus_operandi_code']]"
   ]
  },
  {
   "cell_type": "code",
   "execution_count": 51,
   "metadata": {},
   "outputs": [],
   "source": [
    "# df['modus_operandi_code'] = df['modus_operandi_code'].dropna().apply(lambda x: x.split(' '))"
   ]
  },
  {
   "cell_type": "code",
   "execution_count": 52,
   "metadata": {},
   "outputs": [],
   "source": [
    "# final = df['modus_operandi_code'].apply(pd.Series)\\\n",
    "# .merge(df, left_index = True, right_index = True)\\\n",
    "# .drop('modus_operandi_code', axis = 1)\\\n",
    "# .melt(id_vars = ['record_id'], value_name = \"modus_operandi_code\", var_name = 'modoporder')\\\n",
    "# .dropna(subset=['modus_operandi_code'])\\\n",
    "# .sort_values('record_id')"
   ]
  },
  {
   "cell_type": "code",
   "execution_count": 53,
   "metadata": {},
   "outputs": [],
   "source": [
    "# mo_counts = final.groupby(['modus_operandi_code']).agg('size')\\\n",
    "# .reset_index(name='count').sort_values(by='count', ascending=False)"
   ]
  },
  {
   "cell_type": "code",
   "execution_count": 54,
   "metadata": {},
   "outputs": [],
   "source": [
    "# merged_mo_counts = pd.merge(mo_counts, mocodes, \n",
    "#                      left_on = 'modus_operandi_code', \n",
    "#                      right_on = 'mo_code', \n",
    "#                      how='left')"
   ]
  },
  {
   "cell_type": "code",
   "execution_count": 55,
   "metadata": {},
   "outputs": [],
   "source": [
    "# merged_mo_counts.head()"
   ]
  },
  {
   "cell_type": "markdown",
   "metadata": {},
   "source": [
    "---"
   ]
  },
  {
   "cell_type": "markdown",
   "metadata": {},
   "source": [
    "## Burglary from vehicle"
   ]
  },
  {
   "cell_type": "code",
   "execution_count": 56,
   "metadata": {},
   "outputs": [
    {
     "data": {
      "text/html": [
       "<div>\n",
       "<style scoped>\n",
       "    .dataframe tbody tr th:only-of-type {\n",
       "        vertical-align: middle;\n",
       "    }\n",
       "\n",
       "    .dataframe tbody tr th {\n",
       "        vertical-align: top;\n",
       "    }\n",
       "\n",
       "    .dataframe thead th {\n",
       "        text-align: right;\n",
       "    }\n",
       "</style>\n",
       "<table border=\"1\" class=\"dataframe\">\n",
       "  <thead>\n",
       "    <tr style=\"text-align: right;\">\n",
       "      <th></th>\n",
       "      <th>record_id</th>\n",
       "      <th>date_reported</th>\n",
       "      <th>date_occurred</th>\n",
       "      <th>time_occurred</th>\n",
       "      <th>division</th>\n",
       "      <th>division_name</th>\n",
       "      <th>reporting_district</th>\n",
       "      <th>part_type</th>\n",
       "      <th>crime_code</th>\n",
       "      <th>crime_code_description</th>\n",
       "      <th>modus_operandi_code</th>\n",
       "      <th>victim_age</th>\n",
       "      <th>victim_sex</th>\n",
       "      <th>victim_descent</th>\n",
       "      <th>premises_code</th>\n",
       "      <th>premises_description</th>\n",
       "      <th>weapon_code</th>\n",
       "      <th>weapon_description</th>\n",
       "      <th>status_code</th>\n",
       "      <th>status_code_description</th>\n",
       "      <th>crm_cd_1</th>\n",
       "      <th>crm_cd_2</th>\n",
       "      <th>crm_cd_3</th>\n",
       "      <th>crm_cd_4</th>\n",
       "      <th>address</th>\n",
       "      <th>cross_street</th>\n",
       "      <th>latitude</th>\n",
       "      <th>longitide</th>\n",
       "      <th>year</th>\n",
       "      <th>quarter</th>\n",
       "      <th>day</th>\n",
       "      <th>month</th>\n",
       "      <th>weekday</th>\n",
       "      <th>monthname</th>\n",
       "      <th>descent_description</th>\n",
       "      <th>hour</th>\n",
       "      <th>minute</th>\n",
       "    </tr>\n",
       "  </thead>\n",
       "  <tbody>\n",
       "    <tr>\n",
       "      <th>0</th>\n",
       "      <td>1307355</td>\n",
       "      <td>02/20/2010</td>\n",
       "      <td>2010-02-20</td>\n",
       "      <td>1350</td>\n",
       "      <td>13</td>\n",
       "      <td>Newton</td>\n",
       "      <td>1385</td>\n",
       "      <td>2</td>\n",
       "      <td>900</td>\n",
       "      <td>Violation of court order</td>\n",
       "      <td>0913 1814 2000</td>\n",
       "      <td>48</td>\n",
       "      <td>M</td>\n",
       "      <td>H</td>\n",
       "      <td>501</td>\n",
       "      <td>Single family dwelling</td>\n",
       "      <td>nan</td>\n",
       "      <td>NaN</td>\n",
       "      <td>AA</td>\n",
       "      <td>Adult Arrest</td>\n",
       "      <td>900</td>\n",
       "      <td>nan</td>\n",
       "      <td>nan</td>\n",
       "      <td>nan</td>\n",
       "      <td>300 E  GAGE                         AV</td>\n",
       "      <td>NaN</td>\n",
       "      <td>33.9825</td>\n",
       "      <td>-118.2695</td>\n",
       "      <td>2010</td>\n",
       "      <td>1</td>\n",
       "      <td>20</td>\n",
       "      <td>2</td>\n",
       "      <td>Saturday</td>\n",
       "      <td>February</td>\n",
       "      <td>Hispanic</td>\n",
       "      <td>13</td>\n",
       "      <td>50</td>\n",
       "    </tr>\n",
       "  </tbody>\n",
       "</table>\n",
       "</div>"
      ],
      "text/plain": [
       "  record_id date_reported date_occurred time_occurred division division_name  \\\n",
       "0   1307355    02/20/2010    2010-02-20          1350       13        Newton   \n",
       "\n",
       "  reporting_district part_type crime_code    crime_code_description  \\\n",
       "0               1385         2        900  Violation of court order   \n",
       "\n",
       "  modus_operandi_code  victim_age victim_sex victim_descent premises_code  \\\n",
       "0      0913 1814 2000          48          M              H           501   \n",
       "\n",
       "     premises_description weapon_code weapon_description status_code  \\\n",
       "0  Single family dwelling         nan                NaN          AA   \n",
       "\n",
       "  status_code_description crm_cd_1 crm_cd_2 crm_cd_3 crm_cd_4  \\\n",
       "0            Adult Arrest      900      nan      nan      nan   \n",
       "\n",
       "                                  address cross_street  latitude  longitide  \\\n",
       "0  300 E  GAGE                         AV          NaN   33.9825  -118.2695   \n",
       "\n",
       "   year quarter day month   weekday monthname descent_description hour minute  \n",
       "0  2010       1  20     2  Saturday  February            Hispanic   13     50  "
      ]
     },
     "execution_count": 56,
     "metadata": {},
     "output_type": "execute_result"
    }
   ],
   "source": [
    "crimes.head(1)"
   ]
  },
  {
   "cell_type": "code",
   "execution_count": 57,
   "metadata": {},
   "outputs": [],
   "source": [
    "vehicle_burglaries = crimes[crimes['crime_code_description'] == 'Burglary from vehicle']"
   ]
  },
  {
   "cell_type": "code",
   "execution_count": 65,
   "metadata": {},
   "outputs": [
    {
     "data": {
      "text/html": [
       "<div>\n",
       "<style scoped>\n",
       "    .dataframe tbody tr th:only-of-type {\n",
       "        vertical-align: middle;\n",
       "    }\n",
       "\n",
       "    .dataframe tbody tr th {\n",
       "        vertical-align: top;\n",
       "    }\n",
       "\n",
       "    .dataframe thead th {\n",
       "        text-align: right;\n",
       "    }\n",
       "</style>\n",
       "<table border=\"1\" class=\"dataframe\">\n",
       "  <thead>\n",
       "    <tr style=\"text-align: right;\">\n",
       "      <th></th>\n",
       "      <th>division_name</th>\n",
       "      <th>total</th>\n",
       "    </tr>\n",
       "  </thead>\n",
       "  <tbody>\n",
       "    <tr>\n",
       "      <th>8</th>\n",
       "      <td>N Hollywood</td>\n",
       "      <td>11867</td>\n",
       "    </tr>\n",
       "    <tr>\n",
       "      <th>6</th>\n",
       "      <td>Hollywood</td>\n",
       "      <td>9535</td>\n",
       "    </tr>\n",
       "    <tr>\n",
       "      <th>12</th>\n",
       "      <td>Pacific</td>\n",
       "      <td>9224</td>\n",
       "    </tr>\n",
       "    <tr>\n",
       "      <th>18</th>\n",
       "      <td>West LA</td>\n",
       "      <td>8685</td>\n",
       "    </tr>\n",
       "    <tr>\n",
       "      <th>17</th>\n",
       "      <td>Van Nuys</td>\n",
       "      <td>8667</td>\n",
       "    </tr>\n",
       "    <tr>\n",
       "      <th>10</th>\n",
       "      <td>Northeast</td>\n",
       "      <td>8624</td>\n",
       "    </tr>\n",
       "    <tr>\n",
       "      <th>2</th>\n",
       "      <td>Devonshire</td>\n",
       "      <td>8366</td>\n",
       "    </tr>\n",
       "    <tr>\n",
       "      <th>20</th>\n",
       "      <td>Wilshire</td>\n",
       "      <td>7990</td>\n",
       "    </tr>\n",
       "    <tr>\n",
       "      <th>11</th>\n",
       "      <td>Olympic</td>\n",
       "      <td>7949</td>\n",
       "    </tr>\n",
       "    <tr>\n",
       "      <th>15</th>\n",
       "      <td>Southwest</td>\n",
       "      <td>7927</td>\n",
       "    </tr>\n",
       "  </tbody>\n",
       "</table>\n",
       "</div>"
      ],
      "text/plain": [
       "   division_name  total\n",
       "8    N Hollywood  11867\n",
       "6      Hollywood   9535\n",
       "12       Pacific   9224\n",
       "18       West LA   8685\n",
       "17      Van Nuys   8667\n",
       "10     Northeast   8624\n",
       "2     Devonshire   8366\n",
       "20      Wilshire   7990\n",
       "11       Olympic   7949\n",
       "15     Southwest   7927"
      ]
     },
     "execution_count": 65,
     "metadata": {},
     "output_type": "execute_result"
    }
   ],
   "source": [
    "vehicle_burglaries_grouped = vehicle_burglaries.groupby(['division_name'])\\\n",
    ".agg('size').reset_index(name='total').sort_values(by='total', ascending=False)\n",
    "vehicle_burglaries_grouped.head(10)"
   ]
  },
  {
   "cell_type": "code",
   "execution_count": null,
   "metadata": {},
   "outputs": [],
   "source": []
  }
 ],
 "metadata": {
  "kernelspec": {
   "display_name": "Python 3",
   "language": "python",
   "name": "python3"
  },
  "language_info": {
   "codemirror_mode": {
    "name": "ipython",
    "version": 3
   },
   "file_extension": ".py",
   "mimetype": "text/x-python",
   "name": "python",
   "nbconvert_exporter": "python",
   "pygments_lexer": "ipython3",
   "version": "3.7.3"
  }
 },
 "nbformat": 4,
 "nbformat_minor": 2
}
