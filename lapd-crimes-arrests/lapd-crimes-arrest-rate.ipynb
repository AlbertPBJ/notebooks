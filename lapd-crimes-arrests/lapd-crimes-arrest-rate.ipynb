{
 "cells": [
  {
   "cell_type": "markdown",
   "metadata": {},
   "source": [
    "# How often does LAPD make arrests in Part I crimes_major?"
   ]
  },
  {
   "cell_type": "markdown",
   "metadata": {},
   "source": [
    "### Import data tools"
   ]
  },
  {
   "cell_type": "code",
   "execution_count": 16,
   "metadata": {},
   "outputs": [],
   "source": [
    "import pandas as pd\n",
    "import geopandas as gpd\n",
    "import matplotlib\n",
    "import matplotlib.pyplot as plt\n",
    "import geojson\n",
    "import json\n",
    "import jenkspy\n",
    "import numpy as np\n",
    "from earthpy import clip as cl\n",
    "from altair import datum\n",
    "import weightedcalcs as wc\n",
    "import altair as alt\n",
    "alt.renderers.enable('notebook')\n",
    "import altair_latimes as lat\n",
    "alt.themes.register('latimes', lat.theme)\n",
    "alt.themes.enable('latimes')\n",
    "pd.options.display.max_columns = 50\n",
    "pd.options.display.max_rows = 1000"
   ]
  },
  {
   "cell_type": "markdown",
   "metadata": {},
   "source": [
    "### Read crimes_major CSV downloaded from LA City data portal"
   ]
  },
  {
   "cell_type": "code",
   "execution_count": 153,
   "metadata": {},
   "outputs": [],
   "source": [
    "# https://data.lacity.org/A-Safe-City/Crime-Data-from-2010-to-Present/63jg-8b9z\n",
    "crimes = pd.read_csv('/Users/mhustiles/data/data/LA/Crime_Data_from_2010_to_Present.csv')"
   ]
  },
  {
   "cell_type": "code",
   "execution_count": 155,
   "metadata": {},
   "outputs": [],
   "source": [
    "crimes.columns = crimes.columns.str.strip().str.lower().str.replace(' ', '_')\\\n",
    "                    .str.replace('(', '').str.replace(')', '').str.replace('-','_')"
   ]
  },
  {
   "cell_type": "markdown",
   "metadata": {},
   "source": [
    "### These data are super messy..."
   ]
  },
  {
   "cell_type": "code",
   "execution_count": 156,
   "metadata": {},
   "outputs": [],
   "source": [
    "crimes.rename(columns = { \n",
    "'dr_no':'record_id',\n",
    "'date_rptd':'date_reported',\n",
    "'date_occ':'date_occurred',\n",
    "'time_occ':'time_occurred',\n",
    "'area':'division',\n",
    "'area_name':'division_name',\n",
    "'rpt_dist_no':'reporting_district',\n",
    "'part_1_2':'part_type',\n",
    "'crm_cd':'crime_code',\n",
    "'crm_cd_desc':'crime_code_description',\n",
    "'mocodes':'modus_operandi_code',\n",
    "'vict_age':'victim_age',\n",
    "'vict_sex':'victim_sex',\n",
    "'vict_descent':'victim_descent',\n",
    "'premis_cd':'premises_code',\n",
    "'premis_desc':'premises_description',\n",
    "'weapon_used_cd':'weapon_code',\n",
    "'weapon_desc':'weapon_description',\n",
    "'status':'status_code',\n",
    "'status_desc':'status_code_description',\n",
    "'crm_cd_1':'crm_cd_1',\n",
    "'crm_cd_2':'crm_cd_2',\n",
    "'crm_cd_3':'crm_cd_3',\n",
    "'crm_cd_4':'crm_cd_4',\n",
    "'location':'address',\n",
    "'cross_street':'cross_street',\n",
    "'lat':'latitude',\n",
    "'lon':'longitide',\n",
    " }, inplace = True)"
   ]
  },
  {
   "cell_type": "markdown",
   "metadata": {},
   "source": [
    "### ... contunued"
   ]
  },
  {
   "cell_type": "code",
   "execution_count": 157,
   "metadata": {},
   "outputs": [],
   "source": [
    "crimes['date_reported'] = crimes['date_reported'].str.replace(' 12:00:00 AM','')\n",
    "crimes['date_occurred'] = crimes['date_occurred'].str.replace(' 12:00:00 AM','')"
   ]
  },
  {
   "cell_type": "code",
   "execution_count": 158,
   "metadata": {},
   "outputs": [],
   "source": [
    "crimes['date_occurred'] = pd.to_datetime(crimes['date_occurred'], format='%m/%d/%Y')"
   ]
  },
  {
   "cell_type": "code",
   "execution_count": 159,
   "metadata": {},
   "outputs": [],
   "source": [
    "crimes['year'] = crimes['date_occurred'].dt.year\n",
    "crimes['quarter'] = crimes['date_occurred'].dt.quarter\n",
    "crimes['day'] = crimes['date_occurred'].dt.day\n",
    "crimes['month'] = crimes['date_occurred'].dt.month\n",
    "crimes['weekday'] = crimes['date_occurred'].dt.weekday_name\n",
    "crimes['monthname'] = crimes['date_occurred'].dt.month_name()"
   ]
  },
  {
   "cell_type": "code",
   "execution_count": 163,
   "metadata": {},
   "outputs": [],
   "source": [
    "crimes[[ 'record_id', \n",
    "    'time_occurred', \n",
    "    'division', \n",
    "    'reporting_district', \n",
    "    'part_type',\n",
    "    'crm_cd_1',\n",
    "    'crm_cd_2',\n",
    "    'crm_cd_3',\n",
    "    'crm_cd_4',\n",
    "    'crime_code', \n",
    "    'premises_code', \n",
    "    'weapon_code',\n",
    "    'year',\n",
    "    'quarter',\n",
    "    'day',\n",
    "    'month', ]] = crimes[[\n",
    "    'record_id', \n",
    "    'time_occurred', \n",
    "    'division', \n",
    "    'reporting_district', \n",
    "    'part_type',\n",
    "    'crm_cd_1',\n",
    "    'crm_cd_2',\n",
    "    'crm_cd_3',\n",
    "    'crm_cd_4',\n",
    "    'crime_code', \n",
    "    'premises_code', \n",
    "    'weapon_code',\n",
    "    'year',\n",
    "    'quarter',\n",
    "    'day',\n",
    "    'month',]].astype(str)"
   ]
  },
  {
   "cell_type": "code",
   "execution_count": 164,
   "metadata": {},
   "outputs": [],
   "source": [
    "descent_recode = { 'A':\"asian\",'B':\"black\",'C':\"asian\",'D':\"asian\",'F':\"asian\",'G':\"asian\",\\\n",
    "                 'H':\"hispanic\",'I':\"ai_an\",'J':\"asian\",\\\n",
    "                 'K':\"asian\",'L':\"asian\",'O':\"other\",'P':\"asian\",'S':\"asian\",\\\n",
    "                 'U':\"asian\",'V':\"asian\",'W':\"white\",'X':\"other\",'Z':\"asian\" }"
   ]
  },
  {
   "cell_type": "code",
   "execution_count": 166,
   "metadata": {},
   "outputs": [],
   "source": [
    "crimes['descent_description'] = crimes['victim_descent'].map(descent_recode)"
   ]
  },
  {
   "cell_type": "code",
   "execution_count": 167,
   "metadata": {},
   "outputs": [],
   "source": [
    "victim_sex_recode = { 'F':\"female\",'M':\"male\",'X':\"unknown\",'-':\"unknown\",'N':\"unknown\",'H':\"unknown\" }"
   ]
  },
  {
   "cell_type": "code",
   "execution_count": 168,
   "metadata": {},
   "outputs": [],
   "source": [
    "crimes['victim_sex'] = crimes['victim_sex'].map(victim_sex_recode)"
   ]
  },
  {
   "cell_type": "code",
   "execution_count": 169,
   "metadata": {},
   "outputs": [],
   "source": [
    "crimes['premises_code'] = crimes['premises_code'].str.replace('.0','', regex=False)\n",
    "crimes['premises_code'] = crimes['premises_code'].str.replace('.0','', regex=False)\n",
    "crimes['crm_cd_1'] = crimes['crm_cd_1'].str.replace('.0','', regex=False)\n",
    "crimes['crm_cd_2'] = crimes['crm_cd_2'].str.replace('.0','', regex=False)"
   ]
  },
  {
   "cell_type": "code",
   "execution_count": 170,
   "metadata": {},
   "outputs": [],
   "source": [
    "crimes['premises_description'] = crimes['premises_description'].str.capitalize()\n",
    "crimes['status_code_description'] = crimes['status_code_description'].str.lower().str.replace(' ','_')\n",
    "crimes['crime_code_description'] = crimes['crime_code_description'].str.capitalize()\n",
    "crimes['weapon_description'] = crimes['weapon_description'].str.capitalize()"
   ]
  },
  {
   "cell_type": "code",
   "execution_count": 35,
   "metadata": {},
   "outputs": [],
   "source": [
    "monthnames = ['January','February','March','April','May','June','July','August','September','October','November','December']"
   ]
  },
  {
   "cell_type": "code",
   "execution_count": 171,
   "metadata": {},
   "outputs": [],
   "source": [
    "crimes['time_occurred'] = crimes['time_occurred'].str.replace('.0','', regex=False)\n",
    "crimes['time_occurred'] = crimes['time_occurred'].str.zfill(4)\n",
    "crimes['hour'] = crimes['time_occurred'].str[:2]\n",
    "crimes['minute'] = crimes['time_occurred'].str[2:]\n",
    "crimes = crimes[crimes['hour'] != '0n']\n",
    "crimes = crimes[crimes['hour'] != '24']"
   ]
  },
  {
   "cell_type": "code",
   "execution_count": 172,
   "metadata": {},
   "outputs": [],
   "source": [
    "homicides = crimes[crimes['crime_code_description'].str.contains('Criminal homicide', na=False)]"
   ]
  },
  {
   "cell_type": "markdown",
   "metadata": {},
   "source": [
    "---"
   ]
  },
  {
   "cell_type": "markdown",
   "metadata": {},
   "source": [
    "### How many homicides: 2010-19?"
   ]
  },
  {
   "cell_type": "code",
   "execution_count": 189,
   "metadata": {},
   "outputs": [
    {
     "data": {
      "text/plain": [
       "2722"
      ]
     },
     "execution_count": 189,
     "metadata": {},
     "output_type": "execute_result"
    }
   ],
   "source": [
    "len(homicides)"
   ]
  },
  {
   "cell_type": "markdown",
   "metadata": {},
   "source": [
    "### Filter dataframe so it only inlcudes part I — or \"major\" — cases"
   ]
  },
  {
   "cell_type": "code",
   "execution_count": 190,
   "metadata": {},
   "outputs": [],
   "source": [
    "crimes_major = crimes.loc[crimes.part_type == '1']"
   ]
  },
  {
   "cell_type": "code",
   "execution_count": 191,
   "metadata": {},
   "outputs": [
    {
     "data": {
      "text/plain": [
       "1142556"
      ]
     },
     "execution_count": 191,
     "metadata": {},
     "output_type": "execute_result"
    }
   ],
   "source": [
    "len(crimes_major)"
   ]
  },
  {
   "cell_type": "markdown",
   "metadata": {},
   "source": [
    "### Crime codes"
   ]
  },
  {
   "cell_type": "code",
   "execution_count": 42,
   "metadata": {},
   "outputs": [],
   "source": [
    "codes = crimes_major.groupby(['part_type', 'crime_code', 'crime_code_description']).agg('size').reset_index()"
   ]
  },
  {
   "cell_type": "code",
   "execution_count": 43,
   "metadata": {},
   "outputs": [
    {
     "data": {
      "text/html": [
       "<div>\n",
       "<style scoped>\n",
       "    .dataframe tbody tr th:only-of-type {\n",
       "        vertical-align: middle;\n",
       "    }\n",
       "\n",
       "    .dataframe tbody tr th {\n",
       "        vertical-align: top;\n",
       "    }\n",
       "\n",
       "    .dataframe thead th {\n",
       "        text-align: right;\n",
       "    }\n",
       "</style>\n",
       "<table border=\"1\" class=\"dataframe\">\n",
       "  <thead>\n",
       "    <tr style=\"text-align: right;\">\n",
       "      <th></th>\n",
       "      <th>part_type</th>\n",
       "      <th>crime_code</th>\n",
       "      <th>crime_code_description</th>\n",
       "      <th>0</th>\n",
       "    </tr>\n",
       "  </thead>\n",
       "  <tbody>\n",
       "    <tr>\n",
       "      <th>0</th>\n",
       "      <td>1</td>\n",
       "      <td>110</td>\n",
       "      <td>Criminal homicide</td>\n",
       "      <td>2722</td>\n",
       "    </tr>\n",
       "    <tr>\n",
       "      <th>1</th>\n",
       "      <td>1</td>\n",
       "      <td>113</td>\n",
       "      <td>Manslaughter, negligent</td>\n",
       "      <td>5</td>\n",
       "    </tr>\n",
       "    <tr>\n",
       "      <th>2</th>\n",
       "      <td>1</td>\n",
       "      <td>121</td>\n",
       "      <td>Rape, forcible</td>\n",
       "      <td>9931</td>\n",
       "    </tr>\n",
       "    <tr>\n",
       "      <th>3</th>\n",
       "      <td>1</td>\n",
       "      <td>122</td>\n",
       "      <td>Rape, attempted</td>\n",
       "      <td>1082</td>\n",
       "    </tr>\n",
       "    <tr>\n",
       "      <th>4</th>\n",
       "      <td>1</td>\n",
       "      <td>210</td>\n",
       "      <td>Robbery</td>\n",
       "      <td>81975</td>\n",
       "    </tr>\n",
       "  </tbody>\n",
       "</table>\n",
       "</div>"
      ],
      "text/plain": [
       "  part_type crime_code   crime_code_description      0\n",
       "0         1        110        Criminal homicide   2722\n",
       "1         1        113  Manslaughter, negligent      5\n",
       "2         1        121           Rape, forcible   9931\n",
       "3         1        122          Rape, attempted   1082\n",
       "4         1        210                  Robbery  81975"
      ]
     },
     "execution_count": 43,
     "metadata": {},
     "output_type": "execute_result"
    }
   ],
   "source": [
    "codes.head()"
   ]
  },
  {
   "cell_type": "markdown",
   "metadata": {},
   "source": [
    "### Recode crime_codes to identify 'part one' violent/property crimes_major"
   ]
  },
  {
   "cell_type": "code",
   "execution_count": 44,
   "metadata": {},
   "outputs": [],
   "source": [
    "part_one_violent = ['110','113','121','122','210','220','230','231',\\\n",
    "                    '235','236','250','251','761','815','820','821']"
   ]
  },
  {
   "cell_type": "code",
   "execution_count": 45,
   "metadata": {},
   "outputs": [],
   "source": [
    "part_one_property = ['310','320','330','331','341','343','345','350',\n",
    "                     '351','352','353','410','420','421','433','440','441',\n",
    "                     '442','443','444','445','450','451','452','453','470','471'\n",
    "                     ,'472','473','474','475','480','485','487','510','520','522']"
   ]
  },
  {
   "cell_type": "code",
   "execution_count": 46,
   "metadata": {},
   "outputs": [],
   "source": [
    "categories = []\n",
    "\n",
    "for row in crimes_major['crime_code']:\n",
    "    if row in part_one_violent:\n",
    "        categories.append('pt_one_violent')\n",
    "    elif row in part_one_property:\n",
    "        categories.append('pt_one_property')\n",
    "    else:\n",
    "        categories.append('other')\n",
    "        \n",
    "crimes_major['part_category'] = categories"
   ]
  },
  {
   "cell_type": "code",
   "execution_count": 47,
   "metadata": {},
   "outputs": [
    {
     "data": {
      "text/plain": [
       "pt_one_property    78.77\n",
       "pt_one_violent     20.93\n",
       "other               0.30\n",
       "Name: part_category, dtype: float64"
      ]
     },
     "execution_count": 47,
     "metadata": {},
     "output_type": "execute_result"
    }
   ],
   "source": [
    "crimes_major['part_category'].value_counts('normalize').round(4)*100"
   ]
  },
  {
   "cell_type": "markdown",
   "metadata": {},
   "source": [
    "---"
   ]
  },
  {
   "cell_type": "markdown",
   "metadata": {},
   "source": [
    "## Now that it's clean, what can we learn from this data?"
   ]
  },
  {
   "cell_type": "code",
   "execution_count": 50,
   "metadata": {},
   "outputs": [],
   "source": [
    "cases_grouped = crimes_major.groupby(['crime_code_description', 'victim_sex'])\\\n",
    ".agg('size').reset_index(name='total').sort_values(by='total', ascending=False)"
   ]
  },
  {
   "cell_type": "code",
   "execution_count": 51,
   "metadata": {},
   "outputs": [
    {
     "data": {
      "text/html": [
       "<div>\n",
       "<style scoped>\n",
       "    .dataframe tbody tr th:only-of-type {\n",
       "        vertical-align: middle;\n",
       "    }\n",
       "\n",
       "    .dataframe tbody tr th {\n",
       "        vertical-align: top;\n",
       "    }\n",
       "\n",
       "    .dataframe thead th {\n",
       "        text-align: right;\n",
       "    }\n",
       "</style>\n",
       "<table border=\"1\" class=\"dataframe\">\n",
       "  <thead>\n",
       "    <tr style=\"text-align: right;\">\n",
       "      <th></th>\n",
       "      <th>crime_code_description</th>\n",
       "      <th>victim_sex</th>\n",
       "      <th>total</th>\n",
       "    </tr>\n",
       "  </thead>\n",
       "  <tbody>\n",
       "    <tr>\n",
       "      <th>26</th>\n",
       "      <td>Burglary from vehicle</td>\n",
       "      <td>male</td>\n",
       "      <td>87075</td>\n",
       "    </tr>\n",
       "    <tr>\n",
       "      <th>23</th>\n",
       "      <td>Burglary</td>\n",
       "      <td>male</td>\n",
       "      <td>81418</td>\n",
       "    </tr>\n",
       "    <tr>\n",
       "      <th>117</th>\n",
       "      <td>Theft plain - petty ($950 &amp; under)</td>\n",
       "      <td>male</td>\n",
       "      <td>76316</td>\n",
       "    </tr>\n",
       "    <tr>\n",
       "      <th>25</th>\n",
       "      <td>Burglary from vehicle</td>\n",
       "      <td>female</td>\n",
       "      <td>70473</td>\n",
       "    </tr>\n",
       "    <tr>\n",
       "      <th>7</th>\n",
       "      <td>Assault with deadly weapon, aggravated assault</td>\n",
       "      <td>male</td>\n",
       "      <td>65377</td>\n",
       "    </tr>\n",
       "  </tbody>\n",
       "</table>\n",
       "</div>"
      ],
      "text/plain": [
       "                             crime_code_description victim_sex  total\n",
       "26                            Burglary from vehicle       male  87075\n",
       "23                                         Burglary       male  81418\n",
       "117              Theft plain - petty ($950 & under)       male  76316\n",
       "25                            Burglary from vehicle     female  70473\n",
       "7    Assault with deadly weapon, aggravated assault       male  65377"
      ]
     },
     "execution_count": 51,
     "metadata": {},
     "output_type": "execute_result"
    }
   ],
   "source": [
    "cases_grouped.head()"
   ]
  },
  {
   "cell_type": "markdown",
   "metadata": {},
   "source": [
    "### Cases involving suspects or victimes defined by LAPD as 'homeless'"
   ]
  },
  {
   "cell_type": "code",
   "execution_count": 52,
   "metadata": {},
   "outputs": [],
   "source": [
    "mocrimes_major = crimes_major.dropna(subset=['modus_operandi_code'])"
   ]
  },
  {
   "cell_type": "code",
   "execution_count": 53,
   "metadata": {},
   "outputs": [],
   "source": [
    "mocodes = pd.read_csv('mo_codes.csv')"
   ]
  },
  {
   "cell_type": "markdown",
   "metadata": {},
   "source": [
    "### Isolating just cases involving homeless people"
   ]
  },
  {
   "cell_type": "code",
   "execution_count": 54,
   "metadata": {},
   "outputs": [
    {
     "data": {
      "text/html": [
       "<div>\n",
       "<style scoped>\n",
       "    .dataframe tbody tr th:only-of-type {\n",
       "        vertical-align: middle;\n",
       "    }\n",
       "\n",
       "    .dataframe tbody tr th {\n",
       "        vertical-align: top;\n",
       "    }\n",
       "\n",
       "    .dataframe thead th {\n",
       "        text-align: right;\n",
       "    }\n",
       "</style>\n",
       "<table border=\"1\" class=\"dataframe\">\n",
       "  <thead>\n",
       "    <tr style=\"text-align: right;\">\n",
       "      <th></th>\n",
       "      <th>mo_code</th>\n",
       "      <th>mo_code_description</th>\n",
       "    </tr>\n",
       "  </thead>\n",
       "  <tbody>\n",
       "    <tr>\n",
       "      <th>361</th>\n",
       "      <td>1218</td>\n",
       "      <td>Victim was Homeless/Transient</td>\n",
       "    </tr>\n",
       "    <tr>\n",
       "      <th>521</th>\n",
       "      <td>2004</td>\n",
       "      <td>Suspect is homeless/transient</td>\n",
       "    </tr>\n",
       "  </tbody>\n",
       "</table>\n",
       "</div>"
      ],
      "text/plain": [
       "    mo_code            mo_code_description\n",
       "361    1218  Victim was Homeless/Transient\n",
       "521    2004  Suspect is homeless/transient"
      ]
     },
     "execution_count": 54,
     "metadata": {},
     "output_type": "execute_result"
    }
   ],
   "source": [
    "# MO Code 1218 is to be used when a victim is homeless\n",
    "# MO Code 2004 is to be used when a suspect is homeless\n",
    "mocodes_homeless = mocodes[mocodes['mo_code_description'].str.lower().str.contains('homeless')]\n",
    "mocodes_homeless.head()"
   ]
  },
  {
   "cell_type": "markdown",
   "metadata": {},
   "source": [
    "### Limit homeless crime data to recent years to account for coding issues"
   ]
  },
  {
   "cell_type": "code",
   "execution_count": 55,
   "metadata": {},
   "outputs": [],
   "source": [
    "homeless_dates = ['2017', '2018', '2019']"
   ]
  },
  {
   "cell_type": "markdown",
   "metadata": {},
   "source": [
    "### Various filters"
   ]
  },
  {
   "cell_type": "code",
   "execution_count": 56,
   "metadata": {},
   "outputs": [],
   "source": [
    "crimes_major['homeless_victim'] = (crimes_major['modus_operandi_code']\\\n",
    "                            .str.contains('1218', na=False)) & (crimes_major['year'].isin(homeless_dates))"
   ]
  },
  {
   "cell_type": "code",
   "execution_count": 57,
   "metadata": {},
   "outputs": [],
   "source": [
    "crimes_major['homeless_suspect'] = (crimes_major['modus_operandi_code']\\\n",
    "                                .str.contains('2004', na=False)) & (crimes_major['year'].isin(homeless_dates))"
   ]
  },
  {
   "cell_type": "code",
   "execution_count": 58,
   "metadata": {},
   "outputs": [],
   "source": [
    "# My street\n",
    "rubens = crimes_major[crimes_major['address'].str.contains('RUBENS', na=False)]\n",
    "# crimes_major tagged by specific modus operandi code\n",
    "bunco = crimes_major[crimes_major['modus_operandi_code'].str.contains('0800', na=False) ]\n",
    "\n",
    "#Homeless people codes\n",
    "homeless_victims = crimes_major[(crimes_major['modus_operandi_code'].str.contains('1218', na=False)) & (crimes_major['year'].isin(homeless_dates))]\n",
    "homeless_suspects = crimes_major[(crimes_major['modus_operandi_code'].str.contains('2004', na=False)) & (crimes_major['year'].isin(homeless_dates))]\n",
    "homeless_homicides = homeless_victims[(homeless_victims['crime_code_description']\\\n",
    "                    .str.contains('Criminal homicide', na=False))\\\n",
    "                    & (homeless_victims['year'].isin(homeless_dates))]"
   ]
  },
  {
   "cell_type": "code",
   "execution_count": 59,
   "metadata": {},
   "outputs": [],
   "source": [
    "homeless_victims_women = homeless_victims[homeless_victims['victim_sex'] == 'female']"
   ]
  },
  {
   "cell_type": "markdown",
   "metadata": {},
   "source": [
    "### How many cases do we have involving homeless people? "
   ]
  },
  {
   "cell_type": "code",
   "execution_count": 60,
   "metadata": {},
   "outputs": [
    {
     "data": {
      "text/plain": [
       "2755"
      ]
     },
     "execution_count": 60,
     "metadata": {},
     "output_type": "execute_result"
    }
   ],
   "source": [
    "len(homeless_victims_women)"
   ]
  },
  {
   "cell_type": "code",
   "execution_count": 61,
   "metadata": {},
   "outputs": [
    {
     "data": {
      "text/plain": [
       "7781"
      ]
     },
     "execution_count": 61,
     "metadata": {},
     "output_type": "execute_result"
    }
   ],
   "source": [
    "len(homeless_victims)"
   ]
  },
  {
   "cell_type": "code",
   "execution_count": 62,
   "metadata": {},
   "outputs": [
    {
     "data": {
      "text/plain": [
       "12800"
      ]
     },
     "execution_count": 62,
     "metadata": {},
     "output_type": "execute_result"
    }
   ],
   "source": [
    "len(homeless_suspects)"
   ]
  },
  {
   "cell_type": "code",
   "execution_count": 63,
   "metadata": {},
   "outputs": [
    {
     "data": {
      "text/plain": [
       "Index(['record_id', 'date_reported', 'date_occurred', 'time_occurred',\n",
       "       'division', 'division_name', 'reporting_district', 'part_type',\n",
       "       'crime_code', 'crime_code_description', 'modus_operandi_code',\n",
       "       'victim_age', 'victim_sex', 'victim_descent', 'premises_code',\n",
       "       'premises_description', 'weapon_code', 'weapon_description',\n",
       "       'status_code', 'status_code_description', 'crm_cd_1', 'crm_cd_2',\n",
       "       'crm_cd_3', 'crm_cd_4', 'address', 'cross_street', 'latitude',\n",
       "       'longitide', 'year', 'quarter', 'day', 'month', 'weekday', 'monthname',\n",
       "       'descent_description', 'hour', 'minute', 'part_category',\n",
       "       'homeless_victim', 'homeless_suspect'],\n",
       "      dtype='object')"
      ]
     },
     "execution_count": 63,
     "metadata": {},
     "output_type": "execute_result"
    }
   ],
   "source": [
    "homeless_victims.columns"
   ]
  },
  {
   "cell_type": "markdown",
   "metadata": {},
   "source": [
    "---"
   ]
  },
  {
   "cell_type": "markdown",
   "metadata": {},
   "source": [
    "## What's the arrest rate for specific crimes_major?"
   ]
  },
  {
   "cell_type": "code",
   "execution_count": 64,
   "metadata": {},
   "outputs": [],
   "source": [
    "status = crimes_major.groupby(['status_code_description', 'homeless_victim',\\\n",
    "                         'crime_code', 'crime_code_description', 'year']).agg('size').reset_index(name='count')"
   ]
  },
  {
   "cell_type": "markdown",
   "metadata": {},
   "source": [
    "### Pivot and count disposition of each crime"
   ]
  },
  {
   "cell_type": "code",
   "execution_count": 65,
   "metadata": {},
   "outputs": [],
   "source": [
    "status_pivot = pd.pivot_table(status, values ='count', index =['crime_code_description'], \n",
    "                         columns = ['status_code_description'], \\\n",
    "                              aggfunc = np.sum, fill_value=0).reset_index()"
   ]
  },
  {
   "cell_type": "code",
   "execution_count": 66,
   "metadata": {},
   "outputs": [],
   "source": [
    "status_pivot['arrests_tot'] = status_pivot['adult_arrest'] + status_pivot['juv_arrest']\n",
    "status_pivot['crimes_tot'] = status_pivot.sum(axis=1)\n",
    "status_pivot['arrest_rate'] = (( status_pivot['arrests_tot'] / status_pivot['crimes_tot'] )*100).round(2)"
   ]
  },
  {
   "cell_type": "code",
   "execution_count": 67,
   "metadata": {},
   "outputs": [],
   "source": [
    "arrest_rate_all = status_pivot[['crime_code_description','arrest_rate']]"
   ]
  },
  {
   "cell_type": "markdown",
   "metadata": {},
   "source": [
    "### Pivot and count disposition of each crime involving a homeless victim"
   ]
  },
  {
   "cell_type": "code",
   "execution_count": 68,
   "metadata": {},
   "outputs": [],
   "source": [
    "status_homeless_victim = homeless_victims.groupby(['status_code_description', 'homeless_victim',\\\n",
    "                         'crime_code', 'crime_code_description', 'year']).agg('size').reset_index(name='count')"
   ]
  },
  {
   "cell_type": "code",
   "execution_count": 69,
   "metadata": {},
   "outputs": [],
   "source": [
    "status_pivot_homeless = pd.pivot_table(status_homeless_victim, values ='count', index =['crime_code_description'], \n",
    "                         columns = ['status_code_description'], \\\n",
    "                              aggfunc = np.sum, fill_value=0).reset_index()"
   ]
  },
  {
   "cell_type": "code",
   "execution_count": 70,
   "metadata": {},
   "outputs": [],
   "source": [
    "status_pivot_homeless['arrests_tot'] = status_pivot_homeless['adult_arrest'] + status_pivot_homeless['juv_arrest']\n",
    "status_pivot_homeless['crimes_tot'] = status_pivot_homeless.sum(axis=1)\n",
    "status_pivot_homeless['arrest_rate'] = \\\n",
    "    (( status_pivot_homeless['arrests_tot'] / status_pivot_homeless['crimes_tot'] )*100).round(2)"
   ]
  },
  {
   "cell_type": "code",
   "execution_count": 71,
   "metadata": {},
   "outputs": [],
   "source": [
    "arrest_rate_homeless_victims = status_pivot_homeless[['crime_code_description','arrest_rate']]"
   ]
  },
  {
   "cell_type": "code",
   "execution_count": 72,
   "metadata": {},
   "outputs": [
    {
     "data": {
      "text/html": [
       "<div>\n",
       "<style scoped>\n",
       "    .dataframe tbody tr th:only-of-type {\n",
       "        vertical-align: middle;\n",
       "    }\n",
       "\n",
       "    .dataframe tbody tr th {\n",
       "        vertical-align: top;\n",
       "    }\n",
       "\n",
       "    .dataframe thead th {\n",
       "        text-align: right;\n",
       "    }\n",
       "</style>\n",
       "<table border=\"1\" class=\"dataframe\">\n",
       "  <thead>\n",
       "    <tr style=\"text-align: right;\">\n",
       "      <th>status_code_description</th>\n",
       "      <th>crime_code_description</th>\n",
       "      <th>adult_arrest</th>\n",
       "      <th>adult_other</th>\n",
       "      <th>invest_cont</th>\n",
       "      <th>juv_arrest</th>\n",
       "      <th>arrests_tot</th>\n",
       "      <th>crimes_tot</th>\n",
       "      <th>arrest_rate</th>\n",
       "    </tr>\n",
       "  </thead>\n",
       "  <tbody>\n",
       "    <tr>\n",
       "      <th>0</th>\n",
       "      <td>Arson</td>\n",
       "      <td>2</td>\n",
       "      <td>0</td>\n",
       "      <td>20</td>\n",
       "      <td>0</td>\n",
       "      <td>2</td>\n",
       "      <td>24</td>\n",
       "      <td>8.33</td>\n",
       "    </tr>\n",
       "    <tr>\n",
       "      <th>1</th>\n",
       "      <td>Assault with deadly weapon on police officer</td>\n",
       "      <td>1</td>\n",
       "      <td>0</td>\n",
       "      <td>0</td>\n",
       "      <td>0</td>\n",
       "      <td>1</td>\n",
       "      <td>2</td>\n",
       "      <td>50.00</td>\n",
       "    </tr>\n",
       "    <tr>\n",
       "      <th>2</th>\n",
       "      <td>Assault with deadly weapon, aggravated assault</td>\n",
       "      <td>421</td>\n",
       "      <td>489</td>\n",
       "      <td>1937</td>\n",
       "      <td>3</td>\n",
       "      <td>424</td>\n",
       "      <td>3274</td>\n",
       "      <td>12.95</td>\n",
       "    </tr>\n",
       "    <tr>\n",
       "      <th>3</th>\n",
       "      <td>Attempted robbery</td>\n",
       "      <td>23</td>\n",
       "      <td>16</td>\n",
       "      <td>137</td>\n",
       "      <td>0</td>\n",
       "      <td>23</td>\n",
       "      <td>199</td>\n",
       "      <td>11.56</td>\n",
       "    </tr>\n",
       "    <tr>\n",
       "      <th>4</th>\n",
       "      <td>Bike - stolen</td>\n",
       "      <td>1</td>\n",
       "      <td>4</td>\n",
       "      <td>83</td>\n",
       "      <td>0</td>\n",
       "      <td>1</td>\n",
       "      <td>89</td>\n",
       "      <td>1.12</td>\n",
       "    </tr>\n",
       "  </tbody>\n",
       "</table>\n",
       "</div>"
      ],
      "text/plain": [
       "status_code_description                          crime_code_description  \\\n",
       "0                                                                 Arson   \n",
       "1                          Assault with deadly weapon on police officer   \n",
       "2                        Assault with deadly weapon, aggravated assault   \n",
       "3                                                     Attempted robbery   \n",
       "4                                                         Bike - stolen   \n",
       "\n",
       "status_code_description  adult_arrest  adult_other  invest_cont  juv_arrest  \\\n",
       "0                                   2            0           20           0   \n",
       "1                                   1            0            0           0   \n",
       "2                                 421          489         1937           3   \n",
       "3                                  23           16          137           0   \n",
       "4                                   1            4           83           0   \n",
       "\n",
       "status_code_description  arrests_tot  crimes_tot  arrest_rate  \n",
       "0                                  2          24         8.33  \n",
       "1                                  1           2        50.00  \n",
       "2                                424        3274        12.95  \n",
       "3                                 23         199        11.56  \n",
       "4                                  1          89         1.12  "
      ]
     },
     "execution_count": 72,
     "metadata": {},
     "output_type": "execute_result"
    }
   ],
   "source": [
    "status_pivot_homeless.head()"
   ]
  },
  {
   "cell_type": "code",
   "execution_count": 73,
   "metadata": {},
   "outputs": [],
   "source": [
    "arrest_rates = pd.merge(arrest_rate_homeless_victims, arrest_rate_all, how='left', \\\n",
    "                        on='crime_code_description', suffixes=('_homeless_victim', '_all_victims'))"
   ]
  },
  {
   "cell_type": "code",
   "execution_count": 74,
   "metadata": {},
   "outputs": [
    {
     "data": {
      "text/html": [
       "<div>\n",
       "<style scoped>\n",
       "    .dataframe tbody tr th:only-of-type {\n",
       "        vertical-align: middle;\n",
       "    }\n",
       "\n",
       "    .dataframe tbody tr th {\n",
       "        vertical-align: top;\n",
       "    }\n",
       "\n",
       "    .dataframe thead th {\n",
       "        text-align: right;\n",
       "    }\n",
       "</style>\n",
       "<table border=\"1\" class=\"dataframe\">\n",
       "  <thead>\n",
       "    <tr style=\"text-align: right;\">\n",
       "      <th>status_code_description</th>\n",
       "      <th>crime_code_description</th>\n",
       "      <th>arrest_rate_homeless_victim</th>\n",
       "      <th>arrest_rate_all_victims</th>\n",
       "    </tr>\n",
       "  </thead>\n",
       "  <tbody>\n",
       "    <tr>\n",
       "      <th>0</th>\n",
       "      <td>Arson</td>\n",
       "      <td>8.33</td>\n",
       "      <td>3.04</td>\n",
       "    </tr>\n",
       "    <tr>\n",
       "      <th>1</th>\n",
       "      <td>Assault with deadly weapon on police officer</td>\n",
       "      <td>50.00</td>\n",
       "      <td>33.71</td>\n",
       "    </tr>\n",
       "    <tr>\n",
       "      <th>2</th>\n",
       "      <td>Assault with deadly weapon, aggravated assault</td>\n",
       "      <td>12.95</td>\n",
       "      <td>19.26</td>\n",
       "    </tr>\n",
       "    <tr>\n",
       "      <th>3</th>\n",
       "      <td>Attempted robbery</td>\n",
       "      <td>11.56</td>\n",
       "      <td>17.67</td>\n",
       "    </tr>\n",
       "    <tr>\n",
       "      <th>4</th>\n",
       "      <td>Bike - stolen</td>\n",
       "      <td>1.12</td>\n",
       "      <td>1.70</td>\n",
       "    </tr>\n",
       "    <tr>\n",
       "      <th>5</th>\n",
       "      <td>Boat - stolen</td>\n",
       "      <td>0.00</td>\n",
       "      <td>0.72</td>\n",
       "    </tr>\n",
       "    <tr>\n",
       "      <th>6</th>\n",
       "      <td>Brandish weapon</td>\n",
       "      <td>8.95</td>\n",
       "      <td>15.55</td>\n",
       "    </tr>\n",
       "    <tr>\n",
       "      <th>7</th>\n",
       "      <td>Burglary</td>\n",
       "      <td>1.79</td>\n",
       "      <td>7.40</td>\n",
       "    </tr>\n",
       "    <tr>\n",
       "      <th>8</th>\n",
       "      <td>Burglary from vehicle</td>\n",
       "      <td>6.82</td>\n",
       "      <td>2.44</td>\n",
       "    </tr>\n",
       "    <tr>\n",
       "      <th>9</th>\n",
       "      <td>Burglary, attempted</td>\n",
       "      <td>50.00</td>\n",
       "      <td>7.45</td>\n",
       "    </tr>\n",
       "    <tr>\n",
       "      <th>10</th>\n",
       "      <td>Child abuse (physical) - aggravated assault</td>\n",
       "      <td>0.00</td>\n",
       "      <td>26.39</td>\n",
       "    </tr>\n",
       "    <tr>\n",
       "      <th>11</th>\n",
       "      <td>Criminal homicide</td>\n",
       "      <td>37.11</td>\n",
       "      <td>34.57</td>\n",
       "    </tr>\n",
       "    <tr>\n",
       "      <th>12</th>\n",
       "      <td>Intimate partner - aggravated assault</td>\n",
       "      <td>18.48</td>\n",
       "      <td>29.31</td>\n",
       "    </tr>\n",
       "    <tr>\n",
       "      <th>13</th>\n",
       "      <td>Manslaughter, negligent</td>\n",
       "      <td>50.00</td>\n",
       "      <td>44.44</td>\n",
       "    </tr>\n",
       "    <tr>\n",
       "      <th>14</th>\n",
       "      <td>Oral copulation</td>\n",
       "      <td>4.88</td>\n",
       "      <td>13.44</td>\n",
       "    </tr>\n",
       "    <tr>\n",
       "      <th>15</th>\n",
       "      <td>Pickpocket</td>\n",
       "      <td>0.00</td>\n",
       "      <td>1.45</td>\n",
       "    </tr>\n",
       "    <tr>\n",
       "      <th>16</th>\n",
       "      <td>Pickpocket, attempt</td>\n",
       "      <td>0.00</td>\n",
       "      <td>4.17</td>\n",
       "    </tr>\n",
       "    <tr>\n",
       "      <th>17</th>\n",
       "      <td>Purse snatching</td>\n",
       "      <td>0.00</td>\n",
       "      <td>3.31</td>\n",
       "    </tr>\n",
       "    <tr>\n",
       "      <th>18</th>\n",
       "      <td>Rape, attempted</td>\n",
       "      <td>10.34</td>\n",
       "      <td>19.07</td>\n",
       "    </tr>\n",
       "    <tr>\n",
       "      <th>19</th>\n",
       "      <td>Rape, forcible</td>\n",
       "      <td>3.08</td>\n",
       "      <td>10.12</td>\n",
       "    </tr>\n",
       "    <tr>\n",
       "      <th>20</th>\n",
       "      <td>Robbery</td>\n",
       "      <td>8.45</td>\n",
       "      <td>16.12</td>\n",
       "    </tr>\n",
       "    <tr>\n",
       "      <th>21</th>\n",
       "      <td>Sexual penetration w/foreign object</td>\n",
       "      <td>1.10</td>\n",
       "      <td>10.80</td>\n",
       "    </tr>\n",
       "    <tr>\n",
       "      <th>22</th>\n",
       "      <td>Shoplifting - petty theft ($950 &amp; under)</td>\n",
       "      <td>5.88</td>\n",
       "      <td>16.32</td>\n",
       "    </tr>\n",
       "    <tr>\n",
       "      <th>23</th>\n",
       "      <td>Shoplifting-grand theft ($950.01 &amp; over)</td>\n",
       "      <td>0.00</td>\n",
       "      <td>20.41</td>\n",
       "    </tr>\n",
       "    <tr>\n",
       "      <th>24</th>\n",
       "      <td>Shots fired at inhabited dwelling</td>\n",
       "      <td>0.00</td>\n",
       "      <td>4.59</td>\n",
       "    </tr>\n",
       "    <tr>\n",
       "      <th>25</th>\n",
       "      <td>Shots fired at moving vehicle, train or aircraft</td>\n",
       "      <td>0.00</td>\n",
       "      <td>7.59</td>\n",
       "    </tr>\n",
       "    <tr>\n",
       "      <th>26</th>\n",
       "      <td>Sodomy/sexual contact b/w penis of one pers to...</td>\n",
       "      <td>5.80</td>\n",
       "      <td>11.03</td>\n",
       "    </tr>\n",
       "    <tr>\n",
       "      <th>27</th>\n",
       "      <td>Theft from motor vehicle - grand ($400 and over)</td>\n",
       "      <td>0.00</td>\n",
       "      <td>1.75</td>\n",
       "    </tr>\n",
       "    <tr>\n",
       "      <th>28</th>\n",
       "      <td>Theft from motor vehicle - petty ($950 &amp; under)</td>\n",
       "      <td>0.00</td>\n",
       "      <td>1.24</td>\n",
       "    </tr>\n",
       "    <tr>\n",
       "      <th>29</th>\n",
       "      <td>Theft from person - attempt</td>\n",
       "      <td>0.00</td>\n",
       "      <td>12.12</td>\n",
       "    </tr>\n",
       "    <tr>\n",
       "      <th>30</th>\n",
       "      <td>Theft plain - attempt</td>\n",
       "      <td>0.00</td>\n",
       "      <td>6.38</td>\n",
       "    </tr>\n",
       "    <tr>\n",
       "      <th>31</th>\n",
       "      <td>Theft plain - petty ($950 &amp; under)</td>\n",
       "      <td>0.87</td>\n",
       "      <td>4.74</td>\n",
       "    </tr>\n",
       "    <tr>\n",
       "      <th>32</th>\n",
       "      <td>Theft, person</td>\n",
       "      <td>2.54</td>\n",
       "      <td>6.96</td>\n",
       "    </tr>\n",
       "    <tr>\n",
       "      <th>33</th>\n",
       "      <td>Theft-grand ($950.01 &amp; over)excpt,guns,fowl,li...</td>\n",
       "      <td>1.05</td>\n",
       "      <td>5.14</td>\n",
       "    </tr>\n",
       "    <tr>\n",
       "      <th>34</th>\n",
       "      <td>Vehicle - attempt stolen</td>\n",
       "      <td>33.33</td>\n",
       "      <td>13.00</td>\n",
       "    </tr>\n",
       "  </tbody>\n",
       "</table>\n",
       "</div>"
      ],
      "text/plain": [
       "status_code_description                             crime_code_description  \\\n",
       "0                                                                    Arson   \n",
       "1                             Assault with deadly weapon on police officer   \n",
       "2                           Assault with deadly weapon, aggravated assault   \n",
       "3                                                        Attempted robbery   \n",
       "4                                                            Bike - stolen   \n",
       "5                                                            Boat - stolen   \n",
       "6                                                          Brandish weapon   \n",
       "7                                                                 Burglary   \n",
       "8                                                    Burglary from vehicle   \n",
       "9                                                      Burglary, attempted   \n",
       "10                             Child abuse (physical) - aggravated assault   \n",
       "11                                                       Criminal homicide   \n",
       "12                                   Intimate partner - aggravated assault   \n",
       "13                                                 Manslaughter, negligent   \n",
       "14                                                         Oral copulation   \n",
       "15                                                              Pickpocket   \n",
       "16                                                     Pickpocket, attempt   \n",
       "17                                                         Purse snatching   \n",
       "18                                                         Rape, attempted   \n",
       "19                                                          Rape, forcible   \n",
       "20                                                                 Robbery   \n",
       "21                                     Sexual penetration w/foreign object   \n",
       "22                                Shoplifting - petty theft ($950 & under)   \n",
       "23                                Shoplifting-grand theft ($950.01 & over)   \n",
       "24                                       Shots fired at inhabited dwelling   \n",
       "25                        Shots fired at moving vehicle, train or aircraft   \n",
       "26                       Sodomy/sexual contact b/w penis of one pers to...   \n",
       "27                        Theft from motor vehicle - grand ($400 and over)   \n",
       "28                         Theft from motor vehicle - petty ($950 & under)   \n",
       "29                                             Theft from person - attempt   \n",
       "30                                                   Theft plain - attempt   \n",
       "31                                      Theft plain - petty ($950 & under)   \n",
       "32                                                           Theft, person   \n",
       "33                       Theft-grand ($950.01 & over)excpt,guns,fowl,li...   \n",
       "34                                                Vehicle - attempt stolen   \n",
       "\n",
       "status_code_description  arrest_rate_homeless_victim  arrest_rate_all_victims  \n",
       "0                                               8.33                     3.04  \n",
       "1                                              50.00                    33.71  \n",
       "2                                              12.95                    19.26  \n",
       "3                                              11.56                    17.67  \n",
       "4                                               1.12                     1.70  \n",
       "5                                               0.00                     0.72  \n",
       "6                                               8.95                    15.55  \n",
       "7                                               1.79                     7.40  \n",
       "8                                               6.82                     2.44  \n",
       "9                                              50.00                     7.45  \n",
       "10                                              0.00                    26.39  \n",
       "11                                             37.11                    34.57  \n",
       "12                                             18.48                    29.31  \n",
       "13                                             50.00                    44.44  \n",
       "14                                              4.88                    13.44  \n",
       "15                                              0.00                     1.45  \n",
       "16                                              0.00                     4.17  \n",
       "17                                              0.00                     3.31  \n",
       "18                                             10.34                    19.07  \n",
       "19                                              3.08                    10.12  \n",
       "20                                              8.45                    16.12  \n",
       "21                                              1.10                    10.80  \n",
       "22                                              5.88                    16.32  \n",
       "23                                              0.00                    20.41  \n",
       "24                                              0.00                     4.59  \n",
       "25                                              0.00                     7.59  \n",
       "26                                              5.80                    11.03  \n",
       "27                                              0.00                     1.75  \n",
       "28                                              0.00                     1.24  \n",
       "29                                              0.00                    12.12  \n",
       "30                                              0.00                     6.38  \n",
       "31                                              0.87                     4.74  \n",
       "32                                              2.54                     6.96  \n",
       "33                                              1.05                     5.14  \n",
       "34                                             33.33                    13.00  "
      ]
     },
     "execution_count": 74,
     "metadata": {},
     "output_type": "execute_result"
    }
   ],
   "source": [
    "arrest_rates.head(100)"
   ]
  },
  {
   "cell_type": "markdown",
   "metadata": {},
   "source": [
    "### Aggregated arrest rate for all crimes"
   ]
  },
  {
   "cell_type": "code",
   "execution_count": 75,
   "metadata": {},
   "outputs": [],
   "source": [
    "arrests_total = crimes_major.groupby(['status_code_description', 'year']).agg('size').reset_index(name='count')"
   ]
  },
  {
   "cell_type": "code",
   "execution_count": 76,
   "metadata": {},
   "outputs": [],
   "source": [
    "arrests_total_pivot = pd.pivot_table(arrests_total, values ='count', index =['year'], \n",
    "                         columns = ['status_code_description'], \\\n",
    "                              aggfunc = np.sum, fill_value=0).reset_index()"
   ]
  },
  {
   "cell_type": "code",
   "execution_count": 77,
   "metadata": {},
   "outputs": [],
   "source": [
    "arrests_total_pivot['arrests_tot'] = arrests_total_pivot['adult_arrest'] \\\n",
    "    + arrests_total_pivot['juv_arrest']\n",
    "\n",
    "arrests_total_pivot['crimes_tot'] = arrests_total_pivot.sum(axis=1)\n",
    "\n",
    "arrests_total_pivot['arrest_rate'] = (( arrests_total_pivot['arrests_tot']\\\n",
    "                                       / arrests_total_pivot['crimes_tot'] )*100).round(2)"
   ]
  },
  {
   "cell_type": "code",
   "execution_count": 78,
   "metadata": {},
   "outputs": [
    {
     "data": {
      "text/html": [
       "<div>\n",
       "<style scoped>\n",
       "    .dataframe tbody tr th:only-of-type {\n",
       "        vertical-align: middle;\n",
       "    }\n",
       "\n",
       "    .dataframe tbody tr th {\n",
       "        vertical-align: top;\n",
       "    }\n",
       "\n",
       "    .dataframe thead th {\n",
       "        text-align: right;\n",
       "    }\n",
       "</style>\n",
       "<table border=\"1\" class=\"dataframe\">\n",
       "  <thead>\n",
       "    <tr style=\"text-align: right;\">\n",
       "      <th>status_code_description</th>\n",
       "      <th>year</th>\n",
       "      <th>adult_arrest</th>\n",
       "      <th>adult_other</th>\n",
       "      <th>invest_cont</th>\n",
       "      <th>juv_arrest</th>\n",
       "      <th>juv_other</th>\n",
       "      <th>unk</th>\n",
       "      <th>arrests_tot</th>\n",
       "      <th>crimes_tot</th>\n",
       "      <th>arrest_rate</th>\n",
       "    </tr>\n",
       "  </thead>\n",
       "  <tbody>\n",
       "    <tr>\n",
       "      <th>0</th>\n",
       "      <td>2010</td>\n",
       "      <td>6786</td>\n",
       "      <td>4582</td>\n",
       "      <td>100837</td>\n",
       "      <td>446</td>\n",
       "      <td>70</td>\n",
       "      <td>1</td>\n",
       "      <td>7232</td>\n",
       "      <td>119954</td>\n",
       "      <td>6.03</td>\n",
       "    </tr>\n",
       "    <tr>\n",
       "      <th>1</th>\n",
       "      <td>2011</td>\n",
       "      <td>7262</td>\n",
       "      <td>5318</td>\n",
       "      <td>94327</td>\n",
       "      <td>572</td>\n",
       "      <td>64</td>\n",
       "      <td>2</td>\n",
       "      <td>7834</td>\n",
       "      <td>115379</td>\n",
       "      <td>6.79</td>\n",
       "    </tr>\n",
       "    <tr>\n",
       "      <th>2</th>\n",
       "      <td>2012</td>\n",
       "      <td>9197</td>\n",
       "      <td>5927</td>\n",
       "      <td>91538</td>\n",
       "      <td>870</td>\n",
       "      <td>101</td>\n",
       "      <td>0</td>\n",
       "      <td>10067</td>\n",
       "      <td>117700</td>\n",
       "      <td>8.55</td>\n",
       "    </tr>\n",
       "    <tr>\n",
       "      <th>3</th>\n",
       "      <td>2013</td>\n",
       "      <td>9255</td>\n",
       "      <td>5522</td>\n",
       "      <td>88033</td>\n",
       "      <td>959</td>\n",
       "      <td>135</td>\n",
       "      <td>4</td>\n",
       "      <td>10214</td>\n",
       "      <td>114122</td>\n",
       "      <td>8.95</td>\n",
       "    </tr>\n",
       "    <tr>\n",
       "      <th>4</th>\n",
       "      <td>2014</td>\n",
       "      <td>9798</td>\n",
       "      <td>6282</td>\n",
       "      <td>87021</td>\n",
       "      <td>974</td>\n",
       "      <td>134</td>\n",
       "      <td>6</td>\n",
       "      <td>10772</td>\n",
       "      <td>114987</td>\n",
       "      <td>9.37</td>\n",
       "    </tr>\n",
       "    <tr>\n",
       "      <th>5</th>\n",
       "      <td>2015</td>\n",
       "      <td>11126</td>\n",
       "      <td>7419</td>\n",
       "      <td>100003</td>\n",
       "      <td>1004</td>\n",
       "      <td>113</td>\n",
       "      <td>2</td>\n",
       "      <td>12130</td>\n",
       "      <td>131797</td>\n",
       "      <td>9.20</td>\n",
       "    </tr>\n",
       "    <tr>\n",
       "      <th>6</th>\n",
       "      <td>2016</td>\n",
       "      <td>11742</td>\n",
       "      <td>8019</td>\n",
       "      <td>107269</td>\n",
       "      <td>937</td>\n",
       "      <td>140</td>\n",
       "      <td>2</td>\n",
       "      <td>12679</td>\n",
       "      <td>140788</td>\n",
       "      <td>9.01</td>\n",
       "    </tr>\n",
       "    <tr>\n",
       "      <th>7</th>\n",
       "      <td>2017</td>\n",
       "      <td>12007</td>\n",
       "      <td>8058</td>\n",
       "      <td>111023</td>\n",
       "      <td>884</td>\n",
       "      <td>148</td>\n",
       "      <td>1</td>\n",
       "      <td>12891</td>\n",
       "      <td>145012</td>\n",
       "      <td>8.89</td>\n",
       "    </tr>\n",
       "    <tr>\n",
       "      <th>8</th>\n",
       "      <td>2018</td>\n",
       "      <td>11465</td>\n",
       "      <td>7950</td>\n",
       "      <td>110815</td>\n",
       "      <td>824</td>\n",
       "      <td>72</td>\n",
       "      <td>0</td>\n",
       "      <td>12289</td>\n",
       "      <td>143415</td>\n",
       "      <td>8.57</td>\n",
       "    </tr>\n",
       "    <tr>\n",
       "      <th>9</th>\n",
       "      <td>2019</td>\n",
       "      <td>7583</td>\n",
       "      <td>4525</td>\n",
       "      <td>82901</td>\n",
       "      <td>457</td>\n",
       "      <td>42</td>\n",
       "      <td>2</td>\n",
       "      <td>8040</td>\n",
       "      <td>103550</td>\n",
       "      <td>7.76</td>\n",
       "    </tr>\n",
       "  </tbody>\n",
       "</table>\n",
       "</div>"
      ],
      "text/plain": [
       "status_code_description  year  adult_arrest  adult_other  invest_cont  \\\n",
       "0                        2010          6786         4582       100837   \n",
       "1                        2011          7262         5318        94327   \n",
       "2                        2012          9197         5927        91538   \n",
       "3                        2013          9255         5522        88033   \n",
       "4                        2014          9798         6282        87021   \n",
       "5                        2015         11126         7419       100003   \n",
       "6                        2016         11742         8019       107269   \n",
       "7                        2017         12007         8058       111023   \n",
       "8                        2018         11465         7950       110815   \n",
       "9                        2019          7583         4525        82901   \n",
       "\n",
       "status_code_description  juv_arrest  juv_other  unk  arrests_tot  crimes_tot  \\\n",
       "0                               446         70    1         7232      119954   \n",
       "1                               572         64    2         7834      115379   \n",
       "2                               870        101    0        10067      117700   \n",
       "3                               959        135    4        10214      114122   \n",
       "4                               974        134    6        10772      114987   \n",
       "5                              1004        113    2        12130      131797   \n",
       "6                               937        140    2        12679      140788   \n",
       "7                               884        148    1        12891      145012   \n",
       "8                               824         72    0        12289      143415   \n",
       "9                               457         42    2         8040      103550   \n",
       "\n",
       "status_code_description  arrest_rate  \n",
       "0                               6.03  \n",
       "1                               6.79  \n",
       "2                               8.55  \n",
       "3                               8.95  \n",
       "4                               9.37  \n",
       "5                               9.20  \n",
       "6                               9.01  \n",
       "7                               8.89  \n",
       "8                               8.57  \n",
       "9                               7.76  "
      ]
     },
     "execution_count": 78,
     "metadata": {},
     "output_type": "execute_result"
    }
   ],
   "source": [
    "arrests_total_pivot.head(10)"
   ]
  },
  {
   "cell_type": "markdown",
   "metadata": {},
   "source": [
    "### Aggregated arrest rate for all crimes involving homeless victims"
   ]
  },
  {
   "cell_type": "code",
   "execution_count": 79,
   "metadata": {},
   "outputs": [],
   "source": [
    "arrests_homeless_victims_total = \\\n",
    "homeless_victims.groupby(['status_code_description', 'year']).agg('size').reset_index(name='count')"
   ]
  },
  {
   "cell_type": "code",
   "execution_count": 80,
   "metadata": {},
   "outputs": [],
   "source": [
    "arrests_total_homeless_victims_pivot = \\\n",
    "    pd.pivot_table(arrests_homeless_victims_total, values ='count', index =['year'], \\\n",
    "    columns = ['status_code_description'], \\\n",
    "    aggfunc = np.sum, fill_value=0).reset_index()"
   ]
  },
  {
   "cell_type": "code",
   "execution_count": 81,
   "metadata": {},
   "outputs": [],
   "source": [
    "arrests_total_homeless_victims_pivot['arrests_tot'] = arrests_total_homeless_victims_pivot['adult_arrest'] \\\n",
    "    + arrests_total_homeless_victims_pivot['juv_arrest']\n",
    "\n",
    "arrests_total_homeless_victims_pivot['crimes_tot'] = arrests_total_homeless_victims_pivot.sum(axis=1)\n",
    "\n",
    "arrests_total_homeless_victims_pivot['arrest_rate'] = (( arrests_total_homeless_victims_pivot['arrests_tot']\\\n",
    "                                       / arrests_total_homeless_victims_pivot['crimes_tot'] )*100).round(2)"
   ]
  },
  {
   "cell_type": "code",
   "execution_count": 82,
   "metadata": {},
   "outputs": [
    {
     "data": {
      "text/html": [
       "<div>\n",
       "<style scoped>\n",
       "    .dataframe tbody tr th:only-of-type {\n",
       "        vertical-align: middle;\n",
       "    }\n",
       "\n",
       "    .dataframe tbody tr th {\n",
       "        vertical-align: top;\n",
       "    }\n",
       "\n",
       "    .dataframe thead th {\n",
       "        text-align: right;\n",
       "    }\n",
       "</style>\n",
       "<table border=\"1\" class=\"dataframe\">\n",
       "  <thead>\n",
       "    <tr style=\"text-align: right;\">\n",
       "      <th>status_code_description</th>\n",
       "      <th>year</th>\n",
       "      <th>adult_arrest</th>\n",
       "      <th>adult_other</th>\n",
       "      <th>invest_cont</th>\n",
       "      <th>juv_arrest</th>\n",
       "      <th>arrests_tot</th>\n",
       "      <th>crimes_tot</th>\n",
       "      <th>arrest_rate</th>\n",
       "    </tr>\n",
       "  </thead>\n",
       "  <tbody>\n",
       "    <tr>\n",
       "      <th>0</th>\n",
       "      <td>2017</td>\n",
       "      <td>177</td>\n",
       "      <td>287</td>\n",
       "      <td>1305</td>\n",
       "      <td>2</td>\n",
       "      <td>179</td>\n",
       "      <td>1950</td>\n",
       "      <td>9.18</td>\n",
       "    </tr>\n",
       "    <tr>\n",
       "      <th>1</th>\n",
       "      <td>2018</td>\n",
       "      <td>338</td>\n",
       "      <td>442</td>\n",
       "      <td>2204</td>\n",
       "      <td>4</td>\n",
       "      <td>342</td>\n",
       "      <td>3330</td>\n",
       "      <td>10.27</td>\n",
       "    </tr>\n",
       "    <tr>\n",
       "      <th>2</th>\n",
       "      <td>2019</td>\n",
       "      <td>308</td>\n",
       "      <td>350</td>\n",
       "      <td>2361</td>\n",
       "      <td>3</td>\n",
       "      <td>311</td>\n",
       "      <td>3333</td>\n",
       "      <td>9.33</td>\n",
       "    </tr>\n",
       "  </tbody>\n",
       "</table>\n",
       "</div>"
      ],
      "text/plain": [
       "status_code_description  year  adult_arrest  adult_other  invest_cont  \\\n",
       "0                        2017           177          287         1305   \n",
       "1                        2018           338          442         2204   \n",
       "2                        2019           308          350         2361   \n",
       "\n",
       "status_code_description  juv_arrest  arrests_tot  crimes_tot  arrest_rate  \n",
       "0                                 2          179        1950         9.18  \n",
       "1                                 4          342        3330        10.27  \n",
       "2                                 3          311        3333         9.33  "
      ]
     },
     "execution_count": 82,
     "metadata": {},
     "output_type": "execute_result"
    }
   ],
   "source": [
    "arrests_total_homeless_victims_pivot.head(10)"
   ]
  }
 ],
 "metadata": {
  "kernelspec": {
   "display_name": "Python 3",
   "language": "python",
   "name": "python3"
  },
  "language_info": {
   "codemirror_mode": {
    "name": "ipython",
    "version": 3
   },
   "file_extension": ".py",
   "mimetype": "text/x-python",
   "name": "python",
   "nbconvert_exporter": "python",
   "pygments_lexer": "ipython3",
   "version": "3.7.3"
  }
 },
 "nbformat": 4,
 "nbformat_minor": 2
}
