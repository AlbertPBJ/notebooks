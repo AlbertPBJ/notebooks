{
 "cells": [
  {
   "cell_type": "markdown",
   "metadata": {},
   "source": [
    "# Processing LAPD crimes database for other notebooks"
   ]
  },
  {
   "cell_type": "markdown",
   "metadata": {},
   "source": [
    "### Import data tools"
   ]
  },
  {
   "cell_type": "code",
   "execution_count": 1,
   "metadata": {},
   "outputs": [
    {
     "ename": "ModuleNotFoundError",
     "evalue": "No module named 'weightedcalcs'",
     "output_type": "error",
     "traceback": [
      "\u001b[0;31m---------------------------------------------------------------------------\u001b[0m",
      "\u001b[0;31mModuleNotFoundError\u001b[0m                       Traceback (most recent call last)",
      "\u001b[0;32m<ipython-input-1-b3370ecb72d0>\u001b[0m in \u001b[0;36m<module>\u001b[0;34m\u001b[0m\n\u001b[1;32m     10\u001b[0m \u001b[0;32mfrom\u001b[0m \u001b[0mearthpy\u001b[0m \u001b[0;32mimport\u001b[0m \u001b[0mclip\u001b[0m \u001b[0;32mas\u001b[0m \u001b[0mcl\u001b[0m\u001b[0;34m\u001b[0m\u001b[0;34m\u001b[0m\u001b[0m\n\u001b[1;32m     11\u001b[0m \u001b[0;32mfrom\u001b[0m \u001b[0maltair\u001b[0m \u001b[0;32mimport\u001b[0m \u001b[0mdatum\u001b[0m\u001b[0;34m\u001b[0m\u001b[0;34m\u001b[0m\u001b[0m\n\u001b[0;32m---> 12\u001b[0;31m \u001b[0;32mimport\u001b[0m \u001b[0mweightedcalcs\u001b[0m \u001b[0;32mas\u001b[0m \u001b[0mwc\u001b[0m\u001b[0;34m\u001b[0m\u001b[0;34m\u001b[0m\u001b[0m\n\u001b[0m\u001b[1;32m     13\u001b[0m \u001b[0;32mimport\u001b[0m \u001b[0maltair\u001b[0m \u001b[0;32mas\u001b[0m \u001b[0malt\u001b[0m\u001b[0;34m\u001b[0m\u001b[0;34m\u001b[0m\u001b[0m\n\u001b[1;32m     14\u001b[0m \u001b[0malt\u001b[0m\u001b[0;34m.\u001b[0m\u001b[0mrenderers\u001b[0m\u001b[0;34m.\u001b[0m\u001b[0menable\u001b[0m\u001b[0;34m(\u001b[0m\u001b[0;34m'notebook'\u001b[0m\u001b[0;34m)\u001b[0m\u001b[0;34m\u001b[0m\u001b[0;34m\u001b[0m\u001b[0m\n",
      "\u001b[0;31mModuleNotFoundError\u001b[0m: No module named 'weightedcalcs'"
     ]
    }
   ],
   "source": [
    "import pandas as pd\n",
    "import pyarrow\n",
    "import geopandas as gpd\n",
    "import matplotlib\n",
    "import matplotlib.pyplot as plt\n",
    "import geojson\n",
    "import json\n",
    "import jenkspy\n",
    "import numpy as np\n",
    "from earthpy import clip as cl\n",
    "from altair import datum\n",
    "import altair as alt\n",
    "import altair_latimes as lat\n",
    "alt.themes.register('latimes', lat.theme)\n",
    "alt.themes.enable('latimes')\n",
    "pd.options.display.max_columns = 50\n",
    "pd.options.display.max_rows = 1000"
   ]
  },
  {
   "cell_type": "markdown",
   "metadata": {},
   "source": [
    "### Read crimes_major CSV downloaded from LA City data portal"
   ]
  },
  {
   "cell_type": "code",
   "execution_count": null,
   "metadata": {},
   "outputs": [],
   "source": [
    "# https://data.lacity.org/A-Safe-City/Crime-Data-from-2010-to-Present/63jg-8b9z\n",
    "crimes = pd.read_csv('/Users/mhustiles/data/data/LA/Crime_Data_from_2010_to_Present.csv')"
   ]
  },
  {
   "cell_type": "code",
   "execution_count": null,
   "metadata": {},
   "outputs": [],
   "source": [
    "crimes.columns = crimes.columns.str.strip().str.lower().str.replace(' ', '_')\\\n",
    "                    .str.replace('(', '').str.replace(')', '').str.replace('-','_')"
   ]
  },
  {
   "cell_type": "code",
   "execution_count": null,
   "metadata": {},
   "outputs": [],
   "source": [
    "crimes = crimes.drop(crimes[crimes.lat < 30].index)"
   ]
  },
  {
   "cell_type": "markdown",
   "metadata": {},
   "source": [
    "### These data are super messy..."
   ]
  },
  {
   "cell_type": "code",
   "execution_count": null,
   "metadata": {},
   "outputs": [],
   "source": [
    "crimes.rename(columns = { \n",
    "'dr_no':'record_id',\n",
    "'date_rptd':'date_reported',\n",
    "'date_occ':'date_occurred',\n",
    "'time_occ':'time_occurred',\n",
    "'area':'division',\n",
    "'area_name':'division_name',\n",
    "'rpt_dist_no':'reporting_district',\n",
    "'part_1_2':'part_type',\n",
    "'crm_cd':'crime_code',\n",
    "'crm_cd_desc':'crime_code_description',\n",
    "'mocodes':'modus_operandi_code',\n",
    "'vict_age':'victim_age',\n",
    "'vict_sex':'victim_sex',\n",
    "'vict_descent':'victim_descent',\n",
    "'premis_cd':'premises_code',\n",
    "'premis_desc':'premises_description',\n",
    "'weapon_used_cd':'weapon_code',\n",
    "'weapon_desc':'weapon_description',\n",
    "'status':'status_code',\n",
    "'status_desc':'status_code_description',\n",
    "'crm_cd_1':'crm_cd_1',\n",
    "'crm_cd_2':'crm_cd_2',\n",
    "'crm_cd_3':'crm_cd_3',\n",
    "'crm_cd_4':'crm_cd_4',\n",
    "'location':'address',\n",
    "'cross_street':'cross_street',\n",
    "'lat':'latitude',\n",
    "'lon':'longitude',\n",
    " }, inplace = True)"
   ]
  },
  {
   "cell_type": "markdown",
   "metadata": {},
   "source": [
    "### ... contunued"
   ]
  },
  {
   "cell_type": "code",
   "execution_count": null,
   "metadata": {},
   "outputs": [],
   "source": [
    "crimes['date_reported'] = crimes['date_reported'].str.replace(' 12:00:00 AM','')\n",
    "crimes['date_occurred'] = crimes['date_occurred'].str.replace(' 12:00:00 AM','')"
   ]
  },
  {
   "cell_type": "code",
   "execution_count": null,
   "metadata": {},
   "outputs": [],
   "source": [
    "crimes['date_reported'] = pd.to_datetime(crimes['date_reported'], format='%m/%d/%Y')\n",
    "crimes['date_occurred'] = pd.to_datetime(crimes['date_occurred'], format='%m/%d/%Y')"
   ]
  },
  {
   "cell_type": "code",
   "execution_count": null,
   "metadata": {},
   "outputs": [],
   "source": [
    "crimes['year'] = crimes['date_occurred'].dt.year\n",
    "crimes['quarter'] = crimes['date_occurred'].dt.quarter\n",
    "crimes['day'] = crimes['date_occurred'].dt.day\n",
    "crimes['month'] = crimes['date_occurred'].dt.month\n",
    "crimes['weekday'] = crimes['date_occurred'].dt.weekday_name\n",
    "crimes['monthname'] = crimes['date_occurred'].dt.month_name()"
   ]
  },
  {
   "cell_type": "code",
   "execution_count": null,
   "metadata": {},
   "outputs": [],
   "source": [
    "crimes[[ 'record_id', \n",
    "    'time_occurred', \n",
    "    'division', \n",
    "    'reporting_district', \n",
    "    'part_type',\n",
    "    'crm_cd_1',\n",
    "    'crm_cd_2',\n",
    "    'crm_cd_3',\n",
    "    'crm_cd_4',\n",
    "    'crime_code', \n",
    "    'premises_code', \n",
    "    'weapon_code',\n",
    "    'year',\n",
    "    'quarter',\n",
    "    'day',\n",
    "    'month', ]] = crimes[[\n",
    "    'record_id', \n",
    "    'time_occurred', \n",
    "    'division', \n",
    "    'reporting_district', \n",
    "    'part_type',\n",
    "    'crm_cd_1',\n",
    "    'crm_cd_2',\n",
    "    'crm_cd_3',\n",
    "    'crm_cd_4',\n",
    "    'crime_code', \n",
    "    'premises_code', \n",
    "    'weapon_code',\n",
    "    'year',\n",
    "    'quarter',\n",
    "    'day',\n",
    "    'month',]].astype(str)"
   ]
  },
  {
   "cell_type": "code",
   "execution_count": null,
   "metadata": {},
   "outputs": [],
   "source": [
    "descent_recode = { 'A':\"asian\",'B':\"black\",'C':\"asian\",'D':\"asian\",'F':\"asian\",'G':\"asian\",\\\n",
    "                 'H':\"hispanic\",'I':\"ai_an\",'J':\"asian\",\\\n",
    "                 'K':\"asian\",'L':\"asian\",'O':\"other\",'P':\"asian\",'S':\"asian\",\\\n",
    "                 'U':\"asian\",'V':\"asian\",'W':\"white\",'X':\"other\",'Z':\"asian\" }"
   ]
  },
  {
   "cell_type": "code",
   "execution_count": null,
   "metadata": {},
   "outputs": [],
   "source": [
    "crimes['descent_description'] = crimes['victim_descent'].map(descent_recode)"
   ]
  },
  {
   "cell_type": "code",
   "execution_count": null,
   "metadata": {},
   "outputs": [],
   "source": [
    "victim_sex_recode = { 'F':\"female\",'M':\"male\",'X':\"unknown\",'-':\"unknown\",'N':\"unknown\",'H':\"unknown\" }"
   ]
  },
  {
   "cell_type": "code",
   "execution_count": null,
   "metadata": {},
   "outputs": [],
   "source": [
    "crimes['victim_sex'] = crimes['victim_sex'].map(victim_sex_recode)"
   ]
  },
  {
   "cell_type": "code",
   "execution_count": null,
   "metadata": {},
   "outputs": [],
   "source": [
    "crimes['premises_code'] = crimes['premises_code'].str.replace('.0','', regex=False)\n",
    "crimes['premises_code'] = crimes['premises_code'].str.replace('.0','', regex=False)\n",
    "crimes['crm_cd_1'] = crimes['crm_cd_1'].str.replace('.0','', regex=False)\n",
    "crimes['crm_cd_2'] = crimes['crm_cd_2'].str.replace('.0','', regex=False)"
   ]
  },
  {
   "cell_type": "code",
   "execution_count": null,
   "metadata": {},
   "outputs": [],
   "source": [
    "crimes['premises_description'] = crimes['premises_description'].str.capitalize()\n",
    "crimes['status_code_description'] = crimes['status_code_description'].str.lower().str.replace(' ','_')\n",
    "crimes['crime_code_description'] = crimes['crime_code_description'].str.capitalize()\n",
    "crimes['weapon_description'] = crimes['weapon_description'].str.capitalize()"
   ]
  },
  {
   "cell_type": "code",
   "execution_count": null,
   "metadata": {},
   "outputs": [],
   "source": [
    "monthnames = ['January','February','March','April','May','June','July','August','September','October','November','December']"
   ]
  },
  {
   "cell_type": "code",
   "execution_count": null,
   "metadata": {},
   "outputs": [],
   "source": [
    "crimes['time_occurred'] = crimes['time_occurred'].str.replace('.0','', regex=False)\n",
    "crimes['time_occurred'] = crimes['time_occurred'].str.zfill(4)\n",
    "crimes['hour'] = crimes['time_occurred'].str[:2]\n",
    "crimes['minute'] = crimes['time_occurred'].str[2:]\n",
    "crimes = crimes[crimes['hour'] != '0n']\n",
    "crimes = crimes[crimes['hour'] != '24']"
   ]
  },
  {
   "cell_type": "code",
   "execution_count": null,
   "metadata": {},
   "outputs": [],
   "source": [
    "homicides = crimes[crimes['crime_code_description'].str.contains('Criminal homicide', na=False)]"
   ]
  },
  {
   "cell_type": "markdown",
   "metadata": {},
   "source": [
    "---"
   ]
  },
  {
   "cell_type": "markdown",
   "metadata": {},
   "source": [
    "### Filter dataframe so it only inlcudes part I — or \"major\" — cases"
   ]
  },
  {
   "cell_type": "code",
   "execution_count": null,
   "metadata": {},
   "outputs": [],
   "source": [
    "crimes = crimes.loc[crimes.part_type == '1']"
   ]
  },
  {
   "cell_type": "code",
   "execution_count": null,
   "metadata": {},
   "outputs": [],
   "source": [
    "len(crimes)"
   ]
  },
  {
   "cell_type": "markdown",
   "metadata": {},
   "source": [
    "### Crime codes"
   ]
  },
  {
   "cell_type": "code",
   "execution_count": null,
   "metadata": {},
   "outputs": [],
   "source": [
    "codes = crimes.groupby(['part_type', 'crime_code', 'crime_code_description']).agg('size').reset_index()"
   ]
  },
  {
   "cell_type": "code",
   "execution_count": null,
   "metadata": {},
   "outputs": [],
   "source": [
    "codes.head()"
   ]
  },
  {
   "cell_type": "markdown",
   "metadata": {},
   "source": [
    "### Recode crime_codes to identify 'part one' violent/property crimes_major"
   ]
  },
  {
   "cell_type": "code",
   "execution_count": null,
   "metadata": {},
   "outputs": [],
   "source": [
    "part_one_violent = ['110','113','121','122','210','220','230','231',\\\n",
    "                    '235','236','250','251','761','815','820','821']"
   ]
  },
  {
   "cell_type": "code",
   "execution_count": null,
   "metadata": {},
   "outputs": [],
   "source": [
    "part_one_property = ['310','320','330','331','341','343','345','350',\n",
    "                     '351','352','353','410','420','421','433','440','441',\n",
    "                     '442','443','444','445','450','451','452','453','470','471'\n",
    "                     ,'472','473','474','475','480','485','487','510','520','522']"
   ]
  },
  {
   "cell_type": "code",
   "execution_count": null,
   "metadata": {},
   "outputs": [],
   "source": [
    "categories = []\n",
    "\n",
    "for row in crimes['crime_code']:\n",
    "    if row in part_one_violent:\n",
    "        categories.append('pt_one_violent')\n",
    "    elif row in part_one_property:\n",
    "        categories.append('pt_one_property')\n",
    "    else:\n",
    "        categories.append('other')\n",
    "        \n",
    "crimes['part_category'] = categories"
   ]
  },
  {
   "cell_type": "markdown",
   "metadata": {},
   "source": [
    "---"
   ]
  },
  {
   "cell_type": "markdown",
   "metadata": {},
   "source": [
    "### Export clean table of major crimes for other notebooks"
   ]
  },
  {
   "cell_type": "code",
   "execution_count": null,
   "metadata": {},
   "outputs": [],
   "source": [
    "crimes.reset_index().to_feather('/Users/mhustiles/data/data/LA/crimes.feather')"
   ]
  },
  {
   "cell_type": "code",
   "execution_count": null,
   "metadata": {},
   "outputs": [],
   "source": []
  }
 ],
 "metadata": {
  "kernelspec": {
   "display_name": "Python 3",
   "language": "python",
   "name": "python3"
  },
  "language_info": {
   "codemirror_mode": {
    "name": "ipython",
    "version": 3
   },
   "file_extension": ".py",
   "mimetype": "text/x-python",
   "name": "python",
   "nbconvert_exporter": "python",
   "pygments_lexer": "ipython3",
   "version": "3.7.4"
  }
 },
 "nbformat": 4,
 "nbformat_minor": 2
}
