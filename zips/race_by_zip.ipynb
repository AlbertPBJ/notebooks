{
 "cells": [
  {
   "cell_type": "markdown",
   "metadata": {},
   "source": [
    "# Esri ZIP Codes with race/ethnicity"
   ]
  },
  {
   "cell_type": "code",
   "execution_count": null,
   "metadata": {},
   "outputs": [],
   "source": [
    "import pandas as pd\n",
    "import geopandas as gpd\n",
    "import matplotlib\n",
    "import matplotlib.pyplot as plt\n",
    "import geojson\n",
    "import json\n",
    "import jenkspy\n",
    "import numpy as np\n",
    "from altair import datum\n",
    "import altair as alt\n",
    "import altair_latimes as lat\n",
    "alt.themes.register('latimes', lat.theme)\n",
    "alt.themes.enable('latimes')\n",
    "alt.data_transformers.disable_max_rows()\n",
    "pd.set_option('display.max_columns', None)\n",
    "pd.set_option('display.max_rows', None)"
   ]
  },
  {
   "cell_type": "code",
   "execution_count": null,
   "metadata": {},
   "outputs": [],
   "source": [
    "### Get clean Esri data provided to the Times by the company's press office"
   ]
  },
  {
   "cell_type": "code",
   "execution_count": null,
   "metadata": {},
   "outputs": [],
   "source": []
  },
  {
   "cell_type": "markdown",
   "metadata": {},
   "source": [
    "### Fetch our ZIP Codes file with race/ethnicity demographics"
   ]
  },
  {
   "cell_type": "code",
   "execution_count": 2,
   "metadata": {},
   "outputs": [],
   "source": [
    "# From: https://services.arcgis.com/P3ePLMYs2RVChkJx/ArcGIS/rest/services/USA_ZIP_Codes/FeatureServer/0"
   ]
  },
  {
   "cell_type": "code",
   "execution_count": 21,
   "metadata": {},
   "outputs": [],
   "source": [
    "zips_race = gpd.read_file('/Users/mhustiles/data/github/AGStoShapefile/backupdir/esri_usa_zip_codes_demographics/esri_usa_zip_codes_demographics_1576185882397.geojson')"
   ]
  },
  {
   "cell_type": "code",
   "execution_count": 79,
   "metadata": {},
   "outputs": [],
   "source": [
    "zips_race.columns = zips_race.columns.str.strip().str.lower().str.replace(' ', '_')\\\n",
    "                    .str.replace('(', '').str.replace(')', '').str.replace('-','_')"
   ]
  },
  {
   "cell_type": "code",
   "execution_count": 80,
   "metadata": {},
   "outputs": [],
   "source": [
    "ca_zips_src = gpd.GeoDataFrame(zips_race[zips_race['state'] == 'CA'])"
   ]
  },
  {
   "cell_type": "code",
   "execution_count": 81,
   "metadata": {},
   "outputs": [],
   "source": [
    "popfields = ['males','females']"
   ]
  },
  {
   "cell_type": "code",
   "execution_count": 82,
   "metadata": {},
   "outputs": [],
   "source": [
    "ca_zips_src['population_nu'] = ca_zips_src[popfields].sum(axis=1)"
   ]
  },
  {
   "cell_type": "markdown",
   "metadata": {},
   "source": [
    "### Slim down the geodataframe and clean up column names"
   ]
  },
  {
   "cell_type": "code",
   "execution_count": 83,
   "metadata": {},
   "outputs": [],
   "source": [
    "ca_zips_race = gpd.GeoDataFrame(ca_zips_src[[ 'zip', 'po_name', 'population_nu', 'white','black','ameri_es','asian','hawn_pi','hispanic','other','mult_race','geometry']])"
   ]
  },
  {
   "cell_type": "code",
   "execution_count": 84,
   "metadata": {},
   "outputs": [],
   "source": [
    "ca_zips_race.rename(columns={ 'po_name':'location', 'population_nu':'population'}, inplace=True)"
   ]
  },
  {
   "cell_type": "markdown",
   "metadata": {},
   "source": [
    "### Calculate rates for race/ethnicity by ZIP Codes"
   ]
  },
  {
   "cell_type": "code",
   "execution_count": 85,
   "metadata": {},
   "outputs": [],
   "source": [
    "# ca_zips_race['white_alone'] = ca_zips_race['hispanic'] - ca_zips_race['white']"
   ]
  },
  {
   "cell_type": "code",
   "execution_count": 86,
   "metadata": {},
   "outputs": [],
   "source": [
    "# ca_zips_race['white_pct'] = round((ca_zips_race['white_alone'] / ca_zips_race['population'])*100, 2)"
   ]
  },
  {
   "cell_type": "code",
   "execution_count": 87,
   "metadata": {},
   "outputs": [],
   "source": [
    "ca_zips_race['black_pct'] = round((ca_zips_race['black'] / ca_zips_race['population'])*100, 2)"
   ]
  },
  {
   "cell_type": "code",
   "execution_count": 88,
   "metadata": {},
   "outputs": [],
   "source": [
    "ca_zips_race['asian_pct'] = round((ca_zips_race['asian'] / ca_zips_race['population'])*100, 2)"
   ]
  },
  {
   "cell_type": "code",
   "execution_count": 89,
   "metadata": {},
   "outputs": [],
   "source": [
    "ca_zips_race['hispanic_pct'] = round((ca_zips_race['hispanic'] / ca_zips_race['population'])*100, 2)"
   ]
  },
  {
   "cell_type": "code",
   "execution_count": 91,
   "metadata": {},
   "outputs": [
    {
     "data": {
      "text/html": [
       "<div>\n",
       "<style scoped>\n",
       "    .dataframe tbody tr th:only-of-type {\n",
       "        vertical-align: middle;\n",
       "    }\n",
       "\n",
       "    .dataframe tbody tr th {\n",
       "        vertical-align: top;\n",
       "    }\n",
       "\n",
       "    .dataframe thead th {\n",
       "        text-align: right;\n",
       "    }\n",
       "</style>\n",
       "<table border=\"1\" class=\"dataframe\">\n",
       "  <thead>\n",
       "    <tr style=\"text-align: right;\">\n",
       "      <th></th>\n",
       "      <th>zip</th>\n",
       "      <th>location</th>\n",
       "      <th>population</th>\n",
       "      <th>white</th>\n",
       "      <th>black</th>\n",
       "      <th>ameri_es</th>\n",
       "      <th>asian</th>\n",
       "      <th>hawn_pi</th>\n",
       "      <th>hispanic</th>\n",
       "      <th>other</th>\n",
       "      <th>mult_race</th>\n",
       "      <th>geometry</th>\n",
       "      <th>black_pct</th>\n",
       "      <th>asian_pct</th>\n",
       "      <th>hispanic_pct</th>\n",
       "    </tr>\n",
       "  </thead>\n",
       "  <tbody>\n",
       "    <tr>\n",
       "      <th>17676</th>\n",
       "      <td>90023</td>\n",
       "      <td>Los Angeles</td>\n",
       "      <td>43866</td>\n",
       "      <td>21780</td>\n",
       "      <td>324</td>\n",
       "      <td>550</td>\n",
       "      <td>255</td>\n",
       "      <td>31</td>\n",
       "      <td>42765</td>\n",
       "      <td>19522</td>\n",
       "      <td>1404</td>\n",
       "      <td>POLYGON ((-118.22804 34.03852, -118.22707 34.0...</td>\n",
       "      <td>0.74</td>\n",
       "      <td>0.58</td>\n",
       "      <td>97.49</td>\n",
       "    </tr>\n",
       "    <tr>\n",
       "      <th>18161</th>\n",
       "      <td>90270</td>\n",
       "      <td>Maywood</td>\n",
       "      <td>25842</td>\n",
       "      <td>13424</td>\n",
       "      <td>159</td>\n",
       "      <td>197</td>\n",
       "      <td>83</td>\n",
       "      <td>17</td>\n",
       "      <td>25185</td>\n",
       "      <td>10843</td>\n",
       "      <td>1118</td>\n",
       "      <td>POLYGON ((-118.20428 33.98808, -118.20421 33.9...</td>\n",
       "      <td>0.62</td>\n",
       "      <td>0.32</td>\n",
       "      <td>97.46</td>\n",
       "    </tr>\n",
       "    <tr>\n",
       "      <th>18796</th>\n",
       "      <td>92254</td>\n",
       "      <td>Mecca</td>\n",
       "      <td>12803</td>\n",
       "      <td>4331</td>\n",
       "      <td>71</td>\n",
       "      <td>81</td>\n",
       "      <td>41</td>\n",
       "      <td>12</td>\n",
       "      <td>12471</td>\n",
       "      <td>7895</td>\n",
       "      <td>372</td>\n",
       "      <td>POLYGON ((-116.05959 33.61375, -116.05958 33.6...</td>\n",
       "      <td>0.55</td>\n",
       "      <td>0.32</td>\n",
       "      <td>97.41</td>\n",
       "    </tr>\n",
       "    <tr>\n",
       "      <th>17475</th>\n",
       "      <td>90255</td>\n",
       "      <td>Huntington Park</td>\n",
       "      <td>76772</td>\n",
       "      <td>40224</td>\n",
       "      <td>524</td>\n",
       "      <td>1069</td>\n",
       "      <td>490</td>\n",
       "      <td>30</td>\n",
       "      <td>74603</td>\n",
       "      <td>31604</td>\n",
       "      <td>2832</td>\n",
       "      <td>POLYGON ((-118.23790 33.98912, -118.23767 33.9...</td>\n",
       "      <td>0.68</td>\n",
       "      <td>0.64</td>\n",
       "      <td>97.17</td>\n",
       "    </tr>\n",
       "    <tr>\n",
       "      <th>18129</th>\n",
       "      <td>90063</td>\n",
       "      <td>Los Angeles</td>\n",
       "      <td>61362</td>\n",
       "      <td>29774</td>\n",
       "      <td>467</td>\n",
       "      <td>717</td>\n",
       "      <td>766</td>\n",
       "      <td>28</td>\n",
       "      <td>59365</td>\n",
       "      <td>27544</td>\n",
       "      <td>2065</td>\n",
       "      <td>POLYGON ((-118.19269 34.06371, -118.19268 34.0...</td>\n",
       "      <td>0.76</td>\n",
       "      <td>1.25</td>\n",
       "      <td>96.75</td>\n",
       "    </tr>\n",
       "    <tr>\n",
       "      <th>17675</th>\n",
       "      <td>90022</td>\n",
       "      <td>Los Angeles</td>\n",
       "      <td>65157</td>\n",
       "      <td>33861</td>\n",
       "      <td>364</td>\n",
       "      <td>820</td>\n",
       "      <td>720</td>\n",
       "      <td>36</td>\n",
       "      <td>63023</td>\n",
       "      <td>27179</td>\n",
       "      <td>2175</td>\n",
       "      <td>POLYGON ((-118.16849 34.04848, -118.16851 34.0...</td>\n",
       "      <td>0.56</td>\n",
       "      <td>1.11</td>\n",
       "      <td>96.72</td>\n",
       "    </tr>\n",
       "    <tr>\n",
       "      <th>18696</th>\n",
       "      <td>92231</td>\n",
       "      <td>Calexico</td>\n",
       "      <td>39005</td>\n",
       "      <td>23440</td>\n",
       "      <td>136</td>\n",
       "      <td>206</td>\n",
       "      <td>510</td>\n",
       "      <td>22</td>\n",
       "      <td>37708</td>\n",
       "      <td>13028</td>\n",
       "      <td>1663</td>\n",
       "      <td>POLYGON ((-115.53408 32.70905, -115.53408 32.7...</td>\n",
       "      <td>0.35</td>\n",
       "      <td>1.31</td>\n",
       "      <td>96.67</td>\n",
       "    </tr>\n",
       "    <tr>\n",
       "      <th>17337</th>\n",
       "      <td>93234</td>\n",
       "      <td>Huron</td>\n",
       "      <td>7038</td>\n",
       "      <td>2361</td>\n",
       "      <td>68</td>\n",
       "      <td>77</td>\n",
       "      <td>37</td>\n",
       "      <td>6</td>\n",
       "      <td>6790</td>\n",
       "      <td>4180</td>\n",
       "      <td>308</td>\n",
       "      <td>POLYGON ((-120.01420 36.56107, -120.02096 36.5...</td>\n",
       "      <td>0.97</td>\n",
       "      <td>0.53</td>\n",
       "      <td>96.48</td>\n",
       "    </tr>\n",
       "    <tr>\n",
       "      <th>18775</th>\n",
       "      <td>92249</td>\n",
       "      <td>Heber</td>\n",
       "      <td>6507</td>\n",
       "      <td>3688</td>\n",
       "      <td>35</td>\n",
       "      <td>44</td>\n",
       "      <td>39</td>\n",
       "      <td>0</td>\n",
       "      <td>6197</td>\n",
       "      <td>2320</td>\n",
       "      <td>380</td>\n",
       "      <td>POLYGON ((-115.53408 32.70905, -115.53172 32.7...</td>\n",
       "      <td>0.54</td>\n",
       "      <td>0.60</td>\n",
       "      <td>95.24</td>\n",
       "    </tr>\n",
       "    <tr>\n",
       "      <th>17434</th>\n",
       "      <td>90201</td>\n",
       "      <td>Bell Gardens</td>\n",
       "      <td>98179</td>\n",
       "      <td>49945</td>\n",
       "      <td>896</td>\n",
       "      <td>1008</td>\n",
       "      <td>624</td>\n",
       "      <td>66</td>\n",
       "      <td>93354</td>\n",
       "      <td>41856</td>\n",
       "      <td>3783</td>\n",
       "      <td>POLYGON ((-118.17405 33.99873, -118.17473 33.9...</td>\n",
       "      <td>0.91</td>\n",
       "      <td>0.64</td>\n",
       "      <td>95.09</td>\n",
       "    </tr>\n",
       "  </tbody>\n",
       "</table>\n",
       "</div>"
      ],
      "text/plain": [
       "         zip         location  population  white  black  ameri_es  asian  \\\n",
       "17676  90023      Los Angeles       43866  21780    324       550    255   \n",
       "18161  90270          Maywood       25842  13424    159       197     83   \n",
       "18796  92254            Mecca       12803   4331     71        81     41   \n",
       "17475  90255  Huntington Park       76772  40224    524      1069    490   \n",
       "18129  90063      Los Angeles       61362  29774    467       717    766   \n",
       "17675  90022      Los Angeles       65157  33861    364       820    720   \n",
       "18696  92231         Calexico       39005  23440    136       206    510   \n",
       "17337  93234            Huron        7038   2361     68        77     37   \n",
       "18775  92249            Heber        6507   3688     35        44     39   \n",
       "17434  90201     Bell Gardens       98179  49945    896      1008    624   \n",
       "\n",
       "       hawn_pi  hispanic  other  mult_race  \\\n",
       "17676       31     42765  19522       1404   \n",
       "18161       17     25185  10843       1118   \n",
       "18796       12     12471   7895        372   \n",
       "17475       30     74603  31604       2832   \n",
       "18129       28     59365  27544       2065   \n",
       "17675       36     63023  27179       2175   \n",
       "18696       22     37708  13028       1663   \n",
       "17337        6      6790   4180        308   \n",
       "18775        0      6197   2320        380   \n",
       "17434       66     93354  41856       3783   \n",
       "\n",
       "                                                geometry  black_pct  \\\n",
       "17676  POLYGON ((-118.22804 34.03852, -118.22707 34.0...       0.74   \n",
       "18161  POLYGON ((-118.20428 33.98808, -118.20421 33.9...       0.62   \n",
       "18796  POLYGON ((-116.05959 33.61375, -116.05958 33.6...       0.55   \n",
       "17475  POLYGON ((-118.23790 33.98912, -118.23767 33.9...       0.68   \n",
       "18129  POLYGON ((-118.19269 34.06371, -118.19268 34.0...       0.76   \n",
       "17675  POLYGON ((-118.16849 34.04848, -118.16851 34.0...       0.56   \n",
       "18696  POLYGON ((-115.53408 32.70905, -115.53408 32.7...       0.35   \n",
       "17337  POLYGON ((-120.01420 36.56107, -120.02096 36.5...       0.97   \n",
       "18775  POLYGON ((-115.53408 32.70905, -115.53172 32.7...       0.54   \n",
       "17434  POLYGON ((-118.17405 33.99873, -118.17473 33.9...       0.91   \n",
       "\n",
       "       asian_pct  hispanic_pct  \n",
       "17676       0.58         97.49  \n",
       "18161       0.32         97.46  \n",
       "18796       0.32         97.41  \n",
       "17475       0.64         97.17  \n",
       "18129       1.25         96.75  \n",
       "17675       1.11         96.72  \n",
       "18696       1.31         96.67  \n",
       "17337       0.53         96.48  \n",
       "18775       0.60         95.24  \n",
       "17434       0.64         95.09  "
      ]
     },
     "execution_count": 91,
     "metadata": {},
     "output_type": "execute_result"
    }
   ],
   "source": [
    "ca_zips_race.sort_values('hispanic_pct', ascending=False).head(10)"
   ]
  },
  {
   "cell_type": "code",
   "execution_count": 98,
   "metadata": {},
   "outputs": [
    {
     "data": {
      "text/plain": [
       "8210.019366197183"
      ]
     },
     "execution_count": 98,
     "metadata": {},
     "output_type": "execute_result"
    }
   ],
   "source": [
    "ca_zips_race['hispanic'].mean()"
   ]
  },
  {
   "cell_type": "markdown",
   "metadata": {},
   "source": [
    "### Export this more manageable file"
   ]
  },
  {
   "cell_type": "code",
   "execution_count": 93,
   "metadata": {},
   "outputs": [],
   "source": [
    "ca_zips_race.to_file('../../cars/_notebooks/data/processed/ca_zips_race.geojson', driver='GeoJSON')"
   ]
  }
 ],
 "metadata": {
  "kernelspec": {
   "display_name": "Python 3",
   "language": "python",
   "name": "python3"
  },
  "language_info": {
   "codemirror_mode": {
    "name": "ipython",
    "version": 3
   },
   "file_extension": ".py",
   "mimetype": "text/x-python",
   "name": "python",
   "nbconvert_exporter": "python",
   "pygments_lexer": "ipython3",
   "version": "3.7.4"
  }
 },
 "nbformat": 4,
 "nbformat_minor": 4
}
