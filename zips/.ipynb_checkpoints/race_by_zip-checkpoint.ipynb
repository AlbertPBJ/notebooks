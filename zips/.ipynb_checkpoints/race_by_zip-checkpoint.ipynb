{
 "cells": [
  {
   "cell_type": "markdown",
   "metadata": {},
   "source": [
    "# Esri ZIP Codes with race/ethnicity"
   ]
  },
  {
   "cell_type": "code",
   "execution_count": 1,
   "metadata": {},
   "outputs": [],
   "source": [
    "import pandas as pd\n",
    "import geopandas as gpd\n",
    "import matplotlib\n",
    "import matplotlib.pyplot as plt\n",
    "import geojson\n",
    "import json\n",
    "import jenkspy\n",
    "import numpy as np\n",
    "from altair import datum\n",
    "import altair as alt\n",
    "import altair_latimes as lat\n",
    "alt.themes.register('latimes', lat.theme)\n",
    "alt.themes.enable('latimes')\n",
    "alt.data_transformers.disable_max_rows()\n",
    "pd.set_option('display.max_columns', None)\n",
    "pd.set_option('display.max_rows', None)"
   ]
  },
  {
   "cell_type": "markdown",
   "metadata": {},
   "source": [
    "### Fetch our ZIP Codes file with race/ethnicity demographics"
   ]
  },
  {
   "cell_type": "code",
   "execution_count": 2,
   "metadata": {},
   "outputs": [],
   "source": [
    "# From: https://services.arcgis.com/P3ePLMYs2RVChkJx/ArcGIS/rest/services/USA_ZIP_Codes/FeatureServer/0"
   ]
  },
  {
   "cell_type": "code",
   "execution_count": 3,
   "metadata": {},
   "outputs": [],
   "source": [
    "zips_race = gpd.read_file('/Users/mhustiles/data/github/AGStoShapefile/backupdir/USA_ZIP_Codes_demos_Esri/USA_ZIP_Codes_demos_Esri_1606958876060.geojson')"
   ]
  },
  {
   "cell_type": "code",
   "execution_count": 4,
   "metadata": {},
   "outputs": [],
   "source": [
    "zips_race.columns = zips_race.columns.str.strip().str.lower().str.replace(' ', '_')\\\n",
    "                    .str.replace('(', '').str.replace(')', '').str.replace('-','_')"
   ]
  },
  {
   "cell_type": "code",
   "execution_count": 5,
   "metadata": {},
   "outputs": [],
   "source": [
    "ca_zips_src = zips_race[zips_race['state'] == 'CA'] "
   ]
  },
  {
   "cell_type": "markdown",
   "metadata": {},
   "source": [
    "### Slim down the geodataframe and clean up column names"
   ]
  },
  {
   "cell_type": "code",
   "execution_count": 6,
   "metadata": {},
   "outputs": [],
   "source": [
    "ca_zips_race = gpd.GeoDataFrame(ca_zips_src[[ 'zip', 'po_name', 'pop2012', 'white', 'black', 'asian', 'hispanic', 'geometry']])"
   ]
  },
  {
   "cell_type": "code",
   "execution_count": 7,
   "metadata": {},
   "outputs": [],
   "source": [
    "ca_zips_race.rename(columns={ 'po_name':'location', 'pop2012':'population'}, inplace=True)"
   ]
  },
  {
   "cell_type": "markdown",
   "metadata": {},
   "source": [
    "### Calculate rates for race/ethnicity by ZIP Codes"
   ]
  },
  {
   "cell_type": "code",
   "execution_count": 8,
   "metadata": {},
   "outputs": [],
   "source": [
    "ca_zips_race['white_pct'] = round((ca_zips_race['white'] / ca_zips_race['population'])*100, 2)"
   ]
  },
  {
   "cell_type": "code",
   "execution_count": 9,
   "metadata": {},
   "outputs": [],
   "source": [
    "ca_zips_race['black_pct'] = round((ca_zips_race['black'] / ca_zips_race['population'])*100, 2)"
   ]
  },
  {
   "cell_type": "code",
   "execution_count": 10,
   "metadata": {},
   "outputs": [],
   "source": [
    "ca_zips_race['asian_pct'] = round((ca_zips_race['asian'] / ca_zips_race['population'])*100, 2)"
   ]
  },
  {
   "cell_type": "code",
   "execution_count": 11,
   "metadata": {},
   "outputs": [],
   "source": [
    "ca_zips_race['hispanic_pct'] = round((ca_zips_race['hispanic'] / ca_zips_race['population'])*100, 2)"
   ]
  },
  {
   "cell_type": "code",
   "execution_count": 12,
   "metadata": {},
   "outputs": [
    {
     "data": {
      "text/html": [
       "<div>\n",
       "<style scoped>\n",
       "    .dataframe tbody tr th:only-of-type {\n",
       "        vertical-align: middle;\n",
       "    }\n",
       "\n",
       "    .dataframe tbody tr th {\n",
       "        vertical-align: top;\n",
       "    }\n",
       "\n",
       "    .dataframe thead th {\n",
       "        text-align: right;\n",
       "    }\n",
       "</style>\n",
       "<table border=\"1\" class=\"dataframe\">\n",
       "  <thead>\n",
       "    <tr style=\"text-align: right;\">\n",
       "      <th></th>\n",
       "      <th>zip</th>\n",
       "      <th>location</th>\n",
       "      <th>population</th>\n",
       "      <th>white</th>\n",
       "      <th>black</th>\n",
       "      <th>asian</th>\n",
       "      <th>hispanic</th>\n",
       "      <th>geometry</th>\n",
       "      <th>white_pct</th>\n",
       "      <th>black_pct</th>\n",
       "      <th>asian_pct</th>\n",
       "      <th>hispanic_pct</th>\n",
       "    </tr>\n",
       "  </thead>\n",
       "  <tbody>\n",
       "    <tr>\n",
       "      <th>15477</th>\n",
       "      <td>94002</td>\n",
       "      <td>Belmont</td>\n",
       "      <td>26832</td>\n",
       "      <td>19634</td>\n",
       "      <td>477</td>\n",
       "      <td>5762</td>\n",
       "      <td>3517</td>\n",
       "      <td>POLYGON ((-122.27703 37.53436, -122.27687 37.5...</td>\n",
       "      <td>73.17</td>\n",
       "      <td>1.78</td>\n",
       "      <td>21.47</td>\n",
       "      <td>13.11</td>\n",
       "    </tr>\n",
       "    <tr>\n",
       "      <th>15487</th>\n",
       "      <td>94010</td>\n",
       "      <td>Burlingame</td>\n",
       "      <td>41102</td>\n",
       "      <td>31610</td>\n",
       "      <td>482</td>\n",
       "      <td>10244</td>\n",
       "      <td>5133</td>\n",
       "      <td>POLYGON ((-122.37728 37.60562, -122.37738 37.6...</td>\n",
       "      <td>76.91</td>\n",
       "      <td>1.17</td>\n",
       "      <td>24.92</td>\n",
       "      <td>12.49</td>\n",
       "    </tr>\n",
       "    <tr>\n",
       "      <th>15488</th>\n",
       "      <td>93442</td>\n",
       "      <td>Morro Bay</td>\n",
       "      <td>10873</td>\n",
       "      <td>9395</td>\n",
       "      <td>47</td>\n",
       "      <td>281</td>\n",
       "      <td>1602</td>\n",
       "      <td>POLYGON ((-120.77255 35.46196, -120.77270 35.4...</td>\n",
       "      <td>86.41</td>\n",
       "      <td>0.43</td>\n",
       "      <td>2.58</td>\n",
       "      <td>14.73</td>\n",
       "    </tr>\n",
       "    <tr>\n",
       "      <th>15494</th>\n",
       "      <td>93445</td>\n",
       "      <td>Oceano</td>\n",
       "      <td>7633</td>\n",
       "      <td>4683</td>\n",
       "      <td>60</td>\n",
       "      <td>155</td>\n",
       "      <td>3389</td>\n",
       "      <td>POLYGON ((-120.63624 35.12213, -120.63591 35.1...</td>\n",
       "      <td>61.35</td>\n",
       "      <td>0.79</td>\n",
       "      <td>2.03</td>\n",
       "      <td>44.40</td>\n",
       "    </tr>\n",
       "    <tr>\n",
       "      <th>15495</th>\n",
       "      <td>94015</td>\n",
       "      <td>Daly City</td>\n",
       "      <td>61575</td>\n",
       "      <td>14279</td>\n",
       "      <td>2138</td>\n",
       "      <td>35940</td>\n",
       "      <td>9775</td>\n",
       "      <td>POLYGON ((-122.50283 37.70813, -122.50242 37.7...</td>\n",
       "      <td>23.19</td>\n",
       "      <td>3.47</td>\n",
       "      <td>58.37</td>\n",
       "      <td>15.87</td>\n",
       "    </tr>\n",
       "  </tbody>\n",
       "</table>\n",
       "</div>"
      ],
      "text/plain": [
       "         zip    location  population  white  black  asian  hispanic  \\\n",
       "15477  94002     Belmont       26832  19634    477   5762      3517   \n",
       "15487  94010  Burlingame       41102  31610    482  10244      5133   \n",
       "15488  93442   Morro Bay       10873   9395     47    281      1602   \n",
       "15494  93445      Oceano        7633   4683     60    155      3389   \n",
       "15495  94015   Daly City       61575  14279   2138  35940      9775   \n",
       "\n",
       "                                                geometry  white_pct  \\\n",
       "15477  POLYGON ((-122.27703 37.53436, -122.27687 37.5...      73.17   \n",
       "15487  POLYGON ((-122.37728 37.60562, -122.37738 37.6...      76.91   \n",
       "15488  POLYGON ((-120.77255 35.46196, -120.77270 35.4...      86.41   \n",
       "15494  POLYGON ((-120.63624 35.12213, -120.63591 35.1...      61.35   \n",
       "15495  POLYGON ((-122.50283 37.70813, -122.50242 37.7...      23.19   \n",
       "\n",
       "       black_pct  asian_pct  hispanic_pct  \n",
       "15477       1.78      21.47         13.11  \n",
       "15487       1.17      24.92         12.49  \n",
       "15488       0.43       2.58         14.73  \n",
       "15494       0.79       2.03         44.40  \n",
       "15495       3.47      58.37         15.87  "
      ]
     },
     "execution_count": 12,
     "metadata": {},
     "output_type": "execute_result"
    }
   ],
   "source": [
    "ca_zips_race.head()"
   ]
  },
  {
   "cell_type": "markdown",
   "metadata": {},
   "source": [
    "### Export this more manageable file"
   ]
  },
  {
   "cell_type": "code",
   "execution_count": 13,
   "metadata": {},
   "outputs": [],
   "source": [
    "ca_zips_race.to_file('data/processed/ca_zips_race.geojson', driver='GeoJSON')"
   ]
  }
 ],
 "metadata": {
  "kernelspec": {
   "display_name": "Python 3",
   "language": "python",
   "name": "python3"
  },
  "language_info": {
   "codemirror_mode": {
    "name": "ipython",
    "version": 3
   },
   "file_extension": ".py",
   "mimetype": "text/x-python",
   "name": "python",
   "nbconvert_exporter": "python",
   "pygments_lexer": "ipython3",
   "version": "3.7.4"
  }
 },
 "nbformat": 4,
 "nbformat_minor": 4
}
