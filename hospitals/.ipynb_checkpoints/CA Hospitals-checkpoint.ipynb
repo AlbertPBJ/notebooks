{
 "cells": [
  {
   "cell_type": "markdown",
   "metadata": {},
   "source": [
    "# CA Hospitals"
   ]
  },
  {
   "cell_type": "markdown",
   "metadata": {},
   "source": [
    "### Load python tools"
   ]
  },
  {
   "cell_type": "code",
   "execution_count": 3,
   "metadata": {},
   "outputs": [
    {
     "data": {
      "text/plain": [
       "DataTransformerRegistry.enable('default')"
      ]
     },
     "execution_count": 3,
     "metadata": {},
     "output_type": "execute_result"
    }
   ],
   "source": [
    "import pandas as pd\n",
    "import geopandas as gpd\n",
    "import jenkspy\n",
    "import matplotlib.pyplot as plt\n",
    "%matplotlib inline\n",
    "import json\n",
    "import numpy as np\n",
    "from altair import datum\n",
    "import altair as alt\n",
    "import altair_latimes as lat\n",
    "alt.themes.register('latimes', lat.theme)\n",
    "alt.themes.enable('latimes')\n",
    "pd.options.display.max_columns = 50\n",
    "pd.options.display.max_rows = 1000\n",
    "alt.data_transformers.disable_max_rows()"
   ]
  },
  {
   "cell_type": "code",
   "execution_count": null,
   "metadata": {},
   "outputs": [],
   "source": []
  },
  {
   "cell_type": "code",
   "execution_count": null,
   "metadata": {},
   "outputs": [],
   "source": []
  },
  {
   "cell_type": "code",
   "execution_count": null,
   "metadata": {},
   "outputs": [],
   "source": []
  },
  {
   "cell_type": "code",
   "execution_count": null,
   "metadata": {},
   "outputs": [],
   "source": []
  },
  {
   "cell_type": "markdown",
   "metadata": {},
   "source": [
    "### Hospital building characteristics"
   ]
  },
  {
   "cell_type": "code",
   "execution_count": null,
   "metadata": {},
   "outputs": [],
   "source": [
    "#https://data.chhs.ca.gov/dataset/hospital-building-data\n",
    "#Metadata: https://data.chhs.ca.gov/dataset/hospital-building-data/resource/cefc10e5-5071-4ca4-8b03-2249caf0d294\n",
    "buildings = pd.read_csv('input/ca-oshpd-gachospital-building-03052020.csv', encoding='Latin-1',\\\n",
    "                        {'year_completed': str, 'building_code_year': str, 'stories': int, 'height_ft': int})"
   ]
  },
  {
   "cell_type": "code",
   "execution_count": 8,
   "metadata": {},
   "outputs": [],
   "source": [
    "buildings.columns = buildings.columns.str.strip().str.lower().str.replace(' ', '_')\\\n",
    "                    .str.replace('(', '').str.replace(')', '').str.replace('-','_')"
   ]
  },
  {
   "cell_type": "code",
   "execution_count": 9,
   "metadata": {},
   "outputs": [
    {
     "data": {
      "text/html": [
       "<div>\n",
       "<style scoped>\n",
       "    .dataframe tbody tr th:only-of-type {\n",
       "        vertical-align: middle;\n",
       "    }\n",
       "\n",
       "    .dataframe tbody tr th {\n",
       "        vertical-align: top;\n",
       "    }\n",
       "\n",
       "    .dataframe thead th {\n",
       "        text-align: right;\n",
       "    }\n",
       "</style>\n",
       "<table border=\"1\" class=\"dataframe\">\n",
       "  <thead>\n",
       "    <tr style=\"text-align: right;\">\n",
       "      <th></th>\n",
       "      <th>county_code</th>\n",
       "      <th>perm_id</th>\n",
       "      <th>facility_name</th>\n",
       "      <th>city</th>\n",
       "      <th>building_nbr</th>\n",
       "      <th>building_name</th>\n",
       "      <th>building_status</th>\n",
       "      <th>spc_rating_*</th>\n",
       "      <th>building_url</th>\n",
       "      <th>height_ft</th>\n",
       "      <th>stories</th>\n",
       "      <th>building_code</th>\n",
       "      <th>building_code_year</th>\n",
       "      <th>year_completed</th>\n",
       "      <th>latitude</th>\n",
       "      <th>longitude</th>\n",
       "      <th>count</th>\n",
       "    </tr>\n",
       "  </thead>\n",
       "  <tbody>\n",
       "    <tr>\n",
       "      <td>0</td>\n",
       "      <td>01 - Alameda</td>\n",
       "      <td>11210</td>\n",
       "      <td>Alameda Hospital</td>\n",
       "      <td>Alameda</td>\n",
       "      <td>BLD-01278</td>\n",
       "      <td>Original Hospital</td>\n",
       "      <td>In Service</td>\n",
       "      <td>1</td>\n",
       "      <td>https://eserv.oshpd.ca.gov/CitizenAccess/Cap/C...</td>\n",
       "      <td>44.17</td>\n",
       "      <td>4.0</td>\n",
       "      <td>Unknown</td>\n",
       "      <td>NaN</td>\n",
       "      <td>1926.0</td>\n",
       "      <td>37.762657</td>\n",
       "      <td>-122.253899</td>\n",
       "      <td>1</td>\n",
       "    </tr>\n",
       "    <tr>\n",
       "      <td>1</td>\n",
       "      <td>01 - Alameda</td>\n",
       "      <td>11210</td>\n",
       "      <td>Alameda Hospital</td>\n",
       "      <td>Alameda</td>\n",
       "      <td>BLD-01279</td>\n",
       "      <td>Stephens Wing</td>\n",
       "      <td>In Service</td>\n",
       "      <td>1</td>\n",
       "      <td>https://eserv.oshpd.ca.gov/CitizenAccess/Cap/C...</td>\n",
       "      <td>35.00</td>\n",
       "      <td>3.0</td>\n",
       "      <td>1952 Uniform Building Code (UBC)</td>\n",
       "      <td>1952.0</td>\n",
       "      <td>1956.0</td>\n",
       "      <td>37.762657</td>\n",
       "      <td>-122.253899</td>\n",
       "      <td>1</td>\n",
       "    </tr>\n",
       "    <tr>\n",
       "      <td>2</td>\n",
       "      <td>01 - Alameda</td>\n",
       "      <td>11210</td>\n",
       "      <td>Alameda Hospital</td>\n",
       "      <td>Alameda</td>\n",
       "      <td>BLD-01280</td>\n",
       "      <td>West Wing</td>\n",
       "      <td>In Service</td>\n",
       "      <td>2</td>\n",
       "      <td>https://eserv.oshpd.ca.gov/CitizenAccess/Cap/C...</td>\n",
       "      <td>NaN</td>\n",
       "      <td>2.0</td>\n",
       "      <td>1964 Uniform Building Code (UBC)</td>\n",
       "      <td>1964.0</td>\n",
       "      <td>1968.0</td>\n",
       "      <td>37.762657</td>\n",
       "      <td>-122.253899</td>\n",
       "      <td>1</td>\n",
       "    </tr>\n",
       "    <tr>\n",
       "      <td>3</td>\n",
       "      <td>01 - Alameda</td>\n",
       "      <td>11210</td>\n",
       "      <td>Alameda Hospital</td>\n",
       "      <td>Alameda</td>\n",
       "      <td>BLD-01281</td>\n",
       "      <td>South Wing</td>\n",
       "      <td>In Service</td>\n",
       "      <td>3s</td>\n",
       "      <td>https://eserv.oshpd.ca.gov/CitizenAccess/Cap/C...</td>\n",
       "      <td>NaN</td>\n",
       "      <td>3.0</td>\n",
       "      <td>1976 California Building Code (CBC)</td>\n",
       "      <td>1976.0</td>\n",
       "      <td>1983.0</td>\n",
       "      <td>37.762657</td>\n",
       "      <td>-122.253899</td>\n",
       "      <td>1</td>\n",
       "    </tr>\n",
       "    <tr>\n",
       "      <td>4</td>\n",
       "      <td>01 - Alameda</td>\n",
       "      <td>11210</td>\n",
       "      <td>Alameda Hospital</td>\n",
       "      <td>Alameda</td>\n",
       "      <td>BLD-01282</td>\n",
       "      <td>Radiology Addition</td>\n",
       "      <td>In Service</td>\n",
       "      <td>5s</td>\n",
       "      <td>https://eserv.oshpd.ca.gov/CitizenAccess/Cap/C...</td>\n",
       "      <td>NaN</td>\n",
       "      <td>2.0</td>\n",
       "      <td>1985 California Building Code (CBC)</td>\n",
       "      <td>1985.0</td>\n",
       "      <td>1995.0</td>\n",
       "      <td>37.762657</td>\n",
       "      <td>-122.253899</td>\n",
       "      <td>1</td>\n",
       "    </tr>\n",
       "  </tbody>\n",
       "</table>\n",
       "</div>"
      ],
      "text/plain": [
       "    county_code  perm_id     facility_name     city building_nbr  \\\n",
       "0  01 - Alameda    11210  Alameda Hospital  Alameda    BLD-01278   \n",
       "1  01 - Alameda    11210  Alameda Hospital  Alameda    BLD-01279   \n",
       "2  01 - Alameda    11210  Alameda Hospital  Alameda    BLD-01280   \n",
       "3  01 - Alameda    11210  Alameda Hospital  Alameda    BLD-01281   \n",
       "4  01 - Alameda    11210  Alameda Hospital  Alameda    BLD-01282   \n",
       "\n",
       "        building_name building_status spc_rating_*  \\\n",
       "0   Original Hospital      In Service            1   \n",
       "1       Stephens Wing      In Service            1   \n",
       "2           West Wing      In Service            2   \n",
       "3          South Wing      In Service           3s   \n",
       "4  Radiology Addition      In Service           5s   \n",
       "\n",
       "                                        building_url  height_ft  stories  \\\n",
       "0  https://eserv.oshpd.ca.gov/CitizenAccess/Cap/C...      44.17      4.0   \n",
       "1  https://eserv.oshpd.ca.gov/CitizenAccess/Cap/C...      35.00      3.0   \n",
       "2  https://eserv.oshpd.ca.gov/CitizenAccess/Cap/C...        NaN      2.0   \n",
       "3  https://eserv.oshpd.ca.gov/CitizenAccess/Cap/C...        NaN      3.0   \n",
       "4  https://eserv.oshpd.ca.gov/CitizenAccess/Cap/C...        NaN      2.0   \n",
       "\n",
       "                         building_code  building_code_year  year_completed  \\\n",
       "0                              Unknown                 NaN          1926.0   \n",
       "1     1952 Uniform Building Code (UBC)              1952.0          1956.0   \n",
       "2     1964 Uniform Building Code (UBC)              1964.0          1968.0   \n",
       "3  1976 California Building Code (CBC)              1976.0          1983.0   \n",
       "4  1985 California Building Code (CBC)              1985.0          1995.0   \n",
       "\n",
       "    latitude   longitude  count  \n",
       "0  37.762657 -122.253899      1  \n",
       "1  37.762657 -122.253899      1  \n",
       "2  37.762657 -122.253899      1  \n",
       "3  37.762657 -122.253899      1  \n",
       "4  37.762657 -122.253899      1  "
      ]
     },
     "execution_count": 9,
     "metadata": {},
     "output_type": "execute_result"
    }
   ],
   "source": [
    "buildings.head()"
   ]
  },
  {
   "cell_type": "code",
   "execution_count": null,
   "metadata": {},
   "outputs": [],
   "source": []
  }
 ],
 "metadata": {
  "kernelspec": {
   "display_name": "Python 3",
   "language": "python",
   "name": "python3"
  },
  "language_info": {
   "codemirror_mode": {
    "name": "ipython",
    "version": 3
   },
   "file_extension": ".py",
   "mimetype": "text/x-python",
   "name": "python",
   "nbconvert_exporter": "python",
   "pygments_lexer": "ipython3",
   "version": "3.7.4"
  }
 },
 "nbformat": 4,
 "nbformat_minor": 2
}
