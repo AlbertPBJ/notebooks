{
 "cells": [
  {
   "cell_type": "markdown",
   "metadata": {},
   "source": [
    "# CA Hospitals"
   ]
  },
  {
   "cell_type": "markdown",
   "metadata": {},
   "source": [
    "### Load python tools"
   ]
  },
  {
   "cell_type": "code",
   "execution_count": 3,
   "metadata": {},
   "outputs": [
    {
     "data": {
      "text/plain": [
       "DataTransformerRegistry.enable('default')"
      ]
     },
     "execution_count": 3,
     "metadata": {},
     "output_type": "execute_result"
    }
   ],
   "source": [
    "import pandas as pd\n",
    "import geopandas as gpd\n",
    "import jenkspy\n",
    "import matplotlib.pyplot as plt\n",
    "%matplotlib inline\n",
    "import json\n",
    "import numpy as np\n",
    "from altair import datum\n",
    "import altair as alt\n",
    "import altair_latimes as lat\n",
    "alt.themes.register('latimes', lat.theme)\n",
    "alt.themes.enable('latimes')\n",
    "pd.options.display.max_columns = 50\n",
    "pd.options.display.max_rows = 1000\n",
    "alt.data_transformers.disable_max_rows()"
   ]
  },
  {
   "cell_type": "markdown",
   "metadata": {},
   "source": [
    "### Hospital building characteristics"
   ]
  },
  {
   "cell_type": "code",
   "execution_count": 23,
   "metadata": {},
   "outputs": [],
   "source": [
    "#https://data.chhs.ca.gov/dataset/hospital-building-data\n",
    "#Metadata: https://data.chhs.ca.gov/dataset/hospital-building-data/resource/cefc10e5-5071-4ca4-8b03-2249caf0d294\n",
    "buildings = pd.read_csv('input/ca-oshpd-gachospital-building-03052020.csv', encoding='Latin-1',\\\n",
    "                        dtype={'year_completed': object, 'building_code_year': object, 'stories': int,\\\n",
    "                               'height_ft': int}).fillna('')"
   ]
  },
  {
   "cell_type": "code",
   "execution_count": 24,
   "metadata": {},
   "outputs": [],
   "source": [
    "buildings.columns = buildings.columns.str.strip().str.lower().str.replace(' ', '_')\\\n",
    "                    .str.replace('(', '').str.replace(')', '').str.replace('-','_')"
   ]
  },
  {
   "cell_type": "code",
   "execution_count": 25,
   "metadata": {},
   "outputs": [
    {
     "data": {
      "text/html": [
       "<div>\n",
       "<style scoped>\n",
       "    .dataframe tbody tr th:only-of-type {\n",
       "        vertical-align: middle;\n",
       "    }\n",
       "\n",
       "    .dataframe tbody tr th {\n",
       "        vertical-align: top;\n",
       "    }\n",
       "\n",
       "    .dataframe thead th {\n",
       "        text-align: right;\n",
       "    }\n",
       "</style>\n",
       "<table border=\"1\" class=\"dataframe\">\n",
       "  <thead>\n",
       "    <tr style=\"text-align: right;\">\n",
       "      <th></th>\n",
       "      <th>county_code</th>\n",
       "      <th>perm_id</th>\n",
       "      <th>facility_name</th>\n",
       "      <th>city</th>\n",
       "      <th>building_nbr</th>\n",
       "      <th>building_name</th>\n",
       "      <th>building_status</th>\n",
       "      <th>spc_rating_*</th>\n",
       "      <th>building_url</th>\n",
       "      <th>height_ft</th>\n",
       "      <th>stories</th>\n",
       "      <th>building_code</th>\n",
       "      <th>building_code_year</th>\n",
       "      <th>year_completed</th>\n",
       "      <th>latitude</th>\n",
       "      <th>longitude</th>\n",
       "      <th>count</th>\n",
       "    </tr>\n",
       "  </thead>\n",
       "  <tbody>\n",
       "    <tr>\n",
       "      <td>0</td>\n",
       "      <td>01 - Alameda</td>\n",
       "      <td>11210</td>\n",
       "      <td>Alameda Hospital</td>\n",
       "      <td>Alameda</td>\n",
       "      <td>BLD-01278</td>\n",
       "      <td>Original Hospital</td>\n",
       "      <td>In Service</td>\n",
       "      <td>1</td>\n",
       "      <td>https://eserv.oshpd.ca.gov/CitizenAccess/Cap/C...</td>\n",
       "      <td>44.17</td>\n",
       "      <td>4</td>\n",
       "      <td>Unknown</td>\n",
       "      <td></td>\n",
       "      <td>1926</td>\n",
       "      <td>37.762657</td>\n",
       "      <td>-122.253899</td>\n",
       "      <td>1</td>\n",
       "    </tr>\n",
       "    <tr>\n",
       "      <td>1</td>\n",
       "      <td>01 - Alameda</td>\n",
       "      <td>11210</td>\n",
       "      <td>Alameda Hospital</td>\n",
       "      <td>Alameda</td>\n",
       "      <td>BLD-01279</td>\n",
       "      <td>Stephens Wing</td>\n",
       "      <td>In Service</td>\n",
       "      <td>1</td>\n",
       "      <td>https://eserv.oshpd.ca.gov/CitizenAccess/Cap/C...</td>\n",
       "      <td>35</td>\n",
       "      <td>3</td>\n",
       "      <td>1952 Uniform Building Code (UBC)</td>\n",
       "      <td>1952</td>\n",
       "      <td>1956</td>\n",
       "      <td>37.762657</td>\n",
       "      <td>-122.253899</td>\n",
       "      <td>1</td>\n",
       "    </tr>\n",
       "    <tr>\n",
       "      <td>2</td>\n",
       "      <td>01 - Alameda</td>\n",
       "      <td>11210</td>\n",
       "      <td>Alameda Hospital</td>\n",
       "      <td>Alameda</td>\n",
       "      <td>BLD-01280</td>\n",
       "      <td>West Wing</td>\n",
       "      <td>In Service</td>\n",
       "      <td>2</td>\n",
       "      <td>https://eserv.oshpd.ca.gov/CitizenAccess/Cap/C...</td>\n",
       "      <td></td>\n",
       "      <td>2</td>\n",
       "      <td>1964 Uniform Building Code (UBC)</td>\n",
       "      <td>1964</td>\n",
       "      <td>1968</td>\n",
       "      <td>37.762657</td>\n",
       "      <td>-122.253899</td>\n",
       "      <td>1</td>\n",
       "    </tr>\n",
       "    <tr>\n",
       "      <td>3</td>\n",
       "      <td>01 - Alameda</td>\n",
       "      <td>11210</td>\n",
       "      <td>Alameda Hospital</td>\n",
       "      <td>Alameda</td>\n",
       "      <td>BLD-01281</td>\n",
       "      <td>South Wing</td>\n",
       "      <td>In Service</td>\n",
       "      <td>3s</td>\n",
       "      <td>https://eserv.oshpd.ca.gov/CitizenAccess/Cap/C...</td>\n",
       "      <td></td>\n",
       "      <td>3</td>\n",
       "      <td>1976 California Building Code (CBC)</td>\n",
       "      <td>1976</td>\n",
       "      <td>1983</td>\n",
       "      <td>37.762657</td>\n",
       "      <td>-122.253899</td>\n",
       "      <td>1</td>\n",
       "    </tr>\n",
       "    <tr>\n",
       "      <td>4</td>\n",
       "      <td>01 - Alameda</td>\n",
       "      <td>11210</td>\n",
       "      <td>Alameda Hospital</td>\n",
       "      <td>Alameda</td>\n",
       "      <td>BLD-01282</td>\n",
       "      <td>Radiology Addition</td>\n",
       "      <td>In Service</td>\n",
       "      <td>5s</td>\n",
       "      <td>https://eserv.oshpd.ca.gov/CitizenAccess/Cap/C...</td>\n",
       "      <td></td>\n",
       "      <td>2</td>\n",
       "      <td>1985 California Building Code (CBC)</td>\n",
       "      <td>1985</td>\n",
       "      <td>1995</td>\n",
       "      <td>37.762657</td>\n",
       "      <td>-122.253899</td>\n",
       "      <td>1</td>\n",
       "    </tr>\n",
       "  </tbody>\n",
       "</table>\n",
       "</div>"
      ],
      "text/plain": [
       "    county_code  perm_id     facility_name     city building_nbr  \\\n",
       "0  01 - Alameda    11210  Alameda Hospital  Alameda    BLD-01278   \n",
       "1  01 - Alameda    11210  Alameda Hospital  Alameda    BLD-01279   \n",
       "2  01 - Alameda    11210  Alameda Hospital  Alameda    BLD-01280   \n",
       "3  01 - Alameda    11210  Alameda Hospital  Alameda    BLD-01281   \n",
       "4  01 - Alameda    11210  Alameda Hospital  Alameda    BLD-01282   \n",
       "\n",
       "        building_name building_status spc_rating_*  \\\n",
       "0   Original Hospital      In Service            1   \n",
       "1       Stephens Wing      In Service            1   \n",
       "2           West Wing      In Service            2   \n",
       "3          South Wing      In Service           3s   \n",
       "4  Radiology Addition      In Service           5s   \n",
       "\n",
       "                                        building_url height_ft stories  \\\n",
       "0  https://eserv.oshpd.ca.gov/CitizenAccess/Cap/C...     44.17       4   \n",
       "1  https://eserv.oshpd.ca.gov/CitizenAccess/Cap/C...        35       3   \n",
       "2  https://eserv.oshpd.ca.gov/CitizenAccess/Cap/C...                 2   \n",
       "3  https://eserv.oshpd.ca.gov/CitizenAccess/Cap/C...                 3   \n",
       "4  https://eserv.oshpd.ca.gov/CitizenAccess/Cap/C...                 2   \n",
       "\n",
       "                         building_code building_code_year year_completed  \\\n",
       "0                              Unknown                              1926   \n",
       "1     1952 Uniform Building Code (UBC)               1952           1956   \n",
       "2     1964 Uniform Building Code (UBC)               1964           1968   \n",
       "3  1976 California Building Code (CBC)               1976           1983   \n",
       "4  1985 California Building Code (CBC)               1985           1995   \n",
       "\n",
       "    latitude   longitude  count  \n",
       "0  37.762657 -122.253899      1  \n",
       "1  37.762657 -122.253899      1  \n",
       "2  37.762657 -122.253899      1  \n",
       "3  37.762657 -122.253899      1  \n",
       "4  37.762657 -122.253899      1  "
      ]
     },
     "execution_count": 25,
     "metadata": {},
     "output_type": "execute_result"
    }
   ],
   "source": [
    "buildings.head()"
   ]
  },
  {
   "cell_type": "markdown",
   "metadata": {},
   "source": [
    "--- "
   ]
  },
  {
   "cell_type": "markdown",
   "metadata": {},
   "source": [
    "### Facility listing"
   ]
  },
  {
   "cell_type": "code",
   "execution_count": 62,
   "metadata": {},
   "outputs": [],
   "source": [
    "#https://data.chhs.ca.gov/dataset/healthcare-facility-locations/resource/0a0476ba-442c-40ff-97dc-dc840fa7e907\n",
    "facilities = pd.read_excel('input/healthcare_facility_locations.xlsx')"
   ]
  },
  {
   "cell_type": "code",
   "execution_count": 63,
   "metadata": {},
   "outputs": [],
   "source": [
    "facilities.columns = facilities.columns.str.strip().str.lower().str.replace(' ', '_')\\\n",
    "                    .str.replace('(', '').str.replace(')', '').str.replace('-','_')"
   ]
  },
  {
   "cell_type": "code",
   "execution_count": 64,
   "metadata": {},
   "outputs": [],
   "source": [
    "hospitals = facilities[facilities['fac_type_code'] == 'GACH']"
   ]
  },
  {
   "cell_type": "code",
   "execution_count": 65,
   "metadata": {},
   "outputs": [
    {
     "data": {
      "text/plain": [
       "NONPROFIT CORP               215\n",
       "LIMITED LIABILITY COMPANY     65\n",
       "PROFIT CORP                   49\n",
       "HEALTH CARE DISTRICT          34\n",
       "PARTNERSHIP                   19\n",
       "COUNTY                        17\n",
       "UC REGENT                      9\n",
       "OTHER PUBLIC AGENCY            5\n",
       "INDIVIDUAL                     1\n",
       "CITY                           1\n",
       "STATE AGENCY                   1\n",
       "Name: entity_type_description, dtype: int64"
      ]
     },
     "execution_count": 65,
     "metadata": {},
     "output_type": "execute_result"
    }
   ],
   "source": [
    "hospitals['entity_type_description'].value_counts()"
   ]
  },
  {
   "cell_type": "code",
   "execution_count": 66,
   "metadata": {},
   "outputs": [],
   "source": [
    "public_list = ['COUNTY','UC REGENT','OTHER PUBLIC AGENCY','CITY','STATE AGENCY']"
   ]
  },
  {
   "cell_type": "code",
   "execution_count": 67,
   "metadata": {},
   "outputs": [],
   "source": [
    "public = hospitals[hospitals['entity_type_description'].isin(public_list)]"
   ]
  },
  {
   "cell_type": "code",
   "execution_count": 68,
   "metadata": {},
   "outputs": [],
   "source": [
    "public.to_csv('output/public_hospitals_from_chhs.csv')"
   ]
  },
  {
   "cell_type": "code",
   "execution_count": 69,
   "metadata": {},
   "outputs": [
    {
     "data": {
      "text/plain": [
       "['LTNAVARRA@UCDAVIS.EDU',\n",
       " 'INFO@SJGH.ORG',\n",
       " nan,\n",
       " 'DFINLEY@DHS.LACOUNTY.GOV',\n",
       " 'LZMARTINEZ@DHS.LACOUNTY.GOV',\n",
       " nan,\n",
       " 'DCASTILLO@DHS.LACOUNTY.GOV',\n",
       " 'DBOURGET@UCI.EDU',\n",
       " 'LICENSINGANDCERTIFICATION@NATIVIDAD.COM',\n",
       " 'PATRYAN@VERITY.ORG',\n",
       " 'HOSPITAL.ADMIN@HHS.SCCGOV.ORG',\n",
       " 'CORRIERUDD@VERIFY.ORG',\n",
       " 'ADOLPHE.EDWARD@ECRMC.ORG',\n",
       " 'POLSEN@UCSD.EDU',\n",
       " nan,\n",
       " 'RON.EYRAUD@KERNMEDICAL.COM',\n",
       " 'RISKMANAGEMENT@ALAMEDAHEALTHSYSTEM.ORG',\n",
       " nan,\n",
       " 'ADALY@ACMEDCTR.ORG',\n",
       " 'JASPREET.BENEPAL@CCHEALTH.ORG',\n",
       " nan,\n",
       " 'CKUNNAPPILLY@SMCGOV.ORG',\n",
       " nan,\n",
       " nan,\n",
       " nan,\n",
       " nan,\n",
       " 'HOGGANE@ARMC.SBCOUNTY.GOV',\n",
       " nan,\n",
       " nan,\n",
       " 'JAJACKSON@ACMEDCTR.ORG',\n",
       " nan,\n",
       " 'PWATKINS@MEDNET.UCLA.EDU',\n",
       " 'MBWILLIS@MEDNET.UCLA.EDU']"
      ]
     },
     "execution_count": 69,
     "metadata": {},
     "output_type": "execute_result"
    }
   ],
   "source": [
    "public.contact_email.tolist()"
   ]
  },
  {
   "cell_type": "markdown",
   "metadata": {},
   "source": [
    "---"
   ]
  },
  {
   "cell_type": "markdown",
   "metadata": {},
   "source": [
    "### CDC testing capacity"
   ]
  },
  {
   "cell_type": "code",
   "execution_count": 178,
   "metadata": {},
   "outputs": [],
   "source": [
    "tables = pd.read_html(\"https://www.cdc.gov/coronavirus/2019-ncov/testing-in-us.html\")\n",
    "tables = pd.DataFrame(tables[0])"
   ]
  },
  {
   "cell_type": "code",
   "execution_count": 179,
   "metadata": {},
   "outputs": [],
   "source": [
    "tables.columns = tables.columns.str.strip().str.lower().str.replace(' ', '_')\\\n",
    "                    .str.replace('(', '').str.replace(')', '').str.replace('-','_')"
   ]
  },
  {
   "cell_type": "code",
   "execution_count": 180,
   "metadata": {},
   "outputs": [],
   "source": [
    "tables['date_collected'] = pd.to_datetime(tables['date_collected'] + '/2020')"
   ]
  },
  {
   "cell_type": "code",
   "execution_count": 181,
   "metadata": {},
   "outputs": [],
   "source": [
    "tables = tables[tables['date_collected'] <= '2020/03/07']"
   ]
  },
  {
   "cell_type": "code",
   "execution_count": 182,
   "metadata": {},
   "outputs": [
    {
     "data": {
      "text/html": [
       "<div>\n",
       "<style scoped>\n",
       "    .dataframe tbody tr th:only-of-type {\n",
       "        vertical-align: middle;\n",
       "    }\n",
       "\n",
       "    .dataframe tbody tr th {\n",
       "        vertical-align: top;\n",
       "    }\n",
       "\n",
       "    .dataframe thead th {\n",
       "        text-align: right;\n",
       "    }\n",
       "</style>\n",
       "<table border=\"1\" class=\"dataframe\">\n",
       "  <thead>\n",
       "    <tr style=\"text-align: right;\">\n",
       "      <th></th>\n",
       "      <th>date_collected</th>\n",
       "      <th>cdc_labs</th>\n",
       "      <th>us_public_health_labs</th>\n",
       "    </tr>\n",
       "  </thead>\n",
       "  <tbody>\n",
       "    <tr>\n",
       "      <td>45</td>\n",
       "      <td>2020-03-03</td>\n",
       "      <td>34</td>\n",
       "      <td>665</td>\n",
       "    </tr>\n",
       "    <tr>\n",
       "      <td>46</td>\n",
       "      <td>2020-03-04</td>\n",
       "      <td>66</td>\n",
       "      <td>939</td>\n",
       "    </tr>\n",
       "    <tr>\n",
       "      <td>47</td>\n",
       "      <td>2020-03-05</td>\n",
       "      <td>54</td>\n",
       "      <td>1192</td>\n",
       "    </tr>\n",
       "    <tr>\n",
       "      <td>48</td>\n",
       "      <td>2020-03-06</td>\n",
       "      <td>16</td>\n",
       "      <td>1155</td>\n",
       "    </tr>\n",
       "    <tr>\n",
       "      <td>49</td>\n",
       "      <td>2020-03-07</td>\n",
       "      <td>0</td>\n",
       "      <td>947</td>\n",
       "    </tr>\n",
       "  </tbody>\n",
       "</table>\n",
       "</div>"
      ],
      "text/plain": [
       "   date_collected  cdc_labs  us_public_health_labs\n",
       "45     2020-03-03        34                    665\n",
       "46     2020-03-04        66                    939\n",
       "47     2020-03-05        54                   1192\n",
       "48     2020-03-06        16                   1155\n",
       "49     2020-03-07         0                    947"
      ]
     },
     "execution_count": 182,
     "metadata": {},
     "output_type": "execute_result"
    }
   ],
   "source": [
    "tables.to_csv('output/cdc_testing_table.csv')\n",
    "tables_melt.to_csv('output/cdc_testing_table_melt.csv')\n",
    "tables.tail()"
   ]
  },
  {
   "cell_type": "code",
   "execution_count": 183,
   "metadata": {},
   "outputs": [],
   "source": [
    "tables_melt = pd.melt(tables, id_vars=['date_collected'], value_vars=['us_public_health_labs', 'cdc_labs'],\n",
    "        var_name='lab_type', value_name='test_count')"
   ]
  },
  {
   "cell_type": "code",
   "execution_count": 184,
   "metadata": {},
   "outputs": [
    {
     "data": {
      "text/html": [
       "\n",
       "<div id=\"altair-viz-51b08a5738ad4828822c0b321eeea3ab\"></div>\n",
       "<script type=\"text/javascript\">\n",
       "  (function(spec, embedOpt){\n",
       "    const outputDiv = document.getElementById(\"altair-viz-51b08a5738ad4828822c0b321eeea3ab\");\n",
       "    const paths = {\n",
       "      \"vega\": \"https://cdn.jsdelivr.net/npm//vega@5?noext\",\n",
       "      \"vega-lib\": \"https://cdn.jsdelivr.net/npm//vega-lib?noext\",\n",
       "      \"vega-lite\": \"https://cdn.jsdelivr.net/npm//vega-lite@4.0.2?noext\",\n",
       "      \"vega-embed\": \"https://cdn.jsdelivr.net/npm//vega-embed@6?noext\",\n",
       "    };\n",
       "\n",
       "    function loadScript(lib) {\n",
       "      return new Promise(function(resolve, reject) {\n",
       "        var s = document.createElement('script');\n",
       "        s.src = paths[lib];\n",
       "        s.async = true;\n",
       "        s.onload = () => resolve(paths[lib]);\n",
       "        s.onerror = () => reject(`Error loading script: ${paths[lib]}`);\n",
       "        document.getElementsByTagName(\"head\")[0].appendChild(s);\n",
       "      });\n",
       "    }\n",
       "\n",
       "    function showError(err) {\n",
       "      outputDiv.innerHTML = `<div class=\"error\" style=\"color:red;\">${err}</div>`;\n",
       "      throw err;\n",
       "    }\n",
       "\n",
       "    function displayChart(vegaEmbed) {\n",
       "      vegaEmbed(outputDiv, spec, embedOpt)\n",
       "        .catch(err => showError(`Javascript Error: ${err.message}<br>This usually means there's a typo in your chart specification. See the javascript console for the full traceback.`));\n",
       "    }\n",
       "\n",
       "    if(typeof define === \"function\" && define.amd) {\n",
       "      requirejs.config({paths});\n",
       "      require([\"vega-embed\"], displayChart, err => showError(`Error loading script: ${err.message}`));\n",
       "    } else if (typeof vegaEmbed === \"function\") {\n",
       "      displayChart(vegaEmbed);\n",
       "    } else {\n",
       "      loadScript(\"vega\")\n",
       "        .then(() => loadScript(\"vega-lite\"))\n",
       "        .then(() => loadScript(\"vega-embed\"))\n",
       "        .catch(showError)\n",
       "        .then(() => displayChart(vegaEmbed));\n",
       "    }\n",
       "  })({\"config\": {\"view\": {\"width\": 800, \"height\": 450}, \"background\": \"#ffffff\", \"title\": {\"anchor\": \"start\", \"font\": \"Benton Gothic Bold, sans\", \"fontColor\": \"#000000\", \"fontSize\": 22, \"fontWeight\": \"normal\"}, \"arc\": {\"fill\": \"#82c6df\"}, \"area\": {\"fill\": \"#82c6df\"}, \"line\": {\"stroke\": \"#82c6df\", \"strokeWidth\": 3}, \"path\": {\"stroke\": \"#82c6df\"}, \"rect\": {\"fill\": \"#82c6df\"}, \"shape\": {\"stroke\": \"#82c6df\"}, \"bar\": {\"fill\": \"#82c6df\"}, \"point\": {\"stroke\": \"#82c6df\"}, \"symbol\": {\"fill\": \"#82c6df\", \"size\": 30}, \"axis\": {\"titleFont\": \"Benton Gothic Bold, sans\", \"titleFontSize\": 13, \"titleFontWeight\": \"normal\", \"labelFont\": \"Benton Gothic, sans\", \"labelFontSize\": 11.5, \"labelFontWeight\": \"normal\"}, \"axisX\": {\"labelAngle\": 0, \"labelPadding\": 4, \"tickSize\": 3}, \"axisY\": {\"labelBaseline\": \"middle\", \"maxExtent\": 45, \"minExtent\": 45, \"tickSize\": 2, \"titleAlign\": \"left\", \"titleAngle\": 0, \"titleX\": -45, \"titleY\": -11}, \"legend\": {\"titleFont\": \"Benton Gothic Bold, sans\", \"titleFontSize\": 13, \"titleFontWeight\": \"normal\", \"symbolType\": \"square\", \"labelFont\": \"Benton Gothic, sans\", \"labelFontSize\": 11.5}, \"range\": {\"category\": [\"#3580b1\", \"#ec8431\", \"#ab7fb4\", \"#c89d29\", \"#adc839\", \"#829eb1\"], \"diverging\": [\"#e68a4f\", \"#f4bb6a\", \"#f9e39c\", \"#dadfe2\", \"#a6b7c6\", \"#849eae\"], \"heatmap\": [\"#fbf2c7\", \"#f9e39c\", \"#f8d36e\", \"#f4bb6a\", \"#e68a4f\", \"#d15a40\", \"#ab4232\"], \"ordinal\": [\"#fbf2c7\", \"#f9e39c\", \"#f8d36e\", \"#f4bb6a\", \"#e68a4f\", \"#d15a40\", \"#ab4232\"], \"ramp\": [\"#fbf2c7\", \"#f9e39c\", \"#f8d36e\", \"#f4bb6a\", \"#e68a4f\", \"#d15a40\", \"#ab4232\"]}}, \"data\": {\"name\": \"data-a3d5e9ae17db38eafca274e8b9c86a79\"}, \"mark\": {\"type\": \"bar\", \"size\": 15}, \"encoding\": {\"color\": {\"type\": \"nominal\", \"field\": \"lab_type\", \"legend\": {\"orient\": \"top\"}, \"title\": \"\"}, \"order\": {\"type\": \"nominal\", \"field\": \"lab_type\", \"sort\": \"ascending\"}, \"x\": {\"type\": \"temporal\", \"axis\": {\"tickCount\": 10}, \"field\": \"date_collected\", \"title\": \"Date\"}, \"y\": {\"type\": \"quantitative\", \"aggregate\": \"sum\", \"field\": \"test_count\", \"title\": \"\"}}, \"title\": \"CDC: Daily U.S. coronavirus tests by lab type\", \"width\": 800, \"$schema\": \"https://vega.github.io/schema/vega-lite/v4.0.2.json\", \"datasets\": {\"data-a3d5e9ae17db38eafca274e8b9c86a79\": [{\"date_collected\": \"2020-01-18T00:00:00\", \"lab_type\": \"us_public_health_labs\", \"test_count\": 0}, {\"date_collected\": \"2020-01-19T00:00:00\", \"lab_type\": \"us_public_health_labs\", \"test_count\": 0}, {\"date_collected\": \"2020-01-20T00:00:00\", \"lab_type\": \"us_public_health_labs\", \"test_count\": 0}, {\"date_collected\": \"2020-01-21T00:00:00\", \"lab_type\": \"us_public_health_labs\", \"test_count\": 0}, {\"date_collected\": \"2020-01-22T00:00:00\", \"lab_type\": \"us_public_health_labs\", \"test_count\": 0}, {\"date_collected\": \"2020-01-23T00:00:00\", \"lab_type\": \"us_public_health_labs\", \"test_count\": 0}, {\"date_collected\": \"2020-01-24T00:00:00\", \"lab_type\": \"us_public_health_labs\", \"test_count\": 0}, {\"date_collected\": \"2020-01-25T00:00:00\", \"lab_type\": \"us_public_health_labs\", \"test_count\": 0}, {\"date_collected\": \"2020-01-26T00:00:00\", \"lab_type\": \"us_public_health_labs\", \"test_count\": 0}, {\"date_collected\": \"2020-01-27T00:00:00\", \"lab_type\": \"us_public_health_labs\", \"test_count\": 0}, {\"date_collected\": \"2020-01-28T00:00:00\", \"lab_type\": \"us_public_health_labs\", \"test_count\": 0}, {\"date_collected\": \"2020-01-29T00:00:00\", \"lab_type\": \"us_public_health_labs\", \"test_count\": 0}, {\"date_collected\": \"2020-01-30T00:00:00\", \"lab_type\": \"us_public_health_labs\", \"test_count\": 0}, {\"date_collected\": \"2020-01-31T00:00:00\", \"lab_type\": \"us_public_health_labs\", \"test_count\": 0}, {\"date_collected\": \"2020-02-01T00:00:00\", \"lab_type\": \"us_public_health_labs\", \"test_count\": 0}, {\"date_collected\": \"2020-02-02T00:00:00\", \"lab_type\": \"us_public_health_labs\", \"test_count\": 0}, {\"date_collected\": \"2020-02-03T00:00:00\", \"lab_type\": \"us_public_health_labs\", \"test_count\": 0}, {\"date_collected\": \"2020-02-04T00:00:00\", \"lab_type\": \"us_public_health_labs\", \"test_count\": 0}, {\"date_collected\": \"2020-02-05T00:00:00\", \"lab_type\": \"us_public_health_labs\", \"test_count\": 0}, {\"date_collected\": \"2020-02-06T00:00:00\", \"lab_type\": \"us_public_health_labs\", \"test_count\": 1}, {\"date_collected\": \"2020-02-07T00:00:00\", \"lab_type\": \"us_public_health_labs\", \"test_count\": 0}, {\"date_collected\": \"2020-02-08T00:00:00\", \"lab_type\": \"us_public_health_labs\", \"test_count\": 0}, {\"date_collected\": \"2020-02-09T00:00:00\", \"lab_type\": \"us_public_health_labs\", \"test_count\": 2}, {\"date_collected\": \"2020-02-10T00:00:00\", \"lab_type\": \"us_public_health_labs\", \"test_count\": 0}, {\"date_collected\": \"2020-02-11T00:00:00\", \"lab_type\": \"us_public_health_labs\", \"test_count\": 0}, {\"date_collected\": \"2020-02-12T00:00:00\", \"lab_type\": \"us_public_health_labs\", \"test_count\": 0}, {\"date_collected\": \"2020-02-13T00:00:00\", \"lab_type\": \"us_public_health_labs\", \"test_count\": 0}, {\"date_collected\": \"2020-02-14T00:00:00\", \"lab_type\": \"us_public_health_labs\", \"test_count\": 4}, {\"date_collected\": \"2020-02-15T00:00:00\", \"lab_type\": \"us_public_health_labs\", \"test_count\": 3}, {\"date_collected\": \"2020-02-16T00:00:00\", \"lab_type\": \"us_public_health_labs\", \"test_count\": 0}, {\"date_collected\": \"2020-02-17T00:00:00\", \"lab_type\": \"us_public_health_labs\", \"test_count\": 26}, {\"date_collected\": \"2020-02-18T00:00:00\", \"lab_type\": \"us_public_health_labs\", \"test_count\": 2}, {\"date_collected\": \"2020-02-19T00:00:00\", \"lab_type\": \"us_public_health_labs\", \"test_count\": 3}, {\"date_collected\": \"2020-02-20T00:00:00\", \"lab_type\": \"us_public_health_labs\", \"test_count\": 0}, {\"date_collected\": \"2020-02-21T00:00:00\", \"lab_type\": \"us_public_health_labs\", \"test_count\": 0}, {\"date_collected\": \"2020-02-22T00:00:00\", \"lab_type\": \"us_public_health_labs\", \"test_count\": 3}, {\"date_collected\": \"2020-02-23T00:00:00\", \"lab_type\": \"us_public_health_labs\", \"test_count\": 2}, {\"date_collected\": \"2020-02-24T00:00:00\", \"lab_type\": \"us_public_health_labs\", \"test_count\": 12}, {\"date_collected\": \"2020-02-25T00:00:00\", \"lab_type\": \"us_public_health_labs\", \"test_count\": 11}, {\"date_collected\": \"2020-02-26T00:00:00\", \"lab_type\": \"us_public_health_labs\", \"test_count\": 23}, {\"date_collected\": \"2020-02-27T00:00:00\", \"lab_type\": \"us_public_health_labs\", \"test_count\": 109}, {\"date_collected\": \"2020-02-28T00:00:00\", \"lab_type\": \"us_public_health_labs\", \"test_count\": 143}, {\"date_collected\": \"2020-02-29T00:00:00\", \"lab_type\": \"us_public_health_labs\", \"test_count\": 251}, {\"date_collected\": \"2020-03-01T00:00:00\", \"lab_type\": \"us_public_health_labs\", \"test_count\": 192}, {\"date_collected\": \"2020-03-02T00:00:00\", \"lab_type\": \"us_public_health_labs\", \"test_count\": 457}, {\"date_collected\": \"2020-03-03T00:00:00\", \"lab_type\": \"us_public_health_labs\", \"test_count\": 665}, {\"date_collected\": \"2020-03-04T00:00:00\", \"lab_type\": \"us_public_health_labs\", \"test_count\": 939}, {\"date_collected\": \"2020-03-05T00:00:00\", \"lab_type\": \"us_public_health_labs\", \"test_count\": 1192}, {\"date_collected\": \"2020-03-06T00:00:00\", \"lab_type\": \"us_public_health_labs\", \"test_count\": 1155}, {\"date_collected\": \"2020-03-07T00:00:00\", \"lab_type\": \"us_public_health_labs\", \"test_count\": 947}, {\"date_collected\": \"2020-01-18T00:00:00\", \"lab_type\": \"cdc_labs\", \"test_count\": 4}, {\"date_collected\": \"2020-01-19T00:00:00\", \"lab_type\": \"cdc_labs\", \"test_count\": 0}, {\"date_collected\": \"2020-01-20T00:00:00\", \"lab_type\": \"cdc_labs\", \"test_count\": 7}, {\"date_collected\": \"2020-01-21T00:00:00\", \"lab_type\": \"cdc_labs\", \"test_count\": 7}, {\"date_collected\": \"2020-01-22T00:00:00\", \"lab_type\": \"cdc_labs\", \"test_count\": 17}, {\"date_collected\": \"2020-01-23T00:00:00\", \"lab_type\": \"cdc_labs\", \"test_count\": 58}, {\"date_collected\": \"2020-01-24T00:00:00\", \"lab_type\": \"cdc_labs\", \"test_count\": 79}, {\"date_collected\": \"2020-01-25T00:00:00\", \"lab_type\": \"cdc_labs\", \"test_count\": 160}, {\"date_collected\": \"2020-01-26T00:00:00\", \"lab_type\": \"cdc_labs\", \"test_count\": 86}, {\"date_collected\": \"2020-01-27T00:00:00\", \"lab_type\": \"cdc_labs\", \"test_count\": 154}, {\"date_collected\": \"2020-01-28T00:00:00\", \"lab_type\": \"cdc_labs\", \"test_count\": 84}, {\"date_collected\": \"2020-01-29T00:00:00\", \"lab_type\": \"cdc_labs\", \"test_count\": 404}, {\"date_collected\": \"2020-01-30T00:00:00\", \"lab_type\": \"cdc_labs\", \"test_count\": 175}, {\"date_collected\": \"2020-01-31T00:00:00\", \"lab_type\": \"cdc_labs\", \"test_count\": 114}, {\"date_collected\": \"2020-02-01T00:00:00\", \"lab_type\": \"cdc_labs\", \"test_count\": 47}, {\"date_collected\": \"2020-02-02T00:00:00\", \"lab_type\": \"cdc_labs\", \"test_count\": 53}, {\"date_collected\": \"2020-02-03T00:00:00\", \"lab_type\": \"cdc_labs\", \"test_count\": 96}, {\"date_collected\": \"2020-02-04T00:00:00\", \"lab_type\": \"cdc_labs\", \"test_count\": 72}, {\"date_collected\": \"2020-02-05T00:00:00\", \"lab_type\": \"cdc_labs\", \"test_count\": 86}, {\"date_collected\": \"2020-02-06T00:00:00\", \"lab_type\": \"cdc_labs\", \"test_count\": 62}, {\"date_collected\": \"2020-02-07T00:00:00\", \"lab_type\": \"cdc_labs\", \"test_count\": 83}, {\"date_collected\": \"2020-02-08T00:00:00\", \"lab_type\": \"cdc_labs\", \"test_count\": 37}, {\"date_collected\": \"2020-02-09T00:00:00\", \"lab_type\": \"cdc_labs\", \"test_count\": 45}, {\"date_collected\": \"2020-02-10T00:00:00\", \"lab_type\": \"cdc_labs\", \"test_count\": 69}, {\"date_collected\": \"2020-02-11T00:00:00\", \"lab_type\": \"cdc_labs\", \"test_count\": 50}, {\"date_collected\": \"2020-02-12T00:00:00\", \"lab_type\": \"cdc_labs\", \"test_count\": 36}, {\"date_collected\": \"2020-02-13T00:00:00\", \"lab_type\": \"cdc_labs\", \"test_count\": 39}, {\"date_collected\": \"2020-02-14T00:00:00\", \"lab_type\": \"cdc_labs\", \"test_count\": 39}, {\"date_collected\": \"2020-02-15T00:00:00\", \"lab_type\": \"cdc_labs\", \"test_count\": 11}, {\"date_collected\": \"2020-02-16T00:00:00\", \"lab_type\": \"cdc_labs\", \"test_count\": 12}, {\"date_collected\": \"2020-02-17T00:00:00\", \"lab_type\": \"cdc_labs\", \"test_count\": 62}, {\"date_collected\": \"2020-02-18T00:00:00\", \"lab_type\": \"cdc_labs\", \"test_count\": 65}, {\"date_collected\": \"2020-02-19T00:00:00\", \"lab_type\": \"cdc_labs\", \"test_count\": 54}, {\"date_collected\": \"2020-02-20T00:00:00\", \"lab_type\": \"cdc_labs\", \"test_count\": 226}, {\"date_collected\": \"2020-02-21T00:00:00\", \"lab_type\": \"cdc_labs\", \"test_count\": 290}, {\"date_collected\": \"2020-02-22T00:00:00\", \"lab_type\": \"cdc_labs\", \"test_count\": 23}, {\"date_collected\": \"2020-02-23T00:00:00\", \"lab_type\": \"cdc_labs\", \"test_count\": 46}, {\"date_collected\": \"2020-02-24T00:00:00\", \"lab_type\": \"cdc_labs\", \"test_count\": 46}, {\"date_collected\": \"2020-02-25T00:00:00\", \"lab_type\": \"cdc_labs\", \"test_count\": 109}, {\"date_collected\": \"2020-02-26T00:00:00\", \"lab_type\": \"cdc_labs\", \"test_count\": 63}, {\"date_collected\": \"2020-02-27T00:00:00\", \"lab_type\": \"cdc_labs\", \"test_count\": 104}, {\"date_collected\": \"2020-02-28T00:00:00\", \"lab_type\": \"cdc_labs\", \"test_count\": 88}, {\"date_collected\": \"2020-02-29T00:00:00\", \"lab_type\": \"cdc_labs\", \"test_count\": 84}, {\"date_collected\": \"2020-03-01T00:00:00\", \"lab_type\": \"cdc_labs\", \"test_count\": 70}, {\"date_collected\": \"2020-03-02T00:00:00\", \"lab_type\": \"cdc_labs\", \"test_count\": 105}, {\"date_collected\": \"2020-03-03T00:00:00\", \"lab_type\": \"cdc_labs\", \"test_count\": 34}, {\"date_collected\": \"2020-03-04T00:00:00\", \"lab_type\": \"cdc_labs\", \"test_count\": 66}, {\"date_collected\": \"2020-03-05T00:00:00\", \"lab_type\": \"cdc_labs\", \"test_count\": 54}, {\"date_collected\": \"2020-03-06T00:00:00\", \"lab_type\": \"cdc_labs\", \"test_count\": 16}, {\"date_collected\": \"2020-03-07T00:00:00\", \"lab_type\": \"cdc_labs\", \"test_count\": 0}]}}, {\"mode\": \"vega-lite\"});\n",
       "</script>"
      ],
      "text/plain": [
       "alt.Chart(...)"
      ]
     },
     "execution_count": 184,
     "metadata": {},
     "output_type": "execute_result"
    }
   ],
   "source": [
    "alt.Chart(tables_melt).mark_bar(size=15).encode(\n",
    "    x=alt.X('date_collected:T', title='Date', axis=alt.Axis(tickCount=10)),\n",
    "    y=alt.Y('sum(test_count)', title=''),\n",
    "    color=alt.Color('lab_type', legend=alt.Legend(orient=\"top\"), title=''),\n",
    "    order=alt.Order(\n",
    "      # Sort the segments of the bars by this field\n",
    "      'lab_type',\n",
    "      sort='ascending'\n",
    "    )\n",
    ").properties(width=800, title='CDC: Daily U.S. coronavirus tests by lab type')"
   ]
  },
  {
   "cell_type": "code",
   "execution_count": null,
   "metadata": {},
   "outputs": [],
   "source": []
  }
 ],
 "metadata": {
  "kernelspec": {
   "display_name": "Python 3",
   "language": "python",
   "name": "python3"
  },
  "language_info": {
   "codemirror_mode": {
    "name": "ipython",
    "version": 3
   },
   "file_extension": ".py",
   "mimetype": "text/x-python",
   "name": "python",
   "nbconvert_exporter": "python",
   "pygments_lexer": "ipython3",
   "version": "3.7.4"
  }
 },
 "nbformat": 4,
 "nbformat_minor": 2
}
