{
 "cells": [
  {
   "cell_type": "markdown",
   "metadata": {},
   "source": [
    "# California vehicle fuel type count by zip code"
   ]
  },
  {
   "cell_type": "markdown",
   "metadata": {},
   "source": [
    "### Load Python tools"
   ]
  },
  {
   "cell_type": "code",
   "execution_count": 2,
   "metadata": {},
   "outputs": [],
   "source": [
    "import pandas as pd\n",
    "import geopandas as gpd\n",
    "import pyarrow\n",
    "import matplotlib\n",
    "import matplotlib.pyplot as plt\n",
    "import geojson\n",
    "import json\n",
    "import jenkspy\n",
    "import numpy as np\n",
    "from earthpy import clip as cl\n",
    "from altair import datum\n",
    "import weightedcalcs as wc\n",
    "import altair as alt\n",
    "alt.renderers.enable('notebook')\n",
    "import altair_latimes as lat\n",
    "alt.themes.register('latimes', lat.theme)\n",
    "alt.themes.enable('latimes')\n",
    "pd.options.display.max_columns = 50\n",
    "pd.options.display.max_rows = 1000"
   ]
  },
  {
   "cell_type": "code",
   "execution_count": 191,
   "metadata": {},
   "outputs": [],
   "source": [
    "src = pd.read_csv('https://data.ca.gov/dataset/15179472-adeb-4df6-920a-20640d02b08c/\\\n",
    "resource/d304108a-06c1-462f-a144-981dd0109900/\\\n",
    "download/vehicle-fuel-type-count-by-zip-code.csv', low_memory=False)"
   ]
  },
  {
   "cell_type": "code",
   "execution_count": 192,
   "metadata": {},
   "outputs": [],
   "source": [
    "src.columns = src.columns.str.strip().str.lower().str.replace(' ', '_')\\\n",
    "                    .str.replace('(', '').str.replace(')', '').str.replace('-','_')"
   ]
  },
  {
   "cell_type": "code",
   "execution_count": 193,
   "metadata": {},
   "outputs": [],
   "source": [
    "src.rename(columns={\"zip_code\": \"zip\"}, inplace=True)"
   ]
  },
  {
   "cell_type": "code",
   "execution_count": 194,
   "metadata": {},
   "outputs": [
    {
     "data": {
      "text/plain": [
       "31137994"
      ]
     },
     "execution_count": 194,
     "metadata": {},
     "output_type": "execute_result"
    }
   ],
   "source": [
    "src.vehicles.sum()"
   ]
  },
  {
   "cell_type": "code",
   "execution_count": 195,
   "metadata": {},
   "outputs": [],
   "source": [
    "src = src[(src['model_year'] != '2019') & (src['model_year'] != '<2006') & (src['zip'] != 'OOS')]"
   ]
  },
  {
   "cell_type": "code",
   "execution_count": 226,
   "metadata": {},
   "outputs": [
    {
     "data": {
      "text/plain": [
       "19485599"
      ]
     },
     "execution_count": 226,
     "metadata": {},
     "output_type": "execute_result"
    }
   ],
   "source": [
    "src.vehicles.sum()"
   ]
  },
  {
   "cell_type": "code",
   "execution_count": 223,
   "metadata": {},
   "outputs": [],
   "source": [
    "nongas = src[(src['fuel'] != 'Gasoline')]"
   ]
  },
  {
   "cell_type": "code",
   "execution_count": 225,
   "metadata": {},
   "outputs": [
    {
     "data": {
      "text/plain": [
       "3213912"
      ]
     },
     "execution_count": 225,
     "metadata": {},
     "output_type": "execute_result"
    }
   ],
   "source": [
    "nongas.vehicles.sum()"
   ]
  },
  {
   "cell_type": "code",
   "execution_count": 197,
   "metadata": {},
   "outputs": [],
   "source": [
    "make = src.groupby(['make']).agg('size').reset_index(name='total').sort_values(by='total', ascending=False)"
   ]
  },
  {
   "cell_type": "code",
   "execution_count": 220,
   "metadata": {},
   "outputs": [],
   "source": [
    "model_year = src.groupby(['model_year']).agg('sum').reset_index()"
   ]
  },
  {
   "cell_type": "code",
   "execution_count": 262,
   "metadata": {},
   "outputs": [
    {
     "data": {
      "text/html": [
       "<div>\n",
       "<style scoped>\n",
       "    .dataframe tbody tr th:only-of-type {\n",
       "        vertical-align: middle;\n",
       "    }\n",
       "\n",
       "    .dataframe tbody tr th {\n",
       "        vertical-align: top;\n",
       "    }\n",
       "\n",
       "    .dataframe thead th {\n",
       "        text-align: right;\n",
       "    }\n",
       "</style>\n",
       "<table border=\"1\" class=\"dataframe\">\n",
       "  <thead>\n",
       "    <tr style=\"text-align: right;\">\n",
       "      <th></th>\n",
       "      <th>model_year</th>\n",
       "      <th>vehicles</th>\n",
       "    </tr>\n",
       "  </thead>\n",
       "  <tbody>\n",
       "    <tr>\n",
       "      <th>12</th>\n",
       "      <td>2018</td>\n",
       "      <td>1572034</td>\n",
       "    </tr>\n",
       "    <tr>\n",
       "      <th>11</th>\n",
       "      <td>2017</td>\n",
       "      <td>2141868</td>\n",
       "    </tr>\n",
       "    <tr>\n",
       "      <th>10</th>\n",
       "      <td>2016</td>\n",
       "      <td>2072606</td>\n",
       "    </tr>\n",
       "    <tr>\n",
       "      <th>9</th>\n",
       "      <td>2015</td>\n",
       "      <td>2002628</td>\n",
       "    </tr>\n",
       "    <tr>\n",
       "      <th>8</th>\n",
       "      <td>2014</td>\n",
       "      <td>1677875</td>\n",
       "    </tr>\n",
       "    <tr>\n",
       "      <th>7</th>\n",
       "      <td>2013</td>\n",
       "      <td>1644620</td>\n",
       "    </tr>\n",
       "    <tr>\n",
       "      <th>6</th>\n",
       "      <td>2012</td>\n",
       "      <td>1354947</td>\n",
       "    </tr>\n",
       "    <tr>\n",
       "      <th>5</th>\n",
       "      <td>2011</td>\n",
       "      <td>1101920</td>\n",
       "    </tr>\n",
       "    <tr>\n",
       "      <th>4</th>\n",
       "      <td>2010</td>\n",
       "      <td>996703</td>\n",
       "    </tr>\n",
       "    <tr>\n",
       "      <th>3</th>\n",
       "      <td>2009</td>\n",
       "      <td>834319</td>\n",
       "    </tr>\n",
       "    <tr>\n",
       "      <th>2</th>\n",
       "      <td>2008</td>\n",
       "      <td>1220887</td>\n",
       "    </tr>\n",
       "    <tr>\n",
       "      <th>1</th>\n",
       "      <td>2007</td>\n",
       "      <td>1445939</td>\n",
       "    </tr>\n",
       "    <tr>\n",
       "      <th>0</th>\n",
       "      <td>2006</td>\n",
       "      <td>1419253</td>\n",
       "    </tr>\n",
       "  </tbody>\n",
       "</table>\n",
       "</div>"
      ],
      "text/plain": [
       "   model_year  vehicles\n",
       "12       2018   1572034\n",
       "11       2017   2141868\n",
       "10       2016   2072606\n",
       "9        2015   2002628\n",
       "8        2014   1677875\n",
       "7        2013   1644620\n",
       "6        2012   1354947\n",
       "5        2011   1101920\n",
       "4        2010    996703\n",
       "3        2009    834319\n",
       "2        2008   1220887\n",
       "1        2007   1445939\n",
       "0        2006   1419253"
      ]
     },
     "execution_count": 262,
     "metadata": {},
     "output_type": "execute_result"
    }
   ],
   "source": [
    "model_year.sort_values(by='model_year', ascending=False)"
   ]
  },
  {
   "cell_type": "code",
   "execution_count": 227,
   "metadata": {},
   "outputs": [],
   "source": [
    "fuel = nongas.groupby(['fuel']).agg('sum').reset_index()"
   ]
  },
  {
   "cell_type": "code",
   "execution_count": 228,
   "metadata": {},
   "outputs": [
    {
     "data": {
      "text/html": [
       "<div>\n",
       "<style scoped>\n",
       "    .dataframe tbody tr th:only-of-type {\n",
       "        vertical-align: middle;\n",
       "    }\n",
       "\n",
       "    .dataframe tbody tr th {\n",
       "        vertical-align: top;\n",
       "    }\n",
       "\n",
       "    .dataframe thead th {\n",
       "        text-align: right;\n",
       "    }\n",
       "</style>\n",
       "<table border=\"1\" class=\"dataframe\">\n",
       "  <thead>\n",
       "    <tr style=\"text-align: right;\">\n",
       "      <th></th>\n",
       "      <th>fuel</th>\n",
       "      <th>vehicles</th>\n",
       "    </tr>\n",
       "  </thead>\n",
       "  <tbody>\n",
       "    <tr>\n",
       "      <th>2</th>\n",
       "      <td>Flex-Fuel</td>\n",
       "      <td>1018550</td>\n",
       "    </tr>\n",
       "    <tr>\n",
       "      <th>3</th>\n",
       "      <td>Hybrid Gasoline</td>\n",
       "      <td>994696</td>\n",
       "    </tr>\n",
       "    <tr>\n",
       "      <th>1</th>\n",
       "      <td>Diesel and Diesel Hybrid</td>\n",
       "      <td>753609</td>\n",
       "    </tr>\n",
       "    <tr>\n",
       "      <th>0</th>\n",
       "      <td>Battery Electric</td>\n",
       "      <td>214671</td>\n",
       "    </tr>\n",
       "    <tr>\n",
       "      <th>7</th>\n",
       "      <td>Plug-in Hybrid</td>\n",
       "      <td>201969</td>\n",
       "    </tr>\n",
       "    <tr>\n",
       "      <th>5</th>\n",
       "      <td>Natural Gas</td>\n",
       "      <td>22968</td>\n",
       "    </tr>\n",
       "    <tr>\n",
       "      <th>4</th>\n",
       "      <td>Hydrogen Fuel Cell</td>\n",
       "      <td>5092</td>\n",
       "    </tr>\n",
       "    <tr>\n",
       "      <th>6</th>\n",
       "      <td>Other</td>\n",
       "      <td>2357</td>\n",
       "    </tr>\n",
       "  </tbody>\n",
       "</table>\n",
       "</div>"
      ],
      "text/plain": [
       "                       fuel  vehicles\n",
       "2                 Flex-Fuel   1018550\n",
       "3           Hybrid Gasoline    994696\n",
       "1  Diesel and Diesel Hybrid    753609\n",
       "0          Battery Electric    214671\n",
       "7            Plug-in Hybrid    201969\n",
       "5               Natural Gas     22968\n",
       "4        Hydrogen Fuel Cell      5092\n",
       "6                     Other      2357"
      ]
     },
     "execution_count": 228,
     "metadata": {},
     "output_type": "execute_result"
    }
   ],
   "source": [
    "fuel.sort_values(by='vehicles', ascending=False)"
   ]
  },
  {
   "cell_type": "code",
   "execution_count": 252,
   "metadata": {},
   "outputs": [
    {
     "data": {
      "application/javascript": [
       "const spec = {\"config\": {\"view\": {\"width\": 800, \"height\": 450}, \"background\": \"#ffffff\", \"title\": {\"anchor\": \"start\", \"font\": \"Benton Gothic Bold, sans\", \"fontColor\": \"#000000\", \"fontSize\": 22, \"fontWeight\": \"normal\"}, \"arc\": {\"fill\": \"#82c6df\"}, \"area\": {\"fill\": \"#82c6df\"}, \"line\": {\"stroke\": \"#82c6df\", \"strokeWidth\": 3}, \"path\": {\"stroke\": \"#82c6df\"}, \"rect\": {\"fill\": \"#82c6df\"}, \"shape\": {\"stroke\": \"#82c6df\"}, \"bar\": {\"fill\": \"#82c6df\"}, \"point\": {\"stroke\": \"#82c6df\"}, \"symbol\": {\"fill\": \"#82c6df\", \"size\": 30}, \"axis\": {\"titleFont\": \"Benton Gothic Bold, sans\", \"titleFontSize\": 13, \"titleFontWeight\": \"normal\", \"labelFont\": \"Benton Gothic, sans\", \"labelFontSize\": 11.5, \"labelFontWeight\": \"normal\"}, \"axisX\": {\"labelAngle\": 0, \"labelPadding\": 4, \"tickSize\": 3}, \"axisY\": {\"labelBaseline\": \"middle\", \"maxExtent\": 45, \"minExtent\": 45, \"tickSize\": 2, \"titleAlign\": \"left\", \"titleAngle\": 0, \"titleX\": -45, \"titleY\": -11}, \"legend\": {\"titleFont\": \"Benton Gothic Bold, sans\", \"titleFontSize\": 13, \"titleFontWeight\": \"normal\", \"symbolType\": \"square\", \"labelFont\": \"Benton Gothic, sans\", \"labelFontSize\": 11.5}, \"range\": {\"category\": [\"#3580b1\", \"#ec8431\", \"#ab7fb4\", \"#c89d29\", \"#adc839\", \"#829eb1\"], \"diverging\": [\"#e68a4f\", \"#f4bb6a\", \"#f9e39c\", \"#dadfe2\", \"#a6b7c6\", \"#849eae\"], \"heatmap\": [\"#fbf2c7\", \"#f9e39c\", \"#f8d36e\", \"#f4bb6a\", \"#e68a4f\", \"#d15a40\", \"#ab4232\"], \"ordinal\": [\"#fbf2c7\", \"#f9e39c\", \"#f8d36e\", \"#f4bb6a\", \"#e68a4f\", \"#d15a40\", \"#ab4232\"], \"ramp\": [\"#fbf2c7\", \"#f9e39c\", \"#f8d36e\", \"#f4bb6a\", \"#e68a4f\", \"#d15a40\", \"#ab4232\"]}}, \"layer\": [{\"mark\": \"bar\", \"encoding\": {\"x\": {\"type\": \"quantitative\", \"aggregate\": \"sum\", \"axis\": {\"format\": \"\", \"tickCount\": 5}, \"field\": \"vehicles\", \"title\": \"Vehicles\"}, \"y\": {\"type\": \"nominal\", \"axis\": {\"format\": \"\", \"tickCount\": 5}, \"field\": \"fuel\", \"sort\": {\"field\": \"vehicles\", \"op\": \"sum\", \"order\": \"descending\"}, \"title\": \" \"}}}, {\"mark\": {\"type\": \"text\", \"align\": \"left\", \"baseline\": \"middle\", \"dx\": 3}, \"encoding\": {\"text\": {\"type\": \"quantitative\", \"aggregate\": \"sum\", \"field\": \"vehicles\", \"format\": \",\"}, \"x\": {\"type\": \"quantitative\", \"aggregate\": \"sum\", \"axis\": {\"format\": \"\", \"tickCount\": 5}, \"field\": \"vehicles\", \"title\": \"Vehicles\"}, \"y\": {\"type\": \"nominal\", \"axis\": {\"format\": \"\", \"tickCount\": 5}, \"field\": \"fuel\", \"sort\": {\"field\": \"vehicles\", \"op\": \"sum\", \"order\": \"descending\"}, \"title\": \" \"}}}], \"data\": {\"name\": \"data-668c9ba3e685720468d6ae70f429af49\"}, \"height\": 400, \"title\": \"CA vehicles by fuel type\", \"width\": 500, \"$schema\": \"https://vega.github.io/schema/vega-lite/v3.4.0.json\", \"datasets\": {\"data-668c9ba3e685720468d6ae70f429af49\": [{\"fuel\": \"Battery Electric\", \"vehicles\": 214671}, {\"fuel\": \"Diesel and Diesel Hybrid\", \"vehicles\": 753609}, {\"fuel\": \"Flex-Fuel\", \"vehicles\": 1018550}, {\"fuel\": \"Hybrid Gasoline\", \"vehicles\": 994696}, {\"fuel\": \"Hydrogen Fuel Cell\", \"vehicles\": 5092}, {\"fuel\": \"Natural Gas\", \"vehicles\": 22968}, {\"fuel\": \"Other\", \"vehicles\": 2357}, {\"fuel\": \"Plug-in Hybrid\", \"vehicles\": 201969}]}};\n",
       "const opt = {};\n",
       "const type = \"vega-lite\";\n",
       "const id = \"6a2e587a-d67c-4d09-a7c2-c22312e786f4\";\n",
       "\n",
       "const output_area = this;\n",
       "\n",
       "require([\"nbextensions/jupyter-vega/index\"], function(vega) {\n",
       "  const target = document.createElement(\"div\");\n",
       "  target.id = id;\n",
       "  target.className = \"vega-embed\";\n",
       "\n",
       "  const style = document.createElement(\"style\");\n",
       "  style.textContent = [\n",
       "    \".vega-embed .error p {\",\n",
       "    \"  color: firebrick;\",\n",
       "    \"  font-size: 14px;\",\n",
       "    \"}\",\n",
       "  ].join(\"\\\\n\");\n",
       "\n",
       "  // element is a jQuery wrapped DOM element inside the output area\n",
       "  // see http://ipython.readthedocs.io/en/stable/api/generated/\\\n",
       "  // IPython.display.html#IPython.display.Javascript.__init__\n",
       "  element[0].appendChild(target);\n",
       "  element[0].appendChild(style);\n",
       "\n",
       "  vega.render(\"#\" + id, spec, type, opt, output_area);\n",
       "}, function (err) {\n",
       "  if (err.requireType !== \"scripterror\") {\n",
       "    throw(err);\n",
       "  }\n",
       "});\n"
      ],
      "text/plain": [
       "<vega.vegalite.VegaLite at 0x1553b2780>"
      ]
     },
     "metadata": {
      "jupyter-vega": "#6a2e587a-d67c-4d09-a7c2-c22312e786f4"
     },
     "output_type": "display_data"
    },
    {
     "data": {
      "text/plain": []
     },
     "execution_count": 252,
     "metadata": {},
     "output_type": "execute_result"
    },
    {
     "data": {
      "image/png": "[encoded data removed]"
     },
     "metadata": {
      "jupyter-vega": "#6a2e587a-d67c-4d09-a7c2-c22312e786f4"
     },
     "output_type": "display_data"
    }
   ],
   "source": [
    "chart_fuels = alt.Chart(fuel).mark_bar().encode(\n",
    "    y=alt.Y('fuel:N', title=' ',\n",
    "        sort=alt.EncodingSortField(\n",
    "            field=\"vehicles\",  # The field to use for the sort\n",
    "            op=\"sum\",  # The operation to run on the field prior to sorting\n",
    "            order=\"descending\"  # The order to sort in\n",
    "        ), axis=alt.Axis(format='', tickCount=5)),\n",
    "    x=alt.X(\"sum(vehicles):Q\", title=\"Vehicles\", axis=alt.Axis(format='', tickCount=5))\n",
    ")\n",
    "\n",
    "chart_fuels_text = chart_fuels.mark_text(\n",
    "    align='left',\n",
    "    baseline='middle',\n",
    "    dx=3  # Nudges text to right so it doesn't appear on top of the bar\n",
    ").encode(text=alt.Text('sum(vehicles)', format=',')\n",
    ")\n",
    "\n",
    "\n",
    "(chart_fuels + chart_fuels_text)\\\n",
    ".properties(height=400, width=500, title='CA vehicles by fuel type')"
   ]
  },
  {
   "cell_type": "code",
   "execution_count": 229,
   "metadata": {},
   "outputs": [],
   "source": [
    "duty = src.groupby(['duty']).agg('size').reset_index(name='total')"
   ]
  },
  {
   "cell_type": "code",
   "execution_count": 230,
   "metadata": {},
   "outputs": [],
   "source": [
    "zip_code = src.groupby(['zip']).agg('sum').reset_index()"
   ]
  },
  {
   "cell_type": "code",
   "execution_count": 256,
   "metadata": {},
   "outputs": [],
   "source": [
    "zip_code_nongas = nongas.groupby(['zip']).agg('sum').reset_index()"
   ]
  },
  {
   "cell_type": "code",
   "execution_count": 260,
   "metadata": {},
   "outputs": [
    {
     "data": {
      "text/html": [
       "<div>\n",
       "<style scoped>\n",
       "    .dataframe tbody tr th:only-of-type {\n",
       "        vertical-align: middle;\n",
       "    }\n",
       "\n",
       "    .dataframe tbody tr th {\n",
       "        vertical-align: top;\n",
       "    }\n",
       "\n",
       "    .dataframe thead th {\n",
       "        text-align: right;\n",
       "    }\n",
       "</style>\n",
       "<table border=\"1\" class=\"dataframe\">\n",
       "  <thead>\n",
       "    <tr style=\"text-align: right;\">\n",
       "      <th></th>\n",
       "      <th>zip</th>\n",
       "      <th>vehicles</th>\n",
       "    </tr>\n",
       "  </thead>\n",
       "  <tbody>\n",
       "    <tr>\n",
       "      <th>44</th>\n",
       "      <td>90045</td>\n",
       "      <td>18010</td>\n",
       "    </tr>\n",
       "    <tr>\n",
       "      <th>1476</th>\n",
       "      <td>94080</td>\n",
       "      <td>10747</td>\n",
       "    </tr>\n",
       "    <tr>\n",
       "      <th>904</th>\n",
       "      <td>92626</td>\n",
       "      <td>10514</td>\n",
       "    </tr>\n",
       "    <tr>\n",
       "      <th>1017</th>\n",
       "      <td>92868</td>\n",
       "      <td>9989</td>\n",
       "    </tr>\n",
       "    <tr>\n",
       "      <th>11</th>\n",
       "      <td>90012</td>\n",
       "      <td>9493</td>\n",
       "    </tr>\n",
       "    <tr>\n",
       "      <th>1170</th>\n",
       "      <td>93308</td>\n",
       "      <td>9377</td>\n",
       "    </tr>\n",
       "    <tr>\n",
       "      <th>756</th>\n",
       "      <td>92335</td>\n",
       "      <td>8906</td>\n",
       "    </tr>\n",
       "    <tr>\n",
       "      <th>1438</th>\n",
       "      <td>94010</td>\n",
       "      <td>8822</td>\n",
       "    </tr>\n",
       "    <tr>\n",
       "      <th>417</th>\n",
       "      <td>91710</td>\n",
       "      <td>8724</td>\n",
       "    </tr>\n",
       "    <tr>\n",
       "      <th>592</th>\n",
       "      <td>92101</td>\n",
       "      <td>8457</td>\n",
       "    </tr>\n",
       "  </tbody>\n",
       "</table>\n",
       "</div>"
      ],
      "text/plain": [
       "        zip  vehicles\n",
       "44    90045     18010\n",
       "1476  94080     10747\n",
       "904   92626     10514\n",
       "1017  92868      9989\n",
       "11    90012      9493\n",
       "1170  93308      9377\n",
       "756   92335      8906\n",
       "1438  94010      8822\n",
       "417   91710      8724\n",
       "592   92101      8457"
      ]
     },
     "execution_count": 260,
     "metadata": {},
     "output_type": "execute_result"
    }
   ],
   "source": [
    "zip_code_nongas.sort_values(by='vehicles',\\\n",
    "    ascending=False).head(10)"
   ]
  },
  {
   "cell_type": "code",
   "execution_count": 231,
   "metadata": {},
   "outputs": [],
   "source": [
    "sum_by_zip = pd.pivot_table(src, values='vehicles', \\\n",
    "                            index=['zip'], columns=['fuel'], aggfunc=np.sum, fill_value=0).reset_index()\n",
    "\n",
    "sum_by_zip.columns = sum_by_zip.columns.str.strip().str.lower().str.replace(' ', '_')\\\n",
    "                    .str.replace('(', '').str.replace(')', '').str.replace('-','_')\n",
    "\n",
    "sum_by_zip[\"total\"] = sum_by_zip.sum(axis=1)"
   ]
  },
  {
   "cell_type": "code",
   "execution_count": 232,
   "metadata": {},
   "outputs": [
    {
     "data": {
      "text/html": [
       "<div>\n",
       "<style scoped>\n",
       "    .dataframe tbody tr th:only-of-type {\n",
       "        vertical-align: middle;\n",
       "    }\n",
       "\n",
       "    .dataframe tbody tr th {\n",
       "        vertical-align: top;\n",
       "    }\n",
       "\n",
       "    .dataframe thead th {\n",
       "        text-align: right;\n",
       "    }\n",
       "</style>\n",
       "<table border=\"1\" class=\"dataframe\">\n",
       "  <thead>\n",
       "    <tr style=\"text-align: right;\">\n",
       "      <th>fuel</th>\n",
       "      <th>zip</th>\n",
       "      <th>battery_electric</th>\n",
       "      <th>diesel_and_diesel_hybrid</th>\n",
       "      <th>flex_fuel</th>\n",
       "      <th>gasoline</th>\n",
       "      <th>hybrid_gasoline</th>\n",
       "      <th>hydrogen_fuel_cell</th>\n",
       "      <th>natural_gas</th>\n",
       "      <th>other</th>\n",
       "      <th>plug_in_hybrid</th>\n",
       "      <th>total</th>\n",
       "    </tr>\n",
       "  </thead>\n",
       "  <tbody>\n",
       "    <tr>\n",
       "      <th>45</th>\n",
       "      <td>90045</td>\n",
       "      <td>420</td>\n",
       "      <td>605</td>\n",
       "      <td>11978</td>\n",
       "      <td>109120</td>\n",
       "      <td>4466</td>\n",
       "      <td>19</td>\n",
       "      <td>138</td>\n",
       "      <td>0</td>\n",
       "      <td>384</td>\n",
       "      <td>127130</td>\n",
       "    </tr>\n",
       "    <tr>\n",
       "      <th>1520</th>\n",
       "      <td>94080</td>\n",
       "      <td>307</td>\n",
       "      <td>1519</td>\n",
       "      <td>3761</td>\n",
       "      <td>92399</td>\n",
       "      <td>4872</td>\n",
       "      <td>9</td>\n",
       "      <td>38</td>\n",
       "      <td>2</td>\n",
       "      <td>239</td>\n",
       "      <td>103146</td>\n",
       "    </tr>\n",
       "    <tr>\n",
       "      <th>782</th>\n",
       "      <td>92336</td>\n",
       "      <td>180</td>\n",
       "      <td>1706</td>\n",
       "      <td>2664</td>\n",
       "      <td>46467</td>\n",
       "      <td>1736</td>\n",
       "      <td>7</td>\n",
       "      <td>31</td>\n",
       "      <td>0</td>\n",
       "      <td>443</td>\n",
       "      <td>53234</td>\n",
       "    </tr>\n",
       "    <tr>\n",
       "      <th>660</th>\n",
       "      <td>92154</td>\n",
       "      <td>115</td>\n",
       "      <td>4196</td>\n",
       "      <td>2154</td>\n",
       "      <td>42291</td>\n",
       "      <td>1256</td>\n",
       "      <td>0</td>\n",
       "      <td>4</td>\n",
       "      <td>0</td>\n",
       "      <td>140</td>\n",
       "      <td>50156</td>\n",
       "    </tr>\n",
       "    <tr>\n",
       "      <th>426</th>\n",
       "      <td>91709</td>\n",
       "      <td>533</td>\n",
       "      <td>1139</td>\n",
       "      <td>1847</td>\n",
       "      <td>41681</td>\n",
       "      <td>2389</td>\n",
       "      <td>36</td>\n",
       "      <td>30</td>\n",
       "      <td>1</td>\n",
       "      <td>717</td>\n",
       "      <td>48373</td>\n",
       "    </tr>\n",
       "  </tbody>\n",
       "</table>\n",
       "</div>"
      ],
      "text/plain": [
       "fuel    zip  battery_electric  diesel_and_diesel_hybrid  flex_fuel  gasoline  \\\n",
       "45    90045               420                       605      11978    109120   \n",
       "1520  94080               307                      1519       3761     92399   \n",
       "782   92336               180                      1706       2664     46467   \n",
       "660   92154               115                      4196       2154     42291   \n",
       "426   91709               533                      1139       1847     41681   \n",
       "\n",
       "fuel  hybrid_gasoline  hydrogen_fuel_cell  natural_gas  other  plug_in_hybrid  \\\n",
       "45               4466                  19          138      0             384   \n",
       "1520             4872                   9           38      2             239   \n",
       "782              1736                   7           31      0             443   \n",
       "660              1256                   0            4      0             140   \n",
       "426              2389                  36           30      1             717   \n",
       "\n",
       "fuel   total  \n",
       "45    127130  \n",
       "1520  103146  \n",
       "782    53234  \n",
       "660    50156  \n",
       "426    48373  "
      ]
     },
     "execution_count": 232,
     "metadata": {},
     "output_type": "execute_result"
    }
   ],
   "source": [
    "sum_by_zip.sort_values(by='total', ascending=False).head(5)"
   ]
  },
  {
   "cell_type": "code",
   "execution_count": 233,
   "metadata": {},
   "outputs": [],
   "source": [
    "sum_by_zip['other'] = sum_by_zip.apply\\\n",
    "    (lambda x: x['hydrogen_fuel_cell'] + x['natural_gas'] + x['other'], axis=1)\n",
    "sum_by_zip.drop(['hydrogen_fuel_cell', 'natural_gas'], axis=1, inplace=True)\n",
    "sum_by_zip.drop([0], inplace=True)"
   ]
  },
  {
   "cell_type": "code",
   "execution_count": 253,
   "metadata": {},
   "outputs": [
    {
     "data": {
      "text/html": [
       "<div>\n",
       "<style scoped>\n",
       "    .dataframe tbody tr th:only-of-type {\n",
       "        vertical-align: middle;\n",
       "    }\n",
       "\n",
       "    .dataframe tbody tr th {\n",
       "        vertical-align: top;\n",
       "    }\n",
       "\n",
       "    .dataframe thead th {\n",
       "        text-align: right;\n",
       "    }\n",
       "</style>\n",
       "<table border=\"1\" class=\"dataframe\">\n",
       "  <thead>\n",
       "    <tr style=\"text-align: right;\">\n",
       "      <th>fuel</th>\n",
       "      <th>zip</th>\n",
       "      <th>battery_electric</th>\n",
       "      <th>diesel_and_diesel_hybrid</th>\n",
       "      <th>flex_fuel</th>\n",
       "      <th>gasoline</th>\n",
       "      <th>hybrid_gasoline</th>\n",
       "      <th>other</th>\n",
       "      <th>plug_in_hybrid</th>\n",
       "      <th>total</th>\n",
       "      <th>winner</th>\n",
       "    </tr>\n",
       "  </thead>\n",
       "  <tbody>\n",
       "    <tr>\n",
       "      <th>45</th>\n",
       "      <td>90045</td>\n",
       "      <td>420</td>\n",
       "      <td>605</td>\n",
       "      <td>11978</td>\n",
       "      <td>109120</td>\n",
       "      <td>4466</td>\n",
       "      <td>157</td>\n",
       "      <td>384</td>\n",
       "      <td>127130</td>\n",
       "      <td>Flex fuel</td>\n",
       "    </tr>\n",
       "    <tr>\n",
       "      <th>1520</th>\n",
       "      <td>94080</td>\n",
       "      <td>307</td>\n",
       "      <td>1519</td>\n",
       "      <td>3761</td>\n",
       "      <td>92399</td>\n",
       "      <td>4872</td>\n",
       "      <td>49</td>\n",
       "      <td>239</td>\n",
       "      <td>103146</td>\n",
       "      <td>Hybrid gasoline</td>\n",
       "    </tr>\n",
       "    <tr>\n",
       "      <th>782</th>\n",
       "      <td>92336</td>\n",
       "      <td>180</td>\n",
       "      <td>1706</td>\n",
       "      <td>2664</td>\n",
       "      <td>46467</td>\n",
       "      <td>1736</td>\n",
       "      <td>38</td>\n",
       "      <td>443</td>\n",
       "      <td>53234</td>\n",
       "      <td>Flex fuel</td>\n",
       "    </tr>\n",
       "    <tr>\n",
       "      <th>660</th>\n",
       "      <td>92154</td>\n",
       "      <td>115</td>\n",
       "      <td>4196</td>\n",
       "      <td>2154</td>\n",
       "      <td>42291</td>\n",
       "      <td>1256</td>\n",
       "      <td>4</td>\n",
       "      <td>140</td>\n",
       "      <td>50156</td>\n",
       "      <td>Diesel and diesel hybrid</td>\n",
       "    </tr>\n",
       "    <tr>\n",
       "      <th>426</th>\n",
       "      <td>91709</td>\n",
       "      <td>533</td>\n",
       "      <td>1139</td>\n",
       "      <td>1847</td>\n",
       "      <td>41681</td>\n",
       "      <td>2389</td>\n",
       "      <td>67</td>\n",
       "      <td>717</td>\n",
       "      <td>48373</td>\n",
       "      <td>Hybrid gasoline</td>\n",
       "    </tr>\n",
       "    <tr>\n",
       "      <th>191</th>\n",
       "      <td>90650</td>\n",
       "      <td>129</td>\n",
       "      <td>1170</td>\n",
       "      <td>2122</td>\n",
       "      <td>42241</td>\n",
       "      <td>1446</td>\n",
       "      <td>56</td>\n",
       "      <td>251</td>\n",
       "      <td>47415</td>\n",
       "      <td>Flex fuel</td>\n",
       "    </tr>\n",
       "    <tr>\n",
       "      <th>427</th>\n",
       "      <td>91710</td>\n",
       "      <td>284</td>\n",
       "      <td>2519</td>\n",
       "      <td>2866</td>\n",
       "      <td>38056</td>\n",
       "      <td>1494</td>\n",
       "      <td>1097</td>\n",
       "      <td>464</td>\n",
       "      <td>46780</td>\n",
       "      <td>Flex fuel</td>\n",
       "    </tr>\n",
       "    <tr>\n",
       "      <th>979</th>\n",
       "      <td>92683</td>\n",
       "      <td>331</td>\n",
       "      <td>780</td>\n",
       "      <td>1355</td>\n",
       "      <td>41233</td>\n",
       "      <td>2175</td>\n",
       "      <td>46</td>\n",
       "      <td>411</td>\n",
       "      <td>46331</td>\n",
       "      <td>Hybrid gasoline</td>\n",
       "    </tr>\n",
       "    <tr>\n",
       "      <th>908</th>\n",
       "      <td>92592</td>\n",
       "      <td>254</td>\n",
       "      <td>1662</td>\n",
       "      <td>2464</td>\n",
       "      <td>38763</td>\n",
       "      <td>2188</td>\n",
       "      <td>18</td>\n",
       "      <td>479</td>\n",
       "      <td>45828</td>\n",
       "      <td>Flex fuel</td>\n",
       "    </tr>\n",
       "    <tr>\n",
       "      <th>341</th>\n",
       "      <td>91342</td>\n",
       "      <td>160</td>\n",
       "      <td>1754</td>\n",
       "      <td>2325</td>\n",
       "      <td>39299</td>\n",
       "      <td>1858</td>\n",
       "      <td>12</td>\n",
       "      <td>310</td>\n",
       "      <td>45718</td>\n",
       "      <td>Flex fuel</td>\n",
       "    </tr>\n",
       "    <tr>\n",
       "      <th>781</th>\n",
       "      <td>92335</td>\n",
       "      <td>44</td>\n",
       "      <td>5152</td>\n",
       "      <td>2529</td>\n",
       "      <td>35857</td>\n",
       "      <td>699</td>\n",
       "      <td>385</td>\n",
       "      <td>97</td>\n",
       "      <td>44763</td>\n",
       "      <td>Diesel and diesel hybrid</td>\n",
       "    </tr>\n",
       "    <tr>\n",
       "      <th>1108</th>\n",
       "      <td>93065</td>\n",
       "      <td>351</td>\n",
       "      <td>1519</td>\n",
       "      <td>2353</td>\n",
       "      <td>37150</td>\n",
       "      <td>2197</td>\n",
       "      <td>19</td>\n",
       "      <td>596</td>\n",
       "      <td>44185</td>\n",
       "      <td>Flex fuel</td>\n",
       "    </tr>\n",
       "    <tr>\n",
       "      <th>499</th>\n",
       "      <td>91911</td>\n",
       "      <td>93</td>\n",
       "      <td>1102</td>\n",
       "      <td>2128</td>\n",
       "      <td>38963</td>\n",
       "      <td>1151</td>\n",
       "      <td>59</td>\n",
       "      <td>114</td>\n",
       "      <td>43610</td>\n",
       "      <td>Flex fuel</td>\n",
       "    </tr>\n",
       "    <tr>\n",
       "      <th>1063</th>\n",
       "      <td>92880</td>\n",
       "      <td>343</td>\n",
       "      <td>1929</td>\n",
       "      <td>2360</td>\n",
       "      <td>35764</td>\n",
       "      <td>1844</td>\n",
       "      <td>59</td>\n",
       "      <td>606</td>\n",
       "      <td>42905</td>\n",
       "      <td>Flex fuel</td>\n",
       "    </tr>\n",
       "    <tr>\n",
       "      <th>1656</th>\n",
       "      <td>94565</td>\n",
       "      <td>140</td>\n",
       "      <td>1026</td>\n",
       "      <td>2364</td>\n",
       "      <td>37146</td>\n",
       "      <td>1817</td>\n",
       "      <td>17</td>\n",
       "      <td>268</td>\n",
       "      <td>42778</td>\n",
       "      <td>Flex fuel</td>\n",
       "    </tr>\n",
       "    <tr>\n",
       "      <th>854</th>\n",
       "      <td>92503</td>\n",
       "      <td>144</td>\n",
       "      <td>1457</td>\n",
       "      <td>2376</td>\n",
       "      <td>36998</td>\n",
       "      <td>1266</td>\n",
       "      <td>43</td>\n",
       "      <td>306</td>\n",
       "      <td>42590</td>\n",
       "      <td>Flex fuel</td>\n",
       "    </tr>\n",
       "    <tr>\n",
       "      <th>975</th>\n",
       "      <td>92677</td>\n",
       "      <td>768</td>\n",
       "      <td>757</td>\n",
       "      <td>1244</td>\n",
       "      <td>36347</td>\n",
       "      <td>2482</td>\n",
       "      <td>74</td>\n",
       "      <td>783</td>\n",
       "      <td>42455</td>\n",
       "      <td>Hybrid gasoline</td>\n",
       "    </tr>\n",
       "    <tr>\n",
       "      <th>1812</th>\n",
       "      <td>95035</td>\n",
       "      <td>1243</td>\n",
       "      <td>918</td>\n",
       "      <td>1133</td>\n",
       "      <td>34794</td>\n",
       "      <td>2605</td>\n",
       "      <td>86</td>\n",
       "      <td>750</td>\n",
       "      <td>41529</td>\n",
       "      <td>Hybrid gasoline</td>\n",
       "    </tr>\n",
       "    <tr>\n",
       "      <th>637</th>\n",
       "      <td>92126</td>\n",
       "      <td>374</td>\n",
       "      <td>846</td>\n",
       "      <td>1301</td>\n",
       "      <td>36593</td>\n",
       "      <td>2102</td>\n",
       "      <td>12</td>\n",
       "      <td>268</td>\n",
       "      <td>41496</td>\n",
       "      <td>Hybrid gasoline</td>\n",
       "    </tr>\n",
       "    <tr>\n",
       "      <th>334</th>\n",
       "      <td>91331</td>\n",
       "      <td>53</td>\n",
       "      <td>999</td>\n",
       "      <td>2071</td>\n",
       "      <td>36929</td>\n",
       "      <td>1222</td>\n",
       "      <td>16</td>\n",
       "      <td>174</td>\n",
       "      <td>41464</td>\n",
       "      <td>Flex fuel</td>\n",
       "    </tr>\n",
       "  </tbody>\n",
       "</table>\n",
       "</div>"
      ],
      "text/plain": [
       "fuel    zip  battery_electric  diesel_and_diesel_hybrid  flex_fuel  gasoline  \\\n",
       "45    90045               420                       605      11978    109120   \n",
       "1520  94080               307                      1519       3761     92399   \n",
       "782   92336               180                      1706       2664     46467   \n",
       "660   92154               115                      4196       2154     42291   \n",
       "426   91709               533                      1139       1847     41681   \n",
       "191   90650               129                      1170       2122     42241   \n",
       "427   91710               284                      2519       2866     38056   \n",
       "979   92683               331                       780       1355     41233   \n",
       "908   92592               254                      1662       2464     38763   \n",
       "341   91342               160                      1754       2325     39299   \n",
       "781   92335                44                      5152       2529     35857   \n",
       "1108  93065               351                      1519       2353     37150   \n",
       "499   91911                93                      1102       2128     38963   \n",
       "1063  92880               343                      1929       2360     35764   \n",
       "1656  94565               140                      1026       2364     37146   \n",
       "854   92503               144                      1457       2376     36998   \n",
       "975   92677               768                       757       1244     36347   \n",
       "1812  95035              1243                       918       1133     34794   \n",
       "637   92126               374                       846       1301     36593   \n",
       "334   91331                53                       999       2071     36929   \n",
       "\n",
       "fuel  hybrid_gasoline  other  plug_in_hybrid   total                    winner  \n",
       "45               4466    157             384  127130                 Flex fuel  \n",
       "1520             4872     49             239  103146           Hybrid gasoline  \n",
       "782              1736     38             443   53234                 Flex fuel  \n",
       "660              1256      4             140   50156  Diesel and diesel hybrid  \n",
       "426              2389     67             717   48373           Hybrid gasoline  \n",
       "191              1446     56             251   47415                 Flex fuel  \n",
       "427              1494   1097             464   46780                 Flex fuel  \n",
       "979              2175     46             411   46331           Hybrid gasoline  \n",
       "908              2188     18             479   45828                 Flex fuel  \n",
       "341              1858     12             310   45718                 Flex fuel  \n",
       "781               699    385              97   44763  Diesel and diesel hybrid  \n",
       "1108             2197     19             596   44185                 Flex fuel  \n",
       "499              1151     59             114   43610                 Flex fuel  \n",
       "1063             1844     59             606   42905                 Flex fuel  \n",
       "1656             1817     17             268   42778                 Flex fuel  \n",
       "854              1266     43             306   42590                 Flex fuel  \n",
       "975              2482     74             783   42455           Hybrid gasoline  \n",
       "1812             2605     86             750   41529           Hybrid gasoline  \n",
       "637              2102     12             268   41496           Hybrid gasoline  \n",
       "334              1222     16             174   41464                 Flex fuel  "
      ]
     },
     "execution_count": 253,
     "metadata": {},
     "output_type": "execute_result"
    }
   ],
   "source": [
    "sum_by_zip.sort_values(by='total', ascending=False).head(20)"
   ]
  },
  {
   "cell_type": "code",
   "execution_count": 235,
   "metadata": {},
   "outputs": [],
   "source": [
    "#which non-gas vehicle is most popular in each zip?\n",
    "sum_by_zip['winner'] = \\\n",
    "sum_by_zip[['hybrid_gasoline','battery_electric','diesel_and_diesel_hybrid',\\\n",
    "                   'flex_fuel','plug_in_hybrid', 'other']].idxmax(axis=1)"
   ]
  },
  {
   "cell_type": "code",
   "execution_count": 236,
   "metadata": {},
   "outputs": [
    {
     "data": {
      "text/html": [
       "<div>\n",
       "<style scoped>\n",
       "    .dataframe tbody tr th:only-of-type {\n",
       "        vertical-align: middle;\n",
       "    }\n",
       "\n",
       "    .dataframe tbody tr th {\n",
       "        vertical-align: top;\n",
       "    }\n",
       "\n",
       "    .dataframe thead th {\n",
       "        text-align: right;\n",
       "    }\n",
       "</style>\n",
       "<table border=\"1\" class=\"dataframe\">\n",
       "  <thead>\n",
       "    <tr style=\"text-align: right;\">\n",
       "      <th>fuel</th>\n",
       "      <th>zip</th>\n",
       "      <th>battery_electric</th>\n",
       "      <th>diesel_and_diesel_hybrid</th>\n",
       "      <th>flex_fuel</th>\n",
       "      <th>gasoline</th>\n",
       "      <th>hybrid_gasoline</th>\n",
       "      <th>other</th>\n",
       "      <th>plug_in_hybrid</th>\n",
       "      <th>total</th>\n",
       "      <th>winner</th>\n",
       "    </tr>\n",
       "  </thead>\n",
       "  <tbody>\n",
       "    <tr>\n",
       "      <th>45</th>\n",
       "      <td>90045</td>\n",
       "      <td>420</td>\n",
       "      <td>605</td>\n",
       "      <td>11978</td>\n",
       "      <td>109120</td>\n",
       "      <td>4466</td>\n",
       "      <td>157</td>\n",
       "      <td>384</td>\n",
       "      <td>127130</td>\n",
       "      <td>flex_fuel</td>\n",
       "    </tr>\n",
       "    <tr>\n",
       "      <th>1520</th>\n",
       "      <td>94080</td>\n",
       "      <td>307</td>\n",
       "      <td>1519</td>\n",
       "      <td>3761</td>\n",
       "      <td>92399</td>\n",
       "      <td>4872</td>\n",
       "      <td>49</td>\n",
       "      <td>239</td>\n",
       "      <td>103146</td>\n",
       "      <td>hybrid_gasoline</td>\n",
       "    </tr>\n",
       "    <tr>\n",
       "      <th>782</th>\n",
       "      <td>92336</td>\n",
       "      <td>180</td>\n",
       "      <td>1706</td>\n",
       "      <td>2664</td>\n",
       "      <td>46467</td>\n",
       "      <td>1736</td>\n",
       "      <td>38</td>\n",
       "      <td>443</td>\n",
       "      <td>53234</td>\n",
       "      <td>flex_fuel</td>\n",
       "    </tr>\n",
       "    <tr>\n",
       "      <th>660</th>\n",
       "      <td>92154</td>\n",
       "      <td>115</td>\n",
       "      <td>4196</td>\n",
       "      <td>2154</td>\n",
       "      <td>42291</td>\n",
       "      <td>1256</td>\n",
       "      <td>4</td>\n",
       "      <td>140</td>\n",
       "      <td>50156</td>\n",
       "      <td>diesel_and_diesel_hybrid</td>\n",
       "    </tr>\n",
       "    <tr>\n",
       "      <th>426</th>\n",
       "      <td>91709</td>\n",
       "      <td>533</td>\n",
       "      <td>1139</td>\n",
       "      <td>1847</td>\n",
       "      <td>41681</td>\n",
       "      <td>2389</td>\n",
       "      <td>67</td>\n",
       "      <td>717</td>\n",
       "      <td>48373</td>\n",
       "      <td>hybrid_gasoline</td>\n",
       "    </tr>\n",
       "  </tbody>\n",
       "</table>\n",
       "</div>"
      ],
      "text/plain": [
       "fuel    zip  battery_electric  diesel_and_diesel_hybrid  flex_fuel  gasoline  \\\n",
       "45    90045               420                       605      11978    109120   \n",
       "1520  94080               307                      1519       3761     92399   \n",
       "782   92336               180                      1706       2664     46467   \n",
       "660   92154               115                      4196       2154     42291   \n",
       "426   91709               533                      1139       1847     41681   \n",
       "\n",
       "fuel  hybrid_gasoline  other  plug_in_hybrid   total                    winner  \n",
       "45               4466    157             384  127130                 flex_fuel  \n",
       "1520             4872     49             239  103146           hybrid_gasoline  \n",
       "782              1736     38             443   53234                 flex_fuel  \n",
       "660              1256      4             140   50156  diesel_and_diesel_hybrid  \n",
       "426              2389     67             717   48373           hybrid_gasoline  "
      ]
     },
     "execution_count": 236,
     "metadata": {},
     "output_type": "execute_result"
    }
   ],
   "source": [
    "sum_by_zip.sort_values(by='total', ascending=False).head(5)"
   ]
  },
  {
   "cell_type": "code",
   "execution_count": 237,
   "metadata": {},
   "outputs": [],
   "source": [
    "sum_by_zip['winner'] = sum_by_zip['winner'].str.replace('_', ' ', regex=False).str.capitalize()"
   ]
  },
  {
   "cell_type": "code",
   "execution_count": 238,
   "metadata": {},
   "outputs": [
    {
     "data": {
      "text/html": [
       "<div>\n",
       "<style scoped>\n",
       "    .dataframe tbody tr th:only-of-type {\n",
       "        vertical-align: middle;\n",
       "    }\n",
       "\n",
       "    .dataframe tbody tr th {\n",
       "        vertical-align: top;\n",
       "    }\n",
       "\n",
       "    .dataframe thead th {\n",
       "        text-align: right;\n",
       "    }\n",
       "</style>\n",
       "<table border=\"1\" class=\"dataframe\">\n",
       "  <thead>\n",
       "    <tr style=\"text-align: right;\">\n",
       "      <th>fuel</th>\n",
       "      <th>zip</th>\n",
       "      <th>battery_electric</th>\n",
       "      <th>diesel_and_diesel_hybrid</th>\n",
       "      <th>flex_fuel</th>\n",
       "      <th>gasoline</th>\n",
       "      <th>hybrid_gasoline</th>\n",
       "      <th>other</th>\n",
       "      <th>plug_in_hybrid</th>\n",
       "      <th>total</th>\n",
       "      <th>winner</th>\n",
       "    </tr>\n",
       "  </thead>\n",
       "  <tbody>\n",
       "    <tr>\n",
       "      <th>1</th>\n",
       "      <td>90001</td>\n",
       "      <td>10</td>\n",
       "      <td>508</td>\n",
       "      <td>820</td>\n",
       "      <td>15406</td>\n",
       "      <td>413</td>\n",
       "      <td>4</td>\n",
       "      <td>44</td>\n",
       "      <td>17205</td>\n",
       "      <td>Flex fuel</td>\n",
       "    </tr>\n",
       "    <tr>\n",
       "      <th>2</th>\n",
       "      <td>90002</td>\n",
       "      <td>22</td>\n",
       "      <td>300</td>\n",
       "      <td>753</td>\n",
       "      <td>14110</td>\n",
       "      <td>386</td>\n",
       "      <td>2</td>\n",
       "      <td>27</td>\n",
       "      <td>15600</td>\n",
       "      <td>Flex fuel</td>\n",
       "    </tr>\n",
       "    <tr>\n",
       "      <th>3</th>\n",
       "      <td>90003</td>\n",
       "      <td>16</td>\n",
       "      <td>366</td>\n",
       "      <td>885</td>\n",
       "      <td>18507</td>\n",
       "      <td>522</td>\n",
       "      <td>10</td>\n",
       "      <td>39</td>\n",
       "      <td>20345</td>\n",
       "      <td>Flex fuel</td>\n",
       "    </tr>\n",
       "    <tr>\n",
       "      <th>4</th>\n",
       "      <td>90004</td>\n",
       "      <td>248</td>\n",
       "      <td>265</td>\n",
       "      <td>443</td>\n",
       "      <td>19940</td>\n",
       "      <td>1878</td>\n",
       "      <td>16</td>\n",
       "      <td>251</td>\n",
       "      <td>23041</td>\n",
       "      <td>Hybrid gasoline</td>\n",
       "    </tr>\n",
       "    <tr>\n",
       "      <th>5</th>\n",
       "      <td>90005</td>\n",
       "      <td>71</td>\n",
       "      <td>126</td>\n",
       "      <td>217</td>\n",
       "      <td>11052</td>\n",
       "      <td>857</td>\n",
       "      <td>8</td>\n",
       "      <td>105</td>\n",
       "      <td>12436</td>\n",
       "      <td>Hybrid gasoline</td>\n",
       "    </tr>\n",
       "  </tbody>\n",
       "</table>\n",
       "</div>"
      ],
      "text/plain": [
       "fuel    zip  battery_electric  diesel_and_diesel_hybrid  flex_fuel  gasoline  \\\n",
       "1     90001                10                       508        820     15406   \n",
       "2     90002                22                       300        753     14110   \n",
       "3     90003                16                       366        885     18507   \n",
       "4     90004               248                       265        443     19940   \n",
       "5     90005                71                       126        217     11052   \n",
       "\n",
       "fuel  hybrid_gasoline  other  plug_in_hybrid  total           winner  \n",
       "1                 413      4              44  17205        Flex fuel  \n",
       "2                 386      2              27  15600        Flex fuel  \n",
       "3                 522     10              39  20345        Flex fuel  \n",
       "4                1878     16             251  23041  Hybrid gasoline  \n",
       "5                 857      8             105  12436  Hybrid gasoline  "
      ]
     },
     "execution_count": 238,
     "metadata": {},
     "output_type": "execute_result"
    }
   ],
   "source": [
    "sum_by_zip.head()"
   ]
  },
  {
   "cell_type": "markdown",
   "metadata": {},
   "source": [
    "### Clean \"jenks\" breaks for TOTAL field"
   ]
  },
  {
   "cell_type": "code",
   "execution_count": 239,
   "metadata": {},
   "outputs": [],
   "source": [
    "breaks \\\n",
    "= jenkspy.jenks_breaks(sum_by_zip.total, nb_class=7)"
   ]
  },
  {
   "cell_type": "code",
   "execution_count": 240,
   "metadata": {},
   "outputs": [
    {
     "data": {
      "text/plain": [
       "[1.0, 3499.0, 9905.0, 16350.0, 23391.0, 32528.0, 53234.0, 127130.0]"
      ]
     },
     "execution_count": 240,
     "metadata": {},
     "output_type": "execute_result"
    }
   ],
   "source": [
    "breaks"
   ]
  },
  {
   "cell_type": "markdown",
   "metadata": {},
   "source": [
    "---"
   ]
  },
  {
   "cell_type": "markdown",
   "metadata": {},
   "source": [
    "# Geography"
   ]
  },
  {
   "cell_type": "markdown",
   "metadata": {},
   "source": [
    "### ZIP code points"
   ]
  },
  {
   "cell_type": "code",
   "execution_count": 27,
   "metadata": {},
   "outputs": [],
   "source": [
    "zips_point = gpd.read_file('/Users/mhustiles/data/data/GIS/zipcodes.geojson')"
   ]
  },
  {
   "cell_type": "code",
   "execution_count": 87,
   "metadata": {},
   "outputs": [],
   "source": [
    "zips_point['zip'] = zips_point['zip'].astype(str)"
   ]
  },
  {
   "cell_type": "code",
   "execution_count": 89,
   "metadata": {},
   "outputs": [],
   "source": [
    "ca_zips_point = zips_point[zips_point['state'] == 'CA']"
   ]
  },
  {
   "cell_type": "markdown",
   "metadata": {},
   "source": [
    "### ZIP code boundaries"
   ]
  },
  {
   "cell_type": "code",
   "execution_count": 133,
   "metadata": {},
   "outputs": [],
   "source": [
    "zips_poly = gpd.read_file('/Users/mhustiles/data/data/GIS/california/cb_2018_us_zcta510_500k/cb_2018_us_zcta510_500k.shp')"
   ]
  },
  {
   "cell_type": "code",
   "execution_count": 134,
   "metadata": {},
   "outputs": [
    {
     "data": {
      "text/html": [
       "<div>\n",
       "<style scoped>\n",
       "    .dataframe tbody tr th:only-of-type {\n",
       "        vertical-align: middle;\n",
       "    }\n",
       "\n",
       "    .dataframe tbody tr th {\n",
       "        vertical-align: top;\n",
       "    }\n",
       "\n",
       "    .dataframe thead th {\n",
       "        text-align: right;\n",
       "    }\n",
       "</style>\n",
       "<table border=\"1\" class=\"dataframe\">\n",
       "  <thead>\n",
       "    <tr style=\"text-align: right;\">\n",
       "      <th></th>\n",
       "      <th>ZCTA5CE10</th>\n",
       "      <th>AFFGEOID10</th>\n",
       "      <th>GEOID10</th>\n",
       "      <th>ALAND10</th>\n",
       "      <th>AWATER10</th>\n",
       "      <th>geometry</th>\n",
       "    </tr>\n",
       "  </thead>\n",
       "  <tbody>\n",
       "    <tr>\n",
       "      <th>0</th>\n",
       "      <td>36083</td>\n",
       "      <td>8600000US36083</td>\n",
       "      <td>36083</td>\n",
       "      <td>659750662</td>\n",
       "      <td>5522919</td>\n",
       "      <td>(POLYGON ((-85.63224699999999 32.280982, -85.6...</td>\n",
       "    </tr>\n",
       "    <tr>\n",
       "      <th>1</th>\n",
       "      <td>35441</td>\n",
       "      <td>8600000US35441</td>\n",
       "      <td>35441</td>\n",
       "      <td>172850429</td>\n",
       "      <td>8749105</td>\n",
       "      <td>(POLYGON ((-87.83287399999999 32.844372, -87.8...</td>\n",
       "    </tr>\n",
       "    <tr>\n",
       "      <th>2</th>\n",
       "      <td>35051</td>\n",
       "      <td>8600000US35051</td>\n",
       "      <td>35051</td>\n",
       "      <td>280236456</td>\n",
       "      <td>5427285</td>\n",
       "      <td>POLYGON ((-86.743844 33.250019, -86.7380189999...</td>\n",
       "    </tr>\n",
       "    <tr>\n",
       "      <th>3</th>\n",
       "      <td>35121</td>\n",
       "      <td>8600000US35121</td>\n",
       "      <td>35121</td>\n",
       "      <td>372736030</td>\n",
       "      <td>5349303</td>\n",
       "      <td>POLYGON ((-86.58526599999999 33.94743, -86.580...</td>\n",
       "    </tr>\n",
       "    <tr>\n",
       "      <th>4</th>\n",
       "      <td>35058</td>\n",
       "      <td>8600000US35058</td>\n",
       "      <td>35058</td>\n",
       "      <td>178039922</td>\n",
       "      <td>3109259</td>\n",
       "      <td>(POLYGON ((-86.87884199999999 34.211959, -86.8...</td>\n",
       "    </tr>\n",
       "  </tbody>\n",
       "</table>\n",
       "</div>"
      ],
      "text/plain": [
       "  ZCTA5CE10      AFFGEOID10 GEOID10    ALAND10  AWATER10  \\\n",
       "0     36083  8600000US36083   36083  659750662   5522919   \n",
       "1     35441  8600000US35441   35441  172850429   8749105   \n",
       "2     35051  8600000US35051   35051  280236456   5427285   \n",
       "3     35121  8600000US35121   35121  372736030   5349303   \n",
       "4     35058  8600000US35058   35058  178039922   3109259   \n",
       "\n",
       "                                            geometry  \n",
       "0  (POLYGON ((-85.63224699999999 32.280982, -85.6...  \n",
       "1  (POLYGON ((-87.83287399999999 32.844372, -87.8...  \n",
       "2  POLYGON ((-86.743844 33.250019, -86.7380189999...  \n",
       "3  POLYGON ((-86.58526599999999 33.94743, -86.580...  \n",
       "4  (POLYGON ((-86.87884199999999 34.211959, -86.8...  "
      ]
     },
     "execution_count": 134,
     "metadata": {},
     "output_type": "execute_result"
    }
   ],
   "source": [
    "zips_poly.head()"
   ]
  },
  {
   "cell_type": "code",
   "execution_count": 135,
   "metadata": {},
   "outputs": [],
   "source": [
    "zips_poly.rename(columns={\"ZCTA5CE10\": \"zip\"}, inplace=True)"
   ]
  },
  {
   "cell_type": "code",
   "execution_count": 136,
   "metadata": {},
   "outputs": [],
   "source": [
    "ca_zips_poly_merged =  zips_poly.merge(sum_by_zip, on='zip')"
   ]
  },
  {
   "cell_type": "code",
   "execution_count": 140,
   "metadata": {},
   "outputs": [
    {
     "data": {
      "text/html": [
       "<div>\n",
       "<style scoped>\n",
       "    .dataframe tbody tr th:only-of-type {\n",
       "        vertical-align: middle;\n",
       "    }\n",
       "\n",
       "    .dataframe tbody tr th {\n",
       "        vertical-align: top;\n",
       "    }\n",
       "\n",
       "    .dataframe thead th {\n",
       "        text-align: right;\n",
       "    }\n",
       "</style>\n",
       "<table border=\"1\" class=\"dataframe\">\n",
       "  <thead>\n",
       "    <tr style=\"text-align: right;\">\n",
       "      <th></th>\n",
       "      <th>zip</th>\n",
       "      <th>AFFGEOID10</th>\n",
       "      <th>GEOID10</th>\n",
       "      <th>ALAND10</th>\n",
       "      <th>AWATER10</th>\n",
       "      <th>geometry</th>\n",
       "      <th>battery_electric</th>\n",
       "      <th>diesel_and_diesel_hybrid</th>\n",
       "      <th>flex_fuel</th>\n",
       "      <th>gasoline</th>\n",
       "      <th>hybrid_gasoline</th>\n",
       "      <th>other</th>\n",
       "      <th>plug_in_hybrid</th>\n",
       "      <th>total</th>\n",
       "      <th>winner</th>\n",
       "    </tr>\n",
       "  </thead>\n",
       "  <tbody>\n",
       "    <tr>\n",
       "      <th>0</th>\n",
       "      <td>93308</td>\n",
       "      <td>8600000US93308</td>\n",
       "      <td>93308</td>\n",
       "      <td>818436705</td>\n",
       "      <td>1790905</td>\n",
       "      <td>(POLYGON ((-118.963713 35.595182, -118.960574 ...</td>\n",
       "      <td>63</td>\n",
       "      <td>4781</td>\n",
       "      <td>3927</td>\n",
       "      <td>19295</td>\n",
       "      <td>535</td>\n",
       "      <td>3</td>\n",
       "      <td>68</td>\n",
       "      <td>28672</td>\n",
       "      <td>Diesel and diesel hybrid</td>\n",
       "    </tr>\n",
       "  </tbody>\n",
       "</table>\n",
       "</div>"
      ],
      "text/plain": [
       "     zip      AFFGEOID10 GEOID10    ALAND10  AWATER10  \\\n",
       "0  93308  8600000US93308   93308  818436705   1790905   \n",
       "\n",
       "                                            geometry  battery_electric  \\\n",
       "0  (POLYGON ((-118.963713 35.595182, -118.960574 ...                63   \n",
       "\n",
       "   diesel_and_diesel_hybrid  flex_fuel  gasoline  hybrid_gasoline  other  \\\n",
       "0                      4781       3927     19295              535      3   \n",
       "\n",
       "   plug_in_hybrid  total                    winner  \n",
       "0              68  28672  Diesel and diesel hybrid  "
      ]
     },
     "execution_count": 140,
     "metadata": {},
     "output_type": "execute_result"
    }
   ],
   "source": [
    "ca_zips_poly_merged.head(1)"
   ]
  },
  {
   "cell_type": "code",
   "execution_count": 138,
   "metadata": {},
   "outputs": [],
   "source": [
    "ca_zips_poly_merged.to_file('/Users/mhustiles/data/github/notebooks/\\\n",
    "california-fuel-vehicles/output/ca_zips_poly_merged.geojson', driver='GeoJSON')"
   ]
  },
  {
   "cell_type": "markdown",
   "metadata": {},
   "source": [
    "### Merge ZIP points & polygons with vehicle totals"
   ]
  },
  {
   "cell_type": "code",
   "execution_count": 90,
   "metadata": {},
   "outputs": [],
   "source": [
    "ca_zips_point_merged = ca_zips_point.merge(sum_by_zip, on='zip')"
   ]
  },
  {
   "cell_type": "code",
   "execution_count": 91,
   "metadata": {},
   "outputs": [
    {
     "data": {
      "text/plain": [
       "<matplotlib.axes._subplots.AxesSubplot at 0x1429b1d30>"
      ]
     },
     "execution_count": 91,
     "metadata": {},
     "output_type": "execute_result"
    },
    {
     "data": {
      "image/png": "[encoded data removed]",
      "text/plain": [
       "<Figure size 432x288 with 1 Axes>"
      ]
     },
     "metadata": {
      "needs_background": "light"
     },
     "output_type": "display_data"
    }
   ],
   "source": [
    "ca_zips_point_merged.plot()"
   ]
  },
  {
   "cell_type": "code",
   "execution_count": 108,
   "metadata": {},
   "outputs": [],
   "source": [
    "ca_zips_point_merged.to_file('/Users/mhustiles/data/github/notebooks\\\n",
    "/california-fuel-vehicles/output/ca_zips_point_merged.geojson', driver='GeoJSON')"
   ]
  },
  {
   "cell_type": "code",
   "execution_count": 139,
   "metadata": {},
   "outputs": [
    {
     "name": "stdout",
     "output_type": "stream",
     "text": [
      "For layer 0, using name \"ca_zips_poly_merged\"\n",
      "/Users/mhustiles/data/github/notebooks/california-fuel-vehicles/output/ca_zips_poly_merged.geojson: Warning: GeoJSON specified projection \"urn:ogc:def:crs:EPSG::4269\", not the expected \"urn:ogc:def:crs:OGC:1.3:CRS84\".\n",
      "/Users/mhustiles/data/github/notebooks/california-fuel-vehicles/output/ca_zips_poly_merged.geojson: If \"urn:ogc:def:crs:OGC:1.3:CRS84\" is not the expected projection, use -s to specify the right one.\n",
      "2104 features, 1719464 bytes of geometry, 82231 bytes of separate metadata, 107246 bytes of string pool\n",
      "  99.9%  13/1403/3274  \n"
     ]
    }
   ],
   "source": [
    "!tippecanoe --force -r1 -pk -pf -Z5 -z13 -o \\\n",
    "/Users/mhustiles/data/github/notebooks/california-fuel-vehicles/output/ca_zips_poly_merged.mbtiles \\\n",
    "/Users/mhustiles/data/github/notebooks/california-fuel-vehicles/output/ca_zips_poly_merged.geojson"
   ]
  },
  {
   "cell_type": "code",
   "execution_count": 130,
   "metadata": {},
   "outputs": [
    {
     "name": "stdout",
     "output_type": "stream",
     "text": [
      "For layer 0, using name \"ca_zips_point_merged\"\n",
      "2421 features, 146776 bytes of geometry, 16 bytes of separate metadata, 54710 bytes of string pool\n",
      "  99.9%  13/1432/3310  \n"
     ]
    }
   ],
   "source": [
    "!tippecanoe --force -r1 -pk -pf -Z5 -z13 -o \\\n",
    "/Users/mhustiles/data/github/notebooks/california-fuel-vehicles/output/ca_zips_point_merged.mbtiles \\\n",
    "/Users/mhustiles/data/github/notebooks/california-fuel-vehicles/output/ca_zips_point_merged.geojson"
   ]
  },
  {
   "cell_type": "code",
   "execution_count": null,
   "metadata": {},
   "outputs": [],
   "source": []
  }
 ],
 "metadata": {
  "kernelspec": {
   "display_name": "Python 3",
   "language": "python",
   "name": "python3"
  },
  "language_info": {
   "codemirror_mode": {
    "name": "ipython",
    "version": 3
   },
   "file_extension": ".py",
   "mimetype": "text/x-python",
   "name": "python",
   "nbconvert_exporter": "python",
   "pygments_lexer": "ipython3",
   "version": "3.7.3"
  }
 },
 "nbformat": 4,
 "nbformat_minor": 2
}
