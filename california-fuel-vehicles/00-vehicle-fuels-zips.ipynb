{
 "cells": [
  {
   "cell_type": "markdown",
   "metadata": {},
   "source": [
    "# California vehicle fuel type count by zip code"
   ]
  },
  {
   "cell_type": "markdown",
   "metadata": {},
   "source": [
    "### Load Python tools"
   ]
  },
  {
   "cell_type": "code",
   "execution_count": 113,
   "metadata": {},
   "outputs": [
    {
     "data": {
      "text/plain": [
       "DataTransformerRegistry.enable('default')"
      ]
     },
     "execution_count": 113,
     "metadata": {},
     "output_type": "execute_result"
    }
   ],
   "source": [
    "import pandas as pd\n",
    "import geopandas as gpd\n",
    "import pyarrow\n",
    "import matplotlib\n",
    "import matplotlib.pyplot as plt\n",
    "import geojson\n",
    "import json\n",
    "import jenkspy\n",
    "import numpy as np\n",
    "from altair import datum\n",
    "import altair as alt\n",
    "alt.renderers.enable('notebook')\n",
    "import altair_latimes as lat\n",
    "alt.themes.register('latimes', lat.theme)\n",
    "alt.themes.enable('latimes')\n",
    "pd.options.display.max_columns = 50\n",
    "pd.options.display.max_rows = 1000\n",
    "pd.options.display.float_format = '{:,.2f}'.format\n",
    "alt.data_transformers.disable_max_rows()"
   ]
  },
  {
   "cell_type": "markdown",
   "metadata": {},
   "source": [
    "### Read data from California Department of Motor Vehicles - current as of October 2018"
   ]
  },
  {
   "cell_type": "code",
   "execution_count": 2,
   "metadata": {},
   "outputs": [],
   "source": [
    "# https://data.ca.gov/dataset/vehicle-fuel-type-count-by-zip-code\n",
    "src = pd.read_csv('/Users/mhustiles/data/data/fuel/vehicle-fuel-type-count-by-zip-code.csv', low_memory=False)"
   ]
  },
  {
   "cell_type": "markdown",
   "metadata": {},
   "source": [
    "### Clean up field names"
   ]
  },
  {
   "cell_type": "code",
   "execution_count": 3,
   "metadata": {},
   "outputs": [],
   "source": [
    "src.columns = src.columns.str.strip().str.lower().str.replace(' ', '_')\\\n",
    "                    .str.replace('(', '').str.replace(')', '').str.replace('-','_')"
   ]
  },
  {
   "cell_type": "code",
   "execution_count": 4,
   "metadata": {},
   "outputs": [],
   "source": [
    "src.rename(columns={\"zip_code\": \"zip\"}, inplace=True)"
   ]
  },
  {
   "cell_type": "markdown",
   "metadata": {},
   "source": [
    "### How many vehicles are we talking about? "
   ]
  },
  {
   "cell_type": "code",
   "execution_count": 5,
   "metadata": {},
   "outputs": [
    {
     "data": {
      "text/plain": [
       "'31,137,994'"
      ]
     },
     "execution_count": 5,
     "metadata": {},
     "output_type": "execute_result"
    }
   ],
   "source": [
    "'{:,.0f}'.format(src.vehicles.sum())"
   ]
  },
  {
   "cell_type": "markdown",
   "metadata": {},
   "source": [
    "### Remove few 2019 models, older models and those listed as out of state"
   ]
  },
  {
   "cell_type": "code",
   "execution_count": 6,
   "metadata": {},
   "outputs": [],
   "source": [
    "vehicles = pd.DataFrame(src[(src['model_year'] != '2019') &\\\n",
    "          (src['model_year'] != '<2006') &\\\n",
    "          (src['zip'] != 'OOS')\\\n",
    "         ])"
   ]
  },
  {
   "cell_type": "code",
   "execution_count": 7,
   "metadata": {},
   "outputs": [],
   "source": [
    "all_vehicles = pd.DataFrame(src)"
   ]
  },
  {
   "cell_type": "markdown",
   "metadata": {},
   "source": [
    "### What's left?"
   ]
  },
  {
   "cell_type": "code",
   "execution_count": 8,
   "metadata": {},
   "outputs": [
    {
     "data": {
      "text/plain": [
       "'19,485,599'"
      ]
     },
     "execution_count": 8,
     "metadata": {},
     "output_type": "execute_result"
    }
   ],
   "source": [
    "'{:,.0f}'.format(vehicles.vehicles.sum())"
   ]
  },
  {
   "cell_type": "markdown",
   "metadata": {},
   "source": [
    "### How many don't rely solely on gasoline?"
   ]
  },
  {
   "cell_type": "code",
   "execution_count": 9,
   "metadata": {},
   "outputs": [],
   "source": [
    "nongas = vehicles[(vehicles['fuel'] != 'Gasoline')]"
   ]
  },
  {
   "cell_type": "code",
   "execution_count": 10,
   "metadata": {},
   "outputs": [
    {
     "data": {
      "text/plain": [
       "'3,213,912'"
      ]
     },
     "execution_count": 10,
     "metadata": {},
     "output_type": "execute_result"
    }
   ],
   "source": [
    "'{:,.0f}'.format(nongas.vehicles.sum())"
   ]
  },
  {
   "cell_type": "markdown",
   "metadata": {},
   "source": [
    "### Share of newer CA vehicles that use no gas or limited gas?"
   ]
  },
  {
   "cell_type": "code",
   "execution_count": 11,
   "metadata": {},
   "outputs": [
    {
     "data": {
      "text/plain": [
       "'16.5%'"
      ]
     },
     "execution_count": 11,
     "metadata": {},
     "output_type": "execute_result"
    }
   ],
   "source": [
    "'{:,.1f}%'.format((nongas.vehicles.sum() / vehicles.vehicles.sum())*100)"
   ]
  },
  {
   "cell_type": "markdown",
   "metadata": {},
   "source": [
    "---"
   ]
  },
  {
   "cell_type": "markdown",
   "metadata": {},
   "source": [
    "### ZIP code points"
   ]
  },
  {
   "cell_type": "code",
   "execution_count": 12,
   "metadata": {},
   "outputs": [],
   "source": [
    "zips_point = gpd.read_file('/Users/mhustiles/data/data/GIS/zipcodes.geojson')"
   ]
  },
  {
   "cell_type": "code",
   "execution_count": 13,
   "metadata": {},
   "outputs": [],
   "source": [
    "zips_point['zip'] = zips_point['zip'].astype(str)"
   ]
  },
  {
   "cell_type": "code",
   "execution_count": 14,
   "metadata": {},
   "outputs": [],
   "source": [
    "ca_zips_point = zips_point[zips_point['state'] == 'CA']"
   ]
  },
  {
   "cell_type": "markdown",
   "metadata": {},
   "source": [
    "### ZIP code boundaries"
   ]
  },
  {
   "cell_type": "code",
   "execution_count": 15,
   "metadata": {},
   "outputs": [],
   "source": [
    "# Filtered CA from this national file maintained by Esri: \n",
    "# https://services.arcgis.com/P3ePLMYs2RVChkJx/arcgis/rest/services/USA_ZIP_Code_Areas_anaylsis/FeatureServer/0/\n",
    "zips_poly_pop = gpd.read_file('/Users/mhustiles/data/data/GIS/ca-zip-codes-esri.geojson')\n",
    "zips_poly = gpd.read_file('/Users/mhustiles/data/data/GIS/ca-zip-codes-esri-demographics.geojson')"
   ]
  },
  {
   "cell_type": "code",
   "execution_count": 16,
   "metadata": {},
   "outputs": [],
   "source": [
    "zips_poly.columns = zips_poly.columns.str.strip().str.lower().str.replace(' ', '_')\\\n",
    "                    .str.replace('(', '').str.replace(')', '').str.replace('-','_')"
   ]
  },
  {
   "cell_type": "code",
   "execution_count": 17,
   "metadata": {
    "scrolled": true
   },
   "outputs": [
    {
     "data": {
      "text/plain": [
       "<matplotlib.axes._subplots.AxesSubplot at 0x127277940>"
      ]
     },
     "execution_count": 17,
     "metadata": {},
     "output_type": "execute_result"
    },
    {
     "data": {
      "image/png": "[encoded data removed]",
      "text/plain": [
       "<Figure size 432x288 with 1 Axes>"
      ]
     },
     "metadata": {
      "needs_background": "light"
     },
     "output_type": "display_data"
    }
   ],
   "source": [
    "zips_poly.plot()"
   ]
  },
  {
   "cell_type": "code",
   "execution_count": 18,
   "metadata": {},
   "outputs": [],
   "source": [
    "zips_poly.dropna(inplace=True)"
   ]
  },
  {
   "cell_type": "code",
   "execution_count": 19,
   "metadata": {},
   "outputs": [
    {
     "data": {
      "text/html": [
       "<div>\n",
       "<style scoped>\n",
       "    .dataframe tbody tr th:only-of-type {\n",
       "        vertical-align: middle;\n",
       "    }\n",
       "\n",
       "    .dataframe tbody tr th {\n",
       "        vertical-align: top;\n",
       "    }\n",
       "\n",
       "    .dataframe thead th {\n",
       "        text-align: right;\n",
       "    }\n",
       "</style>\n",
       "<table border=\"1\" class=\"dataframe\">\n",
       "  <thead>\n",
       "    <tr style=\"text-align: right;\">\n",
       "      <th></th>\n",
       "      <th>objectid</th>\n",
       "      <th>zip</th>\n",
       "      <th>po_name</th>\n",
       "      <th>pop2012</th>\n",
       "      <th>white</th>\n",
       "      <th>black</th>\n",
       "      <th>ameri_es</th>\n",
       "      <th>asian</th>\n",
       "      <th>hawn_pi</th>\n",
       "      <th>hispanic</th>\n",
       "      <th>other</th>\n",
       "      <th>mult_race</th>\n",
       "      <th>med_age</th>\n",
       "      <th>ave_hh_sz</th>\n",
       "      <th>marhh_chd</th>\n",
       "      <th>families</th>\n",
       "      <th>ave_fam_sz</th>\n",
       "      <th>hse_units</th>\n",
       "      <th>sqmi</th>\n",
       "      <th>geometry</th>\n",
       "    </tr>\n",
       "  </thead>\n",
       "  <tbody>\n",
       "    <tr>\n",
       "      <th>0</th>\n",
       "      <td>4800</td>\n",
       "      <td>94002</td>\n",
       "      <td>Belmont</td>\n",
       "      <td>26832</td>\n",
       "      <td>19634</td>\n",
       "      <td>477</td>\n",
       "      <td>84</td>\n",
       "      <td>5762</td>\n",
       "      <td>221</td>\n",
       "      <td>3517</td>\n",
       "      <td>1170</td>\n",
       "      <td>1744</td>\n",
       "      <td>41.00</td>\n",
       "      <td>2.42</td>\n",
       "      <td>2925</td>\n",
       "      <td>7671</td>\n",
       "      <td>2.98</td>\n",
       "      <td>12304</td>\n",
       "      <td>5.90</td>\n",
       "      <td>POLYGON ((-122.277034540571 37.5343582023783, ...</td>\n",
       "    </tr>\n",
       "    <tr>\n",
       "      <th>1</th>\n",
       "      <td>4801</td>\n",
       "      <td>94010</td>\n",
       "      <td>Burlingame</td>\n",
       "      <td>41102</td>\n",
       "      <td>31610</td>\n",
       "      <td>482</td>\n",
       "      <td>93</td>\n",
       "      <td>10244</td>\n",
       "      <td>188</td>\n",
       "      <td>5133</td>\n",
       "      <td>1865</td>\n",
       "      <td>2166</td>\n",
       "      <td>42.60</td>\n",
       "      <td>2.43</td>\n",
       "      <td>4798</td>\n",
       "      <td>12179</td>\n",
       "      <td>3.06</td>\n",
       "      <td>20020</td>\n",
       "      <td>13.00</td>\n",
       "      <td>POLYGON ((-122.377279066574 37.6056199838047, ...</td>\n",
       "    </tr>\n",
       "    <tr>\n",
       "      <th>2</th>\n",
       "      <td>4900</td>\n",
       "      <td>93442</td>\n",
       "      <td>Morro Bay</td>\n",
       "      <td>10873</td>\n",
       "      <td>9395</td>\n",
       "      <td>47</td>\n",
       "      <td>104</td>\n",
       "      <td>281</td>\n",
       "      <td>10</td>\n",
       "      <td>1602</td>\n",
       "      <td>645</td>\n",
       "      <td>322</td>\n",
       "      <td>48.90</td>\n",
       "      <td>2.09</td>\n",
       "      <td>593</td>\n",
       "      <td>2749</td>\n",
       "      <td>2.70</td>\n",
       "      <td>6609</td>\n",
       "      <td>43.20</td>\n",
       "      <td>POLYGON ((-120.772553656772 35.4619572932372, ...</td>\n",
       "    </tr>\n",
       "    <tr>\n",
       "      <th>3</th>\n",
       "      <td>4901</td>\n",
       "      <td>93445</td>\n",
       "      <td>Oceano</td>\n",
       "      <td>7633</td>\n",
       "      <td>4683</td>\n",
       "      <td>60</td>\n",
       "      <td>114</td>\n",
       "      <td>155</td>\n",
       "      <td>7</td>\n",
       "      <td>3389</td>\n",
       "      <td>1477</td>\n",
       "      <td>283</td>\n",
       "      <td>34.70</td>\n",
       "      <td>2.86</td>\n",
       "      <td>541</td>\n",
       "      <td>1582</td>\n",
       "      <td>3.42</td>\n",
       "      <td>2871</td>\n",
       "      <td>2.00</td>\n",
       "      <td>POLYGON ((-120.63623999603 35.1221336393226, -...</td>\n",
       "    </tr>\n",
       "    <tr>\n",
       "      <th>4</th>\n",
       "      <td>4802</td>\n",
       "      <td>94015</td>\n",
       "      <td>Daly City</td>\n",
       "      <td>61575</td>\n",
       "      <td>14279</td>\n",
       "      <td>2138</td>\n",
       "      <td>168</td>\n",
       "      <td>35940</td>\n",
       "      <td>482</td>\n",
       "      <td>9775</td>\n",
       "      <td>4520</td>\n",
       "      <td>2939</td>\n",
       "      <td>39.00</td>\n",
       "      <td>3.10</td>\n",
       "      <td>4637</td>\n",
       "      <td>13991</td>\n",
       "      <td>3.54</td>\n",
       "      <td>20103</td>\n",
       "      <td>5.70</td>\n",
       "      <td>POLYGON ((-122.502826389233 37.7081318430574, ...</td>\n",
       "    </tr>\n",
       "  </tbody>\n",
       "</table>\n",
       "</div>"
      ],
      "text/plain": [
       "   objectid    zip     po_name  pop2012  white  black  ameri_es  asian  \\\n",
       "0      4800  94002     Belmont    26832  19634    477        84   5762   \n",
       "1      4801  94010  Burlingame    41102  31610    482        93  10244   \n",
       "2      4900  93442   Morro Bay    10873   9395     47       104    281   \n",
       "3      4901  93445      Oceano     7633   4683     60       114    155   \n",
       "4      4802  94015   Daly City    61575  14279   2138       168  35940   \n",
       "\n",
       "   hawn_pi  hispanic  other  mult_race  med_age  ave_hh_sz  marhh_chd  \\\n",
       "0      221      3517   1170       1744    41.00       2.42       2925   \n",
       "1      188      5133   1865       2166    42.60       2.43       4798   \n",
       "2       10      1602    645        322    48.90       2.09        593   \n",
       "3        7      3389   1477        283    34.70       2.86        541   \n",
       "4      482      9775   4520       2939    39.00       3.10       4637   \n",
       "\n",
       "   families  ave_fam_sz  hse_units  sqmi  \\\n",
       "0      7671        2.98      12304  5.90   \n",
       "1     12179        3.06      20020 13.00   \n",
       "2      2749        2.70       6609 43.20   \n",
       "3      1582        3.42       2871  2.00   \n",
       "4     13991        3.54      20103  5.70   \n",
       "\n",
       "                                            geometry  \n",
       "0  POLYGON ((-122.277034540571 37.5343582023783, ...  \n",
       "1  POLYGON ((-122.377279066574 37.6056199838047, ...  \n",
       "2  POLYGON ((-120.772553656772 35.4619572932372, ...  \n",
       "3  POLYGON ((-120.63623999603 35.1221336393226, -...  \n",
       "4  POLYGON ((-122.502826389233 37.7081318430574, ...  "
      ]
     },
     "execution_count": 19,
     "metadata": {},
     "output_type": "execute_result"
    }
   ],
   "source": [
    "zips_poly.head()"
   ]
  },
  {
   "cell_type": "code",
   "execution_count": 20,
   "metadata": {},
   "outputs": [],
   "source": [
    "zips_poly.rename(columns={\"zip_code\": \"zip\"}, inplace=True)"
   ]
  },
  {
   "cell_type": "markdown",
   "metadata": {},
   "source": [
    "---"
   ]
  },
  {
   "cell_type": "markdown",
   "metadata": {},
   "source": [
    "### In case we need income data to explain ZIP codes, let's also read in U.S. Census zctas"
   ]
  },
  {
   "cell_type": "code",
   "execution_count": 21,
   "metadata": {},
   "outputs": [],
   "source": [
    "# Because our questions will be related to household characteristics, we need to use census zip code tabulation areas.\n",
    "zctas = pd.read_csv('input/processed/acs5_2017_medianhouseholdincome_zctas.csv')"
   ]
  },
  {
   "cell_type": "markdown",
   "metadata": {},
   "source": [
    "### Read zctas that have already been related to closest census place"
   ]
  },
  {
   "cell_type": "code",
   "execution_count": 22,
   "metadata": {},
   "outputs": [],
   "source": [
    "zctas_crosswalk = pd.read_csv('/Users/mhustiles/data/github/notebooks/zctas/input/zcta_place.csv')"
   ]
  },
  {
   "cell_type": "code",
   "execution_count": 23,
   "metadata": {},
   "outputs": [],
   "source": [
    "zctas_crosswalk.columns = zctas_crosswalk.columns.str.strip().str.lower().str.replace(' ', '_')\\\n",
    "    .str.replace('(', '').str.replace(')', '')"
   ]
  },
  {
   "cell_type": "code",
   "execution_count": 24,
   "metadata": {},
   "outputs": [],
   "source": [
    "ca_zctas_crosswalk = pd.DataFrame(zctas_crosswalk[zctas_crosswalk['st'] == 'CA'])"
   ]
  },
  {
   "cell_type": "code",
   "execution_count": 25,
   "metadata": {},
   "outputs": [],
   "source": [
    "ca_zctas_crosswalk.drop(columns=['st','stplace', 'population_part',\n",
    "       'hsgunits_part', 'area_part', 'artealand_part', 'zip_population',\n",
    "       'zip_hsgunits', 'zip_area', 'zip_landarea', 'place_population',\n",
    "       'place_hsgunits', 'place_area', 'place_landarea', 'zip_pop%', 'zip_hu%',\n",
    "       'zip_area%', 'zip_land%', 'place_pop%', 'place_hu%', 'place_area%',\n",
    "       'place_land'], inplace=True)"
   ]
  },
  {
   "cell_type": "code",
   "execution_count": 26,
   "metadata": {},
   "outputs": [
    {
     "data": {
      "text/plain": [
       "Index(['zcta', 'place_name', 'type'], dtype='object')"
      ]
     },
     "execution_count": 26,
     "metadata": {},
     "output_type": "execute_result"
    }
   ],
   "source": [
    "ca_zctas_crosswalk.columns"
   ]
  },
  {
   "cell_type": "markdown",
   "metadata": {},
   "source": [
    "### Clean up ZIP code income table by removing null values"
   ]
  },
  {
   "cell_type": "code",
   "execution_count": 27,
   "metadata": {},
   "outputs": [],
   "source": [
    "zctas_income = zctas[zctas['median'] != -666666666.0].reset_index()"
   ]
  },
  {
   "cell_type": "code",
   "execution_count": 28,
   "metadata": {},
   "outputs": [],
   "source": [
    "zctas_income.drop(columns=['index','name','median_annotation', \\\n",
    "                         'median_moe','median_moe_annotation', 'zip code tabulation area'], inplace=True)"
   ]
  },
  {
   "cell_type": "code",
   "execution_count": 29,
   "metadata": {},
   "outputs": [],
   "source": [
    "zctas_income['zcta'] = zctas_income['geoid'].astype(str)"
   ]
  },
  {
   "cell_type": "markdown",
   "metadata": {},
   "source": [
    "### Merge place names to zctas "
   ]
  },
  {
   "cell_type": "code",
   "execution_count": 30,
   "metadata": {},
   "outputs": [],
   "source": [
    "ca_zctas_crosswalk_slim = ca_zctas_crosswalk[['zcta','place_name']]"
   ]
  },
  {
   "cell_type": "code",
   "execution_count": 31,
   "metadata": {},
   "outputs": [],
   "source": [
    "zctas_place = pd.merge(ca_zctas_crosswalk, zctas, left_on='zcta', right_on='geoid')"
   ]
  },
  {
   "cell_type": "code",
   "execution_count": 32,
   "metadata": {},
   "outputs": [],
   "source": [
    "zctas_place.place_name = zctas_place.place_name.str.replace(' CDP','')\\\n",
    ".str.replace(' city','')"
   ]
  },
  {
   "cell_type": "code",
   "execution_count": 33,
   "metadata": {},
   "outputs": [],
   "source": [
    "zctas_place.drop(columns=['name','name','median_moe', 'median_annotation',\\\n",
    "                         'median_moe','median_moe_annotation', 'zip code tabulation area','zip code tabulation area'], inplace=True)"
   ]
  },
  {
   "cell_type": "code",
   "execution_count": 34,
   "metadata": {},
   "outputs": [],
   "source": [
    "zctas_clean = zctas_place[zctas_place['type'] == 'U1']"
   ]
  },
  {
   "cell_type": "code",
   "execution_count": 35,
   "metadata": {},
   "outputs": [
    {
     "data": {
      "text/plain": [
       "1398"
      ]
     },
     "execution_count": 35,
     "metadata": {},
     "output_type": "execute_result"
    }
   ],
   "source": [
    "len(zctas_clean)"
   ]
  },
  {
   "cell_type": "markdown",
   "metadata": {},
   "source": [
    "---"
   ]
  },
  {
   "cell_type": "markdown",
   "metadata": {},
   "source": [
    "### Group the vehicles and count them by the registration ZIP code"
   ]
  },
  {
   "cell_type": "code",
   "execution_count": 36,
   "metadata": {},
   "outputs": [],
   "source": [
    "zipcodes = vehicles.groupby(['zip']).agg({'vehicles':'sum'}).reset_index()"
   ]
  },
  {
   "cell_type": "code",
   "execution_count": 37,
   "metadata": {},
   "outputs": [],
   "source": [
    "zipcodes.sort_values(by='vehicles', ascending=False).head(10)\n",
    "zipcodes['zip'] = zipcodes['zip'].astype(str)"
   ]
  },
  {
   "cell_type": "markdown",
   "metadata": {},
   "source": [
    "### Merge the income zctas with the ZIP code dataframe for use throughout "
   ]
  },
  {
   "cell_type": "code",
   "execution_count": 38,
   "metadata": {},
   "outputs": [],
   "source": [
    "zctas_income = pd.merge(zctas_income, zipcodes, left_on='zcta', right_on='zip')"
   ]
  },
  {
   "cell_type": "markdown",
   "metadata": {},
   "source": [
    "### Merge the registration zip codes and merge with zipcode polygons"
   ]
  },
  {
   "cell_type": "code",
   "execution_count": 39,
   "metadata": {},
   "outputs": [],
   "source": [
    "zips = pd.merge(zips_poly, zipcodes, left_on='zip', right_on='zip')"
   ]
  },
  {
   "cell_type": "code",
   "execution_count": 40,
   "metadata": {},
   "outputs": [
    {
     "data": {
      "text/html": [
       "<div>\n",
       "<style scoped>\n",
       "    .dataframe tbody tr th:only-of-type {\n",
       "        vertical-align: middle;\n",
       "    }\n",
       "\n",
       "    .dataframe tbody tr th {\n",
       "        vertical-align: top;\n",
       "    }\n",
       "\n",
       "    .dataframe thead th {\n",
       "        text-align: right;\n",
       "    }\n",
       "</style>\n",
       "<table border=\"1\" class=\"dataframe\">\n",
       "  <thead>\n",
       "    <tr style=\"text-align: right;\">\n",
       "      <th></th>\n",
       "      <th>objectid</th>\n",
       "      <th>zip</th>\n",
       "      <th>po_name</th>\n",
       "      <th>pop2012</th>\n",
       "      <th>white</th>\n",
       "      <th>black</th>\n",
       "      <th>ameri_es</th>\n",
       "      <th>asian</th>\n",
       "      <th>hawn_pi</th>\n",
       "      <th>hispanic</th>\n",
       "      <th>other</th>\n",
       "      <th>mult_race</th>\n",
       "      <th>med_age</th>\n",
       "      <th>ave_hh_sz</th>\n",
       "      <th>marhh_chd</th>\n",
       "      <th>families</th>\n",
       "      <th>ave_fam_sz</th>\n",
       "      <th>hse_units</th>\n",
       "      <th>sqmi</th>\n",
       "      <th>geometry</th>\n",
       "      <th>vehicles</th>\n",
       "    </tr>\n",
       "  </thead>\n",
       "  <tbody>\n",
       "    <tr>\n",
       "      <th>0</th>\n",
       "      <td>4800</td>\n",
       "      <td>94002</td>\n",
       "      <td>Belmont</td>\n",
       "      <td>26832</td>\n",
       "      <td>19634</td>\n",
       "      <td>477</td>\n",
       "      <td>84</td>\n",
       "      <td>5762</td>\n",
       "      <td>221</td>\n",
       "      <td>3517</td>\n",
       "      <td>1170</td>\n",
       "      <td>1744</td>\n",
       "      <td>41.00</td>\n",
       "      <td>2.42</td>\n",
       "      <td>2925</td>\n",
       "      <td>7671</td>\n",
       "      <td>2.98</td>\n",
       "      <td>12304</td>\n",
       "      <td>5.90</td>\n",
       "      <td>POLYGON ((-122.277034540571 37.5343582023783, ...</td>\n",
       "      <td>16072</td>\n",
       "    </tr>\n",
       "    <tr>\n",
       "      <th>1</th>\n",
       "      <td>4801</td>\n",
       "      <td>94010</td>\n",
       "      <td>Burlingame</td>\n",
       "      <td>41102</td>\n",
       "      <td>31610</td>\n",
       "      <td>482</td>\n",
       "      <td>93</td>\n",
       "      <td>10244</td>\n",
       "      <td>188</td>\n",
       "      <td>5133</td>\n",
       "      <td>1865</td>\n",
       "      <td>2166</td>\n",
       "      <td>42.60</td>\n",
       "      <td>2.43</td>\n",
       "      <td>4798</td>\n",
       "      <td>12179</td>\n",
       "      <td>3.06</td>\n",
       "      <td>20020</td>\n",
       "      <td>13.00</td>\n",
       "      <td>POLYGON ((-122.377279066574 37.6056199838047, ...</td>\n",
       "      <td>35339</td>\n",
       "    </tr>\n",
       "    <tr>\n",
       "      <th>2</th>\n",
       "      <td>4900</td>\n",
       "      <td>93442</td>\n",
       "      <td>Morro Bay</td>\n",
       "      <td>10873</td>\n",
       "      <td>9395</td>\n",
       "      <td>47</td>\n",
       "      <td>104</td>\n",
       "      <td>281</td>\n",
       "      <td>10</td>\n",
       "      <td>1602</td>\n",
       "      <td>645</td>\n",
       "      <td>322</td>\n",
       "      <td>48.90</td>\n",
       "      <td>2.09</td>\n",
       "      <td>593</td>\n",
       "      <td>2749</td>\n",
       "      <td>2.70</td>\n",
       "      <td>6609</td>\n",
       "      <td>43.20</td>\n",
       "      <td>POLYGON ((-120.772553656772 35.4619572932372, ...</td>\n",
       "      <td>5756</td>\n",
       "    </tr>\n",
       "    <tr>\n",
       "      <th>3</th>\n",
       "      <td>4901</td>\n",
       "      <td>93445</td>\n",
       "      <td>Oceano</td>\n",
       "      <td>7633</td>\n",
       "      <td>4683</td>\n",
       "      <td>60</td>\n",
       "      <td>114</td>\n",
       "      <td>155</td>\n",
       "      <td>7</td>\n",
       "      <td>3389</td>\n",
       "      <td>1477</td>\n",
       "      <td>283</td>\n",
       "      <td>34.70</td>\n",
       "      <td>2.86</td>\n",
       "      <td>541</td>\n",
       "      <td>1582</td>\n",
       "      <td>3.42</td>\n",
       "      <td>2871</td>\n",
       "      <td>2.00</td>\n",
       "      <td>POLYGON ((-120.63623999603 35.1221336393226, -...</td>\n",
       "      <td>3025</td>\n",
       "    </tr>\n",
       "    <tr>\n",
       "      <th>4</th>\n",
       "      <td>4802</td>\n",
       "      <td>94015</td>\n",
       "      <td>Daly City</td>\n",
       "      <td>61575</td>\n",
       "      <td>14279</td>\n",
       "      <td>2138</td>\n",
       "      <td>168</td>\n",
       "      <td>35940</td>\n",
       "      <td>482</td>\n",
       "      <td>9775</td>\n",
       "      <td>4520</td>\n",
       "      <td>2939</td>\n",
       "      <td>39.00</td>\n",
       "      <td>3.10</td>\n",
       "      <td>4637</td>\n",
       "      <td>13991</td>\n",
       "      <td>3.54</td>\n",
       "      <td>20103</td>\n",
       "      <td>5.70</td>\n",
       "      <td>POLYGON ((-122.502826389233 37.7081318430574, ...</td>\n",
       "      <td>30095</td>\n",
       "    </tr>\n",
       "  </tbody>\n",
       "</table>\n",
       "</div>"
      ],
      "text/plain": [
       "   objectid    zip     po_name  pop2012  white  black  ameri_es  asian  \\\n",
       "0      4800  94002     Belmont    26832  19634    477        84   5762   \n",
       "1      4801  94010  Burlingame    41102  31610    482        93  10244   \n",
       "2      4900  93442   Morro Bay    10873   9395     47       104    281   \n",
       "3      4901  93445      Oceano     7633   4683     60       114    155   \n",
       "4      4802  94015   Daly City    61575  14279   2138       168  35940   \n",
       "\n",
       "   hawn_pi  hispanic  other  mult_race  med_age  ave_hh_sz  marhh_chd  \\\n",
       "0      221      3517   1170       1744    41.00       2.42       2925   \n",
       "1      188      5133   1865       2166    42.60       2.43       4798   \n",
       "2       10      1602    645        322    48.90       2.09        593   \n",
       "3        7      3389   1477        283    34.70       2.86        541   \n",
       "4      482      9775   4520       2939    39.00       3.10       4637   \n",
       "\n",
       "   families  ave_fam_sz  hse_units  sqmi  \\\n",
       "0      7671        2.98      12304  5.90   \n",
       "1     12179        3.06      20020 13.00   \n",
       "2      2749        2.70       6609 43.20   \n",
       "3      1582        3.42       2871  2.00   \n",
       "4     13991        3.54      20103  5.70   \n",
       "\n",
       "                                            geometry  vehicles  \n",
       "0  POLYGON ((-122.277034540571 37.5343582023783, ...     16072  \n",
       "1  POLYGON ((-122.377279066574 37.6056199838047, ...     35339  \n",
       "2  POLYGON ((-120.772553656772 35.4619572932372, ...      5756  \n",
       "3  POLYGON ((-120.63623999603 35.1221336393226, -...      3025  \n",
       "4  POLYGON ((-122.502826389233 37.7081318430574, ...     30095  "
      ]
     },
     "execution_count": 40,
     "metadata": {},
     "output_type": "execute_result"
    }
   ],
   "source": [
    "zips.head()"
   ]
  },
  {
   "cell_type": "markdown",
   "metadata": {},
   "source": [
    "---"
   ]
  },
  {
   "cell_type": "markdown",
   "metadata": {},
   "source": [
    "### Group by duty. Which are most common? "
   ]
  },
  {
   "cell_type": "code",
   "execution_count": 41,
   "metadata": {},
   "outputs": [
    {
     "data": {
      "text/html": [
       "<div>\n",
       "<style scoped>\n",
       "    .dataframe tbody tr th:only-of-type {\n",
       "        vertical-align: middle;\n",
       "    }\n",
       "\n",
       "    .dataframe tbody tr th {\n",
       "        vertical-align: top;\n",
       "    }\n",
       "\n",
       "    .dataframe thead th {\n",
       "        text-align: right;\n",
       "    }\n",
       "</style>\n",
       "<table border=\"1\" class=\"dataframe\">\n",
       "  <thead>\n",
       "    <tr style=\"text-align: right;\">\n",
       "      <th></th>\n",
       "      <th>duty</th>\n",
       "      <th>vehicles</th>\n",
       "    </tr>\n",
       "  </thead>\n",
       "  <tbody>\n",
       "    <tr>\n",
       "      <th>0</th>\n",
       "      <td>Heavy</td>\n",
       "      <td>574471</td>\n",
       "    </tr>\n",
       "    <tr>\n",
       "      <th>1</th>\n",
       "      <td>Light</td>\n",
       "      <td>18911128</td>\n",
       "    </tr>\n",
       "  </tbody>\n",
       "</table>\n",
       "</div>"
      ],
      "text/plain": [
       "    duty  vehicles\n",
       "0  Heavy    574471\n",
       "1  Light  18911128"
      ]
     },
     "execution_count": 41,
     "metadata": {},
     "output_type": "execute_result"
    }
   ],
   "source": [
    "# About 2.5 are listed as OTHER/UNK\n",
    "duty_totals = vehicles.groupby(['duty']).agg('sum').reset_index()\n",
    "duty_totals.head()"
   ]
  },
  {
   "cell_type": "markdown",
   "metadata": {},
   "source": [
    "### Group by make. Which are most common? "
   ]
  },
  {
   "cell_type": "code",
   "execution_count": 42,
   "metadata": {},
   "outputs": [],
   "source": [
    "# About 2.5 are listed as OTHER/UNK\n",
    "make = vehicles[vehicles['make'] != 'OTHER/UNK'].groupby(['make', 'zip']).agg('sum').reset_index()"
   ]
  },
  {
   "cell_type": "code",
   "execution_count": 43,
   "metadata": {},
   "outputs": [],
   "source": [
    "most_make = make.groupby(['make']).agg('sum').reset_index().sort_values(by='vehicles', ascending=False)"
   ]
  },
  {
   "cell_type": "code",
   "execution_count": 44,
   "metadata": {},
   "outputs": [],
   "source": [
    "makelist = most_make.make.to_list()"
   ]
  },
  {
   "cell_type": "code",
   "execution_count": 45,
   "metadata": {},
   "outputs": [],
   "source": [
    "popular_makes = make[make['make'].isin(makelist)]"
   ]
  },
  {
   "cell_type": "code",
   "execution_count": 46,
   "metadata": {},
   "outputs": [],
   "source": [
    "make_zip = pd.DataFrame(pd.pivot_table(popular_makes, values='vehicles', \\\n",
    "                            index=['zip'], columns=['make'], aggfunc=np.sum, fill_value=0).reset_index())"
   ]
  },
  {
   "cell_type": "code",
   "execution_count": 47,
   "metadata": {},
   "outputs": [],
   "source": [
    "make_zip.columns = make_zip.columns.str.strip().str.lower().str.replace(' ', '_')\\\n",
    "                    .str.replace('(', '').str.replace(')', '').str.replace('-','_')"
   ]
  },
  {
   "cell_type": "markdown",
   "metadata": {},
   "source": [
    "### Which make is most common in each ZIP code? "
   ]
  },
  {
   "cell_type": "code",
   "execution_count": 48,
   "metadata": {},
   "outputs": [],
   "source": [
    "make_zip[\"total\"] = make_zip.sum(axis=1)"
   ]
  },
  {
   "cell_type": "code",
   "execution_count": 49,
   "metadata": {},
   "outputs": [
    {
     "data": {
      "text/html": [
       "<div>\n",
       "<style scoped>\n",
       "    .dataframe tbody tr th:only-of-type {\n",
       "        vertical-align: middle;\n",
       "    }\n",
       "\n",
       "    .dataframe tbody tr th {\n",
       "        vertical-align: top;\n",
       "    }\n",
       "\n",
       "    .dataframe thead th {\n",
       "        text-align: right;\n",
       "    }\n",
       "</style>\n",
       "<table border=\"1\" class=\"dataframe\">\n",
       "  <thead>\n",
       "    <tr style=\"text-align: right;\">\n",
       "      <th>make</th>\n",
       "      <th>zip</th>\n",
       "      <th>acura</th>\n",
       "      <th>alfa_romeo</th>\n",
       "      <th>allianz</th>\n",
       "      <th>am_general</th>\n",
       "      <th>american_custom_golfcarts</th>\n",
       "      <th>american_lafrance</th>\n",
       "      <th>aston_martin</th>\n",
       "      <th>audi</th>\n",
       "      <th>autocar</th>\n",
       "      <th>bentley</th>\n",
       "      <th>bluebird</th>\n",
       "      <th>bmw</th>\n",
       "      <th>buick</th>\n",
       "      <th>cadillac</th>\n",
       "      <th>capacity_of_texas_inc</th>\n",
       "      <th>caterpillar</th>\n",
       "      <th>chevrolet</th>\n",
       "      <th>chrysler</th>\n",
       "      <th>club_car</th>\n",
       "      <th>columbia</th>\n",
       "      <th>crane_carrier</th>\n",
       "      <th>dodge</th>\n",
       "      <th>dymac_vehicle_group_inc</th>\n",
       "      <th>emergency_one</th>\n",
       "      <th>...</th>\n",
       "      <th>pontiac</th>\n",
       "      <th>porsche</th>\n",
       "      <th>prevost</th>\n",
       "      <th>ram</th>\n",
       "      <th>rolls_royce</th>\n",
       "      <th>saab</th>\n",
       "      <th>saturn</th>\n",
       "      <th>scion</th>\n",
       "      <th>smart</th>\n",
       "      <th>spartan</th>\n",
       "      <th>sterling</th>\n",
       "      <th>subaru</th>\n",
       "      <th>suzuki</th>\n",
       "      <th>tesla</th>\n",
       "      <th>thomas_bus</th>\n",
       "      <th>tomberlin</th>\n",
       "      <th>toyota</th>\n",
       "      <th>ud_trucks</th>\n",
       "      <th>van_hool</th>\n",
       "      <th>volkswagen</th>\n",
       "      <th>volvo</th>\n",
       "      <th>vpg</th>\n",
       "      <th>western_star</th>\n",
       "      <th>workhorse</th>\n",
       "      <th>total</th>\n",
       "    </tr>\n",
       "  </thead>\n",
       "  <tbody>\n",
       "    <tr>\n",
       "      <th>43</th>\n",
       "      <td>90045</td>\n",
       "      <td>322</td>\n",
       "      <td>0</td>\n",
       "      <td>0</td>\n",
       "      <td>0</td>\n",
       "      <td>0</td>\n",
       "      <td>0</td>\n",
       "      <td>0</td>\n",
       "      <td>705</td>\n",
       "      <td>0</td>\n",
       "      <td>0</td>\n",
       "      <td>0</td>\n",
       "      <td>1350</td>\n",
       "      <td>851</td>\n",
       "      <td>655</td>\n",
       "      <td>0</td>\n",
       "      <td>0</td>\n",
       "      <td>9457</td>\n",
       "      <td>3133</td>\n",
       "      <td>0</td>\n",
       "      <td>0</td>\n",
       "      <td>0</td>\n",
       "      <td>7989</td>\n",
       "      <td>0</td>\n",
       "      <td>0</td>\n",
       "      <td>...</td>\n",
       "      <td>0</td>\n",
       "      <td>206</td>\n",
       "      <td>0</td>\n",
       "      <td>759</td>\n",
       "      <td>0</td>\n",
       "      <td>0</td>\n",
       "      <td>12</td>\n",
       "      <td>120</td>\n",
       "      <td>0</td>\n",
       "      <td>0</td>\n",
       "      <td>0</td>\n",
       "      <td>635</td>\n",
       "      <td>0</td>\n",
       "      <td>178</td>\n",
       "      <td>0</td>\n",
       "      <td>0</td>\n",
       "      <td>17541</td>\n",
       "      <td>0</td>\n",
       "      <td>0</td>\n",
       "      <td>3921</td>\n",
       "      <td>298</td>\n",
       "      <td>0</td>\n",
       "      <td>0</td>\n",
       "      <td>0</td>\n",
       "      <td>125039</td>\n",
       "    </tr>\n",
       "    <tr>\n",
       "      <th>975</th>\n",
       "      <td>94080</td>\n",
       "      <td>760</td>\n",
       "      <td>0</td>\n",
       "      <td>0</td>\n",
       "      <td>0</td>\n",
       "      <td>0</td>\n",
       "      <td>0</td>\n",
       "      <td>0</td>\n",
       "      <td>456</td>\n",
       "      <td>0</td>\n",
       "      <td>0</td>\n",
       "      <td>0</td>\n",
       "      <td>1291</td>\n",
       "      <td>1058</td>\n",
       "      <td>337</td>\n",
       "      <td>0</td>\n",
       "      <td>0</td>\n",
       "      <td>10800</td>\n",
       "      <td>2139</td>\n",
       "      <td>0</td>\n",
       "      <td>0</td>\n",
       "      <td>0</td>\n",
       "      <td>1506</td>\n",
       "      <td>0</td>\n",
       "      <td>0</td>\n",
       "      <td>...</td>\n",
       "      <td>45</td>\n",
       "      <td>139</td>\n",
       "      <td>0</td>\n",
       "      <td>374</td>\n",
       "      <td>0</td>\n",
       "      <td>0</td>\n",
       "      <td>43</td>\n",
       "      <td>376</td>\n",
       "      <td>11</td>\n",
       "      <td>0</td>\n",
       "      <td>0</td>\n",
       "      <td>1937</td>\n",
       "      <td>0</td>\n",
       "      <td>147</td>\n",
       "      <td>0</td>\n",
       "      <td>0</td>\n",
       "      <td>18353</td>\n",
       "      <td>0</td>\n",
       "      <td>13</td>\n",
       "      <td>1400</td>\n",
       "      <td>88</td>\n",
       "      <td>0</td>\n",
       "      <td>0</td>\n",
       "      <td>13</td>\n",
       "      <td>100576</td>\n",
       "    </tr>\n",
       "    <tr>\n",
       "      <th>499</th>\n",
       "      <td>92336</td>\n",
       "      <td>453</td>\n",
       "      <td>0</td>\n",
       "      <td>0</td>\n",
       "      <td>0</td>\n",
       "      <td>0</td>\n",
       "      <td>0</td>\n",
       "      <td>0</td>\n",
       "      <td>438</td>\n",
       "      <td>0</td>\n",
       "      <td>0</td>\n",
       "      <td>0</td>\n",
       "      <td>1466</td>\n",
       "      <td>172</td>\n",
       "      <td>438</td>\n",
       "      <td>0</td>\n",
       "      <td>0</td>\n",
       "      <td>5862</td>\n",
       "      <td>637</td>\n",
       "      <td>0</td>\n",
       "      <td>0</td>\n",
       "      <td>0</td>\n",
       "      <td>1361</td>\n",
       "      <td>0</td>\n",
       "      <td>0</td>\n",
       "      <td>...</td>\n",
       "      <td>57</td>\n",
       "      <td>0</td>\n",
       "      <td>0</td>\n",
       "      <td>352</td>\n",
       "      <td>0</td>\n",
       "      <td>0</td>\n",
       "      <td>102</td>\n",
       "      <td>759</td>\n",
       "      <td>0</td>\n",
       "      <td>0</td>\n",
       "      <td>0</td>\n",
       "      <td>466</td>\n",
       "      <td>0</td>\n",
       "      <td>34</td>\n",
       "      <td>0</td>\n",
       "      <td>0</td>\n",
       "      <td>9449</td>\n",
       "      <td>0</td>\n",
       "      <td>0</td>\n",
       "      <td>771</td>\n",
       "      <td>139</td>\n",
       "      <td>0</td>\n",
       "      <td>0</td>\n",
       "      <td>0</td>\n",
       "      <td>51315</td>\n",
       "    </tr>\n",
       "    <tr>\n",
       "      <th>428</th>\n",
       "      <td>92154</td>\n",
       "      <td>390</td>\n",
       "      <td>0</td>\n",
       "      <td>0</td>\n",
       "      <td>0</td>\n",
       "      <td>0</td>\n",
       "      <td>0</td>\n",
       "      <td>0</td>\n",
       "      <td>318</td>\n",
       "      <td>0</td>\n",
       "      <td>0</td>\n",
       "      <td>0</td>\n",
       "      <td>1130</td>\n",
       "      <td>190</td>\n",
       "      <td>222</td>\n",
       "      <td>0</td>\n",
       "      <td>0</td>\n",
       "      <td>3139</td>\n",
       "      <td>662</td>\n",
       "      <td>0</td>\n",
       "      <td>0</td>\n",
       "      <td>0</td>\n",
       "      <td>1472</td>\n",
       "      <td>0</td>\n",
       "      <td>0</td>\n",
       "      <td>...</td>\n",
       "      <td>95</td>\n",
       "      <td>12</td>\n",
       "      <td>0</td>\n",
       "      <td>216</td>\n",
       "      <td>0</td>\n",
       "      <td>0</td>\n",
       "      <td>114</td>\n",
       "      <td>607</td>\n",
       "      <td>0</td>\n",
       "      <td>0</td>\n",
       "      <td>99</td>\n",
       "      <td>466</td>\n",
       "      <td>27</td>\n",
       "      <td>13</td>\n",
       "      <td>0</td>\n",
       "      <td>0</td>\n",
       "      <td>7865</td>\n",
       "      <td>0</td>\n",
       "      <td>0</td>\n",
       "      <td>1989</td>\n",
       "      <td>228</td>\n",
       "      <td>0</td>\n",
       "      <td>0</td>\n",
       "      <td>0</td>\n",
       "      <td>48076</td>\n",
       "    </tr>\n",
       "    <tr>\n",
       "      <th>265</th>\n",
       "      <td>91709</td>\n",
       "      <td>801</td>\n",
       "      <td>18</td>\n",
       "      <td>0</td>\n",
       "      <td>0</td>\n",
       "      <td>0</td>\n",
       "      <td>0</td>\n",
       "      <td>0</td>\n",
       "      <td>654</td>\n",
       "      <td>0</td>\n",
       "      <td>0</td>\n",
       "      <td>0</td>\n",
       "      <td>2378</td>\n",
       "      <td>72</td>\n",
       "      <td>364</td>\n",
       "      <td>0</td>\n",
       "      <td>0</td>\n",
       "      <td>2924</td>\n",
       "      <td>291</td>\n",
       "      <td>0</td>\n",
       "      <td>0</td>\n",
       "      <td>0</td>\n",
       "      <td>611</td>\n",
       "      <td>0</td>\n",
       "      <td>0</td>\n",
       "      <td>...</td>\n",
       "      <td>0</td>\n",
       "      <td>305</td>\n",
       "      <td>0</td>\n",
       "      <td>213</td>\n",
       "      <td>0</td>\n",
       "      <td>0</td>\n",
       "      <td>49</td>\n",
       "      <td>476</td>\n",
       "      <td>0</td>\n",
       "      <td>0</td>\n",
       "      <td>0</td>\n",
       "      <td>798</td>\n",
       "      <td>0</td>\n",
       "      <td>269</td>\n",
       "      <td>0</td>\n",
       "      <td>0</td>\n",
       "      <td>9229</td>\n",
       "      <td>0</td>\n",
       "      <td>0</td>\n",
       "      <td>916</td>\n",
       "      <td>209</td>\n",
       "      <td>0</td>\n",
       "      <td>0</td>\n",
       "      <td>0</td>\n",
       "      <td>46286</td>\n",
       "    </tr>\n",
       "  </tbody>\n",
       "</table>\n",
       "<p>5 rows × 94 columns</p>\n",
       "</div>"
      ],
      "text/plain": [
       "make    zip  acura  alfa_romeo  allianz  am_general  \\\n",
       "43    90045    322           0        0           0   \n",
       "975   94080    760           0        0           0   \n",
       "499   92336    453           0        0           0   \n",
       "428   92154    390           0        0           0   \n",
       "265   91709    801          18        0           0   \n",
       "\n",
       "make  american_custom_golfcarts  american_lafrance  aston_martin  audi  \\\n",
       "43                            0                  0             0   705   \n",
       "975                           0                  0             0   456   \n",
       "499                           0                  0             0   438   \n",
       "428                           0                  0             0   318   \n",
       "265                           0                  0             0   654   \n",
       "\n",
       "make  autocar  bentley  bluebird   bmw  buick  cadillac  \\\n",
       "43          0        0         0  1350    851       655   \n",
       "975         0        0         0  1291   1058       337   \n",
       "499         0        0         0  1466    172       438   \n",
       "428         0        0         0  1130    190       222   \n",
       "265         0        0         0  2378     72       364   \n",
       "\n",
       "make  capacity_of_texas_inc  caterpillar  chevrolet  chrysler  club_car  \\\n",
       "43                        0            0       9457      3133         0   \n",
       "975                       0            0      10800      2139         0   \n",
       "499                       0            0       5862       637         0   \n",
       "428                       0            0       3139       662         0   \n",
       "265                       0            0       2924       291         0   \n",
       "\n",
       "make  columbia  crane_carrier  dodge  dymac_vehicle_group_inc  emergency_one  \\\n",
       "43           0              0   7989                        0              0   \n",
       "975          0              0   1506                        0              0   \n",
       "499          0              0   1361                        0              0   \n",
       "428          0              0   1472                        0              0   \n",
       "265          0              0    611                        0              0   \n",
       "\n",
       "make  ...  pontiac  porsche  prevost  ram  rolls_royce  saab  saturn  scion  \\\n",
       "43    ...        0      206        0  759            0     0      12    120   \n",
       "975   ...       45      139        0  374            0     0      43    376   \n",
       "499   ...       57        0        0  352            0     0     102    759   \n",
       "428   ...       95       12        0  216            0     0     114    607   \n",
       "265   ...        0      305        0  213            0     0      49    476   \n",
       "\n",
       "make  smart  spartan  sterling  subaru  suzuki  tesla  thomas_bus  tomberlin  \\\n",
       "43        0        0         0     635       0    178           0          0   \n",
       "975      11        0         0    1937       0    147           0          0   \n",
       "499       0        0         0     466       0     34           0          0   \n",
       "428       0        0        99     466      27     13           0          0   \n",
       "265       0        0         0     798       0    269           0          0   \n",
       "\n",
       "make  toyota  ud_trucks  van_hool  volkswagen  volvo  vpg  western_star  \\\n",
       "43     17541          0         0        3921    298    0             0   \n",
       "975    18353          0        13        1400     88    0             0   \n",
       "499     9449          0         0         771    139    0             0   \n",
       "428     7865          0         0        1989    228    0             0   \n",
       "265     9229          0         0         916    209    0             0   \n",
       "\n",
       "make  workhorse   total  \n",
       "43            0  125039  \n",
       "975          13  100576  \n",
       "499           0   51315  \n",
       "428           0   48076  \n",
       "265           0   46286  \n",
       "\n",
       "[5 rows x 94 columns]"
      ]
     },
     "execution_count": 49,
     "metadata": {},
     "output_type": "execute_result"
    }
   ],
   "source": [
    "make_zip.sort_values(by='total', ascending=False).head(5)"
   ]
  },
  {
   "cell_type": "code",
   "execution_count": 50,
   "metadata": {},
   "outputs": [],
   "source": [
    "make_zip[['zip', 'total']].to_csv('output/total_makes_zip.csv')"
   ]
  },
  {
   "cell_type": "code",
   "execution_count": 51,
   "metadata": {},
   "outputs": [],
   "source": [
    "make_total = pd.DataFrame(make_zip[['zip', 'total']])"
   ]
  },
  {
   "cell_type": "code",
   "execution_count": 52,
   "metadata": {},
   "outputs": [],
   "source": [
    "make_zip['winner'] = make_zip[['acura', 'alfa_romeo', 'allianz', 'am_general',\n",
    "       'american_custom_golfcarts', 'american_lafrance', 'aston_martin',\n",
    "       'audi', 'autocar', 'bentley', 'bluebird', 'bmw', 'buick', 'cadillac',\n",
    "       'capacity_of_texas_inc', 'caterpillar', 'chevrolet', 'chrysler',\n",
    "       'club_car', 'columbia', 'crane_carrier', 'dodge',\n",
    "       'dymac_vehicle_group_inc', 'emergency_one', 'evobus', 'ezgo', 'ferrari',\n",
    "       'fiat', 'ford', 'freightliner', 'gem', 'genesis', 'gillig', 'gmc',\n",
    "       'hino', 'hme', 'honda', 'hummer', 'hyundai', 'ic_bus,_llc', 'infiniti',\n",
    "       'international', 'isuzu', 'jaguar', 'jeep', 'kalmar_industries_usa_llc',\n",
    "       'kenworth', 'kia', 'kovatch_moblie_equipment_corp.', 'land_rover',\n",
    "       'lexus', 'lincoln', 'mack', 'maserati', 'mazda', 'mercedes_benz',\n",
    "       'mercury', 'miles', 'mini', 'mitsubishi', 'mitsubishi_fuso',\n",
    "       'motor_coach_industries', 'newflyer', 'nissan',\n",
    "       'north_american_bus_industries', 'orion', 'peterbilt',\n",
    "       'pierce_manufacturing', 'pontiac', 'porsche', 'prevost', 'ram',\n",
    "       'rolls_royce', 'saab', 'saturn', 'scion', 'smart', 'spartan',\n",
    "       'sterling', 'subaru', 'suzuki', 'tesla', 'thomas_bus', 'tomberlin',\n",
    "       'toyota', 'ud_trucks', 'van_hool', 'volkswagen', 'volvo', 'vpg',\n",
    "       'western_star', 'workhorse']].idxmax(axis=1)"
   ]
  },
  {
   "cell_type": "code",
   "execution_count": 53,
   "metadata": {},
   "outputs": [],
   "source": [
    "make_zip_top_ten = pd.DataFrame(make_zip[['zip','toyota','honda','ford','chevrolet','nissan',\\\n",
    "                               'bmw','hyundai','lexus','mercedes_benz','kia', 'total']])"
   ]
  },
  {
   "cell_type": "code",
   "execution_count": 54,
   "metadata": {},
   "outputs": [],
   "source": [
    "make_zip_top_ten.to_csv('output/make_zip_top_ten.csv')"
   ]
  },
  {
   "cell_type": "code",
   "execution_count": 55,
   "metadata": {},
   "outputs": [
    {
     "data": {
      "text/html": [
       "<div>\n",
       "<style scoped>\n",
       "    .dataframe tbody tr th:only-of-type {\n",
       "        vertical-align: middle;\n",
       "    }\n",
       "\n",
       "    .dataframe tbody tr th {\n",
       "        vertical-align: top;\n",
       "    }\n",
       "\n",
       "    .dataframe thead th {\n",
       "        text-align: right;\n",
       "    }\n",
       "</style>\n",
       "<table border=\"1\" class=\"dataframe\">\n",
       "  <thead>\n",
       "    <tr style=\"text-align: right;\">\n",
       "      <th>make</th>\n",
       "      <th>zip</th>\n",
       "      <th>toyota</th>\n",
       "      <th>honda</th>\n",
       "      <th>ford</th>\n",
       "      <th>chevrolet</th>\n",
       "      <th>nissan</th>\n",
       "      <th>bmw</th>\n",
       "      <th>hyundai</th>\n",
       "      <th>lexus</th>\n",
       "      <th>mercedes_benz</th>\n",
       "      <th>kia</th>\n",
       "      <th>total</th>\n",
       "    </tr>\n",
       "  </thead>\n",
       "  <tbody>\n",
       "    <tr>\n",
       "      <th>0</th>\n",
       "      <td>90001</td>\n",
       "      <td>3119</td>\n",
       "      <td>2189</td>\n",
       "      <td>1057</td>\n",
       "      <td>1736</td>\n",
       "      <td>2557</td>\n",
       "      <td>328</td>\n",
       "      <td>329</td>\n",
       "      <td>154</td>\n",
       "      <td>174</td>\n",
       "      <td>1014</td>\n",
       "      <td>15460</td>\n",
       "    </tr>\n",
       "    <tr>\n",
       "      <th>1</th>\n",
       "      <td>90002</td>\n",
       "      <td>2891</td>\n",
       "      <td>1843</td>\n",
       "      <td>886</td>\n",
       "      <td>1619</td>\n",
       "      <td>2392</td>\n",
       "      <td>225</td>\n",
       "      <td>309</td>\n",
       "      <td>174</td>\n",
       "      <td>160</td>\n",
       "      <td>1101</td>\n",
       "      <td>14159</td>\n",
       "    </tr>\n",
       "    <tr>\n",
       "      <th>2</th>\n",
       "      <td>90003</td>\n",
       "      <td>4053</td>\n",
       "      <td>2570</td>\n",
       "      <td>1183</td>\n",
       "      <td>1913</td>\n",
       "      <td>3104</td>\n",
       "      <td>372</td>\n",
       "      <td>394</td>\n",
       "      <td>212</td>\n",
       "      <td>292</td>\n",
       "      <td>1348</td>\n",
       "      <td>18898</td>\n",
       "    </tr>\n",
       "    <tr>\n",
       "      <th>3</th>\n",
       "      <td>90004</td>\n",
       "      <td>5588</td>\n",
       "      <td>3249</td>\n",
       "      <td>852</td>\n",
       "      <td>722</td>\n",
       "      <td>1866</td>\n",
       "      <td>1048</td>\n",
       "      <td>810</td>\n",
       "      <td>1197</td>\n",
       "      <td>943</td>\n",
       "      <td>655</td>\n",
       "      <td>21260</td>\n",
       "    </tr>\n",
       "    <tr>\n",
       "      <th>4</th>\n",
       "      <td>90005</td>\n",
       "      <td>2804</td>\n",
       "      <td>1804</td>\n",
       "      <td>333</td>\n",
       "      <td>288</td>\n",
       "      <td>895</td>\n",
       "      <td>717</td>\n",
       "      <td>662</td>\n",
       "      <td>851</td>\n",
       "      <td>641</td>\n",
       "      <td>375</td>\n",
       "      <td>10930</td>\n",
       "    </tr>\n",
       "  </tbody>\n",
       "</table>\n",
       "</div>"
      ],
      "text/plain": [
       "make    zip  toyota  honda  ford  chevrolet  nissan   bmw  hyundai  lexus  \\\n",
       "0     90001    3119   2189  1057       1736    2557   328      329    154   \n",
       "1     90002    2891   1843   886       1619    2392   225      309    174   \n",
       "2     90003    4053   2570  1183       1913    3104   372      394    212   \n",
       "3     90004    5588   3249   852        722    1866  1048      810   1197   \n",
       "4     90005    2804   1804   333        288     895   717      662    851   \n",
       "\n",
       "make  mercedes_benz   kia  total  \n",
       "0               174  1014  15460  \n",
       "1               160  1101  14159  \n",
       "2               292  1348  18898  \n",
       "3               943   655  21260  \n",
       "4               641   375  10930  "
      ]
     },
     "execution_count": 55,
     "metadata": {},
     "output_type": "execute_result"
    }
   ],
   "source": [
    "make_zip_top_ten.head()"
   ]
  },
  {
   "cell_type": "markdown",
   "metadata": {},
   "source": [
    "---"
   ]
  },
  {
   "cell_type": "markdown",
   "metadata": {},
   "source": [
    "## Isolate vehicle makes to include only Teslas"
   ]
  },
  {
   "cell_type": "code",
   "execution_count": 56,
   "metadata": {},
   "outputs": [],
   "source": [
    "tesla = vehicles[vehicles['make'] == 'TESLA']"
   ]
  },
  {
   "cell_type": "markdown",
   "metadata": {},
   "source": [
    "### Group by ZIP code and count the vehicles"
   ]
  },
  {
   "cell_type": "code",
   "execution_count": 57,
   "metadata": {},
   "outputs": [],
   "source": [
    "tesla_grouped = tesla.groupby(['zip']).agg({'vehicles':'sum'}).reset_index()"
   ]
  },
  {
   "cell_type": "markdown",
   "metadata": {},
   "source": [
    "### Merge with dataframe that includes all vehicle counts by ZIP code"
   ]
  },
  {
   "cell_type": "code",
   "execution_count": 58,
   "metadata": {},
   "outputs": [],
   "source": [
    "tesla_zips = pd.merge(tesla_grouped, zips, on='zip')"
   ]
  },
  {
   "cell_type": "markdown",
   "metadata": {},
   "source": [
    "### Rename the columns"
   ]
  },
  {
   "cell_type": "code",
   "execution_count": 59,
   "metadata": {},
   "outputs": [],
   "source": [
    "tesla_zips.rename(columns={'median': 'income','zip': 'zip', 'vehicles_x':'teslas', 'vehicles_y':'all_vehicles'}, inplace=True)"
   ]
  },
  {
   "cell_type": "markdown",
   "metadata": {},
   "source": [
    "### Normalize Tesla ownership to a rate per 1,000 vehicles"
   ]
  },
  {
   "cell_type": "code",
   "execution_count": 60,
   "metadata": {},
   "outputs": [],
   "source": [
    "tesla_zips['tesla_rate'] = ((tesla_zips.teslas / tesla_zips.all_vehicles) * 1000).round(2)"
   ]
  },
  {
   "cell_type": "code",
   "execution_count": 61,
   "metadata": {},
   "outputs": [
    {
     "data": {
      "text/html": [
       "<div>\n",
       "<style scoped>\n",
       "    .dataframe tbody tr th:only-of-type {\n",
       "        vertical-align: middle;\n",
       "    }\n",
       "\n",
       "    .dataframe tbody tr th {\n",
       "        vertical-align: top;\n",
       "    }\n",
       "\n",
       "    .dataframe thead th {\n",
       "        text-align: right;\n",
       "    }\n",
       "</style>\n",
       "<table border=\"1\" class=\"dataframe\">\n",
       "  <thead>\n",
       "    <tr style=\"text-align: right;\">\n",
       "      <th></th>\n",
       "      <th>zip</th>\n",
       "      <th>teslas</th>\n",
       "      <th>objectid</th>\n",
       "      <th>po_name</th>\n",
       "      <th>pop2012</th>\n",
       "      <th>white</th>\n",
       "      <th>black</th>\n",
       "      <th>ameri_es</th>\n",
       "      <th>asian</th>\n",
       "      <th>hawn_pi</th>\n",
       "      <th>hispanic</th>\n",
       "      <th>other</th>\n",
       "      <th>mult_race</th>\n",
       "      <th>med_age</th>\n",
       "      <th>ave_hh_sz</th>\n",
       "      <th>marhh_chd</th>\n",
       "      <th>families</th>\n",
       "      <th>ave_fam_sz</th>\n",
       "      <th>hse_units</th>\n",
       "      <th>sqmi</th>\n",
       "      <th>geometry</th>\n",
       "      <th>all_vehicles</th>\n",
       "      <th>tesla_rate</th>\n",
       "    </tr>\n",
       "  </thead>\n",
       "  <tbody>\n",
       "    <tr>\n",
       "      <th>451</th>\n",
       "      <td>94027</td>\n",
       "      <td>420</td>\n",
       "      <td>4805</td>\n",
       "      <td>Atherton</td>\n",
       "      <td>6887</td>\n",
       "      <td>5858</td>\n",
       "      <td>84</td>\n",
       "      <td>9</td>\n",
       "      <td>909</td>\n",
       "      <td>49</td>\n",
       "      <td>438</td>\n",
       "      <td>178</td>\n",
       "      <td>238</td>\n",
       "      <td>47.60</td>\n",
       "      <td>2.74</td>\n",
       "      <td>742</td>\n",
       "      <td>2020</td>\n",
       "      <td>3.01</td>\n",
       "      <td>2746</td>\n",
       "      <td>5.20</td>\n",
       "      <td>POLYGON ((-122.208957291495 37.4672327274469, ...</td>\n",
       "      <td>5167</td>\n",
       "      <td>81.29</td>\n",
       "    </tr>\n",
       "    <tr>\n",
       "      <th>448</th>\n",
       "      <td>94022</td>\n",
       "      <td>934</td>\n",
       "      <td>4823</td>\n",
       "      <td>Los Altos</td>\n",
       "      <td>19458</td>\n",
       "      <td>13862</td>\n",
       "      <td>100</td>\n",
       "      <td>28</td>\n",
       "      <td>4563</td>\n",
       "      <td>42</td>\n",
       "      <td>705</td>\n",
       "      <td>160</td>\n",
       "      <td>759</td>\n",
       "      <td>48.10</td>\n",
       "      <td>2.59</td>\n",
       "      <td>2230</td>\n",
       "      <td>5601</td>\n",
       "      <td>3.02</td>\n",
       "      <td>7899</td>\n",
       "      <td>14.90</td>\n",
       "      <td>POLYGON ((-122.117916343573 37.404506340021, -...</td>\n",
       "      <td>13944</td>\n",
       "      <td>66.98</td>\n",
       "    </tr>\n",
       "    <tr>\n",
       "      <th>492</th>\n",
       "      <td>94301</td>\n",
       "      <td>584</td>\n",
       "      <td>4832</td>\n",
       "      <td>Palo Alto</td>\n",
       "      <td>17187</td>\n",
       "      <td>12999</td>\n",
       "      <td>317</td>\n",
       "      <td>25</td>\n",
       "      <td>2847</td>\n",
       "      <td>28</td>\n",
       "      <td>864</td>\n",
       "      <td>260</td>\n",
       "      <td>725</td>\n",
       "      <td>43.00</td>\n",
       "      <td>2.22</td>\n",
       "      <td>1676</td>\n",
       "      <td>4136</td>\n",
       "      <td>2.95</td>\n",
       "      <td>8141</td>\n",
       "      <td>2.40</td>\n",
       "      <td>POLYGON ((-122.145010906546 37.4582327046061, ...</td>\n",
       "      <td>9547</td>\n",
       "      <td>61.17</td>\n",
       "    </tr>\n",
       "    <tr>\n",
       "      <th>338</th>\n",
       "      <td>92657</td>\n",
       "      <td>459</td>\n",
       "      <td>6202</td>\n",
       "      <td>Newport Coast</td>\n",
       "      <td>10994</td>\n",
       "      <td>8184</td>\n",
       "      <td>62</td>\n",
       "      <td>12</td>\n",
       "      <td>1928</td>\n",
       "      <td>3</td>\n",
       "      <td>575</td>\n",
       "      <td>127</td>\n",
       "      <td>514</td>\n",
       "      <td>43.40</td>\n",
       "      <td>2.60</td>\n",
       "      <td>1198</td>\n",
       "      <td>3095</td>\n",
       "      <td>3.03</td>\n",
       "      <td>4573</td>\n",
       "      <td>9.00</td>\n",
       "      <td>POLYGON ((-117.842441825763 33.6308936103415, ...</td>\n",
       "      <td>8347</td>\n",
       "      <td>54.99</td>\n",
       "    </tr>\n",
       "    <tr>\n",
       "      <th>452</th>\n",
       "      <td>94028</td>\n",
       "      <td>254</td>\n",
       "      <td>4806</td>\n",
       "      <td>Portola Valley</td>\n",
       "      <td>6720</td>\n",
       "      <td>5721</td>\n",
       "      <td>21</td>\n",
       "      <td>10</td>\n",
       "      <td>378</td>\n",
       "      <td>2</td>\n",
       "      <td>295</td>\n",
       "      <td>87</td>\n",
       "      <td>177</td>\n",
       "      <td>50.00</td>\n",
       "      <td>2.53</td>\n",
       "      <td>689</td>\n",
       "      <td>1846</td>\n",
       "      <td>2.95</td>\n",
       "      <td>2677</td>\n",
       "      <td>13.80</td>\n",
       "      <td>POLYGON ((-122.240867283136 37.411621809504, -...</td>\n",
       "      <td>4887</td>\n",
       "      <td>51.97</td>\n",
       "    </tr>\n",
       "  </tbody>\n",
       "</table>\n",
       "</div>"
      ],
      "text/plain": [
       "       zip  teslas  objectid         po_name  pop2012  white  black  ameri_es  \\\n",
       "451  94027     420      4805        Atherton     6887   5858     84         9   \n",
       "448  94022     934      4823       Los Altos    19458  13862    100        28   \n",
       "492  94301     584      4832       Palo Alto    17187  12999    317        25   \n",
       "338  92657     459      6202   Newport Coast    10994   8184     62        12   \n",
       "452  94028     254      4806  Portola Valley     6720   5721     21        10   \n",
       "\n",
       "     asian  hawn_pi  hispanic  other  mult_race  med_age  ave_hh_sz  \\\n",
       "451    909       49       438    178        238    47.60       2.74   \n",
       "448   4563       42       705    160        759    48.10       2.59   \n",
       "492   2847       28       864    260        725    43.00       2.22   \n",
       "338   1928        3       575    127        514    43.40       2.60   \n",
       "452    378        2       295     87        177    50.00       2.53   \n",
       "\n",
       "     marhh_chd  families  ave_fam_sz  hse_units  sqmi  \\\n",
       "451        742      2020        3.01       2746  5.20   \n",
       "448       2230      5601        3.02       7899 14.90   \n",
       "492       1676      4136        2.95       8141  2.40   \n",
       "338       1198      3095        3.03       4573  9.00   \n",
       "452        689      1846        2.95       2677 13.80   \n",
       "\n",
       "                                              geometry  all_vehicles  \\\n",
       "451  POLYGON ((-122.208957291495 37.4672327274469, ...          5167   \n",
       "448  POLYGON ((-122.117916343573 37.404506340021, -...         13944   \n",
       "492  POLYGON ((-122.145010906546 37.4582327046061, ...          9547   \n",
       "338  POLYGON ((-117.842441825763 33.6308936103415, ...          8347   \n",
       "452  POLYGON ((-122.240867283136 37.411621809504, -...          4887   \n",
       "\n",
       "     tesla_rate  \n",
       "451       81.29  \n",
       "448       66.98  \n",
       "492       61.17  \n",
       "338       54.99  \n",
       "452       51.97  "
      ]
     },
     "execution_count": 61,
     "metadata": {},
     "output_type": "execute_result"
    }
   ],
   "source": [
    "tesla_zips.sort_values(by='tesla_rate', ascending=False).head()"
   ]
  },
  {
   "cell_type": "code",
   "execution_count": 62,
   "metadata": {},
   "outputs": [
    {
     "data": {
      "text/plain": [
       "[0.26, 4.22, 9.51, 16.6, 28.33, 45.02, 81.29]"
      ]
     },
     "execution_count": 62,
     "metadata": {},
     "output_type": "execute_result"
    }
   ],
   "source": [
    "tesla_breaks \\\n",
    "= jenkspy.jenks_breaks(tesla_zips.tesla_rate, nb_class=6)\n",
    "tesla_breaks"
   ]
  },
  {
   "cell_type": "code",
   "execution_count": 63,
   "metadata": {},
   "outputs": [],
   "source": [
    "tesla_zips.to_csv('output/tesla_zips.csv')"
   ]
  },
  {
   "cell_type": "code",
   "execution_count": 64,
   "metadata": {},
   "outputs": [],
   "source": [
    "tesla_zips_slim = pd.DataFrame(tesla_zips[['zip','teslas','tesla_rate']])"
   ]
  },
  {
   "cell_type": "markdown",
   "metadata": {},
   "source": [
    "### How predictive is income  "
   ]
  },
  {
   "cell_type": "code",
   "execution_count": 65,
   "metadata": {
    "scrolled": true
   },
   "outputs": [],
   "source": [
    "# tesla_zips.head()"
   ]
  },
  {
   "cell_type": "code",
   "execution_count": 66,
   "metadata": {},
   "outputs": [],
   "source": [
    "# tesla_zips_corr = tesla_zips[['tesla_rate', 'income']]"
   ]
  },
  {
   "cell_type": "code",
   "execution_count": 67,
   "metadata": {},
   "outputs": [],
   "source": [
    "# corr = tesla_zips_corr.corr(method ='pearson')"
   ]
  },
  {
   "cell_type": "code",
   "execution_count": 68,
   "metadata": {},
   "outputs": [],
   "source": [
    "# print(corr)"
   ]
  },
  {
   "cell_type": "code",
   "execution_count": 69,
   "metadata": {},
   "outputs": [],
   "source": [
    "# alt.Chart(tesla_zips).mark_circle(size=60).encode(\n",
    "#     x=alt.X('tesla_rate:Q', title='Tesla rate per 1,000 vehicles', axis=alt.Axis(tickCount=6)),\n",
    "#     y=alt.Y('income:Q', title='Median household income', axis=alt.Axis(tickCount=5, format='$,n')),\n",
    "#     tooltip=['zip:N', 'teslas:O', 'income:Q', 'tesla_rate:Q']\n",
    "# ).properties(width=500, height=500)"
   ]
  },
  {
   "cell_type": "markdown",
   "metadata": {},
   "source": [
    "---"
   ]
  },
  {
   "cell_type": "markdown",
   "metadata": {},
   "source": [
    "### Group by model year. Which years have the most vehicles? "
   ]
  },
  {
   "cell_type": "code",
   "execution_count": 70,
   "metadata": {},
   "outputs": [],
   "source": [
    "model_year = vehicles.groupby(['model_year']).agg('sum').reset_index()"
   ]
  },
  {
   "cell_type": "code",
   "execution_count": 71,
   "metadata": {},
   "outputs": [
    {
     "data": {
      "text/html": [
       "<div>\n",
       "<style scoped>\n",
       "    .dataframe tbody tr th:only-of-type {\n",
       "        vertical-align: middle;\n",
       "    }\n",
       "\n",
       "    .dataframe tbody tr th {\n",
       "        vertical-align: top;\n",
       "    }\n",
       "\n",
       "    .dataframe thead th {\n",
       "        text-align: right;\n",
       "    }\n",
       "</style>\n",
       "<table border=\"1\" class=\"dataframe\">\n",
       "  <thead>\n",
       "    <tr style=\"text-align: right;\">\n",
       "      <th></th>\n",
       "      <th>model_year</th>\n",
       "      <th>vehicles</th>\n",
       "    </tr>\n",
       "  </thead>\n",
       "  <tbody>\n",
       "    <tr>\n",
       "      <th>12</th>\n",
       "      <td>2018</td>\n",
       "      <td>1572034</td>\n",
       "    </tr>\n",
       "    <tr>\n",
       "      <th>11</th>\n",
       "      <td>2017</td>\n",
       "      <td>2141868</td>\n",
       "    </tr>\n",
       "    <tr>\n",
       "      <th>10</th>\n",
       "      <td>2016</td>\n",
       "      <td>2072606</td>\n",
       "    </tr>\n",
       "    <tr>\n",
       "      <th>9</th>\n",
       "      <td>2015</td>\n",
       "      <td>2002628</td>\n",
       "    </tr>\n",
       "    <tr>\n",
       "      <th>8</th>\n",
       "      <td>2014</td>\n",
       "      <td>1677875</td>\n",
       "    </tr>\n",
       "    <tr>\n",
       "      <th>7</th>\n",
       "      <td>2013</td>\n",
       "      <td>1644620</td>\n",
       "    </tr>\n",
       "    <tr>\n",
       "      <th>6</th>\n",
       "      <td>2012</td>\n",
       "      <td>1354947</td>\n",
       "    </tr>\n",
       "    <tr>\n",
       "      <th>5</th>\n",
       "      <td>2011</td>\n",
       "      <td>1101920</td>\n",
       "    </tr>\n",
       "    <tr>\n",
       "      <th>4</th>\n",
       "      <td>2010</td>\n",
       "      <td>996703</td>\n",
       "    </tr>\n",
       "    <tr>\n",
       "      <th>3</th>\n",
       "      <td>2009</td>\n",
       "      <td>834319</td>\n",
       "    </tr>\n",
       "    <tr>\n",
       "      <th>2</th>\n",
       "      <td>2008</td>\n",
       "      <td>1220887</td>\n",
       "    </tr>\n",
       "    <tr>\n",
       "      <th>1</th>\n",
       "      <td>2007</td>\n",
       "      <td>1445939</td>\n",
       "    </tr>\n",
       "    <tr>\n",
       "      <th>0</th>\n",
       "      <td>2006</td>\n",
       "      <td>1419253</td>\n",
       "    </tr>\n",
       "  </tbody>\n",
       "</table>\n",
       "</div>"
      ],
      "text/plain": [
       "   model_year  vehicles\n",
       "12       2018   1572034\n",
       "11       2017   2141868\n",
       "10       2016   2072606\n",
       "9        2015   2002628\n",
       "8        2014   1677875\n",
       "7        2013   1644620\n",
       "6        2012   1354947\n",
       "5        2011   1101920\n",
       "4        2010    996703\n",
       "3        2009    834319\n",
       "2        2008   1220887\n",
       "1        2007   1445939\n",
       "0        2006   1419253"
      ]
     },
     "execution_count": 71,
     "metadata": {},
     "output_type": "execute_result"
    }
   ],
   "source": [
    "model_year.sort_values(by='model_year', ascending=False)"
   ]
  },
  {
   "cell_type": "code",
   "execution_count": 72,
   "metadata": {},
   "outputs": [
    {
     "data": {
      "application/javascript": [
       "const spec = {\"config\": {\"view\": {\"width\": 800, \"height\": 450}, \"background\": \"#ffffff\", \"title\": {\"anchor\": \"start\", \"font\": \"Benton Gothic Bold, sans\", \"fontColor\": \"#000000\", \"fontSize\": 22, \"fontWeight\": \"normal\"}, \"arc\": {\"fill\": \"#82c6df\"}, \"area\": {\"fill\": \"#82c6df\"}, \"line\": {\"stroke\": \"#82c6df\", \"strokeWidth\": 3}, \"path\": {\"stroke\": \"#82c6df\"}, \"rect\": {\"fill\": \"#82c6df\"}, \"shape\": {\"stroke\": \"#82c6df\"}, \"bar\": {\"fill\": \"#82c6df\"}, \"point\": {\"stroke\": \"#82c6df\"}, \"symbol\": {\"fill\": \"#82c6df\", \"size\": 30}, \"axis\": {\"titleFont\": \"Benton Gothic Bold, sans\", \"titleFontSize\": 13, \"titleFontWeight\": \"normal\", \"labelFont\": \"Benton Gothic, sans\", \"labelFontSize\": 11.5, \"labelFontWeight\": \"normal\"}, \"axisX\": {\"labelAngle\": 0, \"labelPadding\": 4, \"tickSize\": 3}, \"axisY\": {\"labelBaseline\": \"middle\", \"maxExtent\": 45, \"minExtent\": 45, \"tickSize\": 2, \"titleAlign\": \"left\", \"titleAngle\": 0, \"titleX\": -45, \"titleY\": -11}, \"legend\": {\"titleFont\": \"Benton Gothic Bold, sans\", \"titleFontSize\": 13, \"titleFontWeight\": \"normal\", \"symbolType\": \"square\", \"labelFont\": \"Benton Gothic, sans\", \"labelFontSize\": 11.5}, \"range\": {\"category\": [\"#3580b1\", \"#ec8431\", \"#ab7fb4\", \"#c89d29\", \"#adc839\", \"#829eb1\"], \"diverging\": [\"#e68a4f\", \"#f4bb6a\", \"#f9e39c\", \"#dadfe2\", \"#a6b7c6\", \"#849eae\"], \"heatmap\": [\"#fbf2c7\", \"#f9e39c\", \"#f8d36e\", \"#f4bb6a\", \"#e68a4f\", \"#d15a40\", \"#ab4232\"], \"ordinal\": [\"#fbf2c7\", \"#f9e39c\", \"#f8d36e\", \"#f4bb6a\", \"#e68a4f\", \"#d15a40\", \"#ab4232\"], \"ramp\": [\"#fbf2c7\", \"#f9e39c\", \"#f8d36e\", \"#f4bb6a\", \"#e68a4f\", \"#d15a40\", \"#ab4232\"]}}, \"layer\": [{\"mark\": \"bar\", \"encoding\": {\"x\": {\"type\": \"quantitative\", \"axis\": {\"format\": \"\", \"tickCount\": 5}, \"field\": \"vehicles\", \"title\": \"Vehicles\"}, \"y\": {\"type\": \"nominal\", \"axis\": {\"format\": \"\", \"tickCount\": 5}, \"field\": \"model_year\", \"title\": \" \"}}}, {\"mark\": {\"type\": \"text\", \"align\": \"left\", \"baseline\": \"middle\", \"dx\": 5}, \"encoding\": {\"text\": {\"type\": \"quantitative\", \"field\": \"vehicles\", \"format\": \",\"}, \"x\": {\"type\": \"quantitative\", \"axis\": {\"format\": \"\", \"tickCount\": 5}, \"field\": \"vehicles\", \"title\": \"Vehicles\"}, \"y\": {\"type\": \"nominal\", \"axis\": {\"format\": \"\", \"tickCount\": 5}, \"field\": \"model_year\", \"title\": \" \"}}}], \"data\": {\"name\": \"data-c00eb73d36c79d93e77f210f61c3f4e1\"}, \"height\": 500, \"title\": \"California vehicles, by model year\", \"width\": 700, \"$schema\": \"https://vega.github.io/schema/vega-lite/v3.4.0.json\", \"datasets\": {\"data-c00eb73d36c79d93e77f210f61c3f4e1\": [{\"model_year\": \"2006\", \"vehicles\": 1419253}, {\"model_year\": \"2007\", \"vehicles\": 1445939}, {\"model_year\": \"2008\", \"vehicles\": 1220887}, {\"model_year\": \"2009\", \"vehicles\": 834319}, {\"model_year\": \"2010\", \"vehicles\": 996703}, {\"model_year\": \"2011\", \"vehicles\": 1101920}, {\"model_year\": \"2012\", \"vehicles\": 1354947}, {\"model_year\": \"2013\", \"vehicles\": 1644620}, {\"model_year\": \"2014\", \"vehicles\": 1677875}, {\"model_year\": \"2015\", \"vehicles\": 2002628}, {\"model_year\": \"2016\", \"vehicles\": 2072606}, {\"model_year\": \"2017\", \"vehicles\": 2141868}, {\"model_year\": \"2018\", \"vehicles\": 1572034}]}};\n",
       "const opt = {};\n",
       "const type = \"vega-lite\";\n",
       "const id = \"45b0dd55-6192-4d94-9ab8-a8f1546166ad\";\n",
       "\n",
       "const output_area = this;\n",
       "\n",
       "require([\"nbextensions/jupyter-vega/index\"], function(vega) {\n",
       "  const target = document.createElement(\"div\");\n",
       "  target.id = id;\n",
       "  target.className = \"vega-embed\";\n",
       "\n",
       "  const style = document.createElement(\"style\");\n",
       "  style.textContent = [\n",
       "    \".vega-embed .error p {\",\n",
       "    \"  color: firebrick;\",\n",
       "    \"  font-size: 14px;\",\n",
       "    \"}\",\n",
       "  ].join(\"\\\\n\");\n",
       "\n",
       "  // element is a jQuery wrapped DOM element inside the output area\n",
       "  // see http://ipython.readthedocs.io/en/stable/api/generated/\\\n",
       "  // IPython.display.html#IPython.display.Javascript.__init__\n",
       "  element[0].appendChild(target);\n",
       "  element[0].appendChild(style);\n",
       "\n",
       "  vega.render(\"#\" + id, spec, type, opt, output_area);\n",
       "}, function (err) {\n",
       "  if (err.requireType !== \"scripterror\") {\n",
       "    throw(err);\n",
       "  }\n",
       "});\n"
      ],
      "text/plain": [
       "<vega.vegalite.VegaLite at 0x12789d0f0>"
      ]
     },
     "metadata": {
      "jupyter-vega": "#45b0dd55-6192-4d94-9ab8-a8f1546166ad"
     },
     "output_type": "display_data"
    },
    {
     "data": {
      "text/plain": []
     },
     "execution_count": 72,
     "metadata": {},
     "output_type": "execute_result"
    },
    {
     "data": {
      "image/png": "[encoded data removed]"
     },
     "metadata": {
      "jupyter-vega": "#45b0dd55-6192-4d94-9ab8-a8f1546166ad"
     },
     "output_type": "display_data"
    }
   ],
   "source": [
    "model_year_chart = alt.Chart(model_year).mark_bar().encode(\n",
    ").mark_bar().encode(\n",
    "    y=alt.Y('model_year:N', title=\" \", axis=alt.Axis(format='', tickCount=5)),\n",
    "    x=alt.X(\"vehicles:Q\", title=\"Vehicles\", axis=alt.Axis(format='', tickCount=5))\n",
    ")\n",
    "\n",
    "model_year_chart_text = model_year_chart.mark_text(\n",
    "    align='left',\n",
    "    baseline='middle',\n",
    "    dx=5\n",
    ").encode(text=alt.Text('vehicles:Q', format=',')\n",
    ")\n",
    "\n",
    "(model_year_chart + model_year_chart_text).properties(height=500, width=700, title='California vehicles, by model year')"
   ]
  },
  {
   "cell_type": "markdown",
   "metadata": {},
   "source": [
    "### Export model year table for graphics"
   ]
  },
  {
   "cell_type": "code",
   "execution_count": 73,
   "metadata": {},
   "outputs": [],
   "source": [
    "model_year.to_csv('output/model_year.csv')"
   ]
  },
  {
   "cell_type": "markdown",
   "metadata": {},
   "source": [
    "### Which types of alternative fuel models are most common?"
   ]
  },
  {
   "cell_type": "code",
   "execution_count": 74,
   "metadata": {},
   "outputs": [],
   "source": [
    "fuel = vehicles.groupby(['fuel']).agg('sum').reset_index()"
   ]
  },
  {
   "cell_type": "code",
   "execution_count": 75,
   "metadata": {},
   "outputs": [
    {
     "data": {
      "text/html": [
       "<div>\n",
       "<style scoped>\n",
       "    .dataframe tbody tr th:only-of-type {\n",
       "        vertical-align: middle;\n",
       "    }\n",
       "\n",
       "    .dataframe tbody tr th {\n",
       "        vertical-align: top;\n",
       "    }\n",
       "\n",
       "    .dataframe thead th {\n",
       "        text-align: right;\n",
       "    }\n",
       "</style>\n",
       "<table border=\"1\" class=\"dataframe\">\n",
       "  <thead>\n",
       "    <tr style=\"text-align: right;\">\n",
       "      <th></th>\n",
       "      <th>fuel</th>\n",
       "      <th>vehicles</th>\n",
       "    </tr>\n",
       "  </thead>\n",
       "  <tbody>\n",
       "    <tr>\n",
       "      <th>0</th>\n",
       "      <td>Battery Electric</td>\n",
       "      <td>214671</td>\n",
       "    </tr>\n",
       "    <tr>\n",
       "      <th>1</th>\n",
       "      <td>Diesel and Diesel Hybrid</td>\n",
       "      <td>753609</td>\n",
       "    </tr>\n",
       "    <tr>\n",
       "      <th>2</th>\n",
       "      <td>Flex-Fuel</td>\n",
       "      <td>1018550</td>\n",
       "    </tr>\n",
       "    <tr>\n",
       "      <th>3</th>\n",
       "      <td>Gasoline</td>\n",
       "      <td>16271687</td>\n",
       "    </tr>\n",
       "    <tr>\n",
       "      <th>4</th>\n",
       "      <td>Hybrid Gasoline</td>\n",
       "      <td>994696</td>\n",
       "    </tr>\n",
       "    <tr>\n",
       "      <th>5</th>\n",
       "      <td>Hydrogen Fuel Cell</td>\n",
       "      <td>5092</td>\n",
       "    </tr>\n",
       "    <tr>\n",
       "      <th>6</th>\n",
       "      <td>Natural Gas</td>\n",
       "      <td>22968</td>\n",
       "    </tr>\n",
       "    <tr>\n",
       "      <th>7</th>\n",
       "      <td>Other</td>\n",
       "      <td>2357</td>\n",
       "    </tr>\n",
       "    <tr>\n",
       "      <th>8</th>\n",
       "      <td>Plug-in Hybrid</td>\n",
       "      <td>201969</td>\n",
       "    </tr>\n",
       "  </tbody>\n",
       "</table>\n",
       "</div>"
      ],
      "text/plain": [
       "                       fuel  vehicles\n",
       "0          Battery Electric    214671\n",
       "1  Diesel and Diesel Hybrid    753609\n",
       "2                 Flex-Fuel   1018550\n",
       "3                  Gasoline  16271687\n",
       "4           Hybrid Gasoline    994696\n",
       "5        Hydrogen Fuel Cell      5092\n",
       "6               Natural Gas     22968\n",
       "7                     Other      2357\n",
       "8            Plug-in Hybrid    201969"
      ]
     },
     "execution_count": 75,
     "metadata": {},
     "output_type": "execute_result"
    }
   ],
   "source": [
    "fuel.head(9)"
   ]
  },
  {
   "cell_type": "code",
   "execution_count": 76,
   "metadata": {},
   "outputs": [
    {
     "data": {
      "text/plain": [
       "['Battery Electric',\n",
       " 'Diesel and Diesel Hybrid',\n",
       " 'Flex-Fuel',\n",
       " 'Gasoline',\n",
       " 'Hybrid Gasoline',\n",
       " 'Hydrogen Fuel Cell',\n",
       " 'Natural Gas',\n",
       " 'Other',\n",
       " 'Plug-in Hybrid']"
      ]
     },
     "execution_count": 76,
     "metadata": {},
     "output_type": "execute_result"
    }
   ],
   "source": [
    "fuel.fuel.tolist()"
   ]
  },
  {
   "cell_type": "code",
   "execution_count": 77,
   "metadata": {},
   "outputs": [
    {
     "data": {
      "text/plain": [
       "'19,038,542'"
      ]
     },
     "execution_count": 77,
     "metadata": {},
     "output_type": "execute_result"
    }
   ],
   "source": [
    "# Diesel and Diesel Hybrid + Flex-Fuel + Gasoline + Hybrid Gasoline\n",
    "'{:,.0f}'.format((fuel.iloc[1,1] + fuel.iloc[2,1] + fuel.iloc[3,1] + fuel.iloc[4,1]))"
   ]
  },
  {
   "cell_type": "markdown",
   "metadata": {},
   "source": [
    "# Chart the fuel type counts"
   ]
  },
  {
   "cell_type": "code",
   "execution_count": 78,
   "metadata": {},
   "outputs": [
    {
     "data": {
      "application/javascript": [
       "const spec = {\"config\": {\"view\": {\"width\": 800, \"height\": 450}, \"background\": \"#ffffff\", \"title\": {\"anchor\": \"start\", \"font\": \"Benton Gothic Bold, sans\", \"fontColor\": \"#000000\", \"fontSize\": 22, \"fontWeight\": \"normal\"}, \"arc\": {\"fill\": \"#82c6df\"}, \"area\": {\"fill\": \"#82c6df\"}, \"line\": {\"stroke\": \"#82c6df\", \"strokeWidth\": 3}, \"path\": {\"stroke\": \"#82c6df\"}, \"rect\": {\"fill\": \"#82c6df\"}, \"shape\": {\"stroke\": \"#82c6df\"}, \"bar\": {\"fill\": \"#82c6df\"}, \"point\": {\"stroke\": \"#82c6df\"}, \"symbol\": {\"fill\": \"#82c6df\", \"size\": 30}, \"axis\": {\"titleFont\": \"Benton Gothic Bold, sans\", \"titleFontSize\": 13, \"titleFontWeight\": \"normal\", \"labelFont\": \"Benton Gothic, sans\", \"labelFontSize\": 11.5, \"labelFontWeight\": \"normal\"}, \"axisX\": {\"labelAngle\": 0, \"labelPadding\": 4, \"tickSize\": 3}, \"axisY\": {\"labelBaseline\": \"middle\", \"maxExtent\": 45, \"minExtent\": 45, \"tickSize\": 2, \"titleAlign\": \"left\", \"titleAngle\": 0, \"titleX\": -45, \"titleY\": -11}, \"legend\": {\"titleFont\": \"Benton Gothic Bold, sans\", \"titleFontSize\": 13, \"titleFontWeight\": \"normal\", \"symbolType\": \"square\", \"labelFont\": \"Benton Gothic, sans\", \"labelFontSize\": 11.5}, \"range\": {\"category\": [\"#3580b1\", \"#ec8431\", \"#ab7fb4\", \"#c89d29\", \"#adc839\", \"#829eb1\"], \"diverging\": [\"#e68a4f\", \"#f4bb6a\", \"#f9e39c\", \"#dadfe2\", \"#a6b7c6\", \"#849eae\"], \"heatmap\": [\"#fbf2c7\", \"#f9e39c\", \"#f8d36e\", \"#f4bb6a\", \"#e68a4f\", \"#d15a40\", \"#ab4232\"], \"ordinal\": [\"#fbf2c7\", \"#f9e39c\", \"#f8d36e\", \"#f4bb6a\", \"#e68a4f\", \"#d15a40\", \"#ab4232\"], \"ramp\": [\"#fbf2c7\", \"#f9e39c\", \"#f8d36e\", \"#f4bb6a\", \"#e68a4f\", \"#d15a40\", \"#ab4232\"]}}, \"layer\": [{\"mark\": \"bar\", \"encoding\": {\"x\": {\"type\": \"quantitative\", \"aggregate\": \"sum\", \"axis\": {\"format\": \"\", \"tickCount\": 5}, \"field\": \"vehicles\", \"title\": \"Vehicles\"}, \"y\": {\"type\": \"nominal\", \"axis\": {\"format\": \"\", \"tickCount\": 5}, \"field\": \"fuel\", \"sort\": {\"field\": \"vehicles\", \"op\": \"sum\", \"order\": \"descending\"}, \"title\": \" \"}}}, {\"mark\": {\"type\": \"text\", \"align\": \"left\", \"baseline\": \"middle\", \"dx\": 3}, \"encoding\": {\"text\": {\"type\": \"quantitative\", \"aggregate\": \"sum\", \"field\": \"vehicles\", \"format\": \",\"}, \"x\": {\"type\": \"quantitative\", \"aggregate\": \"sum\", \"axis\": {\"format\": \"\", \"tickCount\": 5}, \"field\": \"vehicles\", \"title\": \"Vehicles\"}, \"y\": {\"type\": \"nominal\", \"axis\": {\"format\": \"\", \"tickCount\": 5}, \"field\": \"fuel\", \"sort\": {\"field\": \"vehicles\", \"op\": \"sum\", \"order\": \"descending\"}, \"title\": \" \"}}}], \"data\": {\"name\": \"data-69f9fbc5e0288766fe456bd9c6346566\"}, \"height\": 400, \"title\": \"CA alternative fuel vehicles by type\", \"width\": 500, \"$schema\": \"https://vega.github.io/schema/vega-lite/v3.4.0.json\", \"datasets\": {\"data-69f9fbc5e0288766fe456bd9c6346566\": [{\"fuel\": \"Battery Electric\", \"vehicles\": 214671}, {\"fuel\": \"Diesel and Diesel Hybrid\", \"vehicles\": 753609}, {\"fuel\": \"Flex-Fuel\", \"vehicles\": 1018550}, {\"fuel\": \"Gasoline\", \"vehicles\": 16271687}, {\"fuel\": \"Hybrid Gasoline\", \"vehicles\": 994696}, {\"fuel\": \"Hydrogen Fuel Cell\", \"vehicles\": 5092}, {\"fuel\": \"Natural Gas\", \"vehicles\": 22968}, {\"fuel\": \"Other\", \"vehicles\": 2357}, {\"fuel\": \"Plug-in Hybrid\", \"vehicles\": 201969}]}};\n",
       "const opt = {};\n",
       "const type = \"vega-lite\";\n",
       "const id = \"a45a91ac-1bec-4387-895d-50c10baa4c35\";\n",
       "\n",
       "const output_area = this;\n",
       "\n",
       "require([\"nbextensions/jupyter-vega/index\"], function(vega) {\n",
       "  const target = document.createElement(\"div\");\n",
       "  target.id = id;\n",
       "  target.className = \"vega-embed\";\n",
       "\n",
       "  const style = document.createElement(\"style\");\n",
       "  style.textContent = [\n",
       "    \".vega-embed .error p {\",\n",
       "    \"  color: firebrick;\",\n",
       "    \"  font-size: 14px;\",\n",
       "    \"}\",\n",
       "  ].join(\"\\\\n\");\n",
       "\n",
       "  // element is a jQuery wrapped DOM element inside the output area\n",
       "  // see http://ipython.readthedocs.io/en/stable/api/generated/\\\n",
       "  // IPython.display.html#IPython.display.Javascript.__init__\n",
       "  element[0].appendChild(target);\n",
       "  element[0].appendChild(style);\n",
       "\n",
       "  vega.render(\"#\" + id, spec, type, opt, output_area);\n",
       "}, function (err) {\n",
       "  if (err.requireType !== \"scripterror\") {\n",
       "    throw(err);\n",
       "  }\n",
       "});\n"
      ],
      "text/plain": [
       "<vega.vegalite.VegaLite at 0x127884780>"
      ]
     },
     "metadata": {
      "jupyter-vega": "#a45a91ac-1bec-4387-895d-50c10baa4c35"
     },
     "output_type": "display_data"
    },
    {
     "data": {
      "text/plain": []
     },
     "execution_count": 78,
     "metadata": {},
     "output_type": "execute_result"
    },
    {
     "data": {
      "image/png": "[encoded data removed]"
     },
     "metadata": {
      "jupyter-vega": "#a45a91ac-1bec-4387-895d-50c10baa4c35"
     },
     "output_type": "display_data"
    }
   ],
   "source": [
    "chart_fuels = alt.Chart(fuel).mark_bar().encode(\n",
    "    y=alt.Y('fuel:N', title=' ',\n",
    "        sort=alt.EncodingSortField(\n",
    "            field=\"vehicles\",  # The field to use for the sort\n",
    "            op=\"sum\",  # The operation to run on the field prior to sorting\n",
    "            order=\"descending\"  # The order to sort in\n",
    "        ), axis=alt.Axis(format='', tickCount=5)),\n",
    "    x=alt.X(\"sum(vehicles):Q\", title=\"Vehicles\", axis=alt.Axis(format='', tickCount=5))\n",
    ")\n",
    "\n",
    "chart_fuels_text = chart_fuels.mark_text(\n",
    "    align='left',\n",
    "    baseline='middle',\n",
    "    dx=3  # Nudges text to right so it doesn't appear on top of the bar\n",
    ").encode(text=alt.Text('sum(vehicles)', format=',')\n",
    ")\n",
    "\n",
    "\n",
    "(chart_fuels + chart_fuels_text)\\\n",
    ".properties(height=400, width=500, title='CA alternative fuel vehicles by type')"
   ]
  },
  {
   "cell_type": "markdown",
   "metadata": {},
   "source": [
    "### Export fuel type count table for graphics"
   ]
  },
  {
   "cell_type": "code",
   "execution_count": 79,
   "metadata": {},
   "outputs": [],
   "source": [
    "fuel.to_csv('output/fuel.csv')"
   ]
  },
  {
   "cell_type": "markdown",
   "metadata": {},
   "source": [
    "--- "
   ]
  },
  {
   "cell_type": "markdown",
   "metadata": {},
   "source": [
    "## Where are these vehicles?"
   ]
  },
  {
   "cell_type": "code",
   "execution_count": 80,
   "metadata": {},
   "outputs": [],
   "source": [
    "zip_code = vehicles.groupby(['zip']).agg('sum').reset_index()"
   ]
  },
  {
   "cell_type": "code",
   "execution_count": 81,
   "metadata": {},
   "outputs": [],
   "source": [
    "zip_code_nongas = nongas.groupby(['zip']).agg('sum').reset_index()"
   ]
  },
  {
   "cell_type": "markdown",
   "metadata": {},
   "source": [
    "### Which ZIP codes have the most alternative fuel vehicles? (Airport areas, it seems)"
   ]
  },
  {
   "cell_type": "code",
   "execution_count": 82,
   "metadata": {},
   "outputs": [
    {
     "data": {
      "text/html": [
       "<div>\n",
       "<style scoped>\n",
       "    .dataframe tbody tr th:only-of-type {\n",
       "        vertical-align: middle;\n",
       "    }\n",
       "\n",
       "    .dataframe tbody tr th {\n",
       "        vertical-align: top;\n",
       "    }\n",
       "\n",
       "    .dataframe thead th {\n",
       "        text-align: right;\n",
       "    }\n",
       "</style>\n",
       "<table border=\"1\" class=\"dataframe\">\n",
       "  <thead>\n",
       "    <tr style=\"text-align: right;\">\n",
       "      <th></th>\n",
       "      <th>zip</th>\n",
       "      <th>vehicles</th>\n",
       "    </tr>\n",
       "  </thead>\n",
       "  <tbody>\n",
       "    <tr>\n",
       "      <th>44</th>\n",
       "      <td>90045</td>\n",
       "      <td>18010</td>\n",
       "    </tr>\n",
       "    <tr>\n",
       "      <th>1476</th>\n",
       "      <td>94080</td>\n",
       "      <td>10747</td>\n",
       "    </tr>\n",
       "    <tr>\n",
       "      <th>904</th>\n",
       "      <td>92626</td>\n",
       "      <td>10514</td>\n",
       "    </tr>\n",
       "    <tr>\n",
       "      <th>1017</th>\n",
       "      <td>92868</td>\n",
       "      <td>9989</td>\n",
       "    </tr>\n",
       "    <tr>\n",
       "      <th>11</th>\n",
       "      <td>90012</td>\n",
       "      <td>9493</td>\n",
       "    </tr>\n",
       "    <tr>\n",
       "      <th>1170</th>\n",
       "      <td>93308</td>\n",
       "      <td>9377</td>\n",
       "    </tr>\n",
       "    <tr>\n",
       "      <th>756</th>\n",
       "      <td>92335</td>\n",
       "      <td>8906</td>\n",
       "    </tr>\n",
       "    <tr>\n",
       "      <th>1438</th>\n",
       "      <td>94010</td>\n",
       "      <td>8822</td>\n",
       "    </tr>\n",
       "    <tr>\n",
       "      <th>417</th>\n",
       "      <td>91710</td>\n",
       "      <td>8724</td>\n",
       "    </tr>\n",
       "    <tr>\n",
       "      <th>592</th>\n",
       "      <td>92101</td>\n",
       "      <td>8457</td>\n",
       "    </tr>\n",
       "  </tbody>\n",
       "</table>\n",
       "</div>"
      ],
      "text/plain": [
       "        zip  vehicles\n",
       "44    90045     18010\n",
       "1476  94080     10747\n",
       "904   92626     10514\n",
       "1017  92868      9989\n",
       "11    90012      9493\n",
       "1170  93308      9377\n",
       "756   92335      8906\n",
       "1438  94010      8822\n",
       "417   91710      8724\n",
       "592   92101      8457"
      ]
     },
     "execution_count": 82,
     "metadata": {},
     "output_type": "execute_result"
    }
   ],
   "source": [
    "zip_code_nongas.sort_values(by='vehicles',\\\n",
    "    ascending=False).head(10)"
   ]
  },
  {
   "cell_type": "markdown",
   "metadata": {},
   "source": [
    "### Pivot on ZIP code and widen out the dataframe to count vehicle types across them"
   ]
  },
  {
   "cell_type": "code",
   "execution_count": 83,
   "metadata": {},
   "outputs": [],
   "source": [
    "sum_by_zip = pd.pivot_table(vehicles, values='vehicles', \\\n",
    "                            index=['zip'], columns=['fuel'], aggfunc=np.sum, fill_value=0).reset_index()\n",
    "\n",
    "sum_by_zip.columns = sum_by_zip.columns.str.strip().str.lower().str.replace(' ', '_')\\\n",
    "                    .str.replace('(', '').str.replace(')', '').str.replace('-','_')"
   ]
  },
  {
   "cell_type": "markdown",
   "metadata": {},
   "source": [
    "### Which type is most common in each ZIP code? "
   ]
  },
  {
   "cell_type": "code",
   "execution_count": 84,
   "metadata": {},
   "outputs": [],
   "source": [
    "sum_by_zip[\"total\"] = sum_by_zip.sum(axis=1)"
   ]
  },
  {
   "cell_type": "code",
   "execution_count": 85,
   "metadata": {},
   "outputs": [
    {
     "data": {
      "text/html": [
       "<div>\n",
       "<style scoped>\n",
       "    .dataframe tbody tr th:only-of-type {\n",
       "        vertical-align: middle;\n",
       "    }\n",
       "\n",
       "    .dataframe tbody tr th {\n",
       "        vertical-align: top;\n",
       "    }\n",
       "\n",
       "    .dataframe thead th {\n",
       "        text-align: right;\n",
       "    }\n",
       "</style>\n",
       "<table border=\"1\" class=\"dataframe\">\n",
       "  <thead>\n",
       "    <tr style=\"text-align: right;\">\n",
       "      <th>fuel</th>\n",
       "      <th>zip</th>\n",
       "      <th>battery_electric</th>\n",
       "      <th>diesel_and_diesel_hybrid</th>\n",
       "      <th>flex_fuel</th>\n",
       "      <th>gasoline</th>\n",
       "      <th>hybrid_gasoline</th>\n",
       "      <th>hydrogen_fuel_cell</th>\n",
       "      <th>natural_gas</th>\n",
       "      <th>other</th>\n",
       "      <th>plug_in_hybrid</th>\n",
       "      <th>total</th>\n",
       "    </tr>\n",
       "  </thead>\n",
       "  <tbody>\n",
       "    <tr>\n",
       "      <th>45</th>\n",
       "      <td>90045</td>\n",
       "      <td>420</td>\n",
       "      <td>605</td>\n",
       "      <td>11978</td>\n",
       "      <td>109120</td>\n",
       "      <td>4466</td>\n",
       "      <td>19</td>\n",
       "      <td>138</td>\n",
       "      <td>0</td>\n",
       "      <td>384</td>\n",
       "      <td>127130</td>\n",
       "    </tr>\n",
       "    <tr>\n",
       "      <th>1520</th>\n",
       "      <td>94080</td>\n",
       "      <td>307</td>\n",
       "      <td>1519</td>\n",
       "      <td>3761</td>\n",
       "      <td>92399</td>\n",
       "      <td>4872</td>\n",
       "      <td>9</td>\n",
       "      <td>38</td>\n",
       "      <td>2</td>\n",
       "      <td>239</td>\n",
       "      <td>103146</td>\n",
       "    </tr>\n",
       "    <tr>\n",
       "      <th>782</th>\n",
       "      <td>92336</td>\n",
       "      <td>180</td>\n",
       "      <td>1706</td>\n",
       "      <td>2664</td>\n",
       "      <td>46467</td>\n",
       "      <td>1736</td>\n",
       "      <td>7</td>\n",
       "      <td>31</td>\n",
       "      <td>0</td>\n",
       "      <td>443</td>\n",
       "      <td>53234</td>\n",
       "    </tr>\n",
       "    <tr>\n",
       "      <th>660</th>\n",
       "      <td>92154</td>\n",
       "      <td>115</td>\n",
       "      <td>4196</td>\n",
       "      <td>2154</td>\n",
       "      <td>42291</td>\n",
       "      <td>1256</td>\n",
       "      <td>0</td>\n",
       "      <td>4</td>\n",
       "      <td>0</td>\n",
       "      <td>140</td>\n",
       "      <td>50156</td>\n",
       "    </tr>\n",
       "    <tr>\n",
       "      <th>426</th>\n",
       "      <td>91709</td>\n",
       "      <td>533</td>\n",
       "      <td>1139</td>\n",
       "      <td>1847</td>\n",
       "      <td>41681</td>\n",
       "      <td>2389</td>\n",
       "      <td>36</td>\n",
       "      <td>30</td>\n",
       "      <td>1</td>\n",
       "      <td>717</td>\n",
       "      <td>48373</td>\n",
       "    </tr>\n",
       "  </tbody>\n",
       "</table>\n",
       "</div>"
      ],
      "text/plain": [
       "fuel    zip  battery_electric  diesel_and_diesel_hybrid  flex_fuel  gasoline  \\\n",
       "45    90045               420                       605      11978    109120   \n",
       "1520  94080               307                      1519       3761     92399   \n",
       "782   92336               180                      1706       2664     46467   \n",
       "660   92154               115                      4196       2154     42291   \n",
       "426   91709               533                      1139       1847     41681   \n",
       "\n",
       "fuel  hybrid_gasoline  hydrogen_fuel_cell  natural_gas  other  plug_in_hybrid  \\\n",
       "45               4466                  19          138      0             384   \n",
       "1520             4872                   9           38      2             239   \n",
       "782              1736                   7           31      0             443   \n",
       "660              1256                   0            4      0             140   \n",
       "426              2389                  36           30      1             717   \n",
       "\n",
       "fuel   total  \n",
       "45    127130  \n",
       "1520  103146  \n",
       "782    53234  \n",
       "660    50156  \n",
       "426    48373  "
      ]
     },
     "execution_count": 85,
     "metadata": {},
     "output_type": "execute_result"
    }
   ],
   "source": [
    "sum_by_zip.sort_values(by='total', ascending=False).head(5)"
   ]
  },
  {
   "cell_type": "markdown",
   "metadata": {},
   "source": [
    "### Group the lesser-used fuel types into an 'other' category"
   ]
  },
  {
   "cell_type": "code",
   "execution_count": 86,
   "metadata": {},
   "outputs": [],
   "source": [
    "sum_by_zip['other'] = sum_by_zip.apply\\\n",
    "    (lambda x: x['hydrogen_fuel_cell'] + x['natural_gas'] + x['other'], axis=1)\n",
    "sum_by_zip.drop(['hydrogen_fuel_cell', 'natural_gas'], axis=1, inplace=True)\n",
    "sum_by_zip.drop([0], inplace=True)"
   ]
  },
  {
   "cell_type": "markdown",
   "metadata": {},
   "source": [
    "### Which non-gas vehicle is most popular — the 'winner' — in each zip?"
   ]
  },
  {
   "cell_type": "code",
   "execution_count": 87,
   "metadata": {},
   "outputs": [],
   "source": [
    "sum_by_zip['winner'] = \\\n",
    "sum_by_zip[['hybrid_gasoline','battery_electric','diesel_and_diesel_hybrid',\\\n",
    "                   'flex_fuel','plug_in_hybrid', 'other']].idxmax(axis=1)"
   ]
  },
  {
   "cell_type": "code",
   "execution_count": 88,
   "metadata": {},
   "outputs": [
    {
     "data": {
      "text/html": [
       "<div>\n",
       "<style scoped>\n",
       "    .dataframe tbody tr th:only-of-type {\n",
       "        vertical-align: middle;\n",
       "    }\n",
       "\n",
       "    .dataframe tbody tr th {\n",
       "        vertical-align: top;\n",
       "    }\n",
       "\n",
       "    .dataframe thead th {\n",
       "        text-align: right;\n",
       "    }\n",
       "</style>\n",
       "<table border=\"1\" class=\"dataframe\">\n",
       "  <thead>\n",
       "    <tr style=\"text-align: right;\">\n",
       "      <th>fuel</th>\n",
       "      <th>zip</th>\n",
       "      <th>battery_electric</th>\n",
       "      <th>diesel_and_diesel_hybrid</th>\n",
       "      <th>flex_fuel</th>\n",
       "      <th>gasoline</th>\n",
       "      <th>hybrid_gasoline</th>\n",
       "      <th>other</th>\n",
       "      <th>plug_in_hybrid</th>\n",
       "      <th>total</th>\n",
       "      <th>winner</th>\n",
       "    </tr>\n",
       "  </thead>\n",
       "  <tbody>\n",
       "    <tr>\n",
       "      <th>45</th>\n",
       "      <td>90045</td>\n",
       "      <td>420</td>\n",
       "      <td>605</td>\n",
       "      <td>11978</td>\n",
       "      <td>109120</td>\n",
       "      <td>4466</td>\n",
       "      <td>157</td>\n",
       "      <td>384</td>\n",
       "      <td>127130</td>\n",
       "      <td>flex_fuel</td>\n",
       "    </tr>\n",
       "    <tr>\n",
       "      <th>1520</th>\n",
       "      <td>94080</td>\n",
       "      <td>307</td>\n",
       "      <td>1519</td>\n",
       "      <td>3761</td>\n",
       "      <td>92399</td>\n",
       "      <td>4872</td>\n",
       "      <td>49</td>\n",
       "      <td>239</td>\n",
       "      <td>103146</td>\n",
       "      <td>hybrid_gasoline</td>\n",
       "    </tr>\n",
       "    <tr>\n",
       "      <th>782</th>\n",
       "      <td>92336</td>\n",
       "      <td>180</td>\n",
       "      <td>1706</td>\n",
       "      <td>2664</td>\n",
       "      <td>46467</td>\n",
       "      <td>1736</td>\n",
       "      <td>38</td>\n",
       "      <td>443</td>\n",
       "      <td>53234</td>\n",
       "      <td>flex_fuel</td>\n",
       "    </tr>\n",
       "    <tr>\n",
       "      <th>660</th>\n",
       "      <td>92154</td>\n",
       "      <td>115</td>\n",
       "      <td>4196</td>\n",
       "      <td>2154</td>\n",
       "      <td>42291</td>\n",
       "      <td>1256</td>\n",
       "      <td>4</td>\n",
       "      <td>140</td>\n",
       "      <td>50156</td>\n",
       "      <td>diesel_and_diesel_hybrid</td>\n",
       "    </tr>\n",
       "    <tr>\n",
       "      <th>426</th>\n",
       "      <td>91709</td>\n",
       "      <td>533</td>\n",
       "      <td>1139</td>\n",
       "      <td>1847</td>\n",
       "      <td>41681</td>\n",
       "      <td>2389</td>\n",
       "      <td>67</td>\n",
       "      <td>717</td>\n",
       "      <td>48373</td>\n",
       "      <td>hybrid_gasoline</td>\n",
       "    </tr>\n",
       "    <tr>\n",
       "      <th>191</th>\n",
       "      <td>90650</td>\n",
       "      <td>129</td>\n",
       "      <td>1170</td>\n",
       "      <td>2122</td>\n",
       "      <td>42241</td>\n",
       "      <td>1446</td>\n",
       "      <td>56</td>\n",
       "      <td>251</td>\n",
       "      <td>47415</td>\n",
       "      <td>flex_fuel</td>\n",
       "    </tr>\n",
       "    <tr>\n",
       "      <th>427</th>\n",
       "      <td>91710</td>\n",
       "      <td>284</td>\n",
       "      <td>2519</td>\n",
       "      <td>2866</td>\n",
       "      <td>38056</td>\n",
       "      <td>1494</td>\n",
       "      <td>1097</td>\n",
       "      <td>464</td>\n",
       "      <td>46780</td>\n",
       "      <td>flex_fuel</td>\n",
       "    </tr>\n",
       "    <tr>\n",
       "      <th>979</th>\n",
       "      <td>92683</td>\n",
       "      <td>331</td>\n",
       "      <td>780</td>\n",
       "      <td>1355</td>\n",
       "      <td>41233</td>\n",
       "      <td>2175</td>\n",
       "      <td>46</td>\n",
       "      <td>411</td>\n",
       "      <td>46331</td>\n",
       "      <td>hybrid_gasoline</td>\n",
       "    </tr>\n",
       "    <tr>\n",
       "      <th>908</th>\n",
       "      <td>92592</td>\n",
       "      <td>254</td>\n",
       "      <td>1662</td>\n",
       "      <td>2464</td>\n",
       "      <td>38763</td>\n",
       "      <td>2188</td>\n",
       "      <td>18</td>\n",
       "      <td>479</td>\n",
       "      <td>45828</td>\n",
       "      <td>flex_fuel</td>\n",
       "    </tr>\n",
       "    <tr>\n",
       "      <th>341</th>\n",
       "      <td>91342</td>\n",
       "      <td>160</td>\n",
       "      <td>1754</td>\n",
       "      <td>2325</td>\n",
       "      <td>39299</td>\n",
       "      <td>1858</td>\n",
       "      <td>12</td>\n",
       "      <td>310</td>\n",
       "      <td>45718</td>\n",
       "      <td>flex_fuel</td>\n",
       "    </tr>\n",
       "  </tbody>\n",
       "</table>\n",
       "</div>"
      ],
      "text/plain": [
       "fuel    zip  battery_electric  diesel_and_diesel_hybrid  flex_fuel  gasoline  \\\n",
       "45    90045               420                       605      11978    109120   \n",
       "1520  94080               307                      1519       3761     92399   \n",
       "782   92336               180                      1706       2664     46467   \n",
       "660   92154               115                      4196       2154     42291   \n",
       "426   91709               533                      1139       1847     41681   \n",
       "191   90650               129                      1170       2122     42241   \n",
       "427   91710               284                      2519       2866     38056   \n",
       "979   92683               331                       780       1355     41233   \n",
       "908   92592               254                      1662       2464     38763   \n",
       "341   91342               160                      1754       2325     39299   \n",
       "\n",
       "fuel  hybrid_gasoline  other  plug_in_hybrid   total                    winner  \n",
       "45               4466    157             384  127130                 flex_fuel  \n",
       "1520             4872     49             239  103146           hybrid_gasoline  \n",
       "782              1736     38             443   53234                 flex_fuel  \n",
       "660              1256      4             140   50156  diesel_and_diesel_hybrid  \n",
       "426              2389     67             717   48373           hybrid_gasoline  \n",
       "191              1446     56             251   47415                 flex_fuel  \n",
       "427              1494   1097             464   46780                 flex_fuel  \n",
       "979              2175     46             411   46331           hybrid_gasoline  \n",
       "908              2188     18             479   45828                 flex_fuel  \n",
       "341              1858     12             310   45718                 flex_fuel  "
      ]
     },
     "execution_count": 88,
     "metadata": {},
     "output_type": "execute_result"
    }
   ],
   "source": [
    "sum_by_zip.sort_values(by='total', ascending=False).head(10)"
   ]
  },
  {
   "cell_type": "markdown",
   "metadata": {},
   "source": [
    "### De-slugify the 'winner' category"
   ]
  },
  {
   "cell_type": "code",
   "execution_count": 89,
   "metadata": {},
   "outputs": [],
   "source": [
    "sum_by_zip['winner'] = sum_by_zip['winner'].str.replace('_', ' ', regex=False).str.capitalize()"
   ]
  },
  {
   "cell_type": "code",
   "execution_count": 90,
   "metadata": {},
   "outputs": [],
   "source": [
    "sum_by_zip['altshare'] = (((sum_by_zip['total']-sum_by_zip['gasoline'])/sum_by_zip['total'])*100).round()"
   ]
  },
  {
   "cell_type": "code",
   "execution_count": 91,
   "metadata": {},
   "outputs": [
    {
     "data": {
      "text/html": [
       "<div>\n",
       "<style scoped>\n",
       "    .dataframe tbody tr th:only-of-type {\n",
       "        vertical-align: middle;\n",
       "    }\n",
       "\n",
       "    .dataframe tbody tr th {\n",
       "        vertical-align: top;\n",
       "    }\n",
       "\n",
       "    .dataframe thead th {\n",
       "        text-align: right;\n",
       "    }\n",
       "</style>\n",
       "<table border=\"1\" class=\"dataframe\">\n",
       "  <thead>\n",
       "    <tr style=\"text-align: right;\">\n",
       "      <th>fuel</th>\n",
       "      <th>zip</th>\n",
       "      <th>battery_electric</th>\n",
       "      <th>diesel_and_diesel_hybrid</th>\n",
       "      <th>flex_fuel</th>\n",
       "      <th>gasoline</th>\n",
       "      <th>hybrid_gasoline</th>\n",
       "      <th>other</th>\n",
       "      <th>plug_in_hybrid</th>\n",
       "      <th>total</th>\n",
       "      <th>winner</th>\n",
       "      <th>altshare</th>\n",
       "    </tr>\n",
       "  </thead>\n",
       "  <tbody>\n",
       "    <tr>\n",
       "      <th>45</th>\n",
       "      <td>90045</td>\n",
       "      <td>420</td>\n",
       "      <td>605</td>\n",
       "      <td>11978</td>\n",
       "      <td>109120</td>\n",
       "      <td>4466</td>\n",
       "      <td>157</td>\n",
       "      <td>384</td>\n",
       "      <td>127130</td>\n",
       "      <td>Flex fuel</td>\n",
       "      <td>14.00</td>\n",
       "    </tr>\n",
       "    <tr>\n",
       "      <th>1520</th>\n",
       "      <td>94080</td>\n",
       "      <td>307</td>\n",
       "      <td>1519</td>\n",
       "      <td>3761</td>\n",
       "      <td>92399</td>\n",
       "      <td>4872</td>\n",
       "      <td>49</td>\n",
       "      <td>239</td>\n",
       "      <td>103146</td>\n",
       "      <td>Hybrid gasoline</td>\n",
       "      <td>10.00</td>\n",
       "    </tr>\n",
       "    <tr>\n",
       "      <th>782</th>\n",
       "      <td>92336</td>\n",
       "      <td>180</td>\n",
       "      <td>1706</td>\n",
       "      <td>2664</td>\n",
       "      <td>46467</td>\n",
       "      <td>1736</td>\n",
       "      <td>38</td>\n",
       "      <td>443</td>\n",
       "      <td>53234</td>\n",
       "      <td>Flex fuel</td>\n",
       "      <td>13.00</td>\n",
       "    </tr>\n",
       "    <tr>\n",
       "      <th>660</th>\n",
       "      <td>92154</td>\n",
       "      <td>115</td>\n",
       "      <td>4196</td>\n",
       "      <td>2154</td>\n",
       "      <td>42291</td>\n",
       "      <td>1256</td>\n",
       "      <td>4</td>\n",
       "      <td>140</td>\n",
       "      <td>50156</td>\n",
       "      <td>Diesel and diesel hybrid</td>\n",
       "      <td>16.00</td>\n",
       "    </tr>\n",
       "    <tr>\n",
       "      <th>426</th>\n",
       "      <td>91709</td>\n",
       "      <td>533</td>\n",
       "      <td>1139</td>\n",
       "      <td>1847</td>\n",
       "      <td>41681</td>\n",
       "      <td>2389</td>\n",
       "      <td>67</td>\n",
       "      <td>717</td>\n",
       "      <td>48373</td>\n",
       "      <td>Hybrid gasoline</td>\n",
       "      <td>14.00</td>\n",
       "    </tr>\n",
       "    <tr>\n",
       "      <th>191</th>\n",
       "      <td>90650</td>\n",
       "      <td>129</td>\n",
       "      <td>1170</td>\n",
       "      <td>2122</td>\n",
       "      <td>42241</td>\n",
       "      <td>1446</td>\n",
       "      <td>56</td>\n",
       "      <td>251</td>\n",
       "      <td>47415</td>\n",
       "      <td>Flex fuel</td>\n",
       "      <td>11.00</td>\n",
       "    </tr>\n",
       "    <tr>\n",
       "      <th>427</th>\n",
       "      <td>91710</td>\n",
       "      <td>284</td>\n",
       "      <td>2519</td>\n",
       "      <td>2866</td>\n",
       "      <td>38056</td>\n",
       "      <td>1494</td>\n",
       "      <td>1097</td>\n",
       "      <td>464</td>\n",
       "      <td>46780</td>\n",
       "      <td>Flex fuel</td>\n",
       "      <td>19.00</td>\n",
       "    </tr>\n",
       "    <tr>\n",
       "      <th>979</th>\n",
       "      <td>92683</td>\n",
       "      <td>331</td>\n",
       "      <td>780</td>\n",
       "      <td>1355</td>\n",
       "      <td>41233</td>\n",
       "      <td>2175</td>\n",
       "      <td>46</td>\n",
       "      <td>411</td>\n",
       "      <td>46331</td>\n",
       "      <td>Hybrid gasoline</td>\n",
       "      <td>11.00</td>\n",
       "    </tr>\n",
       "    <tr>\n",
       "      <th>908</th>\n",
       "      <td>92592</td>\n",
       "      <td>254</td>\n",
       "      <td>1662</td>\n",
       "      <td>2464</td>\n",
       "      <td>38763</td>\n",
       "      <td>2188</td>\n",
       "      <td>18</td>\n",
       "      <td>479</td>\n",
       "      <td>45828</td>\n",
       "      <td>Flex fuel</td>\n",
       "      <td>15.00</td>\n",
       "    </tr>\n",
       "    <tr>\n",
       "      <th>341</th>\n",
       "      <td>91342</td>\n",
       "      <td>160</td>\n",
       "      <td>1754</td>\n",
       "      <td>2325</td>\n",
       "      <td>39299</td>\n",
       "      <td>1858</td>\n",
       "      <td>12</td>\n",
       "      <td>310</td>\n",
       "      <td>45718</td>\n",
       "      <td>Flex fuel</td>\n",
       "      <td>14.00</td>\n",
       "    </tr>\n",
       "  </tbody>\n",
       "</table>\n",
       "</div>"
      ],
      "text/plain": [
       "fuel    zip  battery_electric  diesel_and_diesel_hybrid  flex_fuel  gasoline  \\\n",
       "45    90045               420                       605      11978    109120   \n",
       "1520  94080               307                      1519       3761     92399   \n",
       "782   92336               180                      1706       2664     46467   \n",
       "660   92154               115                      4196       2154     42291   \n",
       "426   91709               533                      1139       1847     41681   \n",
       "191   90650               129                      1170       2122     42241   \n",
       "427   91710               284                      2519       2866     38056   \n",
       "979   92683               331                       780       1355     41233   \n",
       "908   92592               254                      1662       2464     38763   \n",
       "341   91342               160                      1754       2325     39299   \n",
       "\n",
       "fuel  hybrid_gasoline  other  plug_in_hybrid   total  \\\n",
       "45               4466    157             384  127130   \n",
       "1520             4872     49             239  103146   \n",
       "782              1736     38             443   53234   \n",
       "660              1256      4             140   50156   \n",
       "426              2389     67             717   48373   \n",
       "191              1446     56             251   47415   \n",
       "427              1494   1097             464   46780   \n",
       "979              2175     46             411   46331   \n",
       "908              2188     18             479   45828   \n",
       "341              1858     12             310   45718   \n",
       "\n",
       "fuel                    winner  altshare  \n",
       "45                   Flex fuel     14.00  \n",
       "1520           Hybrid gasoline     10.00  \n",
       "782                  Flex fuel     13.00  \n",
       "660   Diesel and diesel hybrid     16.00  \n",
       "426            Hybrid gasoline     14.00  \n",
       "191                  Flex fuel     11.00  \n",
       "427                  Flex fuel     19.00  \n",
       "979            Hybrid gasoline     11.00  \n",
       "908                  Flex fuel     15.00  \n",
       "341                  Flex fuel     14.00  "
      ]
     },
     "execution_count": 91,
     "metadata": {},
     "output_type": "execute_result"
    }
   ],
   "source": [
    "sum_by_zip.sort_values(by='total', ascending=False).head(10)"
   ]
  },
  {
   "cell_type": "markdown",
   "metadata": {},
   "source": [
    "### Use the \"jenks\" method to set fair breaks for total field"
   ]
  },
  {
   "cell_type": "code",
   "execution_count": 92,
   "metadata": {},
   "outputs": [],
   "source": [
    "breaks \\\n",
    "= jenkspy.jenks_breaks(sum_by_zip.total, nb_class=7)"
   ]
  },
  {
   "cell_type": "code",
   "execution_count": 93,
   "metadata": {},
   "outputs": [
    {
     "data": {
      "text/plain": [
       "[1.0, 3499.0, 9905.0, 16350.0, 23391.0, 32528.0, 53234.0, 127130.0]"
      ]
     },
     "execution_count": 93,
     "metadata": {},
     "output_type": "execute_result"
    }
   ],
   "source": [
    "breaks"
   ]
  },
  {
   "cell_type": "markdown",
   "metadata": {},
   "source": [
    "---"
   ]
  },
  {
   "cell_type": "markdown",
   "metadata": {},
   "source": [
    "### Export merged polygon geodataframe as GeoJSON"
   ]
  },
  {
   "cell_type": "code",
   "execution_count": 94,
   "metadata": {},
   "outputs": [],
   "source": [
    "zips_poly.to_file('/Users/mhustiles/data/data/GIS/zips_poly.geojson', driver='GeoJSON')"
   ]
  },
  {
   "cell_type": "code",
   "execution_count": 95,
   "metadata": {},
   "outputs": [],
   "source": [
    "zips_poly_merged = zips_poly.merge(sum_by_zip, on='zip')"
   ]
  },
  {
   "cell_type": "code",
   "execution_count": 96,
   "metadata": {},
   "outputs": [
    {
     "data": {
      "text/plain": [
       "Index(['objectid', 'zip', 'po_name', 'pop2012', 'white', 'black', 'ameri_es',\n",
       "       'asian', 'hawn_pi', 'hispanic', 'other_x', 'mult_race', 'med_age',\n",
       "       'ave_hh_sz', 'marhh_chd', 'families', 'ave_fam_sz', 'hse_units', 'sqmi',\n",
       "       'geometry', 'battery_electric', 'diesel_and_diesel_hybrid', 'flex_fuel',\n",
       "       'gasoline', 'hybrid_gasoline', 'other_y', 'plug_in_hybrid', 'total',\n",
       "       'winner', 'altshare'],\n",
       "      dtype='object')"
      ]
     },
     "execution_count": 96,
     "metadata": {},
     "output_type": "execute_result"
    }
   ],
   "source": [
    "zips_poly_merged.columns"
   ]
  },
  {
   "cell_type": "code",
   "execution_count": 97,
   "metadata": {},
   "outputs": [],
   "source": [
    "# zips_poly_merged_drop = ['objectid', 'zip', 'po_name', 'sqmi', \n",
    "#                         'battery_electric', 'diesel_and_diesel_hybrid', 'flex_fuel',\n",
    "#                          'gasoline', 'hybrid_gasoline', 'other_y', 'plug_in_hybrid', 'total',\n",
    "#                          'winner', 'altshare']\n",
    "# zips_poly_merged.drop(zips_poly_merged_drop, inplace=True, axis=1)"
   ]
  },
  {
   "cell_type": "code",
   "execution_count": 98,
   "metadata": {},
   "outputs": [],
   "source": [
    "zips_poly_merged.to_file('/Users/mhustiles/data/data/GIS/zips_poly_merged.geojson', driver='GeoJSON')"
   ]
  },
  {
   "cell_type": "markdown",
   "metadata": {},
   "source": [
    "### Export with Tesla totals"
   ]
  },
  {
   "cell_type": "code",
   "execution_count": 99,
   "metadata": {},
   "outputs": [],
   "source": [
    "tesla_zips_poly_merged = zips_poly.merge(tesla_zips_slim, on='zip')"
   ]
  },
  {
   "cell_type": "code",
   "execution_count": 100,
   "metadata": {},
   "outputs": [],
   "source": [
    "tesla_zips_poly_merged.to_file('/Users/mhustiles/data/github/notebooks/\\\n",
    "california-fuel-vehicles/output/tesla_zips.geojson', driver='GeoJSON')"
   ]
  },
  {
   "cell_type": "code",
   "execution_count": 101,
   "metadata": {},
   "outputs": [
    {
     "data": {
      "text/html": [
       "<div>\n",
       "<style scoped>\n",
       "    .dataframe tbody tr th:only-of-type {\n",
       "        vertical-align: middle;\n",
       "    }\n",
       "\n",
       "    .dataframe tbody tr th {\n",
       "        vertical-align: top;\n",
       "    }\n",
       "\n",
       "    .dataframe thead th {\n",
       "        text-align: right;\n",
       "    }\n",
       "</style>\n",
       "<table border=\"1\" class=\"dataframe\">\n",
       "  <thead>\n",
       "    <tr style=\"text-align: right;\">\n",
       "      <th></th>\n",
       "      <th>objectid</th>\n",
       "      <th>zip</th>\n",
       "      <th>po_name</th>\n",
       "      <th>pop2012</th>\n",
       "      <th>white</th>\n",
       "      <th>black</th>\n",
       "      <th>ameri_es</th>\n",
       "      <th>asian</th>\n",
       "      <th>hawn_pi</th>\n",
       "      <th>hispanic</th>\n",
       "      <th>other</th>\n",
       "      <th>mult_race</th>\n",
       "      <th>med_age</th>\n",
       "      <th>ave_hh_sz</th>\n",
       "      <th>marhh_chd</th>\n",
       "      <th>families</th>\n",
       "      <th>ave_fam_sz</th>\n",
       "      <th>hse_units</th>\n",
       "      <th>sqmi</th>\n",
       "      <th>geometry</th>\n",
       "      <th>teslas</th>\n",
       "      <th>tesla_rate</th>\n",
       "    </tr>\n",
       "  </thead>\n",
       "  <tbody>\n",
       "    <tr>\n",
       "      <th>0</th>\n",
       "      <td>4800</td>\n",
       "      <td>94002</td>\n",
       "      <td>Belmont</td>\n",
       "      <td>26832</td>\n",
       "      <td>19634</td>\n",
       "      <td>477</td>\n",
       "      <td>84</td>\n",
       "      <td>5762</td>\n",
       "      <td>221</td>\n",
       "      <td>3517</td>\n",
       "      <td>1170</td>\n",
       "      <td>1744</td>\n",
       "      <td>41.00</td>\n",
       "      <td>2.42</td>\n",
       "      <td>2925</td>\n",
       "      <td>7671</td>\n",
       "      <td>2.98</td>\n",
       "      <td>12304</td>\n",
       "      <td>5.90</td>\n",
       "      <td>POLYGON ((-122.277034540571 37.5343582023783, ...</td>\n",
       "      <td>305</td>\n",
       "      <td>18.98</td>\n",
       "    </tr>\n",
       "    <tr>\n",
       "      <th>1</th>\n",
       "      <td>4801</td>\n",
       "      <td>94010</td>\n",
       "      <td>Burlingame</td>\n",
       "      <td>41102</td>\n",
       "      <td>31610</td>\n",
       "      <td>482</td>\n",
       "      <td>93</td>\n",
       "      <td>10244</td>\n",
       "      <td>188</td>\n",
       "      <td>5133</td>\n",
       "      <td>1865</td>\n",
       "      <td>2166</td>\n",
       "      <td>42.60</td>\n",
       "      <td>2.43</td>\n",
       "      <td>4798</td>\n",
       "      <td>12179</td>\n",
       "      <td>3.06</td>\n",
       "      <td>20020</td>\n",
       "      <td>13.00</td>\n",
       "      <td>POLYGON ((-122.377279066574 37.6056199838047, ...</td>\n",
       "      <td>797</td>\n",
       "      <td>22.55</td>\n",
       "    </tr>\n",
       "    <tr>\n",
       "      <th>2</th>\n",
       "      <td>4802</td>\n",
       "      <td>94015</td>\n",
       "      <td>Daly City</td>\n",
       "      <td>61575</td>\n",
       "      <td>14279</td>\n",
       "      <td>2138</td>\n",
       "      <td>168</td>\n",
       "      <td>35940</td>\n",
       "      <td>482</td>\n",
       "      <td>9775</td>\n",
       "      <td>4520</td>\n",
       "      <td>2939</td>\n",
       "      <td>39.00</td>\n",
       "      <td>3.10</td>\n",
       "      <td>4637</td>\n",
       "      <td>13991</td>\n",
       "      <td>3.54</td>\n",
       "      <td>20103</td>\n",
       "      <td>5.70</td>\n",
       "      <td>POLYGON ((-122.502826389233 37.7081318430574, ...</td>\n",
       "      <td>79</td>\n",
       "      <td>2.63</td>\n",
       "    </tr>\n",
       "    <tr>\n",
       "      <th>3</th>\n",
       "      <td>4803</td>\n",
       "      <td>94019</td>\n",
       "      <td>Half Moon Bay</td>\n",
       "      <td>18476</td>\n",
       "      <td>14195</td>\n",
       "      <td>137</td>\n",
       "      <td>128</td>\n",
       "      <td>718</td>\n",
       "      <td>20</td>\n",
       "      <td>5533</td>\n",
       "      <td>2646</td>\n",
       "      <td>693</td>\n",
       "      <td>42.30</td>\n",
       "      <td>2.75</td>\n",
       "      <td>1729</td>\n",
       "      <td>4653</td>\n",
       "      <td>3.23</td>\n",
       "      <td>7132</td>\n",
       "      <td>73.10</td>\n",
       "      <td>(POLYGON ((-122.428748182297 37.6041545461498,...</td>\n",
       "      <td>86</td>\n",
       "      <td>9.43</td>\n",
       "    </tr>\n",
       "    <tr>\n",
       "      <th>4</th>\n",
       "      <td>4902</td>\n",
       "      <td>93446</td>\n",
       "      <td>Paso Robles</td>\n",
       "      <td>44990</td>\n",
       "      <td>35268</td>\n",
       "      <td>719</td>\n",
       "      <td>465</td>\n",
       "      <td>721</td>\n",
       "      <td>68</td>\n",
       "      <td>12245</td>\n",
       "      <td>4582</td>\n",
       "      <td>1602</td>\n",
       "      <td>38.60</td>\n",
       "      <td>2.67</td>\n",
       "      <td>3930</td>\n",
       "      <td>11561</td>\n",
       "      <td>3.10</td>\n",
       "      <td>18303</td>\n",
       "      <td>344.40</td>\n",
       "      <td>POLYGON ((-121.060394531453 35.7388181902079, ...</td>\n",
       "      <td>21</td>\n",
       "      <td>0.85</td>\n",
       "    </tr>\n",
       "  </tbody>\n",
       "</table>\n",
       "</div>"
      ],
      "text/plain": [
       "   objectid    zip        po_name  pop2012  white  black  ameri_es  asian  \\\n",
       "0      4800  94002        Belmont    26832  19634    477        84   5762   \n",
       "1      4801  94010     Burlingame    41102  31610    482        93  10244   \n",
       "2      4802  94015      Daly City    61575  14279   2138       168  35940   \n",
       "3      4803  94019  Half Moon Bay    18476  14195    137       128    718   \n",
       "4      4902  93446    Paso Robles    44990  35268    719       465    721   \n",
       "\n",
       "   hawn_pi  hispanic  other  mult_race  med_age  ave_hh_sz  marhh_chd  \\\n",
       "0      221      3517   1170       1744    41.00       2.42       2925   \n",
       "1      188      5133   1865       2166    42.60       2.43       4798   \n",
       "2      482      9775   4520       2939    39.00       3.10       4637   \n",
       "3       20      5533   2646        693    42.30       2.75       1729   \n",
       "4       68     12245   4582       1602    38.60       2.67       3930   \n",
       "\n",
       "   families  ave_fam_sz  hse_units   sqmi  \\\n",
       "0      7671        2.98      12304   5.90   \n",
       "1     12179        3.06      20020  13.00   \n",
       "2     13991        3.54      20103   5.70   \n",
       "3      4653        3.23       7132  73.10   \n",
       "4     11561        3.10      18303 344.40   \n",
       "\n",
       "                                            geometry  teslas  tesla_rate  \n",
       "0  POLYGON ((-122.277034540571 37.5343582023783, ...     305       18.98  \n",
       "1  POLYGON ((-122.377279066574 37.6056199838047, ...     797       22.55  \n",
       "2  POLYGON ((-122.502826389233 37.7081318430574, ...      79        2.63  \n",
       "3  (POLYGON ((-122.428748182297 37.6041545461498,...      86        9.43  \n",
       "4  POLYGON ((-121.060394531453 35.7388181902079, ...      21        0.85  "
      ]
     },
     "execution_count": 101,
     "metadata": {},
     "output_type": "execute_result"
    }
   ],
   "source": [
    "tesla_zips_poly_merged.head()"
   ]
  },
  {
   "cell_type": "markdown",
   "metadata": {},
   "source": [
    "### Merge ZIP points with Tesla totals"
   ]
  },
  {
   "cell_type": "code",
   "execution_count": 102,
   "metadata": {},
   "outputs": [],
   "source": [
    "teslas_poimt_merged = ca_zips_point.merge(tesla_zips_slim, on='zip')"
   ]
  },
  {
   "cell_type": "code",
   "execution_count": 103,
   "metadata": {},
   "outputs": [
    {
     "data": {
      "text/html": [
       "<div>\n",
       "<style scoped>\n",
       "    .dataframe tbody tr th:only-of-type {\n",
       "        vertical-align: middle;\n",
       "    }\n",
       "\n",
       "    .dataframe tbody tr th {\n",
       "        vertical-align: top;\n",
       "    }\n",
       "\n",
       "    .dataframe thead th {\n",
       "        text-align: right;\n",
       "    }\n",
       "</style>\n",
       "<table border=\"1\" class=\"dataframe\">\n",
       "  <thead>\n",
       "    <tr style=\"text-align: right;\">\n",
       "      <th></th>\n",
       "      <th>zip</th>\n",
       "      <th>city</th>\n",
       "      <th>state</th>\n",
       "      <th>geometry</th>\n",
       "      <th>teslas</th>\n",
       "      <th>tesla_rate</th>\n",
       "    </tr>\n",
       "  </thead>\n",
       "  <tbody>\n",
       "    <tr>\n",
       "      <th>0</th>\n",
       "      <td>90004</td>\n",
       "      <td>Los Angeles</td>\n",
       "      <td>CA</td>\n",
       "      <td>POINT (-118.31 34.07)</td>\n",
       "      <td>97</td>\n",
       "      <td>4.21</td>\n",
       "    </tr>\n",
       "    <tr>\n",
       "      <th>1</th>\n",
       "      <td>90005</td>\n",
       "      <td>Los Angeles</td>\n",
       "      <td>CA</td>\n",
       "      <td>POINT (-118.31 34.05)</td>\n",
       "      <td>16</td>\n",
       "      <td>1.29</td>\n",
       "    </tr>\n",
       "    <tr>\n",
       "      <th>2</th>\n",
       "      <td>90008</td>\n",
       "      <td>Los Angeles</td>\n",
       "      <td>CA</td>\n",
       "      <td>POINT (-118.34 34)</td>\n",
       "      <td>30</td>\n",
       "      <td>2.43</td>\n",
       "    </tr>\n",
       "    <tr>\n",
       "      <th>3</th>\n",
       "      <td>90012</td>\n",
       "      <td>Los Angeles</td>\n",
       "      <td>CA</td>\n",
       "      <td>POINT (-118.24 34.06)</td>\n",
       "      <td>57</td>\n",
       "      <td>2.44</td>\n",
       "    </tr>\n",
       "    <tr>\n",
       "      <th>4</th>\n",
       "      <td>90014</td>\n",
       "      <td>Los Angeles</td>\n",
       "      <td>CA</td>\n",
       "      <td>POINT (-118.25 34.04)</td>\n",
       "      <td>12</td>\n",
       "      <td>4.40</td>\n",
       "    </tr>\n",
       "  </tbody>\n",
       "</table>\n",
       "</div>"
      ],
      "text/plain": [
       "     zip         city state               geometry  teslas  tesla_rate\n",
       "0  90004  Los Angeles    CA  POINT (-118.31 34.07)      97        4.21\n",
       "1  90005  Los Angeles    CA  POINT (-118.31 34.05)      16        1.29\n",
       "2  90008  Los Angeles    CA     POINT (-118.34 34)      30        2.43\n",
       "3  90012  Los Angeles    CA  POINT (-118.24 34.06)      57        2.44\n",
       "4  90014  Los Angeles    CA  POINT (-118.25 34.04)      12        4.40"
      ]
     },
     "execution_count": 103,
     "metadata": {},
     "output_type": "execute_result"
    }
   ],
   "source": [
    "teslas_poimt_merged.head()"
   ]
  },
  {
   "cell_type": "code",
   "execution_count": 104,
   "metadata": {},
   "outputs": [],
   "source": [
    "teslas_poimt_merged.to_file('output/teslas_point_merged.geojson', driver='GeoJSON')"
   ]
  },
  {
   "cell_type": "markdown",
   "metadata": {},
   "source": [
    "### Merge ZIP points with all vehicle totals"
   ]
  },
  {
   "cell_type": "code",
   "execution_count": 105,
   "metadata": {},
   "outputs": [],
   "source": [
    "ca_zips_point_merged = ca_zips_point.merge(sum_by_zip, on='zip')"
   ]
  },
  {
   "cell_type": "code",
   "execution_count": 106,
   "metadata": {},
   "outputs": [
    {
     "data": {
      "text/plain": [
       "<matplotlib.axes._subplots.AxesSubplot at 0x1264d1160>"
      ]
     },
     "execution_count": 106,
     "metadata": {},
     "output_type": "execute_result"
    },
    {
     "data": {
      "image/png": "[encoded data removed]",
      "text/plain": [
       "<Figure size 432x288 with 1 Axes>"
      ]
     },
     "metadata": {
      "needs_background": "light"
     },
     "output_type": "display_data"
    }
   ],
   "source": [
    "ca_zips_point_merged.plot()"
   ]
  },
  {
   "cell_type": "markdown",
   "metadata": {},
   "source": [
    "### Export merged points geodataframe as GeoJSON"
   ]
  },
  {
   "cell_type": "code",
   "execution_count": 112,
   "metadata": {},
   "outputs": [
    {
     "data": {
      "text/html": [
       "<div>\n",
       "<style scoped>\n",
       "    .dataframe tbody tr th:only-of-type {\n",
       "        vertical-align: middle;\n",
       "    }\n",
       "\n",
       "    .dataframe tbody tr th {\n",
       "        vertical-align: top;\n",
       "    }\n",
       "\n",
       "    .dataframe thead th {\n",
       "        text-align: right;\n",
       "    }\n",
       "</style>\n",
       "<table border=\"1\" class=\"dataframe\">\n",
       "  <thead>\n",
       "    <tr style=\"text-align: right;\">\n",
       "      <th></th>\n",
       "      <th>zip</th>\n",
       "      <th>city</th>\n",
       "      <th>state</th>\n",
       "      <th>geometry</th>\n",
       "      <th>battery_electric</th>\n",
       "      <th>diesel_and_diesel_hybrid</th>\n",
       "      <th>flex_fuel</th>\n",
       "      <th>gasoline</th>\n",
       "      <th>hybrid_gasoline</th>\n",
       "      <th>other</th>\n",
       "      <th>plug_in_hybrid</th>\n",
       "      <th>total</th>\n",
       "      <th>winner</th>\n",
       "      <th>altshare</th>\n",
       "    </tr>\n",
       "  </thead>\n",
       "  <tbody>\n",
       "    <tr>\n",
       "      <th>0</th>\n",
       "      <td>90001</td>\n",
       "      <td>Los Angeles</td>\n",
       "      <td>CA</td>\n",
       "      <td>POINT (-118.24 33.97)</td>\n",
       "      <td>10</td>\n",
       "      <td>508</td>\n",
       "      <td>820</td>\n",
       "      <td>15406</td>\n",
       "      <td>413</td>\n",
       "      <td>4</td>\n",
       "      <td>44</td>\n",
       "      <td>17205</td>\n",
       "      <td>Flex fuel</td>\n",
       "      <td>10.00</td>\n",
       "    </tr>\n",
       "    <tr>\n",
       "      <th>1</th>\n",
       "      <td>90002</td>\n",
       "      <td>Los Angeles</td>\n",
       "      <td>CA</td>\n",
       "      <td>POINT (-118.24 33.94)</td>\n",
       "      <td>22</td>\n",
       "      <td>300</td>\n",
       "      <td>753</td>\n",
       "      <td>14110</td>\n",
       "      <td>386</td>\n",
       "      <td>2</td>\n",
       "      <td>27</td>\n",
       "      <td>15600</td>\n",
       "      <td>Flex fuel</td>\n",
       "      <td>10.00</td>\n",
       "    </tr>\n",
       "    <tr>\n",
       "      <th>2</th>\n",
       "      <td>90003</td>\n",
       "      <td>Los Angeles</td>\n",
       "      <td>CA</td>\n",
       "      <td>POINT (-118.27 33.96)</td>\n",
       "      <td>16</td>\n",
       "      <td>366</td>\n",
       "      <td>885</td>\n",
       "      <td>18507</td>\n",
       "      <td>522</td>\n",
       "      <td>10</td>\n",
       "      <td>39</td>\n",
       "      <td>20345</td>\n",
       "      <td>Flex fuel</td>\n",
       "      <td>9.00</td>\n",
       "    </tr>\n",
       "    <tr>\n",
       "      <th>3</th>\n",
       "      <td>90004</td>\n",
       "      <td>Los Angeles</td>\n",
       "      <td>CA</td>\n",
       "      <td>POINT (-118.31 34.07)</td>\n",
       "      <td>248</td>\n",
       "      <td>265</td>\n",
       "      <td>443</td>\n",
       "      <td>19940</td>\n",
       "      <td>1878</td>\n",
       "      <td>16</td>\n",
       "      <td>251</td>\n",
       "      <td>23041</td>\n",
       "      <td>Hybrid gasoline</td>\n",
       "      <td>13.00</td>\n",
       "    </tr>\n",
       "    <tr>\n",
       "      <th>4</th>\n",
       "      <td>90005</td>\n",
       "      <td>Los Angeles</td>\n",
       "      <td>CA</td>\n",
       "      <td>POINT (-118.31 34.05)</td>\n",
       "      <td>71</td>\n",
       "      <td>126</td>\n",
       "      <td>217</td>\n",
       "      <td>11052</td>\n",
       "      <td>857</td>\n",
       "      <td>8</td>\n",
       "      <td>105</td>\n",
       "      <td>12436</td>\n",
       "      <td>Hybrid gasoline</td>\n",
       "      <td>11.00</td>\n",
       "    </tr>\n",
       "  </tbody>\n",
       "</table>\n",
       "</div>"
      ],
      "text/plain": [
       "     zip         city state               geometry  battery_electric  \\\n",
       "0  90001  Los Angeles    CA  POINT (-118.24 33.97)                10   \n",
       "1  90002  Los Angeles    CA  POINT (-118.24 33.94)                22   \n",
       "2  90003  Los Angeles    CA  POINT (-118.27 33.96)                16   \n",
       "3  90004  Los Angeles    CA  POINT (-118.31 34.07)               248   \n",
       "4  90005  Los Angeles    CA  POINT (-118.31 34.05)                71   \n",
       "\n",
       "   diesel_and_diesel_hybrid  flex_fuel  gasoline  hybrid_gasoline  other  \\\n",
       "0                       508        820     15406              413      4   \n",
       "1                       300        753     14110              386      2   \n",
       "2                       366        885     18507              522     10   \n",
       "3                       265        443     19940             1878     16   \n",
       "4                       126        217     11052              857      8   \n",
       "\n",
       "   plug_in_hybrid  total           winner  altshare  \n",
       "0              44  17205        Flex fuel     10.00  \n",
       "1              27  15600        Flex fuel     10.00  \n",
       "2              39  20345        Flex fuel      9.00  \n",
       "3             251  23041  Hybrid gasoline     13.00  \n",
       "4             105  12436  Hybrid gasoline     11.00  "
      ]
     },
     "execution_count": 112,
     "metadata": {},
     "output_type": "execute_result"
    }
   ],
   "source": [
    "ca_zips_point_merged.head(5)"
   ]
  },
  {
   "cell_type": "code",
   "execution_count": 108,
   "metadata": {},
   "outputs": [],
   "source": [
    "ca_zips_point_merged.to_file('/Users/mhustiles/data/data/fuel/ca_zips_point_merged.geojson', driver='GeoJSON')"
   ]
  },
  {
   "cell_type": "markdown",
   "metadata": {},
   "source": [
    "### Convert polygons to mbtiles for Mapbox. Export."
   ]
  },
  {
   "cell_type": "code",
   "execution_count": 109,
   "metadata": {},
   "outputs": [
    {
     "name": "stdout",
     "output_type": "stream",
     "text": [
      "For layer 0, using name \"ca_zips_poly_merged\"\r\n",
      "/Users/mhustiles/data/github/notebooks/california-fuel-vehicles/output/ca_zips_poly_merged.geojson: No such file or directory\r\n",
      "                              \r",
      "0 features, 10 bytes of geometry, 16 bytes of separate metadata, 0 bytes of string pool\r\n",
      "Did not read any valid geometries\r\n"
     ]
    }
   ],
   "source": [
    "!tippecanoe --force -r1 -pk -pf -Z5 -z13 -o \\\n",
    "/Users/mhustiles/data/github/notebooks/california-fuel-vehicles/output/ca_zips_poly_merged.mbtiles \\\n",
    "/Users/mhustiles/data/github/notebooks/california-fuel-vehicles/output/ca_zips_poly_merged.geojson"
   ]
  },
  {
   "cell_type": "markdown",
   "metadata": {},
   "source": [
    "### Convert points to mbtiles for Mapbox. Export."
   ]
  },
  {
   "cell_type": "code",
   "execution_count": 110,
   "metadata": {},
   "outputs": [
    {
     "name": "stdout",
     "output_type": "stream",
     "text": [
      "For layer 0, using name \"ca_zips_point_merged\"\r\n",
      "/Users/mhustiles/data/github/notebooks/california-fuel-vehicles/output/ca_zips_point_merged.geojson: No such file or directory\r\n",
      "                              \r",
      "0 features, 10 bytes of geometry, 16 bytes of separate metadata, 0 bytes of string pool\r\n",
      "Did not read any valid geometries\r\n"
     ]
    }
   ],
   "source": [
    "!tippecanoe --force -r1 -pk -pf -Z5 -z13 -o \\\n",
    "/Users/mhustiles/data/github/notebooks/california-fuel-vehicles/output/ca_zips_point_merged.mbtiles \\\n",
    "/Users/mhustiles/data/github/notebooks/california-fuel-vehicles/output/ca_zips_point_merged.geojson"
   ]
  },
  {
   "cell_type": "markdown",
   "metadata": {},
   "source": [
    "### Convert Tesla polygons to mbtiles for Mapbox. Export."
   ]
  },
  {
   "cell_type": "code",
   "execution_count": 111,
   "metadata": {},
   "outputs": [
    {
     "name": "stdout",
     "output_type": "stream",
     "text": [
      "For layer 0, using name \"teslas_poly_merged\"\r\n",
      "/Users/mhustiles/data/github/notebooks/california-fuel-vehicles/output/teslas_poly_merged.geojson: No such file or directory\r\n",
      "                              \r",
      "0 features, 10 bytes of geometry, 16 bytes of separate metadata, 0 bytes of string pool\r\n",
      "Did not read any valid geometries\r\n"
     ]
    }
   ],
   "source": [
    "!tippecanoe --force -r1 -pk -pf -Z5 -z13 -o \\\n",
    "/Users/mhustiles/data/github/notebooks/california-fuel-vehicles/output/teslas_poly_merged.mbtiles \\\n",
    "/Users/mhustiles/data/github/notebooks/california-fuel-vehicles/output/teslas_poly_merged.geojson"
   ]
  },
  {
   "cell_type": "markdown",
   "metadata": {},
   "source": [
    "---"
   ]
  },
  {
   "cell_type": "markdown",
   "metadata": {},
   "source": [
    "See related [Twitter thread](https://twitter.com/stiles/status/1193416749116358656)"
   ]
  }
 ],
 "metadata": {
  "kernelspec": {
   "display_name": "Python 3",
   "language": "python",
   "name": "python3"
  },
  "language_info": {
   "codemirror_mode": {
    "name": "ipython",
    "version": 3
   },
   "file_extension": ".py",
   "mimetype": "text/x-python",
   "name": "python",
   "nbconvert_exporter": "python",
   "pygments_lexer": "ipython3",
   "version": "3.7.3"
  }
 },
 "nbformat": 4,
 "nbformat_minor": 2
}
