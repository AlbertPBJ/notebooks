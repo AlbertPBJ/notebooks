{
 "cells": [
  {
   "cell_type": "markdown",
   "metadata": {},
   "source": [
    "# California vehicle fuel type count by zip code"
   ]
  },
  {
   "cell_type": "markdown",
   "metadata": {},
   "source": [
    "### Load Python tools"
   ]
  },
  {
   "cell_type": "code",
   "execution_count": 1,
   "metadata": {},
   "outputs": [
    {
     "data": {
      "text/plain": [
       "DataTransformerRegistry.enable('default')"
      ]
     },
     "execution_count": 1,
     "metadata": {},
     "output_type": "execute_result"
    }
   ],
   "source": [
    "import pandas as pd\n",
    "import geopandas as gpd\n",
    "import pyarrow\n",
    "import matplotlib\n",
    "import matplotlib.pyplot as plt\n",
    "import geojson\n",
    "import json\n",
    "import jenkspy\n",
    "import numpy as np\n",
    "from earthpy import clip as cl\n",
    "from altair import datum\n",
    "import weightedcalcs as wc\n",
    "import altair as alt\n",
    "alt.renderers.enable('notebook')\n",
    "import altair_latimes as lat\n",
    "alt.themes.register('latimes', lat.theme)\n",
    "alt.themes.enable('latimes')\n",
    "pd.options.display.max_columns = 50\n",
    "pd.options.display.max_rows = 1000\n",
    "pd.options.display.float_format = '{:,.2f}'.format\n",
    "alt.data_transformers.disable_max_rows()"
   ]
  },
  {
   "cell_type": "markdown",
   "metadata": {},
   "source": [
    "### Read data from California Department of Motor Vehicles - current as of October 2018"
   ]
  },
  {
   "cell_type": "code",
   "execution_count": 2,
   "metadata": {},
   "outputs": [],
   "source": [
    "# https://data.ca.gov/dataset/vehicle-fuel-type-count-by-zip-code\n",
    "src = pd.read_csv('https://data.ca.gov/dataset/15179472-adeb-4df6-920a-20640d02b08c/\\\n",
    "resource/d304108a-06c1-462f-a144-981dd0109900/\\\n",
    "download/vehicle-fuel-type-count-by-zip-code.csv', low_memory=False)"
   ]
  },
  {
   "cell_type": "code",
   "execution_count": 3,
   "metadata": {},
   "outputs": [],
   "source": [
    "vehicles = pd.DataFrame(src)"
   ]
  },
  {
   "cell_type": "markdown",
   "metadata": {},
   "source": [
    "### Clean up field names"
   ]
  },
  {
   "cell_type": "code",
   "execution_count": 4,
   "metadata": {},
   "outputs": [],
   "source": [
    "vehicles.columns = vehicles.columns.str.strip().str.lower().str.replace(' ', '_')\\\n",
    "                    .str.replace('(', '').str.replace(')', '').str.replace('-','_')"
   ]
  },
  {
   "cell_type": "code",
   "execution_count": 5,
   "metadata": {},
   "outputs": [],
   "source": [
    "vehicles.rename(columns={\"zip_code\": \"zip\"}, inplace=True)"
   ]
  },
  {
   "cell_type": "markdown",
   "metadata": {},
   "source": [
    "### How many vehicles are we talking about? "
   ]
  },
  {
   "cell_type": "code",
   "execution_count": 6,
   "metadata": {},
   "outputs": [
    {
     "data": {
      "text/plain": [
       "'31,137,994'"
      ]
     },
     "execution_count": 6,
     "metadata": {},
     "output_type": "execute_result"
    }
   ],
   "source": [
    "'{:,.0f}'.format(vehicles.vehicles.sum())"
   ]
  },
  {
   "cell_type": "markdown",
   "metadata": {},
   "source": [
    "### Remove few 2019 models, older models and those listed as out of state"
   ]
  },
  {
   "cell_type": "code",
   "execution_count": 7,
   "metadata": {},
   "outputs": [],
   "source": [
    "# vehicles = pd.DataFrame(vehicles[(vehicles['model_year'] != '2019') &\\\n",
    "#           (vehicles['model_year'] != '<2006') &\\\n",
    "#           (vehicles['zip'] != 'OOS')\\\n",
    "#          ])"
   ]
  },
  {
   "cell_type": "markdown",
   "metadata": {},
   "source": [
    "### What's left?"
   ]
  },
  {
   "cell_type": "code",
   "execution_count": 8,
   "metadata": {},
   "outputs": [
    {
     "data": {
      "text/plain": [
       "'31,137,994'"
      ]
     },
     "execution_count": 8,
     "metadata": {},
     "output_type": "execute_result"
    }
   ],
   "source": [
    "'{:,.0f}'.format(vehicles.vehicles.sum())"
   ]
  },
  {
   "cell_type": "markdown",
   "metadata": {},
   "source": [
    "### How many don't rely solely on gasoline?"
   ]
  },
  {
   "cell_type": "code",
   "execution_count": 9,
   "metadata": {},
   "outputs": [],
   "source": [
    "nongas = vehicles[(vehicles['fuel'] != 'Gasoline')]"
   ]
  },
  {
   "cell_type": "code",
   "execution_count": 10,
   "metadata": {},
   "outputs": [
    {
     "data": {
      "text/plain": [
       "'4,159,196'"
      ]
     },
     "execution_count": 10,
     "metadata": {},
     "output_type": "execute_result"
    }
   ],
   "source": [
    "'{:,.0f}'.format(nongas.vehicles.sum())"
   ]
  },
  {
   "cell_type": "code",
   "execution_count": 11,
   "metadata": {},
   "outputs": [
    {
     "data": {
      "text/html": [
       "<div>\n",
       "<style scoped>\n",
       "    .dataframe tbody tr th:only-of-type {\n",
       "        vertical-align: middle;\n",
       "    }\n",
       "\n",
       "    .dataframe tbody tr th {\n",
       "        vertical-align: top;\n",
       "    }\n",
       "\n",
       "    .dataframe thead th {\n",
       "        text-align: right;\n",
       "    }\n",
       "</style>\n",
       "<table border=\"1\" class=\"dataframe\">\n",
       "  <thead>\n",
       "    <tr style=\"text-align: right;\">\n",
       "      <th></th>\n",
       "      <th>date</th>\n",
       "      <th>zip</th>\n",
       "      <th>model_year</th>\n",
       "      <th>fuel</th>\n",
       "      <th>make</th>\n",
       "      <th>duty</th>\n",
       "      <th>vehicles</th>\n",
       "    </tr>\n",
       "  </thead>\n",
       "  <tbody>\n",
       "    <tr>\n",
       "      <th>4</th>\n",
       "      <td>10/1/2018</td>\n",
       "      <td>90000</td>\n",
       "      <td>&lt;2006</td>\n",
       "      <td>Diesel and Diesel Hybrid</td>\n",
       "      <td>OTHER/UNK</td>\n",
       "      <td>Heavy</td>\n",
       "      <td>55</td>\n",
       "    </tr>\n",
       "    <tr>\n",
       "      <th>5</th>\n",
       "      <td>10/1/2018</td>\n",
       "      <td>90000</td>\n",
       "      <td>&lt;2006</td>\n",
       "      <td>Diesel and Diesel Hybrid</td>\n",
       "      <td>OTHER/UNK</td>\n",
       "      <td>Light</td>\n",
       "      <td>2</td>\n",
       "    </tr>\n",
       "    <tr>\n",
       "      <th>6</th>\n",
       "      <td>10/1/2018</td>\n",
       "      <td>90000</td>\n",
       "      <td>&lt;2006</td>\n",
       "      <td>Diesel and Diesel Hybrid</td>\n",
       "      <td>WHITE</td>\n",
       "      <td>Heavy</td>\n",
       "      <td>19</td>\n",
       "    </tr>\n",
       "    <tr>\n",
       "      <th>7</th>\n",
       "      <td>10/1/2018</td>\n",
       "      <td>90000</td>\n",
       "      <td>&lt;2006</td>\n",
       "      <td>Battery Electric</td>\n",
       "      <td>OTHER/UNK</td>\n",
       "      <td>Heavy</td>\n",
       "      <td>4</td>\n",
       "    </tr>\n",
       "    <tr>\n",
       "      <th>15</th>\n",
       "      <td>10/1/2018</td>\n",
       "      <td>90000</td>\n",
       "      <td>&lt;2006</td>\n",
       "      <td>Other</td>\n",
       "      <td>OTHER/UNK</td>\n",
       "      <td>Light</td>\n",
       "      <td>6</td>\n",
       "    </tr>\n",
       "    <tr>\n",
       "      <th>16</th>\n",
       "      <td>10/1/2018</td>\n",
       "      <td>90001</td>\n",
       "      <td>2006</td>\n",
       "      <td>Diesel and Diesel Hybrid</td>\n",
       "      <td>FORD</td>\n",
       "      <td>Heavy</td>\n",
       "      <td>16</td>\n",
       "    </tr>\n",
       "    <tr>\n",
       "      <th>17</th>\n",
       "      <td>10/1/2018</td>\n",
       "      <td>90001</td>\n",
       "      <td>2006</td>\n",
       "      <td>Diesel and Diesel Hybrid</td>\n",
       "      <td>OTHER/UNK</td>\n",
       "      <td>Heavy</td>\n",
       "      <td>23</td>\n",
       "    </tr>\n",
       "    <tr>\n",
       "      <th>18</th>\n",
       "      <td>10/1/2018</td>\n",
       "      <td>90001</td>\n",
       "      <td>2006</td>\n",
       "      <td>Diesel and Diesel Hybrid</td>\n",
       "      <td>OTHER/UNK</td>\n",
       "      <td>Light</td>\n",
       "      <td>9</td>\n",
       "    </tr>\n",
       "    <tr>\n",
       "      <th>19</th>\n",
       "      <td>10/1/2018</td>\n",
       "      <td>90001</td>\n",
       "      <td>2006</td>\n",
       "      <td>Battery Electric</td>\n",
       "      <td>OTHER/UNK</td>\n",
       "      <td>Light</td>\n",
       "      <td>1</td>\n",
       "    </tr>\n",
       "    <tr>\n",
       "      <th>20</th>\n",
       "      <td>10/1/2018</td>\n",
       "      <td>90001</td>\n",
       "      <td>2006</td>\n",
       "      <td>Flex-Fuel</td>\n",
       "      <td>CHEVROLET</td>\n",
       "      <td>Light</td>\n",
       "      <td>41</td>\n",
       "    </tr>\n",
       "    <tr>\n",
       "      <th>21</th>\n",
       "      <td>10/1/2018</td>\n",
       "      <td>90001</td>\n",
       "      <td>2006</td>\n",
       "      <td>Flex-Fuel</td>\n",
       "      <td>OTHER/UNK</td>\n",
       "      <td>Light</td>\n",
       "      <td>24</td>\n",
       "    </tr>\n",
       "    <tr>\n",
       "      <th>44</th>\n",
       "      <td>10/1/2018</td>\n",
       "      <td>90001</td>\n",
       "      <td>2006</td>\n",
       "      <td>Hybrid Gasoline</td>\n",
       "      <td>OTHER/UNK</td>\n",
       "      <td>Light</td>\n",
       "      <td>12</td>\n",
       "    </tr>\n",
       "    <tr>\n",
       "      <th>45</th>\n",
       "      <td>10/1/2018</td>\n",
       "      <td>90001</td>\n",
       "      <td>2006</td>\n",
       "      <td>Hybrid Gasoline</td>\n",
       "      <td>TOYOTA</td>\n",
       "      <td>Light</td>\n",
       "      <td>15</td>\n",
       "    </tr>\n",
       "    <tr>\n",
       "      <th>46</th>\n",
       "      <td>10/1/2018</td>\n",
       "      <td>90001</td>\n",
       "      <td>2006</td>\n",
       "      <td>Natural Gas</td>\n",
       "      <td>OTHER/UNK</td>\n",
       "      <td>Light</td>\n",
       "      <td>1</td>\n",
       "    </tr>\n",
       "    <tr>\n",
       "      <th>47</th>\n",
       "      <td>10/1/2018</td>\n",
       "      <td>90001</td>\n",
       "      <td>2007</td>\n",
       "      <td>Diesel and Diesel Hybrid</td>\n",
       "      <td>OTHER/UNK</td>\n",
       "      <td>Heavy</td>\n",
       "      <td>27</td>\n",
       "    </tr>\n",
       "    <tr>\n",
       "      <th>48</th>\n",
       "      <td>10/1/2018</td>\n",
       "      <td>90001</td>\n",
       "      <td>2007</td>\n",
       "      <td>Diesel and Diesel Hybrid</td>\n",
       "      <td>OTHER/UNK</td>\n",
       "      <td>Light</td>\n",
       "      <td>10</td>\n",
       "    </tr>\n",
       "    <tr>\n",
       "      <th>49</th>\n",
       "      <td>10/1/2018</td>\n",
       "      <td>90001</td>\n",
       "      <td>2007</td>\n",
       "      <td>Flex-Fuel</td>\n",
       "      <td>CHEVROLET</td>\n",
       "      <td>Light</td>\n",
       "      <td>78</td>\n",
       "    </tr>\n",
       "    <tr>\n",
       "      <th>50</th>\n",
       "      <td>10/1/2018</td>\n",
       "      <td>90001</td>\n",
       "      <td>2007</td>\n",
       "      <td>Flex-Fuel</td>\n",
       "      <td>OTHER/UNK</td>\n",
       "      <td>Light</td>\n",
       "      <td>17</td>\n",
       "    </tr>\n",
       "    <tr>\n",
       "      <th>76</th>\n",
       "      <td>10/1/2018</td>\n",
       "      <td>90001</td>\n",
       "      <td>2007</td>\n",
       "      <td>Hybrid Gasoline</td>\n",
       "      <td>OTHER/UNK</td>\n",
       "      <td>Light</td>\n",
       "      <td>11</td>\n",
       "    </tr>\n",
       "    <tr>\n",
       "      <th>77</th>\n",
       "      <td>10/1/2018</td>\n",
       "      <td>90001</td>\n",
       "      <td>2007</td>\n",
       "      <td>Hybrid Gasoline</td>\n",
       "      <td>TOYOTA</td>\n",
       "      <td>Light</td>\n",
       "      <td>34</td>\n",
       "    </tr>\n",
       "  </tbody>\n",
       "</table>\n",
       "</div>"
      ],
      "text/plain": [
       "         date    zip model_year                      fuel       make   duty  \\\n",
       "4   10/1/2018  90000      <2006  Diesel and Diesel Hybrid  OTHER/UNK  Heavy   \n",
       "5   10/1/2018  90000      <2006  Diesel and Diesel Hybrid  OTHER/UNK  Light   \n",
       "6   10/1/2018  90000      <2006  Diesel and Diesel Hybrid      WHITE  Heavy   \n",
       "7   10/1/2018  90000      <2006          Battery Electric  OTHER/UNK  Heavy   \n",
       "15  10/1/2018  90000      <2006                     Other  OTHER/UNK  Light   \n",
       "16  10/1/2018  90001       2006  Diesel and Diesel Hybrid       FORD  Heavy   \n",
       "17  10/1/2018  90001       2006  Diesel and Diesel Hybrid  OTHER/UNK  Heavy   \n",
       "18  10/1/2018  90001       2006  Diesel and Diesel Hybrid  OTHER/UNK  Light   \n",
       "19  10/1/2018  90001       2006          Battery Electric  OTHER/UNK  Light   \n",
       "20  10/1/2018  90001       2006                 Flex-Fuel  CHEVROLET  Light   \n",
       "21  10/1/2018  90001       2006                 Flex-Fuel  OTHER/UNK  Light   \n",
       "44  10/1/2018  90001       2006           Hybrid Gasoline  OTHER/UNK  Light   \n",
       "45  10/1/2018  90001       2006           Hybrid Gasoline     TOYOTA  Light   \n",
       "46  10/1/2018  90001       2006               Natural Gas  OTHER/UNK  Light   \n",
       "47  10/1/2018  90001       2007  Diesel and Diesel Hybrid  OTHER/UNK  Heavy   \n",
       "48  10/1/2018  90001       2007  Diesel and Diesel Hybrid  OTHER/UNK  Light   \n",
       "49  10/1/2018  90001       2007                 Flex-Fuel  CHEVROLET  Light   \n",
       "50  10/1/2018  90001       2007                 Flex-Fuel  OTHER/UNK  Light   \n",
       "76  10/1/2018  90001       2007           Hybrid Gasoline  OTHER/UNK  Light   \n",
       "77  10/1/2018  90001       2007           Hybrid Gasoline     TOYOTA  Light   \n",
       "\n",
       "    vehicles  \n",
       "4         55  \n",
       "5          2  \n",
       "6         19  \n",
       "7          4  \n",
       "15         6  \n",
       "16        16  \n",
       "17        23  \n",
       "18         9  \n",
       "19         1  \n",
       "20        41  \n",
       "21        24  \n",
       "44        12  \n",
       "45        15  \n",
       "46         1  \n",
       "47        27  \n",
       "48        10  \n",
       "49        78  \n",
       "50        17  \n",
       "76        11  \n",
       "77        34  "
      ]
     },
     "execution_count": 11,
     "metadata": {},
     "output_type": "execute_result"
    }
   ],
   "source": [
    "nongas.head(20)"
   ]
  },
  {
   "cell_type": "markdown",
   "metadata": {},
   "source": [
    "---"
   ]
  },
  {
   "cell_type": "markdown",
   "metadata": {},
   "source": [
    "### ZIP code points"
   ]
  },
  {
   "cell_type": "code",
   "execution_count": 12,
   "metadata": {},
   "outputs": [],
   "source": [
    "zips_point = gpd.read_file('/Users/mhustiles/data/data/GIS/zipcodes.geojson')"
   ]
  },
  {
   "cell_type": "code",
   "execution_count": 13,
   "metadata": {},
   "outputs": [],
   "source": [
    "zips_point['zip'] = zips_point['zip'].astype(str)"
   ]
  },
  {
   "cell_type": "code",
   "execution_count": 14,
   "metadata": {},
   "outputs": [],
   "source": [
    "ca_zips_point = zips_point[zips_point['state'] == 'CA']"
   ]
  },
  {
   "cell_type": "markdown",
   "metadata": {},
   "source": [
    "### ZIP code boundaries"
   ]
  },
  {
   "cell_type": "code",
   "execution_count": 15,
   "metadata": {},
   "outputs": [],
   "source": [
    "# Filtered CA from this national file maintained by Esri: \n",
    "# https://services.arcgis.com/P3ePLMYs2RVChkJx/arcgis/rest/services/USA_ZIP_Code_Areas_anaylsis/FeatureServer/0/\n",
    "zips_poly_pop = gpd.read_file('/Users/mhustiles/data/data/GIS/ca-zip-codes-esri.geojson')\n",
    "zips_poly = gpd.read_file('/Users/mhustiles/data/data/GIS/ca-zip-codes-esri-demographics.geojson')"
   ]
  },
  {
   "cell_type": "code",
   "execution_count": 16,
   "metadata": {},
   "outputs": [],
   "source": [
    "zips_poly.columns = zips_poly.columns.str.strip().str.lower().str.replace(' ', '_')\\\n",
    "                    .str.replace('(', '').str.replace(')', '').str.replace('-','_')"
   ]
  },
  {
   "cell_type": "code",
   "execution_count": 17,
   "metadata": {
    "scrolled": true
   },
   "outputs": [
    {
     "data": {
      "text/plain": [
       "<matplotlib.axes._subplots.AxesSubplot at 0x139b46c18>"
      ]
     },
     "execution_count": 17,
     "metadata": {},
     "output_type": "execute_result"
    },
    {
     "data": {
      "image/png": "[encoded data removed]",
      "text/plain": [
       "<Figure size 432x288 with 1 Axes>"
      ]
     },
     "metadata": {
      "needs_background": "light"
     },
     "output_type": "display_data"
    }
   ],
   "source": [
    "zips_poly.plot()"
   ]
  },
  {
   "cell_type": "code",
   "execution_count": 18,
   "metadata": {},
   "outputs": [],
   "source": [
    "zips_poly.dropna(inplace=True)"
   ]
  },
  {
   "cell_type": "code",
   "execution_count": 19,
   "metadata": {},
   "outputs": [
    {
     "data": {
      "text/html": [
       "<div>\n",
       "<style scoped>\n",
       "    .dataframe tbody tr th:only-of-type {\n",
       "        vertical-align: middle;\n",
       "    }\n",
       "\n",
       "    .dataframe tbody tr th {\n",
       "        vertical-align: top;\n",
       "    }\n",
       "\n",
       "    .dataframe thead th {\n",
       "        text-align: right;\n",
       "    }\n",
       "</style>\n",
       "<table border=\"1\" class=\"dataframe\">\n",
       "  <thead>\n",
       "    <tr style=\"text-align: right;\">\n",
       "      <th></th>\n",
       "      <th>objectid</th>\n",
       "      <th>zip</th>\n",
       "      <th>po_name</th>\n",
       "      <th>pop2012</th>\n",
       "      <th>white</th>\n",
       "      <th>black</th>\n",
       "      <th>ameri_es</th>\n",
       "      <th>asian</th>\n",
       "      <th>hawn_pi</th>\n",
       "      <th>hispanic</th>\n",
       "      <th>other</th>\n",
       "      <th>mult_race</th>\n",
       "      <th>med_age</th>\n",
       "      <th>ave_hh_sz</th>\n",
       "      <th>marhh_chd</th>\n",
       "      <th>families</th>\n",
       "      <th>ave_fam_sz</th>\n",
       "      <th>hse_units</th>\n",
       "      <th>sqmi</th>\n",
       "      <th>geometry</th>\n",
       "    </tr>\n",
       "  </thead>\n",
       "  <tbody>\n",
       "    <tr>\n",
       "      <th>0</th>\n",
       "      <td>4800</td>\n",
       "      <td>94002</td>\n",
       "      <td>Belmont</td>\n",
       "      <td>26832</td>\n",
       "      <td>19634</td>\n",
       "      <td>477</td>\n",
       "      <td>84</td>\n",
       "      <td>5762</td>\n",
       "      <td>221</td>\n",
       "      <td>3517</td>\n",
       "      <td>1170</td>\n",
       "      <td>1744</td>\n",
       "      <td>41.00</td>\n",
       "      <td>2.42</td>\n",
       "      <td>2925</td>\n",
       "      <td>7671</td>\n",
       "      <td>2.98</td>\n",
       "      <td>12304</td>\n",
       "      <td>5.90</td>\n",
       "      <td>POLYGON ((-122.277034540571 37.5343582023783, ...</td>\n",
       "    </tr>\n",
       "    <tr>\n",
       "      <th>1</th>\n",
       "      <td>4801</td>\n",
       "      <td>94010</td>\n",
       "      <td>Burlingame</td>\n",
       "      <td>41102</td>\n",
       "      <td>31610</td>\n",
       "      <td>482</td>\n",
       "      <td>93</td>\n",
       "      <td>10244</td>\n",
       "      <td>188</td>\n",
       "      <td>5133</td>\n",
       "      <td>1865</td>\n",
       "      <td>2166</td>\n",
       "      <td>42.60</td>\n",
       "      <td>2.43</td>\n",
       "      <td>4798</td>\n",
       "      <td>12179</td>\n",
       "      <td>3.06</td>\n",
       "      <td>20020</td>\n",
       "      <td>13.00</td>\n",
       "      <td>POLYGON ((-122.377279066574 37.6056199838047, ...</td>\n",
       "    </tr>\n",
       "    <tr>\n",
       "      <th>2</th>\n",
       "      <td>4900</td>\n",
       "      <td>93442</td>\n",
       "      <td>Morro Bay</td>\n",
       "      <td>10873</td>\n",
       "      <td>9395</td>\n",
       "      <td>47</td>\n",
       "      <td>104</td>\n",
       "      <td>281</td>\n",
       "      <td>10</td>\n",
       "      <td>1602</td>\n",
       "      <td>645</td>\n",
       "      <td>322</td>\n",
       "      <td>48.90</td>\n",
       "      <td>2.09</td>\n",
       "      <td>593</td>\n",
       "      <td>2749</td>\n",
       "      <td>2.70</td>\n",
       "      <td>6609</td>\n",
       "      <td>43.20</td>\n",
       "      <td>POLYGON ((-120.772553656772 35.4619572932372, ...</td>\n",
       "    </tr>\n",
       "    <tr>\n",
       "      <th>3</th>\n",
       "      <td>4901</td>\n",
       "      <td>93445</td>\n",
       "      <td>Oceano</td>\n",
       "      <td>7633</td>\n",
       "      <td>4683</td>\n",
       "      <td>60</td>\n",
       "      <td>114</td>\n",
       "      <td>155</td>\n",
       "      <td>7</td>\n",
       "      <td>3389</td>\n",
       "      <td>1477</td>\n",
       "      <td>283</td>\n",
       "      <td>34.70</td>\n",
       "      <td>2.86</td>\n",
       "      <td>541</td>\n",
       "      <td>1582</td>\n",
       "      <td>3.42</td>\n",
       "      <td>2871</td>\n",
       "      <td>2.00</td>\n",
       "      <td>POLYGON ((-120.63623999603 35.1221336393226, -...</td>\n",
       "    </tr>\n",
       "    <tr>\n",
       "      <th>4</th>\n",
       "      <td>4802</td>\n",
       "      <td>94015</td>\n",
       "      <td>Daly City</td>\n",
       "      <td>61575</td>\n",
       "      <td>14279</td>\n",
       "      <td>2138</td>\n",
       "      <td>168</td>\n",
       "      <td>35940</td>\n",
       "      <td>482</td>\n",
       "      <td>9775</td>\n",
       "      <td>4520</td>\n",
       "      <td>2939</td>\n",
       "      <td>39.00</td>\n",
       "      <td>3.10</td>\n",
       "      <td>4637</td>\n",
       "      <td>13991</td>\n",
       "      <td>3.54</td>\n",
       "      <td>20103</td>\n",
       "      <td>5.70</td>\n",
       "      <td>POLYGON ((-122.502826389233 37.7081318430574, ...</td>\n",
       "    </tr>\n",
       "  </tbody>\n",
       "</table>\n",
       "</div>"
      ],
      "text/plain": [
       "   objectid    zip     po_name  pop2012  white  black  ameri_es  asian  \\\n",
       "0      4800  94002     Belmont    26832  19634    477        84   5762   \n",
       "1      4801  94010  Burlingame    41102  31610    482        93  10244   \n",
       "2      4900  93442   Morro Bay    10873   9395     47       104    281   \n",
       "3      4901  93445      Oceano     7633   4683     60       114    155   \n",
       "4      4802  94015   Daly City    61575  14279   2138       168  35940   \n",
       "\n",
       "   hawn_pi  hispanic  other  mult_race  med_age  ave_hh_sz  marhh_chd  \\\n",
       "0      221      3517   1170       1744    41.00       2.42       2925   \n",
       "1      188      5133   1865       2166    42.60       2.43       4798   \n",
       "2       10      1602    645        322    48.90       2.09        593   \n",
       "3        7      3389   1477        283    34.70       2.86        541   \n",
       "4      482      9775   4520       2939    39.00       3.10       4637   \n",
       "\n",
       "   families  ave_fam_sz  hse_units  sqmi  \\\n",
       "0      7671        2.98      12304  5.90   \n",
       "1     12179        3.06      20020 13.00   \n",
       "2      2749        2.70       6609 43.20   \n",
       "3      1582        3.42       2871  2.00   \n",
       "4     13991        3.54      20103  5.70   \n",
       "\n",
       "                                            geometry  \n",
       "0  POLYGON ((-122.277034540571 37.5343582023783, ...  \n",
       "1  POLYGON ((-122.377279066574 37.6056199838047, ...  \n",
       "2  POLYGON ((-120.772553656772 35.4619572932372, ...  \n",
       "3  POLYGON ((-120.63623999603 35.1221336393226, -...  \n",
       "4  POLYGON ((-122.502826389233 37.7081318430574, ...  "
      ]
     },
     "execution_count": 19,
     "metadata": {},
     "output_type": "execute_result"
    }
   ],
   "source": [
    "zips_poly.head()"
   ]
  },
  {
   "cell_type": "code",
   "execution_count": 20,
   "metadata": {},
   "outputs": [],
   "source": [
    "zips_poly.rename(columns={\"zip_code\": \"zip\"}, inplace=True)"
   ]
  },
  {
   "cell_type": "markdown",
   "metadata": {},
   "source": [
    "---"
   ]
  },
  {
   "cell_type": "markdown",
   "metadata": {},
   "source": [
    "### In case we need income data to explain ZIP codes, let's also read in U.S. Census zctas"
   ]
  },
  {
   "cell_type": "code",
   "execution_count": 21,
   "metadata": {},
   "outputs": [],
   "source": [
    "# Because our questions will be related to household characteristics, we need to use census zip code tabulation areas.\n",
    "zctas = pd.read_csv('input/processed/acs5_2017_medianhouseholdincome_zctas.csv')"
   ]
  },
  {
   "cell_type": "markdown",
   "metadata": {},
   "source": [
    "### Read zctas that have already been related to closest census place"
   ]
  },
  {
   "cell_type": "code",
   "execution_count": 22,
   "metadata": {},
   "outputs": [],
   "source": [
    "zctas_crosswalk = pd.read_csv('/Users/mhustiles/data/github/notebooks/zctas/input/zcta_place.csv')"
   ]
  },
  {
   "cell_type": "code",
   "execution_count": 23,
   "metadata": {},
   "outputs": [],
   "source": [
    "zctas_crosswalk.columns = zctas_crosswalk.columns.str.strip().str.lower().str.replace(' ', '_')\\\n",
    "    .str.replace('(', '').str.replace(')', '')"
   ]
  },
  {
   "cell_type": "code",
   "execution_count": 24,
   "metadata": {},
   "outputs": [],
   "source": [
    "ca_zctas_crosswalk = pd.DataFrame(zctas_crosswalk[zctas_crosswalk['st'] == 'CA'])"
   ]
  },
  {
   "cell_type": "code",
   "execution_count": 25,
   "metadata": {},
   "outputs": [],
   "source": [
    "ca_zctas_crosswalk.drop(columns=['st','stplace', 'population_part',\n",
    "       'hsgunits_part', 'area_part', 'artealand_part', 'zip_population',\n",
    "       'zip_hsgunits', 'zip_area', 'zip_landarea', 'place_population',\n",
    "       'place_hsgunits', 'place_area', 'place_landarea', 'zip_pop%', 'zip_hu%',\n",
    "       'zip_area%', 'zip_land%', 'place_pop%', 'place_hu%', 'place_area%',\n",
    "       'place_land'], inplace=True)"
   ]
  },
  {
   "cell_type": "code",
   "execution_count": 26,
   "metadata": {},
   "outputs": [
    {
     "data": {
      "text/plain": [
       "Index(['zcta', 'place_name', 'type'], dtype='object')"
      ]
     },
     "execution_count": 26,
     "metadata": {},
     "output_type": "execute_result"
    }
   ],
   "source": [
    "ca_zctas_crosswalk.columns"
   ]
  },
  {
   "cell_type": "markdown",
   "metadata": {},
   "source": [
    "### Clean up ZIP code income table by removing null values"
   ]
  },
  {
   "cell_type": "code",
   "execution_count": 27,
   "metadata": {},
   "outputs": [],
   "source": [
    "zctas_income = zctas[zctas['median'] != -666666666.0].reset_index()"
   ]
  },
  {
   "cell_type": "code",
   "execution_count": 28,
   "metadata": {},
   "outputs": [],
   "source": [
    "zctas_income.drop(columns=['index','name','median_annotation', \\\n",
    "                         'median_moe','median_moe_annotation', 'zip code tabulation area'], inplace=True)"
   ]
  },
  {
   "cell_type": "code",
   "execution_count": 29,
   "metadata": {},
   "outputs": [],
   "source": [
    "zctas_income['zcta'] = zctas_income['geoid'].astype(str)"
   ]
  },
  {
   "cell_type": "markdown",
   "metadata": {},
   "source": [
    "### Merge place names to zctas "
   ]
  },
  {
   "cell_type": "code",
   "execution_count": 30,
   "metadata": {},
   "outputs": [],
   "source": [
    "ca_zctas_crosswalk_slim = ca_zctas_crosswalk[['zcta','place_name']]"
   ]
  },
  {
   "cell_type": "code",
   "execution_count": 31,
   "metadata": {},
   "outputs": [],
   "source": [
    "zctas_place = pd.merge(ca_zctas_crosswalk, zctas, left_on='zcta', right_on='geoid')"
   ]
  },
  {
   "cell_type": "code",
   "execution_count": 32,
   "metadata": {},
   "outputs": [],
   "source": [
    "zctas_place.place_name = zctas_place.place_name.str.replace(' CDP','')\\\n",
    ".str.replace(' city','')"
   ]
  },
  {
   "cell_type": "code",
   "execution_count": 33,
   "metadata": {},
   "outputs": [],
   "source": [
    "zctas_place.drop(columns=['name','name','median_moe', 'median_annotation',\\\n",
    "                         'median_moe','median_moe_annotation', 'zip code tabulation area','zip code tabulation area'], inplace=True)"
   ]
  },
  {
   "cell_type": "code",
   "execution_count": 34,
   "metadata": {},
   "outputs": [],
   "source": [
    "zctas_clean = zctas_place[zctas_place['type'] == 'U1']"
   ]
  },
  {
   "cell_type": "code",
   "execution_count": 35,
   "metadata": {},
   "outputs": [
    {
     "data": {
      "text/plain": [
       "1398"
      ]
     },
     "execution_count": 35,
     "metadata": {},
     "output_type": "execute_result"
    }
   ],
   "source": [
    "len(zctas_clean)"
   ]
  },
  {
   "cell_type": "markdown",
   "metadata": {},
   "source": [
    "---"
   ]
  },
  {
   "cell_type": "markdown",
   "metadata": {},
   "source": [
    "### Group the vehicles and count them by ZIP code"
   ]
  },
  {
   "cell_type": "code",
   "execution_count": 36,
   "metadata": {},
   "outputs": [],
   "source": [
    "zipcodes = vehicles.groupby(['zip']).agg({'vehicles':'sum'}).reset_index()"
   ]
  },
  {
   "cell_type": "code",
   "execution_count": 37,
   "metadata": {},
   "outputs": [],
   "source": [
    "zipcodes.sort_values(by='vehicles', ascending=False).head(10)\n",
    "zipcodes['zip'] = zipcodes['zip'].astype(str)"
   ]
  },
  {
   "cell_type": "markdown",
   "metadata": {},
   "source": [
    "### Merge the income information with the ZIP code dataframe for use throughout "
   ]
  },
  {
   "cell_type": "code",
   "execution_count": 38,
   "metadata": {},
   "outputs": [],
   "source": [
    "zctas_income = pd.merge(zctas_income, zipcodes, left_on='zcta', right_on='zip')\n",
    "zips = pd.merge(zips_poly, zipcodes, left_on='zip', right_on='zip')"
   ]
  },
  {
   "cell_type": "code",
   "execution_count": 39,
   "metadata": {},
   "outputs": [
    {
     "data": {
      "text/html": [
       "<div>\n",
       "<style scoped>\n",
       "    .dataframe tbody tr th:only-of-type {\n",
       "        vertical-align: middle;\n",
       "    }\n",
       "\n",
       "    .dataframe tbody tr th {\n",
       "        vertical-align: top;\n",
       "    }\n",
       "\n",
       "    .dataframe thead th {\n",
       "        text-align: right;\n",
       "    }\n",
       "</style>\n",
       "<table border=\"1\" class=\"dataframe\">\n",
       "  <thead>\n",
       "    <tr style=\"text-align: right;\">\n",
       "      <th></th>\n",
       "      <th>objectid</th>\n",
       "      <th>zip</th>\n",
       "      <th>po_name</th>\n",
       "      <th>pop2012</th>\n",
       "      <th>white</th>\n",
       "      <th>black</th>\n",
       "      <th>ameri_es</th>\n",
       "      <th>asian</th>\n",
       "      <th>hawn_pi</th>\n",
       "      <th>hispanic</th>\n",
       "      <th>other</th>\n",
       "      <th>mult_race</th>\n",
       "      <th>med_age</th>\n",
       "      <th>ave_hh_sz</th>\n",
       "      <th>marhh_chd</th>\n",
       "      <th>families</th>\n",
       "      <th>ave_fam_sz</th>\n",
       "      <th>hse_units</th>\n",
       "      <th>sqmi</th>\n",
       "      <th>geometry</th>\n",
       "      <th>vehicles</th>\n",
       "    </tr>\n",
       "  </thead>\n",
       "  <tbody>\n",
       "    <tr>\n",
       "      <th>0</th>\n",
       "      <td>4800</td>\n",
       "      <td>94002</td>\n",
       "      <td>Belmont</td>\n",
       "      <td>26832</td>\n",
       "      <td>19634</td>\n",
       "      <td>477</td>\n",
       "      <td>84</td>\n",
       "      <td>5762</td>\n",
       "      <td>221</td>\n",
       "      <td>3517</td>\n",
       "      <td>1170</td>\n",
       "      <td>1744</td>\n",
       "      <td>41.00</td>\n",
       "      <td>2.42</td>\n",
       "      <td>2925</td>\n",
       "      <td>7671</td>\n",
       "      <td>2.98</td>\n",
       "      <td>12304</td>\n",
       "      <td>5.90</td>\n",
       "      <td>POLYGON ((-122.277034540571 37.5343582023783, ...</td>\n",
       "      <td>23019</td>\n",
       "    </tr>\n",
       "    <tr>\n",
       "      <th>1</th>\n",
       "      <td>4801</td>\n",
       "      <td>94010</td>\n",
       "      <td>Burlingame</td>\n",
       "      <td>41102</td>\n",
       "      <td>31610</td>\n",
       "      <td>482</td>\n",
       "      <td>93</td>\n",
       "      <td>10244</td>\n",
       "      <td>188</td>\n",
       "      <td>5133</td>\n",
       "      <td>1865</td>\n",
       "      <td>2166</td>\n",
       "      <td>42.60</td>\n",
       "      <td>2.43</td>\n",
       "      <td>4798</td>\n",
       "      <td>12179</td>\n",
       "      <td>3.06</td>\n",
       "      <td>20020</td>\n",
       "      <td>13.00</td>\n",
       "      <td>POLYGON ((-122.377279066574 37.6056199838047, ...</td>\n",
       "      <td>45470</td>\n",
       "    </tr>\n",
       "    <tr>\n",
       "      <th>2</th>\n",
       "      <td>4900</td>\n",
       "      <td>93442</td>\n",
       "      <td>Morro Bay</td>\n",
       "      <td>10873</td>\n",
       "      <td>9395</td>\n",
       "      <td>47</td>\n",
       "      <td>104</td>\n",
       "      <td>281</td>\n",
       "      <td>10</td>\n",
       "      <td>1602</td>\n",
       "      <td>645</td>\n",
       "      <td>322</td>\n",
       "      <td>48.90</td>\n",
       "      <td>2.09</td>\n",
       "      <td>593</td>\n",
       "      <td>2749</td>\n",
       "      <td>2.70</td>\n",
       "      <td>6609</td>\n",
       "      <td>43.20</td>\n",
       "      <td>POLYGON ((-120.772553656772 35.4619572932372, ...</td>\n",
       "      <td>10162</td>\n",
       "    </tr>\n",
       "    <tr>\n",
       "      <th>3</th>\n",
       "      <td>4901</td>\n",
       "      <td>93445</td>\n",
       "      <td>Oceano</td>\n",
       "      <td>7633</td>\n",
       "      <td>4683</td>\n",
       "      <td>60</td>\n",
       "      <td>114</td>\n",
       "      <td>155</td>\n",
       "      <td>7</td>\n",
       "      <td>3389</td>\n",
       "      <td>1477</td>\n",
       "      <td>283</td>\n",
       "      <td>34.70</td>\n",
       "      <td>2.86</td>\n",
       "      <td>541</td>\n",
       "      <td>1582</td>\n",
       "      <td>3.42</td>\n",
       "      <td>2871</td>\n",
       "      <td>2.00</td>\n",
       "      <td>POLYGON ((-120.63623999603 35.1221336393226, -...</td>\n",
       "      <td>5768</td>\n",
       "    </tr>\n",
       "    <tr>\n",
       "      <th>4</th>\n",
       "      <td>4802</td>\n",
       "      <td>94015</td>\n",
       "      <td>Daly City</td>\n",
       "      <td>61575</td>\n",
       "      <td>14279</td>\n",
       "      <td>2138</td>\n",
       "      <td>168</td>\n",
       "      <td>35940</td>\n",
       "      <td>482</td>\n",
       "      <td>9775</td>\n",
       "      <td>4520</td>\n",
       "      <td>2939</td>\n",
       "      <td>39.00</td>\n",
       "      <td>3.10</td>\n",
       "      <td>4637</td>\n",
       "      <td>13991</td>\n",
       "      <td>3.54</td>\n",
       "      <td>20103</td>\n",
       "      <td>5.70</td>\n",
       "      <td>POLYGON ((-122.502826389233 37.7081318430574, ...</td>\n",
       "      <td>45037</td>\n",
       "    </tr>\n",
       "  </tbody>\n",
       "</table>\n",
       "</div>"
      ],
      "text/plain": [
       "   objectid    zip     po_name  pop2012  white  black  ameri_es  asian  \\\n",
       "0      4800  94002     Belmont    26832  19634    477        84   5762   \n",
       "1      4801  94010  Burlingame    41102  31610    482        93  10244   \n",
       "2      4900  93442   Morro Bay    10873   9395     47       104    281   \n",
       "3      4901  93445      Oceano     7633   4683     60       114    155   \n",
       "4      4802  94015   Daly City    61575  14279   2138       168  35940   \n",
       "\n",
       "   hawn_pi  hispanic  other  mult_race  med_age  ave_hh_sz  marhh_chd  \\\n",
       "0      221      3517   1170       1744    41.00       2.42       2925   \n",
       "1      188      5133   1865       2166    42.60       2.43       4798   \n",
       "2       10      1602    645        322    48.90       2.09        593   \n",
       "3        7      3389   1477        283    34.70       2.86        541   \n",
       "4      482      9775   4520       2939    39.00       3.10       4637   \n",
       "\n",
       "   families  ave_fam_sz  hse_units  sqmi  \\\n",
       "0      7671        2.98      12304  5.90   \n",
       "1     12179        3.06      20020 13.00   \n",
       "2      2749        2.70       6609 43.20   \n",
       "3      1582        3.42       2871  2.00   \n",
       "4     13991        3.54      20103  5.70   \n",
       "\n",
       "                                            geometry  vehicles  \n",
       "0  POLYGON ((-122.277034540571 37.5343582023783, ...     23019  \n",
       "1  POLYGON ((-122.377279066574 37.6056199838047, ...     45470  \n",
       "2  POLYGON ((-120.772553656772 35.4619572932372, ...     10162  \n",
       "3  POLYGON ((-120.63623999603 35.1221336393226, -...      5768  \n",
       "4  POLYGON ((-122.502826389233 37.7081318430574, ...     45037  "
      ]
     },
     "execution_count": 39,
     "metadata": {},
     "output_type": "execute_result"
    }
   ],
   "source": [
    "zips.head()"
   ]
  },
  {
   "cell_type": "markdown",
   "metadata": {},
   "source": [
    "---"
   ]
  },
  {
   "cell_type": "markdown",
   "metadata": {},
   "source": [
    "### Group by duty. Which are most common? "
   ]
  },
  {
   "cell_type": "code",
   "execution_count": 40,
   "metadata": {},
   "outputs": [
    {
     "data": {
      "text/html": [
       "<div>\n",
       "<style scoped>\n",
       "    .dataframe tbody tr th:only-of-type {\n",
       "        vertical-align: middle;\n",
       "    }\n",
       "\n",
       "    .dataframe tbody tr th {\n",
       "        vertical-align: top;\n",
       "    }\n",
       "\n",
       "    .dataframe thead th {\n",
       "        text-align: right;\n",
       "    }\n",
       "</style>\n",
       "<table border=\"1\" class=\"dataframe\">\n",
       "  <thead>\n",
       "    <tr style=\"text-align: right;\">\n",
       "      <th></th>\n",
       "      <th>duty</th>\n",
       "      <th>vehicles</th>\n",
       "    </tr>\n",
       "  </thead>\n",
       "  <tbody>\n",
       "    <tr>\n",
       "      <th>0</th>\n",
       "      <td>Heavy</td>\n",
       "      <td>1050878</td>\n",
       "    </tr>\n",
       "    <tr>\n",
       "      <th>1</th>\n",
       "      <td>Light</td>\n",
       "      <td>30087116</td>\n",
       "    </tr>\n",
       "  </tbody>\n",
       "</table>\n",
       "</div>"
      ],
      "text/plain": [
       "    duty  vehicles\n",
       "0  Heavy   1050878\n",
       "1  Light  30087116"
      ]
     },
     "execution_count": 40,
     "metadata": {},
     "output_type": "execute_result"
    }
   ],
   "source": [
    "# About 2.5 are listed as OTHER/UNK\n",
    "duty_totals = vehicles.groupby(['duty']).agg('sum').reset_index()\n",
    "duty_totals.head()"
   ]
  },
  {
   "cell_type": "markdown",
   "metadata": {},
   "source": [
    "### Group by make. Which are most common? "
   ]
  },
  {
   "cell_type": "code",
   "execution_count": 41,
   "metadata": {},
   "outputs": [],
   "source": [
    "# About 2.5 are listed as OTHER/UNK\n",
    "make = vehicles[vehicles['make'] != 'OTHER/UNK'].groupby(['make', 'zip']).agg('sum').reset_index()"
   ]
  },
  {
   "cell_type": "code",
   "execution_count": 42,
   "metadata": {},
   "outputs": [],
   "source": [
    "most_make = make.groupby(['make']).agg('sum').reset_index().sort_values(by='vehicles', ascending=False)"
   ]
  },
  {
   "cell_type": "code",
   "execution_count": 43,
   "metadata": {},
   "outputs": [],
   "source": [
    "makelist = most_make.make.to_list()"
   ]
  },
  {
   "cell_type": "code",
   "execution_count": 44,
   "metadata": {},
   "outputs": [],
   "source": [
    "popular_makes = make[make['make'].isin(makelist)]"
   ]
  },
  {
   "cell_type": "code",
   "execution_count": 45,
   "metadata": {},
   "outputs": [],
   "source": [
    "make_zip = pd.DataFrame(pd.pivot_table(popular_makes, values='vehicles', \\\n",
    "                            index=['zip'], columns=['make'], aggfunc=np.sum, fill_value=0).reset_index())"
   ]
  },
  {
   "cell_type": "code",
   "execution_count": 46,
   "metadata": {},
   "outputs": [],
   "source": [
    "make_zip.columns = make_zip.columns.str.strip().str.lower().str.replace(' ', '_')\\\n",
    "                    .str.replace('(', '').str.replace(')', '').str.replace('-','_')"
   ]
  },
  {
   "cell_type": "markdown",
   "metadata": {},
   "source": [
    "### Which make is most common in each ZIP code? "
   ]
  },
  {
   "cell_type": "code",
   "execution_count": 47,
   "metadata": {},
   "outputs": [],
   "source": [
    "make_zip[\"total\"] = make_zip.sum(axis=1)"
   ]
  },
  {
   "cell_type": "code",
   "execution_count": 48,
   "metadata": {},
   "outputs": [
    {
     "data": {
      "text/html": [
       "<div>\n",
       "<style scoped>\n",
       "    .dataframe tbody tr th:only-of-type {\n",
       "        vertical-align: middle;\n",
       "    }\n",
       "\n",
       "    .dataframe tbody tr th {\n",
       "        vertical-align: top;\n",
       "    }\n",
       "\n",
       "    .dataframe thead th {\n",
       "        text-align: right;\n",
       "    }\n",
       "</style>\n",
       "<table border=\"1\" class=\"dataframe\">\n",
       "  <thead>\n",
       "    <tr style=\"text-align: right;\">\n",
       "      <th>make</th>\n",
       "      <th>zip</th>\n",
       "      <th>acura</th>\n",
       "      <th>alfa_romeo</th>\n",
       "      <th>allianz</th>\n",
       "      <th>am_general</th>\n",
       "      <th>american_custom_golfcarts</th>\n",
       "      <th>american_lafrance</th>\n",
       "      <th>aston_martin</th>\n",
       "      <th>audi</th>\n",
       "      <th>autocar</th>\n",
       "      <th>bentley</th>\n",
       "      <th>bluebird</th>\n",
       "      <th>bmw</th>\n",
       "      <th>buick</th>\n",
       "      <th>cadillac</th>\n",
       "      <th>capacity_of_texas_inc</th>\n",
       "      <th>caterpillar</th>\n",
       "      <th>chevrolet</th>\n",
       "      <th>chrysler</th>\n",
       "      <th>club_car</th>\n",
       "      <th>columbia</th>\n",
       "      <th>crane_carrier</th>\n",
       "      <th>crown_coach_inc</th>\n",
       "      <th>dodge</th>\n",
       "      <th>dymac_vehicle_group_inc</th>\n",
       "      <th>...</th>\n",
       "      <th>scion</th>\n",
       "      <th>smart</th>\n",
       "      <th>smith</th>\n",
       "      <th>spartan</th>\n",
       "      <th>special_construction</th>\n",
       "      <th>sterling</th>\n",
       "      <th>subaru</th>\n",
       "      <th>suzuki</th>\n",
       "      <th>tesla</th>\n",
       "      <th>thomas_bus</th>\n",
       "      <th>tmc_greyhound</th>\n",
       "      <th>tomberlin</th>\n",
       "      <th>toyota</th>\n",
       "      <th>trolley</th>\n",
       "      <th>ud_trucks</th>\n",
       "      <th>van_hool</th>\n",
       "      <th>volkswagen</th>\n",
       "      <th>volvo</th>\n",
       "      <th>vpg</th>\n",
       "      <th>western_golf_cart</th>\n",
       "      <th>western_star</th>\n",
       "      <th>white</th>\n",
       "      <th>white/gmc</th>\n",
       "      <th>workhorse</th>\n",
       "      <th>total</th>\n",
       "    </tr>\n",
       "  </thead>\n",
       "  <tbody>\n",
       "    <tr>\n",
       "      <th>2277</th>\n",
       "      <td>OOS</td>\n",
       "      <td>4143</td>\n",
       "      <td>50</td>\n",
       "      <td>0</td>\n",
       "      <td>0</td>\n",
       "      <td>0</td>\n",
       "      <td>0</td>\n",
       "      <td>0</td>\n",
       "      <td>5030</td>\n",
       "      <td>0</td>\n",
       "      <td>33</td>\n",
       "      <td>38</td>\n",
       "      <td>9274</td>\n",
       "      <td>1699</td>\n",
       "      <td>5780</td>\n",
       "      <td>14</td>\n",
       "      <td>27</td>\n",
       "      <td>85769</td>\n",
       "      <td>5703</td>\n",
       "      <td>0</td>\n",
       "      <td>0</td>\n",
       "      <td>0</td>\n",
       "      <td>0</td>\n",
       "      <td>40833</td>\n",
       "      <td>0</td>\n",
       "      <td>...</td>\n",
       "      <td>1838</td>\n",
       "      <td>100</td>\n",
       "      <td>116</td>\n",
       "      <td>20</td>\n",
       "      <td>78</td>\n",
       "      <td>173</td>\n",
       "      <td>7139</td>\n",
       "      <td>169</td>\n",
       "      <td>1578</td>\n",
       "      <td>259</td>\n",
       "      <td>0</td>\n",
       "      <td>0</td>\n",
       "      <td>71899</td>\n",
       "      <td>0</td>\n",
       "      <td>12</td>\n",
       "      <td>15</td>\n",
       "      <td>7776</td>\n",
       "      <td>4139</td>\n",
       "      <td>0</td>\n",
       "      <td>15</td>\n",
       "      <td>0</td>\n",
       "      <td>0</td>\n",
       "      <td>0</td>\n",
       "      <td>423</td>\n",
       "      <td>643992</td>\n",
       "    </tr>\n",
       "    <tr>\n",
       "      <th>45</th>\n",
       "      <td>90045</td>\n",
       "      <td>466</td>\n",
       "      <td>0</td>\n",
       "      <td>0</td>\n",
       "      <td>0</td>\n",
       "      <td>0</td>\n",
       "      <td>0</td>\n",
       "      <td>0</td>\n",
       "      <td>728</td>\n",
       "      <td>0</td>\n",
       "      <td>0</td>\n",
       "      <td>0</td>\n",
       "      <td>1819</td>\n",
       "      <td>923</td>\n",
       "      <td>755</td>\n",
       "      <td>0</td>\n",
       "      <td>0</td>\n",
       "      <td>10250</td>\n",
       "      <td>3285</td>\n",
       "      <td>0</td>\n",
       "      <td>0</td>\n",
       "      <td>0</td>\n",
       "      <td>0</td>\n",
       "      <td>8257</td>\n",
       "      <td>0</td>\n",
       "      <td>...</td>\n",
       "      <td>149</td>\n",
       "      <td>0</td>\n",
       "      <td>0</td>\n",
       "      <td>0</td>\n",
       "      <td>0</td>\n",
       "      <td>0</td>\n",
       "      <td>685</td>\n",
       "      <td>0</td>\n",
       "      <td>178</td>\n",
       "      <td>0</td>\n",
       "      <td>0</td>\n",
       "      <td>0</td>\n",
       "      <td>19182</td>\n",
       "      <td>0</td>\n",
       "      <td>0</td>\n",
       "      <td>0</td>\n",
       "      <td>4104</td>\n",
       "      <td>427</td>\n",
       "      <td>0</td>\n",
       "      <td>0</td>\n",
       "      <td>0</td>\n",
       "      <td>0</td>\n",
       "      <td>0</td>\n",
       "      <td>0</td>\n",
       "      <td>133991</td>\n",
       "    </tr>\n",
       "    <tr>\n",
       "      <th>1330</th>\n",
       "      <td>94080</td>\n",
       "      <td>1260</td>\n",
       "      <td>0</td>\n",
       "      <td>0</td>\n",
       "      <td>0</td>\n",
       "      <td>0</td>\n",
       "      <td>0</td>\n",
       "      <td>0</td>\n",
       "      <td>529</td>\n",
       "      <td>0</td>\n",
       "      <td>0</td>\n",
       "      <td>0</td>\n",
       "      <td>2010</td>\n",
       "      <td>1242</td>\n",
       "      <td>542</td>\n",
       "      <td>0</td>\n",
       "      <td>0</td>\n",
       "      <td>13075</td>\n",
       "      <td>2391</td>\n",
       "      <td>0</td>\n",
       "      <td>0</td>\n",
       "      <td>0</td>\n",
       "      <td>0</td>\n",
       "      <td>2418</td>\n",
       "      <td>0</td>\n",
       "      <td>...</td>\n",
       "      <td>472</td>\n",
       "      <td>11</td>\n",
       "      <td>0</td>\n",
       "      <td>0</td>\n",
       "      <td>0</td>\n",
       "      <td>0</td>\n",
       "      <td>2118</td>\n",
       "      <td>16</td>\n",
       "      <td>147</td>\n",
       "      <td>0</td>\n",
       "      <td>0</td>\n",
       "      <td>0</td>\n",
       "      <td>23269</td>\n",
       "      <td>0</td>\n",
       "      <td>0</td>\n",
       "      <td>13</td>\n",
       "      <td>1737</td>\n",
       "      <td>272</td>\n",
       "      <td>0</td>\n",
       "      <td>0</td>\n",
       "      <td>0</td>\n",
       "      <td>0</td>\n",
       "      <td>0</td>\n",
       "      <td>49</td>\n",
       "      <td>124834</td>\n",
       "    </tr>\n",
       "    <tr>\n",
       "      <th>572</th>\n",
       "      <td>92154</td>\n",
       "      <td>734</td>\n",
       "      <td>0</td>\n",
       "      <td>0</td>\n",
       "      <td>0</td>\n",
       "      <td>0</td>\n",
       "      <td>0</td>\n",
       "      <td>0</td>\n",
       "      <td>394</td>\n",
       "      <td>0</td>\n",
       "      <td>0</td>\n",
       "      <td>0</td>\n",
       "      <td>1764</td>\n",
       "      <td>418</td>\n",
       "      <td>385</td>\n",
       "      <td>0</td>\n",
       "      <td>0</td>\n",
       "      <td>5939</td>\n",
       "      <td>1105</td>\n",
       "      <td>0</td>\n",
       "      <td>0</td>\n",
       "      <td>0</td>\n",
       "      <td>0</td>\n",
       "      <td>2471</td>\n",
       "      <td>0</td>\n",
       "      <td>...</td>\n",
       "      <td>703</td>\n",
       "      <td>0</td>\n",
       "      <td>0</td>\n",
       "      <td>0</td>\n",
       "      <td>0</td>\n",
       "      <td>99</td>\n",
       "      <td>572</td>\n",
       "      <td>89</td>\n",
       "      <td>13</td>\n",
       "      <td>0</td>\n",
       "      <td>0</td>\n",
       "      <td>0</td>\n",
       "      <td>12278</td>\n",
       "      <td>0</td>\n",
       "      <td>0</td>\n",
       "      <td>0</td>\n",
       "      <td>2691</td>\n",
       "      <td>445</td>\n",
       "      <td>0</td>\n",
       "      <td>0</td>\n",
       "      <td>0</td>\n",
       "      <td>0</td>\n",
       "      <td>0</td>\n",
       "      <td>15</td>\n",
       "      <td>75175</td>\n",
       "    </tr>\n",
       "    <tr>\n",
       "      <th>166</th>\n",
       "      <td>90650</td>\n",
       "      <td>906</td>\n",
       "      <td>0</td>\n",
       "      <td>0</td>\n",
       "      <td>0</td>\n",
       "      <td>0</td>\n",
       "      <td>0</td>\n",
       "      <td>0</td>\n",
       "      <td>371</td>\n",
       "      <td>0</td>\n",
       "      <td>0</td>\n",
       "      <td>0</td>\n",
       "      <td>1504</td>\n",
       "      <td>284</td>\n",
       "      <td>459</td>\n",
       "      <td>0</td>\n",
       "      <td>0</td>\n",
       "      <td>7774</td>\n",
       "      <td>863</td>\n",
       "      <td>0</td>\n",
       "      <td>0</td>\n",
       "      <td>0</td>\n",
       "      <td>0</td>\n",
       "      <td>2670</td>\n",
       "      <td>0</td>\n",
       "      <td>...</td>\n",
       "      <td>1142</td>\n",
       "      <td>0</td>\n",
       "      <td>0</td>\n",
       "      <td>0</td>\n",
       "      <td>0</td>\n",
       "      <td>11</td>\n",
       "      <td>419</td>\n",
       "      <td>38</td>\n",
       "      <td>18</td>\n",
       "      <td>0</td>\n",
       "      <td>0</td>\n",
       "      <td>0</td>\n",
       "      <td>16196</td>\n",
       "      <td>0</td>\n",
       "      <td>0</td>\n",
       "      <td>0</td>\n",
       "      <td>1050</td>\n",
       "      <td>118</td>\n",
       "      <td>0</td>\n",
       "      <td>0</td>\n",
       "      <td>0</td>\n",
       "      <td>0</td>\n",
       "      <td>0</td>\n",
       "      <td>12</td>\n",
       "      <td>73767</td>\n",
       "    </tr>\n",
       "  </tbody>\n",
       "</table>\n",
       "<p>5 rows × 116 columns</p>\n",
       "</div>"
      ],
      "text/plain": [
       "make    zip  acura  alfa_romeo  allianz  am_general  \\\n",
       "2277    OOS   4143          50        0           0   \n",
       "45    90045    466           0        0           0   \n",
       "1330  94080   1260           0        0           0   \n",
       "572   92154    734           0        0           0   \n",
       "166   90650    906           0        0           0   \n",
       "\n",
       "make  american_custom_golfcarts  american_lafrance  aston_martin  audi  \\\n",
       "2277                          0                  0             0  5030   \n",
       "45                            0                  0             0   728   \n",
       "1330                          0                  0             0   529   \n",
       "572                           0                  0             0   394   \n",
       "166                           0                  0             0   371   \n",
       "\n",
       "make  autocar  bentley  bluebird   bmw  buick  cadillac  \\\n",
       "2277        0       33        38  9274   1699      5780   \n",
       "45          0        0         0  1819    923       755   \n",
       "1330        0        0         0  2010   1242       542   \n",
       "572         0        0         0  1764    418       385   \n",
       "166         0        0         0  1504    284       459   \n",
       "\n",
       "make  capacity_of_texas_inc  caterpillar  chevrolet  chrysler  club_car  \\\n",
       "2277                     14           27      85769      5703         0   \n",
       "45                        0            0      10250      3285         0   \n",
       "1330                      0            0      13075      2391         0   \n",
       "572                       0            0       5939      1105         0   \n",
       "166                       0            0       7774       863         0   \n",
       "\n",
       "make  columbia  crane_carrier  crown_coach_inc  dodge  \\\n",
       "2277         0              0                0  40833   \n",
       "45           0              0                0   8257   \n",
       "1330         0              0                0   2418   \n",
       "572          0              0                0   2471   \n",
       "166          0              0                0   2670   \n",
       "\n",
       "make  dymac_vehicle_group_inc  ...  scion  smart  smith  spartan  \\\n",
       "2277                        0  ...   1838    100    116       20   \n",
       "45                          0  ...    149      0      0        0   \n",
       "1330                        0  ...    472     11      0        0   \n",
       "572                         0  ...    703      0      0        0   \n",
       "166                         0  ...   1142      0      0        0   \n",
       "\n",
       "make  special_construction  sterling  subaru  suzuki  tesla  thomas_bus  \\\n",
       "2277                    78       173    7139     169   1578         259   \n",
       "45                       0         0     685       0    178           0   \n",
       "1330                     0         0    2118      16    147           0   \n",
       "572                      0        99     572      89     13           0   \n",
       "166                      0        11     419      38     18           0   \n",
       "\n",
       "make  tmc_greyhound  tomberlin  toyota  trolley  ud_trucks  van_hool  \\\n",
       "2277              0          0   71899        0         12        15   \n",
       "45                0          0   19182        0          0         0   \n",
       "1330              0          0   23269        0          0        13   \n",
       "572               0          0   12278        0          0         0   \n",
       "166               0          0   16196        0          0         0   \n",
       "\n",
       "make  volkswagen  volvo  vpg  western_golf_cart  western_star  white  \\\n",
       "2277        7776   4139    0                 15             0      0   \n",
       "45          4104    427    0                  0             0      0   \n",
       "1330        1737    272    0                  0             0      0   \n",
       "572         2691    445    0                  0             0      0   \n",
       "166         1050    118    0                  0             0      0   \n",
       "\n",
       "make  white/gmc  workhorse   total  \n",
       "2277          0        423  643992  \n",
       "45            0          0  133991  \n",
       "1330          0         49  124834  \n",
       "572           0         15   75175  \n",
       "166           0         12   73767  \n",
       "\n",
       "[5 rows x 116 columns]"
      ]
     },
     "execution_count": 48,
     "metadata": {},
     "output_type": "execute_result"
    }
   ],
   "source": [
    "make_zip.sort_values(by='total', ascending=False).head(5)"
   ]
  },
  {
   "cell_type": "code",
   "execution_count": 49,
   "metadata": {},
   "outputs": [],
   "source": [
    "make_zip[['zip', 'total']].to_csv('output/total_makes_zip.csv')"
   ]
  },
  {
   "cell_type": "code",
   "execution_count": 50,
   "metadata": {},
   "outputs": [],
   "source": [
    "make_total = pd.DataFrame(make_zip[['zip', 'total']])"
   ]
  },
  {
   "cell_type": "code",
   "execution_count": 51,
   "metadata": {},
   "outputs": [],
   "source": [
    "make_zip['winner'] = make_zip[['acura', 'alfa_romeo', 'allianz', 'am_general',\n",
    "       'american_custom_golfcarts', 'american_lafrance', 'aston_martin',\n",
    "       'audi', 'autocar', 'bentley', 'bluebird', 'bmw', 'buick', 'cadillac',\n",
    "       'capacity_of_texas_inc', 'caterpillar', 'chevrolet', 'chrysler',\n",
    "       'club_car', 'columbia', 'crane_carrier', 'dodge',\n",
    "       'dymac_vehicle_group_inc', 'emergency_one', 'evobus', 'ezgo', 'ferrari',\n",
    "       'fiat', 'ford', 'freightliner', 'gem', 'genesis', 'gillig', 'gmc',\n",
    "       'hino', 'hme', 'honda', 'hummer', 'hyundai', 'ic_bus,_llc', 'infiniti',\n",
    "       'international', 'isuzu', 'jaguar', 'jeep', 'kalmar_industries_usa_llc',\n",
    "       'kenworth', 'kia', 'kovatch_moblie_equipment_corp.', 'land_rover',\n",
    "       'lexus', 'lincoln', 'mack', 'maserati', 'mazda', 'mercedes_benz',\n",
    "       'mercury', 'miles', 'mini', 'mitsubishi', 'mitsubishi_fuso',\n",
    "       'motor_coach_industries', 'newflyer', 'nissan',\n",
    "       'north_american_bus_industries', 'orion', 'peterbilt',\n",
    "       'pierce_manufacturing', 'pontiac', 'porsche', 'prevost', 'ram',\n",
    "       'rolls_royce', 'saab', 'saturn', 'scion', 'smart', 'spartan',\n",
    "       'sterling', 'subaru', 'suzuki', 'tesla', 'thomas_bus', 'tomberlin',\n",
    "       'toyota', 'ud_trucks', 'van_hool', 'volkswagen', 'volvo', 'vpg',\n",
    "       'western_star', 'workhorse']].idxmax(axis=1)"
   ]
  },
  {
   "cell_type": "code",
   "execution_count": 52,
   "metadata": {},
   "outputs": [],
   "source": [
    "make_zip_top_ten = pd.DataFrame(make_zip[['zip','toyota','honda','ford','chevrolet','nissan',\\\n",
    "                               'bmw','hyundai','lexus','mercedes_benz','kia', 'total']])"
   ]
  },
  {
   "cell_type": "code",
   "execution_count": 53,
   "metadata": {},
   "outputs": [],
   "source": [
    "make_zip_top_ten.to_csv('output/make_zip_top_ten.csv')"
   ]
  },
  {
   "cell_type": "code",
   "execution_count": 54,
   "metadata": {},
   "outputs": [
    {
     "data": {
      "text/html": [
       "<div>\n",
       "<style scoped>\n",
       "    .dataframe tbody tr th:only-of-type {\n",
       "        vertical-align: middle;\n",
       "    }\n",
       "\n",
       "    .dataframe tbody tr th {\n",
       "        vertical-align: top;\n",
       "    }\n",
       "\n",
       "    .dataframe thead th {\n",
       "        text-align: right;\n",
       "    }\n",
       "</style>\n",
       "<table border=\"1\" class=\"dataframe\">\n",
       "  <thead>\n",
       "    <tr style=\"text-align: right;\">\n",
       "      <th>make</th>\n",
       "      <th>zip</th>\n",
       "      <th>toyota</th>\n",
       "      <th>honda</th>\n",
       "      <th>ford</th>\n",
       "      <th>chevrolet</th>\n",
       "      <th>nissan</th>\n",
       "      <th>bmw</th>\n",
       "      <th>hyundai</th>\n",
       "      <th>lexus</th>\n",
       "      <th>mercedes_benz</th>\n",
       "      <th>kia</th>\n",
       "      <th>total</th>\n",
       "    </tr>\n",
       "  </thead>\n",
       "  <tbody>\n",
       "    <tr>\n",
       "      <th>0</th>\n",
       "      <td>90000</td>\n",
       "      <td>0</td>\n",
       "      <td>0</td>\n",
       "      <td>28</td>\n",
       "      <td>33</td>\n",
       "      <td>0</td>\n",
       "      <td>0</td>\n",
       "      <td>0</td>\n",
       "      <td>0</td>\n",
       "      <td>0</td>\n",
       "      <td>0</td>\n",
       "      <td>169</td>\n",
       "    </tr>\n",
       "    <tr>\n",
       "      <th>1</th>\n",
       "      <td>90001</td>\n",
       "      <td>6326</td>\n",
       "      <td>4253</td>\n",
       "      <td>3700</td>\n",
       "      <td>4451</td>\n",
       "      <td>4066</td>\n",
       "      <td>594</td>\n",
       "      <td>417</td>\n",
       "      <td>363</td>\n",
       "      <td>321</td>\n",
       "      <td>1128</td>\n",
       "      <td>32659</td>\n",
       "    </tr>\n",
       "    <tr>\n",
       "      <th>2</th>\n",
       "      <td>90002</td>\n",
       "      <td>5857</td>\n",
       "      <td>3651</td>\n",
       "      <td>2992</td>\n",
       "      <td>3926</td>\n",
       "      <td>3632</td>\n",
       "      <td>420</td>\n",
       "      <td>394</td>\n",
       "      <td>371</td>\n",
       "      <td>354</td>\n",
       "      <td>1193</td>\n",
       "      <td>29124</td>\n",
       "    </tr>\n",
       "    <tr>\n",
       "      <th>3</th>\n",
       "      <td>90003</td>\n",
       "      <td>8505</td>\n",
       "      <td>5152</td>\n",
       "      <td>4021</td>\n",
       "      <td>4712</td>\n",
       "      <td>4940</td>\n",
       "      <td>704</td>\n",
       "      <td>524</td>\n",
       "      <td>480</td>\n",
       "      <td>540</td>\n",
       "      <td>1489</td>\n",
       "      <td>39507</td>\n",
       "    </tr>\n",
       "    <tr>\n",
       "      <th>4</th>\n",
       "      <td>90004</td>\n",
       "      <td>8862</td>\n",
       "      <td>4805</td>\n",
       "      <td>1846</td>\n",
       "      <td>1424</td>\n",
       "      <td>2630</td>\n",
       "      <td>1365</td>\n",
       "      <td>901</td>\n",
       "      <td>1545</td>\n",
       "      <td>1342</td>\n",
       "      <td>724</td>\n",
       "      <td>32088</td>\n",
       "    </tr>\n",
       "  </tbody>\n",
       "</table>\n",
       "</div>"
      ],
      "text/plain": [
       "make    zip  toyota  honda  ford  chevrolet  nissan   bmw  hyundai  lexus  \\\n",
       "0     90000       0      0    28         33       0     0        0      0   \n",
       "1     90001    6326   4253  3700       4451    4066   594      417    363   \n",
       "2     90002    5857   3651  2992       3926    3632   420      394    371   \n",
       "3     90003    8505   5152  4021       4712    4940   704      524    480   \n",
       "4     90004    8862   4805  1846       1424    2630  1365      901   1545   \n",
       "\n",
       "make  mercedes_benz   kia  total  \n",
       "0                 0     0    169  \n",
       "1               321  1128  32659  \n",
       "2               354  1193  29124  \n",
       "3               540  1489  39507  \n",
       "4              1342   724  32088  "
      ]
     },
     "execution_count": 54,
     "metadata": {},
     "output_type": "execute_result"
    }
   ],
   "source": [
    "make_zip_top_ten.head()"
   ]
  },
  {
   "cell_type": "markdown",
   "metadata": {},
   "source": [
    "---"
   ]
  },
  {
   "cell_type": "markdown",
   "metadata": {},
   "source": [
    "## Isolate vehicle makes to include only Teslas"
   ]
  },
  {
   "cell_type": "code",
   "execution_count": 55,
   "metadata": {},
   "outputs": [],
   "source": [
    "tesla = vehicles[vehicles['make'] == 'TESLA']"
   ]
  },
  {
   "cell_type": "markdown",
   "metadata": {},
   "source": [
    "### Group by ZIP code and count the vehicles"
   ]
  },
  {
   "cell_type": "code",
   "execution_count": 56,
   "metadata": {},
   "outputs": [],
   "source": [
    "tesla_grouped = tesla.groupby(['zip']).agg({'vehicles':'sum'}).reset_index()"
   ]
  },
  {
   "cell_type": "markdown",
   "metadata": {},
   "source": [
    "### Merge with dataframe that includes all vehicle counts by ZIP code"
   ]
  },
  {
   "cell_type": "code",
   "execution_count": 57,
   "metadata": {},
   "outputs": [],
   "source": [
    "tesla_zips = pd.merge(tesla_grouped, zips, on='zip')"
   ]
  },
  {
   "cell_type": "markdown",
   "metadata": {},
   "source": [
    "### Rename the columns"
   ]
  },
  {
   "cell_type": "code",
   "execution_count": 58,
   "metadata": {},
   "outputs": [],
   "source": [
    "tesla_zips.rename(columns={'median': 'income','zip': 'zip', 'vehicles_x':'teslas', 'vehicles_y':'all_vehicles'}, inplace=True)"
   ]
  },
  {
   "cell_type": "markdown",
   "metadata": {},
   "source": [
    "### Normalize Tesla ownership to a rate per 1,000 vehicles"
   ]
  },
  {
   "cell_type": "code",
   "execution_count": 59,
   "metadata": {},
   "outputs": [],
   "source": [
    "tesla_zips['tesla_rate'] = ((tesla_zips.teslas / tesla_zips.all_vehicles) * 1000).round(2)"
   ]
  },
  {
   "cell_type": "code",
   "execution_count": 60,
   "metadata": {},
   "outputs": [
    {
     "data": {
      "text/html": [
       "<div>\n",
       "<style scoped>\n",
       "    .dataframe tbody tr th:only-of-type {\n",
       "        vertical-align: middle;\n",
       "    }\n",
       "\n",
       "    .dataframe tbody tr th {\n",
       "        vertical-align: top;\n",
       "    }\n",
       "\n",
       "    .dataframe thead th {\n",
       "        text-align: right;\n",
       "    }\n",
       "</style>\n",
       "<table border=\"1\" class=\"dataframe\">\n",
       "  <thead>\n",
       "    <tr style=\"text-align: right;\">\n",
       "      <th></th>\n",
       "      <th>zip</th>\n",
       "      <th>teslas</th>\n",
       "      <th>objectid</th>\n",
       "      <th>po_name</th>\n",
       "      <th>pop2012</th>\n",
       "      <th>white</th>\n",
       "      <th>black</th>\n",
       "      <th>ameri_es</th>\n",
       "      <th>asian</th>\n",
       "      <th>hawn_pi</th>\n",
       "      <th>hispanic</th>\n",
       "      <th>other</th>\n",
       "      <th>mult_race</th>\n",
       "      <th>med_age</th>\n",
       "      <th>ave_hh_sz</th>\n",
       "      <th>marhh_chd</th>\n",
       "      <th>families</th>\n",
       "      <th>ave_fam_sz</th>\n",
       "      <th>hse_units</th>\n",
       "      <th>sqmi</th>\n",
       "      <th>geometry</th>\n",
       "      <th>all_vehicles</th>\n",
       "      <th>tesla_rate</th>\n",
       "    </tr>\n",
       "  </thead>\n",
       "  <tbody>\n",
       "    <tr>\n",
       "      <th>451</th>\n",
       "      <td>94027</td>\n",
       "      <td>420</td>\n",
       "      <td>4805</td>\n",
       "      <td>Atherton</td>\n",
       "      <td>6887</td>\n",
       "      <td>5858</td>\n",
       "      <td>84</td>\n",
       "      <td>9</td>\n",
       "      <td>909</td>\n",
       "      <td>49</td>\n",
       "      <td>438</td>\n",
       "      <td>178</td>\n",
       "      <td>238</td>\n",
       "      <td>47.60</td>\n",
       "      <td>2.74</td>\n",
       "      <td>742</td>\n",
       "      <td>2020</td>\n",
       "      <td>3.01</td>\n",
       "      <td>2746</td>\n",
       "      <td>5.20</td>\n",
       "      <td>POLYGON ((-122.208957291495 37.4672327274469, ...</td>\n",
       "      <td>6877</td>\n",
       "      <td>61.07</td>\n",
       "    </tr>\n",
       "    <tr>\n",
       "      <th>448</th>\n",
       "      <td>94022</td>\n",
       "      <td>934</td>\n",
       "      <td>4823</td>\n",
       "      <td>Los Altos</td>\n",
       "      <td>19458</td>\n",
       "      <td>13862</td>\n",
       "      <td>100</td>\n",
       "      <td>28</td>\n",
       "      <td>4563</td>\n",
       "      <td>42</td>\n",
       "      <td>705</td>\n",
       "      <td>160</td>\n",
       "      <td>759</td>\n",
       "      <td>48.10</td>\n",
       "      <td>2.59</td>\n",
       "      <td>2230</td>\n",
       "      <td>5601</td>\n",
       "      <td>3.02</td>\n",
       "      <td>7899</td>\n",
       "      <td>14.90</td>\n",
       "      <td>POLYGON ((-122.117916343573 37.404506340021, -...</td>\n",
       "      <td>18826</td>\n",
       "      <td>49.61</td>\n",
       "    </tr>\n",
       "    <tr>\n",
       "      <th>338</th>\n",
       "      <td>92657</td>\n",
       "      <td>459</td>\n",
       "      <td>6202</td>\n",
       "      <td>Newport Coast</td>\n",
       "      <td>10994</td>\n",
       "      <td>8184</td>\n",
       "      <td>62</td>\n",
       "      <td>12</td>\n",
       "      <td>1928</td>\n",
       "      <td>3</td>\n",
       "      <td>575</td>\n",
       "      <td>127</td>\n",
       "      <td>514</td>\n",
       "      <td>43.40</td>\n",
       "      <td>2.60</td>\n",
       "      <td>1198</td>\n",
       "      <td>3095</td>\n",
       "      <td>3.03</td>\n",
       "      <td>4573</td>\n",
       "      <td>9.00</td>\n",
       "      <td>POLYGON ((-117.842441825763 33.6308936103415, ...</td>\n",
       "      <td>9553</td>\n",
       "      <td>48.05</td>\n",
       "    </tr>\n",
       "    <tr>\n",
       "      <th>492</th>\n",
       "      <td>94301</td>\n",
       "      <td>584</td>\n",
       "      <td>4832</td>\n",
       "      <td>Palo Alto</td>\n",
       "      <td>17187</td>\n",
       "      <td>12999</td>\n",
       "      <td>317</td>\n",
       "      <td>25</td>\n",
       "      <td>2847</td>\n",
       "      <td>28</td>\n",
       "      <td>864</td>\n",
       "      <td>260</td>\n",
       "      <td>725</td>\n",
       "      <td>43.00</td>\n",
       "      <td>2.22</td>\n",
       "      <td>1676</td>\n",
       "      <td>4136</td>\n",
       "      <td>2.95</td>\n",
       "      <td>8141</td>\n",
       "      <td>2.40</td>\n",
       "      <td>POLYGON ((-122.145010906546 37.4582327046061, ...</td>\n",
       "      <td>13141</td>\n",
       "      <td>44.44</td>\n",
       "    </tr>\n",
       "    <tr>\n",
       "      <th>449</th>\n",
       "      <td>94024</td>\n",
       "      <td>773</td>\n",
       "      <td>4824</td>\n",
       "      <td>Los Altos</td>\n",
       "      <td>22311</td>\n",
       "      <td>15363</td>\n",
       "      <td>112</td>\n",
       "      <td>28</td>\n",
       "      <td>5271</td>\n",
       "      <td>28</td>\n",
       "      <td>849</td>\n",
       "      <td>151</td>\n",
       "      <td>1000</td>\n",
       "      <td>46.40</td>\n",
       "      <td>2.82</td>\n",
       "      <td>2799</td>\n",
       "      <td>6323</td>\n",
       "      <td>3.13</td>\n",
       "      <td>7981</td>\n",
       "      <td>10.50</td>\n",
       "      <td>POLYGON ((-122.095991816901 37.3860818429814, ...</td>\n",
       "      <td>20747</td>\n",
       "      <td>37.26</td>\n",
       "    </tr>\n",
       "  </tbody>\n",
       "</table>\n",
       "</div>"
      ],
      "text/plain": [
       "       zip  teslas  objectid        po_name  pop2012  white  black  ameri_es  \\\n",
       "451  94027     420      4805       Atherton     6887   5858     84         9   \n",
       "448  94022     934      4823      Los Altos    19458  13862    100        28   \n",
       "338  92657     459      6202  Newport Coast    10994   8184     62        12   \n",
       "492  94301     584      4832      Palo Alto    17187  12999    317        25   \n",
       "449  94024     773      4824      Los Altos    22311  15363    112        28   \n",
       "\n",
       "     asian  hawn_pi  hispanic  other  mult_race  med_age  ave_hh_sz  \\\n",
       "451    909       49       438    178        238    47.60       2.74   \n",
       "448   4563       42       705    160        759    48.10       2.59   \n",
       "338   1928        3       575    127        514    43.40       2.60   \n",
       "492   2847       28       864    260        725    43.00       2.22   \n",
       "449   5271       28       849    151       1000    46.40       2.82   \n",
       "\n",
       "     marhh_chd  families  ave_fam_sz  hse_units  sqmi  \\\n",
       "451        742      2020        3.01       2746  5.20   \n",
       "448       2230      5601        3.02       7899 14.90   \n",
       "338       1198      3095        3.03       4573  9.00   \n",
       "492       1676      4136        2.95       8141  2.40   \n",
       "449       2799      6323        3.13       7981 10.50   \n",
       "\n",
       "                                              geometry  all_vehicles  \\\n",
       "451  POLYGON ((-122.208957291495 37.4672327274469, ...          6877   \n",
       "448  POLYGON ((-122.117916343573 37.404506340021, -...         18826   \n",
       "338  POLYGON ((-117.842441825763 33.6308936103415, ...          9553   \n",
       "492  POLYGON ((-122.145010906546 37.4582327046061, ...         13141   \n",
       "449  POLYGON ((-122.095991816901 37.3860818429814, ...         20747   \n",
       "\n",
       "     tesla_rate  \n",
       "451       61.07  \n",
       "448       49.61  \n",
       "338       48.05  \n",
       "492       44.44  \n",
       "449       37.26  "
      ]
     },
     "execution_count": 60,
     "metadata": {},
     "output_type": "execute_result"
    }
   ],
   "source": [
    "tesla_zips.sort_values(by='tesla_rate', ascending=False).head()"
   ]
  },
  {
   "cell_type": "code",
   "execution_count": 61,
   "metadata": {},
   "outputs": [
    {
     "data": {
      "text/plain": [
       "[0.17, 3.77, 9.12, 16.1, 25.35, 37.26, 61.07]"
      ]
     },
     "execution_count": 61,
     "metadata": {},
     "output_type": "execute_result"
    }
   ],
   "source": [
    "tesla_breaks \\\n",
    "= jenkspy.jenks_breaks(tesla_zips.tesla_rate, nb_class=6)\n",
    "tesla_breaks"
   ]
  },
  {
   "cell_type": "code",
   "execution_count": 62,
   "metadata": {},
   "outputs": [],
   "source": [
    "tesla_zips.to_csv('output/tesla_zips.csv')\n",
    "tesla_zips_slim = pd.DataFrame(tesla_zips[['zip','teslas','tesla_rate']])"
   ]
  },
  {
   "cell_type": "markdown",
   "metadata": {},
   "source": [
    "### How predictive is income  "
   ]
  },
  {
   "cell_type": "code",
   "execution_count": 63,
   "metadata": {
    "scrolled": true
   },
   "outputs": [],
   "source": [
    "# tesla_zips.head()"
   ]
  },
  {
   "cell_type": "code",
   "execution_count": 64,
   "metadata": {},
   "outputs": [],
   "source": [
    "# tesla_zips_corr = tesla_zips[['tesla_rate', 'income']]"
   ]
  },
  {
   "cell_type": "code",
   "execution_count": 65,
   "metadata": {},
   "outputs": [],
   "source": [
    "# corr = tesla_zips_corr.corr(method ='pearson')"
   ]
  },
  {
   "cell_type": "code",
   "execution_count": 66,
   "metadata": {},
   "outputs": [],
   "source": [
    "# print(corr)"
   ]
  },
  {
   "cell_type": "code",
   "execution_count": 67,
   "metadata": {},
   "outputs": [],
   "source": [
    "# alt.Chart(tesla_zips).mark_circle(size=60).encode(\n",
    "#     x=alt.X('tesla_rate:Q', title='Tesla rate per 1,000 vehicles', axis=alt.Axis(tickCount=6)),\n",
    "#     y=alt.Y('income:Q', title='Median household income', axis=alt.Axis(tickCount=5, format='$,n')),\n",
    "#     tooltip=['zip:N', 'teslas:O', 'income:Q', 'tesla_rate:Q']\n",
    "# ).properties(width=500, height=500)"
   ]
  },
  {
   "cell_type": "markdown",
   "metadata": {},
   "source": [
    "---"
   ]
  },
  {
   "cell_type": "markdown",
   "metadata": {},
   "source": [
    "### Group by model year. Which years have the most vehicles? "
   ]
  },
  {
   "cell_type": "code",
   "execution_count": 68,
   "metadata": {},
   "outputs": [],
   "source": [
    "model_year = vehicles.groupby(['model_year']).agg('sum').reset_index()"
   ]
  },
  {
   "cell_type": "code",
   "execution_count": 69,
   "metadata": {},
   "outputs": [
    {
     "data": {
      "text/html": [
       "<div>\n",
       "<style scoped>\n",
       "    .dataframe tbody tr th:only-of-type {\n",
       "        vertical-align: middle;\n",
       "    }\n",
       "\n",
       "    .dataframe tbody tr th {\n",
       "        vertical-align: top;\n",
       "    }\n",
       "\n",
       "    .dataframe thead th {\n",
       "        text-align: right;\n",
       "    }\n",
       "</style>\n",
       "<table border=\"1\" class=\"dataframe\">\n",
       "  <thead>\n",
       "    <tr style=\"text-align: right;\">\n",
       "      <th></th>\n",
       "      <th>model_year</th>\n",
       "      <th>vehicles</th>\n",
       "    </tr>\n",
       "  </thead>\n",
       "  <tbody>\n",
       "    <tr>\n",
       "      <th>14</th>\n",
       "      <td>&lt;2006</td>\n",
       "      <td>11047653</td>\n",
       "    </tr>\n",
       "    <tr>\n",
       "      <th>13</th>\n",
       "      <td>2019</td>\n",
       "      <td>94159</td>\n",
       "    </tr>\n",
       "    <tr>\n",
       "      <th>12</th>\n",
       "      <td>2018</td>\n",
       "      <td>1734470</td>\n",
       "    </tr>\n",
       "    <tr>\n",
       "      <th>11</th>\n",
       "      <td>2017</td>\n",
       "      <td>2243089</td>\n",
       "    </tr>\n",
       "    <tr>\n",
       "      <th>10</th>\n",
       "      <td>2016</td>\n",
       "      <td>2115578</td>\n",
       "    </tr>\n",
       "    <tr>\n",
       "      <th>9</th>\n",
       "      <td>2015</td>\n",
       "      <td>2038353</td>\n",
       "    </tr>\n",
       "    <tr>\n",
       "      <th>8</th>\n",
       "      <td>2014</td>\n",
       "      <td>1706142</td>\n",
       "    </tr>\n",
       "    <tr>\n",
       "      <th>7</th>\n",
       "      <td>2013</td>\n",
       "      <td>1672195</td>\n",
       "    </tr>\n",
       "    <tr>\n",
       "      <th>6</th>\n",
       "      <td>2012</td>\n",
       "      <td>1377076</td>\n",
       "    </tr>\n",
       "    <tr>\n",
       "      <th>5</th>\n",
       "      <td>2011</td>\n",
       "      <td>1118459</td>\n",
       "    </tr>\n",
       "    <tr>\n",
       "      <th>4</th>\n",
       "      <td>2010</td>\n",
       "      <td>1010759</td>\n",
       "    </tr>\n",
       "    <tr>\n",
       "      <th>3</th>\n",
       "      <td>2009</td>\n",
       "      <td>844733</td>\n",
       "    </tr>\n",
       "    <tr>\n",
       "      <th>2</th>\n",
       "      <td>2008</td>\n",
       "      <td>1236581</td>\n",
       "    </tr>\n",
       "    <tr>\n",
       "      <th>1</th>\n",
       "      <td>2007</td>\n",
       "      <td>1463852</td>\n",
       "    </tr>\n",
       "    <tr>\n",
       "      <th>0</th>\n",
       "      <td>2006</td>\n",
       "      <td>1434895</td>\n",
       "    </tr>\n",
       "  </tbody>\n",
       "</table>\n",
       "</div>"
      ],
      "text/plain": [
       "   model_year  vehicles\n",
       "14      <2006  11047653\n",
       "13       2019     94159\n",
       "12       2018   1734470\n",
       "11       2017   2243089\n",
       "10       2016   2115578\n",
       "9        2015   2038353\n",
       "8        2014   1706142\n",
       "7        2013   1672195\n",
       "6        2012   1377076\n",
       "5        2011   1118459\n",
       "4        2010   1010759\n",
       "3        2009    844733\n",
       "2        2008   1236581\n",
       "1        2007   1463852\n",
       "0        2006   1434895"
      ]
     },
     "execution_count": 69,
     "metadata": {},
     "output_type": "execute_result"
    }
   ],
   "source": [
    "model_year.sort_values(by='model_year', ascending=False)"
   ]
  },
  {
   "cell_type": "code",
   "execution_count": 70,
   "metadata": {},
   "outputs": [
    {
     "data": {
      "application/javascript": [
       "const spec = {\"config\": {\"view\": {\"width\": 800, \"height\": 450}, \"background\": \"#ffffff\", \"title\": {\"anchor\": \"start\", \"font\": \"Benton Gothic Bold, sans\", \"fontColor\": \"#000000\", \"fontSize\": 22, \"fontWeight\": \"normal\"}, \"arc\": {\"fill\": \"#82c6df\"}, \"area\": {\"fill\": \"#82c6df\"}, \"line\": {\"stroke\": \"#82c6df\", \"strokeWidth\": 3}, \"path\": {\"stroke\": \"#82c6df\"}, \"rect\": {\"fill\": \"#82c6df\"}, \"shape\": {\"stroke\": \"#82c6df\"}, \"bar\": {\"fill\": \"#82c6df\"}, \"point\": {\"stroke\": \"#82c6df\"}, \"symbol\": {\"fill\": \"#82c6df\", \"size\": 30}, \"axis\": {\"titleFont\": \"Benton Gothic Bold, sans\", \"titleFontSize\": 13, \"titleFontWeight\": \"normal\", \"labelFont\": \"Benton Gothic, sans\", \"labelFontSize\": 11.5, \"labelFontWeight\": \"normal\"}, \"axisX\": {\"labelAngle\": 0, \"labelPadding\": 4, \"tickSize\": 3}, \"axisY\": {\"labelBaseline\": \"middle\", \"maxExtent\": 45, \"minExtent\": 45, \"tickSize\": 2, \"titleAlign\": \"left\", \"titleAngle\": 0, \"titleX\": -45, \"titleY\": -11}, \"legend\": {\"titleFont\": \"Benton Gothic Bold, sans\", \"titleFontSize\": 13, \"titleFontWeight\": \"normal\", \"symbolType\": \"square\", \"labelFont\": \"Benton Gothic, sans\", \"labelFontSize\": 11.5}, \"range\": {\"category\": [\"#3580b1\", \"#ec8431\", \"#ab7fb4\", \"#c89d29\", \"#adc839\", \"#829eb1\"], \"diverging\": [\"#e68a4f\", \"#f4bb6a\", \"#f9e39c\", \"#dadfe2\", \"#a6b7c6\", \"#849eae\"], \"heatmap\": [\"#fbf2c7\", \"#f9e39c\", \"#f8d36e\", \"#f4bb6a\", \"#e68a4f\", \"#d15a40\", \"#ab4232\"], \"ordinal\": [\"#fbf2c7\", \"#f9e39c\", \"#f8d36e\", \"#f4bb6a\", \"#e68a4f\", \"#d15a40\", \"#ab4232\"], \"ramp\": [\"#fbf2c7\", \"#f9e39c\", \"#f8d36e\", \"#f4bb6a\", \"#e68a4f\", \"#d15a40\", \"#ab4232\"]}}, \"layer\": [{\"mark\": \"bar\", \"encoding\": {\"x\": {\"type\": \"quantitative\", \"axis\": {\"format\": \"\", \"tickCount\": 5}, \"field\": \"vehicles\", \"title\": \"Vehicles\"}, \"y\": {\"type\": \"nominal\", \"axis\": {\"format\": \"\", \"tickCount\": 5}, \"field\": \"model_year\", \"title\": \" \"}}}, {\"mark\": {\"type\": \"text\", \"align\": \"left\", \"baseline\": \"middle\", \"dx\": 5}, \"encoding\": {\"text\": {\"type\": \"quantitative\", \"field\": \"vehicles\", \"format\": \",\"}, \"x\": {\"type\": \"quantitative\", \"axis\": {\"format\": \"\", \"tickCount\": 5}, \"field\": \"vehicles\", \"title\": \"Vehicles\"}, \"y\": {\"type\": \"nominal\", \"axis\": {\"format\": \"\", \"tickCount\": 5}, \"field\": \"model_year\", \"title\": \" \"}}}], \"data\": {\"name\": \"data-cf2bb83b1273924d80d4fdb85413634b\"}, \"height\": 500, \"title\": \"California vehicles, by model year\", \"width\": 700, \"$schema\": \"https://vega.github.io/schema/vega-lite/v3.4.0.json\", \"datasets\": {\"data-cf2bb83b1273924d80d4fdb85413634b\": [{\"model_year\": \"2006\", \"vehicles\": 1434895}, {\"model_year\": \"2007\", \"vehicles\": 1463852}, {\"model_year\": \"2008\", \"vehicles\": 1236581}, {\"model_year\": \"2009\", \"vehicles\": 844733}, {\"model_year\": \"2010\", \"vehicles\": 1010759}, {\"model_year\": \"2011\", \"vehicles\": 1118459}, {\"model_year\": \"2012\", \"vehicles\": 1377076}, {\"model_year\": \"2013\", \"vehicles\": 1672195}, {\"model_year\": \"2014\", \"vehicles\": 1706142}, {\"model_year\": \"2015\", \"vehicles\": 2038353}, {\"model_year\": \"2016\", \"vehicles\": 2115578}, {\"model_year\": \"2017\", \"vehicles\": 2243089}, {\"model_year\": \"2018\", \"vehicles\": 1734470}, {\"model_year\": \"2019\", \"vehicles\": 94159}, {\"model_year\": \"<2006\", \"vehicles\": 11047653}]}};\n",
       "const opt = {};\n",
       "const type = \"vega-lite\";\n",
       "const id = \"c80ae8b0-3e60-4ff0-9150-5f71acadbda1\";\n",
       "\n",
       "const output_area = this;\n",
       "\n",
       "require([\"nbextensions/jupyter-vega/index\"], function(vega) {\n",
       "  const target = document.createElement(\"div\");\n",
       "  target.id = id;\n",
       "  target.className = \"vega-embed\";\n",
       "\n",
       "  const style = document.createElement(\"style\");\n",
       "  style.textContent = [\n",
       "    \".vega-embed .error p {\",\n",
       "    \"  color: firebrick;\",\n",
       "    \"  font-size: 14px;\",\n",
       "    \"}\",\n",
       "  ].join(\"\\\\n\");\n",
       "\n",
       "  // element is a jQuery wrapped DOM element inside the output area\n",
       "  // see http://ipython.readthedocs.io/en/stable/api/generated/\\\n",
       "  // IPython.display.html#IPython.display.Javascript.__init__\n",
       "  element[0].appendChild(target);\n",
       "  element[0].appendChild(style);\n",
       "\n",
       "  vega.render(\"#\" + id, spec, type, opt, output_area);\n",
       "}, function (err) {\n",
       "  if (err.requireType !== \"scripterror\") {\n",
       "    throw(err);\n",
       "  }\n",
       "});\n"
      ],
      "text/plain": [
       "<vega.vegalite.VegaLite at 0x13a5bacf8>"
      ]
     },
     "metadata": {
      "jupyter-vega": "#c80ae8b0-3e60-4ff0-9150-5f71acadbda1"
     },
     "output_type": "display_data"
    },
    {
     "data": {
      "text/plain": []
     },
     "execution_count": 70,
     "metadata": {},
     "output_type": "execute_result"
    },
    {
     "data": {
      "image/png": "[encoded data removed]"
     },
     "metadata": {
      "jupyter-vega": "#c80ae8b0-3e60-4ff0-9150-5f71acadbda1"
     },
     "output_type": "display_data"
    }
   ],
   "source": [
    "model_year_chart = alt.Chart(model_year).mark_bar().encode(\n",
    ").mark_bar().encode(\n",
    "    y=alt.Y('model_year:N', title=\" \", axis=alt.Axis(format='', tickCount=5)),\n",
    "    x=alt.X(\"vehicles:Q\", title=\"Vehicles\", axis=alt.Axis(format='', tickCount=5))\n",
    ")\n",
    "\n",
    "model_year_chart_text = model_year_chart.mark_text(\n",
    "    align='left',\n",
    "    baseline='middle',\n",
    "    dx=5\n",
    ").encode(text=alt.Text('vehicles:Q', format=',')\n",
    ")\n",
    "\n",
    "(model_year_chart + model_year_chart_text).properties(height=500, width=700, title='California vehicles, by model year')"
   ]
  },
  {
   "cell_type": "markdown",
   "metadata": {},
   "source": [
    "### Which types of alternative fuel models are most common?"
   ]
  },
  {
   "cell_type": "code",
   "execution_count": 71,
   "metadata": {},
   "outputs": [],
   "source": [
    "fuel = vehicles.groupby(['fuel']).agg('sum').reset_index()"
   ]
  },
  {
   "cell_type": "code",
   "execution_count": 72,
   "metadata": {},
   "outputs": [
    {
     "data": {
      "text/plain": [
       "['Battery Electric',\n",
       " 'Diesel and Diesel Hybrid',\n",
       " 'Flex-Fuel',\n",
       " 'Gasoline',\n",
       " 'Hybrid Gasoline',\n",
       " 'Hydrogen Fuel Cell',\n",
       " 'Natural Gas',\n",
       " 'Other',\n",
       " 'Plug-in Hybrid']"
      ]
     },
     "execution_count": 72,
     "metadata": {},
     "output_type": "execute_result"
    }
   ],
   "source": [
    "fuel.fuel.tolist()"
   ]
  },
  {
   "cell_type": "code",
   "execution_count": 73,
   "metadata": {},
   "outputs": [
    {
     "data": {
      "text/plain": [
       "30659434"
      ]
     },
     "execution_count": 73,
     "metadata": {},
     "output_type": "execute_result"
    }
   ],
   "source": [
    "# Diesel and Diesel Hybrid + Flex-Fuel + Gasoline + Hybrid Gasoline\n",
    "(fuel.iloc[1,1] + fuel.iloc[2,1] + fuel.iloc[3,1] + fuel.iloc[4,1])"
   ]
  },
  {
   "cell_type": "markdown",
   "metadata": {},
   "source": [
    "# Chart the fuel type counts"
   ]
  },
  {
   "cell_type": "code",
   "execution_count": 74,
   "metadata": {},
   "outputs": [
    {
     "data": {
      "application/javascript": [
       "const spec = {\"config\": {\"view\": {\"width\": 800, \"height\": 450}, \"background\": \"#ffffff\", \"title\": {\"anchor\": \"start\", \"font\": \"Benton Gothic Bold, sans\", \"fontColor\": \"#000000\", \"fontSize\": 22, \"fontWeight\": \"normal\"}, \"arc\": {\"fill\": \"#82c6df\"}, \"area\": {\"fill\": \"#82c6df\"}, \"line\": {\"stroke\": \"#82c6df\", \"strokeWidth\": 3}, \"path\": {\"stroke\": \"#82c6df\"}, \"rect\": {\"fill\": \"#82c6df\"}, \"shape\": {\"stroke\": \"#82c6df\"}, \"bar\": {\"fill\": \"#82c6df\"}, \"point\": {\"stroke\": \"#82c6df\"}, \"symbol\": {\"fill\": \"#82c6df\", \"size\": 30}, \"axis\": {\"titleFont\": \"Benton Gothic Bold, sans\", \"titleFontSize\": 13, \"titleFontWeight\": \"normal\", \"labelFont\": \"Benton Gothic, sans\", \"labelFontSize\": 11.5, \"labelFontWeight\": \"normal\"}, \"axisX\": {\"labelAngle\": 0, \"labelPadding\": 4, \"tickSize\": 3}, \"axisY\": {\"labelBaseline\": \"middle\", \"maxExtent\": 45, \"minExtent\": 45, \"tickSize\": 2, \"titleAlign\": \"left\", \"titleAngle\": 0, \"titleX\": -45, \"titleY\": -11}, \"legend\": {\"titleFont\": \"Benton Gothic Bold, sans\", \"titleFontSize\": 13, \"titleFontWeight\": \"normal\", \"symbolType\": \"square\", \"labelFont\": \"Benton Gothic, sans\", \"labelFontSize\": 11.5}, \"range\": {\"category\": [\"#3580b1\", \"#ec8431\", \"#ab7fb4\", \"#c89d29\", \"#adc839\", \"#829eb1\"], \"diverging\": [\"#e68a4f\", \"#f4bb6a\", \"#f9e39c\", \"#dadfe2\", \"#a6b7c6\", \"#849eae\"], \"heatmap\": [\"#fbf2c7\", \"#f9e39c\", \"#f8d36e\", \"#f4bb6a\", \"#e68a4f\", \"#d15a40\", \"#ab4232\"], \"ordinal\": [\"#fbf2c7\", \"#f9e39c\", \"#f8d36e\", \"#f4bb6a\", \"#e68a4f\", \"#d15a40\", \"#ab4232\"], \"ramp\": [\"#fbf2c7\", \"#f9e39c\", \"#f8d36e\", \"#f4bb6a\", \"#e68a4f\", \"#d15a40\", \"#ab4232\"]}}, \"layer\": [{\"mark\": \"bar\", \"encoding\": {\"x\": {\"type\": \"quantitative\", \"aggregate\": \"sum\", \"axis\": {\"format\": \"\", \"tickCount\": 5}, \"field\": \"vehicles\", \"title\": \"Vehicles\"}, \"y\": {\"type\": \"nominal\", \"axis\": {\"format\": \"\", \"tickCount\": 5}, \"field\": \"fuel\", \"sort\": {\"field\": \"vehicles\", \"op\": \"sum\", \"order\": \"descending\"}, \"title\": \" \"}}}, {\"mark\": {\"type\": \"text\", \"align\": \"left\", \"baseline\": \"middle\", \"dx\": 3}, \"encoding\": {\"text\": {\"type\": \"quantitative\", \"aggregate\": \"sum\", \"field\": \"vehicles\", \"format\": \",\"}, \"x\": {\"type\": \"quantitative\", \"aggregate\": \"sum\", \"axis\": {\"format\": \"\", \"tickCount\": 5}, \"field\": \"vehicles\", \"title\": \"Vehicles\"}, \"y\": {\"type\": \"nominal\", \"axis\": {\"format\": \"\", \"tickCount\": 5}, \"field\": \"fuel\", \"sort\": {\"field\": \"vehicles\", \"op\": \"sum\", \"order\": \"descending\"}, \"title\": \" \"}}}], \"data\": {\"name\": \"data-8801fa57787cc87669b878cd2f3a92d8\"}, \"height\": 400, \"title\": \"CA alternative fuel vehicles by type\", \"width\": 500, \"$schema\": \"https://vega.github.io/schema/vega-lite/v3.4.0.json\", \"datasets\": {\"data-8801fa57787cc87669b878cd2f3a92d8\": [{\"fuel\": \"Battery Electric\", \"vehicles\": 226614}, {\"fuel\": \"Diesel and Diesel Hybrid\", \"vehicles\": 1282387}, {\"fuel\": \"Flex-Fuel\", \"vehicles\": 1318691}, {\"fuel\": \"Gasoline\", \"vehicles\": 26978798}, {\"fuel\": \"Hybrid Gasoline\", \"vehicles\": 1079558}, {\"fuel\": \"Hydrogen Fuel Cell\", \"vehicles\": 5138}, {\"fuel\": \"Natural Gas\", \"vehicles\": 34982}, {\"fuel\": \"Other\", \"vehicles\": 7824}, {\"fuel\": \"Plug-in Hybrid\", \"vehicles\": 204002}]}};\n",
       "const opt = {};\n",
       "const type = \"vega-lite\";\n",
       "const id = \"12b507c2-15d7-4885-a9ae-bf9bf912feda\";\n",
       "\n",
       "const output_area = this;\n",
       "\n",
       "require([\"nbextensions/jupyter-vega/index\"], function(vega) {\n",
       "  const target = document.createElement(\"div\");\n",
       "  target.id = id;\n",
       "  target.className = \"vega-embed\";\n",
       "\n",
       "  const style = document.createElement(\"style\");\n",
       "  style.textContent = [\n",
       "    \".vega-embed .error p {\",\n",
       "    \"  color: firebrick;\",\n",
       "    \"  font-size: 14px;\",\n",
       "    \"}\",\n",
       "  ].join(\"\\\\n\");\n",
       "\n",
       "  // element is a jQuery wrapped DOM element inside the output area\n",
       "  // see http://ipython.readthedocs.io/en/stable/api/generated/\\\n",
       "  // IPython.display.html#IPython.display.Javascript.__init__\n",
       "  element[0].appendChild(target);\n",
       "  element[0].appendChild(style);\n",
       "\n",
       "  vega.render(\"#\" + id, spec, type, opt, output_area);\n",
       "}, function (err) {\n",
       "  if (err.requireType !== \"scripterror\") {\n",
       "    throw(err);\n",
       "  }\n",
       "});\n"
      ],
      "text/plain": [
       "<vega.vegalite.VegaLite at 0x13a5b0748>"
      ]
     },
     "metadata": {
      "jupyter-vega": "#12b507c2-15d7-4885-a9ae-bf9bf912feda"
     },
     "output_type": "display_data"
    },
    {
     "data": {
      "text/plain": []
     },
     "execution_count": 74,
     "metadata": {},
     "output_type": "execute_result"
    },
    {
     "data": {
      "image/png": "[encoded data removed]"
     },
     "metadata": {
      "jupyter-vega": "#12b507c2-15d7-4885-a9ae-bf9bf912feda"
     },
     "output_type": "display_data"
    }
   ],
   "source": [
    "chart_fuels = alt.Chart(fuel).mark_bar().encode(\n",
    "    y=alt.Y('fuel:N', title=' ',\n",
    "        sort=alt.EncodingSortField(\n",
    "            field=\"vehicles\",  # The field to use for the sort\n",
    "            op=\"sum\",  # The operation to run on the field prior to sorting\n",
    "            order=\"descending\"  # The order to sort in\n",
    "        ), axis=alt.Axis(format='', tickCount=5)),\n",
    "    x=alt.X(\"sum(vehicles):Q\", title=\"Vehicles\", axis=alt.Axis(format='', tickCount=5))\n",
    ")\n",
    "\n",
    "chart_fuels_text = chart_fuels.mark_text(\n",
    "    align='left',\n",
    "    baseline='middle',\n",
    "    dx=3  # Nudges text to right so it doesn't appear on top of the bar\n",
    ").encode(text=alt.Text('sum(vehicles)', format=',')\n",
    ")\n",
    "\n",
    "\n",
    "(chart_fuels + chart_fuels_text)\\\n",
    ".properties(height=400, width=500, title='CA alternative fuel vehicles by type')"
   ]
  },
  {
   "cell_type": "markdown",
   "metadata": {},
   "source": [
    "--- "
   ]
  },
  {
   "cell_type": "markdown",
   "metadata": {},
   "source": [
    "## Where are these vehicles?"
   ]
  },
  {
   "cell_type": "code",
   "execution_count": 75,
   "metadata": {},
   "outputs": [],
   "source": [
    "zip_code = vehicles.groupby(['zip']).agg('sum').reset_index()"
   ]
  },
  {
   "cell_type": "code",
   "execution_count": 76,
   "metadata": {},
   "outputs": [],
   "source": [
    "zip_code_nongas = nongas.groupby(['zip']).agg('sum').reset_index()"
   ]
  },
  {
   "cell_type": "markdown",
   "metadata": {},
   "source": [
    "### Which ZIP codes have the most alternative fuel vehicles? (Airport areas, it seems)"
   ]
  },
  {
   "cell_type": "code",
   "execution_count": 77,
   "metadata": {},
   "outputs": [
    {
     "data": {
      "text/html": [
       "<div>\n",
       "<style scoped>\n",
       "    .dataframe tbody tr th:only-of-type {\n",
       "        vertical-align: middle;\n",
       "    }\n",
       "\n",
       "    .dataframe tbody tr th {\n",
       "        vertical-align: top;\n",
       "    }\n",
       "\n",
       "    .dataframe thead th {\n",
       "        text-align: right;\n",
       "    }\n",
       "</style>\n",
       "<table border=\"1\" class=\"dataframe\">\n",
       "  <thead>\n",
       "    <tr style=\"text-align: right;\">\n",
       "      <th></th>\n",
       "      <th>zip</th>\n",
       "      <th>vehicles</th>\n",
       "    </tr>\n",
       "  </thead>\n",
       "  <tbody>\n",
       "    <tr>\n",
       "      <th>2856</th>\n",
       "      <td>OOS</td>\n",
       "      <td>152537</td>\n",
       "    </tr>\n",
       "    <tr>\n",
       "      <th>45</th>\n",
       "      <td>90045</td>\n",
       "      <td>18587</td>\n",
       "    </tr>\n",
       "    <tr>\n",
       "      <th>12</th>\n",
       "      <td>90012</td>\n",
       "      <td>14204</td>\n",
       "    </tr>\n",
       "    <tr>\n",
       "      <th>1516</th>\n",
       "      <td>94080</td>\n",
       "      <td>12017</td>\n",
       "    </tr>\n",
       "    <tr>\n",
       "      <th>929</th>\n",
       "      <td>92626</td>\n",
       "      <td>11550</td>\n",
       "    </tr>\n",
       "    <tr>\n",
       "      <th>775</th>\n",
       "      <td>92335</td>\n",
       "      <td>11289</td>\n",
       "    </tr>\n",
       "    <tr>\n",
       "      <th>1206</th>\n",
       "      <td>93308</td>\n",
       "      <td>11286</td>\n",
       "    </tr>\n",
       "    <tr>\n",
       "      <th>426</th>\n",
       "      <td>91710</td>\n",
       "      <td>10929</td>\n",
       "    </tr>\n",
       "    <tr>\n",
       "      <th>1050</th>\n",
       "      <td>92868</td>\n",
       "      <td>10614</td>\n",
       "    </tr>\n",
       "    <tr>\n",
       "      <th>655</th>\n",
       "      <td>92154</td>\n",
       "      <td>10415</td>\n",
       "    </tr>\n",
       "  </tbody>\n",
       "</table>\n",
       "</div>"
      ],
      "text/plain": [
       "        zip  vehicles\n",
       "2856    OOS    152537\n",
       "45    90045     18587\n",
       "12    90012     14204\n",
       "1516  94080     12017\n",
       "929   92626     11550\n",
       "775   92335     11289\n",
       "1206  93308     11286\n",
       "426   91710     10929\n",
       "1050  92868     10614\n",
       "655   92154     10415"
      ]
     },
     "execution_count": 77,
     "metadata": {},
     "output_type": "execute_result"
    }
   ],
   "source": [
    "zip_code_nongas.sort_values(by='vehicles',\\\n",
    "    ascending=False).head(10)"
   ]
  },
  {
   "cell_type": "markdown",
   "metadata": {},
   "source": [
    "### Pivot on ZIP code and widen out the dataframe to count vehicle types across them"
   ]
  },
  {
   "cell_type": "code",
   "execution_count": 78,
   "metadata": {},
   "outputs": [],
   "source": [
    "sum_by_zip = pd.pivot_table(vehicles, values='vehicles', \\\n",
    "                            index=['zip'], columns=['fuel'], aggfunc=np.sum, fill_value=0).reset_index()\n",
    "\n",
    "sum_by_zip.columns = sum_by_zip.columns.str.strip().str.lower().str.replace(' ', '_')\\\n",
    "                    .str.replace('(', '').str.replace(')', '').str.replace('-','_')"
   ]
  },
  {
   "cell_type": "markdown",
   "metadata": {},
   "source": [
    "### Which type is most common in each ZIP code? "
   ]
  },
  {
   "cell_type": "code",
   "execution_count": 79,
   "metadata": {},
   "outputs": [],
   "source": [
    "sum_by_zip[\"total\"] = sum_by_zip.sum(axis=1)"
   ]
  },
  {
   "cell_type": "code",
   "execution_count": 80,
   "metadata": {},
   "outputs": [
    {
     "data": {
      "text/html": [
       "<div>\n",
       "<style scoped>\n",
       "    .dataframe tbody tr th:only-of-type {\n",
       "        vertical-align: middle;\n",
       "    }\n",
       "\n",
       "    .dataframe tbody tr th {\n",
       "        vertical-align: top;\n",
       "    }\n",
       "\n",
       "    .dataframe thead th {\n",
       "        text-align: right;\n",
       "    }\n",
       "</style>\n",
       "<table border=\"1\" class=\"dataframe\">\n",
       "  <thead>\n",
       "    <tr style=\"text-align: right;\">\n",
       "      <th>fuel</th>\n",
       "      <th>zip</th>\n",
       "      <th>battery_electric</th>\n",
       "      <th>diesel_and_diesel_hybrid</th>\n",
       "      <th>flex_fuel</th>\n",
       "      <th>gasoline</th>\n",
       "      <th>hybrid_gasoline</th>\n",
       "      <th>hydrogen_fuel_cell</th>\n",
       "      <th>natural_gas</th>\n",
       "      <th>other</th>\n",
       "      <th>plug_in_hybrid</th>\n",
       "      <th>total</th>\n",
       "    </tr>\n",
       "  </thead>\n",
       "  <tbody>\n",
       "    <tr>\n",
       "      <th>2915</th>\n",
       "      <td>OOS</td>\n",
       "      <td>2952</td>\n",
       "      <td>51588</td>\n",
       "      <td>76741</td>\n",
       "      <td>536546</td>\n",
       "      <td>17872</td>\n",
       "      <td>37</td>\n",
       "      <td>1433</td>\n",
       "      <td>240</td>\n",
       "      <td>1674</td>\n",
       "      <td>689083</td>\n",
       "    </tr>\n",
       "    <tr>\n",
       "      <th>45</th>\n",
       "      <td>90045</td>\n",
       "      <td>433</td>\n",
       "      <td>826</td>\n",
       "      <td>12184</td>\n",
       "      <td>118089</td>\n",
       "      <td>4578</td>\n",
       "      <td>19</td>\n",
       "      <td>159</td>\n",
       "      <td>3</td>\n",
       "      <td>385</td>\n",
       "      <td>136676</td>\n",
       "    </tr>\n",
       "    <tr>\n",
       "      <th>1528</th>\n",
       "      <td>94080</td>\n",
       "      <td>309</td>\n",
       "      <td>2088</td>\n",
       "      <td>4307</td>\n",
       "      <td>116323</td>\n",
       "      <td>4987</td>\n",
       "      <td>9</td>\n",
       "      <td>60</td>\n",
       "      <td>17</td>\n",
       "      <td>240</td>\n",
       "      <td>128340</td>\n",
       "    </tr>\n",
       "    <tr>\n",
       "      <th>661</th>\n",
       "      <td>92154</td>\n",
       "      <td>121</td>\n",
       "      <td>5747</td>\n",
       "      <td>3045</td>\n",
       "      <td>67610</td>\n",
       "      <td>1330</td>\n",
       "      <td>0</td>\n",
       "      <td>23</td>\n",
       "      <td>8</td>\n",
       "      <td>141</td>\n",
       "      <td>78025</td>\n",
       "    </tr>\n",
       "    <tr>\n",
       "      <th>192</th>\n",
       "      <td>90650</td>\n",
       "      <td>136</td>\n",
       "      <td>1817</td>\n",
       "      <td>2779</td>\n",
       "      <td>69920</td>\n",
       "      <td>1542</td>\n",
       "      <td>5</td>\n",
       "      <td>94</td>\n",
       "      <td>15</td>\n",
       "      <td>252</td>\n",
       "      <td>76560</td>\n",
       "    </tr>\n",
       "  </tbody>\n",
       "</table>\n",
       "</div>"
      ],
      "text/plain": [
       "fuel    zip  battery_electric  diesel_and_diesel_hybrid  flex_fuel  gasoline  \\\n",
       "2915    OOS              2952                     51588      76741    536546   \n",
       "45    90045               433                       826      12184    118089   \n",
       "1528  94080               309                      2088       4307    116323   \n",
       "661   92154               121                      5747       3045     67610   \n",
       "192   90650               136                      1817       2779     69920   \n",
       "\n",
       "fuel  hybrid_gasoline  hydrogen_fuel_cell  natural_gas  other  plug_in_hybrid  \\\n",
       "2915            17872                  37         1433    240            1674   \n",
       "45               4578                  19          159      3             385   \n",
       "1528             4987                   9           60     17             240   \n",
       "661              1330                   0           23      8             141   \n",
       "192              1542                   5           94     15             252   \n",
       "\n",
       "fuel   total  \n",
       "2915  689083  \n",
       "45    136676  \n",
       "1528  128340  \n",
       "661    78025  \n",
       "192    76560  "
      ]
     },
     "execution_count": 80,
     "metadata": {},
     "output_type": "execute_result"
    }
   ],
   "source": [
    "sum_by_zip.sort_values(by='total', ascending=False).head(5)"
   ]
  },
  {
   "cell_type": "markdown",
   "metadata": {},
   "source": [
    "### Group the lesser-used fuel types into an 'other' category"
   ]
  },
  {
   "cell_type": "code",
   "execution_count": 81,
   "metadata": {},
   "outputs": [],
   "source": [
    "sum_by_zip['other'] = sum_by_zip.apply\\\n",
    "    (lambda x: x['hydrogen_fuel_cell'] + x['natural_gas'] + x['other'], axis=1)\n",
    "sum_by_zip.drop(['hydrogen_fuel_cell', 'natural_gas'], axis=1, inplace=True)\n",
    "sum_by_zip.drop([0], inplace=True)"
   ]
  },
  {
   "cell_type": "markdown",
   "metadata": {},
   "source": [
    "### Which non-gas vehicle is most popular — the 'winner' — in each zip?"
   ]
  },
  {
   "cell_type": "code",
   "execution_count": 82,
   "metadata": {},
   "outputs": [],
   "source": [
    "sum_by_zip['winner'] = \\\n",
    "sum_by_zip[['hybrid_gasoline','battery_electric','diesel_and_diesel_hybrid',\\\n",
    "                   'flex_fuel','plug_in_hybrid', 'other']].idxmax(axis=1)"
   ]
  },
  {
   "cell_type": "code",
   "execution_count": 83,
   "metadata": {},
   "outputs": [
    {
     "data": {
      "text/html": [
       "<div>\n",
       "<style scoped>\n",
       "    .dataframe tbody tr th:only-of-type {\n",
       "        vertical-align: middle;\n",
       "    }\n",
       "\n",
       "    .dataframe tbody tr th {\n",
       "        vertical-align: top;\n",
       "    }\n",
       "\n",
       "    .dataframe thead th {\n",
       "        text-align: right;\n",
       "    }\n",
       "</style>\n",
       "<table border=\"1\" class=\"dataframe\">\n",
       "  <thead>\n",
       "    <tr style=\"text-align: right;\">\n",
       "      <th>fuel</th>\n",
       "      <th>zip</th>\n",
       "      <th>battery_electric</th>\n",
       "      <th>diesel_and_diesel_hybrid</th>\n",
       "      <th>flex_fuel</th>\n",
       "      <th>gasoline</th>\n",
       "      <th>hybrid_gasoline</th>\n",
       "      <th>other</th>\n",
       "      <th>plug_in_hybrid</th>\n",
       "      <th>total</th>\n",
       "      <th>winner</th>\n",
       "    </tr>\n",
       "  </thead>\n",
       "  <tbody>\n",
       "    <tr>\n",
       "      <th>2915</th>\n",
       "      <td>OOS</td>\n",
       "      <td>2952</td>\n",
       "      <td>51588</td>\n",
       "      <td>76741</td>\n",
       "      <td>536546</td>\n",
       "      <td>17872</td>\n",
       "      <td>1710</td>\n",
       "      <td>1674</td>\n",
       "      <td>689083</td>\n",
       "      <td>flex_fuel</td>\n",
       "    </tr>\n",
       "    <tr>\n",
       "      <th>45</th>\n",
       "      <td>90045</td>\n",
       "      <td>433</td>\n",
       "      <td>826</td>\n",
       "      <td>12184</td>\n",
       "      <td>118089</td>\n",
       "      <td>4578</td>\n",
       "      <td>181</td>\n",
       "      <td>385</td>\n",
       "      <td>136676</td>\n",
       "      <td>flex_fuel</td>\n",
       "    </tr>\n",
       "    <tr>\n",
       "      <th>1528</th>\n",
       "      <td>94080</td>\n",
       "      <td>309</td>\n",
       "      <td>2088</td>\n",
       "      <td>4307</td>\n",
       "      <td>116323</td>\n",
       "      <td>4987</td>\n",
       "      <td>86</td>\n",
       "      <td>240</td>\n",
       "      <td>128340</td>\n",
       "      <td>hybrid_gasoline</td>\n",
       "    </tr>\n",
       "    <tr>\n",
       "      <th>661</th>\n",
       "      <td>92154</td>\n",
       "      <td>121</td>\n",
       "      <td>5747</td>\n",
       "      <td>3045</td>\n",
       "      <td>67610</td>\n",
       "      <td>1330</td>\n",
       "      <td>31</td>\n",
       "      <td>141</td>\n",
       "      <td>78025</td>\n",
       "      <td>diesel_and_diesel_hybrid</td>\n",
       "    </tr>\n",
       "    <tr>\n",
       "      <th>192</th>\n",
       "      <td>90650</td>\n",
       "      <td>136</td>\n",
       "      <td>1817</td>\n",
       "      <td>2779</td>\n",
       "      <td>69920</td>\n",
       "      <td>1542</td>\n",
       "      <td>114</td>\n",
       "      <td>252</td>\n",
       "      <td>76560</td>\n",
       "      <td>flex_fuel</td>\n",
       "    </tr>\n",
       "    <tr>\n",
       "      <th>782</th>\n",
       "      <td>92335</td>\n",
       "      <td>51</td>\n",
       "      <td>6640</td>\n",
       "      <td>3267</td>\n",
       "      <td>65154</td>\n",
       "      <td>773</td>\n",
       "      <td>461</td>\n",
       "      <td>97</td>\n",
       "      <td>76443</td>\n",
       "      <td>diesel_and_diesel_hybrid</td>\n",
       "    </tr>\n",
       "    <tr>\n",
       "      <th>335</th>\n",
       "      <td>91331</td>\n",
       "      <td>54</td>\n",
       "      <td>1809</td>\n",
       "      <td>2814</td>\n",
       "      <td>69639</td>\n",
       "      <td>1316</td>\n",
       "      <td>47</td>\n",
       "      <td>175</td>\n",
       "      <td>75854</td>\n",
       "      <td>flex_fuel</td>\n",
       "    </tr>\n",
       "    <tr>\n",
       "      <th>783</th>\n",
       "      <td>92336</td>\n",
       "      <td>185</td>\n",
       "      <td>2335</td>\n",
       "      <td>3083</td>\n",
       "      <td>67615</td>\n",
       "      <td>1810</td>\n",
       "      <td>55</td>\n",
       "      <td>443</td>\n",
       "      <td>75526</td>\n",
       "      <td>flex_fuel</td>\n",
       "    </tr>\n",
       "    <tr>\n",
       "      <th>342</th>\n",
       "      <td>91342</td>\n",
       "      <td>162</td>\n",
       "      <td>2926</td>\n",
       "      <td>2924</td>\n",
       "      <td>66392</td>\n",
       "      <td>1972</td>\n",
       "      <td>44</td>\n",
       "      <td>312</td>\n",
       "      <td>74732</td>\n",
       "      <td>diesel_and_diesel_hybrid</td>\n",
       "    </tr>\n",
       "    <tr>\n",
       "      <th>1667</th>\n",
       "      <td>94565</td>\n",
       "      <td>144</td>\n",
       "      <td>1811</td>\n",
       "      <td>3045</td>\n",
       "      <td>66285</td>\n",
       "      <td>2001</td>\n",
       "      <td>52</td>\n",
       "      <td>268</td>\n",
       "      <td>73606</td>\n",
       "      <td>flex_fuel</td>\n",
       "    </tr>\n",
       "  </tbody>\n",
       "</table>\n",
       "</div>"
      ],
      "text/plain": [
       "fuel    zip  battery_electric  diesel_and_diesel_hybrid  flex_fuel  gasoline  \\\n",
       "2915    OOS              2952                     51588      76741    536546   \n",
       "45    90045               433                       826      12184    118089   \n",
       "1528  94080               309                      2088       4307    116323   \n",
       "661   92154               121                      5747       3045     67610   \n",
       "192   90650               136                      1817       2779     69920   \n",
       "782   92335                51                      6640       3267     65154   \n",
       "335   91331                54                      1809       2814     69639   \n",
       "783   92336               185                      2335       3083     67615   \n",
       "342   91342               162                      2926       2924     66392   \n",
       "1667  94565               144                      1811       3045     66285   \n",
       "\n",
       "fuel  hybrid_gasoline  other  plug_in_hybrid   total                    winner  \n",
       "2915            17872   1710            1674  689083                 flex_fuel  \n",
       "45               4578    181             385  136676                 flex_fuel  \n",
       "1528             4987     86             240  128340           hybrid_gasoline  \n",
       "661              1330     31             141   78025  diesel_and_diesel_hybrid  \n",
       "192              1542    114             252   76560                 flex_fuel  \n",
       "782               773    461              97   76443  diesel_and_diesel_hybrid  \n",
       "335              1316     47             175   75854                 flex_fuel  \n",
       "783              1810     55             443   75526                 flex_fuel  \n",
       "342              1972     44             312   74732  diesel_and_diesel_hybrid  \n",
       "1667             2001     52             268   73606                 flex_fuel  "
      ]
     },
     "execution_count": 83,
     "metadata": {},
     "output_type": "execute_result"
    }
   ],
   "source": [
    "sum_by_zip.sort_values(by='total', ascending=False).head(10)"
   ]
  },
  {
   "cell_type": "markdown",
   "metadata": {},
   "source": [
    "### De-slugify the 'winner' category"
   ]
  },
  {
   "cell_type": "code",
   "execution_count": 84,
   "metadata": {},
   "outputs": [],
   "source": [
    "sum_by_zip['winner'] = sum_by_zip['winner'].str.replace('_', ' ', regex=False).str.capitalize()"
   ]
  },
  {
   "cell_type": "code",
   "execution_count": 85,
   "metadata": {},
   "outputs": [],
   "source": [
    "sum_by_zip['altshare'] = (((sum_by_zip['total']-sum_by_zip['gasoline'])/sum_by_zip['total'])*100).round()"
   ]
  },
  {
   "cell_type": "code",
   "execution_count": 86,
   "metadata": {},
   "outputs": [
    {
     "data": {
      "text/html": [
       "<div>\n",
       "<style scoped>\n",
       "    .dataframe tbody tr th:only-of-type {\n",
       "        vertical-align: middle;\n",
       "    }\n",
       "\n",
       "    .dataframe tbody tr th {\n",
       "        vertical-align: top;\n",
       "    }\n",
       "\n",
       "    .dataframe thead th {\n",
       "        text-align: right;\n",
       "    }\n",
       "</style>\n",
       "<table border=\"1\" class=\"dataframe\">\n",
       "  <thead>\n",
       "    <tr style=\"text-align: right;\">\n",
       "      <th>fuel</th>\n",
       "      <th>zip</th>\n",
       "      <th>battery_electric</th>\n",
       "      <th>diesel_and_diesel_hybrid</th>\n",
       "      <th>flex_fuel</th>\n",
       "      <th>gasoline</th>\n",
       "      <th>hybrid_gasoline</th>\n",
       "      <th>other</th>\n",
       "      <th>plug_in_hybrid</th>\n",
       "      <th>total</th>\n",
       "      <th>winner</th>\n",
       "      <th>altshare</th>\n",
       "    </tr>\n",
       "  </thead>\n",
       "  <tbody>\n",
       "    <tr>\n",
       "      <th>2915</th>\n",
       "      <td>OOS</td>\n",
       "      <td>2952</td>\n",
       "      <td>51588</td>\n",
       "      <td>76741</td>\n",
       "      <td>536546</td>\n",
       "      <td>17872</td>\n",
       "      <td>1710</td>\n",
       "      <td>1674</td>\n",
       "      <td>689083</td>\n",
       "      <td>Flex fuel</td>\n",
       "      <td>22.00</td>\n",
       "    </tr>\n",
       "    <tr>\n",
       "      <th>45</th>\n",
       "      <td>90045</td>\n",
       "      <td>433</td>\n",
       "      <td>826</td>\n",
       "      <td>12184</td>\n",
       "      <td>118089</td>\n",
       "      <td>4578</td>\n",
       "      <td>181</td>\n",
       "      <td>385</td>\n",
       "      <td>136676</td>\n",
       "      <td>Flex fuel</td>\n",
       "      <td>14.00</td>\n",
       "    </tr>\n",
       "    <tr>\n",
       "      <th>1528</th>\n",
       "      <td>94080</td>\n",
       "      <td>309</td>\n",
       "      <td>2088</td>\n",
       "      <td>4307</td>\n",
       "      <td>116323</td>\n",
       "      <td>4987</td>\n",
       "      <td>86</td>\n",
       "      <td>240</td>\n",
       "      <td>128340</td>\n",
       "      <td>Hybrid gasoline</td>\n",
       "      <td>9.00</td>\n",
       "    </tr>\n",
       "    <tr>\n",
       "      <th>661</th>\n",
       "      <td>92154</td>\n",
       "      <td>121</td>\n",
       "      <td>5747</td>\n",
       "      <td>3045</td>\n",
       "      <td>67610</td>\n",
       "      <td>1330</td>\n",
       "      <td>31</td>\n",
       "      <td>141</td>\n",
       "      <td>78025</td>\n",
       "      <td>Diesel and diesel hybrid</td>\n",
       "      <td>13.00</td>\n",
       "    </tr>\n",
       "    <tr>\n",
       "      <th>192</th>\n",
       "      <td>90650</td>\n",
       "      <td>136</td>\n",
       "      <td>1817</td>\n",
       "      <td>2779</td>\n",
       "      <td>69920</td>\n",
       "      <td>1542</td>\n",
       "      <td>114</td>\n",
       "      <td>252</td>\n",
       "      <td>76560</td>\n",
       "      <td>Flex fuel</td>\n",
       "      <td>9.00</td>\n",
       "    </tr>\n",
       "    <tr>\n",
       "      <th>782</th>\n",
       "      <td>92335</td>\n",
       "      <td>51</td>\n",
       "      <td>6640</td>\n",
       "      <td>3267</td>\n",
       "      <td>65154</td>\n",
       "      <td>773</td>\n",
       "      <td>461</td>\n",
       "      <td>97</td>\n",
       "      <td>76443</td>\n",
       "      <td>Diesel and diesel hybrid</td>\n",
       "      <td>15.00</td>\n",
       "    </tr>\n",
       "    <tr>\n",
       "      <th>335</th>\n",
       "      <td>91331</td>\n",
       "      <td>54</td>\n",
       "      <td>1809</td>\n",
       "      <td>2814</td>\n",
       "      <td>69639</td>\n",
       "      <td>1316</td>\n",
       "      <td>47</td>\n",
       "      <td>175</td>\n",
       "      <td>75854</td>\n",
       "      <td>Flex fuel</td>\n",
       "      <td>8.00</td>\n",
       "    </tr>\n",
       "    <tr>\n",
       "      <th>783</th>\n",
       "      <td>92336</td>\n",
       "      <td>185</td>\n",
       "      <td>2335</td>\n",
       "      <td>3083</td>\n",
       "      <td>67615</td>\n",
       "      <td>1810</td>\n",
       "      <td>55</td>\n",
       "      <td>443</td>\n",
       "      <td>75526</td>\n",
       "      <td>Flex fuel</td>\n",
       "      <td>10.00</td>\n",
       "    </tr>\n",
       "    <tr>\n",
       "      <th>342</th>\n",
       "      <td>91342</td>\n",
       "      <td>162</td>\n",
       "      <td>2926</td>\n",
       "      <td>2924</td>\n",
       "      <td>66392</td>\n",
       "      <td>1972</td>\n",
       "      <td>44</td>\n",
       "      <td>312</td>\n",
       "      <td>74732</td>\n",
       "      <td>Diesel and diesel hybrid</td>\n",
       "      <td>11.00</td>\n",
       "    </tr>\n",
       "    <tr>\n",
       "      <th>1667</th>\n",
       "      <td>94565</td>\n",
       "      <td>144</td>\n",
       "      <td>1811</td>\n",
       "      <td>3045</td>\n",
       "      <td>66285</td>\n",
       "      <td>2001</td>\n",
       "      <td>52</td>\n",
       "      <td>268</td>\n",
       "      <td>73606</td>\n",
       "      <td>Flex fuel</td>\n",
       "      <td>10.00</td>\n",
       "    </tr>\n",
       "  </tbody>\n",
       "</table>\n",
       "</div>"
      ],
      "text/plain": [
       "fuel    zip  battery_electric  diesel_and_diesel_hybrid  flex_fuel  gasoline  \\\n",
       "2915    OOS              2952                     51588      76741    536546   \n",
       "45    90045               433                       826      12184    118089   \n",
       "1528  94080               309                      2088       4307    116323   \n",
       "661   92154               121                      5747       3045     67610   \n",
       "192   90650               136                      1817       2779     69920   \n",
       "782   92335                51                      6640       3267     65154   \n",
       "335   91331                54                      1809       2814     69639   \n",
       "783   92336               185                      2335       3083     67615   \n",
       "342   91342               162                      2926       2924     66392   \n",
       "1667  94565               144                      1811       3045     66285   \n",
       "\n",
       "fuel  hybrid_gasoline  other  plug_in_hybrid   total  \\\n",
       "2915            17872   1710            1674  689083   \n",
       "45               4578    181             385  136676   \n",
       "1528             4987     86             240  128340   \n",
       "661              1330     31             141   78025   \n",
       "192              1542    114             252   76560   \n",
       "782               773    461              97   76443   \n",
       "335              1316     47             175   75854   \n",
       "783              1810     55             443   75526   \n",
       "342              1972     44             312   74732   \n",
       "1667             2001     52             268   73606   \n",
       "\n",
       "fuel                    winner  altshare  \n",
       "2915                 Flex fuel     22.00  \n",
       "45                   Flex fuel     14.00  \n",
       "1528           Hybrid gasoline      9.00  \n",
       "661   Diesel and diesel hybrid     13.00  \n",
       "192                  Flex fuel      9.00  \n",
       "782   Diesel and diesel hybrid     15.00  \n",
       "335                  Flex fuel      8.00  \n",
       "783                  Flex fuel     10.00  \n",
       "342   Diesel and diesel hybrid     11.00  \n",
       "1667                 Flex fuel     10.00  "
      ]
     },
     "execution_count": 86,
     "metadata": {},
     "output_type": "execute_result"
    }
   ],
   "source": [
    "sum_by_zip.sort_values(by='total', ascending=False).head(10)"
   ]
  },
  {
   "cell_type": "markdown",
   "metadata": {},
   "source": [
    "### Use the \"jenks\" method to set fair breaks for total field"
   ]
  },
  {
   "cell_type": "code",
   "execution_count": 87,
   "metadata": {},
   "outputs": [],
   "source": [
    "breaks \\\n",
    "= jenkspy.jenks_breaks(sum_by_zip.total, nb_class=7)"
   ]
  },
  {
   "cell_type": "code",
   "execution_count": 88,
   "metadata": {},
   "outputs": [
    {
     "data": {
      "text/plain": [
       "[11.0, 7324.0, 20016.0, 33181.0, 49901.0, 78025.0, 136676.0, 689083.0]"
      ]
     },
     "execution_count": 88,
     "metadata": {},
     "output_type": "execute_result"
    }
   ],
   "source": [
    "breaks"
   ]
  },
  {
   "cell_type": "markdown",
   "metadata": {},
   "source": [
    "---"
   ]
  },
  {
   "cell_type": "markdown",
   "metadata": {},
   "source": [
    "### Export merged polygon geodataframe as GeoJSON"
   ]
  },
  {
   "cell_type": "code",
   "execution_count": 89,
   "metadata": {},
   "outputs": [],
   "source": [
    "zips_poly.to_file('/Users/mhustiles/data/data/GIS/zips_poly.geojson', driver='GeoJSON')"
   ]
  },
  {
   "cell_type": "code",
   "execution_count": 90,
   "metadata": {},
   "outputs": [],
   "source": [
    "zips_poly_merged = zips_poly.merge(sum_by_zip, on='zip')"
   ]
  },
  {
   "cell_type": "code",
   "execution_count": 91,
   "metadata": {},
   "outputs": [
    {
     "data": {
      "text/plain": [
       "Index(['objectid', 'zip', 'po_name', 'pop2012', 'white', 'black', 'ameri_es',\n",
       "       'asian', 'hawn_pi', 'hispanic', 'other_x', 'mult_race', 'med_age',\n",
       "       'ave_hh_sz', 'marhh_chd', 'families', 'ave_fam_sz', 'hse_units', 'sqmi',\n",
       "       'geometry', 'battery_electric', 'diesel_and_diesel_hybrid', 'flex_fuel',\n",
       "       'gasoline', 'hybrid_gasoline', 'other_y', 'plug_in_hybrid', 'total',\n",
       "       'winner', 'altshare'],\n",
       "      dtype='object')"
      ]
     },
     "execution_count": 91,
     "metadata": {},
     "output_type": "execute_result"
    }
   ],
   "source": [
    "zips_poly_merged.columns"
   ]
  },
  {
   "cell_type": "code",
   "execution_count": 92,
   "metadata": {},
   "outputs": [],
   "source": [
    "# zips_poly_merged_drop = ['objectid', 'zip', 'po_name', 'sqmi', \n",
    "#                         'battery_electric', 'diesel_and_diesel_hybrid', 'flex_fuel',\n",
    "#                          'gasoline', 'hybrid_gasoline', 'other_y', 'plug_in_hybrid', 'total',\n",
    "#                          'winner', 'altshare']\n",
    "# zips_poly_merged.drop(zips_poly_merged_drop, inplace=True, axis=1)"
   ]
  },
  {
   "cell_type": "code",
   "execution_count": 93,
   "metadata": {},
   "outputs": [],
   "source": [
    "zips_poly_merged.to_file('/Users/mhustiles/data/data/GIS/zips_poly_merged.geojson', driver='GeoJSON')"
   ]
  },
  {
   "cell_type": "markdown",
   "metadata": {},
   "source": [
    "### Export with Tesla totals"
   ]
  },
  {
   "cell_type": "code",
   "execution_count": 94,
   "metadata": {},
   "outputs": [],
   "source": [
    "tesla_zips_poly_merged = zips_poly.merge(tesla_zips_slim, on='zip')"
   ]
  },
  {
   "cell_type": "code",
   "execution_count": 95,
   "metadata": {},
   "outputs": [],
   "source": [
    "tesla_zips_poly_merged.to_file('/Users/mhustiles/data/github/notebooks/\\\n",
    "california-fuel-vehicles/output/tesla_zips.geojson', driver='GeoJSON')"
   ]
  },
  {
   "cell_type": "code",
   "execution_count": 96,
   "metadata": {},
   "outputs": [
    {
     "data": {
      "text/html": [
       "<div>\n",
       "<style scoped>\n",
       "    .dataframe tbody tr th:only-of-type {\n",
       "        vertical-align: middle;\n",
       "    }\n",
       "\n",
       "    .dataframe tbody tr th {\n",
       "        vertical-align: top;\n",
       "    }\n",
       "\n",
       "    .dataframe thead th {\n",
       "        text-align: right;\n",
       "    }\n",
       "</style>\n",
       "<table border=\"1\" class=\"dataframe\">\n",
       "  <thead>\n",
       "    <tr style=\"text-align: right;\">\n",
       "      <th></th>\n",
       "      <th>objectid</th>\n",
       "      <th>zip</th>\n",
       "      <th>po_name</th>\n",
       "      <th>pop2012</th>\n",
       "      <th>white</th>\n",
       "      <th>black</th>\n",
       "      <th>ameri_es</th>\n",
       "      <th>asian</th>\n",
       "      <th>hawn_pi</th>\n",
       "      <th>hispanic</th>\n",
       "      <th>other</th>\n",
       "      <th>mult_race</th>\n",
       "      <th>med_age</th>\n",
       "      <th>ave_hh_sz</th>\n",
       "      <th>marhh_chd</th>\n",
       "      <th>families</th>\n",
       "      <th>ave_fam_sz</th>\n",
       "      <th>hse_units</th>\n",
       "      <th>sqmi</th>\n",
       "      <th>geometry</th>\n",
       "      <th>teslas</th>\n",
       "      <th>tesla_rate</th>\n",
       "    </tr>\n",
       "  </thead>\n",
       "  <tbody>\n",
       "    <tr>\n",
       "      <th>0</th>\n",
       "      <td>4800</td>\n",
       "      <td>94002</td>\n",
       "      <td>Belmont</td>\n",
       "      <td>26832</td>\n",
       "      <td>19634</td>\n",
       "      <td>477</td>\n",
       "      <td>84</td>\n",
       "      <td>5762</td>\n",
       "      <td>221</td>\n",
       "      <td>3517</td>\n",
       "      <td>1170</td>\n",
       "      <td>1744</td>\n",
       "      <td>41.00</td>\n",
       "      <td>2.42</td>\n",
       "      <td>2925</td>\n",
       "      <td>7671</td>\n",
       "      <td>2.98</td>\n",
       "      <td>12304</td>\n",
       "      <td>5.90</td>\n",
       "      <td>POLYGON ((-122.277034540571 37.5343582023783, ...</td>\n",
       "      <td>305</td>\n",
       "      <td>13.25</td>\n",
       "    </tr>\n",
       "    <tr>\n",
       "      <th>1</th>\n",
       "      <td>4801</td>\n",
       "      <td>94010</td>\n",
       "      <td>Burlingame</td>\n",
       "      <td>41102</td>\n",
       "      <td>31610</td>\n",
       "      <td>482</td>\n",
       "      <td>93</td>\n",
       "      <td>10244</td>\n",
       "      <td>188</td>\n",
       "      <td>5133</td>\n",
       "      <td>1865</td>\n",
       "      <td>2166</td>\n",
       "      <td>42.60</td>\n",
       "      <td>2.43</td>\n",
       "      <td>4798</td>\n",
       "      <td>12179</td>\n",
       "      <td>3.06</td>\n",
       "      <td>20020</td>\n",
       "      <td>13.00</td>\n",
       "      <td>POLYGON ((-122.377279066574 37.6056199838047, ...</td>\n",
       "      <td>797</td>\n",
       "      <td>17.53</td>\n",
       "    </tr>\n",
       "    <tr>\n",
       "      <th>2</th>\n",
       "      <td>4802</td>\n",
       "      <td>94015</td>\n",
       "      <td>Daly City</td>\n",
       "      <td>61575</td>\n",
       "      <td>14279</td>\n",
       "      <td>2138</td>\n",
       "      <td>168</td>\n",
       "      <td>35940</td>\n",
       "      <td>482</td>\n",
       "      <td>9775</td>\n",
       "      <td>4520</td>\n",
       "      <td>2939</td>\n",
       "      <td>39.00</td>\n",
       "      <td>3.10</td>\n",
       "      <td>4637</td>\n",
       "      <td>13991</td>\n",
       "      <td>3.54</td>\n",
       "      <td>20103</td>\n",
       "      <td>5.70</td>\n",
       "      <td>POLYGON ((-122.502826389233 37.7081318430574, ...</td>\n",
       "      <td>79</td>\n",
       "      <td>1.75</td>\n",
       "    </tr>\n",
       "    <tr>\n",
       "      <th>3</th>\n",
       "      <td>4803</td>\n",
       "      <td>94019</td>\n",
       "      <td>Half Moon Bay</td>\n",
       "      <td>18476</td>\n",
       "      <td>14195</td>\n",
       "      <td>137</td>\n",
       "      <td>128</td>\n",
       "      <td>718</td>\n",
       "      <td>20</td>\n",
       "      <td>5533</td>\n",
       "      <td>2646</td>\n",
       "      <td>693</td>\n",
       "      <td>42.30</td>\n",
       "      <td>2.75</td>\n",
       "      <td>1729</td>\n",
       "      <td>4653</td>\n",
       "      <td>3.23</td>\n",
       "      <td>7132</td>\n",
       "      <td>73.10</td>\n",
       "      <td>(POLYGON ((-122.428748182297 37.6041545461498,...</td>\n",
       "      <td>86</td>\n",
       "      <td>5.80</td>\n",
       "    </tr>\n",
       "    <tr>\n",
       "      <th>4</th>\n",
       "      <td>4902</td>\n",
       "      <td>93446</td>\n",
       "      <td>Paso Robles</td>\n",
       "      <td>44990</td>\n",
       "      <td>35268</td>\n",
       "      <td>719</td>\n",
       "      <td>465</td>\n",
       "      <td>721</td>\n",
       "      <td>68</td>\n",
       "      <td>12245</td>\n",
       "      <td>4582</td>\n",
       "      <td>1602</td>\n",
       "      <td>38.60</td>\n",
       "      <td>2.67</td>\n",
       "      <td>3930</td>\n",
       "      <td>11561</td>\n",
       "      <td>3.10</td>\n",
       "      <td>18303</td>\n",
       "      <td>344.40</td>\n",
       "      <td>POLYGON ((-121.060394531453 35.7388181902079, ...</td>\n",
       "      <td>21</td>\n",
       "      <td>0.50</td>\n",
       "    </tr>\n",
       "  </tbody>\n",
       "</table>\n",
       "</div>"
      ],
      "text/plain": [
       "   objectid    zip        po_name  pop2012  white  black  ameri_es  asian  \\\n",
       "0      4800  94002        Belmont    26832  19634    477        84   5762   \n",
       "1      4801  94010     Burlingame    41102  31610    482        93  10244   \n",
       "2      4802  94015      Daly City    61575  14279   2138       168  35940   \n",
       "3      4803  94019  Half Moon Bay    18476  14195    137       128    718   \n",
       "4      4902  93446    Paso Robles    44990  35268    719       465    721   \n",
       "\n",
       "   hawn_pi  hispanic  other  mult_race  med_age  ave_hh_sz  marhh_chd  \\\n",
       "0      221      3517   1170       1744    41.00       2.42       2925   \n",
       "1      188      5133   1865       2166    42.60       2.43       4798   \n",
       "2      482      9775   4520       2939    39.00       3.10       4637   \n",
       "3       20      5533   2646        693    42.30       2.75       1729   \n",
       "4       68     12245   4582       1602    38.60       2.67       3930   \n",
       "\n",
       "   families  ave_fam_sz  hse_units   sqmi  \\\n",
       "0      7671        2.98      12304   5.90   \n",
       "1     12179        3.06      20020  13.00   \n",
       "2     13991        3.54      20103   5.70   \n",
       "3      4653        3.23       7132  73.10   \n",
       "4     11561        3.10      18303 344.40   \n",
       "\n",
       "                                            geometry  teslas  tesla_rate  \n",
       "0  POLYGON ((-122.277034540571 37.5343582023783, ...     305       13.25  \n",
       "1  POLYGON ((-122.377279066574 37.6056199838047, ...     797       17.53  \n",
       "2  POLYGON ((-122.502826389233 37.7081318430574, ...      79        1.75  \n",
       "3  (POLYGON ((-122.428748182297 37.6041545461498,...      86        5.80  \n",
       "4  POLYGON ((-121.060394531453 35.7388181902079, ...      21        0.50  "
      ]
     },
     "execution_count": 96,
     "metadata": {},
     "output_type": "execute_result"
    }
   ],
   "source": [
    "tesla_zips_poly_merged.head()"
   ]
  },
  {
   "cell_type": "markdown",
   "metadata": {},
   "source": [
    "### Merge ZIP points with Tesla totals"
   ]
  },
  {
   "cell_type": "code",
   "execution_count": 97,
   "metadata": {},
   "outputs": [],
   "source": [
    "teslas_poimt_merged = ca_zips_point.merge(tesla_zips_slim, on='zip')"
   ]
  },
  {
   "cell_type": "code",
   "execution_count": 98,
   "metadata": {},
   "outputs": [
    {
     "data": {
      "text/html": [
       "<div>\n",
       "<style scoped>\n",
       "    .dataframe tbody tr th:only-of-type {\n",
       "        vertical-align: middle;\n",
       "    }\n",
       "\n",
       "    .dataframe tbody tr th {\n",
       "        vertical-align: top;\n",
       "    }\n",
       "\n",
       "    .dataframe thead th {\n",
       "        text-align: right;\n",
       "    }\n",
       "</style>\n",
       "<table border=\"1\" class=\"dataframe\">\n",
       "  <thead>\n",
       "    <tr style=\"text-align: right;\">\n",
       "      <th></th>\n",
       "      <th>zip</th>\n",
       "      <th>city</th>\n",
       "      <th>state</th>\n",
       "      <th>geometry</th>\n",
       "      <th>teslas</th>\n",
       "      <th>tesla_rate</th>\n",
       "    </tr>\n",
       "  </thead>\n",
       "  <tbody>\n",
       "    <tr>\n",
       "      <th>0</th>\n",
       "      <td>90004</td>\n",
       "      <td>Los Angeles</td>\n",
       "      <td>CA</td>\n",
       "      <td>POINT (-118.31 34.07)</td>\n",
       "      <td>97</td>\n",
       "      <td>2.84</td>\n",
       "    </tr>\n",
       "    <tr>\n",
       "      <th>1</th>\n",
       "      <td>90005</td>\n",
       "      <td>Los Angeles</td>\n",
       "      <td>CA</td>\n",
       "      <td>POINT (-118.31 34.05)</td>\n",
       "      <td>16</td>\n",
       "      <td>0.90</td>\n",
       "    </tr>\n",
       "    <tr>\n",
       "      <th>2</th>\n",
       "      <td>90008</td>\n",
       "      <td>Los Angeles</td>\n",
       "      <td>CA</td>\n",
       "      <td>POINT (-118.34 34)</td>\n",
       "      <td>30</td>\n",
       "      <td>1.51</td>\n",
       "    </tr>\n",
       "    <tr>\n",
       "      <th>3</th>\n",
       "      <td>90012</td>\n",
       "      <td>Los Angeles</td>\n",
       "      <td>CA</td>\n",
       "      <td>POINT (-118.24 34.06)</td>\n",
       "      <td>57</td>\n",
       "      <td>1.58</td>\n",
       "    </tr>\n",
       "    <tr>\n",
       "      <th>4</th>\n",
       "      <td>90014</td>\n",
       "      <td>Los Angeles</td>\n",
       "      <td>CA</td>\n",
       "      <td>POINT (-118.25 34.04)</td>\n",
       "      <td>12</td>\n",
       "      <td>3.43</td>\n",
       "    </tr>\n",
       "  </tbody>\n",
       "</table>\n",
       "</div>"
      ],
      "text/plain": [
       "     zip         city state               geometry  teslas  tesla_rate\n",
       "0  90004  Los Angeles    CA  POINT (-118.31 34.07)      97        2.84\n",
       "1  90005  Los Angeles    CA  POINT (-118.31 34.05)      16        0.90\n",
       "2  90008  Los Angeles    CA     POINT (-118.34 34)      30        1.51\n",
       "3  90012  Los Angeles    CA  POINT (-118.24 34.06)      57        1.58\n",
       "4  90014  Los Angeles    CA  POINT (-118.25 34.04)      12        3.43"
      ]
     },
     "execution_count": 98,
     "metadata": {},
     "output_type": "execute_result"
    }
   ],
   "source": [
    "teslas_poimt_merged.head()"
   ]
  },
  {
   "cell_type": "code",
   "execution_count": 99,
   "metadata": {},
   "outputs": [],
   "source": [
    "teslas_poimt_merged.to_file('output/teslas_point_merged.geojson', driver='GeoJSON')"
   ]
  },
  {
   "cell_type": "markdown",
   "metadata": {},
   "source": [
    "### Merge ZIP points with all vehicle totals"
   ]
  },
  {
   "cell_type": "code",
   "execution_count": 100,
   "metadata": {},
   "outputs": [],
   "source": [
    "ca_zips_point_merged = ca_zips_point.merge(sum_by_zip, on='zip')"
   ]
  },
  {
   "cell_type": "code",
   "execution_count": 101,
   "metadata": {},
   "outputs": [
    {
     "data": {
      "text/plain": [
       "<matplotlib.axes._subplots.AxesSubplot at 0x13a5adb70>"
      ]
     },
     "execution_count": 101,
     "metadata": {},
     "output_type": "execute_result"
    },
    {
     "data": {
      "image/png": "[encoded data removed]",
      "text/plain": [
       "<Figure size 432x288 with 1 Axes>"
      ]
     },
     "metadata": {
      "needs_background": "light"
     },
     "output_type": "display_data"
    }
   ],
   "source": [
    "ca_zips_point_merged.plot()"
   ]
  },
  {
   "cell_type": "markdown",
   "metadata": {},
   "source": [
    "### Export merged points geodataframe as GeoJSON"
   ]
  },
  {
   "cell_type": "code",
   "execution_count": 102,
   "metadata": {},
   "outputs": [
    {
     "data": {
      "text/html": [
       "<div>\n",
       "<style scoped>\n",
       "    .dataframe tbody tr th:only-of-type {\n",
       "        vertical-align: middle;\n",
       "    }\n",
       "\n",
       "    .dataframe tbody tr th {\n",
       "        vertical-align: top;\n",
       "    }\n",
       "\n",
       "    .dataframe thead th {\n",
       "        text-align: right;\n",
       "    }\n",
       "</style>\n",
       "<table border=\"1\" class=\"dataframe\">\n",
       "  <thead>\n",
       "    <tr style=\"text-align: right;\">\n",
       "      <th></th>\n",
       "      <th>zip</th>\n",
       "      <th>city</th>\n",
       "      <th>state</th>\n",
       "      <th>geometry</th>\n",
       "      <th>battery_electric</th>\n",
       "      <th>diesel_and_diesel_hybrid</th>\n",
       "      <th>flex_fuel</th>\n",
       "      <th>gasoline</th>\n",
       "      <th>hybrid_gasoline</th>\n",
       "      <th>other</th>\n",
       "      <th>plug_in_hybrid</th>\n",
       "      <th>total</th>\n",
       "      <th>winner</th>\n",
       "      <th>altshare</th>\n",
       "    </tr>\n",
       "  </thead>\n",
       "  <tbody>\n",
       "    <tr>\n",
       "      <th>0</th>\n",
       "      <td>90001</td>\n",
       "      <td>Los Angeles</td>\n",
       "      <td>CA</td>\n",
       "      <td>POINT (-118.24 33.97)</td>\n",
       "      <td>10</td>\n",
       "      <td>865</td>\n",
       "      <td>1276</td>\n",
       "      <td>32023</td>\n",
       "      <td>466</td>\n",
       "      <td>23</td>\n",
       "      <td>46</td>\n",
       "      <td>34709</td>\n",
       "      <td>Flex fuel</td>\n",
       "      <td>8.00</td>\n",
       "    </tr>\n",
       "  </tbody>\n",
       "</table>\n",
       "</div>"
      ],
      "text/plain": [
       "     zip         city state               geometry  battery_electric  \\\n",
       "0  90001  Los Angeles    CA  POINT (-118.24 33.97)                10   \n",
       "\n",
       "   diesel_and_diesel_hybrid  flex_fuel  gasoline  hybrid_gasoline  other  \\\n",
       "0                       865       1276     32023              466     23   \n",
       "\n",
       "   plug_in_hybrid  total     winner  altshare  \n",
       "0              46  34709  Flex fuel      8.00  "
      ]
     },
     "execution_count": 102,
     "metadata": {},
     "output_type": "execute_result"
    }
   ],
   "source": [
    "ca_zips_point_merged.head(1)"
   ]
  },
  {
   "cell_type": "code",
   "execution_count": 103,
   "metadata": {},
   "outputs": [],
   "source": [
    "ca_zips_point_merged.to_file('/Users/mhustiles/data/data/fuel/ca_zips_point_merged.geojson', driver='GeoJSON')"
   ]
  },
  {
   "cell_type": "markdown",
   "metadata": {},
   "source": [
    "### Convert polygons to mbtiles for Mapbox. Export."
   ]
  },
  {
   "cell_type": "code",
   "execution_count": 104,
   "metadata": {},
   "outputs": [
    {
     "name": "stdout",
     "output_type": "stream",
     "text": [
      "For layer 0, using name \"ca_zips_poly_merged\"\r\n",
      "/Users/mhustiles/data/github/notebooks/california-fuel-vehicles/output/ca_zips_poly_merged.geojson: No such file or directory\r\n",
      "                              \r",
      "0 features, 10 bytes of geometry, 16 bytes of separate metadata, 0 bytes of string pool\r\n",
      "Did not read any valid geometries\r\n"
     ]
    }
   ],
   "source": [
    "!tippecanoe --force -r1 -pk -pf -Z5 -z13 -o \\\n",
    "/Users/mhustiles/data/github/notebooks/california-fuel-vehicles/output/ca_zips_poly_merged.mbtiles \\\n",
    "/Users/mhustiles/data/github/notebooks/california-fuel-vehicles/output/ca_zips_poly_merged.geojson"
   ]
  },
  {
   "cell_type": "markdown",
   "metadata": {},
   "source": [
    "### Convert points to mbtiles for Mapbox. Export."
   ]
  },
  {
   "cell_type": "code",
   "execution_count": 105,
   "metadata": {},
   "outputs": [
    {
     "name": "stdout",
     "output_type": "stream",
     "text": [
      "For layer 0, using name \"ca_zips_point_merged\"\r\n",
      "/Users/mhustiles/data/github/notebooks/california-fuel-vehicles/output/ca_zips_point_merged.geojson: No such file or directory\r\n",
      "                              \r",
      "0 features, 10 bytes of geometry, 16 bytes of separate metadata, 0 bytes of string pool\r\n",
      "Did not read any valid geometries\r\n"
     ]
    }
   ],
   "source": [
    "!tippecanoe --force -r1 -pk -pf -Z5 -z13 -o \\\n",
    "/Users/mhustiles/data/github/notebooks/california-fuel-vehicles/output/ca_zips_point_merged.mbtiles \\\n",
    "/Users/mhustiles/data/github/notebooks/california-fuel-vehicles/output/ca_zips_point_merged.geojson"
   ]
  },
  {
   "cell_type": "markdown",
   "metadata": {},
   "source": [
    "### Convert Tesla polygons to mbtiles for Mapbox. Export."
   ]
  },
  {
   "cell_type": "code",
   "execution_count": 106,
   "metadata": {},
   "outputs": [
    {
     "name": "stdout",
     "output_type": "stream",
     "text": [
      "For layer 0, using name \"teslas_poly_merged\"\r\n",
      "/Users/mhustiles/data/github/notebooks/california-fuel-vehicles/output/teslas_poly_merged.geojson: No such file or directory\r\n",
      "                              \r",
      "0 features, 10 bytes of geometry, 16 bytes of separate metadata, 0 bytes of string pool\r\n",
      "Did not read any valid geometries\r\n"
     ]
    }
   ],
   "source": [
    "!tippecanoe --force -r1 -pk -pf -Z5 -z13 -o \\\n",
    "/Users/mhustiles/data/github/notebooks/california-fuel-vehicles/output/teslas_poly_merged.mbtiles \\\n",
    "/Users/mhustiles/data/github/notebooks/california-fuel-vehicles/output/teslas_poly_merged.geojson"
   ]
  },
  {
   "cell_type": "markdown",
   "metadata": {},
   "source": [
    "---"
   ]
  },
  {
   "cell_type": "markdown",
   "metadata": {},
   "source": [
    "See related [Twitter thread](https://twitter.com/stiles/status/1193416749116358656)"
   ]
  }
 ],
 "metadata": {
  "kernelspec": {
   "display_name": "Python 3",
   "language": "python",
   "name": "python3"
  },
  "language_info": {
   "codemirror_mode": {
    "name": "ipython",
    "version": 3
   },
   "file_extension": ".py",
   "mimetype": "text/x-python",
   "name": "python",
   "nbconvert_exporter": "python",
   "pygments_lexer": "ipython3",
   "version": "3.7.3"
  }
 },
 "nbformat": 4,
 "nbformat_minor": 2
}
