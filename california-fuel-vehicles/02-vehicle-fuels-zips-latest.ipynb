{
 "cells": [
  {
   "cell_type": "markdown",
   "metadata": {},
   "source": [
    "# How many zero and low emissions vehicles are registered in California?"
   ]
  },
  {
   "cell_type": "markdown",
   "metadata": {},
   "source": [
    "### Load Python tools"
   ]
  },
  {
   "cell_type": "code",
   "execution_count": 1,
   "metadata": {},
   "outputs": [],
   "source": [
    "import pandas as pd\n",
    "import geopandas as gpd\n",
    "import matplotlib\n",
    "import matplotlib.pyplot as plt\n",
    "import geojson\n",
    "import json\n",
    "import jenkspy\n",
    "import numpy as np\n",
    "from pywaffle import Waffle\n",
    "from altair import datum\n",
    "import altair as alt\n",
    "import altair_latimes as lat\n",
    "alt.themes.register('latimes', lat.theme)\n",
    "alt.themes.enable('latimes')\n",
    "pd.options.display.float_format = '{:,.2f}'.format\n",
    "alt.data_transformers.disable_max_rows()\n",
    "pd.set_option('display.max_columns', None)\n",
    "pd.set_option('display.max_rows', None)"
   ]
  },
  {
   "cell_type": "code",
   "execution_count": 2,
   "metadata": {},
   "outputs": [],
   "source": [
    "# CARB looks for ways to meet our 5 million zero-emission vehicle target by 2030, the conversion of public and private fleets to zero emission cars and trucks offers an important opportunity to get a large number of carbon-polluting fleet vehicles off the road.\n",
    "# https://ww2.arb.ca.gov/sites/default/files/2018-12/zero_emission_fleet_letter_080118.pdf"
   ]
  },
  {
   "cell_type": "markdown",
   "metadata": {},
   "source": [
    "### Read data from California Department of Motor Vehicles - current as of October 2018"
   ]
  },
  {
   "cell_type": "code",
   "execution_count": 3,
   "metadata": {},
   "outputs": [],
   "source": [
    "# https://data.ca.gov/dataset/vehicle-fuel-type-count-by-zip-code"
   ]
  },
  {
   "cell_type": "code",
   "execution_count": 4,
   "metadata": {},
   "outputs": [],
   "source": [
    "src = pd.read_csv('https://data.ca.gov/dataset/15179472-adeb-4df6-920a-20640d02b08c/resource/4254a06d-9937-4083-9441-65597dd267e8/download/vehicle-count-as-of-1-1-2020.csv', low_memory=False)"
   ]
  },
  {
   "cell_type": "code",
   "execution_count": 5,
   "metadata": {},
   "outputs": [],
   "source": [
    "df = src.copy()"
   ]
  },
  {
   "cell_type": "markdown",
   "metadata": {},
   "source": [
    "### Clean up field names"
   ]
  },
  {
   "cell_type": "code",
   "execution_count": 6,
   "metadata": {},
   "outputs": [],
   "source": [
    "df.columns = df.columns.str.strip().str.lower().str.replace(' ', '_')\\\n",
    "                    .str.replace('(', '').str.replace(')', '').str.replace('-','_')"
   ]
  },
  {
   "cell_type": "code",
   "execution_count": 7,
   "metadata": {},
   "outputs": [],
   "source": [
    "df.rename(columns={\"zip_code\": \"zip\"}, inplace=True)"
   ]
  },
  {
   "cell_type": "markdown",
   "metadata": {},
   "source": [
    "### How many vehicles are we talking about? "
   ]
  },
  {
   "cell_type": "code",
   "execution_count": 8,
   "metadata": {},
   "outputs": [
    {
     "data": {
      "text/plain": [
       "'31,233,841'"
      ]
     },
     "execution_count": 8,
     "metadata": {},
     "output_type": "execute_result"
    }
   ],
   "source": [
    "'{:,.0f}'.format(df.vehicles.sum())"
   ]
  },
  {
   "cell_type": "code",
   "execution_count": 9,
   "metadata": {},
   "outputs": [
    {
     "data": {
      "text/plain": [
       "Index(['date', 'zip', 'model_year', 'fuel', 'make', 'duty', 'vehicles'], dtype='object')"
      ]
     },
     "execution_count": 9,
     "metadata": {},
     "output_type": "execute_result"
    }
   ],
   "source": [
    "df.columns"
   ]
  },
  {
   "cell_type": "markdown",
   "metadata": {},
   "source": [
    "### Remove unknown, out of state and heavy duty models."
   ]
  },
  {
   "cell_type": "code",
   "execution_count": 10,
   "metadata": {},
   "outputs": [],
   "source": [
    "vehicles = pd.DataFrame(df[(df['duty'] != 'Heavy') & \\\n",
    "                          (df['model_year'] != '<2007') &\\\n",
    "                          (df['zip'] != 'OOS')])"
   ]
  },
  {
   "cell_type": "markdown",
   "metadata": {},
   "source": [
    "### What's left?"
   ]
  },
  {
   "cell_type": "code",
   "execution_count": 11,
   "metadata": {},
   "outputs": [
    {
     "data": {
      "text/plain": [
       "'19,132,886'"
      ]
     },
     "execution_count": 11,
     "metadata": {},
     "output_type": "execute_result"
    }
   ],
   "source": [
    "'{:,.0f}'.format(vehicles.vehicles.sum())"
   ]
  },
  {
   "cell_type": "markdown",
   "metadata": {},
   "source": [
    "### How many don't rely solely on gasoline?"
   ]
  },
  {
   "cell_type": "code",
   "execution_count": 12,
   "metadata": {},
   "outputs": [],
   "source": [
    "nogas = vehicles[(vehicles['fuel'] != 'Gasoline')]"
   ]
  },
  {
   "cell_type": "code",
   "execution_count": 13,
   "metadata": {},
   "outputs": [
    {
     "data": {
      "text/plain": [
       "'2,824,578'"
      ]
     },
     "execution_count": 13,
     "metadata": {},
     "output_type": "execute_result"
    }
   ],
   "source": [
    "'{:,.0f}'.format(nogas.vehicles.sum())"
   ]
  },
  {
   "cell_type": "markdown",
   "metadata": {},
   "source": [
    "### Filter the data frame for fuel zero-emissions fuel types"
   ]
  },
  {
   "cell_type": "code",
   "execution_count": 14,
   "metadata": {},
   "outputs": [],
   "source": [
    "cvrp_now = vehicles[(vehicles['fuel'] == 'Battery Electric') |\\\n",
    "               (vehicles['fuel'] == 'Hydrogen Fuel Cell') |\\\n",
    "                   (vehicles['fuel'] == 'Plug-in Hybrid')]"
   ]
  },
  {
   "cell_type": "code",
   "execution_count": 15,
   "metadata": {},
   "outputs": [],
   "source": [
    "cvrp = vehicles[(vehicles['fuel'] == 'Battery Electric') |\\\n",
    "               (vehicles['fuel'] == 'Hydrogen Fuel Cell')]"
   ]
  },
  {
   "cell_type": "markdown",
   "metadata": {},
   "source": [
    "### How many are zero emissions under 2035 standard?"
   ]
  },
  {
   "cell_type": "code",
   "execution_count": 16,
   "metadata": {},
   "outputs": [
    {
     "data": {
      "text/plain": [
       "'308,182'"
      ]
     },
     "execution_count": 16,
     "metadata": {},
     "output_type": "execute_result"
    }
   ],
   "source": [
    "'{:,.0f}'.format(cvrp.vehicles.sum())"
   ]
  },
  {
   "cell_type": "code",
   "execution_count": 17,
   "metadata": {},
   "outputs": [
    {
     "data": {
      "text/plain": [
       "'554,403'"
      ]
     },
     "execution_count": 17,
     "metadata": {},
     "output_type": "execute_result"
    }
   ],
   "source": [
    "'{:,.0f}'.format(cvrp_now.vehicles.sum())"
   ]
  },
  {
   "cell_type": "markdown",
   "metadata": {},
   "source": [
    "### Share of newer CA vehicles that don't rely solely on gas?"
   ]
  },
  {
   "cell_type": "code",
   "execution_count": 18,
   "metadata": {},
   "outputs": [
    {
     "data": {
      "text/plain": [
       "'14.8%'"
      ]
     },
     "execution_count": 18,
     "metadata": {},
     "output_type": "execute_result"
    }
   ],
   "source": [
    "'{:,.1f}%'.format((nogas.vehicles.sum() / vehicles.vehicles.sum())*100)"
   ]
  },
  {
   "cell_type": "markdown",
   "metadata": {},
   "source": [
    "### Share of CA vehicles that are zero emissions?"
   ]
  },
  {
   "cell_type": "code",
   "execution_count": 19,
   "metadata": {},
   "outputs": [
    {
     "data": {
      "text/plain": [
       "'1.6%'"
      ]
     },
     "execution_count": 19,
     "metadata": {},
     "output_type": "execute_result"
    }
   ],
   "source": [
    "'{:,.1f}%'.format((cvrp.vehicles.sum() / vehicles.vehicles.sum())*100)"
   ]
  },
  {
   "cell_type": "code",
   "execution_count": 20,
   "metadata": {},
   "outputs": [
    {
     "data": {
      "text/plain": [
       "'2.9%'"
      ]
     },
     "execution_count": 20,
     "metadata": {},
     "output_type": "execute_result"
    }
   ],
   "source": [
    "'{:,.1f}%'.format((cvrp_now.vehicles.sum() / vehicles.vehicles.sum())*100)"
   ]
  },
  {
   "cell_type": "markdown",
   "metadata": {},
   "source": [
    "---"
   ]
  },
  {
   "cell_type": "markdown",
   "metadata": {},
   "source": [
    "### ZIP code points"
   ]
  },
  {
   "cell_type": "code",
   "execution_count": 21,
   "metadata": {},
   "outputs": [],
   "source": [
    "zips_point = gpd.read_file('/Users/mhustiles/data/data/GIS/zipcodes.geojson')"
   ]
  },
  {
   "cell_type": "code",
   "execution_count": 22,
   "metadata": {},
   "outputs": [],
   "source": [
    "zips_point['zip'] = zips_point['zip'].astype(str)"
   ]
  },
  {
   "cell_type": "code",
   "execution_count": 23,
   "metadata": {},
   "outputs": [],
   "source": [
    "ca_zips_point = zips_point[zips_point['state'] == 'CA']"
   ]
  },
  {
   "cell_type": "markdown",
   "metadata": {},
   "source": [
    "### ZIP code boundaries"
   ]
  },
  {
   "cell_type": "code",
   "execution_count": 24,
   "metadata": {},
   "outputs": [],
   "source": [
    "# Filtered CA from this national file maintained by Esri: \n",
    "# https://services.arcgis.com/P3ePLMYs2RVChkJx/arcgis/rest/services/USA_ZIP_Code_Areas_anaylsis/FeatureServer/0/\n",
    "zips_poly_pop = gpd.read_file('/Users/mhustiles/data/data/GIS/ca-zip-codes-esri.geojson')\n",
    "zips_poly = gpd.read_file('/Users/mhustiles/data/data/GIS/ca-zip-codes-esri-demographics.geojson')"
   ]
  },
  {
   "cell_type": "code",
   "execution_count": 25,
   "metadata": {},
   "outputs": [],
   "source": [
    "zips_poly.columns = zips_poly.columns.str.strip().str.lower().str.replace(' ', '_')\\\n",
    "                    .str.replace('(', '').str.replace(')', '').str.replace('-','_')"
   ]
  },
  {
   "cell_type": "code",
   "execution_count": 26,
   "metadata": {},
   "outputs": [],
   "source": [
    "zips_poly.dropna(inplace=True)"
   ]
  },
  {
   "cell_type": "code",
   "execution_count": 27,
   "metadata": {},
   "outputs": [],
   "source": [
    "zips_poly.rename(columns={\"zip_code\": \"zip\"}, inplace=True)"
   ]
  },
  {
   "cell_type": "code",
   "execution_count": 28,
   "metadata": {},
   "outputs": [
    {
     "data": {
      "text/html": [
       "<div>\n",
       "<style scoped>\n",
       "    .dataframe tbody tr th:only-of-type {\n",
       "        vertical-align: middle;\n",
       "    }\n",
       "\n",
       "    .dataframe tbody tr th {\n",
       "        vertical-align: top;\n",
       "    }\n",
       "\n",
       "    .dataframe thead th {\n",
       "        text-align: right;\n",
       "    }\n",
       "</style>\n",
       "<table border=\"1\" class=\"dataframe\">\n",
       "  <thead>\n",
       "    <tr style=\"text-align: right;\">\n",
       "      <th></th>\n",
       "      <th>objectid</th>\n",
       "      <th>zip</th>\n",
       "      <th>po_name</th>\n",
       "      <th>pop2012</th>\n",
       "      <th>white</th>\n",
       "      <th>black</th>\n",
       "      <th>ameri_es</th>\n",
       "      <th>asian</th>\n",
       "      <th>hawn_pi</th>\n",
       "      <th>hispanic</th>\n",
       "      <th>other</th>\n",
       "      <th>mult_race</th>\n",
       "      <th>med_age</th>\n",
       "      <th>ave_hh_sz</th>\n",
       "      <th>marhh_chd</th>\n",
       "      <th>families</th>\n",
       "      <th>ave_fam_sz</th>\n",
       "      <th>hse_units</th>\n",
       "      <th>sqmi</th>\n",
       "      <th>geometry</th>\n",
       "    </tr>\n",
       "  </thead>\n",
       "  <tbody>\n",
       "    <tr>\n",
       "      <th>0</th>\n",
       "      <td>4800</td>\n",
       "      <td>94002</td>\n",
       "      <td>Belmont</td>\n",
       "      <td>26832</td>\n",
       "      <td>19634</td>\n",
       "      <td>477</td>\n",
       "      <td>84</td>\n",
       "      <td>5762</td>\n",
       "      <td>221</td>\n",
       "      <td>3517</td>\n",
       "      <td>1170</td>\n",
       "      <td>1744</td>\n",
       "      <td>41.00</td>\n",
       "      <td>2.42</td>\n",
       "      <td>2925</td>\n",
       "      <td>7671</td>\n",
       "      <td>2.98</td>\n",
       "      <td>12304</td>\n",
       "      <td>5.90</td>\n",
       "      <td>POLYGON ((-122.27703 37.53436, -122.27687 37.5...</td>\n",
       "    </tr>\n",
       "  </tbody>\n",
       "</table>\n",
       "</div>"
      ],
      "text/plain": [
       "   objectid    zip  po_name  pop2012  white  black  ameri_es  asian  hawn_pi  \\\n",
       "0      4800  94002  Belmont    26832  19634    477        84   5762      221   \n",
       "\n",
       "   hispanic  other  mult_race  med_age  ave_hh_sz  marhh_chd  families  \\\n",
       "0      3517   1170       1744    41.00       2.42       2925      7671   \n",
       "\n",
       "   ave_fam_sz  hse_units  sqmi  \\\n",
       "0        2.98      12304  5.90   \n",
       "\n",
       "                                            geometry  \n",
       "0  POLYGON ((-122.27703 37.53436, -122.27687 37.5...  "
      ]
     },
     "execution_count": 28,
     "metadata": {},
     "output_type": "execute_result"
    }
   ],
   "source": [
    "zips_poly.head(1)"
   ]
  },
  {
   "cell_type": "markdown",
   "metadata": {},
   "source": [
    "---"
   ]
  },
  {
   "cell_type": "markdown",
   "metadata": {},
   "source": [
    "### Zip Codes with economic demographics by Esri"
   ]
  },
  {
   "cell_type": "code",
   "execution_count": 29,
   "metadata": {},
   "outputs": [],
   "source": [
    "#https://services.arcgis.com/P3ePLMYs2RVChkJx/arcgis/rest/services/WealthiestZipCodes2017/FeatureServer/0/\n",
    "zips_wealth = gpd.read_file('/Users/mhustiles/data/github/AGStoShapefile/\\\n",
    "backupdir/WealthiestZipCodes2017/WealthiestZipCodesCA.geojson')"
   ]
  },
  {
   "cell_type": "code",
   "execution_count": 30,
   "metadata": {},
   "outputs": [
    {
     "data": {
      "text/html": [
       "<div>\n",
       "<style scoped>\n",
       "    .dataframe tbody tr th:only-of-type {\n",
       "        vertical-align: middle;\n",
       "    }\n",
       "\n",
       "    .dataframe tbody tr th {\n",
       "        vertical-align: top;\n",
       "    }\n",
       "\n",
       "    .dataframe thead th {\n",
       "        text-align: right;\n",
       "    }\n",
       "</style>\n",
       "<table border=\"1\" class=\"dataframe\">\n",
       "  <thead>\n",
       "    <tr style=\"text-align: right;\">\n",
       "      <th></th>\n",
       "      <th>OBJECTID</th>\n",
       "      <th>ID</th>\n",
       "      <th>NAME</th>\n",
       "      <th>ST_ABBREV</th>\n",
       "      <th>HAI_CY</th>\n",
       "      <th>INCMORT_CY</th>\n",
       "      <th>WLTHRNK_CY</th>\n",
       "      <th>DOMSTATE</th>\n",
       "      <th>DOMCOUNTY</th>\n",
       "      <th>COUNTY_NAME</th>\n",
       "      <th>DOMCBSA</th>\n",
       "      <th>CBSA_NAME</th>\n",
       "      <th>TOTPOP_CY</th>\n",
       "      <th>TOTHH_CY</th>\n",
       "      <th>MEDAGE_CY</th>\n",
       "      <th>AVGHINC_CY</th>\n",
       "      <th>AVGVAL_CY</th>\n",
       "      <th>AVGNW_CY</th>\n",
       "      <th>Shape__Area</th>\n",
       "      <th>Shape__Length</th>\n",
       "      <th>geometry</th>\n",
       "    </tr>\n",
       "  </thead>\n",
       "  <tbody>\n",
       "    <tr>\n",
       "      <th>0</th>\n",
       "      <td>29014</td>\n",
       "      <td>90001</td>\n",
       "      <td>Los Angeles</td>\n",
       "      <td>CA</td>\n",
       "      <td>55</td>\n",
       "      <td>44.10</td>\n",
       "      <td>27,675.00</td>\n",
       "      <td>06</td>\n",
       "      <td>06037</td>\n",
       "      <td>Los Angeles County</td>\n",
       "      <td>31080</td>\n",
       "      <td>Los Angeles-Long Beach-Anaheim, CA Metropolita...</td>\n",
       "      <td>59907</td>\n",
       "      <td>13454</td>\n",
       "      <td>27.10</td>\n",
       "      <td>46931</td>\n",
       "      <td>377591</td>\n",
       "      <td>82915</td>\n",
       "      <td>12,747,932.74</td>\n",
       "      <td>17,936.35</td>\n",
       "      <td>POLYGON ((-118.24754 33.98908, -118.24776 33.9...</td>\n",
       "    </tr>\n",
       "  </tbody>\n",
       "</table>\n",
       "</div>"
      ],
      "text/plain": [
       "   OBJECTID     ID         NAME ST_ABBREV  HAI_CY  INCMORT_CY  WLTHRNK_CY  \\\n",
       "0     29014  90001  Los Angeles        CA      55       44.10   27,675.00   \n",
       "\n",
       "  DOMSTATE DOMCOUNTY         COUNTY_NAME DOMCBSA  \\\n",
       "0       06     06037  Los Angeles County   31080   \n",
       "\n",
       "                                           CBSA_NAME  TOTPOP_CY  TOTHH_CY  \\\n",
       "0  Los Angeles-Long Beach-Anaheim, CA Metropolita...      59907     13454   \n",
       "\n",
       "   MEDAGE_CY  AVGHINC_CY  AVGVAL_CY  AVGNW_CY   Shape__Area  Shape__Length  \\\n",
       "0      27.10       46931     377591     82915 12,747,932.74      17,936.35   \n",
       "\n",
       "                                            geometry  \n",
       "0  POLYGON ((-118.24754 33.98908, -118.24776 33.9...  "
      ]
     },
     "execution_count": 30,
     "metadata": {},
     "output_type": "execute_result"
    }
   ],
   "source": [
    "zips_wealth.head(1)"
   ]
  },
  {
   "cell_type": "code",
   "execution_count": 31,
   "metadata": {},
   "outputs": [],
   "source": [
    "zips_wealth_slim = zips_wealth[['ID','NAME', 'AVGHINC_CY', 'AVGNW_CY', 'TOTPOP_CY', 'geometry']]"
   ]
  },
  {
   "cell_type": "code",
   "execution_count": 32,
   "metadata": {},
   "outputs": [],
   "source": [
    "zips_esri = zips_wealth_slim.rename(columns={\"ID\": \"zip\",\n",
    "                                                    'NAME':'name',\n",
    "                                 'AVGHINC_CY':'avg_house_income',\n",
    "                                 'AVGNW_CY':'avg_net_worth',\n",
    "                                 'TOTPOP_CY':'population', })"
   ]
  },
  {
   "cell_type": "code",
   "execution_count": 33,
   "metadata": {},
   "outputs": [
    {
     "data": {
      "text/html": [
       "<div>\n",
       "<style scoped>\n",
       "    .dataframe tbody tr th:only-of-type {\n",
       "        vertical-align: middle;\n",
       "    }\n",
       "\n",
       "    .dataframe tbody tr th {\n",
       "        vertical-align: top;\n",
       "    }\n",
       "\n",
       "    .dataframe thead th {\n",
       "        text-align: right;\n",
       "    }\n",
       "</style>\n",
       "<table border=\"1\" class=\"dataframe\">\n",
       "  <thead>\n",
       "    <tr style=\"text-align: right;\">\n",
       "      <th></th>\n",
       "      <th>zip</th>\n",
       "      <th>name</th>\n",
       "      <th>avg_house_income</th>\n",
       "      <th>avg_net_worth</th>\n",
       "      <th>population</th>\n",
       "      <th>geometry</th>\n",
       "    </tr>\n",
       "  </thead>\n",
       "  <tbody>\n",
       "    <tr>\n",
       "      <th>0</th>\n",
       "      <td>90001</td>\n",
       "      <td>Los Angeles</td>\n",
       "      <td>46931</td>\n",
       "      <td>82915</td>\n",
       "      <td>59907</td>\n",
       "      <td>POLYGON ((-118.24754 33.98908, -118.24776 33.9...</td>\n",
       "    </tr>\n",
       "    <tr>\n",
       "      <th>1</th>\n",
       "      <td>90002</td>\n",
       "      <td>Los Angeles</td>\n",
       "      <td>46332</td>\n",
       "      <td>96786</td>\n",
       "      <td>53573</td>\n",
       "      <td>POLYGON ((-118.24745 33.96015, -118.25169 33.9...</td>\n",
       "    </tr>\n",
       "    <tr>\n",
       "      <th>2</th>\n",
       "      <td>90003</td>\n",
       "      <td>Los Angeles</td>\n",
       "      <td>43020</td>\n",
       "      <td>66091</td>\n",
       "      <td>71967</td>\n",
       "      <td>MULTIPOLYGON (((-118.28268 33.98926, -118.2826...</td>\n",
       "    </tr>\n",
       "    <tr>\n",
       "      <th>3</th>\n",
       "      <td>90004</td>\n",
       "      <td>Los Angeles</td>\n",
       "      <td>65893</td>\n",
       "      <td>232653</td>\n",
       "      <td>63987</td>\n",
       "      <td>MULTIPOLYGON (((-118.33852 34.06891, -118.3371...</td>\n",
       "    </tr>\n",
       "    <tr>\n",
       "      <th>4</th>\n",
       "      <td>90005</td>\n",
       "      <td>Los Angeles</td>\n",
       "      <td>53191</td>\n",
       "      <td>105569</td>\n",
       "      <td>41844</td>\n",
       "      <td>POLYGON ((-118.31879 34.05514, -118.31861 34.0...</td>\n",
       "    </tr>\n",
       "  </tbody>\n",
       "</table>\n",
       "</div>"
      ],
      "text/plain": [
       "     zip         name  avg_house_income  avg_net_worth  population  \\\n",
       "0  90001  Los Angeles             46931          82915       59907   \n",
       "1  90002  Los Angeles             46332          96786       53573   \n",
       "2  90003  Los Angeles             43020          66091       71967   \n",
       "3  90004  Los Angeles             65893         232653       63987   \n",
       "4  90005  Los Angeles             53191         105569       41844   \n",
       "\n",
       "                                            geometry  \n",
       "0  POLYGON ((-118.24754 33.98908, -118.24776 33.9...  \n",
       "1  POLYGON ((-118.24745 33.96015, -118.25169 33.9...  \n",
       "2  MULTIPOLYGON (((-118.28268 33.98926, -118.2826...  \n",
       "3  MULTIPOLYGON (((-118.33852 34.06891, -118.3371...  \n",
       "4  POLYGON ((-118.31879 34.05514, -118.31861 34.0...  "
      ]
     },
     "execution_count": 33,
     "metadata": {},
     "output_type": "execute_result"
    }
   ],
   "source": [
    "zips_esri.head()"
   ]
  },
  {
   "cell_type": "code",
   "execution_count": 34,
   "metadata": {},
   "outputs": [
    {
     "data": {
      "text/plain": [
       "<AxesSubplot:>"
      ]
     },
     "execution_count": 34,
     "metadata": {},
     "output_type": "execute_result"
    },
    {
     "data": {
      "image/png": "[encoded data removed]",
      "text/plain": [
       "<Figure size 432x288 with 1 Axes>"
      ]
     },
     "metadata": {
      "needs_background": "light"
     },
     "output_type": "display_data"
    }
   ],
   "source": [
    "zips_esri.plot()"
   ]
  },
  {
   "cell_type": "markdown",
   "metadata": {},
   "source": [
    "---"
   ]
  },
  {
   "cell_type": "markdown",
   "metadata": {},
   "source": [
    "### Group the vehicles and count them by the registration ZIP Codes"
   ]
  },
  {
   "cell_type": "code",
   "execution_count": 35,
   "metadata": {},
   "outputs": [],
   "source": [
    "zipcodes = vehicles.groupby(['zip']).agg({'vehicles':'sum'}).reset_index()"
   ]
  },
  {
   "cell_type": "code",
   "execution_count": 36,
   "metadata": {},
   "outputs": [],
   "source": [
    "zipcodes.sort_values(by='vehicles', ascending=False).head(10)\n",
    "zipcodes['zip'] = zipcodes['zip'].astype(str)"
   ]
  },
  {
   "cell_type": "markdown",
   "metadata": {},
   "source": [
    "### Merge the registration zip codes and merge with Esri ZIP Codes polygons"
   ]
  },
  {
   "cell_type": "code",
   "execution_count": 37,
   "metadata": {},
   "outputs": [],
   "source": [
    "zips = pd.merge(zips_esri, zipcodes, left_on='zip', right_on='zip')"
   ]
  },
  {
   "cell_type": "code",
   "execution_count": 38,
   "metadata": {},
   "outputs": [
    {
     "data": {
      "text/html": [
       "<div>\n",
       "<style scoped>\n",
       "    .dataframe tbody tr th:only-of-type {\n",
       "        vertical-align: middle;\n",
       "    }\n",
       "\n",
       "    .dataframe tbody tr th {\n",
       "        vertical-align: top;\n",
       "    }\n",
       "\n",
       "    .dataframe thead th {\n",
       "        text-align: right;\n",
       "    }\n",
       "</style>\n",
       "<table border=\"1\" class=\"dataframe\">\n",
       "  <thead>\n",
       "    <tr style=\"text-align: right;\">\n",
       "      <th></th>\n",
       "      <th>zip</th>\n",
       "      <th>name</th>\n",
       "      <th>avg_house_income</th>\n",
       "      <th>avg_net_worth</th>\n",
       "      <th>population</th>\n",
       "      <th>geometry</th>\n",
       "      <th>vehicles</th>\n",
       "    </tr>\n",
       "  </thead>\n",
       "  <tbody>\n",
       "    <tr>\n",
       "      <th>0</th>\n",
       "      <td>90001</td>\n",
       "      <td>Los Angeles</td>\n",
       "      <td>46931</td>\n",
       "      <td>82915</td>\n",
       "      <td>59907</td>\n",
       "      <td>POLYGON ((-118.24754 33.98908, -118.24776 33.9...</td>\n",
       "      <td>17374</td>\n",
       "    </tr>\n",
       "    <tr>\n",
       "      <th>1</th>\n",
       "      <td>90002</td>\n",
       "      <td>Los Angeles</td>\n",
       "      <td>46332</td>\n",
       "      <td>96786</td>\n",
       "      <td>53573</td>\n",
       "      <td>POLYGON ((-118.24745 33.96015, -118.25169 33.9...</td>\n",
       "      <td>15951</td>\n",
       "    </tr>\n",
       "    <tr>\n",
       "      <th>2</th>\n",
       "      <td>90003</td>\n",
       "      <td>Los Angeles</td>\n",
       "      <td>43020</td>\n",
       "      <td>66091</td>\n",
       "      <td>71967</td>\n",
       "      <td>MULTIPOLYGON (((-118.28268 33.98926, -118.2826...</td>\n",
       "      <td>20918</td>\n",
       "    </tr>\n",
       "    <tr>\n",
       "      <th>3</th>\n",
       "      <td>90004</td>\n",
       "      <td>Los Angeles</td>\n",
       "      <td>65893</td>\n",
       "      <td>232653</td>\n",
       "      <td>63987</td>\n",
       "      <td>MULTIPOLYGON (((-118.33852 34.06891, -118.3371...</td>\n",
       "      <td>22597</td>\n",
       "    </tr>\n",
       "    <tr>\n",
       "      <th>4</th>\n",
       "      <td>90005</td>\n",
       "      <td>Los Angeles</td>\n",
       "      <td>53191</td>\n",
       "      <td>105569</td>\n",
       "      <td>41844</td>\n",
       "      <td>POLYGON ((-118.31879 34.05514, -118.31861 34.0...</td>\n",
       "      <td>12410</td>\n",
       "    </tr>\n",
       "  </tbody>\n",
       "</table>\n",
       "</div>"
      ],
      "text/plain": [
       "     zip         name  avg_house_income  avg_net_worth  population  \\\n",
       "0  90001  Los Angeles             46931          82915       59907   \n",
       "1  90002  Los Angeles             46332          96786       53573   \n",
       "2  90003  Los Angeles             43020          66091       71967   \n",
       "3  90004  Los Angeles             65893         232653       63987   \n",
       "4  90005  Los Angeles             53191         105569       41844   \n",
       "\n",
       "                                            geometry  vehicles  \n",
       "0  POLYGON ((-118.24754 33.98908, -118.24776 33.9...     17374  \n",
       "1  POLYGON ((-118.24745 33.96015, -118.25169 33.9...     15951  \n",
       "2  MULTIPOLYGON (((-118.28268 33.98926, -118.2826...     20918  \n",
       "3  MULTIPOLYGON (((-118.33852 34.06891, -118.3371...     22597  \n",
       "4  POLYGON ((-118.31879 34.05514, -118.31861 34.0...     12410  "
      ]
     },
     "execution_count": 38,
     "metadata": {},
     "output_type": "execute_result"
    }
   ],
   "source": [
    "zips.head()"
   ]
  },
  {
   "cell_type": "markdown",
   "metadata": {},
   "source": [
    "---"
   ]
  },
  {
   "cell_type": "markdown",
   "metadata": {},
   "source": [
    "### Group by make. Which are most common? "
   ]
  },
  {
   "cell_type": "code",
   "execution_count": 39,
   "metadata": {},
   "outputs": [],
   "source": [
    "# About 2.5 are listed as OTHER/UNK\n",
    "make = vehicles[vehicles['make'] != 'OTHER/UNK'].groupby(['make', 'zip']).agg('sum').reset_index()"
   ]
  },
  {
   "cell_type": "code",
   "execution_count": 40,
   "metadata": {},
   "outputs": [],
   "source": [
    "most_make = make.groupby(['make']).agg('sum').reset_index().sort_values(by='vehicles', ascending=False)"
   ]
  },
  {
   "cell_type": "code",
   "execution_count": 41,
   "metadata": {},
   "outputs": [
    {
     "data": {
      "text/html": [
       "<div>\n",
       "<style scoped>\n",
       "    .dataframe tbody tr th:only-of-type {\n",
       "        vertical-align: middle;\n",
       "    }\n",
       "\n",
       "    .dataframe tbody tr th {\n",
       "        vertical-align: top;\n",
       "    }\n",
       "\n",
       "    .dataframe thead th {\n",
       "        text-align: right;\n",
       "    }\n",
       "</style>\n",
       "<table border=\"1\" class=\"dataframe\">\n",
       "  <thead>\n",
       "    <tr style=\"text-align: right;\">\n",
       "      <th></th>\n",
       "      <th>make</th>\n",
       "      <th>vehicles</th>\n",
       "    </tr>\n",
       "  </thead>\n",
       "  <tbody>\n",
       "    <tr>\n",
       "      <th>46</th>\n",
       "      <td>TOYOTA</td>\n",
       "      <td>3456367</td>\n",
       "    </tr>\n",
       "    <tr>\n",
       "      <th>18</th>\n",
       "      <td>HONDA</td>\n",
       "      <td>2378676</td>\n",
       "    </tr>\n",
       "    <tr>\n",
       "      <th>14</th>\n",
       "      <td>FORD</td>\n",
       "      <td>1559171</td>\n",
       "    </tr>\n",
       "    <tr>\n",
       "      <th>35</th>\n",
       "      <td>NISSAN</td>\n",
       "      <td>1305700</td>\n",
       "    </tr>\n",
       "    <tr>\n",
       "      <th>9</th>\n",
       "      <td>CHEVROLET</td>\n",
       "      <td>1253237</td>\n",
       "    </tr>\n",
       "  </tbody>\n",
       "</table>\n",
       "</div>"
      ],
      "text/plain": [
       "         make  vehicles\n",
       "46     TOYOTA   3456367\n",
       "18      HONDA   2378676\n",
       "14       FORD   1559171\n",
       "35     NISSAN   1305700\n",
       "9   CHEVROLET   1253237"
      ]
     },
     "execution_count": 41,
     "metadata": {},
     "output_type": "execute_result"
    }
   ],
   "source": [
    "most_make.head()"
   ]
  },
  {
   "cell_type": "code",
   "execution_count": 42,
   "metadata": {},
   "outputs": [],
   "source": [
    "makelist = most_make.make.to_list()"
   ]
  },
  {
   "cell_type": "code",
   "execution_count": 43,
   "metadata": {},
   "outputs": [],
   "source": [
    "popular_makes = make[make['make'].isin(makelist)]"
   ]
  },
  {
   "cell_type": "code",
   "execution_count": 44,
   "metadata": {},
   "outputs": [],
   "source": [
    "make_zip = pd.DataFrame(pd.pivot_table(popular_makes, values='vehicles', \\\n",
    "                            index=['zip'], columns=['make'], aggfunc=np.sum, fill_value=0).reset_index())"
   ]
  },
  {
   "cell_type": "code",
   "execution_count": 45,
   "metadata": {},
   "outputs": [],
   "source": [
    "make_zip.columns = make_zip.columns.str.strip().str.lower().str.replace(' ', '_')\\\n",
    "                    .str.replace('(', '').str.replace(')', '').str.replace('-','_')"
   ]
  },
  {
   "cell_type": "markdown",
   "metadata": {},
   "source": [
    "### Which make is most common in each ZIP code? "
   ]
  },
  {
   "cell_type": "code",
   "execution_count": 46,
   "metadata": {},
   "outputs": [],
   "source": [
    "make_zip[\"total\"] = make_zip.sum(axis=1)"
   ]
  },
  {
   "cell_type": "code",
   "execution_count": 47,
   "metadata": {},
   "outputs": [
    {
     "data": {
      "text/html": [
       "<div>\n",
       "<style scoped>\n",
       "    .dataframe tbody tr th:only-of-type {\n",
       "        vertical-align: middle;\n",
       "    }\n",
       "\n",
       "    .dataframe tbody tr th {\n",
       "        vertical-align: top;\n",
       "    }\n",
       "\n",
       "    .dataframe thead th {\n",
       "        text-align: right;\n",
       "    }\n",
       "</style>\n",
       "<table border=\"1\" class=\"dataframe\">\n",
       "  <thead>\n",
       "    <tr style=\"text-align: right;\">\n",
       "      <th>make</th>\n",
       "      <th>zip</th>\n",
       "      <th>acura</th>\n",
       "      <th>alfa_romeo</th>\n",
       "      <th>am_general</th>\n",
       "      <th>aston_martin</th>\n",
       "      <th>audi</th>\n",
       "      <th>bentley</th>\n",
       "      <th>bmw</th>\n",
       "      <th>buick</th>\n",
       "      <th>cadillac</th>\n",
       "      <th>chevrolet</th>\n",
       "      <th>chrysler</th>\n",
       "      <th>dodge</th>\n",
       "      <th>ferrari</th>\n",
       "      <th>fiat</th>\n",
       "      <th>ford</th>\n",
       "      <th>freightliner</th>\n",
       "      <th>genesis</th>\n",
       "      <th>gmc</th>\n",
       "      <th>honda</th>\n",
       "      <th>hummer</th>\n",
       "      <th>hyundai</th>\n",
       "      <th>infiniti</th>\n",
       "      <th>jaguar</th>\n",
       "      <th>jeep</th>\n",
       "      <th>kia</th>\n",
       "      <th>lamborghini</th>\n",
       "      <th>land_rover</th>\n",
       "      <th>lexus</th>\n",
       "      <th>lincoln</th>\n",
       "      <th>maserati</th>\n",
       "      <th>mazda</th>\n",
       "      <th>mercedes_benz</th>\n",
       "      <th>mercury</th>\n",
       "      <th>mini</th>\n",
       "      <th>mitsubishi</th>\n",
       "      <th>nissan</th>\n",
       "      <th>pontiac</th>\n",
       "      <th>porsche</th>\n",
       "      <th>ram</th>\n",
       "      <th>rolls_royce</th>\n",
       "      <th>saturn</th>\n",
       "      <th>scion</th>\n",
       "      <th>smart</th>\n",
       "      <th>subaru</th>\n",
       "      <th>suzuki</th>\n",
       "      <th>tesla</th>\n",
       "      <th>toyota</th>\n",
       "      <th>unk</th>\n",
       "      <th>volkswagen</th>\n",
       "      <th>volvo</th>\n",
       "      <th>vpg</th>\n",
       "      <th>workhorse</th>\n",
       "      <th>total</th>\n",
       "    </tr>\n",
       "  </thead>\n",
       "  <tbody>\n",
       "    <tr>\n",
       "      <th>42</th>\n",
       "      <td>90045</td>\n",
       "      <td>316</td>\n",
       "      <td>14</td>\n",
       "      <td>0</td>\n",
       "      <td>0</td>\n",
       "      <td>750</td>\n",
       "      <td>0</td>\n",
       "      <td>1859</td>\n",
       "      <td>1628</td>\n",
       "      <td>605</td>\n",
       "      <td>9801</td>\n",
       "      <td>3347</td>\n",
       "      <td>8409</td>\n",
       "      <td>0</td>\n",
       "      <td>84</td>\n",
       "      <td>15525</td>\n",
       "      <td>0</td>\n",
       "      <td>0</td>\n",
       "      <td>2749</td>\n",
       "      <td>2972</td>\n",
       "      <td>0</td>\n",
       "      <td>5164</td>\n",
       "      <td>983</td>\n",
       "      <td>413</td>\n",
       "      <td>4309</td>\n",
       "      <td>6242</td>\n",
       "      <td>0</td>\n",
       "      <td>665</td>\n",
       "      <td>1067</td>\n",
       "      <td>253</td>\n",
       "      <td>0</td>\n",
       "      <td>2435</td>\n",
       "      <td>1497</td>\n",
       "      <td>0</td>\n",
       "      <td>228</td>\n",
       "      <td>3166</td>\n",
       "      <td>13078</td>\n",
       "      <td>0</td>\n",
       "      <td>204</td>\n",
       "      <td>1442</td>\n",
       "      <td>0</td>\n",
       "      <td>0</td>\n",
       "      <td>59</td>\n",
       "      <td>0</td>\n",
       "      <td>624</td>\n",
       "      <td>0</td>\n",
       "      <td>352</td>\n",
       "      <td>17164</td>\n",
       "      <td>6758</td>\n",
       "      <td>3324</td>\n",
       "      <td>266</td>\n",
       "      <td>0</td>\n",
       "      <td>0</td>\n",
       "      <td>117752</td>\n",
       "    </tr>\n",
       "    <tr>\n",
       "      <th>942</th>\n",
       "      <td>94080</td>\n",
       "      <td>758</td>\n",
       "      <td>0</td>\n",
       "      <td>0</td>\n",
       "      <td>0</td>\n",
       "      <td>463</td>\n",
       "      <td>0</td>\n",
       "      <td>1570</td>\n",
       "      <td>434</td>\n",
       "      <td>571</td>\n",
       "      <td>13558</td>\n",
       "      <td>1761</td>\n",
       "      <td>4681</td>\n",
       "      <td>0</td>\n",
       "      <td>38</td>\n",
       "      <td>10767</td>\n",
       "      <td>0</td>\n",
       "      <td>0</td>\n",
       "      <td>683</td>\n",
       "      <td>5740</td>\n",
       "      <td>0</td>\n",
       "      <td>5166</td>\n",
       "      <td>780</td>\n",
       "      <td>132</td>\n",
       "      <td>2410</td>\n",
       "      <td>8840</td>\n",
       "      <td>0</td>\n",
       "      <td>236</td>\n",
       "      <td>1573</td>\n",
       "      <td>229</td>\n",
       "      <td>0</td>\n",
       "      <td>1087</td>\n",
       "      <td>1765</td>\n",
       "      <td>0</td>\n",
       "      <td>244</td>\n",
       "      <td>154</td>\n",
       "      <td>15560</td>\n",
       "      <td>23</td>\n",
       "      <td>128</td>\n",
       "      <td>992</td>\n",
       "      <td>0</td>\n",
       "      <td>16</td>\n",
       "      <td>286</td>\n",
       "      <td>0</td>\n",
       "      <td>1139</td>\n",
       "      <td>0</td>\n",
       "      <td>334</td>\n",
       "      <td>16979</td>\n",
       "      <td>3775</td>\n",
       "      <td>2415</td>\n",
       "      <td>81</td>\n",
       "      <td>0</td>\n",
       "      <td>0</td>\n",
       "      <td>105368</td>\n",
       "    </tr>\n",
       "    <tr>\n",
       "      <th>481</th>\n",
       "      <td>92336</td>\n",
       "      <td>440</td>\n",
       "      <td>0</td>\n",
       "      <td>0</td>\n",
       "      <td>0</td>\n",
       "      <td>461</td>\n",
       "      <td>0</td>\n",
       "      <td>1412</td>\n",
       "      <td>158</td>\n",
       "      <td>440</td>\n",
       "      <td>5573</td>\n",
       "      <td>502</td>\n",
       "      <td>1248</td>\n",
       "      <td>0</td>\n",
       "      <td>81</td>\n",
       "      <td>3940</td>\n",
       "      <td>0</td>\n",
       "      <td>0</td>\n",
       "      <td>545</td>\n",
       "      <td>8266</td>\n",
       "      <td>13</td>\n",
       "      <td>1646</td>\n",
       "      <td>605</td>\n",
       "      <td>15</td>\n",
       "      <td>1090</td>\n",
       "      <td>2425</td>\n",
       "      <td>0</td>\n",
       "      <td>48</td>\n",
       "      <td>1458</td>\n",
       "      <td>30</td>\n",
       "      <td>0</td>\n",
       "      <td>953</td>\n",
       "      <td>1610</td>\n",
       "      <td>0</td>\n",
       "      <td>203</td>\n",
       "      <td>223</td>\n",
       "      <td>5439</td>\n",
       "      <td>44</td>\n",
       "      <td>38</td>\n",
       "      <td>459</td>\n",
       "      <td>0</td>\n",
       "      <td>68</td>\n",
       "      <td>589</td>\n",
       "      <td>0</td>\n",
       "      <td>585</td>\n",
       "      <td>0</td>\n",
       "      <td>218</td>\n",
       "      <td>9746</td>\n",
       "      <td>723</td>\n",
       "      <td>869</td>\n",
       "      <td>51</td>\n",
       "      <td>0</td>\n",
       "      <td>0</td>\n",
       "      <td>52214</td>\n",
       "    </tr>\n",
       "    <tr>\n",
       "      <th>254</th>\n",
       "      <td>91709</td>\n",
       "      <td>790</td>\n",
       "      <td>41</td>\n",
       "      <td>0</td>\n",
       "      <td>0</td>\n",
       "      <td>716</td>\n",
       "      <td>0</td>\n",
       "      <td>2429</td>\n",
       "      <td>85</td>\n",
       "      <td>344</td>\n",
       "      <td>2682</td>\n",
       "      <td>244</td>\n",
       "      <td>567</td>\n",
       "      <td>0</td>\n",
       "      <td>50</td>\n",
       "      <td>3487</td>\n",
       "      <td>0</td>\n",
       "      <td>25</td>\n",
       "      <td>339</td>\n",
       "      <td>7229</td>\n",
       "      <td>0</td>\n",
       "      <td>1788</td>\n",
       "      <td>744</td>\n",
       "      <td>40</td>\n",
       "      <td>910</td>\n",
       "      <td>1376</td>\n",
       "      <td>0</td>\n",
       "      <td>226</td>\n",
       "      <td>2789</td>\n",
       "      <td>23</td>\n",
       "      <td>72</td>\n",
       "      <td>1122</td>\n",
       "      <td>2862</td>\n",
       "      <td>0</td>\n",
       "      <td>268</td>\n",
       "      <td>114</td>\n",
       "      <td>2254</td>\n",
       "      <td>0</td>\n",
       "      <td>341</td>\n",
       "      <td>281</td>\n",
       "      <td>0</td>\n",
       "      <td>39</td>\n",
       "      <td>377</td>\n",
       "      <td>0</td>\n",
       "      <td>897</td>\n",
       "      <td>0</td>\n",
       "      <td>683</td>\n",
       "      <td>9284</td>\n",
       "      <td>554</td>\n",
       "      <td>963</td>\n",
       "      <td>214</td>\n",
       "      <td>0</td>\n",
       "      <td>0</td>\n",
       "      <td>47249</td>\n",
       "    </tr>\n",
       "    <tr>\n",
       "      <th>129</th>\n",
       "      <td>90650</td>\n",
       "      <td>426</td>\n",
       "      <td>0</td>\n",
       "      <td>0</td>\n",
       "      <td>0</td>\n",
       "      <td>340</td>\n",
       "      <td>0</td>\n",
       "      <td>1032</td>\n",
       "      <td>129</td>\n",
       "      <td>215</td>\n",
       "      <td>3494</td>\n",
       "      <td>411</td>\n",
       "      <td>1345</td>\n",
       "      <td>0</td>\n",
       "      <td>48</td>\n",
       "      <td>3021</td>\n",
       "      <td>0</td>\n",
       "      <td>0</td>\n",
       "      <td>590</td>\n",
       "      <td>7977</td>\n",
       "      <td>0</td>\n",
       "      <td>1726</td>\n",
       "      <td>448</td>\n",
       "      <td>0</td>\n",
       "      <td>1072</td>\n",
       "      <td>2343</td>\n",
       "      <td>0</td>\n",
       "      <td>11</td>\n",
       "      <td>1102</td>\n",
       "      <td>33</td>\n",
       "      <td>0</td>\n",
       "      <td>829</td>\n",
       "      <td>801</td>\n",
       "      <td>0</td>\n",
       "      <td>149</td>\n",
       "      <td>248</td>\n",
       "      <td>4340</td>\n",
       "      <td>30</td>\n",
       "      <td>85</td>\n",
       "      <td>364</td>\n",
       "      <td>0</td>\n",
       "      <td>87</td>\n",
       "      <td>748</td>\n",
       "      <td>0</td>\n",
       "      <td>451</td>\n",
       "      <td>0</td>\n",
       "      <td>89</td>\n",
       "      <td>10094</td>\n",
       "      <td>496</td>\n",
       "      <td>701</td>\n",
       "      <td>11</td>\n",
       "      <td>0</td>\n",
       "      <td>0</td>\n",
       "      <td>45286</td>\n",
       "    </tr>\n",
       "  </tbody>\n",
       "</table>\n",
       "</div>"
      ],
      "text/plain": [
       "make    zip  acura  alfa_romeo  am_general  aston_martin  audi  bentley   bmw  \\\n",
       "42    90045    316          14           0             0   750        0  1859   \n",
       "942   94080    758           0           0             0   463        0  1570   \n",
       "481   92336    440           0           0             0   461        0  1412   \n",
       "254   91709    790          41           0             0   716        0  2429   \n",
       "129   90650    426           0           0             0   340        0  1032   \n",
       "\n",
       "make  buick  cadillac  chevrolet  chrysler  dodge  ferrari  fiat   ford  \\\n",
       "42     1628       605       9801      3347   8409        0    84  15525   \n",
       "942     434       571      13558      1761   4681        0    38  10767   \n",
       "481     158       440       5573       502   1248        0    81   3940   \n",
       "254      85       344       2682       244    567        0    50   3487   \n",
       "129     129       215       3494       411   1345        0    48   3021   \n",
       "\n",
       "make  freightliner  genesis   gmc  honda  hummer  hyundai  infiniti  jaguar  \\\n",
       "42               0        0  2749   2972       0     5164       983     413   \n",
       "942              0        0   683   5740       0     5166       780     132   \n",
       "481              0        0   545   8266      13     1646       605      15   \n",
       "254              0       25   339   7229       0     1788       744      40   \n",
       "129              0        0   590   7977       0     1726       448       0   \n",
       "\n",
       "make  jeep   kia  lamborghini  land_rover  lexus  lincoln  maserati  mazda  \\\n",
       "42    4309  6242            0         665   1067      253         0   2435   \n",
       "942   2410  8840            0         236   1573      229         0   1087   \n",
       "481   1090  2425            0          48   1458       30         0    953   \n",
       "254    910  1376            0         226   2789       23        72   1122   \n",
       "129   1072  2343            0          11   1102       33         0    829   \n",
       "\n",
       "make  mercedes_benz  mercury  mini  mitsubishi  nissan  pontiac  porsche  \\\n",
       "42             1497        0   228        3166   13078        0      204   \n",
       "942            1765        0   244         154   15560       23      128   \n",
       "481            1610        0   203         223    5439       44       38   \n",
       "254            2862        0   268         114    2254        0      341   \n",
       "129             801        0   149         248    4340       30       85   \n",
       "\n",
       "make   ram  rolls_royce  saturn  scion  smart  subaru  suzuki  tesla  toyota  \\\n",
       "42    1442            0       0     59      0     624       0    352   17164   \n",
       "942    992            0      16    286      0    1139       0    334   16979   \n",
       "481    459            0      68    589      0     585       0    218    9746   \n",
       "254    281            0      39    377      0     897       0    683    9284   \n",
       "129    364            0      87    748      0     451       0     89   10094   \n",
       "\n",
       "make   unk  volkswagen  volvo  vpg  workhorse   total  \n",
       "42    6758        3324    266    0          0  117752  \n",
       "942   3775        2415     81    0          0  105368  \n",
       "481    723         869     51    0          0   52214  \n",
       "254    554         963    214    0          0   47249  \n",
       "129    496         701     11    0          0   45286  "
      ]
     },
     "execution_count": 47,
     "metadata": {},
     "output_type": "execute_result"
    }
   ],
   "source": [
    "make_zip.sort_values(by='total', ascending=False).head(5)"
   ]
  },
  {
   "cell_type": "code",
   "execution_count": 48,
   "metadata": {},
   "outputs": [],
   "source": [
    "makes_list = list(make_zip.columns)"
   ]
  },
  {
   "cell_type": "code",
   "execution_count": 49,
   "metadata": {},
   "outputs": [
    {
     "data": {
      "text/plain": [
       "['zip',\n",
       " 'acura',\n",
       " 'alfa_romeo',\n",
       " 'am_general',\n",
       " 'aston_martin',\n",
       " 'audi',\n",
       " 'bentley',\n",
       " 'bmw',\n",
       " 'buick',\n",
       " 'cadillac',\n",
       " 'chevrolet',\n",
       " 'chrysler',\n",
       " 'dodge',\n",
       " 'ferrari',\n",
       " 'fiat',\n",
       " 'ford',\n",
       " 'freightliner',\n",
       " 'genesis',\n",
       " 'gmc',\n",
       " 'honda',\n",
       " 'hummer',\n",
       " 'hyundai',\n",
       " 'infiniti',\n",
       " 'jaguar',\n",
       " 'jeep',\n",
       " 'kia',\n",
       " 'lamborghini',\n",
       " 'land_rover',\n",
       " 'lexus',\n",
       " 'lincoln',\n",
       " 'maserati',\n",
       " 'mazda',\n",
       " 'mercedes_benz',\n",
       " 'mercury',\n",
       " 'mini',\n",
       " 'mitsubishi',\n",
       " 'nissan',\n",
       " 'pontiac',\n",
       " 'porsche',\n",
       " 'ram',\n",
       " 'rolls_royce',\n",
       " 'saturn',\n",
       " 'scion',\n",
       " 'smart',\n",
       " 'subaru',\n",
       " 'suzuki',\n",
       " 'tesla',\n",
       " 'toyota',\n",
       " 'unk',\n",
       " 'volkswagen',\n",
       " 'volvo',\n",
       " 'vpg',\n",
       " 'workhorse',\n",
       " 'total']"
      ]
     },
     "execution_count": 49,
     "metadata": {},
     "output_type": "execute_result"
    }
   ],
   "source": [
    "makes_list"
   ]
  },
  {
   "cell_type": "code",
   "execution_count": 50,
   "metadata": {},
   "outputs": [],
   "source": [
    "make_zip[['zip', 'total']].to_csv('output/total_makes_zip.csv')"
   ]
  },
  {
   "cell_type": "code",
   "execution_count": 51,
   "metadata": {},
   "outputs": [],
   "source": [
    "make_total = pd.DataFrame(make_zip[['zip', 'total']])"
   ]
  },
  {
   "cell_type": "code",
   "execution_count": 52,
   "metadata": {},
   "outputs": [],
   "source": [
    "make_zip['winner'] = make_zip[['acura',\n",
    " 'acura',\n",
    " 'alfa_romeo',\n",
    " 'am_general',\n",
    " 'aston_martin',\n",
    " 'audi',\n",
    " 'bentley',\n",
    " 'bmw',\n",
    " 'buick',\n",
    " 'cadillac',\n",
    " 'chevrolet',\n",
    " 'chrysler',\n",
    " 'dodge',\n",
    " 'ferrari',\n",
    " 'fiat',\n",
    " 'ford',\n",
    " 'freightliner',\n",
    " 'genesis',\n",
    " 'gmc',\n",
    " 'honda',\n",
    " 'hummer',\n",
    " 'hyundai',\n",
    " 'infiniti',\n",
    " 'jaguar',\n",
    " 'jeep',\n",
    " 'kia',\n",
    " 'lamborghini',\n",
    " 'land_rover',\n",
    " 'lexus',\n",
    " 'lincoln',\n",
    " 'maserati',\n",
    " 'mazda',\n",
    " 'mercedes_benz',\n",
    " 'mercury',\n",
    " 'mini',\n",
    " 'mitsubishi',\n",
    " 'nissan',\n",
    " 'pontiac',\n",
    " 'porsche',\n",
    " 'ram',\n",
    " 'rolls_royce',\n",
    " 'saturn',\n",
    " 'scion',\n",
    " 'smart',\n",
    " 'subaru',\n",
    " 'suzuki',\n",
    " 'tesla',\n",
    " 'toyota',\n",
    " 'unk',\n",
    " 'volkswagen',\n",
    " 'volvo',\n",
    " 'vpg',\n",
    " 'workhorse']].idxmax(axis=1)"
   ]
  },
  {
   "cell_type": "code",
   "execution_count": 53,
   "metadata": {},
   "outputs": [
    {
     "data": {
      "text/html": [
       "<div>\n",
       "<style scoped>\n",
       "    .dataframe tbody tr th:only-of-type {\n",
       "        vertical-align: middle;\n",
       "    }\n",
       "\n",
       "    .dataframe tbody tr th {\n",
       "        vertical-align: top;\n",
       "    }\n",
       "\n",
       "    .dataframe thead th {\n",
       "        text-align: right;\n",
       "    }\n",
       "</style>\n",
       "<table border=\"1\" class=\"dataframe\">\n",
       "  <thead>\n",
       "    <tr style=\"text-align: right;\">\n",
       "      <th>make</th>\n",
       "      <th>zip</th>\n",
       "      <th>acura</th>\n",
       "      <th>alfa_romeo</th>\n",
       "      <th>am_general</th>\n",
       "      <th>aston_martin</th>\n",
       "      <th>audi</th>\n",
       "      <th>bentley</th>\n",
       "      <th>bmw</th>\n",
       "      <th>buick</th>\n",
       "      <th>cadillac</th>\n",
       "      <th>chevrolet</th>\n",
       "      <th>chrysler</th>\n",
       "      <th>dodge</th>\n",
       "      <th>ferrari</th>\n",
       "      <th>fiat</th>\n",
       "      <th>ford</th>\n",
       "      <th>freightliner</th>\n",
       "      <th>genesis</th>\n",
       "      <th>gmc</th>\n",
       "      <th>honda</th>\n",
       "      <th>hummer</th>\n",
       "      <th>hyundai</th>\n",
       "      <th>infiniti</th>\n",
       "      <th>jaguar</th>\n",
       "      <th>jeep</th>\n",
       "      <th>kia</th>\n",
       "      <th>lamborghini</th>\n",
       "      <th>land_rover</th>\n",
       "      <th>lexus</th>\n",
       "      <th>lincoln</th>\n",
       "      <th>maserati</th>\n",
       "      <th>mazda</th>\n",
       "      <th>mercedes_benz</th>\n",
       "      <th>mercury</th>\n",
       "      <th>mini</th>\n",
       "      <th>mitsubishi</th>\n",
       "      <th>nissan</th>\n",
       "      <th>pontiac</th>\n",
       "      <th>porsche</th>\n",
       "      <th>ram</th>\n",
       "      <th>rolls_royce</th>\n",
       "      <th>saturn</th>\n",
       "      <th>scion</th>\n",
       "      <th>smart</th>\n",
       "      <th>subaru</th>\n",
       "      <th>suzuki</th>\n",
       "      <th>tesla</th>\n",
       "      <th>toyota</th>\n",
       "      <th>unk</th>\n",
       "      <th>volkswagen</th>\n",
       "      <th>volvo</th>\n",
       "      <th>vpg</th>\n",
       "      <th>workhorse</th>\n",
       "      <th>total</th>\n",
       "      <th>winner</th>\n",
       "    </tr>\n",
       "  </thead>\n",
       "  <tbody>\n",
       "    <tr>\n",
       "      <th>0</th>\n",
       "      <td>90001</td>\n",
       "      <td>52</td>\n",
       "      <td>0</td>\n",
       "      <td>0</td>\n",
       "      <td>0</td>\n",
       "      <td>11</td>\n",
       "      <td>0</td>\n",
       "      <td>344</td>\n",
       "      <td>14</td>\n",
       "      <td>57</td>\n",
       "      <td>1670</td>\n",
       "      <td>181</td>\n",
       "      <td>663</td>\n",
       "      <td>0</td>\n",
       "      <td>0</td>\n",
       "      <td>1032</td>\n",
       "      <td>0</td>\n",
       "      <td>0</td>\n",
       "      <td>123</td>\n",
       "      <td>2471</td>\n",
       "      <td>0</td>\n",
       "      <td>398</td>\n",
       "      <td>169</td>\n",
       "      <td>0</td>\n",
       "      <td>455</td>\n",
       "      <td>1034</td>\n",
       "      <td>0</td>\n",
       "      <td>0</td>\n",
       "      <td>170</td>\n",
       "      <td>12</td>\n",
       "      <td>0</td>\n",
       "      <td>147</td>\n",
       "      <td>169</td>\n",
       "      <td>0</td>\n",
       "      <td>78</td>\n",
       "      <td>11</td>\n",
       "      <td>2564</td>\n",
       "      <td>28</td>\n",
       "      <td>0</td>\n",
       "      <td>114</td>\n",
       "      <td>0</td>\n",
       "      <td>27</td>\n",
       "      <td>235</td>\n",
       "      <td>0</td>\n",
       "      <td>51</td>\n",
       "      <td>0</td>\n",
       "      <td>0</td>\n",
       "      <td>3306</td>\n",
       "      <td>158</td>\n",
       "      <td>191</td>\n",
       "      <td>0</td>\n",
       "      <td>0</td>\n",
       "      <td>0</td>\n",
       "      <td>15935</td>\n",
       "      <td>toyota</td>\n",
       "    </tr>\n",
       "    <tr>\n",
       "      <th>1</th>\n",
       "      <td>90002</td>\n",
       "      <td>20</td>\n",
       "      <td>0</td>\n",
       "      <td>0</td>\n",
       "      <td>0</td>\n",
       "      <td>13</td>\n",
       "      <td>0</td>\n",
       "      <td>240</td>\n",
       "      <td>13</td>\n",
       "      <td>72</td>\n",
       "      <td>1561</td>\n",
       "      <td>193</td>\n",
       "      <td>641</td>\n",
       "      <td>0</td>\n",
       "      <td>0</td>\n",
       "      <td>926</td>\n",
       "      <td>0</td>\n",
       "      <td>0</td>\n",
       "      <td>97</td>\n",
       "      <td>2149</td>\n",
       "      <td>0</td>\n",
       "      <td>371</td>\n",
       "      <td>200</td>\n",
       "      <td>0</td>\n",
       "      <td>356</td>\n",
       "      <td>1113</td>\n",
       "      <td>0</td>\n",
       "      <td>0</td>\n",
       "      <td>176</td>\n",
       "      <td>0</td>\n",
       "      <td>0</td>\n",
       "      <td>121</td>\n",
       "      <td>174</td>\n",
       "      <td>0</td>\n",
       "      <td>0</td>\n",
       "      <td>47</td>\n",
       "      <td>2447</td>\n",
       "      <td>28</td>\n",
       "      <td>0</td>\n",
       "      <td>44</td>\n",
       "      <td>0</td>\n",
       "      <td>38</td>\n",
       "      <td>221</td>\n",
       "      <td>0</td>\n",
       "      <td>41</td>\n",
       "      <td>0</td>\n",
       "      <td>0</td>\n",
       "      <td>3009</td>\n",
       "      <td>111</td>\n",
       "      <td>212</td>\n",
       "      <td>0</td>\n",
       "      <td>0</td>\n",
       "      <td>0</td>\n",
       "      <td>14634</td>\n",
       "      <td>toyota</td>\n",
       "    </tr>\n",
       "    <tr>\n",
       "      <th>2</th>\n",
       "      <td>90003</td>\n",
       "      <td>83</td>\n",
       "      <td>0</td>\n",
       "      <td>0</td>\n",
       "      <td>0</td>\n",
       "      <td>41</td>\n",
       "      <td>0</td>\n",
       "      <td>332</td>\n",
       "      <td>11</td>\n",
       "      <td>102</td>\n",
       "      <td>1808</td>\n",
       "      <td>252</td>\n",
       "      <td>818</td>\n",
       "      <td>0</td>\n",
       "      <td>0</td>\n",
       "      <td>1179</td>\n",
       "      <td>0</td>\n",
       "      <td>0</td>\n",
       "      <td>153</td>\n",
       "      <td>2978</td>\n",
       "      <td>0</td>\n",
       "      <td>433</td>\n",
       "      <td>239</td>\n",
       "      <td>0</td>\n",
       "      <td>418</td>\n",
       "      <td>1408</td>\n",
       "      <td>0</td>\n",
       "      <td>0</td>\n",
       "      <td>247</td>\n",
       "      <td>12</td>\n",
       "      <td>0</td>\n",
       "      <td>212</td>\n",
       "      <td>303</td>\n",
       "      <td>0</td>\n",
       "      <td>0</td>\n",
       "      <td>68</td>\n",
       "      <td>3106</td>\n",
       "      <td>38</td>\n",
       "      <td>0</td>\n",
       "      <td>94</td>\n",
       "      <td>0</td>\n",
       "      <td>37</td>\n",
       "      <td>338</td>\n",
       "      <td>0</td>\n",
       "      <td>25</td>\n",
       "      <td>0</td>\n",
       "      <td>0</td>\n",
       "      <td>4355</td>\n",
       "      <td>159</td>\n",
       "      <td>277</td>\n",
       "      <td>0</td>\n",
       "      <td>0</td>\n",
       "      <td>0</td>\n",
       "      <td>19526</td>\n",
       "      <td>toyota</td>\n",
       "    </tr>\n",
       "    <tr>\n",
       "      <th>3</th>\n",
       "      <td>90004</td>\n",
       "      <td>227</td>\n",
       "      <td>32</td>\n",
       "      <td>0</td>\n",
       "      <td>0</td>\n",
       "      <td>563</td>\n",
       "      <td>0</td>\n",
       "      <td>1075</td>\n",
       "      <td>0</td>\n",
       "      <td>37</td>\n",
       "      <td>680</td>\n",
       "      <td>11</td>\n",
       "      <td>220</td>\n",
       "      <td>0</td>\n",
       "      <td>105</td>\n",
       "      <td>774</td>\n",
       "      <td>0</td>\n",
       "      <td>0</td>\n",
       "      <td>11</td>\n",
       "      <td>3144</td>\n",
       "      <td>0</td>\n",
       "      <td>778</td>\n",
       "      <td>218</td>\n",
       "      <td>30</td>\n",
       "      <td>410</td>\n",
       "      <td>686</td>\n",
       "      <td>0</td>\n",
       "      <td>141</td>\n",
       "      <td>1176</td>\n",
       "      <td>0</td>\n",
       "      <td>0</td>\n",
       "      <td>487</td>\n",
       "      <td>889</td>\n",
       "      <td>0</td>\n",
       "      <td>262</td>\n",
       "      <td>31</td>\n",
       "      <td>1812</td>\n",
       "      <td>0</td>\n",
       "      <td>141</td>\n",
       "      <td>0</td>\n",
       "      <td>0</td>\n",
       "      <td>0</td>\n",
       "      <td>238</td>\n",
       "      <td>0</td>\n",
       "      <td>422</td>\n",
       "      <td>0</td>\n",
       "      <td>200</td>\n",
       "      <td>5250</td>\n",
       "      <td>179</td>\n",
       "      <td>678</td>\n",
       "      <td>114</td>\n",
       "      <td>0</td>\n",
       "      <td>0</td>\n",
       "      <td>21021</td>\n",
       "      <td>toyota</td>\n",
       "    </tr>\n",
       "    <tr>\n",
       "      <th>4</th>\n",
       "      <td>90005</td>\n",
       "      <td>62</td>\n",
       "      <td>0</td>\n",
       "      <td>0</td>\n",
       "      <td>0</td>\n",
       "      <td>241</td>\n",
       "      <td>0</td>\n",
       "      <td>759</td>\n",
       "      <td>0</td>\n",
       "      <td>0</td>\n",
       "      <td>260</td>\n",
       "      <td>0</td>\n",
       "      <td>52</td>\n",
       "      <td>0</td>\n",
       "      <td>15</td>\n",
       "      <td>341</td>\n",
       "      <td>0</td>\n",
       "      <td>12</td>\n",
       "      <td>0</td>\n",
       "      <td>1769</td>\n",
       "      <td>0</td>\n",
       "      <td>610</td>\n",
       "      <td>143</td>\n",
       "      <td>0</td>\n",
       "      <td>153</td>\n",
       "      <td>401</td>\n",
       "      <td>0</td>\n",
       "      <td>30</td>\n",
       "      <td>822</td>\n",
       "      <td>0</td>\n",
       "      <td>0</td>\n",
       "      <td>203</td>\n",
       "      <td>640</td>\n",
       "      <td>0</td>\n",
       "      <td>78</td>\n",
       "      <td>0</td>\n",
       "      <td>877</td>\n",
       "      <td>0</td>\n",
       "      <td>50</td>\n",
       "      <td>0</td>\n",
       "      <td>0</td>\n",
       "      <td>0</td>\n",
       "      <td>39</td>\n",
       "      <td>0</td>\n",
       "      <td>192</td>\n",
       "      <td>0</td>\n",
       "      <td>58</td>\n",
       "      <td>2638</td>\n",
       "      <td>108</td>\n",
       "      <td>320</td>\n",
       "      <td>0</td>\n",
       "      <td>0</td>\n",
       "      <td>0</td>\n",
       "      <td>10873</td>\n",
       "      <td>toyota</td>\n",
       "    </tr>\n",
       "    <tr>\n",
       "      <th>5</th>\n",
       "      <td>90006</td>\n",
       "      <td>62</td>\n",
       "      <td>0</td>\n",
       "      <td>0</td>\n",
       "      <td>0</td>\n",
       "      <td>113</td>\n",
       "      <td>0</td>\n",
       "      <td>564</td>\n",
       "      <td>0</td>\n",
       "      <td>0</td>\n",
       "      <td>664</td>\n",
       "      <td>12</td>\n",
       "      <td>203</td>\n",
       "      <td>0</td>\n",
       "      <td>25</td>\n",
       "      <td>618</td>\n",
       "      <td>0</td>\n",
       "      <td>0</td>\n",
       "      <td>15</td>\n",
       "      <td>2706</td>\n",
       "      <td>0</td>\n",
       "      <td>751</td>\n",
       "      <td>182</td>\n",
       "      <td>0</td>\n",
       "      <td>243</td>\n",
       "      <td>788</td>\n",
       "      <td>0</td>\n",
       "      <td>0</td>\n",
       "      <td>712</td>\n",
       "      <td>0</td>\n",
       "      <td>0</td>\n",
       "      <td>203</td>\n",
       "      <td>456</td>\n",
       "      <td>0</td>\n",
       "      <td>86</td>\n",
       "      <td>0</td>\n",
       "      <td>2015</td>\n",
       "      <td>0</td>\n",
       "      <td>0</td>\n",
       "      <td>13</td>\n",
       "      <td>0</td>\n",
       "      <td>0</td>\n",
       "      <td>178</td>\n",
       "      <td>0</td>\n",
       "      <td>119</td>\n",
       "      <td>0</td>\n",
       "      <td>26</td>\n",
       "      <td>4477</td>\n",
       "      <td>131</td>\n",
       "      <td>320</td>\n",
       "      <td>28</td>\n",
       "      <td>0</td>\n",
       "      <td>0</td>\n",
       "      <td>15710</td>\n",
       "      <td>toyota</td>\n",
       "    </tr>\n",
       "    <tr>\n",
       "      <th>6</th>\n",
       "      <td>90007</td>\n",
       "      <td>0</td>\n",
       "      <td>0</td>\n",
       "      <td>0</td>\n",
       "      <td>0</td>\n",
       "      <td>182</td>\n",
       "      <td>0</td>\n",
       "      <td>414</td>\n",
       "      <td>0</td>\n",
       "      <td>0</td>\n",
       "      <td>509</td>\n",
       "      <td>14</td>\n",
       "      <td>153</td>\n",
       "      <td>0</td>\n",
       "      <td>0</td>\n",
       "      <td>495</td>\n",
       "      <td>0</td>\n",
       "      <td>0</td>\n",
       "      <td>0</td>\n",
       "      <td>1551</td>\n",
       "      <td>0</td>\n",
       "      <td>253</td>\n",
       "      <td>37</td>\n",
       "      <td>0</td>\n",
       "      <td>270</td>\n",
       "      <td>558</td>\n",
       "      <td>0</td>\n",
       "      <td>0</td>\n",
       "      <td>130</td>\n",
       "      <td>0</td>\n",
       "      <td>0</td>\n",
       "      <td>154</td>\n",
       "      <td>250</td>\n",
       "      <td>0</td>\n",
       "      <td>44</td>\n",
       "      <td>0</td>\n",
       "      <td>1153</td>\n",
       "      <td>0</td>\n",
       "      <td>53</td>\n",
       "      <td>0</td>\n",
       "      <td>0</td>\n",
       "      <td>0</td>\n",
       "      <td>57</td>\n",
       "      <td>0</td>\n",
       "      <td>90</td>\n",
       "      <td>0</td>\n",
       "      <td>27</td>\n",
       "      <td>2206</td>\n",
       "      <td>102</td>\n",
       "      <td>287</td>\n",
       "      <td>0</td>\n",
       "      <td>0</td>\n",
       "      <td>0</td>\n",
       "      <td>8989</td>\n",
       "      <td>toyota</td>\n",
       "    </tr>\n",
       "    <tr>\n",
       "      <th>7</th>\n",
       "      <td>90008</td>\n",
       "      <td>36</td>\n",
       "      <td>0</td>\n",
       "      <td>0</td>\n",
       "      <td>0</td>\n",
       "      <td>200</td>\n",
       "      <td>0</td>\n",
       "      <td>499</td>\n",
       "      <td>49</td>\n",
       "      <td>171</td>\n",
       "      <td>785</td>\n",
       "      <td>159</td>\n",
       "      <td>273</td>\n",
       "      <td>0</td>\n",
       "      <td>17</td>\n",
       "      <td>629</td>\n",
       "      <td>0</td>\n",
       "      <td>0</td>\n",
       "      <td>14</td>\n",
       "      <td>1397</td>\n",
       "      <td>0</td>\n",
       "      <td>437</td>\n",
       "      <td>219</td>\n",
       "      <td>0</td>\n",
       "      <td>287</td>\n",
       "      <td>695</td>\n",
       "      <td>0</td>\n",
       "      <td>0</td>\n",
       "      <td>437</td>\n",
       "      <td>0</td>\n",
       "      <td>0</td>\n",
       "      <td>184</td>\n",
       "      <td>728</td>\n",
       "      <td>0</td>\n",
       "      <td>52</td>\n",
       "      <td>0</td>\n",
       "      <td>1123</td>\n",
       "      <td>12</td>\n",
       "      <td>15</td>\n",
       "      <td>0</td>\n",
       "      <td>0</td>\n",
       "      <td>0</td>\n",
       "      <td>14</td>\n",
       "      <td>0</td>\n",
       "      <td>91</td>\n",
       "      <td>0</td>\n",
       "      <td>54</td>\n",
       "      <td>1801</td>\n",
       "      <td>55</td>\n",
       "      <td>328</td>\n",
       "      <td>25</td>\n",
       "      <td>0</td>\n",
       "      <td>0</td>\n",
       "      <td>10786</td>\n",
       "      <td>toyota</td>\n",
       "    </tr>\n",
       "    <tr>\n",
       "      <th>8</th>\n",
       "      <td>90010</td>\n",
       "      <td>0</td>\n",
       "      <td>0</td>\n",
       "      <td>0</td>\n",
       "      <td>0</td>\n",
       "      <td>81</td>\n",
       "      <td>0</td>\n",
       "      <td>317</td>\n",
       "      <td>0</td>\n",
       "      <td>77</td>\n",
       "      <td>60</td>\n",
       "      <td>0</td>\n",
       "      <td>60</td>\n",
       "      <td>0</td>\n",
       "      <td>0</td>\n",
       "      <td>463</td>\n",
       "      <td>0</td>\n",
       "      <td>13</td>\n",
       "      <td>37</td>\n",
       "      <td>278</td>\n",
       "      <td>0</td>\n",
       "      <td>261</td>\n",
       "      <td>43</td>\n",
       "      <td>0</td>\n",
       "      <td>68</td>\n",
       "      <td>87</td>\n",
       "      <td>0</td>\n",
       "      <td>89</td>\n",
       "      <td>191</td>\n",
       "      <td>0</td>\n",
       "      <td>0</td>\n",
       "      <td>0</td>\n",
       "      <td>666</td>\n",
       "      <td>0</td>\n",
       "      <td>0</td>\n",
       "      <td>0</td>\n",
       "      <td>104</td>\n",
       "      <td>0</td>\n",
       "      <td>106</td>\n",
       "      <td>0</td>\n",
       "      <td>0</td>\n",
       "      <td>0</td>\n",
       "      <td>0</td>\n",
       "      <td>0</td>\n",
       "      <td>17</td>\n",
       "      <td>0</td>\n",
       "      <td>39</td>\n",
       "      <td>1455</td>\n",
       "      <td>364</td>\n",
       "      <td>12</td>\n",
       "      <td>15</td>\n",
       "      <td>0</td>\n",
       "      <td>0</td>\n",
       "      <td>4903</td>\n",
       "      <td>toyota</td>\n",
       "    </tr>\n",
       "    <tr>\n",
       "      <th>9</th>\n",
       "      <td>90011</td>\n",
       "      <td>171</td>\n",
       "      <td>0</td>\n",
       "      <td>0</td>\n",
       "      <td>0</td>\n",
       "      <td>101</td>\n",
       "      <td>0</td>\n",
       "      <td>416</td>\n",
       "      <td>0</td>\n",
       "      <td>127</td>\n",
       "      <td>2643</td>\n",
       "      <td>267</td>\n",
       "      <td>1071</td>\n",
       "      <td>0</td>\n",
       "      <td>12</td>\n",
       "      <td>1633</td>\n",
       "      <td>0</td>\n",
       "      <td>0</td>\n",
       "      <td>261</td>\n",
       "      <td>4381</td>\n",
       "      <td>0</td>\n",
       "      <td>537</td>\n",
       "      <td>326</td>\n",
       "      <td>0</td>\n",
       "      <td>685</td>\n",
       "      <td>1692</td>\n",
       "      <td>0</td>\n",
       "      <td>0</td>\n",
       "      <td>297</td>\n",
       "      <td>29</td>\n",
       "      <td>0</td>\n",
       "      <td>310</td>\n",
       "      <td>312</td>\n",
       "      <td>0</td>\n",
       "      <td>25</td>\n",
       "      <td>97</td>\n",
       "      <td>4364</td>\n",
       "      <td>13</td>\n",
       "      <td>0</td>\n",
       "      <td>129</td>\n",
       "      <td>0</td>\n",
       "      <td>49</td>\n",
       "      <td>416</td>\n",
       "      <td>0</td>\n",
       "      <td>115</td>\n",
       "      <td>0</td>\n",
       "      <td>0</td>\n",
       "      <td>5994</td>\n",
       "      <td>195</td>\n",
       "      <td>394</td>\n",
       "      <td>11</td>\n",
       "      <td>0</td>\n",
       "      <td>0</td>\n",
       "      <td>27073</td>\n",
       "      <td>toyota</td>\n",
       "    </tr>\n",
       "  </tbody>\n",
       "</table>\n",
       "</div>"
      ],
      "text/plain": [
       "make    zip  acura  alfa_romeo  am_general  aston_martin  audi  bentley   bmw  \\\n",
       "0     90001     52           0           0             0    11        0   344   \n",
       "1     90002     20           0           0             0    13        0   240   \n",
       "2     90003     83           0           0             0    41        0   332   \n",
       "3     90004    227          32           0             0   563        0  1075   \n",
       "4     90005     62           0           0             0   241        0   759   \n",
       "5     90006     62           0           0             0   113        0   564   \n",
       "6     90007      0           0           0             0   182        0   414   \n",
       "7     90008     36           0           0             0   200        0   499   \n",
       "8     90010      0           0           0             0    81        0   317   \n",
       "9     90011    171           0           0             0   101        0   416   \n",
       "\n",
       "make  buick  cadillac  chevrolet  chrysler  dodge  ferrari  fiat  ford  \\\n",
       "0        14        57       1670       181    663        0     0  1032   \n",
       "1        13        72       1561       193    641        0     0   926   \n",
       "2        11       102       1808       252    818        0     0  1179   \n",
       "3         0        37        680        11    220        0   105   774   \n",
       "4         0         0        260         0     52        0    15   341   \n",
       "5         0         0        664        12    203        0    25   618   \n",
       "6         0         0        509        14    153        0     0   495   \n",
       "7        49       171        785       159    273        0    17   629   \n",
       "8         0        77         60         0     60        0     0   463   \n",
       "9         0       127       2643       267   1071        0    12  1633   \n",
       "\n",
       "make  freightliner  genesis  gmc  honda  hummer  hyundai  infiniti  jaguar  \\\n",
       "0                0        0  123   2471       0      398       169       0   \n",
       "1                0        0   97   2149       0      371       200       0   \n",
       "2                0        0  153   2978       0      433       239       0   \n",
       "3                0        0   11   3144       0      778       218      30   \n",
       "4                0       12    0   1769       0      610       143       0   \n",
       "5                0        0   15   2706       0      751       182       0   \n",
       "6                0        0    0   1551       0      253        37       0   \n",
       "7                0        0   14   1397       0      437       219       0   \n",
       "8                0       13   37    278       0      261        43       0   \n",
       "9                0        0  261   4381       0      537       326       0   \n",
       "\n",
       "make  jeep   kia  lamborghini  land_rover  lexus  lincoln  maserati  mazda  \\\n",
       "0      455  1034            0           0    170       12         0    147   \n",
       "1      356  1113            0           0    176        0         0    121   \n",
       "2      418  1408            0           0    247       12         0    212   \n",
       "3      410   686            0         141   1176        0         0    487   \n",
       "4      153   401            0          30    822        0         0    203   \n",
       "5      243   788            0           0    712        0         0    203   \n",
       "6      270   558            0           0    130        0         0    154   \n",
       "7      287   695            0           0    437        0         0    184   \n",
       "8       68    87            0          89    191        0         0      0   \n",
       "9      685  1692            0           0    297       29         0    310   \n",
       "\n",
       "make  mercedes_benz  mercury  mini  mitsubishi  nissan  pontiac  porsche  ram  \\\n",
       "0               169        0    78          11    2564       28        0  114   \n",
       "1               174        0     0          47    2447       28        0   44   \n",
       "2               303        0     0          68    3106       38        0   94   \n",
       "3               889        0   262          31    1812        0      141    0   \n",
       "4               640        0    78           0     877        0       50    0   \n",
       "5               456        0    86           0    2015        0        0   13   \n",
       "6               250        0    44           0    1153        0       53    0   \n",
       "7               728        0    52           0    1123       12       15    0   \n",
       "8               666        0     0           0     104        0      106    0   \n",
       "9               312        0    25          97    4364       13        0  129   \n",
       "\n",
       "make  rolls_royce  saturn  scion  smart  subaru  suzuki  tesla  toyota  unk  \\\n",
       "0               0      27    235      0      51       0      0    3306  158   \n",
       "1               0      38    221      0      41       0      0    3009  111   \n",
       "2               0      37    338      0      25       0      0    4355  159   \n",
       "3               0       0    238      0     422       0    200    5250  179   \n",
       "4               0       0     39      0     192       0     58    2638  108   \n",
       "5               0       0    178      0     119       0     26    4477  131   \n",
       "6               0       0     57      0      90       0     27    2206  102   \n",
       "7               0       0     14      0      91       0     54    1801   55   \n",
       "8               0       0      0      0      17       0     39    1455  364   \n",
       "9               0      49    416      0     115       0      0    5994  195   \n",
       "\n",
       "make  volkswagen  volvo  vpg  workhorse  total  winner  \n",
       "0            191      0    0          0  15935  toyota  \n",
       "1            212      0    0          0  14634  toyota  \n",
       "2            277      0    0          0  19526  toyota  \n",
       "3            678    114    0          0  21021  toyota  \n",
       "4            320      0    0          0  10873  toyota  \n",
       "5            320     28    0          0  15710  toyota  \n",
       "6            287      0    0          0   8989  toyota  \n",
       "7            328     25    0          0  10786  toyota  \n",
       "8             12     15    0          0   4903  toyota  \n",
       "9            394     11    0          0  27073  toyota  "
      ]
     },
     "execution_count": 53,
     "metadata": {},
     "output_type": "execute_result"
    }
   ],
   "source": [
    "make_zip.head(10)"
   ]
  },
  {
   "cell_type": "code",
   "execution_count": 54,
   "metadata": {},
   "outputs": [],
   "source": [
    "make_zip_top_ten = pd.DataFrame(make_zip[['zip','dodge','toyota','gmc','honda','ford','chevrolet','nissan',\\\n",
    "                               'bmw','hyundai','lexus','mercedes_benz','kia', 'total']])"
   ]
  },
  {
   "cell_type": "code",
   "execution_count": 55,
   "metadata": {},
   "outputs": [],
   "source": [
    "make_zip_top_ten.to_csv('output/make_zip_top_ten.csv')"
   ]
  },
  {
   "cell_type": "code",
   "execution_count": 56,
   "metadata": {},
   "outputs": [
    {
     "data": {
      "text/html": [
       "<div>\n",
       "<style scoped>\n",
       "    .dataframe tbody tr th:only-of-type {\n",
       "        vertical-align: middle;\n",
       "    }\n",
       "\n",
       "    .dataframe tbody tr th {\n",
       "        vertical-align: top;\n",
       "    }\n",
       "\n",
       "    .dataframe thead th {\n",
       "        text-align: right;\n",
       "    }\n",
       "</style>\n",
       "<table border=\"1\" class=\"dataframe\">\n",
       "  <thead>\n",
       "    <tr style=\"text-align: right;\">\n",
       "      <th>make</th>\n",
       "      <th>zip</th>\n",
       "      <th>dodge</th>\n",
       "      <th>toyota</th>\n",
       "      <th>gmc</th>\n",
       "      <th>honda</th>\n",
       "      <th>ford</th>\n",
       "      <th>chevrolet</th>\n",
       "      <th>nissan</th>\n",
       "      <th>bmw</th>\n",
       "      <th>hyundai</th>\n",
       "      <th>lexus</th>\n",
       "      <th>mercedes_benz</th>\n",
       "      <th>kia</th>\n",
       "      <th>total</th>\n",
       "    </tr>\n",
       "  </thead>\n",
       "  <tbody>\n",
       "    <tr>\n",
       "      <th>0</th>\n",
       "      <td>90001</td>\n",
       "      <td>663</td>\n",
       "      <td>3306</td>\n",
       "      <td>123</td>\n",
       "      <td>2471</td>\n",
       "      <td>1032</td>\n",
       "      <td>1670</td>\n",
       "      <td>2564</td>\n",
       "      <td>344</td>\n",
       "      <td>398</td>\n",
       "      <td>170</td>\n",
       "      <td>169</td>\n",
       "      <td>1034</td>\n",
       "      <td>15935</td>\n",
       "    </tr>\n",
       "    <tr>\n",
       "      <th>1</th>\n",
       "      <td>90002</td>\n",
       "      <td>641</td>\n",
       "      <td>3009</td>\n",
       "      <td>97</td>\n",
       "      <td>2149</td>\n",
       "      <td>926</td>\n",
       "      <td>1561</td>\n",
       "      <td>2447</td>\n",
       "      <td>240</td>\n",
       "      <td>371</td>\n",
       "      <td>176</td>\n",
       "      <td>174</td>\n",
       "      <td>1113</td>\n",
       "      <td>14634</td>\n",
       "    </tr>\n",
       "    <tr>\n",
       "      <th>2</th>\n",
       "      <td>90003</td>\n",
       "      <td>818</td>\n",
       "      <td>4355</td>\n",
       "      <td>153</td>\n",
       "      <td>2978</td>\n",
       "      <td>1179</td>\n",
       "      <td>1808</td>\n",
       "      <td>3106</td>\n",
       "      <td>332</td>\n",
       "      <td>433</td>\n",
       "      <td>247</td>\n",
       "      <td>303</td>\n",
       "      <td>1408</td>\n",
       "      <td>19526</td>\n",
       "    </tr>\n",
       "    <tr>\n",
       "      <th>3</th>\n",
       "      <td>90004</td>\n",
       "      <td>220</td>\n",
       "      <td>5250</td>\n",
       "      <td>11</td>\n",
       "      <td>3144</td>\n",
       "      <td>774</td>\n",
       "      <td>680</td>\n",
       "      <td>1812</td>\n",
       "      <td>1075</td>\n",
       "      <td>778</td>\n",
       "      <td>1176</td>\n",
       "      <td>889</td>\n",
       "      <td>686</td>\n",
       "      <td>21021</td>\n",
       "    </tr>\n",
       "    <tr>\n",
       "      <th>4</th>\n",
       "      <td>90005</td>\n",
       "      <td>52</td>\n",
       "      <td>2638</td>\n",
       "      <td>0</td>\n",
       "      <td>1769</td>\n",
       "      <td>341</td>\n",
       "      <td>260</td>\n",
       "      <td>877</td>\n",
       "      <td>759</td>\n",
       "      <td>610</td>\n",
       "      <td>822</td>\n",
       "      <td>640</td>\n",
       "      <td>401</td>\n",
       "      <td>10873</td>\n",
       "    </tr>\n",
       "  </tbody>\n",
       "</table>\n",
       "</div>"
      ],
      "text/plain": [
       "make    zip  dodge  toyota  gmc  honda  ford  chevrolet  nissan   bmw  \\\n",
       "0     90001    663    3306  123   2471  1032       1670    2564   344   \n",
       "1     90002    641    3009   97   2149   926       1561    2447   240   \n",
       "2     90003    818    4355  153   2978  1179       1808    3106   332   \n",
       "3     90004    220    5250   11   3144   774        680    1812  1075   \n",
       "4     90005     52    2638    0   1769   341        260     877   759   \n",
       "\n",
       "make  hyundai  lexus  mercedes_benz   kia  total  \n",
       "0         398    170            169  1034  15935  \n",
       "1         371    176            174  1113  14634  \n",
       "2         433    247            303  1408  19526  \n",
       "3         778   1176            889   686  21021  \n",
       "4         610    822            640   401  10873  "
      ]
     },
     "execution_count": 56,
     "metadata": {},
     "output_type": "execute_result"
    }
   ],
   "source": [
    "make_zip_top_ten.head()"
   ]
  },
  {
   "cell_type": "markdown",
   "metadata": {},
   "source": [
    "### How many Bentleys are there? "
   ]
  },
  {
   "cell_type": "code",
   "execution_count": 57,
   "metadata": {},
   "outputs": [],
   "source": [
    "bentley = pd.DataFrame(make_zip[['zip','bentley','total']])"
   ]
  },
  {
   "cell_type": "code",
   "execution_count": 58,
   "metadata": {},
   "outputs": [
    {
     "data": {
      "text/plain": [
       "464"
      ]
     },
     "execution_count": 58,
     "metadata": {},
     "output_type": "execute_result"
    }
   ],
   "source": [
    "bentley.bentley.sum()"
   ]
  },
  {
   "cell_type": "markdown",
   "metadata": {},
   "source": [
    "---"
   ]
  },
  {
   "cell_type": "markdown",
   "metadata": {},
   "source": [
    "### Isolate vehicle makes to include only Teslas"
   ]
  },
  {
   "cell_type": "code",
   "execution_count": 59,
   "metadata": {},
   "outputs": [],
   "source": [
    "tesla = vehicles[(vehicles['make'] == 'TESLA')]"
   ]
  },
  {
   "cell_type": "code",
   "execution_count": 60,
   "metadata": {},
   "outputs": [
    {
     "data": {
      "text/plain": [
       "174092"
      ]
     },
     "execution_count": 60,
     "metadata": {},
     "output_type": "execute_result"
    }
   ],
   "source": [
    "tesla.vehicles.sum()"
   ]
  },
  {
   "cell_type": "markdown",
   "metadata": {},
   "source": [
    "### Group by ZIP code and count the vehicles"
   ]
  },
  {
   "cell_type": "code",
   "execution_count": 61,
   "metadata": {},
   "outputs": [],
   "source": [
    "tesla_grouped = tesla.groupby(['zip']).agg({'vehicles':'sum'}).reset_index()"
   ]
  },
  {
   "cell_type": "markdown",
   "metadata": {},
   "source": [
    "### Merge with dataframe that includes all vehicle counts by ZIP code"
   ]
  },
  {
   "cell_type": "code",
   "execution_count": 62,
   "metadata": {},
   "outputs": [],
   "source": [
    "tesla_zips = pd.merge(tesla_grouped, zips, on='zip')"
   ]
  },
  {
   "cell_type": "markdown",
   "metadata": {},
   "source": [
    "### Rename the columns"
   ]
  },
  {
   "cell_type": "code",
   "execution_count": 63,
   "metadata": {},
   "outputs": [],
   "source": [
    "tesla_zips.rename(columns={'median': 'income','zip': 'zip', \\\n",
    "                           'vehicles_x':'teslas', 'vehicles_y':'all_vehicles'}, inplace=True)"
   ]
  },
  {
   "cell_type": "markdown",
   "metadata": {},
   "source": [
    "### Normalize Tesla ownership to a rate per 1,000 vehicles"
   ]
  },
  {
   "cell_type": "code",
   "execution_count": 64,
   "metadata": {},
   "outputs": [],
   "source": [
    "tesla_zips['tesla_rate_1k'] = ((tesla_zips.teslas / tesla_zips.all_vehicles) * 1000).round(2)"
   ]
  },
  {
   "cell_type": "code",
   "execution_count": 65,
   "metadata": {},
   "outputs": [
    {
     "data": {
      "text/html": [
       "<div>\n",
       "<style scoped>\n",
       "    .dataframe tbody tr th:only-of-type {\n",
       "        vertical-align: middle;\n",
       "    }\n",
       "\n",
       "    .dataframe tbody tr th {\n",
       "        vertical-align: top;\n",
       "    }\n",
       "\n",
       "    .dataframe thead th {\n",
       "        text-align: right;\n",
       "    }\n",
       "</style>\n",
       "<table border=\"1\" class=\"dataframe\">\n",
       "  <thead>\n",
       "    <tr style=\"text-align: right;\">\n",
       "      <th></th>\n",
       "      <th>zip</th>\n",
       "      <th>teslas</th>\n",
       "      <th>name</th>\n",
       "      <th>avg_house_income</th>\n",
       "      <th>avg_net_worth</th>\n",
       "      <th>population</th>\n",
       "      <th>geometry</th>\n",
       "      <th>all_vehicles</th>\n",
       "      <th>tesla_rate_1k</th>\n",
       "    </tr>\n",
       "  </thead>\n",
       "  <tbody>\n",
       "    <tr>\n",
       "      <th>563</th>\n",
       "      <td>94027</td>\n",
       "      <td>527</td>\n",
       "      <td>Atherton</td>\n",
       "      <td>297732</td>\n",
       "      <td>3680197</td>\n",
       "      <td>7230</td>\n",
       "      <td>POLYGON ((-122.18637 37.47669, -122.18677 37.4...</td>\n",
       "      <td>5132</td>\n",
       "      <td>102.69</td>\n",
       "    </tr>\n",
       "    <tr>\n",
       "      <th>560</th>\n",
       "      <td>94022</td>\n",
       "      <td>1227</td>\n",
       "      <td>Los Altos</td>\n",
       "      <td>248970</td>\n",
       "      <td>3041961</td>\n",
       "      <td>20626</td>\n",
       "      <td>MULTIPOLYGON (((-122.18221 37.32678, -122.1840...</td>\n",
       "      <td>13697</td>\n",
       "      <td>89.58</td>\n",
       "    </tr>\n",
       "    <tr>\n",
       "      <th>608</th>\n",
       "      <td>94301</td>\n",
       "      <td>764</td>\n",
       "      <td>Palo Alto</td>\n",
       "      <td>224861</td>\n",
       "      <td>1760729</td>\n",
       "      <td>18694</td>\n",
       "      <td>MULTIPOLYGON (((-122.15390 37.43499, -122.1540...</td>\n",
       "      <td>9338</td>\n",
       "      <td>81.82</td>\n",
       "    </tr>\n",
       "    <tr>\n",
       "      <th>561</th>\n",
       "      <td>94024</td>\n",
       "      <td>1210</td>\n",
       "      <td>Los Altos</td>\n",
       "      <td>259185</td>\n",
       "      <td>3442702</td>\n",
       "      <td>23198</td>\n",
       "      <td>POLYGON ((-122.06023 37.32855, -122.05966 37.3...</td>\n",
       "      <td>14870</td>\n",
       "      <td>81.37</td>\n",
       "    </tr>\n",
       "    <tr>\n",
       "      <th>564</th>\n",
       "      <td>94028</td>\n",
       "      <td>358</td>\n",
       "      <td>Portola Valley</td>\n",
       "      <td>263238</td>\n",
       "      <td>3322715</td>\n",
       "      <td>6639</td>\n",
       "      <td>MULTIPOLYGON (((-122.19602 37.34043, -122.1965...</td>\n",
       "      <td>4794</td>\n",
       "      <td>74.68</td>\n",
       "    </tr>\n",
       "    <tr>\n",
       "      <th>744</th>\n",
       "      <td>95070</td>\n",
       "      <td>1586</td>\n",
       "      <td>Saratoga</td>\n",
       "      <td>243915</td>\n",
       "      <td>3157204</td>\n",
       "      <td>32730</td>\n",
       "      <td>MULTIPOLYGON (((-122.03330 37.21780, -122.0333...</td>\n",
       "      <td>21379</td>\n",
       "      <td>74.18</td>\n",
       "    </tr>\n",
       "    <tr>\n",
       "      <th>416</th>\n",
       "      <td>92657</td>\n",
       "      <td>573</td>\n",
       "      <td>Newport Coast</td>\n",
       "      <td>244565</td>\n",
       "      <td>2836260</td>\n",
       "      <td>11464</td>\n",
       "      <td>POLYGON ((-117.83830 33.63005, -117.84189 33.6...</td>\n",
       "      <td>8297</td>\n",
       "      <td>69.06</td>\n",
       "    </tr>\n",
       "    <tr>\n",
       "      <th>640</th>\n",
       "      <td>94539</td>\n",
       "      <td>1931</td>\n",
       "      <td>Fremont</td>\n",
       "      <td>198198</td>\n",
       "      <td>2070851</td>\n",
       "      <td>54673</td>\n",
       "      <td>POLYGON ((-121.91724 37.45826, -121.91689 37.4...</td>\n",
       "      <td>31330</td>\n",
       "      <td>61.63</td>\n",
       "    </tr>\n",
       "    <tr>\n",
       "      <th>731</th>\n",
       "      <td>95030</td>\n",
       "      <td>568</td>\n",
       "      <td>Los Gatos</td>\n",
       "      <td>233429</td>\n",
       "      <td>2476366</td>\n",
       "      <td>13618</td>\n",
       "      <td>MULTIPOLYGON (((-121.95302 37.21059, -121.9535...</td>\n",
       "      <td>9309</td>\n",
       "      <td>61.02</td>\n",
       "    </tr>\n",
       "    <tr>\n",
       "      <th>772</th>\n",
       "      <td>95138</td>\n",
       "      <td>710</td>\n",
       "      <td>San Jose</td>\n",
       "      <td>181584</td>\n",
       "      <td>1376395</td>\n",
       "      <td>19789</td>\n",
       "      <td>MULTIPOLYGON (((-121.74690 37.22353, -121.7478...</td>\n",
       "      <td>11800</td>\n",
       "      <td>60.17</td>\n",
       "    </tr>\n",
       "  </tbody>\n",
       "</table>\n",
       "</div>"
      ],
      "text/plain": [
       "       zip  teslas            name  avg_house_income  avg_net_worth  \\\n",
       "563  94027     527        Atherton            297732        3680197   \n",
       "560  94022    1227       Los Altos            248970        3041961   \n",
       "608  94301     764       Palo Alto            224861        1760729   \n",
       "561  94024    1210       Los Altos            259185        3442702   \n",
       "564  94028     358  Portola Valley            263238        3322715   \n",
       "744  95070    1586        Saratoga            243915        3157204   \n",
       "416  92657     573   Newport Coast            244565        2836260   \n",
       "640  94539    1931         Fremont            198198        2070851   \n",
       "731  95030     568       Los Gatos            233429        2476366   \n",
       "772  95138     710        San Jose            181584        1376395   \n",
       "\n",
       "     population                                           geometry  \\\n",
       "563        7230  POLYGON ((-122.18637 37.47669, -122.18677 37.4...   \n",
       "560       20626  MULTIPOLYGON (((-122.18221 37.32678, -122.1840...   \n",
       "608       18694  MULTIPOLYGON (((-122.15390 37.43499, -122.1540...   \n",
       "561       23198  POLYGON ((-122.06023 37.32855, -122.05966 37.3...   \n",
       "564        6639  MULTIPOLYGON (((-122.19602 37.34043, -122.1965...   \n",
       "744       32730  MULTIPOLYGON (((-122.03330 37.21780, -122.0333...   \n",
       "416       11464  POLYGON ((-117.83830 33.63005, -117.84189 33.6...   \n",
       "640       54673  POLYGON ((-121.91724 37.45826, -121.91689 37.4...   \n",
       "731       13618  MULTIPOLYGON (((-121.95302 37.21059, -121.9535...   \n",
       "772       19789  MULTIPOLYGON (((-121.74690 37.22353, -121.7478...   \n",
       "\n",
       "     all_vehicles  tesla_rate_1k  \n",
       "563          5132         102.69  \n",
       "560         13697          89.58  \n",
       "608          9338          81.82  \n",
       "561         14870          81.37  \n",
       "564          4794          74.68  \n",
       "744         21379          74.18  \n",
       "416          8297          69.06  \n",
       "640         31330          61.63  \n",
       "731          9309          61.02  \n",
       "772         11800          60.17  "
      ]
     },
     "execution_count": 65,
     "metadata": {},
     "output_type": "execute_result"
    }
   ],
   "source": [
    "tesla_zips.sort_values(by='tesla_rate_1k', ascending=False).head(10)"
   ]
  },
  {
   "cell_type": "code",
   "execution_count": 66,
   "metadata": {},
   "outputs": [
    {
     "data": {
      "text/plain": [
       "[0.34, 5.76, 12.83, 23.61, 38.9, 61.63, 102.69]"
      ]
     },
     "execution_count": 66,
     "metadata": {},
     "output_type": "execute_result"
    }
   ],
   "source": [
    "tesla_breaks \\\n",
    "= jenkspy.jenks_breaks(tesla_zips.tesla_rate_1k, nb_class=6)\n",
    "tesla_breaks"
   ]
  },
  {
   "cell_type": "code",
   "execution_count": 67,
   "metadata": {},
   "outputs": [],
   "source": [
    "tesla_zips.to_csv('output/tesla_zips.csv')"
   ]
  },
  {
   "cell_type": "code",
   "execution_count": 68,
   "metadata": {},
   "outputs": [],
   "source": [
    "tesla_zips_slim = pd.DataFrame(tesla_zips[['zip','name','teslas','all_vehicles','tesla_rate_1k', 'avg_house_income', 'avg_net_worth']])"
   ]
  },
  {
   "cell_type": "code",
   "execution_count": 69,
   "metadata": {},
   "outputs": [
    {
     "data": {
      "text/html": [
       "<div>\n",
       "<style scoped>\n",
       "    .dataframe tbody tr th:only-of-type {\n",
       "        vertical-align: middle;\n",
       "    }\n",
       "\n",
       "    .dataframe tbody tr th {\n",
       "        vertical-align: top;\n",
       "    }\n",
       "\n",
       "    .dataframe thead th {\n",
       "        text-align: right;\n",
       "    }\n",
       "</style>\n",
       "<table border=\"1\" class=\"dataframe\">\n",
       "  <thead>\n",
       "    <tr style=\"text-align: right;\">\n",
       "      <th></th>\n",
       "      <th>zip</th>\n",
       "      <th>name</th>\n",
       "      <th>teslas</th>\n",
       "      <th>all_vehicles</th>\n",
       "      <th>tesla_rate_1k</th>\n",
       "      <th>avg_house_income</th>\n",
       "      <th>avg_net_worth</th>\n",
       "    </tr>\n",
       "  </thead>\n",
       "  <tbody>\n",
       "    <tr>\n",
       "      <th>563</th>\n",
       "      <td>94027</td>\n",
       "      <td>Atherton</td>\n",
       "      <td>527</td>\n",
       "      <td>5132</td>\n",
       "      <td>102.69</td>\n",
       "      <td>297732</td>\n",
       "      <td>3680197</td>\n",
       "    </tr>\n",
       "    <tr>\n",
       "      <th>560</th>\n",
       "      <td>94022</td>\n",
       "      <td>Los Altos</td>\n",
       "      <td>1227</td>\n",
       "      <td>13697</td>\n",
       "      <td>89.58</td>\n",
       "      <td>248970</td>\n",
       "      <td>3041961</td>\n",
       "    </tr>\n",
       "    <tr>\n",
       "      <th>608</th>\n",
       "      <td>94301</td>\n",
       "      <td>Palo Alto</td>\n",
       "      <td>764</td>\n",
       "      <td>9338</td>\n",
       "      <td>81.82</td>\n",
       "      <td>224861</td>\n",
       "      <td>1760729</td>\n",
       "    </tr>\n",
       "    <tr>\n",
       "      <th>561</th>\n",
       "      <td>94024</td>\n",
       "      <td>Los Altos</td>\n",
       "      <td>1210</td>\n",
       "      <td>14870</td>\n",
       "      <td>81.37</td>\n",
       "      <td>259185</td>\n",
       "      <td>3442702</td>\n",
       "    </tr>\n",
       "    <tr>\n",
       "      <th>564</th>\n",
       "      <td>94028</td>\n",
       "      <td>Portola Valley</td>\n",
       "      <td>358</td>\n",
       "      <td>4794</td>\n",
       "      <td>74.68</td>\n",
       "      <td>263238</td>\n",
       "      <td>3322715</td>\n",
       "    </tr>\n",
       "    <tr>\n",
       "      <th>744</th>\n",
       "      <td>95070</td>\n",
       "      <td>Saratoga</td>\n",
       "      <td>1586</td>\n",
       "      <td>21379</td>\n",
       "      <td>74.18</td>\n",
       "      <td>243915</td>\n",
       "      <td>3157204</td>\n",
       "    </tr>\n",
       "    <tr>\n",
       "      <th>416</th>\n",
       "      <td>92657</td>\n",
       "      <td>Newport Coast</td>\n",
       "      <td>573</td>\n",
       "      <td>8297</td>\n",
       "      <td>69.06</td>\n",
       "      <td>244565</td>\n",
       "      <td>2836260</td>\n",
       "    </tr>\n",
       "    <tr>\n",
       "      <th>640</th>\n",
       "      <td>94539</td>\n",
       "      <td>Fremont</td>\n",
       "      <td>1931</td>\n",
       "      <td>31330</td>\n",
       "      <td>61.63</td>\n",
       "      <td>198198</td>\n",
       "      <td>2070851</td>\n",
       "    </tr>\n",
       "    <tr>\n",
       "      <th>731</th>\n",
       "      <td>95030</td>\n",
       "      <td>Los Gatos</td>\n",
       "      <td>568</td>\n",
       "      <td>9309</td>\n",
       "      <td>61.02</td>\n",
       "      <td>233429</td>\n",
       "      <td>2476366</td>\n",
       "    </tr>\n",
       "    <tr>\n",
       "      <th>772</th>\n",
       "      <td>95138</td>\n",
       "      <td>San Jose</td>\n",
       "      <td>710</td>\n",
       "      <td>11800</td>\n",
       "      <td>60.17</td>\n",
       "      <td>181584</td>\n",
       "      <td>1376395</td>\n",
       "    </tr>\n",
       "  </tbody>\n",
       "</table>\n",
       "</div>"
      ],
      "text/plain": [
       "       zip            name  teslas  all_vehicles  tesla_rate_1k  \\\n",
       "563  94027        Atherton     527          5132         102.69   \n",
       "560  94022       Los Altos    1227         13697          89.58   \n",
       "608  94301       Palo Alto     764          9338          81.82   \n",
       "561  94024       Los Altos    1210         14870          81.37   \n",
       "564  94028  Portola Valley     358          4794          74.68   \n",
       "744  95070        Saratoga    1586         21379          74.18   \n",
       "416  92657   Newport Coast     573          8297          69.06   \n",
       "640  94539         Fremont    1931         31330          61.63   \n",
       "731  95030       Los Gatos     568          9309          61.02   \n",
       "772  95138        San Jose     710         11800          60.17   \n",
       "\n",
       "     avg_house_income  avg_net_worth  \n",
       "563            297732        3680197  \n",
       "560            248970        3041961  \n",
       "608            224861        1760729  \n",
       "561            259185        3442702  \n",
       "564            263238        3322715  \n",
       "744            243915        3157204  \n",
       "416            244565        2836260  \n",
       "640            198198        2070851  \n",
       "731            233429        2476366  \n",
       "772            181584        1376395  "
      ]
     },
     "execution_count": 69,
     "metadata": {},
     "output_type": "execute_result"
    }
   ],
   "source": [
    "tesla_zips_slim.sort_values(by='tesla_rate_1k', ascending=False).head(10)"
   ]
  },
  {
   "cell_type": "markdown",
   "metadata": {},
   "source": [
    "### How predictive is income  "
   ]
  },
  {
   "cell_type": "code",
   "execution_count": 70,
   "metadata": {
    "scrolled": true
   },
   "outputs": [
    {
     "data": {
      "text/html": [
       "<div>\n",
       "<style scoped>\n",
       "    .dataframe tbody tr th:only-of-type {\n",
       "        vertical-align: middle;\n",
       "    }\n",
       "\n",
       "    .dataframe tbody tr th {\n",
       "        vertical-align: top;\n",
       "    }\n",
       "\n",
       "    .dataframe thead th {\n",
       "        text-align: right;\n",
       "    }\n",
       "</style>\n",
       "<table border=\"1\" class=\"dataframe\">\n",
       "  <thead>\n",
       "    <tr style=\"text-align: right;\">\n",
       "      <th></th>\n",
       "      <th>zip</th>\n",
       "      <th>teslas</th>\n",
       "      <th>name</th>\n",
       "      <th>avg_house_income</th>\n",
       "      <th>avg_net_worth</th>\n",
       "      <th>population</th>\n",
       "      <th>geometry</th>\n",
       "      <th>all_vehicles</th>\n",
       "      <th>tesla_rate_1k</th>\n",
       "    </tr>\n",
       "  </thead>\n",
       "  <tbody>\n",
       "    <tr>\n",
       "      <th>0</th>\n",
       "      <td>90004</td>\n",
       "      <td>200</td>\n",
       "      <td>Los Angeles</td>\n",
       "      <td>65893</td>\n",
       "      <td>232653</td>\n",
       "      <td>63987</td>\n",
       "      <td>MULTIPOLYGON (((-118.33852 34.06891, -118.3371...</td>\n",
       "      <td>22597</td>\n",
       "      <td>8.85</td>\n",
       "    </tr>\n",
       "    <tr>\n",
       "      <th>1</th>\n",
       "      <td>90005</td>\n",
       "      <td>58</td>\n",
       "      <td>Los Angeles</td>\n",
       "      <td>53191</td>\n",
       "      <td>105569</td>\n",
       "      <td>41844</td>\n",
       "      <td>POLYGON ((-118.31879 34.05514, -118.31861 34.0...</td>\n",
       "      <td>12410</td>\n",
       "      <td>4.67</td>\n",
       "    </tr>\n",
       "    <tr>\n",
       "      <th>2</th>\n",
       "      <td>90006</td>\n",
       "      <td>26</td>\n",
       "      <td>Los Angeles</td>\n",
       "      <td>42242</td>\n",
       "      <td>39289</td>\n",
       "      <td>61184</td>\n",
       "      <td>POLYGON ((-118.30534 34.05587, -118.30534 34.0...</td>\n",
       "      <td>17142</td>\n",
       "      <td>1.52</td>\n",
       "    </tr>\n",
       "    <tr>\n",
       "      <th>3</th>\n",
       "      <td>90007</td>\n",
       "      <td>27</td>\n",
       "      <td>Los Angeles</td>\n",
       "      <td>38564</td>\n",
       "      <td>39966</td>\n",
       "      <td>45381</td>\n",
       "      <td>POLYGON ((-118.27622 34.01303, -118.27402 34.0...</td>\n",
       "      <td>10520</td>\n",
       "      <td>2.57</td>\n",
       "    </tr>\n",
       "    <tr>\n",
       "      <th>4</th>\n",
       "      <td>90008</td>\n",
       "      <td>54</td>\n",
       "      <td>Los Angeles</td>\n",
       "      <td>56286</td>\n",
       "      <td>284531</td>\n",
       "      <td>34600</td>\n",
       "      <td>POLYGON ((-118.32251 34.01851, -118.32491 34.0...</td>\n",
       "      <td>12562</td>\n",
       "      <td>4.30</td>\n",
       "    </tr>\n",
       "  </tbody>\n",
       "</table>\n",
       "</div>"
      ],
      "text/plain": [
       "     zip  teslas         name  avg_house_income  avg_net_worth  population  \\\n",
       "0  90004     200  Los Angeles             65893         232653       63987   \n",
       "1  90005      58  Los Angeles             53191         105569       41844   \n",
       "2  90006      26  Los Angeles             42242          39289       61184   \n",
       "3  90007      27  Los Angeles             38564          39966       45381   \n",
       "4  90008      54  Los Angeles             56286         284531       34600   \n",
       "\n",
       "                                            geometry  all_vehicles  \\\n",
       "0  MULTIPOLYGON (((-118.33852 34.06891, -118.3371...         22597   \n",
       "1  POLYGON ((-118.31879 34.05514, -118.31861 34.0...         12410   \n",
       "2  POLYGON ((-118.30534 34.05587, -118.30534 34.0...         17142   \n",
       "3  POLYGON ((-118.27622 34.01303, -118.27402 34.0...         10520   \n",
       "4  POLYGON ((-118.32251 34.01851, -118.32491 34.0...         12562   \n",
       "\n",
       "   tesla_rate_1k  \n",
       "0           8.85  \n",
       "1           4.67  \n",
       "2           1.52  \n",
       "3           2.57  \n",
       "4           4.30  "
      ]
     },
     "execution_count": 70,
     "metadata": {},
     "output_type": "execute_result"
    }
   ],
   "source": [
    "tesla_zips.head()"
   ]
  },
  {
   "cell_type": "code",
   "execution_count": 71,
   "metadata": {},
   "outputs": [],
   "source": [
    "tesla_zips_corr = tesla_zips_slim[['tesla_rate_1k', 'avg_house_income']]"
   ]
  },
  {
   "cell_type": "code",
   "execution_count": 72,
   "metadata": {},
   "outputs": [],
   "source": [
    "corr = tesla_zips_corr.corr(method ='pearson')"
   ]
  },
  {
   "cell_type": "code",
   "execution_count": 73,
   "metadata": {},
   "outputs": [
    {
     "name": "stdout",
     "output_type": "stream",
     "text": [
      "                  tesla_rate_1k  avg_house_income\n",
      "tesla_rate_1k              1.00              0.83\n",
      "avg_house_income           0.83              1.00\n"
     ]
    }
   ],
   "source": [
    "print(corr)"
   ]
  },
  {
   "cell_type": "code",
   "execution_count": 74,
   "metadata": {},
   "outputs": [
    {
     "data": {
      "text/html": [
       "\n",
       "<div id=\"altair-viz-0c65cab1c52c4b18926ac9066bc43dea\"></div>\n",
       "<script type=\"text/javascript\">\n",
       "  (function(spec, embedOpt){\n",
       "    let outputDiv = document.currentScript.previousElementSibling;\n",
       "    if (outputDiv.id !== \"altair-viz-0c65cab1c52c4b18926ac9066bc43dea\") {\n",
       "      outputDiv = document.getElementById(\"altair-viz-0c65cab1c52c4b18926ac9066bc43dea\");\n",
       "    }\n",
       "    const paths = {\n",
       "      \"vega\": \"https://cdn.jsdelivr.net/npm//vega@5?noext\",\n",
       "      \"vega-lib\": \"https://cdn.jsdelivr.net/npm//vega-lib?noext\",\n",
       "      \"vega-lite\": \"https://cdn.jsdelivr.net/npm//vega-lite@4.8.1?noext\",\n",
       "      \"vega-embed\": \"https://cdn.jsdelivr.net/npm//vega-embed@6?noext\",\n",
       "    };\n",
       "\n",
       "    function loadScript(lib) {\n",
       "      return new Promise(function(resolve, reject) {\n",
       "        var s = document.createElement('script');\n",
       "        s.src = paths[lib];\n",
       "        s.async = true;\n",
       "        s.onload = () => resolve(paths[lib]);\n",
       "        s.onerror = () => reject(`Error loading script: ${paths[lib]}`);\n",
       "        document.getElementsByTagName(\"head\")[0].appendChild(s);\n",
       "      });\n",
       "    }\n",
       "\n",
       "    function showError(err) {\n",
       "      outputDiv.innerHTML = `<div class=\"error\" style=\"color:red;\">${err}</div>`;\n",
       "      throw err;\n",
       "    }\n",
       "\n",
       "    function displayChart(vegaEmbed) {\n",
       "      vegaEmbed(outputDiv, spec, embedOpt)\n",
       "        .catch(err => showError(`Javascript Error: ${err.message}<br>This usually means there's a typo in your chart specification. See the javascript console for the full traceback.`));\n",
       "    }\n",
       "\n",
       "    if(typeof define === \"function\" && define.amd) {\n",
       "      requirejs.config({paths});\n",
       "      require([\"vega-embed\"], displayChart, err => showError(`Error loading script: ${err.message}`));\n",
       "    } else if (typeof vegaEmbed === \"function\") {\n",
       "      displayChart(vegaEmbed);\n",
       "    } else {\n",
       "      loadScript(\"vega\")\n",
       "        .then(() => loadScript(\"vega-lite\"))\n",
       "        .then(() => loadScript(\"vega-embed\"))\n",
       "        .catch(showError)\n",
       "        .then(() => displayChart(vegaEmbed));\n",
       "    }\n",
       "  })({\"config\": {\"view\": {\"width\": 800, \"height\": 450}, \"background\": \"#ffffff\", \"title\": {\"anchor\": \"start\", \"font\": \"Benton Gothic Bold, sans\", \"fontColor\": \"#000000\", \"fontSize\": 22, \"fontWeight\": \"normal\"}, \"arc\": {\"fill\": \"#82c6df\"}, \"area\": {\"fill\": \"#82c6df\"}, \"line\": {\"stroke\": \"#82c6df\", \"strokeWidth\": 3}, \"path\": {\"stroke\": \"#82c6df\"}, \"rect\": {\"fill\": \"#82c6df\"}, \"shape\": {\"stroke\": \"#82c6df\"}, \"bar\": {\"fill\": \"#82c6df\"}, \"point\": {\"stroke\": \"#82c6df\"}, \"symbol\": {\"fill\": \"#82c6df\", \"size\": 30}, \"axis\": {\"titleFont\": \"Benton Gothic Bold, sans\", \"titleFontSize\": 13, \"titleFontWeight\": \"normal\", \"labelFont\": \"Benton Gothic, sans\", \"labelFontSize\": 11.5, \"labelFontWeight\": \"normal\"}, \"axisX\": {\"labelAngle\": 0, \"labelPadding\": 4, \"tickSize\": 3}, \"axisY\": {\"labelBaseline\": \"middle\", \"maxExtent\": 45, \"minExtent\": 45, \"tickSize\": 2, \"titleAlign\": \"left\", \"titleAngle\": 0, \"titleX\": -45, \"titleY\": -11}, \"legend\": {\"titleFont\": \"Benton Gothic Bold, sans\", \"titleFontSize\": 13, \"titleFontWeight\": \"normal\", \"symbolType\": \"square\", \"labelFont\": \"Benton Gothic, sans\", \"labelFontSize\": 11.5}, \"range\": {\"category\": [\"#3580b1\", \"#ec8431\", \"#ab7fb4\", \"#c89d29\", \"#adc839\", \"#829eb1\"], \"diverging\": [\"#e68a4f\", \"#f4bb6a\", \"#f9e39c\", \"#dadfe2\", \"#a6b7c6\", \"#849eae\"], \"heatmap\": [\"#fbf2c7\", \"#f9e39c\", \"#f8d36e\", \"#f4bb6a\", \"#e68a4f\", \"#d15a40\", \"#ab4232\"], \"ordinal\": [\"#fbf2c7\", \"#f9e39c\", \"#f8d36e\", \"#f4bb6a\", \"#e68a4f\", \"#d15a40\", \"#ab4232\"], \"ramp\": [\"#fbf2c7\", \"#f9e39c\", \"#f8d36e\", \"#f4bb6a\", \"#e68a4f\", \"#d15a40\", \"#ab4232\"]}}, \"data\": {\"name\": \"data-e01667d83aded6b3c2be67e8b519c063\"}, \"mark\": {\"type\": \"circle\", \"size\": 60}, \"encoding\": {\"tooltip\": [{\"type\": \"nominal\", \"field\": \"zip\"}, {\"type\": \"ordinal\", \"field\": \"teslas\"}, {\"type\": \"quantitative\", \"field\": \"avg_net_worth\"}, {\"type\": \"quantitative\", \"field\": \"tesla_rate_1k\"}], \"x\": {\"type\": \"quantitative\", \"axis\": {\"tickCount\": 6}, \"field\": \"tesla_rate_1k\", \"title\": \"Tesla rate per 1,000 vehicles\"}, \"y\": {\"type\": \"quantitative\", \"axis\": {\"format\": \"$,N\", \"tickCount\": 5}, \"field\": \"avg_net_worth\", \"title\": \"Avg net worth\"}}, \"height\": 500, \"width\": 500, \"$schema\": \"https://vega.github.io/schema/vega-lite/v4.8.1.json\", \"datasets\": {\"data-e01667d83aded6b3c2be67e8b519c063\": [{\"zip\": \"90004\", \"name\": \"Los Angeles\", \"teslas\": 200, \"all_vehicles\": 22597, \"tesla_rate_1k\": 8.85, \"avg_house_income\": 65893, \"avg_net_worth\": 232653}, {\"zip\": \"90005\", \"name\": \"Los Angeles\", \"teslas\": 58, \"all_vehicles\": 12410, \"tesla_rate_1k\": 4.67, \"avg_house_income\": 53191, \"avg_net_worth\": 105569}, {\"zip\": \"90006\", \"name\": \"Los Angeles\", \"teslas\": 26, \"all_vehicles\": 17142, \"tesla_rate_1k\": 1.52, \"avg_house_income\": 42242, \"avg_net_worth\": 39289}, {\"zip\": \"90007\", \"name\": \"Los Angeles\", \"teslas\": 27, \"all_vehicles\": 10520, \"tesla_rate_1k\": 2.57, \"avg_house_income\": 38564, \"avg_net_worth\": 39966}, {\"zip\": \"90008\", \"name\": \"Los Angeles\", \"teslas\": 54, \"all_vehicles\": 12562, \"tesla_rate_1k\": 4.3, \"avg_house_income\": 56286, \"avg_net_worth\": 284531}, {\"zip\": \"90010\", \"name\": \"Los Angeles\", \"teslas\": 39, \"all_vehicles\": 6082, \"tesla_rate_1k\": 6.41, \"avg_house_income\": 53753, \"avg_net_worth\": 59071}, {\"zip\": \"90012\", \"name\": \"Los Angeles\", \"teslas\": 88, \"all_vehicles\": 17717, \"tesla_rate_1k\": 4.97, \"avg_house_income\": 51188, \"avg_net_worth\": 68935}, {\"zip\": \"90013\", \"name\": \"Los Angeles\", \"teslas\": 40, \"all_vehicles\": 3210, \"tesla_rate_1k\": 12.46, \"avg_house_income\": 49192, \"avg_net_worth\": 63747}, {\"zip\": \"90014\", \"name\": \"Los Angeles\", \"teslas\": 56, \"all_vehicles\": 2796, \"tesla_rate_1k\": 20.03, \"avg_house_income\": 43242, \"avg_net_worth\": 39950}, {\"zip\": \"90015\", \"name\": \"Los Angeles\", \"teslas\": 126, \"all_vehicles\": 8770, \"tesla_rate_1k\": 14.37, \"avg_house_income\": 62200, \"avg_net_worth\": 100689}, {\"zip\": \"90016\", \"name\": \"Los Angeles\", \"teslas\": 73, \"all_vehicles\": 18972, \"tesla_rate_1k\": 3.85, \"avg_house_income\": 55582, \"avg_net_worth\": 175853}, {\"zip\": \"90017\", \"name\": \"Los Angeles\", \"teslas\": 86, \"all_vehicles\": 8514, \"tesla_rate_1k\": 10.1, \"avg_house_income\": 43408, \"avg_net_worth\": 40713}, {\"zip\": \"90018\", \"name\": \"Los Angeles\", \"teslas\": 32, \"all_vehicles\": 17986, \"tesla_rate_1k\": 1.78, \"avg_house_income\": 52309, \"avg_net_worth\": 115776}, {\"zip\": \"90019\", \"name\": \"Los Angeles\", \"teslas\": 181, \"all_vehicles\": 25774, \"tesla_rate_1k\": 7.02, \"avg_house_income\": 72111, \"avg_net_worth\": 177964}, {\"zip\": \"90020\", \"name\": \"Los Angeles\", \"teslas\": 67, \"all_vehicles\": 14870, \"tesla_rate_1k\": 4.51, \"avg_house_income\": 57416, \"avg_net_worth\": 128492}, {\"zip\": \"90021\", \"name\": \"Los Angeles\", \"teslas\": 42, \"all_vehicles\": 1914, \"tesla_rate_1k\": 21.94, \"avg_house_income\": 40958, \"avg_net_worth\": 39156}, {\"zip\": \"90023\", \"name\": \"Los Angeles\", \"teslas\": 11, \"all_vehicles\": 14444, \"tesla_rate_1k\": 0.76, \"avg_house_income\": 45562, \"avg_net_worth\": 79217}, {\"zip\": \"90024\", \"name\": \"Los Angeles\", \"teslas\": 482, \"all_vehicles\": 15817, \"tesla_rate_1k\": 30.47, \"avg_house_income\": 123841, \"avg_net_worth\": 709379}, {\"zip\": \"90025\", \"name\": \"Los Angeles\", \"teslas\": 453, \"all_vehicles\": 24135, \"tesla_rate_1k\": 18.77, \"avg_house_income\": 115619, \"avg_net_worth\": 333376}, {\"zip\": \"90026\", \"name\": \"Los Angeles\", \"teslas\": 186, \"all_vehicles\": 24518, \"tesla_rate_1k\": 7.59, \"avg_house_income\": 72819, \"avg_net_worth\": 152557}, {\"zip\": \"90027\", \"name\": \"Los Angeles\", \"teslas\": 302, \"all_vehicles\": 21097, \"tesla_rate_1k\": 14.31, \"avg_house_income\": 86923, \"avg_net_worth\": 349921}, {\"zip\": \"90028\", \"name\": \"Los Angeles\", \"teslas\": 101, \"all_vehicles\": 12049, \"tesla_rate_1k\": 8.38, \"avg_house_income\": 50625, \"avg_net_worth\": 37237}, {\"zip\": \"90029\", \"name\": \"Los Angeles\", \"teslas\": 25, \"all_vehicles\": 11945, \"tesla_rate_1k\": 2.09, \"avg_house_income\": 51845, \"avg_net_worth\": 58247}, {\"zip\": \"90031\", \"name\": \"Los Angeles\", \"teslas\": 44, \"all_vehicles\": 13581, \"tesla_rate_1k\": 3.24, \"avg_house_income\": 55158, \"avg_net_worth\": 125306}, {\"zip\": \"90032\", \"name\": \"Los Angeles\", \"teslas\": 51, \"all_vehicles\": 17198, \"tesla_rate_1k\": 2.97, \"avg_house_income\": 60507, \"avg_net_worth\": 196457}, {\"zip\": \"90034\", \"name\": \"Los Angeles\", \"teslas\": 275, \"all_vehicles\": 27149, \"tesla_rate_1k\": 10.13, \"avg_house_income\": 88027, \"avg_net_worth\": 284628}, {\"zip\": \"90035\", \"name\": \"Los Angeles\", \"teslas\": 148, \"all_vehicles\": 14782, \"tesla_rate_1k\": 10.01, \"avg_house_income\": 113986, \"avg_net_worth\": 502212}, {\"zip\": \"90036\", \"name\": \"Los Angeles\", \"teslas\": 244, \"all_vehicles\": 20228, \"tesla_rate_1k\": 12.06, \"avg_house_income\": 117665, \"avg_net_worth\": 317300}, {\"zip\": \"90038\", \"name\": \"Los Angeles\", \"teslas\": 53, \"all_vehicles\": 10787, \"tesla_rate_1k\": 4.91, \"avg_house_income\": 56852, \"avg_net_worth\": 63824}, {\"zip\": \"90039\", \"name\": \"Los Angeles\", \"teslas\": 184, \"all_vehicles\": 14611, \"tesla_rate_1k\": 12.59, \"avg_house_income\": 100278, \"avg_net_worth\": 439489}, {\"zip\": \"90040\", \"name\": \"Los Angeles\", \"teslas\": 30, \"all_vehicles\": 6567, \"tesla_rate_1k\": 4.57, \"avg_house_income\": 61815, \"avg_net_worth\": 174156}, {\"zip\": \"90041\", \"name\": \"Los Angeles\", \"teslas\": 103, \"all_vehicles\": 12441, \"tesla_rate_1k\": 8.28, \"avg_house_income\": 94562, \"avg_net_worth\": 517547}, {\"zip\": \"90042\", \"name\": \"Los Angeles\", \"teslas\": 145, \"all_vehicles\": 24416, \"tesla_rate_1k\": 5.94, \"avg_house_income\": 71450, \"avg_net_worth\": 238700}, {\"zip\": \"90043\", \"name\": \"Los Angeles\", \"teslas\": 90, \"all_vehicles\": 18582, \"tesla_rate_1k\": 4.84, \"avg_house_income\": 66403, \"avg_net_worth\": 443312}, {\"zip\": \"90044\", \"name\": \"Los Angeles\", \"teslas\": 11, \"all_vehicles\": 28329, \"tesla_rate_1k\": 0.39, \"avg_house_income\": 43448, \"avg_net_worth\": 85014}, {\"zip\": \"90045\", \"name\": \"Los Angeles\", \"teslas\": 352, \"all_vehicles\": 119426, \"tesla_rate_1k\": 2.95, \"avg_house_income\": 122098, \"avg_net_worth\": 969118}, {\"zip\": \"90046\", \"name\": \"Los Angeles\", \"teslas\": 507, \"all_vehicles\": 27324, \"tesla_rate_1k\": 18.56, \"avg_house_income\": 104552, \"avg_net_worth\": 416475}, {\"zip\": \"90047\", \"name\": \"Los Angeles\", \"teslas\": 24, \"all_vehicles\": 19989, \"tesla_rate_1k\": 1.2, \"avg_house_income\": 55403, \"avg_net_worth\": 269341}, {\"zip\": \"90048\", \"name\": \"Los Angeles\", \"teslas\": 243, \"all_vehicles\": 12811, \"tesla_rate_1k\": 18.97, \"avg_house_income\": 131176, \"avg_net_worth\": 392422}, {\"zip\": \"90049\", \"name\": \"Los Angeles\", \"teslas\": 1003, \"all_vehicles\": 23004, \"tesla_rate_1k\": 43.6, \"avg_house_income\": 199864, \"avg_net_worth\": 1678098}, {\"zip\": \"90056\", \"name\": \"Los Angeles\", \"teslas\": 88, \"all_vehicles\": 5015, \"tesla_rate_1k\": 17.55, \"avg_house_income\": 134704, \"avg_net_worth\": 1546050}, {\"zip\": \"90058\", \"name\": \"Los Angeles\", \"teslas\": 17, \"all_vehicles\": 2580, \"tesla_rate_1k\": 6.59, \"avg_house_income\": 34949, \"avg_net_worth\": 39695}, {\"zip\": \"90064\", \"name\": \"Los Angeles\", \"teslas\": 436, \"all_vehicles\": 16106, \"tesla_rate_1k\": 27.07, \"avg_house_income\": 148352, \"avg_net_worth\": 1156819}, {\"zip\": \"90065\", \"name\": \"Los Angeles\", \"teslas\": 173, \"all_vehicles\": 20332, \"tesla_rate_1k\": 8.51, \"avg_house_income\": 83940, \"avg_net_worth\": 402613}, {\"zip\": \"90066\", \"name\": \"Los Angeles\", \"teslas\": 459, \"all_vehicles\": 27512, \"tesla_rate_1k\": 16.68, \"avg_house_income\": 109187, \"avg_net_worth\": 587302}, {\"zip\": \"90067\", \"name\": \"Los Angeles\", \"teslas\": 191, \"all_vehicles\": 3690, \"tesla_rate_1k\": 51.76, \"avg_house_income\": 180115, \"avg_net_worth\": 2157237}, {\"zip\": \"90068\", \"name\": \"Los Angeles\", \"teslas\": 361, \"all_vehicles\": 12724, \"tesla_rate_1k\": 28.37, \"avg_house_income\": 132979, \"avg_net_worth\": 666654}, {\"zip\": \"90069\", \"name\": \"West Hollywood\", \"teslas\": 337, \"all_vehicles\": 13134, \"tesla_rate_1k\": 25.66, \"avg_house_income\": 125721, \"avg_net_worth\": 484728}, {\"zip\": \"90071\", \"name\": \"Los Angeles\", \"teslas\": 13, \"all_vehicles\": 722, \"tesla_rate_1k\": 18.01, \"avg_house_income\": 0, \"avg_net_worth\": 0}, {\"zip\": \"90077\", \"name\": \"Los Angeles\", \"teslas\": 342, \"all_vehicles\": 6308, \"tesla_rate_1k\": 54.22, \"avg_house_income\": 280179, \"avg_net_worth\": 3548806}, {\"zip\": \"90094\", \"name\": \"Playa Vista\", \"teslas\": 263, \"all_vehicles\": 5962, \"tesla_rate_1k\": 44.11, \"avg_house_income\": 157974, \"avg_net_worth\": 466653}, {\"zip\": \"90201\", \"name\": \"Bell Gardens\", \"teslas\": 14, \"all_vehicles\": 33373, \"tesla_rate_1k\": 0.42, \"avg_house_income\": 48301, \"avg_net_worth\": 69959}, {\"zip\": \"90210\", \"name\": \"Beverly Hills\", \"teslas\": 726, \"all_vehicles\": 15555, \"tesla_rate_1k\": 46.67, \"avg_house_income\": 220906, \"avg_net_worth\": 2702726}, {\"zip\": \"90211\", \"name\": \"Beverly Hills\", \"teslas\": 153, \"all_vehicles\": 7038, \"tesla_rate_1k\": 21.74, \"avg_house_income\": 116068, \"avg_net_worth\": 645404}, {\"zip\": \"90212\", \"name\": \"Beverly Hills\", \"teslas\": 200, \"all_vehicles\": 8341, \"tesla_rate_1k\": 23.98, \"avg_house_income\": 141008, \"avg_net_worth\": 514251}, {\"zip\": \"90230\", \"name\": \"Culver City\", \"teslas\": 183, \"all_vehicles\": 16465, \"tesla_rate_1k\": 11.11, \"avg_house_income\": 105774, \"avg_net_worth\": 709926}, {\"zip\": \"90232\", \"name\": \"Culver City\", \"teslas\": 122, \"all_vehicles\": 8957, \"tesla_rate_1k\": 13.62, \"avg_house_income\": 108537, \"avg_net_worth\": 485501}, {\"zip\": \"90240\", \"name\": \"Downey\", \"teslas\": 93, \"all_vehicles\": 13775, \"tesla_rate_1k\": 6.75, \"avg_house_income\": 95286, \"avg_net_worth\": 609134}, {\"zip\": \"90241\", \"name\": \"Downey\", \"teslas\": 90, \"all_vehicles\": 22227, \"tesla_rate_1k\": 4.05, \"avg_house_income\": 74214, \"avg_net_worth\": 290737}, {\"zip\": \"90242\", \"name\": \"Downey\", \"teslas\": 43, \"all_vehicles\": 19617, \"tesla_rate_1k\": 2.19, \"avg_house_income\": 70518, \"avg_net_worth\": 221923}, {\"zip\": \"90245\", \"name\": \"El Segundo\", \"teslas\": 168, \"all_vehicles\": 10752, \"tesla_rate_1k\": 15.62, \"avg_house_income\": 135843, \"avg_net_worth\": 709807}, {\"zip\": \"90247\", \"name\": \"Gardena\", \"teslas\": 50, \"all_vehicles\": 20688, \"tesla_rate_1k\": 2.42, \"avg_house_income\": 58579, \"avg_net_worth\": 160881}, {\"zip\": \"90248\", \"name\": \"Gardena\", \"teslas\": 37, \"all_vehicles\": 7533, \"tesla_rate_1k\": 4.91, \"avg_house_income\": 75330, \"avg_net_worth\": 647759}, {\"zip\": \"90249\", \"name\": \"Gardena\", \"teslas\": 37, \"all_vehicles\": 13078, \"tesla_rate_1k\": 2.83, \"avg_house_income\": 72663, \"avg_net_worth\": 442182}, {\"zip\": \"90250\", \"name\": \"Hawthorne\", \"teslas\": 213, \"all_vehicles\": 39888, \"tesla_rate_1k\": 5.34, \"avg_house_income\": 64245, \"avg_net_worth\": 236515}, {\"zip\": \"90254\", \"name\": \"Hermosa Beach\", \"teslas\": 367, \"all_vehicles\": 12015, \"tesla_rate_1k\": 30.55, \"avg_house_income\": 166092, \"avg_net_worth\": 747082}, {\"zip\": \"90260\", \"name\": \"Lawndale\", \"teslas\": 45, \"all_vehicles\": 14612, \"tesla_rate_1k\": 3.08, \"avg_house_income\": 69590, \"avg_net_worth\": 207643}, {\"zip\": \"90265\", \"name\": \"Malibu\", \"teslas\": 395, \"all_vehicles\": 10153, \"tesla_rate_1k\": 38.9, \"avg_house_income\": 207202, \"avg_net_worth\": 2132316}, {\"zip\": \"90266\", \"name\": \"Manhattan Beach\", \"teslas\": 1102, \"all_vehicles\": 22098, \"tesla_rate_1k\": 49.87, \"avg_house_income\": 213257, \"avg_net_worth\": 2035741}, {\"zip\": \"90272\", \"name\": \"Pacific Palisades\", \"teslas\": 810, \"all_vehicles\": 14953, \"tesla_rate_1k\": 54.17, \"avg_house_income\": 249224, \"avg_net_worth\": 2989010}, {\"zip\": \"90274\", \"name\": \"Palos Verdes Peninsula\", \"teslas\": 718, \"all_vehicles\": 17542, \"tesla_rate_1k\": 40.93, \"avg_house_income\": 242723, \"avg_net_worth\": 3353489}, {\"zip\": \"90275\", \"name\": \"Rancho Palos Verdes\", \"teslas\": 734, \"all_vehicles\": 26252, \"tesla_rate_1k\": 27.96, \"avg_house_income\": 184359, \"avg_net_worth\": 2450299}, {\"zip\": \"90277\", \"name\": \"Redondo Beach\", \"teslas\": 420, \"all_vehicles\": 21305, \"tesla_rate_1k\": 19.71, \"avg_house_income\": 142284, \"avg_net_worth\": 860004}, {\"zip\": \"90278\", \"name\": \"Redondo Beach\", \"teslas\": 490, \"all_vehicles\": 23039, \"tesla_rate_1k\": 21.27, \"avg_house_income\": 145674, \"avg_net_worth\": 908039}, {\"zip\": \"90280\", \"name\": \"South Gate\", \"teslas\": 12, \"all_vehicles\": 35448, \"tesla_rate_1k\": 0.34, \"avg_house_income\": 56448, \"avg_net_worth\": 166830}, {\"zip\": \"90290\", \"name\": \"Topanga\", \"teslas\": 113, \"all_vehicles\": 3766, \"tesla_rate_1k\": 30.01, \"avg_house_income\": 193089, \"avg_net_worth\": 1680110}, {\"zip\": \"90291\", \"name\": \"Venice\", \"teslas\": 348, \"all_vehicles\": 12937, \"tesla_rate_1k\": 26.9, \"avg_house_income\": 126054, \"avg_net_worth\": 431291}, {\"zip\": \"90292\", \"name\": \"Marina Del Rey\", \"teslas\": 418, \"all_vehicles\": 15203, \"tesla_rate_1k\": 27.49, \"avg_house_income\": 156192, \"avg_net_worth\": 673849}, {\"zip\": \"90293\", \"name\": \"Playa Del Rey\", \"teslas\": 116, \"all_vehicles\": 7463, \"tesla_rate_1k\": 15.54, \"avg_house_income\": 149295, \"avg_net_worth\": 827229}, {\"zip\": \"90301\", \"name\": \"Inglewood\", \"teslas\": 14, \"all_vehicles\": 14178, \"tesla_rate_1k\": 0.99, \"avg_house_income\": 53344, \"avg_net_worth\": 95660}, {\"zip\": \"90302\", \"name\": \"Inglewood\", \"teslas\": 23, \"all_vehicles\": 11452, \"tesla_rate_1k\": 2.01, \"avg_house_income\": 58562, \"avg_net_worth\": 144432}, {\"zip\": \"90304\", \"name\": \"Inglewood\", \"teslas\": 11, \"all_vehicles\": 9794, \"tesla_rate_1k\": 1.12, \"avg_house_income\": 52446, \"avg_net_worth\": 92139}, {\"zip\": \"90305\", \"name\": \"Inglewood\", \"teslas\": 24, \"all_vehicles\": 7214, \"tesla_rate_1k\": 3.33, \"avg_house_income\": 78001, \"avg_net_worth\": 593882}, {\"zip\": \"90401\", \"name\": \"Santa Monica\", \"teslas\": 90, \"all_vehicles\": 4877, \"tesla_rate_1k\": 18.45, \"avg_house_income\": 94417, \"avg_net_worth\": 117705}, {\"zip\": \"90402\", \"name\": \"Santa Monica\", \"teslas\": 392, \"all_vehicles\": 7024, \"tesla_rate_1k\": 55.81, \"avg_house_income\": 206819, \"avg_net_worth\": 2163557}, {\"zip\": \"90403\", \"name\": \"Santa Monica\", \"teslas\": 318, \"all_vehicles\": 14019, \"tesla_rate_1k\": 22.68, \"avg_house_income\": 127062, \"avg_net_worth\": 413427}, {\"zip\": \"90404\", \"name\": \"Santa Monica\", \"teslas\": 114, \"all_vehicles\": 10624, \"tesla_rate_1k\": 10.73, \"avg_house_income\": 85373, \"avg_net_worth\": 172368}, {\"zip\": \"90405\", \"name\": \"Santa Monica\", \"teslas\": 357, \"all_vehicles\": 14605, \"tesla_rate_1k\": 24.44, \"avg_house_income\": 135529, \"avg_net_worth\": 566023}, {\"zip\": \"90501\", \"name\": \"Torrance\", \"teslas\": 137, \"all_vehicles\": 23998, \"tesla_rate_1k\": 5.71, \"avg_house_income\": 83350, \"avg_net_worth\": 416071}, {\"zip\": \"90502\", \"name\": \"Torrance\", \"teslas\": 47, \"all_vehicles\": 9041, \"tesla_rate_1k\": 5.2, \"avg_house_income\": 91555, \"avg_net_worth\": 564832}, {\"zip\": \"90503\", \"name\": \"Torrance\", \"teslas\": 230, \"all_vehicles\": 25329, \"tesla_rate_1k\": 9.08, \"avg_house_income\": 108919, \"avg_net_worth\": 757464}, {\"zip\": \"90504\", \"name\": \"Torrance\", \"teslas\": 106, \"all_vehicles\": 17585, \"tesla_rate_1k\": 6.03, \"avg_house_income\": 96776, \"avg_net_worth\": 647630}, {\"zip\": \"90505\", \"name\": \"Torrance\", \"teslas\": 234, \"all_vehicles\": 21295, \"tesla_rate_1k\": 10.99, \"avg_house_income\": 109157, \"avg_net_worth\": 874747}, {\"zip\": \"90601\", \"name\": \"Whittier\", \"teslas\": 60, \"all_vehicles\": 16625, \"tesla_rate_1k\": 3.61, \"avg_house_income\": 94171, \"avg_net_worth\": 604267}, {\"zip\": \"90602\", \"name\": \"Whittier\", \"teslas\": 13, \"all_vehicles\": 10584, \"tesla_rate_1k\": 1.23, \"avg_house_income\": 72744, \"avg_net_worth\": 318550}, {\"zip\": \"90603\", \"name\": \"Whittier\", \"teslas\": 37, \"all_vehicles\": 11046, \"tesla_rate_1k\": 3.35, \"avg_house_income\": 117356, \"avg_net_worth\": 1111934}, {\"zip\": \"90604\", \"name\": \"Whittier\", \"teslas\": 45, \"all_vehicles\": 18744, \"tesla_rate_1k\": 2.4, \"avg_house_income\": 84049, \"avg_net_worth\": 469582}, {\"zip\": \"90605\", \"name\": \"Whittier\", \"teslas\": 46, \"all_vehicles\": 18674, \"tesla_rate_1k\": 2.46, \"avg_house_income\": 88987, \"avg_net_worth\": 554203}, {\"zip\": \"90620\", \"name\": \"Buena Park\", \"teslas\": 104, \"all_vehicles\": 24354, \"tesla_rate_1k\": 4.27, \"avg_house_income\": 88020, \"avg_net_worth\": 530149}, {\"zip\": \"90621\", \"name\": \"Buena Park\", \"teslas\": 120, \"all_vehicles\": 18725, \"tesla_rate_1k\": 6.41, \"avg_house_income\": 79342, \"avg_net_worth\": 331696}, {\"zip\": \"90623\", \"name\": \"La Palma\", \"teslas\": 92, \"all_vehicles\": 9417, \"tesla_rate_1k\": 9.77, \"avg_house_income\": 116937, \"avg_net_worth\": 1003741}, {\"zip\": \"90630\", \"name\": \"Cypress\", \"teslas\": 261, \"all_vehicles\": 28895, \"tesla_rate_1k\": 9.03, \"avg_house_income\": 110053, \"avg_net_worth\": 920375}, {\"zip\": \"90631\", \"name\": \"La Habra\", \"teslas\": 240, \"all_vehicles\": 34611, \"tesla_rate_1k\": 6.93, \"avg_house_income\": 98209, \"avg_net_worth\": 736679}, {\"zip\": \"90638\", \"name\": \"La Mirada\", \"teslas\": 114, \"all_vehicles\": 24988, \"tesla_rate_1k\": 4.56, \"avg_house_income\": 105345, \"avg_net_worth\": 936622}, {\"zip\": \"90640\", \"name\": \"Montebello\", \"teslas\": 66, \"all_vehicles\": 28175, \"tesla_rate_1k\": 2.34, \"avg_house_income\": 69890, \"avg_net_worth\": 323108}, {\"zip\": \"90650\", \"name\": \"Norwalk\", \"teslas\": 89, \"all_vehicles\": 46798, \"tesla_rate_1k\": 1.9, \"avg_house_income\": 73108, \"avg_net_worth\": 322209}, {\"zip\": \"90660\", \"name\": \"Pico Rivera\", \"teslas\": 40, \"all_vehicles\": 27745, \"tesla_rate_1k\": 1.44, \"avg_house_income\": 70392, \"avg_net_worth\": 319547}, {\"zip\": \"90670\", \"name\": \"Santa Fe Springs\", \"teslas\": 52, \"all_vehicles\": 11815, \"tesla_rate_1k\": 4.4, \"avg_house_income\": 71313, \"avg_net_worth\": 313722}, {\"zip\": \"90680\", \"name\": \"Stanton\", \"teslas\": 43, \"all_vehicles\": 13111, \"tesla_rate_1k\": 3.28, \"avg_house_income\": 73882, \"avg_net_worth\": 263482}, {\"zip\": \"90701\", \"name\": \"Artesia\", \"teslas\": 31, \"all_vehicles\": 7568, \"tesla_rate_1k\": 4.1, \"avg_house_income\": 80879, \"avg_net_worth\": 410750}, {\"zip\": \"90703\", \"name\": \"Cerritos\", \"teslas\": 474, \"all_vehicles\": 31114, \"tesla_rate_1k\": 15.23, \"avg_house_income\": 120427, \"avg_net_worth\": 1146304}, {\"zip\": \"90706\", \"name\": \"Bellflower\", \"teslas\": 56, \"all_vehicles\": 33733, \"tesla_rate_1k\": 1.66, \"avg_house_income\": 65931, \"avg_net_worth\": 199185}, {\"zip\": \"90710\", \"name\": \"Harbor City\", \"teslas\": 31, \"all_vehicles\": 11856, \"tesla_rate_1k\": 2.61, \"avg_house_income\": 80812, \"avg_net_worth\": 661267}, {\"zip\": \"90712\", \"name\": \"Lakewood\", \"teslas\": 82, \"all_vehicles\": 17124, \"tesla_rate_1k\": 4.79, \"avg_house_income\": 95209, \"avg_net_worth\": 755797}, {\"zip\": \"90713\", \"name\": \"Lakewood\", \"teslas\": 50, \"all_vehicles\": 15168, \"tesla_rate_1k\": 3.3, \"avg_house_income\": 103330, \"avg_net_worth\": 935664}, {\"zip\": \"90715\", \"name\": \"Lakewood\", \"teslas\": 26, \"all_vehicles\": 9447, \"tesla_rate_1k\": 2.75, \"avg_house_income\": 86966, \"avg_net_worth\": 374759}, {\"zip\": \"90717\", \"name\": \"Lomita\", \"teslas\": 44, \"all_vehicles\": 10015, \"tesla_rate_1k\": 4.39, \"avg_house_income\": 87430, \"avg_net_worth\": 376061}, {\"zip\": \"90720\", \"name\": \"Los Alamitos\", \"teslas\": 207, \"all_vehicles\": 13732, \"tesla_rate_1k\": 15.07, \"avg_house_income\": 143111, \"avg_net_worth\": 1632930}, {\"zip\": \"90723\", \"name\": \"Paramount\", \"teslas\": 22, \"all_vehicles\": 21879, \"tesla_rate_1k\": 1.01, \"avg_house_income\": 54911, \"avg_net_worth\": 130448}, {\"zip\": \"90731\", \"name\": \"San Pedro\", \"teslas\": 76, \"all_vehicles\": 24402, \"tesla_rate_1k\": 3.11, \"avg_house_income\": 72825, \"avg_net_worth\": 291847}, {\"zip\": \"90732\", \"name\": \"San Pedro\", \"teslas\": 55, \"all_vehicles\": 11067, \"tesla_rate_1k\": 4.97, \"avg_house_income\": 113500, \"avg_net_worth\": 1186743}, {\"zip\": \"90740\", \"name\": \"Seal Beach\", \"teslas\": 186, \"all_vehicles\": 14965, \"tesla_rate_1k\": 12.43, \"avg_house_income\": 95989, \"avg_net_worth\": 1302513}, {\"zip\": \"90745\", \"name\": \"Carson\", \"teslas\": 61, \"all_vehicles\": 27214, \"tesla_rate_1k\": 2.24, \"avg_house_income\": 89636, \"avg_net_worth\": 588657}, {\"zip\": \"90746\", \"name\": \"Carson\", \"teslas\": 42, \"all_vehicles\": 14744, \"tesla_rate_1k\": 2.85, \"avg_house_income\": 98017, \"avg_net_worth\": 1127137}, {\"zip\": \"90755\", \"name\": \"Signal Hill\", \"teslas\": 50, \"all_vehicles\": 8064, \"tesla_rate_1k\": 6.2, \"avg_house_income\": 104032, \"avg_net_worth\": 539569}, {\"zip\": \"90802\", \"name\": \"Long Beach\", \"teslas\": 76, \"all_vehicles\": 16437, \"tesla_rate_1k\": 4.62, \"avg_house_income\": 65755, \"avg_net_worth\": 122565}, {\"zip\": \"90803\", \"name\": \"Long Beach\", \"teslas\": 268, \"all_vehicles\": 18133, \"tesla_rate_1k\": 14.78, \"avg_house_income\": 121310, \"avg_net_worth\": 721693}, {\"zip\": \"90804\", \"name\": \"Long Beach\", \"teslas\": 45, \"all_vehicles\": 14062, \"tesla_rate_1k\": 3.2, \"avg_house_income\": 60211, \"avg_net_worth\": 102358}, {\"zip\": \"90805\", \"name\": \"Long Beach\", \"teslas\": 56, \"all_vehicles\": 35546, \"tesla_rate_1k\": 1.58, \"avg_house_income\": 59548, \"avg_net_worth\": 165563}, {\"zip\": \"90806\", \"name\": \"Long Beach\", \"teslas\": 36, \"all_vehicles\": 16874, \"tesla_rate_1k\": 2.13, \"avg_house_income\": 61161, \"avg_net_worth\": 230518}, {\"zip\": \"90807\", \"name\": \"Long Beach\", \"teslas\": 122, \"all_vehicles\": 16734, \"tesla_rate_1k\": 7.29, \"avg_house_income\": 103317, \"avg_net_worth\": 581649}, {\"zip\": \"90808\", \"name\": \"Long Beach\", \"teslas\": 159, \"all_vehicles\": 22017, \"tesla_rate_1k\": 7.22, \"avg_house_income\": 119296, \"avg_net_worth\": 1107113}, {\"zip\": \"90814\", \"name\": \"Long Beach\", \"teslas\": 63, \"all_vehicles\": 9237, \"tesla_rate_1k\": 6.82, \"avg_house_income\": 95214, \"avg_net_worth\": 387944}, {\"zip\": \"90815\", \"name\": \"Long Beach\", \"teslas\": 134, \"all_vehicles\": 20593, \"tesla_rate_1k\": 6.51, \"avg_house_income\": 110388, \"avg_net_worth\": 946732}, {\"zip\": \"91001\", \"name\": \"Altadena\", \"teslas\": 272, \"all_vehicles\": 19214, \"tesla_rate_1k\": 14.16, \"avg_house_income\": 129531, \"avg_net_worth\": 1271815}, {\"zip\": \"91006\", \"name\": \"Arcadia\", \"teslas\": 397, \"all_vehicles\": 19307, \"tesla_rate_1k\": 20.56, \"avg_house_income\": 131366, \"avg_net_worth\": 1243235}, {\"zip\": \"91007\", \"name\": \"Arcadia\", \"teslas\": 318, \"all_vehicles\": 17654, \"tesla_rate_1k\": 18.01, \"avg_house_income\": 109631, \"avg_net_worth\": 853608}, {\"zip\": \"91008\", \"name\": \"Duarte\", \"teslas\": 12, \"all_vehicles\": 727, \"tesla_rate_1k\": 16.51, \"avg_house_income\": 142935, \"avg_net_worth\": 1859995}, {\"zip\": \"91010\", \"name\": \"Duarte\", \"teslas\": 40, \"all_vehicles\": 12730, \"tesla_rate_1k\": 3.14, \"avg_house_income\": 85006, \"avg_net_worth\": 592386}, {\"zip\": \"91011\", \"name\": \"La Canada Flintridge\", \"teslas\": 516, \"all_vehicles\": 14141, \"tesla_rate_1k\": 36.49, \"avg_house_income\": 231624, \"avg_net_worth\": 3288780}, {\"zip\": \"91016\", \"name\": \"Monrovia\", \"teslas\": 154, \"all_vehicles\": 21467, \"tesla_rate_1k\": 7.17, \"avg_house_income\": 96345, \"avg_net_worth\": 564860}, {\"zip\": \"91020\", \"name\": \"Montrose\", \"teslas\": 14, \"all_vehicles\": 4444, \"tesla_rate_1k\": 3.15, \"avg_house_income\": 96486, \"avg_net_worth\": 398626}, {\"zip\": \"91024\", \"name\": \"Sierra Madre\", \"teslas\": 101, \"all_vehicles\": 6399, \"tesla_rate_1k\": 15.78, \"avg_house_income\": 148110, \"avg_net_worth\": 1350352}, {\"zip\": \"91030\", \"name\": \"South Pasadena\", \"teslas\": 282, \"all_vehicles\": 14120, \"tesla_rate_1k\": 19.97, \"avg_house_income\": 133405, \"avg_net_worth\": 792975}, {\"zip\": \"91040\", \"name\": \"Sunland\", \"teslas\": 61, \"all_vehicles\": 11699, \"tesla_rate_1k\": 5.21, \"avg_house_income\": 95298, \"avg_net_worth\": 659225}, {\"zip\": \"91042\", \"name\": \"Tujunga\", \"teslas\": 70, \"all_vehicles\": 14946, \"tesla_rate_1k\": 4.68, \"avg_house_income\": 83626, \"avg_net_worth\": 517163}, {\"zip\": \"91101\", \"name\": \"Pasadena\", \"teslas\": 94, \"all_vehicles\": 10963, \"tesla_rate_1k\": 8.57, \"avg_house_income\": 85812, \"avg_net_worth\": 164361}, {\"zip\": \"91103\", \"name\": \"Pasadena\", \"teslas\": 148, \"all_vehicles\": 11778, \"tesla_rate_1k\": 12.57, \"avg_house_income\": 101427, \"avg_net_worth\": 748983}, {\"zip\": \"91104\", \"name\": \"Pasadena\", \"teslas\": 186, \"all_vehicles\": 17016, \"tesla_rate_1k\": 10.93, \"avg_house_income\": 103117, \"avg_net_worth\": 571372}, {\"zip\": \"91105\", \"name\": \"Pasadena\", \"teslas\": 256, \"all_vehicles\": 8847, \"tesla_rate_1k\": 28.94, \"avg_house_income\": 173598, \"avg_net_worth\": 1552365}, {\"zip\": \"91106\", \"name\": \"Pasadena\", \"teslas\": 206, \"all_vehicles\": 12818, \"tesla_rate_1k\": 16.07, \"avg_house_income\": 108197, \"avg_net_worth\": 542515}, {\"zip\": \"91107\", \"name\": \"Pasadena\", \"teslas\": 331, \"all_vehicles\": 19474, \"tesla_rate_1k\": 17.0, \"avg_house_income\": 125031, \"avg_net_worth\": 1041178}, {\"zip\": \"91108\", \"name\": \"San Marino\", \"teslas\": 377, \"all_vehicles\": 8515, \"tesla_rate_1k\": 44.27, \"avg_house_income\": 239942, \"avg_net_worth\": 3340540}, {\"zip\": \"91201\", \"name\": \"Glendale\", \"teslas\": 64, \"all_vehicles\": 12707, \"tesla_rate_1k\": 5.04, \"avg_house_income\": 78738, \"avg_net_worth\": 388277}, {\"zip\": \"91202\", \"name\": \"Glendale\", \"teslas\": 113, \"all_vehicles\": 13005, \"tesla_rate_1k\": 8.69, \"avg_house_income\": 105003, \"avg_net_worth\": 691121}, {\"zip\": \"91203\", \"name\": \"Glendale\", \"teslas\": 60, \"all_vehicles\": 8799, \"tesla_rate_1k\": 6.82, \"avg_house_income\": 65629, \"avg_net_worth\": 116537}, {\"zip\": \"91204\", \"name\": \"Glendale\", \"teslas\": 28, \"all_vehicles\": 9225, \"tesla_rate_1k\": 3.04, \"avg_house_income\": 58175, \"avg_net_worth\": 78111}, {\"zip\": \"91205\", \"name\": \"Glendale\", \"teslas\": 43, \"all_vehicles\": 17307, \"tesla_rate_1k\": 2.48, \"avg_house_income\": 58063, \"avg_net_worth\": 112137}, {\"zip\": \"91206\", \"name\": \"Glendale\", \"teslas\": 165, \"all_vehicles\": 18096, \"tesla_rate_1k\": 9.12, \"avg_house_income\": 95669, \"avg_net_worth\": 710468}, {\"zip\": \"91207\", \"name\": \"Glendale\", \"teslas\": 72, \"all_vehicles\": 6424, \"tesla_rate_1k\": 11.21, \"avg_house_income\": 148638, \"avg_net_worth\": 1751091}, {\"zip\": \"91208\", \"name\": \"Glendale\", \"teslas\": 141, \"all_vehicles\": 10431, \"tesla_rate_1k\": 13.52, \"avg_house_income\": 146988, \"avg_net_worth\": 1498843}, {\"zip\": \"91214\", \"name\": \"La Crescenta\", \"teslas\": 186, \"all_vehicles\": 19061, \"tesla_rate_1k\": 9.76, \"avg_house_income\": 129470, \"avg_net_worth\": 1258527}, {\"zip\": \"91301\", \"name\": \"Agoura Hills\", \"teslas\": 345, \"all_vehicles\": 17400, \"tesla_rate_1k\": 19.83, \"avg_house_income\": 168350, \"avg_net_worth\": 1688037}, {\"zip\": \"91302\", \"name\": \"Calabasas\", \"teslas\": 664, \"all_vehicles\": 19007, \"tesla_rate_1k\": 34.93, \"avg_house_income\": 211611, \"avg_net_worth\": 2517388}, {\"zip\": \"91303\", \"name\": \"Canoga Park\", \"teslas\": 41, \"all_vehicles\": 11585, \"tesla_rate_1k\": 3.54, \"avg_house_income\": 61313, \"avg_net_worth\": 174150}, {\"zip\": \"91304\", \"name\": \"Canoga Park\", \"teslas\": 139, \"all_vehicles\": 24357, \"tesla_rate_1k\": 5.71, \"avg_house_income\": 92273, \"avg_net_worth\": 794891}, {\"zip\": \"91306\", \"name\": \"Winnetka\", \"teslas\": 70, \"all_vehicles\": 21748, \"tesla_rate_1k\": 3.22, \"avg_house_income\": 79425, \"avg_net_worth\": 425429}, {\"zip\": \"91307\", \"name\": \"West Hills\", \"teslas\": 240, \"all_vehicles\": 15349, \"tesla_rate_1k\": 15.64, \"avg_house_income\": 135866, \"avg_net_worth\": 1441657}, {\"zip\": \"91311\", \"name\": \"Chatsworth\", \"teslas\": 200, \"all_vehicles\": 22566, \"tesla_rate_1k\": 8.86, \"avg_house_income\": 118345, \"avg_net_worth\": 1093829}, {\"zip\": \"91316\", \"name\": \"Encino\", \"teslas\": 248, \"all_vehicles\": 17011, \"tesla_rate_1k\": 14.58, \"avg_house_income\": 103968, \"avg_net_worth\": 731822}, {\"zip\": \"91320\", \"name\": \"Newbury Park\", \"teslas\": 447, \"all_vehicles\": 27409, \"tesla_rate_1k\": 16.31, \"avg_house_income\": 143648, \"avg_net_worth\": 1270033}, {\"zip\": \"91321\", \"name\": \"Newhall\", \"teslas\": 79, \"all_vehicles\": 16423, \"tesla_rate_1k\": 4.81, \"avg_house_income\": 88605, \"avg_net_worth\": 619146}, {\"zip\": \"91324\", \"name\": \"Northridge\", \"teslas\": 74, \"all_vehicles\": 15052, \"tesla_rate_1k\": 4.92, \"avg_house_income\": 97386, \"avg_net_worth\": 608537}, {\"zip\": \"91325\", \"name\": \"Northridge\", \"teslas\": 140, \"all_vehicles\": 17400, \"tesla_rate_1k\": 8.05, \"avg_house_income\": 98211, \"avg_net_worth\": 699763}, {\"zip\": \"91326\", \"name\": \"Porter Ranch\", \"teslas\": 558, \"all_vehicles\": 23632, \"tesla_rate_1k\": 23.61, \"avg_house_income\": 139870, \"avg_net_worth\": 1522543}, {\"zip\": \"91331\", \"name\": \"Pacoima\", \"teslas\": 37, \"all_vehicles\": 41593, \"tesla_rate_1k\": 0.89, \"avg_house_income\": 63208, \"avg_net_worth\": 235670}, {\"zip\": \"91335\", \"name\": \"Reseda\", \"teslas\": 86, \"all_vehicles\": 34896, \"tesla_rate_1k\": 2.46, \"avg_house_income\": 73121, \"avg_net_worth\": 261729}, {\"zip\": \"91340\", \"name\": \"San Fernando\", \"teslas\": 12, \"all_vehicles\": 14843, \"tesla_rate_1k\": 0.81, \"avg_house_income\": 59630, \"avg_net_worth\": 189128}, {\"zip\": \"91342\", \"name\": \"Sylmar\", \"teslas\": 87, \"all_vehicles\": 45141, \"tesla_rate_1k\": 1.93, \"avg_house_income\": 77173, \"avg_net_worth\": 415201}, {\"zip\": \"91343\", \"name\": \"North Hills\", \"teslas\": 84, \"all_vehicles\": 27672, \"tesla_rate_1k\": 3.04, \"avg_house_income\": 78425, \"avg_net_worth\": 476746}, {\"zip\": \"91344\", \"name\": \"Granada Hills\", \"teslas\": 271, \"all_vehicles\": 30257, \"tesla_rate_1k\": 8.96, \"avg_house_income\": 111994, \"avg_net_worth\": 1158138}, {\"zip\": \"91345\", \"name\": \"Mission Hills\", \"teslas\": 22, \"all_vehicles\": 9689, \"tesla_rate_1k\": 2.27, \"avg_house_income\": 84499, \"avg_net_worth\": 482163}, {\"zip\": \"91350\", \"name\": \"Santa Clarita\", \"teslas\": 270, \"all_vehicles\": 24190, \"tesla_rate_1k\": 11.16, \"avg_house_income\": 132465, \"avg_net_worth\": 1256389}, {\"zip\": \"91351\", \"name\": \"Canyon Country\", \"teslas\": 66, \"all_vehicles\": 17799, \"tesla_rate_1k\": 3.71, \"avg_house_income\": 91078, \"avg_net_worth\": 615569}, {\"zip\": \"91352\", \"name\": \"Sun Valley\", \"teslas\": 36, \"all_vehicles\": 22263, \"tesla_rate_1k\": 1.62, \"avg_house_income\": 71041, \"avg_net_worth\": 320464}, {\"zip\": \"91354\", \"name\": \"Valencia\", \"teslas\": 297, \"all_vehicles\": 19984, \"tesla_rate_1k\": 14.86, \"avg_house_income\": 139161, \"avg_net_worth\": 942945}, {\"zip\": \"91355\", \"name\": \"Valencia\", \"teslas\": 204, \"all_vehicles\": 21144, \"tesla_rate_1k\": 9.65, \"avg_house_income\": 119330, \"avg_net_worth\": 909188}, {\"zip\": \"91356\", \"name\": \"Tarzana\", \"teslas\": 340, \"all_vehicles\": 18184, \"tesla_rate_1k\": 18.7, \"avg_house_income\": 132921, \"avg_net_worth\": 1369568}, {\"zip\": \"91360\", \"name\": \"Thousand Oaks\", \"teslas\": 196, \"all_vehicles\": 23846, \"tesla_rate_1k\": 8.22, \"avg_house_income\": 129574, \"avg_net_worth\": 1314973}, {\"zip\": \"91361\", \"name\": \"Westlake Village\", \"teslas\": 365, \"all_vehicles\": 14758, \"tesla_rate_1k\": 24.73, \"avg_house_income\": 166828, \"avg_net_worth\": 1854091}, {\"zip\": \"91362\", \"name\": \"Thousand Oaks\", \"teslas\": 498, \"all_vehicles\": 26079, \"tesla_rate_1k\": 19.1, \"avg_house_income\": 161540, \"avg_net_worth\": 1770328}, {\"zip\": \"91364\", \"name\": \"Woodland Hills\", \"teslas\": 304, \"all_vehicles\": 17595, \"tesla_rate_1k\": 17.28, \"avg_house_income\": 160518, \"avg_net_worth\": 1590126}, {\"zip\": \"91367\", \"name\": \"Woodland Hills\", \"teslas\": 362, \"all_vehicles\": 26094, \"tesla_rate_1k\": 13.87, \"avg_house_income\": 121497, \"avg_net_worth\": 974122}, {\"zip\": \"91377\", \"name\": \"Oak Park\", \"teslas\": 179, \"all_vehicles\": 9582, \"tesla_rate_1k\": 18.68, \"avg_house_income\": 181554, \"avg_net_worth\": 1492577}, {\"zip\": \"91381\", \"name\": \"Stevenson Ranch\", \"teslas\": 272, \"all_vehicles\": 12816, \"tesla_rate_1k\": 21.22, \"avg_house_income\": 157862, \"avg_net_worth\": 918692}, {\"zip\": \"91384\", \"name\": \"Castaic\", \"teslas\": 75, \"all_vehicles\": 13331, \"tesla_rate_1k\": 5.63, \"avg_house_income\": 133698, \"avg_net_worth\": 1014464}, {\"zip\": \"91387\", \"name\": \"Canyon Country\", \"teslas\": 179, \"all_vehicles\": 23971, \"tesla_rate_1k\": 7.47, \"avg_house_income\": 110860, \"avg_net_worth\": 758188}, {\"zip\": \"91390\", \"name\": \"Santa Clarita\", \"teslas\": 82, \"all_vehicles\": 11949, \"tesla_rate_1k\": 6.86, \"avg_house_income\": 143814, \"avg_net_worth\": 1180205}, {\"zip\": \"91401\", \"name\": \"Van Nuys\", \"teslas\": 115, \"all_vehicles\": 20497, \"tesla_rate_1k\": 5.61, \"avg_house_income\": 82920, \"avg_net_worth\": 342491}, {\"zip\": \"91402\", \"name\": \"Panorama City\", \"teslas\": 35, \"all_vehicles\": 26811, \"tesla_rate_1k\": 1.31, \"avg_house_income\": 55078, \"avg_net_worth\": 137216}, {\"zip\": \"91403\", \"name\": \"Sherman Oaks\", \"teslas\": 332, \"all_vehicles\": 15944, \"tesla_rate_1k\": 20.82, \"avg_house_income\": 132678, \"avg_net_worth\": 949848}, {\"zip\": \"91405\", \"name\": \"Van Nuys\", \"teslas\": 46, \"all_vehicles\": 25445, \"tesla_rate_1k\": 1.81, \"avg_house_income\": 60769, \"avg_net_worth\": 106123}, {\"zip\": \"91406\", \"name\": \"Van Nuys\", \"teslas\": 127, \"all_vehicles\": 26205, \"tesla_rate_1k\": 4.85, \"avg_house_income\": 71740, \"avg_net_worth\": 255376}, {\"zip\": \"91411\", \"name\": \"Van Nuys\", \"teslas\": 73, \"all_vehicles\": 11339, \"tesla_rate_1k\": 6.44, \"avg_house_income\": 76692, \"avg_net_worth\": 207784}, {\"zip\": \"91423\", \"name\": \"Sherman Oaks\", \"teslas\": 367, \"all_vehicles\": 19940, \"tesla_rate_1k\": 18.41, \"avg_house_income\": 129164, \"avg_net_worth\": 751791}, {\"zip\": \"91436\", \"name\": \"Encino\", \"teslas\": 511, \"all_vehicles\": 11823, \"tesla_rate_1k\": 43.22, \"avg_house_income\": 213009, \"avg_net_worth\": 2626425}, {\"zip\": \"91501\", \"name\": \"Burbank\", \"teslas\": 70, \"all_vehicles\": 11778, \"tesla_rate_1k\": 5.94, \"avg_house_income\": 91902, \"avg_net_worth\": 436870}, {\"zip\": \"91502\", \"name\": \"Burbank\", \"teslas\": 29, \"all_vehicles\": 6171, \"tesla_rate_1k\": 4.7, \"avg_house_income\": 56999, \"avg_net_worth\": 72947}, {\"zip\": \"91504\", \"name\": \"Burbank\", \"teslas\": 113, \"all_vehicles\": 15175, \"tesla_rate_1k\": 7.45, \"avg_house_income\": 108498, \"avg_net_worth\": 879492}, {\"zip\": \"91505\", \"name\": \"Burbank\", \"teslas\": 163, \"all_vehicles\": 17973, \"tesla_rate_1k\": 9.07, \"avg_house_income\": 98280, \"avg_net_worth\": 412924}, {\"zip\": \"91506\", \"name\": \"Burbank\", \"teslas\": 75, \"all_vehicles\": 10811, \"tesla_rate_1k\": 6.94, \"avg_house_income\": 110765, \"avg_net_worth\": 633859}, {\"zip\": \"91601\", \"name\": \"North Hollywood\", \"teslas\": 93, \"all_vehicles\": 18247, \"tesla_rate_1k\": 5.1, \"avg_house_income\": 71800, \"avg_net_worth\": 134791}, {\"zip\": \"91602\", \"name\": \"North Hollywood\", \"teslas\": 156, \"all_vehicles\": 11724, \"tesla_rate_1k\": 13.31, \"avg_house_income\": 108939, \"avg_net_worth\": 387835}, {\"zip\": \"91604\", \"name\": \"Studio City\", \"teslas\": 468, \"all_vehicles\": 19055, \"tesla_rate_1k\": 24.56, \"avg_house_income\": 147998, \"avg_net_worth\": 898797}, {\"zip\": \"91605\", \"name\": \"North Hollywood\", \"teslas\": 45, \"all_vehicles\": 25603, \"tesla_rate_1k\": 1.76, \"avg_house_income\": 62031, \"avg_net_worth\": 202026}, {\"zip\": \"91606\", \"name\": \"North Hollywood\", \"teslas\": 49, \"all_vehicles\": 19680, \"tesla_rate_1k\": 2.49, \"avg_house_income\": 61774, \"avg_net_worth\": 160007}, {\"zip\": \"91607\", \"name\": \"Valley Village\", \"teslas\": 109, \"all_vehicles\": 16258, \"tesla_rate_1k\": 6.7, \"avg_house_income\": 94301, \"avg_net_worth\": 311034}, {\"zip\": \"91701\", \"name\": \"Rancho Cucamonga\", \"teslas\": 94, \"all_vehicles\": 22883, \"tesla_rate_1k\": 4.11, \"avg_house_income\": 105282, \"avg_net_worth\": 997816}, {\"zip\": \"91702\", \"name\": \"Azusa\", \"teslas\": 137, \"all_vehicles\": 26708, \"tesla_rate_1k\": 5.13, \"avg_house_income\": 73870, \"avg_net_worth\": 335223}, {\"zip\": \"91706\", \"name\": \"Baldwin Park\", \"teslas\": 81, \"all_vehicles\": 34601, \"tesla_rate_1k\": 2.34, \"avg_house_income\": 67399, \"avg_net_worth\": 242148}, {\"zip\": \"91708\", \"name\": \"Chino\", \"teslas\": 66, \"all_vehicles\": 6606, \"tesla_rate_1k\": 9.99, \"avg_house_income\": 116706, \"avg_net_worth\": 535702}, {\"zip\": \"91709\", \"name\": \"Chino Hills\", \"teslas\": 683, \"all_vehicles\": 49035, \"tesla_rate_1k\": 13.93, \"avg_house_income\": 128066, \"avg_net_worth\": 1030773}, {\"zip\": \"91710\", \"name\": \"Chino\", \"teslas\": 273, \"all_vehicles\": 44454, \"tesla_rate_1k\": 6.14, \"avg_house_income\": 93050, \"avg_net_worth\": 579195}, {\"zip\": \"91711\", \"name\": \"Claremont\", \"teslas\": 225, \"all_vehicles\": 18135, \"tesla_rate_1k\": 12.41, \"avg_house_income\": 128594, \"avg_net_worth\": 1348155}, {\"zip\": \"91722\", \"name\": \"Covina\", \"teslas\": 36, \"all_vehicles\": 17644, \"tesla_rate_1k\": 2.04, \"avg_house_income\": 79632, \"avg_net_worth\": 382013}, {\"zip\": \"91723\", \"name\": \"Covina\", \"teslas\": 23, \"all_vehicles\": 9553, \"tesla_rate_1k\": 2.41, \"avg_house_income\": 78368, \"avg_net_worth\": 312185}, {\"zip\": \"91724\", \"name\": \"Covina\", \"teslas\": 59, \"all_vehicles\": 14298, \"tesla_rate_1k\": 4.13, \"avg_house_income\": 99322, \"avg_net_worth\": 865970}, {\"zip\": \"91730\", \"name\": \"Rancho Cucamonga\", \"teslas\": 151, \"all_vehicles\": 37410, \"tesla_rate_1k\": 4.04, \"avg_house_income\": 82939, \"avg_net_worth\": 404364}, {\"zip\": \"91731\", \"name\": \"El Monte\", \"teslas\": 29, \"all_vehicles\": 12080, \"tesla_rate_1k\": 2.4, \"avg_house_income\": 52971, \"avg_net_worth\": 172794}, {\"zip\": \"91732\", \"name\": \"El Monte\", \"teslas\": 71, \"all_vehicles\": 24320, \"tesla_rate_1k\": 2.92, \"avg_house_income\": 58419, \"avg_net_worth\": 171873}, {\"zip\": \"91733\", \"name\": \"South El Monte\", \"teslas\": 50, \"all_vehicles\": 17931, \"tesla_rate_1k\": 2.79, \"avg_house_income\": 57838, \"avg_net_worth\": 180486}, {\"zip\": \"91737\", \"name\": \"Rancho Cucamonga\", \"teslas\": 93, \"all_vehicles\": 14818, \"tesla_rate_1k\": 6.28, \"avg_house_income\": 137859, \"avg_net_worth\": 1299038}, {\"zip\": \"91739\", \"name\": \"Rancho Cucamonga\", \"teslas\": 318, \"all_vehicles\": 23408, \"tesla_rate_1k\": 13.59, \"avg_house_income\": 138582, \"avg_net_worth\": 926096}, {\"zip\": \"91740\", \"name\": \"Glendora\", \"teslas\": 56, \"all_vehicles\": 13886, \"tesla_rate_1k\": 4.03, \"avg_house_income\": 91060, \"avg_net_worth\": 603415}, {\"zip\": \"91741\", \"name\": \"Glendora\", \"teslas\": 144, \"all_vehicles\": 15434, \"tesla_rate_1k\": 9.33, \"avg_house_income\": 118203, \"avg_net_worth\": 1271792}, {\"zip\": \"91744\", \"name\": \"La Puente\", \"teslas\": 51, \"all_vehicles\": 37250, \"tesla_rate_1k\": 1.37, \"avg_house_income\": 70385, \"avg_net_worth\": 322567}, {\"zip\": \"91745\", \"name\": \"Hacienda Heights\", \"teslas\": 265, \"all_vehicles\": 30851, \"tesla_rate_1k\": 8.59, \"avg_house_income\": 102176, \"avg_net_worth\": 804861}, {\"zip\": \"91746\", \"name\": \"La Puente\", \"teslas\": 17, \"all_vehicles\": 14415, \"tesla_rate_1k\": 1.18, \"avg_house_income\": 76775, \"avg_net_worth\": 359256}, {\"zip\": \"91748\", \"name\": \"Rowland Heights\", \"teslas\": 298, \"all_vehicles\": 25957, \"tesla_rate_1k\": 11.48, \"avg_house_income\": 91524, \"avg_net_worth\": 668865}, {\"zip\": \"91750\", \"name\": \"La Verne\", \"teslas\": 111, \"all_vehicles\": 19510, \"tesla_rate_1k\": 5.69, \"avg_house_income\": 108367, \"avg_net_worth\": 1148637}, {\"zip\": \"91752\", \"name\": \"Mira Loma\", \"teslas\": 85, \"all_vehicles\": 19692, \"tesla_rate_1k\": 4.32, \"avg_house_income\": 95378, \"avg_net_worth\": 469997}, {\"zip\": \"91754\", \"name\": \"Monterey Park\", \"teslas\": 177, \"all_vehicles\": 18707, \"tesla_rate_1k\": 9.46, \"avg_house_income\": 84216, \"avg_net_worth\": 518507}, {\"zip\": \"91755\", \"name\": \"Monterey Park\", \"teslas\": 94, \"all_vehicles\": 15137, \"tesla_rate_1k\": 6.21, \"avg_house_income\": 81093, \"avg_net_worth\": 454532}, {\"zip\": \"91761\", \"name\": \"Ontario\", \"teslas\": 115, \"all_vehicles\": 34865, \"tesla_rate_1k\": 3.3, \"avg_house_income\": 81978, \"avg_net_worth\": 463779}, {\"zip\": \"91762\", \"name\": \"Ontario\", \"teslas\": 68, \"all_vehicles\": 28080, \"tesla_rate_1k\": 2.42, \"avg_house_income\": 71149, \"avg_net_worth\": 290912}, {\"zip\": \"91763\", \"name\": \"Montclair\", \"teslas\": 43, \"all_vehicles\": 17931, \"tesla_rate_1k\": 2.4, \"avg_house_income\": 66558, \"avg_net_worth\": 252740}, {\"zip\": \"91764\", \"name\": \"Ontario\", \"teslas\": 46, \"all_vehicles\": 24078, \"tesla_rate_1k\": 1.91, \"avg_house_income\": 63441, \"avg_net_worth\": 198871}, {\"zip\": \"91765\", \"name\": \"Diamond Bar\", \"teslas\": 497, \"all_vehicles\": 29361, \"tesla_rate_1k\": 16.93, \"avg_house_income\": 121105, \"avg_net_worth\": 1168809}, {\"zip\": \"91766\", \"name\": \"Pomona\", \"teslas\": 81, \"all_vehicles\": 29558, \"tesla_rate_1k\": 2.74, \"avg_house_income\": 71375, \"avg_net_worth\": 373016}, {\"zip\": \"91767\", \"name\": \"Pomona\", \"teslas\": 33, \"all_vehicles\": 20851, \"tesla_rate_1k\": 1.58, \"avg_house_income\": 66144, \"avg_net_worth\": 266975}, {\"zip\": \"91768\", \"name\": \"Pomona\", \"teslas\": 15, \"all_vehicles\": 13281, \"tesla_rate_1k\": 1.13, \"avg_house_income\": 62552, \"avg_net_worth\": 310689}, {\"zip\": \"91770\", \"name\": \"Rosemead\", \"teslas\": 183, \"all_vehicles\": 31768, \"tesla_rate_1k\": 5.76, \"avg_house_income\": 69099, \"avg_net_worth\": 292995}, {\"zip\": \"91773\", \"name\": \"San Dimas\", \"teslas\": 101, \"all_vehicles\": 19873, \"tesla_rate_1k\": 5.08, \"avg_house_income\": 113247, \"avg_net_worth\": 1074709}, {\"zip\": \"91775\", \"name\": \"San Gabriel\", \"teslas\": 152, \"all_vehicles\": 12741, \"tesla_rate_1k\": 11.93, \"avg_house_income\": 117981, \"avg_net_worth\": 958699}, {\"zip\": \"91776\", \"name\": \"San Gabriel\", \"teslas\": 142, \"all_vehicles\": 20652, \"tesla_rate_1k\": 6.88, \"avg_house_income\": 76586, \"avg_net_worth\": 316964}, {\"zip\": \"91780\", \"name\": \"Temple City\", \"teslas\": 232, \"all_vehicles\": 19461, \"tesla_rate_1k\": 11.92, \"avg_house_income\": 97616, \"avg_net_worth\": 638493}, {\"zip\": \"91784\", \"name\": \"Upland\", \"teslas\": 183, \"all_vehicles\": 17735, \"tesla_rate_1k\": 10.32, \"avg_house_income\": 142873, \"avg_net_worth\": 1770833}, {\"zip\": \"91786\", \"name\": \"Upland\", \"teslas\": 66, \"all_vehicles\": 26308, \"tesla_rate_1k\": 2.51, \"avg_house_income\": 73864, \"avg_net_worth\": 409011}, {\"zip\": \"91789\", \"name\": \"Walnut\", \"teslas\": 502, \"all_vehicles\": 26808, \"tesla_rate_1k\": 18.73, \"avg_house_income\": 127094, \"avg_net_worth\": 1332165}, {\"zip\": \"91790\", \"name\": \"West Covina\", \"teslas\": 85, \"all_vehicles\": 22804, \"tesla_rate_1k\": 3.73, \"avg_house_income\": 81679, \"avg_net_worth\": 455888}, {\"zip\": \"91791\", \"name\": \"West Covina\", \"teslas\": 161, \"all_vehicles\": 18731, \"tesla_rate_1k\": 8.6, \"avg_house_income\": 98631, \"avg_net_worth\": 722410}, {\"zip\": \"91792\", \"name\": \"West Covina\", \"teslas\": 52, \"all_vehicles\": 15017, \"tesla_rate_1k\": 3.46, \"avg_house_income\": 85864, \"avg_net_worth\": 504543}, {\"zip\": \"91801\", \"name\": \"Alhambra\", \"teslas\": 135, \"all_vehicles\": 26552, \"tesla_rate_1k\": 5.08, \"avg_house_income\": 75891, \"avg_net_worth\": 276767}, {\"zip\": \"91803\", \"name\": \"Alhambra\", \"teslas\": 91, \"all_vehicles\": 15338, \"tesla_rate_1k\": 5.93, \"avg_house_income\": 81659, \"avg_net_worth\": 366041}, {\"zip\": \"91901\", \"name\": \"Alpine\", \"teslas\": 29, \"all_vehicles\": 9893, \"tesla_rate_1k\": 2.93, \"avg_house_income\": 111364, \"avg_net_worth\": 1054039}, {\"zip\": \"91902\", \"name\": \"Bonita\", \"teslas\": 30, \"all_vehicles\": 10908, \"tesla_rate_1k\": 2.75, \"avg_house_income\": 122019, \"avg_net_worth\": 1268827}, {\"zip\": \"91910\", \"name\": \"Chula Vista\", \"teslas\": 115, \"all_vehicles\": 40074, \"tesla_rate_1k\": 2.87, \"avg_house_income\": 75844, \"avg_net_worth\": 438566}, {\"zip\": \"91911\", \"name\": \"Chula Vista\", \"teslas\": 53, \"all_vehicles\": 43307, \"tesla_rate_1k\": 1.22, \"avg_house_income\": 67833, \"avg_net_worth\": 289019}, {\"zip\": \"91913\", \"name\": \"Chula Vista\", \"teslas\": 171, \"all_vehicles\": 28925, \"tesla_rate_1k\": 5.91, \"avg_house_income\": 105713, \"avg_net_worth\": 577627}, {\"zip\": \"91914\", \"name\": \"Chula Vista\", \"teslas\": 127, \"all_vehicles\": 11102, \"tesla_rate_1k\": 11.44, \"avg_house_income\": 141692, \"avg_net_worth\": 963993}, {\"zip\": \"91915\", \"name\": \"Chula Vista\", \"teslas\": 118, \"all_vehicles\": 18219, \"tesla_rate_1k\": 6.48, \"avg_house_income\": 123717, \"avg_net_worth\": 728012}, {\"zip\": \"91935\", \"name\": \"Jamul\", \"teslas\": 34, \"all_vehicles\": 5431, \"tesla_rate_1k\": 6.26, \"avg_house_income\": 126756, \"avg_net_worth\": 1383614}, {\"zip\": \"91941\", \"name\": \"La Mesa\", \"teslas\": 152, \"all_vehicles\": 17559, \"tesla_rate_1k\": 8.66, \"avg_house_income\": 99953, \"avg_net_worth\": 967694}, {\"zip\": \"91942\", \"name\": \"La Mesa\", \"teslas\": 48, \"all_vehicles\": 20045, \"tesla_rate_1k\": 2.39, \"avg_house_income\": 72043, \"avg_net_worth\": 302386}, {\"zip\": \"91945\", \"name\": \"Lemon Grove\", \"teslas\": 11, \"all_vehicles\": 12802, \"tesla_rate_1k\": 0.86, \"avg_house_income\": 68262, \"avg_net_worth\": 303544}, {\"zip\": \"91977\", \"name\": \"Spring Valley\", \"teslas\": 50, \"all_vehicles\": 29235, \"tesla_rate_1k\": 1.71, \"avg_house_income\": 80595, \"avg_net_worth\": 517436}, {\"zip\": \"92003\", \"name\": \"Bonsall\", \"teslas\": 18, \"all_vehicles\": 3151, \"tesla_rate_1k\": 5.71, \"avg_house_income\": 122461, \"avg_net_worth\": 1561160}, {\"zip\": \"92007\", \"name\": \"Cardiff By The Sea\", \"teslas\": 102, \"all_vehicles\": 6641, \"tesla_rate_1k\": 15.36, \"avg_house_income\": 132296, \"avg_net_worth\": 902909}, {\"zip\": \"92008\", \"name\": \"Carlsbad\", \"teslas\": 179, \"all_vehicles\": 17349, \"tesla_rate_1k\": 10.32, \"avg_house_income\": 98539, \"avg_net_worth\": 675039}, {\"zip\": \"92009\", \"name\": \"Carlsbad\", \"teslas\": 595, \"all_vehicles\": 28244, \"tesla_rate_1k\": 21.07, \"avg_house_income\": 149902, \"avg_net_worth\": 1247313}, {\"zip\": \"92010\", \"name\": \"Carlsbad\", \"teslas\": 153, \"all_vehicles\": 11036, \"tesla_rate_1k\": 13.86, \"avg_house_income\": 110420, \"avg_net_worth\": 988779}, {\"zip\": \"92011\", \"name\": \"Carlsbad\", \"teslas\": 283, \"all_vehicles\": 15614, \"tesla_rate_1k\": 18.12, \"avg_house_income\": 147070, \"avg_net_worth\": 1272243}, {\"zip\": \"92014\", \"name\": \"Del Mar\", \"teslas\": 367, \"all_vehicles\": 9667, \"tesla_rate_1k\": 37.96, \"avg_house_income\": 205084, \"avg_net_worth\": 2161052}, {\"zip\": \"92019\", \"name\": \"El Cajon\", \"teslas\": 78, \"all_vehicles\": 24149, \"tesla_rate_1k\": 3.23, \"avg_house_income\": 103709, \"avg_net_worth\": 1013423}, {\"zip\": \"92020\", \"name\": \"El Cajon\", \"teslas\": 55, \"all_vehicles\": 28926, \"tesla_rate_1k\": 1.9, \"avg_house_income\": 75839, \"avg_net_worth\": 577728}, {\"zip\": \"92021\", \"name\": \"El Cajon\", \"teslas\": 44, \"all_vehicles\": 32183, \"tesla_rate_1k\": 1.37, \"avg_house_income\": 70762, \"avg_net_worth\": 483981}, {\"zip\": \"92024\", \"name\": \"Encinitas\", \"teslas\": 697, \"all_vehicles\": 31548, \"tesla_rate_1k\": 22.09, \"avg_house_income\": 141305, \"avg_net_worth\": 1230108}, {\"zip\": \"92025\", \"name\": \"Escondido\", \"teslas\": 75, \"all_vehicles\": 22239, \"tesla_rate_1k\": 3.37, \"avg_house_income\": 81709, \"avg_net_worth\": 557453}, {\"zip\": \"92026\", \"name\": \"Escondido\", \"teslas\": 144, \"all_vehicles\": 26691, \"tesla_rate_1k\": 5.4, \"avg_house_income\": 82061, \"avg_net_worth\": 675974}, {\"zip\": \"92027\", \"name\": \"Escondido\", \"teslas\": 73, \"all_vehicles\": 26022, \"tesla_rate_1k\": 2.81, \"avg_house_income\": 82705, \"avg_net_worth\": 547927}, {\"zip\": \"92028\", \"name\": \"Fallbrook\", \"teslas\": 163, \"all_vehicles\": 25912, \"tesla_rate_1k\": 6.29, \"avg_house_income\": 101581, \"avg_net_worth\": 1303310}, {\"zip\": \"92029\", \"name\": \"Escondido\", \"teslas\": 130, \"all_vehicles\": 14353, \"tesla_rate_1k\": 9.06, \"avg_house_income\": 113185, \"avg_net_worth\": 1283045}, {\"zip\": \"92037\", \"name\": \"La Jolla\", \"teslas\": 755, \"all_vehicles\": 23710, \"tesla_rate_1k\": 31.84, \"avg_house_income\": 159756, \"avg_net_worth\": 1545600}, {\"zip\": \"92040\", \"name\": \"Lakeside\", \"teslas\": 28, \"all_vehicles\": 22290, \"tesla_rate_1k\": 1.26, \"avg_house_income\": 86514, \"avg_net_worth\": 756096}, {\"zip\": \"92054\", \"name\": \"Oceanside\", \"teslas\": 75, \"all_vehicles\": 18114, \"tesla_rate_1k\": 4.14, \"avg_house_income\": 72486, \"avg_net_worth\": 386662}, {\"zip\": \"92056\", \"name\": \"Oceanside\", \"teslas\": 119, \"all_vehicles\": 30014, \"tesla_rate_1k\": 3.96, \"avg_house_income\": 88969, \"avg_net_worth\": 773611}, {\"zip\": \"92057\", \"name\": \"Oceanside\", \"teslas\": 143, \"all_vehicles\": 29701, \"tesla_rate_1k\": 4.81, \"avg_house_income\": 91716, \"avg_net_worth\": 616671}, {\"zip\": \"92058\", \"name\": \"Oceanside\", \"teslas\": 35, \"all_vehicles\": 16653, \"tesla_rate_1k\": 2.1, \"avg_house_income\": 68771, \"avg_net_worth\": 287431}, {\"zip\": \"92064\", \"name\": \"Poway\", \"teslas\": 405, \"all_vehicles\": 29266, \"tesla_rate_1k\": 13.84, \"avg_house_income\": 138685, \"avg_net_worth\": 1616625}, {\"zip\": \"92065\", \"name\": \"Ramona\", \"teslas\": 64, \"all_vehicles\": 19375, \"tesla_rate_1k\": 3.3, \"avg_house_income\": 105722, \"avg_net_worth\": 969268}, {\"zip\": \"92067\", \"name\": \"Rancho Santa Fe\", \"teslas\": 461, \"all_vehicles\": 8525, \"tesla_rate_1k\": 54.08, \"avg_house_income\": 235690, \"avg_net_worth\": 3311315}, {\"zip\": \"92069\", \"name\": \"San Marcos\", \"teslas\": 107, \"all_vehicles\": 24915, \"tesla_rate_1k\": 4.29, \"avg_house_income\": 80753, \"avg_net_worth\": 485559}, {\"zip\": \"92071\", \"name\": \"Santee\", \"teslas\": 99, \"all_vehicles\": 30350, \"tesla_rate_1k\": 3.26, \"avg_house_income\": 87688, \"avg_net_worth\": 627121}, {\"zip\": \"92075\", \"name\": \"Solana Beach\", \"teslas\": 201, \"all_vehicles\": 8200, \"tesla_rate_1k\": 24.51, \"avg_house_income\": 151013, \"avg_net_worth\": 1187272}, {\"zip\": \"92078\", \"name\": \"San Marcos\", \"teslas\": 388, \"all_vehicles\": 27000, \"tesla_rate_1k\": 14.37, \"avg_house_income\": 90652, \"avg_net_worth\": 594348}, {\"zip\": \"92081\", \"name\": \"Vista\", \"teslas\": 79, \"all_vehicles\": 16674, \"tesla_rate_1k\": 4.74, \"avg_house_income\": 84756, \"avg_net_worth\": 541619}, {\"zip\": \"92082\", \"name\": \"Valley Center\", \"teslas\": 38, \"all_vehicles\": 11185, \"tesla_rate_1k\": 3.4, \"avg_house_income\": 116494, \"avg_net_worth\": 1196856}, {\"zip\": \"92083\", \"name\": \"Vista\", \"teslas\": 23, \"all_vehicles\": 16643, \"tesla_rate_1k\": 1.38, \"avg_house_income\": 69220, \"avg_net_worth\": 234307}, {\"zip\": \"92084\", \"name\": \"Vista\", \"teslas\": 75, \"all_vehicles\": 22592, \"tesla_rate_1k\": 3.32, \"avg_house_income\": 81375, \"avg_net_worth\": 616732}, {\"zip\": \"92091\", \"name\": \"Rancho Santa Fe\", \"teslas\": 53, \"all_vehicles\": 1575, \"tesla_rate_1k\": 33.65, \"avg_house_income\": 175708, \"avg_net_worth\": 2667558}, {\"zip\": \"92101\", \"name\": \"San Diego\", \"teslas\": 354, \"all_vehicles\": 34833, \"tesla_rate_1k\": 10.16, \"avg_house_income\": 89150, \"avg_net_worth\": 196433}, {\"zip\": \"92102\", \"name\": \"San Diego\", \"teslas\": 39, \"all_vehicles\": 16691, \"tesla_rate_1k\": 2.34, \"avg_house_income\": 58669, \"avg_net_worth\": 128228}, {\"zip\": \"92103\", \"name\": \"San Diego\", \"teslas\": 274, \"all_vehicles\": 18715, \"tesla_rate_1k\": 14.64, \"avg_house_income\": 99163, \"avg_net_worth\": 360483}, {\"zip\": \"92104\", \"name\": \"San Diego\", \"teslas\": 117, \"all_vehicles\": 21789, \"tesla_rate_1k\": 5.37, \"avg_house_income\": 70526, \"avg_net_worth\": 184213}, {\"zip\": \"92105\", \"name\": \"San Diego\", \"teslas\": 27, \"all_vehicles\": 26559, \"tesla_rate_1k\": 1.02, \"avg_house_income\": 49990, \"avg_net_worth\": 103076}, {\"zip\": \"92106\", \"name\": \"San Diego\", \"teslas\": 142, \"all_vehicles\": 10835, \"tesla_rate_1k\": 13.11, \"avg_house_income\": 128973, \"avg_net_worth\": 1246204}, {\"zip\": \"92107\", \"name\": \"San Diego\", \"teslas\": 105, \"all_vehicles\": 14452, \"tesla_rate_1k\": 7.27, \"avg_house_income\": 95976, \"avg_net_worth\": 592325}, {\"zip\": \"92108\", \"name\": \"San Diego\", \"teslas\": 133, \"all_vehicles\": 14626, \"tesla_rate_1k\": 9.09, \"avg_house_income\": 88893, \"avg_net_worth\": 242737}, {\"zip\": \"92109\", \"name\": \"San Diego\", \"teslas\": 229, \"all_vehicles\": 24083, \"tesla_rate_1k\": 9.51, \"avg_house_income\": 96140, \"avg_net_worth\": 335985}, {\"zip\": \"92110\", \"name\": \"San Diego\", \"teslas\": 87, \"all_vehicles\": 15524, \"tesla_rate_1k\": 5.6, \"avg_house_income\": 85446, \"avg_net_worth\": 494545}, {\"zip\": \"92111\", \"name\": \"San Diego\", \"teslas\": 105, \"all_vehicles\": 25724, \"tesla_rate_1k\": 4.08, \"avg_house_income\": 80382, \"avg_net_worth\": 431171}, {\"zip\": \"92114\", \"name\": \"San Diego\", \"teslas\": 40, \"all_vehicles\": 30631, \"tesla_rate_1k\": 1.31, \"avg_house_income\": 72841, \"avg_net_worth\": 430502}, {\"zip\": \"92115\", \"name\": \"San Diego\", \"teslas\": 102, \"all_vehicles\": 23905, \"tesla_rate_1k\": 4.27, \"avg_house_income\": 62314, \"avg_net_worth\": 208622}, {\"zip\": \"92116\", \"name\": \"San Diego\", \"teslas\": 100, \"all_vehicles\": 16921, \"tesla_rate_1k\": 5.91, \"avg_house_income\": 77306, \"avg_net_worth\": 305640}, {\"zip\": \"92117\", \"name\": \"San Diego\", \"teslas\": 168, \"all_vehicles\": 27317, \"tesla_rate_1k\": 6.15, \"avg_house_income\": 88772, \"avg_net_worth\": 586601}, {\"zip\": \"92118\", \"name\": \"Coronado\", \"teslas\": 131, \"all_vehicles\": 9246, \"tesla_rate_1k\": 14.17, \"avg_house_income\": 137812, \"avg_net_worth\": 1273862}, {\"zip\": \"92119\", \"name\": \"San Diego\", \"teslas\": 51, \"all_vehicles\": 13556, \"tesla_rate_1k\": 3.76, \"avg_house_income\": 92809, \"avg_net_worth\": 1021584}, {\"zip\": \"92120\", \"name\": \"San Diego\", \"teslas\": 140, \"all_vehicles\": 17698, \"tesla_rate_1k\": 7.91, \"avg_house_income\": 103501, \"avg_net_worth\": 1087052}, {\"zip\": \"92121\", \"name\": \"San Diego\", \"teslas\": 116, \"all_vehicles\": 5969, \"tesla_rate_1k\": 19.43, \"avg_house_income\": 153783, \"avg_net_worth\": 1108024}, {\"zip\": \"92122\", \"name\": \"San Diego\", \"teslas\": 265, \"all_vehicles\": 21625, \"tesla_rate_1k\": 12.25, \"avg_house_income\": 108323, \"avg_net_worth\": 627178}, {\"zip\": \"92123\", \"name\": \"San Diego\", \"teslas\": 116, \"all_vehicles\": 19663, \"tesla_rate_1k\": 5.9, \"avg_house_income\": 92289, \"avg_net_worth\": 408165}, {\"zip\": \"92124\", \"name\": \"San Diego\", \"teslas\": 123, \"all_vehicles\": 15005, \"tesla_rate_1k\": 8.2, \"avg_house_income\": 109520, \"avg_net_worth\": 907617}, {\"zip\": \"92126\", \"name\": \"San Diego\", \"teslas\": 303, \"all_vehicles\": 41045, \"tesla_rate_1k\": 7.38, \"avg_house_income\": 100493, \"avg_net_worth\": 573633}, {\"zip\": \"92127\", \"name\": \"San Diego\", \"teslas\": 1032, \"all_vehicles\": 29356, \"tesla_rate_1k\": 35.15, \"avg_house_income\": 158748, \"avg_net_worth\": 1066618}, {\"zip\": \"92128\", \"name\": \"San Diego\", \"teslas\": 379, \"all_vehicles\": 30020, \"tesla_rate_1k\": 12.62, \"avg_house_income\": 123334, \"avg_net_worth\": 1218479}, {\"zip\": \"92129\", \"name\": \"San Diego\", \"teslas\": 467, \"all_vehicles\": 30972, \"tesla_rate_1k\": 15.08, \"avg_house_income\": 139578, \"avg_net_worth\": 1073496}, {\"zip\": \"92130\", \"name\": \"San Diego\", \"teslas\": 1437, \"all_vehicles\": 37308, \"tesla_rate_1k\": 38.52, \"avg_house_income\": 183826, \"avg_net_worth\": 1403611}, {\"zip\": \"92131\", \"name\": \"San Diego\", \"teslas\": 511, \"all_vehicles\": 23578, \"tesla_rate_1k\": 21.67, \"avg_house_income\": 172094, \"avg_net_worth\": 1474486}, {\"zip\": \"92139\", \"name\": \"San Diego\", \"teslas\": 13, \"all_vehicles\": 17262, \"tesla_rate_1k\": 0.75, \"avg_house_income\": 78980, \"avg_net_worth\": 429469}, {\"zip\": \"92154\", \"name\": \"San Diego\", \"teslas\": 65, \"all_vehicles\": 46607, \"tesla_rate_1k\": 1.39, \"avg_house_income\": 73187, \"avg_net_worth\": 328140}, {\"zip\": \"92201\", \"name\": \"Indio\", \"teslas\": 32, \"all_vehicles\": 27519, \"tesla_rate_1k\": 1.16, \"avg_house_income\": 66806, \"avg_net_worth\": 467187}, {\"zip\": \"92203\", \"name\": \"Indio\", \"teslas\": 49, \"all_vehicles\": 17610, \"tesla_rate_1k\": 2.78, \"avg_house_income\": 96755, \"avg_net_worth\": 1037175}, {\"zip\": \"92210\", \"name\": \"Indian Wells\", \"teslas\": 40, \"all_vehicles\": 3140, \"tesla_rate_1k\": 12.74, \"avg_house_income\": 127125, \"avg_net_worth\": 2078023}, {\"zip\": \"92211\", \"name\": \"Palm Desert\", \"teslas\": 87, \"all_vehicles\": 16847, \"tesla_rate_1k\": 5.16, \"avg_house_income\": 99307, \"avg_net_worth\": 1852504}, {\"zip\": \"92223\", \"name\": \"Beaumont\", \"teslas\": 64, \"all_vehicles\": 30912, \"tesla_rate_1k\": 2.07, \"avg_house_income\": 89867, \"avg_net_worth\": 750567}, {\"zip\": \"92234\", \"name\": \"Cathedral City\", \"teslas\": 40, \"all_vehicles\": 25317, \"tesla_rate_1k\": 1.58, \"avg_house_income\": 68415, \"avg_net_worth\": 617602}, {\"zip\": \"92243\", \"name\": \"El Centro\", \"teslas\": 13, \"all_vehicles\": 26297, \"tesla_rate_1k\": 0.49, \"avg_house_income\": 63639, \"avg_net_worth\": 310809}, {\"zip\": \"92253\", \"name\": \"La Quinta\", \"teslas\": 127, \"all_vehicles\": 22405, \"tesla_rate_1k\": 5.67, \"avg_house_income\": 118830, \"avg_net_worth\": 1452156}, {\"zip\": \"92260\", \"name\": \"Palm Desert\", \"teslas\": 77, \"all_vehicles\": 17050, \"tesla_rate_1k\": 4.52, \"avg_house_income\": 88677, \"avg_net_worth\": 1164053}, {\"zip\": \"92262\", \"name\": \"Palm Springs\", \"teslas\": 155, \"all_vehicles\": 13893, \"tesla_rate_1k\": 11.16, \"avg_house_income\": 75909, \"avg_net_worth\": 565236}, {\"zip\": \"92264\", \"name\": \"Palm Springs\", \"teslas\": 94, \"all_vehicles\": 11263, \"tesla_rate_1k\": 8.35, \"avg_house_income\": 85661, \"avg_net_worth\": 998467}, {\"zip\": \"92270\", \"name\": \"Rancho Mirage\", \"teslas\": 199, \"all_vehicles\": 11894, \"tesla_rate_1k\": 16.73, \"avg_house_income\": 119941, \"avg_net_worth\": 2059917}, {\"zip\": \"92307\", \"name\": \"Apple Valley\", \"teslas\": 30, \"all_vehicles\": 18514, \"tesla_rate_1k\": 1.62, \"avg_house_income\": 77937, \"avg_net_worth\": 732326}, {\"zip\": \"92324\", \"name\": \"Colton\", \"teslas\": 32, \"all_vehicles\": 25832, \"tesla_rate_1k\": 1.24, \"avg_house_income\": 61327, \"avg_net_worth\": 259947}, {\"zip\": \"92335\", \"name\": \"Fontana\", \"teslas\": 28, \"all_vehicles\": 40762, \"tesla_rate_1k\": 0.69, \"avg_house_income\": 57866, \"avg_net_worth\": 174519}, {\"zip\": \"92336\", \"name\": \"Fontana\", \"teslas\": 218, \"all_vehicles\": 53819, \"tesla_rate_1k\": 4.05, \"avg_house_income\": 101792, \"avg_net_worth\": 590569}, {\"zip\": \"92337\", \"name\": \"Fontana\", \"teslas\": 31, \"all_vehicles\": 19622, \"tesla_rate_1k\": 1.58, \"avg_house_income\": 82754, \"avg_net_worth\": 383896}, {\"zip\": \"92344\", \"name\": \"Hesperia\", \"teslas\": 12, \"all_vehicles\": 11322, \"tesla_rate_1k\": 1.06, \"avg_house_income\": 86726, \"avg_net_worth\": 573163}, {\"zip\": \"92346\", \"name\": \"Highland\", \"teslas\": 63, \"all_vehicles\": 28054, \"tesla_rate_1k\": 2.25, \"avg_house_income\": 87020, \"avg_net_worth\": 671494}, {\"zip\": \"92354\", \"name\": \"Loma Linda\", \"teslas\": 48, \"all_vehicles\": 10656, \"tesla_rate_1k\": 4.5, \"avg_house_income\": 86227, \"avg_net_worth\": 424691}, {\"zip\": \"92373\", \"name\": \"Redlands\", \"teslas\": 188, \"all_vehicles\": 19285, \"tesla_rate_1k\": 9.75, \"avg_house_income\": 109095, \"avg_net_worth\": 1203337}, {\"zip\": \"92374\", \"name\": \"Redlands\", \"teslas\": 51, \"all_vehicles\": 20527, \"tesla_rate_1k\": 2.48, \"avg_house_income\": 88821, \"avg_net_worth\": 712158}, {\"zip\": \"92377\", \"name\": \"Rialto\", \"teslas\": 16, \"all_vehicles\": 11534, \"tesla_rate_1k\": 1.39, \"avg_house_income\": 96092, \"avg_net_worth\": 744940}, {\"zip\": \"92392\", \"name\": \"Victorville\", \"teslas\": 14, \"all_vehicles\": 26994, \"tesla_rate_1k\": 0.52, \"avg_house_income\": 78231, \"avg_net_worth\": 408566}, {\"zip\": \"92395\", \"name\": \"Victorville\", \"teslas\": 30, \"all_vehicles\": 18042, \"tesla_rate_1k\": 1.66, \"avg_house_income\": 59131, \"avg_net_worth\": 280539}, {\"zip\": \"92399\", \"name\": \"Yucaipa\", \"teslas\": 61, \"all_vehicles\": 27698, \"tesla_rate_1k\": 2.2, \"avg_house_income\": 83329, \"avg_net_worth\": 719445}, {\"zip\": \"92407\", \"name\": \"San Bernardino\", \"teslas\": 54, \"all_vehicles\": 28891, \"tesla_rate_1k\": 1.87, \"avg_house_income\": 71998, \"avg_net_worth\": 372394}, {\"zip\": \"92501\", \"name\": \"Riverside\", \"teslas\": 11, \"all_vehicles\": 9785, \"tesla_rate_1k\": 1.12, \"avg_house_income\": 62654, \"avg_net_worth\": 216196}, {\"zip\": \"92503\", \"name\": \"Riverside\", \"teslas\": 138, \"all_vehicles\": 42877, \"tesla_rate_1k\": 3.22, \"avg_house_income\": 76679, \"avg_net_worth\": 436809}, {\"zip\": \"92504\", \"name\": \"Riverside\", \"teslas\": 53, \"all_vehicles\": 29335, \"tesla_rate_1k\": 1.81, \"avg_house_income\": 75800, \"avg_net_worth\": 459606}, {\"zip\": \"92505\", \"name\": \"Riverside\", \"teslas\": 30, \"all_vehicles\": 22153, \"tesla_rate_1k\": 1.35, \"avg_house_income\": 73774, \"avg_net_worth\": 299368}, {\"zip\": \"92506\", \"name\": \"Riverside\", \"teslas\": 164, \"all_vehicles\": 24919, \"tesla_rate_1k\": 6.58, \"avg_house_income\": 120198, \"avg_net_worth\": 1386320}, {\"zip\": \"92507\", \"name\": \"Riverside\", \"teslas\": 54, \"all_vehicles\": 23095, \"tesla_rate_1k\": 2.34, \"avg_house_income\": 58825, \"avg_net_worth\": 213398}, {\"zip\": \"92508\", \"name\": \"Riverside\", \"teslas\": 104, \"all_vehicles\": 20218, \"tesla_rate_1k\": 5.14, \"avg_house_income\": 120112, \"avg_net_worth\": 842734}, {\"zip\": \"92509\", \"name\": \"Riverside\", \"teslas\": 37, \"all_vehicles\": 36127, \"tesla_rate_1k\": 1.02, \"avg_house_income\": 71753, \"avg_net_worth\": 346070}, {\"zip\": \"92530\", \"name\": \"Lake Elsinore\", \"teslas\": 57, \"all_vehicles\": 25920, \"tesla_rate_1k\": 2.2, \"avg_house_income\": 69681, \"avg_net_worth\": 324579}, {\"zip\": \"92532\", \"name\": \"Lake Elsinore\", \"teslas\": 57, \"all_vehicles\": 15367, \"tesla_rate_1k\": 3.71, \"avg_house_income\": 89637, \"avg_net_worth\": 464713}, {\"zip\": \"92553\", \"name\": \"Moreno Valley\", \"teslas\": 12, \"all_vehicles\": 29619, \"tesla_rate_1k\": 0.41, \"avg_house_income\": 57695, \"avg_net_worth\": 164364}, {\"zip\": \"92555\", \"name\": \"Moreno Valley\", \"teslas\": 40, \"all_vehicles\": 22123, \"tesla_rate_1k\": 1.81, \"avg_house_income\": 90981, \"avg_net_worth\": 515047}, {\"zip\": \"92557\", \"name\": \"Moreno Valley\", \"teslas\": 30, \"all_vehicles\": 25156, \"tesla_rate_1k\": 1.19, \"avg_house_income\": 80737, \"avg_net_worth\": 520161}, {\"zip\": \"92562\", \"name\": \"Murrieta\", \"teslas\": 222, \"all_vehicles\": 36330, \"tesla_rate_1k\": 6.11, \"avg_house_income\": 108317, \"avg_net_worth\": 959259}, {\"zip\": \"92563\", \"name\": \"Murrieta\", \"teslas\": 180, \"all_vehicles\": 38305, \"tesla_rate_1k\": 4.7, \"avg_house_income\": 105393, \"avg_net_worth\": 669964}, {\"zip\": \"92570\", \"name\": \"Perris\", \"teslas\": 16, \"all_vehicles\": 23534, \"tesla_rate_1k\": 0.68, \"avg_house_income\": 62606, \"avg_net_worth\": 315591}, {\"zip\": \"92571\", \"name\": \"Perris\", \"teslas\": 34, \"all_vehicles\": 25653, \"tesla_rate_1k\": 1.33, \"avg_house_income\": 65825, \"avg_net_worth\": 214389}, {\"zip\": \"92584\", \"name\": \"Menifee\", \"teslas\": 76, \"all_vehicles\": 28631, \"tesla_rate_1k\": 2.65, \"avg_house_income\": 91836, \"avg_net_worth\": 665848}, {\"zip\": \"92585\", \"name\": \"Sun City\", \"teslas\": 26, \"all_vehicles\": 12232, \"tesla_rate_1k\": 2.13, \"avg_house_income\": 80208, \"avg_net_worth\": 540129}, {\"zip\": \"92587\", \"name\": \"Quail Valley\", \"teslas\": 34, \"all_vehicles\": 9772, \"tesla_rate_1k\": 3.48, \"avg_house_income\": 98786, \"avg_net_worth\": 949793}, {\"zip\": \"92590\", \"name\": \"Temecula\", \"teslas\": 13, \"all_vehicles\": 3588, \"tesla_rate_1k\": 3.62, \"avg_house_income\": 103746, \"avg_net_worth\": 711896}, {\"zip\": \"92591\", \"name\": \"Temecula\", \"teslas\": 98, \"all_vehicles\": 22850, \"tesla_rate_1k\": 4.29, \"avg_house_income\": 94309, \"avg_net_worth\": 617928}, {\"zip\": \"92592\", \"name\": \"Temecula\", \"teslas\": 288, \"all_vehicles\": 45439, \"tesla_rate_1k\": 6.34, \"avg_house_income\": 111031, \"avg_net_worth\": 800215}, {\"zip\": \"92595\", \"name\": \"Wildomar\", \"teslas\": 44, \"all_vehicles\": 17701, \"tesla_rate_1k\": 2.49, \"avg_house_income\": 93994, \"avg_net_worth\": 608100}, {\"zip\": \"92596\", \"name\": \"Winchester\", \"teslas\": 59, \"all_vehicles\": 15724, \"tesla_rate_1k\": 3.75, \"avg_house_income\": 108919, \"avg_net_worth\": 636781}, {\"zip\": \"92602\", \"name\": \"Irvine\", \"teslas\": 619, \"all_vehicles\": 17478, \"tesla_rate_1k\": 35.42, \"avg_house_income\": 150269, \"avg_net_worth\": 583761}, {\"zip\": \"92603\", \"name\": \"Irvine\", \"teslas\": 600, \"all_vehicles\": 13007, \"tesla_rate_1k\": 46.13, \"avg_house_income\": 183212, \"avg_net_worth\": 1606021}, {\"zip\": \"92604\", \"name\": \"Irvine\", \"teslas\": 230, \"all_vehicles\": 15804, \"tesla_rate_1k\": 14.55, \"avg_house_income\": 119363, \"avg_net_worth\": 1099390}, {\"zip\": \"92606\", \"name\": \"Irvine\", \"teslas\": 227, \"all_vehicles\": 14265, \"tesla_rate_1k\": 15.91, \"avg_house_income\": 122888, \"avg_net_worth\": 659541}, {\"zip\": \"92610\", \"name\": \"Foothill Ranch\", \"teslas\": 157, \"all_vehicles\": 8181, \"tesla_rate_1k\": 19.19, \"avg_house_income\": 155622, \"avg_net_worth\": 1093125}, {\"zip\": \"92612\", \"name\": \"Irvine\", \"teslas\": 305, \"all_vehicles\": 16295, \"tesla_rate_1k\": 18.72, \"avg_house_income\": 108033, \"avg_net_worth\": 595327}, {\"zip\": \"92614\", \"name\": \"Irvine\", \"teslas\": 324, \"all_vehicles\": 19462, \"tesla_rate_1k\": 16.65, \"avg_house_income\": 127856, \"avg_net_worth\": 791614}, {\"zip\": \"92617\", \"name\": \"Irvine\", \"teslas\": 70, \"all_vehicles\": 3974, \"tesla_rate_1k\": 17.61, \"avg_house_income\": 30542, \"avg_net_worth\": 38666}, {\"zip\": \"92618\", \"name\": \"Irvine\", \"teslas\": 1371, \"all_vehicles\": 35058, \"tesla_rate_1k\": 39.11, \"avg_house_income\": 119937, \"avg_net_worth\": 486310}, {\"zip\": \"92620\", \"name\": \"Irvine\", \"teslas\": 1146, \"all_vehicles\": 35858, \"tesla_rate_1k\": 31.96, \"avg_house_income\": 139489, \"avg_net_worth\": 984647}, {\"zip\": \"92624\", \"name\": \"Capistrano Beach\", \"teslas\": 40, \"all_vehicles\": 4230, \"tesla_rate_1k\": 9.46, \"avg_house_income\": 120419, \"avg_net_worth\": 1108779}, {\"zip\": \"92625\", \"name\": \"Corona Del Mar\", \"teslas\": 419, \"all_vehicles\": 8901, \"tesla_rate_1k\": 47.07, \"avg_house_income\": 206930, \"avg_net_worth\": 2057149}, {\"zip\": \"92626\", \"name\": \"Costa Mesa\", \"teslas\": 348, \"all_vehicles\": 29314, \"tesla_rate_1k\": 11.87, \"avg_house_income\": 108758, \"avg_net_worth\": 645087}, {\"zip\": \"92627\", \"name\": \"Costa Mesa\", \"teslas\": 318, \"all_vehicles\": 29876, \"tesla_rate_1k\": 10.64, \"avg_house_income\": 88891, \"avg_net_worth\": 313728}, {\"zip\": \"92629\", \"name\": \"Dana Point\", \"teslas\": 313, \"all_vehicles\": 17006, \"tesla_rate_1k\": 18.41, \"avg_house_income\": 141140, \"avg_net_worth\": 1302451}, {\"zip\": \"92630\", \"name\": \"Lake Forest\", \"teslas\": 530, \"all_vehicles\": 39380, \"tesla_rate_1k\": 13.46, \"avg_house_income\": 118389, \"avg_net_worth\": 931495}, {\"zip\": \"92637\", \"name\": \"Laguna Woods\", \"teslas\": 14, \"all_vehicles\": 9735, \"tesla_rate_1k\": 1.44, \"avg_house_income\": 63155, \"avg_net_worth\": 1460072}, {\"zip\": \"92646\", \"name\": \"Huntington Beach\", \"teslas\": 402, \"all_vehicles\": 33689, \"tesla_rate_1k\": 11.93, \"avg_house_income\": 118078, \"avg_net_worth\": 1270882}, {\"zip\": \"92647\", \"name\": \"Huntington Beach\", \"teslas\": 228, \"all_vehicles\": 31269, \"tesla_rate_1k\": 7.29, \"avg_house_income\": 98790, \"avg_net_worth\": 694189}, {\"zip\": \"92648\", \"name\": \"Huntington Beach\", \"teslas\": 592, \"all_vehicles\": 28862, \"tesla_rate_1k\": 20.51, \"avg_house_income\": 139961, \"avg_net_worth\": 1151248}, {\"zip\": \"92649\", \"name\": \"Huntington Beach\", \"teslas\": 386, \"all_vehicles\": 21929, \"tesla_rate_1k\": 17.6, \"avg_house_income\": 135201, \"avg_net_worth\": 1343836}, {\"zip\": \"92651\", \"name\": \"Laguna Beach\", \"teslas\": 685, \"all_vehicles\": 16906, \"tesla_rate_1k\": 40.52, \"avg_house_income\": 175060, \"avg_net_worth\": 1520859}, {\"zip\": \"92653\", \"name\": \"Laguna Hills\", \"teslas\": 301, \"all_vehicles\": 18862, \"tesla_rate_1k\": 15.96, \"avg_house_income\": 144930, \"avg_net_worth\": 1578778}, {\"zip\": \"92656\", \"name\": \"Aliso Viejo\", \"teslas\": 520, \"all_vehicles\": 32299, \"tesla_rate_1k\": 16.1, \"avg_house_income\": 124490, \"avg_net_worth\": 651011}, {\"zip\": \"92657\", \"name\": \"Newport Coast\", \"teslas\": 573, \"all_vehicles\": 8297, \"tesla_rate_1k\": 69.06, \"avg_house_income\": 244565, \"avg_net_worth\": 2836260}, {\"zip\": \"92660\", \"name\": \"Newport Beach\", \"teslas\": 879, \"all_vehicles\": 27664, \"tesla_rate_1k\": 31.77, \"avg_house_income\": 187964, \"avg_net_worth\": 1709031}, {\"zip\": \"92661\", \"name\": \"Newport Beach\", \"teslas\": 21, \"all_vehicles\": 2211, \"tesla_rate_1k\": 9.5, \"avg_house_income\": 164062, \"avg_net_worth\": 1246566}, {\"zip\": \"92662\", \"name\": \"Newport Beach\", \"teslas\": 12, \"all_vehicles\": 1728, \"tesla_rate_1k\": 6.94, \"avg_house_income\": 142349, \"avg_net_worth\": 1352337}, {\"zip\": \"92663\", \"name\": \"Newport Beach\", \"teslas\": 326, \"all_vehicles\": 13173, \"tesla_rate_1k\": 24.75, \"avg_house_income\": 146014, \"avg_net_worth\": 950975}, {\"zip\": \"92672\", \"name\": \"San Clemente\", \"teslas\": 341, \"all_vehicles\": 21262, \"tesla_rate_1k\": 16.04, \"avg_house_income\": 121378, \"avg_net_worth\": 1072617}, {\"zip\": \"92673\", \"name\": \"San Clemente\", \"teslas\": 520, \"all_vehicles\": 19428, \"tesla_rate_1k\": 26.77, \"avg_house_income\": 155489, \"avg_net_worth\": 1453097}, {\"zip\": \"92675\", \"name\": \"San Juan Capistrano\", \"teslas\": 398, \"all_vehicles\": 20679, \"tesla_rate_1k\": 19.25, \"avg_house_income\": 132048, \"avg_net_worth\": 1536462}, {\"zip\": \"92677\", \"name\": \"Laguna Niguel\", \"teslas\": 854, \"all_vehicles\": 42035, \"tesla_rate_1k\": 20.32, \"avg_house_income\": 157496, \"avg_net_worth\": 1533490}, {\"zip\": \"92679\", \"name\": \"Trabuco Canyon\", \"teslas\": 582, \"all_vehicles\": 22675, \"tesla_rate_1k\": 25.67, \"avg_house_income\": 204677, \"avg_net_worth\": 2064131}, {\"zip\": \"92683\", \"name\": \"Westminster\", \"teslas\": 349, \"all_vehicles\": 46179, \"tesla_rate_1k\": 7.56, \"avg_house_income\": 84945, \"avg_net_worth\": 541349}, {\"zip\": \"92688\", \"name\": \"Rancho Santa Margarita\", \"teslas\": 277, \"all_vehicles\": 28165, \"tesla_rate_1k\": 9.83, \"avg_house_income\": 125601, \"avg_net_worth\": 893311}, {\"zip\": \"92691\", \"name\": \"Mission Viejo\", \"teslas\": 240, \"all_vehicles\": 29228, \"tesla_rate_1k\": 8.21, \"avg_house_income\": 124900, \"avg_net_worth\": 1145618}, {\"zip\": \"92692\", \"name\": \"Mission Viejo\", \"teslas\": 437, \"all_vehicles\": 30652, \"tesla_rate_1k\": 14.26, \"avg_house_income\": 134963, \"avg_net_worth\": 1539986}, {\"zip\": \"92694\", \"name\": \"Ladera Ranch\", \"teslas\": 649, \"all_vehicles\": 21053, \"tesla_rate_1k\": 30.83, \"avg_house_income\": 169419, \"avg_net_worth\": 1062666}, {\"zip\": \"92701\", \"name\": \"Santa Ana\", \"teslas\": 37, \"all_vehicles\": 17890, \"tesla_rate_1k\": 2.07, \"avg_house_income\": 55249, \"avg_net_worth\": 113342}, {\"zip\": \"92703\", \"name\": \"Santa Ana\", \"teslas\": 52, \"all_vehicles\": 23846, \"tesla_rate_1k\": 2.18, \"avg_house_income\": 63430, \"avg_net_worth\": 192975}, {\"zip\": \"92704\", \"name\": \"Santa Ana\", \"teslas\": 159, \"all_vehicles\": 35782, \"tesla_rate_1k\": 4.44, \"avg_house_income\": 74016, \"avg_net_worth\": 307406}, {\"zip\": \"92705\", \"name\": \"Santa Ana\", \"teslas\": 445, \"all_vehicles\": 27855, \"tesla_rate_1k\": 15.98, \"avg_house_income\": 139500, \"avg_net_worth\": 1690506}, {\"zip\": \"92706\", \"name\": \"Santa Ana\", \"teslas\": 63, \"all_vehicles\": 15296, \"tesla_rate_1k\": 4.12, \"avg_house_income\": 86689, \"avg_net_worth\": 481384}, {\"zip\": \"92707\", \"name\": \"Santa Ana\", \"teslas\": 73, \"all_vehicles\": 24549, \"tesla_rate_1k\": 2.97, \"avg_house_income\": 77500, \"avg_net_worth\": 263962}, {\"zip\": \"92708\", \"name\": \"Fountain Valley\", \"teslas\": 443, \"all_vehicles\": 34540, \"tesla_rate_1k\": 12.83, \"avg_house_income\": 112135, \"avg_net_worth\": 1158925}, {\"zip\": \"92780\", \"name\": \"Tustin\", \"teslas\": 162, \"all_vehicles\": 27438, \"tesla_rate_1k\": 5.9, \"avg_house_income\": 85557, \"avg_net_worth\": 461297}, {\"zip\": \"92782\", \"name\": \"Tustin\", \"teslas\": 552, \"all_vehicles\": 18334, \"tesla_rate_1k\": 30.11, \"avg_house_income\": 142610, \"avg_net_worth\": 878016}, {\"zip\": \"92801\", \"name\": \"Anaheim\", \"teslas\": 59, \"all_vehicles\": 27434, \"tesla_rate_1k\": 2.15, \"avg_house_income\": 68699, \"avg_net_worth\": 198096}, {\"zip\": \"92802\", \"name\": \"Anaheim\", \"teslas\": 56, \"all_vehicles\": 17198, \"tesla_rate_1k\": 3.26, \"avg_house_income\": 70566, \"avg_net_worth\": 226952}, {\"zip\": \"92804\", \"name\": \"Anaheim\", \"teslas\": 113, \"all_vehicles\": 37335, \"tesla_rate_1k\": 3.03, \"avg_house_income\": 72399, \"avg_net_worth\": 261456}, {\"zip\": \"92805\", \"name\": \"Anaheim\", \"teslas\": 144, \"all_vehicles\": 31000, \"tesla_rate_1k\": 4.65, \"avg_house_income\": 67825, \"avg_net_worth\": 188469}, {\"zip\": \"92806\", \"name\": \"Anaheim\", \"teslas\": 85, \"all_vehicles\": 22867, \"tesla_rate_1k\": 3.72, \"avg_house_income\": 80499, \"avg_net_worth\": 359401}, {\"zip\": \"92807\", \"name\": \"Anaheim\", \"teslas\": 350, \"all_vehicles\": 25259, \"tesla_rate_1k\": 13.86, \"avg_house_income\": 137602, \"avg_net_worth\": 1597305}, {\"zip\": \"92808\", \"name\": \"Anaheim\", \"teslas\": 247, \"all_vehicles\": 13681, \"tesla_rate_1k\": 18.05, \"avg_house_income\": 143699, \"avg_net_worth\": 1285053}, {\"zip\": \"92821\", \"name\": \"Brea\", \"teslas\": 341, \"all_vehicles\": 25083, \"tesla_rate_1k\": 13.59, \"avg_house_income\": 107675, \"avg_net_worth\": 817648}, {\"zip\": \"92823\", \"name\": \"Brea\", \"teslas\": 94, \"all_vehicles\": 3657, \"tesla_rate_1k\": 25.7, \"avg_house_income\": 160500, \"avg_net_worth\": 1860622}, {\"zip\": \"92831\", \"name\": \"Fullerton\", \"teslas\": 153, \"all_vehicles\": 16902, \"tesla_rate_1k\": 9.05, \"avg_house_income\": 91744, \"avg_net_worth\": 679259}, {\"zip\": \"92832\", \"name\": \"Fullerton\", \"teslas\": 61, \"all_vehicles\": 11275, \"tesla_rate_1k\": 5.41, \"avg_house_income\": 82081, \"avg_net_worth\": 347847}, {\"zip\": \"92833\", \"name\": \"Fullerton\", \"teslas\": 301, \"all_vehicles\": 28280, \"tesla_rate_1k\": 10.64, \"avg_house_income\": 96711, \"avg_net_worth\": 568578}, {\"zip\": \"92835\", \"name\": \"Fullerton\", \"teslas\": 255, \"all_vehicles\": 14994, \"tesla_rate_1k\": 17.01, \"avg_house_income\": 135210, \"avg_net_worth\": 1550453}, {\"zip\": \"92840\", \"name\": \"Garden Grove\", \"teslas\": 109, \"all_vehicles\": 25642, \"tesla_rate_1k\": 4.25, \"avg_house_income\": 79942, \"avg_net_worth\": 372722}, {\"zip\": \"92841\", \"name\": \"Garden Grove\", \"teslas\": 89, \"all_vehicles\": 16706, \"tesla_rate_1k\": 5.33, \"avg_house_income\": 82218, \"avg_net_worth\": 392223}, {\"zip\": \"92843\", \"name\": \"Garden Grove\", \"teslas\": 91, \"all_vehicles\": 21063, \"tesla_rate_1k\": 4.32, \"avg_house_income\": 69395, \"avg_net_worth\": 246632}, {\"zip\": \"92844\", \"name\": \"Garden Grove\", \"teslas\": 63, \"all_vehicles\": 11536, \"tesla_rate_1k\": 5.46, \"avg_house_income\": 73401, \"avg_net_worth\": 239443}, {\"zip\": \"92845\", \"name\": \"Garden Grove\", \"teslas\": 37, \"all_vehicles\": 9304, \"tesla_rate_1k\": 3.98, \"avg_house_income\": 109560, \"avg_net_worth\": 1144311}, {\"zip\": \"92860\", \"name\": \"Norco\", \"teslas\": 42, \"all_vehicles\": 13165, \"tesla_rate_1k\": 3.19, \"avg_house_income\": 116705, \"avg_net_worth\": 1032919}, {\"zip\": \"92861\", \"name\": \"Villa Park\", \"teslas\": 121, \"all_vehicles\": 4186, \"tesla_rate_1k\": 28.91, \"avg_house_income\": 230380, \"avg_net_worth\": 3525386}, {\"zip\": \"92865\", \"name\": \"Orange\", \"teslas\": 83, \"all_vehicles\": 12458, \"tesla_rate_1k\": 6.66, \"avg_house_income\": 100453, \"avg_net_worth\": 658907}, {\"zip\": \"92866\", \"name\": \"Orange\", \"teslas\": 34, \"all_vehicles\": 7046, \"tesla_rate_1k\": 4.83, \"avg_house_income\": 82905, \"avg_net_worth\": 339656}, {\"zip\": \"92867\", \"name\": \"Orange\", \"teslas\": 321, \"all_vehicles\": 24544, \"tesla_rate_1k\": 13.08, \"avg_house_income\": 126665, \"avg_net_worth\": 1162849}, {\"zip\": \"92868\", \"name\": \"Orange\", \"teslas\": 54, \"all_vehicles\": 20257, \"tesla_rate_1k\": 2.67, \"avg_house_income\": 82232, \"avg_net_worth\": 200301}, {\"zip\": \"92869\", \"name\": \"Orange\", \"teslas\": 233, \"all_vehicles\": 20616, \"tesla_rate_1k\": 11.3, \"avg_house_income\": 135867, \"avg_net_worth\": 1365314}, {\"zip\": \"92870\", \"name\": \"Placentia\", \"teslas\": 240, \"all_vehicles\": 28601, \"tesla_rate_1k\": 8.39, \"avg_house_income\": 109646, \"avg_net_worth\": 1000273}, {\"zip\": \"92879\", \"name\": \"Corona\", \"teslas\": 78, \"all_vehicles\": 23587, \"tesla_rate_1k\": 3.31, \"avg_house_income\": 81327, \"avg_net_worth\": 417531}, {\"zip\": \"92880\", \"name\": \"Corona\", \"teslas\": 416, \"all_vehicles\": 42172, \"tesla_rate_1k\": 9.86, \"avg_house_income\": 124588, \"avg_net_worth\": 718534}, {\"zip\": \"92881\", \"name\": \"Corona\", \"teslas\": 152, \"all_vehicles\": 18240, \"tesla_rate_1k\": 8.33, \"avg_house_income\": 126491, \"avg_net_worth\": 971571}, {\"zip\": \"92882\", \"name\": \"Corona\", \"teslas\": 199, \"all_vehicles\": 35327, \"tesla_rate_1k\": 5.63, \"avg_house_income\": 96500, \"avg_net_worth\": 610973}, {\"zip\": \"92883\", \"name\": \"Corona\", \"teslas\": 170, \"all_vehicles\": 20480, \"tesla_rate_1k\": 8.3, \"avg_house_income\": 127029, \"avg_net_worth\": 931065}, {\"zip\": \"92886\", \"name\": \"Yorba Linda\", \"teslas\": 624, \"all_vehicles\": 31950, \"tesla_rate_1k\": 19.53, \"avg_house_income\": 151665, \"avg_net_worth\": 1693974}, {\"zip\": \"92887\", \"name\": \"Yorba Linda\", \"teslas\": 281, \"all_vehicles\": 14775, \"tesla_rate_1k\": 19.02, \"avg_house_income\": 191454, \"avg_net_worth\": 2298632}, {\"zip\": \"93001\", \"name\": \"Ventura\", \"teslas\": 117, \"all_vehicles\": 15714, \"tesla_rate_1k\": 7.45, \"avg_house_income\": 82863, \"avg_net_worth\": 430264}, {\"zip\": \"93003\", \"name\": \"Ventura\", \"teslas\": 124, \"all_vehicles\": 26229, \"tesla_rate_1k\": 4.73, \"avg_house_income\": 93714, \"avg_net_worth\": 780099}, {\"zip\": \"93004\", \"name\": \"Ventura\", \"teslas\": 60, \"all_vehicles\": 16689, \"tesla_rate_1k\": 3.6, \"avg_house_income\": 99941, \"avg_net_worth\": 754774}, {\"zip\": \"93010\", \"name\": \"Camarillo\", \"teslas\": 178, \"all_vehicles\": 24335, \"tesla_rate_1k\": 7.31, \"avg_house_income\": 114172, \"avg_net_worth\": 1177479}, {\"zip\": \"93012\", \"name\": \"Camarillo\", \"teslas\": 245, \"all_vehicles\": 22377, \"tesla_rate_1k\": 10.95, \"avg_house_income\": 136911, \"avg_net_worth\": 1495270}, {\"zip\": \"93013\", \"name\": \"Carpinteria\", \"teslas\": 52, \"all_vehicles\": 8292, \"tesla_rate_1k\": 6.27, \"avg_house_income\": 104910, \"avg_net_worth\": 865209}, {\"zip\": \"93021\", \"name\": \"Moorpark\", \"teslas\": 266, \"all_vehicles\": 22950, \"tesla_rate_1k\": 11.59, \"avg_house_income\": 132478, \"avg_net_worth\": 1113583}, {\"zip\": \"93023\", \"name\": \"Ojai\", \"teslas\": 96, \"all_vehicles\": 10499, \"tesla_rate_1k\": 9.14, \"avg_house_income\": 102629, \"avg_net_worth\": 970021}, {\"zip\": \"93030\", \"name\": \"Oxnard\", \"teslas\": 48, \"all_vehicles\": 24246, \"tesla_rate_1k\": 1.98, \"avg_house_income\": 76617, \"avg_net_worth\": 300006}, {\"zip\": \"93035\", \"name\": \"Oxnard\", \"teslas\": 94, \"all_vehicles\": 15052, \"tesla_rate_1k\": 6.25, \"avg_house_income\": 108335, \"avg_net_worth\": 756912}, {\"zip\": \"93036\", \"name\": \"Oxnard\", \"teslas\": 73, \"all_vehicles\": 21328, \"tesla_rate_1k\": 3.42, \"avg_house_income\": 84882, \"avg_net_worth\": 411872}, {\"zip\": \"93063\", \"name\": \"Simi Valley\", \"teslas\": 239, \"all_vehicles\": 32681, \"tesla_rate_1k\": 7.31, \"avg_house_income\": 112351, \"avg_net_worth\": 872694}, {\"zip\": \"93065\", \"name\": \"Simi Valley\", \"teslas\": 367, \"all_vehicles\": 43365, \"tesla_rate_1k\": 8.46, \"avg_house_income\": 127849, \"avg_net_worth\": 1069502}, {\"zip\": \"93066\", \"name\": \"Somis\", \"teslas\": 19, \"all_vehicles\": 2011, \"tesla_rate_1k\": 9.45, \"avg_house_income\": 148052, \"avg_net_worth\": 1560354}, {\"zip\": \"93101\", \"name\": \"Santa Barbara\", \"teslas\": 106, \"all_vehicles\": 13668, \"tesla_rate_1k\": 7.76, \"avg_house_income\": 74558, \"avg_net_worth\": 207049}, {\"zip\": \"93103\", \"name\": \"Santa Barbara\", \"teslas\": 88, \"all_vehicles\": 9059, \"tesla_rate_1k\": 9.71, \"avg_house_income\": 115047, \"avg_net_worth\": 745200}, {\"zip\": \"93105\", \"name\": \"Santa Barbara\", \"teslas\": 184, \"all_vehicles\": 13048, \"tesla_rate_1k\": 14.1, \"avg_house_income\": 125455, \"avg_net_worth\": 1111492}, {\"zip\": \"93108\", \"name\": \"Santa Barbara\", \"teslas\": 273, \"all_vehicles\": 6954, \"tesla_rate_1k\": 39.26, \"avg_house_income\": 168627, \"avg_net_worth\": 2111912}, {\"zip\": \"93109\", \"name\": \"Santa Barbara\", \"teslas\": 86, \"all_vehicles\": 5595, \"tesla_rate_1k\": 15.37, \"avg_house_income\": 124814, \"avg_net_worth\": 959957}, {\"zip\": \"93110\", \"name\": \"Santa Barbara\", \"teslas\": 99, \"all_vehicles\": 8397, \"tesla_rate_1k\": 11.79, \"avg_house_income\": 120891, \"avg_net_worth\": 1081846}, {\"zip\": \"93111\", \"name\": \"Santa Barbara\", \"teslas\": 107, \"all_vehicles\": 10142, \"tesla_rate_1k\": 10.55, \"avg_house_income\": 132988, \"avg_net_worth\": 1705087}, {\"zip\": \"93117\", \"name\": \"Goleta\", \"teslas\": 147, \"all_vehicles\": 17952, \"tesla_rate_1k\": 8.19, \"avg_house_income\": 86925, \"avg_net_worth\": 585123}, {\"zip\": \"93230\", \"name\": \"Hanford\", \"teslas\": 29, \"all_vehicles\": 31321, \"tesla_rate_1k\": 0.93, \"avg_house_income\": 74504, \"avg_net_worth\": 403337}, {\"zip\": \"93257\", \"name\": \"Porterville\", \"teslas\": 12, \"all_vehicles\": 28342, \"tesla_rate_1k\": 0.42, \"avg_house_income\": 57748, \"avg_net_worth\": 262436}, {\"zip\": \"93274\", \"name\": \"Tulare\", \"teslas\": 22, \"all_vehicles\": 31096, \"tesla_rate_1k\": 0.71, \"avg_house_income\": 66023, \"avg_net_worth\": 287004}, {\"zip\": \"93277\", \"name\": \"Visalia\", \"teslas\": 40, \"all_vehicles\": 22277, \"tesla_rate_1k\": 1.8, \"avg_house_income\": 75410, \"avg_net_worth\": 560586}, {\"zip\": \"93291\", \"name\": \"Visalia\", \"teslas\": 69, \"all_vehicles\": 27238, \"tesla_rate_1k\": 2.53, \"avg_house_income\": 81508, \"avg_net_worth\": 476413}, {\"zip\": \"93292\", \"name\": \"Visalia\", \"teslas\": 12, \"all_vehicles\": 19343, \"tesla_rate_1k\": 0.62, \"avg_house_income\": 74339, \"avg_net_worth\": 437017}, {\"zip\": \"93306\", \"name\": \"Bakersfield\", \"teslas\": 28, \"all_vehicles\": 28952, \"tesla_rate_1k\": 0.97, \"avg_house_income\": 74681, \"avg_net_worth\": 551897}, {\"zip\": \"93309\", \"name\": \"Bakersfield\", \"teslas\": 15, \"all_vehicles\": 25367, \"tesla_rate_1k\": 0.59, \"avg_house_income\": 67090, \"avg_net_worth\": 416729}, {\"zip\": \"93311\", \"name\": \"Bakersfield\", \"teslas\": 117, \"all_vehicles\": 28191, \"tesla_rate_1k\": 4.15, \"avg_house_income\": 116278, \"avg_net_worth\": 912168}, {\"zip\": \"93312\", \"name\": \"Bakersfield\", \"teslas\": 64, \"all_vehicles\": 31663, \"tesla_rate_1k\": 2.02, \"avg_house_income\": 115166, \"avg_net_worth\": 839205}, {\"zip\": \"93313\", \"name\": \"Bakersfield\", \"teslas\": 29, \"all_vehicles\": 28118, \"tesla_rate_1k\": 1.03, \"avg_house_income\": 77577, \"avg_net_worth\": 384244}, {\"zip\": \"93314\", \"name\": \"Bakersfield\", \"teslas\": 51, \"all_vehicles\": 19259, \"tesla_rate_1k\": 2.65, \"avg_house_income\": 130489, \"avg_net_worth\": 1005572}, {\"zip\": \"93401\", \"name\": \"San Luis Obispo\", \"teslas\": 169, \"all_vehicles\": 15520, \"tesla_rate_1k\": 10.89, \"avg_house_income\": 84844, \"avg_net_worth\": 544298}, {\"zip\": \"93402\", \"name\": \"Los Osos\", \"teslas\": 46, \"all_vehicles\": 7135, \"tesla_rate_1k\": 6.45, \"avg_house_income\": 82620, \"avg_net_worth\": 891333}, {\"zip\": \"93405\", \"name\": \"San Luis Obispo\", \"teslas\": 55, \"all_vehicles\": 7382, \"tesla_rate_1k\": 7.45, \"avg_house_income\": 64275, \"avg_net_worth\": 429569}, {\"zip\": \"93420\", \"name\": \"Arroyo Grande\", \"teslas\": 120, \"all_vehicles\": 16805, \"tesla_rate_1k\": 7.14, \"avg_house_income\": 101987, \"avg_net_worth\": 1208892}, {\"zip\": \"93422\", \"name\": \"Atascadero\", \"teslas\": 54, \"all_vehicles\": 16725, \"tesla_rate_1k\": 3.23, \"avg_house_income\": 89955, \"avg_net_worth\": 873095}, {\"zip\": \"93427\", \"name\": \"Buellton\", \"teslas\": 16, \"all_vehicles\": 3383, \"tesla_rate_1k\": 4.73, \"avg_house_income\": 105386, \"avg_net_worth\": 781866}, {\"zip\": \"93428\", \"name\": \"Cambria\", \"teslas\": 11, \"all_vehicles\": 3460, \"tesla_rate_1k\": 3.18, \"avg_house_income\": 99016, \"avg_net_worth\": 1551427}, {\"zip\": \"93436\", \"name\": \"Lompoc\", \"teslas\": 34, \"all_vehicles\": 21514, \"tesla_rate_1k\": 1.58, \"avg_house_income\": 74251, \"avg_net_worth\": 558281}, {\"zip\": \"93442\", \"name\": \"Morro Bay\", \"teslas\": 12, \"all_vehicles\": 5754, \"tesla_rate_1k\": 2.09, \"avg_house_income\": 77336, \"avg_net_worth\": 671582}, {\"zip\": \"93444\", \"name\": \"Nipomo\", \"teslas\": 51, \"all_vehicles\": 11961, \"tesla_rate_1k\": 4.26, \"avg_house_income\": 93777, \"avg_net_worth\": 979276}, {\"zip\": \"93446\", \"name\": \"Paso Robles\", \"teslas\": 54, \"all_vehicles\": 23510, \"tesla_rate_1k\": 2.3, \"avg_house_income\": 89608, \"avg_net_worth\": 814803}, {\"zip\": \"93449\", \"name\": \"Pismo Beach\", \"teslas\": 47, \"all_vehicles\": 5023, \"tesla_rate_1k\": 9.36, \"avg_house_income\": 94406, \"avg_net_worth\": 1149053}, {\"zip\": \"93455\", \"name\": \"Santa Maria\", \"teslas\": 29, \"all_vehicles\": 22947, \"tesla_rate_1k\": 1.26, \"avg_house_income\": 93664, \"avg_net_worth\": 972670}, {\"zip\": \"93460\", \"name\": \"Santa Ynez\", \"teslas\": 15, \"all_vehicles\": 3572, \"tesla_rate_1k\": 4.2, \"avg_house_income\": 152951, \"avg_net_worth\": 1694228}, {\"zip\": \"93463\", \"name\": \"Solvang\", \"teslas\": 28, \"all_vehicles\": 4550, \"tesla_rate_1k\": 6.15, \"avg_house_income\": 119596, \"avg_net_worth\": 1242182}, {\"zip\": \"93465\", \"name\": \"Templeton\", \"teslas\": 23, \"all_vehicles\": 5960, \"tesla_rate_1k\": 3.86, \"avg_house_income\": 116019, \"avg_net_worth\": 1224056}, {\"zip\": \"93534\", \"name\": \"Lancaster\", \"teslas\": 13, \"all_vehicles\": 15280, \"tesla_rate_1k\": 0.85, \"avg_house_income\": 55028, \"avg_net_worth\": 205093}, {\"zip\": \"93535\", \"name\": \"Lancaster\", \"teslas\": 11, \"all_vehicles\": 29277, \"tesla_rate_1k\": 0.38, \"avg_house_income\": 60054, \"avg_net_worth\": 203408}, {\"zip\": \"93536\", \"name\": \"Lancaster\", \"teslas\": 82, \"all_vehicles\": 34238, \"tesla_rate_1k\": 2.39, \"avg_house_income\": 90350, \"avg_net_worth\": 624724}, {\"zip\": \"93550\", \"name\": \"Palmdale\", \"teslas\": 12, \"all_vehicles\": 30621, \"tesla_rate_1k\": 0.39, \"avg_house_income\": 55487, \"avg_net_worth\": 191578}, {\"zip\": \"93551\", \"name\": \"Palmdale\", \"teslas\": 93, \"all_vehicles\": 29334, \"tesla_rate_1k\": 3.17, \"avg_house_income\": 110433, \"avg_net_worth\": 907895}, {\"zip\": \"93555\", \"name\": \"Ridgecrest\", \"teslas\": 25, \"all_vehicles\": 14762, \"tesla_rate_1k\": 1.69, \"avg_house_income\": 78229, \"avg_net_worth\": 663056}, {\"zip\": \"93561\", \"name\": \"Tehachapi\", \"teslas\": 37, \"all_vehicles\": 15259, \"tesla_rate_1k\": 2.42, \"avg_house_income\": 87442, \"avg_net_worth\": 975945}, {\"zip\": \"93611\", \"name\": \"Clovis\", \"teslas\": 68, \"all_vehicles\": 24761, \"tesla_rate_1k\": 2.75, \"avg_house_income\": 98278, \"avg_net_worth\": 867370}, {\"zip\": \"93619\", \"name\": \"Clovis\", \"teslas\": 180, \"all_vehicles\": 26337, \"tesla_rate_1k\": 6.83, \"avg_house_income\": 138524, \"avg_net_worth\": 1229486}, {\"zip\": \"93635\", \"name\": \"Los Banos\", \"teslas\": 12, \"all_vehicles\": 20044, \"tesla_rate_1k\": 0.6, \"avg_house_income\": 71225, \"avg_net_worth\": 320256}, {\"zip\": \"93636\", \"name\": \"Madera\", \"teslas\": 11, \"all_vehicles\": 7265, \"tesla_rate_1k\": 1.51, \"avg_house_income\": 98079, \"avg_net_worth\": 1210085}, {\"zip\": \"93657\", \"name\": \"Sanger\", \"teslas\": 12, \"all_vehicles\": 15676, \"tesla_rate_1k\": 0.77, \"avg_house_income\": 71250, \"avg_net_worth\": 499714}, {\"zip\": \"93710\", \"name\": \"Fresno\", \"teslas\": 11, \"all_vehicles\": 11554, \"tesla_rate_1k\": 0.95, \"avg_house_income\": 58789, \"avg_net_worth\": 460792}, {\"zip\": \"93711\", \"name\": \"Fresno\", \"teslas\": 125, \"all_vehicles\": 21980, \"tesla_rate_1k\": 5.69, \"avg_house_income\": 108938, \"avg_net_worth\": 1320509}, {\"zip\": \"93720\", \"name\": \"Fresno\", \"teslas\": 135, \"all_vehicles\": 25579, \"tesla_rate_1k\": 5.28, \"avg_house_income\": 107159, \"avg_net_worth\": 739276}, {\"zip\": \"93722\", \"name\": \"Fresno\", \"teslas\": 68, \"all_vehicles\": 37983, \"tesla_rate_1k\": 1.79, \"avg_house_income\": 72231, \"avg_net_worth\": 336818}, {\"zip\": \"93723\", \"name\": \"Fresno\", \"teslas\": 11, \"all_vehicles\": 6003, \"tesla_rate_1k\": 1.83, \"avg_house_income\": 88644, \"avg_net_worth\": 494795}, {\"zip\": \"93727\", \"name\": \"Fresno\", \"teslas\": 61, \"all_vehicles\": 33109, \"tesla_rate_1k\": 1.84, \"avg_house_income\": 65109, \"avg_net_worth\": 362689}, {\"zip\": \"93730\", \"name\": \"Fresno\", \"teslas\": 104, \"all_vehicles\": 7952, \"tesla_rate_1k\": 13.08, \"avg_house_income\": 145888, \"avg_net_worth\": 1425125}, {\"zip\": \"93901\", \"name\": \"Salinas\", \"teslas\": 15, \"all_vehicles\": 13176, \"tesla_rate_1k\": 1.14, \"avg_house_income\": 74403, \"avg_net_worth\": 310363}, {\"zip\": \"93907\", \"name\": \"Salinas\", \"teslas\": 11, \"all_vehicles\": 11691, \"tesla_rate_1k\": 0.94, \"avg_house_income\": 94111, \"avg_net_worth\": 838870}, {\"zip\": \"93908\", \"name\": \"Salinas\", \"teslas\": 49, \"all_vehicles\": 8215, \"tesla_rate_1k\": 5.96, \"avg_house_income\": 155792, \"avg_net_worth\": 1849136}, {\"zip\": \"93921\", \"name\": \"Carmel By The Sea\", \"teslas\": 22, \"all_vehicles\": 1934, \"tesla_rate_1k\": 11.38, \"avg_house_income\": 111710, \"avg_net_worth\": 1420588}, {\"zip\": \"93923\", \"name\": \"Carmel\", \"teslas\": 157, \"all_vehicles\": 7039, \"tesla_rate_1k\": 22.3, \"avg_house_income\": 145334, \"avg_net_worth\": 2015400}, {\"zip\": \"93924\", \"name\": \"Carmel Valley\", \"teslas\": 60, \"all_vehicles\": 3838, \"tesla_rate_1k\": 15.63, \"avg_house_income\": 129452, \"avg_net_worth\": 1607933}, {\"zip\": \"93933\", \"name\": \"Marina\", \"teslas\": 51, \"all_vehicles\": 11868, \"tesla_rate_1k\": 4.3, \"avg_house_income\": 75642, \"avg_net_worth\": 293339}, {\"zip\": \"93940\", \"name\": \"Monterey\", \"teslas\": 113, \"all_vehicles\": 15042, \"tesla_rate_1k\": 7.51, \"avg_house_income\": 99910, \"avg_net_worth\": 804611}, {\"zip\": \"93950\", \"name\": \"Pacific Grove\", \"teslas\": 49, \"all_vehicles\": 7343, \"tesla_rate_1k\": 6.67, \"avg_house_income\": 107981, \"avg_net_worth\": 723272}, {\"zip\": \"93953\", \"name\": \"Pebble Beach\", \"teslas\": 41, \"all_vehicles\": 3029, \"tesla_rate_1k\": 13.54, \"avg_house_income\": 172778, \"avg_net_worth\": 2815949}, {\"zip\": \"93955\", \"name\": \"Seaside\", \"teslas\": 22, \"all_vehicles\": 13802, \"tesla_rate_1k\": 1.59, \"avg_house_income\": 76454, \"avg_net_worth\": 284273}, {\"zip\": \"94002\", \"name\": \"Belmont\", \"teslas\": 595, \"all_vehicles\": 16130, \"tesla_rate_1k\": 36.89, \"avg_house_income\": 153464, \"avg_net_worth\": 1318219}, {\"zip\": \"94005\", \"name\": \"Brisbane\", \"teslas\": 60, \"all_vehicles\": 3037, \"tesla_rate_1k\": 19.76, \"avg_house_income\": 129571, \"avg_net_worth\": 730994}, {\"zip\": \"94010\", \"name\": \"Burlingame\", \"teslas\": 1217, \"all_vehicles\": 35012, \"tesla_rate_1k\": 34.76, \"avg_house_income\": 182761, \"avg_net_worth\": 1704921}, {\"zip\": \"94014\", \"name\": \"Daly City\", \"teslas\": 98, \"all_vehicles\": 21268, \"tesla_rate_1k\": 4.61, \"avg_house_income\": 99605, \"avg_net_worth\": 577496}, {\"zip\": \"94015\", \"name\": \"Daly City\", \"teslas\": 220, \"all_vehicles\": 30113, \"tesla_rate_1k\": 7.31, \"avg_house_income\": 101482, \"avg_net_worth\": 696394}, {\"zip\": \"94018\", \"name\": \"El Granada\", \"teslas\": 13, \"all_vehicles\": 1979, \"tesla_rate_1k\": 6.57, \"avg_house_income\": 157949, \"avg_net_worth\": 1122459}, {\"zip\": \"94019\", \"name\": \"Half Moon Bay\", \"teslas\": 169, \"all_vehicles\": 8961, \"tesla_rate_1k\": 18.86, \"avg_house_income\": 151305, \"avg_net_worth\": 1312367}, {\"zip\": \"94022\", \"name\": \"Los Altos\", \"teslas\": 1227, \"all_vehicles\": 13697, \"tesla_rate_1k\": 89.58, \"avg_house_income\": 248970, \"avg_net_worth\": 3041961}, {\"zip\": \"94024\", \"name\": \"Los Altos\", \"teslas\": 1210, \"all_vehicles\": 14870, \"tesla_rate_1k\": 81.37, \"avg_house_income\": 259185, \"avg_net_worth\": 3442702}, {\"zip\": \"94025\", \"name\": \"Menlo Park\", \"teslas\": 1266, \"all_vehicles\": 23646, \"tesla_rate_1k\": 53.54, \"avg_house_income\": 189555, \"avg_net_worth\": 1560589}, {\"zip\": \"94027\", \"name\": \"Atherton\", \"teslas\": 527, \"all_vehicles\": 5132, \"tesla_rate_1k\": 102.69, \"avg_house_income\": 297732, \"avg_net_worth\": 3680197}, {\"zip\": \"94028\", \"name\": \"Portola Valley\", \"teslas\": 358, \"all_vehicles\": 4794, \"tesla_rate_1k\": 74.68, \"avg_house_income\": 263238, \"avg_net_worth\": 3322715}, {\"zip\": \"94030\", \"name\": \"Millbrae\", \"teslas\": 319, \"all_vehicles\": 12963, \"tesla_rate_1k\": 24.61, \"avg_house_income\": 124010, \"avg_net_worth\": 1055268}, {\"zip\": \"94037\", \"name\": \"Montara\", \"teslas\": 20, \"all_vehicles\": 1684, \"tesla_rate_1k\": 11.88, \"avg_house_income\": 181921, \"avg_net_worth\": 1599678}, {\"zip\": \"94038\", \"name\": \"Moss Beach\", \"teslas\": 16, \"all_vehicles\": 1618, \"tesla_rate_1k\": 9.89, \"avg_house_income\": 143367, \"avg_net_worth\": 1370182}, {\"zip\": \"94040\", \"name\": \"Mountain View\", \"teslas\": 709, \"all_vehicles\": 18513, \"tesla_rate_1k\": 38.3, \"avg_house_income\": 154399, \"avg_net_worth\": 1037811}, {\"zip\": \"94041\", \"name\": \"Mountain View\", \"teslas\": 260, \"all_vehicles\": 7873, \"tesla_rate_1k\": 33.02, \"avg_house_income\": 141630, \"avg_net_worth\": 450008}, {\"zip\": \"94043\", \"name\": \"Mountain View\", \"teslas\": 612, \"all_vehicles\": 18015, \"tesla_rate_1k\": 33.97, \"avg_house_income\": 126536, \"avg_net_worth\": 495343}, {\"zip\": \"94044\", \"name\": \"Pacifica\", \"teslas\": 236, \"all_vehicles\": 21234, \"tesla_rate_1k\": 11.11, \"avg_house_income\": 127839, \"avg_net_worth\": 1045532}, {\"zip\": \"94061\", \"name\": \"Redwood City\", \"teslas\": 368, \"all_vehicles\": 18491, \"tesla_rate_1k\": 19.9, \"avg_house_income\": 120124, \"avg_net_worth\": 744872}, {\"zip\": \"94062\", \"name\": \"Redwood City\", \"teslas\": 826, \"all_vehicles\": 16717, \"tesla_rate_1k\": 49.41, \"avg_house_income\": 201482, \"avg_net_worth\": 2218705}, {\"zip\": \"94063\", \"name\": \"Redwood City\", \"teslas\": 247, \"all_vehicles\": 17015, \"tesla_rate_1k\": 14.52, \"avg_house_income\": 77062, \"avg_net_worth\": 184537}, {\"zip\": \"94065\", \"name\": \"Redwood City\", \"teslas\": 422, \"all_vehicles\": 7882, \"tesla_rate_1k\": 53.54, \"avg_house_income\": 180636, \"avg_net_worth\": 1163567}, {\"zip\": \"94066\", \"name\": \"San Bruno\", \"teslas\": 240, \"all_vehicles\": 23001, \"tesla_rate_1k\": 10.43, \"avg_house_income\": 108465, \"avg_net_worth\": 658667}, {\"zip\": \"94070\", \"name\": \"San Carlos\", \"teslas\": 740, \"all_vehicles\": 19708, \"tesla_rate_1k\": 37.55, \"avg_house_income\": 183383, \"avg_net_worth\": 1803477}, {\"zip\": \"94080\", \"name\": \"South San Francisco\", \"teslas\": 334, \"all_vehicles\": 106998, \"tesla_rate_1k\": 3.12, \"avg_house_income\": 103433, \"avg_net_worth\": 673397}, {\"zip\": \"94085\", \"name\": \"Sunnyvale\", \"teslas\": 301, \"all_vehicles\": 13062, \"tesla_rate_1k\": 23.04, \"avg_house_income\": 115405, \"avg_net_worth\": 337408}, {\"zip\": \"94086\", \"name\": \"Sunnyvale\", \"teslas\": 724, \"all_vehicles\": 25433, \"tesla_rate_1k\": 28.47, \"avg_house_income\": 132924, \"avg_net_worth\": 530081}, {\"zip\": \"94087\", \"name\": \"Sunnyvale\", \"teslas\": 1136, \"all_vehicles\": 30692, \"tesla_rate_1k\": 37.01, \"avg_house_income\": 159236, \"avg_net_worth\": 1315787}, {\"zip\": \"94089\", \"name\": \"Sunnyvale\", \"teslas\": 275, \"all_vehicles\": 12817, \"tesla_rate_1k\": 21.46, \"avg_house_income\": 113191, \"avg_net_worth\": 892703}, {\"zip\": \"94102\", \"name\": \"San Francisco\", \"teslas\": 92, \"all_vehicles\": 5781, \"tesla_rate_1k\": 15.91, \"avg_house_income\": 60364, \"avg_net_worth\": 74169}, {\"zip\": \"94103\", \"name\": \"San Francisco\", \"teslas\": 178, \"all_vehicles\": 9111, \"tesla_rate_1k\": 19.54, \"avg_house_income\": 95306, \"avg_net_worth\": 166682}, {\"zip\": \"94105\", \"name\": \"San Francisco\", \"teslas\": 237, \"all_vehicles\": 9205, \"tesla_rate_1k\": 25.75, \"avg_house_income\": 201519, \"avg_net_worth\": 662474}, {\"zip\": \"94107\", \"name\": \"San Francisco\", \"teslas\": 344, \"all_vehicles\": 11827, \"tesla_rate_1k\": 29.09, \"avg_house_income\": 178675, \"avg_net_worth\": 574303}, {\"zip\": \"94108\", \"name\": \"San Francisco\", \"teslas\": 14, \"all_vehicles\": 2511, \"tesla_rate_1k\": 5.58, \"avg_house_income\": 70664, \"avg_net_worth\": 101875}, {\"zip\": \"94109\", \"name\": \"San Francisco\", \"teslas\": 216, \"all_vehicles\": 13744, \"tesla_rate_1k\": 15.72, \"avg_house_income\": 117269, \"avg_net_worth\": 254692}, {\"zip\": \"94110\", \"name\": \"San Francisco\", \"teslas\": 352, \"all_vehicles\": 20827, \"tesla_rate_1k\": 16.9, \"avg_house_income\": 120222, \"avg_net_worth\": 378572}, {\"zip\": \"94111\", \"name\": \"San Francisco\", \"teslas\": 23, \"all_vehicles\": 1966, \"tesla_rate_1k\": 11.7, \"avg_house_income\": 144347, \"avg_net_worth\": 438188}, {\"zip\": \"94112\", \"name\": \"San Francisco\", \"teslas\": 206, \"all_vehicles\": 30503, \"tesla_rate_1k\": 6.75, \"avg_house_income\": 100712, \"avg_net_worth\": 575002}, {\"zip\": \"94114\", \"name\": \"San Francisco\", \"teslas\": 410, \"all_vehicles\": 12520, \"tesla_rate_1k\": 32.75, \"avg_house_income\": 176643, \"avg_net_worth\": 636680}, {\"zip\": \"94115\", \"name\": \"San Francisco\", \"teslas\": 215, \"all_vehicles\": 12066, \"tesla_rate_1k\": 17.82, \"avg_house_income\": 132801, \"avg_net_worth\": 356693}, {\"zip\": \"94116\", \"name\": \"San Francisco\", \"teslas\": 286, \"all_vehicles\": 19191, \"tesla_rate_1k\": 14.9, \"avg_house_income\": 126197, \"avg_net_worth\": 951919}, {\"zip\": \"94117\", \"name\": \"San Francisco\", \"teslas\": 265, \"all_vehicles\": 12099, \"tesla_rate_1k\": 21.9, \"avg_house_income\": 148185, \"avg_net_worth\": 389444}, {\"zip\": \"94118\", \"name\": \"San Francisco\", \"teslas\": 236, \"all_vehicles\": 14688, \"tesla_rate_1k\": 16.07, \"avg_house_income\": 127604, \"avg_net_worth\": 454335}, {\"zip\": \"94121\", \"name\": \"San Francisco\", \"teslas\": 228, \"all_vehicles\": 15889, \"tesla_rate_1k\": 14.35, \"avg_house_income\": 111435, \"avg_net_worth\": 481321}, {\"zip\": \"94122\", \"name\": \"San Francisco\", \"teslas\": 295, \"all_vehicles\": 22172, \"tesla_rate_1k\": 13.31, \"avg_house_income\": 118066, \"avg_net_worth\": 516092}, {\"zip\": \"94123\", \"name\": \"San Francisco\", \"teslas\": 242, \"all_vehicles\": 10495, \"tesla_rate_1k\": 23.06, \"avg_house_income\": 181522, \"avg_net_worth\": 498004}, {\"zip\": \"94124\", \"name\": \"San Francisco\", \"teslas\": 112, \"all_vehicles\": 19118, \"tesla_rate_1k\": 5.86, \"avg_house_income\": 75251, \"avg_net_worth\": 321540}, {\"zip\": \"94127\", \"name\": \"San Francisco\", \"teslas\": 237, \"all_vehicles\": 9733, \"tesla_rate_1k\": 24.35, \"avg_house_income\": 189060, \"avg_net_worth\": 2151953}, {\"zip\": \"94129\", \"name\": \"San Francisco\", \"teslas\": 29, \"all_vehicles\": 1484, \"tesla_rate_1k\": 19.54, \"avg_house_income\": 214222, \"avg_net_worth\": 208164}, {\"zip\": \"94131\", \"name\": \"San Francisco\", \"teslas\": 348, \"all_vehicles\": 12579, \"tesla_rate_1k\": 27.67, \"avg_house_income\": 153520, \"avg_net_worth\": 841595}, {\"zip\": \"94132\", \"name\": \"San Francisco\", \"teslas\": 123, \"all_vehicles\": 10589, \"tesla_rate_1k\": 11.62, \"avg_house_income\": 97259, \"avg_net_worth\": 591524}, {\"zip\": \"94133\", \"name\": \"San Francisco\", \"teslas\": 116, \"all_vehicles\": 7023, \"tesla_rate_1k\": 16.52, \"avg_house_income\": 103741, \"avg_net_worth\": 257170}, {\"zip\": \"94134\", \"name\": \"San Francisco\", \"teslas\": 107, \"all_vehicles\": 16840, \"tesla_rate_1k\": 6.35, \"avg_house_income\": 84520, \"avg_net_worth\": 486762}, {\"zip\": \"94158\", \"name\": \"San Francisco\", \"teslas\": 109, \"all_vehicles\": 2666, \"tesla_rate_1k\": 40.89, \"avg_house_income\": 160642, \"avg_net_worth\": 395472}, {\"zip\": \"94301\", \"name\": \"Palo Alto\", \"teslas\": 764, \"all_vehicles\": 9338, \"tesla_rate_1k\": 81.82, \"avg_house_income\": 224861, \"avg_net_worth\": 1760729}, {\"zip\": \"94303\", \"name\": \"Palo Alto\", \"teslas\": 693, \"all_vehicles\": 22880, \"tesla_rate_1k\": 30.29, \"avg_house_income\": 143089, \"avg_net_worth\": 1232486}, {\"zip\": \"94304\", \"name\": \"Palo Alto\", \"teslas\": 44, \"all_vehicles\": 1977, \"tesla_rate_1k\": 22.26, \"avg_house_income\": 180386, \"avg_net_worth\": 650523}, {\"zip\": \"94305\", \"name\": \"Stanford\", \"teslas\": 82, \"all_vehicles\": 3172, \"tesla_rate_1k\": 25.85, \"avg_house_income\": 99957, \"avg_net_worth\": 870099}, {\"zip\": \"94306\", \"name\": \"Palo Alto\", \"teslas\": 793, \"all_vehicles\": 14763, \"tesla_rate_1k\": 53.72, \"avg_house_income\": 185911, \"avg_net_worth\": 1201613}, {\"zip\": \"94401\", \"name\": \"San Mateo\", \"teslas\": 203, \"all_vehicles\": 16282, \"tesla_rate_1k\": 12.47, \"avg_house_income\": 103435, \"avg_net_worth\": 448435}, {\"zip\": \"94402\", \"name\": \"San Mateo\", \"teslas\": 498, \"all_vehicles\": 15435, \"tesla_rate_1k\": 32.26, \"avg_house_income\": 177661, \"avg_net_worth\": 1670015}, {\"zip\": \"94403\", \"name\": \"San Mateo\", \"teslas\": 516, \"all_vehicles\": 23952, \"tesla_rate_1k\": 21.54, \"avg_house_income\": 137065, \"avg_net_worth\": 917227}, {\"zip\": \"94404\", \"name\": \"San Mateo\", \"teslas\": 680, \"all_vehicles\": 21592, \"tesla_rate_1k\": 31.49, \"avg_house_income\": 155522, \"avg_net_worth\": 1178802}, {\"zip\": \"94501\", \"name\": \"Alameda\", \"teslas\": 374, \"all_vehicles\": 28259, \"tesla_rate_1k\": 13.23, \"avg_house_income\": 102776, \"avg_net_worth\": 510704}, {\"zip\": \"94502\", \"name\": \"Alameda\", \"teslas\": 167, \"all_vehicles\": 8009, \"tesla_rate_1k\": 20.85, \"avg_house_income\": 160510, \"avg_net_worth\": 1993109}, {\"zip\": \"94503\", \"name\": \"American Canyon\", \"teslas\": 73, \"all_vehicles\": 11293, \"tesla_rate_1k\": 6.46, \"avg_house_income\": 107973, \"avg_net_worth\": 728081}, {\"zip\": \"94505\", \"name\": \"Discovery Bay\", \"teslas\": 49, \"all_vehicles\": 9220, \"tesla_rate_1k\": 5.31, \"avg_house_income\": 136854, \"avg_net_worth\": 1481242}, {\"zip\": \"94506\", \"name\": \"Danville\", \"teslas\": 726, \"all_vehicles\": 17300, \"tesla_rate_1k\": 41.97, \"avg_house_income\": 230398, \"avg_net_worth\": 2503017}, {\"zip\": \"94507\", \"name\": \"Alamo\", \"teslas\": 448, \"all_vehicles\": 11220, \"tesla_rate_1k\": 39.93, \"avg_house_income\": 249153, \"avg_net_worth\": 3459025}, {\"zip\": \"94509\", \"name\": \"Antioch\", \"teslas\": 40, \"all_vehicles\": 28736, \"tesla_rate_1k\": 1.39, \"avg_house_income\": 72282, \"avg_net_worth\": 404511}, {\"zip\": \"94510\", \"name\": \"Benicia\", \"teslas\": 143, \"all_vehicles\": 17183, \"tesla_rate_1k\": 8.32, \"avg_house_income\": 121179, \"avg_net_worth\": 1088440}, {\"zip\": \"94513\", \"name\": \"Brentwood\", \"teslas\": 339, \"all_vehicles\": 36841, \"tesla_rate_1k\": 9.2, \"avg_house_income\": 115596, \"avg_net_worth\": 914371}, {\"zip\": \"94517\", \"name\": \"Clayton\", \"teslas\": 51, \"all_vehicles\": 7789, \"tesla_rate_1k\": 6.55, \"avg_house_income\": 171070, \"avg_net_worth\": 1921217}, {\"zip\": \"94518\", \"name\": \"Concord\", \"teslas\": 73, \"all_vehicles\": 13787, \"tesla_rate_1k\": 5.29, \"avg_house_income\": 99278, \"avg_net_worth\": 752736}, {\"zip\": \"94519\", \"name\": \"Concord\", \"teslas\": 35, \"all_vehicles\": 9145, \"tesla_rate_1k\": 3.83, \"avg_house_income\": 92201, \"avg_net_worth\": 565757}, {\"zip\": \"94520\", \"name\": \"Concord\", \"teslas\": 43, \"all_vehicles\": 18772, \"tesla_rate_1k\": 2.29, \"avg_house_income\": 64702, \"avg_net_worth\": 206329}, {\"zip\": \"94521\", \"name\": \"Concord\", \"teslas\": 128, \"all_vehicles\": 22034, \"tesla_rate_1k\": 5.81, \"avg_house_income\": 114689, \"avg_net_worth\": 871602}, {\"zip\": \"94523\", \"name\": \"Pleasant Hill\", \"teslas\": 161, \"all_vehicles\": 18887, \"tesla_rate_1k\": 8.52, \"avg_house_income\": 116533, \"avg_net_worth\": 1021503}, {\"zip\": \"94526\", \"name\": \"Danville\", \"teslas\": 579, \"all_vehicles\": 21777, \"tesla_rate_1k\": 26.59, \"avg_house_income\": 190271, \"avg_net_worth\": 2332454}, {\"zip\": \"94528\", \"name\": \"Diablo\", \"teslas\": 15, \"all_vehicles\": 817, \"tesla_rate_1k\": 18.36, \"avg_house_income\": 219754, \"avg_net_worth\": 3271353}, {\"zip\": \"94530\", \"name\": \"El Cerrito\", \"teslas\": 104, \"all_vehicles\": 12220, \"tesla_rate_1k\": 8.51, \"avg_house_income\": 117308, \"avg_net_worth\": 1059582}, {\"zip\": \"94531\", \"name\": \"Antioch\", \"teslas\": 76, \"all_vehicles\": 22704, \"tesla_rate_1k\": 3.35, \"avg_house_income\": 119048, \"avg_net_worth\": 833120}, {\"zip\": \"94533\", \"name\": \"Fairfield\", \"teslas\": 94, \"all_vehicles\": 34482, \"tesla_rate_1k\": 2.73, \"avg_house_income\": 75500, \"avg_net_worth\": 477044}, {\"zip\": \"94534\", \"name\": \"Fairfield\", \"teslas\": 263, \"all_vehicles\": 25359, \"tesla_rate_1k\": 10.37, \"avg_house_income\": 128958, \"avg_net_worth\": 1199434}, {\"zip\": \"94536\", \"name\": \"Fremont\", \"teslas\": 877, \"all_vehicles\": 35812, \"tesla_rate_1k\": 24.49, \"avg_house_income\": 117933, \"avg_net_worth\": 718505}, {\"zip\": \"94538\", \"name\": \"Fremont\", \"teslas\": 1525, \"all_vehicles\": 36046, \"tesla_rate_1k\": 42.31, \"avg_house_income\": 107573, \"avg_net_worth\": 461390}, {\"zip\": \"94539\", \"name\": \"Fremont\", \"teslas\": 1931, \"all_vehicles\": 31330, \"tesla_rate_1k\": 61.63, \"avg_house_income\": 198198, \"avg_net_worth\": 2070851}, {\"zip\": \"94541\", \"name\": \"Hayward\", \"teslas\": 173, \"all_vehicles\": 28939, \"tesla_rate_1k\": 5.98, \"avg_house_income\": 79328, \"avg_net_worth\": 265947}, {\"zip\": \"94542\", \"name\": \"Hayward\", \"teslas\": 193, \"all_vehicles\": 7664, \"tesla_rate_1k\": 25.18, \"avg_house_income\": 138124, \"avg_net_worth\": 1171673}, {\"zip\": \"94544\", \"name\": \"Hayward\", \"teslas\": 215, \"all_vehicles\": 35471, \"tesla_rate_1k\": 6.06, \"avg_house_income\": 79041, \"avg_net_worth\": 358011}, {\"zip\": \"94545\", \"name\": \"Hayward\", \"teslas\": 186, \"all_vehicles\": 18672, \"tesla_rate_1k\": 9.96, \"avg_house_income\": 94069, \"avg_net_worth\": 566075}, {\"zip\": \"94546\", \"name\": \"Castro Valley\", \"teslas\": 209, \"all_vehicles\": 22864, \"tesla_rate_1k\": 9.14, \"avg_house_income\": 103962, \"avg_net_worth\": 835348}, {\"zip\": \"94547\", \"name\": \"Hercules\", \"teslas\": 140, \"all_vehicles\": 14348, \"tesla_rate_1k\": 9.76, \"avg_house_income\": 121237, \"avg_net_worth\": 955095}, {\"zip\": \"94549\", \"name\": \"Lafayette\", \"teslas\": 574, \"all_vehicles\": 17459, \"tesla_rate_1k\": 32.88, \"avg_house_income\": 210471, \"avg_net_worth\": 2569686}, {\"zip\": \"94550\", \"name\": \"Livermore\", \"teslas\": 409, \"all_vehicles\": 29152, \"tesla_rate_1k\": 14.03, \"avg_house_income\": 143422, \"avg_net_worth\": 1189894}, {\"zip\": \"94551\", \"name\": \"Livermore\", \"teslas\": 195, \"all_vehicles\": 24107, \"tesla_rate_1k\": 8.09, \"avg_house_income\": 130939, \"avg_net_worth\": 941460}, {\"zip\": \"94552\", \"name\": \"Castro Valley\", \"teslas\": 244, \"all_vehicles\": 9257, \"tesla_rate_1k\": 26.36, \"avg_house_income\": 174983, \"avg_net_worth\": 1777464}, {\"zip\": \"94553\", \"name\": \"Martinez\", \"teslas\": 151, \"all_vehicles\": 27749, \"tesla_rate_1k\": 5.44, \"avg_house_income\": 106138, \"avg_net_worth\": 834830}, {\"zip\": \"94555\", \"name\": \"Fremont\", \"teslas\": 911, \"all_vehicles\": 19526, \"tesla_rate_1k\": 46.66, \"avg_house_income\": 138683, \"avg_net_worth\": 991742}, {\"zip\": \"94556\", \"name\": \"Moraga\", \"teslas\": 190, \"all_vehicles\": 9114, \"tesla_rate_1k\": 20.85, \"avg_house_income\": 208972, \"avg_net_worth\": 2912917}, {\"zip\": \"94558\", \"name\": \"Napa\", \"teslas\": 326, \"all_vehicles\": 34836, \"tesla_rate_1k\": 9.36, \"avg_house_income\": 104875, \"avg_net_worth\": 1095473}, {\"zip\": \"94559\", \"name\": \"Napa\", \"teslas\": 85, \"all_vehicles\": 13845, \"tesla_rate_1k\": 6.14, \"avg_house_income\": 86166, \"avg_net_worth\": 480593}, {\"zip\": \"94560\", \"name\": \"Newark\", \"teslas\": 540, \"all_vehicles\": 25129, \"tesla_rate_1k\": 21.49, \"avg_house_income\": 105880, \"avg_net_worth\": 722037}, {\"zip\": \"94561\", \"name\": \"Oakley\", \"teslas\": 58, \"all_vehicles\": 22138, \"tesla_rate_1k\": 2.62, \"avg_house_income\": 101881, \"avg_net_worth\": 596132}, {\"zip\": \"94563\", \"name\": \"Orinda\", \"teslas\": 551, \"all_vehicles\": 12570, \"tesla_rate_1k\": 43.83, \"avg_house_income\": 244323, \"avg_net_worth\": 3410284}, {\"zip\": \"94564\", \"name\": \"Pinole\", \"teslas\": 39, \"all_vehicles\": 10095, \"tesla_rate_1k\": 3.86, \"avg_house_income\": 103533, \"avg_net_worth\": 946957}, {\"zip\": \"94565\", \"name\": \"Pittsburg\", \"teslas\": 146, \"all_vehicles\": 43439, \"tesla_rate_1k\": 3.36, \"avg_house_income\": 78942, \"avg_net_worth\": 353593}, {\"zip\": \"94566\", \"name\": \"Pleasanton\", \"teslas\": 938, \"all_vehicles\": 27365, \"tesla_rate_1k\": 34.28, \"avg_house_income\": 169838, \"avg_net_worth\": 1556393}, {\"zip\": \"94568\", \"name\": \"Dublin\", \"teslas\": 1551, \"all_vehicles\": 39117, \"tesla_rate_1k\": 39.65, \"avg_house_income\": 154413, \"avg_net_worth\": 858285}, {\"zip\": \"94571\", \"name\": \"Rio Vista\", \"teslas\": 15, \"all_vehicles\": 6048, \"tesla_rate_1k\": 2.48, \"avg_house_income\": 80152, \"avg_net_worth\": 1419818}, {\"zip\": \"94574\", \"name\": \"Saint Helena\", \"teslas\": 82, \"all_vehicles\": 5189, \"tesla_rate_1k\": 15.8, \"avg_house_income\": 126259, \"avg_net_worth\": 1278706}, {\"zip\": \"94577\", \"name\": \"San Leandro\", \"teslas\": 150, \"all_vehicles\": 24458, \"tesla_rate_1k\": 6.13, \"avg_house_income\": 91843, \"avg_net_worth\": 525313}, {\"zip\": \"94578\", \"name\": \"San Leandro\", \"teslas\": 48, \"all_vehicles\": 17427, \"tesla_rate_1k\": 2.75, \"avg_house_income\": 72180, \"avg_net_worth\": 239566}, {\"zip\": \"94579\", \"name\": \"San Leandro\", \"teslas\": 82, \"all_vehicles\": 11119, \"tesla_rate_1k\": 7.37, \"avg_house_income\": 85595, \"avg_net_worth\": 629407}, {\"zip\": \"94580\", \"name\": \"San Lorenzo\", \"teslas\": 47, \"all_vehicles\": 14010, \"tesla_rate_1k\": 3.35, \"avg_house_income\": 86181, \"avg_net_worth\": 464206}, {\"zip\": \"94582\", \"name\": \"San Ramon\", \"teslas\": 1577, \"all_vehicles\": 26758, \"tesla_rate_1k\": 58.94, \"avg_house_income\": 176036, \"avg_net_worth\": 1093448}, {\"zip\": \"94583\", \"name\": \"San Ramon\", \"teslas\": 552, \"all_vehicles\": 23676, \"tesla_rate_1k\": 23.31, \"avg_house_income\": 160053, \"avg_net_worth\": 1325313}, {\"zip\": \"94585\", \"name\": \"Suisun City\", \"teslas\": 16, \"all_vehicles\": 14583, \"tesla_rate_1k\": 1.1, \"avg_house_income\": 90790, \"avg_net_worth\": 612368}, {\"zip\": \"94587\", \"name\": \"Union City\", \"teslas\": 633, \"all_vehicles\": 35930, \"tesla_rate_1k\": 17.62, \"avg_house_income\": 112813, \"avg_net_worth\": 761205}, {\"zip\": \"94588\", \"name\": \"Pleasanton\", \"teslas\": 555, \"all_vehicles\": 21442, \"tesla_rate_1k\": 25.88, \"avg_house_income\": 162913, \"avg_net_worth\": 1363120}, {\"zip\": \"94590\", \"name\": \"Vallejo\", \"teslas\": 29, \"all_vehicles\": 15240, \"tesla_rate_1k\": 1.9, \"avg_house_income\": 62524, \"avg_net_worth\": 245144}, {\"zip\": \"94591\", \"name\": \"Vallejo\", \"teslas\": 158, \"all_vehicles\": 28102, \"tesla_rate_1k\": 5.62, \"avg_house_income\": 102156, \"avg_net_worth\": 770203}, {\"zip\": \"94595\", \"name\": \"Walnut Creek\", \"teslas\": 114, \"all_vehicles\": 9997, \"tesla_rate_1k\": 11.4, \"avg_house_income\": 112962, \"avg_net_worth\": 2366179}, {\"zip\": \"94596\", \"name\": \"Walnut Creek\", \"teslas\": 197, \"all_vehicles\": 13579, \"tesla_rate_1k\": 14.51, \"avg_house_income\": 126629, \"avg_net_worth\": 1043768}, {\"zip\": \"94597\", \"name\": \"Walnut Creek\", \"teslas\": 148, \"all_vehicles\": 12510, \"tesla_rate_1k\": 11.83, \"avg_house_income\": 116445, \"avg_net_worth\": 694873}, {\"zip\": \"94598\", \"name\": \"Walnut Creek\", \"teslas\": 314, \"all_vehicles\": 15808, \"tesla_rate_1k\": 19.86, \"avg_house_income\": 177971, \"avg_net_worth\": 2289845}, {\"zip\": \"94601\", \"name\": \"Oakland\", \"teslas\": 35, \"all_vehicles\": 17270, \"tesla_rate_1k\": 2.03, \"avg_house_income\": 54627, \"avg_net_worth\": 109304}, {\"zip\": \"94602\", \"name\": \"Oakland\", \"teslas\": 161, \"all_vehicles\": 13577, \"tesla_rate_1k\": 11.86, \"avg_house_income\": 114792, \"avg_net_worth\": 815142}, {\"zip\": \"94605\", \"name\": \"Oakland\", \"teslas\": 146, \"all_vehicles\": 18009, \"tesla_rate_1k\": 8.11, \"avg_house_income\": 82175, \"avg_net_worth\": 636947}, {\"zip\": \"94606\", \"name\": \"Oakland\", \"teslas\": 31, \"all_vehicles\": 13802, \"tesla_rate_1k\": 2.25, \"avg_house_income\": 64738, \"avg_net_worth\": 104028}, {\"zip\": \"94607\", \"name\": \"Oakland\", \"teslas\": 95, \"all_vehicles\": 9718, \"tesla_rate_1k\": 9.78, \"avg_house_income\": 58403, \"avg_net_worth\": 108994}, {\"zip\": \"94608\", \"name\": \"Emeryville\", \"teslas\": 159, \"all_vehicles\": 12095, \"tesla_rate_1k\": 13.15, \"avg_house_income\": 84697, \"avg_net_worth\": 218243}, {\"zip\": \"94609\", \"name\": \"Oakland\", \"teslas\": 68, \"all_vehicles\": 7823, \"tesla_rate_1k\": 8.69, \"avg_house_income\": 82951, \"avg_net_worth\": 194871}, {\"zip\": \"94610\", \"name\": \"Oakland\", \"teslas\": 280, \"all_vehicles\": 13980, \"tesla_rate_1k\": 20.03, \"avg_house_income\": 122235, \"avg_net_worth\": 798126}, {\"zip\": \"94611\", \"name\": \"Oakland\", \"teslas\": 678, \"all_vehicles\": 20675, \"tesla_rate_1k\": 32.79, \"avg_house_income\": 175084, \"avg_net_worth\": 1709480}, {\"zip\": \"94612\", \"name\": \"Oakland\", \"teslas\": 44, \"all_vehicles\": 6640, \"tesla_rate_1k\": 6.63, \"avg_house_income\": 54564, \"avg_net_worth\": 75391}, {\"zip\": \"94618\", \"name\": \"Oakland\", \"teslas\": 257, \"all_vehicles\": 8377, \"tesla_rate_1k\": 30.68, \"avg_house_income\": 190294, \"avg_net_worth\": 1695164}, {\"zip\": \"94619\", \"name\": \"Oakland\", \"teslas\": 101, \"all_vehicles\": 11399, \"tesla_rate_1k\": 8.86, \"avg_house_income\": 110238, \"avg_net_worth\": 818296}, {\"zip\": \"94702\", \"name\": \"Berkeley\", \"teslas\": 48, \"all_vehicles\": 6433, \"tesla_rate_1k\": 7.46, \"avg_house_income\": 93237, \"avg_net_worth\": 396063}, {\"zip\": \"94703\", \"name\": \"Berkeley\", \"teslas\": 51, \"all_vehicles\": 6711, \"tesla_rate_1k\": 7.6, \"avg_house_income\": 89402, \"avg_net_worth\": 309316}, {\"zip\": \"94704\", \"name\": \"Berkeley\", \"teslas\": 25, \"all_vehicles\": 4155, \"tesla_rate_1k\": 6.02, \"avg_house_income\": 49206, \"avg_net_worth\": 93107}, {\"zip\": \"94705\", \"name\": \"Berkeley\", \"teslas\": 191, \"all_vehicles\": 6465, \"tesla_rate_1k\": 29.54, \"avg_house_income\": 159264, \"avg_net_worth\": 1343898}, {\"zip\": \"94706\", \"name\": \"Albany\", \"teslas\": 80, \"all_vehicles\": 7979, \"tesla_rate_1k\": 10.03, \"avg_house_income\": 117996, \"avg_net_worth\": 683825}, {\"zip\": \"94707\", \"name\": \"Berkeley\", \"teslas\": 153, \"all_vehicles\": 6694, \"tesla_rate_1k\": 22.86, \"avg_house_income\": 194557, \"avg_net_worth\": 2364257}, {\"zip\": \"94708\", \"name\": \"Berkeley\", \"teslas\": 164, \"all_vehicles\": 5840, \"tesla_rate_1k\": 28.08, \"avg_house_income\": 192715, \"avg_net_worth\": 2152058}, {\"zip\": \"94709\", \"name\": \"Berkeley\", \"teslas\": 14, \"all_vehicles\": 3371, \"tesla_rate_1k\": 4.15, \"avg_house_income\": 96296, \"avg_net_worth\": 269378}, {\"zip\": \"94710\", \"name\": \"Berkeley\", \"teslas\": 32, \"all_vehicles\": 3618, \"tesla_rate_1k\": 8.84, \"avg_house_income\": 85933, \"avg_net_worth\": 225314}, {\"zip\": \"94801\", \"name\": \"Richmond\", \"teslas\": 35, \"all_vehicles\": 12196, \"tesla_rate_1k\": 2.87, \"avg_house_income\": 65883, \"avg_net_worth\": 282029}, {\"zip\": \"94803\", \"name\": \"El Sobrante\", \"teslas\": 77, \"all_vehicles\": 13225, \"tesla_rate_1k\": 5.82, \"avg_house_income\": 114538, \"avg_net_worth\": 863384}, {\"zip\": \"94804\", \"name\": \"Richmond\", \"teslas\": 65, \"all_vehicles\": 18201, \"tesla_rate_1k\": 3.57, \"avg_house_income\": 68593, \"avg_net_worth\": 251840}, {\"zip\": \"94805\", \"name\": \"Richmond\", \"teslas\": 22, \"all_vehicles\": 6444, \"tesla_rate_1k\": 3.41, \"avg_house_income\": 94609, \"avg_net_worth\": 624420}, {\"zip\": \"94806\", \"name\": \"San Pablo\", \"teslas\": 71, \"all_vehicles\": 26875, \"tesla_rate_1k\": 2.64, \"avg_house_income\": 72118, \"avg_net_worth\": 296244}, {\"zip\": \"94901\", \"name\": \"San Rafael\", \"teslas\": 344, \"all_vehicles\": 21210, \"tesla_rate_1k\": 16.22, \"avg_house_income\": 124144, \"avg_net_worth\": 1035361}, {\"zip\": \"94903\", \"name\": \"San Rafael\", \"teslas\": 242, \"all_vehicles\": 16469, \"tesla_rate_1k\": 14.69, \"avg_house_income\": 129209, \"avg_net_worth\": 1401311}, {\"zip\": \"94904\", \"name\": \"Greenbrae\", \"teslas\": 260, \"all_vehicles\": 7479, \"tesla_rate_1k\": 34.76, \"avg_house_income\": 188966, \"avg_net_worth\": 1925807}, {\"zip\": \"94920\", \"name\": \"Belvedere Tiburon\", \"teslas\": 417, \"all_vehicles\": 8274, \"tesla_rate_1k\": 50.4, \"avg_house_income\": 205133, \"avg_net_worth\": 2177265}, {\"zip\": \"94925\", \"name\": \"Corte Madera\", \"teslas\": 123, \"all_vehicles\": 6178, \"tesla_rate_1k\": 19.91, \"avg_house_income\": 151381, \"avg_net_worth\": 1162090}, {\"zip\": \"94928\", \"name\": \"Rohnert Park\", \"teslas\": 51, \"all_vehicles\": 21519, \"tesla_rate_1k\": 2.37, \"avg_house_income\": 77821, \"avg_net_worth\": 409552}, {\"zip\": \"94930\", \"name\": \"Fairfax\", \"teslas\": 40, \"all_vehicles\": 4462, \"tesla_rate_1k\": 8.96, \"avg_house_income\": 144515, \"avg_net_worth\": 1056904}, {\"zip\": \"94939\", \"name\": \"Larkspur\", \"teslas\": 109, \"all_vehicles\": 4321, \"tesla_rate_1k\": 25.23, \"avg_house_income\": 166201, \"avg_net_worth\": 1257126}, {\"zip\": \"94941\", \"name\": \"Mill Valley\", \"teslas\": 544, \"all_vehicles\": 18295, \"tesla_rate_1k\": 29.73, \"avg_house_income\": 185265, \"avg_net_worth\": 1674267}, {\"zip\": \"94945\", \"name\": \"Novato\", \"teslas\": 122, \"all_vehicles\": 10170, \"tesla_rate_1k\": 12.0, \"avg_house_income\": 126317, \"avg_net_worth\": 1401995}, {\"zip\": \"94946\", \"name\": \"Nicasio\", \"teslas\": 14, \"all_vehicles\": 392, \"tesla_rate_1k\": 35.71, \"avg_house_income\": 186814, \"avg_net_worth\": 2294765}, {\"zip\": \"94947\", \"name\": \"Novato\", \"teslas\": 126, \"all_vehicles\": 13405, \"tesla_rate_1k\": 9.4, \"avg_house_income\": 122070, \"avg_net_worth\": 1232453}, {\"zip\": \"94949\", \"name\": \"Novato\", \"teslas\": 132, \"all_vehicles\": 10286, \"tesla_rate_1k\": 12.83, \"avg_house_income\": 125292, \"avg_net_worth\": 1115584}, {\"zip\": \"94952\", \"name\": \"Petaluma\", \"teslas\": 192, \"all_vehicles\": 18099, \"tesla_rate_1k\": 10.61, \"avg_house_income\": 106819, \"avg_net_worth\": 765094}, {\"zip\": \"94954\", \"name\": \"Petaluma\", \"teslas\": 110, \"all_vehicles\": 21089, \"tesla_rate_1k\": 5.22, \"avg_house_income\": 107727, \"avg_net_worth\": 918082}, {\"zip\": \"94957\", \"name\": \"Ross\", \"teslas\": 64, \"all_vehicles\": 1455, \"tesla_rate_1k\": 43.99, \"avg_house_income\": 233807, \"avg_net_worth\": 2913115}, {\"zip\": \"94960\", \"name\": \"San Anselmo\", \"teslas\": 174, \"all_vehicles\": 8298, \"tesla_rate_1k\": 20.97, \"avg_house_income\": 160731, \"avg_net_worth\": 1427678}, {\"zip\": \"94965\", \"name\": \"Sausalito\", \"teslas\": 128, \"all_vehicles\": 6329, \"tesla_rate_1k\": 20.22, \"avg_house_income\": 149261, \"avg_net_worth\": 921521}, {\"zip\": \"95003\", \"name\": \"Aptos\", \"teslas\": 181, \"all_vehicles\": 13769, \"tesla_rate_1k\": 13.15, \"avg_house_income\": 124983, \"avg_net_worth\": 1431623}, {\"zip\": \"95006\", \"name\": \"Boulder Creek\", \"teslas\": 20, \"all_vehicles\": 4703, \"tesla_rate_1k\": 4.25, \"avg_house_income\": 117483, \"avg_net_worth\": 929670}, {\"zip\": \"95008\", \"name\": \"Campbell\", \"teslas\": 650, \"all_vehicles\": 27129, \"tesla_rate_1k\": 23.96, \"avg_house_income\": 118177, \"avg_net_worth\": 657840}, {\"zip\": \"95010\", \"name\": \"Capitola\", \"teslas\": 27, \"all_vehicles\": 5117, \"tesla_rate_1k\": 5.28, \"avg_house_income\": 85384, \"avg_net_worth\": 348398}, {\"zip\": \"95014\", \"name\": \"Cupertino\", \"teslas\": 1727, \"all_vehicles\": 34413, \"tesla_rate_1k\": 50.18, \"avg_house_income\": 178367, \"avg_net_worth\": 1479079}, {\"zip\": \"95020\", \"name\": \"Gilroy\", \"teslas\": 342, \"all_vehicles\": 33783, \"tesla_rate_1k\": 10.12, \"avg_house_income\": 108018, \"avg_net_worth\": 750917}, {\"zip\": \"95023\", \"name\": \"Hollister\", \"teslas\": 80, \"all_vehicles\": 28106, \"tesla_rate_1k\": 2.85, \"avg_house_income\": 92387, \"avg_net_worth\": 576599}, {\"zip\": \"95030\", \"name\": \"Los Gatos\", \"teslas\": 568, \"all_vehicles\": 9309, \"tesla_rate_1k\": 61.02, \"avg_house_income\": 233429, \"avg_net_worth\": 2476366}, {\"zip\": \"95032\", \"name\": \"Los Gatos\", \"teslas\": 769, \"all_vehicles\": 16949, \"tesla_rate_1k\": 45.37, \"avg_house_income\": 185005, \"avg_net_worth\": 1819614}, {\"zip\": \"95033\", \"name\": \"Los Gatos\", \"teslas\": 178, \"all_vehicles\": 5757, \"tesla_rate_1k\": 30.92, \"avg_house_income\": 175424, \"avg_net_worth\": 1723653}, {\"zip\": \"95035\", \"name\": \"Milpitas\", \"teslas\": 1162, \"all_vehicles\": 42482, \"tesla_rate_1k\": 27.35, \"avg_house_income\": 127543, \"avg_net_worth\": 828894}, {\"zip\": \"95037\", \"name\": \"Morgan Hill\", \"teslas\": 689, \"all_vehicles\": 30494, \"tesla_rate_1k\": 22.59, \"avg_house_income\": 143533, \"avg_net_worth\": 1241853}, {\"zip\": \"95046\", \"name\": \"San Martin\", \"teslas\": 13, \"all_vehicles\": 3621, \"tesla_rate_1k\": 3.59, \"avg_house_income\": 139724, \"avg_net_worth\": 1165319}, {\"zip\": \"95050\", \"name\": \"Santa Clara\", \"teslas\": 313, \"all_vehicles\": 20139, \"tesla_rate_1k\": 15.54, \"avg_house_income\": 99256, \"avg_net_worth\": 351405}, {\"zip\": \"95051\", \"name\": \"Santa Clara\", \"teslas\": 839, \"all_vehicles\": 33096, \"tesla_rate_1k\": 25.35, \"avg_house_income\": 127738, \"avg_net_worth\": 690714}, {\"zip\": \"95054\", \"name\": \"Santa Clara\", \"teslas\": 537, \"all_vehicles\": 14854, \"tesla_rate_1k\": 36.15, \"avg_house_income\": 153481, \"avg_net_worth\": 518975}, {\"zip\": \"95060\", \"name\": \"Santa Cruz\", \"teslas\": 312, \"all_vehicles\": 19277, \"tesla_rate_1k\": 16.19, \"avg_house_income\": 104008, \"avg_net_worth\": 633948}, {\"zip\": \"95062\", \"name\": \"Santa Cruz\", \"teslas\": 150, \"all_vehicles\": 16322, \"tesla_rate_1k\": 9.19, \"avg_house_income\": 95638, \"avg_net_worth\": 410296}, {\"zip\": \"95065\", \"name\": \"Santa Cruz\", \"teslas\": 35, \"all_vehicles\": 4148, \"tesla_rate_1k\": 8.44, \"avg_house_income\": 137331, \"avg_net_worth\": 1220387}, {\"zip\": \"95066\", \"name\": \"Scotts Valley\", \"teslas\": 129, \"all_vehicles\": 8625, \"tesla_rate_1k\": 14.96, \"avg_house_income\": 143216, \"avg_net_worth\": 1286981}, {\"zip\": \"95070\", \"name\": \"Saratoga\", \"teslas\": 1586, \"all_vehicles\": 21379, \"tesla_rate_1k\": 74.18, \"avg_house_income\": 243915, \"avg_net_worth\": 3157204}, {\"zip\": \"95073\", \"name\": \"Soquel\", \"teslas\": 47, \"all_vehicles\": 6015, \"tesla_rate_1k\": 7.81, \"avg_house_income\": 121684, \"avg_net_worth\": 1127115}, {\"zip\": \"95076\", \"name\": \"Watsonville\", \"teslas\": 111, \"all_vehicles\": 34973, \"tesla_rate_1k\": 3.17, \"avg_house_income\": 80086, \"avg_net_worth\": 500030}, {\"zip\": \"95110\", \"name\": \"San Jose\", \"teslas\": 127, \"all_vehicles\": 9385, \"tesla_rate_1k\": 13.53, \"avg_house_income\": 85428, \"avg_net_worth\": 203469}, {\"zip\": \"95111\", \"name\": \"San Jose\", \"teslas\": 196, \"all_vehicles\": 27479, \"tesla_rate_1k\": 7.13, \"avg_house_income\": 89747, \"avg_net_worth\": 402117}, {\"zip\": \"95112\", \"name\": \"San Jose\", \"teslas\": 266, \"all_vehicles\": 25665, \"tesla_rate_1k\": 10.36, \"avg_house_income\": 80241, \"avg_net_worth\": 210675}, {\"zip\": \"95113\", \"name\": \"San Jose\", \"teslas\": 43, \"all_vehicles\": 1370, \"tesla_rate_1k\": 31.39, \"avg_house_income\": 133963, \"avg_net_worth\": 437253}, {\"zip\": \"95116\", \"name\": \"San Jose\", \"teslas\": 69, \"all_vehicles\": 19678, \"tesla_rate_1k\": 3.51, \"avg_house_income\": 64535, \"avg_net_worth\": 147790}, {\"zip\": \"95117\", \"name\": \"San Jose\", \"teslas\": 183, \"all_vehicles\": 14532, \"tesla_rate_1k\": 12.59, \"avg_house_income\": 98589, \"avg_net_worth\": 316977}, {\"zip\": \"95118\", \"name\": \"San Jose\", \"teslas\": 292, \"all_vehicles\": 17156, \"tesla_rate_1k\": 17.02, \"avg_house_income\": 118796, \"avg_net_worth\": 836277}, {\"zip\": \"95119\", \"name\": \"San Jose\", \"teslas\": 55, \"all_vehicles\": 5628, \"tesla_rate_1k\": 9.77, \"avg_house_income\": 134441, \"avg_net_worth\": 1068565}, {\"zip\": \"95120\", \"name\": \"San Jose\", \"teslas\": 1057, \"all_vehicles\": 24301, \"tesla_rate_1k\": 43.5, \"avg_house_income\": 218748, \"avg_net_worth\": 2958861}, {\"zip\": \"95121\", \"name\": \"San Jose\", \"teslas\": 303, \"all_vehicles\": 19346, \"tesla_rate_1k\": 15.66, \"avg_house_income\": 118059, \"avg_net_worth\": 794045}, {\"zip\": \"95122\", \"name\": \"San Jose\", \"teslas\": 73, \"all_vehicles\": 23515, \"tesla_rate_1k\": 3.1, \"avg_house_income\": 67963, \"avg_net_worth\": 215328}, {\"zip\": \"95123\", \"name\": \"San Jose\", \"teslas\": 568, \"all_vehicles\": 35730, \"tesla_rate_1k\": 15.9, \"avg_house_income\": 115867, \"avg_net_worth\": 798094}, {\"zip\": \"95124\", \"name\": \"San Jose\", \"teslas\": 672, \"all_vehicles\": 27120, \"tesla_rate_1k\": 24.78, \"avg_house_income\": 142140, \"avg_net_worth\": 1149519}, {\"zip\": \"95125\", \"name\": \"San Jose\", \"teslas\": 860, \"all_vehicles\": 29296, \"tesla_rate_1k\": 29.36, \"avg_house_income\": 140815, \"avg_net_worth\": 1048723}, {\"zip\": \"95126\", \"name\": \"San Jose\", \"teslas\": 365, \"all_vehicles\": 18115, \"tesla_rate_1k\": 20.15, \"avg_house_income\": 108951, \"avg_net_worth\": 414231}, {\"zip\": \"95127\", \"name\": \"San Jose\", \"teslas\": 218, \"all_vehicles\": 28788, \"tesla_rate_1k\": 7.57, \"avg_house_income\": 97033, \"avg_net_worth\": 575368}, {\"zip\": \"95128\", \"name\": \"San Jose\", \"teslas\": 268, \"all_vehicles\": 16815, \"tesla_rate_1k\": 15.94, \"avg_house_income\": 99432, \"avg_net_worth\": 358266}, {\"zip\": \"95129\", \"name\": \"San Jose\", \"teslas\": 688, \"all_vehicles\": 22257, \"tesla_rate_1k\": 30.91, \"avg_house_income\": 147898, \"avg_net_worth\": 1218365}, {\"zip\": \"95130\", \"name\": \"San Jose\", \"teslas\": 178, \"all_vehicles\": 7085, \"tesla_rate_1k\": 25.12, \"avg_house_income\": 119829, \"avg_net_worth\": 640022}, {\"zip\": \"95131\", \"name\": \"San Jose\", \"teslas\": 452, \"all_vehicles\": 20125, \"tesla_rate_1k\": 22.46, \"avg_house_income\": 141655, \"avg_net_worth\": 811180}, {\"zip\": \"95132\", \"name\": \"San Jose\", \"teslas\": 367, \"all_vehicles\": 21860, \"tesla_rate_1k\": 16.79, \"avg_house_income\": 124442, \"avg_net_worth\": 933427}, {\"zip\": \"95133\", \"name\": \"San Jose\", \"teslas\": 225, \"all_vehicles\": 15010, \"tesla_rate_1k\": 14.99, \"avg_house_income\": 104319, \"avg_net_worth\": 633670}, {\"zip\": \"95134\", \"name\": \"San Jose\", \"teslas\": 520, \"all_vehicles\": 16907, \"tesla_rate_1k\": 30.76, \"avg_house_income\": 154500, \"avg_net_worth\": 364447}, {\"zip\": \"95135\", \"name\": \"San Jose\", \"teslas\": 617, \"all_vehicles\": 12652, \"tesla_rate_1k\": 48.77, \"avg_house_income\": 164351, \"avg_net_worth\": 1918281}, {\"zip\": \"95136\", \"name\": \"San Jose\", \"teslas\": 395, \"all_vehicles\": 25242, \"tesla_rate_1k\": 15.65, \"avg_house_income\": 115491, \"avg_net_worth\": 652574}, {\"zip\": \"95138\", \"name\": \"San Jose\", \"teslas\": 710, \"all_vehicles\": 11800, \"tesla_rate_1k\": 60.17, \"avg_house_income\": 181584, \"avg_net_worth\": 1376395}, {\"zip\": \"95139\", \"name\": \"San Jose\", \"teslas\": 53, \"all_vehicles\": 3808, \"tesla_rate_1k\": 13.92, \"avg_house_income\": 132891, \"avg_net_worth\": 1052529}, {\"zip\": \"95148\", \"name\": \"San Jose\", \"teslas\": 507, \"all_vehicles\": 25117, \"tesla_rate_1k\": 20.19, \"avg_house_income\": 138119, \"avg_net_worth\": 1050433}, {\"zip\": \"95206\", \"name\": \"Stockton\", \"teslas\": 29, \"all_vehicles\": 26305, \"tesla_rate_1k\": 1.1, \"avg_house_income\": 60295, \"avg_net_worth\": 212852}, {\"zip\": \"95207\", \"name\": \"Stockton\", \"teslas\": 27, \"all_vehicles\": 18284, \"tesla_rate_1k\": 1.48, \"avg_house_income\": 59050, \"avg_net_worth\": 300350}, {\"zip\": \"95209\", \"name\": \"Stockton\", \"teslas\": 40, \"all_vehicles\": 19692, \"tesla_rate_1k\": 2.03, \"avg_house_income\": 90131, \"avg_net_worth\": 603907}, {\"zip\": \"95212\", \"name\": \"Stockton\", \"teslas\": 58, \"all_vehicles\": 14158, \"tesla_rate_1k\": 4.1, \"avg_house_income\": 99619, \"avg_net_worth\": 790877}, {\"zip\": \"95219\", \"name\": \"Stockton\", \"teslas\": 96, \"all_vehicles\": 14939, \"tesla_rate_1k\": 6.43, \"avg_house_income\": 110718, \"avg_net_worth\": 835105}, {\"zip\": \"95240\", \"name\": \"Lodi\", \"teslas\": 13, \"all_vehicles\": 19587, \"tesla_rate_1k\": 0.66, \"avg_house_income\": 65638, \"avg_net_worth\": 395020}, {\"zip\": \"95242\", \"name\": \"Lodi\", \"teslas\": 31, \"all_vehicles\": 14197, \"tesla_rate_1k\": 2.18, \"avg_house_income\": 97174, \"avg_net_worth\": 891229}, {\"zip\": \"95301\", \"name\": \"Atwater\", \"teslas\": 26, \"all_vehicles\": 17049, \"tesla_rate_1k\": 1.53, \"avg_house_income\": 67832, \"avg_net_worth\": 419355}, {\"zip\": \"95304\", \"name\": \"Tracy\", \"teslas\": 43, \"all_vehicles\": 8067, \"tesla_rate_1k\": 5.33, \"avg_house_income\": 113442, \"avg_net_worth\": 702541}, {\"zip\": \"95307\", \"name\": \"Ceres\", \"teslas\": 14, \"all_vehicles\": 19491, \"tesla_rate_1k\": 0.72, \"avg_house_income\": 63030, \"avg_net_worth\": 273748}, {\"zip\": \"95330\", \"name\": \"Lathrop\", \"teslas\": 70, \"all_vehicles\": 13096, \"tesla_rate_1k\": 5.35, \"avg_house_income\": 81150, \"avg_net_worth\": 354629}, {\"zip\": \"95336\", \"name\": \"Manteca\", \"teslas\": 43, \"all_vehicles\": 22907, \"tesla_rate_1k\": 1.88, \"avg_house_income\": 76842, \"avg_net_worth\": 635628}, {\"zip\": \"95337\", \"name\": \"Manteca\", \"teslas\": 98, \"all_vehicles\": 21426, \"tesla_rate_1k\": 4.57, \"avg_house_income\": 86627, \"avg_net_worth\": 490260}, {\"zip\": \"95340\", \"name\": \"Merced\", \"teslas\": 22, \"all_vehicles\": 14428, \"tesla_rate_1k\": 1.52, \"avg_house_income\": 70901, \"avg_net_worth\": 480018}, {\"zip\": \"95348\", \"name\": \"Merced\", \"teslas\": 11, \"all_vehicles\": 12149, \"tesla_rate_1k\": 0.91, \"avg_house_income\": 65116, \"avg_net_worth\": 217549}, {\"zip\": \"95350\", \"name\": \"Modesto\", \"teslas\": 29, \"all_vehicles\": 21175, \"tesla_rate_1k\": 1.37, \"avg_house_income\": 65174, \"avg_net_worth\": 400444}, {\"zip\": \"95355\", \"name\": \"Modesto\", \"teslas\": 77, \"all_vehicles\": 27747, \"tesla_rate_1k\": 2.78, \"avg_house_income\": 82765, \"avg_net_worth\": 587959}, {\"zip\": \"95356\", \"name\": \"Modesto\", \"teslas\": 87, \"all_vehicles\": 17870, \"tesla_rate_1k\": 4.87, \"avg_house_income\": 90925, \"avg_net_worth\": 668471}, {\"zip\": \"95361\", \"name\": \"Oakdale\", \"teslas\": 31, \"all_vehicles\": 16593, \"tesla_rate_1k\": 1.87, \"avg_house_income\": 86561, \"avg_net_worth\": 754141}, {\"zip\": \"95363\", \"name\": \"Patterson\", \"teslas\": 28, \"all_vehicles\": 13235, \"tesla_rate_1k\": 2.12, \"avg_house_income\": 75724, \"avg_net_worth\": 307426}, {\"zip\": \"95366\", \"name\": \"Ripon\", \"teslas\": 25, \"all_vehicles\": 10015, \"tesla_rate_1k\": 2.5, \"avg_house_income\": 112998, \"avg_net_worth\": 906608}, {\"zip\": \"95376\", \"name\": \"Tracy\", \"teslas\": 68, \"all_vehicles\": 25540, \"tesla_rate_1k\": 2.66, \"avg_house_income\": 82877, \"avg_net_worth\": 450067}, {\"zip\": \"95377\", \"name\": \"Tracy\", \"teslas\": 119, \"all_vehicles\": 18471, \"tesla_rate_1k\": 6.44, \"avg_house_income\": 121243, \"avg_net_worth\": 609573}, {\"zip\": \"95380\", \"name\": \"Turlock\", \"teslas\": 14, \"all_vehicles\": 17199, \"tesla_rate_1k\": 0.81, \"avg_house_income\": 60738, \"avg_net_worth\": 336592}, {\"zip\": \"95382\", \"name\": \"Turlock\", \"teslas\": 47, \"all_vehicles\": 18239, \"tesla_rate_1k\": 2.58, \"avg_house_income\": 85571, \"avg_net_worth\": 553895}, {\"zip\": \"95391\", \"name\": \"Tracy\", \"teslas\": 341, \"all_vehicles\": 10670, \"tesla_rate_1k\": 31.96, \"avg_house_income\": 119406, \"avg_net_worth\": 627394}, {\"zip\": \"95401\", \"name\": \"Santa Rosa\", \"teslas\": 19, \"all_vehicles\": 17207, \"tesla_rate_1k\": 1.1, \"avg_house_income\": 72928, \"avg_net_worth\": 483960}, {\"zip\": \"95403\", \"name\": \"Santa Rosa\", \"teslas\": 91, \"all_vehicles\": 20896, \"tesla_rate_1k\": 4.35, \"avg_house_income\": 88410, \"avg_net_worth\": 664458}, {\"zip\": \"95404\", \"name\": \"Santa Rosa\", \"teslas\": 148, \"all_vehicles\": 18552, \"tesla_rate_1k\": 7.98, \"avg_house_income\": 101200, \"avg_net_worth\": 996236}, {\"zip\": \"95405\", \"name\": \"Santa Rosa\", \"teslas\": 69, \"all_vehicles\": 11445, \"tesla_rate_1k\": 6.03, \"avg_house_income\": 98723, \"avg_net_worth\": 936689}, {\"zip\": \"95407\", \"name\": \"Santa Rosa\", \"teslas\": 15, \"all_vehicles\": 18907, \"tesla_rate_1k\": 0.79, \"avg_house_income\": 71243, \"avg_net_worth\": 224237}, {\"zip\": \"95409\", \"name\": \"Santa Rosa\", \"teslas\": 121, \"all_vehicles\": 14453, \"tesla_rate_1k\": 8.37, \"avg_house_income\": 97970, \"avg_net_worth\": 1238604}, {\"zip\": \"95425\", \"name\": \"Cloverdale\", \"teslas\": 11, \"all_vehicles\": 6079, \"tesla_rate_1k\": 1.81, \"avg_house_income\": 77699, \"avg_net_worth\": 706158}, {\"zip\": \"95442\", \"name\": \"Glen Ellen\", \"teslas\": 12, \"all_vehicles\": 1612, \"tesla_rate_1k\": 7.44, \"avg_house_income\": 123534, \"avg_net_worth\": 1278946}, {\"zip\": \"95448\", \"name\": \"Healdsburg\", \"teslas\": 120, \"all_vehicles\": 10423, \"tesla_rate_1k\": 11.51, \"avg_house_income\": 95752, \"avg_net_worth\": 853996}, {\"zip\": \"95472\", \"name\": \"Sebastopol\", \"teslas\": 133, \"all_vehicles\": 14859, \"tesla_rate_1k\": 8.95, \"avg_house_income\": 102711, \"avg_net_worth\": 1098163}, {\"zip\": \"95476\", \"name\": \"Sonoma\", \"teslas\": 198, \"all_vehicles\": 17503, \"tesla_rate_1k\": 11.31, \"avg_house_income\": 100924, \"avg_net_worth\": 1011312}, {\"zip\": \"95482\", \"name\": \"Ukiah\", \"teslas\": 16, \"all_vehicles\": 14912, \"tesla_rate_1k\": 1.07, \"avg_house_income\": 60048, \"avg_net_worth\": 416235}, {\"zip\": \"95492\", \"name\": \"Windsor\", \"teslas\": 67, \"all_vehicles\": 15181, \"tesla_rate_1k\": 4.41, \"avg_house_income\": 104778, \"avg_net_worth\": 812602}, {\"zip\": \"95503\", \"name\": \"Eureka\", \"teslas\": 11, \"all_vehicles\": 9868, \"tesla_rate_1k\": 1.11, \"avg_house_income\": 63086, \"avg_net_worth\": 527894}, {\"zip\": \"95521\", \"name\": \"Arcata\", \"teslas\": 11, \"all_vehicles\": 6538, \"tesla_rate_1k\": 1.68, \"avg_house_income\": 49247, \"avg_net_worth\": 177270}, {\"zip\": \"95602\", \"name\": \"Auburn\", \"teslas\": 34, \"all_vehicles\": 9523, \"tesla_rate_1k\": 3.57, \"avg_house_income\": 95690, \"avg_net_worth\": 1311674}, {\"zip\": \"95603\", \"name\": \"Auburn\", \"teslas\": 46, \"all_vehicles\": 14700, \"tesla_rate_1k\": 3.13, \"avg_house_income\": 91080, \"avg_net_worth\": 967671}, {\"zip\": \"95605\", \"name\": \"West Sacramento\", \"teslas\": 13, \"all_vehicles\": 9221, \"tesla_rate_1k\": 1.41, \"avg_house_income\": 55701, \"avg_net_worth\": 152059}, {\"zip\": \"95608\", \"name\": \"Carmichael\", \"teslas\": 144, \"all_vehicles\": 29016, \"tesla_rate_1k\": 4.96, \"avg_house_income\": 88593, \"avg_net_worth\": 740497}, {\"zip\": \"95610\", \"name\": \"Citrus Heights\", \"teslas\": 13, \"all_vehicles\": 19906, \"tesla_rate_1k\": 0.65, \"avg_house_income\": 69896, \"avg_net_worth\": 439914}, {\"zip\": \"95616\", \"name\": \"Davis\", \"teslas\": 174, \"all_vehicles\": 16418, \"tesla_rate_1k\": 10.6, \"avg_house_income\": 85125, \"avg_net_worth\": 477773}, {\"zip\": \"95618\", \"name\": \"Davis\", \"teslas\": 211, \"all_vehicles\": 14013, \"tesla_rate_1k\": 15.06, \"avg_house_income\": 122966, \"avg_net_worth\": 856154}, {\"zip\": \"95620\", \"name\": \"Dixon\", \"teslas\": 13, \"all_vehicles\": 11143, \"tesla_rate_1k\": 1.17, \"avg_house_income\": 91776, \"avg_net_worth\": 616320}, {\"zip\": \"95624\", \"name\": \"Elk Grove\", \"teslas\": 187, \"all_vehicles\": 34794, \"tesla_rate_1k\": 5.37, \"avg_house_income\": 105657, \"avg_net_worth\": 846046}, {\"zip\": \"95628\", \"name\": \"Fair Oaks\", \"teslas\": 97, \"all_vehicles\": 22430, \"tesla_rate_1k\": 4.32, \"avg_house_income\": 109045, \"avg_net_worth\": 1147866}, {\"zip\": \"95630\", \"name\": \"Folsom\", \"teslas\": 500, \"all_vehicles\": 41829, \"tesla_rate_1k\": 11.95, \"avg_house_income\": 127240, \"avg_net_worth\": 1003746}, {\"zip\": \"95648\", \"name\": \"Lincoln\", \"teslas\": 162, \"all_vehicles\": 29766, \"tesla_rate_1k\": 5.44, \"avg_house_income\": 95310, \"avg_net_worth\": 1392260}, {\"zip\": \"95650\", \"name\": \"Loomis\", \"teslas\": 80, \"all_vehicles\": 8048, \"tesla_rate_1k\": 9.94, \"avg_house_income\": 134924, \"avg_net_worth\": 1603256}, {\"zip\": \"95661\", \"name\": \"Roseville\", \"teslas\": 136, \"all_vehicles\": 22393, \"tesla_rate_1k\": 6.07, \"avg_house_income\": 105531, \"avg_net_worth\": 839337}, {\"zip\": \"95662\", \"name\": \"Orangevale\", \"teslas\": 31, \"all_vehicles\": 16014, \"tesla_rate_1k\": 1.94, \"avg_house_income\": 89488, \"avg_net_worth\": 858502}, {\"zip\": \"95667\", \"name\": \"Placerville\", \"teslas\": 40, \"all_vehicles\": 18741, \"tesla_rate_1k\": 2.13, \"avg_house_income\": 85240, \"avg_net_worth\": 950320}, {\"zip\": \"95670\", \"name\": \"Rancho Cordova\", \"teslas\": 99, \"all_vehicles\": 25758, \"tesla_rate_1k\": 3.84, \"avg_house_income\": 80535, \"avg_net_worth\": 662656}, {\"zip\": \"95677\", \"name\": \"Rocklin\", \"teslas\": 111, \"all_vehicles\": 15878, \"tesla_rate_1k\": 6.99, \"avg_house_income\": 97181, \"avg_net_worth\": 833225}, {\"zip\": \"95678\", \"name\": \"Roseville\", \"teslas\": 93, \"all_vehicles\": 22616, \"tesla_rate_1k\": 4.11, \"avg_house_income\": 86841, \"avg_net_worth\": 404902}, {\"zip\": \"95682\", \"name\": \"Shingle Springs\", \"teslas\": 61, \"all_vehicles\": 16524, \"tesla_rate_1k\": 3.69, \"avg_house_income\": 112768, \"avg_net_worth\": 1174870}, {\"zip\": \"95683\", \"name\": \"Sloughhouse\", \"teslas\": 13, \"all_vehicles\": 4138, \"tesla_rate_1k\": 3.14, \"avg_house_income\": 132464, \"avg_net_worth\": 1882634}, {\"zip\": \"95687\", \"name\": \"Vacaville\", \"teslas\": 109, \"all_vehicles\": 31463, \"tesla_rate_1k\": 3.46, \"avg_house_income\": 91046, \"avg_net_worth\": 688626}, {\"zip\": \"95688\", \"name\": \"Vacaville\", \"teslas\": 113, \"all_vehicles\": 21170, \"tesla_rate_1k\": 5.34, \"avg_house_income\": 107372, \"avg_net_worth\": 1048921}, {\"zip\": \"95691\", \"name\": \"West Sacramento\", \"teslas\": 77, \"all_vehicles\": 19930, \"tesla_rate_1k\": 3.86, \"avg_house_income\": 83458, \"avg_net_worth\": 478248}, {\"zip\": \"95695\", \"name\": \"Woodland\", \"teslas\": 26, \"all_vehicles\": 17140, \"tesla_rate_1k\": 1.52, \"avg_house_income\": 78836, \"avg_net_worth\": 593681}, {\"zip\": \"95722\", \"name\": \"Meadow Vista\", \"teslas\": 15, \"all_vehicles\": 2939, \"tesla_rate_1k\": 5.1, \"avg_house_income\": 111143, \"avg_net_worth\": 1682102}, {\"zip\": \"95742\", \"name\": \"Rancho Cordova\", \"teslas\": 54, \"all_vehicles\": 11783, \"tesla_rate_1k\": 4.58, \"avg_house_income\": 128313, \"avg_net_worth\": 726012}, {\"zip\": \"95746\", \"name\": \"Granite Bay\", \"teslas\": 300, \"all_vehicles\": 14464, \"tesla_rate_1k\": 20.74, \"avg_house_income\": 180464, \"avg_net_worth\": 2208803}, {\"zip\": \"95747\", \"name\": \"Roseville\", \"teslas\": 303, \"all_vehicles\": 40970, \"tesla_rate_1k\": 7.4, \"avg_house_income\": 113187, \"avg_net_worth\": 1008588}, {\"zip\": \"95757\", \"name\": \"Elk Grove\", \"teslas\": 215, \"all_vehicles\": 27922, \"tesla_rate_1k\": 7.7, \"avg_house_income\": 106674, \"avg_net_worth\": 678223}, {\"zip\": \"95758\", \"name\": \"Elk Grove\", \"teslas\": 132, \"all_vehicles\": 33579, \"tesla_rate_1k\": 3.93, \"avg_house_income\": 99579, \"avg_net_worth\": 633797}, {\"zip\": \"95762\", \"name\": \"El Dorado Hills\", \"teslas\": 549, \"all_vehicles\": 30037, \"tesla_rate_1k\": 18.28, \"avg_house_income\": 160127, \"avg_net_worth\": 1543210}, {\"zip\": \"95765\", \"name\": \"Rocklin\", \"teslas\": 244, \"all_vehicles\": 23314, \"tesla_rate_1k\": 10.47, \"avg_house_income\": 116563, \"avg_net_worth\": 888236}, {\"zip\": \"95776\", \"name\": \"Woodland\", \"teslas\": 39, \"all_vehicles\": 13114, \"tesla_rate_1k\": 2.97, \"avg_house_income\": 90068, \"avg_net_worth\": 482047}, {\"zip\": \"95811\", \"name\": \"Sacramento\", \"teslas\": 19, \"all_vehicles\": 5514, \"tesla_rate_1k\": 3.45, \"avg_house_income\": 55377, \"avg_net_worth\": 55217}, {\"zip\": \"95814\", \"name\": \"Sacramento\", \"teslas\": 27, \"all_vehicles\": 6493, \"tesla_rate_1k\": 4.16, \"avg_house_income\": 51500, \"avg_net_worth\": 55903}, {\"zip\": \"95816\", \"name\": \"Sacramento\", \"teslas\": 51, \"all_vehicles\": 12265, \"tesla_rate_1k\": 4.16, \"avg_house_income\": 76004, \"avg_net_worth\": 221692}, {\"zip\": \"95817\", \"name\": \"Sacramento\", \"teslas\": 11, \"all_vehicles\": 5137, \"tesla_rate_1k\": 2.14, \"avg_house_income\": 53980, \"avg_net_worth\": 134896}, {\"zip\": \"95818\", \"name\": \"Sacramento\", \"teslas\": 76, \"all_vehicles\": 10618, \"tesla_rate_1k\": 7.16, \"avg_house_income\": 95800, \"avg_net_worth\": 660562}, {\"zip\": \"95819\", \"name\": \"Sacramento\", \"teslas\": 74, \"all_vehicles\": 9161, \"tesla_rate_1k\": 8.08, \"avg_house_income\": 108789, \"avg_net_worth\": 724214}, {\"zip\": \"95821\", \"name\": \"Sacramento\", \"teslas\": 18, \"all_vehicles\": 15769, \"tesla_rate_1k\": 1.14, \"avg_house_income\": 68201, \"avg_net_worth\": 407099}, {\"zip\": \"95822\", \"name\": \"Sacramento\", \"teslas\": 41, \"all_vehicles\": 18924, \"tesla_rate_1k\": 2.17, \"avg_house_income\": 68900, \"avg_net_worth\": 520615}, {\"zip\": \"95825\", \"name\": \"Sacramento\", \"teslas\": 16, \"all_vehicles\": 13651, \"tesla_rate_1k\": 1.17, \"avg_house_income\": 60192, \"avg_net_worth\": 247132}, {\"zip\": \"95826\", \"name\": \"Sacramento\", \"teslas\": 16, \"all_vehicles\": 17124, \"tesla_rate_1k\": 0.93, \"avg_house_income\": 68970, \"avg_net_worth\": 410250}, {\"zip\": \"95827\", \"name\": \"Sacramento\", \"teslas\": 11, \"all_vehicles\": 11766, \"tesla_rate_1k\": 0.93, \"avg_house_income\": 71516, \"avg_net_worth\": 379740}, {\"zip\": \"95828\", \"name\": \"Sacramento\", \"teslas\": 27, \"all_vehicles\": 27646, \"tesla_rate_1k\": 0.98, \"avg_house_income\": 65583, \"avg_net_worth\": 320466}, {\"zip\": \"95829\", \"name\": \"Sacramento\", \"teslas\": 94, \"all_vehicles\": 16474, \"tesla_rate_1k\": 5.71, \"avg_house_income\": 99795, \"avg_net_worth\": 620222}, {\"zip\": \"95831\", \"name\": \"Sacramento\", \"teslas\": 159, \"all_vehicles\": 21606, \"tesla_rate_1k\": 7.36, \"avg_house_income\": 96519, \"avg_net_worth\": 877031}, {\"zip\": \"95833\", \"name\": \"Sacramento\", \"teslas\": 39, \"all_vehicles\": 17314, \"tesla_rate_1k\": 2.25, \"avg_house_income\": 73378, \"avg_net_worth\": 235487}, {\"zip\": \"95834\", \"name\": \"Sacramento\", \"teslas\": 91, \"all_vehicles\": 19269, \"tesla_rate_1k\": 4.72, \"avg_house_income\": 75299, \"avg_net_worth\": 207743}, {\"zip\": \"95835\", \"name\": \"Sacramento\", \"teslas\": 155, \"all_vehicles\": 21109, \"tesla_rate_1k\": 7.34, \"avg_house_income\": 104237, \"avg_net_worth\": 622226}, {\"zip\": \"95843\", \"name\": \"Antelope\", \"teslas\": 38, \"all_vehicles\": 22921, \"tesla_rate_1k\": 1.66, \"avg_house_income\": 87811, \"avg_net_worth\": 506312}, {\"zip\": \"95864\", \"name\": \"Sacramento\", \"teslas\": 160, \"all_vehicles\": 12834, \"tesla_rate_1k\": 12.47, \"avg_house_income\": 124719, \"avg_net_worth\": 1478050}, {\"zip\": \"95926\", \"name\": \"Chico\", \"teslas\": 19, \"all_vehicles\": 13634, \"tesla_rate_1k\": 1.39, \"avg_house_income\": 62000, \"avg_net_worth\": 343423}, {\"zip\": \"95928\", \"name\": \"Chico\", \"teslas\": 38, \"all_vehicles\": 15107, \"tesla_rate_1k\": 2.52, \"avg_house_income\": 66127, \"avg_net_worth\": 424839}, {\"zip\": \"95945\", \"name\": \"Grass Valley\", \"teslas\": 12, \"all_vehicles\": 10863, \"tesla_rate_1k\": 1.1, \"avg_house_income\": 61511, \"avg_net_worth\": 575553}, {\"zip\": \"95949\", \"name\": \"Grass Valley\", \"teslas\": 11, \"all_vehicles\": 9814, \"tesla_rate_1k\": 1.12, \"avg_house_income\": 83405, \"avg_net_worth\": 1295710}, {\"zip\": \"95959\", \"name\": \"Nevada City\", \"teslas\": 39, \"all_vehicles\": 8864, \"tesla_rate_1k\": 4.4, \"avg_house_income\": 80843, \"avg_net_worth\": 997236}, {\"zip\": \"95961\", \"name\": \"Olivehurst\", \"teslas\": 11, \"all_vehicles\": 11105, \"tesla_rate_1k\": 0.99, \"avg_house_income\": 65335, \"avg_net_worth\": 256634}, {\"zip\": \"95973\", \"name\": \"Chico\", \"teslas\": 35, \"all_vehicles\": 18121, \"tesla_rate_1k\": 1.93, \"avg_house_income\": 75970, \"avg_net_worth\": 541008}, {\"zip\": \"95993\", \"name\": \"Yuba City\", \"teslas\": 47, \"all_vehicles\": 18629, \"tesla_rate_1k\": 2.52, \"avg_house_income\": 89449, \"avg_net_worth\": 821226}, {\"zip\": \"96001\", \"name\": \"Redding\", \"teslas\": 32, \"all_vehicles\": 14745, \"tesla_rate_1k\": 2.17, \"avg_house_income\": 74459, \"avg_net_worth\": 751869}, {\"zip\": \"96002\", \"name\": \"Redding\", \"teslas\": 14, \"all_vehicles\": 14377, \"tesla_rate_1k\": 0.97, \"avg_house_income\": 66377, \"avg_net_worth\": 560356}, {\"zip\": \"96003\", \"name\": \"Redding\", \"teslas\": 29, \"all_vehicles\": 19669, \"tesla_rate_1k\": 1.47, \"avg_house_income\": 68816, \"avg_net_worth\": 563305}, {\"zip\": \"96150\", \"name\": \"South Lake Tahoe\", \"teslas\": 12, \"all_vehicles\": 8692, \"tesla_rate_1k\": 1.38, \"avg_house_income\": 73629, \"avg_net_worth\": 420464}, {\"zip\": \"96161\", \"name\": \"Truckee\", \"teslas\": 54, \"all_vehicles\": 8857, \"tesla_rate_1k\": 6.1, \"avg_house_income\": 101103, \"avg_net_worth\": 755014}]}}, {\"mode\": \"vega-lite\"});\n",
       "</script>"
      ],
      "text/plain": [
       "alt.Chart(...)"
      ]
     },
     "execution_count": 74,
     "metadata": {},
     "output_type": "execute_result"
    }
   ],
   "source": [
    "alt.Chart(tesla_zips_slim).mark_circle(size=60).encode(\n",
    "    x=alt.X('tesla_rate_1k:Q', title='Tesla rate per 1,000 vehicles', axis=alt.Axis(tickCount=6)),\n",
    "    y=alt.Y('avg_net_worth:Q', title='Avg net worth', axis=alt.Axis(tickCount=5, format='$,N')),\n",
    "    tooltip=['zip:N', 'teslas:O', 'avg_net_worth:Q', 'tesla_rate_1k:Q']\n",
    ").properties(width=500, height=500)"
   ]
  },
  {
   "cell_type": "code",
   "execution_count": 75,
   "metadata": {},
   "outputs": [],
   "source": [
    "tesla_zips_slim.to_csv('output/tesla_zips_slim.csv')"
   ]
  },
  {
   "cell_type": "markdown",
   "metadata": {},
   "source": [
    "---"
   ]
  },
  {
   "cell_type": "markdown",
   "metadata": {},
   "source": [
    "### Group by model year. Which years have the most vehicles? "
   ]
  },
  {
   "cell_type": "code",
   "execution_count": 76,
   "metadata": {},
   "outputs": [],
   "source": [
    "model_year = vehicles.groupby(['model_year']).agg('sum').reset_index()"
   ]
  },
  {
   "cell_type": "code",
   "execution_count": 77,
   "metadata": {},
   "outputs": [
    {
     "data": {
      "text/html": [
       "<div>\n",
       "<style scoped>\n",
       "    .dataframe tbody tr th:only-of-type {\n",
       "        vertical-align: middle;\n",
       "    }\n",
       "\n",
       "    .dataframe tbody tr th {\n",
       "        vertical-align: top;\n",
       "    }\n",
       "\n",
       "    .dataframe thead th {\n",
       "        text-align: right;\n",
       "    }\n",
       "</style>\n",
       "<table border=\"1\" class=\"dataframe\">\n",
       "  <thead>\n",
       "    <tr style=\"text-align: right;\">\n",
       "      <th></th>\n",
       "      <th>model_year</th>\n",
       "      <th>vehicles</th>\n",
       "    </tr>\n",
       "  </thead>\n",
       "  <tbody>\n",
       "    <tr>\n",
       "      <th>14</th>\n",
       "      <td>Unk</td>\n",
       "      <td>2061</td>\n",
       "    </tr>\n",
       "    <tr>\n",
       "      <th>13</th>\n",
       "      <td>2020</td>\n",
       "      <td>214848</td>\n",
       "    </tr>\n",
       "    <tr>\n",
       "      <th>12</th>\n",
       "      <td>2019</td>\n",
       "      <td>1669729</td>\n",
       "    </tr>\n",
       "    <tr>\n",
       "      <th>11</th>\n",
       "      <td>2018</td>\n",
       "      <td>1973495</td>\n",
       "    </tr>\n",
       "    <tr>\n",
       "      <th>10</th>\n",
       "      <td>2017</td>\n",
       "      <td>2028101</td>\n",
       "    </tr>\n",
       "    <tr>\n",
       "      <th>9</th>\n",
       "      <td>2016</td>\n",
       "      <td>1876624</td>\n",
       "    </tr>\n",
       "    <tr>\n",
       "      <th>8</th>\n",
       "      <td>2015</td>\n",
       "      <td>1882332</td>\n",
       "    </tr>\n",
       "    <tr>\n",
       "      <th>7</th>\n",
       "      <td>2014</td>\n",
       "      <td>1572085</td>\n",
       "    </tr>\n",
       "    <tr>\n",
       "      <th>6</th>\n",
       "      <td>2013</td>\n",
       "      <td>1528019</td>\n",
       "    </tr>\n",
       "    <tr>\n",
       "      <th>5</th>\n",
       "      <td>2012</td>\n",
       "      <td>1259806</td>\n",
       "    </tr>\n",
       "    <tr>\n",
       "      <th>4</th>\n",
       "      <td>2011</td>\n",
       "      <td>1006157</td>\n",
       "    </tr>\n",
       "    <tr>\n",
       "      <th>3</th>\n",
       "      <td>2010</td>\n",
       "      <td>932796</td>\n",
       "    </tr>\n",
       "    <tr>\n",
       "      <th>2</th>\n",
       "      <td>2009</td>\n",
       "      <td>760042</td>\n",
       "    </tr>\n",
       "    <tr>\n",
       "      <th>1</th>\n",
       "      <td>2008</td>\n",
       "      <td>1115254</td>\n",
       "    </tr>\n",
       "    <tr>\n",
       "      <th>0</th>\n",
       "      <td>2007</td>\n",
       "      <td>1311537</td>\n",
       "    </tr>\n",
       "  </tbody>\n",
       "</table>\n",
       "</div>"
      ],
      "text/plain": [
       "   model_year  vehicles\n",
       "14        Unk      2061\n",
       "13       2020    214848\n",
       "12       2019   1669729\n",
       "11       2018   1973495\n",
       "10       2017   2028101\n",
       "9        2016   1876624\n",
       "8        2015   1882332\n",
       "7        2014   1572085\n",
       "6        2013   1528019\n",
       "5        2012   1259806\n",
       "4        2011   1006157\n",
       "3        2010    932796\n",
       "2        2009    760042\n",
       "1        2008   1115254\n",
       "0        2007   1311537"
      ]
     },
     "execution_count": 77,
     "metadata": {},
     "output_type": "execute_result"
    }
   ],
   "source": [
    "model_year.sort_values(by='model_year', ascending=False)"
   ]
  },
  {
   "cell_type": "code",
   "execution_count": 78,
   "metadata": {},
   "outputs": [
    {
     "data": {
      "text/html": [
       "\n",
       "<div id=\"altair-viz-49240f6374bb4f8ba6f838749e6c3822\"></div>\n",
       "<script type=\"text/javascript\">\n",
       "  (function(spec, embedOpt){\n",
       "    let outputDiv = document.currentScript.previousElementSibling;\n",
       "    if (outputDiv.id !== \"altair-viz-49240f6374bb4f8ba6f838749e6c3822\") {\n",
       "      outputDiv = document.getElementById(\"altair-viz-49240f6374bb4f8ba6f838749e6c3822\");\n",
       "    }\n",
       "    const paths = {\n",
       "      \"vega\": \"https://cdn.jsdelivr.net/npm//vega@5?noext\",\n",
       "      \"vega-lib\": \"https://cdn.jsdelivr.net/npm//vega-lib?noext\",\n",
       "      \"vega-lite\": \"https://cdn.jsdelivr.net/npm//vega-lite@4.8.1?noext\",\n",
       "      \"vega-embed\": \"https://cdn.jsdelivr.net/npm//vega-embed@6?noext\",\n",
       "    };\n",
       "\n",
       "    function loadScript(lib) {\n",
       "      return new Promise(function(resolve, reject) {\n",
       "        var s = document.createElement('script');\n",
       "        s.src = paths[lib];\n",
       "        s.async = true;\n",
       "        s.onload = () => resolve(paths[lib]);\n",
       "        s.onerror = () => reject(`Error loading script: ${paths[lib]}`);\n",
       "        document.getElementsByTagName(\"head\")[0].appendChild(s);\n",
       "      });\n",
       "    }\n",
       "\n",
       "    function showError(err) {\n",
       "      outputDiv.innerHTML = `<div class=\"error\" style=\"color:red;\">${err}</div>`;\n",
       "      throw err;\n",
       "    }\n",
       "\n",
       "    function displayChart(vegaEmbed) {\n",
       "      vegaEmbed(outputDiv, spec, embedOpt)\n",
       "        .catch(err => showError(`Javascript Error: ${err.message}<br>This usually means there's a typo in your chart specification. See the javascript console for the full traceback.`));\n",
       "    }\n",
       "\n",
       "    if(typeof define === \"function\" && define.amd) {\n",
       "      requirejs.config({paths});\n",
       "      require([\"vega-embed\"], displayChart, err => showError(`Error loading script: ${err.message}`));\n",
       "    } else if (typeof vegaEmbed === \"function\") {\n",
       "      displayChart(vegaEmbed);\n",
       "    } else {\n",
       "      loadScript(\"vega\")\n",
       "        .then(() => loadScript(\"vega-lite\"))\n",
       "        .then(() => loadScript(\"vega-embed\"))\n",
       "        .catch(showError)\n",
       "        .then(() => displayChart(vegaEmbed));\n",
       "    }\n",
       "  })({\"config\": {\"view\": {\"width\": 800, \"height\": 450}, \"background\": \"#ffffff\", \"title\": {\"anchor\": \"start\", \"font\": \"Benton Gothic Bold, sans\", \"fontColor\": \"#000000\", \"fontSize\": 22, \"fontWeight\": \"normal\"}, \"arc\": {\"fill\": \"#82c6df\"}, \"area\": {\"fill\": \"#82c6df\"}, \"line\": {\"stroke\": \"#82c6df\", \"strokeWidth\": 3}, \"path\": {\"stroke\": \"#82c6df\"}, \"rect\": {\"fill\": \"#82c6df\"}, \"shape\": {\"stroke\": \"#82c6df\"}, \"bar\": {\"fill\": \"#82c6df\"}, \"point\": {\"stroke\": \"#82c6df\"}, \"symbol\": {\"fill\": \"#82c6df\", \"size\": 30}, \"axis\": {\"titleFont\": \"Benton Gothic Bold, sans\", \"titleFontSize\": 13, \"titleFontWeight\": \"normal\", \"labelFont\": \"Benton Gothic, sans\", \"labelFontSize\": 11.5, \"labelFontWeight\": \"normal\"}, \"axisX\": {\"labelAngle\": 0, \"labelPadding\": 4, \"tickSize\": 3}, \"axisY\": {\"labelBaseline\": \"middle\", \"maxExtent\": 45, \"minExtent\": 45, \"tickSize\": 2, \"titleAlign\": \"left\", \"titleAngle\": 0, \"titleX\": -45, \"titleY\": -11}, \"legend\": {\"titleFont\": \"Benton Gothic Bold, sans\", \"titleFontSize\": 13, \"titleFontWeight\": \"normal\", \"symbolType\": \"square\", \"labelFont\": \"Benton Gothic, sans\", \"labelFontSize\": 11.5}, \"range\": {\"category\": [\"#3580b1\", \"#ec8431\", \"#ab7fb4\", \"#c89d29\", \"#adc839\", \"#829eb1\"], \"diverging\": [\"#e68a4f\", \"#f4bb6a\", \"#f9e39c\", \"#dadfe2\", \"#a6b7c6\", \"#849eae\"], \"heatmap\": [\"#fbf2c7\", \"#f9e39c\", \"#f8d36e\", \"#f4bb6a\", \"#e68a4f\", \"#d15a40\", \"#ab4232\"], \"ordinal\": [\"#fbf2c7\", \"#f9e39c\", \"#f8d36e\", \"#f4bb6a\", \"#e68a4f\", \"#d15a40\", \"#ab4232\"], \"ramp\": [\"#fbf2c7\", \"#f9e39c\", \"#f8d36e\", \"#f4bb6a\", \"#e68a4f\", \"#d15a40\", \"#ab4232\"]}}, \"layer\": [{\"mark\": \"bar\", \"encoding\": {\"x\": {\"type\": \"quantitative\", \"axis\": {\"format\": \"\", \"tickCount\": 5}, \"field\": \"vehicles\", \"title\": \"Vehicles\"}, \"y\": {\"type\": \"nominal\", \"axis\": {\"format\": \"\", \"tickCount\": 5}, \"field\": \"model_year\", \"title\": \" \"}}}, {\"mark\": {\"type\": \"text\", \"align\": \"left\", \"baseline\": \"middle\", \"dx\": 5}, \"encoding\": {\"text\": {\"type\": \"quantitative\", \"field\": \"vehicles\", \"format\": \",\"}, \"x\": {\"type\": \"quantitative\", \"axis\": {\"format\": \"\", \"tickCount\": 5}, \"field\": \"vehicles\", \"title\": \"Vehicles\"}, \"y\": {\"type\": \"nominal\", \"axis\": {\"format\": \"\", \"tickCount\": 5}, \"field\": \"model_year\", \"title\": \" \"}}}], \"data\": {\"name\": \"data-9d8b4ff67c78b70a918b7734e65a6ee2\"}, \"height\": 500, \"title\": \"California vehicles, by model year\", \"width\": 700, \"$schema\": \"https://vega.github.io/schema/vega-lite/v4.8.1.json\", \"datasets\": {\"data-9d8b4ff67c78b70a918b7734e65a6ee2\": [{\"model_year\": \"2007\", \"vehicles\": 1311537}, {\"model_year\": \"2008\", \"vehicles\": 1115254}, {\"model_year\": \"2009\", \"vehicles\": 760042}, {\"model_year\": \"2010\", \"vehicles\": 932796}, {\"model_year\": \"2011\", \"vehicles\": 1006157}, {\"model_year\": \"2012\", \"vehicles\": 1259806}, {\"model_year\": \"2013\", \"vehicles\": 1528019}, {\"model_year\": \"2014\", \"vehicles\": 1572085}, {\"model_year\": \"2015\", \"vehicles\": 1882332}, {\"model_year\": \"2016\", \"vehicles\": 1876624}, {\"model_year\": \"2017\", \"vehicles\": 2028101}, {\"model_year\": \"2018\", \"vehicles\": 1973495}, {\"model_year\": \"2019\", \"vehicles\": 1669729}, {\"model_year\": \"2020\", \"vehicles\": 214848}, {\"model_year\": \"Unk\", \"vehicles\": 2061}]}}, {\"mode\": \"vega-lite\"});\n",
       "</script>"
      ],
      "text/plain": [
       "alt.LayerChart(...)"
      ]
     },
     "execution_count": 78,
     "metadata": {},
     "output_type": "execute_result"
    }
   ],
   "source": [
    "model_year_chart = alt.Chart(model_year).mark_bar().encode(\n",
    ").mark_bar().encode(\n",
    "    y=alt.Y('model_year:N', title=\" \", axis=alt.Axis(format='', tickCount=5)),\n",
    "    x=alt.X(\"vehicles:Q\", title=\"Vehicles\", axis=alt.Axis(format='', tickCount=5))\n",
    ")\n",
    "\n",
    "model_year_chart_text = model_year_chart.mark_text(\n",
    "    align='left',\n",
    "    baseline='middle',\n",
    "    dx=5\n",
    ").encode(text=alt.Text('vehicles:Q', format=',')\n",
    ")\n",
    "\n",
    "(model_year_chart + model_year_chart_text).properties(height=500, \\\n",
    "                                                      width=700, title='California vehicles, by model year')"
   ]
  },
  {
   "cell_type": "markdown",
   "metadata": {},
   "source": [
    "### Export model year table for graphics"
   ]
  },
  {
   "cell_type": "code",
   "execution_count": 79,
   "metadata": {},
   "outputs": [],
   "source": [
    "model_year.to_csv('output/model_year.csv')"
   ]
  },
  {
   "cell_type": "markdown",
   "metadata": {},
   "source": [
    "---"
   ]
  },
  {
   "cell_type": "markdown",
   "metadata": {},
   "source": [
    "## Fuel types"
   ]
  },
  {
   "cell_type": "markdown",
   "metadata": {},
   "source": [
    "### Which types of alternative fuel models are most common?"
   ]
  },
  {
   "cell_type": "code",
   "execution_count": 80,
   "metadata": {},
   "outputs": [],
   "source": [
    "fuel = vehicles.groupby(['fuel']).agg('sum').reset_index()"
   ]
  },
  {
   "cell_type": "code",
   "execution_count": 81,
   "metadata": {},
   "outputs": [
    {
     "data": {
      "text/html": [
       "<div>\n",
       "<style scoped>\n",
       "    .dataframe tbody tr th:only-of-type {\n",
       "        vertical-align: middle;\n",
       "    }\n",
       "\n",
       "    .dataframe tbody tr th {\n",
       "        vertical-align: top;\n",
       "    }\n",
       "\n",
       "    .dataframe thead th {\n",
       "        text-align: right;\n",
       "    }\n",
       "</style>\n",
       "<table border=\"1\" class=\"dataframe\">\n",
       "  <thead>\n",
       "    <tr style=\"text-align: right;\">\n",
       "      <th></th>\n",
       "      <th>fuel</th>\n",
       "      <th>vehicles</th>\n",
       "    </tr>\n",
       "  </thead>\n",
       "  <tbody>\n",
       "    <tr>\n",
       "      <th>0</th>\n",
       "      <td>Battery Electric</td>\n",
       "      <td>301616</td>\n",
       "    </tr>\n",
       "    <tr>\n",
       "      <th>1</th>\n",
       "      <td>Diesel and Diesel Hybrid</td>\n",
       "      <td>310610</td>\n",
       "    </tr>\n",
       "    <tr>\n",
       "      <th>2</th>\n",
       "      <td>Flex-Fuel</td>\n",
       "      <td>944558</td>\n",
       "    </tr>\n",
       "    <tr>\n",
       "      <th>3</th>\n",
       "      <td>Gasoline</td>\n",
       "      <td>16308308</td>\n",
       "    </tr>\n",
       "    <tr>\n",
       "      <th>4</th>\n",
       "      <td>Hybrid Gasoline</td>\n",
       "      <td>1008378</td>\n",
       "    </tr>\n",
       "    <tr>\n",
       "      <th>5</th>\n",
       "      <td>Hydrogen Fuel Cell</td>\n",
       "      <td>6566</td>\n",
       "    </tr>\n",
       "    <tr>\n",
       "      <th>6</th>\n",
       "      <td>Natural Gas</td>\n",
       "      <td>6273</td>\n",
       "    </tr>\n",
       "    <tr>\n",
       "      <th>7</th>\n",
       "      <td>Other</td>\n",
       "      <td>356</td>\n",
       "    </tr>\n",
       "    <tr>\n",
       "      <th>8</th>\n",
       "      <td>Plug-in Hybrid</td>\n",
       "      <td>246221</td>\n",
       "    </tr>\n",
       "  </tbody>\n",
       "</table>\n",
       "</div>"
      ],
      "text/plain": [
       "                       fuel  vehicles\n",
       "0          Battery Electric    301616\n",
       "1  Diesel and Diesel Hybrid    310610\n",
       "2                 Flex-Fuel    944558\n",
       "3                  Gasoline  16308308\n",
       "4           Hybrid Gasoline   1008378\n",
       "5        Hydrogen Fuel Cell      6566\n",
       "6               Natural Gas      6273\n",
       "7                     Other       356\n",
       "8            Plug-in Hybrid    246221"
      ]
     },
     "execution_count": 81,
     "metadata": {},
     "output_type": "execute_result"
    }
   ],
   "source": [
    "fuel.head(9)"
   ]
  },
  {
   "cell_type": "code",
   "execution_count": 82,
   "metadata": {},
   "outputs": [
    {
     "data": {
      "text/plain": [
       "['Battery Electric',\n",
       " 'Diesel and Diesel Hybrid',\n",
       " 'Flex-Fuel',\n",
       " 'Gasoline',\n",
       " 'Hybrid Gasoline',\n",
       " 'Hydrogen Fuel Cell',\n",
       " 'Natural Gas',\n",
       " 'Other',\n",
       " 'Plug-in Hybrid']"
      ]
     },
     "execution_count": 82,
     "metadata": {},
     "output_type": "execute_result"
    }
   ],
   "source": [
    "fuel.fuel.tolist()"
   ]
  },
  {
   "cell_type": "code",
   "execution_count": 83,
   "metadata": {},
   "outputs": [
    {
     "data": {
      "text/plain": [
       "'18,571,854'"
      ]
     },
     "execution_count": 83,
     "metadata": {},
     "output_type": "execute_result"
    }
   ],
   "source": [
    "# Diesel and Diesel Hybrid + Flex-Fuel + Gasoline + Hybrid Gasoline\n",
    "'{:,.0f}'.format((fuel.iloc[1,1] + fuel.iloc[2,1] + fuel.iloc[3,1] + fuel.iloc[4,1]))"
   ]
  },
  {
   "cell_type": "markdown",
   "metadata": {},
   "source": [
    "# Chart the fuel type counts"
   ]
  },
  {
   "cell_type": "code",
   "execution_count": 84,
   "metadata": {},
   "outputs": [
    {
     "data": {
      "text/html": [
       "\n",
       "<div id=\"altair-viz-932b93e22d164952865ef04fbb88b6e2\"></div>\n",
       "<script type=\"text/javascript\">\n",
       "  (function(spec, embedOpt){\n",
       "    let outputDiv = document.currentScript.previousElementSibling;\n",
       "    if (outputDiv.id !== \"altair-viz-932b93e22d164952865ef04fbb88b6e2\") {\n",
       "      outputDiv = document.getElementById(\"altair-viz-932b93e22d164952865ef04fbb88b6e2\");\n",
       "    }\n",
       "    const paths = {\n",
       "      \"vega\": \"https://cdn.jsdelivr.net/npm//vega@5?noext\",\n",
       "      \"vega-lib\": \"https://cdn.jsdelivr.net/npm//vega-lib?noext\",\n",
       "      \"vega-lite\": \"https://cdn.jsdelivr.net/npm//vega-lite@4.8.1?noext\",\n",
       "      \"vega-embed\": \"https://cdn.jsdelivr.net/npm//vega-embed@6?noext\",\n",
       "    };\n",
       "\n",
       "    function loadScript(lib) {\n",
       "      return new Promise(function(resolve, reject) {\n",
       "        var s = document.createElement('script');\n",
       "        s.src = paths[lib];\n",
       "        s.async = true;\n",
       "        s.onload = () => resolve(paths[lib]);\n",
       "        s.onerror = () => reject(`Error loading script: ${paths[lib]}`);\n",
       "        document.getElementsByTagName(\"head\")[0].appendChild(s);\n",
       "      });\n",
       "    }\n",
       "\n",
       "    function showError(err) {\n",
       "      outputDiv.innerHTML = `<div class=\"error\" style=\"color:red;\">${err}</div>`;\n",
       "      throw err;\n",
       "    }\n",
       "\n",
       "    function displayChart(vegaEmbed) {\n",
       "      vegaEmbed(outputDiv, spec, embedOpt)\n",
       "        .catch(err => showError(`Javascript Error: ${err.message}<br>This usually means there's a typo in your chart specification. See the javascript console for the full traceback.`));\n",
       "    }\n",
       "\n",
       "    if(typeof define === \"function\" && define.amd) {\n",
       "      requirejs.config({paths});\n",
       "      require([\"vega-embed\"], displayChart, err => showError(`Error loading script: ${err.message}`));\n",
       "    } else if (typeof vegaEmbed === \"function\") {\n",
       "      displayChart(vegaEmbed);\n",
       "    } else {\n",
       "      loadScript(\"vega\")\n",
       "        .then(() => loadScript(\"vega-lite\"))\n",
       "        .then(() => loadScript(\"vega-embed\"))\n",
       "        .catch(showError)\n",
       "        .then(() => displayChart(vegaEmbed));\n",
       "    }\n",
       "  })({\"config\": {\"view\": {\"width\": 800, \"height\": 450}, \"background\": \"#ffffff\", \"title\": {\"anchor\": \"start\", \"font\": \"Benton Gothic Bold, sans\", \"fontColor\": \"#000000\", \"fontSize\": 22, \"fontWeight\": \"normal\"}, \"arc\": {\"fill\": \"#82c6df\"}, \"area\": {\"fill\": \"#82c6df\"}, \"line\": {\"stroke\": \"#82c6df\", \"strokeWidth\": 3}, \"path\": {\"stroke\": \"#82c6df\"}, \"rect\": {\"fill\": \"#82c6df\"}, \"shape\": {\"stroke\": \"#82c6df\"}, \"bar\": {\"fill\": \"#82c6df\"}, \"point\": {\"stroke\": \"#82c6df\"}, \"symbol\": {\"fill\": \"#82c6df\", \"size\": 30}, \"axis\": {\"titleFont\": \"Benton Gothic Bold, sans\", \"titleFontSize\": 13, \"titleFontWeight\": \"normal\", \"labelFont\": \"Benton Gothic, sans\", \"labelFontSize\": 11.5, \"labelFontWeight\": \"normal\"}, \"axisX\": {\"labelAngle\": 0, \"labelPadding\": 4, \"tickSize\": 3}, \"axisY\": {\"labelBaseline\": \"middle\", \"maxExtent\": 45, \"minExtent\": 45, \"tickSize\": 2, \"titleAlign\": \"left\", \"titleAngle\": 0, \"titleX\": -45, \"titleY\": -11}, \"legend\": {\"titleFont\": \"Benton Gothic Bold, sans\", \"titleFontSize\": 13, \"titleFontWeight\": \"normal\", \"symbolType\": \"square\", \"labelFont\": \"Benton Gothic, sans\", \"labelFontSize\": 11.5}, \"range\": {\"category\": [\"#3580b1\", \"#ec8431\", \"#ab7fb4\", \"#c89d29\", \"#adc839\", \"#829eb1\"], \"diverging\": [\"#e68a4f\", \"#f4bb6a\", \"#f9e39c\", \"#dadfe2\", \"#a6b7c6\", \"#849eae\"], \"heatmap\": [\"#fbf2c7\", \"#f9e39c\", \"#f8d36e\", \"#f4bb6a\", \"#e68a4f\", \"#d15a40\", \"#ab4232\"], \"ordinal\": [\"#fbf2c7\", \"#f9e39c\", \"#f8d36e\", \"#f4bb6a\", \"#e68a4f\", \"#d15a40\", \"#ab4232\"], \"ramp\": [\"#fbf2c7\", \"#f9e39c\", \"#f8d36e\", \"#f4bb6a\", \"#e68a4f\", \"#d15a40\", \"#ab4232\"]}}, \"layer\": [{\"mark\": \"bar\", \"encoding\": {\"x\": {\"type\": \"quantitative\", \"aggregate\": \"sum\", \"axis\": {\"format\": \"\", \"tickCount\": 5}, \"field\": \"vehicles\", \"title\": \"Vehicles\"}, \"y\": {\"type\": \"nominal\", \"axis\": {\"format\": \"\", \"tickCount\": 5}, \"field\": \"fuel\", \"sort\": {\"field\": \"vehicles\", \"op\": \"sum\", \"order\": \"descending\"}, \"title\": \" \"}}}, {\"mark\": {\"type\": \"text\", \"align\": \"left\", \"baseline\": \"middle\", \"dx\": 3}, \"encoding\": {\"text\": {\"type\": \"quantitative\", \"aggregate\": \"sum\", \"field\": \"vehicles\", \"format\": \",\"}, \"x\": {\"type\": \"quantitative\", \"aggregate\": \"sum\", \"axis\": {\"format\": \"\", \"tickCount\": 5}, \"field\": \"vehicles\", \"title\": \"Vehicles\"}, \"y\": {\"type\": \"nominal\", \"axis\": {\"format\": \"\", \"tickCount\": 5}, \"field\": \"fuel\", \"sort\": {\"field\": \"vehicles\", \"op\": \"sum\", \"order\": \"descending\"}, \"title\": \" \"}}}], \"data\": {\"name\": \"data-0a1dc1c0d6055ae81d64d6a31cc23ba2\"}, \"height\": 400, \"title\": \"CA alternative fuel vehicles by type\", \"width\": 500, \"$schema\": \"https://vega.github.io/schema/vega-lite/v4.8.1.json\", \"datasets\": {\"data-0a1dc1c0d6055ae81d64d6a31cc23ba2\": [{\"fuel\": \"Battery Electric\", \"vehicles\": 301616}, {\"fuel\": \"Diesel and Diesel Hybrid\", \"vehicles\": 310610}, {\"fuel\": \"Flex-Fuel\", \"vehicles\": 944558}, {\"fuel\": \"Gasoline\", \"vehicles\": 16308308}, {\"fuel\": \"Hybrid Gasoline\", \"vehicles\": 1008378}, {\"fuel\": \"Hydrogen Fuel Cell\", \"vehicles\": 6566}, {\"fuel\": \"Natural Gas\", \"vehicles\": 6273}, {\"fuel\": \"Other\", \"vehicles\": 356}, {\"fuel\": \"Plug-in Hybrid\", \"vehicles\": 246221}]}}, {\"mode\": \"vega-lite\"});\n",
       "</script>"
      ],
      "text/plain": [
       "alt.LayerChart(...)"
      ]
     },
     "execution_count": 84,
     "metadata": {},
     "output_type": "execute_result"
    }
   ],
   "source": [
    "chart_fuels = alt.Chart(fuel).mark_bar().encode(\n",
    "    y=alt.Y('fuel:N', title=' ',\n",
    "        sort=alt.EncodingSortField(\n",
    "            field=\"vehicles\",  # The field to use for the sort\n",
    "            op=\"sum\",  # The operation to run on the field prior to sorting\n",
    "            order=\"descending\"  # The order to sort in\n",
    "        ), axis=alt.Axis(format='', tickCount=5)),\n",
    "    x=alt.X(\"sum(vehicles):Q\", title=\"Vehicles\", axis=alt.Axis(format='', tickCount=5))\n",
    ")\n",
    "\n",
    "chart_fuels_text = chart_fuels.mark_text(\n",
    "    align='left',\n",
    "    baseline='middle',\n",
    "    dx=3  # Nudges text to right so it doesn't appear on top of the bar\n",
    ").encode(text=alt.Text('sum(vehicles)', format=',')\n",
    ")\n",
    "\n",
    "\n",
    "(chart_fuels + chart_fuels_text)\\\n",
    ".properties(height=400, width=500, title='CA alternative fuel vehicles by type')"
   ]
  },
  {
   "cell_type": "markdown",
   "metadata": {},
   "source": [
    "### Export fuel type count table for graphics"
   ]
  },
  {
   "cell_type": "code",
   "execution_count": 85,
   "metadata": {},
   "outputs": [],
   "source": [
    "fuel.to_csv('output/fuel.csv')"
   ]
  },
  {
   "cell_type": "markdown",
   "metadata": {},
   "source": [
    "--- "
   ]
  },
  {
   "cell_type": "markdown",
   "metadata": {},
   "source": [
    "## Where are these vehicles?"
   ]
  },
  {
   "cell_type": "code",
   "execution_count": 86,
   "metadata": {},
   "outputs": [],
   "source": [
    "zip_code = vehicles.groupby(['zip']).agg('sum').reset_index()"
   ]
  },
  {
   "cell_type": "code",
   "execution_count": 87,
   "metadata": {},
   "outputs": [
    {
     "ename": "NameError",
     "evalue": "name 'zev' is not defined",
     "output_type": "error",
     "traceback": [
      "\u001b[0;31m---------------------------------------------------------------------------\u001b[0m",
      "\u001b[0;31mNameError\u001b[0m                                 Traceback (most recent call last)",
      "\u001b[0;32m<ipython-input-87-33b043dfdb21>\u001b[0m in \u001b[0;36m<module>\u001b[0;34m\u001b[0m\n\u001b[0;32m----> 1\u001b[0;31m \u001b[0mzip_code_zev\u001b[0m \u001b[0;34m=\u001b[0m \u001b[0mzev\u001b[0m\u001b[0;34m.\u001b[0m\u001b[0mgroupby\u001b[0m\u001b[0;34m(\u001b[0m\u001b[0;34m[\u001b[0m\u001b[0;34m'zip'\u001b[0m\u001b[0;34m]\u001b[0m\u001b[0;34m)\u001b[0m\u001b[0;34m.\u001b[0m\u001b[0magg\u001b[0m\u001b[0;34m(\u001b[0m\u001b[0;34m'sum'\u001b[0m\u001b[0;34m)\u001b[0m\u001b[0;34m.\u001b[0m\u001b[0mreset_index\u001b[0m\u001b[0;34m(\u001b[0m\u001b[0;34m)\u001b[0m\u001b[0;34m\u001b[0m\u001b[0;34m\u001b[0m\u001b[0m\n\u001b[0m",
      "\u001b[0;31mNameError\u001b[0m: name 'zev' is not defined"
     ]
    }
   ],
   "source": [
    "zip_code_zev = zev.groupby(['zip']).agg('sum').reset_index()"
   ]
  },
  {
   "cell_type": "markdown",
   "metadata": {},
   "source": [
    "### Which ZIP codes have the most alternative fuel vehicles? (Airport areas, it seems)"
   ]
  },
  {
   "cell_type": "code",
   "execution_count": null,
   "metadata": {},
   "outputs": [],
   "source": [
    "zip_code_zev.sort_values(by='vehicles',\\\n",
    "    ascending=False).head(10)"
   ]
  },
  {
   "cell_type": "markdown",
   "metadata": {},
   "source": [
    "### Pivot on ZIP code and widen out the dataframe to count vehicle types across them"
   ]
  },
  {
   "cell_type": "code",
   "execution_count": null,
   "metadata": {},
   "outputs": [],
   "source": [
    "sum_by_zip = pd.pivot_table(vehicles, values='vehicles', \\\n",
    "                            index=['zip'], columns=['fuel'], aggfunc=np.sum, fill_value=0).reset_index()\n",
    "\n",
    "sum_by_zip.columns = sum_by_zip.columns.str.strip().str.lower().str.replace(' ', '_')\\\n",
    "                    .str.replace('(', '').str.replace(')', '').str.replace('-','_')"
   ]
  },
  {
   "cell_type": "markdown",
   "metadata": {},
   "source": [
    "### Which type is most common in each ZIP code? "
   ]
  },
  {
   "cell_type": "code",
   "execution_count": null,
   "metadata": {},
   "outputs": [],
   "source": [
    "sum_by_zip[\"total\"] = sum_by_zip.sum(axis=1)"
   ]
  },
  {
   "cell_type": "code",
   "execution_count": null,
   "metadata": {},
   "outputs": [],
   "source": [
    "sum_by_zip.sort_values(by='total', ascending=False).head(5)"
   ]
  },
  {
   "cell_type": "markdown",
   "metadata": {},
   "source": [
    "### Group the lesser-used fuel types into an 'other' category"
   ]
  },
  {
   "cell_type": "code",
   "execution_count": null,
   "metadata": {},
   "outputs": [],
   "source": [
    "sum_by_zip['other'] = sum_by_zip.apply\\\n",
    "    (lambda x: x['hydrogen_fuel_cell'] + x['natural_gas'] + x['other'], axis=1)\n",
    "sum_by_zip.drop(['hydrogen_fuel_cell', 'natural_gas'], axis=1, inplace=True)\n",
    "sum_by_zip.drop([0], inplace=True)"
   ]
  },
  {
   "cell_type": "markdown",
   "metadata": {},
   "source": [
    "### Which non-gas vehicle is most popular — the 'winner' — in each zip?"
   ]
  },
  {
   "cell_type": "code",
   "execution_count": null,
   "metadata": {},
   "outputs": [],
   "source": [
    "sum_by_zip['winner'] = \\\n",
    "sum_by_zip[['hybrid_gasoline','battery_electric','diesel_and_diesel_hybrid',\\\n",
    "                   'flex_fuel','plug_in_hybrid', 'other']].idxmax(axis=1)"
   ]
  },
  {
   "cell_type": "code",
   "execution_count": null,
   "metadata": {},
   "outputs": [],
   "source": [
    "sum_by_zip.sort_values(by='total', ascending=False).head(10)"
   ]
  },
  {
   "cell_type": "markdown",
   "metadata": {},
   "source": [
    "### De-slugify the 'winner' category"
   ]
  },
  {
   "cell_type": "code",
   "execution_count": null,
   "metadata": {},
   "outputs": [],
   "source": [
    "sum_by_zip['winner'] = sum_by_zip['winner'].str.replace('_', ' ', regex=False).str.capitalize()"
   ]
  },
  {
   "cell_type": "code",
   "execution_count": null,
   "metadata": {},
   "outputs": [],
   "source": [
    "sum_by_zip['altshare'] = (((sum_by_zip['total']-sum_by_zip['gasoline'])/sum_by_zip['total'])*100).round()"
   ]
  },
  {
   "cell_type": "code",
   "execution_count": null,
   "metadata": {},
   "outputs": [],
   "source": [
    "sum_by_zip['batteryshare'] = ((sum_by_zip['battery_electric']/sum_by_zip['total'])*100)"
   ]
  },
  {
   "cell_type": "code",
   "execution_count": null,
   "metadata": {
    "scrolled": true
   },
   "outputs": [],
   "source": [
    "sum_by_zip.sort_values(by='batteryshare', ascending=False).head()"
   ]
  },
  {
   "cell_type": "markdown",
   "metadata": {},
   "source": [
    "### Use the \"jenks\" method to set fair breaks for total field"
   ]
  },
  {
   "cell_type": "code",
   "execution_count": null,
   "metadata": {},
   "outputs": [],
   "source": [
    "breaks \\\n",
    "= jenkspy.jenks_breaks(sum_by_zip.batteryshare, nb_class=7)"
   ]
  },
  {
   "cell_type": "code",
   "execution_count": null,
   "metadata": {},
   "outputs": [],
   "source": [
    "breaks"
   ]
  },
  {
   "cell_type": "markdown",
   "metadata": {},
   "source": [
    "---"
   ]
  },
  {
   "cell_type": "markdown",
   "metadata": {},
   "source": [
    "### Export merged polygon geodataframe as GeoJSON"
   ]
  },
  {
   "cell_type": "code",
   "execution_count": null,
   "metadata": {},
   "outputs": [],
   "source": [
    "zips_poly.to_file('/Users/mhustiles/data/data/GIS/zips_poly.geojson', driver='GeoJSON')"
   ]
  },
  {
   "cell_type": "code",
   "execution_count": null,
   "metadata": {},
   "outputs": [],
   "source": [
    "zips_poly_merged = zips_poly.merge(sum_by_zip, on='zip')"
   ]
  },
  {
   "cell_type": "code",
   "execution_count": null,
   "metadata": {},
   "outputs": [],
   "source": [
    "zips_poly_merged.columns"
   ]
  },
  {
   "cell_type": "code",
   "execution_count": null,
   "metadata": {},
   "outputs": [],
   "source": [
    "# zips_poly_merged_drop = ['objectid', 'zip', 'po_name', 'sqmi', \n",
    "#                         'battery_electric', 'diesel_and_diesel_hybrid', 'flex_fuel',\n",
    "#                          'gasoline', 'hybrid_gasoline', 'other_y', 'plug_in_hybrid', 'total',\n",
    "#                          'winner', 'altshare']\n",
    "# zips_poly_merged.drop(zips_poly_merged_drop, inplace=True, axis=1)"
   ]
  },
  {
   "cell_type": "code",
   "execution_count": null,
   "metadata": {},
   "outputs": [],
   "source": [
    "zips_poly_merged.to_file('/Users/mhustiles/data/data/GIS/zips_poly_merged.geojson', driver='GeoJSON')"
   ]
  },
  {
   "cell_type": "markdown",
   "metadata": {},
   "source": [
    "### Export with Tesla totals"
   ]
  },
  {
   "cell_type": "code",
   "execution_count": null,
   "metadata": {},
   "outputs": [],
   "source": [
    "tesla_zips_poly_merged = zips_poly.merge(tesla_zips_slim, on='zip')"
   ]
  },
  {
   "cell_type": "code",
   "execution_count": null,
   "metadata": {},
   "outputs": [],
   "source": [
    "tesla_zips_poly_merged.to_file('/Users/mhustiles/data/data/fuel/tesla_zips_poly_merged.geojson', driver='GeoJSON')"
   ]
  },
  {
   "cell_type": "code",
   "execution_count": null,
   "metadata": {},
   "outputs": [],
   "source": [
    "tesla_zips_poly_merged.head()"
   ]
  },
  {
   "cell_type": "markdown",
   "metadata": {},
   "source": [
    "### Merge ZIP points with Tesla & electric totals"
   ]
  },
  {
   "cell_type": "code",
   "execution_count": null,
   "metadata": {},
   "outputs": [],
   "source": [
    "teslas_point_merged = ca_zips_point.merge(tesla_zips_slim, on='zip')"
   ]
  },
  {
   "cell_type": "code",
   "execution_count": null,
   "metadata": {},
   "outputs": [],
   "source": [
    "teslas_point_merged.sort_values(by='tesla_rate_1k', ascending=False).head(10)"
   ]
  },
  {
   "cell_type": "code",
   "execution_count": null,
   "metadata": {},
   "outputs": [],
   "source": [
    "teslas_poimt_merged.to_file('output/teslas_point_merged.geojson', driver='GeoJSON')"
   ]
  },
  {
   "cell_type": "markdown",
   "metadata": {},
   "source": [
    "### Merge ZIP points with all vehicle totals"
   ]
  },
  {
   "cell_type": "code",
   "execution_count": null,
   "metadata": {},
   "outputs": [],
   "source": [
    "ca_zips_point_merged = ca_zips_point.merge(sum_by_zip, on='zip')"
   ]
  },
  {
   "cell_type": "code",
   "execution_count": null,
   "metadata": {},
   "outputs": [],
   "source": [
    "ca_zips_point_merged.plot()"
   ]
  },
  {
   "cell_type": "markdown",
   "metadata": {},
   "source": [
    "### Export merged points geodataframe as GeoJSON"
   ]
  },
  {
   "cell_type": "code",
   "execution_count": null,
   "metadata": {},
   "outputs": [],
   "source": [
    "ca_zips_point_merged.head(5)"
   ]
  },
  {
   "cell_type": "code",
   "execution_count": null,
   "metadata": {},
   "outputs": [],
   "source": [
    "ca_zips_point_merged.to_file('/Users/mhustiles/data/data/fuel/ca_zips_point_merged.geojson', driver='GeoJSON')"
   ]
  },
  {
   "cell_type": "markdown",
   "metadata": {},
   "source": [
    "### Convert polygons to mbtiles for Mapbox. Export."
   ]
  },
  {
   "cell_type": "code",
   "execution_count": null,
   "metadata": {},
   "outputs": [],
   "source": [
    "!tippecanoe --force -r1 -pk -pf -Z5 -z13 -o \\\n",
    "/Users/mhustiles/data/data/fuel/ca_zips_point_merged.mbtiles \\\n",
    "/Users/mhustiles/data/data/fuel/ca_zips_point_merged.geojson"
   ]
  },
  {
   "cell_type": "markdown",
   "metadata": {},
   "source": [
    "### Convert points to mbtiles for Mapbox. Export."
   ]
  },
  {
   "cell_type": "code",
   "execution_count": null,
   "metadata": {},
   "outputs": [],
   "source": [
    "!tippecanoe --force -r1 -pk -pf -Z5 -z13 -o \\\n",
    "/Users/mhustiles/data/data/fuel/ca_zips_point_merged.mbtiles \\\n",
    "/Users/mhustiles/data/data/fuel/ca_zips_point_merged.geojson"
   ]
  },
  {
   "cell_type": "markdown",
   "metadata": {},
   "source": [
    "### Convert Tesla polygons to mbtiles for Mapbox. Export."
   ]
  },
  {
   "cell_type": "code",
   "execution_count": null,
   "metadata": {},
   "outputs": [],
   "source": [
    "!tippecanoe --force -r1 -pk -pf -Z5 -z13 -o \\\n",
    "/Users/mhustiles/data/data/fuel/tesla_zips_poly_merged.mbtiles \\\n",
    "/Users/mhustiles/data/data/fuel/tesla_zips_poly_merged.geojson"
   ]
  },
  {
   "cell_type": "markdown",
   "metadata": {},
   "source": [
    "---"
   ]
  },
  {
   "cell_type": "markdown",
   "metadata": {},
   "source": [
    "## Waffle plot"
   ]
  },
  {
   "cell_type": "code",
   "execution_count": null,
   "metadata": {},
   "outputs": [],
   "source": [
    "fuel.head(9)"
   ]
  },
  {
   "cell_type": "code",
   "execution_count": null,
   "metadata": {},
   "outputs": [],
   "source": [
    "fuel.vehicles.sum()"
   ]
  },
  {
   "cell_type": "code",
   "execution_count": null,
   "metadata": {},
   "outputs": [],
   "source": [
    "fuel.iloc[0,1] + fuel.iloc[5,1] + fuel.iloc[6,1] + fuel.iloc[7,1]"
   ]
  },
  {
   "cell_type": "code",
   "execution_count": null,
   "metadata": {},
   "outputs": [],
   "source": [
    "fuel['per_1000'] =  ((fuel['vehicles'] / fuel.vehicles.sum()) * 1000).round(2)"
   ]
  },
  {
   "cell_type": "code",
   "execution_count": null,
   "metadata": {},
   "outputs": [],
   "source": [
    "fuel"
   ]
  },
  {
   "cell_type": "code",
   "execution_count": null,
   "metadata": {},
   "outputs": [],
   "source": [
    "fig = plt.figure(\n",
    "    FigureClass=Waffle, \n",
    "    rows=21,\n",
    "    values=fuel.per_1000,\n",
    "    labels=list(fuel.fuel),\n",
    "    figsize=(30,20),\n",
    "    icons='car-side',\n",
    "    colors=['#ec8431','#e6e6e6','#e6e6e6','#e6e6e6','#e6e6e6','#e6e6e6','#e6e6e6', '#e6e6e6', '#e6e6e6'],\n",
    "    legend={\n",
    "        'loc': 'lower left',\n",
    "        'bbox_to_anchor': (0, -0.4),\n",
    "        'ncol': len(fuel),\n",
    "        'framealpha': 0,\n",
    "        'fontsize': 0\n",
    "    }\n",
    ")"
   ]
  },
  {
   "cell_type": "markdown",
   "metadata": {},
   "source": [
    "See related [Twitter thread](https://twitter.com/stiles/status/1193416749116358656)"
   ]
  }
 ],
 "metadata": {
  "kernelspec": {
   "display_name": "Python 3",
   "language": "python",
   "name": "python3"
  },
  "language_info": {
   "codemirror_mode": {
    "name": "ipython",
    "version": 3
   },
   "file_extension": ".py",
   "mimetype": "text/x-python",
   "name": "python",
   "nbconvert_exporter": "python",
   "pygments_lexer": "ipython3",
   "version": "3.7.4"
  }
 },
 "nbformat": 4,
 "nbformat_minor": 4
}
