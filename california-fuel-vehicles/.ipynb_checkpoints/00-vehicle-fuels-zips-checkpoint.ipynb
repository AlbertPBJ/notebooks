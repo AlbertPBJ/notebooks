{
 "cells": [
  {
   "cell_type": "markdown",
   "metadata": {},
   "source": [
    "# California vehicle fuel type count by zip code"
   ]
  },
  {
   "cell_type": "markdown",
   "metadata": {},
   "source": [
    "### Load Python tools"
   ]
  },
  {
   "cell_type": "code",
   "execution_count": 1,
   "metadata": {},
   "outputs": [
    {
     "data": {
      "text/plain": [
       "DataTransformerRegistry.enable('default')"
      ]
     },
     "execution_count": 1,
     "metadata": {},
     "output_type": "execute_result"
    }
   ],
   "source": [
    "import pandas as pd\n",
    "import geopandas as gpd\n",
    "import pyarrow\n",
    "import matplotlib\n",
    "import matplotlib.pyplot as plt\n",
    "import geojson\n",
    "import json\n",
    "import jenkspy\n",
    "import numpy as np\n",
    "from earthpy import clip as cl\n",
    "from altair import datum\n",
    "import weightedcalcs as wc\n",
    "import altair as alt\n",
    "alt.renderers.enable('notebook')\n",
    "import altair_latimes as lat\n",
    "alt.themes.register('latimes', lat.theme)\n",
    "alt.themes.enable('latimes')\n",
    "pd.options.display.max_columns = 50\n",
    "pd.options.display.max_rows = 1000\n",
    "pd.options.display.float_format = '{:,.2f}'.format\n",
    "alt.data_transformers.disable_max_rows()"
   ]
  },
  {
   "cell_type": "markdown",
   "metadata": {},
   "source": [
    "### Read data from California Department of Motor Vehicles - current as of October 2018"
   ]
  },
  {
   "cell_type": "code",
   "execution_count": 2,
   "metadata": {},
   "outputs": [],
   "source": [
    "#https://data.ca.gov/dataset/vehicle-fuel-type-count-by-zip-code\n",
    "src = pd.read_csv('https://data.ca.gov/dataset/15179472-adeb-4df6-920a-20640d02b08c/\\\n",
    "resource/d304108a-06c1-462f-a144-981dd0109900/\\\n",
    "download/vehicle-fuel-type-count-by-zip-code.csv', low_memory=False)"
   ]
  },
  {
   "cell_type": "code",
   "execution_count": 3,
   "metadata": {},
   "outputs": [],
   "source": [
    "vehicles = pd.DataFrame(src)"
   ]
  },
  {
   "cell_type": "markdown",
   "metadata": {},
   "source": [
    "### Clean up field names"
   ]
  },
  {
   "cell_type": "code",
   "execution_count": 4,
   "metadata": {},
   "outputs": [],
   "source": [
    "vehicles.columns = vehicles.columns.str.strip().str.lower().str.replace(' ', '_')\\\n",
    "                    .str.replace('(', '').str.replace(')', '').str.replace('-','_')"
   ]
  },
  {
   "cell_type": "code",
   "execution_count": 5,
   "metadata": {},
   "outputs": [],
   "source": [
    "vehicles.rename(columns={\"zip_code\": \"zip\"}, inplace=True)"
   ]
  },
  {
   "cell_type": "markdown",
   "metadata": {},
   "source": [
    "### How many vehicles are we talking about? "
   ]
  },
  {
   "cell_type": "code",
   "execution_count": 6,
   "metadata": {},
   "outputs": [
    {
     "data": {
      "text/plain": [
       "'31,137,994'"
      ]
     },
     "execution_count": 6,
     "metadata": {},
     "output_type": "execute_result"
    }
   ],
   "source": [
    "'{:,.0f}'.format(vehicles.vehicles.sum())"
   ]
  },
  {
   "cell_type": "markdown",
   "metadata": {},
   "source": [
    "### Remove few 2019 models, older models and those listed as out of service"
   ]
  },
  {
   "cell_type": "code",
   "execution_count": 7,
   "metadata": {},
   "outputs": [],
   "source": [
    "vehicles = pd.DataFrame(vehicles[(vehicles['model_year'] != '2019') &\\\n",
    "          (vehicles['model_year'] != '<2006') &\\\n",
    "          (vehicles['zip'] != 'OOS')\\\n",
    "         ])"
   ]
  },
  {
   "cell_type": "markdown",
   "metadata": {},
   "source": [
    "### What's left?"
   ]
  },
  {
   "cell_type": "code",
   "execution_count": 8,
   "metadata": {},
   "outputs": [
    {
     "data": {
      "text/plain": [
       "'19,485,599'"
      ]
     },
     "execution_count": 8,
     "metadata": {},
     "output_type": "execute_result"
    }
   ],
   "source": [
    "'{:,.0f}'.format(vehicles.vehicles.sum())"
   ]
  },
  {
   "cell_type": "markdown",
   "metadata": {},
   "source": [
    "### How many don't rely solely on gasoline?"
   ]
  },
  {
   "cell_type": "code",
   "execution_count": 9,
   "metadata": {},
   "outputs": [],
   "source": [
    "nongas = vehicles[(vehicles['fuel'] != 'Gasoline')]"
   ]
  },
  {
   "cell_type": "code",
   "execution_count": 10,
   "metadata": {},
   "outputs": [
    {
     "data": {
      "text/plain": [
       "'3,213,912'"
      ]
     },
     "execution_count": 10,
     "metadata": {},
     "output_type": "execute_result"
    }
   ],
   "source": [
    "'{:,.0f}'.format(nongas.vehicles.sum())"
   ]
  },
  {
   "cell_type": "markdown",
   "metadata": {},
   "source": [
    "---"
   ]
  },
  {
   "cell_type": "markdown",
   "metadata": {},
   "source": [
    "### Before the cars, we need data to explain ZIP codes using zctas"
   ]
  },
  {
   "cell_type": "code",
   "execution_count": 11,
   "metadata": {},
   "outputs": [],
   "source": [
    "# Because our questions will be related to household characteristics, we need to use census zip code tabulation areas.\n",
    "zctas = pd.read_csv('input/processed/acs5_2017_medianhouseholdincome_zctas.csv')"
   ]
  },
  {
   "cell_type": "markdown",
   "metadata": {},
   "source": [
    "### Read zctas that have already been related to closest census place"
   ]
  },
  {
   "cell_type": "code",
   "execution_count": 12,
   "metadata": {},
   "outputs": [],
   "source": [
    "zctas_crosswalk = pd.read_csv('/Users/mhustiles/data/github/notebooks/zctas/input/zcta_place.csv')"
   ]
  },
  {
   "cell_type": "code",
   "execution_count": 13,
   "metadata": {},
   "outputs": [],
   "source": [
    "zctas_crosswalk.columns = zctas_crosswalk.columns.str.strip().str.lower().str.replace(' ', '_')\\\n",
    "    .str.replace('(', '').str.replace(')', '')"
   ]
  },
  {
   "cell_type": "code",
   "execution_count": 14,
   "metadata": {},
   "outputs": [],
   "source": [
    "ca_zctas_crosswalk = pd.DataFrame(zctas_crosswalk[zctas_crosswalk['st'] == 'CA'])"
   ]
  },
  {
   "cell_type": "code",
   "execution_count": 15,
   "metadata": {},
   "outputs": [],
   "source": [
    "ca_zctas_crosswalk.drop(columns=['st','stplace', 'population_part',\n",
    "       'hsgunits_part', 'area_part', 'artealand_part', 'zip_population',\n",
    "       'zip_hsgunits', 'zip_area', 'zip_landarea', 'place_population',\n",
    "       'place_hsgunits', 'place_area', 'place_landarea', 'zip_pop%', 'zip_hu%',\n",
    "       'zip_area%', 'zip_land%', 'place_pop%', 'place_hu%', 'place_area%',\n",
    "       'place_land'], inplace=True)"
   ]
  },
  {
   "cell_type": "code",
   "execution_count": 16,
   "metadata": {},
   "outputs": [
    {
     "data": {
      "text/plain": [
       "Index(['zcta', 'place_name', 'type'], dtype='object')"
      ]
     },
     "execution_count": 16,
     "metadata": {},
     "output_type": "execute_result"
    }
   ],
   "source": [
    "ca_zctas_crosswalk.columns"
   ]
  },
  {
   "cell_type": "markdown",
   "metadata": {},
   "source": [
    "### Clean up ZIP code income table by removing null values"
   ]
  },
  {
   "cell_type": "code",
   "execution_count": 17,
   "metadata": {},
   "outputs": [],
   "source": [
    "zctas_income = zctas[zctas['median'] != -666666666.0].reset_index()"
   ]
  },
  {
   "cell_type": "code",
   "execution_count": 18,
   "metadata": {},
   "outputs": [],
   "source": [
    "zctas_income.drop(columns=['index','name','median_annotation', \\\n",
    "                         'median_moe','median_moe_annotation', 'zip code tabulation area'], inplace=True)"
   ]
  },
  {
   "cell_type": "code",
   "execution_count": 19,
   "metadata": {},
   "outputs": [],
   "source": [
    "zctas_income['zcta'] = zctas_income['geoid'].astype(str)"
   ]
  },
  {
   "cell_type": "markdown",
   "metadata": {},
   "source": [
    "### Merge place names to zctas "
   ]
  },
  {
   "cell_type": "code",
   "execution_count": 20,
   "metadata": {},
   "outputs": [],
   "source": [
    "ca_zctas_crosswalk_slim = ca_zctas_crosswalk[['zcta','place_name']]"
   ]
  },
  {
   "cell_type": "code",
   "execution_count": 21,
   "metadata": {},
   "outputs": [],
   "source": [
    "zctas_place = pd.merge(ca_zctas_crosswalk, zctas, left_on='zcta', right_on='geoid')"
   ]
  },
  {
   "cell_type": "code",
   "execution_count": 22,
   "metadata": {},
   "outputs": [],
   "source": [
    "zctas_place.place_name = zctas_place.place_name.str.replace(' CDP','')\\\n",
    ".str.replace(' city','')"
   ]
  },
  {
   "cell_type": "code",
   "execution_count": 23,
   "metadata": {},
   "outputs": [],
   "source": [
    "zctas_place.drop(columns=['name','name','median_moe', 'median_annotation',\\\n",
    "                         'median_moe','median_moe_annotation', 'zip code tabulation area','zip code tabulation area'], inplace=True)"
   ]
  },
  {
   "cell_type": "code",
   "execution_count": 24,
   "metadata": {},
   "outputs": [],
   "source": [
    "zctas_clean = zctas_place[zctas_place['type'] == 'U1']"
   ]
  },
  {
   "cell_type": "code",
   "execution_count": 25,
   "metadata": {},
   "outputs": [
    {
     "data": {
      "text/plain": [
       "1398"
      ]
     },
     "execution_count": 25,
     "metadata": {},
     "output_type": "execute_result"
    }
   ],
   "source": [
    "len(zctas_clean)"
   ]
  },
  {
   "cell_type": "markdown",
   "metadata": {},
   "source": [
    "### Group the vehicles and count them by ZIP code"
   ]
  },
  {
   "cell_type": "code",
   "execution_count": 26,
   "metadata": {},
   "outputs": [],
   "source": [
    "zipcodes = vehicles.groupby(['zip']).agg({'vehicles':'sum'}).reset_index()"
   ]
  },
  {
   "cell_type": "code",
   "execution_count": 27,
   "metadata": {},
   "outputs": [],
   "source": [
    "zipcodes.sort_values(by='vehicles', ascending=False).head(10)\n",
    "zipcodes['zip'] = zipcodes['zip'].astype(str)"
   ]
  },
  {
   "cell_type": "markdown",
   "metadata": {},
   "source": [
    "### Merge the income information with the ZIP code dataframe for use throughout "
   ]
  },
  {
   "cell_type": "code",
   "execution_count": 28,
   "metadata": {},
   "outputs": [],
   "source": [
    "zips = pd.merge(zctas_income, zipcodes, left_on='zcta', right_on='zip')"
   ]
  },
  {
   "cell_type": "code",
   "execution_count": 29,
   "metadata": {},
   "outputs": [
    {
     "data": {
      "text/html": [
       "<div>\n",
       "<style scoped>\n",
       "    .dataframe tbody tr th:only-of-type {\n",
       "        vertical-align: middle;\n",
       "    }\n",
       "\n",
       "    .dataframe tbody tr th {\n",
       "        vertical-align: top;\n",
       "    }\n",
       "\n",
       "    .dataframe thead th {\n",
       "        text-align: right;\n",
       "    }\n",
       "</style>\n",
       "<table border=\"1\" class=\"dataframe\">\n",
       "  <thead>\n",
       "    <tr style=\"text-align: right;\">\n",
       "      <th></th>\n",
       "      <th>geoid</th>\n",
       "      <th>median</th>\n",
       "      <th>zcta</th>\n",
       "      <th>zip</th>\n",
       "      <th>vehicles</th>\n",
       "    </tr>\n",
       "  </thead>\n",
       "  <tbody>\n",
       "    <tr>\n",
       "      <th>0</th>\n",
       "      <td>93249</td>\n",
       "      <td>34,464.00</td>\n",
       "      <td>93249</td>\n",
       "      <td>93249</td>\n",
       "      <td>970</td>\n",
       "    </tr>\n",
       "    <tr>\n",
       "      <th>1</th>\n",
       "      <td>93252</td>\n",
       "      <td>33,611.00</td>\n",
       "      <td>93252</td>\n",
       "      <td>93252</td>\n",
       "      <td>554</td>\n",
       "    </tr>\n",
       "    <tr>\n",
       "      <th>2</th>\n",
       "      <td>93270</td>\n",
       "      <td>38,322.00</td>\n",
       "      <td>93270</td>\n",
       "      <td>93270</td>\n",
       "      <td>2331</td>\n",
       "    </tr>\n",
       "    <tr>\n",
       "      <th>3</th>\n",
       "      <td>93291</td>\n",
       "      <td>51,054.00</td>\n",
       "      <td>93291</td>\n",
       "      <td>93291</td>\n",
       "      <td>27114</td>\n",
       "    </tr>\n",
       "    <tr>\n",
       "      <th>4</th>\n",
       "      <td>93304</td>\n",
       "      <td>36,388.00</td>\n",
       "      <td>93304</td>\n",
       "      <td>93304</td>\n",
       "      <td>15729</td>\n",
       "    </tr>\n",
       "  </tbody>\n",
       "</table>\n",
       "</div>"
      ],
      "text/plain": [
       "   geoid    median   zcta    zip  vehicles\n",
       "0  93249 34,464.00  93249  93249       970\n",
       "1  93252 33,611.00  93252  93252       554\n",
       "2  93270 38,322.00  93270  93270      2331\n",
       "3  93291 51,054.00  93291  93291     27114\n",
       "4  93304 36,388.00  93304  93304     15729"
      ]
     },
     "execution_count": 29,
     "metadata": {},
     "output_type": "execute_result"
    }
   ],
   "source": [
    "zips.head()"
   ]
  },
  {
   "cell_type": "markdown",
   "metadata": {},
   "source": [
    "---"
   ]
  },
  {
   "cell_type": "markdown",
   "metadata": {},
   "source": [
    "### Group by make. Which are most common? "
   ]
  },
  {
   "cell_type": "code",
   "execution_count": 30,
   "metadata": {},
   "outputs": [],
   "source": [
    "# About 2.5 are listed as OTHER/UNK\n",
    "make = vehicles[vehicles['make'] != 'OTHER/UNK'].groupby(['make', 'zip']).agg('sum').reset_index()"
   ]
  },
  {
   "cell_type": "code",
   "execution_count": 31,
   "metadata": {},
   "outputs": [],
   "source": [
    "most_make = make.groupby(['make']).agg('sum').reset_index().sort_values(by='vehicles', ascending=False)"
   ]
  },
  {
   "cell_type": "code",
   "execution_count": 32,
   "metadata": {},
   "outputs": [],
   "source": [
    "makelist = most_make.make.to_list()"
   ]
  },
  {
   "cell_type": "code",
   "execution_count": 33,
   "metadata": {},
   "outputs": [],
   "source": [
    "popular_makes = make[make['make'].isin(makelist)]"
   ]
  },
  {
   "cell_type": "code",
   "execution_count": 34,
   "metadata": {},
   "outputs": [],
   "source": [
    "make_zip = pd.DataFrame(pd.pivot_table(popular_makes, values='vehicles', \\\n",
    "                            index=['zip'], columns=['make'], aggfunc=np.sum, fill_value=0).reset_index())"
   ]
  },
  {
   "cell_type": "code",
   "execution_count": 35,
   "metadata": {},
   "outputs": [],
   "source": [
    "make_zip.columns = make_zip.columns.str.strip().str.lower().str.replace(' ', '_')\\\n",
    "                    .str.replace('(', '').str.replace(')', '').str.replace('-','_')"
   ]
  },
  {
   "cell_type": "markdown",
   "metadata": {},
   "source": [
    "### Which make is most common in each ZIP code? "
   ]
  },
  {
   "cell_type": "code",
   "execution_count": 36,
   "metadata": {},
   "outputs": [],
   "source": [
    "make_zip[\"total\"] = make_zip.sum(axis=1)"
   ]
  },
  {
   "cell_type": "code",
   "execution_count": 37,
   "metadata": {},
   "outputs": [
    {
     "data": {
      "text/html": [
       "<div>\n",
       "<style scoped>\n",
       "    .dataframe tbody tr th:only-of-type {\n",
       "        vertical-align: middle;\n",
       "    }\n",
       "\n",
       "    .dataframe tbody tr th {\n",
       "        vertical-align: top;\n",
       "    }\n",
       "\n",
       "    .dataframe thead th {\n",
       "        text-align: right;\n",
       "    }\n",
       "</style>\n",
       "<table border=\"1\" class=\"dataframe\">\n",
       "  <thead>\n",
       "    <tr style=\"text-align: right;\">\n",
       "      <th>make</th>\n",
       "      <th>zip</th>\n",
       "      <th>acura</th>\n",
       "      <th>alfa_romeo</th>\n",
       "      <th>allianz</th>\n",
       "      <th>am_general</th>\n",
       "      <th>american_custom_golfcarts</th>\n",
       "      <th>american_lafrance</th>\n",
       "      <th>aston_martin</th>\n",
       "      <th>audi</th>\n",
       "      <th>autocar</th>\n",
       "      <th>bentley</th>\n",
       "      <th>bluebird</th>\n",
       "      <th>bmw</th>\n",
       "      <th>buick</th>\n",
       "      <th>cadillac</th>\n",
       "      <th>capacity_of_texas_inc</th>\n",
       "      <th>caterpillar</th>\n",
       "      <th>chevrolet</th>\n",
       "      <th>chrysler</th>\n",
       "      <th>club_car</th>\n",
       "      <th>columbia</th>\n",
       "      <th>crane_carrier</th>\n",
       "      <th>dodge</th>\n",
       "      <th>dymac_vehicle_group_inc</th>\n",
       "      <th>emergency_one</th>\n",
       "      <th>...</th>\n",
       "      <th>pontiac</th>\n",
       "      <th>porsche</th>\n",
       "      <th>prevost</th>\n",
       "      <th>ram</th>\n",
       "      <th>rolls_royce</th>\n",
       "      <th>saab</th>\n",
       "      <th>saturn</th>\n",
       "      <th>scion</th>\n",
       "      <th>smart</th>\n",
       "      <th>spartan</th>\n",
       "      <th>sterling</th>\n",
       "      <th>subaru</th>\n",
       "      <th>suzuki</th>\n",
       "      <th>tesla</th>\n",
       "      <th>thomas_bus</th>\n",
       "      <th>tomberlin</th>\n",
       "      <th>toyota</th>\n",
       "      <th>ud_trucks</th>\n",
       "      <th>van_hool</th>\n",
       "      <th>volkswagen</th>\n",
       "      <th>volvo</th>\n",
       "      <th>vpg</th>\n",
       "      <th>western_star</th>\n",
       "      <th>workhorse</th>\n",
       "      <th>total</th>\n",
       "    </tr>\n",
       "  </thead>\n",
       "  <tbody>\n",
       "    <tr>\n",
       "      <th>43</th>\n",
       "      <td>90045</td>\n",
       "      <td>322</td>\n",
       "      <td>0</td>\n",
       "      <td>0</td>\n",
       "      <td>0</td>\n",
       "      <td>0</td>\n",
       "      <td>0</td>\n",
       "      <td>0</td>\n",
       "      <td>705</td>\n",
       "      <td>0</td>\n",
       "      <td>0</td>\n",
       "      <td>0</td>\n",
       "      <td>1350</td>\n",
       "      <td>851</td>\n",
       "      <td>655</td>\n",
       "      <td>0</td>\n",
       "      <td>0</td>\n",
       "      <td>9457</td>\n",
       "      <td>3133</td>\n",
       "      <td>0</td>\n",
       "      <td>0</td>\n",
       "      <td>0</td>\n",
       "      <td>7989</td>\n",
       "      <td>0</td>\n",
       "      <td>0</td>\n",
       "      <td>...</td>\n",
       "      <td>0</td>\n",
       "      <td>206</td>\n",
       "      <td>0</td>\n",
       "      <td>759</td>\n",
       "      <td>0</td>\n",
       "      <td>0</td>\n",
       "      <td>12</td>\n",
       "      <td>120</td>\n",
       "      <td>0</td>\n",
       "      <td>0</td>\n",
       "      <td>0</td>\n",
       "      <td>635</td>\n",
       "      <td>0</td>\n",
       "      <td>178</td>\n",
       "      <td>0</td>\n",
       "      <td>0</td>\n",
       "      <td>17541</td>\n",
       "      <td>0</td>\n",
       "      <td>0</td>\n",
       "      <td>3921</td>\n",
       "      <td>298</td>\n",
       "      <td>0</td>\n",
       "      <td>0</td>\n",
       "      <td>0</td>\n",
       "      <td>125039</td>\n",
       "    </tr>\n",
       "    <tr>\n",
       "      <th>975</th>\n",
       "      <td>94080</td>\n",
       "      <td>760</td>\n",
       "      <td>0</td>\n",
       "      <td>0</td>\n",
       "      <td>0</td>\n",
       "      <td>0</td>\n",
       "      <td>0</td>\n",
       "      <td>0</td>\n",
       "      <td>456</td>\n",
       "      <td>0</td>\n",
       "      <td>0</td>\n",
       "      <td>0</td>\n",
       "      <td>1291</td>\n",
       "      <td>1058</td>\n",
       "      <td>337</td>\n",
       "      <td>0</td>\n",
       "      <td>0</td>\n",
       "      <td>10800</td>\n",
       "      <td>2139</td>\n",
       "      <td>0</td>\n",
       "      <td>0</td>\n",
       "      <td>0</td>\n",
       "      <td>1506</td>\n",
       "      <td>0</td>\n",
       "      <td>0</td>\n",
       "      <td>...</td>\n",
       "      <td>45</td>\n",
       "      <td>139</td>\n",
       "      <td>0</td>\n",
       "      <td>374</td>\n",
       "      <td>0</td>\n",
       "      <td>0</td>\n",
       "      <td>43</td>\n",
       "      <td>376</td>\n",
       "      <td>11</td>\n",
       "      <td>0</td>\n",
       "      <td>0</td>\n",
       "      <td>1937</td>\n",
       "      <td>0</td>\n",
       "      <td>147</td>\n",
       "      <td>0</td>\n",
       "      <td>0</td>\n",
       "      <td>18353</td>\n",
       "      <td>0</td>\n",
       "      <td>13</td>\n",
       "      <td>1400</td>\n",
       "      <td>88</td>\n",
       "      <td>0</td>\n",
       "      <td>0</td>\n",
       "      <td>13</td>\n",
       "      <td>100576</td>\n",
       "    </tr>\n",
       "    <tr>\n",
       "      <th>499</th>\n",
       "      <td>92336</td>\n",
       "      <td>453</td>\n",
       "      <td>0</td>\n",
       "      <td>0</td>\n",
       "      <td>0</td>\n",
       "      <td>0</td>\n",
       "      <td>0</td>\n",
       "      <td>0</td>\n",
       "      <td>438</td>\n",
       "      <td>0</td>\n",
       "      <td>0</td>\n",
       "      <td>0</td>\n",
       "      <td>1466</td>\n",
       "      <td>172</td>\n",
       "      <td>438</td>\n",
       "      <td>0</td>\n",
       "      <td>0</td>\n",
       "      <td>5862</td>\n",
       "      <td>637</td>\n",
       "      <td>0</td>\n",
       "      <td>0</td>\n",
       "      <td>0</td>\n",
       "      <td>1361</td>\n",
       "      <td>0</td>\n",
       "      <td>0</td>\n",
       "      <td>...</td>\n",
       "      <td>57</td>\n",
       "      <td>0</td>\n",
       "      <td>0</td>\n",
       "      <td>352</td>\n",
       "      <td>0</td>\n",
       "      <td>0</td>\n",
       "      <td>102</td>\n",
       "      <td>759</td>\n",
       "      <td>0</td>\n",
       "      <td>0</td>\n",
       "      <td>0</td>\n",
       "      <td>466</td>\n",
       "      <td>0</td>\n",
       "      <td>34</td>\n",
       "      <td>0</td>\n",
       "      <td>0</td>\n",
       "      <td>9449</td>\n",
       "      <td>0</td>\n",
       "      <td>0</td>\n",
       "      <td>771</td>\n",
       "      <td>139</td>\n",
       "      <td>0</td>\n",
       "      <td>0</td>\n",
       "      <td>0</td>\n",
       "      <td>51315</td>\n",
       "    </tr>\n",
       "    <tr>\n",
       "      <th>428</th>\n",
       "      <td>92154</td>\n",
       "      <td>390</td>\n",
       "      <td>0</td>\n",
       "      <td>0</td>\n",
       "      <td>0</td>\n",
       "      <td>0</td>\n",
       "      <td>0</td>\n",
       "      <td>0</td>\n",
       "      <td>318</td>\n",
       "      <td>0</td>\n",
       "      <td>0</td>\n",
       "      <td>0</td>\n",
       "      <td>1130</td>\n",
       "      <td>190</td>\n",
       "      <td>222</td>\n",
       "      <td>0</td>\n",
       "      <td>0</td>\n",
       "      <td>3139</td>\n",
       "      <td>662</td>\n",
       "      <td>0</td>\n",
       "      <td>0</td>\n",
       "      <td>0</td>\n",
       "      <td>1472</td>\n",
       "      <td>0</td>\n",
       "      <td>0</td>\n",
       "      <td>...</td>\n",
       "      <td>95</td>\n",
       "      <td>12</td>\n",
       "      <td>0</td>\n",
       "      <td>216</td>\n",
       "      <td>0</td>\n",
       "      <td>0</td>\n",
       "      <td>114</td>\n",
       "      <td>607</td>\n",
       "      <td>0</td>\n",
       "      <td>0</td>\n",
       "      <td>99</td>\n",
       "      <td>466</td>\n",
       "      <td>27</td>\n",
       "      <td>13</td>\n",
       "      <td>0</td>\n",
       "      <td>0</td>\n",
       "      <td>7865</td>\n",
       "      <td>0</td>\n",
       "      <td>0</td>\n",
       "      <td>1989</td>\n",
       "      <td>228</td>\n",
       "      <td>0</td>\n",
       "      <td>0</td>\n",
       "      <td>0</td>\n",
       "      <td>48076</td>\n",
       "    </tr>\n",
       "    <tr>\n",
       "      <th>265</th>\n",
       "      <td>91709</td>\n",
       "      <td>801</td>\n",
       "      <td>18</td>\n",
       "      <td>0</td>\n",
       "      <td>0</td>\n",
       "      <td>0</td>\n",
       "      <td>0</td>\n",
       "      <td>0</td>\n",
       "      <td>654</td>\n",
       "      <td>0</td>\n",
       "      <td>0</td>\n",
       "      <td>0</td>\n",
       "      <td>2378</td>\n",
       "      <td>72</td>\n",
       "      <td>364</td>\n",
       "      <td>0</td>\n",
       "      <td>0</td>\n",
       "      <td>2924</td>\n",
       "      <td>291</td>\n",
       "      <td>0</td>\n",
       "      <td>0</td>\n",
       "      <td>0</td>\n",
       "      <td>611</td>\n",
       "      <td>0</td>\n",
       "      <td>0</td>\n",
       "      <td>...</td>\n",
       "      <td>0</td>\n",
       "      <td>305</td>\n",
       "      <td>0</td>\n",
       "      <td>213</td>\n",
       "      <td>0</td>\n",
       "      <td>0</td>\n",
       "      <td>49</td>\n",
       "      <td>476</td>\n",
       "      <td>0</td>\n",
       "      <td>0</td>\n",
       "      <td>0</td>\n",
       "      <td>798</td>\n",
       "      <td>0</td>\n",
       "      <td>269</td>\n",
       "      <td>0</td>\n",
       "      <td>0</td>\n",
       "      <td>9229</td>\n",
       "      <td>0</td>\n",
       "      <td>0</td>\n",
       "      <td>916</td>\n",
       "      <td>209</td>\n",
       "      <td>0</td>\n",
       "      <td>0</td>\n",
       "      <td>0</td>\n",
       "      <td>46286</td>\n",
       "    </tr>\n",
       "  </tbody>\n",
       "</table>\n",
       "<p>5 rows × 94 columns</p>\n",
       "</div>"
      ],
      "text/plain": [
       "make    zip  acura  alfa_romeo  allianz  am_general  \\\n",
       "43    90045    322           0        0           0   \n",
       "975   94080    760           0        0           0   \n",
       "499   92336    453           0        0           0   \n",
       "428   92154    390           0        0           0   \n",
       "265   91709    801          18        0           0   \n",
       "\n",
       "make  american_custom_golfcarts  american_lafrance  aston_martin  audi  \\\n",
       "43                            0                  0             0   705   \n",
       "975                           0                  0             0   456   \n",
       "499                           0                  0             0   438   \n",
       "428                           0                  0             0   318   \n",
       "265                           0                  0             0   654   \n",
       "\n",
       "make  autocar  bentley  bluebird   bmw  buick  cadillac  \\\n",
       "43          0        0         0  1350    851       655   \n",
       "975         0        0         0  1291   1058       337   \n",
       "499         0        0         0  1466    172       438   \n",
       "428         0        0         0  1130    190       222   \n",
       "265         0        0         0  2378     72       364   \n",
       "\n",
       "make  capacity_of_texas_inc  caterpillar  chevrolet  chrysler  club_car  \\\n",
       "43                        0            0       9457      3133         0   \n",
       "975                       0            0      10800      2139         0   \n",
       "499                       0            0       5862       637         0   \n",
       "428                       0            0       3139       662         0   \n",
       "265                       0            0       2924       291         0   \n",
       "\n",
       "make  columbia  crane_carrier  dodge  dymac_vehicle_group_inc  emergency_one  \\\n",
       "43           0              0   7989                        0              0   \n",
       "975          0              0   1506                        0              0   \n",
       "499          0              0   1361                        0              0   \n",
       "428          0              0   1472                        0              0   \n",
       "265          0              0    611                        0              0   \n",
       "\n",
       "make  ...  pontiac  porsche  prevost  ram  rolls_royce  saab  saturn  scion  \\\n",
       "43    ...        0      206        0  759            0     0      12    120   \n",
       "975   ...       45      139        0  374            0     0      43    376   \n",
       "499   ...       57        0        0  352            0     0     102    759   \n",
       "428   ...       95       12        0  216            0     0     114    607   \n",
       "265   ...        0      305        0  213            0     0      49    476   \n",
       "\n",
       "make  smart  spartan  sterling  subaru  suzuki  tesla  thomas_bus  tomberlin  \\\n",
       "43        0        0         0     635       0    178           0          0   \n",
       "975      11        0         0    1937       0    147           0          0   \n",
       "499       0        0         0     466       0     34           0          0   \n",
       "428       0        0        99     466      27     13           0          0   \n",
       "265       0        0         0     798       0    269           0          0   \n",
       "\n",
       "make  toyota  ud_trucks  van_hool  volkswagen  volvo  vpg  western_star  \\\n",
       "43     17541          0         0        3921    298    0             0   \n",
       "975    18353          0        13        1400     88    0             0   \n",
       "499     9449          0         0         771    139    0             0   \n",
       "428     7865          0         0        1989    228    0             0   \n",
       "265     9229          0         0         916    209    0             0   \n",
       "\n",
       "make  workhorse   total  \n",
       "43            0  125039  \n",
       "975          13  100576  \n",
       "499           0   51315  \n",
       "428           0   48076  \n",
       "265           0   46286  \n",
       "\n",
       "[5 rows x 94 columns]"
      ]
     },
     "execution_count": 37,
     "metadata": {},
     "output_type": "execute_result"
    }
   ],
   "source": [
    "make_zip.sort_values(by='total', ascending=False).head(5)"
   ]
  },
  {
   "cell_type": "code",
   "execution_count": 38,
   "metadata": {},
   "outputs": [],
   "source": [
    "make_zip[['zip', 'total']].to_csv('output/total_makes_zip.csv')"
   ]
  },
  {
   "cell_type": "code",
   "execution_count": 39,
   "metadata": {},
   "outputs": [],
   "source": [
    "make_total = pd.DataFrame(make_zip[['zip', 'total']])"
   ]
  },
  {
   "cell_type": "code",
   "execution_count": 40,
   "metadata": {},
   "outputs": [],
   "source": [
    "make_zip['winner'] = make_zip[['acura', 'alfa_romeo', 'allianz', 'am_general',\n",
    "       'american_custom_golfcarts', 'american_lafrance', 'aston_martin',\n",
    "       'audi', 'autocar', 'bentley', 'bluebird', 'bmw', 'buick', 'cadillac',\n",
    "       'capacity_of_texas_inc', 'caterpillar', 'chevrolet', 'chrysler',\n",
    "       'club_car', 'columbia', 'crane_carrier', 'dodge',\n",
    "       'dymac_vehicle_group_inc', 'emergency_one', 'evobus', 'ezgo', 'ferrari',\n",
    "       'fiat', 'ford', 'freightliner', 'gem', 'genesis', 'gillig', 'gmc',\n",
    "       'hino', 'hme', 'honda', 'hummer', 'hyundai', 'ic_bus,_llc', 'infiniti',\n",
    "       'international', 'isuzu', 'jaguar', 'jeep', 'kalmar_industries_usa_llc',\n",
    "       'kenworth', 'kia', 'kovatch_moblie_equipment_corp.', 'land_rover',\n",
    "       'lexus', 'lincoln', 'mack', 'maserati', 'mazda', 'mercedes_benz',\n",
    "       'mercury', 'miles', 'mini', 'mitsubishi', 'mitsubishi_fuso',\n",
    "       'motor_coach_industries', 'newflyer', 'nissan',\n",
    "       'north_american_bus_industries', 'orion', 'peterbilt',\n",
    "       'pierce_manufacturing', 'pontiac', 'porsche', 'prevost', 'ram',\n",
    "       'rolls_royce', 'saab', 'saturn', 'scion', 'smart', 'spartan',\n",
    "       'sterling', 'subaru', 'suzuki', 'tesla', 'thomas_bus', 'tomberlin',\n",
    "       'toyota', 'ud_trucks', 'van_hool', 'volkswagen', 'volvo', 'vpg',\n",
    "       'western_star', 'workhorse']].idxmax(axis=1)"
   ]
  },
  {
   "cell_type": "code",
   "execution_count": 41,
   "metadata": {},
   "outputs": [],
   "source": [
    "make_zip_top_ten = pd.DataFrame(make_zip[['zip','toyota','honda','ford','chevrolet','nissan',\\\n",
    "                               'bmw','hyundai','lexus','mercedes_benz','kia', 'total']])"
   ]
  },
  {
   "cell_type": "code",
   "execution_count": 42,
   "metadata": {},
   "outputs": [],
   "source": [
    "make_zip_top_ten.to_csv('output/make_zip_top_ten.csv')"
   ]
  },
  {
   "cell_type": "markdown",
   "metadata": {},
   "source": [
    "---"
   ]
  },
  {
   "cell_type": "markdown",
   "metadata": {},
   "source": [
    "## Isolate vehicle makes to include only Teslas"
   ]
  },
  {
   "cell_type": "code",
   "execution_count": 43,
   "metadata": {},
   "outputs": [],
   "source": [
    "tesla = vehicles[vehicles['make'] == 'TESLA']"
   ]
  },
  {
   "cell_type": "markdown",
   "metadata": {},
   "source": [
    "### Group by ZIP code and count the vehicles"
   ]
  },
  {
   "cell_type": "code",
   "execution_count": 44,
   "metadata": {},
   "outputs": [],
   "source": [
    "tesla_grouped = tesla.groupby(['zip']).agg({'vehicles':'sum'}).reset_index()"
   ]
  },
  {
   "cell_type": "markdown",
   "metadata": {},
   "source": [
    "### Merge with dataframe that includes all vehicle counts by ZIP code"
   ]
  },
  {
   "cell_type": "code",
   "execution_count": 45,
   "metadata": {},
   "outputs": [],
   "source": [
    "tesla_zips = pd.merge(tesla_grouped, zips, on='zip')"
   ]
  },
  {
   "cell_type": "markdown",
   "metadata": {},
   "source": [
    "### Rename the columns"
   ]
  },
  {
   "cell_type": "code",
   "execution_count": 46,
   "metadata": {},
   "outputs": [],
   "source": [
    "tesla_zips.rename(columns={'median': 'income','zip': 'zip', 'vehicles_x':'teslas', 'vehicles_y':'all_vehicles'}, inplace=True)"
   ]
  },
  {
   "cell_type": "markdown",
   "metadata": {},
   "source": [
    "### Calculate Tesla rate per 1,000 vehicles "
   ]
  },
  {
   "cell_type": "code",
   "execution_count": 47,
   "metadata": {},
   "outputs": [],
   "source": [
    "tesla_zips['tesla_rate'] = ((tesla_zips.teslas / tesla_zips.all_vehicles) * 1000).round(2)"
   ]
  },
  {
   "cell_type": "code",
   "execution_count": 48,
   "metadata": {},
   "outputs": [
    {
     "data": {
      "text/html": [
       "<div>\n",
       "<style scoped>\n",
       "    .dataframe tbody tr th:only-of-type {\n",
       "        vertical-align: middle;\n",
       "    }\n",
       "\n",
       "    .dataframe tbody tr th {\n",
       "        vertical-align: top;\n",
       "    }\n",
       "\n",
       "    .dataframe thead th {\n",
       "        text-align: right;\n",
       "    }\n",
       "</style>\n",
       "<table border=\"1\" class=\"dataframe\">\n",
       "  <thead>\n",
       "    <tr style=\"text-align: right;\">\n",
       "      <th></th>\n",
       "      <th>zip</th>\n",
       "      <th>teslas</th>\n",
       "      <th>geoid</th>\n",
       "      <th>income</th>\n",
       "      <th>zcta</th>\n",
       "      <th>all_vehicles</th>\n",
       "      <th>tesla_rate</th>\n",
       "    </tr>\n",
       "  </thead>\n",
       "  <tbody>\n",
       "    <tr>\n",
       "      <th>453</th>\n",
       "      <td>94027</td>\n",
       "      <td>420</td>\n",
       "      <td>94027</td>\n",
       "      <td>250,001.00</td>\n",
       "      <td>94027</td>\n",
       "      <td>5167</td>\n",
       "      <td>81.29</td>\n",
       "    </tr>\n",
       "    <tr>\n",
       "      <th>450</th>\n",
       "      <td>94022</td>\n",
       "      <td>934</td>\n",
       "      <td>94022</td>\n",
       "      <td>208,984.00</td>\n",
       "      <td>94022</td>\n",
       "      <td>13944</td>\n",
       "      <td>66.98</td>\n",
       "    </tr>\n",
       "    <tr>\n",
       "      <th>494</th>\n",
       "      <td>94301</td>\n",
       "      <td>584</td>\n",
       "      <td>94301</td>\n",
       "      <td>146,488.00</td>\n",
       "      <td>94301</td>\n",
       "      <td>9547</td>\n",
       "      <td>61.17</td>\n",
       "    </tr>\n",
       "    <tr>\n",
       "      <th>339</th>\n",
       "      <td>92657</td>\n",
       "      <td>459</td>\n",
       "      <td>92657</td>\n",
       "      <td>215,000.00</td>\n",
       "      <td>92657</td>\n",
       "      <td>8347</td>\n",
       "      <td>54.99</td>\n",
       "    </tr>\n",
       "    <tr>\n",
       "      <th>454</th>\n",
       "      <td>94028</td>\n",
       "      <td>254</td>\n",
       "      <td>94028</td>\n",
       "      <td>244,671.00</td>\n",
       "      <td>94028</td>\n",
       "      <td>4887</td>\n",
       "      <td>51.97</td>\n",
       "    </tr>\n",
       "  </tbody>\n",
       "</table>\n",
       "</div>"
      ],
      "text/plain": [
       "       zip  teslas  geoid     income   zcta  all_vehicles  tesla_rate\n",
       "453  94027     420  94027 250,001.00  94027          5167       81.29\n",
       "450  94022     934  94022 208,984.00  94022         13944       66.98\n",
       "494  94301     584  94301 146,488.00  94301          9547       61.17\n",
       "339  92657     459  92657 215,000.00  92657          8347       54.99\n",
       "454  94028     254  94028 244,671.00  94028          4887       51.97"
      ]
     },
     "execution_count": 48,
     "metadata": {},
     "output_type": "execute_result"
    }
   ],
   "source": [
    "tesla_zips.sort_values(by='tesla_rate', ascending=False).head()"
   ]
  },
  {
   "cell_type": "code",
   "execution_count": 49,
   "metadata": {},
   "outputs": [],
   "source": [
    "tesla_zips.to_csv('output/tesla_zips.csv')"
   ]
  },
  {
   "cell_type": "markdown",
   "metadata": {},
   "source": [
    "### How predictive is income  "
   ]
  },
  {
   "cell_type": "code",
   "execution_count": 50,
   "metadata": {},
   "outputs": [],
   "source": [
    "tesla_zips_corr = tesla_zips[['tesla_rate', 'income']]"
   ]
  },
  {
   "cell_type": "code",
   "execution_count": 51,
   "metadata": {},
   "outputs": [],
   "source": [
    "corr = tesla_zips_corr.corr(method ='pearson')"
   ]
  },
  {
   "cell_type": "code",
   "execution_count": 52,
   "metadata": {},
   "outputs": [
    {
     "name": "stdout",
     "output_type": "stream",
     "text": [
      "            tesla_rate  income\n",
      "tesla_rate        1.00    0.77\n",
      "income            0.77    1.00\n"
     ]
    }
   ],
   "source": [
    "print(corr)"
   ]
  },
  {
   "cell_type": "code",
   "execution_count": 53,
   "metadata": {},
   "outputs": [
    {
     "data": {
      "application/javascript": [
       "const spec = {\"config\": {\"view\": {\"width\": 800, \"height\": 450}, \"background\": \"#ffffff\", \"title\": {\"anchor\": \"start\", \"font\": \"Benton Gothic Bold, sans\", \"fontColor\": \"#000000\", \"fontSize\": 22, \"fontWeight\": \"normal\"}, \"arc\": {\"fill\": \"#82c6df\"}, \"area\": {\"fill\": \"#82c6df\"}, \"line\": {\"stroke\": \"#82c6df\", \"strokeWidth\": 3}, \"path\": {\"stroke\": \"#82c6df\"}, \"rect\": {\"fill\": \"#82c6df\"}, \"shape\": {\"stroke\": \"#82c6df\"}, \"bar\": {\"fill\": \"#82c6df\"}, \"point\": {\"stroke\": \"#82c6df\"}, \"symbol\": {\"fill\": \"#82c6df\", \"size\": 30}, \"axis\": {\"titleFont\": \"Benton Gothic Bold, sans\", \"titleFontSize\": 13, \"titleFontWeight\": \"normal\", \"labelFont\": \"Benton Gothic, sans\", \"labelFontSize\": 11.5, \"labelFontWeight\": \"normal\"}, \"axisX\": {\"labelAngle\": 0, \"labelPadding\": 4, \"tickSize\": 3}, \"axisY\": {\"labelBaseline\": \"middle\", \"maxExtent\": 45, \"minExtent\": 45, \"tickSize\": 2, \"titleAlign\": \"left\", \"titleAngle\": 0, \"titleX\": -45, \"titleY\": -11}, \"legend\": {\"titleFont\": \"Benton Gothic Bold, sans\", \"titleFontSize\": 13, \"titleFontWeight\": \"normal\", \"symbolType\": \"square\", \"labelFont\": \"Benton Gothic, sans\", \"labelFontSize\": 11.5}, \"range\": {\"category\": [\"#3580b1\", \"#ec8431\", \"#ab7fb4\", \"#c89d29\", \"#adc839\", \"#829eb1\"], \"diverging\": [\"#e68a4f\", \"#f4bb6a\", \"#f9e39c\", \"#dadfe2\", \"#a6b7c6\", \"#849eae\"], \"heatmap\": [\"#fbf2c7\", \"#f9e39c\", \"#f8d36e\", \"#f4bb6a\", \"#e68a4f\", \"#d15a40\", \"#ab4232\"], \"ordinal\": [\"#fbf2c7\", \"#f9e39c\", \"#f8d36e\", \"#f4bb6a\", \"#e68a4f\", \"#d15a40\", \"#ab4232\"], \"ramp\": [\"#fbf2c7\", \"#f9e39c\", \"#f8d36e\", \"#f4bb6a\", \"#e68a4f\", \"#d15a40\", \"#ab4232\"]}}, \"data\": {\"name\": \"data-d8ac46cef11c87ace0821feefa0eff3e\"}, \"mark\": {\"type\": \"circle\", \"size\": 60}, \"encoding\": {\"tooltip\": [{\"type\": \"nominal\", \"field\": \"zip\"}, {\"type\": \"ordinal\", \"field\": \"teslas\"}, {\"type\": \"quantitative\", \"field\": \"income\"}, {\"type\": \"quantitative\", \"field\": \"tesla_rate\"}], \"x\": {\"type\": \"quantitative\", \"axis\": {\"tickCount\": 6}, \"field\": \"tesla_rate\", \"title\": \"Tesla rate per 1,000 vehicles\"}, \"y\": {\"type\": \"quantitative\", \"axis\": {\"format\": \"$,n\", \"tickCount\": 5}, \"field\": \"income\", \"title\": \"Median household income\"}}, \"height\": 500, \"width\": 500, \"$schema\": \"https://vega.github.io/schema/vega-lite/v3.4.0.json\", \"datasets\": {\"data-d8ac46cef11c87ace0821feefa0eff3e\": [{\"zip\": \"90004\", \"teslas\": 97, \"geoid\": 90004, \"income\": 46581.0, \"zcta\": \"90004\", \"all_vehicles\": 23041, \"tesla_rate\": 4.21}, {\"zip\": \"90005\", \"teslas\": 16, \"geoid\": 90005, \"income\": 32461.0, \"zcta\": \"90005\", \"all_vehicles\": 12436, \"tesla_rate\": 1.29}, {\"zip\": \"90008\", \"teslas\": 30, \"geoid\": 90008, \"income\": 36641.0, \"zcta\": \"90008\", \"all_vehicles\": 12335, \"tesla_rate\": 2.43}, {\"zip\": \"90010\", \"teslas\": 46, \"geoid\": 90010, \"income\": 47115.0, \"zcta\": \"90010\", \"all_vehicles\": 6122, \"tesla_rate\": 7.51}, {\"zip\": \"90012\", \"teslas\": 57, \"geoid\": 90012, \"income\": 38786.0, \"zcta\": \"90012\", \"all_vehicles\": 23326, \"tesla_rate\": 2.44}, {\"zip\": \"90014\", \"teslas\": 12, \"geoid\": 90014, \"income\": 37619.0, \"zcta\": \"90014\", \"all_vehicles\": 2729, \"tesla_rate\": 4.4}, {\"zip\": \"90015\", \"teslas\": 61, \"geoid\": 90015, \"income\": 32979.0, \"zcta\": \"90015\", \"all_vehicles\": 7965, \"tesla_rate\": 7.66}, {\"zip\": \"90016\", \"teslas\": 17, \"geoid\": 90016, \"income\": 43443.0, \"zcta\": \"90016\", \"all_vehicles\": 18855, \"tesla_rate\": 0.9}, {\"zip\": \"90017\", \"teslas\": 37, \"geoid\": 90017, \"income\": 28638.0, \"zcta\": \"90017\", \"all_vehicles\": 8990, \"tesla_rate\": 4.12}, {\"zip\": \"90019\", \"teslas\": 61, \"geoid\": 90019, \"income\": 50671.0, \"zcta\": \"90019\", \"all_vehicles\": 25894, \"tesla_rate\": 2.36}, {\"zip\": \"90020\", \"teslas\": 50, \"geoid\": 90020, \"income\": 42407.0, \"zcta\": \"90020\", \"all_vehicles\": 15340, \"tesla_rate\": 3.26}, {\"zip\": \"90024\", \"teslas\": 313, \"geoid\": 90024, \"income\": 59418.0, \"zcta\": \"90024\", \"all_vehicles\": 16498, \"tesla_rate\": 18.97}, {\"zip\": \"90025\", \"teslas\": 272, \"geoid\": 90025, \"income\": 78713.0, \"zcta\": \"90025\", \"all_vehicles\": 24354, \"tesla_rate\": 11.17}, {\"zip\": \"90026\", \"teslas\": 50, \"geoid\": 90026, \"income\": 54342.0, \"zcta\": \"90026\", \"all_vehicles\": 24835, \"tesla_rate\": 2.01}, {\"zip\": \"90027\", \"teslas\": 190, \"geoid\": 90027, \"income\": 58344.0, \"zcta\": \"90027\", \"all_vehicles\": 21501, \"tesla_rate\": 8.84}, {\"zip\": \"90028\", \"teslas\": 46, \"geoid\": 90028, \"income\": 40068.0, \"zcta\": \"90028\", \"all_vehicles\": 12240, \"tesla_rate\": 3.76}, {\"zip\": \"90031\", \"teslas\": 12, \"geoid\": 90031, \"income\": 41126.0, \"zcta\": \"90031\", \"all_vehicles\": 13691, \"tesla_rate\": 0.88}, {\"zip\": \"90032\", \"teslas\": 16, \"geoid\": 90032, \"income\": 47370.0, \"zcta\": \"90032\", \"all_vehicles\": 17372, \"tesla_rate\": 0.92}, {\"zip\": \"90034\", \"teslas\": 133, \"geoid\": 90034, \"income\": 65572.0, \"zcta\": \"90034\", \"all_vehicles\": 27857, \"tesla_rate\": 4.77}, {\"zip\": \"90035\", \"teslas\": 72, \"geoid\": 90035, \"income\": 76677.0, \"zcta\": \"90035\", \"all_vehicles\": 15091, \"tesla_rate\": 4.77}, {\"zip\": \"90036\", \"teslas\": 103, \"geoid\": 90036, \"income\": 74279.0, \"zcta\": \"90036\", \"all_vehicles\": 20395, \"tesla_rate\": 5.05}, {\"zip\": \"90038\", \"teslas\": 13, \"geoid\": 90038, \"income\": 36996.0, \"zcta\": \"90038\", \"all_vehicles\": 11277, \"tesla_rate\": 1.15}, {\"zip\": \"90039\", \"teslas\": 76, \"geoid\": 90039, \"income\": 81394.0, \"zcta\": \"90039\", \"all_vehicles\": 14932, \"tesla_rate\": 5.09}, {\"zip\": \"90040\", \"teslas\": 11, \"geoid\": 90040, \"income\": 43585.0, \"zcta\": \"90040\", \"all_vehicles\": 8044, \"tesla_rate\": 1.37}, {\"zip\": \"90041\", \"teslas\": 23, \"geoid\": 90041, \"income\": 73250.0, \"zcta\": \"90041\", \"all_vehicles\": 12662, \"tesla_rate\": 1.82}, {\"zip\": \"90042\", \"teslas\": 49, \"geoid\": 90042, \"income\": 55596.0, \"zcta\": \"90042\", \"all_vehicles\": 24622, \"tesla_rate\": 1.99}, {\"zip\": \"90043\", \"teslas\": 22, \"geoid\": 90043, \"income\": 41812.0, \"zcta\": \"90043\", \"all_vehicles\": 18450, \"tesla_rate\": 1.19}, {\"zip\": \"90045\", \"teslas\": 178, \"geoid\": 90045, \"income\": 90399.0, \"zcta\": \"90045\", \"all_vehicles\": 127130, \"tesla_rate\": 1.4}, {\"zip\": \"90046\", \"teslas\": 286, \"geoid\": 90046, \"income\": 65990.0, \"zcta\": \"90046\", \"all_vehicles\": 28021, \"tesla_rate\": 10.21}, {\"zip\": \"90047\", \"teslas\": 14, \"geoid\": 90047, \"income\": 42551.0, \"zcta\": \"90047\", \"all_vehicles\": 20314, \"tesla_rate\": 0.69}, {\"zip\": \"90048\", \"teslas\": 170, \"geoid\": 90048, \"income\": 85396.0, \"zcta\": \"90048\", \"all_vehicles\": 13157, \"tesla_rate\": 12.92}, {\"zip\": \"90049\", \"teslas\": 748, \"geoid\": 90049, \"income\": 121671.0, \"zcta\": \"90049\", \"all_vehicles\": 23367, \"tesla_rate\": 32.01}, {\"zip\": \"90056\", \"teslas\": 44, \"geoid\": 90056, \"income\": 84438.0, \"zcta\": \"90056\", \"all_vehicles\": 5068, \"tesla_rate\": 8.68}, {\"zip\": \"90058\", \"teslas\": 11, \"geoid\": 90058, \"income\": 16425.0, \"zcta\": \"90058\", \"all_vehicles\": 3978, \"tesla_rate\": 2.77}, {\"zip\": \"90064\", \"teslas\": 292, \"geoid\": 90064, \"income\": 92194.0, \"zcta\": \"90064\", \"all_vehicles\": 16579, \"tesla_rate\": 17.61}, {\"zip\": \"90065\", \"teslas\": 50, \"geoid\": 90065, \"income\": 58405.0, \"zcta\": \"90065\", \"all_vehicles\": 21351, \"tesla_rate\": 2.34}, {\"zip\": \"90066\", \"teslas\": 236, \"geoid\": 90066, \"income\": 75209.0, \"zcta\": \"90066\", \"all_vehicles\": 27812, \"tesla_rate\": 8.49}, {\"zip\": \"90067\", \"teslas\": 162, \"geoid\": 90067, \"income\": 123889.0, \"zcta\": \"90067\", \"all_vehicles\": 3927, \"tesla_rate\": 41.25}, {\"zip\": \"90068\", \"teslas\": 229, \"geoid\": 90068, \"income\": 82718.0, \"zcta\": \"90068\", \"all_vehicles\": 12657, \"tesla_rate\": 18.09}, {\"zip\": \"90069\", \"teslas\": 215, \"geoid\": 90069, \"income\": 86403.0, \"zcta\": \"90069\", \"all_vehicles\": 13473, \"tesla_rate\": 15.96}, {\"zip\": \"90077\", \"teslas\": 258, \"geoid\": 90077, \"income\": 184722.0, \"zcta\": \"90077\", \"all_vehicles\": 6307, \"tesla_rate\": 40.91}, {\"zip\": \"90094\", \"teslas\": 161, \"geoid\": 90094, \"income\": 136250.0, \"zcta\": \"90094\", \"all_vehicles\": 5762, \"tesla_rate\": 27.94}, {\"zip\": \"90210\", \"teslas\": 589, \"geoid\": 90210, \"income\": 149732.0, \"zcta\": \"90210\", \"all_vehicles\": 15608, \"tesla_rate\": 37.74}, {\"zip\": \"90211\", \"teslas\": 111, \"geoid\": 90211, \"income\": 71402.0, \"zcta\": \"90211\", \"all_vehicles\": 7251, \"tesla_rate\": 15.31}, {\"zip\": \"90212\", \"teslas\": 162, \"geoid\": 90212, \"income\": 103032.0, \"zcta\": \"90212\", \"all_vehicles\": 8537, \"tesla_rate\": 18.98}, {\"zip\": \"90230\", \"teslas\": 77, \"geoid\": 90230, \"income\": 79242.0, \"zcta\": \"90230\", \"all_vehicles\": 16878, \"tesla_rate\": 4.56}, {\"zip\": \"90232\", \"teslas\": 72, \"geoid\": 90232, \"income\": 82254.0, \"zcta\": \"90232\", \"all_vehicles\": 9292, \"tesla_rate\": 7.75}, {\"zip\": \"90240\", \"teslas\": 27, \"geoid\": 90240, \"income\": 81205.0, \"zcta\": \"90240\", \"all_vehicles\": 14252, \"tesla_rate\": 1.89}, {\"zip\": \"90241\", \"teslas\": 23, \"geoid\": 90241, \"income\": 64222.0, \"zcta\": \"90241\", \"all_vehicles\": 22809, \"tesla_rate\": 1.01}, {\"zip\": \"90245\", \"teslas\": 111, \"geoid\": 90245, \"income\": 92942.0, \"zcta\": \"90245\", \"all_vehicles\": 11324, \"tesla_rate\": 9.8}, {\"zip\": \"90247\", \"teslas\": 14, \"geoid\": 90247, \"income\": 46076.0, \"zcta\": \"90247\", \"all_vehicles\": 21010, \"tesla_rate\": 0.67}, {\"zip\": \"90248\", \"teslas\": 29, \"geoid\": 90248, \"income\": 58703.0, \"zcta\": \"90248\", \"all_vehicles\": 9494, \"tesla_rate\": 3.05}, {\"zip\": \"90250\", \"teslas\": 82, \"geoid\": 90250, \"income\": 49417.0, \"zcta\": \"90250\", \"all_vehicles\": 40545, \"tesla_rate\": 2.02}, {\"zip\": \"90254\", \"teslas\": 229, \"geoid\": 90254, \"income\": 124849.0, \"zcta\": \"90254\", \"all_vehicles\": 12220, \"tesla_rate\": 18.74}, {\"zip\": \"90260\", \"teslas\": 11, \"geoid\": 90260, \"income\": 58792.0, \"zcta\": \"90260\", \"all_vehicles\": 14385, \"tesla_rate\": 0.76}, {\"zip\": \"90265\", \"teslas\": 311, \"geoid\": 90265, \"income\": 137672.0, \"zcta\": \"90265\", \"all_vehicles\": 11136, \"tesla_rate\": 27.93}, {\"zip\": \"90266\", \"teslas\": 787, \"geoid\": 90266, \"income\": 148899.0, \"zcta\": \"90266\", \"all_vehicles\": 22705, \"tesla_rate\": 34.66}, {\"zip\": \"90272\", \"teslas\": 592, \"geoid\": 90272, \"income\": 180962.0, \"zcta\": \"90272\", \"all_vehicles\": 15213, \"tesla_rate\": 38.91}, {\"zip\": \"90274\", \"teslas\": 510, \"geoid\": 90274, \"income\": 158497.0, \"zcta\": \"90274\", \"all_vehicles\": 17999, \"tesla_rate\": 28.33}, {\"zip\": \"90275\", \"teslas\": 423, \"geoid\": 90275, \"income\": 124384.0, \"zcta\": \"90275\", \"all_vehicles\": 26606, \"tesla_rate\": 15.9}, {\"zip\": \"90277\", \"teslas\": 250, \"geoid\": 90277, \"income\": 101532.0, \"zcta\": \"90277\", \"all_vehicles\": 21628, \"tesla_rate\": 11.56}, {\"zip\": \"90278\", \"teslas\": 263, \"geoid\": 90278, \"income\": 107242.0, \"zcta\": \"90278\", \"all_vehicles\": 23320, \"tesla_rate\": 11.28}, {\"zip\": \"90290\", \"teslas\": 53, \"geoid\": 90290, \"income\": 103553.0, \"zcta\": \"90290\", \"all_vehicles\": 3786, \"tesla_rate\": 14.0}, {\"zip\": \"90291\", \"teslas\": 197, \"geoid\": 90291, \"income\": 88078.0, \"zcta\": \"90291\", \"all_vehicles\": 13463, \"tesla_rate\": 14.63}, {\"zip\": \"90292\", \"teslas\": 241, \"geoid\": 90292, \"income\": 103948.0, \"zcta\": \"90292\", \"all_vehicles\": 15215, \"tesla_rate\": 15.84}, {\"zip\": \"90293\", \"teslas\": 43, \"geoid\": 90293, \"income\": 100042.0, \"zcta\": \"90293\", \"all_vehicles\": 7544, \"tesla_rate\": 5.7}, {\"zip\": \"90401\", \"teslas\": 58, \"geoid\": 90401, \"income\": 71154.0, \"zcta\": \"90401\", \"all_vehicles\": 5106, \"tesla_rate\": 11.36}, {\"zip\": \"90402\", \"teslas\": 291, \"geoid\": 90402, \"income\": 140179.0, \"zcta\": \"90402\", \"all_vehicles\": 7248, \"tesla_rate\": 40.15}, {\"zip\": \"90403\", \"teslas\": 190, \"geoid\": 90403, \"income\": 92096.0, \"zcta\": \"90403\", \"all_vehicles\": 14392, \"tesla_rate\": 13.2}, {\"zip\": \"90404\", \"teslas\": 54, \"geoid\": 90404, \"income\": 73601.0, \"zcta\": \"90404\", \"all_vehicles\": 11225, \"tesla_rate\": 4.81}, {\"zip\": \"90405\", \"teslas\": 199, \"geoid\": 90405, \"income\": 88445.0, \"zcta\": \"90405\", \"all_vehicles\": 15089, \"tesla_rate\": 13.19}, {\"zip\": \"90501\", \"teslas\": 62, \"geoid\": 90501, \"income\": 64995.0, \"zcta\": \"90501\", \"all_vehicles\": 23996, \"tesla_rate\": 2.58}, {\"zip\": \"90502\", \"teslas\": 12, \"geoid\": 90502, \"income\": 68676.0, \"zcta\": \"90502\", \"all_vehicles\": 9433, \"tesla_rate\": 1.27}, {\"zip\": \"90503\", \"teslas\": 104, \"geoid\": 90503, \"income\": 84615.0, \"zcta\": \"90503\", \"all_vehicles\": 26147, \"tesla_rate\": 3.98}, {\"zip\": \"90504\", \"teslas\": 22, \"geoid\": 90504, \"income\": 79352.0, \"zcta\": \"90504\", \"all_vehicles\": 18449, \"tesla_rate\": 1.19}, {\"zip\": \"90505\", \"teslas\": 103, \"geoid\": 90505, \"income\": 91569.0, \"zcta\": \"90505\", \"all_vehicles\": 22023, \"tesla_rate\": 4.68}, {\"zip\": \"90601\", \"teslas\": 18, \"geoid\": 90601, \"income\": 69740.0, \"zcta\": \"90601\", \"all_vehicles\": 17252, \"tesla_rate\": 1.04}, {\"zip\": \"90603\", \"teslas\": 12, \"geoid\": 90603, \"income\": 95354.0, \"zcta\": \"90603\", \"all_vehicles\": 11227, \"tesla_rate\": 1.07}, {\"zip\": \"90605\", \"teslas\": 14, \"geoid\": 90605, \"income\": 66963.0, \"zcta\": \"90605\", \"all_vehicles\": 19002, \"tesla_rate\": 0.74}, {\"zip\": \"90620\", \"teslas\": 23, \"geoid\": 90620, \"income\": 84942.0, \"zcta\": \"90620\", \"all_vehicles\": 25032, \"tesla_rate\": 0.92}, {\"zip\": \"90621\", \"teslas\": 37, \"geoid\": 90621, \"income\": 58639.0, \"zcta\": \"90621\", \"all_vehicles\": 18820, \"tesla_rate\": 1.97}, {\"zip\": \"90623\", \"teslas\": 32, \"geoid\": 90623, \"income\": 91131.0, \"zcta\": \"90623\", \"all_vehicles\": 9629, \"tesla_rate\": 3.32}, {\"zip\": \"90630\", \"teslas\": 91, \"geoid\": 90630, \"income\": 90165.0, \"zcta\": \"90630\", \"all_vehicles\": 29445, \"tesla_rate\": 3.09}, {\"zip\": \"90631\", \"teslas\": 94, \"geoid\": 90631, \"income\": 76910.0, \"zcta\": \"90631\", \"all_vehicles\": 35215, \"tesla_rate\": 2.67}, {\"zip\": \"90638\", \"teslas\": 34, \"geoid\": 90638, \"income\": 86141.0, \"zcta\": \"90638\", \"all_vehicles\": 27846, \"tesla_rate\": 1.22}, {\"zip\": \"90640\", \"teslas\": 20, \"geoid\": 90640, \"income\": 50326.0, \"zcta\": \"90640\", \"all_vehicles\": 31670, \"tesla_rate\": 0.63}, {\"zip\": \"90650\", \"teslas\": 18, \"geoid\": 90650, \"income\": 63669.0, \"zcta\": \"90650\", \"all_vehicles\": 47415, \"tesla_rate\": 0.38}, {\"zip\": \"90670\", \"teslas\": 32, \"geoid\": 90670, \"income\": 66509.0, \"zcta\": \"90670\", \"all_vehicles\": 14809, \"tesla_rate\": 2.16}, {\"zip\": \"90680\", \"teslas\": 14, \"geoid\": 90680, \"income\": 53492.0, \"zcta\": \"90680\", \"all_vehicles\": 14017, \"tesla_rate\": 1.0}, {\"zip\": \"90703\", \"teslas\": 210, \"geoid\": 90703, \"income\": 98175.0, \"zcta\": \"90703\", \"all_vehicles\": 32063, \"tesla_rate\": 6.55}, {\"zip\": \"90706\", \"teslas\": 11, \"geoid\": 90706, \"income\": 52944.0, \"zcta\": \"90706\", \"all_vehicles\": 34332, \"tesla_rate\": 0.32}, {\"zip\": \"90710\", \"teslas\": 11, \"geoid\": 90710, \"income\": 57968.0, \"zcta\": \"90710\", \"all_vehicles\": 12007, \"tesla_rate\": 0.92}, {\"zip\": \"90712\", \"teslas\": 14, \"geoid\": 90712, \"income\": 83627.0, \"zcta\": \"90712\", \"all_vehicles\": 17531, \"tesla_rate\": 0.8}, {\"zip\": \"90713\", \"teslas\": 11, \"geoid\": 90713, \"income\": 94110.0, \"zcta\": \"90713\", \"all_vehicles\": 15449, \"tesla_rate\": 0.71}, {\"zip\": \"90717\", \"teslas\": 11, \"geoid\": 90717, \"income\": 61077.0, \"zcta\": \"90717\", \"all_vehicles\": 10134, \"tesla_rate\": 1.09}, {\"zip\": \"90720\", \"teslas\": 102, \"geoid\": 90720, \"income\": 97598.0, \"zcta\": \"90720\", \"all_vehicles\": 14946, \"tesla_rate\": 6.82}, {\"zip\": \"90731\", \"teslas\": 27, \"geoid\": 90731, \"income\": 49464.0, \"zcta\": \"90731\", \"all_vehicles\": 24610, \"tesla_rate\": 1.1}, {\"zip\": \"90732\", \"teslas\": 20, \"geoid\": 90732, \"income\": 89440.0, \"zcta\": \"90732\", \"all_vehicles\": 11339, \"tesla_rate\": 1.76}, {\"zip\": \"90740\", \"teslas\": 111, \"geoid\": 90740, \"income\": 65299.0, \"zcta\": \"90740\", \"all_vehicles\": 15274, \"tesla_rate\": 7.27}, {\"zip\": \"90745\", \"teslas\": 12, \"geoid\": 90745, \"income\": 73053.0, \"zcta\": \"90745\", \"all_vehicles\": 27825, \"tesla_rate\": 0.43}, {\"zip\": \"90755\", \"teslas\": 13, \"geoid\": 90755, \"income\": 75828.0, \"zcta\": \"90755\", \"all_vehicles\": 8410, \"tesla_rate\": 1.55}, {\"zip\": \"90802\", \"teslas\": 19, \"geoid\": 90802, \"income\": 51302.0, \"zcta\": \"90802\", \"all_vehicles\": 16739, \"tesla_rate\": 1.14}, {\"zip\": \"90803\", \"teslas\": 166, \"geoid\": 90803, \"income\": 83861.0, \"zcta\": \"90803\", \"all_vehicles\": 18782, \"tesla_rate\": 8.84}, {\"zip\": \"90804\", \"teslas\": 12, \"geoid\": 90804, \"income\": 47437.0, \"zcta\": \"90804\", \"all_vehicles\": 14293, \"tesla_rate\": 0.84}, {\"zip\": \"90807\", \"teslas\": 59, \"geoid\": 90807, \"income\": 75057.0, \"zcta\": \"90807\", \"all_vehicles\": 17152, \"tesla_rate\": 3.44}, {\"zip\": \"90808\", \"teslas\": 53, \"geoid\": 90808, \"income\": 102563.0, \"zcta\": \"90808\", \"all_vehicles\": 22210, \"tesla_rate\": 2.39}, {\"zip\": \"90814\", \"teslas\": 18, \"geoid\": 90814, \"income\": 64623.0, \"zcta\": \"90814\", \"all_vehicles\": 9305, \"tesla_rate\": 1.93}, {\"zip\": \"90815\", \"teslas\": 30, \"geoid\": 90815, \"income\": 84714.0, \"zcta\": \"90815\", \"all_vehicles\": 20871, \"tesla_rate\": 1.44}, {\"zip\": \"91001\", \"teslas\": 134, \"geoid\": 91001, \"income\": 91090.0, \"zcta\": \"91001\", \"all_vehicles\": 19320, \"tesla_rate\": 6.94}, {\"zip\": \"91006\", \"teslas\": 210, \"geoid\": 91006, \"income\": 99360.0, \"zcta\": \"91006\", \"all_vehicles\": 19553, \"tesla_rate\": 10.74}, {\"zip\": \"91007\", \"teslas\": 148, \"geoid\": 91007, \"income\": 79964.0, \"zcta\": \"91007\", \"all_vehicles\": 17917, \"tesla_rate\": 8.26}, {\"zip\": \"91010\", \"teslas\": 11, \"geoid\": 91010, \"income\": 68599.0, \"zcta\": \"91010\", \"all_vehicles\": 13105, \"tesla_rate\": 0.84}, {\"zip\": \"91011\", \"teslas\": 317, \"geoid\": 91011, \"income\": 160288.0, \"zcta\": \"91011\", \"all_vehicles\": 14520, \"tesla_rate\": 21.83}, {\"zip\": \"91016\", \"teslas\": 61, \"geoid\": 91016, \"income\": 71341.0, \"zcta\": \"91016\", \"all_vehicles\": 21702, \"tesla_rate\": 2.81}, {\"zip\": \"91024\", \"teslas\": 56, \"geoid\": 91024, \"income\": 98547.0, \"zcta\": \"91024\", \"all_vehicles\": 6447, \"tesla_rate\": 8.69}, {\"zip\": \"91030\", \"teslas\": 150, \"geoid\": 91030, \"income\": 92847.0, \"zcta\": \"91030\", \"all_vehicles\": 14411, \"tesla_rate\": 10.41}, {\"zip\": \"91040\", \"teslas\": 12, \"geoid\": 91040, \"income\": 77910.0, \"zcta\": \"91040\", \"all_vehicles\": 11978, \"tesla_rate\": 1.0}, {\"zip\": \"91042\", \"teslas\": 17, \"geoid\": 91042, \"income\": 53412.0, \"zcta\": \"91042\", \"all_vehicles\": 14981, \"tesla_rate\": 1.13}, {\"zip\": \"91101\", \"teslas\": 45, \"geoid\": 91101, \"income\": 64223.0, \"zcta\": \"91101\", \"all_vehicles\": 10113, \"tesla_rate\": 4.45}, {\"zip\": \"91103\", \"teslas\": 91, \"geoid\": 91103, \"income\": 69334.0, \"zcta\": \"91103\", \"all_vehicles\": 11923, \"tesla_rate\": 7.63}, {\"zip\": \"91104\", \"teslas\": 84, \"geoid\": 91104, \"income\": 72189.0, \"zcta\": \"91104\", \"all_vehicles\": 17195, \"tesla_rate\": 4.89}, {\"zip\": \"91105\", \"teslas\": 146, \"geoid\": 91105, \"income\": 112765.0, \"zcta\": \"91105\", \"all_vehicles\": 8811, \"tesla_rate\": 16.57}, {\"zip\": \"91106\", \"teslas\": 122, \"geoid\": 91106, \"income\": 77380.0, \"zcta\": \"91106\", \"all_vehicles\": 13064, \"tesla_rate\": 9.34}, {\"zip\": \"91107\", \"teslas\": 166, \"geoid\": 91107, \"income\": 92266.0, \"zcta\": \"91107\", \"all_vehicles\": 19809, \"tesla_rate\": 8.38}, {\"zip\": \"91108\", \"teslas\": 266, \"geoid\": 91108, \"income\": 152553.0, \"zcta\": \"91108\", \"all_vehicles\": 8685, \"tesla_rate\": 30.63}, {\"zip\": \"91201\", \"teslas\": 12, \"geoid\": 91201, \"income\": 56580.0, \"zcta\": \"91201\", \"all_vehicles\": 13766, \"tesla_rate\": 0.87}, {\"zip\": \"91202\", \"teslas\": 51, \"geoid\": 91202, \"income\": 66657.0, \"zcta\": \"91202\", \"all_vehicles\": 13271, \"tesla_rate\": 3.84}, {\"zip\": \"91203\", \"teslas\": 22, \"geoid\": 91203, \"income\": 51360.0, \"zcta\": \"91203\", \"all_vehicles\": 8519, \"tesla_rate\": 2.58}, {\"zip\": \"91205\", \"teslas\": 12, \"geoid\": 91205, \"income\": 38730.0, \"zcta\": \"91205\", \"all_vehicles\": 17496, \"tesla_rate\": 0.69}, {\"zip\": \"91206\", \"teslas\": 74, \"geoid\": 91206, \"income\": 57379.0, \"zcta\": \"91206\", \"all_vehicles\": 18604, \"tesla_rate\": 3.98}, {\"zip\": \"91207\", \"teslas\": 26, \"geoid\": 91207, \"income\": 81110.0, \"zcta\": \"91207\", \"all_vehicles\": 6469, \"tesla_rate\": 4.02}, {\"zip\": \"91208\", \"teslas\": 53, \"geoid\": 91208, \"income\": 105000.0, \"zcta\": \"91208\", \"all_vehicles\": 10599, \"tesla_rate\": 5.0}, {\"zip\": \"91214\", \"teslas\": 65, \"geoid\": 91214, \"income\": 94322.0, \"zcta\": \"91214\", \"all_vehicles\": 19557, \"tesla_rate\": 3.32}, {\"zip\": \"91301\", \"teslas\": 175, \"geoid\": 91301, \"income\": 117615.0, \"zcta\": \"91301\", \"all_vehicles\": 17475, \"tesla_rate\": 10.01}, {\"zip\": \"91302\", \"teslas\": 453, \"geoid\": 91302, \"income\": 122967.0, \"zcta\": \"91302\", \"all_vehicles\": 19288, \"tesla_rate\": 23.49}, {\"zip\": \"91304\", \"teslas\": 49, \"geoid\": 91304, \"income\": 64367.0, \"zcta\": \"91304\", \"all_vehicles\": 24329, \"tesla_rate\": 2.01}, {\"zip\": \"91306\", \"teslas\": 27, \"geoid\": 91306, \"income\": 64772.0, \"zcta\": \"91306\", \"all_vehicles\": 21874, \"tesla_rate\": 1.23}, {\"zip\": \"91307\", \"teslas\": 121, \"geoid\": 91307, \"income\": 111043.0, \"zcta\": \"91307\", \"all_vehicles\": 15688, \"tesla_rate\": 7.71}, {\"zip\": \"91311\", \"teslas\": 95, \"geoid\": 91311, \"income\": 82738.0, \"zcta\": \"91311\", \"all_vehicles\": 23391, \"tesla_rate\": 4.06}, {\"zip\": \"91316\", \"teslas\": 161, \"geoid\": 91316, \"income\": 68720.0, \"zcta\": \"91316\", \"all_vehicles\": 17274, \"tesla_rate\": 9.32}, {\"zip\": \"91320\", \"teslas\": 221, \"geoid\": 91320, \"income\": 116208.0, \"zcta\": \"91320\", \"all_vehicles\": 27829, \"tesla_rate\": 7.94}, {\"zip\": \"91321\", \"teslas\": 23, \"geoid\": 91321, \"income\": 66178.0, \"zcta\": \"91321\", \"all_vehicles\": 16761, \"tesla_rate\": 1.37}, {\"zip\": \"91324\", \"teslas\": 27, \"geoid\": 91324, \"income\": 68477.0, \"zcta\": \"91324\", \"all_vehicles\": 15042, \"tesla_rate\": 1.79}, {\"zip\": \"91325\", \"teslas\": 47, \"geoid\": 91325, \"income\": 65129.0, \"zcta\": \"91325\", \"all_vehicles\": 17443, \"tesla_rate\": 2.69}, {\"zip\": \"91326\", \"teslas\": 283, \"geoid\": 91326, \"income\": 105611.0, \"zcta\": \"91326\", \"all_vehicles\": 23605, \"tesla_rate\": 11.99}, {\"zip\": \"91335\", \"teslas\": 26, \"geoid\": 91335, \"income\": 55580.0, \"zcta\": \"91335\", \"all_vehicles\": 34865, \"tesla_rate\": 0.75}, {\"zip\": \"91342\", \"teslas\": 19, \"geoid\": 91342, \"income\": 68600.0, \"zcta\": \"91342\", \"all_vehicles\": 45718, \"tesla_rate\": 0.42}, {\"zip\": \"91343\", \"teslas\": 26, \"geoid\": 91343, \"income\": 61692.0, \"zcta\": \"91343\", \"all_vehicles\": 27735, \"tesla_rate\": 0.94}, {\"zip\": \"91344\", \"teslas\": 140, \"geoid\": 91344, \"income\": 86460.0, \"zcta\": \"91344\", \"all_vehicles\": 30499, \"tesla_rate\": 4.59}, {\"zip\": \"91350\", \"teslas\": 102, \"geoid\": 91350, \"income\": 103837.0, \"zcta\": \"91350\", \"all_vehicles\": 24166, \"tesla_rate\": 4.22}, {\"zip\": \"91351\", \"teslas\": 24, \"geoid\": 91351, \"income\": 76706.0, \"zcta\": \"91351\", \"all_vehicles\": 18362, \"tesla_rate\": 1.31}, {\"zip\": \"91354\", \"teslas\": 109, \"geoid\": 91354, \"income\": 120560.0, \"zcta\": \"91354\", \"all_vehicles\": 20219, \"tesla_rate\": 5.39}, {\"zip\": \"91355\", \"teslas\": 86, \"geoid\": 91355, \"income\": 92066.0, \"zcta\": \"91355\", \"all_vehicles\": 21919, \"tesla_rate\": 3.92}, {\"zip\": \"91356\", \"teslas\": 200, \"geoid\": 91356, \"income\": 71654.0, \"zcta\": \"91356\", \"all_vehicles\": 18353, \"tesla_rate\": 10.9}, {\"zip\": \"91360\", \"teslas\": 64, \"geoid\": 91360, \"income\": 93476.0, \"zcta\": \"91360\", \"all_vehicles\": 24116, \"tesla_rate\": 2.65}, {\"zip\": \"91361\", \"teslas\": 222, \"geoid\": 91361, \"income\": 116114.0, \"zcta\": \"91361\", \"all_vehicles\": 14911, \"tesla_rate\": 14.89}, {\"zip\": \"91362\", \"teslas\": 279, \"geoid\": 91362, \"income\": 108167.0, \"zcta\": \"91362\", \"all_vehicles\": 26442, \"tesla_rate\": 10.55}, {\"zip\": \"91364\", \"teslas\": 162, \"geoid\": 91364, \"income\": 100323.0, \"zcta\": \"91364\", \"all_vehicles\": 17524, \"tesla_rate\": 9.24}, {\"zip\": \"91367\", \"teslas\": 200, \"geoid\": 91367, \"income\": 84937.0, \"zcta\": \"91367\", \"all_vehicles\": 26514, \"tesla_rate\": 7.54}, {\"zip\": \"91377\", \"teslas\": 74, \"geoid\": 91377, \"income\": 129721.0, \"zcta\": \"91377\", \"all_vehicles\": 9822, \"tesla_rate\": 7.53}, {\"zip\": \"91381\", \"teslas\": 133, \"geoid\": 91381, \"income\": 121719.0, \"zcta\": \"91381\", \"all_vehicles\": 12932, \"tesla_rate\": 10.28}, {\"zip\": \"91384\", \"teslas\": 27, \"geoid\": 91384, \"income\": 106431.0, \"zcta\": \"91384\", \"all_vehicles\": 13647, \"tesla_rate\": 1.98}, {\"zip\": \"91387\", \"teslas\": 66, \"geoid\": 91387, \"income\": 87346.0, \"zcta\": \"91387\", \"all_vehicles\": 24185, \"tesla_rate\": 2.73}, {\"zip\": \"91390\", \"teslas\": 22, \"geoid\": 91390, \"income\": 108836.0, \"zcta\": \"91390\", \"all_vehicles\": 12451, \"tesla_rate\": 1.77}, {\"zip\": \"91401\", \"teslas\": 30, \"geoid\": 91401, \"income\": 51784.0, \"zcta\": \"91401\", \"all_vehicles\": 20364, \"tesla_rate\": 1.47}, {\"zip\": \"91403\", \"teslas\": 203, \"geoid\": 91403, \"income\": 89552.0, \"zcta\": \"91403\", \"all_vehicles\": 16116, \"tesla_rate\": 12.6}, {\"zip\": \"91405\", \"teslas\": 12, \"geoid\": 91405, \"income\": 41283.0, \"zcta\": \"91405\", \"all_vehicles\": 27028, \"tesla_rate\": 0.44}, {\"zip\": \"91406\", \"teslas\": 41, \"geoid\": 91406, \"income\": 51564.0, \"zcta\": \"91406\", \"all_vehicles\": 26437, \"tesla_rate\": 1.55}, {\"zip\": \"91411\", \"teslas\": 17, \"geoid\": 91411, \"income\": 50332.0, \"zcta\": \"91411\", \"all_vehicles\": 11310, \"tesla_rate\": 1.5}, {\"zip\": \"91423\", \"teslas\": 228, \"geoid\": 91423, \"income\": 82554.0, \"zcta\": \"91423\", \"all_vehicles\": 19809, \"tesla_rate\": 11.51}, {\"zip\": \"91436\", \"teslas\": 360, \"geoid\": 91436, \"income\": 159965.0, \"zcta\": \"91436\", \"all_vehicles\": 12229, \"tesla_rate\": 29.44}, {\"zip\": \"91501\", \"teslas\": 30, \"geoid\": 91501, \"income\": 64006.0, \"zcta\": \"91501\", \"all_vehicles\": 11851, \"tesla_rate\": 2.53}, {\"zip\": \"91504\", \"teslas\": 59, \"geoid\": 91504, \"income\": 73501.0, \"zcta\": \"91504\", \"all_vehicles\": 15445, \"tesla_rate\": 3.82}, {\"zip\": \"91505\", \"teslas\": 78, \"geoid\": 91505, \"income\": 82630.0, \"zcta\": \"91505\", \"all_vehicles\": 18257, \"tesla_rate\": 4.27}, {\"zip\": \"91506\", \"teslas\": 26, \"geoid\": 91506, \"income\": 72681.0, \"zcta\": \"91506\", \"all_vehicles\": 10951, \"tesla_rate\": 2.37}, {\"zip\": \"91601\", \"teslas\": 22, \"geoid\": 91601, \"income\": 50832.0, \"zcta\": \"91601\", \"all_vehicles\": 18069, \"tesla_rate\": 1.22}, {\"zip\": \"91602\", \"teslas\": 93, \"geoid\": 91602, \"income\": 78526.0, \"zcta\": \"91602\", \"all_vehicles\": 11660, \"tesla_rate\": 7.98}, {\"zip\": \"91604\", \"teslas\": 277, \"geoid\": 91604, \"income\": 99745.0, \"zcta\": \"91604\", \"all_vehicles\": 19205, \"tesla_rate\": 14.42}, {\"zip\": \"91605\", \"teslas\": 13, \"geoid\": 91605, \"income\": 43004.0, \"zcta\": \"91605\", \"all_vehicles\": 26462, \"tesla_rate\": 0.49}, {\"zip\": \"91606\", \"teslas\": 16, \"geoid\": 91606, \"income\": 44773.0, \"zcta\": \"91606\", \"all_vehicles\": 19757, \"tesla_rate\": 0.81}, {\"zip\": \"91607\", \"teslas\": 48, \"geoid\": 91607, \"income\": 60772.0, \"zcta\": \"91607\", \"all_vehicles\": 16519, \"tesla_rate\": 2.91}, {\"zip\": \"91701\", \"teslas\": 20, \"geoid\": 91701, \"income\": 89067.0, \"zcta\": \"91701\", \"all_vehicles\": 23664, \"tesla_rate\": 0.85}, {\"zip\": \"91702\", \"teslas\": 45, \"geoid\": 91702, \"income\": 59104.0, \"zcta\": \"91702\", \"all_vehicles\": 26948, \"tesla_rate\": 1.67}, {\"zip\": \"91706\", \"teslas\": 24, \"geoid\": 91706, \"income\": 57240.0, \"zcta\": \"91706\", \"all_vehicles\": 36323, \"tesla_rate\": 0.66}, {\"zip\": \"91708\", \"teslas\": 15, \"geoid\": 91708, \"income\": 89622.0, \"zcta\": \"91708\", \"all_vehicles\": 6181, \"tesla_rate\": 2.43}, {\"zip\": \"91709\", \"teslas\": 269, \"geoid\": 91709, \"income\": 102746.0, \"zcta\": \"91709\", \"all_vehicles\": 48373, \"tesla_rate\": 5.56}, {\"zip\": \"91710\", \"teslas\": 101, \"geoid\": 91710, \"income\": 75408.0, \"zcta\": \"91710\", \"all_vehicles\": 46780, \"tesla_rate\": 2.16}, {\"zip\": \"91711\", \"teslas\": 137, \"geoid\": 91711, \"income\": 97002.0, \"zcta\": \"91711\", \"all_vehicles\": 18365, \"tesla_rate\": 7.46}, {\"zip\": \"91724\", \"teslas\": 13, \"geoid\": 91724, \"income\": 82821.0, \"zcta\": \"91724\", \"all_vehicles\": 14484, \"tesla_rate\": 0.9}, {\"zip\": \"91730\", \"teslas\": 53, \"geoid\": 91730, \"income\": 68716.0, \"zcta\": \"91730\", \"all_vehicles\": 38691, \"tesla_rate\": 1.37}, {\"zip\": \"91731\", \"teslas\": 14, \"geoid\": 91731, \"income\": 36344.0, \"zcta\": \"91731\", \"all_vehicles\": 12627, \"tesla_rate\": 1.11}, {\"zip\": \"91732\", \"teslas\": 11, \"geoid\": 91732, \"income\": 48254.0, \"zcta\": \"91732\", \"all_vehicles\": 24375, \"tesla_rate\": 0.45}, {\"zip\": \"91733\", \"teslas\": 15, \"geoid\": 91733, \"income\": 42758.0, \"zcta\": \"91733\", \"all_vehicles\": 18556, \"tesla_rate\": 0.81}, {\"zip\": \"91737\", \"teslas\": 43, \"geoid\": 91737, \"income\": 102610.0, \"zcta\": \"91737\", \"all_vehicles\": 15360, \"tesla_rate\": 2.8}, {\"zip\": \"91739\", \"teslas\": 135, \"geoid\": 91739, \"income\": 103974.0, \"zcta\": \"91739\", \"all_vehicles\": 23738, \"tesla_rate\": 5.69}, {\"zip\": \"91740\", \"teslas\": 11, \"geoid\": 91740, \"income\": 76825.0, \"zcta\": \"91740\", \"all_vehicles\": 13939, \"tesla_rate\": 0.79}, {\"zip\": \"91741\", \"teslas\": 51, \"geoid\": 91741, \"income\": 99474.0, \"zcta\": \"91741\", \"all_vehicles\": 15795, \"tesla_rate\": 3.23}, {\"zip\": \"91745\", \"teslas\": 118, \"geoid\": 91745, \"income\": 81397.0, \"zcta\": \"91745\", \"all_vehicles\": 31673, \"tesla_rate\": 3.73}, {\"zip\": \"91748\", \"teslas\": 148, \"geoid\": 91748, \"income\": 64983.0, \"zcta\": \"91748\", \"all_vehicles\": 27249, \"tesla_rate\": 5.43}, {\"zip\": \"91750\", \"teslas\": 34, \"geoid\": 91750, \"income\": 83743.0, \"zcta\": \"91750\", \"all_vehicles\": 20010, \"tesla_rate\": 1.7}, {\"zip\": \"91752\", \"teslas\": 20, \"geoid\": 91752, \"income\": 70880.0, \"zcta\": \"91752\", \"all_vehicles\": 20075, \"tesla_rate\": 1.0}, {\"zip\": \"91754\", \"teslas\": 73, \"geoid\": 91754, \"income\": 58056.0, \"zcta\": \"91754\", \"all_vehicles\": 19062, \"tesla_rate\": 3.83}, {\"zip\": \"91755\", \"teslas\": 34, \"geoid\": 91755, \"income\": 49755.0, \"zcta\": \"91755\", \"all_vehicles\": 15200, \"tesla_rate\": 2.24}, {\"zip\": \"91761\", \"teslas\": 34, \"geoid\": 91761, \"income\": 68021.0, \"zcta\": \"91761\", \"all_vehicles\": 37038, \"tesla_rate\": 0.92}, {\"zip\": \"91762\", \"teslas\": 17, \"geoid\": 91762, \"income\": 53462.0, \"zcta\": \"91762\", \"all_vehicles\": 28196, \"tesla_rate\": 0.6}, {\"zip\": \"91764\", \"teslas\": 11, \"geoid\": 91764, \"income\": 51961.0, \"zcta\": \"91764\", \"all_vehicles\": 23943, \"tesla_rate\": 0.46}, {\"zip\": \"91765\", \"teslas\": 260, \"geoid\": 91765, \"income\": 95285.0, \"zcta\": \"91765\", \"all_vehicles\": 29791, \"tesla_rate\": 8.73}, {\"zip\": \"91766\", \"teslas\": 23, \"geoid\": 91766, \"income\": 54163.0, \"zcta\": \"91766\", \"all_vehicles\": 30077, \"tesla_rate\": 0.76}, {\"zip\": \"91770\", \"teslas\": 57, \"geoid\": 91770, \"income\": 51383.0, \"zcta\": \"91770\", \"all_vehicles\": 33939, \"tesla_rate\": 1.68}, {\"zip\": \"91773\", \"teslas\": 28, \"geoid\": 91773, \"income\": 81020.0, \"zcta\": \"91773\", \"all_vehicles\": 20381, \"tesla_rate\": 1.37}, {\"zip\": \"91775\", \"teslas\": 64, \"geoid\": 91775, \"income\": 81250.0, \"zcta\": \"91775\", \"all_vehicles\": 12822, \"tesla_rate\": 4.99}, {\"zip\": \"91776\", \"teslas\": 60, \"geoid\": 91776, \"income\": 52051.0, \"zcta\": \"91776\", \"all_vehicles\": 21009, \"tesla_rate\": 2.86}, {\"zip\": \"91780\", \"teslas\": 109, \"geoid\": 91780, \"income\": 67910.0, \"zcta\": \"91780\", \"all_vehicles\": 19447, \"tesla_rate\": 5.6}, {\"zip\": \"91784\", \"teslas\": 81, \"geoid\": 91784, \"income\": 110945.0, \"zcta\": \"91784\", \"all_vehicles\": 18123, \"tesla_rate\": 4.47}, {\"zip\": \"91786\", \"teslas\": 27, \"geoid\": 91786, \"income\": 54931.0, \"zcta\": \"91786\", \"all_vehicles\": 26719, \"tesla_rate\": 1.01}, {\"zip\": \"91789\", \"teslas\": 254, \"geoid\": 91789, \"income\": 95081.0, \"zcta\": \"91789\", \"all_vehicles\": 27476, \"tesla_rate\": 9.24}, {\"zip\": \"91790\", \"teslas\": 37, \"geoid\": 91790, \"income\": 74965.0, \"zcta\": \"91790\", \"all_vehicles\": 23206, \"tesla_rate\": 1.59}, {\"zip\": \"91791\", \"teslas\": 81, \"geoid\": 91791, \"income\": 80020.0, \"zcta\": \"91791\", \"all_vehicles\": 18546, \"tesla_rate\": 4.37}, {\"zip\": \"91792\", \"teslas\": 15, \"geoid\": 91792, \"income\": 70932.0, \"zcta\": \"91792\", \"all_vehicles\": 15263, \"tesla_rate\": 0.98}, {\"zip\": \"91801\", \"teslas\": 45, \"geoid\": 91801, \"income\": 53644.0, \"zcta\": \"91801\", \"all_vehicles\": 26751, \"tesla_rate\": 1.68}, {\"zip\": \"91803\", \"teslas\": 37, \"geoid\": 91803, \"income\": 61424.0, \"zcta\": \"91803\", \"all_vehicles\": 15808, \"tesla_rate\": 2.34}, {\"zip\": \"91902\", \"teslas\": 15, \"geoid\": 91902, \"income\": 92759.0, \"zcta\": \"91902\", \"all_vehicles\": 11121, \"tesla_rate\": 1.35}, {\"zip\": \"91910\", \"teslas\": 40, \"geoid\": 91910, \"income\": 59371.0, \"zcta\": \"91910\", \"all_vehicles\": 40276, \"tesla_rate\": 0.99}, {\"zip\": \"91911\", \"teslas\": 13, \"geoid\": 91911, \"income\": 52274.0, \"zcta\": \"91911\", \"all_vehicles\": 43610, \"tesla_rate\": 0.3}, {\"zip\": \"91913\", \"teslas\": 35, \"geoid\": 91913, \"income\": 87440.0, \"zcta\": \"91913\", \"all_vehicles\": 27997, \"tesla_rate\": 1.25}, {\"zip\": \"91914\", \"teslas\": 56, \"geoid\": 91914, \"income\": 131486.0, \"zcta\": \"91914\", \"all_vehicles\": 11013, \"tesla_rate\": 5.08}, {\"zip\": \"91915\", \"teslas\": 29, \"geoid\": 91915, \"income\": 106452.0, \"zcta\": \"91915\", \"all_vehicles\": 17653, \"tesla_rate\": 1.64}, {\"zip\": \"91935\", \"teslas\": 15, \"geoid\": 91935, \"income\": 98668.0, \"zcta\": \"91935\", \"all_vehicles\": 5635, \"tesla_rate\": 2.66}, {\"zip\": \"91941\", \"teslas\": 71, \"geoid\": 91941, \"income\": 79001.0, \"zcta\": \"91941\", \"all_vehicles\": 17696, \"tesla_rate\": 4.01}, {\"zip\": \"91942\", \"teslas\": 17, \"geoid\": 91942, \"income\": 56645.0, \"zcta\": \"91942\", \"all_vehicles\": 20055, \"tesla_rate\": 0.85}, {\"zip\": \"91977\", \"teslas\": 14, \"geoid\": 91977, \"income\": 60986.0, \"zcta\": \"91977\", \"all_vehicles\": 29273, \"tesla_rate\": 0.48}, {\"zip\": \"92007\", \"teslas\": 35, \"geoid\": 92007, \"income\": 105469.0, \"zcta\": \"92007\", \"all_vehicles\": 6812, \"tesla_rate\": 5.14}, {\"zip\": \"92008\", \"teslas\": 114, \"geoid\": 92008, \"income\": 81073.0, \"zcta\": \"92008\", \"all_vehicles\": 17893, \"tesla_rate\": 6.37}, {\"zip\": \"92009\", \"teslas\": 324, \"geoid\": 92009, \"income\": 120090.0, \"zcta\": \"92009\", \"all_vehicles\": 28390, \"tesla_rate\": 11.41}, {\"zip\": \"92010\", \"teslas\": 53, \"geoid\": 92010, \"income\": 101402.0, \"zcta\": \"92010\", \"all_vehicles\": 10377, \"tesla_rate\": 5.11}, {\"zip\": \"92011\", \"teslas\": 173, \"geoid\": 92011, \"income\": 110505.0, \"zcta\": \"92011\", \"all_vehicles\": 15657, \"tesla_rate\": 11.05}, {\"zip\": \"92014\", \"teslas\": 239, \"geoid\": 92014, \"income\": 128679.0, \"zcta\": \"92014\", \"all_vehicles\": 9856, \"tesla_rate\": 24.25}, {\"zip\": \"92019\", \"teslas\": 23, \"geoid\": 92019, \"income\": 80791.0, \"zcta\": \"92019\", \"all_vehicles\": 24364, \"tesla_rate\": 0.94}, {\"zip\": \"92020\", \"teslas\": 16, \"geoid\": 92020, \"income\": 52264.0, \"zcta\": \"92020\", \"all_vehicles\": 29597, \"tesla_rate\": 0.54}, {\"zip\": \"92021\", \"teslas\": 14, \"geoid\": 92021, \"income\": 54154.0, \"zcta\": \"92021\", \"all_vehicles\": 32528, \"tesla_rate\": 0.43}, {\"zip\": \"92024\", \"teslas\": 393, \"geoid\": 92024, \"income\": 103417.0, \"zcta\": \"92024\", \"all_vehicles\": 32097, \"tesla_rate\": 12.24}, {\"zip\": \"92025\", \"teslas\": 22, \"geoid\": 92025, \"income\": 55703.0, \"zcta\": \"92025\", \"all_vehicles\": 22488, \"tesla_rate\": 0.98}, {\"zip\": \"92026\", \"teslas\": 36, \"geoid\": 92026, \"income\": 67122.0, \"zcta\": \"92026\", \"all_vehicles\": 26627, \"tesla_rate\": 1.35}, {\"zip\": \"92027\", \"teslas\": 34, \"geoid\": 92027, \"income\": 60802.0, \"zcta\": \"92027\", \"all_vehicles\": 26036, \"tesla_rate\": 1.31}, {\"zip\": \"92028\", \"teslas\": 29, \"geoid\": 92028, \"income\": 64801.0, \"zcta\": \"92028\", \"all_vehicles\": 26179, \"tesla_rate\": 1.11}, {\"zip\": \"92029\", \"teslas\": 42, \"geoid\": 92029, \"income\": 85363.0, \"zcta\": \"92029\", \"all_vehicles\": 14824, \"tesla_rate\": 2.83}, {\"zip\": \"92037\", \"teslas\": 566, \"geoid\": 92037, \"income\": 107094.0, \"zcta\": \"92037\", \"all_vehicles\": 24008, \"tesla_rate\": 23.58}, {\"zip\": \"92054\", \"teslas\": 26, \"geoid\": 92054, \"income\": 56170.0, \"zcta\": \"92054\", \"all_vehicles\": 18143, \"tesla_rate\": 1.43}, {\"zip\": \"92056\", \"teslas\": 34, \"geoid\": 92056, \"income\": 70636.0, \"zcta\": \"92056\", \"all_vehicles\": 30072, \"tesla_rate\": 1.13}, {\"zip\": \"92057\", \"teslas\": 36, \"geoid\": 92057, \"income\": 66844.0, \"zcta\": \"92057\", \"all_vehicles\": 29700, \"tesla_rate\": 1.21}, {\"zip\": \"92064\", \"teslas\": 200, \"geoid\": 92064, \"income\": 102292.0, \"zcta\": \"92064\", \"all_vehicles\": 29790, \"tesla_rate\": 6.71}, {\"zip\": \"92065\", \"teslas\": 16, \"geoid\": 92065, \"income\": 83382.0, \"zcta\": \"92065\", \"all_vehicles\": 20169, \"tesla_rate\": 0.79}, {\"zip\": \"92067\", \"teslas\": 338, \"geoid\": 92067, \"income\": 130769.0, \"zcta\": \"92067\", \"all_vehicles\": 8560, \"tesla_rate\": 39.49}, {\"zip\": \"92069\", \"teslas\": 29, \"geoid\": 92069, \"income\": 65485.0, \"zcta\": \"92069\", \"all_vehicles\": 25395, \"tesla_rate\": 1.14}, {\"zip\": \"92071\", \"teslas\": 26, \"geoid\": 92071, \"income\": 81716.0, \"zcta\": \"92071\", \"all_vehicles\": 30538, \"tesla_rate\": 0.85}, {\"zip\": \"92075\", \"teslas\": 128, \"geoid\": 92075, \"income\": 103608.0, \"zcta\": \"92075\", \"all_vehicles\": 8313, \"tesla_rate\": 15.4}, {\"zip\": \"92078\", \"teslas\": 164, \"geoid\": 92078, \"income\": 74094.0, \"zcta\": \"92078\", \"all_vehicles\": 27078, \"tesla_rate\": 6.06}, {\"zip\": \"92081\", \"teslas\": 24, \"geoid\": 92081, \"income\": 66397.0, \"zcta\": \"92081\", \"all_vehicles\": 17182, \"tesla_rate\": 1.4}, {\"zip\": \"92084\", \"teslas\": 31, \"geoid\": 92084, \"income\": 61584.0, \"zcta\": \"92084\", \"all_vehicles\": 22994, \"tesla_rate\": 1.35}, {\"zip\": \"92091\", \"teslas\": 63, \"geoid\": 92091, \"income\": 136250.0, \"zcta\": \"92091\", \"all_vehicles\": 1821, \"tesla_rate\": 34.6}, {\"zip\": \"92101\", \"teslas\": 206, \"geoid\": 92101, \"income\": 60417.0, \"zcta\": \"92101\", \"all_vehicles\": 38137, \"tesla_rate\": 5.4}, {\"zip\": \"92103\", \"teslas\": 131, \"geoid\": 92103, \"income\": 74523.0, \"zcta\": \"92103\", \"all_vehicles\": 18966, \"tesla_rate\": 6.91}, {\"zip\": \"92104\", \"teslas\": 41, \"geoid\": 92104, \"income\": 59202.0, \"zcta\": \"92104\", \"all_vehicles\": 21781, \"tesla_rate\": 1.88}, {\"zip\": \"92106\", \"teslas\": 89, \"geoid\": 92106, \"income\": 99250.0, \"zcta\": \"92106\", \"all_vehicles\": 10899, \"tesla_rate\": 8.17}, {\"zip\": \"92107\", \"teslas\": 44, \"geoid\": 92107, \"income\": 77631.0, \"zcta\": \"92107\", \"all_vehicles\": 14495, \"tesla_rate\": 3.04}, {\"zip\": \"92108\", \"teslas\": 62, \"geoid\": 92108, \"income\": 69008.0, \"zcta\": \"92108\", \"all_vehicles\": 14577, \"tesla_rate\": 4.25}, {\"zip\": \"92109\", \"teslas\": 123, \"geoid\": 92109, \"income\": 72945.0, \"zcta\": \"92109\", \"all_vehicles\": 24660, \"tesla_rate\": 4.99}, {\"zip\": \"92110\", \"teslas\": 20, \"geoid\": 92110, \"income\": 65211.0, \"zcta\": \"92110\", \"all_vehicles\": 16130, \"tesla_rate\": 1.24}, {\"zip\": \"92111\", \"teslas\": 60, \"geoid\": 92111, \"income\": 65098.0, \"zcta\": \"92111\", \"all_vehicles\": 26031, \"tesla_rate\": 2.3}, {\"zip\": \"92115\", \"teslas\": 32, \"geoid\": 92115, \"income\": 47536.0, \"zcta\": \"92115\", \"all_vehicles\": 23895, \"tesla_rate\": 1.34}, {\"zip\": \"92116\", \"teslas\": 42, \"geoid\": 92116, \"income\": 64959.0, \"zcta\": \"92116\", \"all_vehicles\": 17010, \"tesla_rate\": 2.47}, {\"zip\": \"92117\", \"teslas\": 74, \"geoid\": 92117, \"income\": 71472.0, \"zcta\": \"92117\", \"all_vehicles\": 27423, \"tesla_rate\": 2.7}, {\"zip\": \"92118\", \"teslas\": 61, \"geoid\": 92118, \"income\": 99641.0, \"zcta\": \"92118\", \"all_vehicles\": 9720, \"tesla_rate\": 6.28}, {\"zip\": \"92119\", \"teslas\": 18, \"geoid\": 92119, \"income\": 79121.0, \"zcta\": \"92119\", \"all_vehicles\": 13409, \"tesla_rate\": 1.34}, {\"zip\": \"92120\", \"teslas\": 44, \"geoid\": 92120, \"income\": 88202.0, \"zcta\": \"92120\", \"all_vehicles\": 17700, \"tesla_rate\": 2.49}, {\"zip\": \"92121\", \"teslas\": 71, \"geoid\": 92121, \"income\": 103953.0, \"zcta\": \"92121\", \"all_vehicles\": 7222, \"tesla_rate\": 9.83}, {\"zip\": \"92122\", \"teslas\": 111, \"geoid\": 92122, \"income\": 76872.0, \"zcta\": \"92122\", \"all_vehicles\": 22017, \"tesla_rate\": 5.04}, {\"zip\": \"92123\", \"teslas\": 29, \"geoid\": 92123, \"income\": 73272.0, \"zcta\": \"92123\", \"all_vehicles\": 20429, \"tesla_rate\": 1.42}, {\"zip\": \"92124\", \"teslas\": 56, \"geoid\": 92124, \"income\": 86068.0, \"zcta\": \"92124\", \"all_vehicles\": 15178, \"tesla_rate\": 3.69}, {\"zip\": \"92126\", \"teslas\": 119, \"geoid\": 92126, \"income\": 92061.0, \"zcta\": \"92126\", \"all_vehicles\": 41496, \"tesla_rate\": 2.87}, {\"zip\": \"92127\", \"teslas\": 511, \"geoid\": 92127, \"income\": 127227.0, \"zcta\": \"92127\", \"all_vehicles\": 28867, \"tesla_rate\": 17.7}, {\"zip\": \"92128\", \"teslas\": 130, \"geoid\": 92128, \"income\": 94925.0, \"zcta\": \"92128\", \"all_vehicles\": 30022, \"tesla_rate\": 4.33}, {\"zip\": \"92129\", \"teslas\": 219, \"geoid\": 92129, \"income\": 120279.0, \"zcta\": \"92129\", \"all_vehicles\": 31196, \"tesla_rate\": 7.02}, {\"zip\": \"92130\", \"teslas\": 796, \"geoid\": 92130, \"income\": 141926.0, \"zcta\": \"92130\", \"all_vehicles\": 36036, \"tesla_rate\": 22.09}, {\"zip\": \"92131\", \"teslas\": 222, \"geoid\": 92131, \"income\": 125035.0, \"zcta\": \"92131\", \"all_vehicles\": 23391, \"tesla_rate\": 9.49}, {\"zip\": \"92154\", \"teslas\": 13, \"geoid\": 92154, \"income\": 63638.0, \"zcta\": \"92154\", \"all_vehicles\": 50156, \"tesla_rate\": 0.26}, {\"zip\": \"92203\", \"teslas\": 22, \"geoid\": 92203, \"income\": 67878.0, \"zcta\": \"92203\", \"all_vehicles\": 17377, \"tesla_rate\": 1.27}, {\"zip\": \"92210\", \"teslas\": 24, \"geoid\": 92210, \"income\": 103365.0, \"zcta\": \"92210\", \"all_vehicles\": 3100, \"tesla_rate\": 7.74}, {\"zip\": \"92211\", \"teslas\": 49, \"geoid\": 92211, \"income\": 60531.0, \"zcta\": \"92211\", \"all_vehicles\": 16627, \"tesla_rate\": 2.95}, {\"zip\": \"92223\", \"teslas\": 13, \"geoid\": 92223, \"income\": 68739.0, \"zcta\": \"92223\", \"all_vehicles\": 29744, \"tesla_rate\": 0.44}, {\"zip\": \"92234\", \"teslas\": 12, \"geoid\": 92234, \"income\": 43423.0, \"zcta\": \"92234\", \"all_vehicles\": 24993, \"tesla_rate\": 0.48}, {\"zip\": \"92253\", \"teslas\": 84, \"geoid\": 92253, \"income\": 78228.0, \"zcta\": \"92253\", \"all_vehicles\": 22604, \"tesla_rate\": 3.72}, {\"zip\": \"92260\", \"teslas\": 54, \"geoid\": 92260, \"income\": 53750.0, \"zcta\": \"92260\", \"all_vehicles\": 17021, \"tesla_rate\": 3.17}, {\"zip\": \"92262\", \"teslas\": 85, \"geoid\": 92262, \"income\": 47840.0, \"zcta\": \"92262\", \"all_vehicles\": 13918, \"tesla_rate\": 6.11}, {\"zip\": \"92264\", \"teslas\": 55, \"geoid\": 92264, \"income\": 47679.0, \"zcta\": \"92264\", \"all_vehicles\": 11139, \"tesla_rate\": 4.94}, {\"zip\": \"92270\", \"teslas\": 124, \"geoid\": 92270, \"income\": 64754.0, \"zcta\": \"92270\", \"all_vehicles\": 11669, \"tesla_rate\": 10.63}, {\"zip\": \"92336\", \"teslas\": 34, \"geoid\": 92336, \"income\": 87744.0, \"zcta\": \"92336\", \"all_vehicles\": 53234, \"tesla_rate\": 0.64}, {\"zip\": \"92346\", \"teslas\": 12, \"geoid\": 92346, \"income\": 60732.0, \"zcta\": \"92346\", \"all_vehicles\": 27959, \"tesla_rate\": 0.43}, {\"zip\": \"92354\", \"teslas\": 19, \"geoid\": 92354, \"income\": 54877.0, \"zcta\": \"92354\", \"all_vehicles\": 10736, \"tesla_rate\": 1.77}, {\"zip\": \"92373\", \"teslas\": 84, \"geoid\": 92373, \"income\": 65403.0, \"zcta\": \"92373\", \"all_vehicles\": 19594, \"tesla_rate\": 4.29}, {\"zip\": \"92399\", \"teslas\": 11, \"geoid\": 92399, \"income\": 58570.0, \"zcta\": \"92399\", \"all_vehicles\": 28361, \"tesla_rate\": 0.39}, {\"zip\": \"92407\", \"teslas\": 12, \"geoid\": 92407, \"income\": 56819.0, \"zcta\": \"92407\", \"all_vehicles\": 28338, \"tesla_rate\": 0.42}, {\"zip\": \"92503\", \"teslas\": 38, \"geoid\": 92503, \"income\": 62998.0, \"zcta\": \"92503\", \"all_vehicles\": 42590, \"tesla_rate\": 0.89}, {\"zip\": \"92504\", \"teslas\": 14, \"geoid\": 92504, \"income\": 60211.0, \"zcta\": \"92504\", \"all_vehicles\": 30263, \"tesla_rate\": 0.46}, {\"zip\": \"92506\", \"teslas\": 71, \"geoid\": 92506, \"income\": 87190.0, \"zcta\": \"92506\", \"all_vehicles\": 25281, \"tesla_rate\": 2.81}, {\"zip\": \"92507\", \"teslas\": 17, \"geoid\": 92507, \"income\": 44912.0, \"zcta\": \"92507\", \"all_vehicles\": 23601, \"tesla_rate\": 0.72}, {\"zip\": \"92508\", \"teslas\": 21, \"geoid\": 92508, \"income\": 103942.0, \"zcta\": \"92508\", \"all_vehicles\": 20480, \"tesla_rate\": 1.03}, {\"zip\": \"92509\", \"teslas\": 12, \"geoid\": 92509, \"income\": 63719.0, \"zcta\": \"92509\", \"all_vehicles\": 37326, \"tesla_rate\": 0.32}, {\"zip\": \"92530\", \"teslas\": 18, \"geoid\": 92530, \"income\": 51922.0, \"zcta\": \"92530\", \"all_vehicles\": 25327, \"tesla_rate\": 0.71}, {\"zip\": \"92532\", \"teslas\": 15, \"geoid\": 92532, \"income\": 84173.0, \"zcta\": \"92532\", \"all_vehicles\": 13812, \"tesla_rate\": 1.09}, {\"zip\": \"92562\", \"teslas\": 81, \"geoid\": 92562, \"income\": 81500.0, \"zcta\": \"92562\", \"all_vehicles\": 37000, \"tesla_rate\": 2.19}, {\"zip\": \"92563\", \"teslas\": 54, \"geoid\": 92563, \"income\": 86580.0, \"zcta\": \"92563\", \"all_vehicles\": 37459, \"tesla_rate\": 1.44}, {\"zip\": \"92584\", \"teslas\": 12, \"geoid\": 92584, \"income\": 85527.0, \"zcta\": \"92584\", \"all_vehicles\": 27664, \"tesla_rate\": 0.43}, {\"zip\": \"92587\", \"teslas\": 11, \"geoid\": 92587, \"income\": 71838.0, \"zcta\": \"92587\", \"all_vehicles\": 10020, \"tesla_rate\": 1.1}, {\"zip\": \"92591\", \"teslas\": 28, \"geoid\": 92591, \"income\": 77234.0, \"zcta\": \"92591\", \"all_vehicles\": 23022, \"tesla_rate\": 1.22}, {\"zip\": \"92592\", \"teslas\": 102, \"geoid\": 92592, \"income\": 99049.0, \"zcta\": \"92592\", \"all_vehicles\": 45828, \"tesla_rate\": 2.23}, {\"zip\": \"92602\", \"teslas\": 292, \"geoid\": 92602, \"income\": 103367.0, \"zcta\": \"92602\", \"all_vehicles\": 16462, \"tesla_rate\": 17.74}, {\"zip\": \"92603\", \"teslas\": 417, \"geoid\": 92603, \"income\": 120915.0, \"zcta\": \"92603\", \"all_vehicles\": 13071, \"tesla_rate\": 31.9}, {\"zip\": \"92604\", \"teslas\": 102, \"geoid\": 92604, \"income\": 97901.0, \"zcta\": \"92604\", \"all_vehicles\": 15861, \"tesla_rate\": 6.43}, {\"zip\": \"92606\", \"teslas\": 106, \"geoid\": 92606, \"income\": 92554.0, \"zcta\": \"92606\", \"all_vehicles\": 14912, \"tesla_rate\": 7.11}, {\"zip\": \"92610\", \"teslas\": 57, \"geoid\": 92610, \"income\": 128050.0, \"zcta\": \"92610\", \"all_vehicles\": 8248, \"tesla_rate\": 6.91}, {\"zip\": \"92612\", \"teslas\": 139, \"geoid\": 92612, \"income\": 75556.0, \"zcta\": \"92612\", \"all_vehicles\": 15874, \"tesla_rate\": 8.76}, {\"zip\": \"92614\", \"teslas\": 137, \"geoid\": 92614, \"income\": 93410.0, \"zcta\": \"92614\", \"all_vehicles\": 18863, \"tesla_rate\": 7.26}, {\"zip\": \"92617\", \"teslas\": 16, \"geoid\": 92617, \"income\": 41361.0, \"zcta\": \"92617\", \"all_vehicles\": 3997, \"tesla_rate\": 4.0}, {\"zip\": \"92618\", \"teslas\": 621, \"geoid\": 92618, \"income\": 103758.0, \"zcta\": \"92618\", \"all_vehicles\": 31243, \"tesla_rate\": 19.88}, {\"zip\": \"92620\", \"teslas\": 569, \"geoid\": 92620, \"income\": 102815.0, \"zcta\": \"92620\", \"all_vehicles\": 34867, \"tesla_rate\": 16.32}, {\"zip\": \"92624\", \"teslas\": 14, \"geoid\": 92624, \"income\": 100132.0, \"zcta\": \"92624\", \"all_vehicles\": 4363, \"tesla_rate\": 3.21}, {\"zip\": \"92625\", \"teslas\": 316, \"geoid\": 92625, \"income\": 139561.0, \"zcta\": \"92625\", \"all_vehicles\": 9075, \"tesla_rate\": 34.82}, {\"zip\": \"92626\", \"teslas\": 154, \"geoid\": 92626, \"income\": 85662.0, \"zcta\": \"92626\", \"all_vehicles\": 34951, \"tesla_rate\": 4.41}, {\"zip\": \"92627\", \"teslas\": 144, \"geoid\": 92627, \"income\": 64454.0, \"zcta\": \"92627\", \"all_vehicles\": 29554, \"tesla_rate\": 4.87}, {\"zip\": \"92629\", \"teslas\": 178, \"geoid\": 92629, \"income\": 90078.0, \"zcta\": \"92629\", \"all_vehicles\": 17175, \"tesla_rate\": 10.36}, {\"zip\": \"92630\", \"teslas\": 259, \"geoid\": 92630, \"income\": 87059.0, \"zcta\": \"92630\", \"all_vehicles\": 39159, \"tesla_rate\": 6.61}, {\"zip\": \"92646\", \"teslas\": 202, \"geoid\": 92646, \"income\": 94205.0, \"zcta\": \"92646\", \"all_vehicles\": 34158, \"tesla_rate\": 5.91}, {\"zip\": \"92647\", \"teslas\": 99, \"geoid\": 92647, \"income\": 77761.0, \"zcta\": \"92647\", \"all_vehicles\": 31364, \"tesla_rate\": 3.16}, {\"zip\": \"92648\", \"teslas\": 354, \"geoid\": 92648, \"income\": 91410.0, \"zcta\": \"92648\", \"all_vehicles\": 29177, \"tesla_rate\": 12.13}, {\"zip\": \"92649\", \"teslas\": 235, \"geoid\": 92649, \"income\": 91398.0, \"zcta\": \"92649\", \"all_vehicles\": 22602, \"tesla_rate\": 10.4}, {\"zip\": \"92651\", \"teslas\": 457, \"geoid\": 92651, \"income\": 120302.0, \"zcta\": \"92651\", \"all_vehicles\": 17136, \"tesla_rate\": 26.67}, {\"zip\": \"92653\", \"teslas\": 184, \"geoid\": 92653, \"income\": 101327.0, \"zcta\": \"92653\", \"all_vehicles\": 19340, \"tesla_rate\": 9.51}, {\"zip\": \"92656\", \"teslas\": 223, \"geoid\": 92656, \"income\": 105964.0, \"zcta\": \"92656\", \"all_vehicles\": 32133, \"tesla_rate\": 6.94}, {\"zip\": \"92657\", \"teslas\": 459, \"geoid\": 92657, \"income\": 215000.0, \"zcta\": \"92657\", \"all_vehicles\": 8347, \"tesla_rate\": 54.99}, {\"zip\": \"92660\", \"teslas\": 640, \"geoid\": 92660, \"income\": 118971.0, \"zcta\": \"92660\", \"all_vehicles\": 27521, \"tesla_rate\": 23.25}, {\"zip\": \"92661\", \"teslas\": 29, \"geoid\": 92661, \"income\": 102279.0, \"zcta\": \"92661\", \"all_vehicles\": 2326, \"tesla_rate\": 12.47}, {\"zip\": \"92663\", \"teslas\": 246, \"geoid\": 92663, \"income\": 102017.0, \"zcta\": \"92663\", \"all_vehicles\": 13406, \"tesla_rate\": 18.35}, {\"zip\": \"92672\", \"teslas\": 182, \"geoid\": 92672, \"income\": 77733.0, \"zcta\": \"92672\", \"all_vehicles\": 21547, \"tesla_rate\": 8.45}, {\"zip\": \"92673\", \"teslas\": 302, \"geoid\": 92673, \"income\": 144331.0, \"zcta\": \"92673\", \"all_vehicles\": 19753, \"tesla_rate\": 15.29}, {\"zip\": \"92675\", \"teslas\": 277, \"geoid\": 92675, \"income\": 82532.0, \"zcta\": \"92675\", \"all_vehicles\": 20977, \"tesla_rate\": 13.2}, {\"zip\": \"92677\", \"teslas\": 519, \"geoid\": 92677, \"income\": 98743.0, \"zcta\": \"92677\", \"all_vehicles\": 42455, \"tesla_rate\": 12.22}, {\"zip\": \"92679\", \"teslas\": 357, \"geoid\": 92679, \"income\": 153053.0, \"zcta\": \"92679\", \"all_vehicles\": 22976, \"tesla_rate\": 15.54}, {\"zip\": \"92683\", \"teslas\": 147, \"geoid\": 92683, \"income\": 57546.0, \"zcta\": \"92683\", \"all_vehicles\": 46331, \"tesla_rate\": 3.17}, {\"zip\": \"92688\", \"teslas\": 115, \"geoid\": 92688, \"income\": 103215.0, \"zcta\": \"92688\", \"all_vehicles\": 28585, \"tesla_rate\": 4.02}, {\"zip\": \"92691\", \"teslas\": 69, \"geoid\": 92691, \"income\": 106581.0, \"zcta\": \"92691\", \"all_vehicles\": 29700, \"tesla_rate\": 2.32}, {\"zip\": \"92692\", \"teslas\": 202, \"geoid\": 92692, \"income\": 108252.0, \"zcta\": \"92692\", \"all_vehicles\": 30967, \"tesla_rate\": 6.52}, {\"zip\": \"92694\", \"teslas\": 320, \"geoid\": 92694, \"income\": 154384.0, \"zcta\": \"92694\", \"all_vehicles\": 19279, \"tesla_rate\": 16.6}, {\"zip\": \"92703\", \"teslas\": 15, \"geoid\": 92703, \"income\": 52970.0, \"zcta\": \"92703\", \"all_vehicles\": 23782, \"tesla_rate\": 0.63}, {\"zip\": \"92704\", \"teslas\": 71, \"geoid\": 92704, \"income\": 63056.0, \"zcta\": \"92704\", \"all_vehicles\": 36174, \"tesla_rate\": 1.96}, {\"zip\": \"92705\", \"teslas\": 282, \"geoid\": 92705, \"income\": 94194.0, \"zcta\": \"92705\", \"all_vehicles\": 28444, \"tesla_rate\": 9.91}, {\"zip\": \"92706\", \"teslas\": 19, \"geoid\": 92706, \"income\": 58648.0, \"zcta\": \"92706\", \"all_vehicles\": 15190, \"tesla_rate\": 1.25}, {\"zip\": \"92707\", \"teslas\": 18, \"geoid\": 92707, \"income\": 65919.0, \"zcta\": \"92707\", \"all_vehicles\": 24613, \"tesla_rate\": 0.73}, {\"zip\": \"92708\", \"teslas\": 210, \"geoid\": 92708, \"income\": 85536.0, \"zcta\": \"92708\", \"all_vehicles\": 35240, \"tesla_rate\": 5.96}, {\"zip\": \"92780\", \"teslas\": 73, \"geoid\": 92780, \"income\": 67057.0, \"zcta\": \"92780\", \"all_vehicles\": 27800, \"tesla_rate\": 2.63}, {\"zip\": \"92782\", \"teslas\": 271, \"geoid\": 92782, \"income\": 106125.0, \"zcta\": \"92782\", \"all_vehicles\": 17976, \"tesla_rate\": 15.08}, {\"zip\": \"92801\", \"teslas\": 33, \"geoid\": 92801, \"income\": 54476.0, \"zcta\": \"92801\", \"all_vehicles\": 27536, \"tesla_rate\": 1.2}, {\"zip\": \"92802\", \"teslas\": 17, \"geoid\": 92802, \"income\": 54414.0, \"zcta\": \"92802\", \"all_vehicles\": 17066, \"tesla_rate\": 1.0}, {\"zip\": \"92804\", \"teslas\": 26, \"geoid\": 92804, \"income\": 55736.0, \"zcta\": \"92804\", \"all_vehicles\": 37396, \"tesla_rate\": 0.7}, {\"zip\": \"92805\", \"teslas\": 45, \"geoid\": 92805, \"income\": 59934.0, \"zcta\": \"92805\", \"all_vehicles\": 37015, \"tesla_rate\": 1.22}, {\"zip\": \"92806\", \"teslas\": 19, \"geoid\": 92806, \"income\": 66372.0, \"zcta\": \"92806\", \"all_vehicles\": 24225, \"tesla_rate\": 0.78}, {\"zip\": \"92807\", \"teslas\": 181, \"geoid\": 92807, \"income\": 104530.0, \"zcta\": \"92807\", \"all_vehicles\": 26005, \"tesla_rate\": 6.96}, {\"zip\": \"92808\", \"teslas\": 127, \"geoid\": 92808, \"income\": 121250.0, \"zcta\": \"92808\", \"all_vehicles\": 13844, \"tesla_rate\": 9.17}, {\"zip\": \"92821\", \"teslas\": 184, \"geoid\": 92821, \"income\": 86070.0, \"zcta\": \"92821\", \"all_vehicles\": 25989, \"tesla_rate\": 7.08}, {\"zip\": \"92823\", \"teslas\": 32, \"geoid\": 92823, \"income\": 138831.0, \"zcta\": \"92823\", \"all_vehicles\": 3408, \"tesla_rate\": 9.39}, {\"zip\": \"92831\", \"teslas\": 71, \"geoid\": 92831, \"income\": 64218.0, \"zcta\": \"92831\", \"all_vehicles\": 17255, \"tesla_rate\": 4.11}, {\"zip\": \"92832\", \"teslas\": 12, \"geoid\": 92832, \"income\": 61493.0, \"zcta\": \"92832\", \"all_vehicles\": 11116, \"tesla_rate\": 1.08}, {\"zip\": \"92833\", \"teslas\": 111, \"geoid\": 92833, \"income\": 73162.0, \"zcta\": \"92833\", \"all_vehicles\": 28783, \"tesla_rate\": 3.86}, {\"zip\": \"92835\", \"teslas\": 123, \"geoid\": 92835, \"income\": 98415.0, \"zcta\": \"92835\", \"all_vehicles\": 15090, \"tesla_rate\": 8.15}, {\"zip\": \"92840\", \"teslas\": 24, \"geoid\": 92840, \"income\": 64782.0, \"zcta\": \"92840\", \"all_vehicles\": 25541, \"tesla_rate\": 0.94}, {\"zip\": \"92841\", \"teslas\": 18, \"geoid\": 92841, \"income\": 57763.0, \"zcta\": \"92841\", \"all_vehicles\": 16931, \"tesla_rate\": 1.06}, {\"zip\": \"92843\", \"teslas\": 24, \"geoid\": 92843, \"income\": 56274.0, \"zcta\": \"92843\", \"all_vehicles\": 21259, \"tesla_rate\": 1.13}, {\"zip\": \"92844\", \"teslas\": 16, \"geoid\": 92844, \"income\": 56836.0, \"zcta\": \"92844\", \"all_vehicles\": 11605, \"tesla_rate\": 1.38}, {\"zip\": \"92861\", \"teslas\": 75, \"geoid\": 92861, \"income\": 143077.0, \"zcta\": \"92861\", \"all_vehicles\": 4269, \"tesla_rate\": 17.57}, {\"zip\": \"92865\", \"teslas\": 27, \"geoid\": 92865, \"income\": 97871.0, \"zcta\": \"92865\", \"all_vehicles\": 13445, \"tesla_rate\": 2.01}, {\"zip\": \"92867\", \"teslas\": 182, \"geoid\": 92867, \"income\": 87388.0, \"zcta\": \"92867\", \"all_vehicles\": 25531, \"tesla_rate\": 7.13}, {\"zip\": \"92868\", \"teslas\": 17, \"geoid\": 92868, \"income\": 62856.0, \"zcta\": \"92868\", \"all_vehicles\": 33528, \"tesla_rate\": 0.51}, {\"zip\": \"92869\", \"teslas\": 120, \"geoid\": 92869, \"income\": 96417.0, \"zcta\": \"92869\", \"all_vehicles\": 20886, \"tesla_rate\": 5.75}, {\"zip\": \"92870\", \"teslas\": 95, \"geoid\": 92870, \"income\": 88610.0, \"zcta\": \"92870\", \"all_vehicles\": 29107, \"tesla_rate\": 3.26}, {\"zip\": \"92879\", \"teslas\": 29, \"geoid\": 92879, \"income\": 61783.0, \"zcta\": \"92879\", \"all_vehicles\": 24400, \"tesla_rate\": 1.19}, {\"zip\": \"92880\", \"teslas\": 158, \"geoid\": 92880, \"income\": 100175.0, \"zcta\": \"92880\", \"all_vehicles\": 42905, \"tesla_rate\": 3.68}, {\"zip\": \"92881\", \"teslas\": 58, \"geoid\": 92881, \"income\": 94498.0, \"zcta\": \"92881\", \"all_vehicles\": 18491, \"tesla_rate\": 3.14}, {\"zip\": \"92882\", \"teslas\": 56, \"geoid\": 92882, \"income\": 70235.0, \"zcta\": \"92882\", \"all_vehicles\": 36594, \"tesla_rate\": 1.53}, {\"zip\": \"92883\", \"teslas\": 35, \"geoid\": 92883, \"income\": 99231.0, \"zcta\": \"92883\", \"all_vehicles\": 20315, \"tesla_rate\": 1.72}, {\"zip\": \"92886\", \"teslas\": 338, \"geoid\": 92886, \"income\": 119528.0, \"zcta\": \"92886\", \"all_vehicles\": 32263, \"tesla_rate\": 10.48}, {\"zip\": \"92887\", \"teslas\": 134, \"geoid\": 92887, \"income\": 133542.0, \"zcta\": \"92887\", \"all_vehicles\": 15105, \"tesla_rate\": 8.87}, {\"zip\": \"93001\", \"teslas\": 56, \"geoid\": 93001, \"income\": 62407.0, \"zcta\": \"93001\", \"all_vehicles\": 16068, \"tesla_rate\": 3.49}, {\"zip\": \"93003\", \"teslas\": 39, \"geoid\": 93003, \"income\": 74012.0, \"zcta\": \"93003\", \"all_vehicles\": 27504, \"tesla_rate\": 1.42}, {\"zip\": \"93004\", \"teslas\": 13, \"geoid\": 93004, \"income\": 80726.0, \"zcta\": \"93004\", \"all_vehicles\": 17155, \"tesla_rate\": 0.76}, {\"zip\": \"93010\", \"teslas\": 83, \"geoid\": 93010, \"income\": 90260.0, \"zcta\": \"93010\", \"all_vehicles\": 24724, \"tesla_rate\": 3.36}, {\"zip\": \"93012\", \"teslas\": 119, \"geoid\": 93012, \"income\": 102756.0, \"zcta\": \"93012\", \"all_vehicles\": 22753, \"tesla_rate\": 5.23}, {\"zip\": \"93013\", \"teslas\": 13, \"geoid\": 93013, \"income\": 72791.0, \"zcta\": \"93013\", \"all_vehicles\": 8534, \"tesla_rate\": 1.52}, {\"zip\": \"93021\", \"teslas\": 130, \"geoid\": 93021, \"income\": 101627.0, \"zcta\": \"93021\", \"all_vehicles\": 23216, \"tesla_rate\": 5.6}, {\"zip\": \"93023\", \"teslas\": 45, \"geoid\": 93023, \"income\": 71661.0, \"zcta\": \"93023\", \"all_vehicles\": 10750, \"tesla_rate\": 4.19}, {\"zip\": \"93030\", \"teslas\": 22, \"geoid\": 93030, \"income\": 64552.0, \"zcta\": \"93030\", \"all_vehicles\": 24926, \"tesla_rate\": 0.88}, {\"zip\": \"93035\", \"teslas\": 49, \"geoid\": 93035, \"income\": 85363.0, \"zcta\": \"93035\", \"all_vehicles\": 15187, \"tesla_rate\": 3.23}, {\"zip\": \"93036\", \"teslas\": 15, \"geoid\": 93036, \"income\": 65374.0, \"zcta\": \"93036\", \"all_vehicles\": 21370, \"tesla_rate\": 0.7}, {\"zip\": \"93063\", \"teslas\": 105, \"geoid\": 93063, \"income\": 86667.0, \"zcta\": \"93063\", \"all_vehicles\": 33329, \"tesla_rate\": 3.15}, {\"zip\": \"93065\", \"teslas\": 161, \"geoid\": 93065, \"income\": 97485.0, \"zcta\": \"93065\", \"all_vehicles\": 44185, \"tesla_rate\": 3.64}, {\"zip\": \"93101\", \"teslas\": 53, \"geoid\": 93101, \"income\": 54360.0, \"zcta\": \"93101\", \"all_vehicles\": 14193, \"tesla_rate\": 3.73}, {\"zip\": \"93103\", \"teslas\": 34, \"geoid\": 93103, \"income\": 83342.0, \"zcta\": \"93103\", \"all_vehicles\": 9415, \"tesla_rate\": 3.61}, {\"zip\": \"93105\", \"teslas\": 106, \"geoid\": 93105, \"income\": 88671.0, \"zcta\": \"93105\", \"all_vehicles\": 13080, \"tesla_rate\": 8.1}, {\"zip\": \"93108\", \"teslas\": 181, \"geoid\": 93108, \"income\": 134667.0, \"zcta\": \"93108\", \"all_vehicles\": 7258, \"tesla_rate\": 24.94}, {\"zip\": \"93109\", \"teslas\": 48, \"geoid\": 93109, \"income\": 97759.0, \"zcta\": \"93109\", \"all_vehicles\": 5637, \"tesla_rate\": 8.52}, {\"zip\": \"93110\", \"teslas\": 50, \"geoid\": 93110, \"income\": 81375.0, \"zcta\": \"93110\", \"all_vehicles\": 8444, \"tesla_rate\": 5.92}, {\"zip\": \"93111\", \"teslas\": 60, \"geoid\": 93111, \"income\": 107577.0, \"zcta\": \"93111\", \"all_vehicles\": 10292, \"tesla_rate\": 5.83}, {\"zip\": \"93117\", \"teslas\": 63, \"geoid\": 93117, \"income\": 61892.0, \"zcta\": \"93117\", \"all_vehicles\": 19298, \"tesla_rate\": 3.26}, {\"zip\": \"93277\", \"teslas\": 11, \"geoid\": 93277, \"income\": 55680.0, \"zcta\": \"93277\", \"all_vehicles\": 22665, \"tesla_rate\": 0.49}, {\"zip\": \"93291\", \"teslas\": 24, \"geoid\": 93291, \"income\": 51054.0, \"zcta\": \"93291\", \"all_vehicles\": 27114, \"tesla_rate\": 0.89}, {\"zip\": \"93306\", \"teslas\": 13, \"geoid\": 93306, \"income\": 52512.0, \"zcta\": \"93306\", \"all_vehicles\": 29085, \"tesla_rate\": 0.45}, {\"zip\": \"93311\", \"teslas\": 43, \"geoid\": 93311, \"income\": 92188.0, \"zcta\": \"93311\", \"all_vehicles\": 28380, \"tesla_rate\": 1.52}, {\"zip\": \"93312\", \"teslas\": 14, \"geoid\": 93312, \"income\": 94308.0, \"zcta\": \"93312\", \"all_vehicles\": 32502, \"tesla_rate\": 0.43}, {\"zip\": \"93401\", \"teslas\": 87, \"geoid\": 93401, \"income\": 59160.0, \"zcta\": \"93401\", \"all_vehicles\": 16031, \"tesla_rate\": 5.43}, {\"zip\": \"93402\", \"teslas\": 18, \"geoid\": 93402, \"income\": 73158.0, \"zcta\": \"93402\", \"all_vehicles\": 7279, \"tesla_rate\": 2.47}, {\"zip\": \"93405\", \"teslas\": 33, \"geoid\": 93405, \"income\": 44464.0, \"zcta\": \"93405\", \"all_vehicles\": 7491, \"tesla_rate\": 4.41}, {\"zip\": \"93420\", \"teslas\": 51, \"geoid\": 93420, \"income\": 77887.0, \"zcta\": \"93420\", \"all_vehicles\": 17215, \"tesla_rate\": 2.96}, {\"zip\": \"93422\", \"teslas\": 19, \"geoid\": 93422, \"income\": 75169.0, \"zcta\": \"93422\", \"all_vehicles\": 17230, \"tesla_rate\": 1.1}, {\"zip\": \"93444\", \"teslas\": 19, \"geoid\": 93444, \"income\": 79683.0, \"zcta\": \"93444\", \"all_vehicles\": 12256, \"tesla_rate\": 1.55}, {\"zip\": \"93446\", \"teslas\": 21, \"geoid\": 93446, \"income\": 65486.0, \"zcta\": \"93446\", \"all_vehicles\": 24631, \"tesla_rate\": 0.85}, {\"zip\": \"93449\", \"teslas\": 19, \"geoid\": 93449, \"income\": 77316.0, \"zcta\": \"93449\", \"all_vehicles\": 5166, \"tesla_rate\": 3.68}, {\"zip\": \"93455\", \"teslas\": 13, \"geoid\": 93455, \"income\": 78007.0, \"zcta\": \"93455\", \"all_vehicles\": 23367, \"tesla_rate\": 0.56}, {\"zip\": \"93463\", \"teslas\": 13, \"geoid\": 93463, \"income\": 76850.0, \"zcta\": \"93463\", \"all_vehicles\": 4725, \"tesla_rate\": 2.75}, {\"zip\": \"93536\", \"teslas\": 20, \"geoid\": 93536, \"income\": 72634.0, \"zcta\": \"93536\", \"all_vehicles\": 34698, \"tesla_rate\": 0.58}, {\"zip\": \"93551\", \"teslas\": 50, \"geoid\": 93551, \"income\": 87628.0, \"zcta\": \"93551\", \"all_vehicles\": 29736, \"tesla_rate\": 1.68}, {\"zip\": \"93561\", \"teslas\": 11, \"geoid\": 93561, \"income\": 63042.0, \"zcta\": \"93561\", \"all_vehicles\": 15850, \"tesla_rate\": 0.69}, {\"zip\": \"93611\", \"teslas\": 19, \"geoid\": 93611, \"income\": 84028.0, \"zcta\": \"93611\", \"all_vehicles\": 25064, \"tesla_rate\": 0.76}, {\"zip\": \"93619\", \"teslas\": 75, \"geoid\": 93619, \"income\": 115392.0, \"zcta\": \"93619\", \"all_vehicles\": 25181, \"tesla_rate\": 2.98}, {\"zip\": \"93711\", \"teslas\": 64, \"geoid\": 93711, \"income\": 71028.0, \"zcta\": \"93711\", \"all_vehicles\": 22423, \"tesla_rate\": 2.85}, {\"zip\": \"93720\", \"teslas\": 73, \"geoid\": 93720, \"income\": 80223.0, \"zcta\": \"93720\", \"all_vehicles\": 25533, \"tesla_rate\": 2.86}, {\"zip\": \"93722\", \"teslas\": 15, \"geoid\": 93722, \"income\": 54137.0, \"zcta\": \"93722\", \"all_vehicles\": 39965, \"tesla_rate\": 0.38}, {\"zip\": \"93727\", \"teslas\": 17, \"geoid\": 93727, \"income\": 50781.0, \"zcta\": \"93727\", \"all_vehicles\": 32996, \"tesla_rate\": 0.52}, {\"zip\": \"93730\", \"teslas\": 53, \"geoid\": 93730, \"income\": 118487.0, \"zcta\": \"93730\", \"all_vehicles\": 7730, \"tesla_rate\": 6.86}, {\"zip\": \"93908\", \"teslas\": 19, \"geoid\": 93908, \"income\": 127070.0, \"zcta\": \"93908\", \"all_vehicles\": 8841, \"tesla_rate\": 2.15}, {\"zip\": \"93921\", \"teslas\": 14, \"geoid\": 93921, \"income\": 88065.0, \"zcta\": \"93921\", \"all_vehicles\": 2068, \"tesla_rate\": 6.77}, {\"zip\": \"93923\", \"teslas\": 117, \"geoid\": 93923, \"income\": 92778.0, \"zcta\": \"93923\", \"all_vehicles\": 7066, \"tesla_rate\": 16.56}, {\"zip\": \"93933\", \"teslas\": 21, \"geoid\": 93933, \"income\": 61300.0, \"zcta\": \"93933\", \"all_vehicles\": 11437, \"tesla_rate\": 1.84}, {\"zip\": \"93940\", \"teslas\": 70, \"geoid\": 93940, \"income\": 77240.0, \"zcta\": \"93940\", \"all_vehicles\": 15667, \"tesla_rate\": 4.47}, {\"zip\": \"93950\", \"teslas\": 17, \"geoid\": 93950, \"income\": 81000.0, \"zcta\": \"93950\", \"all_vehicles\": 7515, \"tesla_rate\": 2.26}, {\"zip\": \"93953\", \"teslas\": 37, \"geoid\": 93953, \"income\": 130833.0, \"zcta\": \"93953\", \"all_vehicles\": 3109, \"tesla_rate\": 11.9}, {\"zip\": \"94002\", \"teslas\": 305, \"geoid\": 94002, \"income\": 125546.0, \"zcta\": \"94002\", \"all_vehicles\": 16072, \"tesla_rate\": 18.98}, {\"zip\": \"94005\", \"teslas\": 18, \"geoid\": 94005, \"income\": 109632.0, \"zcta\": \"94005\", \"all_vehicles\": 3169, \"tesla_rate\": 5.68}, {\"zip\": \"94010\", \"teslas\": 797, \"geoid\": 94010, \"income\": 135283.0, \"zcta\": \"94010\", \"all_vehicles\": 35339, \"tesla_rate\": 22.55}, {\"zip\": \"94014\", \"teslas\": 33, \"geoid\": 94014, \"income\": 85622.0, \"zcta\": \"94014\", \"all_vehicles\": 21378, \"tesla_rate\": 1.54}, {\"zip\": \"94015\", \"teslas\": 79, \"geoid\": 94015, \"income\": 86940.0, \"zcta\": \"94015\", \"all_vehicles\": 30095, \"tesla_rate\": 2.63}, {\"zip\": \"94019\", \"teslas\": 86, \"geoid\": 94019, \"income\": 119832.0, \"zcta\": \"94019\", \"all_vehicles\": 9121, \"tesla_rate\": 9.43}, {\"zip\": \"94022\", \"teslas\": 934, \"geoid\": 94022, \"income\": 208984.0, \"zcta\": \"94022\", \"all_vehicles\": 13944, \"tesla_rate\": 66.98}, {\"zip\": \"94024\", \"teslas\": 773, \"geoid\": 94024, \"income\": 220970.0, \"zcta\": \"94024\", \"all_vehicles\": 15016, \"tesla_rate\": 51.48}, {\"zip\": \"94025\", \"teslas\": 797, \"geoid\": 94025, \"income\": 139833.0, \"zcta\": \"94025\", \"all_vehicles\": 23891, \"tesla_rate\": 33.36}, {\"zip\": \"94027\", \"teslas\": 420, \"geoid\": 94027, \"income\": 250001.0, \"zcta\": \"94027\", \"all_vehicles\": 5167, \"tesla_rate\": 81.29}, {\"zip\": \"94028\", \"teslas\": 254, \"geoid\": 94028, \"income\": 244671.0, \"zcta\": \"94028\", \"all_vehicles\": 4887, \"tesla_rate\": 51.97}, {\"zip\": \"94030\", \"teslas\": 167, \"geoid\": 94030, \"income\": 109813.0, \"zcta\": \"94030\", \"all_vehicles\": 12838, \"tesla_rate\": 13.01}, {\"zip\": \"94040\", \"teslas\": 408, \"geoid\": 94040, \"income\": 120028.0, \"zcta\": \"94040\", \"all_vehicles\": 18141, \"tesla_rate\": 22.49}, {\"zip\": \"94041\", \"teslas\": 159, \"geoid\": 94041, \"income\": 121650.0, \"zcta\": \"94041\", \"all_vehicles\": 7817, \"tesla_rate\": 20.34}, {\"zip\": \"94043\", \"teslas\": 290, \"geoid\": 94043, \"income\": 118355.0, \"zcta\": \"94043\", \"all_vehicles\": 18263, \"tesla_rate\": 15.88}, {\"zip\": \"94044\", \"teslas\": 86, \"geoid\": 94044, \"income\": 106959.0, \"zcta\": \"94044\", \"all_vehicles\": 21285, \"tesla_rate\": 4.04}, {\"zip\": \"94061\", \"teslas\": 203, \"geoid\": 94061, \"income\": 99230.0, \"zcta\": \"94061\", \"all_vehicles\": 18422, \"tesla_rate\": 11.02}, {\"zip\": \"94062\", \"teslas\": 588, \"geoid\": 94062, \"income\": 146450.0, \"zcta\": \"94062\", \"all_vehicles\": 16891, \"tesla_rate\": 34.81}, {\"zip\": \"94063\", \"teslas\": 100, \"geoid\": 94063, \"income\": 64720.0, \"zcta\": \"94063\", \"all_vehicles\": 16871, \"tesla_rate\": 5.93}, {\"zip\": \"94065\", \"teslas\": 231, \"geoid\": 94065, \"income\": 160313.0, \"zcta\": \"94065\", \"all_vehicles\": 7956, \"tesla_rate\": 29.03}, {\"zip\": \"94066\", \"teslas\": 98, \"geoid\": 94066, \"income\": 94657.0, \"zcta\": \"94066\", \"all_vehicles\": 22841, \"tesla_rate\": 4.29}, {\"zip\": \"94070\", \"teslas\": 408, \"geoid\": 94070, \"income\": 153291.0, \"zcta\": \"94070\", \"all_vehicles\": 20233, \"tesla_rate\": 20.17}, {\"zip\": \"94080\", \"teslas\": 147, \"geoid\": 94080, \"income\": 92089.0, \"zcta\": \"94080\", \"all_vehicles\": 103146, \"tesla_rate\": 1.43}, {\"zip\": \"94085\", \"teslas\": 124, \"geoid\": 94085, \"income\": 103595.0, \"zcta\": \"94085\", \"all_vehicles\": 12503, \"tesla_rate\": 9.92}, {\"zip\": \"94086\", \"teslas\": 302, \"geoid\": 94086, \"income\": 118576.0, \"zcta\": \"94086\", \"all_vehicles\": 25093, \"tesla_rate\": 12.04}, {\"zip\": \"94087\", \"teslas\": 580, \"geoid\": 94087, \"income\": 137652.0, \"zcta\": \"94087\", \"all_vehicles\": 30653, \"tesla_rate\": 18.92}, {\"zip\": \"94089\", \"teslas\": 100, \"geoid\": 94089, \"income\": 101869.0, \"zcta\": \"94089\", \"all_vehicles\": 12778, \"tesla_rate\": 7.83}, {\"zip\": \"94102\", \"teslas\": 26, \"geoid\": 94102, \"income\": 33552.0, \"zcta\": \"94102\", \"all_vehicles\": 5749, \"tesla_rate\": 4.52}, {\"zip\": \"94103\", \"teslas\": 84, \"geoid\": 94103, \"income\": 49052.0, \"zcta\": \"94103\", \"all_vehicles\": 9427, \"tesla_rate\": 8.91}, {\"zip\": \"94105\", \"teslas\": 147, \"geoid\": 94105, \"income\": 199364.0, \"zcta\": \"94105\", \"all_vehicles\": 13091, \"tesla_rate\": 11.23}, {\"zip\": \"94107\", \"teslas\": 186, \"geoid\": 94107, \"income\": 143467.0, \"zcta\": \"94107\", \"all_vehicles\": 12480, \"tesla_rate\": 14.9}, {\"zip\": \"94109\", \"teslas\": 107, \"geoid\": 94109, \"income\": 79979.0, \"zcta\": \"94109\", \"all_vehicles\": 14375, \"tesla_rate\": 7.44}, {\"zip\": \"94110\", \"teslas\": 187, \"geoid\": 94110, \"income\": 109747.0, \"zcta\": \"94110\", \"all_vehicles\": 21083, \"tesla_rate\": 8.87}, {\"zip\": \"94111\", \"teslas\": 11, \"geoid\": 94111, \"income\": 99464.0, \"zcta\": \"94111\", \"all_vehicles\": 1854, \"tesla_rate\": 5.93}, {\"zip\": \"94112\", \"teslas\": 72, \"geoid\": 94112, \"income\": 82692.0, \"zcta\": \"94112\", \"all_vehicles\": 30538, \"tesla_rate\": 2.36}, {\"zip\": \"94114\", \"teslas\": 239, \"geoid\": 94114, \"income\": 143902.0, \"zcta\": \"94114\", \"all_vehicles\": 12862, \"tesla_rate\": 18.58}, {\"zip\": \"94115\", \"teslas\": 116, \"geoid\": 94115, \"income\": 103625.0, \"zcta\": \"94115\", \"all_vehicles\": 12365, \"tesla_rate\": 9.38}, {\"zip\": \"94116\", \"teslas\": 121, \"geoid\": 94116, \"income\": 101746.0, \"zcta\": \"94116\", \"all_vehicles\": 19322, \"tesla_rate\": 6.26}, {\"zip\": \"94117\", \"teslas\": 130, \"geoid\": 94117, \"income\": 132979.0, \"zcta\": \"94117\", \"all_vehicles\": 12484, \"tesla_rate\": 10.41}, {\"zip\": \"94118\", \"teslas\": 171, \"geoid\": 94118, \"income\": 102021.0, \"zcta\": \"94118\", \"all_vehicles\": 15219, \"tesla_rate\": 11.24}, {\"zip\": \"94121\", \"teslas\": 124, \"geoid\": 94121, \"income\": 87001.0, \"zcta\": \"94121\", \"all_vehicles\": 15934, \"tesla_rate\": 7.78}, {\"zip\": \"94122\", \"teslas\": 129, \"geoid\": 94122, \"income\": 102838.0, \"zcta\": \"94122\", \"all_vehicles\": 22326, \"tesla_rate\": 5.78}, {\"zip\": \"94123\", \"teslas\": 164, \"geoid\": 94123, \"income\": 134809.0, \"zcta\": \"94123\", \"all_vehicles\": 10819, \"tesla_rate\": 15.16}, {\"zip\": \"94124\", \"teslas\": 47, \"geoid\": 94124, \"income\": 55823.0, \"zcta\": \"94124\", \"all_vehicles\": 21762, \"tesla_rate\": 2.16}, {\"zip\": \"94127\", \"teslas\": 123, \"geoid\": 94127, \"income\": 151094.0, \"zcta\": \"94127\", \"all_vehicles\": 9812, \"tesla_rate\": 12.54}, {\"zip\": \"94131\", \"teslas\": 157, \"geoid\": 94131, \"income\": 119924.0, \"zcta\": \"94131\", \"all_vehicles\": 12669, \"tesla_rate\": 12.39}, {\"zip\": \"94132\", \"teslas\": 31, \"geoid\": 94132, \"income\": 72970.0, \"zcta\": \"94132\", \"all_vehicles\": 10742, \"tesla_rate\": 2.89}, {\"zip\": \"94133\", \"teslas\": 72, \"geoid\": 94133, \"income\": 66422.0, \"zcta\": \"94133\", \"all_vehicles\": 7306, \"tesla_rate\": 9.85}, {\"zip\": \"94134\", \"teslas\": 35, \"geoid\": 94134, \"income\": 71352.0, \"zcta\": \"94134\", \"all_vehicles\": 17132, \"tesla_rate\": 2.04}, {\"zip\": \"94158\", \"teslas\": 37, \"geoid\": 94158, \"income\": 133981.0, \"zcta\": \"94158\", \"all_vehicles\": 2624, \"tesla_rate\": 14.1}, {\"zip\": \"94301\", \"teslas\": 584, \"geoid\": 94301, \"income\": 146488.0, \"zcta\": \"94301\", \"all_vehicles\": 9547, \"tesla_rate\": 61.17}, {\"zip\": \"94303\", \"teslas\": 434, \"geoid\": 94303, \"income\": 98361.0, \"zcta\": \"94303\", \"all_vehicles\": 22818, \"tesla_rate\": 19.02}, {\"zip\": \"94304\", \"teslas\": 28, \"geoid\": 94304, \"income\": 103648.0, \"zcta\": \"94304\", \"all_vehicles\": 1957, \"tesla_rate\": 14.31}, {\"zip\": \"94305\", \"teslas\": 44, \"geoid\": 94305, \"income\": 61173.0, \"zcta\": \"94305\", \"all_vehicles\": 3467, \"tesla_rate\": 12.69}, {\"zip\": \"94306\", \"teslas\": 479, \"geoid\": 94306, \"income\": 125553.0, \"zcta\": \"94306\", \"all_vehicles\": 14826, \"tesla_rate\": 32.31}, {\"zip\": \"94401\", \"teslas\": 64, \"geoid\": 94401, \"income\": 81608.0, \"zcta\": \"94401\", \"all_vehicles\": 16177, \"tesla_rate\": 3.96}, {\"zip\": \"94402\", \"teslas\": 297, \"geoid\": 94402, \"income\": 140186.0, \"zcta\": \"94402\", \"all_vehicles\": 15529, \"tesla_rate\": 19.13}, {\"zip\": \"94403\", \"teslas\": 244, \"geoid\": 94403, \"income\": 112935.0, \"zcta\": \"94403\", \"all_vehicles\": 23827, \"tesla_rate\": 10.24}, {\"zip\": \"94404\", \"teslas\": 320, \"geoid\": 94404, \"income\": 134056.0, \"zcta\": \"94404\", \"all_vehicles\": 21427, \"tesla_rate\": 14.93}, {\"zip\": \"94501\", \"teslas\": 183, \"geoid\": 94501, \"income\": 81626.0, \"zcta\": \"94501\", \"all_vehicles\": 28466, \"tesla_rate\": 6.43}, {\"zip\": \"94502\", \"teslas\": 82, \"geoid\": 94502, \"income\": 122368.0, \"zcta\": \"94502\", \"all_vehicles\": 8035, \"tesla_rate\": 10.21}, {\"zip\": \"94503\", \"teslas\": 21, \"geoid\": 94503, \"income\": 91802.0, \"zcta\": \"94503\", \"all_vehicles\": 11453, \"tesla_rate\": 1.83}, {\"zip\": \"94505\", \"teslas\": 16, \"geoid\": 94505, \"income\": 114886.0, \"zcta\": \"94505\", \"all_vehicles\": 9066, \"tesla_rate\": 1.76}, {\"zip\": \"94506\", \"teslas\": 429, \"geoid\": 94506, \"income\": 186378.0, \"zcta\": \"94506\", \"all_vehicles\": 17376, \"tesla_rate\": 24.69}, {\"zip\": \"94507\", \"teslas\": 309, \"geoid\": 94507, \"income\": 202336.0, \"zcta\": \"94507\", \"all_vehicles\": 11352, \"tesla_rate\": 27.22}, {\"zip\": \"94510\", \"teslas\": 59, \"geoid\": 94510, \"income\": 95291.0, \"zcta\": \"94510\", \"all_vehicles\": 18425, \"tesla_rate\": 3.2}, {\"zip\": \"94513\", \"teslas\": 116, \"geoid\": 94513, \"income\": 96827.0, \"zcta\": \"94513\", \"all_vehicles\": 36530, \"tesla_rate\": 3.18}, {\"zip\": \"94517\", \"teslas\": 18, \"geoid\": 94517, \"income\": 140361.0, \"zcta\": \"94517\", \"all_vehicles\": 7972, \"tesla_rate\": 2.26}, {\"zip\": \"94518\", \"teslas\": 18, \"geoid\": 94518, \"income\": 84896.0, \"zcta\": \"94518\", \"all_vehicles\": 13951, \"tesla_rate\": 1.29}, {\"zip\": \"94519\", \"teslas\": 11, \"geoid\": 94519, \"income\": 79390.0, \"zcta\": \"94519\", \"all_vehicles\": 9284, \"tesla_rate\": 1.18}, {\"zip\": \"94521\", \"teslas\": 53, \"geoid\": 94521, \"income\": 94637.0, \"zcta\": \"94521\", \"all_vehicles\": 22169, \"tesla_rate\": 2.39}, {\"zip\": \"94523\", \"teslas\": 61, \"geoid\": 94523, \"income\": 100889.0, \"zcta\": \"94523\", \"all_vehicles\": 19110, \"tesla_rate\": 3.19}, {\"zip\": \"94526\", \"teslas\": 341, \"geoid\": 94526, \"income\": 141761.0, \"zcta\": \"94526\", \"all_vehicles\": 21992, \"tesla_rate\": 15.51}, {\"zip\": \"94530\", \"teslas\": 30, \"geoid\": 94530, \"income\": 96192.0, \"zcta\": \"94530\", \"all_vehicles\": 12211, \"tesla_rate\": 2.46}, {\"zip\": \"94531\", \"teslas\": 23, \"geoid\": 94531, \"income\": 93466.0, \"zcta\": \"94531\", \"all_vehicles\": 22439, \"tesla_rate\": 1.03}, {\"zip\": \"94533\", \"teslas\": 31, \"geoid\": 94533, \"income\": 62612.0, \"zcta\": \"94533\", \"all_vehicles\": 34667, \"tesla_rate\": 0.89}, {\"zip\": \"94534\", \"teslas\": 116, \"geoid\": 94534, \"income\": 105033.0, \"zcta\": \"94534\", \"all_vehicles\": 25051, \"tesla_rate\": 4.63}, {\"zip\": \"94536\", \"teslas\": 404, \"geoid\": 94536, \"income\": 112587.0, \"zcta\": \"94536\", \"all_vehicles\": 35713, \"tesla_rate\": 11.31}, {\"zip\": \"94538\", \"teslas\": 798, \"geoid\": 94538, \"income\": 101065.0, \"zcta\": \"94538\", \"all_vehicles\": 36615, \"tesla_rate\": 21.79}, {\"zip\": \"94539\", \"teslas\": 1052, \"geoid\": 94539, \"income\": 160542.0, \"zcta\": \"94539\", \"all_vehicles\": 31621, \"tesla_rate\": 33.27}, {\"zip\": \"94541\", \"teslas\": 50, \"geoid\": 94541, \"income\": 67819.0, \"zcta\": \"94541\", \"all_vehicles\": 28459, \"tesla_rate\": 1.76}, {\"zip\": \"94542\", \"teslas\": 111, \"geoid\": 94542, \"income\": 103018.0, \"zcta\": \"94542\", \"all_vehicles\": 7629, \"tesla_rate\": 14.55}, {\"zip\": \"94544\", \"teslas\": 80, \"geoid\": 94544, \"income\": 70207.0, \"zcta\": \"94544\", \"all_vehicles\": 35455, \"tesla_rate\": 2.26}, {\"zip\": \"94545\", \"teslas\": 72, \"geoid\": 94545, \"income\": 84579.0, \"zcta\": \"94545\", \"all_vehicles\": 19785, \"tesla_rate\": 3.64}, {\"zip\": \"94546\", \"teslas\": 71, \"geoid\": 94546, \"income\": 85492.0, \"zcta\": \"94546\", \"all_vehicles\": 22928, \"tesla_rate\": 3.1}, {\"zip\": \"94547\", \"teslas\": 62, \"geoid\": 94547, \"income\": 107221.0, \"zcta\": \"94547\", \"all_vehicles\": 14367, \"tesla_rate\": 4.32}, {\"zip\": \"94549\", \"teslas\": 343, \"geoid\": 94549, \"income\": 155225.0, \"zcta\": \"94549\", \"all_vehicles\": 17675, \"tesla_rate\": 19.41}, {\"zip\": \"94550\", \"teslas\": 212, \"geoid\": 94550, \"income\": 114930.0, \"zcta\": \"94550\", \"all_vehicles\": 30331, \"tesla_rate\": 6.99}, {\"zip\": \"94551\", \"teslas\": 68, \"geoid\": 94551, \"income\": 108729.0, \"zcta\": \"94551\", \"all_vehicles\": 24465, \"tesla_rate\": 2.78}, {\"zip\": \"94552\", \"teslas\": 117, \"geoid\": 94552, \"income\": 133321.0, \"zcta\": \"94552\", \"all_vehicles\": 9332, \"tesla_rate\": 12.54}, {\"zip\": \"94553\", \"teslas\": 69, \"geoid\": 94553, \"income\": 89703.0, \"zcta\": \"94553\", \"all_vehicles\": 28680, \"tesla_rate\": 2.41}, {\"zip\": \"94555\", \"teslas\": 817, \"geoid\": 94555, \"income\": 132823.0, \"zcta\": \"94555\", \"all_vehicles\": 19641, \"tesla_rate\": 41.6}, {\"zip\": \"94556\", \"teslas\": 121, \"geoid\": 94556, \"income\": 139904.0, \"zcta\": \"94556\", \"all_vehicles\": 9060, \"tesla_rate\": 13.36}, {\"zip\": \"94558\", \"teslas\": 196, \"geoid\": 94558, \"income\": 83491.0, \"zcta\": \"94558\", \"all_vehicles\": 36311, \"tesla_rate\": 5.4}, {\"zip\": \"94559\", \"teslas\": 32, \"geoid\": 94559, \"income\": 68725.0, \"zcta\": \"94559\", \"all_vehicles\": 13905, \"tesla_rate\": 2.3}, {\"zip\": \"94560\", \"teslas\": 182, \"geoid\": 94560, \"income\": 96817.0, \"zcta\": \"94560\", \"all_vehicles\": 24473, \"tesla_rate\": 7.44}, {\"zip\": \"94561\", \"teslas\": 17, \"geoid\": 94561, \"income\": 88795.0, \"zcta\": \"94561\", \"all_vehicles\": 21769, \"tesla_rate\": 0.78}, {\"zip\": \"94563\", \"teslas\": 349, \"geoid\": 94563, \"income\": 185066.0, \"zcta\": \"94563\", \"all_vehicles\": 12586, \"tesla_rate\": 27.73}, {\"zip\": \"94564\", \"teslas\": 14, \"geoid\": 94564, \"income\": 83534.0, \"zcta\": \"94564\", \"all_vehicles\": 10192, \"tesla_rate\": 1.37}, {\"zip\": \"94565\", \"teslas\": 48, \"geoid\": 94565, \"income\": 62255.0, \"zcta\": \"94565\", \"all_vehicles\": 42778, \"tesla_rate\": 1.12}, {\"zip\": \"94566\", \"teslas\": 545, \"geoid\": 94566, \"income\": 139628.0, \"zcta\": \"94566\", \"all_vehicles\": 27620, \"tesla_rate\": 19.73}, {\"zip\": \"94568\", \"teslas\": 732, \"geoid\": 94568, \"income\": 133769.0, \"zcta\": \"94568\", \"all_vehicles\": 35720, \"tesla_rate\": 20.49}, {\"zip\": \"94574\", \"teslas\": 54, \"geoid\": 94574, \"income\": 83720.0, \"zcta\": \"94574\", \"all_vehicles\": 5468, \"tesla_rate\": 9.88}, {\"zip\": \"94577\", \"teslas\": 58, \"geoid\": 94577, \"income\": 67686.0, \"zcta\": \"94577\", \"all_vehicles\": 27116, \"tesla_rate\": 2.14}, {\"zip\": \"94578\", \"teslas\": 18, \"geoid\": 94578, \"income\": 52419.0, \"zcta\": \"94578\", \"all_vehicles\": 17222, \"tesla_rate\": 1.05}, {\"zip\": \"94579\", \"teslas\": 24, \"geoid\": 94579, \"income\": 78054.0, \"zcta\": \"94579\", \"all_vehicles\": 10975, \"tesla_rate\": 2.19}, {\"zip\": \"94580\", \"teslas\": 14, \"geoid\": 94580, \"income\": 85021.0, \"zcta\": \"94580\", \"all_vehicles\": 13987, \"tesla_rate\": 1.0}, {\"zip\": \"94582\", \"teslas\": 790, \"geoid\": 94582, \"income\": 149859.0, \"zcta\": \"94582\", \"all_vehicles\": 26027, \"tesla_rate\": 30.35}, {\"zip\": \"94583\", \"teslas\": 302, \"geoid\": 94583, \"income\": 137719.0, \"zcta\": \"94583\", \"all_vehicles\": 24278, \"tesla_rate\": 12.44}, {\"zip\": \"94587\", \"teslas\": 314, \"geoid\": 94587, \"income\": 95625.0, \"zcta\": \"94587\", \"all_vehicles\": 36755, \"tesla_rate\": 8.54}, {\"zip\": \"94588\", \"teslas\": 302, \"geoid\": 94588, \"income\": 136734.0, \"zcta\": \"94588\", \"all_vehicles\": 22161, \"tesla_rate\": 13.63}, {\"zip\": \"94591\", \"teslas\": 52, \"geoid\": 94591, \"income\": 78628.0, \"zcta\": \"94591\", \"all_vehicles\": 28120, \"tesla_rate\": 1.85}, {\"zip\": \"94595\", \"teslas\": 58, \"geoid\": 94595, \"income\": 66638.0, \"zcta\": \"94595\", \"all_vehicles\": 9873, \"tesla_rate\": 5.87}, {\"zip\": \"94596\", \"teslas\": 110, \"geoid\": 94596, \"income\": 88527.0, \"zcta\": \"94596\", \"all_vehicles\": 13666, \"tesla_rate\": 8.05}, {\"zip\": \"94597\", \"teslas\": 82, \"geoid\": 94597, \"income\": 98343.0, \"zcta\": \"94597\", \"all_vehicles\": 12540, \"tesla_rate\": 6.54}, {\"zip\": \"94598\", \"teslas\": 157, \"geoid\": 94598, \"income\": 128299.0, \"zcta\": \"94598\", \"all_vehicles\": 16123, \"tesla_rate\": 9.74}, {\"zip\": \"94602\", \"teslas\": 52, \"geoid\": 94602, \"income\": 78347.0, \"zcta\": \"94602\", \"all_vehicles\": 13335, \"tesla_rate\": 3.9}, {\"zip\": \"94605\", \"teslas\": 65, \"geoid\": 94605, \"income\": 66211.0, \"zcta\": \"94605\", \"all_vehicles\": 17551, \"tesla_rate\": 3.7}, {\"zip\": \"94607\", \"teslas\": 40, \"geoid\": 94607, \"income\": 41870.0, \"zcta\": \"94607\", \"all_vehicles\": 9679, \"tesla_rate\": 4.13}, {\"zip\": \"94608\", \"teslas\": 57, \"geoid\": 94608, \"income\": 68352.0, \"zcta\": \"94608\", \"all_vehicles\": 12132, \"tesla_rate\": 4.7}, {\"zip\": \"94609\", \"teslas\": 22, \"geoid\": 94609, \"income\": 73765.0, \"zcta\": \"94609\", \"all_vehicles\": 7630, \"tesla_rate\": 2.88}, {\"zip\": \"94610\", \"teslas\": 140, \"geoid\": 94610, \"income\": 87059.0, \"zcta\": \"94610\", \"all_vehicles\": 14084, \"tesla_rate\": 9.94}, {\"zip\": \"94611\", \"teslas\": 395, \"geoid\": 94611, \"income\": 120601.0, \"zcta\": \"94611\", \"all_vehicles\": 20685, \"tesla_rate\": 19.1}, {\"zip\": \"94612\", \"teslas\": 15, \"geoid\": 94612, \"income\": 42880.0, \"zcta\": \"94612\", \"all_vehicles\": 6982, \"tesla_rate\": 2.15}, {\"zip\": \"94618\", \"teslas\": 145, \"geoid\": 94618, \"income\": 133125.0, \"zcta\": \"94618\", \"all_vehicles\": 8394, \"tesla_rate\": 17.27}, {\"zip\": \"94619\", \"teslas\": 38, \"geoid\": 94619, \"income\": 82994.0, \"zcta\": \"94619\", \"all_vehicles\": 11243, \"tesla_rate\": 3.38}, {\"zip\": \"94702\", \"teslas\": 14, \"geoid\": 94702, \"income\": 77699.0, \"zcta\": \"94702\", \"all_vehicles\": 6489, \"tesla_rate\": 2.16}, {\"zip\": \"94703\", \"teslas\": 16, \"geoid\": 94703, \"income\": 75181.0, \"zcta\": \"94703\", \"all_vehicles\": 6651, \"tesla_rate\": 2.41}, {\"zip\": \"94705\", \"teslas\": 123, \"geoid\": 94705, \"income\": 116250.0, \"zcta\": \"94705\", \"all_vehicles\": 6446, \"tesla_rate\": 19.08}, {\"zip\": \"94706\", \"teslas\": 22, \"geoid\": 94706, \"income\": 89425.0, \"zcta\": \"94706\", \"all_vehicles\": 7929, \"tesla_rate\": 2.77}, {\"zip\": \"94707\", \"teslas\": 75, \"geoid\": 94707, \"income\": 143297.0, \"zcta\": \"94707\", \"all_vehicles\": 6613, \"tesla_rate\": 11.34}, {\"zip\": \"94708\", \"teslas\": 90, \"geoid\": 94708, \"income\": 159046.0, \"zcta\": \"94708\", \"all_vehicles\": 5869, \"tesla_rate\": 15.33}, {\"zip\": \"94801\", \"teslas\": 18, \"geoid\": 94801, \"income\": 48822.0, \"zcta\": \"94801\", \"all_vehicles\": 12148, \"tesla_rate\": 1.48}, {\"zip\": \"94803\", \"teslas\": 12, \"geoid\": 94803, \"income\": 82788.0, \"zcta\": \"94803\", \"all_vehicles\": 12973, \"tesla_rate\": 0.92}, {\"zip\": \"94804\", \"teslas\": 18, \"geoid\": 94804, \"income\": 51918.0, \"zcta\": \"94804\", \"all_vehicles\": 17834, \"tesla_rate\": 1.01}, {\"zip\": \"94806\", \"teslas\": 19, \"geoid\": 94806, \"income\": 56605.0, \"zcta\": \"94806\", \"all_vehicles\": 26294, \"tesla_rate\": 0.72}, {\"zip\": \"94901\", \"teslas\": 198, \"geoid\": 94901, \"income\": 85889.0, \"zcta\": \"94901\", \"all_vehicles\": 21992, \"tesla_rate\": 9.0}, {\"zip\": \"94903\", \"teslas\": 113, \"geoid\": 94903, \"income\": 99071.0, \"zcta\": \"94903\", \"all_vehicles\": 16462, \"tesla_rate\": 6.86}, {\"zip\": \"94904\", \"teslas\": 167, \"geoid\": 94904, \"income\": 116469.0, \"zcta\": \"94904\", \"all_vehicles\": 7508, \"tesla_rate\": 22.24}, {\"zip\": \"94920\", \"teslas\": 285, \"geoid\": 94920, \"income\": 159423.0, \"zcta\": \"94920\", \"all_vehicles\": 8456, \"tesla_rate\": 33.7}, {\"zip\": \"94925\", \"teslas\": 41, \"geoid\": 94925, \"income\": 134902.0, \"zcta\": \"94925\", \"all_vehicles\": 5883, \"tesla_rate\": 6.97}, {\"zip\": \"94930\", \"teslas\": 14, \"geoid\": 94930, \"income\": 99803.0, \"zcta\": \"94930\", \"all_vehicles\": 4412, \"tesla_rate\": 3.17}, {\"zip\": \"94939\", \"teslas\": 63, \"geoid\": 94939, \"income\": 99980.0, \"zcta\": \"94939\", \"all_vehicles\": 4266, \"tesla_rate\": 14.77}, {\"zip\": \"94941\", \"teslas\": 358, \"geoid\": 94941, \"income\": 133462.0, \"zcta\": \"94941\", \"all_vehicles\": 18317, \"tesla_rate\": 19.54}, {\"zip\": \"94945\", \"teslas\": 59, \"geoid\": 94945, \"income\": 93765.0, \"zcta\": \"94945\", \"all_vehicles\": 10295, \"tesla_rate\": 5.73}, {\"zip\": \"94947\", \"teslas\": 46, \"geoid\": 94947, \"income\": 97628.0, \"zcta\": \"94947\", \"all_vehicles\": 13466, \"tesla_rate\": 3.42}, {\"zip\": \"94949\", \"teslas\": 67, \"geoid\": 94949, \"income\": 83164.0, \"zcta\": \"94949\", \"all_vehicles\": 10482, \"tesla_rate\": 6.39}, {\"zip\": \"94952\", \"teslas\": 90, \"geoid\": 94952, \"income\": 82619.0, \"zcta\": \"94952\", \"all_vehicles\": 18860, \"tesla_rate\": 4.77}, {\"zip\": \"94954\", \"teslas\": 25, \"geoid\": 94954, \"income\": 86953.0, \"zcta\": \"94954\", \"all_vehicles\": 21319, \"tesla_rate\": 1.17}, {\"zip\": \"94957\", \"teslas\": 27, \"geoid\": 94957, \"income\": 243214.0, \"zcta\": \"94957\", \"all_vehicles\": 1437, \"tesla_rate\": 18.79}, {\"zip\": \"94960\", \"teslas\": 91, \"geoid\": 94960, \"income\": 123861.0, \"zcta\": \"94960\", \"all_vehicles\": 8385, \"tesla_rate\": 10.85}, {\"zip\": \"94965\", \"teslas\": 58, \"geoid\": 94965, \"income\": 101947.0, \"zcta\": \"94965\", \"all_vehicles\": 6413, \"tesla_rate\": 9.04}, {\"zip\": \"95003\", \"teslas\": 102, \"geoid\": 95003, \"income\": 91500.0, \"zcta\": \"95003\", \"all_vehicles\": 13733, \"tesla_rate\": 7.43}, {\"zip\": \"95006\", \"teslas\": 11, \"geoid\": 95006, \"income\": 80991.0, \"zcta\": \"95006\", \"all_vehicles\": 4730, \"tesla_rate\": 2.33}, {\"zip\": \"95008\", \"teslas\": 316, \"geoid\": 95008, \"income\": 106536.0, \"zcta\": \"95008\", \"all_vehicles\": 27397, \"tesla_rate\": 11.53}, {\"zip\": \"95010\", \"teslas\": 13, \"geoid\": 95010, \"income\": 69590.0, \"zcta\": \"95010\", \"all_vehicles\": 5204, \"tesla_rate\": 2.5}, {\"zip\": \"95014\", \"teslas\": 953, \"geoid\": 95014, \"income\": 150529.0, \"zcta\": \"95014\", \"all_vehicles\": 34630, \"tesla_rate\": 27.52}, {\"zip\": \"95020\", \"teslas\": 170, \"geoid\": 95020, \"income\": 90144.0, \"zcta\": \"95020\", \"all_vehicles\": 34038, \"tesla_rate\": 4.99}, {\"zip\": \"95023\", \"teslas\": 27, \"geoid\": 95023, \"income\": 82935.0, \"zcta\": \"95023\", \"all_vehicles\": 27819, \"tesla_rate\": 0.97}, {\"zip\": \"95030\", \"teslas\": 423, \"geoid\": 95030, \"income\": 180222.0, \"zcta\": \"95030\", \"all_vehicles\": 9396, \"tesla_rate\": 45.02}, {\"zip\": \"95032\", \"teslas\": 484, \"geoid\": 95032, \"income\": 129177.0, \"zcta\": \"95032\", \"all_vehicles\": 17117, \"tesla_rate\": 28.28}, {\"zip\": \"95033\", \"teslas\": 105, \"geoid\": 95033, \"income\": 147619.0, \"zcta\": \"95033\", \"all_vehicles\": 5864, \"tesla_rate\": 17.91}, {\"zip\": \"95035\", \"teslas\": 486, \"geoid\": 95035, \"income\": 110659.0, \"zcta\": \"95035\", \"all_vehicles\": 41529, \"tesla_rate\": 11.7}, {\"zip\": \"95037\", \"teslas\": 395, \"geoid\": 95037, \"income\": 108554.0, \"zcta\": \"95037\", \"all_vehicles\": 30818, \"tesla_rate\": 12.82}, {\"zip\": \"95050\", \"teslas\": 156, \"geoid\": 95050, \"income\": 84269.0, \"zcta\": \"95050\", \"all_vehicles\": 20651, \"tesla_rate\": 7.55}, {\"zip\": \"95051\", \"teslas\": 354, \"geoid\": 95051, \"income\": 113021.0, \"zcta\": \"95051\", \"all_vehicles\": 33162, \"tesla_rate\": 10.67}, {\"zip\": \"95054\", \"teslas\": 203, \"geoid\": 95054, \"income\": 140890.0, \"zcta\": \"95054\", \"all_vehicles\": 14768, \"tesla_rate\": 13.75}, {\"zip\": \"95060\", \"teslas\": 183, \"geoid\": 95060, \"income\": 65237.0, \"zcta\": \"95060\", \"all_vehicles\": 19850, \"tesla_rate\": 9.22}, {\"zip\": \"95062\", \"teslas\": 44, \"geoid\": 95062, \"income\": 69472.0, \"zcta\": \"95062\", \"all_vehicles\": 16504, \"tesla_rate\": 2.67}, {\"zip\": \"95065\", \"teslas\": 16, \"geoid\": 95065, \"income\": 91957.0, \"zcta\": \"95065\", \"all_vehicles\": 4097, \"tesla_rate\": 3.91}, {\"zip\": \"95066\", \"teslas\": 72, \"geoid\": 95066, \"income\": 102924.0, \"zcta\": \"95066\", \"all_vehicles\": 8680, \"tesla_rate\": 8.29}, {\"zip\": \"95070\", \"teslas\": 1065, \"geoid\": 95070, \"income\": 173739.0, \"zcta\": \"95070\", \"all_vehicles\": 21511, \"tesla_rate\": 49.51}, {\"zip\": \"95073\", \"teslas\": 16, \"geoid\": 95073, \"income\": 86169.0, \"zcta\": \"95073\", \"all_vehicles\": 6106, \"tesla_rate\": 2.62}, {\"zip\": \"95076\", \"teslas\": 48, \"geoid\": 95076, \"income\": 61211.0, \"zcta\": \"95076\", \"all_vehicles\": 35325, \"tesla_rate\": 1.36}, {\"zip\": \"95110\", \"teslas\": 61, \"geoid\": 95110, \"income\": 76250.0, \"zcta\": \"95110\", \"all_vehicles\": 9542, \"tesla_rate\": 6.39}, {\"zip\": \"95111\", \"teslas\": 76, \"geoid\": 95111, \"income\": 66549.0, \"zcta\": \"95111\", \"all_vehicles\": 27331, \"tesla_rate\": 2.78}, {\"zip\": \"95112\", \"teslas\": 112, \"geoid\": 95112, \"income\": 60569.0, \"zcta\": \"95112\", \"all_vehicles\": 27407, \"tesla_rate\": 4.09}, {\"zip\": \"95113\", \"teslas\": 36, \"geoid\": 95113, \"income\": 114539.0, \"zcta\": \"95113\", \"all_vehicles\": 1458, \"tesla_rate\": 24.69}, {\"zip\": \"95116\", \"teslas\": 21, \"geoid\": 95116, \"income\": 56299.0, \"zcta\": \"95116\", \"all_vehicles\": 19873, \"tesla_rate\": 1.06}, {\"zip\": \"95117\", \"teslas\": 79, \"geoid\": 95117, \"income\": 82279.0, \"zcta\": \"95117\", \"all_vehicles\": 14252, \"tesla_rate\": 5.54}, {\"zip\": \"95118\", \"teslas\": 131, \"geoid\": 95118, \"income\": 101780.0, \"zcta\": \"95118\", \"all_vehicles\": 17195, \"tesla_rate\": 7.62}, {\"zip\": \"95119\", \"teslas\": 12, \"geoid\": 95119, \"income\": 120071.0, \"zcta\": \"95119\", \"all_vehicles\": 5682, \"tesla_rate\": 2.11}, {\"zip\": \"95120\", \"teslas\": 612, \"geoid\": 95120, \"income\": 171908.0, \"zcta\": \"95120\", \"all_vehicles\": 24427, \"tesla_rate\": 25.05}, {\"zip\": \"95121\", \"teslas\": 146, \"geoid\": 95121, \"income\": 94818.0, \"zcta\": \"95121\", \"all_vehicles\": 19205, \"tesla_rate\": 7.6}, {\"zip\": \"95122\", \"teslas\": 18, \"geoid\": 95122, \"income\": 66606.0, \"zcta\": \"95122\", \"all_vehicles\": 23175, \"tesla_rate\": 0.78}, {\"zip\": \"95123\", \"teslas\": 250, \"geoid\": 95123, \"income\": 102599.0, \"zcta\": \"95123\", \"all_vehicles\": 35459, \"tesla_rate\": 7.05}, {\"zip\": \"95124\", \"teslas\": 338, \"geoid\": 95124, \"income\": 131250.0, \"zcta\": \"95124\", \"all_vehicles\": 27239, \"tesla_rate\": 12.41}, {\"zip\": \"95125\", \"teslas\": 510, \"geoid\": 95125, \"income\": 114386.0, \"zcta\": \"95125\", \"all_vehicles\": 29448, \"tesla_rate\": 17.32}, {\"zip\": \"95126\", \"teslas\": 185, \"geoid\": 95126, \"income\": 85489.0, \"zcta\": \"95126\", \"all_vehicles\": 18194, \"tesla_rate\": 10.17}, {\"zip\": \"95127\", \"teslas\": 75, \"geoid\": 95127, \"income\": 84239.0, \"zcta\": \"95127\", \"all_vehicles\": 28569, \"tesla_rate\": 2.63}, {\"zip\": \"95128\", \"teslas\": 135, \"geoid\": 95128, \"income\": 80916.0, \"zcta\": \"95128\", \"all_vehicles\": 16867, \"tesla_rate\": 8.0}, {\"zip\": \"95129\", \"teslas\": 335, \"geoid\": 95129, \"income\": 131976.0, \"zcta\": \"95129\", \"all_vehicles\": 22286, \"tesla_rate\": 15.03}, {\"zip\": \"95130\", \"teslas\": 60, \"geoid\": 95130, \"income\": 106477.0, \"zcta\": \"95130\", \"all_vehicles\": 7097, \"tesla_rate\": 8.45}, {\"zip\": \"95131\", \"teslas\": 220, \"geoid\": 95131, \"income\": 114675.0, \"zcta\": \"95131\", \"all_vehicles\": 20249, \"tesla_rate\": 10.86}, {\"zip\": \"95132\", \"teslas\": 154, \"geoid\": 95132, \"income\": 102868.0, \"zcta\": \"95132\", \"all_vehicles\": 21898, \"tesla_rate\": 7.03}, {\"zip\": \"95133\", \"teslas\": 91, \"geoid\": 95133, \"income\": 79043.0, \"zcta\": \"95133\", \"all_vehicles\": 15126, \"tesla_rate\": 6.02}, {\"zip\": \"95134\", \"teslas\": 208, \"geoid\": 95134, \"income\": 132891.0, \"zcta\": \"95134\", \"all_vehicles\": 17514, \"tesla_rate\": 11.88}, {\"zip\": \"95135\", \"teslas\": 345, \"geoid\": 95135, \"income\": 137067.0, \"zcta\": \"95135\", \"all_vehicles\": 12694, \"tesla_rate\": 27.18}, {\"zip\": \"95136\", \"teslas\": 160, \"geoid\": 95136, \"income\": 98340.0, \"zcta\": \"95136\", \"all_vehicles\": 25197, \"tesla_rate\": 6.35}, {\"zip\": \"95138\", \"teslas\": 442, \"geoid\": 95138, \"income\": 159311.0, \"zcta\": \"95138\", \"all_vehicles\": 11723, \"tesla_rate\": 37.7}, {\"zip\": \"95139\", \"teslas\": 15, \"geoid\": 95139, \"income\": 125855.0, \"zcta\": \"95139\", \"all_vehicles\": 3784, \"tesla_rate\": 3.96}, {\"zip\": \"95148\", \"teslas\": 210, \"geoid\": 95148, \"income\": 120088.0, \"zcta\": \"95148\", \"all_vehicles\": 25096, \"tesla_rate\": 8.37}, {\"zip\": \"95209\", \"teslas\": 13, \"geoid\": 95209, \"income\": 74645.0, \"zcta\": \"95209\", \"all_vehicles\": 19479, \"tesla_rate\": 0.67}, {\"zip\": \"95219\", \"teslas\": 51, \"geoid\": 95219, \"income\": 81049.0, \"zcta\": \"95219\", \"all_vehicles\": 15012, \"tesla_rate\": 3.4}, {\"zip\": \"95304\", \"teslas\": 12, \"geoid\": 95304, \"income\": 85035.0, \"zcta\": \"95304\", \"all_vehicles\": 8590, \"tesla_rate\": 1.4}, {\"zip\": \"95330\", \"teslas\": 12, \"geoid\": 95330, \"income\": 72398.0, \"zcta\": \"95330\", \"all_vehicles\": 13232, \"tesla_rate\": 0.91}, {\"zip\": \"95337\", \"teslas\": 14, \"geoid\": 95337, \"income\": 78064.0, \"zcta\": \"95337\", \"all_vehicles\": 21137, \"tesla_rate\": 0.66}, {\"zip\": \"95340\", \"teslas\": 11, \"geoid\": 95340, \"income\": 51275.0, \"zcta\": \"95340\", \"all_vehicles\": 14359, \"tesla_rate\": 0.77}, {\"zip\": \"95355\", \"teslas\": 12, \"geoid\": 95355, \"income\": 61570.0, \"zcta\": \"95355\", \"all_vehicles\": 27340, \"tesla_rate\": 0.44}, {\"zip\": \"95356\", \"teslas\": 46, \"geoid\": 95356, \"income\": 67415.0, \"zcta\": \"95356\", \"all_vehicles\": 18639, \"tesla_rate\": 2.47}, {\"zip\": \"95376\", \"teslas\": 12, \"geoid\": 95376, \"income\": 70501.0, \"zcta\": \"95376\", \"all_vehicles\": 25926, \"tesla_rate\": 0.46}, {\"zip\": \"95377\", \"teslas\": 34, \"geoid\": 95377, \"income\": 99411.0, \"zcta\": \"95377\", \"all_vehicles\": 18564, \"tesla_rate\": 1.83}, {\"zip\": \"95391\", \"teslas\": 94, \"geoid\": 95391, \"income\": 120196.0, \"zcta\": \"95391\", \"all_vehicles\": 9598, \"tesla_rate\": 9.79}, {\"zip\": \"95403\", \"teslas\": 39, \"geoid\": 95403, \"income\": 68550.0, \"zcta\": \"95403\", \"all_vehicles\": 21319, \"tesla_rate\": 1.83}, {\"zip\": \"95404\", \"teslas\": 104, \"geoid\": 95404, \"income\": 72272.0, \"zcta\": \"95404\", \"all_vehicles\": 19139, \"tesla_rate\": 5.43}, {\"zip\": \"95405\", \"teslas\": 17, \"geoid\": 95405, \"income\": 82274.0, \"zcta\": \"95405\", \"all_vehicles\": 11527, \"tesla_rate\": 1.47}, {\"zip\": \"95409\", \"teslas\": 63, \"geoid\": 95409, \"income\": 69660.0, \"zcta\": \"95409\", \"all_vehicles\": 14699, \"tesla_rate\": 4.29}, {\"zip\": \"95448\", \"teslas\": 63, \"geoid\": 95448, \"income\": 78515.0, \"zcta\": \"95448\", \"all_vehicles\": 10833, \"tesla_rate\": 5.82}, {\"zip\": \"95472\", \"teslas\": 76, \"geoid\": 95472, \"income\": 78251.0, \"zcta\": \"95472\", \"all_vehicles\": 15216, \"tesla_rate\": 4.99}, {\"zip\": \"95476\", \"teslas\": 125, \"geoid\": 95476, \"income\": 72716.0, \"zcta\": \"95476\", \"all_vehicles\": 17942, \"tesla_rate\": 6.97}, {\"zip\": \"95492\", \"teslas\": 32, \"geoid\": 95492, \"income\": 91077.0, \"zcta\": \"95492\", \"all_vehicles\": 15650, \"tesla_rate\": 2.04}, {\"zip\": \"95608\", \"teslas\": 78, \"geoid\": 95608, \"income\": 58433.0, \"zcta\": \"95608\", \"all_vehicles\": 29213, \"tesla_rate\": 2.67}, {\"zip\": \"95616\", \"teslas\": 54, \"geoid\": 95616, \"income\": 50000.0, \"zcta\": \"95616\", \"all_vehicles\": 16533, \"tesla_rate\": 3.27}, {\"zip\": \"95618\", \"teslas\": 116, \"geoid\": 95618, \"income\": 85354.0, \"zcta\": \"95618\", \"all_vehicles\": 14087, \"tesla_rate\": 8.23}, {\"zip\": \"95624\", \"teslas\": 79, \"geoid\": 95624, \"income\": 89075.0, \"zcta\": \"95624\", \"all_vehicles\": 35099, \"tesla_rate\": 2.25}, {\"zip\": \"95628\", \"teslas\": 23, \"geoid\": 95628, \"income\": 76063.0, \"zcta\": \"95628\", \"all_vehicles\": 22581, \"tesla_rate\": 1.02}, {\"zip\": \"95630\", \"teslas\": 196, \"geoid\": 95630, \"income\": 106843.0, \"zcta\": \"95630\", \"all_vehicles\": 41456, \"tesla_rate\": 4.73}, {\"zip\": \"95648\", \"teslas\": 71, \"geoid\": 95648, \"income\": 78716.0, \"zcta\": \"95648\", \"all_vehicles\": 30298, \"tesla_rate\": 2.34}, {\"zip\": \"95650\", \"teslas\": 32, \"geoid\": 95650, \"income\": 88729.0, \"zcta\": \"95650\", \"all_vehicles\": 8470, \"tesla_rate\": 3.78}, {\"zip\": \"95661\", \"teslas\": 50, \"geoid\": 95661, \"income\": 78119.0, \"zcta\": \"95661\", \"all_vehicles\": 23496, \"tesla_rate\": 2.13}, {\"zip\": \"95670\", \"teslas\": 30, \"geoid\": 95670, \"income\": 60733.0, \"zcta\": \"95670\", \"all_vehicles\": 26066, \"tesla_rate\": 1.15}, {\"zip\": \"95677\", \"teslas\": 27, \"geoid\": 95677, \"income\": 81223.0, \"zcta\": \"95677\", \"all_vehicles\": 15838, \"tesla_rate\": 1.7}, {\"zip\": \"95678\", \"teslas\": 30, \"geoid\": 95678, \"income\": 65690.0, \"zcta\": \"95678\", \"all_vehicles\": 23163, \"tesla_rate\": 1.3}, {\"zip\": \"95682\", \"teslas\": 23, \"geoid\": 95682, \"income\": 81835.0, \"zcta\": \"95682\", \"all_vehicles\": 17223, \"tesla_rate\": 1.34}, {\"zip\": \"95687\", \"teslas\": 26, \"geoid\": 95687, \"income\": 77222.0, \"zcta\": \"95687\", \"all_vehicles\": 31595, \"tesla_rate\": 0.82}, {\"zip\": \"95688\", \"teslas\": 43, \"geoid\": 95688, \"income\": 82809.0, \"zcta\": \"95688\", \"all_vehicles\": 21870, \"tesla_rate\": 1.97}, {\"zip\": \"95691\", \"teslas\": 22, \"geoid\": 95691, \"income\": 69849.0, \"zcta\": \"95691\", \"all_vehicles\": 21784, \"tesla_rate\": 1.01}, {\"zip\": \"95742\", \"teslas\": 15, \"geoid\": 95742, \"income\": 113718.0, \"zcta\": \"95742\", \"all_vehicles\": 13256, \"tesla_rate\": 1.13}, {\"zip\": \"95746\", \"teslas\": 177, \"geoid\": 95746, \"income\": 130063.0, \"zcta\": \"95746\", \"all_vehicles\": 14872, \"tesla_rate\": 11.9}, {\"zip\": \"95747\", \"teslas\": 138, \"geoid\": 95747, \"income\": 100036.0, \"zcta\": \"95747\", \"all_vehicles\": 39669, \"tesla_rate\": 3.48}, {\"zip\": \"95757\", \"teslas\": 82, \"geoid\": 95757, \"income\": 95316.0, \"zcta\": \"95757\", \"all_vehicles\": 27517, \"tesla_rate\": 2.98}, {\"zip\": \"95758\", \"teslas\": 70, \"geoid\": 95758, \"income\": 74473.0, \"zcta\": \"95758\", \"all_vehicles\": 33571, \"tesla_rate\": 2.09}, {\"zip\": \"95762\", \"teslas\": 259, \"geoid\": 95762, \"income\": 127862.0, \"zcta\": \"95762\", \"all_vehicles\": 30236, \"tesla_rate\": 8.57}, {\"zip\": \"95765\", \"teslas\": 75, \"geoid\": 95765, \"income\": 102030.0, \"zcta\": \"95765\", \"all_vehicles\": 22628, \"tesla_rate\": 3.31}, {\"zip\": \"95811\", \"teslas\": 11, \"geoid\": 95811, \"income\": 43175.0, \"zcta\": \"95811\", \"all_vehicles\": 5741, \"tesla_rate\": 1.92}, {\"zip\": \"95816\", \"teslas\": 16, \"geoid\": 95816, \"income\": 61618.0, \"zcta\": \"95816\", \"all_vehicles\": 16029, \"tesla_rate\": 1.0}, {\"zip\": \"95818\", \"teslas\": 18, \"geoid\": 95818, \"income\": 74444.0, \"zcta\": \"95818\", \"all_vehicles\": 10538, \"tesla_rate\": 1.71}, {\"zip\": \"95819\", \"teslas\": 25, \"geoid\": 95819, \"income\": 100611.0, \"zcta\": \"95819\", \"all_vehicles\": 9335, \"tesla_rate\": 2.68}, {\"zip\": \"95822\", \"teslas\": 17, \"geoid\": 95822, \"income\": 50687.0, \"zcta\": \"95822\", \"all_vehicles\": 19179, \"tesla_rate\": 0.89}, {\"zip\": \"95826\", \"teslas\": 11, \"geoid\": 95826, \"income\": 56772.0, \"zcta\": \"95826\", \"all_vehicles\": 17707, \"tesla_rate\": 0.62}, {\"zip\": \"95829\", \"teslas\": 19, \"geoid\": 95829, \"income\": 82601.0, \"zcta\": \"95829\", \"all_vehicles\": 16637, \"tesla_rate\": 1.14}, {\"zip\": \"95831\", \"teslas\": 60, \"geoid\": 95831, \"income\": 70552.0, \"zcta\": \"95831\", \"all_vehicles\": 21815, \"tesla_rate\": 2.75}, {\"zip\": \"95833\", \"teslas\": 13, \"geoid\": 95833, \"income\": 57481.0, \"zcta\": \"95833\", \"all_vehicles\": 17003, \"tesla_rate\": 0.76}, {\"zip\": \"95834\", \"teslas\": 28, \"geoid\": 95834, \"income\": 57296.0, \"zcta\": \"95834\", \"all_vehicles\": 17978, \"tesla_rate\": 1.56}, {\"zip\": \"95835\", \"teslas\": 46, \"geoid\": 95835, \"income\": 87794.0, \"zcta\": \"95835\", \"all_vehicles\": 21037, \"tesla_rate\": 2.19}, {\"zip\": \"95864\", \"teslas\": 71, \"geoid\": 95864, \"income\": 96643.0, \"zcta\": \"95864\", \"all_vehicles\": 12874, \"tesla_rate\": 5.51}, {\"zip\": \"95926\", \"teslas\": 12, \"geoid\": 95926, \"income\": 42939.0, \"zcta\": \"95926\", \"all_vehicles\": 12893, \"tesla_rate\": 0.93}, {\"zip\": \"95928\", \"teslas\": 13, \"geoid\": 95928, \"income\": 45967.0, \"zcta\": \"95928\", \"all_vehicles\": 14859, \"tesla_rate\": 0.87}, {\"zip\": \"96161\", \"teslas\": 14, \"geoid\": 96161, \"income\": 89091.0, \"zcta\": \"96161\", \"all_vehicles\": 8910, \"tesla_rate\": 1.57}]}};\n",
       "const opt = {};\n",
       "const type = \"vega-lite\";\n",
       "const id = \"b9214eb3-c830-4673-85e0-f7d28933440f\";\n",
       "\n",
       "const output_area = this;\n",
       "\n",
       "require([\"nbextensions/jupyter-vega/index\"], function(vega) {\n",
       "  const target = document.createElement(\"div\");\n",
       "  target.id = id;\n",
       "  target.className = \"vega-embed\";\n",
       "\n",
       "  const style = document.createElement(\"style\");\n",
       "  style.textContent = [\n",
       "    \".vega-embed .error p {\",\n",
       "    \"  color: firebrick;\",\n",
       "    \"  font-size: 14px;\",\n",
       "    \"}\",\n",
       "  ].join(\"\\\\n\");\n",
       "\n",
       "  // element is a jQuery wrapped DOM element inside the output area\n",
       "  // see http://ipython.readthedocs.io/en/stable/api/generated/\\\n",
       "  // IPython.display.html#IPython.display.Javascript.__init__\n",
       "  element[0].appendChild(target);\n",
       "  element[0].appendChild(style);\n",
       "\n",
       "  vega.render(\"#\" + id, spec, type, opt, output_area);\n",
       "}, function (err) {\n",
       "  if (err.requireType !== \"scripterror\") {\n",
       "    throw(err);\n",
       "  }\n",
       "});\n"
      ],
      "text/plain": [
       "<vega.vegalite.VegaLite at 0x1321c88d0>"
      ]
     },
     "metadata": {
      "jupyter-vega": "#b9214eb3-c830-4673-85e0-f7d28933440f"
     },
     "output_type": "display_data"
    },
    {
     "data": {
      "text/plain": []
     },
     "execution_count": 53,
     "metadata": {},
     "output_type": "execute_result"
    },
    {
     "data": {
      "image/png": "[encoded data removed]"
     },
     "metadata": {
      "jupyter-vega": "#b9214eb3-c830-4673-85e0-f7d28933440f"
     },
     "output_type": "display_data"
    }
   ],
   "source": [
    "alt.Chart(tesla_zips).mark_circle(size=60).encode(\n",
    "    x=alt.X('tesla_rate:Q', title='Tesla rate per 1,000 vehicles', axis=alt.Axis(tickCount=6)),\n",
    "    y=alt.Y('income:Q', title='Median household income', axis=alt.Axis(tickCount=5, format='$,n')),\n",
    "    tooltip=['zip:N', 'teslas:O', 'income:Q', 'tesla_rate:Q']\n",
    ").properties(width=500, height=500)"
   ]
  },
  {
   "cell_type": "markdown",
   "metadata": {},
   "source": [
    "---"
   ]
  },
  {
   "cell_type": "markdown",
   "metadata": {},
   "source": [
    "### Group by model year. Which years have the most vehicles? "
   ]
  },
  {
   "cell_type": "code",
   "execution_count": 54,
   "metadata": {},
   "outputs": [],
   "source": [
    "model_year = vehicles.groupby(['model_year']).agg('sum').reset_index()"
   ]
  },
  {
   "cell_type": "code",
   "execution_count": 55,
   "metadata": {},
   "outputs": [
    {
     "data": {
      "text/html": [
       "<div>\n",
       "<style scoped>\n",
       "    .dataframe tbody tr th:only-of-type {\n",
       "        vertical-align: middle;\n",
       "    }\n",
       "\n",
       "    .dataframe tbody tr th {\n",
       "        vertical-align: top;\n",
       "    }\n",
       "\n",
       "    .dataframe thead th {\n",
       "        text-align: right;\n",
       "    }\n",
       "</style>\n",
       "<table border=\"1\" class=\"dataframe\">\n",
       "  <thead>\n",
       "    <tr style=\"text-align: right;\">\n",
       "      <th></th>\n",
       "      <th>model_year</th>\n",
       "      <th>vehicles</th>\n",
       "    </tr>\n",
       "  </thead>\n",
       "  <tbody>\n",
       "    <tr>\n",
       "      <th>12</th>\n",
       "      <td>2018</td>\n",
       "      <td>1572034</td>\n",
       "    </tr>\n",
       "    <tr>\n",
       "      <th>11</th>\n",
       "      <td>2017</td>\n",
       "      <td>2141868</td>\n",
       "    </tr>\n",
       "    <tr>\n",
       "      <th>10</th>\n",
       "      <td>2016</td>\n",
       "      <td>2072606</td>\n",
       "    </tr>\n",
       "    <tr>\n",
       "      <th>9</th>\n",
       "      <td>2015</td>\n",
       "      <td>2002628</td>\n",
       "    </tr>\n",
       "    <tr>\n",
       "      <th>8</th>\n",
       "      <td>2014</td>\n",
       "      <td>1677875</td>\n",
       "    </tr>\n",
       "    <tr>\n",
       "      <th>7</th>\n",
       "      <td>2013</td>\n",
       "      <td>1644620</td>\n",
       "    </tr>\n",
       "    <tr>\n",
       "      <th>6</th>\n",
       "      <td>2012</td>\n",
       "      <td>1354947</td>\n",
       "    </tr>\n",
       "    <tr>\n",
       "      <th>5</th>\n",
       "      <td>2011</td>\n",
       "      <td>1101920</td>\n",
       "    </tr>\n",
       "    <tr>\n",
       "      <th>4</th>\n",
       "      <td>2010</td>\n",
       "      <td>996703</td>\n",
       "    </tr>\n",
       "    <tr>\n",
       "      <th>3</th>\n",
       "      <td>2009</td>\n",
       "      <td>834319</td>\n",
       "    </tr>\n",
       "    <tr>\n",
       "      <th>2</th>\n",
       "      <td>2008</td>\n",
       "      <td>1220887</td>\n",
       "    </tr>\n",
       "    <tr>\n",
       "      <th>1</th>\n",
       "      <td>2007</td>\n",
       "      <td>1445939</td>\n",
       "    </tr>\n",
       "    <tr>\n",
       "      <th>0</th>\n",
       "      <td>2006</td>\n",
       "      <td>1419253</td>\n",
       "    </tr>\n",
       "  </tbody>\n",
       "</table>\n",
       "</div>"
      ],
      "text/plain": [
       "   model_year  vehicles\n",
       "12       2018   1572034\n",
       "11       2017   2141868\n",
       "10       2016   2072606\n",
       "9        2015   2002628\n",
       "8        2014   1677875\n",
       "7        2013   1644620\n",
       "6        2012   1354947\n",
       "5        2011   1101920\n",
       "4        2010    996703\n",
       "3        2009    834319\n",
       "2        2008   1220887\n",
       "1        2007   1445939\n",
       "0        2006   1419253"
      ]
     },
     "execution_count": 55,
     "metadata": {},
     "output_type": "execute_result"
    }
   ],
   "source": [
    "model_year.sort_values(by='model_year', ascending=False)"
   ]
  },
  {
   "cell_type": "code",
   "execution_count": 56,
   "metadata": {},
   "outputs": [
    {
     "data": {
      "application/javascript": [
       "const spec = {\"config\": {\"view\": {\"width\": 800, \"height\": 450}, \"background\": \"#ffffff\", \"title\": {\"anchor\": \"start\", \"font\": \"Benton Gothic Bold, sans\", \"fontColor\": \"#000000\", \"fontSize\": 22, \"fontWeight\": \"normal\"}, \"arc\": {\"fill\": \"#82c6df\"}, \"area\": {\"fill\": \"#82c6df\"}, \"line\": {\"stroke\": \"#82c6df\", \"strokeWidth\": 3}, \"path\": {\"stroke\": \"#82c6df\"}, \"rect\": {\"fill\": \"#82c6df\"}, \"shape\": {\"stroke\": \"#82c6df\"}, \"bar\": {\"fill\": \"#82c6df\"}, \"point\": {\"stroke\": \"#82c6df\"}, \"symbol\": {\"fill\": \"#82c6df\", \"size\": 30}, \"axis\": {\"titleFont\": \"Benton Gothic Bold, sans\", \"titleFontSize\": 13, \"titleFontWeight\": \"normal\", \"labelFont\": \"Benton Gothic, sans\", \"labelFontSize\": 11.5, \"labelFontWeight\": \"normal\"}, \"axisX\": {\"labelAngle\": 0, \"labelPadding\": 4, \"tickSize\": 3}, \"axisY\": {\"labelBaseline\": \"middle\", \"maxExtent\": 45, \"minExtent\": 45, \"tickSize\": 2, \"titleAlign\": \"left\", \"titleAngle\": 0, \"titleX\": -45, \"titleY\": -11}, \"legend\": {\"titleFont\": \"Benton Gothic Bold, sans\", \"titleFontSize\": 13, \"titleFontWeight\": \"normal\", \"symbolType\": \"square\", \"labelFont\": \"Benton Gothic, sans\", \"labelFontSize\": 11.5}, \"range\": {\"category\": [\"#3580b1\", \"#ec8431\", \"#ab7fb4\", \"#c89d29\", \"#adc839\", \"#829eb1\"], \"diverging\": [\"#e68a4f\", \"#f4bb6a\", \"#f9e39c\", \"#dadfe2\", \"#a6b7c6\", \"#849eae\"], \"heatmap\": [\"#fbf2c7\", \"#f9e39c\", \"#f8d36e\", \"#f4bb6a\", \"#e68a4f\", \"#d15a40\", \"#ab4232\"], \"ordinal\": [\"#fbf2c7\", \"#f9e39c\", \"#f8d36e\", \"#f4bb6a\", \"#e68a4f\", \"#d15a40\", \"#ab4232\"], \"ramp\": [\"#fbf2c7\", \"#f9e39c\", \"#f8d36e\", \"#f4bb6a\", \"#e68a4f\", \"#d15a40\", \"#ab4232\"]}}, \"layer\": [{\"mark\": \"bar\", \"encoding\": {\"x\": {\"type\": \"quantitative\", \"axis\": {\"format\": \"\", \"tickCount\": 5}, \"field\": \"vehicles\", \"title\": \"Vehicles\"}, \"y\": {\"type\": \"nominal\", \"axis\": {\"format\": \"\", \"tickCount\": 5}, \"field\": \"model_year\", \"title\": \" \"}}}, {\"mark\": {\"type\": \"text\", \"align\": \"left\", \"baseline\": \"middle\", \"dx\": 5}, \"encoding\": {\"text\": {\"type\": \"quantitative\", \"field\": \"vehicles\", \"format\": \",\"}, \"x\": {\"type\": \"quantitative\", \"axis\": {\"format\": \"\", \"tickCount\": 5}, \"field\": \"vehicles\", \"title\": \"Vehicles\"}, \"y\": {\"type\": \"nominal\", \"axis\": {\"format\": \"\", \"tickCount\": 5}, \"field\": \"model_year\", \"title\": \" \"}}}], \"data\": {\"name\": \"data-c00eb73d36c79d93e77f210f61c3f4e1\"}, \"height\": 500, \"title\": \"California vehicles, by model year\", \"width\": 700, \"$schema\": \"https://vega.github.io/schema/vega-lite/v3.4.0.json\", \"datasets\": {\"data-c00eb73d36c79d93e77f210f61c3f4e1\": [{\"model_year\": \"2006\", \"vehicles\": 1419253}, {\"model_year\": \"2007\", \"vehicles\": 1445939}, {\"model_year\": \"2008\", \"vehicles\": 1220887}, {\"model_year\": \"2009\", \"vehicles\": 834319}, {\"model_year\": \"2010\", \"vehicles\": 996703}, {\"model_year\": \"2011\", \"vehicles\": 1101920}, {\"model_year\": \"2012\", \"vehicles\": 1354947}, {\"model_year\": \"2013\", \"vehicles\": 1644620}, {\"model_year\": \"2014\", \"vehicles\": 1677875}, {\"model_year\": \"2015\", \"vehicles\": 2002628}, {\"model_year\": \"2016\", \"vehicles\": 2072606}, {\"model_year\": \"2017\", \"vehicles\": 2141868}, {\"model_year\": \"2018\", \"vehicles\": 1572034}]}};\n",
       "const opt = {};\n",
       "const type = \"vega-lite\";\n",
       "const id = \"8c0a98dc-0894-4d34-9646-6145b47f7f97\";\n",
       "\n",
       "const output_area = this;\n",
       "\n",
       "require([\"nbextensions/jupyter-vega/index\"], function(vega) {\n",
       "  const target = document.createElement(\"div\");\n",
       "  target.id = id;\n",
       "  target.className = \"vega-embed\";\n",
       "\n",
       "  const style = document.createElement(\"style\");\n",
       "  style.textContent = [\n",
       "    \".vega-embed .error p {\",\n",
       "    \"  color: firebrick;\",\n",
       "    \"  font-size: 14px;\",\n",
       "    \"}\",\n",
       "  ].join(\"\\\\n\");\n",
       "\n",
       "  // element is a jQuery wrapped DOM element inside the output area\n",
       "  // see http://ipython.readthedocs.io/en/stable/api/generated/\\\n",
       "  // IPython.display.html#IPython.display.Javascript.__init__\n",
       "  element[0].appendChild(target);\n",
       "  element[0].appendChild(style);\n",
       "\n",
       "  vega.render(\"#\" + id, spec, type, opt, output_area);\n",
       "}, function (err) {\n",
       "  if (err.requireType !== \"scripterror\") {\n",
       "    throw(err);\n",
       "  }\n",
       "});\n"
      ],
      "text/plain": [
       "<vega.vegalite.VegaLite at 0x1357af0f0>"
      ]
     },
     "metadata": {
      "jupyter-vega": "#8c0a98dc-0894-4d34-9646-6145b47f7f97"
     },
     "output_type": "display_data"
    },
    {
     "data": {
      "text/plain": []
     },
     "execution_count": 56,
     "metadata": {},
     "output_type": "execute_result"
    },
    {
     "data": {
      "image/png": "[encoded data removed]"
     },
     "metadata": {
      "jupyter-vega": "#8c0a98dc-0894-4d34-9646-6145b47f7f97"
     },
     "output_type": "display_data"
    }
   ],
   "source": [
    "model_year_chart = alt.Chart(model_year).mark_bar().encode(\n",
    ").mark_bar().encode(\n",
    "    y=alt.Y('model_year:N', title=\" \", axis=alt.Axis(format='', tickCount=5)),\n",
    "    x=alt.X(\"vehicles:Q\", title=\"Vehicles\", axis=alt.Axis(format='', tickCount=5))\n",
    ")\n",
    "\n",
    "model_year_chart_text = model_year_chart.mark_text(\n",
    "    align='left',\n",
    "    baseline='middle',\n",
    "    dx=5\n",
    ").encode(text=alt.Text('vehicles:Q', format=',')\n",
    ")\n",
    "\n",
    "(model_year_chart + model_year_chart_text).properties(height=500, width=700, title='California vehicles, by model year')"
   ]
  },
  {
   "cell_type": "markdown",
   "metadata": {},
   "source": [
    "### Which types of alternative fuel models are most common?"
   ]
  },
  {
   "cell_type": "code",
   "execution_count": 57,
   "metadata": {},
   "outputs": [],
   "source": [
    "fuel = nongas.groupby(['fuel']).agg('sum').reset_index()"
   ]
  },
  {
   "cell_type": "code",
   "execution_count": 58,
   "metadata": {},
   "outputs": [
    {
     "data": {
      "text/html": [
       "<div>\n",
       "<style scoped>\n",
       "    .dataframe tbody tr th:only-of-type {\n",
       "        vertical-align: middle;\n",
       "    }\n",
       "\n",
       "    .dataframe tbody tr th {\n",
       "        vertical-align: top;\n",
       "    }\n",
       "\n",
       "    .dataframe thead th {\n",
       "        text-align: right;\n",
       "    }\n",
       "</style>\n",
       "<table border=\"1\" class=\"dataframe\">\n",
       "  <thead>\n",
       "    <tr style=\"text-align: right;\">\n",
       "      <th></th>\n",
       "      <th>fuel</th>\n",
       "      <th>vehicles</th>\n",
       "    </tr>\n",
       "  </thead>\n",
       "  <tbody>\n",
       "    <tr>\n",
       "      <th>2</th>\n",
       "      <td>Flex-Fuel</td>\n",
       "      <td>1018550</td>\n",
       "    </tr>\n",
       "    <tr>\n",
       "      <th>3</th>\n",
       "      <td>Hybrid Gasoline</td>\n",
       "      <td>994696</td>\n",
       "    </tr>\n",
       "    <tr>\n",
       "      <th>1</th>\n",
       "      <td>Diesel and Diesel Hybrid</td>\n",
       "      <td>753609</td>\n",
       "    </tr>\n",
       "    <tr>\n",
       "      <th>0</th>\n",
       "      <td>Battery Electric</td>\n",
       "      <td>214671</td>\n",
       "    </tr>\n",
       "    <tr>\n",
       "      <th>7</th>\n",
       "      <td>Plug-in Hybrid</td>\n",
       "      <td>201969</td>\n",
       "    </tr>\n",
       "    <tr>\n",
       "      <th>5</th>\n",
       "      <td>Natural Gas</td>\n",
       "      <td>22968</td>\n",
       "    </tr>\n",
       "    <tr>\n",
       "      <th>4</th>\n",
       "      <td>Hydrogen Fuel Cell</td>\n",
       "      <td>5092</td>\n",
       "    </tr>\n",
       "    <tr>\n",
       "      <th>6</th>\n",
       "      <td>Other</td>\n",
       "      <td>2357</td>\n",
       "    </tr>\n",
       "  </tbody>\n",
       "</table>\n",
       "</div>"
      ],
      "text/plain": [
       "                       fuel  vehicles\n",
       "2                 Flex-Fuel   1018550\n",
       "3           Hybrid Gasoline    994696\n",
       "1  Diesel and Diesel Hybrid    753609\n",
       "0          Battery Electric    214671\n",
       "7            Plug-in Hybrid    201969\n",
       "5               Natural Gas     22968\n",
       "4        Hydrogen Fuel Cell      5092\n",
       "6                     Other      2357"
      ]
     },
     "execution_count": 58,
     "metadata": {},
     "output_type": "execute_result"
    }
   ],
   "source": [
    "fuel.sort_values(by='vehicles', ascending=False)"
   ]
  },
  {
   "cell_type": "markdown",
   "metadata": {},
   "source": [
    "### Chart the fuel type counts"
   ]
  },
  {
   "cell_type": "code",
   "execution_count": 59,
   "metadata": {},
   "outputs": [
    {
     "data": {
      "application/javascript": [
       "const spec = {\"config\": {\"view\": {\"width\": 800, \"height\": 450}, \"background\": \"#ffffff\", \"title\": {\"anchor\": \"start\", \"font\": \"Benton Gothic Bold, sans\", \"fontColor\": \"#000000\", \"fontSize\": 22, \"fontWeight\": \"normal\"}, \"arc\": {\"fill\": \"#82c6df\"}, \"area\": {\"fill\": \"#82c6df\"}, \"line\": {\"stroke\": \"#82c6df\", \"strokeWidth\": 3}, \"path\": {\"stroke\": \"#82c6df\"}, \"rect\": {\"fill\": \"#82c6df\"}, \"shape\": {\"stroke\": \"#82c6df\"}, \"bar\": {\"fill\": \"#82c6df\"}, \"point\": {\"stroke\": \"#82c6df\"}, \"symbol\": {\"fill\": \"#82c6df\", \"size\": 30}, \"axis\": {\"titleFont\": \"Benton Gothic Bold, sans\", \"titleFontSize\": 13, \"titleFontWeight\": \"normal\", \"labelFont\": \"Benton Gothic, sans\", \"labelFontSize\": 11.5, \"labelFontWeight\": \"normal\"}, \"axisX\": {\"labelAngle\": 0, \"labelPadding\": 4, \"tickSize\": 3}, \"axisY\": {\"labelBaseline\": \"middle\", \"maxExtent\": 45, \"minExtent\": 45, \"tickSize\": 2, \"titleAlign\": \"left\", \"titleAngle\": 0, \"titleX\": -45, \"titleY\": -11}, \"legend\": {\"titleFont\": \"Benton Gothic Bold, sans\", \"titleFontSize\": 13, \"titleFontWeight\": \"normal\", \"symbolType\": \"square\", \"labelFont\": \"Benton Gothic, sans\", \"labelFontSize\": 11.5}, \"range\": {\"category\": [\"#3580b1\", \"#ec8431\", \"#ab7fb4\", \"#c89d29\", \"#adc839\", \"#829eb1\"], \"diverging\": [\"#e68a4f\", \"#f4bb6a\", \"#f9e39c\", \"#dadfe2\", \"#a6b7c6\", \"#849eae\"], \"heatmap\": [\"#fbf2c7\", \"#f9e39c\", \"#f8d36e\", \"#f4bb6a\", \"#e68a4f\", \"#d15a40\", \"#ab4232\"], \"ordinal\": [\"#fbf2c7\", \"#f9e39c\", \"#f8d36e\", \"#f4bb6a\", \"#e68a4f\", \"#d15a40\", \"#ab4232\"], \"ramp\": [\"#fbf2c7\", \"#f9e39c\", \"#f8d36e\", \"#f4bb6a\", \"#e68a4f\", \"#d15a40\", \"#ab4232\"]}}, \"layer\": [{\"mark\": \"bar\", \"encoding\": {\"x\": {\"type\": \"quantitative\", \"aggregate\": \"sum\", \"axis\": {\"format\": \"\", \"tickCount\": 5}, \"field\": \"vehicles\", \"title\": \"Vehicles\"}, \"y\": {\"type\": \"nominal\", \"axis\": {\"format\": \"\", \"tickCount\": 5}, \"field\": \"fuel\", \"sort\": {\"field\": \"vehicles\", \"op\": \"sum\", \"order\": \"descending\"}, \"title\": \" \"}}}, {\"mark\": {\"type\": \"text\", \"align\": \"left\", \"baseline\": \"middle\", \"dx\": 3}, \"encoding\": {\"text\": {\"type\": \"quantitative\", \"aggregate\": \"sum\", \"field\": \"vehicles\", \"format\": \",\"}, \"x\": {\"type\": \"quantitative\", \"aggregate\": \"sum\", \"axis\": {\"format\": \"\", \"tickCount\": 5}, \"field\": \"vehicles\", \"title\": \"Vehicles\"}, \"y\": {\"type\": \"nominal\", \"axis\": {\"format\": \"\", \"tickCount\": 5}, \"field\": \"fuel\", \"sort\": {\"field\": \"vehicles\", \"op\": \"sum\", \"order\": \"descending\"}, \"title\": \" \"}}}], \"data\": {\"name\": \"data-668c9ba3e685720468d6ae70f429af49\"}, \"height\": 400, \"title\": \"CA alternative fuel vehicles by type\", \"width\": 500, \"$schema\": \"https://vega.github.io/schema/vega-lite/v3.4.0.json\", \"datasets\": {\"data-668c9ba3e685720468d6ae70f429af49\": [{\"fuel\": \"Battery Electric\", \"vehicles\": 214671}, {\"fuel\": \"Diesel and Diesel Hybrid\", \"vehicles\": 753609}, {\"fuel\": \"Flex-Fuel\", \"vehicles\": 1018550}, {\"fuel\": \"Hybrid Gasoline\", \"vehicles\": 994696}, {\"fuel\": \"Hydrogen Fuel Cell\", \"vehicles\": 5092}, {\"fuel\": \"Natural Gas\", \"vehicles\": 22968}, {\"fuel\": \"Other\", \"vehicles\": 2357}, {\"fuel\": \"Plug-in Hybrid\", \"vehicles\": 201969}]}};\n",
       "const opt = {};\n",
       "const type = \"vega-lite\";\n",
       "const id = \"10cb39f9-cb24-416a-b161-c3ae1839c747\";\n",
       "\n",
       "const output_area = this;\n",
       "\n",
       "require([\"nbextensions/jupyter-vega/index\"], function(vega) {\n",
       "  const target = document.createElement(\"div\");\n",
       "  target.id = id;\n",
       "  target.className = \"vega-embed\";\n",
       "\n",
       "  const style = document.createElement(\"style\");\n",
       "  style.textContent = [\n",
       "    \".vega-embed .error p {\",\n",
       "    \"  color: firebrick;\",\n",
       "    \"  font-size: 14px;\",\n",
       "    \"}\",\n",
       "  ].join(\"\\\\n\");\n",
       "\n",
       "  // element is a jQuery wrapped DOM element inside the output area\n",
       "  // see http://ipython.readthedocs.io/en/stable/api/generated/\\\n",
       "  // IPython.display.html#IPython.display.Javascript.__init__\n",
       "  element[0].appendChild(target);\n",
       "  element[0].appendChild(style);\n",
       "\n",
       "  vega.render(\"#\" + id, spec, type, opt, output_area);\n",
       "}, function (err) {\n",
       "  if (err.requireType !== \"scripterror\") {\n",
       "    throw(err);\n",
       "  }\n",
       "});\n"
      ],
      "text/plain": [
       "<vega.vegalite.VegaLite at 0x135794dd8>"
      ]
     },
     "metadata": {
      "jupyter-vega": "#10cb39f9-cb24-416a-b161-c3ae1839c747"
     },
     "output_type": "display_data"
    },
    {
     "data": {
      "text/plain": []
     },
     "execution_count": 59,
     "metadata": {},
     "output_type": "execute_result"
    },
    {
     "data": {
      "image/png": "[encoded data removed]"
     },
     "metadata": {
      "jupyter-vega": "#10cb39f9-cb24-416a-b161-c3ae1839c747"
     },
     "output_type": "display_data"
    }
   ],
   "source": [
    "chart_fuels = alt.Chart(fuel).mark_bar().encode(\n",
    "    y=alt.Y('fuel:N', title=' ',\n",
    "        sort=alt.EncodingSortField(\n",
    "            field=\"vehicles\",  # The field to use for the sort\n",
    "            op=\"sum\",  # The operation to run on the field prior to sorting\n",
    "            order=\"descending\"  # The order to sort in\n",
    "        ), axis=alt.Axis(format='', tickCount=5)),\n",
    "    x=alt.X(\"sum(vehicles):Q\", title=\"Vehicles\", axis=alt.Axis(format='', tickCount=5))\n",
    ")\n",
    "\n",
    "chart_fuels_text = chart_fuels.mark_text(\n",
    "    align='left',\n",
    "    baseline='middle',\n",
    "    dx=3  # Nudges text to right so it doesn't appear on top of the bar\n",
    ").encode(text=alt.Text('sum(vehicles)', format=',')\n",
    ")\n",
    "\n",
    "\n",
    "(chart_fuels + chart_fuels_text)\\\n",
    ".properties(height=400, width=500, title='CA alternative fuel vehicles by type')"
   ]
  },
  {
   "cell_type": "markdown",
   "metadata": {},
   "source": [
    "--- "
   ]
  },
  {
   "cell_type": "markdown",
   "metadata": {},
   "source": [
    "## Where are these vehicles?"
   ]
  },
  {
   "cell_type": "code",
   "execution_count": 60,
   "metadata": {},
   "outputs": [],
   "source": [
    "zip_code = vehicles.groupby(['zip']).agg('sum').reset_index()"
   ]
  },
  {
   "cell_type": "code",
   "execution_count": 61,
   "metadata": {},
   "outputs": [],
   "source": [
    "zip_code_nongas = nongas.groupby(['zip']).agg('sum').reset_index()"
   ]
  },
  {
   "cell_type": "markdown",
   "metadata": {},
   "source": [
    "### Which ZIP codes have the most alternative fuel vehicles? (Airport areas, it seems)"
   ]
  },
  {
   "cell_type": "code",
   "execution_count": 62,
   "metadata": {},
   "outputs": [
    {
     "data": {
      "text/html": [
       "<div>\n",
       "<style scoped>\n",
       "    .dataframe tbody tr th:only-of-type {\n",
       "        vertical-align: middle;\n",
       "    }\n",
       "\n",
       "    .dataframe tbody tr th {\n",
       "        vertical-align: top;\n",
       "    }\n",
       "\n",
       "    .dataframe thead th {\n",
       "        text-align: right;\n",
       "    }\n",
       "</style>\n",
       "<table border=\"1\" class=\"dataframe\">\n",
       "  <thead>\n",
       "    <tr style=\"text-align: right;\">\n",
       "      <th></th>\n",
       "      <th>zip</th>\n",
       "      <th>vehicles</th>\n",
       "    </tr>\n",
       "  </thead>\n",
       "  <tbody>\n",
       "    <tr>\n",
       "      <th>44</th>\n",
       "      <td>90045</td>\n",
       "      <td>18010</td>\n",
       "    </tr>\n",
       "    <tr>\n",
       "      <th>1476</th>\n",
       "      <td>94080</td>\n",
       "      <td>10747</td>\n",
       "    </tr>\n",
       "    <tr>\n",
       "      <th>904</th>\n",
       "      <td>92626</td>\n",
       "      <td>10514</td>\n",
       "    </tr>\n",
       "    <tr>\n",
       "      <th>1017</th>\n",
       "      <td>92868</td>\n",
       "      <td>9989</td>\n",
       "    </tr>\n",
       "    <tr>\n",
       "      <th>11</th>\n",
       "      <td>90012</td>\n",
       "      <td>9493</td>\n",
       "    </tr>\n",
       "    <tr>\n",
       "      <th>1170</th>\n",
       "      <td>93308</td>\n",
       "      <td>9377</td>\n",
       "    </tr>\n",
       "    <tr>\n",
       "      <th>756</th>\n",
       "      <td>92335</td>\n",
       "      <td>8906</td>\n",
       "    </tr>\n",
       "    <tr>\n",
       "      <th>1438</th>\n",
       "      <td>94010</td>\n",
       "      <td>8822</td>\n",
       "    </tr>\n",
       "    <tr>\n",
       "      <th>417</th>\n",
       "      <td>91710</td>\n",
       "      <td>8724</td>\n",
       "    </tr>\n",
       "    <tr>\n",
       "      <th>592</th>\n",
       "      <td>92101</td>\n",
       "      <td>8457</td>\n",
       "    </tr>\n",
       "  </tbody>\n",
       "</table>\n",
       "</div>"
      ],
      "text/plain": [
       "        zip  vehicles\n",
       "44    90045     18010\n",
       "1476  94080     10747\n",
       "904   92626     10514\n",
       "1017  92868      9989\n",
       "11    90012      9493\n",
       "1170  93308      9377\n",
       "756   92335      8906\n",
       "1438  94010      8822\n",
       "417   91710      8724\n",
       "592   92101      8457"
      ]
     },
     "execution_count": 62,
     "metadata": {},
     "output_type": "execute_result"
    }
   ],
   "source": [
    "zip_code_nongas.sort_values(by='vehicles',\\\n",
    "    ascending=False).head(10)"
   ]
  },
  {
   "cell_type": "markdown",
   "metadata": {},
   "source": [
    "### Pivot on ZIP code and widen out the dataframe to count vehicle types across them"
   ]
  },
  {
   "cell_type": "code",
   "execution_count": 63,
   "metadata": {},
   "outputs": [],
   "source": [
    "sum_by_zip = pd.pivot_table(vehicles, values='vehicles', \\\n",
    "                            index=['zip'], columns=['fuel'], aggfunc=np.sum, fill_value=0).reset_index()\n",
    "\n",
    "sum_by_zip.columns = sum_by_zip.columns.str.strip().str.lower().str.replace(' ', '_')\\\n",
    "                    .str.replace('(', '').str.replace(')', '').str.replace('-','_')"
   ]
  },
  {
   "cell_type": "markdown",
   "metadata": {},
   "source": [
    "### Which type is most common in each ZIP code? "
   ]
  },
  {
   "cell_type": "code",
   "execution_count": 64,
   "metadata": {},
   "outputs": [],
   "source": [
    "sum_by_zip[\"total\"] = sum_by_zip.sum(axis=1)"
   ]
  },
  {
   "cell_type": "code",
   "execution_count": 65,
   "metadata": {},
   "outputs": [
    {
     "data": {
      "text/html": [
       "<div>\n",
       "<style scoped>\n",
       "    .dataframe tbody tr th:only-of-type {\n",
       "        vertical-align: middle;\n",
       "    }\n",
       "\n",
       "    .dataframe tbody tr th {\n",
       "        vertical-align: top;\n",
       "    }\n",
       "\n",
       "    .dataframe thead th {\n",
       "        text-align: right;\n",
       "    }\n",
       "</style>\n",
       "<table border=\"1\" class=\"dataframe\">\n",
       "  <thead>\n",
       "    <tr style=\"text-align: right;\">\n",
       "      <th>fuel</th>\n",
       "      <th>zip</th>\n",
       "      <th>battery_electric</th>\n",
       "      <th>diesel_and_diesel_hybrid</th>\n",
       "      <th>flex_fuel</th>\n",
       "      <th>gasoline</th>\n",
       "      <th>hybrid_gasoline</th>\n",
       "      <th>hydrogen_fuel_cell</th>\n",
       "      <th>natural_gas</th>\n",
       "      <th>other</th>\n",
       "      <th>plug_in_hybrid</th>\n",
       "      <th>total</th>\n",
       "    </tr>\n",
       "  </thead>\n",
       "  <tbody>\n",
       "    <tr>\n",
       "      <th>45</th>\n",
       "      <td>90045</td>\n",
       "      <td>420</td>\n",
       "      <td>605</td>\n",
       "      <td>11978</td>\n",
       "      <td>109120</td>\n",
       "      <td>4466</td>\n",
       "      <td>19</td>\n",
       "      <td>138</td>\n",
       "      <td>0</td>\n",
       "      <td>384</td>\n",
       "      <td>127130</td>\n",
       "    </tr>\n",
       "    <tr>\n",
       "      <th>1520</th>\n",
       "      <td>94080</td>\n",
       "      <td>307</td>\n",
       "      <td>1519</td>\n",
       "      <td>3761</td>\n",
       "      <td>92399</td>\n",
       "      <td>4872</td>\n",
       "      <td>9</td>\n",
       "      <td>38</td>\n",
       "      <td>2</td>\n",
       "      <td>239</td>\n",
       "      <td>103146</td>\n",
       "    </tr>\n",
       "    <tr>\n",
       "      <th>782</th>\n",
       "      <td>92336</td>\n",
       "      <td>180</td>\n",
       "      <td>1706</td>\n",
       "      <td>2664</td>\n",
       "      <td>46467</td>\n",
       "      <td>1736</td>\n",
       "      <td>7</td>\n",
       "      <td>31</td>\n",
       "      <td>0</td>\n",
       "      <td>443</td>\n",
       "      <td>53234</td>\n",
       "    </tr>\n",
       "    <tr>\n",
       "      <th>660</th>\n",
       "      <td>92154</td>\n",
       "      <td>115</td>\n",
       "      <td>4196</td>\n",
       "      <td>2154</td>\n",
       "      <td>42291</td>\n",
       "      <td>1256</td>\n",
       "      <td>0</td>\n",
       "      <td>4</td>\n",
       "      <td>0</td>\n",
       "      <td>140</td>\n",
       "      <td>50156</td>\n",
       "    </tr>\n",
       "    <tr>\n",
       "      <th>426</th>\n",
       "      <td>91709</td>\n",
       "      <td>533</td>\n",
       "      <td>1139</td>\n",
       "      <td>1847</td>\n",
       "      <td>41681</td>\n",
       "      <td>2389</td>\n",
       "      <td>36</td>\n",
       "      <td>30</td>\n",
       "      <td>1</td>\n",
       "      <td>717</td>\n",
       "      <td>48373</td>\n",
       "    </tr>\n",
       "  </tbody>\n",
       "</table>\n",
       "</div>"
      ],
      "text/plain": [
       "fuel    zip  battery_electric  diesel_and_diesel_hybrid  flex_fuel  gasoline  \\\n",
       "45    90045               420                       605      11978    109120   \n",
       "1520  94080               307                      1519       3761     92399   \n",
       "782   92336               180                      1706       2664     46467   \n",
       "660   92154               115                      4196       2154     42291   \n",
       "426   91709               533                      1139       1847     41681   \n",
       "\n",
       "fuel  hybrid_gasoline  hydrogen_fuel_cell  natural_gas  other  plug_in_hybrid  \\\n",
       "45               4466                  19          138      0             384   \n",
       "1520             4872                   9           38      2             239   \n",
       "782              1736                   7           31      0             443   \n",
       "660              1256                   0            4      0             140   \n",
       "426              2389                  36           30      1             717   \n",
       "\n",
       "fuel   total  \n",
       "45    127130  \n",
       "1520  103146  \n",
       "782    53234  \n",
       "660    50156  \n",
       "426    48373  "
      ]
     },
     "execution_count": 65,
     "metadata": {},
     "output_type": "execute_result"
    }
   ],
   "source": [
    "sum_by_zip.sort_values(by='total', ascending=False).head(5)"
   ]
  },
  {
   "cell_type": "markdown",
   "metadata": {},
   "source": [
    "### Group the lesser-used fuel types into an 'other' category"
   ]
  },
  {
   "cell_type": "code",
   "execution_count": 66,
   "metadata": {},
   "outputs": [],
   "source": [
    "sum_by_zip['other'] = sum_by_zip.apply\\\n",
    "    (lambda x: x['hydrogen_fuel_cell'] + x['natural_gas'] + x['other'], axis=1)\n",
    "sum_by_zip.drop(['hydrogen_fuel_cell', 'natural_gas'], axis=1, inplace=True)\n",
    "sum_by_zip.drop([0], inplace=True)"
   ]
  },
  {
   "cell_type": "markdown",
   "metadata": {},
   "source": [
    "### Which non-gas vehicle is most popular — the 'winner' — in each zip?"
   ]
  },
  {
   "cell_type": "code",
   "execution_count": 67,
   "metadata": {},
   "outputs": [],
   "source": [
    "sum_by_zip['winner'] = \\\n",
    "sum_by_zip[['hybrid_gasoline','battery_electric','diesel_and_diesel_hybrid',\\\n",
    "                   'flex_fuel','plug_in_hybrid', 'other']].idxmax(axis=1)"
   ]
  },
  {
   "cell_type": "code",
   "execution_count": 68,
   "metadata": {},
   "outputs": [
    {
     "data": {
      "text/html": [
       "<div>\n",
       "<style scoped>\n",
       "    .dataframe tbody tr th:only-of-type {\n",
       "        vertical-align: middle;\n",
       "    }\n",
       "\n",
       "    .dataframe tbody tr th {\n",
       "        vertical-align: top;\n",
       "    }\n",
       "\n",
       "    .dataframe thead th {\n",
       "        text-align: right;\n",
       "    }\n",
       "</style>\n",
       "<table border=\"1\" class=\"dataframe\">\n",
       "  <thead>\n",
       "    <tr style=\"text-align: right;\">\n",
       "      <th>fuel</th>\n",
       "      <th>zip</th>\n",
       "      <th>battery_electric</th>\n",
       "      <th>diesel_and_diesel_hybrid</th>\n",
       "      <th>flex_fuel</th>\n",
       "      <th>gasoline</th>\n",
       "      <th>hybrid_gasoline</th>\n",
       "      <th>other</th>\n",
       "      <th>plug_in_hybrid</th>\n",
       "      <th>total</th>\n",
       "      <th>winner</th>\n",
       "    </tr>\n",
       "  </thead>\n",
       "  <tbody>\n",
       "    <tr>\n",
       "      <th>45</th>\n",
       "      <td>90045</td>\n",
       "      <td>420</td>\n",
       "      <td>605</td>\n",
       "      <td>11978</td>\n",
       "      <td>109120</td>\n",
       "      <td>4466</td>\n",
       "      <td>157</td>\n",
       "      <td>384</td>\n",
       "      <td>127130</td>\n",
       "      <td>flex_fuel</td>\n",
       "    </tr>\n",
       "    <tr>\n",
       "      <th>1520</th>\n",
       "      <td>94080</td>\n",
       "      <td>307</td>\n",
       "      <td>1519</td>\n",
       "      <td>3761</td>\n",
       "      <td>92399</td>\n",
       "      <td>4872</td>\n",
       "      <td>49</td>\n",
       "      <td>239</td>\n",
       "      <td>103146</td>\n",
       "      <td>hybrid_gasoline</td>\n",
       "    </tr>\n",
       "    <tr>\n",
       "      <th>782</th>\n",
       "      <td>92336</td>\n",
       "      <td>180</td>\n",
       "      <td>1706</td>\n",
       "      <td>2664</td>\n",
       "      <td>46467</td>\n",
       "      <td>1736</td>\n",
       "      <td>38</td>\n",
       "      <td>443</td>\n",
       "      <td>53234</td>\n",
       "      <td>flex_fuel</td>\n",
       "    </tr>\n",
       "    <tr>\n",
       "      <th>660</th>\n",
       "      <td>92154</td>\n",
       "      <td>115</td>\n",
       "      <td>4196</td>\n",
       "      <td>2154</td>\n",
       "      <td>42291</td>\n",
       "      <td>1256</td>\n",
       "      <td>4</td>\n",
       "      <td>140</td>\n",
       "      <td>50156</td>\n",
       "      <td>diesel_and_diesel_hybrid</td>\n",
       "    </tr>\n",
       "    <tr>\n",
       "      <th>426</th>\n",
       "      <td>91709</td>\n",
       "      <td>533</td>\n",
       "      <td>1139</td>\n",
       "      <td>1847</td>\n",
       "      <td>41681</td>\n",
       "      <td>2389</td>\n",
       "      <td>67</td>\n",
       "      <td>717</td>\n",
       "      <td>48373</td>\n",
       "      <td>hybrid_gasoline</td>\n",
       "    </tr>\n",
       "    <tr>\n",
       "      <th>191</th>\n",
       "      <td>90650</td>\n",
       "      <td>129</td>\n",
       "      <td>1170</td>\n",
       "      <td>2122</td>\n",
       "      <td>42241</td>\n",
       "      <td>1446</td>\n",
       "      <td>56</td>\n",
       "      <td>251</td>\n",
       "      <td>47415</td>\n",
       "      <td>flex_fuel</td>\n",
       "    </tr>\n",
       "    <tr>\n",
       "      <th>427</th>\n",
       "      <td>91710</td>\n",
       "      <td>284</td>\n",
       "      <td>2519</td>\n",
       "      <td>2866</td>\n",
       "      <td>38056</td>\n",
       "      <td>1494</td>\n",
       "      <td>1097</td>\n",
       "      <td>464</td>\n",
       "      <td>46780</td>\n",
       "      <td>flex_fuel</td>\n",
       "    </tr>\n",
       "    <tr>\n",
       "      <th>979</th>\n",
       "      <td>92683</td>\n",
       "      <td>331</td>\n",
       "      <td>780</td>\n",
       "      <td>1355</td>\n",
       "      <td>41233</td>\n",
       "      <td>2175</td>\n",
       "      <td>46</td>\n",
       "      <td>411</td>\n",
       "      <td>46331</td>\n",
       "      <td>hybrid_gasoline</td>\n",
       "    </tr>\n",
       "    <tr>\n",
       "      <th>908</th>\n",
       "      <td>92592</td>\n",
       "      <td>254</td>\n",
       "      <td>1662</td>\n",
       "      <td>2464</td>\n",
       "      <td>38763</td>\n",
       "      <td>2188</td>\n",
       "      <td>18</td>\n",
       "      <td>479</td>\n",
       "      <td>45828</td>\n",
       "      <td>flex_fuel</td>\n",
       "    </tr>\n",
       "    <tr>\n",
       "      <th>341</th>\n",
       "      <td>91342</td>\n",
       "      <td>160</td>\n",
       "      <td>1754</td>\n",
       "      <td>2325</td>\n",
       "      <td>39299</td>\n",
       "      <td>1858</td>\n",
       "      <td>12</td>\n",
       "      <td>310</td>\n",
       "      <td>45718</td>\n",
       "      <td>flex_fuel</td>\n",
       "    </tr>\n",
       "  </tbody>\n",
       "</table>\n",
       "</div>"
      ],
      "text/plain": [
       "fuel    zip  battery_electric  diesel_and_diesel_hybrid  flex_fuel  gasoline  \\\n",
       "45    90045               420                       605      11978    109120   \n",
       "1520  94080               307                      1519       3761     92399   \n",
       "782   92336               180                      1706       2664     46467   \n",
       "660   92154               115                      4196       2154     42291   \n",
       "426   91709               533                      1139       1847     41681   \n",
       "191   90650               129                      1170       2122     42241   \n",
       "427   91710               284                      2519       2866     38056   \n",
       "979   92683               331                       780       1355     41233   \n",
       "908   92592               254                      1662       2464     38763   \n",
       "341   91342               160                      1754       2325     39299   \n",
       "\n",
       "fuel  hybrid_gasoline  other  plug_in_hybrid   total                    winner  \n",
       "45               4466    157             384  127130                 flex_fuel  \n",
       "1520             4872     49             239  103146           hybrid_gasoline  \n",
       "782              1736     38             443   53234                 flex_fuel  \n",
       "660              1256      4             140   50156  diesel_and_diesel_hybrid  \n",
       "426              2389     67             717   48373           hybrid_gasoline  \n",
       "191              1446     56             251   47415                 flex_fuel  \n",
       "427              1494   1097             464   46780                 flex_fuel  \n",
       "979              2175     46             411   46331           hybrid_gasoline  \n",
       "908              2188     18             479   45828                 flex_fuel  \n",
       "341              1858     12             310   45718                 flex_fuel  "
      ]
     },
     "execution_count": 68,
     "metadata": {},
     "output_type": "execute_result"
    }
   ],
   "source": [
    "sum_by_zip.sort_values(by='total', ascending=False).head(10)"
   ]
  },
  {
   "cell_type": "markdown",
   "metadata": {},
   "source": [
    "### De-slugify the 'winner' category"
   ]
  },
  {
   "cell_type": "code",
   "execution_count": 69,
   "metadata": {},
   "outputs": [],
   "source": [
    "sum_by_zip['winner'] = sum_by_zip['winner'].str.replace('_', ' ', regex=False).str.capitalize()"
   ]
  },
  {
   "cell_type": "code",
   "execution_count": 70,
   "metadata": {},
   "outputs": [],
   "source": [
    "sum_by_zip['altshare'] = (((sum_by_zip['total']-sum_by_zip['gasoline'])/sum_by_zip['total'])*100).round()"
   ]
  },
  {
   "cell_type": "code",
   "execution_count": 71,
   "metadata": {},
   "outputs": [
    {
     "data": {
      "text/html": [
       "<div>\n",
       "<style scoped>\n",
       "    .dataframe tbody tr th:only-of-type {\n",
       "        vertical-align: middle;\n",
       "    }\n",
       "\n",
       "    .dataframe tbody tr th {\n",
       "        vertical-align: top;\n",
       "    }\n",
       "\n",
       "    .dataframe thead th {\n",
       "        text-align: right;\n",
       "    }\n",
       "</style>\n",
       "<table border=\"1\" class=\"dataframe\">\n",
       "  <thead>\n",
       "    <tr style=\"text-align: right;\">\n",
       "      <th>fuel</th>\n",
       "      <th>zip</th>\n",
       "      <th>battery_electric</th>\n",
       "      <th>diesel_and_diesel_hybrid</th>\n",
       "      <th>flex_fuel</th>\n",
       "      <th>gasoline</th>\n",
       "      <th>hybrid_gasoline</th>\n",
       "      <th>other</th>\n",
       "      <th>plug_in_hybrid</th>\n",
       "      <th>total</th>\n",
       "      <th>winner</th>\n",
       "      <th>altshare</th>\n",
       "    </tr>\n",
       "  </thead>\n",
       "  <tbody>\n",
       "    <tr>\n",
       "      <th>45</th>\n",
       "      <td>90045</td>\n",
       "      <td>420</td>\n",
       "      <td>605</td>\n",
       "      <td>11978</td>\n",
       "      <td>109120</td>\n",
       "      <td>4466</td>\n",
       "      <td>157</td>\n",
       "      <td>384</td>\n",
       "      <td>127130</td>\n",
       "      <td>Flex fuel</td>\n",
       "      <td>14.00</td>\n",
       "    </tr>\n",
       "    <tr>\n",
       "      <th>1520</th>\n",
       "      <td>94080</td>\n",
       "      <td>307</td>\n",
       "      <td>1519</td>\n",
       "      <td>3761</td>\n",
       "      <td>92399</td>\n",
       "      <td>4872</td>\n",
       "      <td>49</td>\n",
       "      <td>239</td>\n",
       "      <td>103146</td>\n",
       "      <td>Hybrid gasoline</td>\n",
       "      <td>10.00</td>\n",
       "    </tr>\n",
       "    <tr>\n",
       "      <th>782</th>\n",
       "      <td>92336</td>\n",
       "      <td>180</td>\n",
       "      <td>1706</td>\n",
       "      <td>2664</td>\n",
       "      <td>46467</td>\n",
       "      <td>1736</td>\n",
       "      <td>38</td>\n",
       "      <td>443</td>\n",
       "      <td>53234</td>\n",
       "      <td>Flex fuel</td>\n",
       "      <td>13.00</td>\n",
       "    </tr>\n",
       "    <tr>\n",
       "      <th>660</th>\n",
       "      <td>92154</td>\n",
       "      <td>115</td>\n",
       "      <td>4196</td>\n",
       "      <td>2154</td>\n",
       "      <td>42291</td>\n",
       "      <td>1256</td>\n",
       "      <td>4</td>\n",
       "      <td>140</td>\n",
       "      <td>50156</td>\n",
       "      <td>Diesel and diesel hybrid</td>\n",
       "      <td>16.00</td>\n",
       "    </tr>\n",
       "    <tr>\n",
       "      <th>426</th>\n",
       "      <td>91709</td>\n",
       "      <td>533</td>\n",
       "      <td>1139</td>\n",
       "      <td>1847</td>\n",
       "      <td>41681</td>\n",
       "      <td>2389</td>\n",
       "      <td>67</td>\n",
       "      <td>717</td>\n",
       "      <td>48373</td>\n",
       "      <td>Hybrid gasoline</td>\n",
       "      <td>14.00</td>\n",
       "    </tr>\n",
       "    <tr>\n",
       "      <th>191</th>\n",
       "      <td>90650</td>\n",
       "      <td>129</td>\n",
       "      <td>1170</td>\n",
       "      <td>2122</td>\n",
       "      <td>42241</td>\n",
       "      <td>1446</td>\n",
       "      <td>56</td>\n",
       "      <td>251</td>\n",
       "      <td>47415</td>\n",
       "      <td>Flex fuel</td>\n",
       "      <td>11.00</td>\n",
       "    </tr>\n",
       "    <tr>\n",
       "      <th>427</th>\n",
       "      <td>91710</td>\n",
       "      <td>284</td>\n",
       "      <td>2519</td>\n",
       "      <td>2866</td>\n",
       "      <td>38056</td>\n",
       "      <td>1494</td>\n",
       "      <td>1097</td>\n",
       "      <td>464</td>\n",
       "      <td>46780</td>\n",
       "      <td>Flex fuel</td>\n",
       "      <td>19.00</td>\n",
       "    </tr>\n",
       "    <tr>\n",
       "      <th>979</th>\n",
       "      <td>92683</td>\n",
       "      <td>331</td>\n",
       "      <td>780</td>\n",
       "      <td>1355</td>\n",
       "      <td>41233</td>\n",
       "      <td>2175</td>\n",
       "      <td>46</td>\n",
       "      <td>411</td>\n",
       "      <td>46331</td>\n",
       "      <td>Hybrid gasoline</td>\n",
       "      <td>11.00</td>\n",
       "    </tr>\n",
       "    <tr>\n",
       "      <th>908</th>\n",
       "      <td>92592</td>\n",
       "      <td>254</td>\n",
       "      <td>1662</td>\n",
       "      <td>2464</td>\n",
       "      <td>38763</td>\n",
       "      <td>2188</td>\n",
       "      <td>18</td>\n",
       "      <td>479</td>\n",
       "      <td>45828</td>\n",
       "      <td>Flex fuel</td>\n",
       "      <td>15.00</td>\n",
       "    </tr>\n",
       "    <tr>\n",
       "      <th>341</th>\n",
       "      <td>91342</td>\n",
       "      <td>160</td>\n",
       "      <td>1754</td>\n",
       "      <td>2325</td>\n",
       "      <td>39299</td>\n",
       "      <td>1858</td>\n",
       "      <td>12</td>\n",
       "      <td>310</td>\n",
       "      <td>45718</td>\n",
       "      <td>Flex fuel</td>\n",
       "      <td>14.00</td>\n",
       "    </tr>\n",
       "  </tbody>\n",
       "</table>\n",
       "</div>"
      ],
      "text/plain": [
       "fuel    zip  battery_electric  diesel_and_diesel_hybrid  flex_fuel  gasoline  \\\n",
       "45    90045               420                       605      11978    109120   \n",
       "1520  94080               307                      1519       3761     92399   \n",
       "782   92336               180                      1706       2664     46467   \n",
       "660   92154               115                      4196       2154     42291   \n",
       "426   91709               533                      1139       1847     41681   \n",
       "191   90650               129                      1170       2122     42241   \n",
       "427   91710               284                      2519       2866     38056   \n",
       "979   92683               331                       780       1355     41233   \n",
       "908   92592               254                      1662       2464     38763   \n",
       "341   91342               160                      1754       2325     39299   \n",
       "\n",
       "fuel  hybrid_gasoline  other  plug_in_hybrid   total  \\\n",
       "45               4466    157             384  127130   \n",
       "1520             4872     49             239  103146   \n",
       "782              1736     38             443   53234   \n",
       "660              1256      4             140   50156   \n",
       "426              2389     67             717   48373   \n",
       "191              1446     56             251   47415   \n",
       "427              1494   1097             464   46780   \n",
       "979              2175     46             411   46331   \n",
       "908              2188     18             479   45828   \n",
       "341              1858     12             310   45718   \n",
       "\n",
       "fuel                    winner  altshare  \n",
       "45                   Flex fuel     14.00  \n",
       "1520           Hybrid gasoline     10.00  \n",
       "782                  Flex fuel     13.00  \n",
       "660   Diesel and diesel hybrid     16.00  \n",
       "426            Hybrid gasoline     14.00  \n",
       "191                  Flex fuel     11.00  \n",
       "427                  Flex fuel     19.00  \n",
       "979            Hybrid gasoline     11.00  \n",
       "908                  Flex fuel     15.00  \n",
       "341                  Flex fuel     14.00  "
      ]
     },
     "execution_count": 71,
     "metadata": {},
     "output_type": "execute_result"
    }
   ],
   "source": [
    "sum_by_zip.sort_values(by='total', ascending=False).head(10)"
   ]
  },
  {
   "cell_type": "markdown",
   "metadata": {},
   "source": [
    "### Use the \"jenks\" method to set fair breaks for total field"
   ]
  },
  {
   "cell_type": "code",
   "execution_count": 72,
   "metadata": {},
   "outputs": [],
   "source": [
    "breaks \\\n",
    "= jenkspy.jenks_breaks(sum_by_zip.total, nb_class=7)"
   ]
  },
  {
   "cell_type": "code",
   "execution_count": 73,
   "metadata": {},
   "outputs": [
    {
     "data": {
      "text/plain": [
       "[1.0, 3499.0, 9905.0, 16350.0, 23391.0, 32528.0, 53234.0, 127130.0]"
      ]
     },
     "execution_count": 73,
     "metadata": {},
     "output_type": "execute_result"
    }
   ],
   "source": [
    "breaks"
   ]
  },
  {
   "cell_type": "markdown",
   "metadata": {},
   "source": [
    "# Geography data"
   ]
  },
  {
   "cell_type": "markdown",
   "metadata": {},
   "source": [
    "### ZIP code points"
   ]
  },
  {
   "cell_type": "code",
   "execution_count": 74,
   "metadata": {},
   "outputs": [],
   "source": [
    "zips_point = gpd.read_file('/Users/mhustiles/data/data/GIS/zipcodes.geojson')"
   ]
  },
  {
   "cell_type": "code",
   "execution_count": 75,
   "metadata": {},
   "outputs": [],
   "source": [
    "zips_point['zip'] = zips_point['zip'].astype(str)"
   ]
  },
  {
   "cell_type": "code",
   "execution_count": 76,
   "metadata": {},
   "outputs": [],
   "source": [
    "ca_zips_point = zips_point[zips_point['state'] == 'CA']"
   ]
  },
  {
   "cell_type": "markdown",
   "metadata": {},
   "source": [
    "### ZIP code boundaries"
   ]
  },
  {
   "cell_type": "code",
   "execution_count": 77,
   "metadata": {},
   "outputs": [],
   "source": [
    "zips_poly = gpd.read_file('/Users/mhustiles/data/data/GIS/californiazips.geojson')"
   ]
  },
  {
   "cell_type": "code",
   "execution_count": 78,
   "metadata": {},
   "outputs": [
    {
     "data": {
      "text/plain": [
       "<matplotlib.axes._subplots.AxesSubplot at 0x138327048>"
      ]
     },
     "execution_count": 78,
     "metadata": {},
     "output_type": "execute_result"
    },
    {
     "data": {
      "image/png": "[encoded data removed]",
      "text/plain": [
       "<Figure size 432x288 with 1 Axes>"
      ]
     },
     "metadata": {
      "needs_background": "light"
     },
     "output_type": "display_data"
    }
   ],
   "source": [
    "zips_poly.plot()"
   ]
  },
  {
   "cell_type": "code",
   "execution_count": 79,
   "metadata": {},
   "outputs": [],
   "source": [
    "zips_poly.rename(columns={\"ZCTA5CE10\": \"zip\"}, inplace=True)"
   ]
  },
  {
   "cell_type": "markdown",
   "metadata": {},
   "source": [
    "### Merge with pivoted zip totals"
   ]
  },
  {
   "cell_type": "code",
   "execution_count": 80,
   "metadata": {},
   "outputs": [],
   "source": [
    "ca_zips_poly_merged =  zips_poly.merge(sum_by_zip, on='zip')"
   ]
  },
  {
   "cell_type": "code",
   "execution_count": 81,
   "metadata": {
    "scrolled": true
   },
   "outputs": [
    {
     "data": {
      "text/plain": [
       "<matplotlib.axes._subplots.AxesSubplot at 0x1383fada0>"
      ]
     },
     "execution_count": 81,
     "metadata": {},
     "output_type": "execute_result"
    },
    {
     "data": {
      "image/png": "[encoded data removed]",
      "text/plain": [
       "<Figure size 432x288 with 1 Axes>"
      ]
     },
     "metadata": {
      "needs_background": "light"
     },
     "output_type": "display_data"
    }
   ],
   "source": [
    "ca_zips_poly_merged.plot()"
   ]
  },
  {
   "cell_type": "code",
   "execution_count": 82,
   "metadata": {
    "scrolled": true
   },
   "outputs": [
    {
     "data": {
      "text/plain": [
       "zip                                                                     94118\n",
       "INTPTLAT10                                                        +37.7800933\n",
       "INTPTLON10                                                       -122.4626054\n",
       "geometry                    (POLYGON ((-122.470081 37.787399, -122.467989 ...\n",
       "battery_electric                                                          302\n",
       "diesel_and_diesel_hybrid                                                  230\n",
       "flex_fuel                                                                 218\n",
       "gasoline                                                                12561\n",
       "hybrid_gasoline                                                          1701\n",
       "other                                                                       7\n",
       "plug_in_hybrid                                                            200\n",
       "total                                                                   15219\n",
       "winner                                                        Hybrid gasoline\n",
       "altshare                                                                17.00\n",
       "Name: 0, dtype: object"
      ]
     },
     "execution_count": 82,
     "metadata": {},
     "output_type": "execute_result"
    }
   ],
   "source": [
    "ca_zips_poly_merged.loc[0]"
   ]
  },
  {
   "cell_type": "markdown",
   "metadata": {},
   "source": [
    "### Export merged polygon geodataframe as GeoJSON"
   ]
  },
  {
   "cell_type": "code",
   "execution_count": 83,
   "metadata": {},
   "outputs": [],
   "source": [
    "ca_zips_poly_merged.to_file('/Users/mhustiles/data/github/notebooks/\\\n",
    "california-fuel-vehicles/output/ca_zips_poly_merged.geojson', driver='GeoJSON')"
   ]
  },
  {
   "cell_type": "markdown",
   "metadata": {},
   "source": [
    "### Merge with Tesla totals"
   ]
  },
  {
   "cell_type": "code",
   "execution_count": 96,
   "metadata": {},
   "outputs": [],
   "source": [
    "teslas_poly_merged =  zips_poly.merge(tesla_zips, on='zip')"
   ]
  },
  {
   "cell_type": "code",
   "execution_count": 97,
   "metadata": {
    "scrolled": true
   },
   "outputs": [
    {
     "data": {
      "text/plain": [
       "<matplotlib.axes._subplots.AxesSubplot at 0x138f65c88>"
      ]
     },
     "execution_count": 97,
     "metadata": {},
     "output_type": "execute_result"
    },
    {
     "data": {
      "image/png": "[encoded data removed]",
      "text/plain": [
       "<Figure size 432x288 with 1 Axes>"
      ]
     },
     "metadata": {
      "needs_background": "light"
     },
     "output_type": "display_data"
    }
   ],
   "source": [
    "teslas_poly_merged.plot()"
   ]
  },
  {
   "cell_type": "code",
   "execution_count": 98,
   "metadata": {
    "scrolled": true
   },
   "outputs": [
    {
     "data": {
      "text/plain": [
       "zip                                                         94118\n",
       "INTPTLAT10                                            +37.7800933\n",
       "INTPTLON10                                           -122.4626054\n",
       "geometry        (POLYGON ((-122.470081 37.787399, -122.467989 ...\n",
       "teslas                                                        171\n",
       "geoid                                                       94118\n",
       "income                                                 102,021.00\n",
       "zcta                                                        94118\n",
       "all_vehicles                                                15219\n",
       "tesla_rate                                                  11.24\n",
       "Name: 0, dtype: object"
      ]
     },
     "execution_count": 98,
     "metadata": {},
     "output_type": "execute_result"
    }
   ],
   "source": [
    "teslas_poly_merged.loc[0]"
   ]
  },
  {
   "cell_type": "markdown",
   "metadata": {},
   "source": [
    "### Export merged polygon geodataframe as GeoJSON"
   ]
  },
  {
   "cell_type": "code",
   "execution_count": 99,
   "metadata": {},
   "outputs": [],
   "source": [
    "teslas_poly_merged.to_file('output/teslas_poly_merged.geojson', driver='GeoJSON')"
   ]
  },
  {
   "cell_type": "markdown",
   "metadata": {},
   "source": [
    "### Merge ZIP points with Tesla totals"
   ]
  },
  {
   "cell_type": "code",
   "execution_count": 90,
   "metadata": {},
   "outputs": [],
   "source": [
    "teslas_poimt_merged = ca_zips_point.merge(tesla_zips, on='zip')"
   ]
  },
  {
   "cell_type": "code",
   "execution_count": 91,
   "metadata": {},
   "outputs": [
    {
     "data": {
      "text/html": [
       "<div>\n",
       "<style scoped>\n",
       "    .dataframe tbody tr th:only-of-type {\n",
       "        vertical-align: middle;\n",
       "    }\n",
       "\n",
       "    .dataframe tbody tr th {\n",
       "        vertical-align: top;\n",
       "    }\n",
       "\n",
       "    .dataframe thead th {\n",
       "        text-align: right;\n",
       "    }\n",
       "</style>\n",
       "<table border=\"1\" class=\"dataframe\">\n",
       "  <thead>\n",
       "    <tr style=\"text-align: right;\">\n",
       "      <th></th>\n",
       "      <th>zip</th>\n",
       "      <th>city</th>\n",
       "      <th>state</th>\n",
       "      <th>geometry</th>\n",
       "      <th>teslas</th>\n",
       "      <th>geoid</th>\n",
       "      <th>income</th>\n",
       "      <th>zcta</th>\n",
       "      <th>all_vehicles</th>\n",
       "      <th>tesla_rate</th>\n",
       "    </tr>\n",
       "  </thead>\n",
       "  <tbody>\n",
       "    <tr>\n",
       "      <th>0</th>\n",
       "      <td>90004</td>\n",
       "      <td>Los Angeles</td>\n",
       "      <td>CA</td>\n",
       "      <td>POINT (-118.31 34.07)</td>\n",
       "      <td>97</td>\n",
       "      <td>90004</td>\n",
       "      <td>46,581.00</td>\n",
       "      <td>90004</td>\n",
       "      <td>23041</td>\n",
       "      <td>4.21</td>\n",
       "    </tr>\n",
       "    <tr>\n",
       "      <th>1</th>\n",
       "      <td>90005</td>\n",
       "      <td>Los Angeles</td>\n",
       "      <td>CA</td>\n",
       "      <td>POINT (-118.31 34.05)</td>\n",
       "      <td>16</td>\n",
       "      <td>90005</td>\n",
       "      <td>32,461.00</td>\n",
       "      <td>90005</td>\n",
       "      <td>12436</td>\n",
       "      <td>1.29</td>\n",
       "    </tr>\n",
       "    <tr>\n",
       "      <th>2</th>\n",
       "      <td>90008</td>\n",
       "      <td>Los Angeles</td>\n",
       "      <td>CA</td>\n",
       "      <td>POINT (-118.34 34)</td>\n",
       "      <td>30</td>\n",
       "      <td>90008</td>\n",
       "      <td>36,641.00</td>\n",
       "      <td>90008</td>\n",
       "      <td>12335</td>\n",
       "      <td>2.43</td>\n",
       "    </tr>\n",
       "    <tr>\n",
       "      <th>3</th>\n",
       "      <td>90010</td>\n",
       "      <td>Los Angeles</td>\n",
       "      <td>CA</td>\n",
       "      <td>POINT (-118.31 34.06)</td>\n",
       "      <td>46</td>\n",
       "      <td>90010</td>\n",
       "      <td>47,115.00</td>\n",
       "      <td>90010</td>\n",
       "      <td>6122</td>\n",
       "      <td>7.51</td>\n",
       "    </tr>\n",
       "    <tr>\n",
       "      <th>4</th>\n",
       "      <td>90012</td>\n",
       "      <td>Los Angeles</td>\n",
       "      <td>CA</td>\n",
       "      <td>POINT (-118.24 34.06)</td>\n",
       "      <td>57</td>\n",
       "      <td>90012</td>\n",
       "      <td>38,786.00</td>\n",
       "      <td>90012</td>\n",
       "      <td>23326</td>\n",
       "      <td>2.44</td>\n",
       "    </tr>\n",
       "  </tbody>\n",
       "</table>\n",
       "</div>"
      ],
      "text/plain": [
       "     zip         city state               geometry  teslas  geoid    income  \\\n",
       "0  90004  Los Angeles    CA  POINT (-118.31 34.07)      97  90004 46,581.00   \n",
       "1  90005  Los Angeles    CA  POINT (-118.31 34.05)      16  90005 32,461.00   \n",
       "2  90008  Los Angeles    CA     POINT (-118.34 34)      30  90008 36,641.00   \n",
       "3  90010  Los Angeles    CA  POINT (-118.31 34.06)      46  90010 47,115.00   \n",
       "4  90012  Los Angeles    CA  POINT (-118.24 34.06)      57  90012 38,786.00   \n",
       "\n",
       "    zcta  all_vehicles  tesla_rate  \n",
       "0  90004         23041        4.21  \n",
       "1  90005         12436        1.29  \n",
       "2  90008         12335        2.43  \n",
       "3  90010          6122        7.51  \n",
       "4  90012         23326        2.44  "
      ]
     },
     "execution_count": 91,
     "metadata": {},
     "output_type": "execute_result"
    }
   ],
   "source": [
    "teslas_poimt_merged.head()"
   ]
  },
  {
   "cell_type": "code",
   "execution_count": 92,
   "metadata": {},
   "outputs": [],
   "source": [
    "teslas_poimt_merged.to_file('output/teslas_poimt_merged.geojson', driver='GeoJSON')"
   ]
  },
  {
   "cell_type": "markdown",
   "metadata": {},
   "source": [
    "### Merge ZIP points with all vehicle totals"
   ]
  },
  {
   "cell_type": "code",
   "execution_count": 84,
   "metadata": {},
   "outputs": [],
   "source": [
    "ca_zips_point_merged = ca_zips_point.merge(sum_by_zip, on='zip')"
   ]
  },
  {
   "cell_type": "code",
   "execution_count": 85,
   "metadata": {},
   "outputs": [
    {
     "data": {
      "text/plain": [
       "<matplotlib.axes._subplots.AxesSubplot at 0x1384260b8>"
      ]
     },
     "execution_count": 85,
     "metadata": {},
     "output_type": "execute_result"
    },
    {
     "data": {
      "image/png": "[encoded data removed]",
      "text/plain": [
       "<Figure size 432x288 with 1 Axes>"
      ]
     },
     "metadata": {
      "needs_background": "light"
     },
     "output_type": "display_data"
    }
   ],
   "source": [
    "ca_zips_point_merged.plot()"
   ]
  },
  {
   "cell_type": "markdown",
   "metadata": {},
   "source": [
    "### Export merged points geodataframe as GeoJSON"
   ]
  },
  {
   "cell_type": "code",
   "execution_count": 86,
   "metadata": {},
   "outputs": [
    {
     "data": {
      "text/html": [
       "<div>\n",
       "<style scoped>\n",
       "    .dataframe tbody tr th:only-of-type {\n",
       "        vertical-align: middle;\n",
       "    }\n",
       "\n",
       "    .dataframe tbody tr th {\n",
       "        vertical-align: top;\n",
       "    }\n",
       "\n",
       "    .dataframe thead th {\n",
       "        text-align: right;\n",
       "    }\n",
       "</style>\n",
       "<table border=\"1\" class=\"dataframe\">\n",
       "  <thead>\n",
       "    <tr style=\"text-align: right;\">\n",
       "      <th></th>\n",
       "      <th>zip</th>\n",
       "      <th>city</th>\n",
       "      <th>state</th>\n",
       "      <th>geometry</th>\n",
       "      <th>battery_electric</th>\n",
       "      <th>diesel_and_diesel_hybrid</th>\n",
       "      <th>flex_fuel</th>\n",
       "      <th>gasoline</th>\n",
       "      <th>hybrid_gasoline</th>\n",
       "      <th>other</th>\n",
       "      <th>plug_in_hybrid</th>\n",
       "      <th>total</th>\n",
       "      <th>winner</th>\n",
       "      <th>altshare</th>\n",
       "    </tr>\n",
       "  </thead>\n",
       "  <tbody>\n",
       "    <tr>\n",
       "      <th>0</th>\n",
       "      <td>90001</td>\n",
       "      <td>Los Angeles</td>\n",
       "      <td>CA</td>\n",
       "      <td>POINT (-118.24 33.97)</td>\n",
       "      <td>10</td>\n",
       "      <td>508</td>\n",
       "      <td>820</td>\n",
       "      <td>15406</td>\n",
       "      <td>413</td>\n",
       "      <td>4</td>\n",
       "      <td>44</td>\n",
       "      <td>17205</td>\n",
       "      <td>Flex fuel</td>\n",
       "      <td>10.00</td>\n",
       "    </tr>\n",
       "  </tbody>\n",
       "</table>\n",
       "</div>"
      ],
      "text/plain": [
       "     zip         city state               geometry  battery_electric  \\\n",
       "0  90001  Los Angeles    CA  POINT (-118.24 33.97)                10   \n",
       "\n",
       "   diesel_and_diesel_hybrid  flex_fuel  gasoline  hybrid_gasoline  other  \\\n",
       "0                       508        820     15406              413      4   \n",
       "\n",
       "   plug_in_hybrid  total     winner  altshare  \n",
       "0              44  17205  Flex fuel     10.00  "
      ]
     },
     "execution_count": 86,
     "metadata": {},
     "output_type": "execute_result"
    }
   ],
   "source": [
    "ca_zips_point_merged.head(1)"
   ]
  },
  {
   "cell_type": "code",
   "execution_count": 87,
   "metadata": {},
   "outputs": [],
   "source": [
    "ca_zips_point_merged.to_file('/Users/mhustiles/data/data/fuel/ca_zips_point_merged.geojson', driver='GeoJSON')"
   ]
  },
  {
   "cell_type": "markdown",
   "metadata": {},
   "source": [
    "### Convert polygons to mbtiles for Mapbox. Export."
   ]
  },
  {
   "cell_type": "code",
   "execution_count": 88,
   "metadata": {},
   "outputs": [
    {
     "name": "stdout",
     "output_type": "stream",
     "text": [
      "For layer 0, using name \"ca_zips_poly_merged\"\n",
      "1760 features, 9361766 bytes of geometry, 60637 bytes of separate metadata, 83823 bytes of string pool\n",
      "  99.9%  13/1363/3242  \n"
     ]
    }
   ],
   "source": [
    "!tippecanoe --force -r1 -pk -pf -Z5 -z13 -o \\\n",
    "/Users/mhustiles/data/github/notebooks/california-fuel-vehicles/output/ca_zips_poly_merged.mbtiles \\\n",
    "/Users/mhustiles/data/github/notebooks/california-fuel-vehicles/output/ca_zips_poly_merged.geojson"
   ]
  },
  {
   "cell_type": "markdown",
   "metadata": {},
   "source": [
    "### Convert points to mbtiles for Mapbox. Export."
   ]
  },
  {
   "cell_type": "code",
   "execution_count": 89,
   "metadata": {},
   "outputs": [
    {
     "name": "stdout",
     "output_type": "stream",
     "text": [
      "For layer 0, using name \"ca_zips_point_merged\"\n",
      "2421 features, 156421 bytes of geometry, 16 bytes of separate metadata, 54720 bytes of string pool\n",
      "  99.9%  13/1322/3129  \n"
     ]
    }
   ],
   "source": [
    "!tippecanoe --force -r1 -pk -pf -Z5 -z13 -o \\\n",
    "/Users/mhustiles/data/github/notebooks/california-fuel-vehicles/output/ca_zips_point_merged.mbtiles \\\n",
    "/Users/mhustiles/data/github/notebooks/california-fuel-vehicles/output/ca_zips_point_merged.geojson"
   ]
  },
  {
   "cell_type": "markdown",
   "metadata": {},
   "source": [
    "---"
   ]
  },
  {
   "cell_type": "markdown",
   "metadata": {},
   "source": [
    "See related [Twitter thread](https://twitter.com/stiles/status/1193416749116358656)"
   ]
  }
 ],
 "metadata": {
  "kernelspec": {
   "display_name": "Python 3",
   "language": "python",
   "name": "python3"
  },
  "language_info": {
   "codemirror_mode": {
    "name": "ipython",
    "version": 3
   },
   "file_extension": ".py",
   "mimetype": "text/x-python",
   "name": "python",
   "nbconvert_exporter": "python",
   "pygments_lexer": "ipython3",
   "version": "3.7.3"
  }
 },
 "nbformat": 4,
 "nbformat_minor": 2
}
