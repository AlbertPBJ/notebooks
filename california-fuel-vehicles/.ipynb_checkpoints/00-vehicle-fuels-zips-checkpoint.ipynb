{
 "cells": [
  {
   "cell_type": "markdown",
   "metadata": {},
   "source": [
    "# California vehicle fuel type count by zip code"
   ]
  },
  {
   "cell_type": "markdown",
   "metadata": {},
   "source": [
    "### Load Python tools"
   ]
  },
  {
   "cell_type": "code",
   "execution_count": 1,
   "metadata": {},
   "outputs": [],
   "source": [
    "import pandas as pd\n",
    "import geopandas as gpd\n",
    "import pyarrow\n",
    "import matplotlib\n",
    "import matplotlib.pyplot as plt\n",
    "import geojson\n",
    "import json\n",
    "import jenkspy\n",
    "import numpy as np\n",
    "from earthpy import clip as cl\n",
    "from altair import datum\n",
    "import weightedcalcs as wc\n",
    "import altair as alt\n",
    "alt.renderers.enable('notebook')\n",
    "import altair_latimes as lat\n",
    "alt.themes.register('latimes', lat.theme)\n",
    "alt.themes.enable('latimes')\n",
    "pd.options.display.max_columns = 50\n",
    "pd.options.display.max_rows = 1000"
   ]
  },
  {
   "cell_type": "markdown",
   "metadata": {},
   "source": [
    "### Read data from California Department of Motor Vehicles - current as of October 2018"
   ]
  },
  {
   "cell_type": "code",
   "execution_count": 2,
   "metadata": {},
   "outputs": [],
   "source": [
    "#https://data.ca.gov/dataset/vehicle-fuel-type-count-by-zip-code\n",
    "src = pd.read_csv('https://data.ca.gov/dataset/15179472-adeb-4df6-920a-20640d02b08c/\\\n",
    "resource/d304108a-06c1-462f-a144-981dd0109900/\\\n",
    "download/vehicle-fuel-type-count-by-zip-code.csv', low_memory=False)"
   ]
  },
  {
   "cell_type": "code",
   "execution_count": 3,
   "metadata": {},
   "outputs": [
    {
     "data": {
      "text/html": [
       "<div>\n",
       "<style scoped>\n",
       "    .dataframe tbody tr th:only-of-type {\n",
       "        vertical-align: middle;\n",
       "    }\n",
       "\n",
       "    .dataframe tbody tr th {\n",
       "        vertical-align: top;\n",
       "    }\n",
       "\n",
       "    .dataframe thead th {\n",
       "        text-align: right;\n",
       "    }\n",
       "</style>\n",
       "<table border=\"1\" class=\"dataframe\">\n",
       "  <thead>\n",
       "    <tr style=\"text-align: right;\">\n",
       "      <th></th>\n",
       "      <th>Date</th>\n",
       "      <th>Zip Code</th>\n",
       "      <th>Model Year</th>\n",
       "      <th>Fuel</th>\n",
       "      <th>Make</th>\n",
       "      <th>Duty</th>\n",
       "      <th>Vehicles</th>\n",
       "    </tr>\n",
       "  </thead>\n",
       "  <tbody>\n",
       "    <tr>\n",
       "      <th>0</th>\n",
       "      <td>10/1/2018</td>\n",
       "      <td>90000</td>\n",
       "      <td>2006</td>\n",
       "      <td>Gasoline</td>\n",
       "      <td>OTHER/UNK</td>\n",
       "      <td>Light</td>\n",
       "      <td>1</td>\n",
       "    </tr>\n",
       "    <tr>\n",
       "      <th>1</th>\n",
       "      <td>10/1/2018</td>\n",
       "      <td>90000</td>\n",
       "      <td>2014</td>\n",
       "      <td>Gasoline</td>\n",
       "      <td>OTHER/UNK</td>\n",
       "      <td>Light</td>\n",
       "      <td>1</td>\n",
       "    </tr>\n",
       "    <tr>\n",
       "      <th>2</th>\n",
       "      <td>10/1/2018</td>\n",
       "      <td>90000</td>\n",
       "      <td>2016</td>\n",
       "      <td>Gasoline</td>\n",
       "      <td>OTHER/UNK</td>\n",
       "      <td>Light</td>\n",
       "      <td>1</td>\n",
       "    </tr>\n",
       "    <tr>\n",
       "      <th>3</th>\n",
       "      <td>10/1/2018</td>\n",
       "      <td>90000</td>\n",
       "      <td>2017</td>\n",
       "      <td>Gasoline</td>\n",
       "      <td>OTHER/UNK</td>\n",
       "      <td>Light</td>\n",
       "      <td>1</td>\n",
       "    </tr>\n",
       "    <tr>\n",
       "      <th>4</th>\n",
       "      <td>10/1/2018</td>\n",
       "      <td>90000</td>\n",
       "      <td>&lt;2006</td>\n",
       "      <td>Diesel and Diesel Hybrid</td>\n",
       "      <td>OTHER/UNK</td>\n",
       "      <td>Heavy</td>\n",
       "      <td>55</td>\n",
       "    </tr>\n",
       "  </tbody>\n",
       "</table>\n",
       "</div>"
      ],
      "text/plain": [
       "        Date Zip Code Model Year                      Fuel       Make   Duty  \\\n",
       "0  10/1/2018    90000       2006                  Gasoline  OTHER/UNK  Light   \n",
       "1  10/1/2018    90000       2014                  Gasoline  OTHER/UNK  Light   \n",
       "2  10/1/2018    90000       2016                  Gasoline  OTHER/UNK  Light   \n",
       "3  10/1/2018    90000       2017                  Gasoline  OTHER/UNK  Light   \n",
       "4  10/1/2018    90000      <2006  Diesel and Diesel Hybrid  OTHER/UNK  Heavy   \n",
       "\n",
       "   Vehicles  \n",
       "0         1  \n",
       "1         1  \n",
       "2         1  \n",
       "3         1  \n",
       "4        55  "
      ]
     },
     "execution_count": 3,
     "metadata": {},
     "output_type": "execute_result"
    }
   ],
   "source": [
    "src.head()"
   ]
  },
  {
   "cell_type": "markdown",
   "metadata": {},
   "source": [
    "### Clean up headers, field names"
   ]
  },
  {
   "cell_type": "code",
   "execution_count": 4,
   "metadata": {},
   "outputs": [],
   "source": [
    "src.columns = src.columns.str.strip().str.lower().str.replace(' ', '_')\\\n",
    "                    .str.replace('(', '').str.replace(')', '').str.replace('-','_')"
   ]
  },
  {
   "cell_type": "code",
   "execution_count": 5,
   "metadata": {},
   "outputs": [],
   "source": [
    "src.rename(columns={\"zip_code\": \"zip\"}, inplace=True)"
   ]
  },
  {
   "cell_type": "markdown",
   "metadata": {},
   "source": [
    "### How many vehicles are we talking about? "
   ]
  },
  {
   "cell_type": "code",
   "execution_count": 6,
   "metadata": {},
   "outputs": [
    {
     "data": {
      "text/plain": [
       "31137994"
      ]
     },
     "execution_count": 6,
     "metadata": {},
     "output_type": "execute_result"
    }
   ],
   "source": [
    "src.vehicles.sum()"
   ]
  },
  {
   "cell_type": "markdown",
   "metadata": {},
   "source": [
    "### Remove few 2019 models, older models and those listed as out of service"
   ]
  },
  {
   "cell_type": "code",
   "execution_count": 7,
   "metadata": {},
   "outputs": [],
   "source": [
    "src = src[(src['model_year'] != '2019') & (src['model_year'] != '<2006') & (src['zip'] != 'OOS')]"
   ]
  },
  {
   "cell_type": "markdown",
   "metadata": {},
   "source": [
    "### What's left?"
   ]
  },
  {
   "cell_type": "code",
   "execution_count": 8,
   "metadata": {},
   "outputs": [
    {
     "data": {
      "text/plain": [
       "19485599"
      ]
     },
     "execution_count": 8,
     "metadata": {},
     "output_type": "execute_result"
    }
   ],
   "source": [
    "src.vehicles.sum()"
   ]
  },
  {
   "cell_type": "markdown",
   "metadata": {},
   "source": [
    "### How many don't rely solely on gasoline?"
   ]
  },
  {
   "cell_type": "code",
   "execution_count": 9,
   "metadata": {},
   "outputs": [],
   "source": [
    "nongas = src[(src['fuel'] != 'Gasoline')]"
   ]
  },
  {
   "cell_type": "code",
   "execution_count": 10,
   "metadata": {},
   "outputs": [
    {
     "data": {
      "text/plain": [
       "3213912"
      ]
     },
     "execution_count": 10,
     "metadata": {},
     "output_type": "execute_result"
    }
   ],
   "source": [
    "nongas.vehicles.sum()"
   ]
  },
  {
   "cell_type": "markdown",
   "metadata": {},
   "source": [
    "### Group by make. Which are most common? "
   ]
  },
  {
   "cell_type": "code",
   "execution_count": 11,
   "metadata": {},
   "outputs": [],
   "source": [
    "make = src.groupby(['make']).agg('sum').reset_index()"
   ]
  },
  {
   "cell_type": "code",
   "execution_count": 12,
   "metadata": {},
   "outputs": [
    {
     "data": {
      "text/html": [
       "<div>\n",
       "<style scoped>\n",
       "    .dataframe tbody tr th:only-of-type {\n",
       "        vertical-align: middle;\n",
       "    }\n",
       "\n",
       "    .dataframe tbody tr th {\n",
       "        vertical-align: top;\n",
       "    }\n",
       "\n",
       "    .dataframe thead th {\n",
       "        text-align: right;\n",
       "    }\n",
       "</style>\n",
       "<table border=\"1\" class=\"dataframe\">\n",
       "  <thead>\n",
       "    <tr style=\"text-align: right;\">\n",
       "      <th></th>\n",
       "      <th>make</th>\n",
       "      <th>vehicles</th>\n",
       "    </tr>\n",
       "  </thead>\n",
       "  <tbody>\n",
       "    <tr>\n",
       "      <th>85</th>\n",
       "      <td>TOYOTA</td>\n",
       "      <td>3477549</td>\n",
       "    </tr>\n",
       "    <tr>\n",
       "      <th>66</th>\n",
       "      <td>OTHER/UNK</td>\n",
       "      <td>2547304</td>\n",
       "    </tr>\n",
       "    <tr>\n",
       "      <th>36</th>\n",
       "      <td>HONDA</td>\n",
       "      <td>2324083</td>\n",
       "    </tr>\n",
       "    <tr>\n",
       "      <th>28</th>\n",
       "      <td>FORD</td>\n",
       "      <td>1666619</td>\n",
       "    </tr>\n",
       "    <tr>\n",
       "      <th>16</th>\n",
       "      <td>CHEVROLET</td>\n",
       "      <td>1347288</td>\n",
       "    </tr>\n",
       "    <tr>\n",
       "      <th>63</th>\n",
       "      <td>NISSAN</td>\n",
       "      <td>1326031</td>\n",
       "    </tr>\n",
       "    <tr>\n",
       "      <th>11</th>\n",
       "      <td>BMW</td>\n",
       "      <td>597454</td>\n",
       "    </tr>\n",
       "    <tr>\n",
       "      <th>38</th>\n",
       "      <td>HYUNDAI</td>\n",
       "      <td>595488</td>\n",
       "    </tr>\n",
       "    <tr>\n",
       "      <th>50</th>\n",
       "      <td>LEXUS</td>\n",
       "      <td>593341</td>\n",
       "    </tr>\n",
       "    <tr>\n",
       "      <th>55</th>\n",
       "      <td>MERCEDES-BENZ</td>\n",
       "      <td>587839</td>\n",
       "    </tr>\n",
       "  </tbody>\n",
       "</table>\n",
       "</div>"
      ],
      "text/plain": [
       "             make  vehicles\n",
       "85         TOYOTA   3477549\n",
       "66      OTHER/UNK   2547304\n",
       "36          HONDA   2324083\n",
       "28           FORD   1666619\n",
       "16      CHEVROLET   1347288\n",
       "63         NISSAN   1326031\n",
       "11            BMW    597454\n",
       "38        HYUNDAI    595488\n",
       "50          LEXUS    593341\n",
       "55  MERCEDES-BENZ    587839"
      ]
     },
     "execution_count": 12,
     "metadata": {},
     "output_type": "execute_result"
    }
   ],
   "source": [
    "make.sort_values(by='vehicles', ascending=False).head(10)"
   ]
  },
  {
   "cell_type": "markdown",
   "metadata": {},
   "source": [
    "### Group by model year. Which years have the most vehicles? "
   ]
  },
  {
   "cell_type": "code",
   "execution_count": 13,
   "metadata": {},
   "outputs": [],
   "source": [
    "model_year = src.groupby(['model_year']).agg('sum').reset_index()"
   ]
  },
  {
   "cell_type": "code",
   "execution_count": 14,
   "metadata": {},
   "outputs": [
    {
     "data": {
      "text/html": [
       "<div>\n",
       "<style scoped>\n",
       "    .dataframe tbody tr th:only-of-type {\n",
       "        vertical-align: middle;\n",
       "    }\n",
       "\n",
       "    .dataframe tbody tr th {\n",
       "        vertical-align: top;\n",
       "    }\n",
       "\n",
       "    .dataframe thead th {\n",
       "        text-align: right;\n",
       "    }\n",
       "</style>\n",
       "<table border=\"1\" class=\"dataframe\">\n",
       "  <thead>\n",
       "    <tr style=\"text-align: right;\">\n",
       "      <th></th>\n",
       "      <th>model_year</th>\n",
       "      <th>vehicles</th>\n",
       "    </tr>\n",
       "  </thead>\n",
       "  <tbody>\n",
       "    <tr>\n",
       "      <th>12</th>\n",
       "      <td>2018</td>\n",
       "      <td>1572034</td>\n",
       "    </tr>\n",
       "    <tr>\n",
       "      <th>11</th>\n",
       "      <td>2017</td>\n",
       "      <td>2141868</td>\n",
       "    </tr>\n",
       "    <tr>\n",
       "      <th>10</th>\n",
       "      <td>2016</td>\n",
       "      <td>2072606</td>\n",
       "    </tr>\n",
       "    <tr>\n",
       "      <th>9</th>\n",
       "      <td>2015</td>\n",
       "      <td>2002628</td>\n",
       "    </tr>\n",
       "    <tr>\n",
       "      <th>8</th>\n",
       "      <td>2014</td>\n",
       "      <td>1677875</td>\n",
       "    </tr>\n",
       "    <tr>\n",
       "      <th>7</th>\n",
       "      <td>2013</td>\n",
       "      <td>1644620</td>\n",
       "    </tr>\n",
       "    <tr>\n",
       "      <th>6</th>\n",
       "      <td>2012</td>\n",
       "      <td>1354947</td>\n",
       "    </tr>\n",
       "    <tr>\n",
       "      <th>5</th>\n",
       "      <td>2011</td>\n",
       "      <td>1101920</td>\n",
       "    </tr>\n",
       "    <tr>\n",
       "      <th>4</th>\n",
       "      <td>2010</td>\n",
       "      <td>996703</td>\n",
       "    </tr>\n",
       "    <tr>\n",
       "      <th>3</th>\n",
       "      <td>2009</td>\n",
       "      <td>834319</td>\n",
       "    </tr>\n",
       "    <tr>\n",
       "      <th>2</th>\n",
       "      <td>2008</td>\n",
       "      <td>1220887</td>\n",
       "    </tr>\n",
       "    <tr>\n",
       "      <th>1</th>\n",
       "      <td>2007</td>\n",
       "      <td>1445939</td>\n",
       "    </tr>\n",
       "    <tr>\n",
       "      <th>0</th>\n",
       "      <td>2006</td>\n",
       "      <td>1419253</td>\n",
       "    </tr>\n",
       "  </tbody>\n",
       "</table>\n",
       "</div>"
      ],
      "text/plain": [
       "   model_year  vehicles\n",
       "12       2018   1572034\n",
       "11       2017   2141868\n",
       "10       2016   2072606\n",
       "9        2015   2002628\n",
       "8        2014   1677875\n",
       "7        2013   1644620\n",
       "6        2012   1354947\n",
       "5        2011   1101920\n",
       "4        2010    996703\n",
       "3        2009    834319\n",
       "2        2008   1220887\n",
       "1        2007   1445939\n",
       "0        2006   1419253"
      ]
     },
     "execution_count": 14,
     "metadata": {},
     "output_type": "execute_result"
    }
   ],
   "source": [
    "model_year.sort_values(by='model_year', ascending=False)"
   ]
  },
  {
   "cell_type": "markdown",
   "metadata": {},
   "source": [
    "### Which types of alternative fuel models are most common?"
   ]
  },
  {
   "cell_type": "code",
   "execution_count": 15,
   "metadata": {},
   "outputs": [],
   "source": [
    "fuel = nongas.groupby(['fuel']).agg('sum').reset_index()"
   ]
  },
  {
   "cell_type": "code",
   "execution_count": 16,
   "metadata": {},
   "outputs": [
    {
     "data": {
      "text/html": [
       "<div>\n",
       "<style scoped>\n",
       "    .dataframe tbody tr th:only-of-type {\n",
       "        vertical-align: middle;\n",
       "    }\n",
       "\n",
       "    .dataframe tbody tr th {\n",
       "        vertical-align: top;\n",
       "    }\n",
       "\n",
       "    .dataframe thead th {\n",
       "        text-align: right;\n",
       "    }\n",
       "</style>\n",
       "<table border=\"1\" class=\"dataframe\">\n",
       "  <thead>\n",
       "    <tr style=\"text-align: right;\">\n",
       "      <th></th>\n",
       "      <th>fuel</th>\n",
       "      <th>vehicles</th>\n",
       "    </tr>\n",
       "  </thead>\n",
       "  <tbody>\n",
       "    <tr>\n",
       "      <th>2</th>\n",
       "      <td>Flex-Fuel</td>\n",
       "      <td>1018550</td>\n",
       "    </tr>\n",
       "    <tr>\n",
       "      <th>3</th>\n",
       "      <td>Hybrid Gasoline</td>\n",
       "      <td>994696</td>\n",
       "    </tr>\n",
       "    <tr>\n",
       "      <th>1</th>\n",
       "      <td>Diesel and Diesel Hybrid</td>\n",
       "      <td>753609</td>\n",
       "    </tr>\n",
       "    <tr>\n",
       "      <th>0</th>\n",
       "      <td>Battery Electric</td>\n",
       "      <td>214671</td>\n",
       "    </tr>\n",
       "    <tr>\n",
       "      <th>7</th>\n",
       "      <td>Plug-in Hybrid</td>\n",
       "      <td>201969</td>\n",
       "    </tr>\n",
       "    <tr>\n",
       "      <th>5</th>\n",
       "      <td>Natural Gas</td>\n",
       "      <td>22968</td>\n",
       "    </tr>\n",
       "    <tr>\n",
       "      <th>4</th>\n",
       "      <td>Hydrogen Fuel Cell</td>\n",
       "      <td>5092</td>\n",
       "    </tr>\n",
       "    <tr>\n",
       "      <th>6</th>\n",
       "      <td>Other</td>\n",
       "      <td>2357</td>\n",
       "    </tr>\n",
       "  </tbody>\n",
       "</table>\n",
       "</div>"
      ],
      "text/plain": [
       "                       fuel  vehicles\n",
       "2                 Flex-Fuel   1018550\n",
       "3           Hybrid Gasoline    994696\n",
       "1  Diesel and Diesel Hybrid    753609\n",
       "0          Battery Electric    214671\n",
       "7            Plug-in Hybrid    201969\n",
       "5               Natural Gas     22968\n",
       "4        Hydrogen Fuel Cell      5092\n",
       "6                     Other      2357"
      ]
     },
     "execution_count": 16,
     "metadata": {},
     "output_type": "execute_result"
    }
   ],
   "source": [
    "fuel.sort_values(by='vehicles', ascending=False)"
   ]
  },
  {
   "cell_type": "markdown",
   "metadata": {},
   "source": [
    "### Chart the fuel type counts"
   ]
  },
  {
   "cell_type": "code",
   "execution_count": 17,
   "metadata": {},
   "outputs": [
    {
     "data": {
      "application/javascript": [
       "const spec = {\"config\": {\"view\": {\"width\": 800, \"height\": 450}, \"background\": \"#ffffff\", \"title\": {\"anchor\": \"start\", \"font\": \"Benton Gothic Bold, sans\", \"fontColor\": \"#000000\", \"fontSize\": 22, \"fontWeight\": \"normal\"}, \"arc\": {\"fill\": \"#82c6df\"}, \"area\": {\"fill\": \"#82c6df\"}, \"line\": {\"stroke\": \"#82c6df\", \"strokeWidth\": 3}, \"path\": {\"stroke\": \"#82c6df\"}, \"rect\": {\"fill\": \"#82c6df\"}, \"shape\": {\"stroke\": \"#82c6df\"}, \"bar\": {\"fill\": \"#82c6df\"}, \"point\": {\"stroke\": \"#82c6df\"}, \"symbol\": {\"fill\": \"#82c6df\", \"size\": 30}, \"axis\": {\"titleFont\": \"Benton Gothic Bold, sans\", \"titleFontSize\": 13, \"titleFontWeight\": \"normal\", \"labelFont\": \"Benton Gothic, sans\", \"labelFontSize\": 11.5, \"labelFontWeight\": \"normal\"}, \"axisX\": {\"labelAngle\": 0, \"labelPadding\": 4, \"tickSize\": 3}, \"axisY\": {\"labelBaseline\": \"middle\", \"maxExtent\": 45, \"minExtent\": 45, \"tickSize\": 2, \"titleAlign\": \"left\", \"titleAngle\": 0, \"titleX\": -45, \"titleY\": -11}, \"legend\": {\"titleFont\": \"Benton Gothic Bold, sans\", \"titleFontSize\": 13, \"titleFontWeight\": \"normal\", \"symbolType\": \"square\", \"labelFont\": \"Benton Gothic, sans\", \"labelFontSize\": 11.5}, \"range\": {\"category\": [\"#3580b1\", \"#ec8431\", \"#ab7fb4\", \"#c89d29\", \"#adc839\", \"#829eb1\"], \"diverging\": [\"#e68a4f\", \"#f4bb6a\", \"#f9e39c\", \"#dadfe2\", \"#a6b7c6\", \"#849eae\"], \"heatmap\": [\"#fbf2c7\", \"#f9e39c\", \"#f8d36e\", \"#f4bb6a\", \"#e68a4f\", \"#d15a40\", \"#ab4232\"], \"ordinal\": [\"#fbf2c7\", \"#f9e39c\", \"#f8d36e\", \"#f4bb6a\", \"#e68a4f\", \"#d15a40\", \"#ab4232\"], \"ramp\": [\"#fbf2c7\", \"#f9e39c\", \"#f8d36e\", \"#f4bb6a\", \"#e68a4f\", \"#d15a40\", \"#ab4232\"]}}, \"layer\": [{\"mark\": \"bar\", \"encoding\": {\"x\": {\"type\": \"quantitative\", \"aggregate\": \"sum\", \"axis\": {\"format\": \"\", \"tickCount\": 5}, \"field\": \"vehicles\", \"title\": \"Vehicles\"}, \"y\": {\"type\": \"nominal\", \"axis\": {\"format\": \"\", \"tickCount\": 5}, \"field\": \"fuel\", \"sort\": {\"field\": \"vehicles\", \"op\": \"sum\", \"order\": \"descending\"}, \"title\": \" \"}}}, {\"mark\": {\"type\": \"text\", \"align\": \"left\", \"baseline\": \"middle\", \"dx\": 3}, \"encoding\": {\"text\": {\"type\": \"quantitative\", \"aggregate\": \"sum\", \"field\": \"vehicles\", \"format\": \",\"}, \"x\": {\"type\": \"quantitative\", \"aggregate\": \"sum\", \"axis\": {\"format\": \"\", \"tickCount\": 5}, \"field\": \"vehicles\", \"title\": \"Vehicles\"}, \"y\": {\"type\": \"nominal\", \"axis\": {\"format\": \"\", \"tickCount\": 5}, \"field\": \"fuel\", \"sort\": {\"field\": \"vehicles\", \"op\": \"sum\", \"order\": \"descending\"}, \"title\": \" \"}}}], \"data\": {\"name\": \"data-668c9ba3e685720468d6ae70f429af49\"}, \"height\": 400, \"title\": \"CA alternative fuel vehicles by type\", \"width\": 500, \"$schema\": \"https://vega.github.io/schema/vega-lite/v3.4.0.json\", \"datasets\": {\"data-668c9ba3e685720468d6ae70f429af49\": [{\"fuel\": \"Battery Electric\", \"vehicles\": 214671}, {\"fuel\": \"Diesel and Diesel Hybrid\", \"vehicles\": 753609}, {\"fuel\": \"Flex-Fuel\", \"vehicles\": 1018550}, {\"fuel\": \"Hybrid Gasoline\", \"vehicles\": 994696}, {\"fuel\": \"Hydrogen Fuel Cell\", \"vehicles\": 5092}, {\"fuel\": \"Natural Gas\", \"vehicles\": 22968}, {\"fuel\": \"Other\", \"vehicles\": 2357}, {\"fuel\": \"Plug-in Hybrid\", \"vehicles\": 201969}]}};\n",
       "const opt = {};\n",
       "const type = \"vega-lite\";\n",
       "const id = \"ae863346-671f-47fd-a246-f8ba3dd6e54c\";\n",
       "\n",
       "const output_area = this;\n",
       "\n",
       "require([\"nbextensions/jupyter-vega/index\"], function(vega) {\n",
       "  const target = document.createElement(\"div\");\n",
       "  target.id = id;\n",
       "  target.className = \"vega-embed\";\n",
       "\n",
       "  const style = document.createElement(\"style\");\n",
       "  style.textContent = [\n",
       "    \".vega-embed .error p {\",\n",
       "    \"  color: firebrick;\",\n",
       "    \"  font-size: 14px;\",\n",
       "    \"}\",\n",
       "  ].join(\"\\\\n\");\n",
       "\n",
       "  // element is a jQuery wrapped DOM element inside the output area\n",
       "  // see http://ipython.readthedocs.io/en/stable/api/generated/\\\n",
       "  // IPython.display.html#IPython.display.Javascript.__init__\n",
       "  element[0].appendChild(target);\n",
       "  element[0].appendChild(style);\n",
       "\n",
       "  vega.render(\"#\" + id, spec, type, opt, output_area);\n",
       "}, function (err) {\n",
       "  if (err.requireType !== \"scripterror\") {\n",
       "    throw(err);\n",
       "  }\n",
       "});\n"
      ],
      "text/plain": [
       "<vega.vegalite.VegaLite at 0x12c007ba8>"
      ]
     },
     "metadata": {
      "jupyter-vega": "#ae863346-671f-47fd-a246-f8ba3dd6e54c"
     },
     "output_type": "display_data"
    },
    {
     "data": {
      "text/plain": []
     },
     "execution_count": 17,
     "metadata": {},
     "output_type": "execute_result"
    },
    {
     "data": {
      "image/png": "[encoded data removed]"
     },
     "metadata": {
      "jupyter-vega": "#ae863346-671f-47fd-a246-f8ba3dd6e54c"
     },
     "output_type": "display_data"
    }
   ],
   "source": [
    "chart_fuels = alt.Chart(fuel).mark_bar().encode(\n",
    "    y=alt.Y('fuel:N', title=' ',\n",
    "        sort=alt.EncodingSortField(\n",
    "            field=\"vehicles\",  # The field to use for the sort\n",
    "            op=\"sum\",  # The operation to run on the field prior to sorting\n",
    "            order=\"descending\"  # The order to sort in\n",
    "        ), axis=alt.Axis(format='', tickCount=5)),\n",
    "    x=alt.X(\"sum(vehicles):Q\", title=\"Vehicles\", axis=alt.Axis(format='', tickCount=5))\n",
    ")\n",
    "\n",
    "chart_fuels_text = chart_fuels.mark_text(\n",
    "    align='left',\n",
    "    baseline='middle',\n",
    "    dx=3  # Nudges text to right so it doesn't appear on top of the bar\n",
    ").encode(text=alt.Text('sum(vehicles)', format=',')\n",
    ")\n",
    "\n",
    "\n",
    "(chart_fuels + chart_fuels_text)\\\n",
    ".properties(height=400, width=500, title='CA alternative fuel vehicles by type')"
   ]
  },
  {
   "cell_type": "markdown",
   "metadata": {},
   "source": [
    "--- "
   ]
  },
  {
   "cell_type": "markdown",
   "metadata": {},
   "source": [
    "## Where are these vehicles?"
   ]
  },
  {
   "cell_type": "code",
   "execution_count": 18,
   "metadata": {},
   "outputs": [],
   "source": [
    "zip_code = src.groupby(['zip']).agg('sum').reset_index()"
   ]
  },
  {
   "cell_type": "code",
   "execution_count": 19,
   "metadata": {},
   "outputs": [],
   "source": [
    "zip_code_nongas = nongas.groupby(['zip']).agg('sum').reset_index()"
   ]
  },
  {
   "cell_type": "markdown",
   "metadata": {},
   "source": [
    "### Which ZIP codes have the most alternative fuel vehicles? (Airport areas, it seems)"
   ]
  },
  {
   "cell_type": "code",
   "execution_count": 20,
   "metadata": {},
   "outputs": [
    {
     "data": {
      "text/html": [
       "<div>\n",
       "<style scoped>\n",
       "    .dataframe tbody tr th:only-of-type {\n",
       "        vertical-align: middle;\n",
       "    }\n",
       "\n",
       "    .dataframe tbody tr th {\n",
       "        vertical-align: top;\n",
       "    }\n",
       "\n",
       "    .dataframe thead th {\n",
       "        text-align: right;\n",
       "    }\n",
       "</style>\n",
       "<table border=\"1\" class=\"dataframe\">\n",
       "  <thead>\n",
       "    <tr style=\"text-align: right;\">\n",
       "      <th></th>\n",
       "      <th>zip</th>\n",
       "      <th>vehicles</th>\n",
       "    </tr>\n",
       "  </thead>\n",
       "  <tbody>\n",
       "    <tr>\n",
       "      <th>44</th>\n",
       "      <td>90045</td>\n",
       "      <td>18010</td>\n",
       "    </tr>\n",
       "    <tr>\n",
       "      <th>1476</th>\n",
       "      <td>94080</td>\n",
       "      <td>10747</td>\n",
       "    </tr>\n",
       "    <tr>\n",
       "      <th>904</th>\n",
       "      <td>92626</td>\n",
       "      <td>10514</td>\n",
       "    </tr>\n",
       "    <tr>\n",
       "      <th>1017</th>\n",
       "      <td>92868</td>\n",
       "      <td>9989</td>\n",
       "    </tr>\n",
       "    <tr>\n",
       "      <th>11</th>\n",
       "      <td>90012</td>\n",
       "      <td>9493</td>\n",
       "    </tr>\n",
       "    <tr>\n",
       "      <th>1170</th>\n",
       "      <td>93308</td>\n",
       "      <td>9377</td>\n",
       "    </tr>\n",
       "    <tr>\n",
       "      <th>756</th>\n",
       "      <td>92335</td>\n",
       "      <td>8906</td>\n",
       "    </tr>\n",
       "    <tr>\n",
       "      <th>1438</th>\n",
       "      <td>94010</td>\n",
       "      <td>8822</td>\n",
       "    </tr>\n",
       "    <tr>\n",
       "      <th>417</th>\n",
       "      <td>91710</td>\n",
       "      <td>8724</td>\n",
       "    </tr>\n",
       "    <tr>\n",
       "      <th>592</th>\n",
       "      <td>92101</td>\n",
       "      <td>8457</td>\n",
       "    </tr>\n",
       "  </tbody>\n",
       "</table>\n",
       "</div>"
      ],
      "text/plain": [
       "        zip  vehicles\n",
       "44    90045     18010\n",
       "1476  94080     10747\n",
       "904   92626     10514\n",
       "1017  92868      9989\n",
       "11    90012      9493\n",
       "1170  93308      9377\n",
       "756   92335      8906\n",
       "1438  94010      8822\n",
       "417   91710      8724\n",
       "592   92101      8457"
      ]
     },
     "execution_count": 20,
     "metadata": {},
     "output_type": "execute_result"
    }
   ],
   "source": [
    "zip_code_nongas.sort_values(by='vehicles',\\\n",
    "    ascending=False).head(10)"
   ]
  },
  {
   "cell_type": "markdown",
   "metadata": {},
   "source": [
    "### Pivot on ZIP code and widen out the dataframe to count vehicle types across them"
   ]
  },
  {
   "cell_type": "code",
   "execution_count": 21,
   "metadata": {},
   "outputs": [],
   "source": [
    "sum_by_zip = pd.pivot_table(src, values='vehicles', \\\n",
    "                            index=['zip'], columns=['fuel'], aggfunc=np.sum, fill_value=0).reset_index()\n",
    "\n",
    "sum_by_zip.columns = sum_by_zip.columns.str.strip().str.lower().str.replace(' ', '_')\\\n",
    "                    .str.replace('(', '').str.replace(')', '').str.replace('-','_')"
   ]
  },
  {
   "cell_type": "markdown",
   "metadata": {},
   "source": [
    "### Which type is most common in each ZIP code? "
   ]
  },
  {
   "cell_type": "code",
   "execution_count": 22,
   "metadata": {},
   "outputs": [],
   "source": [
    "sum_by_zip[\"total\"] = sum_by_zip.sum(axis=1)"
   ]
  },
  {
   "cell_type": "code",
   "execution_count": 23,
   "metadata": {},
   "outputs": [
    {
     "data": {
      "text/html": [
       "<div>\n",
       "<style scoped>\n",
       "    .dataframe tbody tr th:only-of-type {\n",
       "        vertical-align: middle;\n",
       "    }\n",
       "\n",
       "    .dataframe tbody tr th {\n",
       "        vertical-align: top;\n",
       "    }\n",
       "\n",
       "    .dataframe thead th {\n",
       "        text-align: right;\n",
       "    }\n",
       "</style>\n",
       "<table border=\"1\" class=\"dataframe\">\n",
       "  <thead>\n",
       "    <tr style=\"text-align: right;\">\n",
       "      <th>fuel</th>\n",
       "      <th>zip</th>\n",
       "      <th>battery_electric</th>\n",
       "      <th>diesel_and_diesel_hybrid</th>\n",
       "      <th>flex_fuel</th>\n",
       "      <th>gasoline</th>\n",
       "      <th>hybrid_gasoline</th>\n",
       "      <th>hydrogen_fuel_cell</th>\n",
       "      <th>natural_gas</th>\n",
       "      <th>other</th>\n",
       "      <th>plug_in_hybrid</th>\n",
       "      <th>total</th>\n",
       "    </tr>\n",
       "  </thead>\n",
       "  <tbody>\n",
       "    <tr>\n",
       "      <th>45</th>\n",
       "      <td>90045</td>\n",
       "      <td>420</td>\n",
       "      <td>605</td>\n",
       "      <td>11978</td>\n",
       "      <td>109120</td>\n",
       "      <td>4466</td>\n",
       "      <td>19</td>\n",
       "      <td>138</td>\n",
       "      <td>0</td>\n",
       "      <td>384</td>\n",
       "      <td>127130</td>\n",
       "    </tr>\n",
       "    <tr>\n",
       "      <th>1520</th>\n",
       "      <td>94080</td>\n",
       "      <td>307</td>\n",
       "      <td>1519</td>\n",
       "      <td>3761</td>\n",
       "      <td>92399</td>\n",
       "      <td>4872</td>\n",
       "      <td>9</td>\n",
       "      <td>38</td>\n",
       "      <td>2</td>\n",
       "      <td>239</td>\n",
       "      <td>103146</td>\n",
       "    </tr>\n",
       "    <tr>\n",
       "      <th>782</th>\n",
       "      <td>92336</td>\n",
       "      <td>180</td>\n",
       "      <td>1706</td>\n",
       "      <td>2664</td>\n",
       "      <td>46467</td>\n",
       "      <td>1736</td>\n",
       "      <td>7</td>\n",
       "      <td>31</td>\n",
       "      <td>0</td>\n",
       "      <td>443</td>\n",
       "      <td>53234</td>\n",
       "    </tr>\n",
       "    <tr>\n",
       "      <th>660</th>\n",
       "      <td>92154</td>\n",
       "      <td>115</td>\n",
       "      <td>4196</td>\n",
       "      <td>2154</td>\n",
       "      <td>42291</td>\n",
       "      <td>1256</td>\n",
       "      <td>0</td>\n",
       "      <td>4</td>\n",
       "      <td>0</td>\n",
       "      <td>140</td>\n",
       "      <td>50156</td>\n",
       "    </tr>\n",
       "    <tr>\n",
       "      <th>426</th>\n",
       "      <td>91709</td>\n",
       "      <td>533</td>\n",
       "      <td>1139</td>\n",
       "      <td>1847</td>\n",
       "      <td>41681</td>\n",
       "      <td>2389</td>\n",
       "      <td>36</td>\n",
       "      <td>30</td>\n",
       "      <td>1</td>\n",
       "      <td>717</td>\n",
       "      <td>48373</td>\n",
       "    </tr>\n",
       "  </tbody>\n",
       "</table>\n",
       "</div>"
      ],
      "text/plain": [
       "fuel    zip  battery_electric  diesel_and_diesel_hybrid  flex_fuel  gasoline  \\\n",
       "45    90045               420                       605      11978    109120   \n",
       "1520  94080               307                      1519       3761     92399   \n",
       "782   92336               180                      1706       2664     46467   \n",
       "660   92154               115                      4196       2154     42291   \n",
       "426   91709               533                      1139       1847     41681   \n",
       "\n",
       "fuel  hybrid_gasoline  hydrogen_fuel_cell  natural_gas  other  plug_in_hybrid  \\\n",
       "45               4466                  19          138      0             384   \n",
       "1520             4872                   9           38      2             239   \n",
       "782              1736                   7           31      0             443   \n",
       "660              1256                   0            4      0             140   \n",
       "426              2389                  36           30      1             717   \n",
       "\n",
       "fuel   total  \n",
       "45    127130  \n",
       "1520  103146  \n",
       "782    53234  \n",
       "660    50156  \n",
       "426    48373  "
      ]
     },
     "execution_count": 23,
     "metadata": {},
     "output_type": "execute_result"
    }
   ],
   "source": [
    "sum_by_zip.sort_values(by='total', ascending=False).head(5)"
   ]
  },
  {
   "cell_type": "markdown",
   "metadata": {},
   "source": [
    "### Group the lesser-used fuel types into an 'other' category"
   ]
  },
  {
   "cell_type": "code",
   "execution_count": 24,
   "metadata": {},
   "outputs": [],
   "source": [
    "sum_by_zip['other'] = sum_by_zip.apply\\\n",
    "    (lambda x: x['hydrogen_fuel_cell'] + x['natural_gas'] + x['other'], axis=1)\n",
    "sum_by_zip.drop(['hydrogen_fuel_cell', 'natural_gas'], axis=1, inplace=True)\n",
    "sum_by_zip.drop([0], inplace=True)"
   ]
  },
  {
   "cell_type": "markdown",
   "metadata": {},
   "source": [
    "### Which non-gas vehicle is most popular — the 'winner' — in each zip?"
   ]
  },
  {
   "cell_type": "code",
   "execution_count": 25,
   "metadata": {},
   "outputs": [],
   "source": [
    "sum_by_zip['winner'] = \\\n",
    "sum_by_zip[['hybrid_gasoline','battery_electric','diesel_and_diesel_hybrid',\\\n",
    "                   'flex_fuel','plug_in_hybrid', 'other']].idxmax(axis=1)"
   ]
  },
  {
   "cell_type": "code",
   "execution_count": 26,
   "metadata": {},
   "outputs": [
    {
     "data": {
      "text/html": [
       "<div>\n",
       "<style scoped>\n",
       "    .dataframe tbody tr th:only-of-type {\n",
       "        vertical-align: middle;\n",
       "    }\n",
       "\n",
       "    .dataframe tbody tr th {\n",
       "        vertical-align: top;\n",
       "    }\n",
       "\n",
       "    .dataframe thead th {\n",
       "        text-align: right;\n",
       "    }\n",
       "</style>\n",
       "<table border=\"1\" class=\"dataframe\">\n",
       "  <thead>\n",
       "    <tr style=\"text-align: right;\">\n",
       "      <th>fuel</th>\n",
       "      <th>zip</th>\n",
       "      <th>battery_electric</th>\n",
       "      <th>diesel_and_diesel_hybrid</th>\n",
       "      <th>flex_fuel</th>\n",
       "      <th>gasoline</th>\n",
       "      <th>hybrid_gasoline</th>\n",
       "      <th>other</th>\n",
       "      <th>plug_in_hybrid</th>\n",
       "      <th>total</th>\n",
       "      <th>winner</th>\n",
       "    </tr>\n",
       "  </thead>\n",
       "  <tbody>\n",
       "    <tr>\n",
       "      <th>45</th>\n",
       "      <td>90045</td>\n",
       "      <td>420</td>\n",
       "      <td>605</td>\n",
       "      <td>11978</td>\n",
       "      <td>109120</td>\n",
       "      <td>4466</td>\n",
       "      <td>157</td>\n",
       "      <td>384</td>\n",
       "      <td>127130</td>\n",
       "      <td>flex_fuel</td>\n",
       "    </tr>\n",
       "    <tr>\n",
       "      <th>1520</th>\n",
       "      <td>94080</td>\n",
       "      <td>307</td>\n",
       "      <td>1519</td>\n",
       "      <td>3761</td>\n",
       "      <td>92399</td>\n",
       "      <td>4872</td>\n",
       "      <td>49</td>\n",
       "      <td>239</td>\n",
       "      <td>103146</td>\n",
       "      <td>hybrid_gasoline</td>\n",
       "    </tr>\n",
       "    <tr>\n",
       "      <th>782</th>\n",
       "      <td>92336</td>\n",
       "      <td>180</td>\n",
       "      <td>1706</td>\n",
       "      <td>2664</td>\n",
       "      <td>46467</td>\n",
       "      <td>1736</td>\n",
       "      <td>38</td>\n",
       "      <td>443</td>\n",
       "      <td>53234</td>\n",
       "      <td>flex_fuel</td>\n",
       "    </tr>\n",
       "    <tr>\n",
       "      <th>660</th>\n",
       "      <td>92154</td>\n",
       "      <td>115</td>\n",
       "      <td>4196</td>\n",
       "      <td>2154</td>\n",
       "      <td>42291</td>\n",
       "      <td>1256</td>\n",
       "      <td>4</td>\n",
       "      <td>140</td>\n",
       "      <td>50156</td>\n",
       "      <td>diesel_and_diesel_hybrid</td>\n",
       "    </tr>\n",
       "    <tr>\n",
       "      <th>426</th>\n",
       "      <td>91709</td>\n",
       "      <td>533</td>\n",
       "      <td>1139</td>\n",
       "      <td>1847</td>\n",
       "      <td>41681</td>\n",
       "      <td>2389</td>\n",
       "      <td>67</td>\n",
       "      <td>717</td>\n",
       "      <td>48373</td>\n",
       "      <td>hybrid_gasoline</td>\n",
       "    </tr>\n",
       "  </tbody>\n",
       "</table>\n",
       "</div>"
      ],
      "text/plain": [
       "fuel    zip  battery_electric  diesel_and_diesel_hybrid  flex_fuel  gasoline  \\\n",
       "45    90045               420                       605      11978    109120   \n",
       "1520  94080               307                      1519       3761     92399   \n",
       "782   92336               180                      1706       2664     46467   \n",
       "660   92154               115                      4196       2154     42291   \n",
       "426   91709               533                      1139       1847     41681   \n",
       "\n",
       "fuel  hybrid_gasoline  other  plug_in_hybrid   total                    winner  \n",
       "45               4466    157             384  127130                 flex_fuel  \n",
       "1520             4872     49             239  103146           hybrid_gasoline  \n",
       "782              1736     38             443   53234                 flex_fuel  \n",
       "660              1256      4             140   50156  diesel_and_diesel_hybrid  \n",
       "426              2389     67             717   48373           hybrid_gasoline  "
      ]
     },
     "execution_count": 26,
     "metadata": {},
     "output_type": "execute_result"
    }
   ],
   "source": [
    "sum_by_zip.sort_values(by='total', ascending=False).head(5)"
   ]
  },
  {
   "cell_type": "markdown",
   "metadata": {},
   "source": [
    "### De-slugify the 'winner' category"
   ]
  },
  {
   "cell_type": "code",
   "execution_count": 27,
   "metadata": {},
   "outputs": [],
   "source": [
    "sum_by_zip['winner'] = sum_by_zip['winner'].str.replace('_', ' ', regex=False).str.capitalize()"
   ]
  },
  {
   "cell_type": "code",
   "execution_count": 28,
   "metadata": {},
   "outputs": [
    {
     "data": {
      "text/html": [
       "<div>\n",
       "<style scoped>\n",
       "    .dataframe tbody tr th:only-of-type {\n",
       "        vertical-align: middle;\n",
       "    }\n",
       "\n",
       "    .dataframe tbody tr th {\n",
       "        vertical-align: top;\n",
       "    }\n",
       "\n",
       "    .dataframe thead th {\n",
       "        text-align: right;\n",
       "    }\n",
       "</style>\n",
       "<table border=\"1\" class=\"dataframe\">\n",
       "  <thead>\n",
       "    <tr style=\"text-align: right;\">\n",
       "      <th>fuel</th>\n",
       "      <th>zip</th>\n",
       "      <th>battery_electric</th>\n",
       "      <th>diesel_and_diesel_hybrid</th>\n",
       "      <th>flex_fuel</th>\n",
       "      <th>gasoline</th>\n",
       "      <th>hybrid_gasoline</th>\n",
       "      <th>other</th>\n",
       "      <th>plug_in_hybrid</th>\n",
       "      <th>total</th>\n",
       "      <th>winner</th>\n",
       "    </tr>\n",
       "  </thead>\n",
       "  <tbody>\n",
       "    <tr>\n",
       "      <th>1</th>\n",
       "      <td>90001</td>\n",
       "      <td>10</td>\n",
       "      <td>508</td>\n",
       "      <td>820</td>\n",
       "      <td>15406</td>\n",
       "      <td>413</td>\n",
       "      <td>4</td>\n",
       "      <td>44</td>\n",
       "      <td>17205</td>\n",
       "      <td>Flex fuel</td>\n",
       "    </tr>\n",
       "    <tr>\n",
       "      <th>2</th>\n",
       "      <td>90002</td>\n",
       "      <td>22</td>\n",
       "      <td>300</td>\n",
       "      <td>753</td>\n",
       "      <td>14110</td>\n",
       "      <td>386</td>\n",
       "      <td>2</td>\n",
       "      <td>27</td>\n",
       "      <td>15600</td>\n",
       "      <td>Flex fuel</td>\n",
       "    </tr>\n",
       "    <tr>\n",
       "      <th>3</th>\n",
       "      <td>90003</td>\n",
       "      <td>16</td>\n",
       "      <td>366</td>\n",
       "      <td>885</td>\n",
       "      <td>18507</td>\n",
       "      <td>522</td>\n",
       "      <td>10</td>\n",
       "      <td>39</td>\n",
       "      <td>20345</td>\n",
       "      <td>Flex fuel</td>\n",
       "    </tr>\n",
       "    <tr>\n",
       "      <th>4</th>\n",
       "      <td>90004</td>\n",
       "      <td>248</td>\n",
       "      <td>265</td>\n",
       "      <td>443</td>\n",
       "      <td>19940</td>\n",
       "      <td>1878</td>\n",
       "      <td>16</td>\n",
       "      <td>251</td>\n",
       "      <td>23041</td>\n",
       "      <td>Hybrid gasoline</td>\n",
       "    </tr>\n",
       "    <tr>\n",
       "      <th>5</th>\n",
       "      <td>90005</td>\n",
       "      <td>71</td>\n",
       "      <td>126</td>\n",
       "      <td>217</td>\n",
       "      <td>11052</td>\n",
       "      <td>857</td>\n",
       "      <td>8</td>\n",
       "      <td>105</td>\n",
       "      <td>12436</td>\n",
       "      <td>Hybrid gasoline</td>\n",
       "    </tr>\n",
       "  </tbody>\n",
       "</table>\n",
       "</div>"
      ],
      "text/plain": [
       "fuel    zip  battery_electric  diesel_and_diesel_hybrid  flex_fuel  gasoline  \\\n",
       "1     90001                10                       508        820     15406   \n",
       "2     90002                22                       300        753     14110   \n",
       "3     90003                16                       366        885     18507   \n",
       "4     90004               248                       265        443     19940   \n",
       "5     90005                71                       126        217     11052   \n",
       "\n",
       "fuel  hybrid_gasoline  other  plug_in_hybrid  total           winner  \n",
       "1                 413      4              44  17205        Flex fuel  \n",
       "2                 386      2              27  15600        Flex fuel  \n",
       "3                 522     10              39  20345        Flex fuel  \n",
       "4                1878     16             251  23041  Hybrid gasoline  \n",
       "5                 857      8             105  12436  Hybrid gasoline  "
      ]
     },
     "execution_count": 28,
     "metadata": {},
     "output_type": "execute_result"
    }
   ],
   "source": [
    "sum_by_zip.head()"
   ]
  },
  {
   "cell_type": "markdown",
   "metadata": {},
   "source": [
    "### Use the \"jenks\" method to set fair breaks for total field"
   ]
  },
  {
   "cell_type": "code",
   "execution_count": 29,
   "metadata": {},
   "outputs": [],
   "source": [
    "breaks \\\n",
    "= jenkspy.jenks_breaks(sum_by_zip.total, nb_class=7)"
   ]
  },
  {
   "cell_type": "code",
   "execution_count": 30,
   "metadata": {},
   "outputs": [
    {
     "data": {
      "text/plain": [
       "[1.0, 3499.0, 9905.0, 16350.0, 23391.0, 32528.0, 53234.0, 127130.0]"
      ]
     },
     "execution_count": 30,
     "metadata": {},
     "output_type": "execute_result"
    }
   ],
   "source": [
    "breaks"
   ]
  },
  {
   "cell_type": "markdown",
   "metadata": {},
   "source": [
    "---"
   ]
  },
  {
   "cell_type": "markdown",
   "metadata": {},
   "source": [
    "# Geography data"
   ]
  },
  {
   "cell_type": "markdown",
   "metadata": {},
   "source": [
    "### ZIP code points"
   ]
  },
  {
   "cell_type": "code",
   "execution_count": 31,
   "metadata": {},
   "outputs": [],
   "source": [
    "zips_point = gpd.read_file('/Users/mhustiles/data/data/GIS/zipcodes.geojson')"
   ]
  },
  {
   "cell_type": "code",
   "execution_count": 32,
   "metadata": {},
   "outputs": [],
   "source": [
    "zips_point['zip'] = zips_point['zip'].astype(str)"
   ]
  },
  {
   "cell_type": "code",
   "execution_count": 33,
   "metadata": {},
   "outputs": [],
   "source": [
    "ca_zips_point = zips_point[zips_point['state'] == 'CA']"
   ]
  },
  {
   "cell_type": "markdown",
   "metadata": {},
   "source": [
    "### ZIP code boundaries"
   ]
  },
  {
   "cell_type": "code",
   "execution_count": 34,
   "metadata": {},
   "outputs": [],
   "source": [
    "zips_poly = gpd.read_file('/Users/mhustiles/data/data/GIS/californiazips.geojson')"
   ]
  },
  {
   "cell_type": "code",
   "execution_count": 35,
   "metadata": {},
   "outputs": [
    {
     "data": {
      "text/plain": [
       "<matplotlib.axes._subplots.AxesSubplot at 0x12fd3fcf8>"
      ]
     },
     "execution_count": 35,
     "metadata": {},
     "output_type": "execute_result"
    },
    {
     "data": {
      "image/png": "[encoded data removed]",
      "text/plain": [
       "<Figure size 432x288 with 1 Axes>"
      ]
     },
     "metadata": {
      "needs_background": "light"
     },
     "output_type": "display_data"
    }
   ],
   "source": [
    "zips_poly.plot()"
   ]
  },
  {
   "cell_type": "code",
   "execution_count": 36,
   "metadata": {},
   "outputs": [],
   "source": [
    "zips_poly.rename(columns={\"ZCTA5CE10\": \"zip\"}, inplace=True)"
   ]
  },
  {
   "cell_type": "markdown",
   "metadata": {},
   "source": [
    "### Merge with pivoted zip totals"
   ]
  },
  {
   "cell_type": "code",
   "execution_count": 37,
   "metadata": {},
   "outputs": [],
   "source": [
    "ca_zips_poly_merged =  zips_poly.merge(sum_by_zip, on='zip')"
   ]
  },
  {
   "cell_type": "code",
   "execution_count": 38,
   "metadata": {},
   "outputs": [
    {
     "data": {
      "text/plain": [
       "<matplotlib.axes._subplots.AxesSubplot at 0x12fd6c9b0>"
      ]
     },
     "execution_count": 38,
     "metadata": {},
     "output_type": "execute_result"
    },
    {
     "data": {
      "image/png": "[encoded data removed]",
      "text/plain": [
       "<Figure size 432x288 with 1 Axes>"
      ]
     },
     "metadata": {
      "needs_background": "light"
     },
     "output_type": "display_data"
    }
   ],
   "source": [
    "ca_zips_poly_merged.plot()"
   ]
  },
  {
   "cell_type": "code",
   "execution_count": 39,
   "metadata": {},
   "outputs": [
    {
     "data": {
      "text/plain": [
       "zip                                                                     94118\n",
       "INTPTLAT10                                                        +37.7800933\n",
       "INTPTLON10                                                       -122.4626054\n",
       "geometry                    (POLYGON ((-122.470081 37.787399, -122.467989 ...\n",
       "battery_electric                                                          302\n",
       "diesel_and_diesel_hybrid                                                  230\n",
       "flex_fuel                                                                 218\n",
       "gasoline                                                                12561\n",
       "hybrid_gasoline                                                          1701\n",
       "other                                                                       7\n",
       "plug_in_hybrid                                                            200\n",
       "total                                                                   15219\n",
       "winner                                                        Hybrid gasoline\n",
       "Name: 0, dtype: object"
      ]
     },
     "execution_count": 39,
     "metadata": {},
     "output_type": "execute_result"
    }
   ],
   "source": [
    "ca_zips_poly_merged.loc[0]"
   ]
  },
  {
   "cell_type": "markdown",
   "metadata": {},
   "source": [
    "### Export merged polygon geodataframe as GeoJSON"
   ]
  },
  {
   "cell_type": "code",
   "execution_count": 40,
   "metadata": {},
   "outputs": [],
   "source": [
    "ca_zips_poly_merged.to_file('/Users/mhustiles/data/github/notebooks/\\\n",
    "california-fuel-vehicles/output/ca_zips_poly_merged.geojson', driver='GeoJSON')"
   ]
  },
  {
   "cell_type": "markdown",
   "metadata": {},
   "source": [
    "### Merge ZIP points with vehicle totals"
   ]
  },
  {
   "cell_type": "code",
   "execution_count": 41,
   "metadata": {},
   "outputs": [],
   "source": [
    "ca_zips_point_merged = ca_zips_point.merge(sum_by_zip, on='zip')"
   ]
  },
  {
   "cell_type": "code",
   "execution_count": 42,
   "metadata": {},
   "outputs": [
    {
     "data": {
      "text/plain": [
       "<matplotlib.axes._subplots.AxesSubplot at 0x12fd86438>"
      ]
     },
     "execution_count": 42,
     "metadata": {},
     "output_type": "execute_result"
    },
    {
     "data": {
      "image/png": "[encoded data removed]",
      "text/plain": [
       "<Figure size 432x288 with 1 Axes>"
      ]
     },
     "metadata": {
      "needs_background": "light"
     },
     "output_type": "display_data"
    }
   ],
   "source": [
    "ca_zips_point_merged.plot()"
   ]
  },
  {
   "cell_type": "markdown",
   "metadata": {},
   "source": [
    "### Export merged points geodataframe as GeoJSON"
   ]
  },
  {
   "cell_type": "code",
   "execution_count": 43,
   "metadata": {},
   "outputs": [],
   "source": [
    "ca_zips_point_merged.to_file('/Users/mhustiles/data/github/notebooks\\\n",
    "/california-fuel-vehicles/output/ca_zips_point_merged.geojson', driver='GeoJSON')"
   ]
  },
  {
   "cell_type": "markdown",
   "metadata": {},
   "source": [
    "### Convert polygons to mbtiles for Mapbox. Export."
   ]
  },
  {
   "cell_type": "code",
   "execution_count": 44,
   "metadata": {},
   "outputs": [
    {
     "name": "stdout",
     "output_type": "stream",
     "text": [
      "For layer 0, using name \"ca_zips_poly_merged\"\n",
      "1760 features, 9359146 bytes of geometry, 56252 bytes of separate metadata, 83813 bytes of string pool\n",
      "  99.9%  13/1345/3147  \n"
     ]
    }
   ],
   "source": [
    "!tippecanoe --force -r1 -pk -pf -Z5 -z13 -o \\\n",
    "/Users/mhustiles/data/github/notebooks/california-fuel-vehicles/output/ca_zips_poly_merged.mbtiles \\\n",
    "/Users/mhustiles/data/github/notebooks/california-fuel-vehicles/output/ca_zips_poly_merged.geojson"
   ]
  },
  {
   "cell_type": "markdown",
   "metadata": {},
   "source": [
    "### Convert points to mbtiles for Mapbox. Export."
   ]
  },
  {
   "cell_type": "code",
   "execution_count": 45,
   "metadata": {},
   "outputs": [
    {
     "name": "stdout",
     "output_type": "stream",
     "text": [
      "For layer 0, using name \"ca_zips_point_merged\"\n",
      "2421 features, 146776 bytes of geometry, 16 bytes of separate metadata, 54710 bytes of string pool\n",
      "  99.9%  13/1370/3196  \n"
     ]
    }
   ],
   "source": [
    "!tippecanoe --force -r1 -pk -pf -Z5 -z13 -o \\\n",
    "/Users/mhustiles/data/github/notebooks/california-fuel-vehicles/output/ca_zips_point_merged.mbtiles \\\n",
    "/Users/mhustiles/data/github/notebooks/california-fuel-vehicles/output/ca_zips_point_merged.geojson"
   ]
  },
  {
   "cell_type": "markdown",
   "metadata": {},
   "source": [
    "---"
   ]
  },
  {
   "cell_type": "markdown",
   "metadata": {},
   "source": [
    "See related [Twitter thread](https://twitter.com/stiles/status/1193416749116358656)"
   ]
  }
 ],
 "metadata": {
  "kernelspec": {
   "display_name": "Python 3",
   "language": "python",
   "name": "python3"
  },
  "language_info": {
   "codemirror_mode": {
    "name": "ipython",
    "version": 3
   },
   "file_extension": ".py",
   "mimetype": "text/x-python",
   "name": "python",
   "nbconvert_exporter": "python",
   "pygments_lexer": "ipython3",
   "version": "3.7.3"
  }
 },
 "nbformat": 4,
 "nbformat_minor": 2
}
