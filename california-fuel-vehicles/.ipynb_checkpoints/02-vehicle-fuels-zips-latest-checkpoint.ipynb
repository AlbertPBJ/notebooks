{
 "cells": [
  {
   "cell_type": "markdown",
   "metadata": {},
   "source": [
    "# How many zero and low emissions vehicles are registered in California?"
   ]
  },
  {
   "cell_type": "markdown",
   "metadata": {},
   "source": [
    "### Load Python tools"
   ]
  },
  {
   "cell_type": "code",
   "execution_count": 1,
   "metadata": {},
   "outputs": [],
   "source": [
    "import pandas as pd\n",
    "import geopandas as gpd\n",
    "import matplotlib\n",
    "import matplotlib.pyplot as plt\n",
    "import geojson\n",
    "import json\n",
    "import jenkspy\n",
    "import numpy as np\n",
    "from pywaffle import Waffle\n",
    "from altair import datum\n",
    "import altair as alt\n",
    "import altair_latimes as lat\n",
    "alt.themes.register('latimes', lat.theme)\n",
    "alt.themes.enable('latimes')\n",
    "pd.options.display.float_format = '{:,.2f}'.format\n",
    "alt.data_transformers.disable_max_rows()\n",
    "pd.set_option('display.max_columns', None)\n",
    "pd.set_option('display.max_rows', None)"
   ]
  },
  {
   "cell_type": "code",
   "execution_count": 2,
   "metadata": {},
   "outputs": [],
   "source": [
    "# CARB looks for ways to meet our 5 million zero-emission vehicle target by 2030, the conversion of public and private fleets to zero emission cars and trucks offers an important opportunity to get a large number of carbon-polluting fleet vehicles off the road.\n",
    "# https://ww2.arb.ca.gov/sites/default/files/2018-12/zero_emission_fleet_letter_080118.pdf"
   ]
  },
  {
   "cell_type": "markdown",
   "metadata": {},
   "source": [
    "### Read data from California Department of Motor Vehicles - current as of October 2018"
   ]
  },
  {
   "cell_type": "code",
   "execution_count": 3,
   "metadata": {},
   "outputs": [],
   "source": [
    "# https://data.ca.gov/dataset/vehicle-fuel-type-count-by-zip-code"
   ]
  },
  {
   "cell_type": "code",
   "execution_count": 4,
   "metadata": {},
   "outputs": [],
   "source": [
    "src = pd.read_csv('https://data.ca.gov/dataset/15179472-adeb-4df6-920a-20640d02b08c/resource/4254a06d-9937-4083-9441-65597dd267e8/download/vehicle-count-as-of-1-1-2020.csv', low_memory=False)"
   ]
  },
  {
   "cell_type": "code",
   "execution_count": 5,
   "metadata": {},
   "outputs": [],
   "source": [
    "df = src.copy()"
   ]
  },
  {
   "cell_type": "markdown",
   "metadata": {},
   "source": [
    "### Clean up field names"
   ]
  },
  {
   "cell_type": "code",
   "execution_count": 6,
   "metadata": {},
   "outputs": [],
   "source": [
    "df.columns = df.columns.str.strip().str.lower().str.replace(' ', '_')\\\n",
    "                    .str.replace('(', '').str.replace(')', '').str.replace('-','_')"
   ]
  },
  {
   "cell_type": "code",
   "execution_count": 7,
   "metadata": {},
   "outputs": [],
   "source": [
    "df.rename(columns={\"zip_code\": \"zip\"}, inplace=True)"
   ]
  },
  {
   "cell_type": "markdown",
   "metadata": {},
   "source": [
    "### How many vehicles are we talking about? "
   ]
  },
  {
   "cell_type": "code",
   "execution_count": 8,
   "metadata": {},
   "outputs": [
    {
     "data": {
      "text/plain": [
       "'31,233,841'"
      ]
     },
     "execution_count": 8,
     "metadata": {},
     "output_type": "execute_result"
    }
   ],
   "source": [
    "'{:,.0f}'.format(df.vehicles.sum())"
   ]
  },
  {
   "cell_type": "code",
   "execution_count": 9,
   "metadata": {},
   "outputs": [
    {
     "data": {
      "text/plain": [
       "Index(['date', 'zip', 'model_year', 'fuel', 'make', 'duty', 'vehicles'], dtype='object')"
      ]
     },
     "execution_count": 9,
     "metadata": {},
     "output_type": "execute_result"
    }
   ],
   "source": [
    "df.columns"
   ]
  },
  {
   "cell_type": "markdown",
   "metadata": {},
   "source": [
    "### Remove unknown, out of state and heavy duty models."
   ]
  },
  {
   "cell_type": "code",
   "execution_count": 10,
   "metadata": {},
   "outputs": [],
   "source": [
    "vehicles = pd.DataFrame(df[(df['duty'] != 'Heavy') & \\\n",
    "                          (df['model_year'] != '<2007') &\\\n",
    "                          (df['zip'] != 'OOS')])"
   ]
  },
  {
   "cell_type": "markdown",
   "metadata": {},
   "source": [
    "### What's left?"
   ]
  },
  {
   "cell_type": "code",
   "execution_count": 11,
   "metadata": {},
   "outputs": [
    {
     "data": {
      "text/plain": [
       "'19,132,886'"
      ]
     },
     "execution_count": 11,
     "metadata": {},
     "output_type": "execute_result"
    }
   ],
   "source": [
    "'{:,.0f}'.format(vehicles.vehicles.sum())"
   ]
  },
  {
   "cell_type": "markdown",
   "metadata": {},
   "source": [
    "### How many don't rely solely on gasoline?"
   ]
  },
  {
   "cell_type": "code",
   "execution_count": 12,
   "metadata": {},
   "outputs": [],
   "source": [
    "nogas = vehicles[(vehicles['fuel'] != 'Gasoline')]"
   ]
  },
  {
   "cell_type": "code",
   "execution_count": 13,
   "metadata": {},
   "outputs": [
    {
     "data": {
      "text/plain": [
       "'2,824,578'"
      ]
     },
     "execution_count": 13,
     "metadata": {},
     "output_type": "execute_result"
    }
   ],
   "source": [
    "'{:,.0f}'.format(nogas.vehicles.sum())"
   ]
  },
  {
   "cell_type": "markdown",
   "metadata": {},
   "source": [
    "### Filter the data frame for fuel zero-emissions fuel types"
   ]
  },
  {
   "cell_type": "code",
   "execution_count": 14,
   "metadata": {},
   "outputs": [],
   "source": [
    "cvrp_now = vehicles[(vehicles['fuel'] == 'Battery Electric') |\\\n",
    "               (vehicles['fuel'] == 'Hydrogen Fuel Cell') |\\\n",
    "                   (vehicles['fuel'] == 'Plug-in Hybrid')]"
   ]
  },
  {
   "cell_type": "code",
   "execution_count": 15,
   "metadata": {},
   "outputs": [],
   "source": [
    "cvrp = vehicles[(vehicles['fuel'] == 'Battery Electric') |\\\n",
    "               (vehicles['fuel'] == 'Hydrogen Fuel Cell')]"
   ]
  },
  {
   "cell_type": "markdown",
   "metadata": {},
   "source": [
    "### How many are zero emissions under 2035 standard?"
   ]
  },
  {
   "cell_type": "code",
   "execution_count": 16,
   "metadata": {},
   "outputs": [
    {
     "data": {
      "text/plain": [
       "'308,182'"
      ]
     },
     "execution_count": 16,
     "metadata": {},
     "output_type": "execute_result"
    }
   ],
   "source": [
    "'{:,.0f}'.format(cvrp.vehicles.sum())"
   ]
  },
  {
   "cell_type": "code",
   "execution_count": 17,
   "metadata": {},
   "outputs": [
    {
     "data": {
      "text/plain": [
       "'554,403'"
      ]
     },
     "execution_count": 17,
     "metadata": {},
     "output_type": "execute_result"
    }
   ],
   "source": [
    "'{:,.0f}'.format(cvrp_now.vehicles.sum())"
   ]
  },
  {
   "cell_type": "markdown",
   "metadata": {},
   "source": [
    "### Share of newer CA vehicles that don't rely solely on gas?"
   ]
  },
  {
   "cell_type": "code",
   "execution_count": 18,
   "metadata": {},
   "outputs": [
    {
     "data": {
      "text/plain": [
       "'14.8%'"
      ]
     },
     "execution_count": 18,
     "metadata": {},
     "output_type": "execute_result"
    }
   ],
   "source": [
    "'{:,.1f}%'.format((nogas.vehicles.sum() / vehicles.vehicles.sum())*100)"
   ]
  },
  {
   "cell_type": "markdown",
   "metadata": {},
   "source": [
    "### Share of CA vehicles that are zero emissions?"
   ]
  },
  {
   "cell_type": "code",
   "execution_count": 19,
   "metadata": {},
   "outputs": [
    {
     "data": {
      "text/plain": [
       "'1.6%'"
      ]
     },
     "execution_count": 19,
     "metadata": {},
     "output_type": "execute_result"
    }
   ],
   "source": [
    "'{:,.1f}%'.format((cvrp.vehicles.sum() / vehicles.vehicles.sum())*100)"
   ]
  },
  {
   "cell_type": "code",
   "execution_count": 20,
   "metadata": {},
   "outputs": [
    {
     "data": {
      "text/plain": [
       "'2.9%'"
      ]
     },
     "execution_count": 20,
     "metadata": {},
     "output_type": "execute_result"
    }
   ],
   "source": [
    "'{:,.1f}%'.format((cvrp_now.vehicles.sum() / vehicles.vehicles.sum())*100)"
   ]
  },
  {
   "cell_type": "markdown",
   "metadata": {},
   "source": [
    "---"
   ]
  },
  {
   "cell_type": "markdown",
   "metadata": {},
   "source": [
    "### ZIP code points"
   ]
  },
  {
   "cell_type": "code",
   "execution_count": 21,
   "metadata": {},
   "outputs": [],
   "source": [
    "zips_point = gpd.read_file('/Users/mhustiles/data/data/GIS/zipcodes.geojson')"
   ]
  },
  {
   "cell_type": "code",
   "execution_count": 22,
   "metadata": {},
   "outputs": [],
   "source": [
    "zips_point['zip'] = zips_point['zip'].astype(str)"
   ]
  },
  {
   "cell_type": "code",
   "execution_count": 23,
   "metadata": {},
   "outputs": [],
   "source": [
    "ca_zips_point = zips_point[zips_point['state'] == 'CA']"
   ]
  },
  {
   "cell_type": "markdown",
   "metadata": {},
   "source": [
    "### ZIP code boundaries"
   ]
  },
  {
   "cell_type": "code",
   "execution_count": 24,
   "metadata": {},
   "outputs": [],
   "source": [
    "# Filtered CA from this national file maintained by Esri: \n",
    "# https://services.arcgis.com/P3ePLMYs2RVChkJx/arcgis/rest/services/USA_ZIP_Code_Areas_anaylsis/FeatureServer/0/\n",
    "zips_poly_pop = gpd.read_file('/Users/mhustiles/data/data/GIS/ca-zip-codes-esri.geojson')\n",
    "zips_poly = gpd.read_file('/Users/mhustiles/data/data/GIS/ca-zip-codes-esri-demographics.geojson')"
   ]
  },
  {
   "cell_type": "code",
   "execution_count": 25,
   "metadata": {},
   "outputs": [],
   "source": [
    "zips_poly.columns = zips_poly.columns.str.strip().str.lower().str.replace(' ', '_')\\\n",
    "                    .str.replace('(', '').str.replace(')', '').str.replace('-','_')"
   ]
  },
  {
   "cell_type": "code",
   "execution_count": 26,
   "metadata": {},
   "outputs": [],
   "source": [
    "zips_poly.dropna(inplace=True)"
   ]
  },
  {
   "cell_type": "code",
   "execution_count": 27,
   "metadata": {},
   "outputs": [],
   "source": [
    "zips_poly.rename(columns={\"zip_code\": \"zip\"}, inplace=True)"
   ]
  },
  {
   "cell_type": "code",
   "execution_count": 28,
   "metadata": {},
   "outputs": [
    {
     "data": {
      "text/html": [
       "<div>\n",
       "<style scoped>\n",
       "    .dataframe tbody tr th:only-of-type {\n",
       "        vertical-align: middle;\n",
       "    }\n",
       "\n",
       "    .dataframe tbody tr th {\n",
       "        vertical-align: top;\n",
       "    }\n",
       "\n",
       "    .dataframe thead th {\n",
       "        text-align: right;\n",
       "    }\n",
       "</style>\n",
       "<table border=\"1\" class=\"dataframe\">\n",
       "  <thead>\n",
       "    <tr style=\"text-align: right;\">\n",
       "      <th></th>\n",
       "      <th>objectid</th>\n",
       "      <th>zip</th>\n",
       "      <th>po_name</th>\n",
       "      <th>pop2012</th>\n",
       "      <th>white</th>\n",
       "      <th>black</th>\n",
       "      <th>ameri_es</th>\n",
       "      <th>asian</th>\n",
       "      <th>hawn_pi</th>\n",
       "      <th>hispanic</th>\n",
       "      <th>other</th>\n",
       "      <th>mult_race</th>\n",
       "      <th>med_age</th>\n",
       "      <th>ave_hh_sz</th>\n",
       "      <th>marhh_chd</th>\n",
       "      <th>families</th>\n",
       "      <th>ave_fam_sz</th>\n",
       "      <th>hse_units</th>\n",
       "      <th>sqmi</th>\n",
       "      <th>geometry</th>\n",
       "    </tr>\n",
       "  </thead>\n",
       "  <tbody>\n",
       "    <tr>\n",
       "      <th>0</th>\n",
       "      <td>4800</td>\n",
       "      <td>94002</td>\n",
       "      <td>Belmont</td>\n",
       "      <td>26832</td>\n",
       "      <td>19634</td>\n",
       "      <td>477</td>\n",
       "      <td>84</td>\n",
       "      <td>5762</td>\n",
       "      <td>221</td>\n",
       "      <td>3517</td>\n",
       "      <td>1170</td>\n",
       "      <td>1744</td>\n",
       "      <td>41.00</td>\n",
       "      <td>2.42</td>\n",
       "      <td>2925</td>\n",
       "      <td>7671</td>\n",
       "      <td>2.98</td>\n",
       "      <td>12304</td>\n",
       "      <td>5.90</td>\n",
       "      <td>POLYGON ((-122.27703 37.53436, -122.27687 37.5...</td>\n",
       "    </tr>\n",
       "  </tbody>\n",
       "</table>\n",
       "</div>"
      ],
      "text/plain": [
       "   objectid    zip  po_name  pop2012  white  black  ameri_es  asian  hawn_pi  \\\n",
       "0      4800  94002  Belmont    26832  19634    477        84   5762      221   \n",
       "\n",
       "   hispanic  other  mult_race  med_age  ave_hh_sz  marhh_chd  families  \\\n",
       "0      3517   1170       1744    41.00       2.42       2925      7671   \n",
       "\n",
       "   ave_fam_sz  hse_units  sqmi  \\\n",
       "0        2.98      12304  5.90   \n",
       "\n",
       "                                            geometry  \n",
       "0  POLYGON ((-122.27703 37.53436, -122.27687 37.5...  "
      ]
     },
     "execution_count": 28,
     "metadata": {},
     "output_type": "execute_result"
    }
   ],
   "source": [
    "zips_poly.head(1)"
   ]
  },
  {
   "cell_type": "markdown",
   "metadata": {},
   "source": [
    "---"
   ]
  },
  {
   "cell_type": "markdown",
   "metadata": {},
   "source": [
    "### Zip Codes with economic demographics by Esri"
   ]
  },
  {
   "cell_type": "code",
   "execution_count": 29,
   "metadata": {},
   "outputs": [],
   "source": [
    "#https://services.arcgis.com/P3ePLMYs2RVChkJx/arcgis/rest/services/WealthiestZipCodes2017/FeatureServer/0/\n",
    "zips_wealth = gpd.read_file('/Users/mhustiles/data/github/AGStoShapefile/\\\n",
    "backupdir/WealthiestZipCodes2017/WealthiestZipCodesCA.geojson')"
   ]
  },
  {
   "cell_type": "code",
   "execution_count": 30,
   "metadata": {},
   "outputs": [
    {
     "data": {
      "text/html": [
       "<div>\n",
       "<style scoped>\n",
       "    .dataframe tbody tr th:only-of-type {\n",
       "        vertical-align: middle;\n",
       "    }\n",
       "\n",
       "    .dataframe tbody tr th {\n",
       "        vertical-align: top;\n",
       "    }\n",
       "\n",
       "    .dataframe thead th {\n",
       "        text-align: right;\n",
       "    }\n",
       "</style>\n",
       "<table border=\"1\" class=\"dataframe\">\n",
       "  <thead>\n",
       "    <tr style=\"text-align: right;\">\n",
       "      <th></th>\n",
       "      <th>OBJECTID</th>\n",
       "      <th>ID</th>\n",
       "      <th>NAME</th>\n",
       "      <th>ST_ABBREV</th>\n",
       "      <th>HAI_CY</th>\n",
       "      <th>INCMORT_CY</th>\n",
       "      <th>WLTHRNK_CY</th>\n",
       "      <th>DOMSTATE</th>\n",
       "      <th>DOMCOUNTY</th>\n",
       "      <th>COUNTY_NAME</th>\n",
       "      <th>DOMCBSA</th>\n",
       "      <th>CBSA_NAME</th>\n",
       "      <th>TOTPOP_CY</th>\n",
       "      <th>TOTHH_CY</th>\n",
       "      <th>MEDAGE_CY</th>\n",
       "      <th>AVGHINC_CY</th>\n",
       "      <th>AVGVAL_CY</th>\n",
       "      <th>AVGNW_CY</th>\n",
       "      <th>Shape__Area</th>\n",
       "      <th>Shape__Length</th>\n",
       "      <th>geometry</th>\n",
       "    </tr>\n",
       "  </thead>\n",
       "  <tbody>\n",
       "    <tr>\n",
       "      <th>0</th>\n",
       "      <td>29014</td>\n",
       "      <td>90001</td>\n",
       "      <td>Los Angeles</td>\n",
       "      <td>CA</td>\n",
       "      <td>55</td>\n",
       "      <td>44.10</td>\n",
       "      <td>27,675.00</td>\n",
       "      <td>06</td>\n",
       "      <td>06037</td>\n",
       "      <td>Los Angeles County</td>\n",
       "      <td>31080</td>\n",
       "      <td>Los Angeles-Long Beach-Anaheim, CA Metropolita...</td>\n",
       "      <td>59907</td>\n",
       "      <td>13454</td>\n",
       "      <td>27.10</td>\n",
       "      <td>46931</td>\n",
       "      <td>377591</td>\n",
       "      <td>82915</td>\n",
       "      <td>12,747,932.74</td>\n",
       "      <td>17,936.35</td>\n",
       "      <td>POLYGON ((-118.24754 33.98908, -118.24776 33.9...</td>\n",
       "    </tr>\n",
       "  </tbody>\n",
       "</table>\n",
       "</div>"
      ],
      "text/plain": [
       "   OBJECTID     ID         NAME ST_ABBREV  HAI_CY  INCMORT_CY  WLTHRNK_CY  \\\n",
       "0     29014  90001  Los Angeles        CA      55       44.10   27,675.00   \n",
       "\n",
       "  DOMSTATE DOMCOUNTY         COUNTY_NAME DOMCBSA  \\\n",
       "0       06     06037  Los Angeles County   31080   \n",
       "\n",
       "                                           CBSA_NAME  TOTPOP_CY  TOTHH_CY  \\\n",
       "0  Los Angeles-Long Beach-Anaheim, CA Metropolita...      59907     13454   \n",
       "\n",
       "   MEDAGE_CY  AVGHINC_CY  AVGVAL_CY  AVGNW_CY   Shape__Area  Shape__Length  \\\n",
       "0      27.10       46931     377591     82915 12,747,932.74      17,936.35   \n",
       "\n",
       "                                            geometry  \n",
       "0  POLYGON ((-118.24754 33.98908, -118.24776 33.9...  "
      ]
     },
     "execution_count": 30,
     "metadata": {},
     "output_type": "execute_result"
    }
   ],
   "source": [
    "zips_wealth.head(1)"
   ]
  },
  {
   "cell_type": "code",
   "execution_count": 31,
   "metadata": {},
   "outputs": [],
   "source": [
    "zips_wealth_slim = zips_wealth[['ID','NAME', 'AVGHINC_CY', 'AVGNW_CY', 'TOTPOP_CY', 'geometry']]"
   ]
  },
  {
   "cell_type": "code",
   "execution_count": 32,
   "metadata": {},
   "outputs": [],
   "source": [
    "zips_esri = zips_wealth_slim.rename(columns={\"ID\": \"zip\",\n",
    "                                                    'NAME':'name',\n",
    "                                 'AVGHINC_CY':'avg_house_income',\n",
    "                                 'AVGNW_CY':'avg_net_worth',\n",
    "                                 'TOTPOP_CY':'population', })"
   ]
  },
  {
   "cell_type": "code",
   "execution_count": 33,
   "metadata": {},
   "outputs": [
    {
     "data": {
      "text/html": [
       "<div>\n",
       "<style scoped>\n",
       "    .dataframe tbody tr th:only-of-type {\n",
       "        vertical-align: middle;\n",
       "    }\n",
       "\n",
       "    .dataframe tbody tr th {\n",
       "        vertical-align: top;\n",
       "    }\n",
       "\n",
       "    .dataframe thead th {\n",
       "        text-align: right;\n",
       "    }\n",
       "</style>\n",
       "<table border=\"1\" class=\"dataframe\">\n",
       "  <thead>\n",
       "    <tr style=\"text-align: right;\">\n",
       "      <th></th>\n",
       "      <th>zip</th>\n",
       "      <th>name</th>\n",
       "      <th>avg_house_income</th>\n",
       "      <th>avg_net_worth</th>\n",
       "      <th>population</th>\n",
       "      <th>geometry</th>\n",
       "    </tr>\n",
       "  </thead>\n",
       "  <tbody>\n",
       "    <tr>\n",
       "      <th>0</th>\n",
       "      <td>90001</td>\n",
       "      <td>Los Angeles</td>\n",
       "      <td>46931</td>\n",
       "      <td>82915</td>\n",
       "      <td>59907</td>\n",
       "      <td>POLYGON ((-118.24754 33.98908, -118.24776 33.9...</td>\n",
       "    </tr>\n",
       "    <tr>\n",
       "      <th>1</th>\n",
       "      <td>90002</td>\n",
       "      <td>Los Angeles</td>\n",
       "      <td>46332</td>\n",
       "      <td>96786</td>\n",
       "      <td>53573</td>\n",
       "      <td>POLYGON ((-118.24745 33.96015, -118.25169 33.9...</td>\n",
       "    </tr>\n",
       "    <tr>\n",
       "      <th>2</th>\n",
       "      <td>90003</td>\n",
       "      <td>Los Angeles</td>\n",
       "      <td>43020</td>\n",
       "      <td>66091</td>\n",
       "      <td>71967</td>\n",
       "      <td>MULTIPOLYGON (((-118.28268 33.98926, -118.2826...</td>\n",
       "    </tr>\n",
       "    <tr>\n",
       "      <th>3</th>\n",
       "      <td>90004</td>\n",
       "      <td>Los Angeles</td>\n",
       "      <td>65893</td>\n",
       "      <td>232653</td>\n",
       "      <td>63987</td>\n",
       "      <td>MULTIPOLYGON (((-118.33852 34.06891, -118.3371...</td>\n",
       "    </tr>\n",
       "    <tr>\n",
       "      <th>4</th>\n",
       "      <td>90005</td>\n",
       "      <td>Los Angeles</td>\n",
       "      <td>53191</td>\n",
       "      <td>105569</td>\n",
       "      <td>41844</td>\n",
       "      <td>POLYGON ((-118.31879 34.05514, -118.31861 34.0...</td>\n",
       "    </tr>\n",
       "  </tbody>\n",
       "</table>\n",
       "</div>"
      ],
      "text/plain": [
       "     zip         name  avg_house_income  avg_net_worth  population  \\\n",
       "0  90001  Los Angeles             46931          82915       59907   \n",
       "1  90002  Los Angeles             46332          96786       53573   \n",
       "2  90003  Los Angeles             43020          66091       71967   \n",
       "3  90004  Los Angeles             65893         232653       63987   \n",
       "4  90005  Los Angeles             53191         105569       41844   \n",
       "\n",
       "                                            geometry  \n",
       "0  POLYGON ((-118.24754 33.98908, -118.24776 33.9...  \n",
       "1  POLYGON ((-118.24745 33.96015, -118.25169 33.9...  \n",
       "2  MULTIPOLYGON (((-118.28268 33.98926, -118.2826...  \n",
       "3  MULTIPOLYGON (((-118.33852 34.06891, -118.3371...  \n",
       "4  POLYGON ((-118.31879 34.05514, -118.31861 34.0...  "
      ]
     },
     "execution_count": 33,
     "metadata": {},
     "output_type": "execute_result"
    }
   ],
   "source": [
    "zips_esri.head()"
   ]
  },
  {
   "cell_type": "code",
   "execution_count": 34,
   "metadata": {},
   "outputs": [
    {
     "data": {
      "text/plain": [
       "<AxesSubplot:>"
      ]
     },
     "execution_count": 34,
     "metadata": {},
     "output_type": "execute_result"
    },
    {
     "data": {
      "image/png": "[encoded data removed]",
      "text/plain": [
       "<Figure size 432x288 with 1 Axes>"
      ]
     },
     "metadata": {
      "needs_background": "light"
     },
     "output_type": "display_data"
    }
   ],
   "source": [
    "zips_esri.plot()"
   ]
  },
  {
   "cell_type": "markdown",
   "metadata": {},
   "source": [
    "---"
   ]
  },
  {
   "cell_type": "markdown",
   "metadata": {},
   "source": [
    "### Group the vehicles and count them by the registration ZIP Codes"
   ]
  },
  {
   "cell_type": "code",
   "execution_count": 35,
   "metadata": {},
   "outputs": [],
   "source": [
    "zipcodes = vehicles.groupby(['zip']).agg({'vehicles':'sum'}).reset_index()"
   ]
  },
  {
   "cell_type": "code",
   "execution_count": 36,
   "metadata": {},
   "outputs": [],
   "source": [
    "zipcodes.sort_values(by='vehicles', ascending=False).head(10)\n",
    "zipcodes['zip'] = zipcodes['zip'].astype(str)"
   ]
  },
  {
   "cell_type": "markdown",
   "metadata": {},
   "source": [
    "### Merge the registration zip codes and merge with Esri ZIP Codes polygons"
   ]
  },
  {
   "cell_type": "code",
   "execution_count": 37,
   "metadata": {},
   "outputs": [],
   "source": [
    "zips = pd.merge(zips_esri, zipcodes, left_on='zip', right_on='zip')"
   ]
  },
  {
   "cell_type": "code",
   "execution_count": 38,
   "metadata": {},
   "outputs": [
    {
     "data": {
      "text/html": [
       "<div>\n",
       "<style scoped>\n",
       "    .dataframe tbody tr th:only-of-type {\n",
       "        vertical-align: middle;\n",
       "    }\n",
       "\n",
       "    .dataframe tbody tr th {\n",
       "        vertical-align: top;\n",
       "    }\n",
       "\n",
       "    .dataframe thead th {\n",
       "        text-align: right;\n",
       "    }\n",
       "</style>\n",
       "<table border=\"1\" class=\"dataframe\">\n",
       "  <thead>\n",
       "    <tr style=\"text-align: right;\">\n",
       "      <th></th>\n",
       "      <th>zip</th>\n",
       "      <th>name</th>\n",
       "      <th>avg_house_income</th>\n",
       "      <th>avg_net_worth</th>\n",
       "      <th>population</th>\n",
       "      <th>geometry</th>\n",
       "      <th>vehicles</th>\n",
       "    </tr>\n",
       "  </thead>\n",
       "  <tbody>\n",
       "    <tr>\n",
       "      <th>0</th>\n",
       "      <td>90001</td>\n",
       "      <td>Los Angeles</td>\n",
       "      <td>46931</td>\n",
       "      <td>82915</td>\n",
       "      <td>59907</td>\n",
       "      <td>POLYGON ((-118.24754 33.98908, -118.24776 33.9...</td>\n",
       "      <td>17374</td>\n",
       "    </tr>\n",
       "    <tr>\n",
       "      <th>1</th>\n",
       "      <td>90002</td>\n",
       "      <td>Los Angeles</td>\n",
       "      <td>46332</td>\n",
       "      <td>96786</td>\n",
       "      <td>53573</td>\n",
       "      <td>POLYGON ((-118.24745 33.96015, -118.25169 33.9...</td>\n",
       "      <td>15951</td>\n",
       "    </tr>\n",
       "    <tr>\n",
       "      <th>2</th>\n",
       "      <td>90003</td>\n",
       "      <td>Los Angeles</td>\n",
       "      <td>43020</td>\n",
       "      <td>66091</td>\n",
       "      <td>71967</td>\n",
       "      <td>MULTIPOLYGON (((-118.28268 33.98926, -118.2826...</td>\n",
       "      <td>20918</td>\n",
       "    </tr>\n",
       "    <tr>\n",
       "      <th>3</th>\n",
       "      <td>90004</td>\n",
       "      <td>Los Angeles</td>\n",
       "      <td>65893</td>\n",
       "      <td>232653</td>\n",
       "      <td>63987</td>\n",
       "      <td>MULTIPOLYGON (((-118.33852 34.06891, -118.3371...</td>\n",
       "      <td>22597</td>\n",
       "    </tr>\n",
       "    <tr>\n",
       "      <th>4</th>\n",
       "      <td>90005</td>\n",
       "      <td>Los Angeles</td>\n",
       "      <td>53191</td>\n",
       "      <td>105569</td>\n",
       "      <td>41844</td>\n",
       "      <td>POLYGON ((-118.31879 34.05514, -118.31861 34.0...</td>\n",
       "      <td>12410</td>\n",
       "    </tr>\n",
       "  </tbody>\n",
       "</table>\n",
       "</div>"
      ],
      "text/plain": [
       "     zip         name  avg_house_income  avg_net_worth  population  \\\n",
       "0  90001  Los Angeles             46931          82915       59907   \n",
       "1  90002  Los Angeles             46332          96786       53573   \n",
       "2  90003  Los Angeles             43020          66091       71967   \n",
       "3  90004  Los Angeles             65893         232653       63987   \n",
       "4  90005  Los Angeles             53191         105569       41844   \n",
       "\n",
       "                                            geometry  vehicles  \n",
       "0  POLYGON ((-118.24754 33.98908, -118.24776 33.9...     17374  \n",
       "1  POLYGON ((-118.24745 33.96015, -118.25169 33.9...     15951  \n",
       "2  MULTIPOLYGON (((-118.28268 33.98926, -118.2826...     20918  \n",
       "3  MULTIPOLYGON (((-118.33852 34.06891, -118.3371...     22597  \n",
       "4  POLYGON ((-118.31879 34.05514, -118.31861 34.0...     12410  "
      ]
     },
     "execution_count": 38,
     "metadata": {},
     "output_type": "execute_result"
    }
   ],
   "source": [
    "zips.head()"
   ]
  },
  {
   "cell_type": "markdown",
   "metadata": {},
   "source": [
    "---"
   ]
  },
  {
   "cell_type": "markdown",
   "metadata": {},
   "source": [
    "### Group by make. Which are most common? "
   ]
  },
  {
   "cell_type": "code",
   "execution_count": 39,
   "metadata": {},
   "outputs": [],
   "source": [
    "# About 2.5 are listed as OTHER/UNK\n",
    "make = vehicles[vehicles['make'] != 'OTHER/UNK'].groupby(['make', 'zip']).agg('sum').reset_index()"
   ]
  },
  {
   "cell_type": "code",
   "execution_count": 40,
   "metadata": {},
   "outputs": [],
   "source": [
    "most_make = make.groupby(['make']).agg('sum').reset_index().sort_values(by='vehicles', ascending=False)"
   ]
  },
  {
   "cell_type": "code",
   "execution_count": 41,
   "metadata": {},
   "outputs": [
    {
     "data": {
      "text/html": [
       "<div>\n",
       "<style scoped>\n",
       "    .dataframe tbody tr th:only-of-type {\n",
       "        vertical-align: middle;\n",
       "    }\n",
       "\n",
       "    .dataframe tbody tr th {\n",
       "        vertical-align: top;\n",
       "    }\n",
       "\n",
       "    .dataframe thead th {\n",
       "        text-align: right;\n",
       "    }\n",
       "</style>\n",
       "<table border=\"1\" class=\"dataframe\">\n",
       "  <thead>\n",
       "    <tr style=\"text-align: right;\">\n",
       "      <th></th>\n",
       "      <th>make</th>\n",
       "      <th>vehicles</th>\n",
       "    </tr>\n",
       "  </thead>\n",
       "  <tbody>\n",
       "    <tr>\n",
       "      <th>46</th>\n",
       "      <td>TOYOTA</td>\n",
       "      <td>3456367</td>\n",
       "    </tr>\n",
       "    <tr>\n",
       "      <th>18</th>\n",
       "      <td>HONDA</td>\n",
       "      <td>2378676</td>\n",
       "    </tr>\n",
       "    <tr>\n",
       "      <th>14</th>\n",
       "      <td>FORD</td>\n",
       "      <td>1559171</td>\n",
       "    </tr>\n",
       "    <tr>\n",
       "      <th>35</th>\n",
       "      <td>NISSAN</td>\n",
       "      <td>1305700</td>\n",
       "    </tr>\n",
       "    <tr>\n",
       "      <th>9</th>\n",
       "      <td>CHEVROLET</td>\n",
       "      <td>1253237</td>\n",
       "    </tr>\n",
       "  </tbody>\n",
       "</table>\n",
       "</div>"
      ],
      "text/plain": [
       "         make  vehicles\n",
       "46     TOYOTA   3456367\n",
       "18      HONDA   2378676\n",
       "14       FORD   1559171\n",
       "35     NISSAN   1305700\n",
       "9   CHEVROLET   1253237"
      ]
     },
     "execution_count": 41,
     "metadata": {},
     "output_type": "execute_result"
    }
   ],
   "source": [
    "most_make.head()"
   ]
  },
  {
   "cell_type": "code",
   "execution_count": 42,
   "metadata": {},
   "outputs": [],
   "source": [
    "makelist = most_make.make.to_list()"
   ]
  },
  {
   "cell_type": "code",
   "execution_count": 43,
   "metadata": {},
   "outputs": [],
   "source": [
    "popular_makes = make[make['make'].isin(makelist)]"
   ]
  },
  {
   "cell_type": "code",
   "execution_count": 44,
   "metadata": {},
   "outputs": [],
   "source": [
    "make_zip = pd.DataFrame(pd.pivot_table(popular_makes, values='vehicles', \\\n",
    "                            index=['zip'], columns=['make'], aggfunc=np.sum, fill_value=0).reset_index())"
   ]
  },
  {
   "cell_type": "code",
   "execution_count": 45,
   "metadata": {},
   "outputs": [],
   "source": [
    "make_zip.columns = make_zip.columns.str.strip().str.lower().str.replace(' ', '_')\\\n",
    "                    .str.replace('(', '').str.replace(')', '').str.replace('-','_')"
   ]
  },
  {
   "cell_type": "markdown",
   "metadata": {},
   "source": [
    "### Which make is most common in each ZIP code? "
   ]
  },
  {
   "cell_type": "code",
   "execution_count": 46,
   "metadata": {},
   "outputs": [],
   "source": [
    "make_zip[\"total\"] = make_zip.sum(axis=1)"
   ]
  },
  {
   "cell_type": "code",
   "execution_count": 47,
   "metadata": {},
   "outputs": [
    {
     "data": {
      "text/html": [
       "<div>\n",
       "<style scoped>\n",
       "    .dataframe tbody tr th:only-of-type {\n",
       "        vertical-align: middle;\n",
       "    }\n",
       "\n",
       "    .dataframe tbody tr th {\n",
       "        vertical-align: top;\n",
       "    }\n",
       "\n",
       "    .dataframe thead th {\n",
       "        text-align: right;\n",
       "    }\n",
       "</style>\n",
       "<table border=\"1\" class=\"dataframe\">\n",
       "  <thead>\n",
       "    <tr style=\"text-align: right;\">\n",
       "      <th>make</th>\n",
       "      <th>zip</th>\n",
       "      <th>acura</th>\n",
       "      <th>alfa_romeo</th>\n",
       "      <th>am_general</th>\n",
       "      <th>aston_martin</th>\n",
       "      <th>audi</th>\n",
       "      <th>bentley</th>\n",
       "      <th>bmw</th>\n",
       "      <th>buick</th>\n",
       "      <th>cadillac</th>\n",
       "      <th>chevrolet</th>\n",
       "      <th>chrysler</th>\n",
       "      <th>dodge</th>\n",
       "      <th>ferrari</th>\n",
       "      <th>fiat</th>\n",
       "      <th>ford</th>\n",
       "      <th>freightliner</th>\n",
       "      <th>genesis</th>\n",
       "      <th>gmc</th>\n",
       "      <th>honda</th>\n",
       "      <th>hummer</th>\n",
       "      <th>hyundai</th>\n",
       "      <th>infiniti</th>\n",
       "      <th>jaguar</th>\n",
       "      <th>jeep</th>\n",
       "      <th>kia</th>\n",
       "      <th>lamborghini</th>\n",
       "      <th>land_rover</th>\n",
       "      <th>lexus</th>\n",
       "      <th>lincoln</th>\n",
       "      <th>maserati</th>\n",
       "      <th>mazda</th>\n",
       "      <th>mercedes_benz</th>\n",
       "      <th>mercury</th>\n",
       "      <th>mini</th>\n",
       "      <th>mitsubishi</th>\n",
       "      <th>nissan</th>\n",
       "      <th>pontiac</th>\n",
       "      <th>porsche</th>\n",
       "      <th>ram</th>\n",
       "      <th>rolls_royce</th>\n",
       "      <th>saturn</th>\n",
       "      <th>scion</th>\n",
       "      <th>smart</th>\n",
       "      <th>subaru</th>\n",
       "      <th>suzuki</th>\n",
       "      <th>tesla</th>\n",
       "      <th>toyota</th>\n",
       "      <th>unk</th>\n",
       "      <th>volkswagen</th>\n",
       "      <th>volvo</th>\n",
       "      <th>vpg</th>\n",
       "      <th>workhorse</th>\n",
       "      <th>total</th>\n",
       "    </tr>\n",
       "  </thead>\n",
       "  <tbody>\n",
       "    <tr>\n",
       "      <th>42</th>\n",
       "      <td>90045</td>\n",
       "      <td>316</td>\n",
       "      <td>14</td>\n",
       "      <td>0</td>\n",
       "      <td>0</td>\n",
       "      <td>750</td>\n",
       "      <td>0</td>\n",
       "      <td>1859</td>\n",
       "      <td>1628</td>\n",
       "      <td>605</td>\n",
       "      <td>9801</td>\n",
       "      <td>3347</td>\n",
       "      <td>8409</td>\n",
       "      <td>0</td>\n",
       "      <td>84</td>\n",
       "      <td>15525</td>\n",
       "      <td>0</td>\n",
       "      <td>0</td>\n",
       "      <td>2749</td>\n",
       "      <td>2972</td>\n",
       "      <td>0</td>\n",
       "      <td>5164</td>\n",
       "      <td>983</td>\n",
       "      <td>413</td>\n",
       "      <td>4309</td>\n",
       "      <td>6242</td>\n",
       "      <td>0</td>\n",
       "      <td>665</td>\n",
       "      <td>1067</td>\n",
       "      <td>253</td>\n",
       "      <td>0</td>\n",
       "      <td>2435</td>\n",
       "      <td>1497</td>\n",
       "      <td>0</td>\n",
       "      <td>228</td>\n",
       "      <td>3166</td>\n",
       "      <td>13078</td>\n",
       "      <td>0</td>\n",
       "      <td>204</td>\n",
       "      <td>1442</td>\n",
       "      <td>0</td>\n",
       "      <td>0</td>\n",
       "      <td>59</td>\n",
       "      <td>0</td>\n",
       "      <td>624</td>\n",
       "      <td>0</td>\n",
       "      <td>352</td>\n",
       "      <td>17164</td>\n",
       "      <td>6758</td>\n",
       "      <td>3324</td>\n",
       "      <td>266</td>\n",
       "      <td>0</td>\n",
       "      <td>0</td>\n",
       "      <td>117752</td>\n",
       "    </tr>\n",
       "    <tr>\n",
       "      <th>942</th>\n",
       "      <td>94080</td>\n",
       "      <td>758</td>\n",
       "      <td>0</td>\n",
       "      <td>0</td>\n",
       "      <td>0</td>\n",
       "      <td>463</td>\n",
       "      <td>0</td>\n",
       "      <td>1570</td>\n",
       "      <td>434</td>\n",
       "      <td>571</td>\n",
       "      <td>13558</td>\n",
       "      <td>1761</td>\n",
       "      <td>4681</td>\n",
       "      <td>0</td>\n",
       "      <td>38</td>\n",
       "      <td>10767</td>\n",
       "      <td>0</td>\n",
       "      <td>0</td>\n",
       "      <td>683</td>\n",
       "      <td>5740</td>\n",
       "      <td>0</td>\n",
       "      <td>5166</td>\n",
       "      <td>780</td>\n",
       "      <td>132</td>\n",
       "      <td>2410</td>\n",
       "      <td>8840</td>\n",
       "      <td>0</td>\n",
       "      <td>236</td>\n",
       "      <td>1573</td>\n",
       "      <td>229</td>\n",
       "      <td>0</td>\n",
       "      <td>1087</td>\n",
       "      <td>1765</td>\n",
       "      <td>0</td>\n",
       "      <td>244</td>\n",
       "      <td>154</td>\n",
       "      <td>15560</td>\n",
       "      <td>23</td>\n",
       "      <td>128</td>\n",
       "      <td>992</td>\n",
       "      <td>0</td>\n",
       "      <td>16</td>\n",
       "      <td>286</td>\n",
       "      <td>0</td>\n",
       "      <td>1139</td>\n",
       "      <td>0</td>\n",
       "      <td>334</td>\n",
       "      <td>16979</td>\n",
       "      <td>3775</td>\n",
       "      <td>2415</td>\n",
       "      <td>81</td>\n",
       "      <td>0</td>\n",
       "      <td>0</td>\n",
       "      <td>105368</td>\n",
       "    </tr>\n",
       "    <tr>\n",
       "      <th>481</th>\n",
       "      <td>92336</td>\n",
       "      <td>440</td>\n",
       "      <td>0</td>\n",
       "      <td>0</td>\n",
       "      <td>0</td>\n",
       "      <td>461</td>\n",
       "      <td>0</td>\n",
       "      <td>1412</td>\n",
       "      <td>158</td>\n",
       "      <td>440</td>\n",
       "      <td>5573</td>\n",
       "      <td>502</td>\n",
       "      <td>1248</td>\n",
       "      <td>0</td>\n",
       "      <td>81</td>\n",
       "      <td>3940</td>\n",
       "      <td>0</td>\n",
       "      <td>0</td>\n",
       "      <td>545</td>\n",
       "      <td>8266</td>\n",
       "      <td>13</td>\n",
       "      <td>1646</td>\n",
       "      <td>605</td>\n",
       "      <td>15</td>\n",
       "      <td>1090</td>\n",
       "      <td>2425</td>\n",
       "      <td>0</td>\n",
       "      <td>48</td>\n",
       "      <td>1458</td>\n",
       "      <td>30</td>\n",
       "      <td>0</td>\n",
       "      <td>953</td>\n",
       "      <td>1610</td>\n",
       "      <td>0</td>\n",
       "      <td>203</td>\n",
       "      <td>223</td>\n",
       "      <td>5439</td>\n",
       "      <td>44</td>\n",
       "      <td>38</td>\n",
       "      <td>459</td>\n",
       "      <td>0</td>\n",
       "      <td>68</td>\n",
       "      <td>589</td>\n",
       "      <td>0</td>\n",
       "      <td>585</td>\n",
       "      <td>0</td>\n",
       "      <td>218</td>\n",
       "      <td>9746</td>\n",
       "      <td>723</td>\n",
       "      <td>869</td>\n",
       "      <td>51</td>\n",
       "      <td>0</td>\n",
       "      <td>0</td>\n",
       "      <td>52214</td>\n",
       "    </tr>\n",
       "    <tr>\n",
       "      <th>254</th>\n",
       "      <td>91709</td>\n",
       "      <td>790</td>\n",
       "      <td>41</td>\n",
       "      <td>0</td>\n",
       "      <td>0</td>\n",
       "      <td>716</td>\n",
       "      <td>0</td>\n",
       "      <td>2429</td>\n",
       "      <td>85</td>\n",
       "      <td>344</td>\n",
       "      <td>2682</td>\n",
       "      <td>244</td>\n",
       "      <td>567</td>\n",
       "      <td>0</td>\n",
       "      <td>50</td>\n",
       "      <td>3487</td>\n",
       "      <td>0</td>\n",
       "      <td>25</td>\n",
       "      <td>339</td>\n",
       "      <td>7229</td>\n",
       "      <td>0</td>\n",
       "      <td>1788</td>\n",
       "      <td>744</td>\n",
       "      <td>40</td>\n",
       "      <td>910</td>\n",
       "      <td>1376</td>\n",
       "      <td>0</td>\n",
       "      <td>226</td>\n",
       "      <td>2789</td>\n",
       "      <td>23</td>\n",
       "      <td>72</td>\n",
       "      <td>1122</td>\n",
       "      <td>2862</td>\n",
       "      <td>0</td>\n",
       "      <td>268</td>\n",
       "      <td>114</td>\n",
       "      <td>2254</td>\n",
       "      <td>0</td>\n",
       "      <td>341</td>\n",
       "      <td>281</td>\n",
       "      <td>0</td>\n",
       "      <td>39</td>\n",
       "      <td>377</td>\n",
       "      <td>0</td>\n",
       "      <td>897</td>\n",
       "      <td>0</td>\n",
       "      <td>683</td>\n",
       "      <td>9284</td>\n",
       "      <td>554</td>\n",
       "      <td>963</td>\n",
       "      <td>214</td>\n",
       "      <td>0</td>\n",
       "      <td>0</td>\n",
       "      <td>47249</td>\n",
       "    </tr>\n",
       "    <tr>\n",
       "      <th>129</th>\n",
       "      <td>90650</td>\n",
       "      <td>426</td>\n",
       "      <td>0</td>\n",
       "      <td>0</td>\n",
       "      <td>0</td>\n",
       "      <td>340</td>\n",
       "      <td>0</td>\n",
       "      <td>1032</td>\n",
       "      <td>129</td>\n",
       "      <td>215</td>\n",
       "      <td>3494</td>\n",
       "      <td>411</td>\n",
       "      <td>1345</td>\n",
       "      <td>0</td>\n",
       "      <td>48</td>\n",
       "      <td>3021</td>\n",
       "      <td>0</td>\n",
       "      <td>0</td>\n",
       "      <td>590</td>\n",
       "      <td>7977</td>\n",
       "      <td>0</td>\n",
       "      <td>1726</td>\n",
       "      <td>448</td>\n",
       "      <td>0</td>\n",
       "      <td>1072</td>\n",
       "      <td>2343</td>\n",
       "      <td>0</td>\n",
       "      <td>11</td>\n",
       "      <td>1102</td>\n",
       "      <td>33</td>\n",
       "      <td>0</td>\n",
       "      <td>829</td>\n",
       "      <td>801</td>\n",
       "      <td>0</td>\n",
       "      <td>149</td>\n",
       "      <td>248</td>\n",
       "      <td>4340</td>\n",
       "      <td>30</td>\n",
       "      <td>85</td>\n",
       "      <td>364</td>\n",
       "      <td>0</td>\n",
       "      <td>87</td>\n",
       "      <td>748</td>\n",
       "      <td>0</td>\n",
       "      <td>451</td>\n",
       "      <td>0</td>\n",
       "      <td>89</td>\n",
       "      <td>10094</td>\n",
       "      <td>496</td>\n",
       "      <td>701</td>\n",
       "      <td>11</td>\n",
       "      <td>0</td>\n",
       "      <td>0</td>\n",
       "      <td>45286</td>\n",
       "    </tr>\n",
       "  </tbody>\n",
       "</table>\n",
       "</div>"
      ],
      "text/plain": [
       "make    zip  acura  alfa_romeo  am_general  aston_martin  audi  bentley   bmw  \\\n",
       "42    90045    316          14           0             0   750        0  1859   \n",
       "942   94080    758           0           0             0   463        0  1570   \n",
       "481   92336    440           0           0             0   461        0  1412   \n",
       "254   91709    790          41           0             0   716        0  2429   \n",
       "129   90650    426           0           0             0   340        0  1032   \n",
       "\n",
       "make  buick  cadillac  chevrolet  chrysler  dodge  ferrari  fiat   ford  \\\n",
       "42     1628       605       9801      3347   8409        0    84  15525   \n",
       "942     434       571      13558      1761   4681        0    38  10767   \n",
       "481     158       440       5573       502   1248        0    81   3940   \n",
       "254      85       344       2682       244    567        0    50   3487   \n",
       "129     129       215       3494       411   1345        0    48   3021   \n",
       "\n",
       "make  freightliner  genesis   gmc  honda  hummer  hyundai  infiniti  jaguar  \\\n",
       "42               0        0  2749   2972       0     5164       983     413   \n",
       "942              0        0   683   5740       0     5166       780     132   \n",
       "481              0        0   545   8266      13     1646       605      15   \n",
       "254              0       25   339   7229       0     1788       744      40   \n",
       "129              0        0   590   7977       0     1726       448       0   \n",
       "\n",
       "make  jeep   kia  lamborghini  land_rover  lexus  lincoln  maserati  mazda  \\\n",
       "42    4309  6242            0         665   1067      253         0   2435   \n",
       "942   2410  8840            0         236   1573      229         0   1087   \n",
       "481   1090  2425            0          48   1458       30         0    953   \n",
       "254    910  1376            0         226   2789       23        72   1122   \n",
       "129   1072  2343            0          11   1102       33         0    829   \n",
       "\n",
       "make  mercedes_benz  mercury  mini  mitsubishi  nissan  pontiac  porsche  \\\n",
       "42             1497        0   228        3166   13078        0      204   \n",
       "942            1765        0   244         154   15560       23      128   \n",
       "481            1610        0   203         223    5439       44       38   \n",
       "254            2862        0   268         114    2254        0      341   \n",
       "129             801        0   149         248    4340       30       85   \n",
       "\n",
       "make   ram  rolls_royce  saturn  scion  smart  subaru  suzuki  tesla  toyota  \\\n",
       "42    1442            0       0     59      0     624       0    352   17164   \n",
       "942    992            0      16    286      0    1139       0    334   16979   \n",
       "481    459            0      68    589      0     585       0    218    9746   \n",
       "254    281            0      39    377      0     897       0    683    9284   \n",
       "129    364            0      87    748      0     451       0     89   10094   \n",
       "\n",
       "make   unk  volkswagen  volvo  vpg  workhorse   total  \n",
       "42    6758        3324    266    0          0  117752  \n",
       "942   3775        2415     81    0          0  105368  \n",
       "481    723         869     51    0          0   52214  \n",
       "254    554         963    214    0          0   47249  \n",
       "129    496         701     11    0          0   45286  "
      ]
     },
     "execution_count": 47,
     "metadata": {},
     "output_type": "execute_result"
    }
   ],
   "source": [
    "make_zip.sort_values(by='total', ascending=False).head(5)"
   ]
  },
  {
   "cell_type": "code",
   "execution_count": 48,
   "metadata": {},
   "outputs": [],
   "source": [
    "makes_list = list(make_zip.columns)"
   ]
  },
  {
   "cell_type": "code",
   "execution_count": 49,
   "metadata": {},
   "outputs": [
    {
     "data": {
      "text/plain": [
       "['zip',\n",
       " 'acura',\n",
       " 'alfa_romeo',\n",
       " 'am_general',\n",
       " 'aston_martin',\n",
       " 'audi',\n",
       " 'bentley',\n",
       " 'bmw',\n",
       " 'buick',\n",
       " 'cadillac',\n",
       " 'chevrolet',\n",
       " 'chrysler',\n",
       " 'dodge',\n",
       " 'ferrari',\n",
       " 'fiat',\n",
       " 'ford',\n",
       " 'freightliner',\n",
       " 'genesis',\n",
       " 'gmc',\n",
       " 'honda',\n",
       " 'hummer',\n",
       " 'hyundai',\n",
       " 'infiniti',\n",
       " 'jaguar',\n",
       " 'jeep',\n",
       " 'kia',\n",
       " 'lamborghini',\n",
       " 'land_rover',\n",
       " 'lexus',\n",
       " 'lincoln',\n",
       " 'maserati',\n",
       " 'mazda',\n",
       " 'mercedes_benz',\n",
       " 'mercury',\n",
       " 'mini',\n",
       " 'mitsubishi',\n",
       " 'nissan',\n",
       " 'pontiac',\n",
       " 'porsche',\n",
       " 'ram',\n",
       " 'rolls_royce',\n",
       " 'saturn',\n",
       " 'scion',\n",
       " 'smart',\n",
       " 'subaru',\n",
       " 'suzuki',\n",
       " 'tesla',\n",
       " 'toyota',\n",
       " 'unk',\n",
       " 'volkswagen',\n",
       " 'volvo',\n",
       " 'vpg',\n",
       " 'workhorse',\n",
       " 'total']"
      ]
     },
     "execution_count": 49,
     "metadata": {},
     "output_type": "execute_result"
    }
   ],
   "source": [
    "makes_list"
   ]
  },
  {
   "cell_type": "code",
   "execution_count": 50,
   "metadata": {},
   "outputs": [],
   "source": [
    "make_zip[['zip', 'total']].to_csv('output/total_makes_zip.csv')"
   ]
  },
  {
   "cell_type": "code",
   "execution_count": 51,
   "metadata": {},
   "outputs": [],
   "source": [
    "make_total = pd.DataFrame(make_zip[['zip', 'total']])"
   ]
  },
  {
   "cell_type": "code",
   "execution_count": 53,
   "metadata": {},
   "outputs": [],
   "source": [
    "make_zip['winner'] = make_zip[['acura',\n",
    " 'acura',\n",
    " 'alfa_romeo',\n",
    " 'am_general',\n",
    " 'aston_martin',\n",
    " 'audi',\n",
    " 'bentley',\n",
    " 'bmw',\n",
    " 'buick',\n",
    " 'cadillac',\n",
    " 'chevrolet',\n",
    " 'chrysler',\n",
    " 'dodge',\n",
    " 'ferrari',\n",
    " 'fiat',\n",
    " 'ford',\n",
    " 'freightliner',\n",
    " 'genesis',\n",
    " 'gmc',\n",
    " 'honda',\n",
    " 'hummer',\n",
    " 'hyundai',\n",
    " 'infiniti',\n",
    " 'jaguar',\n",
    " 'jeep',\n",
    " 'kia',\n",
    " 'lamborghini',\n",
    " 'land_rover',\n",
    " 'lexus',\n",
    " 'lincoln',\n",
    " 'maserati',\n",
    " 'mazda',\n",
    " 'mercedes_benz',\n",
    " 'mercury',\n",
    " 'mini',\n",
    " 'mitsubishi',\n",
    " 'nissan',\n",
    " 'pontiac',\n",
    " 'porsche',\n",
    " 'ram',\n",
    " 'rolls_royce',\n",
    " 'saturn',\n",
    " 'scion',\n",
    " 'smart',\n",
    " 'subaru',\n",
    " 'suzuki',\n",
    " 'tesla',\n",
    " 'toyota',\n",
    " 'unk',\n",
    " 'volkswagen',\n",
    " 'volvo',\n",
    " 'vpg',\n",
    " 'workhorse']].idxmax(axis=1)"
   ]
  },
  {
   "cell_type": "code",
   "execution_count": 54,
   "metadata": {},
   "outputs": [
    {
     "data": {
      "text/html": [
       "<div>\n",
       "<style scoped>\n",
       "    .dataframe tbody tr th:only-of-type {\n",
       "        vertical-align: middle;\n",
       "    }\n",
       "\n",
       "    .dataframe tbody tr th {\n",
       "        vertical-align: top;\n",
       "    }\n",
       "\n",
       "    .dataframe thead th {\n",
       "        text-align: right;\n",
       "    }\n",
       "</style>\n",
       "<table border=\"1\" class=\"dataframe\">\n",
       "  <thead>\n",
       "    <tr style=\"text-align: right;\">\n",
       "      <th>make</th>\n",
       "      <th>zip</th>\n",
       "      <th>acura</th>\n",
       "      <th>alfa_romeo</th>\n",
       "      <th>am_general</th>\n",
       "      <th>aston_martin</th>\n",
       "      <th>audi</th>\n",
       "      <th>bentley</th>\n",
       "      <th>bmw</th>\n",
       "      <th>buick</th>\n",
       "      <th>cadillac</th>\n",
       "      <th>chevrolet</th>\n",
       "      <th>chrysler</th>\n",
       "      <th>dodge</th>\n",
       "      <th>ferrari</th>\n",
       "      <th>fiat</th>\n",
       "      <th>ford</th>\n",
       "      <th>freightliner</th>\n",
       "      <th>genesis</th>\n",
       "      <th>gmc</th>\n",
       "      <th>honda</th>\n",
       "      <th>hummer</th>\n",
       "      <th>hyundai</th>\n",
       "      <th>infiniti</th>\n",
       "      <th>jaguar</th>\n",
       "      <th>jeep</th>\n",
       "      <th>kia</th>\n",
       "      <th>lamborghini</th>\n",
       "      <th>land_rover</th>\n",
       "      <th>lexus</th>\n",
       "      <th>lincoln</th>\n",
       "      <th>maserati</th>\n",
       "      <th>mazda</th>\n",
       "      <th>mercedes_benz</th>\n",
       "      <th>mercury</th>\n",
       "      <th>mini</th>\n",
       "      <th>mitsubishi</th>\n",
       "      <th>nissan</th>\n",
       "      <th>pontiac</th>\n",
       "      <th>porsche</th>\n",
       "      <th>ram</th>\n",
       "      <th>rolls_royce</th>\n",
       "      <th>saturn</th>\n",
       "      <th>scion</th>\n",
       "      <th>smart</th>\n",
       "      <th>subaru</th>\n",
       "      <th>suzuki</th>\n",
       "      <th>tesla</th>\n",
       "      <th>toyota</th>\n",
       "      <th>unk</th>\n",
       "      <th>volkswagen</th>\n",
       "      <th>volvo</th>\n",
       "      <th>vpg</th>\n",
       "      <th>workhorse</th>\n",
       "      <th>total</th>\n",
       "      <th>winner</th>\n",
       "    </tr>\n",
       "  </thead>\n",
       "  <tbody>\n",
       "    <tr>\n",
       "      <th>0</th>\n",
       "      <td>90001</td>\n",
       "      <td>52</td>\n",
       "      <td>0</td>\n",
       "      <td>0</td>\n",
       "      <td>0</td>\n",
       "      <td>11</td>\n",
       "      <td>0</td>\n",
       "      <td>344</td>\n",
       "      <td>14</td>\n",
       "      <td>57</td>\n",
       "      <td>1670</td>\n",
       "      <td>181</td>\n",
       "      <td>663</td>\n",
       "      <td>0</td>\n",
       "      <td>0</td>\n",
       "      <td>1032</td>\n",
       "      <td>0</td>\n",
       "      <td>0</td>\n",
       "      <td>123</td>\n",
       "      <td>2471</td>\n",
       "      <td>0</td>\n",
       "      <td>398</td>\n",
       "      <td>169</td>\n",
       "      <td>0</td>\n",
       "      <td>455</td>\n",
       "      <td>1034</td>\n",
       "      <td>0</td>\n",
       "      <td>0</td>\n",
       "      <td>170</td>\n",
       "      <td>12</td>\n",
       "      <td>0</td>\n",
       "      <td>147</td>\n",
       "      <td>169</td>\n",
       "      <td>0</td>\n",
       "      <td>78</td>\n",
       "      <td>11</td>\n",
       "      <td>2564</td>\n",
       "      <td>28</td>\n",
       "      <td>0</td>\n",
       "      <td>114</td>\n",
       "      <td>0</td>\n",
       "      <td>27</td>\n",
       "      <td>235</td>\n",
       "      <td>0</td>\n",
       "      <td>51</td>\n",
       "      <td>0</td>\n",
       "      <td>0</td>\n",
       "      <td>3306</td>\n",
       "      <td>158</td>\n",
       "      <td>191</td>\n",
       "      <td>0</td>\n",
       "      <td>0</td>\n",
       "      <td>0</td>\n",
       "      <td>15935</td>\n",
       "      <td>toyota</td>\n",
       "    </tr>\n",
       "    <tr>\n",
       "      <th>1</th>\n",
       "      <td>90002</td>\n",
       "      <td>20</td>\n",
       "      <td>0</td>\n",
       "      <td>0</td>\n",
       "      <td>0</td>\n",
       "      <td>13</td>\n",
       "      <td>0</td>\n",
       "      <td>240</td>\n",
       "      <td>13</td>\n",
       "      <td>72</td>\n",
       "      <td>1561</td>\n",
       "      <td>193</td>\n",
       "      <td>641</td>\n",
       "      <td>0</td>\n",
       "      <td>0</td>\n",
       "      <td>926</td>\n",
       "      <td>0</td>\n",
       "      <td>0</td>\n",
       "      <td>97</td>\n",
       "      <td>2149</td>\n",
       "      <td>0</td>\n",
       "      <td>371</td>\n",
       "      <td>200</td>\n",
       "      <td>0</td>\n",
       "      <td>356</td>\n",
       "      <td>1113</td>\n",
       "      <td>0</td>\n",
       "      <td>0</td>\n",
       "      <td>176</td>\n",
       "      <td>0</td>\n",
       "      <td>0</td>\n",
       "      <td>121</td>\n",
       "      <td>174</td>\n",
       "      <td>0</td>\n",
       "      <td>0</td>\n",
       "      <td>47</td>\n",
       "      <td>2447</td>\n",
       "      <td>28</td>\n",
       "      <td>0</td>\n",
       "      <td>44</td>\n",
       "      <td>0</td>\n",
       "      <td>38</td>\n",
       "      <td>221</td>\n",
       "      <td>0</td>\n",
       "      <td>41</td>\n",
       "      <td>0</td>\n",
       "      <td>0</td>\n",
       "      <td>3009</td>\n",
       "      <td>111</td>\n",
       "      <td>212</td>\n",
       "      <td>0</td>\n",
       "      <td>0</td>\n",
       "      <td>0</td>\n",
       "      <td>14634</td>\n",
       "      <td>toyota</td>\n",
       "    </tr>\n",
       "    <tr>\n",
       "      <th>2</th>\n",
       "      <td>90003</td>\n",
       "      <td>83</td>\n",
       "      <td>0</td>\n",
       "      <td>0</td>\n",
       "      <td>0</td>\n",
       "      <td>41</td>\n",
       "      <td>0</td>\n",
       "      <td>332</td>\n",
       "      <td>11</td>\n",
       "      <td>102</td>\n",
       "      <td>1808</td>\n",
       "      <td>252</td>\n",
       "      <td>818</td>\n",
       "      <td>0</td>\n",
       "      <td>0</td>\n",
       "      <td>1179</td>\n",
       "      <td>0</td>\n",
       "      <td>0</td>\n",
       "      <td>153</td>\n",
       "      <td>2978</td>\n",
       "      <td>0</td>\n",
       "      <td>433</td>\n",
       "      <td>239</td>\n",
       "      <td>0</td>\n",
       "      <td>418</td>\n",
       "      <td>1408</td>\n",
       "      <td>0</td>\n",
       "      <td>0</td>\n",
       "      <td>247</td>\n",
       "      <td>12</td>\n",
       "      <td>0</td>\n",
       "      <td>212</td>\n",
       "      <td>303</td>\n",
       "      <td>0</td>\n",
       "      <td>0</td>\n",
       "      <td>68</td>\n",
       "      <td>3106</td>\n",
       "      <td>38</td>\n",
       "      <td>0</td>\n",
       "      <td>94</td>\n",
       "      <td>0</td>\n",
       "      <td>37</td>\n",
       "      <td>338</td>\n",
       "      <td>0</td>\n",
       "      <td>25</td>\n",
       "      <td>0</td>\n",
       "      <td>0</td>\n",
       "      <td>4355</td>\n",
       "      <td>159</td>\n",
       "      <td>277</td>\n",
       "      <td>0</td>\n",
       "      <td>0</td>\n",
       "      <td>0</td>\n",
       "      <td>19526</td>\n",
       "      <td>toyota</td>\n",
       "    </tr>\n",
       "    <tr>\n",
       "      <th>3</th>\n",
       "      <td>90004</td>\n",
       "      <td>227</td>\n",
       "      <td>32</td>\n",
       "      <td>0</td>\n",
       "      <td>0</td>\n",
       "      <td>563</td>\n",
       "      <td>0</td>\n",
       "      <td>1075</td>\n",
       "      <td>0</td>\n",
       "      <td>37</td>\n",
       "      <td>680</td>\n",
       "      <td>11</td>\n",
       "      <td>220</td>\n",
       "      <td>0</td>\n",
       "      <td>105</td>\n",
       "      <td>774</td>\n",
       "      <td>0</td>\n",
       "      <td>0</td>\n",
       "      <td>11</td>\n",
       "      <td>3144</td>\n",
       "      <td>0</td>\n",
       "      <td>778</td>\n",
       "      <td>218</td>\n",
       "      <td>30</td>\n",
       "      <td>410</td>\n",
       "      <td>686</td>\n",
       "      <td>0</td>\n",
       "      <td>141</td>\n",
       "      <td>1176</td>\n",
       "      <td>0</td>\n",
       "      <td>0</td>\n",
       "      <td>487</td>\n",
       "      <td>889</td>\n",
       "      <td>0</td>\n",
       "      <td>262</td>\n",
       "      <td>31</td>\n",
       "      <td>1812</td>\n",
       "      <td>0</td>\n",
       "      <td>141</td>\n",
       "      <td>0</td>\n",
       "      <td>0</td>\n",
       "      <td>0</td>\n",
       "      <td>238</td>\n",
       "      <td>0</td>\n",
       "      <td>422</td>\n",
       "      <td>0</td>\n",
       "      <td>200</td>\n",
       "      <td>5250</td>\n",
       "      <td>179</td>\n",
       "      <td>678</td>\n",
       "      <td>114</td>\n",
       "      <td>0</td>\n",
       "      <td>0</td>\n",
       "      <td>21021</td>\n",
       "      <td>toyota</td>\n",
       "    </tr>\n",
       "    <tr>\n",
       "      <th>4</th>\n",
       "      <td>90005</td>\n",
       "      <td>62</td>\n",
       "      <td>0</td>\n",
       "      <td>0</td>\n",
       "      <td>0</td>\n",
       "      <td>241</td>\n",
       "      <td>0</td>\n",
       "      <td>759</td>\n",
       "      <td>0</td>\n",
       "      <td>0</td>\n",
       "      <td>260</td>\n",
       "      <td>0</td>\n",
       "      <td>52</td>\n",
       "      <td>0</td>\n",
       "      <td>15</td>\n",
       "      <td>341</td>\n",
       "      <td>0</td>\n",
       "      <td>12</td>\n",
       "      <td>0</td>\n",
       "      <td>1769</td>\n",
       "      <td>0</td>\n",
       "      <td>610</td>\n",
       "      <td>143</td>\n",
       "      <td>0</td>\n",
       "      <td>153</td>\n",
       "      <td>401</td>\n",
       "      <td>0</td>\n",
       "      <td>30</td>\n",
       "      <td>822</td>\n",
       "      <td>0</td>\n",
       "      <td>0</td>\n",
       "      <td>203</td>\n",
       "      <td>640</td>\n",
       "      <td>0</td>\n",
       "      <td>78</td>\n",
       "      <td>0</td>\n",
       "      <td>877</td>\n",
       "      <td>0</td>\n",
       "      <td>50</td>\n",
       "      <td>0</td>\n",
       "      <td>0</td>\n",
       "      <td>0</td>\n",
       "      <td>39</td>\n",
       "      <td>0</td>\n",
       "      <td>192</td>\n",
       "      <td>0</td>\n",
       "      <td>58</td>\n",
       "      <td>2638</td>\n",
       "      <td>108</td>\n",
       "      <td>320</td>\n",
       "      <td>0</td>\n",
       "      <td>0</td>\n",
       "      <td>0</td>\n",
       "      <td>10873</td>\n",
       "      <td>toyota</td>\n",
       "    </tr>\n",
       "    <tr>\n",
       "      <th>5</th>\n",
       "      <td>90006</td>\n",
       "      <td>62</td>\n",
       "      <td>0</td>\n",
       "      <td>0</td>\n",
       "      <td>0</td>\n",
       "      <td>113</td>\n",
       "      <td>0</td>\n",
       "      <td>564</td>\n",
       "      <td>0</td>\n",
       "      <td>0</td>\n",
       "      <td>664</td>\n",
       "      <td>12</td>\n",
       "      <td>203</td>\n",
       "      <td>0</td>\n",
       "      <td>25</td>\n",
       "      <td>618</td>\n",
       "      <td>0</td>\n",
       "      <td>0</td>\n",
       "      <td>15</td>\n",
       "      <td>2706</td>\n",
       "      <td>0</td>\n",
       "      <td>751</td>\n",
       "      <td>182</td>\n",
       "      <td>0</td>\n",
       "      <td>243</td>\n",
       "      <td>788</td>\n",
       "      <td>0</td>\n",
       "      <td>0</td>\n",
       "      <td>712</td>\n",
       "      <td>0</td>\n",
       "      <td>0</td>\n",
       "      <td>203</td>\n",
       "      <td>456</td>\n",
       "      <td>0</td>\n",
       "      <td>86</td>\n",
       "      <td>0</td>\n",
       "      <td>2015</td>\n",
       "      <td>0</td>\n",
       "      <td>0</td>\n",
       "      <td>13</td>\n",
       "      <td>0</td>\n",
       "      <td>0</td>\n",
       "      <td>178</td>\n",
       "      <td>0</td>\n",
       "      <td>119</td>\n",
       "      <td>0</td>\n",
       "      <td>26</td>\n",
       "      <td>4477</td>\n",
       "      <td>131</td>\n",
       "      <td>320</td>\n",
       "      <td>28</td>\n",
       "      <td>0</td>\n",
       "      <td>0</td>\n",
       "      <td>15710</td>\n",
       "      <td>toyota</td>\n",
       "    </tr>\n",
       "    <tr>\n",
       "      <th>6</th>\n",
       "      <td>90007</td>\n",
       "      <td>0</td>\n",
       "      <td>0</td>\n",
       "      <td>0</td>\n",
       "      <td>0</td>\n",
       "      <td>182</td>\n",
       "      <td>0</td>\n",
       "      <td>414</td>\n",
       "      <td>0</td>\n",
       "      <td>0</td>\n",
       "      <td>509</td>\n",
       "      <td>14</td>\n",
       "      <td>153</td>\n",
       "      <td>0</td>\n",
       "      <td>0</td>\n",
       "      <td>495</td>\n",
       "      <td>0</td>\n",
       "      <td>0</td>\n",
       "      <td>0</td>\n",
       "      <td>1551</td>\n",
       "      <td>0</td>\n",
       "      <td>253</td>\n",
       "      <td>37</td>\n",
       "      <td>0</td>\n",
       "      <td>270</td>\n",
       "      <td>558</td>\n",
       "      <td>0</td>\n",
       "      <td>0</td>\n",
       "      <td>130</td>\n",
       "      <td>0</td>\n",
       "      <td>0</td>\n",
       "      <td>154</td>\n",
       "      <td>250</td>\n",
       "      <td>0</td>\n",
       "      <td>44</td>\n",
       "      <td>0</td>\n",
       "      <td>1153</td>\n",
       "      <td>0</td>\n",
       "      <td>53</td>\n",
       "      <td>0</td>\n",
       "      <td>0</td>\n",
       "      <td>0</td>\n",
       "      <td>57</td>\n",
       "      <td>0</td>\n",
       "      <td>90</td>\n",
       "      <td>0</td>\n",
       "      <td>27</td>\n",
       "      <td>2206</td>\n",
       "      <td>102</td>\n",
       "      <td>287</td>\n",
       "      <td>0</td>\n",
       "      <td>0</td>\n",
       "      <td>0</td>\n",
       "      <td>8989</td>\n",
       "      <td>toyota</td>\n",
       "    </tr>\n",
       "    <tr>\n",
       "      <th>7</th>\n",
       "      <td>90008</td>\n",
       "      <td>36</td>\n",
       "      <td>0</td>\n",
       "      <td>0</td>\n",
       "      <td>0</td>\n",
       "      <td>200</td>\n",
       "      <td>0</td>\n",
       "      <td>499</td>\n",
       "      <td>49</td>\n",
       "      <td>171</td>\n",
       "      <td>785</td>\n",
       "      <td>159</td>\n",
       "      <td>273</td>\n",
       "      <td>0</td>\n",
       "      <td>17</td>\n",
       "      <td>629</td>\n",
       "      <td>0</td>\n",
       "      <td>0</td>\n",
       "      <td>14</td>\n",
       "      <td>1397</td>\n",
       "      <td>0</td>\n",
       "      <td>437</td>\n",
       "      <td>219</td>\n",
       "      <td>0</td>\n",
       "      <td>287</td>\n",
       "      <td>695</td>\n",
       "      <td>0</td>\n",
       "      <td>0</td>\n",
       "      <td>437</td>\n",
       "      <td>0</td>\n",
       "      <td>0</td>\n",
       "      <td>184</td>\n",
       "      <td>728</td>\n",
       "      <td>0</td>\n",
       "      <td>52</td>\n",
       "      <td>0</td>\n",
       "      <td>1123</td>\n",
       "      <td>12</td>\n",
       "      <td>15</td>\n",
       "      <td>0</td>\n",
       "      <td>0</td>\n",
       "      <td>0</td>\n",
       "      <td>14</td>\n",
       "      <td>0</td>\n",
       "      <td>91</td>\n",
       "      <td>0</td>\n",
       "      <td>54</td>\n",
       "      <td>1801</td>\n",
       "      <td>55</td>\n",
       "      <td>328</td>\n",
       "      <td>25</td>\n",
       "      <td>0</td>\n",
       "      <td>0</td>\n",
       "      <td>10786</td>\n",
       "      <td>toyota</td>\n",
       "    </tr>\n",
       "    <tr>\n",
       "      <th>8</th>\n",
       "      <td>90010</td>\n",
       "      <td>0</td>\n",
       "      <td>0</td>\n",
       "      <td>0</td>\n",
       "      <td>0</td>\n",
       "      <td>81</td>\n",
       "      <td>0</td>\n",
       "      <td>317</td>\n",
       "      <td>0</td>\n",
       "      <td>77</td>\n",
       "      <td>60</td>\n",
       "      <td>0</td>\n",
       "      <td>60</td>\n",
       "      <td>0</td>\n",
       "      <td>0</td>\n",
       "      <td>463</td>\n",
       "      <td>0</td>\n",
       "      <td>13</td>\n",
       "      <td>37</td>\n",
       "      <td>278</td>\n",
       "      <td>0</td>\n",
       "      <td>261</td>\n",
       "      <td>43</td>\n",
       "      <td>0</td>\n",
       "      <td>68</td>\n",
       "      <td>87</td>\n",
       "      <td>0</td>\n",
       "      <td>89</td>\n",
       "      <td>191</td>\n",
       "      <td>0</td>\n",
       "      <td>0</td>\n",
       "      <td>0</td>\n",
       "      <td>666</td>\n",
       "      <td>0</td>\n",
       "      <td>0</td>\n",
       "      <td>0</td>\n",
       "      <td>104</td>\n",
       "      <td>0</td>\n",
       "      <td>106</td>\n",
       "      <td>0</td>\n",
       "      <td>0</td>\n",
       "      <td>0</td>\n",
       "      <td>0</td>\n",
       "      <td>0</td>\n",
       "      <td>17</td>\n",
       "      <td>0</td>\n",
       "      <td>39</td>\n",
       "      <td>1455</td>\n",
       "      <td>364</td>\n",
       "      <td>12</td>\n",
       "      <td>15</td>\n",
       "      <td>0</td>\n",
       "      <td>0</td>\n",
       "      <td>4903</td>\n",
       "      <td>toyota</td>\n",
       "    </tr>\n",
       "    <tr>\n",
       "      <th>9</th>\n",
       "      <td>90011</td>\n",
       "      <td>171</td>\n",
       "      <td>0</td>\n",
       "      <td>0</td>\n",
       "      <td>0</td>\n",
       "      <td>101</td>\n",
       "      <td>0</td>\n",
       "      <td>416</td>\n",
       "      <td>0</td>\n",
       "      <td>127</td>\n",
       "      <td>2643</td>\n",
       "      <td>267</td>\n",
       "      <td>1071</td>\n",
       "      <td>0</td>\n",
       "      <td>12</td>\n",
       "      <td>1633</td>\n",
       "      <td>0</td>\n",
       "      <td>0</td>\n",
       "      <td>261</td>\n",
       "      <td>4381</td>\n",
       "      <td>0</td>\n",
       "      <td>537</td>\n",
       "      <td>326</td>\n",
       "      <td>0</td>\n",
       "      <td>685</td>\n",
       "      <td>1692</td>\n",
       "      <td>0</td>\n",
       "      <td>0</td>\n",
       "      <td>297</td>\n",
       "      <td>29</td>\n",
       "      <td>0</td>\n",
       "      <td>310</td>\n",
       "      <td>312</td>\n",
       "      <td>0</td>\n",
       "      <td>25</td>\n",
       "      <td>97</td>\n",
       "      <td>4364</td>\n",
       "      <td>13</td>\n",
       "      <td>0</td>\n",
       "      <td>129</td>\n",
       "      <td>0</td>\n",
       "      <td>49</td>\n",
       "      <td>416</td>\n",
       "      <td>0</td>\n",
       "      <td>115</td>\n",
       "      <td>0</td>\n",
       "      <td>0</td>\n",
       "      <td>5994</td>\n",
       "      <td>195</td>\n",
       "      <td>394</td>\n",
       "      <td>11</td>\n",
       "      <td>0</td>\n",
       "      <td>0</td>\n",
       "      <td>27073</td>\n",
       "      <td>toyota</td>\n",
       "    </tr>\n",
       "  </tbody>\n",
       "</table>\n",
       "</div>"
      ],
      "text/plain": [
       "make    zip  acura  alfa_romeo  am_general  aston_martin  audi  bentley   bmw  \\\n",
       "0     90001     52           0           0             0    11        0   344   \n",
       "1     90002     20           0           0             0    13        0   240   \n",
       "2     90003     83           0           0             0    41        0   332   \n",
       "3     90004    227          32           0             0   563        0  1075   \n",
       "4     90005     62           0           0             0   241        0   759   \n",
       "5     90006     62           0           0             0   113        0   564   \n",
       "6     90007      0           0           0             0   182        0   414   \n",
       "7     90008     36           0           0             0   200        0   499   \n",
       "8     90010      0           0           0             0    81        0   317   \n",
       "9     90011    171           0           0             0   101        0   416   \n",
       "\n",
       "make  buick  cadillac  chevrolet  chrysler  dodge  ferrari  fiat  ford  \\\n",
       "0        14        57       1670       181    663        0     0  1032   \n",
       "1        13        72       1561       193    641        0     0   926   \n",
       "2        11       102       1808       252    818        0     0  1179   \n",
       "3         0        37        680        11    220        0   105   774   \n",
       "4         0         0        260         0     52        0    15   341   \n",
       "5         0         0        664        12    203        0    25   618   \n",
       "6         0         0        509        14    153        0     0   495   \n",
       "7        49       171        785       159    273        0    17   629   \n",
       "8         0        77         60         0     60        0     0   463   \n",
       "9         0       127       2643       267   1071        0    12  1633   \n",
       "\n",
       "make  freightliner  genesis  gmc  honda  hummer  hyundai  infiniti  jaguar  \\\n",
       "0                0        0  123   2471       0      398       169       0   \n",
       "1                0        0   97   2149       0      371       200       0   \n",
       "2                0        0  153   2978       0      433       239       0   \n",
       "3                0        0   11   3144       0      778       218      30   \n",
       "4                0       12    0   1769       0      610       143       0   \n",
       "5                0        0   15   2706       0      751       182       0   \n",
       "6                0        0    0   1551       0      253        37       0   \n",
       "7                0        0   14   1397       0      437       219       0   \n",
       "8                0       13   37    278       0      261        43       0   \n",
       "9                0        0  261   4381       0      537       326       0   \n",
       "\n",
       "make  jeep   kia  lamborghini  land_rover  lexus  lincoln  maserati  mazda  \\\n",
       "0      455  1034            0           0    170       12         0    147   \n",
       "1      356  1113            0           0    176        0         0    121   \n",
       "2      418  1408            0           0    247       12         0    212   \n",
       "3      410   686            0         141   1176        0         0    487   \n",
       "4      153   401            0          30    822        0         0    203   \n",
       "5      243   788            0           0    712        0         0    203   \n",
       "6      270   558            0           0    130        0         0    154   \n",
       "7      287   695            0           0    437        0         0    184   \n",
       "8       68    87            0          89    191        0         0      0   \n",
       "9      685  1692            0           0    297       29         0    310   \n",
       "\n",
       "make  mercedes_benz  mercury  mini  mitsubishi  nissan  pontiac  porsche  ram  \\\n",
       "0               169        0    78          11    2564       28        0  114   \n",
       "1               174        0     0          47    2447       28        0   44   \n",
       "2               303        0     0          68    3106       38        0   94   \n",
       "3               889        0   262          31    1812        0      141    0   \n",
       "4               640        0    78           0     877        0       50    0   \n",
       "5               456        0    86           0    2015        0        0   13   \n",
       "6               250        0    44           0    1153        0       53    0   \n",
       "7               728        0    52           0    1123       12       15    0   \n",
       "8               666        0     0           0     104        0      106    0   \n",
       "9               312        0    25          97    4364       13        0  129   \n",
       "\n",
       "make  rolls_royce  saturn  scion  smart  subaru  suzuki  tesla  toyota  unk  \\\n",
       "0               0      27    235      0      51       0      0    3306  158   \n",
       "1               0      38    221      0      41       0      0    3009  111   \n",
       "2               0      37    338      0      25       0      0    4355  159   \n",
       "3               0       0    238      0     422       0    200    5250  179   \n",
       "4               0       0     39      0     192       0     58    2638  108   \n",
       "5               0       0    178      0     119       0     26    4477  131   \n",
       "6               0       0     57      0      90       0     27    2206  102   \n",
       "7               0       0     14      0      91       0     54    1801   55   \n",
       "8               0       0      0      0      17       0     39    1455  364   \n",
       "9               0      49    416      0     115       0      0    5994  195   \n",
       "\n",
       "make  volkswagen  volvo  vpg  workhorse  total  winner  \n",
       "0            191      0    0          0  15935  toyota  \n",
       "1            212      0    0          0  14634  toyota  \n",
       "2            277      0    0          0  19526  toyota  \n",
       "3            678    114    0          0  21021  toyota  \n",
       "4            320      0    0          0  10873  toyota  \n",
       "5            320     28    0          0  15710  toyota  \n",
       "6            287      0    0          0   8989  toyota  \n",
       "7            328     25    0          0  10786  toyota  \n",
       "8             12     15    0          0   4903  toyota  \n",
       "9            394     11    0          0  27073  toyota  "
      ]
     },
     "execution_count": 54,
     "metadata": {},
     "output_type": "execute_result"
    }
   ],
   "source": [
    "make_zip.head(10)"
   ]
  },
  {
   "cell_type": "code",
   "execution_count": 55,
   "metadata": {},
   "outputs": [],
   "source": [
    "make_zip_top_ten = pd.DataFrame(make_zip[['zip','dodge','toyota','gmc','honda','ford','chevrolet','nissan',\\\n",
    "                               'bmw','hyundai','lexus','mercedes_benz','kia', 'total']])"
   ]
  },
  {
   "cell_type": "code",
   "execution_count": 56,
   "metadata": {},
   "outputs": [],
   "source": [
    "make_zip_top_ten.to_csv('output/make_zip_top_ten.csv')"
   ]
  },
  {
   "cell_type": "code",
   "execution_count": 57,
   "metadata": {},
   "outputs": [
    {
     "data": {
      "text/html": [
       "<div>\n",
       "<style scoped>\n",
       "    .dataframe tbody tr th:only-of-type {\n",
       "        vertical-align: middle;\n",
       "    }\n",
       "\n",
       "    .dataframe tbody tr th {\n",
       "        vertical-align: top;\n",
       "    }\n",
       "\n",
       "    .dataframe thead th {\n",
       "        text-align: right;\n",
       "    }\n",
       "</style>\n",
       "<table border=\"1\" class=\"dataframe\">\n",
       "  <thead>\n",
       "    <tr style=\"text-align: right;\">\n",
       "      <th>make</th>\n",
       "      <th>zip</th>\n",
       "      <th>dodge</th>\n",
       "      <th>toyota</th>\n",
       "      <th>gmc</th>\n",
       "      <th>honda</th>\n",
       "      <th>ford</th>\n",
       "      <th>chevrolet</th>\n",
       "      <th>nissan</th>\n",
       "      <th>bmw</th>\n",
       "      <th>hyundai</th>\n",
       "      <th>lexus</th>\n",
       "      <th>mercedes_benz</th>\n",
       "      <th>kia</th>\n",
       "      <th>total</th>\n",
       "    </tr>\n",
       "  </thead>\n",
       "  <tbody>\n",
       "    <tr>\n",
       "      <th>0</th>\n",
       "      <td>90001</td>\n",
       "      <td>663</td>\n",
       "      <td>3306</td>\n",
       "      <td>123</td>\n",
       "      <td>2471</td>\n",
       "      <td>1032</td>\n",
       "      <td>1670</td>\n",
       "      <td>2564</td>\n",
       "      <td>344</td>\n",
       "      <td>398</td>\n",
       "      <td>170</td>\n",
       "      <td>169</td>\n",
       "      <td>1034</td>\n",
       "      <td>15935</td>\n",
       "    </tr>\n",
       "    <tr>\n",
       "      <th>1</th>\n",
       "      <td>90002</td>\n",
       "      <td>641</td>\n",
       "      <td>3009</td>\n",
       "      <td>97</td>\n",
       "      <td>2149</td>\n",
       "      <td>926</td>\n",
       "      <td>1561</td>\n",
       "      <td>2447</td>\n",
       "      <td>240</td>\n",
       "      <td>371</td>\n",
       "      <td>176</td>\n",
       "      <td>174</td>\n",
       "      <td>1113</td>\n",
       "      <td>14634</td>\n",
       "    </tr>\n",
       "    <tr>\n",
       "      <th>2</th>\n",
       "      <td>90003</td>\n",
       "      <td>818</td>\n",
       "      <td>4355</td>\n",
       "      <td>153</td>\n",
       "      <td>2978</td>\n",
       "      <td>1179</td>\n",
       "      <td>1808</td>\n",
       "      <td>3106</td>\n",
       "      <td>332</td>\n",
       "      <td>433</td>\n",
       "      <td>247</td>\n",
       "      <td>303</td>\n",
       "      <td>1408</td>\n",
       "      <td>19526</td>\n",
       "    </tr>\n",
       "    <tr>\n",
       "      <th>3</th>\n",
       "      <td>90004</td>\n",
       "      <td>220</td>\n",
       "      <td>5250</td>\n",
       "      <td>11</td>\n",
       "      <td>3144</td>\n",
       "      <td>774</td>\n",
       "      <td>680</td>\n",
       "      <td>1812</td>\n",
       "      <td>1075</td>\n",
       "      <td>778</td>\n",
       "      <td>1176</td>\n",
       "      <td>889</td>\n",
       "      <td>686</td>\n",
       "      <td>21021</td>\n",
       "    </tr>\n",
       "    <tr>\n",
       "      <th>4</th>\n",
       "      <td>90005</td>\n",
       "      <td>52</td>\n",
       "      <td>2638</td>\n",
       "      <td>0</td>\n",
       "      <td>1769</td>\n",
       "      <td>341</td>\n",
       "      <td>260</td>\n",
       "      <td>877</td>\n",
       "      <td>759</td>\n",
       "      <td>610</td>\n",
       "      <td>822</td>\n",
       "      <td>640</td>\n",
       "      <td>401</td>\n",
       "      <td>10873</td>\n",
       "    </tr>\n",
       "  </tbody>\n",
       "</table>\n",
       "</div>"
      ],
      "text/plain": [
       "make    zip  dodge  toyota  gmc  honda  ford  chevrolet  nissan   bmw  \\\n",
       "0     90001    663    3306  123   2471  1032       1670    2564   344   \n",
       "1     90002    641    3009   97   2149   926       1561    2447   240   \n",
       "2     90003    818    4355  153   2978  1179       1808    3106   332   \n",
       "3     90004    220    5250   11   3144   774        680    1812  1075   \n",
       "4     90005     52    2638    0   1769   341        260     877   759   \n",
       "\n",
       "make  hyundai  lexus  mercedes_benz   kia  total  \n",
       "0         398    170            169  1034  15935  \n",
       "1         371    176            174  1113  14634  \n",
       "2         433    247            303  1408  19526  \n",
       "3         778   1176            889   686  21021  \n",
       "4         610    822            640   401  10873  "
      ]
     },
     "execution_count": 57,
     "metadata": {},
     "output_type": "execute_result"
    }
   ],
   "source": [
    "make_zip_top_ten.head()"
   ]
  },
  {
   "cell_type": "markdown",
   "metadata": {},
   "source": [
    "### How many Bentleys are there? "
   ]
  },
  {
   "cell_type": "code",
   "execution_count": 62,
   "metadata": {},
   "outputs": [],
   "source": [
    "bentley = pd.DataFrame(make_zip[['zip','bentley','total']])"
   ]
  },
  {
   "cell_type": "code",
   "execution_count": 63,
   "metadata": {},
   "outputs": [
    {
     "data": {
      "text/plain": [
       "464"
      ]
     },
     "execution_count": 63,
     "metadata": {},
     "output_type": "execute_result"
    }
   ],
   "source": [
    "bentley.bentley.sum()"
   ]
  },
  {
   "cell_type": "markdown",
   "metadata": {},
   "source": [
    "---"
   ]
  },
  {
   "cell_type": "markdown",
   "metadata": {},
   "source": [
    "### Isolate vehicle makes to include only Teslas"
   ]
  },
  {
   "cell_type": "code",
   "execution_count": 66,
   "metadata": {},
   "outputs": [],
   "source": [
    "tesla = vehicles[(vehicles['make'] == 'TESLA')]"
   ]
  },
  {
   "cell_type": "code",
   "execution_count": 67,
   "metadata": {},
   "outputs": [
    {
     "data": {
      "text/plain": [
       "174092"
      ]
     },
     "execution_count": 67,
     "metadata": {},
     "output_type": "execute_result"
    }
   ],
   "source": [
    "tesla.vehicles.sum()"
   ]
  },
  {
   "cell_type": "markdown",
   "metadata": {},
   "source": [
    "### Group by ZIP code and count the vehicles"
   ]
  },
  {
   "cell_type": "code",
   "execution_count": 68,
   "metadata": {},
   "outputs": [],
   "source": [
    "tesla_grouped = tesla.groupby(['zip']).agg({'vehicles':'sum'}).reset_index()"
   ]
  },
  {
   "cell_type": "markdown",
   "metadata": {},
   "source": [
    "### Merge with dataframe that includes all vehicle counts by ZIP code"
   ]
  },
  {
   "cell_type": "code",
   "execution_count": 69,
   "metadata": {},
   "outputs": [],
   "source": [
    "tesla_zips = pd.merge(tesla_grouped, zips, on='zip')"
   ]
  },
  {
   "cell_type": "markdown",
   "metadata": {},
   "source": [
    "### Rename the columns"
   ]
  },
  {
   "cell_type": "code",
   "execution_count": null,
   "metadata": {},
   "outputs": [],
   "source": [
    "tesla_zips.rename(columns={'median': 'income','zip': 'zip', \\\n",
    "                           'vehicles_x':'teslas', 'vehicles_y':'all_vehicles'}, inplace=True)"
   ]
  },
  {
   "cell_type": "markdown",
   "metadata": {},
   "source": [
    "### Normalize Tesla ownership to a rate per 1,000 vehicles"
   ]
  },
  {
   "cell_type": "code",
   "execution_count": null,
   "metadata": {},
   "outputs": [],
   "source": [
    "tesla_zips['tesla_rate_1k'] = ((tesla_zips.teslas / tesla_zips.all_vehicles) * 1000).round(2)"
   ]
  },
  {
   "cell_type": "code",
   "execution_count": null,
   "metadata": {},
   "outputs": [],
   "source": [
    "tesla_zips.sort_values(by='tesla_rate_1k', ascending=False).head(10)"
   ]
  },
  {
   "cell_type": "code",
   "execution_count": null,
   "metadata": {},
   "outputs": [],
   "source": [
    "tesla_breaks \\\n",
    "= jenkspy.jenks_breaks(tesla_zips.tesla_rate_1k, nb_class=6)\n",
    "tesla_breaks"
   ]
  },
  {
   "cell_type": "code",
   "execution_count": null,
   "metadata": {},
   "outputs": [],
   "source": [
    "tesla_zips.to_csv('output/tesla_zips.csv')"
   ]
  },
  {
   "cell_type": "code",
   "execution_count": null,
   "metadata": {},
   "outputs": [],
   "source": [
    "tesla_zips_slim = pd.DataFrame(tesla_zips[['zip','name','teslas','all_vehicles','tesla_rate_1k', 'avg_house_income', 'avg_net_worth']])"
   ]
  },
  {
   "cell_type": "code",
   "execution_count": null,
   "metadata": {},
   "outputs": [],
   "source": [
    "tesla_zips_slim.sort_values(by='tesla_rate_1k', ascending=False).head(10)"
   ]
  },
  {
   "cell_type": "markdown",
   "metadata": {},
   "source": [
    "### How predictive is income  "
   ]
  },
  {
   "cell_type": "code",
   "execution_count": null,
   "metadata": {
    "scrolled": true
   },
   "outputs": [],
   "source": [
    "tesla_zips.head()"
   ]
  },
  {
   "cell_type": "code",
   "execution_count": null,
   "metadata": {},
   "outputs": [],
   "source": [
    "tesla_zips_corr = tesla_zips_slim[['tesla_rate_1k', 'avg_house_income']]"
   ]
  },
  {
   "cell_type": "code",
   "execution_count": null,
   "metadata": {},
   "outputs": [],
   "source": [
    "corr = tesla_zips_corr.corr(method ='pearson')"
   ]
  },
  {
   "cell_type": "code",
   "execution_count": null,
   "metadata": {},
   "outputs": [],
   "source": [
    "print(corr)"
   ]
  },
  {
   "cell_type": "code",
   "execution_count": null,
   "metadata": {},
   "outputs": [],
   "source": [
    "alt.Chart(tesla_zips_slim).mark_circle(size=60).encode(\n",
    "    x=alt.X('tesla_rate_1k:Q', title='Tesla rate per 1,000 vehicles', axis=alt.Axis(tickCount=6)),\n",
    "    y=alt.Y('avg_net_worth:Q', title='Avg net worth', axis=alt.Axis(tickCount=5, format='$,N')),\n",
    "    tooltip=['zip:N', 'teslas:O', 'avg_net_worth:Q', 'tesla_rate_1k:Q']\n",
    ").properties(width=500, height=500)"
   ]
  },
  {
   "cell_type": "code",
   "execution_count": null,
   "metadata": {},
   "outputs": [],
   "source": [
    "tesla_zips_slim.to_csv('output/tesla_zips_slim.csv')"
   ]
  },
  {
   "cell_type": "markdown",
   "metadata": {},
   "source": [
    "---"
   ]
  },
  {
   "cell_type": "markdown",
   "metadata": {},
   "source": [
    "### Group by model year. Which years have the most vehicles? "
   ]
  },
  {
   "cell_type": "code",
   "execution_count": null,
   "metadata": {},
   "outputs": [],
   "source": [
    "model_year = vehicles.groupby(['model_year']).agg('sum').reset_index()"
   ]
  },
  {
   "cell_type": "code",
   "execution_count": null,
   "metadata": {},
   "outputs": [],
   "source": [
    "model_year.sort_values(by='model_year', ascending=False)"
   ]
  },
  {
   "cell_type": "code",
   "execution_count": null,
   "metadata": {},
   "outputs": [],
   "source": [
    "model_year_chart = alt.Chart(model_year).mark_bar().encode(\n",
    ").mark_bar().encode(\n",
    "    y=alt.Y('model_year:N', title=\" \", axis=alt.Axis(format='', tickCount=5)),\n",
    "    x=alt.X(\"vehicles:Q\", title=\"Vehicles\", axis=alt.Axis(format='', tickCount=5))\n",
    ")\n",
    "\n",
    "model_year_chart_text = model_year_chart.mark_text(\n",
    "    align='left',\n",
    "    baseline='middle',\n",
    "    dx=5\n",
    ").encode(text=alt.Text('vehicles:Q', format=',')\n",
    ")\n",
    "\n",
    "(model_year_chart + model_year_chart_text).properties(height=500, \\\n",
    "                                                      width=700, title='California vehicles, by model year')"
   ]
  },
  {
   "cell_type": "markdown",
   "metadata": {},
   "source": [
    "### Export model year table for graphics"
   ]
  },
  {
   "cell_type": "code",
   "execution_count": null,
   "metadata": {},
   "outputs": [],
   "source": [
    "model_year.to_csv('output/model_year.csv')"
   ]
  },
  {
   "cell_type": "markdown",
   "metadata": {},
   "source": [
    "---"
   ]
  },
  {
   "cell_type": "markdown",
   "metadata": {},
   "source": [
    "## Fuel types"
   ]
  },
  {
   "cell_type": "markdown",
   "metadata": {},
   "source": [
    "### Which types of alternative fuel models are most common?"
   ]
  },
  {
   "cell_type": "code",
   "execution_count": null,
   "metadata": {},
   "outputs": [],
   "source": [
    "fuel = vehicles.groupby(['fuel']).agg('sum').reset_index()"
   ]
  },
  {
   "cell_type": "code",
   "execution_count": null,
   "metadata": {},
   "outputs": [],
   "source": [
    "fuel.head(9)"
   ]
  },
  {
   "cell_type": "code",
   "execution_count": null,
   "metadata": {},
   "outputs": [],
   "source": [
    "fuel.fuel.tolist()"
   ]
  },
  {
   "cell_type": "code",
   "execution_count": null,
   "metadata": {},
   "outputs": [],
   "source": [
    "# Diesel and Diesel Hybrid + Flex-Fuel + Gasoline + Hybrid Gasoline\n",
    "'{:,.0f}'.format((fuel.iloc[1,1] + fuel.iloc[2,1] + fuel.iloc[3,1] + fuel.iloc[4,1]))"
   ]
  },
  {
   "cell_type": "markdown",
   "metadata": {},
   "source": [
    "# Chart the fuel type counts"
   ]
  },
  {
   "cell_type": "code",
   "execution_count": null,
   "metadata": {},
   "outputs": [],
   "source": [
    "chart_fuels = alt.Chart(fuel).mark_bar().encode(\n",
    "    y=alt.Y('fuel:N', title=' ',\n",
    "        sort=alt.EncodingSortField(\n",
    "            field=\"vehicles\",  # The field to use for the sort\n",
    "            op=\"sum\",  # The operation to run on the field prior to sorting\n",
    "            order=\"descending\"  # The order to sort in\n",
    "        ), axis=alt.Axis(format='', tickCount=5)),\n",
    "    x=alt.X(\"sum(vehicles):Q\", title=\"Vehicles\", axis=alt.Axis(format='', tickCount=5))\n",
    ")\n",
    "\n",
    "chart_fuels_text = chart_fuels.mark_text(\n",
    "    align='left',\n",
    "    baseline='middle',\n",
    "    dx=3  # Nudges text to right so it doesn't appear on top of the bar\n",
    ").encode(text=alt.Text('sum(vehicles)', format=',')\n",
    ")\n",
    "\n",
    "\n",
    "(chart_fuels + chart_fuels_text)\\\n",
    ".properties(height=400, width=500, title='CA alternative fuel vehicles by type')"
   ]
  },
  {
   "cell_type": "markdown",
   "metadata": {},
   "source": [
    "### Export fuel type count table for graphics"
   ]
  },
  {
   "cell_type": "code",
   "execution_count": null,
   "metadata": {},
   "outputs": [],
   "source": [
    "fuel.to_csv('output/fuel.csv')"
   ]
  },
  {
   "cell_type": "markdown",
   "metadata": {},
   "source": [
    "--- "
   ]
  },
  {
   "cell_type": "markdown",
   "metadata": {},
   "source": [
    "## Where are these vehicles?"
   ]
  },
  {
   "cell_type": "code",
   "execution_count": null,
   "metadata": {},
   "outputs": [],
   "source": [
    "zip_code = vehicles.groupby(['zip']).agg('sum').reset_index()"
   ]
  },
  {
   "cell_type": "code",
   "execution_count": null,
   "metadata": {},
   "outputs": [],
   "source": [
    "zip_code_zev = zev.groupby(['zip']).agg('sum').reset_index()"
   ]
  },
  {
   "cell_type": "markdown",
   "metadata": {},
   "source": [
    "### Which ZIP codes have the most alternative fuel vehicles? (Airport areas, it seems)"
   ]
  },
  {
   "cell_type": "code",
   "execution_count": null,
   "metadata": {},
   "outputs": [],
   "source": [
    "zip_code_zev.sort_values(by='vehicles',\\\n",
    "    ascending=False).head(10)"
   ]
  },
  {
   "cell_type": "markdown",
   "metadata": {},
   "source": [
    "### Pivot on ZIP code and widen out the dataframe to count vehicle types across them"
   ]
  },
  {
   "cell_type": "code",
   "execution_count": null,
   "metadata": {},
   "outputs": [],
   "source": [
    "sum_by_zip = pd.pivot_table(vehicles, values='vehicles', \\\n",
    "                            index=['zip'], columns=['fuel'], aggfunc=np.sum, fill_value=0).reset_index()\n",
    "\n",
    "sum_by_zip.columns = sum_by_zip.columns.str.strip().str.lower().str.replace(' ', '_')\\\n",
    "                    .str.replace('(', '').str.replace(')', '').str.replace('-','_')"
   ]
  },
  {
   "cell_type": "markdown",
   "metadata": {},
   "source": [
    "### Which type is most common in each ZIP code? "
   ]
  },
  {
   "cell_type": "code",
   "execution_count": null,
   "metadata": {},
   "outputs": [],
   "source": [
    "sum_by_zip[\"total\"] = sum_by_zip.sum(axis=1)"
   ]
  },
  {
   "cell_type": "code",
   "execution_count": null,
   "metadata": {},
   "outputs": [],
   "source": [
    "sum_by_zip.sort_values(by='total', ascending=False).head(5)"
   ]
  },
  {
   "cell_type": "markdown",
   "metadata": {},
   "source": [
    "### Group the lesser-used fuel types into an 'other' category"
   ]
  },
  {
   "cell_type": "code",
   "execution_count": null,
   "metadata": {},
   "outputs": [],
   "source": [
    "sum_by_zip['other'] = sum_by_zip.apply\\\n",
    "    (lambda x: x['hydrogen_fuel_cell'] + x['natural_gas'] + x['other'], axis=1)\n",
    "sum_by_zip.drop(['hydrogen_fuel_cell', 'natural_gas'], axis=1, inplace=True)\n",
    "sum_by_zip.drop([0], inplace=True)"
   ]
  },
  {
   "cell_type": "markdown",
   "metadata": {},
   "source": [
    "### Which non-gas vehicle is most popular — the 'winner' — in each zip?"
   ]
  },
  {
   "cell_type": "code",
   "execution_count": null,
   "metadata": {},
   "outputs": [],
   "source": [
    "sum_by_zip['winner'] = \\\n",
    "sum_by_zip[['hybrid_gasoline','battery_electric','diesel_and_diesel_hybrid',\\\n",
    "                   'flex_fuel','plug_in_hybrid', 'other']].idxmax(axis=1)"
   ]
  },
  {
   "cell_type": "code",
   "execution_count": null,
   "metadata": {},
   "outputs": [],
   "source": [
    "sum_by_zip.sort_values(by='total', ascending=False).head(10)"
   ]
  },
  {
   "cell_type": "markdown",
   "metadata": {},
   "source": [
    "### De-slugify the 'winner' category"
   ]
  },
  {
   "cell_type": "code",
   "execution_count": null,
   "metadata": {},
   "outputs": [],
   "source": [
    "sum_by_zip['winner'] = sum_by_zip['winner'].str.replace('_', ' ', regex=False).str.capitalize()"
   ]
  },
  {
   "cell_type": "code",
   "execution_count": null,
   "metadata": {},
   "outputs": [],
   "source": [
    "sum_by_zip['altshare'] = (((sum_by_zip['total']-sum_by_zip['gasoline'])/sum_by_zip['total'])*100).round()"
   ]
  },
  {
   "cell_type": "code",
   "execution_count": null,
   "metadata": {},
   "outputs": [],
   "source": [
    "sum_by_zip['batteryshare'] = ((sum_by_zip['battery_electric']/sum_by_zip['total'])*100)"
   ]
  },
  {
   "cell_type": "code",
   "execution_count": null,
   "metadata": {
    "scrolled": true
   },
   "outputs": [],
   "source": [
    "sum_by_zip.sort_values(by='batteryshare', ascending=False).head()"
   ]
  },
  {
   "cell_type": "markdown",
   "metadata": {},
   "source": [
    "### Use the \"jenks\" method to set fair breaks for total field"
   ]
  },
  {
   "cell_type": "code",
   "execution_count": null,
   "metadata": {},
   "outputs": [],
   "source": [
    "breaks \\\n",
    "= jenkspy.jenks_breaks(sum_by_zip.batteryshare, nb_class=7)"
   ]
  },
  {
   "cell_type": "code",
   "execution_count": null,
   "metadata": {},
   "outputs": [],
   "source": [
    "breaks"
   ]
  },
  {
   "cell_type": "markdown",
   "metadata": {},
   "source": [
    "---"
   ]
  },
  {
   "cell_type": "markdown",
   "metadata": {},
   "source": [
    "### Export merged polygon geodataframe as GeoJSON"
   ]
  },
  {
   "cell_type": "code",
   "execution_count": null,
   "metadata": {},
   "outputs": [],
   "source": [
    "zips_poly.to_file('/Users/mhustiles/data/data/GIS/zips_poly.geojson', driver='GeoJSON')"
   ]
  },
  {
   "cell_type": "code",
   "execution_count": null,
   "metadata": {},
   "outputs": [],
   "source": [
    "zips_poly_merged = zips_poly.merge(sum_by_zip, on='zip')"
   ]
  },
  {
   "cell_type": "code",
   "execution_count": null,
   "metadata": {},
   "outputs": [],
   "source": [
    "zips_poly_merged.columns"
   ]
  },
  {
   "cell_type": "code",
   "execution_count": null,
   "metadata": {},
   "outputs": [],
   "source": [
    "# zips_poly_merged_drop = ['objectid', 'zip', 'po_name', 'sqmi', \n",
    "#                         'battery_electric', 'diesel_and_diesel_hybrid', 'flex_fuel',\n",
    "#                          'gasoline', 'hybrid_gasoline', 'other_y', 'plug_in_hybrid', 'total',\n",
    "#                          'winner', 'altshare']\n",
    "# zips_poly_merged.drop(zips_poly_merged_drop, inplace=True, axis=1)"
   ]
  },
  {
   "cell_type": "code",
   "execution_count": null,
   "metadata": {},
   "outputs": [],
   "source": [
    "zips_poly_merged.to_file('/Users/mhustiles/data/data/GIS/zips_poly_merged.geojson', driver='GeoJSON')"
   ]
  },
  {
   "cell_type": "markdown",
   "metadata": {},
   "source": [
    "### Export with Tesla totals"
   ]
  },
  {
   "cell_type": "code",
   "execution_count": null,
   "metadata": {},
   "outputs": [],
   "source": [
    "tesla_zips_poly_merged = zips_poly.merge(tesla_zips_slim, on='zip')"
   ]
  },
  {
   "cell_type": "code",
   "execution_count": null,
   "metadata": {},
   "outputs": [],
   "source": [
    "tesla_zips_poly_merged.to_file('/Users/mhustiles/data/data/fuel/tesla_zips_poly_merged.geojson', driver='GeoJSON')"
   ]
  },
  {
   "cell_type": "code",
   "execution_count": null,
   "metadata": {},
   "outputs": [],
   "source": [
    "tesla_zips_poly_merged.head()"
   ]
  },
  {
   "cell_type": "markdown",
   "metadata": {},
   "source": [
    "### Merge ZIP points with Tesla & electric totals"
   ]
  },
  {
   "cell_type": "code",
   "execution_count": null,
   "metadata": {},
   "outputs": [],
   "source": [
    "teslas_point_merged = ca_zips_point.merge(tesla_zips_slim, on='zip')"
   ]
  },
  {
   "cell_type": "code",
   "execution_count": null,
   "metadata": {},
   "outputs": [],
   "source": [
    "teslas_point_merged.sort_values(by='tesla_rate_1k', ascending=False).head(10)"
   ]
  },
  {
   "cell_type": "code",
   "execution_count": null,
   "metadata": {},
   "outputs": [],
   "source": [
    "teslas_poimt_merged.to_file('output/teslas_point_merged.geojson', driver='GeoJSON')"
   ]
  },
  {
   "cell_type": "markdown",
   "metadata": {},
   "source": [
    "### Merge ZIP points with all vehicle totals"
   ]
  },
  {
   "cell_type": "code",
   "execution_count": null,
   "metadata": {},
   "outputs": [],
   "source": [
    "ca_zips_point_merged = ca_zips_point.merge(sum_by_zip, on='zip')"
   ]
  },
  {
   "cell_type": "code",
   "execution_count": null,
   "metadata": {},
   "outputs": [],
   "source": [
    "ca_zips_point_merged.plot()"
   ]
  },
  {
   "cell_type": "markdown",
   "metadata": {},
   "source": [
    "### Export merged points geodataframe as GeoJSON"
   ]
  },
  {
   "cell_type": "code",
   "execution_count": null,
   "metadata": {},
   "outputs": [],
   "source": [
    "ca_zips_point_merged.head(5)"
   ]
  },
  {
   "cell_type": "code",
   "execution_count": null,
   "metadata": {},
   "outputs": [],
   "source": [
    "ca_zips_point_merged.to_file('/Users/mhustiles/data/data/fuel/ca_zips_point_merged.geojson', driver='GeoJSON')"
   ]
  },
  {
   "cell_type": "markdown",
   "metadata": {},
   "source": [
    "### Convert polygons to mbtiles for Mapbox. Export."
   ]
  },
  {
   "cell_type": "code",
   "execution_count": null,
   "metadata": {},
   "outputs": [],
   "source": [
    "!tippecanoe --force -r1 -pk -pf -Z5 -z13 -o \\\n",
    "/Users/mhustiles/data/data/fuel/ca_zips_point_merged.mbtiles \\\n",
    "/Users/mhustiles/data/data/fuel/ca_zips_point_merged.geojson"
   ]
  },
  {
   "cell_type": "markdown",
   "metadata": {},
   "source": [
    "### Convert points to mbtiles for Mapbox. Export."
   ]
  },
  {
   "cell_type": "code",
   "execution_count": null,
   "metadata": {},
   "outputs": [],
   "source": [
    "!tippecanoe --force -r1 -pk -pf -Z5 -z13 -o \\\n",
    "/Users/mhustiles/data/data/fuel/ca_zips_point_merged.mbtiles \\\n",
    "/Users/mhustiles/data/data/fuel/ca_zips_point_merged.geojson"
   ]
  },
  {
   "cell_type": "markdown",
   "metadata": {},
   "source": [
    "### Convert Tesla polygons to mbtiles for Mapbox. Export."
   ]
  },
  {
   "cell_type": "code",
   "execution_count": null,
   "metadata": {},
   "outputs": [],
   "source": [
    "!tippecanoe --force -r1 -pk -pf -Z5 -z13 -o \\\n",
    "/Users/mhustiles/data/data/fuel/tesla_zips_poly_merged.mbtiles \\\n",
    "/Users/mhustiles/data/data/fuel/tesla_zips_poly_merged.geojson"
   ]
  },
  {
   "cell_type": "markdown",
   "metadata": {},
   "source": [
    "---"
   ]
  },
  {
   "cell_type": "markdown",
   "metadata": {},
   "source": [
    "## Waffle plot"
   ]
  },
  {
   "cell_type": "code",
   "execution_count": null,
   "metadata": {},
   "outputs": [],
   "source": [
    "fuel.head(9)"
   ]
  },
  {
   "cell_type": "code",
   "execution_count": null,
   "metadata": {},
   "outputs": [],
   "source": [
    "fuel.vehicles.sum()"
   ]
  },
  {
   "cell_type": "code",
   "execution_count": null,
   "metadata": {},
   "outputs": [],
   "source": [
    "fuel.iloc[0,1] + fuel.iloc[5,1] + fuel.iloc[6,1] + fuel.iloc[7,1]"
   ]
  },
  {
   "cell_type": "code",
   "execution_count": null,
   "metadata": {},
   "outputs": [],
   "source": [
    "fuel['per_1000'] =  ((fuel['vehicles'] / fuel.vehicles.sum()) * 1000).round(2)"
   ]
  },
  {
   "cell_type": "code",
   "execution_count": null,
   "metadata": {},
   "outputs": [],
   "source": [
    "fuel"
   ]
  },
  {
   "cell_type": "code",
   "execution_count": null,
   "metadata": {},
   "outputs": [],
   "source": [
    "fig = plt.figure(\n",
    "    FigureClass=Waffle, \n",
    "    rows=21,\n",
    "    values=fuel.per_1000,\n",
    "    labels=list(fuel.fuel),\n",
    "    figsize=(30,20),\n",
    "    icons='car-side',\n",
    "    colors=['#ec8431','#e6e6e6','#e6e6e6','#e6e6e6','#e6e6e6','#e6e6e6','#e6e6e6', '#e6e6e6', '#e6e6e6'],\n",
    "    legend={\n",
    "        'loc': 'lower left',\n",
    "        'bbox_to_anchor': (0, -0.4),\n",
    "        'ncol': len(fuel),\n",
    "        'framealpha': 0,\n",
    "        'fontsize': 0\n",
    "    }\n",
    ")"
   ]
  },
  {
   "cell_type": "markdown",
   "metadata": {},
   "source": [
    "See related [Twitter thread](https://twitter.com/stiles/status/1193416749116358656)"
   ]
  }
 ],
 "metadata": {
  "kernelspec": {
   "display_name": "Python 3",
   "language": "python",
   "name": "python3"
  },
  "language_info": {
   "codemirror_mode": {
    "name": "ipython",
    "version": 3
   },
   "file_extension": ".py",
   "mimetype": "text/x-python",
   "name": "python",
   "nbconvert_exporter": "python",
   "pygments_lexer": "ipython3",
   "version": "3.7.4"
  }
 },
 "nbformat": 4,
 "nbformat_minor": 4
}
