{
 "cells": [
  {
   "cell_type": "markdown",
   "metadata": {},
   "source": [
    "# Filter U.S. tracts for density"
   ]
  },
  {
   "cell_type": "code",
   "execution_count": 1,
   "metadata": {},
   "outputs": [],
   "source": [
    "import pandas as pd\n",
    "import geopandas as gpd\n",
    "import altair as alt\n",
    "import matplotlib as mpl\n",
    "import numpy as np\n",
    "import jenkspy\n",
    "import altair_latimes as lat\n",
    "pd.options.display.max_columns = 50\n",
    "alt.themes.register('latimes', lat.theme)\n",
    "alt.themes.enable('latimes')\n",
    "pd.set_option(\"display.max_columns\",200)\n",
    "pd.options.display.float_format = '{:,.0f}'.format"
   ]
  },
  {
   "cell_type": "code",
   "execution_count": 2,
   "metadata": {},
   "outputs": [],
   "source": [
    "src = gpd.read_file('input/cb_2019_us_tract.geojson')"
   ]
  },
  {
   "cell_type": "code",
   "execution_count": 3,
   "metadata": {},
   "outputs": [
    {
     "data": {
      "text/html": [
       "<div>\n",
       "<style scoped>\n",
       "    .dataframe tbody tr th:only-of-type {\n",
       "        vertical-align: middle;\n",
       "    }\n",
       "\n",
       "    .dataframe tbody tr th {\n",
       "        vertical-align: top;\n",
       "    }\n",
       "\n",
       "    .dataframe thead th {\n",
       "        text-align: right;\n",
       "    }\n",
       "</style>\n",
       "<table border=\"1\" class=\"dataframe\">\n",
       "  <thead>\n",
       "    <tr style=\"text-align: right;\">\n",
       "      <th></th>\n",
       "      <th>STATEFP</th>\n",
       "      <th>COUNTYFP</th>\n",
       "      <th>TRACTCE</th>\n",
       "      <th>AFFGEOID</th>\n",
       "      <th>GEOID</th>\n",
       "      <th>NAME</th>\n",
       "      <th>LSAD</th>\n",
       "      <th>ALAND</th>\n",
       "      <th>AWATER</th>\n",
       "      <th>geometry</th>\n",
       "    </tr>\n",
       "  </thead>\n",
       "  <tbody>\n",
       "    <tr>\n",
       "      <th>0</th>\n",
       "      <td>34</td>\n",
       "      <td>005</td>\n",
       "      <td>702808</td>\n",
       "      <td>1400000US34005702808</td>\n",
       "      <td>34005702808</td>\n",
       "      <td>7028.08</td>\n",
       "      <td>CT</td>\n",
       "      <td>1510553</td>\n",
       "      <td>0</td>\n",
       "      <td>MULTIPOLYGON (((-8338388.128 4871756.092, -833...</td>\n",
       "    </tr>\n",
       "    <tr>\n",
       "      <th>1</th>\n",
       "      <td>39</td>\n",
       "      <td>153</td>\n",
       "      <td>504200</td>\n",
       "      <td>1400000US39153504200</td>\n",
       "      <td>39153504200</td>\n",
       "      <td>5042</td>\n",
       "      <td>CT</td>\n",
       "      <td>808151</td>\n",
       "      <td>0</td>\n",
       "      <td>MULTIPOLYGON (((-9074545.590 5022068.387, -907...</td>\n",
       "    </tr>\n",
       "    <tr>\n",
       "      <th>2</th>\n",
       "      <td>36</td>\n",
       "      <td>071</td>\n",
       "      <td>000502</td>\n",
       "      <td>1400000US36071000502</td>\n",
       "      <td>36071000502</td>\n",
       "      <td>5.02</td>\n",
       "      <td>CT</td>\n",
       "      <td>967431</td>\n",
       "      <td>969216</td>\n",
       "      <td>MULTIPOLYGON (((-8240069.529 5085895.360, -823...</td>\n",
       "    </tr>\n",
       "    <tr>\n",
       "      <th>3</th>\n",
       "      <td>06</td>\n",
       "      <td>013</td>\n",
       "      <td>370000</td>\n",
       "      <td>1400000US06013370000</td>\n",
       "      <td>06013370000</td>\n",
       "      <td>3700</td>\n",
       "      <td>CT</td>\n",
       "      <td>999356</td>\n",
       "      <td>0</td>\n",
       "      <td>MULTIPOLYGON (((-13617311.891 4572245.466, -13...</td>\n",
       "    </tr>\n",
       "    <tr>\n",
       "      <th>4</th>\n",
       "      <td>48</td>\n",
       "      <td>113</td>\n",
       "      <td>019204</td>\n",
       "      <td>1400000US48113019204</td>\n",
       "      <td>48113019204</td>\n",
       "      <td>192.04</td>\n",
       "      <td>CT</td>\n",
       "      <td>2851229</td>\n",
       "      <td>9966</td>\n",
       "      <td>MULTIPOLYGON (((-10772274.469 3888781.275, -10...</td>\n",
       "    </tr>\n",
       "  </tbody>\n",
       "</table>\n",
       "</div>"
      ],
      "text/plain": [
       "  STATEFP COUNTYFP TRACTCE              AFFGEOID        GEOID     NAME LSAD  \\\n",
       "0      34      005  702808  1400000US34005702808  34005702808  7028.08   CT   \n",
       "1      39      153  504200  1400000US39153504200  39153504200     5042   CT   \n",
       "2      36      071  000502  1400000US36071000502  36071000502     5.02   CT   \n",
       "3      06      013  370000  1400000US06013370000  06013370000     3700   CT   \n",
       "4      48      113  019204  1400000US48113019204  48113019204   192.04   CT   \n",
       "\n",
       "     ALAND  AWATER                                           geometry  \n",
       "0  1510553       0  MULTIPOLYGON (((-8338388.128 4871756.092, -833...  \n",
       "1   808151       0  MULTIPOLYGON (((-9074545.590 5022068.387, -907...  \n",
       "2   967431  969216  MULTIPOLYGON (((-8240069.529 5085895.360, -823...  \n",
       "3   999356       0  MULTIPOLYGON (((-13617311.891 4572245.466, -13...  \n",
       "4  2851229    9966  MULTIPOLYGON (((-10772274.469 3888781.275, -10...  "
      ]
     },
     "execution_count": 3,
     "metadata": {},
     "output_type": "execute_result"
    }
   ],
   "source": [
    "src.head()"
   ]
  },
  {
   "cell_type": "code",
   "execution_count": 4,
   "metadata": {},
   "outputs": [],
   "source": [
    "src.columns = src.columns.str.strip().str.lower().str.replace(' ','_')\\\n",
    "    .str.replace('(', '').str.replace(')', '').str.replace('/','_')"
   ]
  },
  {
   "cell_type": "markdown",
   "metadata": {},
   "source": [
    "### Bring in population data"
   ]
  },
  {
   "cell_type": "code",
   "execution_count": 5,
   "metadata": {},
   "outputs": [],
   "source": [
    "tracts_src = pd.read_csv('/Users/mhustiles/data/github/census-data-downloader/\\\n",
    "processed/acs5_2018_population_tracts.csv', dtype={'geoid':'str'})"
   ]
  },
  {
   "cell_type": "code",
   "execution_count": 6,
   "metadata": {},
   "outputs": [],
   "source": [
    "counties_src = pd.read_csv('/Users/mhustiles/data/github/\\\n",
    "census-data-downloader/processed/acs5_2018_population_counties.csv', dtype={'geoid':'str'})"
   ]
  },
  {
   "cell_type": "markdown",
   "metadata": {},
   "source": [
    "### Tracts: Merge population and geography"
   ]
  },
  {
   "cell_type": "code",
   "execution_count": 7,
   "metadata": {},
   "outputs": [],
   "source": [
    "tracts_geo = pd.merge(tracts_src, src, on='geoid')"
   ]
  },
  {
   "cell_type": "code",
   "execution_count": 8,
   "metadata": {},
   "outputs": [],
   "source": [
    "tracts_geo.rename(columns={'name_x':'placename','universe':'population'}, inplace=True)"
   ]
  },
  {
   "cell_type": "code",
   "execution_count": 9,
   "metadata": {},
   "outputs": [],
   "source": [
    "tracts_geo = gpd.GeoDataFrame(tracts_geo.drop(['name_y', 'lsad', 'awater', 'universe_moe_annotation',\\\n",
    "           'universe_annotation','universe_moe', 'state', 'county', 'tract', 'affgeoid'], axis=1))"
   ]
  },
  {
   "cell_type": "markdown",
   "metadata": {},
   "source": [
    "### Calculate area"
   ]
  },
  {
   "cell_type": "code",
   "execution_count": 10,
   "metadata": {},
   "outputs": [],
   "source": [
    "tracts_geo['geometry'] = tracts_geo['geometry']"
   ]
  },
  {
   "cell_type": "code",
   "execution_count": 11,
   "metadata": {},
   "outputs": [],
   "source": [
    "tracts_geo['area'] = tracts_geo['geometry'].area / 2.59e+6"
   ]
  },
  {
   "cell_type": "markdown",
   "metadata": {},
   "source": [
    "### Create a county FIPS field for merges"
   ]
  },
  {
   "cell_type": "code",
   "execution_count": 12,
   "metadata": {},
   "outputs": [],
   "source": [
    "tracts_geo['ctyfips'] = tracts_geo['statefp'] + tracts_geo['countyfp']"
   ]
  },
  {
   "cell_type": "markdown",
   "metadata": {},
   "source": [
    "### Counties: Merge population and geography"
   ]
  },
  {
   "cell_type": "code",
   "execution_count": 13,
   "metadata": {},
   "outputs": [],
   "source": [
    "tracts_cty_geo = pd.merge(counties_src, tracts_geo, right_on='ctyfips', left_on='geoid')"
   ]
  },
  {
   "cell_type": "markdown",
   "metadata": {},
   "source": [
    "### Split out the county and tract names"
   ]
  },
  {
   "cell_type": "code",
   "execution_count": 14,
   "metadata": {},
   "outputs": [],
   "source": [
    "tracts_cty_geo[['tract','county','state']] = tracts_cty_geo['placename'].str.split(',',expand=True)"
   ]
  },
  {
   "cell_type": "markdown",
   "metadata": {},
   "source": [
    "### Clean up"
   ]
  },
  {
   "cell_type": "code",
   "execution_count": 15,
   "metadata": {},
   "outputs": [],
   "source": [
    "tracts_cty_geo = gpd.GeoDataFrame(tracts_cty_geo.drop(['geoid_x', 'universe_annotation', 'universe_moe',\\\n",
    "            'universe_moe_annotation','universe_moe','universe_moe_annotation', \\\n",
    "            'state', 'tractce', 'statefp', 'countyfp', 'aland'], axis=1))"
   ]
  },
  {
   "cell_type": "code",
   "execution_count": 16,
   "metadata": {},
   "outputs": [],
   "source": [
    "tracts_cty_geo.rename(columns={'geoid_y': 'geoid', 'universe':'county_pop',\\\n",
    "                              'population':'tract_pop'}, inplace=True)"
   ]
  },
  {
   "cell_type": "code",
   "execution_count": 17,
   "metadata": {},
   "outputs": [
    {
     "data": {
      "text/html": [
       "<div>\n",
       "<style scoped>\n",
       "    .dataframe tbody tr th:only-of-type {\n",
       "        vertical-align: middle;\n",
       "    }\n",
       "\n",
       "    .dataframe tbody tr th {\n",
       "        vertical-align: top;\n",
       "    }\n",
       "\n",
       "    .dataframe thead th {\n",
       "        text-align: right;\n",
       "    }\n",
       "</style>\n",
       "<table border=\"1\" class=\"dataframe\">\n",
       "  <thead>\n",
       "    <tr style=\"text-align: right;\">\n",
       "      <th></th>\n",
       "      <th>name</th>\n",
       "      <th>county_pop</th>\n",
       "      <th>county</th>\n",
       "      <th>geoid</th>\n",
       "      <th>placename</th>\n",
       "      <th>tract_pop</th>\n",
       "      <th>geometry</th>\n",
       "      <th>area</th>\n",
       "      <th>ctyfips</th>\n",
       "      <th>tract</th>\n",
       "    </tr>\n",
       "  </thead>\n",
       "  <tbody>\n",
       "    <tr>\n",
       "      <th>0</th>\n",
       "      <td>Autauga County, Alabama</td>\n",
       "      <td>55,200</td>\n",
       "      <td>Autauga County</td>\n",
       "      <td>01001020801</td>\n",
       "      <td>Census Tract 208.01, Autauga County, Alabama</td>\n",
       "      <td>2,826</td>\n",
       "      <td>MULTIPOLYGON (((-9637312.704 3828061.099, -963...</td>\n",
       "      <td>73</td>\n",
       "      <td>01001</td>\n",
       "      <td>Census Tract 208.01</td>\n",
       "    </tr>\n",
       "    <tr>\n",
       "      <th>1</th>\n",
       "      <td>Autauga County, Alabama</td>\n",
       "      <td>55,200</td>\n",
       "      <td>Autauga County</td>\n",
       "      <td>01001020900</td>\n",
       "      <td>Census Tract 209, Autauga County, Alabama</td>\n",
       "      <td>6,401</td>\n",
       "      <td>MULTIPOLYGON (((-9643183.360 3856395.489, -961...</td>\n",
       "      <td>159</td>\n",
       "      <td>01001</td>\n",
       "      <td>Census Tract 209</td>\n",
       "    </tr>\n",
       "    <tr>\n",
       "      <th>2</th>\n",
       "      <td>Autauga County, Alabama</td>\n",
       "      <td>55,200</td>\n",
       "      <td>Autauga County</td>\n",
       "      <td>01001020500</td>\n",
       "      <td>Census Tract 205, Autauga County, Alabama</td>\n",
       "      <td>9,883</td>\n",
       "      <td>MULTIPOLYGON (((-9622010.950 3826512.432, -961...</td>\n",
       "      <td>7</td>\n",
       "      <td>01001</td>\n",
       "      <td>Census Tract 205</td>\n",
       "    </tr>\n",
       "    <tr>\n",
       "      <th>3</th>\n",
       "      <td>Autauga County, Alabama</td>\n",
       "      <td>55,200</td>\n",
       "      <td>Autauga County</td>\n",
       "      <td>01001020400</td>\n",
       "      <td>Census Tract 204, Autauga County, Alabama</td>\n",
       "      <td>3,831</td>\n",
       "      <td>MULTIPOLYGON (((-9622010.950 3826512.432, -962...</td>\n",
       "      <td>3</td>\n",
       "      <td>01001</td>\n",
       "      <td>Census Tract 204</td>\n",
       "    </tr>\n",
       "    <tr>\n",
       "      <th>4</th>\n",
       "      <td>Autauga County, Alabama</td>\n",
       "      <td>55,200</td>\n",
       "      <td>Autauga County</td>\n",
       "      <td>01001020300</td>\n",
       "      <td>Census Tract 203, Autauga County, Alabama</td>\n",
       "      <td>3,476</td>\n",
       "      <td>MULTIPOLYGON (((-9625496.919 3827698.823, -962...</td>\n",
       "      <td>3</td>\n",
       "      <td>01001</td>\n",
       "      <td>Census Tract 203</td>\n",
       "    </tr>\n",
       "  </tbody>\n",
       "</table>\n",
       "</div>"
      ],
      "text/plain": [
       "                      name  county_pop           county        geoid  \\\n",
       "0  Autauga County, Alabama      55,200   Autauga County  01001020801   \n",
       "1  Autauga County, Alabama      55,200   Autauga County  01001020900   \n",
       "2  Autauga County, Alabama      55,200   Autauga County  01001020500   \n",
       "3  Autauga County, Alabama      55,200   Autauga County  01001020400   \n",
       "4  Autauga County, Alabama      55,200   Autauga County  01001020300   \n",
       "\n",
       "                                      placename  tract_pop  \\\n",
       "0  Census Tract 208.01, Autauga County, Alabama      2,826   \n",
       "1     Census Tract 209, Autauga County, Alabama      6,401   \n",
       "2     Census Tract 205, Autauga County, Alabama      9,883   \n",
       "3     Census Tract 204, Autauga County, Alabama      3,831   \n",
       "4     Census Tract 203, Autauga County, Alabama      3,476   \n",
       "\n",
       "                                            geometry  area ctyfips  \\\n",
       "0  MULTIPOLYGON (((-9637312.704 3828061.099, -963...    73   01001   \n",
       "1  MULTIPOLYGON (((-9643183.360 3856395.489, -961...   159   01001   \n",
       "2  MULTIPOLYGON (((-9622010.950 3826512.432, -961...     7   01001   \n",
       "3  MULTIPOLYGON (((-9622010.950 3826512.432, -962...     3   01001   \n",
       "4  MULTIPOLYGON (((-9625496.919 3827698.823, -962...     3   01001   \n",
       "\n",
       "                 tract  \n",
       "0  Census Tract 208.01  \n",
       "1     Census Tract 209  \n",
       "2     Census Tract 205  \n",
       "3     Census Tract 204  \n",
       "4     Census Tract 203  "
      ]
     },
     "execution_count": 17,
     "metadata": {},
     "output_type": "execute_result"
    }
   ],
   "source": [
    "tracts_cty_geo.head()"
   ]
  },
  {
   "cell_type": "markdown",
   "metadata": {},
   "source": [
    "### Filter by density"
   ]
  },
  {
   "cell_type": "markdown",
   "metadata": {},
   "source": [
    "Parts of a county with a population density lower than 10 people per square mile are not shaded."
   ]
  },
  {
   "cell_type": "code",
   "execution_count": 18,
   "metadata": {},
   "outputs": [],
   "source": [
    "tracts_geo['density'] = tracts_geo['population'] / tracts_geo['area']"
   ]
  },
  {
   "cell_type": "code",
   "execution_count": 19,
   "metadata": {},
   "outputs": [],
   "source": [
    "tracts_geo_dense = tracts_geo[tracts_geo['density'] > 10]"
   ]
  },
  {
   "cell_type": "markdown",
   "metadata": {},
   "source": [
    "### What's left?"
   ]
  },
  {
   "cell_type": "code",
   "execution_count": 20,
   "metadata": {},
   "outputs": [
    {
     "data": {
      "text/plain": [
       "68568"
      ]
     },
     "execution_count": 20,
     "metadata": {},
     "output_type": "execute_result"
    }
   ],
   "source": [
    "len(tracts_geo_dense)"
   ]
  },
  {
   "cell_type": "code",
   "execution_count": 21,
   "metadata": {},
   "outputs": [
    {
     "data": {
      "text/plain": [
       "71996"
      ]
     },
     "execution_count": 21,
     "metadata": {},
     "output_type": "execute_result"
    }
   ],
   "source": [
    "len(tracts_geo)"
   ]
  },
  {
   "cell_type": "code",
   "execution_count": 22,
   "metadata": {},
   "outputs": [
    {
     "data": {
      "text/plain": [
       "<matplotlib.axes._subplots.AxesSubplot at 0x126f1d390>"
      ]
     },
     "execution_count": 22,
     "metadata": {},
     "output_type": "execute_result"
    }
   ],
   "source": [
    "tracts_geo_dense.plot()"
   ]
  },
  {
   "cell_type": "markdown",
   "metadata": {},
   "source": [
    "### Just Cali tracts"
   ]
  },
  {
   "cell_type": "code",
   "execution_count": 23,
   "metadata": {},
   "outputs": [],
   "source": [
    "ca_geo_dense = gpd.GeoDataFrame(tracts_geo_dense[tracts_geo_dense['statefp'] == '06' ])"
   ]
  },
  {
   "cell_type": "code",
   "execution_count": 24,
   "metadata": {},
   "outputs": [],
   "source": [
    "ca_geo_dense.to_file('output/ca_geo_dense.json', driver='GeoJSON')"
   ]
  },
  {
   "cell_type": "code",
   "execution_count": 25,
   "metadata": {},
   "outputs": [
    {
     "data": {
      "text/html": [
       "<div>\n",
       "<style scoped>\n",
       "    .dataframe tbody tr th:only-of-type {\n",
       "        vertical-align: middle;\n",
       "    }\n",
       "\n",
       "    .dataframe tbody tr th {\n",
       "        vertical-align: top;\n",
       "    }\n",
       "\n",
       "    .dataframe thead th {\n",
       "        text-align: right;\n",
       "    }\n",
       "</style>\n",
       "<table border=\"1\" class=\"dataframe\">\n",
       "  <thead>\n",
       "    <tr style=\"text-align: right;\">\n",
       "      <th></th>\n",
       "      <th>geoid</th>\n",
       "      <th>placename</th>\n",
       "      <th>population</th>\n",
       "      <th>statefp</th>\n",
       "      <th>countyfp</th>\n",
       "      <th>tractce</th>\n",
       "      <th>aland</th>\n",
       "      <th>geometry</th>\n",
       "      <th>area</th>\n",
       "      <th>ctyfips</th>\n",
       "      <th>density</th>\n",
       "    </tr>\n",
       "  </thead>\n",
       "  <tbody>\n",
       "    <tr>\n",
       "      <th>3546</th>\n",
       "      <td>06059052511</td>\n",
       "      <td>Census Tract 525.11, Orange County, California</td>\n",
       "      <td>6,295</td>\n",
       "      <td>06</td>\n",
       "      <td>059</td>\n",
       "      <td>052511</td>\n",
       "      <td>1841535</td>\n",
       "      <td>MULTIPOLYGON (((-13114569.471 3986202.238, -13...</td>\n",
       "      <td>1</td>\n",
       "      <td>06059</td>\n",
       "      <td>5,463</td>\n",
       "    </tr>\n",
       "    <tr>\n",
       "      <th>3547</th>\n",
       "      <td>06037127520</td>\n",
       "      <td>Census Tract 1275.20, Los Angeles County, Cali...</td>\n",
       "      <td>4,544</td>\n",
       "      <td>06</td>\n",
       "      <td>037</td>\n",
       "      <td>127520</td>\n",
       "      <td>363717</td>\n",
       "      <td>MULTIPOLYGON (((-13188362.382 4058567.905, -13...</td>\n",
       "      <td>0</td>\n",
       "      <td>06037</td>\n",
       "      <td>22,923</td>\n",
       "    </tr>\n",
       "    <tr>\n",
       "      <th>3548</th>\n",
       "      <td>06107001400</td>\n",
       "      <td>Census Tract 14, Tulare County, California</td>\n",
       "      <td>5,202</td>\n",
       "      <td>06</td>\n",
       "      <td>107</td>\n",
       "      <td>001400</td>\n",
       "      <td>124522008</td>\n",
       "      <td>MULTIPOLYGON (((-13272032.337 4345631.099, -13...</td>\n",
       "      <td>76</td>\n",
       "      <td>06107</td>\n",
       "      <td>69</td>\n",
       "    </tr>\n",
       "    <tr>\n",
       "      <th>3549</th>\n",
       "      <td>06067008113</td>\n",
       "      <td>Census Tract 81.13, Sacramento County, California</td>\n",
       "      <td>3,626</td>\n",
       "      <td>06</td>\n",
       "      <td>067</td>\n",
       "      <td>008113</td>\n",
       "      <td>1615143</td>\n",
       "      <td>MULTIPOLYGON (((-13504150.842 4679841.097, -13...</td>\n",
       "      <td>1</td>\n",
       "      <td>06067</td>\n",
       "      <td>3,450</td>\n",
       "    </tr>\n",
       "    <tr>\n",
       "      <th>3550</th>\n",
       "      <td>06071000824</td>\n",
       "      <td>Census Tract 8.24, San Bernardino County, Cali...</td>\n",
       "      <td>5,401</td>\n",
       "      <td>06</td>\n",
       "      <td>071</td>\n",
       "      <td>000824</td>\n",
       "      <td>1442087</td>\n",
       "      <td>MULTIPOLYGON (((-13098989.751 4043174.543, -13...</td>\n",
       "      <td>1</td>\n",
       "      <td>06071</td>\n",
       "      <td>5,922</td>\n",
       "    </tr>\n",
       "  </tbody>\n",
       "</table>\n",
       "</div>"
      ],
      "text/plain": [
       "            geoid                                          placename  \\\n",
       "3546  06059052511     Census Tract 525.11, Orange County, California   \n",
       "3547  06037127520  Census Tract 1275.20, Los Angeles County, Cali...   \n",
       "3548  06107001400         Census Tract 14, Tulare County, California   \n",
       "3549  06067008113  Census Tract 81.13, Sacramento County, California   \n",
       "3550  06071000824  Census Tract 8.24, San Bernardino County, Cali...   \n",
       "\n",
       "      population statefp countyfp tractce      aland  \\\n",
       "3546       6,295      06      059  052511    1841535   \n",
       "3547       4,544      06      037  127520     363717   \n",
       "3548       5,202      06      107  001400  124522008   \n",
       "3549       3,626      06      067  008113    1615143   \n",
       "3550       5,401      06      071  000824    1442087   \n",
       "\n",
       "                                               geometry  area ctyfips  density  \n",
       "3546  MULTIPOLYGON (((-13114569.471 3986202.238, -13...     1   06059    5,463  \n",
       "3547  MULTIPOLYGON (((-13188362.382 4058567.905, -13...     0   06037   22,923  \n",
       "3548  MULTIPOLYGON (((-13272032.337 4345631.099, -13...    76   06107       69  \n",
       "3549  MULTIPOLYGON (((-13504150.842 4679841.097, -13...     1   06067    3,450  \n",
       "3550  MULTIPOLYGON (((-13098989.751 4043174.543, -13...     1   06071    5,922  "
      ]
     },
     "execution_count": 25,
     "metadata": {},
     "output_type": "execute_result"
    }
   ],
   "source": [
    "ca_geo_dense.head()"
   ]
  },
  {
   "cell_type": "code",
   "execution_count": null,
   "metadata": {},
   "outputs": [],
   "source": []
  },
  {
   "cell_type": "code",
   "execution_count": null,
   "metadata": {},
   "outputs": [],
   "source": []
  }
 ],
 "metadata": {
  "kernelspec": {
   "display_name": "Python 3",
   "language": "python",
   "name": "python3"
  },
  "language_info": {
   "codemirror_mode": {
    "name": "ipython",
    "version": 3
   },
   "file_extension": ".py",
   "mimetype": "text/x-python",
   "name": "python",
   "nbconvert_exporter": "python",
   "pygments_lexer": "ipython3",
   "version": "3.7.4"
  }
 },
 "nbformat": 4,
 "nbformat_minor": 4
}
