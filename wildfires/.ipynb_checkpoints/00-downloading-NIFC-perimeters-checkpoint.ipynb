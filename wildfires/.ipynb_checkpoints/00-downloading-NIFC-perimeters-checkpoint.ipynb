{
 "cells": [
  {
   "cell_type": "markdown",
   "metadata": {},
   "source": [
    "# Downloading data from the National Interagency Fire Center"
   ]
  },
  {
   "cell_type": "code",
   "execution_count": 16,
   "metadata": {},
   "outputs": [],
   "source": [
    "import pandas as pd\n",
    "import geopandas as gpd\n",
    "import matplotlib.pyplot as plt\n",
    "%matplotlib inline\n",
    "import numpy as np\n",
    "import json\n",
    "import jenkspy\n",
    "import altair_latimes as lat\n",
    "import altair as alt\n",
    "alt.themes.register('latimes', lat.theme)\n",
    "alt.themes.enable('latimes')\n",
    "pd.options.display.max_columns = 50\n",
    "pd.options.display.max_rows = 100"
   ]
  },
  {
   "cell_type": "markdown",
   "metadata": {},
   "source": [
    "## Get perimeters data"
   ]
  },
  {
   "cell_type": "code",
   "execution_count": 3,
   "metadata": {},
   "outputs": [],
   "source": [
    "active_2020_url = 'https://opendata.arcgis.com/datasets/5da472c6d27b4b67970acc7b5044c862_0.geojson'\n",
    "inactive_2020_url = 'https://opendata.arcgis.com/datasets/bf373b4ff85e4f0299036ecc31a1bcbb_0.geojson'\n",
    "historical_url = 'https://opendata.arcgis.com/datasets/4454e5d8e8c44b0280258b51bcf24794_0.geojson'"
   ]
  },
  {
   "cell_type": "markdown",
   "metadata": {},
   "source": [
    "#### Current incidents"
   ]
  },
  {
   "cell_type": "code",
   "execution_count": 4,
   "metadata": {},
   "outputs": [],
   "source": [
    "# metadata: https://data-nifc.opendata.arcgis.com/datasets/wildfire-perimeters\n",
    "active = gpd.read_file(active_2020_url)"
   ]
  },
  {
   "cell_type": "markdown",
   "metadata": {},
   "source": [
    "#### Incidents this year that are more than seven days old"
   ]
  },
  {
   "cell_type": "code",
   "execution_count": 5,
   "metadata": {},
   "outputs": [],
   "source": [
    "# metadata: https://data-nifc.opendata.arcgis.com/datasets/archived-wildfire-perimeters-2\n",
    "inactive = gpd.read_file(inactive_2020_url)"
   ]
  },
  {
   "cell_type": "markdown",
   "metadata": {},
   "source": [
    "#### Historical perimeters"
   ]
  },
  {
   "cell_type": "code",
   "execution_count": 6,
   "metadata": {},
   "outputs": [],
   "source": [
    "# metadata: https://data-nifc.opendata.arcgis.com/datasets/interagency-fire-perimeter-history-all-years\n",
    "# historical = gpd.read_file(historical_url)"
   ]
  },
  {
   "cell_type": "code",
   "execution_count": 7,
   "metadata": {},
   "outputs": [],
   "source": [
    "historical = gpd.read_file('/Users/mhustiles/data/data/GIS/wildfires/Interagency_Fire_Perimeter_History/InteragencyFirePerimeterHistory.shp')"
   ]
  },
  {
   "cell_type": "code",
   "execution_count": 8,
   "metadata": {},
   "outputs": [],
   "source": [
    "dataframesList = [ active, inactive ]"
   ]
  },
  {
   "cell_type": "code",
   "execution_count": 21,
   "metadata": {},
   "outputs": [],
   "source": [
    "thisyear = gpd.GeoDataFrame( pd.concat( dataframesList, join='inner', ignore_index=True) )"
   ]
  },
  {
   "cell_type": "code",
   "execution_count": 24,
   "metadata": {},
   "outputs": [
    {
     "data": {
      "text/plain": [
       "Index(['OBJECTID', 'IncidentName', 'FeatureCategory', 'MapMethod', 'Comments',\n",
       "       'GISAcres', 'Label', 'FeatureAccess', 'FeatureStatus', 'IsVisible',\n",
       "       'CreateDate', 'DateCurrent', 'PolygonDateTime', 'ComplexName',\n",
       "       'ComplexID', 'GACC', 'IMTName', 'UnitID', 'LocalIncidentID', 'IRWINID',\n",
       "       'GeometryID', 'GlobalID', 'GlobalID_2', 'SHAPE_Length', 'SHAPE_Area',\n",
       "       'geometry'],\n",
       "      dtype='object')"
      ]
     },
     "execution_count": 24,
     "metadata": {},
     "output_type": "execute_result"
    }
   ],
   "source": [
    "active.columns"
   ]
  },
  {
   "cell_type": "code",
   "execution_count": 25,
   "metadata": {},
   "outputs": [
    {
     "data": {
      "text/html": [
       "<div>\n",
       "<style scoped>\n",
       "    .dataframe tbody tr th:only-of-type {\n",
       "        vertical-align: middle;\n",
       "    }\n",
       "\n",
       "    .dataframe tbody tr th {\n",
       "        vertical-align: top;\n",
       "    }\n",
       "\n",
       "    .dataframe thead th {\n",
       "        text-align: right;\n",
       "    }\n",
       "</style>\n",
       "<table border=\"1\" class=\"dataframe\">\n",
       "  <thead>\n",
       "    <tr style=\"text-align: right;\">\n",
       "      <th></th>\n",
       "      <th>OBJECTID</th>\n",
       "      <th>IncidentName</th>\n",
       "      <th>FeatureCategory</th>\n",
       "      <th>MapMethod</th>\n",
       "      <th>Comments</th>\n",
       "      <th>GISAcres</th>\n",
       "      <th>Label</th>\n",
       "      <th>FeatureAccess</th>\n",
       "      <th>FeatureStatus</th>\n",
       "      <th>IsVisible</th>\n",
       "      <th>CreateDate</th>\n",
       "      <th>DateCurrent</th>\n",
       "      <th>PolygonDateTime</th>\n",
       "      <th>ComplexName</th>\n",
       "      <th>ComplexID</th>\n",
       "      <th>GACC</th>\n",
       "      <th>IMTName</th>\n",
       "      <th>UnitID</th>\n",
       "      <th>LocalIncidentID</th>\n",
       "      <th>IRWINID</th>\n",
       "      <th>GeometryID</th>\n",
       "      <th>GlobalID</th>\n",
       "      <th>GlobalID_2</th>\n",
       "      <th>SHAPE_Length</th>\n",
       "      <th>SHAPE_Area</th>\n",
       "      <th>geometry</th>\n",
       "    </tr>\n",
       "  </thead>\n",
       "  <tbody>\n",
       "    <tr>\n",
       "      <th>0</th>\n",
       "      <td>86547</td>\n",
       "      <td>Bradbury Krebs</td>\n",
       "      <td>Wildfire Daily Fire Perimeter</td>\n",
       "      <td>Remote Sensing Derived</td>\n",
       "      <td>None</td>\n",
       "      <td>96.387621</td>\n",
       "      <td>None</td>\n",
       "      <td>Public</td>\n",
       "      <td>Approved</td>\n",
       "      <td>Yes</td>\n",
       "      <td>2020-07-01T22:37:53</td>\n",
       "      <td>2020-07-28T03:10:42</td>\n",
       "      <td>2020-06-30T06:59:59</td>\n",
       "      <td>None</td>\n",
       "      <td>None</td>\n",
       "      <td>RMCC</td>\n",
       "      <td>None</td>\n",
       "      <td>None</td>\n",
       "      <td>None</td>\n",
       "      <td>None</td>\n",
       "      <td>None</td>\n",
       "      <td>016394ae-ee1b-4a97-bbb8-eac4cb650178</td>\n",
       "      <td>{1BE763D8-687D-44DB-A01A-43E1DE6E219A}</td>\n",
       "      <td>0.026316</td>\n",
       "      <td>0.000041</td>\n",
       "      <td>MULTIPOLYGON (((-104.23295 39.72572, -104.2313...</td>\n",
       "    </tr>\n",
       "    <tr>\n",
       "      <th>1</th>\n",
       "      <td>89870</td>\n",
       "      <td>FLAT TOP</td>\n",
       "      <td>Wildfire Daily Fire Perimeter</td>\n",
       "      <td>GPS-Flight</td>\n",
       "      <td>Utilization of drone to aerial map fire perime...</td>\n",
       "      <td>374.443632</td>\n",
       "      <td>None</td>\n",
       "      <td>Public</td>\n",
       "      <td>Approved</td>\n",
       "      <td>Yes</td>\n",
       "      <td>2020-07-10T20:24:01</td>\n",
       "      <td>2020-07-29T15:45:40</td>\n",
       "      <td>2020-06-16T12:14:59</td>\n",
       "      <td>None</td>\n",
       "      <td>None</td>\n",
       "      <td>RMCC</td>\n",
       "      <td>None</td>\n",
       "      <td>WYCOX</td>\n",
       "      <td>200144</td>\n",
       "      <td>{6EBEA127-231D-4EE1-8A6A-39F034B1752C}</td>\n",
       "      <td>None</td>\n",
       "      <td>d6fb873a-01ea-495c-829b-d3d89c14d3cc</td>\n",
       "      <td>{1D7EE141-27D5-4F66-9311-C217A15BA0AA}</td>\n",
       "      <td>0.072647</td>\n",
       "      <td>0.000167</td>\n",
       "      <td>MULTIPOLYGON (((-105.05796 42.79817, -105.0577...</td>\n",
       "    </tr>\n",
       "    <tr>\n",
       "      <th>2</th>\n",
       "      <td>89877</td>\n",
       "      <td>Lincoln</td>\n",
       "      <td>Wildfire Daily Fire Perimeter</td>\n",
       "      <td>Mixed Methods</td>\n",
       "      <td>None</td>\n",
       "      <td>43.376002</td>\n",
       "      <td>None</td>\n",
       "      <td>Public</td>\n",
       "      <td>Approved</td>\n",
       "      <td>Yes</td>\n",
       "      <td>2020-06-19T21:54:43</td>\n",
       "      <td>2020-07-31T15:23:05</td>\n",
       "      <td>2020-06-16T00:59:59</td>\n",
       "      <td>None</td>\n",
       "      <td>None</td>\n",
       "      <td>GBCC</td>\n",
       "      <td>None</td>\n",
       "      <td>UTSLD</td>\n",
       "      <td>000296</td>\n",
       "      <td>{83840CC1-B9E8-4E8F-B1B5-353E02A08A73}</td>\n",
       "      <td>None</td>\n",
       "      <td>a6f5723b-f060-4083-996c-1c3ae14ded37</td>\n",
       "      <td>{019C0D34-B99B-4CCE-A479-6D402D23F969}</td>\n",
       "      <td>0.023222</td>\n",
       "      <td>0.000019</td>\n",
       "      <td>MULTIPOLYGON (((-111.81607 40.12222, -111.8162...</td>\n",
       "    </tr>\n",
       "    <tr>\n",
       "      <th>3</th>\n",
       "      <td>89882</td>\n",
       "      <td>Moore Mountain</td>\n",
       "      <td>Wildfire Daily Fire Perimeter</td>\n",
       "      <td>Digitized-Image</td>\n",
       "      <td>None</td>\n",
       "      <td>11.501785</td>\n",
       "      <td>Moore Mtn, 2020</td>\n",
       "      <td>Public</td>\n",
       "      <td>Approved</td>\n",
       "      <td>Yes</td>\n",
       "      <td>2020-07-10T20:21:31</td>\n",
       "      <td>2020-07-10T20:29:55</td>\n",
       "      <td>None</td>\n",
       "      <td>None</td>\n",
       "      <td>None</td>\n",
       "      <td>SACC</td>\n",
       "      <td>None</td>\n",
       "      <td>VAVAS</td>\n",
       "      <td>Moore Mtn</td>\n",
       "      <td>{9BC142C4-6A28-4EF6-B683-438DCDF13706}</td>\n",
       "      <td>None</td>\n",
       "      <td>db4cfe17-fe55-437e-b767-023a6b6af3a0</td>\n",
       "      <td>{298BEC61-E2CC-4532-96DE-21A60A0A2B22}</td>\n",
       "      <td>0.011176</td>\n",
       "      <td>0.000005</td>\n",
       "      <td>MULTIPOLYGON (((-79.33290 37.68567, -79.33320 ...</td>\n",
       "    </tr>\n",
       "    <tr>\n",
       "      <th>4</th>\n",
       "      <td>89894</td>\n",
       "      <td>Slow Fork</td>\n",
       "      <td>Wildfire Daily Fire Perimeter</td>\n",
       "      <td>Remote Sensing Derived</td>\n",
       "      <td>Sentinel 2</td>\n",
       "      <td>10.989057</td>\n",
       "      <td>232-Slow Fork</td>\n",
       "      <td>Public</td>\n",
       "      <td>Approved</td>\n",
       "      <td>Yes</td>\n",
       "      <td>2020-06-23T15:31:36</td>\n",
       "      <td>2020-06-23T15:32:37</td>\n",
       "      <td>2020-06-17T13:57:00</td>\n",
       "      <td>None</td>\n",
       "      <td>None</td>\n",
       "      <td>AICC</td>\n",
       "      <td>None</td>\n",
       "      <td>AKAKS</td>\n",
       "      <td>232</td>\n",
       "      <td>{740194AB-BD9D-450F-A1F8-FA30CF98D7C8}</td>\n",
       "      <td>7b30049b-1dbf-4d75-bfe2-8552555dcdd3</td>\n",
       "      <td>3df076ea-d3c7-448d-a31b-04a015a720b8</td>\n",
       "      <td>{F5AD5C60-43BB-4598-9CBD-F02415225FF7}</td>\n",
       "      <td>0.014925</td>\n",
       "      <td>0.000008</td>\n",
       "      <td>MULTIPOLYGON (((-152.79787 63.34348, -152.7981...</td>\n",
       "    </tr>\n",
       "  </tbody>\n",
       "</table>\n",
       "</div>"
      ],
      "text/plain": [
       "   OBJECTID    IncidentName                FeatureCategory  \\\n",
       "0     86547  Bradbury Krebs  Wildfire Daily Fire Perimeter   \n",
       "1     89870        FLAT TOP  Wildfire Daily Fire Perimeter   \n",
       "2     89877         Lincoln  Wildfire Daily Fire Perimeter   \n",
       "3     89882  Moore Mountain  Wildfire Daily Fire Perimeter   \n",
       "4     89894       Slow Fork  Wildfire Daily Fire Perimeter   \n",
       "\n",
       "                MapMethod                                           Comments  \\\n",
       "0  Remote Sensing Derived                                               None   \n",
       "1              GPS-Flight  Utilization of drone to aerial map fire perime...   \n",
       "2           Mixed Methods                                               None   \n",
       "3         Digitized-Image                                               None   \n",
       "4  Remote Sensing Derived                                         Sentinel 2   \n",
       "\n",
       "     GISAcres            Label FeatureAccess FeatureStatus IsVisible  \\\n",
       "0   96.387621             None        Public      Approved       Yes   \n",
       "1  374.443632             None        Public      Approved       Yes   \n",
       "2   43.376002             None        Public      Approved       Yes   \n",
       "3   11.501785  Moore Mtn, 2020        Public      Approved       Yes   \n",
       "4   10.989057    232-Slow Fork        Public      Approved       Yes   \n",
       "\n",
       "            CreateDate          DateCurrent      PolygonDateTime ComplexName  \\\n",
       "0  2020-07-01T22:37:53  2020-07-28T03:10:42  2020-06-30T06:59:59        None   \n",
       "1  2020-07-10T20:24:01  2020-07-29T15:45:40  2020-06-16T12:14:59        None   \n",
       "2  2020-06-19T21:54:43  2020-07-31T15:23:05  2020-06-16T00:59:59        None   \n",
       "3  2020-07-10T20:21:31  2020-07-10T20:29:55                 None        None   \n",
       "4  2020-06-23T15:31:36  2020-06-23T15:32:37  2020-06-17T13:57:00        None   \n",
       "\n",
       "  ComplexID  GACC IMTName UnitID LocalIncidentID  \\\n",
       "0      None  RMCC    None   None            None   \n",
       "1      None  RMCC    None  WYCOX          200144   \n",
       "2      None  GBCC    None  UTSLD          000296   \n",
       "3      None  SACC    None  VAVAS       Moore Mtn   \n",
       "4      None  AICC    None  AKAKS             232   \n",
       "\n",
       "                                  IRWINID  \\\n",
       "0                                    None   \n",
       "1  {6EBEA127-231D-4EE1-8A6A-39F034B1752C}   \n",
       "2  {83840CC1-B9E8-4E8F-B1B5-353E02A08A73}   \n",
       "3  {9BC142C4-6A28-4EF6-B683-438DCDF13706}   \n",
       "4  {740194AB-BD9D-450F-A1F8-FA30CF98D7C8}   \n",
       "\n",
       "                             GeometryID                              GlobalID  \\\n",
       "0                                  None  016394ae-ee1b-4a97-bbb8-eac4cb650178   \n",
       "1                                  None  d6fb873a-01ea-495c-829b-d3d89c14d3cc   \n",
       "2                                  None  a6f5723b-f060-4083-996c-1c3ae14ded37   \n",
       "3                                  None  db4cfe17-fe55-437e-b767-023a6b6af3a0   \n",
       "4  7b30049b-1dbf-4d75-bfe2-8552555dcdd3  3df076ea-d3c7-448d-a31b-04a015a720b8   \n",
       "\n",
       "                               GlobalID_2  SHAPE_Length  SHAPE_Area  \\\n",
       "0  {1BE763D8-687D-44DB-A01A-43E1DE6E219A}      0.026316    0.000041   \n",
       "1  {1D7EE141-27D5-4F66-9311-C217A15BA0AA}      0.072647    0.000167   \n",
       "2  {019C0D34-B99B-4CCE-A479-6D402D23F969}      0.023222    0.000019   \n",
       "3  {298BEC61-E2CC-4532-96DE-21A60A0A2B22}      0.011176    0.000005   \n",
       "4  {F5AD5C60-43BB-4598-9CBD-F02415225FF7}      0.014925    0.000008   \n",
       "\n",
       "                                            geometry  \n",
       "0  MULTIPOLYGON (((-104.23295 39.72572, -104.2313...  \n",
       "1  MULTIPOLYGON (((-105.05796 42.79817, -105.0577...  \n",
       "2  MULTIPOLYGON (((-111.81607 40.12222, -111.8162...  \n",
       "3  MULTIPOLYGON (((-79.33290 37.68567, -79.33320 ...  \n",
       "4  MULTIPOLYGON (((-152.79787 63.34348, -152.7981...  "
      ]
     },
     "execution_count": 25,
     "metadata": {},
     "output_type": "execute_result"
    }
   ],
   "source": [
    "active.head()"
   ]
  },
  {
   "cell_type": "code",
   "execution_count": null,
   "metadata": {},
   "outputs": [],
   "source": []
  }
 ],
 "metadata": {
  "kernelspec": {
   "display_name": "Python 3",
   "language": "python",
   "name": "python3"
  },
  "language_info": {
   "codemirror_mode": {
    "name": "ipython",
    "version": 3
   },
   "file_extension": ".py",
   "mimetype": "text/x-python",
   "name": "python",
   "nbconvert_exporter": "python",
   "pygments_lexer": "ipython3",
   "version": "3.7.4"
  }
 },
 "nbformat": 4,
 "nbformat_minor": 4
}
