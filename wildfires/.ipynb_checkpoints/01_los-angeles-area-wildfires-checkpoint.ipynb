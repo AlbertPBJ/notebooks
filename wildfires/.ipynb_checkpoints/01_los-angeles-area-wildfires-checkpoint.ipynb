{
 "cells": [
  {
   "cell_type": "markdown",
   "metadata": {},
   "source": [
    "# Historic wildfire perimeters in Los Angeles area"
   ]
  },
  {
   "cell_type": "code",
   "execution_count": 85,
   "metadata": {},
   "outputs": [
    {
     "data": {
      "text/plain": [
       "ThemeRegistry.enable('latimes')"
      ]
     },
     "execution_count": 85,
     "metadata": {},
     "output_type": "execute_result"
    }
   ],
   "source": [
    "import pandas as pd\n",
    "import geopandas as gpd\n",
    "import matplotlib.pyplot as plt\n",
    "%matplotlib inline\n",
    "import numpy as np\n",
    "import json\n",
    "import jenkspy\n",
    "import altair_latimes as lat\n",
    "import altair as alt\n",
    "alt.renderers.enable('notebook')\n",
    "alt.themes.register('latimes', lat.theme)\n",
    "alt.themes.enable('latimes')"
   ]
  },
  {
   "cell_type": "code",
   "execution_count": 86,
   "metadata": {},
   "outputs": [],
   "source": [
    "# processed @ wildfires/00_cleaning.ipynb\n",
    "wildfires = gpd.read_file('/Users/mhustiles/data/data/GIS/wildfires/FRAP/output/wildfires.geojson')"
   ]
  },
  {
   "cell_type": "code",
   "execution_count": 87,
   "metadata": {},
   "outputs": [],
   "source": [
    "wildfires['alarm_date'] = wildfires['alarm_date'].str.replace('T00:00:00', '')"
   ]
  },
  {
   "cell_type": "code",
   "execution_count": 88,
   "metadata": {},
   "outputs": [
    {
     "data": {
      "text/html": [
       "<div>\n",
       "<style scoped>\n",
       "    .dataframe tbody tr th:only-of-type {\n",
       "        vertical-align: middle;\n",
       "    }\n",
       "\n",
       "    .dataframe tbody tr th {\n",
       "        vertical-align: top;\n",
       "    }\n",
       "\n",
       "    .dataframe thead th {\n",
       "        text-align: right;\n",
       "    }\n",
       "</style>\n",
       "<table border=\"1\" class=\"dataframe\">\n",
       "  <thead>\n",
       "    <tr style=\"text-align: right;\">\n",
       "      <th></th>\n",
       "      <th>objectid</th>\n",
       "      <th>year_</th>\n",
       "      <th>state</th>\n",
       "      <th>agency</th>\n",
       "      <th>unit_id</th>\n",
       "      <th>fire_name</th>\n",
       "      <th>inc_num</th>\n",
       "      <th>alarm_date</th>\n",
       "      <th>cont_date</th>\n",
       "      <th>cause</th>\n",
       "      <th>...</th>\n",
       "      <th>alarm_year</th>\n",
       "      <th>alarm_quarter</th>\n",
       "      <th>alarm_day</th>\n",
       "      <th>alarm_month</th>\n",
       "      <th>alarm_monthname</th>\n",
       "      <th>cause_description</th>\n",
       "      <th>agency_description</th>\n",
       "      <th>unit_description</th>\n",
       "      <th>fire</th>\n",
       "      <th>geometry</th>\n",
       "    </tr>\n",
       "  </thead>\n",
       "  <tbody>\n",
       "    <tr>\n",
       "      <th>0</th>\n",
       "      <td>1</td>\n",
       "      <td>2007</td>\n",
       "      <td>CA</td>\n",
       "      <td>CCO</td>\n",
       "      <td>LAC</td>\n",
       "      <td>OCTOBER</td>\n",
       "      <td>00246393</td>\n",
       "      <td>2007-10-21</td>\n",
       "      <td>2007-10-23</td>\n",
       "      <td>14</td>\n",
       "      <td>...</td>\n",
       "      <td>2007</td>\n",
       "      <td>4</td>\n",
       "      <td>21</td>\n",
       "      <td>10</td>\n",
       "      <td>October</td>\n",
       "      <td>Unknown/Unidentified</td>\n",
       "      <td>Contract Counties</td>\n",
       "      <td>Los Angeles County</td>\n",
       "      <td>October</td>\n",
       "      <td>(POLYGON ((-118.4985124819225 34.3824189370447...</td>\n",
       "    </tr>\n",
       "    <tr>\n",
       "      <th>1</th>\n",
       "      <td>2</td>\n",
       "      <td>2007</td>\n",
       "      <td>CA</td>\n",
       "      <td>CCO</td>\n",
       "      <td>LAC</td>\n",
       "      <td>MAGIC</td>\n",
       "      <td>00233077</td>\n",
       "      <td>2007-10-22</td>\n",
       "      <td>2007-10-25</td>\n",
       "      <td>14</td>\n",
       "      <td>...</td>\n",
       "      <td>2007</td>\n",
       "      <td>4</td>\n",
       "      <td>22</td>\n",
       "      <td>10</td>\n",
       "      <td>October</td>\n",
       "      <td>Unknown/Unidentified</td>\n",
       "      <td>Contract Counties</td>\n",
       "      <td>Los Angeles County</td>\n",
       "      <td>Magic</td>\n",
       "      <td>(POLYGON ((-118.5844782794717 34.4197766738174...</td>\n",
       "    </tr>\n",
       "    <tr>\n",
       "      <th>2</th>\n",
       "      <td>3</td>\n",
       "      <td>2007</td>\n",
       "      <td>CA</td>\n",
       "      <td>USF</td>\n",
       "      <td>ANF</td>\n",
       "      <td>RANCH</td>\n",
       "      <td>00000166</td>\n",
       "      <td>2007-10-20</td>\n",
       "      <td>2007-11-15</td>\n",
       "      <td>2</td>\n",
       "      <td>...</td>\n",
       "      <td>2007</td>\n",
       "      <td>4</td>\n",
       "      <td>20</td>\n",
       "      <td>10</td>\n",
       "      <td>October</td>\n",
       "      <td>Equipment Use</td>\n",
       "      <td>United States Forest Service</td>\n",
       "      <td>Angeles National Forest</td>\n",
       "      <td>Ranch</td>\n",
       "      <td>(POLYGON ((-118.7564468802518 34.5965130520924...</td>\n",
       "    </tr>\n",
       "    <tr>\n",
       "      <th>3</th>\n",
       "      <td>4</td>\n",
       "      <td>2007</td>\n",
       "      <td>CA</td>\n",
       "      <td>CCO</td>\n",
       "      <td>LAC</td>\n",
       "      <td>EMMA</td>\n",
       "      <td>00201384</td>\n",
       "      <td>2007-09-11</td>\n",
       "      <td>2007-09-11</td>\n",
       "      <td>14</td>\n",
       "      <td>...</td>\n",
       "      <td>2007</td>\n",
       "      <td>3</td>\n",
       "      <td>11</td>\n",
       "      <td>9</td>\n",
       "      <td>September</td>\n",
       "      <td>Unknown/Unidentified</td>\n",
       "      <td>Contract Counties</td>\n",
       "      <td>Los Angeles County</td>\n",
       "      <td>Emma</td>\n",
       "      <td>(POLYGON ((-118.0727716195954 34.5019812566583...</td>\n",
       "    </tr>\n",
       "    <tr>\n",
       "      <th>4</th>\n",
       "      <td>5</td>\n",
       "      <td>2007</td>\n",
       "      <td>CA</td>\n",
       "      <td>CCO</td>\n",
       "      <td>LAC</td>\n",
       "      <td>CORRAL</td>\n",
       "      <td>00259483</td>\n",
       "      <td>2007-11-24</td>\n",
       "      <td>2007-11-27</td>\n",
       "      <td>14</td>\n",
       "      <td>...</td>\n",
       "      <td>2007</td>\n",
       "      <td>4</td>\n",
       "      <td>24</td>\n",
       "      <td>11</td>\n",
       "      <td>November</td>\n",
       "      <td>Unknown/Unidentified</td>\n",
       "      <td>Contract Counties</td>\n",
       "      <td>Los Angeles County</td>\n",
       "      <td>Corral</td>\n",
       "      <td>(POLYGON ((-118.7440804532698 34.0812976688129...</td>\n",
       "    </tr>\n",
       "  </tbody>\n",
       "</table>\n",
       "<p>5 rows × 27 columns</p>\n",
       "</div>"
      ],
      "text/plain": [
       "  objectid year_ state agency unit_id fire_name   inc_num  alarm_date  \\\n",
       "0        1  2007    CA    CCO     LAC   OCTOBER  00246393  2007-10-21   \n",
       "1        2  2007    CA    CCO     LAC     MAGIC  00233077  2007-10-22   \n",
       "2        3  2007    CA    USF     ANF     RANCH  00000166  2007-10-20   \n",
       "3        4  2007    CA    CCO     LAC      EMMA  00201384  2007-09-11   \n",
       "4        5  2007    CA    CCO     LAC    CORRAL  00259483  2007-11-24   \n",
       "\n",
       "    cont_date cause  ... alarm_year alarm_quarter  alarm_day alarm_month  \\\n",
       "0  2007-10-23    14  ...       2007             4         21          10   \n",
       "1  2007-10-25    14  ...       2007             4         22          10   \n",
       "2  2007-11-15     2  ...       2007             4         20          10   \n",
       "3  2007-09-11    14  ...       2007             3         11           9   \n",
       "4  2007-11-27    14  ...       2007             4         24          11   \n",
       "\n",
       "  alarm_monthname     cause_description            agency_description  \\\n",
       "0         October  Unknown/Unidentified             Contract Counties   \n",
       "1         October  Unknown/Unidentified             Contract Counties   \n",
       "2         October         Equipment Use  United States Forest Service   \n",
       "3       September  Unknown/Unidentified             Contract Counties   \n",
       "4        November  Unknown/Unidentified             Contract Counties   \n",
       "\n",
       "          unit_description     fire  \\\n",
       "0       Los Angeles County  October   \n",
       "1       Los Angeles County    Magic   \n",
       "2  Angeles National Forest    Ranch   \n",
       "3       Los Angeles County     Emma   \n",
       "4       Los Angeles County   Corral   \n",
       "\n",
       "                                            geometry  \n",
       "0  (POLYGON ((-118.4985124819225 34.3824189370447...  \n",
       "1  (POLYGON ((-118.5844782794717 34.4197766738174...  \n",
       "2  (POLYGON ((-118.7564468802518 34.5965130520924...  \n",
       "3  (POLYGON ((-118.0727716195954 34.5019812566583...  \n",
       "4  (POLYGON ((-118.7440804532698 34.0812976688129...  \n",
       "\n",
       "[5 rows x 27 columns]"
      ]
     },
     "execution_count": 88,
     "metadata": {},
     "output_type": "execute_result"
    }
   ],
   "source": [
    "wildfires.head()"
   ]
  },
  {
   "cell_type": "markdown",
   "metadata": {},
   "source": [
    "### Add CA counties"
   ]
  },
  {
   "cell_type": "code",
   "execution_count": 89,
   "metadata": {},
   "outputs": [],
   "source": [
    "counties = gpd.read_file('http://s3-us-west-2.amazonaws.com/boundaries.\\\n",
    "latimes.com/archive/1.0/boundary-set/counties-2012.geojson')"
   ]
  },
  {
   "cell_type": "code",
   "execution_count": 90,
   "metadata": {},
   "outputs": [],
   "source": [
    "## corresponds to census 'consolidated statistical area' \n",
    "la_csa = counties[(counties['name'] == 'Los Angeles') \\\n",
    "                   | (counties['name'] == 'Orange') \\\n",
    "                   | (counties['name'] == 'Ventura') \\\n",
    "                   | (counties['name'] == 'San Bernardino')\\\n",
    "                   | (counties['name'] == 'Riverside')]"
   ]
  },
  {
   "cell_type": "code",
   "execution_count": 91,
   "metadata": {},
   "outputs": [],
   "source": [
    "## corresponds to census 'consolidated statistical area' \n",
    "la_county = counties[(counties['name'] == 'Los Angeles')]"
   ]
  },
  {
   "cell_type": "code",
   "execution_count": 92,
   "metadata": {},
   "outputs": [],
   "source": [
    "la_area_fires = gpd.sjoin(wildfires, la_csa, op='within')\n",
    "la_county_fires = gpd.sjoin(wildfires, la_county, op='intersects')"
   ]
  },
  {
   "cell_type": "code",
   "execution_count": 93,
   "metadata": {},
   "outputs": [
    {
     "data": {
      "text/plain": [
       "999"
      ]
     },
     "execution_count": 93,
     "metadata": {},
     "output_type": "execute_result"
    }
   ],
   "source": [
    "len(la_county_fires)"
   ]
  },
  {
   "cell_type": "code",
   "execution_count": 94,
   "metadata": {},
   "outputs": [
    {
     "data": {
      "text/plain": [
       "2147"
      ]
     },
     "execution_count": 94,
     "metadata": {},
     "output_type": "execute_result"
    }
   ],
   "source": [
    "len(la_area_fires)"
   ]
  },
  {
   "cell_type": "code",
   "execution_count": 95,
   "metadata": {},
   "outputs": [
    {
     "data": {
      "text/plain": [
       "9643"
      ]
     },
     "execution_count": 95,
     "metadata": {},
     "output_type": "execute_result"
    }
   ],
   "source": [
    "len(wildfires)"
   ]
  },
  {
   "cell_type": "code",
   "execution_count": 96,
   "metadata": {},
   "outputs": [],
   "source": [
    "la_area_fires_lg = la_area_fires[la_area_fires['gis_acres'] > 1000 ]\n",
    "la_county_fires_lg = la_county_fires[la_county_fires['gis_acres'] > 1000 ]"
   ]
  },
  {
   "cell_type": "code",
   "execution_count": 97,
   "metadata": {},
   "outputs": [
    {
     "data": {
      "text/plain": [
       "<matplotlib.axes._subplots.AxesSubplot at 0x139852438>"
      ]
     },
     "execution_count": 97,
     "metadata": {},
     "output_type": "execute_result"
    },
    {
     "data": {
      "image/png": "[encoded data removed]",
      "text/plain": [
       "<Figure size 432x288 with 1 Axes>"
      ]
     },
     "metadata": {
      "needs_background": "light"
     },
     "output_type": "display_data"
    }
   ],
   "source": [
    "la_area_fires_lg.plot()"
   ]
  },
  {
   "cell_type": "code",
   "execution_count": 98,
   "metadata": {},
   "outputs": [],
   "source": [
    "la_area_fires_lg.to_file('/Users/mhustiles/data/data/GIS/\\\n",
    "wildfires/FRAP/output/la_county_fires_lg.geojson', driver='GeoJSON')"
   ]
  },
  {
   "cell_type": "code",
   "execution_count": null,
   "metadata": {},
   "outputs": [],
   "source": []
  }
 ],
 "metadata": {
  "kernelspec": {
   "display_name": "Python 3",
   "language": "python",
   "name": "python3"
  },
  "language_info": {
   "codemirror_mode": {
    "name": "ipython",
    "version": 3
   },
   "file_extension": ".py",
   "mimetype": "text/x-python",
   "name": "python",
   "nbconvert_exporter": "python",
   "pygments_lexer": "ipython3",
   "version": "3.7.3"
  }
 },
 "nbformat": 4,
 "nbformat_minor": 2
}
