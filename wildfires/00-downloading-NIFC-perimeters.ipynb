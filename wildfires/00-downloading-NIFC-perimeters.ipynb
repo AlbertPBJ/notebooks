{
 "cells": [
  {
   "cell_type": "markdown",
   "metadata": {},
   "source": [
    "# Downloading data from the National Interagency Fire Center"
   ]
  },
  {
   "cell_type": "code",
   "execution_count": 1,
   "metadata": {},
   "outputs": [
    {
     "data": {
      "text/plain": [
       "ThemeRegistry.enable('latimes')"
      ]
     },
     "execution_count": 1,
     "metadata": {},
     "output_type": "execute_result"
    }
   ],
   "source": [
    "import pandas as pd\n",
    "import geopandas as gpd\n",
    "import matplotlib\n",
    "import matplotlib.pyplot as plt\n",
    "import numpy as np\n",
    "import json\n",
    "import jenkspy\n",
    "import altair_latimes as lat\n",
    "import altair as alt\n",
    "alt.themes.register('latimes', lat.theme)\n",
    "alt.themes.enable('latimes')"
   ]
  },
  {
   "cell_type": "markdown",
   "metadata": {},
   "source": [
    "## Get perimeters data"
   ]
  },
  {
   "cell_type": "code",
   "execution_count": 2,
   "metadata": {},
   "outputs": [],
   "source": [
    "active_2020_url = 'https://opendata.arcgis.com/datasets/5da472c6d27b4b67970acc7b5044c862_0.geojson'\n",
    "inactive_2020_url = 'https://opendata.arcgis.com/datasets/bf373b4ff85e4f0299036ecc31a1bcbb_0.geojson'\n",
    "historical_url = 'https://opendata.arcgis.com/datasets/4454e5d8e8c44b0280258b51bcf24794_0.geojson'"
   ]
  },
  {
   "cell_type": "markdown",
   "metadata": {},
   "source": [
    "#### Current incidents"
   ]
  },
  {
   "cell_type": "code",
   "execution_count": 3,
   "metadata": {},
   "outputs": [],
   "source": [
    "active = gpd.read_file(active_2020_url)"
   ]
  },
  {
   "cell_type": "markdown",
   "metadata": {},
   "source": [
    "#### Incidents this year that are more than seven days old"
   ]
  },
  {
   "cell_type": "code",
   "execution_count": 4,
   "metadata": {},
   "outputs": [],
   "source": [
    "inactive = gpd.read_file(inactive_2020_url)"
   ]
  },
  {
   "cell_type": "markdown",
   "metadata": {},
   "source": [
    "#### Historical perimeters"
   ]
  },
  {
   "cell_type": "code",
   "execution_count": 5,
   "metadata": {},
   "outputs": [],
   "source": [
    "# metadata: https://data-nifc.opendata.arcgis.com/datasets/interagency-fire-perimeter-history-all-years\n",
    "# historical = gpd.read_file(historical_url)"
   ]
  },
  {
   "cell_type": "code",
   "execution_count": 6,
   "metadata": {},
   "outputs": [],
   "source": [
    "# historical = gpd.read_file('/Users/mhustiles/data/data/GIS/wildfires/Interagency_Fire_Perimeter_History/InteragencyFirePerimeterHistory.shp')"
   ]
  },
  {
   "cell_type": "code",
   "execution_count": 7,
   "metadata": {},
   "outputs": [],
   "source": [
    "dataframesList = [ active, inactive ]"
   ]
  },
  {
   "cell_type": "code",
   "execution_count": 8,
   "metadata": {},
   "outputs": [],
   "source": [
    "thisyear = gpd.GeoDataFrame( pd.concat( dataframesList, join='inner', ignore_index=True) )"
   ]
  },
  {
   "cell_type": "code",
   "execution_count": 9,
   "metadata": {},
   "outputs": [
    {
     "data": {
      "text/plain": [
       "Index(['OBJECTID', 'IncidentName', 'FeatureCategory', 'MapMethod', 'Comments',\n",
       "       'GISAcres', 'Label', 'FeatureAccess', 'FeatureStatus', 'IsVisible',\n",
       "       'CreateDate', 'DateCurrent', 'PolygonDateTime', 'ComplexName',\n",
       "       'ComplexID', 'GACC', 'IMTName', 'UnitID', 'LocalIncidentID', 'IRWINID',\n",
       "       'GeometryID', 'GlobalID', 'GlobalID_2', 'SHAPE_Length', 'SHAPE_Area',\n",
       "       'geometry'],\n",
       "      dtype='object')"
      ]
     },
     "execution_count": 9,
     "metadata": {},
     "output_type": "execute_result"
    }
   ],
   "source": [
    "active.columns"
   ]
  },
  {
   "cell_type": "code",
   "execution_count": 10,
   "metadata": {},
   "outputs": [],
   "source": [
    "bobcat = active[active['OBJECTID'] == 96115]"
   ]
  },
  {
   "cell_type": "code",
   "execution_count": 12,
   "metadata": {},
   "outputs": [
    {
     "data": {
      "text/html": [
       "<div>\n",
       "<style scoped>\n",
       "    .dataframe tbody tr th:only-of-type {\n",
       "        vertical-align: middle;\n",
       "    }\n",
       "\n",
       "    .dataframe tbody tr th {\n",
       "        vertical-align: top;\n",
       "    }\n",
       "\n",
       "    .dataframe thead th {\n",
       "        text-align: right;\n",
       "    }\n",
       "</style>\n",
       "<table border=\"1\" class=\"dataframe\">\n",
       "  <thead>\n",
       "    <tr style=\"text-align: right;\">\n",
       "      <th></th>\n",
       "      <th>OBJECTID</th>\n",
       "      <th>IncidentName</th>\n",
       "      <th>FeatureCategory</th>\n",
       "      <th>MapMethod</th>\n",
       "      <th>Comments</th>\n",
       "      <th>GISAcres</th>\n",
       "      <th>Label</th>\n",
       "      <th>FeatureAccess</th>\n",
       "      <th>FeatureStatus</th>\n",
       "      <th>IsVisible</th>\n",
       "      <th>...</th>\n",
       "      <th>IMTName</th>\n",
       "      <th>UnitID</th>\n",
       "      <th>LocalIncidentID</th>\n",
       "      <th>IRWINID</th>\n",
       "      <th>GeometryID</th>\n",
       "      <th>GlobalID</th>\n",
       "      <th>GlobalID_2</th>\n",
       "      <th>SHAPE_Length</th>\n",
       "      <th>SHAPE_Area</th>\n",
       "      <th>geometry</th>\n",
       "    </tr>\n",
       "  </thead>\n",
       "  <tbody>\n",
       "    <tr>\n",
       "      <th>1277</th>\n",
       "      <td>96115</td>\n",
       "      <td>Bobcat</td>\n",
       "      <td>Wildfire Daily Fire Perimeter</td>\n",
       "      <td>Mixed Methods</td>\n",
       "      <td>None</td>\n",
       "      <td>113732.229747</td>\n",
       "      <td>None</td>\n",
       "      <td>Public</td>\n",
       "      <td>Approved</td>\n",
       "      <td>Yes</td>\n",
       "      <td>...</td>\n",
       "      <td>CAIIMT1</td>\n",
       "      <td>CA-ANF</td>\n",
       "      <td>003687</td>\n",
       "      <td>{56C3E0AE-98EF-4433-863D-23A5DFF3D0C2}</td>\n",
       "      <td>None</td>\n",
       "      <td>08c9d507-ad7e-4039-84a2-c374c8af93ae</td>\n",
       "      <td>{8E6758A8-D410-4E77-9C8A-3C9DDCF6AEFD}</td>\n",
       "      <td>3.403299</td>\n",
       "      <td>0.045089</td>\n",
       "      <td>MULTIPOLYGON (((-118.07695 34.23638, -118.0766...</td>\n",
       "    </tr>\n",
       "  </tbody>\n",
       "</table>\n",
       "<p>1 rows × 26 columns</p>\n",
       "</div>"
      ],
      "text/plain": [
       "      OBJECTID IncidentName                FeatureCategory      MapMethod  \\\n",
       "1277     96115       Bobcat  Wildfire Daily Fire Perimeter  Mixed Methods   \n",
       "\n",
       "     Comments       GISAcres Label FeatureAccess FeatureStatus IsVisible  ...  \\\n",
       "1277     None  113732.229747  None        Public      Approved       Yes  ...   \n",
       "\n",
       "      IMTName  UnitID LocalIncidentID                                 IRWINID  \\\n",
       "1277  CAIIMT1  CA-ANF          003687  {56C3E0AE-98EF-4433-863D-23A5DFF3D0C2}   \n",
       "\n",
       "     GeometryID                              GlobalID  \\\n",
       "1277       None  08c9d507-ad7e-4039-84a2-c374c8af93ae   \n",
       "\n",
       "                                  GlobalID_2 SHAPE_Length SHAPE_Area  \\\n",
       "1277  {8E6758A8-D410-4E77-9C8A-3C9DDCF6AEFD}     3.403299   0.045089   \n",
       "\n",
       "                                               geometry  \n",
       "1277  MULTIPOLYGON (((-118.07695 34.23638, -118.0766...  \n",
       "\n",
       "[1 rows x 26 columns]"
      ]
     },
     "execution_count": 12,
     "metadata": {},
     "output_type": "execute_result"
    }
   ],
   "source": [
    "bobcat"
   ]
  },
  {
   "cell_type": "code",
   "execution_count": null,
   "metadata": {},
   "outputs": [],
   "source": []
  }
 ],
 "metadata": {
  "kernelspec": {
   "display_name": "Python 3",
   "language": "python",
   "name": "python3"
  },
  "language_info": {
   "codemirror_mode": {
    "name": "ipython",
    "version": 3
   },
   "file_extension": ".py",
   "mimetype": "text/x-python",
   "name": "python",
   "nbconvert_exporter": "python",
   "pygments_lexer": "ipython3",
   "version": "3.7.4"
  }
 },
 "nbformat": 4,
 "nbformat_minor": 4
}
