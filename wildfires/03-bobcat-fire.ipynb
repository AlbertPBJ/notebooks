{
 "cells": [
  {
   "cell_type": "markdown",
   "metadata": {},
   "source": [
    "# Bobcat fire"
   ]
  },
  {
   "cell_type": "code",
   "execution_count": 9,
   "metadata": {},
   "outputs": [
    {
     "data": {
      "text/plain": [
       "ThemeRegistry.enable('latimes')"
      ]
     },
     "execution_count": 9,
     "metadata": {},
     "output_type": "execute_result"
    }
   ],
   "source": [
    "import pandas as pd\n",
    "import geopandas as gpd\n",
    "import numpy as np\n",
    "import matplotlib\n",
    "import matplotlib.pyplot as plt\n",
    "import numpy as np\n",
    "import json\n",
    "import jenkspy\n",
    "import altair_latimes as lat\n",
    "import altair as alt\n",
    "alt.themes.register('latimes', lat.theme)\n",
    "alt.themes.enable('latimes')"
   ]
  },
  {
   "cell_type": "code",
   "execution_count": 44,
   "metadata": {},
   "outputs": [],
   "source": [
    "df = gpd.read_file('input/Bobcat_Progression_20200929/bobcat_progression.geojson')"
   ]
  },
  {
   "cell_type": "code",
   "execution_count": 46,
   "metadata": {},
   "outputs": [],
   "source": [
    "df.iloc[0]"
   ]
  },
  {
   "cell_type": "code",
   "execution_count": 52,
   "metadata": {},
   "outputs": [
    {
     "data": {
      "text/plain": [
       "24"
      ]
     },
     "execution_count": 52,
     "metadata": {},
     "output_type": "execute_result"
    }
   ],
   "source": [
    "len(df)"
   ]
  },
  {
   "cell_type": "markdown",
   "metadata": {},
   "source": [
    "### Create a day column"
   ]
  },
  {
   "cell_type": "code",
   "execution_count": 73,
   "metadata": {},
   "outputs": [],
   "source": [
    "df['day'] = pd.Series(range(1,25)).astype(int)"
   ]
  },
  {
   "cell_type": "markdown",
   "metadata": {},
   "source": [
    "### Clean up the dates for display"
   ]
  },
  {
   "cell_type": "code",
   "execution_count": 77,
   "metadata": {},
   "outputs": [],
   "source": [
    "df['prog_date'] = pd.to_datetime(df['prog_date'])"
   ]
  },
  {
   "cell_type": "code",
   "execution_count": 78,
   "metadata": {},
   "outputs": [],
   "source": [
    "df['display_date'] = df['prog_date'].dt.strftime('%b. %-d ')"
   ]
  },
  {
   "cell_type": "code",
   "execution_count": 80,
   "metadata": {},
   "outputs": [
    {
     "data": {
      "text/html": [
       "<div>\n",
       "<style scoped>\n",
       "    .dataframe tbody tr th:only-of-type {\n",
       "        vertical-align: middle;\n",
       "    }\n",
       "\n",
       "    .dataframe tbody tr th {\n",
       "        vertical-align: top;\n",
       "    }\n",
       "\n",
       "    .dataframe thead th {\n",
       "        text-align: right;\n",
       "    }\n",
       "</style>\n",
       "<table border=\"1\" class=\"dataframe\">\n",
       "  <thead>\n",
       "    <tr style=\"text-align: right;\">\n",
       "      <th></th>\n",
       "      <th>prog_date</th>\n",
       "      <th>Shape_Leng</th>\n",
       "      <th>Shape_Area</th>\n",
       "      <th>growth_ac</th>\n",
       "      <th>total_ac</th>\n",
       "      <th>legend_tex</th>\n",
       "      <th>geometry</th>\n",
       "      <th>day</th>\n",
       "      <th>display_date</th>\n",
       "    </tr>\n",
       "  </thead>\n",
       "  <tbody>\n",
       "    <tr>\n",
       "      <th>0</th>\n",
       "      <td>2020-09-06</td>\n",
       "      <td>24543.640182</td>\n",
       "      <td>1.317591e+07</td>\n",
       "      <td>3256.0</td>\n",
       "      <td>3256</td>\n",
       "      <td>2020-09-06</td>\n",
       "      <td>MULTIPOLYGON Z (((-117.96816 34.24212 0.00000,...</td>\n",
       "      <td>1</td>\n",
       "      <td>Sep. 6</td>\n",
       "    </tr>\n",
       "    <tr>\n",
       "      <th>1</th>\n",
       "      <td>2020-09-07</td>\n",
       "      <td>56037.373751</td>\n",
       "      <td>2.094689e+07</td>\n",
       "      <td>5176.0</td>\n",
       "      <td>8432</td>\n",
       "      <td>2020-09-07</td>\n",
       "      <td>MULTIPOLYGON Z (((-117.91856 34.27793 0.00000,...</td>\n",
       "      <td>2</td>\n",
       "      <td>Sep. 7</td>\n",
       "    </tr>\n",
       "    <tr>\n",
       "      <th>2</th>\n",
       "      <td>2020-09-08</td>\n",
       "      <td>70555.456490</td>\n",
       "      <td>1.186344e+07</td>\n",
       "      <td>2932.0</td>\n",
       "      <td>11363</td>\n",
       "      <td>2020-09-08</td>\n",
       "      <td>MULTIPOLYGON Z (((-117.91619 34.30979 0.00000,...</td>\n",
       "      <td>3</td>\n",
       "      <td>Sep. 8</td>\n",
       "    </tr>\n",
       "    <tr>\n",
       "      <th>3</th>\n",
       "      <td>2020-09-09</td>\n",
       "      <td>79150.048620</td>\n",
       "      <td>3.380963e+07</td>\n",
       "      <td>8355.0</td>\n",
       "      <td>19718</td>\n",
       "      <td>2020-09-09</td>\n",
       "      <td>MULTIPOLYGON Z (((-117.91458 34.31145 0.00000,...</td>\n",
       "      <td>4</td>\n",
       "      <td>Sep. 9</td>\n",
       "    </tr>\n",
       "    <tr>\n",
       "      <th>4</th>\n",
       "      <td>2020-09-10</td>\n",
       "      <td>13.661759</td>\n",
       "      <td>3.662259e+00</td>\n",
       "      <td>0.0</td>\n",
       "      <td>19718</td>\n",
       "      <td>2020-09-10</td>\n",
       "      <td>MULTIPOLYGON Z (((-117.98813 34.22278 0.00000,...</td>\n",
       "      <td>5</td>\n",
       "      <td>Sep. 10</td>\n",
       "    </tr>\n",
       "    <tr>\n",
       "      <th>5</th>\n",
       "      <td>2020-09-11</td>\n",
       "      <td>80644.256953</td>\n",
       "      <td>1.613980e+07</td>\n",
       "      <td>3988.0</td>\n",
       "      <td>23706</td>\n",
       "      <td>2020-09-11</td>\n",
       "      <td>MULTIPOLYGON Z (((-117.85895 34.32614 0.00000,...</td>\n",
       "      <td>6</td>\n",
       "      <td>Sep. 11</td>\n",
       "    </tr>\n",
       "    <tr>\n",
       "      <th>6</th>\n",
       "      <td>2020-09-12</td>\n",
       "      <td>82119.143891</td>\n",
       "      <td>1.005495e+07</td>\n",
       "      <td>2485.0</td>\n",
       "      <td>26191</td>\n",
       "      <td>2020-09-12</td>\n",
       "      <td>MULTIPOLYGON Z (((-117.98225 34.19875 0.00000,...</td>\n",
       "      <td>7</td>\n",
       "      <td>Sep. 12</td>\n",
       "    </tr>\n",
       "    <tr>\n",
       "      <th>7</th>\n",
       "      <td>2020-09-13</td>\n",
       "      <td>5877.859473</td>\n",
       "      <td>7.562361e+02</td>\n",
       "      <td>0.0</td>\n",
       "      <td>26191</td>\n",
       "      <td>2020-09-13</td>\n",
       "      <td>MULTIPOLYGON Z (((-117.88354 34.35090 0.00000,...</td>\n",
       "      <td>8</td>\n",
       "      <td>Sep. 13</td>\n",
       "    </tr>\n",
       "    <tr>\n",
       "      <th>8</th>\n",
       "      <td>2020-09-14</td>\n",
       "      <td>141436.046525</td>\n",
       "      <td>4.809427e+07</td>\n",
       "      <td>11884.0</td>\n",
       "      <td>38075</td>\n",
       "      <td>2020-09-14</td>\n",
       "      <td>MULTIPOLYGON Z (((-117.92898 34.21071 0.00000,...</td>\n",
       "      <td>9</td>\n",
       "      <td>Sep. 14</td>\n",
       "    </tr>\n",
       "    <tr>\n",
       "      <th>9</th>\n",
       "      <td>2020-09-15</td>\n",
       "      <td>96566.506413</td>\n",
       "      <td>1.194442e+07</td>\n",
       "      <td>2952.0</td>\n",
       "      <td>41027</td>\n",
       "      <td>2020-09-15</td>\n",
       "      <td>MULTIPOLYGON Z (((-117.97099 34.17966 0.00000,...</td>\n",
       "      <td>10</td>\n",
       "      <td>Sep. 15</td>\n",
       "    </tr>\n",
       "  </tbody>\n",
       "</table>\n",
       "</div>"
      ],
      "text/plain": [
       "   prog_date     Shape_Leng    Shape_Area  growth_ac  total_ac  legend_tex  \\\n",
       "0 2020-09-06   24543.640182  1.317591e+07     3256.0      3256  2020-09-06   \n",
       "1 2020-09-07   56037.373751  2.094689e+07     5176.0      8432  2020-09-07   \n",
       "2 2020-09-08   70555.456490  1.186344e+07     2932.0     11363  2020-09-08   \n",
       "3 2020-09-09   79150.048620  3.380963e+07     8355.0     19718  2020-09-09   \n",
       "4 2020-09-10      13.661759  3.662259e+00        0.0     19718  2020-09-10   \n",
       "5 2020-09-11   80644.256953  1.613980e+07     3988.0     23706  2020-09-11   \n",
       "6 2020-09-12   82119.143891  1.005495e+07     2485.0     26191  2020-09-12   \n",
       "7 2020-09-13    5877.859473  7.562361e+02        0.0     26191  2020-09-13   \n",
       "8 2020-09-14  141436.046525  4.809427e+07    11884.0     38075  2020-09-14   \n",
       "9 2020-09-15   96566.506413  1.194442e+07     2952.0     41027  2020-09-15   \n",
       "\n",
       "                                            geometry  day display_date  \n",
       "0  MULTIPOLYGON Z (((-117.96816 34.24212 0.00000,...    1      Sep. 6   \n",
       "1  MULTIPOLYGON Z (((-117.91856 34.27793 0.00000,...    2      Sep. 7   \n",
       "2  MULTIPOLYGON Z (((-117.91619 34.30979 0.00000,...    3      Sep. 8   \n",
       "3  MULTIPOLYGON Z (((-117.91458 34.31145 0.00000,...    4      Sep. 9   \n",
       "4  MULTIPOLYGON Z (((-117.98813 34.22278 0.00000,...    5     Sep. 10   \n",
       "5  MULTIPOLYGON Z (((-117.85895 34.32614 0.00000,...    6     Sep. 11   \n",
       "6  MULTIPOLYGON Z (((-117.98225 34.19875 0.00000,...    7     Sep. 12   \n",
       "7  MULTIPOLYGON Z (((-117.88354 34.35090 0.00000,...    8     Sep. 13   \n",
       "8  MULTIPOLYGON Z (((-117.92898 34.21071 0.00000,...    9     Sep. 14   \n",
       "9  MULTIPOLYGON Z (((-117.97099 34.17966 0.00000,...   10     Sep. 15   "
      ]
     },
     "execution_count": 80,
     "metadata": {},
     "output_type": "execute_result"
    }
   ],
   "source": [
    "df.head(10)"
   ]
  },
  {
   "cell_type": "code",
   "execution_count": 81,
   "metadata": {},
   "outputs": [
    {
     "data": {
      "text/plain": [
       "<AxesSubplot:>"
      ]
     },
     "execution_count": 81,
     "metadata": {},
     "output_type": "execute_result"
    },
    {
     "data": {
      "image/png": "[encoded data removed]",
      "text/plain": [
       "<Figure size 432x288 with 1 Axes>"
      ]
     },
     "metadata": {
      "needs_background": "light"
     },
     "output_type": "display_data"
    }
   ],
   "source": [
    "df.plot()"
   ]
  },
  {
   "cell_type": "code",
   "execution_count": 82,
   "metadata": {},
   "outputs": [],
   "source": [
    "df = df.set_crs(\"EPSG:4326\", allow_override=True)"
   ]
  },
  {
   "cell_type": "markdown",
   "metadata": {},
   "source": [
    "### Output to Mapbox"
   ]
  },
  {
   "cell_type": "code",
   "execution_count": 83,
   "metadata": {},
   "outputs": [],
   "source": [
    "df.to_file('output/bobcat_progression.geojson', driver='GeoJSON')"
   ]
  },
  {
   "cell_type": "code",
   "execution_count": 85,
   "metadata": {},
   "outputs": [
    {
     "name": "stdout",
     "output_type": "stream",
     "text": [
      "For layer 0, using name \"bobcat_progression\"\n",
      "output/bobcat_progression.geojson:0: ignoring dimensions beyond two\n",
      "In JSON object [-117.968163600734314,34.242118477026743,0.0]\n",
      "In JSON object {\"type\":\"Feature\",\"properties\":{\"prog_date\":\"2020/09/06 00:00:00\",\"Shape_Leng\":24543.640182300001,\"Shape_Area\":13175913.533600001,\"growth_ac\":3256.0,\"total_ac\":3256,\"legend_tex\":\"2020-09-06\",\"day\":1,\"display_date\":\"Sep. 6 \"},\"geometry\":{\"type\":\"MultiPolygon\",\"coordinates\":[[[[-117.968163600734314,34.242118477026743,0.0],[-117.96820308545378,34.242286086511491,0.0],[-117.96820313566576,34.242286298941814,0.0],[-117.968203032069141,34.2422863556721,0.0],[-117.96831095810596,34.242744413009035,0...\n",
      "24 features, 357749 bytes of geometry, 704 bytes of separate metadata, 2203 bytes of string pool\n",
      "  99.9%  15/5644/13046  \n"
     ]
    }
   ],
   "source": [
    "!tippecanoe --force -z15 -Z6 -o output/bobcat_progression.mbtiles --drop-densest-as-needed output/bobcat_progression.geojson"
   ]
  },
  {
   "cell_type": "code",
   "execution_count": null,
   "metadata": {},
   "outputs": [],
   "source": []
  }
 ],
 "metadata": {
  "kernelspec": {
   "display_name": "Python 3",
   "language": "python",
   "name": "python3"
  },
  "language_info": {
   "codemirror_mode": {
    "name": "ipython",
    "version": 3
   },
   "file_extension": ".py",
   "mimetype": "text/x-python",
   "name": "python",
   "nbconvert_exporter": "python",
   "pygments_lexer": "ipython3",
   "version": "3.7.4"
  }
 },
 "nbformat": 4,
 "nbformat_minor": 4
}
