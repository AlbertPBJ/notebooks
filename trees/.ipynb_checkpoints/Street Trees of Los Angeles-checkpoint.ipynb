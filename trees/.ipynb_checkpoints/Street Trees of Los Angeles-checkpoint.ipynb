{
 "cells": [
  {
   "cell_type": "markdown",
   "metadata": {},
   "source": [
    "# Street trees of Los Angeles"
   ]
  },
  {
   "cell_type": "code",
   "execution_count": 21,
   "metadata": {},
   "outputs": [
    {
     "data": {
      "text/plain": [
       "DataTransformerRegistry.enable('default')"
      ]
     },
     "execution_count": 21,
     "metadata": {},
     "output_type": "execute_result"
    }
   ],
   "source": [
    "import pandas as pd\n",
    "import geopandas as gpd\n",
    "import jenkspy\n",
    "import matplotlib.pyplot as plt\n",
    "%matplotlib inline\n",
    "import json\n",
    "import numpy as np\n",
    "from altair import datum\n",
    "import altair as alt\n",
    "import shapely\n",
    "import altair_latimes as lat\n",
    "alt.themes.register('latimes', lat.theme)\n",
    "alt.themes.enable('latimes')\n",
    "pd.options.display.max_columns = 50\n",
    "pd.options.display.max_rows = 1000\n",
    "alt.data_transformers.disable_max_rows()"
   ]
  },
  {
   "cell_type": "markdown",
   "metadata": {},
   "source": [
    "### Los Angeles"
   ]
  },
  {
   "cell_type": "code",
   "execution_count": 22,
   "metadata": {},
   "outputs": [],
   "source": [
    "# http://geohub.lacity.org/datasets/trees-bureau-of-street-services/geoservice"
   ]
  },
  {
   "cell_type": "code",
   "execution_count": null,
   "metadata": {},
   "outputs": [],
   "source": [
    "la_trees = pd.read_csv('/Users/mhustiles/data/github/data/\\\n",
    "los-angeles-street-trees/los-angeles-city/los-angeles-city.csv')"
   ]
  },
  {
   "cell_type": "code",
   "execution_count": 46,
   "metadata": {},
   "outputs": [],
   "source": [
    "all_trees = pd.read_csv('/Users/mhustiles/Desktop/trees/alltrees.csv')"
   ]
  },
  {
   "cell_type": "code",
   "execution_count": null,
   "metadata": {},
   "outputs": [],
   "source": [
    "la_trees = gpd.GeoDataFrame(\n",
    "    la_trees, geometry=gpd.points_from_xy(la_trees.longitude, la_trees.latitude))"
   ]
  },
  {
   "cell_type": "code",
   "execution_count": 47,
   "metadata": {},
   "outputs": [],
   "source": [
    "all_trees = gpd.GeoDataFrame(\n",
    "    all_trees, geometry=gpd.points_from_xy(all_trees.longitude, all_trees.latitude))"
   ]
  },
  {
   "cell_type": "code",
   "execution_count": null,
   "metadata": {},
   "outputs": [],
   "source": [
    "la_jacaranda = la_trees[la_trees['trees_spec'].str.contains('JACARANDA')]"
   ]
  },
  {
   "cell_type": "code",
   "execution_count": 43,
   "metadata": {},
   "outputs": [
    {
     "data": {
      "text/html": [
       "<div>\n",
       "<style scoped>\n",
       "    .dataframe tbody tr th:only-of-type {\n",
       "        vertical-align: middle;\n",
       "    }\n",
       "\n",
       "    .dataframe tbody tr th {\n",
       "        vertical-align: top;\n",
       "    }\n",
       "\n",
       "    .dataframe thead th {\n",
       "        text-align: right;\n",
       "    }\n",
       "</style>\n",
       "<table border=\"1\" class=\"dataframe\">\n",
       "  <thead>\n",
       "    <tr style=\"text-align: right;\">\n",
       "      <th></th>\n",
       "      <th>trees_ogc_</th>\n",
       "      <th>trees_spec</th>\n",
       "      <th>trees_bota</th>\n",
       "      <th>latitude</th>\n",
       "      <th>longitude</th>\n",
       "      <th>geometry</th>\n",
       "    </tr>\n",
       "  </thead>\n",
       "  <tbody>\n",
       "    <tr>\n",
       "      <td>65</td>\n",
       "      <td>495898</td>\n",
       "      <td>JACARANDA</td>\n",
       "      <td>JACARANDA ACUTIFOLIA</td>\n",
       "      <td>34.047121</td>\n",
       "      <td>-118.422410</td>\n",
       "      <td>POINT (-118.42241 34.04712)</td>\n",
       "    </tr>\n",
       "    <tr>\n",
       "      <td>101</td>\n",
       "      <td>495941</td>\n",
       "      <td>JACARANDA</td>\n",
       "      <td>JACARANDA ACUTIFOLIA</td>\n",
       "      <td>34.160539</td>\n",
       "      <td>-118.395435</td>\n",
       "      <td>POINT (-118.39543 34.16054)</td>\n",
       "    </tr>\n",
       "    <tr>\n",
       "      <td>128</td>\n",
       "      <td>495977</td>\n",
       "      <td>JACARANDA</td>\n",
       "      <td>JACARANDA ACUTIFOLIA</td>\n",
       "      <td>34.161192</td>\n",
       "      <td>-118.395223</td>\n",
       "      <td>POINT (-118.39522 34.16119)</td>\n",
       "    </tr>\n",
       "    <tr>\n",
       "      <td>211</td>\n",
       "      <td>497758</td>\n",
       "      <td>JACARANDA</td>\n",
       "      <td>JACARANDA ACUTIFOLIA</td>\n",
       "      <td>34.037546</td>\n",
       "      <td>-118.428748</td>\n",
       "      <td>POINT (-118.42875 34.03755)</td>\n",
       "    </tr>\n",
       "    <tr>\n",
       "      <td>395</td>\n",
       "      <td>496313</td>\n",
       "      <td>JACARANDA</td>\n",
       "      <td>JACARANDA ACUTIFOLIA</td>\n",
       "      <td>34.055949</td>\n",
       "      <td>-118.348391</td>\n",
       "      <td>POINT (-118.34839 34.05595)</td>\n",
       "    </tr>\n",
       "    <tr>\n",
       "      <td>...</td>\n",
       "      <td>...</td>\n",
       "      <td>...</td>\n",
       "      <td>...</td>\n",
       "      <td>...</td>\n",
       "      <td>...</td>\n",
       "      <td>...</td>\n",
       "    </tr>\n",
       "    <tr>\n",
       "      <td>540539</td>\n",
       "      <td>495548</td>\n",
       "      <td>JACARANDA</td>\n",
       "      <td>JACARANDA ACUTIFOLIA</td>\n",
       "      <td>34.101529</td>\n",
       "      <td>-118.333340</td>\n",
       "      <td>POINT (-118.33334 34.10153)</td>\n",
       "    </tr>\n",
       "    <tr>\n",
       "      <td>540598</td>\n",
       "      <td>495707</td>\n",
       "      <td>JACARANDA</td>\n",
       "      <td>JACARANDA ACUTIFOLIA</td>\n",
       "      <td>34.089971</td>\n",
       "      <td>-118.162997</td>\n",
       "      <td>POINT (-118.16300 34.08997)</td>\n",
       "    </tr>\n",
       "    <tr>\n",
       "      <td>540599</td>\n",
       "      <td>495708</td>\n",
       "      <td>JACARANDA</td>\n",
       "      <td>JACARANDA ACUTIFOLIA</td>\n",
       "      <td>34.082723</td>\n",
       "      <td>-118.163315</td>\n",
       "      <td>POINT (-118.16331 34.08272)</td>\n",
       "    </tr>\n",
       "    <tr>\n",
       "      <td>540606</td>\n",
       "      <td>495714</td>\n",
       "      <td>JACARANDA</td>\n",
       "      <td>JACARANDA ACUTIFOLIA</td>\n",
       "      <td>34.082723</td>\n",
       "      <td>-118.163315</td>\n",
       "      <td>POINT (-118.16331 34.08272)</td>\n",
       "    </tr>\n",
       "    <tr>\n",
       "      <td>540607</td>\n",
       "      <td>495715</td>\n",
       "      <td>JACARANDA</td>\n",
       "      <td>JACARANDA ACUTIFOLIA</td>\n",
       "      <td>34.085075</td>\n",
       "      <td>-118.163466</td>\n",
       "      <td>POINT (-118.16347 34.08508)</td>\n",
       "    </tr>\n",
       "  </tbody>\n",
       "</table>\n",
       "<p>13168 rows × 6 columns</p>\n",
       "</div>"
      ],
      "text/plain": [
       "        trees_ogc_ trees_spec            trees_bota   latitude   longitude  \\\n",
       "65          495898  JACARANDA  JACARANDA ACUTIFOLIA  34.047121 -118.422410   \n",
       "101         495941  JACARANDA  JACARANDA ACUTIFOLIA  34.160539 -118.395435   \n",
       "128         495977  JACARANDA  JACARANDA ACUTIFOLIA  34.161192 -118.395223   \n",
       "211         497758  JACARANDA  JACARANDA ACUTIFOLIA  34.037546 -118.428748   \n",
       "395         496313  JACARANDA  JACARANDA ACUTIFOLIA  34.055949 -118.348391   \n",
       "...            ...        ...                   ...        ...         ...   \n",
       "540539      495548  JACARANDA  JACARANDA ACUTIFOLIA  34.101529 -118.333340   \n",
       "540598      495707  JACARANDA  JACARANDA ACUTIFOLIA  34.089971 -118.162997   \n",
       "540599      495708  JACARANDA  JACARANDA ACUTIFOLIA  34.082723 -118.163315   \n",
       "540606      495714  JACARANDA  JACARANDA ACUTIFOLIA  34.082723 -118.163315   \n",
       "540607      495715  JACARANDA  JACARANDA ACUTIFOLIA  34.085075 -118.163466   \n",
       "\n",
       "                           geometry  \n",
       "65      POINT (-118.42241 34.04712)  \n",
       "101     POINT (-118.39543 34.16054)  \n",
       "128     POINT (-118.39522 34.16119)  \n",
       "211     POINT (-118.42875 34.03755)  \n",
       "395     POINT (-118.34839 34.05595)  \n",
       "...                             ...  \n",
       "540539  POINT (-118.33334 34.10153)  \n",
       "540598  POINT (-118.16300 34.08997)  \n",
       "540599  POINT (-118.16331 34.08272)  \n",
       "540606  POINT (-118.16331 34.08272)  \n",
       "540607  POINT (-118.16347 34.08508)  \n",
       "\n",
       "[13168 rows x 6 columns]"
      ]
     },
     "execution_count": 43,
     "metadata": {},
     "output_type": "execute_result"
    }
   ],
   "source": [
    "jacaranda"
   ]
  },
  {
   "cell_type": "code",
   "execution_count": 41,
   "metadata": {},
   "outputs": [],
   "source": [
    "jacaranda.to_file('output/jacaranda.geojson', driver='GeoJSON')"
   ]
  },
  {
   "cell_type": "code",
   "execution_count": 42,
   "metadata": {},
   "outputs": [
    {
     "name": "stdout",
     "output_type": "stream",
     "text": [
      "For layer 0, using name \"jacaranda\"\n",
      "13168 features, 440561 bytes of geometry, 16 bytes of separate metadata, 445194 bytes of string pool\n",
      "  99.9%  14/2803/6545  \n"
     ]
    }
   ],
   "source": [
    "!tippecanoe --generate-ids --force -r1 -pk -pf -o \\\n",
    "output/jacaranda.mbtiles \\\n",
    "output/jacaranda.geojson"
   ]
  },
  {
   "cell_type": "code",
   "execution_count": null,
   "metadata": {},
   "outputs": [],
   "source": []
  }
 ],
 "metadata": {
  "kernelspec": {
   "display_name": "Python 3",
   "language": "python",
   "name": "python3"
  },
  "language_info": {
   "codemirror_mode": {
    "name": "ipython",
    "version": 3
   },
   "file_extension": ".py",
   "mimetype": "text/x-python",
   "name": "python",
   "nbconvert_exporter": "python",
   "pygments_lexer": "ipython3",
   "version": "3.7.4"
  }
 },
 "nbformat": 4,
 "nbformat_minor": 2
}
