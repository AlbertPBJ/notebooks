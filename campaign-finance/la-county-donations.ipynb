{
 "cells": [
  {
   "cell_type": "markdown",
   "metadata": {},
   "source": [
    "# LA County campaign contributions"
   ]
  },
  {
   "cell_type": "code",
   "execution_count": 47,
   "metadata": {},
   "outputs": [
    {
     "data": {
      "text/plain": [
       "ThemeRegistry.enable('latimes')"
      ]
     },
     "execution_count": 47,
     "metadata": {},
     "output_type": "execute_result"
    }
   ],
   "source": [
    "import pandas as pd\n",
    "import geopandas as gpd\n",
    "import matplotlib as mpl\n",
    "from matplotlib import pyplot as plt\n",
    "from matplotlib import rc\n",
    "%matplotlib inline\n",
    "import numpy as np\n",
    "import geojson\n",
    "import jenkspy\n",
    "import altair as alt\n",
    "import altair_latimes as lat\n",
    "alt.renderers.enable('notebook')\n",
    "alt.themes.register('latimes', lat.theme)\n",
    "alt.themes.enable('latimes')"
   ]
  },
  {
   "cell_type": "code",
   "execution_count": 48,
   "metadata": {},
   "outputs": [],
   "source": [
    "# contributions = []\n",
    "# for f in ['input/2005-2006.xlsx','input/2007-2008.xlsx','input/2008-2009.xlsx','input/2009-2010.xlsx','input/2010-2011.xlsx','input/2011-2012.xlsx','input/2012-2013.xlsx','input/2013-2014.xlsx','input/2014-2015.xlsx','input/2015-2016.xlsx','input/2016-2017.xlsx','input/2017-2018.xlsx','input/2018-2019.xlsx','input/2019-2020.xlsx']:\n",
    "#     data = pd.read_excel(f, 'public_search_results.cfm')\n",
    "#     data.index = [basename(f)] * len(data)\n",
    "#     contributions.append(data)\n",
    "\n",
    "# contributions = pd.concat(contributions, sort=False)\n",
    "# contributions.to_excel(\"output/merged.xlsx\")"
   ]
  },
  {
   "cell_type": "code",
   "execution_count": 49,
   "metadata": {},
   "outputs": [],
   "source": [
    "contributions = pd.read_csv('input/contributions.csv',low_memory=False, dtype={'contributor_zip_code': 'str', 'contributor_zip_code_ext': 'str'})\n",
    "\n",
    "contributions.contributor_address_2 = contributions.contributor_address_2.fillna('')\n",
    "contributions.occupation = contributions.occupation.fillna('')\n",
    "contributions.employer = contributions.employer.fillna('')\n",
    "contributions.description = contributions.description.fillna('')\n",
    "contributions.contributor_first_name = contributions.contributor_first_name.fillna('')\n",
    "contributions.contributor_zip_code_ext = contributions.contributor_zip_code_ext.fillna('')"
   ]
  },
  {
   "cell_type": "markdown",
   "metadata": {},
   "source": [
    "### Clean up the table"
   ]
  },
  {
   "cell_type": "code",
   "execution_count": 50,
   "metadata": {
    "scrolled": false
   },
   "outputs": [
    {
     "data": {
      "text/plain": [
       "Index(['last_name', 'first_name', 'committee_id', 'committee_name',\n",
       "       'office_type', 'district_number', 'schedule', 'type', 'period_beg_date',\n",
       "       'period_end_date', 'election_date', 'date', 'amount_rcvd', 'amount_pd',\n",
       "       'description', 'contributor_first_name', 'contributor_last_name',\n",
       "       'contributor_address', 'contributor_address_2', 'contributor_city',\n",
       "       'contributor_state', 'contributor_zip_code', 'contributor_zip_code_ext',\n",
       "       'occupation', 'employer', 'rec_id', 'cycle'],\n",
       "      dtype='object')"
      ]
     },
     "execution_count": 50,
     "metadata": {},
     "output_type": "execute_result"
    }
   ],
   "source": [
    "contributions.columns"
   ]
  },
  {
   "cell_type": "code",
   "execution_count": 96,
   "metadata": {},
   "outputs": [],
   "source": [
    "contributions['period_beg_date'] = pd.to_datetime(contributions['period_beg_date'])\n",
    "contributions['period_end_date'] = pd.to_datetime(contributions['period_end_date'])\n",
    "contributions['date'] = pd.to_datetime(contributions['date'])\n",
    "contributions['year'], contributions['month'] = contributions['date'].dt.year, contributions['date'].dt.month\n",
    "contributions['year'] = contributions['year'].astype(str)\n",
    "contributions['month'] = contributions['month'].astype(str)\n",
    "contributions['amount_rcvd'] = contributions['amount_rcvd'].astype(int)\n",
    "contributions['monthyear'] = pd.to_datetime(contributions['date']).map(lambda dt: dt.replace(day=1))\n",
    "contributions['candidate'] = contributions['first_name'] + ' ' + contributions['last_name']\n",
    "contributions['candidate'] = contributions['candidate'].str.title()\n",
    "contributions['candidate'] = contributions['candidate'].str.replace(\"Holly J. Mitchell\", \"Holly Mitchell\")\n",
    "contributions['type'] = contributions['type'].str.replace(\"Small Contributor Committee\", \"Small Donor Committee\")\n",
    "contributions['last_name'] = contributions['last_name'].str.upper()\n",
    "contributions['committee_name'] = contributions['committee_name'].str.upper()\n",
    "contributions['first_name'] = contributions['first_name'].str.upper()\n",
    "contributions['months'] = contributions['date'].dt.strftime('%m/%Y').astype(str)\n",
    "contributions[\"nu_contributor_address\"] = contributions[\"contributor_address\"].str.split('#').str[0].str.split(', ').str[0].str.split('Ste').str[0].str.split('Suite').str[0].str.split(',').str[0]"
   ]
  },
  {
   "cell_type": "code",
   "execution_count": 97,
   "metadata": {},
   "outputs": [],
   "source": [
    "contributions['full_address'] =  contributions[\"nu_contributor_address\"] + ', ' + contributions[\"contributor_city\"] + ', ' + contributions[\"contributor_state\"] + ', ' + contributions[\"contributor_zip_code\"].astype(str)"
   ]
  },
  {
   "cell_type": "code",
   "execution_count": 98,
   "metadata": {},
   "outputs": [
    {
     "data": {
      "text/plain": [
       "Index(['last_name', 'first_name', 'committee_id', 'committee_name',\n",
       "       'office_type', 'district_number', 'schedule', 'type', 'period_beg_date',\n",
       "       'period_end_date', 'election_date', 'date', 'amount_rcvd', 'amount_pd',\n",
       "       'description', 'contributor_first_name', 'contributor_last_name',\n",
       "       'contributor_address', 'contributor_address_2', 'contributor_city',\n",
       "       'contributor_state', 'contributor_zip_code', 'contributor_zip_code_ext',\n",
       "       'occupation', 'employer', 'rec_id', 'cycle', 'year', 'month',\n",
       "       'monthyear', 'candidate', 'months', 'contributor_apt_ste',\n",
       "       'full_address', 'nu_contributor_address'],\n",
       "      dtype='object')"
      ]
     },
     "execution_count": 98,
     "metadata": {},
     "output_type": "execute_result"
    }
   ],
   "source": [
    "contributions.head()\n",
    "contributions.columns"
   ]
  },
  {
   "cell_type": "code",
   "execution_count": 99,
   "metadata": {},
   "outputs": [],
   "source": [
    "geocoding = contributions.full_address.unique()"
   ]
  },
  {
   "cell_type": "code",
   "execution_count": 100,
   "metadata": {},
   "outputs": [],
   "source": [
    "geocoding = pd.DataFrame(geocoding)"
   ]
  },
  {
   "cell_type": "code",
   "execution_count": 101,
   "metadata": {},
   "outputs": [],
   "source": [
    "geocoding.to_csv('/Users/mhustiles/Desktop/github/notebooks/campaign-finance/output/addresses.csv')"
   ]
  },
  {
   "cell_type": "code",
   "execution_count": null,
   "metadata": {},
   "outputs": [],
   "source": []
  },
  {
   "cell_type": "code",
   "execution_count": null,
   "metadata": {},
   "outputs": [],
   "source": []
  },
  {
   "cell_type": "code",
   "execution_count": null,
   "metadata": {},
   "outputs": [],
   "source": []
  }
 ],
 "metadata": {
  "kernelspec": {
   "display_name": "Python 3",
   "language": "python",
   "name": "python3"
  },
  "language_info": {
   "codemirror_mode": {
    "name": "ipython",
    "version": 3
   },
   "file_extension": ".py",
   "mimetype": "text/x-python",
   "name": "python",
   "nbconvert_exporter": "python",
   "pygments_lexer": "ipython3",
   "version": "3.6.3rc1"
  }
 },
 "nbformat": 4,
 "nbformat_minor": 2
}
