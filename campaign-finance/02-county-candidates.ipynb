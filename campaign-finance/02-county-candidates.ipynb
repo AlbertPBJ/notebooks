{
 "cells": [
  {
   "cell_type": "markdown",
   "metadata": {},
   "source": [
    "# Donations to L.A. County candidates"
   ]
  },
  {
   "cell_type": "markdown",
   "metadata": {},
   "source": [
    "By [Matt Stiles](https://www.latimes.com/people/matt-stiles) / Los Angeles Times\n",
    "\n",
    "Questions? matt.stiles@latimes.com"
   ]
  },
  {
   "cell_type": "markdown",
   "metadata": {},
   "source": [
    "### Load Python libraries"
   ]
  },
  {
   "cell_type": "code",
   "execution_count": 462,
   "metadata": {},
   "outputs": [
    {
     "data": {
      "text/plain": [
       "RendererRegistry.enable('default')"
      ]
     },
     "execution_count": 462,
     "metadata": {},
     "output_type": "execute_result"
    }
   ],
   "source": [
    "import pandas as pd\n",
    "import geopandas as gpd\n",
    "from urllib.request import urlopen \n",
    "import pyarrow\n",
    "import jenkspy\n",
    "import matplotlib.pyplot as plt\n",
    "%matplotlib inline\n",
    "import json\n",
    "import numpy as np\n",
    "from altair import datum\n",
    "import altair as alt\n",
    "import altair_latimes as lat\n",
    "alt.themes.register('latimes', lat.theme)\n",
    "alt.themes.enable('latimes')\n",
    "alt.renderers.set_embed_options(actions=False)"
   ]
  },
  {
   "cell_type": "markdown",
   "metadata": {},
   "source": [
    "### Read all donations candidates since 2007, downloaded [here](https://efs.lacounty.gov/public_search_results.cfm?viewtype=xl&requesttimeout=1000&showall=yes&rept_type=ALLCon&CITY=la&LNM_CRIT=&FNM_CRIT=&CNM_CRIT=&ST_CRIT=&ZIP_CRIT=&ENM_CRIT=&OCC_CRIT=&S_USER=&S_OFFICE=&CID_CRIT=&CMT_CRIT=&D_BDATE=&D_EDATE=&S_BAMT=&S_EAMT=&ELECTION_ID=29&SCHEDULE=A%2CB%2CC&SUBMITBTN=Search%20Now%20%3D%3D%3E&TO_ELEC_DATE=&FROM_RPT_DATE=&TO_RPT_DATE=), and clean headers"
   ]
  },
  {
   "cell_type": "code",
   "execution_count": 463,
   "metadata": {},
   "outputs": [],
   "source": [
    "src = pd.read_csv('input/donations_20201215.csv',\\\n",
    "                  dtype={'contributor_zip_code': 'str'}, low_memory=False)"
   ]
  },
  {
   "cell_type": "code",
   "execution_count": 464,
   "metadata": {},
   "outputs": [],
   "source": [
    "src.columns = src.columns.str.strip().str.lower().str.replace(' ', '_')\\\n",
    "                    .str.replace('(', '').str.replace(')', '').str.replace('-','_')"
   ]
  },
  {
   "cell_type": "markdown",
   "metadata": {},
   "source": [
    "### How many records we talking?"
   ]
  },
  {
   "cell_type": "code",
   "execution_count": 465,
   "metadata": {},
   "outputs": [
    {
     "data": {
      "text/plain": [
       "90126"
      ]
     },
     "execution_count": 465,
     "metadata": {},
     "output_type": "execute_result"
    }
   ],
   "source": [
    "len(src)"
   ]
  },
  {
   "cell_type": "markdown",
   "metadata": {},
   "source": [
    "### Create a clean dataframe from the original import"
   ]
  },
  {
   "cell_type": "code",
   "execution_count": 466,
   "metadata": {},
   "outputs": [],
   "source": [
    "contributions = pd.DataFrame(src)"
   ]
  },
  {
   "cell_type": "markdown",
   "metadata": {},
   "source": [
    "### Clean up null values the table and other quirks"
   ]
  },
  {
   "cell_type": "code",
   "execution_count": 467,
   "metadata": {},
   "outputs": [],
   "source": [
    "contributions.contributor_address_2 = contributions.contributor_address_2.fillna('')\n",
    "contributions.occupation = contributions.occupation.fillna('')\n",
    "contributions.employer = contributions.employer.fillna('')\n",
    "contributions.description = contributions.description.fillna('')\n",
    "contributions.contributor_first_name = contributions.contributor_first_name.fillna('')\n",
    "contributions.contributor_zip_code_ext = contributions.contributor_zip_code_ext.fillna('')"
   ]
  },
  {
   "cell_type": "code",
   "execution_count": 468,
   "metadata": {},
   "outputs": [],
   "source": [
    "date_cols = ['period_beg_date', 'period_end_date', 'election_date', 'date']"
   ]
  },
  {
   "cell_type": "code",
   "execution_count": 469,
   "metadata": {},
   "outputs": [],
   "source": [
    "for d in contributions[date_cols]:\n",
    "    contributions[d] = contributions[d].str.replace('00:00.0', '', regex=False)"
   ]
  },
  {
   "cell_type": "code",
   "execution_count": 470,
   "metadata": {},
   "outputs": [],
   "source": [
    "contributions = contributions[~contributions['date'].notnull()]"
   ]
  },
  {
   "cell_type": "code",
   "execution_count": 471,
   "metadata": {},
   "outputs": [],
   "source": [
    "contributions['amount_rcvd'] = contributions['amount_rcvd'].astype(int)\n",
    "contributions['monthyear'] = pd.to_datetime(contributions['date']).map(lambda dt: dt.replace(day=1))\n",
    "contributions['type'] = contributions['type'].str.replace(\"Small Contributor Committee\", \"Small Donor Committee\")\n",
    "contributions['first_name'] = contributions['first_name'].str.upper()\n",
    "contributions['last_name'] = contributions['last_name'].str.upper()\n",
    "contributions['committee_name'] = contributions['committee_name'].str.upper()\n",
    "contributions['contributor_zip_code'] = contributions['contributor_zip_code'].astype(str).str.zfill(5)\n",
    "contributions['contributor_zip_code'] = contributions['contributor_zip_code'].str.replace('.0','',regex=False)"
   ]
  },
  {
   "cell_type": "code",
   "execution_count": 472,
   "metadata": {},
   "outputs": [],
   "source": [
    "contributions['candidate_name'] =  contributions[\"first_name\"].str.title() + ' ' + contributions[\"last_name\"].str.title()\n",
    "contributions['candidate_name'] = contributions['candidate_name'].str.replace('Holly J. Mitchell', 'Holly Mitchell')\n",
    "contributions['first_name'] = contributions['first_name'].str.replace('HOLLY J.', 'HOLLY')"
   ]
  },
  {
   "cell_type": "markdown",
   "metadata": {},
   "source": [
    "### Change the zip code field so it merges with other tables later"
   ]
  },
  {
   "cell_type": "code",
   "execution_count": 473,
   "metadata": {},
   "outputs": [],
   "source": [
    "contributions.rename(columns={\"contributor_zip_code\": \"zipcode\"}, inplace=True)"
   ]
  },
  {
   "cell_type": "markdown",
   "metadata": {},
   "source": [
    "### What do the records look like?"
   ]
  },
  {
   "cell_type": "code",
   "execution_count": 474,
   "metadata": {},
   "outputs": [
    {
     "data": {
      "text/plain": [
       "last_name                                       NaN\n",
       "first_name                                      NaN\n",
       "committee_id                                    NaN\n",
       "committee_name                                  NaN\n",
       "office_type                                     NaN\n",
       "district_number                                 NaN\n",
       "schedule                                          A\n",
       "type                                            NaN\n",
       "period_beg_date                                 NaN\n",
       "period_end_date                                 NaN\n",
       "election_date                                   NaN\n",
       "date                                            NaN\n",
       "amount_rcvd                                   42310\n",
       "amount_pd                                       NaN\n",
       "description                 Unitemized - Schedule A\n",
       "contributor_first_name                             \n",
       "contributor_last_name                           NaN\n",
       "contributor_address                             NaN\n",
       "contributor_address_2                              \n",
       "contributor_city                                NaN\n",
       "contributor_state                               NaN\n",
       "zipcode                                       00nan\n",
       "contributor_zip_code_ext                           \n",
       "occupation                                         \n",
       "employer                                           \n",
       "int_name                                        NaN\n",
       "int_city                                        NaN\n",
       "int_state                                       NaN\n",
       "int_zip_code                                    NaN\n",
       "int_occupation                                  NaN\n",
       "int_employer                                    NaN\n",
       "doc_id                                          NaN\n",
       "rec_id                                          NaN\n",
       "x                                               NaN\n",
       "monthyear                                       NaT\n",
       "candidate_name                                  NaN\n",
       "Name: 90124, dtype: object"
      ]
     },
     "execution_count": 474,
     "metadata": {},
     "output_type": "execute_result"
    }
   ],
   "source": [
    "contributions.iloc[0]"
   ]
  },
  {
   "cell_type": "markdown",
   "metadata": {},
   "source": [
    "### Sluggify candidate names"
   ]
  },
  {
   "cell_type": "code",
   "execution_count": 214,
   "metadata": {},
   "outputs": [],
   "source": [
    "contributions['candidate_slug'] =  \\\n",
    "    contributions[\"first_name\"].str.lower() + '_' + contributions[\"last_name\"].str.lower()\n",
    "contributions['candidate_slug']\\\n",
    "= contributions['candidate_slug'].\\\n",
    "str.strip().str.lower().str.replace(\\\n",
    "                    ' ', '_').str.replace('(', '').str.replace(')', '')\\\n",
    ".str.replace('.', '').str.replace('\\'', '')"
   ]
  },
  {
   "cell_type": "markdown",
   "metadata": {},
   "source": [
    "### Process the dates now to make life easier througout"
   ]
  },
  {
   "cell_type": "code",
   "execution_count": 215,
   "metadata": {},
   "outputs": [],
   "source": [
    "contributions['date'] = pd.to_datetime(contributions['date'])\n",
    "contributions['year'], contributions['month'] = contributions['date'].dt.year, contributions['date'].dt.month\n",
    "contributions['year'] = contributions['year'].astype(str)\n",
    "contributions['month'] = contributions['month'].astype(str)\n",
    "contributions['months'] = contributions['date'].dt.strftime('%m/%Y').astype(str)\n",
    "contributions['week'] = contributions['date'].dt.isocalendar().week\n",
    "contributions['week'] = contributions['week'].astype(str)"
   ]
  },
  {
   "cell_type": "markdown",
   "metadata": {},
   "source": [
    "### Filter data for recent contributions"
   ]
  },
  {
   "cell_type": "code",
   "execution_count": 219,
   "metadata": {},
   "outputs": [],
   "source": [
    "recent_contributions = contributions[(contributions['date'] > '2019-01-01')]"
   ]
  },
  {
   "cell_type": "code",
   "execution_count": 218,
   "metadata": {},
   "outputs": [
    {
     "data": {
      "text/plain": [
       "last_name                           object\n",
       "first_name                          object\n",
       "committee_id                        object\n",
       "committee_name                      object\n",
       "office_type                         object\n",
       "district_number                     object\n",
       "schedule                            object\n",
       "type                                object\n",
       "period_beg_date                     object\n",
       "period_end_date                     object\n",
       "election_date                       object\n",
       "date                        datetime64[ns]\n",
       "amount_rcvd                          int64\n",
       "amount_pd                          float64\n",
       "description                         object\n",
       "contributor_first_name              object\n",
       "contributor_last_name               object\n",
       "contributor_address                float64\n",
       "contributor_address_2               object\n",
       "contributor_city                    object\n",
       "contributor_state                   object\n",
       "zipcode                             object\n",
       "contributor_zip_code_ext            object\n",
       "occupation                          object\n",
       "employer                            object\n",
       "int_name                            object\n",
       "int_city                            object\n",
       "int_state                           object\n",
       "int_zip_code                        object\n",
       "int_occupation                      object\n",
       "int_employer                        object\n",
       "doc_id                             float64\n",
       "rec_id                             float64\n",
       "x                                  float64\n",
       "monthyear                   datetime64[ns]\n",
       "candidate_name                      object\n",
       "candidate_slug                      object\n",
       "year                                object\n",
       "month                               object\n",
       "months                              object\n",
       "week                                object\n",
       "dtype: object"
      ]
     },
     "execution_count": 218,
     "metadata": {},
     "output_type": "execute_result"
    }
   ],
   "source": [
    "recent_contributions.dtypes"
   ]
  },
  {
   "cell_type": "code",
   "execution_count": null,
   "metadata": {},
   "outputs": [],
   "source": []
  },
  {
   "cell_type": "code",
   "execution_count": null,
   "metadata": {},
   "outputs": [],
   "source": []
  }
 ],
 "metadata": {
  "kernelspec": {
   "display_name": "Python 3",
   "language": "python",
   "name": "python3"
  },
  "language_info": {
   "codemirror_mode": {
    "name": "ipython",
    "version": 3
   },
   "file_extension": ".py",
   "mimetype": "text/x-python",
   "name": "python",
   "nbconvert_exporter": "python",
   "pygments_lexer": "ipython3",
   "version": "3.7.4"
  }
 },
 "nbformat": 4,
 "nbformat_minor": 4
}
