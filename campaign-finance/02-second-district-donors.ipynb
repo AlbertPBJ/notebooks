{
 "cells": [
  {
   "cell_type": "markdown",
   "metadata": {},
   "source": [
    "# LA County Board of Supervisors\n",
    "An analysis of donations to 2nd District candidates"
   ]
  },
  {
   "cell_type": "markdown",
   "metadata": {},
   "source": [
    "### Read libraries"
   ]
  },
  {
   "cell_type": "code",
   "execution_count": 41,
   "metadata": {},
   "outputs": [
    {
     "data": {
      "text/plain": [
       "RendererRegistry.enable('notebook')"
      ]
     },
     "execution_count": 41,
     "metadata": {},
     "output_type": "execute_result"
    }
   ],
   "source": [
    "import json\n",
    "import pandas as pd\n",
    "import geopandas as gpd\n",
    "from matplotlib import pyplot as plt\n",
    "from matplotlib import rc\n",
    "%matplotlib inline\n",
    "import numpy as np\n",
    "import geojson\n",
    "import jenkspy\n",
    "import altair as alt\n",
    "alt.renderers.enable('notebook')\n",
    "import altair as alt\n",
    "import altair_latimes as lat\n",
    "alt.renderers.enable('notebook')"
   ]
  },
  {
   "cell_type": "markdown",
   "metadata": {},
   "source": [
    "### Load full list of donations to county candidates since 2007"
   ]
  },
  {
   "cell_type": "code",
   "execution_count": 42,
   "metadata": {},
   "outputs": [],
   "source": [
    "contributions = pd.read_csv('input/contributions.csv',low_memory=False, dtype={'contributor_zip_code': 'str', 'contributor_zip_code_ext': 'str'})\n",
    "\n",
    "contributions.contributor_address_2 = contributions.contributor_address_2.fillna('')\n",
    "contributions.occupation = contributions.occupation.fillna('')\n",
    "contributions.employer = contributions.employer.fillna('')\n",
    "contributions.description = contributions.description.fillna('')\n",
    "contributions.contributor_first_name = contributions.contributor_first_name.fillna('')\n",
    "contributions.contributor_zip_code_ext = contributions.contributor_zip_code_ext.fillna('')"
   ]
  },
  {
   "cell_type": "code",
   "execution_count": 43,
   "metadata": {},
   "outputs": [
    {
     "data": {
      "text/plain": [
       "Index(['last_name', 'first_name', 'committee_id', 'committee_name',\n",
       "       'office_type', 'district_number', 'schedule', 'type', 'period_beg_date',\n",
       "       'period_end_date', 'election_date', 'date', 'amount_rcvd', 'amount_pd',\n",
       "       'description', 'contributor_first_name', 'contributor_last_name',\n",
       "       'contributor_address', 'contributor_address_2', 'contributor_city',\n",
       "       'contributor_state', 'contributor_zip_code', 'contributor_zip_code_ext',\n",
       "       'occupation', 'employer', 'rec_id', 'cycle'],\n",
       "      dtype='object')"
      ]
     },
     "execution_count": 43,
     "metadata": {},
     "output_type": "execute_result"
    }
   ],
   "source": [
    "contributions.columns"
   ]
  },
  {
   "cell_type": "markdown",
   "metadata": {},
   "source": [
    "### Clean up the table"
   ]
  },
  {
   "cell_type": "code",
   "execution_count": 44,
   "metadata": {},
   "outputs": [],
   "source": [
    "#names\n",
    "contributions['amount_rcvd'] = contributions['amount_rcvd'].astype(int)\n",
    "contributions['monthyear'] = pd.to_datetime(contributions['date']).map(lambda dt: dt.replace(day=1))\n",
    "contributions['type'] = contributions['type'].str.replace(\"Small Contributor Committee\", \"Small Donor Committee\")\n",
    "contributions['first_name'] = contributions['first_name'].str.upper()\n",
    "contributions['last_name'] = contributions['last_name'].str.upper()\n",
    "contributions['occupation'] = contributions['occupation'].str.upper()\n",
    "contributions['employer'] = contributions['employer'].str.upper()\n",
    "contributions['committee_name'] = contributions['committee_name'].str.upper()\n",
    "contributions['candidate_name'] =  contributions[\"first_name\"].str.title() + ' ' + contributions[\"last_name\"].str.title()\n",
    "contributions['candidate_name'] = contributions['candidate_name'].str.replace('Holly J. Mitchell', 'Holly Mitchell')\n",
    "contributions['first_name'] = contributions['first_name'].str.replace('HOLLY J.', 'HOLLY')\n",
    "contributions[\"nu_contributor_address\"] = contributions[\"contributor_address\"].str.split('#').str[0].str.split(', ').str[0].str.split('Ste').str[0].str.split('Suite').str[0].str.split(',').str[0]\n",
    "contributions['full_address'] =  contributions[\"nu_contributor_address\"] + ', ' + contributions[\"contributor_city\"] + ', ' + contributions[\"contributor_state\"] + ', ' + contributions[\"contributor_zip_code\"].astype(str)\n",
    "contributions['candidate_slug'] =  contributions[\"first_name\"].str.lower() + '_' + contributions[\"last_name\"].str.lower()\n",
    "contributions['candidate_slug'] = contributions['candidate_slug'].str.strip().str.lower().str.replace(' ', '_').str.replace('(', '').str.replace(')', '').str.replace('.', '').str.replace('\\'', '')\n",
    "\n",
    "#time\n",
    "contributions['date'] = pd.to_datetime(contributions['date'])\n",
    "contributions['year'], contributions['month'] = contributions['date'].dt.year, contributions['date'].dt.month\n",
    "contributions['year'] = contributions['year'].astype(str)\n",
    "contributions['month'] = contributions['month'].astype(str)\n",
    "contributions['months'] = contributions['date'].dt.strftime('%m/%Y').astype(str)\n",
    "contributions['week'] = contributions['date'].dt.week\n",
    "contributions['week'] = contributions['week'].astype(str)"
   ]
  },
  {
   "cell_type": "markdown",
   "metadata": {},
   "source": [
    "### Filter data for recent contributions and money in the District 2 race"
   ]
  },
  {
   "cell_type": "code",
   "execution_count": 32,
   "metadata": {},
   "outputs": [],
   "source": [
    "recent_contributions = contributions[(contributions['date'] > '2018-06-30')]\n",
    "second_district_candidates = (['Holly Mitchell','Herb Wesson','Jan Perry','Chan Jeong'])\n",
    "districttwo = recent_contributions[recent_contributions['candidate_name'].isin(second_district_candidates)]"
   ]
  },
  {
   "cell_type": "code",
   "execution_count": 33,
   "metadata": {},
   "outputs": [],
   "source": [
    "districttwo[['candidate_name','contributor_first_name', 'contributor_last_name','occupation', 'employer','amount_rcvd']]"
   ]
  },
  {
   "cell_type": "code",
   "execution_count": 34,
   "metadata": {},
   "outputs": [],
   "source": [
    "districttwo_indiv = districttwo[districttwo.type == 'I']"
   ]
  },
  {
   "cell_type": "code",
   "execution_count": 35,
   "metadata": {},
   "outputs": [],
   "source": [
    "districttwo_indiv"
   ]
  },
  {
   "cell_type": "markdown",
   "metadata": {},
   "source": [
    "### How much did each occupation give?"
   ]
  },
  {
   "cell_type": "code",
   "execution_count": 36,
   "metadata": {},
   "outputs": [],
   "source": [
    "second_district_occupations = districttwo_indiv.groupby(['occupation'])['amount_rcvd'].sum().reset_index().sort_values(by='occupation', ascending=True)"
   ]
  },
  {
   "cell_type": "code",
   "execution_count": 37,
   "metadata": {},
   "outputs": [],
   "source": [
    "# second_candidates_occupations_pivot = pd.pivot_table(second_district_occupations,values='amount_rcvd', index=['occupation'], columns=['candidate_name'], aggfunc=[np.sum], fill_value='0').reset_index()"
   ]
  },
  {
   "cell_type": "code",
   "execution_count": 38,
   "metadata": {},
   "outputs": [],
   "source": [
    "second_district_occupations"
   ]
  },
  {
   "cell_type": "code",
   "execution_count": 39,
   "metadata": {},
   "outputs": [],
   "source": [
    "contributions.columns"
   ]
  },
  {
   "cell_type": "markdown",
   "metadata": {},
   "source": [
    "### Specific donor lookup"
   ]
  },
  {
   "cell_type": "code",
   "execution_count": 40,
   "metadata": {},
   "outputs": [],
   "source": [
    "contributions[contributions['contributor_last_name'].str.contains('Juul')]"
   ]
  },
  {
   "cell_type": "code",
   "execution_count": null,
   "metadata": {},
   "outputs": [],
   "source": []
  },
  {
   "cell_type": "code",
   "execution_count": null,
   "metadata": {},
   "outputs": [],
   "source": []
  }
 ],
 "metadata": {
  "kernelspec": {
   "display_name": "Python 3",
   "language": "python",
   "name": "python3"
  },
  "language_info": {
   "codemirror_mode": {
    "name": "ipython",
    "version": 3
   },
   "file_extension": ".py",
   "mimetype": "text/x-python",
   "name": "python",
   "nbconvert_exporter": "python",
   "pygments_lexer": "ipython3",
   "version": "3.6.3rc1"
  }
 },
 "nbformat": 4,
 "nbformat_minor": 2
}
