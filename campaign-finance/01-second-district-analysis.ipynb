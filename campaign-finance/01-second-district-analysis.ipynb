{
 "cells": [
  {
   "cell_type": "markdown",
   "metadata": {},
   "source": [
    "# LA County Board of Supervisors\n",
    "An analysis of donations to 2nd District candidates"
   ]
  },
  {
   "cell_type": "markdown",
   "metadata": {},
   "source": [
    "### Read libraries"
   ]
  },
  {
   "cell_type": "code",
   "execution_count": 1,
   "metadata": {},
   "outputs": [],
   "source": [
    "import json\n",
    "import pandas as pd\n",
    "import geopandas as gpd\n",
    "from matplotlib import pyplot as plt\n",
    "from matplotlib import rc\n",
    "%matplotlib inline\n",
    "import numpy as np\n",
    "import geojson\n",
    "import jenkspy\n",
    "import altair as alt\n",
    "alt.renderers.enable('notebook')\n",
    "\n",
    "import altair as alt\n",
    "import altair_latimes as lat\n",
    "alt.renderers.enable('notebook')\n",
    "# alt.themes.register('latimes', lat.theme)\n",
    "# alt.themes.enable('latimes')"
   ]
  },
  {
   "cell_type": "markdown",
   "metadata": {},
   "source": [
    "### Load full list of donations to county candidates since 2007"
   ]
  },
  {
   "cell_type": "code",
   "execution_count": 2,
   "metadata": {},
   "outputs": [],
   "source": [
    "contributions = pd.read_csv('input/contributions.csv',low_memory=False, dtype={'contributor_zip_code': 'str', 'contributor_zip_code_ext': 'str'})\n",
    "\n",
    "contributions.contributor_address_2 = contributions.contributor_address_2.fillna('')\n",
    "contributions.occupation = contributions.occupation.fillna('')\n",
    "contributions.employer = contributions.employer.fillna('')\n",
    "contributions.description = contributions.description.fillna('')\n",
    "contributions.contributor_first_name = contributions.contributor_first_name.fillna('')\n",
    "contributions.contributor_zip_code_ext = contributions.contributor_zip_code_ext.fillna('')"
   ]
  },
  {
   "cell_type": "markdown",
   "metadata": {},
   "source": [
    "### Clean up the table"
   ]
  },
  {
   "cell_type": "code",
   "execution_count": 3,
   "metadata": {},
   "outputs": [],
   "source": [
    "#names\n",
    "contributions['amount_rcvd'] = contributions['amount_rcvd'].astype(int)\n",
    "contributions['monthyear'] = pd.to_datetime(contributions['date']).map(lambda dt: dt.replace(day=1))\n",
    "contributions['type'] = contributions['type'].str.replace(\"Small Contributor Committee\", \"Small Donor Committee\")\n",
    "contributions['first_name'] = contributions['first_name'].str.upper()\n",
    "contributions['last_name'] = contributions['last_name'].str.upper()\n",
    "contributions['committee_name'] = contributions['committee_name'].str.upper()\n",
    "contributions['candidate_name'] =  contributions[\"first_name\"].str.title() + ' ' + contributions[\"last_name\"].str.title()\n",
    "contributions['candidate_name'] = contributions['candidate_name'].str.replace('Holly J. Mitchell', 'Holly Mitchell')\n",
    "contributions['first_name'] = contributions['first_name'].str.replace('HOLLY J.', 'HOLLY')\n",
    "contributions[\"nu_contributor_address\"] = contributions[\"contributor_address\"].str.split('#').str[0].str.split(', ').str[0].str.split('Ste').str[0].str.split('Suite').str[0].str.split(',').str[0]\n",
    "contributions['full_address'] =  contributions[\"nu_contributor_address\"] + ', ' + contributions[\"contributor_city\"] + ', ' + contributions[\"contributor_state\"] + ', ' + contributions[\"contributor_zip_code\"].astype(str)\n",
    "contributions['candidate_slug'] =  contributions[\"first_name\"].str.lower() + '_' + contributions[\"last_name\"].str.lower()\n",
    "contributions['candidate_slug'] = contributions['candidate_slug'].str.strip().str.lower().str.replace(' ', '_').str.replace('(', '').str.replace(')', '').str.replace('.', '').str.replace('\\'', '')\n",
    "\n",
    "#time\n",
    "contributions['date'] = pd.to_datetime(contributions['date'])\n",
    "contributions['year'], contributions['month'] = contributions['date'].dt.year, contributions['date'].dt.month\n",
    "contributions['year'] = contributions['year'].astype(str)\n",
    "contributions['month'] = contributions['month'].astype(str)\n",
    "contributions['months'] = contributions['date'].dt.strftime('%m/%Y').astype(str)\n",
    "contributions['week'] = contributions['date'].dt.week\n",
    "contributions['week'] = contributions['week'].astype(str)"
   ]
  },
  {
   "cell_type": "markdown",
   "metadata": {},
   "source": [
    "### Filter data for recent contributions and money in the District 2 race"
   ]
  },
  {
   "cell_type": "code",
   "execution_count": 4,
   "metadata": {},
   "outputs": [],
   "source": [
    "recent_contributions = contributions[(contributions['date'] > '2018-06-30')]\n",
    "second_district_candidates = (['Holly Mitchell','Herb Wesson','Jan Perry','Chan Jeong'])\n",
    "districttwo = recent_contributions[recent_contributions['candidate_name'].isin(second_district_candidates)]"
   ]
  },
  {
   "cell_type": "code",
   "execution_count": 5,
   "metadata": {},
   "outputs": [],
   "source": [
    "districttwo.candidate_name.value_counts()"
   ]
  },
  {
   "cell_type": "markdown",
   "metadata": {},
   "source": [
    "### How much did the candidates raise from all locations? "
   ]
  },
  {
   "cell_type": "code",
   "execution_count": 6,
   "metadata": {},
   "outputs": [],
   "source": [
    "second_district_totals = districttwo.groupby(['candidate_name'])['amount_rcvd'].sum().reset_index().sort_values(by='candidate_name', ascending=False)"
   ]
  },
  {
   "cell_type": "code",
   "execution_count": 7,
   "metadata": {},
   "outputs": [],
   "source": [
    "second_district_totals"
   ]
  },
  {
   "cell_type": "code",
   "execution_count": 8,
   "metadata": {},
   "outputs": [],
   "source": [
    "sum_all_donations = second_district_totals['amount_rcvd'].sum()"
   ]
  },
  {
   "cell_type": "code",
   "execution_count": 9,
   "metadata": {},
   "outputs": [],
   "source": [
    "second_district_avg = districttwo.groupby(['candidate_name'])['amount_rcvd'].mean().reset_index().sort_values(by='candidate_name', ascending=False)"
   ]
  },
  {
   "cell_type": "code",
   "execution_count": 10,
   "metadata": {},
   "outputs": [],
   "source": [
    "second_district_avg.round()"
   ]
  },
  {
   "cell_type": "code",
   "execution_count": 11,
   "metadata": {},
   "outputs": [],
   "source": [
    "districttwo.to_csv('output/district_two.csv')"
   ]
  },
  {
   "cell_type": "markdown",
   "metadata": {},
   "source": [
    "### How many individual donations did each candidate receive? "
   ]
  },
  {
   "cell_type": "code",
   "execution_count": 12,
   "metadata": {},
   "outputs": [],
   "source": [
    "#Remap donation 'type' codes to be more descriptive\n",
    "# abbr_indiv_types = {'C' : 'Committee', 'I' : 'Individual', 'O' : 'Other', 'S' : 'Small Committee'}\n",
    "abbr_indiv_else = {'C' : 'Other', 'I' : 'Individual', 'O' : 'Other', 'S' : 'Other'}\n",
    "districttwo = districttwo.replace({\"type\": abbr_indiv_else})"
   ]
  },
  {
   "cell_type": "code",
   "execution_count": 13,
   "metadata": {},
   "outputs": [],
   "source": [
    "second_district_indiv = pd.pivot_table(districttwo, values='amount_rcvd', index=['candidate_name'], columns=['type'], aggfunc=[np.size], fill_value='0').reset_index()\n",
    "\n",
    "second_district_indiv.reset_index()"
   ]
  },
  {
   "cell_type": "markdown",
   "metadata": {},
   "source": [
    "### Which share of each candidates donations came from individuals?"
   ]
  },
  {
   "cell_type": "code",
   "execution_count": 14,
   "metadata": {},
   "outputs": [],
   "source": [
    "indiv_share = pd.pivot_table(districttwo, values=[\"amount_rcvd\"],\n",
    "                       index=[\"candidate_name\"], columns=[\"type\"], \n",
    "                       aggfunc=len, margins=True, \n",
    "                       dropna=True, fill_value=0)\n",
    "indiv_share_table = indiv_share.div(indiv_share.iloc[:,-1], axis=0).round(2)*100\n",
    "indiv_share_table.reset_index()"
   ]
  },
  {
   "cell_type": "markdown",
   "metadata": {},
   "source": [
    "### Normalized bar chart for the share of individual donations"
   ]
  },
  {
   "cell_type": "code",
   "execution_count": 15,
   "metadata": {},
   "outputs": [],
   "source": [
    "bars = alt.Chart(districttwo, title='Share of donations from individuals').mark_bar().encode(\n",
    "    x=alt.X('sum(amount_rcvd)', stack=\"normalize\", title=\"Share of donations\",axis=alt.Axis(format='%', tickCount=6)),\n",
    "    y=alt.Y('candidate_name', title=\"\"),\n",
    "    color=alt.Color('type',legend=alt.Legend(title=\"\", orient='top')),\n",
    "    order=alt.Order('sum(amount_rcvd)', sort='ascending')\n",
    ")\n",
    "\n",
    "(bars).properties(height=175, width=800)"
   ]
  },
  {
   "cell_type": "markdown",
   "metadata": {},
   "source": [
    "## Where exactly is each donation? "
   ]
  },
  {
   "cell_type": "code",
   "execution_count": 16,
   "metadata": {},
   "outputs": [],
   "source": [
    "#after geocoder.ipynb runs, import raw table with lat/lon for each grouped address in 'contributions'\n",
    "\n",
    "geocoded = pd.read_csv('/Users/mhustiles/Desktop/github/notebooks/campaign-finance/input/geocoded.csv')"
   ]
  },
  {
   "cell_type": "code",
   "execution_count": 17,
   "metadata": {},
   "outputs": [],
   "source": [
    "geocoded.head(1)"
   ]
  },
  {
   "cell_type": "markdown",
   "metadata": {},
   "source": [
    "### How good was Google's geocoding API? "
   ]
  },
  {
   "cell_type": "code",
   "execution_count": 18,
   "metadata": {},
   "outputs": [],
   "source": [
    "geocoded.accuracy.value_counts()"
   ]
  },
  {
   "cell_type": "code",
   "execution_count": 19,
   "metadata": {},
   "outputs": [],
   "source": [
    "geocoded_clean = geocoded[['accuracy', 'formatted_address', 'input_string', 'latitude', 'longitude']]"
   ]
  },
  {
   "cell_type": "markdown",
   "metadata": {},
   "source": [
    "### Merge geocoded data onto our 2nd District contributions table"
   ]
  },
  {
   "cell_type": "code",
   "execution_count": 20,
   "metadata": {},
   "outputs": [],
   "source": [
    "geocoded_join = districttwo.merge(geocoded_clean,left_on='full_address', right_on='input_string', how='left')"
   ]
  },
  {
   "cell_type": "code",
   "execution_count": 21,
   "metadata": {},
   "outputs": [],
   "source": [
    "len(geocoded_join)"
   ]
  },
  {
   "cell_type": "code",
   "execution_count": 22,
   "metadata": {},
   "outputs": [],
   "source": [
    "geocoded_join.groupby([\"accuracy\"])[\"amount_rcvd\"].size()"
   ]
  },
  {
   "cell_type": "code",
   "execution_count": 23,
   "metadata": {
    "scrolled": false
   },
   "outputs": [],
   "source": [
    "(((geocoded_join.amount_rcvd.sum() - geocoded_join[geocoded_join.accuracy != \"ROOFTOP\"].amount_rcvd.sum()) / geocoded_join.amount_rcvd.sum())*100).round(2)"
   ]
  },
  {
   "cell_type": "markdown",
   "metadata": {},
   "source": [
    "### Let's eliminate donations where Google could find the address. "
   ]
  },
  {
   "cell_type": "code",
   "execution_count": 24,
   "metadata": {},
   "outputs": [],
   "source": [
    "geocoded_join = geocoded_join[geocoded_join.accuracy == \"ROOFTOP\"]"
   ]
  },
  {
   "cell_type": "code",
   "execution_count": 25,
   "metadata": {
    "scrolled": true
   },
   "outputs": [],
   "source": [
    "len(geocoded_join)"
   ]
  },
  {
   "cell_type": "markdown",
   "metadata": {},
   "source": [
    "### Transform locations dataframe into Geo DataFrame (with appropriate coordinate system)"
   ]
  },
  {
   "cell_type": "code",
   "execution_count": 26,
   "metadata": {},
   "outputs": [],
   "source": [
    "geocoded_join_gdf = gpd.GeoDataFrame(geocoded_join, geometry=gpd.points_from_xy(geocoded_join.longitude, geocoded_join.latitude))"
   ]
  },
  {
   "cell_type": "code",
   "execution_count": 27,
   "metadata": {},
   "outputs": [],
   "source": [
    "geocoded_join_gdf.crs = {'init': \"epsg:4326\"}"
   ]
  },
  {
   "cell_type": "code",
   "execution_count": 28,
   "metadata": {},
   "outputs": [],
   "source": [
    "geocoded_join_gdf.head()"
   ]
  },
  {
   "cell_type": "markdown",
   "metadata": {},
   "source": [
    "## Import and use LA County geography"
   ]
  },
  {
   "cell_type": "markdown",
   "metadata": {},
   "source": [
    "### Read the Census blocks, with population/household figures added by county officials"
   ]
  },
  {
   "cell_type": "code",
   "execution_count": 29,
   "metadata": {},
   "outputs": [],
   "source": [
    "#http://public.gis.lacounty.gov/public/rest/services/LACounty_Dynamic/Demographics/MapServer/3\n",
    "blocks = gpd.read_file('/Users/mhustiles/Desktop/data/GIS/LA/LA_county_census_blocks_2010/la_county_blocks_2010_data.geojson')"
   ]
  },
  {
   "cell_type": "code",
   "execution_count": 30,
   "metadata": {},
   "outputs": [],
   "source": [
    "blocks.columns = blocks.columns.str.strip().str.lower().str.replace(' ', '_').str.replace('(', '').str.replace(')', '')"
   ]
  },
  {
   "cell_type": "code",
   "execution_count": 31,
   "metadata": {},
   "outputs": [],
   "source": [
    "blocks = blocks.to_crs({'init': \"epsg:4326\"})"
   ]
  },
  {
   "cell_type": "code",
   "execution_count": 32,
   "metadata": {},
   "outputs": [],
   "source": [
    "len(blocks)"
   ]
  },
  {
   "cell_type": "code",
   "execution_count": 33,
   "metadata": {},
   "outputs": [],
   "source": [
    "blocks.columns"
   ]
  },
  {
   "cell_type": "code",
   "execution_count": 34,
   "metadata": {},
   "outputs": [],
   "source": [
    "blocks['geoid10'] = blocks['ctcb10']"
   ]
  },
  {
   "cell_type": "markdown",
   "metadata": {},
   "source": [
    "### Merge our contributions/locations data to Census blocks"
   ]
  },
  {
   "cell_type": "code",
   "execution_count": 35,
   "metadata": {},
   "outputs": [],
   "source": [
    "dist_two_blocks = gpd.sjoin(geocoded_join_gdf, blocks, op='within', how=\"inner\")"
   ]
  },
  {
   "cell_type": "code",
   "execution_count": 36,
   "metadata": {},
   "outputs": [],
   "source": [
    "dist_two_blocks.columns = dist_two_blocks.columns.str.strip().str.lower().str.replace(' ', '_').str.replace('(', '').str.replace(')', '')"
   ]
  },
  {
   "cell_type": "code",
   "execution_count": 37,
   "metadata": {},
   "outputs": [],
   "source": [
    "second_district_blocks = dist_two_blocks[(dist_two_blocks['last_name'] == 'WESSON') | (dist_two_blocks['last_name'] == 'PERRY') | (dist_two_blocks['last_name'] == 'PERRY') | (dist_two_blocks['last_name'] == 'JEONG') | (dist_two_blocks['last_name'] == 'MITCHELL')]"
   ]
  },
  {
   "cell_type": "code",
   "execution_count": 38,
   "metadata": {},
   "outputs": [],
   "source": [
    "second_district_blocks.first_name.value_counts()"
   ]
  },
  {
   "cell_type": "code",
   "execution_count": 39,
   "metadata": {},
   "outputs": [],
   "source": [
    "second_district_blocks.to_file(\"/Users/mhustiles/Desktop/github/notebooks/campaign-finance/output/second_district_blocks.geojson\", driver=\"GeoJSON\")"
   ]
  },
  {
   "cell_type": "code",
   "execution_count": 40,
   "metadata": {
    "scrolled": true
   },
   "outputs": [],
   "source": [
    "second_district_blocks.head(2)"
   ]
  },
  {
   "cell_type": "markdown",
   "metadata": {},
   "source": [
    "## Donations by block"
   ]
  },
  {
   "cell_type": "markdown",
   "metadata": {},
   "source": [
    "### How much did candidates raise by block?"
   ]
  },
  {
   "cell_type": "code",
   "execution_count": 41,
   "metadata": {},
   "outputs": [],
   "source": [
    "sum_by_block = pd.pivot_table(second_district_blocks, values='amount_rcvd', index=['geoid10'], columns=['candidate_slug'], aggfunc=np.sum, fill_value=0).reset_index()\n",
    "sum_by_block.columns = sum_by_block.columns.to_series().str.join('')"
   ]
  },
  {
   "cell_type": "code",
   "execution_count": 42,
   "metadata": {},
   "outputs": [],
   "source": [
    "sum_by_block[\"total\"] = sum_by_block.sum(axis=1)"
   ]
  },
  {
   "cell_type": "markdown",
   "metadata": {},
   "source": [
    "### How much did all candidates raise in each block? "
   ]
  },
  {
   "cell_type": "code",
   "execution_count": 43,
   "metadata": {},
   "outputs": [],
   "source": [
    "sum_by_block = sum_by_block.sort_values(\"total\", ascending=False)"
   ]
  },
  {
   "cell_type": "code",
   "execution_count": 44,
   "metadata": {},
   "outputs": [],
   "source": [
    "sum_by_block.head(2)"
   ]
  },
  {
   "cell_type": "markdown",
   "metadata": {},
   "source": [
    "### How much was donated to all candidates from L.A. County blocks? "
   ]
  },
  {
   "cell_type": "code",
   "execution_count": 45,
   "metadata": {},
   "outputs": [],
   "source": [
    "sum_by_block.total.sum()"
   ]
  },
  {
   "cell_type": "markdown",
   "metadata": {},
   "source": [
    "### How many blocks in LA County donated? "
   ]
  },
  {
   "cell_type": "code",
   "execution_count": 46,
   "metadata": {
    "scrolled": false
   },
   "outputs": [],
   "source": [
    "sum_by_block.total.count()"
   ]
  },
  {
   "cell_type": "markdown",
   "metadata": {},
   "source": [
    "### Which 2nd District candidate received the most on each block? "
   ]
  },
  {
   "cell_type": "code",
   "execution_count": 47,
   "metadata": {},
   "outputs": [],
   "source": [
    "#create a dummy field because i'm bad at idxmax\n",
    "sum_by_block['tie'] = '0'"
   ]
  },
  {
   "cell_type": "code",
   "execution_count": 48,
   "metadata": {},
   "outputs": [],
   "source": [
    "#reshape dataframe\n",
    "sum_by_block_slim = sum_by_block[['geoid10', 'tie','chan_jeong','herb_wesson','jan_perry','holly_mitchell','total']]"
   ]
  },
  {
   "cell_type": "code",
   "execution_count": 49,
   "metadata": {},
   "outputs": [],
   "source": [
    "sum_by_block_slim['tie'] = sum_by_block_slim['tie'].astype(int)\n",
    "sum_by_block_slim['geoid10'] = sum_by_block_slim['geoid10'].astype(str)"
   ]
  },
  {
   "cell_type": "code",
   "execution_count": 50,
   "metadata": {},
   "outputs": [],
   "source": [
    "#who won each block?\n",
    "sum_by_block_slim['winner_dist_two'] = sum_by_block_slim[['tie','chan_jeong','herb_wesson','jan_perry','holly_mitchell']].idxmax(axis=1)"
   ]
  },
  {
   "cell_type": "code",
   "execution_count": 51,
   "metadata": {},
   "outputs": [],
   "source": [
    "#how much did each block winner raise from there? \n",
    "sum_by_block_slim['winner_total'] = sum_by_block_slim[['tie','chan_jeong','herb_wesson','jan_perry','holly_mitchell']].max(axis=1)"
   ]
  },
  {
   "cell_type": "code",
   "execution_count": 52,
   "metadata": {},
   "outputs": [],
   "source": [
    "sum_by_block_slim['winner_dist_two'] = sum_by_block_slim['winner_dist_two'].str.title().str.replace('_',' ')"
   ]
  },
  {
   "cell_type": "code",
   "execution_count": 53,
   "metadata": {},
   "outputs": [],
   "source": [
    "sum_by_block_slim.head()"
   ]
  },
  {
   "cell_type": "markdown",
   "metadata": {},
   "source": [
    "### Remove 2nd District rows with no contributions"
   ]
  },
  {
   "cell_type": "code",
   "execution_count": 54,
   "metadata": {},
   "outputs": [],
   "source": [
    "sum_by_block_slim = sum_by_block_slim[(sum_by_block_slim['winner_total'] != 0)]"
   ]
  },
  {
   "cell_type": "markdown",
   "metadata": {},
   "source": [
    "### How many blocks did each 2nd District candidate win?"
   ]
  },
  {
   "cell_type": "code",
   "execution_count": 55,
   "metadata": {},
   "outputs": [],
   "source": [
    "sum_by_block_slim.winner_dist_two.value_counts()"
   ]
  },
  {
   "cell_type": "markdown",
   "metadata": {},
   "source": [
    "### How much did each 2nd District candidate raise from just LA blocks?"
   ]
  },
  {
   "cell_type": "code",
   "execution_count": 56,
   "metadata": {},
   "outputs": [],
   "source": [
    "sum_by_block_slim[['chan_jeong','herb_wesson','jan_perry','holly_mitchell']].agg('sum')"
   ]
  },
  {
   "cell_type": "code",
   "execution_count": 57,
   "metadata": {},
   "outputs": [],
   "source": [
    "len(sum_by_block_slim)"
   ]
  },
  {
   "cell_type": "code",
   "execution_count": 58,
   "metadata": {},
   "outputs": [],
   "source": [
    "len(blocks)"
   ]
  },
  {
   "cell_type": "markdown",
   "metadata": {},
   "source": [
    "### Merge the blocks geography back onto our 2nd District winners table"
   ]
  },
  {
   "cell_type": "code",
   "execution_count": 59,
   "metadata": {},
   "outputs": [],
   "source": [
    "second_district_blocks_geo = blocks.merge(sum_by_block_slim, on='geoid10')"
   ]
  },
  {
   "cell_type": "code",
   "execution_count": 60,
   "metadata": {},
   "outputs": [],
   "source": [
    "second_district_blocks_geo.to_file('output/second_district_blocks_geo.geojson', driver=\"GeoJSON\")"
   ]
  },
  {
   "cell_type": "code",
   "execution_count": 61,
   "metadata": {},
   "outputs": [],
   "source": [
    "second_district_blocks_geo.head(2)"
   ]
  },
  {
   "cell_type": "markdown",
   "metadata": {},
   "source": [
    "### 2nd District winners table to MBTiles"
   ]
  },
  {
   "cell_type": "code",
   "execution_count": 62,
   "metadata": {},
   "outputs": [],
   "source": [
    "!tippecanoe -z15 -f -o output/second_district_blocks_geo.mbtiles output/second_district_blocks_geo.geojson"
   ]
  },
  {
   "cell_type": "markdown",
   "metadata": {},
   "source": [
    "## Donations by *Los Angeles Times* neighborhoods"
   ]
  },
  {
   "cell_type": "code",
   "execution_count": 63,
   "metadata": {},
   "outputs": [],
   "source": [
    "neighborhoods = gpd.read_file('/Users/mhustiles/Desktop/data/GIS/LA/la-county-city-neighborhoods.geojson')\n",
    "neighborhoods.columns = neighborhoods.columns.str.strip().str.lower().str.replace(' ', '_').str.replace('(', '').str.replace(')', '')"
   ]
  },
  {
   "cell_type": "code",
   "execution_count": 64,
   "metadata": {},
   "outputs": [],
   "source": [
    "neighborhoods.plot()"
   ]
  },
  {
   "cell_type": "code",
   "execution_count": 65,
   "metadata": {},
   "outputs": [],
   "source": [
    "second_district_hoods = gpd.sjoin(geocoded_join_gdf, neighborhoods, op='within', how=\"inner\")"
   ]
  },
  {
   "cell_type": "code",
   "execution_count": 66,
   "metadata": {},
   "outputs": [],
   "source": [
    "second_district_hoods.head(2)"
   ]
  },
  {
   "cell_type": "code",
   "execution_count": 67,
   "metadata": {},
   "outputs": [],
   "source": [
    "second_district_hoods.columns = second_district_hoods.columns.str.strip().str.lower().str.replace(' ', '_').str.replace('(', '').str.replace(')', '')"
   ]
  },
  {
   "cell_type": "markdown",
   "metadata": {},
   "source": [
    "### How much did each of the candidates raise by neighborhood?"
   ]
  },
  {
   "cell_type": "code",
   "execution_count": 68,
   "metadata": {},
   "outputs": [],
   "source": [
    "sum_by_hood = pd.pivot_table(second_district_hoods, values='amount_rcvd', index=['name'], columns=['candidate_slug'], aggfunc=np.sum, fill_value=0).reset_index()"
   ]
  },
  {
   "cell_type": "code",
   "execution_count": 69,
   "metadata": {},
   "outputs": [],
   "source": [
    "sum_by_hood[\"total\"] = sum_by_hood.sum(axis=1)"
   ]
  },
  {
   "cell_type": "code",
   "execution_count": 70,
   "metadata": {},
   "outputs": [],
   "source": [
    "sum_by_hood.columns = sum_by_hood.columns.to_series().str.join('')"
   ]
  },
  {
   "cell_type": "markdown",
   "metadata": {},
   "source": [
    "### How much did all of the candidates raise by neighborhood?"
   ]
  },
  {
   "cell_type": "code",
   "execution_count": 71,
   "metadata": {},
   "outputs": [],
   "source": [
    "sum_by_hood = sum_by_hood.sort_values(\"total\", ascending=False)"
   ]
  },
  {
   "cell_type": "code",
   "execution_count": 72,
   "metadata": {},
   "outputs": [],
   "source": [
    "sum_by_hood.head()"
   ]
  },
  {
   "cell_type": "code",
   "execution_count": 73,
   "metadata": {},
   "outputs": [],
   "source": [
    "sum_by_hood[['name', 'total']].sort_values(by='total', ascending=False)"
   ]
  },
  {
   "cell_type": "markdown",
   "metadata": {},
   "source": [
    "### How much was donated to all candidates from L.A. County neighborhoods? "
   ]
  },
  {
   "cell_type": "code",
   "execution_count": 74,
   "metadata": {},
   "outputs": [],
   "source": [
    "sum_by_hood.total.sum()"
   ]
  },
  {
   "cell_type": "markdown",
   "metadata": {},
   "source": [
    "### How many neighborhoods in LA County donated? "
   ]
  },
  {
   "cell_type": "code",
   "execution_count": 75,
   "metadata": {
    "scrolled": false
   },
   "outputs": [],
   "source": [
    "sum_by_hood.total.count()"
   ]
  },
  {
   "cell_type": "markdown",
   "metadata": {},
   "source": [
    "### Which 2nd District candidate received the most on each block? "
   ]
  },
  {
   "cell_type": "code",
   "execution_count": 76,
   "metadata": {},
   "outputs": [],
   "source": [
    "#create a dummy field because i'm bad at idxmax\n",
    "sum_by_hood['tie'] = '0'"
   ]
  },
  {
   "cell_type": "code",
   "execution_count": 77,
   "metadata": {},
   "outputs": [],
   "source": [
    "#reshape dataframe\n",
    "sum_by_hood_winner = sum_by_hood[['name', 'tie','chan_jeong','herb_wesson','jan_perry','holly_mitchell','total']]"
   ]
  },
  {
   "cell_type": "code",
   "execution_count": 78,
   "metadata": {},
   "outputs": [],
   "source": [
    "sum_by_hood_winner['tie'] = sum_by_hood_winner['tie'].astype(int)\n",
    "sum_by_hood_winner['name'] = sum_by_hood_winner['name'].astype(str)"
   ]
  },
  {
   "cell_type": "code",
   "execution_count": 79,
   "metadata": {},
   "outputs": [],
   "source": [
    "#who won each block?\n",
    "sum_by_hood_winner['winner_dist_two'] = sum_by_hood_winner[['tie','chan_jeong','herb_wesson','jan_perry','holly_mitchell']].idxmax(axis=1)"
   ]
  },
  {
   "cell_type": "code",
   "execution_count": 80,
   "metadata": {},
   "outputs": [],
   "source": [
    "#how much did each block winner raise from there? \n",
    "sum_by_hood_winner['winner_total'] = sum_by_hood_winner[['tie','chan_jeong','herb_wesson','jan_perry','holly_mitchell']].max(axis=1)"
   ]
  },
  {
   "cell_type": "code",
   "execution_count": 81,
   "metadata": {},
   "outputs": [],
   "source": [
    "sum_by_hood_winner['winner_dist_two']= sum_by_hood_winner['winner_dist_two'].str.title().str.replace('_',' ')"
   ]
  },
  {
   "cell_type": "markdown",
   "metadata": {},
   "source": [
    "### Which were the top neighborhoods for each candidate? "
   ]
  },
  {
   "cell_type": "code",
   "execution_count": 82,
   "metadata": {},
   "outputs": [],
   "source": [
    "sum_by_hood_winner"
   ]
  },
  {
   "cell_type": "code",
   "execution_count": 83,
   "metadata": {},
   "outputs": [],
   "source": [
    "sum_by_hood_winner.to_csv('output/sum_by_hood_winner.csv')"
   ]
  },
  {
   "cell_type": "markdown",
   "metadata": {},
   "source": [
    "### Remove 2nd District rows with no contributions"
   ]
  },
  {
   "cell_type": "code",
   "execution_count": 84,
   "metadata": {},
   "outputs": [],
   "source": [
    "sum_by_hood_winner = sum_by_hood_winner[(sum_by_hood_winner['winner_total'] != 0)]"
   ]
  },
  {
   "cell_type": "code",
   "execution_count": 85,
   "metadata": {},
   "outputs": [],
   "source": [
    "len(sum_by_hood_winner)"
   ]
  },
  {
   "cell_type": "markdown",
   "metadata": {},
   "source": [
    "### How many neighborhoods did each 2nd District candidate win?"
   ]
  },
  {
   "cell_type": "code",
   "execution_count": 86,
   "metadata": {
    "scrolled": true
   },
   "outputs": [],
   "source": [
    "sum_by_hood_winner.winner_dist_two.value_counts()"
   ]
  },
  {
   "cell_type": "markdown",
   "metadata": {},
   "source": [
    "### How much did each 2nd District candidate raise from just LA neighborhoods?"
   ]
  },
  {
   "cell_type": "code",
   "execution_count": 87,
   "metadata": {
    "scrolled": true
   },
   "outputs": [],
   "source": [
    "sum_by_hood_winner[['chan_jeong','herb_wesson','jan_perry','holly_mitchell']].agg('sum')"
   ]
  },
  {
   "cell_type": "markdown",
   "metadata": {},
   "source": [
    "### Merge the neighborhoods/winner geography back onto our 2nd District winners table"
   ]
  },
  {
   "cell_type": "code",
   "execution_count": 88,
   "metadata": {},
   "outputs": [],
   "source": [
    "second_district_hoods = neighborhoods.merge(sum_by_hood_winner, on='name')"
   ]
  },
  {
   "cell_type": "code",
   "execution_count": 89,
   "metadata": {
    "scrolled": true
   },
   "outputs": [],
   "source": [
    "second_district_hoods.plot()"
   ]
  },
  {
   "cell_type": "markdown",
   "metadata": {},
   "source": [
    "### Export spatial file with winners, totals by neighborhood"
   ]
  },
  {
   "cell_type": "code",
   "execution_count": 90,
   "metadata": {},
   "outputs": [],
   "source": [
    "second_district_hoods.to_file('output/second_district_hoods_sum.geojson', driver=\"GeoJSON\")"
   ]
  },
  {
   "cell_type": "markdown",
   "metadata": {},
   "source": [
    "### Generic neighborhoods to MBTiles"
   ]
  },
  {
   "cell_type": "code",
   "execution_count": 91,
   "metadata": {},
   "outputs": [],
   "source": [
    "!tippecanoe -z16 -f -o output/la-county-city-neighborhoods.mbtiles /Users/mhustiles/Desktop/data/GIS/LA/la-county-city-neighborhoods.geojson"
   ]
  },
  {
   "cell_type": "markdown",
   "metadata": {},
   "source": [
    "## Plot the donations"
   ]
  },
  {
   "cell_type": "markdown",
   "metadata": {},
   "source": [
    "### Choropleth map with neighborhood totals"
   ]
  },
  {
   "cell_type": "code",
   "execution_count": 92,
   "metadata": {},
   "outputs": [],
   "source": [
    "breaks = jenkspy.jenks_breaks(second_district_hoods.winner_total, nb_class=7)"
   ]
  },
  {
   "cell_type": "code",
   "execution_count": 93,
   "metadata": {},
   "outputs": [],
   "source": [
    "def get_group(value):\n",
    "    for i, b in enumerate(breaks):\n",
    "        if value <= breaks[i+1]:\n",
    "            return i"
   ]
  },
  {
   "cell_type": "code",
   "execution_count": 94,
   "metadata": {},
   "outputs": [],
   "source": [
    "second_district_hoods['winner_group'] = second_district_hoods.winner_total.apply(get_group)"
   ]
  },
  {
   "cell_type": "code",
   "execution_count": 95,
   "metadata": {},
   "outputs": [],
   "source": [
    "second_district_hoods['id'] = second_district_hoods.index + 1\n",
    "second_district_hoods['id'] = second_district_hoods['id'].astype(str)"
   ]
  },
  {
   "cell_type": "markdown",
   "metadata": {},
   "source": [
    "### Winner group data to file"
   ]
  },
  {
   "cell_type": "code",
   "execution_count": 96,
   "metadata": {},
   "outputs": [],
   "source": [
    "second_district_hoods.to_file(\"output/second_district_hoods_winner_groups.geojson\", driver=\"GeoJSON\")"
   ]
  },
  {
   "cell_type": "code",
   "execution_count": 97,
   "metadata": {},
   "outputs": [],
   "source": [
    "!tippecanoe -zg -f -o output/second_district_hoods_winner_groups.mbtiles --generate-ids output/second_district_hoods_winner_groups.geojson"
   ]
  },
  {
   "cell_type": "code",
   "execution_count": 98,
   "metadata": {},
   "outputs": [],
   "source": [
    "second_district_hoods.loc[[0]]"
   ]
  },
  {
   "cell_type": "markdown",
   "metadata": {},
   "source": [
    "### Export to MBTiles"
   ]
  },
  {
   "cell_type": "code",
   "execution_count": 99,
   "metadata": {},
   "outputs": [],
   "source": [
    "# !tippecanoe -z16 -f -o output/second_district_hoods_winner_groups.mbtiles output/second_district_hoods_winner_groups.geojson"
   ]
  },
  {
   "cell_type": "markdown",
   "metadata": {},
   "source": [
    "### Feed GeoJSON to Altair"
   ]
  },
  {
   "cell_type": "code",
   "execution_count": 100,
   "metadata": {},
   "outputs": [],
   "source": [
    "geojson = json.loads(second_district_hoods.to_json())"
   ]
  },
  {
   "cell_type": "code",
   "execution_count": 101,
   "metadata": {},
   "outputs": [],
   "source": [
    "features = alt.Data(values=geojson['features'])"
   ]
  },
  {
   "cell_type": "code",
   "execution_count": 102,
   "metadata": {},
   "outputs": [],
   "source": [
    "alt.Chart(features).mark_geoshape().encode(\n",
    "    color='properties.winner_group:Q'\n",
    ").properties(\n",
    "    width=600,\n",
    "    height=600\n",
    ")"
   ]
  },
  {
   "cell_type": "markdown",
   "metadata": {},
   "source": [
    "### Categorical map with winners"
   ]
  },
  {
   "cell_type": "code",
   "execution_count": 103,
   "metadata": {},
   "outputs": [],
   "source": [
    "alt.Chart(features).mark_geoshape().encode(\n",
    "    color='properties.winner_dist_two:N',\n",
    ").properties(\n",
    "    width=500,\n",
    "    height=500, title='Winner by L.A neighborhood'\n",
    ").configure_view(\n",
    "    strokeWidth=0\n",
    ")"
   ]
  },
  {
   "cell_type": "markdown",
   "metadata": {},
   "source": [
    "### How much did each candidate raise — by month — in 2019? "
   ]
  },
  {
   "cell_type": "code",
   "execution_count": 104,
   "metadata": {},
   "outputs": [],
   "source": [
    "districttwo_time = districttwo.groupby(['monthyear','year','month', 'candidate_name'], as_index=False).agg({'amount_rcvd': ['size', 'mean', 'sum']}, as_index=False)\n",
    "\n",
    "flat_columns = [''.join(t) for t in districttwo_time.columns]\n",
    "districttwo_time.columns = flat_columns\n",
    "districttwo_time['amount_rcvdmean'] = districttwo_time['amount_rcvdmean'].astype(int)\n",
    "districttwo_time['amount_rcvdmean'] = districttwo_time['amount_rcvdmean'].round()\n",
    "districttwo_time.head(10)\n",
    "districttwo_time['months'] = districttwo_time['monthyear'].dt.strftime('%b').astype(str)\n",
    "districttwo_time['week'] = districttwo_time['monthyear'].dt.week\n",
    "\n",
    "districttwo_time"
   ]
  },
  {
   "cell_type": "code",
   "execution_count": 105,
   "metadata": {},
   "outputs": [],
   "source": [
    "districttwo_time[(districttwo_time.candidate_name == 'Holly Mitchell')][['candidate_name', 'months', 'amount_rcvdsum']]"
   ]
  },
  {
   "cell_type": "code",
   "execution_count": 106,
   "metadata": {},
   "outputs": [],
   "source": [
    "second_district_totals"
   ]
  },
  {
   "cell_type": "code",
   "execution_count": 107,
   "metadata": {},
   "outputs": [],
   "source": [
    "base = alt.Chart(districttwo_time, title='').mark_bar().encode(\n",
    "    x=alt.X(\"months:O\", \n",
    "            timeUnit=\"yearmonth\",\n",
    "            title=\" \",\n",
    "            axis=alt.Axis(format=\"%b\")\n",
    "           ),\n",
    "    y=alt.Y(\n",
    "        'amount_rcvdsum:Q',\n",
    "        title=\"\",\n",
    "        axis=alt.Axis(format=\"$1s\", tickCount=5)\n",
    "        )\n",
    "    ).properties(height=225, width=225).facet(column = alt.Column('candidate_name:N', title=None), \n",
    ")\n",
    "(base).configure_axisY(labelFontSize=15).configure_axisX(labelFontSize=15).configure_header(\n",
    "    labelColor='black',\n",
    "    labelFont='Benton Gothic',\n",
    "    labelFontSize=15\n",
    ")"
   ]
  },
  {
   "cell_type": "markdown",
   "metadata": {},
   "source": [
    "### Load 2nd District boundary data"
   ]
  },
  {
   "cell_type": "code",
   "execution_count": 108,
   "metadata": {},
   "outputs": [],
   "source": [
    "#http://public.gis.lacounty.gov/public/rest/services/LACounty_Dynamic/Demographics/MapServer/3\n",
    "district = gpd.read_file('/Users/mhustiles/Desktop/data/GIS/LA/second-district.geojson')"
   ]
  },
  {
   "cell_type": "markdown",
   "metadata": {},
   "source": [
    "### Export 2nd District boundary data to MBTiles"
   ]
  },
  {
   "cell_type": "code",
   "execution_count": 109,
   "metadata": {},
   "outputs": [],
   "source": [
    "!tippecanoe -z15 -f -o output/second-district-boundary.mbtiles /Users/mhustiles/Desktop/data/GIS/LA/second-district.geojson"
   ]
  },
  {
   "cell_type": "code",
   "execution_count": 110,
   "metadata": {},
   "outputs": [],
   "source": [
    "district.plot()"
   ]
  },
  {
   "cell_type": "markdown",
   "metadata": {},
   "source": [
    "### Which share of each candidate's donations came from outside the district? "
   ]
  },
  {
   "cell_type": "code",
   "execution_count": 111,
   "metadata": {},
   "outputs": [],
   "source": [
    "district_donations = gpd.sjoin(geocoded_join_gdf, district, op='within', how=\"inner\")"
   ]
  },
  {
   "cell_type": "code",
   "execution_count": 112,
   "metadata": {},
   "outputs": [],
   "source": [
    "district_donations.head(1)"
   ]
  },
  {
   "cell_type": "code",
   "execution_count": 113,
   "metadata": {},
   "outputs": [],
   "source": [
    "district_totals = district_donations.groupby(['candidate_slug']).agg({'amount_rcvd':np.sum}).reset_index().sort_values(by='candidate_slug', ascending=False)"
   ]
  },
  {
   "cell_type": "code",
   "execution_count": null,
   "metadata": {},
   "outputs": [],
   "source": []
  },
  {
   "cell_type": "code",
   "execution_count": 114,
   "metadata": {},
   "outputs": [],
   "source": [
    "district_totals['outside'] = (second_district_totals.amount_rcvd - district_totals.amount_rcvd).round(2)\n",
    "district_totals['share_district'] = (district_totals.amount_rcvd / second_district_totals.amount_rcvd * 100).round(2)\n",
    "district_totals['share_outside'] = (100 - district_totals.share_district)\n",
    "district_totals_clean = district_totals.rename(columns={\"amount_rcvd\": \"inside\", 'candidate_slug': 'candidate'})"
   ]
  },
  {
   "cell_type": "code",
   "execution_count": 115,
   "metadata": {},
   "outputs": [],
   "source": [
    "district_totals_clean"
   ]
  },
  {
   "cell_type": "code",
   "execution_count": 116,
   "metadata": {},
   "outputs": [],
   "source": [
    "sum_outside_donations = district_totals['outside'].sum()\n",
    "sum_outside_donations\n",
    "sum_all_donations"
   ]
  },
  {
   "cell_type": "markdown",
   "metadata": {},
   "source": [
    "### What share of the donations came outside the distrct?"
   ]
  },
  {
   "cell_type": "code",
   "execution_count": 117,
   "metadata": {},
   "outputs": [],
   "source": [
    "((sum_outside_donations / sum_all_donations)*100).round()"
   ]
  },
  {
   "cell_type": "code",
   "execution_count": 118,
   "metadata": {},
   "outputs": [],
   "source": [
    "district_totals_melt = pd.melt(district_totals_clean, col_level=0, id_vars=['candidate'], value_vars=['inside', 'outside'])"
   ]
  },
  {
   "cell_type": "code",
   "execution_count": 119,
   "metadata": {},
   "outputs": [],
   "source": [
    "district_totals_melt['candidate'] = district_totals_melt['candidate'].str.replace('_',' ').str.title()\n",
    "district_totals_melt"
   ]
  },
  {
   "cell_type": "code",
   "execution_count": 120,
   "metadata": {},
   "outputs": [],
   "source": [
    "bars = alt.Chart(district_totals_melt, title='Share of donations from inside 2nd District').mark_bar().encode(\n",
    "    x=alt.X('sum(value)', stack=\"normalize\", title=\"Share of donations\", axis=alt.Axis(format='%', tickCount=6)),\n",
    "    y=alt.Y('candidate', title=\"\"),\n",
    "    color=alt.Color('variable',legend=alt.Legend(title=\"\",orient='top')),\n",
    "    order=alt.Order('variable', sort='ascending')\n",
    ")\n",
    "\n",
    "(bars).properties(height=150, width=500)"
   ]
  },
  {
   "cell_type": "markdown",
   "metadata": {},
   "source": [
    "### Read the zip codes by county GIS officials"
   ]
  },
  {
   "cell_type": "code",
   "execution_count": 159,
   "metadata": {},
   "outputs": [],
   "source": [
    "#http://public.gis.lacounty.gov/public/rest/services/LACounty_Dynamic/Administrative_Boundaries/MapServer/5\n",
    "zips = gpd.read_file('/Users/mhustiles/Desktop/github/notebooks/campaign-finance/input/la_county_gis_zip_codes/la_county_gis_zip_codes_1569271283260.geojson')"
   ]
  },
  {
   "cell_type": "code",
   "execution_count": 160,
   "metadata": {},
   "outputs": [],
   "source": [
    "zips.columns = zips.columns.str.strip().str.lower().str.replace(' ', '_').str.replace('(', '').str.replace(')', '')"
   ]
  },
  {
   "cell_type": "code",
   "execution_count": 161,
   "metadata": {},
   "outputs": [],
   "source": [
    "zips = zips.to_crs({'init': \"epsg:4326\"})"
   ]
  },
  {
   "cell_type": "code",
   "execution_count": 162,
   "metadata": {},
   "outputs": [
    {
     "data": {
      "text/plain": [
       "315"
      ]
     },
     "execution_count": 162,
     "metadata": {},
     "output_type": "execute_result"
    }
   ],
   "source": [
    "len(zips)"
   ]
  },
  {
   "cell_type": "code",
   "execution_count": 163,
   "metadata": {},
   "outputs": [
    {
     "data": {
      "text/plain": [
       "Index(['shape.area', 'shape.len', 'objectid', 'zipcode', 'geometry'], dtype='object')"
      ]
     },
     "execution_count": 163,
     "metadata": {},
     "output_type": "execute_result"
    }
   ],
   "source": [
    "zips.columns"
   ]
  },
  {
   "cell_type": "code",
   "execution_count": 164,
   "metadata": {},
   "outputs": [
    {
     "data": {
      "text/plain": [
       "<matplotlib.axes._subplots.AxesSubplot at 0x12acb2cf8>"
      ]
     },
     "execution_count": 164,
     "metadata": {},
     "output_type": "execute_result"
    },
    {
     "data": {
      "image/png": "[encoded data removed]",
      "text/plain": [
       "<Figure size 432x288 with 1 Axes>"
      ]
     },
     "metadata": {
      "needs_background": "light"
     },
     "output_type": "display_data"
    }
   ],
   "source": [
    "zips.plot()"
   ]
  },
  {
   "cell_type": "markdown",
   "metadata": {},
   "source": []
  },
  {
   "cell_type": "code",
   "execution_count": null,
   "metadata": {},
   "outputs": [],
   "source": []
  },
  {
   "cell_type": "code",
   "execution_count": 165,
   "metadata": {},
   "outputs": [],
   "source": [
    "second_district_zips = gpd.sjoin(geocoded_join_gdf, zips, op='within', how=\"inner\")"
   ]
  },
  {
   "cell_type": "code",
   "execution_count": 166,
   "metadata": {},
   "outputs": [
    {
     "data": {
      "text/html": [
       "<div>\n",
       "<style scoped>\n",
       "    .dataframe tbody tr th:only-of-type {\n",
       "        vertical-align: middle;\n",
       "    }\n",
       "\n",
       "    .dataframe tbody tr th {\n",
       "        vertical-align: top;\n",
       "    }\n",
       "\n",
       "    .dataframe thead th {\n",
       "        text-align: right;\n",
       "    }\n",
       "</style>\n",
       "<table border=\"1\" class=\"dataframe\">\n",
       "  <thead>\n",
       "    <tr style=\"text-align: right;\">\n",
       "      <th></th>\n",
       "      <th>last_name</th>\n",
       "      <th>first_name</th>\n",
       "      <th>committee_id</th>\n",
       "      <th>committee_name</th>\n",
       "      <th>office_type</th>\n",
       "      <th>district_number</th>\n",
       "      <th>schedule</th>\n",
       "      <th>type</th>\n",
       "      <th>period_beg_date</th>\n",
       "      <th>period_end_date</th>\n",
       "      <th>...</th>\n",
       "      <th>formatted_address</th>\n",
       "      <th>input_string</th>\n",
       "      <th>latitude</th>\n",
       "      <th>longitude</th>\n",
       "      <th>geometry</th>\n",
       "      <th>index_right</th>\n",
       "      <th>shape.area</th>\n",
       "      <th>shape.len</th>\n",
       "      <th>objectid</th>\n",
       "      <th>zipcode</th>\n",
       "    </tr>\n",
       "  </thead>\n",
       "  <tbody>\n",
       "    <tr>\n",
       "      <th>2</th>\n",
       "      <td>WESSON</td>\n",
       "      <td>HERB</td>\n",
       "      <td>1414475</td>\n",
       "      <td>WESSON FOR SUPERVISOR 2020</td>\n",
       "      <td>CSU</td>\n",
       "      <td>NaN</td>\n",
       "      <td>A</td>\n",
       "      <td>Other</td>\n",
       "      <td>1/1/18</td>\n",
       "      <td>12/31/18</td>\n",
       "      <td>...</td>\n",
       "      <td>249 E Ocean Blvd, Long Beach, CA 90802, USA</td>\n",
       "      <td>249 E Ocean Blvd, Long Beach, CA, 90802</td>\n",
       "      <td>33.767313</td>\n",
       "      <td>-118.190096</td>\n",
       "      <td>POINT (-118.1900963 33.76731270000001)</td>\n",
       "      <td>93</td>\n",
       "      <td>1.684347e+08</td>\n",
       "      <td>181881.275506</td>\n",
       "      <td>152</td>\n",
       "      <td>90802</td>\n",
       "    </tr>\n",
       "    <tr>\n",
       "      <th>7</th>\n",
       "      <td>WESSON</td>\n",
       "      <td>HERB</td>\n",
       "      <td>1414475</td>\n",
       "      <td>WESSON FOR SUPERVISOR 2020</td>\n",
       "      <td>CSU</td>\n",
       "      <td>NaN</td>\n",
       "      <td>A</td>\n",
       "      <td>Other</td>\n",
       "      <td>1/1/18</td>\n",
       "      <td>12/31/18</td>\n",
       "      <td>...</td>\n",
       "      <td>249 E Ocean Blvd, Long Beach, CA 90802, USA</td>\n",
       "      <td>249 E Ocean Blvd, Long Beach, CA, 90802</td>\n",
       "      <td>33.767313</td>\n",
       "      <td>-118.190096</td>\n",
       "      <td>POINT (-118.1900963 33.76731270000001)</td>\n",
       "      <td>93</td>\n",
       "      <td>1.684347e+08</td>\n",
       "      <td>181881.275506</td>\n",
       "      <td>152</td>\n",
       "      <td>90802</td>\n",
       "    </tr>\n",
       "  </tbody>\n",
       "</table>\n",
       "<p>2 rows × 47 columns</p>\n",
       "</div>"
      ],
      "text/plain": [
       "  last_name first_name committee_id              committee_name office_type  \\\n",
       "2    WESSON       HERB      1414475  WESSON FOR SUPERVISOR 2020         CSU   \n",
       "7    WESSON       HERB      1414475  WESSON FOR SUPERVISOR 2020         CSU   \n",
       "\n",
       "  district_number schedule   type period_beg_date period_end_date  ...  \\\n",
       "2             NaN        A  Other          1/1/18        12/31/18  ...   \n",
       "7             NaN        A  Other          1/1/18        12/31/18  ...   \n",
       "\n",
       "                             formatted_address  \\\n",
       "2  249 E Ocean Blvd, Long Beach, CA 90802, USA   \n",
       "7  249 E Ocean Blvd, Long Beach, CA 90802, USA   \n",
       "\n",
       "                              input_string   latitude   longitude  \\\n",
       "2  249 E Ocean Blvd, Long Beach, CA, 90802  33.767313 -118.190096   \n",
       "7  249 E Ocean Blvd, Long Beach, CA, 90802  33.767313 -118.190096   \n",
       "\n",
       "                                 geometry index_right    shape.area  \\\n",
       "2  POINT (-118.1900963 33.76731270000001)          93  1.684347e+08   \n",
       "7  POINT (-118.1900963 33.76731270000001)          93  1.684347e+08   \n",
       "\n",
       "       shape.len objectid zipcode  \n",
       "2  181881.275506      152   90802  \n",
       "7  181881.275506      152   90802  \n",
       "\n",
       "[2 rows x 47 columns]"
      ]
     },
     "execution_count": 166,
     "metadata": {},
     "output_type": "execute_result"
    }
   ],
   "source": [
    "second_district_zips.head(2)"
   ]
  },
  {
   "cell_type": "code",
   "execution_count": 167,
   "metadata": {},
   "outputs": [],
   "source": [
    "second_district_zips.columns = second_district_zips.columns.str.strip().str.lower().str.replace(' ', '_').str.replace('(', '').str.replace(')', '')"
   ]
  },
  {
   "cell_type": "markdown",
   "metadata": {},
   "source": [
    "### How much did each of the candidates raise by zip?"
   ]
  },
  {
   "cell_type": "code",
   "execution_count": 168,
   "metadata": {},
   "outputs": [],
   "source": [
    "sum_by_zip = pd.pivot_table(second_district_zips, values='amount_rcvd', index=['zipcode'], columns=['candidate_slug'], aggfunc=np.sum, fill_value=0).reset_index()"
   ]
  },
  {
   "cell_type": "code",
   "execution_count": 169,
   "metadata": {},
   "outputs": [],
   "source": [
    "sum_by_zip[\"total\"] = sum_by_zip.sum(axis=1)"
   ]
  },
  {
   "cell_type": "code",
   "execution_count": 170,
   "metadata": {},
   "outputs": [],
   "source": [
    "sum_by_zip.columns = sum_by_zip.columns.to_series().str.join('')"
   ]
  },
  {
   "cell_type": "markdown",
   "metadata": {},
   "source": [
    "### How much did all of the candidates raise by zip?"
   ]
  },
  {
   "cell_type": "code",
   "execution_count": 171,
   "metadata": {},
   "outputs": [],
   "source": [
    "sum_by_zip = sum_by_zip.sort_values(\"total\", ascending=False)"
   ]
  },
  {
   "cell_type": "code",
   "execution_count": 172,
   "metadata": {},
   "outputs": [
    {
     "data": {
      "text/html": [
       "<div>\n",
       "<style scoped>\n",
       "    .dataframe tbody tr th:only-of-type {\n",
       "        vertical-align: middle;\n",
       "    }\n",
       "\n",
       "    .dataframe tbody tr th {\n",
       "        vertical-align: top;\n",
       "    }\n",
       "\n",
       "    .dataframe thead th {\n",
       "        text-align: right;\n",
       "    }\n",
       "</style>\n",
       "<table border=\"1\" class=\"dataframe\">\n",
       "  <thead>\n",
       "    <tr style=\"text-align: right;\">\n",
       "      <th>candidate_slug</th>\n",
       "      <th>zipcode</th>\n",
       "      <th>chan_jeong</th>\n",
       "      <th>herb_wesson</th>\n",
       "      <th>holly_mitchell</th>\n",
       "      <th>jan_perry</th>\n",
       "      <th>total</th>\n",
       "    </tr>\n",
       "  </thead>\n",
       "  <tbody>\n",
       "    <tr>\n",
       "      <th>3</th>\n",
       "      <td>90005</td>\n",
       "      <td>5200</td>\n",
       "      <td>49550</td>\n",
       "      <td>3500</td>\n",
       "      <td>4500</td>\n",
       "      <td>62750</td>\n",
       "    </tr>\n",
       "    <tr>\n",
       "      <th>14</th>\n",
       "      <td>90017</td>\n",
       "      <td>4000</td>\n",
       "      <td>18738</td>\n",
       "      <td>12515</td>\n",
       "      <td>9250</td>\n",
       "      <td>44503</td>\n",
       "    </tr>\n",
       "    <tr>\n",
       "      <th>62</th>\n",
       "      <td>90210</td>\n",
       "      <td>0</td>\n",
       "      <td>20500</td>\n",
       "      <td>4200</td>\n",
       "      <td>17780</td>\n",
       "      <td>42480</td>\n",
       "    </tr>\n",
       "    <tr>\n",
       "      <th>44</th>\n",
       "      <td>90049</td>\n",
       "      <td>0</td>\n",
       "      <td>14949</td>\n",
       "      <td>7000</td>\n",
       "      <td>20350</td>\n",
       "      <td>42299</td>\n",
       "    </tr>\n",
       "    <tr>\n",
       "      <th>21</th>\n",
       "      <td>90024</td>\n",
       "      <td>0</td>\n",
       "      <td>17000</td>\n",
       "      <td>7500</td>\n",
       "      <td>10000</td>\n",
       "      <td>34500</td>\n",
       "    </tr>\n",
       "  </tbody>\n",
       "</table>\n",
       "</div>"
      ],
      "text/plain": [
       "candidate_slug zipcode  chan_jeong  herb_wesson  holly_mitchell  jan_perry  \\\n",
       "3                90005        5200        49550            3500       4500   \n",
       "14               90017        4000        18738           12515       9250   \n",
       "62               90210           0        20500            4200      17780   \n",
       "44               90049           0        14949            7000      20350   \n",
       "21               90024           0        17000            7500      10000   \n",
       "\n",
       "candidate_slug  total  \n",
       "3               62750  \n",
       "14              44503  \n",
       "62              42480  \n",
       "44              42299  \n",
       "21              34500  "
      ]
     },
     "execution_count": 172,
     "metadata": {},
     "output_type": "execute_result"
    }
   ],
   "source": [
    "sum_by_zip.head()"
   ]
  },
  {
   "cell_type": "code",
   "execution_count": 173,
   "metadata": {},
   "outputs": [
    {
     "data": {
      "text/html": [
       "<div>\n",
       "<style scoped>\n",
       "    .dataframe tbody tr th:only-of-type {\n",
       "        vertical-align: middle;\n",
       "    }\n",
       "\n",
       "    .dataframe tbody tr th {\n",
       "        vertical-align: top;\n",
       "    }\n",
       "\n",
       "    .dataframe thead th {\n",
       "        text-align: right;\n",
       "    }\n",
       "</style>\n",
       "<table border=\"1\" class=\"dataframe\">\n",
       "  <thead>\n",
       "    <tr style=\"text-align: right;\">\n",
       "      <th>candidate_slug</th>\n",
       "      <th>zipcode</th>\n",
       "      <th>total</th>\n",
       "    </tr>\n",
       "  </thead>\n",
       "  <tbody>\n",
       "    <tr>\n",
       "      <th>3</th>\n",
       "      <td>90005</td>\n",
       "      <td>62750</td>\n",
       "    </tr>\n",
       "    <tr>\n",
       "      <th>14</th>\n",
       "      <td>90017</td>\n",
       "      <td>44503</td>\n",
       "    </tr>\n",
       "    <tr>\n",
       "      <th>62</th>\n",
       "      <td>90210</td>\n",
       "      <td>42480</td>\n",
       "    </tr>\n",
       "    <tr>\n",
       "      <th>44</th>\n",
       "      <td>90049</td>\n",
       "      <td>42299</td>\n",
       "    </tr>\n",
       "    <tr>\n",
       "      <th>21</th>\n",
       "      <td>90024</td>\n",
       "      <td>34500</td>\n",
       "    </tr>\n",
       "    <tr>\n",
       "      <th>17</th>\n",
       "      <td>90020</td>\n",
       "      <td>32300</td>\n",
       "    </tr>\n",
       "    <tr>\n",
       "      <th>16</th>\n",
       "      <td>90019</td>\n",
       "      <td>30350</td>\n",
       "    </tr>\n",
       "    <tr>\n",
       "      <th>12</th>\n",
       "      <td>90015</td>\n",
       "      <td>30325</td>\n",
       "    </tr>\n",
       "    <tr>\n",
       "      <th>45</th>\n",
       "      <td>90056</td>\n",
       "      <td>29475</td>\n",
       "    </tr>\n",
       "    <tr>\n",
       "      <th>58</th>\n",
       "      <td>90071</td>\n",
       "      <td>28600</td>\n",
       "    </tr>\n",
       "    <tr>\n",
       "      <th>6</th>\n",
       "      <td>90008</td>\n",
       "      <td>28193</td>\n",
       "    </tr>\n",
       "    <tr>\n",
       "      <th>22</th>\n",
       "      <td>90025</td>\n",
       "      <td>27010</td>\n",
       "    </tr>\n",
       "    <tr>\n",
       "      <th>24</th>\n",
       "      <td>90027</td>\n",
       "      <td>26150</td>\n",
       "    </tr>\n",
       "    <tr>\n",
       "      <th>31</th>\n",
       "      <td>90036</td>\n",
       "      <td>25335</td>\n",
       "    </tr>\n",
       "    <tr>\n",
       "      <th>2</th>\n",
       "      <td>90004</td>\n",
       "      <td>24950</td>\n",
       "    </tr>\n",
       "    <tr>\n",
       "      <th>78</th>\n",
       "      <td>90266</td>\n",
       "      <td>23800</td>\n",
       "    </tr>\n",
       "    <tr>\n",
       "      <th>79</th>\n",
       "      <td>90272</td>\n",
       "      <td>22800</td>\n",
       "    </tr>\n",
       "    <tr>\n",
       "      <th>55</th>\n",
       "      <td>90067</td>\n",
       "      <td>22025</td>\n",
       "    </tr>\n",
       "    <tr>\n",
       "      <th>184</th>\n",
       "      <td>91436</td>\n",
       "      <td>21800</td>\n",
       "    </tr>\n",
       "    <tr>\n",
       "      <th>52</th>\n",
       "      <td>90064</td>\n",
       "      <td>21200</td>\n",
       "    </tr>\n",
       "    <tr>\n",
       "      <th>63</th>\n",
       "      <td>90211</td>\n",
       "      <td>21100</td>\n",
       "    </tr>\n",
       "    <tr>\n",
       "      <th>40</th>\n",
       "      <td>90045</td>\n",
       "      <td>20700</td>\n",
       "    </tr>\n",
       "    <tr>\n",
       "      <th>41</th>\n",
       "      <td>90046</td>\n",
       "      <td>20600</td>\n",
       "    </tr>\n",
       "    <tr>\n",
       "      <th>86</th>\n",
       "      <td>90292</td>\n",
       "      <td>20500</td>\n",
       "    </tr>\n",
       "    <tr>\n",
       "      <th>57</th>\n",
       "      <td>90069</td>\n",
       "      <td>20250</td>\n",
       "    </tr>\n",
       "    <tr>\n",
       "      <th>9</th>\n",
       "      <td>90012</td>\n",
       "      <td>20200</td>\n",
       "    </tr>\n",
       "    <tr>\n",
       "      <th>64</th>\n",
       "      <td>90212</td>\n",
       "      <td>20150</td>\n",
       "    </tr>\n",
       "    <tr>\n",
       "      <th>38</th>\n",
       "      <td>90043</td>\n",
       "      <td>18856</td>\n",
       "    </tr>\n",
       "    <tr>\n",
       "      <th>92</th>\n",
       "      <td>90402</td>\n",
       "      <td>18750</td>\n",
       "    </tr>\n",
       "    <tr>\n",
       "      <th>11</th>\n",
       "      <td>90014</td>\n",
       "      <td>16850</td>\n",
       "    </tr>\n",
       "    <tr>\n",
       "      <th>...</th>\n",
       "      <td>...</td>\n",
       "      <td>...</td>\n",
       "    </tr>\n",
       "    <tr>\n",
       "      <th>108</th>\n",
       "      <td>90660</td>\n",
       "      <td>1000</td>\n",
       "    </tr>\n",
       "    <tr>\n",
       "      <th>194</th>\n",
       "      <td>91605</td>\n",
       "      <td>1000</td>\n",
       "    </tr>\n",
       "    <tr>\n",
       "      <th>215</th>\n",
       "      <td>91773</td>\n",
       "      <td>800</td>\n",
       "    </tr>\n",
       "    <tr>\n",
       "      <th>195</th>\n",
       "      <td>91606</td>\n",
       "      <td>700</td>\n",
       "    </tr>\n",
       "    <tr>\n",
       "      <th>50</th>\n",
       "      <td>90062</td>\n",
       "      <td>700</td>\n",
       "    </tr>\n",
       "    <tr>\n",
       "      <th>185</th>\n",
       "      <td>91501</td>\n",
       "      <td>650</td>\n",
       "    </tr>\n",
       "    <tr>\n",
       "      <th>211</th>\n",
       "      <td>91755</td>\n",
       "      <td>600</td>\n",
       "    </tr>\n",
       "    <tr>\n",
       "      <th>131</th>\n",
       "      <td>91006</td>\n",
       "      <td>500</td>\n",
       "    </tr>\n",
       "    <tr>\n",
       "      <th>219</th>\n",
       "      <td>91791</td>\n",
       "      <td>500</td>\n",
       "    </tr>\n",
       "    <tr>\n",
       "      <th>51</th>\n",
       "      <td>90063</td>\n",
       "      <td>500</td>\n",
       "    </tr>\n",
       "    <tr>\n",
       "      <th>189</th>\n",
       "      <td>91521</td>\n",
       "      <td>500</td>\n",
       "    </tr>\n",
       "    <tr>\n",
       "      <th>148</th>\n",
       "      <td>91203</td>\n",
       "      <td>500</td>\n",
       "    </tr>\n",
       "    <tr>\n",
       "      <th>141</th>\n",
       "      <td>91104</td>\n",
       "      <td>450</td>\n",
       "    </tr>\n",
       "    <tr>\n",
       "      <th>196</th>\n",
       "      <td>91607</td>\n",
       "      <td>350</td>\n",
       "    </tr>\n",
       "    <tr>\n",
       "      <th>49</th>\n",
       "      <td>90061</td>\n",
       "      <td>325</td>\n",
       "    </tr>\n",
       "    <tr>\n",
       "      <th>224</th>\n",
       "      <td>93551</td>\n",
       "      <td>300</td>\n",
       "    </tr>\n",
       "    <tr>\n",
       "      <th>32</th>\n",
       "      <td>90037</td>\n",
       "      <td>300</td>\n",
       "    </tr>\n",
       "    <tr>\n",
       "      <th>26</th>\n",
       "      <td>90029</td>\n",
       "      <td>250</td>\n",
       "    </tr>\n",
       "    <tr>\n",
       "      <th>19</th>\n",
       "      <td>90022</td>\n",
       "      <td>250</td>\n",
       "    </tr>\n",
       "    <tr>\n",
       "      <th>136</th>\n",
       "      <td>91024</td>\n",
       "      <td>225</td>\n",
       "    </tr>\n",
       "    <tr>\n",
       "      <th>138</th>\n",
       "      <td>91042</td>\n",
       "      <td>200</td>\n",
       "    </tr>\n",
       "    <tr>\n",
       "      <th>201</th>\n",
       "      <td>91724</td>\n",
       "      <td>125</td>\n",
       "    </tr>\n",
       "    <tr>\n",
       "      <th>107</th>\n",
       "      <td>90650</td>\n",
       "      <td>125</td>\n",
       "    </tr>\n",
       "    <tr>\n",
       "      <th>101</th>\n",
       "      <td>90602</td>\n",
       "      <td>100</td>\n",
       "    </tr>\n",
       "    <tr>\n",
       "      <th>166</th>\n",
       "      <td>91343</td>\n",
       "      <td>100</td>\n",
       "    </tr>\n",
       "    <tr>\n",
       "      <th>171</th>\n",
       "      <td>91354</td>\n",
       "      <td>100</td>\n",
       "    </tr>\n",
       "    <tr>\n",
       "      <th>203</th>\n",
       "      <td>91732</td>\n",
       "      <td>100</td>\n",
       "    </tr>\n",
       "    <tr>\n",
       "      <th>111</th>\n",
       "      <td>90706</td>\n",
       "      <td>100</td>\n",
       "    </tr>\n",
       "    <tr>\n",
       "      <th>127</th>\n",
       "      <td>90814</td>\n",
       "      <td>100</td>\n",
       "    </tr>\n",
       "    <tr>\n",
       "      <th>200</th>\n",
       "      <td>91723</td>\n",
       "      <td>100</td>\n",
       "    </tr>\n",
       "  </tbody>\n",
       "</table>\n",
       "<p>225 rows × 2 columns</p>\n",
       "</div>"
      ],
      "text/plain": [
       "candidate_slug zipcode  total\n",
       "3                90005  62750\n",
       "14               90017  44503\n",
       "62               90210  42480\n",
       "44               90049  42299\n",
       "21               90024  34500\n",
       "17               90020  32300\n",
       "16               90019  30350\n",
       "12               90015  30325\n",
       "45               90056  29475\n",
       "58               90071  28600\n",
       "6                90008  28193\n",
       "22               90025  27010\n",
       "24               90027  26150\n",
       "31               90036  25335\n",
       "2                90004  24950\n",
       "78               90266  23800\n",
       "79               90272  22800\n",
       "55               90067  22025\n",
       "184              91436  21800\n",
       "52               90064  21200\n",
       "63               90211  21100\n",
       "40               90045  20700\n",
       "41               90046  20600\n",
       "86               90292  20500\n",
       "57               90069  20250\n",
       "9                90012  20200\n",
       "64               90212  20150\n",
       "38               90043  18856\n",
       "92               90402  18750\n",
       "11               90014  16850\n",
       "..                 ...    ...\n",
       "108              90660   1000\n",
       "194              91605   1000\n",
       "215              91773    800\n",
       "195              91606    700\n",
       "50               90062    700\n",
       "185              91501    650\n",
       "211              91755    600\n",
       "131              91006    500\n",
       "219              91791    500\n",
       "51               90063    500\n",
       "189              91521    500\n",
       "148              91203    500\n",
       "141              91104    450\n",
       "196              91607    350\n",
       "49               90061    325\n",
       "224              93551    300\n",
       "32               90037    300\n",
       "26               90029    250\n",
       "19               90022    250\n",
       "136              91024    225\n",
       "138              91042    200\n",
       "201              91724    125\n",
       "107              90650    125\n",
       "101              90602    100\n",
       "166              91343    100\n",
       "171              91354    100\n",
       "203              91732    100\n",
       "111              90706    100\n",
       "127              90814    100\n",
       "200              91723    100\n",
       "\n",
       "[225 rows x 2 columns]"
      ]
     },
     "execution_count": 173,
     "metadata": {},
     "output_type": "execute_result"
    }
   ],
   "source": [
    "sum_by_zip[['zipcode', 'total']].sort_values(by='total', ascending=False)"
   ]
  },
  {
   "cell_type": "markdown",
   "metadata": {},
   "source": [
    "### How much was donated to all candidates from L.A. County zips? "
   ]
  },
  {
   "cell_type": "code",
   "execution_count": 180,
   "metadata": {},
   "outputs": [
    {
     "data": {
      "text/plain": [
       "1578057"
      ]
     },
     "execution_count": 180,
     "metadata": {},
     "output_type": "execute_result"
    }
   ],
   "source": [
    "sum_by_zip.total.sum()"
   ]
  },
  {
   "cell_type": "markdown",
   "metadata": {},
   "source": [
    "### How many zips in LA County donated? "
   ]
  },
  {
   "cell_type": "code",
   "execution_count": 181,
   "metadata": {
    "scrolled": false
   },
   "outputs": [
    {
     "data": {
      "text/plain": [
       "225"
      ]
     },
     "execution_count": 181,
     "metadata": {},
     "output_type": "execute_result"
    }
   ],
   "source": [
    "sum_by_zip.total.count()"
   ]
  },
  {
   "cell_type": "markdown",
   "metadata": {},
   "source": [
    "### Which 2nd District candidate received the most in each zip? "
   ]
  },
  {
   "cell_type": "code",
   "execution_count": 214,
   "metadata": {},
   "outputs": [],
   "source": [
    "#create a dummy field because i'm bad at idxmax; \n",
    "sum_by_zip['tie'] = '0'"
   ]
  },
  {
   "cell_type": "code",
   "execution_count": 215,
   "metadata": {},
   "outputs": [],
   "source": [
    "#reshape dataframe\n",
    "sum_by_zip_winner = sum_by_zip[['zipcode', 'tie','chan_jeong','herb_wesson','jan_perry','holly_mitchell','total']]"
   ]
  },
  {
   "cell_type": "code",
   "execution_count": 216,
   "metadata": {},
   "outputs": [],
   "source": [
    "sum_by_zip_winner['tie'] = sum_by_zip_winner['tie'].astype(int)\n",
    "sum_by_zip_winner['zipcode'] = sum_by_zip_winner['zipcode'].astype(str)"
   ]
  },
  {
   "cell_type": "code",
   "execution_count": 217,
   "metadata": {},
   "outputs": [],
   "source": [
    "#who won each zip?\n",
    "sum_by_zip_winner['winner_dist_two'] = sum_by_zip_winner[['tie','chan_jeong','herb_wesson','jan_perry','holly_mitchell']].idxmax(axis=1)"
   ]
  },
  {
   "cell_type": "code",
   "execution_count": 218,
   "metadata": {},
   "outputs": [],
   "source": [
    "#how much did each zip winner raise from there? \n",
    "sum_by_zip_winner['winner_total'] = sum_by_zip_winner[['tie','chan_jeong','herb_wesson','jan_perry','holly_mitchell']].max(axis=1)"
   ]
  },
  {
   "cell_type": "code",
   "execution_count": 219,
   "metadata": {},
   "outputs": [],
   "source": [
    "sum_by_zip_winner['winner_dist_two']= sum_by_zip_winner['winner_dist_two'].str.title().str.replace('_',' ')"
   ]
  },
  {
   "cell_type": "code",
   "execution_count": 220,
   "metadata": {},
   "outputs": [
    {
     "data": {
      "text/html": [
       "<div>\n",
       "<style scoped>\n",
       "    .dataframe tbody tr th:only-of-type {\n",
       "        vertical-align: middle;\n",
       "    }\n",
       "\n",
       "    .dataframe tbody tr th {\n",
       "        vertical-align: top;\n",
       "    }\n",
       "\n",
       "    .dataframe thead th {\n",
       "        text-align: right;\n",
       "    }\n",
       "</style>\n",
       "<table border=\"1\" class=\"dataframe\">\n",
       "  <thead>\n",
       "    <tr style=\"text-align: right;\">\n",
       "      <th>candidate_slug</th>\n",
       "      <th>zipcode</th>\n",
       "      <th>tie</th>\n",
       "      <th>chan_jeong</th>\n",
       "      <th>herb_wesson</th>\n",
       "      <th>jan_perry</th>\n",
       "      <th>holly_mitchell</th>\n",
       "      <th>total</th>\n",
       "      <th>winner_dist_two</th>\n",
       "      <th>winner_total</th>\n",
       "    </tr>\n",
       "  </thead>\n",
       "  <tbody>\n",
       "    <tr>\n",
       "      <th>3</th>\n",
       "      <td>90005</td>\n",
       "      <td>0</td>\n",
       "      <td>5200</td>\n",
       "      <td>49550</td>\n",
       "      <td>4500</td>\n",
       "      <td>3500</td>\n",
       "      <td>62750</td>\n",
       "      <td>Herb Wesson</td>\n",
       "      <td>49550</td>\n",
       "    </tr>\n",
       "    <tr>\n",
       "      <th>14</th>\n",
       "      <td>90017</td>\n",
       "      <td>0</td>\n",
       "      <td>4000</td>\n",
       "      <td>18738</td>\n",
       "      <td>9250</td>\n",
       "      <td>12515</td>\n",
       "      <td>44503</td>\n",
       "      <td>Herb Wesson</td>\n",
       "      <td>18738</td>\n",
       "    </tr>\n",
       "    <tr>\n",
       "      <th>62</th>\n",
       "      <td>90210</td>\n",
       "      <td>0</td>\n",
       "      <td>0</td>\n",
       "      <td>20500</td>\n",
       "      <td>17780</td>\n",
       "      <td>4200</td>\n",
       "      <td>42480</td>\n",
       "      <td>Herb Wesson</td>\n",
       "      <td>20500</td>\n",
       "    </tr>\n",
       "    <tr>\n",
       "      <th>44</th>\n",
       "      <td>90049</td>\n",
       "      <td>0</td>\n",
       "      <td>0</td>\n",
       "      <td>14949</td>\n",
       "      <td>20350</td>\n",
       "      <td>7000</td>\n",
       "      <td>42299</td>\n",
       "      <td>Jan Perry</td>\n",
       "      <td>20350</td>\n",
       "    </tr>\n",
       "    <tr>\n",
       "      <th>21</th>\n",
       "      <td>90024</td>\n",
       "      <td>0</td>\n",
       "      <td>0</td>\n",
       "      <td>17000</td>\n",
       "      <td>10000</td>\n",
       "      <td>7500</td>\n",
       "      <td>34500</td>\n",
       "      <td>Herb Wesson</td>\n",
       "      <td>17000</td>\n",
       "    </tr>\n",
       "    <tr>\n",
       "      <th>17</th>\n",
       "      <td>90020</td>\n",
       "      <td>0</td>\n",
       "      <td>6500</td>\n",
       "      <td>15600</td>\n",
       "      <td>7200</td>\n",
       "      <td>3000</td>\n",
       "      <td>32300</td>\n",
       "      <td>Herb Wesson</td>\n",
       "      <td>15600</td>\n",
       "    </tr>\n",
       "    <tr>\n",
       "      <th>16</th>\n",
       "      <td>90019</td>\n",
       "      <td>0</td>\n",
       "      <td>550</td>\n",
       "      <td>16950</td>\n",
       "      <td>8700</td>\n",
       "      <td>4150</td>\n",
       "      <td>30350</td>\n",
       "      <td>Herb Wesson</td>\n",
       "      <td>16950</td>\n",
       "    </tr>\n",
       "    <tr>\n",
       "      <th>12</th>\n",
       "      <td>90015</td>\n",
       "      <td>0</td>\n",
       "      <td>1000</td>\n",
       "      <td>13500</td>\n",
       "      <td>15225</td>\n",
       "      <td>600</td>\n",
       "      <td>30325</td>\n",
       "      <td>Jan Perry</td>\n",
       "      <td>15225</td>\n",
       "    </tr>\n",
       "    <tr>\n",
       "      <th>45</th>\n",
       "      <td>90056</td>\n",
       "      <td>0</td>\n",
       "      <td>0</td>\n",
       "      <td>9300</td>\n",
       "      <td>7150</td>\n",
       "      <td>13025</td>\n",
       "      <td>29475</td>\n",
       "      <td>Holly Mitchell</td>\n",
       "      <td>13025</td>\n",
       "    </tr>\n",
       "    <tr>\n",
       "      <th>58</th>\n",
       "      <td>90071</td>\n",
       "      <td>0</td>\n",
       "      <td>0</td>\n",
       "      <td>15800</td>\n",
       "      <td>9800</td>\n",
       "      <td>3000</td>\n",
       "      <td>28600</td>\n",
       "      <td>Herb Wesson</td>\n",
       "      <td>15800</td>\n",
       "    </tr>\n",
       "    <tr>\n",
       "      <th>6</th>\n",
       "      <td>90008</td>\n",
       "      <td>0</td>\n",
       "      <td>0</td>\n",
       "      <td>11043</td>\n",
       "      <td>14250</td>\n",
       "      <td>2900</td>\n",
       "      <td>28193</td>\n",
       "      <td>Jan Perry</td>\n",
       "      <td>14250</td>\n",
       "    </tr>\n",
       "    <tr>\n",
       "      <th>22</th>\n",
       "      <td>90025</td>\n",
       "      <td>0</td>\n",
       "      <td>1500</td>\n",
       "      <td>9625</td>\n",
       "      <td>13600</td>\n",
       "      <td>2285</td>\n",
       "      <td>27010</td>\n",
       "      <td>Jan Perry</td>\n",
       "      <td>13600</td>\n",
       "    </tr>\n",
       "    <tr>\n",
       "      <th>24</th>\n",
       "      <td>90027</td>\n",
       "      <td>0</td>\n",
       "      <td>0</td>\n",
       "      <td>19250</td>\n",
       "      <td>5800</td>\n",
       "      <td>1100</td>\n",
       "      <td>26150</td>\n",
       "      <td>Herb Wesson</td>\n",
       "      <td>19250</td>\n",
       "    </tr>\n",
       "    <tr>\n",
       "      <th>31</th>\n",
       "      <td>90036</td>\n",
       "      <td>0</td>\n",
       "      <td>0</td>\n",
       "      <td>17800</td>\n",
       "      <td>7225</td>\n",
       "      <td>310</td>\n",
       "      <td>25335</td>\n",
       "      <td>Herb Wesson</td>\n",
       "      <td>17800</td>\n",
       "    </tr>\n",
       "    <tr>\n",
       "      <th>2</th>\n",
       "      <td>90004</td>\n",
       "      <td>0</td>\n",
       "      <td>1300</td>\n",
       "      <td>14000</td>\n",
       "      <td>6150</td>\n",
       "      <td>3500</td>\n",
       "      <td>24950</td>\n",
       "      <td>Herb Wesson</td>\n",
       "      <td>14000</td>\n",
       "    </tr>\n",
       "    <tr>\n",
       "      <th>78</th>\n",
       "      <td>90266</td>\n",
       "      <td>0</td>\n",
       "      <td>0</td>\n",
       "      <td>23300</td>\n",
       "      <td>0</td>\n",
       "      <td>500</td>\n",
       "      <td>23800</td>\n",
       "      <td>Herb Wesson</td>\n",
       "      <td>23300</td>\n",
       "    </tr>\n",
       "    <tr>\n",
       "      <th>79</th>\n",
       "      <td>90272</td>\n",
       "      <td>0</td>\n",
       "      <td>0</td>\n",
       "      <td>10500</td>\n",
       "      <td>12050</td>\n",
       "      <td>250</td>\n",
       "      <td>22800</td>\n",
       "      <td>Jan Perry</td>\n",
       "      <td>12050</td>\n",
       "    </tr>\n",
       "    <tr>\n",
       "      <th>55</th>\n",
       "      <td>90067</td>\n",
       "      <td>0</td>\n",
       "      <td>0</td>\n",
       "      <td>11500</td>\n",
       "      <td>6875</td>\n",
       "      <td>3650</td>\n",
       "      <td>22025</td>\n",
       "      <td>Herb Wesson</td>\n",
       "      <td>11500</td>\n",
       "    </tr>\n",
       "    <tr>\n",
       "      <th>184</th>\n",
       "      <td>91436</td>\n",
       "      <td>0</td>\n",
       "      <td>0</td>\n",
       "      <td>13100</td>\n",
       "      <td>5200</td>\n",
       "      <td>3500</td>\n",
       "      <td>21800</td>\n",
       "      <td>Herb Wesson</td>\n",
       "      <td>13100</td>\n",
       "    </tr>\n",
       "    <tr>\n",
       "      <th>52</th>\n",
       "      <td>90064</td>\n",
       "      <td>0</td>\n",
       "      <td>0</td>\n",
       "      <td>8000</td>\n",
       "      <td>3150</td>\n",
       "      <td>10050</td>\n",
       "      <td>21200</td>\n",
       "      <td>Holly Mitchell</td>\n",
       "      <td>10050</td>\n",
       "    </tr>\n",
       "    <tr>\n",
       "      <th>63</th>\n",
       "      <td>90211</td>\n",
       "      <td>0</td>\n",
       "      <td>0</td>\n",
       "      <td>16500</td>\n",
       "      <td>4600</td>\n",
       "      <td>0</td>\n",
       "      <td>21100</td>\n",
       "      <td>Herb Wesson</td>\n",
       "      <td>16500</td>\n",
       "    </tr>\n",
       "    <tr>\n",
       "      <th>40</th>\n",
       "      <td>90045</td>\n",
       "      <td>0</td>\n",
       "      <td>0</td>\n",
       "      <td>13400</td>\n",
       "      <td>5350</td>\n",
       "      <td>1950</td>\n",
       "      <td>20700</td>\n",
       "      <td>Herb Wesson</td>\n",
       "      <td>13400</td>\n",
       "    </tr>\n",
       "    <tr>\n",
       "      <th>41</th>\n",
       "      <td>90046</td>\n",
       "      <td>0</td>\n",
       "      <td>0</td>\n",
       "      <td>9500</td>\n",
       "      <td>5000</td>\n",
       "      <td>6100</td>\n",
       "      <td>20600</td>\n",
       "      <td>Herb Wesson</td>\n",
       "      <td>9500</td>\n",
       "    </tr>\n",
       "    <tr>\n",
       "      <th>86</th>\n",
       "      <td>90292</td>\n",
       "      <td>0</td>\n",
       "      <td>0</td>\n",
       "      <td>9500</td>\n",
       "      <td>7800</td>\n",
       "      <td>3200</td>\n",
       "      <td>20500</td>\n",
       "      <td>Herb Wesson</td>\n",
       "      <td>9500</td>\n",
       "    </tr>\n",
       "    <tr>\n",
       "      <th>57</th>\n",
       "      <td>90069</td>\n",
       "      <td>0</td>\n",
       "      <td>0</td>\n",
       "      <td>9100</td>\n",
       "      <td>8050</td>\n",
       "      <td>3100</td>\n",
       "      <td>20250</td>\n",
       "      <td>Herb Wesson</td>\n",
       "      <td>9100</td>\n",
       "    </tr>\n",
       "    <tr>\n",
       "      <th>9</th>\n",
       "      <td>90012</td>\n",
       "      <td>0</td>\n",
       "      <td>250</td>\n",
       "      <td>9750</td>\n",
       "      <td>9200</td>\n",
       "      <td>1000</td>\n",
       "      <td>20200</td>\n",
       "      <td>Herb Wesson</td>\n",
       "      <td>9750</td>\n",
       "    </tr>\n",
       "    <tr>\n",
       "      <th>64</th>\n",
       "      <td>90212</td>\n",
       "      <td>0</td>\n",
       "      <td>0</td>\n",
       "      <td>10650</td>\n",
       "      <td>7750</td>\n",
       "      <td>1750</td>\n",
       "      <td>20150</td>\n",
       "      <td>Herb Wesson</td>\n",
       "      <td>10650</td>\n",
       "    </tr>\n",
       "    <tr>\n",
       "      <th>38</th>\n",
       "      <td>90043</td>\n",
       "      <td>0</td>\n",
       "      <td>0</td>\n",
       "      <td>5300</td>\n",
       "      <td>3800</td>\n",
       "      <td>9756</td>\n",
       "      <td>18856</td>\n",
       "      <td>Holly Mitchell</td>\n",
       "      <td>9756</td>\n",
       "    </tr>\n",
       "    <tr>\n",
       "      <th>92</th>\n",
       "      <td>90402</td>\n",
       "      <td>0</td>\n",
       "      <td>0</td>\n",
       "      <td>10250</td>\n",
       "      <td>3500</td>\n",
       "      <td>5000</td>\n",
       "      <td>18750</td>\n",
       "      <td>Herb Wesson</td>\n",
       "      <td>10250</td>\n",
       "    </tr>\n",
       "    <tr>\n",
       "      <th>11</th>\n",
       "      <td>90014</td>\n",
       "      <td>0</td>\n",
       "      <td>0</td>\n",
       "      <td>2250</td>\n",
       "      <td>14600</td>\n",
       "      <td>0</td>\n",
       "      <td>16850</td>\n",
       "      <td>Jan Perry</td>\n",
       "      <td>14600</td>\n",
       "    </tr>\n",
       "    <tr>\n",
       "      <th>...</th>\n",
       "      <td>...</td>\n",
       "      <td>...</td>\n",
       "      <td>...</td>\n",
       "      <td>...</td>\n",
       "      <td>...</td>\n",
       "      <td>...</td>\n",
       "      <td>...</td>\n",
       "      <td>...</td>\n",
       "      <td>...</td>\n",
       "    </tr>\n",
       "    <tr>\n",
       "      <th>100</th>\n",
       "      <td>90505</td>\n",
       "      <td>0</td>\n",
       "      <td>0</td>\n",
       "      <td>1000</td>\n",
       "      <td>0</td>\n",
       "      <td>0</td>\n",
       "      <td>1000</td>\n",
       "      <td>Herb Wesson</td>\n",
       "      <td>1000</td>\n",
       "    </tr>\n",
       "    <tr>\n",
       "      <th>108</th>\n",
       "      <td>90660</td>\n",
       "      <td>0</td>\n",
       "      <td>0</td>\n",
       "      <td>0</td>\n",
       "      <td>0</td>\n",
       "      <td>1000</td>\n",
       "      <td>1000</td>\n",
       "      <td>Holly Mitchell</td>\n",
       "      <td>1000</td>\n",
       "    </tr>\n",
       "    <tr>\n",
       "      <th>215</th>\n",
       "      <td>91773</td>\n",
       "      <td>0</td>\n",
       "      <td>0</td>\n",
       "      <td>800</td>\n",
       "      <td>0</td>\n",
       "      <td>0</td>\n",
       "      <td>800</td>\n",
       "      <td>Herb Wesson</td>\n",
       "      <td>800</td>\n",
       "    </tr>\n",
       "    <tr>\n",
       "      <th>50</th>\n",
       "      <td>90062</td>\n",
       "      <td>0</td>\n",
       "      <td>0</td>\n",
       "      <td>500</td>\n",
       "      <td>200</td>\n",
       "      <td>0</td>\n",
       "      <td>700</td>\n",
       "      <td>Herb Wesson</td>\n",
       "      <td>500</td>\n",
       "    </tr>\n",
       "    <tr>\n",
       "      <th>195</th>\n",
       "      <td>91606</td>\n",
       "      <td>0</td>\n",
       "      <td>700</td>\n",
       "      <td>0</td>\n",
       "      <td>0</td>\n",
       "      <td>0</td>\n",
       "      <td>700</td>\n",
       "      <td>Chan Jeong</td>\n",
       "      <td>700</td>\n",
       "    </tr>\n",
       "    <tr>\n",
       "      <th>185</th>\n",
       "      <td>91501</td>\n",
       "      <td>0</td>\n",
       "      <td>0</td>\n",
       "      <td>0</td>\n",
       "      <td>650</td>\n",
       "      <td>0</td>\n",
       "      <td>650</td>\n",
       "      <td>Jan Perry</td>\n",
       "      <td>650</td>\n",
       "    </tr>\n",
       "    <tr>\n",
       "      <th>211</th>\n",
       "      <td>91755</td>\n",
       "      <td>0</td>\n",
       "      <td>0</td>\n",
       "      <td>0</td>\n",
       "      <td>600</td>\n",
       "      <td>0</td>\n",
       "      <td>600</td>\n",
       "      <td>Jan Perry</td>\n",
       "      <td>600</td>\n",
       "    </tr>\n",
       "    <tr>\n",
       "      <th>131</th>\n",
       "      <td>91006</td>\n",
       "      <td>0</td>\n",
       "      <td>0</td>\n",
       "      <td>500</td>\n",
       "      <td>0</td>\n",
       "      <td>0</td>\n",
       "      <td>500</td>\n",
       "      <td>Herb Wesson</td>\n",
       "      <td>500</td>\n",
       "    </tr>\n",
       "    <tr>\n",
       "      <th>219</th>\n",
       "      <td>91791</td>\n",
       "      <td>0</td>\n",
       "      <td>0</td>\n",
       "      <td>0</td>\n",
       "      <td>500</td>\n",
       "      <td>0</td>\n",
       "      <td>500</td>\n",
       "      <td>Jan Perry</td>\n",
       "      <td>500</td>\n",
       "    </tr>\n",
       "    <tr>\n",
       "      <th>51</th>\n",
       "      <td>90063</td>\n",
       "      <td>0</td>\n",
       "      <td>0</td>\n",
       "      <td>500</td>\n",
       "      <td>0</td>\n",
       "      <td>0</td>\n",
       "      <td>500</td>\n",
       "      <td>Herb Wesson</td>\n",
       "      <td>500</td>\n",
       "    </tr>\n",
       "    <tr>\n",
       "      <th>189</th>\n",
       "      <td>91521</td>\n",
       "      <td>0</td>\n",
       "      <td>0</td>\n",
       "      <td>0</td>\n",
       "      <td>500</td>\n",
       "      <td>0</td>\n",
       "      <td>500</td>\n",
       "      <td>Jan Perry</td>\n",
       "      <td>500</td>\n",
       "    </tr>\n",
       "    <tr>\n",
       "      <th>148</th>\n",
       "      <td>91203</td>\n",
       "      <td>0</td>\n",
       "      <td>0</td>\n",
       "      <td>0</td>\n",
       "      <td>0</td>\n",
       "      <td>500</td>\n",
       "      <td>500</td>\n",
       "      <td>Holly Mitchell</td>\n",
       "      <td>500</td>\n",
       "    </tr>\n",
       "    <tr>\n",
       "      <th>141</th>\n",
       "      <td>91104</td>\n",
       "      <td>0</td>\n",
       "      <td>0</td>\n",
       "      <td>200</td>\n",
       "      <td>0</td>\n",
       "      <td>250</td>\n",
       "      <td>450</td>\n",
       "      <td>Holly Mitchell</td>\n",
       "      <td>250</td>\n",
       "    </tr>\n",
       "    <tr>\n",
       "      <th>196</th>\n",
       "      <td>91607</td>\n",
       "      <td>0</td>\n",
       "      <td>0</td>\n",
       "      <td>0</td>\n",
       "      <td>350</td>\n",
       "      <td>0</td>\n",
       "      <td>350</td>\n",
       "      <td>Jan Perry</td>\n",
       "      <td>350</td>\n",
       "    </tr>\n",
       "    <tr>\n",
       "      <th>49</th>\n",
       "      <td>90061</td>\n",
       "      <td>0</td>\n",
       "      <td>0</td>\n",
       "      <td>0</td>\n",
       "      <td>325</td>\n",
       "      <td>0</td>\n",
       "      <td>325</td>\n",
       "      <td>Jan Perry</td>\n",
       "      <td>325</td>\n",
       "    </tr>\n",
       "    <tr>\n",
       "      <th>224</th>\n",
       "      <td>93551</td>\n",
       "      <td>0</td>\n",
       "      <td>0</td>\n",
       "      <td>0</td>\n",
       "      <td>100</td>\n",
       "      <td>200</td>\n",
       "      <td>300</td>\n",
       "      <td>Holly Mitchell</td>\n",
       "      <td>200</td>\n",
       "    </tr>\n",
       "    <tr>\n",
       "      <th>32</th>\n",
       "      <td>90037</td>\n",
       "      <td>0</td>\n",
       "      <td>200</td>\n",
       "      <td>0</td>\n",
       "      <td>100</td>\n",
       "      <td>0</td>\n",
       "      <td>300</td>\n",
       "      <td>Chan Jeong</td>\n",
       "      <td>200</td>\n",
       "    </tr>\n",
       "    <tr>\n",
       "      <th>19</th>\n",
       "      <td>90022</td>\n",
       "      <td>0</td>\n",
       "      <td>0</td>\n",
       "      <td>0</td>\n",
       "      <td>0</td>\n",
       "      <td>250</td>\n",
       "      <td>250</td>\n",
       "      <td>Holly Mitchell</td>\n",
       "      <td>250</td>\n",
       "    </tr>\n",
       "    <tr>\n",
       "      <th>26</th>\n",
       "      <td>90029</td>\n",
       "      <td>0</td>\n",
       "      <td>0</td>\n",
       "      <td>0</td>\n",
       "      <td>250</td>\n",
       "      <td>0</td>\n",
       "      <td>250</td>\n",
       "      <td>Jan Perry</td>\n",
       "      <td>250</td>\n",
       "    </tr>\n",
       "    <tr>\n",
       "      <th>136</th>\n",
       "      <td>91024</td>\n",
       "      <td>0</td>\n",
       "      <td>0</td>\n",
       "      <td>0</td>\n",
       "      <td>225</td>\n",
       "      <td>0</td>\n",
       "      <td>225</td>\n",
       "      <td>Jan Perry</td>\n",
       "      <td>225</td>\n",
       "    </tr>\n",
       "    <tr>\n",
       "      <th>138</th>\n",
       "      <td>91042</td>\n",
       "      <td>0</td>\n",
       "      <td>0</td>\n",
       "      <td>0</td>\n",
       "      <td>200</td>\n",
       "      <td>0</td>\n",
       "      <td>200</td>\n",
       "      <td>Jan Perry</td>\n",
       "      <td>200</td>\n",
       "    </tr>\n",
       "    <tr>\n",
       "      <th>201</th>\n",
       "      <td>91724</td>\n",
       "      <td>0</td>\n",
       "      <td>0</td>\n",
       "      <td>0</td>\n",
       "      <td>0</td>\n",
       "      <td>125</td>\n",
       "      <td>125</td>\n",
       "      <td>Holly Mitchell</td>\n",
       "      <td>125</td>\n",
       "    </tr>\n",
       "    <tr>\n",
       "      <th>107</th>\n",
       "      <td>90650</td>\n",
       "      <td>0</td>\n",
       "      <td>0</td>\n",
       "      <td>125</td>\n",
       "      <td>0</td>\n",
       "      <td>0</td>\n",
       "      <td>125</td>\n",
       "      <td>Herb Wesson</td>\n",
       "      <td>125</td>\n",
       "    </tr>\n",
       "    <tr>\n",
       "      <th>101</th>\n",
       "      <td>90602</td>\n",
       "      <td>0</td>\n",
       "      <td>0</td>\n",
       "      <td>0</td>\n",
       "      <td>0</td>\n",
       "      <td>100</td>\n",
       "      <td>100</td>\n",
       "      <td>Holly Mitchell</td>\n",
       "      <td>100</td>\n",
       "    </tr>\n",
       "    <tr>\n",
       "      <th>166</th>\n",
       "      <td>91343</td>\n",
       "      <td>0</td>\n",
       "      <td>0</td>\n",
       "      <td>0</td>\n",
       "      <td>100</td>\n",
       "      <td>0</td>\n",
       "      <td>100</td>\n",
       "      <td>Jan Perry</td>\n",
       "      <td>100</td>\n",
       "    </tr>\n",
       "    <tr>\n",
       "      <th>171</th>\n",
       "      <td>91354</td>\n",
       "      <td>0</td>\n",
       "      <td>0</td>\n",
       "      <td>0</td>\n",
       "      <td>100</td>\n",
       "      <td>0</td>\n",
       "      <td>100</td>\n",
       "      <td>Jan Perry</td>\n",
       "      <td>100</td>\n",
       "    </tr>\n",
       "    <tr>\n",
       "      <th>203</th>\n",
       "      <td>91732</td>\n",
       "      <td>0</td>\n",
       "      <td>0</td>\n",
       "      <td>100</td>\n",
       "      <td>0</td>\n",
       "      <td>0</td>\n",
       "      <td>100</td>\n",
       "      <td>Herb Wesson</td>\n",
       "      <td>100</td>\n",
       "    </tr>\n",
       "    <tr>\n",
       "      <th>111</th>\n",
       "      <td>90706</td>\n",
       "      <td>0</td>\n",
       "      <td>0</td>\n",
       "      <td>0</td>\n",
       "      <td>100</td>\n",
       "      <td>0</td>\n",
       "      <td>100</td>\n",
       "      <td>Jan Perry</td>\n",
       "      <td>100</td>\n",
       "    </tr>\n",
       "    <tr>\n",
       "      <th>127</th>\n",
       "      <td>90814</td>\n",
       "      <td>0</td>\n",
       "      <td>0</td>\n",
       "      <td>0</td>\n",
       "      <td>100</td>\n",
       "      <td>0</td>\n",
       "      <td>100</td>\n",
       "      <td>Jan Perry</td>\n",
       "      <td>100</td>\n",
       "    </tr>\n",
       "    <tr>\n",
       "      <th>200</th>\n",
       "      <td>91723</td>\n",
       "      <td>0</td>\n",
       "      <td>0</td>\n",
       "      <td>100</td>\n",
       "      <td>0</td>\n",
       "      <td>0</td>\n",
       "      <td>100</td>\n",
       "      <td>Herb Wesson</td>\n",
       "      <td>100</td>\n",
       "    </tr>\n",
       "  </tbody>\n",
       "</table>\n",
       "<p>225 rows × 9 columns</p>\n",
       "</div>"
      ],
      "text/plain": [
       "candidate_slug zipcode  tie  chan_jeong  herb_wesson  jan_perry  \\\n",
       "3                90005    0        5200        49550       4500   \n",
       "14               90017    0        4000        18738       9250   \n",
       "62               90210    0           0        20500      17780   \n",
       "44               90049    0           0        14949      20350   \n",
       "21               90024    0           0        17000      10000   \n",
       "17               90020    0        6500        15600       7200   \n",
       "16               90019    0         550        16950       8700   \n",
       "12               90015    0        1000        13500      15225   \n",
       "45               90056    0           0         9300       7150   \n",
       "58               90071    0           0        15800       9800   \n",
       "6                90008    0           0        11043      14250   \n",
       "22               90025    0        1500         9625      13600   \n",
       "24               90027    0           0        19250       5800   \n",
       "31               90036    0           0        17800       7225   \n",
       "2                90004    0        1300        14000       6150   \n",
       "78               90266    0           0        23300          0   \n",
       "79               90272    0           0        10500      12050   \n",
       "55               90067    0           0        11500       6875   \n",
       "184              91436    0           0        13100       5200   \n",
       "52               90064    0           0         8000       3150   \n",
       "63               90211    0           0        16500       4600   \n",
       "40               90045    0           0        13400       5350   \n",
       "41               90046    0           0         9500       5000   \n",
       "86               90292    0           0         9500       7800   \n",
       "57               90069    0           0         9100       8050   \n",
       "9                90012    0         250         9750       9200   \n",
       "64               90212    0           0        10650       7750   \n",
       "38               90043    0           0         5300       3800   \n",
       "92               90402    0           0        10250       3500   \n",
       "11               90014    0           0         2250      14600   \n",
       "..                 ...  ...         ...          ...        ...   \n",
       "100              90505    0           0         1000          0   \n",
       "108              90660    0           0            0          0   \n",
       "215              91773    0           0          800          0   \n",
       "50               90062    0           0          500        200   \n",
       "195              91606    0         700            0          0   \n",
       "185              91501    0           0            0        650   \n",
       "211              91755    0           0            0        600   \n",
       "131              91006    0           0          500          0   \n",
       "219              91791    0           0            0        500   \n",
       "51               90063    0           0          500          0   \n",
       "189              91521    0           0            0        500   \n",
       "148              91203    0           0            0          0   \n",
       "141              91104    0           0          200          0   \n",
       "196              91607    0           0            0        350   \n",
       "49               90061    0           0            0        325   \n",
       "224              93551    0           0            0        100   \n",
       "32               90037    0         200            0        100   \n",
       "19               90022    0           0            0          0   \n",
       "26               90029    0           0            0        250   \n",
       "136              91024    0           0            0        225   \n",
       "138              91042    0           0            0        200   \n",
       "201              91724    0           0            0          0   \n",
       "107              90650    0           0          125          0   \n",
       "101              90602    0           0            0          0   \n",
       "166              91343    0           0            0        100   \n",
       "171              91354    0           0            0        100   \n",
       "203              91732    0           0          100          0   \n",
       "111              90706    0           0            0        100   \n",
       "127              90814    0           0            0        100   \n",
       "200              91723    0           0          100          0   \n",
       "\n",
       "candidate_slug  holly_mitchell  total winner_dist_two  winner_total  \n",
       "3                         3500  62750     Herb Wesson         49550  \n",
       "14                       12515  44503     Herb Wesson         18738  \n",
       "62                        4200  42480     Herb Wesson         20500  \n",
       "44                        7000  42299       Jan Perry         20350  \n",
       "21                        7500  34500     Herb Wesson         17000  \n",
       "17                        3000  32300     Herb Wesson         15600  \n",
       "16                        4150  30350     Herb Wesson         16950  \n",
       "12                         600  30325       Jan Perry         15225  \n",
       "45                       13025  29475  Holly Mitchell         13025  \n",
       "58                        3000  28600     Herb Wesson         15800  \n",
       "6                         2900  28193       Jan Perry         14250  \n",
       "22                        2285  27010       Jan Perry         13600  \n",
       "24                        1100  26150     Herb Wesson         19250  \n",
       "31                         310  25335     Herb Wesson         17800  \n",
       "2                         3500  24950     Herb Wesson         14000  \n",
       "78                         500  23800     Herb Wesson         23300  \n",
       "79                         250  22800       Jan Perry         12050  \n",
       "55                        3650  22025     Herb Wesson         11500  \n",
       "184                       3500  21800     Herb Wesson         13100  \n",
       "52                       10050  21200  Holly Mitchell         10050  \n",
       "63                           0  21100     Herb Wesson         16500  \n",
       "40                        1950  20700     Herb Wesson         13400  \n",
       "41                        6100  20600     Herb Wesson          9500  \n",
       "86                        3200  20500     Herb Wesson          9500  \n",
       "57                        3100  20250     Herb Wesson          9100  \n",
       "9                         1000  20200     Herb Wesson          9750  \n",
       "64                        1750  20150     Herb Wesson         10650  \n",
       "38                        9756  18856  Holly Mitchell          9756  \n",
       "92                        5000  18750     Herb Wesson         10250  \n",
       "11                           0  16850       Jan Perry         14600  \n",
       "..                         ...    ...             ...           ...  \n",
       "100                          0   1000     Herb Wesson          1000  \n",
       "108                       1000   1000  Holly Mitchell          1000  \n",
       "215                          0    800     Herb Wesson           800  \n",
       "50                           0    700     Herb Wesson           500  \n",
       "195                          0    700      Chan Jeong           700  \n",
       "185                          0    650       Jan Perry           650  \n",
       "211                          0    600       Jan Perry           600  \n",
       "131                          0    500     Herb Wesson           500  \n",
       "219                          0    500       Jan Perry           500  \n",
       "51                           0    500     Herb Wesson           500  \n",
       "189                          0    500       Jan Perry           500  \n",
       "148                        500    500  Holly Mitchell           500  \n",
       "141                        250    450  Holly Mitchell           250  \n",
       "196                          0    350       Jan Perry           350  \n",
       "49                           0    325       Jan Perry           325  \n",
       "224                        200    300  Holly Mitchell           200  \n",
       "32                           0    300      Chan Jeong           200  \n",
       "19                         250    250  Holly Mitchell           250  \n",
       "26                           0    250       Jan Perry           250  \n",
       "136                          0    225       Jan Perry           225  \n",
       "138                          0    200       Jan Perry           200  \n",
       "201                        125    125  Holly Mitchell           125  \n",
       "107                          0    125     Herb Wesson           125  \n",
       "101                        100    100  Holly Mitchell           100  \n",
       "166                          0    100       Jan Perry           100  \n",
       "171                          0    100       Jan Perry           100  \n",
       "203                          0    100     Herb Wesson           100  \n",
       "111                          0    100       Jan Perry           100  \n",
       "127                          0    100       Jan Perry           100  \n",
       "200                          0    100     Herb Wesson           100  \n",
       "\n",
       "[225 rows x 9 columns]"
      ]
     },
     "execution_count": 220,
     "metadata": {},
     "output_type": "execute_result"
    }
   ],
   "source": [
    "sum_by_zip_winner"
   ]
  },
  {
   "cell_type": "markdown",
   "metadata": {},
   "source": [
    "### Which were the top zips for each candidate? "
   ]
  },
  {
   "cell_type": "code",
   "execution_count": 221,
   "metadata": {},
   "outputs": [
    {
     "data": {
      "text/html": [
       "<div>\n",
       "<style scoped>\n",
       "    .dataframe tbody tr th:only-of-type {\n",
       "        vertical-align: middle;\n",
       "    }\n",
       "\n",
       "    .dataframe tbody tr th {\n",
       "        vertical-align: top;\n",
       "    }\n",
       "\n",
       "    .dataframe thead th {\n",
       "        text-align: right;\n",
       "    }\n",
       "</style>\n",
       "<table border=\"1\" class=\"dataframe\">\n",
       "  <thead>\n",
       "    <tr style=\"text-align: right;\">\n",
       "      <th>candidate_slug</th>\n",
       "      <th>zipcode</th>\n",
       "      <th>tie</th>\n",
       "      <th>chan_jeong</th>\n",
       "      <th>herb_wesson</th>\n",
       "      <th>jan_perry</th>\n",
       "      <th>holly_mitchell</th>\n",
       "      <th>total</th>\n",
       "      <th>winner_dist_two</th>\n",
       "      <th>winner_total</th>\n",
       "    </tr>\n",
       "  </thead>\n",
       "  <tbody>\n",
       "    <tr>\n",
       "      <th>3</th>\n",
       "      <td>90005</td>\n",
       "      <td>0</td>\n",
       "      <td>5200</td>\n",
       "      <td>49550</td>\n",
       "      <td>4500</td>\n",
       "      <td>3500</td>\n",
       "      <td>62750</td>\n",
       "      <td>Herb Wesson</td>\n",
       "      <td>49550</td>\n",
       "    </tr>\n",
       "    <tr>\n",
       "      <th>14</th>\n",
       "      <td>90017</td>\n",
       "      <td>0</td>\n",
       "      <td>4000</td>\n",
       "      <td>18738</td>\n",
       "      <td>9250</td>\n",
       "      <td>12515</td>\n",
       "      <td>44503</td>\n",
       "      <td>Herb Wesson</td>\n",
       "      <td>18738</td>\n",
       "    </tr>\n",
       "    <tr>\n",
       "      <th>62</th>\n",
       "      <td>90210</td>\n",
       "      <td>0</td>\n",
       "      <td>0</td>\n",
       "      <td>20500</td>\n",
       "      <td>17780</td>\n",
       "      <td>4200</td>\n",
       "      <td>42480</td>\n",
       "      <td>Herb Wesson</td>\n",
       "      <td>20500</td>\n",
       "    </tr>\n",
       "    <tr>\n",
       "      <th>44</th>\n",
       "      <td>90049</td>\n",
       "      <td>0</td>\n",
       "      <td>0</td>\n",
       "      <td>14949</td>\n",
       "      <td>20350</td>\n",
       "      <td>7000</td>\n",
       "      <td>42299</td>\n",
       "      <td>Jan Perry</td>\n",
       "      <td>20350</td>\n",
       "    </tr>\n",
       "    <tr>\n",
       "      <th>21</th>\n",
       "      <td>90024</td>\n",
       "      <td>0</td>\n",
       "      <td>0</td>\n",
       "      <td>17000</td>\n",
       "      <td>10000</td>\n",
       "      <td>7500</td>\n",
       "      <td>34500</td>\n",
       "      <td>Herb Wesson</td>\n",
       "      <td>17000</td>\n",
       "    </tr>\n",
       "  </tbody>\n",
       "</table>\n",
       "</div>"
      ],
      "text/plain": [
       "candidate_slug zipcode  tie  chan_jeong  herb_wesson  jan_perry  \\\n",
       "3                90005    0        5200        49550       4500   \n",
       "14               90017    0        4000        18738       9250   \n",
       "62               90210    0           0        20500      17780   \n",
       "44               90049    0           0        14949      20350   \n",
       "21               90024    0           0        17000      10000   \n",
       "\n",
       "candidate_slug  holly_mitchell  total winner_dist_two  winner_total  \n",
       "3                         3500  62750     Herb Wesson         49550  \n",
       "14                       12515  44503     Herb Wesson         18738  \n",
       "62                        4200  42480     Herb Wesson         20500  \n",
       "44                        7000  42299       Jan Perry         20350  \n",
       "21                        7500  34500     Herb Wesson         17000  "
      ]
     },
     "execution_count": 221,
     "metadata": {},
     "output_type": "execute_result"
    }
   ],
   "source": [
    "sum_by_zip_winner.head()"
   ]
  },
  {
   "cell_type": "code",
   "execution_count": 222,
   "metadata": {},
   "outputs": [],
   "source": [
    "sum_by_zip_winner.to_csv('output/sum_by_hood_winner.csv')"
   ]
  },
  {
   "cell_type": "markdown",
   "metadata": {},
   "source": [
    "### Remove 2nd District rows with no contributions"
   ]
  },
  {
   "cell_type": "code",
   "execution_count": 223,
   "metadata": {},
   "outputs": [],
   "source": [
    "sum_by_zip_winner = sum_by_zip_winner[(sum_by_zip_winner['winner_total'] != 0)]"
   ]
  },
  {
   "cell_type": "code",
   "execution_count": 224,
   "metadata": {},
   "outputs": [
    {
     "data": {
      "text/plain": [
       "225"
      ]
     },
     "execution_count": 224,
     "metadata": {},
     "output_type": "execute_result"
    }
   ],
   "source": [
    "len(sum_by_zip_winner)"
   ]
  },
  {
   "cell_type": "markdown",
   "metadata": {},
   "source": [
    "### How many zips did each 2nd District candidate win?"
   ]
  },
  {
   "cell_type": "code",
   "execution_count": 225,
   "metadata": {
    "scrolled": true
   },
   "outputs": [
    {
     "data": {
      "text/plain": [
       "Herb Wesson       134\n",
       "Jan Perry          62\n",
       "Holly Mitchell     25\n",
       "Chan Jeong          4\n",
       "Name: winner_dist_two, dtype: int64"
      ]
     },
     "execution_count": 225,
     "metadata": {},
     "output_type": "execute_result"
    }
   ],
   "source": [
    "sum_by_zip_winner.winner_dist_two.value_counts()"
   ]
  },
  {
   "cell_type": "markdown",
   "metadata": {},
   "source": [
    "### How much did each 2nd District candidate raise from just LA zips?"
   ]
  },
  {
   "cell_type": "code",
   "execution_count": 226,
   "metadata": {
    "scrolled": true
   },
   "outputs": [
    {
     "data": {
      "text/plain": [
       "candidate_slug\n",
       "chan_jeong         38100\n",
       "herb_wesson       865551\n",
       "jan_perry         455135\n",
       "holly_mitchell    219271\n",
       "dtype: int64"
      ]
     },
     "execution_count": 226,
     "metadata": {},
     "output_type": "execute_result"
    }
   ],
   "source": [
    "sum_by_zip_winner[['chan_jeong','herb_wesson','jan_perry','holly_mitchell']].agg('sum')"
   ]
  },
  {
   "cell_type": "markdown",
   "metadata": {},
   "source": [
    "### Merge the neighborhoods/winner geography back onto our 2nd District winners table"
   ]
  },
  {
   "cell_type": "code",
   "execution_count": 227,
   "metadata": {},
   "outputs": [],
   "source": [
    "second_district_zips = zips.merge(sum_by_zip_winner, on='zipcode')"
   ]
  },
  {
   "cell_type": "code",
   "execution_count": 228,
   "metadata": {
    "scrolled": true
   },
   "outputs": [
    {
     "data": {
      "text/plain": [
       "<matplotlib.axes._subplots.AxesSubplot at 0x12db25ef0>"
      ]
     },
     "execution_count": 228,
     "metadata": {},
     "output_type": "execute_result"
    },
    {
     "data": {
      "image/png": "[encoded data removed]",
      "text/plain": [
       "<Figure size 432x288 with 1 Axes>"
      ]
     },
     "metadata": {
      "needs_background": "light"
     },
     "output_type": "display_data"
    }
   ],
   "source": [
    "second_district_zips.plot()"
   ]
  },
  {
   "cell_type": "markdown",
   "metadata": {},
   "source": [
    "### Export spatial file with winners, totals by neighborhood"
   ]
  },
  {
   "cell_type": "code",
   "execution_count": 229,
   "metadata": {},
   "outputs": [],
   "source": [
    "second_district_zips.to_file('output/second_district_zips_sum.geojson', driver=\"GeoJSON\")"
   ]
  },
  {
   "cell_type": "markdown",
   "metadata": {},
   "source": [
    "### Generate winners by zips to MBTiles"
   ]
  },
  {
   "cell_type": "code",
   "execution_count": 230,
   "metadata": {},
   "outputs": [
    {
     "name": "stdout",
     "output_type": "stream",
     "text": [
      "For layer 0, using name \"second_district_zips_sum\"\n",
      "229 features, 1116969 bytes of geometry, 10338 bytes of separate metadata, 13064 bytes of string pool\n",
      "  99.9%  15/5616/13087  \n"
     ]
    }
   ],
   "source": [
    "!tippecanoe -z15 -f -o output/second_district_zips_sum.mbtiles output/second_district_zips_sum.geojson"
   ]
  },
  {
   "cell_type": "code",
   "execution_count": null,
   "metadata": {},
   "outputs": [],
   "source": []
  },
  {
   "cell_type": "code",
   "execution_count": null,
   "metadata": {},
   "outputs": [],
   "source": []
  },
  {
   "cell_type": "code",
   "execution_count": null,
   "metadata": {},
   "outputs": [],
   "source": []
  },
  {
   "cell_type": "code",
   "execution_count": null,
   "metadata": {
    "scrolled": true
   },
   "outputs": [],
   "source": []
  },
  {
   "cell_type": "code",
   "execution_count": null,
   "metadata": {},
   "outputs": [],
   "source": []
  },
  {
   "cell_type": "code",
   "execution_count": null,
   "metadata": {},
   "outputs": [],
   "source": []
  },
  {
   "cell_type": "code",
   "execution_count": null,
   "metadata": {},
   "outputs": [],
   "source": []
  },
  {
   "cell_type": "code",
   "execution_count": null,
   "metadata": {},
   "outputs": [],
   "source": []
  },
  {
   "cell_type": "code",
   "execution_count": null,
   "metadata": {},
   "outputs": [],
   "source": []
  }
 ],
 "metadata": {
  "kernelspec": {
   "display_name": "Python 3",
   "language": "python",
   "name": "python3"
  },
  "language_info": {
   "codemirror_mode": {
    "name": "ipython",
    "version": 3
   },
   "file_extension": ".py",
   "mimetype": "text/x-python",
   "name": "python",
   "nbconvert_exporter": "python",
   "pygments_lexer": "ipython3",
   "version": "3.6.3rc1"
  }
 },
 "nbformat": 4,
 "nbformat_minor": 2
}
