{
 "cells": [
  {
   "cell_type": "markdown",
   "metadata": {},
   "source": [
    "# Donations to L.A. County 2nd District supervisorial candidates"
   ]
  },
  {
   "cell_type": "markdown",
   "metadata": {},
   "source": [
    "By [Matt Stiles](https://www.latimes.com/people/matt-stiles) / Los Angeles Times\n",
    "\n",
    "Questions? matt.stiles@latimes.com"
   ]
  },
  {
   "cell_type": "markdown",
   "metadata": {},
   "source": [
    "### Load Python libraries"
   ]
  },
  {
   "cell_type": "code",
   "execution_count": 1,
   "metadata": {},
   "outputs": [
    {
     "data": {
      "text/plain": [
       "RendererRegistry.enable('default')"
      ]
     },
     "execution_count": 1,
     "metadata": {},
     "output_type": "execute_result"
    }
   ],
   "source": [
    "import pandas as pd\n",
    "import geopandas as gpd\n",
    "from urllib.request import urlopen \n",
    "import pyarrow\n",
    "import jenkspy\n",
    "import matplotlib.pyplot as plt\n",
    "%matplotlib inline\n",
    "import json\n",
    "import numpy as np\n",
    "from altair import datum\n",
    "import altair as alt\n",
    "import altair_latimes as lat\n",
    "alt.themes.register('latimes', lat.theme)\n",
    "alt.themes.enable('latimes')\n",
    "alt.renderers.set_embed_options(actions=False)"
   ]
  },
  {
   "cell_type": "markdown",
   "metadata": {},
   "source": [
    "### Read all donations candidates since 2007, downloaded [here](https://efs.lacounty.gov/public_search_results.cfm?viewtype=xl&requesttimeout=1000&showall=yes&rept_type=ALLCon&CITY=la&LNM_CRIT=&FNM_CRIT=&CNM_CRIT=&ST_CRIT=&ZIP_CRIT=&ENM_CRIT=&OCC_CRIT=&S_USER=&S_OFFICE=&CID_CRIT=&CMT_CRIT=&D_BDATE=&D_EDATE=&S_BAMT=&S_EAMT=&ELECTION_ID=29&SCHEDULE=A%2CB%2CC&SUBMITBTN=Search%20Now%20%3D%3D%3E&TO_ELEC_DATE=&FROM_RPT_DATE=&TO_RPT_DATE=), and clean headers"
   ]
  },
  {
   "cell_type": "code",
   "execution_count": 2,
   "metadata": {},
   "outputs": [],
   "source": [
    "src = pd.read_csv('input/donations_20201026.csv',\\\n",
    "                  dtype={'contributor_zip_code': 'str'}, low_memory=False)"
   ]
  },
  {
   "cell_type": "code",
   "execution_count": 3,
   "metadata": {},
   "outputs": [],
   "source": [
    "src.columns = src.columns.str.strip().str.lower().str.replace(' ', '_')\\\n",
    "                    .str.replace('(', '').str.replace(')', '').str.replace('-','_')"
   ]
  },
  {
   "cell_type": "markdown",
   "metadata": {},
   "source": [
    "### How many records we talking?"
   ]
  },
  {
   "cell_type": "code",
   "execution_count": 4,
   "metadata": {},
   "outputs": [
    {
     "data": {
      "text/plain": [
       "90117"
      ]
     },
     "execution_count": 4,
     "metadata": {},
     "output_type": "execute_result"
    }
   ],
   "source": [
    "len(src)"
   ]
  },
  {
   "cell_type": "markdown",
   "metadata": {},
   "source": [
    "### Create a clean dataframe from the original import"
   ]
  },
  {
   "cell_type": "code",
   "execution_count": 5,
   "metadata": {},
   "outputs": [],
   "source": [
    "contributions = pd.DataFrame(src)"
   ]
  },
  {
   "cell_type": "markdown",
   "metadata": {},
   "source": [
    "### Clean up null values the table and other quirks"
   ]
  },
  {
   "cell_type": "code",
   "execution_count": 6,
   "metadata": {},
   "outputs": [],
   "source": [
    "contributions.contributor_address_2 = contributions.contributor_address_2.fillna('')\n",
    "contributions.occupation = contributions.occupation.fillna('')\n",
    "contributions.employer = contributions.employer.fillna('')\n",
    "contributions.description = contributions.description.fillna('')\n",
    "contributions.contributor_first_name = contributions.contributor_first_name.fillna('')\n",
    "contributions.contributor_zip_code_ext = contributions.contributor_zip_code_ext.fillna('')"
   ]
  },
  {
   "cell_type": "code",
   "execution_count": 7,
   "metadata": {},
   "outputs": [],
   "source": [
    "contributions['amount_rcvd'] = contributions['amount_rcvd'].astype(int)\n",
    "contributions['monthyear'] = pd.to_datetime(contributions['date']).map(lambda dt: dt.replace(day=1))\n",
    "contributions['type'] = contributions['type'].str.replace(\"Small Contributor Committee\", \"Small Donor Committee\")\n",
    "contributions['first_name'] = contributions['first_name'].str.upper()\n",
    "contributions['last_name'] = contributions['last_name'].str.upper()\n",
    "contributions['committee_name'] = contributions['committee_name'].str.upper()\n",
    "contributions['contributor_zip_code'] = contributions['contributor_zip_code'].astype(str).str.zfill(5)\n",
    "contributions['contributor_zip_code'] = contributions['contributor_zip_code'].str.replace('.0','',regex=False)"
   ]
  },
  {
   "cell_type": "code",
   "execution_count": 8,
   "metadata": {},
   "outputs": [],
   "source": [
    "contributions['candidate_name'] =  contributions[\"first_name\"].str.title() + ' ' + contributions[\"last_name\"].str.title()\n",
    "contributions['candidate_name'] = contributions['candidate_name'].str.replace('Holly J. Mitchell', 'Holly Mitchell')\n",
    "contributions['first_name'] = contributions['first_name'].str.replace('HOLLY J.', 'HOLLY')"
   ]
  },
  {
   "cell_type": "markdown",
   "metadata": {},
   "source": [
    "### Change the zip code field so it merges with other tables later"
   ]
  },
  {
   "cell_type": "code",
   "execution_count": 9,
   "metadata": {},
   "outputs": [],
   "source": [
    "contributions.rename(columns={\"contributor_zip_code\": \"zipcode\"}, inplace=True)"
   ]
  },
  {
   "cell_type": "markdown",
   "metadata": {},
   "source": [
    "### What do the records look like?"
   ]
  },
  {
   "cell_type": "code",
   "execution_count": 10,
   "metadata": {},
   "outputs": [
    {
     "data": {
      "text/html": [
       "<div>\n",
       "<style scoped>\n",
       "    .dataframe tbody tr th:only-of-type {\n",
       "        vertical-align: middle;\n",
       "    }\n",
       "\n",
       "    .dataframe tbody tr th {\n",
       "        vertical-align: top;\n",
       "    }\n",
       "\n",
       "    .dataframe thead th {\n",
       "        text-align: right;\n",
       "    }\n",
       "</style>\n",
       "<table border=\"1\" class=\"dataframe\">\n",
       "  <thead>\n",
       "    <tr style=\"text-align: right;\">\n",
       "      <th></th>\n",
       "      <th>last_name</th>\n",
       "      <th>first_name</th>\n",
       "      <th>committee_id</th>\n",
       "      <th>committee_name</th>\n",
       "      <th>office_type</th>\n",
       "      <th>district_number</th>\n",
       "      <th>schedule</th>\n",
       "      <th>type</th>\n",
       "      <th>period_beg_date</th>\n",
       "      <th>period_end_date</th>\n",
       "      <th>...</th>\n",
       "      <th>int_city</th>\n",
       "      <th>int_state</th>\n",
       "      <th>int_zip_code</th>\n",
       "      <th>int_occupation</th>\n",
       "      <th>int_employer</th>\n",
       "      <th>doc_id</th>\n",
       "      <th>rec_id</th>\n",
       "      <th>x</th>\n",
       "      <th>monthyear</th>\n",
       "      <th>candidate_name</th>\n",
       "    </tr>\n",
       "  </thead>\n",
       "  <tbody>\n",
       "    <tr>\n",
       "      <th>0</th>\n",
       "      <td>COOLEY</td>\n",
       "      <td>STEVE</td>\n",
       "      <td>1235308</td>\n",
       "      <td>D.A. STEVE COOLEY OFFICEHOLDER ACCOUNT</td>\n",
       "      <td>DAT</td>\n",
       "      <td>NaN</td>\n",
       "      <td>A</td>\n",
       "      <td>O</td>\n",
       "      <td>00:00.0</td>\n",
       "      <td>00:00.0</td>\n",
       "      <td>...</td>\n",
       "      <td>NaN</td>\n",
       "      <td>NaN</td>\n",
       "      <td>NaN</td>\n",
       "      <td>NaN</td>\n",
       "      <td>NaN</td>\n",
       "      <td>NaN</td>\n",
       "      <td>31.0</td>\n",
       "      <td>2523.0</td>\n",
       "      <td>2020-11-01</td>\n",
       "      <td>Steve Cooley</td>\n",
       "    </tr>\n",
       "    <tr>\n",
       "      <th>67586</th>\n",
       "      <td>HAHN</td>\n",
       "      <td>JANICE</td>\n",
       "      <td>1376011</td>\n",
       "      <td>JANICE HAHN FOR SUPERVISOR 2016</td>\n",
       "      <td>BSU</td>\n",
       "      <td>C04</td>\n",
       "      <td>A</td>\n",
       "      <td>I</td>\n",
       "      <td>00:00.0</td>\n",
       "      <td>00:00.0</td>\n",
       "      <td>...</td>\n",
       "      <td>NaN</td>\n",
       "      <td>NaN</td>\n",
       "      <td>NaN</td>\n",
       "      <td>NaN</td>\n",
       "      <td>NaN</td>\n",
       "      <td>NaN</td>\n",
       "      <td>2327.0</td>\n",
       "      <td>156075.0</td>\n",
       "      <td>2020-11-01</td>\n",
       "      <td>Janice Hahn</td>\n",
       "    </tr>\n",
       "    <tr>\n",
       "      <th>60082</th>\n",
       "      <td>ENGLANDER</td>\n",
       "      <td>MITCHELL</td>\n",
       "      <td>1377028</td>\n",
       "      <td>MITCHELL ENGLANDER FOR SUPERVISOR 2016</td>\n",
       "      <td>CSU</td>\n",
       "      <td>C05</td>\n",
       "      <td>A</td>\n",
       "      <td>I</td>\n",
       "      <td>00:00.0</td>\n",
       "      <td>00:00.0</td>\n",
       "      <td>...</td>\n",
       "      <td>NaN</td>\n",
       "      <td>NaN</td>\n",
       "      <td>NaN</td>\n",
       "      <td>NaN</td>\n",
       "      <td>NaN</td>\n",
       "      <td>NaN</td>\n",
       "      <td>2212.0</td>\n",
       "      <td>147635.0</td>\n",
       "      <td>2020-11-01</td>\n",
       "      <td>Mitchell Englander</td>\n",
       "    </tr>\n",
       "    <tr>\n",
       "      <th>60081</th>\n",
       "      <td>ENGLANDER</td>\n",
       "      <td>MITCHELL</td>\n",
       "      <td>1377028</td>\n",
       "      <td>MITCHELL ENGLANDER FOR SUPERVISOR 2016</td>\n",
       "      <td>CSU</td>\n",
       "      <td>C05</td>\n",
       "      <td>A</td>\n",
       "      <td>I</td>\n",
       "      <td>00:00.0</td>\n",
       "      <td>00:00.0</td>\n",
       "      <td>...</td>\n",
       "      <td>NaN</td>\n",
       "      <td>NaN</td>\n",
       "      <td>NaN</td>\n",
       "      <td>NaN</td>\n",
       "      <td>NaN</td>\n",
       "      <td>NaN</td>\n",
       "      <td>2212.0</td>\n",
       "      <td>147631.0</td>\n",
       "      <td>2020-11-01</td>\n",
       "      <td>Mitchell Englander</td>\n",
       "    </tr>\n",
       "    <tr>\n",
       "      <th>60080</th>\n",
       "      <td>CARR</td>\n",
       "      <td>ELAN</td>\n",
       "      <td>1375984</td>\n",
       "      <td>CARR FOR SUPERVISOR 2016</td>\n",
       "      <td>CSU</td>\n",
       "      <td>NaN</td>\n",
       "      <td>A</td>\n",
       "      <td>I</td>\n",
       "      <td>00:00.0</td>\n",
       "      <td>00:00.0</td>\n",
       "      <td>...</td>\n",
       "      <td>NaN</td>\n",
       "      <td>NaN</td>\n",
       "      <td>NaN</td>\n",
       "      <td>NaN</td>\n",
       "      <td>NaN</td>\n",
       "      <td>NaN</td>\n",
       "      <td>2189.0</td>\n",
       "      <td>146063.0</td>\n",
       "      <td>2020-11-01</td>\n",
       "      <td>Elan Carr</td>\n",
       "    </tr>\n",
       "  </tbody>\n",
       "</table>\n",
       "<p>5 rows × 36 columns</p>\n",
       "</div>"
      ],
      "text/plain": [
       "       last_name first_name committee_id  \\\n",
       "0         COOLEY      STEVE      1235308   \n",
       "67586       HAHN     JANICE      1376011   \n",
       "60082  ENGLANDER   MITCHELL      1377028   \n",
       "60081  ENGLANDER   MITCHELL      1377028   \n",
       "60080       CARR       ELAN      1375984   \n",
       "\n",
       "                               committee_name office_type district_number  \\\n",
       "0      D.A. STEVE COOLEY OFFICEHOLDER ACCOUNT         DAT             NaN   \n",
       "67586         JANICE HAHN FOR SUPERVISOR 2016         BSU             C04   \n",
       "60082  MITCHELL ENGLANDER FOR SUPERVISOR 2016         CSU             C05   \n",
       "60081  MITCHELL ENGLANDER FOR SUPERVISOR 2016         CSU             C05   \n",
       "60080                CARR FOR SUPERVISOR 2016         CSU             NaN   \n",
       "\n",
       "      schedule type period_beg_date period_end_date  ... int_city int_state  \\\n",
       "0            A    O         00:00.0         00:00.0  ...      NaN       NaN   \n",
       "67586        A    I         00:00.0         00:00.0  ...      NaN       NaN   \n",
       "60082        A    I         00:00.0         00:00.0  ...      NaN       NaN   \n",
       "60081        A    I         00:00.0         00:00.0  ...      NaN       NaN   \n",
       "60080        A    I         00:00.0         00:00.0  ...      NaN       NaN   \n",
       "\n",
       "       int_zip_code  int_occupation int_employer doc_id  rec_id         x  \\\n",
       "0               NaN             NaN          NaN    NaN    31.0    2523.0   \n",
       "67586           NaN             NaN          NaN    NaN  2327.0  156075.0   \n",
       "60082           NaN             NaN          NaN    NaN  2212.0  147635.0   \n",
       "60081           NaN             NaN          NaN    NaN  2212.0  147631.0   \n",
       "60080           NaN             NaN          NaN    NaN  2189.0  146063.0   \n",
       "\n",
       "       monthyear      candidate_name  \n",
       "0     2020-11-01        Steve Cooley  \n",
       "67586 2020-11-01         Janice Hahn  \n",
       "60082 2020-11-01  Mitchell Englander  \n",
       "60081 2020-11-01  Mitchell Englander  \n",
       "60080 2020-11-01           Elan Carr  \n",
       "\n",
       "[5 rows x 36 columns]"
      ]
     },
     "execution_count": 10,
     "metadata": {},
     "output_type": "execute_result"
    }
   ],
   "source": [
    "contributions.sort_values(by='date', ascending=False).head()"
   ]
  },
  {
   "cell_type": "markdown",
   "metadata": {},
   "source": [
    "### Sluggify candidate names"
   ]
  },
  {
   "cell_type": "code",
   "execution_count": 11,
   "metadata": {},
   "outputs": [],
   "source": [
    "contributions['candidate_slug'] =  \\\n",
    "    contributions[\"first_name\"].str.lower() + '_' + contributions[\"last_name\"].str.lower()\n",
    "contributions['candidate_slug']\\\n",
    "= contributions['candidate_slug'].\\\n",
    "str.strip().str.lower().str.replace(\\\n",
    "                    ' ', '_').str.replace('(', '').str.replace(')', '')\\\n",
    ".str.replace('.', '').str.replace('\\'', '')"
   ]
  },
  {
   "cell_type": "markdown",
   "metadata": {},
   "source": [
    "### Process the dates now to make life easier througout"
   ]
  },
  {
   "cell_type": "code",
   "execution_count": 12,
   "metadata": {},
   "outputs": [],
   "source": [
    "contributions['date'] = pd.to_datetime(contributions['date'])\n",
    "contributions['year'], contributions['month'] = contributions['date'].dt.year, contributions['date'].dt.month\n",
    "contributions['year'] = contributions['year'].astype(str)\n",
    "contributions['month'] = contributions['month'].astype(str)\n",
    "contributions['months'] = contributions['date'].dt.strftime('%m/%Y').astype(str)\n",
    "contributions['week'] = contributions['date'].dt.isocalendar().week\n",
    "contributions['week'] = contributions['week'].astype(str)"
   ]
  },
  {
   "cell_type": "markdown",
   "metadata": {},
   "source": [
    "### Define the candidates"
   ]
  },
  {
   "cell_type": "code",
   "execution_count": 13,
   "metadata": {},
   "outputs": [],
   "source": [
    "contributions.loc[contributions['candidate_name'] == 'Jaqueline Lacey', 'candidate_name'] = 'Jackie Lacey'"
   ]
  },
  {
   "cell_type": "code",
   "execution_count": 14,
   "metadata": {},
   "outputs": [],
   "source": [
    "contributions.loc[contributions['candidate_name'] == 'Jacqueline Lacey', 'candidate_name'] = 'Jackie Lacey'"
   ]
  },
  {
   "cell_type": "code",
   "execution_count": 15,
   "metadata": {},
   "outputs": [],
   "source": [
    "candidates = (['Jaqueline Lacey', 'Jacqueline Lacey', 'Herb Wesson', 'Holly Mitchell', 'George Gascon', 'Jackie Lacey'])"
   ]
  },
  {
   "cell_type": "markdown",
   "metadata": {},
   "source": [
    "### Filter data for recent contributions"
   ]
  },
  {
   "cell_type": "code",
   "execution_count": 16,
   "metadata": {},
   "outputs": [],
   "source": [
    "recent_contributions = contributions[(contributions['date'] > '2018-06-30')]"
   ]
  },
  {
   "cell_type": "markdown",
   "metadata": {},
   "source": [
    "### Make a dataframe with our donations"
   ]
  },
  {
   "cell_type": "code",
   "execution_count": 17,
   "metadata": {},
   "outputs": [],
   "source": [
    "our_candidates = pd.DataFrame(recent_contributions[recent_contributions['candidate_name'].isin(candidates)])"
   ]
  },
  {
   "cell_type": "markdown",
   "metadata": {},
   "source": [
    "### How many donations are we talking about? "
   ]
  },
  {
   "cell_type": "code",
   "execution_count": 18,
   "metadata": {},
   "outputs": [
    {
     "data": {
      "text/plain": [
       "9922"
      ]
     },
     "execution_count": 18,
     "metadata": {},
     "output_type": "execute_result"
    }
   ],
   "source": [
    "len(our_candidates)"
   ]
  },
  {
   "cell_type": "code",
   "execution_count": 19,
   "metadata": {},
   "outputs": [
    {
     "data": {
      "text/plain": [
       "Holly Mitchell    3402\n",
       "George Gascon     2852\n",
       "Herb Wesson       2586\n",
       "Jackie Lacey      1082\n",
       "Name: candidate_name, dtype: int64"
      ]
     },
     "execution_count": 19,
     "metadata": {},
     "output_type": "execute_result"
    }
   ],
   "source": [
    "our_candidates.candidate_name.value_counts()"
   ]
  },
  {
   "cell_type": "markdown",
   "metadata": {},
   "source": [
    "### How much did the candidates raise individually? "
   ]
  },
  {
   "cell_type": "code",
   "execution_count": 20,
   "metadata": {},
   "outputs": [],
   "source": [
    "our_totals = our_candidates.groupby(['candidate_name'])['amount_rcvd']\\\n",
    "    .sum().reset_index().sort_values(by='amount_rcvd', ascending=False)"
   ]
  },
  {
   "cell_type": "code",
   "execution_count": 21,
   "metadata": {},
   "outputs": [
    {
     "data": {
      "text/html": [
       "<div>\n",
       "<style scoped>\n",
       "    .dataframe tbody tr th:only-of-type {\n",
       "        vertical-align: middle;\n",
       "    }\n",
       "\n",
       "    .dataframe tbody tr th {\n",
       "        vertical-align: top;\n",
       "    }\n",
       "\n",
       "    .dataframe thead th {\n",
       "        text-align: right;\n",
       "    }\n",
       "</style>\n",
       "<table border=\"1\" class=\"dataframe\">\n",
       "  <thead>\n",
       "    <tr style=\"text-align: right;\">\n",
       "      <th></th>\n",
       "      <th>candidate_name</th>\n",
       "      <th>amount_rcvd</th>\n",
       "    </tr>\n",
       "  </thead>\n",
       "  <tbody>\n",
       "    <tr>\n",
       "      <th>1</th>\n",
       "      <td>Herb Wesson</td>\n",
       "      <td>2563607</td>\n",
       "    </tr>\n",
       "    <tr>\n",
       "      <th>2</th>\n",
       "      <td>Holly Mitchell</td>\n",
       "      <td>1635217</td>\n",
       "    </tr>\n",
       "    <tr>\n",
       "      <th>0</th>\n",
       "      <td>George Gascon</td>\n",
       "      <td>1164325</td>\n",
       "    </tr>\n",
       "    <tr>\n",
       "      <th>3</th>\n",
       "      <td>Jackie Lacey</td>\n",
       "      <td>689971</td>\n",
       "    </tr>\n",
       "  </tbody>\n",
       "</table>\n",
       "</div>"
      ],
      "text/plain": [
       "   candidate_name  amount_rcvd\n",
       "1     Herb Wesson      2563607\n",
       "2  Holly Mitchell      1635217\n",
       "0   George Gascon      1164325\n",
       "3    Jackie Lacey       689971"
      ]
     },
     "execution_count": 21,
     "metadata": {},
     "output_type": "execute_result"
    }
   ],
   "source": [
    "our_totals"
   ]
  },
  {
   "cell_type": "code",
   "execution_count": 22,
   "metadata": {},
   "outputs": [],
   "source": [
    "sum_all_donations = our_totals['amount_rcvd'].sum()"
   ]
  },
  {
   "cell_type": "markdown",
   "metadata": {},
   "source": [
    "### And how much has been raised by the candidates in total?"
   ]
  },
  {
   "cell_type": "code",
   "execution_count": 23,
   "metadata": {},
   "outputs": [
    {
     "data": {
      "text/plain": [
       "6053120"
      ]
     },
     "execution_count": 23,
     "metadata": {},
     "output_type": "execute_result"
    }
   ],
   "source": [
    "our_totals['amount_rcvd'].sum()"
   ]
  },
  {
   "cell_type": "code",
   "execution_count": 24,
   "metadata": {},
   "outputs": [],
   "source": [
    "avg_totals = our_candidates.groupby(['candidate_name']).agg({'amount_rcvd':'mean'}).reset_index().sort_values(by='amount_rcvd', ascending=False)"
   ]
  },
  {
   "cell_type": "markdown",
   "metadata": {},
   "source": [
    "### What is each candidate's average donation size? "
   ]
  },
  {
   "cell_type": "code",
   "execution_count": 25,
   "metadata": {},
   "outputs": [
    {
     "data": {
      "text/html": [
       "<div>\n",
       "<style scoped>\n",
       "    .dataframe tbody tr th:only-of-type {\n",
       "        vertical-align: middle;\n",
       "    }\n",
       "\n",
       "    .dataframe tbody tr th {\n",
       "        vertical-align: top;\n",
       "    }\n",
       "\n",
       "    .dataframe thead th {\n",
       "        text-align: right;\n",
       "    }\n",
       "</style>\n",
       "<table border=\"1\" class=\"dataframe\">\n",
       "  <thead>\n",
       "    <tr style=\"text-align: right;\">\n",
       "      <th></th>\n",
       "      <th>candidate_name</th>\n",
       "      <th>amount_rcvd</th>\n",
       "    </tr>\n",
       "  </thead>\n",
       "  <tbody>\n",
       "    <tr>\n",
       "      <th>1</th>\n",
       "      <td>Herb Wesson</td>\n",
       "      <td>991.34</td>\n",
       "    </tr>\n",
       "    <tr>\n",
       "      <th>3</th>\n",
       "      <td>Jackie Lacey</td>\n",
       "      <td>637.68</td>\n",
       "    </tr>\n",
       "    <tr>\n",
       "      <th>2</th>\n",
       "      <td>Holly Mitchell</td>\n",
       "      <td>480.66</td>\n",
       "    </tr>\n",
       "    <tr>\n",
       "      <th>0</th>\n",
       "      <td>George Gascon</td>\n",
       "      <td>408.25</td>\n",
       "    </tr>\n",
       "  </tbody>\n",
       "</table>\n",
       "</div>"
      ],
      "text/plain": [
       "   candidate_name  amount_rcvd\n",
       "1     Herb Wesson       991.34\n",
       "3    Jackie Lacey       637.68\n",
       "2  Holly Mitchell       480.66\n",
       "0   George Gascon       408.25"
      ]
     },
     "execution_count": 25,
     "metadata": {},
     "output_type": "execute_result"
    }
   ],
   "source": [
    "avg_totals.round(2)"
   ]
  },
  {
   "cell_type": "code",
   "execution_count": 26,
   "metadata": {},
   "outputs": [],
   "source": [
    "our_candidates.to_csv('output/our_candidates.csv')"
   ]
  },
  {
   "cell_type": "markdown",
   "metadata": {},
   "source": [
    "### How many individual donations did each candidate receive? "
   ]
  },
  {
   "cell_type": "code",
   "execution_count": 27,
   "metadata": {},
   "outputs": [],
   "source": [
    "# Crudely remap donation 'type' codes to be more descriptive\n",
    "abbr_indiv_else = {'C' : 'Other', 'I' : 'Individual', 'O' : 'Other', 'S' : 'Other'}\n",
    "our_candidates = our_candidates.replace({\"type\": abbr_indiv_else})"
   ]
  },
  {
   "cell_type": "code",
   "execution_count": 28,
   "metadata": {},
   "outputs": [],
   "source": [
    "our_candidates_indiv = pd.pivot_table(our_candidates, values='amount_rcvd', \\\n",
    "                    index=['candidate_name'], columns=['type'], aggfunc=[np.size], fill_value='0').reset_index()"
   ]
  },
  {
   "cell_type": "code",
   "execution_count": 29,
   "metadata": {},
   "outputs": [],
   "source": [
    "our_candidates_indiv = pd.DataFrame(our_candidates_indiv.to_records())"
   ]
  },
  {
   "cell_type": "code",
   "execution_count": 30,
   "metadata": {},
   "outputs": [],
   "source": [
    "our_candidates_indiv.columns = our_candidates_indiv.columns.str.strip().str.lower().str.replace(',_', '')\\\n",
    "                    .str.replace('(', '').str.replace(')', '').str.replace(\"'\", '')\\\n",
    "                    .str.replace('size, ','').str.replace(',', '')"
   ]
  },
  {
   "cell_type": "code",
   "execution_count": 31,
   "metadata": {},
   "outputs": [],
   "source": [
    "our_candidates_indiv = pd.DataFrame(our_candidates_indiv)"
   ]
  },
  {
   "cell_type": "markdown",
   "metadata": {},
   "source": [
    "### Which share of each candidates donations came from individuals?"
   ]
  },
  {
   "cell_type": "code",
   "execution_count": 32,
   "metadata": {},
   "outputs": [
    {
     "data": {
      "text/html": [
       "<div>\n",
       "<style scoped>\n",
       "    .dataframe tbody tr th:only-of-type {\n",
       "        vertical-align: middle;\n",
       "    }\n",
       "\n",
       "    .dataframe tbody tr th {\n",
       "        vertical-align: top;\n",
       "    }\n",
       "\n",
       "    .dataframe thead th {\n",
       "        text-align: right;\n",
       "    }\n",
       "</style>\n",
       "<table border=\"1\" class=\"dataframe\">\n",
       "  <thead>\n",
       "    <tr style=\"text-align: right;\">\n",
       "      <th></th>\n",
       "      <th>index</th>\n",
       "      <th>candidate_name</th>\n",
       "      <th>individual</th>\n",
       "      <th>other</th>\n",
       "    </tr>\n",
       "  </thead>\n",
       "  <tbody>\n",
       "    <tr>\n",
       "      <th>0</th>\n",
       "      <td>0</td>\n",
       "      <td>George Gascon</td>\n",
       "      <td>2785</td>\n",
       "      <td>67</td>\n",
       "    </tr>\n",
       "    <tr>\n",
       "      <th>1</th>\n",
       "      <td>1</td>\n",
       "      <td>Herb Wesson</td>\n",
       "      <td>1821</td>\n",
       "      <td>765</td>\n",
       "    </tr>\n",
       "    <tr>\n",
       "      <th>2</th>\n",
       "      <td>2</td>\n",
       "      <td>Holly Mitchell</td>\n",
       "      <td>2870</td>\n",
       "      <td>532</td>\n",
       "    </tr>\n",
       "    <tr>\n",
       "      <th>3</th>\n",
       "      <td>3</td>\n",
       "      <td>Jackie Lacey</td>\n",
       "      <td>880</td>\n",
       "      <td>201</td>\n",
       "    </tr>\n",
       "  </tbody>\n",
       "</table>\n",
       "</div>"
      ],
      "text/plain": [
       "   index candidate_name   individual  other\n",
       "0      0   George Gascon        2785     67\n",
       "1      1     Herb Wesson        1821    765\n",
       "2      2  Holly Mitchell        2870    532\n",
       "3      3    Jackie Lacey         880    201"
      ]
     },
     "execution_count": 32,
     "metadata": {},
     "output_type": "execute_result"
    }
   ],
   "source": [
    "our_candidates_indiv.head()"
   ]
  },
  {
   "cell_type": "code",
   "execution_count": 33,
   "metadata": {},
   "outputs": [],
   "source": [
    "our_candidates_indiv['share_indy'] = \\\n",
    "    ((our_candidates_indiv['individual'] /\\\n",
    "      (our_candidates_indiv['individual'] + our_candidates_indiv['other']))*100).round()"
   ]
  },
  {
   "cell_type": "code",
   "execution_count": 34,
   "metadata": {},
   "outputs": [],
   "source": [
    "our_candidates_indiv['share_other'] = \\\n",
    "    ((our_candidates_indiv['other'] /\\\n",
    "      (our_candidates_indiv['individual'] + our_candidates_indiv['other']))*100).round()"
   ]
  },
  {
   "cell_type": "code",
   "execution_count": 35,
   "metadata": {},
   "outputs": [
    {
     "data": {
      "text/html": [
       "<div>\n",
       "<style scoped>\n",
       "    .dataframe tbody tr th:only-of-type {\n",
       "        vertical-align: middle;\n",
       "    }\n",
       "\n",
       "    .dataframe tbody tr th {\n",
       "        vertical-align: top;\n",
       "    }\n",
       "\n",
       "    .dataframe thead th {\n",
       "        text-align: right;\n",
       "    }\n",
       "</style>\n",
       "<table border=\"1\" class=\"dataframe\">\n",
       "  <thead>\n",
       "    <tr style=\"text-align: right;\">\n",
       "      <th></th>\n",
       "      <th>index</th>\n",
       "      <th>candidate_name</th>\n",
       "      <th>individual</th>\n",
       "      <th>other</th>\n",
       "      <th>share_indy</th>\n",
       "      <th>share_other</th>\n",
       "    </tr>\n",
       "  </thead>\n",
       "  <tbody>\n",
       "    <tr>\n",
       "      <th>0</th>\n",
       "      <td>0</td>\n",
       "      <td>George Gascon</td>\n",
       "      <td>2785</td>\n",
       "      <td>67</td>\n",
       "      <td>98.0</td>\n",
       "      <td>2.0</td>\n",
       "    </tr>\n",
       "    <tr>\n",
       "      <th>1</th>\n",
       "      <td>1</td>\n",
       "      <td>Herb Wesson</td>\n",
       "      <td>1821</td>\n",
       "      <td>765</td>\n",
       "      <td>70.0</td>\n",
       "      <td>30.0</td>\n",
       "    </tr>\n",
       "    <tr>\n",
       "      <th>2</th>\n",
       "      <td>2</td>\n",
       "      <td>Holly Mitchell</td>\n",
       "      <td>2870</td>\n",
       "      <td>532</td>\n",
       "      <td>84.0</td>\n",
       "      <td>16.0</td>\n",
       "    </tr>\n",
       "    <tr>\n",
       "      <th>3</th>\n",
       "      <td>3</td>\n",
       "      <td>Jackie Lacey</td>\n",
       "      <td>880</td>\n",
       "      <td>201</td>\n",
       "      <td>81.0</td>\n",
       "      <td>19.0</td>\n",
       "    </tr>\n",
       "  </tbody>\n",
       "</table>\n",
       "</div>"
      ],
      "text/plain": [
       "   index candidate_name   individual  other  share_indy  share_other\n",
       "0      0   George Gascon        2785     67        98.0          2.0\n",
       "1      1     Herb Wesson        1821    765        70.0         30.0\n",
       "2      2  Holly Mitchell        2870    532        84.0         16.0\n",
       "3      3    Jackie Lacey         880    201        81.0         19.0"
      ]
     },
     "execution_count": 35,
     "metadata": {},
     "output_type": "execute_result"
    }
   ],
   "source": [
    "our_candidates_indiv.head()"
   ]
  },
  {
   "cell_type": "markdown",
   "metadata": {},
   "source": [
    "### Normalized bar chart for the share of individual donations"
   ]
  },
  {
   "cell_type": "code",
   "execution_count": 36,
   "metadata": {},
   "outputs": [],
   "source": [
    "ind_other_totals = our_candidates.groupby(['type', 'candidate_name']).agg({'amount_rcvd':'sum'}).reset_index()"
   ]
  },
  {
   "cell_type": "code",
   "execution_count": 37,
   "metadata": {},
   "outputs": [
    {
     "data": {
      "text/html": [
       "<div>\n",
       "<style scoped>\n",
       "    .dataframe tbody tr th:only-of-type {\n",
       "        vertical-align: middle;\n",
       "    }\n",
       "\n",
       "    .dataframe tbody tr th {\n",
       "        vertical-align: top;\n",
       "    }\n",
       "\n",
       "    .dataframe thead th {\n",
       "        text-align: right;\n",
       "    }\n",
       "</style>\n",
       "<table border=\"1\" class=\"dataframe\">\n",
       "  <thead>\n",
       "    <tr style=\"text-align: right;\">\n",
       "      <th></th>\n",
       "      <th>type</th>\n",
       "      <th>candidate_name</th>\n",
       "      <th>amount_rcvd</th>\n",
       "    </tr>\n",
       "  </thead>\n",
       "  <tbody>\n",
       "    <tr>\n",
       "      <th>0</th>\n",
       "      <td>Individual</td>\n",
       "      <td>George Gascon</td>\n",
       "      <td>1106175</td>\n",
       "    </tr>\n",
       "    <tr>\n",
       "      <th>1</th>\n",
       "      <td>Individual</td>\n",
       "      <td>Herb Wesson</td>\n",
       "      <td>1693879</td>\n",
       "    </tr>\n",
       "    <tr>\n",
       "      <th>2</th>\n",
       "      <td>Individual</td>\n",
       "      <td>Holly Mitchell</td>\n",
       "      <td>1071413</td>\n",
       "    </tr>\n",
       "    <tr>\n",
       "      <th>3</th>\n",
       "      <td>Individual</td>\n",
       "      <td>Jackie Lacey</td>\n",
       "      <td>525920</td>\n",
       "    </tr>\n",
       "    <tr>\n",
       "      <th>4</th>\n",
       "      <td>Other</td>\n",
       "      <td>George Gascon</td>\n",
       "      <td>58150</td>\n",
       "    </tr>\n",
       "    <tr>\n",
       "      <th>5</th>\n",
       "      <td>Other</td>\n",
       "      <td>Herb Wesson</td>\n",
       "      <td>869728</td>\n",
       "    </tr>\n",
       "    <tr>\n",
       "      <th>6</th>\n",
       "      <td>Other</td>\n",
       "      <td>Holly Mitchell</td>\n",
       "      <td>563804</td>\n",
       "    </tr>\n",
       "    <tr>\n",
       "      <th>7</th>\n",
       "      <td>Other</td>\n",
       "      <td>Jackie Lacey</td>\n",
       "      <td>144051</td>\n",
       "    </tr>\n",
       "  </tbody>\n",
       "</table>\n",
       "</div>"
      ],
      "text/plain": [
       "         type  candidate_name  amount_rcvd\n",
       "0  Individual   George Gascon      1106175\n",
       "1  Individual     Herb Wesson      1693879\n",
       "2  Individual  Holly Mitchell      1071413\n",
       "3  Individual    Jackie Lacey       525920\n",
       "4       Other   George Gascon        58150\n",
       "5       Other     Herb Wesson       869728\n",
       "6       Other  Holly Mitchell       563804\n",
       "7       Other    Jackie Lacey       144051"
      ]
     },
     "execution_count": 37,
     "metadata": {},
     "output_type": "execute_result"
    }
   ],
   "source": [
    "ind_other_totals"
   ]
  },
  {
   "cell_type": "code",
   "execution_count": 38,
   "metadata": {
    "collapsed": true,
    "jupyter": {
     "outputs_hidden": true
    }
   },
   "outputs": [
    {
     "data": {
      "text/html": [
       "\n",
       "<div id=\"altair-viz-70bdf355aa9f47419fdf779802b1cdef\"></div>\n",
       "<script type=\"text/javascript\">\n",
       "  (function(spec, embedOpt){\n",
       "    let outputDiv = document.currentScript.previousElementSibling;\n",
       "    if (outputDiv.id !== \"altair-viz-70bdf355aa9f47419fdf779802b1cdef\") {\n",
       "      outputDiv = document.getElementById(\"altair-viz-70bdf355aa9f47419fdf779802b1cdef\");\n",
       "    }\n",
       "    const paths = {\n",
       "      \"vega\": \"https://cdn.jsdelivr.net/npm//vega@5?noext\",\n",
       "      \"vega-lib\": \"https://cdn.jsdelivr.net/npm//vega-lib?noext\",\n",
       "      \"vega-lite\": \"https://cdn.jsdelivr.net/npm//vega-lite@4.8.1?noext\",\n",
       "      \"vega-embed\": \"https://cdn.jsdelivr.net/npm//vega-embed@6?noext\",\n",
       "    };\n",
       "\n",
       "    function loadScript(lib) {\n",
       "      return new Promise(function(resolve, reject) {\n",
       "        var s = document.createElement('script');\n",
       "        s.src = paths[lib];\n",
       "        s.async = true;\n",
       "        s.onload = () => resolve(paths[lib]);\n",
       "        s.onerror = () => reject(`Error loading script: ${paths[lib]}`);\n",
       "        document.getElementsByTagName(\"head\")[0].appendChild(s);\n",
       "      });\n",
       "    }\n",
       "\n",
       "    function showError(err) {\n",
       "      outputDiv.innerHTML = `<div class=\"error\" style=\"color:red;\">${err}</div>`;\n",
       "      throw err;\n",
       "    }\n",
       "\n",
       "    function displayChart(vegaEmbed) {\n",
       "      vegaEmbed(outputDiv, spec, embedOpt)\n",
       "        .catch(err => showError(`Javascript Error: ${err.message}<br>This usually means there's a typo in your chart specification. See the javascript console for the full traceback.`));\n",
       "    }\n",
       "\n",
       "    if(typeof define === \"function\" && define.amd) {\n",
       "      requirejs.config({paths});\n",
       "      require([\"vega-embed\"], displayChart, err => showError(`Error loading script: ${err.message}`));\n",
       "    } else if (typeof vegaEmbed === \"function\") {\n",
       "      displayChart(vegaEmbed);\n",
       "    } else {\n",
       "      loadScript(\"vega\")\n",
       "        .then(() => loadScript(\"vega-lite\"))\n",
       "        .then(() => loadScript(\"vega-embed\"))\n",
       "        .catch(showError)\n",
       "        .then(() => displayChart(vegaEmbed));\n",
       "    }\n",
       "  })({\"config\": {\"view\": {\"width\": 800, \"height\": 450}, \"background\": \"#ffffff\", \"title\": {\"anchor\": \"start\", \"font\": \"Benton Gothic Bold, sans\", \"fontColor\": \"#000000\", \"fontSize\": 22, \"fontWeight\": \"normal\"}, \"arc\": {\"fill\": \"#82c6df\"}, \"area\": {\"fill\": \"#82c6df\"}, \"line\": {\"stroke\": \"#82c6df\", \"strokeWidth\": 3}, \"path\": {\"stroke\": \"#82c6df\"}, \"rect\": {\"fill\": \"#82c6df\"}, \"shape\": {\"stroke\": \"#82c6df\"}, \"bar\": {\"fill\": \"#82c6df\"}, \"point\": {\"stroke\": \"#82c6df\"}, \"symbol\": {\"fill\": \"#82c6df\", \"size\": 30}, \"axis\": {\"titleFont\": \"Benton Gothic Bold, sans\", \"titleFontSize\": 13, \"titleFontWeight\": \"normal\", \"labelFont\": \"Benton Gothic, sans\", \"labelFontSize\": 11.5, \"labelFontWeight\": \"normal\"}, \"axisX\": {\"labelAngle\": 0, \"labelPadding\": 4, \"tickSize\": 3}, \"axisY\": {\"labelBaseline\": \"middle\", \"maxExtent\": 45, \"minExtent\": 45, \"tickSize\": 2, \"titleAlign\": \"left\", \"titleAngle\": 0, \"titleX\": -45, \"titleY\": -11}, \"legend\": {\"titleFont\": \"Benton Gothic Bold, sans\", \"titleFontSize\": 13, \"titleFontWeight\": \"normal\", \"symbolType\": \"square\", \"labelFont\": \"Benton Gothic, sans\", \"labelFontSize\": 11.5}, \"range\": {\"category\": [\"#3580b1\", \"#ec8431\", \"#ab7fb4\", \"#c89d29\", \"#adc839\", \"#829eb1\"], \"diverging\": [\"#e68a4f\", \"#f4bb6a\", \"#f9e39c\", \"#dadfe2\", \"#a6b7c6\", \"#849eae\"], \"heatmap\": [\"#fbf2c7\", \"#f9e39c\", \"#f8d36e\", \"#f4bb6a\", \"#e68a4f\", \"#d15a40\", \"#ab4232\"], \"ordinal\": [\"#fbf2c7\", \"#f9e39c\", \"#f8d36e\", \"#f4bb6a\", \"#e68a4f\", \"#d15a40\", \"#ab4232\"], \"ramp\": [\"#fbf2c7\", \"#f9e39c\", \"#f8d36e\", \"#f4bb6a\", \"#e68a4f\", \"#d15a40\", \"#ab4232\"]}}, \"data\": {\"name\": \"data-5fc0c65e5e8d3eb1333d1911dbd3f2f5\"}, \"mark\": \"bar\", \"encoding\": {\"color\": {\"type\": \"nominal\", \"field\": \"type\", \"legend\": {\"orient\": \"top\", \"title\": \"\"}}, \"order\": {\"type\": \"quantitative\", \"aggregate\": \"sum\", \"field\": \"amount_rcvd\", \"sort\": \"ascending\"}, \"x\": {\"type\": \"quantitative\", \"aggregate\": \"sum\", \"axis\": {\"format\": \"%\", \"tickCount\": 6}, \"field\": \"amount_rcvd\", \"stack\": \"normalize\", \"title\": \"Share of donations\"}, \"y\": {\"type\": \"nominal\", \"field\": \"candidate_name\", \"title\": \"\"}}, \"height\": 175, \"title\": \"Share of donations from individuals\", \"width\": 800, \"$schema\": \"https://vega.github.io/schema/vega-lite/v4.8.1.json\", \"datasets\": {\"data-5fc0c65e5e8d3eb1333d1911dbd3f2f5\": [{\"type\": \"Individual\", \"candidate_name\": \"George Gascon\", \"amount_rcvd\": 1106175}, {\"type\": \"Individual\", \"candidate_name\": \"Herb Wesson\", \"amount_rcvd\": 1693879}, {\"type\": \"Individual\", \"candidate_name\": \"Holly Mitchell\", \"amount_rcvd\": 1071413}, {\"type\": \"Individual\", \"candidate_name\": \"Jackie Lacey\", \"amount_rcvd\": 525920}, {\"type\": \"Other\", \"candidate_name\": \"George Gascon\", \"amount_rcvd\": 58150}, {\"type\": \"Other\", \"candidate_name\": \"Herb Wesson\", \"amount_rcvd\": 869728}, {\"type\": \"Other\", \"candidate_name\": \"Holly Mitchell\", \"amount_rcvd\": 563804}, {\"type\": \"Other\", \"candidate_name\": \"Jackie Lacey\", \"amount_rcvd\": 144051}]}}, {\"actions\": false, \"mode\": \"vega-lite\"});\n",
       "</script>"
      ],
      "text/plain": [
       "alt.Chart(...)"
      ]
     },
     "execution_count": 38,
     "metadata": {},
     "output_type": "execute_result"
    }
   ],
   "source": [
    "bars = alt.Chart(ind_other_totals, title='Share of donations from individuals').mark_bar().encode(\n",
    "    x=alt.X('sum(amount_rcvd)', stack=\"normalize\", title=\"Share of donations\",axis=alt.Axis(format='%', tickCount=6)),\n",
    "    y=alt.Y('candidate_name', title=\"\"),\n",
    "    color=alt.Color('type',legend=alt.Legend(title=\"\", orient='top')),\n",
    "    order=alt.Order('sum(amount_rcvd)', sort='ascending')\n",
    ")\n",
    "(bars).properties(height=175, width=800)"
   ]
  },
  {
   "cell_type": "markdown",
   "metadata": {},
   "source": [
    "## When exactly is each donation? "
   ]
  },
  {
   "cell_type": "markdown",
   "metadata": {},
   "source": [
    "### How much did each candidate raise — by month — in 2019 and 2020? "
   ]
  },
  {
   "cell_type": "code",
   "execution_count": 39,
   "metadata": {},
   "outputs": [],
   "source": [
    "our_candidates_time = our_candidates.groupby(['monthyear','year','month', 'candidate_name'], as_index=False).\\\n",
    "            agg({'amount_rcvd': ['size', 'mean', 'sum']}, as_index=False)"
   ]
  },
  {
   "cell_type": "code",
   "execution_count": 40,
   "metadata": {},
   "outputs": [],
   "source": [
    "flat_columns = [''.join(t) for t in our_candidates_time.columns]\n",
    "our_candidates_time.columns = flat_columns"
   ]
  },
  {
   "cell_type": "code",
   "execution_count": 41,
   "metadata": {},
   "outputs": [
    {
     "data": {
      "text/html": [
       "<div>\n",
       "<style scoped>\n",
       "    .dataframe tbody tr th:only-of-type {\n",
       "        vertical-align: middle;\n",
       "    }\n",
       "\n",
       "    .dataframe tbody tr th {\n",
       "        vertical-align: top;\n",
       "    }\n",
       "\n",
       "    .dataframe thead th {\n",
       "        text-align: right;\n",
       "    }\n",
       "</style>\n",
       "<table border=\"1\" class=\"dataframe\">\n",
       "  <thead>\n",
       "    <tr style=\"text-align: right;\">\n",
       "      <th></th>\n",
       "      <th>monthyear</th>\n",
       "      <th>year</th>\n",
       "      <th>month</th>\n",
       "      <th>candidate_name</th>\n",
       "      <th>amount_rcvdsize</th>\n",
       "      <th>amount_rcvdmean</th>\n",
       "      <th>amount_rcvdsum</th>\n",
       "    </tr>\n",
       "  </thead>\n",
       "  <tbody>\n",
       "    <tr>\n",
       "      <th>0</th>\n",
       "      <td>2020-11-01</td>\n",
       "      <td>2020.0</td>\n",
       "      <td>11.0</td>\n",
       "      <td>George Gascon</td>\n",
       "      <td>2852</td>\n",
       "      <td>408</td>\n",
       "      <td>1164325</td>\n",
       "    </tr>\n",
       "    <tr>\n",
       "      <th>1</th>\n",
       "      <td>2020-11-01</td>\n",
       "      <td>2020.0</td>\n",
       "      <td>11.0</td>\n",
       "      <td>Herb Wesson</td>\n",
       "      <td>2586</td>\n",
       "      <td>991</td>\n",
       "      <td>2563607</td>\n",
       "    </tr>\n",
       "    <tr>\n",
       "      <th>2</th>\n",
       "      <td>2020-11-01</td>\n",
       "      <td>2020.0</td>\n",
       "      <td>11.0</td>\n",
       "      <td>Holly Mitchell</td>\n",
       "      <td>3402</td>\n",
       "      <td>480</td>\n",
       "      <td>1635217</td>\n",
       "    </tr>\n",
       "    <tr>\n",
       "      <th>3</th>\n",
       "      <td>2020-11-01</td>\n",
       "      <td>2020.0</td>\n",
       "      <td>11.0</td>\n",
       "      <td>Jackie Lacey</td>\n",
       "      <td>1082</td>\n",
       "      <td>637</td>\n",
       "      <td>689971</td>\n",
       "    </tr>\n",
       "  </tbody>\n",
       "</table>\n",
       "</div>"
      ],
      "text/plain": [
       "   monthyear    year month  candidate_name  amount_rcvdsize  amount_rcvdmean  \\\n",
       "0 2020-11-01  2020.0  11.0   George Gascon             2852              408   \n",
       "1 2020-11-01  2020.0  11.0     Herb Wesson             2586              991   \n",
       "2 2020-11-01  2020.0  11.0  Holly Mitchell             3402              480   \n",
       "3 2020-11-01  2020.0  11.0    Jackie Lacey             1082              637   \n",
       "\n",
       "   amount_rcvdsum  \n",
       "0         1164325  \n",
       "1         2563607  \n",
       "2         1635217  \n",
       "3          689971  "
      ]
     },
     "execution_count": 41,
     "metadata": {},
     "output_type": "execute_result"
    }
   ],
   "source": [
    "our_candidates_time['amount_rcvdmean'] = our_candidates_time['amount_rcvdmean'].astype(int)\n",
    "our_candidates_time['amount_rcvdmean'] = our_candidates_time['amount_rcvdmean'].round()\n",
    "our_candidates_time.head(10)"
   ]
  },
  {
   "cell_type": "code",
   "execution_count": 42,
   "metadata": {},
   "outputs": [],
   "source": [
    "our_candidates_time['months'] = our_candidates_time['monthyear'].dt.strftime('%b').astype(str)\n",
    "our_candidates_time['week'] = our_candidates_time['monthyear'].dt.isocalendar().week\n",
    "our_candidates_time['year'] = our_candidates_time['monthyear'].dt.strftime('%Y').astype(str)"
   ]
  },
  {
   "cell_type": "code",
   "execution_count": 43,
   "metadata": {},
   "outputs": [
    {
     "data": {
      "text/html": [
       "<div>\n",
       "<style scoped>\n",
       "    .dataframe tbody tr th:only-of-type {\n",
       "        vertical-align: middle;\n",
       "    }\n",
       "\n",
       "    .dataframe tbody tr th {\n",
       "        vertical-align: top;\n",
       "    }\n",
       "\n",
       "    .dataframe thead th {\n",
       "        text-align: right;\n",
       "    }\n",
       "</style>\n",
       "<table border=\"1\" class=\"dataframe\">\n",
       "  <thead>\n",
       "    <tr style=\"text-align: right;\">\n",
       "      <th></th>\n",
       "      <th>monthyear</th>\n",
       "      <th>year</th>\n",
       "      <th>month</th>\n",
       "      <th>candidate_name</th>\n",
       "      <th>amount_rcvdsize</th>\n",
       "      <th>amount_rcvdmean</th>\n",
       "      <th>amount_rcvdsum</th>\n",
       "      <th>months</th>\n",
       "      <th>week</th>\n",
       "    </tr>\n",
       "  </thead>\n",
       "  <tbody>\n",
       "    <tr>\n",
       "      <th>0</th>\n",
       "      <td>2020-11-01</td>\n",
       "      <td>2020</td>\n",
       "      <td>11.0</td>\n",
       "      <td>George Gascon</td>\n",
       "      <td>2852</td>\n",
       "      <td>408</td>\n",
       "      <td>1164325</td>\n",
       "      <td>Nov</td>\n",
       "      <td>44</td>\n",
       "    </tr>\n",
       "    <tr>\n",
       "      <th>1</th>\n",
       "      <td>2020-11-01</td>\n",
       "      <td>2020</td>\n",
       "      <td>11.0</td>\n",
       "      <td>Herb Wesson</td>\n",
       "      <td>2586</td>\n",
       "      <td>991</td>\n",
       "      <td>2563607</td>\n",
       "      <td>Nov</td>\n",
       "      <td>44</td>\n",
       "    </tr>\n",
       "    <tr>\n",
       "      <th>2</th>\n",
       "      <td>2020-11-01</td>\n",
       "      <td>2020</td>\n",
       "      <td>11.0</td>\n",
       "      <td>Holly Mitchell</td>\n",
       "      <td>3402</td>\n",
       "      <td>480</td>\n",
       "      <td>1635217</td>\n",
       "      <td>Nov</td>\n",
       "      <td>44</td>\n",
       "    </tr>\n",
       "    <tr>\n",
       "      <th>3</th>\n",
       "      <td>2020-11-01</td>\n",
       "      <td>2020</td>\n",
       "      <td>11.0</td>\n",
       "      <td>Jackie Lacey</td>\n",
       "      <td>1082</td>\n",
       "      <td>637</td>\n",
       "      <td>689971</td>\n",
       "      <td>Nov</td>\n",
       "      <td>44</td>\n",
       "    </tr>\n",
       "  </tbody>\n",
       "</table>\n",
       "</div>"
      ],
      "text/plain": [
       "   monthyear  year month  candidate_name  amount_rcvdsize  amount_rcvdmean  \\\n",
       "0 2020-11-01  2020  11.0   George Gascon             2852              408   \n",
       "1 2020-11-01  2020  11.0     Herb Wesson             2586              991   \n",
       "2 2020-11-01  2020  11.0  Holly Mitchell             3402              480   \n",
       "3 2020-11-01  2020  11.0    Jackie Lacey             1082              637   \n",
       "\n",
       "   amount_rcvdsum months  week  \n",
       "0         1164325    Nov    44  \n",
       "1         2563607    Nov    44  \n",
       "2         1635217    Nov    44  \n",
       "3          689971    Nov    44  "
      ]
     },
     "execution_count": 43,
     "metadata": {},
     "output_type": "execute_result"
    }
   ],
   "source": [
    "our_candidates_time"
   ]
  },
  {
   "cell_type": "code",
   "execution_count": null,
   "metadata": {},
   "outputs": [],
   "source": []
  },
  {
   "cell_type": "code",
   "execution_count": 44,
   "metadata": {},
   "outputs": [
    {
     "data": {
      "text/html": [
       "<div>\n",
       "<style scoped>\n",
       "    .dataframe tbody tr th:only-of-type {\n",
       "        vertical-align: middle;\n",
       "    }\n",
       "\n",
       "    .dataframe tbody tr th {\n",
       "        vertical-align: top;\n",
       "    }\n",
       "\n",
       "    .dataframe thead th {\n",
       "        text-align: right;\n",
       "    }\n",
       "</style>\n",
       "<table border=\"1\" class=\"dataframe\">\n",
       "  <thead>\n",
       "    <tr style=\"text-align: right;\">\n",
       "      <th></th>\n",
       "      <th>last_name</th>\n",
       "      <th>first_name</th>\n",
       "      <th>committee_id</th>\n",
       "      <th>committee_name</th>\n",
       "      <th>office_type</th>\n",
       "      <th>district_number</th>\n",
       "      <th>schedule</th>\n",
       "      <th>type</th>\n",
       "      <th>period_beg_date</th>\n",
       "      <th>period_end_date</th>\n",
       "      <th>...</th>\n",
       "      <th>doc_id</th>\n",
       "      <th>rec_id</th>\n",
       "      <th>x</th>\n",
       "      <th>monthyear</th>\n",
       "      <th>candidate_name</th>\n",
       "      <th>candidate_slug</th>\n",
       "      <th>year</th>\n",
       "      <th>month</th>\n",
       "      <th>months</th>\n",
       "      <th>week</th>\n",
       "    </tr>\n",
       "  </thead>\n",
       "  <tbody>\n",
       "    <tr>\n",
       "      <th>90005</th>\n",
       "      <td>WESSON</td>\n",
       "      <td>HERB</td>\n",
       "      <td>1414475</td>\n",
       "      <td>WESSON FOR SUPERVISOR 2020</td>\n",
       "      <td>CSU</td>\n",
       "      <td>C02</td>\n",
       "      <td>C</td>\n",
       "      <td>Other</td>\n",
       "      <td>00:00.0</td>\n",
       "      <td>00:00.0</td>\n",
       "      <td>...</td>\n",
       "      <td>NaN</td>\n",
       "      <td>2752.0</td>\n",
       "      <td>1502.0</td>\n",
       "      <td>2020-11-01</td>\n",
       "      <td>Herb Wesson</td>\n",
       "      <td>herb_wesson</td>\n",
       "      <td>2020.0</td>\n",
       "      <td>11.0</td>\n",
       "      <td>11/2020</td>\n",
       "      <td>45</td>\n",
       "    </tr>\n",
       "    <tr>\n",
       "      <th>90012</th>\n",
       "      <td>WESSON</td>\n",
       "      <td>HERB</td>\n",
       "      <td>1414475</td>\n",
       "      <td>WESSON FOR SUPERVISOR 2020</td>\n",
       "      <td>CSU</td>\n",
       "      <td>C02</td>\n",
       "      <td>C</td>\n",
       "      <td>Individual</td>\n",
       "      <td>00:00.0</td>\n",
       "      <td>00:00.0</td>\n",
       "      <td>...</td>\n",
       "      <td>NaN</td>\n",
       "      <td>2581.0</td>\n",
       "      <td>1419.0</td>\n",
       "      <td>2020-11-01</td>\n",
       "      <td>Herb Wesson</td>\n",
       "      <td>herb_wesson</td>\n",
       "      <td>2020.0</td>\n",
       "      <td>11.0</td>\n",
       "      <td>11/2020</td>\n",
       "      <td>45</td>\n",
       "    </tr>\n",
       "    <tr>\n",
       "      <th>90018</th>\n",
       "      <td>LACEY</td>\n",
       "      <td>JACKIE</td>\n",
       "      <td>1334856</td>\n",
       "      <td>COMMITTEE TO ELECT JACKIE LACEY FOR DA 2012</td>\n",
       "      <td>DAT</td>\n",
       "      <td>NaN</td>\n",
       "      <td>C</td>\n",
       "      <td>Other</td>\n",
       "      <td>00:00.0</td>\n",
       "      <td>00:00.0</td>\n",
       "      <td>...</td>\n",
       "      <td>NaN</td>\n",
       "      <td>1559.0</td>\n",
       "      <td>669.0</td>\n",
       "      <td>2020-11-01</td>\n",
       "      <td>Jackie Lacey</td>\n",
       "      <td>jackie_lacey</td>\n",
       "      <td>2020.0</td>\n",
       "      <td>11.0</td>\n",
       "      <td>11/2020</td>\n",
       "      <td>45</td>\n",
       "    </tr>\n",
       "    <tr>\n",
       "      <th>90089</th>\n",
       "      <td>LACEY</td>\n",
       "      <td>JACKIE</td>\n",
       "      <td>1334856</td>\n",
       "      <td>COMMITTEE TO ELECT JACKIE LACEY FOR DA 2012</td>\n",
       "      <td>DAT</td>\n",
       "      <td>NaN</td>\n",
       "      <td>C</td>\n",
       "      <td>Individual</td>\n",
       "      <td>00:00.0</td>\n",
       "      <td>00:00.0</td>\n",
       "      <td>...</td>\n",
       "      <td>NaN</td>\n",
       "      <td>1559.0</td>\n",
       "      <td>668.0</td>\n",
       "      <td>2020-11-01</td>\n",
       "      <td>Jackie Lacey</td>\n",
       "      <td>jackie_lacey</td>\n",
       "      <td>2020.0</td>\n",
       "      <td>11.0</td>\n",
       "      <td>11/2020</td>\n",
       "      <td>45</td>\n",
       "    </tr>\n",
       "    <tr>\n",
       "      <th>90103</th>\n",
       "      <td>MITCHELL</td>\n",
       "      <td>HOLLY</td>\n",
       "      <td>1415889</td>\n",
       "      <td>HOLLY J. MITCHELL FOR COUNTY SUPERVISOR 2020</td>\n",
       "      <td>CSU</td>\n",
       "      <td>C02</td>\n",
       "      <td>C</td>\n",
       "      <td>Individual</td>\n",
       "      <td>00:00.0</td>\n",
       "      <td>00:00.0</td>\n",
       "      <td>...</td>\n",
       "      <td>NaN</td>\n",
       "      <td>2710.0</td>\n",
       "      <td>1490.0</td>\n",
       "      <td>2020-11-01</td>\n",
       "      <td>Holly Mitchell</td>\n",
       "      <td>holly_mitchell</td>\n",
       "      <td>2020.0</td>\n",
       "      <td>11.0</td>\n",
       "      <td>11/2020</td>\n",
       "      <td>45</td>\n",
       "    </tr>\n",
       "  </tbody>\n",
       "</table>\n",
       "<p>5 rows × 41 columns</p>\n",
       "</div>"
      ],
      "text/plain": [
       "      last_name first_name committee_id  \\\n",
       "90005    WESSON       HERB      1414475   \n",
       "90012    WESSON       HERB      1414475   \n",
       "90018     LACEY     JACKIE      1334856   \n",
       "90089     LACEY     JACKIE      1334856   \n",
       "90103  MITCHELL      HOLLY      1415889   \n",
       "\n",
       "                                     committee_name office_type  \\\n",
       "90005                    WESSON FOR SUPERVISOR 2020         CSU   \n",
       "90012                    WESSON FOR SUPERVISOR 2020         CSU   \n",
       "90018   COMMITTEE TO ELECT JACKIE LACEY FOR DA 2012         DAT   \n",
       "90089   COMMITTEE TO ELECT JACKIE LACEY FOR DA 2012         DAT   \n",
       "90103  HOLLY J. MITCHELL FOR COUNTY SUPERVISOR 2020         CSU   \n",
       "\n",
       "      district_number schedule        type period_beg_date period_end_date  \\\n",
       "90005             C02        C       Other         00:00.0         00:00.0   \n",
       "90012             C02        C  Individual         00:00.0         00:00.0   \n",
       "90018             NaN        C       Other         00:00.0         00:00.0   \n",
       "90089             NaN        C  Individual         00:00.0         00:00.0   \n",
       "90103             C02        C  Individual         00:00.0         00:00.0   \n",
       "\n",
       "       ... doc_id  rec_id       x  monthyear  candidate_name  candidate_slug  \\\n",
       "90005  ...    NaN  2752.0  1502.0 2020-11-01     Herb Wesson     herb_wesson   \n",
       "90012  ...    NaN  2581.0  1419.0 2020-11-01     Herb Wesson     herb_wesson   \n",
       "90018  ...    NaN  1559.0   669.0 2020-11-01    Jackie Lacey    jackie_lacey   \n",
       "90089  ...    NaN  1559.0   668.0 2020-11-01    Jackie Lacey    jackie_lacey   \n",
       "90103  ...    NaN  2710.0  1490.0 2020-11-01  Holly Mitchell  holly_mitchell   \n",
       "\n",
       "         year  month   months week  \n",
       "90005  2020.0   11.0  11/2020   45  \n",
       "90012  2020.0   11.0  11/2020   45  \n",
       "90018  2020.0   11.0  11/2020   45  \n",
       "90089  2020.0   11.0  11/2020   45  \n",
       "90103  2020.0   11.0  11/2020   45  \n",
       "\n",
       "[5 rows x 41 columns]"
      ]
     },
     "execution_count": 44,
     "metadata": {},
     "output_type": "execute_result"
    }
   ],
   "source": [
    "our_candidates.tail()"
   ]
  },
  {
   "cell_type": "code",
   "execution_count": 45,
   "metadata": {},
   "outputs": [
    {
     "ename": "NameError",
     "evalue": "name 'districttwo_time' is not defined",
     "output_type": "error",
     "traceback": [
      "\u001b[0;31m---------------------------------------------------------------------------\u001b[0m",
      "\u001b[0;31mNameError\u001b[0m                                 Traceback (most recent call last)",
      "\u001b[0;32m<ipython-input-45-67c561eba152>\u001b[0m in \u001b[0;36m<module>\u001b[0;34m\u001b[0m\n\u001b[0;32m----> 1\u001b[0;31m alt.Chart(districttwo_time).mark_bar().encode(\n\u001b[0m\u001b[1;32m      2\u001b[0m     \u001b[0my\u001b[0m\u001b[0;34m=\u001b[0m\u001b[0;34m'amount_rcvdsum:Q'\u001b[0m\u001b[0;34m,\u001b[0m\u001b[0;34m\u001b[0m\u001b[0;34m\u001b[0m\u001b[0m\n\u001b[1;32m      3\u001b[0m     \u001b[0mx\u001b[0m\u001b[0;34m=\u001b[0m\u001b[0malt\u001b[0m\u001b[0;34m.\u001b[0m\u001b[0mX\u001b[0m\u001b[0;34m(\u001b[0m\u001b[0;34m'month:N'\u001b[0m\u001b[0;34m,\u001b[0m \u001b[0mtimeUnit\u001b[0m\u001b[0;34m=\u001b[0m\u001b[0;34m'month'\u001b[0m\u001b[0;34m,\u001b[0m \u001b[0mtitle\u001b[0m\u001b[0;34m=\u001b[0m\u001b[0;34m''\u001b[0m\u001b[0;34m)\u001b[0m\u001b[0;34m\u001b[0m\u001b[0;34m\u001b[0m\u001b[0m\n\u001b[1;32m      4\u001b[0m \u001b[0;34m)\u001b[0m\u001b[0;34m.\u001b[0m\u001b[0mproperties\u001b[0m\u001b[0;34m(\u001b[0m\u001b[0;34m\u001b[0m\u001b[0;34m\u001b[0m\u001b[0m\n\u001b[1;32m      5\u001b[0m     \u001b[0mwidth\u001b[0m\u001b[0;34m=\u001b[0m\u001b[0;36m250\u001b[0m\u001b[0;34m,\u001b[0m\u001b[0;34m\u001b[0m\u001b[0;34m\u001b[0m\u001b[0m\n",
      "\u001b[0;31mNameError\u001b[0m: name 'districttwo_time' is not defined"
     ]
    }
   ],
   "source": [
    "alt.Chart(districttwo_time).mark_bar().encode(\n",
    "    y='amount_rcvdsum:Q',\n",
    "    x=alt.X('month:N', timeUnit='month', title='')\n",
    ").properties(\n",
    "    width=250,\n",
    "    height=180\n",
    ").facet(\n",
    "    facet='candidate_name:N',\n",
    "    columns=3\n",
    ")"
   ]
  },
  {
   "cell_type": "code",
   "execution_count": null,
   "metadata": {},
   "outputs": [],
   "source": [
    "districttwo_time.to_csv('output/districttwo_time.csv')"
   ]
  },
  {
   "cell_type": "markdown",
   "metadata": {},
   "source": [
    "### How much did they raise by ZIP? "
   ]
  },
  {
   "cell_type": "code",
   "execution_count": null,
   "metadata": {},
   "outputs": [],
   "source": [
    "zip_totals = districttwo.groupby(['zipcode'])['amount_rcvd']\\\n",
    "    .sum().reset_index().sort_values(by='amount_rcvd', ascending=False)"
   ]
  },
  {
   "cell_type": "code",
   "execution_count": null,
   "metadata": {},
   "outputs": [],
   "source": [
    "zip_totals.head()"
   ]
  },
  {
   "cell_type": "code",
   "execution_count": null,
   "metadata": {},
   "outputs": [],
   "source": [
    "zip_totals_candidate = districttwo[districttwo['candidate_name'] == 'Albert Robles'].groupby(['zipcode'])['amount_rcvd']\\\n",
    "    .sum().reset_index().sort_values(by='amount_rcvd', ascending=False)\n",
    "zip_totals_candidate.head()"
   ]
  },
  {
   "cell_type": "code",
   "execution_count": null,
   "metadata": {},
   "outputs": [],
   "source": [
    "zip_totals.to_csv('output/zip_totals.csv')"
   ]
  },
  {
   "cell_type": "code",
   "execution_count": null,
   "metadata": {},
   "outputs": [],
   "source": [
    "zip_totals_candidates = districttwo.groupby(['candidate_name', 'zipcode'])['amount_rcvd']\\\n",
    "    .sum().reset_index().sort_values(by='amount_rcvd', ascending=False)"
   ]
  },
  {
   "cell_type": "markdown",
   "metadata": {},
   "source": [
    "---"
   ]
  },
  {
   "cell_type": "markdown",
   "metadata": {},
   "source": [
    "## Geography"
   ]
  },
  {
   "cell_type": "markdown",
   "metadata": {},
   "source": [
    "### Load 2nd District boundary data"
   ]
  },
  {
   "cell_type": "code",
   "execution_count": null,
   "metadata": {},
   "outputs": [],
   "source": [
    "#http://public.gis.lacounty.gov/public/rest/services/LACounty_Dynamic/Demographics/MapServer/3\n",
    "district = gpd.read_file('/Users/mhustiles/data/data/GIS/LA/second-district.geojson')"
   ]
  },
  {
   "cell_type": "markdown",
   "metadata": {},
   "source": [
    "### Read the zip codes boundaries"
   ]
  },
  {
   "cell_type": "code",
   "execution_count": null,
   "metadata": {},
   "outputs": [],
   "source": [
    "#http://public.gis.lacounty.gov/public/rest/services/LACounty_Dynamic/Administrative_Boundaries/MapServer/5\n",
    "# zips_old = gpd.read_file('/Users/mhustiles/data/github/notebooks/\\\n",
    "# campaign-finance/input/la_county_gis_zip_codes/la_county_gis_zip_codes_1569271283260.geojson')\n",
    "zips = gpd.read_file('/Users/mhustiles/data/github/AGStoShapefile/\\\n",
    "backupdir/WealthiestZipCodes2017/WealthiestZipCodesCA.geojson')"
   ]
  },
  {
   "cell_type": "code",
   "execution_count": null,
   "metadata": {},
   "outputs": [],
   "source": [
    "zips.plot()"
   ]
  },
  {
   "cell_type": "markdown",
   "metadata": {},
   "source": [
    "### We only need L.A. County"
   ]
  },
  {
   "cell_type": "code",
   "execution_count": null,
   "metadata": {},
   "outputs": [],
   "source": [
    "zips = gpd.GeoDataFrame(zips[zips['COUNTY_NAME'].str.contains('Los Angeles County')])"
   ]
  },
  {
   "cell_type": "code",
   "execution_count": null,
   "metadata": {
    "scrolled": true
   },
   "outputs": [],
   "source": [
    "zips.plot()"
   ]
  },
  {
   "cell_type": "code",
   "execution_count": null,
   "metadata": {},
   "outputs": [],
   "source": [
    "zips.columns = zips.columns.str.strip().str.lower().str.replace(' ', '_')\\\n",
    "    .str.replace('(', '').str.replace(')', '')"
   ]
  },
  {
   "cell_type": "code",
   "execution_count": null,
   "metadata": {},
   "outputs": [],
   "source": [
    "zips.rename(columns={\"id\": \"zipcode\"}, inplace=True)\n",
    "zips = zips.set_crs(\"EPSG:4326\", allow_override=True)\n",
    "zips = zips.set_crs(epsg=4326)"
   ]
  },
  {
   "cell_type": "markdown",
   "metadata": {},
   "source": [
    "### We don't need all the income demographics for this story"
   ]
  },
  {
   "cell_type": "code",
   "execution_count": null,
   "metadata": {},
   "outputs": [],
   "source": [
    "zips.drop(['objectid',\n",
    "           'st_abbrev',\n",
    "          'hai_cy',\n",
    "          'incmort_cy',\n",
    "          'wlthrnk_cy',\n",
    "          'domstate',\n",
    "           'domcbsa',\n",
    "           'cbsa_name',\n",
    "           'shape__area',\n",
    "           'shape__length',\n",
    "           'avgnw_cy',\n",
    "          'county_name'], axis=1, inplace=True)"
   ]
  },
  {
   "cell_type": "code",
   "execution_count": null,
   "metadata": {},
   "outputs": [],
   "source": [
    "zips.loc[0]"
   ]
  },
  {
   "cell_type": "code",
   "execution_count": null,
   "metadata": {},
   "outputs": [],
   "source": [
    "zips_in_district = gpd.sjoin(zips, district, how=\"inner\", op='intersects')"
   ]
  },
  {
   "cell_type": "markdown",
   "metadata": {},
   "source": [
    "### Export 2nd District boundary data to MBTiles"
   ]
  },
  {
   "cell_type": "code",
   "execution_count": null,
   "metadata": {},
   "outputs": [],
   "source": [
    "district.plot()"
   ]
  },
  {
   "cell_type": "markdown",
   "metadata": {},
   "source": [
    "### Only zips that overlap with the district"
   ]
  },
  {
   "cell_type": "code",
   "execution_count": null,
   "metadata": {},
   "outputs": [],
   "source": [
    "zips_in_district.plot()"
   ]
  },
  {
   "cell_type": "code",
   "execution_count": null,
   "metadata": {},
   "outputs": [],
   "source": [
    "zips_in_district.rename(columns={\"id\": \"zipcode\"}, inplace=True)"
   ]
  },
  {
   "cell_type": "code",
   "execution_count": null,
   "metadata": {},
   "outputs": [],
   "source": [
    "zips_in_district_geo = zips_in_district.merge(zip_totals, on='zipcode')"
   ]
  },
  {
   "cell_type": "code",
   "execution_count": null,
   "metadata": {},
   "outputs": [],
   "source": [
    "zips_in_district_geo['amount_rcvd'] = zips_in_district_geo['amount_rcvd'].astype(int).fillna('0')"
   ]
  },
  {
   "cell_type": "code",
   "execution_count": null,
   "metadata": {},
   "outputs": [],
   "source": [
    "zips_in_district_geo.sort_values(by='amount_rcvd', ascending=False).head(1)"
   ]
  },
  {
   "cell_type": "code",
   "execution_count": null,
   "metadata": {},
   "outputs": [],
   "source": [
    "zips_in_district_geo.dtypes"
   ]
  },
  {
   "cell_type": "code",
   "execution_count": null,
   "metadata": {},
   "outputs": [],
   "source": [
    "zips_in_district_export = gpd.GeoDataFrame(zips_in_district_geo)"
   ]
  },
  {
   "cell_type": "markdown",
   "metadata": {},
   "source": [
    "### Export file showing all donations by distrit zips"
   ]
  },
  {
   "cell_type": "code",
   "execution_count": null,
   "metadata": {},
   "outputs": [],
   "source": [
    "zips_in_district_export.to_file('output/zips_in_district_export.shp')"
   ]
  },
  {
   "cell_type": "markdown",
   "metadata": {},
   "source": [
    "---"
   ]
  },
  {
   "cell_type": "markdown",
   "metadata": {},
   "source": [
    "### How much did each of the candidates raise, by zip?"
   ]
  },
  {
   "cell_type": "code",
   "execution_count": null,
   "metadata": {},
   "outputs": [],
   "source": [
    "# pivot to a wide table for mapping\n",
    "\n",
    "sum_by_zip = pd.pivot_table(districttwo, values='amount_rcvd', index=['zipcode'], \n",
    "                            columns=['candidate_slug'], aggfunc=np.sum, fill_value=0).reset_index()"
   ]
  },
  {
   "cell_type": "code",
   "execution_count": null,
   "metadata": {},
   "outputs": [],
   "source": [
    "sum_by_zip[\"total\"] = sum_by_zip.sum(axis=1)"
   ]
  },
  {
   "cell_type": "code",
   "execution_count": null,
   "metadata": {},
   "outputs": [],
   "source": [
    "# flatten the multiindex frame\n",
    "\n",
    "sum_by_zip.columns = sum_by_zip.columns.to_series().str.join('')"
   ]
  },
  {
   "cell_type": "markdown",
   "metadata": {},
   "source": [
    "### How much did all of the candidates raise by zip?"
   ]
  },
  {
   "cell_type": "code",
   "execution_count": null,
   "metadata": {},
   "outputs": [],
   "source": [
    "sum_by_zip = sum_by_zip.sort_values(\"total\", ascending=False)"
   ]
  },
  {
   "cell_type": "code",
   "execution_count": null,
   "metadata": {},
   "outputs": [],
   "source": [
    "sum_by_zip.head()"
   ]
  },
  {
   "cell_type": "markdown",
   "metadata": {},
   "source": [
    "### Top ZIP Codes"
   ]
  },
  {
   "cell_type": "code",
   "execution_count": null,
   "metadata": {},
   "outputs": [],
   "source": [
    "sum_by_zip[['zipcode', 'total']].sort_values(by='total', ascending=False).head()"
   ]
  },
  {
   "cell_type": "markdown",
   "metadata": {},
   "source": [
    "### How many zips donated? "
   ]
  },
  {
   "cell_type": "code",
   "execution_count": null,
   "metadata": {},
   "outputs": [],
   "source": [
    "sum_by_zip.total.count()"
   ]
  },
  {
   "cell_type": "markdown",
   "metadata": {},
   "source": [
    "### Which 2nd District candidate received the most in each zip? "
   ]
  },
  {
   "cell_type": "code",
   "execution_count": null,
   "metadata": {},
   "outputs": [],
   "source": [
    "#create a dummy field because i'm bad at idxmax; \n",
    "sum_by_zip['tie'] = '0'"
   ]
  },
  {
   "cell_type": "code",
   "execution_count": null,
   "metadata": {},
   "outputs": [],
   "source": [
    "#reshape dataframe\n",
    "sum_by_zip_winner = pd.DataFrame(sum_by_zip[['zipcode', 'tie','herb_wesson','holly_mitchell','total']])"
   ]
  },
  {
   "cell_type": "code",
   "execution_count": null,
   "metadata": {},
   "outputs": [],
   "source": [
    "sum_by_zip_winner['tie'] = sum_by_zip_winner['tie'].astype(int)\n",
    "sum_by_zip_winner['zipcode'] = sum_by_zip_winner['zipcode'].astype(str)"
   ]
  },
  {
   "cell_type": "markdown",
   "metadata": {},
   "source": [
    "### Who won each zip?"
   ]
  },
  {
   "cell_type": "code",
   "execution_count": null,
   "metadata": {},
   "outputs": [],
   "source": [
    "sum_by_zip_winner['winner_dist_two'] = sum_by_zip_winner[['tie','herb_wesson','holly_mitchell']].idxmax(axis=1)"
   ]
  },
  {
   "cell_type": "markdown",
   "metadata": {},
   "source": [
    "### How much did each zip winner raise from there? "
   ]
  },
  {
   "cell_type": "code",
   "execution_count": null,
   "metadata": {},
   "outputs": [],
   "source": [
    "sum_by_zip_winner['winner_total'] = sum_by_zip_winner[['tie','herb_wesson','holly_mitchell']].max(axis=1)"
   ]
  },
  {
   "cell_type": "code",
   "execution_count": null,
   "metadata": {},
   "outputs": [],
   "source": [
    "sum_by_zip_winner['winner_dist_two'] = sum_by_zip_winner['winner_dist_two'].str.title().str.replace('_',' ')"
   ]
  },
  {
   "cell_type": "code",
   "execution_count": null,
   "metadata": {},
   "outputs": [],
   "source": [
    "sum_by_zip_winner['winner_dist_two'].value_counts('normalize')"
   ]
  },
  {
   "cell_type": "markdown",
   "metadata": {},
   "source": [
    "### Which were the top zips for each candidate? "
   ]
  },
  {
   "cell_type": "code",
   "execution_count": null,
   "metadata": {},
   "outputs": [],
   "source": [
    "sum_by_zip_winner.sort_values(by='winner_total', ascending=False).head()"
   ]
  },
  {
   "cell_type": "code",
   "execution_count": null,
   "metadata": {},
   "outputs": [],
   "source": [
    "sum_by_zip_winner.to_csv('output/sum_by_hood_winner.csv')"
   ]
  },
  {
   "cell_type": "markdown",
   "metadata": {},
   "source": [
    "### Remove rows with no contributions"
   ]
  },
  {
   "cell_type": "code",
   "execution_count": null,
   "metadata": {},
   "outputs": [],
   "source": [
    "sum_by_zip_winner = sum_by_zip_winner[(sum_by_zip_winner['winner_total'] != 0)]"
   ]
  },
  {
   "cell_type": "code",
   "execution_count": null,
   "metadata": {},
   "outputs": [],
   "source": [
    "len(sum_by_zip_winner)"
   ]
  },
  {
   "cell_type": "markdown",
   "metadata": {},
   "source": [
    "### How many zips did each candidate win?"
   ]
  },
  {
   "cell_type": "code",
   "execution_count": null,
   "metadata": {
    "scrolled": true
   },
   "outputs": [],
   "source": [
    "sum_by_zip_winner.winner_dist_two.value_counts()"
   ]
  },
  {
   "cell_type": "markdown",
   "metadata": {},
   "source": [
    "---"
   ]
  },
  {
   "cell_type": "markdown",
   "metadata": {},
   "source": [
    "### How much did the candidates raise in the 2nd District ZIPs alone? "
   ]
  },
  {
   "cell_type": "code",
   "execution_count": null,
   "metadata": {},
   "outputs": [],
   "source": [
    "donations_in_district_zips = zips_in_district.merge(zip_totals_candidates,on='zipcode')"
   ]
  },
  {
   "cell_type": "markdown",
   "metadata": {},
   "source": [
    "### Share raised inside the district raised by all the candidates? "
   ]
  },
  {
   "cell_type": "code",
   "execution_count": null,
   "metadata": {},
   "outputs": [],
   "source": [
    "((donations_in_district_zips.amount_rcvd.sum() /second_district_totals['amount_rcvd'].sum()) * 100).round(3)"
   ]
  },
  {
   "cell_type": "markdown",
   "metadata": {},
   "source": [
    "### Share raised inside the district raised by each candidate? "
   ]
  },
  {
   "cell_type": "code",
   "execution_count": null,
   "metadata": {},
   "outputs": [],
   "source": [
    "in_district_totals = donations_in_district_zips.groupby(['candidate_name']).agg('sum').reset_index()"
   ]
  },
  {
   "cell_type": "code",
   "execution_count": null,
   "metadata": {},
   "outputs": [],
   "source": [
    "in_district_totals[['candidate_name','amount_rcvd']]"
   ]
  },
  {
   "cell_type": "code",
   "execution_count": null,
   "metadata": {},
   "outputs": [],
   "source": [
    "in_district_share = in_district_totals.merge(second_district_sum, on='candidate_name')\n",
    "in_district_share_slim = pd.DataFrame(in_district_share[['candidate_name','amount_rcvd_y', 'amount_rcvd_x']])"
   ]
  },
  {
   "cell_type": "code",
   "execution_count": null,
   "metadata": {},
   "outputs": [],
   "source": [
    "in_district_share.head(10)"
   ]
  },
  {
   "cell_type": "markdown",
   "metadata": {},
   "source": [
    "### What share did candidates raise from outside the district?"
   ]
  },
  {
   "cell_type": "code",
   "execution_count": null,
   "metadata": {},
   "outputs": [],
   "source": [
    "in_district_share_slim.rename(columns={\"amount_rcvd_y\": \"total_raised\",\\\n",
    "                                      \"amount_rcvd_x\": \"inside_raised\"}, inplace=True)"
   ]
  },
  {
   "cell_type": "code",
   "execution_count": null,
   "metadata": {},
   "outputs": [],
   "source": [
    "in_district_share_slim['share_inside'] = ((in_district_share_slim['inside_raised'] /\\\n",
    "                                   in_district_share_slim['total_raised'] ) *100).round()"
   ]
  },
  {
   "cell_type": "code",
   "execution_count": null,
   "metadata": {},
   "outputs": [],
   "source": [
    "in_district_share_slim['share_outside'] = 100 - in_district_share_slim['share_inside']"
   ]
  },
  {
   "cell_type": "code",
   "execution_count": null,
   "metadata": {},
   "outputs": [],
   "source": [
    "in_district_share_slim.head(6)"
   ]
  },
  {
   "cell_type": "code",
   "execution_count": null,
   "metadata": {
    "scrolled": true
   },
   "outputs": [],
   "source": [
    "in_district_share_slim[['candidate_name','share_inside','share_outside']]\\\n",
    "    .to_csv('output/in_district_share_slim.csv')"
   ]
  },
  {
   "cell_type": "markdown",
   "metadata": {},
   "source": [
    "### Merge the geography back onto our 2nd District winners table"
   ]
  },
  {
   "cell_type": "code",
   "execution_count": null,
   "metadata": {},
   "outputs": [],
   "source": [
    "totals_by_LA_zips = zips.merge(sum_by_zip_winner, on='zipcode')"
   ]
  },
  {
   "cell_type": "code",
   "execution_count": null,
   "metadata": {},
   "outputs": [],
   "source": [
    "totals_by_LA_zips_slim = totals_by_LA_zips[['zipcode','geometry','herb_wesson','holly_mitchell', 'total','winner_dist_two','winner_total']]"
   ]
  },
  {
   "cell_type": "markdown",
   "metadata": {},
   "source": [
    "### Export geojson for web app and Turf"
   ]
  },
  {
   "cell_type": "code",
   "execution_count": null,
   "metadata": {},
   "outputs": [],
   "source": [
    "totals_by_LA_zips_slim.to_file('output/second-district-zips-update.geojson', driver='GeoJSON')\n",
    "totals_by_LA_zips_slim.to_file('/Users/mhustiles/data/github/bigbuilder/bigbuilder/pages/county-supervisor-2nd-district-campaign-donations/static/second-district-zips-update.geojson', driver='GeoJSON')"
   ]
  },
  {
   "cell_type": "markdown",
   "metadata": {},
   "source": [
    "### Generate winners by zips to MBTiles for Mapbox"
   ]
  },
  {
   "cell_type": "code",
   "execution_count": null,
   "metadata": {},
   "outputs": [],
   "source": [
    "!tippecanoe --generate-ids --force -r1 -pk -pf -o \\\n",
    "output/second-district-zips-update.mbtiles \\\n",
    "output/second-district-zips-update.geojson"
   ]
  },
  {
   "cell_type": "markdown",
   "metadata": {},
   "source": [
    "---"
   ]
  },
  {
   "cell_type": "markdown",
   "metadata": {},
   "source": [
    "### Wesson donations"
   ]
  },
  {
   "cell_type": "code",
   "execution_count": null,
   "metadata": {},
   "outputs": [],
   "source": [
    "wesson = districttwo[districttwo['candidate_name'] == 'Herb Wesson']"
   ]
  },
  {
   "cell_type": "code",
   "execution_count": null,
   "metadata": {},
   "outputs": [],
   "source": [
    "wessonoutside = wesson[wesson['type'] == 'Other']"
   ]
  },
  {
   "cell_type": "code",
   "execution_count": null,
   "metadata": {
    "scrolled": true
   },
   "outputs": [],
   "source": [
    "wessonlarge = wesson[wesson['amount_rcvd'] == 1500]\n",
    "len(wessonlarge)"
   ]
  },
  {
   "cell_type": "markdown",
   "metadata": {},
   "source": [
    "### Mitchell donations"
   ]
  },
  {
   "cell_type": "code",
   "execution_count": null,
   "metadata": {},
   "outputs": [],
   "source": [
    "mitchell = districttwo[districttwo['candidate_name'] == 'Holly Mitchell']"
   ]
  },
  {
   "cell_type": "code",
   "execution_count": null,
   "metadata": {},
   "outputs": [],
   "source": [
    "mitchelloutside = mitchell[mitchell['type'] == 'Other']"
   ]
  },
  {
   "cell_type": "code",
   "execution_count": null,
   "metadata": {},
   "outputs": [],
   "source": [
    "mitchelllarge = mitchell[mitchell['amount_rcvd'] == 1500]\n",
    "len(mitchelllarge)"
   ]
  }
 ],
 "metadata": {
  "kernelspec": {
   "display_name": "Python 3",
   "language": "python",
   "name": "python3"
  },
  "language_info": {
   "codemirror_mode": {
    "name": "ipython",
    "version": 3
   },
   "file_extension": ".py",
   "mimetype": "text/x-python",
   "name": "python",
   "nbconvert_exporter": "python",
   "pygments_lexer": "ipython3",
   "version": "3.7.4"
  }
 },
 "nbformat": 4,
 "nbformat_minor": 4
}
