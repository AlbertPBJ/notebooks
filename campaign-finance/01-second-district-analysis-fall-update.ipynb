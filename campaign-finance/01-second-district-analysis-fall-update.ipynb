{
 "cells": [
  {
   "cell_type": "markdown",
   "metadata": {},
   "source": [
    "# Donations to L.A. County 2nd District Supervisorial Candidates"
   ]
  },
  {
   "cell_type": "markdown",
   "metadata": {},
   "source": [
    "By [Matt Stiles](https://www.latimes.com/people/matt-stiles) / Los Angeles Times\n",
    "\n",
    "Questions? matt.stiles@latimes.com"
   ]
  },
  {
   "cell_type": "markdown",
   "metadata": {},
   "source": [
    "### Load Python libraries"
   ]
  },
  {
   "cell_type": "code",
   "execution_count": 1,
   "metadata": {},
   "outputs": [
    {
     "data": {
      "text/plain": [
       "RendererRegistry.enable('default')"
      ]
     },
     "execution_count": 1,
     "metadata": {},
     "output_type": "execute_result"
    }
   ],
   "source": [
    "import pandas as pd\n",
    "import geopandas as gpd\n",
    "from urllib.request import urlopen \n",
    "import pyarrow\n",
    "import jenkspy\n",
    "import matplotlib.pyplot as plt\n",
    "%matplotlib inline\n",
    "import json\n",
    "import numpy as np\n",
    "from altair import datum\n",
    "import altair as alt\n",
    "import altair_latimes as lat\n",
    "alt.themes.register('latimes', lat.theme)\n",
    "alt.themes.enable('latimes')\n",
    "alt.renderers.set_embed_options(actions=False)"
   ]
  },
  {
   "cell_type": "markdown",
   "metadata": {},
   "source": [
    "### Load all donations candidates since 2007, downloaded [here](https://efs.lacounty.gov/public_search_results.cfm?viewtype=xl&requesttimeout=1000&showall=yes&rept_type=ALLCon&CITY=la&LNM_CRIT=&FNM_CRIT=&CNM_CRIT=&ST_CRIT=&ZIP_CRIT=&ENM_CRIT=&OCC_CRIT=&S_USER=&S_OFFICE=&CID_CRIT=&CMT_CRIT=&D_BDATE=&D_EDATE=&S_BAMT=&S_EAMT=&ELECTION_ID=29&SCHEDULE=A%2CB%2CC&SUBMITBTN=Search%20Now%20%3D%3D%3E&TO_ELEC_DATE=&FROM_RPT_DATE=&TO_RPT_DATE=), and clean headers"
   ]
  },
  {
   "cell_type": "code",
   "execution_count": 2,
   "metadata": {},
   "outputs": [],
   "source": [
    "src = pd.read_csv('input/donations_20201026.csv',\\\n",
    "                  dtype={'contributor_zip_code': 'str'}, low_memory=False)"
   ]
  },
  {
   "cell_type": "code",
   "execution_count": 3,
   "metadata": {},
   "outputs": [],
   "source": [
    "src.columns = src.columns.str.strip().str.lower().str.replace(' ', '_')\\\n",
    "                    .str.replace('(', '').str.replace(')', '').str.replace('-','_')"
   ]
  },
  {
   "cell_type": "code",
   "execution_count": 4,
   "metadata": {},
   "outputs": [
    {
     "data": {
      "text/plain": [
       "90117"
      ]
     },
     "execution_count": 4,
     "metadata": {},
     "output_type": "execute_result"
    }
   ],
   "source": [
    "len(src)"
   ]
  },
  {
   "cell_type": "markdown",
   "metadata": {},
   "source": [
    "### Create a clean dataframe from the original import"
   ]
  },
  {
   "cell_type": "code",
   "execution_count": 5,
   "metadata": {},
   "outputs": [],
   "source": [
    "contributions = pd.DataFrame(src)"
   ]
  },
  {
   "cell_type": "markdown",
   "metadata": {},
   "source": [
    "### Clean up null values the table and other quirks"
   ]
  },
  {
   "cell_type": "code",
   "execution_count": 6,
   "metadata": {},
   "outputs": [],
   "source": [
    "contributions.contributor_address_2 = contributions.contributor_address_2.fillna('')\n",
    "contributions.occupation = contributions.occupation.fillna('')\n",
    "contributions.employer = contributions.employer.fillna('')\n",
    "contributions.description = contributions.description.fillna('')\n",
    "contributions.contributor_first_name = contributions.contributor_first_name.fillna('')\n",
    "contributions.contributor_zip_code_ext = contributions.contributor_zip_code_ext.fillna('')"
   ]
  },
  {
   "cell_type": "code",
   "execution_count": 7,
   "metadata": {},
   "outputs": [],
   "source": [
    "contributions['amount_rcvd'] = contributions['amount_rcvd'].astype(int)\n",
    "contributions['monthyear'] = pd.to_datetime(contributions['date']).map(lambda dt: dt.replace(day=1))\n",
    "contributions['type'] = contributions['type'].str.replace(\"Small Contributor Committee\", \"Small Donor Committee\")\n",
    "contributions['first_name'] = contributions['first_name'].str.upper()\n",
    "contributions['last_name'] = contributions['last_name'].str.upper()\n",
    "contributions['committee_name'] = contributions['committee_name'].str.upper()\n",
    "contributions['contributor_zip_code'] = contributions['contributor_zip_code'].astype(str).str.zfill(5)\n",
    "contributions['contributor_zip_code'] = contributions['contributor_zip_code'].str.replace('.0','',regex=False)"
   ]
  },
  {
   "cell_type": "code",
   "execution_count": 8,
   "metadata": {},
   "outputs": [],
   "source": [
    "contributions['candidate_name'] =  contributions[\"first_name\"].str.title() + ' ' + contributions[\"last_name\"].str.title()\n",
    "contributions['candidate_name'] = contributions['candidate_name'].str.replace('Holly J. Mitchell', 'Holly Mitchell')\n",
    "contributions['first_name'] = contributions['first_name'].str.replace('HOLLY J.', 'HOLLY')"
   ]
  },
  {
   "cell_type": "markdown",
   "metadata": {},
   "source": [
    "### Change the zip code field so it merges with other tables later"
   ]
  },
  {
   "cell_type": "code",
   "execution_count": 9,
   "metadata": {},
   "outputs": [],
   "source": [
    "contributions.rename(columns={\"contributor_zip_code\": \"zipcode\"}, inplace=True)"
   ]
  },
  {
   "cell_type": "markdown",
   "metadata": {},
   "source": [
    "### What do the records look like?"
   ]
  },
  {
   "cell_type": "code",
   "execution_count": 10,
   "metadata": {},
   "outputs": [
    {
     "data": {
      "text/html": [
       "<div>\n",
       "<style scoped>\n",
       "    .dataframe tbody tr th:only-of-type {\n",
       "        vertical-align: middle;\n",
       "    }\n",
       "\n",
       "    .dataframe tbody tr th {\n",
       "        vertical-align: top;\n",
       "    }\n",
       "\n",
       "    .dataframe thead th {\n",
       "        text-align: right;\n",
       "    }\n",
       "</style>\n",
       "<table border=\"1\" class=\"dataframe\">\n",
       "  <thead>\n",
       "    <tr style=\"text-align: right;\">\n",
       "      <th></th>\n",
       "      <th>last_name</th>\n",
       "      <th>first_name</th>\n",
       "      <th>committee_id</th>\n",
       "      <th>committee_name</th>\n",
       "      <th>office_type</th>\n",
       "      <th>district_number</th>\n",
       "      <th>schedule</th>\n",
       "      <th>type</th>\n",
       "      <th>period_beg_date</th>\n",
       "      <th>period_end_date</th>\n",
       "      <th>...</th>\n",
       "      <th>int_city</th>\n",
       "      <th>int_state</th>\n",
       "      <th>int_zip_code</th>\n",
       "      <th>int_occupation</th>\n",
       "      <th>int_employer</th>\n",
       "      <th>doc_id</th>\n",
       "      <th>rec_id</th>\n",
       "      <th>x</th>\n",
       "      <th>monthyear</th>\n",
       "      <th>candidate_name</th>\n",
       "    </tr>\n",
       "  </thead>\n",
       "  <tbody>\n",
       "    <tr>\n",
       "      <th>0</th>\n",
       "      <td>COOLEY</td>\n",
       "      <td>STEVE</td>\n",
       "      <td>1235308</td>\n",
       "      <td>D.A. STEVE COOLEY OFFICEHOLDER ACCOUNT</td>\n",
       "      <td>DAT</td>\n",
       "      <td>NaN</td>\n",
       "      <td>A</td>\n",
       "      <td>O</td>\n",
       "      <td>00:00.0</td>\n",
       "      <td>00:00.0</td>\n",
       "      <td>...</td>\n",
       "      <td>NaN</td>\n",
       "      <td>NaN</td>\n",
       "      <td>NaN</td>\n",
       "      <td>NaN</td>\n",
       "      <td>NaN</td>\n",
       "      <td>NaN</td>\n",
       "      <td>31.0</td>\n",
       "      <td>2523.0</td>\n",
       "      <td>2020-10-01</td>\n",
       "      <td>Steve Cooley</td>\n",
       "    </tr>\n",
       "    <tr>\n",
       "      <th>67586</th>\n",
       "      <td>HAHN</td>\n",
       "      <td>JANICE</td>\n",
       "      <td>1376011</td>\n",
       "      <td>JANICE HAHN FOR SUPERVISOR 2016</td>\n",
       "      <td>BSU</td>\n",
       "      <td>C04</td>\n",
       "      <td>A</td>\n",
       "      <td>I</td>\n",
       "      <td>00:00.0</td>\n",
       "      <td>00:00.0</td>\n",
       "      <td>...</td>\n",
       "      <td>NaN</td>\n",
       "      <td>NaN</td>\n",
       "      <td>NaN</td>\n",
       "      <td>NaN</td>\n",
       "      <td>NaN</td>\n",
       "      <td>NaN</td>\n",
       "      <td>2327.0</td>\n",
       "      <td>156075.0</td>\n",
       "      <td>2020-10-01</td>\n",
       "      <td>Janice Hahn</td>\n",
       "    </tr>\n",
       "    <tr>\n",
       "      <th>60082</th>\n",
       "      <td>ENGLANDER</td>\n",
       "      <td>MITCHELL</td>\n",
       "      <td>1377028</td>\n",
       "      <td>MITCHELL ENGLANDER FOR SUPERVISOR 2016</td>\n",
       "      <td>CSU</td>\n",
       "      <td>C05</td>\n",
       "      <td>A</td>\n",
       "      <td>I</td>\n",
       "      <td>00:00.0</td>\n",
       "      <td>00:00.0</td>\n",
       "      <td>...</td>\n",
       "      <td>NaN</td>\n",
       "      <td>NaN</td>\n",
       "      <td>NaN</td>\n",
       "      <td>NaN</td>\n",
       "      <td>NaN</td>\n",
       "      <td>NaN</td>\n",
       "      <td>2212.0</td>\n",
       "      <td>147635.0</td>\n",
       "      <td>2020-10-01</td>\n",
       "      <td>Mitchell Englander</td>\n",
       "    </tr>\n",
       "    <tr>\n",
       "      <th>60081</th>\n",
       "      <td>ENGLANDER</td>\n",
       "      <td>MITCHELL</td>\n",
       "      <td>1377028</td>\n",
       "      <td>MITCHELL ENGLANDER FOR SUPERVISOR 2016</td>\n",
       "      <td>CSU</td>\n",
       "      <td>C05</td>\n",
       "      <td>A</td>\n",
       "      <td>I</td>\n",
       "      <td>00:00.0</td>\n",
       "      <td>00:00.0</td>\n",
       "      <td>...</td>\n",
       "      <td>NaN</td>\n",
       "      <td>NaN</td>\n",
       "      <td>NaN</td>\n",
       "      <td>NaN</td>\n",
       "      <td>NaN</td>\n",
       "      <td>NaN</td>\n",
       "      <td>2212.0</td>\n",
       "      <td>147631.0</td>\n",
       "      <td>2020-10-01</td>\n",
       "      <td>Mitchell Englander</td>\n",
       "    </tr>\n",
       "    <tr>\n",
       "      <th>60080</th>\n",
       "      <td>CARR</td>\n",
       "      <td>ELAN</td>\n",
       "      <td>1375984</td>\n",
       "      <td>CARR FOR SUPERVISOR 2016</td>\n",
       "      <td>CSU</td>\n",
       "      <td>NaN</td>\n",
       "      <td>A</td>\n",
       "      <td>I</td>\n",
       "      <td>00:00.0</td>\n",
       "      <td>00:00.0</td>\n",
       "      <td>...</td>\n",
       "      <td>NaN</td>\n",
       "      <td>NaN</td>\n",
       "      <td>NaN</td>\n",
       "      <td>NaN</td>\n",
       "      <td>NaN</td>\n",
       "      <td>NaN</td>\n",
       "      <td>2189.0</td>\n",
       "      <td>146063.0</td>\n",
       "      <td>2020-10-01</td>\n",
       "      <td>Elan Carr</td>\n",
       "    </tr>\n",
       "  </tbody>\n",
       "</table>\n",
       "<p>5 rows × 36 columns</p>\n",
       "</div>"
      ],
      "text/plain": [
       "       last_name first_name committee_id  \\\n",
       "0         COOLEY      STEVE      1235308   \n",
       "67586       HAHN     JANICE      1376011   \n",
       "60082  ENGLANDER   MITCHELL      1377028   \n",
       "60081  ENGLANDER   MITCHELL      1377028   \n",
       "60080       CARR       ELAN      1375984   \n",
       "\n",
       "                               committee_name office_type district_number  \\\n",
       "0      D.A. STEVE COOLEY OFFICEHOLDER ACCOUNT         DAT             NaN   \n",
       "67586         JANICE HAHN FOR SUPERVISOR 2016         BSU             C04   \n",
       "60082  MITCHELL ENGLANDER FOR SUPERVISOR 2016         CSU             C05   \n",
       "60081  MITCHELL ENGLANDER FOR SUPERVISOR 2016         CSU             C05   \n",
       "60080                CARR FOR SUPERVISOR 2016         CSU             NaN   \n",
       "\n",
       "      schedule type period_beg_date period_end_date  ... int_city int_state  \\\n",
       "0            A    O         00:00.0         00:00.0  ...      NaN       NaN   \n",
       "67586        A    I         00:00.0         00:00.0  ...      NaN       NaN   \n",
       "60082        A    I         00:00.0         00:00.0  ...      NaN       NaN   \n",
       "60081        A    I         00:00.0         00:00.0  ...      NaN       NaN   \n",
       "60080        A    I         00:00.0         00:00.0  ...      NaN       NaN   \n",
       "\n",
       "       int_zip_code  int_occupation int_employer doc_id  rec_id         x  \\\n",
       "0               NaN             NaN          NaN    NaN    31.0    2523.0   \n",
       "67586           NaN             NaN          NaN    NaN  2327.0  156075.0   \n",
       "60082           NaN             NaN          NaN    NaN  2212.0  147635.0   \n",
       "60081           NaN             NaN          NaN    NaN  2212.0  147631.0   \n",
       "60080           NaN             NaN          NaN    NaN  2189.0  146063.0   \n",
       "\n",
       "       monthyear      candidate_name  \n",
       "0     2020-10-01        Steve Cooley  \n",
       "67586 2020-10-01         Janice Hahn  \n",
       "60082 2020-10-01  Mitchell Englander  \n",
       "60081 2020-10-01  Mitchell Englander  \n",
       "60080 2020-10-01           Elan Carr  \n",
       "\n",
       "[5 rows x 36 columns]"
      ]
     },
     "execution_count": 10,
     "metadata": {},
     "output_type": "execute_result"
    }
   ],
   "source": [
    "contributions.sort_values(by='date', ascending=False).head()"
   ]
  },
  {
   "cell_type": "code",
   "execution_count": 11,
   "metadata": {},
   "outputs": [
    {
     "data": {
      "text/plain": [
       "last_name                                                   COOLEY\n",
       "first_name                                                   STEVE\n",
       "committee_id                                               1235308\n",
       "committee_name              D.A. STEVE COOLEY OFFICEHOLDER ACCOUNT\n",
       "office_type                                                    DAT\n",
       "district_number                                                NaN\n",
       "schedule                                                         A\n",
       "type                                                             O\n",
       "period_beg_date                                            00:00.0\n",
       "period_end_date                                            00:00.0\n",
       "election_date                                                  NaN\n",
       "date                                                       00:00.0\n",
       "amount_rcvd                                                   1000\n",
       "amount_pd                                                        0\n",
       "description                                                       \n",
       "contributor_first_name                                            \n",
       "contributor_last_name                         General Electric Co.\n",
       "contributor_address                                            NaN\n",
       "contributor_address_2                                             \n",
       "contributor_city                                    Universal City\n",
       "contributor_state                                               CA\n",
       "zipcode                                                      91608\n",
       "contributor_zip_code_ext                                          \n",
       "occupation                                                        \n",
       "employer                                                          \n",
       "int_name                                                       NaN\n",
       "int_city                                                       NaN\n",
       "int_state                                                      NaN\n",
       "int_zip_code                                                   NaN\n",
       "int_occupation                                                 NaN\n",
       "int_employer                                                   NaN\n",
       "doc_id                                                         NaN\n",
       "rec_id                                                          31\n",
       "x                                                             2523\n",
       "monthyear                                      2020-10-01 00:00:00\n",
       "candidate_name                                        Steve Cooley\n",
       "Name: 0, dtype: object"
      ]
     },
     "execution_count": 11,
     "metadata": {},
     "output_type": "execute_result"
    }
   ],
   "source": [
    "contributions.iloc[0]"
   ]
  },
  {
   "cell_type": "markdown",
   "metadata": {},
   "source": [
    "### Sluggify candidate names"
   ]
  },
  {
   "cell_type": "code",
   "execution_count": 12,
   "metadata": {},
   "outputs": [],
   "source": [
    "contributions['candidate_slug'] =  \\\n",
    "    contributions[\"first_name\"].str.lower() + '_' + contributions[\"last_name\"].str.lower()\n",
    "contributions['candidate_slug']\\\n",
    "= contributions['candidate_slug'].\\\n",
    "str.strip().str.lower().str.replace(\\\n",
    "                    ' ', '_').str.replace('(', '').str.replace(')', '')\\\n",
    ".str.replace('.', '').str.replace('\\'', '')"
   ]
  },
  {
   "cell_type": "markdown",
   "metadata": {},
   "source": [
    "### Process the dates now to make life easier througout"
   ]
  },
  {
   "cell_type": "code",
   "execution_count": 13,
   "metadata": {},
   "outputs": [],
   "source": [
    "contributions['date'] = pd.to_datetime(contributions['date'])\n",
    "contributions['year'], contributions['month'] = contributions['date'].dt.year, contributions['date'].dt.month\n",
    "contributions['year'] = contributions['year'].astype(str)\n",
    "contributions['month'] = contributions['month'].astype(str)\n",
    "contributions['months'] = contributions['date'].dt.strftime('%m/%Y').astype(str)\n",
    "contributions['week'] = contributions['date'].dt.isocalendar().week\n",
    "contributions['week'] = contributions['week'].astype(str)"
   ]
  },
  {
   "cell_type": "markdown",
   "metadata": {},
   "source": [
    "### Chan Jeong and Jake Jeong are the same person. Standardize the names for better aggregates. "
   ]
  },
  {
   "cell_type": "code",
   "execution_count": 14,
   "metadata": {},
   "outputs": [],
   "source": [
    "contributions.loc[(contributions.candidate_name == 'Chan Jeong'),'candidate_name']='Jake Jeong'"
   ]
  },
  {
   "cell_type": "markdown",
   "metadata": {},
   "source": [
    "### Filter data for recent contributions and money in the District 2 race"
   ]
  },
  {
   "cell_type": "code",
   "execution_count": 15,
   "metadata": {},
   "outputs": [],
   "source": [
    "recent_contributions = contributions[(contributions['date'] > '2018-06-30')]"
   ]
  },
  {
   "cell_type": "markdown",
   "metadata": {},
   "source": [
    "### Define the 2nd District candidates"
   ]
  },
  {
   "cell_type": "code",
   "execution_count": 16,
   "metadata": {},
   "outputs": [],
   "source": [
    "second_district_candidates = (['Holly Mitchell','Herb Wesson'])"
   ]
  },
  {
   "cell_type": "markdown",
   "metadata": {},
   "source": [
    "### Make a dataframe with only 2nd District donations"
   ]
  },
  {
   "cell_type": "code",
   "execution_count": 17,
   "metadata": {},
   "outputs": [],
   "source": [
    "districttwo = pd.DataFrame(recent_contributions[recent_contributions['candidate_name']\\\n",
    "                                                .isin(second_district_candidates)])"
   ]
  },
  {
   "cell_type": "markdown",
   "metadata": {},
   "source": [
    "### How many donations are we talking about? "
   ]
  },
  {
   "cell_type": "code",
   "execution_count": 18,
   "metadata": {},
   "outputs": [
    {
     "data": {
      "text/plain": [
       "5988"
      ]
     },
     "execution_count": 18,
     "metadata": {},
     "output_type": "execute_result"
    }
   ],
   "source": [
    "len(districttwo)"
   ]
  },
  {
   "cell_type": "code",
   "execution_count": 19,
   "metadata": {},
   "outputs": [
    {
     "data": {
      "text/plain": [
       "Holly Mitchell    3402\n",
       "Herb Wesson       2586\n",
       "Name: candidate_name, dtype: int64"
      ]
     },
     "execution_count": 19,
     "metadata": {},
     "output_type": "execute_result"
    }
   ],
   "source": [
    "districttwo.candidate_name.value_counts()"
   ]
  },
  {
   "cell_type": "markdown",
   "metadata": {},
   "source": [
    "### How much did the candidates raise individually? "
   ]
  },
  {
   "cell_type": "code",
   "execution_count": 20,
   "metadata": {},
   "outputs": [],
   "source": [
    "second_district_totals = districttwo.groupby(['candidate_name'])['amount_rcvd']\\\n",
    "    .sum().reset_index().sort_values(by='amount_rcvd', ascending=False)"
   ]
  },
  {
   "cell_type": "code",
   "execution_count": 21,
   "metadata": {},
   "outputs": [
    {
     "data": {
      "text/html": [
       "<div>\n",
       "<style scoped>\n",
       "    .dataframe tbody tr th:only-of-type {\n",
       "        vertical-align: middle;\n",
       "    }\n",
       "\n",
       "    .dataframe tbody tr th {\n",
       "        vertical-align: top;\n",
       "    }\n",
       "\n",
       "    .dataframe thead th {\n",
       "        text-align: right;\n",
       "    }\n",
       "</style>\n",
       "<table border=\"1\" class=\"dataframe\">\n",
       "  <thead>\n",
       "    <tr style=\"text-align: right;\">\n",
       "      <th></th>\n",
       "      <th>candidate_name</th>\n",
       "      <th>amount_rcvd</th>\n",
       "    </tr>\n",
       "  </thead>\n",
       "  <tbody>\n",
       "    <tr>\n",
       "      <th>0</th>\n",
       "      <td>Herb Wesson</td>\n",
       "      <td>2563607</td>\n",
       "    </tr>\n",
       "    <tr>\n",
       "      <th>1</th>\n",
       "      <td>Holly Mitchell</td>\n",
       "      <td>1635217</td>\n",
       "    </tr>\n",
       "  </tbody>\n",
       "</table>\n",
       "</div>"
      ],
      "text/plain": [
       "   candidate_name  amount_rcvd\n",
       "0     Herb Wesson      2563607\n",
       "1  Holly Mitchell      1635217"
      ]
     },
     "execution_count": 21,
     "metadata": {},
     "output_type": "execute_result"
    }
   ],
   "source": [
    "second_district_totals"
   ]
  },
  {
   "cell_type": "code",
   "execution_count": 22,
   "metadata": {},
   "outputs": [],
   "source": [
    "sum_all_donations = second_district_totals['amount_rcvd'].sum()"
   ]
  },
  {
   "cell_type": "markdown",
   "metadata": {},
   "source": [
    "### And how much has been raised by the candidates in total?"
   ]
  },
  {
   "cell_type": "code",
   "execution_count": 23,
   "metadata": {},
   "outputs": [
    {
     "data": {
      "text/plain": [
       "4198824"
      ]
     },
     "execution_count": 23,
     "metadata": {},
     "output_type": "execute_result"
    }
   ],
   "source": [
    "second_district_totals['amount_rcvd'].sum()"
   ]
  },
  {
   "cell_type": "code",
   "execution_count": 24,
   "metadata": {},
   "outputs": [
    {
     "data": {
      "text/html": [
       "<div>\n",
       "<style scoped>\n",
       "    .dataframe tbody tr th:only-of-type {\n",
       "        vertical-align: middle;\n",
       "    }\n",
       "\n",
       "    .dataframe tbody tr th {\n",
       "        vertical-align: top;\n",
       "    }\n",
       "\n",
       "    .dataframe thead th {\n",
       "        text-align: right;\n",
       "    }\n",
       "</style>\n",
       "<table border=\"1\" class=\"dataframe\">\n",
       "  <thead>\n",
       "    <tr style=\"text-align: right;\">\n",
       "      <th></th>\n",
       "      <th>candidate_name</th>\n",
       "      <th>amount_rcvd</th>\n",
       "    </tr>\n",
       "  </thead>\n",
       "  <tbody>\n",
       "    <tr>\n",
       "      <th>1</th>\n",
       "      <td>Holly Mitchell</td>\n",
       "      <td>1635217</td>\n",
       "    </tr>\n",
       "    <tr>\n",
       "      <th>0</th>\n",
       "      <td>Herb Wesson</td>\n",
       "      <td>2563607</td>\n",
       "    </tr>\n",
       "  </tbody>\n",
       "</table>\n",
       "</div>"
      ],
      "text/plain": [
       "   candidate_name  amount_rcvd\n",
       "1  Holly Mitchell      1635217\n",
       "0     Herb Wesson      2563607"
      ]
     },
     "execution_count": 24,
     "metadata": {},
     "output_type": "execute_result"
    }
   ],
   "source": [
    "second_district_sum = districttwo.groupby(['candidate_name'])['amount_rcvd']\\\n",
    "    .sum().reset_index().sort_values(by='candidate_name', ascending=False)\n",
    "second_district_sum.head(10)"
   ]
  },
  {
   "cell_type": "code",
   "execution_count": 25,
   "metadata": {},
   "outputs": [],
   "source": [
    "second_district_avg = districttwo.groupby(['candidate_name'])['amount_rcvd']\\\n",
    "    .mean().reset_index().sort_values(by='candidate_name', ascending=False)"
   ]
  },
  {
   "cell_type": "markdown",
   "metadata": {},
   "source": [
    "### What is each candidate's average donation size? "
   ]
  },
  {
   "cell_type": "code",
   "execution_count": 26,
   "metadata": {},
   "outputs": [
    {
     "data": {
      "text/html": [
       "<div>\n",
       "<style scoped>\n",
       "    .dataframe tbody tr th:only-of-type {\n",
       "        vertical-align: middle;\n",
       "    }\n",
       "\n",
       "    .dataframe tbody tr th {\n",
       "        vertical-align: top;\n",
       "    }\n",
       "\n",
       "    .dataframe thead th {\n",
       "        text-align: right;\n",
       "    }\n",
       "</style>\n",
       "<table border=\"1\" class=\"dataframe\">\n",
       "  <thead>\n",
       "    <tr style=\"text-align: right;\">\n",
       "      <th></th>\n",
       "      <th>candidate_name</th>\n",
       "      <th>amount_rcvd</th>\n",
       "    </tr>\n",
       "  </thead>\n",
       "  <tbody>\n",
       "    <tr>\n",
       "      <th>1</th>\n",
       "      <td>Holly Mitchell</td>\n",
       "      <td>480.66</td>\n",
       "    </tr>\n",
       "    <tr>\n",
       "      <th>0</th>\n",
       "      <td>Herb Wesson</td>\n",
       "      <td>991.34</td>\n",
       "    </tr>\n",
       "  </tbody>\n",
       "</table>\n",
       "</div>"
      ],
      "text/plain": [
       "   candidate_name  amount_rcvd\n",
       "1  Holly Mitchell       480.66\n",
       "0     Herb Wesson       991.34"
      ]
     },
     "execution_count": 26,
     "metadata": {},
     "output_type": "execute_result"
    }
   ],
   "source": [
    "second_district_avg.round(2)"
   ]
  },
  {
   "cell_type": "code",
   "execution_count": 27,
   "metadata": {},
   "outputs": [],
   "source": [
    "districttwo.to_csv('output/district_two.csv')"
   ]
  },
  {
   "cell_type": "markdown",
   "metadata": {},
   "source": [
    "### How many individual donations did each candidate receive? "
   ]
  },
  {
   "cell_type": "code",
   "execution_count": 28,
   "metadata": {},
   "outputs": [],
   "source": [
    "# Crudely remap donation 'type' codes to be more descriptive\n",
    "abbr_indiv_else = {'C' : 'Other', 'I' : 'Individual', 'O' : 'Other', 'S' : 'Other'}\n",
    "districttwo = districttwo.replace({\"type\": abbr_indiv_else})"
   ]
  },
  {
   "cell_type": "code",
   "execution_count": 29,
   "metadata": {},
   "outputs": [],
   "source": [
    "second_district_indiv = pd.pivot_table(districttwo, values='amount_rcvd', \\\n",
    "                    index=['candidate_name'], columns=['type'], aggfunc=[np.size], fill_value='0').reset_index()"
   ]
  },
  {
   "cell_type": "code",
   "execution_count": 30,
   "metadata": {},
   "outputs": [],
   "source": [
    "second_district_indiv = pd.DataFrame(second_district_indiv.to_records())"
   ]
  },
  {
   "cell_type": "code",
   "execution_count": 31,
   "metadata": {},
   "outputs": [],
   "source": [
    "second_district_indiv.columns = second_district_indiv.columns.str.strip().str.lower().str.replace(',_', '')\\\n",
    "                    .str.replace('(', '').str.replace(')', '').str.replace(\"'\", '')\\\n",
    "                    .str.replace('size, ','').str.replace(',', '')"
   ]
  },
  {
   "cell_type": "code",
   "execution_count": 32,
   "metadata": {},
   "outputs": [],
   "source": [
    "second_district_indiv = pd.DataFrame(second_district_indiv)"
   ]
  },
  {
   "cell_type": "markdown",
   "metadata": {},
   "source": [
    "### Which share of each candidates donations came from individuals?"
   ]
  },
  {
   "cell_type": "code",
   "execution_count": 33,
   "metadata": {},
   "outputs": [
    {
     "data": {
      "text/html": [
       "<div>\n",
       "<style scoped>\n",
       "    .dataframe tbody tr th:only-of-type {\n",
       "        vertical-align: middle;\n",
       "    }\n",
       "\n",
       "    .dataframe tbody tr th {\n",
       "        vertical-align: top;\n",
       "    }\n",
       "\n",
       "    .dataframe thead th {\n",
       "        text-align: right;\n",
       "    }\n",
       "</style>\n",
       "<table border=\"1\" class=\"dataframe\">\n",
       "  <thead>\n",
       "    <tr style=\"text-align: right;\">\n",
       "      <th></th>\n",
       "      <th>index</th>\n",
       "      <th>candidate_name</th>\n",
       "      <th>individual</th>\n",
       "      <th>other</th>\n",
       "    </tr>\n",
       "  </thead>\n",
       "  <tbody>\n",
       "    <tr>\n",
       "      <th>0</th>\n",
       "      <td>0</td>\n",
       "      <td>Herb Wesson</td>\n",
       "      <td>1821</td>\n",
       "      <td>765</td>\n",
       "    </tr>\n",
       "    <tr>\n",
       "      <th>1</th>\n",
       "      <td>1</td>\n",
       "      <td>Holly Mitchell</td>\n",
       "      <td>2870</td>\n",
       "      <td>532</td>\n",
       "    </tr>\n",
       "  </tbody>\n",
       "</table>\n",
       "</div>"
      ],
      "text/plain": [
       "   index candidate_name   individual  other\n",
       "0      0     Herb Wesson        1821    765\n",
       "1      1  Holly Mitchell        2870    532"
      ]
     },
     "execution_count": 33,
     "metadata": {},
     "output_type": "execute_result"
    }
   ],
   "source": [
    "second_district_indiv.head()"
   ]
  },
  {
   "cell_type": "code",
   "execution_count": 34,
   "metadata": {},
   "outputs": [],
   "source": [
    "second_district_indiv['share_indy'] = \\\n",
    "    ((second_district_indiv['individual'] /\\\n",
    "      (second_district_indiv['individual'] + second_district_indiv['other']))*100).round()"
   ]
  },
  {
   "cell_type": "code",
   "execution_count": 35,
   "metadata": {},
   "outputs": [],
   "source": [
    "second_district_indiv['share_other'] = \\\n",
    "    ((second_district_indiv['other'] /\\\n",
    "      (second_district_indiv['individual'] + second_district_indiv['other']))*100).round()"
   ]
  },
  {
   "cell_type": "code",
   "execution_count": 36,
   "metadata": {},
   "outputs": [
    {
     "data": {
      "text/html": [
       "<div>\n",
       "<style scoped>\n",
       "    .dataframe tbody tr th:only-of-type {\n",
       "        vertical-align: middle;\n",
       "    }\n",
       "\n",
       "    .dataframe tbody tr th {\n",
       "        vertical-align: top;\n",
       "    }\n",
       "\n",
       "    .dataframe thead th {\n",
       "        text-align: right;\n",
       "    }\n",
       "</style>\n",
       "<table border=\"1\" class=\"dataframe\">\n",
       "  <thead>\n",
       "    <tr style=\"text-align: right;\">\n",
       "      <th></th>\n",
       "      <th>index</th>\n",
       "      <th>candidate_name</th>\n",
       "      <th>individual</th>\n",
       "      <th>other</th>\n",
       "      <th>share_indy</th>\n",
       "      <th>share_other</th>\n",
       "    </tr>\n",
       "  </thead>\n",
       "  <tbody>\n",
       "    <tr>\n",
       "      <th>0</th>\n",
       "      <td>0</td>\n",
       "      <td>Herb Wesson</td>\n",
       "      <td>1821</td>\n",
       "      <td>765</td>\n",
       "      <td>70.0</td>\n",
       "      <td>30.0</td>\n",
       "    </tr>\n",
       "    <tr>\n",
       "      <th>1</th>\n",
       "      <td>1</td>\n",
       "      <td>Holly Mitchell</td>\n",
       "      <td>2870</td>\n",
       "      <td>532</td>\n",
       "      <td>84.0</td>\n",
       "      <td>16.0</td>\n",
       "    </tr>\n",
       "  </tbody>\n",
       "</table>\n",
       "</div>"
      ],
      "text/plain": [
       "   index candidate_name   individual  other  share_indy  share_other\n",
       "0      0     Herb Wesson        1821    765        70.0         30.0\n",
       "1      1  Holly Mitchell        2870    532        84.0         16.0"
      ]
     },
     "execution_count": 36,
     "metadata": {},
     "output_type": "execute_result"
    }
   ],
   "source": [
    "second_district_indiv.head()"
   ]
  },
  {
   "cell_type": "markdown",
   "metadata": {},
   "source": [
    "### Normalized bar chart for the share of individual donations"
   ]
  },
  {
   "cell_type": "code",
   "execution_count": 37,
   "metadata": {},
   "outputs": [],
   "source": [
    "ind_other_totals = districttwo.groupby(['type', 'candidate_name']).agg({'amount_rcvd':'sum'}).reset_index()"
   ]
  },
  {
   "cell_type": "code",
   "execution_count": 38,
   "metadata": {},
   "outputs": [
    {
     "data": {
      "text/html": [
       "<div>\n",
       "<style scoped>\n",
       "    .dataframe tbody tr th:only-of-type {\n",
       "        vertical-align: middle;\n",
       "    }\n",
       "\n",
       "    .dataframe tbody tr th {\n",
       "        vertical-align: top;\n",
       "    }\n",
       "\n",
       "    .dataframe thead th {\n",
       "        text-align: right;\n",
       "    }\n",
       "</style>\n",
       "<table border=\"1\" class=\"dataframe\">\n",
       "  <thead>\n",
       "    <tr style=\"text-align: right;\">\n",
       "      <th></th>\n",
       "      <th>type</th>\n",
       "      <th>candidate_name</th>\n",
       "      <th>amount_rcvd</th>\n",
       "    </tr>\n",
       "  </thead>\n",
       "  <tbody>\n",
       "    <tr>\n",
       "      <th>0</th>\n",
       "      <td>Individual</td>\n",
       "      <td>Herb Wesson</td>\n",
       "      <td>1693879</td>\n",
       "    </tr>\n",
       "    <tr>\n",
       "      <th>1</th>\n",
       "      <td>Individual</td>\n",
       "      <td>Holly Mitchell</td>\n",
       "      <td>1071413</td>\n",
       "    </tr>\n",
       "    <tr>\n",
       "      <th>2</th>\n",
       "      <td>Other</td>\n",
       "      <td>Herb Wesson</td>\n",
       "      <td>869728</td>\n",
       "    </tr>\n",
       "    <tr>\n",
       "      <th>3</th>\n",
       "      <td>Other</td>\n",
       "      <td>Holly Mitchell</td>\n",
       "      <td>563804</td>\n",
       "    </tr>\n",
       "  </tbody>\n",
       "</table>\n",
       "</div>"
      ],
      "text/plain": [
       "         type  candidate_name  amount_rcvd\n",
       "0  Individual     Herb Wesson      1693879\n",
       "1  Individual  Holly Mitchell      1071413\n",
       "2       Other     Herb Wesson       869728\n",
       "3       Other  Holly Mitchell       563804"
      ]
     },
     "execution_count": 38,
     "metadata": {},
     "output_type": "execute_result"
    }
   ],
   "source": [
    "ind_other_totals"
   ]
  },
  {
   "cell_type": "code",
   "execution_count": 39,
   "metadata": {},
   "outputs": [
    {
     "data": {
      "text/html": [
       "\n",
       "<div id=\"altair-viz-dd87f9bf706a4d8095d7d844ad61b77b\"></div>\n",
       "<script type=\"text/javascript\">\n",
       "  (function(spec, embedOpt){\n",
       "    let outputDiv = document.currentScript.previousElementSibling;\n",
       "    if (outputDiv.id !== \"altair-viz-dd87f9bf706a4d8095d7d844ad61b77b\") {\n",
       "      outputDiv = document.getElementById(\"altair-viz-dd87f9bf706a4d8095d7d844ad61b77b\");\n",
       "    }\n",
       "    const paths = {\n",
       "      \"vega\": \"https://cdn.jsdelivr.net/npm//vega@5?noext\",\n",
       "      \"vega-lib\": \"https://cdn.jsdelivr.net/npm//vega-lib?noext\",\n",
       "      \"vega-lite\": \"https://cdn.jsdelivr.net/npm//vega-lite@4.8.1?noext\",\n",
       "      \"vega-embed\": \"https://cdn.jsdelivr.net/npm//vega-embed@6?noext\",\n",
       "    };\n",
       "\n",
       "    function loadScript(lib) {\n",
       "      return new Promise(function(resolve, reject) {\n",
       "        var s = document.createElement('script');\n",
       "        s.src = paths[lib];\n",
       "        s.async = true;\n",
       "        s.onload = () => resolve(paths[lib]);\n",
       "        s.onerror = () => reject(`Error loading script: ${paths[lib]}`);\n",
       "        document.getElementsByTagName(\"head\")[0].appendChild(s);\n",
       "      });\n",
       "    }\n",
       "\n",
       "    function showError(err) {\n",
       "      outputDiv.innerHTML = `<div class=\"error\" style=\"color:red;\">${err}</div>`;\n",
       "      throw err;\n",
       "    }\n",
       "\n",
       "    function displayChart(vegaEmbed) {\n",
       "      vegaEmbed(outputDiv, spec, embedOpt)\n",
       "        .catch(err => showError(`Javascript Error: ${err.message}<br>This usually means there's a typo in your chart specification. See the javascript console for the full traceback.`));\n",
       "    }\n",
       "\n",
       "    if(typeof define === \"function\" && define.amd) {\n",
       "      requirejs.config({paths});\n",
       "      require([\"vega-embed\"], displayChart, err => showError(`Error loading script: ${err.message}`));\n",
       "    } else if (typeof vegaEmbed === \"function\") {\n",
       "      displayChart(vegaEmbed);\n",
       "    } else {\n",
       "      loadScript(\"vega\")\n",
       "        .then(() => loadScript(\"vega-lite\"))\n",
       "        .then(() => loadScript(\"vega-embed\"))\n",
       "        .catch(showError)\n",
       "        .then(() => displayChart(vegaEmbed));\n",
       "    }\n",
       "  })({\"config\": {\"view\": {\"width\": 800, \"height\": 450}, \"background\": \"#ffffff\", \"title\": {\"anchor\": \"start\", \"font\": \"Benton Gothic Bold, sans\", \"fontColor\": \"#000000\", \"fontSize\": 22, \"fontWeight\": \"normal\"}, \"arc\": {\"fill\": \"#82c6df\"}, \"area\": {\"fill\": \"#82c6df\"}, \"line\": {\"stroke\": \"#82c6df\", \"strokeWidth\": 3}, \"path\": {\"stroke\": \"#82c6df\"}, \"rect\": {\"fill\": \"#82c6df\"}, \"shape\": {\"stroke\": \"#82c6df\"}, \"bar\": {\"fill\": \"#82c6df\"}, \"point\": {\"stroke\": \"#82c6df\"}, \"symbol\": {\"fill\": \"#82c6df\", \"size\": 30}, \"axis\": {\"titleFont\": \"Benton Gothic Bold, sans\", \"titleFontSize\": 13, \"titleFontWeight\": \"normal\", \"labelFont\": \"Benton Gothic, sans\", \"labelFontSize\": 11.5, \"labelFontWeight\": \"normal\"}, \"axisX\": {\"labelAngle\": 0, \"labelPadding\": 4, \"tickSize\": 3}, \"axisY\": {\"labelBaseline\": \"middle\", \"maxExtent\": 45, \"minExtent\": 45, \"tickSize\": 2, \"titleAlign\": \"left\", \"titleAngle\": 0, \"titleX\": -45, \"titleY\": -11}, \"legend\": {\"titleFont\": \"Benton Gothic Bold, sans\", \"titleFontSize\": 13, \"titleFontWeight\": \"normal\", \"symbolType\": \"square\", \"labelFont\": \"Benton Gothic, sans\", \"labelFontSize\": 11.5}, \"range\": {\"category\": [\"#3580b1\", \"#ec8431\", \"#ab7fb4\", \"#c89d29\", \"#adc839\", \"#829eb1\"], \"diverging\": [\"#e68a4f\", \"#f4bb6a\", \"#f9e39c\", \"#dadfe2\", \"#a6b7c6\", \"#849eae\"], \"heatmap\": [\"#fbf2c7\", \"#f9e39c\", \"#f8d36e\", \"#f4bb6a\", \"#e68a4f\", \"#d15a40\", \"#ab4232\"], \"ordinal\": [\"#fbf2c7\", \"#f9e39c\", \"#f8d36e\", \"#f4bb6a\", \"#e68a4f\", \"#d15a40\", \"#ab4232\"], \"ramp\": [\"#fbf2c7\", \"#f9e39c\", \"#f8d36e\", \"#f4bb6a\", \"#e68a4f\", \"#d15a40\", \"#ab4232\"]}}, \"data\": {\"name\": \"data-53561d39a824f708030a1b00de180d4b\"}, \"mark\": \"bar\", \"encoding\": {\"color\": {\"type\": \"nominal\", \"field\": \"type\", \"legend\": {\"orient\": \"top\", \"title\": \"\"}}, \"order\": {\"type\": \"quantitative\", \"aggregate\": \"sum\", \"field\": \"amount_rcvd\", \"sort\": \"ascending\"}, \"x\": {\"type\": \"quantitative\", \"aggregate\": \"sum\", \"axis\": {\"format\": \"%\", \"tickCount\": 6}, \"field\": \"amount_rcvd\", \"stack\": \"normalize\", \"title\": \"Share of donations\"}, \"y\": {\"type\": \"nominal\", \"field\": \"candidate_name\", \"title\": \"\"}}, \"height\": 175, \"title\": \"Share of donations from individuals\", \"width\": 800, \"$schema\": \"https://vega.github.io/schema/vega-lite/v4.8.1.json\", \"datasets\": {\"data-53561d39a824f708030a1b00de180d4b\": [{\"type\": \"Individual\", \"candidate_name\": \"Herb Wesson\", \"amount_rcvd\": 1693879}, {\"type\": \"Individual\", \"candidate_name\": \"Holly Mitchell\", \"amount_rcvd\": 1071413}, {\"type\": \"Other\", \"candidate_name\": \"Herb Wesson\", \"amount_rcvd\": 869728}, {\"type\": \"Other\", \"candidate_name\": \"Holly Mitchell\", \"amount_rcvd\": 563804}]}}, {\"actions\": false, \"mode\": \"vega-lite\"});\n",
       "</script>"
      ],
      "text/plain": [
       "alt.Chart(...)"
      ]
     },
     "execution_count": 39,
     "metadata": {},
     "output_type": "execute_result"
    }
   ],
   "source": [
    "bars = alt.Chart(ind_other_totals, title='Share of donations from individuals').mark_bar().encode(\n",
    "    x=alt.X('sum(amount_rcvd)', stack=\"normalize\", title=\"Share of donations\",axis=alt.Axis(format='%', tickCount=6)),\n",
    "    y=alt.Y('candidate_name', title=\"\"),\n",
    "    color=alt.Color('type',legend=alt.Legend(title=\"\", orient='top')),\n",
    "    order=alt.Order('sum(amount_rcvd)', sort='ascending')\n",
    ")\n",
    "(bars).properties(height=175, width=800)"
   ]
  },
  {
   "cell_type": "markdown",
   "metadata": {},
   "source": [
    "## When exactly is each donation? "
   ]
  },
  {
   "cell_type": "markdown",
   "metadata": {},
   "source": [
    "### How much did each candidate raise — by month — in 2019? "
   ]
  },
  {
   "cell_type": "code",
   "execution_count": 40,
   "metadata": {},
   "outputs": [],
   "source": [
    "districttwo_time = districttwo.groupby(['monthyear','year','month', 'candidate_name'], as_index=False).\\\n",
    "            agg({'amount_rcvd': ['size', 'mean', 'sum']}, as_index=False)\n",
    "\n",
    "flat_columns = [''.join(t) for t in districttwo_time.columns]\n",
    "districttwo_time.columns = flat_columns\n",
    "districttwo_time['amount_rcvdmean'] = districttwo_time['amount_rcvdmean'].astype(int)\n",
    "districttwo_time['amount_rcvdmean'] = districttwo_time['amount_rcvdmean'].round()\n",
    "districttwo_time.head(10)\n",
    "districttwo_time['months'] = districttwo_time['monthyear'].dt.strftime('%b').astype(str)\n",
    "districttwo_time['week'] = districttwo_time['monthyear'].dt.isocalendar().week"
   ]
  },
  {
   "cell_type": "code",
   "execution_count": 41,
   "metadata": {},
   "outputs": [],
   "source": [
    "districttwo_time = districttwo_time[(districttwo_time.year == '2019')]"
   ]
  },
  {
   "cell_type": "code",
   "execution_count": 42,
   "metadata": {},
   "outputs": [
    {
     "data": {
      "text/html": [
       "<div>\n",
       "<style scoped>\n",
       "    .dataframe tbody tr th:only-of-type {\n",
       "        vertical-align: middle;\n",
       "    }\n",
       "\n",
       "    .dataframe tbody tr th {\n",
       "        vertical-align: top;\n",
       "    }\n",
       "\n",
       "    .dataframe thead th {\n",
       "        text-align: right;\n",
       "    }\n",
       "</style>\n",
       "<table border=\"1\" class=\"dataframe\">\n",
       "  <thead>\n",
       "    <tr style=\"text-align: right;\">\n",
       "      <th></th>\n",
       "      <th>candidate_name</th>\n",
       "      <th>months</th>\n",
       "      <th>amount_rcvdsum</th>\n",
       "    </tr>\n",
       "  </thead>\n",
       "  <tbody>\n",
       "  </tbody>\n",
       "</table>\n",
       "</div>"
      ],
      "text/plain": [
       "Empty DataFrame\n",
       "Columns: [candidate_name, months, amount_rcvdsum]\n",
       "Index: []"
      ]
     },
     "execution_count": 42,
     "metadata": {},
     "output_type": "execute_result"
    }
   ],
   "source": [
    "districttwo_time[(districttwo_time.candidate_name == 'Jake Jeong')][['candidate_name', 'months', 'amount_rcvdsum']]"
   ]
  },
  {
   "cell_type": "code",
   "execution_count": 43,
   "metadata": {},
   "outputs": [],
   "source": [
    "second_district_totals['amount_rcvd'] = second_district_totals['amount_rcvd']"
   ]
  },
  {
   "cell_type": "code",
   "execution_count": 44,
   "metadata": {},
   "outputs": [
    {
     "data": {
      "text/html": [
       "<div>\n",
       "<style scoped>\n",
       "    .dataframe tbody tr th:only-of-type {\n",
       "        vertical-align: middle;\n",
       "    }\n",
       "\n",
       "    .dataframe tbody tr th {\n",
       "        vertical-align: top;\n",
       "    }\n",
       "\n",
       "    .dataframe thead th {\n",
       "        text-align: right;\n",
       "    }\n",
       "</style>\n",
       "<table border=\"1\" class=\"dataframe\">\n",
       "  <thead>\n",
       "    <tr style=\"text-align: right;\">\n",
       "      <th></th>\n",
       "      <th>candidate_name</th>\n",
       "      <th>amount_rcvd</th>\n",
       "    </tr>\n",
       "  </thead>\n",
       "  <tbody>\n",
       "    <tr>\n",
       "      <th>0</th>\n",
       "      <td>Herb Wesson</td>\n",
       "      <td>2563607</td>\n",
       "    </tr>\n",
       "    <tr>\n",
       "      <th>1</th>\n",
       "      <td>Holly Mitchell</td>\n",
       "      <td>1635217</td>\n",
       "    </tr>\n",
       "  </tbody>\n",
       "</table>\n",
       "</div>"
      ],
      "text/plain": [
       "   candidate_name  amount_rcvd\n",
       "0     Herb Wesson      2563607\n",
       "1  Holly Mitchell      1635217"
      ]
     },
     "execution_count": 44,
     "metadata": {},
     "output_type": "execute_result"
    }
   ],
   "source": [
    "second_district_totals"
   ]
  },
  {
   "cell_type": "code",
   "execution_count": 45,
   "metadata": {},
   "outputs": [
    {
     "data": {
      "text/html": [
       "\n",
       "<div id=\"altair-viz-7379986bffb345c694f008f78f356bb8\"></div>\n",
       "<script type=\"text/javascript\">\n",
       "  (function(spec, embedOpt){\n",
       "    let outputDiv = document.currentScript.previousElementSibling;\n",
       "    if (outputDiv.id !== \"altair-viz-7379986bffb345c694f008f78f356bb8\") {\n",
       "      outputDiv = document.getElementById(\"altair-viz-7379986bffb345c694f008f78f356bb8\");\n",
       "    }\n",
       "    const paths = {\n",
       "      \"vega\": \"https://cdn.jsdelivr.net/npm//vega@5?noext\",\n",
       "      \"vega-lib\": \"https://cdn.jsdelivr.net/npm//vega-lib?noext\",\n",
       "      \"vega-lite\": \"https://cdn.jsdelivr.net/npm//vega-lite@4.8.1?noext\",\n",
       "      \"vega-embed\": \"https://cdn.jsdelivr.net/npm//vega-embed@6?noext\",\n",
       "    };\n",
       "\n",
       "    function loadScript(lib) {\n",
       "      return new Promise(function(resolve, reject) {\n",
       "        var s = document.createElement('script');\n",
       "        s.src = paths[lib];\n",
       "        s.async = true;\n",
       "        s.onload = () => resolve(paths[lib]);\n",
       "        s.onerror = () => reject(`Error loading script: ${paths[lib]}`);\n",
       "        document.getElementsByTagName(\"head\")[0].appendChild(s);\n",
       "      });\n",
       "    }\n",
       "\n",
       "    function showError(err) {\n",
       "      outputDiv.innerHTML = `<div class=\"error\" style=\"color:red;\">${err}</div>`;\n",
       "      throw err;\n",
       "    }\n",
       "\n",
       "    function displayChart(vegaEmbed) {\n",
       "      vegaEmbed(outputDiv, spec, embedOpt)\n",
       "        .catch(err => showError(`Javascript Error: ${err.message}<br>This usually means there's a typo in your chart specification. See the javascript console for the full traceback.`));\n",
       "    }\n",
       "\n",
       "    if(typeof define === \"function\" && define.amd) {\n",
       "      requirejs.config({paths});\n",
       "      require([\"vega-embed\"], displayChart, err => showError(`Error loading script: ${err.message}`));\n",
       "    } else if (typeof vegaEmbed === \"function\") {\n",
       "      displayChart(vegaEmbed);\n",
       "    } else {\n",
       "      loadScript(\"vega\")\n",
       "        .then(() => loadScript(\"vega-lite\"))\n",
       "        .then(() => loadScript(\"vega-embed\"))\n",
       "        .catch(showError)\n",
       "        .then(() => displayChart(vegaEmbed));\n",
       "    }\n",
       "  })({\"config\": {\"view\": {\"width\": 800, \"height\": 450}, \"background\": \"#ffffff\", \"title\": {\"anchor\": \"start\", \"font\": \"Benton Gothic Bold, sans\", \"fontColor\": \"#000000\", \"fontSize\": 22, \"fontWeight\": \"normal\"}, \"arc\": {\"fill\": \"#82c6df\"}, \"area\": {\"fill\": \"#82c6df\"}, \"line\": {\"stroke\": \"#82c6df\", \"strokeWidth\": 3}, \"path\": {\"stroke\": \"#82c6df\"}, \"rect\": {\"fill\": \"#82c6df\"}, \"shape\": {\"stroke\": \"#82c6df\"}, \"bar\": {\"fill\": \"#82c6df\"}, \"point\": {\"stroke\": \"#82c6df\"}, \"symbol\": {\"fill\": \"#82c6df\", \"size\": 30}, \"axis\": {\"titleFont\": \"Benton Gothic Bold, sans\", \"titleFontSize\": 13, \"titleFontWeight\": \"normal\", \"labelFont\": \"Benton Gothic, sans\", \"labelFontSize\": 11.5, \"labelFontWeight\": \"normal\"}, \"axisX\": {\"labelAngle\": 0, \"labelPadding\": 4, \"tickSize\": 3}, \"axisY\": {\"labelBaseline\": \"middle\", \"maxExtent\": 45, \"minExtent\": 45, \"tickSize\": 2, \"titleAlign\": \"left\", \"titleAngle\": 0, \"titleX\": -45, \"titleY\": -11}, \"legend\": {\"titleFont\": \"Benton Gothic Bold, sans\", \"titleFontSize\": 13, \"titleFontWeight\": \"normal\", \"symbolType\": \"square\", \"labelFont\": \"Benton Gothic, sans\", \"labelFontSize\": 11.5}, \"range\": {\"category\": [\"#3580b1\", \"#ec8431\", \"#ab7fb4\", \"#c89d29\", \"#adc839\", \"#829eb1\"], \"diverging\": [\"#e68a4f\", \"#f4bb6a\", \"#f9e39c\", \"#dadfe2\", \"#a6b7c6\", \"#849eae\"], \"heatmap\": [\"#fbf2c7\", \"#f9e39c\", \"#f8d36e\", \"#f4bb6a\", \"#e68a4f\", \"#d15a40\", \"#ab4232\"], \"ordinal\": [\"#fbf2c7\", \"#f9e39c\", \"#f8d36e\", \"#f4bb6a\", \"#e68a4f\", \"#d15a40\", \"#ab4232\"], \"ramp\": [\"#fbf2c7\", \"#f9e39c\", \"#f8d36e\", \"#f4bb6a\", \"#e68a4f\", \"#d15a40\", \"#ab4232\"]}}, \"data\": {\"name\": \"data-d751713988987e9331980363e24189ce\"}, \"facet\": {\"type\": \"nominal\", \"field\": \"candidate_name\"}, \"spec\": {\"mark\": \"bar\", \"encoding\": {\"x\": {\"type\": \"nominal\", \"field\": \"month\", \"timeUnit\": \"month\", \"title\": \"\"}, \"y\": {\"type\": \"quantitative\", \"field\": \"amount_rcvdsum\"}}, \"height\": 180, \"width\": 250}, \"columns\": 3, \"$schema\": \"https://vega.github.io/schema/vega-lite/v4.8.1.json\", \"datasets\": {\"data-d751713988987e9331980363e24189ce\": []}}, {\"actions\": false, \"mode\": \"vega-lite\"});\n",
       "</script>"
      ],
      "text/plain": [
       "alt.FacetChart(...)"
      ]
     },
     "execution_count": 45,
     "metadata": {},
     "output_type": "execute_result"
    }
   ],
   "source": [
    "alt.Chart(districttwo_time).mark_bar().encode(\n",
    "    y='amount_rcvdsum:Q',\n",
    "    x=alt.X('month:N', timeUnit='month', title='')\n",
    ").properties(\n",
    "    width=250,\n",
    "    height=180\n",
    ").facet(\n",
    "    facet='candidate_name:N',\n",
    "    columns=3\n",
    ")"
   ]
  },
  {
   "cell_type": "code",
   "execution_count": 46,
   "metadata": {},
   "outputs": [],
   "source": [
    "districttwo_time.to_csv('output/districttwo_time.csv')"
   ]
  },
  {
   "cell_type": "markdown",
   "metadata": {},
   "source": [
    "### How much did they raise by ZIP? "
   ]
  },
  {
   "cell_type": "code",
   "execution_count": 47,
   "metadata": {},
   "outputs": [],
   "source": [
    "zip_totals = districttwo.groupby(['zipcode'])['amount_rcvd']\\\n",
    "    .sum().reset_index().sort_values(by='amount_rcvd', ascending=False)"
   ]
  },
  {
   "cell_type": "code",
   "execution_count": 48,
   "metadata": {},
   "outputs": [
    {
     "data": {
      "text/html": [
       "<div>\n",
       "<style scoped>\n",
       "    .dataframe tbody tr th:only-of-type {\n",
       "        vertical-align: middle;\n",
       "    }\n",
       "\n",
       "    .dataframe tbody tr th {\n",
       "        vertical-align: top;\n",
       "    }\n",
       "\n",
       "    .dataframe thead th {\n",
       "        text-align: right;\n",
       "    }\n",
       "</style>\n",
       "<table border=\"1\" class=\"dataframe\">\n",
       "  <thead>\n",
       "    <tr style=\"text-align: right;\">\n",
       "      <th></th>\n",
       "      <th>zipcode</th>\n",
       "      <th>amount_rcvd</th>\n",
       "    </tr>\n",
       "  </thead>\n",
       "  <tbody>\n",
       "    <tr>\n",
       "      <th>775</th>\n",
       "      <td>95814</td>\n",
       "      <td>129450</td>\n",
       "    </tr>\n",
       "    <tr>\n",
       "      <th>219</th>\n",
       "      <td>90010</td>\n",
       "      <td>93300</td>\n",
       "    </tr>\n",
       "    <tr>\n",
       "      <th>258</th>\n",
       "      <td>90056</td>\n",
       "      <td>74040</td>\n",
       "    </tr>\n",
       "    <tr>\n",
       "      <th>256</th>\n",
       "      <td>90049</td>\n",
       "      <td>71149</td>\n",
       "    </tr>\n",
       "    <tr>\n",
       "      <th>218</th>\n",
       "      <td>90008</td>\n",
       "      <td>70176</td>\n",
       "    </tr>\n",
       "  </tbody>\n",
       "</table>\n",
       "</div>"
      ],
      "text/plain": [
       "    zipcode  amount_rcvd\n",
       "775   95814       129450\n",
       "219   90010        93300\n",
       "258   90056        74040\n",
       "256   90049        71149\n",
       "218   90008        70176"
      ]
     },
     "execution_count": 48,
     "metadata": {},
     "output_type": "execute_result"
    }
   ],
   "source": [
    "zip_totals.head()"
   ]
  },
  {
   "cell_type": "code",
   "execution_count": 49,
   "metadata": {},
   "outputs": [
    {
     "data": {
      "text/html": [
       "<div>\n",
       "<style scoped>\n",
       "    .dataframe tbody tr th:only-of-type {\n",
       "        vertical-align: middle;\n",
       "    }\n",
       "\n",
       "    .dataframe tbody tr th {\n",
       "        vertical-align: top;\n",
       "    }\n",
       "\n",
       "    .dataframe thead th {\n",
       "        text-align: right;\n",
       "    }\n",
       "</style>\n",
       "<table border=\"1\" class=\"dataframe\">\n",
       "  <thead>\n",
       "    <tr style=\"text-align: right;\">\n",
       "      <th></th>\n",
       "      <th>zipcode</th>\n",
       "      <th>amount_rcvd</th>\n",
       "    </tr>\n",
       "  </thead>\n",
       "  <tbody>\n",
       "  </tbody>\n",
       "</table>\n",
       "</div>"
      ],
      "text/plain": [
       "Empty DataFrame\n",
       "Columns: [zipcode, amount_rcvd]\n",
       "Index: []"
      ]
     },
     "execution_count": 49,
     "metadata": {},
     "output_type": "execute_result"
    }
   ],
   "source": [
    "zip_totals_candidate = districttwo[districttwo['candidate_name'] == 'Albert Robles'].groupby(['zipcode'])['amount_rcvd']\\\n",
    "    .sum().reset_index().sort_values(by='amount_rcvd', ascending=False)\n",
    "zip_totals_candidate.head()"
   ]
  },
  {
   "cell_type": "code",
   "execution_count": 50,
   "metadata": {},
   "outputs": [],
   "source": [
    "zip_totals.to_csv('output/zip_totals.csv')"
   ]
  },
  {
   "cell_type": "code",
   "execution_count": 51,
   "metadata": {},
   "outputs": [],
   "source": [
    "zip_totals_candidates = districttwo.groupby(['candidate_name', 'zipcode'])['amount_rcvd']\\\n",
    "    .sum().reset_index().sort_values(by='amount_rcvd', ascending=False)"
   ]
  },
  {
   "cell_type": "markdown",
   "metadata": {},
   "source": [
    "---"
   ]
  },
  {
   "cell_type": "markdown",
   "metadata": {},
   "source": [
    "## Geography"
   ]
  },
  {
   "cell_type": "markdown",
   "metadata": {},
   "source": [
    "### Load 2nd District boundary data"
   ]
  },
  {
   "cell_type": "code",
   "execution_count": 52,
   "metadata": {},
   "outputs": [],
   "source": [
    "#http://public.gis.lacounty.gov/public/rest/services/LACounty_Dynamic/Demographics/MapServer/3\n",
    "district = gpd.read_file('/Users/mhustiles/data/data/GIS/LA/second-district.geojson')"
   ]
  },
  {
   "cell_type": "markdown",
   "metadata": {},
   "source": [
    "### Read the zip codes boundaries"
   ]
  },
  {
   "cell_type": "code",
   "execution_count": 53,
   "metadata": {},
   "outputs": [],
   "source": [
    "#http://public.gis.lacounty.gov/public/rest/services/LACounty_Dynamic/Administrative_Boundaries/MapServer/5\n",
    "# zips_old = gpd.read_file('/Users/mhustiles/data/github/notebooks/\\\n",
    "# campaign-finance/input/la_county_gis_zip_codes/la_county_gis_zip_codes_1569271283260.geojson')\n",
    "zips = gpd.read_file('/Users/mhustiles/data/github/AGStoShapefile/\\\n",
    "backupdir/WealthiestZipCodes2017/WealthiestZipCodesCA.geojson')"
   ]
  },
  {
   "cell_type": "code",
   "execution_count": 54,
   "metadata": {},
   "outputs": [
    {
     "data": {
      "text/plain": [
       "<AxesSubplot:>"
      ]
     },
     "execution_count": 54,
     "metadata": {},
     "output_type": "execute_result"
    },
    {
     "data": {
      "image/png": "[encoded data removed]",
      "text/plain": [
       "<Figure size 432x288 with 1 Axes>"
      ]
     },
     "metadata": {
      "needs_background": "light"
     },
     "output_type": "display_data"
    }
   ],
   "source": [
    "zips.plot()"
   ]
  },
  {
   "cell_type": "markdown",
   "metadata": {},
   "source": [
    "### We only need L.A. County"
   ]
  },
  {
   "cell_type": "code",
   "execution_count": 55,
   "metadata": {},
   "outputs": [],
   "source": [
    "zips = gpd.GeoDataFrame(zips[zips['COUNTY_NAME'].str.contains('Los Angeles County')])"
   ]
  },
  {
   "cell_type": "code",
   "execution_count": 56,
   "metadata": {
    "scrolled": true
   },
   "outputs": [
    {
     "data": {
      "text/plain": [
       "<AxesSubplot:>"
      ]
     },
     "execution_count": 56,
     "metadata": {},
     "output_type": "execute_result"
    },
    {
     "data": {
      "image/png": "[encoded data removed]",
      "text/plain": [
       "<Figure size 432x288 with 1 Axes>"
      ]
     },
     "metadata": {
      "needs_background": "light"
     },
     "output_type": "display_data"
    }
   ],
   "source": [
    "zips.plot()"
   ]
  },
  {
   "cell_type": "code",
   "execution_count": 57,
   "metadata": {},
   "outputs": [],
   "source": [
    "zips.columns = zips.columns.str.strip().str.lower().str.replace(' ', '_')\\\n",
    "    .str.replace('(', '').str.replace(')', '')"
   ]
  },
  {
   "cell_type": "code",
   "execution_count": 58,
   "metadata": {},
   "outputs": [],
   "source": [
    "zips.rename(columns={\"id\": \"zipcode\"}, inplace=True)\n",
    "zips = zips.set_crs(\"EPSG:4326\", allow_override=True)\n",
    "zips = zips.set_crs(epsg=4326)"
   ]
  },
  {
   "cell_type": "markdown",
   "metadata": {},
   "source": [
    "### We don't need all the income demographics for this story"
   ]
  },
  {
   "cell_type": "code",
   "execution_count": 59,
   "metadata": {},
   "outputs": [],
   "source": [
    "zips.drop(['objectid',\n",
    "           'st_abbrev',\n",
    "          'hai_cy',\n",
    "          'incmort_cy',\n",
    "          'wlthrnk_cy',\n",
    "          'domstate',\n",
    "           'domcbsa',\n",
    "           'cbsa_name',\n",
    "           'shape__area',\n",
    "           'shape__length',\n",
    "           'avgnw_cy',\n",
    "          'county_name'], axis=1, inplace=True)"
   ]
  },
  {
   "cell_type": "code",
   "execution_count": 60,
   "metadata": {},
   "outputs": [
    {
     "data": {
      "text/plain": [
       "zipcode                                                   90001\n",
       "name                                                Los Angeles\n",
       "domcounty                                                 06037\n",
       "totpop_cy                                                 59907\n",
       "tothh_cy                                                  13454\n",
       "medage_cy                                                  27.1\n",
       "avghinc_cy                                                46931\n",
       "avgval_cy                                                377591\n",
       "geometry      POLYGON ((-118.247540000384 33.9890800002533, ...\n",
       "Name: 0, dtype: object"
      ]
     },
     "execution_count": 60,
     "metadata": {},
     "output_type": "execute_result"
    }
   ],
   "source": [
    "zips.loc[0]"
   ]
  },
  {
   "cell_type": "code",
   "execution_count": 61,
   "metadata": {},
   "outputs": [],
   "source": [
    "zips_in_district = gpd.sjoin(zips, district, how=\"inner\", op='intersects')"
   ]
  },
  {
   "cell_type": "markdown",
   "metadata": {},
   "source": [
    "### Export 2nd District boundary data to MBTiles"
   ]
  },
  {
   "cell_type": "code",
   "execution_count": 62,
   "metadata": {},
   "outputs": [
    {
     "data": {
      "text/plain": [
       "<AxesSubplot:>"
      ]
     },
     "execution_count": 62,
     "metadata": {},
     "output_type": "execute_result"
    },
    {
     "data": {
      "image/png": "[encoded data removed]",
      "text/plain": [
       "<Figure size 432x288 with 1 Axes>"
      ]
     },
     "metadata": {
      "needs_background": "light"
     },
     "output_type": "display_data"
    }
   ],
   "source": [
    "district.plot()"
   ]
  },
  {
   "cell_type": "markdown",
   "metadata": {},
   "source": [
    "### Only zips that overlap with the district"
   ]
  },
  {
   "cell_type": "code",
   "execution_count": 63,
   "metadata": {},
   "outputs": [
    {
     "data": {
      "text/plain": [
       "<AxesSubplot:>"
      ]
     },
     "execution_count": 63,
     "metadata": {},
     "output_type": "execute_result"
    },
    {
     "data": {
      "image/png": "[encoded data removed]",
      "text/plain": [
       "<Figure size 432x288 with 1 Axes>"
      ]
     },
     "metadata": {
      "needs_background": "light"
     },
     "output_type": "display_data"
    }
   ],
   "source": [
    "zips_in_district.plot()"
   ]
  },
  {
   "cell_type": "code",
   "execution_count": 64,
   "metadata": {},
   "outputs": [],
   "source": [
    "zips_in_district.rename(columns={\"id\": \"zipcode\"}, inplace=True)"
   ]
  },
  {
   "cell_type": "code",
   "execution_count": 65,
   "metadata": {},
   "outputs": [],
   "source": [
    "zips_in_district_geo = zips_in_district.merge(zip_totals, on='zipcode')"
   ]
  },
  {
   "cell_type": "code",
   "execution_count": 66,
   "metadata": {},
   "outputs": [],
   "source": [
    "zips_in_district_geo['amount_rcvd'] = zips_in_district_geo['amount_rcvd'].astype(int).fillna('0')"
   ]
  },
  {
   "cell_type": "code",
   "execution_count": 67,
   "metadata": {},
   "outputs": [
    {
     "data": {
      "text/html": [
       "<div>\n",
       "<style scoped>\n",
       "    .dataframe tbody tr th:only-of-type {\n",
       "        vertical-align: middle;\n",
       "    }\n",
       "\n",
       "    .dataframe tbody tr th {\n",
       "        vertical-align: top;\n",
       "    }\n",
       "\n",
       "    .dataframe thead th {\n",
       "        text-align: right;\n",
       "    }\n",
       "</style>\n",
       "<table border=\"1\" class=\"dataframe\">\n",
       "  <thead>\n",
       "    <tr style=\"text-align: right;\">\n",
       "      <th></th>\n",
       "      <th>zipcode</th>\n",
       "      <th>name</th>\n",
       "      <th>domcounty</th>\n",
       "      <th>totpop_cy</th>\n",
       "      <th>tothh_cy</th>\n",
       "      <th>medage_cy</th>\n",
       "      <th>avghinc_cy</th>\n",
       "      <th>avgval_cy</th>\n",
       "      <th>geometry</th>\n",
       "      <th>index_right</th>\n",
       "      <th>OBJECTID</th>\n",
       "      <th>DISTRICT</th>\n",
       "      <th>LABEL</th>\n",
       "      <th>Shape.STArea()</th>\n",
       "      <th>Shape.STLength()</th>\n",
       "      <th>amount_rcvd</th>\n",
       "    </tr>\n",
       "  </thead>\n",
       "  <tbody>\n",
       "    <tr>\n",
       "      <th>8</th>\n",
       "      <td>90010</td>\n",
       "      <td>Los Angeles</td>\n",
       "      <td>06037</td>\n",
       "      <td>496</td>\n",
       "      <td>276</td>\n",
       "      <td>38.6</td>\n",
       "      <td>53753</td>\n",
       "      <td>488690</td>\n",
       "      <td>MULTIPOLYGON (((-118.31437 34.06092, -118.3143...</td>\n",
       "      <td>0</td>\n",
       "      <td>816</td>\n",
       "      <td>2</td>\n",
       "      <td>District 2</td>\n",
       "      <td>4.511283e+09</td>\n",
       "      <td>477421.592662</td>\n",
       "      <td>93300</td>\n",
       "    </tr>\n",
       "  </tbody>\n",
       "</table>\n",
       "</div>"
      ],
      "text/plain": [
       "  zipcode         name domcounty  totpop_cy  tothh_cy  medage_cy  avghinc_cy  \\\n",
       "8   90010  Los Angeles     06037        496       276       38.6       53753   \n",
       "\n",
       "   avgval_cy                                           geometry  index_right  \\\n",
       "8     488690  MULTIPOLYGON (((-118.31437 34.06092, -118.3143...            0   \n",
       "\n",
       "   OBJECTID DISTRICT       LABEL  Shape.STArea()  Shape.STLength()  \\\n",
       "8       816        2  District 2    4.511283e+09     477421.592662   \n",
       "\n",
       "   amount_rcvd  \n",
       "8        93300  "
      ]
     },
     "execution_count": 67,
     "metadata": {},
     "output_type": "execute_result"
    }
   ],
   "source": [
    "zips_in_district_geo.sort_values(by='amount_rcvd', ascending=False).head(1)"
   ]
  },
  {
   "cell_type": "code",
   "execution_count": 68,
   "metadata": {},
   "outputs": [
    {
     "data": {
      "text/plain": [
       "zipcode               object\n",
       "name                  object\n",
       "domcounty             object\n",
       "totpop_cy              int64\n",
       "tothh_cy               int64\n",
       "medage_cy            float64\n",
       "avghinc_cy             int64\n",
       "avgval_cy              int64\n",
       "geometry            geometry\n",
       "index_right            int64\n",
       "OBJECTID               int64\n",
       "DISTRICT              object\n",
       "LABEL                 object\n",
       "Shape.STArea()       float64\n",
       "Shape.STLength()     float64\n",
       "amount_rcvd            int64\n",
       "dtype: object"
      ]
     },
     "execution_count": 68,
     "metadata": {},
     "output_type": "execute_result"
    }
   ],
   "source": [
    "zips_in_district_geo.dtypes"
   ]
  },
  {
   "cell_type": "code",
   "execution_count": 69,
   "metadata": {},
   "outputs": [],
   "source": [
    "zips_in_district_export = gpd.GeoDataFrame(zips_in_district_geo)"
   ]
  },
  {
   "cell_type": "markdown",
   "metadata": {},
   "source": [
    "### Export file showing all donations by distrit zips"
   ]
  },
  {
   "cell_type": "code",
   "execution_count": 70,
   "metadata": {},
   "outputs": [],
   "source": [
    "zips_in_district_export.to_file('output/zips_in_district_export.shp')"
   ]
  },
  {
   "cell_type": "markdown",
   "metadata": {},
   "source": [
    "---"
   ]
  },
  {
   "cell_type": "markdown",
   "metadata": {},
   "source": [
    "### How much did each of the candidates raise, by zip?"
   ]
  },
  {
   "cell_type": "code",
   "execution_count": 71,
   "metadata": {},
   "outputs": [],
   "source": [
    "# pivot to a wide table for mapping\n",
    "\n",
    "sum_by_zip = pd.pivot_table(districttwo, values='amount_rcvd', index=['zipcode'], \n",
    "                            columns=['candidate_slug'], aggfunc=np.sum, fill_value=0).reset_index()"
   ]
  },
  {
   "cell_type": "code",
   "execution_count": 72,
   "metadata": {},
   "outputs": [],
   "source": [
    "sum_by_zip[\"total\"] = sum_by_zip.sum(axis=1)"
   ]
  },
  {
   "cell_type": "code",
   "execution_count": 73,
   "metadata": {},
   "outputs": [],
   "source": [
    "# flatten the multiindex frame\n",
    "\n",
    "sum_by_zip.columns = sum_by_zip.columns.to_series().str.join('')"
   ]
  },
  {
   "cell_type": "markdown",
   "metadata": {},
   "source": [
    "### How much did all of the candidates raise by zip?"
   ]
  },
  {
   "cell_type": "code",
   "execution_count": 74,
   "metadata": {},
   "outputs": [],
   "source": [
    "sum_by_zip = sum_by_zip.sort_values(\"total\", ascending=False)"
   ]
  },
  {
   "cell_type": "code",
   "execution_count": 75,
   "metadata": {},
   "outputs": [
    {
     "data": {
      "text/html": [
       "<div>\n",
       "<style scoped>\n",
       "    .dataframe tbody tr th:only-of-type {\n",
       "        vertical-align: middle;\n",
       "    }\n",
       "\n",
       "    .dataframe tbody tr th {\n",
       "        vertical-align: top;\n",
       "    }\n",
       "\n",
       "    .dataframe thead th {\n",
       "        text-align: right;\n",
       "    }\n",
       "</style>\n",
       "<table border=\"1\" class=\"dataframe\">\n",
       "  <thead>\n",
       "    <tr style=\"text-align: right;\">\n",
       "      <th>candidate_slug</th>\n",
       "      <th>zipcode</th>\n",
       "      <th>herb_wesson</th>\n",
       "      <th>holly_mitchell</th>\n",
       "      <th>total</th>\n",
       "    </tr>\n",
       "  </thead>\n",
       "  <tbody>\n",
       "    <tr>\n",
       "      <th>775</th>\n",
       "      <td>95814</td>\n",
       "      <td>18300</td>\n",
       "      <td>111150</td>\n",
       "      <td>129450</td>\n",
       "    </tr>\n",
       "    <tr>\n",
       "      <th>219</th>\n",
       "      <td>90010</td>\n",
       "      <td>81750</td>\n",
       "      <td>11550</td>\n",
       "      <td>93300</td>\n",
       "    </tr>\n",
       "    <tr>\n",
       "      <th>258</th>\n",
       "      <td>90056</td>\n",
       "      <td>37160</td>\n",
       "      <td>36880</td>\n",
       "      <td>74040</td>\n",
       "    </tr>\n",
       "    <tr>\n",
       "      <th>256</th>\n",
       "      <td>90049</td>\n",
       "      <td>41799</td>\n",
       "      <td>29350</td>\n",
       "      <td>71149</td>\n",
       "    </tr>\n",
       "    <tr>\n",
       "      <th>218</th>\n",
       "      <td>90008</td>\n",
       "      <td>41818</td>\n",
       "      <td>28358</td>\n",
       "      <td>70176</td>\n",
       "    </tr>\n",
       "  </tbody>\n",
       "</table>\n",
       "</div>"
      ],
      "text/plain": [
       "candidate_slug zipcode  herb_wesson  holly_mitchell   total\n",
       "775              95814        18300          111150  129450\n",
       "219              90010        81750           11550   93300\n",
       "258              90056        37160           36880   74040\n",
       "256              90049        41799           29350   71149\n",
       "218              90008        41818           28358   70176"
      ]
     },
     "execution_count": 75,
     "metadata": {},
     "output_type": "execute_result"
    }
   ],
   "source": [
    "sum_by_zip.head()"
   ]
  },
  {
   "cell_type": "markdown",
   "metadata": {},
   "source": [
    "### Top ZIP Codes"
   ]
  },
  {
   "cell_type": "code",
   "execution_count": 76,
   "metadata": {},
   "outputs": [
    {
     "data": {
      "text/html": [
       "<div>\n",
       "<style scoped>\n",
       "    .dataframe tbody tr th:only-of-type {\n",
       "        vertical-align: middle;\n",
       "    }\n",
       "\n",
       "    .dataframe tbody tr th {\n",
       "        vertical-align: top;\n",
       "    }\n",
       "\n",
       "    .dataframe thead th {\n",
       "        text-align: right;\n",
       "    }\n",
       "</style>\n",
       "<table border=\"1\" class=\"dataframe\">\n",
       "  <thead>\n",
       "    <tr style=\"text-align: right;\">\n",
       "      <th>candidate_slug</th>\n",
       "      <th>zipcode</th>\n",
       "      <th>total</th>\n",
       "    </tr>\n",
       "  </thead>\n",
       "  <tbody>\n",
       "    <tr>\n",
       "      <th>775</th>\n",
       "      <td>95814</td>\n",
       "      <td>129450</td>\n",
       "    </tr>\n",
       "    <tr>\n",
       "      <th>219</th>\n",
       "      <td>90010</td>\n",
       "      <td>93300</td>\n",
       "    </tr>\n",
       "    <tr>\n",
       "      <th>258</th>\n",
       "      <td>90056</td>\n",
       "      <td>74040</td>\n",
       "    </tr>\n",
       "    <tr>\n",
       "      <th>256</th>\n",
       "      <td>90049</td>\n",
       "      <td>71149</td>\n",
       "    </tr>\n",
       "    <tr>\n",
       "      <th>218</th>\n",
       "      <td>90008</td>\n",
       "      <td>70176</td>\n",
       "    </tr>\n",
       "  </tbody>\n",
       "</table>\n",
       "</div>"
      ],
      "text/plain": [
       "candidate_slug zipcode   total\n",
       "775              95814  129450\n",
       "219              90010   93300\n",
       "258              90056   74040\n",
       "256              90049   71149\n",
       "218              90008   70176"
      ]
     },
     "execution_count": 76,
     "metadata": {},
     "output_type": "execute_result"
    }
   ],
   "source": [
    "sum_by_zip[['zipcode', 'total']].sort_values(by='total', ascending=False).head()"
   ]
  },
  {
   "cell_type": "markdown",
   "metadata": {},
   "source": [
    "### How many zips donated? "
   ]
  },
  {
   "cell_type": "code",
   "execution_count": 77,
   "metadata": {},
   "outputs": [
    {
     "data": {
      "text/plain": [
       "810"
      ]
     },
     "execution_count": 77,
     "metadata": {},
     "output_type": "execute_result"
    }
   ],
   "source": [
    "sum_by_zip.total.count()"
   ]
  },
  {
   "cell_type": "markdown",
   "metadata": {},
   "source": [
    "### Which 2nd District candidate received the most in each zip? "
   ]
  },
  {
   "cell_type": "code",
   "execution_count": 78,
   "metadata": {},
   "outputs": [],
   "source": [
    "#create a dummy field because i'm bad at idxmax; \n",
    "sum_by_zip['tie'] = '0'"
   ]
  },
  {
   "cell_type": "code",
   "execution_count": 79,
   "metadata": {},
   "outputs": [],
   "source": [
    "#reshape dataframe\n",
    "sum_by_zip_winner = pd.DataFrame(sum_by_zip[['zipcode', 'tie','herb_wesson','holly_mitchell','total']])"
   ]
  },
  {
   "cell_type": "code",
   "execution_count": 80,
   "metadata": {},
   "outputs": [],
   "source": [
    "sum_by_zip_winner['tie'] = sum_by_zip_winner['tie'].astype(int)\n",
    "sum_by_zip_winner['zipcode'] = sum_by_zip_winner['zipcode'].astype(str)"
   ]
  },
  {
   "cell_type": "markdown",
   "metadata": {},
   "source": [
    "### Who won each zip?"
   ]
  },
  {
   "cell_type": "code",
   "execution_count": 81,
   "metadata": {},
   "outputs": [],
   "source": [
    "sum_by_zip_winner['winner_dist_two'] = sum_by_zip_winner[['tie','herb_wesson','holly_mitchell']].idxmax(axis=1)"
   ]
  },
  {
   "cell_type": "markdown",
   "metadata": {},
   "source": [
    "### How much did each zip winner raise from there? "
   ]
  },
  {
   "cell_type": "code",
   "execution_count": 82,
   "metadata": {},
   "outputs": [],
   "source": [
    "sum_by_zip_winner['winner_total'] = sum_by_zip_winner[['tie','herb_wesson','holly_mitchell']].max(axis=1)"
   ]
  },
  {
   "cell_type": "code",
   "execution_count": 83,
   "metadata": {},
   "outputs": [],
   "source": [
    "sum_by_zip_winner['winner_dist_two'] = sum_by_zip_winner['winner_dist_two'].str.title().str.replace('_',' ')"
   ]
  },
  {
   "cell_type": "code",
   "execution_count": 84,
   "metadata": {},
   "outputs": [
    {
     "data": {
      "text/plain": [
       "Herb Wesson       0.524691\n",
       "Holly Mitchell    0.474074\n",
       "Tie               0.001235\n",
       "Name: winner_dist_two, dtype: float64"
      ]
     },
     "execution_count": 84,
     "metadata": {},
     "output_type": "execute_result"
    }
   ],
   "source": [
    "sum_by_zip_winner['winner_dist_two'].value_counts('normalize')"
   ]
  },
  {
   "cell_type": "markdown",
   "metadata": {},
   "source": [
    "### Which were the top zips for each candidate? "
   ]
  },
  {
   "cell_type": "code",
   "execution_count": 85,
   "metadata": {},
   "outputs": [
    {
     "data": {
      "text/html": [
       "<div>\n",
       "<style scoped>\n",
       "    .dataframe tbody tr th:only-of-type {\n",
       "        vertical-align: middle;\n",
       "    }\n",
       "\n",
       "    .dataframe tbody tr th {\n",
       "        vertical-align: top;\n",
       "    }\n",
       "\n",
       "    .dataframe thead th {\n",
       "        text-align: right;\n",
       "    }\n",
       "</style>\n",
       "<table border=\"1\" class=\"dataframe\">\n",
       "  <thead>\n",
       "    <tr style=\"text-align: right;\">\n",
       "      <th>candidate_slug</th>\n",
       "      <th>zipcode</th>\n",
       "      <th>tie</th>\n",
       "      <th>herb_wesson</th>\n",
       "      <th>holly_mitchell</th>\n",
       "      <th>total</th>\n",
       "      <th>winner_dist_two</th>\n",
       "      <th>winner_total</th>\n",
       "    </tr>\n",
       "  </thead>\n",
       "  <tbody>\n",
       "    <tr>\n",
       "      <th>775</th>\n",
       "      <td>95814</td>\n",
       "      <td>0</td>\n",
       "      <td>18300</td>\n",
       "      <td>111150</td>\n",
       "      <td>129450</td>\n",
       "      <td>Holly Mitchell</td>\n",
       "      <td>111150</td>\n",
       "    </tr>\n",
       "    <tr>\n",
       "      <th>219</th>\n",
       "      <td>90010</td>\n",
       "      <td>0</td>\n",
       "      <td>81750</td>\n",
       "      <td>11550</td>\n",
       "      <td>93300</td>\n",
       "      <td>Herb Wesson</td>\n",
       "      <td>81750</td>\n",
       "    </tr>\n",
       "    <tr>\n",
       "      <th>229</th>\n",
       "      <td>90020</td>\n",
       "      <td>0</td>\n",
       "      <td>49350</td>\n",
       "      <td>7200</td>\n",
       "      <td>56550</td>\n",
       "      <td>Herb Wesson</td>\n",
       "      <td>49350</td>\n",
       "    </tr>\n",
       "    <tr>\n",
       "      <th>226</th>\n",
       "      <td>90017</td>\n",
       "      <td>0</td>\n",
       "      <td>46388</td>\n",
       "      <td>19915</td>\n",
       "      <td>66303</td>\n",
       "      <td>Herb Wesson</td>\n",
       "      <td>46388</td>\n",
       "    </tr>\n",
       "    <tr>\n",
       "      <th>228</th>\n",
       "      <td>90019</td>\n",
       "      <td>0</td>\n",
       "      <td>43265</td>\n",
       "      <td>21395</td>\n",
       "      <td>64660</td>\n",
       "      <td>Herb Wesson</td>\n",
       "      <td>43265</td>\n",
       "    </tr>\n",
       "  </tbody>\n",
       "</table>\n",
       "</div>"
      ],
      "text/plain": [
       "candidate_slug zipcode  tie  herb_wesson  holly_mitchell   total  \\\n",
       "775              95814    0        18300          111150  129450   \n",
       "219              90010    0        81750           11550   93300   \n",
       "229              90020    0        49350            7200   56550   \n",
       "226              90017    0        46388           19915   66303   \n",
       "228              90019    0        43265           21395   64660   \n",
       "\n",
       "candidate_slug winner_dist_two  winner_total  \n",
       "775             Holly Mitchell        111150  \n",
       "219                Herb Wesson         81750  \n",
       "229                Herb Wesson         49350  \n",
       "226                Herb Wesson         46388  \n",
       "228                Herb Wesson         43265  "
      ]
     },
     "execution_count": 85,
     "metadata": {},
     "output_type": "execute_result"
    }
   ],
   "source": [
    "sum_by_zip_winner.sort_values(by='winner_total', ascending=False).head()"
   ]
  },
  {
   "cell_type": "code",
   "execution_count": 86,
   "metadata": {},
   "outputs": [],
   "source": [
    "sum_by_zip_winner.to_csv('output/sum_by_hood_winner.csv')"
   ]
  },
  {
   "cell_type": "markdown",
   "metadata": {},
   "source": [
    "### Remove rows with no contributions"
   ]
  },
  {
   "cell_type": "code",
   "execution_count": 87,
   "metadata": {},
   "outputs": [],
   "source": [
    "sum_by_zip_winner = sum_by_zip_winner[(sum_by_zip_winner['winner_total'] != 0)]"
   ]
  },
  {
   "cell_type": "code",
   "execution_count": 88,
   "metadata": {},
   "outputs": [
    {
     "data": {
      "text/plain": [
       "809"
      ]
     },
     "execution_count": 88,
     "metadata": {},
     "output_type": "execute_result"
    }
   ],
   "source": [
    "len(sum_by_zip_winner)"
   ]
  },
  {
   "cell_type": "markdown",
   "metadata": {},
   "source": [
    "### How many zips did each candidate win?"
   ]
  },
  {
   "cell_type": "code",
   "execution_count": 89,
   "metadata": {
    "scrolled": true
   },
   "outputs": [
    {
     "data": {
      "text/plain": [
       "Herb Wesson       425\n",
       "Holly Mitchell    384\n",
       "Name: winner_dist_two, dtype: int64"
      ]
     },
     "execution_count": 89,
     "metadata": {},
     "output_type": "execute_result"
    }
   ],
   "source": [
    "sum_by_zip_winner.winner_dist_two.value_counts()"
   ]
  },
  {
   "cell_type": "markdown",
   "metadata": {},
   "source": [
    "---"
   ]
  },
  {
   "cell_type": "markdown",
   "metadata": {},
   "source": [
    "### How much did the candidates raise in the 2nd District ZIPs alone? "
   ]
  },
  {
   "cell_type": "code",
   "execution_count": 90,
   "metadata": {},
   "outputs": [],
   "source": [
    "donations_in_district_zips = zips_in_district.merge(zip_totals_candidates,on='zipcode')"
   ]
  },
  {
   "cell_type": "markdown",
   "metadata": {},
   "source": [
    "### Share raised inside the district raised by all the candidates? "
   ]
  },
  {
   "cell_type": "code",
   "execution_count": 91,
   "metadata": {},
   "outputs": [
    {
     "data": {
      "text/plain": [
       "35.166"
      ]
     },
     "execution_count": 91,
     "metadata": {},
     "output_type": "execute_result"
    }
   ],
   "source": [
    "((donations_in_district_zips.amount_rcvd.sum() /second_district_totals['amount_rcvd'].sum()) * 100).round(3)"
   ]
  },
  {
   "cell_type": "markdown",
   "metadata": {},
   "source": [
    "### Share raised inside the district raised by each candidate? "
   ]
  },
  {
   "cell_type": "code",
   "execution_count": 92,
   "metadata": {},
   "outputs": [],
   "source": [
    "in_district_totals = donations_in_district_zips.groupby(['candidate_name']).agg('sum').reset_index()"
   ]
  },
  {
   "cell_type": "code",
   "execution_count": 93,
   "metadata": {},
   "outputs": [
    {
     "data": {
      "text/html": [
       "<div>\n",
       "<style scoped>\n",
       "    .dataframe tbody tr th:only-of-type {\n",
       "        vertical-align: middle;\n",
       "    }\n",
       "\n",
       "    .dataframe tbody tr th {\n",
       "        vertical-align: top;\n",
       "    }\n",
       "\n",
       "    .dataframe thead th {\n",
       "        text-align: right;\n",
       "    }\n",
       "</style>\n",
       "<table border=\"1\" class=\"dataframe\">\n",
       "  <thead>\n",
       "    <tr style=\"text-align: right;\">\n",
       "      <th></th>\n",
       "      <th>candidate_name</th>\n",
       "      <th>amount_rcvd</th>\n",
       "    </tr>\n",
       "  </thead>\n",
       "  <tbody>\n",
       "    <tr>\n",
       "      <th>0</th>\n",
       "      <td>Herb Wesson</td>\n",
       "      <td>1020129</td>\n",
       "    </tr>\n",
       "    <tr>\n",
       "      <th>1</th>\n",
       "      <td>Holly Mitchell</td>\n",
       "      <td>456448</td>\n",
       "    </tr>\n",
       "  </tbody>\n",
       "</table>\n",
       "</div>"
      ],
      "text/plain": [
       "   candidate_name  amount_rcvd\n",
       "0     Herb Wesson      1020129\n",
       "1  Holly Mitchell       456448"
      ]
     },
     "execution_count": 93,
     "metadata": {},
     "output_type": "execute_result"
    }
   ],
   "source": [
    "in_district_totals[['candidate_name','amount_rcvd']]"
   ]
  },
  {
   "cell_type": "code",
   "execution_count": 94,
   "metadata": {},
   "outputs": [],
   "source": [
    "in_district_share = in_district_totals.merge(second_district_sum, on='candidate_name')\n",
    "in_district_share_slim = pd.DataFrame(in_district_share[['candidate_name','amount_rcvd_y', 'amount_rcvd_x']])"
   ]
  },
  {
   "cell_type": "code",
   "execution_count": 95,
   "metadata": {},
   "outputs": [
    {
     "data": {
      "text/html": [
       "<div>\n",
       "<style scoped>\n",
       "    .dataframe tbody tr th:only-of-type {\n",
       "        vertical-align: middle;\n",
       "    }\n",
       "\n",
       "    .dataframe tbody tr th {\n",
       "        vertical-align: top;\n",
       "    }\n",
       "\n",
       "    .dataframe thead th {\n",
       "        text-align: right;\n",
       "    }\n",
       "</style>\n",
       "<table border=\"1\" class=\"dataframe\">\n",
       "  <thead>\n",
       "    <tr style=\"text-align: right;\">\n",
       "      <th></th>\n",
       "      <th>candidate_name</th>\n",
       "      <th>totpop_cy</th>\n",
       "      <th>tothh_cy</th>\n",
       "      <th>medage_cy</th>\n",
       "      <th>avghinc_cy</th>\n",
       "      <th>avgval_cy</th>\n",
       "      <th>index_right</th>\n",
       "      <th>OBJECTID</th>\n",
       "      <th>Shape.STArea()</th>\n",
       "      <th>Shape.STLength()</th>\n",
       "      <th>amount_rcvd_x</th>\n",
       "      <th>amount_rcvd_y</th>\n",
       "    </tr>\n",
       "  </thead>\n",
       "  <tbody>\n",
       "    <tr>\n",
       "      <th>0</th>\n",
       "      <td>Herb Wesson</td>\n",
       "      <td>2998205</td>\n",
       "      <td>984629</td>\n",
       "      <td>2666.8</td>\n",
       "      <td>5929564</td>\n",
       "      <td>45201485</td>\n",
       "      <td>0</td>\n",
       "      <td>60384</td>\n",
       "      <td>3.338349e+11</td>\n",
       "      <td>3.532920e+07</td>\n",
       "      <td>1020129</td>\n",
       "      <td>2563607</td>\n",
       "    </tr>\n",
       "    <tr>\n",
       "      <th>1</th>\n",
       "      <td>Holly Mitchell</td>\n",
       "      <td>2592083</td>\n",
       "      <td>884984</td>\n",
       "      <td>2393.0</td>\n",
       "      <td>5398663</td>\n",
       "      <td>41805669</td>\n",
       "      <td>0</td>\n",
       "      <td>53040</td>\n",
       "      <td>2.932334e+11</td>\n",
       "      <td>3.103240e+07</td>\n",
       "      <td>456448</td>\n",
       "      <td>1635217</td>\n",
       "    </tr>\n",
       "  </tbody>\n",
       "</table>\n",
       "</div>"
      ],
      "text/plain": [
       "   candidate_name  totpop_cy  tothh_cy  medage_cy  avghinc_cy  avgval_cy  \\\n",
       "0     Herb Wesson    2998205    984629     2666.8     5929564   45201485   \n",
       "1  Holly Mitchell    2592083    884984     2393.0     5398663   41805669   \n",
       "\n",
       "   index_right  OBJECTID  Shape.STArea()  Shape.STLength()  amount_rcvd_x  \\\n",
       "0            0     60384    3.338349e+11      3.532920e+07        1020129   \n",
       "1            0     53040    2.932334e+11      3.103240e+07         456448   \n",
       "\n",
       "   amount_rcvd_y  \n",
       "0        2563607  \n",
       "1        1635217  "
      ]
     },
     "execution_count": 95,
     "metadata": {},
     "output_type": "execute_result"
    }
   ],
   "source": [
    "in_district_share.head(10)"
   ]
  },
  {
   "cell_type": "markdown",
   "metadata": {},
   "source": [
    "### What share did candidates raise from outside the district?"
   ]
  },
  {
   "cell_type": "code",
   "execution_count": 96,
   "metadata": {},
   "outputs": [],
   "source": [
    "in_district_share_slim.rename(columns={\"amount_rcvd_y\": \"total_raised\",\\\n",
    "                                      \"amount_rcvd_x\": \"inside_raised\"}, inplace=True)"
   ]
  },
  {
   "cell_type": "code",
   "execution_count": 97,
   "metadata": {},
   "outputs": [],
   "source": [
    "in_district_share_slim['share_inside'] = ((in_district_share_slim['inside_raised'] /\\\n",
    "                                   in_district_share_slim['total_raised'] ) *100).round()"
   ]
  },
  {
   "cell_type": "code",
   "execution_count": 98,
   "metadata": {},
   "outputs": [],
   "source": [
    "in_district_share_slim['share_outside'] = 100 - in_district_share_slim['share_inside']"
   ]
  },
  {
   "cell_type": "code",
   "execution_count": 99,
   "metadata": {},
   "outputs": [
    {
     "data": {
      "text/html": [
       "<div>\n",
       "<style scoped>\n",
       "    .dataframe tbody tr th:only-of-type {\n",
       "        vertical-align: middle;\n",
       "    }\n",
       "\n",
       "    .dataframe tbody tr th {\n",
       "        vertical-align: top;\n",
       "    }\n",
       "\n",
       "    .dataframe thead th {\n",
       "        text-align: right;\n",
       "    }\n",
       "</style>\n",
       "<table border=\"1\" class=\"dataframe\">\n",
       "  <thead>\n",
       "    <tr style=\"text-align: right;\">\n",
       "      <th></th>\n",
       "      <th>candidate_name</th>\n",
       "      <th>total_raised</th>\n",
       "      <th>inside_raised</th>\n",
       "      <th>share_inside</th>\n",
       "      <th>share_outside</th>\n",
       "    </tr>\n",
       "  </thead>\n",
       "  <tbody>\n",
       "    <tr>\n",
       "      <th>0</th>\n",
       "      <td>Herb Wesson</td>\n",
       "      <td>2563607</td>\n",
       "      <td>1020129</td>\n",
       "      <td>40.0</td>\n",
       "      <td>60.0</td>\n",
       "    </tr>\n",
       "    <tr>\n",
       "      <th>1</th>\n",
       "      <td>Holly Mitchell</td>\n",
       "      <td>1635217</td>\n",
       "      <td>456448</td>\n",
       "      <td>28.0</td>\n",
       "      <td>72.0</td>\n",
       "    </tr>\n",
       "  </tbody>\n",
       "</table>\n",
       "</div>"
      ],
      "text/plain": [
       "   candidate_name  total_raised  inside_raised  share_inside  share_outside\n",
       "0     Herb Wesson       2563607        1020129          40.0           60.0\n",
       "1  Holly Mitchell       1635217         456448          28.0           72.0"
      ]
     },
     "execution_count": 99,
     "metadata": {},
     "output_type": "execute_result"
    }
   ],
   "source": [
    "in_district_share_slim.head(6)"
   ]
  },
  {
   "cell_type": "code",
   "execution_count": 100,
   "metadata": {
    "scrolled": true
   },
   "outputs": [],
   "source": [
    "in_district_share_slim[['candidate_name','share_inside','share_outside']]\\\n",
    "    .to_csv('output/in_district_share_slim.csv')"
   ]
  },
  {
   "cell_type": "markdown",
   "metadata": {},
   "source": [
    "### Merge the geography back onto our 2nd District winners table"
   ]
  },
  {
   "cell_type": "code",
   "execution_count": 101,
   "metadata": {},
   "outputs": [],
   "source": [
    "totals_by_LA_zips = zips.merge(sum_by_zip_winner, on='zipcode')"
   ]
  },
  {
   "cell_type": "code",
   "execution_count": 102,
   "metadata": {},
   "outputs": [],
   "source": [
    "totals_by_LA_zips_slim = totals_by_LA_zips[['zipcode','geometry','herb_wesson','holly_mitchell', 'total','winner_dist_two','winner_total']]"
   ]
  },
  {
   "cell_type": "markdown",
   "metadata": {},
   "source": [
    "### Export geojson for web app and Turf"
   ]
  },
  {
   "cell_type": "code",
   "execution_count": 103,
   "metadata": {},
   "outputs": [],
   "source": [
    "totals_by_LA_zips_slim.to_file('output/second-district-zips-update.geojson', driver='GeoJSON')\n",
    "totals_by_LA_zips_slim.to_file('/Users/mhustiles/data/github/bigbuilder/bigbuilder/pages/county-supervisor-2nd-district-campaign-donations/static/second-district-zips-update.geojson', driver='GeoJSON')"
   ]
  },
  {
   "cell_type": "markdown",
   "metadata": {},
   "source": [
    "### Generate winners by zips to MBTiles for Mapbox"
   ]
  },
  {
   "cell_type": "code",
   "execution_count": 104,
   "metadata": {},
   "outputs": [
    {
     "name": "stdout",
     "output_type": "stream",
     "text": [
      "For layer 0, using name \"seconddistrictzipsupdate\"\n",
      "251 features, 341765 bytes of geometry, 3915 bytes of separate metadata, 4017 bytes of string pool\n",
      "  99.9%  14/2809/6542  \n"
     ]
    }
   ],
   "source": [
    "!tippecanoe --generate-ids --force -r1 -pk -pf -o \\\n",
    "output/second-district-zips-update.mbtiles \\\n",
    "output/second-district-zips-update.geojson"
   ]
  },
  {
   "cell_type": "markdown",
   "metadata": {},
   "source": [
    "---"
   ]
  },
  {
   "cell_type": "markdown",
   "metadata": {},
   "source": [
    "### Wesson donations"
   ]
  },
  {
   "cell_type": "code",
   "execution_count": 105,
   "metadata": {},
   "outputs": [],
   "source": [
    "wesson = districttwo[districttwo['candidate_name'] == 'Herb Wesson']"
   ]
  },
  {
   "cell_type": "code",
   "execution_count": 106,
   "metadata": {},
   "outputs": [],
   "source": [
    "wessonoutside = wesson[wesson['type'] == 'Other']"
   ]
  },
  {
   "cell_type": "code",
   "execution_count": 107,
   "metadata": {
    "scrolled": true
   },
   "outputs": [
    {
     "data": {
      "text/plain": [
       "1241"
      ]
     },
     "execution_count": 107,
     "metadata": {},
     "output_type": "execute_result"
    }
   ],
   "source": [
    "wessonlarge = wesson[wesson['amount_rcvd'] == 1500]\n",
    "len(wessonlarge)"
   ]
  },
  {
   "cell_type": "markdown",
   "metadata": {},
   "source": [
    "### Mitchell donations"
   ]
  },
  {
   "cell_type": "code",
   "execution_count": 108,
   "metadata": {},
   "outputs": [],
   "source": [
    "mitchell = districttwo[districttwo['candidate_name'] == 'Holly Mitchell']"
   ]
  },
  {
   "cell_type": "code",
   "execution_count": 109,
   "metadata": {},
   "outputs": [],
   "source": [
    "mitchelloutside = mitchell[mitchell['type'] == 'Other']"
   ]
  },
  {
   "cell_type": "code",
   "execution_count": 110,
   "metadata": {},
   "outputs": [
    {
     "data": {
      "text/plain": [
       "526"
      ]
     },
     "execution_count": 110,
     "metadata": {},
     "output_type": "execute_result"
    }
   ],
   "source": [
    "mitchelllarge = mitchell[mitchell['amount_rcvd'] == 1500]\n",
    "len(mitchelllarge)"
   ]
  }
 ],
 "metadata": {
  "kernelspec": {
   "display_name": "Python 3",
   "language": "python",
   "name": "python3"
  },
  "language_info": {
   "codemirror_mode": {
    "name": "ipython",
    "version": 3
   },
   "file_extension": ".py",
   "mimetype": "text/x-python",
   "name": "python",
   "nbconvert_exporter": "python",
   "pygments_lexer": "ipython3",
   "version": "3.7.4"
  }
 },
 "nbformat": 4,
 "nbformat_minor": 4
}
