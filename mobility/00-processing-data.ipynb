{
 "cells": [
  {
   "cell_type": "code",
   "execution_count": null,
   "metadata": {},
   "outputs": [],
   "source": [
    "%load_ext lab_black"
   ]
  },
  {
   "cell_type": "code",
   "execution_count": null,
   "metadata": {},
   "outputs": [],
   "source": [
    "import altair as alt\n",
    "import pandas as pd\n",
    "import sys\n",
    "import json\n",
    "import glob\n",
    "import base64\n",
    "import numpy as np\n",
    "from collections import OrderedDict\n",
    "from operator import getitem\n",
    "import datetime as dt\n",
    "from datetime import timedelta\n",
    "from io import BytesIO\n",
    "import matplotlib.pyplot as plt\n",
    "from matplotlib import dates\n",
    "from matplotlib.dates import WeekdayLocator, DayLocator, DateFormatter, date2num\n",
    "from matplotlib.dates import MO, TU, WE, TH, FR, SA, SU\n",
    "import logging\n",
    "from datetime import datetime\n",
    "import altair_latimes as lat\n",
    "\n",
    "alt.themes.register(\"latimes\", lat.theme)\n",
    "alt.themes.enable(\"latimes\")"
   ]
  },
  {
   "cell_type": "markdown",
   "metadata": {},
   "source": [
    "### Fetch the ndjson "
   ]
  },
  {
   "cell_type": "code",
   "execution_count": null,
   "metadata": {},
   "outputs": [],
   "source": [
    "df = pd.read_json(\n",
    "    \"../../DL-COVID-19/DL-us-mobility.ndjson\", lines=True, dtype={\"fips\": str}\n",
    ")"
   ]
  },
  {
   "cell_type": "markdown",
   "metadata": {},
   "source": [
    "### Fetch csv format from local copy of Decartes Labs' repo"
   ]
  },
  {
   "cell_type": "code",
   "execution_count": null,
   "metadata": {},
   "outputs": [],
   "source": [
    "src = pd.read_csv(\n",
    "    \"../../DL-COVID-19/DL-us-mobility-daterow.csv\",\n",
    "    dtype={\"fips\": str, \"admin_level\": str},\n",
    "    parse_dates=True,\n",
    "    infer_datetime_format=True,\n",
    ").fillna(\"\")"
   ]
  },
  {
   "cell_type": "code",
   "execution_count": null,
   "metadata": {},
   "outputs": [],
   "source": [
    "src[\"date\"] = pd.to_datetime(src[\"date\"])"
   ]
  },
  {
   "cell_type": "code",
   "execution_count": null,
   "metadata": {},
   "outputs": [],
   "source": [
    "src[\"weekday\"] = src[\"date\"].dt.day_name()"
   ]
  },
  {
   "cell_type": "markdown",
   "metadata": {},
   "source": [
    "---"
   ]
  },
  {
   "cell_type": "markdown",
   "metadata": {},
   "source": [
    "### Filter the dataframe to California and slim"
   ]
  },
  {
   "cell_type": "code",
   "execution_count": null,
   "metadata": {},
   "outputs": [],
   "source": [
    "ca_state = (\n",
    "    src[(src[\"admin1\"] == \"California\") & (src[\"admin_level\"] == \"1\")]\n",
    "    .drop([\"country_code\", \"admin_level\", \"samples\"], axis=1)\n",
    "    .rename(columns={\"admin2\": \"county\"})\n",
    ")"
   ]
  },
  {
   "cell_type": "code",
   "execution_count": null,
   "metadata": {},
   "outputs": [],
   "source": [
    "ca_counties = (\n",
    "    src[(src[\"admin1\"] == \"California\") & (src[\"admin_level\"] == \"2\")]\n",
    "    .drop([\"country_code\", \"admin_level\", \"admin1\", \"samples\"], axis=1)\n",
    "    .rename(columns={\"admin2\": \"county\"})\n",
    ")"
   ]
  },
  {
   "cell_type": "code",
   "execution_count": null,
   "metadata": {},
   "outputs": [],
   "source": [
    "ca_counties[\"county\"] = ca_counties[\"county\"].str.replace(\" County\", \"\")"
   ]
  },
  {
   "cell_type": "code",
   "execution_count": null,
   "metadata": {},
   "outputs": [],
   "source": [
    "ca_counties.head()"
   ]
  },
  {
   "cell_type": "markdown",
   "metadata": {},
   "source": [
    "---"
   ]
  },
  {
   "cell_type": "markdown",
   "metadata": {},
   "source": [
    "### Filter the dataframe to counties in our region"
   ]
  },
  {
   "cell_type": "code",
   "execution_count": null,
   "metadata": {},
   "outputs": [],
   "source": [
    "socal = [\n",
    "    \"Los Angeles\",\n",
    "    \"Ventura\",\n",
    "    \"San Bernardino\",\n",
    "    \"Riverside\",\n",
    "    \"Orange\",\n",
    "]"
   ]
  },
  {
   "cell_type": "code",
   "execution_count": null,
   "metadata": {},
   "outputs": [],
   "source": [
    "socal_counties = ca_counties[ca_counties[\"county\"].isin(socal)]"
   ]
  },
  {
   "cell_type": "code",
   "execution_count": null,
   "metadata": {},
   "outputs": [],
   "source": [
    "socal_counties.head()"
   ]
  },
  {
   "cell_type": "markdown",
   "metadata": {},
   "source": [
    "---"
   ]
  },
  {
   "cell_type": "markdown",
   "metadata": {},
   "source": [
    "### Filter the dataframe to Los Angeles County"
   ]
  },
  {
   "cell_type": "code",
   "execution_count": null,
   "metadata": {},
   "outputs": [],
   "source": [
    "la_county = socal_counties[socal_counties[\"county\"] == \"Los Angeles\"]"
   ]
  },
  {
   "cell_type": "code",
   "execution_count": null,
   "metadata": {},
   "outputs": [],
   "source": [
    "la_county.head()"
   ]
  },
  {
   "cell_type": "code",
   "execution_count": null,
   "metadata": {},
   "outputs": [],
   "source": [
    "alt.Chart(la_county).mark_bar().encode(\n",
    "    x=alt.X(\"date:T\", axis=alt.Axis(format=\"%B\", title=\" \", tickCount=3)),\n",
    "    y=alt.Y(\n",
    "        \"m50\",\n",
    "        title=\" \",\n",
    "        axis=alt.Axis(format=\"\", title=\"\", tickCount=6),\n",
    "    ),\n",
    "    facet=alt.Facet(\"county\"),\n",
    ").properties(width=1200, height=300, title=\"m50 in Los Angeles County\")"
   ]
  },
  {
   "cell_type": "markdown",
   "metadata": {},
   "source": [
    "---"
   ]
  },
  {
   "cell_type": "markdown",
   "metadata": {},
   "source": [
    "### Graph the m50 figure, by county"
   ]
  },
  {
   "cell_type": "code",
   "execution_count": null,
   "metadata": {},
   "outputs": [],
   "source": [
    "alt.Chart(socal_counties).mark_bar().encode(\n",
    "    x=alt.X(\"date:T\", axis=alt.Axis(format=\"%b.\", title=\" \", tickCount=3)),\n",
    "    y=alt.Y(\n",
    "        \"m50\",\n",
    "        title=\" \",\n",
    "        axis=alt.Axis(format=\"\", title=\"\", tickCount=6),\n",
    "    ),\n",
    "    facet=alt.Facet(\"county\"),\n",
    ").properties(width=300, height=300, title=\"m50 in SoCal Counties\")"
   ]
  },
  {
   "cell_type": "code",
   "execution_count": null,
   "metadata": {},
   "outputs": [],
   "source": []
  },
  {
   "cell_type": "code",
   "execution_count": null,
   "metadata": {},
   "outputs": [],
   "source": []
  }
 ],
 "metadata": {
  "kernelspec": {
   "display_name": "Python 3",
   "language": "python",
   "name": "python3"
  },
  "language_info": {
   "codemirror_mode": {
    "name": "ipython",
    "version": 3
   },
   "file_extension": ".py",
   "mimetype": "text/x-python",
   "name": "python",
   "nbconvert_exporter": "python",
   "pygments_lexer": "ipython3",
   "version": "3.7.4"
  }
 },
 "nbformat": 4,
 "nbformat_minor": 4
}
